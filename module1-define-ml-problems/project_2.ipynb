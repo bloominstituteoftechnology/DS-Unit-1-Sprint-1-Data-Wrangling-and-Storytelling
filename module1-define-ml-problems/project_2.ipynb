{
  "nbformat": 4,
  "nbformat_minor": 0,
  "metadata": {
    "colab": {
      "name": "project_2.ipynb",
      "provenance": [],
      "authorship_tag": "ABX9TyN2owMs7t0U1B3e/N66b6t0",
      "include_colab_link": true
    },
    "kernelspec": {
      "name": "python3",
      "display_name": "Python 3"
    }
  },
  "cells": [
    {
      "cell_type": "markdown",
      "metadata": {
        "id": "view-in-github",
        "colab_type": "text"
      },
      "source": [
        "<a href=\"https://colab.research.google.com/github/joeyMckinney/DS-Unit-1-Sprint-1-Data-Wrangling-and-Storytelling/blob/master/module1-define-ml-problems/project_2.ipynb\" target=\"_parent\"><img src=\"https://colab.research.google.com/assets/colab-badge.svg\" alt=\"Open In Colab\"/></a>"
      ]
    },
    {
      "cell_type": "code",
      "metadata": {
        "id": "7sGfJNgzY7hA",
        "colab_type": "code",
        "colab": {}
      },
      "source": [
        "import numpy as np\n",
        "import pandas as pd"
      ],
      "execution_count": null,
      "outputs": []
    },
    {
      "cell_type": "code",
      "metadata": {
        "id": "AYxbdTt4ZN4_",
        "colab_type": "code",
        "colab": {}
      },
      "source": [
        "df = pd.read_csv('https://raw.githubusercontent.com/joeyMckinney/unit_2_biuld_week/master/pulsar_stars.csv')"
      ],
      "execution_count": null,
      "outputs": []
    },
    {
      "cell_type": "code",
      "metadata": {
        "id": "h1B3v1O0dRLO",
        "colab_type": "code",
        "colab": {
          "base_uri": "https://localhost:8080/",
          "height": 238
        },
        "outputId": "486fb23b-163c-4754-c09a-5b618fb4b6cb"
      },
      "source": [
        "df.head()"
      ],
      "execution_count": null,
      "outputs": [
        {
          "output_type": "execute_result",
          "data": {
            "text/html": [
              "<div>\n",
              "<style scoped>\n",
              "    .dataframe tbody tr th:only-of-type {\n",
              "        vertical-align: middle;\n",
              "    }\n",
              "\n",
              "    .dataframe tbody tr th {\n",
              "        vertical-align: top;\n",
              "    }\n",
              "\n",
              "    .dataframe thead th {\n",
              "        text-align: right;\n",
              "    }\n",
              "</style>\n",
              "<table border=\"1\" class=\"dataframe\">\n",
              "  <thead>\n",
              "    <tr style=\"text-align: right;\">\n",
              "      <th></th>\n",
              "      <th>Mean of the integrated profile</th>\n",
              "      <th>Standard deviation of the integrated profile</th>\n",
              "      <th>Excess kurtosis of the integrated profile</th>\n",
              "      <th>Skewness of the integrated profile</th>\n",
              "      <th>Mean of the DM-SNR curve</th>\n",
              "      <th>Standard deviation of the DM-SNR curve</th>\n",
              "      <th>Excess kurtosis of the DM-SNR curve</th>\n",
              "      <th>Skewness of the DM-SNR curve</th>\n",
              "      <th>target_class</th>\n",
              "    </tr>\n",
              "  </thead>\n",
              "  <tbody>\n",
              "    <tr>\n",
              "      <th>0</th>\n",
              "      <td>140.562500</td>\n",
              "      <td>55.683782</td>\n",
              "      <td>-0.234571</td>\n",
              "      <td>-0.699648</td>\n",
              "      <td>3.199833</td>\n",
              "      <td>19.110426</td>\n",
              "      <td>7.975532</td>\n",
              "      <td>74.242225</td>\n",
              "      <td>0</td>\n",
              "    </tr>\n",
              "    <tr>\n",
              "      <th>1</th>\n",
              "      <td>102.507812</td>\n",
              "      <td>58.882430</td>\n",
              "      <td>0.465318</td>\n",
              "      <td>-0.515088</td>\n",
              "      <td>1.677258</td>\n",
              "      <td>14.860146</td>\n",
              "      <td>10.576487</td>\n",
              "      <td>127.393580</td>\n",
              "      <td>0</td>\n",
              "    </tr>\n",
              "    <tr>\n",
              "      <th>2</th>\n",
              "      <td>103.015625</td>\n",
              "      <td>39.341649</td>\n",
              "      <td>0.323328</td>\n",
              "      <td>1.051164</td>\n",
              "      <td>3.121237</td>\n",
              "      <td>21.744669</td>\n",
              "      <td>7.735822</td>\n",
              "      <td>63.171909</td>\n",
              "      <td>0</td>\n",
              "    </tr>\n",
              "    <tr>\n",
              "      <th>3</th>\n",
              "      <td>136.750000</td>\n",
              "      <td>57.178449</td>\n",
              "      <td>-0.068415</td>\n",
              "      <td>-0.636238</td>\n",
              "      <td>3.642977</td>\n",
              "      <td>20.959280</td>\n",
              "      <td>6.896499</td>\n",
              "      <td>53.593661</td>\n",
              "      <td>0</td>\n",
              "    </tr>\n",
              "    <tr>\n",
              "      <th>4</th>\n",
              "      <td>88.726562</td>\n",
              "      <td>40.672225</td>\n",
              "      <td>0.600866</td>\n",
              "      <td>1.123492</td>\n",
              "      <td>1.178930</td>\n",
              "      <td>11.468720</td>\n",
              "      <td>14.269573</td>\n",
              "      <td>252.567306</td>\n",
              "      <td>0</td>\n",
              "    </tr>\n",
              "  </tbody>\n",
              "</table>\n",
              "</div>"
            ],
            "text/plain": [
              "    Mean of the integrated profile  ...  target_class\n",
              "0                       140.562500  ...             0\n",
              "1                       102.507812  ...             0\n",
              "2                       103.015625  ...             0\n",
              "3                       136.750000  ...             0\n",
              "4                        88.726562  ...             0\n",
              "\n",
              "[5 rows x 9 columns]"
            ]
          },
          "metadata": {
            "tags": []
          },
          "execution_count": 18
        }
      ]
    },
    {
      "cell_type": "code",
      "metadata": {
        "id": "aQxADCqRdSZz",
        "colab_type": "code",
        "colab": {
          "base_uri": "https://localhost:8080/",
          "height": 187
        },
        "outputId": "31be45f9-d415-4f59-8288-180f0262c9a0"
      },
      "source": [
        "df.isnull().sum()"
      ],
      "execution_count": null,
      "outputs": [
        {
          "output_type": "execute_result",
          "data": {
            "text/plain": [
              " Mean of the integrated profile                  0\n",
              " Standard deviation of the integrated profile    0\n",
              " Excess kurtosis of the integrated profile       0\n",
              " Skewness of the integrated profile              0\n",
              " Mean of the DM-SNR curve                        0\n",
              " Standard deviation of the DM-SNR curve          0\n",
              " Excess kurtosis of the DM-SNR curve             0\n",
              " Skewness of the DM-SNR curve                    0\n",
              "target_class                                     0\n",
              "dtype: int64"
            ]
          },
          "metadata": {
            "tags": []
          },
          "execution_count": 19
        }
      ]
    },
    {
      "cell_type": "code",
      "metadata": {
        "id": "9CSHdVu6dYxm",
        "colab_type": "code",
        "colab": {
          "base_uri": "https://localhost:8080/",
          "height": 289
        },
        "outputId": "e0a73ae0-070f-4b01-afeb-75573c4c9d20"
      },
      "source": [
        "df.info()"
      ],
      "execution_count": null,
      "outputs": [
        {
          "output_type": "stream",
          "text": [
            "<class 'pandas.core.frame.DataFrame'>\n",
            "RangeIndex: 17898 entries, 0 to 17897\n",
            "Data columns (total 9 columns):\n",
            " #   Column                                         Non-Null Count  Dtype  \n",
            "---  ------                                         --------------  -----  \n",
            " 0    Mean of the integrated profile                17898 non-null  float64\n",
            " 1    Standard deviation of the integrated profile  17898 non-null  float64\n",
            " 2    Excess kurtosis of the integrated profile     17898 non-null  float64\n",
            " 3    Skewness of the integrated profile            17898 non-null  float64\n",
            " 4    Mean of the DM-SNR curve                      17898 non-null  float64\n",
            " 5    Standard deviation of the DM-SNR curve        17898 non-null  float64\n",
            " 6    Excess kurtosis of the DM-SNR curve           17898 non-null  float64\n",
            " 7    Skewness of the DM-SNR curve                  17898 non-null  float64\n",
            " 8   target_class                                   17898 non-null  int64  \n",
            "dtypes: float64(8), int64(1)\n",
            "memory usage: 1.2 MB\n"
          ],
          "name": "stdout"
        }
      ]
    },
    {
      "cell_type": "code",
      "metadata": {
        "id": "RDupeNnkeaXi",
        "colab_type": "code",
        "colab": {
          "base_uri": "https://localhost:8080/",
          "height": 348
        },
        "outputId": "58e5303a-479f-46ad-8e39-cefec7c60320"
      },
      "source": [
        "df.describe()"
      ],
      "execution_count": null,
      "outputs": [
        {
          "output_type": "execute_result",
          "data": {
            "text/html": [
              "<div>\n",
              "<style scoped>\n",
              "    .dataframe tbody tr th:only-of-type {\n",
              "        vertical-align: middle;\n",
              "    }\n",
              "\n",
              "    .dataframe tbody tr th {\n",
              "        vertical-align: top;\n",
              "    }\n",
              "\n",
              "    .dataframe thead th {\n",
              "        text-align: right;\n",
              "    }\n",
              "</style>\n",
              "<table border=\"1\" class=\"dataframe\">\n",
              "  <thead>\n",
              "    <tr style=\"text-align: right;\">\n",
              "      <th></th>\n",
              "      <th>Mean of the integrated profile</th>\n",
              "      <th>Standard deviation of the integrated profile</th>\n",
              "      <th>Excess kurtosis of the integrated profile</th>\n",
              "      <th>Skewness of the integrated profile</th>\n",
              "      <th>Mean of the DM-SNR curve</th>\n",
              "      <th>Standard deviation of the DM-SNR curve</th>\n",
              "      <th>Excess kurtosis of the DM-SNR curve</th>\n",
              "      <th>Skewness of the DM-SNR curve</th>\n",
              "      <th>target_class</th>\n",
              "    </tr>\n",
              "  </thead>\n",
              "  <tbody>\n",
              "    <tr>\n",
              "      <th>count</th>\n",
              "      <td>17898.000000</td>\n",
              "      <td>17898.000000</td>\n",
              "      <td>17898.000000</td>\n",
              "      <td>17898.000000</td>\n",
              "      <td>17898.000000</td>\n",
              "      <td>17898.000000</td>\n",
              "      <td>17898.000000</td>\n",
              "      <td>17898.000000</td>\n",
              "      <td>17898.000000</td>\n",
              "    </tr>\n",
              "    <tr>\n",
              "      <th>mean</th>\n",
              "      <td>111.079968</td>\n",
              "      <td>46.549532</td>\n",
              "      <td>0.477857</td>\n",
              "      <td>1.770279</td>\n",
              "      <td>12.614400</td>\n",
              "      <td>26.326515</td>\n",
              "      <td>8.303556</td>\n",
              "      <td>104.857709</td>\n",
              "      <td>0.091574</td>\n",
              "    </tr>\n",
              "    <tr>\n",
              "      <th>std</th>\n",
              "      <td>25.652935</td>\n",
              "      <td>6.843189</td>\n",
              "      <td>1.064040</td>\n",
              "      <td>6.167913</td>\n",
              "      <td>29.472897</td>\n",
              "      <td>19.470572</td>\n",
              "      <td>4.506092</td>\n",
              "      <td>106.514540</td>\n",
              "      <td>0.288432</td>\n",
              "    </tr>\n",
              "    <tr>\n",
              "      <th>min</th>\n",
              "      <td>5.812500</td>\n",
              "      <td>24.772042</td>\n",
              "      <td>-1.876011</td>\n",
              "      <td>-1.791886</td>\n",
              "      <td>0.213211</td>\n",
              "      <td>7.370432</td>\n",
              "      <td>-3.139270</td>\n",
              "      <td>-1.976976</td>\n",
              "      <td>0.000000</td>\n",
              "    </tr>\n",
              "    <tr>\n",
              "      <th>25%</th>\n",
              "      <td>100.929688</td>\n",
              "      <td>42.376018</td>\n",
              "      <td>0.027098</td>\n",
              "      <td>-0.188572</td>\n",
              "      <td>1.923077</td>\n",
              "      <td>14.437332</td>\n",
              "      <td>5.781506</td>\n",
              "      <td>34.960504</td>\n",
              "      <td>0.000000</td>\n",
              "    </tr>\n",
              "    <tr>\n",
              "      <th>50%</th>\n",
              "      <td>115.078125</td>\n",
              "      <td>46.947479</td>\n",
              "      <td>0.223240</td>\n",
              "      <td>0.198710</td>\n",
              "      <td>2.801839</td>\n",
              "      <td>18.461316</td>\n",
              "      <td>8.433515</td>\n",
              "      <td>83.064556</td>\n",
              "      <td>0.000000</td>\n",
              "    </tr>\n",
              "    <tr>\n",
              "      <th>75%</th>\n",
              "      <td>127.085938</td>\n",
              "      <td>51.023202</td>\n",
              "      <td>0.473325</td>\n",
              "      <td>0.927783</td>\n",
              "      <td>5.464256</td>\n",
              "      <td>28.428104</td>\n",
              "      <td>10.702959</td>\n",
              "      <td>139.309331</td>\n",
              "      <td>0.000000</td>\n",
              "    </tr>\n",
              "    <tr>\n",
              "      <th>max</th>\n",
              "      <td>192.617188</td>\n",
              "      <td>98.778911</td>\n",
              "      <td>8.069522</td>\n",
              "      <td>68.101622</td>\n",
              "      <td>223.392140</td>\n",
              "      <td>110.642211</td>\n",
              "      <td>34.539844</td>\n",
              "      <td>1191.000837</td>\n",
              "      <td>1.000000</td>\n",
              "    </tr>\n",
              "  </tbody>\n",
              "</table>\n",
              "</div>"
            ],
            "text/plain": [
              "        Mean of the integrated profile  ...  target_class\n",
              "count                     17898.000000  ...  17898.000000\n",
              "mean                        111.079968  ...      0.091574\n",
              "std                          25.652935  ...      0.288432\n",
              "min                           5.812500  ...      0.000000\n",
              "25%                         100.929688  ...      0.000000\n",
              "50%                         115.078125  ...      0.000000\n",
              "75%                         127.085938  ...      0.000000\n",
              "max                         192.617188  ...      1.000000\n",
              "\n",
              "[8 rows x 9 columns]"
            ]
          },
          "metadata": {
            "tags": []
          },
          "execution_count": 21
        }
      ]
    },
    {
      "cell_type": "code",
      "metadata": {
        "id": "XpyM275SfYKw",
        "colab_type": "code",
        "colab": {}
      },
      "source": [
        "df2 = pd.read_csv('https://raw.githubusercontent.com/joeyMckinney/unit_2_biuld_week/master/dataset-of-90s.csv')"
      ],
      "execution_count": null,
      "outputs": []
    },
    {
      "cell_type": "code",
      "metadata": {
        "id": "OYDITw76haaI",
        "colab_type": "code",
        "colab": {
          "base_uri": "https://localhost:8080/",
          "height": 394
        },
        "outputId": "19eac9e8-514c-4434-a9d3-ac4601d49dbe"
      },
      "source": [
        "df2.head()"
      ],
      "execution_count": null,
      "outputs": [
        {
          "output_type": "execute_result",
          "data": {
            "text/html": [
              "<div>\n",
              "<style scoped>\n",
              "    .dataframe tbody tr th:only-of-type {\n",
              "        vertical-align: middle;\n",
              "    }\n",
              "\n",
              "    .dataframe tbody tr th {\n",
              "        vertical-align: top;\n",
              "    }\n",
              "\n",
              "    .dataframe thead th {\n",
              "        text-align: right;\n",
              "    }\n",
              "</style>\n",
              "<table border=\"1\" class=\"dataframe\">\n",
              "  <thead>\n",
              "    <tr style=\"text-align: right;\">\n",
              "      <th></th>\n",
              "      <th>track</th>\n",
              "      <th>artist</th>\n",
              "      <th>uri</th>\n",
              "      <th>danceability</th>\n",
              "      <th>energy</th>\n",
              "      <th>key</th>\n",
              "      <th>loudness</th>\n",
              "      <th>mode</th>\n",
              "      <th>speechiness</th>\n",
              "      <th>acousticness</th>\n",
              "      <th>instrumentalness</th>\n",
              "      <th>liveness</th>\n",
              "      <th>valence</th>\n",
              "      <th>tempo</th>\n",
              "      <th>duration_ms</th>\n",
              "      <th>time_signature</th>\n",
              "      <th>chorus_hit</th>\n",
              "      <th>sections</th>\n",
              "      <th>target</th>\n",
              "    </tr>\n",
              "  </thead>\n",
              "  <tbody>\n",
              "    <tr>\n",
              "      <th>0</th>\n",
              "      <td>Misty Roses</td>\n",
              "      <td>Astrud Gilberto</td>\n",
              "      <td>spotify:track:50RBM1j1Dw7WYmsGsWg9Tm</td>\n",
              "      <td>0.527</td>\n",
              "      <td>0.316</td>\n",
              "      <td>1</td>\n",
              "      <td>-15.769</td>\n",
              "      <td>1</td>\n",
              "      <td>0.0310</td>\n",
              "      <td>0.693000</td>\n",
              "      <td>0.00699</td>\n",
              "      <td>0.1680</td>\n",
              "      <td>0.543</td>\n",
              "      <td>116.211</td>\n",
              "      <td>158840</td>\n",
              "      <td>4</td>\n",
              "      <td>53.89523</td>\n",
              "      <td>6</td>\n",
              "      <td>0</td>\n",
              "    </tr>\n",
              "    <tr>\n",
              "      <th>1</th>\n",
              "      <td>Never Ever</td>\n",
              "      <td>All Saints</td>\n",
              "      <td>spotify:track:5FTz9qQ94PyUHETyAyfYZN</td>\n",
              "      <td>0.738</td>\n",
              "      <td>0.541</td>\n",
              "      <td>1</td>\n",
              "      <td>-5.485</td>\n",
              "      <td>1</td>\n",
              "      <td>0.0311</td>\n",
              "      <td>0.559000</td>\n",
              "      <td>0.00000</td>\n",
              "      <td>0.0492</td>\n",
              "      <td>0.309</td>\n",
              "      <td>134.187</td>\n",
              "      <td>387573</td>\n",
              "      <td>4</td>\n",
              "      <td>32.16853</td>\n",
              "      <td>16</td>\n",
              "      <td>1</td>\n",
              "    </tr>\n",
              "    <tr>\n",
              "      <th>2</th>\n",
              "      <td>Soul Sermon</td>\n",
              "      <td>Gregg Karukas</td>\n",
              "      <td>spotify:track:6m24oe3lk1UMxq9zq4iPFi</td>\n",
              "      <td>0.736</td>\n",
              "      <td>0.419</td>\n",
              "      <td>0</td>\n",
              "      <td>-10.662</td>\n",
              "      <td>1</td>\n",
              "      <td>0.0300</td>\n",
              "      <td>0.693000</td>\n",
              "      <td>0.49500</td>\n",
              "      <td>0.0809</td>\n",
              "      <td>0.265</td>\n",
              "      <td>93.982</td>\n",
              "      <td>237267</td>\n",
              "      <td>4</td>\n",
              "      <td>42.05369</td>\n",
              "      <td>9</td>\n",
              "      <td>0</td>\n",
              "    </tr>\n",
              "    <tr>\n",
              "      <th>3</th>\n",
              "      <td>Clarinet Marmalade - Live</td>\n",
              "      <td>Alton Purnell</td>\n",
              "      <td>spotify:track:5FOXuiLI6knVtgMUjWKj6x</td>\n",
              "      <td>0.565</td>\n",
              "      <td>0.594</td>\n",
              "      <td>5</td>\n",
              "      <td>-13.086</td>\n",
              "      <td>1</td>\n",
              "      <td>0.0646</td>\n",
              "      <td>0.655000</td>\n",
              "      <td>0.92600</td>\n",
              "      <td>0.6750</td>\n",
              "      <td>0.763</td>\n",
              "      <td>114.219</td>\n",
              "      <td>375933</td>\n",
              "      <td>4</td>\n",
              "      <td>80.99693</td>\n",
              "      <td>10</td>\n",
              "      <td>0</td>\n",
              "    </tr>\n",
              "    <tr>\n",
              "      <th>4</th>\n",
              "      <td>До смерті і довше - Drum &amp; Base and Rock Remix</td>\n",
              "      <td>Skryabin</td>\n",
              "      <td>spotify:track:6CxyIPTqSPvAPXfrIZczs4</td>\n",
              "      <td>0.513</td>\n",
              "      <td>0.760</td>\n",
              "      <td>4</td>\n",
              "      <td>-10.077</td>\n",
              "      <td>1</td>\n",
              "      <td>0.0355</td>\n",
              "      <td>0.000017</td>\n",
              "      <td>0.00339</td>\n",
              "      <td>0.1530</td>\n",
              "      <td>0.961</td>\n",
              "      <td>153.166</td>\n",
              "      <td>430653</td>\n",
              "      <td>4</td>\n",
              "      <td>25.57331</td>\n",
              "      <td>20</td>\n",
              "      <td>0</td>\n",
              "    </tr>\n",
              "  </tbody>\n",
              "</table>\n",
              "</div>"
            ],
            "text/plain": [
              "                                            track  ... target\n",
              "0                                     Misty Roses  ...      0\n",
              "1                                      Never Ever  ...      1\n",
              "2                                     Soul Sermon  ...      0\n",
              "3                       Clarinet Marmalade - Live  ...      0\n",
              "4  До смерті і довше - Drum & Base and Rock Remix  ...      0\n",
              "\n",
              "[5 rows x 19 columns]"
            ]
          },
          "metadata": {
            "tags": []
          },
          "execution_count": 28
        }
      ]
    },
    {
      "cell_type": "code",
      "metadata": {
        "id": "_WPkEJAehcps",
        "colab_type": "code",
        "colab": {
          "base_uri": "https://localhost:8080/",
          "height": 34
        },
        "outputId": "863d1402-e387-46e1-8013-ebfb87693547"
      },
      "source": [
        "df.shape"
      ],
      "execution_count": null,
      "outputs": [
        {
          "output_type": "execute_result",
          "data": {
            "text/plain": [
              "(17898, 9)"
            ]
          },
          "metadata": {
            "tags": []
          },
          "execution_count": 29
        }
      ]
    },
    {
      "cell_type": "code",
      "metadata": {
        "id": "ThHdXDbchgzj",
        "colab_type": "code",
        "colab": {
          "base_uri": "https://localhost:8080/",
          "height": 459
        },
        "outputId": "1b083c63-11a2-4ad0-aa4e-eb6976a6e67d"
      },
      "source": [
        "df2.info()"
      ],
      "execution_count": null,
      "outputs": [
        {
          "output_type": "stream",
          "text": [
            "<class 'pandas.core.frame.DataFrame'>\n",
            "RangeIndex: 5520 entries, 0 to 5519\n",
            "Data columns (total 19 columns):\n",
            " #   Column            Non-Null Count  Dtype  \n",
            "---  ------            --------------  -----  \n",
            " 0   track             5520 non-null   object \n",
            " 1   artist            5520 non-null   object \n",
            " 2   uri               5520 non-null   object \n",
            " 3   danceability      5520 non-null   float64\n",
            " 4   energy            5520 non-null   float64\n",
            " 5   key               5520 non-null   int64  \n",
            " 6   loudness          5520 non-null   float64\n",
            " 7   mode              5520 non-null   int64  \n",
            " 8   speechiness       5520 non-null   float64\n",
            " 9   acousticness      5520 non-null   float64\n",
            " 10  instrumentalness  5520 non-null   float64\n",
            " 11  liveness          5520 non-null   float64\n",
            " 12  valence           5520 non-null   float64\n",
            " 13  tempo             5520 non-null   float64\n",
            " 14  duration_ms       5520 non-null   int64  \n",
            " 15  time_signature    5520 non-null   int64  \n",
            " 16  chorus_hit        5520 non-null   float64\n",
            " 17  sections          5520 non-null   int64  \n",
            " 18  target            5520 non-null   int64  \n",
            "dtypes: float64(10), int64(6), object(3)\n",
            "memory usage: 819.5+ KB\n"
          ],
          "name": "stdout"
        }
      ]
    },
    {
      "cell_type": "code",
      "metadata": {
        "id": "QMc-KSkJhk-K",
        "colab_type": "code",
        "colab": {
          "base_uri": "https://localhost:8080/",
          "height": 317
        },
        "outputId": "0d271b3a-4bc2-45eb-b2fd-6d8c1538163e"
      },
      "source": [
        "df2.describe()"
      ],
      "execution_count": null,
      "outputs": [
        {
          "output_type": "execute_result",
          "data": {
            "text/html": [
              "<div>\n",
              "<style scoped>\n",
              "    .dataframe tbody tr th:only-of-type {\n",
              "        vertical-align: middle;\n",
              "    }\n",
              "\n",
              "    .dataframe tbody tr th {\n",
              "        vertical-align: top;\n",
              "    }\n",
              "\n",
              "    .dataframe thead th {\n",
              "        text-align: right;\n",
              "    }\n",
              "</style>\n",
              "<table border=\"1\" class=\"dataframe\">\n",
              "  <thead>\n",
              "    <tr style=\"text-align: right;\">\n",
              "      <th></th>\n",
              "      <th>danceability</th>\n",
              "      <th>energy</th>\n",
              "      <th>key</th>\n",
              "      <th>loudness</th>\n",
              "      <th>mode</th>\n",
              "      <th>speechiness</th>\n",
              "      <th>acousticness</th>\n",
              "      <th>instrumentalness</th>\n",
              "      <th>liveness</th>\n",
              "      <th>valence</th>\n",
              "      <th>tempo</th>\n",
              "      <th>duration_ms</th>\n",
              "      <th>time_signature</th>\n",
              "      <th>chorus_hit</th>\n",
              "      <th>sections</th>\n",
              "      <th>target</th>\n",
              "    </tr>\n",
              "  </thead>\n",
              "  <tbody>\n",
              "    <tr>\n",
              "      <th>count</th>\n",
              "      <td>5520.000000</td>\n",
              "      <td>5520.000000</td>\n",
              "      <td>5520.000000</td>\n",
              "      <td>5520.000000</td>\n",
              "      <td>5520.000000</td>\n",
              "      <td>5520.000000</td>\n",
              "      <td>5520.00000</td>\n",
              "      <td>5520.000000</td>\n",
              "      <td>5520.000000</td>\n",
              "      <td>5520.000000</td>\n",
              "      <td>5520.000000</td>\n",
              "      <td>5.520000e+03</td>\n",
              "      <td>5520.000000</td>\n",
              "      <td>5520.000000</td>\n",
              "      <td>5520.000000</td>\n",
              "      <td>5520.000000</td>\n",
              "    </tr>\n",
              "    <tr>\n",
              "      <th>mean</th>\n",
              "      <td>0.566893</td>\n",
              "      <td>0.602246</td>\n",
              "      <td>5.263043</td>\n",
              "      <td>-10.235112</td>\n",
              "      <td>0.669565</td>\n",
              "      <td>0.073996</td>\n",
              "      <td>0.29122</td>\n",
              "      <td>0.159886</td>\n",
              "      <td>0.197202</td>\n",
              "      <td>0.537685</td>\n",
              "      <td>118.840424</td>\n",
              "      <td>2.562110e+05</td>\n",
              "      <td>3.922464</td>\n",
              "      <td>40.999358</td>\n",
              "      <td>11.128261</td>\n",
              "      <td>0.500000</td>\n",
              "    </tr>\n",
              "    <tr>\n",
              "      <th>std</th>\n",
              "      <td>0.180373</td>\n",
              "      <td>0.252189</td>\n",
              "      <td>3.511379</td>\n",
              "      <td>5.117146</td>\n",
              "      <td>0.470412</td>\n",
              "      <td>0.081979</td>\n",
              "      <td>0.32463</td>\n",
              "      <td>0.304407</td>\n",
              "      <td>0.174573</td>\n",
              "      <td>0.257688</td>\n",
              "      <td>29.489480</td>\n",
              "      <td>1.034398e+05</td>\n",
              "      <td>0.352768</td>\n",
              "      <td>19.941630</td>\n",
              "      <td>4.485026</td>\n",
              "      <td>0.500045</td>\n",
              "    </tr>\n",
              "    <tr>\n",
              "      <th>min</th>\n",
              "      <td>0.057600</td>\n",
              "      <td>0.000357</td>\n",
              "      <td>0.000000</td>\n",
              "      <td>-49.253000</td>\n",
              "      <td>0.000000</td>\n",
              "      <td>0.022000</td>\n",
              "      <td>0.00000</td>\n",
              "      <td>0.000000</td>\n",
              "      <td>0.013000</td>\n",
              "      <td>0.000000</td>\n",
              "      <td>34.535000</td>\n",
              "      <td>1.953300e+04</td>\n",
              "      <td>1.000000</td>\n",
              "      <td>0.000000</td>\n",
              "      <td>1.000000</td>\n",
              "      <td>0.000000</td>\n",
              "    </tr>\n",
              "    <tr>\n",
              "      <th>25%</th>\n",
              "      <td>0.451000</td>\n",
              "      <td>0.435000</td>\n",
              "      <td>2.000000</td>\n",
              "      <td>-12.207250</td>\n",
              "      <td>0.000000</td>\n",
              "      <td>0.033100</td>\n",
              "      <td>0.01800</td>\n",
              "      <td>0.000000</td>\n",
              "      <td>0.089675</td>\n",
              "      <td>0.330000</td>\n",
              "      <td>96.422000</td>\n",
              "      <td>2.027532e+05</td>\n",
              "      <td>4.000000</td>\n",
              "      <td>28.065100</td>\n",
              "      <td>9.000000</td>\n",
              "      <td>0.000000</td>\n",
              "    </tr>\n",
              "    <tr>\n",
              "      <th>50%</th>\n",
              "      <td>0.586000</td>\n",
              "      <td>0.634500</td>\n",
              "      <td>5.000000</td>\n",
              "      <td>-9.091000</td>\n",
              "      <td>1.000000</td>\n",
              "      <td>0.043200</td>\n",
              "      <td>0.14000</td>\n",
              "      <td>0.000228</td>\n",
              "      <td>0.127000</td>\n",
              "      <td>0.556000</td>\n",
              "      <td>114.959000</td>\n",
              "      <td>2.467200e+05</td>\n",
              "      <td>4.000000</td>\n",
              "      <td>36.512680</td>\n",
              "      <td>11.000000</td>\n",
              "      <td>0.500000</td>\n",
              "    </tr>\n",
              "    <tr>\n",
              "      <th>75%</th>\n",
              "      <td>0.699000</td>\n",
              "      <td>0.811000</td>\n",
              "      <td>8.000000</td>\n",
              "      <td>-6.893750</td>\n",
              "      <td>1.000000</td>\n",
              "      <td>0.072825</td>\n",
              "      <td>0.52725</td>\n",
              "      <td>0.091375</td>\n",
              "      <td>0.259000</td>\n",
              "      <td>0.751000</td>\n",
              "      <td>135.988000</td>\n",
              "      <td>2.899070e+05</td>\n",
              "      <td>4.000000</td>\n",
              "      <td>48.628155</td>\n",
              "      <td>13.000000</td>\n",
              "      <td>1.000000</td>\n",
              "    </tr>\n",
              "    <tr>\n",
              "      <th>max</th>\n",
              "      <td>0.979000</td>\n",
              "      <td>0.998000</td>\n",
              "      <td>11.000000</td>\n",
              "      <td>-1.169000</td>\n",
              "      <td>1.000000</td>\n",
              "      <td>0.950000</td>\n",
              "      <td>0.99600</td>\n",
              "      <td>0.997000</td>\n",
              "      <td>0.992000</td>\n",
              "      <td>0.996000</td>\n",
              "      <td>217.943000</td>\n",
              "      <td>1.711800e+06</td>\n",
              "      <td>5.000000</td>\n",
              "      <td>235.060740</td>\n",
              "      <td>69.000000</td>\n",
              "      <td>1.000000</td>\n",
              "    </tr>\n",
              "  </tbody>\n",
              "</table>\n",
              "</div>"
            ],
            "text/plain": [
              "       danceability       energy  ...     sections       target\n",
              "count   5520.000000  5520.000000  ...  5520.000000  5520.000000\n",
              "mean       0.566893     0.602246  ...    11.128261     0.500000\n",
              "std        0.180373     0.252189  ...     4.485026     0.500045\n",
              "min        0.057600     0.000357  ...     1.000000     0.000000\n",
              "25%        0.451000     0.435000  ...     9.000000     0.000000\n",
              "50%        0.586000     0.634500  ...    11.000000     0.500000\n",
              "75%        0.699000     0.811000  ...    13.000000     1.000000\n",
              "max        0.979000     0.998000  ...    69.000000     1.000000\n",
              "\n",
              "[8 rows x 16 columns]"
            ]
          },
          "metadata": {
            "tags": []
          },
          "execution_count": 32
        }
      ]
    },
    {
      "cell_type": "code",
      "metadata": {
        "id": "yG5zHEGDhoxS",
        "colab_type": "code",
        "colab": {
          "base_uri": "https://localhost:8080/",
          "height": 357
        },
        "outputId": "0967de1f-3faa-4f0d-81fa-a29e1d235b48"
      },
      "source": [
        "df2.isnull().sum()"
      ],
      "execution_count": null,
      "outputs": [
        {
          "output_type": "execute_result",
          "data": {
            "text/plain": [
              "track               0\n",
              "artist              0\n",
              "uri                 0\n",
              "danceability        0\n",
              "energy              0\n",
              "key                 0\n",
              "loudness            0\n",
              "mode                0\n",
              "speechiness         0\n",
              "acousticness        0\n",
              "instrumentalness    0\n",
              "liveness            0\n",
              "valence             0\n",
              "tempo               0\n",
              "duration_ms         0\n",
              "time_signature      0\n",
              "chorus_hit          0\n",
              "sections            0\n",
              "target              0\n",
              "dtype: int64"
            ]
          },
          "metadata": {
            "tags": []
          },
          "execution_count": 33
        }
      ]
    },
    {
      "cell_type": "code",
      "metadata": {
        "id": "lzKE64bPhsZK",
        "colab_type": "code",
        "colab": {}
      },
      "source": [
        ""
      ],
      "execution_count": null,
      "outputs": []
    }
  ]
}