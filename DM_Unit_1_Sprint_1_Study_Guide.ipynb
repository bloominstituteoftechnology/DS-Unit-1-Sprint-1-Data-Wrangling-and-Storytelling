{
  "nbformat": 4,
  "nbformat_minor": 0,
  "metadata": {
    "colab": {
      "name": "DM_Unit 1 Sprint 1 - Study Guide.ipynb",
      "provenance": [],
      "collapsed_sections": [],
      "include_colab_link": true
    },
    "kernelspec": {
      "name": "python3",
      "display_name": "Python 3"
    }
  },
  "cells": [
    {
      "cell_type": "markdown",
      "metadata": {
        "id": "view-in-github",
        "colab_type": "text"
      },
      "source": [
        "<a href=\"https://colab.research.google.com/github/d-melamed/DS-Unit-1-Sprint-1-Data-Wrangling-and-Storytelling/blob/master/DM_Unit_1_Sprint_1_Study_Guide.ipynb\" target=\"_parent\"><img src=\"https://colab.research.google.com/assets/colab-badge.svg\" alt=\"Open In Colab\"/></a>"
      ]
    },
    {
      "cell_type": "markdown",
      "metadata": {
        "id": "Nd2OOOVXxXS1",
        "colab_type": "text"
      },
      "source": [
        "This study guide should reinforce and provide practice for all of the concepts you have seen in Unit 1 Sprint 1. There are a mix of written questions and coding exercises, both are equally important to prepare you for the sprint challenge as well as to be able to speak on these topics comfortably in interviews and on the job.\n",
        "\n",
        "If you get stuck or are unsure of something remember the 20 minute rule. If that doesn't help, then research a solution with google and stackoverflow. Only once you have exausted these methods should you turn to your Team Lead - they won't be there on your SC or during an interview. That being said, don't hesitate to ask for help if you truly are stuck.\n",
        "\n",
        "Have fun studying!"
      ]
    },
    {
      "cell_type": "markdown",
      "metadata": {
        "id": "fpvInKdXekFi",
        "colab_type": "text"
      },
      "source": [
        "## Questions"
      ]
    },
    {
      "cell_type": "markdown",
      "metadata": {
        "id": "Q6bS8AhBZ86H",
        "colab_type": "text"
      },
      "source": [
        "When completing this section, try to limit your answers to 2-3 sentences max and use plain english as much as possible. It's very easy to hide incomplete knowledge and undertanding behind fancy or technical words, so imagine you are explaining these things to a non-technical interviewer.\n",
        "\n",
        "1. What is a Data Frame?\n",
        "```\n",
        "It is a set of information that can be organized into a table format to be read by a programing language.  in our case python.\n",
        "```\n",
        "\n",
        "2. What is Pandas?\n",
        "```\n",
        "An instruction library used in python to allow one to use and minipulate dataframe information for analysis and workflow application.\n",
        "```\n",
        "\n",
        "3. How do you check for NaNs?\n",
        "```\n",
        "use the isnull command\n",
        "```\n",
        "\n",
        "4. What is numpy?\n",
        "```\n",
        "it is a math library for python to manipulate array and matrix information\n",
        "```\n",
        "5. What library will you use to plot?\n",
        "```\n",
        "boca, matplotlib, seaborn\n",
        "```"
      ]
    },
    {
      "cell_type": "markdown",
      "metadata": {
        "id": "sj5-1Nnkpej6",
        "colab_type": "text"
      },
      "source": [
        "### what to study"
      ]
    },
    {
      "cell_type": "markdown",
      "metadata": {
        "id": "vz6CusBmpDgz",
        "colab_type": "text"
      },
      "source": [
        "Numpy\n",
        "```\n",
        "```\n",
        "Pandas\n",
        "```\n",
        "```\n",
        "Seaborn\n",
        "```\n",
        "```\n",
        "Matplotlib\n",
        "```\n",
        "```\n",
        "Pairplot\n",
        "```\n",
        "```\n",
        "Analysis and Interpretation\n",
        "```\n"
      ]
    },
    {
      "cell_type": "markdown",
      "metadata": {
        "id": "VfXSYhY_SH64",
        "colab_type": "text"
      },
      "source": [
        "**Numpy:** Top 10 most used functions\n",
        "\n",
        "**Pandas:** "
      ]
    },
    {
      "cell_type": "markdown",
      "metadata": {
        "id": "dUQaIwbceohq",
        "colab_type": "text"
      },
      "source": [
        "## Practice Problems"
      ]
    },
    {
      "cell_type": "markdown",
      "metadata": {
        "id": "4jnYgnFjP6eE",
        "colab_type": "text"
      },
      "source": [
        "Import pandas\n"
      ]
    },
    {
      "cell_type": "code",
      "metadata": {
        "id": "S9hFYrmqQlLA",
        "colab_type": "code",
        "colab": {}
      },
      "source": [
        "import pandas as pd"
      ],
      "execution_count": 8,
      "outputs": []
    },
    {
      "cell_type": "markdown",
      "metadata": {
        "id": "bCbET5ioQlmQ",
        "colab_type": "text"
      },
      "source": [
        "Import seaborn\n"
      ]
    },
    {
      "cell_type": "code",
      "metadata": {
        "id": "lwNwPn5nQowi",
        "colab_type": "code",
        "colab": {}
      },
      "source": [
        "import seaborn as sns"
      ],
      "execution_count": 9,
      "outputs": []
    },
    {
      "cell_type": "markdown",
      "metadata": {
        "id": "2hq-PhcTQph7",
        "colab_type": "text"
      },
      "source": [
        "Import numpy"
      ]
    },
    {
      "cell_type": "code",
      "metadata": {
        "id": "ZsWsuYwXRRP3",
        "colab_type": "code",
        "colab": {}
      },
      "source": [
        "import numpy as np"
      ],
      "execution_count": 10,
      "outputs": []
    },
    {
      "cell_type": "markdown",
      "metadata": {
        "id": "jVqQYLgxld7M",
        "colab_type": "text"
      },
      "source": [
        "Import matplotlib"
      ]
    },
    {
      "cell_type": "code",
      "metadata": {
        "id": "ScovMuwvRdtq",
        "colab_type": "code",
        "colab": {}
      },
      "source": [
        "import matplotlib.pyplot as plt"
      ],
      "execution_count": 11,
      "outputs": []
    },
    {
      "cell_type": "markdown",
      "metadata": {
        "id": "uD5cTw9plh9c",
        "colab_type": "text"
      },
      "source": [
        "Loading and viewing a Dataframe"
      ]
    },
    {
      "cell_type": "code",
      "metadata": {
        "id": "fGTEIHo9mFNy",
        "colab_type": "code",
        "colab": {
          "base_uri": "https://localhost:8080/",
          "height": 51
        },
        "outputId": "ff3a6473-1856-43a7-c627-7f5fd5de075c"
      },
      "source": [
        "!unzip /content/450249_850978_compressed_FIFAdatas.csv.zip"
      ],
      "execution_count": 12,
      "outputs": [
        {
          "output_type": "stream",
          "text": [
            "Archive:  /content/450249_850978_compressed_FIFAdatas.csv.zip\n",
            "  inflating: FIFAdatas.csv           \n"
          ],
          "name": "stdout"
        }
      ]
    },
    {
      "cell_type": "code",
      "metadata": {
        "id": "XlazD59ClhXi",
        "colab_type": "code",
        "colab": {}
      },
      "source": [
        "df = pd.read_csv(\"/content/FIFAdatas.csv\")"
      ],
      "execution_count": 13,
      "outputs": []
    },
    {
      "cell_type": "code",
      "metadata": {
        "id": "9JQw8F4xrG0u",
        "colab_type": "code",
        "colab": {
          "base_uri": "https://localhost:8080/",
          "height": 292
        },
        "outputId": "51aef578-879b-4095-dbb9-5ff1b2cbd45f"
      },
      "source": [
        "df.head()"
      ],
      "execution_count": 14,
      "outputs": [
        {
          "output_type": "execute_result",
          "data": {
            "text/html": [
              "<div>\n",
              "<style scoped>\n",
              "    .dataframe tbody tr th:only-of-type {\n",
              "        vertical-align: middle;\n",
              "    }\n",
              "\n",
              "    .dataframe tbody tr th {\n",
              "        vertical-align: top;\n",
              "    }\n",
              "\n",
              "    .dataframe thead th {\n",
              "        text-align: right;\n",
              "    }\n",
              "</style>\n",
              "<table border=\"1\" class=\"dataframe\">\n",
              "  <thead>\n",
              "    <tr style=\"text-align: right;\">\n",
              "      <th></th>\n",
              "      <th>ID</th>\n",
              "      <th>picture</th>\n",
              "      <th>Flag</th>\n",
              "      <th>Name</th>\n",
              "      <th>Age</th>\n",
              "      <th>Position</th>\n",
              "      <th>Overall</th>\n",
              "      <th>Potential</th>\n",
              "      <th>Team_Image</th>\n",
              "      <th>Team</th>\n",
              "      <th>Value</th>\n",
              "      <th>Wage</th>\n",
              "      <th>Total_Point</th>\n",
              "    </tr>\n",
              "  </thead>\n",
              "  <tbody>\n",
              "    <tr>\n",
              "      <th>0</th>\n",
              "      <td>237692</td>\n",
              "      <td>https://cdn.sofifa.org/players/4/20/237692.png</td>\n",
              "      <td>https://cdn.sofifa.org/flags/14.png</td>\n",
              "      <td>P. Foden</td>\n",
              "      <td>['19']</td>\n",
              "      <td>CAM</td>\n",
              "      <td>76</td>\n",
              "      <td>89</td>\n",
              "      <td>https://cdn.sofifa.org/teams/2/light/10.png</td>\n",
              "      <td>Manchester City</td>\n",
              "      <td>€14.5M</td>\n",
              "      <td>€52K</td>\n",
              "      <td>1881</td>\n",
              "    </tr>\n",
              "    <tr>\n",
              "      <th>1</th>\n",
              "      <td>212188</td>\n",
              "      <td>https://cdn.sofifa.org/players/4/20/212188.png</td>\n",
              "      <td>https://cdn.sofifa.org/flags/21.png</td>\n",
              "      <td>T. Werner</td>\n",
              "      <td>['23']</td>\n",
              "      <td>ST</td>\n",
              "      <td>84</td>\n",
              "      <td>88</td>\n",
              "      <td>https://cdn.sofifa.org/teams/2/light/112172.png</td>\n",
              "      <td>RB Leipzig</td>\n",
              "      <td>€41M</td>\n",
              "      <td>€77K</td>\n",
              "      <td>1983</td>\n",
              "    </tr>\n",
              "    <tr>\n",
              "      <th>2</th>\n",
              "      <td>239085</td>\n",
              "      <td>https://cdn.sofifa.org/players/4/20/239085.png</td>\n",
              "      <td>https://cdn.sofifa.org/flags/36.png</td>\n",
              "      <td>E. Håland</td>\n",
              "      <td>['18']</td>\n",
              "      <td>ST</td>\n",
              "      <td>78</td>\n",
              "      <td>89</td>\n",
              "      <td>https://cdn.sofifa.org/teams/2/light/191.png</td>\n",
              "      <td>FC Red Bull Salzburg</td>\n",
              "      <td>€16.5M</td>\n",
              "      <td>€17K</td>\n",
              "      <td>1897</td>\n",
              "    </tr>\n",
              "    <tr>\n",
              "      <th>3</th>\n",
              "      <td>248243</td>\n",
              "      <td>https://cdn.sofifa.org/players/4/20/248243.png</td>\n",
              "      <td>https://cdn.sofifa.org/flags/18.png</td>\n",
              "      <td>E. Camavinga</td>\n",
              "      <td>['16']</td>\n",
              "      <td>CM</td>\n",
              "      <td>70</td>\n",
              "      <td>90</td>\n",
              "      <td>https://cdn.sofifa.org/teams/2/light/74.png</td>\n",
              "      <td>Stade Rennais FC</td>\n",
              "      <td>€3.5M</td>\n",
              "      <td>€3K</td>\n",
              "      <td>1879</td>\n",
              "    </tr>\n",
              "    <tr>\n",
              "      <th>4</th>\n",
              "      <td>238160</td>\n",
              "      <td>https://cdn.sofifa.org/players/4/20/238160.png</td>\n",
              "      <td>https://cdn.sofifa.org/flags/48.png</td>\n",
              "      <td>M. Demiral</td>\n",
              "      <td>['21']</td>\n",
              "      <td>CB</td>\n",
              "      <td>74</td>\n",
              "      <td>85</td>\n",
              "      <td>https://cdn.sofifa.org/teams/2/light/45.png</td>\n",
              "      <td>Juventus</td>\n",
              "      <td>€9M</td>\n",
              "      <td>€45K</td>\n",
              "      <td>1651</td>\n",
              "    </tr>\n",
              "  </tbody>\n",
              "</table>\n",
              "</div>"
            ],
            "text/plain": [
              "       ID                                         picture  ...  Wage Total_Point\n",
              "0  237692  https://cdn.sofifa.org/players/4/20/237692.png  ...  €52K        1881\n",
              "1  212188  https://cdn.sofifa.org/players/4/20/212188.png  ...  €77K        1983\n",
              "2  239085  https://cdn.sofifa.org/players/4/20/239085.png  ...  €17K        1897\n",
              "3  248243  https://cdn.sofifa.org/players/4/20/248243.png  ...   €3K        1879\n",
              "4  238160  https://cdn.sofifa.org/players/4/20/238160.png  ...  €45K        1651\n",
              "\n",
              "[5 rows x 13 columns]"
            ]
          },
          "metadata": {
            "tags": []
          },
          "execution_count": 14
        }
      ]
    },
    {
      "cell_type": "markdown",
      "metadata": {
        "id": "JyThYBHGlm60",
        "colab_type": "text"
      },
      "source": [
        "Using the loaded DataFrame to create and display a plot or graph."
      ]
    },
    {
      "cell_type": "code",
      "metadata": {
        "id": "-jv4Ht8jaECM",
        "colab_type": "code",
        "colab": {
          "base_uri": "https://localhost:8080/",
          "height": 292
        },
        "outputId": "75bbff7b-9632-4f43-df9c-5541b16a53b9"
      },
      "source": [
        "df.tail()"
      ],
      "execution_count": 15,
      "outputs": [
        {
          "output_type": "execute_result",
          "data": {
            "text/html": [
              "<div>\n",
              "<style scoped>\n",
              "    .dataframe tbody tr th:only-of-type {\n",
              "        vertical-align: middle;\n",
              "    }\n",
              "\n",
              "    .dataframe tbody tr th {\n",
              "        vertical-align: top;\n",
              "    }\n",
              "\n",
              "    .dataframe thead th {\n",
              "        text-align: right;\n",
              "    }\n",
              "</style>\n",
              "<table border=\"1\" class=\"dataframe\">\n",
              "  <thead>\n",
              "    <tr style=\"text-align: right;\">\n",
              "      <th></th>\n",
              "      <th>ID</th>\n",
              "      <th>picture</th>\n",
              "      <th>Flag</th>\n",
              "      <th>Name</th>\n",
              "      <th>Age</th>\n",
              "      <th>Position</th>\n",
              "      <th>Overall</th>\n",
              "      <th>Potential</th>\n",
              "      <th>Team_Image</th>\n",
              "      <th>Team</th>\n",
              "      <th>Value</th>\n",
              "      <th>Wage</th>\n",
              "      <th>Total_Point</th>\n",
              "    </tr>\n",
              "  </thead>\n",
              "  <tbody>\n",
              "    <tr>\n",
              "      <th>17995</th>\n",
              "      <td>228702</td>\n",
              "      <td>https://cdn.sofifa.org/players/4/20/228702.png</td>\n",
              "      <td>https://cdn.sofifa.org/flags/34.png</td>\n",
              "      <td>F. de Jong</td>\n",
              "      <td>['22']</td>\n",
              "      <td>CM</td>\n",
              "      <td>86</td>\n",
              "      <td>92</td>\n",
              "      <td>https://cdn.sofifa.org/teams/2/light/241.png</td>\n",
              "      <td>FC Barcelona</td>\n",
              "      <td>€60M</td>\n",
              "      <td>€210K</td>\n",
              "      <td>2193</td>\n",
              "    </tr>\n",
              "    <tr>\n",
              "      <th>17996</th>\n",
              "      <td>246419</td>\n",
              "      <td>https://cdn.sofifa.org/players/4/20/246419.png</td>\n",
              "      <td>https://cdn.sofifa.org/flags/7.png</td>\n",
              "      <td>Y. Verschaeren</td>\n",
              "      <td>['17']</td>\n",
              "      <td>CAM</td>\n",
              "      <td>73</td>\n",
              "      <td>87</td>\n",
              "      <td>https://cdn.sofifa.org/teams/2/light/229.png</td>\n",
              "      <td>RSC Anderlecht</td>\n",
              "      <td>€8M</td>\n",
              "      <td>€2K</td>\n",
              "      <td>1839</td>\n",
              "    </tr>\n",
              "    <tr>\n",
              "      <th>17997</th>\n",
              "      <td>240740</td>\n",
              "      <td>https://cdn.sofifa.org/players/4/20/240740.png</td>\n",
              "      <td>https://cdn.sofifa.org/flags/14.png</td>\n",
              "      <td>C. Hudson-Odoi</td>\n",
              "      <td>['18']</td>\n",
              "      <td>LW</td>\n",
              "      <td>74</td>\n",
              "      <td>88</td>\n",
              "      <td>https://cdn.sofifa.org/teams/2/light/5.png</td>\n",
              "      <td>Chelsea</td>\n",
              "      <td>€11.5M</td>\n",
              "      <td>€31K</td>\n",
              "      <td>1801</td>\n",
              "    </tr>\n",
              "    <tr>\n",
              "      <th>17998</th>\n",
              "      <td>232104</td>\n",
              "      <td>https://cdn.sofifa.org/players/4/20/232104.png</td>\n",
              "      <td>https://cdn.sofifa.org/flags/50.png</td>\n",
              "      <td>D. James</td>\n",
              "      <td>['21']</td>\n",
              "      <td>LM</td>\n",
              "      <td>75</td>\n",
              "      <td>85</td>\n",
              "      <td>https://cdn.sofifa.org/teams/2/light/11.png</td>\n",
              "      <td>Manchester United</td>\n",
              "      <td>€11M</td>\n",
              "      <td>€61K</td>\n",
              "      <td>1821</td>\n",
              "    </tr>\n",
              "    <tr>\n",
              "      <th>17999</th>\n",
              "      <td>246763</td>\n",
              "      <td>https://cdn.sofifa.org/players/4/20/246763.png</td>\n",
              "      <td>https://cdn.sofifa.org/flags/34.png</td>\n",
              "      <td>K. Hoever</td>\n",
              "      <td>['17']</td>\n",
              "      <td>RB</td>\n",
              "      <td>62</td>\n",
              "      <td>85</td>\n",
              "      <td>https://cdn.sofifa.org/teams/2/light/9.png</td>\n",
              "      <td>Liverpool</td>\n",
              "      <td>€625K</td>\n",
              "      <td>€1K</td>\n",
              "      <td>1640</td>\n",
              "    </tr>\n",
              "  </tbody>\n",
              "</table>\n",
              "</div>"
            ],
            "text/plain": [
              "           ID  ... Total_Point\n",
              "17995  228702  ...        2193\n",
              "17996  246419  ...        1839\n",
              "17997  240740  ...        1801\n",
              "17998  232104  ...        1821\n",
              "17999  246763  ...        1640\n",
              "\n",
              "[5 rows x 13 columns]"
            ]
          },
          "metadata": {
            "tags": []
          },
          "execution_count": 15
        }
      ]
    },
    {
      "cell_type": "code",
      "metadata": {
        "id": "pr_vT8VSmK6J",
        "colab_type": "code",
        "colab": {
          "base_uri": "https://localhost:8080/",
          "height": 255
        },
        "outputId": "c6face7c-d75d-40a0-de19-f7d6a28dafdd"
      },
      "source": [
        "df.isnull().sum()"
      ],
      "execution_count": 16,
      "outputs": [
        {
          "output_type": "execute_result",
          "data": {
            "text/plain": [
              "ID             0\n",
              "picture        0\n",
              "Flag           0\n",
              "Name           0\n",
              "Age            0\n",
              "Position       0\n",
              "Overall        0\n",
              "Potential      0\n",
              "Team_Image     0\n",
              "Team           0\n",
              "Value          0\n",
              "Wage           0\n",
              "Total_Point    0\n",
              "dtype: int64"
            ]
          },
          "metadata": {
            "tags": []
          },
          "execution_count": 16
        }
      ]
    },
    {
      "cell_type": "code",
      "metadata": {
        "id": "TS10pz2Arj_0",
        "colab_type": "code",
        "colab": {
          "base_uri": "https://localhost:8080/",
          "height": 255
        },
        "outputId": "e14dc12e-0f14-4b08-85d3-119d3eddd308"
      },
      "source": [
        "df.dtypes"
      ],
      "execution_count": 17,
      "outputs": [
        {
          "output_type": "execute_result",
          "data": {
            "text/plain": [
              "ID              int64\n",
              "picture        object\n",
              "Flag           object\n",
              "Name           object\n",
              "Age            object\n",
              "Position       object\n",
              "Overall         int64\n",
              "Potential       int64\n",
              "Team_Image     object\n",
              "Team           object\n",
              "Value          object\n",
              "Wage           object\n",
              "Total_Point     int64\n",
              "dtype: object"
            ]
          },
          "metadata": {
            "tags": []
          },
          "execution_count": 17
        }
      ]
    },
    {
      "cell_type": "code",
      "metadata": {
        "id": "s-Cip3AryYnQ",
        "colab_type": "code",
        "colab": {}
      },
      "source": [
        "def age_to_int(age):\n",
        "  return int(age.strip(\"['\").strip(\"']\"))"
      ],
      "execution_count": 18,
      "outputs": []
    },
    {
      "cell_type": "code",
      "metadata": {
        "id": "itjFj9lpw1kR",
        "colab_type": "code",
        "colab": {}
      },
      "source": [
        "def Value_to_float(value):\n",
        "  if \"M\" in value:\n",
        "    return float(value.strip(\"€\").strip(\"M\"))\n",
        "  if \"M\" in value:\n",
        "    return float(value.strip(\"€\").strip(\"K\"))"
      ],
      "execution_count": 19,
      "outputs": []
    },
    {
      "cell_type": "code",
      "metadata": {
        "id": "IHgMcVOWsBpE",
        "colab_type": "code",
        "colab": {}
      },
      "source": [
        "df['Age'] = df['Age'].apply(age_to_int)"
      ],
      "execution_count": 20,
      "outputs": []
    },
    {
      "cell_type": "code",
      "metadata": {
        "id": "TTygL04ayj9U",
        "colab_type": "code",
        "colab": {}
      },
      "source": [
        "df['Value(M)'] = df['Value'].apply(Value_to_float)"
      ],
      "execution_count": 21,
      "outputs": []
    },
    {
      "cell_type": "code",
      "metadata": {
        "id": "-sgFJTMRsHqX",
        "colab_type": "code",
        "colab": {
          "base_uri": "https://localhost:8080/",
          "height": 292
        },
        "outputId": "e0f49930-4561-4f64-8cbd-c348197c7e95"
      },
      "source": [
        "df.head()"
      ],
      "execution_count": 22,
      "outputs": [
        {
          "output_type": "execute_result",
          "data": {
            "text/html": [
              "<div>\n",
              "<style scoped>\n",
              "    .dataframe tbody tr th:only-of-type {\n",
              "        vertical-align: middle;\n",
              "    }\n",
              "\n",
              "    .dataframe tbody tr th {\n",
              "        vertical-align: top;\n",
              "    }\n",
              "\n",
              "    .dataframe thead th {\n",
              "        text-align: right;\n",
              "    }\n",
              "</style>\n",
              "<table border=\"1\" class=\"dataframe\">\n",
              "  <thead>\n",
              "    <tr style=\"text-align: right;\">\n",
              "      <th></th>\n",
              "      <th>ID</th>\n",
              "      <th>picture</th>\n",
              "      <th>Flag</th>\n",
              "      <th>Name</th>\n",
              "      <th>Age</th>\n",
              "      <th>Position</th>\n",
              "      <th>Overall</th>\n",
              "      <th>Potential</th>\n",
              "      <th>Team_Image</th>\n",
              "      <th>Team</th>\n",
              "      <th>Value</th>\n",
              "      <th>Wage</th>\n",
              "      <th>Total_Point</th>\n",
              "      <th>Value(M)</th>\n",
              "    </tr>\n",
              "  </thead>\n",
              "  <tbody>\n",
              "    <tr>\n",
              "      <th>0</th>\n",
              "      <td>237692</td>\n",
              "      <td>https://cdn.sofifa.org/players/4/20/237692.png</td>\n",
              "      <td>https://cdn.sofifa.org/flags/14.png</td>\n",
              "      <td>P. Foden</td>\n",
              "      <td>19</td>\n",
              "      <td>CAM</td>\n",
              "      <td>76</td>\n",
              "      <td>89</td>\n",
              "      <td>https://cdn.sofifa.org/teams/2/light/10.png</td>\n",
              "      <td>Manchester City</td>\n",
              "      <td>€14.5M</td>\n",
              "      <td>€52K</td>\n",
              "      <td>1881</td>\n",
              "      <td>14.5</td>\n",
              "    </tr>\n",
              "    <tr>\n",
              "      <th>1</th>\n",
              "      <td>212188</td>\n",
              "      <td>https://cdn.sofifa.org/players/4/20/212188.png</td>\n",
              "      <td>https://cdn.sofifa.org/flags/21.png</td>\n",
              "      <td>T. Werner</td>\n",
              "      <td>23</td>\n",
              "      <td>ST</td>\n",
              "      <td>84</td>\n",
              "      <td>88</td>\n",
              "      <td>https://cdn.sofifa.org/teams/2/light/112172.png</td>\n",
              "      <td>RB Leipzig</td>\n",
              "      <td>€41M</td>\n",
              "      <td>€77K</td>\n",
              "      <td>1983</td>\n",
              "      <td>41.0</td>\n",
              "    </tr>\n",
              "    <tr>\n",
              "      <th>2</th>\n",
              "      <td>239085</td>\n",
              "      <td>https://cdn.sofifa.org/players/4/20/239085.png</td>\n",
              "      <td>https://cdn.sofifa.org/flags/36.png</td>\n",
              "      <td>E. Håland</td>\n",
              "      <td>18</td>\n",
              "      <td>ST</td>\n",
              "      <td>78</td>\n",
              "      <td>89</td>\n",
              "      <td>https://cdn.sofifa.org/teams/2/light/191.png</td>\n",
              "      <td>FC Red Bull Salzburg</td>\n",
              "      <td>€16.5M</td>\n",
              "      <td>€17K</td>\n",
              "      <td>1897</td>\n",
              "      <td>16.5</td>\n",
              "    </tr>\n",
              "    <tr>\n",
              "      <th>3</th>\n",
              "      <td>248243</td>\n",
              "      <td>https://cdn.sofifa.org/players/4/20/248243.png</td>\n",
              "      <td>https://cdn.sofifa.org/flags/18.png</td>\n",
              "      <td>E. Camavinga</td>\n",
              "      <td>16</td>\n",
              "      <td>CM</td>\n",
              "      <td>70</td>\n",
              "      <td>90</td>\n",
              "      <td>https://cdn.sofifa.org/teams/2/light/74.png</td>\n",
              "      <td>Stade Rennais FC</td>\n",
              "      <td>€3.5M</td>\n",
              "      <td>€3K</td>\n",
              "      <td>1879</td>\n",
              "      <td>3.5</td>\n",
              "    </tr>\n",
              "    <tr>\n",
              "      <th>4</th>\n",
              "      <td>238160</td>\n",
              "      <td>https://cdn.sofifa.org/players/4/20/238160.png</td>\n",
              "      <td>https://cdn.sofifa.org/flags/48.png</td>\n",
              "      <td>M. Demiral</td>\n",
              "      <td>21</td>\n",
              "      <td>CB</td>\n",
              "      <td>74</td>\n",
              "      <td>85</td>\n",
              "      <td>https://cdn.sofifa.org/teams/2/light/45.png</td>\n",
              "      <td>Juventus</td>\n",
              "      <td>€9M</td>\n",
              "      <td>€45K</td>\n",
              "      <td>1651</td>\n",
              "      <td>9.0</td>\n",
              "    </tr>\n",
              "  </tbody>\n",
              "</table>\n",
              "</div>"
            ],
            "text/plain": [
              "       ID  ... Value(M)\n",
              "0  237692  ...     14.5\n",
              "1  212188  ...     41.0\n",
              "2  239085  ...     16.5\n",
              "3  248243  ...      3.5\n",
              "4  238160  ...      9.0\n",
              "\n",
              "[5 rows x 14 columns]"
            ]
          },
          "metadata": {
            "tags": []
          },
          "execution_count": 22
        }
      ]
    },
    {
      "cell_type": "code",
      "metadata": {
        "id": "ffEBaqgYuA1E",
        "colab_type": "code",
        "colab": {}
      },
      "source": [
        "df = df.drop(['picture', 'Flag', 'Team_Image'], axis=1)"
      ],
      "execution_count": 23,
      "outputs": []
    },
    {
      "cell_type": "code",
      "metadata": {
        "id": "crfxMtVFhHtC",
        "colab_type": "code",
        "colab": {}
      },
      "source": [
        "df['Growth'] = df['Potential'] - df['Overall']"
      ],
      "execution_count": 24,
      "outputs": []
    },
    {
      "cell_type": "code",
      "metadata": {
        "id": "msxoDP5hu4At",
        "colab_type": "code",
        "colab": {
          "base_uri": "https://localhost:8080/",
          "height": 292
        },
        "outputId": "a7db0edf-5e84-4da3-917f-2768e18001dc"
      },
      "source": [
        "df.head()"
      ],
      "execution_count": 25,
      "outputs": [
        {
          "output_type": "execute_result",
          "data": {
            "text/html": [
              "<div>\n",
              "<style scoped>\n",
              "    .dataframe tbody tr th:only-of-type {\n",
              "        vertical-align: middle;\n",
              "    }\n",
              "\n",
              "    .dataframe tbody tr th {\n",
              "        vertical-align: top;\n",
              "    }\n",
              "\n",
              "    .dataframe thead th {\n",
              "        text-align: right;\n",
              "    }\n",
              "</style>\n",
              "<table border=\"1\" class=\"dataframe\">\n",
              "  <thead>\n",
              "    <tr style=\"text-align: right;\">\n",
              "      <th></th>\n",
              "      <th>ID</th>\n",
              "      <th>Name</th>\n",
              "      <th>Age</th>\n",
              "      <th>Position</th>\n",
              "      <th>Overall</th>\n",
              "      <th>Potential</th>\n",
              "      <th>Team</th>\n",
              "      <th>Value</th>\n",
              "      <th>Wage</th>\n",
              "      <th>Total_Point</th>\n",
              "      <th>Value(M)</th>\n",
              "      <th>Growth</th>\n",
              "    </tr>\n",
              "  </thead>\n",
              "  <tbody>\n",
              "    <tr>\n",
              "      <th>0</th>\n",
              "      <td>237692</td>\n",
              "      <td>P. Foden</td>\n",
              "      <td>19</td>\n",
              "      <td>CAM</td>\n",
              "      <td>76</td>\n",
              "      <td>89</td>\n",
              "      <td>Manchester City</td>\n",
              "      <td>€14.5M</td>\n",
              "      <td>€52K</td>\n",
              "      <td>1881</td>\n",
              "      <td>14.5</td>\n",
              "      <td>13</td>\n",
              "    </tr>\n",
              "    <tr>\n",
              "      <th>1</th>\n",
              "      <td>212188</td>\n",
              "      <td>T. Werner</td>\n",
              "      <td>23</td>\n",
              "      <td>ST</td>\n",
              "      <td>84</td>\n",
              "      <td>88</td>\n",
              "      <td>RB Leipzig</td>\n",
              "      <td>€41M</td>\n",
              "      <td>€77K</td>\n",
              "      <td>1983</td>\n",
              "      <td>41.0</td>\n",
              "      <td>4</td>\n",
              "    </tr>\n",
              "    <tr>\n",
              "      <th>2</th>\n",
              "      <td>239085</td>\n",
              "      <td>E. Håland</td>\n",
              "      <td>18</td>\n",
              "      <td>ST</td>\n",
              "      <td>78</td>\n",
              "      <td>89</td>\n",
              "      <td>FC Red Bull Salzburg</td>\n",
              "      <td>€16.5M</td>\n",
              "      <td>€17K</td>\n",
              "      <td>1897</td>\n",
              "      <td>16.5</td>\n",
              "      <td>11</td>\n",
              "    </tr>\n",
              "    <tr>\n",
              "      <th>3</th>\n",
              "      <td>248243</td>\n",
              "      <td>E. Camavinga</td>\n",
              "      <td>16</td>\n",
              "      <td>CM</td>\n",
              "      <td>70</td>\n",
              "      <td>90</td>\n",
              "      <td>Stade Rennais FC</td>\n",
              "      <td>€3.5M</td>\n",
              "      <td>€3K</td>\n",
              "      <td>1879</td>\n",
              "      <td>3.5</td>\n",
              "      <td>20</td>\n",
              "    </tr>\n",
              "    <tr>\n",
              "      <th>4</th>\n",
              "      <td>238160</td>\n",
              "      <td>M. Demiral</td>\n",
              "      <td>21</td>\n",
              "      <td>CB</td>\n",
              "      <td>74</td>\n",
              "      <td>85</td>\n",
              "      <td>Juventus</td>\n",
              "      <td>€9M</td>\n",
              "      <td>€45K</td>\n",
              "      <td>1651</td>\n",
              "      <td>9.0</td>\n",
              "      <td>11</td>\n",
              "    </tr>\n",
              "  </tbody>\n",
              "</table>\n",
              "</div>"
            ],
            "text/plain": [
              "       ID          Name  Age Position  ...  Wage  Total_Point Value(M) Growth\n",
              "0  237692      P. Foden   19      CAM  ...  €52K         1881     14.5     13\n",
              "1  212188     T. Werner   23       ST  ...  €77K         1983     41.0      4\n",
              "2  239085     E. Håland   18       ST  ...  €17K         1897     16.5     11\n",
              "3  248243  E. Camavinga   16       CM  ...   €3K         1879      3.5     20\n",
              "4  238160    M. Demiral   21       CB  ...  €45K         1651      9.0     11\n",
              "\n",
              "[5 rows x 12 columns]"
            ]
          },
          "metadata": {
            "tags": []
          },
          "execution_count": 25
        }
      ]
    },
    {
      "cell_type": "code",
      "metadata": {
        "id": "8DvNfgibu41z",
        "colab_type": "code",
        "colab": {
          "base_uri": "https://localhost:8080/",
          "height": 204
        },
        "outputId": "c7a1c0bb-f076-4446-ea9c-52de6db937f4"
      },
      "source": [
        "tograph = df.drop(['ID', 'Age', 'Position', 'Total_Point'], axis=1)\n",
        "tograph.head()"
      ],
      "execution_count": 26,
      "outputs": [
        {
          "output_type": "execute_result",
          "data": {
            "text/html": [
              "<div>\n",
              "<style scoped>\n",
              "    .dataframe tbody tr th:only-of-type {\n",
              "        vertical-align: middle;\n",
              "    }\n",
              "\n",
              "    .dataframe tbody tr th {\n",
              "        vertical-align: top;\n",
              "    }\n",
              "\n",
              "    .dataframe thead th {\n",
              "        text-align: right;\n",
              "    }\n",
              "</style>\n",
              "<table border=\"1\" class=\"dataframe\">\n",
              "  <thead>\n",
              "    <tr style=\"text-align: right;\">\n",
              "      <th></th>\n",
              "      <th>Name</th>\n",
              "      <th>Overall</th>\n",
              "      <th>Potential</th>\n",
              "      <th>Team</th>\n",
              "      <th>Value</th>\n",
              "      <th>Wage</th>\n",
              "      <th>Value(M)</th>\n",
              "      <th>Growth</th>\n",
              "    </tr>\n",
              "  </thead>\n",
              "  <tbody>\n",
              "    <tr>\n",
              "      <th>0</th>\n",
              "      <td>P. Foden</td>\n",
              "      <td>76</td>\n",
              "      <td>89</td>\n",
              "      <td>Manchester City</td>\n",
              "      <td>€14.5M</td>\n",
              "      <td>€52K</td>\n",
              "      <td>14.5</td>\n",
              "      <td>13</td>\n",
              "    </tr>\n",
              "    <tr>\n",
              "      <th>1</th>\n",
              "      <td>T. Werner</td>\n",
              "      <td>84</td>\n",
              "      <td>88</td>\n",
              "      <td>RB Leipzig</td>\n",
              "      <td>€41M</td>\n",
              "      <td>€77K</td>\n",
              "      <td>41.0</td>\n",
              "      <td>4</td>\n",
              "    </tr>\n",
              "    <tr>\n",
              "      <th>2</th>\n",
              "      <td>E. Håland</td>\n",
              "      <td>78</td>\n",
              "      <td>89</td>\n",
              "      <td>FC Red Bull Salzburg</td>\n",
              "      <td>€16.5M</td>\n",
              "      <td>€17K</td>\n",
              "      <td>16.5</td>\n",
              "      <td>11</td>\n",
              "    </tr>\n",
              "    <tr>\n",
              "      <th>3</th>\n",
              "      <td>E. Camavinga</td>\n",
              "      <td>70</td>\n",
              "      <td>90</td>\n",
              "      <td>Stade Rennais FC</td>\n",
              "      <td>€3.5M</td>\n",
              "      <td>€3K</td>\n",
              "      <td>3.5</td>\n",
              "      <td>20</td>\n",
              "    </tr>\n",
              "    <tr>\n",
              "      <th>4</th>\n",
              "      <td>M. Demiral</td>\n",
              "      <td>74</td>\n",
              "      <td>85</td>\n",
              "      <td>Juventus</td>\n",
              "      <td>€9M</td>\n",
              "      <td>€45K</td>\n",
              "      <td>9.0</td>\n",
              "      <td>11</td>\n",
              "    </tr>\n",
              "  </tbody>\n",
              "</table>\n",
              "</div>"
            ],
            "text/plain": [
              "           Name  Overall  Potential  ...  Wage Value(M) Growth\n",
              "0      P. Foden       76         89  ...  €52K     14.5     13\n",
              "1     T. Werner       84         88  ...  €77K     41.0      4\n",
              "2     E. Håland       78         89  ...  €17K     16.5     11\n",
              "3  E. Camavinga       70         90  ...   €3K      3.5     20\n",
              "4    M. Demiral       74         85  ...  €45K      9.0     11\n",
              "\n",
              "[5 rows x 8 columns]"
            ]
          },
          "metadata": {
            "tags": []
          },
          "execution_count": 26
        }
      ]
    },
    {
      "cell_type": "code",
      "metadata": {
        "id": "7209anX2vR74",
        "colab_type": "code",
        "colab": {
          "base_uri": "https://localhost:8080/",
          "height": 279
        },
        "outputId": "f8044bd8-e2c3-480c-8dfd-b73b59366bb3"
      },
      "source": [
        "import matplotlib.pyplot as plt\n",
        "\n",
        "tograph.plot.scatter('Value(M)', 'Growth');"
      ],
      "execution_count": 27,
      "outputs": [
        {
          "output_type": "display_data",
          "data": {
            "image/png": "[encoded data removed]",
            "text/plain": [
              "<Figure size 432x288 with 1 Axes>"
            ]
          },
          "metadata": {
            "tags": [],
            "needs_background": "light"
          }
        }
      ]
    },
    {
      "cell_type": "code",
      "metadata": {
        "id": "aDIotpo9vwSu",
        "colab_type": "code",
        "colab": {
          "base_uri": "https://localhost:8080/",
          "height": 265
        },
        "outputId": "0cc4ced4-78fb-4e00-b648-ec5597a44886"
      },
      "source": [
        "tograph['Overall'].plot.density();"
      ],
      "execution_count": 28,
      "outputs": [
        {
          "output_type": "display_data",
          "data": {
            "image/png": "[encoded data removed]",
            "text/plain": [
              "<Figure size 432x288 with 1 Axes>"
            ]
          },
          "metadata": {
            "tags": [],
            "needs_background": "light"
          }
        }
      ]
    },
    {
      "cell_type": "code",
      "metadata": {
        "id": "TNmX-ozFwLHH",
        "colab_type": "code",
        "colab": {
          "base_uri": "https://localhost:8080/",
          "height": 173
        },
        "outputId": "1486942c-39c3-4120-b039-f0aa74121b72"
      },
      "source": [
        "tograph.corr()"
      ],
      "execution_count": 29,
      "outputs": [
        {
          "output_type": "execute_result",
          "data": {
            "text/html": [
              "<div>\n",
              "<style scoped>\n",
              "    .dataframe tbody tr th:only-of-type {\n",
              "        vertical-align: middle;\n",
              "    }\n",
              "\n",
              "    .dataframe tbody tr th {\n",
              "        vertical-align: top;\n",
              "    }\n",
              "\n",
              "    .dataframe thead th {\n",
              "        text-align: right;\n",
              "    }\n",
              "</style>\n",
              "<table border=\"1\" class=\"dataframe\">\n",
              "  <thead>\n",
              "    <tr style=\"text-align: right;\">\n",
              "      <th></th>\n",
              "      <th>Overall</th>\n",
              "      <th>Potential</th>\n",
              "      <th>Value(M)</th>\n",
              "      <th>Growth</th>\n",
              "    </tr>\n",
              "  </thead>\n",
              "  <tbody>\n",
              "    <tr>\n",
              "      <th>Overall</th>\n",
              "      <td>1.000000</td>\n",
              "      <td>0.532109</td>\n",
              "      <td>0.882134</td>\n",
              "      <td>-0.852103</td>\n",
              "    </tr>\n",
              "    <tr>\n",
              "      <th>Potential</th>\n",
              "      <td>0.532109</td>\n",
              "      <td>1.000000</td>\n",
              "      <td>0.610514</td>\n",
              "      <td>-0.010284</td>\n",
              "    </tr>\n",
              "    <tr>\n",
              "      <th>Value(M)</th>\n",
              "      <td>0.882134</td>\n",
              "      <td>0.610514</td>\n",
              "      <td>1.000000</td>\n",
              "      <td>-0.627558</td>\n",
              "    </tr>\n",
              "    <tr>\n",
              "      <th>Growth</th>\n",
              "      <td>-0.852103</td>\n",
              "      <td>-0.010284</td>\n",
              "      <td>-0.627558</td>\n",
              "      <td>1.000000</td>\n",
              "    </tr>\n",
              "  </tbody>\n",
              "</table>\n",
              "</div>"
            ],
            "text/plain": [
              "            Overall  Potential  Value(M)    Growth\n",
              "Overall    1.000000   0.532109  0.882134 -0.852103\n",
              "Potential  0.532109   1.000000  0.610514 -0.010284\n",
              "Value(M)   0.882134   0.610514  1.000000 -0.627558\n",
              "Growth    -0.852103  -0.010284 -0.627558  1.000000"
            ]
          },
          "metadata": {
            "tags": []
          },
          "execution_count": 29
        }
      ]
    },
    {
      "cell_type": "code",
      "metadata": {
        "id": "g15pxhH6ejAz",
        "colab_type": "code",
        "colab": {}
      },
      "source": [
        ""
      ],
      "execution_count": 29,
      "outputs": []
    }
  ]
}