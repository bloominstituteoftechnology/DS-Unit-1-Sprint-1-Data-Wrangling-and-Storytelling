{
  "nbformat": 4,
  "nbformat_minor": 0,
  "metadata": {
    "colab": {
      "name": "LS_DS_112_Make_Features.ipynb",
      "provenance": [],
      "collapsed_sections": [],
      "include_colab_link": true
    },
    "kernelspec": {
      "display_name": "Python 3",
      "language": "python",
      "name": "python3"
    },
    "language_info": {
      "codemirror_mode": {
        "name": "ipython",
        "version": 3
      },
      "file_extension": ".py",
      "mimetype": "text/x-python",
      "name": "python",
      "nbconvert_exporter": "python",
      "pygments_lexer": "ipython3",
      "version": "3.7.1"
    }
  },
  "cells": [
    {
      "cell_type": "markdown",
      "metadata": {
        "id": "view-in-github",
        "colab_type": "text"
      },
      "source": [
        "<a href=\"https://colab.research.google.com/github/mathewmahoney/DS-Unit-1-Sprint-1-Data-Wrangling-and-Storytelling/blob/master/LS_DS_112_Make_Features.ipynb\" target=\"_parent\"><img src=\"https://colab.research.google.com/assets/colab-badge.svg\" alt=\"Open In Colab\"/></a>"
      ]
    },
    {
      "cell_type": "markdown",
      "metadata": {
        "id": "7fknoKxGz_jk",
        "colab_type": "text"
      },
      "source": [
        "Lambda School Data Science\n",
        "\n",
        "*Unit 1, Sprint 1, Module 2*\n",
        "\n",
        "---"
      ]
    },
    {
      "cell_type": "markdown",
      "metadata": {
        "id": "yeJFIcIoi9wP",
        "colab_type": "text"
      },
      "source": [
        "# New Section"
      ]
    },
    {
      "cell_type": "markdown",
      "metadata": {
        "id": "fUahjXBii93d",
        "colab_type": "text"
      },
      "source": [
        "# New Section"
      ]
    },
    {
      "cell_type": "code",
      "metadata": {
        "id": "xIN2evKmR72E",
        "colab_type": "code",
        "colab": {}
      },
      "source": [
        ""
      ],
      "execution_count": null,
      "outputs": []
    },
    {
      "cell_type": "markdown",
      "metadata": {
        "colab_type": "text",
        "id": "qacqiXogluN_"
      },
      "source": [
        "# Make Features \n",
        "\n",
        "- Student should be able to understand the purpose of feature engineering\n",
        "- Student should be able to work with strings in pandas\n",
        "- Student should be able to work with dates and times in pandas\n",
        "- Student should be able to modify or create columns of a dataframe using the `.apply()` function\n",
        "\n",
        "\n",
        "Helpful Links:\n",
        "- [Minimally Sufficient Pandas](https://medium.com/dunder-data/minimally-sufficient-pandas-a8e67f2a2428)\n",
        "- [Feature Engineering](https://en.wikipedia.org/wiki/Feature_engineering)\n",
        "- Python Data Science Handbook\n",
        "  - [Chapter 3.10](https://jakevdp.github.io/PythonDataScienceHandbook/03.10-working-with-strings.html), Vectorized String Operations\n",
        "  - [Chapter 3.11](https://jakevdp.github.io/PythonDataScienceHandbook/03.11-working-with-time-series.html), Working with Time Series\n",
        "- [Lambda Learning Method for DS - By Ryan Herr](https://docs.google.com/document/d/1ubOw9B3Hfip27hF2ZFnW3a3z9xAgrUDRReOEo-FHCVs/edit?usp=sharing)"
      ]
    },
    {
      "cell_type": "markdown",
      "metadata": {
        "id": "LZSXUzBm3yvk",
        "colab_type": "text"
      },
      "source": [
        "# [Objective](#feature-engineering) - The Purpose of Feature Engineering\n",
        "\n"
      ]
    },
    {
      "cell_type": "markdown",
      "metadata": {
        "id": "MGHzNUcT30ui",
        "colab_type": "text"
      },
      "source": [
        "## Overview\n",
        "\n",
        "Feature Engineering is the process of using a combination of domain knowledge, creativity and the pre-existing columns of a dataset to create completely new columns.\n",
        "\n",
        " Machine Learning models try to detect patterns in the data and then associate those patterns with certain predictions. The hope is that by creating new columns on our dataset that we can expose our model to new patterns in the data so that it can make better and better predictions.\n",
        "\n",
        "This is largely a matter of understanding how to work with individual columns of a dataframe with Pandas --which is what we'll be practicing today!"
      ]
    },
    {
      "cell_type": "markdown",
      "metadata": {
        "id": "i6vOmj_i35ef",
        "colab_type": "text"
      },
      "source": [
        "## Follow Along\n",
        "\n",
        "Columns of a dataframe hold each hold a specific type of data. Lets inspect some of the common datatypes found in datasets and then we'll make a new feature on a dataset using pre-existing columns."
      ]
    },
    {
      "cell_type": "code",
      "metadata": {
        "id": "Ua6VURnC9Cny",
        "colab_type": "code",
        "colab": {}
      },
      "source": [
        "import pandas as pd"
      ],
      "execution_count": null,
      "outputs": []
    },
    {
      "cell_type": "code",
      "metadata": {
        "id": "p_Y05YBr32O-",
        "colab_type": "code",
        "colab": {}
      },
      "source": [
        "# Lets take a look at the Ames Iowa Housing Dataset:\n",
        "df = pd.read_csv('https://raw.githubusercontent.com/ryanleeallred/datasets/master/Ames%20Housing%20Data/train.csv')"
      ],
      "execution_count": null,
      "outputs": []
    },
    {
      "cell_type": "markdown",
      "metadata": {
        "id": "0QmscJ7n9OSB",
        "colab_type": "text"
      },
      "source": [
        "### Specific Columns hold specific kinds of data"
      ]
    },
    {
      "cell_type": "code",
      "metadata": {
        "id": "M8rsw3zl9S3v",
        "colab_type": "code",
        "colab": {
          "base_uri": "https://localhost:8080/",
          "height": 1000
        },
        "outputId": "107e2930-5ff0-44a7-cb12-245e6b20abe6"
      },
      "source": [
        "df.info()"
      ],
      "execution_count": null,
      "outputs": [
        {
          "output_type": "stream",
          "text": [
            "<class 'pandas.core.frame.DataFrame'>\n",
            "RangeIndex: 1460 entries, 0 to 1459\n",
            "Data columns (total 81 columns):\n",
            "Id               1460 non-null int64\n",
            "MSSubClass       1460 non-null int64\n",
            "MSZoning         1460 non-null object\n",
            "LotFrontage      1201 non-null float64\n",
            "LotArea          1460 non-null int64\n",
            "Street           1460 non-null object\n",
            "Alley            91 non-null object\n",
            "LotShape         1460 non-null object\n",
            "LandContour      1460 non-null object\n",
            "Utilities        1460 non-null object\n",
            "LotConfig        1460 non-null object\n",
            "LandSlope        1460 non-null object\n",
            "Neighborhood     1460 non-null object\n",
            "Condition1       1460 non-null object\n",
            "Condition2       1460 non-null object\n",
            "BldgType         1460 non-null object\n",
            "HouseStyle       1460 non-null object\n",
            "OverallQual      1460 non-null int64\n",
            "OverallCond      1460 non-null int64\n",
            "YearBuilt        1460 non-null int64\n",
            "YearRemodAdd     1460 non-null int64\n",
            "RoofStyle        1460 non-null object\n",
            "RoofMatl         1460 non-null object\n",
            "Exterior1st      1460 non-null object\n",
            "Exterior2nd      1460 non-null object\n",
            "MasVnrType       1452 non-null object\n",
            "MasVnrArea       1452 non-null float64\n",
            "ExterQual        1460 non-null object\n",
            "ExterCond        1460 non-null object\n",
            "Foundation       1460 non-null object\n",
            "BsmtQual         1423 non-null object\n",
            "BsmtCond         1423 non-null object\n",
            "BsmtExposure     1422 non-null object\n",
            "BsmtFinType1     1423 non-null object\n",
            "BsmtFinSF1       1460 non-null int64\n",
            "BsmtFinType2     1422 non-null object\n",
            "BsmtFinSF2       1460 non-null int64\n",
            "BsmtUnfSF        1460 non-null int64\n",
            "TotalBsmtSF      1460 non-null int64\n",
            "Heating          1460 non-null object\n",
            "HeatingQC        1460 non-null object\n",
            "CentralAir       1460 non-null object\n",
            "Electrical       1459 non-null object\n",
            "1stFlrSF         1460 non-null int64\n",
            "2ndFlrSF         1460 non-null int64\n",
            "LowQualFinSF     1460 non-null int64\n",
            "GrLivArea        1460 non-null int64\n",
            "BsmtFullBath     1460 non-null int64\n",
            "BsmtHalfBath     1460 non-null int64\n",
            "FullBath         1460 non-null int64\n",
            "HalfBath         1460 non-null int64\n",
            "BedroomAbvGr     1460 non-null int64\n",
            "KitchenAbvGr     1460 non-null int64\n",
            "KitchenQual      1460 non-null object\n",
            "TotRmsAbvGrd     1460 non-null int64\n",
            "Functional       1460 non-null object\n",
            "Fireplaces       1460 non-null int64\n",
            "FireplaceQu      770 non-null object\n",
            "GarageType       1379 non-null object\n",
            "GarageYrBlt      1379 non-null float64\n",
            "GarageFinish     1379 non-null object\n",
            "GarageCars       1460 non-null int64\n",
            "GarageArea       1460 non-null int64\n",
            "GarageQual       1379 non-null object\n",
            "GarageCond       1379 non-null object\n",
            "PavedDrive       1460 non-null object\n",
            "WoodDeckSF       1460 non-null int64\n",
            "OpenPorchSF      1460 non-null int64\n",
            "EnclosedPorch    1460 non-null int64\n",
            "3SsnPorch        1460 non-null int64\n",
            "ScreenPorch      1460 non-null int64\n",
            "PoolArea         1460 non-null int64\n",
            "PoolQC           7 non-null object\n",
            "Fence            281 non-null object\n",
            "MiscFeature      54 non-null object\n",
            "MiscVal          1460 non-null int64\n",
            "MoSold           1460 non-null int64\n",
            "YrSold           1460 non-null int64\n",
            "SaleType         1460 non-null object\n",
            "SaleCondition    1460 non-null object\n",
            "SalePrice        1460 non-null int64\n",
            "dtypes: float64(3), int64(35), object(43)\n",
            "memory usage: 924.0+ KB\n"
          ],
          "name": "stdout"
        }
      ]
    },
    {
      "cell_type": "markdown",
      "metadata": {
        "id": "znph8qpr9q29",
        "colab_type": "text"
      },
      "source": [
        "Some columns hold integer values like the `BedroomAbvGr` which stands for \"Bedrooms Above Grade.\" This is the number of non-basement bedrooms in the home.\n",
        "\n",
        "For more information on specific column meanings view the [data dictionary](https://github.com/ryanleeallred/datasets/blob/master/Ames%20Housing%20Data/data_description.txt)."
      ]
    },
    {
      "cell_type": "code",
      "metadata": {
        "id": "zl-wfFZv-_fo",
        "colab_type": "code",
        "colab": {
          "base_uri": "https://localhost:8080/",
          "height": 204
        },
        "outputId": "e8bf3248-af23-4fcc-ccd9-808bcdfaa232"
      },
      "source": [
        "# Look at the first ten rows of the `BedroomAbvGr` column.\n",
        "# Looks like integers to me!\n",
        "df['BedroomAbvGr'].head(10)"
      ],
      "execution_count": null,
      "outputs": [
        {
          "output_type": "execute_result",
          "data": {
            "text/plain": [
              "0    3\n",
              "1    3\n",
              "2    3\n",
              "3    3\n",
              "4    4\n",
              "5    1\n",
              "6    3\n",
              "7    3\n",
              "8    2\n",
              "9    2\n",
              "Name: BedroomAbvGr, dtype: int64"
            ]
          },
          "metadata": {
            "tags": []
          },
          "execution_count": 4
        }
      ]
    },
    {
      "cell_type": "markdown",
      "metadata": {
        "id": "JyfxM5tc_Q1w",
        "colab_type": "text"
      },
      "source": [
        "Some columns hold float values like the `LotFrontage` column."
      ]
    },
    {
      "cell_type": "code",
      "metadata": {
        "id": "pdILA65r_PeY",
        "colab_type": "code",
        "colab": {
          "base_uri": "https://localhost:8080/",
          "height": 717
        },
        "outputId": "778cfe00-deb9-4e1b-c88c-55a268a825bc"
      },
      "source": [
        "# Look at the first ten rows of the `BedroomAbvGr` column.\n",
        "f['LotFrontage']\n",
        "\n"
      ],
      "execution_count": null,
      "outputs": [
        {
          "output_type": "error",
          "ename": "KeyError",
          "evalue": "ignored",
          "traceback": [
            "\u001b[0;31m---------------------------------------------------------------------------\u001b[0m",
            "\u001b[0;31mKeyError\u001b[0m                                  Traceback (most recent call last)",
            "\u001b[0;32m/usr/local/lib/python3.6/dist-packages/pandas/core/indexes/base.py\u001b[0m in \u001b[0;36mget_loc\u001b[0;34m(self, key, method, tolerance)\u001b[0m\n\u001b[1;32m   2896\u001b[0m             \u001b[0;32mtry\u001b[0m\u001b[0;34m:\u001b[0m\u001b[0;34m\u001b[0m\u001b[0;34m\u001b[0m\u001b[0m\n\u001b[0;32m-> 2897\u001b[0;31m                 \u001b[0;32mreturn\u001b[0m \u001b[0mself\u001b[0m\u001b[0;34m.\u001b[0m\u001b[0m_engine\u001b[0m\u001b[0;34m.\u001b[0m\u001b[0mget_loc\u001b[0m\u001b[0;34m(\u001b[0m\u001b[0mkey\u001b[0m\u001b[0;34m)\u001b[0m\u001b[0;34m\u001b[0m\u001b[0;34m\u001b[0m\u001b[0m\n\u001b[0m\u001b[1;32m   2898\u001b[0m             \u001b[0;32mexcept\u001b[0m \u001b[0mKeyError\u001b[0m\u001b[0;34m:\u001b[0m\u001b[0;34m\u001b[0m\u001b[0;34m\u001b[0m\u001b[0m\n",
            "\u001b[0;32mpandas/_libs/index.pyx\u001b[0m in \u001b[0;36mpandas._libs.index.IndexEngine.get_loc\u001b[0;34m()\u001b[0m\n",
            "\u001b[0;32mpandas/_libs/index.pyx\u001b[0m in \u001b[0;36mpandas._libs.index.IndexEngine.get_loc\u001b[0;34m()\u001b[0m\n",
            "\u001b[0;32mpandas/_libs/hashtable_class_helper.pxi\u001b[0m in \u001b[0;36mpandas._libs.hashtable.PyObjectHashTable.get_item\u001b[0;34m()\u001b[0m\n",
            "\u001b[0;32mpandas/_libs/hashtable_class_helper.pxi\u001b[0m in \u001b[0;36mpandas._libs.hashtable.PyObjectHashTable.get_item\u001b[0;34m()\u001b[0m\n",
            "\u001b[0;31mKeyError\u001b[0m: 'LotFrontage'",
            "\nDuring handling of the above exception, another exception occurred:\n",
            "\u001b[0;31mKeyError\u001b[0m                                  Traceback (most recent call last)",
            "\u001b[0;32m<ipython-input-35-714d0cd52a2e>\u001b[0m in \u001b[0;36m<module>\u001b[0;34m()\u001b[0m\n\u001b[0;32m----> 1\u001b[0;31m \u001b[0mdf\u001b[0m\u001b[0;34m[\u001b[0m\u001b[0;34m'LotFrontage'\u001b[0m\u001b[0;34m]\u001b[0m\u001b[0;34m.\u001b[0m\u001b[0mhead\u001b[0m\u001b[0;34m\u001b[0m\u001b[0;34m\u001b[0m\u001b[0m\n\u001b[0m",
            "\u001b[0;32m/usr/local/lib/python3.6/dist-packages/pandas/core/frame.py\u001b[0m in \u001b[0;36m__getitem__\u001b[0;34m(self, key)\u001b[0m\n\u001b[1;32m   2993\u001b[0m             \u001b[0;32mif\u001b[0m \u001b[0mself\u001b[0m\u001b[0;34m.\u001b[0m\u001b[0mcolumns\u001b[0m\u001b[0;34m.\u001b[0m\u001b[0mnlevels\u001b[0m \u001b[0;34m>\u001b[0m \u001b[0;36m1\u001b[0m\u001b[0;34m:\u001b[0m\u001b[0;34m\u001b[0m\u001b[0;34m\u001b[0m\u001b[0m\n\u001b[1;32m   2994\u001b[0m                 \u001b[0;32mreturn\u001b[0m \u001b[0mself\u001b[0m\u001b[0;34m.\u001b[0m\u001b[0m_getitem_multilevel\u001b[0m\u001b[0;34m(\u001b[0m\u001b[0mkey\u001b[0m\u001b[0;34m)\u001b[0m\u001b[0;34m\u001b[0m\u001b[0;34m\u001b[0m\u001b[0m\n\u001b[0;32m-> 2995\u001b[0;31m             \u001b[0mindexer\u001b[0m \u001b[0;34m=\u001b[0m \u001b[0mself\u001b[0m\u001b[0;34m.\u001b[0m\u001b[0mcolumns\u001b[0m\u001b[0;34m.\u001b[0m\u001b[0mget_loc\u001b[0m\u001b[0;34m(\u001b[0m\u001b[0mkey\u001b[0m\u001b[0;34m)\u001b[0m\u001b[0;34m\u001b[0m\u001b[0;34m\u001b[0m\u001b[0m\n\u001b[0m\u001b[1;32m   2996\u001b[0m             \u001b[0;32mif\u001b[0m \u001b[0mis_integer\u001b[0m\u001b[0;34m(\u001b[0m\u001b[0mindexer\u001b[0m\u001b[0;34m)\u001b[0m\u001b[0;34m:\u001b[0m\u001b[0;34m\u001b[0m\u001b[0;34m\u001b[0m\u001b[0m\n\u001b[1;32m   2997\u001b[0m                 \u001b[0mindexer\u001b[0m \u001b[0;34m=\u001b[0m \u001b[0;34m[\u001b[0m\u001b[0mindexer\u001b[0m\u001b[0;34m]\u001b[0m\u001b[0;34m\u001b[0m\u001b[0;34m\u001b[0m\u001b[0m\n",
            "\u001b[0;32m/usr/local/lib/python3.6/dist-packages/pandas/core/indexes/base.py\u001b[0m in \u001b[0;36mget_loc\u001b[0;34m(self, key, method, tolerance)\u001b[0m\n\u001b[1;32m   2897\u001b[0m                 \u001b[0;32mreturn\u001b[0m \u001b[0mself\u001b[0m\u001b[0;34m.\u001b[0m\u001b[0m_engine\u001b[0m\u001b[0;34m.\u001b[0m\u001b[0mget_loc\u001b[0m\u001b[0;34m(\u001b[0m\u001b[0mkey\u001b[0m\u001b[0;34m)\u001b[0m\u001b[0;34m\u001b[0m\u001b[0;34m\u001b[0m\u001b[0m\n\u001b[1;32m   2898\u001b[0m             \u001b[0;32mexcept\u001b[0m \u001b[0mKeyError\u001b[0m\u001b[0;34m:\u001b[0m\u001b[0;34m\u001b[0m\u001b[0;34m\u001b[0m\u001b[0m\n\u001b[0;32m-> 2899\u001b[0;31m                 \u001b[0;32mreturn\u001b[0m \u001b[0mself\u001b[0m\u001b[0;34m.\u001b[0m\u001b[0m_engine\u001b[0m\u001b[0;34m.\u001b[0m\u001b[0mget_loc\u001b[0m\u001b[0;34m(\u001b[0m\u001b[0mself\u001b[0m\u001b[0;34m.\u001b[0m\u001b[0m_maybe_cast_indexer\u001b[0m\u001b[0;34m(\u001b[0m\u001b[0mkey\u001b[0m\u001b[0;34m)\u001b[0m\u001b[0;34m)\u001b[0m\u001b[0;34m\u001b[0m\u001b[0;34m\u001b[0m\u001b[0m\n\u001b[0m\u001b[1;32m   2900\u001b[0m         \u001b[0mindexer\u001b[0m \u001b[0;34m=\u001b[0m \u001b[0mself\u001b[0m\u001b[0;34m.\u001b[0m\u001b[0mget_indexer\u001b[0m\u001b[0;34m(\u001b[0m\u001b[0;34m[\u001b[0m\u001b[0mkey\u001b[0m\u001b[0;34m]\u001b[0m\u001b[0;34m,\u001b[0m \u001b[0mmethod\u001b[0m\u001b[0;34m=\u001b[0m\u001b[0mmethod\u001b[0m\u001b[0;34m,\u001b[0m \u001b[0mtolerance\u001b[0m\u001b[0;34m=\u001b[0m\u001b[0mtolerance\u001b[0m\u001b[0;34m)\u001b[0m\u001b[0;34m\u001b[0m\u001b[0;34m\u001b[0m\u001b[0m\n\u001b[1;32m   2901\u001b[0m         \u001b[0;32mif\u001b[0m \u001b[0mindexer\u001b[0m\u001b[0;34m.\u001b[0m\u001b[0mndim\u001b[0m \u001b[0;34m>\u001b[0m \u001b[0;36m1\u001b[0m \u001b[0;32mor\u001b[0m \u001b[0mindexer\u001b[0m\u001b[0;34m.\u001b[0m\u001b[0msize\u001b[0m \u001b[0;34m>\u001b[0m \u001b[0;36m1\u001b[0m\u001b[0;34m:\u001b[0m\u001b[0;34m\u001b[0m\u001b[0;34m\u001b[0m\u001b[0m\n",
            "\u001b[0;32mpandas/_libs/index.pyx\u001b[0m in \u001b[0;36mpandas._libs.index.IndexEngine.get_loc\u001b[0;34m()\u001b[0m\n",
            "\u001b[0;32mpandas/_libs/index.pyx\u001b[0m in \u001b[0;36mpandas._libs.index.IndexEngine.get_loc\u001b[0;34m()\u001b[0m\n",
            "\u001b[0;32mpandas/_libs/hashtable_class_helper.pxi\u001b[0m in \u001b[0;36mpandas._libs.hashtable.PyObjectHashTable.get_item\u001b[0;34m()\u001b[0m\n",
            "\u001b[0;32mpandas/_libs/hashtable_class_helper.pxi\u001b[0m in \u001b[0;36mpandas._libs.hashtable.PyObjectHashTable.get_item\u001b[0;34m()\u001b[0m\n",
            "\u001b[0;31mKeyError\u001b[0m: 'LotFrontage'"
          ]
        }
      ]
    },
    {
      "cell_type": "markdown",
      "metadata": {
        "id": "yfvyHa9IfGi9",
        "colab_type": "text"
      },
      "source": [
        "Hmmm, do the values above look like floats to you?\n",
        "\n",
        "They all have .0 on them so technically they're being stored as floats, but *should* they be stored as floats?\n",
        "\n",
        "Lets see what all of the possible values for this column are."
      ]
    },
    {
      "cell_type": "code",
      "metadata": {
        "id": "MDLnz1CX_eGc",
        "colab_type": "code",
        "colab": {}
      },
      "source": [
        ""
      ],
      "execution_count": null,
      "outputs": []
    },
    {
      "cell_type": "markdown",
      "metadata": {
        "id": "1IaYU5QzAfgn",
        "colab_type": "text"
      },
      "source": [
        "Looks to me like the `LotFrontage` column originally held integer values but was cast to a `float` meaning that each original integer values was converted to its corresponding float representation. \n",
        "\n",
        "Any guesses as to why that would have happened?\n",
        "\n",
        "\n",
        "HINT: What's the most common `LotFrontage` value for this column?"
      ]
    },
    {
      "cell_type": "code",
      "metadata": {
        "id": "MtkV149OA5je",
        "colab_type": "code",
        "colab": {}
      },
      "source": [
        "# NaN is the most common value in this column. What is a NaN\n"
      ],
      "execution_count": null,
      "outputs": []
    },
    {
      "cell_type": "markdown",
      "metadata": {
        "id": "cJNKPLl_BQh7",
        "colab_type": "text"
      },
      "source": [
        "`NaN` stands stands for \"Not a Number\" and is the default missing value indicator with Pandas. This means there were cells in this column that didn't have a LotFrontage value recorded for those homes. \n",
        "\n",
        "This is where domain knowledge starts to come in. Think about the context we're working with here: houses. What might a null or blank cell representing \"Linear feet of street connected to property\" mean in the context of a housing dataset?\n",
        "\n",
        "Ok, so maybe it makes seanse to have some NaNs in this column. What is the datatype of a NaN value?\n",
        "\n",
        "Perhaps some of this data is truly missing or unrecorded data, but sometimes `NaNs` are more likely to indicate something that was \"NA\" or \"Not Applicable\" to a particular observation. There could be multiple reasons why there was no value recorded for a particular feature.\n",
        "\n",
        "Remember, that Pandas tries to maintain a single datatype for all values in a column, and therefore..."
      ]
    },
    {
      "cell_type": "code",
      "metadata": {
        "id": "2166y9kXB0zZ",
        "colab_type": "code",
        "colab": {}
      },
      "source": [
        "import numpy as np\n",
        "\n",
        "# What is the datatype of NaN?"
      ],
      "execution_count": null,
      "outputs": []
    },
    {
      "cell_type": "markdown",
      "metadata": {
        "id": "37ZaBu5OB63d",
        "colab_type": "text"
      },
      "source": [
        "The datatype of a NaN is float!  This means that if we have a column of integer values, but the column has even a single `NaN` that column will not be treated with the integer datatype but all of the integers will be converted to floats in order to try and preserve the same datatype throughout the entire column.\n",
        "\n",
        "You can see already how understanding column datatypes is crucial to understanding how Pandas help us manage our data."
      ]
    },
    {
      "cell_type": "markdown",
      "metadata": {
        "id": "Ko_yfcFqg0pj",
        "colab_type": "text"
      },
      "source": [
        "### Making new Features\n",
        "\n",
        "Lets slim down the dataset and consider just a few specific columns:\n",
        "\n",
        "- `TotalBsmtSF`\n",
        "- `1stFlrSF`\n",
        "- `2ndFlrSF`\n",
        "- `SalePrice1`\n"
      ]
    },
    {
      "cell_type": "code",
      "metadata": {
        "id": "_GxPTgevhWnv",
        "colab_type": "code",
        "colab": {
          "base_uri": "https://localhost:8080/",
          "height": 419
        },
        "outputId": "3b84d577-d083-4323-c3bd-bdeeb3ed76e7"
      },
      "source": [
        "# I can make a smaller dataframe with a few specific column headers\n",
        "# by passing a list of column headers inside of the square brackets\n",
        "smaller_df = df[['TotalBsmtSF', '1stFlrSF', '2ndFlrSF', 'SalePrice']].copy()\n",
        "smaller_df"
      ],
      "execution_count": null,
      "outputs": [
        {
          "output_type": "execute_result",
          "data": {
            "text/html": [
              "<div>\n",
              "<style scoped>\n",
              "    .dataframe tbody tr th:only-of-type {\n",
              "        vertical-align: middle;\n",
              "    }\n",
              "\n",
              "    .dataframe tbody tr th {\n",
              "        vertical-align: top;\n",
              "    }\n",
              "\n",
              "    .dataframe thead th {\n",
              "        text-align: right;\n",
              "    }\n",
              "</style>\n",
              "<table border=\"1\" class=\"dataframe\">\n",
              "  <thead>\n",
              "    <tr style=\"text-align: right;\">\n",
              "      <th></th>\n",
              "      <th>TotalBsmtSF</th>\n",
              "      <th>1stFlrSF</th>\n",
              "      <th>2ndFlrSF</th>\n",
              "      <th>SalePrice</th>\n",
              "    </tr>\n",
              "  </thead>\n",
              "  <tbody>\n",
              "    <tr>\n",
              "      <th>0</th>\n",
              "      <td>856</td>\n",
              "      <td>856</td>\n",
              "      <td>854</td>\n",
              "      <td>208500</td>\n",
              "    </tr>\n",
              "    <tr>\n",
              "      <th>1</th>\n",
              "      <td>1262</td>\n",
              "      <td>1262</td>\n",
              "      <td>0</td>\n",
              "      <td>181500</td>\n",
              "    </tr>\n",
              "    <tr>\n",
              "      <th>2</th>\n",
              "      <td>920</td>\n",
              "      <td>920</td>\n",
              "      <td>866</td>\n",
              "      <td>223500</td>\n",
              "    </tr>\n",
              "    <tr>\n",
              "      <th>3</th>\n",
              "      <td>756</td>\n",
              "      <td>961</td>\n",
              "      <td>756</td>\n",
              "      <td>140000</td>\n",
              "    </tr>\n",
              "    <tr>\n",
              "      <th>4</th>\n",
              "      <td>1145</td>\n",
              "      <td>1145</td>\n",
              "      <td>1053</td>\n",
              "      <td>250000</td>\n",
              "    </tr>\n",
              "    <tr>\n",
              "      <th>...</th>\n",
              "      <td>...</td>\n",
              "      <td>...</td>\n",
              "      <td>...</td>\n",
              "      <td>...</td>\n",
              "    </tr>\n",
              "    <tr>\n",
              "      <th>1455</th>\n",
              "      <td>953</td>\n",
              "      <td>953</td>\n",
              "      <td>694</td>\n",
              "      <td>175000</td>\n",
              "    </tr>\n",
              "    <tr>\n",
              "      <th>1456</th>\n",
              "      <td>1542</td>\n",
              "      <td>2073</td>\n",
              "      <td>0</td>\n",
              "      <td>210000</td>\n",
              "    </tr>\n",
              "    <tr>\n",
              "      <th>1457</th>\n",
              "      <td>1152</td>\n",
              "      <td>1188</td>\n",
              "      <td>1152</td>\n",
              "      <td>266500</td>\n",
              "    </tr>\n",
              "    <tr>\n",
              "      <th>1458</th>\n",
              "      <td>1078</td>\n",
              "      <td>1078</td>\n",
              "      <td>0</td>\n",
              "      <td>142125</td>\n",
              "    </tr>\n",
              "    <tr>\n",
              "      <th>1459</th>\n",
              "      <td>1256</td>\n",
              "      <td>1256</td>\n",
              "      <td>0</td>\n",
              "      <td>147500</td>\n",
              "    </tr>\n",
              "  </tbody>\n",
              "</table>\n",
              "<p>1460 rows × 4 columns</p>\n",
              "</div>"
            ],
            "text/plain": [
              "      TotalBsmtSF  1stFlrSF  2ndFlrSF  SalePrice\n",
              "0             856       856       854     208500\n",
              "1            1262      1262         0     181500\n",
              "2             920       920       866     223500\n",
              "3             756       961       756     140000\n",
              "4            1145      1145      1053     250000\n",
              "...           ...       ...       ...        ...\n",
              "1455          953       953       694     175000\n",
              "1456         1542      2073         0     210000\n",
              "1457         1152      1188      1152     266500\n",
              "1458         1078      1078         0     142125\n",
              "1459         1256      1256         0     147500\n",
              "\n",
              "[1460 rows x 4 columns]"
            ]
          },
          "metadata": {
            "tags": []
          },
          "execution_count": 6
        }
      ]
    },
    {
      "cell_type": "markdown",
      "metadata": {
        "id": "Tw0PzxkbiQmm",
        "colab_type": "text"
      },
      "source": [
        "### Syntax for creating new columns\n",
        "\n",
        "When making a new column on a dataframe, we have to use the square bracket syntax of accessing a column. We can't use \"dot syntax\" here."
      ]
    },
    {
      "cell_type": "code",
      "metadata": {
        "id": "NkXHP57_iJ-U",
        "colab_type": "code",
        "colab": {
          "base_uri": "https://localhost:8080/",
          "height": 221
        },
        "outputId": "5ed0b21b-5d4f-49f7-e607-55b2561e47a7"
      },
      "source": [
        "# Lets add up all of the square footage to get a single square footage \n",
        "# column for the entire dataset\n",
        "\n",
        "# Using bracket syntax to make a new 'TotalSquareFootage' column\n",
        "smaller_df['TotalSquareFootage'] = smaller_df['TotalBsmtSF'] + smaller_df['1stFlrSF'] + smaller_df['2ndFlrSF']\n",
        "\n",
        "smaller_df['TotalSquareFootage']"
      ],
      "execution_count": null,
      "outputs": [
        {
          "output_type": "execute_result",
          "data": {
            "text/plain": [
              "0       2566\n",
              "1       2524\n",
              "2       2706\n",
              "3       2473\n",
              "4       3343\n",
              "        ... \n",
              "1455    2600\n",
              "1456    3615\n",
              "1457    3492\n",
              "1458    2156\n",
              "1459    2512\n",
              "Name: TotalSquareFootage, Length: 1460, dtype: int64"
            ]
          },
          "metadata": {
            "tags": []
          },
          "execution_count": 7
        }
      ]
    },
    {
      "cell_type": "code",
      "metadata": {
        "id": "fEy-6VQCi08c",
        "colab_type": "code",
        "colab": {
          "base_uri": "https://localhost:8080/",
          "height": 419
        },
        "outputId": "d968a36a-6043-4705-c655-243e14fcd86d"
      },
      "source": [
        "# Lets make a nother new column that is 'PricePerSqFt' by\n",
        "# dividing the price by the square footage\n",
        "\n",
        "smaller_df['PricePerSF'] = smaller_df['SalePrice'] / smaller_df['TotalSquareFootage']\n",
        "smaller_df"
      ],
      "execution_count": null,
      "outputs": [
        {
          "output_type": "execute_result",
          "data": {
            "text/html": [
              "<div>\n",
              "<style scoped>\n",
              "    .dataframe tbody tr th:only-of-type {\n",
              "        vertical-align: middle;\n",
              "    }\n",
              "\n",
              "    .dataframe tbody tr th {\n",
              "        vertical-align: top;\n",
              "    }\n",
              "\n",
              "    .dataframe thead th {\n",
              "        text-align: right;\n",
              "    }\n",
              "</style>\n",
              "<table border=\"1\" class=\"dataframe\">\n",
              "  <thead>\n",
              "    <tr style=\"text-align: right;\">\n",
              "      <th></th>\n",
              "      <th>TotalBsmtSF</th>\n",
              "      <th>1stFlrSF</th>\n",
              "      <th>2ndFlrSF</th>\n",
              "      <th>SalePrice</th>\n",
              "      <th>TotalSquareFootage</th>\n",
              "      <th>PricePerSF</th>\n",
              "    </tr>\n",
              "  </thead>\n",
              "  <tbody>\n",
              "    <tr>\n",
              "      <th>0</th>\n",
              "      <td>856</td>\n",
              "      <td>856</td>\n",
              "      <td>854</td>\n",
              "      <td>208500</td>\n",
              "      <td>2566</td>\n",
              "      <td>81.254871</td>\n",
              "    </tr>\n",
              "    <tr>\n",
              "      <th>1</th>\n",
              "      <td>1262</td>\n",
              "      <td>1262</td>\n",
              "      <td>0</td>\n",
              "      <td>181500</td>\n",
              "      <td>2524</td>\n",
              "      <td>71.909667</td>\n",
              "    </tr>\n",
              "    <tr>\n",
              "      <th>2</th>\n",
              "      <td>920</td>\n",
              "      <td>920</td>\n",
              "      <td>866</td>\n",
              "      <td>223500</td>\n",
              "      <td>2706</td>\n",
              "      <td>82.594235</td>\n",
              "    </tr>\n",
              "    <tr>\n",
              "      <th>3</th>\n",
              "      <td>756</td>\n",
              "      <td>961</td>\n",
              "      <td>756</td>\n",
              "      <td>140000</td>\n",
              "      <td>2473</td>\n",
              "      <td>56.611403</td>\n",
              "    </tr>\n",
              "    <tr>\n",
              "      <th>4</th>\n",
              "      <td>1145</td>\n",
              "      <td>1145</td>\n",
              "      <td>1053</td>\n",
              "      <td>250000</td>\n",
              "      <td>3343</td>\n",
              "      <td>74.783129</td>\n",
              "    </tr>\n",
              "    <tr>\n",
              "      <th>...</th>\n",
              "      <td>...</td>\n",
              "      <td>...</td>\n",
              "      <td>...</td>\n",
              "      <td>...</td>\n",
              "      <td>...</td>\n",
              "      <td>...</td>\n",
              "    </tr>\n",
              "    <tr>\n",
              "      <th>1455</th>\n",
              "      <td>953</td>\n",
              "      <td>953</td>\n",
              "      <td>694</td>\n",
              "      <td>175000</td>\n",
              "      <td>2600</td>\n",
              "      <td>67.307692</td>\n",
              "    </tr>\n",
              "    <tr>\n",
              "      <th>1456</th>\n",
              "      <td>1542</td>\n",
              "      <td>2073</td>\n",
              "      <td>0</td>\n",
              "      <td>210000</td>\n",
              "      <td>3615</td>\n",
              "      <td>58.091286</td>\n",
              "    </tr>\n",
              "    <tr>\n",
              "      <th>1457</th>\n",
              "      <td>1152</td>\n",
              "      <td>1188</td>\n",
              "      <td>1152</td>\n",
              "      <td>266500</td>\n",
              "      <td>3492</td>\n",
              "      <td>76.317297</td>\n",
              "    </tr>\n",
              "    <tr>\n",
              "      <th>1458</th>\n",
              "      <td>1078</td>\n",
              "      <td>1078</td>\n",
              "      <td>0</td>\n",
              "      <td>142125</td>\n",
              "      <td>2156</td>\n",
              "      <td>65.920686</td>\n",
              "    </tr>\n",
              "    <tr>\n",
              "      <th>1459</th>\n",
              "      <td>1256</td>\n",
              "      <td>1256</td>\n",
              "      <td>0</td>\n",
              "      <td>147500</td>\n",
              "      <td>2512</td>\n",
              "      <td>58.718153</td>\n",
              "    </tr>\n",
              "  </tbody>\n",
              "</table>\n",
              "<p>1460 rows × 6 columns</p>\n",
              "</div>"
            ],
            "text/plain": [
              "      TotalBsmtSF  1stFlrSF  ...  TotalSquareFootage  PricePerSF\n",
              "0             856       856  ...                2566   81.254871\n",
              "1            1262      1262  ...                2524   71.909667\n",
              "2             920       920  ...                2706   82.594235\n",
              "3             756       961  ...                2473   56.611403\n",
              "4            1145      1145  ...                3343   74.783129\n",
              "...           ...       ...  ...                 ...         ...\n",
              "1455          953       953  ...                2600   67.307692\n",
              "1456         1542      2073  ...                3615   58.091286\n",
              "1457         1152      1188  ...                3492   76.317297\n",
              "1458         1078      1078  ...                2156   65.920686\n",
              "1459         1256      1256  ...                2512   58.718153\n",
              "\n",
              "[1460 rows x 6 columns]"
            ]
          },
          "metadata": {
            "tags": []
          },
          "execution_count": 8
        }
      ]
    },
    {
      "cell_type": "markdown",
      "metadata": {
        "id": "nJ-GGFwKkPjF",
        "colab_type": "text"
      },
      "source": [
        "Ok, we have made two new columns on our small dataset.\n",
        "\n",
        "- What does a **high** `PricePerSqFt` say about a home that the square footage and price alone don't capture as directly?\n",
        "\n",
        "- What does a **low** `PricePerSqFt` say about a home that the square footage and price alone don't directly capture?\n",
        "\n"
      ]
    },
    {
      "cell_type": "markdown",
      "metadata": {
        "id": "3BbCu3ii4LK8",
        "colab_type": "text"
      },
      "source": [
        "## Challenge\n",
        "\n",
        "I hope you can see how we have used existing columns to create a new column on a dataset that say something new about our unit of observation. This is what making new features (columns) on a dataset is all about and why it's so essential to data science --particularly predictive modeling \"Machine Learning.\" \n",
        "\n",
        "We'll spend the rest of the lecture and assignment today trying to get as good as we can at manipulating (cleaning) and creating new columns on datasets."
      ]
    },
    {
      "cell_type": "markdown",
      "metadata": {
        "id": "sKnLv6nGmU8N",
        "colab_type": "text"
      },
      "source": [
        "# [Objective](#work-with-strings) Work with Strings with Pandas"
      ]
    },
    {
      "cell_type": "markdown",
      "metadata": {
        "id": "dqd_Lpb9ntwT",
        "colab_type": "text"
      },
      "source": [
        "## Overview\n",
        "\n",
        "So far we have worked with numeric datatypes (ints and floats) but we haven't worked with any columns containing string values. We can't simply use arithmetic to manipulate string values, so we'll need to learn some more techniques in order to work with this datatype."
      ]
    },
    {
      "cell_type": "markdown",
      "metadata": {
        "id": "c6UBXPhQnxzj",
        "colab_type": "text"
      },
      "source": [
        "## Follow Along\n",
        "\n",
        "We're going to import a new dataset here to work with. This dataset is from LendingClub and holds information about loans issued in Q4 of 2018. This dataset is a bit messy so it will give us plenty of opportunities to clean up existing columns as well as create new ones.\n",
        "\n",
        "The `!wget` shell command being used here does exactly the same thing that your browser does when you type a URL in the address. It makes a request or \"gets\" the file at that address. However, in our case the file isn't a webpage, it's a compressed CSV file. \n",
        "\n",
        "Try copying and pasting the URL from below into your browser, did it start an automatic download? Any URLs like this that start automatic downloads when navigated to can be used along with the `!wget` command to bring files directly into your notebook's memory."
      ]
    },
    {
      "cell_type": "markdown",
      "metadata": {
        "id": "r1SkaCMTsCyT",
        "colab_type": "text"
      },
      "source": [
        "### Load a new dataset"
      ]
    },
    {
      "cell_type": "code",
      "metadata": {
        "id": "MeEKWHB0n2fq",
        "colab_type": "code",
        "colab": {
          "base_uri": "https://localhost:8080/",
          "height": 204
        },
        "outputId": "2f850121-7d31-4159-f192-2838df18248c"
      },
      "source": [
        "!wget https://resources.lendingclub.com/LoanStats_2018Q4.csv.zip\n"
      ],
      "execution_count": null,
      "outputs": [
        {
          "output_type": "stream",
          "text": [
            "--2020-01-15 02:25:04--  https://resources.lendingclub.com/LoanStats_2018Q4.csv.zip\n",
            "Resolving resources.lendingclub.com (resources.lendingclub.com)... 64.48.1.20\n",
            "Connecting to resources.lendingclub.com (resources.lendingclub.com)|64.48.1.20|:443... connected.\n",
            "HTTP request sent, awaiting response... 200 OK\n",
            "Length: unspecified [application/zip]\n",
            "Saving to: ‘LoanStats_2018Q4.csv.zip’\n",
            "\n",
            "LoanStats_2018Q4.cs     [                 <=>]  21.72M   787KB/s    in 29s     \n",
            "\n",
            "2020-01-15 02:25:34 (771 KB/s) - ‘LoanStats_2018Q4.csv.zip’ saved [22776791]\n",
            "\n"
          ],
          "name": "stdout"
        }
      ]
    },
    {
      "cell_type": "markdown",
      "metadata": {
        "id": "TqUSbgIJqAB8",
        "colab_type": "text"
      },
      "source": [
        "We need to use the `!unzip` command to extract the csv from the zipped folder."
      ]
    },
    {
      "cell_type": "code",
      "metadata": {
        "id": "Mbw0l5wyqLeI",
        "colab_type": "code",
        "colab": {
          "base_uri": "https://localhost:8080/",
          "height": 51
        },
        "outputId": "f1bc742f-3cb3-4723-eeef-375bfa32e282"
      },
      "source": [
        "!unzip LoanStats_2018Q4.csv.zip"
      ],
      "execution_count": null,
      "outputs": [
        {
          "output_type": "stream",
          "text": [
            "Archive:  LoanStats_2018Q4.csv.zip\n",
            "  inflating: LoanStats_2018Q4.csv    \n"
          ],
          "name": "stdout"
        }
      ]
    },
    {
      "cell_type": "markdown",
      "metadata": {
        "id": "ZPB0-7F_qNFT",
        "colab_type": "text"
      },
      "source": [
        "We can also use bash/shell commands to look at the raw file using the `!head` and `!tail` commands"
      ]
    },
    {
      "cell_type": "code",
      "metadata": {
        "id": "ZcWpsAmFqTF4",
        "colab_type": "code",
        "colab": {
          "base_uri": "https://localhost:8080/",
          "height": 207
        },
        "outputId": "81455e45-8ce4-49f7-befe-e5dba71135be"
      },
      "source": [
        "!head LoanStats_2018Q4.csv"
      ],
      "execution_count": null,
      "outputs": [
        {
          "output_type": "stream",
          "text": [
            "Notes offered by Prospectus (https://www.lendingclub.com/info/prospectus.action)\n",
            "\"id\",\"member_id\",\"loan_amnt\",\"funded_amnt\",\"funded_amnt_inv\",\"term\",\"int_rate\",\"installment\",\"grade\",\"sub_grade\",\"emp_title\",\"emp_length\",\"home_ownership\",\"annual_inc\",\"verification_status\",\"issue_d\",\"loan_status\",\"pymnt_plan\",\"url\",\"desc\",\"purpose\",\"title\",\"zip_code\",\"addr_state\",\"dti\",\"delinq_2yrs\",\"earliest_cr_line\",\"inq_last_6mths\",\"mths_since_last_delinq\",\"mths_since_last_record\",\"open_acc\",\"pub_rec\",\"revol_bal\",\"revol_util\",\"total_acc\",\"initial_list_status\",\"out_prncp\",\"out_prncp_inv\",\"total_pymnt\",\"total_pymnt_inv\",\"total_rec_prncp\",\"total_rec_int\",\"total_rec_late_fee\",\"recoveries\",\"collection_recovery_fee\",\"last_pymnt_d\",\"last_pymnt_amnt\",\"next_pymnt_d\",\"last_credit_pull_d\",\"collections_12_mths_ex_med\",\"mths_since_last_major_derog\",\"policy_code\",\"application_type\",\"annual_inc_joint\",\"dti_joint\",\"verification_status_joint\",\"acc_now_delinq\",\"tot_coll_amt\",\"tot_cur_bal\",\"open_acc_6m\",\"open_act_il\",\"open_il_12m\",\"open_il_24m\",\"mths_since_rcnt_il\",\"total_bal_il\",\"il_util\",\"open_rv_12m\",\"open_rv_24m\",\"max_bal_bc\",\"all_util\",\"total_rev_hi_lim\",\"inq_fi\",\"total_cu_tl\",\"inq_last_12m\",\"acc_open_past_24mths\",\"avg_cur_bal\",\"bc_open_to_buy\",\"bc_util\",\"chargeoff_within_12_mths\",\"delinq_amnt\",\"mo_sin_old_il_acct\",\"mo_sin_old_rev_tl_op\",\"mo_sin_rcnt_rev_tl_op\",\"mo_sin_rcnt_tl\",\"mort_acc\",\"mths_since_recent_bc\",\"mths_since_recent_bc_dlq\",\"mths_since_recent_inq\",\"mths_since_recent_revol_delinq\",\"num_accts_ever_120_pd\",\"num_actv_bc_tl\",\"num_actv_rev_tl\",\"num_bc_sats\",\"num_bc_tl\",\"num_il_tl\",\"num_op_rev_tl\",\"num_rev_accts\",\"num_rev_tl_bal_gt_0\",\"num_sats\",\"num_tl_120dpd_2m\",\"num_tl_30dpd\",\"num_tl_90g_dpd_24m\",\"num_tl_op_past_12m\",\"pct_tl_nvr_dlq\",\"percent_bc_gt_75\",\"pub_rec_bankruptcies\",\"tax_liens\",\"tot_hi_cred_lim\",\"total_bal_ex_mort\",\"total_bc_limit\",\"total_il_high_credit_limit\",\"revol_bal_joint\",\"sec_app_earliest_cr_line\",\"sec_app_inq_last_6mths\",\"sec_app_mort_acc\",\"sec_app_open_acc\",\"sec_app_revol_util\",\"sec_app_open_act_il\",\"sec_app_num_rev_accts\",\"sec_app_chargeoff_within_12_mths\",\"sec_app_collections_12_mths_ex_med\",\"sec_app_mths_since_last_major_derog\",\"hardship_flag\",\"hardship_type\",\"hardship_reason\",\"hardship_status\",\"deferral_term\",\"hardship_amount\",\"hardship_start_date\",\"hardship_end_date\",\"payment_plan_start_date\",\"hardship_length\",\"hardship_dpd\",\"hardship_loan_status\",\"orig_projected_additional_accrued_interest\",\"hardship_payoff_balance_amount\",\"hardship_last_payment_amount\",\"debt_settlement_flag\",\"debt_settlement_flag_date\",\"settlement_status\",\"settlement_date\",\"settlement_amount\",\"settlement_percentage\",\"settlement_term\"\n",
            "\"\",\"\",\"6000\",\"6000\",\"6000\",\" 36 months\",\" 14.47%\",\"206.44\",\"C\",\"C2\",\"Manager\",\"10+ years\",\"RENT\",\"55000\",\"Verified\",\"Dec-2018\",\"Charged Off\",\"n\",\"\",\"\",\"credit_card\",\"Credit card refinancing\",\"104xx\",\"NY\",\"10.65\",\"0\",\"Jun-2006\",\"0\",\"\",\"\",\"6\",\"0\",\"4196\",\"91.2%\",\"8\",\"w\",\"0.00\",\"0.00\",\"1106.52\",\"1106.52\",\"546.14\",\"272.38\",\"0.0\",\"288.0\",\"51.84\",\"Apr-2019\",\"206.44\",\"\",\"Nov-2019\",\"0\",\"\",\"1\",\"Individual\",\"\",\"\",\"\",\"0\",\"0\",\"12514\",\"0\",\"2\",\"1\",\"1\",\"9\",\"8318\",\"74\",\"1\",\"1\",\"2807\",\"79\",\"4600\",\"1\",\"0\",\"2\",\"2\",\"2086\",\"344\",\"92\",\"0\",\"0\",\"33\",\"150\",\"9\",\"9\",\"0\",\"9\",\"\",\"9\",\"\",\"0\",\"3\",\"4\",\"3\",\"3\",\"3\",\"4\",\"5\",\"4\",\"6\",\"0\",\"0\",\"0\",\"2\",\"100\",\"100\",\"0\",\"0\",\"15800\",\"12514\",\"4300\",\"11200\",\"\",\"\",\"\",\"\",\"\",\"\",\"\",\"\",\"\",\"\",\"\",\"N\",\"\",\"\",\"\",\"\",\"\",\"\",\"\",\"\",\"\",\"\",\"\",\"\",\"\",\"\",\"Y\",\"Oct-2019\",\"ACTIVE\",\"Oct-2019\",\"3479\",\"60.01\",\"24\"\n",
            "\"\",\"\",\"24000\",\"24000\",\"24000\",\" 36 months\",\" 10.33%\",\"778.14\",\"B\",\"B1\",\"Maintenance Manager\",\"10+ years\",\"MORTGAGE\",\"100000\",\"Not Verified\",\"Dec-2018\",\"Current\",\"n\",\"\",\"\",\"debt_consolidation\",\"Debt consolidation\",\"606xx\",\"IL\",\"19.14\",\"0\",\"Oct-1996\",\"3\",\"39\",\"\",\"14\",\"0\",\"8547\",\"27.7%\",\"28\",\"w\",\"16807.30\",\"16807.30\",\"9317.02\",\"9317.02\",\"7192.70\",\"2124.32\",\"0.0\",\"0.0\",\"0.0\",\"Dec-2019\",\"778.14\",\"Jan-2020\",\"Nov-2019\",\"0\",\"57\",\"1\",\"Individual\",\"\",\"\",\"\",\"0\",\"0\",\"273876\",\"3\",\"5\",\"3\",\"5\",\"5\",\"40384\",\"66\",\"2\",\"4\",\"4368\",\"51\",\"30900\",\"8\",\"0\",\"8\",\"9\",\"19563\",\"17353\",\"33\",\"0\",\"0\",\"266\",\"178\",\"4\",\"4\",\"3\",\"4\",\"39\",\"1\",\"39\",\"1\",\"5\",\"5\",\"6\",\"8\",\"15\",\"7\",\"9\",\"5\",\"14\",\"0\",\"0\",\"0\",\"5\",\"82.1\",\"16.7\",\"0\",\"0\",\"335121\",\"50686\",\"25900\",\"61514\",\"\",\"\",\"\",\"\",\"\",\"\",\"\",\"\",\"\",\"\",\"\",\"N\",\"\",\"\",\"\",\"\",\"\",\"\",\"\",\"\",\"\",\"\",\"\",\"\",\"\",\"\",\"N\",\"\",\"\",\"\",\"\",\"\",\"\"\n",
            "\"\",\"\",\"30000\",\"30000\",\"30000\",\" 36 months\",\" 15.02%\",\"1040.26\",\"C\",\"C3\",\"Firefighter \",\"10+ years\",\"RENT\",\"90000\",\"Verified\",\"Dec-2018\",\"Fully Paid\",\"n\",\"\",\"\",\"debt_consolidation\",\"Debt consolidation\",\"681xx\",\"NE\",\"22.23\",\"0\",\"May-2007\",\"1\",\"\",\"\",\"8\",\"0\",\"25754\",\"48%\",\"23\",\"w\",\"0.00\",\"0.00\",\"30883.673711683\",\"30883.67\",\"30000.00\",\"883.67\",\"0.0\",\"0.0\",\"0.0\",\"Feb-2019\",\"28382.51\",\"\",\"Nov-2019\",\"0\",\"\",\"1\",\"Individual\",\"\",\"\",\"\",\"0\",\"0\",\"51370\",\"1\",\"2\",\"1\",\"2\",\"9\",\"25616\",\"71\",\"2\",\"3\",\"9621\",\"57\",\"53600\",\"0\",\"2\",\"1\",\"5\",\"6421\",\"22030\",\"47\",\"0\",\"0\",\"123\",\"139\",\"3\",\"3\",\"3\",\"3\",\"\",\"3\",\"\",\"0\",\"4\",\"6\",\"4\",\"5\",\"11\",\"6\",\"9\",\"6\",\"8\",\"0\",\"0\",\"0\",\"3\",\"100\",\"50\",\"0\",\"0\",\"89849\",\"51370\",\"41600\",\"36249\",\"\",\"\",\"\",\"\",\"\",\"\",\"\",\"\",\"\",\"\",\"\",\"N\",\"\",\"\",\"\",\"\",\"\",\"\",\"\",\"\",\"\",\"\",\"\",\"\",\"\",\"\",\"N\",\"\",\"\",\"\",\"\",\"\",\"\"\n",
            "\"\",\"\",\"8000\",\"8000\",\"8000\",\" 36 months\",\" 12.98%\",\"269.48\",\"B\",\"B5\",\"Controller\",\"4 years\",\"MORTGAGE\",\"95000\",\"Source Verified\",\"Dec-2018\",\"Current\",\"n\",\"\",\"\",\"credit_card\",\"Credit card refinancing\",\"480xx\",\"MI\",\"9.44\",\"0\",\"Mar-2009\",\"2\",\"73\",\"\",\"7\",\"0\",\"11434\",\"33.3%\",\"20\",\"w\",\"1707.34\",\"1707.34\",\"6855.63\",\"6855.63\",\"6292.66\",\"562.97\",\"0.0\",\"0.0\",\"0.0\",\"Dec-2019\",\"269.48\",\"Jan-2020\",\"Dec-2019\",\"0\",\"73\",\"1\",\"Individual\",\"\",\"\",\"\",\"0\",\"0\",\"247933\",\"5\",\"1\",\"3\",\"4\",\"2\",\"13716\",\"98\",\"4\",\"5\",\"8918\",\"52\",\"34300\",\"2\",\"0\",\"7\",\"10\",\"35419\",\"22866\",\"33.3\",\"0\",\"0\",\"13\",\"117\",\"6\",\"2\",\"1\",\"6\",\"73\",\"2\",\"73\",\"1\",\"3\",\"3\",\"5\",\"15\",\"4\",\"5\",\"15\",\"3\",\"7\",\"0\",\"0\",\"0\",\"8\",\"100\",\"20\",\"0\",\"0\",\"271550\",\"25150\",\"34300\",\"14000\",\"\",\"\",\"\",\"\",\"\",\"\",\"\",\"\",\"\",\"\",\"\",\"N\",\"\",\"\",\"\",\"\",\"\",\"\",\"\",\"\",\"\",\"\",\"\",\"\",\"\",\"\",\"N\",\"\",\"\",\"\",\"\",\"\",\"\"\n",
            "\"\",\"\",\"22400\",\"22400\",\"22400\",\" 60 months\",\" 16.14%\",\"546.4\",\"C\",\"C4\",\"Paramedic/ Fire Fighter\",\"10+ years\",\"OWN\",\"56000\",\"Source Verified\",\"Dec-2018\",\"Current\",\"n\",\"\",\"\",\"credit_card\",\"Credit card refinancing\",\"234xx\",\"VA\",\"18.47\",\"0\",\"Dec-2004\",\"0\",\"75\",\"\",\"15\",\"0\",\"13555\",\"38.2%\",\"22\",\"w\",\"19230.91\",\"19230.91\",\"6526.67\",\"6526.67\",\"3169.09\",\"3357.58\",\"0.0\",\"0.0\",\"0.0\",\"Dec-2019\",\"546.4\",\"Jan-2020\",\"Nov-2019\",\"0\",\"\",\"1\",\"Individual\",\"\",\"\",\"\",\"0\",\"0\",\"217072\",\"0\",\"3\",\"1\",\"1\",\"7\",\"18515\",\"79\",\"1\",\"1\",\"5789\",\"55\",\"35500\",\"1\",\"0\",\"4\",\"2\",\"14471\",\"15054\",\"46.6\",\"0\",\"0\",\"113\",\"168\",\"7\",\"7\",\"5\",\"36\",\"\",\"5\",\"\",\"0\",\"5\",\"7\",\"8\",\"8\",\"5\",\"11\",\"12\",\"7\",\"15\",\"0\",\"0\",\"0\",\"2\",\"95.5\",\"25\",\"0\",\"0\",\"253539\",\"32070\",\"28200\",\"23364\",\"\",\"\",\"\",\"\",\"\",\"\",\"\",\"\",\"\",\"\",\"\",\"N\",\"\",\"\",\"\",\"\",\"\",\"\",\"\",\"\",\"\",\"\",\"\",\"\",\"\",\"\",\"N\",\"\",\"\",\"\",\"\",\"\",\"\"\n",
            "\"\",\"\",\"5000\",\"5000\",\"5000\",\" 36 months\",\" 12.98%\",\"168.43\",\"B\",\"B5\",\"Consultant\",\"2 years\",\"RENT\",\"80000\",\"Not Verified\",\"Dec-2018\",\"Current\",\"n\",\"\",\"\",\"debt_consolidation\",\"Debt consolidation\",\"100xx\",\"NY\",\"2.39\",\"0\",\"Jan-2014\",\"1\",\"\",\"\",\"8\",\"0\",\"7356\",\"9.4%\",\"9\",\"w\",\"3543.19\",\"3543.19\",\"2015.75\",\"2015.75\",\"1456.81\",\"558.94\",\"0.0\",\"0.0\",\"0.0\",\"Dec-2019\",\"168.43\",\"Jan-2020\",\"Nov-2019\",\"0\",\"\",\"1\",\"Individual\",\"\",\"\",\"\",\"0\",\"0\",\"7356\",\"0\",\"0\",\"0\",\"0\",\"\",\"0\",\"\",\"2\",\"2\",\"4957\",\"9\",\"78200\",\"1\",\"0\",\"1\",\"2\",\"920\",\"70844\",\"9.4\",\"0\",\"0\",\"\",\"59\",\"11\",\"11\",\"0\",\"11\",\"\",\"1\",\"\",\"0\",\"4\",\"4\",\"8\",\"8\",\"0\",\"8\",\"8\",\"4\",\"8\",\"0\",\"0\",\"0\",\"2\",\"100\",\"12.5\",\"0\",\"0\",\"78200\",\"7356\",\"78200\",\"0\",\"\",\"\",\"\",\"\",\"\",\"\",\"\",\"\",\"\",\"\",\"\",\"N\",\"\",\"\",\"\",\"\",\"\",\"\",\"\",\"\",\"\",\"\",\"\",\"\",\"\",\"\",\"N\",\"\",\"\",\"\",\"\",\"\",\"\"\n",
            "\"\",\"\",\"27000\",\"27000\",\"27000\",\" 60 months\",\" 15.02%\",\"642.62\",\"C\",\"C3\",\"Supervisor \",\"10+ years\",\"MORTGAGE\",\"45000\",\"Source Verified\",\"Dec-2018\",\"Current\",\"n\",\"\",\"\",\"debt_consolidation\",\"Debt consolidation\",\"656xx\",\"MO\",\"23.55\",\"2\",\"Oct-2006\",\"0\",\"12\",\"\",\"11\",\"0\",\"12903\",\"64.8%\",\"24\",\"w\",\"23082.62\",\"23082.62\",\"7677.64\",\"7677.64\",\"3917.38\",\"3760.26\",\"0.0\",\"0.0\",\"0.0\",\"Dec-2019\",\"642.62\",\"Jan-2020\",\"Dec-2019\",\"0\",\"\",\"1\",\"Individual\",\"\",\"\",\"\",\"0\",\"0\",\"21902\",\"0\",\"1\",\"0\",\"0\",\"42\",\"8999\",\"42\",\"0\",\"1\",\"5787\",\"53\",\"19900\",\"0\",\"1\",\"0\",\"1\",\"1991\",\"3225\",\"78.1\",\"0\",\"0\",\"144\",\"146\",\"17\",\"17\",\"1\",\"17\",\"33\",\"\",\"12\",\"0\",\"6\",\"8\",\"7\",\"13\",\"5\",\"10\",\"18\",\"8\",\"11\",\"0\",\"0\",\"0\",\"0\",\"87.5\",\"57.1\",\"0\",\"0\",\"41500\",\"21902\",\"14700\",\"21600\",\"\",\"\",\"\",\"\",\"\",\"\",\"\",\"\",\"\",\"\",\"\",\"N\",\"\",\"\",\"\",\"\",\"\",\"\",\"\",\"\",\"\",\"\",\"\",\"\",\"\",\"\",\"N\",\"\",\"\",\"\",\"\",\"\",\"\"\n",
            "\"\",\"\",\"10000\",\"10000\",\"10000\",\" 36 months\",\" 16.14%\",\"352.27\",\"C\",\"C4\",\"\",\"< 1 year\",\"MORTGAGE\",\"90000\",\"Not Verified\",\"Dec-2018\",\"Current\",\"n\",\"\",\"\",\"debt_consolidation\",\"Debt consolidation\",\"934xx\",\"CA\",\"7.85\",\"0\",\"Jun-2009\",\"0\",\"\",\"\",\"10\",\"0\",\"17271\",\"48.5%\",\"12\",\"w\",\"7184.51\",\"7184.51\",\"4213.79\",\"4213.79\",\"2815.49\",\"1398.30\",\"0.0\",\"0.0\",\"0.0\",\"Dec-2019\",\"352.27\",\"Jan-2020\",\"Nov-2019\",\"0\",\"\",\"1\",\"Individual\",\"\",\"\",\"\",\"0\",\"0\",\"24085\",\"1\",\"1\",\"0\",\"1\",\"15\",\"6814\",\"68\",\"2\",\"5\",\"11822\",\"53\",\"35600\",\"1\",\"0\",\"0\",\"6\",\"2409\",\"10982\",\"59.3\",\"0\",\"0\",\"114\",\"56\",\"1\",\"1\",\"0\",\"1\",\"\",\"15\",\"\",\"0\",\"3\",\"4\",\"8\",\"8\",\"2\",\"9\",\"10\",\"4\",\"10\",\"0\",\"0\",\"0\",\"2\",\"100\",\"37.5\",\"0\",\"0\",\"45600\",\"24085\",\"27000\",\"10000\",\"\",\"\",\"\",\"\",\"\",\"\",\"\",\"\",\"\",\"\",\"\",\"N\",\"\",\"\",\"\",\"\",\"\",\"\",\"\",\"\",\"\",\"\",\"\",\"\",\"\",\"\",\"N\",\"\",\"\",\"\",\"\",\"\",\"\"\n"
          ],
          "name": "stdout"
        }
      ]
    },
    {
      "cell_type": "code",
      "metadata": {
        "id": "t-uPShUxqa9O",
        "colab_type": "code",
        "colab": {}
      },
      "source": [
        ""
      ],
      "execution_count": null,
      "outputs": []
    },
    {
      "cell_type": "markdown",
      "metadata": {
        "id": "C_bEBsHTqduT",
        "colab_type": "text"
      },
      "source": [
        "As we look at the raw file itself, do you see anything that might cause us trouble as we read in the CSV file to a dataframe?"
      ]
    },
    {
      "cell_type": "code",
      "metadata": {
        "id": "ikpjHKeiqlWp",
        "colab_type": "code",
        "colab": {
          "base_uri": "https://localhost:8080/",
          "height": 343
        },
        "outputId": "76d610bd-7d59-4475-eded-944332f1b48e"
      },
      "source": [
        "# Read in the CSV\n",
        "import pandas as pd\n",
        "df = pd.read_csv('LoanStats_2018Q4.csv')\n",
        "df.head()"
      ],
      "execution_count": null,
      "outputs": [
        {
          "output_type": "stream",
          "text": [
            "/usr/local/lib/python3.6/dist-packages/IPython/core/interactiveshell.py:2718: DtypeWarning: Columns (0,1,2,3,4,7,13,18,19,24,25,27,28,29,30,31,32,34,36,37,38,39,40,41,42,43,44,46,49,50,51,53,54,56,57,58,59,60,61,62,63,64,65,66,67,68,69,70,71,72,73,74,75,76,77,78,79,80,81,82,83,84,85,86,87,88,89,90,91,92,93,94,95,96,97,98,99,100,101,102,103,104,105,106,107,108,109,110,111,113,114,115,116,117,118,119,120,121,126,127,131,132,134,135,136,141,142,143) have mixed types. Specify dtype option on import or set low_memory=False.\n",
            "  interactivity=interactivity, compiler=compiler, result=result)\n"
          ],
          "name": "stderr"
        },
        {
          "output_type": "execute_result",
          "data": {
            "text/html": [
              "<div>\n",
              "<style scoped>\n",
              "    .dataframe tbody tr th:only-of-type {\n",
              "        vertical-align: middle;\n",
              "    }\n",
              "\n",
              "    .dataframe tbody tr th {\n",
              "        vertical-align: top;\n",
              "    }\n",
              "\n",
              "    .dataframe thead th {\n",
              "        text-align: right;\n",
              "    }\n",
              "</style>\n",
              "<table border=\"1\" class=\"dataframe\">\n",
              "  <thead>\n",
              "    <tr style=\"text-align: right;\">\n",
              "      <th></th>\n",
              "      <th></th>\n",
              "      <th></th>\n",
              "      <th></th>\n",
              "      <th></th>\n",
              "      <th></th>\n",
              "      <th></th>\n",
              "      <th></th>\n",
              "      <th></th>\n",
              "      <th></th>\n",
              "      <th></th>\n",
              "      <th></th>\n",
              "      <th></th>\n",
              "      <th></th>\n",
              "      <th></th>\n",
              "      <th></th>\n",
              "      <th></th>\n",
              "      <th></th>\n",
              "      <th></th>\n",
              "      <th></th>\n",
              "      <th></th>\n",
              "      <th></th>\n",
              "      <th></th>\n",
              "      <th></th>\n",
              "      <th></th>\n",
              "      <th></th>\n",
              "      <th></th>\n",
              "      <th></th>\n",
              "      <th></th>\n",
              "      <th></th>\n",
              "      <th></th>\n",
              "      <th></th>\n",
              "      <th></th>\n",
              "      <th></th>\n",
              "      <th></th>\n",
              "      <th></th>\n",
              "      <th></th>\n",
              "      <th></th>\n",
              "      <th></th>\n",
              "      <th></th>\n",
              "      <th></th>\n",
              "      <th></th>\n",
              "      <th></th>\n",
              "      <th></th>\n",
              "      <th></th>\n",
              "      <th></th>\n",
              "      <th></th>\n",
              "      <th></th>\n",
              "      <th></th>\n",
              "      <th></th>\n",
              "      <th></th>\n",
              "      <th></th>\n",
              "      <th></th>\n",
              "      <th></th>\n",
              "      <th></th>\n",
              "      <th></th>\n",
              "      <th></th>\n",
              "      <th></th>\n",
              "      <th></th>\n",
              "      <th></th>\n",
              "      <th></th>\n",
              "      <th></th>\n",
              "      <th></th>\n",
              "      <th></th>\n",
              "      <th></th>\n",
              "      <th></th>\n",
              "      <th></th>\n",
              "      <th></th>\n",
              "      <th></th>\n",
              "      <th></th>\n",
              "      <th></th>\n",
              "      <th></th>\n",
              "      <th></th>\n",
              "      <th></th>\n",
              "      <th></th>\n",
              "      <th></th>\n",
              "      <th></th>\n",
              "      <th></th>\n",
              "      <th></th>\n",
              "      <th></th>\n",
              "      <th></th>\n",
              "      <th></th>\n",
              "      <th></th>\n",
              "      <th></th>\n",
              "      <th></th>\n",
              "      <th></th>\n",
              "      <th></th>\n",
              "      <th></th>\n",
              "      <th></th>\n",
              "      <th></th>\n",
              "      <th></th>\n",
              "      <th></th>\n",
              "      <th></th>\n",
              "      <th></th>\n",
              "      <th></th>\n",
              "      <th></th>\n",
              "      <th></th>\n",
              "      <th></th>\n",
              "      <th></th>\n",
              "      <th></th>\n",
              "      <th></th>\n",
              "      <th></th>\n",
              "      <th></th>\n",
              "      <th></th>\n",
              "      <th></th>\n",
              "      <th></th>\n",
              "      <th></th>\n",
              "      <th></th>\n",
              "      <th></th>\n",
              "      <th></th>\n",
              "      <th></th>\n",
              "      <th></th>\n",
              "      <th></th>\n",
              "      <th></th>\n",
              "      <th></th>\n",
              "      <th></th>\n",
              "      <th></th>\n",
              "      <th></th>\n",
              "      <th></th>\n",
              "      <th></th>\n",
              "      <th></th>\n",
              "      <th></th>\n",
              "      <th></th>\n",
              "      <th></th>\n",
              "      <th></th>\n",
              "      <th></th>\n",
              "      <th></th>\n",
              "      <th></th>\n",
              "      <th></th>\n",
              "      <th></th>\n",
              "      <th></th>\n",
              "      <th></th>\n",
              "      <th></th>\n",
              "      <th></th>\n",
              "      <th></th>\n",
              "      <th></th>\n",
              "      <th></th>\n",
              "      <th></th>\n",
              "      <th></th>\n",
              "      <th></th>\n",
              "      <th></th>\n",
              "      <th></th>\n",
              "      <th></th>\n",
              "      <th>Notes offered by Prospectus (https://www.lendingclub.com/info/prospectus.action)</th>\n",
              "    </tr>\n",
              "  </thead>\n",
              "  <tbody>\n",
              "    <tr>\n",
              "      <th>id</th>\n",
              "      <th>member_id</th>\n",
              "      <th>loan_amnt</th>\n",
              "      <th>funded_amnt</th>\n",
              "      <th>funded_amnt_inv</th>\n",
              "      <th>term</th>\n",
              "      <th>int_rate</th>\n",
              "      <th>installment</th>\n",
              "      <th>grade</th>\n",
              "      <th>sub_grade</th>\n",
              "      <th>emp_title</th>\n",
              "      <th>emp_length</th>\n",
              "      <th>home_ownership</th>\n",
              "      <th>annual_inc</th>\n",
              "      <th>verification_status</th>\n",
              "      <th>issue_d</th>\n",
              "      <th>loan_status</th>\n",
              "      <th>pymnt_plan</th>\n",
              "      <th>url</th>\n",
              "      <th>desc</th>\n",
              "      <th>purpose</th>\n",
              "      <th>title</th>\n",
              "      <th>zip_code</th>\n",
              "      <th>addr_state</th>\n",
              "      <th>dti</th>\n",
              "      <th>delinq_2yrs</th>\n",
              "      <th>earliest_cr_line</th>\n",
              "      <th>inq_last_6mths</th>\n",
              "      <th>mths_since_last_delinq</th>\n",
              "      <th>mths_since_last_record</th>\n",
              "      <th>open_acc</th>\n",
              "      <th>pub_rec</th>\n",
              "      <th>revol_bal</th>\n",
              "      <th>revol_util</th>\n",
              "      <th>total_acc</th>\n",
              "      <th>initial_list_status</th>\n",
              "      <th>out_prncp</th>\n",
              "      <th>out_prncp_inv</th>\n",
              "      <th>total_pymnt</th>\n",
              "      <th>total_pymnt_inv</th>\n",
              "      <th>total_rec_prncp</th>\n",
              "      <th>total_rec_int</th>\n",
              "      <th>total_rec_late_fee</th>\n",
              "      <th>recoveries</th>\n",
              "      <th>collection_recovery_fee</th>\n",
              "      <th>last_pymnt_d</th>\n",
              "      <th>last_pymnt_amnt</th>\n",
              "      <th>next_pymnt_d</th>\n",
              "      <th>last_credit_pull_d</th>\n",
              "      <th>collections_12_mths_ex_med</th>\n",
              "      <th>mths_since_last_major_derog</th>\n",
              "      <th>policy_code</th>\n",
              "      <th>application_type</th>\n",
              "      <th>annual_inc_joint</th>\n",
              "      <th>dti_joint</th>\n",
              "      <th>verification_status_joint</th>\n",
              "      <th>acc_now_delinq</th>\n",
              "      <th>tot_coll_amt</th>\n",
              "      <th>tot_cur_bal</th>\n",
              "      <th>open_acc_6m</th>\n",
              "      <th>open_act_il</th>\n",
              "      <th>open_il_12m</th>\n",
              "      <th>open_il_24m</th>\n",
              "      <th>mths_since_rcnt_il</th>\n",
              "      <th>total_bal_il</th>\n",
              "      <th>il_util</th>\n",
              "      <th>open_rv_12m</th>\n",
              "      <th>open_rv_24m</th>\n",
              "      <th>max_bal_bc</th>\n",
              "      <th>all_util</th>\n",
              "      <th>total_rev_hi_lim</th>\n",
              "      <th>inq_fi</th>\n",
              "      <th>total_cu_tl</th>\n",
              "      <th>inq_last_12m</th>\n",
              "      <th>acc_open_past_24mths</th>\n",
              "      <th>avg_cur_bal</th>\n",
              "      <th>bc_open_to_buy</th>\n",
              "      <th>bc_util</th>\n",
              "      <th>chargeoff_within_12_mths</th>\n",
              "      <th>delinq_amnt</th>\n",
              "      <th>mo_sin_old_il_acct</th>\n",
              "      <th>mo_sin_old_rev_tl_op</th>\n",
              "      <th>mo_sin_rcnt_rev_tl_op</th>\n",
              "      <th>mo_sin_rcnt_tl</th>\n",
              "      <th>mort_acc</th>\n",
              "      <th>mths_since_recent_bc</th>\n",
              "      <th>mths_since_recent_bc_dlq</th>\n",
              "      <th>mths_since_recent_inq</th>\n",
              "      <th>mths_since_recent_revol_delinq</th>\n",
              "      <th>num_accts_ever_120_pd</th>\n",
              "      <th>num_actv_bc_tl</th>\n",
              "      <th>num_actv_rev_tl</th>\n",
              "      <th>num_bc_sats</th>\n",
              "      <th>num_bc_tl</th>\n",
              "      <th>num_il_tl</th>\n",
              "      <th>num_op_rev_tl</th>\n",
              "      <th>num_rev_accts</th>\n",
              "      <th>num_rev_tl_bal_gt_0</th>\n",
              "      <th>num_sats</th>\n",
              "      <th>num_tl_120dpd_2m</th>\n",
              "      <th>num_tl_30dpd</th>\n",
              "      <th>num_tl_90g_dpd_24m</th>\n",
              "      <th>num_tl_op_past_12m</th>\n",
              "      <th>pct_tl_nvr_dlq</th>\n",
              "      <th>percent_bc_gt_75</th>\n",
              "      <th>pub_rec_bankruptcies</th>\n",
              "      <th>tax_liens</th>\n",
              "      <th>tot_hi_cred_lim</th>\n",
              "      <th>total_bal_ex_mort</th>\n",
              "      <th>total_bc_limit</th>\n",
              "      <th>total_il_high_credit_limit</th>\n",
              "      <th>revol_bal_joint</th>\n",
              "      <th>sec_app_earliest_cr_line</th>\n",
              "      <th>sec_app_inq_last_6mths</th>\n",
              "      <th>sec_app_mort_acc</th>\n",
              "      <th>sec_app_open_acc</th>\n",
              "      <th>sec_app_revol_util</th>\n",
              "      <th>sec_app_open_act_il</th>\n",
              "      <th>sec_app_num_rev_accts</th>\n",
              "      <th>sec_app_chargeoff_within_12_mths</th>\n",
              "      <th>sec_app_collections_12_mths_ex_med</th>\n",
              "      <th>sec_app_mths_since_last_major_derog</th>\n",
              "      <th>hardship_flag</th>\n",
              "      <th>hardship_type</th>\n",
              "      <th>hardship_reason</th>\n",
              "      <th>hardship_status</th>\n",
              "      <th>deferral_term</th>\n",
              "      <th>hardship_amount</th>\n",
              "      <th>hardship_start_date</th>\n",
              "      <th>hardship_end_date</th>\n",
              "      <th>payment_plan_start_date</th>\n",
              "      <th>hardship_length</th>\n",
              "      <th>hardship_dpd</th>\n",
              "      <th>hardship_loan_status</th>\n",
              "      <th>orig_projected_additional_accrued_interest</th>\n",
              "      <th>hardship_payoff_balance_amount</th>\n",
              "      <th>hardship_last_payment_amount</th>\n",
              "      <th>debt_settlement_flag</th>\n",
              "      <th>debt_settlement_flag_date</th>\n",
              "      <th>settlement_status</th>\n",
              "      <th>settlement_date</th>\n",
              "      <th>settlement_amount</th>\n",
              "      <th>settlement_percentage</th>\n",
              "      <td>settlement_term</td>\n",
              "    </tr>\n",
              "    <tr>\n",
              "      <th rowspan=\"4\" valign=\"top\">NaN</th>\n",
              "      <th rowspan=\"4\" valign=\"top\">NaN</th>\n",
              "      <th>6000</th>\n",
              "      <th>6000</th>\n",
              "      <th>6000</th>\n",
              "      <th>36 months</th>\n",
              "      <th>14.47%</th>\n",
              "      <th>206.44</th>\n",
              "      <th>C</th>\n",
              "      <th>C2</th>\n",
              "      <th>Manager</th>\n",
              "      <th>10+ years</th>\n",
              "      <th>RENT</th>\n",
              "      <th>55000</th>\n",
              "      <th>Verified</th>\n",
              "      <th>Dec-2018</th>\n",
              "      <th>Charged Off</th>\n",
              "      <th>n</th>\n",
              "      <th>NaN</th>\n",
              "      <th>NaN</th>\n",
              "      <th>credit_card</th>\n",
              "      <th>Credit card refinancing</th>\n",
              "      <th>104xx</th>\n",
              "      <th>NY</th>\n",
              "      <th>10.65</th>\n",
              "      <th>0</th>\n",
              "      <th>Jun-2006</th>\n",
              "      <th>0</th>\n",
              "      <th>NaN</th>\n",
              "      <th>NaN</th>\n",
              "      <th>6</th>\n",
              "      <th>0</th>\n",
              "      <th>4196</th>\n",
              "      <th>91.2%</th>\n",
              "      <th>8</th>\n",
              "      <th>w</th>\n",
              "      <th>0.00</th>\n",
              "      <th>0.00</th>\n",
              "      <th>1106.52</th>\n",
              "      <th>1106.52</th>\n",
              "      <th>546.14</th>\n",
              "      <th>272.38</th>\n",
              "      <th>0.0</th>\n",
              "      <th>288.0</th>\n",
              "      <th>51.84</th>\n",
              "      <th>Apr-2019</th>\n",
              "      <th>206.44</th>\n",
              "      <th>NaN</th>\n",
              "      <th>Nov-2019</th>\n",
              "      <th>0</th>\n",
              "      <th>NaN</th>\n",
              "      <th>1</th>\n",
              "      <th>Individual</th>\n",
              "      <th>NaN</th>\n",
              "      <th>NaN</th>\n",
              "      <th>NaN</th>\n",
              "      <th>0</th>\n",
              "      <th>0</th>\n",
              "      <th>12514</th>\n",
              "      <th>0</th>\n",
              "      <th>2</th>\n",
              "      <th>1</th>\n",
              "      <th>1</th>\n",
              "      <th>9</th>\n",
              "      <th>8318</th>\n",
              "      <th>74</th>\n",
              "      <th>1</th>\n",
              "      <th>1</th>\n",
              "      <th>2807</th>\n",
              "      <th>79</th>\n",
              "      <th>4600</th>\n",
              "      <th>1</th>\n",
              "      <th>0</th>\n",
              "      <th>2</th>\n",
              "      <th>2</th>\n",
              "      <th>2086</th>\n",
              "      <th>344</th>\n",
              "      <th>92</th>\n",
              "      <th>0</th>\n",
              "      <th>0</th>\n",
              "      <th>33</th>\n",
              "      <th>150</th>\n",
              "      <th>9</th>\n",
              "      <th>9</th>\n",
              "      <th>0</th>\n",
              "      <th>9</th>\n",
              "      <th>NaN</th>\n",
              "      <th>9</th>\n",
              "      <th>NaN</th>\n",
              "      <th>0</th>\n",
              "      <th>3</th>\n",
              "      <th>4</th>\n",
              "      <th>3</th>\n",
              "      <th>3</th>\n",
              "      <th>3</th>\n",
              "      <th>4</th>\n",
              "      <th>5</th>\n",
              "      <th>4</th>\n",
              "      <th>6</th>\n",
              "      <th>0</th>\n",
              "      <th>0</th>\n",
              "      <th>0</th>\n",
              "      <th>2</th>\n",
              "      <th>100</th>\n",
              "      <th>100</th>\n",
              "      <th>0</th>\n",
              "      <th>0</th>\n",
              "      <th>15800</th>\n",
              "      <th>12514</th>\n",
              "      <th>4300</th>\n",
              "      <th>11200</th>\n",
              "      <th>NaN</th>\n",
              "      <th>NaN</th>\n",
              "      <th>NaN</th>\n",
              "      <th>NaN</th>\n",
              "      <th>NaN</th>\n",
              "      <th>NaN</th>\n",
              "      <th>NaN</th>\n",
              "      <th>NaN</th>\n",
              "      <th>NaN</th>\n",
              "      <th>NaN</th>\n",
              "      <th>NaN</th>\n",
              "      <th>N</th>\n",
              "      <th>NaN</th>\n",
              "      <th>NaN</th>\n",
              "      <th>NaN</th>\n",
              "      <th>NaN</th>\n",
              "      <th>NaN</th>\n",
              "      <th>NaN</th>\n",
              "      <th>NaN</th>\n",
              "      <th>NaN</th>\n",
              "      <th>NaN</th>\n",
              "      <th>NaN</th>\n",
              "      <th>NaN</th>\n",
              "      <th>NaN</th>\n",
              "      <th>NaN</th>\n",
              "      <th>NaN</th>\n",
              "      <th>Y</th>\n",
              "      <th>Oct-2019</th>\n",
              "      <th>ACTIVE</th>\n",
              "      <th>Oct-2019</th>\n",
              "      <th>3479</th>\n",
              "      <th>60.01</th>\n",
              "      <td>24</td>\n",
              "    </tr>\n",
              "    <tr>\n",
              "      <th>24000</th>\n",
              "      <th>24000</th>\n",
              "      <th>24000</th>\n",
              "      <th>36 months</th>\n",
              "      <th>10.33%</th>\n",
              "      <th>778.14</th>\n",
              "      <th>B</th>\n",
              "      <th>B1</th>\n",
              "      <th>Maintenance Manager</th>\n",
              "      <th>10+ years</th>\n",
              "      <th>MORTGAGE</th>\n",
              "      <th>100000</th>\n",
              "      <th>Not Verified</th>\n",
              "      <th>Dec-2018</th>\n",
              "      <th>Current</th>\n",
              "      <th>n</th>\n",
              "      <th>NaN</th>\n",
              "      <th>NaN</th>\n",
              "      <th>debt_consolidation</th>\n",
              "      <th>Debt consolidation</th>\n",
              "      <th>606xx</th>\n",
              "      <th>IL</th>\n",
              "      <th>19.14</th>\n",
              "      <th>0</th>\n",
              "      <th>Oct-1996</th>\n",
              "      <th>3</th>\n",
              "      <th>39</th>\n",
              "      <th>NaN</th>\n",
              "      <th>14</th>\n",
              "      <th>0</th>\n",
              "      <th>8547</th>\n",
              "      <th>27.7%</th>\n",
              "      <th>28</th>\n",
              "      <th>w</th>\n",
              "      <th>16807.30</th>\n",
              "      <th>16807.30</th>\n",
              "      <th>9317.02</th>\n",
              "      <th>9317.02</th>\n",
              "      <th>7192.70</th>\n",
              "      <th>2124.32</th>\n",
              "      <th>0.0</th>\n",
              "      <th>0.0</th>\n",
              "      <th>0.0</th>\n",
              "      <th>Dec-2019</th>\n",
              "      <th>778.14</th>\n",
              "      <th>Jan-2020</th>\n",
              "      <th>Nov-2019</th>\n",
              "      <th>0</th>\n",
              "      <th>57</th>\n",
              "      <th>1</th>\n",
              "      <th>Individual</th>\n",
              "      <th>NaN</th>\n",
              "      <th>NaN</th>\n",
              "      <th>NaN</th>\n",
              "      <th>0</th>\n",
              "      <th>0</th>\n",
              "      <th>273876</th>\n",
              "      <th>3</th>\n",
              "      <th>5</th>\n",
              "      <th>3</th>\n",
              "      <th>5</th>\n",
              "      <th>5</th>\n",
              "      <th>40384</th>\n",
              "      <th>66</th>\n",
              "      <th>2</th>\n",
              "      <th>4</th>\n",
              "      <th>4368</th>\n",
              "      <th>51</th>\n",
              "      <th>30900</th>\n",
              "      <th>8</th>\n",
              "      <th>0</th>\n",
              "      <th>8</th>\n",
              "      <th>9</th>\n",
              "      <th>19563</th>\n",
              "      <th>17353</th>\n",
              "      <th>33</th>\n",
              "      <th>0</th>\n",
              "      <th>0</th>\n",
              "      <th>266</th>\n",
              "      <th>178</th>\n",
              "      <th>4</th>\n",
              "      <th>4</th>\n",
              "      <th>3</th>\n",
              "      <th>4</th>\n",
              "      <th>39</th>\n",
              "      <th>1</th>\n",
              "      <th>39</th>\n",
              "      <th>1</th>\n",
              "      <th>5</th>\n",
              "      <th>5</th>\n",
              "      <th>6</th>\n",
              "      <th>8</th>\n",
              "      <th>15</th>\n",
              "      <th>7</th>\n",
              "      <th>9</th>\n",
              "      <th>5</th>\n",
              "      <th>14</th>\n",
              "      <th>0</th>\n",
              "      <th>0</th>\n",
              "      <th>0</th>\n",
              "      <th>5</th>\n",
              "      <th>82.1</th>\n",
              "      <th>16.7</th>\n",
              "      <th>0</th>\n",
              "      <th>0</th>\n",
              "      <th>335121</th>\n",
              "      <th>50686</th>\n",
              "      <th>25900</th>\n",
              "      <th>61514</th>\n",
              "      <th>NaN</th>\n",
              "      <th>NaN</th>\n",
              "      <th>NaN</th>\n",
              "      <th>NaN</th>\n",
              "      <th>NaN</th>\n",
              "      <th>NaN</th>\n",
              "      <th>NaN</th>\n",
              "      <th>NaN</th>\n",
              "      <th>NaN</th>\n",
              "      <th>NaN</th>\n",
              "      <th>NaN</th>\n",
              "      <th>N</th>\n",
              "      <th>NaN</th>\n",
              "      <th>NaN</th>\n",
              "      <th>NaN</th>\n",
              "      <th>NaN</th>\n",
              "      <th>NaN</th>\n",
              "      <th>NaN</th>\n",
              "      <th>NaN</th>\n",
              "      <th>NaN</th>\n",
              "      <th>NaN</th>\n",
              "      <th>NaN</th>\n",
              "      <th>NaN</th>\n",
              "      <th>NaN</th>\n",
              "      <th>NaN</th>\n",
              "      <th>NaN</th>\n",
              "      <th>N</th>\n",
              "      <th>NaN</th>\n",
              "      <th>NaN</th>\n",
              "      <th>NaN</th>\n",
              "      <th>NaN</th>\n",
              "      <th>NaN</th>\n",
              "      <td>NaN</td>\n",
              "    </tr>\n",
              "    <tr>\n",
              "      <th>30000</th>\n",
              "      <th>30000</th>\n",
              "      <th>30000</th>\n",
              "      <th>36 months</th>\n",
              "      <th>15.02%</th>\n",
              "      <th>1040.26</th>\n",
              "      <th>C</th>\n",
              "      <th>C3</th>\n",
              "      <th>Firefighter</th>\n",
              "      <th>10+ years</th>\n",
              "      <th>RENT</th>\n",
              "      <th>90000</th>\n",
              "      <th>Verified</th>\n",
              "      <th>Dec-2018</th>\n",
              "      <th>Fully Paid</th>\n",
              "      <th>n</th>\n",
              "      <th>NaN</th>\n",
              "      <th>NaN</th>\n",
              "      <th>debt_consolidation</th>\n",
              "      <th>Debt consolidation</th>\n",
              "      <th>681xx</th>\n",
              "      <th>NE</th>\n",
              "      <th>22.23</th>\n",
              "      <th>0</th>\n",
              "      <th>May-2007</th>\n",
              "      <th>1</th>\n",
              "      <th>NaN</th>\n",
              "      <th>NaN</th>\n",
              "      <th>8</th>\n",
              "      <th>0</th>\n",
              "      <th>25754</th>\n",
              "      <th>48%</th>\n",
              "      <th>23</th>\n",
              "      <th>w</th>\n",
              "      <th>0.00</th>\n",
              "      <th>0.00</th>\n",
              "      <th>30883.673711683</th>\n",
              "      <th>30883.67</th>\n",
              "      <th>30000.00</th>\n",
              "      <th>883.67</th>\n",
              "      <th>0.0</th>\n",
              "      <th>0.0</th>\n",
              "      <th>0.0</th>\n",
              "      <th>Feb-2019</th>\n",
              "      <th>28382.51</th>\n",
              "      <th>NaN</th>\n",
              "      <th>Nov-2019</th>\n",
              "      <th>0</th>\n",
              "      <th>NaN</th>\n",
              "      <th>1</th>\n",
              "      <th>Individual</th>\n",
              "      <th>NaN</th>\n",
              "      <th>NaN</th>\n",
              "      <th>NaN</th>\n",
              "      <th>0</th>\n",
              "      <th>0</th>\n",
              "      <th>51370</th>\n",
              "      <th>1</th>\n",
              "      <th>2</th>\n",
              "      <th>1</th>\n",
              "      <th>2</th>\n",
              "      <th>9</th>\n",
              "      <th>25616</th>\n",
              "      <th>71</th>\n",
              "      <th>2</th>\n",
              "      <th>3</th>\n",
              "      <th>9621</th>\n",
              "      <th>57</th>\n",
              "      <th>53600</th>\n",
              "      <th>0</th>\n",
              "      <th>2</th>\n",
              "      <th>1</th>\n",
              "      <th>5</th>\n",
              "      <th>6421</th>\n",
              "      <th>22030</th>\n",
              "      <th>47</th>\n",
              "      <th>0</th>\n",
              "      <th>0</th>\n",
              "      <th>123</th>\n",
              "      <th>139</th>\n",
              "      <th>3</th>\n",
              "      <th>3</th>\n",
              "      <th>3</th>\n",
              "      <th>3</th>\n",
              "      <th>NaN</th>\n",
              "      <th>3</th>\n",
              "      <th>NaN</th>\n",
              "      <th>0</th>\n",
              "      <th>4</th>\n",
              "      <th>6</th>\n",
              "      <th>4</th>\n",
              "      <th>5</th>\n",
              "      <th>11</th>\n",
              "      <th>6</th>\n",
              "      <th>9</th>\n",
              "      <th>6</th>\n",
              "      <th>8</th>\n",
              "      <th>0</th>\n",
              "      <th>0</th>\n",
              "      <th>0</th>\n",
              "      <th>3</th>\n",
              "      <th>100</th>\n",
              "      <th>50</th>\n",
              "      <th>0</th>\n",
              "      <th>0</th>\n",
              "      <th>89849</th>\n",
              "      <th>51370</th>\n",
              "      <th>41600</th>\n",
              "      <th>36249</th>\n",
              "      <th>NaN</th>\n",
              "      <th>NaN</th>\n",
              "      <th>NaN</th>\n",
              "      <th>NaN</th>\n",
              "      <th>NaN</th>\n",
              "      <th>NaN</th>\n",
              "      <th>NaN</th>\n",
              "      <th>NaN</th>\n",
              "      <th>NaN</th>\n",
              "      <th>NaN</th>\n",
              "      <th>NaN</th>\n",
              "      <th>N</th>\n",
              "      <th>NaN</th>\n",
              "      <th>NaN</th>\n",
              "      <th>NaN</th>\n",
              "      <th>NaN</th>\n",
              "      <th>NaN</th>\n",
              "      <th>NaN</th>\n",
              "      <th>NaN</th>\n",
              "      <th>NaN</th>\n",
              "      <th>NaN</th>\n",
              "      <th>NaN</th>\n",
              "      <th>NaN</th>\n",
              "      <th>NaN</th>\n",
              "      <th>NaN</th>\n",
              "      <th>NaN</th>\n",
              "      <th>N</th>\n",
              "      <th>NaN</th>\n",
              "      <th>NaN</th>\n",
              "      <th>NaN</th>\n",
              "      <th>NaN</th>\n",
              "      <th>NaN</th>\n",
              "      <td>NaN</td>\n",
              "    </tr>\n",
              "    <tr>\n",
              "      <th>8000</th>\n",
              "      <th>8000</th>\n",
              "      <th>8000</th>\n",
              "      <th>36 months</th>\n",
              "      <th>12.98%</th>\n",
              "      <th>269.48</th>\n",
              "      <th>B</th>\n",
              "      <th>B5</th>\n",
              "      <th>Controller</th>\n",
              "      <th>4 years</th>\n",
              "      <th>MORTGAGE</th>\n",
              "      <th>95000</th>\n",
              "      <th>Source Verified</th>\n",
              "      <th>Dec-2018</th>\n",
              "      <th>Current</th>\n",
              "      <th>n</th>\n",
              "      <th>NaN</th>\n",
              "      <th>NaN</th>\n",
              "      <th>credit_card</th>\n",
              "      <th>Credit card refinancing</th>\n",
              "      <th>480xx</th>\n",
              "      <th>MI</th>\n",
              "      <th>9.44</th>\n",
              "      <th>0</th>\n",
              "      <th>Mar-2009</th>\n",
              "      <th>2</th>\n",
              "      <th>73</th>\n",
              "      <th>NaN</th>\n",
              "      <th>7</th>\n",
              "      <th>0</th>\n",
              "      <th>11434</th>\n",
              "      <th>33.3%</th>\n",
              "      <th>20</th>\n",
              "      <th>w</th>\n",
              "      <th>1707.34</th>\n",
              "      <th>1707.34</th>\n",
              "      <th>6855.63</th>\n",
              "      <th>6855.63</th>\n",
              "      <th>6292.66</th>\n",
              "      <th>562.97</th>\n",
              "      <th>0.0</th>\n",
              "      <th>0.0</th>\n",
              "      <th>0.0</th>\n",
              "      <th>Dec-2019</th>\n",
              "      <th>269.48</th>\n",
              "      <th>Jan-2020</th>\n",
              "      <th>Dec-2019</th>\n",
              "      <th>0</th>\n",
              "      <th>73</th>\n",
              "      <th>1</th>\n",
              "      <th>Individual</th>\n",
              "      <th>NaN</th>\n",
              "      <th>NaN</th>\n",
              "      <th>NaN</th>\n",
              "      <th>0</th>\n",
              "      <th>0</th>\n",
              "      <th>247933</th>\n",
              "      <th>5</th>\n",
              "      <th>1</th>\n",
              "      <th>3</th>\n",
              "      <th>4</th>\n",
              "      <th>2</th>\n",
              "      <th>13716</th>\n",
              "      <th>98</th>\n",
              "      <th>4</th>\n",
              "      <th>5</th>\n",
              "      <th>8918</th>\n",
              "      <th>52</th>\n",
              "      <th>34300</th>\n",
              "      <th>2</th>\n",
              "      <th>0</th>\n",
              "      <th>7</th>\n",
              "      <th>10</th>\n",
              "      <th>35419</th>\n",
              "      <th>22866</th>\n",
              "      <th>33.3</th>\n",
              "      <th>0</th>\n",
              "      <th>0</th>\n",
              "      <th>13</th>\n",
              "      <th>117</th>\n",
              "      <th>6</th>\n",
              "      <th>2</th>\n",
              "      <th>1</th>\n",
              "      <th>6</th>\n",
              "      <th>73</th>\n",
              "      <th>2</th>\n",
              "      <th>73</th>\n",
              "      <th>1</th>\n",
              "      <th>3</th>\n",
              "      <th>3</th>\n",
              "      <th>5</th>\n",
              "      <th>15</th>\n",
              "      <th>4</th>\n",
              "      <th>5</th>\n",
              "      <th>15</th>\n",
              "      <th>3</th>\n",
              "      <th>7</th>\n",
              "      <th>0</th>\n",
              "      <th>0</th>\n",
              "      <th>0</th>\n",
              "      <th>8</th>\n",
              "      <th>100</th>\n",
              "      <th>20</th>\n",
              "      <th>0</th>\n",
              "      <th>0</th>\n",
              "      <th>271550</th>\n",
              "      <th>25150</th>\n",
              "      <th>34300</th>\n",
              "      <th>14000</th>\n",
              "      <th>NaN</th>\n",
              "      <th>NaN</th>\n",
              "      <th>NaN</th>\n",
              "      <th>NaN</th>\n",
              "      <th>NaN</th>\n",
              "      <th>NaN</th>\n",
              "      <th>NaN</th>\n",
              "      <th>NaN</th>\n",
              "      <th>NaN</th>\n",
              "      <th>NaN</th>\n",
              "      <th>NaN</th>\n",
              "      <th>N</th>\n",
              "      <th>NaN</th>\n",
              "      <th>NaN</th>\n",
              "      <th>NaN</th>\n",
              "      <th>NaN</th>\n",
              "      <th>NaN</th>\n",
              "      <th>NaN</th>\n",
              "      <th>NaN</th>\n",
              "      <th>NaN</th>\n",
              "      <th>NaN</th>\n",
              "      <th>NaN</th>\n",
              "      <th>NaN</th>\n",
              "      <th>NaN</th>\n",
              "      <th>NaN</th>\n",
              "      <th>NaN</th>\n",
              "      <th>N</th>\n",
              "      <th>NaN</th>\n",
              "      <th>NaN</th>\n",
              "      <th>NaN</th>\n",
              "      <th>NaN</th>\n",
              "      <th>NaN</th>\n",
              "      <td>NaN</td>\n",
              "    </tr>\n",
              "  </tbody>\n",
              "</table>\n",
              "</div>"
            ],
            "text/plain": [
              "                                                                                                                                                                                                                                                                                                                                                                                                                                                                                                                                                                                                                                                                                                                                                                                                                                                                                                                                                                                                                                                                                                                                                                                                                                                                                                                                                                                                                                                                                                                                                                                                                                                                                                                                                                                                                                                                                                                                                                                                                                                                                                                                                                                                                                                                                                                                                                                                                Notes offered by Prospectus (https://www.lendingclub.com/info/prospectus.action)\n",
              "id  member_id loan_amnt funded_amnt funded_amnt_inv term       int_rate installment grade sub_grade emp_title           emp_length home_ownership annual_inc verification_status issue_d  loan_status pymnt_plan url desc purpose            title                   zip_code addr_state dti   delinq_2yrs earliest_cr_line inq_last_6mths mths_since_last_delinq mths_since_last_record open_acc pub_rec revol_bal revol_util total_acc initial_list_status out_prncp out_prncp_inv total_pymnt     total_pymnt_inv total_rec_prncp total_rec_int total_rec_late_fee recoveries collection_recovery_fee last_pymnt_d last_pymnt_amnt next_pymnt_d last_credit_pull_d collections_12_mths_ex_med mths_since_last_major_derog policy_code application_type annual_inc_joint dti_joint verification_status_joint acc_now_delinq tot_coll_amt tot_cur_bal open_acc_6m open_act_il open_il_12m open_il_24m mths_since_rcnt_il total_bal_il il_util open_rv_12m open_rv_24m max_bal_bc all_util total_rev_hi_lim inq_fi total_cu_tl inq_last_12m acc_open_past_24mths avg_cur_bal bc_open_to_buy bc_util chargeoff_within_12_mths delinq_amnt mo_sin_old_il_acct mo_sin_old_rev_tl_op mo_sin_rcnt_rev_tl_op mo_sin_rcnt_tl mort_acc mths_since_recent_bc mths_since_recent_bc_dlq mths_since_recent_inq mths_since_recent_revol_delinq num_accts_ever_120_pd num_actv_bc_tl num_actv_rev_tl num_bc_sats num_bc_tl num_il_tl num_op_rev_tl num_rev_accts num_rev_tl_bal_gt_0 num_sats num_tl_120dpd_2m num_tl_30dpd num_tl_90g_dpd_24m num_tl_op_past_12m pct_tl_nvr_dlq percent_bc_gt_75 pub_rec_bankruptcies tax_liens tot_hi_cred_lim total_bal_ex_mort total_bc_limit total_il_high_credit_limit revol_bal_joint sec_app_earliest_cr_line sec_app_inq_last_6mths sec_app_mort_acc sec_app_open_acc sec_app_revol_util sec_app_open_act_il sec_app_num_rev_accts sec_app_chargeoff_within_12_mths sec_app_collections_12_mths_ex_med sec_app_mths_since_last_major_derog hardship_flag hardship_type hardship_reason hardship_status deferral_term hardship_amount hardship_start_date hardship_end_date payment_plan_start_date hardship_length hardship_dpd hardship_loan_status orig_projected_additional_accrued_interest hardship_payoff_balance_amount hardship_last_payment_amount debt_settlement_flag debt_settlement_flag_date settlement_status settlement_date settlement_amount settlement_percentage                                    settlement_term                              \n",
              "NaN NaN       6000      6000        6000             36 months  14.47%  206.44      C     C2        Manager             10+ years  RENT           55000      Verified            Dec-2018 Charged Off n          NaN NaN  credit_card        Credit card refinancing 104xx    NY         10.65 0           Jun-2006         0              NaN                    NaN                    6        0       4196      91.2%      8         w                   0.00      0.00          1106.52         1106.52         546.14          272.38        0.0                288.0      51.84                   Apr-2019     206.44          NaN          Nov-2019           0                          NaN                         1           Individual       NaN              NaN       NaN                       0              0            12514       0           2           1           1           9                  8318         74      1           1           2807       79       4600             1      0           2            2                    2086        344            92      0                        0           33                 150                  9                     9              0        9                    NaN                      9                     NaN                            0                     3              4               3           3         3         4             5             4                   6        0                0            0                  2                  100            100              0                    0         15800           12514             4300           11200                      NaN             NaN                      NaN                    NaN              NaN              NaN                NaN                 NaN                   NaN                              NaN                                NaN                                 N             NaN           NaN             NaN             NaN           NaN             NaN                 NaN               NaN                     NaN             NaN          NaN                  NaN                                        NaN                            NaN                          Y                    Oct-2019                  ACTIVE            Oct-2019        3479              60.01                                                                 24                              \n",
              "              24000     24000       24000            36 months  10.33%  778.14      B     B1        Maintenance Manager 10+ years  MORTGAGE       100000     Not Verified        Dec-2018 Current     n          NaN NaN  debt_consolidation Debt consolidation      606xx    IL         19.14 0           Oct-1996         3              39                     NaN                    14       0       8547      27.7%      28        w                   16807.30  16807.30      9317.02         9317.02         7192.70         2124.32       0.0                0.0        0.0                     Dec-2019     778.14          Jan-2020     Nov-2019           0                          57                          1           Individual       NaN              NaN       NaN                       0              0            273876      3           5           3           5           5                  40384        66      2           4           4368       51       30900            8      0           8            9                    19563       17353          33      0                        0           266                178                  4                     4              3        4                    39                       1                     39                             1                     5              5               6           8         15        7             9             5                   14       0                0            0                  5                  82.1           16.7             0                    0         335121          50686             25900          61514                      NaN             NaN                      NaN                    NaN              NaN              NaN                NaN                 NaN                   NaN                              NaN                                NaN                                 N             NaN           NaN             NaN             NaN           NaN             NaN                 NaN               NaN                     NaN             NaN          NaN                  NaN                                        NaN                            NaN                          N                    NaN                       NaN               NaN             NaN               NaN                                                                  NaN                              \n",
              "              30000     30000       30000            36 months  15.02%  1040.26     C     C3        Firefighter         10+ years  RENT           90000      Verified            Dec-2018 Fully Paid  n          NaN NaN  debt_consolidation Debt consolidation      681xx    NE         22.23 0           May-2007         1              NaN                    NaN                    8        0       25754     48%        23        w                   0.00      0.00          30883.673711683 30883.67        30000.00        883.67        0.0                0.0        0.0                     Feb-2019     28382.51        NaN          Nov-2019           0                          NaN                         1           Individual       NaN              NaN       NaN                       0              0            51370       1           2           1           2           9                  25616        71      2           3           9621       57       53600            0      2           1            5                    6421        22030          47      0                        0           123                139                  3                     3              3        3                    NaN                      3                     NaN                            0                     4              6               4           5         11        6             9             6                   8        0                0            0                  3                  100            50               0                    0         89849           51370             41600          36249                      NaN             NaN                      NaN                    NaN              NaN              NaN                NaN                 NaN                   NaN                              NaN                                NaN                                 N             NaN           NaN             NaN             NaN           NaN             NaN                 NaN               NaN                     NaN             NaN          NaN                  NaN                                        NaN                            NaN                          N                    NaN                       NaN               NaN             NaN               NaN                                                                  NaN                              \n",
              "              8000      8000        8000             36 months  12.98%  269.48      B     B5        Controller          4 years    MORTGAGE       95000      Source Verified     Dec-2018 Current     n          NaN NaN  credit_card        Credit card refinancing 480xx    MI         9.44  0           Mar-2009         2              73                     NaN                    7        0       11434     33.3%      20        w                   1707.34   1707.34       6855.63         6855.63         6292.66         562.97        0.0                0.0        0.0                     Dec-2019     269.48          Jan-2020     Dec-2019           0                          73                          1           Individual       NaN              NaN       NaN                       0              0            247933      5           1           3           4           2                  13716        98      4           5           8918       52       34300            2      0           7            10                   35419       22866          33.3    0                        0           13                 117                  6                     2              1        6                    73                       2                     73                             1                     3              3               5           15        4         5             15            3                   7        0                0            0                  8                  100            20               0                    0         271550          25150             34300          14000                      NaN             NaN                      NaN                    NaN              NaN              NaN                NaN                 NaN                   NaN                              NaN                                NaN                                 N             NaN           NaN             NaN             NaN           NaN             NaN                 NaN               NaN                     NaN             NaN          NaN                  NaN                                        NaN                            NaN                          N                    NaN                       NaN               NaN             NaN               NaN                                                                  NaN                              "
            ]
          },
          "metadata": {
            "tags": []
          },
          "execution_count": 12
        }
      ]
    },
    {
      "cell_type": "markdown",
      "metadata": {
        "id": "wvqwNrQlq5fr",
        "colab_type": "text"
      },
      "source": [
        "The extra rows at the top and bottom of the file have done two things:\n",
        "\n",
        "1) The top row has made it so that the entire dataset is being interpreted as column headers\n",
        "\n",
        "2) The bottom two rows have been read into the 'id' column and are causing every column to have at least two `NaN` values in it."
      ]
    },
    {
      "cell_type": "code",
      "metadata": {
        "id": "PKM5P0RzrLh8",
        "colab_type": "code",
        "colab": {}
      },
      "source": [
        "# We can fix the header problem by using the 'skiprows' parameter"
      ],
      "execution_count": null,
      "outputs": []
    },
    {
      "cell_type": "markdown",
      "metadata": {
        "id": "CuLO7bhTrY0z",
        "colab_type": "text"
      },
      "source": [
        "Lets look at the NaN values of each column so that you can see the problem that the extra rows at the bottom of the file are creating for us"
      ]
    },
    {
      "cell_type": "code",
      "metadata": {
        "id": "12OtVOd9rdb-",
        "colab_type": "code",
        "colab": {}
      },
      "source": [
        "# Sum null values by column and sort from least to greatest"
      ],
      "execution_count": null,
      "outputs": []
    },
    {
      "cell_type": "code",
      "metadata": {
        "id": "4793LweyroFI",
        "colab_type": "code",
        "colab": {}
      },
      "source": [
        "# Address the extra NaNs in each column by skipping the footer as well."
      ],
      "execution_count": null,
      "outputs": []
    },
    {
      "cell_type": "code",
      "metadata": {
        "id": "P7w8iGhyr0Bu",
        "colab_type": "code",
        "colab": {}
      },
      "source": [
        ""
      ],
      "execution_count": null,
      "outputs": []
    },
    {
      "cell_type": "markdown",
      "metadata": {
        "id": "XzPuC7jUstVF",
        "colab_type": "text"
      },
      "source": [
        "For good measure, we'll also drop some columns that are made up completely of NaN values.\n",
        "\n",
        "Why might LendingClub have included columns in their dataset that are 100% blank?"
      ]
    },
    {
      "cell_type": "code",
      "metadata": {
        "id": "HubXTHZ3sj6n",
        "colab_type": "code",
        "colab": {}
      },
      "source": [
        ""
      ],
      "execution_count": null,
      "outputs": []
    },
    {
      "cell_type": "markdown",
      "metadata": {
        "id": "87lzDxnCr_6j",
        "colab_type": "text"
      },
      "source": [
        "### Clean up the `int_rate` column\n",
        "\n",
        "When we're preparing a dataset for a machine learning model we typically want to represent don't want to leave any string values in our dataset --because it's hard to do math on words. \n",
        "\n",
        "Specifically, we have a column that is representing a numeric value, but currently doesn't have a numeric datatype. Lets look at the first 10 values of the `int_rate` column"
      ]
    },
    {
      "cell_type": "code",
      "metadata": {
        "id": "wQRxQs3-tnup",
        "colab_type": "code",
        "colab": {}
      },
      "source": [
        "# Look at the first 10 values of the int_rate column"
      ],
      "execution_count": null,
      "outputs": []
    },
    {
      "cell_type": "code",
      "metadata": {
        "id": "Cu2lMR4wtt-M",
        "colab_type": "code",
        "colab": {}
      },
      "source": [
        "# Look at a specific value from the int_rate column"
      ],
      "execution_count": null,
      "outputs": []
    },
    {
      "cell_type": "markdown",
      "metadata": {
        "id": "umnBqFa0t22W",
        "colab_type": "text"
      },
      "source": [
        "Problems that we need to address with this column:\n",
        "\n",
        "- String column that should be numeric\n",
        "- Percent Sign `%` included with the number\n",
        "- Leading space at the beginning of the string\n",
        "\n",
        "However, we're not going to try and write exactly the right code to fix this column in one go. We're going to methodically build up to the code that will help us address these problems.\n"
      ]
    },
    {
      "cell_type": "code",
      "metadata": {
        "id": "qveVttHSuVlh",
        "colab_type": "code",
        "colab": {}
      },
      "source": [
        "# Lets start with just fixing a single string.\n",
        "# If we can fix one, we can usually fix all of them"
      ],
      "execution_count": null,
      "outputs": []
    },
    {
      "cell_type": "code",
      "metadata": {
        "id": "hfFY8nGluouN",
        "colab_type": "code",
        "colab": {}
      },
      "source": [
        ""
      ],
      "execution_count": null,
      "outputs": []
    },
    {
      "cell_type": "code",
      "metadata": {
        "id": "o3bRlDUbus9m",
        "colab_type": "code",
        "colab": {}
      },
      "source": [
        ""
      ],
      "execution_count": null,
      "outputs": []
    },
    {
      "cell_type": "code",
      "metadata": {
        "id": "KA-FB2WEuvZr",
        "colab_type": "code",
        "colab": {}
      },
      "source": [
        ""
      ],
      "execution_count": null,
      "outputs": []
    },
    {
      "cell_type": "code",
      "metadata": {
        "id": "cjhHPbDtuxtU",
        "colab_type": "code",
        "colab": {}
      },
      "source": [
        ""
      ],
      "execution_count": null,
      "outputs": []
    },
    {
      "cell_type": "code",
      "metadata": {
        "id": "SJd71Boou40s",
        "colab_type": "code",
        "colab": {}
      },
      "source": [
        "# \"Cast\" the string value to a float"
      ],
      "execution_count": null,
      "outputs": []
    },
    {
      "cell_type": "code",
      "metadata": {
        "id": "kcqneHUmvCs6",
        "colab_type": "code",
        "colab": {}
      },
      "source": [
        ""
      ],
      "execution_count": null,
      "outputs": []
    },
    {
      "cell_type": "markdown",
      "metadata": {
        "id": "S_bTzHIJvc8M",
        "colab_type": "text"
      },
      "source": [
        "### Write a function to make our solution reusable!"
      ]
    },
    {
      "cell_type": "code",
      "metadata": {
        "id": "GYJYsfQZvVcK",
        "colab_type": "code",
        "colab": {}
      },
      "source": [
        "# Write a function that can do what we have written above to any \n",
        "# string that is passsed to it."
      ],
      "execution_count": null,
      "outputs": []
    },
    {
      "cell_type": "code",
      "metadata": {
        "id": "Ng3lQFD8vxQt",
        "colab_type": "code",
        "colab": {}
      },
      "source": [
        "# Test out our function by calling it on our example"
      ],
      "execution_count": null,
      "outputs": []
    },
    {
      "cell_type": "code",
      "metadata": {
        "id": "7cPxk1W9v2ul",
        "colab_type": "code",
        "colab": {}
      },
      "source": [
        "# is the data type correct?"
      ],
      "execution_count": null,
      "outputs": []
    },
    {
      "cell_type": "markdown",
      "metadata": {
        "id": "hgxdjRqnv-ZH",
        "colab_type": "text"
      },
      "source": [
        "### Apply our solution to every cell in a column"
      ]
    },
    {
      "cell_type": "code",
      "metadata": {
        "id": "eGJmf1IbwE1Q",
        "colab_type": "code",
        "colab": {}
      },
      "source": [
        ""
      ],
      "execution_count": null,
      "outputs": []
    },
    {
      "cell_type": "code",
      "metadata": {
        "id": "hYCez3j5wLWt",
        "colab_type": "code",
        "colab": {}
      },
      "source": [
        "# What type of data is held in our new column?\n",
        "\n",
        "# Look at the datatypes of the last 5 columns"
      ],
      "execution_count": null,
      "outputs": []
    },
    {
      "cell_type": "markdown",
      "metadata": {
        "id": "FOXkc5own3LM",
        "colab_type": "text"
      },
      "source": [
        "## Challenge\n",
        "\n",
        "We can create a new column with our cleaned values or overwrite the original, whatever we think best suits our needs. On your assignment you will take the same approach in trying to methodically build up the complexity of your code until you have a few lines that will work for any cell in a column. At that point you'll contain all of that functionality in a reusable function block and then use the `.apply()` function to... well... apply those changes to an entire column."
      ]
    },
    {
      "cell_type": "markdown",
      "metadata": {
        "id": "cllyKRVOmZW1",
        "colab_type": "text"
      },
      "source": [
        "# [Objective](#pandas-apply) Modify and Create Columns using `.apply()`\n",
        "\n"
      ]
    },
    {
      "cell_type": "markdown",
      "metadata": {
        "id": "43763DCYnucE",
        "colab_type": "text"
      },
      "source": [
        "## Overview\n",
        "\n",
        "We're already seen one example of using the `.apply()` function to clean up a column. Lets see if we can do it again, but this time on a slightly more complicated use case.\n",
        "\n",
        "Remember, the goal here is to write a function that will work correctly on any **individual** cell of a specific column. Then we can reuse that function on those individual cells of a dataframe column via the `.apply()` function.\n",
        "\n",
        "Lets clean up the emp_title \"Employment Title\" column!"
      ]
    },
    {
      "cell_type": "markdown",
      "metadata": {
        "id": "mFXxzA7mnyhH",
        "colab_type": "text"
      },
      "source": [
        "## Follow Along\n",
        "\n",
        "First we'll try and diagnose how bad the problem is and what improvements we might be able to make."
      ]
    },
    {
      "cell_type": "code",
      "metadata": {
        "id": "XzkCNMOnxl4h",
        "colab_type": "code",
        "colab": {}
      },
      "source": [
        "# Look at the top 20 employment titles"
      ],
      "execution_count": null,
      "outputs": []
    },
    {
      "cell_type": "code",
      "metadata": {
        "id": "ja4Qul02x0Tk",
        "colab_type": "code",
        "colab": {}
      },
      "source": [
        "# How many different unique employment titles are there currently?"
      ],
      "execution_count": null,
      "outputs": []
    },
    {
      "cell_type": "code",
      "metadata": {
        "id": "q1tC-Otax9R3",
        "colab_type": "code",
        "colab": {}
      },
      "source": [
        "# How often is the employment_title null?"
      ],
      "execution_count": null,
      "outputs": []
    },
    {
      "cell_type": "markdown",
      "metadata": {
        "id": "UddpRG2OyDzC",
        "colab_type": "text"
      },
      "source": [
        "What are some possible reasons as to why a person's employment title may have not been provided?"
      ]
    },
    {
      "cell_type": "code",
      "metadata": {
        "id": "331sx2kVyMwz",
        "colab_type": "code",
        "colab": {}
      },
      "source": [
        "# Create some examples that represent the cases that we want to clean up"
      ],
      "execution_count": null,
      "outputs": []
    },
    {
      "cell_type": "code",
      "metadata": {
        "id": "yEIPIOUIyUDH",
        "colab_type": "code",
        "colab": {}
      },
      "source": [
        "# Write a function to clean up these use cases and increase uniformity."
      ],
      "execution_count": null,
      "outputs": []
    },
    {
      "cell_type": "code",
      "metadata": {
        "id": "Sn6jfPUTylvH",
        "colab_type": "code",
        "colab": {}
      },
      "source": [
        "# list comprehensions can combine function calls and for loops over lists\n",
        "# into one succinct and fairly readable single line of code."
      ],
      "execution_count": null,
      "outputs": []
    },
    {
      "cell_type": "code",
      "metadata": {
        "id": "DNGJgOL4y0y7",
        "colab_type": "code",
        "colab": {}
      },
      "source": [
        "# We have a function that works as expected. Lets apply it to our column.\n",
        "# This time we'll overwrite the original column"
      ],
      "execution_count": null,
      "outputs": []
    },
    {
      "cell_type": "markdown",
      "metadata": {
        "id": "aPm26DvFzQak",
        "colab_type": "text"
      },
      "source": [
        "We can use the same code as we did earlier to see how much progress was made.\n"
      ]
    },
    {
      "cell_type": "code",
      "metadata": {
        "id": "SKMEkrbFzGPL",
        "colab_type": "code",
        "colab": {}
      },
      "source": [
        "# Look at the top 20 employment titles"
      ],
      "execution_count": null,
      "outputs": []
    },
    {
      "cell_type": "code",
      "metadata": {
        "id": "eM0oa-10zVCn",
        "colab_type": "code",
        "colab": {}
      },
      "source": [
        "# How many different unique employment titles are there currently?"
      ],
      "execution_count": null,
      "outputs": []
    },
    {
      "cell_type": "code",
      "metadata": {
        "id": "RKcjoiWgze2x",
        "colab_type": "code",
        "colab": {}
      },
      "source": [
        "# How often is the employment_title null (NaN)?"
      ],
      "execution_count": null,
      "outputs": []
    },
    {
      "cell_type": "markdown",
      "metadata": {
        "id": "Sj8G-tVKn36v",
        "colab_type": "text"
      },
      "source": [
        "## Challenge\n",
        "\n",
        "Using the .apply() function isn't always about creating new columns on a dataframe, we can use it to clean up or modify existing columns as well. "
      ]
    },
    {
      "cell_type": "markdown",
      "metadata": {
        "id": "m0G8Kv-MmaHh",
        "colab_type": "text"
      },
      "source": [
        "# [Objective](#dates-and-times) Work with Dates and Times with Pandas"
      ]
    },
    {
      "cell_type": "markdown",
      "metadata": {
        "id": "565Xjo-RnvLm",
        "colab_type": "text"
      },
      "source": [
        "## Overview\n",
        "\n",
        "Pandas has its own datatype datatype that makes it extremely convenient to convert strings that are in standard date formates to datetime objects and then use those datetime objects to either create new features on a dataframe or work with the dataset in a timeseries fashion. \n",
        "\n",
        "This section will demonstrate how to take a column of date strings, convert it to a datetime object and then use the datetime formatting `.dt` to access specific parts of the date (year, month, day) to generate useful columns on a dataframe."
      ]
    },
    {
      "cell_type": "markdown",
      "metadata": {
        "id": "YpoU_2Gknzbz",
        "colab_type": "text"
      },
      "source": [
        "## Follow Along"
      ]
    },
    {
      "cell_type": "markdown",
      "metadata": {
        "id": "BoQ86d_R79J6",
        "colab_type": "text"
      },
      "source": [
        "### Work with Dates \n",
        "\n",
        "pandas documentation\n",
        "- [to_datetime](https://pandas.pydata.org/pandas-docs/stable/generated/pandas.to_datetime.html)\n",
        "- [Time/Date Components](https://pandas.pydata.org/pandas-docs/stable/timeseries.html#time-date-components) \"You can access these properties via the `.dt` accessor\"\n",
        "\n",
        "Many of the most useful date columns in this dataset have the suffix `_d` to indicate that they correspond to dates.\n",
        "\n",
        "We'll use a list comprehension to print them out"
      ]
    },
    {
      "cell_type": "code",
      "metadata": {
        "id": "SxOhEaEX76mY",
        "colab_type": "code",
        "colab": {}
      },
      "source": [
        ""
      ],
      "execution_count": null,
      "outputs": []
    },
    {
      "cell_type": "markdown",
      "metadata": {
        "id": "7wccaSfx9Zo4",
        "colab_type": "text"
      },
      "source": [
        "Lets look at the string format of the `issue_d` column"
      ]
    },
    {
      "cell_type": "code",
      "metadata": {
        "id": "BVYeLIOm9dQ-",
        "colab_type": "code",
        "colab": {}
      },
      "source": [
        ""
      ],
      "execution_count": null,
      "outputs": []
    },
    {
      "cell_type": "markdown",
      "metadata": {
        "id": "DnjOcU5y9iZh",
        "colab_type": "text"
      },
      "source": [
        "Because this string format %m-%y is a common datetime format, we can just let Pandas detect this format and translate it to the appropriate datetime object."
      ]
    },
    {
      "cell_type": "code",
      "metadata": {
        "id": "cBV3Ta_79qe6",
        "colab_type": "code",
        "colab": {}
      },
      "source": [
        ""
      ],
      "execution_count": null,
      "outputs": []
    },
    {
      "cell_type": "markdown",
      "metadata": {
        "id": "6hcypFMu9y4s",
        "colab_type": "text"
      },
      "source": [
        "Now we can see that the `issue_d` column has been changed to hold `datetime` objects.\n",
        "\n",
        "Lets look at one of the cells specifically to see what a datetime object looks like:"
      ]
    },
    {
      "cell_type": "code",
      "metadata": {
        "id": "fUMjhnyJ94is",
        "colab_type": "code",
        "colab": {}
      },
      "source": [
        ""
      ],
      "execution_count": null,
      "outputs": []
    },
    {
      "cell_type": "markdown",
      "metadata": {
        "id": "aZQiLh4O-CMN",
        "colab_type": "text"
      },
      "source": [
        "You can see how the month and year have been indicated by the strings that were contained in the column previously, and that the rest of the values have been inferred."
      ]
    },
    {
      "cell_type": "code",
      "metadata": {
        "id": "6_PhaWzb-J7X",
        "colab_type": "code",
        "colab": {}
      },
      "source": [
        ""
      ],
      "execution_count": null,
      "outputs": []
    },
    {
      "cell_type": "markdown",
      "metadata": {
        "id": "V3rKmrzY-NsD",
        "colab_type": "text"
      },
      "source": [
        "We can use the `.dt` accessor to now grab specific parts of the datetime object. Lets grab just the year from the all of the cells in the `issue_d` column"
      ]
    },
    {
      "cell_type": "code",
      "metadata": {
        "id": "y4479qzj-Yj5",
        "colab_type": "code",
        "colab": {}
      },
      "source": [
        ""
      ],
      "execution_count": null,
      "outputs": []
    },
    {
      "cell_type": "markdown",
      "metadata": {
        "id": "coNYQvdJ-b0s",
        "colab_type": "text"
      },
      "source": [
        "Now the month."
      ]
    },
    {
      "cell_type": "code",
      "metadata": {
        "id": "D28keYR3-dJn",
        "colab_type": "code",
        "colab": {}
      },
      "source": [
        ""
      ],
      "execution_count": null,
      "outputs": []
    },
    {
      "cell_type": "markdown",
      "metadata": {
        "id": "g4_O0q0t-hOX",
        "colab_type": "text"
      },
      "source": [
        "It's just that easy! Now, instead of printing them out, lets add these year and month values as new columns on our dataframe. Again, you'll have to scroll all the way over to the right in the table to see the new columns."
      ]
    },
    {
      "cell_type": "code",
      "metadata": {
        "id": "VJdlhqH1-mri",
        "colab_type": "code",
        "colab": {}
      },
      "source": [
        ""
      ],
      "execution_count": null,
      "outputs": []
    },
    {
      "cell_type": "markdown",
      "metadata": {
        "id": "LAxig0nE-1kt",
        "colab_type": "text"
      },
      "source": [
        "Because all of these dates come from Q4 of 2018, the `issue_d` column isn't all that interesting. Lets look at the `earliest_cr_line` column, which is also a string, but that could be converted to datetime format.\n",
        "\n",
        "We're going to create a new column called `days_from_earliest_credit_to_issue`\n",
        "\n",
        "It's a long column header, but think about how valuable this piece of information could be. This number will essentially indicate the length of a person's credit history and if that is correlated with repayment or other factors could be a valuable predictor!"
      ]
    },
    {
      "cell_type": "code",
      "metadata": {
        "id": "5S6BDZjp-e8-",
        "colab_type": "code",
        "colab": {}
      },
      "source": [
        ""
      ],
      "execution_count": null,
      "outputs": []
    },
    {
      "cell_type": "code",
      "metadata": {
        "id": "X0VwXV1F_YpZ",
        "colab_type": "code",
        "colab": {}
      },
      "source": [
        ""
      ],
      "execution_count": null,
      "outputs": []
    },
    {
      "cell_type": "markdown",
      "metadata": {
        "id": "ml-N769C_e_n",
        "colab_type": "text"
      },
      "source": [
        "What we're about to do is so cool! Pandas' datetime format is so smart that we can simply use the subtraction operator `-` in order to calculate the amount of time between two dates. \n",
        "\n",
        "Think about everything that's going on under the hood in order to give us such straightforward syntax! Handling months of different lengths, leap years, etc. Pandas datetime objects are seriously powerful!"
      ]
    },
    {
      "cell_type": "code",
      "metadata": {
        "id": "FWu1a57V_cHx",
        "colab_type": "code",
        "colab": {}
      },
      "source": [
        ""
      ],
      "execution_count": null,
      "outputs": []
    },
    {
      "cell_type": "code",
      "metadata": {
        "id": "PvRjLKZo_XRq",
        "colab_type": "code",
        "colab": {}
      },
      "source": [
        ""
      ],
      "execution_count": null,
      "outputs": []
    },
    {
      "cell_type": "markdown",
      "metadata": {
        "id": "FHQEQZx6_3_p",
        "colab_type": "text"
      },
      "source": [
        "What's oldest credit history that was involved in Q4 2018? "
      ]
    },
    {
      "cell_type": "code",
      "metadata": {
        "id": "nrEqk6hG_20O",
        "colab_type": "code",
        "colab": {}
      },
      "source": [
        ""
      ],
      "execution_count": null,
      "outputs": []
    },
    {
      "cell_type": "markdown",
      "metadata": {
        "id": "gORWK62cAF2a",
        "colab_type": "text"
      },
      "source": [
        "25,171 days is ~ 68.96 years of credit history!"
      ]
    },
    {
      "cell_type": "markdown",
      "metadata": {
        "id": "THRLJ-7Jn4om",
        "colab_type": "text"
      },
      "source": [
        "## Challenge\n",
        "\n",
        "Pandas' datetime format is so easy to work with that there's really no excuse for not using dates to make features on a dataframe! Get ready to practice more of this on your assignment."
      ]
    }
  ]
}