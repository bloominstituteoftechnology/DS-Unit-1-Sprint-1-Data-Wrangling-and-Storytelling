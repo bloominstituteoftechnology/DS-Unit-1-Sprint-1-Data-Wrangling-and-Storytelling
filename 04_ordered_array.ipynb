{
  "nbformat": 4,
  "nbformat_minor": 0,
  "metadata": {
    "colab": {
      "name": "04_ordered_array.ipynb",
      "provenance": [],
      "collapsed_sections": []
    },
    "kernelspec": {
      "name": "python3",
      "display_name": "Python 3"
    }
  },
  "cells": [
    {
      "cell_type": "markdown",
      "metadata": {
        "id": "QyAn0v3QF15O",
        "colab_type": "text"
      },
      "source": [
        "# Python Sequences Are Ordered Arrays\n",
        "Python Sequences come in two flavors - list and tuple.\n",
        "\n",
        "- List: sequential array (fexible). `my_list = [1, 2, 3]`\n",
        "- Tuple: fixed sequential array (hashable). `my_tuple = (1, 2, 3)`\n",
        "\n",
        "### Tuples are like Lists:\n",
        "1. They both hold an ordered sequence of object references. As such both are fast and efficient to copy and pass around.\n",
        "2. The values inside each can be retrieved with brackets. This is known as \"indexing into\" it. `first = some_group[0]` The first item is always index 0. `last = some_group[-1]` The last item is always index -1. See Slicing for advanced indexing features.\n",
        "3. The values in both can be visited or viewed in turn with a simple loop.\n"
      ]
    },
    {
      "cell_type": "markdown",
      "metadata": {
        "id": "mwrlg-M4TXdR",
        "colab_type": "text"
      },
      "source": [
        "### Sequence Slicing\n",
        "\n",
        "A slice is like a view into a sequence, but it produces a new sequence of the same type. Both of the following examples work on any type of sequence. The author will leave it to the reader to determine which is more Pythonic. The first example is far more common, but don't let that persuade you."
      ]
    },
    {
      "cell_type": "code",
      "metadata": {
        "id": "kvrkWLcLSqVD",
        "colab_type": "code",
        "outputId": "1c66282a-b5bf-4484-d3f9-2ab674a3f881",
        "colab": {
          "base_uri": "https://localhost:8080/",
          "height": 34
        }
      },
      "source": [
        "some_list = [0, 1, 2, 3, 4, 5, 6, 7, 8, 9]\n",
        "\n",
        "by_two = some_list[0:9:2]\n",
        "print(by_two)  # slice of 0-8 by strides of 2"
      ],
      "execution_count": 0,
      "outputs": [
        {
          "output_type": "stream",
          "text": [
            "[0, 2, 4, 6, 8]\n"
          ],
          "name": "stdout"
        }
      ]
    },
    {
      "cell_type": "code",
      "metadata": {
        "id": "ePrmjcsmWfLq",
        "colab_type": "code",
        "outputId": "42437957-3add-4451-b237-d859b1290131",
        "colab": {
          "base_uri": "https://localhost:8080/",
          "height": 34
        }
      },
      "source": [
        "some_tuple = tuple(some_list)\n",
        "\n",
        "my_slice = slice(0, 10, 3)\n",
        "by_three = some_tuple[my_slice]\n",
        "print(by_three)  # slice of 0-9 by strides of 3"
      ],
      "execution_count": 0,
      "outputs": [
        {
          "output_type": "stream",
          "text": [
            "(0, 3, 6, 9)\n"
          ],
          "name": "stdout"
        }
      ]
    },
    {
      "cell_type": "markdown",
      "metadata": {
        "id": "ch44Ui-ok7ph",
        "colab_type": "text"
      },
      "source": [
        "### Lists and Tuples are Heterogeneous\n",
        "In some languages - tuples are used to hold heterogeneous data, as opposed to lists which are used to hold homogeneous data. In Python, both can do both and there is no technical reason to make this distinction. That said, generally speaking - for any type of sequence: homogeneous data is always preferred. One of the best containers for heterogeneous data is the dictionary, but there are other options aswell. Heterogeneous sequences are gross, don't do it."
      ]
    },
    {
      "cell_type": "code",
      "metadata": {
        "id": "ouwMUZcZjGoD",
        "colab_type": "code",
        "outputId": "b7541a8e-c6fd-4ca1-ab3e-fb4e4f41393b",
        "colab": {
          "base_uri": "https://localhost:8080/",
          "height": 85
        }
      },
      "source": [
        "pythonic_list = [1, 2, 3, 4, 5, 6, 7, 8, 9, 10]        # homogeneous\n",
        "ugly_list = [\"this\", 42, 3.14, 6+7j, pythonic_list]    # heterogeneous\n",
        "\n",
        "pythonic_tuple = (1, 2, 3, 4, 5, 6, 7, 8, 9, 10)       # homogeneous\n",
        "ugly_tuple = (\"this\", 42, 3.14, 6+7j, pythonic_tuple)  # heterogeneous\n",
        "\n",
        "print(ugly_list)\n",
        "print(ugly_tuple)\n",
        "\n",
        "print(pythonic_list)\n",
        "print(pythonic_tuple)"
      ],
      "execution_count": 0,
      "outputs": [
        {
          "output_type": "stream",
          "text": [
            "['this', 42, 3.14, (6+7j), [1, 2, 3, 4, 5, 6, 7, 8, 9, 10]]\n",
            "('this', 42, 3.14, (6+7j), (1, 2, 3, 4, 5, 6, 7, 8, 9, 10))\n",
            "[1, 2, 3, 4, 5, 6, 7, 8, 9, 10]\n",
            "(1, 2, 3, 4, 5, 6, 7, 8, 9, 10)\n"
          ],
          "name": "stdout"
        }
      ]
    },
    {
      "cell_type": "markdown",
      "metadata": {
        "id": "PVTi7buwjCmk",
        "colab_type": "text"
      },
      "source": [
        "## Python Lists\n",
        "\n",
        "### Looping A List\n",
        "Pure For Each Loop - very Pythonic. This works the same with any iterable object, not just sequences."
      ]
    },
    {
      "cell_type": "code",
      "metadata": {
        "id": "5QEkY8tdi-El",
        "colab_type": "code",
        "outputId": "37fccd17-41f0-4b9f-befd-fe76e6247731",
        "colab": {
          "base_uri": "https://localhost:8080/",
          "height": 102
        }
      },
      "source": [
        "my_list = [1, 2, 3, 4, 5]\n",
        "\n",
        "for value in my_list:\n",
        "    print(value)"
      ],
      "execution_count": 0,
      "outputs": [
        {
          "output_type": "stream",
          "text": [
            "1\n",
            "2\n",
            "3\n",
            "4\n",
            "5\n"
          ],
          "name": "stdout"
        }
      ]
    },
    {
      "cell_type": "markdown",
      "metadata": {
        "id": "EqnKzQ7DPZZf",
        "colab_type": "text"
      },
      "source": [
        "### List Operations: Builtin Methods\n",
        "\n",
        "[List Methods | python.org](https://docs.python.org/3/tutorial/datastructures.html#more-on-lists)"
      ]
    },
    {
      "cell_type": "code",
      "metadata": {
        "id": "3MvQhljOOx4t",
        "colab_type": "code",
        "outputId": "c0d5f538-05c0-4cde-8841-affbbd4e1c63",
        "colab": {
          "base_uri": "https://localhost:8080/",
          "height": 34
        }
      },
      "source": [
        "my_list.append(0)\n",
        "print(my_list)"
      ],
      "execution_count": 0,
      "outputs": [
        {
          "output_type": "stream",
          "text": [
            "[1, 2, 3, 4, 5, 0]\n"
          ],
          "name": "stdout"
        }
      ]
    },
    {
      "cell_type": "code",
      "metadata": {
        "id": "BLqYGIXAOejA",
        "colab_type": "code",
        "outputId": "f7c3754a-6e28-43af-bf2a-844cf443db5a",
        "colab": {
          "base_uri": "https://localhost:8080/",
          "height": 34
        }
      },
      "source": [
        "my_list.reverse()\n",
        "print(my_list)"
      ],
      "execution_count": 0,
      "outputs": [
        {
          "output_type": "stream",
          "text": [
            "[0, 5, 4, 3, 2, 1]\n"
          ],
          "name": "stdout"
        }
      ]
    },
    {
      "cell_type": "code",
      "metadata": {
        "id": "K0ctIkOCOqyU",
        "colab_type": "code",
        "outputId": "4ee9d68d-aef8-49a6-f788-9a52b3f1adc8",
        "colab": {
          "base_uri": "https://localhost:8080/",
          "height": 34
        }
      },
      "source": [
        "my_list.sort()\n",
        "print(my_list)"
      ],
      "execution_count": 0,
      "outputs": [
        {
          "output_type": "stream",
          "text": [
            "[0, 1, 2, 3, 4, 5]\n"
          ],
          "name": "stdout"
        }
      ]
    },
    {
      "cell_type": "code",
      "metadata": {
        "id": "9ySBI9lhO8cY",
        "colab_type": "code",
        "outputId": "711a7b60-4e3c-4df4-fe02-a5b2ec756d7c",
        "colab": {
          "base_uri": "https://localhost:8080/",
          "height": 34
        }
      },
      "source": [
        "my_var = my_list.pop()\n",
        "print(my_list)"
      ],
      "execution_count": 0,
      "outputs": [
        {
          "output_type": "stream",
          "text": [
            "[0, 1, 2, 3, 4]\n"
          ],
          "name": "stdout"
        }
      ]
    },
    {
      "cell_type": "code",
      "metadata": {
        "id": "wjGNV8fDPGzE",
        "colab_type": "code",
        "outputId": "1a40ecb3-4ad2-4d8a-ffd1-7ec1d698f50a",
        "colab": {
          "base_uri": "https://localhost:8080/",
          "height": 34
        }
      },
      "source": [
        "my_other_var = my_list.pop(0)\n",
        "print(my_list)"
      ],
      "execution_count": 0,
      "outputs": [
        {
          "output_type": "stream",
          "text": [
            "[1, 2, 3, 4]\n"
          ],
          "name": "stdout"
        }
      ]
    },
    {
      "cell_type": "markdown",
      "metadata": {
        "id": "Yu7h7P03hCLY",
        "colab_type": "text"
      },
      "source": [
        "## Python Tuple\n",
        "Tuples have a cool name. It is pronounced \"_too-pul_\", not \"_tup-pel_\". The later would be spelled 'tupple'. \n",
        "\n",
        "Tuples are similar to lists, but with some key differences. The literal tuple is created with parens instead of brackets, but the values inside are indexed with brackets - just like lists. The other way to make a tuple is to cast it from a list.\n",
        "\n",
        "In some cases, Tuples can be hashable. This ability comes at the cost of flexiblity. Tuples are fixed in size and order. You cannot append, pop, sort or shuffle a tuple directly. But you can always convert a tuple to a list and then back again. If you find yourself doing this a lot, please consider why it is that you're not using a list in the first place. Lists are good.\n",
        "\n",
        "The one time where only a tuple will do, is when you want to use a sequence as a key. For this to work - it needs to be hashable, and thereby contain no mutable values.\n",
        "\n",
        "[Python Tuple | python.org](https://docs.python.org/3/tutorial/datastructures.html#tuples-and-sequences)"
      ]
    },
    {
      "cell_type": "code",
      "metadata": {
        "id": "v641wGkZ_Rqd",
        "colab_type": "code",
        "outputId": "12fb218d-2db1-4f16-bcef-06edaf2ddc82",
        "colab": {
          "base_uri": "https://localhost:8080/",
          "height": 68
        }
      },
      "source": [
        "# Starting with a list\n",
        "my_list = [1, 2, 3, 4, 5]\n",
        "\n",
        "# Casting (Transforming) a list to a tuple\n",
        "my_tuple = tuple(my_list)\n",
        "\n",
        "# And back again\n",
        "another_list = list(my_tuple)\n",
        "\n",
        "print(my_list)\n",
        "print(my_tuple)\n",
        "print(another_list)"
      ],
      "execution_count": 0,
      "outputs": [
        {
          "output_type": "stream",
          "text": [
            "[1, 2, 3, 4, 5]\n",
            "(1, 2, 3, 4, 5)\n",
            "[1, 2, 3, 4, 5]\n"
          ],
          "name": "stdout"
        }
      ]
    },
    {
      "cell_type": "markdown",
      "metadata": {
        "id": "afHJ4CBw8ZSy",
        "colab_type": "text"
      },
      "source": [
        "### Complex Iteration\n",
        "\n",
        "The `zip()` function takes an arbitrary number of sequences and transposes them. Rows -> Columns. Zip then returns a container of tuples that is niether a list nor a tuple itself, but it is iterable.\n",
        "\n",
        "[Zip function | python.org](https://docs.python.org/3.3/library/functions.html#zip)"
      ]
    },
    {
      "cell_type": "code",
      "metadata": {
        "id": "nwnO_nqmg8ao",
        "colab_type": "code",
        "outputId": "60a45bfc-f0c0-41fc-9c1a-bc47173fd5fc",
        "colab": {
          "base_uri": "https://localhost:8080/",
          "height": 102
        }
      },
      "source": [
        "names   = (\"John\", \"Paul\", \"George\", \"Ringo\")\n",
        "weights = ( 84.5,   81.8,   86.1,     92.2  )\n",
        "heights = ( 1.84,   1.77,   1.90,     1.88  )\n",
        "\n",
        "data = zip(names, weights, heights)\n",
        "\n",
        "print(\"BMI Data:\")\n",
        "\n",
        "for n, w, h in data:\n",
        "    print(f\"{n}:\\t{w / h**2 : .3f}\")"
      ],
      "execution_count": 0,
      "outputs": [
        {
          "output_type": "stream",
          "text": [
            "BMI Data:\n",
            "John:\t 24.959\n",
            "Paul:\t 26.110\n",
            "George:\t 23.850\n",
            "Ringo:\t 26.086\n"
          ],
          "name": "stdout"
        }
      ]
    },
    {
      "cell_type": "markdown",
      "metadata": {
        "id": "DZlkYw2dg6qy",
        "colab_type": "text"
      },
      "source": [
        "### Tuple Performance is a Misnomer\n",
        "In previous versions of Python - tuples were measurably faster than lists. Today, lists have nearly the same performance as tuples. What tiny performance difference there is should not be a concern to the modern Pythonista. If speed is really important: use a library (Numpy) with fast containers, design a Python Extension, or use something other than Python. Python is not about computational performance, it's about developer performance."
      ]
    },
    {
      "cell_type": "markdown",
      "metadata": {
        "id": "biR-NmxFbhAn",
        "colab_type": "text"
      },
      "source": [
        "### Tuple Immutablity is a Misnomer\n",
        "In a dark alley, late at night, you might hear something like the following...\n",
        "> _\"Your code will be safer if you use a tuple rather than a list. Tuples enforce immutability, so they are better. Always use a tuple!\"_\n",
        "\n",
        "Unfortunately, this is bad advice. While the first sentence is true to some extent, the supporting argument is false and the whole idea is very misleading. Consider the following:"
      ]
    },
    {
      "cell_type": "code",
      "metadata": {
        "id": "Gn-cctQvbiCd",
        "colab_type": "code",
        "outputId": "c28230fe-f7e1-4755-efd5-719f8f526c85",
        "colab": {
          "base_uri": "https://localhost:8080/",
          "height": 51
        }
      },
      "source": [
        "a, b, c = [], [], []\n",
        "tup = (a, b, c)\n",
        "print(f\"tup => {tup}\")\n",
        "a.append(1)\n",
        "b.append(2)\n",
        "c.append(3)\n",
        "print(f\"tup => {tup}\")"
      ],
      "execution_count": 0,
      "outputs": [
        {
          "output_type": "stream",
          "text": [
            "tup => ([], [], [])\n",
            "tup => ([1], [2], [3])\n"
          ],
          "name": "stdout"
        }
      ]
    },
    {
      "cell_type": "markdown",
      "metadata": {
        "id": "Ws3iG5EkGkLe",
        "colab_type": "text"
      },
      "source": [
        "Tuples are not strictly immutable. It is far better to think of tuples as fixed in size and order. The values inside them are not necessarily immutable. Tuples are hashable, but only if they contain hashable values exclusively. Mutable objects are never hashable - even when stored inside a tuple.\n",
        "\n",
        "The main point here should be the fact that tuples are *potentially* hashable and therefore can *sometimes* be used as keys in a dictionary. This may seem pointless now, but it's actually one of the most powerful tools in Python. It is for this reason alone that we have the tuple container type in Python."
      ]
    },
    {
      "cell_type": "markdown",
      "metadata": {
        "id": "FG5fhtcpplJC",
        "colab_type": "text"
      },
      "source": [
        "### List or Tuple: Rule of Thumb\n",
        "__If the flexiblity of a list *might* be handy, use a list.__\n",
        "\n",
        "While the author is more than willing to debate this point to the end of time, it may be inappropriate for your team or project. If your team lead says use a tuple unless you can't - you should do that instead."
      ]
    }
  ]
}