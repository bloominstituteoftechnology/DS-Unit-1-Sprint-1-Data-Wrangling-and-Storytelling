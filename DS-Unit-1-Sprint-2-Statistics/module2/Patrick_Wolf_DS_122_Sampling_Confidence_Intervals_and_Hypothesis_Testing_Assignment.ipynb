{
  "nbformat": 4,
  "nbformat_minor": 0,
  "metadata": {
    "colab": {
      "name": "Patrick_Wolf_DS_122_Sampling_Confidence_Intervals_and_Hypothesis_Testing_Assignment.ipynb",
      "provenance": [],
      "collapsed_sections": [],
      "include_colab_link": true
    },
    "kernelspec": {
      "name": "python3",
      "display_name": "Python 3"
    }
  },
  "cells": [
    {
      "cell_type": "markdown",
      "metadata": {
        "id": "view-in-github",
        "colab_type": "text"
      },
      "source": [
        "<a href=\"https://colab.research.google.com/github/patrickjwolf/DS-Unit-1-Sprint-1-Data-Wrangling-and-Storytelling/blob/master/DS-Unit-1-Sprint-2-Statistics/module2/Patrick_Wolf_DS_122_Sampling_Confidence_Intervals_and_Hypothesis_Testing_Assignment.ipynb\" target=\"_parent\"><img src=\"https://colab.research.google.com/assets/colab-badge.svg\" alt=\"Open In Colab\"/></a>"
      ]
    },
    {
      "cell_type": "markdown",
      "metadata": {
        "id": "11OzdxWTM7UR",
        "colab_type": "text"
      },
      "source": [
        "## Assignment - Build a confidence interval\n",
        "\n",
        "A confidence interval refers to a neighborhood around some point estimate, the size of which is determined by the desired p-value. For instance, we might say that 52% of Americans prefer tacos to burritos, with a 95% confidence interval of +/- 5%.\n",
        "\n",
        "52% (0.52) is the point estimate, and +/- 5% (the interval $[0.47, 0.57]$) is the confidence interval. \"95% confidence\" means a p-value $\\leq 1 - 0.95 = 0.05$.\n",
        "\n",
        "In this case, the confidence interval includes $0.5$ - which is the natural null hypothesis (that half of Americans prefer tacos and half burritos, thus there is no clear favorite). So in this case, we could use the confidence interval to report that we've failed to reject the null hypothesis.\n",
        "\n",
        "But providing the full analysis with a confidence interval, including a graphical representation of it, can be a helpful and powerful way to tell your story. Done well, it is also more intuitive to a layperson than simply saying \"fail to reject the null hypothesis\" - it shows that in fact the data does *not* give a single clear result (the point estimate) but a whole range of possibilities.\n",
        "\n",
        "How is a confidence interval built, and how should it be interpreted? It does *not* mean that 95% of the data lies in that interval - instead, the frequentist interpretation is \"if we were to repeat this experiment 100 times, we would expect the average result to lie in this interval ~95 times.\"\n",
        "\n",
        "For a 95% confidence interval and a normal(-ish) distribution, you can simply remember that +/-2 standard deviations contains 95% of the probability mass, and so the 95% confidence interval based on a given sample is centered at the mean (point estimate) and has a range of +/- 2 (or technically 1.96) standard deviations.\n",
        "\n",
        "Different distributions/assumptions (90% confidence, 99% confidence) will require different math, but the overall process and interpretation (with a frequentist approach) will be the same.\n",
        "\n",
        "Your assignment - using the data from the prior module ([congressional voting records](https://archive.ics.uci.edu/ml/datasets/Congressional+Voting+Records)):\n",
        "\n",
        "\n",
        "### Confidence Intervals:\n",
        "1. Generate and numerically represent a confidence interval\n",
        "2. Graphically (with a plot) represent the confidence interval\n",
        "3. Interpret the confidence interval - what does it tell you about the data and its distribution?\n",
        "\n",
        "### Chi-squared tests:\n",
        "4. Take a dataset that we have used in the past in class that has **categorical** variables. Pick two of those categorical variables and run a chi-squared tests on that data\n",
        "  - By hand using Numpy\n",
        "  - In a single line using Scipy\n"
      ]
    },
    {
      "cell_type": "code",
      "metadata": {
        "id": "V-6hGPT_VIQs",
        "colab_type": "code",
        "colab": {}
      },
      "source": [
        "import numpy as np\n",
        "from scipy import stats\n",
        "from scipy.stats import chisquare\n",
        "from scipy.stats import normaltest\n",
        "from scipy.stats import kruskal\n",
        "from scipy.stats import ttest_ind\n",
        "from scipy.stats import t, ttest_1samp\n",
        "import matplotlib.pyplot as plt\n",
        "import pandas as pd\n",
        "import seaborn as sns"
      ],
      "execution_count": 0,
      "outputs": []
    },
    {
      "cell_type": "code",
      "metadata": {
        "id": "Ckcr4A4FM7cs",
        "colab_type": "code",
        "colab": {
          "base_uri": "https://localhost:8080/",
          "height": 102
        },
        "outputId": "e4383d06-27cc-48e8-c4b6-2d81a4a9e1c8"
      },
      "source": [
        "taco_or_burrito = np.random.binomial(n=1, p=.52, size=100)\n",
        "taco_or_burrito"
      ],
      "execution_count": 2,
      "outputs": [
        {
          "output_type": "execute_result",
          "data": {
            "text/plain": [
              "array([0, 1, 1, 1, 1, 0, 1, 1, 1, 1, 1, 0, 1, 1, 1, 1, 0, 1, 1, 0, 0, 0,\n",
              "       1, 0, 1, 0, 1, 1, 0, 1, 1, 0, 1, 0, 0, 0, 0, 1, 0, 1, 0, 0, 0, 0,\n",
              "       1, 1, 1, 0, 0, 0, 1, 1, 1, 1, 1, 1, 0, 1, 1, 0, 1, 0, 0, 0, 0, 1,\n",
              "       0, 1, 0, 1, 0, 1, 0, 0, 1, 0, 0, 0, 0, 0, 1, 0, 1, 0, 1, 1, 0, 0,\n",
              "       0, 1, 1, 1, 1, 1, 1, 0, 1, 1, 1, 1])"
            ]
          },
          "metadata": {
            "tags": []
          },
          "execution_count": 2
        }
      ]
    },
    {
      "cell_type": "code",
      "metadata": {
        "id": "OzoH2T5pXHHD",
        "colab_type": "code",
        "colab": {
          "base_uri": "https://localhost:8080/",
          "height": 34
        },
        "outputId": "8355e4db-91f6-4cef-f8d9-34a14f5ebbd2"
      },
      "source": [
        "taco_or_burrito.mean()"
      ],
      "execution_count": 3,
      "outputs": [
        {
          "output_type": "execute_result",
          "data": {
            "text/plain": [
              "0.55"
            ]
          },
          "metadata": {
            "tags": []
          },
          "execution_count": 3
        }
      ]
    },
    {
      "cell_type": "code",
      "metadata": {
        "id": "k5dDqeG-XHdG",
        "colab_type": "code",
        "colab": {
          "base_uri": "https://localhost:8080/",
          "height": 71
        },
        "outputId": "5895a72d-9678-4c4c-f358-f579a662d8c9"
      },
      "source": [
        "sample_means = []\n",
        "for x in range(0,3000):\n",
        "  taco_or_burrito = np.random.binomial(n=1, p=.52, size=100)\n",
        "  one_sample=taco_or_burrito\n",
        "  sample_means.append(taco_or_burrito.mean())\n",
        "\n",
        "print(len(sample_means))\n",
        "print(sample_means)"
      ],
      "execution_count": 4,
      "outputs": [
        {
          "output_type": "stream",
          "text": [
            "3000\n",
            "[0.51, 0.6, 0.52, 0.44, 0.56, 0.53, 0.48, 0.55, 0.59, 0.47, 0.58, 0.39, 0.59, 0.46, 0.53, 0.52, 0.44, 0.5, 0.44, 0.51, 0.48, 0.56, 0.55, 0.5, 0.51, 0.45, 0.56, 0.57, 0.52, 0.6, 0.5, 0.53, 0.57, 0.51, 0.5, 0.53, 0.52, 0.45, 0.39, 0.52, 0.55, 0.47, 0.48, 0.61, 0.63, 0.58, 0.58, 0.56, 0.54, 0.54, 0.56, 0.47, 0.5, 0.45, 0.49, 0.56, 0.55, 0.46, 0.56, 0.53, 0.6, 0.51, 0.54, 0.49, 0.58, 0.54, 0.57, 0.59, 0.53, 0.48, 0.48, 0.51, 0.43, 0.54, 0.49, 0.54, 0.62, 0.5, 0.49, 0.46, 0.45, 0.52, 0.53, 0.54, 0.5, 0.5, 0.45, 0.45, 0.48, 0.48, 0.52, 0.53, 0.48, 0.54, 0.49, 0.48, 0.47, 0.56, 0.56, 0.61, 0.55, 0.39, 0.54, 0.5, 0.5, 0.57, 0.54, 0.49, 0.51, 0.48, 0.54, 0.59, 0.47, 0.44, 0.54, 0.48, 0.55, 0.53, 0.52, 0.52, 0.48, 0.57, 0.53, 0.48, 0.57, 0.5, 0.51, 0.51, 0.49, 0.5, 0.61, 0.47, 0.52, 0.49, 0.53, 0.55, 0.52, 0.49, 0.5, 0.56, 0.53, 0.55, 0.56, 0.48, 0.54, 0.56, 0.57, 0.49, 0.54, 0.52, 0.49, 0.51, 0.48, 0.49, 0.56, 0.53, 0.55, 0.56, 0.55, 0.55, 0.49, 0.43, 0.54, 0.55, 0.51, 0.55, 0.47, 0.49, 0.49, 0.56, 0.54, 0.54, 0.4, 0.6, 0.55, 0.62, 0.55, 0.57, 0.52, 0.5, 0.55, 0.43, 0.52, 0.49, 0.5, 0.45, 0.58, 0.53, 0.47, 0.5, 0.5, 0.52, 0.58, 0.53, 0.49, 0.49, 0.49, 0.51, 0.54, 0.52, 0.57, 0.51, 0.48, 0.5, 0.55, 0.64, 0.54, 0.56, 0.56, 0.58, 0.52, 0.53, 0.54, 0.42, 0.49, 0.44, 0.56, 0.52, 0.49, 0.5, 0.57, 0.53, 0.48, 0.55, 0.52, 0.5, 0.5, 0.54, 0.47, 0.44, 0.51, 0.52, 0.5, 0.5, 0.5, 0.53, 0.52, 0.53, 0.45, 0.46, 0.4, 0.51, 0.5, 0.43, 0.48, 0.59, 0.59, 0.49, 0.45, 0.55, 0.52, 0.49, 0.6, 0.49, 0.46, 0.58, 0.45, 0.52, 0.48, 0.53, 0.52, 0.43, 0.46, 0.48, 0.59, 0.46, 0.62, 0.49, 0.54, 0.48, 0.52, 0.48, 0.45, 0.59, 0.61, 0.59, 0.54, 0.48, 0.54, 0.53, 0.55, 0.49, 0.49, 0.59, 0.5, 0.56, 0.55, 0.45, 0.53, 0.52, 0.52, 0.58, 0.53, 0.42, 0.62, 0.46, 0.53, 0.6, 0.54, 0.5, 0.5, 0.54, 0.54, 0.5, 0.63, 0.5, 0.45, 0.53, 0.45, 0.53, 0.52, 0.48, 0.58, 0.53, 0.61, 0.49, 0.52, 0.49, 0.56, 0.59, 0.48, 0.48, 0.52, 0.52, 0.51, 0.53, 0.46, 0.49, 0.47, 0.55, 0.55, 0.51, 0.61, 0.61, 0.53, 0.56, 0.49, 0.45, 0.48, 0.59, 0.53, 0.56, 0.56, 0.55, 0.45, 0.51, 0.45, 0.5, 0.52, 0.52, 0.5, 0.63, 0.55, 0.53, 0.49, 0.47, 0.47, 0.57, 0.52, 0.51, 0.51, 0.57, 0.48, 0.48, 0.5, 0.6, 0.6, 0.5, 0.52, 0.52, 0.51, 0.49, 0.52, 0.51, 0.48, 0.52, 0.51, 0.52, 0.56, 0.48, 0.54, 0.45, 0.53, 0.46, 0.64, 0.54, 0.55, 0.59, 0.54, 0.49, 0.52, 0.5, 0.52, 0.49, 0.51, 0.57, 0.5, 0.57, 0.48, 0.59, 0.46, 0.59, 0.57, 0.54, 0.52, 0.49, 0.58, 0.51, 0.58, 0.46, 0.51, 0.58, 0.5, 0.39, 0.48, 0.53, 0.57, 0.61, 0.56, 0.48, 0.53, 0.53, 0.48, 0.47, 0.5, 0.45, 0.52, 0.51, 0.67, 0.5, 0.61, 0.6, 0.47, 0.51, 0.59, 0.58, 0.52, 0.48, 0.58, 0.51, 0.43, 0.62, 0.53, 0.5, 0.52, 0.51, 0.49, 0.54, 0.56, 0.51, 0.59, 0.51, 0.55, 0.59, 0.51, 0.46, 0.54, 0.47, 0.53, 0.47, 0.57, 0.55, 0.47, 0.54, 0.54, 0.57, 0.49, 0.53, 0.53, 0.44, 0.52, 0.44, 0.39, 0.57, 0.56, 0.59, 0.55, 0.54, 0.46, 0.5, 0.49, 0.53, 0.51, 0.48, 0.51, 0.45, 0.57, 0.51, 0.47, 0.53, 0.5, 0.5, 0.54, 0.57, 0.52, 0.42, 0.55, 0.54, 0.5, 0.42, 0.46, 0.53, 0.5, 0.51, 0.51, 0.42, 0.52, 0.48, 0.49, 0.51, 0.6, 0.54, 0.59, 0.53, 0.54, 0.58, 0.51, 0.58, 0.58, 0.48, 0.48, 0.54, 0.53, 0.51, 0.59, 0.54, 0.53, 0.56, 0.55, 0.48, 0.45, 0.58, 0.6, 0.51, 0.46, 0.49, 0.42, 0.57, 0.52, 0.5, 0.53, 0.48, 0.63, 0.54, 0.47, 0.5, 0.54, 0.53, 0.51, 0.5, 0.48, 0.6, 0.53, 0.49, 0.5, 0.53, 0.49, 0.58, 0.5, 0.56, 0.5, 0.52, 0.48, 0.47, 0.55, 0.52, 0.53, 0.53, 0.52, 0.46, 0.64, 0.57, 0.48, 0.56, 0.5, 0.57, 0.57, 0.56, 0.55, 0.48, 0.52, 0.46, 0.48, 0.41, 0.5, 0.56, 0.48, 0.53, 0.59, 0.59, 0.52, 0.57, 0.52, 0.57, 0.54, 0.49, 0.63, 0.58, 0.47, 0.5, 0.61, 0.59, 0.49, 0.49, 0.53, 0.56, 0.49, 0.53, 0.54, 0.47, 0.53, 0.61, 0.63, 0.54, 0.52, 0.49, 0.43, 0.56, 0.52, 0.51, 0.47, 0.45, 0.53, 0.55, 0.59, 0.48, 0.53, 0.59, 0.54, 0.62, 0.43, 0.57, 0.55, 0.6, 0.59, 0.48, 0.52, 0.51, 0.53, 0.42, 0.5, 0.45, 0.56, 0.48, 0.5, 0.51, 0.48, 0.52, 0.56, 0.44, 0.49, 0.5, 0.41, 0.54, 0.59, 0.49, 0.5, 0.59, 0.47, 0.58, 0.49, 0.53, 0.54, 0.53, 0.54, 0.54, 0.57, 0.48, 0.5, 0.52, 0.53, 0.44, 0.44, 0.48, 0.52, 0.54, 0.49, 0.42, 0.49, 0.55, 0.53, 0.48, 0.48, 0.59, 0.47, 0.47, 0.54, 0.48, 0.54, 0.49, 0.52, 0.56, 0.55, 0.58, 0.54, 0.52, 0.58, 0.49, 0.49, 0.46, 0.56, 0.5, 0.57, 0.55, 0.58, 0.53, 0.52, 0.53, 0.54, 0.58, 0.53, 0.49, 0.61, 0.49, 0.48, 0.57, 0.54, 0.53, 0.57, 0.57, 0.5, 0.47, 0.51, 0.45, 0.54, 0.49, 0.55, 0.53, 0.49, 0.5, 0.53, 0.52, 0.49, 0.51, 0.55, 0.54, 0.53, 0.53, 0.5, 0.54, 0.49, 0.43, 0.53, 0.58, 0.55, 0.56, 0.56, 0.52, 0.49, 0.47, 0.53, 0.48, 0.57, 0.5, 0.55, 0.52, 0.47, 0.56, 0.52, 0.52, 0.56, 0.59, 0.58, 0.46, 0.5, 0.58, 0.49, 0.6, 0.57, 0.47, 0.49, 0.54, 0.52, 0.46, 0.47, 0.5, 0.5, 0.49, 0.45, 0.52, 0.47, 0.41, 0.41, 0.5, 0.59, 0.59, 0.59, 0.53, 0.45, 0.51, 0.53, 0.5, 0.57, 0.55, 0.58, 0.47, 0.46, 0.4, 0.47, 0.58, 0.5, 0.51, 0.62, 0.53, 0.46, 0.56, 0.54, 0.46, 0.55, 0.51, 0.45, 0.52, 0.48, 0.5, 0.51, 0.57, 0.47, 0.58, 0.55, 0.56, 0.47, 0.55, 0.54, 0.49, 0.59, 0.5, 0.52, 0.51, 0.42, 0.56, 0.54, 0.51, 0.56, 0.54, 0.45, 0.63, 0.54, 0.56, 0.44, 0.47, 0.58, 0.49, 0.52, 0.47, 0.48, 0.53, 0.49, 0.46, 0.49, 0.56, 0.59, 0.45, 0.56, 0.52, 0.54, 0.5, 0.55, 0.51, 0.45, 0.43, 0.52, 0.51, 0.57, 0.49, 0.55, 0.49, 0.62, 0.5, 0.61, 0.46, 0.6, 0.56, 0.52, 0.6, 0.6, 0.53, 0.52, 0.5, 0.53, 0.53, 0.57, 0.55, 0.55, 0.54, 0.52, 0.5, 0.53, 0.52, 0.56, 0.52, 0.57, 0.51, 0.55, 0.48, 0.47, 0.46, 0.45, 0.42, 0.46, 0.58, 0.6, 0.55, 0.56, 0.45, 0.51, 0.5, 0.53, 0.5, 0.43, 0.55, 0.41, 0.5, 0.63, 0.52, 0.52, 0.54, 0.58, 0.52, 0.52, 0.44, 0.54, 0.53, 0.53, 0.52, 0.53, 0.51, 0.5, 0.62, 0.53, 0.54, 0.43, 0.54, 0.57, 0.47, 0.46, 0.57, 0.55, 0.49, 0.49, 0.41, 0.52, 0.52, 0.48, 0.43, 0.53, 0.53, 0.53, 0.54, 0.51, 0.48, 0.5, 0.46, 0.57, 0.6, 0.46, 0.49, 0.61, 0.55, 0.62, 0.46, 0.59, 0.55, 0.52, 0.55, 0.54, 0.48, 0.51, 0.47, 0.59, 0.59, 0.41, 0.44, 0.47, 0.59, 0.47, 0.55, 0.55, 0.54, 0.64, 0.45, 0.46, 0.52, 0.52, 0.61, 0.54, 0.61, 0.64, 0.53, 0.52, 0.52, 0.47, 0.49, 0.51, 0.55, 0.57, 0.52, 0.52, 0.5, 0.41, 0.55, 0.62, 0.58, 0.5, 0.47, 0.57, 0.5, 0.51, 0.4, 0.49, 0.51, 0.59, 0.49, 0.45, 0.58, 0.52, 0.52, 0.53, 0.57, 0.54, 0.56, 0.6, 0.51, 0.46, 0.44, 0.55, 0.54, 0.6, 0.49, 0.54, 0.45, 0.52, 0.62, 0.53, 0.56, 0.53, 0.56, 0.61, 0.4, 0.41, 0.55, 0.54, 0.54, 0.49, 0.53, 0.5, 0.42, 0.48, 0.51, 0.49, 0.57, 0.45, 0.58, 0.52, 0.43, 0.56, 0.53, 0.48, 0.58, 0.57, 0.52, 0.41, 0.48, 0.5, 0.38, 0.59, 0.55, 0.51, 0.54, 0.6, 0.52, 0.44, 0.51, 0.55, 0.52, 0.48, 0.5, 0.5, 0.49, 0.5, 0.62, 0.43, 0.5, 0.61, 0.43, 0.48, 0.53, 0.48, 0.51, 0.54, 0.48, 0.5, 0.4, 0.54, 0.59, 0.49, 0.54, 0.58, 0.46, 0.6, 0.5, 0.48, 0.52, 0.47, 0.52, 0.48, 0.45, 0.62, 0.53, 0.47, 0.48, 0.51, 0.54, 0.45, 0.51, 0.55, 0.46, 0.5, 0.46, 0.45, 0.41, 0.52, 0.43, 0.52, 0.61, 0.57, 0.56, 0.54, 0.43, 0.54, 0.52, 0.55, 0.53, 0.45, 0.54, 0.45, 0.51, 0.48, 0.53, 0.52, 0.47, 0.53, 0.61, 0.54, 0.59, 0.52, 0.53, 0.58, 0.51, 0.52, 0.58, 0.56, 0.45, 0.5, 0.56, 0.63, 0.48, 0.55, 0.54, 0.51, 0.5, 0.49, 0.56, 0.55, 0.45, 0.53, 0.41, 0.48, 0.54, 0.55, 0.51, 0.48, 0.53, 0.55, 0.47, 0.55, 0.54, 0.56, 0.47, 0.49, 0.54, 0.53, 0.58, 0.55, 0.46, 0.56, 0.57, 0.48, 0.56, 0.51, 0.52, 0.51, 0.54, 0.49, 0.55, 0.56, 0.48, 0.52, 0.55, 0.59, 0.58, 0.49, 0.49, 0.52, 0.47, 0.56, 0.45, 0.5, 0.49, 0.54, 0.45, 0.57, 0.47, 0.57, 0.57, 0.52, 0.43, 0.48, 0.59, 0.57, 0.49, 0.49, 0.5, 0.44, 0.54, 0.52, 0.48, 0.57, 0.53, 0.44, 0.5, 0.58, 0.54, 0.48, 0.56, 0.47, 0.53, 0.52, 0.48, 0.53, 0.55, 0.44, 0.52, 0.51, 0.6, 0.52, 0.45, 0.46, 0.49, 0.5, 0.51, 0.47, 0.51, 0.52, 0.49, 0.55, 0.48, 0.45, 0.61, 0.51, 0.58, 0.58, 0.55, 0.51, 0.47, 0.51, 0.44, 0.62, 0.57, 0.54, 0.52, 0.49, 0.49, 0.57, 0.55, 0.5, 0.6, 0.49, 0.52, 0.47, 0.58, 0.49, 0.42, 0.55, 0.53, 0.59, 0.55, 0.49, 0.5, 0.54, 0.49, 0.5, 0.5, 0.46, 0.45, 0.45, 0.55, 0.57, 0.45, 0.43, 0.44, 0.51, 0.57, 0.55, 0.52, 0.54, 0.5, 0.54, 0.49, 0.52, 0.56, 0.55, 0.5, 0.45, 0.52, 0.59, 0.56, 0.49, 0.5, 0.54, 0.46, 0.54, 0.49, 0.53, 0.44, 0.42, 0.41, 0.47, 0.55, 0.42, 0.51, 0.48, 0.51, 0.44, 0.45, 0.55, 0.45, 0.59, 0.5, 0.52, 0.53, 0.54, 0.44, 0.53, 0.56, 0.52, 0.54, 0.52, 0.54, 0.6, 0.53, 0.48, 0.49, 0.47, 0.56, 0.52, 0.47, 0.54, 0.53, 0.47, 0.51, 0.55, 0.54, 0.59, 0.53, 0.53, 0.53, 0.44, 0.52, 0.52, 0.5, 0.5, 0.47, 0.56, 0.54, 0.45, 0.54, 0.57, 0.54, 0.49, 0.5, 0.56, 0.4, 0.51, 0.49, 0.56, 0.49, 0.53, 0.56, 0.57, 0.54, 0.54, 0.58, 0.59, 0.53, 0.45, 0.54, 0.6, 0.56, 0.54, 0.46, 0.51, 0.55, 0.61, 0.6, 0.44, 0.57, 0.53, 0.41, 0.5, 0.46, 0.58, 0.57, 0.48, 0.55, 0.52, 0.52, 0.53, 0.55, 0.55, 0.48, 0.55, 0.43, 0.5, 0.53, 0.56, 0.63, 0.53, 0.59, 0.45, 0.68, 0.48, 0.56, 0.5, 0.51, 0.49, 0.62, 0.61, 0.51, 0.49, 0.51, 0.5, 0.54, 0.42, 0.5, 0.49, 0.6, 0.48, 0.53, 0.56, 0.53, 0.46, 0.45, 0.42, 0.49, 0.55, 0.48, 0.53, 0.52, 0.51, 0.43, 0.48, 0.54, 0.5, 0.52, 0.49, 0.56, 0.44, 0.57, 0.55, 0.43, 0.52, 0.5, 0.6, 0.58, 0.54, 0.51, 0.56, 0.61, 0.45, 0.59, 0.64, 0.62, 0.54, 0.53, 0.54, 0.51, 0.56, 0.49, 0.57, 0.55, 0.55, 0.53, 0.57, 0.46, 0.51, 0.42, 0.47, 0.48, 0.48, 0.52, 0.51, 0.53, 0.53, 0.52, 0.54, 0.47, 0.52, 0.57, 0.41, 0.51, 0.5, 0.54, 0.58, 0.49, 0.42, 0.49, 0.5, 0.52, 0.54, 0.46, 0.55, 0.5, 0.57, 0.55, 0.42, 0.48, 0.46, 0.51, 0.55, 0.57, 0.54, 0.54, 0.49, 0.41, 0.46, 0.54, 0.48, 0.6, 0.57, 0.52, 0.45, 0.5, 0.59, 0.48, 0.51, 0.53, 0.48, 0.5, 0.48, 0.54, 0.56, 0.42, 0.45, 0.47, 0.61, 0.6, 0.51, 0.48, 0.54, 0.54, 0.55, 0.44, 0.52, 0.53, 0.61, 0.55, 0.54, 0.58, 0.53, 0.55, 0.53, 0.51, 0.46, 0.64, 0.63, 0.65, 0.52, 0.5, 0.58, 0.52, 0.49, 0.58, 0.51, 0.59, 0.56, 0.51, 0.58, 0.53, 0.58, 0.64, 0.6, 0.55, 0.62, 0.59, 0.51, 0.54, 0.56, 0.68, 0.58, 0.48, 0.54, 0.5, 0.56, 0.54, 0.59, 0.46, 0.47, 0.52, 0.5, 0.56, 0.61, 0.45, 0.53, 0.49, 0.55, 0.52, 0.48, 0.6, 0.58, 0.48, 0.57, 0.53, 0.53, 0.46, 0.48, 0.52, 0.56, 0.57, 0.54, 0.53, 0.47, 0.5, 0.6, 0.54, 0.47, 0.56, 0.53, 0.5, 0.53, 0.56, 0.55, 0.5, 0.58, 0.51, 0.6, 0.58, 0.55, 0.52, 0.54, 0.5, 0.52, 0.55, 0.46, 0.54, 0.47, 0.59, 0.49, 0.55, 0.5, 0.54, 0.64, 0.5, 0.5, 0.47, 0.45, 0.5, 0.58, 0.55, 0.5, 0.54, 0.53, 0.51, 0.58, 0.47, 0.6, 0.45, 0.61, 0.5, 0.4, 0.57, 0.54, 0.47, 0.51, 0.58, 0.58, 0.53, 0.5, 0.52, 0.52, 0.55, 0.6, 0.45, 0.48, 0.49, 0.5, 0.53, 0.47, 0.42, 0.56, 0.5, 0.53, 0.59, 0.53, 0.54, 0.57, 0.55, 0.55, 0.54, 0.6, 0.55, 0.45, 0.52, 0.5, 0.47, 0.4, 0.52, 0.5, 0.53, 0.52, 0.52, 0.49, 0.53, 0.42, 0.55, 0.54, 0.4, 0.53, 0.43, 0.58, 0.54, 0.43, 0.51, 0.59, 0.55, 0.56, 0.53, 0.52, 0.61, 0.42, 0.48, 0.53, 0.47, 0.48, 0.53, 0.54, 0.62, 0.53, 0.53, 0.54, 0.49, 0.54, 0.42, 0.51, 0.51, 0.56, 0.49, 0.57, 0.5, 0.53, 0.53, 0.55, 0.39, 0.63, 0.56, 0.5, 0.5, 0.52, 0.51, 0.52, 0.45, 0.5, 0.55, 0.55, 0.5, 0.54, 0.51, 0.51, 0.48, 0.49, 0.39, 0.59, 0.56, 0.48, 0.59, 0.49, 0.52, 0.55, 0.41, 0.56, 0.54, 0.5, 0.51, 0.61, 0.52, 0.45, 0.47, 0.47, 0.47, 0.47, 0.52, 0.45, 0.54, 0.5, 0.48, 0.51, 0.56, 0.5, 0.5, 0.51, 0.55, 0.52, 0.43, 0.5, 0.57, 0.52, 0.45, 0.48, 0.54, 0.52, 0.54, 0.45, 0.56, 0.59, 0.45, 0.55, 0.5, 0.51, 0.42, 0.55, 0.53, 0.57, 0.48, 0.42, 0.54, 0.5, 0.53, 0.61, 0.54, 0.53, 0.58, 0.52, 0.52, 0.56, 0.45, 0.44, 0.56, 0.54, 0.59, 0.47, 0.54, 0.44, 0.54, 0.41, 0.55, 0.59, 0.48, 0.5, 0.57, 0.49, 0.52, 0.61, 0.51, 0.59, 0.45, 0.43, 0.53, 0.4, 0.46, 0.56, 0.48, 0.5, 0.61, 0.53, 0.63, 0.51, 0.55, 0.56, 0.54, 0.51, 0.54, 0.6, 0.55, 0.56, 0.46, 0.48, 0.49, 0.57, 0.42, 0.5, 0.49, 0.51, 0.55, 0.56, 0.55, 0.56, 0.56, 0.53, 0.53, 0.47, 0.55, 0.41, 0.57, 0.46, 0.51, 0.54, 0.46, 0.5, 0.55, 0.5, 0.51, 0.48, 0.54, 0.46, 0.47, 0.51, 0.45, 0.54, 0.47, 0.6, 0.5, 0.55, 0.52, 0.45, 0.56, 0.57, 0.53, 0.62, 0.5, 0.57, 0.44, 0.59, 0.53, 0.51, 0.46, 0.49, 0.55, 0.51, 0.52, 0.47, 0.57, 0.56, 0.48, 0.45, 0.45, 0.51, 0.53, 0.53, 0.51, 0.47, 0.52, 0.44, 0.51, 0.47, 0.42, 0.52, 0.52, 0.59, 0.53, 0.52, 0.46, 0.45, 0.48, 0.51, 0.58, 0.56, 0.49, 0.51, 0.61, 0.63, 0.45, 0.53, 0.53, 0.53, 0.54, 0.54, 0.63, 0.62, 0.47, 0.47, 0.57, 0.54, 0.57, 0.51, 0.6, 0.52, 0.59, 0.53, 0.49, 0.53, 0.45, 0.47, 0.52, 0.51, 0.69, 0.5, 0.58, 0.46, 0.45, 0.5, 0.49, 0.54, 0.5, 0.48, 0.61, 0.51, 0.45, 0.47, 0.5, 0.47, 0.49, 0.56, 0.57, 0.54, 0.53, 0.49, 0.55, 0.57, 0.45, 0.53, 0.43, 0.51, 0.52, 0.51, 0.49, 0.5, 0.55, 0.55, 0.54, 0.55, 0.53, 0.45, 0.53, 0.56, 0.46, 0.43, 0.54, 0.45, 0.48, 0.59, 0.45, 0.51, 0.5, 0.51, 0.54, 0.46, 0.5, 0.63, 0.49, 0.54, 0.55, 0.48, 0.48, 0.5, 0.47, 0.56, 0.58, 0.61, 0.54, 0.52, 0.53, 0.52, 0.53, 0.55, 0.49, 0.46, 0.56, 0.55, 0.53, 0.52, 0.54, 0.58, 0.49, 0.56, 0.5, 0.61, 0.53, 0.56, 0.43, 0.51, 0.57, 0.51, 0.57, 0.49, 0.47, 0.49, 0.58, 0.56, 0.48, 0.64, 0.56, 0.5, 0.55, 0.5, 0.47, 0.55, 0.49, 0.5, 0.46, 0.54, 0.53, 0.59, 0.52, 0.53, 0.53, 0.53, 0.48, 0.53, 0.51, 0.5, 0.62, 0.43, 0.55, 0.49, 0.53, 0.5, 0.61, 0.6, 0.56, 0.5, 0.58, 0.47, 0.61, 0.44, 0.41, 0.48, 0.52, 0.54, 0.42, 0.59, 0.57, 0.52, 0.55, 0.54, 0.53, 0.54, 0.63, 0.59, 0.57, 0.46, 0.53, 0.43, 0.46, 0.44, 0.52, 0.61, 0.57, 0.57, 0.51, 0.5, 0.59, 0.49, 0.52, 0.43, 0.52, 0.45, 0.5, 0.6, 0.54, 0.48, 0.45, 0.54, 0.53, 0.56, 0.47, 0.55, 0.6, 0.49, 0.53, 0.46, 0.47, 0.47, 0.56, 0.52, 0.56, 0.6, 0.45, 0.58, 0.57, 0.41, 0.53, 0.58, 0.49, 0.48, 0.53, 0.48, 0.51, 0.45, 0.51, 0.47, 0.62, 0.55, 0.53, 0.57, 0.5, 0.56, 0.61, 0.5, 0.54, 0.51, 0.57, 0.47, 0.56, 0.54, 0.56, 0.58, 0.5, 0.54, 0.48, 0.6, 0.5, 0.59, 0.55, 0.54, 0.5, 0.49, 0.51, 0.63, 0.55, 0.53, 0.55, 0.42, 0.51, 0.56, 0.54, 0.5, 0.38, 0.42, 0.5, 0.6, 0.47, 0.54, 0.51, 0.47, 0.55, 0.56, 0.48, 0.43, 0.57, 0.48, 0.49, 0.57, 0.56, 0.51, 0.56, 0.54, 0.42, 0.56, 0.6, 0.53, 0.54, 0.53, 0.48, 0.49, 0.5, 0.44, 0.57, 0.52, 0.57, 0.61, 0.43, 0.44, 0.48, 0.65, 0.52, 0.5, 0.5, 0.5, 0.53, 0.52, 0.56, 0.49, 0.53, 0.45, 0.54, 0.47, 0.51, 0.52, 0.49, 0.58, 0.5, 0.47, 0.52, 0.54, 0.52, 0.53, 0.55, 0.54, 0.47, 0.61, 0.65, 0.44, 0.54, 0.53, 0.57, 0.49, 0.53, 0.51, 0.51, 0.6, 0.55, 0.56, 0.52, 0.49, 0.56, 0.51, 0.65, 0.59, 0.49, 0.42, 0.51, 0.56, 0.52, 0.42, 0.54, 0.54, 0.5, 0.53, 0.58, 0.54, 0.59, 0.48, 0.47, 0.59, 0.59, 0.57, 0.47, 0.56, 0.47, 0.52, 0.55, 0.55, 0.44, 0.56, 0.47, 0.55, 0.54, 0.51, 0.5, 0.48, 0.55, 0.56, 0.51, 0.49, 0.57, 0.51, 0.53, 0.45, 0.61, 0.6, 0.44, 0.51, 0.49, 0.51, 0.51, 0.52, 0.54, 0.49, 0.56, 0.5, 0.53, 0.54, 0.57, 0.43, 0.53, 0.52, 0.57, 0.51, 0.58, 0.51, 0.48, 0.49, 0.56, 0.61, 0.45, 0.54, 0.45, 0.6, 0.47, 0.63, 0.5, 0.42, 0.51, 0.51, 0.54, 0.58, 0.55, 0.5, 0.48, 0.49, 0.58, 0.52, 0.53, 0.57, 0.45, 0.52, 0.4, 0.58, 0.47, 0.54, 0.54, 0.41, 0.48, 0.41, 0.58, 0.39, 0.52, 0.48, 0.58, 0.49, 0.5, 0.55, 0.44, 0.59, 0.45, 0.53, 0.57, 0.54, 0.55, 0.48, 0.61, 0.51, 0.56, 0.51, 0.57, 0.55, 0.52, 0.45, 0.52, 0.43, 0.57, 0.55, 0.57, 0.56, 0.49, 0.56, 0.47, 0.52, 0.53, 0.59, 0.55, 0.51, 0.54, 0.49, 0.37, 0.56, 0.56, 0.54, 0.54, 0.49, 0.5, 0.54, 0.45, 0.51, 0.51, 0.59, 0.51, 0.46, 0.45, 0.58, 0.54, 0.45, 0.58, 0.56, 0.6, 0.47, 0.57, 0.64, 0.49, 0.63, 0.54, 0.51, 0.51, 0.49, 0.46, 0.58, 0.54, 0.61, 0.43, 0.61, 0.58, 0.48, 0.56, 0.48, 0.48, 0.52, 0.57, 0.53, 0.51, 0.56, 0.52, 0.58, 0.59, 0.52, 0.53, 0.58, 0.5, 0.46, 0.39, 0.45, 0.53, 0.6, 0.49, 0.5, 0.54, 0.5, 0.52, 0.52, 0.44, 0.55, 0.43, 0.52, 0.41, 0.49, 0.5, 0.64, 0.54, 0.55, 0.51, 0.63, 0.52, 0.52, 0.48, 0.55, 0.47, 0.64, 0.52, 0.55, 0.54, 0.59, 0.48, 0.55, 0.51, 0.57, 0.48, 0.52, 0.48, 0.55, 0.49, 0.49, 0.61, 0.53, 0.57, 0.64, 0.51, 0.61, 0.44, 0.52, 0.53, 0.45, 0.55, 0.49, 0.54, 0.57, 0.51, 0.6, 0.43, 0.48, 0.52, 0.53, 0.56, 0.46, 0.63, 0.43, 0.47, 0.53, 0.42, 0.58, 0.47, 0.56, 0.53, 0.46, 0.52, 0.58, 0.52, 0.52, 0.52, 0.51, 0.48, 0.55, 0.57, 0.57, 0.6, 0.48, 0.5, 0.54, 0.71, 0.52, 0.57, 0.48, 0.48, 0.61, 0.47, 0.49, 0.58, 0.43, 0.52, 0.45, 0.54, 0.51, 0.48, 0.43, 0.46, 0.53, 0.47, 0.58, 0.46, 0.58, 0.52, 0.62, 0.58, 0.45, 0.44, 0.41, 0.52, 0.55, 0.55, 0.48, 0.49, 0.48, 0.52, 0.57, 0.49, 0.5, 0.47, 0.45, 0.5, 0.55, 0.42, 0.43, 0.45, 0.57, 0.55, 0.55, 0.48, 0.5, 0.45, 0.51, 0.51, 0.5, 0.53, 0.52, 0.57, 0.53, 0.63, 0.37, 0.56, 0.54, 0.57, 0.56, 0.52, 0.55, 0.57, 0.54, 0.55, 0.49, 0.6, 0.56, 0.46, 0.62, 0.54, 0.52, 0.42, 0.57, 0.53, 0.66, 0.5, 0.59, 0.61, 0.48, 0.57, 0.5, 0.62, 0.45, 0.51, 0.46, 0.48, 0.51, 0.57, 0.56, 0.5, 0.52, 0.5, 0.57, 0.48, 0.47, 0.58, 0.64, 0.48, 0.48, 0.57, 0.48, 0.54, 0.53, 0.57, 0.45, 0.56, 0.49, 0.49, 0.48, 0.56, 0.48, 0.56, 0.49, 0.49, 0.6, 0.46, 0.54, 0.4, 0.55, 0.57, 0.57, 0.48, 0.48, 0.56, 0.46, 0.56, 0.47, 0.51, 0.46, 0.55, 0.5, 0.5, 0.5, 0.57, 0.53, 0.5, 0.49, 0.48, 0.51, 0.43, 0.56, 0.55, 0.48, 0.61, 0.53, 0.46, 0.6, 0.46, 0.49, 0.48, 0.55, 0.5, 0.59, 0.53, 0.61, 0.57, 0.55, 0.47, 0.57, 0.42, 0.44, 0.46, 0.49, 0.51, 0.58, 0.59, 0.61, 0.45, 0.57, 0.49, 0.61, 0.52, 0.5, 0.46, 0.5, 0.47, 0.53, 0.52, 0.52, 0.51, 0.49, 0.57, 0.47, 0.52, 0.52, 0.5, 0.5, 0.57, 0.58, 0.55, 0.47, 0.49, 0.56, 0.51, 0.61, 0.48, 0.55, 0.5, 0.51, 0.52, 0.5, 0.51, 0.58, 0.53, 0.5, 0.46, 0.46, 0.57, 0.59, 0.36, 0.44, 0.53, 0.53, 0.53, 0.6, 0.55, 0.54, 0.49, 0.49, 0.64, 0.59, 0.5, 0.46, 0.53, 0.59, 0.48, 0.57, 0.5, 0.5, 0.54, 0.52, 0.55, 0.61, 0.49, 0.5, 0.53, 0.54, 0.47, 0.47, 0.56, 0.64, 0.58, 0.53, 0.48, 0.45, 0.59, 0.57, 0.49, 0.49, 0.59, 0.54, 0.57, 0.53, 0.52, 0.49, 0.41, 0.57, 0.52, 0.59, 0.49, 0.52, 0.39, 0.58, 0.4, 0.55, 0.46, 0.52, 0.51, 0.5, 0.47, 0.48, 0.55, 0.55, 0.54, 0.55, 0.54, 0.57, 0.52, 0.53, 0.56, 0.5, 0.6, 0.55, 0.57, 0.51, 0.48, 0.53, 0.47, 0.5, 0.6, 0.48, 0.52, 0.44, 0.6, 0.47, 0.55, 0.55, 0.53, 0.49, 0.53, 0.53, 0.6, 0.55, 0.48, 0.54, 0.55, 0.5, 0.52, 0.54, 0.58, 0.47, 0.53, 0.53, 0.53, 0.51, 0.56, 0.51, 0.46, 0.46, 0.51, 0.47, 0.48, 0.56, 0.53, 0.43, 0.45, 0.48, 0.59, 0.53, 0.53, 0.47, 0.52, 0.47, 0.45, 0.57, 0.56, 0.52, 0.5, 0.6, 0.54, 0.51, 0.47, 0.52, 0.53, 0.58, 0.49, 0.55, 0.49, 0.55, 0.57, 0.57, 0.49, 0.52, 0.55, 0.48, 0.53, 0.53, 0.51, 0.53, 0.57, 0.49, 0.45, 0.55, 0.52, 0.49, 0.48, 0.51, 0.5, 0.44, 0.52, 0.56, 0.62, 0.42, 0.6, 0.61, 0.43, 0.59, 0.55, 0.51, 0.57, 0.49, 0.65, 0.42, 0.49, 0.49, 0.59, 0.62, 0.51, 0.62, 0.51, 0.54, 0.55, 0.54, 0.51, 0.6, 0.54, 0.53, 0.5, 0.51, 0.37, 0.57, 0.48, 0.53, 0.55, 0.56, 0.53, 0.6, 0.44, 0.52, 0.49]\n"
          ],
          "name": "stdout"
        }
      ]
    },
    {
      "cell_type": "code",
      "metadata": {
        "id": "HmRRQWvAXL5M",
        "colab_type": "code",
        "colab": {
          "base_uri": "https://localhost:8080/",
          "height": 204
        },
        "outputId": "c2b044b0-dc51-4098-b490-c31f92b32201"
      },
      "source": [
        "df=pd.DataFrame({'single_sample': one_sample})\n",
        "df.head()"
      ],
      "execution_count": 5,
      "outputs": [
        {
          "output_type": "execute_result",
          "data": {
            "text/html": [
              "<div>\n",
              "<style scoped>\n",
              "    .dataframe tbody tr th:only-of-type {\n",
              "        vertical-align: middle;\n",
              "    }\n",
              "\n",
              "    .dataframe tbody tr th {\n",
              "        vertical-align: top;\n",
              "    }\n",
              "\n",
              "    .dataframe thead th {\n",
              "        text-align: right;\n",
              "    }\n",
              "</style>\n",
              "<table border=\"1\" class=\"dataframe\">\n",
              "  <thead>\n",
              "    <tr style=\"text-align: right;\">\n",
              "      <th></th>\n",
              "      <th>single_sample</th>\n",
              "    </tr>\n",
              "  </thead>\n",
              "  <tbody>\n",
              "    <tr>\n",
              "      <th>0</th>\n",
              "      <td>0</td>\n",
              "    </tr>\n",
              "    <tr>\n",
              "      <th>1</th>\n",
              "      <td>1</td>\n",
              "    </tr>\n",
              "    <tr>\n",
              "      <th>2</th>\n",
              "      <td>0</td>\n",
              "    </tr>\n",
              "    <tr>\n",
              "      <th>3</th>\n",
              "      <td>0</td>\n",
              "    </tr>\n",
              "    <tr>\n",
              "      <th>4</th>\n",
              "      <td>1</td>\n",
              "    </tr>\n",
              "  </tbody>\n",
              "</table>\n",
              "</div>"
            ],
            "text/plain": [
              "   single_sample\n",
              "0              0\n",
              "1              1\n",
              "2              0\n",
              "3              0\n",
              "4              1"
            ]
          },
          "metadata": {
            "tags": []
          },
          "execution_count": 5
        }
      ]
    },
    {
      "cell_type": "code",
      "metadata": {
        "id": "AKVUyYOWXMRj",
        "colab_type": "code",
        "colab": {
          "base_uri": "https://localhost:8080/",
          "height": 265
        },
        "outputId": "a0e048fb-fe34-4238-d0ab-3d88998033a2"
      },
      "source": [
        "df.single_sample.hist();"
      ],
      "execution_count": 6,
      "outputs": [
        {
          "output_type": "display_data",
          "data": {
            "image/png": "[encoded data removed]",
            "text/plain": [
              "<Figure size 432x288 with 1 Axes>"
            ]
          },
          "metadata": {
            "tags": []
          }
        }
      ]
    },
    {
      "cell_type": "code",
      "metadata": {
        "id": "KcXivrpfY4qm",
        "colab_type": "code",
        "colab": {
          "base_uri": "https://localhost:8080/",
          "height": 296
        },
        "outputId": "244fe607-a087-46e5-dbe9-ee0299a86265"
      },
      "source": [
        "ax = plt.hist(sample_means, bins=100)\n",
        "plt.title('Distribution of 3000 Sample Means \\n (of 8 choices each (taco or burrito))');"
      ],
      "execution_count": 7,
      "outputs": [
        {
          "output_type": "display_data",
          "data": {
            "image/png": "[encoded data removed]",
            "text/plain": [
              "<Figure size 432x288 with 1 Axes>"
            ]
          },
          "metadata": {
            "tags": []
          }
        }
      ]
    },
    {
      "cell_type": "markdown",
      "metadata": {
        "id": "BGfD8g7EfArb",
        "colab_type": "text"
      },
      "source": [
        "Chi-squared tests:\n",
        "Take a dataset that we have used in the past in class that has categorical variables. \n",
        "Pick two of those categorical variables and run a chi-squared tests on that data By hand using Numpy\n",
        "In a single line using Scipy"
      ]
    },
    {
      "cell_type": "code",
      "metadata": {
        "id": "_1ZvOYB_fava",
        "colab_type": "code",
        "colab": {
          "resources": {
            "http://localhost:8080/nbextensions/google.colab/files.js": {
              "data": "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",
              "ok": true,
              "headers": [
                [
                  "content-type",
                  "application/javascript"
                ]
              ],
              "status": 200,
              "status_text": ""
            }
          },
          "base_uri": "https://localhost:8080/",
          "height": 74
        },
        "outputId": "9355c89d-d23e-43f1-a5b0-95005a8d03af"
      },
      "source": [
        "from google.colab import files\n",
        "uploaded = files.upload()"
      ],
      "execution_count": 11,
      "outputs": [
        {
          "output_type": "display_data",
          "data": {
            "text/html": [
              "\n",
              "     <input type=\"file\" id=\"files-a8e27b62-da30-4f4a-b15d-79b10763304d\" name=\"files[]\" multiple disabled />\n",
              "     <output id=\"result-a8e27b62-da30-4f4a-b15d-79b10763304d\">\n",
              "      Upload widget is only available when the cell has been executed in the\n",
              "      current browser session. Please rerun this cell to enable.\n",
              "      </output>\n",
              "      <script src=\"/nbextensions/google.colab/files.js\"></script> "
            ],
            "text/plain": [
              "<IPython.core.display.HTML object>"
            ]
          },
          "metadata": {
            "tags": []
          }
        },
        {
          "output_type": "stream",
          "text": [
            "Saving house-votes-84.data to house-votes-84.data\n"
          ],
          "name": "stdout"
        }
      ]
    },
    {
      "cell_type": "code",
      "metadata": {
        "id": "tMWiZB7KfLLU",
        "colab_type": "code",
        "colab": {}
      },
      "source": [
        "column_headers=['party', 'handicapped-infants','water-project-cost-sharing',\n",
        "                        'adoption-of-the-budget-resolution','physician-fee-freeze','el-salvador-aid',\n",
        "                        'religious-groups-in-schools','anti-satellite-test-ban',\n",
        "                        'aid-to-nicaraguan-contras','mx-missile','immigration',\n",
        "                        'synfuels-corporation-cutback','education-spending','superfund-right-to-sue','crime', 'duty-free-exports',\n",
        "                        'export-administration-act-south-africa']"
      ],
      "execution_count": 0,
      "outputs": []
    },
    {
      "cell_type": "code",
      "metadata": {
        "id": "LWIDHI2sfBYa",
        "colab_type": "code",
        "colab": {
          "base_uri": "https://localhost:8080/",
          "height": 275
        },
        "outputId": "ad0af6fe-e625-4daf-cab0-321626d14a42"
      },
      "source": [
        "df=pd.read_csv('house-votes-84.data', header=None, names=column_headers, na_values=\"?\")\n",
        "\n",
        "df.head()"
      ],
      "execution_count": 13,
      "outputs": [
        {
          "output_type": "execute_result",
          "data": {
            "text/html": [
              "<div>\n",
              "<style scoped>\n",
              "    .dataframe tbody tr th:only-of-type {\n",
              "        vertical-align: middle;\n",
              "    }\n",
              "\n",
              "    .dataframe tbody tr th {\n",
              "        vertical-align: top;\n",
              "    }\n",
              "\n",
              "    .dataframe thead th {\n",
              "        text-align: right;\n",
              "    }\n",
              "</style>\n",
              "<table border=\"1\" class=\"dataframe\">\n",
              "  <thead>\n",
              "    <tr style=\"text-align: right;\">\n",
              "      <th></th>\n",
              "      <th>party</th>\n",
              "      <th>handicapped-infants</th>\n",
              "      <th>water-project-cost-sharing</th>\n",
              "      <th>adoption-of-the-budget-resolution</th>\n",
              "      <th>physician-fee-freeze</th>\n",
              "      <th>el-salvador-aid</th>\n",
              "      <th>religious-groups-in-schools</th>\n",
              "      <th>anti-satellite-test-ban</th>\n",
              "      <th>aid-to-nicaraguan-contras</th>\n",
              "      <th>mx-missile</th>\n",
              "      <th>immigration</th>\n",
              "      <th>synfuels-corporation-cutback</th>\n",
              "      <th>education-spending</th>\n",
              "      <th>superfund-right-to-sue</th>\n",
              "      <th>crime</th>\n",
              "      <th>duty-free-exports</th>\n",
              "      <th>export-administration-act-south-africa</th>\n",
              "    </tr>\n",
              "  </thead>\n",
              "  <tbody>\n",
              "    <tr>\n",
              "      <th>0</th>\n",
              "      <td>republican</td>\n",
              "      <td>n</td>\n",
              "      <td>y</td>\n",
              "      <td>n</td>\n",
              "      <td>y</td>\n",
              "      <td>y</td>\n",
              "      <td>y</td>\n",
              "      <td>n</td>\n",
              "      <td>n</td>\n",
              "      <td>n</td>\n",
              "      <td>y</td>\n",
              "      <td>NaN</td>\n",
              "      <td>y</td>\n",
              "      <td>y</td>\n",
              "      <td>y</td>\n",
              "      <td>n</td>\n",
              "      <td>y</td>\n",
              "    </tr>\n",
              "    <tr>\n",
              "      <th>1</th>\n",
              "      <td>republican</td>\n",
              "      <td>n</td>\n",
              "      <td>y</td>\n",
              "      <td>n</td>\n",
              "      <td>y</td>\n",
              "      <td>y</td>\n",
              "      <td>y</td>\n",
              "      <td>n</td>\n",
              "      <td>n</td>\n",
              "      <td>n</td>\n",
              "      <td>n</td>\n",
              "      <td>n</td>\n",
              "      <td>y</td>\n",
              "      <td>y</td>\n",
              "      <td>y</td>\n",
              "      <td>n</td>\n",
              "      <td>NaN</td>\n",
              "    </tr>\n",
              "    <tr>\n",
              "      <th>2</th>\n",
              "      <td>democrat</td>\n",
              "      <td>NaN</td>\n",
              "      <td>y</td>\n",
              "      <td>y</td>\n",
              "      <td>NaN</td>\n",
              "      <td>y</td>\n",
              "      <td>y</td>\n",
              "      <td>n</td>\n",
              "      <td>n</td>\n",
              "      <td>n</td>\n",
              "      <td>n</td>\n",
              "      <td>y</td>\n",
              "      <td>n</td>\n",
              "      <td>y</td>\n",
              "      <td>y</td>\n",
              "      <td>n</td>\n",
              "      <td>n</td>\n",
              "    </tr>\n",
              "    <tr>\n",
              "      <th>3</th>\n",
              "      <td>democrat</td>\n",
              "      <td>n</td>\n",
              "      <td>y</td>\n",
              "      <td>y</td>\n",
              "      <td>n</td>\n",
              "      <td>NaN</td>\n",
              "      <td>y</td>\n",
              "      <td>n</td>\n",
              "      <td>n</td>\n",
              "      <td>n</td>\n",
              "      <td>n</td>\n",
              "      <td>y</td>\n",
              "      <td>n</td>\n",
              "      <td>y</td>\n",
              "      <td>n</td>\n",
              "      <td>n</td>\n",
              "      <td>y</td>\n",
              "    </tr>\n",
              "    <tr>\n",
              "      <th>4</th>\n",
              "      <td>democrat</td>\n",
              "      <td>y</td>\n",
              "      <td>y</td>\n",
              "      <td>y</td>\n",
              "      <td>n</td>\n",
              "      <td>y</td>\n",
              "      <td>y</td>\n",
              "      <td>n</td>\n",
              "      <td>n</td>\n",
              "      <td>n</td>\n",
              "      <td>n</td>\n",
              "      <td>y</td>\n",
              "      <td>NaN</td>\n",
              "      <td>y</td>\n",
              "      <td>y</td>\n",
              "      <td>y</td>\n",
              "      <td>y</td>\n",
              "    </tr>\n",
              "  </tbody>\n",
              "</table>\n",
              "</div>"
            ],
            "text/plain": [
              "        party  ... export-administration-act-south-africa\n",
              "0  republican  ...                                      y\n",
              "1  republican  ...                                    NaN\n",
              "2    democrat  ...                                      n\n",
              "3    democrat  ...                                      y\n",
              "4    democrat  ...                                      y\n",
              "\n",
              "[5 rows x 17 columns]"
            ]
          },
          "metadata": {
            "tags": []
          },
          "execution_count": 13
        }
      ]
    },
    {
      "cell_type": "code",
      "metadata": {
        "id": "aOWs1Ev-f_4_",
        "colab_type": "code",
        "colab": {
          "base_uri": "https://localhost:8080/",
          "height": 173
        },
        "outputId": "1ac88e40-7e5c-472f-8784-2333f9568e90"
      },
      "source": [
        "contingency_table = pd.crosstab(df['party'], df['water-project-cost-sharing'], margins=True)\n",
        "\n",
        "contingency_table"
      ],
      "execution_count": 16,
      "outputs": [
        {
          "output_type": "execute_result",
          "data": {
            "text/html": [
              "<div>\n",
              "<style scoped>\n",
              "    .dataframe tbody tr th:only-of-type {\n",
              "        vertical-align: middle;\n",
              "    }\n",
              "\n",
              "    .dataframe tbody tr th {\n",
              "        vertical-align: top;\n",
              "    }\n",
              "\n",
              "    .dataframe thead th {\n",
              "        text-align: right;\n",
              "    }\n",
              "</style>\n",
              "<table border=\"1\" class=\"dataframe\">\n",
              "  <thead>\n",
              "    <tr style=\"text-align: right;\">\n",
              "      <th>water-project-cost-sharing</th>\n",
              "      <th>n</th>\n",
              "      <th>y</th>\n",
              "      <th>All</th>\n",
              "    </tr>\n",
              "    <tr>\n",
              "      <th>party</th>\n",
              "      <th></th>\n",
              "      <th></th>\n",
              "      <th></th>\n",
              "    </tr>\n",
              "  </thead>\n",
              "  <tbody>\n",
              "    <tr>\n",
              "      <th>democrat</th>\n",
              "      <td>119</td>\n",
              "      <td>120</td>\n",
              "      <td>239</td>\n",
              "    </tr>\n",
              "    <tr>\n",
              "      <th>republican</th>\n",
              "      <td>73</td>\n",
              "      <td>75</td>\n",
              "      <td>148</td>\n",
              "    </tr>\n",
              "    <tr>\n",
              "      <th>All</th>\n",
              "      <td>192</td>\n",
              "      <td>195</td>\n",
              "      <td>387</td>\n",
              "    </tr>\n",
              "  </tbody>\n",
              "</table>\n",
              "</div>"
            ],
            "text/plain": [
              "water-project-cost-sharing    n    y  All\n",
              "party                                    \n",
              "democrat                    119  120  239\n",
              "republican                   73   75  148\n",
              "All                         192  195  387"
            ]
          },
          "metadata": {
            "tags": []
          },
          "execution_count": 16
        }
      ]
    },
    {
      "cell_type": "markdown",
      "metadata": {
        "id": "4ohsJhQUmEuS",
        "colab_type": "text"
      },
      "source": [
        "## Stretch goals:\n",
        "\n",
        "1. Write a summary of your findings, mixing prose and math/code/results. *Note* - yes, this is by definition a political topic. It is challenging but important to keep your writing voice *neutral* and stick to the facts of the data. Data science often involves considering controversial issues, so it's important to be sensitive about them (especially if you want to publish).\n",
        "2. Apply the techniques you learned today to your project data or other data of your choice, and write/discuss your findings here.\n",
        "3. Refactor your code so it is elegant, readable, and can be easily run for all issues."
      ]
    },
    {
      "cell_type": "markdown",
      "metadata": {
        "id": "nyJ3ySr7R2k9",
        "colab_type": "text"
      },
      "source": [
        "## Resources\n",
        "\n",
        "- [Interactive visualize the Chi-Squared test](https://homepage.divms.uiowa.edu/~mbognar/applets/chisq.html)\n",
        "- [Calculation of Chi-Squared test statistic](https://en.wikipedia.org/wiki/Pearson%27s_chi-squared_test)\n",
        "- [Visualization of a confidence interval generated by R code](https://commons.wikimedia.org/wiki/File:Confidence-interval.svg)\n",
        "- [Expected value of a squared standard normal](https://math.stackexchange.com/questions/264061/expected-value-calculation-for-squared-normal-distribution) (it's 1 - which is why the expected value of a Chi-Squared with $n$ degrees of freedom is $n$, as it's the sum of $n$ squared standard normals)"
      ]
    }
  ]
}