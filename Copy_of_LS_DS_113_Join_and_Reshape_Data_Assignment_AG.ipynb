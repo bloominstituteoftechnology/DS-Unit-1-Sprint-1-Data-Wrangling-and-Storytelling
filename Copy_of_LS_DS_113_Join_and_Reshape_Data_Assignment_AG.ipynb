{
  "nbformat": 4,
  "nbformat_minor": 0,
  "metadata": {
    "kernelspec": {
      "display_name": "Python 3",
      "language": "python",
      "name": "python3"
    },
    "language_info": {
      "codemirror_mode": {
        "name": "ipython",
        "version": 3
      },
      "file_extension": ".py",
      "mimetype": "text/x-python",
      "name": "python",
      "nbconvert_exporter": "python",
      "pygments_lexer": "ipython3",
      "version": "3.7.4"
    },
    "colab": {
      "name": "Copy of LS_DS_113_Join_and_Reshape_Data_Assignment_AG.ipynb",
      "provenance": [],
      "include_colab_link": true
    }
  },
  "cells": [
    {
      "cell_type": "markdown",
      "metadata": {
        "id": "view-in-github",
        "colab_type": "text"
      },
      "source": [
        "<a href=\"https://colab.research.google.com/github/tbbcoach/DS-Unit-1-Sprint-1-Data-Wrangling-and-Storytelling/blob/master/Copy_of_LS_DS_113_Join_and_Reshape_Data_Assignment_AG.ipynb\" target=\"_parent\"><img src=\"https://colab.research.google.com/assets/colab-badge.svg\" alt=\"Open In Colab\"/></a>"
      ]
    },
    {
      "cell_type": "markdown",
      "metadata": {
        "id": "rwQOYr48F35B"
      },
      "source": [
        "## Autograded Notebook (Canvas & CodeGrade)\n",
        "\n",
        "This notebook will be automatically graded. It is designed to test your answers and award points for the correct answers. Following the instructions for each Task carefully.\n",
        "\n",
        "### Instructions\n",
        "\n",
        "* **Download this notebook** as you would any other ipynb file\n",
        "* **Upload** to Google Colab or work locally (if you have that set-up)\n",
        "* **Delete `raise NotImplementedError()`**\n",
        "* Write your code in the `# YOUR CODE HERE` space\n",
        "* **Execute** the Test cells that contain `assert` statements - these help you check your work (others contain hidden tests that will be checked when you submit through Canvas)\n",
        "* **Save** your notebook when you are finished\n",
        "* **Download** as a `ipynb` file (if working in Colab)\n",
        "* **Upload** your complete notebook to Canvas (there will be additional instructions in Slack and/or Canvas)"
      ]
    },
    {
      "cell_type": "markdown",
      "metadata": {
        "id": "YNIJQhA6F35G"
      },
      "source": [
        "# Lambda School Data Science - Unit 1 Sprint 1 Module 3\n",
        "\n",
        "## Join and Reshape Data \n",
        "\n",
        "### Module Learning Objectives\n",
        "\n",
        "* Concatenate data using the pandas concat method\n",
        "* Merge data using pandas merge\n",
        "* Define the concept of tidy data and describe the format\n",
        "* Tidy data\n",
        "\n",
        "### Helpful Resources\n",
        "\n",
        "* [Pandas Cheat Sheet](https://github.com/pandas-dev/pandas/blob/master/doc/cheatsheet/Pandas_Cheat_Sheet.pdf)\n",
        "* Python Data Science Handbook\n",
        "    * [Chapter 3.6](https://jakevdp.github.io/PythonDataScienceHandbook/03.06-concat-and-append.html), Combining Datasets: Concat and Append\n",
        "    * [Chapter 3.7](https://jakevdp.github.io/PythonDataScienceHandbook/03.07-merge-and-join.html), Combining Datasets: Merge and Join\n",
        "    * [Chapter 3.8](https://jakevdp.github.io/PythonDataScienceHandbook/03.08-aggregation-and-grouping.html), Aggregation and Grouping\n",
        "    * [Chapter 3.9](https://jakevdp.github.io/PythonDataScienceHandbook/03.09-pivot-tables.html), Pivot Tables\n",
        "    \n",
        "### Notebook points: 8"
      ]
    },
    {
      "cell_type": "markdown",
      "metadata": {
        "id": "DWSN6H7xF35H"
      },
      "source": [
        "## Introduction\n",
        "\n",
        "In this Module Project, we're going to focus on manipulating data: loading multiple datasets from different locations, concatenating, merging, and even the fancy pandas `groupby` method.\n",
        "\n",
        "## Dataset Description\n",
        "\n",
        "You can view the CSV files [here](https://github.com/LambdaSchool/data-science-practice-datasets/tree/main/unit_1/Instacart_small), before you load them into your notebook."
      ]
    },
    {
      "cell_type": "markdown",
      "metadata": {
        "id": "xlHSC6b3F35H"
      },
      "source": [
        "**Task 1** - Load CSV files\n",
        "\n",
        "We're going to look at the Instacart data and load the files as we need them. The Pandas and numpy import statements have been provided for you as well as the URL for the dataset.\n",
        "\n",
        "* Using the provided URL (`data_url1`) load the product CSV file into a DataFrame called `product_names`.\n",
        "* Print the top five records (or rows) of `product_names`."
      ]
    },
    {
      "cell_type": "code",
      "metadata": {
        "deletable": false,
        "nbgrader": {
          "cell_type": "code",
          "checksum": "0df9e574dae5253e3ce8f5cd52cf1eb0",
          "grade": false,
          "grade_id": "cell-ef51cab74649e553",
          "locked": false,
          "schema_version": 3,
          "solution": true,
          "task": false
        },
        "id": "tu7cWdwHF35H",
        "colab": {
          "base_uri": "https://localhost:8080/",
          "height": 204
        },
        "outputId": "8bc7ee24-d1dd-48d1-d7f5-2187f9aa6d35"
      },
      "source": [
        "# Task 1\n",
        "\n",
        "# Imports \n",
        "import pandas as pd\n",
        "import numpy as np\n",
        "\n",
        "# Dataset URL\n",
        "data_url1 = 'https://raw.githubusercontent.com/LambdaSchool/data-science-practice-datasets/main/unit_1/Instacart_small/product_names_sm.csv'\n",
        "# YOUR CODE HERE\n",
        "product_names = pd.read_csv(data_url1)\n",
        "\n",
        "# View the DataFrame\n",
        "product_names.head()"
      ],
      "execution_count": 1,
      "outputs": [
        {
          "output_type": "execute_result",
          "data": {
            "text/html": [
              "<div>\n",
              "<style scoped>\n",
              "    .dataframe tbody tr th:only-of-type {\n",
              "        vertical-align: middle;\n",
              "    }\n",
              "\n",
              "    .dataframe tbody tr th {\n",
              "        vertical-align: top;\n",
              "    }\n",
              "\n",
              "    .dataframe thead th {\n",
              "        text-align: right;\n",
              "    }\n",
              "</style>\n",
              "<table border=\"1\" class=\"dataframe\">\n",
              "  <thead>\n",
              "    <tr style=\"text-align: right;\">\n",
              "      <th></th>\n",
              "      <th>product_id</th>\n",
              "      <th>product_name</th>\n",
              "      <th>aisle_id</th>\n",
              "      <th>department_id</th>\n",
              "    </tr>\n",
              "  </thead>\n",
              "  <tbody>\n",
              "    <tr>\n",
              "      <th>0</th>\n",
              "      <td>45676</td>\n",
              "      <td>Oil Free Acne Stress Control Power Clear Scrub</td>\n",
              "      <td>73</td>\n",
              "      <td>11</td>\n",
              "    </tr>\n",
              "    <tr>\n",
              "      <th>1</th>\n",
              "      <td>35408</td>\n",
              "      <td>Soymilk Vanilla Value Size</td>\n",
              "      <td>91</td>\n",
              "      <td>16</td>\n",
              "    </tr>\n",
              "    <tr>\n",
              "      <th>2</th>\n",
              "      <td>37442</td>\n",
              "      <td>Vegan Egg</td>\n",
              "      <td>86</td>\n",
              "      <td>16</td>\n",
              "    </tr>\n",
              "    <tr>\n",
              "      <th>3</th>\n",
              "      <td>41599</td>\n",
              "      <td>Organic Echinacea Herb Capsules</td>\n",
              "      <td>47</td>\n",
              "      <td>11</td>\n",
              "    </tr>\n",
              "    <tr>\n",
              "      <th>4</th>\n",
              "      <td>21994</td>\n",
              "      <td>Premium Saline Nasal Spray</td>\n",
              "      <td>11</td>\n",
              "      <td>11</td>\n",
              "    </tr>\n",
              "  </tbody>\n",
              "</table>\n",
              "</div>"
            ],
            "text/plain": [
              "   product_id  ... department_id\n",
              "0       45676  ...            11\n",
              "1       35408  ...            16\n",
              "2       37442  ...            16\n",
              "3       41599  ...            11\n",
              "4       21994  ...            11\n",
              "\n",
              "[5 rows x 4 columns]"
            ]
          },
          "metadata": {
            "tags": []
          },
          "execution_count": 1
        }
      ]
    },
    {
      "cell_type": "code",
      "metadata": {
        "deletable": false,
        "editable": false,
        "nbgrader": {
          "cell_type": "code",
          "checksum": "bea14a7668c2db125da981949f9ca157",
          "grade": true,
          "grade_id": "cell-cf00b9647815499e",
          "locked": true,
          "points": 1,
          "schema_version": 3,
          "solution": false,
          "task": false
        },
        "id": "qXD1Zq3VF35I"
      },
      "source": [
        "# Task 1 - Test\n",
        "\n",
        "assert isinstance(product_names, pd.DataFrame), 'Have you created a DataFrame named `product_names`?'\n",
        "assert len(product_names) == 25000\n"
      ],
      "execution_count": 2,
      "outputs": []
    },
    {
      "cell_type": "markdown",
      "metadata": {
        "id": "mjhwuIHzF35J"
      },
      "source": [
        "**Task 2** - DataFrame concatenation\n",
        "\n",
        "Next, we're going to load two additional CSV files. The URLs have been provided so your task is to load the files into the appropriately named DataFrames and then to concatenate them into one DataFrame.\n",
        "\n",
        "* Load the CSV file at `data_url2` into a DataFrame called `order_products_prior`.\n",
        "* Load the CSV file at `data_url3` into a DataFrame called `order_products_train`.\n",
        "* Concatenate `order_products_prior` and `order_products_train` into one DataFrame called `order_products`."
      ]
    },
    {
      "cell_type": "code",
      "metadata": {
        "deletable": false,
        "nbgrader": {
          "cell_type": "code",
          "checksum": "0e2a4229faf4b498e687f1c24477d172",
          "grade": false,
          "grade_id": "cell-0f442142d6bc8c39",
          "locked": false,
          "schema_version": 3,
          "solution": true,
          "task": false
        },
        "id": "5c57x6wrF35J",
        "colab": {
          "base_uri": "https://localhost:8080/",
          "height": 204
        },
        "outputId": "af356616-e304-445b-f04b-4ac83d58c183"
      },
      "source": [
        "# Task 2\n",
        "\n",
        "# Dataset URLs\n",
        "data_url2 = 'https://raw.githubusercontent.com/LambdaSchool/data-science-practice-datasets/main/unit_1/Instacart_small/order_products_prior_sm.csv'\n",
        "data_url3 = 'https://raw.githubusercontent.com/LambdaSchool/data-science-practice-datasets/main/unit_1/Instacart_small/order_products_train_sm.csv'\n",
        "\n",
        "# YOUR CODE HERE\n",
        "order_products_prior = pd.read_csv(data_url2)\n",
        "order_products_train = pd.read_csv(data_url3)\n",
        "\n",
        "order_products = pd.concat([order_products_prior, order_products_train])\n",
        "# Print the head to view your results\n",
        "order_products.head()"
      ],
      "execution_count": 3,
      "outputs": [
        {
          "output_type": "execute_result",
          "data": {
            "text/html": [
              "<div>\n",
              "<style scoped>\n",
              "    .dataframe tbody tr th:only-of-type {\n",
              "        vertical-align: middle;\n",
              "    }\n",
              "\n",
              "    .dataframe tbody tr th {\n",
              "        vertical-align: top;\n",
              "    }\n",
              "\n",
              "    .dataframe thead th {\n",
              "        text-align: right;\n",
              "    }\n",
              "</style>\n",
              "<table border=\"1\" class=\"dataframe\">\n",
              "  <thead>\n",
              "    <tr style=\"text-align: right;\">\n",
              "      <th></th>\n",
              "      <th>order_id</th>\n",
              "      <th>product_id</th>\n",
              "      <th>add_to_cart_order</th>\n",
              "      <th>reordered</th>\n",
              "    </tr>\n",
              "  </thead>\n",
              "  <tbody>\n",
              "    <tr>\n",
              "      <th>0</th>\n",
              "      <td>1696715</td>\n",
              "      <td>34969</td>\n",
              "      <td>11</td>\n",
              "      <td>0</td>\n",
              "    </tr>\n",
              "    <tr>\n",
              "      <th>1</th>\n",
              "      <td>2077308</td>\n",
              "      <td>16641</td>\n",
              "      <td>16</td>\n",
              "      <td>0</td>\n",
              "    </tr>\n",
              "    <tr>\n",
              "      <th>2</th>\n",
              "      <td>303457</td>\n",
              "      <td>46881</td>\n",
              "      <td>6</td>\n",
              "      <td>0</td>\n",
              "    </tr>\n",
              "    <tr>\n",
              "      <th>3</th>\n",
              "      <td>514151</td>\n",
              "      <td>31766</td>\n",
              "      <td>9</td>\n",
              "      <td>0</td>\n",
              "    </tr>\n",
              "    <tr>\n",
              "      <th>4</th>\n",
              "      <td>2099209</td>\n",
              "      <td>7908</td>\n",
              "      <td>10</td>\n",
              "      <td>1</td>\n",
              "    </tr>\n",
              "  </tbody>\n",
              "</table>\n",
              "</div>"
            ],
            "text/plain": [
              "   order_id  product_id  add_to_cart_order  reordered\n",
              "0   1696715       34969                 11          0\n",
              "1   2077308       16641                 16          0\n",
              "2    303457       46881                  6          0\n",
              "3    514151       31766                  9          0\n",
              "4   2099209        7908                 10          1"
            ]
          },
          "metadata": {
            "tags": []
          },
          "execution_count": 3
        }
      ]
    },
    {
      "cell_type": "code",
      "metadata": {
        "deletable": false,
        "editable": false,
        "nbgrader": {
          "cell_type": "code",
          "checksum": "f90e3884b129f04c1f9f5ff1402ba9eb",
          "grade": true,
          "grade_id": "cell-3637e4ba19b79349",
          "locked": true,
          "points": 1,
          "schema_version": 3,
          "solution": false,
          "task": false
        },
        "id": "MMPsIRmcF35J"
      },
      "source": [
        "# Task 2 - Test\n",
        "\n",
        "assert isinstance(order_products, pd.DataFrame), 'Have you created a DataFrame named `order_products`?'\n",
        "assert len(order_products) == 50000\n"
      ],
      "execution_count": 4,
      "outputs": []
    },
    {
      "cell_type": "markdown",
      "metadata": {
        "id": "M0LKWEFQF35K"
      },
      "source": [
        "**Task 3** - Top five (5) products\n",
        "\n",
        "We're going to create a list of the top five products - we've already determined what the top five are so now it's your turn to put these items in a list.\n",
        "\n",
        "* Create a list called `five_products` with the following items: \"Bag of Organic Bananas\", \"Organic Baby Spinach\", \"Organic Avocado\", \"Large Lemon\", \"Limes\"\n",
        "\n",
        "*Note: Make sure to create the list with exact spelling as shown above!*"
      ]
    },
    {
      "cell_type": "code",
      "metadata": {
        "deletable": false,
        "nbgrader": {
          "cell_type": "code",
          "checksum": "a74a9f3e51ccd3e67edee7c3ba313176",
          "grade": false,
          "grade_id": "cell-ad8e4664b33be149",
          "locked": false,
          "schema_version": 3,
          "solution": true,
          "task": false
        },
        "id": "_0oiFY6UF35K"
      },
      "source": [
        "# Task 3\n",
        "\n",
        "# Top 5 products: five_products\n",
        "\n",
        "# YOUR CODE HERE\n",
        "five_products = ['Bag of Organic Bananas', 'Organic Baby Spinach', 'Organic Avocado', 'Large Lemon', 'Limes']\n",
        "\n"
      ],
      "execution_count": 5,
      "outputs": []
    },
    {
      "cell_type": "code",
      "metadata": {
        "deletable": false,
        "editable": false,
        "nbgrader": {
          "cell_type": "code",
          "checksum": "478aa2cdb0f03f5201d8745472e07641",
          "grade": true,
          "grade_id": "cell-0e8a931d7088b469",
          "locked": true,
          "points": 1,
          "schema_version": 3,
          "solution": false,
          "task": false
        },
        "id": "ybBoVypbF35K"
      },
      "source": [
        "# Task 3 - Test\n",
        "\n",
        "assert isinstance(five_products, list), 'Have you created the five_products list?'\n",
        "assert len(five_products) == 5, \"Make sure you created the list correctly\"\n",
        "\n",
        "# No hidden tests for this task"
      ],
      "execution_count": 6,
      "outputs": []
    },
    {
      "cell_type": "markdown",
      "metadata": {
        "id": "vbUe53GRF35K"
      },
      "source": [
        "**Task 4** - DataFrame subset using merge\n",
        "\n",
        "Create a subset of the `product_names` dataset that includes just the top **five** most ordered products. The `five_products` list has been converted to a DataFrame with the name `five`. Your task is to merge these DataFrames.\n",
        "\n",
        "* Merge `product_names` and `five` so the resulting DataFrame only includes the 5 most ordered products.  Name that DataFrame `top_products`."
      ]
    },
    {
      "cell_type": "code",
      "metadata": {
        "deletable": false,
        "nbgrader": {
          "cell_type": "code",
          "checksum": "551c13f284fb68df646af13907dd84e4",
          "grade": false,
          "grade_id": "cell-7818f18ec6921fb0",
          "locked": false,
          "schema_version": 3,
          "solution": true,
          "task": false
        },
        "id": "cYOWDq5fF35L",
        "colab": {
          "base_uri": "https://localhost:8080/",
          "height": 204
        },
        "outputId": "c908750a-af99-4de8-9c72-d183e2b1a60c"
      },
      "source": [
        "# Task 4\n",
        "\n",
        "# Convert five_products to a DataFrame called five\n",
        "five = pd.DataFrame(five_products, columns =['product_name']) \n",
        "\n",
        "# Create a subset of product_names with only the top 5 products.  \n",
        "# Use your merge statement to include only the top 5 products\n",
        "\n",
        "# YOUR CODE HERE\n",
        "top_products = pd.merge(product_names, five)\n",
        "\n",
        "# Print your DataFrame to view the merge results\n",
        "top_products.head()"
      ],
      "execution_count": 7,
      "outputs": [
        {
          "output_type": "execute_result",
          "data": {
            "text/html": [
              "<div>\n",
              "<style scoped>\n",
              "    .dataframe tbody tr th:only-of-type {\n",
              "        vertical-align: middle;\n",
              "    }\n",
              "\n",
              "    .dataframe tbody tr th {\n",
              "        vertical-align: top;\n",
              "    }\n",
              "\n",
              "    .dataframe thead th {\n",
              "        text-align: right;\n",
              "    }\n",
              "</style>\n",
              "<table border=\"1\" class=\"dataframe\">\n",
              "  <thead>\n",
              "    <tr style=\"text-align: right;\">\n",
              "      <th></th>\n",
              "      <th>product_id</th>\n",
              "      <th>product_name</th>\n",
              "      <th>aisle_id</th>\n",
              "      <th>department_id</th>\n",
              "    </tr>\n",
              "  </thead>\n",
              "  <tbody>\n",
              "    <tr>\n",
              "      <th>0</th>\n",
              "      <td>47766</td>\n",
              "      <td>Organic Avocado</td>\n",
              "      <td>24</td>\n",
              "      <td>4</td>\n",
              "    </tr>\n",
              "    <tr>\n",
              "      <th>1</th>\n",
              "      <td>47626</td>\n",
              "      <td>Large Lemon</td>\n",
              "      <td>24</td>\n",
              "      <td>4</td>\n",
              "    </tr>\n",
              "    <tr>\n",
              "      <th>2</th>\n",
              "      <td>13176</td>\n",
              "      <td>Bag of Organic Bananas</td>\n",
              "      <td>24</td>\n",
              "      <td>4</td>\n",
              "    </tr>\n",
              "    <tr>\n",
              "      <th>3</th>\n",
              "      <td>26209</td>\n",
              "      <td>Limes</td>\n",
              "      <td>24</td>\n",
              "      <td>4</td>\n",
              "    </tr>\n",
              "    <tr>\n",
              "      <th>4</th>\n",
              "      <td>21903</td>\n",
              "      <td>Organic Baby Spinach</td>\n",
              "      <td>123</td>\n",
              "      <td>4</td>\n",
              "    </tr>\n",
              "  </tbody>\n",
              "</table>\n",
              "</div>"
            ],
            "text/plain": [
              "   product_id            product_name  aisle_id  department_id\n",
              "0       47766         Organic Avocado        24              4\n",
              "1       47626             Large Lemon        24              4\n",
              "2       13176  Bag of Organic Bananas        24              4\n",
              "3       26209                   Limes        24              4\n",
              "4       21903    Organic Baby Spinach       123              4"
            ]
          },
          "metadata": {
            "tags": []
          },
          "execution_count": 7
        }
      ]
    },
    {
      "cell_type": "code",
      "metadata": {
        "deletable": false,
        "editable": false,
        "nbgrader": {
          "cell_type": "code",
          "checksum": "9769c64dd865fbdbc362cbcc974844fd",
          "grade": true,
          "grade_id": "cell-e329e3cdc129ba49",
          "locked": true,
          "points": 1,
          "schema_version": 3,
          "solution": false,
          "task": false
        },
        "id": "oVm9zLqDF35L"
      },
      "source": [
        "# Task 4 - Test\n",
        "assert isinstance(top_products, pd.DataFrame), 'Have you created a DataFrame named `top_products`?'\n"
      ],
      "execution_count": 8,
      "outputs": []
    },
    {
      "cell_type": "markdown",
      "metadata": {
        "id": "pkqI-coaF35L"
      },
      "source": [
        "**Task 5** - More DataFrame merging\n",
        "\n",
        "Now we're going to merge the first DataFrame we created (`order_products`) with the one we just made above (`top_products`). This will result in a DataFrame with only the top five most ordered products.\n",
        "\n",
        "* Merge `order_products` and `top_products` and name the resulting DataFrame `final`.\n",
        "* Print the top 20 rows of `final` to view your result."
      ]
    },
    {
      "cell_type": "code",
      "metadata": {
        "deletable": false,
        "nbgrader": {
          "cell_type": "code",
          "checksum": "4b31e9ae3b32f4b50b9babe55c54d78a",
          "grade": false,
          "grade_id": "cell-977f302dd89af1df",
          "locked": false,
          "schema_version": 3,
          "solution": true,
          "task": false
        },
        "id": "sjjLid2NF35M",
        "colab": {
          "base_uri": "https://localhost:8080/",
          "height": 669
        },
        "outputId": "e3f41cc9-955c-4437-da50-6c07a956a28e"
      },
      "source": [
        "# Task 5\n",
        "\n",
        "# Merge order_products and top_products \n",
        "\n",
        "# YOUR CODE HERE\n",
        "final = pd.merge(order_products, top_products)\n",
        "\n",
        "# Print your final DataFrame\n",
        "final.head(20)\n"
      ],
      "execution_count": 9,
      "outputs": [
        {
          "output_type": "execute_result",
          "data": {
            "text/html": [
              "<div>\n",
              "<style scoped>\n",
              "    .dataframe tbody tr th:only-of-type {\n",
              "        vertical-align: middle;\n",
              "    }\n",
              "\n",
              "    .dataframe tbody tr th {\n",
              "        vertical-align: top;\n",
              "    }\n",
              "\n",
              "    .dataframe thead th {\n",
              "        text-align: right;\n",
              "    }\n",
              "</style>\n",
              "<table border=\"1\" class=\"dataframe\">\n",
              "  <thead>\n",
              "    <tr style=\"text-align: right;\">\n",
              "      <th></th>\n",
              "      <th>order_id</th>\n",
              "      <th>product_id</th>\n",
              "      <th>add_to_cart_order</th>\n",
              "      <th>reordered</th>\n",
              "      <th>product_name</th>\n",
              "      <th>aisle_id</th>\n",
              "      <th>department_id</th>\n",
              "    </tr>\n",
              "  </thead>\n",
              "  <tbody>\n",
              "    <tr>\n",
              "      <th>0</th>\n",
              "      <td>2469765</td>\n",
              "      <td>26209</td>\n",
              "      <td>11</td>\n",
              "      <td>0</td>\n",
              "      <td>Limes</td>\n",
              "      <td>24</td>\n",
              "      <td>4</td>\n",
              "    </tr>\n",
              "    <tr>\n",
              "      <th>1</th>\n",
              "      <td>2322104</td>\n",
              "      <td>26209</td>\n",
              "      <td>6</td>\n",
              "      <td>1</td>\n",
              "      <td>Limes</td>\n",
              "      <td>24</td>\n",
              "      <td>4</td>\n",
              "    </tr>\n",
              "    <tr>\n",
              "      <th>2</th>\n",
              "      <td>1297655</td>\n",
              "      <td>26209</td>\n",
              "      <td>15</td>\n",
              "      <td>1</td>\n",
              "      <td>Limes</td>\n",
              "      <td>24</td>\n",
              "      <td>4</td>\n",
              "    </tr>\n",
              "    <tr>\n",
              "      <th>3</th>\n",
              "      <td>1397335</td>\n",
              "      <td>26209</td>\n",
              "      <td>8</td>\n",
              "      <td>1</td>\n",
              "      <td>Limes</td>\n",
              "      <td>24</td>\n",
              "      <td>4</td>\n",
              "    </tr>\n",
              "    <tr>\n",
              "      <th>4</th>\n",
              "      <td>651387</td>\n",
              "      <td>26209</td>\n",
              "      <td>2</td>\n",
              "      <td>1</td>\n",
              "      <td>Limes</td>\n",
              "      <td>24</td>\n",
              "      <td>4</td>\n",
              "    </tr>\n",
              "    <tr>\n",
              "      <th>5</th>\n",
              "      <td>1338110</td>\n",
              "      <td>26209</td>\n",
              "      <td>5</td>\n",
              "      <td>1</td>\n",
              "      <td>Limes</td>\n",
              "      <td>24</td>\n",
              "      <td>4</td>\n",
              "    </tr>\n",
              "    <tr>\n",
              "      <th>6</th>\n",
              "      <td>2587073</td>\n",
              "      <td>26209</td>\n",
              "      <td>2</td>\n",
              "      <td>1</td>\n",
              "      <td>Limes</td>\n",
              "      <td>24</td>\n",
              "      <td>4</td>\n",
              "    </tr>\n",
              "    <tr>\n",
              "      <th>7</th>\n",
              "      <td>25158</td>\n",
              "      <td>26209</td>\n",
              "      <td>9</td>\n",
              "      <td>1</td>\n",
              "      <td>Limes</td>\n",
              "      <td>24</td>\n",
              "      <td>4</td>\n",
              "    </tr>\n",
              "    <tr>\n",
              "      <th>8</th>\n",
              "      <td>2652386</td>\n",
              "      <td>26209</td>\n",
              "      <td>11</td>\n",
              "      <td>1</td>\n",
              "      <td>Limes</td>\n",
              "      <td>24</td>\n",
              "      <td>4</td>\n",
              "    </tr>\n",
              "    <tr>\n",
              "      <th>9</th>\n",
              "      <td>440430</td>\n",
              "      <td>26209</td>\n",
              "      <td>5</td>\n",
              "      <td>1</td>\n",
              "      <td>Limes</td>\n",
              "      <td>24</td>\n",
              "      <td>4</td>\n",
              "    </tr>\n",
              "    <tr>\n",
              "      <th>10</th>\n",
              "      <td>1080877</td>\n",
              "      <td>26209</td>\n",
              "      <td>9</td>\n",
              "      <td>1</td>\n",
              "      <td>Limes</td>\n",
              "      <td>24</td>\n",
              "      <td>4</td>\n",
              "    </tr>\n",
              "    <tr>\n",
              "      <th>11</th>\n",
              "      <td>105005</td>\n",
              "      <td>26209</td>\n",
              "      <td>3</td>\n",
              "      <td>1</td>\n",
              "      <td>Limes</td>\n",
              "      <td>24</td>\n",
              "      <td>4</td>\n",
              "    </tr>\n",
              "    <tr>\n",
              "      <th>12</th>\n",
              "      <td>868591</td>\n",
              "      <td>26209</td>\n",
              "      <td>14</td>\n",
              "      <td>1</td>\n",
              "      <td>Limes</td>\n",
              "      <td>24</td>\n",
              "      <td>4</td>\n",
              "    </tr>\n",
              "    <tr>\n",
              "      <th>13</th>\n",
              "      <td>842603</td>\n",
              "      <td>26209</td>\n",
              "      <td>2</td>\n",
              "      <td>0</td>\n",
              "      <td>Limes</td>\n",
              "      <td>24</td>\n",
              "      <td>4</td>\n",
              "    </tr>\n",
              "    <tr>\n",
              "      <th>14</th>\n",
              "      <td>1765563</td>\n",
              "      <td>26209</td>\n",
              "      <td>15</td>\n",
              "      <td>0</td>\n",
              "      <td>Limes</td>\n",
              "      <td>24</td>\n",
              "      <td>4</td>\n",
              "    </tr>\n",
              "    <tr>\n",
              "      <th>15</th>\n",
              "      <td>1730767</td>\n",
              "      <td>26209</td>\n",
              "      <td>37</td>\n",
              "      <td>1</td>\n",
              "      <td>Limes</td>\n",
              "      <td>24</td>\n",
              "      <td>4</td>\n",
              "    </tr>\n",
              "    <tr>\n",
              "      <th>16</th>\n",
              "      <td>672740</td>\n",
              "      <td>26209</td>\n",
              "      <td>6</td>\n",
              "      <td>1</td>\n",
              "      <td>Limes</td>\n",
              "      <td>24</td>\n",
              "      <td>4</td>\n",
              "    </tr>\n",
              "    <tr>\n",
              "      <th>17</th>\n",
              "      <td>459187</td>\n",
              "      <td>26209</td>\n",
              "      <td>8</td>\n",
              "      <td>1</td>\n",
              "      <td>Limes</td>\n",
              "      <td>24</td>\n",
              "      <td>4</td>\n",
              "    </tr>\n",
              "    <tr>\n",
              "      <th>18</th>\n",
              "      <td>2847056</td>\n",
              "      <td>26209</td>\n",
              "      <td>19</td>\n",
              "      <td>1</td>\n",
              "      <td>Limes</td>\n",
              "      <td>24</td>\n",
              "      <td>4</td>\n",
              "    </tr>\n",
              "    <tr>\n",
              "      <th>19</th>\n",
              "      <td>620885</td>\n",
              "      <td>26209</td>\n",
              "      <td>10</td>\n",
              "      <td>0</td>\n",
              "      <td>Limes</td>\n",
              "      <td>24</td>\n",
              "      <td>4</td>\n",
              "    </tr>\n",
              "  </tbody>\n",
              "</table>\n",
              "</div>"
            ],
            "text/plain": [
              "    order_id  product_id  ...  aisle_id  department_id\n",
              "0    2469765       26209  ...        24              4\n",
              "1    2322104       26209  ...        24              4\n",
              "2    1297655       26209  ...        24              4\n",
              "3    1397335       26209  ...        24              4\n",
              "4     651387       26209  ...        24              4\n",
              "5    1338110       26209  ...        24              4\n",
              "6    2587073       26209  ...        24              4\n",
              "7      25158       26209  ...        24              4\n",
              "8    2652386       26209  ...        24              4\n",
              "9     440430       26209  ...        24              4\n",
              "10   1080877       26209  ...        24              4\n",
              "11    105005       26209  ...        24              4\n",
              "12    868591       26209  ...        24              4\n",
              "13    842603       26209  ...        24              4\n",
              "14   1765563       26209  ...        24              4\n",
              "15   1730767       26209  ...        24              4\n",
              "16    672740       26209  ...        24              4\n",
              "17    459187       26209  ...        24              4\n",
              "18   2847056       26209  ...        24              4\n",
              "19    620885       26209  ...        24              4\n",
              "\n",
              "[20 rows x 7 columns]"
            ]
          },
          "metadata": {
            "tags": []
          },
          "execution_count": 9
        }
      ]
    },
    {
      "cell_type": "code",
      "metadata": {
        "deletable": false,
        "editable": false,
        "nbgrader": {
          "cell_type": "code",
          "checksum": "8c351ac1f8aa2048ca5465393f9f00b0",
          "grade": true,
          "grade_id": "cell-0c48a0352b6596f5",
          "locked": true,
          "points": 1,
          "schema_version": 3,
          "solution": false,
          "task": false
        },
        "id": "wTjI6QCoF35M"
      },
      "source": [
        "# Task 5 - Test\n",
        "\n",
        "assert isinstance(final, pd.DataFrame), 'Have you created a DataFrame named `final`?'\n"
      ],
      "execution_count": 10,
      "outputs": []
    },
    {
      "cell_type": "markdown",
      "metadata": {
        "id": "PwtkkWWaF35M"
      },
      "source": [
        "**Task 6** - Top five products - value counts\n",
        "\n",
        "Note that every record in `final` is a single instance in which someone ordered one of the top five products.  Your task is to calcluate the number of times each product was ordered.\n",
        "\n",
        "* Calculate the **number of times** each product was ordered using `value_counts()`. Name the result `food_frequency`.\n",
        "* Assign the most frequently ordered food to the variable `top_item` (your variable should be a string; make sure to use the exact formatting returned above)."
      ]
    },
    {
      "cell_type": "code",
      "metadata": {
        "deletable": false,
        "nbgrader": {
          "cell_type": "code",
          "checksum": "8f29e56a39d33ba9ee78531bbebda218",
          "grade": false,
          "grade_id": "cell-9a3735ded06b8419",
          "locked": false,
          "schema_version": 3,
          "solution": true,
          "task": false
        },
        "id": "jtsfJKyEF35M",
        "colab": {
          "base_uri": "https://localhost:8080/",
          "height": 137
        },
        "outputId": "167d01ef-c29e-4503-ecb9-1e9535363486"
      },
      "source": [
        "# Task 6\n",
        "\n",
        "# Determine the number of times each product was ordered\n",
        "\n",
        "# YOUR CODE HERE\n",
        "food_frequency = final['product_name'].value_counts()\n",
        "top_item = 'Bag of Organic Bananas'\n",
        "# View your results\n",
        "display(top_item)\n",
        "food_frequency.head()"
      ],
      "execution_count": 41,
      "outputs": [
        {
          "output_type": "display_data",
          "data": {
            "application/vnd.google.colaboratory.intrinsic+json": {
              "type": "string"
            },
            "text/plain": [
              "'Bag of Organic Bananas'"
            ]
          },
          "metadata": {
            "tags": []
          }
        },
        {
          "output_type": "execute_result",
          "data": {
            "text/plain": [
              "Bag of Organic Bananas    561\n",
              "Organic Baby Spinach      360\n",
              "Large Lemon               283\n",
              "Organic Avocado           269\n",
              "Limes                     197\n",
              "Name: product_name, dtype: int64"
            ]
          },
          "metadata": {
            "tags": []
          },
          "execution_count": 41
        }
      ]
    },
    {
      "cell_type": "code",
      "metadata": {
        "deletable": false,
        "editable": false,
        "nbgrader": {
          "cell_type": "code",
          "checksum": "1cb6f43a74e4166ee50b1e07c085a8ec",
          "grade": true,
          "grade_id": "cell-e7858bb55bf086fb",
          "locked": true,
          "points": 1,
          "schema_version": 3,
          "solution": false,
          "task": false
        },
        "id": "MwDXJPnrF35M"
      },
      "source": [
        "# Task 6 - Test\n",
        "assert food_frequency.shape == (5,), 'Check to make sure you merged correctly'\n"
      ],
      "execution_count": 40,
      "outputs": []
    },
    {
      "cell_type": "markdown",
      "metadata": {
        "id": "vF_esnVpF35N"
      },
      "source": [
        "**Task 7** - Using `groupby()` and `mean()`\n",
        "\n",
        "In this next step, we're going to import one last CSV file and look at the time of day an order was made. Some of the code has been provided for you - your task is to complete the merging and look at the mean time of the top five orders.\n",
        "\n",
        "**Completed for you**\n",
        "* Imported `orders_sm.csv` as the DataFrame `orders`.\n",
        "* Merged `orders` and `final` into a DataFrame called `final_times` that only includes the top five foods.\n",
        "\n",
        "**Your tasks**\n",
        "* Use the `groupby()` and `mean()` functions to calculate the mean time each product was ordered (`order_hour_of_day`).\n",
        "* Name the results of your calculation `mean_hours`."
      ]
    },
    {
      "cell_type": "code",
      "metadata": {
        "deletable": false,
        "nbgrader": {
          "cell_type": "code",
          "checksum": "70e21fb1271f65913ca3df374375949e",
          "grade": false,
          "grade_id": "cell-8932129638b4d019",
          "locked": false,
          "schema_version": 3,
          "solution": true,
          "task": false
        },
        "id": "Hw9kQeb4F35N",
        "colab": {
          "base_uri": "https://localhost:8080/"
        },
        "outputId": "ee60492d-dfd9-4e83-e740-086db0352fde"
      },
      "source": [
        "# Task 7\n",
        "\n",
        "# COMPLETED FOR YOU\n",
        "# Import orders.csv and name the DataFrame orders\n",
        "data_url4 = 'https://raw.githubusercontent.com/LambdaSchool/data-science-practice-datasets/main/unit_1/Instacart_small/orders_sm.csv'\n",
        "orders = pd.read_csv(data_url4)\n",
        "# Merge orders and final into the DataFrame final_time\n",
        "final_time = pd.merge(orders, final, on='order_id', how='right')\n",
        "\n",
        "# Use groupby() and mean() to calculate the mean time each product was ordered\n",
        "\n",
        "# YOUR CODE HERE\n",
        "mean_hours = final_time.groupby('product_name').mean()['order_hour_of_day']\n",
        "\n",
        "# View your results\n",
        "mean_hours.head()"
      ],
      "execution_count": 26,
      "outputs": [
        {
          "output_type": "execute_result",
          "data": {
            "text/plain": [
              "product_name\n",
              "Bag of Organic Bananas    13.200000\n",
              "Large Lemon               16.000000\n",
              "Limes                     10.333333\n",
              "Organic Avocado           17.500000\n",
              "Organic Baby Spinach      14.500000\n",
              "Name: order_hour_of_day, dtype: float64"
            ]
          },
          "metadata": {
            "tags": []
          },
          "execution_count": 26
        }
      ]
    },
    {
      "cell_type": "code",
      "metadata": {
        "deletable": false,
        "editable": false,
        "nbgrader": {
          "cell_type": "code",
          "checksum": "aa171a08346bc03c81694b5514f1ab2a",
          "grade": true,
          "grade_id": "cell-22190fff81957bb7",
          "locked": true,
          "points": 1,
          "schema_version": 3,
          "solution": false,
          "task": false
        },
        "id": "JTxLaTxAF35N"
      },
      "source": [
        "# Task 7 - Test\n",
        "assert mean_hours.shape == (5,), 'Check to make sure you merged correctly'\n"
      ],
      "execution_count": 23,
      "outputs": []
    },
    {
      "cell_type": "code",
      "metadata": {
        "id": "9eOXCxU7sZ_S"
      },
      "source": [
        ""
      ],
      "execution_count": null,
      "outputs": []
    },
    {
      "cell_type": "markdown",
      "metadata": {
        "id": "w5IZz2fyF35N"
      },
      "source": [
        "**Task 8** - Mean order time\n",
        "\n",
        "Using the results from above, determine the mean order time for two of the top five items: \"Limes\" and \"Organic Baby Spinach\"\n",
        "\n",
        "* Find the mean order time for \"Limes\" and assign it to the variable `time_limes`. Your answer should be a float defined to one decimal place.\n",
        "* Find the mean order time for \"Organic Baby Spinach\" and assign it to the variable `time_spinach`. You answer should be a float defined to one decimal place."
      ]
    },
    {
      "cell_type": "code",
      "metadata": {
        "deletable": false,
        "nbgrader": {
          "cell_type": "code",
          "checksum": "710e71f05c3f22a2dda049a7f398d590",
          "grade": false,
          "grade_id": "cell-b160e1511b2388db",
          "locked": false,
          "schema_version": 3,
          "solution": true,
          "task": false
        },
        "id": "Gclir3KxF35N",
        "colab": {
          "base_uri": "https://localhost:8080/"
        },
        "outputId": "fcfb053e-ac8a-47d7-d256-219495d8a108"
      },
      "source": [
        "# Task 8\n",
        "\n",
        "time_limes = round(10.333333, 1)\n",
        "time_spinach = round(14.500000, 1)\n",
        "\n",
        "print(time_limes)\n",
        "print(time_spinach)"
      ],
      "execution_count": 29,
      "outputs": [
        {
          "output_type": "stream",
          "text": [
            "10.3\n",
            "14.5\n"
          ],
          "name": "stdout"
        }
      ]
    },
    {
      "cell_type": "markdown",
      "metadata": {
        "id": "3yCQGCYHF35O"
      },
      "source": [
        "**Task 8 Test**"
      ]
    },
    {
      "cell_type": "code",
      "metadata": {
        "deletable": false,
        "editable": false,
        "nbgrader": {
          "cell_type": "code",
          "checksum": "03f2008f561ced4f894cd38f52633ab2",
          "grade": true,
          "grade_id": "cell-c138ab110b2bcf90",
          "locked": true,
          "points": 1,
          "schema_version": 3,
          "solution": false,
          "task": false
        },
        "id": "maw8_qRTF35O"
      },
      "source": [
        "# Task 8 - Test\n"
      ],
      "execution_count": 30,
      "outputs": []
    }
  ]
}