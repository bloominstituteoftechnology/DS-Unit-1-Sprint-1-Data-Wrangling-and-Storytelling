{
  "nbformat": 4,
  "nbformat_minor": 0,
  "metadata": {
    "colab": {
      "name": "Daniel_Benson_LS_DS_112_Make_Features_Assignment.ipynb",
      "provenance": [],
      "collapsed_sections": [],
      "include_colab_link": true
    },
    "kernelspec": {
      "display_name": "Python 3",
      "language": "python",
      "name": "python3"
    },
    "language_info": {
      "codemirror_mode": {
        "name": "ipython",
        "version": 3
      },
      "file_extension": ".py",
      "mimetype": "text/x-python",
      "name": "python",
      "nbconvert_exporter": "python",
      "pygments_lexer": "ipython3",
      "version": "3.7.1"
    }
  },
  "cells": [
    {
      "cell_type": "markdown",
      "metadata": {
        "id": "view-in-github",
        "colab_type": "text"
      },
      "source": [
        "<a href=\"https://colab.research.google.com/github/Daniel-Benson-Poe/DS-Unit-1-Sprint-1-Data-Wrangling-and-Storytelling/blob/master/Daniel_Benson_LS_DS_112_Make_Features_Assignment.ipynb\" target=\"_parent\"><img src=\"https://colab.research.google.com/assets/colab-badge.svg\" alt=\"Open In Colab\"/></a>"
      ]
    },
    {
      "cell_type": "markdown",
      "metadata": {
        "id": "SnDJqBLi0FYW",
        "colab_type": "text"
      },
      "source": [
        "<img align=\"left\" src=\"https://lever-client-logos.s3.amazonaws.com/864372b1-534c-480e-acd5-9711f850815c-1524247202159.png\" width=200> "
      ]
    },
    {
      "cell_type": "markdown",
      "metadata": {
        "id": "W5GjI1z5yNG4",
        "colab_type": "text"
      },
      "source": [
        "# Assignment:\n",
        "\n",
        "- Replicate the lesson code.\n",
        "\n",
        " - This means that if you haven't followed along already, type out the things that we did in class. Forcing your fingers to hit each key will help you internalize the syntax of what we're doing. Make sure you understand each line of code that you're writing, google things that you don't fully understand.\n",
        " - [Lambda Learning Method for DS - By Ryan Herr](https://docs.google.com/document/d/1ubOw9B3Hfip27hF2ZFnW3a3z9xAgrUDRReOEo-FHCVs/edit?usp=sharing)\n",
        "- Convert the `term` column from string to integer.\n",
        "- Make a column named `loan_status_is_great`. It should contain the integer 1 if `loan_status` is \"Current\" or \"Fully Paid.\" Else it should contain the integer 0.\n",
        "- Make `last_pymnt_d_month` and `last_pymnt_d_year` columns."
      ]
    },
    {
      "cell_type": "code",
      "metadata": {
        "id": "AazB4eFwym2p",
        "colab_type": "code",
        "outputId": "a954fb86-2e6b-4c0d-b65b-9f548ce735f1",
        "colab": {
          "base_uri": "https://localhost:8080/",
          "height": 204
        }
      },
      "source": [
        "!wget https://resources.lendingclub.com/LoanStats_2018Q4.csv.zip"
      ],
      "execution_count": 2,
      "outputs": [
        {
          "output_type": "stream",
          "text": [
            "--2019-11-03 06:07:13--  https://resources.lendingclub.com/LoanStats_2018Q4.csv.zip\n",
            "Resolving resources.lendingclub.com (resources.lendingclub.com)... 64.48.1.20\n",
            "Connecting to resources.lendingclub.com (resources.lendingclub.com)|64.48.1.20|:443... connected.\n",
            "HTTP request sent, awaiting response... 200 OK\n",
            "Length: unspecified [application/zip]\n",
            "Saving to: ‘LoanStats_2018Q4.csv.zip’\n",
            "\n",
            "LoanStats_2018Q4.cs     [         <=>        ]  21.66M   429KB/s    in 53s     \n",
            "\n",
            "2019-11-03 06:08:07 (421 KB/s) - ‘LoanStats_2018Q4.csv.zip’ saved [22709125]\n",
            "\n"
          ],
          "name": "stdout"
        }
      ]
    },
    {
      "cell_type": "code",
      "metadata": {
        "id": "gHyEx2jk2Wfd",
        "colab_type": "code",
        "outputId": "86de0bbf-83a4-409c-804b-886f486445fe",
        "colab": {
          "base_uri": "https://localhost:8080/",
          "height": 51
        }
      },
      "source": [
        "!unzip LoanStats_2018Q4.csv.zip\n"
      ],
      "execution_count": 3,
      "outputs": [
        {
          "output_type": "stream",
          "text": [
            "Archive:  LoanStats_2018Q4.csv.zip\n",
            "  inflating: LoanStats_2018Q4.csv    \n"
          ],
          "name": "stdout"
        }
      ]
    },
    {
      "cell_type": "code",
      "metadata": {
        "id": "hTLAmcL72Wp9",
        "colab_type": "code",
        "outputId": "8ec3a09d-febe-4c9c-c339-7e279b677641",
        "colab": {
          "base_uri": "https://localhost:8080/",
          "height": 207
        }
      },
      "source": [
        "!head LoanStats_2018Q4.csv"
      ],
      "execution_count": 4,
      "outputs": [
        {
          "output_type": "stream",
          "text": [
            "Notes offered by Prospectus (https://www.lendingclub.com/info/prospectus.action)\n",
            "\"id\",\"member_id\",\"loan_amnt\",\"funded_amnt\",\"funded_amnt_inv\",\"term\",\"int_rate\",\"installment\",\"grade\",\"sub_grade\",\"emp_title\",\"emp_length\",\"home_ownership\",\"annual_inc\",\"verification_status\",\"issue_d\",\"loan_status\",\"pymnt_plan\",\"url\",\"desc\",\"purpose\",\"title\",\"zip_code\",\"addr_state\",\"dti\",\"delinq_2yrs\",\"earliest_cr_line\",\"inq_last_6mths\",\"mths_since_last_delinq\",\"mths_since_last_record\",\"open_acc\",\"pub_rec\",\"revol_bal\",\"revol_util\",\"total_acc\",\"initial_list_status\",\"out_prncp\",\"out_prncp_inv\",\"total_pymnt\",\"total_pymnt_inv\",\"total_rec_prncp\",\"total_rec_int\",\"total_rec_late_fee\",\"recoveries\",\"collection_recovery_fee\",\"last_pymnt_d\",\"last_pymnt_amnt\",\"next_pymnt_d\",\"last_credit_pull_d\",\"collections_12_mths_ex_med\",\"mths_since_last_major_derog\",\"policy_code\",\"application_type\",\"annual_inc_joint\",\"dti_joint\",\"verification_status_joint\",\"acc_now_delinq\",\"tot_coll_amt\",\"tot_cur_bal\",\"open_acc_6m\",\"open_act_il\",\"open_il_12m\",\"open_il_24m\",\"mths_since_rcnt_il\",\"total_bal_il\",\"il_util\",\"open_rv_12m\",\"open_rv_24m\",\"max_bal_bc\",\"all_util\",\"total_rev_hi_lim\",\"inq_fi\",\"total_cu_tl\",\"inq_last_12m\",\"acc_open_past_24mths\",\"avg_cur_bal\",\"bc_open_to_buy\",\"bc_util\",\"chargeoff_within_12_mths\",\"delinq_amnt\",\"mo_sin_old_il_acct\",\"mo_sin_old_rev_tl_op\",\"mo_sin_rcnt_rev_tl_op\",\"mo_sin_rcnt_tl\",\"mort_acc\",\"mths_since_recent_bc\",\"mths_since_recent_bc_dlq\",\"mths_since_recent_inq\",\"mths_since_recent_revol_delinq\",\"num_accts_ever_120_pd\",\"num_actv_bc_tl\",\"num_actv_rev_tl\",\"num_bc_sats\",\"num_bc_tl\",\"num_il_tl\",\"num_op_rev_tl\",\"num_rev_accts\",\"num_rev_tl_bal_gt_0\",\"num_sats\",\"num_tl_120dpd_2m\",\"num_tl_30dpd\",\"num_tl_90g_dpd_24m\",\"num_tl_op_past_12m\",\"pct_tl_nvr_dlq\",\"percent_bc_gt_75\",\"pub_rec_bankruptcies\",\"tax_liens\",\"tot_hi_cred_lim\",\"total_bal_ex_mort\",\"total_bc_limit\",\"total_il_high_credit_limit\",\"revol_bal_joint\",\"sec_app_earliest_cr_line\",\"sec_app_inq_last_6mths\",\"sec_app_mort_acc\",\"sec_app_open_acc\",\"sec_app_revol_util\",\"sec_app_open_act_il\",\"sec_app_num_rev_accts\",\"sec_app_chargeoff_within_12_mths\",\"sec_app_collections_12_mths_ex_med\",\"sec_app_mths_since_last_major_derog\",\"hardship_flag\",\"hardship_type\",\"hardship_reason\",\"hardship_status\",\"deferral_term\",\"hardship_amount\",\"hardship_start_date\",\"hardship_end_date\",\"payment_plan_start_date\",\"hardship_length\",\"hardship_dpd\",\"hardship_loan_status\",\"orig_projected_additional_accrued_interest\",\"hardship_payoff_balance_amount\",\"hardship_last_payment_amount\",\"debt_settlement_flag\",\"debt_settlement_flag_date\",\"settlement_status\",\"settlement_date\",\"settlement_amount\",\"settlement_percentage\",\"settlement_term\"\n",
            "\"\",\"\",\"35000\",\"35000\",\"35000\",\" 36 months\",\" 14.47%\",\"1204.23\",\"C\",\"C2\",\"Staff Physician\",\"8 years\",\"MORTGAGE\",\"360000\",\"Verified\",\"Dec-2018\",\"Fully Paid\",\"n\",\"\",\"\",\"credit_card\",\"Credit card refinancing\",\"336xx\",\"FL\",\"19.9\",\"0\",\"Apr-1995\",\"1\",\"\",\"\",\"24\",\"0\",\"57259\",\"43.2%\",\"51\",\"w\",\"0.00\",\"0.00\",\"38187.0468373662\",\"38187.05\",\"35000.00\",\"3187.05\",\"0.0\",\"0.0\",\"0.0\",\"Aug-2019\",\"29882.16\",\"\",\"Sep-2019\",\"0\",\"\",\"1\",\"Individual\",\"\",\"\",\"\",\"0\",\"0\",\"828060\",\"0\",\"6\",\"1\",\"2\",\"9\",\"112027\",\"29\",\"4\",\"8\",\"19118\",\"36\",\"132400\",\"3\",\"2\",\"5\",\"11\",\"34503\",\"67341\",\"46\",\"0\",\"0\",\"173\",\"284\",\"8\",\"8\",\"3\",\"8\",\"\",\"0\",\"\",\"0\",\"11\",\"11\",\"13\",\"20\",\"23\",\"16\",\"24\",\"11\",\"24\",\"0\",\"0\",\"0\",\"5\",\"100\",\"30.8\",\"0\",\"0\",\"1222051\",\"169286\",\"124600\",\"258401\",\"\",\"\",\"\",\"\",\"\",\"\",\"\",\"\",\"\",\"\",\"\",\"N\",\"\",\"\",\"\",\"\",\"\",\"\",\"\",\"\",\"\",\"\",\"\",\"\",\"\",\"\",\"N\",\"\",\"\",\"\",\"\",\"\",\"\"\n",
            "\"\",\"\",\"5000\",\"5000\",\"5000\",\" 36 months\",\" 22.35%\",\"191.86\",\"D\",\"D5\",\"Director of Sales\",\"10+ years\",\"MORTGAGE\",\"72000\",\"Source Verified\",\"Dec-2018\",\"Fully Paid\",\"n\",\"\",\"\",\"debt_consolidation\",\"Debt consolidation\",\"333xx\",\"FL\",\"20.12\",\"0\",\"Mar-2010\",\"0\",\"\",\"\",\"13\",\"0\",\"11720\",\"47.1%\",\"26\",\"f\",\"0.00\",\"0.00\",\"5615.9776735688\",\"5615.98\",\"5000.00\",\"615.98\",\"0.0\",\"0.0\",\"0.0\",\"Jul-2019\",\"4474.13\",\"\",\"Aug-2019\",\"0\",\"\",\"1\",\"Individual\",\"\",\"\",\"\",\"0\",\"534\",\"189279\",\"0\",\"1\",\"0\",\"1\",\"18\",\"22698\",\"\",\"0\",\"0\",\"4056\",\"47\",\"24900\",\"1\",\"0\",\"1\",\"2\",\"14560\",\"8163\",\"55.1\",\"0\",\"0\",\"105\",\"90\",\"29\",\"8\",\"5\",\"40\",\"\",\"9\",\"\",\"0\",\"6\",\"11\",\"6\",\"8\",\"4\",\"11\",\"17\",\"11\",\"13\",\"0\",\"0\",\"0\",\"1\",\"100\",\"50\",\"0\",\"0\",\"218686\",\"34418\",\"18200\",\"37786\",\"\",\"\",\"\",\"\",\"\",\"\",\"\",\"\",\"\",\"\",\"\",\"N\",\"\",\"\",\"\",\"\",\"\",\"\",\"\",\"\",\"\",\"\",\"\",\"\",\"\",\"\",\"N\",\"\",\"\",\"\",\"\",\"\",\"\"\n",
            "\"\",\"\",\"10000\",\"10000\",\"10000\",\" 60 months\",\" 23.40%\",\"284.21\",\"E\",\"E1\",\"\",\"< 1 year\",\"RENT\",\"55000\",\"Source Verified\",\"Dec-2018\",\"Current\",\"n\",\"\",\"\",\"debt_consolidation\",\"Debt consolidation\",\"902xx\",\"CA\",\"13.51\",\"0\",\"Apr-2007\",\"0\",\"44\",\"88\",\"9\",\"1\",\"11859\",\"53.9%\",\"11\",\"w\",\"9025.41\",\"9025.41\",\"2822.6\",\"2822.60\",\"974.59\",\"1848.01\",\"0.0\",\"0.0\",\"0.0\",\"Oct-2019\",\"284.21\",\"Nov-2019\",\"Oct-2019\",\"0\",\"\",\"1\",\"Individual\",\"\",\"\",\"\",\"0\",\"0\",\"21235\",\"0\",\"1\",\"0\",\"1\",\"20\",\"9376\",\"76\",\"0\",\"3\",\"3122\",\"62\",\"22000\",\"1\",\"0\",\"0\",\"4\",\"2359\",\"1119\",\"89.3\",\"0\",\"0\",\"140\",\"140\",\"13\",\"13\",\"0\",\"13\",\"\",\"15\",\"44\",\"0\",\"4\",\"7\",\"4\",\"5\",\"2\",\"8\",\"9\",\"7\",\"9\",\"0\",\"0\",\"0\",\"0\",\"90.9\",\"100\",\"1\",\"0\",\"34386\",\"21235\",\"10500\",\"12386\",\"\",\"\",\"\",\"\",\"\",\"\",\"\",\"\",\"\",\"\",\"\",\"N\",\"\",\"\",\"\",\"\",\"\",\"\",\"\",\"\",\"\",\"\",\"\",\"\",\"\",\"\",\"N\",\"\",\"\",\"\",\"\",\"\",\"\"\n",
            "\"\",\"\",\"17100\",\"17100\",\"17100\",\" 36 months\",\" 18.94%\",\"626.3\",\"D\",\"D2\",\"Receptionist \",\"10+ years\",\"RENT\",\"38000\",\"Verified\",\"Dec-2018\",\"Current\",\"n\",\"\",\"\",\"debt_consolidation\",\"Debt consolidation\",\"150xx\",\"PA\",\"38.09\",\"0\",\"Mar-1998\",\"1\",\"47\",\"\",\"14\",\"0\",\"15323\",\"53%\",\"21\",\"w\",\"13271.86\",\"13271.86\",\"6236.01\",\"6236.01\",\"3828.14\",\"2407.87\",\"0.0\",\"0.0\",\"0.0\",\"Oct-2019\",\"626.3\",\"Nov-2019\",\"Oct-2019\",\"0\",\"\",\"1\",\"Individual\",\"\",\"\",\"\",\"0\",\"0\",\"43351\",\"1\",\"2\",\"1\",\"1\",\"10\",\"28028\",\"67\",\"1\",\"5\",\"7533\",\"53\",\"29170\",\"0\",\"0\",\"2\",\"6\",\"3096\",\"4150\",\"77\",\"0\",\"0\",\"125\",\"230\",\"5\",\"5\",\"2\",\"5\",\"\",\"5\",\"\",\"0\",\"4\",\"12\",\"5\",\"5\",\"5\",\"12\",\"14\",\"9\",\"14\",\"\",\"0\",\"0\",\"2\",\"95\",\"75\",\"0\",\"0\",\"70954\",\"43351\",\"16600\",\"41784\",\"\",\"\",\"\",\"\",\"\",\"\",\"\",\"\",\"\",\"\",\"\",\"N\",\"\",\"\",\"\",\"\",\"\",\"\",\"\",\"\",\"\",\"\",\"\",\"\",\"\",\"\",\"N\",\"\",\"\",\"\",\"\",\"\",\"\"\n",
            "\"\",\"\",\"4000\",\"4000\",\"4000\",\" 36 months\",\" 10.72%\",\"130.43\",\"B\",\"B2\",\"Extrusion assistant \",\"10+ years\",\"MORTGAGE\",\"56000\",\"Verified\",\"Dec-2018\",\"Current\",\"n\",\"\",\"\",\"credit_card\",\"Credit card refinancing\",\"301xx\",\"GA\",\"31.03\",\"0\",\"Sep-2006\",\"0\",\"\",\"\",\"7\",\"0\",\"4518\",\"28.6%\",\"11\",\"w\",\"3014.03\",\"3014.03\",\"1291.21\",\"1291.21\",\"985.97\",\"305.24\",\"0.0\",\"0.0\",\"0.0\",\"Oct-2019\",\"130.43\",\"Nov-2019\",\"Oct-2019\",\"1\",\"\",\"1\",\"Individual\",\"\",\"\",\"\",\"0\",\"136\",\"192983\",\"0\",\"2\",\"0\",\"2\",\"14\",\"66857\",\"\",\"0\",\"3\",\"1608\",\"29\",\"15800\",\"3\",\"0\",\"0\",\"5\",\"27569\",\"7835\",\"36.3\",\"0\",\"0\",\"147\",\"29\",\"22\",\"14\",\"1\",\"22\",\"\",\"17\",\"\",\"0\",\"3\",\"4\",\"3\",\"3\",\"6\",\"4\",\"4\",\"4\",\"7\",\"0\",\"0\",\"0\",\"0\",\"100\",\"0\",\"0\",\"0\",\"221310\",\"71375\",\"12300\",\"77865\",\"\",\"\",\"\",\"\",\"\",\"\",\"\",\"\",\"\",\"\",\"\",\"N\",\"\",\"\",\"\",\"\",\"\",\"\",\"\",\"\",\"\",\"\",\"\",\"\",\"\",\"\",\"N\",\"\",\"\",\"\",\"\",\"\",\"\"\n",
            "\"\",\"\",\"10475\",\"10475\",\"10475\",\" 36 months\",\" 11.31%\",\"344.48\",\"B\",\"B3\",\"Teacher\",\"6 years\",\"RENT\",\"66150\",\"Source Verified\",\"Dec-2018\",\"Current\",\"n\",\"\",\"\",\"debt_consolidation\",\"Debt consolidation\",\"786xx\",\"TX\",\"7.4\",\"0\",\"Jun-1991\",\"0\",\"28\",\"\",\"10\",\"0\",\"10499\",\"40.2%\",\"17\",\"w\",\"7910.58\",\"7910.58\",\"3434.93\",\"3434.93\",\"2564.42\",\"870.51\",\"0.0\",\"0.0\",\"0.0\",\"Oct-2019\",\"344.48\",\"Nov-2019\",\"Oct-2019\",\"0\",\"\",\"1\",\"Individual\",\"\",\"\",\"\",\"0\",\"0\",\"10499\",\"1\",\"0\",\"0\",\"0\",\"84\",\"0\",\"\",\"3\",\"5\",\"3841\",\"40\",\"26100\",\"2\",\"1\",\"5\",\"5\",\"1312\",\"14847\",\"36.8\",\"0\",\"0\",\"88\",\"330\",\"3\",\"3\",\"2\",\"7\",\"\",\"1\",\"28\",\"0\",\"5\",\"8\",\"7\",\"8\",\"2\",\"10\",\"13\",\"8\",\"10\",\"0\",\"0\",\"0\",\"3\",\"88.2\",\"60\",\"0\",\"0\",\"26100\",\"10499\",\"23500\",\"0\",\"\",\"\",\"\",\"\",\"\",\"\",\"\",\"\",\"\",\"\",\"\",\"N\",\"\",\"\",\"\",\"\",\"\",\"\",\"\",\"\",\"\",\"\",\"\",\"\",\"\",\"\",\"N\",\"\",\"\",\"\",\"\",\"\",\"\"\n",
            "\"\",\"\",\"7500\",\"7500\",\"7500\",\" 36 months\",\" 11.31%\",\"246.65\",\"B\",\"B3\",\"Supervisor\",\"7 years\",\"MORTGAGE\",\"40500\",\"Verified\",\"Dec-2018\",\"Late (16-30 days)\",\"n\",\"\",\"\",\"debt_consolidation\",\"Debt consolidation\",\"604xx\",\"IL\",\"31.61\",\"0\",\"Sep-1996\",\"1\",\"\",\"\",\"23\",\"0\",\"14218\",\"16.3%\",\"33\",\"w\",\"6032.58\",\"6032.58\",\"1983.44\",\"1983.44\",\"1467.42\",\"516.02\",\"0.0\",\"0.0\",\"0.0\",\"Sep-2019\",\"246.65\",\"Nov-2019\",\"Oct-2019\",\"0\",\"\",\"1\",\"Individual\",\"\",\"\",\"\",\"0\",\"0\",\"123779\",\"3\",\"2\",\"1\",\"1\",\"12\",\"8096\",\"29\",\"3\",\"6\",\"2972\",\"19\",\"87000\",\"0\",\"0\",\"2\",\"7\",\"5626\",\"21078\",\"23.9\",\"0\",\"0\",\"59\",\"267\",\"1\",\"1\",\"1\",\"6\",\"\",\"6\",\"\",\"0\",\"4\",\"6\",\"7\",\"10\",\"2\",\"20\",\"30\",\"6\",\"23\",\"0\",\"0\",\"0\",\"4\",\"100\",\"0\",\"0\",\"0\",\"221569\",\"22314\",\"27700\",\"28409\",\"\",\"\",\"\",\"\",\"\",\"\",\"\",\"\",\"\",\"\",\"\",\"N\",\"\",\"\",\"\",\"\",\"\",\"\",\"\",\"\",\"\",\"\",\"\",\"\",\"\",\"\",\"N\",\"\",\"\",\"\",\"\",\"\",\"\"\n",
            "\"\",\"\",\"3600\",\"3600\",\"3600\",\" 36 months\",\" 11.80%\",\"119.23\",\"B\",\"B4\",\"Analyst\",\"5 years\",\"MORTGAGE\",\"50000\",\"Source Verified\",\"Dec-2018\",\"Current\",\"n\",\"\",\"\",\"other\",\"Other\",\"427xx\",\"KY\",\"16.11\",\"0\",\"Jan-2002\",\"2\",\"\",\"\",\"10\",\"0\",\"5865\",\"17.4%\",\"17\",\"w\",\"2818.01\",\"2818.01\",\"1087.23\",\"1087.23\",\"781.99\",\"305.24\",\"0.0\",\"0.0\",\"0.0\",\"Oct-2019\",\"119.23\",\"Nov-2019\",\"Oct-2019\",\"0\",\"\",\"1\",\"Individual\",\"\",\"\",\"\",\"0\",\"0\",\"243415\",\"3\",\"3\",\"1\",\"2\",\"3\",\"68184\",\"95\",\"1\",\"3\",\"0\",\"53\",\"33700\",\"2\",\"1\",\"10\",\"6\",\"24342\",\"17300\",\"0\",\"0\",\"0\",\"203\",\"198\",\"4\",\"3\",\"1\",\"18\",\"\",\"3\",\"\",\"1\",\"0\",\"1\",\"4\",\"6\",\"6\",\"6\",\"10\",\"1\",\"10\",\"0\",\"0\",\"0\",\"3\",\"93.8\",\"0\",\"0\",\"0\",\"272629\",\"74049\",\"17300\",\"68929\",\"\",\"\",\"\",\"\",\"\",\"\",\"\",\"\",\"\",\"\",\"\",\"N\",\"\",\"\",\"\",\"\",\"\",\"\",\"\",\"\",\"\",\"\",\"\",\"\",\"\",\"\",\"N\",\"\",\"\",\"\",\"\",\"\",\"\"\n"
          ],
          "name": "stdout"
        }
      ]
    },
    {
      "cell_type": "code",
      "metadata": {
        "id": "lrNIhXCw2Wsn",
        "colab_type": "code",
        "outputId": "64881fab-ad8a-4714-c5e3-732d562d67b7",
        "colab": {
          "base_uri": "https://localhost:8080/",
          "height": 207
        }
      },
      "source": [
        "!tail LoanStats_2018Q4.csv"
      ],
      "execution_count": 5,
      "outputs": [
        {
          "output_type": "stream",
          "text": [
            "\"\",\"\",\"5600\",\"5600\",\"5600\",\" 36 months\",\" 13.56%\",\"190.21\",\"C\",\"C1\",\"\",\"n/a\",\"RENT\",\"15600\",\"Not Verified\",\"Oct-2018\",\"Current\",\"n\",\"\",\"\",\"credit_card\",\"Credit card refinancing\",\"836xx\",\"ID\",\"15.31\",\"0\",\"Aug-2012\",\"0\",\"\",\"97\",\"9\",\"1\",\"5996\",\"34.5%\",\"11\",\"w\",\"3978.52\",\"3978.52\",\"2271.97\",\"2271.97\",\"1621.48\",\"650.49\",\"0.0\",\"0.0\",\"0.0\",\"Oct-2019\",\"190.21\",\"Nov-2019\",\"Oct-2019\",\"0\",\"\",\"1\",\"Individual\",\"\",\"\",\"\",\"0\",\"0\",\"5996\",\"0\",\"0\",\"0\",\"1\",\"20\",\"0\",\"\",\"0\",\"2\",\"3017\",\"35\",\"17400\",\"1\",\"0\",\"0\",\"3\",\"750\",\"4689\",\"45.5\",\"0\",\"0\",\"20\",\"73\",\"13\",\"13\",\"0\",\"13\",\"\",\"20\",\"\",\"0\",\"3\",\"5\",\"4\",\"4\",\"1\",\"9\",\"10\",\"5\",\"9\",\"0\",\"0\",\"0\",\"0\",\"100\",\"25\",\"1\",\"0\",\"17400\",\"5996\",\"8600\",\"0\",\"\",\"\",\"\",\"\",\"\",\"\",\"\",\"\",\"\",\"\",\"\",\"N\",\"\",\"\",\"\",\"\",\"\",\"\",\"\",\"\",\"\",\"\",\"\",\"\",\"\",\"\",\"N\",\"\",\"\",\"\",\"\",\"\",\"\"\n",
            "\"\",\"\",\"23000\",\"23000\",\"23000\",\" 36 months\",\" 15.02%\",\"797.53\",\"C\",\"C3\",\"Tax Consultant\",\"10+ years\",\"MORTGAGE\",\"75000\",\"Source Verified\",\"Oct-2018\",\"Charged Off\",\"n\",\"\",\"\",\"debt_consolidation\",\"Debt consolidation\",\"352xx\",\"AL\",\"20.95\",\"1\",\"Aug-1985\",\"2\",\"22\",\"\",\"12\",\"0\",\"22465\",\"43.6%\",\"28\",\"w\",\"0.00\",\"0.00\",\"1547.08\",\"1547.08\",\"1025.67\",\"521.41\",\"0.0\",\"0.0\",\"0.0\",\"Dec-2018\",\"797.53\",\"\",\"Nov-2018\",\"0\",\"\",\"1\",\"Individual\",\"\",\"\",\"\",\"0\",\"0\",\"259658\",\"4\",\"2\",\"3\",\"3\",\"6\",\"18149\",\"86\",\"4\",\"6\",\"12843\",\"56\",\"51500\",\"2\",\"2\",\"5\",\"11\",\"21638\",\"26321\",\"44.1\",\"0\",\"0\",\"12\",\"397\",\"4\",\"4\",\"6\",\"5\",\"22\",\"4\",\"22\",\"0\",\"4\",\"5\",\"7\",\"14\",\"3\",\"9\",\"19\",\"5\",\"12\",\"0\",\"0\",\"0\",\"7\",\"96.4\",\"14.3\",\"0\",\"0\",\"296500\",\"40614\",\"47100\",\"21000\",\"\",\"\",\"\",\"\",\"\",\"\",\"\",\"\",\"\",\"\",\"\",\"N\",\"\",\"\",\"\",\"\",\"\",\"\",\"\",\"\",\"\",\"\",\"\",\"\",\"\",\"\",\"N\",\"\",\"\",\"\",\"\",\"\",\"\"\n",
            "\"\",\"\",\"10000\",\"10000\",\"10000\",\" 36 months\",\" 15.02%\",\"346.76\",\"C\",\"C3\",\"security guard\",\"5 years\",\"MORTGAGE\",\"38000\",\"Not Verified\",\"Oct-2018\",\"Current\",\"n\",\"\",\"\",\"debt_consolidation\",\"Debt consolidation\",\"443xx\",\"OH\",\"13.16\",\"3\",\"Jul-1982\",\"0\",\"6\",\"\",\"11\",\"0\",\"5634\",\"37.1%\",\"16\",\"w\",\"7149.96\",\"7149.96\",\"4152.78\",\"4152.78\",\"2850.04\",\"1302.74\",\"0.0\",\"0.0\",\"0.0\",\"Oct-2019\",\"346.76\",\"Nov-2019\",\"Oct-2019\",\"0\",\"\",\"1\",\"Individual\",\"\",\"\",\"\",\"0\",\"155\",\"77424\",\"0\",\"1\",\"0\",\"0\",\"34\",\"200\",\"10\",\"1\",\"1\",\"1866\",\"42\",\"15200\",\"2\",\"0\",\"0\",\"2\",\"7039\",\"4537\",\"50.1\",\"0\",\"0\",\"34\",\"434\",\"11\",\"11\",\"3\",\"11\",\"6\",\"17\",\"6\",\"0\",\"3\",\"5\",\"5\",\"6\",\"1\",\"8\",\"11\",\"5\",\"11\",\"0\",\"0\",\"0\",\"1\",\"73.3\",\"40\",\"0\",\"0\",\"91403\",\"9323\",\"9100\",\"2000\",\"\",\"\",\"\",\"\",\"\",\"\",\"\",\"\",\"\",\"\",\"\",\"N\",\"\",\"\",\"\",\"\",\"\",\"\",\"\",\"\",\"\",\"\",\"\",\"\",\"\",\"\",\"N\",\"\",\"\",\"\",\"\",\"\",\"\"\n",
            "\"\",\"\",\"5000\",\"5000\",\"5000\",\" 36 months\",\" 13.56%\",\"169.83\",\"C\",\"C1\",\"Payoff Clerk\",\"10+ years\",\"MORTGAGE\",\"35360\",\"Not Verified\",\"Oct-2018\",\"Current\",\"n\",\"\",\"\",\"debt_consolidation\",\"Debt consolidation\",\"381xx\",\"TN\",\"11.3\",\"1\",\"Jun-2006\",\"0\",\"21\",\"\",\"9\",\"0\",\"2597\",\"27.3%\",\"15\",\"f\",\"3552.25\",\"3552.25\",\"2034.19\",\"2034.19\",\"1447.75\",\"586.44\",\"0.0\",\"0.0\",\"0.0\",\"Oct-2019\",\"169.83\",\"Nov-2019\",\"Oct-2019\",\"0\",\"\",\"1\",\"Individual\",\"\",\"\",\"\",\"0\",\"1413\",\"69785\",\"0\",\"2\",\"0\",\"1\",\"16\",\"2379\",\"40\",\"3\",\"4\",\"1826\",\"32\",\"9500\",\"0\",\"0\",\"1\",\"5\",\"8723\",\"1174\",\"60.9\",\"0\",\"0\",\"147\",\"85\",\"9\",\"9\",\"2\",\"10\",\"21\",\"9\",\"21\",\"0\",\"1\",\"3\",\"2\",\"2\",\"6\",\"6\",\"7\",\"3\",\"9\",\"0\",\"0\",\"0\",\"3\",\"92.9\",\"50\",\"0\",\"0\",\"93908\",\"4976\",\"3000\",\"6028\",\"\",\"\",\"\",\"\",\"\",\"\",\"\",\"\",\"\",\"\",\"\",\"N\",\"\",\"\",\"\",\"\",\"\",\"\",\"\",\"\",\"\",\"\",\"\",\"\",\"\",\"\",\"N\",\"\",\"\",\"\",\"\",\"\",\"\"\n",
            "\"\",\"\",\"10000\",\"10000\",\"9750\",\" 36 months\",\" 11.06%\",\"327.68\",\"B\",\"B3\",\"\",\"n/a\",\"RENT\",\"44400\",\"Source Verified\",\"Oct-2018\",\"Current\",\"n\",\"\",\"\",\"credit_card\",\"Credit card refinancing\",\"980xx\",\"WA\",\"11.78\",\"0\",\"Oct-2008\",\"2\",\"40\",\"\",\"15\",\"0\",\"6269\",\"13.1%\",\"25\",\"f\",\"7026.08\",\"6850.43\",\"3916.8\",\"3818.88\",\"2973.92\",\"942.88\",\"0.0\",\"0.0\",\"0.0\",\"Oct-2019\",\"327.68\",\"Nov-2019\",\"Oct-2019\",\"0\",\"53\",\"1\",\"Individual\",\"\",\"\",\"\",\"0\",\"520\",\"16440\",\"3\",\"1\",\"1\",\"1\",\"2\",\"10171\",\"100\",\"2\",\"5\",\"404\",\"28\",\"47700\",\"0\",\"3\",\"5\",\"6\",\"1265\",\"20037\",\"2.3\",\"0\",\"0\",\"61\",\"119\",\"1\",\"1\",\"0\",\"1\",\"\",\"1\",\"40\",\"1\",\"2\",\"4\",\"6\",\"8\",\"3\",\"14\",\"22\",\"4\",\"15\",\"0\",\"0\",\"0\",\"3\",\"92\",\"0\",\"0\",\"0\",\"57871\",\"16440\",\"20500\",\"10171\",\"\",\"\",\"\",\"\",\"\",\"\",\"\",\"\",\"\",\"\",\"\",\"N\",\"\",\"\",\"\",\"\",\"\",\"\",\"\",\"\",\"\",\"\",\"\",\"\",\"\",\"\",\"N\",\"\",\"\",\"\",\"\",\"\",\"\"\n",
            "\"\",\"\",\"10000\",\"10000\",\"10000\",\" 36 months\",\" 16.91%\",\"356.08\",\"C\",\"C5\",\"Key Accounts Manager\",\"2 years\",\"RENT\",\"80000\",\"Not Verified\",\"Oct-2018\",\"Current\",\"n\",\"\",\"\",\"other\",\"Other\",\"021xx\",\"MA\",\"17.72\",\"1\",\"Sep-2006\",\"0\",\"14\",\"\",\"17\",\"0\",\"1942\",\"30.8%\",\"31\",\"w\",\"7208.22\",\"7208.22\",\"4263.57\",\"4263.57\",\"2791.78\",\"1471.79\",\"0.0\",\"0.0\",\"0.0\",\"Oct-2019\",\"356.08\",\"Nov-2019\",\"Oct-2019\",\"0\",\"25\",\"1\",\"Individual\",\"\",\"\",\"\",\"0\",\"0\",\"59194\",\"0\",\"15\",\"1\",\"1\",\"12\",\"57252\",\"85\",\"0\",\"0\",\"1942\",\"80\",\"6300\",\"0\",\"5\",\"0\",\"1\",\"3482\",\"2058\",\"48.5\",\"0\",\"0\",\"144\",\"142\",\"40\",\"12\",\"0\",\"131\",\"30\",\"\",\"30\",\"3\",\"1\",\"1\",\"1\",\"5\",\"22\",\"2\",\"9\",\"1\",\"17\",\"0\",\"0\",\"0\",\"1\",\"74.2\",\"0\",\"0\",\"0\",\"73669\",\"59194\",\"4000\",\"67369\",\"\",\"\",\"\",\"\",\"\",\"\",\"\",\"\",\"\",\"\",\"\",\"N\",\"\",\"\",\"\",\"\",\"\",\"\",\"\",\"\",\"\",\"\",\"\",\"\",\"\",\"\",\"N\",\"\",\"\",\"\",\"\",\"\",\"\"\n",
            "\n",
            "\n",
            "Total amount funded in policy code 1: 2050909275\n",
            "Total amount funded in policy code 2: 820109297\n"
          ],
          "name": "stdout"
        }
      ]
    },
    {
      "cell_type": "markdown",
      "metadata": {
        "id": "2X28NN7p3VWY",
        "colab_type": "text"
      },
      "source": [
        "Load Lending Club Data"
      ]
    },
    {
      "cell_type": "code",
      "metadata": {
        "id": "l_aL4iih2WvK",
        "colab_type": "code",
        "outputId": "e59c256a-d482-44cd-a423-5fdeb923f696",
        "colab": {
          "base_uri": "https://localhost:8080/",
          "height": 338
        }
      },
      "source": [
        "# Read in the dataset and skip the unneccesary rows and footers\n",
        "import pandas as pd\n",
        "df = pd.read_csv(\"LoanStats_2018Q4.csv\", skiprows=1, skipfooter=2, engine='python')\n",
        "df.head()"
      ],
      "execution_count": 6,
      "outputs": [
        {
          "output_type": "execute_result",
          "data": {
            "text/html": [
              "<div>\n",
              "<style scoped>\n",
              "    .dataframe tbody tr th:only-of-type {\n",
              "        vertical-align: middle;\n",
              "    }\n",
              "\n",
              "    .dataframe tbody tr th {\n",
              "        vertical-align: top;\n",
              "    }\n",
              "\n",
              "    .dataframe thead th {\n",
              "        text-align: right;\n",
              "    }\n",
              "</style>\n",
              "<table border=\"1\" class=\"dataframe\">\n",
              "  <thead>\n",
              "    <tr style=\"text-align: right;\">\n",
              "      <th></th>\n",
              "      <th>id</th>\n",
              "      <th>member_id</th>\n",
              "      <th>loan_amnt</th>\n",
              "      <th>funded_amnt</th>\n",
              "      <th>funded_amnt_inv</th>\n",
              "      <th>term</th>\n",
              "      <th>int_rate</th>\n",
              "      <th>installment</th>\n",
              "      <th>grade</th>\n",
              "      <th>sub_grade</th>\n",
              "      <th>emp_title</th>\n",
              "      <th>emp_length</th>\n",
              "      <th>home_ownership</th>\n",
              "      <th>annual_inc</th>\n",
              "      <th>verification_status</th>\n",
              "      <th>issue_d</th>\n",
              "      <th>loan_status</th>\n",
              "      <th>pymnt_plan</th>\n",
              "      <th>url</th>\n",
              "      <th>desc</th>\n",
              "      <th>purpose</th>\n",
              "      <th>title</th>\n",
              "      <th>zip_code</th>\n",
              "      <th>addr_state</th>\n",
              "      <th>dti</th>\n",
              "      <th>delinq_2yrs</th>\n",
              "      <th>earliest_cr_line</th>\n",
              "      <th>inq_last_6mths</th>\n",
              "      <th>mths_since_last_delinq</th>\n",
              "      <th>mths_since_last_record</th>\n",
              "      <th>open_acc</th>\n",
              "      <th>pub_rec</th>\n",
              "      <th>revol_bal</th>\n",
              "      <th>revol_util</th>\n",
              "      <th>total_acc</th>\n",
              "      <th>initial_list_status</th>\n",
              "      <th>out_prncp</th>\n",
              "      <th>out_prncp_inv</th>\n",
              "      <th>total_pymnt</th>\n",
              "      <th>total_pymnt_inv</th>\n",
              "      <th>...</th>\n",
              "      <th>percent_bc_gt_75</th>\n",
              "      <th>pub_rec_bankruptcies</th>\n",
              "      <th>tax_liens</th>\n",
              "      <th>tot_hi_cred_lim</th>\n",
              "      <th>total_bal_ex_mort</th>\n",
              "      <th>total_bc_limit</th>\n",
              "      <th>total_il_high_credit_limit</th>\n",
              "      <th>revol_bal_joint</th>\n",
              "      <th>sec_app_earliest_cr_line</th>\n",
              "      <th>sec_app_inq_last_6mths</th>\n",
              "      <th>sec_app_mort_acc</th>\n",
              "      <th>sec_app_open_acc</th>\n",
              "      <th>sec_app_revol_util</th>\n",
              "      <th>sec_app_open_act_il</th>\n",
              "      <th>sec_app_num_rev_accts</th>\n",
              "      <th>sec_app_chargeoff_within_12_mths</th>\n",
              "      <th>sec_app_collections_12_mths_ex_med</th>\n",
              "      <th>sec_app_mths_since_last_major_derog</th>\n",
              "      <th>hardship_flag</th>\n",
              "      <th>hardship_type</th>\n",
              "      <th>hardship_reason</th>\n",
              "      <th>hardship_status</th>\n",
              "      <th>deferral_term</th>\n",
              "      <th>hardship_amount</th>\n",
              "      <th>hardship_start_date</th>\n",
              "      <th>hardship_end_date</th>\n",
              "      <th>payment_plan_start_date</th>\n",
              "      <th>hardship_length</th>\n",
              "      <th>hardship_dpd</th>\n",
              "      <th>hardship_loan_status</th>\n",
              "      <th>orig_projected_additional_accrued_interest</th>\n",
              "      <th>hardship_payoff_balance_amount</th>\n",
              "      <th>hardship_last_payment_amount</th>\n",
              "      <th>debt_settlement_flag</th>\n",
              "      <th>debt_settlement_flag_date</th>\n",
              "      <th>settlement_status</th>\n",
              "      <th>settlement_date</th>\n",
              "      <th>settlement_amount</th>\n",
              "      <th>settlement_percentage</th>\n",
              "      <th>settlement_term</th>\n",
              "    </tr>\n",
              "  </thead>\n",
              "  <tbody>\n",
              "    <tr>\n",
              "      <th>0</th>\n",
              "      <td>NaN</td>\n",
              "      <td>NaN</td>\n",
              "      <td>35000</td>\n",
              "      <td>35000</td>\n",
              "      <td>35000.0</td>\n",
              "      <td>36 months</td>\n",
              "      <td>14.47%</td>\n",
              "      <td>1204.23</td>\n",
              "      <td>C</td>\n",
              "      <td>C2</td>\n",
              "      <td>Staff Physician</td>\n",
              "      <td>8 years</td>\n",
              "      <td>MORTGAGE</td>\n",
              "      <td>360000.0</td>\n",
              "      <td>Verified</td>\n",
              "      <td>Dec-2018</td>\n",
              "      <td>Fully Paid</td>\n",
              "      <td>n</td>\n",
              "      <td>NaN</td>\n",
              "      <td>NaN</td>\n",
              "      <td>credit_card</td>\n",
              "      <td>Credit card refinancing</td>\n",
              "      <td>336xx</td>\n",
              "      <td>FL</td>\n",
              "      <td>19.90</td>\n",
              "      <td>0</td>\n",
              "      <td>Apr-1995</td>\n",
              "      <td>1</td>\n",
              "      <td>NaN</td>\n",
              "      <td>NaN</td>\n",
              "      <td>24</td>\n",
              "      <td>0</td>\n",
              "      <td>57259</td>\n",
              "      <td>43.2%</td>\n",
              "      <td>51</td>\n",
              "      <td>w</td>\n",
              "      <td>0.00</td>\n",
              "      <td>0.00</td>\n",
              "      <td>38187.046837</td>\n",
              "      <td>38187.05</td>\n",
              "      <td>...</td>\n",
              "      <td>30.8</td>\n",
              "      <td>0</td>\n",
              "      <td>0</td>\n",
              "      <td>1222051</td>\n",
              "      <td>169286</td>\n",
              "      <td>124600</td>\n",
              "      <td>258401</td>\n",
              "      <td>NaN</td>\n",
              "      <td>NaN</td>\n",
              "      <td>NaN</td>\n",
              "      <td>NaN</td>\n",
              "      <td>NaN</td>\n",
              "      <td>NaN</td>\n",
              "      <td>NaN</td>\n",
              "      <td>NaN</td>\n",
              "      <td>NaN</td>\n",
              "      <td>NaN</td>\n",
              "      <td>NaN</td>\n",
              "      <td>N</td>\n",
              "      <td>NaN</td>\n",
              "      <td>NaN</td>\n",
              "      <td>NaN</td>\n",
              "      <td>NaN</td>\n",
              "      <td>NaN</td>\n",
              "      <td>NaN</td>\n",
              "      <td>NaN</td>\n",
              "      <td>NaN</td>\n",
              "      <td>NaN</td>\n",
              "      <td>NaN</td>\n",
              "      <td>NaN</td>\n",
              "      <td>NaN</td>\n",
              "      <td>NaN</td>\n",
              "      <td>NaN</td>\n",
              "      <td>N</td>\n",
              "      <td>NaN</td>\n",
              "      <td>NaN</td>\n",
              "      <td>NaN</td>\n",
              "      <td>NaN</td>\n",
              "      <td>NaN</td>\n",
              "      <td>NaN</td>\n",
              "    </tr>\n",
              "    <tr>\n",
              "      <th>1</th>\n",
              "      <td>NaN</td>\n",
              "      <td>NaN</td>\n",
              "      <td>5000</td>\n",
              "      <td>5000</td>\n",
              "      <td>5000.0</td>\n",
              "      <td>36 months</td>\n",
              "      <td>22.35%</td>\n",
              "      <td>191.86</td>\n",
              "      <td>D</td>\n",
              "      <td>D5</td>\n",
              "      <td>Director of Sales</td>\n",
              "      <td>10+ years</td>\n",
              "      <td>MORTGAGE</td>\n",
              "      <td>72000.0</td>\n",
              "      <td>Source Verified</td>\n",
              "      <td>Dec-2018</td>\n",
              "      <td>Fully Paid</td>\n",
              "      <td>n</td>\n",
              "      <td>NaN</td>\n",
              "      <td>NaN</td>\n",
              "      <td>debt_consolidation</td>\n",
              "      <td>Debt consolidation</td>\n",
              "      <td>333xx</td>\n",
              "      <td>FL</td>\n",
              "      <td>20.12</td>\n",
              "      <td>0</td>\n",
              "      <td>Mar-2010</td>\n",
              "      <td>0</td>\n",
              "      <td>NaN</td>\n",
              "      <td>NaN</td>\n",
              "      <td>13</td>\n",
              "      <td>0</td>\n",
              "      <td>11720</td>\n",
              "      <td>47.1%</td>\n",
              "      <td>26</td>\n",
              "      <td>f</td>\n",
              "      <td>0.00</td>\n",
              "      <td>0.00</td>\n",
              "      <td>5615.977674</td>\n",
              "      <td>5615.98</td>\n",
              "      <td>...</td>\n",
              "      <td>50.0</td>\n",
              "      <td>0</td>\n",
              "      <td>0</td>\n",
              "      <td>218686</td>\n",
              "      <td>34418</td>\n",
              "      <td>18200</td>\n",
              "      <td>37786</td>\n",
              "      <td>NaN</td>\n",
              "      <td>NaN</td>\n",
              "      <td>NaN</td>\n",
              "      <td>NaN</td>\n",
              "      <td>NaN</td>\n",
              "      <td>NaN</td>\n",
              "      <td>NaN</td>\n",
              "      <td>NaN</td>\n",
              "      <td>NaN</td>\n",
              "      <td>NaN</td>\n",
              "      <td>NaN</td>\n",
              "      <td>N</td>\n",
              "      <td>NaN</td>\n",
              "      <td>NaN</td>\n",
              "      <td>NaN</td>\n",
              "      <td>NaN</td>\n",
              "      <td>NaN</td>\n",
              "      <td>NaN</td>\n",
              "      <td>NaN</td>\n",
              "      <td>NaN</td>\n",
              "      <td>NaN</td>\n",
              "      <td>NaN</td>\n",
              "      <td>NaN</td>\n",
              "      <td>NaN</td>\n",
              "      <td>NaN</td>\n",
              "      <td>NaN</td>\n",
              "      <td>N</td>\n",
              "      <td>NaN</td>\n",
              "      <td>NaN</td>\n",
              "      <td>NaN</td>\n",
              "      <td>NaN</td>\n",
              "      <td>NaN</td>\n",
              "      <td>NaN</td>\n",
              "    </tr>\n",
              "    <tr>\n",
              "      <th>2</th>\n",
              "      <td>NaN</td>\n",
              "      <td>NaN</td>\n",
              "      <td>10000</td>\n",
              "      <td>10000</td>\n",
              "      <td>10000.0</td>\n",
              "      <td>60 months</td>\n",
              "      <td>23.40%</td>\n",
              "      <td>284.21</td>\n",
              "      <td>E</td>\n",
              "      <td>E1</td>\n",
              "      <td>NaN</td>\n",
              "      <td>&lt; 1 year</td>\n",
              "      <td>RENT</td>\n",
              "      <td>55000.0</td>\n",
              "      <td>Source Verified</td>\n",
              "      <td>Dec-2018</td>\n",
              "      <td>Current</td>\n",
              "      <td>n</td>\n",
              "      <td>NaN</td>\n",
              "      <td>NaN</td>\n",
              "      <td>debt_consolidation</td>\n",
              "      <td>Debt consolidation</td>\n",
              "      <td>902xx</td>\n",
              "      <td>CA</td>\n",
              "      <td>13.51</td>\n",
              "      <td>0</td>\n",
              "      <td>Apr-2007</td>\n",
              "      <td>0</td>\n",
              "      <td>44.0</td>\n",
              "      <td>88.0</td>\n",
              "      <td>9</td>\n",
              "      <td>1</td>\n",
              "      <td>11859</td>\n",
              "      <td>53.9%</td>\n",
              "      <td>11</td>\n",
              "      <td>w</td>\n",
              "      <td>9025.41</td>\n",
              "      <td>9025.41</td>\n",
              "      <td>2822.600000</td>\n",
              "      <td>2822.60</td>\n",
              "      <td>...</td>\n",
              "      <td>100.0</td>\n",
              "      <td>1</td>\n",
              "      <td>0</td>\n",
              "      <td>34386</td>\n",
              "      <td>21235</td>\n",
              "      <td>10500</td>\n",
              "      <td>12386</td>\n",
              "      <td>NaN</td>\n",
              "      <td>NaN</td>\n",
              "      <td>NaN</td>\n",
              "      <td>NaN</td>\n",
              "      <td>NaN</td>\n",
              "      <td>NaN</td>\n",
              "      <td>NaN</td>\n",
              "      <td>NaN</td>\n",
              "      <td>NaN</td>\n",
              "      <td>NaN</td>\n",
              "      <td>NaN</td>\n",
              "      <td>N</td>\n",
              "      <td>NaN</td>\n",
              "      <td>NaN</td>\n",
              "      <td>NaN</td>\n",
              "      <td>NaN</td>\n",
              "      <td>NaN</td>\n",
              "      <td>NaN</td>\n",
              "      <td>NaN</td>\n",
              "      <td>NaN</td>\n",
              "      <td>NaN</td>\n",
              "      <td>NaN</td>\n",
              "      <td>NaN</td>\n",
              "      <td>NaN</td>\n",
              "      <td>NaN</td>\n",
              "      <td>NaN</td>\n",
              "      <td>N</td>\n",
              "      <td>NaN</td>\n",
              "      <td>NaN</td>\n",
              "      <td>NaN</td>\n",
              "      <td>NaN</td>\n",
              "      <td>NaN</td>\n",
              "      <td>NaN</td>\n",
              "    </tr>\n",
              "    <tr>\n",
              "      <th>3</th>\n",
              "      <td>NaN</td>\n",
              "      <td>NaN</td>\n",
              "      <td>17100</td>\n",
              "      <td>17100</td>\n",
              "      <td>17100.0</td>\n",
              "      <td>36 months</td>\n",
              "      <td>18.94%</td>\n",
              "      <td>626.30</td>\n",
              "      <td>D</td>\n",
              "      <td>D2</td>\n",
              "      <td>Receptionist</td>\n",
              "      <td>10+ years</td>\n",
              "      <td>RENT</td>\n",
              "      <td>38000.0</td>\n",
              "      <td>Verified</td>\n",
              "      <td>Dec-2018</td>\n",
              "      <td>Current</td>\n",
              "      <td>n</td>\n",
              "      <td>NaN</td>\n",
              "      <td>NaN</td>\n",
              "      <td>debt_consolidation</td>\n",
              "      <td>Debt consolidation</td>\n",
              "      <td>150xx</td>\n",
              "      <td>PA</td>\n",
              "      <td>38.09</td>\n",
              "      <td>0</td>\n",
              "      <td>Mar-1998</td>\n",
              "      <td>1</td>\n",
              "      <td>47.0</td>\n",
              "      <td>NaN</td>\n",
              "      <td>14</td>\n",
              "      <td>0</td>\n",
              "      <td>15323</td>\n",
              "      <td>53%</td>\n",
              "      <td>21</td>\n",
              "      <td>w</td>\n",
              "      <td>13271.86</td>\n",
              "      <td>13271.86</td>\n",
              "      <td>6236.010000</td>\n",
              "      <td>6236.01</td>\n",
              "      <td>...</td>\n",
              "      <td>75.0</td>\n",
              "      <td>0</td>\n",
              "      <td>0</td>\n",
              "      <td>70954</td>\n",
              "      <td>43351</td>\n",
              "      <td>16600</td>\n",
              "      <td>41784</td>\n",
              "      <td>NaN</td>\n",
              "      <td>NaN</td>\n",
              "      <td>NaN</td>\n",
              "      <td>NaN</td>\n",
              "      <td>NaN</td>\n",
              "      <td>NaN</td>\n",
              "      <td>NaN</td>\n",
              "      <td>NaN</td>\n",
              "      <td>NaN</td>\n",
              "      <td>NaN</td>\n",
              "      <td>NaN</td>\n",
              "      <td>N</td>\n",
              "      <td>NaN</td>\n",
              "      <td>NaN</td>\n",
              "      <td>NaN</td>\n",
              "      <td>NaN</td>\n",
              "      <td>NaN</td>\n",
              "      <td>NaN</td>\n",
              "      <td>NaN</td>\n",
              "      <td>NaN</td>\n",
              "      <td>NaN</td>\n",
              "      <td>NaN</td>\n",
              "      <td>NaN</td>\n",
              "      <td>NaN</td>\n",
              "      <td>NaN</td>\n",
              "      <td>NaN</td>\n",
              "      <td>N</td>\n",
              "      <td>NaN</td>\n",
              "      <td>NaN</td>\n",
              "      <td>NaN</td>\n",
              "      <td>NaN</td>\n",
              "      <td>NaN</td>\n",
              "      <td>NaN</td>\n",
              "    </tr>\n",
              "    <tr>\n",
              "      <th>4</th>\n",
              "      <td>NaN</td>\n",
              "      <td>NaN</td>\n",
              "      <td>4000</td>\n",
              "      <td>4000</td>\n",
              "      <td>4000.0</td>\n",
              "      <td>36 months</td>\n",
              "      <td>10.72%</td>\n",
              "      <td>130.43</td>\n",
              "      <td>B</td>\n",
              "      <td>B2</td>\n",
              "      <td>Extrusion assistant</td>\n",
              "      <td>10+ years</td>\n",
              "      <td>MORTGAGE</td>\n",
              "      <td>56000.0</td>\n",
              "      <td>Verified</td>\n",
              "      <td>Dec-2018</td>\n",
              "      <td>Current</td>\n",
              "      <td>n</td>\n",
              "      <td>NaN</td>\n",
              "      <td>NaN</td>\n",
              "      <td>credit_card</td>\n",
              "      <td>Credit card refinancing</td>\n",
              "      <td>301xx</td>\n",
              "      <td>GA</td>\n",
              "      <td>31.03</td>\n",
              "      <td>0</td>\n",
              "      <td>Sep-2006</td>\n",
              "      <td>0</td>\n",
              "      <td>NaN</td>\n",
              "      <td>NaN</td>\n",
              "      <td>7</td>\n",
              "      <td>0</td>\n",
              "      <td>4518</td>\n",
              "      <td>28.6%</td>\n",
              "      <td>11</td>\n",
              "      <td>w</td>\n",
              "      <td>3014.03</td>\n",
              "      <td>3014.03</td>\n",
              "      <td>1291.210000</td>\n",
              "      <td>1291.21</td>\n",
              "      <td>...</td>\n",
              "      <td>0.0</td>\n",
              "      <td>0</td>\n",
              "      <td>0</td>\n",
              "      <td>221310</td>\n",
              "      <td>71375</td>\n",
              "      <td>12300</td>\n",
              "      <td>77865</td>\n",
              "      <td>NaN</td>\n",
              "      <td>NaN</td>\n",
              "      <td>NaN</td>\n",
              "      <td>NaN</td>\n",
              "      <td>NaN</td>\n",
              "      <td>NaN</td>\n",
              "      <td>NaN</td>\n",
              "      <td>NaN</td>\n",
              "      <td>NaN</td>\n",
              "      <td>NaN</td>\n",
              "      <td>NaN</td>\n",
              "      <td>N</td>\n",
              "      <td>NaN</td>\n",
              "      <td>NaN</td>\n",
              "      <td>NaN</td>\n",
              "      <td>NaN</td>\n",
              "      <td>NaN</td>\n",
              "      <td>NaN</td>\n",
              "      <td>NaN</td>\n",
              "      <td>NaN</td>\n",
              "      <td>NaN</td>\n",
              "      <td>NaN</td>\n",
              "      <td>NaN</td>\n",
              "      <td>NaN</td>\n",
              "      <td>NaN</td>\n",
              "      <td>NaN</td>\n",
              "      <td>N</td>\n",
              "      <td>NaN</td>\n",
              "      <td>NaN</td>\n",
              "      <td>NaN</td>\n",
              "      <td>NaN</td>\n",
              "      <td>NaN</td>\n",
              "      <td>NaN</td>\n",
              "    </tr>\n",
              "  </tbody>\n",
              "</table>\n",
              "<p>5 rows × 144 columns</p>\n",
              "</div>"
            ],
            "text/plain": [
              "   id  member_id  ...  settlement_percentage  settlement_term\n",
              "0 NaN        NaN  ...                    NaN              NaN\n",
              "1 NaN        NaN  ...                    NaN              NaN\n",
              "2 NaN        NaN  ...                    NaN              NaN\n",
              "3 NaN        NaN  ...                    NaN              NaN\n",
              "4 NaN        NaN  ...                    NaN              NaN\n",
              "\n",
              "[5 rows x 144 columns]"
            ]
          },
          "metadata": {
            "tags": []
          },
          "execution_count": 6
        }
      ]
    },
    {
      "cell_type": "code",
      "metadata": {
        "id": "JIxbIXqq2Wx1",
        "colab_type": "code",
        "outputId": "83a6325a-6ed6-4b0a-8d01-737ba0105592",
        "colab": {
          "base_uri": "https://localhost:8080/",
          "height": 187
        }
      },
      "source": [
        "# Look at shape and columns of file\n",
        "print(df.shape)\n",
        "df.columns"
      ],
      "execution_count": 7,
      "outputs": [
        {
          "output_type": "stream",
          "text": [
            "(128412, 144)\n"
          ],
          "name": "stdout"
        },
        {
          "output_type": "execute_result",
          "data": {
            "text/plain": [
              "Index(['id', 'member_id', 'loan_amnt', 'funded_amnt', 'funded_amnt_inv',\n",
              "       'term', 'int_rate', 'installment', 'grade', 'sub_grade',\n",
              "       ...\n",
              "       'orig_projected_additional_accrued_interest',\n",
              "       'hardship_payoff_balance_amount', 'hardship_last_payment_amount',\n",
              "       'debt_settlement_flag', 'debt_settlement_flag_date',\n",
              "       'settlement_status', 'settlement_date', 'settlement_amount',\n",
              "       'settlement_percentage', 'settlement_term'],\n",
              "      dtype='object', length=144)"
            ]
          },
          "metadata": {
            "tags": []
          },
          "execution_count": 7
        }
      ]
    },
    {
      "cell_type": "code",
      "metadata": {
        "id": "Ko-4KUPy2W2W",
        "colab_type": "code",
        "outputId": "f41c513f-7335-4e98-f161-c05ef4ee4eab",
        "colab": {
          "base_uri": "https://localhost:8080/",
          "height": 221
        }
      },
      "source": [
        "# How much missing data?\n",
        "df.isnull().sum().sort_values(ascending=False)"
      ],
      "execution_count": 8,
      "outputs": [
        {
          "output_type": "execute_result",
          "data": {
            "text/plain": [
              "id                                            128412\n",
              "desc                                          128412\n",
              "member_id                                     128412\n",
              "url                                           128412\n",
              "orig_projected_additional_accrued_interest    128283\n",
              "                                               ...  \n",
              "inq_last_12m                                       0\n",
              "acc_open_past_24mths                               0\n",
              "chargeoff_within_12_mths                           0\n",
              "delinq_amnt                                        0\n",
              "inq_fi                                             0\n",
              "Length: 144, dtype: int64"
            ]
          },
          "metadata": {
            "tags": []
          },
          "execution_count": 8
        }
      ]
    },
    {
      "cell_type": "code",
      "metadata": {
        "id": "GqenO5uA2W9b",
        "colab_type": "code",
        "outputId": "91e7740a-f8f4-4c07-c9dc-ff66af3c8d33",
        "colab": {
          "base_uri": "https://localhost:8080/",
          "height": 1000
        }
      },
      "source": [
        "# Fix the options so we can see more\n",
        "pd.options.display.max_rows = 999\n",
        "pd.options.display.max_columns = 100\n",
        "\n",
        "df.isnull().sum().sort_values(ascending=False)"
      ],
      "execution_count": 9,
      "outputs": [
        {
          "output_type": "execute_result",
          "data": {
            "text/plain": [
              "id                                            128412\n",
              "desc                                          128412\n",
              "member_id                                     128412\n",
              "url                                           128412\n",
              "orig_projected_additional_accrued_interest    128283\n",
              "hardship_type                                 128276\n",
              "hardship_last_payment_amount                  128276\n",
              "hardship_payoff_balance_amount                128276\n",
              "hardship_reason                               128276\n",
              "hardship_loan_status                          128276\n",
              "hardship_dpd                                  128276\n",
              "hardship_length                               128276\n",
              "payment_plan_start_date                       128276\n",
              "hardship_end_date                             128276\n",
              "hardship_start_date                           128276\n",
              "hardship_amount                               128276\n",
              "deferral_term                                 128276\n",
              "hardship_status                               128276\n",
              "settlement_percentage                         128165\n",
              "settlement_term                               128165\n",
              "settlement_status                             128165\n",
              "settlement_amount                             128165\n",
              "settlement_date                               128165\n",
              "debt_settlement_flag_date                     128165\n",
              "sec_app_mths_since_last_major_derog           123258\n",
              "verification_status_joint                     113564\n",
              "mths_since_last_record                        112962\n",
              "sec_app_revol_util                            111888\n",
              "sec_app_num_rev_accts                         111630\n",
              "sec_app_chargeoff_within_12_mths              111630\n",
              "sec_app_collections_12_mths_ex_med            111630\n",
              "dti_joint                                     111630\n",
              "annual_inc_joint                              111630\n",
              "sec_app_open_act_il                           111630\n",
              "revol_bal_joint                               111630\n",
              "sec_app_earliest_cr_line                      111630\n",
              "sec_app_inq_last_6mths                        111630\n",
              "sec_app_mort_acc                              111630\n",
              "sec_app_open_acc                              111630\n",
              "mths_since_recent_bc_dlq                      103243\n",
              "mths_since_last_major_derog                    99232\n",
              "mths_since_recent_revol_delinq                 91630\n",
              "mths_since_last_delinq                         72196\n",
              "next_pymnt_d                                   21420\n",
              "emp_title                                      20947\n",
              "il_util                                        20274\n",
              "mths_since_recent_inq                          16047\n",
              "emp_length                                     11704\n",
              "mo_sin_old_il_acct                              4478\n",
              "mths_since_rcnt_il                              4478\n",
              "num_tl_120dpd_2m                                2859\n",
              "bc_util                                         1754\n",
              "percent_bc_gt_75                                1692\n",
              "bc_open_to_buy                                  1691\n",
              "mths_since_recent_bc                            1591\n",
              "dti                                              237\n",
              "last_pymnt_d                                     159\n",
              "revol_util                                       156\n",
              "all_util                                          37\n",
              "avg_cur_bal                                       13\n",
              "last_credit_pull_d                                 1\n",
              "int_rate                                           0\n",
              "initial_list_status                                0\n",
              "out_prncp                                          0\n",
              "out_prncp_inv                                      0\n",
              "total_pymnt                                        0\n",
              "total_pymnt_inv                                    0\n",
              "total_rec_prncp                                    0\n",
              "purpose                                            0\n",
              "total_rec_int                                      0\n",
              "total_acc                                          0\n",
              "funded_amnt_inv                                    0\n",
              "funded_amnt                                        0\n",
              "total_rec_late_fee                                 0\n",
              "recoveries                                         0\n",
              "loan_amnt                                          0\n",
              "collection_recovery_fee                            0\n",
              "term                                               0\n",
              "revol_bal                                          0\n",
              "installment                                        0\n",
              "pymnt_plan                                         0\n",
              "loan_status                                        0\n",
              "title                                              0\n",
              "zip_code                                           0\n",
              "addr_state                                         0\n",
              "issue_d                                            0\n",
              "delinq_2yrs                                        0\n",
              "earliest_cr_line                                   0\n",
              "verification_status                                0\n",
              "annual_inc                                         0\n",
              "inq_last_6mths                                     0\n",
              "home_ownership                                     0\n",
              "sub_grade                                          0\n",
              "grade                                              0\n",
              "open_acc                                           0\n",
              "pub_rec                                            0\n",
              "debt_settlement_flag                               0\n",
              "open_il_12m                                        0\n",
              "last_pymnt_amnt                                    0\n",
              "num_sats                                           0\n",
              "num_accts_ever_120_pd                              0\n",
              "num_actv_bc_tl                                     0\n",
              "num_actv_rev_tl                                    0\n",
              "num_bc_sats                                        0\n",
              "num_bc_tl                                          0\n",
              "num_il_tl                                          0\n",
              "num_op_rev_tl                                      0\n",
              "num_rev_accts                                      0\n",
              "num_rev_tl_bal_gt_0                                0\n",
              "num_tl_30dpd                                       0\n",
              "collections_12_mths_ex_med                         0\n",
              "num_tl_90g_dpd_24m                                 0\n",
              "num_tl_op_past_12m                                 0\n",
              "pct_tl_nvr_dlq                                     0\n",
              "pub_rec_bankruptcies                               0\n",
              "tax_liens                                          0\n",
              "tot_hi_cred_lim                                    0\n",
              "total_bal_ex_mort                                  0\n",
              "total_bc_limit                                     0\n",
              "total_il_high_credit_limit                         0\n",
              "mort_acc                                           0\n",
              "mo_sin_rcnt_tl                                     0\n",
              "mo_sin_rcnt_rev_tl_op                              0\n",
              "mo_sin_old_rev_tl_op                               0\n",
              "policy_code                                        0\n",
              "application_type                                   0\n",
              "acc_now_delinq                                     0\n",
              "tot_coll_amt                                       0\n",
              "tot_cur_bal                                        0\n",
              "open_acc_6m                                        0\n",
              "open_act_il                                        0\n",
              "hardship_flag                                      0\n",
              "open_il_24m                                        0\n",
              "total_bal_il                                       0\n",
              "open_rv_12m                                        0\n",
              "open_rv_24m                                        0\n",
              "max_bal_bc                                         0\n",
              "total_rev_hi_lim                                   0\n",
              "total_cu_tl                                        0\n",
              "inq_last_12m                                       0\n",
              "acc_open_past_24mths                               0\n",
              "chargeoff_within_12_mths                           0\n",
              "delinq_amnt                                        0\n",
              "inq_fi                                             0\n",
              "dtype: int64"
            ]
          },
          "metadata": {
            "tags": []
          },
          "execution_count": 9
        }
      ]
    },
    {
      "cell_type": "markdown",
      "metadata": {
        "id": "6HqVF4Sn4vi7",
        "colab_type": "text"
      },
      "source": [
        "Work with Strings"
      ]
    },
    {
      "cell_type": "code",
      "metadata": {
        "id": "_fbZ4VsP2XHb",
        "colab_type": "code",
        "outputId": "23c02b90-d4e0-4948-b9c4-92a98b9f4f1c",
        "colab": {
          "base_uri": "https://localhost:8080/",
          "height": 119
        }
      },
      "source": [
        "# Identify a column that shouldn't be a string\n",
        "df['int_rate'].head()"
      ],
      "execution_count": 10,
      "outputs": [
        {
          "output_type": "execute_result",
          "data": {
            "text/plain": [
              "0     14.47%\n",
              "1     22.35%\n",
              "2     23.40%\n",
              "3     18.94%\n",
              "4     10.72%\n",
              "Name: int_rate, dtype: object"
            ]
          },
          "metadata": {
            "tags": []
          },
          "execution_count": 10
        }
      ]
    },
    {
      "cell_type": "code",
      "metadata": {
        "id": "3lvVkAJ12XKL",
        "colab_type": "code",
        "outputId": "6a912991-5ddb-4bd8-81ca-dffddd6429a3",
        "colab": {
          "base_uri": "https://localhost:8080/",
          "height": 34
        }
      },
      "source": [
        "# What is the data type of this column?\n",
        "df['int_rate'].dtype"
      ],
      "execution_count": 11,
      "outputs": [
        {
          "output_type": "execute_result",
          "data": {
            "text/plain": [
              "dtype('O')"
            ]
          },
          "metadata": {
            "tags": []
          },
          "execution_count": 11
        }
      ]
    },
    {
      "cell_type": "code",
      "metadata": {
        "id": "UiZa1C5m2XMc",
        "colab_type": "code",
        "outputId": "ed3e0c65-e22c-4b4f-d561-bb33852ea474",
        "colab": {
          "base_uri": "https://localhost:8080/",
          "height": 51
        }
      },
      "source": [
        "# What is the value of the first cell?\n",
        "# Print int_rate0 in two different ways to compare the output and true value\n",
        "int_rate0 = df.loc[0, 'int_rate']\n",
        "print(int_rate0)\n",
        "int_rate0"
      ],
      "execution_count": 12,
      "outputs": [
        {
          "output_type": "stream",
          "text": [
            " 14.47%\n"
          ],
          "name": "stdout"
        },
        {
          "output_type": "execute_result",
          "data": {
            "text/plain": [
              "' 14.47%'"
            ]
          },
          "metadata": {
            "tags": []
          },
          "execution_count": 12
        }
      ]
    },
    {
      "cell_type": "code",
      "metadata": {
        "id": "Ymeq15ye2XQe",
        "colab_type": "code",
        "outputId": "605bfe21-72ad-40b3-a6c7-e01673895b41",
        "colab": {
          "base_uri": "https://localhost:8080/",
          "height": 34
        }
      },
      "source": [
        "# Find python method for removing string values\n",
        "int_rate0.strip()"
      ],
      "execution_count": 13,
      "outputs": [
        {
          "output_type": "execute_result",
          "data": {
            "text/plain": [
              "'14.47%'"
            ]
          },
          "metadata": {
            "tags": []
          },
          "execution_count": 13
        }
      ]
    },
    {
      "cell_type": "code",
      "metadata": {
        "id": "PiH-RpRK2XUs",
        "colab_type": "code",
        "outputId": "5e74d738-3f8d-4327-c0e6-392726188199",
        "colab": {
          "base_uri": "https://localhost:8080/",
          "height": 34
        }
      },
      "source": [
        "# Use strip to get rid of the %\n",
        "int_rate0.strip('%')"
      ],
      "execution_count": 14,
      "outputs": [
        {
          "output_type": "execute_result",
          "data": {
            "text/plain": [
              "' 14.47'"
            ]
          },
          "metadata": {
            "tags": []
          },
          "execution_count": 14
        }
      ]
    },
    {
      "cell_type": "code",
      "metadata": {
        "id": "fg12ysgm2Xb4",
        "colab_type": "code",
        "outputId": "dbb1b922-8302-4a95-8bdb-f72bbec357dc",
        "colab": {
          "base_uri": "https://localhost:8080/",
          "height": 34
        }
      },
      "source": [
        "# Remove both at the same time\n",
        "int_rate0.strip().strip('%')"
      ],
      "execution_count": 15,
      "outputs": [
        {
          "output_type": "execute_result",
          "data": {
            "text/plain": [
              "'14.47'"
            ]
          },
          "metadata": {
            "tags": []
          },
          "execution_count": 15
        }
      ]
    },
    {
      "cell_type": "code",
      "metadata": {
        "id": "sp8eXyWL2Xkl",
        "colab_type": "code",
        "outputId": "0f9e0825-013d-4977-fe39-da08c6fb52a2",
        "colab": {
          "base_uri": "https://localhost:8080/",
          "height": 34
        }
      },
      "source": [
        "# Which version of pandas are we running?\n",
        "pd.__version__"
      ],
      "execution_count": 16,
      "outputs": [
        {
          "output_type": "execute_result",
          "data": {
            "text/plain": [
              "'0.25.2'"
            ]
          },
          "metadata": {
            "tags": []
          },
          "execution_count": 16
        }
      ]
    },
    {
      "cell_type": "code",
      "metadata": {
        "id": "3gmMXJXz2XpC",
        "colab_type": "code",
        "outputId": "14bd54e3-c9b8-4959-d95b-734dc8a5e9af",
        "colab": {
          "base_uri": "https://localhost:8080/",
          "height": 34
        }
      },
      "source": [
        "# Now we can convert from string to float\n",
        "float(int_rate0.strip().strip('%'))"
      ],
      "execution_count": 17,
      "outputs": [
        {
          "output_type": "execute_result",
          "data": {
            "text/plain": [
              "14.47"
            ]
          },
          "metadata": {
            "tags": []
          },
          "execution_count": 17
        }
      ]
    },
    {
      "cell_type": "code",
      "metadata": {
        "id": "qPRNZVGg2XnU",
        "colab_type": "code",
        "outputId": "99df7cf4-92b6-4ed6-a216-5146ee65a3d2",
        "colab": {
          "base_uri": "https://localhost:8080/",
          "height": 51
        }
      },
      "source": [
        "# Confirm that did what we wanted\n",
        "print(type(int_rate0.strip().strip('%')))\n",
        "print(type(float(int_rate0.strip().strip('%'))))"
      ],
      "execution_count": 18,
      "outputs": [
        {
          "output_type": "stream",
          "text": [
            "<class 'str'>\n",
            "<class 'float'>\n"
          ],
          "name": "stdout"
        }
      ]
    },
    {
      "cell_type": "markdown",
      "metadata": {
        "id": "WmT0YywI6BjT",
        "colab_type": "text"
      },
      "source": [
        "Convert Int Rate"
      ]
    },
    {
      "cell_type": "code",
      "metadata": {
        "id": "gaHHmAo72Xip",
        "colab_type": "code",
        "colab": {}
      },
      "source": [
        "# Write function\n",
        "def int_rate_to_float(mystring):\n",
        "  return float(mystring.strip().strip('%'))"
      ],
      "execution_count": 0,
      "outputs": []
    },
    {
      "cell_type": "code",
      "metadata": {
        "id": "seM3h1Zi2XhN",
        "colab_type": "code",
        "outputId": "4311b5fd-403d-4dcb-9b32-7c0e0b4eda2f",
        "colab": {
          "base_uri": "https://localhost:8080/",
          "height": 34
        }
      },
      "source": [
        "# Test function\n",
        "int_rate_to_float(int_rate0)"
      ],
      "execution_count": 20,
      "outputs": [
        {
          "output_type": "execute_result",
          "data": {
            "text/plain": [
              "14.47"
            ]
          },
          "metadata": {
            "tags": []
          },
          "execution_count": 20
        }
      ]
    },
    {
      "cell_type": "code",
      "metadata": {
        "id": "sFjlrS3_2XgM",
        "colab_type": "code",
        "outputId": "0f6800d5-727b-4e2b-f454-0b0d197dbcec",
        "colab": {
          "base_uri": "https://localhost:8080/",
          "height": 153
        }
      },
      "source": [
        "# Apply function to whole columns. Check columns list to ensure column creation worked\n",
        "df['int_rate_float'] = df['int_rate'].apply(int_rate_to_float)\n",
        "df.columns"
      ],
      "execution_count": 21,
      "outputs": [
        {
          "output_type": "execute_result",
          "data": {
            "text/plain": [
              "Index(['id', 'member_id', 'loan_amnt', 'funded_amnt', 'funded_amnt_inv',\n",
              "       'term', 'int_rate', 'installment', 'grade', 'sub_grade',\n",
              "       ...\n",
              "       'hardship_payoff_balance_amount', 'hardship_last_payment_amount',\n",
              "       'debt_settlement_flag', 'debt_settlement_flag_date',\n",
              "       'settlement_status', 'settlement_date', 'settlement_amount',\n",
              "       'settlement_percentage', 'settlement_term', 'int_rate_float'],\n",
              "      dtype='object', length=145)"
            ]
          },
          "metadata": {
            "tags": []
          },
          "execution_count": 21
        }
      ]
    },
    {
      "cell_type": "code",
      "metadata": {
        "id": "479tKWm62XZJ",
        "colab_type": "code",
        "outputId": "87c4fb61-8b9d-45cb-c2bd-83eaa3418f2d",
        "colab": {
          "base_uri": "https://localhost:8080/",
          "height": 204
        }
      },
      "source": [
        "# Compare the old and new columns\n",
        "df[['int_rate', 'int_rate_float']].head()"
      ],
      "execution_count": 22,
      "outputs": [
        {
          "output_type": "execute_result",
          "data": {
            "text/html": [
              "<div>\n",
              "<style scoped>\n",
              "    .dataframe tbody tr th:only-of-type {\n",
              "        vertical-align: middle;\n",
              "    }\n",
              "\n",
              "    .dataframe tbody tr th {\n",
              "        vertical-align: top;\n",
              "    }\n",
              "\n",
              "    .dataframe thead th {\n",
              "        text-align: right;\n",
              "    }\n",
              "</style>\n",
              "<table border=\"1\" class=\"dataframe\">\n",
              "  <thead>\n",
              "    <tr style=\"text-align: right;\">\n",
              "      <th></th>\n",
              "      <th>int_rate</th>\n",
              "      <th>int_rate_float</th>\n",
              "    </tr>\n",
              "  </thead>\n",
              "  <tbody>\n",
              "    <tr>\n",
              "      <th>0</th>\n",
              "      <td>14.47%</td>\n",
              "      <td>14.47</td>\n",
              "    </tr>\n",
              "    <tr>\n",
              "      <th>1</th>\n",
              "      <td>22.35%</td>\n",
              "      <td>22.35</td>\n",
              "    </tr>\n",
              "    <tr>\n",
              "      <th>2</th>\n",
              "      <td>23.40%</td>\n",
              "      <td>23.40</td>\n",
              "    </tr>\n",
              "    <tr>\n",
              "      <th>3</th>\n",
              "      <td>18.94%</td>\n",
              "      <td>18.94</td>\n",
              "    </tr>\n",
              "    <tr>\n",
              "      <th>4</th>\n",
              "      <td>10.72%</td>\n",
              "      <td>10.72</td>\n",
              "    </tr>\n",
              "  </tbody>\n",
              "</table>\n",
              "</div>"
            ],
            "text/plain": [
              "  int_rate  int_rate_float\n",
              "0   14.47%           14.47\n",
              "1   22.35%           22.35\n",
              "2   23.40%           23.40\n",
              "3   18.94%           18.94\n",
              "4   10.72%           10.72"
            ]
          },
          "metadata": {
            "tags": []
          },
          "execution_count": 22
        }
      ]
    },
    {
      "cell_type": "code",
      "metadata": {
        "id": "hRVatv7Z2XXY",
        "colab_type": "code",
        "outputId": "8793fe20-ea22-4a6f-80fe-f1f6ff8c1dc5",
        "colab": {
          "base_uri": "https://localhost:8080/",
          "height": 153
        }
      },
      "source": [
        "# Confirm that we can now do math on the column\n",
        "df['int_rate_double'] = df['int_rate_float'] * 2\n",
        "df.columns"
      ],
      "execution_count": 23,
      "outputs": [
        {
          "output_type": "execute_result",
          "data": {
            "text/plain": [
              "Index(['id', 'member_id', 'loan_amnt', 'funded_amnt', 'funded_amnt_inv',\n",
              "       'term', 'int_rate', 'installment', 'grade', 'sub_grade',\n",
              "       ...\n",
              "       'hardship_last_payment_amount', 'debt_settlement_flag',\n",
              "       'debt_settlement_flag_date', 'settlement_status', 'settlement_date',\n",
              "       'settlement_amount', 'settlement_percentage', 'settlement_term',\n",
              "       'int_rate_float', 'int_rate_double'],\n",
              "      dtype='object', length=146)"
            ]
          },
          "metadata": {
            "tags": []
          },
          "execution_count": 23
        }
      ]
    },
    {
      "cell_type": "code",
      "metadata": {
        "id": "ZwwQ0QS42XFb",
        "colab_type": "code",
        "outputId": "895eb20d-c9b0-4714-8f2e-20a4a5ca5fab",
        "colab": {
          "base_uri": "https://localhost:8080/",
          "height": 204
        }
      },
      "source": [
        "# Compare old and new\n",
        "df[['int_rate', 'int_rate_float', 'int_rate_double']].head()"
      ],
      "execution_count": 24,
      "outputs": [
        {
          "output_type": "execute_result",
          "data": {
            "text/html": [
              "<div>\n",
              "<style scoped>\n",
              "    .dataframe tbody tr th:only-of-type {\n",
              "        vertical-align: middle;\n",
              "    }\n",
              "\n",
              "    .dataframe tbody tr th {\n",
              "        vertical-align: top;\n",
              "    }\n",
              "\n",
              "    .dataframe thead th {\n",
              "        text-align: right;\n",
              "    }\n",
              "</style>\n",
              "<table border=\"1\" class=\"dataframe\">\n",
              "  <thead>\n",
              "    <tr style=\"text-align: right;\">\n",
              "      <th></th>\n",
              "      <th>int_rate</th>\n",
              "      <th>int_rate_float</th>\n",
              "      <th>int_rate_double</th>\n",
              "    </tr>\n",
              "  </thead>\n",
              "  <tbody>\n",
              "    <tr>\n",
              "      <th>0</th>\n",
              "      <td>14.47%</td>\n",
              "      <td>14.47</td>\n",
              "      <td>28.94</td>\n",
              "    </tr>\n",
              "    <tr>\n",
              "      <th>1</th>\n",
              "      <td>22.35%</td>\n",
              "      <td>22.35</td>\n",
              "      <td>44.70</td>\n",
              "    </tr>\n",
              "    <tr>\n",
              "      <th>2</th>\n",
              "      <td>23.40%</td>\n",
              "      <td>23.40</td>\n",
              "      <td>46.80</td>\n",
              "    </tr>\n",
              "    <tr>\n",
              "      <th>3</th>\n",
              "      <td>18.94%</td>\n",
              "      <td>18.94</td>\n",
              "      <td>37.88</td>\n",
              "    </tr>\n",
              "    <tr>\n",
              "      <th>4</th>\n",
              "      <td>10.72%</td>\n",
              "      <td>10.72</td>\n",
              "      <td>21.44</td>\n",
              "    </tr>\n",
              "  </tbody>\n",
              "</table>\n",
              "</div>"
            ],
            "text/plain": [
              "  int_rate  int_rate_float  int_rate_double\n",
              "0   14.47%           14.47            28.94\n",
              "1   22.35%           22.35            44.70\n",
              "2   23.40%           23.40            46.80\n",
              "3   18.94%           18.94            37.88\n",
              "4   10.72%           10.72            21.44"
            ]
          },
          "metadata": {
            "tags": []
          },
          "execution_count": 24
        }
      ]
    },
    {
      "cell_type": "markdown",
      "metadata": {
        "id": "BCZCwlQy7av8",
        "colab_type": "text"
      },
      "source": [
        "Clean emp_title"
      ]
    },
    {
      "cell_type": "code",
      "metadata": {
        "id": "cZ9GNUyU2XCm",
        "colab_type": "code",
        "outputId": "baad1ce3-97f3-44c0-e200-8bd78fad9387",
        "colab": {
          "base_uri": "https://localhost:8080/",
          "height": 235
        }
      },
      "source": [
        "# Explore the emp_title columns\n",
        "df[['emp_title', 'int_rate']].sample(6)"
      ],
      "execution_count": 25,
      "outputs": [
        {
          "output_type": "execute_result",
          "data": {
            "text/html": [
              "<div>\n",
              "<style scoped>\n",
              "    .dataframe tbody tr th:only-of-type {\n",
              "        vertical-align: middle;\n",
              "    }\n",
              "\n",
              "    .dataframe tbody tr th {\n",
              "        vertical-align: top;\n",
              "    }\n",
              "\n",
              "    .dataframe thead th {\n",
              "        text-align: right;\n",
              "    }\n",
              "</style>\n",
              "<table border=\"1\" class=\"dataframe\">\n",
              "  <thead>\n",
              "    <tr style=\"text-align: right;\">\n",
              "      <th></th>\n",
              "      <th>emp_title</th>\n",
              "      <th>int_rate</th>\n",
              "    </tr>\n",
              "  </thead>\n",
              "  <tbody>\n",
              "    <tr>\n",
              "      <th>90209</th>\n",
              "      <td>Senior Quality Engineer</td>\n",
              "      <td>17.97%</td>\n",
              "    </tr>\n",
              "    <tr>\n",
              "      <th>51449</th>\n",
              "      <td>Support Specialist</td>\n",
              "      <td>8.19%</td>\n",
              "    </tr>\n",
              "    <tr>\n",
              "      <th>91971</th>\n",
              "      <td>Assistant Buyer</td>\n",
              "      <td>6.11%</td>\n",
              "    </tr>\n",
              "    <tr>\n",
              "      <th>51139</th>\n",
              "      <td>Production Assistant</td>\n",
              "      <td>7.02%</td>\n",
              "    </tr>\n",
              "    <tr>\n",
              "      <th>124472</th>\n",
              "      <td>Driver</td>\n",
              "      <td>15.02%</td>\n",
              "    </tr>\n",
              "    <tr>\n",
              "      <th>11822</th>\n",
              "      <td>Heavy cleaner</td>\n",
              "      <td>13.56%</td>\n",
              "    </tr>\n",
              "  </tbody>\n",
              "</table>\n",
              "</div>"
            ],
            "text/plain": [
              "                      emp_title int_rate\n",
              "90209   Senior Quality Engineer   17.97%\n",
              "51449        Support Specialist    8.19%\n",
              "91971           Assistant Buyer    6.11%\n",
              "51139      Production Assistant    7.02%\n",
              "124472                   Driver   15.02%\n",
              "11822             Heavy cleaner   13.56%"
            ]
          },
          "metadata": {
            "tags": []
          },
          "execution_count": 25
        }
      ]
    },
    {
      "cell_type": "code",
      "metadata": {
        "id": "Tdg8yyxG2XBB",
        "colab_type": "code",
        "outputId": "7f922029-85e0-4c93-c6dc-f938b9e63bfd",
        "colab": {
          "base_uri": "https://localhost:8080/",
          "height": 34
        }
      },
      "source": [
        "# Check count of all possible titles\n",
        "df['emp_title'].nunique()"
      ],
      "execution_count": 26,
      "outputs": [
        {
          "output_type": "execute_result",
          "data": {
            "text/plain": [
              "43892"
            ]
          },
          "metadata": {
            "tags": []
          },
          "execution_count": 26
        }
      ]
    },
    {
      "cell_type": "code",
      "metadata": {
        "id": "Jd4oqS0f2W6_",
        "colab_type": "code",
        "outputId": "c13d45df-dfc2-4405-aee5-582f91140008",
        "colab": {
          "base_uri": "https://localhost:8080/",
          "height": 119
        }
      },
      "source": [
        "# Show most popular titles\n",
        "df['emp_title'].value_counts(ascending=False).head()"
      ],
      "execution_count": 27,
      "outputs": [
        {
          "output_type": "execute_result",
          "data": {
            "text/plain": [
              "Teacher             2090\n",
              "Manager             1773\n",
              "Registered Nurse     952\n",
              "Driver               924\n",
              "RN                   726\n",
              "Name: emp_title, dtype: int64"
            ]
          },
          "metadata": {
            "tags": []
          },
          "execution_count": 27
        }
      ]
    },
    {
      "cell_type": "code",
      "metadata": {
        "id": "3PjHg-Eu2W5T",
        "colab_type": "code",
        "outputId": "74819959-cbf4-46f6-8d63-976a1d461240",
        "colab": {
          "base_uri": "https://localhost:8080/",
          "height": 119
        }
      },
      "source": [
        "# Let's remove the dropna to get a better picture\n",
        "df['emp_title'].value_counts(ascending=False, dropna=False).head()"
      ],
      "execution_count": 28,
      "outputs": [
        {
          "output_type": "execute_result",
          "data": {
            "text/plain": [
              "NaN                 20947\n",
              "Teacher              2090\n",
              "Manager              1773\n",
              "Registered Nurse      952\n",
              "Driver                924\n",
              "Name: emp_title, dtype: int64"
            ]
          },
          "metadata": {
            "tags": []
          },
          "execution_count": 28
        }
      ]
    },
    {
      "cell_type": "code",
      "metadata": {
        "id": "iI2gXUWP2W0J",
        "colab_type": "code",
        "outputId": "1269895a-c3f4-4717-f2de-bfbb4f678add",
        "colab": {
          "base_uri": "https://localhost:8080/",
          "height": 34
        }
      },
      "source": [
        "# We have some nulls\n",
        "df['emp_title'].isnull().sum()"
      ],
      "execution_count": 29,
      "outputs": [
        {
          "output_type": "execute_result",
          "data": {
            "text/plain": [
              "20947"
            ]
          },
          "metadata": {
            "tags": []
          },
          "execution_count": 29
        }
      ]
    },
    {
      "cell_type": "code",
      "metadata": {
        "id": "0W6-kFWy8IbC",
        "colab_type": "code",
        "outputId": "c14d83ae-6013-4f6b-f5f2-f0b5068ec444",
        "colab": {
          "base_uri": "https://localhost:8080/",
          "height": 34
        }
      },
      "source": [
        "# We can also check the number of non nulls\n",
        "df['emp_title'].notnull().sum()"
      ],
      "execution_count": 30,
      "outputs": [
        {
          "output_type": "execute_result",
          "data": {
            "text/plain": [
              "107465"
            ]
          },
          "metadata": {
            "tags": []
          },
          "execution_count": 30
        }
      ]
    },
    {
      "cell_type": "code",
      "metadata": {
        "id": "m07zk96N8IjX",
        "colab_type": "code",
        "colab": {}
      },
      "source": [
        "  # import numpy\n",
        "  import numpy as np\n"
      ],
      "execution_count": 0,
      "outputs": []
    },
    {
      "cell_type": "code",
      "metadata": {
        "id": "_5U2VW3H8Izp",
        "colab_type": "code",
        "colab": {}
      },
      "source": [
        "# Create function that will clean up our titles\n",
        "# if isinstance checks title for that dtype\n",
        "def clean_title(title):\n",
        "  if isinstance(title, str):\n",
        "    return title.strip().title()\n",
        "  else:\n",
        "    return 'Unknown'\n"
      ],
      "execution_count": 0,
      "outputs": []
    },
    {
      "cell_type": "code",
      "metadata": {
        "id": "EYJwP5Dl8I4Q",
        "colab_type": "code",
        "outputId": "d33ed2f3-fde7-4cf2-eae5-d8691f4f3bfc",
        "colab": {
          "base_uri": "https://localhost:8080/",
          "height": 85
        }
      },
      "source": [
        "# Test our function\n",
        "examples = ['owner', 'supervisor', 'project manager', np.NaN]\n",
        "\n",
        "for item in examples:\n",
        "  print(clean_title(item))"
      ],
      "execution_count": 33,
      "outputs": [
        {
          "output_type": "stream",
          "text": [
            "Owner\n",
            "Supervisor\n",
            "Project Manager\n",
            "Unknown\n"
          ],
          "name": "stdout"
        }
      ]
    },
    {
      "cell_type": "code",
      "metadata": {
        "id": "VWKCTRzc8I_D",
        "colab_type": "code",
        "outputId": "f5c81bca-4152-446a-e77d-a465b32a090e",
        "colab": {
          "base_uri": "https://localhost:8080/",
          "height": 153
        }
      },
      "source": [
        "# Now lets apply to entire column\n",
        "df['emp_title_clean'] = df['emp_title'].apply(clean_title)\n",
        "df.columns"
      ],
      "execution_count": 34,
      "outputs": [
        {
          "output_type": "execute_result",
          "data": {
            "text/plain": [
              "Index(['id', 'member_id', 'loan_amnt', 'funded_amnt', 'funded_amnt_inv',\n",
              "       'term', 'int_rate', 'installment', 'grade', 'sub_grade',\n",
              "       ...\n",
              "       'debt_settlement_flag', 'debt_settlement_flag_date',\n",
              "       'settlement_status', 'settlement_date', 'settlement_amount',\n",
              "       'settlement_percentage', 'settlement_term', 'int_rate_float',\n",
              "       'int_rate_double', 'emp_title_clean'],\n",
              "      dtype='object', length=147)"
            ]
          },
          "metadata": {
            "tags": []
          },
          "execution_count": 34
        }
      ]
    },
    {
      "cell_type": "code",
      "metadata": {
        "id": "PQet6fvK8JEy",
        "colab_type": "code",
        "outputId": "7945a17a-17b6-4eb0-ef9d-56f7eb7df1a1",
        "colab": {
          "base_uri": "https://localhost:8080/",
          "height": 204
        }
      },
      "source": [
        "# Compare old and new\n",
        "df[['emp_title', 'emp_title_clean']].head()"
      ],
      "execution_count": 35,
      "outputs": [
        {
          "output_type": "execute_result",
          "data": {
            "text/html": [
              "<div>\n",
              "<style scoped>\n",
              "    .dataframe tbody tr th:only-of-type {\n",
              "        vertical-align: middle;\n",
              "    }\n",
              "\n",
              "    .dataframe tbody tr th {\n",
              "        vertical-align: top;\n",
              "    }\n",
              "\n",
              "    .dataframe thead th {\n",
              "        text-align: right;\n",
              "    }\n",
              "</style>\n",
              "<table border=\"1\" class=\"dataframe\">\n",
              "  <thead>\n",
              "    <tr style=\"text-align: right;\">\n",
              "      <th></th>\n",
              "      <th>emp_title</th>\n",
              "      <th>emp_title_clean</th>\n",
              "    </tr>\n",
              "  </thead>\n",
              "  <tbody>\n",
              "    <tr>\n",
              "      <th>0</th>\n",
              "      <td>Staff Physician</td>\n",
              "      <td>Staff Physician</td>\n",
              "    </tr>\n",
              "    <tr>\n",
              "      <th>1</th>\n",
              "      <td>Director of Sales</td>\n",
              "      <td>Director Of Sales</td>\n",
              "    </tr>\n",
              "    <tr>\n",
              "      <th>2</th>\n",
              "      <td>NaN</td>\n",
              "      <td>Unknown</td>\n",
              "    </tr>\n",
              "    <tr>\n",
              "      <th>3</th>\n",
              "      <td>Receptionist</td>\n",
              "      <td>Receptionist</td>\n",
              "    </tr>\n",
              "    <tr>\n",
              "      <th>4</th>\n",
              "      <td>Extrusion assistant</td>\n",
              "      <td>Extrusion Assistant</td>\n",
              "    </tr>\n",
              "  </tbody>\n",
              "</table>\n",
              "</div>"
            ],
            "text/plain": [
              "              emp_title      emp_title_clean\n",
              "0       Staff Physician      Staff Physician\n",
              "1     Director of Sales    Director Of Sales\n",
              "2                   NaN              Unknown\n",
              "3         Receptionist          Receptionist\n",
              "4  Extrusion assistant   Extrusion Assistant"
            ]
          },
          "metadata": {
            "tags": []
          },
          "execution_count": 35
        }
      ]
    },
    {
      "cell_type": "code",
      "metadata": {
        "id": "V-uCvjzn8I27",
        "colab_type": "code",
        "outputId": "ec2ecd5c-0883-4ead-95e9-edda3de6b5b7",
        "colab": {
          "base_uri": "https://localhost:8080/",
          "height": 34
        }
      },
      "source": [
        "# Check for missing values\n",
        "df['emp_title_clean'].isnull().sum()"
      ],
      "execution_count": 36,
      "outputs": [
        {
          "output_type": "execute_result",
          "data": {
            "text/plain": [
              "0"
            ]
          },
          "metadata": {
            "tags": []
          },
          "execution_count": 36
        }
      ]
    },
    {
      "cell_type": "code",
      "metadata": {
        "id": "xvsvHBpy8IxG",
        "colab_type": "code",
        "outputId": "6ce8669a-060b-4a09-f4b7-0547dc954250",
        "colab": {
          "base_uri": "https://localhost:8080/",
          "height": 119
        }
      },
      "source": [
        "# Check value counts again\n",
        "df['emp_title_clean'].value_counts(ascending=False, dropna=False).head()"
      ],
      "execution_count": 37,
      "outputs": [
        {
          "output_type": "execute_result",
          "data": {
            "text/plain": [
              "Unknown             20947\n",
              "Teacher              2557\n",
              "Manager              2395\n",
              "Registered Nurse     1418\n",
              "Driver               1258\n",
              "Name: emp_title_clean, dtype: int64"
            ]
          },
          "metadata": {
            "tags": []
          },
          "execution_count": 37
        }
      ]
    },
    {
      "cell_type": "markdown",
      "metadata": {
        "id": "Tp8LOLaz9w-Y",
        "colab_type": "text"
      },
      "source": [
        "Create emp_title_manager"
      ]
    },
    {
      "cell_type": "code",
      "metadata": {
        "id": "QSizj-3Q8Iu5",
        "colab_type": "code",
        "outputId": "441a4891-84cb-4554-b2f6-6fc59fd8419b",
        "colab": {
          "base_uri": "https://localhost:8080/",
          "height": 153
        }
      },
      "source": [
        "df['emp_title_manager'] = df['emp_title_clean'].str.contains('Manager')\n",
        "df.columns"
      ],
      "execution_count": 38,
      "outputs": [
        {
          "output_type": "execute_result",
          "data": {
            "text/plain": [
              "Index(['id', 'member_id', 'loan_amnt', 'funded_amnt', 'funded_amnt_inv',\n",
              "       'term', 'int_rate', 'installment', 'grade', 'sub_grade',\n",
              "       ...\n",
              "       'debt_settlement_flag_date', 'settlement_status', 'settlement_date',\n",
              "       'settlement_amount', 'settlement_percentage', 'settlement_term',\n",
              "       'int_rate_float', 'int_rate_double', 'emp_title_clean',\n",
              "       'emp_title_manager'],\n",
              "      dtype='object', length=148)"
            ]
          },
          "metadata": {
            "tags": []
          },
          "execution_count": 38
        }
      ]
    },
    {
      "cell_type": "code",
      "metadata": {
        "id": "tMTj5cXE8Isd",
        "colab_type": "code",
        "outputId": "300175f6-ac84-4b49-c893-651e93e59f87",
        "colab": {
          "base_uri": "https://localhost:8080/",
          "height": 204
        }
      },
      "source": [
        "# Compare old and new\n",
        "df[['emp_title_clean', 'emp_title_manager']].head()"
      ],
      "execution_count": 39,
      "outputs": [
        {
          "output_type": "execute_result",
          "data": {
            "text/html": [
              "<div>\n",
              "<style scoped>\n",
              "    .dataframe tbody tr th:only-of-type {\n",
              "        vertical-align: middle;\n",
              "    }\n",
              "\n",
              "    .dataframe tbody tr th {\n",
              "        vertical-align: top;\n",
              "    }\n",
              "\n",
              "    .dataframe thead th {\n",
              "        text-align: right;\n",
              "    }\n",
              "</style>\n",
              "<table border=\"1\" class=\"dataframe\">\n",
              "  <thead>\n",
              "    <tr style=\"text-align: right;\">\n",
              "      <th></th>\n",
              "      <th>emp_title_clean</th>\n",
              "      <th>emp_title_manager</th>\n",
              "    </tr>\n",
              "  </thead>\n",
              "  <tbody>\n",
              "    <tr>\n",
              "      <th>0</th>\n",
              "      <td>Staff Physician</td>\n",
              "      <td>False</td>\n",
              "    </tr>\n",
              "    <tr>\n",
              "      <th>1</th>\n",
              "      <td>Director Of Sales</td>\n",
              "      <td>False</td>\n",
              "    </tr>\n",
              "    <tr>\n",
              "      <th>2</th>\n",
              "      <td>Unknown</td>\n",
              "      <td>False</td>\n",
              "    </tr>\n",
              "    <tr>\n",
              "      <th>3</th>\n",
              "      <td>Receptionist</td>\n",
              "      <td>False</td>\n",
              "    </tr>\n",
              "    <tr>\n",
              "      <th>4</th>\n",
              "      <td>Extrusion Assistant</td>\n",
              "      <td>False</td>\n",
              "    </tr>\n",
              "  </tbody>\n",
              "</table>\n",
              "</div>"
            ],
            "text/plain": [
              "       emp_title_clean  emp_title_manager\n",
              "0      Staff Physician              False\n",
              "1    Director Of Sales              False\n",
              "2              Unknown              False\n",
              "3         Receptionist              False\n",
              "4  Extrusion Assistant              False"
            ]
          },
          "metadata": {
            "tags": []
          },
          "execution_count": 39
        }
      ]
    },
    {
      "cell_type": "code",
      "metadata": {
        "id": "s2q8nqiJ8Iqe",
        "colab_type": "code",
        "outputId": "1a1ea915-4cc1-43f1-f9b1-209cd05725d5",
        "colab": {
          "base_uri": "https://localhost:8080/",
          "height": 34
        }
      },
      "source": [
        "# Any empty data?\n",
        "df['emp_title_manager'].isnull().sum()"
      ],
      "execution_count": 40,
      "outputs": [
        {
          "output_type": "execute_result",
          "data": {
            "text/plain": [
              "0"
            ]
          },
          "metadata": {
            "tags": []
          },
          "execution_count": 40
        }
      ]
    },
    {
      "cell_type": "markdown",
      "metadata": {
        "id": "4DznMEqu_oKM",
        "colab_type": "text"
      },
      "source": [
        "Work with dates"
      ]
    },
    {
      "cell_type": "code",
      "metadata": {
        "id": "ZemY-5u68Ioc",
        "colab_type": "code",
        "outputId": "9ce2b7ca-2334-4626-e8ba-1f99557fbb88",
        "colab": {
          "base_uri": "https://localhost:8080/",
          "height": 1000
        }
      },
      "source": [
        "# List all columns and their dtypes\n",
        "df.dtypes"
      ],
      "execution_count": 41,
      "outputs": [
        {
          "output_type": "execute_result",
          "data": {
            "text/plain": [
              "id                                            float64\n",
              "member_id                                     float64\n",
              "loan_amnt                                       int64\n",
              "funded_amnt                                     int64\n",
              "funded_amnt_inv                               float64\n",
              "term                                           object\n",
              "int_rate                                       object\n",
              "installment                                   float64\n",
              "grade                                          object\n",
              "sub_grade                                      object\n",
              "emp_title                                      object\n",
              "emp_length                                     object\n",
              "home_ownership                                 object\n",
              "annual_inc                                    float64\n",
              "verification_status                            object\n",
              "issue_d                                        object\n",
              "loan_status                                    object\n",
              "pymnt_plan                                     object\n",
              "url                                           float64\n",
              "desc                                          float64\n",
              "purpose                                        object\n",
              "title                                          object\n",
              "zip_code                                       object\n",
              "addr_state                                     object\n",
              "dti                                           float64\n",
              "delinq_2yrs                                     int64\n",
              "earliest_cr_line                               object\n",
              "inq_last_6mths                                  int64\n",
              "mths_since_last_delinq                        float64\n",
              "mths_since_last_record                        float64\n",
              "open_acc                                        int64\n",
              "pub_rec                                         int64\n",
              "revol_bal                                       int64\n",
              "revol_util                                     object\n",
              "total_acc                                       int64\n",
              "initial_list_status                            object\n",
              "out_prncp                                     float64\n",
              "out_prncp_inv                                 float64\n",
              "total_pymnt                                   float64\n",
              "total_pymnt_inv                               float64\n",
              "total_rec_prncp                               float64\n",
              "total_rec_int                                 float64\n",
              "total_rec_late_fee                            float64\n",
              "recoveries                                    float64\n",
              "collection_recovery_fee                       float64\n",
              "last_pymnt_d                                   object\n",
              "last_pymnt_amnt                               float64\n",
              "next_pymnt_d                                   object\n",
              "last_credit_pull_d                             object\n",
              "collections_12_mths_ex_med                      int64\n",
              "mths_since_last_major_derog                   float64\n",
              "policy_code                                     int64\n",
              "application_type                               object\n",
              "annual_inc_joint                              float64\n",
              "dti_joint                                     float64\n",
              "verification_status_joint                      object\n",
              "acc_now_delinq                                  int64\n",
              "tot_coll_amt                                    int64\n",
              "tot_cur_bal                                     int64\n",
              "open_acc_6m                                     int64\n",
              "open_act_il                                     int64\n",
              "open_il_12m                                     int64\n",
              "open_il_24m                                     int64\n",
              "mths_since_rcnt_il                            float64\n",
              "total_bal_il                                    int64\n",
              "il_util                                       float64\n",
              "open_rv_12m                                     int64\n",
              "open_rv_24m                                     int64\n",
              "max_bal_bc                                      int64\n",
              "all_util                                      float64\n",
              "total_rev_hi_lim                                int64\n",
              "inq_fi                                          int64\n",
              "total_cu_tl                                     int64\n",
              "inq_last_12m                                    int64\n",
              "acc_open_past_24mths                            int64\n",
              "avg_cur_bal                                   float64\n",
              "bc_open_to_buy                                float64\n",
              "bc_util                                       float64\n",
              "chargeoff_within_12_mths                        int64\n",
              "delinq_amnt                                     int64\n",
              "mo_sin_old_il_acct                            float64\n",
              "mo_sin_old_rev_tl_op                            int64\n",
              "mo_sin_rcnt_rev_tl_op                           int64\n",
              "mo_sin_rcnt_tl                                  int64\n",
              "mort_acc                                        int64\n",
              "mths_since_recent_bc                          float64\n",
              "mths_since_recent_bc_dlq                      float64\n",
              "mths_since_recent_inq                         float64\n",
              "mths_since_recent_revol_delinq                float64\n",
              "num_accts_ever_120_pd                           int64\n",
              "num_actv_bc_tl                                  int64\n",
              "num_actv_rev_tl                                 int64\n",
              "num_bc_sats                                     int64\n",
              "num_bc_tl                                       int64\n",
              "num_il_tl                                       int64\n",
              "num_op_rev_tl                                   int64\n",
              "num_rev_accts                                   int64\n",
              "num_rev_tl_bal_gt_0                             int64\n",
              "num_sats                                        int64\n",
              "num_tl_120dpd_2m                              float64\n",
              "num_tl_30dpd                                    int64\n",
              "num_tl_90g_dpd_24m                              int64\n",
              "num_tl_op_past_12m                              int64\n",
              "pct_tl_nvr_dlq                                float64\n",
              "percent_bc_gt_75                              float64\n",
              "pub_rec_bankruptcies                            int64\n",
              "tax_liens                                       int64\n",
              "tot_hi_cred_lim                                 int64\n",
              "total_bal_ex_mort                               int64\n",
              "total_bc_limit                                  int64\n",
              "total_il_high_credit_limit                      int64\n",
              "revol_bal_joint                               float64\n",
              "sec_app_earliest_cr_line                       object\n",
              "sec_app_inq_last_6mths                        float64\n",
              "sec_app_mort_acc                              float64\n",
              "sec_app_open_acc                              float64\n",
              "sec_app_revol_util                            float64\n",
              "sec_app_open_act_il                           float64\n",
              "sec_app_num_rev_accts                         float64\n",
              "sec_app_chargeoff_within_12_mths              float64\n",
              "sec_app_collections_12_mths_ex_med            float64\n",
              "sec_app_mths_since_last_major_derog           float64\n",
              "hardship_flag                                  object\n",
              "hardship_type                                  object\n",
              "hardship_reason                                object\n",
              "hardship_status                                object\n",
              "deferral_term                                 float64\n",
              "hardship_amount                               float64\n",
              "hardship_start_date                            object\n",
              "hardship_end_date                              object\n",
              "payment_plan_start_date                        object\n",
              "hardship_length                               float64\n",
              "hardship_dpd                                  float64\n",
              "hardship_loan_status                           object\n",
              "orig_projected_additional_accrued_interest    float64\n",
              "hardship_payoff_balance_amount                float64\n",
              "hardship_last_payment_amount                  float64\n",
              "debt_settlement_flag                           object\n",
              "debt_settlement_flag_date                      object\n",
              "settlement_status                              object\n",
              "settlement_date                                object\n",
              "settlement_amount                             float64\n",
              "settlement_percentage                         float64\n",
              "settlement_term                               float64\n",
              "int_rate_float                                float64\n",
              "int_rate_double                               float64\n",
              "emp_title_clean                                object\n",
              "emp_title_manager                                bool\n",
              "dtype: object"
            ]
          },
          "metadata": {
            "tags": []
          },
          "execution_count": 41
        }
      ]
    },
    {
      "cell_type": "code",
      "metadata": {
        "id": "qPuUitve_rTN",
        "colab_type": "code",
        "outputId": "de3fd12e-1f8b-49cf-90e7-5c1b32fa196b",
        "colab": {
          "base_uri": "https://localhost:8080/",
          "height": 170
        }
      },
      "source": [
        "# Which columns are dates\n",
        "for col in df.columns:\n",
        "  if (col.endswith('_d')) or (col.endswith('_date')):\n",
        "    print(col)"
      ],
      "execution_count": 42,
      "outputs": [
        {
          "output_type": "stream",
          "text": [
            "issue_d\n",
            "last_pymnt_d\n",
            "next_pymnt_d\n",
            "last_credit_pull_d\n",
            "hardship_start_date\n",
            "hardship_end_date\n",
            "payment_plan_start_date\n",
            "debt_settlement_flag_date\n",
            "settlement_date\n"
          ],
          "name": "stdout"
        }
      ]
    },
    {
      "cell_type": "code",
      "metadata": {
        "id": "xSVLxkC9_rQ2",
        "colab_type": "code",
        "outputId": "f4abedce-d50f-46b5-c6c9-81a5d3250c88",
        "colab": {
          "base_uri": "https://localhost:8080/",
          "height": 54
        }
      },
      "source": [
        "# The pros can do that with list comprehension\n",
        "date_col_list = [col for col in df.columns if (col.endswith('_d')) or (col.endswith('_date'))]\n",
        "print(date_col_list)"
      ],
      "execution_count": 43,
      "outputs": [
        {
          "output_type": "stream",
          "text": [
            "['issue_d', 'last_pymnt_d', 'next_pymnt_d', 'last_credit_pull_d', 'hardship_start_date', 'hardship_end_date', 'payment_plan_start_date', 'debt_settlement_flag_date', 'settlement_date']\n"
          ],
          "name": "stdout"
        }
      ]
    },
    {
      "cell_type": "code",
      "metadata": {
        "id": "AGAxk9ME_rOd",
        "colab_type": "code",
        "outputId": "23082039-b7d8-48a0-c5d2-d655d829f81c",
        "colab": {
          "base_uri": "https://localhost:8080/",
          "height": 34
        }
      },
      "source": [
        "# Check dtype\n",
        "df['issue_d'].dtype"
      ],
      "execution_count": 44,
      "outputs": [
        {
          "output_type": "execute_result",
          "data": {
            "text/plain": [
              "dtype('O')"
            ]
          },
          "metadata": {
            "tags": []
          },
          "execution_count": 44
        }
      ]
    },
    {
      "cell_type": "code",
      "metadata": {
        "id": "ZsBFDnYs_rMV",
        "colab_type": "code",
        "outputId": "b090ed14-ebb7-4fd4-af78-ace40dfd0b96",
        "colab": {
          "base_uri": "https://localhost:8080/",
          "height": 221
        }
      },
      "source": [
        "# Even though it looks like dates!\n",
        "df.loc[0:10, 'issue_d']"
      ],
      "execution_count": 45,
      "outputs": [
        {
          "output_type": "execute_result",
          "data": {
            "text/plain": [
              "0     Dec-2018\n",
              "1     Dec-2018\n",
              "2     Dec-2018\n",
              "3     Dec-2018\n",
              "4     Dec-2018\n",
              "5     Dec-2018\n",
              "6     Dec-2018\n",
              "7     Dec-2018\n",
              "8     Dec-2018\n",
              "9     Dec-2018\n",
              "10    Dec-2018\n",
              "Name: issue_d, dtype: object"
            ]
          },
          "metadata": {
            "tags": []
          },
          "execution_count": 45
        }
      ]
    },
    {
      "cell_type": "code",
      "metadata": {
        "id": "JARXOiwZ_rJx",
        "colab_type": "code",
        "colab": {}
      },
      "source": [
        "# Convert strings to dates\n",
        "df['issue_d_clean'] = pd.to_datetime(df['issue_d'], infer_datetime_format=True)"
      ],
      "execution_count": 0,
      "outputs": []
    },
    {
      "cell_type": "code",
      "metadata": {
        "id": "nmhK34r6_rH3",
        "colab_type": "code",
        "outputId": "9f8e6cfe-00e5-4c7d-f710-dea81d14122d",
        "colab": {
          "base_uri": "https://localhost:8080/",
          "height": 204
        }
      },
      "source": [
        "# Compare old and new\n",
        "df[['issue_d', 'issue_d_clean']].head()"
      ],
      "execution_count": 47,
      "outputs": [
        {
          "output_type": "execute_result",
          "data": {
            "text/html": [
              "<div>\n",
              "<style scoped>\n",
              "    .dataframe tbody tr th:only-of-type {\n",
              "        vertical-align: middle;\n",
              "    }\n",
              "\n",
              "    .dataframe tbody tr th {\n",
              "        vertical-align: top;\n",
              "    }\n",
              "\n",
              "    .dataframe thead th {\n",
              "        text-align: right;\n",
              "    }\n",
              "</style>\n",
              "<table border=\"1\" class=\"dataframe\">\n",
              "  <thead>\n",
              "    <tr style=\"text-align: right;\">\n",
              "      <th></th>\n",
              "      <th>issue_d</th>\n",
              "      <th>issue_d_clean</th>\n",
              "    </tr>\n",
              "  </thead>\n",
              "  <tbody>\n",
              "    <tr>\n",
              "      <th>0</th>\n",
              "      <td>Dec-2018</td>\n",
              "      <td>2018-12-01</td>\n",
              "    </tr>\n",
              "    <tr>\n",
              "      <th>1</th>\n",
              "      <td>Dec-2018</td>\n",
              "      <td>2018-12-01</td>\n",
              "    </tr>\n",
              "    <tr>\n",
              "      <th>2</th>\n",
              "      <td>Dec-2018</td>\n",
              "      <td>2018-12-01</td>\n",
              "    </tr>\n",
              "    <tr>\n",
              "      <th>3</th>\n",
              "      <td>Dec-2018</td>\n",
              "      <td>2018-12-01</td>\n",
              "    </tr>\n",
              "    <tr>\n",
              "      <th>4</th>\n",
              "      <td>Dec-2018</td>\n",
              "      <td>2018-12-01</td>\n",
              "    </tr>\n",
              "  </tbody>\n",
              "</table>\n",
              "</div>"
            ],
            "text/plain": [
              "    issue_d issue_d_clean\n",
              "0  Dec-2018    2018-12-01\n",
              "1  Dec-2018    2018-12-01\n",
              "2  Dec-2018    2018-12-01\n",
              "3  Dec-2018    2018-12-01\n",
              "4  Dec-2018    2018-12-01"
            ]
          },
          "metadata": {
            "tags": []
          },
          "execution_count": 47
        }
      ]
    },
    {
      "cell_type": "code",
      "metadata": {
        "id": "XZuva9Qs_rFQ",
        "colab_type": "code",
        "outputId": "a8d374de-7064-4a12-e303-e0bfbd2dc36c",
        "colab": {
          "base_uri": "https://localhost:8080/",
          "height": 34
        }
      },
      "source": [
        "# Check type\n",
        "df['issue_d_clean'].dtype"
      ],
      "execution_count": 48,
      "outputs": [
        {
          "output_type": "execute_result",
          "data": {
            "text/plain": [
              "dtype('<M8[ns]')"
            ]
          },
          "metadata": {
            "tags": []
          },
          "execution_count": 48
        }
      ]
    },
    {
      "cell_type": "code",
      "metadata": {
        "id": "vHURVyah_rCz",
        "colab_type": "code",
        "colab": {}
      },
      "source": [
        "# Create some new values!\n",
        "df['year'] = df['issue_d_clean'].dt.year"
      ],
      "execution_count": 0,
      "outputs": []
    },
    {
      "cell_type": "code",
      "metadata": {
        "id": "m27c-0ga_rAS",
        "colab_type": "code",
        "outputId": "005b7d26-4a71-4e3d-83f5-ec739f37cfbd",
        "colab": {
          "base_uri": "https://localhost:8080/",
          "height": 204
        }
      },
      "source": [
        "# Compare!\n",
        "df[['issue_d_clean', 'year']].head()"
      ],
      "execution_count": 50,
      "outputs": [
        {
          "output_type": "execute_result",
          "data": {
            "text/html": [
              "<div>\n",
              "<style scoped>\n",
              "    .dataframe tbody tr th:only-of-type {\n",
              "        vertical-align: middle;\n",
              "    }\n",
              "\n",
              "    .dataframe tbody tr th {\n",
              "        vertical-align: top;\n",
              "    }\n",
              "\n",
              "    .dataframe thead th {\n",
              "        text-align: right;\n",
              "    }\n",
              "</style>\n",
              "<table border=\"1\" class=\"dataframe\">\n",
              "  <thead>\n",
              "    <tr style=\"text-align: right;\">\n",
              "      <th></th>\n",
              "      <th>issue_d_clean</th>\n",
              "      <th>year</th>\n",
              "    </tr>\n",
              "  </thead>\n",
              "  <tbody>\n",
              "    <tr>\n",
              "      <th>0</th>\n",
              "      <td>2018-12-01</td>\n",
              "      <td>2018</td>\n",
              "    </tr>\n",
              "    <tr>\n",
              "      <th>1</th>\n",
              "      <td>2018-12-01</td>\n",
              "      <td>2018</td>\n",
              "    </tr>\n",
              "    <tr>\n",
              "      <th>2</th>\n",
              "      <td>2018-12-01</td>\n",
              "      <td>2018</td>\n",
              "    </tr>\n",
              "    <tr>\n",
              "      <th>3</th>\n",
              "      <td>2018-12-01</td>\n",
              "      <td>2018</td>\n",
              "    </tr>\n",
              "    <tr>\n",
              "      <th>4</th>\n",
              "      <td>2018-12-01</td>\n",
              "      <td>2018</td>\n",
              "    </tr>\n",
              "  </tbody>\n",
              "</table>\n",
              "</div>"
            ],
            "text/plain": [
              "  issue_d_clean  year\n",
              "0    2018-12-01  2018\n",
              "1    2018-12-01  2018\n",
              "2    2018-12-01  2018\n",
              "3    2018-12-01  2018\n",
              "4    2018-12-01  2018"
            ]
          },
          "metadata": {
            "tags": []
          },
          "execution_count": 50
        }
      ]
    },
    {
      "cell_type": "code",
      "metadata": {
        "colab_type": "code",
        "outputId": "dc689da9-7277-40cf-d269-b771fe51aa10",
        "id": "qBIADT4hIzN0",
        "colab": {
          "base_uri": "https://localhost:8080/",
          "height": 34
        }
      },
      "source": [
        "df['year'].dtypes"
      ],
      "execution_count": 51,
      "outputs": [
        {
          "output_type": "execute_result",
          "data": {
            "text/plain": [
              "dtype('int64')"
            ]
          },
          "metadata": {
            "tags": []
          },
          "execution_count": 51
        }
      ]
    },
    {
      "cell_type": "markdown",
      "metadata": {
        "id": "D2yqLUsv_nQZ",
        "colab_type": "text"
      },
      "source": [
        ""
      ]
    },
    {
      "cell_type": "code",
      "metadata": {
        "id": "QBDNQfc-BjAA",
        "colab_type": "code",
        "colab": {}
      },
      "source": [
        "# Create month\n",
        "df['month'] = df['issue_d_clean'].dt.month"
      ],
      "execution_count": 0,
      "outputs": []
    },
    {
      "cell_type": "code",
      "metadata": {
        "id": "NrJv-4o_BjMy",
        "colab_type": "code",
        "outputId": "cb4b3e0f-40bc-4840-9273-e46327e52bbc",
        "colab": {
          "base_uri": "https://localhost:8080/",
          "height": 204
        }
      },
      "source": [
        "# Compare\n",
        "df[['issue_d_clean', 'month']].sample(5)"
      ],
      "execution_count": 53,
      "outputs": [
        {
          "output_type": "execute_result",
          "data": {
            "text/html": [
              "<div>\n",
              "<style scoped>\n",
              "    .dataframe tbody tr th:only-of-type {\n",
              "        vertical-align: middle;\n",
              "    }\n",
              "\n",
              "    .dataframe tbody tr th {\n",
              "        vertical-align: top;\n",
              "    }\n",
              "\n",
              "    .dataframe thead th {\n",
              "        text-align: right;\n",
              "    }\n",
              "</style>\n",
              "<table border=\"1\" class=\"dataframe\">\n",
              "  <thead>\n",
              "    <tr style=\"text-align: right;\">\n",
              "      <th></th>\n",
              "      <th>issue_d_clean</th>\n",
              "      <th>month</th>\n",
              "    </tr>\n",
              "  </thead>\n",
              "  <tbody>\n",
              "    <tr>\n",
              "      <th>93210</th>\n",
              "      <td>2018-10-01</td>\n",
              "      <td>10</td>\n",
              "    </tr>\n",
              "    <tr>\n",
              "      <th>48442</th>\n",
              "      <td>2018-11-01</td>\n",
              "      <td>11</td>\n",
              "    </tr>\n",
              "    <tr>\n",
              "      <th>121149</th>\n",
              "      <td>2018-10-01</td>\n",
              "      <td>10</td>\n",
              "    </tr>\n",
              "    <tr>\n",
              "      <th>50303</th>\n",
              "      <td>2018-11-01</td>\n",
              "      <td>11</td>\n",
              "    </tr>\n",
              "    <tr>\n",
              "      <th>15108</th>\n",
              "      <td>2018-12-01</td>\n",
              "      <td>12</td>\n",
              "    </tr>\n",
              "  </tbody>\n",
              "</table>\n",
              "</div>"
            ],
            "text/plain": [
              "       issue_d_clean  month\n",
              "93210     2018-10-01     10\n",
              "48442     2018-11-01     11\n",
              "121149    2018-10-01     10\n",
              "50303     2018-11-01     11\n",
              "15108     2018-12-01     12"
            ]
          },
          "metadata": {
            "tags": []
          },
          "execution_count": 53
        }
      ]
    },
    {
      "cell_type": "code",
      "metadata": {
        "id": "3J6rXUXwBjXb",
        "colab_type": "code",
        "colab": {}
      },
      "source": [
        "# Create weekday\n",
        "df['weekday'] = df['issue_d_clean'].dt.weekday"
      ],
      "execution_count": 0,
      "outputs": []
    },
    {
      "cell_type": "code",
      "metadata": {
        "id": "xbRPrHMfBjhe",
        "colab_type": "code",
        "outputId": "fdb129fc-441d-4044-b696-bb35465285db",
        "colab": {
          "base_uri": "https://localhost:8080/",
          "height": 235
        }
      },
      "source": [
        "# Compare\n",
        "df[['issue_d_clean', 'weekday']].sample(6)"
      ],
      "execution_count": 55,
      "outputs": [
        {
          "output_type": "execute_result",
          "data": {
            "text/html": [
              "<div>\n",
              "<style scoped>\n",
              "    .dataframe tbody tr th:only-of-type {\n",
              "        vertical-align: middle;\n",
              "    }\n",
              "\n",
              "    .dataframe tbody tr th {\n",
              "        vertical-align: top;\n",
              "    }\n",
              "\n",
              "    .dataframe thead th {\n",
              "        text-align: right;\n",
              "    }\n",
              "</style>\n",
              "<table border=\"1\" class=\"dataframe\">\n",
              "  <thead>\n",
              "    <tr style=\"text-align: right;\">\n",
              "      <th></th>\n",
              "      <th>issue_d_clean</th>\n",
              "      <th>weekday</th>\n",
              "    </tr>\n",
              "  </thead>\n",
              "  <tbody>\n",
              "    <tr>\n",
              "      <th>81287</th>\n",
              "      <td>2018-11-01</td>\n",
              "      <td>3</td>\n",
              "    </tr>\n",
              "    <tr>\n",
              "      <th>39525</th>\n",
              "      <td>2018-12-01</td>\n",
              "      <td>5</td>\n",
              "    </tr>\n",
              "    <tr>\n",
              "      <th>8297</th>\n",
              "      <td>2018-12-01</td>\n",
              "      <td>5</td>\n",
              "    </tr>\n",
              "    <tr>\n",
              "      <th>17098</th>\n",
              "      <td>2018-12-01</td>\n",
              "      <td>5</td>\n",
              "    </tr>\n",
              "    <tr>\n",
              "      <th>2785</th>\n",
              "      <td>2018-12-01</td>\n",
              "      <td>5</td>\n",
              "    </tr>\n",
              "    <tr>\n",
              "      <th>85255</th>\n",
              "      <td>2018-10-01</td>\n",
              "      <td>0</td>\n",
              "    </tr>\n",
              "  </tbody>\n",
              "</table>\n",
              "</div>"
            ],
            "text/plain": [
              "      issue_d_clean  weekday\n",
              "81287    2018-11-01        3\n",
              "39525    2018-12-01        5\n",
              "8297     2018-12-01        5\n",
              "17098    2018-12-01        5\n",
              "2785     2018-12-01        5\n",
              "85255    2018-10-01        0"
            ]
          },
          "metadata": {
            "tags": []
          },
          "execution_count": 55
        }
      ]
    },
    {
      "cell_type": "markdown",
      "metadata": {
        "id": "O-cUo0WAB6Dd",
        "colab_type": "text"
      },
      "source": [
        "Filter"
      ]
    },
    {
      "cell_type": "code",
      "metadata": {
        "id": "sULhi99cBjrC",
        "colab_type": "code",
        "outputId": "6d48ee47-e07f-4668-a548-0c74a786ed18",
        "colab": {
          "base_uri": "https://localhost:8080/",
          "height": 221
        }
      },
      "source": [
        "# Column with set of booleans?\n",
        "df['emp_title_manager']"
      ],
      "execution_count": 56,
      "outputs": [
        {
          "output_type": "execute_result",
          "data": {
            "text/plain": [
              "0         False\n",
              "1         False\n",
              "2         False\n",
              "3         False\n",
              "4         False\n",
              "          ...  \n",
              "128407    False\n",
              "128408    False\n",
              "128409    False\n",
              "128410    False\n",
              "128411     True\n",
              "Name: emp_title_manager, Length: 128412, dtype: bool"
            ]
          },
          "metadata": {
            "tags": []
          },
          "execution_count": 56
        }
      ]
    },
    {
      "cell_type": "code",
      "metadata": {
        "id": "wQIHqhZgB7GE",
        "colab_type": "code",
        "outputId": "e2d50071-2eba-4d27-ac26-b88f9def636d",
        "colab": {
          "base_uri": "https://localhost:8080/",
          "height": 646
        }
      },
      "source": [
        "# Filter that\n",
        "condition = df['emp_title_manager'] == True\n",
        "\n",
        "managers = df[condition]\n",
        "managers.head(10)"
      ],
      "execution_count": 57,
      "outputs": [
        {
          "output_type": "execute_result",
          "data": {
            "text/html": [
              "<div>\n",
              "<style scoped>\n",
              "    .dataframe tbody tr th:only-of-type {\n",
              "        vertical-align: middle;\n",
              "    }\n",
              "\n",
              "    .dataframe tbody tr th {\n",
              "        vertical-align: top;\n",
              "    }\n",
              "\n",
              "    .dataframe thead th {\n",
              "        text-align: right;\n",
              "    }\n",
              "</style>\n",
              "<table border=\"1\" class=\"dataframe\">\n",
              "  <thead>\n",
              "    <tr style=\"text-align: right;\">\n",
              "      <th></th>\n",
              "      <th>id</th>\n",
              "      <th>member_id</th>\n",
              "      <th>loan_amnt</th>\n",
              "      <th>funded_amnt</th>\n",
              "      <th>funded_amnt_inv</th>\n",
              "      <th>term</th>\n",
              "      <th>int_rate</th>\n",
              "      <th>installment</th>\n",
              "      <th>grade</th>\n",
              "      <th>sub_grade</th>\n",
              "      <th>emp_title</th>\n",
              "      <th>emp_length</th>\n",
              "      <th>home_ownership</th>\n",
              "      <th>annual_inc</th>\n",
              "      <th>verification_status</th>\n",
              "      <th>issue_d</th>\n",
              "      <th>loan_status</th>\n",
              "      <th>pymnt_plan</th>\n",
              "      <th>url</th>\n",
              "      <th>desc</th>\n",
              "      <th>purpose</th>\n",
              "      <th>title</th>\n",
              "      <th>zip_code</th>\n",
              "      <th>addr_state</th>\n",
              "      <th>dti</th>\n",
              "      <th>delinq_2yrs</th>\n",
              "      <th>earliest_cr_line</th>\n",
              "      <th>inq_last_6mths</th>\n",
              "      <th>mths_since_last_delinq</th>\n",
              "      <th>mths_since_last_record</th>\n",
              "      <th>open_acc</th>\n",
              "      <th>pub_rec</th>\n",
              "      <th>revol_bal</th>\n",
              "      <th>revol_util</th>\n",
              "      <th>total_acc</th>\n",
              "      <th>initial_list_status</th>\n",
              "      <th>out_prncp</th>\n",
              "      <th>out_prncp_inv</th>\n",
              "      <th>total_pymnt</th>\n",
              "      <th>total_pymnt_inv</th>\n",
              "      <th>total_rec_prncp</th>\n",
              "      <th>total_rec_int</th>\n",
              "      <th>total_rec_late_fee</th>\n",
              "      <th>recoveries</th>\n",
              "      <th>collection_recovery_fee</th>\n",
              "      <th>last_pymnt_d</th>\n",
              "      <th>last_pymnt_amnt</th>\n",
              "      <th>next_pymnt_d</th>\n",
              "      <th>last_credit_pull_d</th>\n",
              "      <th>collections_12_mths_ex_med</th>\n",
              "      <th>...</th>\n",
              "      <th>num_tl_op_past_12m</th>\n",
              "      <th>pct_tl_nvr_dlq</th>\n",
              "      <th>percent_bc_gt_75</th>\n",
              "      <th>pub_rec_bankruptcies</th>\n",
              "      <th>tax_liens</th>\n",
              "      <th>tot_hi_cred_lim</th>\n",
              "      <th>total_bal_ex_mort</th>\n",
              "      <th>total_bc_limit</th>\n",
              "      <th>total_il_high_credit_limit</th>\n",
              "      <th>revol_bal_joint</th>\n",
              "      <th>sec_app_earliest_cr_line</th>\n",
              "      <th>sec_app_inq_last_6mths</th>\n",
              "      <th>sec_app_mort_acc</th>\n",
              "      <th>sec_app_open_acc</th>\n",
              "      <th>sec_app_revol_util</th>\n",
              "      <th>sec_app_open_act_il</th>\n",
              "      <th>sec_app_num_rev_accts</th>\n",
              "      <th>sec_app_chargeoff_within_12_mths</th>\n",
              "      <th>sec_app_collections_12_mths_ex_med</th>\n",
              "      <th>sec_app_mths_since_last_major_derog</th>\n",
              "      <th>hardship_flag</th>\n",
              "      <th>hardship_type</th>\n",
              "      <th>hardship_reason</th>\n",
              "      <th>hardship_status</th>\n",
              "      <th>deferral_term</th>\n",
              "      <th>hardship_amount</th>\n",
              "      <th>hardship_start_date</th>\n",
              "      <th>hardship_end_date</th>\n",
              "      <th>payment_plan_start_date</th>\n",
              "      <th>hardship_length</th>\n",
              "      <th>hardship_dpd</th>\n",
              "      <th>hardship_loan_status</th>\n",
              "      <th>orig_projected_additional_accrued_interest</th>\n",
              "      <th>hardship_payoff_balance_amount</th>\n",
              "      <th>hardship_last_payment_amount</th>\n",
              "      <th>debt_settlement_flag</th>\n",
              "      <th>debt_settlement_flag_date</th>\n",
              "      <th>settlement_status</th>\n",
              "      <th>settlement_date</th>\n",
              "      <th>settlement_amount</th>\n",
              "      <th>settlement_percentage</th>\n",
              "      <th>settlement_term</th>\n",
              "      <th>int_rate_float</th>\n",
              "      <th>int_rate_double</th>\n",
              "      <th>emp_title_clean</th>\n",
              "      <th>emp_title_manager</th>\n",
              "      <th>issue_d_clean</th>\n",
              "      <th>year</th>\n",
              "      <th>month</th>\n",
              "      <th>weekday</th>\n",
              "    </tr>\n",
              "  </thead>\n",
              "  <tbody>\n",
              "    <tr>\n",
              "      <th>9</th>\n",
              "      <td>NaN</td>\n",
              "      <td>NaN</td>\n",
              "      <td>10450</td>\n",
              "      <td>10450</td>\n",
              "      <td>10450.0</td>\n",
              "      <td>36 months</td>\n",
              "      <td>18.94%</td>\n",
              "      <td>382.74</td>\n",
              "      <td>D</td>\n",
              "      <td>D2</td>\n",
              "      <td>Project Manager</td>\n",
              "      <td>10+ years</td>\n",
              "      <td>MORTGAGE</td>\n",
              "      <td>70000.0</td>\n",
              "      <td>Source Verified</td>\n",
              "      <td>Dec-2018</td>\n",
              "      <td>Current</td>\n",
              "      <td>n</td>\n",
              "      <td>NaN</td>\n",
              "      <td>NaN</td>\n",
              "      <td>debt_consolidation</td>\n",
              "      <td>Debt consolidation</td>\n",
              "      <td>371xx</td>\n",
              "      <td>TN</td>\n",
              "      <td>27.38</td>\n",
              "      <td>0</td>\n",
              "      <td>Jul-2007</td>\n",
              "      <td>0</td>\n",
              "      <td>NaN</td>\n",
              "      <td>NaN</td>\n",
              "      <td>11</td>\n",
              "      <td>0</td>\n",
              "      <td>34628</td>\n",
              "      <td>87%</td>\n",
              "      <td>24</td>\n",
              "      <td>w</td>\n",
              "      <td>8361.33</td>\n",
              "      <td>8361.33</td>\n",
              "      <td>3439.170000</td>\n",
              "      <td>3439.17</td>\n",
              "      <td>2088.67</td>\n",
              "      <td>1350.50</td>\n",
              "      <td>0.0</td>\n",
              "      <td>0.0</td>\n",
              "      <td>0.0</td>\n",
              "      <td>Oct-2019</td>\n",
              "      <td>382.74</td>\n",
              "      <td>Nov-2019</td>\n",
              "      <td>Oct-2019</td>\n",
              "      <td>0</td>\n",
              "      <td>...</td>\n",
              "      <td>1</td>\n",
              "      <td>100.0</td>\n",
              "      <td>100.0</td>\n",
              "      <td>0</td>\n",
              "      <td>0</td>\n",
              "      <td>429450</td>\n",
              "      <td>41288</td>\n",
              "      <td>11800</td>\n",
              "      <td>17500</td>\n",
              "      <td>NaN</td>\n",
              "      <td>NaN</td>\n",
              "      <td>NaN</td>\n",
              "      <td>NaN</td>\n",
              "      <td>NaN</td>\n",
              "      <td>NaN</td>\n",
              "      <td>NaN</td>\n",
              "      <td>NaN</td>\n",
              "      <td>NaN</td>\n",
              "      <td>NaN</td>\n",
              "      <td>NaN</td>\n",
              "      <td>N</td>\n",
              "      <td>NaN</td>\n",
              "      <td>NaN</td>\n",
              "      <td>NaN</td>\n",
              "      <td>NaN</td>\n",
              "      <td>NaN</td>\n",
              "      <td>NaN</td>\n",
              "      <td>NaN</td>\n",
              "      <td>NaN</td>\n",
              "      <td>NaN</td>\n",
              "      <td>NaN</td>\n",
              "      <td>NaN</td>\n",
              "      <td>NaN</td>\n",
              "      <td>NaN</td>\n",
              "      <td>NaN</td>\n",
              "      <td>N</td>\n",
              "      <td>NaN</td>\n",
              "      <td>NaN</td>\n",
              "      <td>NaN</td>\n",
              "      <td>NaN</td>\n",
              "      <td>NaN</td>\n",
              "      <td>NaN</td>\n",
              "      <td>18.94</td>\n",
              "      <td>37.88</td>\n",
              "      <td>Project Manager</td>\n",
              "      <td>True</td>\n",
              "      <td>2018-12-01</td>\n",
              "      <td>2018</td>\n",
              "      <td>12</td>\n",
              "      <td>5</td>\n",
              "    </tr>\n",
              "    <tr>\n",
              "      <th>11</th>\n",
              "      <td>NaN</td>\n",
              "      <td>NaN</td>\n",
              "      <td>15400</td>\n",
              "      <td>15400</td>\n",
              "      <td>15400.0</td>\n",
              "      <td>60 months</td>\n",
              "      <td>14.47%</td>\n",
              "      <td>362.10</td>\n",
              "      <td>C</td>\n",
              "      <td>C2</td>\n",
              "      <td>DISTRICT SALES MANAGER</td>\n",
              "      <td>3 years</td>\n",
              "      <td>MORTGAGE</td>\n",
              "      <td>110000.0</td>\n",
              "      <td>Not Verified</td>\n",
              "      <td>Dec-2018</td>\n",
              "      <td>Current</td>\n",
              "      <td>n</td>\n",
              "      <td>NaN</td>\n",
              "      <td>NaN</td>\n",
              "      <td>debt_consolidation</td>\n",
              "      <td>Debt consolidation</td>\n",
              "      <td>451xx</td>\n",
              "      <td>OH</td>\n",
              "      <td>36.55</td>\n",
              "      <td>2</td>\n",
              "      <td>Sep-1991</td>\n",
              "      <td>0</td>\n",
              "      <td>10.0</td>\n",
              "      <td>NaN</td>\n",
              "      <td>14</td>\n",
              "      <td>0</td>\n",
              "      <td>7336</td>\n",
              "      <td>22.2%</td>\n",
              "      <td>26</td>\n",
              "      <td>w</td>\n",
              "      <td>13537.12</td>\n",
              "      <td>13537.12</td>\n",
              "      <td>3602.430000</td>\n",
              "      <td>3602.43</td>\n",
              "      <td>1862.88</td>\n",
              "      <td>1739.55</td>\n",
              "      <td>0.0</td>\n",
              "      <td>0.0</td>\n",
              "      <td>0.0</td>\n",
              "      <td>Oct-2019</td>\n",
              "      <td>362.10</td>\n",
              "      <td>Nov-2019</td>\n",
              "      <td>Oct-2019</td>\n",
              "      <td>0</td>\n",
              "      <td>...</td>\n",
              "      <td>1</td>\n",
              "      <td>80.8</td>\n",
              "      <td>33.3</td>\n",
              "      <td>0</td>\n",
              "      <td>0</td>\n",
              "      <td>654296</td>\n",
              "      <td>144449</td>\n",
              "      <td>20000</td>\n",
              "      <td>177320</td>\n",
              "      <td>NaN</td>\n",
              "      <td>NaN</td>\n",
              "      <td>NaN</td>\n",
              "      <td>NaN</td>\n",
              "      <td>NaN</td>\n",
              "      <td>NaN</td>\n",
              "      <td>NaN</td>\n",
              "      <td>NaN</td>\n",
              "      <td>NaN</td>\n",
              "      <td>NaN</td>\n",
              "      <td>NaN</td>\n",
              "      <td>N</td>\n",
              "      <td>NaN</td>\n",
              "      <td>NaN</td>\n",
              "      <td>NaN</td>\n",
              "      <td>NaN</td>\n",
              "      <td>NaN</td>\n",
              "      <td>NaN</td>\n",
              "      <td>NaN</td>\n",
              "      <td>NaN</td>\n",
              "      <td>NaN</td>\n",
              "      <td>NaN</td>\n",
              "      <td>NaN</td>\n",
              "      <td>NaN</td>\n",
              "      <td>NaN</td>\n",
              "      <td>NaN</td>\n",
              "      <td>N</td>\n",
              "      <td>NaN</td>\n",
              "      <td>NaN</td>\n",
              "      <td>NaN</td>\n",
              "      <td>NaN</td>\n",
              "      <td>NaN</td>\n",
              "      <td>NaN</td>\n",
              "      <td>14.47</td>\n",
              "      <td>28.94</td>\n",
              "      <td>District Sales Manager</td>\n",
              "      <td>True</td>\n",
              "      <td>2018-12-01</td>\n",
              "      <td>2018</td>\n",
              "      <td>12</td>\n",
              "      <td>5</td>\n",
              "    </tr>\n",
              "    <tr>\n",
              "      <th>27</th>\n",
              "      <td>NaN</td>\n",
              "      <td>NaN</td>\n",
              "      <td>25000</td>\n",
              "      <td>25000</td>\n",
              "      <td>25000.0</td>\n",
              "      <td>60 months</td>\n",
              "      <td>16.14%</td>\n",
              "      <td>609.82</td>\n",
              "      <td>C</td>\n",
              "      <td>C4</td>\n",
              "      <td>Production Manager</td>\n",
              "      <td>5 years</td>\n",
              "      <td>MORTGAGE</td>\n",
              "      <td>45000.0</td>\n",
              "      <td>Not Verified</td>\n",
              "      <td>Dec-2018</td>\n",
              "      <td>Fully Paid</td>\n",
              "      <td>n</td>\n",
              "      <td>NaN</td>\n",
              "      <td>NaN</td>\n",
              "      <td>debt_consolidation</td>\n",
              "      <td>Debt consolidation</td>\n",
              "      <td>703xx</td>\n",
              "      <td>LA</td>\n",
              "      <td>37.09</td>\n",
              "      <td>0</td>\n",
              "      <td>Sep-2003</td>\n",
              "      <td>0</td>\n",
              "      <td>NaN</td>\n",
              "      <td>NaN</td>\n",
              "      <td>7</td>\n",
              "      <td>0</td>\n",
              "      <td>8901</td>\n",
              "      <td>36.8%</td>\n",
              "      <td>21</td>\n",
              "      <td>w</td>\n",
              "      <td>0.00</td>\n",
              "      <td>0.00</td>\n",
              "      <td>26653.167580</td>\n",
              "      <td>26653.17</td>\n",
              "      <td>25000.00</td>\n",
              "      <td>1653.17</td>\n",
              "      <td>0.0</td>\n",
              "      <td>0.0</td>\n",
              "      <td>0.0</td>\n",
              "      <td>Apr-2019</td>\n",
              "      <td>24857.33</td>\n",
              "      <td>NaN</td>\n",
              "      <td>May-2019</td>\n",
              "      <td>0</td>\n",
              "      <td>...</td>\n",
              "      <td>1</td>\n",
              "      <td>100.0</td>\n",
              "      <td>33.3</td>\n",
              "      <td>0</td>\n",
              "      <td>0</td>\n",
              "      <td>73683</td>\n",
              "      <td>49524</td>\n",
              "      <td>18600</td>\n",
              "      <td>49483</td>\n",
              "      <td>NaN</td>\n",
              "      <td>NaN</td>\n",
              "      <td>NaN</td>\n",
              "      <td>NaN</td>\n",
              "      <td>NaN</td>\n",
              "      <td>NaN</td>\n",
              "      <td>NaN</td>\n",
              "      <td>NaN</td>\n",
              "      <td>NaN</td>\n",
              "      <td>NaN</td>\n",
              "      <td>NaN</td>\n",
              "      <td>N</td>\n",
              "      <td>NaN</td>\n",
              "      <td>NaN</td>\n",
              "      <td>NaN</td>\n",
              "      <td>NaN</td>\n",
              "      <td>NaN</td>\n",
              "      <td>NaN</td>\n",
              "      <td>NaN</td>\n",
              "      <td>NaN</td>\n",
              "      <td>NaN</td>\n",
              "      <td>NaN</td>\n",
              "      <td>NaN</td>\n",
              "      <td>NaN</td>\n",
              "      <td>NaN</td>\n",
              "      <td>NaN</td>\n",
              "      <td>N</td>\n",
              "      <td>NaN</td>\n",
              "      <td>NaN</td>\n",
              "      <td>NaN</td>\n",
              "      <td>NaN</td>\n",
              "      <td>NaN</td>\n",
              "      <td>NaN</td>\n",
              "      <td>16.14</td>\n",
              "      <td>32.28</td>\n",
              "      <td>Production Manager</td>\n",
              "      <td>True</td>\n",
              "      <td>2018-12-01</td>\n",
              "      <td>2018</td>\n",
              "      <td>12</td>\n",
              "      <td>5</td>\n",
              "    </tr>\n",
              "    <tr>\n",
              "      <th>40</th>\n",
              "      <td>NaN</td>\n",
              "      <td>NaN</td>\n",
              "      <td>12000</td>\n",
              "      <td>12000</td>\n",
              "      <td>12000.0</td>\n",
              "      <td>36 months</td>\n",
              "      <td>16.14%</td>\n",
              "      <td>422.72</td>\n",
              "      <td>C</td>\n",
              "      <td>C4</td>\n",
              "      <td>Sales Account Manager</td>\n",
              "      <td>4 years</td>\n",
              "      <td>RENT</td>\n",
              "      <td>70000.0</td>\n",
              "      <td>Source Verified</td>\n",
              "      <td>Dec-2018</td>\n",
              "      <td>Current</td>\n",
              "      <td>n</td>\n",
              "      <td>NaN</td>\n",
              "      <td>NaN</td>\n",
              "      <td>credit_card</td>\n",
              "      <td>Credit card refinancing</td>\n",
              "      <td>333xx</td>\n",
              "      <td>FL</td>\n",
              "      <td>18.96</td>\n",
              "      <td>0</td>\n",
              "      <td>Nov-2013</td>\n",
              "      <td>0</td>\n",
              "      <td>NaN</td>\n",
              "      <td>NaN</td>\n",
              "      <td>6</td>\n",
              "      <td>0</td>\n",
              "      <td>13663</td>\n",
              "      <td>61.8%</td>\n",
              "      <td>7</td>\n",
              "      <td>w</td>\n",
              "      <td>9555.15</td>\n",
              "      <td>9555.15</td>\n",
              "      <td>3788.340000</td>\n",
              "      <td>3788.34</td>\n",
              "      <td>2444.85</td>\n",
              "      <td>1343.49</td>\n",
              "      <td>0.0</td>\n",
              "      <td>0.0</td>\n",
              "      <td>0.0</td>\n",
              "      <td>Oct-2019</td>\n",
              "      <td>422.72</td>\n",
              "      <td>Nov-2019</td>\n",
              "      <td>Oct-2019</td>\n",
              "      <td>0</td>\n",
              "      <td>...</td>\n",
              "      <td>2</td>\n",
              "      <td>100.0</td>\n",
              "      <td>66.7</td>\n",
              "      <td>0</td>\n",
              "      <td>0</td>\n",
              "      <td>56264</td>\n",
              "      <td>34470</td>\n",
              "      <td>18500</td>\n",
              "      <td>34164</td>\n",
              "      <td>NaN</td>\n",
              "      <td>NaN</td>\n",
              "      <td>NaN</td>\n",
              "      <td>NaN</td>\n",
              "      <td>NaN</td>\n",
              "      <td>NaN</td>\n",
              "      <td>NaN</td>\n",
              "      <td>NaN</td>\n",
              "      <td>NaN</td>\n",
              "      <td>NaN</td>\n",
              "      <td>NaN</td>\n",
              "      <td>N</td>\n",
              "      <td>NaN</td>\n",
              "      <td>NaN</td>\n",
              "      <td>NaN</td>\n",
              "      <td>NaN</td>\n",
              "      <td>NaN</td>\n",
              "      <td>NaN</td>\n",
              "      <td>NaN</td>\n",
              "      <td>NaN</td>\n",
              "      <td>NaN</td>\n",
              "      <td>NaN</td>\n",
              "      <td>NaN</td>\n",
              "      <td>NaN</td>\n",
              "      <td>NaN</td>\n",
              "      <td>NaN</td>\n",
              "      <td>N</td>\n",
              "      <td>NaN</td>\n",
              "      <td>NaN</td>\n",
              "      <td>NaN</td>\n",
              "      <td>NaN</td>\n",
              "      <td>NaN</td>\n",
              "      <td>NaN</td>\n",
              "      <td>16.14</td>\n",
              "      <td>32.28</td>\n",
              "      <td>Sales Account Manager</td>\n",
              "      <td>True</td>\n",
              "      <td>2018-12-01</td>\n",
              "      <td>2018</td>\n",
              "      <td>12</td>\n",
              "      <td>5</td>\n",
              "    </tr>\n",
              "    <tr>\n",
              "      <th>42</th>\n",
              "      <td>NaN</td>\n",
              "      <td>NaN</td>\n",
              "      <td>35000</td>\n",
              "      <td>35000</td>\n",
              "      <td>35000.0</td>\n",
              "      <td>60 months</td>\n",
              "      <td>12.98%</td>\n",
              "      <td>796.00</td>\n",
              "      <td>B</td>\n",
              "      <td>B5</td>\n",
              "      <td>Sr. Vice President -Risk Manager</td>\n",
              "      <td>7 years</td>\n",
              "      <td>MORTGAGE</td>\n",
              "      <td>211646.0</td>\n",
              "      <td>Source Verified</td>\n",
              "      <td>Dec-2018</td>\n",
              "      <td>Fully Paid</td>\n",
              "      <td>n</td>\n",
              "      <td>NaN</td>\n",
              "      <td>NaN</td>\n",
              "      <td>debt_consolidation</td>\n",
              "      <td>Debt consolidation</td>\n",
              "      <td>797xx</td>\n",
              "      <td>TX</td>\n",
              "      <td>15.09</td>\n",
              "      <td>0</td>\n",
              "      <td>Sep-1985</td>\n",
              "      <td>0</td>\n",
              "      <td>77.0</td>\n",
              "      <td>NaN</td>\n",
              "      <td>13</td>\n",
              "      <td>0</td>\n",
              "      <td>55944</td>\n",
              "      <td>74.9%</td>\n",
              "      <td>39</td>\n",
              "      <td>w</td>\n",
              "      <td>0.00</td>\n",
              "      <td>0.00</td>\n",
              "      <td>36266.741552</td>\n",
              "      <td>36266.74</td>\n",
              "      <td>35000.00</td>\n",
              "      <td>1266.74</td>\n",
              "      <td>0.0</td>\n",
              "      <td>0.0</td>\n",
              "      <td>0.0</td>\n",
              "      <td>Apr-2019</td>\n",
              "      <td>34712.60</td>\n",
              "      <td>NaN</td>\n",
              "      <td>Oct-2019</td>\n",
              "      <td>0</td>\n",
              "      <td>...</td>\n",
              "      <td>1</td>\n",
              "      <td>97.4</td>\n",
              "      <td>66.7</td>\n",
              "      <td>0</td>\n",
              "      <td>0</td>\n",
              "      <td>516204</td>\n",
              "      <td>82514</td>\n",
              "      <td>59700</td>\n",
              "      <td>51904</td>\n",
              "      <td>88364.0</td>\n",
              "      <td>Sep-1985</td>\n",
              "      <td>0.0</td>\n",
              "      <td>6.0</td>\n",
              "      <td>19.0</td>\n",
              "      <td>53.4</td>\n",
              "      <td>2.0</td>\n",
              "      <td>29.0</td>\n",
              "      <td>0.0</td>\n",
              "      <td>0.0</td>\n",
              "      <td>NaN</td>\n",
              "      <td>N</td>\n",
              "      <td>NaN</td>\n",
              "      <td>NaN</td>\n",
              "      <td>NaN</td>\n",
              "      <td>NaN</td>\n",
              "      <td>NaN</td>\n",
              "      <td>NaN</td>\n",
              "      <td>NaN</td>\n",
              "      <td>NaN</td>\n",
              "      <td>NaN</td>\n",
              "      <td>NaN</td>\n",
              "      <td>NaN</td>\n",
              "      <td>NaN</td>\n",
              "      <td>NaN</td>\n",
              "      <td>NaN</td>\n",
              "      <td>N</td>\n",
              "      <td>NaN</td>\n",
              "      <td>NaN</td>\n",
              "      <td>NaN</td>\n",
              "      <td>NaN</td>\n",
              "      <td>NaN</td>\n",
              "      <td>NaN</td>\n",
              "      <td>12.98</td>\n",
              "      <td>25.96</td>\n",
              "      <td>Sr. Vice President -Risk Manager</td>\n",
              "      <td>True</td>\n",
              "      <td>2018-12-01</td>\n",
              "      <td>2018</td>\n",
              "      <td>12</td>\n",
              "      <td>5</td>\n",
              "    </tr>\n",
              "    <tr>\n",
              "      <th>44</th>\n",
              "      <td>NaN</td>\n",
              "      <td>NaN</td>\n",
              "      <td>6000</td>\n",
              "      <td>6000</td>\n",
              "      <td>6000.0</td>\n",
              "      <td>36 months</td>\n",
              "      <td>6.46%</td>\n",
              "      <td>183.79</td>\n",
              "      <td>A</td>\n",
              "      <td>A1</td>\n",
              "      <td>Senior manager</td>\n",
              "      <td>3 years</td>\n",
              "      <td>RENT</td>\n",
              "      <td>27000.0</td>\n",
              "      <td>Not Verified</td>\n",
              "      <td>Dec-2018</td>\n",
              "      <td>Fully Paid</td>\n",
              "      <td>n</td>\n",
              "      <td>NaN</td>\n",
              "      <td>NaN</td>\n",
              "      <td>credit_card</td>\n",
              "      <td>Credit card refinancing</td>\n",
              "      <td>951xx</td>\n",
              "      <td>CA</td>\n",
              "      <td>7.64</td>\n",
              "      <td>0</td>\n",
              "      <td>Aug-2004</td>\n",
              "      <td>0</td>\n",
              "      <td>68.0</td>\n",
              "      <td>NaN</td>\n",
              "      <td>4</td>\n",
              "      <td>0</td>\n",
              "      <td>4601</td>\n",
              "      <td>55.4%</td>\n",
              "      <td>6</td>\n",
              "      <td>w</td>\n",
              "      <td>0.00</td>\n",
              "      <td>0.00</td>\n",
              "      <td>6240.322301</td>\n",
              "      <td>6240.32</td>\n",
              "      <td>6000.00</td>\n",
              "      <td>240.32</td>\n",
              "      <td>0.0</td>\n",
              "      <td>0.0</td>\n",
              "      <td>0.0</td>\n",
              "      <td>Aug-2019</td>\n",
              "      <td>4971.01</td>\n",
              "      <td>NaN</td>\n",
              "      <td>Oct-2019</td>\n",
              "      <td>0</td>\n",
              "      <td>...</td>\n",
              "      <td>1</td>\n",
              "      <td>83.3</td>\n",
              "      <td>33.3</td>\n",
              "      <td>0</td>\n",
              "      <td>0</td>\n",
              "      <td>8300</td>\n",
              "      <td>4601</td>\n",
              "      <td>6300</td>\n",
              "      <td>0</td>\n",
              "      <td>NaN</td>\n",
              "      <td>NaN</td>\n",
              "      <td>NaN</td>\n",
              "      <td>NaN</td>\n",
              "      <td>NaN</td>\n",
              "      <td>NaN</td>\n",
              "      <td>NaN</td>\n",
              "      <td>NaN</td>\n",
              "      <td>NaN</td>\n",
              "      <td>NaN</td>\n",
              "      <td>NaN</td>\n",
              "      <td>N</td>\n",
              "      <td>NaN</td>\n",
              "      <td>NaN</td>\n",
              "      <td>NaN</td>\n",
              "      <td>NaN</td>\n",
              "      <td>NaN</td>\n",
              "      <td>NaN</td>\n",
              "      <td>NaN</td>\n",
              "      <td>NaN</td>\n",
              "      <td>NaN</td>\n",
              "      <td>NaN</td>\n",
              "      <td>NaN</td>\n",
              "      <td>NaN</td>\n",
              "      <td>NaN</td>\n",
              "      <td>NaN</td>\n",
              "      <td>N</td>\n",
              "      <td>NaN</td>\n",
              "      <td>NaN</td>\n",
              "      <td>NaN</td>\n",
              "      <td>NaN</td>\n",
              "      <td>NaN</td>\n",
              "      <td>NaN</td>\n",
              "      <td>6.46</td>\n",
              "      <td>12.92</td>\n",
              "      <td>Senior Manager</td>\n",
              "      <td>True</td>\n",
              "      <td>2018-12-01</td>\n",
              "      <td>2018</td>\n",
              "      <td>12</td>\n",
              "      <td>5</td>\n",
              "    </tr>\n",
              "    <tr>\n",
              "      <th>46</th>\n",
              "      <td>NaN</td>\n",
              "      <td>NaN</td>\n",
              "      <td>20400</td>\n",
              "      <td>20400</td>\n",
              "      <td>20400.0</td>\n",
              "      <td>60 months</td>\n",
              "      <td>10.33%</td>\n",
              "      <td>436.76</td>\n",
              "      <td>B</td>\n",
              "      <td>B1</td>\n",
              "      <td>Bakery Manager</td>\n",
              "      <td>10+ years</td>\n",
              "      <td>MORTGAGE</td>\n",
              "      <td>140000.0</td>\n",
              "      <td>Not Verified</td>\n",
              "      <td>Dec-2018</td>\n",
              "      <td>Fully Paid</td>\n",
              "      <td>n</td>\n",
              "      <td>NaN</td>\n",
              "      <td>NaN</td>\n",
              "      <td>debt_consolidation</td>\n",
              "      <td>Debt consolidation</td>\n",
              "      <td>815xx</td>\n",
              "      <td>CO</td>\n",
              "      <td>5.04</td>\n",
              "      <td>0</td>\n",
              "      <td>Dec-1989</td>\n",
              "      <td>0</td>\n",
              "      <td>NaN</td>\n",
              "      <td>NaN</td>\n",
              "      <td>13</td>\n",
              "      <td>0</td>\n",
              "      <td>6516</td>\n",
              "      <td>9%</td>\n",
              "      <td>27</td>\n",
              "      <td>w</td>\n",
              "      <td>0.00</td>\n",
              "      <td>0.00</td>\n",
              "      <td>20913.760288</td>\n",
              "      <td>20913.76</td>\n",
              "      <td>20400.00</td>\n",
              "      <td>513.76</td>\n",
              "      <td>0.0</td>\n",
              "      <td>0.0</td>\n",
              "      <td>0.0</td>\n",
              "      <td>Apr-2019</td>\n",
              "      <td>20057.80</td>\n",
              "      <td>NaN</td>\n",
              "      <td>Sep-2019</td>\n",
              "      <td>0</td>\n",
              "      <td>...</td>\n",
              "      <td>4</td>\n",
              "      <td>100.0</td>\n",
              "      <td>0.0</td>\n",
              "      <td>0</td>\n",
              "      <td>0</td>\n",
              "      <td>504296</td>\n",
              "      <td>22077</td>\n",
              "      <td>44000</td>\n",
              "      <td>16896</td>\n",
              "      <td>7957.0</td>\n",
              "      <td>Jun-2002</td>\n",
              "      <td>0.0</td>\n",
              "      <td>4.0</td>\n",
              "      <td>9.0</td>\n",
              "      <td>13.3</td>\n",
              "      <td>1.0</td>\n",
              "      <td>9.0</td>\n",
              "      <td>0.0</td>\n",
              "      <td>0.0</td>\n",
              "      <td>NaN</td>\n",
              "      <td>N</td>\n",
              "      <td>NaN</td>\n",
              "      <td>NaN</td>\n",
              "      <td>NaN</td>\n",
              "      <td>NaN</td>\n",
              "      <td>NaN</td>\n",
              "      <td>NaN</td>\n",
              "      <td>NaN</td>\n",
              "      <td>NaN</td>\n",
              "      <td>NaN</td>\n",
              "      <td>NaN</td>\n",
              "      <td>NaN</td>\n",
              "      <td>NaN</td>\n",
              "      <td>NaN</td>\n",
              "      <td>NaN</td>\n",
              "      <td>N</td>\n",
              "      <td>NaN</td>\n",
              "      <td>NaN</td>\n",
              "      <td>NaN</td>\n",
              "      <td>NaN</td>\n",
              "      <td>NaN</td>\n",
              "      <td>NaN</td>\n",
              "      <td>10.33</td>\n",
              "      <td>20.66</td>\n",
              "      <td>Bakery Manager</td>\n",
              "      <td>True</td>\n",
              "      <td>2018-12-01</td>\n",
              "      <td>2018</td>\n",
              "      <td>12</td>\n",
              "      <td>5</td>\n",
              "    </tr>\n",
              "    <tr>\n",
              "      <th>51</th>\n",
              "      <td>NaN</td>\n",
              "      <td>NaN</td>\n",
              "      <td>32000</td>\n",
              "      <td>32000</td>\n",
              "      <td>32000.0</td>\n",
              "      <td>60 months</td>\n",
              "      <td>12.98%</td>\n",
              "      <td>727.78</td>\n",
              "      <td>B</td>\n",
              "      <td>B5</td>\n",
              "      <td>Manager</td>\n",
              "      <td>4 years</td>\n",
              "      <td>MORTGAGE</td>\n",
              "      <td>70000.0</td>\n",
              "      <td>Verified</td>\n",
              "      <td>Dec-2018</td>\n",
              "      <td>Current</td>\n",
              "      <td>n</td>\n",
              "      <td>NaN</td>\n",
              "      <td>NaN</td>\n",
              "      <td>debt_consolidation</td>\n",
              "      <td>Debt consolidation</td>\n",
              "      <td>339xx</td>\n",
              "      <td>FL</td>\n",
              "      <td>20.17</td>\n",
              "      <td>0</td>\n",
              "      <td>Aug-2001</td>\n",
              "      <td>1</td>\n",
              "      <td>25.0</td>\n",
              "      <td>NaN</td>\n",
              "      <td>15</td>\n",
              "      <td>0</td>\n",
              "      <td>4287</td>\n",
              "      <td>26.6%</td>\n",
              "      <td>36</td>\n",
              "      <td>w</td>\n",
              "      <td>27992.31</td>\n",
              "      <td>27992.31</td>\n",
              "      <td>7243.190000</td>\n",
              "      <td>7243.19</td>\n",
              "      <td>4007.69</td>\n",
              "      <td>3235.50</td>\n",
              "      <td>0.0</td>\n",
              "      <td>0.0</td>\n",
              "      <td>0.0</td>\n",
              "      <td>Oct-2019</td>\n",
              "      <td>727.78</td>\n",
              "      <td>Nov-2019</td>\n",
              "      <td>Oct-2019</td>\n",
              "      <td>0</td>\n",
              "      <td>...</td>\n",
              "      <td>2</td>\n",
              "      <td>94.4</td>\n",
              "      <td>33.3</td>\n",
              "      <td>0</td>\n",
              "      <td>0</td>\n",
              "      <td>315498</td>\n",
              "      <td>44853</td>\n",
              "      <td>8300</td>\n",
              "      <td>49168</td>\n",
              "      <td>30608.0</td>\n",
              "      <td>Nov-2006</td>\n",
              "      <td>0.0</td>\n",
              "      <td>2.0</td>\n",
              "      <td>18.0</td>\n",
              "      <td>57.8</td>\n",
              "      <td>5.0</td>\n",
              "      <td>19.0</td>\n",
              "      <td>0.0</td>\n",
              "      <td>0.0</td>\n",
              "      <td>NaN</td>\n",
              "      <td>N</td>\n",
              "      <td>NaN</td>\n",
              "      <td>NaN</td>\n",
              "      <td>NaN</td>\n",
              "      <td>NaN</td>\n",
              "      <td>NaN</td>\n",
              "      <td>NaN</td>\n",
              "      <td>NaN</td>\n",
              "      <td>NaN</td>\n",
              "      <td>NaN</td>\n",
              "      <td>NaN</td>\n",
              "      <td>NaN</td>\n",
              "      <td>NaN</td>\n",
              "      <td>NaN</td>\n",
              "      <td>NaN</td>\n",
              "      <td>N</td>\n",
              "      <td>NaN</td>\n",
              "      <td>NaN</td>\n",
              "      <td>NaN</td>\n",
              "      <td>NaN</td>\n",
              "      <td>NaN</td>\n",
              "      <td>NaN</td>\n",
              "      <td>12.98</td>\n",
              "      <td>25.96</td>\n",
              "      <td>Manager</td>\n",
              "      <td>True</td>\n",
              "      <td>2018-12-01</td>\n",
              "      <td>2018</td>\n",
              "      <td>12</td>\n",
              "      <td>5</td>\n",
              "    </tr>\n",
              "    <tr>\n",
              "      <th>58</th>\n",
              "      <td>NaN</td>\n",
              "      <td>NaN</td>\n",
              "      <td>7500</td>\n",
              "      <td>7500</td>\n",
              "      <td>7500.0</td>\n",
              "      <td>36 months</td>\n",
              "      <td>10.72%</td>\n",
              "      <td>244.55</td>\n",
              "      <td>B</td>\n",
              "      <td>B2</td>\n",
              "      <td>Program Manager</td>\n",
              "      <td>2 years</td>\n",
              "      <td>RENT</td>\n",
              "      <td>84000.0</td>\n",
              "      <td>Not Verified</td>\n",
              "      <td>Dec-2018</td>\n",
              "      <td>Current</td>\n",
              "      <td>n</td>\n",
              "      <td>NaN</td>\n",
              "      <td>NaN</td>\n",
              "      <td>debt_consolidation</td>\n",
              "      <td>Debt consolidation</td>\n",
              "      <td>600xx</td>\n",
              "      <td>IL</td>\n",
              "      <td>3.86</td>\n",
              "      <td>0</td>\n",
              "      <td>May-2005</td>\n",
              "      <td>1</td>\n",
              "      <td>NaN</td>\n",
              "      <td>114.0</td>\n",
              "      <td>9</td>\n",
              "      <td>1</td>\n",
              "      <td>2200</td>\n",
              "      <td>12.6%</td>\n",
              "      <td>17</td>\n",
              "      <td>w</td>\n",
              "      <td>5653.10</td>\n",
              "      <td>5653.10</td>\n",
              "      <td>2453.800000</td>\n",
              "      <td>2453.80</td>\n",
              "      <td>1846.90</td>\n",
              "      <td>591.90</td>\n",
              "      <td>15.0</td>\n",
              "      <td>0.0</td>\n",
              "      <td>0.0</td>\n",
              "      <td>Oct-2019</td>\n",
              "      <td>504.10</td>\n",
              "      <td>Nov-2019</td>\n",
              "      <td>Oct-2019</td>\n",
              "      <td>0</td>\n",
              "      <td>...</td>\n",
              "      <td>2</td>\n",
              "      <td>76.5</td>\n",
              "      <td>0.0</td>\n",
              "      <td>1</td>\n",
              "      <td>0</td>\n",
              "      <td>403892</td>\n",
              "      <td>20833</td>\n",
              "      <td>17400</td>\n",
              "      <td>16812</td>\n",
              "      <td>NaN</td>\n",
              "      <td>NaN</td>\n",
              "      <td>NaN</td>\n",
              "      <td>NaN</td>\n",
              "      <td>NaN</td>\n",
              "      <td>NaN</td>\n",
              "      <td>NaN</td>\n",
              "      <td>NaN</td>\n",
              "      <td>NaN</td>\n",
              "      <td>NaN</td>\n",
              "      <td>NaN</td>\n",
              "      <td>N</td>\n",
              "      <td>NaN</td>\n",
              "      <td>NaN</td>\n",
              "      <td>NaN</td>\n",
              "      <td>NaN</td>\n",
              "      <td>NaN</td>\n",
              "      <td>NaN</td>\n",
              "      <td>NaN</td>\n",
              "      <td>NaN</td>\n",
              "      <td>NaN</td>\n",
              "      <td>NaN</td>\n",
              "      <td>NaN</td>\n",
              "      <td>NaN</td>\n",
              "      <td>NaN</td>\n",
              "      <td>NaN</td>\n",
              "      <td>N</td>\n",
              "      <td>NaN</td>\n",
              "      <td>NaN</td>\n",
              "      <td>NaN</td>\n",
              "      <td>NaN</td>\n",
              "      <td>NaN</td>\n",
              "      <td>NaN</td>\n",
              "      <td>10.72</td>\n",
              "      <td>21.44</td>\n",
              "      <td>Program Manager</td>\n",
              "      <td>True</td>\n",
              "      <td>2018-12-01</td>\n",
              "      <td>2018</td>\n",
              "      <td>12</td>\n",
              "      <td>5</td>\n",
              "    </tr>\n",
              "    <tr>\n",
              "      <th>62</th>\n",
              "      <td>NaN</td>\n",
              "      <td>NaN</td>\n",
              "      <td>28000</td>\n",
              "      <td>28000</td>\n",
              "      <td>28000.0</td>\n",
              "      <td>60 months</td>\n",
              "      <td>13.56%</td>\n",
              "      <td>645.15</td>\n",
              "      <td>C</td>\n",
              "      <td>C1</td>\n",
              "      <td>Project Manager</td>\n",
              "      <td>10+ years</td>\n",
              "      <td>MORTGAGE</td>\n",
              "      <td>128500.0</td>\n",
              "      <td>Source Verified</td>\n",
              "      <td>Dec-2018</td>\n",
              "      <td>Current</td>\n",
              "      <td>n</td>\n",
              "      <td>NaN</td>\n",
              "      <td>NaN</td>\n",
              "      <td>credit_card</td>\n",
              "      <td>Credit card refinancing</td>\n",
              "      <td>760xx</td>\n",
              "      <td>TX</td>\n",
              "      <td>27.35</td>\n",
              "      <td>1</td>\n",
              "      <td>Jul-1987</td>\n",
              "      <td>0</td>\n",
              "      <td>24.0</td>\n",
              "      <td>NaN</td>\n",
              "      <td>16</td>\n",
              "      <td>0</td>\n",
              "      <td>55206</td>\n",
              "      <td>75%</td>\n",
              "      <td>31</td>\n",
              "      <td>w</td>\n",
              "      <td>24540.19</td>\n",
              "      <td>24540.19</td>\n",
              "      <td>6419.860000</td>\n",
              "      <td>6419.86</td>\n",
              "      <td>3459.81</td>\n",
              "      <td>2960.05</td>\n",
              "      <td>0.0</td>\n",
              "      <td>0.0</td>\n",
              "      <td>0.0</td>\n",
              "      <td>Oct-2019</td>\n",
              "      <td>645.15</td>\n",
              "      <td>Nov-2019</td>\n",
              "      <td>Oct-2019</td>\n",
              "      <td>0</td>\n",
              "      <td>...</td>\n",
              "      <td>1</td>\n",
              "      <td>94.0</td>\n",
              "      <td>100.0</td>\n",
              "      <td>0</td>\n",
              "      <td>0</td>\n",
              "      <td>542027</td>\n",
              "      <td>128345</td>\n",
              "      <td>55000</td>\n",
              "      <td>60331</td>\n",
              "      <td>NaN</td>\n",
              "      <td>NaN</td>\n",
              "      <td>NaN</td>\n",
              "      <td>NaN</td>\n",
              "      <td>NaN</td>\n",
              "      <td>NaN</td>\n",
              "      <td>NaN</td>\n",
              "      <td>NaN</td>\n",
              "      <td>NaN</td>\n",
              "      <td>NaN</td>\n",
              "      <td>NaN</td>\n",
              "      <td>N</td>\n",
              "      <td>NaN</td>\n",
              "      <td>NaN</td>\n",
              "      <td>NaN</td>\n",
              "      <td>NaN</td>\n",
              "      <td>NaN</td>\n",
              "      <td>NaN</td>\n",
              "      <td>NaN</td>\n",
              "      <td>NaN</td>\n",
              "      <td>NaN</td>\n",
              "      <td>NaN</td>\n",
              "      <td>NaN</td>\n",
              "      <td>NaN</td>\n",
              "      <td>NaN</td>\n",
              "      <td>NaN</td>\n",
              "      <td>N</td>\n",
              "      <td>NaN</td>\n",
              "      <td>NaN</td>\n",
              "      <td>NaN</td>\n",
              "      <td>NaN</td>\n",
              "      <td>NaN</td>\n",
              "      <td>NaN</td>\n",
              "      <td>13.56</td>\n",
              "      <td>27.12</td>\n",
              "      <td>Project Manager</td>\n",
              "      <td>True</td>\n",
              "      <td>2018-12-01</td>\n",
              "      <td>2018</td>\n",
              "      <td>12</td>\n",
              "      <td>5</td>\n",
              "    </tr>\n",
              "  </tbody>\n",
              "</table>\n",
              "<p>10 rows × 152 columns</p>\n",
              "</div>"
            ],
            "text/plain": [
              "    id  member_id  loan_amnt  funded_amnt  funded_amnt_inv        term  \\\n",
              "9  NaN        NaN      10450        10450          10450.0   36 months   \n",
              "11 NaN        NaN      15400        15400          15400.0   60 months   \n",
              "27 NaN        NaN      25000        25000          25000.0   60 months   \n",
              "40 NaN        NaN      12000        12000          12000.0   36 months   \n",
              "42 NaN        NaN      35000        35000          35000.0   60 months   \n",
              "44 NaN        NaN       6000         6000           6000.0   36 months   \n",
              "46 NaN        NaN      20400        20400          20400.0   60 months   \n",
              "51 NaN        NaN      32000        32000          32000.0   60 months   \n",
              "58 NaN        NaN       7500         7500           7500.0   36 months   \n",
              "62 NaN        NaN      28000        28000          28000.0   60 months   \n",
              "\n",
              "   int_rate  installment grade sub_grade                         emp_title  \\\n",
              "9    18.94%       382.74     D        D2                   Project Manager   \n",
              "11   14.47%       362.10     C        C2            DISTRICT SALES MANAGER   \n",
              "27   16.14%       609.82     C        C4                Production Manager   \n",
              "40   16.14%       422.72     C        C4             Sales Account Manager   \n",
              "42   12.98%       796.00     B        B5  Sr. Vice President -Risk Manager   \n",
              "44    6.46%       183.79     A        A1                    Senior manager   \n",
              "46   10.33%       436.76     B        B1                    Bakery Manager   \n",
              "51   12.98%       727.78     B        B5                           Manager   \n",
              "58   10.72%       244.55     B        B2                   Program Manager   \n",
              "62   13.56%       645.15     C        C1                   Project Manager   \n",
              "\n",
              "   emp_length home_ownership  annual_inc verification_status   issue_d  \\\n",
              "9   10+ years       MORTGAGE     70000.0     Source Verified  Dec-2018   \n",
              "11    3 years       MORTGAGE    110000.0        Not Verified  Dec-2018   \n",
              "27    5 years       MORTGAGE     45000.0        Not Verified  Dec-2018   \n",
              "40    4 years           RENT     70000.0     Source Verified  Dec-2018   \n",
              "42    7 years       MORTGAGE    211646.0     Source Verified  Dec-2018   \n",
              "44    3 years           RENT     27000.0        Not Verified  Dec-2018   \n",
              "46  10+ years       MORTGAGE    140000.0        Not Verified  Dec-2018   \n",
              "51    4 years       MORTGAGE     70000.0            Verified  Dec-2018   \n",
              "58    2 years           RENT     84000.0        Not Verified  Dec-2018   \n",
              "62  10+ years       MORTGAGE    128500.0     Source Verified  Dec-2018   \n",
              "\n",
              "   loan_status pymnt_plan  url  desc             purpose  \\\n",
              "9      Current          n  NaN   NaN  debt_consolidation   \n",
              "11     Current          n  NaN   NaN  debt_consolidation   \n",
              "27  Fully Paid          n  NaN   NaN  debt_consolidation   \n",
              "40     Current          n  NaN   NaN         credit_card   \n",
              "42  Fully Paid          n  NaN   NaN  debt_consolidation   \n",
              "44  Fully Paid          n  NaN   NaN         credit_card   \n",
              "46  Fully Paid          n  NaN   NaN  debt_consolidation   \n",
              "51     Current          n  NaN   NaN  debt_consolidation   \n",
              "58     Current          n  NaN   NaN  debt_consolidation   \n",
              "62     Current          n  NaN   NaN         credit_card   \n",
              "\n",
              "                      title zip_code addr_state    dti  delinq_2yrs  \\\n",
              "9        Debt consolidation    371xx         TN  27.38            0   \n",
              "11       Debt consolidation    451xx         OH  36.55            2   \n",
              "27       Debt consolidation    703xx         LA  37.09            0   \n",
              "40  Credit card refinancing    333xx         FL  18.96            0   \n",
              "42       Debt consolidation    797xx         TX  15.09            0   \n",
              "44  Credit card refinancing    951xx         CA   7.64            0   \n",
              "46       Debt consolidation    815xx         CO   5.04            0   \n",
              "51       Debt consolidation    339xx         FL  20.17            0   \n",
              "58       Debt consolidation    600xx         IL   3.86            0   \n",
              "62  Credit card refinancing    760xx         TX  27.35            1   \n",
              "\n",
              "   earliest_cr_line  inq_last_6mths  mths_since_last_delinq  \\\n",
              "9          Jul-2007               0                     NaN   \n",
              "11         Sep-1991               0                    10.0   \n",
              "27         Sep-2003               0                     NaN   \n",
              "40         Nov-2013               0                     NaN   \n",
              "42         Sep-1985               0                    77.0   \n",
              "44         Aug-2004               0                    68.0   \n",
              "46         Dec-1989               0                     NaN   \n",
              "51         Aug-2001               1                    25.0   \n",
              "58         May-2005               1                     NaN   \n",
              "62         Jul-1987               0                    24.0   \n",
              "\n",
              "    mths_since_last_record  open_acc  pub_rec  revol_bal revol_util  \\\n",
              "9                      NaN        11        0      34628        87%   \n",
              "11                     NaN        14        0       7336      22.2%   \n",
              "27                     NaN         7        0       8901      36.8%   \n",
              "40                     NaN         6        0      13663      61.8%   \n",
              "42                     NaN        13        0      55944      74.9%   \n",
              "44                     NaN         4        0       4601      55.4%   \n",
              "46                     NaN        13        0       6516         9%   \n",
              "51                     NaN        15        0       4287      26.6%   \n",
              "58                   114.0         9        1       2200      12.6%   \n",
              "62                     NaN        16        0      55206        75%   \n",
              "\n",
              "    total_acc initial_list_status  out_prncp  out_prncp_inv   total_pymnt  \\\n",
              "9          24                   w    8361.33        8361.33   3439.170000   \n",
              "11         26                   w   13537.12       13537.12   3602.430000   \n",
              "27         21                   w       0.00           0.00  26653.167580   \n",
              "40          7                   w    9555.15        9555.15   3788.340000   \n",
              "42         39                   w       0.00           0.00  36266.741552   \n",
              "44          6                   w       0.00           0.00   6240.322301   \n",
              "46         27                   w       0.00           0.00  20913.760288   \n",
              "51         36                   w   27992.31       27992.31   7243.190000   \n",
              "58         17                   w    5653.10        5653.10   2453.800000   \n",
              "62         31                   w   24540.19       24540.19   6419.860000   \n",
              "\n",
              "    total_pymnt_inv  total_rec_prncp  total_rec_int  total_rec_late_fee  \\\n",
              "9           3439.17          2088.67        1350.50                 0.0   \n",
              "11          3602.43          1862.88        1739.55                 0.0   \n",
              "27         26653.17         25000.00        1653.17                 0.0   \n",
              "40          3788.34          2444.85        1343.49                 0.0   \n",
              "42         36266.74         35000.00        1266.74                 0.0   \n",
              "44          6240.32          6000.00         240.32                 0.0   \n",
              "46         20913.76         20400.00         513.76                 0.0   \n",
              "51          7243.19          4007.69        3235.50                 0.0   \n",
              "58          2453.80          1846.90         591.90                15.0   \n",
              "62          6419.86          3459.81        2960.05                 0.0   \n",
              "\n",
              "    recoveries  collection_recovery_fee last_pymnt_d  last_pymnt_amnt  \\\n",
              "9          0.0                      0.0     Oct-2019           382.74   \n",
              "11         0.0                      0.0     Oct-2019           362.10   \n",
              "27         0.0                      0.0     Apr-2019         24857.33   \n",
              "40         0.0                      0.0     Oct-2019           422.72   \n",
              "42         0.0                      0.0     Apr-2019         34712.60   \n",
              "44         0.0                      0.0     Aug-2019          4971.01   \n",
              "46         0.0                      0.0     Apr-2019         20057.80   \n",
              "51         0.0                      0.0     Oct-2019           727.78   \n",
              "58         0.0                      0.0     Oct-2019           504.10   \n",
              "62         0.0                      0.0     Oct-2019           645.15   \n",
              "\n",
              "   next_pymnt_d last_credit_pull_d  collections_12_mths_ex_med  ...  \\\n",
              "9      Nov-2019           Oct-2019                           0  ...   \n",
              "11     Nov-2019           Oct-2019                           0  ...   \n",
              "27          NaN           May-2019                           0  ...   \n",
              "40     Nov-2019           Oct-2019                           0  ...   \n",
              "42          NaN           Oct-2019                           0  ...   \n",
              "44          NaN           Oct-2019                           0  ...   \n",
              "46          NaN           Sep-2019                           0  ...   \n",
              "51     Nov-2019           Oct-2019                           0  ...   \n",
              "58     Nov-2019           Oct-2019                           0  ...   \n",
              "62     Nov-2019           Oct-2019                           0  ...   \n",
              "\n",
              "    num_tl_op_past_12m  pct_tl_nvr_dlq percent_bc_gt_75  pub_rec_bankruptcies  \\\n",
              "9                    1           100.0            100.0                     0   \n",
              "11                   1            80.8             33.3                     0   \n",
              "27                   1           100.0             33.3                     0   \n",
              "40                   2           100.0             66.7                     0   \n",
              "42                   1            97.4             66.7                     0   \n",
              "44                   1            83.3             33.3                     0   \n",
              "46                   4           100.0              0.0                     0   \n",
              "51                   2            94.4             33.3                     0   \n",
              "58                   2            76.5              0.0                     1   \n",
              "62                   1            94.0            100.0                     0   \n",
              "\n",
              "    tax_liens tot_hi_cred_lim  total_bal_ex_mort  total_bc_limit  \\\n",
              "9           0          429450              41288           11800   \n",
              "11          0          654296             144449           20000   \n",
              "27          0           73683              49524           18600   \n",
              "40          0           56264              34470           18500   \n",
              "42          0          516204              82514           59700   \n",
              "44          0            8300               4601            6300   \n",
              "46          0          504296              22077           44000   \n",
              "51          0          315498              44853            8300   \n",
              "58          0          403892              20833           17400   \n",
              "62          0          542027             128345           55000   \n",
              "\n",
              "    total_il_high_credit_limit  revol_bal_joint  sec_app_earliest_cr_line  \\\n",
              "9                        17500              NaN                       NaN   \n",
              "11                      177320              NaN                       NaN   \n",
              "27                       49483              NaN                       NaN   \n",
              "40                       34164              NaN                       NaN   \n",
              "42                       51904          88364.0                  Sep-1985   \n",
              "44                           0              NaN                       NaN   \n",
              "46                       16896           7957.0                  Jun-2002   \n",
              "51                       49168          30608.0                  Nov-2006   \n",
              "58                       16812              NaN                       NaN   \n",
              "62                       60331              NaN                       NaN   \n",
              "\n",
              "    sec_app_inq_last_6mths  sec_app_mort_acc  sec_app_open_acc  \\\n",
              "9                      NaN               NaN               NaN   \n",
              "11                     NaN               NaN               NaN   \n",
              "27                     NaN               NaN               NaN   \n",
              "40                     NaN               NaN               NaN   \n",
              "42                     0.0               6.0              19.0   \n",
              "44                     NaN               NaN               NaN   \n",
              "46                     0.0               4.0               9.0   \n",
              "51                     0.0               2.0              18.0   \n",
              "58                     NaN               NaN               NaN   \n",
              "62                     NaN               NaN               NaN   \n",
              "\n",
              "    sec_app_revol_util  sec_app_open_act_il  sec_app_num_rev_accts  \\\n",
              "9                  NaN                  NaN                    NaN   \n",
              "11                 NaN                  NaN                    NaN   \n",
              "27                 NaN                  NaN                    NaN   \n",
              "40                 NaN                  NaN                    NaN   \n",
              "42                53.4                  2.0                   29.0   \n",
              "44                 NaN                  NaN                    NaN   \n",
              "46                13.3                  1.0                    9.0   \n",
              "51                57.8                  5.0                   19.0   \n",
              "58                 NaN                  NaN                    NaN   \n",
              "62                 NaN                  NaN                    NaN   \n",
              "\n",
              "    sec_app_chargeoff_within_12_mths  sec_app_collections_12_mths_ex_med  \\\n",
              "9                                NaN                                 NaN   \n",
              "11                               NaN                                 NaN   \n",
              "27                               NaN                                 NaN   \n",
              "40                               NaN                                 NaN   \n",
              "42                               0.0                                 0.0   \n",
              "44                               NaN                                 NaN   \n",
              "46                               0.0                                 0.0   \n",
              "51                               0.0                                 0.0   \n",
              "58                               NaN                                 NaN   \n",
              "62                               NaN                                 NaN   \n",
              "\n",
              "    sec_app_mths_since_last_major_derog  hardship_flag  hardship_type  \\\n",
              "9                                   NaN              N            NaN   \n",
              "11                                  NaN              N            NaN   \n",
              "27                                  NaN              N            NaN   \n",
              "40                                  NaN              N            NaN   \n",
              "42                                  NaN              N            NaN   \n",
              "44                                  NaN              N            NaN   \n",
              "46                                  NaN              N            NaN   \n",
              "51                                  NaN              N            NaN   \n",
              "58                                  NaN              N            NaN   \n",
              "62                                  NaN              N            NaN   \n",
              "\n",
              "    hardship_reason  hardship_status  deferral_term  hardship_amount  \\\n",
              "9               NaN              NaN            NaN              NaN   \n",
              "11              NaN              NaN            NaN              NaN   \n",
              "27              NaN              NaN            NaN              NaN   \n",
              "40              NaN              NaN            NaN              NaN   \n",
              "42              NaN              NaN            NaN              NaN   \n",
              "44              NaN              NaN            NaN              NaN   \n",
              "46              NaN              NaN            NaN              NaN   \n",
              "51              NaN              NaN            NaN              NaN   \n",
              "58              NaN              NaN            NaN              NaN   \n",
              "62              NaN              NaN            NaN              NaN   \n",
              "\n",
              "    hardship_start_date  hardship_end_date  payment_plan_start_date  \\\n",
              "9                   NaN                NaN                      NaN   \n",
              "11                  NaN                NaN                      NaN   \n",
              "27                  NaN                NaN                      NaN   \n",
              "40                  NaN                NaN                      NaN   \n",
              "42                  NaN                NaN                      NaN   \n",
              "44                  NaN                NaN                      NaN   \n",
              "46                  NaN                NaN                      NaN   \n",
              "51                  NaN                NaN                      NaN   \n",
              "58                  NaN                NaN                      NaN   \n",
              "62                  NaN                NaN                      NaN   \n",
              "\n",
              "    hardship_length  hardship_dpd  hardship_loan_status  \\\n",
              "9               NaN           NaN                   NaN   \n",
              "11              NaN           NaN                   NaN   \n",
              "27              NaN           NaN                   NaN   \n",
              "40              NaN           NaN                   NaN   \n",
              "42              NaN           NaN                   NaN   \n",
              "44              NaN           NaN                   NaN   \n",
              "46              NaN           NaN                   NaN   \n",
              "51              NaN           NaN                   NaN   \n",
              "58              NaN           NaN                   NaN   \n",
              "62              NaN           NaN                   NaN   \n",
              "\n",
              "    orig_projected_additional_accrued_interest  \\\n",
              "9                                          NaN   \n",
              "11                                         NaN   \n",
              "27                                         NaN   \n",
              "40                                         NaN   \n",
              "42                                         NaN   \n",
              "44                                         NaN   \n",
              "46                                         NaN   \n",
              "51                                         NaN   \n",
              "58                                         NaN   \n",
              "62                                         NaN   \n",
              "\n",
              "    hardship_payoff_balance_amount  hardship_last_payment_amount  \\\n",
              "9                              NaN                           NaN   \n",
              "11                             NaN                           NaN   \n",
              "27                             NaN                           NaN   \n",
              "40                             NaN                           NaN   \n",
              "42                             NaN                           NaN   \n",
              "44                             NaN                           NaN   \n",
              "46                             NaN                           NaN   \n",
              "51                             NaN                           NaN   \n",
              "58                             NaN                           NaN   \n",
              "62                             NaN                           NaN   \n",
              "\n",
              "    debt_settlement_flag  debt_settlement_flag_date  settlement_status  \\\n",
              "9                      N                        NaN                NaN   \n",
              "11                     N                        NaN                NaN   \n",
              "27                     N                        NaN                NaN   \n",
              "40                     N                        NaN                NaN   \n",
              "42                     N                        NaN                NaN   \n",
              "44                     N                        NaN                NaN   \n",
              "46                     N                        NaN                NaN   \n",
              "51                     N                        NaN                NaN   \n",
              "58                     N                        NaN                NaN   \n",
              "62                     N                        NaN                NaN   \n",
              "\n",
              "    settlement_date  settlement_amount  settlement_percentage  \\\n",
              "9               NaN                NaN                    NaN   \n",
              "11              NaN                NaN                    NaN   \n",
              "27              NaN                NaN                    NaN   \n",
              "40              NaN                NaN                    NaN   \n",
              "42              NaN                NaN                    NaN   \n",
              "44              NaN                NaN                    NaN   \n",
              "46              NaN                NaN                    NaN   \n",
              "51              NaN                NaN                    NaN   \n",
              "58              NaN                NaN                    NaN   \n",
              "62              NaN                NaN                    NaN   \n",
              "\n",
              "    settlement_term  int_rate_float  int_rate_double  \\\n",
              "9               NaN           18.94            37.88   \n",
              "11              NaN           14.47            28.94   \n",
              "27              NaN           16.14            32.28   \n",
              "40              NaN           16.14            32.28   \n",
              "42              NaN           12.98            25.96   \n",
              "44              NaN            6.46            12.92   \n",
              "46              NaN           10.33            20.66   \n",
              "51              NaN           12.98            25.96   \n",
              "58              NaN           10.72            21.44   \n",
              "62              NaN           13.56            27.12   \n",
              "\n",
              "                     emp_title_clean  emp_title_manager  issue_d_clean  year  \\\n",
              "9                    Project Manager               True     2018-12-01  2018   \n",
              "11            District Sales Manager               True     2018-12-01  2018   \n",
              "27                Production Manager               True     2018-12-01  2018   \n",
              "40             Sales Account Manager               True     2018-12-01  2018   \n",
              "42  Sr. Vice President -Risk Manager               True     2018-12-01  2018   \n",
              "44                    Senior Manager               True     2018-12-01  2018   \n",
              "46                    Bakery Manager               True     2018-12-01  2018   \n",
              "51                           Manager               True     2018-12-01  2018   \n",
              "58                   Program Manager               True     2018-12-01  2018   \n",
              "62                   Project Manager               True     2018-12-01  2018   \n",
              "\n",
              "    month  weekday  \n",
              "9      12        5  \n",
              "11     12        5  \n",
              "27     12        5  \n",
              "40     12        5  \n",
              "42     12        5  \n",
              "44     12        5  \n",
              "46     12        5  \n",
              "51     12        5  \n",
              "58     12        5  \n",
              "62     12        5  \n",
              "\n",
              "[10 rows x 152 columns]"
            ]
          },
          "metadata": {
            "tags": []
          },
          "execution_count": 57
        }
      ]
    },
    {
      "cell_type": "code",
      "metadata": {
        "id": "7zT7T26eCeII",
        "colab_type": "code",
        "colab": {}
      },
      "source": [
        ""
      ],
      "execution_count": 0,
      "outputs": []
    },
    {
      "cell_type": "code",
      "metadata": {
        "id": "IeMz3v74B7Ot",
        "colab_type": "code",
        "outputId": "4cee8782-2d10-46c1-ade8-8d32b54e0f81",
        "colab": {
          "base_uri": "https://localhost:8080/",
          "height": 221
        }
      },
      "source": [
        "# Let's put together two filters at once!\n",
        "(df['emp_title_manager'] == False) & (df['home_ownership'] == 'OWN')"
      ],
      "execution_count": 58,
      "outputs": [
        {
          "output_type": "execute_result",
          "data": {
            "text/plain": [
              "0         False\n",
              "1         False\n",
              "2         False\n",
              "3         False\n",
              "4         False\n",
              "          ...  \n",
              "128407    False\n",
              "128408    False\n",
              "128409    False\n",
              "128410    False\n",
              "128411    False\n",
              "Length: 128412, dtype: bool"
            ]
          },
          "metadata": {
            "tags": []
          },
          "execution_count": 58
        }
      ]
    },
    {
      "cell_type": "code",
      "metadata": {
        "id": "GtBzNmPmB7T8",
        "colab_type": "code",
        "outputId": "cb3e2060-60d7-4c11-e9e7-66d065974859",
        "colab": {
          "base_uri": "https://localhost:8080/",
          "height": 338
        }
      },
      "source": [
        "# Apply to dataframe\n",
        "subordinates = df[(df['emp_title_manager'] == False) & (df['home_ownership'] == 'OWN')]\n",
        "\n",
        "subordinates.head()"
      ],
      "execution_count": 59,
      "outputs": [
        {
          "output_type": "execute_result",
          "data": {
            "text/html": [
              "<div>\n",
              "<style scoped>\n",
              "    .dataframe tbody tr th:only-of-type {\n",
              "        vertical-align: middle;\n",
              "    }\n",
              "\n",
              "    .dataframe tbody tr th {\n",
              "        vertical-align: top;\n",
              "    }\n",
              "\n",
              "    .dataframe thead th {\n",
              "        text-align: right;\n",
              "    }\n",
              "</style>\n",
              "<table border=\"1\" class=\"dataframe\">\n",
              "  <thead>\n",
              "    <tr style=\"text-align: right;\">\n",
              "      <th></th>\n",
              "      <th>id</th>\n",
              "      <th>member_id</th>\n",
              "      <th>loan_amnt</th>\n",
              "      <th>funded_amnt</th>\n",
              "      <th>funded_amnt_inv</th>\n",
              "      <th>term</th>\n",
              "      <th>int_rate</th>\n",
              "      <th>installment</th>\n",
              "      <th>grade</th>\n",
              "      <th>sub_grade</th>\n",
              "      <th>emp_title</th>\n",
              "      <th>emp_length</th>\n",
              "      <th>home_ownership</th>\n",
              "      <th>annual_inc</th>\n",
              "      <th>verification_status</th>\n",
              "      <th>issue_d</th>\n",
              "      <th>loan_status</th>\n",
              "      <th>pymnt_plan</th>\n",
              "      <th>url</th>\n",
              "      <th>desc</th>\n",
              "      <th>purpose</th>\n",
              "      <th>title</th>\n",
              "      <th>zip_code</th>\n",
              "      <th>addr_state</th>\n",
              "      <th>dti</th>\n",
              "      <th>delinq_2yrs</th>\n",
              "      <th>earliest_cr_line</th>\n",
              "      <th>inq_last_6mths</th>\n",
              "      <th>mths_since_last_delinq</th>\n",
              "      <th>mths_since_last_record</th>\n",
              "      <th>open_acc</th>\n",
              "      <th>pub_rec</th>\n",
              "      <th>revol_bal</th>\n",
              "      <th>revol_util</th>\n",
              "      <th>total_acc</th>\n",
              "      <th>initial_list_status</th>\n",
              "      <th>out_prncp</th>\n",
              "      <th>out_prncp_inv</th>\n",
              "      <th>total_pymnt</th>\n",
              "      <th>total_pymnt_inv</th>\n",
              "      <th>total_rec_prncp</th>\n",
              "      <th>total_rec_int</th>\n",
              "      <th>total_rec_late_fee</th>\n",
              "      <th>recoveries</th>\n",
              "      <th>collection_recovery_fee</th>\n",
              "      <th>last_pymnt_d</th>\n",
              "      <th>last_pymnt_amnt</th>\n",
              "      <th>next_pymnt_d</th>\n",
              "      <th>last_credit_pull_d</th>\n",
              "      <th>collections_12_mths_ex_med</th>\n",
              "      <th>...</th>\n",
              "      <th>num_tl_op_past_12m</th>\n",
              "      <th>pct_tl_nvr_dlq</th>\n",
              "      <th>percent_bc_gt_75</th>\n",
              "      <th>pub_rec_bankruptcies</th>\n",
              "      <th>tax_liens</th>\n",
              "      <th>tot_hi_cred_lim</th>\n",
              "      <th>total_bal_ex_mort</th>\n",
              "      <th>total_bc_limit</th>\n",
              "      <th>total_il_high_credit_limit</th>\n",
              "      <th>revol_bal_joint</th>\n",
              "      <th>sec_app_earliest_cr_line</th>\n",
              "      <th>sec_app_inq_last_6mths</th>\n",
              "      <th>sec_app_mort_acc</th>\n",
              "      <th>sec_app_open_acc</th>\n",
              "      <th>sec_app_revol_util</th>\n",
              "      <th>sec_app_open_act_il</th>\n",
              "      <th>sec_app_num_rev_accts</th>\n",
              "      <th>sec_app_chargeoff_within_12_mths</th>\n",
              "      <th>sec_app_collections_12_mths_ex_med</th>\n",
              "      <th>sec_app_mths_since_last_major_derog</th>\n",
              "      <th>hardship_flag</th>\n",
              "      <th>hardship_type</th>\n",
              "      <th>hardship_reason</th>\n",
              "      <th>hardship_status</th>\n",
              "      <th>deferral_term</th>\n",
              "      <th>hardship_amount</th>\n",
              "      <th>hardship_start_date</th>\n",
              "      <th>hardship_end_date</th>\n",
              "      <th>payment_plan_start_date</th>\n",
              "      <th>hardship_length</th>\n",
              "      <th>hardship_dpd</th>\n",
              "      <th>hardship_loan_status</th>\n",
              "      <th>orig_projected_additional_accrued_interest</th>\n",
              "      <th>hardship_payoff_balance_amount</th>\n",
              "      <th>hardship_last_payment_amount</th>\n",
              "      <th>debt_settlement_flag</th>\n",
              "      <th>debt_settlement_flag_date</th>\n",
              "      <th>settlement_status</th>\n",
              "      <th>settlement_date</th>\n",
              "      <th>settlement_amount</th>\n",
              "      <th>settlement_percentage</th>\n",
              "      <th>settlement_term</th>\n",
              "      <th>int_rate_float</th>\n",
              "      <th>int_rate_double</th>\n",
              "      <th>emp_title_clean</th>\n",
              "      <th>emp_title_manager</th>\n",
              "      <th>issue_d_clean</th>\n",
              "      <th>year</th>\n",
              "      <th>month</th>\n",
              "      <th>weekday</th>\n",
              "    </tr>\n",
              "  </thead>\n",
              "  <tbody>\n",
              "    <tr>\n",
              "      <th>24</th>\n",
              "      <td>NaN</td>\n",
              "      <td>NaN</td>\n",
              "      <td>30000</td>\n",
              "      <td>30000</td>\n",
              "      <td>30000.0</td>\n",
              "      <td>60 months</td>\n",
              "      <td>26.31%</td>\n",
              "      <td>903.73</td>\n",
              "      <td>E</td>\n",
              "      <td>E4</td>\n",
              "      <td>Casino Host</td>\n",
              "      <td>10+ years</td>\n",
              "      <td>OWN</td>\n",
              "      <td>62000.0</td>\n",
              "      <td>Source Verified</td>\n",
              "      <td>Dec-2018</td>\n",
              "      <td>Charged Off</td>\n",
              "      <td>n</td>\n",
              "      <td>NaN</td>\n",
              "      <td>NaN</td>\n",
              "      <td>debt_consolidation</td>\n",
              "      <td>Debt consolidation</td>\n",
              "      <td>920xx</td>\n",
              "      <td>CA</td>\n",
              "      <td>37.24</td>\n",
              "      <td>0</td>\n",
              "      <td>Oct-2007</td>\n",
              "      <td>0</td>\n",
              "      <td>NaN</td>\n",
              "      <td>86.0</td>\n",
              "      <td>15</td>\n",
              "      <td>1</td>\n",
              "      <td>18890</td>\n",
              "      <td>39.8%</td>\n",
              "      <td>36</td>\n",
              "      <td>w</td>\n",
              "      <td>0.00</td>\n",
              "      <td>0.00</td>\n",
              "      <td>2645.41</td>\n",
              "      <td>2645.41</td>\n",
              "      <td>754.24</td>\n",
              "      <td>1891.17</td>\n",
              "      <td>0.0</td>\n",
              "      <td>0.0</td>\n",
              "      <td>0.0</td>\n",
              "      <td>Apr-2019</td>\n",
              "      <td>903.73</td>\n",
              "      <td>NaN</td>\n",
              "      <td>Oct-2019</td>\n",
              "      <td>0</td>\n",
              "      <td>...</td>\n",
              "      <td>1</td>\n",
              "      <td>100.0</td>\n",
              "      <td>14.3</td>\n",
              "      <td>1</td>\n",
              "      <td>0</td>\n",
              "      <td>138354</td>\n",
              "      <td>104590</td>\n",
              "      <td>36400</td>\n",
              "      <td>90854</td>\n",
              "      <td>NaN</td>\n",
              "      <td>NaN</td>\n",
              "      <td>NaN</td>\n",
              "      <td>NaN</td>\n",
              "      <td>NaN</td>\n",
              "      <td>NaN</td>\n",
              "      <td>NaN</td>\n",
              "      <td>NaN</td>\n",
              "      <td>NaN</td>\n",
              "      <td>NaN</td>\n",
              "      <td>NaN</td>\n",
              "      <td>N</td>\n",
              "      <td>NaN</td>\n",
              "      <td>NaN</td>\n",
              "      <td>NaN</td>\n",
              "      <td>NaN</td>\n",
              "      <td>NaN</td>\n",
              "      <td>NaN</td>\n",
              "      <td>NaN</td>\n",
              "      <td>NaN</td>\n",
              "      <td>NaN</td>\n",
              "      <td>NaN</td>\n",
              "      <td>NaN</td>\n",
              "      <td>NaN</td>\n",
              "      <td>NaN</td>\n",
              "      <td>NaN</td>\n",
              "      <td>N</td>\n",
              "      <td>NaN</td>\n",
              "      <td>NaN</td>\n",
              "      <td>NaN</td>\n",
              "      <td>NaN</td>\n",
              "      <td>NaN</td>\n",
              "      <td>NaN</td>\n",
              "      <td>26.31</td>\n",
              "      <td>52.62</td>\n",
              "      <td>Casino Host</td>\n",
              "      <td>False</td>\n",
              "      <td>2018-12-01</td>\n",
              "      <td>2018</td>\n",
              "      <td>12</td>\n",
              "      <td>5</td>\n",
              "    </tr>\n",
              "    <tr>\n",
              "      <th>41</th>\n",
              "      <td>NaN</td>\n",
              "      <td>NaN</td>\n",
              "      <td>1200</td>\n",
              "      <td>1200</td>\n",
              "      <td>1200.0</td>\n",
              "      <td>36 months</td>\n",
              "      <td>17.97%</td>\n",
              "      <td>43.37</td>\n",
              "      <td>D</td>\n",
              "      <td>D1</td>\n",
              "      <td>Haz Mat S/R</td>\n",
              "      <td>10+ years</td>\n",
              "      <td>OWN</td>\n",
              "      <td>52000.0</td>\n",
              "      <td>Not Verified</td>\n",
              "      <td>Dec-2018</td>\n",
              "      <td>Current</td>\n",
              "      <td>n</td>\n",
              "      <td>NaN</td>\n",
              "      <td>NaN</td>\n",
              "      <td>vacation</td>\n",
              "      <td>Vacation</td>\n",
              "      <td>605xx</td>\n",
              "      <td>IL</td>\n",
              "      <td>25.61</td>\n",
              "      <td>0</td>\n",
              "      <td>Feb-1991</td>\n",
              "      <td>2</td>\n",
              "      <td>NaN</td>\n",
              "      <td>NaN</td>\n",
              "      <td>14</td>\n",
              "      <td>0</td>\n",
              "      <td>18197</td>\n",
              "      <td>48.3%</td>\n",
              "      <td>24</td>\n",
              "      <td>w</td>\n",
              "      <td>928.18</td>\n",
              "      <td>928.18</td>\n",
              "      <td>431.90</td>\n",
              "      <td>431.90</td>\n",
              "      <td>271.82</td>\n",
              "      <td>160.08</td>\n",
              "      <td>0.0</td>\n",
              "      <td>0.0</td>\n",
              "      <td>0.0</td>\n",
              "      <td>Oct-2019</td>\n",
              "      <td>43.37</td>\n",
              "      <td>Nov-2019</td>\n",
              "      <td>Oct-2019</td>\n",
              "      <td>0</td>\n",
              "      <td>...</td>\n",
              "      <td>3</td>\n",
              "      <td>100.0</td>\n",
              "      <td>66.7</td>\n",
              "      <td>0</td>\n",
              "      <td>0</td>\n",
              "      <td>50041</td>\n",
              "      <td>29964</td>\n",
              "      <td>15700</td>\n",
              "      <td>12341</td>\n",
              "      <td>NaN</td>\n",
              "      <td>NaN</td>\n",
              "      <td>NaN</td>\n",
              "      <td>NaN</td>\n",
              "      <td>NaN</td>\n",
              "      <td>NaN</td>\n",
              "      <td>NaN</td>\n",
              "      <td>NaN</td>\n",
              "      <td>NaN</td>\n",
              "      <td>NaN</td>\n",
              "      <td>NaN</td>\n",
              "      <td>N</td>\n",
              "      <td>NaN</td>\n",
              "      <td>NaN</td>\n",
              "      <td>NaN</td>\n",
              "      <td>NaN</td>\n",
              "      <td>NaN</td>\n",
              "      <td>NaN</td>\n",
              "      <td>NaN</td>\n",
              "      <td>NaN</td>\n",
              "      <td>NaN</td>\n",
              "      <td>NaN</td>\n",
              "      <td>NaN</td>\n",
              "      <td>NaN</td>\n",
              "      <td>NaN</td>\n",
              "      <td>NaN</td>\n",
              "      <td>N</td>\n",
              "      <td>NaN</td>\n",
              "      <td>NaN</td>\n",
              "      <td>NaN</td>\n",
              "      <td>NaN</td>\n",
              "      <td>NaN</td>\n",
              "      <td>NaN</td>\n",
              "      <td>17.97</td>\n",
              "      <td>35.94</td>\n",
              "      <td>Haz Mat S/R</td>\n",
              "      <td>False</td>\n",
              "      <td>2018-12-01</td>\n",
              "      <td>2018</td>\n",
              "      <td>12</td>\n",
              "      <td>5</td>\n",
              "    </tr>\n",
              "    <tr>\n",
              "      <th>47</th>\n",
              "      <td>NaN</td>\n",
              "      <td>NaN</td>\n",
              "      <td>20000</td>\n",
              "      <td>20000</td>\n",
              "      <td>20000.0</td>\n",
              "      <td>36 months</td>\n",
              "      <td>14.47%</td>\n",
              "      <td>688.13</td>\n",
              "      <td>C</td>\n",
              "      <td>C2</td>\n",
              "      <td>bus driver</td>\n",
              "      <td>4 years</td>\n",
              "      <td>OWN</td>\n",
              "      <td>52000.0</td>\n",
              "      <td>Source Verified</td>\n",
              "      <td>Dec-2018</td>\n",
              "      <td>Current</td>\n",
              "      <td>n</td>\n",
              "      <td>NaN</td>\n",
              "      <td>NaN</td>\n",
              "      <td>debt_consolidation</td>\n",
              "      <td>Debt consolidation</td>\n",
              "      <td>681xx</td>\n",
              "      <td>NE</td>\n",
              "      <td>30.65</td>\n",
              "      <td>1</td>\n",
              "      <td>Jun-1979</td>\n",
              "      <td>2</td>\n",
              "      <td>15.0</td>\n",
              "      <td>NaN</td>\n",
              "      <td>6</td>\n",
              "      <td>0</td>\n",
              "      <td>15048</td>\n",
              "      <td>73%</td>\n",
              "      <td>22</td>\n",
              "      <td>w</td>\n",
              "      <td>15280.46</td>\n",
              "      <td>15280.46</td>\n",
              "      <td>6792.87</td>\n",
              "      <td>6792.87</td>\n",
              "      <td>4719.54</td>\n",
              "      <td>2073.33</td>\n",
              "      <td>0.0</td>\n",
              "      <td>0.0</td>\n",
              "      <td>0.0</td>\n",
              "      <td>Oct-2019</td>\n",
              "      <td>688.13</td>\n",
              "      <td>Nov-2019</td>\n",
              "      <td>Oct-2019</td>\n",
              "      <td>0</td>\n",
              "      <td>...</td>\n",
              "      <td>2</td>\n",
              "      <td>95.0</td>\n",
              "      <td>50.0</td>\n",
              "      <td>0</td>\n",
              "      <td>0</td>\n",
              "      <td>61699</td>\n",
              "      <td>33157</td>\n",
              "      <td>20700</td>\n",
              "      <td>40999</td>\n",
              "      <td>NaN</td>\n",
              "      <td>NaN</td>\n",
              "      <td>NaN</td>\n",
              "      <td>NaN</td>\n",
              "      <td>NaN</td>\n",
              "      <td>NaN</td>\n",
              "      <td>NaN</td>\n",
              "      <td>NaN</td>\n",
              "      <td>NaN</td>\n",
              "      <td>NaN</td>\n",
              "      <td>NaN</td>\n",
              "      <td>N</td>\n",
              "      <td>NaN</td>\n",
              "      <td>NaN</td>\n",
              "      <td>NaN</td>\n",
              "      <td>NaN</td>\n",
              "      <td>NaN</td>\n",
              "      <td>NaN</td>\n",
              "      <td>NaN</td>\n",
              "      <td>NaN</td>\n",
              "      <td>NaN</td>\n",
              "      <td>NaN</td>\n",
              "      <td>NaN</td>\n",
              "      <td>NaN</td>\n",
              "      <td>NaN</td>\n",
              "      <td>NaN</td>\n",
              "      <td>N</td>\n",
              "      <td>NaN</td>\n",
              "      <td>NaN</td>\n",
              "      <td>NaN</td>\n",
              "      <td>NaN</td>\n",
              "      <td>NaN</td>\n",
              "      <td>NaN</td>\n",
              "      <td>14.47</td>\n",
              "      <td>28.94</td>\n",
              "      <td>Bus Driver</td>\n",
              "      <td>False</td>\n",
              "      <td>2018-12-01</td>\n",
              "      <td>2018</td>\n",
              "      <td>12</td>\n",
              "      <td>5</td>\n",
              "    </tr>\n",
              "    <tr>\n",
              "      <th>49</th>\n",
              "      <td>NaN</td>\n",
              "      <td>NaN</td>\n",
              "      <td>21000</td>\n",
              "      <td>21000</td>\n",
              "      <td>21000.0</td>\n",
              "      <td>36 months</td>\n",
              "      <td>16.91%</td>\n",
              "      <td>747.77</td>\n",
              "      <td>C</td>\n",
              "      <td>C5</td>\n",
              "      <td>NaN</td>\n",
              "      <td>&lt; 1 year</td>\n",
              "      <td>OWN</td>\n",
              "      <td>68000.0</td>\n",
              "      <td>Not Verified</td>\n",
              "      <td>Dec-2018</td>\n",
              "      <td>Late (31-120 days)</td>\n",
              "      <td>n</td>\n",
              "      <td>NaN</td>\n",
              "      <td>NaN</td>\n",
              "      <td>house</td>\n",
              "      <td>Home buying</td>\n",
              "      <td>347xx</td>\n",
              "      <td>FL</td>\n",
              "      <td>9.16</td>\n",
              "      <td>0</td>\n",
              "      <td>Aug-2000</td>\n",
              "      <td>0</td>\n",
              "      <td>35.0</td>\n",
              "      <td>NaN</td>\n",
              "      <td>6</td>\n",
              "      <td>0</td>\n",
              "      <td>890</td>\n",
              "      <td>19.8%</td>\n",
              "      <td>14</td>\n",
              "      <td>w</td>\n",
              "      <td>18194.08</td>\n",
              "      <td>18194.08</td>\n",
              "      <td>4457.03</td>\n",
              "      <td>4457.03</td>\n",
              "      <td>2805.92</td>\n",
              "      <td>1651.11</td>\n",
              "      <td>0.0</td>\n",
              "      <td>0.0</td>\n",
              "      <td>0.0</td>\n",
              "      <td>Jul-2019</td>\n",
              "      <td>747.77</td>\n",
              "      <td>Nov-2019</td>\n",
              "      <td>Oct-2019</td>\n",
              "      <td>0</td>\n",
              "      <td>...</td>\n",
              "      <td>2</td>\n",
              "      <td>64.3</td>\n",
              "      <td>0.0</td>\n",
              "      <td>0</td>\n",
              "      <td>0</td>\n",
              "      <td>43057</td>\n",
              "      <td>31650</td>\n",
              "      <td>4500</td>\n",
              "      <td>38557</td>\n",
              "      <td>NaN</td>\n",
              "      <td>NaN</td>\n",
              "      <td>NaN</td>\n",
              "      <td>NaN</td>\n",
              "      <td>NaN</td>\n",
              "      <td>NaN</td>\n",
              "      <td>NaN</td>\n",
              "      <td>NaN</td>\n",
              "      <td>NaN</td>\n",
              "      <td>NaN</td>\n",
              "      <td>NaN</td>\n",
              "      <td>N</td>\n",
              "      <td>NaN</td>\n",
              "      <td>NaN</td>\n",
              "      <td>NaN</td>\n",
              "      <td>NaN</td>\n",
              "      <td>NaN</td>\n",
              "      <td>NaN</td>\n",
              "      <td>NaN</td>\n",
              "      <td>NaN</td>\n",
              "      <td>NaN</td>\n",
              "      <td>NaN</td>\n",
              "      <td>NaN</td>\n",
              "      <td>NaN</td>\n",
              "      <td>NaN</td>\n",
              "      <td>NaN</td>\n",
              "      <td>N</td>\n",
              "      <td>NaN</td>\n",
              "      <td>NaN</td>\n",
              "      <td>NaN</td>\n",
              "      <td>NaN</td>\n",
              "      <td>NaN</td>\n",
              "      <td>NaN</td>\n",
              "      <td>16.91</td>\n",
              "      <td>33.82</td>\n",
              "      <td>Unknown</td>\n",
              "      <td>False</td>\n",
              "      <td>2018-12-01</td>\n",
              "      <td>2018</td>\n",
              "      <td>12</td>\n",
              "      <td>5</td>\n",
              "    </tr>\n",
              "    <tr>\n",
              "      <th>65</th>\n",
              "      <td>NaN</td>\n",
              "      <td>NaN</td>\n",
              "      <td>25000</td>\n",
              "      <td>25000</td>\n",
              "      <td>25000.0</td>\n",
              "      <td>60 months</td>\n",
              "      <td>14.47%</td>\n",
              "      <td>587.82</td>\n",
              "      <td>C</td>\n",
              "      <td>C2</td>\n",
              "      <td>teacher</td>\n",
              "      <td>10+ years</td>\n",
              "      <td>OWN</td>\n",
              "      <td>110000.0</td>\n",
              "      <td>Not Verified</td>\n",
              "      <td>Dec-2018</td>\n",
              "      <td>Current</td>\n",
              "      <td>n</td>\n",
              "      <td>NaN</td>\n",
              "      <td>NaN</td>\n",
              "      <td>credit_card</td>\n",
              "      <td>Credit card refinancing</td>\n",
              "      <td>117xx</td>\n",
              "      <td>NY</td>\n",
              "      <td>26.43</td>\n",
              "      <td>1</td>\n",
              "      <td>Jan-1997</td>\n",
              "      <td>0</td>\n",
              "      <td>7.0</td>\n",
              "      <td>NaN</td>\n",
              "      <td>23</td>\n",
              "      <td>0</td>\n",
              "      <td>39053</td>\n",
              "      <td>45.7%</td>\n",
              "      <td>49</td>\n",
              "      <td>w</td>\n",
              "      <td>21975.89</td>\n",
              "      <td>21975.89</td>\n",
              "      <td>5848.05</td>\n",
              "      <td>5848.05</td>\n",
              "      <td>3024.11</td>\n",
              "      <td>2823.94</td>\n",
              "      <td>0.0</td>\n",
              "      <td>0.0</td>\n",
              "      <td>0.0</td>\n",
              "      <td>Oct-2019</td>\n",
              "      <td>587.82</td>\n",
              "      <td>Nov-2019</td>\n",
              "      <td>Oct-2019</td>\n",
              "      <td>0</td>\n",
              "      <td>...</td>\n",
              "      <td>1</td>\n",
              "      <td>98.0</td>\n",
              "      <td>10.0</td>\n",
              "      <td>0</td>\n",
              "      <td>0</td>\n",
              "      <td>179321</td>\n",
              "      <td>95648</td>\n",
              "      <td>62800</td>\n",
              "      <td>91424</td>\n",
              "      <td>NaN</td>\n",
              "      <td>NaN</td>\n",
              "      <td>NaN</td>\n",
              "      <td>NaN</td>\n",
              "      <td>NaN</td>\n",
              "      <td>NaN</td>\n",
              "      <td>NaN</td>\n",
              "      <td>NaN</td>\n",
              "      <td>NaN</td>\n",
              "      <td>NaN</td>\n",
              "      <td>NaN</td>\n",
              "      <td>N</td>\n",
              "      <td>NaN</td>\n",
              "      <td>NaN</td>\n",
              "      <td>NaN</td>\n",
              "      <td>NaN</td>\n",
              "      <td>NaN</td>\n",
              "      <td>NaN</td>\n",
              "      <td>NaN</td>\n",
              "      <td>NaN</td>\n",
              "      <td>NaN</td>\n",
              "      <td>NaN</td>\n",
              "      <td>NaN</td>\n",
              "      <td>NaN</td>\n",
              "      <td>NaN</td>\n",
              "      <td>NaN</td>\n",
              "      <td>N</td>\n",
              "      <td>NaN</td>\n",
              "      <td>NaN</td>\n",
              "      <td>NaN</td>\n",
              "      <td>NaN</td>\n",
              "      <td>NaN</td>\n",
              "      <td>NaN</td>\n",
              "      <td>14.47</td>\n",
              "      <td>28.94</td>\n",
              "      <td>Teacher</td>\n",
              "      <td>False</td>\n",
              "      <td>2018-12-01</td>\n",
              "      <td>2018</td>\n",
              "      <td>12</td>\n",
              "      <td>5</td>\n",
              "    </tr>\n",
              "  </tbody>\n",
              "</table>\n",
              "<p>5 rows × 152 columns</p>\n",
              "</div>"
            ],
            "text/plain": [
              "    id  member_id  loan_amnt  funded_amnt  funded_amnt_inv        term  \\\n",
              "24 NaN        NaN      30000        30000          30000.0   60 months   \n",
              "41 NaN        NaN       1200         1200           1200.0   36 months   \n",
              "47 NaN        NaN      20000        20000          20000.0   36 months   \n",
              "49 NaN        NaN      21000        21000          21000.0   36 months   \n",
              "65 NaN        NaN      25000        25000          25000.0   60 months   \n",
              "\n",
              "   int_rate  installment grade sub_grade    emp_title emp_length  \\\n",
              "24   26.31%       903.73     E        E4  Casino Host  10+ years   \n",
              "41   17.97%        43.37     D        D1  Haz Mat S/R  10+ years   \n",
              "47   14.47%       688.13     C        C2   bus driver    4 years   \n",
              "49   16.91%       747.77     C        C5          NaN   < 1 year   \n",
              "65   14.47%       587.82     C        C2      teacher  10+ years   \n",
              "\n",
              "   home_ownership  annual_inc verification_status   issue_d  \\\n",
              "24            OWN     62000.0     Source Verified  Dec-2018   \n",
              "41            OWN     52000.0        Not Verified  Dec-2018   \n",
              "47            OWN     52000.0     Source Verified  Dec-2018   \n",
              "49            OWN     68000.0        Not Verified  Dec-2018   \n",
              "65            OWN    110000.0        Not Verified  Dec-2018   \n",
              "\n",
              "           loan_status pymnt_plan  url  desc             purpose  \\\n",
              "24         Charged Off          n  NaN   NaN  debt_consolidation   \n",
              "41             Current          n  NaN   NaN            vacation   \n",
              "47             Current          n  NaN   NaN  debt_consolidation   \n",
              "49  Late (31-120 days)          n  NaN   NaN               house   \n",
              "65             Current          n  NaN   NaN         credit_card   \n",
              "\n",
              "                      title zip_code addr_state    dti  delinq_2yrs  \\\n",
              "24       Debt consolidation    920xx         CA  37.24            0   \n",
              "41                 Vacation    605xx         IL  25.61            0   \n",
              "47       Debt consolidation    681xx         NE  30.65            1   \n",
              "49              Home buying    347xx         FL   9.16            0   \n",
              "65  Credit card refinancing    117xx         NY  26.43            1   \n",
              "\n",
              "   earliest_cr_line  inq_last_6mths  mths_since_last_delinq  \\\n",
              "24         Oct-2007               0                     NaN   \n",
              "41         Feb-1991               2                     NaN   \n",
              "47         Jun-1979               2                    15.0   \n",
              "49         Aug-2000               0                    35.0   \n",
              "65         Jan-1997               0                     7.0   \n",
              "\n",
              "    mths_since_last_record  open_acc  pub_rec  revol_bal revol_util  \\\n",
              "24                    86.0        15        1      18890      39.8%   \n",
              "41                     NaN        14        0      18197      48.3%   \n",
              "47                     NaN         6        0      15048        73%   \n",
              "49                     NaN         6        0        890      19.8%   \n",
              "65                     NaN        23        0      39053      45.7%   \n",
              "\n",
              "    total_acc initial_list_status  out_prncp  out_prncp_inv  total_pymnt  \\\n",
              "24         36                   w       0.00           0.00      2645.41   \n",
              "41         24                   w     928.18         928.18       431.90   \n",
              "47         22                   w   15280.46       15280.46      6792.87   \n",
              "49         14                   w   18194.08       18194.08      4457.03   \n",
              "65         49                   w   21975.89       21975.89      5848.05   \n",
              "\n",
              "    total_pymnt_inv  total_rec_prncp  total_rec_int  total_rec_late_fee  \\\n",
              "24          2645.41           754.24        1891.17                 0.0   \n",
              "41           431.90           271.82         160.08                 0.0   \n",
              "47          6792.87          4719.54        2073.33                 0.0   \n",
              "49          4457.03          2805.92        1651.11                 0.0   \n",
              "65          5848.05          3024.11        2823.94                 0.0   \n",
              "\n",
              "    recoveries  collection_recovery_fee last_pymnt_d  last_pymnt_amnt  \\\n",
              "24         0.0                      0.0     Apr-2019           903.73   \n",
              "41         0.0                      0.0     Oct-2019            43.37   \n",
              "47         0.0                      0.0     Oct-2019           688.13   \n",
              "49         0.0                      0.0     Jul-2019           747.77   \n",
              "65         0.0                      0.0     Oct-2019           587.82   \n",
              "\n",
              "   next_pymnt_d last_credit_pull_d  collections_12_mths_ex_med  ...  \\\n",
              "24          NaN           Oct-2019                           0  ...   \n",
              "41     Nov-2019           Oct-2019                           0  ...   \n",
              "47     Nov-2019           Oct-2019                           0  ...   \n",
              "49     Nov-2019           Oct-2019                           0  ...   \n",
              "65     Nov-2019           Oct-2019                           0  ...   \n",
              "\n",
              "    num_tl_op_past_12m  pct_tl_nvr_dlq percent_bc_gt_75  pub_rec_bankruptcies  \\\n",
              "24                   1           100.0             14.3                     1   \n",
              "41                   3           100.0             66.7                     0   \n",
              "47                   2            95.0             50.0                     0   \n",
              "49                   2            64.3              0.0                     0   \n",
              "65                   1            98.0             10.0                     0   \n",
              "\n",
              "    tax_liens tot_hi_cred_lim  total_bal_ex_mort  total_bc_limit  \\\n",
              "24          0          138354             104590           36400   \n",
              "41          0           50041              29964           15700   \n",
              "47          0           61699              33157           20700   \n",
              "49          0           43057              31650            4500   \n",
              "65          0          179321              95648           62800   \n",
              "\n",
              "    total_il_high_credit_limit  revol_bal_joint  sec_app_earliest_cr_line  \\\n",
              "24                       90854              NaN                       NaN   \n",
              "41                       12341              NaN                       NaN   \n",
              "47                       40999              NaN                       NaN   \n",
              "49                       38557              NaN                       NaN   \n",
              "65                       91424              NaN                       NaN   \n",
              "\n",
              "    sec_app_inq_last_6mths  sec_app_mort_acc  sec_app_open_acc  \\\n",
              "24                     NaN               NaN               NaN   \n",
              "41                     NaN               NaN               NaN   \n",
              "47                     NaN               NaN               NaN   \n",
              "49                     NaN               NaN               NaN   \n",
              "65                     NaN               NaN               NaN   \n",
              "\n",
              "    sec_app_revol_util  sec_app_open_act_il  sec_app_num_rev_accts  \\\n",
              "24                 NaN                  NaN                    NaN   \n",
              "41                 NaN                  NaN                    NaN   \n",
              "47                 NaN                  NaN                    NaN   \n",
              "49                 NaN                  NaN                    NaN   \n",
              "65                 NaN                  NaN                    NaN   \n",
              "\n",
              "    sec_app_chargeoff_within_12_mths  sec_app_collections_12_mths_ex_med  \\\n",
              "24                               NaN                                 NaN   \n",
              "41                               NaN                                 NaN   \n",
              "47                               NaN                                 NaN   \n",
              "49                               NaN                                 NaN   \n",
              "65                               NaN                                 NaN   \n",
              "\n",
              "    sec_app_mths_since_last_major_derog  hardship_flag  hardship_type  \\\n",
              "24                                  NaN              N            NaN   \n",
              "41                                  NaN              N            NaN   \n",
              "47                                  NaN              N            NaN   \n",
              "49                                  NaN              N            NaN   \n",
              "65                                  NaN              N            NaN   \n",
              "\n",
              "    hardship_reason  hardship_status  deferral_term  hardship_amount  \\\n",
              "24              NaN              NaN            NaN              NaN   \n",
              "41              NaN              NaN            NaN              NaN   \n",
              "47              NaN              NaN            NaN              NaN   \n",
              "49              NaN              NaN            NaN              NaN   \n",
              "65              NaN              NaN            NaN              NaN   \n",
              "\n",
              "    hardship_start_date  hardship_end_date  payment_plan_start_date  \\\n",
              "24                  NaN                NaN                      NaN   \n",
              "41                  NaN                NaN                      NaN   \n",
              "47                  NaN                NaN                      NaN   \n",
              "49                  NaN                NaN                      NaN   \n",
              "65                  NaN                NaN                      NaN   \n",
              "\n",
              "    hardship_length  hardship_dpd  hardship_loan_status  \\\n",
              "24              NaN           NaN                   NaN   \n",
              "41              NaN           NaN                   NaN   \n",
              "47              NaN           NaN                   NaN   \n",
              "49              NaN           NaN                   NaN   \n",
              "65              NaN           NaN                   NaN   \n",
              "\n",
              "    orig_projected_additional_accrued_interest  \\\n",
              "24                                         NaN   \n",
              "41                                         NaN   \n",
              "47                                         NaN   \n",
              "49                                         NaN   \n",
              "65                                         NaN   \n",
              "\n",
              "    hardship_payoff_balance_amount  hardship_last_payment_amount  \\\n",
              "24                             NaN                           NaN   \n",
              "41                             NaN                           NaN   \n",
              "47                             NaN                           NaN   \n",
              "49                             NaN                           NaN   \n",
              "65                             NaN                           NaN   \n",
              "\n",
              "    debt_settlement_flag  debt_settlement_flag_date  settlement_status  \\\n",
              "24                     N                        NaN                NaN   \n",
              "41                     N                        NaN                NaN   \n",
              "47                     N                        NaN                NaN   \n",
              "49                     N                        NaN                NaN   \n",
              "65                     N                        NaN                NaN   \n",
              "\n",
              "    settlement_date  settlement_amount  settlement_percentage  \\\n",
              "24              NaN                NaN                    NaN   \n",
              "41              NaN                NaN                    NaN   \n",
              "47              NaN                NaN                    NaN   \n",
              "49              NaN                NaN                    NaN   \n",
              "65              NaN                NaN                    NaN   \n",
              "\n",
              "    settlement_term  int_rate_float  int_rate_double  emp_title_clean  \\\n",
              "24              NaN           26.31            52.62      Casino Host   \n",
              "41              NaN           17.97            35.94      Haz Mat S/R   \n",
              "47              NaN           14.47            28.94       Bus Driver   \n",
              "49              NaN           16.91            33.82          Unknown   \n",
              "65              NaN           14.47            28.94          Teacher   \n",
              "\n",
              "    emp_title_manager  issue_d_clean  year  month  weekday  \n",
              "24              False     2018-12-01  2018     12        5  \n",
              "41              False     2018-12-01  2018     12        5  \n",
              "47              False     2018-12-01  2018     12        5  \n",
              "49              False     2018-12-01  2018     12        5  \n",
              "65              False     2018-12-01  2018     12        5  \n",
              "\n",
              "[5 rows x 152 columns]"
            ]
          },
          "metadata": {
            "tags": []
          },
          "execution_count": 59
        }
      ]
    },
    {
      "cell_type": "code",
      "metadata": {
        "id": "az3d1QgMB7bV",
        "colab_type": "code",
        "outputId": "24485f94-24cb-4505-c342-a1d1bfd061c3",
        "colab": {
          "base_uri": "https://localhost:8080/",
          "height": 34
        }
      },
      "source": [
        "# Now look at summary stats!\n",
        "managers['int_rate_float'].mean()"
      ],
      "execution_count": 60,
      "outputs": [
        {
          "output_type": "execute_result",
          "data": {
            "text/plain": [
              "12.759972038921248"
            ]
          },
          "metadata": {
            "tags": []
          },
          "execution_count": 60
        }
      ]
    },
    {
      "cell_type": "code",
      "metadata": {
        "id": "tNmAcUY8B7Y9",
        "colab_type": "code",
        "outputId": "691870ba-87b7-46c1-806c-cfd74bbf489c",
        "colab": {
          "base_uri": "https://localhost:8080/",
          "height": 34
        }
      },
      "source": [
        "# And subordinates?\n",
        "subordinates['int_rate_float'].mean()"
      ],
      "execution_count": 61,
      "outputs": [
        {
          "output_type": "execute_result",
          "data": {
            "text/plain": [
              "13.195756289056202"
            ]
          },
          "metadata": {
            "tags": []
          },
          "execution_count": 61
        }
      ]
    },
    {
      "cell_type": "code",
      "metadata": {
        "id": "0Ga7_TM9C3L5",
        "colab_type": "code",
        "outputId": "3648af5b-dd83-477d-d0ae-cc55ae618d40",
        "colab": {
          "base_uri": "https://localhost:8080/",
          "height": 297
        }
      },
      "source": [
        "# Visualize that!\n",
        "import seaborn as sns \n",
        "sns.distplot(managers['int_rate_float'])\n",
        "sns.distplot(subordinates['int_rate_float'])"
      ],
      "execution_count": 62,
      "outputs": [
        {
          "output_type": "execute_result",
          "data": {
            "text/plain": [
              "<matplotlib.axes._subplots.AxesSubplot at 0x7f0954ae73c8>"
            ]
          },
          "metadata": {
            "tags": []
          },
          "execution_count": 62
        },
        {
          "output_type": "display_data",
          "data": {
            "image/png": "[encoded data removed]",
            "text/plain": [
              "<Figure size 432x288 with 1 Axes>"
            ]
          },
          "metadata": {
            "tags": []
          }
        }
      ]
    },
    {
      "cell_type": "markdown",
      "metadata": {
        "id": "mFqq9XUvDLeR",
        "colab_type": "text"
      },
      "source": [
        "Convert term column from str to int"
      ]
    },
    {
      "cell_type": "code",
      "metadata": {
        "id": "hRmRpmt0DKVF",
        "colab_type": "code",
        "outputId": "50513e2a-a62e-4895-942c-07dcd72ef1a7",
        "colab": {
          "base_uri": "https://localhost:8080/",
          "height": 119
        }
      },
      "source": [
        "# Look at the term column\n",
        "df['term'].head()"
      ],
      "execution_count": 63,
      "outputs": [
        {
          "output_type": "execute_result",
          "data": {
            "text/plain": [
              "0     36 months\n",
              "1     36 months\n",
              "2     60 months\n",
              "3     36 months\n",
              "4     36 months\n",
              "Name: term, dtype: object"
            ]
          },
          "metadata": {
            "tags": []
          },
          "execution_count": 63
        }
      ]
    },
    {
      "cell_type": "code",
      "metadata": {
        "id": "HgM0ep79DKkh",
        "colab_type": "code",
        "outputId": "8c2d799b-6853-4f30-9e9e-67f584dbbe2e",
        "colab": {
          "base_uri": "https://localhost:8080/",
          "height": 51
        }
      },
      "source": [
        "# Take a closer look at the value's format\n",
        "term_0 = df.loc[0, 'term']\n",
        "\n",
        "print(term_0)\n",
        "term_0"
      ],
      "execution_count": 64,
      "outputs": [
        {
          "output_type": "stream",
          "text": [
            " 36 months\n"
          ],
          "name": "stdout"
        },
        {
          "output_type": "execute_result",
          "data": {
            "text/plain": [
              "' 36 months'"
            ]
          },
          "metadata": {
            "tags": []
          },
          "execution_count": 64
        }
      ]
    },
    {
      "cell_type": "code",
      "metadata": {
        "id": "OVRZxPwPDK4x",
        "colab_type": "code",
        "colab": {}
      },
      "source": [
        "# Create function\n",
        "def term_to_int(termstring):\n",
        "  return int(termstring.strip().strip(' months'))\n"
      ],
      "execution_count": 0,
      "outputs": []
    },
    {
      "cell_type": "code",
      "metadata": {
        "id": "K6v_96iIDK2H",
        "colab_type": "code",
        "outputId": "1b90f52e-d9e1-43ac-ac70-cd04fc94fdaf",
        "colab": {
          "base_uri": "https://localhost:8080/",
          "height": 34
        }
      },
      "source": [
        "# Check that it works\n",
        "term_to_int(term_0)"
      ],
      "execution_count": 66,
      "outputs": [
        {
          "output_type": "execute_result",
          "data": {
            "text/plain": [
              "36"
            ]
          },
          "metadata": {
            "tags": []
          },
          "execution_count": 66
        }
      ]
    },
    {
      "cell_type": "code",
      "metadata": {
        "id": "tW0CZ8SHDKzW",
        "colab_type": "code",
        "outputId": "f0ef21c7-e18d-47c1-d137-bbc13fceb1c9",
        "colab": {
          "base_uri": "https://localhost:8080/",
          "height": 136
        }
      },
      "source": [
        "# Convert column\n",
        "df['term_int'] = df['term'].apply(term_to_int)\n",
        "df.columns"
      ],
      "execution_count": 67,
      "outputs": [
        {
          "output_type": "execute_result",
          "data": {
            "text/plain": [
              "Index(['id', 'member_id', 'loan_amnt', 'funded_amnt', 'funded_amnt_inv',\n",
              "       'term', 'int_rate', 'installment', 'grade', 'sub_grade',\n",
              "       ...\n",
              "       'settlement_term', 'int_rate_float', 'int_rate_double',\n",
              "       'emp_title_clean', 'emp_title_manager', 'issue_d_clean', 'year',\n",
              "       'month', 'weekday', 'term_int'],\n",
              "      dtype='object', length=153)"
            ]
          },
          "metadata": {
            "tags": []
          },
          "execution_count": 67
        }
      ]
    },
    {
      "cell_type": "code",
      "metadata": {
        "id": "DI_sJGJODKwk",
        "colab_type": "code",
        "outputId": "6437fc31-b42e-4963-f5c2-ccd2d2e28b68",
        "colab": {
          "base_uri": "https://localhost:8080/",
          "height": 34
        }
      },
      "source": [
        "# Check dtype\n",
        "df['term_int'].dtype"
      ],
      "execution_count": 68,
      "outputs": [
        {
          "output_type": "execute_result",
          "data": {
            "text/plain": [
              "dtype('int64')"
            ]
          },
          "metadata": {
            "tags": []
          },
          "execution_count": 68
        }
      ]
    },
    {
      "cell_type": "code",
      "metadata": {
        "id": "duRRbSSMDKsx",
        "colab_type": "code",
        "outputId": "8da98cee-60dc-460e-afce-b2cd91e39b46",
        "colab": {
          "base_uri": "https://localhost:8080/",
          "height": 204
        }
      },
      "source": [
        "# Compare\n",
        "df[['term', 'term_int']].head()"
      ],
      "execution_count": 69,
      "outputs": [
        {
          "output_type": "execute_result",
          "data": {
            "text/html": [
              "<div>\n",
              "<style scoped>\n",
              "    .dataframe tbody tr th:only-of-type {\n",
              "        vertical-align: middle;\n",
              "    }\n",
              "\n",
              "    .dataframe tbody tr th {\n",
              "        vertical-align: top;\n",
              "    }\n",
              "\n",
              "    .dataframe thead th {\n",
              "        text-align: right;\n",
              "    }\n",
              "</style>\n",
              "<table border=\"1\" class=\"dataframe\">\n",
              "  <thead>\n",
              "    <tr style=\"text-align: right;\">\n",
              "      <th></th>\n",
              "      <th>term</th>\n",
              "      <th>term_int</th>\n",
              "    </tr>\n",
              "  </thead>\n",
              "  <tbody>\n",
              "    <tr>\n",
              "      <th>0</th>\n",
              "      <td>36 months</td>\n",
              "      <td>36</td>\n",
              "    </tr>\n",
              "    <tr>\n",
              "      <th>1</th>\n",
              "      <td>36 months</td>\n",
              "      <td>36</td>\n",
              "    </tr>\n",
              "    <tr>\n",
              "      <th>2</th>\n",
              "      <td>60 months</td>\n",
              "      <td>60</td>\n",
              "    </tr>\n",
              "    <tr>\n",
              "      <th>3</th>\n",
              "      <td>36 months</td>\n",
              "      <td>36</td>\n",
              "    </tr>\n",
              "    <tr>\n",
              "      <th>4</th>\n",
              "      <td>36 months</td>\n",
              "      <td>36</td>\n",
              "    </tr>\n",
              "  </tbody>\n",
              "</table>\n",
              "</div>"
            ],
            "text/plain": [
              "         term  term_int\n",
              "0   36 months        36\n",
              "1   36 months        36\n",
              "2   60 months        60\n",
              "3   36 months        36\n",
              "4   36 months        36"
            ]
          },
          "metadata": {
            "tags": []
          },
          "execution_count": 69
        }
      ]
    },
    {
      "cell_type": "code",
      "metadata": {
        "id": "P-KSqH2yESjV",
        "colab_type": "code",
        "outputId": "323fb4ce-92d5-43b7-b9a7-b9d41c1645a9",
        "colab": {
          "base_uri": "https://localhost:8080/",
          "height": 136
        }
      },
      "source": [
        "# Can we do math?\n",
        "df['term_double'] = df['term_int'] * 2\n",
        "df.columns"
      ],
      "execution_count": 70,
      "outputs": [
        {
          "output_type": "execute_result",
          "data": {
            "text/plain": [
              "Index(['id', 'member_id', 'loan_amnt', 'funded_amnt', 'funded_amnt_inv',\n",
              "       'term', 'int_rate', 'installment', 'grade', 'sub_grade',\n",
              "       ...\n",
              "       'int_rate_float', 'int_rate_double', 'emp_title_clean',\n",
              "       'emp_title_manager', 'issue_d_clean', 'year', 'month', 'weekday',\n",
              "       'term_int', 'term_double'],\n",
              "      dtype='object', length=154)"
            ]
          },
          "metadata": {
            "tags": []
          },
          "execution_count": 70
        }
      ]
    },
    {
      "cell_type": "code",
      "metadata": {
        "id": "F4ljSI8gEStX",
        "colab_type": "code",
        "outputId": "09e33b02-3db1-4b41-c3ea-556d328d9d87",
        "colab": {
          "base_uri": "https://localhost:8080/",
          "height": 204
        }
      },
      "source": [
        "# Compare\n",
        "df[['term', 'term_int', 'term_double']].head()"
      ],
      "execution_count": 71,
      "outputs": [
        {
          "output_type": "execute_result",
          "data": {
            "text/html": [
              "<div>\n",
              "<style scoped>\n",
              "    .dataframe tbody tr th:only-of-type {\n",
              "        vertical-align: middle;\n",
              "    }\n",
              "\n",
              "    .dataframe tbody tr th {\n",
              "        vertical-align: top;\n",
              "    }\n",
              "\n",
              "    .dataframe thead th {\n",
              "        text-align: right;\n",
              "    }\n",
              "</style>\n",
              "<table border=\"1\" class=\"dataframe\">\n",
              "  <thead>\n",
              "    <tr style=\"text-align: right;\">\n",
              "      <th></th>\n",
              "      <th>term</th>\n",
              "      <th>term_int</th>\n",
              "      <th>term_double</th>\n",
              "    </tr>\n",
              "  </thead>\n",
              "  <tbody>\n",
              "    <tr>\n",
              "      <th>0</th>\n",
              "      <td>36 months</td>\n",
              "      <td>36</td>\n",
              "      <td>72</td>\n",
              "    </tr>\n",
              "    <tr>\n",
              "      <th>1</th>\n",
              "      <td>36 months</td>\n",
              "      <td>36</td>\n",
              "      <td>72</td>\n",
              "    </tr>\n",
              "    <tr>\n",
              "      <th>2</th>\n",
              "      <td>60 months</td>\n",
              "      <td>60</td>\n",
              "      <td>120</td>\n",
              "    </tr>\n",
              "    <tr>\n",
              "      <th>3</th>\n",
              "      <td>36 months</td>\n",
              "      <td>36</td>\n",
              "      <td>72</td>\n",
              "    </tr>\n",
              "    <tr>\n",
              "      <th>4</th>\n",
              "      <td>36 months</td>\n",
              "      <td>36</td>\n",
              "      <td>72</td>\n",
              "    </tr>\n",
              "  </tbody>\n",
              "</table>\n",
              "</div>"
            ],
            "text/plain": [
              "         term  term_int  term_double\n",
              "0   36 months        36           72\n",
              "1   36 months        36           72\n",
              "2   60 months        60          120\n",
              "3   36 months        36           72\n",
              "4   36 months        36           72"
            ]
          },
          "metadata": {
            "tags": []
          },
          "execution_count": 71
        }
      ]
    },
    {
      "cell_type": "code",
      "metadata": {
        "id": "YaoMeO5wES2K",
        "colab_type": "code",
        "colab": {}
      },
      "source": [
        "# Make a column named loan_status_is_great. It should contain the integer 1 \n",
        "# if loan_status is \"Current\" or \"Fully Paid.\" Else it should contain the integer 0."
      ],
      "execution_count": 0,
      "outputs": []
    },
    {
      "cell_type": "code",
      "metadata": {
        "id": "8Dlg4meWES-x",
        "colab_type": "code",
        "colab": {}
      },
      "source": [
        "# Create function\n",
        "def status_to_int(statusstring):\n",
        "  if (statusstring == 'Current') or (statusstring == 'Fully Paid'):\n",
        "    return 1\n",
        "  else:\n",
        "    return 0"
      ],
      "execution_count": 0,
      "outputs": []
    },
    {
      "cell_type": "code",
      "metadata": {
        "id": "wgUkhK-ZFbuq",
        "colab_type": "code",
        "outputId": "e280650e-de1f-40c1-9cf9-66d0caeb02f2",
        "colab": {
          "base_uri": "https://localhost:8080/",
          "height": 51
        }
      },
      "source": [
        "loan_status0 = df.loc[0, 'loan_status']\n",
        "print(loan_status0)\n",
        "loan_status0"
      ],
      "execution_count": 74,
      "outputs": [
        {
          "output_type": "stream",
          "text": [
            "Fully Paid\n"
          ],
          "name": "stdout"
        },
        {
          "output_type": "execute_result",
          "data": {
            "text/plain": [
              "'Fully Paid'"
            ]
          },
          "metadata": {
            "tags": []
          },
          "execution_count": 74
        }
      ]
    },
    {
      "cell_type": "code",
      "metadata": {
        "id": "rfy7mZ3yEm1w",
        "colab_type": "code",
        "outputId": "93645d26-bc22-48e5-d52c-1b9425aee3b4",
        "colab": {
          "base_uri": "https://localhost:8080/",
          "height": 68
        }
      },
      "source": [
        "# Check to see if it works\n",
        "print(status_to_int('Current'))\n",
        "print(status_to_int('Fully Paid'))\n",
        "print(status_to_int('Not Paid'))\n"
      ],
      "execution_count": 75,
      "outputs": [
        {
          "output_type": "stream",
          "text": [
            "1\n",
            "1\n",
            "0\n"
          ],
          "name": "stdout"
        }
      ]
    },
    {
      "cell_type": "code",
      "metadata": {
        "id": "Pzyllb_BEm-j",
        "colab_type": "code",
        "outputId": "27800097-ffdc-4d5a-e72f-4ff0c6217a49",
        "colab": {
          "base_uri": "https://localhost:8080/",
          "height": 136
        }
      },
      "source": [
        "# Use function on column\n",
        "df['loan_status_is_great'] = df['loan_status'].apply(status_to_int)\n",
        "df.columns"
      ],
      "execution_count": 76,
      "outputs": [
        {
          "output_type": "execute_result",
          "data": {
            "text/plain": [
              "Index(['id', 'member_id', 'loan_amnt', 'funded_amnt', 'funded_amnt_inv',\n",
              "       'term', 'int_rate', 'installment', 'grade', 'sub_grade',\n",
              "       ...\n",
              "       'int_rate_double', 'emp_title_clean', 'emp_title_manager',\n",
              "       'issue_d_clean', 'year', 'month', 'weekday', 'term_int', 'term_double',\n",
              "       'loan_status_is_great'],\n",
              "      dtype='object', length=155)"
            ]
          },
          "metadata": {
            "tags": []
          },
          "execution_count": 76
        }
      ]
    },
    {
      "cell_type": "code",
      "metadata": {
        "id": "6R2E1PbsEnH4",
        "colab_type": "code",
        "outputId": "5aa8cd07-d65b-4093-9641-09fd32ebd215",
        "colab": {
          "base_uri": "https://localhost:8080/",
          "height": 235
        }
      },
      "source": [
        "# Compare\n",
        "df[['loan_status', 'loan_status_is_great']].sample(6)"
      ],
      "execution_count": 77,
      "outputs": [
        {
          "output_type": "execute_result",
          "data": {
            "text/html": [
              "<div>\n",
              "<style scoped>\n",
              "    .dataframe tbody tr th:only-of-type {\n",
              "        vertical-align: middle;\n",
              "    }\n",
              "\n",
              "    .dataframe tbody tr th {\n",
              "        vertical-align: top;\n",
              "    }\n",
              "\n",
              "    .dataframe thead th {\n",
              "        text-align: right;\n",
              "    }\n",
              "</style>\n",
              "<table border=\"1\" class=\"dataframe\">\n",
              "  <thead>\n",
              "    <tr style=\"text-align: right;\">\n",
              "      <th></th>\n",
              "      <th>loan_status</th>\n",
              "      <th>loan_status_is_great</th>\n",
              "    </tr>\n",
              "  </thead>\n",
              "  <tbody>\n",
              "    <tr>\n",
              "      <th>83907</th>\n",
              "      <td>Current</td>\n",
              "      <td>1</td>\n",
              "    </tr>\n",
              "    <tr>\n",
              "      <th>34261</th>\n",
              "      <td>Current</td>\n",
              "      <td>1</td>\n",
              "    </tr>\n",
              "    <tr>\n",
              "      <th>52931</th>\n",
              "      <td>Current</td>\n",
              "      <td>1</td>\n",
              "    </tr>\n",
              "    <tr>\n",
              "      <th>8416</th>\n",
              "      <td>Current</td>\n",
              "      <td>1</td>\n",
              "    </tr>\n",
              "    <tr>\n",
              "      <th>27892</th>\n",
              "      <td>Current</td>\n",
              "      <td>1</td>\n",
              "    </tr>\n",
              "    <tr>\n",
              "      <th>84701</th>\n",
              "      <td>Fully Paid</td>\n",
              "      <td>1</td>\n",
              "    </tr>\n",
              "  </tbody>\n",
              "</table>\n",
              "</div>"
            ],
            "text/plain": [
              "      loan_status  loan_status_is_great\n",
              "83907     Current                     1\n",
              "34261     Current                     1\n",
              "52931     Current                     1\n",
              "8416      Current                     1\n",
              "27892     Current                     1\n",
              "84701  Fully Paid                     1"
            ]
          },
          "metadata": {
            "tags": []
          },
          "execution_count": 77
        }
      ]
    },
    {
      "cell_type": "code",
      "metadata": {
        "id": "Jw2zU93OEnPh",
        "colab_type": "code",
        "outputId": "f57f7e19-c5e4-43d4-d698-0b1803c69445",
        "colab": {
          "base_uri": "https://localhost:8080/",
          "height": 34
        }
      },
      "source": [
        "# Check dtype\n",
        "df['loan_status_is_great'].dtypes"
      ],
      "execution_count": 78,
      "outputs": [
        {
          "output_type": "execute_result",
          "data": {
            "text/plain": [
              "dtype('int64')"
            ]
          },
          "metadata": {
            "tags": []
          },
          "execution_count": 78
        }
      ]
    },
    {
      "cell_type": "markdown",
      "metadata": {
        "id": "FRQbtYmNGd2Y",
        "colab_type": "text"
      },
      "source": [
        "Make last_pymnt_d_month and last_pymnt_d_year columns."
      ]
    },
    {
      "cell_type": "code",
      "metadata": {
        "id": "jAMZ0xuYyKUC",
        "colab_type": "code",
        "outputId": "9de96065-ca3b-46aa-8a19-4ea5ac0210e6",
        "colab": {
          "base_uri": "https://localhost:8080/",
          "height": 34
        }
      },
      "source": [
        "# Check for empty values\n",
        "df['last_pymnt_d'].isnull().sum()"
      ],
      "execution_count": 79,
      "outputs": [
        {
          "output_type": "execute_result",
          "data": {
            "text/plain": [
              "159"
            ]
          },
          "metadata": {
            "tags": []
          },
          "execution_count": 79
        }
      ]
    },
    {
      "cell_type": "code",
      "metadata": {
        "id": "JXUp-MlVyRBh",
        "colab_type": "code",
        "colab": {}
      },
      "source": [
        "# Let's clean up the column\n",
        "df['last_pymnt_d'] = df['last_pymnt_d'].fillna(method='ffill')"
      ],
      "execution_count": 0,
      "outputs": []
    },
    {
      "cell_type": "code",
      "metadata": {
        "id": "B3ZHP4Y1zDgM",
        "colab_type": "code",
        "outputId": "061f8bc6-1f70-4acc-caf1-5b19ab2257d4",
        "colab": {
          "base_uri": "https://localhost:8080/",
          "height": 34
        }
      },
      "source": [
        "# Check to ensure that the NaN values are gone\n",
        "df['last_pymnt_d'].isnull().sum()"
      ],
      "execution_count": 81,
      "outputs": [
        {
          "output_type": "execute_result",
          "data": {
            "text/plain": [
              "0"
            ]
          },
          "metadata": {
            "tags": []
          },
          "execution_count": 81
        }
      ]
    },
    {
      "cell_type": "code",
      "metadata": {
        "id": "XNW4iDbYGqqQ",
        "colab_type": "code",
        "colab": {}
      },
      "source": [
        "# Create new column with last_paymnt_d data converted to datetime\n",
        "df['last_pymnt_d_clean'] = pd.to_datetime(df['last_pymnt_d'], infer_datetime_format=True)\n"
      ],
      "execution_count": 0,
      "outputs": []
    },
    {
      "cell_type": "code",
      "metadata": {
        "id": "wn9bXwFLHcIA",
        "colab_type": "code",
        "outputId": "8656dd2d-c84f-4380-9b71-48dc65505791",
        "colab": {
          "base_uri": "https://localhost:8080/",
          "height": 34
        }
      },
      "source": [
        "# Confirm the data type\n",
        "df['last_pymnt_d_clean'].dtype"
      ],
      "execution_count": 83,
      "outputs": [
        {
          "output_type": "execute_result",
          "data": {
            "text/plain": [
              "dtype('<M8[ns]')"
            ]
          },
          "metadata": {
            "tags": []
          },
          "execution_count": 83
        }
      ]
    },
    {
      "cell_type": "code",
      "metadata": {
        "id": "qm4l9exkH5bh",
        "colab_type": "code",
        "outputId": "c14e99db-fbe3-4736-b3da-9810e30d44f4",
        "colab": {
          "base_uri": "https://localhost:8080/",
          "height": 204
        }
      },
      "source": [
        "# Compare old and new\n",
        "df[['last_pymnt_d', 'last_pymnt_d_clean']].head()"
      ],
      "execution_count": 84,
      "outputs": [
        {
          "output_type": "execute_result",
          "data": {
            "text/html": [
              "<div>\n",
              "<style scoped>\n",
              "    .dataframe tbody tr th:only-of-type {\n",
              "        vertical-align: middle;\n",
              "    }\n",
              "\n",
              "    .dataframe tbody tr th {\n",
              "        vertical-align: top;\n",
              "    }\n",
              "\n",
              "    .dataframe thead th {\n",
              "        text-align: right;\n",
              "    }\n",
              "</style>\n",
              "<table border=\"1\" class=\"dataframe\">\n",
              "  <thead>\n",
              "    <tr style=\"text-align: right;\">\n",
              "      <th></th>\n",
              "      <th>last_pymnt_d</th>\n",
              "      <th>last_pymnt_d_clean</th>\n",
              "    </tr>\n",
              "  </thead>\n",
              "  <tbody>\n",
              "    <tr>\n",
              "      <th>0</th>\n",
              "      <td>Aug-2019</td>\n",
              "      <td>2019-08-01</td>\n",
              "    </tr>\n",
              "    <tr>\n",
              "      <th>1</th>\n",
              "      <td>Jul-2019</td>\n",
              "      <td>2019-07-01</td>\n",
              "    </tr>\n",
              "    <tr>\n",
              "      <th>2</th>\n",
              "      <td>Oct-2019</td>\n",
              "      <td>2019-10-01</td>\n",
              "    </tr>\n",
              "    <tr>\n",
              "      <th>3</th>\n",
              "      <td>Oct-2019</td>\n",
              "      <td>2019-10-01</td>\n",
              "    </tr>\n",
              "    <tr>\n",
              "      <th>4</th>\n",
              "      <td>Oct-2019</td>\n",
              "      <td>2019-10-01</td>\n",
              "    </tr>\n",
              "  </tbody>\n",
              "</table>\n",
              "</div>"
            ],
            "text/plain": [
              "  last_pymnt_d last_pymnt_d_clean\n",
              "0     Aug-2019         2019-08-01\n",
              "1     Jul-2019         2019-07-01\n",
              "2     Oct-2019         2019-10-01\n",
              "3     Oct-2019         2019-10-01\n",
              "4     Oct-2019         2019-10-01"
            ]
          },
          "metadata": {
            "tags": []
          },
          "execution_count": 84
        }
      ]
    },
    {
      "cell_type": "code",
      "metadata": {
        "id": "B426YzLqJ9G2",
        "colab_type": "code",
        "colab": {}
      },
      "source": [
        "# Create new column and convert data to year\n",
        "df['last_pymnt_d_year'] = df['last_pymnt_d_clean'].dt.year "
      ],
      "execution_count": 0,
      "outputs": []
    },
    {
      "cell_type": "code",
      "metadata": {
        "id": "-tmBiMB4KH0_",
        "colab_type": "code",
        "outputId": "986cf370-9ada-492f-ca84-867e068d05f1",
        "colab": {
          "base_uri": "https://localhost:8080/",
          "height": 204
        }
      },
      "source": [
        "# Compare old and new\n",
        "df[['last_pymnt_d_clean', 'last_pymnt_d_year']].head()"
      ],
      "execution_count": 86,
      "outputs": [
        {
          "output_type": "execute_result",
          "data": {
            "text/html": [
              "<div>\n",
              "<style scoped>\n",
              "    .dataframe tbody tr th:only-of-type {\n",
              "        vertical-align: middle;\n",
              "    }\n",
              "\n",
              "    .dataframe tbody tr th {\n",
              "        vertical-align: top;\n",
              "    }\n",
              "\n",
              "    .dataframe thead th {\n",
              "        text-align: right;\n",
              "    }\n",
              "</style>\n",
              "<table border=\"1\" class=\"dataframe\">\n",
              "  <thead>\n",
              "    <tr style=\"text-align: right;\">\n",
              "      <th></th>\n",
              "      <th>last_pymnt_d_clean</th>\n",
              "      <th>last_pymnt_d_year</th>\n",
              "    </tr>\n",
              "  </thead>\n",
              "  <tbody>\n",
              "    <tr>\n",
              "      <th>0</th>\n",
              "      <td>2019-08-01</td>\n",
              "      <td>2019</td>\n",
              "    </tr>\n",
              "    <tr>\n",
              "      <th>1</th>\n",
              "      <td>2019-07-01</td>\n",
              "      <td>2019</td>\n",
              "    </tr>\n",
              "    <tr>\n",
              "      <th>2</th>\n",
              "      <td>2019-10-01</td>\n",
              "      <td>2019</td>\n",
              "    </tr>\n",
              "    <tr>\n",
              "      <th>3</th>\n",
              "      <td>2019-10-01</td>\n",
              "      <td>2019</td>\n",
              "    </tr>\n",
              "    <tr>\n",
              "      <th>4</th>\n",
              "      <td>2019-10-01</td>\n",
              "      <td>2019</td>\n",
              "    </tr>\n",
              "  </tbody>\n",
              "</table>\n",
              "</div>"
            ],
            "text/plain": [
              "  last_pymnt_d_clean  last_pymnt_d_year\n",
              "0         2019-08-01               2019\n",
              "1         2019-07-01               2019\n",
              "2         2019-10-01               2019\n",
              "3         2019-10-01               2019\n",
              "4         2019-10-01               2019"
            ]
          },
          "metadata": {
            "tags": []
          },
          "execution_count": 86
        }
      ]
    },
    {
      "cell_type": "code",
      "metadata": {
        "id": "MU67fqkGNbiT",
        "colab_type": "code",
        "outputId": "92251309-f218-4b38-c658-b59061d70a08",
        "colab": {
          "base_uri": "https://localhost:8080/",
          "height": 34
        }
      },
      "source": [
        "# Check new column's dtype\n",
        "df['last_pymnt_d_year'].dtype"
      ],
      "execution_count": 87,
      "outputs": [
        {
          "output_type": "execute_result",
          "data": {
            "text/plain": [
              "dtype('int64')"
            ]
          },
          "metadata": {
            "tags": []
          },
          "execution_count": 87
        }
      ]
    },
    {
      "cell_type": "code",
      "metadata": {
        "id": "3XneeK2nKH_u",
        "colab_type": "code",
        "colab": {}
      },
      "source": [
        "# Create new column and convert data to month\n",
        "df['last_pymnt_d_month'] = df['last_pymnt_d_clean'].dt.month"
      ],
      "execution_count": 0,
      "outputs": []
    },
    {
      "cell_type": "code",
      "metadata": {
        "id": "w54Kg9zHKJFO",
        "colab_type": "code",
        "outputId": "eb2ae6c0-4fba-4430-e698-bac939052738",
        "colab": {
          "base_uri": "https://localhost:8080/",
          "height": 204
        }
      },
      "source": [
        "# Compare old and new\n",
        "df[['last_pymnt_d_clean', 'last_pymnt_d_month']].head()"
      ],
      "execution_count": 89,
      "outputs": [
        {
          "output_type": "execute_result",
          "data": {
            "text/html": [
              "<div>\n",
              "<style scoped>\n",
              "    .dataframe tbody tr th:only-of-type {\n",
              "        vertical-align: middle;\n",
              "    }\n",
              "\n",
              "    .dataframe tbody tr th {\n",
              "        vertical-align: top;\n",
              "    }\n",
              "\n",
              "    .dataframe thead th {\n",
              "        text-align: right;\n",
              "    }\n",
              "</style>\n",
              "<table border=\"1\" class=\"dataframe\">\n",
              "  <thead>\n",
              "    <tr style=\"text-align: right;\">\n",
              "      <th></th>\n",
              "      <th>last_pymnt_d_clean</th>\n",
              "      <th>last_pymnt_d_month</th>\n",
              "    </tr>\n",
              "  </thead>\n",
              "  <tbody>\n",
              "    <tr>\n",
              "      <th>0</th>\n",
              "      <td>2019-08-01</td>\n",
              "      <td>8</td>\n",
              "    </tr>\n",
              "    <tr>\n",
              "      <th>1</th>\n",
              "      <td>2019-07-01</td>\n",
              "      <td>7</td>\n",
              "    </tr>\n",
              "    <tr>\n",
              "      <th>2</th>\n",
              "      <td>2019-10-01</td>\n",
              "      <td>10</td>\n",
              "    </tr>\n",
              "    <tr>\n",
              "      <th>3</th>\n",
              "      <td>2019-10-01</td>\n",
              "      <td>10</td>\n",
              "    </tr>\n",
              "    <tr>\n",
              "      <th>4</th>\n",
              "      <td>2019-10-01</td>\n",
              "      <td>10</td>\n",
              "    </tr>\n",
              "  </tbody>\n",
              "</table>\n",
              "</div>"
            ],
            "text/plain": [
              "  last_pymnt_d_clean  last_pymnt_d_month\n",
              "0         2019-08-01                   8\n",
              "1         2019-07-01                   7\n",
              "2         2019-10-01                  10\n",
              "3         2019-10-01                  10\n",
              "4         2019-10-01                  10"
            ]
          },
          "metadata": {
            "tags": []
          },
          "execution_count": 89
        }
      ]
    },
    {
      "cell_type": "code",
      "metadata": {
        "id": "Ig8beqcsfBIC",
        "colab_type": "code",
        "outputId": "10a0fd61-4aa8-4f1b-a3b3-224a72ae19d2",
        "colab": {
          "base_uri": "https://localhost:8080/",
          "height": 51
        }
      },
      "source": [
        "# Ensure there are no null values\n",
        "print(df['last_pymnt_d_year'].isnull().sum())\n",
        "df['last_pymnt_d_month'].isnull().sum()"
      ],
      "execution_count": 90,
      "outputs": [
        {
          "output_type": "stream",
          "text": [
            "0\n"
          ],
          "name": "stdout"
        },
        {
          "output_type": "execute_result",
          "data": {
            "text/plain": [
              "0"
            ]
          },
          "metadata": {
            "tags": []
          },
          "execution_count": 90
        }
      ]
    },
    {
      "cell_type": "code",
      "metadata": {
        "id": "LruAu-A10V-w",
        "colab_type": "code",
        "outputId": "5e96dc1e-8c70-432b-cd4f-dd242dcfe4ac",
        "colab": {
          "base_uri": "https://localhost:8080/",
          "height": 34
        }
      },
      "source": [
        "# Check dtype\n",
        "df['last_pymnt_d_month'].dtypes"
      ],
      "execution_count": 91,
      "outputs": [
        {
          "output_type": "execute_result",
          "data": {
            "text/plain": [
              "dtype('int64')"
            ]
          },
          "metadata": {
            "tags": []
          },
          "execution_count": 91
        }
      ]
    },
    {
      "cell_type": "markdown",
      "metadata": {
        "colab_type": "text",
        "id": "L8k0LiHmo5EU"
      },
      "source": [
        "# Stretch Goals\n",
        "\n",
        "You can do more with the LendingClub or Instacart datasets.\n",
        "\n",
        "LendingClub options:\n",
        "- There's one other column in the dataframe with percent signs. Remove them and convert to floats. You'll need to handle missing values.\n",
        "- Modify the `emp_title` column to replace titles with 'Other' if the title is not in the top 20. \n",
        "- Take initiatve and work on your own ideas!\n",
        "\n",
        "Instacart options:\n",
        "- Read [Instacart Market Basket Analysis, Winner's Interview: 2nd place, Kazuki Onodera](http://blog.kaggle.com/2017/09/21/instacart-market-basket-analysis-winners-interview-2nd-place-kazuki-onodera/), especially the **Feature Engineering** section. (Can you choose one feature from his bulleted lists, and try to engineer it with pandas code?)\n",
        "- Read and replicate parts of [Simple Exploration Notebook - Instacart](https://www.kaggle.com/sudalairajkumar/simple-exploration-notebook-instacart). (It's the Python Notebook with the most upvotes for this Kaggle competition.)\n",
        "- Take initiative and work on your own ideas!"
      ]
    },
    {
      "cell_type": "markdown",
      "metadata": {
        "id": "vJXU7Nx01jfw",
        "colab_type": "text"
      },
      "source": [
        "## LendingClub Options ##"
      ]
    },
    {
      "cell_type": "code",
      "metadata": {
        "id": "-r6Q8RO_1iSf",
        "colab_type": "code",
        "outputId": "b038e08d-dc09-4c71-d333-b44f2d50ffd8",
        "colab": {
          "base_uri": "https://localhost:8080/",
          "height": 338
        }
      },
      "source": [
        "# Determine which column also contains a percent sign\n",
        "df.head()"
      ],
      "execution_count": 92,
      "outputs": [
        {
          "output_type": "execute_result",
          "data": {
            "text/html": [
              "<div>\n",
              "<style scoped>\n",
              "    .dataframe tbody tr th:only-of-type {\n",
              "        vertical-align: middle;\n",
              "    }\n",
              "\n",
              "    .dataframe tbody tr th {\n",
              "        vertical-align: top;\n",
              "    }\n",
              "\n",
              "    .dataframe thead th {\n",
              "        text-align: right;\n",
              "    }\n",
              "</style>\n",
              "<table border=\"1\" class=\"dataframe\">\n",
              "  <thead>\n",
              "    <tr style=\"text-align: right;\">\n",
              "      <th></th>\n",
              "      <th>id</th>\n",
              "      <th>member_id</th>\n",
              "      <th>loan_amnt</th>\n",
              "      <th>funded_amnt</th>\n",
              "      <th>funded_amnt_inv</th>\n",
              "      <th>term</th>\n",
              "      <th>int_rate</th>\n",
              "      <th>installment</th>\n",
              "      <th>grade</th>\n",
              "      <th>sub_grade</th>\n",
              "      <th>emp_title</th>\n",
              "      <th>emp_length</th>\n",
              "      <th>home_ownership</th>\n",
              "      <th>annual_inc</th>\n",
              "      <th>verification_status</th>\n",
              "      <th>issue_d</th>\n",
              "      <th>loan_status</th>\n",
              "      <th>pymnt_plan</th>\n",
              "      <th>url</th>\n",
              "      <th>desc</th>\n",
              "      <th>purpose</th>\n",
              "      <th>title</th>\n",
              "      <th>zip_code</th>\n",
              "      <th>addr_state</th>\n",
              "      <th>dti</th>\n",
              "      <th>delinq_2yrs</th>\n",
              "      <th>earliest_cr_line</th>\n",
              "      <th>inq_last_6mths</th>\n",
              "      <th>mths_since_last_delinq</th>\n",
              "      <th>mths_since_last_record</th>\n",
              "      <th>open_acc</th>\n",
              "      <th>pub_rec</th>\n",
              "      <th>revol_bal</th>\n",
              "      <th>revol_util</th>\n",
              "      <th>total_acc</th>\n",
              "      <th>initial_list_status</th>\n",
              "      <th>out_prncp</th>\n",
              "      <th>out_prncp_inv</th>\n",
              "      <th>total_pymnt</th>\n",
              "      <th>total_pymnt_inv</th>\n",
              "      <th>total_rec_prncp</th>\n",
              "      <th>total_rec_int</th>\n",
              "      <th>total_rec_late_fee</th>\n",
              "      <th>recoveries</th>\n",
              "      <th>collection_recovery_fee</th>\n",
              "      <th>last_pymnt_d</th>\n",
              "      <th>last_pymnt_amnt</th>\n",
              "      <th>next_pymnt_d</th>\n",
              "      <th>last_credit_pull_d</th>\n",
              "      <th>collections_12_mths_ex_med</th>\n",
              "      <th>...</th>\n",
              "      <th>total_bal_ex_mort</th>\n",
              "      <th>total_bc_limit</th>\n",
              "      <th>total_il_high_credit_limit</th>\n",
              "      <th>revol_bal_joint</th>\n",
              "      <th>sec_app_earliest_cr_line</th>\n",
              "      <th>sec_app_inq_last_6mths</th>\n",
              "      <th>sec_app_mort_acc</th>\n",
              "      <th>sec_app_open_acc</th>\n",
              "      <th>sec_app_revol_util</th>\n",
              "      <th>sec_app_open_act_il</th>\n",
              "      <th>sec_app_num_rev_accts</th>\n",
              "      <th>sec_app_chargeoff_within_12_mths</th>\n",
              "      <th>sec_app_collections_12_mths_ex_med</th>\n",
              "      <th>sec_app_mths_since_last_major_derog</th>\n",
              "      <th>hardship_flag</th>\n",
              "      <th>hardship_type</th>\n",
              "      <th>hardship_reason</th>\n",
              "      <th>hardship_status</th>\n",
              "      <th>deferral_term</th>\n",
              "      <th>hardship_amount</th>\n",
              "      <th>hardship_start_date</th>\n",
              "      <th>hardship_end_date</th>\n",
              "      <th>payment_plan_start_date</th>\n",
              "      <th>hardship_length</th>\n",
              "      <th>hardship_dpd</th>\n",
              "      <th>hardship_loan_status</th>\n",
              "      <th>orig_projected_additional_accrued_interest</th>\n",
              "      <th>hardship_payoff_balance_amount</th>\n",
              "      <th>hardship_last_payment_amount</th>\n",
              "      <th>debt_settlement_flag</th>\n",
              "      <th>debt_settlement_flag_date</th>\n",
              "      <th>settlement_status</th>\n",
              "      <th>settlement_date</th>\n",
              "      <th>settlement_amount</th>\n",
              "      <th>settlement_percentage</th>\n",
              "      <th>settlement_term</th>\n",
              "      <th>int_rate_float</th>\n",
              "      <th>int_rate_double</th>\n",
              "      <th>emp_title_clean</th>\n",
              "      <th>emp_title_manager</th>\n",
              "      <th>issue_d_clean</th>\n",
              "      <th>year</th>\n",
              "      <th>month</th>\n",
              "      <th>weekday</th>\n",
              "      <th>term_int</th>\n",
              "      <th>term_double</th>\n",
              "      <th>loan_status_is_great</th>\n",
              "      <th>last_pymnt_d_clean</th>\n",
              "      <th>last_pymnt_d_year</th>\n",
              "      <th>last_pymnt_d_month</th>\n",
              "    </tr>\n",
              "  </thead>\n",
              "  <tbody>\n",
              "    <tr>\n",
              "      <th>0</th>\n",
              "      <td>NaN</td>\n",
              "      <td>NaN</td>\n",
              "      <td>35000</td>\n",
              "      <td>35000</td>\n",
              "      <td>35000.0</td>\n",
              "      <td>36 months</td>\n",
              "      <td>14.47%</td>\n",
              "      <td>1204.23</td>\n",
              "      <td>C</td>\n",
              "      <td>C2</td>\n",
              "      <td>Staff Physician</td>\n",
              "      <td>8 years</td>\n",
              "      <td>MORTGAGE</td>\n",
              "      <td>360000.0</td>\n",
              "      <td>Verified</td>\n",
              "      <td>Dec-2018</td>\n",
              "      <td>Fully Paid</td>\n",
              "      <td>n</td>\n",
              "      <td>NaN</td>\n",
              "      <td>NaN</td>\n",
              "      <td>credit_card</td>\n",
              "      <td>Credit card refinancing</td>\n",
              "      <td>336xx</td>\n",
              "      <td>FL</td>\n",
              "      <td>19.90</td>\n",
              "      <td>0</td>\n",
              "      <td>Apr-1995</td>\n",
              "      <td>1</td>\n",
              "      <td>NaN</td>\n",
              "      <td>NaN</td>\n",
              "      <td>24</td>\n",
              "      <td>0</td>\n",
              "      <td>57259</td>\n",
              "      <td>43.2%</td>\n",
              "      <td>51</td>\n",
              "      <td>w</td>\n",
              "      <td>0.00</td>\n",
              "      <td>0.00</td>\n",
              "      <td>38187.046837</td>\n",
              "      <td>38187.05</td>\n",
              "      <td>35000.00</td>\n",
              "      <td>3187.05</td>\n",
              "      <td>0.0</td>\n",
              "      <td>0.0</td>\n",
              "      <td>0.0</td>\n",
              "      <td>Aug-2019</td>\n",
              "      <td>29882.16</td>\n",
              "      <td>NaN</td>\n",
              "      <td>Sep-2019</td>\n",
              "      <td>0</td>\n",
              "      <td>...</td>\n",
              "      <td>169286</td>\n",
              "      <td>124600</td>\n",
              "      <td>258401</td>\n",
              "      <td>NaN</td>\n",
              "      <td>NaN</td>\n",
              "      <td>NaN</td>\n",
              "      <td>NaN</td>\n",
              "      <td>NaN</td>\n",
              "      <td>NaN</td>\n",
              "      <td>NaN</td>\n",
              "      <td>NaN</td>\n",
              "      <td>NaN</td>\n",
              "      <td>NaN</td>\n",
              "      <td>NaN</td>\n",
              "      <td>N</td>\n",
              "      <td>NaN</td>\n",
              "      <td>NaN</td>\n",
              "      <td>NaN</td>\n",
              "      <td>NaN</td>\n",
              "      <td>NaN</td>\n",
              "      <td>NaN</td>\n",
              "      <td>NaN</td>\n",
              "      <td>NaN</td>\n",
              "      <td>NaN</td>\n",
              "      <td>NaN</td>\n",
              "      <td>NaN</td>\n",
              "      <td>NaN</td>\n",
              "      <td>NaN</td>\n",
              "      <td>NaN</td>\n",
              "      <td>N</td>\n",
              "      <td>NaN</td>\n",
              "      <td>NaN</td>\n",
              "      <td>NaN</td>\n",
              "      <td>NaN</td>\n",
              "      <td>NaN</td>\n",
              "      <td>NaN</td>\n",
              "      <td>14.47</td>\n",
              "      <td>28.94</td>\n",
              "      <td>Staff Physician</td>\n",
              "      <td>False</td>\n",
              "      <td>2018-12-01</td>\n",
              "      <td>2018</td>\n",
              "      <td>12</td>\n",
              "      <td>5</td>\n",
              "      <td>36</td>\n",
              "      <td>72</td>\n",
              "      <td>1</td>\n",
              "      <td>2019-08-01</td>\n",
              "      <td>2019</td>\n",
              "      <td>8</td>\n",
              "    </tr>\n",
              "    <tr>\n",
              "      <th>1</th>\n",
              "      <td>NaN</td>\n",
              "      <td>NaN</td>\n",
              "      <td>5000</td>\n",
              "      <td>5000</td>\n",
              "      <td>5000.0</td>\n",
              "      <td>36 months</td>\n",
              "      <td>22.35%</td>\n",
              "      <td>191.86</td>\n",
              "      <td>D</td>\n",
              "      <td>D5</td>\n",
              "      <td>Director of Sales</td>\n",
              "      <td>10+ years</td>\n",
              "      <td>MORTGAGE</td>\n",
              "      <td>72000.0</td>\n",
              "      <td>Source Verified</td>\n",
              "      <td>Dec-2018</td>\n",
              "      <td>Fully Paid</td>\n",
              "      <td>n</td>\n",
              "      <td>NaN</td>\n",
              "      <td>NaN</td>\n",
              "      <td>debt_consolidation</td>\n",
              "      <td>Debt consolidation</td>\n",
              "      <td>333xx</td>\n",
              "      <td>FL</td>\n",
              "      <td>20.12</td>\n",
              "      <td>0</td>\n",
              "      <td>Mar-2010</td>\n",
              "      <td>0</td>\n",
              "      <td>NaN</td>\n",
              "      <td>NaN</td>\n",
              "      <td>13</td>\n",
              "      <td>0</td>\n",
              "      <td>11720</td>\n",
              "      <td>47.1%</td>\n",
              "      <td>26</td>\n",
              "      <td>f</td>\n",
              "      <td>0.00</td>\n",
              "      <td>0.00</td>\n",
              "      <td>5615.977674</td>\n",
              "      <td>5615.98</td>\n",
              "      <td>5000.00</td>\n",
              "      <td>615.98</td>\n",
              "      <td>0.0</td>\n",
              "      <td>0.0</td>\n",
              "      <td>0.0</td>\n",
              "      <td>Jul-2019</td>\n",
              "      <td>4474.13</td>\n",
              "      <td>NaN</td>\n",
              "      <td>Aug-2019</td>\n",
              "      <td>0</td>\n",
              "      <td>...</td>\n",
              "      <td>34418</td>\n",
              "      <td>18200</td>\n",
              "      <td>37786</td>\n",
              "      <td>NaN</td>\n",
              "      <td>NaN</td>\n",
              "      <td>NaN</td>\n",
              "      <td>NaN</td>\n",
              "      <td>NaN</td>\n",
              "      <td>NaN</td>\n",
              "      <td>NaN</td>\n",
              "      <td>NaN</td>\n",
              "      <td>NaN</td>\n",
              "      <td>NaN</td>\n",
              "      <td>NaN</td>\n",
              "      <td>N</td>\n",
              "      <td>NaN</td>\n",
              "      <td>NaN</td>\n",
              "      <td>NaN</td>\n",
              "      <td>NaN</td>\n",
              "      <td>NaN</td>\n",
              "      <td>NaN</td>\n",
              "      <td>NaN</td>\n",
              "      <td>NaN</td>\n",
              "      <td>NaN</td>\n",
              "      <td>NaN</td>\n",
              "      <td>NaN</td>\n",
              "      <td>NaN</td>\n",
              "      <td>NaN</td>\n",
              "      <td>NaN</td>\n",
              "      <td>N</td>\n",
              "      <td>NaN</td>\n",
              "      <td>NaN</td>\n",
              "      <td>NaN</td>\n",
              "      <td>NaN</td>\n",
              "      <td>NaN</td>\n",
              "      <td>NaN</td>\n",
              "      <td>22.35</td>\n",
              "      <td>44.70</td>\n",
              "      <td>Director Of Sales</td>\n",
              "      <td>False</td>\n",
              "      <td>2018-12-01</td>\n",
              "      <td>2018</td>\n",
              "      <td>12</td>\n",
              "      <td>5</td>\n",
              "      <td>36</td>\n",
              "      <td>72</td>\n",
              "      <td>1</td>\n",
              "      <td>2019-07-01</td>\n",
              "      <td>2019</td>\n",
              "      <td>7</td>\n",
              "    </tr>\n",
              "    <tr>\n",
              "      <th>2</th>\n",
              "      <td>NaN</td>\n",
              "      <td>NaN</td>\n",
              "      <td>10000</td>\n",
              "      <td>10000</td>\n",
              "      <td>10000.0</td>\n",
              "      <td>60 months</td>\n",
              "      <td>23.40%</td>\n",
              "      <td>284.21</td>\n",
              "      <td>E</td>\n",
              "      <td>E1</td>\n",
              "      <td>NaN</td>\n",
              "      <td>&lt; 1 year</td>\n",
              "      <td>RENT</td>\n",
              "      <td>55000.0</td>\n",
              "      <td>Source Verified</td>\n",
              "      <td>Dec-2018</td>\n",
              "      <td>Current</td>\n",
              "      <td>n</td>\n",
              "      <td>NaN</td>\n",
              "      <td>NaN</td>\n",
              "      <td>debt_consolidation</td>\n",
              "      <td>Debt consolidation</td>\n",
              "      <td>902xx</td>\n",
              "      <td>CA</td>\n",
              "      <td>13.51</td>\n",
              "      <td>0</td>\n",
              "      <td>Apr-2007</td>\n",
              "      <td>0</td>\n",
              "      <td>44.0</td>\n",
              "      <td>88.0</td>\n",
              "      <td>9</td>\n",
              "      <td>1</td>\n",
              "      <td>11859</td>\n",
              "      <td>53.9%</td>\n",
              "      <td>11</td>\n",
              "      <td>w</td>\n",
              "      <td>9025.41</td>\n",
              "      <td>9025.41</td>\n",
              "      <td>2822.600000</td>\n",
              "      <td>2822.60</td>\n",
              "      <td>974.59</td>\n",
              "      <td>1848.01</td>\n",
              "      <td>0.0</td>\n",
              "      <td>0.0</td>\n",
              "      <td>0.0</td>\n",
              "      <td>Oct-2019</td>\n",
              "      <td>284.21</td>\n",
              "      <td>Nov-2019</td>\n",
              "      <td>Oct-2019</td>\n",
              "      <td>0</td>\n",
              "      <td>...</td>\n",
              "      <td>21235</td>\n",
              "      <td>10500</td>\n",
              "      <td>12386</td>\n",
              "      <td>NaN</td>\n",
              "      <td>NaN</td>\n",
              "      <td>NaN</td>\n",
              "      <td>NaN</td>\n",
              "      <td>NaN</td>\n",
              "      <td>NaN</td>\n",
              "      <td>NaN</td>\n",
              "      <td>NaN</td>\n",
              "      <td>NaN</td>\n",
              "      <td>NaN</td>\n",
              "      <td>NaN</td>\n",
              "      <td>N</td>\n",
              "      <td>NaN</td>\n",
              "      <td>NaN</td>\n",
              "      <td>NaN</td>\n",
              "      <td>NaN</td>\n",
              "      <td>NaN</td>\n",
              "      <td>NaN</td>\n",
              "      <td>NaN</td>\n",
              "      <td>NaN</td>\n",
              "      <td>NaN</td>\n",
              "      <td>NaN</td>\n",
              "      <td>NaN</td>\n",
              "      <td>NaN</td>\n",
              "      <td>NaN</td>\n",
              "      <td>NaN</td>\n",
              "      <td>N</td>\n",
              "      <td>NaN</td>\n",
              "      <td>NaN</td>\n",
              "      <td>NaN</td>\n",
              "      <td>NaN</td>\n",
              "      <td>NaN</td>\n",
              "      <td>NaN</td>\n",
              "      <td>23.40</td>\n",
              "      <td>46.80</td>\n",
              "      <td>Unknown</td>\n",
              "      <td>False</td>\n",
              "      <td>2018-12-01</td>\n",
              "      <td>2018</td>\n",
              "      <td>12</td>\n",
              "      <td>5</td>\n",
              "      <td>60</td>\n",
              "      <td>120</td>\n",
              "      <td>1</td>\n",
              "      <td>2019-10-01</td>\n",
              "      <td>2019</td>\n",
              "      <td>10</td>\n",
              "    </tr>\n",
              "    <tr>\n",
              "      <th>3</th>\n",
              "      <td>NaN</td>\n",
              "      <td>NaN</td>\n",
              "      <td>17100</td>\n",
              "      <td>17100</td>\n",
              "      <td>17100.0</td>\n",
              "      <td>36 months</td>\n",
              "      <td>18.94%</td>\n",
              "      <td>626.30</td>\n",
              "      <td>D</td>\n",
              "      <td>D2</td>\n",
              "      <td>Receptionist</td>\n",
              "      <td>10+ years</td>\n",
              "      <td>RENT</td>\n",
              "      <td>38000.0</td>\n",
              "      <td>Verified</td>\n",
              "      <td>Dec-2018</td>\n",
              "      <td>Current</td>\n",
              "      <td>n</td>\n",
              "      <td>NaN</td>\n",
              "      <td>NaN</td>\n",
              "      <td>debt_consolidation</td>\n",
              "      <td>Debt consolidation</td>\n",
              "      <td>150xx</td>\n",
              "      <td>PA</td>\n",
              "      <td>38.09</td>\n",
              "      <td>0</td>\n",
              "      <td>Mar-1998</td>\n",
              "      <td>1</td>\n",
              "      <td>47.0</td>\n",
              "      <td>NaN</td>\n",
              "      <td>14</td>\n",
              "      <td>0</td>\n",
              "      <td>15323</td>\n",
              "      <td>53%</td>\n",
              "      <td>21</td>\n",
              "      <td>w</td>\n",
              "      <td>13271.86</td>\n",
              "      <td>13271.86</td>\n",
              "      <td>6236.010000</td>\n",
              "      <td>6236.01</td>\n",
              "      <td>3828.14</td>\n",
              "      <td>2407.87</td>\n",
              "      <td>0.0</td>\n",
              "      <td>0.0</td>\n",
              "      <td>0.0</td>\n",
              "      <td>Oct-2019</td>\n",
              "      <td>626.30</td>\n",
              "      <td>Nov-2019</td>\n",
              "      <td>Oct-2019</td>\n",
              "      <td>0</td>\n",
              "      <td>...</td>\n",
              "      <td>43351</td>\n",
              "      <td>16600</td>\n",
              "      <td>41784</td>\n",
              "      <td>NaN</td>\n",
              "      <td>NaN</td>\n",
              "      <td>NaN</td>\n",
              "      <td>NaN</td>\n",
              "      <td>NaN</td>\n",
              "      <td>NaN</td>\n",
              "      <td>NaN</td>\n",
              "      <td>NaN</td>\n",
              "      <td>NaN</td>\n",
              "      <td>NaN</td>\n",
              "      <td>NaN</td>\n",
              "      <td>N</td>\n",
              "      <td>NaN</td>\n",
              "      <td>NaN</td>\n",
              "      <td>NaN</td>\n",
              "      <td>NaN</td>\n",
              "      <td>NaN</td>\n",
              "      <td>NaN</td>\n",
              "      <td>NaN</td>\n",
              "      <td>NaN</td>\n",
              "      <td>NaN</td>\n",
              "      <td>NaN</td>\n",
              "      <td>NaN</td>\n",
              "      <td>NaN</td>\n",
              "      <td>NaN</td>\n",
              "      <td>NaN</td>\n",
              "      <td>N</td>\n",
              "      <td>NaN</td>\n",
              "      <td>NaN</td>\n",
              "      <td>NaN</td>\n",
              "      <td>NaN</td>\n",
              "      <td>NaN</td>\n",
              "      <td>NaN</td>\n",
              "      <td>18.94</td>\n",
              "      <td>37.88</td>\n",
              "      <td>Receptionist</td>\n",
              "      <td>False</td>\n",
              "      <td>2018-12-01</td>\n",
              "      <td>2018</td>\n",
              "      <td>12</td>\n",
              "      <td>5</td>\n",
              "      <td>36</td>\n",
              "      <td>72</td>\n",
              "      <td>1</td>\n",
              "      <td>2019-10-01</td>\n",
              "      <td>2019</td>\n",
              "      <td>10</td>\n",
              "    </tr>\n",
              "    <tr>\n",
              "      <th>4</th>\n",
              "      <td>NaN</td>\n",
              "      <td>NaN</td>\n",
              "      <td>4000</td>\n",
              "      <td>4000</td>\n",
              "      <td>4000.0</td>\n",
              "      <td>36 months</td>\n",
              "      <td>10.72%</td>\n",
              "      <td>130.43</td>\n",
              "      <td>B</td>\n",
              "      <td>B2</td>\n",
              "      <td>Extrusion assistant</td>\n",
              "      <td>10+ years</td>\n",
              "      <td>MORTGAGE</td>\n",
              "      <td>56000.0</td>\n",
              "      <td>Verified</td>\n",
              "      <td>Dec-2018</td>\n",
              "      <td>Current</td>\n",
              "      <td>n</td>\n",
              "      <td>NaN</td>\n",
              "      <td>NaN</td>\n",
              "      <td>credit_card</td>\n",
              "      <td>Credit card refinancing</td>\n",
              "      <td>301xx</td>\n",
              "      <td>GA</td>\n",
              "      <td>31.03</td>\n",
              "      <td>0</td>\n",
              "      <td>Sep-2006</td>\n",
              "      <td>0</td>\n",
              "      <td>NaN</td>\n",
              "      <td>NaN</td>\n",
              "      <td>7</td>\n",
              "      <td>0</td>\n",
              "      <td>4518</td>\n",
              "      <td>28.6%</td>\n",
              "      <td>11</td>\n",
              "      <td>w</td>\n",
              "      <td>3014.03</td>\n",
              "      <td>3014.03</td>\n",
              "      <td>1291.210000</td>\n",
              "      <td>1291.21</td>\n",
              "      <td>985.97</td>\n",
              "      <td>305.24</td>\n",
              "      <td>0.0</td>\n",
              "      <td>0.0</td>\n",
              "      <td>0.0</td>\n",
              "      <td>Oct-2019</td>\n",
              "      <td>130.43</td>\n",
              "      <td>Nov-2019</td>\n",
              "      <td>Oct-2019</td>\n",
              "      <td>1</td>\n",
              "      <td>...</td>\n",
              "      <td>71375</td>\n",
              "      <td>12300</td>\n",
              "      <td>77865</td>\n",
              "      <td>NaN</td>\n",
              "      <td>NaN</td>\n",
              "      <td>NaN</td>\n",
              "      <td>NaN</td>\n",
              "      <td>NaN</td>\n",
              "      <td>NaN</td>\n",
              "      <td>NaN</td>\n",
              "      <td>NaN</td>\n",
              "      <td>NaN</td>\n",
              "      <td>NaN</td>\n",
              "      <td>NaN</td>\n",
              "      <td>N</td>\n",
              "      <td>NaN</td>\n",
              "      <td>NaN</td>\n",
              "      <td>NaN</td>\n",
              "      <td>NaN</td>\n",
              "      <td>NaN</td>\n",
              "      <td>NaN</td>\n",
              "      <td>NaN</td>\n",
              "      <td>NaN</td>\n",
              "      <td>NaN</td>\n",
              "      <td>NaN</td>\n",
              "      <td>NaN</td>\n",
              "      <td>NaN</td>\n",
              "      <td>NaN</td>\n",
              "      <td>NaN</td>\n",
              "      <td>N</td>\n",
              "      <td>NaN</td>\n",
              "      <td>NaN</td>\n",
              "      <td>NaN</td>\n",
              "      <td>NaN</td>\n",
              "      <td>NaN</td>\n",
              "      <td>NaN</td>\n",
              "      <td>10.72</td>\n",
              "      <td>21.44</td>\n",
              "      <td>Extrusion Assistant</td>\n",
              "      <td>False</td>\n",
              "      <td>2018-12-01</td>\n",
              "      <td>2018</td>\n",
              "      <td>12</td>\n",
              "      <td>5</td>\n",
              "      <td>36</td>\n",
              "      <td>72</td>\n",
              "      <td>1</td>\n",
              "      <td>2019-10-01</td>\n",
              "      <td>2019</td>\n",
              "      <td>10</td>\n",
              "    </tr>\n",
              "  </tbody>\n",
              "</table>\n",
              "<p>5 rows × 158 columns</p>\n",
              "</div>"
            ],
            "text/plain": [
              "   id  member_id  loan_amnt  funded_amnt  funded_amnt_inv        term  \\\n",
              "0 NaN        NaN      35000        35000          35000.0   36 months   \n",
              "1 NaN        NaN       5000         5000           5000.0   36 months   \n",
              "2 NaN        NaN      10000        10000          10000.0   60 months   \n",
              "3 NaN        NaN      17100        17100          17100.0   36 months   \n",
              "4 NaN        NaN       4000         4000           4000.0   36 months   \n",
              "\n",
              "  int_rate  installment grade sub_grade             emp_title emp_length  \\\n",
              "0   14.47%      1204.23     C        C2       Staff Physician    8 years   \n",
              "1   22.35%       191.86     D        D5     Director of Sales  10+ years   \n",
              "2   23.40%       284.21     E        E1                   NaN   < 1 year   \n",
              "3   18.94%       626.30     D        D2         Receptionist   10+ years   \n",
              "4   10.72%       130.43     B        B2  Extrusion assistant   10+ years   \n",
              "\n",
              "  home_ownership  annual_inc verification_status   issue_d loan_status  \\\n",
              "0       MORTGAGE    360000.0            Verified  Dec-2018  Fully Paid   \n",
              "1       MORTGAGE     72000.0     Source Verified  Dec-2018  Fully Paid   \n",
              "2           RENT     55000.0     Source Verified  Dec-2018     Current   \n",
              "3           RENT     38000.0            Verified  Dec-2018     Current   \n",
              "4       MORTGAGE     56000.0            Verified  Dec-2018     Current   \n",
              "\n",
              "  pymnt_plan  url  desc             purpose                    title zip_code  \\\n",
              "0          n  NaN   NaN         credit_card  Credit card refinancing    336xx   \n",
              "1          n  NaN   NaN  debt_consolidation       Debt consolidation    333xx   \n",
              "2          n  NaN   NaN  debt_consolidation       Debt consolidation    902xx   \n",
              "3          n  NaN   NaN  debt_consolidation       Debt consolidation    150xx   \n",
              "4          n  NaN   NaN         credit_card  Credit card refinancing    301xx   \n",
              "\n",
              "  addr_state    dti  delinq_2yrs earliest_cr_line  inq_last_6mths  \\\n",
              "0         FL  19.90            0         Apr-1995               1   \n",
              "1         FL  20.12            0         Mar-2010               0   \n",
              "2         CA  13.51            0         Apr-2007               0   \n",
              "3         PA  38.09            0         Mar-1998               1   \n",
              "4         GA  31.03            0         Sep-2006               0   \n",
              "\n",
              "   mths_since_last_delinq  mths_since_last_record  open_acc  pub_rec  \\\n",
              "0                     NaN                     NaN        24        0   \n",
              "1                     NaN                     NaN        13        0   \n",
              "2                    44.0                    88.0         9        1   \n",
              "3                    47.0                     NaN        14        0   \n",
              "4                     NaN                     NaN         7        0   \n",
              "\n",
              "   revol_bal revol_util  total_acc initial_list_status  out_prncp  \\\n",
              "0      57259      43.2%         51                   w       0.00   \n",
              "1      11720      47.1%         26                   f       0.00   \n",
              "2      11859      53.9%         11                   w    9025.41   \n",
              "3      15323        53%         21                   w   13271.86   \n",
              "4       4518      28.6%         11                   w    3014.03   \n",
              "\n",
              "   out_prncp_inv   total_pymnt  total_pymnt_inv  total_rec_prncp  \\\n",
              "0           0.00  38187.046837         38187.05         35000.00   \n",
              "1           0.00   5615.977674          5615.98          5000.00   \n",
              "2        9025.41   2822.600000          2822.60           974.59   \n",
              "3       13271.86   6236.010000          6236.01          3828.14   \n",
              "4        3014.03   1291.210000          1291.21           985.97   \n",
              "\n",
              "   total_rec_int  total_rec_late_fee  recoveries  collection_recovery_fee  \\\n",
              "0        3187.05                 0.0         0.0                      0.0   \n",
              "1         615.98                 0.0         0.0                      0.0   \n",
              "2        1848.01                 0.0         0.0                      0.0   \n",
              "3        2407.87                 0.0         0.0                      0.0   \n",
              "4         305.24                 0.0         0.0                      0.0   \n",
              "\n",
              "  last_pymnt_d  last_pymnt_amnt next_pymnt_d last_credit_pull_d  \\\n",
              "0     Aug-2019         29882.16          NaN           Sep-2019   \n",
              "1     Jul-2019          4474.13          NaN           Aug-2019   \n",
              "2     Oct-2019           284.21     Nov-2019           Oct-2019   \n",
              "3     Oct-2019           626.30     Nov-2019           Oct-2019   \n",
              "4     Oct-2019           130.43     Nov-2019           Oct-2019   \n",
              "\n",
              "   collections_12_mths_ex_med  ...  total_bal_ex_mort  total_bc_limit  \\\n",
              "0                           0  ...             169286          124600   \n",
              "1                           0  ...              34418           18200   \n",
              "2                           0  ...              21235           10500   \n",
              "3                           0  ...              43351           16600   \n",
              "4                           1  ...              71375           12300   \n",
              "\n",
              "  total_il_high_credit_limit  revol_bal_joint  sec_app_earliest_cr_line  \\\n",
              "0                     258401              NaN                       NaN   \n",
              "1                      37786              NaN                       NaN   \n",
              "2                      12386              NaN                       NaN   \n",
              "3                      41784              NaN                       NaN   \n",
              "4                      77865              NaN                       NaN   \n",
              "\n",
              "  sec_app_inq_last_6mths  sec_app_mort_acc  sec_app_open_acc  \\\n",
              "0                    NaN               NaN               NaN   \n",
              "1                    NaN               NaN               NaN   \n",
              "2                    NaN               NaN               NaN   \n",
              "3                    NaN               NaN               NaN   \n",
              "4                    NaN               NaN               NaN   \n",
              "\n",
              "   sec_app_revol_util  sec_app_open_act_il  sec_app_num_rev_accts  \\\n",
              "0                 NaN                  NaN                    NaN   \n",
              "1                 NaN                  NaN                    NaN   \n",
              "2                 NaN                  NaN                    NaN   \n",
              "3                 NaN                  NaN                    NaN   \n",
              "4                 NaN                  NaN                    NaN   \n",
              "\n",
              "   sec_app_chargeoff_within_12_mths  sec_app_collections_12_mths_ex_med  \\\n",
              "0                               NaN                                 NaN   \n",
              "1                               NaN                                 NaN   \n",
              "2                               NaN                                 NaN   \n",
              "3                               NaN                                 NaN   \n",
              "4                               NaN                                 NaN   \n",
              "\n",
              "   sec_app_mths_since_last_major_derog  hardship_flag  hardship_type  \\\n",
              "0                                  NaN              N            NaN   \n",
              "1                                  NaN              N            NaN   \n",
              "2                                  NaN              N            NaN   \n",
              "3                                  NaN              N            NaN   \n",
              "4                                  NaN              N            NaN   \n",
              "\n",
              "   hardship_reason  hardship_status  deferral_term  hardship_amount  \\\n",
              "0              NaN              NaN            NaN              NaN   \n",
              "1              NaN              NaN            NaN              NaN   \n",
              "2              NaN              NaN            NaN              NaN   \n",
              "3              NaN              NaN            NaN              NaN   \n",
              "4              NaN              NaN            NaN              NaN   \n",
              "\n",
              "   hardship_start_date  hardship_end_date  payment_plan_start_date  \\\n",
              "0                  NaN                NaN                      NaN   \n",
              "1                  NaN                NaN                      NaN   \n",
              "2                  NaN                NaN                      NaN   \n",
              "3                  NaN                NaN                      NaN   \n",
              "4                  NaN                NaN                      NaN   \n",
              "\n",
              "   hardship_length  hardship_dpd  hardship_loan_status  \\\n",
              "0              NaN           NaN                   NaN   \n",
              "1              NaN           NaN                   NaN   \n",
              "2              NaN           NaN                   NaN   \n",
              "3              NaN           NaN                   NaN   \n",
              "4              NaN           NaN                   NaN   \n",
              "\n",
              "   orig_projected_additional_accrued_interest  hardship_payoff_balance_amount  \\\n",
              "0                                         NaN                             NaN   \n",
              "1                                         NaN                             NaN   \n",
              "2                                         NaN                             NaN   \n",
              "3                                         NaN                             NaN   \n",
              "4                                         NaN                             NaN   \n",
              "\n",
              "   hardship_last_payment_amount  debt_settlement_flag  \\\n",
              "0                           NaN                     N   \n",
              "1                           NaN                     N   \n",
              "2                           NaN                     N   \n",
              "3                           NaN                     N   \n",
              "4                           NaN                     N   \n",
              "\n",
              "   debt_settlement_flag_date  settlement_status  settlement_date  \\\n",
              "0                        NaN                NaN              NaN   \n",
              "1                        NaN                NaN              NaN   \n",
              "2                        NaN                NaN              NaN   \n",
              "3                        NaN                NaN              NaN   \n",
              "4                        NaN                NaN              NaN   \n",
              "\n",
              "   settlement_amount  settlement_percentage  settlement_term  int_rate_float  \\\n",
              "0                NaN                    NaN              NaN           14.47   \n",
              "1                NaN                    NaN              NaN           22.35   \n",
              "2                NaN                    NaN              NaN           23.40   \n",
              "3                NaN                    NaN              NaN           18.94   \n",
              "4                NaN                    NaN              NaN           10.72   \n",
              "\n",
              "   int_rate_double      emp_title_clean  emp_title_manager  issue_d_clean  \\\n",
              "0            28.94      Staff Physician              False     2018-12-01   \n",
              "1            44.70    Director Of Sales              False     2018-12-01   \n",
              "2            46.80              Unknown              False     2018-12-01   \n",
              "3            37.88         Receptionist              False     2018-12-01   \n",
              "4            21.44  Extrusion Assistant              False     2018-12-01   \n",
              "\n",
              "   year  month  weekday  term_int  term_double  loan_status_is_great  \\\n",
              "0  2018     12        5        36           72                     1   \n",
              "1  2018     12        5        36           72                     1   \n",
              "2  2018     12        5        60          120                     1   \n",
              "3  2018     12        5        36           72                     1   \n",
              "4  2018     12        5        36           72                     1   \n",
              "\n",
              "   last_pymnt_d_clean  last_pymnt_d_year  last_pymnt_d_month  \n",
              "0          2019-08-01               2019                   8  \n",
              "1          2019-07-01               2019                   7  \n",
              "2          2019-10-01               2019                  10  \n",
              "3          2019-10-01               2019                  10  \n",
              "4          2019-10-01               2019                  10  \n",
              "\n",
              "[5 rows x 158 columns]"
            ]
          },
          "metadata": {
            "tags": []
          },
          "execution_count": 92
        }
      ]
    },
    {
      "cell_type": "code",
      "metadata": {
        "id": "fMjEspoJ2uDQ",
        "colab_type": "code",
        "outputId": "d27863d6-da2c-4eba-fa2a-d6549defdcc2",
        "colab": {
          "base_uri": "https://localhost:8080/",
          "height": 119
        }
      },
      "source": [
        "# Take a closer look at that column\n",
        "df['revol_util'].head()"
      ],
      "execution_count": 93,
      "outputs": [
        {
          "output_type": "execute_result",
          "data": {
            "text/plain": [
              "0    43.2%\n",
              "1    47.1%\n",
              "2    53.9%\n",
              "3      53%\n",
              "4    28.6%\n",
              "Name: revol_util, dtype: object"
            ]
          },
          "metadata": {
            "tags": []
          },
          "execution_count": 93
        }
      ]
    },
    {
      "cell_type": "code",
      "metadata": {
        "id": "FZZ1ywnl5Xzk",
        "colab_type": "code",
        "outputId": "c4aebc84-8322-4cd4-d169-b7f56a5d0e43",
        "colab": {
          "base_uri": "https://localhost:8080/",
          "height": 51
        }
      },
      "source": [
        "# Take a look at the value in the column's first cell\n",
        "revol_0 = df.loc[0, 'revol_util']\n",
        "print(revol_0)\n",
        "revol_0"
      ],
      "execution_count": 94,
      "outputs": [
        {
          "output_type": "stream",
          "text": [
            "43.2%\n"
          ],
          "name": "stdout"
        },
        {
          "output_type": "execute_result",
          "data": {
            "text/plain": [
              "'43.2%'"
            ]
          },
          "metadata": {
            "tags": []
          },
          "execution_count": 94
        }
      ]
    },
    {
      "cell_type": "code",
      "metadata": {
        "id": "Qa8Gv-d36hN7",
        "colab_type": "code",
        "outputId": "f29ad966-5206-4ae3-fd8b-4e90bd01442c",
        "colab": {
          "base_uri": "https://localhost:8080/",
          "height": 34
        }
      },
      "source": [
        "# Check for null values\n",
        "df['revol_util'].isnull().sum()"
      ],
      "execution_count": 95,
      "outputs": [
        {
          "output_type": "execute_result",
          "data": {
            "text/plain": [
              "156"
            ]
          },
          "metadata": {
            "tags": []
          },
          "execution_count": 95
        }
      ]
    },
    {
      "cell_type": "code",
      "metadata": {
        "id": "AAybYsKQ6nJS",
        "colab_type": "code",
        "colab": {}
      },
      "source": [
        "# Clean up the null values\n",
        "df['revol_util'] = df['revol_util'].fillna(method='ffill')"
      ],
      "execution_count": 0,
      "outputs": []
    },
    {
      "cell_type": "code",
      "metadata": {
        "id": "hqNlUu306xvl",
        "colab_type": "code",
        "outputId": "cf03df06-33b8-4a59-e5e4-12d237c8da77",
        "colab": {
          "base_uri": "https://localhost:8080/",
          "height": 34
        }
      },
      "source": [
        "# Ensure the column was cleaned\n",
        "df['revol_util'].isnull().sum()"
      ],
      "execution_count": 97,
      "outputs": [
        {
          "output_type": "execute_result",
          "data": {
            "text/plain": [
              "0"
            ]
          },
          "metadata": {
            "tags": []
          },
          "execution_count": 97
        }
      ]
    },
    {
      "cell_type": "code",
      "metadata": {
        "id": "ZKm5POdx2xZm",
        "colab_type": "code",
        "colab": {}
      },
      "source": [
        "# Create function to strip percent sign and convert strings into floats\n",
        "def revol_to_float(revolstring):\n",
        "  return float(revolstring.strip('%'))"
      ],
      "execution_count": 0,
      "outputs": []
    },
    {
      "cell_type": "code",
      "metadata": {
        "id": "b1lST7we5jOU",
        "colab_type": "code",
        "outputId": "53739596-d90d-47c5-8ec7-d1d2dd2e3b92",
        "colab": {
          "base_uri": "https://localhost:8080/",
          "height": 136
        }
      },
      "source": [
        "# Apply the function to the column\n",
        "df['revol_util_float'] = df['revol_util'].apply(revol_to_float)\n",
        "df.columns"
      ],
      "execution_count": 99,
      "outputs": [
        {
          "output_type": "execute_result",
          "data": {
            "text/plain": [
              "Index(['id', 'member_id', 'loan_amnt', 'funded_amnt', 'funded_amnt_inv',\n",
              "       'term', 'int_rate', 'installment', 'grade', 'sub_grade',\n",
              "       ...\n",
              "       'year', 'month', 'weekday', 'term_int', 'term_double',\n",
              "       'loan_status_is_great', 'last_pymnt_d_clean', 'last_pymnt_d_year',\n",
              "       'last_pymnt_d_month', 'revol_util_float'],\n",
              "      dtype='object', length=159)"
            ]
          },
          "metadata": {
            "tags": []
          },
          "execution_count": 99
        }
      ]
    },
    {
      "cell_type": "code",
      "metadata": {
        "id": "n0ls8DBN6_kK",
        "colab_type": "code",
        "outputId": "f99e1e83-d8ba-4b91-d8ef-7ab1b18acd7e",
        "colab": {
          "base_uri": "https://localhost:8080/",
          "height": 34
        }
      },
      "source": [
        "# Ensure the conversion worked\n",
        "df['revol_util_float'].dtypes"
      ],
      "execution_count": 100,
      "outputs": [
        {
          "output_type": "execute_result",
          "data": {
            "text/plain": [
              "dtype('float64')"
            ]
          },
          "metadata": {
            "tags": []
          },
          "execution_count": 100
        }
      ]
    },
    {
      "cell_type": "code",
      "metadata": {
        "id": "A4Op6Ps99SFE",
        "colab_type": "code",
        "outputId": "fca1254a-5c29-4892-f47d-b5fe6341b737",
        "colab": {
          "base_uri": "https://localhost:8080/",
          "height": 204
        }
      },
      "source": [
        "# Compare old and new\n",
        "df[['revol_util', 'revol_util_float']].head()"
      ],
      "execution_count": 101,
      "outputs": [
        {
          "output_type": "execute_result",
          "data": {
            "text/html": [
              "<div>\n",
              "<style scoped>\n",
              "    .dataframe tbody tr th:only-of-type {\n",
              "        vertical-align: middle;\n",
              "    }\n",
              "\n",
              "    .dataframe tbody tr th {\n",
              "        vertical-align: top;\n",
              "    }\n",
              "\n",
              "    .dataframe thead th {\n",
              "        text-align: right;\n",
              "    }\n",
              "</style>\n",
              "<table border=\"1\" class=\"dataframe\">\n",
              "  <thead>\n",
              "    <tr style=\"text-align: right;\">\n",
              "      <th></th>\n",
              "      <th>revol_util</th>\n",
              "      <th>revol_util_float</th>\n",
              "    </tr>\n",
              "  </thead>\n",
              "  <tbody>\n",
              "    <tr>\n",
              "      <th>0</th>\n",
              "      <td>43.2%</td>\n",
              "      <td>43.2</td>\n",
              "    </tr>\n",
              "    <tr>\n",
              "      <th>1</th>\n",
              "      <td>47.1%</td>\n",
              "      <td>47.1</td>\n",
              "    </tr>\n",
              "    <tr>\n",
              "      <th>2</th>\n",
              "      <td>53.9%</td>\n",
              "      <td>53.9</td>\n",
              "    </tr>\n",
              "    <tr>\n",
              "      <th>3</th>\n",
              "      <td>53%</td>\n",
              "      <td>53.0</td>\n",
              "    </tr>\n",
              "    <tr>\n",
              "      <th>4</th>\n",
              "      <td>28.6%</td>\n",
              "      <td>28.6</td>\n",
              "    </tr>\n",
              "  </tbody>\n",
              "</table>\n",
              "</div>"
            ],
            "text/plain": [
              "  revol_util  revol_util_float\n",
              "0      43.2%              43.2\n",
              "1      47.1%              47.1\n",
              "2      53.9%              53.9\n",
              "3        53%              53.0\n",
              "4      28.6%              28.6"
            ]
          },
          "metadata": {
            "tags": []
          },
          "execution_count": 101
        }
      ]
    },
    {
      "cell_type": "code",
      "metadata": {
        "id": "4zgBAynY9gke",
        "colab_type": "code",
        "outputId": "3fcff7cb-4e3b-40b0-a93f-2800eca708f0",
        "colab": {
          "base_uri": "https://localhost:8080/",
          "height": 136
        }
      },
      "source": [
        "# Confirm math can be performed on the column values\n",
        "df['revol_util_double'] = df['revol_util_float'] * 2\n",
        "df.columns"
      ],
      "execution_count": 102,
      "outputs": [
        {
          "output_type": "execute_result",
          "data": {
            "text/plain": [
              "Index(['id', 'member_id', 'loan_amnt', 'funded_amnt', 'funded_amnt_inv',\n",
              "       'term', 'int_rate', 'installment', 'grade', 'sub_grade',\n",
              "       ...\n",
              "       'month', 'weekday', 'term_int', 'term_double', 'loan_status_is_great',\n",
              "       'last_pymnt_d_clean', 'last_pymnt_d_year', 'last_pymnt_d_month',\n",
              "       'revol_util_float', 'revol_util_double'],\n",
              "      dtype='object', length=160)"
            ]
          },
          "metadata": {
            "tags": []
          },
          "execution_count": 102
        }
      ]
    },
    {
      "cell_type": "code",
      "metadata": {
        "id": "DZzqEldb9hGB",
        "colab_type": "code",
        "outputId": "1469d978-cbae-4e21-8459-bfe09a0620d3",
        "colab": {
          "base_uri": "https://localhost:8080/",
          "height": 204
        }
      },
      "source": [
        "# Compare all three columns\n",
        "df[['revol_util', 'revol_util_float', 'revol_util_double']].head()"
      ],
      "execution_count": 103,
      "outputs": [
        {
          "output_type": "execute_result",
          "data": {
            "text/html": [
              "<div>\n",
              "<style scoped>\n",
              "    .dataframe tbody tr th:only-of-type {\n",
              "        vertical-align: middle;\n",
              "    }\n",
              "\n",
              "    .dataframe tbody tr th {\n",
              "        vertical-align: top;\n",
              "    }\n",
              "\n",
              "    .dataframe thead th {\n",
              "        text-align: right;\n",
              "    }\n",
              "</style>\n",
              "<table border=\"1\" class=\"dataframe\">\n",
              "  <thead>\n",
              "    <tr style=\"text-align: right;\">\n",
              "      <th></th>\n",
              "      <th>revol_util</th>\n",
              "      <th>revol_util_float</th>\n",
              "      <th>revol_util_double</th>\n",
              "    </tr>\n",
              "  </thead>\n",
              "  <tbody>\n",
              "    <tr>\n",
              "      <th>0</th>\n",
              "      <td>43.2%</td>\n",
              "      <td>43.2</td>\n",
              "      <td>86.4</td>\n",
              "    </tr>\n",
              "    <tr>\n",
              "      <th>1</th>\n",
              "      <td>47.1%</td>\n",
              "      <td>47.1</td>\n",
              "      <td>94.2</td>\n",
              "    </tr>\n",
              "    <tr>\n",
              "      <th>2</th>\n",
              "      <td>53.9%</td>\n",
              "      <td>53.9</td>\n",
              "      <td>107.8</td>\n",
              "    </tr>\n",
              "    <tr>\n",
              "      <th>3</th>\n",
              "      <td>53%</td>\n",
              "      <td>53.0</td>\n",
              "      <td>106.0</td>\n",
              "    </tr>\n",
              "    <tr>\n",
              "      <th>4</th>\n",
              "      <td>28.6%</td>\n",
              "      <td>28.6</td>\n",
              "      <td>57.2</td>\n",
              "    </tr>\n",
              "  </tbody>\n",
              "</table>\n",
              "</div>"
            ],
            "text/plain": [
              "  revol_util  revol_util_float  revol_util_double\n",
              "0      43.2%              43.2               86.4\n",
              "1      47.1%              47.1               94.2\n",
              "2      53.9%              53.9              107.8\n",
              "3        53%              53.0              106.0\n",
              "4      28.6%              28.6               57.2"
            ]
          },
          "metadata": {
            "tags": []
          },
          "execution_count": 103
        }
      ]
    },
    {
      "cell_type": "code",
      "metadata": {
        "id": "muIp6-we98pA",
        "colab_type": "code",
        "colab": {}
      },
      "source": [
        "# Modify the emp_title column to replace titles with 'Other' if the title is not in the top 20."
      ],
      "execution_count": 0,
      "outputs": []
    },
    {
      "cell_type": "code",
      "metadata": {
        "id": "-Jm394IB99yh",
        "colab_type": "code",
        "outputId": "d0bcf6a4-2fae-4cc4-c36b-3da246755111",
        "colab": {
          "base_uri": "https://localhost:8080/",
          "height": 374
        }
      },
      "source": [
        "# Identify the top 20 and create a variable that stores them\n",
        "emp_top_20 = df['emp_title_clean'].value_counts(ascending=False).head(20)\n",
        "emp_top_20"
      ],
      "execution_count": 105,
      "outputs": [
        {
          "output_type": "execute_result",
          "data": {
            "text/plain": [
              "Unknown               20947\n",
              "Teacher                2557\n",
              "Manager                2395\n",
              "Registered Nurse       1418\n",
              "Driver                 1258\n",
              "Supervisor             1160\n",
              "Truck Driver            920\n",
              "Rn                      834\n",
              "Office Manager          805\n",
              "Sales                   803\n",
              "General Manager         791\n",
              "Project Manager         720\n",
              "Owner                   625\n",
              "Director                523\n",
              "Operations Manager      518\n",
              "Sales Manager           500\n",
              "Police Officer          440\n",
              "Nurse                   425\n",
              "Technician              420\n",
              "Engineer                412\n",
              "Name: emp_title_clean, dtype: int64"
            ]
          },
          "metadata": {
            "tags": []
          },
          "execution_count": 105
        }
      ]
    },
    {
      "cell_type": "code",
      "metadata": {
        "id": "I0u0uHFfNbrJ",
        "colab_type": "code",
        "outputId": "2b4d8b49-0c03-4cf8-b579-25726d60dfac",
        "colab": {
          "base_uri": "https://localhost:8080/",
          "height": 221
        }
      },
      "source": [
        "# Take a look at the first and last five values\n",
        "print(df['emp_title_clean'].head())\n",
        "df['emp_title_clean'].tail()\n"
      ],
      "execution_count": 106,
      "outputs": [
        {
          "output_type": "stream",
          "text": [
            "0        Staff Physician\n",
            "1      Director Of Sales\n",
            "2                Unknown\n",
            "3           Receptionist\n",
            "4    Extrusion Assistant\n",
            "Name: emp_title_clean, dtype: object\n"
          ],
          "name": "stdout"
        },
        {
          "output_type": "execute_result",
          "data": {
            "text/plain": [
              "128407          Tax Consultant\n",
              "128408          Security Guard\n",
              "128409            Payoff Clerk\n",
              "128410                 Unknown\n",
              "128411    Key Accounts Manager\n",
              "Name: emp_title_clean, dtype: object"
            ]
          },
          "metadata": {
            "tags": []
          },
          "execution_count": 106
        }
      ]
    },
    {
      "cell_type": "code",
      "metadata": {
        "id": "9tRvn3SvMqSM",
        "colab_type": "code",
        "outputId": "c9736623-6f27-4164-db23-809295066fad",
        "colab": {
          "base_uri": "https://localhost:8080/",
          "height": 51
        }
      },
      "source": [
        "# Check the first cell in the column\n",
        "emp_title_loc0 = df.loc[0, 'emp_title_clean']\n",
        "print(emp_title_loc0)\n",
        "\n",
        "# Check the third cell in the column\n",
        "emp_title_loc1 = df.loc[2, 'emp_title_clean']\n",
        "emp_title_loc1"
      ],
      "execution_count": 107,
      "outputs": [
        {
          "output_type": "stream",
          "text": [
            "Staff Physician\n"
          ],
          "name": "stdout"
        },
        {
          "output_type": "execute_result",
          "data": {
            "text/plain": [
              "'Unknown'"
            ]
          },
          "metadata": {
            "tags": []
          },
          "execution_count": 107
        }
      ]
    },
    {
      "cell_type": "code",
      "metadata": {
        "id": "y19xfUO_MwEE",
        "colab_type": "code",
        "outputId": "7a73c6c2-9e2d-40e9-f607-72619422f3dc",
        "colab": {
          "base_uri": "https://localhost:8080/",
          "height": 51
        }
      },
      "source": [
        "# Test method for checking if value is in top 20 value_count\n",
        "print(emp_title_loc0 in emp_top_20)\n",
        "print(emp_title_loc1 in emp_top_20)"
      ],
      "execution_count": 108,
      "outputs": [
        {
          "output_type": "stream",
          "text": [
            "False\n",
            "True\n"
          ],
          "name": "stdout"
        }
      ]
    },
    {
      "cell_type": "code",
      "metadata": {
        "id": "slzVpdws_G1A",
        "colab_type": "code",
        "colab": {}
      },
      "source": [
        "# Create a function that can convert values not in the top 20 to 'Other'\n",
        "def convert_to_other(empstring):\n",
        "  if empstring in emp_top_20:\n",
        "    return empstring\n",
        "  else:\n",
        "    return 'Other'"
      ],
      "execution_count": 0,
      "outputs": []
    },
    {
      "cell_type": "code",
      "metadata": {
        "id": "MtjFJ2qVA_LR",
        "colab_type": "code",
        "outputId": "4eb3c585-e1e3-48dc-b2b6-4e8b00512853",
        "colab": {
          "base_uri": "https://localhost:8080/",
          "height": 51
        }
      },
      "source": [
        "# Check to see the function works\n",
        "print(convert_to_other(emp_title_loc0))\n",
        "print(convert_to_other(emp_title_loc1))"
      ],
      "execution_count": 110,
      "outputs": [
        {
          "output_type": "stream",
          "text": [
            "Other\n",
            "Unknown\n"
          ],
          "name": "stdout"
        }
      ]
    },
    {
      "cell_type": "code",
      "metadata": {
        "id": "gHR00UKkBIfi",
        "colab_type": "code",
        "outputId": "dccf9d8c-04cf-45ae-873e-912c477f53d1",
        "colab": {
          "base_uri": "https://localhost:8080/",
          "height": 119
        }
      },
      "source": [
        "df['emp_title_clean'].head()"
      ],
      "execution_count": 111,
      "outputs": [
        {
          "output_type": "execute_result",
          "data": {
            "text/plain": [
              "0        Staff Physician\n",
              "1      Director Of Sales\n",
              "2                Unknown\n",
              "3           Receptionist\n",
              "4    Extrusion Assistant\n",
              "Name: emp_title_clean, dtype: object"
            ]
          },
          "metadata": {
            "tags": []
          },
          "execution_count": 111
        }
      ]
    },
    {
      "cell_type": "code",
      "metadata": {
        "id": "EjDcNRkSK9lg",
        "colab_type": "code",
        "colab": {}
      },
      "source": [
        "# Create new column and apply the function to the entire column\n",
        "df['emp_title_clean2'] = df['emp_title_clean'].apply(convert_to_other)"
      ],
      "execution_count": 0,
      "outputs": []
    },
    {
      "cell_type": "code",
      "metadata": {
        "id": "9prBQhPgO-uD",
        "colab_type": "code",
        "outputId": "87219e1b-53fa-4196-fb4b-3302c2a5e588",
        "colab": {
          "base_uri": "https://localhost:8080/",
          "height": 235
        }
      },
      "source": [
        "# Compare the old and new columns\n",
        "df[['emp_title_clean', 'emp_title_clean2']].sample(6)"
      ],
      "execution_count": 113,
      "outputs": [
        {
          "output_type": "execute_result",
          "data": {
            "text/html": [
              "<div>\n",
              "<style scoped>\n",
              "    .dataframe tbody tr th:only-of-type {\n",
              "        vertical-align: middle;\n",
              "    }\n",
              "\n",
              "    .dataframe tbody tr th {\n",
              "        vertical-align: top;\n",
              "    }\n",
              "\n",
              "    .dataframe thead th {\n",
              "        text-align: right;\n",
              "    }\n",
              "</style>\n",
              "<table border=\"1\" class=\"dataframe\">\n",
              "  <thead>\n",
              "    <tr style=\"text-align: right;\">\n",
              "      <th></th>\n",
              "      <th>emp_title_clean</th>\n",
              "      <th>emp_title_clean2</th>\n",
              "    </tr>\n",
              "  </thead>\n",
              "  <tbody>\n",
              "    <tr>\n",
              "      <th>70646</th>\n",
              "      <td>Paralegal</td>\n",
              "      <td>Other</td>\n",
              "    </tr>\n",
              "    <tr>\n",
              "      <th>71334</th>\n",
              "      <td>Unknown</td>\n",
              "      <td>Unknown</td>\n",
              "    </tr>\n",
              "    <tr>\n",
              "      <th>27222</th>\n",
              "      <td>Office Manager</td>\n",
              "      <td>Office Manager</td>\n",
              "    </tr>\n",
              "    <tr>\n",
              "      <th>100661</th>\n",
              "      <td>Server</td>\n",
              "      <td>Other</td>\n",
              "    </tr>\n",
              "    <tr>\n",
              "      <th>82787</th>\n",
              "      <td>Senior Applications Engineer</td>\n",
              "      <td>Other</td>\n",
              "    </tr>\n",
              "    <tr>\n",
              "      <th>29866</th>\n",
              "      <td>Medical Billing Specialist</td>\n",
              "      <td>Other</td>\n",
              "    </tr>\n",
              "  </tbody>\n",
              "</table>\n",
              "</div>"
            ],
            "text/plain": [
              "                     emp_title_clean emp_title_clean2\n",
              "70646                      Paralegal            Other\n",
              "71334                        Unknown          Unknown\n",
              "27222                 Office Manager   Office Manager\n",
              "100661                        Server            Other\n",
              "82787   Senior Applications Engineer            Other\n",
              "29866     Medical Billing Specialist            Other"
            ]
          },
          "metadata": {
            "tags": []
          },
          "execution_count": 113
        }
      ]
    },
    {
      "cell_type": "code",
      "metadata": {
        "id": "nS8vNOWyPVMt",
        "colab_type": "code",
        "outputId": "614db9ed-86b5-4886-a8d2-10c415ee120c",
        "colab": {
          "base_uri": "https://localhost:8080/",
          "height": 391
        }
      },
      "source": [
        "# Check the new value counts\n",
        "df['emp_title_clean2'].value_counts(ascending=False)"
      ],
      "execution_count": 114,
      "outputs": [
        {
          "output_type": "execute_result",
          "data": {
            "text/plain": [
              "Other                 89941\n",
              "Unknown               20947\n",
              "Teacher                2557\n",
              "Manager                2395\n",
              "Registered Nurse       1418\n",
              "Driver                 1258\n",
              "Supervisor             1160\n",
              "Truck Driver            920\n",
              "Rn                      834\n",
              "Office Manager          805\n",
              "Sales                   803\n",
              "General Manager         791\n",
              "Project Manager         720\n",
              "Owner                   625\n",
              "Director                523\n",
              "Operations Manager      518\n",
              "Sales Manager           500\n",
              "Police Officer          440\n",
              "Nurse                   425\n",
              "Technician              420\n",
              "Engineer                412\n",
              "Name: emp_title_clean2, dtype: int64"
            ]
          },
          "metadata": {
            "tags": []
          },
          "execution_count": 114
        }
      ]
    },
    {
      "cell_type": "code",
      "metadata": {
        "id": "wxjSdqXH3iZs",
        "colab_type": "code",
        "colab": {
          "base_uri": "https://localhost:8080/",
          "height": 338
        },
        "outputId": "7416027b-a705-4ffe-f81b-fff6fb6c6330"
      },
      "source": [
        "# Check for a new column to play with\n",
        "df.head()"
      ],
      "execution_count": 115,
      "outputs": [
        {
          "output_type": "execute_result",
          "data": {
            "text/html": [
              "<div>\n",
              "<style scoped>\n",
              "    .dataframe tbody tr th:only-of-type {\n",
              "        vertical-align: middle;\n",
              "    }\n",
              "\n",
              "    .dataframe tbody tr th {\n",
              "        vertical-align: top;\n",
              "    }\n",
              "\n",
              "    .dataframe thead th {\n",
              "        text-align: right;\n",
              "    }\n",
              "</style>\n",
              "<table border=\"1\" class=\"dataframe\">\n",
              "  <thead>\n",
              "    <tr style=\"text-align: right;\">\n",
              "      <th></th>\n",
              "      <th>id</th>\n",
              "      <th>member_id</th>\n",
              "      <th>loan_amnt</th>\n",
              "      <th>funded_amnt</th>\n",
              "      <th>funded_amnt_inv</th>\n",
              "      <th>term</th>\n",
              "      <th>int_rate</th>\n",
              "      <th>installment</th>\n",
              "      <th>grade</th>\n",
              "      <th>sub_grade</th>\n",
              "      <th>emp_title</th>\n",
              "      <th>emp_length</th>\n",
              "      <th>home_ownership</th>\n",
              "      <th>annual_inc</th>\n",
              "      <th>verification_status</th>\n",
              "      <th>issue_d</th>\n",
              "      <th>loan_status</th>\n",
              "      <th>pymnt_plan</th>\n",
              "      <th>url</th>\n",
              "      <th>desc</th>\n",
              "      <th>purpose</th>\n",
              "      <th>title</th>\n",
              "      <th>zip_code</th>\n",
              "      <th>addr_state</th>\n",
              "      <th>dti</th>\n",
              "      <th>delinq_2yrs</th>\n",
              "      <th>earliest_cr_line</th>\n",
              "      <th>inq_last_6mths</th>\n",
              "      <th>mths_since_last_delinq</th>\n",
              "      <th>mths_since_last_record</th>\n",
              "      <th>open_acc</th>\n",
              "      <th>pub_rec</th>\n",
              "      <th>revol_bal</th>\n",
              "      <th>revol_util</th>\n",
              "      <th>total_acc</th>\n",
              "      <th>initial_list_status</th>\n",
              "      <th>out_prncp</th>\n",
              "      <th>out_prncp_inv</th>\n",
              "      <th>total_pymnt</th>\n",
              "      <th>total_pymnt_inv</th>\n",
              "      <th>total_rec_prncp</th>\n",
              "      <th>total_rec_int</th>\n",
              "      <th>total_rec_late_fee</th>\n",
              "      <th>recoveries</th>\n",
              "      <th>collection_recovery_fee</th>\n",
              "      <th>last_pymnt_d</th>\n",
              "      <th>last_pymnt_amnt</th>\n",
              "      <th>next_pymnt_d</th>\n",
              "      <th>last_credit_pull_d</th>\n",
              "      <th>collections_12_mths_ex_med</th>\n",
              "      <th>...</th>\n",
              "      <th>revol_bal_joint</th>\n",
              "      <th>sec_app_earliest_cr_line</th>\n",
              "      <th>sec_app_inq_last_6mths</th>\n",
              "      <th>sec_app_mort_acc</th>\n",
              "      <th>sec_app_open_acc</th>\n",
              "      <th>sec_app_revol_util</th>\n",
              "      <th>sec_app_open_act_il</th>\n",
              "      <th>sec_app_num_rev_accts</th>\n",
              "      <th>sec_app_chargeoff_within_12_mths</th>\n",
              "      <th>sec_app_collections_12_mths_ex_med</th>\n",
              "      <th>sec_app_mths_since_last_major_derog</th>\n",
              "      <th>hardship_flag</th>\n",
              "      <th>hardship_type</th>\n",
              "      <th>hardship_reason</th>\n",
              "      <th>hardship_status</th>\n",
              "      <th>deferral_term</th>\n",
              "      <th>hardship_amount</th>\n",
              "      <th>hardship_start_date</th>\n",
              "      <th>hardship_end_date</th>\n",
              "      <th>payment_plan_start_date</th>\n",
              "      <th>hardship_length</th>\n",
              "      <th>hardship_dpd</th>\n",
              "      <th>hardship_loan_status</th>\n",
              "      <th>orig_projected_additional_accrued_interest</th>\n",
              "      <th>hardship_payoff_balance_amount</th>\n",
              "      <th>hardship_last_payment_amount</th>\n",
              "      <th>debt_settlement_flag</th>\n",
              "      <th>debt_settlement_flag_date</th>\n",
              "      <th>settlement_status</th>\n",
              "      <th>settlement_date</th>\n",
              "      <th>settlement_amount</th>\n",
              "      <th>settlement_percentage</th>\n",
              "      <th>settlement_term</th>\n",
              "      <th>int_rate_float</th>\n",
              "      <th>int_rate_double</th>\n",
              "      <th>emp_title_clean</th>\n",
              "      <th>emp_title_manager</th>\n",
              "      <th>issue_d_clean</th>\n",
              "      <th>year</th>\n",
              "      <th>month</th>\n",
              "      <th>weekday</th>\n",
              "      <th>term_int</th>\n",
              "      <th>term_double</th>\n",
              "      <th>loan_status_is_great</th>\n",
              "      <th>last_pymnt_d_clean</th>\n",
              "      <th>last_pymnt_d_year</th>\n",
              "      <th>last_pymnt_d_month</th>\n",
              "      <th>revol_util_float</th>\n",
              "      <th>revol_util_double</th>\n",
              "      <th>emp_title_clean2</th>\n",
              "    </tr>\n",
              "  </thead>\n",
              "  <tbody>\n",
              "    <tr>\n",
              "      <th>0</th>\n",
              "      <td>NaN</td>\n",
              "      <td>NaN</td>\n",
              "      <td>35000</td>\n",
              "      <td>35000</td>\n",
              "      <td>35000.0</td>\n",
              "      <td>36 months</td>\n",
              "      <td>14.47%</td>\n",
              "      <td>1204.23</td>\n",
              "      <td>C</td>\n",
              "      <td>C2</td>\n",
              "      <td>Staff Physician</td>\n",
              "      <td>8 years</td>\n",
              "      <td>MORTGAGE</td>\n",
              "      <td>360000.0</td>\n",
              "      <td>Verified</td>\n",
              "      <td>Dec-2018</td>\n",
              "      <td>Fully Paid</td>\n",
              "      <td>n</td>\n",
              "      <td>NaN</td>\n",
              "      <td>NaN</td>\n",
              "      <td>credit_card</td>\n",
              "      <td>Credit card refinancing</td>\n",
              "      <td>336xx</td>\n",
              "      <td>FL</td>\n",
              "      <td>19.90</td>\n",
              "      <td>0</td>\n",
              "      <td>Apr-1995</td>\n",
              "      <td>1</td>\n",
              "      <td>NaN</td>\n",
              "      <td>NaN</td>\n",
              "      <td>24</td>\n",
              "      <td>0</td>\n",
              "      <td>57259</td>\n",
              "      <td>43.2%</td>\n",
              "      <td>51</td>\n",
              "      <td>w</td>\n",
              "      <td>0.00</td>\n",
              "      <td>0.00</td>\n",
              "      <td>38187.046837</td>\n",
              "      <td>38187.05</td>\n",
              "      <td>35000.00</td>\n",
              "      <td>3187.05</td>\n",
              "      <td>0.0</td>\n",
              "      <td>0.0</td>\n",
              "      <td>0.0</td>\n",
              "      <td>Aug-2019</td>\n",
              "      <td>29882.16</td>\n",
              "      <td>NaN</td>\n",
              "      <td>Sep-2019</td>\n",
              "      <td>0</td>\n",
              "      <td>...</td>\n",
              "      <td>NaN</td>\n",
              "      <td>NaN</td>\n",
              "      <td>NaN</td>\n",
              "      <td>NaN</td>\n",
              "      <td>NaN</td>\n",
              "      <td>NaN</td>\n",
              "      <td>NaN</td>\n",
              "      <td>NaN</td>\n",
              "      <td>NaN</td>\n",
              "      <td>NaN</td>\n",
              "      <td>NaN</td>\n",
              "      <td>N</td>\n",
              "      <td>NaN</td>\n",
              "      <td>NaN</td>\n",
              "      <td>NaN</td>\n",
              "      <td>NaN</td>\n",
              "      <td>NaN</td>\n",
              "      <td>NaN</td>\n",
              "      <td>NaN</td>\n",
              "      <td>NaN</td>\n",
              "      <td>NaN</td>\n",
              "      <td>NaN</td>\n",
              "      <td>NaN</td>\n",
              "      <td>NaN</td>\n",
              "      <td>NaN</td>\n",
              "      <td>NaN</td>\n",
              "      <td>N</td>\n",
              "      <td>NaN</td>\n",
              "      <td>NaN</td>\n",
              "      <td>NaN</td>\n",
              "      <td>NaN</td>\n",
              "      <td>NaN</td>\n",
              "      <td>NaN</td>\n",
              "      <td>14.47</td>\n",
              "      <td>28.94</td>\n",
              "      <td>Staff Physician</td>\n",
              "      <td>False</td>\n",
              "      <td>2018-12-01</td>\n",
              "      <td>2018</td>\n",
              "      <td>12</td>\n",
              "      <td>5</td>\n",
              "      <td>36</td>\n",
              "      <td>72</td>\n",
              "      <td>1</td>\n",
              "      <td>2019-08-01</td>\n",
              "      <td>2019</td>\n",
              "      <td>8</td>\n",
              "      <td>43.2</td>\n",
              "      <td>86.4</td>\n",
              "      <td>Other</td>\n",
              "    </tr>\n",
              "    <tr>\n",
              "      <th>1</th>\n",
              "      <td>NaN</td>\n",
              "      <td>NaN</td>\n",
              "      <td>5000</td>\n",
              "      <td>5000</td>\n",
              "      <td>5000.0</td>\n",
              "      <td>36 months</td>\n",
              "      <td>22.35%</td>\n",
              "      <td>191.86</td>\n",
              "      <td>D</td>\n",
              "      <td>D5</td>\n",
              "      <td>Director of Sales</td>\n",
              "      <td>10+ years</td>\n",
              "      <td>MORTGAGE</td>\n",
              "      <td>72000.0</td>\n",
              "      <td>Source Verified</td>\n",
              "      <td>Dec-2018</td>\n",
              "      <td>Fully Paid</td>\n",
              "      <td>n</td>\n",
              "      <td>NaN</td>\n",
              "      <td>NaN</td>\n",
              "      <td>debt_consolidation</td>\n",
              "      <td>Debt consolidation</td>\n",
              "      <td>333xx</td>\n",
              "      <td>FL</td>\n",
              "      <td>20.12</td>\n",
              "      <td>0</td>\n",
              "      <td>Mar-2010</td>\n",
              "      <td>0</td>\n",
              "      <td>NaN</td>\n",
              "      <td>NaN</td>\n",
              "      <td>13</td>\n",
              "      <td>0</td>\n",
              "      <td>11720</td>\n",
              "      <td>47.1%</td>\n",
              "      <td>26</td>\n",
              "      <td>f</td>\n",
              "      <td>0.00</td>\n",
              "      <td>0.00</td>\n",
              "      <td>5615.977674</td>\n",
              "      <td>5615.98</td>\n",
              "      <td>5000.00</td>\n",
              "      <td>615.98</td>\n",
              "      <td>0.0</td>\n",
              "      <td>0.0</td>\n",
              "      <td>0.0</td>\n",
              "      <td>Jul-2019</td>\n",
              "      <td>4474.13</td>\n",
              "      <td>NaN</td>\n",
              "      <td>Aug-2019</td>\n",
              "      <td>0</td>\n",
              "      <td>...</td>\n",
              "      <td>NaN</td>\n",
              "      <td>NaN</td>\n",
              "      <td>NaN</td>\n",
              "      <td>NaN</td>\n",
              "      <td>NaN</td>\n",
              "      <td>NaN</td>\n",
              "      <td>NaN</td>\n",
              "      <td>NaN</td>\n",
              "      <td>NaN</td>\n",
              "      <td>NaN</td>\n",
              "      <td>NaN</td>\n",
              "      <td>N</td>\n",
              "      <td>NaN</td>\n",
              "      <td>NaN</td>\n",
              "      <td>NaN</td>\n",
              "      <td>NaN</td>\n",
              "      <td>NaN</td>\n",
              "      <td>NaN</td>\n",
              "      <td>NaN</td>\n",
              "      <td>NaN</td>\n",
              "      <td>NaN</td>\n",
              "      <td>NaN</td>\n",
              "      <td>NaN</td>\n",
              "      <td>NaN</td>\n",
              "      <td>NaN</td>\n",
              "      <td>NaN</td>\n",
              "      <td>N</td>\n",
              "      <td>NaN</td>\n",
              "      <td>NaN</td>\n",
              "      <td>NaN</td>\n",
              "      <td>NaN</td>\n",
              "      <td>NaN</td>\n",
              "      <td>NaN</td>\n",
              "      <td>22.35</td>\n",
              "      <td>44.70</td>\n",
              "      <td>Director Of Sales</td>\n",
              "      <td>False</td>\n",
              "      <td>2018-12-01</td>\n",
              "      <td>2018</td>\n",
              "      <td>12</td>\n",
              "      <td>5</td>\n",
              "      <td>36</td>\n",
              "      <td>72</td>\n",
              "      <td>1</td>\n",
              "      <td>2019-07-01</td>\n",
              "      <td>2019</td>\n",
              "      <td>7</td>\n",
              "      <td>47.1</td>\n",
              "      <td>94.2</td>\n",
              "      <td>Other</td>\n",
              "    </tr>\n",
              "    <tr>\n",
              "      <th>2</th>\n",
              "      <td>NaN</td>\n",
              "      <td>NaN</td>\n",
              "      <td>10000</td>\n",
              "      <td>10000</td>\n",
              "      <td>10000.0</td>\n",
              "      <td>60 months</td>\n",
              "      <td>23.40%</td>\n",
              "      <td>284.21</td>\n",
              "      <td>E</td>\n",
              "      <td>E1</td>\n",
              "      <td>NaN</td>\n",
              "      <td>&lt; 1 year</td>\n",
              "      <td>RENT</td>\n",
              "      <td>55000.0</td>\n",
              "      <td>Source Verified</td>\n",
              "      <td>Dec-2018</td>\n",
              "      <td>Current</td>\n",
              "      <td>n</td>\n",
              "      <td>NaN</td>\n",
              "      <td>NaN</td>\n",
              "      <td>debt_consolidation</td>\n",
              "      <td>Debt consolidation</td>\n",
              "      <td>902xx</td>\n",
              "      <td>CA</td>\n",
              "      <td>13.51</td>\n",
              "      <td>0</td>\n",
              "      <td>Apr-2007</td>\n",
              "      <td>0</td>\n",
              "      <td>44.0</td>\n",
              "      <td>88.0</td>\n",
              "      <td>9</td>\n",
              "      <td>1</td>\n",
              "      <td>11859</td>\n",
              "      <td>53.9%</td>\n",
              "      <td>11</td>\n",
              "      <td>w</td>\n",
              "      <td>9025.41</td>\n",
              "      <td>9025.41</td>\n",
              "      <td>2822.600000</td>\n",
              "      <td>2822.60</td>\n",
              "      <td>974.59</td>\n",
              "      <td>1848.01</td>\n",
              "      <td>0.0</td>\n",
              "      <td>0.0</td>\n",
              "      <td>0.0</td>\n",
              "      <td>Oct-2019</td>\n",
              "      <td>284.21</td>\n",
              "      <td>Nov-2019</td>\n",
              "      <td>Oct-2019</td>\n",
              "      <td>0</td>\n",
              "      <td>...</td>\n",
              "      <td>NaN</td>\n",
              "      <td>NaN</td>\n",
              "      <td>NaN</td>\n",
              "      <td>NaN</td>\n",
              "      <td>NaN</td>\n",
              "      <td>NaN</td>\n",
              "      <td>NaN</td>\n",
              "      <td>NaN</td>\n",
              "      <td>NaN</td>\n",
              "      <td>NaN</td>\n",
              "      <td>NaN</td>\n",
              "      <td>N</td>\n",
              "      <td>NaN</td>\n",
              "      <td>NaN</td>\n",
              "      <td>NaN</td>\n",
              "      <td>NaN</td>\n",
              "      <td>NaN</td>\n",
              "      <td>NaN</td>\n",
              "      <td>NaN</td>\n",
              "      <td>NaN</td>\n",
              "      <td>NaN</td>\n",
              "      <td>NaN</td>\n",
              "      <td>NaN</td>\n",
              "      <td>NaN</td>\n",
              "      <td>NaN</td>\n",
              "      <td>NaN</td>\n",
              "      <td>N</td>\n",
              "      <td>NaN</td>\n",
              "      <td>NaN</td>\n",
              "      <td>NaN</td>\n",
              "      <td>NaN</td>\n",
              "      <td>NaN</td>\n",
              "      <td>NaN</td>\n",
              "      <td>23.40</td>\n",
              "      <td>46.80</td>\n",
              "      <td>Unknown</td>\n",
              "      <td>False</td>\n",
              "      <td>2018-12-01</td>\n",
              "      <td>2018</td>\n",
              "      <td>12</td>\n",
              "      <td>5</td>\n",
              "      <td>60</td>\n",
              "      <td>120</td>\n",
              "      <td>1</td>\n",
              "      <td>2019-10-01</td>\n",
              "      <td>2019</td>\n",
              "      <td>10</td>\n",
              "      <td>53.9</td>\n",
              "      <td>107.8</td>\n",
              "      <td>Unknown</td>\n",
              "    </tr>\n",
              "    <tr>\n",
              "      <th>3</th>\n",
              "      <td>NaN</td>\n",
              "      <td>NaN</td>\n",
              "      <td>17100</td>\n",
              "      <td>17100</td>\n",
              "      <td>17100.0</td>\n",
              "      <td>36 months</td>\n",
              "      <td>18.94%</td>\n",
              "      <td>626.30</td>\n",
              "      <td>D</td>\n",
              "      <td>D2</td>\n",
              "      <td>Receptionist</td>\n",
              "      <td>10+ years</td>\n",
              "      <td>RENT</td>\n",
              "      <td>38000.0</td>\n",
              "      <td>Verified</td>\n",
              "      <td>Dec-2018</td>\n",
              "      <td>Current</td>\n",
              "      <td>n</td>\n",
              "      <td>NaN</td>\n",
              "      <td>NaN</td>\n",
              "      <td>debt_consolidation</td>\n",
              "      <td>Debt consolidation</td>\n",
              "      <td>150xx</td>\n",
              "      <td>PA</td>\n",
              "      <td>38.09</td>\n",
              "      <td>0</td>\n",
              "      <td>Mar-1998</td>\n",
              "      <td>1</td>\n",
              "      <td>47.0</td>\n",
              "      <td>NaN</td>\n",
              "      <td>14</td>\n",
              "      <td>0</td>\n",
              "      <td>15323</td>\n",
              "      <td>53%</td>\n",
              "      <td>21</td>\n",
              "      <td>w</td>\n",
              "      <td>13271.86</td>\n",
              "      <td>13271.86</td>\n",
              "      <td>6236.010000</td>\n",
              "      <td>6236.01</td>\n",
              "      <td>3828.14</td>\n",
              "      <td>2407.87</td>\n",
              "      <td>0.0</td>\n",
              "      <td>0.0</td>\n",
              "      <td>0.0</td>\n",
              "      <td>Oct-2019</td>\n",
              "      <td>626.30</td>\n",
              "      <td>Nov-2019</td>\n",
              "      <td>Oct-2019</td>\n",
              "      <td>0</td>\n",
              "      <td>...</td>\n",
              "      <td>NaN</td>\n",
              "      <td>NaN</td>\n",
              "      <td>NaN</td>\n",
              "      <td>NaN</td>\n",
              "      <td>NaN</td>\n",
              "      <td>NaN</td>\n",
              "      <td>NaN</td>\n",
              "      <td>NaN</td>\n",
              "      <td>NaN</td>\n",
              "      <td>NaN</td>\n",
              "      <td>NaN</td>\n",
              "      <td>N</td>\n",
              "      <td>NaN</td>\n",
              "      <td>NaN</td>\n",
              "      <td>NaN</td>\n",
              "      <td>NaN</td>\n",
              "      <td>NaN</td>\n",
              "      <td>NaN</td>\n",
              "      <td>NaN</td>\n",
              "      <td>NaN</td>\n",
              "      <td>NaN</td>\n",
              "      <td>NaN</td>\n",
              "      <td>NaN</td>\n",
              "      <td>NaN</td>\n",
              "      <td>NaN</td>\n",
              "      <td>NaN</td>\n",
              "      <td>N</td>\n",
              "      <td>NaN</td>\n",
              "      <td>NaN</td>\n",
              "      <td>NaN</td>\n",
              "      <td>NaN</td>\n",
              "      <td>NaN</td>\n",
              "      <td>NaN</td>\n",
              "      <td>18.94</td>\n",
              "      <td>37.88</td>\n",
              "      <td>Receptionist</td>\n",
              "      <td>False</td>\n",
              "      <td>2018-12-01</td>\n",
              "      <td>2018</td>\n",
              "      <td>12</td>\n",
              "      <td>5</td>\n",
              "      <td>36</td>\n",
              "      <td>72</td>\n",
              "      <td>1</td>\n",
              "      <td>2019-10-01</td>\n",
              "      <td>2019</td>\n",
              "      <td>10</td>\n",
              "      <td>53.0</td>\n",
              "      <td>106.0</td>\n",
              "      <td>Other</td>\n",
              "    </tr>\n",
              "    <tr>\n",
              "      <th>4</th>\n",
              "      <td>NaN</td>\n",
              "      <td>NaN</td>\n",
              "      <td>4000</td>\n",
              "      <td>4000</td>\n",
              "      <td>4000.0</td>\n",
              "      <td>36 months</td>\n",
              "      <td>10.72%</td>\n",
              "      <td>130.43</td>\n",
              "      <td>B</td>\n",
              "      <td>B2</td>\n",
              "      <td>Extrusion assistant</td>\n",
              "      <td>10+ years</td>\n",
              "      <td>MORTGAGE</td>\n",
              "      <td>56000.0</td>\n",
              "      <td>Verified</td>\n",
              "      <td>Dec-2018</td>\n",
              "      <td>Current</td>\n",
              "      <td>n</td>\n",
              "      <td>NaN</td>\n",
              "      <td>NaN</td>\n",
              "      <td>credit_card</td>\n",
              "      <td>Credit card refinancing</td>\n",
              "      <td>301xx</td>\n",
              "      <td>GA</td>\n",
              "      <td>31.03</td>\n",
              "      <td>0</td>\n",
              "      <td>Sep-2006</td>\n",
              "      <td>0</td>\n",
              "      <td>NaN</td>\n",
              "      <td>NaN</td>\n",
              "      <td>7</td>\n",
              "      <td>0</td>\n",
              "      <td>4518</td>\n",
              "      <td>28.6%</td>\n",
              "      <td>11</td>\n",
              "      <td>w</td>\n",
              "      <td>3014.03</td>\n",
              "      <td>3014.03</td>\n",
              "      <td>1291.210000</td>\n",
              "      <td>1291.21</td>\n",
              "      <td>985.97</td>\n",
              "      <td>305.24</td>\n",
              "      <td>0.0</td>\n",
              "      <td>0.0</td>\n",
              "      <td>0.0</td>\n",
              "      <td>Oct-2019</td>\n",
              "      <td>130.43</td>\n",
              "      <td>Nov-2019</td>\n",
              "      <td>Oct-2019</td>\n",
              "      <td>1</td>\n",
              "      <td>...</td>\n",
              "      <td>NaN</td>\n",
              "      <td>NaN</td>\n",
              "      <td>NaN</td>\n",
              "      <td>NaN</td>\n",
              "      <td>NaN</td>\n",
              "      <td>NaN</td>\n",
              "      <td>NaN</td>\n",
              "      <td>NaN</td>\n",
              "      <td>NaN</td>\n",
              "      <td>NaN</td>\n",
              "      <td>NaN</td>\n",
              "      <td>N</td>\n",
              "      <td>NaN</td>\n",
              "      <td>NaN</td>\n",
              "      <td>NaN</td>\n",
              "      <td>NaN</td>\n",
              "      <td>NaN</td>\n",
              "      <td>NaN</td>\n",
              "      <td>NaN</td>\n",
              "      <td>NaN</td>\n",
              "      <td>NaN</td>\n",
              "      <td>NaN</td>\n",
              "      <td>NaN</td>\n",
              "      <td>NaN</td>\n",
              "      <td>NaN</td>\n",
              "      <td>NaN</td>\n",
              "      <td>N</td>\n",
              "      <td>NaN</td>\n",
              "      <td>NaN</td>\n",
              "      <td>NaN</td>\n",
              "      <td>NaN</td>\n",
              "      <td>NaN</td>\n",
              "      <td>NaN</td>\n",
              "      <td>10.72</td>\n",
              "      <td>21.44</td>\n",
              "      <td>Extrusion Assistant</td>\n",
              "      <td>False</td>\n",
              "      <td>2018-12-01</td>\n",
              "      <td>2018</td>\n",
              "      <td>12</td>\n",
              "      <td>5</td>\n",
              "      <td>36</td>\n",
              "      <td>72</td>\n",
              "      <td>1</td>\n",
              "      <td>2019-10-01</td>\n",
              "      <td>2019</td>\n",
              "      <td>10</td>\n",
              "      <td>28.6</td>\n",
              "      <td>57.2</td>\n",
              "      <td>Other</td>\n",
              "    </tr>\n",
              "  </tbody>\n",
              "</table>\n",
              "<p>5 rows × 161 columns</p>\n",
              "</div>"
            ],
            "text/plain": [
              "   id  member_id  loan_amnt  funded_amnt  funded_amnt_inv        term  \\\n",
              "0 NaN        NaN      35000        35000          35000.0   36 months   \n",
              "1 NaN        NaN       5000         5000           5000.0   36 months   \n",
              "2 NaN        NaN      10000        10000          10000.0   60 months   \n",
              "3 NaN        NaN      17100        17100          17100.0   36 months   \n",
              "4 NaN        NaN       4000         4000           4000.0   36 months   \n",
              "\n",
              "  int_rate  installment grade sub_grade             emp_title emp_length  \\\n",
              "0   14.47%      1204.23     C        C2       Staff Physician    8 years   \n",
              "1   22.35%       191.86     D        D5     Director of Sales  10+ years   \n",
              "2   23.40%       284.21     E        E1                   NaN   < 1 year   \n",
              "3   18.94%       626.30     D        D2         Receptionist   10+ years   \n",
              "4   10.72%       130.43     B        B2  Extrusion assistant   10+ years   \n",
              "\n",
              "  home_ownership  annual_inc verification_status   issue_d loan_status  \\\n",
              "0       MORTGAGE    360000.0            Verified  Dec-2018  Fully Paid   \n",
              "1       MORTGAGE     72000.0     Source Verified  Dec-2018  Fully Paid   \n",
              "2           RENT     55000.0     Source Verified  Dec-2018     Current   \n",
              "3           RENT     38000.0            Verified  Dec-2018     Current   \n",
              "4       MORTGAGE     56000.0            Verified  Dec-2018     Current   \n",
              "\n",
              "  pymnt_plan  url  desc             purpose                    title zip_code  \\\n",
              "0          n  NaN   NaN         credit_card  Credit card refinancing    336xx   \n",
              "1          n  NaN   NaN  debt_consolidation       Debt consolidation    333xx   \n",
              "2          n  NaN   NaN  debt_consolidation       Debt consolidation    902xx   \n",
              "3          n  NaN   NaN  debt_consolidation       Debt consolidation    150xx   \n",
              "4          n  NaN   NaN         credit_card  Credit card refinancing    301xx   \n",
              "\n",
              "  addr_state    dti  delinq_2yrs earliest_cr_line  inq_last_6mths  \\\n",
              "0         FL  19.90            0         Apr-1995               1   \n",
              "1         FL  20.12            0         Mar-2010               0   \n",
              "2         CA  13.51            0         Apr-2007               0   \n",
              "3         PA  38.09            0         Mar-1998               1   \n",
              "4         GA  31.03            0         Sep-2006               0   \n",
              "\n",
              "   mths_since_last_delinq  mths_since_last_record  open_acc  pub_rec  \\\n",
              "0                     NaN                     NaN        24        0   \n",
              "1                     NaN                     NaN        13        0   \n",
              "2                    44.0                    88.0         9        1   \n",
              "3                    47.0                     NaN        14        0   \n",
              "4                     NaN                     NaN         7        0   \n",
              "\n",
              "   revol_bal revol_util  total_acc initial_list_status  out_prncp  \\\n",
              "0      57259      43.2%         51                   w       0.00   \n",
              "1      11720      47.1%         26                   f       0.00   \n",
              "2      11859      53.9%         11                   w    9025.41   \n",
              "3      15323        53%         21                   w   13271.86   \n",
              "4       4518      28.6%         11                   w    3014.03   \n",
              "\n",
              "   out_prncp_inv   total_pymnt  total_pymnt_inv  total_rec_prncp  \\\n",
              "0           0.00  38187.046837         38187.05         35000.00   \n",
              "1           0.00   5615.977674          5615.98          5000.00   \n",
              "2        9025.41   2822.600000          2822.60           974.59   \n",
              "3       13271.86   6236.010000          6236.01          3828.14   \n",
              "4        3014.03   1291.210000          1291.21           985.97   \n",
              "\n",
              "   total_rec_int  total_rec_late_fee  recoveries  collection_recovery_fee  \\\n",
              "0        3187.05                 0.0         0.0                      0.0   \n",
              "1         615.98                 0.0         0.0                      0.0   \n",
              "2        1848.01                 0.0         0.0                      0.0   \n",
              "3        2407.87                 0.0         0.0                      0.0   \n",
              "4         305.24                 0.0         0.0                      0.0   \n",
              "\n",
              "  last_pymnt_d  last_pymnt_amnt next_pymnt_d last_credit_pull_d  \\\n",
              "0     Aug-2019         29882.16          NaN           Sep-2019   \n",
              "1     Jul-2019          4474.13          NaN           Aug-2019   \n",
              "2     Oct-2019           284.21     Nov-2019           Oct-2019   \n",
              "3     Oct-2019           626.30     Nov-2019           Oct-2019   \n",
              "4     Oct-2019           130.43     Nov-2019           Oct-2019   \n",
              "\n",
              "   collections_12_mths_ex_med  ...  revol_bal_joint  sec_app_earliest_cr_line  \\\n",
              "0                           0  ...              NaN                       NaN   \n",
              "1                           0  ...              NaN                       NaN   \n",
              "2                           0  ...              NaN                       NaN   \n",
              "3                           0  ...              NaN                       NaN   \n",
              "4                           1  ...              NaN                       NaN   \n",
              "\n",
              "  sec_app_inq_last_6mths  sec_app_mort_acc  sec_app_open_acc  \\\n",
              "0                    NaN               NaN               NaN   \n",
              "1                    NaN               NaN               NaN   \n",
              "2                    NaN               NaN               NaN   \n",
              "3                    NaN               NaN               NaN   \n",
              "4                    NaN               NaN               NaN   \n",
              "\n",
              "  sec_app_revol_util  sec_app_open_act_il  sec_app_num_rev_accts  \\\n",
              "0                NaN                  NaN                    NaN   \n",
              "1                NaN                  NaN                    NaN   \n",
              "2                NaN                  NaN                    NaN   \n",
              "3                NaN                  NaN                    NaN   \n",
              "4                NaN                  NaN                    NaN   \n",
              "\n",
              "   sec_app_chargeoff_within_12_mths  sec_app_collections_12_mths_ex_med  \\\n",
              "0                               NaN                                 NaN   \n",
              "1                               NaN                                 NaN   \n",
              "2                               NaN                                 NaN   \n",
              "3                               NaN                                 NaN   \n",
              "4                               NaN                                 NaN   \n",
              "\n",
              "   sec_app_mths_since_last_major_derog  hardship_flag  hardship_type  \\\n",
              "0                                  NaN              N            NaN   \n",
              "1                                  NaN              N            NaN   \n",
              "2                                  NaN              N            NaN   \n",
              "3                                  NaN              N            NaN   \n",
              "4                                  NaN              N            NaN   \n",
              "\n",
              "   hardship_reason  hardship_status  deferral_term  hardship_amount  \\\n",
              "0              NaN              NaN            NaN              NaN   \n",
              "1              NaN              NaN            NaN              NaN   \n",
              "2              NaN              NaN            NaN              NaN   \n",
              "3              NaN              NaN            NaN              NaN   \n",
              "4              NaN              NaN            NaN              NaN   \n",
              "\n",
              "   hardship_start_date  hardship_end_date  payment_plan_start_date  \\\n",
              "0                  NaN                NaN                      NaN   \n",
              "1                  NaN                NaN                      NaN   \n",
              "2                  NaN                NaN                      NaN   \n",
              "3                  NaN                NaN                      NaN   \n",
              "4                  NaN                NaN                      NaN   \n",
              "\n",
              "   hardship_length  hardship_dpd  hardship_loan_status  \\\n",
              "0              NaN           NaN                   NaN   \n",
              "1              NaN           NaN                   NaN   \n",
              "2              NaN           NaN                   NaN   \n",
              "3              NaN           NaN                   NaN   \n",
              "4              NaN           NaN                   NaN   \n",
              "\n",
              "   orig_projected_additional_accrued_interest  hardship_payoff_balance_amount  \\\n",
              "0                                         NaN                             NaN   \n",
              "1                                         NaN                             NaN   \n",
              "2                                         NaN                             NaN   \n",
              "3                                         NaN                             NaN   \n",
              "4                                         NaN                             NaN   \n",
              "\n",
              "   hardship_last_payment_amount  debt_settlement_flag  \\\n",
              "0                           NaN                     N   \n",
              "1                           NaN                     N   \n",
              "2                           NaN                     N   \n",
              "3                           NaN                     N   \n",
              "4                           NaN                     N   \n",
              "\n",
              "   debt_settlement_flag_date  settlement_status  settlement_date  \\\n",
              "0                        NaN                NaN              NaN   \n",
              "1                        NaN                NaN              NaN   \n",
              "2                        NaN                NaN              NaN   \n",
              "3                        NaN                NaN              NaN   \n",
              "4                        NaN                NaN              NaN   \n",
              "\n",
              "   settlement_amount  settlement_percentage  settlement_term  int_rate_float  \\\n",
              "0                NaN                    NaN              NaN           14.47   \n",
              "1                NaN                    NaN              NaN           22.35   \n",
              "2                NaN                    NaN              NaN           23.40   \n",
              "3                NaN                    NaN              NaN           18.94   \n",
              "4                NaN                    NaN              NaN           10.72   \n",
              "\n",
              "   int_rate_double      emp_title_clean  emp_title_manager  issue_d_clean  \\\n",
              "0            28.94      Staff Physician              False     2018-12-01   \n",
              "1            44.70    Director Of Sales              False     2018-12-01   \n",
              "2            46.80              Unknown              False     2018-12-01   \n",
              "3            37.88         Receptionist              False     2018-12-01   \n",
              "4            21.44  Extrusion Assistant              False     2018-12-01   \n",
              "\n",
              "   year  month  weekday  term_int  term_double  loan_status_is_great  \\\n",
              "0  2018     12        5        36           72                     1   \n",
              "1  2018     12        5        36           72                     1   \n",
              "2  2018     12        5        60          120                     1   \n",
              "3  2018     12        5        36           72                     1   \n",
              "4  2018     12        5        36           72                     1   \n",
              "\n",
              "   last_pymnt_d_clean  last_pymnt_d_year  last_pymnt_d_month  \\\n",
              "0          2019-08-01               2019                   8   \n",
              "1          2019-07-01               2019                   7   \n",
              "2          2019-10-01               2019                  10   \n",
              "3          2019-10-01               2019                  10   \n",
              "4          2019-10-01               2019                  10   \n",
              "\n",
              "   revol_util_float  revol_util_double  emp_title_clean2  \n",
              "0              43.2               86.4             Other  \n",
              "1              47.1               94.2             Other  \n",
              "2              53.9              107.8           Unknown  \n",
              "3              53.0              106.0             Other  \n",
              "4              28.6               57.2             Other  \n",
              "\n",
              "[5 rows x 161 columns]"
            ]
          },
          "metadata": {
            "tags": []
          },
          "execution_count": 115
        }
      ]
    },
    {
      "cell_type": "code",
      "metadata": {
        "id": "qYvyPSfE31V4",
        "colab_type": "code",
        "colab": {
          "base_uri": "https://localhost:8080/",
          "height": 34
        },
        "outputId": "535eb9be-3778-4437-8094-d285071d5cd0"
      },
      "source": [
        "# Check grade values\n",
        "df['grade'].nunique()\n"
      ],
      "execution_count": 126,
      "outputs": [
        {
          "output_type": "execute_result",
          "data": {
            "text/plain": [
              "7"
            ]
          },
          "metadata": {
            "tags": []
          },
          "execution_count": 126
        }
      ]
    },
    {
      "cell_type": "code",
      "metadata": {
        "id": "vvXFtNzh5GWA",
        "colab_type": "code",
        "colab": {
          "base_uri": "https://localhost:8080/",
          "height": 153
        },
        "outputId": "03c70045-ae6b-4e65-91ec-d38fc364354e"
      },
      "source": [
        "# Only 7 unique values. Let's see what they are\n",
        "df['grade'].value_counts(7)"
      ],
      "execution_count": 128,
      "outputs": [
        {
          "output_type": "execute_result",
          "data": {
            "text/plain": [
              "A    0.296008\n",
              "B    0.279265\n",
              "C    0.241551\n",
              "D    0.132947\n",
              "E    0.046429\n",
              "F    0.003014\n",
              "G    0.000787\n",
              "Name: grade, dtype: float64"
            ]
          },
          "metadata": {
            "tags": []
          },
          "execution_count": 128
        }
      ]
    },
    {
      "cell_type": "code",
      "metadata": {
        "id": "AnyfpRcP6OP_",
        "colab_type": "code",
        "colab": {}
      },
      "source": [
        "# We can convert these to useable numbers for future exploration and visualization - or just for practice!\n",
        "# Let's assign each letter to a number: \n",
        "# A=>0, B=>1, C=>2, D=>3, E=>4, F=>5, G=>6"
      ],
      "execution_count": 0,
      "outputs": []
    },
    {
      "cell_type": "code",
      "metadata": {
        "id": "Qgmj_UT56vkp",
        "colab_type": "code",
        "colab": {}
      },
      "source": [
        "# Create a function to convert letters to numbers\n",
        "def letter_to_number(gradestring):\n",
        "  if (gradestring == 'A'):\n",
        "    return 0\n",
        "  elif (gradestring == 'B'):\n",
        "    return 1\n",
        "  elif (gradestring == 'C'):\n",
        "    return 2\n",
        "  elif (gradestring == 'D'):\n",
        "    return 3\n",
        "  elif (gradestring == 'E'):\n",
        "    return 4\n",
        "  elif (gradestring == 'F'):\n",
        "    return 5\n",
        "  else:\n",
        "    return 6"
      ],
      "execution_count": 0,
      "outputs": []
    },
    {
      "cell_type": "code",
      "metadata": {
        "id": "m3bSMGhr8GSZ",
        "colab_type": "code",
        "colab": {
          "base_uri": "https://localhost:8080/",
          "height": 136
        },
        "outputId": "883f2d97-1ff0-48e8-be0f-ab15e023289f"
      },
      "source": [
        "# Let's make sure the function works\n",
        "print(letter_to_number('A'))\n",
        "print(letter_to_number('B'))\n",
        "print(letter_to_number('C'))\n",
        "print(letter_to_number('D'))\n",
        "print(letter_to_number('E'))\n",
        "print(letter_to_number('F'))\n",
        "print(letter_to_number('G'))"
      ],
      "execution_count": 135,
      "outputs": [
        {
          "output_type": "stream",
          "text": [
            "0\n",
            "1\n",
            "2\n",
            "3\n",
            "4\n",
            "5\n",
            "6\n"
          ],
          "name": "stdout"
        }
      ]
    },
    {
      "cell_type": "code",
      "metadata": {
        "id": "l--S4oao7kZR",
        "colab_type": "code",
        "colab": {
          "base_uri": "https://localhost:8080/",
          "height": 34
        },
        "outputId": "cf112244-e9d4-4e3b-bed9-20ce3e7c0bd0"
      },
      "source": [
        "# Check for null values\n",
        "df['grade'].isnull().sum()"
      ],
      "execution_count": 132,
      "outputs": [
        {
          "output_type": "execute_result",
          "data": {
            "text/plain": [
              "0"
            ]
          },
          "metadata": {
            "tags": []
          },
          "execution_count": 132
        }
      ]
    },
    {
      "cell_type": "code",
      "metadata": {
        "id": "eOT4BwIn8Cvp",
        "colab_type": "code",
        "colab": {
          "base_uri": "https://localhost:8080/",
          "height": 136
        },
        "outputId": "716b07b1-5615-4102-a97a-9b2d8a73d22e"
      },
      "source": [
        "# There are no empty values, so use the function to convert the column\n",
        "df['grade_clean'] = df['grade'].apply(letter_to_number)\n",
        "df.columns"
      ],
      "execution_count": 136,
      "outputs": [
        {
          "output_type": "execute_result",
          "data": {
            "text/plain": [
              "Index(['id', 'member_id', 'loan_amnt', 'funded_amnt', 'funded_amnt_inv',\n",
              "       'term', 'int_rate', 'installment', 'grade', 'sub_grade',\n",
              "       ...\n",
              "       'term_int', 'term_double', 'loan_status_is_great', 'last_pymnt_d_clean',\n",
              "       'last_pymnt_d_year', 'last_pymnt_d_month', 'revol_util_float',\n",
              "       'revol_util_double', 'emp_title_clean2', 'grade_clean'],\n",
              "      dtype='object', length=162)"
            ]
          },
          "metadata": {
            "tags": []
          },
          "execution_count": 136
        }
      ]
    },
    {
      "cell_type": "code",
      "metadata": {
        "id": "o7gkOE2F86x-",
        "colab_type": "code",
        "colab": {
          "base_uri": "https://localhost:8080/",
          "height": 235
        },
        "outputId": "6dd3a693-af8b-4afb-881e-83c011956fb7"
      },
      "source": [
        "# Compare old and new\n",
        "df[['grade', 'grade_clean']].sample(6)"
      ],
      "execution_count": 138,
      "outputs": [
        {
          "output_type": "execute_result",
          "data": {
            "text/html": [
              "<div>\n",
              "<style scoped>\n",
              "    .dataframe tbody tr th:only-of-type {\n",
              "        vertical-align: middle;\n",
              "    }\n",
              "\n",
              "    .dataframe tbody tr th {\n",
              "        vertical-align: top;\n",
              "    }\n",
              "\n",
              "    .dataframe thead th {\n",
              "        text-align: right;\n",
              "    }\n",
              "</style>\n",
              "<table border=\"1\" class=\"dataframe\">\n",
              "  <thead>\n",
              "    <tr style=\"text-align: right;\">\n",
              "      <th></th>\n",
              "      <th>grade</th>\n",
              "      <th>grade_clean</th>\n",
              "    </tr>\n",
              "  </thead>\n",
              "  <tbody>\n",
              "    <tr>\n",
              "      <th>120286</th>\n",
              "      <td>D</td>\n",
              "      <td>3</td>\n",
              "    </tr>\n",
              "    <tr>\n",
              "      <th>119970</th>\n",
              "      <td>C</td>\n",
              "      <td>2</td>\n",
              "    </tr>\n",
              "    <tr>\n",
              "      <th>126995</th>\n",
              "      <td>A</td>\n",
              "      <td>0</td>\n",
              "    </tr>\n",
              "    <tr>\n",
              "      <th>52693</th>\n",
              "      <td>D</td>\n",
              "      <td>3</td>\n",
              "    </tr>\n",
              "    <tr>\n",
              "      <th>27734</th>\n",
              "      <td>A</td>\n",
              "      <td>0</td>\n",
              "    </tr>\n",
              "    <tr>\n",
              "      <th>121909</th>\n",
              "      <td>B</td>\n",
              "      <td>1</td>\n",
              "    </tr>\n",
              "  </tbody>\n",
              "</table>\n",
              "</div>"
            ],
            "text/plain": [
              "       grade  grade_clean\n",
              "120286     D            3\n",
              "119970     C            2\n",
              "126995     A            0\n",
              "52693      D            3\n",
              "27734      A            0\n",
              "121909     B            1"
            ]
          },
          "metadata": {
            "tags": []
          },
          "execution_count": 138
        }
      ]
    },
    {
      "cell_type": "code",
      "metadata": {
        "id": "Jw5863OH9GtB",
        "colab_type": "code",
        "colab": {
          "base_uri": "https://localhost:8080/",
          "height": 119
        },
        "outputId": "9caba594-c1ec-4876-881d-861b98e47bb7"
      },
      "source": [
        "# Let's look at funded amount\n",
        "df['funded_amnt'].head()"
      ],
      "execution_count": 139,
      "outputs": [
        {
          "output_type": "execute_result",
          "data": {
            "text/plain": [
              "0    35000\n",
              "1     5000\n",
              "2    10000\n",
              "3    17100\n",
              "4     4000\n",
              "Name: funded_amnt, dtype: int64"
            ]
          },
          "metadata": {
            "tags": []
          },
          "execution_count": 139
        }
      ]
    },
    {
      "cell_type": "code",
      "metadata": {
        "id": "wrgFbp-F91WH",
        "colab_type": "code",
        "colab": {
          "base_uri": "https://localhost:8080/",
          "height": 34
        },
        "outputId": "c534d42a-76c2-47a8-8662-6f22b9f97fdb"
      },
      "source": [
        "# Check for empty values\n",
        "df['funded_amnt'].isnull().sum()"
      ],
      "execution_count": 140,
      "outputs": [
        {
          "output_type": "execute_result",
          "data": {
            "text/plain": [
              "0"
            ]
          },
          "metadata": {
            "tags": []
          },
          "execution_count": 140
        }
      ]
    },
    {
      "cell_type": "code",
      "metadata": {
        "id": "aCmI23O396Eq",
        "colab_type": "code",
        "colab": {
          "base_uri": "https://localhost:8080/",
          "height": 265
        },
        "outputId": "eb0fabc6-ddb0-47b5-8325-9eb8453b9e48"
      },
      "source": [
        "# Let's do some visualization practice\n",
        "df['grade_clean'].hist(bins=13);"
      ],
      "execution_count": 156,
      "outputs": [
        {
          "output_type": "display_data",
          "data": {
            "image/png": "[encoded data removed]",
            "text/plain": [
              "<Figure size 432x288 with 1 Axes>"
            ]
          },
          "metadata": {
            "tags": []
          }
        }
      ]
    },
    {
      "cell_type": "code",
      "metadata": {
        "id": "a3GlCUDt-pln",
        "colab_type": "code",
        "colab": {
          "base_uri": "https://localhost:8080/",
          "height": 265
        },
        "outputId": "68db8bf9-d8be-413d-da3b-a3251faf8b61"
      },
      "source": [
        "df['funded_amnt'].hist(bins=20);"
      ],
      "execution_count": 161,
      "outputs": [
        {
          "output_type": "display_data",
          "data": {
            "image/png": "[encoded data removed]",
            "text/plain": [
              "<Figure size 432x288 with 1 Axes>"
            ]
          },
          "metadata": {
            "tags": []
          }
        }
      ]
    },
    {
      "cell_type": "code",
      "metadata": {
        "id": "9C-siZDo--lf",
        "colab_type": "code",
        "colab": {
          "base_uri": "https://localhost:8080/",
          "height": 265
        },
        "outputId": "ac844ea7-1e63-4fc4-9937-7e88ab53ae4d"
      },
      "source": [
        "df['grade_clean'].plot.density();"
      ],
      "execution_count": 176,
      "outputs": [
        {
          "output_type": "display_data",
          "data": {
            "image/png": "[encoded data removed]",
            "text/plain": [
              "<Figure size 432x288 with 1 Axes>"
            ]
          },
          "metadata": {
            "tags": []
          }
        }
      ]
    },
    {
      "cell_type": "code",
      "metadata": {
        "id": "PEmYxuljAMfa",
        "colab_type": "code",
        "colab": {
          "base_uri": "https://localhost:8080/",
          "height": 265
        },
        "outputId": "89cee830-863e-42e7-9ed4-fb34c0653331"
      },
      "source": [
        "df['funded_amnt'].plot.density();"
      ],
      "execution_count": 177,
      "outputs": [
        {
          "output_type": "display_data",
          "data": {
            "image/png": "[encoded data removed]",
            "text/plain": [
              "<Figure size 432x288 with 1 Axes>"
            ]
          },
          "metadata": {
            "tags": []
          }
        }
      ]
    },
    {
      "cell_type": "code",
      "metadata": {
        "id": "2K3SFvZNAyV1",
        "colab_type": "code",
        "colab": {}
      },
      "source": [
        ""
      ],
      "execution_count": 0,
      "outputs": []
    },
    {
      "cell_type": "code",
      "metadata": {
        "id": "hysGW6h7DGqw",
        "colab_type": "code",
        "colab": {}
      },
      "source": [
        ""
      ],
      "execution_count": 0,
      "outputs": []
    },
    {
      "cell_type": "code",
      "metadata": {
        "id": "-V5IFHNzDJmI",
        "colab_type": "code",
        "colab": {}
      },
      "source": [
        ""
      ],
      "execution_count": 0,
      "outputs": []
    }
  ]
}