{
  "nbformat": 4,
  "nbformat_minor": 0,
  "metadata": {
    "colab": {
      "name": "Jose_Urena_DSPT8_LS_DS_112_Make_Features_Assignment.ipynb",
      "provenance": [],
      "collapsed_sections": [],
      "toc_visible": true,
      "include_colab_link": true
    },
    "kernelspec": {
      "display_name": "Python 3",
      "language": "python",
      "name": "python3"
    },
    "language_info": {
      "codemirror_mode": {
        "name": "ipython",
        "version": 3
      },
      "file_extension": ".py",
      "mimetype": "text/x-python",
      "name": "python",
      "nbconvert_exporter": "python",
      "pygments_lexer": "ipython3",
      "version": "3.7.1"
    }
  },
  "cells": [
    {
      "cell_type": "markdown",
      "metadata": {
        "id": "view-in-github",
        "colab_type": "text"
      },
      "source": [
        "<a href=\"https://colab.research.google.com/github/urenajose/DS-Unit-1-Sprint-1-Data-Wrangling-and-Storytelling/blob/master/Jose_Urena_DSPT8_LS_DS_112_Make_Features_Assignment.ipynb\" target=\"_parent\"><img src=\"https://colab.research.google.com/assets/colab-badge.svg\" alt=\"Open In Colab\"/></a>"
      ]
    },
    {
      "cell_type": "markdown",
      "metadata": {
        "id": "SnDJqBLi0FYW",
        "colab_type": "text"
      },
      "source": [
        "<img align=\"left\" src=\"https://lever-client-logos.s3.amazonaws.com/864372b1-534c-480e-acd5-9711f850815c-1524247202159.png\" width=200> "
      ]
    },
    {
      "cell_type": "markdown",
      "metadata": {
        "id": "W5GjI1z5yNG4",
        "colab_type": "text"
      },
      "source": [
        "# Assignment:\n",
        "\n",
        "- Replicate the lesson code.\n",
        "\n",
        " - This means that if you haven't followed along already, type out the things that we did in class. Forcing your fingers to hit each key will help you internalize the syntax of what we're doing. Make sure you understand each line of code that you're writing, google things that you don't fully understand.\n",
        " - [Lambda Learning Method for DS - By Ryan Herr](https://docs.google.com/document/d/1ubOw9B3Hfip27hF2ZFnW3a3z9xAgrUDRReOEo-FHCVs/edit?usp=sharing)\n",
        "- Convert the `term` column from string to integer.\n",
        "- Make a column named `loan_status_is_great`. It should contain the integer 1 if `loan_status` is \"Current\" or \"Fully Paid.\" Else it should contain the integer 0.\n",
        "- Make `last_pymnt_d_month` and `last_pymnt_d_year` columns."
      ]
    },
    {
      "cell_type": "code",
      "metadata": {
        "id": "AazB4eFwym2p",
        "colab_type": "code",
        "colab": {}
      },
      "source": [
        "##### Begin Working Here #####\n",
        "import pandas as pd\n",
        "import numpy as np\n"
      ],
      "execution_count": 2,
      "outputs": []
    },
    {
      "cell_type": "code",
      "metadata": {
        "id": "Mmcns-4Kd1vM",
        "colab_type": "code",
        "colab": {}
      },
      "source": [
        "pd.set_option('display.max_rows',10)\n",
        "pd.set_option('display.max_columns', 5)"
      ],
      "execution_count": null,
      "outputs": []
    },
    {
      "cell_type": "markdown",
      "metadata": {
        "id": "SNX5hUk0c7yK",
        "colab_type": "text"
      },
      "source": [
        "##Housing Data Head, info & tail"
      ]
    },
    {
      "cell_type": "code",
      "metadata": {
        "id": "mEj-04R8ZYto",
        "colab_type": "code",
        "colab": {
          "base_uri": "https://localhost:8080/",
          "height": 318
        },
        "outputId": "affb6bf3-0e26-4bc9-f636-208e767976c1"
      },
      "source": [
        "housing_data = pd.read_csv('https://raw.githubusercontent.com/ryanleeallred/datasets/master/Ames%20Housing%20Data/train.csv')\n",
        "print(housing_data.head(5))\n",
        "print(\"Tatil\")\n",
        "print(housing_data.tail(5))"
      ],
      "execution_count": null,
      "outputs": [
        {
          "output_type": "stream",
          "text": [
            "   Id  MSSubClass  ... SaleCondition  SalePrice\n",
            "0   1          60  ...        Normal     208500\n",
            "1   2          20  ...        Normal     181500\n",
            "2   3          60  ...        Normal     223500\n",
            "3   4          70  ...       Abnorml     140000\n",
            "4   5          60  ...        Normal     250000\n",
            "\n",
            "[5 rows x 81 columns]\n",
            "Tatil\n",
            "        Id  MSSubClass  ... SaleCondition  SalePrice\n",
            "1455  1456          60  ...        Normal     175000\n",
            "1456  1457          20  ...        Normal     210000\n",
            "1457  1458          70  ...        Normal     266500\n",
            "1458  1459          20  ...        Normal     142125\n",
            "1459  1460          20  ...        Normal     147500\n",
            "\n",
            "[5 rows x 81 columns]\n"
          ],
          "name": "stdout"
        }
      ]
    },
    {
      "cell_type": "code",
      "metadata": {
        "id": "pTLcYmaHZ6jn",
        "colab_type": "code",
        "colab": {
          "base_uri": "https://localhost:8080/",
          "height": 1000
        },
        "outputId": "647d7b2c-0859-49b6-e8fb-6b87ae9008f1"
      },
      "source": [
        "\n",
        "housing_data.info()"
      ],
      "execution_count": null,
      "outputs": [
        {
          "output_type": "stream",
          "text": [
            "<class 'pandas.core.frame.DataFrame'>\n",
            "RangeIndex: 1460 entries, 0 to 1459\n",
            "Data columns (total 81 columns):\n",
            " #   Column         Non-Null Count  Dtype  \n",
            "---  ------         --------------  -----  \n",
            " 0   Id             1460 non-null   int64  \n",
            " 1   MSSubClass     1460 non-null   int64  \n",
            " 2   MSZoning       1460 non-null   object \n",
            " 3   LotFrontage    1201 non-null   float64\n",
            " 4   LotArea        1460 non-null   int64  \n",
            " 5   Street         1460 non-null   object \n",
            " 6   Alley          91 non-null     object \n",
            " 7   LotShape       1460 non-null   object \n",
            " 8   LandContour    1460 non-null   object \n",
            " 9   Utilities      1460 non-null   object \n",
            " 10  LotConfig      1460 non-null   object \n",
            " 11  LandSlope      1460 non-null   object \n",
            " 12  Neighborhood   1460 non-null   object \n",
            " 13  Condition1     1460 non-null   object \n",
            " 14  Condition2     1460 non-null   object \n",
            " 15  BldgType       1460 non-null   object \n",
            " 16  HouseStyle     1460 non-null   object \n",
            " 17  OverallQual    1460 non-null   int64  \n",
            " 18  OverallCond    1460 non-null   int64  \n",
            " 19  YearBuilt      1460 non-null   int64  \n",
            " 20  YearRemodAdd   1460 non-null   int64  \n",
            " 21  RoofStyle      1460 non-null   object \n",
            " 22  RoofMatl       1460 non-null   object \n",
            " 23  Exterior1st    1460 non-null   object \n",
            " 24  Exterior2nd    1460 non-null   object \n",
            " 25  MasVnrType     1452 non-null   object \n",
            " 26  MasVnrArea     1452 non-null   float64\n",
            " 27  ExterQual      1460 non-null   object \n",
            " 28  ExterCond      1460 non-null   object \n",
            " 29  Foundation     1460 non-null   object \n",
            " 30  BsmtQual       1423 non-null   object \n",
            " 31  BsmtCond       1423 non-null   object \n",
            " 32  BsmtExposure   1422 non-null   object \n",
            " 33  BsmtFinType1   1423 non-null   object \n",
            " 34  BsmtFinSF1     1460 non-null   int64  \n",
            " 35  BsmtFinType2   1422 non-null   object \n",
            " 36  BsmtFinSF2     1460 non-null   int64  \n",
            " 37  BsmtUnfSF      1460 non-null   int64  \n",
            " 38  TotalBsmtSF    1460 non-null   int64  \n",
            " 39  Heating        1460 non-null   object \n",
            " 40  HeatingQC      1460 non-null   object \n",
            " 41  CentralAir     1460 non-null   object \n",
            " 42  Electrical     1459 non-null   object \n",
            " 43  1stFlrSF       1460 non-null   int64  \n",
            " 44  2ndFlrSF       1460 non-null   int64  \n",
            " 45  LowQualFinSF   1460 non-null   int64  \n",
            " 46  GrLivArea      1460 non-null   int64  \n",
            " 47  BsmtFullBath   1460 non-null   int64  \n",
            " 48  BsmtHalfBath   1460 non-null   int64  \n",
            " 49  FullBath       1460 non-null   int64  \n",
            " 50  HalfBath       1460 non-null   int64  \n",
            " 51  BedroomAbvGr   1460 non-null   int64  \n",
            " 52  KitchenAbvGr   1460 non-null   int64  \n",
            " 53  KitchenQual    1460 non-null   object \n",
            " 54  TotRmsAbvGrd   1460 non-null   int64  \n",
            " 55  Functional     1460 non-null   object \n",
            " 56  Fireplaces     1460 non-null   int64  \n",
            " 57  FireplaceQu    770 non-null    object \n",
            " 58  GarageType     1379 non-null   object \n",
            " 59  GarageYrBlt    1379 non-null   float64\n",
            " 60  GarageFinish   1379 non-null   object \n",
            " 61  GarageCars     1460 non-null   int64  \n",
            " 62  GarageArea     1460 non-null   int64  \n",
            " 63  GarageQual     1379 non-null   object \n",
            " 64  GarageCond     1379 non-null   object \n",
            " 65  PavedDrive     1460 non-null   object \n",
            " 66  WoodDeckSF     1460 non-null   int64  \n",
            " 67  OpenPorchSF    1460 non-null   int64  \n",
            " 68  EnclosedPorch  1460 non-null   int64  \n",
            " 69  3SsnPorch      1460 non-null   int64  \n",
            " 70  ScreenPorch    1460 non-null   int64  \n",
            " 71  PoolArea       1460 non-null   int64  \n",
            " 72  PoolQC         7 non-null      object \n",
            " 73  Fence          281 non-null    object \n",
            " 74  MiscFeature    54 non-null     object \n",
            " 75  MiscVal        1460 non-null   int64  \n",
            " 76  MoSold         1460 non-null   int64  \n",
            " 77  YrSold         1460 non-null   int64  \n",
            " 78  SaleType       1460 non-null   object \n",
            " 79  SaleCondition  1460 non-null   object \n",
            " 80  SalePrice      1460 non-null   int64  \n",
            "dtypes: float64(3), int64(35), object(43)\n",
            "memory usage: 924.0+ KB\n"
          ],
          "name": "stdout"
        }
      ]
    },
    {
      "cell_type": "markdown",
      "metadata": {
        "id": "ACEwgp9feM9a",
        "colab_type": "text"
      },
      "source": [
        "#BedroomAbvGR\n"
      ]
    },
    {
      "cell_type": "code",
      "metadata": {
        "id": "48Zzexhyec8j",
        "colab_type": "code",
        "colab": {
          "base_uri": "https://localhost:8080/"
        },
        "outputId": "39fffe5d-19ad-414c-b9ff-0cfbe57f0c48"
      },
      "source": [
        "housing_data[[\"BedroomAbvGr\",'TotRmsAbvGrd']].head(10)"
      ],
      "execution_count": null,
      "outputs": [
        {
          "output_type": "execute_result",
          "data": {
            "text/html": [
              "<div>\n",
              "<style scoped>\n",
              "    .dataframe tbody tr th:only-of-type {\n",
              "        vertical-align: middle;\n",
              "    }\n",
              "\n",
              "    .dataframe tbody tr th {\n",
              "        vertical-align: top;\n",
              "    }\n",
              "\n",
              "    .dataframe thead th {\n",
              "        text-align: right;\n",
              "    }\n",
              "</style>\n",
              "<table border=\"1\" class=\"dataframe\">\n",
              "  <thead>\n",
              "    <tr style=\"text-align: right;\">\n",
              "      <th></th>\n",
              "      <th>BedroomAbvGr</th>\n",
              "      <th>TotRmsAbvGrd</th>\n",
              "    </tr>\n",
              "  </thead>\n",
              "  <tbody>\n",
              "    <tr>\n",
              "      <th>0</th>\n",
              "      <td>3</td>\n",
              "      <td>8</td>\n",
              "    </tr>\n",
              "    <tr>\n",
              "      <th>1</th>\n",
              "      <td>3</td>\n",
              "      <td>6</td>\n",
              "    </tr>\n",
              "    <tr>\n",
              "      <th>2</th>\n",
              "      <td>3</td>\n",
              "      <td>6</td>\n",
              "    </tr>\n",
              "    <tr>\n",
              "      <th>3</th>\n",
              "      <td>3</td>\n",
              "      <td>7</td>\n",
              "    </tr>\n",
              "    <tr>\n",
              "      <th>4</th>\n",
              "      <td>4</td>\n",
              "      <td>9</td>\n",
              "    </tr>\n",
              "    <tr>\n",
              "      <th>5</th>\n",
              "      <td>1</td>\n",
              "      <td>5</td>\n",
              "    </tr>\n",
              "    <tr>\n",
              "      <th>6</th>\n",
              "      <td>3</td>\n",
              "      <td>7</td>\n",
              "    </tr>\n",
              "    <tr>\n",
              "      <th>7</th>\n",
              "      <td>3</td>\n",
              "      <td>7</td>\n",
              "    </tr>\n",
              "    <tr>\n",
              "      <th>8</th>\n",
              "      <td>2</td>\n",
              "      <td>8</td>\n",
              "    </tr>\n",
              "    <tr>\n",
              "      <th>9</th>\n",
              "      <td>2</td>\n",
              "      <td>5</td>\n",
              "    </tr>\n",
              "  </tbody>\n",
              "</table>\n",
              "</div>"
            ],
            "text/plain": [
              "   BedroomAbvGr  TotRmsAbvGrd\n",
              "0             3             8\n",
              "1             3             6\n",
              "2             3             6\n",
              "3             3             7\n",
              "4             4             9\n",
              "5             1             5\n",
              "6             3             7\n",
              "7             3             7\n",
              "8             2             8\n",
              "9             2             5"
            ]
          },
          "metadata": {
            "tags": []
          },
          "execution_count": 31
        }
      ]
    },
    {
      "cell_type": "code",
      "metadata": {
        "id": "RHOeQJhtexgX",
        "colab_type": "code",
        "colab": {
          "base_uri": "https://localhost:8080/"
        },
        "outputId": "e589d78a-028f-40ff-aed1-1106b902016d"
      },
      "source": [
        "housing_data.BedroomAbvGr.head(10)"
      ],
      "execution_count": null,
      "outputs": [
        {
          "output_type": "execute_result",
          "data": {
            "text/plain": [
              "0    3\n",
              "1    3\n",
              "2    3\n",
              "3    3\n",
              "4    4\n",
              "5    1\n",
              "6    3\n",
              "7    3\n",
              "8    2\n",
              "9    2\n",
              "Name: BedroomAbvGr, dtype: int64"
            ]
          },
          "metadata": {
            "tags": []
          },
          "execution_count": 32
        }
      ]
    },
    {
      "cell_type": "code",
      "metadata": {
        "id": "96_zqic1fY_R",
        "colab_type": "code",
        "colab": {
          "base_uri": "https://localhost:8080/"
        },
        "outputId": "7b547697-afb8-4cfa-adf8-e33d9a0ec829"
      },
      "source": [
        "housing_data[\"BedroomAbvGr\"].head(10)"
      ],
      "execution_count": null,
      "outputs": [
        {
          "output_type": "execute_result",
          "data": {
            "text/plain": [
              "0    3\n",
              "1    3\n",
              "2    3\n",
              "3    3\n",
              "4    4\n",
              "5    1\n",
              "6    3\n",
              "7    3\n",
              "8    2\n",
              "9    2\n",
              "Name: BedroomAbvGr, dtype: int64"
            ]
          },
          "metadata": {
            "tags": []
          },
          "execution_count": 33
        }
      ]
    },
    {
      "cell_type": "markdown",
      "metadata": {
        "id": "GZPXqfeRgND5",
        "colab_type": "text"
      },
      "source": [
        ""
      ]
    },
    {
      "cell_type": "markdown",
      "metadata": {
        "id": "VEdvlUiFgUOe",
        "colab_type": "text"
      },
      "source": [
        "#LotFrontage"
      ]
    },
    {
      "cell_type": "code",
      "metadata": {
        "id": "h1M1JpWqgf7s",
        "colab_type": "code",
        "colab": {
          "base_uri": "https://localhost:8080/"
        },
        "outputId": "5cdc1cfb-9c0e-45e9-df6f-d072e7c076f7"
      },
      "source": [
        "housing_data[\"LotFrontage\"].head(10)"
      ],
      "execution_count": null,
      "outputs": [
        {
          "output_type": "execute_result",
          "data": {
            "text/plain": [
              "0    65.0\n",
              "1    80.0\n",
              "2    68.0\n",
              "3    60.0\n",
              "4    84.0\n",
              "5    85.0\n",
              "6    75.0\n",
              "7     NaN\n",
              "8    51.0\n",
              "9    50.0\n",
              "Name: LotFrontage, dtype: float64"
            ]
          },
          "metadata": {
            "tags": []
          },
          "execution_count": 34
        }
      ]
    },
    {
      "cell_type": "code",
      "metadata": {
        "id": "GtXau3P-jGjp",
        "colab_type": "code",
        "colab": {}
      },
      "source": [
        "pd.set_option('display.max_rows',200)\n",
        "pd.set_option('display.max_columns', 100)"
      ],
      "execution_count": null,
      "outputs": []
    },
    {
      "cell_type": "code",
      "metadata": {
        "id": "uqgdbAtci7o8",
        "colab_type": "code",
        "colab": {
          "base_uri": "https://localhost:8080/"
        },
        "outputId": "7f7f23dc-1aaa-4613-a0e1-552ce55feed7"
      },
      "source": [
        "housing_data[\"LotFrontage\"].value_counts()"
      ],
      "execution_count": null,
      "outputs": [
        {
          "output_type": "execute_result",
          "data": {
            "text/plain": [
              "60.0     143\n",
              "70.0      70\n",
              "80.0      69\n",
              "50.0      57\n",
              "75.0      53\n",
              "65.0      44\n",
              "85.0      40\n",
              "78.0      25\n",
              "21.0      23\n",
              "90.0      23\n",
              "68.0      19\n",
              "24.0      19\n",
              "64.0      19\n",
              "73.0      18\n",
              "72.0      17\n",
              "79.0      17\n",
              "63.0      17\n",
              "55.0      17\n",
              "100.0     16\n",
              "51.0      15\n",
              "66.0      15\n",
              "74.0      15\n",
              "52.0      14\n",
              "59.0      13\n",
              "71.0      12\n",
              "82.0      12\n",
              "40.0      12\n",
              "43.0      12\n",
              "67.0      12\n",
              "57.0      12\n",
              "69.0      11\n",
              "76.0      11\n",
              "86.0      10\n",
              "53.0      10\n",
              "34.0      10\n",
              "92.0      10\n",
              "88.0      10\n",
              "62.0       9\n",
              "44.0       9\n",
              "84.0       9\n",
              "77.0       9\n",
              "35.0       9\n",
              "93.0       8\n",
              "61.0       8\n",
              "98.0       8\n",
              "96.0       8\n",
              "107.0      7\n",
              "120.0      7\n",
              "95.0       7\n",
              "58.0       7\n",
              "41.0       6\n",
              "30.0       6\n",
              "81.0       6\n",
              "89.0       6\n",
              "105.0      6\n",
              "48.0       6\n",
              "110.0      6\n",
              "94.0       6\n",
              "54.0       6\n",
              "91.0       6\n",
              "36.0       6\n",
              "47.0       5\n",
              "37.0       5\n",
              "83.0       5\n",
              "56.0       5\n",
              "87.0       5\n",
              "32.0       5\n",
              "42.0       4\n",
              "49.0       4\n",
              "102.0      4\n",
              "103.0      3\n",
              "108.0      3\n",
              "99.0       3\n",
              "104.0      3\n",
              "45.0       3\n",
              "130.0      3\n",
              "174.0      2\n",
              "97.0       2\n",
              "134.0      2\n",
              "313.0      2\n",
              "129.0      2\n",
              "124.0      2\n",
              "118.0      2\n",
              "101.0      2\n",
              "122.0      2\n",
              "121.0      2\n",
              "115.0      2\n",
              "109.0      2\n",
              "116.0      2\n",
              "114.0      2\n",
              "150.0      1\n",
              "111.0      1\n",
              "153.0      1\n",
              "182.0      1\n",
              "46.0       1\n",
              "112.0      1\n",
              "149.0      1\n",
              "141.0      1\n",
              "33.0       1\n",
              "152.0      1\n",
              "160.0      1\n",
              "168.0      1\n",
              "128.0      1\n",
              "144.0      1\n",
              "39.0       1\n",
              "106.0      1\n",
              "38.0       1\n",
              "138.0      1\n",
              "140.0      1\n",
              "137.0      1\n",
              "Name: LotFrontage, dtype: int64"
            ]
          },
          "metadata": {
            "tags": []
          },
          "execution_count": 36
        }
      ]
    },
    {
      "cell_type": "code",
      "metadata": {
        "id": "HYyragQ2kQgP",
        "colab_type": "code",
        "colab": {
          "base_uri": "https://localhost:8080/"
        },
        "outputId": "7552dd86-5aa8-45f8-ccd6-6d42cdab0ef8"
      },
      "source": [
        "housing_data[\"LotFrontage\"].value_counts(dropna=False)"
      ],
      "execution_count": null,
      "outputs": [
        {
          "output_type": "execute_result",
          "data": {
            "text/plain": [
              "NaN      259\n",
              "60.0     143\n",
              "70.0      70\n",
              "80.0      69\n",
              "50.0      57\n",
              "75.0      53\n",
              "65.0      44\n",
              "85.0      40\n",
              "78.0      25\n",
              "21.0      23\n",
              "90.0      23\n",
              "68.0      19\n",
              "24.0      19\n",
              "64.0      19\n",
              "73.0      18\n",
              "72.0      17\n",
              "79.0      17\n",
              "63.0      17\n",
              "55.0      17\n",
              "100.0     16\n",
              "51.0      15\n",
              "66.0      15\n",
              "74.0      15\n",
              "52.0      14\n",
              "59.0      13\n",
              "71.0      12\n",
              "67.0      12\n",
              "57.0      12\n",
              "82.0      12\n",
              "43.0      12\n",
              "40.0      12\n",
              "76.0      11\n",
              "69.0      11\n",
              "53.0      10\n",
              "92.0      10\n",
              "88.0      10\n",
              "34.0      10\n",
              "86.0      10\n",
              "77.0       9\n",
              "35.0       9\n",
              "44.0       9\n",
              "84.0       9\n",
              "62.0       9\n",
              "93.0       8\n",
              "61.0       8\n",
              "98.0       8\n",
              "96.0       8\n",
              "107.0      7\n",
              "95.0       7\n",
              "120.0      7\n",
              "58.0       7\n",
              "41.0       6\n",
              "105.0      6\n",
              "54.0       6\n",
              "94.0       6\n",
              "48.0       6\n",
              "110.0      6\n",
              "30.0       6\n",
              "89.0       6\n",
              "81.0       6\n",
              "91.0       6\n",
              "36.0       6\n",
              "47.0       5\n",
              "83.0       5\n",
              "37.0       5\n",
              "87.0       5\n",
              "32.0       5\n",
              "56.0       5\n",
              "102.0      4\n",
              "42.0       4\n",
              "49.0       4\n",
              "99.0       3\n",
              "45.0       3\n",
              "104.0      3\n",
              "130.0      3\n",
              "103.0      3\n",
              "108.0      3\n",
              "124.0      2\n",
              "174.0      2\n",
              "97.0       2\n",
              "134.0      2\n",
              "129.0      2\n",
              "313.0      2\n",
              "118.0      2\n",
              "122.0      2\n",
              "121.0      2\n",
              "101.0      2\n",
              "109.0      2\n",
              "115.0      2\n",
              "116.0      2\n",
              "114.0      2\n",
              "153.0      1\n",
              "149.0      1\n",
              "150.0      1\n",
              "111.0      1\n",
              "182.0      1\n",
              "46.0       1\n",
              "112.0      1\n",
              "141.0      1\n",
              "33.0       1\n",
              "152.0      1\n",
              "160.0      1\n",
              "168.0      1\n",
              "128.0      1\n",
              "144.0      1\n",
              "39.0       1\n",
              "106.0      1\n",
              "38.0       1\n",
              "138.0      1\n",
              "140.0      1\n",
              "137.0      1\n",
              "Name: LotFrontage, dtype: int64"
            ]
          },
          "metadata": {
            "tags": []
          },
          "execution_count": 24
        }
      ]
    },
    {
      "cell_type": "code",
      "metadata": {
        "id": "Xmn8TtRVlZLP",
        "colab_type": "code",
        "colab": {
          "base_uri": "https://localhost:8080/"
        },
        "outputId": "150c0857-a390-45b7-81fd-ef7d5f109fae"
      },
      "source": [
        "type(np.nan)"
      ],
      "execution_count": null,
      "outputs": [
        {
          "output_type": "execute_result",
          "data": {
            "text/plain": [
              "float"
            ]
          },
          "metadata": {
            "tags": []
          },
          "execution_count": 37
        }
      ]
    },
    {
      "cell_type": "code",
      "metadata": {
        "id": "YGjuCAb_lqsW",
        "colab_type": "code",
        "colab": {
          "base_uri": "https://localhost:8080/"
        },
        "outputId": "cd1a01d2-0678-4179-9792-f5bf47c21480"
      },
      "source": [
        "housing_data['LotFrontage'].isnull().sum()"
      ],
      "execution_count": null,
      "outputs": [
        {
          "output_type": "execute_result",
          "data": {
            "text/plain": [
              "259"
            ]
          },
          "metadata": {
            "tags": []
          },
          "execution_count": 39
        }
      ]
    },
    {
      "cell_type": "code",
      "metadata": {
        "id": "996c06wYl9Nq",
        "colab_type": "code",
        "colab": {
          "base_uri": "https://localhost:8080/"
        },
        "outputId": "7f3477a5-27ac-4a68-b2ea-1eead26da210"
      },
      "source": [
        "housing_data['LotFrontage'].dropna(inplace=True)\n",
        "housing_data['LotFrontage'].isnull().sum()"
      ],
      "execution_count": null,
      "outputs": [
        {
          "output_type": "execute_result",
          "data": {
            "text/plain": [
              "0"
            ]
          },
          "metadata": {
            "tags": []
          },
          "execution_count": 43
        }
      ]
    },
    {
      "cell_type": "markdown",
      "metadata": {
        "id": "Oa50ufVmm52p",
        "colab_type": "text"
      },
      "source": [
        "#CrossTabs"
      ]
    },
    {
      "cell_type": "code",
      "metadata": {
        "id": "Qq1uI_lWnAhu",
        "colab_type": "code",
        "colab": {
          "base_uri": "https://localhost:8080/",
          "height": 197
        },
        "outputId": "2d7ef54b-922b-4f2a-fa5c-c62845dd03b1"
      },
      "source": [
        "Sub_housing_data = housing_data[['TotalBsmtSF', '1stFlrSF', '2ndFlrSF', 'SalePrice']].copy()\n",
        "Sub_housing_data.head()"
      ],
      "execution_count": null,
      "outputs": [
        {
          "output_type": "execute_result",
          "data": {
            "text/html": [
              "<div>\n",
              "<style scoped>\n",
              "    .dataframe tbody tr th:only-of-type {\n",
              "        vertical-align: middle;\n",
              "    }\n",
              "\n",
              "    .dataframe tbody tr th {\n",
              "        vertical-align: top;\n",
              "    }\n",
              "\n",
              "    .dataframe thead th {\n",
              "        text-align: right;\n",
              "    }\n",
              "</style>\n",
              "<table border=\"1\" class=\"dataframe\">\n",
              "  <thead>\n",
              "    <tr style=\"text-align: right;\">\n",
              "      <th></th>\n",
              "      <th>TotalBsmtSF</th>\n",
              "      <th>1stFlrSF</th>\n",
              "      <th>2ndFlrSF</th>\n",
              "      <th>SalePrice</th>\n",
              "    </tr>\n",
              "  </thead>\n",
              "  <tbody>\n",
              "    <tr>\n",
              "      <th>0</th>\n",
              "      <td>856</td>\n",
              "      <td>856</td>\n",
              "      <td>854</td>\n",
              "      <td>208500</td>\n",
              "    </tr>\n",
              "    <tr>\n",
              "      <th>1</th>\n",
              "      <td>1262</td>\n",
              "      <td>1262</td>\n",
              "      <td>0</td>\n",
              "      <td>181500</td>\n",
              "    </tr>\n",
              "    <tr>\n",
              "      <th>2</th>\n",
              "      <td>920</td>\n",
              "      <td>920</td>\n",
              "      <td>866</td>\n",
              "      <td>223500</td>\n",
              "    </tr>\n",
              "    <tr>\n",
              "      <th>3</th>\n",
              "      <td>756</td>\n",
              "      <td>961</td>\n",
              "      <td>756</td>\n",
              "      <td>140000</td>\n",
              "    </tr>\n",
              "    <tr>\n",
              "      <th>4</th>\n",
              "      <td>1145</td>\n",
              "      <td>1145</td>\n",
              "      <td>1053</td>\n",
              "      <td>250000</td>\n",
              "    </tr>\n",
              "  </tbody>\n",
              "</table>\n",
              "</div>"
            ],
            "text/plain": [
              "   TotalBsmtSF  1stFlrSF  2ndFlrSF  SalePrice\n",
              "0          856       856       854     208500\n",
              "1         1262      1262         0     181500\n",
              "2          920       920       866     223500\n",
              "3          756       961       756     140000\n",
              "4         1145      1145      1053     250000"
            ]
          },
          "metadata": {
            "tags": []
          },
          "execution_count": 46
        }
      ]
    },
    {
      "cell_type": "code",
      "metadata": {
        "id": "aPkk-gCTndlg",
        "colab_type": "code",
        "colab": {
          "base_uri": "https://localhost:8080/",
          "height": 197
        },
        "outputId": "43ff6bc9-0f91-4c37-913b-97f667acc59d"
      },
      "source": [
        "Sub_housing_data['TotalSquareFootage'] = Sub_housing_data['TotalBsmtSF']+Sub_housing_data['1stFlrSF']+Sub_housing_data['2ndFlrSF']\n",
        "Sub_housing_data.head()"
      ],
      "execution_count": null,
      "outputs": [
        {
          "output_type": "execute_result",
          "data": {
            "text/html": [
              "<div>\n",
              "<style scoped>\n",
              "    .dataframe tbody tr th:only-of-type {\n",
              "        vertical-align: middle;\n",
              "    }\n",
              "\n",
              "    .dataframe tbody tr th {\n",
              "        vertical-align: top;\n",
              "    }\n",
              "\n",
              "    .dataframe thead th {\n",
              "        text-align: right;\n",
              "    }\n",
              "</style>\n",
              "<table border=\"1\" class=\"dataframe\">\n",
              "  <thead>\n",
              "    <tr style=\"text-align: right;\">\n",
              "      <th></th>\n",
              "      <th>TotalBsmtSF</th>\n",
              "      <th>1stFlrSF</th>\n",
              "      <th>2ndFlrSF</th>\n",
              "      <th>SalePrice</th>\n",
              "      <th>TotalSquareFootage</th>\n",
              "    </tr>\n",
              "  </thead>\n",
              "  <tbody>\n",
              "    <tr>\n",
              "      <th>0</th>\n",
              "      <td>856</td>\n",
              "      <td>856</td>\n",
              "      <td>854</td>\n",
              "      <td>208500</td>\n",
              "      <td>2566</td>\n",
              "    </tr>\n",
              "    <tr>\n",
              "      <th>1</th>\n",
              "      <td>1262</td>\n",
              "      <td>1262</td>\n",
              "      <td>0</td>\n",
              "      <td>181500</td>\n",
              "      <td>2524</td>\n",
              "    </tr>\n",
              "    <tr>\n",
              "      <th>2</th>\n",
              "      <td>920</td>\n",
              "      <td>920</td>\n",
              "      <td>866</td>\n",
              "      <td>223500</td>\n",
              "      <td>2706</td>\n",
              "    </tr>\n",
              "    <tr>\n",
              "      <th>3</th>\n",
              "      <td>756</td>\n",
              "      <td>961</td>\n",
              "      <td>756</td>\n",
              "      <td>140000</td>\n",
              "      <td>2473</td>\n",
              "    </tr>\n",
              "    <tr>\n",
              "      <th>4</th>\n",
              "      <td>1145</td>\n",
              "      <td>1145</td>\n",
              "      <td>1053</td>\n",
              "      <td>250000</td>\n",
              "      <td>3343</td>\n",
              "    </tr>\n",
              "  </tbody>\n",
              "</table>\n",
              "</div>"
            ],
            "text/plain": [
              "   TotalBsmtSF  1stFlrSF  2ndFlrSF  SalePrice  TotalSquareFootage\n",
              "0          856       856       854     208500                2566\n",
              "1         1262      1262         0     181500                2524\n",
              "2          920       920       866     223500                2706\n",
              "3          756       961       756     140000                2473\n",
              "4         1145      1145      1053     250000                3343"
            ]
          },
          "metadata": {
            "tags": []
          },
          "execution_count": 50
        }
      ]
    },
    {
      "cell_type": "code",
      "metadata": {
        "id": "nspolAKDqoUd",
        "colab_type": "code",
        "colab": {
          "base_uri": "https://localhost:8080/",
          "height": 197
        },
        "outputId": "f8a5b9f3-fa21-4223-c0d5-c33adee4baa7"
      },
      "source": [
        "Sub_housing_data['PricePerSqFt']= Sub_housing_data['SalePrice']/Sub_housing_data['TotalSquareFootage']\n",
        "Sub_housing_data.head()"
      ],
      "execution_count": null,
      "outputs": [
        {
          "output_type": "execute_result",
          "data": {
            "text/html": [
              "<div>\n",
              "<style scoped>\n",
              "    .dataframe tbody tr th:only-of-type {\n",
              "        vertical-align: middle;\n",
              "    }\n",
              "\n",
              "    .dataframe tbody tr th {\n",
              "        vertical-align: top;\n",
              "    }\n",
              "\n",
              "    .dataframe thead th {\n",
              "        text-align: right;\n",
              "    }\n",
              "</style>\n",
              "<table border=\"1\" class=\"dataframe\">\n",
              "  <thead>\n",
              "    <tr style=\"text-align: right;\">\n",
              "      <th></th>\n",
              "      <th>TotalBsmtSF</th>\n",
              "      <th>1stFlrSF</th>\n",
              "      <th>2ndFlrSF</th>\n",
              "      <th>SalePrice</th>\n",
              "      <th>TotalSquareFootage</th>\n",
              "      <th>PricePerSqFt</th>\n",
              "    </tr>\n",
              "  </thead>\n",
              "  <tbody>\n",
              "    <tr>\n",
              "      <th>0</th>\n",
              "      <td>856</td>\n",
              "      <td>856</td>\n",
              "      <td>854</td>\n",
              "      <td>208500</td>\n",
              "      <td>2566</td>\n",
              "      <td>81.254871</td>\n",
              "    </tr>\n",
              "    <tr>\n",
              "      <th>1</th>\n",
              "      <td>1262</td>\n",
              "      <td>1262</td>\n",
              "      <td>0</td>\n",
              "      <td>181500</td>\n",
              "      <td>2524</td>\n",
              "      <td>71.909667</td>\n",
              "    </tr>\n",
              "    <tr>\n",
              "      <th>2</th>\n",
              "      <td>920</td>\n",
              "      <td>920</td>\n",
              "      <td>866</td>\n",
              "      <td>223500</td>\n",
              "      <td>2706</td>\n",
              "      <td>82.594235</td>\n",
              "    </tr>\n",
              "    <tr>\n",
              "      <th>3</th>\n",
              "      <td>756</td>\n",
              "      <td>961</td>\n",
              "      <td>756</td>\n",
              "      <td>140000</td>\n",
              "      <td>2473</td>\n",
              "      <td>56.611403</td>\n",
              "    </tr>\n",
              "    <tr>\n",
              "      <th>4</th>\n",
              "      <td>1145</td>\n",
              "      <td>1145</td>\n",
              "      <td>1053</td>\n",
              "      <td>250000</td>\n",
              "      <td>3343</td>\n",
              "      <td>74.783129</td>\n",
              "    </tr>\n",
              "  </tbody>\n",
              "</table>\n",
              "</div>"
            ],
            "text/plain": [
              "   TotalBsmtSF  1stFlrSF  2ndFlrSF  SalePrice  TotalSquareFootage  \\\n",
              "0          856       856       854     208500                2566   \n",
              "1         1262      1262         0     181500                2524   \n",
              "2          920       920       866     223500                2706   \n",
              "3          756       961       756     140000                2473   \n",
              "4         1145      1145      1053     250000                3343   \n",
              "\n",
              "   PricePerSqFt  \n",
              "0     81.254871  \n",
              "1     71.909667  \n",
              "2     82.594235  \n",
              "3     56.611403  \n",
              "4     74.783129  "
            ]
          },
          "metadata": {
            "tags": []
          },
          "execution_count": 51
        }
      ]
    },
    {
      "cell_type": "code",
      "metadata": {
        "id": "3f4trVf7r8C1",
        "colab_type": "code",
        "colab": {
          "base_uri": "https://localhost:8080/",
          "height": 105
        },
        "outputId": "5eab3b0e-ce2f-48b3-fa1c-4cb88e4e6ea2"
      },
      "source": [
        "housing_data['LotShape'].value_counts()"
      ],
      "execution_count": null,
      "outputs": [
        {
          "output_type": "execute_result",
          "data": {
            "text/plain": [
              "Reg    925\n",
              "IR1    484\n",
              "IR2     41\n",
              "IR3     10\n",
              "Name: LotShape, dtype: int64"
            ]
          },
          "metadata": {
            "tags": []
          },
          "execution_count": 56
        }
      ]
    },
    {
      "cell_type": "code",
      "metadata": {
        "id": "FyHjn4RbsZIL",
        "colab_type": "code",
        "colab": {
          "base_uri": "https://localhost:8080/",
          "height": 70
        },
        "outputId": "a7cbb40d-101b-4300-aad3-197e43c65763"
      },
      "source": [
        "housing_data['Alley'].value_counts()"
      ],
      "execution_count": null,
      "outputs": [
        {
          "output_type": "execute_result",
          "data": {
            "text/plain": [
              "Grvl    50\n",
              "Pave    41\n",
              "Name: Alley, dtype: int64"
            ]
          },
          "metadata": {
            "tags": []
          },
          "execution_count": 57
        }
      ]
    },
    {
      "cell_type": "code",
      "metadata": {
        "id": "xvSktRHysizb",
        "colab_type": "code",
        "colab": {
          "base_uri": "https://localhost:8080/",
          "height": 137
        },
        "outputId": "6be01f57-cf71-4c7e-d770-ca40593b1670"
      },
      "source": [
        "pd.crosstab(housing_data['Alley'], housing_data['LotShape'])"
      ],
      "execution_count": null,
      "outputs": [
        {
          "output_type": "execute_result",
          "data": {
            "text/html": [
              "<div>\n",
              "<style scoped>\n",
              "    .dataframe tbody tr th:only-of-type {\n",
              "        vertical-align: middle;\n",
              "    }\n",
              "\n",
              "    .dataframe tbody tr th {\n",
              "        vertical-align: top;\n",
              "    }\n",
              "\n",
              "    .dataframe thead th {\n",
              "        text-align: right;\n",
              "    }\n",
              "</style>\n",
              "<table border=\"1\" class=\"dataframe\">\n",
              "  <thead>\n",
              "    <tr style=\"text-align: right;\">\n",
              "      <th>LotShape</th>\n",
              "      <th>IR1</th>\n",
              "      <th>IR2</th>\n",
              "      <th>IR3</th>\n",
              "      <th>Reg</th>\n",
              "    </tr>\n",
              "    <tr>\n",
              "      <th>Alley</th>\n",
              "      <th></th>\n",
              "      <th></th>\n",
              "      <th></th>\n",
              "      <th></th>\n",
              "    </tr>\n",
              "  </thead>\n",
              "  <tbody>\n",
              "    <tr>\n",
              "      <th>Grvl</th>\n",
              "      <td>4</td>\n",
              "      <td>0</td>\n",
              "      <td>1</td>\n",
              "      <td>45</td>\n",
              "    </tr>\n",
              "    <tr>\n",
              "      <th>Pave</th>\n",
              "      <td>7</td>\n",
              "      <td>2</td>\n",
              "      <td>0</td>\n",
              "      <td>32</td>\n",
              "    </tr>\n",
              "  </tbody>\n",
              "</table>\n",
              "</div>"
            ],
            "text/plain": [
              "LotShape  IR1  IR2  IR3  Reg\n",
              "Alley                       \n",
              "Grvl        4    0    1   45\n",
              "Pave        7    2    0   32"
            ]
          },
          "metadata": {
            "tags": []
          },
          "execution_count": 59
        }
      ]
    },
    {
      "cell_type": "code",
      "metadata": {
        "id": "PRIvoYOps3_d",
        "colab_type": "code",
        "colab": {
          "base_uri": "https://localhost:8080/",
          "height": 167
        },
        "outputId": "306bd8fc-4ae4-4686-e44a-c42dcb26590d"
      },
      "source": [
        "pd.crosstab(housing_data['Alley'], housing_data['LotShape'],margins=True)"
      ],
      "execution_count": null,
      "outputs": [
        {
          "output_type": "execute_result",
          "data": {
            "text/html": [
              "<div>\n",
              "<style scoped>\n",
              "    .dataframe tbody tr th:only-of-type {\n",
              "        vertical-align: middle;\n",
              "    }\n",
              "\n",
              "    .dataframe tbody tr th {\n",
              "        vertical-align: top;\n",
              "    }\n",
              "\n",
              "    .dataframe thead th {\n",
              "        text-align: right;\n",
              "    }\n",
              "</style>\n",
              "<table border=\"1\" class=\"dataframe\">\n",
              "  <thead>\n",
              "    <tr style=\"text-align: right;\">\n",
              "      <th>LotShape</th>\n",
              "      <th>IR1</th>\n",
              "      <th>IR2</th>\n",
              "      <th>IR3</th>\n",
              "      <th>Reg</th>\n",
              "      <th>All</th>\n",
              "    </tr>\n",
              "    <tr>\n",
              "      <th>Alley</th>\n",
              "      <th></th>\n",
              "      <th></th>\n",
              "      <th></th>\n",
              "      <th></th>\n",
              "      <th></th>\n",
              "    </tr>\n",
              "  </thead>\n",
              "  <tbody>\n",
              "    <tr>\n",
              "      <th>Grvl</th>\n",
              "      <td>4</td>\n",
              "      <td>0</td>\n",
              "      <td>1</td>\n",
              "      <td>45</td>\n",
              "      <td>50</td>\n",
              "    </tr>\n",
              "    <tr>\n",
              "      <th>Pave</th>\n",
              "      <td>7</td>\n",
              "      <td>2</td>\n",
              "      <td>0</td>\n",
              "      <td>32</td>\n",
              "      <td>41</td>\n",
              "    </tr>\n",
              "    <tr>\n",
              "      <th>All</th>\n",
              "      <td>11</td>\n",
              "      <td>2</td>\n",
              "      <td>1</td>\n",
              "      <td>77</td>\n",
              "      <td>91</td>\n",
              "    </tr>\n",
              "  </tbody>\n",
              "</table>\n",
              "</div>"
            ],
            "text/plain": [
              "LotShape  IR1  IR2  IR3  Reg  All\n",
              "Alley                            \n",
              "Grvl        4    0    1   45   50\n",
              "Pave        7    2    0   32   41\n",
              "All        11    2    1   77   91"
            ]
          },
          "metadata": {
            "tags": []
          },
          "execution_count": 61
        }
      ]
    },
    {
      "cell_type": "code",
      "metadata": {
        "id": "G3i6_lr6tLmR",
        "colab_type": "code",
        "colab": {
          "base_uri": "https://localhost:8080/",
          "height": 137
        },
        "outputId": "f962a12b-2caf-41ac-8c66-4de20054cdb9"
      },
      "source": [
        "pd.crosstab(housing_data['Alley'],housing_data['LotShape'],normalize='index' )"
      ],
      "execution_count": null,
      "outputs": [
        {
          "output_type": "execute_result",
          "data": {
            "text/html": [
              "<div>\n",
              "<style scoped>\n",
              "    .dataframe tbody tr th:only-of-type {\n",
              "        vertical-align: middle;\n",
              "    }\n",
              "\n",
              "    .dataframe tbody tr th {\n",
              "        vertical-align: top;\n",
              "    }\n",
              "\n",
              "    .dataframe thead th {\n",
              "        text-align: right;\n",
              "    }\n",
              "</style>\n",
              "<table border=\"1\" class=\"dataframe\">\n",
              "  <thead>\n",
              "    <tr style=\"text-align: right;\">\n",
              "      <th>LotShape</th>\n",
              "      <th>IR1</th>\n",
              "      <th>IR2</th>\n",
              "      <th>IR3</th>\n",
              "      <th>Reg</th>\n",
              "    </tr>\n",
              "    <tr>\n",
              "      <th>Alley</th>\n",
              "      <th></th>\n",
              "      <th></th>\n",
              "      <th></th>\n",
              "      <th></th>\n",
              "    </tr>\n",
              "  </thead>\n",
              "  <tbody>\n",
              "    <tr>\n",
              "      <th>Grvl</th>\n",
              "      <td>0.080000</td>\n",
              "      <td>0.00000</td>\n",
              "      <td>0.02</td>\n",
              "      <td>0.900000</td>\n",
              "    </tr>\n",
              "    <tr>\n",
              "      <th>Pave</th>\n",
              "      <td>0.170732</td>\n",
              "      <td>0.04878</td>\n",
              "      <td>0.00</td>\n",
              "      <td>0.780488</td>\n",
              "    </tr>\n",
              "  </tbody>\n",
              "</table>\n",
              "</div>"
            ],
            "text/plain": [
              "LotShape       IR1      IR2   IR3       Reg\n",
              "Alley                                      \n",
              "Grvl      0.080000  0.00000  0.02  0.900000\n",
              "Pave      0.170732  0.04878  0.00  0.780488"
            ]
          },
          "metadata": {
            "tags": []
          },
          "execution_count": 62
        }
      ]
    },
    {
      "cell_type": "code",
      "metadata": {
        "id": "Fsm4IsPrtxhx",
        "colab_type": "code",
        "colab": {
          "base_uri": "https://localhost:8080/",
          "height": 992
        },
        "outputId": "d1cd6fae-0e6f-4289-9272-0ccf2acb1eb5"
      },
      "source": [
        "results = pd.crosstab(housing_data['Alley'],housing_data['LotShape'],normalize='index' )\n",
        "results.plot(kind ='bar');\n",
        "results.plot(kind = 'barh',subplots=True,figsize=(12, 12));\n",
        "#https://pandas.pydata.org/pandas-docs/version/0.23.4/generated/pandas.DataFrame.plot.html"
      ],
      "execution_count": null,
      "outputs": [
        {
          "output_type": "display_data",
          "data": {
            "image/png": "[encoded data removed]",
            "text/plain": [
              "<Figure size 432x288 with 1 Axes>"
            ]
          },
          "metadata": {
            "tags": [],
            "needs_background": "light"
          }
        },
        {
          "output_type": "display_data",
          "data": {
            "image/png": "[encoded data removed]",
            "text/plain": [
              "<Figure size 864x864 with 4 Axes>"
            ]
          },
          "metadata": {
            "tags": [],
            "needs_background": "light"
          }
        }
      ]
    },
    {
      "cell_type": "markdown",
      "metadata": {
        "id": "djjCQbjR1bUu",
        "colab_type": "text"
      },
      "source": [
        "#Strings with Pandas"
      ]
    },
    {
      "cell_type": "code",
      "metadata": {
        "id": "PbcaSiZQxS1H",
        "colab_type": "code",
        "colab": {
          "base_uri": "https://localhost:8080/",
          "height": 212
        },
        "outputId": "627a92da-2077-4884-ec00-7487b9822104"
      },
      "source": [
        "! wget https://resources.lendingclub.com/LoanStats_2018Q4.csv.zip"
      ],
      "execution_count": 4,
      "outputs": [
        {
          "output_type": "stream",
          "text": [
            "--2020-07-13 16:25:15--  https://resources.lendingclub.com/LoanStats_2018Q4.csv.zip\n",
            "Resolving resources.lendingclub.com (resources.lendingclub.com)... 54.149.64.5, 34.213.98.158, 52.42.46.127\n",
            "Connecting to resources.lendingclub.com (resources.lendingclub.com)|54.149.64.5|:443... connected.\n",
            "HTTP request sent, awaiting response... 200 OK\n",
            "Length: unspecified [application/zip]\n",
            "Saving to: ‘LoanStats_2018Q4.csv.zip’\n",
            "\n",
            "LoanStats_2018Q4.cs     [     <=>            ]  22.21M  1.66MB/s    in 13s     \n",
            "\n",
            "2020-07-13 16:25:29 (1.65 MB/s) - ‘LoanStats_2018Q4.csv.zip’ saved [23289953]\n",
            "\n"
          ],
          "name": "stdout"
        }
      ]
    },
    {
      "cell_type": "code",
      "metadata": {
        "id": "ucZl-Dj8yaBD",
        "colab_type": "code",
        "colab": {
          "base_uri": "https://localhost:8080/",
          "height": 52
        },
        "outputId": "53008b4c-4e05-46d3-b151-a3ef80f7c970"
      },
      "source": [
        "! unzip LoanStats_2018Q4.csv.zip"
      ],
      "execution_count": 5,
      "outputs": [
        {
          "output_type": "stream",
          "text": [
            "Archive:  LoanStats_2018Q4.csv.zip\n",
            "  inflating: LoanStats_2018Q4.csv    \n"
          ],
          "name": "stdout"
        }
      ]
    },
    {
      "cell_type": "code",
      "metadata": {
        "id": "DikU6LVr1ydU",
        "colab_type": "code",
        "colab": {}
      },
      "source": [
        "pd.set_option('display.max_rows',10)\n",
        "pd.set_option('display.max_columns', 5)"
      ],
      "execution_count": null,
      "outputs": []
    },
    {
      "cell_type": "code",
      "metadata": {
        "id": "sUOmYgwJy8Xh",
        "colab_type": "code",
        "colab": {
          "base_uri": "https://localhost:8080/",
          "height": 587
        },
        "outputId": "5294befc-a7b6-4063-8b21-d6c542f98ab5"
      },
      "source": [
        "df = pd.read_csv('LoanStats_2018Q4.csv')\n",
        "print(df.head(5),\"\\n\",df.tail(5),\"\\n\")\n",
        "df = pd.read_csv('LoanStats_2018Q4.csv', header=1, skipfooter=2, engine='python')\n",
        "print(df.head(5),\"\\n\",df.tail(5))"
      ],
      "execution_count": 6,
      "outputs": [
        {
          "output_type": "stream",
          "text": [
            "/usr/local/lib/python3.6/dist-packages/IPython/core/interactiveshell.py:2718: DtypeWarning: Columns (0,1,2,3,4,7,13,18,19,24,25,27,28,29,30,31,32,34,36,37,38,39,40,41,42,43,44,46,49,50,51,53,54,56,57,58,59,60,61,62,63,64,65,66,67,68,69,70,71,72,73,74,75,76,77,78,79,80,81,82,83,84,85,86,87,88,89,90,91,92,93,94,95,96,97,98,99,100,101,102,103,104,105,106,107,108,109,110,111,113,114,115,116,117,118,119,120,121,126,127,131,132,134,135,136,141,142,143) have mixed types.Specify dtype option on import or set low_memory=False.\n",
            "  interactivity=interactivity, compiler=compiler, result=result)\n"
          ],
          "name": "stderr"
        },
        {
          "output_type": "stream",
          "text": [
            "                                                                                                                                                                                                                                                                                                                                                                                                                                                                                                                                                                                                                                                                                                                                                                                                                                                                                                                                                                                                                                                                                                                                                                                                                                                                                                                                                                                                                                                                                                                                                                                                                                                                                                                                                                                                                                                                                                                                                                                                                                                                                                                                                                                                                                                                                                                                                                                                                 Notes offered by Prospectus (https://www.lendingclub.com/info/prospectus.action)\n",
            "id  member_id loan_amnt funded_amnt funded_amnt_inv term       int_rate installment grade sub_grade emp_title            emp_length home_ownership annual_inc verification_status issue_d  loan_status pymnt_plan url desc purpose            title                   zip_code addr_state dti   delinq_2yrs earliest_cr_line inq_last_6mths mths_since_last_delinq mths_since_last_record open_acc pub_rec revol_bal revol_util total_acc initial_list_status out_prncp out_prncp_inv total_pymnt     total_pymnt_inv total_rec_prncp total_rec_int total_rec_late_fee recoveries collection_recovery_fee last_pymnt_d last_pymnt_amnt next_pymnt_d last_credit_pull_d collections_12_mths_ex_med mths_since_last_major_derog policy_code application_type annual_inc_joint dti_joint verification_status_joint acc_now_delinq tot_coll_amt tot_cur_bal open_acc_6m open_act_il open_il_12m open_il_24m mths_since_rcnt_il total_bal_il il_util open_rv_12m open_rv_24m max_bal_bc all_util total_rev_hi_lim inq_fi total_cu_tl inq_last_12m acc_open_past_24mths avg_cur_bal bc_open_to_buy bc_util chargeoff_within_12_mths delinq_amnt mo_sin_old_il_acct mo_sin_old_rev_tl_op mo_sin_rcnt_rev_tl_op mo_sin_rcnt_tl mort_acc mths_since_recent_bc mths_since_recent_bc_dlq mths_since_recent_inq mths_since_recent_revol_delinq num_accts_ever_120_pd num_actv_bc_tl num_actv_rev_tl num_bc_sats num_bc_tl num_il_tl num_op_rev_tl num_rev_accts num_rev_tl_bal_gt_0 num_sats num_tl_120dpd_2m num_tl_30dpd num_tl_90g_dpd_24m num_tl_op_past_12m pct_tl_nvr_dlq percent_bc_gt_75 pub_rec_bankruptcies tax_liens tot_hi_cred_lim total_bal_ex_mort total_bc_limit total_il_high_credit_limit revol_bal_joint sec_app_earliest_cr_line sec_app_inq_last_6mths sec_app_mort_acc sec_app_open_acc sec_app_revol_util sec_app_open_act_il sec_app_num_rev_accts sec_app_chargeoff_within_12_mths sec_app_collections_12_mths_ex_med sec_app_mths_since_last_major_derog hardship_flag hardship_type hardship_reason hardship_status deferral_term hardship_amount hardship_start_date hardship_end_date payment_plan_start_date hardship_length hardship_dpd hardship_loan_status orig_projected_additional_accrued_interest hardship_payoff_balance_amount hardship_last_payment_amount debt_settlement_flag debt_settlement_flag_date settlement_status settlement_date settlement_amount settlement_percentage                                    settlement_term                              \n",
            "NaN NaN       18000     18000       18000            36 months   8.81%  570.81      A     A5        Sever                < 1 year   RENT           40000      Source Verified     Dec-2018 Charged Off n          NaN NaN  debt_consolidation Debt consolidation      100xx    NY         12.81 0           Apr-2014         0              NaN                    NaN                    15       0       16147     35.2%      21        w                   0.00      0.00          6265.69         6265.69         5136.86         1128.83       0.0                0.0        0.0                     Oct-2019     570.81          NaN          May-2020           0                          NaN                         1           Individual       NaN              NaN       NaN                       0              0            28062       1           4           1           4           7                  11915        79      3           6           6591       46       45900            0      0           1            10                   1871        22177          38.1    0                        0           23                 56                   4                     4              0        4                    NaN                      8                     NaN                            0                     5              6               8           10        4         11            15            6                   15       0                0            0                  4                  100            12.5             0                    0         60900           28062             35800          15000                      NaN             NaN                      NaN                    NaN              NaN              NaN                NaN                 NaN                   NaN                              NaN                                NaN                                 N             NaN           NaN             NaN             NaN           NaN             NaN                 NaN               NaN                     NaN             NaN          NaN                  NaN                                        NaN                            NaN                          N                    NaN                       NaN               NaN             NaN               NaN                                                                  NaN                              \n",
            "              18500     18500       18500            60 months  12.98%  420.75      B     B5        Supply Chain Analyst 5 years    RENT           96500      Source Verified     Dec-2018 Current     n          NaN NaN  credit_card        Credit card refinancing 554xx    MN         27.86 1           May-2009         0              7                      NaN                    19       0       19000     62.1%      38        w                   14135.68  14135.68      7553.49         7553.49         4364.32         3189.17       0.0                0.0        0.0                     Jun-2020     420.75          Jul-2020     Jun-2020           0                          NaN                         1           Individual       NaN              NaN       NaN                       0              0            81660       0           14          0           1           22                 62660        62      0           0           8422       62       30600            0      0           1            1                    4298        7246           68.4    0                        0           112                115                  34                    22             0        34                   NaN                      7                     NaN                            0                     3              5               3           6         28        5             10            5                   19       0                0            0                  0                  97.3           66.7             0                    0         131337          81660             22900          100737                     NaN             NaN                      NaN                    NaN              NaN              NaN                NaN                 NaN                   NaN                              NaN                                NaN                                 N             NaN           NaN             NaN             NaN           NaN             NaN                 NaN               NaN                     NaN             NaN          NaN                  NaN                                        NaN                            NaN                          N                    NaN                       NaN               NaN             NaN               NaN                                                                  NaN                              \n",
            "              32000     32000       32000            60 months  14.47%  752.41      C     C2        Teacher              10+ years  MORTGAGE       110000     Source Verified     Dec-2018 Current     n          NaN NaN  home_improvement   Home improvement        152xx    PA         26.11 0           Oct-2000         0              24                     NaN                    18       0       14833     43%        32        w                   26017.15  26017.15      11247.56        11247.56        5982.85         5264.71       0.0                0.0        0.0                     May-2020     0.0             Jul-2020     Jun-2020           0                          41                          1           Individual       NaN              NaN       NaN                       0              273          73873       1           5           1           3           12                 59040        49      2           6           4293       46       34500            2      5           1            9                    4104        15794          41.1    0                        0           218                201                  6                     6              1        6                    41                       12                    41                             2                     7              11              8           11        15        13            16            11                  18       0                0            0                  3                  77.4           12.5             0                    0         94609           73873             26800          60109                      NaN             NaN                      NaN                    NaN              NaN              NaN                NaN                 NaN                   NaN                              NaN                                NaN                                 N             CVD19SKIP     INCOMECURT      COMPLETE        2             0               Apr-2020            Jun-2020          Apr-2020                2               0            ACTIVE               627.45                                     26278.58                       752.41                       N                    NaN                       NaN               NaN             NaN               NaN                                                                  NaN                              \n",
            "              5000      5000        5000             36 months  17.97%  180.69      D     D1        Administrative       6 years    MORTGAGE       59280      Source Verified     Dec-2018 Fully Paid  n          NaN NaN  debt_consolidation Debt consolidation      490xx    MI         10.51 0           Apr-2011         0              NaN                    NaN                    8        0       4599      19.1%      13        w                   0.00      0.00          5637.0527852364 5637.05         5000.00         622.05        15.0               0.0        0.0                     Oct-2019     4741.09         NaN          Jun-2020           0                          NaN                         1           Individual       NaN              NaN       NaN                       0              0            110299      0           1           0           2           14                 7150         72      0           2           0          35       24100            1      5           0            4                    18383       13800          0       0                        0           87                 92                   15                    14             2        77                   NaN                      14                    NaN                            0                     0              3               3           3         4         6             7             3                   8        0                0            0                  0                  100            0                0                    0         136927          11749             13800          10000                      NaN             NaN                      NaN                    NaN              NaN              NaN                NaN                 NaN                   NaN                              NaN                                NaN                                 N             NaN           NaN             NaN             NaN           NaN             NaN                 NaN               NaN                     NaN             NaN          NaN                  NaN                                        NaN                            NaN                          N                    NaN                       NaN               NaN             NaN               NaN                                                                  NaN                               \n",
            "                                                                                                                                                                                                                                                                                                                                                                                                                                                                                                                                                                                                                                                                                                                                                                                                                                                               Notes offered by Prospectus (https://www.lendingclub.com/info/prospectus.action)\n",
            "NaN                                              NaN 5000  5000  5000   36 months  13.56% 169.83 C   C1  Payoff Clerk         10+ years MORTGAGE 35360.0 Not Verified    Oct-2018 Current n   NaN NaN debt_consolidation Debt consolidation      381xx TN  11.3  1   Jun-2006 0   21.0 NaN 9   0   2597 27.3% 15  f   2472.76 2472.76 3392.83 3392.83 2527.24 865.59  0.0 0.0 0.0 Jun-2020 169.83 Jul-2020 Jun-2020 0   NaN  1   Individual NaN NaN NaN 0   1413 69785 0   2   0   1   16.0 2379    40.0  3   4   1826 32.0 9500  0   0   1   5   8723   1174.0  60.9 0   0   147.0 85  9   9   2   10.0  21.0 9.0 21.0 0   1   3   2   2   6   6   7   3   9   0.0 0   0   3   92.9 50.0 0   0   93908   4976  3000  6028.0  NaN NaN NaN NaN NaN NaN NaN NaN NaN NaN NaN N   NaN NaN NaN NaN NaN NaN NaN NaN NaN NaN NaN NaN NaN NaN N   NaN NaN NaN NaN NaN                                                NaN                              \n",
            "                                                     10000 10000 9750   36 months  11.06% 327.68 B   B3  NaN                  NaN       RENT     44400.0 Source Verified Oct-2018 Current n   NaN NaN credit_card        Credit card refinancing 980xx WA  11.78 0   Oct-2008 2   40.0 NaN 15  0   6269 13.1% 25  f   4853.58 4732.24 6538.24 6374.78 5146.42 1391.82 0.0 0.0 0.0 Jun-2020 327.68 Jul-2020 Jun-2020 0   53.0 1   Individual NaN NaN NaN 0   520  16440 3   1   1   1   2.0  10171   100.0 2   5   404  28.0 47700 0   3   5   6   1265.0 20037.0 2.3  0   0   61.0  119 1   1   0   1.0   NaN  1.0 40.0 1   2   4   6   8   3   14  22  4   15  0.0 0   0   3   92.0 0.0  0   0   57871.0 16440 20500 10171.0 NaN NaN NaN NaN NaN NaN NaN NaN NaN NaN NaN N   NaN NaN NaN NaN NaN NaN NaN NaN NaN NaN NaN NaN NaN NaN N   NaN NaN NaN NaN NaN                                                NaN                              \n",
            "                                                                 10000  36 months  16.91% 356.08 C   C5  Key Accounts Manager 2 years   RENT     80000.0 Not Verified    Oct-2018 Current n   NaN NaN other              Other                   021xx MA  17.72 1   Sep-2006 0   14.0 NaN 17  0   1942 30.8% 31  w   5068.9  5068.9  7112.21 7112.21 4931.1  2181.11 0.0 0.0 0.0 Jun-2020 356.08 Jul-2020 Jun-2020 0   25.0 1   Individual NaN NaN NaN 0   0    59194 0   15  1   1   12.0 57252.0 85.0  0   0   1942 80.0 6300  0   5   0   1   3482   2058.0  48.5 0   0   144.0 142 40  12  0   131.0 30.0 NaN 30.0 3   1   1   1   5   22  2   9   1   17  0.0 0   0   1   74.2 0.0  0   0   73669   59194 4000  67369   NaN NaN NaN NaN NaN NaN NaN NaN NaN NaN NaN N   NaN NaN NaN NaN NaN NaN NaN NaN NaN NaN NaN NaN NaN NaN N   NaN NaN NaN NaN NaN                                                NaN                              \n",
            "Total amount funded in policy code 1: 2050909275 NaN NaN   NaN   NaN   NaN        NaN     NaN    NaN NaN NaN                  NaN       NaN      NaN     NaN             NaN      NaN     NaN NaN NaN NaN                NaN                     NaN   NaN NaN   NaN NaN      NaN NaN  NaN NaN NaN NaN  NaN   NaN NaN NaN     NaN     NaN     NaN     NaN     NaN     NaN NaN NaN NaN      NaN    NaN      NaN      NaN NaN  NaN NaN        NaN NaN NaN NaN NaN  NaN   NaN NaN NaN NaN NaN  NaN     NaN   NaN NaN NaN  NaN  NaN   NaN NaN NaN NaN NaN    NaN     NaN  NaN NaN NaN   NaN NaN NaN NaN NaN   NaN  NaN NaN  NaN NaN NaN NaN NaN NaN NaN NaN NaN NaN NaN NaN NaN NaN NaN  NaN  NaN NaN NaN     NaN   NaN   NaN     NaN NaN NaN NaN NaN NaN NaN NaN NaN NaN NaN NaN NaN NaN NaN NaN NaN NaN NaN NaN NaN NaN NaN NaN NaN NaN NaN NaN NaN NaN NaN NaN                                                NaN                              \n",
            "Total amount funded in policy code 2: 820109297  NaN NaN   NaN   NaN   NaN        NaN     NaN    NaN NaN NaN                  NaN       NaN      NaN     NaN             NaN      NaN     NaN NaN NaN NaN                NaN                     NaN   NaN NaN   NaN NaN      NaN NaN  NaN NaN NaN NaN  NaN   NaN NaN NaN     NaN     NaN     NaN     NaN     NaN     NaN NaN NaN NaN      NaN    NaN      NaN      NaN NaN  NaN NaN        NaN NaN NaN NaN NaN  NaN   NaN NaN NaN NaN NaN  NaN     NaN   NaN NaN NaN  NaN  NaN   NaN NaN NaN NaN NaN    NaN     NaN  NaN NaN NaN   NaN NaN NaN NaN NaN   NaN  NaN NaN  NaN NaN NaN NaN NaN NaN NaN NaN NaN NaN NaN NaN NaN NaN NaN  NaN  NaN NaN NaN     NaN   NaN   NaN     NaN NaN NaN NaN NaN NaN NaN NaN NaN NaN NaN NaN NaN NaN NaN NaN NaN NaN NaN NaN NaN NaN NaN NaN NaN NaN NaN NaN NaN NaN NaN NaN                                                NaN                               \n",
            "\n",
            "   id  member_id  ...  settlement_percentage  settlement_term\n",
            "0 NaN        NaN  ...                    NaN              NaN\n",
            "1 NaN        NaN  ...                    NaN              NaN\n",
            "2 NaN        NaN  ...                    NaN              NaN\n",
            "3 NaN        NaN  ...                    NaN              NaN\n",
            "4 NaN        NaN  ...                    NaN              NaN\n",
            "\n",
            "[5 rows x 144 columns] \n",
            "         id  member_id  ...  settlement_percentage  settlement_term\n",
            "128407 NaN        NaN  ...                    NaN              NaN\n",
            "128408 NaN        NaN  ...                    NaN              NaN\n",
            "128409 NaN        NaN  ...                    NaN              NaN\n",
            "128410 NaN        NaN  ...                    NaN              NaN\n",
            "128411 NaN        NaN  ...                    NaN              NaN\n",
            "\n",
            "[5 rows x 144 columns]\n"
          ],
          "name": "stdout"
        }
      ]
    },
    {
      "cell_type": "code",
      "metadata": {
        "id": "W5Wn07eA3tQ2",
        "colab_type": "code",
        "colab": {}
      },
      "source": [
        "pd.set_option('display.max_rows',300)\n",
        "pd.set_option('display.max_columns', 50)"
      ],
      "execution_count": null,
      "outputs": []
    },
    {
      "cell_type": "code",
      "metadata": {
        "id": "8qaicSg62rO6",
        "colab_type": "code",
        "colab": {
          "base_uri": "https://localhost:8080/",
          "height": 141
        },
        "outputId": "fca7e26a-6705-4ffc-a67d-96d4ae0d51d2"
      },
      "source": [
        "print(df.shape)\n",
        "print(df.info())"
      ],
      "execution_count": null,
      "outputs": [
        {
          "output_type": "stream",
          "text": [
            "(128412, 144)\n",
            "<class 'pandas.core.frame.DataFrame'>\n",
            "RangeIndex: 128412 entries, 0 to 128411\n",
            "Columns: 144 entries, id to settlement_term\n",
            "dtypes: float64(57), int64(51), object(36)\n",
            "memory usage: 141.1+ MB\n",
            "None\n"
          ],
          "name": "stdout"
        }
      ]
    },
    {
      "cell_type": "code",
      "metadata": {
        "id": "tkiPvqcC3k1B",
        "colab_type": "code",
        "colab": {
          "base_uri": "https://localhost:8080/",
          "height": 1000
        },
        "outputId": "5bf5aa1a-2317-4b73-c6c3-d17cf577de48"
      },
      "source": [
        "df.isnull().sum().sort_values(ascending=False)\n",
        "#id,member_id,url,desc,settlement_percentage,settlement_term,settlemet_date,url"
      ],
      "execution_count": null,
      "outputs": [
        {
          "output_type": "execute_result",
          "data": {
            "text/plain": [
              "id                                            128412\n",
              "member_id                                     128412\n",
              "url                                           128412\n",
              "desc                                          128412\n",
              "settlement_percentage                         127518\n",
              "settlement_term                               127518\n",
              "settlement_date                               127518\n",
              "debt_settlement_flag_date                     127518\n",
              "settlement_status                             127518\n",
              "settlement_amount                             127518\n",
              "sec_app_mths_since_last_major_derog           123258\n",
              "hardship_loan_status                          116534\n",
              "hardship_reason                               115711\n",
              "deferral_term                                 115710\n",
              "hardship_type                                 115710\n",
              "hardship_status                               115710\n",
              "hardship_start_date                           115710\n",
              "hardship_end_date                             115710\n",
              "hardship_length                               115710\n",
              "hardship_dpd                                  115710\n",
              "payment_plan_start_date                       115709\n",
              "verification_status_joint                     113564\n",
              "mths_since_last_record                        112962\n",
              "orig_projected_additional_accrued_interest    112038\n",
              "hardship_last_payment_amount                  112014\n",
              "hardship_payoff_balance_amount                112014\n",
              "hardship_amount                               112014\n",
              "sec_app_revol_util                            111888\n",
              "sec_app_num_rev_accts                         111630\n",
              "annual_inc_joint                              111630\n",
              "sec_app_open_acc                              111630\n",
              "sec_app_mort_acc                              111630\n",
              "sec_app_inq_last_6mths                        111630\n",
              "sec_app_earliest_cr_line                      111630\n",
              "revol_bal_joint                               111630\n",
              "sec_app_chargeoff_within_12_mths              111630\n",
              "sec_app_collections_12_mths_ex_med            111630\n",
              "dti_joint                                     111630\n",
              "sec_app_open_act_il                           111630\n",
              "mths_since_recent_bc_dlq                      103243\n",
              "mths_since_last_major_derog                    99232\n",
              "mths_since_recent_revol_delinq                 91630\n",
              "mths_since_last_delinq                         72196\n",
              "next_pymnt_d                                   41507\n",
              "emp_title                                      20947\n",
              "il_util                                        20274\n",
              "mths_since_recent_inq                          16047\n",
              "emp_length                                     11704\n",
              "mths_since_rcnt_il                              4478\n",
              "mo_sin_old_il_acct                              4478\n",
              "hardship_flag                                   3696\n",
              "num_tl_120dpd_2m                                2859\n",
              "bc_util                                         1754\n",
              "percent_bc_gt_75                                1692\n",
              "bc_open_to_buy                                  1691\n",
              "mths_since_recent_bc                            1591\n",
              "dti                                              237\n",
              "last_pymnt_d                                     159\n",
              "revol_util                                       156\n",
              "all_util                                          37\n",
              "avg_cur_bal                                       13\n",
              "last_credit_pull_d                                 1\n",
              "pub_rec                                            0\n",
              "revol_bal                                          0\n",
              "total_pymnt                                        0\n",
              "total_acc                                          0\n",
              "initial_list_status                                0\n",
              "out_prncp                                          0\n",
              "out_prncp_inv                                      0\n",
              "total_pymnt_inv                                    0\n",
              "total_rec_prncp                                    0\n",
              "total_rec_late_fee                                 0\n",
              "recoveries                                         0\n",
              "total_rec_int                                      0\n",
              "debt_settlement_flag                               0\n",
              "open_acc                                           0\n",
              "annual_inc                                         0\n",
              "loan_amnt                                          0\n",
              "funded_amnt                                        0\n",
              "funded_amnt_inv                                    0\n",
              "term                                               0\n",
              "int_rate                                           0\n",
              "installment                                        0\n",
              "grade                                              0\n",
              "sub_grade                                          0\n",
              "home_ownership                                     0\n",
              "verification_status                                0\n",
              "inq_last_6mths                                     0\n",
              "issue_d                                            0\n",
              "loan_status                                        0\n",
              "pymnt_plan                                         0\n",
              "purpose                                            0\n",
              "title                                              0\n",
              "zip_code                                           0\n",
              "addr_state                                         0\n",
              "delinq_2yrs                                        0\n",
              "earliest_cr_line                                   0\n",
              "collection_recovery_fee                            0\n",
              "max_bal_bc                                         0\n",
              "last_pymnt_amnt                                    0\n",
              "mort_acc                                           0\n",
              "num_actv_bc_tl                                     0\n",
              "num_actv_rev_tl                                    0\n",
              "num_bc_sats                                        0\n",
              "num_bc_tl                                          0\n",
              "num_il_tl                                          0\n",
              "num_op_rev_tl                                      0\n",
              "num_rev_accts                                      0\n",
              "num_rev_tl_bal_gt_0                                0\n",
              "num_sats                                           0\n",
              "num_tl_30dpd                                       0\n",
              "num_tl_90g_dpd_24m                                 0\n",
              "num_tl_op_past_12m                                 0\n",
              "pct_tl_nvr_dlq                                     0\n",
              "pub_rec_bankruptcies                               0\n",
              "tax_liens                                          0\n",
              "tot_hi_cred_lim                                    0\n",
              "total_bal_ex_mort                                  0\n",
              "total_bc_limit                                     0\n",
              "total_il_high_credit_limit                         0\n",
              "num_accts_ever_120_pd                              0\n",
              "mo_sin_rcnt_tl                                     0\n",
              "collections_12_mths_ex_med                         0\n",
              "mo_sin_rcnt_rev_tl_op                              0\n",
              "policy_code                                        0\n",
              "application_type                                   0\n",
              "acc_now_delinq                                     0\n",
              "tot_coll_amt                                       0\n",
              "tot_cur_bal                                        0\n",
              "open_acc_6m                                        0\n",
              "open_act_il                                        0\n",
              "open_il_12m                                        0\n",
              "open_il_24m                                        0\n",
              "total_bal_il                                       0\n",
              "open_rv_12m                                        0\n",
              "open_rv_24m                                        0\n",
              "total_rev_hi_lim                                   0\n",
              "total_cu_tl                                        0\n",
              "inq_last_12m                                       0\n",
              "acc_open_past_24mths                               0\n",
              "chargeoff_within_12_mths                           0\n",
              "delinq_amnt                                        0\n",
              "mo_sin_old_rev_tl_op                               0\n",
              "inq_fi                                             0\n",
              "dtype: int64"
            ]
          },
          "metadata": {
            "tags": []
          },
          "execution_count": 20
        }
      ]
    },
    {
      "cell_type": "markdown",
      "metadata": {
        "id": "vTrOlRGtqjXX",
        "colab_type": "text"
      },
      "source": [
        ""
      ]
    },
    {
      "cell_type": "code",
      "metadata": {
        "id": "I6EJ7zEL6WUc",
        "colab_type": "code",
        "colab": {
          "base_uri": "https://localhost:8080/",
          "height": 105
        },
        "outputId": "69664cb7-7260-41da-d647-5b5cc30135ac"
      },
      "source": [
        "df_new = df.drop(['id','member_id','url','desc','settlement_percentage','settlement_term'], axis=1)\n",
        "df_new.info()          "
      ],
      "execution_count": null,
      "outputs": [
        {
          "output_type": "stream",
          "text": [
            "<class 'pandas.core.frame.DataFrame'>\n",
            "RangeIndex: 128412 entries, 0 to 128411\n",
            "Columns: 138 entries, loan_amnt to settlement_amount\n",
            "dtypes: float64(51), int64(51), object(36)\n",
            "memory usage: 135.2+ MB\n"
          ],
          "name": "stdout"
        }
      ]
    },
    {
      "cell_type": "markdown",
      "metadata": {
        "id": "ODaAj4rDBcCu",
        "colab_type": "text"
      },
      "source": [
        "#custom Function with for loop | .apply()"
      ]
    },
    {
      "cell_type": "code",
      "metadata": {
        "id": "1cR05kgM-Xe5",
        "colab_type": "code",
        "colab": {
          "base_uri": "https://localhost:8080/",
          "height": 443
        },
        "outputId": "1eee77c1-98d0-4690-9a5a-a40996f2a85c"
      },
      "source": [
        "print(\"type in cell 4 in int_rate column\", type(df['int_rate'][3]))\n",
        "print(df['int_rate'].head(10))\n",
        "print(df['int_rate'])"
      ],
      "execution_count": null,
      "outputs": [
        {
          "output_type": "stream",
          "text": [
            "type in cell 4 in int_rate column <class 'str'>\n",
            "0      8.81%\n",
            "1     12.98%\n",
            "2     14.47%\n",
            "3     17.97%\n",
            "4     23.40%\n",
            "5     26.31%\n",
            "6     19.92%\n",
            "7     23.40%\n",
            "8     23.40%\n",
            "9     11.80%\n",
            "Name: int_rate, dtype: object\n",
            "0           8.81%\n",
            "1          12.98%\n",
            "2          14.47%\n",
            "3          17.97%\n",
            "4          23.40%\n",
            "           ...   \n",
            "128407     15.02%\n",
            "128408     15.02%\n",
            "128409     13.56%\n",
            "128410     11.06%\n",
            "128411     16.91%\n",
            "Name: int_rate, Length: 128412, dtype: object\n"
          ],
          "name": "stdout"
        }
      ]
    },
    {
      "cell_type": "code",
      "metadata": {
        "id": "gPS8FB-3Bjei",
        "colab_type": "code",
        "colab": {}
      },
      "source": [
        "int_rate = ' 12.98%'"
      ],
      "execution_count": null,
      "outputs": []
    },
    {
      "cell_type": "code",
      "metadata": {
        "id": "257XsBaFBvDJ",
        "colab_type": "code",
        "colab": {
          "base_uri": "https://localhost:8080/",
          "height": 35
        },
        "outputId": "afacb493-8525-43dc-f56e-77b6c31b9b99"
      },
      "source": [
        "int_rate.strip()"
      ],
      "execution_count": null,
      "outputs": [
        {
          "output_type": "execute_result",
          "data": {
            "application/vnd.google.colaboratory.intrinsic": {
              "type": "string"
            },
            "text/plain": [
              "'12.98%'"
            ]
          },
          "metadata": {
            "tags": []
          },
          "execution_count": 40
        }
      ]
    },
    {
      "cell_type": "code",
      "metadata": {
        "id": "OK5WNEB7B701",
        "colab_type": "code",
        "colab": {
          "base_uri": "https://localhost:8080/",
          "height": 35
        },
        "outputId": "61d1f522-a05d-4473-c2f6-b5b6e4f16cdb"
      },
      "source": [
        "int_rate.strip(\"%\")"
      ],
      "execution_count": null,
      "outputs": [
        {
          "output_type": "execute_result",
          "data": {
            "application/vnd.google.colaboratory.intrinsic": {
              "type": "string"
            },
            "text/plain": [
              "' 12.98'"
            ]
          },
          "metadata": {
            "tags": []
          },
          "execution_count": 41
        }
      ]
    },
    {
      "cell_type": "code",
      "metadata": {
        "id": "cZKSg2pSB7TP",
        "colab_type": "code",
        "colab": {
          "base_uri": "https://localhost:8080/",
          "height": 35
        },
        "outputId": "7fa839ca-2762-46bc-f2d4-6c07dacfb06c"
      },
      "source": [
        "int_rate.strip().strip('%')"
      ],
      "execution_count": null,
      "outputs": [
        {
          "output_type": "execute_result",
          "data": {
            "application/vnd.google.colaboratory.intrinsic": {
              "type": "string"
            },
            "text/plain": [
              "'12.98'"
            ]
          },
          "metadata": {
            "tags": []
          },
          "execution_count": 42
        }
      ]
    },
    {
      "cell_type": "code",
      "metadata": {
        "id": "Txq6kU1JB7SK",
        "colab_type": "code",
        "colab": {
          "base_uri": "https://localhost:8080/",
          "height": 34
        },
        "outputId": "ce628a1b-12ee-45aa-e816-42015af1df3d"
      },
      "source": [
        "float('12.98')"
      ],
      "execution_count": null,
      "outputs": [
        {
          "output_type": "execute_result",
          "data": {
            "text/plain": [
              "12.98"
            ]
          },
          "metadata": {
            "tags": []
          },
          "execution_count": 43
        }
      ]
    },
    {
      "cell_type": "code",
      "metadata": {
        "id": "ckZmWzp1B5t7",
        "colab_type": "code",
        "colab": {
          "base_uri": "https://localhost:8080/",
          "height": 34
        },
        "outputId": "4bbe5a16-d5db-4bd8-a3d1-2c42f24a41e0"
      },
      "source": [
        "float(int_rate.strip().strip('%'))"
      ],
      "execution_count": null,
      "outputs": [
        {
          "output_type": "execute_result",
          "data": {
            "text/plain": [
              "12.98"
            ]
          },
          "metadata": {
            "tags": []
          },
          "execution_count": 44
        }
      ]
    },
    {
      "cell_type": "code",
      "metadata": {
        "id": "_FxQ0qOyB5s-",
        "colab_type": "code",
        "colab": {
          "base_uri": "https://localhost:8080/",
          "height": 34
        },
        "outputId": "d72dd76f-dad4-45b1-a99a-1b32b4924b2f"
      },
      "source": [
        "type(float(int_rate.strip().strip(\"%\")))"
      ],
      "execution_count": null,
      "outputs": [
        {
          "output_type": "execute_result",
          "data": {
            "text/plain": [
              "float"
            ]
          },
          "metadata": {
            "tags": []
          },
          "execution_count": 46
        }
      ]
    },
    {
      "cell_type": "code",
      "metadata": {
        "id": "FmbEYUt-B5rp",
        "colab_type": "code",
        "colab": {}
      },
      "source": [
        "def myfunc(cell_contents):\n",
        "  return float(cell_contents.strip().strip(\"%\"))\n"
      ],
      "execution_count": null,
      "outputs": []
    },
    {
      "cell_type": "code",
      "metadata": {
        "id": "NkjzW4Z7C28w",
        "colab_type": "code",
        "colab": {
          "base_uri": "https://localhost:8080/",
          "height": 34
        },
        "outputId": "2ad66786-5959-4c6b-8e88-447e3f9cdc34"
      },
      "source": [
        "type(myfunc(int_rate))"
      ],
      "execution_count": null,
      "outputs": [
        {
          "output_type": "execute_result",
          "data": {
            "text/plain": [
              "float"
            ]
          },
          "metadata": {
            "tags": []
          },
          "execution_count": 48
        }
      ]
    },
    {
      "cell_type": "code",
      "metadata": {
        "id": "QC1g0NtbC92y",
        "colab_type": "code",
        "colab": {}
      },
      "source": [
        "new_list = []\n",
        "#for loop\n",
        "for cell in df['int_rate']:\n",
        "  new_list.append(myfunc(cell))"
      ],
      "execution_count": null,
      "outputs": []
    },
    {
      "cell_type": "code",
      "metadata": {
        "id": "F6uwRsmCDXxh",
        "colab_type": "code",
        "colab": {
          "base_uri": "https://localhost:8080/",
          "height": 34
        },
        "outputId": "41c692a1-0cd5-4d2b-d8c4-3508fe1abebb"
      },
      "source": [
        "new_list[:10]"
      ],
      "execution_count": null,
      "outputs": [
        {
          "output_type": "execute_result",
          "data": {
            "text/plain": [
              "[8.81, 12.98, 14.47, 17.97, 23.4, 26.31, 19.92, 23.4, 23.4, 11.8]"
            ]
          },
          "metadata": {
            "tags": []
          },
          "execution_count": 68
        }
      ]
    },
    {
      "cell_type": "code",
      "metadata": {
        "id": "_7pY_tNJDXs-",
        "colab_type": "code",
        "colab": {
          "base_uri": "https://localhost:8080/",
          "height": 330
        },
        "outputId": "2745a620-45a0-4e63-dbee-c5e582d918c8"
      },
      "source": [
        "df['int_rate_cleaned'] = pd.Series(new_list)\n",
        "df.head()"
      ],
      "execution_count": null,
      "outputs": [
        {
          "output_type": "execute_result",
          "data": {
            "text/html": [
              "<div>\n",
              "<style scoped>\n",
              "    .dataframe tbody tr th:only-of-type {\n",
              "        vertical-align: middle;\n",
              "    }\n",
              "\n",
              "    .dataframe tbody tr th {\n",
              "        vertical-align: top;\n",
              "    }\n",
              "\n",
              "    .dataframe thead th {\n",
              "        text-align: right;\n",
              "    }\n",
              "</style>\n",
              "<table border=\"1\" class=\"dataframe\">\n",
              "  <thead>\n",
              "    <tr style=\"text-align: right;\">\n",
              "      <th></th>\n",
              "      <th>id</th>\n",
              "      <th>member_id</th>\n",
              "      <th>loan_amnt</th>\n",
              "      <th>funded_amnt</th>\n",
              "      <th>funded_amnt_inv</th>\n",
              "      <th>term</th>\n",
              "      <th>int_rate</th>\n",
              "      <th>installment</th>\n",
              "      <th>grade</th>\n",
              "      <th>sub_grade</th>\n",
              "      <th>emp_title</th>\n",
              "      <th>emp_length</th>\n",
              "      <th>home_ownership</th>\n",
              "      <th>annual_inc</th>\n",
              "      <th>verification_status</th>\n",
              "      <th>issue_d</th>\n",
              "      <th>loan_status</th>\n",
              "      <th>pymnt_plan</th>\n",
              "      <th>url</th>\n",
              "      <th>desc</th>\n",
              "      <th>purpose</th>\n",
              "      <th>title</th>\n",
              "      <th>zip_code</th>\n",
              "      <th>addr_state</th>\n",
              "      <th>dti</th>\n",
              "      <th>...</th>\n",
              "      <th>sec_app_mths_since_last_major_derog</th>\n",
              "      <th>hardship_flag</th>\n",
              "      <th>hardship_type</th>\n",
              "      <th>hardship_reason</th>\n",
              "      <th>hardship_status</th>\n",
              "      <th>deferral_term</th>\n",
              "      <th>hardship_amount</th>\n",
              "      <th>hardship_start_date</th>\n",
              "      <th>hardship_end_date</th>\n",
              "      <th>payment_plan_start_date</th>\n",
              "      <th>hardship_length</th>\n",
              "      <th>hardship_dpd</th>\n",
              "      <th>hardship_loan_status</th>\n",
              "      <th>orig_projected_additional_accrued_interest</th>\n",
              "      <th>hardship_payoff_balance_amount</th>\n",
              "      <th>hardship_last_payment_amount</th>\n",
              "      <th>debt_settlement_flag</th>\n",
              "      <th>debt_settlement_flag_date</th>\n",
              "      <th>settlement_status</th>\n",
              "      <th>settlement_date</th>\n",
              "      <th>settlement_amount</th>\n",
              "      <th>settlement_percentage</th>\n",
              "      <th>settlement_term</th>\n",
              "      <th>int_rate_cleaned</th>\n",
              "      <th>int_rate_cleaned2</th>\n",
              "    </tr>\n",
              "  </thead>\n",
              "  <tbody>\n",
              "    <tr>\n",
              "      <th>0</th>\n",
              "      <td>NaN</td>\n",
              "      <td>NaN</td>\n",
              "      <td>18000</td>\n",
              "      <td>18000</td>\n",
              "      <td>18000.0</td>\n",
              "      <td>36 months</td>\n",
              "      <td>8.81%</td>\n",
              "      <td>570.81</td>\n",
              "      <td>A</td>\n",
              "      <td>A5</td>\n",
              "      <td>Sever</td>\n",
              "      <td>&lt; 1 year</td>\n",
              "      <td>RENT</td>\n",
              "      <td>40000.0</td>\n",
              "      <td>Source Verified</td>\n",
              "      <td>Dec-2018</td>\n",
              "      <td>Charged Off</td>\n",
              "      <td>n</td>\n",
              "      <td>NaN</td>\n",
              "      <td>NaN</td>\n",
              "      <td>debt_consolidation</td>\n",
              "      <td>Debt consolidation</td>\n",
              "      <td>100xx</td>\n",
              "      <td>NY</td>\n",
              "      <td>12.81</td>\n",
              "      <td>...</td>\n",
              "      <td>NaN</td>\n",
              "      <td>N</td>\n",
              "      <td>NaN</td>\n",
              "      <td>NaN</td>\n",
              "      <td>NaN</td>\n",
              "      <td>NaN</td>\n",
              "      <td>NaN</td>\n",
              "      <td>NaN</td>\n",
              "      <td>NaN</td>\n",
              "      <td>NaN</td>\n",
              "      <td>NaN</td>\n",
              "      <td>NaN</td>\n",
              "      <td>NaN</td>\n",
              "      <td>NaN</td>\n",
              "      <td>NaN</td>\n",
              "      <td>NaN</td>\n",
              "      <td>N</td>\n",
              "      <td>NaN</td>\n",
              "      <td>NaN</td>\n",
              "      <td>NaN</td>\n",
              "      <td>NaN</td>\n",
              "      <td>NaN</td>\n",
              "      <td>NaN</td>\n",
              "      <td>8.81</td>\n",
              "      <td>8.81</td>\n",
              "    </tr>\n",
              "    <tr>\n",
              "      <th>1</th>\n",
              "      <td>NaN</td>\n",
              "      <td>NaN</td>\n",
              "      <td>18500</td>\n",
              "      <td>18500</td>\n",
              "      <td>18500.0</td>\n",
              "      <td>60 months</td>\n",
              "      <td>12.98%</td>\n",
              "      <td>420.75</td>\n",
              "      <td>B</td>\n",
              "      <td>B5</td>\n",
              "      <td>Supply Chain Analyst</td>\n",
              "      <td>5 years</td>\n",
              "      <td>RENT</td>\n",
              "      <td>96500.0</td>\n",
              "      <td>Source Verified</td>\n",
              "      <td>Dec-2018</td>\n",
              "      <td>Current</td>\n",
              "      <td>n</td>\n",
              "      <td>NaN</td>\n",
              "      <td>NaN</td>\n",
              "      <td>credit_card</td>\n",
              "      <td>Credit card refinancing</td>\n",
              "      <td>554xx</td>\n",
              "      <td>MN</td>\n",
              "      <td>27.86</td>\n",
              "      <td>...</td>\n",
              "      <td>NaN</td>\n",
              "      <td>N</td>\n",
              "      <td>NaN</td>\n",
              "      <td>NaN</td>\n",
              "      <td>NaN</td>\n",
              "      <td>NaN</td>\n",
              "      <td>NaN</td>\n",
              "      <td>NaN</td>\n",
              "      <td>NaN</td>\n",
              "      <td>NaN</td>\n",
              "      <td>NaN</td>\n",
              "      <td>NaN</td>\n",
              "      <td>NaN</td>\n",
              "      <td>NaN</td>\n",
              "      <td>NaN</td>\n",
              "      <td>NaN</td>\n",
              "      <td>N</td>\n",
              "      <td>NaN</td>\n",
              "      <td>NaN</td>\n",
              "      <td>NaN</td>\n",
              "      <td>NaN</td>\n",
              "      <td>NaN</td>\n",
              "      <td>NaN</td>\n",
              "      <td>12.98</td>\n",
              "      <td>12.98</td>\n",
              "    </tr>\n",
              "    <tr>\n",
              "      <th>2</th>\n",
              "      <td>NaN</td>\n",
              "      <td>NaN</td>\n",
              "      <td>32000</td>\n",
              "      <td>32000</td>\n",
              "      <td>32000.0</td>\n",
              "      <td>60 months</td>\n",
              "      <td>14.47%</td>\n",
              "      <td>752.41</td>\n",
              "      <td>C</td>\n",
              "      <td>C2</td>\n",
              "      <td>Teacher</td>\n",
              "      <td>10+ years</td>\n",
              "      <td>MORTGAGE</td>\n",
              "      <td>110000.0</td>\n",
              "      <td>Source Verified</td>\n",
              "      <td>Dec-2018</td>\n",
              "      <td>Current</td>\n",
              "      <td>n</td>\n",
              "      <td>NaN</td>\n",
              "      <td>NaN</td>\n",
              "      <td>home_improvement</td>\n",
              "      <td>Home improvement</td>\n",
              "      <td>152xx</td>\n",
              "      <td>PA</td>\n",
              "      <td>26.11</td>\n",
              "      <td>...</td>\n",
              "      <td>NaN</td>\n",
              "      <td>N</td>\n",
              "      <td>CVD19SKIP</td>\n",
              "      <td>INCOMECURT</td>\n",
              "      <td>COMPLETE</td>\n",
              "      <td>2.0</td>\n",
              "      <td>0.0</td>\n",
              "      <td>Apr-2020</td>\n",
              "      <td>Jun-2020</td>\n",
              "      <td>Apr-2020</td>\n",
              "      <td>2.0</td>\n",
              "      <td>0.0</td>\n",
              "      <td>ACTIVE</td>\n",
              "      <td>627.45</td>\n",
              "      <td>26278.58</td>\n",
              "      <td>752.41</td>\n",
              "      <td>N</td>\n",
              "      <td>NaN</td>\n",
              "      <td>NaN</td>\n",
              "      <td>NaN</td>\n",
              "      <td>NaN</td>\n",
              "      <td>NaN</td>\n",
              "      <td>NaN</td>\n",
              "      <td>14.47</td>\n",
              "      <td>14.47</td>\n",
              "    </tr>\n",
              "    <tr>\n",
              "      <th>3</th>\n",
              "      <td>NaN</td>\n",
              "      <td>NaN</td>\n",
              "      <td>5000</td>\n",
              "      <td>5000</td>\n",
              "      <td>5000.0</td>\n",
              "      <td>36 months</td>\n",
              "      <td>17.97%</td>\n",
              "      <td>180.69</td>\n",
              "      <td>D</td>\n",
              "      <td>D1</td>\n",
              "      <td>Administrative</td>\n",
              "      <td>6 years</td>\n",
              "      <td>MORTGAGE</td>\n",
              "      <td>59280.0</td>\n",
              "      <td>Source Verified</td>\n",
              "      <td>Dec-2018</td>\n",
              "      <td>Fully Paid</td>\n",
              "      <td>n</td>\n",
              "      <td>NaN</td>\n",
              "      <td>NaN</td>\n",
              "      <td>debt_consolidation</td>\n",
              "      <td>Debt consolidation</td>\n",
              "      <td>490xx</td>\n",
              "      <td>MI</td>\n",
              "      <td>10.51</td>\n",
              "      <td>...</td>\n",
              "      <td>NaN</td>\n",
              "      <td>N</td>\n",
              "      <td>NaN</td>\n",
              "      <td>NaN</td>\n",
              "      <td>NaN</td>\n",
              "      <td>NaN</td>\n",
              "      <td>NaN</td>\n",
              "      <td>NaN</td>\n",
              "      <td>NaN</td>\n",
              "      <td>NaN</td>\n",
              "      <td>NaN</td>\n",
              "      <td>NaN</td>\n",
              "      <td>NaN</td>\n",
              "      <td>NaN</td>\n",
              "      <td>NaN</td>\n",
              "      <td>NaN</td>\n",
              "      <td>N</td>\n",
              "      <td>NaN</td>\n",
              "      <td>NaN</td>\n",
              "      <td>NaN</td>\n",
              "      <td>NaN</td>\n",
              "      <td>NaN</td>\n",
              "      <td>NaN</td>\n",
              "      <td>17.97</td>\n",
              "      <td>17.97</td>\n",
              "    </tr>\n",
              "    <tr>\n",
              "      <th>4</th>\n",
              "      <td>NaN</td>\n",
              "      <td>NaN</td>\n",
              "      <td>13000</td>\n",
              "      <td>13000</td>\n",
              "      <td>13000.0</td>\n",
              "      <td>36 months</td>\n",
              "      <td>23.40%</td>\n",
              "      <td>505.95</td>\n",
              "      <td>E</td>\n",
              "      <td>E1</td>\n",
              "      <td>Sale Representative</td>\n",
              "      <td>2 years</td>\n",
              "      <td>MORTGAGE</td>\n",
              "      <td>90000.0</td>\n",
              "      <td>Verified</td>\n",
              "      <td>Dec-2018</td>\n",
              "      <td>Current</td>\n",
              "      <td>n</td>\n",
              "      <td>NaN</td>\n",
              "      <td>NaN</td>\n",
              "      <td>other</td>\n",
              "      <td>Other</td>\n",
              "      <td>191xx</td>\n",
              "      <td>PA</td>\n",
              "      <td>39.73</td>\n",
              "      <td>...</td>\n",
              "      <td>NaN</td>\n",
              "      <td>Y</td>\n",
              "      <td>CVD19SKIP</td>\n",
              "      <td>INCOME_CURTAILMENT</td>\n",
              "      <td>ACTIVE</td>\n",
              "      <td>4.0</td>\n",
              "      <td>0.0</td>\n",
              "      <td>May-2020</td>\n",
              "      <td>Jul-2020</td>\n",
              "      <td>May-2020</td>\n",
              "      <td>4.0</td>\n",
              "      <td>0.0</td>\n",
              "      <td>ACTIVE</td>\n",
              "      <td>1086.68</td>\n",
              "      <td>9481.75</td>\n",
              "      <td>55.80</td>\n",
              "      <td>N</td>\n",
              "      <td>NaN</td>\n",
              "      <td>NaN</td>\n",
              "      <td>NaN</td>\n",
              "      <td>NaN</td>\n",
              "      <td>NaN</td>\n",
              "      <td>NaN</td>\n",
              "      <td>23.40</td>\n",
              "      <td>23.40</td>\n",
              "    </tr>\n",
              "  </tbody>\n",
              "</table>\n",
              "<p>5 rows × 146 columns</p>\n",
              "</div>"
            ],
            "text/plain": [
              "   id  member_id  loan_amnt  funded_amnt  funded_amnt_inv        term  \\\n",
              "0 NaN        NaN      18000        18000          18000.0   36 months   \n",
              "1 NaN        NaN      18500        18500          18500.0   60 months   \n",
              "2 NaN        NaN      32000        32000          32000.0   60 months   \n",
              "3 NaN        NaN       5000         5000           5000.0   36 months   \n",
              "4 NaN        NaN      13000        13000          13000.0   36 months   \n",
              "\n",
              "  int_rate  installment grade sub_grade             emp_title emp_length  \\\n",
              "0    8.81%       570.81     A        A5                 Sever   < 1 year   \n",
              "1   12.98%       420.75     B        B5  Supply Chain Analyst    5 years   \n",
              "2   14.47%       752.41     C        C2               Teacher  10+ years   \n",
              "3   17.97%       180.69     D        D1        Administrative    6 years   \n",
              "4   23.40%       505.95     E        E1   Sale Representative    2 years   \n",
              "\n",
              "  home_ownership  annual_inc verification_status   issue_d  loan_status  \\\n",
              "0           RENT     40000.0     Source Verified  Dec-2018  Charged Off   \n",
              "1           RENT     96500.0     Source Verified  Dec-2018      Current   \n",
              "2       MORTGAGE    110000.0     Source Verified  Dec-2018      Current   \n",
              "3       MORTGAGE     59280.0     Source Verified  Dec-2018   Fully Paid   \n",
              "4       MORTGAGE     90000.0            Verified  Dec-2018      Current   \n",
              "\n",
              "  pymnt_plan  url  desc             purpose                    title zip_code  \\\n",
              "0          n  NaN   NaN  debt_consolidation       Debt consolidation    100xx   \n",
              "1          n  NaN   NaN         credit_card  Credit card refinancing    554xx   \n",
              "2          n  NaN   NaN    home_improvement         Home improvement    152xx   \n",
              "3          n  NaN   NaN  debt_consolidation       Debt consolidation    490xx   \n",
              "4          n  NaN   NaN               other                    Other    191xx   \n",
              "\n",
              "  addr_state    dti  ...  sec_app_mths_since_last_major_derog hardship_flag  \\\n",
              "0         NY  12.81  ...                                  NaN             N   \n",
              "1         MN  27.86  ...                                  NaN             N   \n",
              "2         PA  26.11  ...                                  NaN             N   \n",
              "3         MI  10.51  ...                                  NaN             N   \n",
              "4         PA  39.73  ...                                  NaN             Y   \n",
              "\n",
              "   hardship_type     hardship_reason  hardship_status  deferral_term  \\\n",
              "0            NaN                 NaN              NaN            NaN   \n",
              "1            NaN                 NaN              NaN            NaN   \n",
              "2      CVD19SKIP          INCOMECURT         COMPLETE            2.0   \n",
              "3            NaN                 NaN              NaN            NaN   \n",
              "4      CVD19SKIP  INCOME_CURTAILMENT           ACTIVE            4.0   \n",
              "\n",
              "   hardship_amount  hardship_start_date hardship_end_date  \\\n",
              "0              NaN                  NaN               NaN   \n",
              "1              NaN                  NaN               NaN   \n",
              "2              0.0             Apr-2020          Jun-2020   \n",
              "3              NaN                  NaN               NaN   \n",
              "4              0.0             May-2020          Jul-2020   \n",
              "\n",
              "   payment_plan_start_date hardship_length  hardship_dpd  \\\n",
              "0                      NaN             NaN           NaN   \n",
              "1                      NaN             NaN           NaN   \n",
              "2                 Apr-2020             2.0           0.0   \n",
              "3                      NaN             NaN           NaN   \n",
              "4                 May-2020             4.0           0.0   \n",
              "\n",
              "   hardship_loan_status  orig_projected_additional_accrued_interest  \\\n",
              "0                   NaN                                         NaN   \n",
              "1                   NaN                                         NaN   \n",
              "2                ACTIVE                                      627.45   \n",
              "3                   NaN                                         NaN   \n",
              "4                ACTIVE                                     1086.68   \n",
              "\n",
              "   hardship_payoff_balance_amount  hardship_last_payment_amount  \\\n",
              "0                             NaN                           NaN   \n",
              "1                             NaN                           NaN   \n",
              "2                        26278.58                        752.41   \n",
              "3                             NaN                           NaN   \n",
              "4                         9481.75                         55.80   \n",
              "\n",
              "   debt_settlement_flag  debt_settlement_flag_date  settlement_status  \\\n",
              "0                     N                        NaN                NaN   \n",
              "1                     N                        NaN                NaN   \n",
              "2                     N                        NaN                NaN   \n",
              "3                     N                        NaN                NaN   \n",
              "4                     N                        NaN                NaN   \n",
              "\n",
              "   settlement_date settlement_amount  settlement_percentage settlement_term  \\\n",
              "0              NaN               NaN                    NaN             NaN   \n",
              "1              NaN               NaN                    NaN             NaN   \n",
              "2              NaN               NaN                    NaN             NaN   \n",
              "3              NaN               NaN                    NaN             NaN   \n",
              "4              NaN               NaN                    NaN             NaN   \n",
              "\n",
              "  int_rate_cleaned  int_rate_cleaned2  \n",
              "0             8.81               8.81  \n",
              "1            12.98              12.98  \n",
              "2            14.47              14.47  \n",
              "3            17.97              17.97  \n",
              "4            23.40              23.40  \n",
              "\n",
              "[5 rows x 146 columns]"
            ]
          },
          "metadata": {
            "tags": []
          },
          "execution_count": 67
        }
      ]
    },
    {
      "cell_type": "code",
      "metadata": {
        "id": "oCMQ1uC2DXpE",
        "colab_type": "code",
        "colab": {
          "base_uri": "https://localhost:8080/",
          "height": 1000
        },
        "outputId": "2a1b09f7-d77c-47fc-ebc8-c1f22e115f30"
      },
      "source": [
        "df.dtypes"
      ],
      "execution_count": null,
      "outputs": [
        {
          "output_type": "execute_result",
          "data": {
            "text/plain": [
              "id                                            float64\n",
              "member_id                                     float64\n",
              "loan_amnt                                       int64\n",
              "funded_amnt                                     int64\n",
              "funded_amnt_inv                               float64\n",
              "term                                           object\n",
              "int_rate                                       object\n",
              "installment                                   float64\n",
              "grade                                          object\n",
              "sub_grade                                      object\n",
              "emp_title                                      object\n",
              "emp_length                                     object\n",
              "home_ownership                                 object\n",
              "annual_inc                                    float64\n",
              "verification_status                            object\n",
              "issue_d                                        object\n",
              "loan_status                                    object\n",
              "pymnt_plan                                     object\n",
              "url                                           float64\n",
              "desc                                          float64\n",
              "purpose                                        object\n",
              "title                                          object\n",
              "zip_code                                       object\n",
              "addr_state                                     object\n",
              "dti                                           float64\n",
              "delinq_2yrs                                     int64\n",
              "earliest_cr_line                               object\n",
              "inq_last_6mths                                  int64\n",
              "mths_since_last_delinq                        float64\n",
              "mths_since_last_record                        float64\n",
              "open_acc                                        int64\n",
              "pub_rec                                         int64\n",
              "revol_bal                                       int64\n",
              "revol_util                                     object\n",
              "total_acc                                       int64\n",
              "initial_list_status                            object\n",
              "out_prncp                                     float64\n",
              "out_prncp_inv                                 float64\n",
              "total_pymnt                                   float64\n",
              "total_pymnt_inv                               float64\n",
              "total_rec_prncp                               float64\n",
              "total_rec_int                                 float64\n",
              "total_rec_late_fee                            float64\n",
              "recoveries                                    float64\n",
              "collection_recovery_fee                       float64\n",
              "last_pymnt_d                                   object\n",
              "last_pymnt_amnt                               float64\n",
              "next_pymnt_d                                   object\n",
              "last_credit_pull_d                             object\n",
              "collections_12_mths_ex_med                      int64\n",
              "mths_since_last_major_derog                   float64\n",
              "policy_code                                     int64\n",
              "application_type                               object\n",
              "annual_inc_joint                              float64\n",
              "dti_joint                                     float64\n",
              "verification_status_joint                      object\n",
              "acc_now_delinq                                  int64\n",
              "tot_coll_amt                                    int64\n",
              "tot_cur_bal                                     int64\n",
              "open_acc_6m                                     int64\n",
              "open_act_il                                     int64\n",
              "open_il_12m                                     int64\n",
              "open_il_24m                                     int64\n",
              "mths_since_rcnt_il                            float64\n",
              "total_bal_il                                    int64\n",
              "il_util                                       float64\n",
              "open_rv_12m                                     int64\n",
              "open_rv_24m                                     int64\n",
              "max_bal_bc                                      int64\n",
              "all_util                                      float64\n",
              "total_rev_hi_lim                                int64\n",
              "inq_fi                                          int64\n",
              "total_cu_tl                                     int64\n",
              "inq_last_12m                                    int64\n",
              "acc_open_past_24mths                            int64\n",
              "avg_cur_bal                                   float64\n",
              "bc_open_to_buy                                float64\n",
              "bc_util                                       float64\n",
              "chargeoff_within_12_mths                        int64\n",
              "delinq_amnt                                     int64\n",
              "mo_sin_old_il_acct                            float64\n",
              "mo_sin_old_rev_tl_op                            int64\n",
              "mo_sin_rcnt_rev_tl_op                           int64\n",
              "mo_sin_rcnt_tl                                  int64\n",
              "mort_acc                                        int64\n",
              "mths_since_recent_bc                          float64\n",
              "mths_since_recent_bc_dlq                      float64\n",
              "mths_since_recent_inq                         float64\n",
              "mths_since_recent_revol_delinq                float64\n",
              "num_accts_ever_120_pd                           int64\n",
              "num_actv_bc_tl                                  int64\n",
              "num_actv_rev_tl                                 int64\n",
              "num_bc_sats                                     int64\n",
              "num_bc_tl                                       int64\n",
              "num_il_tl                                       int64\n",
              "num_op_rev_tl                                   int64\n",
              "num_rev_accts                                   int64\n",
              "num_rev_tl_bal_gt_0                             int64\n",
              "num_sats                                        int64\n",
              "num_tl_120dpd_2m                              float64\n",
              "num_tl_30dpd                                    int64\n",
              "num_tl_90g_dpd_24m                              int64\n",
              "num_tl_op_past_12m                              int64\n",
              "pct_tl_nvr_dlq                                float64\n",
              "percent_bc_gt_75                              float64\n",
              "pub_rec_bankruptcies                            int64\n",
              "tax_liens                                       int64\n",
              "tot_hi_cred_lim                                 int64\n",
              "total_bal_ex_mort                               int64\n",
              "total_bc_limit                                  int64\n",
              "total_il_high_credit_limit                      int64\n",
              "revol_bal_joint                               float64\n",
              "sec_app_earliest_cr_line                       object\n",
              "sec_app_inq_last_6mths                        float64\n",
              "sec_app_mort_acc                              float64\n",
              "sec_app_open_acc                              float64\n",
              "sec_app_revol_util                            float64\n",
              "sec_app_open_act_il                           float64\n",
              "sec_app_num_rev_accts                         float64\n",
              "sec_app_chargeoff_within_12_mths              float64\n",
              "sec_app_collections_12_mths_ex_med            float64\n",
              "sec_app_mths_since_last_major_derog           float64\n",
              "hardship_flag                                  object\n",
              "hardship_type                                  object\n",
              "hardship_reason                                object\n",
              "hardship_status                                object\n",
              "deferral_term                                 float64\n",
              "hardship_amount                               float64\n",
              "hardship_start_date                            object\n",
              "hardship_end_date                              object\n",
              "payment_plan_start_date                        object\n",
              "hardship_length                               float64\n",
              "hardship_dpd                                  float64\n",
              "hardship_loan_status                           object\n",
              "orig_projected_additional_accrued_interest    float64\n",
              "hardship_payoff_balance_amount                float64\n",
              "hardship_last_payment_amount                  float64\n",
              "debt_settlement_flag                           object\n",
              "debt_settlement_flag_date                      object\n",
              "settlement_status                              object\n",
              "settlement_date                                object\n",
              "settlement_amount                             float64\n",
              "settlement_percentage                         float64\n",
              "settlement_term                               float64\n",
              "int_rate_cleaned                              float64\n",
              "dtype: object"
            ]
          },
          "metadata": {
            "tags": []
          },
          "execution_count": 57
        }
      ]
    },
    {
      "cell_type": "code",
      "metadata": {
        "id": "yE_xsFZsDXh0",
        "colab_type": "code",
        "colab": {
          "base_uri": "https://localhost:8080/",
          "height": 330
        },
        "outputId": "fc0f1985-6465-4eda-a634-51e091bcf25d"
      },
      "source": [
        "df['int_rate_cleaned2'] = df['int_rate'].apply(myfunc)\n",
        "df.head()\n",
        "#same as above but using apply"
      ],
      "execution_count": null,
      "outputs": [
        {
          "output_type": "execute_result",
          "data": {
            "text/html": [
              "<div>\n",
              "<style scoped>\n",
              "    .dataframe tbody tr th:only-of-type {\n",
              "        vertical-align: middle;\n",
              "    }\n",
              "\n",
              "    .dataframe tbody tr th {\n",
              "        vertical-align: top;\n",
              "    }\n",
              "\n",
              "    .dataframe thead th {\n",
              "        text-align: right;\n",
              "    }\n",
              "</style>\n",
              "<table border=\"1\" class=\"dataframe\">\n",
              "  <thead>\n",
              "    <tr style=\"text-align: right;\">\n",
              "      <th></th>\n",
              "      <th>id</th>\n",
              "      <th>member_id</th>\n",
              "      <th>loan_amnt</th>\n",
              "      <th>funded_amnt</th>\n",
              "      <th>funded_amnt_inv</th>\n",
              "      <th>term</th>\n",
              "      <th>int_rate</th>\n",
              "      <th>installment</th>\n",
              "      <th>grade</th>\n",
              "      <th>sub_grade</th>\n",
              "      <th>emp_title</th>\n",
              "      <th>emp_length</th>\n",
              "      <th>home_ownership</th>\n",
              "      <th>annual_inc</th>\n",
              "      <th>verification_status</th>\n",
              "      <th>issue_d</th>\n",
              "      <th>loan_status</th>\n",
              "      <th>pymnt_plan</th>\n",
              "      <th>url</th>\n",
              "      <th>desc</th>\n",
              "      <th>purpose</th>\n",
              "      <th>title</th>\n",
              "      <th>zip_code</th>\n",
              "      <th>addr_state</th>\n",
              "      <th>dti</th>\n",
              "      <th>...</th>\n",
              "      <th>sec_app_mths_since_last_major_derog</th>\n",
              "      <th>hardship_flag</th>\n",
              "      <th>hardship_type</th>\n",
              "      <th>hardship_reason</th>\n",
              "      <th>hardship_status</th>\n",
              "      <th>deferral_term</th>\n",
              "      <th>hardship_amount</th>\n",
              "      <th>hardship_start_date</th>\n",
              "      <th>hardship_end_date</th>\n",
              "      <th>payment_plan_start_date</th>\n",
              "      <th>hardship_length</th>\n",
              "      <th>hardship_dpd</th>\n",
              "      <th>hardship_loan_status</th>\n",
              "      <th>orig_projected_additional_accrued_interest</th>\n",
              "      <th>hardship_payoff_balance_amount</th>\n",
              "      <th>hardship_last_payment_amount</th>\n",
              "      <th>debt_settlement_flag</th>\n",
              "      <th>debt_settlement_flag_date</th>\n",
              "      <th>settlement_status</th>\n",
              "      <th>settlement_date</th>\n",
              "      <th>settlement_amount</th>\n",
              "      <th>settlement_percentage</th>\n",
              "      <th>settlement_term</th>\n",
              "      <th>int_rate_cleaned</th>\n",
              "      <th>int_rate_cleaned2</th>\n",
              "    </tr>\n",
              "  </thead>\n",
              "  <tbody>\n",
              "    <tr>\n",
              "      <th>0</th>\n",
              "      <td>NaN</td>\n",
              "      <td>NaN</td>\n",
              "      <td>18000</td>\n",
              "      <td>18000</td>\n",
              "      <td>18000.0</td>\n",
              "      <td>36 months</td>\n",
              "      <td>8.81%</td>\n",
              "      <td>570.81</td>\n",
              "      <td>A</td>\n",
              "      <td>A5</td>\n",
              "      <td>Sever</td>\n",
              "      <td>&lt; 1 year</td>\n",
              "      <td>RENT</td>\n",
              "      <td>40000.0</td>\n",
              "      <td>Source Verified</td>\n",
              "      <td>Dec-2018</td>\n",
              "      <td>Charged Off</td>\n",
              "      <td>n</td>\n",
              "      <td>NaN</td>\n",
              "      <td>NaN</td>\n",
              "      <td>debt_consolidation</td>\n",
              "      <td>Debt consolidation</td>\n",
              "      <td>100xx</td>\n",
              "      <td>NY</td>\n",
              "      <td>12.81</td>\n",
              "      <td>...</td>\n",
              "      <td>NaN</td>\n",
              "      <td>N</td>\n",
              "      <td>NaN</td>\n",
              "      <td>NaN</td>\n",
              "      <td>NaN</td>\n",
              "      <td>NaN</td>\n",
              "      <td>NaN</td>\n",
              "      <td>NaN</td>\n",
              "      <td>NaN</td>\n",
              "      <td>NaN</td>\n",
              "      <td>NaN</td>\n",
              "      <td>NaN</td>\n",
              "      <td>NaN</td>\n",
              "      <td>NaN</td>\n",
              "      <td>NaN</td>\n",
              "      <td>NaN</td>\n",
              "      <td>N</td>\n",
              "      <td>NaN</td>\n",
              "      <td>NaN</td>\n",
              "      <td>NaN</td>\n",
              "      <td>NaN</td>\n",
              "      <td>NaN</td>\n",
              "      <td>NaN</td>\n",
              "      <td>8.81</td>\n",
              "      <td>8.81</td>\n",
              "    </tr>\n",
              "    <tr>\n",
              "      <th>1</th>\n",
              "      <td>NaN</td>\n",
              "      <td>NaN</td>\n",
              "      <td>18500</td>\n",
              "      <td>18500</td>\n",
              "      <td>18500.0</td>\n",
              "      <td>60 months</td>\n",
              "      <td>12.98%</td>\n",
              "      <td>420.75</td>\n",
              "      <td>B</td>\n",
              "      <td>B5</td>\n",
              "      <td>Supply Chain Analyst</td>\n",
              "      <td>5 years</td>\n",
              "      <td>RENT</td>\n",
              "      <td>96500.0</td>\n",
              "      <td>Source Verified</td>\n",
              "      <td>Dec-2018</td>\n",
              "      <td>Current</td>\n",
              "      <td>n</td>\n",
              "      <td>NaN</td>\n",
              "      <td>NaN</td>\n",
              "      <td>credit_card</td>\n",
              "      <td>Credit card refinancing</td>\n",
              "      <td>554xx</td>\n",
              "      <td>MN</td>\n",
              "      <td>27.86</td>\n",
              "      <td>...</td>\n",
              "      <td>NaN</td>\n",
              "      <td>N</td>\n",
              "      <td>NaN</td>\n",
              "      <td>NaN</td>\n",
              "      <td>NaN</td>\n",
              "      <td>NaN</td>\n",
              "      <td>NaN</td>\n",
              "      <td>NaN</td>\n",
              "      <td>NaN</td>\n",
              "      <td>NaN</td>\n",
              "      <td>NaN</td>\n",
              "      <td>NaN</td>\n",
              "      <td>NaN</td>\n",
              "      <td>NaN</td>\n",
              "      <td>NaN</td>\n",
              "      <td>NaN</td>\n",
              "      <td>N</td>\n",
              "      <td>NaN</td>\n",
              "      <td>NaN</td>\n",
              "      <td>NaN</td>\n",
              "      <td>NaN</td>\n",
              "      <td>NaN</td>\n",
              "      <td>NaN</td>\n",
              "      <td>12.98</td>\n",
              "      <td>12.98</td>\n",
              "    </tr>\n",
              "    <tr>\n",
              "      <th>2</th>\n",
              "      <td>NaN</td>\n",
              "      <td>NaN</td>\n",
              "      <td>32000</td>\n",
              "      <td>32000</td>\n",
              "      <td>32000.0</td>\n",
              "      <td>60 months</td>\n",
              "      <td>14.47%</td>\n",
              "      <td>752.41</td>\n",
              "      <td>C</td>\n",
              "      <td>C2</td>\n",
              "      <td>Teacher</td>\n",
              "      <td>10+ years</td>\n",
              "      <td>MORTGAGE</td>\n",
              "      <td>110000.0</td>\n",
              "      <td>Source Verified</td>\n",
              "      <td>Dec-2018</td>\n",
              "      <td>Current</td>\n",
              "      <td>n</td>\n",
              "      <td>NaN</td>\n",
              "      <td>NaN</td>\n",
              "      <td>home_improvement</td>\n",
              "      <td>Home improvement</td>\n",
              "      <td>152xx</td>\n",
              "      <td>PA</td>\n",
              "      <td>26.11</td>\n",
              "      <td>...</td>\n",
              "      <td>NaN</td>\n",
              "      <td>N</td>\n",
              "      <td>CVD19SKIP</td>\n",
              "      <td>INCOMECURT</td>\n",
              "      <td>COMPLETE</td>\n",
              "      <td>2.0</td>\n",
              "      <td>0.0</td>\n",
              "      <td>Apr-2020</td>\n",
              "      <td>Jun-2020</td>\n",
              "      <td>Apr-2020</td>\n",
              "      <td>2.0</td>\n",
              "      <td>0.0</td>\n",
              "      <td>ACTIVE</td>\n",
              "      <td>627.45</td>\n",
              "      <td>26278.58</td>\n",
              "      <td>752.41</td>\n",
              "      <td>N</td>\n",
              "      <td>NaN</td>\n",
              "      <td>NaN</td>\n",
              "      <td>NaN</td>\n",
              "      <td>NaN</td>\n",
              "      <td>NaN</td>\n",
              "      <td>NaN</td>\n",
              "      <td>14.47</td>\n",
              "      <td>14.47</td>\n",
              "    </tr>\n",
              "    <tr>\n",
              "      <th>3</th>\n",
              "      <td>NaN</td>\n",
              "      <td>NaN</td>\n",
              "      <td>5000</td>\n",
              "      <td>5000</td>\n",
              "      <td>5000.0</td>\n",
              "      <td>36 months</td>\n",
              "      <td>17.97%</td>\n",
              "      <td>180.69</td>\n",
              "      <td>D</td>\n",
              "      <td>D1</td>\n",
              "      <td>Administrative</td>\n",
              "      <td>6 years</td>\n",
              "      <td>MORTGAGE</td>\n",
              "      <td>59280.0</td>\n",
              "      <td>Source Verified</td>\n",
              "      <td>Dec-2018</td>\n",
              "      <td>Fully Paid</td>\n",
              "      <td>n</td>\n",
              "      <td>NaN</td>\n",
              "      <td>NaN</td>\n",
              "      <td>debt_consolidation</td>\n",
              "      <td>Debt consolidation</td>\n",
              "      <td>490xx</td>\n",
              "      <td>MI</td>\n",
              "      <td>10.51</td>\n",
              "      <td>...</td>\n",
              "      <td>NaN</td>\n",
              "      <td>N</td>\n",
              "      <td>NaN</td>\n",
              "      <td>NaN</td>\n",
              "      <td>NaN</td>\n",
              "      <td>NaN</td>\n",
              "      <td>NaN</td>\n",
              "      <td>NaN</td>\n",
              "      <td>NaN</td>\n",
              "      <td>NaN</td>\n",
              "      <td>NaN</td>\n",
              "      <td>NaN</td>\n",
              "      <td>NaN</td>\n",
              "      <td>NaN</td>\n",
              "      <td>NaN</td>\n",
              "      <td>NaN</td>\n",
              "      <td>N</td>\n",
              "      <td>NaN</td>\n",
              "      <td>NaN</td>\n",
              "      <td>NaN</td>\n",
              "      <td>NaN</td>\n",
              "      <td>NaN</td>\n",
              "      <td>NaN</td>\n",
              "      <td>17.97</td>\n",
              "      <td>17.97</td>\n",
              "    </tr>\n",
              "    <tr>\n",
              "      <th>4</th>\n",
              "      <td>NaN</td>\n",
              "      <td>NaN</td>\n",
              "      <td>13000</td>\n",
              "      <td>13000</td>\n",
              "      <td>13000.0</td>\n",
              "      <td>36 months</td>\n",
              "      <td>23.40%</td>\n",
              "      <td>505.95</td>\n",
              "      <td>E</td>\n",
              "      <td>E1</td>\n",
              "      <td>Sale Representative</td>\n",
              "      <td>2 years</td>\n",
              "      <td>MORTGAGE</td>\n",
              "      <td>90000.0</td>\n",
              "      <td>Verified</td>\n",
              "      <td>Dec-2018</td>\n",
              "      <td>Current</td>\n",
              "      <td>n</td>\n",
              "      <td>NaN</td>\n",
              "      <td>NaN</td>\n",
              "      <td>other</td>\n",
              "      <td>Other</td>\n",
              "      <td>191xx</td>\n",
              "      <td>PA</td>\n",
              "      <td>39.73</td>\n",
              "      <td>...</td>\n",
              "      <td>NaN</td>\n",
              "      <td>Y</td>\n",
              "      <td>CVD19SKIP</td>\n",
              "      <td>INCOME_CURTAILMENT</td>\n",
              "      <td>ACTIVE</td>\n",
              "      <td>4.0</td>\n",
              "      <td>0.0</td>\n",
              "      <td>May-2020</td>\n",
              "      <td>Jul-2020</td>\n",
              "      <td>May-2020</td>\n",
              "      <td>4.0</td>\n",
              "      <td>0.0</td>\n",
              "      <td>ACTIVE</td>\n",
              "      <td>1086.68</td>\n",
              "      <td>9481.75</td>\n",
              "      <td>55.80</td>\n",
              "      <td>N</td>\n",
              "      <td>NaN</td>\n",
              "      <td>NaN</td>\n",
              "      <td>NaN</td>\n",
              "      <td>NaN</td>\n",
              "      <td>NaN</td>\n",
              "      <td>NaN</td>\n",
              "      <td>23.40</td>\n",
              "      <td>23.40</td>\n",
              "    </tr>\n",
              "  </tbody>\n",
              "</table>\n",
              "<p>5 rows × 146 columns</p>\n",
              "</div>"
            ],
            "text/plain": [
              "   id  member_id  loan_amnt  funded_amnt  funded_amnt_inv        term  \\\n",
              "0 NaN        NaN      18000        18000          18000.0   36 months   \n",
              "1 NaN        NaN      18500        18500          18500.0   60 months   \n",
              "2 NaN        NaN      32000        32000          32000.0   60 months   \n",
              "3 NaN        NaN       5000         5000           5000.0   36 months   \n",
              "4 NaN        NaN      13000        13000          13000.0   36 months   \n",
              "\n",
              "  int_rate  installment grade sub_grade             emp_title emp_length  \\\n",
              "0    8.81%       570.81     A        A5                 Sever   < 1 year   \n",
              "1   12.98%       420.75     B        B5  Supply Chain Analyst    5 years   \n",
              "2   14.47%       752.41     C        C2               Teacher  10+ years   \n",
              "3   17.97%       180.69     D        D1        Administrative    6 years   \n",
              "4   23.40%       505.95     E        E1   Sale Representative    2 years   \n",
              "\n",
              "  home_ownership  annual_inc verification_status   issue_d  loan_status  \\\n",
              "0           RENT     40000.0     Source Verified  Dec-2018  Charged Off   \n",
              "1           RENT     96500.0     Source Verified  Dec-2018      Current   \n",
              "2       MORTGAGE    110000.0     Source Verified  Dec-2018      Current   \n",
              "3       MORTGAGE     59280.0     Source Verified  Dec-2018   Fully Paid   \n",
              "4       MORTGAGE     90000.0            Verified  Dec-2018      Current   \n",
              "\n",
              "  pymnt_plan  url  desc             purpose                    title zip_code  \\\n",
              "0          n  NaN   NaN  debt_consolidation       Debt consolidation    100xx   \n",
              "1          n  NaN   NaN         credit_card  Credit card refinancing    554xx   \n",
              "2          n  NaN   NaN    home_improvement         Home improvement    152xx   \n",
              "3          n  NaN   NaN  debt_consolidation       Debt consolidation    490xx   \n",
              "4          n  NaN   NaN               other                    Other    191xx   \n",
              "\n",
              "  addr_state    dti  ...  sec_app_mths_since_last_major_derog hardship_flag  \\\n",
              "0         NY  12.81  ...                                  NaN             N   \n",
              "1         MN  27.86  ...                                  NaN             N   \n",
              "2         PA  26.11  ...                                  NaN             N   \n",
              "3         MI  10.51  ...                                  NaN             N   \n",
              "4         PA  39.73  ...                                  NaN             Y   \n",
              "\n",
              "   hardship_type     hardship_reason  hardship_status  deferral_term  \\\n",
              "0            NaN                 NaN              NaN            NaN   \n",
              "1            NaN                 NaN              NaN            NaN   \n",
              "2      CVD19SKIP          INCOMECURT         COMPLETE            2.0   \n",
              "3            NaN                 NaN              NaN            NaN   \n",
              "4      CVD19SKIP  INCOME_CURTAILMENT           ACTIVE            4.0   \n",
              "\n",
              "   hardship_amount  hardship_start_date hardship_end_date  \\\n",
              "0              NaN                  NaN               NaN   \n",
              "1              NaN                  NaN               NaN   \n",
              "2              0.0             Apr-2020          Jun-2020   \n",
              "3              NaN                  NaN               NaN   \n",
              "4              0.0             May-2020          Jul-2020   \n",
              "\n",
              "   payment_plan_start_date hardship_length  hardship_dpd  \\\n",
              "0                      NaN             NaN           NaN   \n",
              "1                      NaN             NaN           NaN   \n",
              "2                 Apr-2020             2.0           0.0   \n",
              "3                      NaN             NaN           NaN   \n",
              "4                 May-2020             4.0           0.0   \n",
              "\n",
              "   hardship_loan_status  orig_projected_additional_accrued_interest  \\\n",
              "0                   NaN                                         NaN   \n",
              "1                   NaN                                         NaN   \n",
              "2                ACTIVE                                      627.45   \n",
              "3                   NaN                                         NaN   \n",
              "4                ACTIVE                                     1086.68   \n",
              "\n",
              "   hardship_payoff_balance_amount  hardship_last_payment_amount  \\\n",
              "0                             NaN                           NaN   \n",
              "1                             NaN                           NaN   \n",
              "2                        26278.58                        752.41   \n",
              "3                             NaN                           NaN   \n",
              "4                         9481.75                         55.80   \n",
              "\n",
              "   debt_settlement_flag  debt_settlement_flag_date  settlement_status  \\\n",
              "0                     N                        NaN                NaN   \n",
              "1                     N                        NaN                NaN   \n",
              "2                     N                        NaN                NaN   \n",
              "3                     N                        NaN                NaN   \n",
              "4                     N                        NaN                NaN   \n",
              "\n",
              "   settlement_date settlement_amount  settlement_percentage settlement_term  \\\n",
              "0              NaN               NaN                    NaN             NaN   \n",
              "1              NaN               NaN                    NaN             NaN   \n",
              "2              NaN               NaN                    NaN             NaN   \n",
              "3              NaN               NaN                    NaN             NaN   \n",
              "4              NaN               NaN                    NaN             NaN   \n",
              "\n",
              "  int_rate_cleaned  int_rate_cleaned2  \n",
              "0             8.81               8.81  \n",
              "1            12.98              12.98  \n",
              "2            14.47              14.47  \n",
              "3            17.97              17.97  \n",
              "4            23.40              23.40  \n",
              "\n",
              "[5 rows x 146 columns]"
            ]
          },
          "metadata": {
            "tags": []
          },
          "execution_count": 76
        }
      ]
    },
    {
      "cell_type": "code",
      "metadata": {
        "id": "FMBpu1aKSvxQ",
        "colab_type": "code",
        "colab": {
          "base_uri": "https://localhost:8080/",
          "height": 105
        },
        "outputId": "c5e97db5-9d4d-4291-efc3-e8089172d1bf"
      },
      "source": [
        "df.info()"
      ],
      "execution_count": null,
      "outputs": [
        {
          "output_type": "stream",
          "text": [
            "<class 'pandas.core.frame.DataFrame'>\n",
            "RangeIndex: 128412 entries, 0 to 128411\n",
            "Columns: 144 entries, id to settlement_term\n",
            "dtypes: float64(57), int64(51), object(36)\n",
            "memory usage: 141.1+ MB\n"
          ],
          "name": "stdout"
        }
      ]
    },
    {
      "cell_type": "code",
      "metadata": {
        "id": "XW9iEd_KPeNA",
        "colab_type": "code",
        "colab": {
          "base_uri": "https://localhost:8080/",
          "height": 390
        },
        "outputId": "ed3a2207-6934-4ee6-a1fd-e41006c92a74"
      },
      "source": [
        "df['emp_title'].value_counts(dropna=False)[:20]"
      ],
      "execution_count": null,
      "outputs": [
        {
          "output_type": "execute_result",
          "data": {
            "text/plain": [
              "NaN                   20947\n",
              "Teacher                2090\n",
              "Manager                1773\n",
              "Registered Nurse        952\n",
              "Driver                  924\n",
              "RN                      726\n",
              "Supervisor              697\n",
              "Sales                   580\n",
              "Project Manager         526\n",
              "General Manager         523\n",
              "Office Manager          521\n",
              "Owner                   420\n",
              "Director                402\n",
              "Operations Manager      387\n",
              "Truck Driver            387\n",
              "Nurse                   326\n",
              "Engineer                325\n",
              "Sales Manager           304\n",
              "manager                 301\n",
              "Supervisor              270\n",
              "Name: emp_title, dtype: int64"
            ]
          },
          "metadata": {
            "tags": []
          },
          "execution_count": 8
        }
      ]
    },
    {
      "cell_type": "code",
      "metadata": {
        "id": "T4udq0e0PeH4",
        "colab_type": "code",
        "colab": {
          "base_uri": "https://localhost:8080/",
          "height": 34
        },
        "outputId": "2d60b207-09ce-46d9-ffa6-aff36a94d6f2"
      },
      "source": [
        "len(df['emp_title'].unique())"
      ],
      "execution_count": null,
      "outputs": [
        {
          "output_type": "execute_result",
          "data": {
            "text/plain": [
              "43893"
            ]
          },
          "metadata": {
            "tags": []
          },
          "execution_count": 9
        }
      ]
    },
    {
      "cell_type": "code",
      "metadata": {
        "id": "K-JKGcYSPd9D",
        "colab_type": "code",
        "colab": {
          "base_uri": "https://localhost:8080/",
          "height": 34
        },
        "outputId": "3cb8d31c-fec6-4e8b-cceb-427023e52062"
      },
      "source": [
        "df['emp_title'].isnull().sum()"
      ],
      "execution_count": null,
      "outputs": [
        {
          "output_type": "execute_result",
          "data": {
            "text/plain": [
              "20947"
            ]
          },
          "metadata": {
            "tags": []
          },
          "execution_count": 10
        }
      ]
    },
    {
      "cell_type": "code",
      "metadata": {
        "id": "neHU1WM2Pd3g",
        "colab_type": "code",
        "colab": {}
      },
      "source": [
        "def clean_title(job_title):\n",
        "  if isinstance(job_title, str):\n",
        "    return job_title.title().strip()\n",
        "  else:\n",
        "    return \"unknown\""
      ],
      "execution_count": null,
      "outputs": []
    },
    {
      "cell_type": "code",
      "metadata": {
        "id": "B9_zVh5WPd1k",
        "colab_type": "code",
        "colab": {}
      },
      "source": [
        "empty_list=[]\n",
        "for title in examples:\n",
        "  empty_list.append(clean_title(title))"
      ],
      "execution_count": null,
      "outputs": []
    },
    {
      "cell_type": "code",
      "metadata": {
        "id": "EsHaVcF7PdwI",
        "colab_type": "code",
        "colab": {
          "base_uri": "https://localhost:8080/",
          "height": 34
        },
        "outputId": "c224c63c-0ee2-4723-ea39-c8b46b6475c5"
      },
      "source": [
        "[clean_title(title) for title in examples]"
      ],
      "execution_count": null,
      "outputs": [
        {
          "output_type": "execute_result",
          "data": {
            "text/plain": [
              "['Owner', 'Supervisor', 'Project Manager', 'unknown']"
            ]
          },
          "metadata": {
            "tags": []
          },
          "execution_count": 19
        }
      ]
    },
    {
      "cell_type": "code",
      "metadata": {
        "id": "E6oJ3SZePdrO",
        "colab_type": "code",
        "colab": {
          "base_uri": "https://localhost:8080/",
          "height": 330
        },
        "outputId": "c5ec2e56-8560-426c-ea3c-d3b34dc371a8"
      },
      "source": [
        "df['emp_title'] = df['emp_title'].apply(clean_title)\n",
        "df.head()"
      ],
      "execution_count": null,
      "outputs": [
        {
          "output_type": "execute_result",
          "data": {
            "text/html": [
              "<div>\n",
              "<style scoped>\n",
              "    .dataframe tbody tr th:only-of-type {\n",
              "        vertical-align: middle;\n",
              "    }\n",
              "\n",
              "    .dataframe tbody tr th {\n",
              "        vertical-align: top;\n",
              "    }\n",
              "\n",
              "    .dataframe thead th {\n",
              "        text-align: right;\n",
              "    }\n",
              "</style>\n",
              "<table border=\"1\" class=\"dataframe\">\n",
              "  <thead>\n",
              "    <tr style=\"text-align: right;\">\n",
              "      <th></th>\n",
              "      <th>id</th>\n",
              "      <th>member_id</th>\n",
              "      <th>loan_amnt</th>\n",
              "      <th>funded_amnt</th>\n",
              "      <th>funded_amnt_inv</th>\n",
              "      <th>term</th>\n",
              "      <th>int_rate</th>\n",
              "      <th>installment</th>\n",
              "      <th>grade</th>\n",
              "      <th>sub_grade</th>\n",
              "      <th>emp_title</th>\n",
              "      <th>emp_length</th>\n",
              "      <th>home_ownership</th>\n",
              "      <th>annual_inc</th>\n",
              "      <th>verification_status</th>\n",
              "      <th>issue_d</th>\n",
              "      <th>loan_status</th>\n",
              "      <th>pymnt_plan</th>\n",
              "      <th>url</th>\n",
              "      <th>desc</th>\n",
              "      <th>purpose</th>\n",
              "      <th>title</th>\n",
              "      <th>zip_code</th>\n",
              "      <th>addr_state</th>\n",
              "      <th>dti</th>\n",
              "      <th>delinq_2yrs</th>\n",
              "      <th>earliest_cr_line</th>\n",
              "      <th>inq_last_6mths</th>\n",
              "      <th>mths_since_last_delinq</th>\n",
              "      <th>mths_since_last_record</th>\n",
              "      <th>open_acc</th>\n",
              "      <th>pub_rec</th>\n",
              "      <th>revol_bal</th>\n",
              "      <th>revol_util</th>\n",
              "      <th>total_acc</th>\n",
              "      <th>initial_list_status</th>\n",
              "      <th>out_prncp</th>\n",
              "      <th>out_prncp_inv</th>\n",
              "      <th>total_pymnt</th>\n",
              "      <th>total_pymnt_inv</th>\n",
              "      <th>...</th>\n",
              "      <th>percent_bc_gt_75</th>\n",
              "      <th>pub_rec_bankruptcies</th>\n",
              "      <th>tax_liens</th>\n",
              "      <th>tot_hi_cred_lim</th>\n",
              "      <th>total_bal_ex_mort</th>\n",
              "      <th>total_bc_limit</th>\n",
              "      <th>total_il_high_credit_limit</th>\n",
              "      <th>revol_bal_joint</th>\n",
              "      <th>sec_app_earliest_cr_line</th>\n",
              "      <th>sec_app_inq_last_6mths</th>\n",
              "      <th>sec_app_mort_acc</th>\n",
              "      <th>sec_app_open_acc</th>\n",
              "      <th>sec_app_revol_util</th>\n",
              "      <th>sec_app_open_act_il</th>\n",
              "      <th>sec_app_num_rev_accts</th>\n",
              "      <th>sec_app_chargeoff_within_12_mths</th>\n",
              "      <th>sec_app_collections_12_mths_ex_med</th>\n",
              "      <th>sec_app_mths_since_last_major_derog</th>\n",
              "      <th>hardship_flag</th>\n",
              "      <th>hardship_type</th>\n",
              "      <th>hardship_reason</th>\n",
              "      <th>hardship_status</th>\n",
              "      <th>deferral_term</th>\n",
              "      <th>hardship_amount</th>\n",
              "      <th>hardship_start_date</th>\n",
              "      <th>hardship_end_date</th>\n",
              "      <th>payment_plan_start_date</th>\n",
              "      <th>hardship_length</th>\n",
              "      <th>hardship_dpd</th>\n",
              "      <th>hardship_loan_status</th>\n",
              "      <th>orig_projected_additional_accrued_interest</th>\n",
              "      <th>hardship_payoff_balance_amount</th>\n",
              "      <th>hardship_last_payment_amount</th>\n",
              "      <th>debt_settlement_flag</th>\n",
              "      <th>debt_settlement_flag_date</th>\n",
              "      <th>settlement_status</th>\n",
              "      <th>settlement_date</th>\n",
              "      <th>settlement_amount</th>\n",
              "      <th>settlement_percentage</th>\n",
              "      <th>settlement_term</th>\n",
              "    </tr>\n",
              "  </thead>\n",
              "  <tbody>\n",
              "    <tr>\n",
              "      <th>0</th>\n",
              "      <td>NaN</td>\n",
              "      <td>NaN</td>\n",
              "      <td>18000</td>\n",
              "      <td>18000</td>\n",
              "      <td>18000.0</td>\n",
              "      <td>36 months</td>\n",
              "      <td>8.81%</td>\n",
              "      <td>570.81</td>\n",
              "      <td>A</td>\n",
              "      <td>A5</td>\n",
              "      <td>Sever</td>\n",
              "      <td>&lt; 1 year</td>\n",
              "      <td>RENT</td>\n",
              "      <td>40000.0</td>\n",
              "      <td>Source Verified</td>\n",
              "      <td>Dec-2018</td>\n",
              "      <td>Charged Off</td>\n",
              "      <td>n</td>\n",
              "      <td>NaN</td>\n",
              "      <td>NaN</td>\n",
              "      <td>debt_consolidation</td>\n",
              "      <td>Debt consolidation</td>\n",
              "      <td>100xx</td>\n",
              "      <td>NY</td>\n",
              "      <td>12.81</td>\n",
              "      <td>0</td>\n",
              "      <td>Apr-2014</td>\n",
              "      <td>0</td>\n",
              "      <td>NaN</td>\n",
              "      <td>NaN</td>\n",
              "      <td>15</td>\n",
              "      <td>0</td>\n",
              "      <td>16147</td>\n",
              "      <td>35.2%</td>\n",
              "      <td>21</td>\n",
              "      <td>w</td>\n",
              "      <td>0.00</td>\n",
              "      <td>0.00</td>\n",
              "      <td>6265.690000</td>\n",
              "      <td>6265.69</td>\n",
              "      <td>...</td>\n",
              "      <td>12.5</td>\n",
              "      <td>0</td>\n",
              "      <td>0</td>\n",
              "      <td>60900</td>\n",
              "      <td>28062</td>\n",
              "      <td>35800</td>\n",
              "      <td>15000</td>\n",
              "      <td>NaN</td>\n",
              "      <td>NaN</td>\n",
              "      <td>NaN</td>\n",
              "      <td>NaN</td>\n",
              "      <td>NaN</td>\n",
              "      <td>NaN</td>\n",
              "      <td>NaN</td>\n",
              "      <td>NaN</td>\n",
              "      <td>NaN</td>\n",
              "      <td>NaN</td>\n",
              "      <td>NaN</td>\n",
              "      <td>N</td>\n",
              "      <td>NaN</td>\n",
              "      <td>NaN</td>\n",
              "      <td>NaN</td>\n",
              "      <td>NaN</td>\n",
              "      <td>NaN</td>\n",
              "      <td>NaN</td>\n",
              "      <td>NaN</td>\n",
              "      <td>NaN</td>\n",
              "      <td>NaN</td>\n",
              "      <td>NaN</td>\n",
              "      <td>NaN</td>\n",
              "      <td>NaN</td>\n",
              "      <td>NaN</td>\n",
              "      <td>NaN</td>\n",
              "      <td>N</td>\n",
              "      <td>NaN</td>\n",
              "      <td>NaN</td>\n",
              "      <td>NaN</td>\n",
              "      <td>NaN</td>\n",
              "      <td>NaN</td>\n",
              "      <td>NaN</td>\n",
              "    </tr>\n",
              "    <tr>\n",
              "      <th>1</th>\n",
              "      <td>NaN</td>\n",
              "      <td>NaN</td>\n",
              "      <td>18500</td>\n",
              "      <td>18500</td>\n",
              "      <td>18500.0</td>\n",
              "      <td>60 months</td>\n",
              "      <td>12.98%</td>\n",
              "      <td>420.75</td>\n",
              "      <td>B</td>\n",
              "      <td>B5</td>\n",
              "      <td>Supply Chain Analyst</td>\n",
              "      <td>5 years</td>\n",
              "      <td>RENT</td>\n",
              "      <td>96500.0</td>\n",
              "      <td>Source Verified</td>\n",
              "      <td>Dec-2018</td>\n",
              "      <td>Current</td>\n",
              "      <td>n</td>\n",
              "      <td>NaN</td>\n",
              "      <td>NaN</td>\n",
              "      <td>credit_card</td>\n",
              "      <td>Credit card refinancing</td>\n",
              "      <td>554xx</td>\n",
              "      <td>MN</td>\n",
              "      <td>27.86</td>\n",
              "      <td>1</td>\n",
              "      <td>May-2009</td>\n",
              "      <td>0</td>\n",
              "      <td>7.0</td>\n",
              "      <td>NaN</td>\n",
              "      <td>19</td>\n",
              "      <td>0</td>\n",
              "      <td>19000</td>\n",
              "      <td>62.1%</td>\n",
              "      <td>38</td>\n",
              "      <td>w</td>\n",
              "      <td>14135.68</td>\n",
              "      <td>14135.68</td>\n",
              "      <td>7553.490000</td>\n",
              "      <td>7553.49</td>\n",
              "      <td>...</td>\n",
              "      <td>66.7</td>\n",
              "      <td>0</td>\n",
              "      <td>0</td>\n",
              "      <td>131337</td>\n",
              "      <td>81660</td>\n",
              "      <td>22900</td>\n",
              "      <td>100737</td>\n",
              "      <td>NaN</td>\n",
              "      <td>NaN</td>\n",
              "      <td>NaN</td>\n",
              "      <td>NaN</td>\n",
              "      <td>NaN</td>\n",
              "      <td>NaN</td>\n",
              "      <td>NaN</td>\n",
              "      <td>NaN</td>\n",
              "      <td>NaN</td>\n",
              "      <td>NaN</td>\n",
              "      <td>NaN</td>\n",
              "      <td>N</td>\n",
              "      <td>NaN</td>\n",
              "      <td>NaN</td>\n",
              "      <td>NaN</td>\n",
              "      <td>NaN</td>\n",
              "      <td>NaN</td>\n",
              "      <td>NaN</td>\n",
              "      <td>NaN</td>\n",
              "      <td>NaN</td>\n",
              "      <td>NaN</td>\n",
              "      <td>NaN</td>\n",
              "      <td>NaN</td>\n",
              "      <td>NaN</td>\n",
              "      <td>NaN</td>\n",
              "      <td>NaN</td>\n",
              "      <td>N</td>\n",
              "      <td>NaN</td>\n",
              "      <td>NaN</td>\n",
              "      <td>NaN</td>\n",
              "      <td>NaN</td>\n",
              "      <td>NaN</td>\n",
              "      <td>NaN</td>\n",
              "    </tr>\n",
              "    <tr>\n",
              "      <th>2</th>\n",
              "      <td>NaN</td>\n",
              "      <td>NaN</td>\n",
              "      <td>32000</td>\n",
              "      <td>32000</td>\n",
              "      <td>32000.0</td>\n",
              "      <td>60 months</td>\n",
              "      <td>14.47%</td>\n",
              "      <td>752.41</td>\n",
              "      <td>C</td>\n",
              "      <td>C2</td>\n",
              "      <td>Teacher</td>\n",
              "      <td>10+ years</td>\n",
              "      <td>MORTGAGE</td>\n",
              "      <td>110000.0</td>\n",
              "      <td>Source Verified</td>\n",
              "      <td>Dec-2018</td>\n",
              "      <td>Current</td>\n",
              "      <td>n</td>\n",
              "      <td>NaN</td>\n",
              "      <td>NaN</td>\n",
              "      <td>home_improvement</td>\n",
              "      <td>Home improvement</td>\n",
              "      <td>152xx</td>\n",
              "      <td>PA</td>\n",
              "      <td>26.11</td>\n",
              "      <td>0</td>\n",
              "      <td>Oct-2000</td>\n",
              "      <td>0</td>\n",
              "      <td>24.0</td>\n",
              "      <td>NaN</td>\n",
              "      <td>18</td>\n",
              "      <td>0</td>\n",
              "      <td>14833</td>\n",
              "      <td>43%</td>\n",
              "      <td>32</td>\n",
              "      <td>w</td>\n",
              "      <td>26017.15</td>\n",
              "      <td>26017.15</td>\n",
              "      <td>11247.560000</td>\n",
              "      <td>11247.56</td>\n",
              "      <td>...</td>\n",
              "      <td>12.5</td>\n",
              "      <td>0</td>\n",
              "      <td>0</td>\n",
              "      <td>94609</td>\n",
              "      <td>73873</td>\n",
              "      <td>26800</td>\n",
              "      <td>60109</td>\n",
              "      <td>NaN</td>\n",
              "      <td>NaN</td>\n",
              "      <td>NaN</td>\n",
              "      <td>NaN</td>\n",
              "      <td>NaN</td>\n",
              "      <td>NaN</td>\n",
              "      <td>NaN</td>\n",
              "      <td>NaN</td>\n",
              "      <td>NaN</td>\n",
              "      <td>NaN</td>\n",
              "      <td>NaN</td>\n",
              "      <td>N</td>\n",
              "      <td>CVD19SKIP</td>\n",
              "      <td>INCOMECURT</td>\n",
              "      <td>COMPLETE</td>\n",
              "      <td>2.0</td>\n",
              "      <td>0.0</td>\n",
              "      <td>Apr-2020</td>\n",
              "      <td>Jun-2020</td>\n",
              "      <td>Apr-2020</td>\n",
              "      <td>2.0</td>\n",
              "      <td>0.0</td>\n",
              "      <td>ACTIVE</td>\n",
              "      <td>627.45</td>\n",
              "      <td>26278.58</td>\n",
              "      <td>752.41</td>\n",
              "      <td>N</td>\n",
              "      <td>NaN</td>\n",
              "      <td>NaN</td>\n",
              "      <td>NaN</td>\n",
              "      <td>NaN</td>\n",
              "      <td>NaN</td>\n",
              "      <td>NaN</td>\n",
              "    </tr>\n",
              "    <tr>\n",
              "      <th>3</th>\n",
              "      <td>NaN</td>\n",
              "      <td>NaN</td>\n",
              "      <td>5000</td>\n",
              "      <td>5000</td>\n",
              "      <td>5000.0</td>\n",
              "      <td>36 months</td>\n",
              "      <td>17.97%</td>\n",
              "      <td>180.69</td>\n",
              "      <td>D</td>\n",
              "      <td>D1</td>\n",
              "      <td>Administrative</td>\n",
              "      <td>6 years</td>\n",
              "      <td>MORTGAGE</td>\n",
              "      <td>59280.0</td>\n",
              "      <td>Source Verified</td>\n",
              "      <td>Dec-2018</td>\n",
              "      <td>Fully Paid</td>\n",
              "      <td>n</td>\n",
              "      <td>NaN</td>\n",
              "      <td>NaN</td>\n",
              "      <td>debt_consolidation</td>\n",
              "      <td>Debt consolidation</td>\n",
              "      <td>490xx</td>\n",
              "      <td>MI</td>\n",
              "      <td>10.51</td>\n",
              "      <td>0</td>\n",
              "      <td>Apr-2011</td>\n",
              "      <td>0</td>\n",
              "      <td>NaN</td>\n",
              "      <td>NaN</td>\n",
              "      <td>8</td>\n",
              "      <td>0</td>\n",
              "      <td>4599</td>\n",
              "      <td>19.1%</td>\n",
              "      <td>13</td>\n",
              "      <td>w</td>\n",
              "      <td>0.00</td>\n",
              "      <td>0.00</td>\n",
              "      <td>5637.052785</td>\n",
              "      <td>5637.05</td>\n",
              "      <td>...</td>\n",
              "      <td>0.0</td>\n",
              "      <td>0</td>\n",
              "      <td>0</td>\n",
              "      <td>136927</td>\n",
              "      <td>11749</td>\n",
              "      <td>13800</td>\n",
              "      <td>10000</td>\n",
              "      <td>NaN</td>\n",
              "      <td>NaN</td>\n",
              "      <td>NaN</td>\n",
              "      <td>NaN</td>\n",
              "      <td>NaN</td>\n",
              "      <td>NaN</td>\n",
              "      <td>NaN</td>\n",
              "      <td>NaN</td>\n",
              "      <td>NaN</td>\n",
              "      <td>NaN</td>\n",
              "      <td>NaN</td>\n",
              "      <td>N</td>\n",
              "      <td>NaN</td>\n",
              "      <td>NaN</td>\n",
              "      <td>NaN</td>\n",
              "      <td>NaN</td>\n",
              "      <td>NaN</td>\n",
              "      <td>NaN</td>\n",
              "      <td>NaN</td>\n",
              "      <td>NaN</td>\n",
              "      <td>NaN</td>\n",
              "      <td>NaN</td>\n",
              "      <td>NaN</td>\n",
              "      <td>NaN</td>\n",
              "      <td>NaN</td>\n",
              "      <td>NaN</td>\n",
              "      <td>N</td>\n",
              "      <td>NaN</td>\n",
              "      <td>NaN</td>\n",
              "      <td>NaN</td>\n",
              "      <td>NaN</td>\n",
              "      <td>NaN</td>\n",
              "      <td>NaN</td>\n",
              "    </tr>\n",
              "    <tr>\n",
              "      <th>4</th>\n",
              "      <td>NaN</td>\n",
              "      <td>NaN</td>\n",
              "      <td>13000</td>\n",
              "      <td>13000</td>\n",
              "      <td>13000.0</td>\n",
              "      <td>36 months</td>\n",
              "      <td>23.40%</td>\n",
              "      <td>505.95</td>\n",
              "      <td>E</td>\n",
              "      <td>E1</td>\n",
              "      <td>Sale Representative</td>\n",
              "      <td>2 years</td>\n",
              "      <td>MORTGAGE</td>\n",
              "      <td>90000.0</td>\n",
              "      <td>Verified</td>\n",
              "      <td>Dec-2018</td>\n",
              "      <td>Current</td>\n",
              "      <td>n</td>\n",
              "      <td>NaN</td>\n",
              "      <td>NaN</td>\n",
              "      <td>other</td>\n",
              "      <td>Other</td>\n",
              "      <td>191xx</td>\n",
              "      <td>PA</td>\n",
              "      <td>39.73</td>\n",
              "      <td>0</td>\n",
              "      <td>May-2007</td>\n",
              "      <td>0</td>\n",
              "      <td>NaN</td>\n",
              "      <td>NaN</td>\n",
              "      <td>14</td>\n",
              "      <td>0</td>\n",
              "      <td>52013</td>\n",
              "      <td>83.1%</td>\n",
              "      <td>20</td>\n",
              "      <td>w</td>\n",
              "      <td>8968.74</td>\n",
              "      <td>8968.74</td>\n",
              "      <td>7057.950000</td>\n",
              "      <td>7057.95</td>\n",
              "      <td>...</td>\n",
              "      <td>66.7</td>\n",
              "      <td>0</td>\n",
              "      <td>0</td>\n",
              "      <td>137276</td>\n",
              "      <td>87876</td>\n",
              "      <td>58600</td>\n",
              "      <td>74676</td>\n",
              "      <td>NaN</td>\n",
              "      <td>NaN</td>\n",
              "      <td>NaN</td>\n",
              "      <td>NaN</td>\n",
              "      <td>NaN</td>\n",
              "      <td>NaN</td>\n",
              "      <td>NaN</td>\n",
              "      <td>NaN</td>\n",
              "      <td>NaN</td>\n",
              "      <td>NaN</td>\n",
              "      <td>NaN</td>\n",
              "      <td>Y</td>\n",
              "      <td>CVD19SKIP</td>\n",
              "      <td>INCOME_CURTAILMENT</td>\n",
              "      <td>ACTIVE</td>\n",
              "      <td>4.0</td>\n",
              "      <td>0.0</td>\n",
              "      <td>May-2020</td>\n",
              "      <td>Jul-2020</td>\n",
              "      <td>May-2020</td>\n",
              "      <td>4.0</td>\n",
              "      <td>0.0</td>\n",
              "      <td>ACTIVE</td>\n",
              "      <td>1086.68</td>\n",
              "      <td>9481.75</td>\n",
              "      <td>55.80</td>\n",
              "      <td>N</td>\n",
              "      <td>NaN</td>\n",
              "      <td>NaN</td>\n",
              "      <td>NaN</td>\n",
              "      <td>NaN</td>\n",
              "      <td>NaN</td>\n",
              "      <td>NaN</td>\n",
              "    </tr>\n",
              "  </tbody>\n",
              "</table>\n",
              "<p>5 rows × 144 columns</p>\n",
              "</div>"
            ],
            "text/plain": [
              "   id  member_id  ...  settlement_percentage  settlement_term\n",
              "0 NaN        NaN  ...                    NaN              NaN\n",
              "1 NaN        NaN  ...                    NaN              NaN\n",
              "2 NaN        NaN  ...                    NaN              NaN\n",
              "3 NaN        NaN  ...                    NaN              NaN\n",
              "4 NaN        NaN  ...                    NaN              NaN\n",
              "\n",
              "[5 rows x 144 columns]"
            ]
          },
          "metadata": {
            "tags": []
          },
          "execution_count": 20
        }
      ]
    },
    {
      "cell_type": "code",
      "metadata": {
        "id": "Ynj6j5X8PdlQ",
        "colab_type": "code",
        "colab": {
          "base_uri": "https://localhost:8080/",
          "height": 34
        },
        "outputId": "81da2e60-fd8a-4673-aeb8-451833ce0422"
      },
      "source": [
        "len(df['emp_title'].unique())"
      ],
      "execution_count": null,
      "outputs": [
        {
          "output_type": "execute_result",
          "data": {
            "text/plain": [
              "34902"
            ]
          },
          "metadata": {
            "tags": []
          },
          "execution_count": 21
        }
      ]
    },
    {
      "cell_type": "code",
      "metadata": {
        "id": "1JZ-DB8UVXl4",
        "colab_type": "code",
        "colab": {
          "base_uri": "https://localhost:8080/",
          "height": 34
        },
        "outputId": "6db3526b-c4c1-431d-eed3-f0656a2ae6b5"
      },
      "source": [
        "df['emp_title'].isnull().sum()"
      ],
      "execution_count": null,
      "outputs": [
        {
          "output_type": "execute_result",
          "data": {
            "text/plain": [
              "0"
            ]
          },
          "metadata": {
            "tags": []
          },
          "execution_count": 22
        }
      ]
    },
    {
      "cell_type": "markdown",
      "metadata": {
        "id": "VRriisjMPTMQ",
        "colab_type": "text"
      },
      "source": [
        "#Dates & Time"
      ]
    },
    {
      "cell_type": "code",
      "metadata": {
        "id": "8mSh_k8kHjF-",
        "colab_type": "code",
        "colab": {}
      },
      "source": [
        "#as a for loop\n",
        "mylist=[]\n",
        "for col in df.columns:\n",
        "  if col.endswith('_d'):\n",
        "    mylist.append(col)"
      ],
      "execution_count": 8,
      "outputs": []
    },
    {
      "cell_type": "code",
      "metadata": {
        "id": "6-apUdsXHz4B",
        "colab_type": "code",
        "colab": {
          "base_uri": "https://localhost:8080/",
          "height": 230
        },
        "outputId": "d354db6d-f12b-43db-85cd-3fb8b29b58a1"
      },
      "source": [
        "#same as above but as a list comprehension\n",
        "mycols = [col for col in df.columns if col.endswith('d')]\n",
        "print(mylist)\n",
        "print(df['issue_d'][:10])"
      ],
      "execution_count": 9,
      "outputs": [
        {
          "output_type": "stream",
          "text": [
            "['issue_d', 'last_pymnt_d', 'next_pymnt_d', 'last_credit_pull_d']\n",
            "0    Dec-2018\n",
            "1    Dec-2018\n",
            "2    Dec-2018\n",
            "3    Dec-2018\n",
            "4    Dec-2018\n",
            "5    Dec-2018\n",
            "6    Dec-2018\n",
            "7    Dec-2018\n",
            "8    Dec-2018\n",
            "9    Dec-2018\n",
            "Name: issue_d, dtype: object\n"
          ],
          "name": "stdout"
        }
      ]
    },
    {
      "cell_type": "code",
      "metadata": {
        "id": "l9mexwA-IBta",
        "colab_type": "code",
        "colab": {
          "base_uri": "https://localhost:8080/",
          "height": 34
        },
        "outputId": "a96fcada-f3d9-458f-cf17-89dae9f0f172"
      },
      "source": [
        "df['issue_d'] = pd.to_datetime(df['issue_d'], infer_datetime_format=True)\n",
        "df['issue_d'].iloc[0]"
      ],
      "execution_count": 10,
      "outputs": [
        {
          "output_type": "execute_result",
          "data": {
            "text/plain": [
              "Timestamp('2018-12-01 00:00:00')"
            ]
          },
          "metadata": {
            "tags": []
          },
          "execution_count": 10
        }
      ]
    },
    {
      "cell_type": "code",
      "metadata": {
        "id": "g-1BoLuQJcmW",
        "colab_type": "code",
        "colab": {
          "base_uri": "https://localhost:8080/",
          "height": 70
        },
        "outputId": "4964a49e-a535-4daa-9437-4a9e3c27ef69"
      },
      "source": [
        "df['issue_d'].head().values"
      ],
      "execution_count": 11,
      "outputs": [
        {
          "output_type": "execute_result",
          "data": {
            "text/plain": [
              "array(['2018-12-01T00:00:00.000000000', '2018-12-01T00:00:00.000000000',\n",
              "       '2018-12-01T00:00:00.000000000', '2018-12-01T00:00:00.000000000',\n",
              "       '2018-12-01T00:00:00.000000000'], dtype='datetime64[ns]')"
            ]
          },
          "metadata": {
            "tags": []
          },
          "execution_count": 11
        }
      ]
    },
    {
      "cell_type": "code",
      "metadata": {
        "id": "ZoTVhcIvJcUX",
        "colab_type": "code",
        "colab": {
          "base_uri": "https://localhost:8080/",
          "height": 197
        },
        "outputId": "4b931d00-dcba-40df-dfc7-05a6ea996757"
      },
      "source": [
        "df=df[mycols].copy()\n",
        "df['year']=df['issue_d'].dt.year\n",
        "df.head()"
      ],
      "execution_count": 12,
      "outputs": [
        {
          "output_type": "execute_result",
          "data": {
            "text/html": [
              "<div>\n",
              "<style scoped>\n",
              "    .dataframe tbody tr th:only-of-type {\n",
              "        vertical-align: middle;\n",
              "    }\n",
              "\n",
              "    .dataframe tbody tr th {\n",
              "        vertical-align: top;\n",
              "    }\n",
              "\n",
              "    .dataframe thead th {\n",
              "        text-align: right;\n",
              "    }\n",
              "</style>\n",
              "<table border=\"1\" class=\"dataframe\">\n",
              "  <thead>\n",
              "    <tr style=\"text-align: right;\">\n",
              "      <th></th>\n",
              "      <th>id</th>\n",
              "      <th>member_id</th>\n",
              "      <th>issue_d</th>\n",
              "      <th>mths_since_last_record</th>\n",
              "      <th>last_pymnt_d</th>\n",
              "      <th>next_pymnt_d</th>\n",
              "      <th>last_credit_pull_d</th>\n",
              "      <th>collections_12_mths_ex_med</th>\n",
              "      <th>num_accts_ever_120_pd</th>\n",
              "      <th>num_tl_30dpd</th>\n",
              "      <th>sec_app_collections_12_mths_ex_med</th>\n",
              "      <th>hardship_dpd</th>\n",
              "      <th>year</th>\n",
              "    </tr>\n",
              "  </thead>\n",
              "  <tbody>\n",
              "    <tr>\n",
              "      <th>0</th>\n",
              "      <td>NaN</td>\n",
              "      <td>NaN</td>\n",
              "      <td>2018-12-01</td>\n",
              "      <td>NaN</td>\n",
              "      <td>Oct-2019</td>\n",
              "      <td>NaN</td>\n",
              "      <td>May-2020</td>\n",
              "      <td>0</td>\n",
              "      <td>0</td>\n",
              "      <td>0</td>\n",
              "      <td>NaN</td>\n",
              "      <td>NaN</td>\n",
              "      <td>2018</td>\n",
              "    </tr>\n",
              "    <tr>\n",
              "      <th>1</th>\n",
              "      <td>NaN</td>\n",
              "      <td>NaN</td>\n",
              "      <td>2018-12-01</td>\n",
              "      <td>NaN</td>\n",
              "      <td>Jun-2020</td>\n",
              "      <td>Jul-2020</td>\n",
              "      <td>Jun-2020</td>\n",
              "      <td>0</td>\n",
              "      <td>0</td>\n",
              "      <td>0</td>\n",
              "      <td>NaN</td>\n",
              "      <td>NaN</td>\n",
              "      <td>2018</td>\n",
              "    </tr>\n",
              "    <tr>\n",
              "      <th>2</th>\n",
              "      <td>NaN</td>\n",
              "      <td>NaN</td>\n",
              "      <td>2018-12-01</td>\n",
              "      <td>NaN</td>\n",
              "      <td>May-2020</td>\n",
              "      <td>Jul-2020</td>\n",
              "      <td>Jun-2020</td>\n",
              "      <td>0</td>\n",
              "      <td>2</td>\n",
              "      <td>0</td>\n",
              "      <td>NaN</td>\n",
              "      <td>0.0</td>\n",
              "      <td>2018</td>\n",
              "    </tr>\n",
              "    <tr>\n",
              "      <th>3</th>\n",
              "      <td>NaN</td>\n",
              "      <td>NaN</td>\n",
              "      <td>2018-12-01</td>\n",
              "      <td>NaN</td>\n",
              "      <td>Oct-2019</td>\n",
              "      <td>NaN</td>\n",
              "      <td>Jun-2020</td>\n",
              "      <td>0</td>\n",
              "      <td>0</td>\n",
              "      <td>0</td>\n",
              "      <td>NaN</td>\n",
              "      <td>NaN</td>\n",
              "      <td>2018</td>\n",
              "    </tr>\n",
              "    <tr>\n",
              "      <th>4</th>\n",
              "      <td>NaN</td>\n",
              "      <td>NaN</td>\n",
              "      <td>2018-12-01</td>\n",
              "      <td>NaN</td>\n",
              "      <td>Jun-2020</td>\n",
              "      <td>Aug-2020</td>\n",
              "      <td>Jun-2020</td>\n",
              "      <td>0</td>\n",
              "      <td>0</td>\n",
              "      <td>0</td>\n",
              "      <td>NaN</td>\n",
              "      <td>0.0</td>\n",
              "      <td>2018</td>\n",
              "    </tr>\n",
              "  </tbody>\n",
              "</table>\n",
              "</div>"
            ],
            "text/plain": [
              "   id  member_id  ... hardship_dpd  year\n",
              "0 NaN        NaN  ...          NaN  2018\n",
              "1 NaN        NaN  ...          NaN  2018\n",
              "2 NaN        NaN  ...          0.0  2018\n",
              "3 NaN        NaN  ...          NaN  2018\n",
              "4 NaN        NaN  ...          0.0  2018\n",
              "\n",
              "[5 rows x 13 columns]"
            ]
          },
          "metadata": {
            "tags": []
          },
          "execution_count": 12
        }
      ]
    },
    {
      "cell_type": "code",
      "metadata": {
        "id": "avcMEzagJcD2",
        "colab_type": "code",
        "colab": {
          "base_uri": "https://localhost:8080/",
          "height": 301
        },
        "outputId": "43744a5a-d31f-4e56-d786-4e5721bd2224"
      },
      "source": [
        "\n",
        "df['month']=df['issue_d'].dt.month\n",
        "df.head()"
      ],
      "execution_count": 13,
      "outputs": [
        {
          "output_type": "execute_result",
          "data": {
            "text/html": [
              "<div>\n",
              "<style scoped>\n",
              "    .dataframe tbody tr th:only-of-type {\n",
              "        vertical-align: middle;\n",
              "    }\n",
              "\n",
              "    .dataframe tbody tr th {\n",
              "        vertical-align: top;\n",
              "    }\n",
              "\n",
              "    .dataframe thead th {\n",
              "        text-align: right;\n",
              "    }\n",
              "</style>\n",
              "<table border=\"1\" class=\"dataframe\">\n",
              "  <thead>\n",
              "    <tr style=\"text-align: right;\">\n",
              "      <th></th>\n",
              "      <th>id</th>\n",
              "      <th>member_id</th>\n",
              "      <th>issue_d</th>\n",
              "      <th>mths_since_last_record</th>\n",
              "      <th>last_pymnt_d</th>\n",
              "      <th>next_pymnt_d</th>\n",
              "      <th>last_credit_pull_d</th>\n",
              "      <th>collections_12_mths_ex_med</th>\n",
              "      <th>num_accts_ever_120_pd</th>\n",
              "      <th>num_tl_30dpd</th>\n",
              "      <th>sec_app_collections_12_mths_ex_med</th>\n",
              "      <th>hardship_dpd</th>\n",
              "      <th>year</th>\n",
              "      <th>month</th>\n",
              "    </tr>\n",
              "  </thead>\n",
              "  <tbody>\n",
              "    <tr>\n",
              "      <th>0</th>\n",
              "      <td>NaN</td>\n",
              "      <td>NaN</td>\n",
              "      <td>2018-12-01</td>\n",
              "      <td>NaN</td>\n",
              "      <td>Oct-2019</td>\n",
              "      <td>NaN</td>\n",
              "      <td>May-2020</td>\n",
              "      <td>0</td>\n",
              "      <td>0</td>\n",
              "      <td>0</td>\n",
              "      <td>NaN</td>\n",
              "      <td>NaN</td>\n",
              "      <td>2018</td>\n",
              "      <td>12</td>\n",
              "    </tr>\n",
              "    <tr>\n",
              "      <th>1</th>\n",
              "      <td>NaN</td>\n",
              "      <td>NaN</td>\n",
              "      <td>2018-12-01</td>\n",
              "      <td>NaN</td>\n",
              "      <td>Jun-2020</td>\n",
              "      <td>Jul-2020</td>\n",
              "      <td>Jun-2020</td>\n",
              "      <td>0</td>\n",
              "      <td>0</td>\n",
              "      <td>0</td>\n",
              "      <td>NaN</td>\n",
              "      <td>NaN</td>\n",
              "      <td>2018</td>\n",
              "      <td>12</td>\n",
              "    </tr>\n",
              "    <tr>\n",
              "      <th>2</th>\n",
              "      <td>NaN</td>\n",
              "      <td>NaN</td>\n",
              "      <td>2018-12-01</td>\n",
              "      <td>NaN</td>\n",
              "      <td>May-2020</td>\n",
              "      <td>Jul-2020</td>\n",
              "      <td>Jun-2020</td>\n",
              "      <td>0</td>\n",
              "      <td>2</td>\n",
              "      <td>0</td>\n",
              "      <td>NaN</td>\n",
              "      <td>0.0</td>\n",
              "      <td>2018</td>\n",
              "      <td>12</td>\n",
              "    </tr>\n",
              "    <tr>\n",
              "      <th>3</th>\n",
              "      <td>NaN</td>\n",
              "      <td>NaN</td>\n",
              "      <td>2018-12-01</td>\n",
              "      <td>NaN</td>\n",
              "      <td>Oct-2019</td>\n",
              "      <td>NaN</td>\n",
              "      <td>Jun-2020</td>\n",
              "      <td>0</td>\n",
              "      <td>0</td>\n",
              "      <td>0</td>\n",
              "      <td>NaN</td>\n",
              "      <td>NaN</td>\n",
              "      <td>2018</td>\n",
              "      <td>12</td>\n",
              "    </tr>\n",
              "    <tr>\n",
              "      <th>4</th>\n",
              "      <td>NaN</td>\n",
              "      <td>NaN</td>\n",
              "      <td>2018-12-01</td>\n",
              "      <td>NaN</td>\n",
              "      <td>Jun-2020</td>\n",
              "      <td>Aug-2020</td>\n",
              "      <td>Jun-2020</td>\n",
              "      <td>0</td>\n",
              "      <td>0</td>\n",
              "      <td>0</td>\n",
              "      <td>NaN</td>\n",
              "      <td>0.0</td>\n",
              "      <td>2018</td>\n",
              "      <td>12</td>\n",
              "    </tr>\n",
              "  </tbody>\n",
              "</table>\n",
              "</div>"
            ],
            "text/plain": [
              "   id  member_id    issue_d  ...  hardship_dpd  year month\n",
              "0 NaN        NaN 2018-12-01  ...           NaN  2018    12\n",
              "1 NaN        NaN 2018-12-01  ...           NaN  2018    12\n",
              "2 NaN        NaN 2018-12-01  ...           0.0  2018    12\n",
              "3 NaN        NaN 2018-12-01  ...           NaN  2018    12\n",
              "4 NaN        NaN 2018-12-01  ...           0.0  2018    12\n",
              "\n",
              "[5 rows x 14 columns]"
            ]
          },
          "metadata": {
            "tags": []
          },
          "execution_count": 13
        }
      ]
    },
    {
      "cell_type": "code",
      "metadata": {
        "id": "h8MEmAR4Jb2R",
        "colab_type": "code",
        "colab": {
          "base_uri": "https://localhost:8080/",
          "height": 70
        },
        "outputId": "b68bb4d8-0aea-4419-db1a-907730ffa759"
      },
      "source": [
        "df.dtypes[-2:]"
      ],
      "execution_count": 14,
      "outputs": [
        {
          "output_type": "execute_result",
          "data": {
            "text/plain": [
              "year     int64\n",
              "month    int64\n",
              "dtype: object"
            ]
          },
          "metadata": {
            "tags": []
          },
          "execution_count": 14
        }
      ]
    },
    {
      "cell_type": "code",
      "metadata": {
        "id": "SEapFix7Lz9M",
        "colab_type": "code",
        "colab": {
          "base_uri": "https://localhost:8080/",
          "height": 301
        },
        "outputId": "c1f2d194-a6c2-4b29-ff06-e70b4ef0d14c"
      },
      "source": [
        "df['last_credit_pull_d']=pd.to_datetime(df['last_credit_pull_d'], infer_datetime_format=True)\n",
        "df.head()"
      ],
      "execution_count": 30,
      "outputs": [
        {
          "output_type": "execute_result",
          "data": {
            "text/html": [
              "<div>\n",
              "<style scoped>\n",
              "    .dataframe tbody tr th:only-of-type {\n",
              "        vertical-align: middle;\n",
              "    }\n",
              "\n",
              "    .dataframe tbody tr th {\n",
              "        vertical-align: top;\n",
              "    }\n",
              "\n",
              "    .dataframe thead th {\n",
              "        text-align: right;\n",
              "    }\n",
              "</style>\n",
              "<table border=\"1\" class=\"dataframe\">\n",
              "  <thead>\n",
              "    <tr style=\"text-align: right;\">\n",
              "      <th></th>\n",
              "      <th>id</th>\n",
              "      <th>member_id</th>\n",
              "      <th>issue_d</th>\n",
              "      <th>mths_since_last_record</th>\n",
              "      <th>last_pymnt_d</th>\n",
              "      <th>next_pymnt_d</th>\n",
              "      <th>last_credit_pull_d</th>\n",
              "      <th>collections_12_mths_ex_med</th>\n",
              "      <th>num_accts_ever_120_pd</th>\n",
              "      <th>num_tl_30dpd</th>\n",
              "      <th>sec_app_collections_12_mths_ex_med</th>\n",
              "      <th>hardship_dpd</th>\n",
              "      <th>year</th>\n",
              "      <th>month</th>\n",
              "      <th>day_diff</th>\n",
              "    </tr>\n",
              "  </thead>\n",
              "  <tbody>\n",
              "    <tr>\n",
              "      <th>0</th>\n",
              "      <td>NaN</td>\n",
              "      <td>NaN</td>\n",
              "      <td>2018-12-01</td>\n",
              "      <td>NaN</td>\n",
              "      <td>Oct-2019</td>\n",
              "      <td>NaN</td>\n",
              "      <td>2020-05-01</td>\n",
              "      <td>0</td>\n",
              "      <td>0</td>\n",
              "      <td>0</td>\n",
              "      <td>NaN</td>\n",
              "      <td>NaN</td>\n",
              "      <td>2018</td>\n",
              "      <td>12</td>\n",
              "      <td>517</td>\n",
              "    </tr>\n",
              "    <tr>\n",
              "      <th>1</th>\n",
              "      <td>NaN</td>\n",
              "      <td>NaN</td>\n",
              "      <td>2018-12-01</td>\n",
              "      <td>NaN</td>\n",
              "      <td>Jun-2020</td>\n",
              "      <td>Jul-2020</td>\n",
              "      <td>2020-06-01</td>\n",
              "      <td>0</td>\n",
              "      <td>0</td>\n",
              "      <td>0</td>\n",
              "      <td>NaN</td>\n",
              "      <td>NaN</td>\n",
              "      <td>2018</td>\n",
              "      <td>12</td>\n",
              "      <td>548</td>\n",
              "    </tr>\n",
              "    <tr>\n",
              "      <th>2</th>\n",
              "      <td>NaN</td>\n",
              "      <td>NaN</td>\n",
              "      <td>2018-12-01</td>\n",
              "      <td>NaN</td>\n",
              "      <td>May-2020</td>\n",
              "      <td>Jul-2020</td>\n",
              "      <td>2020-06-01</td>\n",
              "      <td>0</td>\n",
              "      <td>2</td>\n",
              "      <td>0</td>\n",
              "      <td>NaN</td>\n",
              "      <td>0.0</td>\n",
              "      <td>2018</td>\n",
              "      <td>12</td>\n",
              "      <td>548</td>\n",
              "    </tr>\n",
              "    <tr>\n",
              "      <th>3</th>\n",
              "      <td>NaN</td>\n",
              "      <td>NaN</td>\n",
              "      <td>2018-12-01</td>\n",
              "      <td>NaN</td>\n",
              "      <td>Oct-2019</td>\n",
              "      <td>NaN</td>\n",
              "      <td>2020-06-01</td>\n",
              "      <td>0</td>\n",
              "      <td>0</td>\n",
              "      <td>0</td>\n",
              "      <td>NaN</td>\n",
              "      <td>NaN</td>\n",
              "      <td>2018</td>\n",
              "      <td>12</td>\n",
              "      <td>548</td>\n",
              "    </tr>\n",
              "    <tr>\n",
              "      <th>4</th>\n",
              "      <td>NaN</td>\n",
              "      <td>NaN</td>\n",
              "      <td>2018-12-01</td>\n",
              "      <td>NaN</td>\n",
              "      <td>Jun-2020</td>\n",
              "      <td>Aug-2020</td>\n",
              "      <td>2020-06-01</td>\n",
              "      <td>0</td>\n",
              "      <td>0</td>\n",
              "      <td>0</td>\n",
              "      <td>NaN</td>\n",
              "      <td>0.0</td>\n",
              "      <td>2018</td>\n",
              "      <td>12</td>\n",
              "      <td>548</td>\n",
              "    </tr>\n",
              "  </tbody>\n",
              "</table>\n",
              "</div>"
            ],
            "text/plain": [
              "   id  member_id    issue_d  ...  year month day_diff\n",
              "0 NaN        NaN 2018-12-01  ...  2018    12      517\n",
              "1 NaN        NaN 2018-12-01  ...  2018    12      548\n",
              "2 NaN        NaN 2018-12-01  ...  2018    12      548\n",
              "3 NaN        NaN 2018-12-01  ...  2018    12      548\n",
              "4 NaN        NaN 2018-12-01  ...  2018    12      548\n",
              "\n",
              "[5 rows x 15 columns]"
            ]
          },
          "metadata": {
            "tags": []
          },
          "execution_count": 30
        }
      ]
    },
    {
      "cell_type": "code",
      "metadata": {
        "id": "t63YJiLMLzud",
        "colab_type": "code",
        "colab": {
          "base_uri": "https://localhost:8080/",
          "height": 230
        },
        "outputId": "dc15c237-854a-47f6-cbdf-0d9b3671d0a3"
      },
      "source": [
        "df['last_credit_pull_d'] - df['issue_d']"
      ],
      "execution_count": 16,
      "outputs": [
        {
          "output_type": "execute_result",
          "data": {
            "text/plain": [
              "0        517 days\n",
              "1        548 days\n",
              "2        548 days\n",
              "3        548 days\n",
              "4        548 days\n",
              "           ...   \n",
              "128407    31 days\n",
              "128408   609 days\n",
              "128409   609 days\n",
              "128410   609 days\n",
              "128411   609 days\n",
              "Length: 128412, dtype: timedelta64[ns]"
            ]
          },
          "metadata": {
            "tags": []
          },
          "execution_count": 16
        }
      ]
    },
    {
      "cell_type": "code",
      "metadata": {
        "id": "c3B655jtM-hj",
        "colab_type": "code",
        "colab": {}
      },
      "source": [
        "\n",
        "df['day_diff']= (df['last_credit_pull_d'] - df['issue_d']).dt.days\n",
        "df['day_diff'] = df['day_diff'].fillna(0)\n",
        "df['day_diff'] = df['day_diff'].astype(int)"
      ],
      "execution_count": 29,
      "outputs": []
    },
    {
      "cell_type": "code",
      "metadata": {
        "id": "MS0ircPG-wtf",
        "colab_type": "code",
        "colab": {
          "base_uri": "https://localhost:8080/",
          "height": 727
        },
        "outputId": "9dbdf9cf-1adf-407c-e439-a1a621a3627c"
      },
      "source": [
        "df['day_diff'].value_counts()"
      ],
      "execution_count": 31,
      "outputs": [
        {
          "output_type": "execute_result",
          "data": {
            "text/plain": [
              " 609    35651\n",
              " 578    34316\n",
              " 548    33160\n",
              " 517     3438\n",
              " 396     1923\n",
              " 365     1845\n",
              " 304     1415\n",
              " 456     1413\n",
              " 335     1406\n",
              " 457     1403\n",
              " 486     1386\n",
              " 426     1146\n",
              " 212      928\n",
              " 273      872\n",
              " 547      841\n",
              " 487      797\n",
              " 243      665\n",
              " 151      589\n",
              " 334      521\n",
              " 182      462\n",
              " 0        461\n",
              " 488      455\n",
              " 274      433\n",
              " 242      394\n",
              " 427      352\n",
              " 395      287\n",
              " 92       264\n",
              " 181      254\n",
              " 61       205\n",
              " 31       201\n",
              " 121      181\n",
              " 120      170\n",
              " 123      139\n",
              " 90       129\n",
              " 62       124\n",
              " 30        85\n",
              "-30        68\n",
              "-31        32\n",
              "-61         1\n",
              "Name: day_diff, dtype: int64"
            ]
          },
          "metadata": {
            "tags": []
          },
          "execution_count": 31
        }
      ]
    },
    {
      "cell_type": "markdown",
      "metadata": {
        "colab_type": "text",
        "id": "L8k0LiHmo5EU"
      },
      "source": [
        "# Stretch Goals\n",
        "\n",
        "You can do more with the LendingClub or Instacart datasets.\n",
        "\n",
        "LendingClub options:\n",
        "- There's one other column in the dataframe with percent signs. Remove them and convert to floats. You'll need to handle missing values.\n",
        "- Modify the `emp_title` column to replace titles with 'Other' if the title is not in the top 20. \n",
        "- Take initiatve and work on your own ideas!\n",
        "\n",
        "Instacart options:\n",
        "- Read [Instacart Market Basket Analysis, Winner's Interview: 2nd place, Kazuki Onodera](http://blog.kaggle.com/2017/09/21/instacart-market-basket-analysis-winners-interview-2nd-place-kazuki-onodera/), especially the **Feature Engineering** section. (Can you choose one feature from his bulleted lists, and try to engineer it with pandas code?)\n",
        "- Read and replicate parts of [Simple Exploration Notebook - Instacart](https://www.kaggle.com/sudalairajkumar/simple-exploration-notebook-instacart). (It's the Python Notebook with the most upvotes for this Kaggle competition.)\n",
        "- Take initiative and work on your own ideas!"
      ]
    },
    {
      "cell_type": "markdown",
      "metadata": {
        "colab_type": "text",
        "id": "0_7PXF7lpEXg"
      },
      "source": [
        "You can uncomment and run the cells below to re-download and extract the Instacart data"
      ]
    },
    {
      "cell_type": "code",
      "metadata": {
        "id": "urIePNa0yNG6",
        "colab_type": "code",
        "colab": {}
      },
      "source": [
        "# !wget https://s3.amazonaws.com/instacart-datasets/instacart_online_grocery_shopping_2017_05_01.tar.gz"
      ],
      "execution_count": null,
      "outputs": []
    },
    {
      "cell_type": "code",
      "metadata": {
        "id": "X9zEyu-uyNG8",
        "colab_type": "code",
        "colab": {}
      },
      "source": [
        "# !tar --gunzip --extract --verbose --file=instacart_online_grocery_shopping_2017_05_01.tar.gz"
      ],
      "execution_count": null,
      "outputs": []
    },
    {
      "cell_type": "code",
      "metadata": {
        "id": "Y3IqrhlpyNG-",
        "colab_type": "code",
        "colab": {}
      },
      "source": [
        "# %cd instacart_2017_05_01"
      ],
      "execution_count": null,
      "outputs": []
    }
  ]
}