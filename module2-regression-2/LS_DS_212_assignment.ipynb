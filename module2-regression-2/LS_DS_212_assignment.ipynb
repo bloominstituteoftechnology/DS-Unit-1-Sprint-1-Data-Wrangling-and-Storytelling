{
  "nbformat": 4,
  "nbformat_minor": 0,
  "metadata": {
    "kernelspec": {
      "display_name": "Python 3",
      "language": "python",
      "name": "python3"
    },
    "language_info": {
      "codemirror_mode": {
        "name": "ipython",
        "version": 3
      },
      "file_extension": ".py",
      "mimetype": "text/x-python",
      "name": "python",
      "nbconvert_exporter": "python",
      "pygments_lexer": "ipython3",
      "version": "3.7.3"
    },
    "colab": {
      "name": "LS_DS_212_assignment.ipynb",
      "provenance": [],
      "collapsed_sections": [],
      "include_colab_link": true
    }
  },
  "cells": [
    {
      "cell_type": "markdown",
      "metadata": {
        "id": "view-in-github",
        "colab_type": "text"
      },
      "source": [
        "<a href=\"https://colab.research.google.com/github/jasimrashid/DS-Unit-1-Sprint-1-Data-Wrangling-and-Storytelling/blob/master/module2-regression-2/LS_DS_212_assignment.ipynb\" target=\"_parent\"><img src=\"https://colab.research.google.com/assets/colab-badge.svg\" alt=\"Open In Colab\"/></a>"
      ]
    },
    {
      "cell_type": "markdown",
      "metadata": {
        "id": "DST64EiEjyMz",
        "colab_type": "text"
      },
      "source": [
        "Lambda School Data Science\n",
        "\n",
        "*Unit 2, Sprint 1, Module 2*\n",
        "\n",
        "---"
      ]
    },
    {
      "cell_type": "markdown",
      "metadata": {
        "colab_type": "text",
        "id": "7IXUfiQ2UKj6"
      },
      "source": [
        "# Regression 2\n",
        "\n",
        "## Assignment\n",
        "\n",
        "You'll continue to **predict how much it costs to rent an apartment in NYC,** using the dataset from renthop.com.\n",
        "\n",
        "- [ ] Do train/test split. Use data from April & May 2016 to train. Use data from June 2016 to test.\n",
        "- [ ] Engineer at least two new features. (See below for explanation & ideas.)\n",
        "- [ ] Fit a linear regression model with at least two features.\n",
        "- [ ] Get the model's coefficients and intercept.\n",
        "- [ ] Get regression metrics RMSE, MAE, and $R^2$, for both the train and test data.\n",
        "- [ ] What's the best test MAE you can get? Share your score and features used with your cohort on Slack!\n",
        "- [ ] As always, commit your notebook to your fork of the GitHub repo.\n",
        "\n",
        "\n",
        "#### [Feature Engineering](https://en.wikipedia.org/wiki/Feature_engineering)\n",
        "\n",
        "> \"Some machine learning projects succeed and some fail. What makes the difference? Easily the most important factor is the features used.\" — Pedro Domingos, [\"A Few Useful Things to Know about Machine Learning\"](https://homes.cs.washington.edu/~pedrod/papers/cacm12.pdf)\n",
        "\n",
        "> \"Coming up with features is difficult, time-consuming, requires expert knowledge. 'Applied machine learning' is basically feature engineering.\" — Andrew Ng, [Machine Learning and AI via Brain simulations](https://forum.stanford.edu/events/2011/2011slides/plenary/2011plenaryNg.pdf) \n",
        "\n",
        "> Feature engineering is the process of using domain knowledge of the data to create features that make machine learning algorithms work. \n",
        "\n",
        "#### Feature Ideas\n",
        "- Does the apartment have a description?\n",
        "- How long is the description?\n",
        "- How many total perks does each apartment have?\n",
        "- Are cats _or_ dogs allowed?\n",
        "- Are cats _and_ dogs allowed?\n",
        "- Total number of rooms (beds + baths)\n",
        "- Ratio of beds to baths\n",
        "- What's the neighborhood, based on address or latitude & longitude?\n",
        "\n",
        "## Stretch Goals\n",
        "- [ ] If you want more math, skim [_An Introduction to Statistical Learning_](http://faculty.marshall.usc.edu/gareth-james/ISL/ISLR%20Seventh%20Printing.pdf),  Chapter 3.1, Simple Linear Regression, & Chapter 3.2, Multiple Linear Regression\n",
        "- [ ] If you want more introduction, watch [Brandon Foltz, Statistics 101: Simple Linear Regression](https://www.youtube.com/watch?v=ZkjP5RJLQF4)\n",
        "(20 minutes, over 1 million views)\n",
        "- [ ] Add your own stretch goal(s) !"
      ]
    },
    {
      "cell_type": "code",
      "metadata": {
        "colab_type": "code",
        "id": "o9eSnDYhUGD7",
        "colab": {}
      },
      "source": [
        "%%capture\n",
        "import sys\n",
        "\n",
        "# If you're on Colab:\n",
        "if 'google.colab' in sys.modules:\n",
        "    DATA_PATH = 'https://raw.githubusercontent.com/LambdaSchool/DS-Unit-2-Applied-Modeling/master/data/'\n",
        "    !pip install category_encoders==2.*\n",
        "\n",
        "# If you're working locally:\n",
        "else:\n",
        "    DATA_PATH = '../data/'\n",
        "    \n",
        "# Ignore this Numpy warning when using Plotly Express:\n",
        "# FutureWarning: Method .ptp is deprecated and will be removed in a future version. Use numpy.ptp instead.\n",
        "import warnings\n",
        "warnings.filterwarnings(action='ignore', category=FutureWarning, module='numpy')"
      ],
      "execution_count": 0,
      "outputs": []
    },
    {
      "cell_type": "code",
      "metadata": {
        "id": "EnW79jd27SOZ",
        "colab_type": "code",
        "colab": {}
      },
      "source": [
        "# import pandas as pd\n",
        "# from google.colab import files\n",
        "# uploaded = files.upload()\n",
        "\n",
        "# neighborhoods = pd.read_csv('neighborhoods-coordinates.csv',sep=',')\n",
        "# neighborhoods.head()"
      ],
      "execution_count": 0,
      "outputs": []
    },
    {
      "cell_type": "code",
      "metadata": {
        "colab_type": "code",
        "id": "cvrw-T3bZOuW",
        "colab": {}
      },
      "source": [
        "import numpy as np\n",
        "import pandas as pd\n",
        "\n",
        "# Read New York City apartment rental listing data\n",
        "df = pd.read_csv(DATA_PATH+'apartments/renthop-nyc.csv')\n",
        "assert df.shape == (49352, 34)\n",
        "\n",
        "# Remove the most extreme 1% prices,\n",
        "# the most extreme .1% latitudes, &\n",
        "# the most extreme .1% longitudes\n",
        "df = df[(df['price'] >= np.percentile(df['price'], 0.5)) & \n",
        "        (df['price'] <= np.percentile(df['price'], 99.5)) & \n",
        "        (df['latitude'] >= np.percentile(df['latitude'], 0.05)) & \n",
        "        (df['latitude'] < np.percentile(df['latitude'], 99.95)) &\n",
        "        (df['longitude'] >= np.percentile(df['longitude'], 0.05)) & \n",
        "        (df['longitude'] <= np.percentile(df['longitude'], 99.95))]"
      ],
      "execution_count": 0,
      "outputs": []
    },
    {
      "cell_type": "code",
      "metadata": {
        "id": "4-f9sP6vlGwa",
        "colab_type": "code",
        "outputId": "676a7171-678b-4ec1-9445-47519f92f72c",
        "colab": {
          "base_uri": "https://localhost:8080/",
          "height": 163
        }
      },
      "source": [
        "df.columns[]"
      ],
      "execution_count": 4,
      "outputs": [
        {
          "output_type": "execute_result",
          "data": {
            "text/plain": [
              "Index(['bathrooms', 'bedrooms', 'created', 'description', 'display_address',\n",
              "       'latitude', 'longitude', 'price', 'street_address', 'interest_level',\n",
              "       'elevator', 'cats_allowed', 'hardwood_floors', 'dogs_allowed',\n",
              "       'doorman', 'dishwasher', 'no_fee', 'laundry_in_building',\n",
              "       'fitness_center', 'pre-war', 'laundry_in_unit', 'roof_deck',\n",
              "       'outdoor_space', 'dining_room', 'high_speed_internet', 'balcony',\n",
              "       'swimming_pool', 'new_construction', 'terrace', 'exclusive', 'loft',\n",
              "       'garden_patio', 'wheelchair_access', 'common_outdoor_space'],\n",
              "      dtype='object')"
            ]
          },
          "metadata": {
            "tags": []
          },
          "execution_count": 4
        }
      ]
    },
    {
      "cell_type": "markdown",
      "metadata": {
        "id": "c2FlcoJFlkPC",
        "colab_type": "text"
      },
      "source": [
        "**1.** Test train split"
      ]
    },
    {
      "cell_type": "code",
      "metadata": {
        "id": "qYKkcwFDnAV-",
        "colab_type": "code",
        "outputId": "d9d528f3-ca25-4a5b-80ef-d0e78b07584d",
        "colab": {
          "base_uri": "https://localhost:8080/",
          "height": 33
        }
      },
      "source": [
        "train = df[df['created'].str.contains('2016-05|2016-04')]\n",
        "test = df[df['created'].str.contains('2016-06')]\n",
        "train.shape, test.shape"
      ],
      "execution_count": 88,
      "outputs": [
        {
          "output_type": "execute_result",
          "data": {
            "text/plain": [
              "((31844, 35), (16973, 35))"
            ]
          },
          "metadata": {
            "tags": []
          },
          "execution_count": 88
        }
      ]
    },
    {
      "cell_type": "code",
      "metadata": {
        "id": "1syqqFyD2wGR",
        "colab_type": "code",
        "colab": {}
      },
      "source": [
        "df.head()"
      ],
      "execution_count": 0,
      "outputs": []
    },
    {
      "cell_type": "markdown",
      "metadata": {
        "id": "HJnKPUAXgmTR",
        "colab_type": "text"
      },
      "source": [
        "**2.** Engineer at least two features"
      ]
    },
    {
      "cell_type": "code",
      "metadata": {
        "id": "jwF4Yh7zoGYD",
        "colab_type": "code",
        "colab": {
          "base_uri": "https://localhost:8080/",
          "height": 212
        },
        "outputId": "d4102312-05d0-4a04-dc2f-2379af23ab59"
      },
      "source": [
        "# yuppie magnet: gym-tan-laundry + doorman for amazon delivery\n",
        "df['yuppie_magnet'] = df['fitness_center'] + df['doorman'] + df['roof_deck'] + (df['laundry_in_building']|df['laundry_in_unit'])\n",
        "df['yuppie_magnet']"
      ],
      "execution_count": 124,
      "outputs": [
        {
          "output_type": "execute_result",
          "data": {
            "text/plain": [
              "0        0\n",
              "1        2\n",
              "2        1\n",
              "3        0\n",
              "4        0\n",
              "        ..\n",
              "49347    1\n",
              "49348    3\n",
              "49349    1\n",
              "49350    1\n",
              "49351    0\n",
              "Name: yuppie_magnet, Length: 48817, dtype: int64"
            ]
          },
          "metadata": {
            "tags": []
          },
          "execution_count": 124
        }
      ]
    },
    {
      "cell_type": "markdown",
      "metadata": {
        "id": "-Lj_puLNgsJY",
        "colab_type": "text"
      },
      "source": [
        "**3.** Fit a linear regression model with 2+ features"
      ]
    },
    {
      "cell_type": "code",
      "metadata": {
        "id": "UPCuCjmcRVop",
        "colab_type": "code",
        "colab": {
          "base_uri": "https://localhost:8080/",
          "height": 33
        },
        "outputId": "5cd3fd1a-0e12-4e69-9aea-380c0c674077"
      },
      "source": [
        "# baseline\n",
        "guess = train['price'].mean()\n",
        "\n",
        "#train error\n",
        "from sklearn.metrics import mean_absolute_error\n",
        "y_pred = [guess] * len(y_train)\n",
        "mae = mean_absolute_error(y_train, y_pred)\n",
        "print(f'Train Error: {mae:.2f}')"
      ],
      "execution_count": 90,
      "outputs": [
        {
          "output_type": "stream",
          "text": [
            "Train Error: 1201.88\n"
          ],
          "name": "stdout"
        }
      ]
    },
    {
      "cell_type": "code",
      "metadata": {
        "id": "0ZJIBrPPlYWD",
        "colab_type": "code",
        "colab": {}
      },
      "source": [
        "def linear_reg(features):\n",
        "\n",
        "  from sklearn.metrics import mean_absolute_error, mean_squared_error, r2_score\n",
        "  from sklearn.linear_model import LinearRegression\n",
        "  model = LinearRegression()\n",
        "  # features = ['laundry_in_unit', 'bedrooms', 'new_construction']\n",
        "  target = 'price'\n",
        "  y_train=train[target]\n",
        "  y_test = test[target]\n",
        "  X_train = train[features]\n",
        "  X_test = test[features]\n",
        "\n",
        "\n",
        "  model.fit(X_train, y_train)\n",
        "  y_pred = model.predict(X_train)\n",
        "  mae = mean_absolute_error(y_train, y_pred)\n",
        "  rmse = np.sqrt(mean_squared_error(y_train, y_pred))\n",
        "  r2 = r2_score(y_train, y_pred)\n",
        "  print(f'Linear Regression, dependent on: {features}')\n",
        "  print(f'Train MAE: {mae:.2f}')\n",
        "  print(f'Train MSE: {rmse:.2f}')\n",
        "  print(f'Train R2: {r2:.2f}')\n",
        "\n",
        "  y_pred = model.predict(X_test)\n",
        "  mae = mean_absolute_error(y_test, y_pred)\n",
        "  rmse = np.sqrt(mean_squared_error(y_test, y_pred))\n",
        "  r2 = r2_score(y_test, y_pred)\n",
        "  # print(f'Linear Regression, dependent on: {features}')\n",
        "  print()\n",
        "  print(f'Test MAE: {mae:.2f}')\n",
        "  print(f'Test MSE: {rmse:.2f}')\n",
        "  print(f'Test R2: {r2:.2f}')\n",
        "\n",
        "  print\n"
      ],
      "execution_count": 0,
      "outputs": []
    },
    {
      "cell_type": "code",
      "metadata": {
        "id": "Y8FSyWauUAyE",
        "colab_type": "code",
        "colab": {
          "base_uri": "https://localhost:8080/",
          "height": 147
        },
        "outputId": "28687bec-7e9f-4580-fc10-e5d2816eca98"
      },
      "source": [
        "features = ['laundry_in_unit', 'bedrooms']\n",
        "linear_reg(features)\n"
      ],
      "execution_count": 92,
      "outputs": [
        {
          "output_type": "stream",
          "text": [
            "Linear Regression, dependent on: ['laundry_in_unit', 'bedrooms']\n",
            "Train MAE: 955.28\n",
            "Train MSE: 1445.08\n",
            "Train R2: 0.33\n",
            "\n",
            "Test MAE: 976.67\n",
            "Test MSE: 1457.59\n",
            "Test R2: 0.32\n"
          ],
          "name": "stdout"
        }
      ]
    },
    {
      "cell_type": "code",
      "metadata": {
        "id": "MloExS-KkgGI",
        "colab_type": "code",
        "colab": {
          "base_uri": "https://localhost:8080/",
          "height": 147
        },
        "outputId": "ebb7be4f-ee8c-493b-e392-e7fb33f8370e"
      },
      "source": [
        "features = ['bedrooms']\n",
        "linear_reg(features)"
      ],
      "execution_count": 63,
      "outputs": [
        {
          "output_type": "stream",
          "text": [
            "Linear Regression, dependent on: ['bedrooms']\n",
            "Train MAE: 969.88\n",
            "Train MSE: 1487.04\n",
            "Train R2: 0.29\n",
            "\n",
            "Test MAE: 988.73\n",
            "Test MSE: 1491.01\n",
            "Test R2: 0.28\n"
          ],
          "name": "stdout"
        }
      ]
    },
    {
      "cell_type": "code",
      "metadata": {
        "id": "BZ5aWSzMleum",
        "colab_type": "code",
        "colab": {}
      },
      "source": [
        "# features = ['bedrooms','laundry_in_unit','pre-war','fitness_center']\n",
        "# linear_reg(features)"
      ],
      "execution_count": 0,
      "outputs": []
    },
    {
      "cell_type": "code",
      "metadata": {
        "id": "hSurzG5_pLqo",
        "colab_type": "code",
        "colab": {
          "base_uri": "https://localhost:8080/",
          "height": 147
        },
        "outputId": "d0726937-5850-44e1-d643-b83670433f2a"
      },
      "source": [
        "features = ['bedrooms','yuppie_magnet','exclusive']\n",
        "linear_reg(features)"
      ],
      "execution_count": 97,
      "outputs": [
        {
          "output_type": "stream",
          "text": [
            "Linear Regression, dependent on: ['bedrooms', 'yuppie_magnet', 'exclusive']\n",
            "Train MAE: 909.27\n",
            "Train MSE: 1411.24\n",
            "Train R2: 0.36\n",
            "\n",
            "Test MAE: 919.07\n",
            "Test MSE: 1409.89\n",
            "Test R2: 0.36\n"
          ],
          "name": "stdout"
        }
      ]
    },
    {
      "cell_type": "code",
      "metadata": {
        "id": "XMpcf5r8ncY9",
        "colab_type": "code",
        "colab": {
          "base_uri": "https://localhost:8080/",
          "height": 147
        },
        "outputId": "7e44f193-fc76-48a5-b812-2fbd1a541164"
      },
      "source": [
        "features = ['bedrooms','exclusive','bathrooms']\n",
        "linear_reg(features)"
      ],
      "execution_count": 78,
      "outputs": [
        {
          "output_type": "stream",
          "text": [
            "Linear Regression, dependent on: ['bedrooms', 'exclusive', 'bathrooms']\n",
            "Train MAE: 818.44\n",
            "Train MSE: 1231.96\n",
            "Train R2: 0.51\n",
            "\n",
            "Test MAE: 825.86\n",
            "Test MSE: 1219.57\n",
            "Test R2: 0.52\n"
          ],
          "name": "stdout"
        }
      ]
    },
    {
      "cell_type": "code",
      "metadata": {
        "id": "lbqAmw54mI7v",
        "colab_type": "code",
        "colab": {
          "base_uri": "https://localhost:8080/",
          "height": 200
        },
        "outputId": "871d7428-7c7e-4ac1-c888-01db5e1edef0"
      },
      "source": [
        "features = ['bedrooms','laundry_in_unit','fitness_center','dogs_allowed','longitude','exclusive','bathrooms']\n",
        "linear_reg(features)"
      ],
      "execution_count": 121,
      "outputs": [
        {
          "output_type": "stream",
          "text": [
            "Linear Regression, dependent on: ['bedrooms', 'laundry_in_unit', 'fitness_center', 'dogs_allowed', 'longitude', 'exclusive', 'bathrooms']\n",
            "Train MAE: 720.91\n",
            "Train MSE: 1128.25\n",
            "Train R2: 0.59\n",
            "\n",
            "Test MAE: 728.83\n",
            "Test MSE: 1118.66\n",
            "Test R2: 0.60\n",
            "[   424.70018398    421.18903612    283.44113374     74.38386805\n",
            " -13680.9966226     134.74115761   1899.48916997]\n"
          ],
          "name": "stdout"
        }
      ]
    },
    {
      "cell_type": "markdown",
      "metadata": {
        "id": "euCw2DRrhL2I",
        "colab_type": "text"
      },
      "source": [
        "**4.** Model's coefficient and intercept"
      ]
    },
    {
      "cell_type": "code",
      "metadata": {
        "id": "H1dtfPydiKFD",
        "colab_type": "code",
        "colab": {
          "base_uri": "https://localhost:8080/",
          "height": 147
        },
        "outputId": "b16f845f-947f-42b8-8c59-14f006554244"
      },
      "source": [
        "features = ['bedrooms','laundry_in_unit','fitness_center','dogs_allowed','longitude','exclusive','bathrooms']\n",
        "target = 'price'\n",
        "X_train=train[features]\n",
        "y_train=train[target]\n",
        "model.fit(X_train, y_train)\n",
        "print('Intercept: ', model.intercept_)\n",
        "coefficients = pd.Series(model.coef_,features)\n",
        "# print(model.coef_)\n",
        "# print(features)\n",
        "print(coefficients.to_string())"
      ],
      "execution_count": 119,
      "outputs": [
        {
          "output_type": "stream",
          "text": [
            "Intercept:  -1011571.2057281791\n",
            "bedrooms             424.700184\n",
            "laundry_in_unit      421.189036\n",
            "fitness_center       283.441134\n",
            "dogs_allowed          74.383868\n",
            "longitude         -13680.996623\n",
            "exclusive            134.741158\n",
            "bathrooms           1899.489170\n"
          ],
          "name": "stdout"
        }
      ]
    },
    {
      "cell_type": "markdown",
      "metadata": {
        "id": "bp_f1YGMsNSe",
        "colab_type": "text"
      },
      "source": [
        "**Best MAE**"
      ]
    },
    {
      "cell_type": "markdown",
      "metadata": {
        "id": "msxA0pMJsSk3",
        "colab_type": "text"
      },
      "source": [
        "features = ['bedrooms','laundry_in_unit','fitness_center','dogs_allowed','longitude','exclusive','bathrooms']"
      ]
    },
    {
      "cell_type": "code",
      "metadata": {
        "id": "EH_mVZypsPYF",
        "colab_type": "code",
        "colab": {}
      },
      "source": [
        "# features = ['bedrooms','laundry_in_unit','fitness_center','dogs_allowed','longitude','exclusive','bathrooms']\n",
        "# MAE = 720.91"
      ],
      "execution_count": 0,
      "outputs": []
    },
    {
      "cell_type": "markdown",
      "metadata": {
        "id": "jlvTYt8yhVqs",
        "colab_type": "text"
      },
      "source": [
        "<!-- **5.** Best MAE -->"
      ]
    },
    {
      "cell_type": "code",
      "metadata": {
        "id": "ert4lHQzUZpy",
        "colab_type": "code",
        "colab": {}
      },
      "source": [
        ""
      ],
      "execution_count": 0,
      "outputs": []
    },
    {
      "cell_type": "code",
      "metadata": {
        "id": "nOaoVzK4cM5A",
        "colab_type": "code",
        "colab": {}
      },
      "source": [
        ""
      ],
      "execution_count": 0,
      "outputs": []
    }
  ]
}