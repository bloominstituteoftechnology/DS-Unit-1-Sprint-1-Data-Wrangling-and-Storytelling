{
  "nbformat": 4,
  "nbformat_minor": 0,
  "metadata": {
    "colab": {
      "name": "Jose_Urena_DSpt8_113_Join_and_Reshape_Data_Assignment.ipynb",
      "provenance": [],
      "collapsed_sections": [],
      "toc_visible": true,
      "include_colab_link": true
    },
    "kernelspec": {
      "display_name": "Python 3",
      "language": "python",
      "name": "python3"
    }
  },
  "cells": [
    {
      "cell_type": "markdown",
      "metadata": {
        "id": "view-in-github",
        "colab_type": "text"
      },
      "source": [
        "<a href=\"https://colab.research.google.com/github/urenajose/DS-Unit-1-Sprint-1-Data-Wrangling-and-Storytelling/blob/master/Jose_Urena_DSpt8_113_Join_and_Reshape_Data_Assignment.ipynb\" target=\"_parent\"><img src=\"https://colab.research.google.com/assets/colab-badge.svg\" alt=\"Open In Colab\"/></a>"
      ]
    },
    {
      "cell_type": "markdown",
      "metadata": {
        "colab_type": "text",
        "id": "pmU5YUal1eTZ"
      },
      "source": [
        "Lambda School Data Science\n",
        "\n",
        "*Unit 1, Sprint 1, Module 3*\n",
        "\n",
        "---\n",
        "\n",
        "# Join and Reshape datasets\n",
        "\n",
        "Objectives\n",
        "- concatenate data with pandas\n",
        "- merge data with pandas\n",
        "-  understand tidy data formatting\n",
        "-  melt and pivot data with pandas\n",
        "\n",
        "Links\n",
        "- [Pandas Cheat Sheet](https://github.com/pandas-dev/pandas/blob/master/doc/cheatsheet/Pandas_Cheat_Sheet.pdf)\n",
        "- [Tidy Data](https://en.wikipedia.org/wiki/Tidy_data)\n",
        "  - Combine Data Sets: Standard Joins\n",
        "  - Tidy Data\n",
        "  - Reshaping Data\n",
        "- Python Data Science Handbook\n",
        "  - [Chapter 3.6](https://jakevdp.github.io/PythonDataScienceHandbook/03.06-concat-and-append.html), Combining Datasets: Concat and Append\n",
        "  - [Chapter 3.7](https://jakevdp.github.io/PythonDataScienceHandbook/03.07-merge-and-join.html), Combining Datasets: Merge and Join\n",
        "  - [Chapter 3.8](https://jakevdp.github.io/PythonDataScienceHandbook/03.08-aggregation-and-grouping.html), Aggregation and Grouping\n",
        "  - [Chapter 3.9](https://jakevdp.github.io/PythonDataScienceHandbook/03.09-pivot-tables.html), Pivot Tables\n",
        "  \n",
        "Reference\n",
        "- Pandas Documentation: [Reshaping and Pivot Tables](https://pandas.pydata.org/pandas-docs/stable/reshaping.html)\n",
        "- Modern Pandas, Part 5: [Tidy Data](https://tomaugspurger.github.io/modern-5-tidy.html)"
      ]
    },
    {
      "cell_type": "code",
      "metadata": {
        "id": "5MsWLLW4Xg_i",
        "colab_type": "code",
        "colab": {
          "base_uri": "https://localhost:8080/",
          "height": 204
        },
        "outputId": "b453da39-4582-4121-e1bb-342e494fb198"
      },
      "source": [
        "!wget https://s3.amazonaws.com/instacart-datasets/instacart_online_grocery_shopping_2017_05_01.tar.gz"
      ],
      "execution_count": null,
      "outputs": [
        {
          "output_type": "stream",
          "text": [
            "--2020-07-15 03:56:14--  https://s3.amazonaws.com/instacart-datasets/instacart_online_grocery_shopping_2017_05_01.tar.gz\n",
            "Resolving s3.amazonaws.com (s3.amazonaws.com)... 52.216.136.29\n",
            "Connecting to s3.amazonaws.com (s3.amazonaws.com)|52.216.136.29|:443... connected.\n",
            "HTTP request sent, awaiting response... 200 OK\n",
            "Length: 205548478 (196M) [application/x-gzip]\n",
            "Saving to: ‘instacart_online_grocery_shopping_2017_05_01.tar.gz’\n",
            "\n",
            "instacart_online_gr 100%[===================>] 196.03M  97.4MB/s    in 2.0s    \n",
            "\n",
            "2020-07-15 03:56:16 (97.4 MB/s) - ‘instacart_online_grocery_shopping_2017_05_01.tar.gz’ saved [205548478/205548478]\n",
            "\n"
          ],
          "name": "stdout"
        }
      ]
    },
    {
      "cell_type": "code",
      "metadata": {
        "id": "gfr4_Ya0XkLI",
        "colab_type": "code",
        "colab": {
          "base_uri": "https://localhost:8080/",
          "height": 238
        },
        "outputId": "68143376-0372-4780-e4da-9379e379a821"
      },
      "source": [
        "!tar --gunzip --extract --verbose --file=instacart_online_grocery_shopping_2017_05_01.tar.gz"
      ],
      "execution_count": null,
      "outputs": [
        {
          "output_type": "stream",
          "text": [
            "instacart_2017_05_01/\n",
            "instacart_2017_05_01/._aisles.csv\n",
            "instacart_2017_05_01/aisles.csv\n",
            "instacart_2017_05_01/._departments.csv\n",
            "instacart_2017_05_01/departments.csv\n",
            "instacart_2017_05_01/._order_products__prior.csv\n",
            "instacart_2017_05_01/order_products__prior.csv\n",
            "instacart_2017_05_01/._order_products__train.csv\n",
            "instacart_2017_05_01/order_products__train.csv\n",
            "instacart_2017_05_01/._orders.csv\n",
            "instacart_2017_05_01/orders.csv\n",
            "instacart_2017_05_01/._products.csv\n",
            "instacart_2017_05_01/products.csv\n"
          ],
          "name": "stdout"
        }
      ]
    },
    {
      "cell_type": "code",
      "metadata": {
        "id": "N4YyGPNdXrT0",
        "colab_type": "code",
        "colab": {
          "base_uri": "https://localhost:8080/",
          "height": 34
        },
        "outputId": "415c2952-eedc-43ef-c0cb-9662297e08f0"
      },
      "source": [
        "%cd instacart_2017_05_01"
      ],
      "execution_count": null,
      "outputs": [
        {
          "output_type": "stream",
          "text": [
            "/content/instacart_2017_05_01\n"
          ],
          "name": "stdout"
        }
      ]
    },
    {
      "cell_type": "code",
      "metadata": {
        "id": "b26wmLUiXtlM",
        "colab_type": "code",
        "colab": {
          "base_uri": "https://localhost:8080/",
          "height": 119
        },
        "outputId": "b01b81cf-361d-4b2c-8836-1a727d80db05"
      },
      "source": [
        "!ls -lh *.csv"
      ],
      "execution_count": null,
      "outputs": [
        {
          "output_type": "stream",
          "text": [
            "-rw-r--r-- 1 502 staff 2.6K May  2  2017 aisles.csv\n",
            "-rw-r--r-- 1 502 staff  270 May  2  2017 departments.csv\n",
            "-rw-r--r-- 1 502 staff 551M May  2  2017 order_products__prior.csv\n",
            "-rw-r--r-- 1 502 staff  24M May  2  2017 order_products__train.csv\n",
            "-rw-r--r-- 1 502 staff 104M May  2  2017 orders.csv\n",
            "-rw-r--r-- 1 502 staff 2.1M May  2  2017 products.csv\n"
          ],
          "name": "stdout"
        }
      ]
    },
    {
      "cell_type": "markdown",
      "metadata": {
        "colab_type": "text",
        "id": "kAMtvSQWPUcj"
      },
      "source": [
        "# Assignment\n",
        "\n",
        "## Join Data Practice\n",
        "\n",
        "These are the top 10 most frequently ordered products. How many times was each ordered? \n",
        "\n",
        "1. Banana\n",
        "2. Bag of Organic Bananas\n",
        "3. Organic Strawberries\n",
        "4. Organic Baby Spinach \n",
        "5. Organic Hass Avocado\n",
        "6. Organic Avocado\n",
        "7. Large Lemon \n",
        "8. Strawberries\n",
        "9. Limes \n",
        "10. Organic Whole Milk\n",
        "\n",
        "First, write down which columns you need and which dataframes have them.\n",
        "\n",
        "Next, merge these into a single dataframe.\n",
        "\n",
        "Then, use pandas functions from the previous lesson to get the counts of the top 10 most frequently ordered products."
      ]
    },
    {
      "cell_type": "code",
      "metadata": {
        "id": "vvE0EVHgXMFO",
        "colab_type": "code",
        "colab": {
          "base_uri": "https://localhost:8080/",
          "height": 136
        },
        "outputId": "d5ef77ba-6eb8-4fde-d9c5-0b01444b3501"
      },
      "source": [
        "##### YOUR CODE HERE #####\n",
        "order_product_prior = pd.read_csv(\"/content/instacart_2017_05_01/order_products__prior.csv\")\n",
        "print(order_product_prior[\"product_id\"].isin([24852]).value_counts())\n",
        "order_product_train = pd.read_csv(\"/content/instacart_2017_05_01/order_products__train.csv\")\n",
        "print(order_product_train[\"product_id\"].isin([24852]).value_counts())\n",
        "orders = pd.read_csv(\"/content/instacart_2017_05_01/orders.csv\")\n",
        "products = pd.read_csv(\"/content/instacart_2017_05_01/products.csv\")\n",
        "472565+18726"
      ],
      "execution_count": 32,
      "outputs": [
        {
          "output_type": "stream",
          "text": [
            "False    31961924\n",
            "True       472565\n",
            "Name: product_id, dtype: int64\n",
            "False    1365891\n",
            "True       18726\n",
            "Name: product_id, dtype: int64\n"
          ],
          "name": "stdout"
        },
        {
          "output_type": "execute_result",
          "data": {
            "text/plain": [
              "491291"
            ]
          },
          "metadata": {
            "tags": []
          },
          "execution_count": 32
        }
      ]
    },
    {
      "cell_type": "code",
      "metadata": {
        "id": "kSFIx1RB8DJ2",
        "colab_type": "code",
        "colab": {
          "base_uri": "https://localhost:8080/",
          "height": 796
        },
        "outputId": "16db6081-62ce-42a5-9be2-b1f697d47b1e"
      },
      "source": [
        "display(order_product_prior.head());display(order_product_train.head());display(orders.head());display(products.head())\n",
        "display(order_product_prior.shape);display(order_product_train.shape);display(orders.shape);display(products.shape)"
      ],
      "execution_count": null,
      "outputs": [
        {
          "output_type": "display_data",
          "data": {
            "text/html": [
              "<div>\n",
              "<style scoped>\n",
              "    .dataframe tbody tr th:only-of-type {\n",
              "        vertical-align: middle;\n",
              "    }\n",
              "\n",
              "    .dataframe tbody tr th {\n",
              "        vertical-align: top;\n",
              "    }\n",
              "\n",
              "    .dataframe thead th {\n",
              "        text-align: right;\n",
              "    }\n",
              "</style>\n",
              "<table border=\"1\" class=\"dataframe\">\n",
              "  <thead>\n",
              "    <tr style=\"text-align: right;\">\n",
              "      <th></th>\n",
              "      <th>order_id</th>\n",
              "      <th>product_id</th>\n",
              "      <th>add_to_cart_order</th>\n",
              "      <th>reordered</th>\n",
              "    </tr>\n",
              "  </thead>\n",
              "  <tbody>\n",
              "    <tr>\n",
              "      <th>0</th>\n",
              "      <td>2</td>\n",
              "      <td>33120</td>\n",
              "      <td>1</td>\n",
              "      <td>1</td>\n",
              "    </tr>\n",
              "    <tr>\n",
              "      <th>1</th>\n",
              "      <td>2</td>\n",
              "      <td>28985</td>\n",
              "      <td>2</td>\n",
              "      <td>1</td>\n",
              "    </tr>\n",
              "    <tr>\n",
              "      <th>2</th>\n",
              "      <td>2</td>\n",
              "      <td>9327</td>\n",
              "      <td>3</td>\n",
              "      <td>0</td>\n",
              "    </tr>\n",
              "    <tr>\n",
              "      <th>3</th>\n",
              "      <td>2</td>\n",
              "      <td>45918</td>\n",
              "      <td>4</td>\n",
              "      <td>1</td>\n",
              "    </tr>\n",
              "    <tr>\n",
              "      <th>4</th>\n",
              "      <td>2</td>\n",
              "      <td>30035</td>\n",
              "      <td>5</td>\n",
              "      <td>0</td>\n",
              "    </tr>\n",
              "  </tbody>\n",
              "</table>\n",
              "</div>"
            ],
            "text/plain": [
              "   order_id  product_id  add_to_cart_order  reordered\n",
              "0         2       33120                  1          1\n",
              "1         2       28985                  2          1\n",
              "2         2        9327                  3          0\n",
              "3         2       45918                  4          1\n",
              "4         2       30035                  5          0"
            ]
          },
          "metadata": {
            "tags": []
          }
        },
        {
          "output_type": "display_data",
          "data": {
            "text/html": [
              "<div>\n",
              "<style scoped>\n",
              "    .dataframe tbody tr th:only-of-type {\n",
              "        vertical-align: middle;\n",
              "    }\n",
              "\n",
              "    .dataframe tbody tr th {\n",
              "        vertical-align: top;\n",
              "    }\n",
              "\n",
              "    .dataframe thead th {\n",
              "        text-align: right;\n",
              "    }\n",
              "</style>\n",
              "<table border=\"1\" class=\"dataframe\">\n",
              "  <thead>\n",
              "    <tr style=\"text-align: right;\">\n",
              "      <th></th>\n",
              "      <th>order_id</th>\n",
              "      <th>product_id</th>\n",
              "      <th>add_to_cart_order</th>\n",
              "      <th>reordered</th>\n",
              "    </tr>\n",
              "  </thead>\n",
              "  <tbody>\n",
              "    <tr>\n",
              "      <th>0</th>\n",
              "      <td>1</td>\n",
              "      <td>49302</td>\n",
              "      <td>1</td>\n",
              "      <td>1</td>\n",
              "    </tr>\n",
              "    <tr>\n",
              "      <th>1</th>\n",
              "      <td>1</td>\n",
              "      <td>11109</td>\n",
              "      <td>2</td>\n",
              "      <td>1</td>\n",
              "    </tr>\n",
              "    <tr>\n",
              "      <th>2</th>\n",
              "      <td>1</td>\n",
              "      <td>10246</td>\n",
              "      <td>3</td>\n",
              "      <td>0</td>\n",
              "    </tr>\n",
              "    <tr>\n",
              "      <th>3</th>\n",
              "      <td>1</td>\n",
              "      <td>49683</td>\n",
              "      <td>4</td>\n",
              "      <td>0</td>\n",
              "    </tr>\n",
              "    <tr>\n",
              "      <th>4</th>\n",
              "      <td>1</td>\n",
              "      <td>43633</td>\n",
              "      <td>5</td>\n",
              "      <td>1</td>\n",
              "    </tr>\n",
              "  </tbody>\n",
              "</table>\n",
              "</div>"
            ],
            "text/plain": [
              "   order_id  product_id  add_to_cart_order  reordered\n",
              "0         1       49302                  1          1\n",
              "1         1       11109                  2          1\n",
              "2         1       10246                  3          0\n",
              "3         1       49683                  4          0\n",
              "4         1       43633                  5          1"
            ]
          },
          "metadata": {
            "tags": []
          }
        },
        {
          "output_type": "display_data",
          "data": {
            "text/html": [
              "<div>\n",
              "<style scoped>\n",
              "    .dataframe tbody tr th:only-of-type {\n",
              "        vertical-align: middle;\n",
              "    }\n",
              "\n",
              "    .dataframe tbody tr th {\n",
              "        vertical-align: top;\n",
              "    }\n",
              "\n",
              "    .dataframe thead th {\n",
              "        text-align: right;\n",
              "    }\n",
              "</style>\n",
              "<table border=\"1\" class=\"dataframe\">\n",
              "  <thead>\n",
              "    <tr style=\"text-align: right;\">\n",
              "      <th></th>\n",
              "      <th>order_id</th>\n",
              "      <th>user_id</th>\n",
              "      <th>eval_set</th>\n",
              "      <th>order_number</th>\n",
              "      <th>order_dow</th>\n",
              "      <th>order_hour_of_day</th>\n",
              "      <th>days_since_prior_order</th>\n",
              "    </tr>\n",
              "  </thead>\n",
              "  <tbody>\n",
              "    <tr>\n",
              "      <th>0</th>\n",
              "      <td>2539329</td>\n",
              "      <td>1</td>\n",
              "      <td>prior</td>\n",
              "      <td>1</td>\n",
              "      <td>2</td>\n",
              "      <td>8</td>\n",
              "      <td>NaN</td>\n",
              "    </tr>\n",
              "    <tr>\n",
              "      <th>1</th>\n",
              "      <td>2398795</td>\n",
              "      <td>1</td>\n",
              "      <td>prior</td>\n",
              "      <td>2</td>\n",
              "      <td>3</td>\n",
              "      <td>7</td>\n",
              "      <td>15.0</td>\n",
              "    </tr>\n",
              "    <tr>\n",
              "      <th>2</th>\n",
              "      <td>473747</td>\n",
              "      <td>1</td>\n",
              "      <td>prior</td>\n",
              "      <td>3</td>\n",
              "      <td>3</td>\n",
              "      <td>12</td>\n",
              "      <td>21.0</td>\n",
              "    </tr>\n",
              "    <tr>\n",
              "      <th>3</th>\n",
              "      <td>2254736</td>\n",
              "      <td>1</td>\n",
              "      <td>prior</td>\n",
              "      <td>4</td>\n",
              "      <td>4</td>\n",
              "      <td>7</td>\n",
              "      <td>29.0</td>\n",
              "    </tr>\n",
              "    <tr>\n",
              "      <th>4</th>\n",
              "      <td>431534</td>\n",
              "      <td>1</td>\n",
              "      <td>prior</td>\n",
              "      <td>5</td>\n",
              "      <td>4</td>\n",
              "      <td>15</td>\n",
              "      <td>28.0</td>\n",
              "    </tr>\n",
              "  </tbody>\n",
              "</table>\n",
              "</div>"
            ],
            "text/plain": [
              "   order_id  user_id  ... order_hour_of_day  days_since_prior_order\n",
              "0   2539329        1  ...                 8                     NaN\n",
              "1   2398795        1  ...                 7                    15.0\n",
              "2    473747        1  ...                12                    21.0\n",
              "3   2254736        1  ...                 7                    29.0\n",
              "4    431534        1  ...                15                    28.0\n",
              "\n",
              "[5 rows x 7 columns]"
            ]
          },
          "metadata": {
            "tags": []
          }
        },
        {
          "output_type": "display_data",
          "data": {
            "text/html": [
              "<div>\n",
              "<style scoped>\n",
              "    .dataframe tbody tr th:only-of-type {\n",
              "        vertical-align: middle;\n",
              "    }\n",
              "\n",
              "    .dataframe tbody tr th {\n",
              "        vertical-align: top;\n",
              "    }\n",
              "\n",
              "    .dataframe thead th {\n",
              "        text-align: right;\n",
              "    }\n",
              "</style>\n",
              "<table border=\"1\" class=\"dataframe\">\n",
              "  <thead>\n",
              "    <tr style=\"text-align: right;\">\n",
              "      <th></th>\n",
              "      <th>product_id</th>\n",
              "      <th>product_name</th>\n",
              "      <th>aisle_id</th>\n",
              "      <th>department_id</th>\n",
              "    </tr>\n",
              "  </thead>\n",
              "  <tbody>\n",
              "    <tr>\n",
              "      <th>0</th>\n",
              "      <td>1</td>\n",
              "      <td>Chocolate Sandwich Cookies</td>\n",
              "      <td>61</td>\n",
              "      <td>19</td>\n",
              "    </tr>\n",
              "    <tr>\n",
              "      <th>1</th>\n",
              "      <td>2</td>\n",
              "      <td>All-Seasons Salt</td>\n",
              "      <td>104</td>\n",
              "      <td>13</td>\n",
              "    </tr>\n",
              "    <tr>\n",
              "      <th>2</th>\n",
              "      <td>3</td>\n",
              "      <td>Robust Golden Unsweetened Oolong Tea</td>\n",
              "      <td>94</td>\n",
              "      <td>7</td>\n",
              "    </tr>\n",
              "    <tr>\n",
              "      <th>3</th>\n",
              "      <td>4</td>\n",
              "      <td>Smart Ones Classic Favorites Mini Rigatoni Wit...</td>\n",
              "      <td>38</td>\n",
              "      <td>1</td>\n",
              "    </tr>\n",
              "    <tr>\n",
              "      <th>4</th>\n",
              "      <td>5</td>\n",
              "      <td>Green Chile Anytime Sauce</td>\n",
              "      <td>5</td>\n",
              "      <td>13</td>\n",
              "    </tr>\n",
              "  </tbody>\n",
              "</table>\n",
              "</div>"
            ],
            "text/plain": [
              "   product_id  ... department_id\n",
              "0           1  ...            19\n",
              "1           2  ...            13\n",
              "2           3  ...             7\n",
              "3           4  ...             1\n",
              "4           5  ...            13\n",
              "\n",
              "[5 rows x 4 columns]"
            ]
          },
          "metadata": {
            "tags": []
          }
        },
        {
          "output_type": "display_data",
          "data": {
            "text/plain": [
              "(32434489, 4)"
            ]
          },
          "metadata": {
            "tags": []
          }
        },
        {
          "output_type": "display_data",
          "data": {
            "text/plain": [
              "(1384617, 4)"
            ]
          },
          "metadata": {
            "tags": []
          }
        },
        {
          "output_type": "display_data",
          "data": {
            "text/plain": [
              "(3421083, 7)"
            ]
          },
          "metadata": {
            "tags": []
          }
        },
        {
          "output_type": "display_data",
          "data": {
            "text/plain": [
              "(49688, 4)"
            ]
          },
          "metadata": {
            "tags": []
          }
        }
      ]
    },
    {
      "cell_type": "code",
      "metadata": {
        "id": "boGg-W1D9n1U",
        "colab_type": "code",
        "colab": {
          "base_uri": "https://localhost:8080/",
          "height": 221
        },
        "outputId": "fa921a57-9884-4691-b0d9-17b9f180d5a4"
      },
      "source": [
        "#Creating a subset df to identify which products_id are need it, to filter order_product_prior & train.\n",
        "products_selected = [\"Banana\",\n",
        "\"Bag of Organic Bananas\",\n",
        "\"Organic Strawberries\",\n",
        "\"Organic Baby Spinach\",\n",
        "\"Organic Hass Avocado\",\n",
        "\"Organic Avocado\",\n",
        "\"Large Lemon\",\n",
        "\"Strawberries\",\n",
        "\"Limes\",\n",
        "\"Organic Whole Milk\"]\n",
        "\n",
        "products_id_subset = products.loc[products['product_name'].isin(products_selected)]\n",
        "products_id_subset = products_id_subset[[\"product_id\", \"product_name\"]] #only selecting the (2) columns that I need\n",
        "print(products_id_subset)\n",
        "product_id_subset_list = products_id_subset[\"product_id\"].tolist()\n",
        "display(product_id_subset_list) #create list to pass it to order_product_prior & train to create a filter down version of each."
      ],
      "execution_count": 41,
      "outputs": [
        {
          "output_type": "stream",
          "text": [
            "       product_id            product_name\n",
            "13175       13176  Bag of Organic Bananas\n",
            "16796       16797            Strawberries\n",
            "21136       21137    Organic Strawberries\n",
            "21902       21903    Organic Baby Spinach\n",
            "24851       24852                  Banana\n",
            "26208       26209                   Limes\n",
            "27844       27845      Organic Whole Milk\n",
            "47208       47209    Organic Hass Avocado\n",
            "47625       47626             Large Lemon\n",
            "47765       47766         Organic Avocado\n"
          ],
          "name": "stdout"
        },
        {
          "output_type": "display_data",
          "data": {
            "text/plain": [
              "[13176, 16797, 21137, 21903, 24852, 26209, 27845, 47209, 47626, 47766]"
            ]
          },
          "metadata": {
            "tags": []
          }
        }
      ]
    },
    {
      "cell_type": "code",
      "metadata": {
        "id": "DFWbBu7NLKUX",
        "colab_type": "code",
        "colab": {
          "base_uri": "https://localhost:8080/",
          "height": 102
        },
        "outputId": "89811ed8-ee74-40f0-b958-99b5307f9cb0"
      },
      "source": [
        "order_product_prior_1 = order_product_prior[[\"order_id\", \"product_id\"]]\n",
        "print(\"Before\", order_product_prior_1.shape)\n",
        "order_product_prior_1 = order_product_prior_1.loc[order_product_prior_1['product_id'].isin([13176, 16797, 21137, 21903, 24852, 26209, 27845, 47209, 47626, 47766])]\n",
        "print(\"After\", order_product_prior_1.shape)\n",
        "print(order_product_prior_1[\"product_id\"].isin([24852]).value_counts())"
      ],
      "execution_count": null,
      "outputs": [
        {
          "output_type": "stream",
          "text": [
            "Before (32434489, 2)\n",
            "After (2323158, 2)\n",
            "False    1850593\n",
            "True      472565\n",
            "Name: product_id, dtype: int64\n"
          ],
          "name": "stdout"
        }
      ]
    },
    {
      "cell_type": "code",
      "metadata": {
        "id": "T-btEHBVOHR3",
        "colab_type": "code",
        "colab": {
          "base_uri": "https://localhost:8080/",
          "height": 102
        },
        "outputId": "741a4949-6bbe-4c67-fe0d-51fcd970cfea"
      },
      "source": [
        "order_product_train_1 = order_product_train[[\"order_id\", \"product_id\"]]\n",
        "print(\"Before\", order_product_train_1.shape)\n",
        "order_product_train_1 = order_product_train_1.loc[order_product_train_1['product_id'].isin([13176, 16797, 21137, 21903, 24852, 26209, 27845, 47209, 47626, 47766])]\n",
        "print(\"After\", order_product_train_1.shape)\n",
        "print(order_product_train_1[\"product_id\"].isin([24852]).value_counts())"
      ],
      "execution_count": 40,
      "outputs": [
        {
          "output_type": "stream",
          "text": [
            "Before (1384617, 2)\n",
            "After (95156, 2)\n",
            "False    76430\n",
            "True     18726\n",
            "Name: product_id, dtype: int64\n"
          ],
          "name": "stdout"
        }
      ]
    },
    {
      "cell_type": "code",
      "metadata": {
        "id": "qkWd5kCCOfA9",
        "colab_type": "code",
        "colab": {
          "base_uri": "https://localhost:8080/",
          "height": 85
        },
        "outputId": "75750ab2-d986-4671-c005-83b8f47f3f83"
      },
      "source": [
        "order_product_concat = pd.concat([order_product_prior_1, order_product_train_1]) #concat the (2) order_product df to (1)\n",
        "print(order_product_concat.shape)\n",
        "print(order_product_concat[\"product_id\"].isin([24852]).value_counts())"
      ],
      "execution_count": 42,
      "outputs": [
        {
          "output_type": "stream",
          "text": [
            "(2418314, 2)\n",
            "False    1927023\n",
            "True      491291\n",
            "Name: product_id, dtype: int64\n"
          ],
          "name": "stdout"
        }
      ]
    },
    {
      "cell_type": "code",
      "metadata": {
        "id": "gGbC-OUoYTpF",
        "colab_type": "code",
        "colab": {}
      },
      "source": [
        "order_product_master = pd.merge(order_product_concat, products_id_subset, left_on = \"product_id\", right_on = \"product_id\")"
      ],
      "execution_count": 44,
      "outputs": []
    },
    {
      "cell_type": "code",
      "metadata": {
        "id": "aC5tIqAUY01a",
        "colab_type": "code",
        "colab": {
          "base_uri": "https://localhost:8080/",
          "height": 493
        },
        "outputId": "a4f86e5f-e41f-4733-e816-9088d5602584"
      },
      "source": [
        "print(order_product_master.shape)\n",
        "print(\"\\n order_product_master\", order_product_master.shape)\n",
        "print(\"\\n order_product_master\", order_product_master.head(10))\n",
        "print(\"\\n Counts of the top 10 most frequently ordered products: \\n\", order_product_master[\"product_name\"].value_counts())\n",
        "pd.value_counts?"
      ],
      "execution_count": 46,
      "outputs": [
        {
          "output_type": "stream",
          "text": [
            "(2418314, 3)\n",
            "\n",
            " order_product_master (2418314, 3)\n",
            "\n",
            " order_product_master    order_id  product_id          product_name\n",
            "0         3       21903  Organic Baby Spinach\n",
            "1        26       21903  Organic Baby Spinach\n",
            "2        31       21903  Organic Baby Spinach\n",
            "3        39       21903  Organic Baby Spinach\n",
            "4        56       21903  Organic Baby Spinach\n",
            "5        57       21903  Organic Baby Spinach\n",
            "6        73       21903  Organic Baby Spinach\n",
            "7        92       21903  Organic Baby Spinach\n",
            "8       113       21903  Organic Baby Spinach\n",
            "9       135       21903  Organic Baby Spinach\n",
            "\n",
            " Counts of the top 10 most frequently ordered products: \n",
            " Banana                    491291\n",
            "Bag of Organic Bananas    394930\n",
            "Organic Strawberries      275577\n",
            "Organic Baby Spinach      251705\n",
            "Organic Hass Avocado      220877\n",
            "Organic Avocado           184224\n",
            "Large Lemon               160792\n",
            "Strawberries              149445\n",
            "Limes                     146660\n",
            "Organic Whole Milk        142813\n",
            "Name: product_name, dtype: int64\n"
          ],
          "name": "stdout"
        }
      ]
    },
    {
      "cell_type": "markdown",
      "metadata": {
        "id": "RsiWi4DuXPLP",
        "colab_type": "text"
      },
      "source": [
        "## Reshape Data Section\n",
        "\n",
        "- Replicate the lesson code. Remember, if you haven't followed along typing out what we did during lecture, do that now to get more repetition with the syntax.\n",
        "- Take table 2 (the transpose of table 1) and practice changing it into Tidy format and back again. You should not use the transpose operation anywhere in this code:\n",
        " - Table 2 --> Tidy\n",
        " - Tidy --> Table 2\n",
        "- Load seaborn's `flights` dataset by running the cell below. Then create a pivot table showing the number of passengers by month and year. Use year for the index and month for the columns. You've done it right if you get 112 passengers for January 1949 and 432 passengers for December 1960."
      ]
    },
    {
      "cell_type": "code",
      "metadata": {
        "id": "4qRj4tyxm8t0",
        "colab_type": "code",
        "colab": {
          "base_uri": "https://localhost:8080/",
          "height": 145
        },
        "outputId": "addb1af4-67d7-44b5-b7f6-3019edda0884"
      },
      "source": [
        "import pandas as pd\n",
        "import numpy as np\n",
        "import seaborn as sns\n",
        "\n",
        "table1 = pd.DataFrame(\n",
        "    [[np.nan, 2],\n",
        "     [16,    11], \n",
        "     [3,      1]],\n",
        "    index=['John Smith', 'Jane Doe', 'Mary Johnson'], \n",
        "    columns=['treatmenta', 'treatmentb']);\n",
        "\n",
        "table2 = table1.T\n",
        "\n",
        "table2\n"
      ],
      "execution_count": null,
      "outputs": [
        {
          "output_type": "stream",
          "text": [
            "/usr/local/lib/python3.6/dist-packages/statsmodels/tools/_testing.py:19: FutureWarning: pandas.util.testing is deprecated. Use the functions in the public API at pandas.testing instead.\n",
            "  import pandas.util.testing as tm\n"
          ],
          "name": "stderr"
        },
        {
          "output_type": "execute_result",
          "data": {
            "text/html": [
              "<div>\n",
              "<style scoped>\n",
              "    .dataframe tbody tr th:only-of-type {\n",
              "        vertical-align: middle;\n",
              "    }\n",
              "\n",
              "    .dataframe tbody tr th {\n",
              "        vertical-align: top;\n",
              "    }\n",
              "\n",
              "    .dataframe thead th {\n",
              "        text-align: right;\n",
              "    }\n",
              "</style>\n",
              "<table border=\"1\" class=\"dataframe\">\n",
              "  <thead>\n",
              "    <tr style=\"text-align: right;\">\n",
              "      <th></th>\n",
              "      <th>John Smith</th>\n",
              "      <th>Jane Doe</th>\n",
              "      <th>Mary Johnson</th>\n",
              "    </tr>\n",
              "  </thead>\n",
              "  <tbody>\n",
              "    <tr>\n",
              "      <th>treatmenta</th>\n",
              "      <td>NaN</td>\n",
              "      <td>16.0</td>\n",
              "      <td>3.0</td>\n",
              "    </tr>\n",
              "    <tr>\n",
              "      <th>treatmentb</th>\n",
              "      <td>2.0</td>\n",
              "      <td>11.0</td>\n",
              "      <td>1.0</td>\n",
              "    </tr>\n",
              "  </tbody>\n",
              "</table>\n",
              "</div>"
            ],
            "text/plain": [
              "            John Smith  Jane Doe  Mary Johnson\n",
              "treatmenta         NaN      16.0           3.0\n",
              "treatmentb         2.0      11.0           1.0"
            ]
          },
          "metadata": {
            "tags": []
          },
          "execution_count": 3
        }
      ]
    },
    {
      "cell_type": "code",
      "metadata": {
        "id": "OflVpkPym40q",
        "colab_type": "code",
        "colab": {
          "base_uri": "https://localhost:8080/",
          "height": 337
        },
        "outputId": "7fe2a503-af6b-4c2e-d7a3-2996261a67e4"
      },
      "source": [
        "# table2 -> tidy\n",
        "pd.melt?\n",
        "full_names =['John Smith', 'Jane Doe', 'Mary Johnson']\n",
        "treatment_names =['treatmenta', 'treatmentb']\n",
        "table3 = table2.reset_index()\n",
        "print(table3)\n",
        "table3 = pd.melt(table3, id_vars=\"index\", value_vars=full_names,value_name=\"treatment_value\", var_name=\"Full_name\")\n",
        "table3 = table3.rename(columns={\"index\": \"treatment_type\"})\n",
        "print(table3)\n",
        "table3[\"treatment_type\"] = table3[\"treatment_type\"].str.replace(\"treatment\",\"\")\n",
        "print(\"\\n \", table3)"
      ],
      "execution_count": null,
      "outputs": [
        {
          "output_type": "stream",
          "text": [
            "        index  John Smith  Jane Doe  Mary Johnson\n",
            "0  treatmenta         NaN      16.0           3.0\n",
            "1  treatmentb         2.0      11.0           1.0\n",
            "  treatment_type     Full_name  treatment_value\n",
            "0     treatmenta    John Smith              NaN\n",
            "1     treatmentb    John Smith              2.0\n",
            "2     treatmenta      Jane Doe             16.0\n",
            "3     treatmentb      Jane Doe             11.0\n",
            "4     treatmenta  Mary Johnson              3.0\n",
            "5     treatmentb  Mary Johnson              1.0\n",
            "\n",
            "    treatment_type     Full_name  treatment_value\n",
            "0              a    John Smith              NaN\n",
            "1              b    John Smith              2.0\n",
            "2              a      Jane Doe             16.0\n",
            "3              b      Jane Doe             11.0\n",
            "4              a  Mary Johnson              3.0\n",
            "5              b  Mary Johnson              1.0\n"
          ],
          "name": "stdout"
        }
      ]
    },
    {
      "cell_type": "code",
      "metadata": {
        "id": "VCuVG7wVm6r5",
        "colab_type": "code",
        "colab": {
          "base_uri": "https://localhost:8080/",
          "height": 135
        },
        "outputId": "7bd3870f-33e6-4fcd-fff4-b614ee3e7d91"
      },
      "source": [
        "# tidy -> table2\n",
        "pivot_table2 = table3.pivot_table(values='treatment_value',columns=\"Full_name\",index=\"treatment_type\")\n",
        "pivot_table2"
      ],
      "execution_count": null,
      "outputs": [
        {
          "output_type": "execute_result",
          "data": {
            "text/html": [
              "<div>\n",
              "<style scoped>\n",
              "    .dataframe tbody tr th:only-of-type {\n",
              "        vertical-align: middle;\n",
              "    }\n",
              "\n",
              "    .dataframe tbody tr th {\n",
              "        vertical-align: top;\n",
              "    }\n",
              "\n",
              "    .dataframe thead th {\n",
              "        text-align: right;\n",
              "    }\n",
              "</style>\n",
              "<table border=\"1\" class=\"dataframe\">\n",
              "  <thead>\n",
              "    <tr style=\"text-align: right;\">\n",
              "      <th>Full_name</th>\n",
              "      <th>Jane Doe</th>\n",
              "      <th>John Smith</th>\n",
              "      <th>Mary Johnson</th>\n",
              "    </tr>\n",
              "    <tr>\n",
              "      <th>treatment_type</th>\n",
              "      <th></th>\n",
              "      <th></th>\n",
              "      <th></th>\n",
              "    </tr>\n",
              "  </thead>\n",
              "  <tbody>\n",
              "    <tr>\n",
              "      <th>a</th>\n",
              "      <td>16.0</td>\n",
              "      <td>NaN</td>\n",
              "      <td>3.0</td>\n",
              "    </tr>\n",
              "    <tr>\n",
              "      <th>b</th>\n",
              "      <td>11.0</td>\n",
              "      <td>2.0</td>\n",
              "      <td>1.0</td>\n",
              "    </tr>\n",
              "  </tbody>\n",
              "</table>\n",
              "</div>"
            ],
            "text/plain": [
              "Full_name       Jane Doe  John Smith  Mary Johnson\n",
              "treatment_type                                    \n",
              "a                   16.0         NaN           3.0\n",
              "b                   11.0         2.0           1.0"
            ]
          },
          "metadata": {
            "tags": []
          },
          "execution_count": 22
        }
      ]
    },
    {
      "cell_type": "code",
      "metadata": {
        "id": "fgxulJQq0uLw",
        "colab_type": "code",
        "colab": {}
      },
      "source": [
        "flights = sns.load_dataset('flights')"
      ],
      "execution_count": null,
      "outputs": []
    },
    {
      "cell_type": "code",
      "metadata": {
        "id": "1qKc88WI0up-",
        "colab_type": "code",
        "colab": {
          "base_uri": "https://localhost:8080/",
          "height": 550
        },
        "outputId": "af47c19f-4817-4e03-ac6e-8f98dadd0054"
      },
      "source": [
        "# Flights Pivot Table\n",
        "print(flights)\n",
        "flights_pivot = flights.pivot_table(values='passengers',index=\"year\",columns=\"month\")\n",
        "print(flights_pivot)"
      ],
      "execution_count": null,
      "outputs": [
        {
          "output_type": "stream",
          "text": [
            "     year      month  passengers\n",
            "0    1949    January         112\n",
            "1    1949   February         118\n",
            "2    1949      March         132\n",
            "3    1949      April         129\n",
            "4    1949        May         121\n",
            "..    ...        ...         ...\n",
            "139  1960     August         606\n",
            "140  1960  September         508\n",
            "141  1960    October         461\n",
            "142  1960   November         390\n",
            "143  1960   December         432\n",
            "\n",
            "[144 rows x 3 columns]\n",
            "month  January  February  March  April  ...  September  October  November  December\n",
            "year                                    ...                                        \n",
            "1949       112       118    132    129  ...        136      119       104       118\n",
            "1950       115       126    141    135  ...        158      133       114       140\n",
            "1951       145       150    178    163  ...        184      162       146       166\n",
            "1952       171       180    193    181  ...        209      191       172       194\n",
            "1953       196       196    236    235  ...        237      211       180       201\n",
            "1954       204       188    235    227  ...        259      229       203       229\n",
            "1955       242       233    267    269  ...        312      274       237       278\n",
            "1956       284       277    317    313  ...        355      306       271       306\n",
            "1957       315       301    356    348  ...        404      347       305       336\n",
            "1958       340       318    362    348  ...        404      359       310       337\n",
            "1959       360       342    406    396  ...        463      407       362       405\n",
            "1960       417       391    419    461  ...        508      461       390       432\n",
            "\n",
            "[12 rows x 12 columns]\n"
          ],
          "name": "stdout"
        }
      ]
    },
    {
      "cell_type": "markdown",
      "metadata": {
        "id": "mnOuqL9K0dqh",
        "colab_type": "text"
      },
      "source": [
        "## Join Data Stretch Challenge\n",
        "\n",
        "The [Instacart blog post](https://tech.instacart.com/3-million-instacart-orders-open-sourced-d40d29ead6f2) has a visualization of \"**Popular products** purchased earliest in the day (green) and latest in the day (red).\" \n",
        "\n",
        "The post says,\n",
        "\n",
        "> \"We can also see the time of day that users purchase specific products.\n",
        "\n",
        "> Healthier snacks and staples tend to be purchased earlier in the day, whereas ice cream (especially Half Baked and The Tonight Dough) are far more popular when customers are ordering in the evening.\n",
        "\n",
        "> **In fact, of the top 25 latest ordered products, the first 24 are ice cream! The last one, of course, is a frozen pizza.**\"\n",
        "\n",
        "Your challenge is to reproduce the list of the top 25 latest ordered popular products.\n",
        "\n",
        "We'll define \"popular products\" as products with more than 2,900 orders.\n",
        "\n"
      ]
    },
    {
      "cell_type": "markdown",
      "metadata": {
        "id": "Ah1dW_jzYELM",
        "colab_type": "text"
      },
      "source": [
        ""
      ]
    },
    {
      "cell_type": "code",
      "metadata": {
        "id": "TodeqLemPZus",
        "colab_type": "code",
        "colab": {
          "base_uri": "https://localhost:8080/",
          "height": 196
        },
        "outputId": "f6593419-5261-4d6b-c43d-aa7793b0c29e"
      },
      "source": [
        "\"\"\"# It seems to me there is some missing data. According to stament above \", the first 24 are ice cream!...The last one,\n",
        " of course, is a frozen pizza.\" Neither of those items appear not to be in the product.csv\"\"\"\n",
        "print(products[\"product_name\"].str.contains(\"ice cream\").value_counts())\n",
        "print(products[\"product_name\"].str.contains(\"pizza\").value_counts())\n",
        "print(products[products[\"product_name\"].str.contains(\"pizza\")])\n",
        "print(products[products[\"product_name\"].str.contains(\"ice cream\")])"
      ],
      "execution_count": null,
      "outputs": [
        {
          "output_type": "stream",
          "text": [
            "False    49687\n",
            "True         1\n",
            "Name: product_name, dtype: int64\n",
            "False    49688\n",
            "Name: product_name, dtype: int64\n",
            "Empty DataFrame\n",
            "Columns: [product_id, product_name, aisle_id, department_id]\n",
            "Index: []\n",
            "       product_id                   product_name  aisle_id  department_id\n",
            "19789       19790  Chocolate non-dairy ice cream        37              1\n"
          ],
          "name": "stdout"
        }
      ]
    },
    {
      "cell_type": "code",
      "metadata": {
        "colab_type": "code",
        "id": "Syc-aXUdX6ng",
        "colab": {
          "base_uri": "https://localhost:8080/",
          "height": 106
        },
        "outputId": "d51c9958-aa6b-4e0d-defe-29defcd1c218"
      },
      "source": [
        "##### concat (2) order_product_x df & merge product_name from product_id #####\n",
        "order_product_train_2 = order_product_train[[\"order_id\", \"product_id\"]]\n",
        "order_product_prior_2 = order_product_train[[\"order_id\", \"product_id\"]]\n",
        "order_product = pd.concat([order_product_train_2,order_product_prior_2])\n",
        "order_product_wnames= pd.merge(order_product , products[[\"product_id\",\"product_name\"]], left_on =\"product_id\", right_on=\"product_id\")\n",
        "print(orders_hours_of_day[\"product_name\"].str.contains(\"ice cream\").value_counts())\n",
        "print(orders_hours_of_day[\"product_name\"].str.contains(\"pizza\").value_counts())\n",
        "print(order_product_wnames.shape)"
      ],
      "execution_count": null,
      "outputs": [
        {
          "output_type": "stream",
          "text": [
            "False    2769234\n",
            "Name: product_name, dtype: int64\n",
            "False    2769234\n",
            "Name: product_name, dtype: int64\n",
            "(2769234, 3)\n"
          ],
          "name": "stdout"
        }
      ]
    },
    {
      "cell_type": "code",
      "metadata": {
        "id": "wYXa278BaAB7",
        "colab_type": "code",
        "colab": {
          "base_uri": "https://localhost:8080/",
          "height": 124
        },
        "outputId": "a2b5b312-7775-4281-dae9-40a8558307bd"
      },
      "source": [
        "orders_times = orders[[\"order_id\",\"order_hour_of_day\"]]\n",
        "print(orders_times.head())"
      ],
      "execution_count": null,
      "outputs": [
        {
          "output_type": "stream",
          "text": [
            "   order_id  order_hour_of_day\n",
            "0   2539329                  8\n",
            "1   2398795                  7\n",
            "2    473747                 12\n",
            "3   2254736                  7\n",
            "4    431534                 15\n"
          ],
          "name": "stdout"
        }
      ]
    },
    {
      "cell_type": "code",
      "metadata": {
        "id": "VLmeSb88cQFj",
        "colab_type": "code",
        "colab": {
          "base_uri": "https://localhost:8080/",
          "height": 124
        },
        "outputId": "6b798ec8-bddf-41f1-9bf1-e0f6daf2e6bd"
      },
      "source": [
        "orders_hours_of_day = pd.merge(order_product_wnames,orders_times,left_on=\"order_id\",right_on=\"order_id\")\n",
        "print(orders_hours_of_day.shape)\n",
        "print(orders_hours_of_day[\"product_name\"].str.contains(\"ice\").value_counts())\n",
        "print(orders_hours_of_day[\"product_name\"].str.contains(\"pizza\").value_counts())"
      ],
      "execution_count": null,
      "outputs": [
        {
          "output_type": "stream",
          "text": [
            "(2769234, 4)\n",
            "False    2635652\n",
            "True      133582\n",
            "Name: product_name, dtype: int64\n",
            "False    2769234\n",
            "Name: product_name, dtype: int64\n"
          ],
          "name": "stdout"
        }
      ]
    },
    {
      "cell_type": "code",
      "metadata": {
        "id": "ewxu8ox3dQF1",
        "colab_type": "code",
        "colab": {
          "base_uri": "https://localhost:8080/",
          "height": 372
        },
        "outputId": "33bf1be2-5620-44e8-af32-627f025497c8"
      },
      "source": [
        "count_of_product_ordered  = orders_hours_of_day[\"product_name\"].value_counts()\n",
        "count_of_product_ordered = count_of_product_ordered.reset_index()\n",
        "count_of_product_ordered = count_of_product_ordered.rename(columns={\"index\": \"product_name\",\"product_name\":\"amount_order\"})\n",
        "print(count_of_product_ordered.shape)\n",
        "print(count_of_product_ordered[\"product_name\"].str.contains(\"ice\").value_counts())\n",
        "print(count_of_product_ordered[\"product_name\"].str.contains(\"pizza\").value_counts())\n",
        "copo_filter = count_of_product_ordered.loc[count_of_product_ordered[\"amount_order\"] >= 2900].copy() #variable: count_of_product_ordered filtered by amount product ordered \n",
        "print(copo_filter)\n",
        "copo_filter['top_product'] = \"top\"\n"
      ],
      "execution_count": null,
      "outputs": [
        {
          "output_type": "stream",
          "text": [
            "(39123, 2)\n",
            "False    36682\n",
            "True      2441\n",
            "Name: product_name, dtype: int64\n",
            "False    39123\n",
            "Name: product_name, dtype: int64\n",
            "                                      product_name  amount_order\n",
            "0                                           Banana         37452\n",
            "1                           Bag of Organic Bananas         30960\n",
            "2                             Organic Strawberries         21788\n",
            "3                             Organic Baby Spinach         19568\n",
            "4                                      Large Lemon         16270\n",
            "..                                             ...           ...\n",
            "86                                 Red Raspberries          2986\n",
            "87                                Clementines, Bag          2956\n",
            "88                               Pure Irish Butter          2952\n",
            "89                                       Red Onion          2936\n",
            "90  Unsweetened Original Almond Breeze Almond Milk          2930\n",
            "\n",
            "[91 rows x 2 columns]\n"
          ],
          "name": "stdout"
        }
      ]
    },
    {
      "cell_type": "code",
      "metadata": {
        "id": "oO7pYwLCuB7e",
        "colab_type": "code",
        "colab": {
          "base_uri": "https://localhost:8080/",
          "height": 318
        },
        "outputId": "6ed1328a-bc13-46d0-be57-54aa59330d71"
      },
      "source": [
        "print(\"\\n \",copo_filter.shape)\n",
        "import copy\n",
        "print(\"\\n \",copo_filter.head(100))"
      ],
      "execution_count": null,
      "outputs": [
        {
          "output_type": "stream",
          "text": [
            "\n",
            "  (91, 3)\n",
            "\n",
            "                                        product_name  amount_order top_product\n",
            "0                                           Banana         37452         top\n",
            "1                           Bag of Organic Bananas         30960         top\n",
            "2                             Organic Strawberries         21788         top\n",
            "3                             Organic Baby Spinach         19568         top\n",
            "4                                      Large Lemon         16270         top\n",
            "..                                             ...           ...         ...\n",
            "86                                 Red Raspberries          2986         top\n",
            "87                                Clementines, Bag          2956         top\n",
            "88                               Pure Irish Butter          2952         top\n",
            "89                                       Red Onion          2936         top\n",
            "90  Unsweetened Original Almond Breeze Almond Milk          2930         top\n",
            "\n",
            "[91 rows x 3 columns]\n"
          ],
          "name": "stdout"
        }
      ]
    },
    {
      "cell_type": "code",
      "metadata": {
        "id": "swJIrnFfDrSZ",
        "colab_type": "code",
        "colab": {
          "base_uri": "https://localhost:8080/",
          "height": 158
        },
        "outputId": "34eb1b97-3afd-4a81-d973-4fc32fae06be"
      },
      "source": [
        "orders_top_products = pd.merge(orders_hours_of_day,copo_filter[[\"product_name\",\"top_product\"]],how=\"right\",on=\"product_name\")\n",
        "print(orders_top_products.shape)\n",
        "print(orders_top_products[\"top_product\"].isnull().sum())\n",
        "orders_top_products = pd.merge(orders_hours_of_day,copo_filter[[\"product_name\",\"top_product\"]],how=\"outer\",on=\"product_name\")\n",
        "print(orders_top_products.shape)\n",
        "print(orders_top_products[\"top_product\"].isnull().sum())\n",
        "orders_top_products = pd.merge(orders_hours_of_day,copo_filter[[\"product_name\",\"top_product\"]],how=\"left\",on=\"product_name\")\n",
        "print(orders_top_products.shape)\n",
        "print(orders_top_products[\"top_product\"].isnull().sum())\n",
        "orders_top_products = pd.merge(orders_hours_of_day,copo_filter[[\"product_name\",\"top_product\"]],how=\"inner\",on=\"product_name\")\n",
        "print(orders_top_products.shape)\n",
        "print(orders_top_products[\"top_product\"].isnull().sum())\n"
      ],
      "execution_count": null,
      "outputs": [
        {
          "output_type": "stream",
          "text": [
            "(603208, 5)\n",
            "0\n",
            "(2769234, 5)\n",
            "2166026\n",
            "(2769234, 5)\n",
            "2166026\n",
            "(603208, 5)\n",
            "0\n"
          ],
          "name": "stdout"
        }
      ]
    },
    {
      "cell_type": "code",
      "metadata": {
        "id": "ryE6Qj1fh3OX",
        "colab_type": "code",
        "colab": {
          "base_uri": "https://localhost:8080/",
          "height": 798
        },
        "outputId": "77d71629-306c-4fde-b6aa-f890293e782e"
      },
      "source": [
        "\n",
        "\n",
        "print(orders_top_products[\"top_product\"].isnull().sum())\n",
        "print(orders_top_products[\"order_hour_of_day\"].dtypes) #was getting a error wanted to check the column type\n",
        "orders_top_products1 = orders_top_products.loc[orders_top_products[\"order_hour_of_day\"].isin([0,18,19,20,21,22,23,24,1])]\n",
        "print(\"\\n \",orders_top_products1.shape,\"\\n\",orders_top_products1)\n",
        "orders_top_products1[\"product_name\"].value_counts().head(25)"
      ],
      "execution_count": null,
      "outputs": [
        {
          "output_type": "stream",
          "text": [
            "0\n",
            "int64\n",
            "\n",
            "  (116038, 5) \n",
            "         order_id  product_id    product_name  order_hour_of_day top_product\n",
            "10         74103       49683  Cucumber Kirby                 20         top\n",
            "11         74103       49683  Cucumber Kirby                 20         top\n",
            "12         92892       49683  Cucumber Kirby                 19         top\n",
            "13         92892       49683  Cucumber Kirby                 19         top\n",
            "22        400091       49683  Cucumber Kirby                 18         top\n",
            "...          ...         ...             ...                ...         ...\n",
            "603167   3337473         196            Soda                 21         top\n",
            "603200   3396656         196            Soda                 19         top\n",
            "603201   3396656         196            Soda                 19         top\n",
            "603206   3408411         196            Soda                 21         top\n",
            "603207   3408411         196            Soda                 21         top\n",
            "\n",
            "[116038 rows x 5 columns]\n"
          ],
          "name": "stdout"
        },
        {
          "output_type": "execute_result",
          "data": {
            "text/plain": [
              "Banana                    7448\n",
              "Bag of Organic Bananas    6130\n",
              "Organic Strawberries      4372\n",
              "Organic Baby Spinach      3736\n",
              "Large Lemon               3000\n",
              "Organic Hass Avocado      2836\n",
              "Organic Avocado           2814\n",
              "Strawberries              2482\n",
              "Limes                     2260\n",
              "Organic Raspberries       2224\n",
              "Organic Blueberries       1994\n",
              "Organic Whole Milk        1936\n",
              "Organic Cucumber          1846\n",
              "Organic Zucchini          1720\n",
              "Organic Garlic            1632\n",
              "Seedless Red Grapes       1574\n",
              "Organic Grape Tomatoes    1534\n",
              "Organic Yellow Onion      1496\n",
              "Asparagus                 1466\n",
              "Organic Lemon             1426\n",
              "Organic Red Onion         1426\n",
              "Organic Baby Carrots      1418\n",
              "Yellow Onions             1388\n",
              "Organic Cilantro          1342\n",
              "Honeycrisp Apple          1326\n",
              "Name: product_name, dtype: int64"
            ]
          },
          "metadata": {
            "tags": []
          },
          "execution_count": 69
        }
      ]
    },
    {
      "cell_type": "markdown",
      "metadata": {
        "id": "Ij8S60q0YXxo",
        "colab_type": "text"
      },
      "source": [
        "## Reshape Data Stretch Challenge\n",
        "\n",
        "_Try whatever sounds most interesting to you!_\n",
        "\n",
        "- Replicate more of Instacart's visualization showing \"Hour of Day Ordered\" vs \"Percent of Orders by Product\"\n",
        "- Replicate parts of the other visualization from [Instacart's blog post](https://tech.instacart.com/3-million-instacart-orders-open-sourced-d40d29ead6f2), showing \"Number of Purchases\" vs \"Percent Reorder Purchases\"\n",
        "- Get the most recent order for each user in Instacart's dataset. This is a useful baseline when [predicting a user's next order](https://www.kaggle.com/c/instacart-market-basket-analysis)\n",
        "- Replicate parts of the blog post linked at the top of this notebook: [Modern Pandas, Part 5: Tidy Data](https://tomaugspurger.github.io/modern-5-tidy.html)"
      ]
    },
    {
      "cell_type": "code",
      "metadata": {
        "id": "_d6IA2R0YXFY",
        "colab_type": "code",
        "colab": {}
      },
      "source": [
        "##### YOUR CODE HERE #####"
      ],
      "execution_count": null,
      "outputs": []
    }
  ]
}