{
  "nbformat": 4,
  "nbformat_minor": 0,
  "metadata": {
    "colab": {
      "name": "Mike Smith, Coding Challenge 10.31.ipynb",
      "provenance": [],
      "collapsed_sections": [],
      "include_colab_link": true
    },
    "kernelspec": {
      "name": "python3",
      "display_name": "Python 3"
    }
  },
  "cells": [
    {
      "cell_type": "markdown",
      "metadata": {
        "id": "view-in-github",
        "colab_type": "text"
      },
      "source": [
        "<a href=\"https://colab.research.google.com/github/gomlfx/DS-Unit-1-Sprint-1-Data-Wrangling-and-Storytelling/blob/master/Mike_Smith%2C_Coding_Challenge_10_31.ipynb\" target=\"_parent\"><img src=\"https://colab.research.google.com/assets/colab-badge.svg\" alt=\"Open In Colab\"/></a>"
      ]
    },
    {
      "cell_type": "markdown",
      "metadata": {
        "id": "DTryy-ftM4Nn",
        "colab_type": "text"
      },
      "source": [
        "## Good Evening! Welcome to your first Python code challenge. \n",
        "## Use your Googfu skills to help you find a solution.\n"
      ]
    },
    {
      "cell_type": "markdown",
      "metadata": {
        "id": "MYcqiCCYNvrU",
        "colab_type": "text"
      },
      "source": [
        "### 1. Write Python code that creates a random string using 'a', 'e', 'i', 'o', 'u'. Using each character only once. \n",
        "HINT: Lookup the .shuffle method in the random lib\n"
      ]
    },
    {
      "cell_type": "code",
      "metadata": {
        "id": "P5oD9XXnMJ6S",
        "colab_type": "code",
        "colab": {
          "base_uri": "https://localhost:8080/",
          "height": 34
        },
        "outputId": "991103eb-21b2-4cb0-de51-b7038c25507e"
      },
      "source": [
        "import random\n",
        "char_list = ['a','e','i','o','u']\n",
        "random.shuffle(char_list)\n",
        "print(''.join(char_list))\n"
      ],
      "execution_count": 2,
      "outputs": [
        {
          "output_type": "stream",
          "text": [
            "oauei\n"
          ],
          "name": "stdout"
        }
      ]
    },
    {
      "cell_type": "markdown",
      "metadata": {
        "id": "U5VoSsxeN23s",
        "colab_type": "text"
      },
      "source": [
        "###2.  Write Python code to calculate number of days between two dates"
      ]
    },
    {
      "cell_type": "code",
      "metadata": {
        "id": "hEqCjZtPN9jD",
        "colab_type": "code",
        "colab": {
          "base_uri": "https://localhost:8080/",
          "height": 34
        },
        "outputId": "c2ba25ba-fe70-4488-9fca-9914d5eb8060"
      },
      "source": [
        "from datetime import date\n",
        "# your code here\n",
        "f_date = date(2019,10,31)\n",
        "l_date = date(2020,10,31)\n",
        "delta = l_date - f_date\n",
        "print(delta.days)"
      ],
      "execution_count": 3,
      "outputs": [
        {
          "output_type": "stream",
          "text": [
            "366\n"
          ],
          "name": "stdout"
        }
      ]
    },
    {
      "cell_type": "markdown",
      "metadata": {
        "id": "T4H8Ao77O1oV",
        "colab_type": "text"
      },
      "source": [
        "### 3. Write a Python function to get the difference between a given number and 17, if the number is greater than 17 return double the difference.\n",
        "\n",
        "\n"
      ]
    },
    {
      "cell_type": "code",
      "metadata": {
        "id": "-mvceDTSOypS",
        "colab_type": "code",
        "outputId": "941a016d-d3c3-4241-d077-c13849a530f2",
        "colab": {
          "base_uri": "https://localhost:8080/",
          "height": 51
        }
      },
      "source": [
        "def difference(n):\n",
        "    if n <= 17:\n",
        "      return 17 - n \n",
        "    else:\n",
        "      return (n - 17) * 2\n",
        "    \n",
        "    #result=0\n",
        "    # your code here\n",
        "    #return result\n",
        "print(difference(22))\n",
        "print(difference(14))"
      ],
      "execution_count": 4,
      "outputs": [
        {
          "output_type": "stream",
          "text": [
            "10\n",
            "3\n"
          ],
          "name": "stdout"
        }
      ]
    },
    {
      "cell_type": "markdown",
      "metadata": {
        "id": "ALpkS9d_PVI3",
        "colab_type": "text"
      },
      "source": [
        "### Stretch Goals: "
      ]
    },
    {
      "cell_type": "markdown",
      "metadata": {
        "id": "Fpfn3ozePw96",
        "colab_type": "text"
      },
      "source": [
        "### 4. Write Python code to find whether a given number (accept from the user) is even or odd, print out an appropriate message to the user.\n",
        "HINT:  you'll need to use the python's input function\n",
        "\n",
        " "
      ]
    },
    {
      "cell_type": "code",
      "metadata": {
        "id": "_I50Qf83PDHL",
        "colab_type": "code",
        "outputId": "8236f4fa-6e94-4f80-bb9a-59332ca48f3f",
        "colab": {
          "base_uri": "https://localhost:8080/",
          "height": 51
        }
      },
      "source": [
        "num = int(input(\"Enter a number: \"))\n",
        "# your code here\n",
        "mod = num % 2\n",
        "if mod > 0:\n",
        "  print(\"This is an odd number.\")\n",
        "else:\n",
        "  print(\"This is an even number.\")"
      ],
      "execution_count": 5,
      "outputs": [
        {
          "output_type": "stream",
          "text": [
            "Enter a number: 23\n",
            "This is an odd number.\n"
          ],
          "name": "stdout"
        }
      ]
    },
    {
      "cell_type": "markdown",
      "metadata": {
        "id": "oHF_eYwkQSgH",
        "colab_type": "text"
      },
      "source": [
        "### 5. Write Python function to display your details like \n",
        "\n",
        "1.   List item\n",
        "2.   List item\n",
        "\n",
        "name, age, address in three different lines."
      ]
    },
    {
      "cell_type": "code",
      "metadata": {
        "id": "I3t9apsdP9J0",
        "colab_type": "code",
        "colab": {
          "base_uri": "https://localhost:8080/",
          "height": 68
        },
        "outputId": "b4468022-700b-4c35-db94-b971a2a6dde6"
      },
      "source": [
        "def personal_details():\n",
        "  # your code here\n",
        "  name, age = \"Simon\", 19\n",
        "  address = \"Bangalore, Karnataka, India\"\n",
        "  print(\"Name: {}\\nAge:  {}\\nAddress: {}\".format(name, age, address))\n",
        "  \n",
        "personal_details()"
      ],
      "execution_count": 7,
      "outputs": [
        {
          "output_type": "stream",
          "text": [
            "Name: Simon\n",
            "Age:  19\n",
            "Address: Bangalore, Karnataka, India\n"
          ],
          "name": "stdout"
        }
      ]
    }
  ]
}