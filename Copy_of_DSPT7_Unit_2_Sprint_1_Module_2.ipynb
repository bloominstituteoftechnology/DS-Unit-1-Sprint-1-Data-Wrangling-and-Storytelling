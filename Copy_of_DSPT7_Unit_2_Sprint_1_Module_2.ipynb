{
  "nbformat": 4,
  "nbformat_minor": 0,
  "metadata": {
    "kernelspec": {
      "display_name": "Python 3",
      "language": "python",
      "name": "python3"
    },
    "language_info": {
      "codemirror_mode": {
        "name": "ipython",
        "version": 3
      },
      "file_extension": ".py",
      "mimetype": "text/x-python",
      "name": "python",
      "nbconvert_exporter": "python",
      "pygments_lexer": "ipython3",
      "version": "3.7.3"
    },
    "colab": {
      "name": "Copy of DSPT7 -Unit 2 - Sprint 1 - Module 2",
      "provenance": [],
      "include_colab_link": true
    }
  },
  "cells": [
    {
      "cell_type": "markdown",
      "metadata": {
        "id": "view-in-github",
        "colab_type": "text"
      },
      "source": [
        "<a href=\"https://colab.research.google.com/github/JamesPupkies/DS-Unit-1-Sprint-1-Data-Wrangling-and-Storytelling/blob/master/Copy_of_DSPT7_Unit_2_Sprint_1_Module_2.ipynb\" target=\"_parent\"><img src=\"https://colab.research.google.com/assets/colab-badge.svg\" alt=\"Open In Colab\"/></a>"
      ]
    },
    {
      "cell_type": "markdown",
      "metadata": {
        "colab_type": "text",
        "id": "XmOQQWETlITN"
      },
      "source": [
        "Lambda School Data Science\n",
        "\n",
        "*Unit 2, Sprint 1, Module 2*\n",
        "\n",
        "---"
      ]
    },
    {
      "cell_type": "markdown",
      "metadata": {
        "colab_type": "text",
        "id": "zmFCg6UArzn6"
      },
      "source": [
        "# Regression 2\n",
        "- Do train/test split\n",
        "- Use scikit-learn to fit a multiple regression\n",
        "- Understand how ordinary least squares regression minimizes the sum of squared errors\n",
        "- Define overfitting/underfitting and the bias/variance tradeoff"
      ]
    },
    {
      "cell_type": "markdown",
      "metadata": {
        "colab_type": "text",
        "id": "TLcAHk5arzn8"
      },
      "source": [
        "### Setup\n",
        "\n",
        "Run the code cell below. You can work locally (follow the [local setup instructions](https://lambdaschool.github.io/ds/unit2/local/)) or on Colab.\n",
        "\n",
        "Libraries:\n",
        "- matplotlib\n",
        "- numpy\n",
        "- pandas\n",
        "- plotly\n",
        "- scikit-learn"
      ]
    },
    {
      "cell_type": "code",
      "metadata": {
        "colab_type": "code",
        "id": "gtJg1IJZrzn9",
        "colab": {}
      },
      "source": [
        "import sys\n",
        "\n",
        "# If you're on Colab:\n",
        "if 'google.colab' in sys.modules:\n",
        "    DATA_PATH = 'https://raw.githubusercontent.com/LambdaSchool/DS-Unit-2-Applied-Modeling/master/data/'\n",
        "\n",
        "# If you're working locally:\n",
        "else:\n",
        "    DATA_PATH = '../data/'\n",
        "    \n",
        "# Ignore this Numpy warning when using Plotly Express:\n",
        "# FutureWarning: Method .ptp is deprecated and will be removed in a future version. Use numpy.ptp instead.\n",
        "import warnings\n",
        "warnings.filterwarnings(action='ignore', category=FutureWarning, module='numpy')"
      ],
      "execution_count": null,
      "outputs": []
    },
    {
      "cell_type": "markdown",
      "metadata": {
        "colab_type": "text",
        "id": "0LxiLwQC5age"
      },
      "source": [
        "# Do train/test split"
      ]
    },
    {
      "cell_type": "markdown",
      "metadata": {
        "colab_type": "text",
        "id": "ZLte4DsmmZgC"
      },
      "source": [
        "## Overview"
      ]
    },
    {
      "cell_type": "markdown",
      "metadata": {
        "colab_type": "text",
        "id": "V2ui5w4C5agf"
      },
      "source": [
        "### Predict Elections! 🇺🇸🗳️"
      ]
    },
    {
      "cell_type": "markdown",
      "metadata": {
        "colab_type": "text",
        "id": "7bf0OR0J5agf"
      },
      "source": [
        "How could we try to predict the 2020 US Presidential election? \n",
        "\n",
        "According to Douglas Hibbs, a political science and economics professor, you can [explain elections with just two features, \"Bread and Peace\":](https://douglas-hibbs.com/background-information-on-bread-and-peace-voting-in-us-presidential-elections/)\n",
        "\n",
        "> Aggregate two-party vote shares going to candidates of the party holding the presidency during the postwar era are well explained by just two fundamental determinants:\n",
        ">\n",
        "> (1) Positively by weighted-average growth of per capita real disposable personal income over the term.  \n",
        "> (2) Negatively by cumulative US military fatalities (scaled to population) owing to unprovoked, hostile deployments of American armed forces in foreign wars. "
      ]
    },
    {
      "cell_type": "markdown",
      "metadata": {
        "colab_type": "text",
        "id": "xNDqNff_0N6m"
      },
      "source": [
        "Let's look at the data that Hibbs collected and analyzed:"
      ]
    },
    {
      "cell_type": "code",
      "metadata": {
        "colab_type": "code",
        "id": "VRh-FSMTrzoG",
        "colab": {
          "base_uri": "https://localhost:8080/",
          "height": 593
        },
        "outputId": "2eddb7d5-ab10-4981-eb22-b6ab862f8edf"
      },
      "source": [
        "import pandas as pd\n",
        "df = pd.read_csv(DATA_PATH+'elections/bread_peace_voting.csv')\n",
        "df"
      ],
      "execution_count": null,
      "outputs": [
        {
          "output_type": "execute_result",
          "data": {
            "text/html": [
              "<div>\n",
              "<style scoped>\n",
              "    .dataframe tbody tr th:only-of-type {\n",
              "        vertical-align: middle;\n",
              "    }\n",
              "\n",
              "    .dataframe tbody tr th {\n",
              "        vertical-align: top;\n",
              "    }\n",
              "\n",
              "    .dataframe thead th {\n",
              "        text-align: right;\n",
              "    }\n",
              "</style>\n",
              "<table border=\"1\" class=\"dataframe\">\n",
              "  <thead>\n",
              "    <tr style=\"text-align: right;\">\n",
              "      <th></th>\n",
              "      <th>Year</th>\n",
              "      <th>Incumbent Party Candidate</th>\n",
              "      <th>Other Candidate</th>\n",
              "      <th>Average Recent Growth in Personal Incomes</th>\n",
              "      <th>US Military Fatalities per Million</th>\n",
              "      <th>Incumbent Party Vote Share</th>\n",
              "    </tr>\n",
              "  </thead>\n",
              "  <tbody>\n",
              "    <tr>\n",
              "      <th>0</th>\n",
              "      <td>1952</td>\n",
              "      <td>Stevenson</td>\n",
              "      <td>Eisenhower</td>\n",
              "      <td>2.40</td>\n",
              "      <td>190</td>\n",
              "      <td>44.60</td>\n",
              "    </tr>\n",
              "    <tr>\n",
              "      <th>1</th>\n",
              "      <td>1956</td>\n",
              "      <td>Eisenhower</td>\n",
              "      <td>Stevenson</td>\n",
              "      <td>2.89</td>\n",
              "      <td>0</td>\n",
              "      <td>57.76</td>\n",
              "    </tr>\n",
              "    <tr>\n",
              "      <th>2</th>\n",
              "      <td>1960</td>\n",
              "      <td>Nixon</td>\n",
              "      <td>Kennedy</td>\n",
              "      <td>0.85</td>\n",
              "      <td>0</td>\n",
              "      <td>49.91</td>\n",
              "    </tr>\n",
              "    <tr>\n",
              "      <th>3</th>\n",
              "      <td>1964</td>\n",
              "      <td>Johnson</td>\n",
              "      <td>Goldwater</td>\n",
              "      <td>4.21</td>\n",
              "      <td>1</td>\n",
              "      <td>61.34</td>\n",
              "    </tr>\n",
              "    <tr>\n",
              "      <th>4</th>\n",
              "      <td>1968</td>\n",
              "      <td>Humphrey</td>\n",
              "      <td>Nixon</td>\n",
              "      <td>3.02</td>\n",
              "      <td>146</td>\n",
              "      <td>49.60</td>\n",
              "    </tr>\n",
              "    <tr>\n",
              "      <th>5</th>\n",
              "      <td>1972</td>\n",
              "      <td>Nixon</td>\n",
              "      <td>McGovern</td>\n",
              "      <td>3.62</td>\n",
              "      <td>0</td>\n",
              "      <td>61.79</td>\n",
              "    </tr>\n",
              "    <tr>\n",
              "      <th>6</th>\n",
              "      <td>1976</td>\n",
              "      <td>Ford</td>\n",
              "      <td>Carter</td>\n",
              "      <td>1.08</td>\n",
              "      <td>2</td>\n",
              "      <td>48.95</td>\n",
              "    </tr>\n",
              "    <tr>\n",
              "      <th>7</th>\n",
              "      <td>1980</td>\n",
              "      <td>Carter</td>\n",
              "      <td>Reagan</td>\n",
              "      <td>-0.39</td>\n",
              "      <td>0</td>\n",
              "      <td>44.70</td>\n",
              "    </tr>\n",
              "    <tr>\n",
              "      <th>8</th>\n",
              "      <td>1984</td>\n",
              "      <td>Reagan</td>\n",
              "      <td>Mondale</td>\n",
              "      <td>3.86</td>\n",
              "      <td>0</td>\n",
              "      <td>59.17</td>\n",
              "    </tr>\n",
              "    <tr>\n",
              "      <th>9</th>\n",
              "      <td>1988</td>\n",
              "      <td>Bush, Sr.</td>\n",
              "      <td>Dukakis</td>\n",
              "      <td>2.27</td>\n",
              "      <td>0</td>\n",
              "      <td>53.94</td>\n",
              "    </tr>\n",
              "    <tr>\n",
              "      <th>10</th>\n",
              "      <td>1992</td>\n",
              "      <td>Bush, Sr.</td>\n",
              "      <td>Clinton</td>\n",
              "      <td>0.38</td>\n",
              "      <td>0</td>\n",
              "      <td>46.55</td>\n",
              "    </tr>\n",
              "    <tr>\n",
              "      <th>11</th>\n",
              "      <td>1996</td>\n",
              "      <td>Clinton</td>\n",
              "      <td>Dole</td>\n",
              "      <td>1.04</td>\n",
              "      <td>0</td>\n",
              "      <td>54.74</td>\n",
              "    </tr>\n",
              "    <tr>\n",
              "      <th>12</th>\n",
              "      <td>2000</td>\n",
              "      <td>Gore</td>\n",
              "      <td>Bush, Jr.</td>\n",
              "      <td>2.36</td>\n",
              "      <td>0</td>\n",
              "      <td>50.27</td>\n",
              "    </tr>\n",
              "    <tr>\n",
              "      <th>13</th>\n",
              "      <td>2004</td>\n",
              "      <td>Bush, Jr.</td>\n",
              "      <td>Kerry</td>\n",
              "      <td>1.72</td>\n",
              "      <td>4</td>\n",
              "      <td>51.24</td>\n",
              "    </tr>\n",
              "    <tr>\n",
              "      <th>14</th>\n",
              "      <td>2008</td>\n",
              "      <td>McCain</td>\n",
              "      <td>Obama</td>\n",
              "      <td>0.10</td>\n",
              "      <td>14</td>\n",
              "      <td>46.32</td>\n",
              "    </tr>\n",
              "    <tr>\n",
              "      <th>15</th>\n",
              "      <td>2012</td>\n",
              "      <td>Obama</td>\n",
              "      <td>Romney</td>\n",
              "      <td>0.95</td>\n",
              "      <td>5</td>\n",
              "      <td>52.00</td>\n",
              "    </tr>\n",
              "    <tr>\n",
              "      <th>16</th>\n",
              "      <td>2016</td>\n",
              "      <td>Clinton</td>\n",
              "      <td>Trump</td>\n",
              "      <td>0.10</td>\n",
              "      <td>5</td>\n",
              "      <td>48.20</td>\n",
              "    </tr>\n",
              "  </tbody>\n",
              "</table>\n",
              "</div>"
            ],
            "text/plain": [
              "    Year  ... Incumbent Party Vote Share\n",
              "0   1952  ...                      44.60\n",
              "1   1956  ...                      57.76\n",
              "2   1960  ...                      49.91\n",
              "3   1964  ...                      61.34\n",
              "4   1968  ...                      49.60\n",
              "5   1972  ...                      61.79\n",
              "6   1976  ...                      48.95\n",
              "7   1980  ...                      44.70\n",
              "8   1984  ...                      59.17\n",
              "9   1988  ...                      53.94\n",
              "10  1992  ...                      46.55\n",
              "11  1996  ...                      54.74\n",
              "12  2000  ...                      50.27\n",
              "13  2004  ...                      51.24\n",
              "14  2008  ...                      46.32\n",
              "15  2012  ...                      52.00\n",
              "16  2016  ...                      48.20\n",
              "\n",
              "[17 rows x 6 columns]"
            ]
          },
          "metadata": {
            "tags": []
          },
          "execution_count": 2
        }
      ]
    },
    {
      "cell_type": "markdown",
      "metadata": {
        "colab_type": "text",
        "id": "PggiQ7pm5agj"
      },
      "source": [
        "Data Sources & Definitions\n",
        "\n",
        "- 1952-2012: Douglas Hibbs, [2014 lecture at Deakin University Melbourne](http://www.douglas-hibbs.com/HibbsArticles/HIBBS-PRESVOTE-SLIDES-MELBOURNE-Part1-2014-02-26.pdf), Slide 40\n",
        "- 2016, Vote Share: [The American Presidency Project](https://www.presidency.ucsb.edu/statistics/elections)\n",
        "- 2016, Recent Growth in Personal Incomes: [The 2016 election economy: the \"Bread and Peace\" model final forecast](https://angrybearblog.com/2016/11/the-2016-election-economy-the-bread-and-peace-model-final-forecast.html)\n",
        "- 2016, US Military Fatalities: Assumption that Afghanistan War fatalities in 2012-16 occured at the same rate as 2008-12\n",
        "\n",
        "> Fatalities denotes the cumulative number of American military fatalities per millions of US population the in Korea, Vietnam, Iraq and Afghanistan wars during the presidential terms preceding the 1952, 1964, 1968, 1976 and 2004, 2008 and 2012 elections. —[Hibbs](http://www.douglas-hibbs.com/HibbsArticles/HIBBS-PRESVOTE-SLIDES-MELBOURNE-Part1-2014-02-26.pdf), Slide 33"
      ]
    },
    {
      "cell_type": "markdown",
      "metadata": {
        "colab_type": "text",
        "id": "ULwtMf5s5agj"
      },
      "source": [
        "Here we have data from the 1952-2016 elections. We could make a model to predict 1952-2016 election outcomes — but do we really care about that? \n",
        "\n",
        "No, not really. We already know what happened, we don't need to predict it."
      ]
    },
    {
      "cell_type": "markdown",
      "metadata": {
        "colab_type": "text",
        "id": "Q1ADKjNU5agk"
      },
      "source": [
        "This is explained in [_An Introduction to Statistical Learning_](http://faculty.marshall.usc.edu/gareth-james/ISL/), Chapter 2.2, Assessing Model Accuracy:\n",
        "\n",
        "> In general, we do not really care how well the method works training on the training data. Rather, _we are interested in the accuracy of the predictions that we obtain when we apply our method to previously unseen test data._ Why is this what we care about? \n",
        ">\n",
        "> Suppose that we are interested in developing an algorithm to predict a stock’s price based on previous stock returns. We can train the method using stock returns from the past 6 months. But we don’t really care how well our method predicts last week’s stock price. We instead care about how well it will predict tomorrow’s price or next month’s price. \n",
        ">\n",
        "> On a similar note, suppose that we have clinical measurements (e.g. weight, blood pressure, height, age, family history of disease) for a number of patients, as well as information about whether each patient has diabetes. We can use these patients to train a statistical learning method to predict risk of diabetes based on clinical measurements. In practice, we want this method to accurately predict diabetes risk for _future patients_ based on their clinical measurements. We are not very interested in whether or not the method accurately predicts diabetes risk for patients used to train the model, since we already know which of those patients have diabetes."
      ]
    },
    {
      "cell_type": "markdown",
      "metadata": {
        "colab_type": "text",
        "id": "9203LqC05agk"
      },
      "source": [
        "So, we're really interested in the 2020 election — but we probably don't want to wait until then to evaluate our model.\n",
        "\n",
        "There is a way we can estimate now how well our model will generalize in the future. We can't fast-forward time, but we can rewind it...\n",
        "\n",
        "We can split our data in **two sets.** For example: \n",
        "1. **Train** a model on elections before 2008.\n",
        "2. **Test** the model on 2008, 2012, 2016. \n",
        "\n",
        "This \"backtesting\" helps us estimate how well the model will predict the next elections going forward, starting in 2020."
      ]
    },
    {
      "cell_type": "markdown",
      "metadata": {
        "colab_type": "text",
        "id": "4v28ozcC5agl"
      },
      "source": [
        "This is explained in [_Forecasting,_ Chapter 3.4,](https://otexts.com/fpp2/accuracy.html) Evaluating forecast accuracy:\n",
        "\n",
        "> The accuracy of forecasts can only be determined by considering how well a model performs on new data that were not used when fitting the model.\n",
        ">\n",
        ">When choosing models, it is common practice to separate the available data into two portions, training and test data, where the training data is used to estimate any parameters of a forecasting method and the test data is used to evaluate its accuracy. Because the test data is not used in determining the forecasts, it should provide a reliable indication of how well the model is likely to forecast on new data.\n",
        ">\n",
        ">![](https://otexts.com/fpp2/fpp_files/figure-html/traintest-1.png)\n",
        ">\n",
        ">The size of the test set is typically about 20% of the total sample, although this value depends on how long the sample is and how far ahead you want to forecast. The following points should be noted.\n",
        ">\n",
        ">- A model which fits the training data well will not necessarily forecast well.\n",
        ">- A perfect fit can always be obtained by using a model with enough parameters.\n",
        ">- Over-fitting a model to data is just as bad as failing to identify a systematic pattern in the data.\n",
        ">\n",
        ">Some references describe the test set as the “hold-out set” because these data are “held out” of the data used for fitting. Other references call the training set the “in-sample data” and the test set the “out-of-sample data”. We prefer to use “training data” and “test data” in this book."
      ]
    },
    {
      "cell_type": "markdown",
      "metadata": {
        "id": "-YLdPD2FeMSh",
        "colab_type": "text"
      },
      "source": [
        "**How should we split: Randomly? Before/after a given date?**\n",
        "\n",
        "I recommend you all read a great blog post, [How (and why) to create a good validation set](https://www.fast.ai/2017/11/13/validation-sets/), by fast.ai cofounder Rachel Thomas.\n",
        "\n",
        "She gives great examples to answer the question “When is a random subset not good enough?” I’m not as opposed to random splits as Rachel Thomas seems to be. But it’s worth thinking about the trade-offs!\n",
        "\n",
        "Time-based and random splits can both be useful, and you’ll get repeated hands-on practice with both during this unit! (She also talks about the distinction between validation & test sets, which we’ll introduce in the last lesson of this Sprint.)"
      ]
    },
    {
      "cell_type": "markdown",
      "metadata": {
        "colab_type": "text",
        "id": "N01ZcGp75agl"
      },
      "source": [
        "## Follow Along\n",
        "\n",
        "Split the data in two sets:\n",
        "1. Train on elections before 2008.\n",
        "2. Test on 2008 and after."
      ]
    },
    {
      "cell_type": "code",
      "metadata": {
        "colab_type": "code",
        "id": "3ymL6tTE5agm",
        "colab": {}
      },
      "source": [
        "train = df [ df['Year'] < 2008 ]\n",
        "test = df[ df['Year'] >= 2008 ]"
      ],
      "execution_count": null,
      "outputs": []
    },
    {
      "cell_type": "markdown",
      "metadata": {
        "colab_type": "text",
        "id": "AYzA8Snk5ago"
      },
      "source": [
        "How many observations (rows) are in the train set? In the test set?"
      ]
    },
    {
      "cell_type": "code",
      "metadata": {
        "colab_type": "code",
        "id": "IwsFNRRl5ago",
        "colab": {
          "base_uri": "https://localhost:8080/",
          "height": 34
        },
        "outputId": "ec01ebb8-e79e-4352-eeaf-1159d8f74159"
      },
      "source": [
        "train.shape, test.shape"
      ],
      "execution_count": null,
      "outputs": [
        {
          "output_type": "execute_result",
          "data": {
            "text/plain": [
              "((14, 6), (3, 6))"
            ]
          },
          "metadata": {
            "tags": []
          },
          "execution_count": 4
        }
      ]
    },
    {
      "cell_type": "markdown",
      "metadata": {
        "colab_type": "text",
        "id": "WgBB3mUS5agq"
      },
      "source": [
        "Note that this volume of data is at least two orders of magnitude smaller than we usually want to work with for predictive modeling.\n",
        "\n",
        "There are other validation techniques that could be used here, such as [time series cross-validation](https://scikit-learn.org/stable/modules/cross_validation.html#time-series-split), or [leave-one-out cross validation](https://scikit-learn.org/stable/modules/cross_validation.html#leave-one-out-loo) for small datasets. However, for this module, let's start simpler, with train/test split. \n",
        "\n",
        "Using a tiny dataset is intentional here. It's good for learning because we can see all the data at once."
      ]
    },
    {
      "cell_type": "markdown",
      "metadata": {
        "colab_type": "text",
        "id": "FX3C2Fef5agr"
      },
      "source": [
        "## Challenge\n",
        "\n",
        "In your assignment, you will do train/test split, based on date."
      ]
    },
    {
      "cell_type": "markdown",
      "metadata": {
        "colab_type": "text",
        "id": "0jqNcyDg5agr"
      },
      "source": [
        "# Use scikit-learn to fit a multiple regression"
      ]
    },
    {
      "cell_type": "markdown",
      "metadata": {
        "colab_type": "text",
        "id": "BzEcjXpp5ags"
      },
      "source": [
        "## Overview\n",
        "\n",
        "We've done train/test split, and we're ready to fit a model. \n",
        "\n",
        "We'll proceed in 3 steps. The first 2 are review from the previous module. The 3rd is new.\n",
        "\n",
        "- Begin with baselines (0 features) \n",
        "- Simple regression (1 feature)\n",
        "- Multiple regression (2 features)"
      ]
    },
    {
      "cell_type": "markdown",
      "metadata": {
        "colab_type": "text",
        "id": "9ChZZMtu5qMU"
      },
      "source": [
        "## Follow Along"
      ]
    },
    {
      "cell_type": "markdown",
      "metadata": {
        "colab_type": "text",
        "id": "6mYp_0Aq5ags"
      },
      "source": [
        "### Begin with baselines (0 features)"
      ]
    },
    {
      "cell_type": "markdown",
      "metadata": {
        "colab_type": "text",
        "id": "d_0nPUcQ0RpB"
      },
      "source": [
        "What was the average Incumbent Party Vote Share, in the 1952-2004 elections?"
      ]
    },
    {
      "cell_type": "code",
      "metadata": {
        "colab_type": "code",
        "id": "mjm2CBV1ty35",
        "colab": {
          "base_uri": "https://localhost:8080/",
          "height": 34
        },
        "outputId": "89bbfc49-6a76-4fbe-ae60-78c8eb24a5b6"
      },
      "source": [
        "train['Incumbent Party Vote Share'].mean()"
      ],
      "execution_count": null,
      "outputs": [
        {
          "output_type": "execute_result",
          "data": {
            "text/plain": [
              "52.46857142857142"
            ]
          },
          "metadata": {
            "tags": []
          },
          "execution_count": 5
        }
      ]
    },
    {
      "cell_type": "markdown",
      "metadata": {
        "colab_type": "text",
        "id": "2aYkCqM_5agv"
      },
      "source": [
        "What if we guessed this number for every election? How far off would this be on average?"
      ]
    },
    {
      "cell_type": "code",
      "metadata": {
        "id": "ZKVNZoZGeMSz",
        "colab_type": "code",
        "colab": {
          "base_uri": "https://localhost:8080/",
          "height": 34
        },
        "outputId": "a63c290b-4c29-45f3-a609-93f56031a075"
      },
      "source": [
        "# Arrange y target vectors\n",
        "target = 'Incumbent Party Vote Share'\n",
        "y_train = train[target]\n",
        "y_test = test[target]\n",
        "y_train.shape, y_test.shape"
      ],
      "execution_count": null,
      "outputs": [
        {
          "output_type": "execute_result",
          "data": {
            "text/plain": [
              "((14,), (3,))"
            ]
          },
          "metadata": {
            "tags": []
          },
          "execution_count": 8
        }
      ]
    },
    {
      "cell_type": "code",
      "metadata": {
        "id": "sJcvvfKKeMS2",
        "colab_type": "code",
        "colab": {
          "base_uri": "https://localhost:8080/",
          "height": 51
        },
        "outputId": "9c2b5980-4249-4c2b-c68c-d09f7032141e"
      },
      "source": [
        "# Get mean baseline\n",
        "print('Mean Baseline (using 0 features)')\n",
        "guess = y_train.mean()\n",
        "guess"
      ],
      "execution_count": null,
      "outputs": [
        {
          "output_type": "stream",
          "text": [
            "Mean Baseline (using 0 features)\n"
          ],
          "name": "stdout"
        },
        {
          "output_type": "execute_result",
          "data": {
            "text/plain": [
              "52.46857142857142"
            ]
          },
          "metadata": {
            "tags": []
          },
          "execution_count": 10
        }
      ]
    },
    {
      "cell_type": "code",
      "metadata": {
        "id": "9-kiPxiyeMS5",
        "colab_type": "code",
        "colab": {
          "base_uri": "https://localhost:8080/",
          "height": 34
        },
        "outputId": "3b38f25d-c7e4-4c0b-e297-3c49245c3e10"
      },
      "source": [
        "# Train Error\n",
        "from sklearn.metrics import mean_absolute_error\n",
        "y_pred = [guess] * len(y_train)\n",
        "y_pred\n",
        "mae = mean_absolute_error(y_train, y_pred)\n",
        "print(f'Train Error (1952-2004 elections): {mae:.2f} percentage points')"
      ],
      "execution_count": null,
      "outputs": [
        {
          "output_type": "stream",
          "text": [
            "Train Error (1952-2004 elections): 4.85 percentage points\n"
          ],
          "name": "stdout"
        }
      ]
    },
    {
      "cell_type": "code",
      "metadata": {
        "colab_type": "code",
        "id": "3ma2uzUD5agv",
        "colab": {
          "base_uri": "https://localhost:8080/",
          "height": 34
        },
        "outputId": "8b7d1ec6-b3c5-4c15-8444-2d251d45d7e7"
      },
      "source": [
        "# Test Error\n",
        "y_pred = [guess] * len(y_test)\n",
        "mae = mean_absolute_error(y_test, y_pred)\n",
        "print(f'Test Error (2008-16 elections): {mae:.2f} percentage points')"
      ],
      "execution_count": null,
      "outputs": [
        {
          "output_type": "stream",
          "text": [
            "Test Error (2008-16 elections): 3.63 percentage points\n"
          ],
          "name": "stdout"
        }
      ]
    },
    {
      "cell_type": "markdown",
      "metadata": {
        "colab_type": "text",
        "id": "QlAAlCA_5agx"
      },
      "source": [
        "### Simple regression (1 feature)"
      ]
    },
    {
      "cell_type": "markdown",
      "metadata": {
        "colab_type": "text",
        "id": "RaQj9J7P5agy"
      },
      "source": [
        "Make a scatterplot of the relationship between 1 feature and the target.\n",
        "\n",
        "We'll use an economic feature: Average Recent Growth in Personal Incomes. (\"Bread\")"
      ]
    },
    {
      "cell_type": "code",
      "metadata": {
        "colab_type": "code",
        "id": "88JNPm46rzoD",
        "colab": {
          "base_uri": "https://localhost:8080/",
          "height": 610
        },
        "outputId": "2d1bd5f9-95df-4fad-b7fd-b79c0257222f"
      },
      "source": [
        "import pandas as pd\n",
        "import plotly.express as px\n",
        "\n",
        "px.scatter(\n",
        "    train,\n",
        "    x='Average Recent Growth in Personal Incomes',\n",
        "    y='Incumbent Party Vote Share',\n",
        "    text='Year',\n",
        "    title='US Presidential Elections, 1952-2004',\n",
        "    trendline='ols',  # Ordinary Least Squares\n",
        ")"
      ],
      "execution_count": null,
      "outputs": [
        {
          "output_type": "stream",
          "text": [
            "/usr/local/lib/python3.6/dist-packages/statsmodels/tools/_testing.py:19: FutureWarning:\n",
            "\n",
            "pandas.util.testing is deprecated. Use the functions in the public API at pandas.testing instead.\n",
            "\n"
          ],
          "name": "stderr"
        },
        {
          "output_type": "display_data",
          "data": {
            "text/html": [
              "<html>\n",
              "<head><meta charset=\"utf-8\" /></head>\n",
              "<body>\n",
              "    <div>\n",
              "            <script src=\"https://cdnjs.cloudflare.com/ajax/libs/mathjax/2.7.5/MathJax.js?config=TeX-AMS-MML_SVG\"></script><script type=\"text/javascript\">if (window.MathJax) {MathJax.Hub.Config({SVG: {font: \"STIX-Web\"}});}</script>\n",
              "                <script type=\"text/javascript\">window.PlotlyConfig = {MathJaxConfig: 'local'};</script>\n",
              "        <script src=\"https://cdn.plot.ly/plotly-latest.min.js\"></script>    \n",
              "            <div id=\"bbfa6154-0437-4d82-af86-f55617f30466\" class=\"plotly-graph-div\" style=\"height:525px; width:100%;\"></div>\n",
              "            <script type=\"text/javascript\">\n",
              "                \n",
              "                    window.PLOTLYENV=window.PLOTLYENV || {};\n",
              "                    \n",
              "                if (document.getElementById(\"bbfa6154-0437-4d82-af86-f55617f30466\")) {\n",
              "                    Plotly.newPlot(\n",
              "                        'bbfa6154-0437-4d82-af86-f55617f30466',\n",
              "                        [{\"hoverlabel\": {\"namelength\": 0}, \"hovertemplate\": \"Average Recent Growth in Personal Incomes=%{x}<br>Incumbent Party Vote Share=%{y}<br>Year=%{text}\", \"legendgroup\": \"\", \"marker\": {\"color\": \"#636efa\", \"symbol\": \"circle\"}, \"mode\": \"markers+text\", \"name\": \"\", \"showlegend\": false, \"text\": [1952.0, 1956.0, 1960.0, 1964.0, 1968.0, 1972.0, 1976.0, 1980.0, 1984.0, 1988.0, 1992.0, 1996.0, 2000.0, 2004.0], \"type\": \"scatter\", \"x\": [2.4, 2.89, 0.85, 4.21, 3.02, 3.62, 1.08, -0.39, 3.86, 2.27, 0.38, 1.04, 2.36, 1.72], \"xaxis\": \"x\", \"y\": [44.6, 57.76, 49.91, 61.34, 49.6, 61.79, 48.95, 44.7, 59.17, 53.94, 46.55, 54.74, 50.27, 51.24], \"yaxis\": \"y\"}, {\"hoverlabel\": {\"namelength\": 0}, \"hovertemplate\": \"<b>OLS trendline</b><br>Incumbent Party Vote Share = 3.174086 * Average Recent Growth in Personal Incomes + 45.823395<br>R<sup>2</sup>=0.566391<br><br>Average Recent Growth in Personal Incomes=%{x}<br>Incumbent Party Vote Share=%{y} <b>(trend)</b>\", \"legendgroup\": \"\", \"marker\": {\"color\": \"#636efa\", \"symbol\": \"circle\"}, \"mode\": \"lines\", \"name\": \"\", \"showlegend\": false, \"type\": \"scatter\", \"x\": [-0.39, 0.38, 0.85, 1.04, 1.08, 1.72, 2.27, 2.36, 2.4, 2.89, 3.02, 3.62, 3.86, 4.21], \"xaxis\": \"x\", \"y\": [44.58550153371423, 47.02954793769929, 48.52136847000187, 49.12444485540078, 49.251408304958446, 51.2828234978811, 53.028570929299, 53.31423869080375, 53.44120214036141, 54.99650439744282, 55.40913560850523, 57.31358735187022, 58.07536804921621, 59.186298232845786], \"yaxis\": \"y\"}],\n",
              "                        {\"legend\": {\"tracegroupgap\": 0}, \"template\": {\"data\": {\"bar\": [{\"error_x\": {\"color\": \"#2a3f5f\"}, \"error_y\": {\"color\": \"#2a3f5f\"}, \"marker\": {\"line\": {\"color\": \"#E5ECF6\", \"width\": 0.5}}, \"type\": \"bar\"}], \"barpolar\": [{\"marker\": {\"line\": {\"color\": \"#E5ECF6\", \"width\": 0.5}}, \"type\": \"barpolar\"}], \"carpet\": [{\"aaxis\": {\"endlinecolor\": \"#2a3f5f\", \"gridcolor\": \"white\", \"linecolor\": \"white\", \"minorgridcolor\": \"white\", \"startlinecolor\": \"#2a3f5f\"}, \"baxis\": {\"endlinecolor\": \"#2a3f5f\", \"gridcolor\": \"white\", \"linecolor\": \"white\", \"minorgridcolor\": \"white\", \"startlinecolor\": \"#2a3f5f\"}, \"type\": \"carpet\"}], \"choropleth\": [{\"colorbar\": {\"outlinewidth\": 0, \"ticks\": \"\"}, \"type\": \"choropleth\"}], \"contour\": [{\"colorbar\": {\"outlinewidth\": 0, \"ticks\": \"\"}, \"colorscale\": [[0.0, \"#0d0887\"], [0.1111111111111111, \"#46039f\"], [0.2222222222222222, \"#7201a8\"], [0.3333333333333333, \"#9c179e\"], [0.4444444444444444, \"#bd3786\"], [0.5555555555555556, \"#d8576b\"], [0.6666666666666666, \"#ed7953\"], [0.7777777777777778, \"#fb9f3a\"], [0.8888888888888888, \"#fdca26\"], [1.0, \"#f0f921\"]], \"type\": \"contour\"}], \"contourcarpet\": [{\"colorbar\": {\"outlinewidth\": 0, \"ticks\": \"\"}, \"type\": \"contourcarpet\"}], \"heatmap\": [{\"colorbar\": {\"outlinewidth\": 0, \"ticks\": \"\"}, \"colorscale\": [[0.0, \"#0d0887\"], [0.1111111111111111, \"#46039f\"], [0.2222222222222222, \"#7201a8\"], [0.3333333333333333, \"#9c179e\"], [0.4444444444444444, \"#bd3786\"], [0.5555555555555556, \"#d8576b\"], [0.6666666666666666, \"#ed7953\"], [0.7777777777777778, \"#fb9f3a\"], [0.8888888888888888, \"#fdca26\"], [1.0, \"#f0f921\"]], \"type\": \"heatmap\"}], \"heatmapgl\": [{\"colorbar\": {\"outlinewidth\": 0, \"ticks\": \"\"}, \"colorscale\": [[0.0, \"#0d0887\"], [0.1111111111111111, \"#46039f\"], [0.2222222222222222, \"#7201a8\"], [0.3333333333333333, \"#9c179e\"], [0.4444444444444444, \"#bd3786\"], [0.5555555555555556, \"#d8576b\"], [0.6666666666666666, \"#ed7953\"], [0.7777777777777778, \"#fb9f3a\"], [0.8888888888888888, \"#fdca26\"], [1.0, \"#f0f921\"]], \"type\": \"heatmapgl\"}], \"histogram\": [{\"marker\": {\"colorbar\": {\"outlinewidth\": 0, \"ticks\": \"\"}}, \"type\": \"histogram\"}], \"histogram2d\": [{\"colorbar\": {\"outlinewidth\": 0, \"ticks\": \"\"}, \"colorscale\": [[0.0, \"#0d0887\"], [0.1111111111111111, \"#46039f\"], [0.2222222222222222, \"#7201a8\"], [0.3333333333333333, \"#9c179e\"], [0.4444444444444444, \"#bd3786\"], [0.5555555555555556, \"#d8576b\"], [0.6666666666666666, \"#ed7953\"], [0.7777777777777778, \"#fb9f3a\"], [0.8888888888888888, \"#fdca26\"], [1.0, \"#f0f921\"]], \"type\": \"histogram2d\"}], \"histogram2dcontour\": [{\"colorbar\": {\"outlinewidth\": 0, \"ticks\": \"\"}, \"colorscale\": [[0.0, \"#0d0887\"], [0.1111111111111111, \"#46039f\"], [0.2222222222222222, \"#7201a8\"], [0.3333333333333333, \"#9c179e\"], [0.4444444444444444, \"#bd3786\"], [0.5555555555555556, \"#d8576b\"], [0.6666666666666666, \"#ed7953\"], [0.7777777777777778, \"#fb9f3a\"], [0.8888888888888888, \"#fdca26\"], [1.0, \"#f0f921\"]], \"type\": \"histogram2dcontour\"}], \"mesh3d\": [{\"colorbar\": {\"outlinewidth\": 0, \"ticks\": \"\"}, \"type\": \"mesh3d\"}], \"parcoords\": [{\"line\": {\"colorbar\": {\"outlinewidth\": 0, \"ticks\": \"\"}}, \"type\": \"parcoords\"}], \"pie\": [{\"automargin\": true, \"type\": \"pie\"}], \"scatter\": [{\"marker\": {\"colorbar\": {\"outlinewidth\": 0, \"ticks\": \"\"}}, \"type\": \"scatter\"}], \"scatter3d\": [{\"line\": {\"colorbar\": {\"outlinewidth\": 0, \"ticks\": \"\"}}, \"marker\": {\"colorbar\": {\"outlinewidth\": 0, \"ticks\": \"\"}}, \"type\": \"scatter3d\"}], \"scattercarpet\": [{\"marker\": {\"colorbar\": {\"outlinewidth\": 0, \"ticks\": \"\"}}, \"type\": \"scattercarpet\"}], \"scattergeo\": [{\"marker\": {\"colorbar\": {\"outlinewidth\": 0, \"ticks\": \"\"}}, \"type\": \"scattergeo\"}], \"scattergl\": [{\"marker\": {\"colorbar\": {\"outlinewidth\": 0, \"ticks\": \"\"}}, \"type\": \"scattergl\"}], \"scattermapbox\": [{\"marker\": {\"colorbar\": {\"outlinewidth\": 0, \"ticks\": \"\"}}, \"type\": \"scattermapbox\"}], \"scatterpolar\": [{\"marker\": {\"colorbar\": {\"outlinewidth\": 0, \"ticks\": \"\"}}, \"type\": \"scatterpolar\"}], \"scatterpolargl\": [{\"marker\": {\"colorbar\": {\"outlinewidth\": 0, \"ticks\": \"\"}}, \"type\": \"scatterpolargl\"}], \"scatterternary\": [{\"marker\": {\"colorbar\": {\"outlinewidth\": 0, \"ticks\": \"\"}}, \"type\": \"scatterternary\"}], \"surface\": [{\"colorbar\": {\"outlinewidth\": 0, \"ticks\": \"\"}, \"colorscale\": [[0.0, \"#0d0887\"], [0.1111111111111111, \"#46039f\"], [0.2222222222222222, \"#7201a8\"], [0.3333333333333333, \"#9c179e\"], [0.4444444444444444, \"#bd3786\"], [0.5555555555555556, \"#d8576b\"], [0.6666666666666666, \"#ed7953\"], [0.7777777777777778, \"#fb9f3a\"], [0.8888888888888888, \"#fdca26\"], [1.0, \"#f0f921\"]], \"type\": \"surface\"}], \"table\": [{\"cells\": {\"fill\": {\"color\": \"#EBF0F8\"}, \"line\": {\"color\": \"white\"}}, \"header\": {\"fill\": {\"color\": \"#C8D4E3\"}, \"line\": {\"color\": \"white\"}}, \"type\": \"table\"}]}, \"layout\": {\"annotationdefaults\": {\"arrowcolor\": \"#2a3f5f\", \"arrowhead\": 0, \"arrowwidth\": 1}, \"coloraxis\": {\"colorbar\": {\"outlinewidth\": 0, \"ticks\": \"\"}}, \"colorscale\": {\"diverging\": [[0, \"#8e0152\"], [0.1, \"#c51b7d\"], [0.2, \"#de77ae\"], [0.3, \"#f1b6da\"], [0.4, \"#fde0ef\"], [0.5, \"#f7f7f7\"], [0.6, \"#e6f5d0\"], [0.7, \"#b8e186\"], [0.8, \"#7fbc41\"], [0.9, \"#4d9221\"], [1, \"#276419\"]], \"sequential\": [[0.0, \"#0d0887\"], [0.1111111111111111, \"#46039f\"], [0.2222222222222222, \"#7201a8\"], [0.3333333333333333, \"#9c179e\"], [0.4444444444444444, \"#bd3786\"], [0.5555555555555556, \"#d8576b\"], [0.6666666666666666, \"#ed7953\"], [0.7777777777777778, \"#fb9f3a\"], [0.8888888888888888, \"#fdca26\"], [1.0, \"#f0f921\"]], \"sequentialminus\": [[0.0, \"#0d0887\"], [0.1111111111111111, \"#46039f\"], [0.2222222222222222, \"#7201a8\"], [0.3333333333333333, \"#9c179e\"], [0.4444444444444444, \"#bd3786\"], [0.5555555555555556, \"#d8576b\"], [0.6666666666666666, \"#ed7953\"], [0.7777777777777778, \"#fb9f3a\"], [0.8888888888888888, \"#fdca26\"], [1.0, \"#f0f921\"]]}, \"colorway\": [\"#636efa\", \"#EF553B\", \"#00cc96\", \"#ab63fa\", \"#FFA15A\", \"#19d3f3\", \"#FF6692\", \"#B6E880\", \"#FF97FF\", \"#FECB52\"], \"font\": {\"color\": \"#2a3f5f\"}, \"geo\": {\"bgcolor\": \"white\", \"lakecolor\": \"white\", \"landcolor\": \"#E5ECF6\", \"showlakes\": true, \"showland\": true, \"subunitcolor\": \"white\"}, \"hoverlabel\": {\"align\": \"left\"}, \"hovermode\": \"closest\", \"mapbox\": {\"style\": \"light\"}, \"paper_bgcolor\": \"white\", \"plot_bgcolor\": \"#E5ECF6\", \"polar\": {\"angularaxis\": {\"gridcolor\": \"white\", \"linecolor\": \"white\", \"ticks\": \"\"}, \"bgcolor\": \"#E5ECF6\", \"radialaxis\": {\"gridcolor\": \"white\", \"linecolor\": \"white\", \"ticks\": \"\"}}, \"scene\": {\"xaxis\": {\"backgroundcolor\": \"#E5ECF6\", \"gridcolor\": \"white\", \"gridwidth\": 2, \"linecolor\": \"white\", \"showbackground\": true, \"ticks\": \"\", \"zerolinecolor\": \"white\"}, \"yaxis\": {\"backgroundcolor\": \"#E5ECF6\", \"gridcolor\": \"white\", \"gridwidth\": 2, \"linecolor\": \"white\", \"showbackground\": true, \"ticks\": \"\", \"zerolinecolor\": \"white\"}, \"zaxis\": {\"backgroundcolor\": \"#E5ECF6\", \"gridcolor\": \"white\", \"gridwidth\": 2, \"linecolor\": \"white\", \"showbackground\": true, \"ticks\": \"\", \"zerolinecolor\": \"white\"}}, \"shapedefaults\": {\"line\": {\"color\": \"#2a3f5f\"}}, \"ternary\": {\"aaxis\": {\"gridcolor\": \"white\", \"linecolor\": \"white\", \"ticks\": \"\"}, \"baxis\": {\"gridcolor\": \"white\", \"linecolor\": \"white\", \"ticks\": \"\"}, \"bgcolor\": \"#E5ECF6\", \"caxis\": {\"gridcolor\": \"white\", \"linecolor\": \"white\", \"ticks\": \"\"}}, \"title\": {\"x\": 0.05}, \"xaxis\": {\"automargin\": true, \"gridcolor\": \"white\", \"linecolor\": \"white\", \"ticks\": \"\", \"title\": {\"standoff\": 15}, \"zerolinecolor\": \"white\", \"zerolinewidth\": 2}, \"yaxis\": {\"automargin\": true, \"gridcolor\": \"white\", \"linecolor\": \"white\", \"ticks\": \"\", \"title\": {\"standoff\": 15}, \"zerolinecolor\": \"white\", \"zerolinewidth\": 2}}}, \"title\": {\"text\": \"US Presidential Elections, 1952-2004\"}, \"xaxis\": {\"anchor\": \"y\", \"domain\": [0.0, 1.0], \"title\": {\"text\": \"Average Recent Growth in Personal Incomes\"}}, \"yaxis\": {\"anchor\": \"x\", \"domain\": [0.0, 1.0], \"title\": {\"text\": \"Incumbent Party Vote Share\"}}},\n",
              "                        {\"responsive\": true}\n",
              "                    ).then(function(){\n",
              "                            \n",
              "var gd = document.getElementById('bbfa6154-0437-4d82-af86-f55617f30466');\n",
              "var x = new MutationObserver(function (mutations, observer) {{\n",
              "        var display = window.getComputedStyle(gd).display;\n",
              "        if (!display || display === 'none') {{\n",
              "            console.log([gd, 'removed!']);\n",
              "            Plotly.purge(gd);\n",
              "            observer.disconnect();\n",
              "        }}\n",
              "}});\n",
              "\n",
              "// Listen for the removal of the full notebook cells\n",
              "var notebookContainer = gd.closest('#notebook-container');\n",
              "if (notebookContainer) {{\n",
              "    x.observe(notebookContainer, {childList: true});\n",
              "}}\n",
              "\n",
              "// Listen for the clearing of the current output cell\n",
              "var outputEl = gd.closest('.output');\n",
              "if (outputEl) {{\n",
              "    x.observe(outputEl, {childList: true});\n",
              "}}\n",
              "\n",
              "                        })\n",
              "                };\n",
              "                \n",
              "            </script>\n",
              "        </div>\n",
              "</body>\n",
              "</html>"
            ]
          },
          "metadata": {
            "tags": []
          }
        }
      ]
    },
    {
      "cell_type": "markdown",
      "metadata": {
        "colab_type": "text",
        "id": "XJbyyFBj5ag1"
      },
      "source": [
        "1952 & 1968 are outliers: The incumbent party got fewer votes than predicted by the regression. What do you think could explain those years? We'll come back to this soon, but first..."
      ]
    },
    {
      "cell_type": "markdown",
      "metadata": {
        "colab_type": "text",
        "id": "JTaTwOCN5ag2"
      },
      "source": [
        "Use scikit-learn to fit the simple regression with one feature.\n",
        "\n",
        "Follow the [5 step process](https://jakevdp.github.io/PythonDataScienceHandbook/05.02-introducing-scikit-learn.html#Basics-of-the-API), and refer to [Scikit-Learn LinearRegression documentation](https://scikit-learn.org/stable/modules/generated/sklearn.linear_model.LinearRegression.html)."
      ]
    },
    {
      "cell_type": "code",
      "metadata": {
        "id": "zsAXHs-IeMTE",
        "colab_type": "code",
        "colab": {}
      },
      "source": [
        "# 1. Import the appropriate estimator class from Scikit-Learn\n",
        "from sklearn.linear_model import LinearRegression"
      ],
      "execution_count": null,
      "outputs": []
    },
    {
      "cell_type": "code",
      "metadata": {
        "id": "0eidPGuBeMTH",
        "colab_type": "code",
        "colab": {}
      },
      "source": [
        "# 2. Instantiate this class\n",
        "model = LinearRegression()"
      ],
      "execution_count": null,
      "outputs": []
    },
    {
      "cell_type": "code",
      "metadata": {
        "id": "lOWM7t2oeMTL",
        "colab_type": "code",
        "colab": {
          "base_uri": "https://localhost:8080/",
          "height": 51
        },
        "outputId": "955c84a8-c53d-4c26-e486-3c3321264f64"
      },
      "source": [
        "# 3. Arrange X features matrices (already did y target vectors)\n",
        "features = ['Average Recent Growth in Personal Incomes']\n",
        "X_train = train[features]\n",
        "X_test = test[features]\n",
        "print(f'Linear Regression, dependent on: {features}')\n",
        "X_train.shape, X_test.shape"
      ],
      "execution_count": null,
      "outputs": [
        {
          "output_type": "stream",
          "text": [
            "Linear Regression, dependent on: ['Average Recent Growth in Personal Incomes']\n"
          ],
          "name": "stdout"
        },
        {
          "output_type": "execute_result",
          "data": {
            "text/plain": [
              "((14, 1), (3, 1))"
            ]
          },
          "metadata": {
            "tags": []
          },
          "execution_count": 18
        }
      ]
    },
    {
      "cell_type": "code",
      "metadata": {
        "id": "BtEoupN1eMTO",
        "colab_type": "code",
        "colab": {
          "base_uri": "https://localhost:8080/",
          "height": 34
        },
        "outputId": "8659362c-a0f6-4f23-db6f-56740efa6ded"
      },
      "source": [
        "# 4. Fit the model\n",
        "model.fit(X_train, y_train)\n",
        "y_pred = model.predict(X_train)\n",
        "mae = mean_absolute_error(y_train, y_pred)\n",
        "print(f'Train Error: {mae:.2f} percentage points')"
      ],
      "execution_count": null,
      "outputs": [
        {
          "output_type": "stream",
          "text": [
            "Train Error: 2.65 percentage points\n"
          ],
          "name": "stdout"
        }
      ]
    },
    {
      "cell_type": "code",
      "metadata": {
        "colab_type": "code",
        "id": "1AD_jJHm5ag2",
        "colab": {
          "base_uri": "https://localhost:8080/",
          "height": 34
        },
        "outputId": "ca43fc96-87b5-445e-ae23-b9955c041164"
      },
      "source": [
        "# 5. Apply the model to new data\n",
        "y_pred = model.predict(X_test)\n",
        "mae = mean_absolute_error(y_test, y_pred)\n",
        "print(f'Test Error: {mae:.2f} percentage points')"
      ],
      "execution_count": null,
      "outputs": [
        {
          "output_type": "stream",
          "text": [
            "Test Error: 1.80 percentage points\n"
          ],
          "name": "stdout"
        }
      ]
    },
    {
      "cell_type": "markdown",
      "metadata": {
        "colab_type": "text",
        "id": "pMW4wSmC5ag4"
      },
      "source": [
        "How does the error compare to the baseline?"
      ]
    },
    {
      "cell_type": "markdown",
      "metadata": {
        "colab_type": "text",
        "id": "8PBgsYaa5ag4"
      },
      "source": [
        "### Multiple regression (2 features)"
      ]
    },
    {
      "cell_type": "markdown",
      "metadata": {
        "colab_type": "text",
        "id": "H9fEbVTE0ZMe"
      },
      "source": [
        "Make a scatterplot of the relationship between 2 features and the target.\n",
        "\n",
        "We'll add another feature: US Military Fatalities per Million. (\"Peace\" or the lack thereof.)\n",
        "\n",
        "Rotate the scatterplot to explore the data. What's different about 1952 & 1968?"
      ]
    },
    {
      "cell_type": "code",
      "metadata": {
        "colab_type": "code",
        "id": "XWNNK5r-t_pF",
        "colab": {
          "base_uri": "https://localhost:8080/",
          "height": 542
        },
        "outputId": "51e6a358-f296-48e8-bbc3-1c0f73bf2883"
      },
      "source": [
        "px.scatter_3d(\n",
        "    train,\n",
        "    x='Average Recent Growth in Personal Incomes', \n",
        "    y='US Military Fatalities per Million', \n",
        "    z='Incumbent Party Vote Share', \n",
        "    text='Year', \n",
        "    title='US Presidential Elections, 1952-2004'\n",
        ")"
      ],
      "execution_count": null,
      "outputs": [
        {
          "output_type": "display_data",
          "data": {
            "text/html": [
              "<html>\n",
              "<head><meta charset=\"utf-8\" /></head>\n",
              "<body>\n",
              "    <div>\n",
              "            <script src=\"https://cdnjs.cloudflare.com/ajax/libs/mathjax/2.7.5/MathJax.js?config=TeX-AMS-MML_SVG\"></script><script type=\"text/javascript\">if (window.MathJax) {MathJax.Hub.Config({SVG: {font: \"STIX-Web\"}});}</script>\n",
              "                <script type=\"text/javascript\">window.PlotlyConfig = {MathJaxConfig: 'local'};</script>\n",
              "        <script src=\"https://cdn.plot.ly/plotly-latest.min.js\"></script>    \n",
              "            <div id=\"2effd69e-f4b1-446a-bc5a-0b710bfdb315\" class=\"plotly-graph-div\" style=\"height:525px; width:100%;\"></div>\n",
              "            <script type=\"text/javascript\">\n",
              "                \n",
              "                    window.PLOTLYENV=window.PLOTLYENV || {};\n",
              "                    \n",
              "                if (document.getElementById(\"2effd69e-f4b1-446a-bc5a-0b710bfdb315\")) {\n",
              "                    Plotly.newPlot(\n",
              "                        '2effd69e-f4b1-446a-bc5a-0b710bfdb315',\n",
              "                        [{\"hoverlabel\": {\"namelength\": 0}, \"hovertemplate\": \"Average Recent Growth in Personal Incomes=%{x}<br>US Military Fatalities per Million=%{y}<br>Incumbent Party Vote Share=%{z}<br>Year=%{text}\", \"legendgroup\": \"\", \"marker\": {\"color\": \"#636efa\", \"symbol\": \"circle\"}, \"mode\": \"markers+text\", \"name\": \"\", \"scene\": \"scene\", \"showlegend\": false, \"text\": [1952.0, 1956.0, 1960.0, 1964.0, 1968.0, 1972.0, 1976.0, 1980.0, 1984.0, 1988.0, 1992.0, 1996.0, 2000.0, 2004.0], \"type\": \"scatter3d\", \"x\": [2.4, 2.89, 0.85, 4.21, 3.02, 3.62, 1.08, -0.39, 3.86, 2.27, 0.38, 1.04, 2.36, 1.72], \"y\": [190, 0, 0, 1, 146, 0, 2, 0, 0, 0, 0, 0, 0, 4], \"z\": [44.6, 57.76, 49.91, 61.34, 49.6, 61.79, 48.95, 44.7, 59.17, 53.94, 46.55, 54.74, 50.27, 51.24]}],\n",
              "                        {\"legend\": {\"tracegroupgap\": 0}, \"scene\": {\"domain\": {\"x\": [0.0, 1.0], \"y\": [0.0, 1.0]}, \"xaxis\": {\"title\": {\"text\": \"Average Recent Growth in Personal Incomes\"}}, \"yaxis\": {\"title\": {\"text\": \"US Military Fatalities per Million\"}}, \"zaxis\": {\"title\": {\"text\": \"Incumbent Party Vote Share\"}}}, \"template\": {\"data\": {\"bar\": [{\"error_x\": {\"color\": \"#2a3f5f\"}, \"error_y\": {\"color\": \"#2a3f5f\"}, \"marker\": {\"line\": {\"color\": \"#E5ECF6\", \"width\": 0.5}}, \"type\": \"bar\"}], \"barpolar\": [{\"marker\": {\"line\": {\"color\": \"#E5ECF6\", \"width\": 0.5}}, \"type\": \"barpolar\"}], \"carpet\": [{\"aaxis\": {\"endlinecolor\": \"#2a3f5f\", \"gridcolor\": \"white\", \"linecolor\": \"white\", \"minorgridcolor\": \"white\", \"startlinecolor\": \"#2a3f5f\"}, \"baxis\": {\"endlinecolor\": \"#2a3f5f\", \"gridcolor\": \"white\", \"linecolor\": \"white\", \"minorgridcolor\": \"white\", \"startlinecolor\": \"#2a3f5f\"}, \"type\": \"carpet\"}], \"choropleth\": [{\"colorbar\": {\"outlinewidth\": 0, \"ticks\": \"\"}, \"type\": \"choropleth\"}], \"contour\": [{\"colorbar\": {\"outlinewidth\": 0, \"ticks\": \"\"}, \"colorscale\": [[0.0, \"#0d0887\"], [0.1111111111111111, \"#46039f\"], [0.2222222222222222, \"#7201a8\"], [0.3333333333333333, \"#9c179e\"], [0.4444444444444444, \"#bd3786\"], [0.5555555555555556, \"#d8576b\"], [0.6666666666666666, \"#ed7953\"], [0.7777777777777778, \"#fb9f3a\"], [0.8888888888888888, \"#fdca26\"], [1.0, \"#f0f921\"]], \"type\": \"contour\"}], \"contourcarpet\": [{\"colorbar\": {\"outlinewidth\": 0, \"ticks\": \"\"}, \"type\": \"contourcarpet\"}], \"heatmap\": [{\"colorbar\": {\"outlinewidth\": 0, \"ticks\": \"\"}, \"colorscale\": [[0.0, \"#0d0887\"], [0.1111111111111111, \"#46039f\"], [0.2222222222222222, \"#7201a8\"], [0.3333333333333333, \"#9c179e\"], [0.4444444444444444, \"#bd3786\"], [0.5555555555555556, \"#d8576b\"], [0.6666666666666666, \"#ed7953\"], [0.7777777777777778, \"#fb9f3a\"], [0.8888888888888888, \"#fdca26\"], [1.0, \"#f0f921\"]], \"type\": \"heatmap\"}], \"heatmapgl\": [{\"colorbar\": {\"outlinewidth\": 0, \"ticks\": \"\"}, \"colorscale\": [[0.0, \"#0d0887\"], [0.1111111111111111, \"#46039f\"], [0.2222222222222222, \"#7201a8\"], [0.3333333333333333, \"#9c179e\"], [0.4444444444444444, \"#bd3786\"], [0.5555555555555556, \"#d8576b\"], [0.6666666666666666, \"#ed7953\"], [0.7777777777777778, \"#fb9f3a\"], [0.8888888888888888, \"#fdca26\"], [1.0, \"#f0f921\"]], \"type\": \"heatmapgl\"}], \"histogram\": [{\"marker\": {\"colorbar\": {\"outlinewidth\": 0, \"ticks\": \"\"}}, \"type\": \"histogram\"}], \"histogram2d\": [{\"colorbar\": {\"outlinewidth\": 0, \"ticks\": \"\"}, \"colorscale\": [[0.0, \"#0d0887\"], [0.1111111111111111, \"#46039f\"], [0.2222222222222222, \"#7201a8\"], [0.3333333333333333, \"#9c179e\"], [0.4444444444444444, \"#bd3786\"], [0.5555555555555556, \"#d8576b\"], [0.6666666666666666, \"#ed7953\"], [0.7777777777777778, \"#fb9f3a\"], [0.8888888888888888, \"#fdca26\"], [1.0, \"#f0f921\"]], \"type\": \"histogram2d\"}], \"histogram2dcontour\": [{\"colorbar\": {\"outlinewidth\": 0, \"ticks\": \"\"}, \"colorscale\": [[0.0, \"#0d0887\"], [0.1111111111111111, \"#46039f\"], [0.2222222222222222, \"#7201a8\"], [0.3333333333333333, \"#9c179e\"], [0.4444444444444444, \"#bd3786\"], [0.5555555555555556, \"#d8576b\"], [0.6666666666666666, \"#ed7953\"], [0.7777777777777778, \"#fb9f3a\"], [0.8888888888888888, \"#fdca26\"], [1.0, \"#f0f921\"]], \"type\": \"histogram2dcontour\"}], \"mesh3d\": [{\"colorbar\": {\"outlinewidth\": 0, \"ticks\": \"\"}, \"type\": \"mesh3d\"}], \"parcoords\": [{\"line\": {\"colorbar\": {\"outlinewidth\": 0, \"ticks\": \"\"}}, \"type\": \"parcoords\"}], \"pie\": [{\"automargin\": true, \"type\": \"pie\"}], \"scatter\": [{\"marker\": {\"colorbar\": {\"outlinewidth\": 0, \"ticks\": \"\"}}, \"type\": \"scatter\"}], \"scatter3d\": [{\"line\": {\"colorbar\": {\"outlinewidth\": 0, \"ticks\": \"\"}}, \"marker\": {\"colorbar\": {\"outlinewidth\": 0, \"ticks\": \"\"}}, \"type\": \"scatter3d\"}], \"scattercarpet\": [{\"marker\": {\"colorbar\": {\"outlinewidth\": 0, \"ticks\": \"\"}}, \"type\": \"scattercarpet\"}], \"scattergeo\": [{\"marker\": {\"colorbar\": {\"outlinewidth\": 0, \"ticks\": \"\"}}, \"type\": \"scattergeo\"}], \"scattergl\": [{\"marker\": {\"colorbar\": {\"outlinewidth\": 0, \"ticks\": \"\"}}, \"type\": \"scattergl\"}], \"scattermapbox\": [{\"marker\": {\"colorbar\": {\"outlinewidth\": 0, \"ticks\": \"\"}}, \"type\": \"scattermapbox\"}], \"scatterpolar\": [{\"marker\": {\"colorbar\": {\"outlinewidth\": 0, \"ticks\": \"\"}}, \"type\": \"scatterpolar\"}], \"scatterpolargl\": [{\"marker\": {\"colorbar\": {\"outlinewidth\": 0, \"ticks\": \"\"}}, \"type\": \"scatterpolargl\"}], \"scatterternary\": [{\"marker\": {\"colorbar\": {\"outlinewidth\": 0, \"ticks\": \"\"}}, \"type\": \"scatterternary\"}], \"surface\": [{\"colorbar\": {\"outlinewidth\": 0, \"ticks\": \"\"}, \"colorscale\": [[0.0, \"#0d0887\"], [0.1111111111111111, \"#46039f\"], [0.2222222222222222, \"#7201a8\"], [0.3333333333333333, \"#9c179e\"], [0.4444444444444444, \"#bd3786\"], [0.5555555555555556, \"#d8576b\"], [0.6666666666666666, \"#ed7953\"], [0.7777777777777778, \"#fb9f3a\"], [0.8888888888888888, \"#fdca26\"], [1.0, \"#f0f921\"]], \"type\": \"surface\"}], \"table\": [{\"cells\": {\"fill\": {\"color\": \"#EBF0F8\"}, \"line\": {\"color\": \"white\"}}, \"header\": {\"fill\": {\"color\": \"#C8D4E3\"}, \"line\": {\"color\": \"white\"}}, \"type\": \"table\"}]}, \"layout\": {\"annotationdefaults\": {\"arrowcolor\": \"#2a3f5f\", \"arrowhead\": 0, \"arrowwidth\": 1}, \"coloraxis\": {\"colorbar\": {\"outlinewidth\": 0, \"ticks\": \"\"}}, \"colorscale\": {\"diverging\": [[0, \"#8e0152\"], [0.1, \"#c51b7d\"], [0.2, \"#de77ae\"], [0.3, \"#f1b6da\"], [0.4, \"#fde0ef\"], [0.5, \"#f7f7f7\"], [0.6, \"#e6f5d0\"], [0.7, \"#b8e186\"], [0.8, \"#7fbc41\"], [0.9, \"#4d9221\"], [1, \"#276419\"]], \"sequential\": [[0.0, \"#0d0887\"], [0.1111111111111111, \"#46039f\"], [0.2222222222222222, \"#7201a8\"], [0.3333333333333333, \"#9c179e\"], [0.4444444444444444, \"#bd3786\"], [0.5555555555555556, \"#d8576b\"], [0.6666666666666666, \"#ed7953\"], [0.7777777777777778, \"#fb9f3a\"], [0.8888888888888888, \"#fdca26\"], [1.0, \"#f0f921\"]], \"sequentialminus\": [[0.0, \"#0d0887\"], [0.1111111111111111, \"#46039f\"], [0.2222222222222222, \"#7201a8\"], [0.3333333333333333, \"#9c179e\"], [0.4444444444444444, \"#bd3786\"], [0.5555555555555556, \"#d8576b\"], [0.6666666666666666, \"#ed7953\"], [0.7777777777777778, \"#fb9f3a\"], [0.8888888888888888, \"#fdca26\"], [1.0, \"#f0f921\"]]}, \"colorway\": [\"#636efa\", \"#EF553B\", \"#00cc96\", \"#ab63fa\", \"#FFA15A\", \"#19d3f3\", \"#FF6692\", \"#B6E880\", \"#FF97FF\", \"#FECB52\"], \"font\": {\"color\": \"#2a3f5f\"}, \"geo\": {\"bgcolor\": \"white\", \"lakecolor\": \"white\", \"landcolor\": \"#E5ECF6\", \"showlakes\": true, \"showland\": true, \"subunitcolor\": \"white\"}, \"hoverlabel\": {\"align\": \"left\"}, \"hovermode\": \"closest\", \"mapbox\": {\"style\": \"light\"}, \"paper_bgcolor\": \"white\", \"plot_bgcolor\": \"#E5ECF6\", \"polar\": {\"angularaxis\": {\"gridcolor\": \"white\", \"linecolor\": \"white\", \"ticks\": \"\"}, \"bgcolor\": \"#E5ECF6\", \"radialaxis\": {\"gridcolor\": \"white\", \"linecolor\": \"white\", \"ticks\": \"\"}}, \"scene\": {\"xaxis\": {\"backgroundcolor\": \"#E5ECF6\", \"gridcolor\": \"white\", \"gridwidth\": 2, \"linecolor\": \"white\", \"showbackground\": true, \"ticks\": \"\", \"zerolinecolor\": \"white\"}, \"yaxis\": {\"backgroundcolor\": \"#E5ECF6\", \"gridcolor\": \"white\", \"gridwidth\": 2, \"linecolor\": \"white\", \"showbackground\": true, \"ticks\": \"\", \"zerolinecolor\": \"white\"}, \"zaxis\": {\"backgroundcolor\": \"#E5ECF6\", \"gridcolor\": \"white\", \"gridwidth\": 2, \"linecolor\": \"white\", \"showbackground\": true, \"ticks\": \"\", \"zerolinecolor\": \"white\"}}, \"shapedefaults\": {\"line\": {\"color\": \"#2a3f5f\"}}, \"ternary\": {\"aaxis\": {\"gridcolor\": \"white\", \"linecolor\": \"white\", \"ticks\": \"\"}, \"baxis\": {\"gridcolor\": \"white\", \"linecolor\": \"white\", \"ticks\": \"\"}, \"bgcolor\": \"#E5ECF6\", \"caxis\": {\"gridcolor\": \"white\", \"linecolor\": \"white\", \"ticks\": \"\"}}, \"title\": {\"x\": 0.05}, \"xaxis\": {\"automargin\": true, \"gridcolor\": \"white\", \"linecolor\": \"white\", \"ticks\": \"\", \"title\": {\"standoff\": 15}, \"zerolinecolor\": \"white\", \"zerolinewidth\": 2}, \"yaxis\": {\"automargin\": true, \"gridcolor\": \"white\", \"linecolor\": \"white\", \"ticks\": \"\", \"title\": {\"standoff\": 15}, \"zerolinecolor\": \"white\", \"zerolinewidth\": 2}}}, \"title\": {\"text\": \"US Presidential Elections, 1952-2004\"}},\n",
              "                        {\"responsive\": true}\n",
              "                    ).then(function(){\n",
              "                            \n",
              "var gd = document.getElementById('2effd69e-f4b1-446a-bc5a-0b710bfdb315');\n",
              "var x = new MutationObserver(function (mutations, observer) {{\n",
              "        var display = window.getComputedStyle(gd).display;\n",
              "        if (!display || display === 'none') {{\n",
              "            console.log([gd, 'removed!']);\n",
              "            Plotly.purge(gd);\n",
              "            observer.disconnect();\n",
              "        }}\n",
              "}});\n",
              "\n",
              "// Listen for the removal of the full notebook cells\n",
              "var notebookContainer = gd.closest('#notebook-container');\n",
              "if (notebookContainer) {{\n",
              "    x.observe(notebookContainer, {childList: true});\n",
              "}}\n",
              "\n",
              "// Listen for the clearing of the current output cell\n",
              "var outputEl = gd.closest('.output');\n",
              "if (outputEl) {{\n",
              "    x.observe(outputEl, {childList: true});\n",
              "}}\n",
              "\n",
              "                        })\n",
              "                };\n",
              "                \n",
              "            </script>\n",
              "        </div>\n",
              "</body>\n",
              "</html>"
            ]
          },
          "metadata": {
            "tags": []
          }
        }
      ]
    },
    {
      "cell_type": "markdown",
      "metadata": {
        "colab_type": "text",
        "id": "MNoTuf9v7l6A"
      },
      "source": [
        "Use scikit-learn to fit a multiple regression with two features."
      ]
    },
    {
      "cell_type": "code",
      "metadata": {
        "id": "-E3ewNI5eMTW",
        "colab_type": "code",
        "colab": {
          "base_uri": "https://localhost:8080/",
          "height": 51
        },
        "outputId": "ea7eb9d9-afa4-4539-9203-2d831278f1fc"
      },
      "source": [
        "# TODO: Complete this cell\n",
        "\n",
        "# Re-arrange X features matrices\n",
        "features = ['Average Recent Growth in Personal Incomes', \n",
        "            'US Military Fatalities per Million']\n",
        "print(f'Linear Regression, dependent on: {features}')\n",
        "\n",
        "X_train = train[features]\n",
        "X_test = test[features]\n",
        "X_train.shape, X_test.shape"
      ],
      "execution_count": null,
      "outputs": [
        {
          "output_type": "stream",
          "text": [
            "Linear Regression, dependent on: ['Average Recent Growth in Personal Incomes', 'US Military Fatalities per Million']\n"
          ],
          "name": "stdout"
        },
        {
          "output_type": "execute_result",
          "data": {
            "text/plain": [
              "((14, 2), (3, 2))"
            ]
          },
          "metadata": {
            "tags": []
          },
          "execution_count": 23
        }
      ]
    },
    {
      "cell_type": "code",
      "metadata": {
        "id": "MaAh6tIueMTY",
        "colab_type": "code",
        "colab": {
          "base_uri": "https://localhost:8080/",
          "height": 34
        },
        "outputId": "03c2b0f0-32b7-4c7d-cb61-12bbcb5ff743"
      },
      "source": [
        "# TODO: Fit the model\n",
        "\n",
        "model.fit(X_train, y_train)"
      ],
      "execution_count": null,
      "outputs": [
        {
          "output_type": "execute_result",
          "data": {
            "text/plain": [
              "LinearRegression(copy_X=True, fit_intercept=True, n_jobs=None, normalize=False)"
            ]
          },
          "metadata": {
            "tags": []
          },
          "execution_count": 24
        }
      ]
    },
    {
      "cell_type": "code",
      "metadata": {
        "colab_type": "code",
        "id": "_Mijdiua5ag8",
        "colab": {
          "base_uri": "https://localhost:8080/",
          "height": 34
        },
        "outputId": "b6ca87fc-c4e1-412b-a9b4-d5f5a9e27b2e"
      },
      "source": [
        "# TODO: Apply the model to new data\n",
        "\n",
        "y_pred = model.predict(X_train)\n",
        "y_pred\n",
        "\n",
        "mae = mean_absolute_error(y_train, y_pred)\n",
        "print(f'Train Error: {mae:.2f} percentage points')"
      ],
      "execution_count": null,
      "outputs": [
        {
          "output_type": "stream",
          "text": [
            "Train Error: 1.33 percentage points\n"
          ],
          "name": "stdout"
        }
      ]
    },
    {
      "cell_type": "code",
      "metadata": {
        "id": "zSUx4bunsef1",
        "colab_type": "code",
        "colab": {
          "base_uri": "https://localhost:8080/",
          "height": 34
        },
        "outputId": "ffd03512-b227-4e11-9899-cad5bcfedc4e"
      },
      "source": [
        "y_pred = model.predict(X_test)\n",
        "mae = mean_absolute_error(y_test, y_pred)\n",
        "print(f'Test Error: {mae:.2f} percentage points')"
      ],
      "execution_count": null,
      "outputs": [
        {
          "output_type": "stream",
          "text": [
            "Test Error: 1.63 percentage points\n"
          ],
          "name": "stdout"
        }
      ]
    },
    {
      "cell_type": "markdown",
      "metadata": {
        "colab_type": "text",
        "id": "9zKDY_CJ5ag-"
      },
      "source": [
        "How does the error compare to the prior model?"
      ]
    },
    {
      "cell_type": "markdown",
      "metadata": {
        "colab_type": "text",
        "id": "qZq7sRk45ag_"
      },
      "source": [
        "### Plot the plane of best fit"
      ]
    },
    {
      "cell_type": "markdown",
      "metadata": {
        "colab_type": "text",
        "id": "t27N85U85ahA"
      },
      "source": [
        "For a regression with 1 feature, we plotted the line of best fit in 2D. \n",
        "\n",
        "(There are many ways to do this. Plotly Express's `scatter` function makes it convenient with its `trendline='ols'` parameter.)\n",
        "\n",
        "For a regression with 2 features, we can plot the plane of best fit in 3D!\n",
        "\n",
        "(Plotly Express has a `scatter_3d` function but it won't plot the plane of best fit for us. But, we can write our own function, with the same \"function signature\" as the Plotly Express API.)"
      ]
    },
    {
      "cell_type": "code",
      "metadata": {
        "colab_type": "code",
        "id": "MQ73YaIF0gJC",
        "colab": {}
      },
      "source": [
        "import itertools\n",
        "import numpy as np\n",
        "import plotly.express as px\n",
        "import plotly.graph_objs as go\n",
        "from sklearn.linear_model import LinearRegression\n",
        "\n",
        "def regression_3d(df, x, y, z, num=100, **kwargs):\n",
        "    \"\"\"\n",
        "    Visualize linear regression in 3D: 2 features + 1 target\n",
        "    \n",
        "    df : Pandas DataFrame\n",
        "    x : string, feature 1 column in df\n",
        "    y : string, feature 2 column in df\n",
        "    z : string, target column in df\n",
        "    num : integer, number of quantiles for each feature\n",
        "    \"\"\"\n",
        "    \n",
        "    # Plot data\n",
        "    fig = px.scatter_3d(df, x, y, z, **kwargs)\n",
        "    \n",
        "    # Fit Linear Regression\n",
        "    features = [x, y]\n",
        "    target = z\n",
        "    model = LinearRegression()\n",
        "    model.fit(df[features], df[target])    \n",
        "    \n",
        "    # Define grid of coordinates in the feature space\n",
        "    xmin, xmax = df[x].min(), df[x].max()\n",
        "    ymin, ymax = df[y].min(), df[y].max()\n",
        "    xcoords = np.linspace(xmin, xmax, num)\n",
        "    ycoords = np.linspace(ymin, ymax, num)\n",
        "    coords = list(itertools.product(xcoords, ycoords))\n",
        "    \n",
        "    # Make predictions for the grid\n",
        "    predictions = model.predict(coords)\n",
        "    Z = predictions.reshape(num, num).T\n",
        "    \n",
        "    # Plot predictions as a 3D surface (plane)\n",
        "    fig.add_trace(go.Surface(x=xcoords, y=ycoords, z=Z))\n",
        "    \n",
        "    return fig"
      ],
      "execution_count": null,
      "outputs": []
    },
    {
      "cell_type": "code",
      "metadata": {
        "colab_type": "code",
        "id": "f2TMPMM4u_5I",
        "colab": {
          "base_uri": "https://localhost:8080/",
          "height": 542
        },
        "outputId": "f46b5da8-c438-40ff-e0fb-2f9db7f6df1e"
      },
      "source": [
        "regression_3d(\n",
        "    train,\n",
        "    x='Average Recent Growth in Personal Incomes', \n",
        "    y='US Military Fatalities per Million', \n",
        "    z='Incumbent Party Vote Share', \n",
        "    text='Year', \n",
        "    title='US Presidential Elections, 1952-2004'\n",
        ")"
      ],
      "execution_count": null,
      "outputs": [
        {
          "output_type": "display_data",
          "data": {
            "text/html": [
              "<html>\n",
              "<head><meta charset=\"utf-8\" /></head>\n",
              "<body>\n",
              "    <div>\n",
              "            <script src=\"https://cdnjs.cloudflare.com/ajax/libs/mathjax/2.7.5/MathJax.js?config=TeX-AMS-MML_SVG\"></script><script type=\"text/javascript\">if (window.MathJax) {MathJax.Hub.Config({SVG: {font: \"STIX-Web\"}});}</script>\n",
              "                <script type=\"text/javascript\">window.PlotlyConfig = {MathJaxConfig: 'local'};</script>\n",
              "        <script src=\"https://cdn.plot.ly/plotly-latest.min.js\"></script>    \n",
              "            <div id=\"fced3b99-d213-49c6-b9f1-3dc1ae53c987\" class=\"plotly-graph-div\" style=\"height:525px; width:100%;\"></div>\n",
              "            <script type=\"text/javascript\">\n",
              "                \n",
              "                    window.PLOTLYENV=window.PLOTLYENV || {};\n",
              "                    \n",
              "                if (document.getElementById(\"fced3b99-d213-49c6-b9f1-3dc1ae53c987\")) {\n",
              "                    Plotly.newPlot(\n",
              "                        'fced3b99-d213-49c6-b9f1-3dc1ae53c987',\n",
              "                        [{\"hoverlabel\": {\"namelength\": 0}, \"hovertemplate\": \"Average Recent Growth in Personal Incomes=%{x}<br>US Military Fatalities per Million=%{y}<br>Incumbent Party Vote Share=%{z}<br>Year=%{text}\", \"legendgroup\": \"\", \"marker\": {\"color\": \"#636efa\", \"symbol\": \"circle\"}, \"mode\": \"markers+text\", \"name\": \"\", \"scene\": \"scene\", \"showlegend\": false, \"text\": [1952.0, 1956.0, 1960.0, 1964.0, 1968.0, 1972.0, 1976.0, 1980.0, 1984.0, 1988.0, 1992.0, 1996.0, 2000.0, 2004.0], \"type\": \"scatter3d\", \"x\": [2.4, 2.89, 0.85, 4.21, 3.02, 3.62, 1.08, -0.39, 3.86, 2.27, 0.38, 1.04, 2.36, 1.72], \"y\": [190, 0, 0, 1, 146, 0, 2, 0, 0, 0, 0, 0, 0, 4], \"z\": [44.6, 57.76, 49.91, 61.34, 49.6, 61.79, 48.95, 44.7, 59.17, 53.94, 46.55, 54.74, 50.27, 51.24]}, {\"type\": \"surface\", \"x\": [-0.39, -0.3435353535353536, -0.2970707070707071, -0.2506060606060606, -0.20414141414141418, -0.15767676767676772, -0.11121212121212126, -0.06474747474747478, -0.018282828282828345, 0.028181818181818086, 0.07464646464646457, 0.12111111111111106, 0.1675757575757575, 0.21404040404040392, 0.26050505050505046, 0.3069696969696969, 0.3534343434343433, 0.39989898989898975, 0.4463636363636362, 0.4928282828282827, 0.5392929292929292, 0.5857575757575756, 0.6322222222222221, 0.6786868686868684, 0.725151515151515, 0.7716161616161615, 0.8180808080808079, 0.8645454545454544, 0.9110101010101009, 0.9574747474747473, 1.003939393939394, 1.05040404040404, 1.0968686868686865, 1.143333333333333, 1.1897979797979796, 1.2362626262626262, 1.2827272727272723, 1.3291919191919188, 1.3756565656565654, 1.422121212121212, 1.4685858585858584, 1.515050505050505, 1.561515151515151, 1.6079797979797976, 1.6544444444444442, 1.7009090909090907, 1.7473737373737368, 1.7938383838383833, 1.8403030303030299, 1.8867676767676764, 1.933232323232323, 1.979696969696969, 2.0261616161616156, 2.072626262626262, 2.1190909090909087, 2.1655555555555552, 2.2120202020202018, 2.258484848484848, 2.3049494949494944, 2.351414141414141, 2.3978787878787875, 2.444343434343434, 2.49080808080808, 2.5372727272727267, 2.583737373737373, 2.6302020202020198, 2.6766666666666663, 2.7231313131313124, 2.769595959595959, 2.8160606060606055, 2.862525252525252, 2.9089898989898986, 2.9554545454545447, 3.001919191919191, 3.0483838383838378, 3.0948484848484843, 3.141313131313131, 3.1877777777777774, 3.2342424242424235, 3.28070707070707, 3.3271717171717166, 3.373636363636363, 3.4201010101010096, 3.4665656565656557, 3.5130303030303023, 3.559494949494949, 3.6059595959595954, 3.652424242424242, 3.6988888888888884, 3.745353535353535, 3.7918181818181815, 3.838282828282827, 3.8847474747474737, 3.9312121212121203, 3.977676767676767, 4.024141414141414, 4.07060606060606, 4.117070707070707, 4.163535353535353, 4.21], \"y\": [0.0, 1.9191919191919191, 3.8383838383838382, 5.757575757575758, 7.6767676767676765, 9.595959595959595, 11.515151515151516, 13.434343434343434, 15.353535353535353, 17.272727272727273, 19.19191919191919, 21.11111111111111, 23.03030303030303, 24.949494949494948, 26.86868686868687, 28.787878787878785, 30.707070707070706, 32.62626262626262, 34.54545454545455, 36.464646464646464, 38.38383838383838, 40.303030303030305, 42.22222222222222, 44.14141414141414, 46.06060606060606, 47.97979797979798, 49.898989898989896, 51.81818181818181, 53.73737373737374, 55.656565656565654, 57.57575757575757, 59.494949494949495, 61.41414141414141, 63.33333333333333, 65.25252525252525, 67.17171717171716, 69.0909090909091, 71.01010101010101, 72.92929292929293, 74.84848484848484, 76.76767676767676, 78.68686868686868, 80.60606060606061, 82.52525252525253, 84.44444444444444, 86.36363636363636, 88.28282828282828, 90.2020202020202, 92.12121212121212, 94.04040404040404, 95.95959595959596, 97.87878787878788, 99.79797979797979, 101.71717171717171, 103.63636363636363, 105.55555555555556, 107.47474747474747, 109.39393939393939, 111.31313131313131, 113.23232323232322, 115.15151515151514, 117.07070707070707, 118.98989898989899, 120.9090909090909, 122.82828282828282, 124.74747474747474, 126.66666666666666, 128.58585858585857, 130.5050505050505, 132.4242424242424, 134.34343434343432, 136.26262626262627, 138.1818181818182, 140.1010101010101, 142.02020202020202, 143.93939393939394, 145.85858585858585, 147.77777777777777, 149.6969696969697, 151.6161616161616, 153.53535353535352, 155.45454545454544, 157.37373737373736, 159.29292929292927, 161.21212121212122, 163.13131313131314, 165.05050505050505, 166.96969696969697, 168.88888888888889, 170.8080808080808, 172.72727272727272, 174.64646464646464, 176.56565656565655, 178.48484848484847, 180.4040404040404, 182.3232323232323, 184.24242424242425, 186.16161616161617, 188.08080808080808, 190.0], \"z\": [[44.854781195250865, 45.02159147613469, 45.188401757018504, 45.35521203790232, 45.522022318786135, 45.68883259966995, 45.855642880553766, 46.02245316143758, 46.189263442321405, 46.35607372320522, 46.522884004089036, 46.68969428497285, 46.85650456585667, 47.02331484674048, 47.1901251276243, 47.356935408508114, 47.52374568939194, 47.69055597027575, 47.85736625115957, 48.024176532043384, 48.1909868129272, 48.357797093811016, 48.52460737469483, 48.69141765557865, 48.85822793646247, 49.025038217346285, 49.1918484982301, 49.35865877911392, 49.52546905999773, 49.69227934088155, 49.85908962176537, 50.025899902649186, 50.192710183533, 50.35952046441682, 50.52633074530063, 50.69314102618445, 50.859951307068265, 51.02676158795208, 51.1935718688359, 51.36038214971972, 51.527192430603534, 51.69400271148735, 51.860812992371166, 52.02762327325498, 52.1944335541388, 52.36124383502262, 52.52805411590643, 52.69486439679025, 52.86167467767407, 53.02848495855788, 53.1952952394417, 53.362105520325514, 53.52891580120933, 53.695726082093145, 53.86253636297697, 54.029346643860784, 54.1961569247446, 54.362967205628415, 54.52977748651223, 54.696587767396046, 54.86339804827986, 55.030208329163685, 55.19701861004749, 55.363828890931316, 55.53063917181513, 55.69744945269895, 55.86425973358276, 56.03107001446658, 56.1978802953504, 56.36469057623421, 56.53150085711803, 56.69831113800185, 56.865121418885664, 57.03193169976948, 57.198741980653296, 57.36555226153712, 57.53236254242093, 57.69917282330475, 57.865983104188565, 58.03279338507238, 58.1996036659562, 58.36641394684001, 58.533224227723835, 58.700034508607644, 58.866844789491466, 59.03365507037528, 59.2004653512591, 59.36727563214291, 59.53408591302673, 59.70089619391055, 59.86770647479436, 60.034516755678176, 60.20132703656199, 60.368137317445814, 60.53494759832963, 60.701757879213446, 60.86856816009727, 61.03537844098108, 61.2021887218649, 61.368999002748716], [44.7527625309378, 44.91957281182162, 45.08638309270543, 45.25319337358925, 45.420003654473064, 45.586813935356886, 45.7536242162407, 45.92043449712452, 46.08724477800833, 46.25405505889215, 46.420865339775965, 46.58767562065978, 46.7544859015436, 46.92129618242742, 47.088106463311235, 47.25491674419505, 47.421727025078866, 47.58853730596268, 47.7553475868465, 47.92215786773032, 48.088968148614136, 48.25577842949795, 48.42258871038177, 48.58939899126558, 48.7562092721494, 48.923019553033214, 49.08982983391703, 49.25664011480085, 49.42345039568467, 49.590260676568484, 49.7570709574523, 49.923881238336115, 50.09069151921993, 50.257501800103746, 50.42431208098756, 50.591122361871385, 50.7579326427552, 50.924742923639016, 51.09155320452283, 51.25836348540665, 51.42517376629046, 51.59198404717428, 51.7587943280581, 51.92560460894192, 52.09241488982573, 52.25922517070955, 52.426035451593364, 52.59284573247718, 52.759656013360996, 52.92646629424482, 53.093276575128634, 53.26008685601245, 53.426897136896265, 53.59370741778008, 53.7605176986639, 53.92732797954771, 54.094138260431535, 54.260948541315344, 54.427758822199166, 54.59456910308298, 54.7613793839668, 54.92818966485061, 55.09499994573443, 55.261810226618245, 55.42862050750206, 55.59543078838588, 55.7622410692697, 55.929051350153514, 56.09586163103733, 56.262671911921146, 56.42948219280496, 56.59629247368878, 56.7631027545726, 56.92991303545641, 57.09672331634023, 57.26353359722405, 57.43034387810786, 57.59715415899168, 57.763964439875494, 57.93077472075932, 58.097585001643125, 58.26439528252695, 58.431205563410764, 58.59801584429458, 58.764826125178395, 58.93163640606221, 59.09844668694603, 59.26525696782984, 59.432067248713665, 59.59887752959748, 59.765687810481296, 59.93249809136511, 60.09930837224893, 60.26611865313274, 60.43292893401656, 60.59973921490038, 60.7665494957842, 60.93335977666801, 61.10017005755183, 61.266980338435644], [44.65074386662473, 44.81755414750855, 44.98436442839237, 45.151174709276184, 45.31798499016, 45.484795271043815, 45.65160555192763, 45.818415832811446, 45.98522611369527, 46.152036394579085, 46.3188466754629, 46.485656956346716, 46.65246723723053, 46.81927751811435, 46.98608779899816, 47.15289807988198, 47.3197083607658, 47.48651864164962, 47.65332892253343, 47.82013920341725, 47.986949484301064, 48.15375976518488, 48.320570046068696, 48.48738032695252, 48.654190607836334, 48.82100088872015, 48.987811169603965, 49.15462145048778, 49.3214317313716, 49.48824201225541, 49.655052293139235, 49.821862574023044, 49.988672854906866, 50.15548313579068, 50.3222934166745, 50.48910369755831, 50.65591397844213, 50.822724259325945, 50.98953454020976, 51.15634482109358, 51.3231551019774, 51.489965382861214, 51.65677566374503, 51.823585944628846, 51.99039622551266, 52.15720650639648, 52.3240167872803, 52.490827068164116, 52.65763734904793, 52.82444762993175, 52.99125791081556, 53.15806819169938, 53.324878472583194, 53.49168875346702, 53.65849903435083, 53.82530931523465, 53.992119596118464, 54.15892987700228, 54.325740157886095, 54.49255043876991, 54.65936071965373, 54.82617100053755, 54.992981281421365, 55.15979156230518, 55.326601843188996, 55.49341212407281, 55.66022240495663, 55.82703268584044, 55.99384296672426, 56.16065324760808, 56.3274635284919, 56.49427380937571, 56.66108409025953, 56.827894371143344, 56.99470465202716, 57.161514932910976, 57.3283252137948, 57.495135494678614, 57.66194577556243, 57.828756056446245, 57.99556633733006, 58.16237661821388, 58.32918689909769, 58.495997179981515, 58.662807460865324, 58.829617741749146, 58.99642802263296, 59.16323830351678, 59.33004858440059, 59.49685886528441, 59.66366914616823, 59.83047942705204, 59.99728970793586, 60.16409998881968, 60.330910269703494, 60.49772055058731, 60.664530831471126, 60.83134111235495, 60.998151393238764, 61.16496167412258], [44.548725202311665, 44.71553548319548, 44.8823457640793, 45.04915604496311, 45.215966325846935, 45.38277660673075, 45.549586887614566, 45.71639716849838, 45.8832074493822, 46.05001773026601, 46.21682801114983, 46.383638292033645, 46.55044857291747, 46.71725885380128, 46.8840691346851, 47.050879415568915, 47.21768969645273, 47.384499977336546, 47.55131025822036, 47.71812053910418, 47.884930819988, 48.051741100871816, 48.21855138175563, 48.38536166263945, 48.55217194352326, 48.71898222440708, 48.885792505290894, 49.05260278617472, 49.21941306705853, 49.38622334794235, 49.553033628826164, 49.71984390970998, 49.886654190593795, 50.05346447147761, 50.22027475236143, 50.38708503324525, 50.553895314129065, 50.72070559501288, 50.887515875896696, 51.05432615678051, 51.22113643766433, 51.38794671854815, 51.55475699943196, 51.72156728031578, 51.8883775611996, 52.05518784208341, 52.22199812296723, 52.388808403851044, 52.55561868473486, 52.722428965618676, 52.8892392465025, 53.056049527386314, 53.22285980827013, 53.389670089153945, 53.55648037003776, 53.72329065092158, 53.89010093180539, 54.056911212689215, 54.223721493573024, 54.390531774456846, 54.55734205534066, 54.72415233622448, 54.89096261710829, 55.05777289799211, 55.22458317887593, 55.39139345975974, 55.55820374064356, 55.72501402152738, 55.891824302411194, 56.05863458329501, 56.225444864178826, 56.39225514506265, 56.55906542594646, 56.72587570683028, 56.892685987714096, 57.05949626859791, 57.22630654948173, 57.39311683036554, 57.55992711124936, 57.726737392133174, 57.893547673017, 58.06035795390081, 58.22716823478463, 58.393978515668444, 58.56078879655226, 58.727599077436075, 58.89440935831989, 59.06121963920371, 59.22802992008753, 59.394840200971345, 59.56165048185516, 59.728460762738976, 59.89527104362279, 60.06208132450661, 60.22889160539042, 60.395701886274246, 60.56251216715806, 60.72932244804188, 60.89613272892569, 61.062943009809516], [44.446706537998594, 44.61351681888242, 44.78032709976623, 44.94713738065005, 45.113947661533864, 45.28075794241768, 45.447568223301495, 45.61437850418531, 45.78118878506913, 45.94799906595295, 46.114809346836765, 46.28161962772058, 46.448429908604396, 46.61524018948821, 46.78205047037203, 46.94886075125584, 47.115671032139666, 47.28248131302348, 47.4492915939073, 47.61610187479111, 47.78291215567493, 47.949722436558744, 48.11653271744256, 48.283342998326376, 48.4501532792102, 48.616963560094014, 48.78377384097783, 48.950584121861645, 49.11739440274546, 49.28420468362928, 49.4510149645131, 49.617825245396915, 49.78463552628073, 49.951445807164546, 50.11825608804836, 50.28506636893218, 50.45187664981599, 50.61868693069981, 50.78549721158363, 50.95230749246745, 51.11911777335126, 51.28592805423508, 51.452738335118894, 51.61954861600271, 51.786358896886526, 51.95316917777035, 52.11997945865416, 52.28678973953798, 52.453600020421796, 52.62041030130561, 52.78722058218943, 52.95403086307324, 53.12084114395706, 53.287651424840874, 53.4544617057247, 53.62127198660851, 53.78808226749233, 53.954892548376144, 54.12170282925996, 54.288513110143775, 54.45532339102759, 54.62213367191141, 54.78894395279522, 54.955754233679045, 55.12256451456286, 55.289374795446676, 55.45618507633049, 55.62299535721431, 55.78980563809813, 55.95661591898194, 56.12342619986576, 56.29023648074958, 56.45704676163339, 56.62385704251721, 56.790667323401024, 56.95747760428485, 57.124287885168656, 57.29109816605248, 57.457908446936294, 57.62471872782011, 57.791529008703925, 57.95833928958774, 58.125149570471564, 58.29195985135537, 58.458770132239195, 58.62558041312301, 58.792390694006826, 58.95920097489064, 59.12601125577446, 59.29282153665828, 59.45963181754209, 59.626442098425905, 59.79325237930972, 59.96006266019354, 60.12687294107736, 60.293683221961174, 60.460493502845, 60.627303783728806, 60.79411406461263, 60.960924345496444], [44.34468787368553, 44.511498154569345, 44.67830843545316, 44.84511871633698, 45.01192899722079, 45.178739278104615, 45.34554955898843, 45.512359839872246, 45.67917012075606, 45.84598040163988, 46.01279068252369, 46.17960096340751, 46.34641124429133, 46.51322152517515, 46.68003180605896, 46.84684208694278, 47.013652367826595, 47.18046264871041, 47.347272929594226, 47.51408321047805, 47.680893491361864, 47.84770377224568, 48.014514053129496, 48.18132433401331, 48.34813461489713, 48.51494489578094, 48.68175517666476, 48.84856545754858, 49.0153757384324, 49.18218601931621, 49.34899630020003, 49.515806581083844, 49.68261686196766, 49.849427142851475, 50.01623742373529, 50.18304770461911, 50.34985798550293, 50.516668266386745, 50.68347854727056, 50.850288828154376, 51.01709910903819, 51.18390938992201, 51.35071967080583, 51.517529951689646, 51.68434023257346, 51.85115051345728, 52.01796079434109, 52.18477107522491, 52.351581356108724, 52.51839163699255, 52.68520191787636, 52.85201219876018, 53.018822479643994, 53.18563276052781, 53.352443041411625, 53.51925332229544, 53.686063603179264, 53.85287388406307, 54.019684164946895, 54.18649444583071, 54.353304726714526, 54.52011500759834, 54.68692528848216, 54.85373556936597, 55.02054585024979, 55.18735613113361, 55.35416641201743, 55.52097669290124, 55.68778697378506, 55.854597254668874, 56.02140753555269, 56.188217816436506, 56.35502809732033, 56.52183837820414, 56.68864865908796, 56.855458939971776, 57.02226922085559, 57.18907950173941, 57.35588978262322, 57.522700063507045, 57.689510344390854, 57.85632062527468, 58.02313090615849, 58.18994118704231, 58.356751467926124, 58.52356174880994, 58.69037202969376, 58.85718231057757, 59.02399259146139, 59.19080287234521, 59.357613153229025, 59.52442343411284, 59.691233714996656, 59.85804399588047, 60.02485427676429, 60.19166455764811, 60.358474838531926, 60.52528511941574, 60.69209540029956, 60.85890568118337], [44.242669209372465, 44.40947949025628, 44.5762897711401, 44.74310005202391, 44.90991033290773, 45.076720613791544, 45.24353089467536, 45.410341175559175, 45.577151456443, 45.74396173732681, 45.91077201821063, 46.077582299094445, 46.24439257997826, 46.411202860862076, 46.57801314174589, 46.74482342262971, 46.91163370351353, 47.078443984397346, 47.24525426528116, 47.41206454616498, 47.57887482704879, 47.74568510793261, 47.912495388816424, 48.07930566970025, 48.24611595058406, 48.41292623146788, 48.579736512351694, 48.74654679323551, 48.913357074119325, 49.08016735500314, 49.246977635886964, 49.41378791677077, 49.580598197654595, 49.74740847853841, 49.914218759422226, 50.08102904030604, 50.24783932118986, 50.41464960207367, 50.58145988295749, 50.74827016384131, 50.91508044472513, 51.08189072560894, 51.24870100649276, 51.415511287376575, 51.58232156826039, 51.749131849144206, 51.91594213002803, 52.082752410911844, 52.24956269179566, 52.416372972679476, 52.58318325356329, 52.74999353444711, 52.91680381533092, 53.083614096214745, 53.25042437709856, 53.41723465798238, 53.58404493886619, 53.75085521975001, 53.917665500633824, 54.08447578151764, 54.25128606240146, 54.41809634328528, 54.58490662416909, 54.75171690505291, 54.918527185936725, 55.08533746682054, 55.252147747704356, 55.41895802858817, 55.58576830947199, 55.75257859035581, 55.919388871239626, 56.08619915212344, 56.25300943300726, 56.41981971389107, 56.58662999477489, 56.753440275658704, 56.92025055654253, 57.08706083742634, 57.25387111831016, 57.420681399193974, 57.58749168007779, 57.754301960961605, 57.92111224184542, 58.087922522729244, 58.25473280361305, 58.421543084496875, 58.58835336538069, 58.755163646264506, 58.92197392714832, 59.08878420803214, 59.25559448891596, 59.42240476979977, 59.58921505068359, 59.75602533156741, 59.92283561245122, 60.08964589333504, 60.256456174218854, 60.42326645510268, 60.59007673598649, 60.75688701687031], [44.140650545059394, 44.30746082594321, 44.474271106827025, 44.64108138771084, 44.807891668594664, 44.97470194947848, 45.141512230362295, 45.30832251124611, 45.475132792129926, 45.64194307301374, 45.80875335389756, 45.97556363478137, 46.142373915665196, 46.30918419654901, 46.47599447743283, 46.64280475831664, 46.80961503920046, 46.976425320084275, 47.14323560096809, 47.310045881851906, 47.47685616273573, 47.643666443619544, 47.81047672450336, 47.977287005387176, 48.14409728627099, 48.31090756715481, 48.47771784803862, 48.644528128922445, 48.81133840980626, 48.97814869069008, 49.14495897157389, 49.31176925245771, 49.478579533341524, 49.64538981422534, 49.81220009510916, 49.97901037599298, 50.14582065687679, 50.31263093776061, 50.479441218644425, 50.64625149952824, 50.813061780412056, 50.97987206129588, 51.14668234217969, 51.31349262306351, 51.480302903947326, 51.64711318483114, 51.81392346571496, 51.98073374659877, 52.14754402748259, 52.314354308366404, 52.48116458925023, 52.64797487013404, 52.81478515101786, 52.981595431901674, 53.14840571278549, 53.315215993669305, 53.48202627455312, 53.648836555436944, 53.81564683632075, 53.982457117204575, 54.14926739808839, 54.316077678972206, 54.48288795985602, 54.64969824073984, 54.81650852162366, 54.98331880250747, 55.15012908339129, 55.31693936427511, 55.48374964515892, 55.65055992604274, 55.817370206926554, 55.98418048781038, 56.150990768694186, 56.31780104957801, 56.484611330461824, 56.65142161134564, 56.818231892229456, 56.98504217311327, 57.15185245399709, 57.3186627348809, 57.485473015764725, 57.65228329664854, 57.81909357753236, 57.98590385841617, 58.15271413929999, 58.319524420183804, 58.48633470106762, 58.65314498195144, 58.81995526283526, 58.98676554371907, 59.15357582460289, 59.320386105486705, 59.48719638637052, 59.654006667254336, 59.82081694813815, 59.987627229021975, 60.15443750990579, 60.321247790789606, 60.48805807167342, 60.654868352557244], [44.03863188074632, 44.205442161630145, 44.37225244251396, 44.53906272339778, 44.70587300428159, 44.87268328516541, 45.039493566049224, 45.20630384693304, 45.37311412781686, 45.53992440870068, 45.70673468958449, 45.87354497046831, 46.040355251352125, 46.20716553223594, 46.373975813119756, 46.54078609400357, 46.707596374887395, 46.87440665577121, 47.041216936655026, 47.20802721753884, 47.37483749842266, 47.54164777930647, 47.70845806019029, 47.875268341074104, 48.04207862195793, 48.20888890284174, 48.37569918372556, 48.542509464609374, 48.70931974549319, 48.876130026377005, 49.04294030726083, 49.209750588144644, 49.37656086902846, 49.543371149912275, 49.71018143079609, 49.876991711679906, 50.04380199256372, 50.21061227344754, 50.37742255433136, 50.544232835215176, 50.71104311609899, 50.87785339698281, 51.04466367786662, 51.21147395875044, 51.378284239634255, 51.54509452051808, 51.711904801401886, 51.87871508228571, 52.045525363169524, 52.21233564405334, 52.379145924937156, 52.54595620582097, 52.71276648670479, 52.8795767675886, 53.046387048472425, 53.21319732935624, 53.38000761024006, 53.54681789112387, 53.71362817200769, 53.880438452891504, 54.04724873377532, 54.21405901465914, 54.38086929554295, 54.54767957642677, 54.71448985731059, 54.881300138194405, 55.04811041907822, 55.214920699962036, 55.38173098084586, 55.54854126172967, 55.71535154261349, 55.882161823497306, 56.04897210438112, 56.21578238526494, 56.38259266614875, 56.549402947032576, 56.716213227916384, 56.88302350880021, 57.04983378968402, 57.21664407056784, 57.383454351451654, 57.55026463233547, 57.71707491321929, 57.8838851941031, 58.050695474986924, 58.21750575587074, 58.384316036754555, 58.55112631763837, 58.717936598522186, 58.88474687940601, 59.05155716028982, 59.21836744117363, 59.38517772205745, 59.55198800294127, 59.71879828382509, 59.8856085647089, 60.052418845592726, 60.219229126476534, 60.38603940736036, 60.55284968824417], [43.93661321643326, 44.103423497317074, 44.27023377820089, 44.437044059084705, 44.60385433996852, 44.770664620852344, 44.93747490173616, 45.104285182619975, 45.27109546350379, 45.437905744387606, 45.60471602527142, 45.77152630615524, 45.93833658703906, 46.105146867922876, 46.27195714880669, 46.43876742969051, 46.60557771057432, 46.77238799145814, 46.939198272341955, 47.10600855322577, 47.27281883410959, 47.43962911499341, 47.606439395877224, 47.77324967676104, 47.940059957644856, 48.10687023852867, 48.27368051941249, 48.44049080029631, 48.607301081180125, 48.77411136206394, 48.94092164294776, 49.10773192383157, 49.27454220471539, 49.441352485599204, 49.60816276648302, 49.77497304736684, 49.94178332825066, 50.10859360913447, 50.27540389001829, 50.442214170902105, 50.60902445178592, 50.775834732669736, 50.94264501355356, 51.109455294437375, 51.27626557532119, 51.443075856205006, 51.60988613708882, 51.77669641797264, 51.94350669885645, 52.110316979740276, 52.27712726062409, 52.44393754150791, 52.61074782239172, 52.77755810327554, 52.944368384159354, 53.11117866504317, 53.27798894592699, 53.4447992268108, 53.611609507694624, 53.77841978857844, 53.945230069462255, 54.11204035034607, 54.278850631229886, 54.4456609121137, 54.61247119299752, 54.77928147388134, 54.946091754765156, 55.11290203564897, 55.27971231653279, 55.4465225974166, 55.61333287830042, 55.780143159184234, 55.94695344006806, 56.113763720951866, 56.28057400183569, 56.447384282719504, 56.61419456360332, 56.781004844487136, 56.94781512537095, 57.114625406254774, 57.28143568713858, 57.448245968022405, 57.61505624890622, 57.78186652979004, 57.94867681067385, 58.11548709155767, 58.28229737244149, 58.4491076533253, 58.61591793420912, 58.78272821509294, 58.94953849597675, 59.11634877686057, 59.283159057744385, 59.4499693386282, 59.616779619512016, 59.78358990039584, 59.950400181279655, 60.11721046216347, 60.284020743047286, 60.4508310239311], [43.834594552120194, 44.00140483300401, 44.168215113887825, 44.33502539477164, 44.50183567565546, 44.66864595653927, 44.83545623742309, 45.002266518306904, 45.16907679919073, 45.33588708007454, 45.50269736095836, 45.66950764184217, 45.83631792272599, 46.003128203609805, 46.16993848449362, 46.336748765377436, 46.50355904626126, 46.670369327145075, 46.83717960802889, 47.003989888912706, 47.17080016979652, 47.33761045068034, 47.50442073156415, 47.671231012447976, 47.83804129333179, 48.00485157421561, 48.17166185509942, 48.33847213598324, 48.505282416867054, 48.67209269775087, 48.83890297863469, 49.0057132595185, 49.172523540402324, 49.33933382128614, 49.506144102169955, 49.67295438305377, 49.839764663937586, 50.0065749448214, 50.17338522570522, 50.34019550658904, 50.507005787472856, 50.67381606835667, 50.84062634924049, 51.0074366301243, 51.17424691100812, 51.341057191891935, 51.50786747277576, 51.67467775365957, 51.84148803454339, 52.008298315427204, 52.17510859631102, 52.341918877194836, 52.50872915807865, 52.675539438962474, 52.84234971984629, 53.009160000730105, 53.17597028161392, 53.34278056249774, 53.50959084338155, 53.67640112426537, 53.84321140514919, 54.01002168603301, 54.17683196691682, 54.34364224780064, 54.51045252868445, 54.67726280956827, 54.844073090452085, 55.0108833713359, 55.177693652219716, 55.34450393310354, 55.511314213987355, 55.67812449487117, 55.844934775754986, 56.0117450566388, 56.17855533752262, 56.34536561840643, 56.512175899290256, 56.67898618017407, 56.84579646105789, 57.0126067419417, 57.17941702282552, 57.346227303709334, 57.51303758459315, 57.67984786547697, 57.84665814636078, 58.013468427244604, 58.18027870812842, 58.347088989012235, 58.51389926989605, 58.680709550779866, 58.84751983166369, 59.0143301125475, 59.18114039343132, 59.347950674315136, 59.51476095519895, 59.68157123608277, 59.84838151696658, 60.015191797850406, 60.18200207873422, 60.34881235961804], [43.73257588780712, 43.89938616869094, 44.066196449574754, 44.23300673045857, 44.39981701134239, 44.56662729222621, 44.733437573110024, 44.90024785399384, 45.067058134877655, 45.23386841576147, 45.400678696645286, 45.5674889775291, 45.734299258412925, 45.90110953929674, 46.067919820180556, 46.23473010106437, 46.40154038194819, 46.568350662832, 46.73516094371582, 46.901971224599635, 47.06878150548346, 47.23559178636727, 47.40240206725109, 47.569212348134904, 47.73602262901872, 47.902832909902536, 48.06964319078635, 48.236453471670174, 48.40326375255399, 48.570074033437805, 48.73688431432162, 48.90369459520544, 49.07050487608925, 49.23731515697307, 49.40412543785689, 49.57093571874071, 49.73774599962452, 49.90455628050834, 50.07136656139215, 50.23817684227597, 50.404987123159785, 50.57179740404361, 50.738607684927416, 50.90541796581124, 51.072228246695055, 51.23903852757887, 51.405848808462686, 51.5726590893465, 51.73946937023032, 51.90627965111413, 52.073089931997956, 52.23990021288177, 52.40671049376559, 52.5735207746494, 52.74033105553322, 52.907141336417034, 53.07395161730085, 53.24076189818467, 53.40757217906848, 53.574382459952304, 53.74119274083612, 53.908003021719935, 54.07481330260375, 54.241623583487566, 54.40843386437139, 54.5752441452552, 54.74205442613902, 54.908864707022836, 55.07567498790665, 55.24248526879047, 55.40929554967428, 55.576105830558106, 55.742916111441914, 55.90972639232574, 56.07653667320955, 56.24334695409337, 56.410157234977184, 56.576967515861, 56.743777796744816, 56.91058807762863, 57.077398358512454, 57.24420863939627, 57.411018920280085, 57.5778292011639, 57.74463948204772, 57.91144976293153, 58.07826004381535, 58.24507032469917, 58.41188060558299, 58.5786908864668, 58.74550116735062, 58.91231144823443, 59.07912172911825, 59.245932010002065, 59.41274229088588, 59.5795525717697, 59.74636285265352, 59.913173133537335, 60.07998341442115, 60.24679369530497], [43.63055722349405, 43.797367504377874, 43.96417778526169, 44.130988066145505, 44.29779834702932, 44.46460862791314, 44.63141890879695, 44.79822918968077, 44.96503947056459, 45.13184975144841, 45.29866003233222, 45.46547031321604, 45.63228059409985, 45.79909087498367, 45.965901155867485, 46.1327114367513, 46.29952171763512, 46.46633199851894, 46.633142279402755, 46.79995256028657, 46.966762841170386, 47.1335731220542, 47.30038340293802, 47.46719368382183, 47.634003964705656, 47.80081424558947, 47.96762452647329, 48.1344348073571, 48.30124508824092, 48.468055369124734, 48.63486565000856, 48.80167593089237, 48.96848621177619, 49.135296492660004, 49.30210677354382, 49.468917054427635, 49.63572733531145, 49.802537616195266, 49.96934789707909, 50.136158177962905, 50.30296845884672, 50.469778739730536, 50.63658902061435, 50.80339930149817, 50.97020958238198, 51.137019863265806, 51.303830144149615, 51.47064042503344, 51.63745070591725, 51.80426098680107, 51.971071267684884, 52.1378815485687, 52.304691829452516, 52.47150211033633, 52.638312391220154, 52.80512267210397, 52.971932952987785, 53.1387432338716, 53.30555351475542, 53.47236379563923, 53.63917407652305, 53.80598435740687, 53.97279463829068, 54.1396049191745, 54.30641520005832, 54.47322548094213, 54.64003576182595, 54.806846042709765, 54.97365632359359, 55.140466604477396, 55.30727688536122, 55.474087166245035, 55.64089744712885, 55.807707728012666, 55.97451800889648, 56.141328289780304, 56.30813857066411, 56.474948851547936, 56.64175913243175, 56.80856941331557, 56.97537969419938, 57.1421899750832, 57.30900025596702, 57.47581053685083, 57.64262081773465, 57.80943109861847, 57.976241379502284, 58.1430516603861, 58.309861941269915, 58.47667222215374, 58.643482503037546, 58.81029278392136, 58.97710306480518, 59.143913345689, 59.310723626572816, 59.47753390745663, 59.644344188340455, 59.81115446922426, 59.977964750108086, 60.1447750309919], [43.52853855918099, 43.6953488400648, 43.86215912094862, 44.028969401832434, 44.19577968271625, 44.36258996360007, 44.52940024448389, 44.696210525367704, 44.86302080625152, 45.029831087135335, 45.19664136801915, 45.363451648902966, 45.53026192978679, 45.697072210670605, 45.86388249155442, 46.030692772438236, 46.19750305332205, 46.36431333420587, 46.53112361508968, 46.697933895973506, 46.86474417685732, 47.03155445774114, 47.19836473862495, 47.36517501950877, 47.531985300392584, 47.6987955812764, 47.865605862160216, 48.03241614304404, 48.199226423927854, 48.36603670481167, 48.532846985695485, 48.6996572665793, 48.86646754746312, 49.03327782834693, 49.20008810923075, 49.36689839011457, 49.53370867099839, 49.7005189518822, 49.86732923276602, 50.03413951364983, 50.20094979453365, 50.367760075417465, 50.53457035630129, 50.7013806371851, 50.86819091806892, 51.035001198952735, 51.20181147983655, 51.368621760720366, 51.53543204160418, 51.702242322488004, 51.86905260337182, 52.035862884255636, 52.20267316513945, 52.36948344602327, 52.53629372690708, 52.7031040077909, 52.86991428867472, 53.03672456955853, 53.20353485044235, 53.37034513132617, 53.537155412209984, 53.7039656930938, 53.870775973977615, 54.03758625486143, 54.204396535745246, 54.37120681662907, 54.538017097512885, 54.7048273783967, 54.871637659280516, 55.03844794016433, 55.20525822104815, 55.37206850193196, 55.538878782815786, 55.705689063699594, 55.87249934458342, 56.03930962546723, 56.20611990635105, 56.372930187234864, 56.53974046811868, 56.7065507490025, 56.87336102988631, 57.040171310770134, 57.20698159165395, 57.373791872537765, 57.54060215342158, 57.7074124343054, 57.87422271518922, 58.04103299607303, 58.20784327695685, 58.37465355784067, 58.54146383872448, 58.7082741196083, 58.87508440049211, 59.04189468137593, 59.208704962259745, 59.37551524314357, 59.54232552402738, 59.7091358049112, 59.875946085795015, 60.04275636667883], [43.42651989486792, 43.59333017575174, 43.760140456635554, 43.92695073751937, 44.093761018403185, 44.260571299287, 44.42738158017082, 44.59419186105463, 44.761002141938455, 44.92781242282227, 45.09462270370609, 45.2614329845899, 45.42824326547372, 45.59505354635753, 45.76186382724135, 45.928674108125165, 46.09548438900899, 46.2622946698928, 46.42910495077662, 46.595915231660435, 46.76272551254425, 46.929535793428066, 47.09634607431188, 47.263156355195704, 47.42996663607952, 47.596776916963336, 47.76358719784715, 47.93039747873097, 48.09720775961478, 48.2640180404986, 48.43082832138242, 48.59763860226623, 48.76444888315005, 48.93125916403387, 49.098069444917684, 49.2648797258015, 49.431690006685315, 49.59850028756913, 49.765310568452946, 49.93212084933677, 50.098931130220585, 50.2657414111044, 50.432551691988216, 50.59936197287203, 50.76617225375585, 50.93298253463966, 51.099792815523486, 51.2666030964073, 51.43341337729112, 51.60022365817493, 51.76703393905875, 51.933844219942564, 52.10065450082638, 52.2674647817102, 52.43427506259402, 52.601085343477834, 52.76789562436165, 52.934705905245465, 53.10151618612928, 53.2683264670131, 53.43513674789692, 53.601947028780735, 53.76875730966455, 53.93556759054837, 54.10237787143218, 54.269188152316, 54.43599843319981, 54.60280871408363, 54.769618994967445, 54.93642927585127, 55.10323955673508, 55.2700498376189, 55.436860118502715, 55.60367039938653, 55.770480680270346, 55.93729096115416, 56.104101242037984, 56.2709115229218, 56.437721803805616, 56.60453208468943, 56.77134236557325, 56.93815264645706, 57.10496292734088, 57.2717732082247, 57.43858348910851, 57.60539376999233, 57.77220405087615, 57.939014331759964, 58.10582461264378, 58.272634893527595, 58.43944517441142, 58.606255455295226, 58.77306573617905, 58.939876017062865, 59.10668629794668, 59.273496578830496, 59.44030685971431, 59.607117140598135, 59.77392742148195, 59.940737702365766], [43.32450123055485, 43.49131151143867, 43.65812179232248, 43.8249320732063, 43.99174235409012, 44.15855263497394, 44.32536291585775, 44.49217319674157, 44.658983477625384, 44.8257937585092, 44.992604039393015, 45.15941432027683, 45.32622460116065, 45.49303488204447, 45.659845162928285, 45.8266554438121, 45.993465724695916, 46.16027600557973, 46.32708628646355, 46.49389656734736, 46.660706848231186, 46.827517129115, 46.99432740999882, 47.16113769088263, 47.32794797176645, 47.494758252650264, 47.66156853353408, 47.8283788144179, 47.99518909530172, 48.161999376185534, 48.32880965706935, 48.495619937953165, 48.66243021883698, 48.8292404997208, 48.99605078060462, 49.162861061488435, 49.32967134237225, 49.49648162325607, 49.66329190413988, 49.8301021850237, 49.99691246590751, 50.163722746791336, 50.330533027675145, 50.49734330855897, 50.66415358944278, 50.8309638703266, 50.997774151210415, 51.16458443209423, 51.331394712978046, 51.49820499386186, 51.665015274745684, 51.8318255556295, 51.998635836513316, 52.16544611739713, 52.33225639828095, 52.49906667916476, 52.66587696004858, 52.8326872409324, 52.99949752181621, 53.16630780270003, 53.33311808358385, 53.499928364467664, 53.66673864535148, 53.833548926235295, 54.00035920711912, 54.167169488002926, 54.33397976888675, 54.500790049770565, 54.66760033065438, 54.834410611538196, 55.00122089242201, 55.168031173305835, 55.33484145418964, 55.501651735073466, 55.66846201595728, 55.8352722968411, 56.00208257772491, 56.16889285860873, 56.335703139492544, 56.50251342037636, 56.66932370126018, 56.836133982144, 57.002944263027814, 57.16975454391163, 57.336564824795445, 57.50337510567926, 57.67018538656308, 57.8369956674469, 58.003805948330715, 58.17061622921453, 58.33742651009835, 58.50423679098216, 58.67104707186598, 58.83785735274979, 59.00466763363361, 59.17147791451743, 59.33828819540125, 59.50509847628506, 59.67190875716888, 59.8387190380527], [43.22248256624178, 43.3892928471256, 43.55610312800942, 43.722913408893234, 43.88972368977705, 44.056533970660865, 44.22334425154468, 44.3901545324285, 44.55696481331232, 44.723775094196135, 44.89058537507995, 45.05739565596377, 45.22420593684758, 45.3910162177314, 45.55782649861521, 45.72463677949903, 45.89144706038285, 46.05825734126667, 46.22506762215048, 46.3918779030343, 46.558688183918115, 46.72549846480193, 46.892308745685746, 47.05911902656956, 47.225929307453384, 47.3927395883372, 47.559549869221016, 47.72636015010483, 47.89317043098865, 48.05998071187246, 48.226790992756285, 48.3936012736401, 48.56041155452392, 48.72722183540773, 48.89403211629155, 49.060842397175364, 49.22765267805918, 49.394462958942995, 49.56127323982682, 49.72808352071063, 49.89489380159445, 50.061704082478265, 50.22851436336208, 50.395324644245896, 50.56213492512971, 50.728945206013535, 50.89575548689734, 51.062565767781166, 51.22937604866498, 51.3961863295488, 51.56299661043261, 51.72980689131643, 51.896617172200244, 52.06342745308406, 52.23023773396788, 52.3970480148517, 52.563858295735514, 52.73066857661933, 52.897478857503145, 53.06428913838696, 53.23109941927078, 53.3979097001546, 53.56471998103841, 53.73153026192223, 53.89834054280605, 54.06515082368986, 54.23196110457368, 54.39877138545749, 54.565581666341316, 54.732391947225125, 54.89920222810895, 55.06601250899276, 55.23282278987658, 55.399633070760395, 55.56644335164421, 55.73325363252803, 55.90006391341184, 56.066874194295664, 56.23368447517948, 56.400494756063296, 56.56730503694711, 56.73411531783093, 56.90092559871475, 57.06773587959856, 57.23454616048238, 57.4013564413662, 57.56816672225001, 57.73497700313383, 57.901787284017644, 58.06859756490147, 58.235407845785275, 58.40221812666909, 58.569028407552906, 58.73583868843673, 58.902648969320545, 59.06945925020436, 59.23626953108818, 59.40307981197199, 59.569890092855815, 59.73670037373963], [43.120463901928716, 43.28727418281253, 43.45408446369635, 43.62089474458016, 43.78770502546398, 43.9545153063478, 44.12132558723162, 44.28813586811543, 44.45494614899925, 44.621756429883064, 44.78856671076688, 44.955376991650695, 45.12218727253452, 45.28899755341833, 45.45580783430215, 45.622618115185965, 45.78942839606978, 45.956238676953596, 46.12304895783741, 46.289859238721235, 46.45666951960505, 46.623479800488866, 46.79029008137268, 46.9571003622565, 47.12391064314031, 47.29072092402413, 47.457531204907944, 47.62434148579177, 47.79115176667558, 47.9579620475594, 48.124772328443214, 48.29158260932703, 48.458392890210845, 48.62520317109466, 48.79201345197848, 48.9588237328623, 49.125634013746115, 49.29244429462993, 49.45925457551375, 49.62606485639756, 49.79287513728138, 49.95968541816519, 50.126495699049016, 50.29330597993283, 50.46011626081665, 50.62692654170046, 50.79373682258428, 50.960547103468095, 51.12735738435191, 51.29416766523573, 51.46097794611955, 51.627788227003364, 51.79459850788718, 51.961408788770996, 52.12821906965481, 52.29502935053863, 52.46183963142245, 52.62864991230626, 52.79546019319008, 52.9622704740739, 53.12908075495771, 53.29589103584153, 53.462701316725344, 53.62951159760916, 53.796321878492975, 53.9631321593768, 54.12994244026061, 54.29675272114443, 54.463563002028245, 54.63037328291206, 54.797183563795876, 54.96399384467969, 55.130804125563515, 55.29761440644732, 55.464424687331146, 55.63123496821496, 55.79804524909878, 55.96485552998259, 56.13166581086641, 56.29847609175023, 56.46528637263404, 56.63209665351786, 56.79890693440168, 56.965717215285494, 57.13252749616931, 57.299337777053125, 57.46614805793695, 57.63295833882076, 57.79976861970458, 57.966578900588395, 58.13338918147221, 58.30019946235603, 58.46700974323984, 58.63382002412366, 58.80063030500747, 58.967440585891296, 59.13425086677511, 59.30106114765893, 59.46787142854274, 59.63468170942656], [43.018445237615644, 43.18525551849947, 43.35206579938328, 43.5188760802671, 43.685686361150914, 43.85249664203473, 44.019306922918545, 44.18611720380236, 44.35292748468618, 44.51973776557, 44.686548046453815, 44.85335832733763, 45.02016860822145, 45.18697888910526, 45.35378916998908, 45.52059945087289, 45.687409731756716, 45.85422001264053, 46.02103029352435, 46.18784057440816, 46.35465085529198, 46.521461136175795, 46.68827141705961, 46.855081697943426, 47.02189197882725, 47.188702259711064, 47.35551254059488, 47.522322821478696, 47.68913310236251, 47.85594338324633, 48.02275366413015, 48.18956394501396, 48.35637422589778, 48.5231845067816, 48.68999478766541, 48.85680506854923, 49.023615349433044, 49.19042563031686, 49.357235911200675, 49.5240461920845, 49.69085647296831, 49.85766675385213, 50.024477034735945, 50.19128731561976, 50.358097596503576, 50.52490787738739, 50.691718158271215, 50.85852843915503, 51.025338720038846, 51.19214900092266, 51.35895928180648, 51.52576956269029, 51.69257984357411, 51.85939012445793, 52.02620040534175, 52.19301068622556, 52.35982096710938, 52.526631247993194, 52.69344152887701, 52.860251809760825, 53.02706209064465, 53.193872371528464, 53.36068265241228, 53.527492933296095, 53.69430321417991, 53.86111349506373, 54.02792377594754, 54.19473405683136, 54.36154433771517, 54.528354618598996, 54.69516489948281, 54.86197518036663, 55.02878546125044, 55.19559574213426, 55.362406023018075, 55.52921630390189, 55.69602658478571, 55.86283686566953, 56.029647146553344, 56.19645742743716, 56.363267708320976, 56.53007798920479, 56.69688827008861, 56.86369855097243, 57.03050883185624, 57.19731911274006, 57.36412939362388, 57.53093967450769, 57.69774995539151, 57.864560236275324, 58.03137051715915, 58.198180798042955, 58.36499107892678, 58.53180135981059, 58.69861164069441, 58.865421921578225, 59.03223220246204, 59.19904248334586, 59.36585276422968, 59.532663045113495], [42.91642657330258, 43.083236854186396, 43.25004713507021, 43.41685741595403, 43.58366769683785, 43.750477977721665, 43.91728825860548, 44.0840985394893, 44.25090882037311, 44.41771910125693, 44.584529382140744, 44.75133966302456, 44.91814994390838, 45.0849602247922, 45.251770505676014, 45.41858078655983, 45.585391067443645, 45.75220134832746, 45.919011629211276, 46.08582191009509, 46.252632190978915, 46.41944247186273, 46.586252752746546, 46.75306303363036, 46.91987331451418, 47.08668359539799, 47.25349387628181, 47.42030415716563, 47.58711443804945, 47.75392471893326, 47.92073499981708, 48.087545280700894, 48.25435556158471, 48.421165842468525, 48.58797612335235, 48.754786404236164, 48.92159668511998, 49.088406966003795, 49.25521724688761, 49.42202752777143, 49.58883780865524, 49.755648089539065, 49.92245837042287, 50.089268651306696, 50.25607893219051, 50.42288921307433, 50.58969949395814, 50.75650977484196, 50.923320055725775, 51.09013033660959, 51.25694061749341, 51.42375089837723, 51.590561179261044, 51.75737146014486, 51.924181741028676, 52.09099202191249, 52.25780230279631, 52.42461258368013, 52.59142286456394, 52.75823314544776, 52.92504342633158, 53.09185370721539, 53.25866398809921, 53.425474268983024, 53.59228454986685, 53.759094830750655, 53.92590511163448, 54.09271539251829, 54.25952567340211, 54.426335954285925, 54.59314623516974, 54.75995651605356, 54.92676679693737, 55.093577077821195, 55.26038735870501, 55.427197639588826, 55.59400792047264, 55.76081820135646, 55.92762848224027, 56.09443876312409, 56.26124904400791, 56.42805932489173, 56.59486960577554, 56.76167988665936, 56.928490167543174, 57.09530044842699, 57.262110729310805, 57.42892101019463, 57.595731291078444, 57.76254157196226, 57.929351852846075, 58.09616213372989, 58.26297241461371, 58.42978269549752, 58.59659297638134, 58.76340325726516, 58.930213538148976, 59.09702381903279, 59.26383409991661, 59.43064438080043], [42.81440790898951, 42.98121818987333, 43.14802847075715, 43.31483875164096, 43.48164903252478, 43.648459313408594, 43.81526959429241, 43.982079875176225, 44.14889015606005, 44.315700436943864, 44.48251071782768, 44.649320998711495, 44.81613127959531, 44.98294156047913, 45.14975184136294, 45.31656212224676, 45.48337240313058, 45.650182684014396, 45.81699296489821, 45.98380324578203, 46.15061352666584, 46.31742380754966, 46.484234088433475, 46.65104436931729, 46.81785465020111, 46.98466493108493, 47.151475211968744, 47.31828549285256, 47.485095773736376, 47.65190605462019, 47.818716335504014, 47.98552661638783, 48.152336897271645, 48.31914717815546, 48.48595745903928, 48.65276773992309, 48.81957802080691, 48.986388301690724, 49.15319858257455, 49.32000886345836, 49.48681914434218, 49.65362942522599, 49.82043970610981, 49.987249986993625, 50.15406026787744, 50.32087054876126, 50.48768082964507, 50.654491110528895, 50.82130139141271, 50.988111672296526, 51.15492195318034, 51.32173223406416, 51.48854251494797, 51.65535279583179, 51.82216307671561, 51.98897335759943, 52.15578363848324, 52.32259391936706, 52.489404200250874, 52.65621448113469, 52.823024762018505, 52.98983504290233, 53.15664532378614, 53.32345560466996, 53.490265885553775, 53.65707616643759, 53.82388644732141, 53.99069672820522, 54.157507009089045, 54.32431728997285, 54.491127570856676, 54.65793785174049, 54.82474813262431, 54.99155841350812, 55.15836869439194, 55.32517897527576, 55.49198925615957, 55.65879953704339, 55.82560981792721, 55.992420098811024, 56.15923037969484, 56.326040660578656, 56.49285094146248, 56.65966122234629, 56.82647150323011, 56.993281784113925, 57.16009206499774, 57.32690234588156, 57.49371262676537, 57.660522907649195, 57.827333188533004, 57.99414346941682, 58.160953750300635, 58.32776403118446, 58.49457431206827, 58.66138459295209, 58.82819487383591, 58.99500515471972, 59.16181543560354, 59.32862571648736], [42.712389244676444, 42.87919952556026, 43.046009806444076, 43.21282008732789, 43.37963036821171, 43.54644064909553, 43.713250929979345, 43.88006121086316, 44.04687149174698, 44.21368177263079, 44.38049205351461, 44.547302334398424, 44.71411261528225, 44.88092289616606, 45.04773317704988, 45.214543457933694, 45.38135373881751, 45.548164019701325, 45.71497430058514, 45.88178458146896, 46.04859486235278, 46.215405143236595, 46.38221542412041, 46.549025705004226, 46.71583598588804, 46.88264626677186, 47.04945654765567, 47.216266828539496, 47.38307710942331, 47.54988739030713, 47.71669767119094, 47.88350795207476, 48.050318232958574, 48.21712851384239, 48.383938794726205, 48.55074907561003, 48.717559356493844, 48.88436963737766, 49.051179918261475, 49.21799019914529, 49.38480048002911, 49.55161076091292, 49.718421041796745, 49.88523132268056, 50.052041603564376, 50.21885188444819, 50.38566216533201, 50.55247244621582, 50.71928272709964, 50.88609300798346, 51.05290328886728, 51.21971356975109, 51.38652385063491, 51.553334131518724, 51.72014441240254, 51.886954693286356, 52.05376497417018, 52.22057525505399, 52.38738553593781, 52.554195816821625, 52.72100609770544, 52.88781637858926, 53.05462665947307, 53.22143694035689, 53.388247221240704, 53.55505750212453, 53.72186778300834, 53.88867806389216, 54.05548834477597, 54.22229862565979, 54.389108906543605, 54.55591918742742, 54.72272946831124, 54.88953974919505, 55.056350030078875, 55.22316031096269, 55.389970591846506, 55.55678087273032, 55.72359115361414, 55.89040143449796, 56.05721171538177, 56.22402199626559, 56.39083227714941, 56.55764255803322, 56.72445283891704, 56.891263119800854, 57.05807340068468, 57.224883681568485, 57.39169396245231, 57.558504243336124, 57.72531452421994, 57.892124805103755, 58.05893508598757, 58.22574536687139, 58.3925556477552, 58.559365928639025, 58.72617620952284, 58.892986490406656, 59.05979677129047, 59.22660705217429], [42.61037058036338, 42.777180861247196, 42.94399114213101, 43.11080142301483, 43.27761170389864, 43.44442198478246, 43.611232265666274, 43.77804254655009, 43.94485282743391, 44.11166310831773, 44.278473389201544, 44.44528367008536, 44.612093950969175, 44.77890423185299, 44.94571451273681, 45.11252479362062, 45.279335074504445, 45.44614535538826, 45.612955636272076, 45.77976591715589, 45.94657619803971, 46.11338647892352, 46.28019675980734, 46.44700704069116, 46.61381732157498, 46.78062760245879, 46.94743788334261, 47.114248164226424, 47.28105844511024, 47.447868725994056, 47.61467900687788, 47.78148928776169, 47.94829956864551, 48.115109849529325, 48.28192013041314, 48.44873041129696, 48.61554069218077, 48.78235097306459, 48.949161253948404, 49.11597153483223, 49.28278181571604, 49.44959209659986, 49.61640237748367, 49.78321265836749, 49.950022939251305, 50.11683322013512, 50.28364350101894, 50.45045378190276, 50.617264062786575, 50.78407434367039, 50.950884624554206, 51.11769490543802, 51.28450518632184, 51.45131546720566, 51.618125748089476, 51.78493602897329, 51.95174630985711, 52.11855659074092, 52.28536687162474, 52.452177152508554, 52.61898743339238, 52.78579771427619, 52.95260799516001, 53.119418276043824, 53.28622855692764, 53.453038837811455, 53.61984911869527, 53.78665939957909, 53.9534696804629, 54.120279961346725, 54.28709024223054, 54.453900523114356, 54.62071080399817, 54.78752108488199, 54.9543313657658, 55.12114164664962, 55.28795192753344, 55.45476220841726, 55.62157248930107, 55.78838277018489, 55.955193051068704, 56.12200333195252, 56.288813612836336, 56.45562389372016, 56.62243417460397, 56.78924445548779, 56.956054736371605, 57.12286501725542, 57.28967529813924, 57.45648557902305, 57.623295859906875, 57.790106140790684, 57.95691642167451, 58.12372670255832, 58.29053698344214, 58.45734726432595, 58.62415754520977, 58.79096782609359, 58.95777810697741, 59.12458838786122], [42.50835191605031, 42.675162196934124, 42.84197247781794, 43.008782758701756, 43.17559303958558, 43.342403320469394, 43.50921360135321, 43.676023882237025, 43.84283416312084, 44.00964444400466, 44.17645472488847, 44.34326500577229, 44.51007528665611, 44.67688556753993, 44.84369584842374, 45.01050612930756, 45.177316410191374, 45.34412669107519, 45.510936971959005, 45.67774725284282, 45.84455753372664, 46.01136781461046, 46.178178095494275, 46.34498837637809, 46.511798657261906, 46.67860893814572, 46.84541921902954, 47.01222949991336, 47.179039780797176, 47.34585006168099, 47.51266034256481, 47.67947062344862, 47.84628090433244, 48.013091185216254, 48.17990146610008, 48.34671174698389, 48.51352202786771, 48.680332308751524, 48.84714258963534, 49.013952870519155, 49.18076315140297, 49.347573432286794, 49.5143837131706, 49.681193994054425, 49.84800427493824, 50.014814555822056, 50.18162483670587, 50.34843511758969, 50.5152453984735, 50.68205567935732, 50.84886596024114, 51.01567624112496, 51.18248652200877, 51.34929680289259, 51.516107083776404, 51.68291736466022, 51.849727645544036, 52.01653792642786, 52.18334820731167, 52.35015848819549, 52.516968769079305, 52.68377904996312, 52.85058933084694, 53.01739961173075, 53.184209892614575, 53.351020173498384, 53.51783045438221, 53.68464073526602, 53.85145101614984, 54.01826129703365, 54.18507157791747, 54.35188185880129, 54.5186921396851, 54.68550242056892, 54.85231270145274, 55.019122982336555, 55.18593326322037, 55.352743544104186, 55.519553824988, 55.68636410587182, 55.85317438675564, 56.019984667639456, 56.18679494852327, 56.35360522940709, 56.5204155102909, 56.68722579117472, 56.854036072058534, 57.02084635294236, 57.18765663382617, 57.35446691470999, 57.521277195593804, 57.68808747647762, 57.854897757361435, 58.02170803824525, 58.18851831912907, 58.35532860001289, 58.522138880896705, 58.68894916178052, 58.855759442664336, 59.02256972354816], [42.40633325173724, 42.57314353262106, 42.739953813504876, 42.90676409438869, 43.07357437527251, 43.24038465615632, 43.40719493704014, 43.574005217923954, 43.74081549880778, 43.90762577969159, 44.07443606057541, 44.241246341459224, 44.40805662234304, 44.574866903226855, 44.74167718411067, 44.90848746499449, 45.07529774587831, 45.242108026762125, 45.40891830764594, 45.575728588529756, 45.74253886941357, 45.90934915029739, 46.0761594311812, 46.24296971206502, 46.40977999294884, 46.57659027383266, 46.74340055471647, 46.91021083560029, 47.077021116484104, 47.24383139736792, 47.41064167825174, 47.57745195913556, 47.744262240019374, 47.91107252090319, 48.077882801787005, 48.24469308267082, 48.41150336355464, 48.57831364443845, 48.745123925322275, 48.91193420620609, 49.07874448708991, 49.24555476797372, 49.41236504885754, 49.57917532974135, 49.74598561062517, 49.91279589150899, 50.0796061723928, 50.24641645327662, 50.41322673416044, 50.580037015044255, 50.74684729592807, 50.913657576811886, 51.0804678576957, 51.24727813857952, 51.41408841946334, 51.580898700347156, 51.74770898123097, 51.91451926211479, 52.0813295429986, 52.24813982388242, 52.414950104766234, 52.58176038565006, 52.748570666533865, 52.91538094741769, 53.082191228301504, 53.24900150918532, 53.415811790069135, 53.58262207095295, 53.749432351836774, 53.91624263272058, 54.083052913604405, 54.24986319448822, 54.416673475372036, 54.58348375625585, 54.75029403713967, 54.91710431802349, 55.0839145989073, 55.25072487979112, 55.41753516067494, 55.58434544155875, 55.75115572244257, 55.917966003326384, 56.08477628421021, 56.251586565094016, 56.41839684597784, 56.585207126861654, 56.75201740774547, 56.918827688629285, 57.0856379695131, 57.252448250396924, 57.41925853128073, 57.58606881216455, 57.752879093048364, 57.91968937393219, 58.086499654816, 58.25330993569982, 58.42012021658364, 58.58693049746745, 58.75374077835127, 58.92055105923509], [42.30431458742417, 42.47112486830799, 42.637935149191804, 42.80474543007562, 42.971555710959436, 43.13836599184326, 43.305176272727074, 43.47198655361089, 43.638796834494705, 43.80560711537852, 43.97241739626234, 44.13922767714615, 44.306037958029975, 44.47284823891379, 44.63965851979761, 44.80646880068142, 44.97327908156524, 45.140089362449054, 45.30689964333287, 45.47370992421669, 45.64052020510051, 45.80733048598432, 45.97414076686814, 46.140951047751955, 46.30776132863577, 46.474571609519586, 46.6413818904034, 46.808192171287224, 46.97500245217104, 47.141812733054856, 47.30862301393867, 47.47543329482249, 47.6422435757063, 47.80905385659012, 47.975864137473934, 48.14267441835776, 48.30948469924157, 48.47629498012539, 48.643105261009204, 48.80991554189302, 48.976725822776835, 49.14353610366065, 49.310346384544474, 49.47715666542829, 49.643966946312105, 49.81077722719592, 49.977587508079736, 50.14439778896355, 50.31120806984737, 50.47801835073119, 50.644828631615006, 50.81163891249882, 50.97844919338264, 51.14525947426645, 51.31206975515027, 51.478880036034084, 51.64569031691791, 51.812500597801716, 51.97931087868554, 52.146121159569354, 52.31293144045317, 52.479741721336985, 52.6465520022208, 52.81336228310462, 52.98017256398843, 53.146982844872255, 53.31379312575607, 53.48060340663989, 53.6474136875237, 53.81422396840752, 53.98103424929133, 54.14784453017515, 54.31465481105897, 54.48146509194278, 54.6482753728266, 54.81508565371042, 54.981895934594235, 55.14870621547805, 55.315516496361866, 55.48232677724569, 55.6491370581295, 55.81594733901332, 55.982757619897136, 56.14956790078095, 56.31637818166477, 56.48318846254858, 56.649998743432405, 56.816809024316214, 56.98361930520004, 57.15042958608385, 57.31723986696767, 57.484050147851484, 57.6508604287353, 57.817670709619115, 57.98448099050293, 58.151291271386754, 58.31810155227057, 58.484911833154385, 58.6517221140382, 58.818532394922016], [42.20229592311111, 42.369106203994924, 42.53591648487874, 42.702726765762556, 42.86953704664637, 43.03634732753019, 43.203157608414, 43.36996788929782, 43.53677817018164, 43.70358845106546, 43.87039873194927, 44.03720901283309, 44.204019293716904, 44.37082957460072, 44.537639855484535, 44.70445013636835, 44.871260417252174, 45.03807069813599, 45.204880979019805, 45.37169125990362, 45.538501540787436, 45.70531182167125, 45.87212210255507, 46.03893238343889, 46.205742664322706, 46.37255294520652, 46.53936322609034, 46.70617350697415, 46.87298378785797, 47.039794068741784, 47.20660434962561, 47.373414630509416, 47.54022491139324, 47.707035192277054, 47.87384547316087, 48.040655754044685, 48.2074660349285, 48.37427631581232, 48.54108659669613, 48.707896877579955, 48.87470715846377, 49.04151743934759, 49.2083277202314, 49.37513800111522, 49.541948281999034, 49.70875856288285, 49.87556884376667, 50.04237912465049, 50.2091894055343, 50.37599968641812, 50.542809967301935, 50.70962024818575, 50.876430529069566, 51.04324080995339, 51.210051090837204, 51.37686137172102, 51.543671652604836, 51.71048193348865, 51.87729221437247, 52.04410249525628, 52.210912776140106, 52.37772305702392, 52.54453333790774, 52.71134361879155, 52.87815389967537, 53.044964180559184, 53.211774461443, 53.378584742326815, 53.54539502321063, 53.712205304094454, 53.87901558497827, 54.045825865862085, 54.2126361467459, 54.379446427629716, 54.54625670851353, 54.71306698939735, 54.87987727028117, 55.046687551164986, 55.2134978320488, 55.38030811293262, 55.54711839381643, 55.71392867470025, 55.880738955584064, 56.04754923646789, 56.214359517351696, 56.38116979823552, 56.547980079119334, 56.71479036000315, 56.881600640886965, 57.04841092177078, 57.215221202654604, 57.38203148353841, 57.548841764422235, 57.71565204530605, 57.88246232618987, 58.04927260707368, 58.2160828879575, 58.38289316884132, 58.549703449725136, 58.71651373060895], [42.10027725879804, 42.26708753968185, 42.43389782056567, 42.600708101449484, 42.76751838233331, 42.93432866321712, 43.10113894410094, 43.267949224984754, 43.43475950586857, 43.601569786752385, 43.7683800676362, 43.93519034852002, 44.10200062940384, 44.268810910287655, 44.43562119117147, 44.60243147205529, 44.7692417529391, 44.93605203382292, 45.102862314706734, 45.26967259559055, 45.43648287647437, 45.60329315735819, 45.770103438242, 45.93691371912582, 46.103724000009635, 46.27053428089345, 46.437344561777266, 46.60415484266109, 46.770965123544904, 46.93777540442872, 47.104585685312536, 47.27139596619635, 47.43820624708017, 47.60501652796398, 47.771826808847806, 47.93863708973162, 48.10544737061544, 48.27225765149925, 48.43906793238307, 48.605878213266884, 48.7726884941507, 48.93949877503452, 49.10630905591833, 49.273119336802154, 49.43992961768597, 49.606739898569785, 49.7735501794536, 49.940360460337416, 50.10717074122123, 50.27398102210505, 50.44079130298887, 50.607601583872686, 50.7744118647565, 50.94122214564032, 51.10803242652413, 51.27484270740795, 51.441652988291764, 51.60846326917559, 51.775273550059396, 51.94208383094322, 52.108894111827034, 52.27570439271085, 52.442514673594665, 52.60932495447848, 52.776135235362304, 52.94294551624611, 53.109755797129935, 53.27656607801375, 53.44337635889757, 53.61018663978138, 53.7769969206652, 53.94380720154902, 54.11061748243283, 54.27742776331665, 54.44423804420047, 54.61104832508428, 54.7778586059681, 54.944668886851915, 55.11147916773573, 55.278289448619546, 55.44509972950337, 55.611910010387184, 55.778720291271, 55.945530572154816, 56.11234085303863, 56.27915113392245, 56.44596141480626, 56.612771695690085, 56.7795819765739, 56.94639225745772, 57.11320253834153, 57.28001281922535, 57.446823100109164, 57.61363338099298, 57.780443661876795, 57.94725394276062, 58.114064223644434, 58.28087450452825, 58.447684785412065, 58.61449506629589], [41.998258594484966, 42.16506887536879, 42.331879156252604, 42.49868943713642, 42.665499718020236, 42.83230999890405, 42.99912027978787, 43.16593056067168, 43.332740841555506, 43.49955112243932, 43.66636140332314, 43.83317168420695, 43.99998196509077, 44.166792245974584, 44.3336025268584, 44.500412807742215, 44.66722308862604, 44.834033369509854, 45.00084365039367, 45.167653931277485, 45.3344642121613, 45.501274493045116, 45.66808477392893, 45.83489505481275, 46.00170533569657, 46.168515616580386, 46.3353258974642, 46.50213617834802, 46.66894645923183, 46.83575674011565, 47.00256702099947, 47.16937730188329, 47.3361875827671, 47.50299786365092, 47.669808144534734, 47.83661842541855, 48.003428706302365, 48.17023898718618, 48.337049268070004, 48.50385954895382, 48.670669829837635, 48.83748011072145, 49.00429039160527, 49.17110067248908, 49.3379109533729, 49.50472123425672, 49.67153151514053, 49.83834179602435, 50.00515207690817, 50.17196235779198, 50.3387726386758, 50.505582919559615, 50.67239320044343, 50.839203481327246, 51.00601376221107, 51.172824043094884, 51.3396343239787, 51.506444604862516, 51.67325488574633, 51.84006516663015, 52.00687544751396, 52.173685728397786, 52.340496009281594, 52.50730629016542, 52.67411657104923, 52.84092685193305, 53.007737132816864, 53.17454741370068, 53.3413576945845, 53.50816797546831, 53.674978256352134, 53.84178853723595, 54.008598818119765, 54.17540909900358, 54.342219379887396, 54.50902966077122, 54.67583994165503, 54.84265022253885, 55.009460503422666, 55.17627078430648, 55.3430810651903, 55.50989134607411, 55.676701626957936, 55.843511907841744, 56.01032218872557, 56.17713246960938, 56.3439427504932, 56.510753031377014, 56.67756331226083, 56.84437359314465, 57.01118387402846, 57.17799415491228, 57.34480443579609, 57.511614716679915, 57.67842499756373, 57.84523527844755, 58.01204555933137, 58.17885584021518, 58.345666121099, 58.512476401982816], [41.8962399301719, 42.06305021105572, 42.22986049193953, 42.39667077282335, 42.563481053707164, 42.73029133459099, 42.8971016154748, 43.06391189635862, 43.230722177242434, 43.39753245812625, 43.564342739010065, 43.73115301989388, 43.897963300777704, 44.06477358166152, 44.231583862545335, 44.39839414342915, 44.56520442431297, 44.73201470519678, 44.8988249860806, 45.06563526696442, 45.232445547848236, 45.39925582873205, 45.56606610961587, 45.73287639049968, 45.8996866713835, 46.066496952267315, 46.23330723315113, 46.40011751403495, 46.56692779491877, 46.733738075802584, 46.9005483566864, 47.067358637570216, 47.23416891845403, 47.40097919933785, 47.56778948022166, 47.734599761105486, 47.9014100419893, 48.06822032287312, 48.23503060375693, 48.40184088464075, 48.568651165524564, 48.73546144640838, 48.9022717272922, 49.06908200817602, 49.235892289059834, 49.40270256994365, 49.569512850827465, 49.73632313171128, 49.903133412595096, 50.06994369347892, 50.236753974362735, 50.40356425524655, 50.570374536130366, 50.73718481701418, 50.903995097898, 51.07080537878181, 51.237615659665636, 51.404425940549444, 51.57123622143327, 51.73804650231708, 51.9048567832009, 52.071667064084714, 52.23847734496853, 52.405287625852345, 52.57209790673616, 52.738908187619984, 52.9057184685038, 53.072528749387615, 53.23933903027143, 53.40614931115525, 53.57295959203906, 53.73976987292288, 53.9065801538067, 54.07339043469051, 54.24020071557433, 54.40701099645815, 54.57382127734196, 54.74063155822578, 54.907441839109595, 55.07425211999342, 55.241062400877226, 55.40787268176105, 55.574682962644864, 55.74149324352868, 55.908303524412496, 56.07511380529631, 56.241924086180134, 56.40873436706394, 56.575544647947765, 56.74235492883158, 56.9091652097154, 57.07597549059921, 57.24278577148303, 57.409596052366844, 57.57640633325066, 57.74321661413448, 57.9100268950183, 58.076837175902114, 58.24364745678593, 58.410457737669745], [41.79422126585884, 41.96103154674265, 42.12784182762647, 42.294652108510284, 42.4614623893941, 42.628272670277916, 42.79508295116173, 42.96189323204555, 43.12870351292937, 43.295513793813186, 43.462324074697, 43.62913435558082, 43.79594463646463, 43.96275491734845, 44.129565198232264, 44.29637547911608, 44.4631857599999, 44.62999604088372, 44.796806321767534, 44.96361660265135, 45.130426883535165, 45.29723716441898, 45.464047445302796, 45.63085772618662, 45.797668007070435, 45.96447828795425, 46.131288568838066, 46.29809884972188, 46.4649091306057, 46.63171941148951, 46.798529692373336, 46.965339973257144, 47.13215025414097, 47.29896053502478, 47.4657708159086, 47.632581096792414, 47.79939137767623, 47.966201658560045, 48.13301193944386, 48.299822220327684, 48.4666325012115, 48.633442782095315, 48.80025306297913, 48.96706334386295, 49.13387362474676, 49.30068390563058, 49.4674941865144, 49.634304467398216, 49.80111474828203, 49.96792502916585, 50.13473531004966, 50.30154559093348, 50.468355871817295, 50.63516615270112, 50.80197643358493, 50.96878671446875, 51.135596995352564, 51.30240727623638, 51.469217557120196, 51.63602783800401, 51.802838118887834, 51.96964839977165, 52.136458680655466, 52.30326896153928, 52.4700792424231, 52.63688952330691, 52.80369980419073, 52.970510085074544, 53.13732036595836, 53.30413064684218, 53.470940927726, 53.637751208609814, 53.80456148949363, 53.971371770377445, 54.13818205126126, 54.304992332145076, 54.4718026130289, 54.638612893912715, 54.80542317479653, 54.972233455680346, 55.13904373656416, 55.30585401744798, 55.47266429833179, 55.639474579215616, 55.806284860099424, 55.97309514098325, 56.13990542186706, 56.30671570275088, 56.473525983634694, 56.64033626451851, 56.80714654540233, 56.97395682628614, 57.140767107169964, 57.30757738805378, 57.474387668937595, 57.64119794982141, 57.80800823070523, 57.97481851158905, 58.141628792472865, 58.30843907335668], [41.692202601545766, 41.85901288242958, 42.0258231633134, 42.19263344419721, 42.359443725081036, 42.52625400596485, 42.69306428684867, 42.85987456773248, 43.0266848486163, 43.193495129500114, 43.36030541038393, 43.527115691267745, 43.69392597215157, 43.860736253035384, 44.0275465339192, 44.194356814803015, 44.36116709568683, 44.52797737657065, 44.69478765745446, 44.86159793833828, 45.0284082192221, 45.195218500105916, 45.36202878098973, 45.52883906187355, 45.69564934275736, 45.86245962364118, 46.029269904524995, 46.19608018540882, 46.36289046629263, 46.52970074717645, 46.696511028060264, 46.86332130894408, 47.030131589827896, 47.19694187071171, 47.363752151595534, 47.53056243247935, 47.697372713363166, 47.86418299424698, 48.0309932751308, 48.19780355601461, 48.36461383689843, 48.53142411778225, 48.69823439866606, 48.86504467954988, 49.0318549604337, 49.198665241317514, 49.36547552220133, 49.532285803085145, 49.69909608396896, 49.865906364852776, 50.0327166457366, 50.199526926620415, 50.36633720750423, 50.533147488388046, 50.69995776927186, 50.86676805015568, 51.03357833103949, 51.200388611923316, 51.367198892807124, 51.53400917369095, 51.70081945457476, 51.86762973545858, 52.034440016342394, 52.20125029722621, 52.36806057811003, 52.53487085899384, 52.701681139877664, 52.86849142076148, 53.035301701645295, 53.20211198252911, 53.36892226341293, 53.53573254429675, 53.70254282518056, 53.86935310606438, 54.036163386948196, 54.20297366783201, 54.36978394871583, 54.53659422959964, 54.70340451048346, 54.870214791367275, 55.0370250722511, 55.20383535313491, 55.37064563401873, 55.537455914902544, 55.70426619578636, 55.871076476670176, 56.03788675755399, 56.204697038437814, 56.37150731932163, 56.538317600205446, 56.70512788108926, 56.87193816197308, 57.03874844285689, 57.20555872374071, 57.372369004624524, 57.53917928550835, 57.70598956639216, 57.87279984727598, 58.039610128159794, 58.206420409043616], [41.590183937232695, 41.75699421811652, 41.92380449900033, 42.09061477988415, 42.257425060767964, 42.42423534165178, 42.591045622535596, 42.75785590341941, 42.924666184303234, 43.09147646518705, 43.258286746070866, 43.42509702695468, 43.5919073078385, 43.75871758872231, 43.92552786960613, 44.09233815048995, 44.25914843137377, 44.42595871225758, 44.5927689931414, 44.759579274025214, 44.92638955490903, 45.093199835792845, 45.26001011667666, 45.426820397560476, 45.5936306784443, 45.760440959328115, 45.92725124021193, 46.094061521095746, 46.26087180197956, 46.42768208286338, 46.5944923637472, 46.761302644631016, 46.92811292551483, 47.09492320639865, 47.26173348728246, 47.42854376816628, 47.595354049050094, 47.76216432993391, 47.92897461081773, 48.09578489170155, 48.262595172585364, 48.42940545346918, 48.596215734352995, 48.76302601523681, 48.92983629612063, 49.09664657700445, 49.26345685788826, 49.43026713877208, 49.597077419655896, 49.76388770053971, 49.93069798142353, 50.09750826230734, 50.26431854319116, 50.431128824074975, 50.5979391049588, 50.76474938584261, 50.93155966672643, 51.098369947610244, 51.26518022849406, 51.431990509377876, 51.59880079026169, 51.765611071145514, 51.93242135202932, 52.099231632913146, 52.26604191379696, 52.43285219468078, 52.59966247556459, 52.76647275644841, 52.93328303733223, 53.10009331821604, 53.26690359909986, 53.43371387998368, 53.600524160867494, 53.76733444175131, 53.934144722635125, 54.10095500351895, 54.267765284402756, 54.43457556528658, 54.601385846170395, 54.76819612705421, 54.935006407938026, 55.10181668882184, 55.268626969705664, 55.43543725058947, 55.602247531473296, 55.76905781235711, 55.93586809324093, 56.10267837412474, 56.26948865500856, 56.43629893589238, 56.60310921677619, 56.769919497660005, 56.93672977854382, 57.103540059427644, 57.27035034031146, 57.437160621195275, 57.6039709020791, 57.77078118296291, 57.93759146384673, 58.104401744730545], [41.48816527291963, 41.654975553803446, 41.82178583468726, 41.98859611557108, 42.15540639645489, 42.322216677338716, 42.48902695822253, 42.65583723910635, 42.82264751999016, 42.98945780087398, 43.156268081757794, 43.32307836264161, 43.48988864352543, 43.65669892440925, 43.823509205293064, 43.99031948617688, 44.157129767060695, 44.32394004794451, 44.49075032882833, 44.65756060971215, 44.824370890595965, 44.99118117147978, 45.157991452363596, 45.32480173324741, 45.49161201413123, 45.65842229501504, 45.82523257589886, 45.99204285678268, 46.1588531376665, 46.32566341855031, 46.49247369943413, 46.659283980317944, 46.82609426120176, 46.992904542085576, 47.15971482296939, 47.326525103853214, 47.49333538473703, 47.660145665620846, 47.82695594650466, 47.99376622738848, 48.16057650827229, 48.32738678915611, 48.49419707003993, 48.66100735092375, 48.82781763180756, 48.99462791269138, 49.161438193575194, 49.32824847445901, 49.495058755342825, 49.66186903622665, 49.82867931711046, 49.99548959799428, 50.162299878878095, 50.32911015976191, 50.495920440645726, 50.66273072152954, 50.829541002413364, 50.99635128329717, 51.163161564180996, 51.32997184506481, 51.49678212594863, 51.66359240683244, 51.83040268771626, 51.997212968600074, 52.16402324948389, 52.33083353036771, 52.49764381125153, 52.664454092135344, 52.83126437301916, 52.998074653902975, 53.16488493478679, 53.33169521567061, 53.49850549655443, 53.66531577743824, 53.83212605832206, 53.998936339205876, 54.16574662008969, 54.33255690097351, 54.49936718185732, 54.666177462741146, 54.832987743624955, 54.99979802450878, 55.16660830539259, 55.33341858627641, 55.500228867160224, 55.66703914804404, 55.83384942892786, 56.00065970981167, 56.167469990695494, 56.33428027157931, 56.501090552463126, 56.66790083334694, 56.83471111423076, 57.00152139511457, 57.16833167599839, 57.33514195688221, 57.50195223776603, 57.66876251864984, 57.83557279953366, 58.002383080417474], [41.386146608606566, 41.55295688949038, 41.7197671703742, 41.88657745125801, 42.05338773214183, 42.220198013025644, 42.38700829390946, 42.553818574793276, 42.7206288556771, 42.887439136560914, 43.05424941744473, 43.221059698328546, 43.38786997921236, 43.55468026009618, 43.72149054097999, 43.88830082186381, 44.05511110274763, 44.22192138363145, 44.38873166451526, 44.55554194539908, 44.722352226282894, 44.88916250716671, 45.055972788050525, 45.22278306893435, 45.38959334981816, 45.55640363070198, 45.723213911585795, 45.89002419246961, 46.056834473353426, 46.22364475423724, 46.390455035121064, 46.55726531600487, 46.724075596888696, 46.89088587777251, 47.05769615865633, 47.22450643954014, 47.39131672042396, 47.558127001307774, 47.72493728219159, 47.89174756307541, 48.05855784395923, 48.225368124843044, 48.39217840572686, 48.558988686610675, 48.72579896749449, 48.89260924837831, 49.05941952926213, 49.226229810145945, 49.39304009102976, 49.559850371913576, 49.72666065279739, 49.89347093368121, 50.06028121456502, 50.227091495448846, 50.39390177633266, 50.56071205721648, 50.72752233810029, 50.89433261898411, 51.061142899867924, 51.22795318075174, 51.39476346163556, 51.56157374251938, 51.728384023403194, 51.89519430428701, 52.062004585170826, 52.22881486605464, 52.39562514693846, 52.56243542782227, 52.72924570870609, 52.89605598958991, 53.06286627047373, 53.22967655135754, 53.39648683224136, 53.563297113125174, 53.73010739400899, 53.896917674892805, 54.06372795577663, 54.23053823666044, 54.39734851754426, 54.564158798428075, 54.73096907931189, 54.897779360195706, 55.06458964107952, 55.231399921963344, 55.39821020284715, 55.565020483730976, 55.73183076461479, 55.89864104549861, 56.06545132638242, 56.23226160726624, 56.39907188815006, 56.56588216903387, 56.73269244991769, 56.89950273080151, 57.066313011685324, 57.23312329256914, 57.399933573452955, 57.56674385433678, 57.733554135220594, 57.90036441610441], [41.284127944293495, 41.45093822517731, 41.617748506061126, 41.78455878694494, 41.951369067828765, 42.11817934871258, 42.284989629596396, 42.45179991048021, 42.61861019136403, 42.78542047224784, 42.95223075313166, 43.11904103401548, 43.2858513148993, 43.45266159578311, 43.61947187666693, 43.786282157550744, 43.95309243843456, 44.119902719318375, 44.28671300020219, 44.453523281086014, 44.62033356196983, 44.787143842853645, 44.95395412373746, 45.120764404621276, 45.28757468550509, 45.45438496638891, 45.62119524727272, 45.788005528156546, 45.95481580904036, 46.12162608992418, 46.28843637080799, 46.45524665169181, 46.622056932575624, 46.78886721345944, 46.95567749434326, 47.12248777522708, 47.289298056110894, 47.45610833699471, 47.622918617878526, 47.78972889876234, 47.95653917964616, 48.12334946052998, 48.290159741413795, 48.45697002229761, 48.62378030318143, 48.79059058406524, 48.95740086494906, 49.124211145832874, 49.29102142671669, 49.45783170760051, 49.62464198848433, 49.79145226936814, 49.95826255025196, 50.125072831135775, 50.29188311201959, 50.458693392903406, 50.62550367378722, 50.792313954671044, 50.95912423555485, 51.125934516438676, 51.29274479732249, 51.45955507820631, 51.62636535909012, 51.79317563997394, 51.95998592085776, 52.12679620174157, 52.29360648262539, 52.46041676350921, 52.627227044393024, 52.79403732527684, 52.960847606160655, 53.12765788704448, 53.29446816792829, 53.46127844881211, 53.628088729695925, 53.79489901057974, 53.961709291463556, 54.12851957234737, 54.29532985323119, 54.462140134115, 54.628950414998826, 54.79576069588264, 54.96257097676646, 55.12938125765027, 55.29619153853409, 55.463001819417904, 55.62981210030172, 55.79662238118554, 55.96343266206936, 56.130242942953174, 56.29705322383699, 56.463863504720806, 56.63067378560462, 56.79748406648844, 56.96429434737225, 57.131104628256075, 57.29791490913989, 57.46472519002371, 57.63153547090752, 57.798345751791345], [41.18210927998042, 41.348919560864246, 41.51572984174806, 41.68254012263188, 41.84935040351569, 42.01616068439951, 42.182970965283324, 42.34978124616714, 42.51659152705096, 42.68340180793478, 42.850212088818594, 43.01702236970241, 43.183832650586226, 43.35064293147004, 43.51745321235386, 43.68426349323767, 43.85107377412149, 44.01788405500531, 44.18469433588913, 44.35150461677294, 44.51831489765676, 44.685125178540574, 44.85193545942439, 45.018745740308205, 45.18555602119203, 45.35236630207584, 45.51917658295966, 45.685986863843475, 45.85279714472729, 46.019607425611106, 46.18641770649492, 46.35322798737874, 46.52003826826256, 46.686848549146376, 46.85365883003019, 47.02046911091401, 47.18727939179782, 47.35408967268164, 47.520899953565454, 47.68771023444928, 47.85452051533309, 48.02133079621691, 48.188141077100724, 48.35495135798454, 48.521761638868355, 48.68857191975217, 48.85538220063599, 49.02219248151981, 49.189002762403625, 49.35581304328744, 49.522623324171256, 49.68943360505507, 49.85624388593889, 50.0230541668227, 50.189864447706526, 50.35667472859034, 50.52348500947416, 50.69029529035797, 50.85710557124179, 51.023915852125604, 51.19072613300942, 51.35753641389324, 51.52434669477705, 51.691156975660874, 51.85796725654469, 52.024777537428506, 52.19158781831232, 52.35839809919614, 52.52520838007996, 52.69201866096377, 52.85882894184759, 53.02563922273141, 53.19244950361522, 53.35925978449904, 53.526070065382854, 53.692880346266676, 53.859690627150485, 54.02650090803431, 54.19331118891812, 54.36012146980194, 54.526931750685755, 54.69374203156957, 54.86055231245339, 55.0273625933372, 55.194172874221024, 55.36098315510484, 55.527793435988656, 55.69460371687247, 55.86141399775629, 56.02822427864011, 56.19503455952392, 56.361844840407734, 56.52865512129155, 56.69546540217537, 56.86227568305919, 57.029085963943004, 57.19589624482683, 57.362706525710635, 57.52951680659446, 57.696327087478274], [41.08009061566736, 41.246900896551175, 41.41371117743499, 41.580521458318806, 41.74733173920262, 41.914142020086445, 42.08095230097026, 42.247762581854076, 42.41457286273789, 42.58138314362171, 42.74819342450552, 42.91500370538934, 43.08181398627316, 43.24862426715698, 43.41543454804079, 43.58224482892461, 43.749055109808424, 43.91586539069224, 44.082675671576055, 44.24948595245988, 44.416296233343694, 44.58310651422751, 44.749916795111325, 44.91672707599514, 45.083537356878956, 45.25034763776277, 45.41715791864659, 45.58396819953041, 45.750778480414226, 45.91758876129804, 46.08439904218186, 46.25120932306567, 46.41801960394949, 46.584829884833304, 46.75164016571712, 46.91845044660094, 47.08526072748476, 47.252071008368574, 47.41888128925239, 47.585691570136206, 47.75250185102002, 47.91931213190384, 48.08612241278766, 48.252932693671475, 48.41974297455529, 48.58655325543911, 48.75336353632292, 48.92017381720674, 49.086984098090554, 49.253794378974376, 49.42060465985819, 49.58741494074201, 49.75422522162582, 49.92103550250964, 50.087845783393455, 50.25465606427727, 50.42146634516109, 50.5882766260449, 50.755086906928724, 50.92189718781254, 51.088707468696356, 51.25551774958017, 51.42232803046399, 51.5891383113478, 51.75594859223162, 51.92275887311544, 52.08956915399926, 52.25637943488307, 52.42318971576689, 52.589999996650704, 52.75681027753452, 52.923620558418335, 53.09043083930216, 53.25724112018597, 53.42405140106979, 53.590861681953605, 53.75767196283742, 53.924482243721236, 54.09129252460505, 54.258102805488875, 54.42491308637268, 54.591723367256506, 54.75853364814032, 54.92534392902414, 55.09215420990795, 55.25896449079177, 55.42577477167559, 55.5925850525594, 55.75939533344322, 55.92620561432704, 56.093015895210854, 56.25982617609467, 56.426636456978486, 56.5934467378623, 56.76025701874612, 56.92706729962994, 57.093877580513755, 57.26068786139757, 57.42749814228139, 57.5943084231652], [40.978071951354295, 41.14488223223811, 41.311692513121926, 41.47850279400574, 41.64531307488956, 41.81212335577337, 41.97893363665719, 42.145743917541004, 42.31255419842483, 42.47936447930864, 42.64617476019246, 42.812985041076274, 42.97979532196009, 43.146605602843906, 43.31341588372772, 43.48022616461154, 43.64703644549536, 43.813846726379175, 43.98065700726299, 44.14746728814681, 44.31427756903062, 44.48108784991444, 44.647898130798254, 44.814708411682076, 44.98151869256589, 45.14832897344971, 45.31513925433352, 45.48194953521734, 45.648759816101155, 45.81557009698497, 45.98238037786879, 46.1491906587526, 46.316000939636425, 46.48281122052024, 46.649621501404056, 46.81643178228787, 46.98324206317169, 47.1500523440555, 47.31686262493932, 47.48367290582314, 47.65048318670696, 47.81729346759077, 47.98410374847459, 48.150914029358404, 48.31772431024222, 48.484534591126035, 48.65134487200986, 48.818155152893674, 48.98496543377749, 49.151775714661305, 49.31858599554512, 49.485396276428936, 49.65220655731275, 49.819016838196575, 49.98582711908039, 50.152637399964206, 50.31944768084802, 50.48625796173184, 50.65306824261565, 50.81987852349947, 50.98668880438329, 51.15349908526711, 51.32030936615092, 51.48711964703474, 51.653929927918554, 51.82074020880237, 51.987550489686186, 52.15436077057, 52.32117105145382, 52.48798133233764, 52.654791613221455, 52.82160189410527, 52.98841217498909, 53.1552224558729, 53.32203273675672, 53.488843017640534, 53.655653298524356, 53.82246357940817, 53.98927386029199, 54.1560841411758, 54.32289442205962, 54.489704702943435, 54.65651498382725, 54.82332526471107, 54.99013554559488, 55.156945826478704, 55.32375610736252, 55.490566388246336, 55.65737666913015, 55.82418695001397, 55.99099723089779, 56.1578075117816, 56.32461779266542, 56.49142807354924, 56.65823835443305, 56.82504863531687, 56.991858916200684, 57.15866919708451, 57.32547947796832, 57.49228975885214], [40.87605328704122, 41.04286356792504, 41.209673848808855, 41.37648412969267, 41.54329441057649, 41.71010469146031, 41.876914972344125, 42.04372525322794, 42.210535534111756, 42.37734581499557, 42.54415609587939, 42.7109663767632, 42.877776657647026, 43.04458693853084, 43.21139721941466, 43.37820750029847, 43.54501778118229, 43.711828062066104, 43.87863834294992, 44.045448623833735, 44.21225890471756, 44.379069185601374, 44.54587946648519, 44.712689747369005, 44.87950002825282, 45.046310309136636, 45.21312059002045, 45.379930870904275, 45.54674115178809, 45.713551432671906, 45.88036171355572, 46.04717199443954, 46.21398227532335, 46.38079255620717, 46.54760283709099, 46.71441311797481, 46.88122339885862, 47.04803367974244, 47.214843960626254, 47.38165424151007, 47.548464522393886, 47.71527480327771, 47.88208508416152, 48.04889536504534, 48.215705645929155, 48.38251592681297, 48.54932620769679, 48.7161364885806, 48.88294676946442, 49.049757050348234, 49.216567331232056, 49.38337761211587, 49.55018789299969, 49.7169981738835, 49.88380845476732, 50.050618735651135, 50.21742901653495, 50.38423929741877, 50.55104957830258, 50.717859859186404, 50.88467014007022, 51.051480420954036, 51.21829070183785, 51.38510098272167, 51.55191126360549, 51.7187215444893, 51.88553182537312, 52.05234210625694, 52.21915238714075, 52.38596266802457, 52.552772948908384, 52.71958322979221, 52.886393510676015, 53.05320379155984, 53.220014072443654, 53.38682435332747, 53.553634634211285, 53.7204449150951, 53.887255195978916, 54.05406547686273, 54.220875757746555, 54.38768603863037, 54.554496319514186, 54.721306600398, 54.88811688128182, 55.05492716216563, 55.22173744304945, 55.38854772393327, 55.55535800481709, 55.7221682857009, 55.88897856658472, 56.055788847468534, 56.22259912835235, 56.389409409236166, 56.55621969011998, 56.723029971003804, 56.88984025188762, 57.056650532771435, 57.22346081365525, 57.390271094539074], [40.77403462272815, 40.940844903611975, 41.10765518449579, 41.274465465379606, 41.44127574626342, 41.60808602714724, 41.77489630803105, 41.94170658891487, 42.10851686979869, 42.27532715068251, 42.44213743156632, 42.60894771245014, 42.775757993333954, 42.94256827421777, 43.109378555101586, 43.27618883598541, 43.442999116869224, 43.60980939775304, 43.776619678636855, 43.94342995952067, 44.11024024040449, 44.2770505212883, 44.44386080217212, 44.610671083055934, 44.777481363939756, 44.94429164482357, 45.11110192570739, 45.2779122065912, 45.44472248747502, 45.611532768358835, 45.77834304924266, 45.94515333012647, 46.11196361101029, 46.278773891894105, 46.44558417277792, 46.612394453661736, 46.77920473454555, 46.94601501542937, 47.11282529631319, 47.279635577197006, 47.44644585808082, 47.61325613896464, 47.78006641984845, 47.94687670073227, 48.113686981616084, 48.28049726249991, 48.447307543383715, 48.61411782426754, 48.780928105151354, 48.94773838603517, 49.114548666918985, 49.2813589478028, 49.448169228686616, 49.61497950957043, 49.781789790454255, 49.94860007133807, 50.115410352221886, 50.2822206331057, 50.44903091398952, 50.61584119487333, 50.78265147575715, 50.94946175664097, 51.11627203752478, 51.2830823184086, 51.44989259929242, 51.616702880176234, 51.78351316106005, 51.950323441943866, 52.11713372282769, 52.2839440037115, 52.45075428459532, 52.617564565479135, 52.78437484636295, 52.95118512724677, 53.11799540813058, 53.284805689014405, 53.451615969898214, 53.618426250782036, 53.78523653166585, 53.95204681254967, 54.11885709343348, 54.2856673743173, 54.45247765520112, 54.61928793608493, 54.78609821696875, 54.95290849785257, 55.119718778736384, 55.2865290596202, 55.453339340504016, 55.62014962138784, 55.78695990227165, 55.95377018315546, 56.12058046403928, 56.2873907449231, 56.45420102580692, 56.62101130669073, 56.787821587574555, 56.954631868458364, 57.12144214934219, 57.288252430226], [40.67201595841509, 40.8388262392989, 41.00563652018272, 41.172446801066535, 41.33925708195035, 41.50606736283417, 41.67287764371799, 41.839687924601805, 42.00649820548562, 42.173308486369436, 42.34011876725325, 42.50692904813707, 42.67373932902089, 42.840549609904706, 43.00735989078852, 43.17417017167234, 43.34098045255615, 43.50779073343997, 43.674601014323784, 43.84141129520761, 44.00822157609142, 44.17503185697524, 44.341842137859054, 44.50865241874287, 44.675462699626685, 44.8422729805105, 45.009083261394316, 45.17589354227814, 45.342703823161955, 45.50951410404577, 45.676324384929586, 45.8431346658134, 46.00994494669722, 46.17675522758103, 46.34356550846485, 46.51037578934867, 46.67718607023249, 46.8439963511163, 47.01080663200012, 47.177616912883934, 47.34442719376775, 47.511237474651566, 47.67804775553539, 47.844858036419204, 48.01166831730302, 48.178478598186835, 48.34528887907065, 48.51209915995447, 48.67890944083828, 48.845719721722105, 49.01253000260592, 49.179340283489736, 49.34615056437355, 49.51296084525737, 49.67977112614118, 49.846581407025, 50.01339168790882, 50.18020196879263, 50.34701224967645, 50.51382253056027, 50.680632811444084, 50.8474430923279, 51.014253373211716, 51.18106365409553, 51.34787393497935, 51.51468421586317, 51.681494496746986, 51.8483047776308, 52.01511505851462, 52.18192533939843, 52.34873562028225, 52.515545901166064, 52.68235618204989, 52.849166462933695, 53.01597674381752, 53.182787024701334, 53.34959730558515, 53.516407586468965, 53.68321786735278, 53.8500281482366, 54.01683842912041, 54.183648710004235, 54.35045899088805, 54.517269271771866, 54.68407955265568, 54.8508898335395, 55.01770011442332, 55.18451039530713, 55.35132067619095, 55.51813095707477, 55.68494123795858, 55.8517515188424, 56.018561799726214, 56.18537208061003, 56.352182361493846, 56.51899264237767, 56.685802923261484, 56.8526132041453, 57.019423485029115, 57.18623376591293], [40.56999729410202, 40.73680757498584, 40.903617855869655, 41.07042813675347, 41.237238417637286, 41.4040486985211, 41.57085897940492, 41.73766926028873, 41.90447954117255, 42.07128982205637, 42.23810010294019, 42.404910383824, 42.57172066470782, 42.738530945591634, 42.90534122647545, 43.072151507359266, 43.23896178824309, 43.405772069126904, 43.57258235001072, 43.739392630894535, 43.90620291177835, 44.07301319266217, 44.23982347354598, 44.406633754429805, 44.57344403531362, 44.740254316197436, 44.90706459708125, 45.07387487796507, 45.24068515884888, 45.4074954397327, 45.57430572061652, 45.74111600150033, 45.90792628238415, 46.07473656326797, 46.241546844151785, 46.4083571250356, 46.575167405919416, 46.74197768680323, 46.90878796768705, 47.07559824857087, 47.242408529454686, 47.4092188103385, 47.57602909122232, 47.74283937210613, 47.90964965298995, 48.076459933873764, 48.24327021475759, 48.4100804956414, 48.57689077652522, 48.743701057409034, 48.91051133829285, 49.077321619176665, 49.24413190006048, 49.4109421809443, 49.57775246182812, 49.744562742711935, 49.91137302359575, 50.078183304479566, 50.24499358536338, 50.4118038662472, 50.57861414713102, 50.745424428014836, 50.91223470889865, 51.07904498978247, 51.24585527066628, 51.4126655515501, 51.579475832433914, 51.74628611331773, 51.913096394201546, 52.07990667508537, 52.246716955969184, 52.413527236853, 52.580337517736815, 52.74714779862063, 52.91395807950445, 53.08076836038826, 53.247578641272085, 53.4143889221559, 53.581199203039716, 53.74800948392353, 53.91481976480735, 54.08163004569116, 54.24844032657498, 54.4152506074588, 54.58206088834261, 54.74887116922643, 54.91568145011025, 55.082491730994064, 55.24930201187788, 55.416112292761696, 55.58292257364552, 55.74973285452933, 55.91654313541315, 56.083353416296966, 56.25016369718078, 56.4169739780646, 56.58378425894841, 56.750594539832235, 56.91740482071605, 57.08421510159987], [40.46797862978895, 40.63478891067277, 40.80159919155658, 40.9684094724404, 41.13521975332422, 41.30203003420804, 41.46884031509185, 41.63565059597567, 41.802460876859485, 41.9692711577433, 42.136081438627116, 42.30289171951093, 42.469702000394754, 42.63651228127857, 42.803322562162386, 42.9701328430462, 43.13694312393002, 43.30375340481383, 43.47056368569765, 43.637373966581464, 43.80418424746529, 43.9709945283491, 44.13780480923292, 44.304615090116734, 44.47142537100055, 44.638235651884365, 44.80504593276818, 44.971856213652, 45.13866649453582, 45.305476775419635, 45.47228705630345, 45.639097337187266, 45.80590761807108, 45.9727178989549, 46.13952817983872, 46.306338460722536, 46.47314874160635, 46.63995902249017, 46.80676930337398, 46.9735795842578, 47.140389865141614, 47.30720014602544, 47.474010426909246, 47.64082070779307, 47.807630988676884, 47.9744412695607, 48.141251550444515, 48.30806183132833, 48.47487211221215, 48.64168239309596, 48.808492673979785, 48.9753029548636, 49.142113235747416, 49.30892351663123, 49.47573379751505, 49.64254407839886, 49.80935435928268, 49.9761646401665, 50.14297492105031, 50.30978520193413, 50.47659548281795, 50.643405763701764, 50.81021604458558, 50.977026325469396, 51.14383660635322, 51.31064688723703, 51.47745716812085, 51.644267449004666, 51.81107772988848, 51.9778880107723, 52.14469829165611, 52.311508572539935, 52.478318853423744, 52.64512913430757, 52.81193941519138, 52.9787496960752, 53.145559976959014, 53.31237025784283, 53.479180538726645, 53.64599081961046, 53.81280110049428, 53.9796113813781, 54.146421662261915, 54.31323194314573, 54.480042224029546, 54.64685250491336, 54.81366278579718, 54.980473066681, 55.147283347564816, 55.31409362844863, 55.48090390933245, 55.64771419021626, 55.81452447110008, 55.981334751983894, 56.14814503286771, 56.31495531375153, 56.48176559463535, 56.648575875519164, 56.81538615640298, 56.9821964372868], [40.36595996547588, 40.5327702463597, 40.69958052724352, 40.866390808127335, 41.03320108901115, 41.200011369894966, 41.36682165077878, 41.5336319316626, 41.70044221254642, 41.867252493430236, 42.03406277431405, 42.20087305519787, 42.36768333608168, 42.5344936169655, 42.701303897849314, 42.86811417873314, 43.03492445961695, 43.20173474050077, 43.368545021384584, 43.5353553022684, 43.702165583152215, 43.86897586403603, 44.03578614491985, 44.20259642580366, 44.369406706687485, 44.5362169875713, 44.703027268455116, 44.86983754933893, 45.03664783022275, 45.20345811110656, 45.370268391990386, 45.5370786728742, 45.70388895375802, 45.87069923464183, 46.03750951552565, 46.204319796409465, 46.37113007729328, 46.537940358177096, 46.70475063906092, 46.871560919944734, 47.03837120082855, 47.205181481712366, 47.37199176259618, 47.53880204348, 47.70561232436381, 47.872422605247635, 48.039232886131444, 48.20604316701527, 48.37285344789908, 48.5396637287829, 48.706474009666714, 48.87328429055053, 49.040094571434345, 49.20690485231816, 49.37371513320198, 49.5405254140858, 49.707335694969615, 49.87414597585343, 50.040956256737246, 50.20776653762106, 50.37457681850488, 50.5413870993887, 50.70819738027251, 50.87500766115633, 51.04181794204015, 51.20862822292396, 51.37543850380778, 51.542248784691594, 51.70905906557542, 51.875869346459226, 52.04267962734305, 52.209489908226864, 52.37630018911068, 52.543110469994495, 52.70992075087831, 52.876731031762134, 53.04354131264594, 53.210351593529765, 53.37716187441358, 53.543972155297396, 53.71078243618121, 53.87759271706503, 54.04440299794885, 54.21121327883266, 54.37802355971648, 54.5448338406003, 54.71164412148411, 54.87845440236793, 55.045264683251744, 55.21207496413557, 55.378885245019376, 55.54569552590319, 55.71250580678701, 55.87931608767083, 56.046126368554646, 56.21293664943846, 56.379746930322284, 56.54655721120609, 56.713367492089915, 56.88017777297373], [40.263941301162816, 40.43075158204663, 40.59756186293045, 40.76437214381426, 40.93118242469808, 41.0979927055819, 41.26480298646572, 41.43161326734953, 41.59842354823335, 41.765233829117165, 41.93204411000098, 42.098854390884796, 42.26566467176862, 42.432474952652434, 42.59928523353625, 42.766095514420066, 42.93290579530388, 43.0997160761877, 43.26652635707151, 43.433336637955335, 43.60014691883915, 43.76695719972297, 43.93376748060678, 44.1005777614906, 44.267388042374414, 44.43419832325823, 44.601008604142045, 44.76781888502587, 44.93462916590968, 45.1014394467935, 45.268249727677315, 45.43506000856113, 45.601870289444946, 45.76868057032876, 45.93549085121258, 46.1023011320964, 46.269111412980216, 46.43592169386403, 46.60273197474785, 46.76954225563166, 46.93635253651548, 47.103162817399294, 47.26997309828312, 47.43678337916693, 47.60359366005075, 47.770403940934564, 47.93721422181838, 48.104024502702195, 48.27083478358601, 48.437645064469834, 48.60445534535365, 48.771265626237465, 48.93807590712128, 49.104886188005096, 49.27169646888891, 49.43850674977273, 49.60531703065655, 49.77212731154036, 49.93893759242418, 50.105747873308, 50.27255815419181, 50.43936843507563, 50.606178715959445, 50.77298899684326, 50.939799277727076, 51.1066095586109, 51.273419839494714, 51.44023012037853, 51.607040401262346, 51.77385068214616, 51.94066096302998, 52.10747124391379, 52.274281524797615, 52.441091805681424, 52.60790208656525, 52.77471236744906, 52.94152264833288, 53.108332929216694, 53.27514321010051, 53.44195349098433, 53.60876377186814, 53.77557405275196, 53.94238433363578, 54.109194614519595, 54.27600489540341, 54.442815176287226, 54.60962545717105, 54.77643573805486, 54.94324601893868, 55.110056299822496, 55.27686658070631, 55.44367686159013, 55.61048714247394, 55.77729742335776, 55.944107704241574, 56.1109179851254, 56.27772826600921, 56.44453854689303, 56.611348827776844, 56.77815910866066], [40.16192263684975, 40.32873291773357, 40.49554319861738, 40.6623534795012, 40.829163760385015, 40.99597404126883, 41.162784322152646, 41.32959460303646, 41.49640488392028, 41.6632151648041, 41.830025445687916, 41.99683572657173, 42.16364600745555, 42.33045628833936, 42.49726656922318, 42.664076850106994, 42.83088713099082, 42.99769741187463, 43.16450769275845, 43.331317973642264, 43.49812825452608, 43.664938535409895, 43.83174881629371, 43.998559097177534, 44.16536937806135, 44.332179658945165, 44.49898993982898, 44.665800220712796, 44.83261050159661, 44.99942078248043, 45.16623106336425, 45.33304134424806, 45.49985162513188, 45.6666619060157, 45.83347218689951, 46.00028246778333, 46.167092748667145, 46.33390302955096, 46.500713310434776, 46.6675235913186, 46.834333872202414, 47.00114415308623, 47.167954433970046, 47.33476471485386, 47.50157499573768, 47.66838527662149, 47.835195557505315, 48.00200583838913, 48.16881611927295, 48.33562640015676, 48.50243668104058, 48.669246961924394, 48.83605724280821, 49.00286752369203, 49.16967780457585, 49.33648808545966, 49.50329836634348, 49.670108647227295, 49.83691892811111, 50.003729208994926, 50.17053948987875, 50.337349770762565, 50.50416005164638, 50.670970332530196, 50.83778061341401, 51.00459089429783, 51.17140117518164, 51.33821145606546, 51.505021736949274, 51.6718320178331, 51.83864229871691, 52.00545257960073, 52.172262860484544, 52.33907314136836, 52.505883422252175, 52.67269370313599, 52.839503984019814, 53.00631426490363, 53.173124545787445, 53.33993482667126, 53.506745107555076, 53.67355538843889, 53.84036566932271, 54.00717595020653, 54.17398623109034, 54.34079651197416, 54.50760679285798, 54.67441707374179, 54.84122735462561, 55.008037635509424, 55.17484791639325, 55.341658197277056, 55.50846847816088, 55.675278759044694, 55.84208903992851, 56.008899320812326, 56.17570960169614, 56.342519882579964, 56.50933016346378, 56.676140444347595], [40.05990397253668, 40.2267142534205, 40.39352453430431, 40.56033481518813, 40.72714509607195, 40.893955376955766, 41.06076565783958, 41.2275759387234, 41.39438621960721, 41.56119650049103, 41.728006781374845, 41.89481706225867, 42.061627343142476, 42.2284376240263, 42.395247904910114, 42.56205818579393, 42.728868466677746, 42.89567874756156, 43.06248902844538, 43.22929930932919, 43.396109590213015, 43.56291987109683, 43.72973015198065, 43.89654043286446, 44.06335071374828, 44.230160994632094, 44.39697127551591, 44.56378155639973, 44.73059183728355, 44.89740211816736, 45.06421239905118, 45.231022679934995, 45.39783296081881, 45.564643241702626, 45.73145352258645, 45.898263803470265, 46.06507408435408, 46.231884365237896, 46.39869464612171, 46.56550492700553, 46.73231520788934, 46.899125488773166, 47.065935769656974, 47.2327460505408, 47.39955633142461, 47.56636661230843, 47.733176893192244, 47.89998717407606, 48.066797454959875, 48.23360773584369, 48.400418016727514, 48.56722829761133, 48.734038578495145, 48.90084885937896, 49.067659140262776, 49.23446942114659, 49.40127970203041, 49.56808998291423, 49.73490026379804, 49.90171054468186, 50.06852082556568, 50.23533110644949, 50.40214138733331, 50.568951668217125, 50.73576194910095, 50.902572229984756, 51.06938251086858, 51.236192791752394, 51.40300307263621, 51.569813353520026, 51.73662363440384, 51.903433915287664, 52.07024419617147, 52.237054477055295, 52.40386475793911, 52.57067503882293, 52.73748531970674, 52.90429560059056, 53.071105881474374, 53.23791616235819, 53.40472644324201, 53.57153672412583, 53.73834700500964, 53.90515728589346, 54.071967566777275, 54.23877784766109, 54.405588128544906, 54.57239840942873, 54.739208690312545, 54.90601897119636, 55.072829252080176, 55.23963953296399, 55.40644981384781, 55.57326009473162, 55.74007037561544, 55.90688065649926, 56.07369093738308, 56.24050121826689, 56.40731149915071, 56.57412178003453], [39.95788530822361, 40.12469558910743, 40.29150586999125, 40.45831615087506, 40.62512643175888, 40.791936712642695, 40.95874699352651, 41.125557274410326, 41.29236755529415, 41.459177836177965, 41.62598811706178, 41.792798397945596, 41.95960867882941, 42.12641895971323, 42.29322924059704, 42.460039521480866, 42.62684980236468, 42.7936600832485, 42.96047036413231, 43.12728064501613, 43.294090925899944, 43.46090120678376, 43.627711487667575, 43.79452176855139, 43.961332049435214, 44.12814233031903, 44.294952611202845, 44.46176289208666, 44.628573172970476, 44.79538345385429, 44.962193734738115, 45.12900401562193, 45.295814296505746, 45.46262457738956, 45.62943485827338, 45.79624513915719, 45.96305542004101, 46.129865700924825, 46.29667598180865, 46.46348626269246, 46.63029654357628, 46.797106824460094, 46.96391710534391, 47.130727386227726, 47.29753766711154, 47.464347947995364, 47.63115822887917, 47.797968509762995, 47.96477879064681, 48.13158907153063, 48.29839935241444, 48.46520963329826, 48.632019914182074, 48.79883019506589, 48.96564047594971, 49.13245075683353, 49.29926103771734, 49.46607131860116, 49.632881599484975, 49.79969188036879, 49.966502161252606, 50.13331244213643, 50.30012272302024, 50.46693300390406, 50.633743284787876, 50.80055356567169, 50.96736384655551, 51.13417412743932, 51.300984408323146, 51.467794689206954, 51.63460497009078, 51.80141525097459, 51.96822553185841, 52.135035812742224, 52.30184609362604, 52.46865637450986, 52.63546665539367, 52.802276936277494, 52.96908721716131, 53.135897498045125, 53.30270777892894, 53.469518059812756, 53.63632834069658, 53.80313862158039, 53.96994890246421, 54.136759183348026, 54.30356946423184, 54.47037974511566, 54.63719002599947, 54.804000306883296, 54.970810587767104, 55.13762086865092, 55.304431149534736, 55.47124143041856, 55.638051711302374, 55.80486199218619, 55.97167227307001, 56.13848255395382, 56.305292834837644, 56.47210311572146], [39.855866643910545, 40.02267692479436, 40.18948720567818, 40.35629748656199, 40.52310776744581, 40.68991804832963, 40.856728329213446, 41.02353861009726, 41.19034889098108, 41.35715917186489, 41.52396945274871, 41.690779733632525, 41.85759001451635, 42.02440029540016, 42.19121057628398, 42.358020857167794, 42.52483113805161, 42.691641418935426, 42.85845169981924, 43.025261980703064, 43.19207226158688, 43.358882542470695, 43.52569282335451, 43.69250310423833, 43.85931338512214, 44.02612366600596, 44.192933946889774, 44.3597442277736, 44.52655450865741, 44.69336478954123, 44.86017507042504, 45.02698535130886, 45.193795632192675, 45.36060591307649, 45.527416193960306, 45.69422647484413, 45.861036755727945, 46.02784703661176, 46.194657317495576, 46.36146759837939, 46.52827787926321, 46.69508816014702, 46.861898441030846, 47.02870872191466, 47.19551900279848, 47.36232928368229, 47.52913956456611, 47.695949845449924, 47.86276012633374, 48.02957040721756, 48.19638068810138, 48.363190968985194, 48.53000124986901, 48.696811530752825, 48.86362181163664, 49.030432092520456, 49.19724237340428, 49.36405265428809, 49.53086293517191, 49.697673216055726, 49.86448349693954, 50.03129377782336, 50.19810405870717, 50.36491433959099, 50.531724620474805, 50.69853490135863, 50.86534518224244, 51.03215546312626, 51.198965744010074, 51.36577602489389, 51.532586305777706, 51.69939658666152, 51.866206867545344, 52.03301714842915, 52.199827429312975, 52.36663771019679, 52.53344799108061, 52.70025827196442, 52.86706855284824, 53.03387883373206, 53.20068911461587, 53.36749939549969, 53.53430967638351, 53.70111995726732, 53.86793023815114, 54.034740519034955, 54.20155079991878, 54.368361080802586, 54.53517136168641, 54.701981642570225, 54.86879192345404, 55.035602204337856, 55.20241248522167, 55.36922276610549, 55.5360330469893, 55.702843327873126, 55.86965360875694, 56.03646388964076, 56.20327417052457, 56.37008445140839], [39.75384797959748, 39.9206582604813, 40.08746854136511, 40.25427882224893, 40.42108910313274, 40.58789938401656, 40.754709664900375, 40.92151994578419, 41.088330226668006, 41.25514050755183, 41.421950788435645, 41.58876106931946, 41.755571350203276, 41.92238163108709, 42.08919191197091, 42.25600219285472, 42.422812473738546, 42.58962275462236, 42.75643303550618, 42.92324331638999, 43.09005359727381, 43.256863878157624, 43.42367415904144, 43.59048443992526, 43.75729472080908, 43.924105001692894, 44.09091528257671, 44.257725563460525, 44.42453584434434, 44.591346125228156, 44.75815640611198, 44.92496668699579, 45.09177696787961, 45.258587248763426, 45.42539752964724, 45.59220781053106, 45.75901809141487, 45.92582837229869, 46.092638653182505, 46.25944893406633, 46.42625921495014, 46.59306949583396, 46.759879776717774, 46.92669005760159, 47.093500338485406, 47.26031061936922, 47.427120900253044, 47.59393118113686, 47.760741462020675, 47.92755174290449, 48.09436202378831, 48.26117230467212, 48.42798258555594, 48.59479286643976, 48.76160314732358, 48.92841342820739, 49.09522370909121, 49.26203398997502, 49.42884427085884, 49.595654551742655, 49.76246483262648, 49.92927511351029, 50.09608539439411, 50.262895675277925, 50.42970595616174, 50.596516237045556, 50.76332651792937, 50.93013679881319, 51.096947079697, 51.263757360580826, 51.43056764146464, 51.59737792234846, 51.76418820323227, 51.93099848411609, 52.097808764999904, 52.26461904588372, 52.43142932676754, 52.59823960765136, 52.765049888535174, 52.93186016941899, 53.098670450302805, 53.26548073118662, 53.432291012070436, 53.59910129295426, 53.76591157383807, 53.93272185472189, 54.099532135605706, 54.26634241648952, 54.43315269737334, 54.59996297825715, 54.766773259140976, 54.933583540024784, 55.10039382090861, 55.26720410179242, 55.43401438267624, 55.600824663560054, 55.76763494444387, 55.93444522532769, 56.10125550621151, 56.268065787095324], [39.65182931528441, 39.818639596168225, 39.98544987705204, 40.15226015793586, 40.31907043881968, 40.485880719703495, 40.65269100058731, 40.819501281471126, 40.98631156235494, 41.15312184323876, 41.31993212412257, 41.486742405006396, 41.653552685890205, 41.82036296677403, 41.98717324765784, 42.15398352854166, 42.320793809425474, 42.48760409030929, 42.654414371193106, 42.82122465207692, 42.988034932960744, 43.15484521384456, 43.321655494728375, 43.48846577561219, 43.65527605649601, 43.82208633737982, 43.98889661826364, 44.15570689914746, 44.32251718003128, 44.48932746091509, 44.65613774179891, 44.82294802268272, 44.98975830356654, 45.156568584450355, 45.32337886533418, 45.49018914621799, 45.65699942710181, 45.823809707985625, 45.99061998886944, 46.157430269753256, 46.32424055063707, 46.491050831520894, 46.6578611124047, 46.824671393288526, 46.99148167417234, 47.15829195505616, 47.32510223593997, 47.49191251682379, 47.658722797707604, 47.82553307859142, 47.99234335947524, 48.15915364035906, 48.325963921242874, 48.49277420212669, 48.659584483010505, 48.82639476389432, 48.993205044778136, 49.16001532566196, 49.32682560654577, 49.49363588742959, 49.660446168313406, 49.82725644919722, 49.99406673008104, 50.16087701096485, 50.327687291848676, 50.494497572732485, 50.66130785361631, 50.82811813450012, 50.99492841538394, 51.161738696267754, 51.32854897715157, 51.49535925803539, 51.6621695389192, 51.828979819803024, 51.99579010068684, 52.162600381570655, 52.32941066245447, 52.49622094333829, 52.6630312242221, 52.82984150510592, 52.99665178598974, 53.16346206687356, 53.33027234775737, 53.49708262864119, 53.663892909525, 53.83070319040882, 53.997513471292635, 54.16432375217646, 54.33113403306027, 54.49794431394409, 54.664754594827905, 54.83156487571172, 54.998375156595536, 55.16518543747935, 55.33199571836317, 55.49880599924699, 55.665616280130806, 55.83242656101462, 55.99923684189844, 56.16604712278226], [39.54981065097134, 39.71662093185516, 39.88343121273898, 40.05024149362279, 40.21705177450661, 40.38386205539042, 40.55067233627424, 40.717482617158055, 40.88429289804188, 41.05110317892569, 41.21791345980951, 41.384723740693325, 41.55153402157714, 41.718344302460956, 41.88515458334477, 42.051964864228594, 42.21877514511241, 42.385585425996226, 42.55239570688004, 42.71920598776386, 42.88601626864767, 43.05282654953149, 43.219636830415304, 43.38644711129912, 43.55325739218294, 43.72006767306676, 43.886877953950574, 44.05368823483439, 44.220498515718205, 44.38730879660202, 44.55411907748584, 44.72092935836966, 44.887739639253475, 45.05454992013729, 45.221360201021106, 45.38817048190492, 45.55498076278874, 45.72179104367255, 45.888601324556376, 46.05541160544019, 46.22222188632401, 46.38903216720782, 46.55584244809164, 46.722652728975454, 46.88946300985927, 47.05627329074309, 47.2230835716269, 47.389893852510724, 47.55670413339454, 47.723514414278355, 47.89032469516217, 48.05713497604599, 48.2239452569298, 48.39075553781362, 48.55756581869744, 48.72437609958126, 48.89118638046507, 49.05799666134889, 49.2248069422327, 49.39161722311652, 49.558427504000335, 49.72523778488416, 49.892048065767966, 50.05885834665179, 50.225668627535605, 50.39247890841942, 50.559289189303236, 50.72609947018705, 50.892909751070874, 51.05972003195468, 51.226530312838506, 51.39334059372232, 51.56015087460614, 51.72696115548995, 51.89377143637377, 52.06058171725759, 52.2273919981414, 52.39420227902522, 52.56101255990904, 52.727822840792854, 52.89463312167667, 53.061443402560485, 53.22825368344431, 53.395063964328116, 53.56187424521194, 53.728684526095755, 53.89549480697957, 54.062305087863386, 54.2291153687472, 54.395925649631025, 54.56273593051483, 54.72954621139865, 54.896356492282465, 55.06316677316629, 55.2299770540501, 55.39678733493392, 55.56359761581774, 55.73040789670155, 55.89721817758537, 56.06402845846919], [39.447791986658274, 39.61460226754209, 39.781412548425905, 39.94822282930972, 40.11503311019354, 40.28184339107736, 40.448653671961175, 40.61546395284499, 40.782274233728806, 40.94908451461262, 41.11589479549644, 41.28270507638025, 41.449515357264076, 41.61632563814789, 41.78313591903171, 41.94994619991552, 42.11675648079934, 42.283566761683154, 42.45037704256697, 42.61718732345079, 42.78399760433461, 42.950807885218424, 43.11761816610224, 43.284428446986055, 43.45123872786987, 43.61804900875369, 43.7848592896375, 43.951669570521325, 44.11847985140514, 44.28529013228896, 44.45210041317277, 44.61891069405659, 44.7857209749404, 44.95253125582422, 45.119341536708035, 45.28615181759186, 45.45296209847567, 45.61977237935949, 45.786582660243305, 45.95339294112712, 46.120203222010936, 46.28701350289475, 46.453823783778574, 46.62063406466239, 46.787444345546206, 46.95425462643002, 47.12106490731384, 47.28787518819765, 47.45468546908147, 47.62149574996529, 47.78830603084911, 47.95511631173292, 48.12192659261674, 48.288736873500554, 48.45554715438437, 48.622357435268185, 48.78916771615201, 48.955977997035816, 49.12278827791964, 49.289598558803455, 49.45640883968727, 49.623219120571086, 49.7900294014549, 49.95683968233872, 50.12364996322253, 50.290460244106356, 50.45727052499017, 50.62408080587399, 50.7908910867578, 50.95770136764162, 51.124511648525434, 51.29132192940925, 51.45813221029307, 51.62494249117688, 51.791752772060704, 51.95856305294452, 52.125373333828335, 52.29218361471215, 52.45899389559597, 52.62580417647979, 52.7926144573636, 52.95942473824742, 53.12623501913124, 53.29304530001505, 53.45985558089887, 53.62666586178268, 53.793476142666506, 53.960286423550315, 54.12709670443414, 54.29390698531795, 54.46071726620177, 54.627527547085585, 54.7943378279694, 54.961148108853216, 55.12795838973703, 55.294768670620854, 55.46157895150467, 55.628389232388486, 55.7951995132723, 55.96200979415612], [39.34577332234521, 39.512583603229025, 39.67939388411284, 39.84620416499666, 40.01301444588047, 40.17982472676429, 40.3466350076481, 40.51344528853192, 40.680255569415735, 40.84706585029956, 41.01387613118337, 41.18068641206719, 41.347496692951005, 41.51430697383482, 41.681117254718636, 41.84792753560245, 42.014737816486274, 42.18154809737009, 42.348358378253906, 42.51516865913772, 42.68197894002154, 42.84878922090535, 43.01559950178917, 43.18240978267299, 43.34922006355681, 43.51603034444062, 43.68284062532444, 43.849650906208254, 44.01646118709207, 44.183271467975885, 44.35008174885971, 44.516892029743516, 44.68370231062734, 44.850512591511155, 45.01732287239497, 45.184133153278786, 45.3509434341626, 45.51775371504642, 45.68456399593023, 45.851374276814056, 46.01818455769787, 46.18499483858169, 46.3518051194655, 46.51861540034932, 46.685425681233134, 46.85223596211695, 47.01904624300077, 47.18585652388459, 47.352666804768404, 47.51947708565222, 47.686287366536035, 47.85309764741985, 48.01990792830367, 48.18671820918749, 48.353528490071305, 48.52033877095512, 48.68714905183894, 48.85395933272275, 49.02076961360657, 49.18757989449038, 49.354390175374206, 49.52120045625802, 49.68801073714184, 49.85482101802565, 50.02163129890947, 50.188441579793285, 50.3552518606771, 50.522062141560916, 50.68887242244473, 50.855682703328554, 51.02249298421237, 51.189303265096186, 51.35611354598, 51.52292382686382, 51.68973410774763, 51.85654438863145, 52.02335466951527, 52.19016495039909, 52.3569752312829, 52.52378551216672, 52.690595793050534, 52.85740607393435, 53.024216354818165, 53.19102663570199, 53.357836916585796, 53.52464719746962, 53.691457478353435, 53.85826775923725, 54.025078040121066, 54.19188832100488, 54.358698601888705, 54.52550888277251, 54.692319163656336, 54.85912944454015, 55.02593972542397, 55.19275000630778, 55.3595602871916, 55.52637056807542, 55.69318084895924, 55.85999112984305], [39.24375465803214, 39.410564938915954, 39.57737521979977, 39.744185500683585, 39.91099578156741, 40.077806062451224, 40.24461634333504, 40.411426624218855, 40.57823690510267, 40.745047185986486, 40.9118574668703, 41.078667747754125, 41.24547802863793, 41.412288309521756, 41.57909859040557, 41.74590887128939, 41.9127191521732, 42.07952943305702, 42.246339713940834, 42.41314999482465, 42.57996027570847, 42.74677055659229, 42.913580837476104, 43.08039111835992, 43.247201399243735, 43.41401168012755, 43.58082196101137, 43.74763224189519, 43.914442522779005, 44.08125280366282, 44.24806308454664, 44.41487336543045, 44.58168364631427, 44.74849392719808, 44.915304208081906, 45.08211448896572, 45.24892476984954, 45.41573505073335, 45.58254533161717, 45.749355612500985, 45.9161658933848, 46.08297617426862, 46.24978645515243, 46.416596736036254, 46.58340701692007, 46.750217297803886, 46.9170275786877, 47.08383785957152, 47.25064814045533, 47.41745842133915, 47.58426870222297, 47.75107898310679, 47.9178892639906, 48.08469954487442, 48.251509825758234, 48.41832010664205, 48.585130387525865, 48.75194066840969, 48.918750949293496, 49.08556123017732, 49.252371511061135, 49.41918179194495, 49.585992072828766, 49.75280235371258, 49.919612634596405, 50.08642291548021, 50.253233196364036, 50.42004347724785, 50.58685375813167, 50.75366403901548, 50.9204743198993, 51.08728460078312, 51.25409488166693, 51.42090516255075, 51.58771544343457, 51.754525724318384, 51.9213360052022, 52.088146286086015, 52.25495656696983, 52.42176684785365, 52.58857712873747, 52.755387409621285, 52.9221976905051, 53.08900797138892, 53.25581825227273, 53.42262853315655, 53.58943881404036, 53.756249094924186, 53.923059375808, 54.08986965669182, 54.25667993757563, 54.42349021845945, 54.590300499343265, 54.75711078022708, 54.923921061110896, 55.09073134199472, 55.257541622878534, 55.42435190376235, 55.591162184646166, 55.75797246552999], [39.14173599371907, 39.30854627460289, 39.475356555486705, 39.64216683637052, 39.80897711725434, 39.97578739813815, 40.14259767902197, 40.30940795990578, 40.476218240789606, 40.64302852167342, 40.80983880255724, 40.97664908344105, 41.14345936432487, 41.310269645208685, 41.4770799260925, 41.64389020697632, 41.81070048786014, 41.977510768743954, 42.14432104962777, 42.311131330511586, 42.4779416113954, 42.64475189227922, 42.81156217316303, 42.97837245404685, 43.14518273493067, 43.31199301581449, 43.4788032966983, 43.64561357758212, 43.812423858465934, 43.97923413934975, 44.14604442023357, 44.31285470111739, 44.479664982001204, 44.64647526288502, 44.813285543768835, 44.98009582465265, 45.146906105536466, 45.31371638642028, 45.480526667304105, 45.64733694818792, 45.814147229071736, 45.98095750995555, 46.14776779083937, 46.31457807172318, 46.481388352607, 46.64819863349082, 46.81500891437463, 46.98181919525845, 47.14862947614227, 47.315439757026084, 47.4822500379099, 47.649060318793715, 47.81587059967753, 47.98268088056135, 48.14949116144517, 48.316301442328985, 48.4831117232128, 48.64992200409662, 48.81673228498043, 48.98354256586425, 49.15035284674806, 49.317163127631886, 49.483973408515695, 49.65078368939952, 49.81759397028333, 49.98440425116715, 50.151214532050965, 50.31802481293478, 50.4848350938186, 50.65164537470241, 50.818455655586234, 50.98526593647005, 51.152076217353866, 51.31888649823768, 51.4856967791215, 51.65250706000532, 51.81931734088913, 51.98612762177295, 52.15293790265677, 52.31974818354058, 52.4865584644244, 52.653368745308214, 52.82017902619204, 52.986989307075845, 53.15379958795967, 53.32060986884348, 53.4874201497273, 53.654230430611115, 53.82104071149493, 53.98785099237875, 54.15466127326256, 54.32147155414638, 54.48828183503019, 54.655092115914016, 54.82190239679783, 54.98871267768165, 55.15552295856547, 55.32233323944928, 55.4891435203331, 55.65595380121692], [39.039717329406, 39.20652761028982, 39.373337891173634, 39.54014817205745, 39.706958452941265, 39.87376873382509, 40.040579014708904, 40.20738929559272, 40.374199576476535, 40.54100985736035, 40.707820138244166, 40.87463041912798, 41.041440700011805, 41.20825098089562, 41.375061261779436, 41.54187154266325, 41.70868182354707, 41.87549210443088, 42.0423023853147, 42.20911266619852, 42.37592294708234, 42.54273322796615, 42.70954350884997, 42.876353789733784, 43.0431640706176, 43.209974351501415, 43.37678463238523, 43.543594913269054, 43.71040519415287, 43.877215475036685, 44.0440257559205, 44.21083603680432, 44.37764631768813, 44.54445659857195, 44.71126687945576, 44.878077160339586, 45.0448874412234, 45.21169772210722, 45.37850800299103, 45.54531828387485, 45.712128564758665, 45.87893884564248, 46.0457491265263, 46.21255940741012, 46.379369688293934, 46.54617996917775, 46.712990250061566, 46.87980053094538, 47.0466108118292, 47.21342109271302, 47.380231373596835, 47.54704165448065, 47.71385193536447, 47.88066221624828, 48.0474724971321, 48.214282778015914, 48.38109305889974, 48.547903339783545, 48.71471362066737, 48.88152390155118, 49.048334182435, 49.215144463318815, 49.38195474420263, 49.548765025086446, 49.71557530597026, 49.882385586854085, 50.0491958677379, 50.216006148621716, 50.38281642950553, 50.54962671038935, 50.71643699127316, 50.88324727215698, 51.0500575530408, 51.21686783392461, 51.38367811480843, 51.55048839569225, 51.717298676576064, 51.88410895745988, 52.050919238343695, 52.21772951922752, 52.38453980011133, 52.55135008099515, 52.718160361878965, 52.88497064276278, 53.0517809236466, 53.21859120453041, 53.385401485414235, 53.55221176629804, 53.719022047181866, 53.88583232806568, 54.0526426089495, 54.21945288983331, 54.38626317071713, 54.553073451600945, 54.71988373248476, 54.88669401336858, 55.0535042942524, 55.220314575136214, 55.38712485602003, 55.553935136903846], [38.93769866509294, 39.104508945976754, 39.27131922686057, 39.438129507744385, 39.6049397886282, 39.77175006951202, 39.93856035039583, 40.10537063127965, 40.27218091216346, 40.438991193047286, 40.6058014739311, 40.77261175481492, 40.93942203569873, 41.10623231658255, 41.273042597466365, 41.43985287835018, 41.606663159234, 41.77347344011782, 41.940283721001634, 42.10709400188545, 42.273904282769266, 42.44071456365308, 42.6075248445369, 42.77433512542072, 42.941145406304535, 43.10795568718835, 43.27476596807217, 43.44157624895598, 43.6083865298398, 43.775196810723614, 43.94200709160744, 44.108817372491245, 44.27562765337507, 44.442437934258884, 44.6092482151427, 44.776058496026515, 44.94286877691033, 45.109679057794146, 45.27648933867796, 45.443299619561785, 45.6101099004456, 45.776920181329416, 45.94373046221323, 46.11054074309705, 46.27735102398086, 46.44416130486468, 46.6109715857485, 46.77778186663232, 46.94459214751613, 47.11140242839995, 47.278212709283764, 47.44502299016758, 47.611833271051395, 47.77864355193522, 47.945453832819034, 48.11226411370285, 48.279074394586665, 48.44588467547048, 48.6126949563543, 48.77950523723811, 48.946315518121935, 49.11312579900575, 49.279936079889566, 49.44674636077338, 49.6135566416572, 49.78036692254101, 49.94717720342483, 50.113987484308645, 50.28079776519246, 50.44760804607628, 50.6144183269601, 50.781228607843914, 50.94803888872773, 51.114849169611546, 51.28165945049536, 51.44846973137918, 51.615280012263, 51.782090293146815, 51.94890057403063, 52.11571085491445, 52.28252113579826, 52.44933141668208, 52.616141697565894, 52.78295197844972, 52.949762259333525, 53.11657254021735, 53.28338282110116, 53.45019310198498, 53.617003382868795, 53.78381366375261, 53.95062394463643, 54.11743422552024, 54.284244506404065, 54.45105478728788, 54.617865068171696, 54.78467534905551, 54.95148562993933, 55.11829591082315, 55.285106191706966, 55.45191647259078], [38.83568000077987, 39.00249028166368, 39.1693005625475, 39.336110843431314, 39.50292112431514, 39.66973140519895, 39.83654168608277, 40.003351966966584, 40.1701622478504, 40.336972528734215, 40.50378280961803, 40.67059309050185, 40.83740337138566, 41.004213652269485, 41.1710239331533, 41.337834214037116, 41.50464449492093, 41.67145477580475, 41.83826505668856, 42.00507533757238, 42.1718856184562, 42.33869589934002, 42.50550618022383, 42.67231646110765, 42.839126741991464, 43.00593702287528, 43.172747303759095, 43.33955758464292, 43.506367865526734, 43.67317814641055, 43.839988427294365, 44.00679870817818, 44.173608989062, 44.34041926994581, 44.507229550829635, 44.67403983171345, 44.840850112597266, 45.00766039348108, 45.1744706743649, 45.34128095524871, 45.50809123613253, 45.67490151701635, 45.84171179790016, 46.00852207878398, 46.1753323596678, 46.342142640551614, 46.50895292143543, 46.675763202319246, 46.84257348320306, 47.00938376408688, 47.1761940449707, 47.343004325854515, 47.50981460673833, 47.67662488762215, 47.84343516850596, 48.01024544938978, 48.177055730273594, 48.34386601115742, 48.510676292041225, 48.67748657292505, 48.84429685380886, 49.01110713469268, 49.177917415576495, 49.34472769646031, 49.51153797734413, 49.67834825822794, 49.845158539111765, 50.01196881999558, 50.178779100879396, 50.34558938176321, 50.51239966264703, 50.67920994353085, 50.84602022441466, 51.01283050529848, 51.1796407861823, 51.34645106706611, 51.51326134794993, 51.680071628833744, 51.84688190971756, 52.013692190601375, 52.1805024714852, 52.347312752369014, 52.51412303325283, 52.680933314136645, 52.84774359502046, 53.01455387590428, 53.18136415678809, 53.348174437671915, 53.51498471855573, 53.681794999439546, 53.84860528032336, 54.01541556120718, 54.18222584209099, 54.34903612297481, 54.515846403858625, 54.68265668474245, 54.84946696562626, 55.01627724651008, 55.183087527393894, 55.34989780827772], [38.733661336466795, 38.90047161735062, 39.067281898234434, 39.23409217911825, 39.400902460002065, 39.56771274088588, 39.7345230217697, 39.90133330265351, 40.068143583537335, 40.23495386442115, 40.401764145304966, 40.56857442618878, 40.7353847070726, 40.90219498795641, 41.06900526884023, 41.23581554972405, 41.40262583060787, 41.56943611149168, 41.7362463923755, 41.903056673259314, 42.06986695414313, 42.236677235026946, 42.40348751591076, 42.57029779679458, 42.7371080776784, 42.903918358562215, 43.07072863944603, 43.23753892032985, 43.40434920121366, 43.57115948209748, 43.7379697629813, 43.90478004386512, 44.07159032474893, 44.23840060563275, 44.405210886516564, 44.57202116740038, 44.738831448284195, 44.90564172916801, 45.07245201005183, 45.23926229093565, 45.406072571819465, 45.57288285270328, 45.739693133587096, 45.90650341447091, 46.07331369535473, 46.24012397623855, 46.40693425712236, 46.57374453800618, 46.74055481889, 46.90736509977381, 47.07417538065763, 47.240985661541444, 47.40779594242526, 47.574606223309075, 47.7414165041929, 47.908226785076714, 48.07503706596053, 48.241847346844345, 48.40865762772816, 48.57546790861198, 48.74227818949579, 48.909088470379615, 49.07589875126342, 49.242709032147246, 49.40951931303106, 49.57632959391488, 49.74313987479869, 49.90995015568251, 50.07676043656633, 50.24357071745014, 50.41038099833396, 50.57719127921778, 50.744001560101594, 50.91081184098541, 51.077622121869226, 51.24443240275305, 51.41124268363686, 51.57805296452068, 51.744863245404495, 51.91167352628831, 52.07848380717213, 52.24529408805594, 52.412104368939765, 52.578914649823574, 52.7457249307074, 52.91253521159121, 53.07934549247503, 53.24615577335884, 53.41296605424266, 53.57977633512648, 53.74658661601029, 53.913396896894106, 54.08020717777792, 54.247017458661745, 54.41382773954556, 54.580638020429376, 54.7474483013132, 54.91425858219701, 55.08106886308083, 55.247879143964646], [38.63164267215373, 38.79845295303755, 38.96526323392136, 39.13207351480518, 39.298883795688994, 39.46569407657282, 39.63250435745663, 39.79931463834045, 39.966124919224264, 40.13293520010808, 40.299745480991895, 40.46655576187571, 40.63336604275953, 40.80017632364335, 40.966986604527165, 41.13379688541098, 41.300607166294796, 41.46741744717861, 41.63422772806243, 41.80103800894625, 41.967848289830066, 42.13465857071388, 42.3014688515977, 42.46827913248151, 42.63508941336533, 42.801899694249144, 42.96870997513296, 43.13552025601678, 43.3023305369006, 43.469140817784414, 43.63595109866823, 43.802761379552045, 43.96957166043586, 44.13638194131968, 44.30319222220349, 44.470002503087315, 44.63681278397113, 44.803623064854946, 44.97043334573876, 45.13724362662258, 45.30405390750639, 45.47086418839021, 45.63767446927403, 45.80448475015785, 45.97129503104166, 46.13810531192548, 46.304915592809294, 46.47172587369311, 46.638536154576926, 46.80534643546075, 46.972156716344564, 47.13896699722838, 47.305777278112195, 47.47258755899601, 47.63939783987983, 47.80620812076364, 47.973018401647465, 48.139828682531274, 48.3066389634151, 48.47344924429891, 48.64025952518273, 48.80706980606654, 48.97388008695036, 49.140690367834175, 49.30750064871799, 49.47431092960181, 49.64112121048563, 49.807931491369445, 49.97474177225326, 50.141552053137076, 50.30836233402089, 50.47517261490471, 50.64198289578853, 50.80879317667234, 50.97560345755616, 51.14241373843998, 51.30922401932379, 51.47603430020761, 51.642844581091424, 51.80965486197525, 51.976465142859055, 52.14327542374288, 52.310085704626694, 52.47689598551051, 52.643706266394325, 52.81051654727814, 52.977326828161964, 53.14413710904577, 53.310947389929595, 53.47775767081341, 53.644567951697226, 53.81137823258104, 53.97818851346486, 54.14499879434867, 54.31180907523249, 54.47861935611631, 54.64542963700013, 54.81223991788394, 54.97905019876776, 55.145860479651574], [38.52962400784067, 38.69643428872448, 38.8632445696083, 39.030054850492114, 39.19686513137593, 39.363675412259745, 39.53048569314356, 39.69729597402738, 39.86410625491119, 40.030916535795015, 40.19772681667883, 40.364537097562646, 40.53134737844646, 40.69815765933028, 40.86496794021409, 41.03177822109791, 41.19858850198173, 41.36539878286555, 41.53220906374936, 41.69901934463318, 41.865829625516994, 42.03263990640081, 42.199450187284626, 42.36626046816845, 42.533070749052264, 42.69988102993608, 42.866691310819895, 43.03350159170371, 43.20031187258753, 43.36712215347134, 43.533932434355165, 43.700742715238974, 43.8675529961228, 44.03436327700661, 44.20117355789043, 44.367983838774244, 44.53479411965806, 44.701604400541875, 44.86841468142569, 45.03522496230951, 45.20203524319333, 45.368845524077145, 45.53565580496096, 45.702466085844776, 45.86927636672859, 46.03608664761241, 46.20289692849623, 46.369707209380046, 46.53651749026386, 46.70332777114768, 46.87013805203149, 47.03694833291531, 47.203758613799124, 47.37056889468295, 47.53737917556676, 47.70418945645058, 47.870999737334394, 48.03781001821821, 48.204620299102025, 48.37143057998584, 48.538240860869664, 48.70505114175348, 48.871861422637295, 49.03867170352111, 49.205481984404926, 49.37229226528874, 49.53910254617256, 49.70591282705637, 49.87272310794019, 50.03953338882401, 50.20634366970783, 50.37315395059164, 50.53996423147546, 50.706774512359274, 50.87358479324309, 51.040395074126906, 51.20720535501073, 51.374015635894544, 51.54082591677836, 51.707636197662175, 51.87444647854599, 52.04125675942981, 52.20806704031362, 52.374877321197445, 52.541687602081254, 52.70849788296508, 52.87530816384889, 53.04211844473271, 53.20892872561652, 53.37573900650034, 53.54254928738416, 53.70935956826797, 53.87616984915179, 54.04298013003561, 54.209790410919425, 54.37660069180324, 54.543410972687056, 54.71022125357088, 54.877031534454694, 55.04384181533851], [38.427605343527595, 38.59441562441141, 38.76122590529523, 38.92803618617904, 39.094846467062865, 39.26165674794668, 39.4284670288305, 39.59527730971431, 39.76208759059813, 39.928897871481944, 40.09570815236576, 40.26251843324958, 40.42932871413339, 40.59613899501721, 40.76294927590103, 40.929759556784845, 41.09656983766866, 41.263380118552476, 41.43019039943629, 41.59700068032011, 41.76381096120393, 41.930621242087746, 42.09743152297156, 42.26424180385538, 42.43105208473919, 42.59786236562301, 42.764672646506824, 42.93148292739065, 43.09829320827446, 43.26510348915828, 43.431913770042094, 43.59872405092591, 43.765534331809725, 43.93234461269354, 44.099154893577364, 44.26596517446118, 44.432775455344995, 44.59958573622881, 44.766396017112626, 44.93320629799644, 45.10001657888026, 45.26682685976408, 45.43363714064789, 45.60044742153171, 45.76725770241553, 45.93406798329934, 46.10087826418316, 46.267688545066974, 46.43449882595079, 46.601309106834606, 46.76811938771843, 46.934929668602244, 47.10173994948606, 47.268550230369875, 47.43536051125369, 47.60217079213751, 47.76898107302132, 47.935791353905145, 48.102601634788954, 48.26941191567278, 48.43622219655659, 48.60303247744041, 48.769842758324224, 48.93665303920804, 49.10346332009186, 49.27027360097567, 49.43708388185949, 49.60389416274331, 49.770704443627125, 49.93751472451094, 50.104325005394756, 50.27113528627858, 50.43794556716239, 50.60475584804621, 50.771566128930026, 50.93837640981384, 51.10518669069766, 51.27199697158147, 51.43880725246529, 51.605617533349104, 51.77242781423293, 51.93923809511674, 52.10604837600056, 52.272858656884374, 52.43966893776819, 52.606479218652005, 52.77328949953582, 52.940099780419644, 53.10691006130346, 53.273720342187275, 53.44053062307109, 53.607340903954906, 53.77415118483872, 53.94096146572254, 54.10777174660635, 54.274582027490176, 54.44139230837399, 54.60820258925781, 54.77501287014162, 54.941823151025446], [38.325586679214524, 38.49239696009835, 38.65920724098216, 38.82601752186598, 38.992827802749794, 39.15963808363361, 39.326448364517425, 39.49325864540124, 39.660068926285064, 39.82687920716888, 39.993689488052695, 40.16049976893651, 40.327310049820326, 40.49412033070414, 40.66093061158796, 40.82774089247178, 40.994551173355596, 41.16136145423941, 41.32817173512323, 41.49498201600704, 41.66179229689086, 41.828602577774674, 41.9954128586585, 42.162223139542306, 42.32903342042613, 42.495843701309944, 42.66265398219376, 42.829464263077575, 42.99627454396139, 43.16308482484521, 43.32989510572903, 43.496705386612845, 43.66351566749666, 43.83032594838048, 43.99713622926429, 44.16394651014811, 44.330756791031924, 44.49756707191574, 44.66437735279956, 44.83118763368338, 44.99799791456719, 45.16480819545101, 45.331618476334825, 45.49842875721864, 45.665239038102456, 45.83204931898628, 45.99885959987009, 46.16566988075391, 46.332480161637726, 46.49929044252154, 46.66610072340536, 46.83291100428917, 46.99972128517299, 47.166531566056804, 47.33334184694063, 47.50015212782444, 47.66696240870826, 47.833772689592074, 48.00058297047589, 48.167393251359705, 48.33420353224352, 48.501013813127344, 48.66782409401115, 48.834634374894975, 49.00144465577879, 49.168254936662606, 49.33506521754642, 49.50187549843024, 49.66868577931406, 49.83549606019787, 50.00230634108169, 50.16911662196551, 50.33592690284932, 50.50273718373314, 50.669547464616954, 50.83635774550078, 51.003168026384586, 51.16997830726841, 51.336788588152224, 51.50359886903604, 51.670409149919855, 51.83721943080367, 52.004029711687494, 52.1708399925713, 52.337650273455125, 52.50446055433894, 52.67127083522276, 52.83808111610657, 53.00489139699039, 53.17170167787421, 53.33851195875802, 53.505322239641835, 53.67213252052565, 53.83894280140947, 54.00575308229329, 54.172563363177105, 54.33937364406093, 54.506183924944736, 54.67299420582856, 54.839804486712374], [38.22356801490146, 38.390378295785275, 38.55718857666909, 38.72399885755291, 38.89080913843672, 39.057619419320545, 39.22442970020436, 39.39123998108818, 39.55805026197199, 39.72486054285581, 39.891670823739624, 40.05848110462344, 40.22529138550726, 40.39210166639108, 40.55891194727489, 40.72572222815871, 40.892532509042525, 41.05934278992634, 41.226153070810156, 41.39296335169398, 41.559773632577794, 41.72658391346161, 41.893394194345426, 42.06020447522924, 42.22701475611306, 42.39382503699687, 42.56063531788069, 42.72744559876451, 42.89425587964833, 43.06106616053214, 43.22787644141596, 43.394686722299774, 43.56149700318359, 43.728307284067405, 43.89511756495122, 44.061927845835044, 44.22873812671886, 44.395548407602675, 44.56235868848649, 44.729168969370306, 44.89597925025412, 45.06278953113794, 45.22959981202176, 45.396410092905576, 45.56322037378939, 45.73003065467321, 45.89684093555702, 46.06365121644084, 46.230461497324654, 46.39727177820848, 46.56408205909229, 46.73089233997611, 46.897702620859924, 47.06451290174374, 47.231323182627555, 47.39813346351137, 47.564943744395194, 47.731754025279, 47.898564306162825, 48.06537458704664, 48.23218486793046, 48.39899514881427, 48.56580542969809, 48.732615710581904, 48.89942599146572, 49.06623627234954, 49.23304655323336, 49.39985683411717, 49.56666711500099, 49.733477395884805, 49.90028767676862, 50.067097957652436, 50.23390823853626, 50.40071851942007, 50.56752880030389, 50.734339081187706, 50.90114936207152, 51.06795964295534, 51.23476992383915, 51.401580204722976, 51.568390485606784, 51.73520076649061, 51.90201104737442, 52.06882132825824, 52.235631609142054, 52.40244189002587, 52.56925217090969, 52.7360624517935, 52.902872732677324, 53.06968301356114, 53.236493294444955, 53.40330357532877, 53.570113856212586, 53.7369241370964, 53.90373441798022, 54.07054469886404, 54.237354979747856, 54.40416526063167, 54.57097554151549, 54.7377858223993], [38.121549350588396, 38.28835963147221, 38.45516991235603, 38.62198019323984, 38.78879047412366, 38.955600755007474, 39.12241103589129, 39.289221316775105, 39.45603159765892, 39.622841878542744, 39.78965215942656, 39.956462440310375, 40.12327272119419, 40.290083002078006, 40.45689328296182, 40.62370356384564, 40.79051384472946, 40.957324125613276, 41.12413440649709, 41.29094468738091, 41.45775496826472, 41.62456524914854, 41.791375530032354, 41.95818581091618, 42.12499609179999, 42.29180637268381, 42.458616653567624, 42.62542693445144, 42.792237215335255, 42.95904749621907, 43.125857777102894, 43.2926680579867, 43.459478338870525, 43.62628861975434, 43.79309890063816, 43.95990918152197, 44.12671946240579, 44.293529743289604, 44.46034002417342, 44.62715030505724, 44.79396058594106, 44.96077086682487, 45.12758114770869, 45.294391428592505, 45.46120170947632, 45.628011990360136, 45.79482227124396, 45.961632552127774, 46.12844283301159, 46.295253113895406, 46.46206339477922, 46.62887367566304, 46.79568395654685, 46.962494237430676, 47.12930451831449, 47.29611479919831, 47.46292508008212, 47.62973536096594, 47.796545641849754, 47.96335592273357, 48.13016620361739, 48.29697648450121, 48.463786765385024, 48.63059704626884, 48.797407327152655, 48.96421760803647, 49.131027888920286, 49.2978381698041, 49.46464845068792, 49.63145873157174, 49.798269012455556, 49.96507929333937, 50.13188957422319, 50.298699855107, 50.46551013599082, 50.632320416874634, 50.79913069775846, 50.96594097864227, 51.13275125952609, 51.299561540409904, 51.46637182129372, 51.633182102177535, 51.79999238306135, 51.966802663945174, 52.13361294482898, 52.300423225712805, 52.46723350659662, 52.63404378748044, 52.80085406836425, 52.96766434924807, 53.13447463013189, 53.3012849110157, 53.46809519189952, 53.63490547278334, 53.80171575366715, 53.96852603455097, 54.135336315434785, 54.30214659631861, 54.46895687720242, 54.63576715808624], [38.019530686275324, 38.18634096715914, 38.353151248042956, 38.51996152892677, 38.686771809810594, 38.85358209069441, 39.020392371578225, 39.18720265246204, 39.35401293334586, 39.52082321422967, 39.68763349511349, 39.85444377599731, 40.02125405688112, 40.18806433776494, 40.35487461864876, 40.52168489953257, 40.68849518041639, 40.855305461300205, 41.02211574218402, 41.188926023067836, 41.35573630395166, 41.522546584835474, 41.68935686571929, 41.856167146603106, 42.02297742748692, 42.18978770837074, 42.35659798925455, 42.523408270138376, 42.69021855102219, 42.85702883190601, 43.02383911278982, 43.19064939367364, 43.357459674557454, 43.52426995544127, 43.69108023632509, 43.85789051720891, 44.024700798092724, 44.19151107897654, 44.358321359860355, 44.52513164074417, 44.691941921627986, 44.85875220251181, 45.02556248339562, 45.19237276427944, 45.359183045163256, 45.52599332604707, 45.69280360693089, 45.8596138878147, 46.02642416869852, 46.193234449582334, 46.36004473046616, 46.52685501134997, 46.69366529223379, 46.860475573117604, 47.02728585400142, 47.194096134885235, 47.36090641576905, 47.527716696652874, 47.69452697753668, 47.861337258420505, 48.02814753930432, 48.19495782018814, 48.36176810107195, 48.52857838195577, 48.69538866283959, 48.8621989437234, 49.02900922460722, 49.19581950549104, 49.36262978637485, 49.52944006725867, 49.696250348142485, 49.86306062902631, 50.029870909910116, 50.19668119079394, 50.363491471677754, 50.53030175256157, 50.697112033445386, 50.8639223143292, 51.03073259521302, 51.19754287609683, 51.364353156980656, 51.53116343786447, 51.69797371874829, 51.8647839996321, 52.03159428051592, 52.198404561399734, 52.36521484228355, 52.53202512316737, 52.69883540405119, 52.865645684935004, 53.03245596581882, 53.199266246702635, 53.36607652758645, 53.532886808470266, 53.69969708935408, 53.866507370237905, 54.03331765112172, 54.200127932005536, 54.36693821288935, 54.533748493773174], [37.91751202196225, 38.084322302846076, 38.25113258372989, 38.41794286461371, 38.58475314549752, 38.75156342638134, 38.918373707265154, 39.08518398814897, 39.25199426903279, 39.41880454991661, 39.585614830800424, 39.75242511168424, 39.919235392568055, 40.08604567345187, 40.252855954335686, 40.41966623521951, 40.586476516103325, 40.75328679698714, 40.920097077870956, 41.08690735875477, 41.25371763963859, 41.4205279205224, 41.587338201406226, 41.754148482290034, 41.92095876317386, 42.08776904405767, 42.25457932494149, 42.421389605825304, 42.58819988670912, 42.755010167592935, 42.92182044847676, 43.088630729360574, 43.25544101024439, 43.422251291128205, 43.58906157201202, 43.75587185289584, 43.92268213377965, 44.08949241466347, 44.25630269554729, 44.423112976431106, 44.58992325731492, 44.75673353819874, 44.92354381908255, 45.09035409996637, 45.257164380850185, 45.42397466173401, 45.590784942617816, 45.75759522350164, 45.924405504385454, 46.09121578526927, 46.258026066153086, 46.4248363470369, 46.59164662792072, 46.75845690880453, 46.925267189688356, 47.09207747057217, 47.25888775145599, 47.4256980323398, 47.59250831322362, 47.759318594107434, 47.92612887499125, 48.09293915587507, 48.25974943675888, 48.426559717642704, 48.59336999852652, 48.760180279410335, 48.92699056029415, 49.093800841177966, 49.26061112206179, 49.4274214029456, 49.59423168382942, 49.761041964713236, 49.92785224559705, 50.09466252648087, 50.26147280736468, 50.428283088248506, 50.595093369132314, 50.76190365001614, 50.92871393089995, 51.09552421178377, 51.262334492667584, 51.4291447735514, 51.59595505443522, 51.76276533531903, 51.929575616202854, 52.09638589708667, 52.263196177970485, 52.4300064588543, 52.59681673973812, 52.76362702062194, 52.93043730150575, 53.09724758238956, 53.26405786327338, 53.4308681441572, 53.59767842504102, 53.76448870592483, 53.931298986808656, 54.098109267692465, 54.26491954857629, 54.4317298294601], [37.81549335764919, 37.982303638533004, 38.14911391941682, 38.31592420030064, 38.48273448118446, 38.649544762068274, 38.81635504295209, 38.983165323835905, 39.14997560471972, 39.31678588560354, 39.48359616648735, 39.650406447371175, 39.81721672825499, 39.984027009138806, 40.15083729002262, 40.31764757090644, 40.48445785179025, 40.65126813267407, 40.818078413557885, 40.98488869444171, 41.15169897532552, 41.31850925620934, 41.485319537093154, 41.65212981797697, 41.818940098860786, 41.9857503797446, 42.152560660628424, 42.31937094151224, 42.486181222396056, 42.65299150327987, 42.81980178416369, 42.9866120650475, 43.15342234593132, 43.32023262681514, 43.48704290769896, 43.65385318858277, 43.82066346946659, 43.987473750350404, 44.15428403123422, 44.321094312118035, 44.48790459300186, 44.65471487388567, 44.82152515476949, 44.988335435653305, 45.15514571653712, 45.321955997420936, 45.48876627830475, 45.65557655918857, 45.82238684007238, 45.989197120956206, 46.15600740184002, 46.32281768272384, 46.48962796360765, 46.65643824449147, 46.823248525375284, 46.9900588062591, 47.15686908714292, 47.32367936802674, 47.490489648910554, 47.65729992979437, 47.824110210678185, 47.990920491562, 48.15773077244582, 48.32454105332963, 48.491351334213455, 48.65816161509727, 48.824971895981086, 48.9917821768649, 49.15859245774872, 49.32540273863253, 49.49221301951635, 49.65902330040017, 49.82583358128399, 49.9926438621678, 50.15945414305162, 50.326264423935434, 50.49307470481925, 50.659884985703066, 50.82669526658688, 50.993505547470704, 51.16031582835452, 51.327126109238336, 51.49393639012215, 51.66074667100597, 51.82755695188978, 51.9943672327736, 52.16117751365742, 52.32798779454124, 52.49479807542505, 52.66160835630887, 52.828418637192684, 52.9952289180765, 53.162039198960315, 53.32884947984413, 53.495659760727946, 53.66247004161177, 53.829280322495585, 53.9960906033794, 54.162900884263216, 54.32971116514703], [37.713474693336124, 37.88028497421994, 38.047095255103756, 38.21390553598757, 38.38071581687139, 38.5475260977552, 38.71433637863902, 38.88114665952284, 39.04795694040666, 39.21476722129047, 39.38157750217429, 39.548387783058104, 39.71519806394192, 39.882008344825735, 40.04881862570956, 40.21562890659337, 40.38243918747719, 40.549249468361005, 40.71605974924482, 40.882870030128636, 41.04968031101245, 41.21649059189627, 41.38330087278008, 41.550111153663906, 41.71692143454772, 41.88373171543154, 42.05054199631535, 42.21735227719917, 42.384162558082984, 42.5509728389668, 42.71778311985062, 42.88459340073444, 43.051403681618254, 43.21821396250207, 43.385024243385885, 43.5518345242697, 43.71864480515352, 43.88545508603734, 44.052265366921155, 44.21907564780497, 44.385885928688786, 44.5526962095726, 44.71950649045642, 44.88631677134023, 45.053127052224056, 45.21993733310787, 45.38674761399169, 45.5535578948755, 45.72036817575932, 45.887178456643134, 46.05398873752695, 46.220799018410766, 46.38760929929458, 46.554419580178404, 46.72122986106222, 46.888040141946036, 47.05485042282985, 47.22166070371367, 47.38847098459748, 47.5552812654813, 47.72209154636512, 47.88890182724894, 48.05571210813275, 48.22252238901657, 48.389332669900384, 48.5561429507842, 48.722953231668015, 48.88976351255183, 49.05657379343565, 49.22338407431947, 49.390194355203285, 49.5570046360871, 49.723814916970916, 49.89062519785473, 50.05743547873855, 50.22424575962237, 50.391056040506186, 50.55786632139, 50.72467660227382, 50.89148688315763, 51.05829716404145, 51.225107444925264, 51.39191772580909, 51.5587280066929, 51.72553828757672, 51.892348568460534, 52.05915884934435, 52.225969130228165, 52.39277941111198, 52.559589691995804, 52.72639997287962, 52.89321025376343, 53.06002053464725, 53.226830815531066, 53.39364109641488, 53.5604513772987, 53.72726165818252, 53.894071939066336, 54.06088221995015, 54.22769250083397], [37.61145602902305, 37.77826630990687, 37.945076590790684, 38.1118868716745, 38.278697152558316, 38.44550743344213, 38.612317714325954, 38.77912799520977, 38.945938276093585, 39.1127485569774, 39.27955883786122, 39.44636911874503, 39.61317939962885, 39.77998968051267, 39.946799961396486, 40.1136102422803, 40.28042052316412, 40.44723080404793, 40.61404108493175, 40.780851365815565, 40.94766164669939, 41.1144719275832, 41.28128220846702, 41.448092489350834, 41.61490277023465, 41.781713051118466, 41.94852333200228, 42.115333612886104, 42.28214389376992, 42.448954174653736, 42.61576445553755, 42.78257473642137, 42.94938501730518, 43.116195298189, 43.283005579072814, 43.44981585995664, 43.61662614084045, 43.78343642172427, 43.950246702608084, 44.1170569834919, 44.283867264375715, 44.45067754525953, 44.617487826143346, 44.78429810702717, 44.951108387910985, 45.1179186687948, 45.284728949678616, 45.45153923056243, 45.61834951144625, 45.78515979233006, 45.951970073213886, 46.118780354097694, 46.28559063498152, 46.45240091586533, 46.61921119674915, 46.786021477632964, 46.95283175851678, 47.119642039400595, 47.28645232028441, 47.453262601168234, 47.62007288205205, 47.786883162935865, 47.95369344381968, 48.1205037247035, 48.28731400558731, 48.45412428647113, 48.62093456735495, 48.787744848238766, 48.95455512912258, 49.1213654100064, 49.28817569089021, 49.45498597177403, 49.621796252657845, 49.78860653354166, 49.95541681442548, 50.1222270953093, 50.289037376193114, 50.45584765707693, 50.622657937960746, 50.78946821884456, 50.95627849972838, 51.1230887806122, 51.289899061496016, 51.45670934237983, 51.62351962326365, 51.79032990414746, 51.95714018503128, 52.123950465915094, 52.29076074679892, 52.45757102768273, 52.62438130856655, 52.791191589450364, 52.95800187033418, 53.124812151217995, 53.29162243210181, 53.45843271298563, 53.62524299386945, 53.792053274753265, 53.95886355563708, 54.125673836520896], [37.50943736470998, 37.676247645593804, 37.84305792647761, 38.009868207361436, 38.17667848824525, 38.34348876912907, 38.51029905001288, 38.6771093308967, 38.843919611780514, 39.01072989266433, 39.17754017354815, 39.34435045443197, 39.511160735315784, 39.6779710161996, 39.844781297083415, 40.01159157796723, 40.178401858851046, 40.34521213973487, 40.512022420618685, 40.6788327015025, 40.845642982386316, 41.01245326327013, 41.17926354415395, 41.34607382503776, 41.512884105921586, 41.6796943868054, 41.84650466768922, 42.01331494857303, 42.18012522945685, 42.346935510340664, 42.51374579122448, 42.680556072108295, 42.84736635299212, 43.014176633875934, 43.18098691475975, 43.347797195643565, 43.51460747652738, 43.6814177574112, 43.84822803829501, 44.01503831917883, 44.18184860006265, 44.348658880946466, 44.51546916183028, 44.6822794427141, 44.84908972359791, 45.01590000448173, 45.182710285365545, 45.34952056624937, 45.51633084713318, 45.683141128017, 45.849951408900814, 46.01676168978463, 46.183571970668446, 46.35038225155226, 46.517192532436084, 46.6840028133199, 46.850813094203716, 47.01762337508753, 47.18443365597135, 47.35124393685516, 47.51805421773898, 47.6848644986228, 47.85167477950661, 48.01848506039043, 48.18529534127425, 48.352105622158064, 48.51891590304188, 48.685726183925695, 48.85253646480951, 49.019346745693326, 49.18615702657715, 49.352967307460965, 49.51977758834478, 49.686587869228596, 49.85339815011241, 50.02020843099623, 50.18701871188004, 50.353828992763866, 50.52063927364768, 50.6874495545315, 50.85425983541531, 51.02107011629913, 51.187880397182944, 51.35469067806676, 51.521500958950575, 51.6883112398344, 51.855121520718214, 52.02193180160203, 52.188742082485845, 52.35555236336966, 52.52236264425348, 52.68917292513729, 52.85598320602111, 53.02279348690493, 53.189603767788746, 53.35641404867256, 53.52322432955638, 53.69003461044019, 53.856844891324016, 54.02365517220783], [37.40741870039692, 37.57422898128073, 37.74103926216455, 37.907849543048364, 38.07465982393218, 38.241470104816, 38.40828038569982, 38.575090666583634, 38.74190094746745, 38.908711228351265, 39.07552150923508, 39.2423317901189, 39.40914207100272, 39.57595235188653, 39.74276263277035, 39.909572913654166, 40.07638319453798, 40.2431934754218, 40.41000375630561, 40.57681403718943, 40.743624318073245, 40.91043459895707, 41.07724487984088, 41.2440551607247, 41.410865441608514, 41.57767572249233, 41.744486003376146, 41.91129628425996, 42.078106565143784, 42.2449168460276, 42.411727126911416, 42.57853740779523, 42.74534768867905, 42.91215796956286, 43.07896825044668, 43.2457785313305, 43.41258881221431, 43.57939909309813, 43.74620937398195, 43.913019654865764, 44.07982993574958, 44.246640216633395, 44.41345049751721, 44.580260778401026, 44.74707105928485, 44.913881340168665, 45.08069162105248, 45.247501901936296, 45.41431218282011, 45.58112246370393, 45.74793274458774, 45.914743025471566, 46.08155330635538, 46.2483635872392, 46.41517386812301, 46.58198414900683, 46.748794429890644, 46.91560471077446, 47.082414991658275, 47.2492252725421, 47.416035553425914, 47.58284583430973, 47.749656115193545, 47.91646639607736, 48.08327667696118, 48.25008695784499, 48.416897238728815, 48.58370751961263, 48.750517800496446, 48.91732808138026, 49.08413836226408, 49.25094864314789, 49.41775892403171, 49.584569204915525, 49.75137948579935, 49.91818976668316, 50.08500004756698, 50.251810328450794, 50.41862060933461, 50.585430890218426, 50.75224117110224, 50.919051451986064, 51.08586173286988, 51.252672013753696, 51.41948229463751, 51.58629257552133, 51.75310285640514, 51.91991313728896, 52.08672341817278, 52.2535336990566, 52.42034397994041, 52.58715426082423, 52.753964541708044, 52.92077482259186, 53.087585103475675, 53.2543953843595, 53.42120566524331, 53.58801594612713, 53.754826227010945, 53.92163650789476], [37.30540003608385, 37.47221031696766, 37.639020597851484, 37.8058308787353, 37.972641159619116, 38.13945144050293, 38.30626172138675, 38.47307200227056, 38.63988228315438, 38.8066925640382, 38.97350284492202, 39.14031312580583, 39.30712340668965, 39.473933687573464, 39.64074396845728, 39.807554249341095, 39.97436453022492, 40.14117481110873, 40.30798509199255, 40.474795372876365, 40.64160565376018, 40.808415934643996, 40.97522621552781, 41.142036496411635, 41.30884677729545, 41.475657058179266, 41.64246733906308, 41.8092776199469, 41.97608790083071, 42.14289818171453, 42.30970846259835, 42.47651874348216, 42.64332902436598, 42.8101393052498, 42.976949586133614, 43.14375986701743, 43.310570147901245, 43.47738042878506, 43.64419070966888, 43.8110009905527, 43.977811271436515, 44.14462155232033, 44.311431833204146, 44.47824211408796, 44.64505239497178, 44.81186267585559, 44.978672956739416, 45.14548323762323, 45.31229351850705, 45.47910379939086, 45.64591408027468, 45.812724361158494, 45.97953464204231, 46.14634492292613, 46.31315520380995, 46.479965484693764, 46.64677576557758, 46.813586046461396, 46.98039632734521, 47.14720660822903, 47.31401688911285, 47.480827169996665, 47.64763745088048, 47.8144477317643, 47.98125801264811, 48.14806829353193, 48.314878574415744, 48.48168885529956, 48.648499136183375, 48.8153094170672, 48.98211969795101, 49.14892997883483, 49.315740259718645, 49.48255054060246, 49.649360821486276, 49.81617110237009, 49.982981383253914, 50.14979166413773, 50.316601945021546, 50.48341222590536, 50.65022250678918, 50.81703278767299, 50.98384306855681, 51.15065334944063, 51.31746363032444, 51.48427391120826, 51.65108419209208, 51.817894472975894, 51.98470475385971, 52.151515034743525, 52.31832531562735, 52.48513559651116, 52.65194587739498, 52.818756158278795, 52.98556643916261, 53.152376720046426, 53.31918700093024, 53.485997281814065, 53.65280756269788, 53.819617843581696], [37.20338137177078, 37.3701916526546, 37.53700193353841, 37.70381221442223, 37.87062249530605, 38.03743277618987, 38.20424305707368, 38.3710533379575, 38.537863618841314, 38.70467389972513, 38.871484180608945, 39.03829446149277, 39.20510474237658, 39.3719150232604, 39.538725304144215, 39.70553558502803, 39.872345865911846, 40.03915614679566, 40.20596642767948, 40.37277670856329, 40.539586989447116, 40.70639727033093, 40.87320755121475, 41.04001783209856, 41.20682811298238, 41.373638393866194, 41.54044867475001, 41.70725895563383, 41.87406923651765, 42.040879517401464, 42.20768979828528, 42.374500079169096, 42.54131036005291, 42.70812064093673, 42.87493092182055, 43.041741202704365, 43.20855148358818, 43.375361764472, 43.54217204535581, 43.70898232623963, 43.875792607123444, 44.042602888007266, 44.209413168891075, 44.3762234497749, 44.54303373065871, 44.70984401154253, 44.876654292426345, 45.04346457331016, 45.210274854193976, 45.37708513507779, 45.543895415961615, 45.71070569684543, 45.877515977729246, 46.04432625861306, 46.21113653949688, 46.37794682038069, 46.54475710126451, 46.71156738214833, 46.87837766303214, 47.04518794391596, 47.21199822479978, 47.378808505683594, 47.54561878656741, 47.712429067451225, 47.87923934833505, 48.04604962921886, 48.21285991010268, 48.379670190986495, 48.54648047187031, 48.713290752754126, 48.88010103363794, 49.046911314521765, 49.21372159540557, 49.380531876289396, 49.54734215717321, 49.71415243805703, 49.88096271894084, 50.04777299982466, 50.214583280708474, 50.38139356159229, 50.54820384247611, 50.71501412335993, 50.881824404243744, 51.04863468512756, 51.215444966011376, 51.38225524689519, 51.54906552777901, 51.71587580866283, 51.882686089546645, 52.04949637043046, 52.21630665131428, 52.38311693219809, 52.54992721308191, 52.716737493965724, 52.88354777484954, 53.05035805573336, 53.21716833661718, 53.38397861750099, 53.55078889838481, 53.71759917926863], [37.10136270745771, 37.26817298834153, 37.43498326922535, 37.601793550109164, 37.76860383099298, 37.935414111876796, 38.10222439276061, 38.26903467364443, 38.43584495452825, 38.602655235412065, 38.76946551629588, 38.9362757971797, 39.10308607806351, 39.26989635894733, 39.436706639831144, 39.603516920714966, 39.77032720159878, 39.9371374824826, 40.10394776336641, 40.27075804425023, 40.437568325134045, 40.60437860601786, 40.77118888690168, 40.93799916778549, 41.104809448669315, 41.27161972955313, 41.438430010436946, 41.60524029132076, 41.77205057220458, 41.93886085308839, 42.10567113397221, 42.27248141485603, 42.43929169573985, 42.60610197662366, 42.77291225750748, 42.939722538391294, 43.10653281927511, 43.273343100158925, 43.44015338104275, 43.606963661926564, 43.77377394281038, 43.940584223694195, 44.10739450457801, 44.274204785461826, 44.44101506634564, 44.607825347229465, 44.77463562811327, 44.941445908997096, 45.10825618988091, 45.27506647076473, 45.44187675164854, 45.60868703253236, 45.775497313416174, 45.94230759429999, 46.10911787518381, 46.27592815606763, 46.442738436951444, 46.60954871783526, 46.776358998719076, 46.94316927960289, 47.10997956048671, 47.27678984137053, 47.44360012225434, 47.61041040313816, 47.77722068402198, 47.94403096490579, 48.11084124578961, 48.277651526673424, 48.444461807557246, 48.611272088441055, 48.77808236932488, 48.94489265020869, 49.11170293109251, 49.278513211976325, 49.44532349286014, 49.61213377374396, 49.77894405462777, 49.945754335511594, 50.11256461639541, 50.279374897279226, 50.44618517816304, 50.61299545904686, 50.77980573993068, 50.94661602081449, 51.11342630169831, 51.28023658258213, 51.44704686346594, 51.61385714434976, 51.780667425233574, 51.9474777061174, 52.114287987001205, 52.28109826788502, 52.44790854876884, 52.61471882965266, 52.781529110536475, 52.94833939142029, 53.11514967230411, 53.28195995318792, 53.448770234071745, 53.61558051495556], [36.999344043144646, 37.16615432402846, 37.33296460491228, 37.4997748857961, 37.66658516667991, 37.83339544756373, 38.00020572844755, 38.16701600933136, 38.33382629021518, 38.500636571098994, 38.66744685198281, 38.834257132866625, 39.00106741375045, 39.167877694634264, 39.33468797551808, 39.501498256401895, 39.66830853728571, 39.835118818169526, 40.00192909905334, 40.168739379937165, 40.33554966082098, 40.502359941704796, 40.66917022258861, 40.83598050347243, 41.00279078435624, 41.16960106524006, 41.336411346123874, 41.50322162700769, 41.67003190789151, 41.83684218877533, 42.003652469659144, 42.17046275054296, 42.337273031426776, 42.50408331231059, 42.67089359319441, 42.83770387407823, 43.004514154962045, 43.17132443584586, 43.33813471672968, 43.50494499761349, 43.67175527849731, 43.838565559381124, 44.005375840264946, 44.17218612114876, 44.33899640203258, 44.50580668291639, 44.67261696380021, 44.839427244684025, 45.00623752556784, 45.17304780645166, 45.33985808733548, 45.506668368219295, 45.67347864910311, 45.840288929986926, 46.00709921087074, 46.17390949175456, 46.34071977263838, 46.50753005352219, 46.67434033440601, 46.84115061528983, 47.00796089617364, 47.17477117705746, 47.341581457941274, 47.50839173882509, 47.675202019708905, 47.84201230059273, 48.008822581476544, 48.17563286236036, 48.342443143244175, 48.50925342412799, 48.676063705011806, 48.84287398589562, 49.009684266779445, 49.17649454766325, 49.343304828547076, 49.51011510943089, 49.67692539031471, 49.84373567119852, 50.01054595208234, 50.17735623296616, 50.34416651384997, 50.51097679473379, 50.67778707561761, 50.844597356501424, 51.01140763738524, 51.178217918269056, 51.34502819915288, 51.51183848003669, 51.67864876092051, 51.845459041804325, 52.01226932268814, 52.17907960357196, 52.34588988445577, 52.51270016533959, 52.679510446223404, 52.846320727107226, 53.01313100799104, 53.17994128887486, 53.34675156975867, 53.51356185064249], [36.89732537883158, 37.06413565971539, 37.23094594059921, 37.39775622148303, 37.564566502366844, 37.73137678325066, 37.898187064134476, 38.0649973450183, 38.23180762590211, 38.39861790678593, 38.565428187669745, 38.73223846855356, 38.89904874943738, 39.06585903032119, 39.23266931120501, 39.399479592088824, 39.566289872972646, 39.73310015385646, 39.89991043474028, 40.06672071562409, 40.23353099650791, 40.400341277391725, 40.56715155827554, 40.73396183915936, 40.90077212004318, 41.067582400926995, 41.23439268181081, 41.401202962694626, 41.56801324357844, 41.73482352446226, 41.90163380534608, 42.06844408622989, 42.23525436711371, 42.40206464799753, 42.56887492888134, 42.73568520976516, 42.902495490648974, 43.06930577153279, 43.236116052416605, 43.40292633330043, 43.569736614184244, 43.73654689506806, 43.903357175951875, 44.07016745683569, 44.236977737719506, 44.40378801860332, 44.570598299487145, 44.73740858037096, 44.904218861254776, 45.07102914213859, 45.23783942302241, 45.40464970390622, 45.57145998479004, 45.73827026567386, 45.90508054655768, 46.07189082744149, 46.23870110832531, 46.405511389209124, 46.57232167009294, 46.739131950976756, 46.90594223186058, 47.072752512744394, 47.23956279362821, 47.406373074512025, 47.57318335539584, 47.73999363627966, 47.90680391716347, 48.07361419804729, 48.240424478931104, 48.407234759814926, 48.57404504069874, 48.74085532158256, 48.90766560246637, 49.07447588335019, 49.241286164234005, 49.40809644511782, 49.57490672600164, 49.74171700688546, 49.908527287769274, 50.07533756865309, 50.242147849536906, 50.40895813042072, 50.57576841130454, 50.74257869218836, 50.90938897307217, 51.07619925395599, 51.24300953483981, 51.40981981572362, 51.57663009660744, 51.743440377491254, 51.91025065837508, 52.077060939258885, 52.24387122014271, 52.410681501026524, 52.57749178191034, 52.744302062794155, 52.91111234367797, 53.07792262456179, 53.24473290544561, 53.411543186329425], [36.79530671451851, 36.962116995402326, 37.12892727628614, 37.29573755716996, 37.46254783805378, 37.629358118937596, 37.79616839982141, 37.96297868070523, 38.12978896158904, 38.29659924247286, 38.463409523356674, 38.6302198042405, 38.797030085124305, 38.96384036600813, 39.130650646891944, 39.29746092777576, 39.464271208659575, 39.63108148954339, 39.797891770427206, 39.96470205131102, 40.131512332194845, 40.29832261307866, 40.465132893962476, 40.63194317484629, 40.79875345573011, 40.96556373661392, 41.13237401749774, 41.29918429838156, 41.46599457926538, 41.63280486014919, 41.79961514103301, 41.966425421916824, 42.13323570280064, 42.300045983684456, 42.46685626456828, 42.633666545452094, 42.80047682633591, 42.967287107219725, 43.13409738810354, 43.30090766898736, 43.46771794987117, 43.634528230754995, 43.801338511638804, 43.968148792522626, 44.13495907340644, 44.30176935429026, 44.46857963517407, 44.63538991605789, 44.802200196941705, 44.96901047782552, 45.13582075870934, 45.30263103959316, 45.469441320476975, 45.63625160136079, 45.803061882244606, 45.96987216312842, 46.13668244401224, 46.30349272489606, 46.47030300577987, 46.63711328666369, 46.80392356754751, 46.97073384843132, 47.13754412931514, 47.304354410198954, 47.47116469108278, 47.637974971966585, 47.80478525285041, 47.971595533734224, 48.13840581461804, 48.305216095501855, 48.47202637638567, 48.63883665726949, 48.8056469381533, 48.972457219037125, 49.13926749992094, 49.306077780804756, 49.47288806168857, 49.63969834257239, 49.8065086234562, 49.97331890434002, 50.14012918522384, 50.30693946610766, 50.47374974699147, 50.64056002787529, 50.807370308759104, 50.97418058964292, 51.140990870526736, 51.30780115141056, 51.474611432294374, 51.64142171317819, 51.808231994062005, 51.97504227494582, 52.14185255582964, 52.30866283671345, 52.47547311759727, 52.64228339848109, 52.809093679364906, 52.97590396024872, 53.14271424113254, 53.30952452201636], [36.69328805020544, 36.86009833108926, 37.02690861197308, 37.19371889285689, 37.36052917374071, 37.527339454624524, 37.69414973550834, 37.860960016392156, 38.02777029727598, 38.194580578159794, 38.36139085904361, 38.528201139927425, 38.69501142081124, 38.86182170169506, 39.02863198257887, 39.195442263462695, 39.36225254434651, 39.529062825230326, 39.69587310611414, 39.86268338699796, 40.02949366788177, 40.19630394876559, 40.36311422964941, 40.52992451053322, 40.69673479141704, 40.86354507230086, 41.030355353184675, 41.19716563406849, 41.363975914952306, 41.53078619583612, 41.69759647671994, 41.86440675760376, 42.031217038487576, 42.19802731937139, 42.36483760025521, 42.53164788113902, 42.69845816202284, 42.865268442906654, 43.03207872379048, 43.19888900467429, 43.36569928555811, 43.532509566441924, 43.69931984732574, 43.866130128209555, 44.03294040909337, 44.19975068997719, 44.366560970861, 44.533371251744825, 44.70018153262864, 44.866991813512456, 45.03380209439627, 45.20061237528009, 45.3674226561639, 45.53423293704772, 45.70104321793154, 45.86785349881536, 46.03466377969917, 46.20147406058299, 46.368284341466804, 46.53509462235062, 46.701904903234436, 46.86871518411826, 47.03552546500207, 47.20233574588589, 47.369146026769705, 47.53595630765352, 47.70276658853734, 47.86957686942115, 48.036387150304975, 48.203197431188784, 48.370007712072606, 48.53681799295642, 48.70362827384024, 48.87043855472405, 49.03724883560787, 49.20405911649169, 49.3708693973755, 49.53767967825932, 49.70448995914314, 49.871300240026954, 50.03811052091077, 50.204920801794586, 50.37173108267841, 50.53854136356222, 50.70535164444604, 50.872161925329856, 51.03897220621367, 51.20578248709749, 51.3725927679813, 51.539403048865125, 51.706213329748934, 51.87302361063275, 52.039833891516565, 52.20664417240039, 52.373454453284204, 52.54026473416802, 52.70707501505184, 52.87388529593565, 53.04069557681947, 53.20750585770329], [36.591269385892375, 36.75807966677619, 36.924889947660006, 37.09170022854383, 37.25851050942764, 37.42532079031146, 37.592131071195276, 37.75894135207909, 37.92575163296291, 38.09256191384672, 38.25937219473054, 38.426182475614354, 38.59299275649818, 38.75980303738199, 38.92661331826581, 39.093423599149624, 39.26023388003344, 39.427044160917255, 39.59385444180107, 39.76066472268489, 39.92747500356871, 40.094285284452525, 40.26109556533634, 40.427905846220156, 40.59471612710397, 40.76152640798779, 40.9283366888716, 41.09514696975542, 41.26195725063924, 41.42876753152306, 41.59557781240687, 41.76238809329069, 41.929198374174504, 42.09600865505832, 42.262818935942136, 42.42962921682596, 42.596439497709774, 42.76324977859359, 42.930060059477405, 43.09687034036122, 43.26368062124504, 43.43049090212885, 43.597301183012675, 43.76411146389649, 43.930921744780306, 44.09773202566412, 44.26454230654794, 44.43135258743175, 44.59816286831557, 44.76497314919939, 44.93178343008321, 45.09859371096702, 45.26540399185084, 45.432214272734655, 45.59902455361847, 45.765834834502286, 45.93264511538611, 46.09945539626992, 46.26626567715374, 46.433075958037556, 46.59988623892137, 46.76669651980519, 46.933506800689, 47.10031708157282, 47.267127362456634, 47.43393764334046, 47.60074792422427, 47.76755820510809, 47.934368485991904, 48.10117876687572, 48.267989047759535, 48.43479932864335, 48.60160960952717, 48.76841989041098, 48.935230171294805, 49.10204045217862, 49.268850733062436, 49.43566101394625, 49.60247129483007, 49.76928157571389, 49.9360918565977, 50.10290213748152, 50.26971241836534, 50.43652269924915, 50.60333298013297, 50.770143261016784, 50.93695354190061, 51.103763822784416, 51.27057410366824, 51.437384384552054, 51.60419466543587, 51.771004946319685, 51.9378152272035, 52.10462550808732, 52.27143578897113, 52.438246069854955, 52.60505635073877, 52.771866631622586, 52.9386769125064, 53.10548719339022], [36.48925072157931, 36.65606100246312, 36.82287128334694, 36.98968156423076, 37.15649184511457, 37.32330212599839, 37.490112406882204, 37.65692268776603, 37.823732968649836, 37.99054324953366, 38.157353530417474, 38.32416381130129, 38.490974092185105, 38.65778437306892, 38.82459465395274, 38.99140493483655, 39.158215215720375, 39.32502549660419, 39.491835777488006, 39.65864605837182, 39.82545633925564, 39.99226662013945, 40.15907690102327, 40.32588718190709, 40.49269746279091, 40.65950774367472, 40.82631802455854, 40.993128305442355, 41.15993858632617, 41.326748867209986, 41.49355914809381, 41.66036942897762, 41.82717970986144, 41.993989990745256, 42.16080027162907, 42.32761055251289, 42.4944208333967, 42.66123111428052, 42.828041395164334, 42.99485167604816, 43.16166195693197, 43.32847223781579, 43.495282518699604, 43.66209279958342, 43.828903080467235, 43.99571336135105, 44.16252364223487, 44.32933392311869, 44.496144204002505, 44.66295448488632, 44.829764765770136, 44.99657504665395, 45.16338532753777, 45.33019560842159, 45.497005889305406, 45.66381617018922, 45.83062645107304, 45.99743673195685, 46.16424701284067, 46.331057293724484, 46.49786757460831, 46.66467785549212, 46.83148813637594, 46.998298417259754, 47.16510869814357, 47.331918979027385, 47.4987292599112, 47.66553954079502, 47.83234982167883, 47.999160102562655, 48.16597038344647, 48.332780664330286, 48.4995909452141, 48.66640122609792, 48.83321150698173, 49.00002178786555, 49.16683206874937, 49.33364234963319, 49.500452630517, 49.66726291140082, 49.834073192284635, 50.00088347316845, 50.167693754052266, 50.33450403493609, 50.5013143158199, 50.66812459670372, 50.834934877587536, 51.00174515847135, 51.16855543935517, 51.33536572023898, 51.502176001122805, 51.668986282006614, 51.83579656289044, 52.00260684377425, 52.16941712465807, 52.336227405541884, 52.5030376864257, 52.66984796730952, 52.83665824819334, 53.00346852907715], [36.38723205726624, 36.554042338150055, 36.72085261903387, 36.887662899917686, 37.05447318080151, 37.221283461685324, 37.38809374256914, 37.554904023452956, 37.72171430433677, 37.88852458522059, 38.0553348661044, 38.222145146988225, 38.388955427872034, 38.55576570875586, 38.72257598963967, 38.88938627052349, 39.056196551407304, 39.22300683229112, 39.389817113174935, 39.55662739405875, 39.72343767494257, 39.89024795582639, 40.057058236710205, 40.22386851759402, 40.390678798477836, 40.55748907936165, 40.72429936024547, 40.89110964112929, 41.057919922013106, 41.22473020289692, 41.39154048378074, 41.55835076466455, 41.72516104554837, 41.891971326432184, 42.05878160731601, 42.22559188819982, 42.39240216908364, 42.559212449967454, 42.72602273085127, 42.892833011735085, 43.0596432926189, 43.226453573502724, 43.39326385438653, 43.560074135270355, 43.72688441615417, 43.893694697037986, 44.0605049779218, 44.22731525880562, 44.39412553968943, 44.56093582057325, 44.72774610145707, 44.89455638234089, 45.0613666632247, 45.22817694410852, 45.394987224992335, 45.56179750587615, 45.728607786759966, 45.89541806764379, 46.0622283485276, 46.22903862941142, 46.395848910295236, 46.56265919117905, 46.72946947206287, 46.89627975294668, 47.063090033830505, 47.229900314714314, 47.39671059559814, 47.56352087648195, 47.73033115736577, 47.897141438249584, 48.0639517191334, 48.23076200001722, 48.39757228090103, 48.56438256178485, 48.73119284266867, 48.898003123552485, 49.0648134044363, 49.231623685320116, 49.39843396620393, 49.56524424708775, 49.73205452797157, 49.898864808855386, 50.0656750897392, 50.23248537062302, 50.39929565150683, 50.56610593239065, 50.732916213274464, 50.89972649415829, 51.0665367750421, 51.23334705592592, 51.400157336809734, 51.56696761769355, 51.733777898577365, 51.90058817946118, 52.067398460345, 52.23420874122882, 52.401019022112635, 52.56782930299645, 52.734639583880266, 52.90144986476409], [36.28521339295317, 36.45202367383699, 36.618833954720806, 36.78564423560462, 36.95245451648844, 37.11926479737225, 37.28607507825607, 37.452885359139884, 37.61969564002371, 37.78650592090752, 37.95331620179134, 38.120126482675154, 38.28693676355897, 38.453747044442785, 38.6205573253266, 38.787367606210424, 38.95417788709424, 39.120988167978055, 39.28779844886187, 39.454608729745686, 39.6214190106295, 39.78822929151332, 39.95503957239714, 40.12184985328095, 40.28866013416477, 40.45547041504859, 40.6222806959324, 40.78909097681622, 40.955901257700035, 41.12271153858385, 41.289521819467666, 41.45633210035149, 41.623142381235304, 41.78995266211912, 41.956762943002936, 42.12357322388675, 42.29038350477057, 42.45719378565438, 42.624004066538205, 42.79081434742202, 42.95762462830584, 43.12443490918965, 43.29124519007347, 43.458055470957284, 43.6248657518411, 43.79167603272492, 43.95848631360873, 44.12529659449255, 44.29210687537637, 44.458917156260185, 44.625727437144, 44.792537718027816, 44.95934799891163, 45.12615827979545, 45.29296856067927, 45.459778841563086, 45.6265891224469, 45.79339940333072, 45.96020968421453, 46.12701996509835, 46.293830245982164, 46.46064052686599, 46.627450807749796, 46.79426108863362, 46.961071369517434, 47.12788165040125, 47.294691931285065, 47.46150221216888, 47.628312493052704, 47.79512277393651, 47.961933054820335, 48.12874333570415, 48.295553616587966, 48.46236389747178, 48.6291741783556, 48.79598445923942, 48.96279474012323, 49.12960502100705, 49.29641530189087, 49.46322558277468, 49.6300358636585, 49.796846144542315, 49.96365642542614, 50.130466706309946, 50.29727698719377, 50.464087268077584, 50.6308975489614, 50.797707829845216, 50.96451811072903, 51.131328391612854, 51.29813867249666, 51.46494895338048, 51.631759234264294, 51.79856951514812, 51.96537979603193, 52.13219007691575, 52.29900035779957, 52.46581063868338, 52.6326209195672, 52.79943120045102], [36.1831947286401, 36.35000500952392, 36.516815290407735, 36.68362557129156, 36.850435852175366, 37.01724613305919, 37.184056413943004, 37.35086669482682, 37.517676975710636, 37.68448725659445, 37.85129753747827, 38.01810781836208, 38.184918099245905, 38.35172838012972, 38.51853866101354, 38.68534894189735, 38.85215922278117, 39.018969503664984, 39.1857797845488, 39.35259006543262, 39.51940034631644, 39.68621062720025, 39.85302090808407, 40.019831188967885, 40.1866414698517, 40.353451750735516, 40.52026203161933, 40.68707231250315, 40.85388259338697, 41.020692874270786, 41.1875031551546, 41.35431343603842, 41.52112371692223, 41.68793399780605, 41.854744278689864, 42.02155455957369, 42.1883648404575, 42.35517512134132, 42.521985402225134, 42.68879568310895, 42.855605963992765, 43.02241624487658, 43.189226525760404, 43.35603680664422, 43.522847087528035, 43.68965736841185, 43.856467649295666, 44.02327793017948, 44.1900882110633, 44.35689849194712, 44.523708772830936, 44.69051905371475, 44.85732933459857, 45.02413961548238, 45.1909498963662, 45.357760177250015, 45.52457045813384, 45.691380739017646, 45.85819101990147, 46.025001300785284, 46.1918115816691, 46.358621862552916, 46.52543214343673, 46.69224242432055, 46.85905270520436, 47.025862986088185, 47.192673266972, 47.35948354785582, 47.52629382873963, 47.69310410962345, 47.859914390507264, 48.02672467139108, 48.1935349522749, 48.36034523315871, 48.52715551404253, 48.69396579492635, 48.860776075810165, 49.02758635669398, 49.194396637577796, 49.36120691846162, 49.52801719934543, 49.69482748022925, 49.861637761113066, 50.02844804199688, 50.1952583228807, 50.36206860376451, 50.528878884648336, 50.695689165532144, 50.86249944641597, 51.02930972729978, 51.1961200081836, 51.362930289067414, 51.52974056995123, 51.696550850835045, 51.86336113171886, 52.030171412602684, 52.1969816934865, 52.363791974370315, 52.53060225525413, 52.697412536137946], [36.08117606432704, 36.24798634521085, 36.41479662609467, 36.581606906978486, 36.7484171878623, 36.91522746874612, 37.08203774962993, 37.248848030513756, 37.415658311397564, 37.58246859228139, 37.7492788731652, 37.91608915404902, 38.082899434932834, 38.24970971581665, 38.416519996700465, 38.58333027758428, 38.750140558468104, 38.91695083935192, 39.083761120235735, 39.25057140111955, 39.41738168200337, 39.58419196288718, 39.751002243771, 39.91781252465482, 40.084622805538636, 40.25143308642245, 40.41824336730627, 40.58505364819008, 40.7518639290739, 40.918674209957715, 41.08548449084154, 41.252294771725346, 41.41910505260917, 41.585915333492984, 41.7527256143768, 41.919535895260616, 42.08634617614443, 42.25315645702825, 42.41996673791206, 42.586777018795885, 42.7535872996797, 42.92039758056352, 43.08720786144733, 43.25401814233115, 43.420828423214964, 43.58763870409878, 43.7544489849826, 43.92125926586642, 44.08806954675023, 44.25487982763405, 44.421690108517865, 44.58850038940168, 44.755310670285496, 44.92212095116932, 45.088931232053135, 45.25574151293695, 45.422551793820766, 45.58936207470458, 45.7561723555884, 45.92298263647221, 46.089792917356036, 46.25660319823985, 46.42341347912367, 46.59022376000748, 46.7570340408913, 46.923844321775114, 47.09065460265893, 47.257464883542745, 47.42427516442656, 47.591085445310384, 47.7578957261942, 47.924706007078015, 48.09151628796183, 48.258326568845646, 48.42513684972946, 48.59194713061328, 48.7587574114971, 48.925567692380916, 49.09237797326473, 49.25918825414855, 49.42599853503236, 49.59280881591618, 49.759619096799995, 49.92642937768382, 50.093239658567626, 50.26004993945145, 50.426860220335264, 50.59367050121908, 50.760480782102896, 50.92729106298671, 51.094101343870534, 51.26091162475434, 51.427721905638165, 51.59453218652198, 51.7613424674058, 51.92815274828961, 52.09496302917343, 52.26177331005725, 52.42858359094107, 52.59539387182488], [35.97915740001397, 36.14596768089778, 36.3127779617816, 36.479588242665415, 36.64639852354924, 36.81320880443305, 36.98001908531687, 37.146829366200684, 37.3136396470845, 37.480449927968316, 37.64726020885213, 37.814070489735954, 37.98088077061976, 38.147691051503585, 38.3145013323874, 38.48131161327122, 38.64812189415503, 38.81493217503885, 38.981742455922664, 39.14855273680648, 39.3153630176903, 39.48217329857412, 39.64898357945793, 39.81579386034175, 39.982604141225565, 40.14941442210938, 40.316224702993196, 40.48303498387702, 40.649845264760835, 40.81665554564465, 40.983465826528466, 41.15027610741228, 41.3170863882961, 41.48389666917991, 41.650706950063736, 41.81751723094755, 41.98432751183137, 42.15113779271518, 42.317948073599, 42.484758354482814, 42.65156863536663, 42.81837891625045, 42.98518919713426, 43.151999478018084, 43.3188097589019, 43.485620039785715, 43.65243032066953, 43.819240601553346, 43.98605088243716, 44.15286116332098, 44.3196714442048, 44.486481725088616, 44.65329200597243, 44.82010228685625, 44.98691256774006, 45.15372284862388, 45.320533129507695, 45.48734341039152, 45.654153691275326, 45.82096397215915, 45.987774253042964, 46.15458453392678, 46.321394814810596, 46.48820509569441, 46.655015376578234, 46.82182565746204, 46.988635938345865, 47.15544621922968, 47.3222565001135, 47.48906678099731, 47.65587706188113, 47.82268734276495, 47.98949762364876, 48.15630790453258, 48.3231181854164, 48.48992846630021, 48.65673874718403, 48.823549028067845, 48.99035930895166, 49.157169589835476, 49.3239798707193, 49.490790151603115, 49.65760043248693, 49.824410713370746, 49.99122099425456, 50.15803127513838, 50.32484155602219, 50.491651836906016, 50.65846211778983, 50.82527239867365, 50.99208267955746, 51.15889296044128, 51.325703241325094, 51.49251352220891, 51.659323803092725, 51.82613408397655, 51.992944364860364, 52.15975464574418, 52.326564926627995, 52.49337520751182], [35.877138735700896, 36.04394901658472, 36.210759297468535, 36.37756957835235, 36.544379859236166, 36.71119014011998, 36.8780004210038, 37.04481070188761, 37.211620982771436, 37.37843126365525, 37.54524154453907, 37.71205182542288, 37.8788621063067, 38.045672387190514, 38.21248266807433, 38.37929294895815, 38.54610322984197, 38.712913510725784, 38.8797237916096, 39.046534072493415, 39.21334435337723, 39.38015463426105, 39.54696491514487, 39.71377519602868, 39.8805854769125, 40.047395757796316, 40.21420603868013, 40.38101631956395, 40.54782660044776, 40.71463688133158, 40.881447162215395, 41.04825744309922, 41.21506772398303, 41.38187800486685, 41.548688285750664, 41.71549856663448, 41.882308847518296, 42.04911912840211, 42.215929409285934, 42.38273969016975, 42.549549971053565, 42.71636025193738, 42.8831705328212, 43.04998081370501, 43.21679109458883, 43.38360137547265, 43.55041165635646, 43.71722193724028, 43.8840322181241, 44.05084249900791, 44.21765277989173, 44.384463060775545, 44.55127334165936, 44.718083622543176, 44.884893903427, 45.051704184310815, 45.21851446519463, 45.385324746078446, 45.55213502696226, 45.71894530784608, 45.88575558872989, 46.052565869613716, 46.219376150497524, 46.38618643138135, 46.55299671226516, 46.71980699314898, 46.886617274032794, 47.05342755491661, 47.22023783580043, 47.38704811668424, 47.553858397568064, 47.72066867845188, 47.887478959335695, 48.05428924021951, 48.221099521103326, 48.38790980198715, 48.55472008287096, 48.72153036375478, 48.888340644638596, 49.05515092552241, 49.22196120640623, 49.38877148729004, 49.555581768173866, 49.722392049057675, 49.8892023299415, 50.05601261082531, 50.22282289170913, 50.389633172592944, 50.55644345347676, 50.72325373436058, 50.89006401524439, 51.05687429612821, 51.22368457701202, 51.390494857895845, 51.55730513877966, 51.72411541966348, 51.8909257005473, 52.05773598143111, 52.22454626231493, 52.39135654319875], [35.77512007138783, 35.94193035227165, 36.10874063315546, 36.275550914039286, 36.442361194923095, 36.60917147580692, 36.77598175669073, 36.94279203757455, 37.109602318458364, 37.27641259934218, 37.443222880225996, 37.61003316110981, 37.776843441993634, 37.94365372287745, 38.110464003761265, 38.27727428464508, 38.4440845655289, 38.61089484641271, 38.77770512729653, 38.94451540818035, 39.11132568906417, 39.27813596994798, 39.4449462508318, 39.61175653171561, 39.77856681259943, 39.945377093483245, 40.11218737436706, 40.278997655250876, 40.4458079361347, 40.612618217018515, 40.77942849790233, 40.946238778786146, 41.11304905966996, 41.27985934055378, 41.44666962143759, 41.613479902321416, 41.78029018320523, 41.94710046408905, 42.11391074497286, 42.28072102585668, 42.447531306740494, 42.61434158762431, 42.78115186850813, 42.94796214939195, 43.114772430275764, 43.28158271115958, 43.448392992043395, 43.61520327292721, 43.782013553811026, 43.94882383469485, 44.115634115578665, 44.28244439646248, 44.449254677346296, 44.61606495823011, 44.78287523911393, 44.94968551999774, 45.116495800881566, 45.283306081765375, 45.4501163626492, 45.61692664353301, 45.78373692441683, 45.950547205300644, 46.11735748618446, 46.284167767068276, 46.45097804795209, 46.617788328835914, 46.78459860971973, 46.951408890603545, 47.11821917148736, 47.28502945237118, 47.45183973325499, 47.61865001413881, 47.78546029502263, 47.95227057590644, 48.11908085679026, 48.28589113767408, 48.45270141855789, 48.61951169944171, 48.786321980325525, 48.95313226120935, 49.119942542093156, 49.28675282297698, 49.453563103860795, 49.62037338474461, 49.787183665628426, 49.95399394651224, 50.120804227396064, 50.28761450827987, 50.454424789163696, 50.62123507004751, 50.78804535093133, 50.95485563181514, 51.12166591269896, 51.288476193582774, 51.45528647446659, 51.62209675535041, 51.78890703623423, 51.955717317118044, 52.12252759800186, 52.289337878885675], [35.67310140707477, 35.839911687958576, 36.0067219688424, 36.173532249726215, 36.34034253061003, 36.507152811493846, 36.67396309237766, 36.840773373261484, 37.00758365414529, 37.174393935029116, 37.34120421591293, 37.50801449679675, 37.67482477768056, 37.84163505856438, 38.008445339448194, 38.17525562033201, 38.34206590121583, 38.50887618209965, 38.675686462983464, 38.84249674386728, 39.009307024751095, 39.17611730563491, 39.34292758651873, 39.50973786740255, 39.676548148286365, 39.84335842917018, 40.010168710053996, 40.17697899093781, 40.34378927182163, 40.51059955270544, 40.677409833589266, 40.844220114473075, 41.0110303953569, 41.17784067624071, 41.34465095712453, 41.511461238008344, 41.67827151889216, 41.845081799775976, 42.01189208065979, 42.178702361543614, 42.34551264242743, 42.512322923311245, 42.67913320419506, 42.84594348507888, 43.01275376596269, 43.17956404684651, 43.34637432773033, 43.51318460861415, 43.67999488949796, 43.84680517038178, 44.01361545126559, 44.18042573214941, 44.347236013033225, 44.51404629391705, 44.68085657480086, 44.84766685568468, 45.014477136568495, 45.18128741745231, 45.348097698336126, 45.51490797921994, 45.681718260103764, 45.84852854098758, 46.015338821871396, 46.18214910275521, 46.34895938363903, 46.51576966452284, 46.68257994540666, 46.849390226290474, 47.01620050717429, 47.18301078805811, 47.34982106894193, 47.516631349825744, 47.68344163070956, 47.850251911593375, 48.01706219247719, 48.183872473361006, 48.35068275424483, 48.517493035128645, 48.68430331601246, 48.851113596896276, 49.01792387778009, 49.18473415866391, 49.35154443954772, 49.518354720431546, 49.685165001315355, 49.85197528219918, 50.01878556308299, 50.18559584396681, 50.352406124850624, 50.51921640573444, 50.68602668661826, 50.85283696750207, 51.019647248385894, 51.18645752926971, 51.353267810153525, 51.52007809103734, 51.68688837192116, 51.85369865280498, 52.020508933688795, 52.18731921457261], [35.571082742761696, 35.73789302364551, 35.90470330452933, 36.07151358541314, 36.238323866296966, 36.40513414718078, 36.5719444280646, 36.73875470894841, 36.90556498983223, 37.072375270716044, 37.23918555159986, 37.40599583248368, 37.57280611336749, 37.739616394251314, 37.90642667513513, 38.073236956018945, 38.24004723690276, 38.40685751778658, 38.57366779867039, 38.74047807955421, 38.90728836043803, 39.07409864132185, 39.24090892220566, 39.40771920308948, 39.57452948397329, 39.74133976485711, 39.908150045740925, 40.07496032662475, 40.24177060750856, 40.40858088839238, 40.575391169276195, 40.74220145016001, 40.909011731043826, 41.07582201192764, 41.242632292811464, 41.40944257369528, 41.576252854579096, 41.74306313546291, 41.90987341634673, 42.07668369723054, 42.24349397811436, 42.41030425899818, 42.57711453988199, 42.74392482076581, 42.91073510164963, 43.077545382533444, 43.24435566341726, 43.411165944301075, 43.57797622518489, 43.744786506068706, 43.91159678695253, 44.078407067836345, 44.24521734872016, 44.412027629603976, 44.57883791048779, 44.74564819137161, 44.91245847225542, 45.079268753139246, 45.246079034023055, 45.41288931490688, 45.57969959579069, 45.74650987667451, 45.913320157558324, 46.08013043844214, 46.24694071932596, 46.41375100020977, 46.580561281093594, 46.74737156197741, 46.914181842861225, 47.08099212374504, 47.24780240462886, 47.41461268551268, 47.58142296639649, 47.74823324728031, 47.91504352816413, 48.08185380904794, 48.24866408993176, 48.41547437081557, 48.58228465169939, 48.749094932583205, 48.91590521346703, 49.08271549435084, 49.24952577523466, 49.416336056118475, 49.58314633700229, 49.749956617886106, 49.91676689876992, 50.083577179653744, 50.25038746053756, 50.417197741421376, 50.58400802230519, 50.75081830318901, 50.91762858407282, 51.08443886495664, 51.251249145840454, 51.41805942672428, 51.58486970760809, 51.75167998849191, 51.918490269375724, 52.08530055025955], [35.469064078448625, 35.63587435933245, 35.80268464021626, 35.96949492110008, 36.136305201983895, 36.30311548286771, 36.469925763751526, 36.63673604463534, 36.803546325519164, 36.97035660640298, 37.137166887286796, 37.30397716817061, 37.47078744905443, 37.63759772993824, 37.80440801082206, 37.97121829170588, 38.13802857258969, 38.30483885347351, 38.47164913435733, 38.638459415241144, 38.80526969612496, 38.972079977008775, 39.1388902578926, 39.30570053877641, 39.47251081966023, 39.639321100544045, 39.80613138142786, 39.972941662311676, 40.13975194319549, 40.30656222407931, 40.47337250496312, 40.640182785846946, 40.80699306673076, 40.97380334761458, 41.14061362849839, 41.30742390938221, 41.474234190266024, 41.64104447114984, 41.80785475203366, 41.97466503291748, 42.141475313801294, 42.30828559468511, 42.475095875568925, 42.64190615645274, 42.80871643733656, 42.97552671822038, 43.14233699910419, 43.30914727998801, 43.47595756087183, 43.64276784175564, 43.80957812263946, 43.97638840352327, 44.14319868440709, 44.310008965290905, 44.47681924617473, 44.64362952705854, 44.81043980794236, 44.977250088826175, 45.14406036970999, 45.310870650593806, 45.47768093147762, 45.644491212361444, 45.81130149324525, 45.978111774129076, 46.14492205501289, 46.31173233589671, 46.47854261678052, 46.64535289766434, 46.81216317854816, 46.97897345943197, 47.14578374031579, 47.31259402119961, 47.479404302083424, 47.64621458296724, 47.813024863851055, 47.97983514473488, 48.146645425618686, 48.31345570650251, 48.480265987386325, 48.64707626827014, 48.813886549153956, 48.98069683003777, 49.147507110921595, 49.3143173918054, 49.481127672689226, 49.64793795357304, 49.81474823445686, 49.98155851534067, 50.14836879622449, 50.31517907710831, 50.48198935799212, 50.648799638875936, 50.81560991975975, 50.982420200643574, 51.14923048152739, 51.316040762411205, 51.48285104329503, 51.64966132417884, 51.81647160506266, 51.983281885946475], [35.36704541413556, 35.533855695019376, 35.70066597590319, 35.867476256787015, 36.03428653767082, 36.201096818554646, 36.36790709943846, 36.53471738032228, 36.70152766120609, 36.86833794208991, 37.035148222973724, 37.20195850385754, 37.36876878474136, 37.53557906562518, 37.702389346508994, 37.86919962739281, 38.036009908276625, 38.20282018916044, 38.36963047004426, 38.53644075092808, 38.703251031811895, 38.87006131269571, 39.03687159357953, 39.20368187446334, 39.37049215534716, 39.53730243623097, 39.70411271711479, 39.870922997998605, 40.03773327888243, 40.20454355976624, 40.37135384065006, 40.538164121533875, 40.70497440241769, 40.871784683301506, 41.03859496418532, 41.205405245069144, 41.37221552595296, 41.539025806836776, 41.70583608772059, 41.87264636860441, 42.03945664948822, 42.20626693037204, 42.37307721125586, 42.53988749213968, 42.70669777302349, 42.87350805390731, 43.040318334791124, 43.20712861567494, 43.373938896558755, 43.54074917744258, 43.707559458326394, 43.87436973921021, 44.041180020094025, 44.20799030097784, 44.374800581861656, 44.54161086274547, 44.708421143629295, 44.8752314245131, 45.042041705396926, 45.20885198628074, 45.37566226716456, 45.54247254804837, 45.70928282893219, 45.876093109816004, 46.04290339069982, 46.20971367158364, 46.37652395246746, 46.543334233351274, 46.71014451423509, 46.876954795118905, 47.04376507600272, 47.21057535688654, 47.37738563777036, 47.54419591865417, 47.71100619953799, 47.87781648042181, 48.04462676130562, 48.21143704218944, 48.37824732307325, 48.545057603957076, 48.711867884840885, 48.87867816572471, 49.04548844660852, 49.21229872749234, 49.379109008376155, 49.54591928925997, 49.71272957014379, 49.8795398510276, 50.046350131911424, 50.21316041279524, 50.379970693679056, 50.54678097456287, 50.71359125544669, 50.8804015363305, 51.04721181721432, 51.21402209809814, 51.38083237898196, 51.54764265986577, 51.71445294074959, 51.881263221633404], [35.265026749822496, 35.431837030706305, 35.59864731159013, 35.76545759247394, 35.93226787335776, 36.099078154241575, 36.26588843512539, 36.43269871600921, 36.59950899689302, 36.766319277776844, 36.93312955866066, 37.099939839544476, 37.26675012042829, 37.43356040131211, 37.60037068219592, 37.76718096307974, 37.93399124396356, 38.10080152484738, 38.26761180573119, 38.43442208661501, 38.601232367498824, 38.76804264838264, 38.934852929266455, 39.10166321015028, 39.268473491034094, 39.43528377191791, 39.602094052801725, 39.76890433368554, 39.935714614569356, 40.10252489545317, 40.269335176336995, 40.4361454572208, 40.602955738104626, 40.76976601898844, 40.93657629987226, 41.10338658075607, 41.27019686163989, 41.437007142523704, 41.60381742340752, 41.77062770429134, 41.93743798517516, 42.104248266058974, 42.27105854694279, 42.437868827826605, 42.60467910871042, 42.77148938959424, 42.93829967047806, 43.105109951361875, 43.27192023224569, 43.43873051312951, 43.60554079401332, 43.77235107489714, 43.93916135578095, 44.105971636664776, 44.27278191754859, 44.43959219843241, 44.60640247931622, 44.77321276020004, 44.940023041083855, 45.10683332196767, 45.27364360285149, 45.44045388373531, 45.607264164619124, 45.77407444550294, 45.940884726386756, 46.10769500727057, 46.27450528815439, 46.4413155690382, 46.60812584992202, 46.77493613080584, 46.94174641168966, 47.10855669257347, 47.27536697345729, 47.442177254341104, 47.60898753522492, 47.775797816108735, 47.94260809699256, 48.10941837787637, 48.27622865876019, 48.443038939644005, 48.60984922052782, 48.776659501411636, 48.94346978229545, 49.110280063179275, 49.27709034406308, 49.443900624946906, 49.61071090583072, 49.77752118671454, 49.94433146759835, 50.11114174848217, 50.27795202936599, 50.4447623102498, 50.61157259113362, 50.77838287201744, 50.945193152901254, 51.11200343378507, 51.278813714668885, 51.44562399555271, 51.612434276436524, 51.77924455732034], [35.163008085509425, 35.32981836639324, 35.496628647277056, 35.66343892816087, 35.830249209044695, 35.99705948992851, 36.163869770812326, 36.33068005169614, 36.49749033257996, 36.66430061346377, 36.83111089434759, 36.99792117523141, 37.16473145611522, 37.33154173699904, 37.49835201788286, 37.665162298766674, 37.83197257965049, 37.998782860534305, 38.16559314141812, 38.33240342230194, 38.49921370318576, 38.666023984069575, 38.83283426495339, 38.99964454583721, 39.16645482672102, 39.33326510760484, 39.50007538848865, 39.666885669372476, 39.83369595025629, 40.00050623114011, 40.16731651202392, 40.33412679290774, 40.500937073791555, 40.66774735467537, 40.83455763555919, 41.00136791644301, 41.168178197326824, 41.33498847821064, 41.501798759094456, 41.66860903997827, 41.83541932086209, 42.00222960174591, 42.16903988262972, 42.33585016351354, 42.50266044439736, 42.66947072528117, 42.83628100616499, 43.003091287048804, 43.16990156793262, 43.336711848816435, 43.50352212970026, 43.670332410584074, 43.83714269146789, 44.003952972351705, 44.17076325323552, 44.337573534119336, 44.50438381500315, 44.671194095886975, 44.83800437677078, 45.004814657654606, 45.17162493853842, 45.33843521942224, 45.50524550030605, 45.67205578118987, 45.83886606207369, 46.0056763429575, 46.17248662384132, 46.33929690472514, 46.506107185608954, 46.67291746649277, 46.839727747376585, 47.00653802826041, 47.17334830914422, 47.34015859002804, 47.506968870911855, 47.67377915179567, 47.84058943267949, 48.0073997135633, 48.17420999444712, 48.34102027533093, 48.507830556214756, 48.67464083709857, 48.84145111798239, 49.0082613988662, 49.17507167975002, 49.341881960633835, 49.50869224151765, 49.67550252240147, 49.84231280328529, 50.009123084169104, 50.17593336505292, 50.342743645936736, 50.50955392682055, 50.67636420770437, 50.84317448858818, 51.009984769472005, 51.17679505035582, 51.34360533123964, 51.51041561212345, 51.677225893007275], [35.06098942119635, 35.227799702080176, 35.39460998296399, 35.56142026384781, 35.72823054473162, 35.89504082561544, 36.061851106499255, 36.22866138738307, 36.39547166826689, 36.56228194915071, 36.729092230034524, 36.89590251091834, 37.062712791802156, 37.22952307268597, 37.39633335356979, 37.56314363445361, 37.72995391533742, 37.89676419622124, 38.06357447710506, 38.23038475798887, 38.39719503887269, 38.564005319756504, 38.73081560064033, 38.897625881524135, 39.06443616240796, 39.231246443291774, 39.39805672417559, 39.564867005059405, 39.73167728594322, 39.898487566827036, 40.06529784771085, 40.232108128594675, 40.39891840947849, 40.565728690362306, 40.73253897124612, 40.89934925212994, 41.06615953301375, 41.23296981389757, 41.39978009478139, 41.56659037566521, 41.73340065654902, 41.90021093743284, 42.067021218316654, 42.23383149920047, 42.400641780084285, 42.56745206096811, 42.73426234185192, 42.90107262273574, 43.067882903619555, 43.23469318450337, 43.40150346538719, 43.568313746271, 43.73512402715482, 43.90193430803863, 44.068744588922456, 44.23555486980627, 44.40236515069009, 44.5691754315739, 44.73598571245772, 44.902795993341535, 45.06960627422535, 45.23641655510917, 45.40322683599298, 45.570037116876804, 45.73684739776062, 45.903657678644436, 46.07046795952825, 46.23727824041207, 46.40408852129589, 46.5708988021797, 46.73770908306352, 46.90451936394734, 47.07132964483115, 47.23813992571497, 47.404950206598784, 47.57176048748261, 47.738570768366415, 47.90538104925024, 48.07219133013405, 48.23900161101787, 48.405811891901685, 48.5726221727855, 48.73943245366932, 48.90624273455313, 49.073053015436955, 49.23986329632077, 49.406673577204586, 49.5734838580884, 49.74029413897222, 49.90710441985604, 50.07391470073985, 50.240724981623664, 50.40753526250748, 50.5743455433913, 50.74115582427512, 50.907966105158934, 51.07477638604276, 51.241586666926565, 51.40839694781039, 51.575207228694204], [34.95897075688329, 35.125781037767105, 35.29259131865092, 35.45940159953474, 35.62621188041855, 35.793022161302375, 35.95983244218619, 36.126642723070006, 36.29345300395382, 36.46026328483764, 36.62707356572145, 36.79388384660527, 36.96069412748909, 37.12750440837291, 37.29431468925672, 37.46112497014054, 37.627935251024354, 37.79474553190817, 37.961555812791985, 38.12836609367581, 38.295176374559624, 38.46198665544344, 38.628796936327255, 38.79560721721107, 38.96241749809489, 39.1292277789787, 39.29603805986252, 39.46284834074633, 39.629658621630156, 39.79646890251397, 39.96327918339779, 40.1300894642816, 40.29689974516542, 40.463710026049235, 40.63052030693305, 40.79733058781687, 40.96414086870069, 41.130951149584504, 41.29776143046832, 41.464571711352136, 41.63138199223595, 41.79819227311977, 41.96500255400359, 42.131812834887405, 42.29862311577122, 42.46543339665504, 42.63224367753885, 42.79905395842267, 42.965864239306484, 43.13267452019031, 43.29948480107412, 43.46629508195794, 43.633105362841754, 43.79991564372557, 43.966725924609385, 44.1335362054932, 44.30034648637702, 44.46715676726083, 44.633967048144655, 44.80077732902847, 44.967587609912286, 45.1343978907961, 45.30120817167992, 45.46801845256373, 45.63482873344755, 45.80163901433137, 45.96844929521519, 46.135259576099, 46.30206985698282, 46.468880137866634, 46.63569041875045, 46.802500699634265, 46.96931098051809, 47.1361212614019, 47.30293154228572, 47.469741823169535, 47.63655210405335, 47.80336238493717, 47.97017266582098, 48.136982946704805, 48.30379322758861, 48.470603508472436, 48.63741378935625, 48.80422407024007, 48.97103435112388, 49.1378446320077, 49.30465491289152, 49.47146519377533, 49.63827547465915, 49.80508575554297, 49.971896036426784, 50.1387063173106, 50.305516598194416, 50.47232687907823, 50.63913715996205, 50.80594744084587, 50.972757721729685, 51.1395680026135, 51.30637828349732, 51.47318856438113], [34.856952092570225, 35.02376237345403, 35.190572654337856, 35.35738293522167, 35.52419321610549, 35.6910034969893, 35.85781377787312, 36.02462405875694, 36.19143433964075, 36.35824462052457, 36.52505490140839, 36.691865182292204, 36.85867546317602, 37.025485744059836, 37.19229602494365, 37.35910630582747, 37.52591658671129, 37.692726867595105, 37.85953714847892, 38.02634742936274, 38.19315771024655, 38.35996799113037, 38.526778272014184, 38.69358855289801, 38.86039883378182, 39.02720911466564, 39.194019395549454, 39.36082967643327, 39.527639957317085, 39.6944502382009, 39.86126051908472, 40.02807079996853, 40.194881080852355, 40.36169136173617, 40.528501642619986, 40.6953119235038, 40.86212220438762, 41.02893248527143, 41.19574276615525, 41.36255304703907, 41.52936332792289, 41.6961736088067, 41.86298388969052, 42.029794170574334, 42.19660445145815, 42.363414732341965, 42.53022501322579, 42.697035294109604, 42.86384557499342, 43.030655855877235, 43.19746613676105, 43.36427641764487, 43.53108669852868, 43.697896979412505, 43.86470726029632, 44.031517541180136, 44.19832782206395, 44.36513810294777, 44.53194838383158, 44.6987586647154, 44.86556894559922, 45.03237922648304, 45.19918950736685, 45.36599978825067, 45.532810069134484, 45.6996203500183, 45.866430630902116, 46.03324091178593, 46.20005119266975, 46.36686147355357, 46.533671754437385, 46.7004820353212, 46.86729231620502, 47.03410259708883, 47.20091287797265, 47.367723158856464, 47.53453343974029, 47.7013437206241, 47.86815400150792, 48.03496428239173, 48.20177456327555, 48.368584844159365, 48.53539512504318, 48.702205405927, 48.86901568681081, 49.035825967694635, 49.20263624857845, 49.369446529462266, 49.53625681034608, 49.7030670912299, 49.86987737211372, 50.03668765299753, 50.20349793388135, 50.37030821476517, 50.53711849564898, 50.7039287765328, 50.870739057416614, 51.03754933830044, 51.20435961918425, 51.37116990006807], [34.754933428257154, 34.92174370914097, 35.088553990024785, 35.2553642709086, 35.42217455179242, 35.58898483267624, 35.755795113560055, 35.92260539444387, 36.089415675327686, 36.2562259562115, 36.42303623709532, 36.58984651797914, 36.75665679886295, 36.92346707974677, 37.09027736063059, 37.2570876415144, 37.42389792239822, 37.590708203282034, 37.75751848416585, 37.924328765049665, 38.09113904593349, 38.257949326817304, 38.42475960770112, 38.591569888584935, 38.75838016946875, 38.92519045035257, 39.09200073123638, 39.258811012120205, 39.42562129300402, 39.592431573887836, 39.75924185477165, 39.92605213565547, 40.09286241653928, 40.2596726974231, 40.42648297830692, 40.59329325919074, 40.76010354007455, 40.92691382095837, 41.093724101842184, 41.260534382726, 41.427344663609816, 41.59415494449364, 41.76096522537745, 41.92777550626127, 42.094585787145085, 42.2613960680289, 42.42820634891272, 42.59501662979653, 42.76182691068035, 42.928637191564164, 43.09544747244799, 43.2622577533318, 43.42906803421562, 43.595878315099434, 43.76268859598325, 43.929498876867065, 44.09630915775088, 44.2631194386347, 44.42992971951851, 44.596740000402335, 44.76355028128615, 44.930360562169966, 45.09717084305378, 45.2639811239376, 45.43079140482142, 45.59760168570523, 45.76441196658905, 45.93122224747287, 46.09803252835668, 46.2648428092405, 46.431653090124314, 46.59846337100814, 46.765273651891945, 46.93208393277577, 47.098894213659584, 47.2657044945434, 47.432514775427215, 47.59932505631103, 47.76613533719485, 47.93294561807866, 48.099755898962485, 48.2665661798463, 48.433376460730116, 48.60018674161393, 48.76699702249775, 48.93380730338156, 49.10061758426538, 49.2674278651492, 49.43423814603302, 49.60104842691683, 49.76785870780065, 49.934668988684464, 50.10147926956828, 50.268289550452096, 50.43509983133591, 50.601910112219734, 50.76872039310355, 50.935530673987365, 51.10234095487118, 51.269151235755004]]}],\n",
              "                        {\"legend\": {\"tracegroupgap\": 0}, \"scene\": {\"domain\": {\"x\": [0.0, 1.0], \"y\": [0.0, 1.0]}, \"xaxis\": {\"title\": {\"text\": \"Average Recent Growth in Personal Incomes\"}}, \"yaxis\": {\"title\": {\"text\": \"US Military Fatalities per Million\"}}, \"zaxis\": {\"title\": {\"text\": \"Incumbent Party Vote Share\"}}}, \"template\": {\"data\": {\"bar\": [{\"error_x\": {\"color\": \"#2a3f5f\"}, \"error_y\": {\"color\": \"#2a3f5f\"}, \"marker\": {\"line\": {\"color\": \"#E5ECF6\", \"width\": 0.5}}, \"type\": \"bar\"}], \"barpolar\": [{\"marker\": {\"line\": {\"color\": \"#E5ECF6\", \"width\": 0.5}}, \"type\": \"barpolar\"}], \"carpet\": [{\"aaxis\": {\"endlinecolor\": \"#2a3f5f\", \"gridcolor\": \"white\", \"linecolor\": \"white\", \"minorgridcolor\": \"white\", \"startlinecolor\": \"#2a3f5f\"}, \"baxis\": {\"endlinecolor\": \"#2a3f5f\", \"gridcolor\": \"white\", \"linecolor\": \"white\", \"minorgridcolor\": \"white\", \"startlinecolor\": \"#2a3f5f\"}, \"type\": \"carpet\"}], \"choropleth\": [{\"colorbar\": {\"outlinewidth\": 0, \"ticks\": \"\"}, \"type\": \"choropleth\"}], \"contour\": [{\"colorbar\": {\"outlinewidth\": 0, \"ticks\": \"\"}, \"colorscale\": [[0.0, \"#0d0887\"], [0.1111111111111111, \"#46039f\"], [0.2222222222222222, \"#7201a8\"], [0.3333333333333333, \"#9c179e\"], [0.4444444444444444, \"#bd3786\"], [0.5555555555555556, \"#d8576b\"], [0.6666666666666666, \"#ed7953\"], [0.7777777777777778, \"#fb9f3a\"], [0.8888888888888888, \"#fdca26\"], [1.0, \"#f0f921\"]], \"type\": \"contour\"}], \"contourcarpet\": [{\"colorbar\": {\"outlinewidth\": 0, \"ticks\": \"\"}, \"type\": \"contourcarpet\"}], \"heatmap\": [{\"colorbar\": {\"outlinewidth\": 0, \"ticks\": \"\"}, \"colorscale\": [[0.0, \"#0d0887\"], [0.1111111111111111, \"#46039f\"], [0.2222222222222222, \"#7201a8\"], [0.3333333333333333, \"#9c179e\"], [0.4444444444444444, \"#bd3786\"], [0.5555555555555556, \"#d8576b\"], [0.6666666666666666, \"#ed7953\"], [0.7777777777777778, \"#fb9f3a\"], [0.8888888888888888, \"#fdca26\"], [1.0, \"#f0f921\"]], \"type\": \"heatmap\"}], \"heatmapgl\": [{\"colorbar\": {\"outlinewidth\": 0, \"ticks\": \"\"}, \"colorscale\": [[0.0, \"#0d0887\"], [0.1111111111111111, \"#46039f\"], [0.2222222222222222, \"#7201a8\"], [0.3333333333333333, \"#9c179e\"], [0.4444444444444444, \"#bd3786\"], [0.5555555555555556, \"#d8576b\"], [0.6666666666666666, \"#ed7953\"], [0.7777777777777778, \"#fb9f3a\"], [0.8888888888888888, \"#fdca26\"], [1.0, \"#f0f921\"]], \"type\": \"heatmapgl\"}], \"histogram\": [{\"marker\": {\"colorbar\": {\"outlinewidth\": 0, \"ticks\": \"\"}}, \"type\": \"histogram\"}], \"histogram2d\": [{\"colorbar\": {\"outlinewidth\": 0, \"ticks\": \"\"}, \"colorscale\": [[0.0, \"#0d0887\"], [0.1111111111111111, \"#46039f\"], [0.2222222222222222, \"#7201a8\"], [0.3333333333333333, \"#9c179e\"], [0.4444444444444444, \"#bd3786\"], [0.5555555555555556, \"#d8576b\"], [0.6666666666666666, \"#ed7953\"], [0.7777777777777778, \"#fb9f3a\"], [0.8888888888888888, \"#fdca26\"], [1.0, \"#f0f921\"]], \"type\": \"histogram2d\"}], \"histogram2dcontour\": [{\"colorbar\": {\"outlinewidth\": 0, \"ticks\": \"\"}, \"colorscale\": [[0.0, \"#0d0887\"], [0.1111111111111111, \"#46039f\"], [0.2222222222222222, \"#7201a8\"], [0.3333333333333333, \"#9c179e\"], [0.4444444444444444, \"#bd3786\"], [0.5555555555555556, \"#d8576b\"], [0.6666666666666666, \"#ed7953\"], [0.7777777777777778, \"#fb9f3a\"], [0.8888888888888888, \"#fdca26\"], [1.0, \"#f0f921\"]], \"type\": \"histogram2dcontour\"}], \"mesh3d\": [{\"colorbar\": {\"outlinewidth\": 0, \"ticks\": \"\"}, \"type\": \"mesh3d\"}], \"parcoords\": [{\"line\": {\"colorbar\": {\"outlinewidth\": 0, \"ticks\": \"\"}}, \"type\": \"parcoords\"}], \"pie\": [{\"automargin\": true, \"type\": \"pie\"}], \"scatter\": [{\"marker\": {\"colorbar\": {\"outlinewidth\": 0, \"ticks\": \"\"}}, \"type\": \"scatter\"}], \"scatter3d\": [{\"line\": {\"colorbar\": {\"outlinewidth\": 0, \"ticks\": \"\"}}, \"marker\": {\"colorbar\": {\"outlinewidth\": 0, \"ticks\": \"\"}}, \"type\": \"scatter3d\"}], \"scattercarpet\": [{\"marker\": {\"colorbar\": {\"outlinewidth\": 0, \"ticks\": \"\"}}, \"type\": \"scattercarpet\"}], \"scattergeo\": [{\"marker\": {\"colorbar\": {\"outlinewidth\": 0, \"ticks\": \"\"}}, \"type\": \"scattergeo\"}], \"scattergl\": [{\"marker\": {\"colorbar\": {\"outlinewidth\": 0, \"ticks\": \"\"}}, \"type\": \"scattergl\"}], \"scattermapbox\": [{\"marker\": {\"colorbar\": {\"outlinewidth\": 0, \"ticks\": \"\"}}, \"type\": \"scattermapbox\"}], \"scatterpolar\": [{\"marker\": {\"colorbar\": {\"outlinewidth\": 0, \"ticks\": \"\"}}, \"type\": \"scatterpolar\"}], \"scatterpolargl\": [{\"marker\": {\"colorbar\": {\"outlinewidth\": 0, \"ticks\": \"\"}}, \"type\": \"scatterpolargl\"}], \"scatterternary\": [{\"marker\": {\"colorbar\": {\"outlinewidth\": 0, \"ticks\": \"\"}}, \"type\": \"scatterternary\"}], \"surface\": [{\"colorbar\": {\"outlinewidth\": 0, \"ticks\": \"\"}, \"colorscale\": [[0.0, \"#0d0887\"], [0.1111111111111111, \"#46039f\"], [0.2222222222222222, \"#7201a8\"], [0.3333333333333333, \"#9c179e\"], [0.4444444444444444, \"#bd3786\"], [0.5555555555555556, \"#d8576b\"], [0.6666666666666666, \"#ed7953\"], [0.7777777777777778, \"#fb9f3a\"], [0.8888888888888888, \"#fdca26\"], [1.0, \"#f0f921\"]], \"type\": \"surface\"}], \"table\": [{\"cells\": {\"fill\": {\"color\": \"#EBF0F8\"}, \"line\": {\"color\": \"white\"}}, \"header\": {\"fill\": {\"color\": \"#C8D4E3\"}, \"line\": {\"color\": \"white\"}}, \"type\": \"table\"}]}, \"layout\": {\"annotationdefaults\": {\"arrowcolor\": \"#2a3f5f\", \"arrowhead\": 0, \"arrowwidth\": 1}, \"coloraxis\": {\"colorbar\": {\"outlinewidth\": 0, \"ticks\": \"\"}}, \"colorscale\": {\"diverging\": [[0, \"#8e0152\"], [0.1, \"#c51b7d\"], [0.2, \"#de77ae\"], [0.3, \"#f1b6da\"], [0.4, \"#fde0ef\"], [0.5, \"#f7f7f7\"], [0.6, \"#e6f5d0\"], [0.7, \"#b8e186\"], [0.8, \"#7fbc41\"], [0.9, \"#4d9221\"], [1, \"#276419\"]], \"sequential\": [[0.0, \"#0d0887\"], [0.1111111111111111, \"#46039f\"], [0.2222222222222222, \"#7201a8\"], [0.3333333333333333, \"#9c179e\"], [0.4444444444444444, \"#bd3786\"], [0.5555555555555556, \"#d8576b\"], [0.6666666666666666, \"#ed7953\"], [0.7777777777777778, \"#fb9f3a\"], [0.8888888888888888, \"#fdca26\"], [1.0, \"#f0f921\"]], \"sequentialminus\": [[0.0, \"#0d0887\"], [0.1111111111111111, \"#46039f\"], [0.2222222222222222, \"#7201a8\"], [0.3333333333333333, \"#9c179e\"], [0.4444444444444444, \"#bd3786\"], [0.5555555555555556, \"#d8576b\"], [0.6666666666666666, \"#ed7953\"], [0.7777777777777778, \"#fb9f3a\"], [0.8888888888888888, \"#fdca26\"], [1.0, \"#f0f921\"]]}, \"colorway\": [\"#636efa\", \"#EF553B\", \"#00cc96\", \"#ab63fa\", \"#FFA15A\", \"#19d3f3\", \"#FF6692\", \"#B6E880\", \"#FF97FF\", \"#FECB52\"], \"font\": {\"color\": \"#2a3f5f\"}, \"geo\": {\"bgcolor\": \"white\", \"lakecolor\": \"white\", \"landcolor\": \"#E5ECF6\", \"showlakes\": true, \"showland\": true, \"subunitcolor\": \"white\"}, \"hoverlabel\": {\"align\": \"left\"}, \"hovermode\": \"closest\", \"mapbox\": {\"style\": \"light\"}, \"paper_bgcolor\": \"white\", \"plot_bgcolor\": \"#E5ECF6\", \"polar\": {\"angularaxis\": {\"gridcolor\": \"white\", \"linecolor\": \"white\", \"ticks\": \"\"}, \"bgcolor\": \"#E5ECF6\", \"radialaxis\": {\"gridcolor\": \"white\", \"linecolor\": \"white\", \"ticks\": \"\"}}, \"scene\": {\"xaxis\": {\"backgroundcolor\": \"#E5ECF6\", \"gridcolor\": \"white\", \"gridwidth\": 2, \"linecolor\": \"white\", \"showbackground\": true, \"ticks\": \"\", \"zerolinecolor\": \"white\"}, \"yaxis\": {\"backgroundcolor\": \"#E5ECF6\", \"gridcolor\": \"white\", \"gridwidth\": 2, \"linecolor\": \"white\", \"showbackground\": true, \"ticks\": \"\", \"zerolinecolor\": \"white\"}, \"zaxis\": {\"backgroundcolor\": \"#E5ECF6\", \"gridcolor\": \"white\", \"gridwidth\": 2, \"linecolor\": \"white\", \"showbackground\": true, \"ticks\": \"\", \"zerolinecolor\": \"white\"}}, \"shapedefaults\": {\"line\": {\"color\": \"#2a3f5f\"}}, \"ternary\": {\"aaxis\": {\"gridcolor\": \"white\", \"linecolor\": \"white\", \"ticks\": \"\"}, \"baxis\": {\"gridcolor\": \"white\", \"linecolor\": \"white\", \"ticks\": \"\"}, \"bgcolor\": \"#E5ECF6\", \"caxis\": {\"gridcolor\": \"white\", \"linecolor\": \"white\", \"ticks\": \"\"}}, \"title\": {\"x\": 0.05}, \"xaxis\": {\"automargin\": true, \"gridcolor\": \"white\", \"linecolor\": \"white\", \"ticks\": \"\", \"title\": {\"standoff\": 15}, \"zerolinecolor\": \"white\", \"zerolinewidth\": 2}, \"yaxis\": {\"automargin\": true, \"gridcolor\": \"white\", \"linecolor\": \"white\", \"ticks\": \"\", \"title\": {\"standoff\": 15}, \"zerolinecolor\": \"white\", \"zerolinewidth\": 2}}}, \"title\": {\"text\": \"US Presidential Elections, 1952-2004\"}},\n",
              "                        {\"responsive\": true}\n",
              "                    ).then(function(){\n",
              "                            \n",
              "var gd = document.getElementById('fced3b99-d213-49c6-b9f1-3dc1ae53c987');\n",
              "var x = new MutationObserver(function (mutations, observer) {{\n",
              "        var display = window.getComputedStyle(gd).display;\n",
              "        if (!display || display === 'none') {{\n",
              "            console.log([gd, 'removed!']);\n",
              "            Plotly.purge(gd);\n",
              "            observer.disconnect();\n",
              "        }}\n",
              "}});\n",
              "\n",
              "// Listen for the removal of the full notebook cells\n",
              "var notebookContainer = gd.closest('#notebook-container');\n",
              "if (notebookContainer) {{\n",
              "    x.observe(notebookContainer, {childList: true});\n",
              "}}\n",
              "\n",
              "// Listen for the clearing of the current output cell\n",
              "var outputEl = gd.closest('.output');\n",
              "if (outputEl) {{\n",
              "    x.observe(outputEl, {childList: true});\n",
              "}}\n",
              "\n",
              "                        })\n",
              "                };\n",
              "                \n",
              "            </script>\n",
              "        </div>\n",
              "</body>\n",
              "</html>"
            ]
          },
          "metadata": {
            "tags": []
          }
        }
      ]
    },
    {
      "cell_type": "markdown",
      "metadata": {
        "colab_type": "text",
        "id": "GXOl-Aut5ahE"
      },
      "source": [
        "Where are 1952 & 1968 in relation to the plane? Which elections are the biggest outliers now?"
      ]
    },
    {
      "cell_type": "markdown",
      "metadata": {
        "colab_type": "text",
        "id": "vHAHyrNC5ahE"
      },
      "source": [
        "Roll over points on the plane to see predicted incumbent party vote share (z axis), dependent on personal income growth (x axis) and military fatatlies per capita (y axis)."
      ]
    },
    {
      "cell_type": "markdown",
      "metadata": {
        "colab_type": "text",
        "id": "SJ490-qEvfSr"
      },
      "source": [
        "### Get and interpret coefficients"
      ]
    },
    {
      "cell_type": "markdown",
      "metadata": {
        "colab_type": "text",
        "id": "8YR1p7eexIf6"
      },
      "source": [
        "During the previous module, we got the simple regression's coefficient and intercept. We plugged these numbers into an equation for the line of best fit, in slope-intercept form: $y = mx + b$\n",
        "\n",
        "Let's review this objective, but now for multiple regression.\n",
        "\n",
        "What's the equation for the plane of best fit?\n",
        "\n",
        "$y = \\beta_0 + \\beta_1x_1 + \\beta_2x_2$\n",
        "\n",
        "Can you relate the intercept and coefficients to what you see in the plot above?"
      ]
    },
    {
      "cell_type": "code",
      "metadata": {
        "colab_type": "code",
        "id": "lFhJqqSS-i9d",
        "colab": {
          "base_uri": "https://localhost:8080/",
          "height": 34
        },
        "outputId": "28140394-e805-4ea8-dd3c-3ae6022c4a62"
      },
      "source": [
        "model.intercept_, model.coef_"
      ],
      "execution_count": null,
      "outputs": [
        {
          "output_type": "execute_result",
          "data": {
            "text/plain": [
              "(46.25489966153873, array([ 3.59004735, -0.05315709]))"
            ]
          },
          "metadata": {
            "tags": []
          },
          "execution_count": 30
        }
      ]
    },
    {
      "cell_type": "code",
      "metadata": {
        "colab_type": "code",
        "id": "dxXoa0FW5ahH",
        "colab": {
          "base_uri": "https://localhost:8080/",
          "height": 34
        },
        "outputId": "f0002e17-8926-4089-f427-8cfda66e7322"
      },
      "source": [
        "beta0 = model.intercept_\n",
        "beta1, beta2 = model.coef_\n",
        "print(f'y = {beta0} + {beta1}x1 + {beta2}x2')"
      ],
      "execution_count": null,
      "outputs": [
        {
          "output_type": "stream",
          "text": [
            "y = 46.25489966153873 + 3.5900473494560536x1 + -0.05315709351049324x2\n"
          ],
          "name": "stdout"
        }
      ]
    },
    {
      "cell_type": "code",
      "metadata": {
        "colab_type": "code",
        "id": "_DivQmKEDcit",
        "colab": {
          "base_uri": "https://localhost:8080/",
          "height": 68
        },
        "outputId": "29aa11b8-7f3d-4bfc-83d1-e6b43b16fc4c"
      },
      "source": [
        "# This is easier to read\n",
        "print('Intercept', model.intercept_)\n",
        "coefficients = pd.Series(model.coef_, features)\n",
        "print(coefficients.to_string())\n",
        "\n",
        "# Coefficient = Rise / Run\n",
        "# Coefficient = Change in Y / Change in X\n",
        "# Example in module 1: $ Sales Price of a Condo / Number of Square feet = $3076 Price per Square Feet\n",
        "\n",
        "# Coefficient = Incumbent Party Vote Share Percentage / Number of US Military Fatalities"
      ],
      "execution_count": null,
      "outputs": [
        {
          "output_type": "stream",
          "text": [
            "Intercept 46.25489966153873\n",
            "Average Recent Growth in Personal Incomes    3.590047\n",
            "US Military Fatalities per Million          -0.053157\n"
          ],
          "name": "stdout"
        }
      ]
    },
    {
      "cell_type": "markdown",
      "metadata": {
        "colab_type": "text",
        "id": "Vf8s9srD5ahM"
      },
      "source": [
        "One of the coefficients is positive, and the other is negative. What does this mean?"
      ]
    },
    {
      "cell_type": "markdown",
      "metadata": {
        "id": "9MnC-U4yeMTz",
        "colab_type": "text"
      },
      "source": [
        "Let's look at some scenarios. We'll see that one unit's change in an independent variable results in a coefficient worth of change in the dependent variable."
      ]
    },
    {
      "cell_type": "markdown",
      "metadata": {
        "colab_type": "text",
        "id": "TAQjaiHoxR-7"
      },
      "source": [
        "What does the model predict if income growth=0%, fatalities=0"
      ]
    },
    {
      "cell_type": "code",
      "metadata": {
        "colab_type": "code",
        "id": "Rup9q-6gAIZD",
        "colab": {
          "base_uri": "https://localhost:8080/",
          "height": 34
        },
        "outputId": "b1f86276-9957-4d53-80be-a2d816f2b1c6"
      },
      "source": [
        "model.predict([[0, 0]])"
      ],
      "execution_count": null,
      "outputs": [
        {
          "output_type": "execute_result",
          "data": {
            "text/plain": [
              "array([46.25489966])"
            ]
          },
          "metadata": {
            "tags": []
          },
          "execution_count": 33
        }
      ]
    },
    {
      "cell_type": "markdown",
      "metadata": {
        "colab_type": "text",
        "id": "Itt56qYNxYIb"
      },
      "source": [
        "Income growth = 1% (fatalities = 0)"
      ]
    },
    {
      "cell_type": "code",
      "metadata": {
        "colab_type": "code",
        "id": "1onFls9AAh5Z",
        "colab": {
          "base_uri": "https://localhost:8080/",
          "height": 34
        },
        "outputId": "e82e32ea-9de7-4e04-f917-9e4944339f59"
      },
      "source": [
        "model.predict([[1, 0]])"
      ],
      "execution_count": null,
      "outputs": [
        {
          "output_type": "execute_result",
          "data": {
            "text/plain": [
              "array([49.84494701])"
            ]
          },
          "metadata": {
            "tags": []
          },
          "execution_count": 35
        }
      ]
    },
    {
      "cell_type": "markdown",
      "metadata": {
        "colab_type": "text",
        "id": "V5ZMUDjGxdhe"
      },
      "source": [
        "The difference between these predictions = ? "
      ]
    },
    {
      "cell_type": "code",
      "metadata": {
        "colab_type": "code",
        "id": "el1gAUyGApnV",
        "colab": {
          "base_uri": "https://localhost:8080/",
          "height": 34
        },
        "outputId": "9cf21b6c-fc9e-4512-c33e-4d2d33f7ae2e"
      },
      "source": [
        "model.predict([[1, 0]]) - model.predict([[0, 0]])\n",
        "# 3.59% increase incumbent party vote share / 1% increase in income growth "
      ],
      "execution_count": null,
      "outputs": [
        {
          "output_type": "execute_result",
          "data": {
            "text/plain": [
              "array([3.59004735])"
            ]
          },
          "metadata": {
            "tags": []
          },
          "execution_count": 36
        }
      ]
    },
    {
      "cell_type": "markdown",
      "metadata": {
        "colab_type": "text",
        "id": "1U1o9L65xn6_"
      },
      "source": [
        "What if... income growth = 2% (fatalities = 0)"
      ]
    },
    {
      "cell_type": "code",
      "metadata": {
        "colab_type": "code",
        "id": "stfnvUc_A3pM",
        "colab": {
          "base_uri": "https://localhost:8080/",
          "height": 34
        },
        "outputId": "4a6b37c3-ff47-459b-82a3-469f7fc39d69"
      },
      "source": [
        "model.predict([[2, 0]])"
      ],
      "execution_count": null,
      "outputs": [
        {
          "output_type": "execute_result",
          "data": {
            "text/plain": [
              "array([53.43499436])"
            ]
          },
          "metadata": {
            "tags": []
          },
          "execution_count": 37
        }
      ]
    },
    {
      "cell_type": "markdown",
      "metadata": {
        "colab_type": "text",
        "id": "bjp2kDm5xq79"
      },
      "source": [
        "The difference between these predictions = ?"
      ]
    },
    {
      "cell_type": "code",
      "metadata": {
        "colab_type": "code",
        "id": "Zywdu1SJA_hP",
        "colab": {
          "base_uri": "https://localhost:8080/",
          "height": 34
        },
        "outputId": "fa805c57-de6b-46cf-da51-7d6ec42e7467"
      },
      "source": [
        "model.predict([[2, 0]]) - model.predict([[1, 0]])"
      ],
      "execution_count": null,
      "outputs": [
        {
          "output_type": "execute_result",
          "data": {
            "text/plain": [
              "array([3.59004735])"
            ]
          },
          "metadata": {
            "tags": []
          },
          "execution_count": 38
        }
      ]
    },
    {
      "cell_type": "markdown",
      "metadata": {
        "colab_type": "text",
        "id": "klON2yUxxu1_"
      },
      "source": [
        "What if... (income growth=2%) fatalities = 100"
      ]
    },
    {
      "cell_type": "code",
      "metadata": {
        "colab_type": "code",
        "id": "YTFqg0ixBcIH",
        "colab": {
          "base_uri": "https://localhost:8080/",
          "height": 34
        },
        "outputId": "aef8a141-02d0-4d0f-ece3-bc908fd2905d"
      },
      "source": [
        "model.predict([[2, 100]])"
      ],
      "execution_count": null,
      "outputs": [
        {
          "output_type": "execute_result",
          "data": {
            "text/plain": [
              "array([48.11928501])"
            ]
          },
          "metadata": {
            "tags": []
          },
          "execution_count": 39
        }
      ]
    },
    {
      "cell_type": "markdown",
      "metadata": {
        "colab_type": "text",
        "id": "AfqzTR6dxyQ-"
      },
      "source": [
        "The difference between these predictions = ?"
      ]
    },
    {
      "cell_type": "code",
      "metadata": {
        "colab_type": "code",
        "id": "VHtDzQT-Bxel",
        "colab": {
          "base_uri": "https://localhost:8080/",
          "height": 34
        },
        "outputId": "7677307e-04d2-4026-afc5-5bfd1b7e2f5a"
      },
      "source": [
        "model.predict([[2, 100]]) - model.predict([[2, 0]])"
      ],
      "execution_count": null,
      "outputs": [
        {
          "output_type": "execute_result",
          "data": {
            "text/plain": [
              "array([-5.31570935])"
            ]
          },
          "metadata": {
            "tags": []
          },
          "execution_count": 40
        }
      ]
    },
    {
      "cell_type": "markdown",
      "metadata": {
        "colab_type": "text",
        "id": "6-3Whu9gx2ac"
      },
      "source": [
        "What if income growth = 3% (fatalities = 100)"
      ]
    },
    {
      "cell_type": "code",
      "metadata": {
        "colab_type": "code",
        "id": "2ge-czWaCAWQ",
        "colab": {}
      },
      "source": [
        "model.predict([[3, 100]])"
      ],
      "execution_count": null,
      "outputs": []
    },
    {
      "cell_type": "markdown",
      "metadata": {
        "colab_type": "text",
        "id": "x7wDd61ax6Kk"
      },
      "source": [
        "The difference between these predictions = ?"
      ]
    },
    {
      "cell_type": "code",
      "metadata": {
        "colab_type": "code",
        "id": "ZDWbZ1duCJLS",
        "colab": {}
      },
      "source": [
        "model.predict([[3, 100]]) - model.predict([[2, 100]])"
      ],
      "execution_count": null,
      "outputs": []
    },
    {
      "cell_type": "markdown",
      "metadata": {
        "colab_type": "text",
        "id": "WXaeJe9px9d1"
      },
      "source": [
        "What if (income growth = 3%) fatalities = 200"
      ]
    },
    {
      "cell_type": "code",
      "metadata": {
        "colab_type": "code",
        "id": "MP6UnCT1CXoD",
        "colab": {}
      },
      "source": [
        "model.predict([[3, 200]])"
      ],
      "execution_count": null,
      "outputs": []
    },
    {
      "cell_type": "markdown",
      "metadata": {
        "colab_type": "text",
        "id": "MuioZsRUyAud"
      },
      "source": [
        "The difference between these predictions = ?"
      ]
    },
    {
      "cell_type": "code",
      "metadata": {
        "colab_type": "code",
        "id": "OpiDm-QjCZqi",
        "colab": {}
      },
      "source": [
        "model.predict([[3, 200]]) - model.predict([[3, 100]])"
      ],
      "execution_count": null,
      "outputs": []
    },
    {
      "cell_type": "markdown",
      "metadata": {
        "colab_type": "text",
        "id": "-h8Tl7HOwBM7"
      },
      "source": [
        "## Challenge\n",
        "\n",
        "In your assignment, you'll fit a Linear Regression with at least 2 features."
      ]
    },
    {
      "cell_type": "markdown",
      "metadata": {
        "colab_type": "text",
        "id": "o1_b4j6ZtZgb"
      },
      "source": [
        "# Understand how ordinary least squares regression minimizes the sum of squared errors"
      ]
    },
    {
      "cell_type": "markdown",
      "metadata": {
        "colab_type": "text",
        "id": "D8moJTC6uDuh"
      },
      "source": [
        "## Overview\n",
        "\n",
        "So far, we've evaluated our models by their absolute error. It's an intuitive metric for regression problems.\n",
        "\n",
        "However, ordinary least squares doesn't directly minimize absolute error. Instead, it minimizes squared error.\n",
        "\n",
        "\n"
      ]
    },
    {
      "cell_type": "markdown",
      "metadata": {
        "colab_type": "text",
        "id": "ARY8zz7J6EtO"
      },
      "source": [
        "In this section, we'll introduce two new regression metrics: \n",
        "\n",
        "- Squared error\n",
        "- $R^2$\n"
      ]
    },
    {
      "cell_type": "markdown",
      "metadata": {
        "colab_type": "text",
        "id": "cwqJlR1M6Crw"
      },
      "source": [
        "We'll demostrate two possible methods to minimize squared error:\n",
        "\n",
        "- Guess & check\n",
        "- Linear Algebra"
      ]
    },
    {
      "cell_type": "markdown",
      "metadata": {
        "colab_type": "text",
        "id": "zspnHmo7wbKF"
      },
      "source": [
        "## Follow Along"
      ]
    },
    {
      "cell_type": "markdown",
      "metadata": {
        "colab_type": "text",
        "id": "ebHzgmJfG80i"
      },
      "source": [
        "### Guess & Check\n",
        "\n",
        "This function visualizes squared errors. We'll go back to simple regression with 1 feature, because it's much easier to visualize.\n",
        "\n",
        "Use the function's m & b parameters to \"fit the model\" manually. Guess & check what values of m & b minimize squared error."
      ]
    },
    {
      "cell_type": "code",
      "metadata": {
        "colab_type": "code",
        "id": "BmdIG_W_8tTE",
        "colab": {}
      },
      "source": [
        "from matplotlib.patches import Rectangle\n",
        "import matplotlib.pyplot as plt\n",
        "import numpy as np\n",
        "from sklearn.metrics import mean_absolute_error, mean_squared_error, r2_score\n",
        "\n",
        "def squared_errors(df, feature, target, m, b):\n",
        "    \"\"\"\n",
        "    Visualize linear regression, with squared errors,\n",
        "    in 2D: 1 feature + 1 target.\n",
        "    \n",
        "    Use the m & b parameters to \"fit the model\" manually.\n",
        "    \n",
        "    df : Pandas DataFrame\n",
        "    feature : string, feature column in df\n",
        "    target : string, target column in df\n",
        "    m : numeric, slope for linear equation\n",
        "    b : numeric, intercept for linear requation\n",
        "    \"\"\"\n",
        "    \n",
        "    # Plot data\n",
        "    fig = plt.figure(figsize=(7,7))\n",
        "    ax = plt.axes()\n",
        "    df.plot.scatter(feature, target, ax=ax)\n",
        "    \n",
        "    # Make predictions\n",
        "    x = df[feature]\n",
        "    y = df[target]\n",
        "    y_pred = m*x + b\n",
        "    \n",
        "    # Plot predictions\n",
        "    ax.plot(x, y_pred)\n",
        "    \n",
        "    # Plot squared errors\n",
        "    xmin, xmax = ax.get_xlim()\n",
        "    ymin, ymax = ax.get_ylim()\n",
        "    scale = (xmax-xmin)/(ymax-ymin)\n",
        "    for x, y1, y2 in zip(x, y, y_pred):\n",
        "        bottom_left = (x, min(y1, y2))\n",
        "        height = abs(y1 - y2)\n",
        "        width = height * scale\n",
        "        ax.add_patch(Rectangle(xy=bottom_left, width=width, height=height, alpha=0.1))\n",
        "    \n",
        "    # Print regression metrics\n",
        "    mse = mean_squared_error(y, y_pred)\n",
        "    rmse = np.sqrt(mse)\n",
        "    mae = mean_absolute_error(y, y_pred)\n",
        "    r2 = r2_score(y, y_pred)\n",
        "    print('Mean Squared Error:', mse)\n",
        "    print('Root Mean Squared Error:', rmse)\n",
        "    print('Mean Absolute Error:', mae)\n",
        "    print('R^2:', r2)"
      ],
      "execution_count": null,
      "outputs": []
    },
    {
      "cell_type": "markdown",
      "metadata": {
        "colab_type": "text",
        "id": "x0313AWF5ahp"
      },
      "source": [
        "Here's what the mean baseline looks like:"
      ]
    },
    {
      "cell_type": "code",
      "metadata": {
        "colab_type": "code",
        "id": "8bsq0zoE5ahq",
        "colab": {
          "base_uri": "https://localhost:8080/",
          "height": 511
        },
        "outputId": "70b38786-10e6-439c-8318-57ac04ba36b9"
      },
      "source": [
        "feature = 'Average Recent Growth in Personal Incomes'\n",
        "squared_errors(train, feature, target, m=0, b=y_train.mean())"
      ],
      "execution_count": null,
      "outputs": [
        {
          "output_type": "stream",
          "text": [
            "Mean Squared Error: 31.186940816326533\n",
            "Root Mean Squared Error: 5.584526910699467\n",
            "Mean Absolute Error: 4.846938775510204\n",
            "R^2: 0.0\n"
          ],
          "name": "stdout"
        },
        {
          "output_type": "display_data",
          "data": {
            "image/png": "[encoded data removed]",
            "text/plain": [
              "<Figure size 504x504 with 1 Axes>"
            ]
          },
          "metadata": {
            "tags": [],
            "needs_background": "light"
          }
        }
      ]
    },
    {
      "cell_type": "markdown",
      "metadata": {
        "colab_type": "text",
        "id": "5RVz4qYR5ahr"
      },
      "source": [
        "Notice that $R^2$ is exactly zero. \n",
        "\n",
        "[$R^2$ represents the proportion of the variance for a dependent variable that is explained by the independent variable(s).](https://en.wikipedia.org/wiki/Coefficient_of_determination)\n",
        "\n",
        "The mean baseline uses zero independent variables and explains none of the variance in the dependent variable, so its $R^2$ score is zero.\n",
        "\n",
        "The highest possible $R^2$ score is 1. The lowest possible *Train* $R^2$ score with ordinary least squares regression is 0.\n",
        "\n",
        "In this demo, it's possible to get a negative Train $R^2$, if you manually set values of m & b that are worse than the mean baseline. But that wouldn't happen in the real world.\n",
        "\n",
        "However, in the real world, it _is_ possible to get a negative *Test/Validation* $R^2$. It means that your *Test/Validation* predictions are worse than if you'd constantly predicted the mean of the *Test/Validation* set."
      ]
    },
    {
      "cell_type": "markdown",
      "metadata": {
        "colab_type": "text",
        "id": "KaJZqg1r5ahs"
      },
      "source": [
        "---\n",
        "\n",
        "Now that we've visualized the squared errors for the mean baseline, let's guess & check some better values for the m & b parameters:"
      ]
    },
    {
      "cell_type": "code",
      "metadata": {
        "colab_type": "code",
        "id": "TkyDSs8f6stD",
        "colab": {
          "base_uri": "https://localhost:8080/",
          "height": 511
        },
        "outputId": "72ab597c-75da-4894-ba26-91cd8e3a5576"
      },
      "source": [
        "squared_errors(train, feature, target, m=3, b=46)"
      ],
      "execution_count": null,
      "outputs": [
        {
          "output_type": "stream",
          "text": [
            "Mean Squared Error: 13.611378571428576\n",
            "Root Mean Squared Error: 3.6893601845616235\n",
            "Mean Absolute Error: 2.742142857142858\n",
            "R^2: 0.5635551863970272\n"
          ],
          "name": "stdout"
        },
        {
          "output_type": "display_data",
          "data": {
            "image/png": "[encoded data removed]",
            "text/plain": [
              "<Figure size 504x504 with 1 Axes>"
            ]
          },
          "metadata": {
            "tags": [],
            "needs_background": "light"
          }
        }
      ]
    },
    {
      "cell_type": "markdown",
      "metadata": {
        "colab_type": "text",
        "id": "oxp-rvWC5aht"
      },
      "source": [
        "You can run the function repeatedly, with different values for m & b.\n",
        "\n",
        "How do you interpret each metric you see?\n",
        "\n",
        "- Mean Squared Error\n",
        "- Root Mean Squared Error\n",
        "- Mean Absolute Error\n",
        "- $R^2$\n",
        "\n",
        "Does guess & check really get used in machine learning? Sometimes! Some complex functions are hard to minimize, so we use a sophisticated form of guess & check called \"gradient descent\", which you'll learn about in Unit 4.\n",
        "\n",
        "Fortunately, we don't need to use guess & check for ordinary least squares regression. We have a solution, using linear algebra!\n"
      ]
    },
    {
      "cell_type": "markdown",
      "metadata": {
        "colab_type": "text",
        "id": "u6biDIhlrzoI"
      },
      "source": [
        "### Linear Algebra\n",
        "\n",
        "The same result that is found by minimizing the sum of the squared errors can be also found through a linear algebra process known as the \"Least Squares Solution:\"\n",
        "\n",
        "\\begin{align}\n",
        "\\hat{\\beta} = (X^{T}X)^{-1}X^{T}y\n",
        "\\end{align}\n",
        "\n",
        "Before we can work with this equation in its linear algebra form we have to understand how to set up the matrices that are involved in this equation. \n",
        "\n",
        "#### The $\\beta$ vector\n",
        "\n",
        "The $\\beta$ vector represents all the parameters that we are trying to estimate, our $y$ vector and $X$ matrix values are full of data from our dataset. The $\\beta$ vector holds the variables that we are solving for: $\\beta_0$ and $\\beta_1$\n",
        "\n",
        "Now that we have all of the necessary parts we can set them up in the following equation:\n",
        "\n",
        "\\begin{align}\n",
        "y = X \\beta + \\epsilon\n",
        "\\end{align}\n",
        "\n",
        "Since our $\\epsilon$ value represents **random** error we can assume that it will equal zero on average.\n",
        "\n",
        "\\begin{align}\n",
        "y = X \\beta\n",
        "\\end{align}\n",
        "\n",
        "The objective now is to isolate the $\\beta$ matrix. We can do this by pre-multiplying both sides by \"X transpose\" $X^{T}$.\n",
        "\n",
        "\\begin{align}\n",
        "X^{T}y =  X^{T}X \\beta\n",
        "\\end{align}\n",
        "\n",
        "Since anything times its transpose will result in a square matrix, if that matrix is then an invertible matrix, then we should be able to multiply both sides by its inverse to remove it from the right hand side. (We'll talk tomorrow about situations that could lead to $X^{T}X$ not being invertible.)\n",
        "\n",
        "\\begin{align}\n",
        "(X^{T}X)^{-1}X^{T}y =  (X^{T}X)^{-1}X^{T}X \\beta\n",
        "\\end{align}\n",
        "\n",
        "Since any matrix multiplied by its inverse results in the identity matrix, and anything multiplied by the identity matrix is itself, we are left with only $\\beta$ on the right hand side:\n",
        "\n",
        "\\begin{align}\n",
        "(X^{T}X)^{-1}X^{T}y = \\hat{\\beta}\n",
        "\\end{align}\n",
        "\n",
        "We will now call it \"beta hat\" $\\hat{\\beta}$ because it now represents our estimated values for $\\beta_0$ and $\\beta_1$\n",
        "\n",
        "#### Lets calculate our $\\beta$ parameters with numpy!"
      ]
    },
    {
      "cell_type": "code",
      "metadata": {
        "colab_type": "code",
        "id": "ouidNhDprzoI",
        "colab": {}
      },
      "source": [
        "# This is NOT something you'll be tested on. It's just a demo.\n",
        "\n",
        "# X is a matrix. Add column of constants for fitting the intercept.\n",
        "def add_constant(X):\n",
        "    constant = np.ones(shape=(len(X),1))\n",
        "    return np.hstack((constant, X))\n",
        "X = add_constant(train[features].values)\n",
        "print('X')\n",
        "print(X)\n",
        "\n",
        "# y is a column vector\n",
        "y = train[target].values[:, np.newaxis]\n",
        "print('y')\n",
        "print(y)\n",
        "\n",
        "# Least squares solution in code\n",
        "X_transpose = X.T\n",
        "X_transpose_X = X_transpose @ X\n",
        "X_transpose_X_inverse = np.linalg.inv(X_transpose_X)\n",
        "X_transpose_y = X_transpose @ y\n",
        "beta_hat = X_transpose_X_inverse @ X_transpose_y\n",
        "\n",
        "print('Beta Hat')\n",
        "print(beta_hat)"
      ],
      "execution_count": null,
      "outputs": []
    },
    {
      "cell_type": "code",
      "metadata": {
        "colab_type": "code",
        "id": "jDTgv1lKrzoK",
        "colab": {}
      },
      "source": [
        "# Scikit-learn gave the exact same results!\n",
        "model.intercept_, model.coef_"
      ],
      "execution_count": null,
      "outputs": []
    },
    {
      "cell_type": "markdown",
      "metadata": {
        "colab_type": "text",
        "id": "RaLUPbonrzoM"
      },
      "source": [
        "# Define overfitting/underfitting and the bias/variance tradeoff"
      ]
    },
    {
      "cell_type": "markdown",
      "metadata": {
        "colab_type": "text",
        "id": "W-40FQscwfD5"
      },
      "source": [
        "## Overview"
      ]
    },
    {
      "cell_type": "markdown",
      "metadata": {
        "colab_type": "text",
        "id": "W9Aboy6MrzoR"
      },
      "source": [
        "Read [_Python Data Science Handbook,_ Chapter 5.3](https://jakevdp.github.io/PythonDataScienceHandbook/05.03-hyperparameters-and-model-validation.html#The-Bias-variance-trade-off). Jake VanderPlas explains overfitting & underfitting:\n",
        "\n",
        "> Fundamentally, the question of \"the best model\" is about finding a sweet spot in the tradeoff between bias and variance. Consider the following figure, which presents two regression fits to the same dataset:\n",
        "> \n",
        ">![](https://jakevdp.github.io/PythonDataScienceHandbook/figures/05.03-bias-variance-2.png)\n",
        ">\n",
        "> The model on the left attempts to find a straight-line fit through the data. Because the data are intrinsically more complicated than a straight line, the straight-line model will never be able to describe this dataset well. Such a model is said to _underfit_ the data: that is, it does not have enough model flexibility to suitably account for all the features in the data; another way of saying this is that the model has high _bias_.\n",
        ">\n",
        "> The model on the right attempts to fit a high-order polynomial through the data. Here the model fit has enough flexibility to nearly perfectly account for the fine features in the data, but even though it very accurately describes the training data, its precise form seems to be more reflective of the particular noise properties of the data rather than the intrinsic properties of whatever process generated that data. Such a model is said to _overfit_ the data: that is, it has so much model flexibility that the model ends up accounting for random errors as well as the underlying data distribution; another way of saying this is that the model has high _variance_."
      ]
    },
    {
      "cell_type": "markdown",
      "metadata": {
        "colab_type": "text",
        "id": "Q6smEDli6REF"
      },
      "source": [
        "VanderPlas goes on to connect these concepts to the \"bias/variance tradeoff\":\n",
        "\n",
        "> From the scores associated with these two models, we can make an observation that holds more generally:\n",
        ">\n",
        ">- For high-bias models, the performance of the model on the validation set is similar to the performance on the training set.\n",
        ">\n",
        ">- For high-variance models, the performance of the model on the validation set is far worse than the performance on the training set.\n",
        ">\n",
        "> If we imagine that we have some ability to tune the model complexity, we would expect the training score and validation score to behave as illustrated in the following figure:\n",
        ">\n",
        ">![](https://jakevdp.github.io/PythonDataScienceHandbook/figures/05.03-validation-curve.png)\n",
        ">\n",
        "> The diagram shown here is often called a validation curve, and we see the following essential features:\n",
        ">\n",
        ">- The training score is everywhere higher than the validation score. This is generally the case: the model will be a better fit to data it has seen than to data it has not seen.\n",
        ">- For very low model complexity (a high-bias model), the training data is under-fit, which means that the model is a poor predictor both for the training data and for any previously unseen data.\n",
        ">- For very high model complexity (a high-variance model), the training data is over-fit, which means that the model predicts the training data very well, but fails for any previously unseen data.\n",
        ">- For some intermediate value, the validation curve has a maximum. This level of complexity indicates a suitable trade-off between bias and variance.\n",
        ">\n",
        ">The means of tuning the model complexity varies from model to model."
      ]
    },
    {
      "cell_type": "markdown",
      "metadata": {
        "colab_type": "text",
        "id": "TWRkoX-75ahz"
      },
      "source": [
        "So far, our only \"means of tuning the model complexity\" has been selecting one feature or two features for our linear regression models. But we'll quickly start to select more features, and more complex models, with more \"hyperparameters.\"\n",
        "\n",
        "This is just a first introduction to underfitting & overfitting. We'll continue to learn about this topic all throughout this unit."
      ]
    },
    {
      "cell_type": "markdown",
      "metadata": {
        "colab_type": "text",
        "id": "bQ8rflrBwgYj"
      },
      "source": [
        "## Follow Along"
      ]
    },
    {
      "cell_type": "markdown",
      "metadata": {
        "colab_type": "text",
        "id": "eeqQm4JM5ah0"
      },
      "source": [
        "Let's make our own Validation Curve, by tuning a new type of model complexity: polynomial degrees in a linear regression."
      ]
    },
    {
      "cell_type": "markdown",
      "metadata": {
        "colab_type": "text",
        "id": "8ajsC5CS9nYI"
      },
      "source": [
        "Go back to the the NYC Tribeca condo sales data"
      ]
    },
    {
      "cell_type": "code",
      "metadata": {
        "colab_type": "code",
        "id": "DzCSC1zsrzoN",
        "colab": {}
      },
      "source": [
        "# Read NYC Tribeca condo sales data, from first 4 months of 2019.\n",
        "# Dataset has 90 rows, 9 columns.\n",
        "df = pd.read_csv(DATA_PATH+'condos/tribeca.csv')\n",
        "assert df.shape == (90, 9)\n",
        "\n",
        "# Arrange X features matrix & y target vector\n",
        "features = ['GROSS_SQUARE_FEET']\n",
        "target = 'SALE_PRICE'\n",
        "X = df[features]\n",
        "y = df[target]"
      ],
      "execution_count": null,
      "outputs": []
    },
    {
      "cell_type": "markdown",
      "metadata": {
        "colab_type": "text",
        "id": "VccY7fno9sA8"
      },
      "source": [
        "Do random [train/test split](https://scikit-learn.org/stable/modules/generated/sklearn.model_selection.train_test_split.html)"
      ]
    },
    {
      "cell_type": "code",
      "metadata": {
        "colab_type": "code",
        "id": "ki0qmlk69uWr",
        "colab": {}
      },
      "source": [
        "from sklearn.model_selection import train_test_split\n",
        "X_train, X_test, y_train, y_test = train_test_split(X, y, random_state=11)"
      ],
      "execution_count": null,
      "outputs": []
    },
    {
      "cell_type": "markdown",
      "metadata": {
        "colab_type": "text",
        "id": "HpQnoWJV9zkr"
      },
      "source": [
        "Repeatedly fit increasingly complex models, and keep track of the scores"
      ]
    },
    {
      "cell_type": "code",
      "metadata": {
        "colab_type": "code",
        "id": "YShWjZrIrzoP",
        "scrolled": false,
        "colab": {}
      },
      "source": [
        "from IPython.display import display, HTML\n",
        "from sklearn.linear_model import LinearRegression\n",
        "from sklearn.metrics import r2_score\n",
        "from sklearn.pipeline import make_pipeline\n",
        "from sklearn.preprocessing import PolynomialFeatures\n",
        "\n",
        "\n",
        "# Credit for PolynomialRegression: Jake VanderPlas, Python Data Science Handbook, Chapter 5.3\n",
        "# https://jakevdp.github.io/PythonDataScienceHandbook/05.03-hyperparameters-and-model-validation.html#Validation-curves-in-Scikit-Learn\n",
        "def PolynomialRegression(degree=2, **kwargs):\n",
        "    return make_pipeline(PolynomialFeatures(degree), \n",
        "                         LinearRegression(**kwargs))\n",
        "\n",
        "\n",
        "polynomial_degrees = range(1, 10, 2)\n",
        "train_r2s = []\n",
        "test_r2s = []\n",
        "\n",
        "for degree in polynomial_degrees:\n",
        "    model = PolynomialRegression(degree)\n",
        "    display(HTML(f'Polynomial degree={degree}'))\n",
        "    \n",
        "    model.fit(X_train, y_train)\n",
        "    train_r2 = model.score(X_train, y_train)\n",
        "    test_r2 = model.score(X_test, y_test)\n",
        "    display(HTML(f'<b style=\"color: blue\">Train R2 {train_r2:.2f}</b>'))\n",
        "    display(HTML(f'<b style=\"color: red\">Test R2 {test_r2:.2f}</b>'))\n",
        "\n",
        "    plt.scatter(X_train, y_train, color='blue', alpha=0.5)\n",
        "    plt.scatter(X_test, y_test, color='red', alpha=0.5)\n",
        "    plt.xlabel(features)\n",
        "    plt.ylabel(target)\n",
        "    \n",
        "    x_domain = np.linspace(X.min(), X.max())\n",
        "    curve = model.predict(x_domain)\n",
        "    plt.plot(x_domain, curve, color='blue')\n",
        "    plt.show()\n",
        "    display(HTML('<hr/>'))\n",
        "    \n",
        "    train_r2s.append(train_r2)\n",
        "    test_r2s.append(test_r2)\n",
        "    \n",
        "display(HTML('Validation Curve'))\n",
        "plt.plot(polynomial_degrees, train_r2s, color='blue', label='Train')\n",
        "plt.plot(polynomial_degrees, test_r2s, color='red', label='Test')\n",
        "plt.xlabel('Model Complexity (Polynomial Degree)')\n",
        "plt.ylabel('R^2 Score')\n",
        "plt.legend()\n",
        "plt.show()"
      ],
      "execution_count": null,
      "outputs": []
    },
    {
      "cell_type": "markdown",
      "metadata": {
        "colab_type": "text",
        "id": "VxzxiDxz5ah4"
      },
      "source": [
        "As model complexity increases, what happens to Train $R^2$ and Test $R^2$?"
      ]
    },
    {
      "cell_type": "markdown",
      "metadata": {
        "colab_type": "text",
        "id": "bO298NwR5ah5"
      },
      "source": [
        "# Review\n",
        "\n",
        "In your assignment, you'll continue to **predict how much it costs to rent an apartment in NYC,** using the dataset from renthop.com.\n",
        "\n",
        "\n",
        "- Do train/test split. Use data from April & May 2016 to train. Use data from June 2016 to test.\n",
        "- Engineer at least two new features.\n",
        "- Fit a linear regression model with at least two features.\n",
        "- Get the model's coefficients and intercept.\n",
        "- Get regression metrics RMSE, MAE, and $R^2$, for both the train and test sets.\n",
        "\n",
        "You've been provided with a separate notebook for your assignment, which has all the instructions and stretch goals. What's the best test MAE you can get? Share your score and features used with your cohort on Slack!"
      ]
    },
    {
      "cell_type": "markdown",
      "metadata": {
        "colab_type": "text",
        "id": "4WcLE44XwpOL"
      },
      "source": [
        "# Sources\n",
        "\n",
        "#### Train/Test Split\n",
        "- James, Witten, Hastie, Tibshirani, [_An Introduction to Statistical Learning_](http://faculty.marshall.usc.edu/gareth-james/ISL/), Chapter 2.2, Assessing Model Accuracy\n",
        "- Hyndman, Athanasopoulos, [_Forecasting,_ Chapter 3.4,](https://otexts.com/fpp2/accuracy.html) Evaluating forecast accuracy\n",
        "- Rachel Thomas, [How (and why) to create a good validation set](https://www.fast.ai/2017/11/13/validation-sets/)\n",
        "\n",
        "#### Bias-Variance Tradeoff\n",
        "- Jake VanderPlas, [_Python Data Science Handbook,_ Chapter 5.3](https://jakevdp.github.io/PythonDataScienceHandbook/05.03-hyperparameters-and-model-validation.html#The-Bias-variance-trade-off), Hyperparameters and Model Validation\n",
        "- StatQuest, [Machine Learning Fundamentals: Bias and Variance](https://youtu.be/EuBBz3bI-aA) (6.5 minutes)\n",
        "\n",
        "#### \"Bread and Peace\" Background\n",
        "- Douglas Hibbs, [Background Information on the ‘Bread and Peace’ Model of Voting in Postwar US Presidential Elections](https://douglas-hibbs.com/background-information-on-bread-and-peace-voting-in-us-presidential-elections/)\n",
        "- Nate Silver, [What Do Economic Models Really Tell Us About Elections?](https://fivethirtyeight.com/features/what-do-economic-models-really-tell-us-about-elections/)\n",
        "\n",
        "\n",
        "#### \"Bread and Peace\" Data Sources & Definitions\n",
        "- 1952-2012: Douglas Hibbs, [2014 lecture at Deakin University Melbourne](http://www.douglas-hibbs.com/HibbsArticles/HIBBS-PRESVOTE-SLIDES-MELBOURNE-Part1-2014-02-26.pdf), Slide 40\n",
        "- 2016, Vote Share: [The American Presidency Project](https://www.presidency.ucsb.edu/statistics/elections)\n",
        "- 2016, Recent Growth in Personal Incomes: [The 2016 election economy: the \"Bread and Peace\" model final forecast](https://angrybearblog.com/2016/11/the-2016-election-economy-the-bread-and-peace-model-final-forecast.html)\n",
        "- 2016, US Military Fatalities: Assumption that Afghanistan War fatalities in 2012-16 occured at the same rate as 2008-12\n",
        "\n",
        "> Fatalities denotes the cumulative number of American military fatalities per millions of US population the in Korea, Vietnam, Iraq and Afghanistan wars during the presidential terms preceding the 1952, 1964, 1968, 1976 and 2004, 2008 and 2012 elections. —[Hibbs](http://www.douglas-hibbs.com/HibbsArticles/HIBBS-PRESVOTE-SLIDES-MELBOURNE-Part1-2014-02-26.pdf), Slide 33"
      ]
    }
  ]
}