{
  "nbformat": 4,
  "nbformat_minor": 0,
  "metadata": {
    "colab": {
      "name": "LS_DS_123_Confidence_Intervals_autograde.ipynb",
      "provenance": [],
      "collapsed_sections": [],
      "include_colab_link": true
    },
    "kernelspec": {
      "display_name": "Python 3",
      "language": "python",
      "name": "python3"
    },
    "language_info": {
      "codemirror_mode": {
        "name": "ipython",
        "version": 3
      },
      "file_extension": ".py",
      "mimetype": "text/x-python",
      "name": "python",
      "nbconvert_exporter": "python",
      "pygments_lexer": "ipython3",
      "version": "3.7.4"
    }
  },
  "cells": [
    {
      "cell_type": "markdown",
      "metadata": {
        "id": "view-in-github",
        "colab_type": "text"
      },
      "source": [
        "<a href=\"https://colab.research.google.com/github/Frank-Howd/DS-Unit-1-Sprint-1-Data-Wrangling-and-Storytelling/blob/master/LS_DS_123_Confidence_Intervals_autograde.ipynb\" target=\"_parent\"><img src=\"https://colab.research.google.com/assets/colab-badge.svg\" alt=\"Open In Colab\"/></a>"
      ]
    },
    {
      "cell_type": "markdown",
      "metadata": {
        "id": "mkqOSoC9r-lq"
      },
      "source": [
        "## Autograded Notebook (Canvas & CodeGrade)\n",
        "\n",
        "This notebook will be automatically graded. It is designed to test your answers and award points for the correct answers. Following the instructions for each Task carefully.\n",
        "\n",
        "### Instructions\n",
        "\n",
        "* **Download this notebook** as you would any other ipynb file\n",
        "* **Upload** to Google Colab or work locally (if you have that set-up)\n",
        "* **Delete `raise NotImplementedError()`**\n",
        "* Write your code in the `# YOUR CODE HERE` space\n",
        "* **Execute** the Test cells that contain `assert` statements - these help you check your work (others contain hidden tests that will be checked when you submit through Canvas)\n",
        "* **Save** your notebook when you are finished\n",
        "* **Download** as a `ipynb` file (if working in Colab)\n",
        "* **Upload** your complete notebook to Canvas (there will be additional instructions in Slack and/or Canvas)"
      ]
    },
    {
      "cell_type": "markdown",
      "metadata": {
        "id": "eI13byJQrZgw"
      },
      "source": [
        "# Lambda School Data Science - Unit 1 Sprint 2 Module 3\n",
        "\n",
        "## Module Project: Sampling and Confidence Intervals\n",
        "\n",
        "### Objectives\n",
        "\n",
        "* Objective 01 - explain the concepts of statistical estimate, precision, and standard error as they apply to inferential statistics\n",
        "* Objective 02 - explain the implications of the central limit theorem in inferential statistics\n",
        "* Objective 03 - explain the purpose of and identify applications for confidence intervals\n",
        "* Objective 04 - demonstrate how to build a confidence interval around a sample estimate\n",
        "* Objective 05 - visualize a confidence interval in order to communicate the precision of sample estimates"
      ]
    },
    {
      "cell_type": "markdown",
      "metadata": {
        "id": "g_c3L9CeANiJ"
      },
      "source": [
        "## Introduction\n",
        "\n",
        "### Confidence Intervals\n",
        "\n",
        "Soft drinks like Coke and Pepsi are manufactured to have a standard caffeine content. For example, a 12-oz serving of Coke has 34mg of caffeine, and a 12-oz serving of Pepsi has 37.6mg of caffeine. However, fountain soft drinks are typically mixed in individual restaurant dispensers, so it is more difficult to maintain a standard level of caffeine per serving. \n",
        "\n",
        "In this study, researchers randomly sampled Coke, Diet Coke, Pepsi, and Diet Pepsi at a set of franchise restaurants and measured the caffeine content in 12oz of each soft drink.\n",
        "\n",
        "Because individuals can be sensitive to caffeine – and because the manufacturers are interested in product consistency – **we wish to estimate the mean caffeine content in 12oz of Coke served in franchise restaurants using a 95% confidence interval.** \n",
        "\n",
        "\n",
        "### Data set\n",
        "\n",
        "The data set for Coke is available at the link provided below. The first variable is the sample ID and the second variable is the caffeine content (in mg) in the 12oz sample.\n",
        "\n",
        "*Source: A.N. Garand and L.N. Bell (1997). \"Caffeine Content of Fountain and Private-Label Store Brand Carbonated Beverages,\" Journal of the American Dietetic Association, Vol. 97, #2, pp. 179-182.*"
      ]
    },
    {
      "cell_type": "markdown",
      "metadata": {
        "id": "oaJpAIakUo31"
      },
      "source": [
        "**Task 1** - Load the data\n",
        "\n",
        "Load the dataset using the provided URL\n",
        "\n",
        "* Read in your data as a pandas DataFrame with the variable name `coke_df`\n",
        "* Use the `.head()` method to take a look at the DataFrame"
      ]
    },
    {
      "cell_type": "code",
      "metadata": {
        "deletable": false,
        "id": "yXwMJQGrAIbO",
        "nbgrader": {
          "cell_type": "code",
          "checksum": "39fa2cb7c4f5c5bf61c00a1c1e4c765c",
          "grade": false,
          "grade_id": "cell-fca1a016c0983805",
          "locked": false,
          "schema_version": 3,
          "solution": true,
          "task": false
        },
        "colab": {
          "base_uri": "https://localhost:8080/",
          "height": 215
        },
        "outputId": "6043f84e-7530-43eb-e8cd-31c6d9507aa4"
      },
      "source": [
        "# Task 1\n",
        "\n",
        "# Imports\n",
        "import pandas as pd\n",
        "import numpy as np\n",
        "\n",
        "# URL for the data\n",
        "data_url = 'https://raw.githubusercontent.com/LambdaSchool/data-science-practice-datasets/main/unit_1/Soda/Soda.csv'\n",
        "\n",
        "# YOUR CODE HERE\n",
        "coke_df = pd.read_csv(data_url)\n",
        "\n",
        "# Look at your DataFrame\n",
        "print(coke_df.shape)\n",
        "coke_df.head()"
      ],
      "execution_count": 3,
      "outputs": [
        {
          "output_type": "stream",
          "text": [
            "(50, 2)\n"
          ],
          "name": "stdout"
        },
        {
          "output_type": "execute_result",
          "data": {
            "text/html": [
              "<div>\n",
              "<style scoped>\n",
              "    .dataframe tbody tr th:only-of-type {\n",
              "        vertical-align: middle;\n",
              "    }\n",
              "\n",
              "    .dataframe tbody tr th {\n",
              "        vertical-align: top;\n",
              "    }\n",
              "\n",
              "    .dataframe thead th {\n",
              "        text-align: right;\n",
              "    }\n",
              "</style>\n",
              "<table border=\"1\" class=\"dataframe\">\n",
              "  <thead>\n",
              "    <tr style=\"text-align: right;\">\n",
              "      <th></th>\n",
              "      <th>Drink</th>\n",
              "      <th>Caffeine</th>\n",
              "    </tr>\n",
              "  </thead>\n",
              "  <tbody>\n",
              "    <tr>\n",
              "      <th>0</th>\n",
              "      <td>1</td>\n",
              "      <td>47.32</td>\n",
              "    </tr>\n",
              "    <tr>\n",
              "      <th>1</th>\n",
              "      <td>2</td>\n",
              "      <td>43.78</td>\n",
              "    </tr>\n",
              "    <tr>\n",
              "      <th>2</th>\n",
              "      <td>3</td>\n",
              "      <td>48.12</td>\n",
              "    </tr>\n",
              "    <tr>\n",
              "      <th>3</th>\n",
              "      <td>4</td>\n",
              "      <td>43.25</td>\n",
              "    </tr>\n",
              "    <tr>\n",
              "      <th>4</th>\n",
              "      <td>5</td>\n",
              "      <td>46.42</td>\n",
              "    </tr>\n",
              "  </tbody>\n",
              "</table>\n",
              "</div>"
            ],
            "text/plain": [
              "   Drink  Caffeine\n",
              "0      1     47.32\n",
              "1      2     43.78\n",
              "2      3     48.12\n",
              "3      4     43.25\n",
              "4      5     46.42"
            ]
          },
          "metadata": {
            "tags": []
          },
          "execution_count": 3
        }
      ]
    },
    {
      "cell_type": "markdown",
      "metadata": {
        "id": "eklBbLdyr-lt"
      },
      "source": [
        "**Task 1 - Test**"
      ]
    },
    {
      "cell_type": "code",
      "metadata": {
        "deletable": false,
        "editable": false,
        "nbgrader": {
          "cell_type": "code",
          "checksum": "cf81214a607ac74d51a62bc2803b7a59",
          "grade": true,
          "grade_id": "cell-452f06bde3155ced",
          "locked": true,
          "points": 1,
          "schema_version": 3,
          "solution": false,
          "task": false
        },
        "id": "9p3GOc6Or-lt"
      },
      "source": [
        "# Task 1 Test\n",
        "\n",
        "assert isinstance(coke_df, pd.DataFrame), 'Have you created a DataFrame named `coke_df`?'\n"
      ],
      "execution_count": 4,
      "outputs": []
    },
    {
      "cell_type": "markdown",
      "metadata": {
        "id": "wOQ-9E8uYcni"
      },
      "source": [
        "**Task 2** - Descriptive statistics\n",
        "\n",
        "Calculate the following statistical quantities for the `Caffeine` content column. Name your variables as indicated (they need to be an exact match to pass the tests)\n",
        "\n",
        "* mean - `mean_caffeine`\n",
        "* standard deviation - `std_caffeine`\n",
        "* standard error - `se_caffeine`\n",
        "* number of samples - `n_caffeine`\n",
        "\n",
        "Summarize your results in a sentence or two."
      ]
    },
    {
      "cell_type": "code",
      "metadata": {
        "colab": {
          "base_uri": "https://localhost:8080/"
        },
        "deletable": false,
        "id": "m1vuFGxVQo64",
        "nbgrader": {
          "cell_type": "code",
          "checksum": "1d817e366202fa1bf50fc82bf94f3db8",
          "grade": false,
          "grade_id": "cell-e81d4e8fe2cef23f",
          "locked": false,
          "schema_version": 3,
          "solution": true,
          "task": false
        },
        "outputId": "63dec241-643e-455f-b515-efe713cb3203"
      },
      "source": [
        "# Task 2\n",
        "\n",
        "# YOUR CODE HERE\n",
        "\n",
        "mean_caffeine = coke_df['Caffeine'].mean()\n",
        "print('Mean caffeine: {:.3f}'.format(mean_caffeine))\n",
        "\n",
        "std_caffeine = coke_df['Caffeine'].std()\n",
        "print('Std Dev, caffeine: {:.3f}'.format(std_caffeine))\n",
        "\n",
        "se_caffeine = std_caffeine / (n_caffeine-1)\n",
        "print('Std Error, caffeine: {:.3f}'.format(se_caffeine))\n",
        "\n",
        "n_caffeine = coke_df['Caffeine'].count()\n",
        "print('N samples: ', n_caffeine)\n"
      ],
      "execution_count": 19,
      "outputs": [
        {
          "output_type": "stream",
          "text": [
            "Mean caffeine: 37.940\n",
            "Std Dev, caffeine: 5.244\n",
            "Std Error, caffeine: 0.107\n",
            "N samples:  50\n"
          ],
          "name": "stdout"
        }
      ]
    },
    {
      "cell_type": "markdown",
      "metadata": {
        "id": "ifZbsmmlr-lu"
      },
      "source": [
        "**Task 2 - Test**"
      ]
    },
    {
      "cell_type": "code",
      "metadata": {
        "deletable": false,
        "editable": false,
        "nbgrader": {
          "cell_type": "code",
          "checksum": "f0136617a7b3677763650a2cbb30de02",
          "grade": true,
          "grade_id": "cell-735bc35d5a378801",
          "locked": true,
          "points": 1,
          "schema_version": 3,
          "solution": false,
          "task": false
        },
        "id": "25_Vm9Wkr-lu"
      },
      "source": [
        "# Task 2 Test\n",
        "\n",
        "assert n_caffeine == 50, 'Did you correctly calculate the number of samples?'\n"
      ],
      "execution_count": 20,
      "outputs": []
    },
    {
      "cell_type": "markdown",
      "metadata": {
        "id": "y2Rz-8O-YmF9"
      },
      "source": [
        "**Task 2** - ANSWER\n",
        "\n",
        "Using the statistics you calculated above, write out your answer in words. Use the following format:\n",
        "\n",
        "*Example: The mean caffeine content is XXmg per 12oz serving with a standard error of XXmg. The sample size is XX.*\n",
        "\n",
        "This task will not be autograded - but it is part of completing the project.\n",
        "\n",
        "YOUR ANSWER\n",
        "\n",
        "The mean caffeine content is 37.94mg per 12oz serving with a standard error of 0.107mg.  The sample size is 50. "
      ]
    },
    {
      "cell_type": "markdown",
      "metadata": {
        "id": "RySL5E7GEHGf"
      },
      "source": [
        "**Task 3** - Calculate t*\n",
        "\n",
        "For this task you will calculate t* for a 95% confidence interval.\n",
        "\n",
        "* set the variable `deg_free` equal to the degrees of freedom for the `Caffeine` variable\n",
        "* set the variable `t_star` equal to t* using `t.ppf(q, df)` with `q=0.975` and `df = deg_free`\n",
        "\n",
        "Note: Don't worry about where the 0.975 value comes from - it relates to finding the *middle* of the 95% t-distribution. We're going to learn how to calculate the 95% confidence interval an easier way in the next exercise."
      ]
    },
    {
      "cell_type": "code",
      "metadata": {
        "colab": {
          "base_uri": "https://localhost:8080/"
        },
        "deletable": false,
        "id": "ti9x37XSQ_yL",
        "nbgrader": {
          "cell_type": "code",
          "checksum": "0c1566fe385fd6336d3d59966d668163",
          "grade": false,
          "grade_id": "cell-ab557b231ecefc1d",
          "locked": false,
          "schema_version": 3,
          "solution": true,
          "task": false
        },
        "outputId": "390698c2-af61-4dce-9f5b-b0f124ac3054"
      },
      "source": [
        "# Task 3\n",
        "\n",
        "from scipy.stats import t\n",
        "\n",
        "# YOUR CODE HERE\n",
        "deg_free = n_caffeine-1\n",
        "print('DOF: ', deg_free)\n",
        "\n",
        "t_star = t.ppf(0.975, deg_free)\n",
        "\n",
        "# View your answer\n",
        "print('t_star = {:.6f}'.format(t_star))"
      ],
      "execution_count": 46,
      "outputs": [
        {
          "output_type": "stream",
          "text": [
            "DOF:  49\n",
            "t_star = 2.042272\n"
          ],
          "name": "stdout"
        }
      ]
    },
    {
      "cell_type": "markdown",
      "metadata": {
        "id": "n5H_9Q_mr-lv"
      },
      "source": [
        "**Task 3 - Test**"
      ]
    },
    {
      "cell_type": "code",
      "metadata": {
        "deletable": false,
        "editable": false,
        "nbgrader": {
          "cell_type": "code",
          "checksum": "88d7b978c0c98f74141ce91b18028d8f",
          "grade": true,
          "grade_id": "cell-ea70eb8f030c2f57",
          "locked": true,
          "points": 1,
          "schema_version": 3,
          "solution": false,
          "task": false
        },
        "id": "j_OYBn1or-lv"
      },
      "source": [
        "# Task 3 Test\n",
        "# Hidden tests - you will see the results when you submit to Canvas"
      ],
      "execution_count": 22,
      "outputs": []
    },
    {
      "cell_type": "markdown",
      "metadata": {
        "id": "AddooPk1JBvQ"
      },
      "source": [
        "**Task 4** - Margin of error\n",
        "\n",
        "In this task you'll calculate the margin of error for a 95% confidence interval (CI) for the mean caffeine content in a 12-oz Coke.\n",
        "\n",
        "* Assign the margin of error for a 95% CI to the variable `margin_err`\n",
        "\n",
        "Hint: You already have the value for t* for a 95% CI and the standard error"
      ]
    },
    {
      "cell_type": "code",
      "metadata": {
        "colab": {
          "base_uri": "https://localhost:8080/"
        },
        "deletable": false,
        "id": "IjjYtXodJW-b",
        "nbgrader": {
          "cell_type": "code",
          "checksum": "0ecab63b5b368345a097f5b7cd2a7b9c",
          "grade": false,
          "grade_id": "cell-fe91f19c7d908552",
          "locked": false,
          "schema_version": 3,
          "solution": true,
          "task": false
        },
        "outputId": "170e35ba-c398-4844-9e15-3c19d42accca"
      },
      "source": [
        "# Task 4\n",
        "\n",
        "# YOUR CODE HERE\n",
        "margin_err = t_star*se_caffeine\n",
        "\n",
        "# View your answer\n",
        "print('Margin of error = {:.6f}'.format(margin_err))"
      ],
      "execution_count": 23,
      "outputs": [
        {
          "output_type": "stream",
          "text": [
            "Margin of error = 0.215056\n"
          ],
          "name": "stdout"
        }
      ]
    },
    {
      "cell_type": "markdown",
      "metadata": {
        "id": "-itxJEjCr-lw"
      },
      "source": [
        "**Task 4 - Test**"
      ]
    },
    {
      "cell_type": "code",
      "metadata": {
        "deletable": false,
        "editable": false,
        "nbgrader": {
          "cell_type": "code",
          "checksum": "5c96289d4b49fb3a3fca60fd6fc7517b",
          "grade": true,
          "grade_id": "cell-2258dd78f578b1be",
          "locked": true,
          "points": 1,
          "schema_version": 3,
          "solution": false,
          "task": false
        },
        "id": "_fED5wSGr-lw"
      },
      "source": [
        "# Task 4 Test\n",
        "# Hidden tests - you will see the results when you submit to Canvas"
      ],
      "execution_count": 24,
      "outputs": []
    },
    {
      "cell_type": "markdown",
      "metadata": {
        "id": "ePBmVZU7N2nq"
      },
      "source": [
        "**Task 4** - ANSWER\n",
        "\n",
        "Using the margin of error you calculated above, write out your answer in words. Use the following format:\n",
        "\n",
        "*Example: The margin of error is XXmg of caffeine per 12oz serving*\n",
        "\n",
        "This task will not be autograded - but it is part of completing the project.\n",
        "\n",
        "YOUR ANSWER\n",
        "\n",
        "The margin of error is +/- 0.215056mg of caffeine per 12oz serving. "
      ]
    },
    {
      "cell_type": "markdown",
      "metadata": {
        "id": "AtGASqgxYp5t"
      },
      "source": [
        "**Task 5** - Calculate a confidence interval\n",
        "\n",
        "For this task, you are going to calculate a 95% CI for the mean caffeine content in a 12-oz fountain Coke with the CI formula using the summary statistics and t* that you calculated above.\n",
        "\n",
        "* Calculate the lower confidence level and assign it to `lower_cl`\n",
        "* Calculate the upper confidence level and assign it to `upper_cl`"
      ]
    },
    {
      "cell_type": "code",
      "metadata": {
        "colab": {
          "base_uri": "https://localhost:8080/"
        },
        "deletable": false,
        "id": "JPUE0osGEw0M",
        "nbgrader": {
          "cell_type": "code",
          "checksum": "0fa2db14b771419a2f02dceefe78cd48",
          "grade": false,
          "grade_id": "cell-2ee7b7b25af4e5fc",
          "locked": false,
          "schema_version": 3,
          "solution": true,
          "task": false
        },
        "outputId": "51978855-8b0f-4f09-ced5-fbca77908b92"
      },
      "source": [
        "# Task 5\n",
        "\n",
        "# YOUR CODE HERE\n",
        "upper_cl = mean_caffeine+margin_err\n",
        "lower_cl = mean_caffeine-margin_err\n",
        "\n",
        "# View your answers\n",
        "print ('Lower confidence limit = {:.6f}'.format(lower_cl))\n",
        "print ('Upper confidence limit = {:.6f}'.format(upper_cl))"
      ],
      "execution_count": 27,
      "outputs": [
        {
          "output_type": "stream",
          "text": [
            "Lower confidence limit = 37.725144\n",
            "Upper confidence limit = 38.155256\n"
          ],
          "name": "stdout"
        }
      ]
    },
    {
      "cell_type": "markdown",
      "metadata": {
        "id": "pOsDmvG7r-lx"
      },
      "source": [
        "**Task 5 - Test**"
      ]
    },
    {
      "cell_type": "code",
      "metadata": {
        "deletable": false,
        "editable": false,
        "nbgrader": {
          "cell_type": "code",
          "checksum": "32d290e8e61b347efcab0440ff17e750",
          "grade": true,
          "grade_id": "cell-8ea440c5365e886d",
          "locked": true,
          "points": 1,
          "schema_version": 3,
          "solution": false,
          "task": false
        },
        "id": "JnyWOAC0r-ly"
      },
      "source": [
        "# Task 5 Test\n",
        "# Hidden tests - you will see the results when you submit to Canvas"
      ],
      "execution_count": 28,
      "outputs": []
    },
    {
      "cell_type": "markdown",
      "metadata": {
        "id": "ifUd8QDHr-ly"
      },
      "source": [
        "**Task 5** - ANSWER\n",
        "\n",
        "Write out the confidence interval you just calculated. Use the following format:\n",
        "\n",
        "*Example: The true mean of the caffeine content is between [lower CL, upper CL]*\n",
        "\n",
        "This task will not be autograded - but it is part of completing the project.\n",
        "\n",
        "YOUR ANSWER\n",
        "\n",
        "The true mean of the caffeine content is between 37.725144mg and 38.155256mg, measured at hte 95% confidence level. "
      ]
    },
    {
      "cell_type": "markdown",
      "metadata": {
        "id": "gAKJlaMyEzVz"
      },
      "source": [
        "**Task 6** - 95% confidence interval using t-interval\n",
        "\n",
        "As promised in Task 4, we're going to calculate the confidence interval the easy way. We'll use the `t.interval()` function to calculate the 95% confidence interval.\n",
        "\n",
        "* Assign the confidence interval to `t_int_95`\n",
        "* `alpha` should be set equal to the confidence level\n",
        "* `df` is the degrees of freedom\n",
        "* `loc` is the sample mean\n",
        "* `scale` is the standard deviation of the distribution"
      ]
    },
    {
      "cell_type": "code",
      "metadata": {
        "colab": {
          "base_uri": "https://localhost:8080/"
        },
        "deletable": false,
        "id": "GSo4uKWVFKwQ",
        "nbgrader": {
          "cell_type": "code",
          "checksum": "6986f57ed311466fa56e72c8cdc3932f",
          "grade": false,
          "grade_id": "cell-305db71f92847f07",
          "locked": false,
          "schema_version": 3,
          "solution": true,
          "task": false
        },
        "outputId": "ef1fe089-9d7f-425c-92f8-13710d1726d5"
      },
      "source": [
        "# Task 6\n",
        "\n",
        "# YOUR CODE HERE\n",
        "t_int_95 = t.interval(alpha=0.95, df=deg_free, loc=mean_caffeine, \n",
        "                      scale=se_caffeine)\n",
        "\n",
        "# View your answer\n",
        "print('95% CL: {:.6f}, {:.6f}'.format(t_int_95[0], t_int_95[1]))\n"
      ],
      "execution_count": 38,
      "outputs": [
        {
          "output_type": "stream",
          "text": [
            "95% CL: 37.725144, 38.155256\n"
          ],
          "name": "stdout"
        }
      ]
    },
    {
      "cell_type": "markdown",
      "metadata": {
        "id": "3LOhao1Cr-ly"
      },
      "source": [
        "**Task 6 - Test**"
      ]
    },
    {
      "cell_type": "code",
      "metadata": {
        "deletable": false,
        "editable": false,
        "nbgrader": {
          "cell_type": "code",
          "checksum": "20c9d66c41cf66793dbbce5dacb18fc4",
          "grade": true,
          "grade_id": "cell-752d977ae5d519c5",
          "locked": true,
          "points": 1,
          "schema_version": 3,
          "solution": false,
          "task": false
        },
        "id": "6zheTcSDr-ly"
      },
      "source": [
        "# Task 6 Test\n",
        "\n",
        "# Hidden tests - you will see the results when you submit to Canvas"
      ],
      "execution_count": 37,
      "outputs": []
    },
    {
      "cell_type": "markdown",
      "metadata": {
        "id": "Nr1_jFN2r-lz"
      },
      "source": [
        "**Task 7** - Compare and interpret confidence intervals\n",
        "\n",
        "(This part is not graded and is practice for writing out your results.)\n",
        "\n",
        "Q1 - In this task, you are going to do your own test. Look at the two confidence intervals you calculated; are they equal? Should they be equal?\n",
        "\n",
        "The condifence intervals were both calculated at the 95% confidence level, regardless of means of calculating - they should be equal.\n",
        "\n",
        "Q2 - Interpret the meaning of the 95% confidence interval for the mean caffeine content in the 12oz fountain Coke in a sentence or two.\n",
        "\n",
        "ANSWER\n",
        "\n",
        "The population mean for mg_caffeine/12oz serving of Coke in franchise restaurants, at the 95% alpha/confidence inteveral is within 37.725144mg to 38.155256mg.  "
      ]
    },
    {
      "cell_type": "markdown",
      "metadata": {
        "id": "SpqgKQfTYvF0"
      },
      "source": [
        "**Task 8** - 90% confidence interval using t-interval\n",
        "\n",
        "Now that we've calculated a confidence interval at the 95% level, we'll repeat the calculation for a 90% confidence level.\n",
        "\n",
        "* assign the confidence interval to `t_int_90`\n",
        "* `alpha` is the confidence level\n",
        "* `df`, `loc`, `scale` are the same as for the first calculation"
      ]
    },
    {
      "cell_type": "code",
      "metadata": {
        "colab": {
          "base_uri": "https://localhost:8080/"
        },
        "deletable": false,
        "id": "r1y1LE_dPAi6",
        "nbgrader": {
          "cell_type": "code",
          "checksum": "b7515456ef107982fab94eabdec08de8",
          "grade": false,
          "grade_id": "cell-a3a2e1cbb4072949",
          "locked": false,
          "schema_version": 3,
          "solution": true,
          "task": false
        },
        "outputId": "02ebd90b-25b6-4578-c886-39422404e66a"
      },
      "source": [
        "# Task 8\n",
        "\n",
        "# YOUR CODE HERE\n",
        "\n",
        "t_int_90 = t.interval(alpha=0.90, df=deg_free, loc=mean_caffeine, \n",
        "                      scale=se_caffeine)\n",
        "\n",
        "# View your answer\n",
        "print('90% CL: {:.6f}, {:.6f}'.format(t_int_90[0], t_int_90[1]))\n"
      ],
      "execution_count": 40,
      "outputs": [
        {
          "output_type": "stream",
          "text": [
            "90% CL: 37.760783, 38.119617\n"
          ],
          "name": "stdout"
        }
      ]
    },
    {
      "cell_type": "markdown",
      "metadata": {
        "deletable": false,
        "editable": false,
        "nbgrader": {
          "cell_type": "markdown",
          "checksum": "95fe3ae434dad0372ba586ee30595f22",
          "grade": false,
          "grade_id": "cell-dc5dc02f2be6a3ef",
          "locked": true,
          "schema_version": 3,
          "solution": false,
          "task": false
        },
        "id": "eJN5eMHjr-lz"
      },
      "source": [
        "**Task 8 - Test**"
      ]
    },
    {
      "cell_type": "code",
      "metadata": {
        "deletable": false,
        "editable": false,
        "id": "7WIQtB0PGJP4",
        "nbgrader": {
          "cell_type": "code",
          "checksum": "d6b7a7c6fc23109bb072a5bac785a844",
          "grade": true,
          "grade_id": "cell-8e36927f603d605f",
          "locked": true,
          "points": 1,
          "schema_version": 3,
          "solution": false,
          "task": false
        }
      },
      "source": [
        "# Task 8 Test\n",
        "\n",
        "# Hidden tests - you will see the results when you submit to Canvas"
      ],
      "execution_count": 41,
      "outputs": []
    },
    {
      "cell_type": "markdown",
      "metadata": {
        "deletable": false,
        "editable": false,
        "nbgrader": {
          "cell_type": "markdown",
          "checksum": "a6cef21e89b481f73eb5c75bfd63ff6f",
          "grade": false,
          "grade_id": "cell-51ac39cd8ab2dc54",
          "locked": true,
          "schema_version": 3,
          "solution": false,
          "task": false
        },
        "id": "qoICTXyIr-l0"
      },
      "source": [
        "**Task 9** - 99% confidence interval using t-interval\n",
        "\n",
        "And, we'll complete one more confidence interval calculation, this time at the 99% level.\n",
        "\n",
        "* assign the confidence interval to `t_int_99`\n",
        "* `alpha` is the confidence level\n",
        "* `df`, `loc`, `scale` are the same as for the first two calculations"
      ]
    },
    {
      "cell_type": "code",
      "metadata": {
        "deletable": false,
        "id": "hQsmY8RnHKJf",
        "nbgrader": {
          "cell_type": "code",
          "checksum": "1e06c4771ecbe4758e73644dc16ad35f",
          "grade": false,
          "grade_id": "cell-f37ed1827b6fb632",
          "locked": false,
          "schema_version": 3,
          "solution": true,
          "task": false
        },
        "colab": {
          "base_uri": "https://localhost:8080/"
        },
        "outputId": "1f81c525-9bdd-4168-dd98-966cf99b4fdb"
      },
      "source": [
        "# Task 9\n",
        "\n",
        "# YOUR CODE HERE\n",
        "t_int_99 = t.interval(alpha=0.99, df=deg_free, loc=mean_caffeine, scale=se_caffeine)\n",
        "\n",
        "# View your answer\n",
        "print('99% CL: {:.6f}, {:.6f}'.format(t_int_99[0], t_int_99[1]))"
      ],
      "execution_count": 43,
      "outputs": [
        {
          "output_type": "stream",
          "text": [
            "99% CL: 37.653404, 38.226996\n"
          ],
          "name": "stdout"
        }
      ]
    },
    {
      "cell_type": "markdown",
      "metadata": {
        "deletable": false,
        "editable": false,
        "nbgrader": {
          "cell_type": "markdown",
          "checksum": "f97d10064cb38f4d8646e1317f33452e",
          "grade": false,
          "grade_id": "cell-e359e9f60e899925",
          "locked": true,
          "schema_version": 3,
          "solution": false,
          "task": false
        },
        "id": "KNLBxczHr-l0"
      },
      "source": [
        "**Task 9 - Test**"
      ]
    },
    {
      "cell_type": "code",
      "metadata": {
        "deletable": false,
        "editable": false,
        "nbgrader": {
          "cell_type": "code",
          "checksum": "4af561bc3778212bf83a32d7a7f17f91",
          "grade": true,
          "grade_id": "cell-baa41a8080ef51cd",
          "locked": true,
          "points": 1,
          "schema_version": 3,
          "solution": false,
          "task": false
        },
        "id": "G0dZcb5Jr-l0"
      },
      "source": [
        "# Task 9 Test\n",
        "\n",
        "# Hidden tests - you will see the results when you submit to Canvas"
      ],
      "execution_count": null,
      "outputs": []
    },
    {
      "cell_type": "markdown",
      "metadata": {
        "id": "liduCGIkJAC2"
      },
      "source": [
        "**Task 10** - Summarize confidence interval calculations\n",
        "\n",
        "This part is not autograded and is practice for writing out your results!\n",
        "\n",
        "Q1 -  Is the 90% confidence interval more accurate or more precise (pick one) than the 95% confidence interval?\n",
        "\n",
        "ANSWER\n",
        "\n",
        "The 90% confidence interval is more accurate and less precise.\n",
        "\n",
        "Q2 -  Is the 99% confidence interval more accurate or more precise (pick one) than the 95% confidence interval?\n",
        "\n",
        "ANSWER The 99% confidence interval is more precise and less accurate than the 95% confidence interval. "
      ]
    },
    {
      "cell_type": "markdown",
      "metadata": {
        "id": "9tIHBlM_SyGR"
      },
      "source": [
        "## Stretch goals:\n",
        "\n",
        "### Stretch Task 1\n",
        "\n",
        "**The correspondence between confidence intervals and hypothesis tests.**\n",
        "\n",
        "Read [this](https://https://blog.minitab.com/blog/adventures-in-statistics-2/understanding-hypothesis-tests-confidence-intervals-and-confidence-levels#:~:text=If%20a%20hypothesis%20test%20produces,corresponding%20confidence%20level%20is%2095%25.&text=If%20the%20confidence%20interval%20does,the%20results%20are%20statistically%20significant.) article about the correspondence between confidence intervals and hypothesis tests.  Feel free to read the whole article, but the relevant part can be found under the heading Why P Values and Confidence Intervals Always Agree About Statistical Significance.\n",
        "\n",
        "Imagine you work for quality control at Coke and are tasked with making sure that the caffeine content in the fountain beverages served in restaurants is the same as in a 12-oz can of Coke (34mg).  If you believe that the mean caffeine content in fountain coke is not 34mg, you must re-train the franchise managers to make sure the Coke served has the correct caffeine level.\n",
        "\n",
        "Based on the confidence interval you calculated in the assignment, do you believe that the mean caffeine content is statistically significantly different from 34 mg in a 12-oz serving?\n",
        "\n",
        "**Answer the question before viewing the solution in the next cell:**\n",
        "\n",
        "YOUR ANSWER\n",
        "\n",
        "34mg of caffeine is outside of the 95% confidence level, so the mean caffeine content is statistically signifcantly different from the 34mg in a 12-oz serving; we can reject $Ho$\n"
      ]
    },
    {
      "cell_type": "markdown",
      "metadata": {
        "id": "4Aa3df-_LgnT"
      },
      "source": [
        "**Stretch Task 1 Solution**\n",
        "\n",
        "Because 34mg is not in the bounds of the 95% confidence interval, we can reject the null hypothesis that the mean caffeine content in 12-oz of fountain Coke is equal to 34mg.  Instead, we conclude it is between about 36.4 and 39.4 mg."
      ]
    },
    {
      "cell_type": "markdown",
      "metadata": {
        "id": "Ne4k2kd3LhfV"
      },
      "source": [
        "### Stretch Task 2\n",
        "\n",
        "If we increased the sample size from 50 to 100 but the sample mean and SD remained the same, describe **two** ways the margin of error would change.  Would the margin of error become smaller or larger?\n",
        "\n",
        "**Answer the question before viewing the solution in the next cell:**\n",
        "\n",
        "YOUR ANSWER\n",
        "\n",
        "The margin of error will be changed in two ways:\n",
        "$t^*$ will move closer to 1.96 and the standard error will shrink (dof will increase to 99 from 50, increasing the size of the SE's demoninator)."
      ]
    },
    {
      "cell_type": "markdown",
      "metadata": {
        "id": "6lVcoTU6L5Pg"
      },
      "source": [
        "**Stretch Task 2 Solution**\n",
        "\n",
        "Both t* and n would change."
      ]
    },
    {
      "cell_type": "code",
      "metadata": {
        "colab": {
          "base_uri": "https://localhost:8080/"
        },
        "id": "PQkk3nu4L4vu",
        "outputId": "67fed103-2b88-4bfd-df02-d6507d4100ed"
      },
      "source": [
        "# Stretch Task 2 Solution - demonstrated in code\n",
        "\n",
        "t_star = t.ppf(0.975,df=99)\n",
        "\n",
        "n_caffeine = 100\n",
        "se_caffeine = std_caffeine/(n_caffeine**(1/2))\n",
        "\n",
        "ME = t_star*se_caffeine\n",
        "print('Margin of error =', margin_err)"
      ],
      "execution_count": 47,
      "outputs": [
        {
          "output_type": "stream",
          "text": [
            "Margin of error = 0.2150555889319998\n"
          ],
          "name": "stdout"
        }
      ]
    },
    {
      "cell_type": "markdown",
      "metadata": {
        "id": "5bZ8LyiQXnpO"
      },
      "source": [
        "**Stretch Task 2 Solution**\n",
        "\n",
        "The ME for n = 100 is 1.04 compared to 1.49 when n = 50.  Increasing the sample size decreases the margin of error (thus increasing the precision of the estimate) while maintaining the same level of confidence."
      ]
    }
  ]
}