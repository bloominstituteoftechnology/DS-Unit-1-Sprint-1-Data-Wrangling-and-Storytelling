{
  "nbformat": 4,
  "nbformat_minor": 0,
  "metadata": {
    "colab": {
      "name": "DS16_Unit_1_Sprint_Challenge_1_Data_Wrangling_and_Storytelling.ipynb",
      "provenance": [],
      "include_colab_link": true
    },
    "kernelspec": {
      "name": "python3",
      "display_name": "Python 3"
    }
  },
  "cells": [
    {
      "cell_type": "markdown",
      "metadata": {
        "id": "view-in-github",
        "colab_type": "text"
      },
      "source": [
        "<a href=\"https://colab.research.google.com/github/phuonggtrann/DS-Unit-1-Sprint-1-Data-Wrangling-and-Storytelling/blob/master/DS16_Unit_1_Sprint_Challenge_1_Data_Wrangling_and_Storytelling.ipynb\" target=\"_parent\"><img src=\"https://colab.research.google.com/assets/colab-badge.svg\" alt=\"Open In Colab\"/></a>"
      ]
    },
    {
      "cell_type": "markdown",
      "metadata": {
        "id": "2kYJKHpXFbN2",
        "colab_type": "text"
      },
      "source": [
        "# Data Science Unit 1 Sprint Challenge 1\n",
        "\n",
        "## Data Wrangling and Storytelling\n",
        "\n",
        "Taming data from its raw form into informative insights and stories."
      ]
    },
    {
      "cell_type": "markdown",
      "metadata": {
        "id": "qSvL3CeTFk9F",
        "colab_type": "text"
      },
      "source": [
        "## Data Wrangling\n",
        "\n",
        "In this Sprint Challenge you will first \"wrangle\" some data from [Gapminder](https://www.gapminder.org/about-gapminder/), a Swedish non-profit co-founded by Hans Rosling. \"Gapminder produces free teaching resources making the world understandable based on reliable statistics.\"\n",
        "- [Cell phones (total), by country and year](https://raw.githubusercontent.com/open-numbers/ddf--gapminder--systema_globalis/master/ddf--datapoints--cell_phones_total--by--geo--time.csv)\n",
        "- [Population (total), by country and year](https://raw.githubusercontent.com/open-numbers/ddf--gapminder--systema_globalis/master/ddf--datapoints--population_total--by--geo--time.csv)\n",
        "- [Geo country codes](https://github.com/open-numbers/ddf--gapminder--systema_globalis/blob/master/ddf--entities--geo--country.csv)\n",
        "\n",
        "These two links have everything you need to successfully complete the first part of this sprint challenge.\n",
        "- [Pandas documentation: Working with Text Data](https://pandas.pydata.org/pandas-docs/stable/text.html) (one question)\n",
        "- [Pandas Cheat Sheet](https://github.com/pandas-dev/pandas/blob/master/doc/cheatsheet/Pandas_Cheat_Sheet.pdf) (everything else)"
      ]
    },
    {
      "cell_type": "markdown",
      "metadata": {
        "id": "_45iUXguF3cJ",
        "colab_type": "text"
      },
      "source": [
        "### Part 1 - Load and Explore the Data\n",
        "\n",
        "Run the cell below to load the datasets into three dataframes and then follow the instructions below\n"
      ]
    },
    {
      "cell_type": "code",
      "metadata": {
        "id": "4OuxHNZzFpGT",
        "colab_type": "code",
        "colab": {}
      },
      "source": [
        "import pandas as pd\n",
        "\n",
        "cell_phones = pd.read_csv('https://raw.githubusercontent.com/open-numbers/ddf--gapminder--systema_globalis/master/ddf--datapoints--cell_phones_total--by--geo--time.csv')\n",
        "\n",
        "population = pd.read_csv('https://raw.githubusercontent.com/open-numbers/ddf--gapminder--systema_globalis/master/ddf--datapoints--population_total--by--geo--time.csv')\n",
        "\n",
        "geo_country_codes = (pd.read_csv('https://raw.githubusercontent.com/open-numbers/ddf--gapminder--systema_globalis/master/ddf--entities--geo--country.csv')\n",
        "                       .rename(columns={'country': 'geo', 'name': 'country'}))\n",
        "\n",
        "geo_country_codes = geo_country_codes[['geo','country']]"
      ],
      "execution_count": 0,
      "outputs": []
    },
    {
      "cell_type": "code",
      "metadata": {
        "id": "EixWLcO-cLa4",
        "colab_type": "code",
        "outputId": "f855d8ad-1899-4fba-c866-fcae42186160",
        "colab": {
          "base_uri": "https://localhost:8080/",
          "height": 191
        }
      },
      "source": [
        "cell_phones.head()"
      ],
      "execution_count": 0,
      "outputs": [
        {
          "output_type": "execute_result",
          "data": {
            "text/html": [
              "<div>\n",
              "<style scoped>\n",
              "    .dataframe tbody tr th:only-of-type {\n",
              "        vertical-align: middle;\n",
              "    }\n",
              "\n",
              "    .dataframe tbody tr th {\n",
              "        vertical-align: top;\n",
              "    }\n",
              "\n",
              "    .dataframe thead th {\n",
              "        text-align: right;\n",
              "    }\n",
              "</style>\n",
              "<table border=\"1\" class=\"dataframe\">\n",
              "  <thead>\n",
              "    <tr style=\"text-align: right;\">\n",
              "      <th></th>\n",
              "      <th>geo</th>\n",
              "      <th>time</th>\n",
              "      <th>cell_phones_total</th>\n",
              "    </tr>\n",
              "  </thead>\n",
              "  <tbody>\n",
              "    <tr>\n",
              "      <th>0</th>\n",
              "      <td>abw</td>\n",
              "      <td>1960</td>\n",
              "      <td>0.0</td>\n",
              "    </tr>\n",
              "    <tr>\n",
              "      <th>1</th>\n",
              "      <td>abw</td>\n",
              "      <td>1965</td>\n",
              "      <td>0.0</td>\n",
              "    </tr>\n",
              "    <tr>\n",
              "      <th>2</th>\n",
              "      <td>abw</td>\n",
              "      <td>1970</td>\n",
              "      <td>0.0</td>\n",
              "    </tr>\n",
              "    <tr>\n",
              "      <th>3</th>\n",
              "      <td>abw</td>\n",
              "      <td>1975</td>\n",
              "      <td>0.0</td>\n",
              "    </tr>\n",
              "    <tr>\n",
              "      <th>4</th>\n",
              "      <td>abw</td>\n",
              "      <td>1976</td>\n",
              "      <td>0.0</td>\n",
              "    </tr>\n",
              "  </tbody>\n",
              "</table>\n",
              "</div>"
            ],
            "text/plain": [
              "   geo  time  cell_phones_total\n",
              "0  abw  1960                0.0\n",
              "1  abw  1965                0.0\n",
              "2  abw  1970                0.0\n",
              "3  abw  1975                0.0\n",
              "4  abw  1976                0.0"
            ]
          },
          "metadata": {
            "tags": []
          },
          "execution_count": 18
        }
      ]
    },
    {
      "cell_type": "markdown",
      "metadata": {
        "id": "49XlFKmVIPl1",
        "colab_type": "text"
      },
      "source": [
        "Check for missing/null values in the three dataframes"
      ]
    },
    {
      "cell_type": "code",
      "metadata": {
        "id": "SwmSvUySJjXc",
        "colab_type": "code",
        "outputId": "800d46b7-db24-4cfd-c53d-1d7a68a43f65",
        "colab": {
          "base_uri": "https://localhost:8080/",
          "height": 82
        }
      },
      "source": [
        "# Cell phone df\n",
        "cell_phones.isnull().sum()"
      ],
      "execution_count": 0,
      "outputs": [
        {
          "output_type": "execute_result",
          "data": {
            "text/plain": [
              "geo                  0\n",
              "time                 0\n",
              "cell_phones_total    0\n",
              "dtype: int64"
            ]
          },
          "metadata": {
            "tags": []
          },
          "execution_count": 19
        }
      ]
    },
    {
      "cell_type": "code",
      "metadata": {
        "id": "CnCPEY3K0ur0",
        "colab_type": "code",
        "outputId": "a2d15e68-8d7a-4e8e-acf2-3c76fe22cf35",
        "colab": {
          "base_uri": "https://localhost:8080/",
          "height": 85
        }
      },
      "source": [
        "# Population df\n",
        "population.isnull().sum()"
      ],
      "execution_count": 0,
      "outputs": [
        {
          "output_type": "execute_result",
          "data": {
            "text/plain": [
              "geo                 0\n",
              "time                0\n",
              "population_total    0\n",
              "dtype: int64"
            ]
          },
          "metadata": {
            "tags": []
          },
          "execution_count": 4
        }
      ]
    },
    {
      "cell_type": "code",
      "metadata": {
        "id": "VAHY1htc1Bo_",
        "colab_type": "code",
        "outputId": "acb7280d-90ea-4b73-da77-b6246edc15d1",
        "colab": {
          "base_uri": "https://localhost:8080/",
          "height": 66
        }
      },
      "source": [
        "# geo df\n",
        "geo_country_codes.isnull().sum()"
      ],
      "execution_count": 0,
      "outputs": [
        {
          "output_type": "execute_result",
          "data": {
            "text/plain": [
              "geo        0\n",
              "country    0\n",
              "dtype: int64"
            ]
          },
          "metadata": {
            "tags": []
          },
          "execution_count": 20
        }
      ]
    },
    {
      "cell_type": "markdown",
      "metadata": {
        "id": "83ovVS6qIWS1",
        "colab_type": "text"
      },
      "source": [
        "Make a scatter plot from the `cell_phones` dataframe plotting \"time\" against \"cell_phones_total\""
      ]
    },
    {
      "cell_type": "code",
      "metadata": {
        "id": "ewdGy4NfG9vA",
        "colab_type": "code",
        "outputId": "01d9271d-63a7-4098-cb4d-ae549a825ccc",
        "colab": {
          "base_uri": "https://localhost:8080/",
          "height": 306
        }
      },
      "source": [
        "cell_phones.plot.scatter('time', 'cell_phones_total')"
      ],
      "execution_count": 0,
      "outputs": [
        {
          "output_type": "execute_result",
          "data": {
            "text/plain": [
              "<matplotlib.axes._subplots.AxesSubplot at 0x7f3818925668>"
            ]
          },
          "metadata": {
            "tags": []
          },
          "execution_count": 21
        },
        {
          "output_type": "display_data",
          "data": {
            "image/png": "[encoded data removed]",
            "text/plain": [
              "<Figure size 432x288 with 1 Axes>"
            ]
          },
          "metadata": {
            "tags": [],
            "needs_background": "light"
          }
        }
      ]
    },
    {
      "cell_type": "markdown",
      "metadata": {
        "id": "IvJMtxmBI27k",
        "colab_type": "text"
      },
      "source": [
        "### Part 2 - Join data\n",
        "\n",
        "First, join the `cell_phones` and `population` dataframes (with an inner join on `geo` and `time`).\n",
        "\n",
        "The resulting dataframe's shape should be: (8590, 4)"
      ]
    },
    {
      "cell_type": "code",
      "metadata": {
        "id": "MFMA06QjG1KT",
        "colab_type": "code",
        "outputId": "c6a3cef0-6c15-43de-9b0a-de415d8fe645",
        "colab": {
          "base_uri": "https://localhost:8080/",
          "height": 33
        }
      },
      "source": [
        "j1 = pd.merge(cell_phones, population, on=['geo', 'time'], how='inner')\n",
        "print(j1.shape)"
      ],
      "execution_count": 0,
      "outputs": [
        {
          "output_type": "stream",
          "text": [
            "(8786, 4)\n"
          ],
          "name": "stdout"
        }
      ]
    },
    {
      "cell_type": "markdown",
      "metadata": {
        "id": "lziNWF2eJZwC",
        "colab_type": "text"
      },
      "source": [
        "Then, select the `geo` and `country` columns from the `geo_country_codes` dataframe, and join with your population and cell phone data.\n",
        "\n",
        "The resulting dataframe's shape should be: (8590, 5)"
      ]
    },
    {
      "cell_type": "code",
      "metadata": {
        "id": "KQa2Jw9gJa-g",
        "colab_type": "code",
        "outputId": "22811a71-c7bd-41da-e0d2-790193cf3694",
        "colab": {
          "base_uri": "https://localhost:8080/",
          "height": 33
        }
      },
      "source": [
        "j2 = pd.merge(j1, geo_country_codes[['geo', 'country']], how='inner')\n",
        "print(j2.shape)"
      ],
      "execution_count": 0,
      "outputs": [
        {
          "output_type": "stream",
          "text": [
            "(8786, 5)\n"
          ],
          "name": "stdout"
        }
      ]
    },
    {
      "cell_type": "markdown",
      "metadata": {
        "id": "8xjRfkOjKECI",
        "colab_type": "text"
      },
      "source": [
        "### Part 3 - Make features\n",
        "\n",
        "Calculate the number of cell phones per person, and add this column onto your dataframe.\n",
        "\n",
        "(You've calculated correctly if you get 1.220 cell phones per person in the United States in 2017.)"
      ]
    },
    {
      "cell_type": "code",
      "metadata": {
        "id": "lOgLvqCQKFwY",
        "colab_type": "code",
        "outputId": "320485b5-f8d6-4403-b3f6-8e008eeff310",
        "colab": {
          "base_uri": "https://localhost:8080/",
          "height": 1000
        }
      },
      "source": [
        "j2['cellphone_per_person'] = j2['cell_phones_total'] / j2['population_total']\n",
        "j2[j2['geo']=='usa'] # Checking"
      ],
      "execution_count": 0,
      "outputs": [
        {
          "output_type": "execute_result",
          "data": {
            "text/html": [
              "<div>\n",
              "<style scoped>\n",
              "    .dataframe tbody tr th:only-of-type {\n",
              "        vertical-align: middle;\n",
              "    }\n",
              "\n",
              "    .dataframe tbody tr th {\n",
              "        vertical-align: top;\n",
              "    }\n",
              "\n",
              "    .dataframe thead th {\n",
              "        text-align: right;\n",
              "    }\n",
              "</style>\n",
              "<table border=\"1\" class=\"dataframe\">\n",
              "  <thead>\n",
              "    <tr style=\"text-align: right;\">\n",
              "      <th></th>\n",
              "      <th>geo</th>\n",
              "      <th>time</th>\n",
              "      <th>cell_phones_total</th>\n",
              "      <th>population_total</th>\n",
              "      <th>country</th>\n",
              "      <th>cellphone_per_person</th>\n",
              "    </tr>\n",
              "  </thead>\n",
              "  <tbody>\n",
              "    <tr>\n",
              "      <th>8277</th>\n",
              "      <td>usa</td>\n",
              "      <td>1960</td>\n",
              "      <td>0.0</td>\n",
              "      <td>186720570</td>\n",
              "      <td>United States</td>\n",
              "      <td>0.000000</td>\n",
              "    </tr>\n",
              "    <tr>\n",
              "      <th>8278</th>\n",
              "      <td>usa</td>\n",
              "      <td>1965</td>\n",
              "      <td>0.0</td>\n",
              "      <td>199733679</td>\n",
              "      <td>United States</td>\n",
              "      <td>0.000000</td>\n",
              "    </tr>\n",
              "    <tr>\n",
              "      <th>8279</th>\n",
              "      <td>usa</td>\n",
              "      <td>1970</td>\n",
              "      <td>0.0</td>\n",
              "      <td>209513340</td>\n",
              "      <td>United States</td>\n",
              "      <td>0.000000</td>\n",
              "    </tr>\n",
              "    <tr>\n",
              "      <th>8280</th>\n",
              "      <td>usa</td>\n",
              "      <td>1975</td>\n",
              "      <td>0.0</td>\n",
              "      <td>219081250</td>\n",
              "      <td>United States</td>\n",
              "      <td>0.000000</td>\n",
              "    </tr>\n",
              "    <tr>\n",
              "      <th>8281</th>\n",
              "      <td>usa</td>\n",
              "      <td>1976</td>\n",
              "      <td>0.0</td>\n",
              "      <td>221086427</td>\n",
              "      <td>United States</td>\n",
              "      <td>0.000000</td>\n",
              "    </tr>\n",
              "    <tr>\n",
              "      <th>8282</th>\n",
              "      <td>usa</td>\n",
              "      <td>1977</td>\n",
              "      <td>0.0</td>\n",
              "      <td>223135659</td>\n",
              "      <td>United States</td>\n",
              "      <td>0.000000</td>\n",
              "    </tr>\n",
              "    <tr>\n",
              "      <th>8283</th>\n",
              "      <td>usa</td>\n",
              "      <td>1978</td>\n",
              "      <td>0.0</td>\n",
              "      <td>225223307</td>\n",
              "      <td>United States</td>\n",
              "      <td>0.000000</td>\n",
              "    </tr>\n",
              "    <tr>\n",
              "      <th>8284</th>\n",
              "      <td>usa</td>\n",
              "      <td>1979</td>\n",
              "      <td>0.0</td>\n",
              "      <td>227339321</td>\n",
              "      <td>United States</td>\n",
              "      <td>0.000000</td>\n",
              "    </tr>\n",
              "    <tr>\n",
              "      <th>8285</th>\n",
              "      <td>usa</td>\n",
              "      <td>1980</td>\n",
              "      <td>0.0</td>\n",
              "      <td>229476360</td>\n",
              "      <td>United States</td>\n",
              "      <td>0.000000</td>\n",
              "    </tr>\n",
              "    <tr>\n",
              "      <th>8286</th>\n",
              "      <td>usa</td>\n",
              "      <td>1984</td>\n",
              "      <td>91600.0</td>\n",
              "      <td>238256849</td>\n",
              "      <td>United States</td>\n",
              "      <td>0.000384</td>\n",
              "    </tr>\n",
              "    <tr>\n",
              "      <th>8287</th>\n",
              "      <td>usa</td>\n",
              "      <td>1985</td>\n",
              "      <td>340213.0</td>\n",
              "      <td>240499822</td>\n",
              "      <td>United States</td>\n",
              "      <td>0.001415</td>\n",
              "    </tr>\n",
              "    <tr>\n",
              "      <th>8288</th>\n",
              "      <td>usa</td>\n",
              "      <td>1986</td>\n",
              "      <td>681825.0</td>\n",
              "      <td>242763137</td>\n",
              "      <td>United States</td>\n",
              "      <td>0.002809</td>\n",
              "    </tr>\n",
              "    <tr>\n",
              "      <th>8289</th>\n",
              "      <td>usa</td>\n",
              "      <td>1987</td>\n",
              "      <td>1230855.0</td>\n",
              "      <td>245052780</td>\n",
              "      <td>United States</td>\n",
              "      <td>0.005023</td>\n",
              "    </tr>\n",
              "    <tr>\n",
              "      <th>8290</th>\n",
              "      <td>usa</td>\n",
              "      <td>1988</td>\n",
              "      <td>2069441.0</td>\n",
              "      <td>247372258</td>\n",
              "      <td>United States</td>\n",
              "      <td>0.008366</td>\n",
              "    </tr>\n",
              "    <tr>\n",
              "      <th>8291</th>\n",
              "      <td>usa</td>\n",
              "      <td>1989</td>\n",
              "      <td>3508944.0</td>\n",
              "      <td>249725809</td>\n",
              "      <td>United States</td>\n",
              "      <td>0.014051</td>\n",
              "    </tr>\n",
              "    <tr>\n",
              "      <th>8292</th>\n",
              "      <td>usa</td>\n",
              "      <td>1990</td>\n",
              "      <td>5283055.0</td>\n",
              "      <td>252120309</td>\n",
              "      <td>United States</td>\n",
              "      <td>0.020954</td>\n",
              "    </tr>\n",
              "    <tr>\n",
              "      <th>8293</th>\n",
              "      <td>usa</td>\n",
              "      <td>1991</td>\n",
              "      <td>7557148.0</td>\n",
              "      <td>254539371</td>\n",
              "      <td>United States</td>\n",
              "      <td>0.029690</td>\n",
              "    </tr>\n",
              "    <tr>\n",
              "      <th>8294</th>\n",
              "      <td>usa</td>\n",
              "      <td>1992</td>\n",
              "      <td>11032753.0</td>\n",
              "      <td>256990608</td>\n",
              "      <td>United States</td>\n",
              "      <td>0.042931</td>\n",
              "    </tr>\n",
              "    <tr>\n",
              "      <th>8295</th>\n",
              "      <td>usa</td>\n",
              "      <td>1993</td>\n",
              "      <td>16009461.0</td>\n",
              "      <td>259532130</td>\n",
              "      <td>United States</td>\n",
              "      <td>0.061686</td>\n",
              "    </tr>\n",
              "    <tr>\n",
              "      <th>8296</th>\n",
              "      <td>usa</td>\n",
              "      <td>1994</td>\n",
              "      <td>24134421.0</td>\n",
              "      <td>262241204</td>\n",
              "      <td>United States</td>\n",
              "      <td>0.092031</td>\n",
              "    </tr>\n",
              "    <tr>\n",
              "      <th>8297</th>\n",
              "      <td>usa</td>\n",
              "      <td>1995</td>\n",
              "      <td>33785661.0</td>\n",
              "      <td>265163741</td>\n",
              "      <td>United States</td>\n",
              "      <td>0.127414</td>\n",
              "    </tr>\n",
              "    <tr>\n",
              "      <th>8298</th>\n",
              "      <td>usa</td>\n",
              "      <td>1996</td>\n",
              "      <td>44042992.0</td>\n",
              "      <td>268335008</td>\n",
              "      <td>United States</td>\n",
              "      <td>0.164134</td>\n",
              "    </tr>\n",
              "    <tr>\n",
              "      <th>8299</th>\n",
              "      <td>usa</td>\n",
              "      <td>1997</td>\n",
              "      <td>55312293.0</td>\n",
              "      <td>271713634</td>\n",
              "      <td>United States</td>\n",
              "      <td>0.203568</td>\n",
              "    </tr>\n",
              "    <tr>\n",
              "      <th>8300</th>\n",
              "      <td>usa</td>\n",
              "      <td>1998</td>\n",
              "      <td>69209321.0</td>\n",
              "      <td>275175309</td>\n",
              "      <td>United States</td>\n",
              "      <td>0.251510</td>\n",
              "    </tr>\n",
              "    <tr>\n",
              "      <th>8301</th>\n",
              "      <td>usa</td>\n",
              "      <td>1999</td>\n",
              "      <td>86047003.0</td>\n",
              "      <td>278548148</td>\n",
              "      <td>United States</td>\n",
              "      <td>0.308912</td>\n",
              "    </tr>\n",
              "    <tr>\n",
              "      <th>8302</th>\n",
              "      <td>usa</td>\n",
              "      <td>2000</td>\n",
              "      <td>109478031.0</td>\n",
              "      <td>281710914</td>\n",
              "      <td>United States</td>\n",
              "      <td>0.388618</td>\n",
              "    </tr>\n",
              "    <tr>\n",
              "      <th>8303</th>\n",
              "      <td>usa</td>\n",
              "      <td>2001</td>\n",
              "      <td>128500000.0</td>\n",
              "      <td>284607992</td>\n",
              "      <td>United States</td>\n",
              "      <td>0.451498</td>\n",
              "    </tr>\n",
              "    <tr>\n",
              "      <th>8304</th>\n",
              "      <td>usa</td>\n",
              "      <td>2002</td>\n",
              "      <td>141800000.0</td>\n",
              "      <td>287279312</td>\n",
              "      <td>United States</td>\n",
              "      <td>0.493596</td>\n",
              "    </tr>\n",
              "    <tr>\n",
              "      <th>8305</th>\n",
              "      <td>usa</td>\n",
              "      <td>2003</td>\n",
              "      <td>160637000.0</td>\n",
              "      <td>289815567</td>\n",
              "      <td>United States</td>\n",
              "      <td>0.554273</td>\n",
              "    </tr>\n",
              "    <tr>\n",
              "      <th>8306</th>\n",
              "      <td>usa</td>\n",
              "      <td>2004</td>\n",
              "      <td>184819000.0</td>\n",
              "      <td>292354663</td>\n",
              "      <td>United States</td>\n",
              "      <td>0.632174</td>\n",
              "    </tr>\n",
              "    <tr>\n",
              "      <th>8307</th>\n",
              "      <td>usa</td>\n",
              "      <td>2005</td>\n",
              "      <td>203700000.0</td>\n",
              "      <td>294993509</td>\n",
              "      <td>United States</td>\n",
              "      <td>0.690524</td>\n",
              "    </tr>\n",
              "    <tr>\n",
              "      <th>8308</th>\n",
              "      <td>usa</td>\n",
              "      <td>2006</td>\n",
              "      <td>229600000.0</td>\n",
              "      <td>297758977</td>\n",
              "      <td>United States</td>\n",
              "      <td>0.771093</td>\n",
              "    </tr>\n",
              "    <tr>\n",
              "      <th>8309</th>\n",
              "      <td>usa</td>\n",
              "      <td>2007</td>\n",
              "      <td>249300000.0</td>\n",
              "      <td>300608425</td>\n",
              "      <td>United States</td>\n",
              "      <td>0.829318</td>\n",
              "    </tr>\n",
              "    <tr>\n",
              "      <th>8310</th>\n",
              "      <td>usa</td>\n",
              "      <td>2008</td>\n",
              "      <td>261300000.0</td>\n",
              "      <td>303486022</td>\n",
              "      <td>United States</td>\n",
              "      <td>0.860995</td>\n",
              "    </tr>\n",
              "    <tr>\n",
              "      <th>8311</th>\n",
              "      <td>usa</td>\n",
              "      <td>2009</td>\n",
              "      <td>274283000.0</td>\n",
              "      <td>306307565</td>\n",
              "      <td>United States</td>\n",
              "      <td>0.895450</td>\n",
              "    </tr>\n",
              "    <tr>\n",
              "      <th>8312</th>\n",
              "      <td>usa</td>\n",
              "      <td>2010</td>\n",
              "      <td>285118000.0</td>\n",
              "      <td>309011469</td>\n",
              "      <td>United States</td>\n",
              "      <td>0.922678</td>\n",
              "    </tr>\n",
              "    <tr>\n",
              "      <th>8313</th>\n",
              "      <td>usa</td>\n",
              "      <td>2011</td>\n",
              "      <td>297404000.0</td>\n",
              "      <td>311584051</td>\n",
              "      <td>United States</td>\n",
              "      <td>0.954490</td>\n",
              "    </tr>\n",
              "    <tr>\n",
              "      <th>8314</th>\n",
              "      <td>usa</td>\n",
              "      <td>2012</td>\n",
              "      <td>304838000.0</td>\n",
              "      <td>314043885</td>\n",
              "      <td>United States</td>\n",
              "      <td>0.970686</td>\n",
              "    </tr>\n",
              "    <tr>\n",
              "      <th>8315</th>\n",
              "      <td>usa</td>\n",
              "      <td>2013</td>\n",
              "      <td>310698000.0</td>\n",
              "      <td>316400539</td>\n",
              "      <td>United States</td>\n",
              "      <td>0.981977</td>\n",
              "    </tr>\n",
              "    <tr>\n",
              "      <th>8316</th>\n",
              "      <td>usa</td>\n",
              "      <td>2014</td>\n",
              "      <td>355500000.0</td>\n",
              "      <td>318673422</td>\n",
              "      <td>United States</td>\n",
              "      <td>1.115562</td>\n",
              "    </tr>\n",
              "    <tr>\n",
              "      <th>8317</th>\n",
              "      <td>usa</td>\n",
              "      <td>2015</td>\n",
              "      <td>382307000.0</td>\n",
              "      <td>320878312</td>\n",
              "      <td>United States</td>\n",
              "      <td>1.191439</td>\n",
              "    </tr>\n",
              "    <tr>\n",
              "      <th>8318</th>\n",
              "      <td>usa</td>\n",
              "      <td>2016</td>\n",
              "      <td>396000000.0</td>\n",
              "      <td>323015992</td>\n",
              "      <td>United States</td>\n",
              "      <td>1.225945</td>\n",
              "    </tr>\n",
              "    <tr>\n",
              "      <th>8319</th>\n",
              "      <td>usa</td>\n",
              "      <td>2017</td>\n",
              "      <td>400000000.0</td>\n",
              "      <td>325084758</td>\n",
              "      <td>United States</td>\n",
              "      <td>1.230448</td>\n",
              "    </tr>\n",
              "    <tr>\n",
              "      <th>8320</th>\n",
              "      <td>usa</td>\n",
              "      <td>2018</td>\n",
              "      <td>422000000.0</td>\n",
              "      <td>327096263</td>\n",
              "      <td>United States</td>\n",
              "      <td>1.290140</td>\n",
              "    </tr>\n",
              "  </tbody>\n",
              "</table>\n",
              "</div>"
            ],
            "text/plain": [
              "      geo  time  ...        country  cellphone_per_person\n",
              "8277  usa  1960  ...  United States              0.000000\n",
              "8278  usa  1965  ...  United States              0.000000\n",
              "8279  usa  1970  ...  United States              0.000000\n",
              "8280  usa  1975  ...  United States              0.000000\n",
              "8281  usa  1976  ...  United States              0.000000\n",
              "8282  usa  1977  ...  United States              0.000000\n",
              "8283  usa  1978  ...  United States              0.000000\n",
              "8284  usa  1979  ...  United States              0.000000\n",
              "8285  usa  1980  ...  United States              0.000000\n",
              "8286  usa  1984  ...  United States              0.000384\n",
              "8287  usa  1985  ...  United States              0.001415\n",
              "8288  usa  1986  ...  United States              0.002809\n",
              "8289  usa  1987  ...  United States              0.005023\n",
              "8290  usa  1988  ...  United States              0.008366\n",
              "8291  usa  1989  ...  United States              0.014051\n",
              "8292  usa  1990  ...  United States              0.020954\n",
              "8293  usa  1991  ...  United States              0.029690\n",
              "8294  usa  1992  ...  United States              0.042931\n",
              "8295  usa  1993  ...  United States              0.061686\n",
              "8296  usa  1994  ...  United States              0.092031\n",
              "8297  usa  1995  ...  United States              0.127414\n",
              "8298  usa  1996  ...  United States              0.164134\n",
              "8299  usa  1997  ...  United States              0.203568\n",
              "8300  usa  1998  ...  United States              0.251510\n",
              "8301  usa  1999  ...  United States              0.308912\n",
              "8302  usa  2000  ...  United States              0.388618\n",
              "8303  usa  2001  ...  United States              0.451498\n",
              "8304  usa  2002  ...  United States              0.493596\n",
              "8305  usa  2003  ...  United States              0.554273\n",
              "8306  usa  2004  ...  United States              0.632174\n",
              "8307  usa  2005  ...  United States              0.690524\n",
              "8308  usa  2006  ...  United States              0.771093\n",
              "8309  usa  2007  ...  United States              0.829318\n",
              "8310  usa  2008  ...  United States              0.860995\n",
              "8311  usa  2009  ...  United States              0.895450\n",
              "8312  usa  2010  ...  United States              0.922678\n",
              "8313  usa  2011  ...  United States              0.954490\n",
              "8314  usa  2012  ...  United States              0.970686\n",
              "8315  usa  2013  ...  United States              0.981977\n",
              "8316  usa  2014  ...  United States              1.115562\n",
              "8317  usa  2015  ...  United States              1.191439\n",
              "8318  usa  2016  ...  United States              1.225945\n",
              "8319  usa  2017  ...  United States              1.230448\n",
              "8320  usa  2018  ...  United States              1.290140\n",
              "\n",
              "[44 rows x 6 columns]"
            ]
          },
          "metadata": {
            "tags": []
          },
          "execution_count": 43
        }
      ]
    },
    {
      "cell_type": "markdown",
      "metadata": {
        "id": "j2xDq7MAKRjg",
        "colab_type": "text"
      },
      "source": [
        "### Part 4 - Process data\n",
        "\n",
        "Use the describe function, to describe your dataframe's numeric columns, and then its non-numeric columns.\n",
        "\n",
        "(You'll see the time period ranges from 1960 to 2017, and there are 195 unique countries represented.)"
      ]
    },
    {
      "cell_type": "code",
      "metadata": {
        "id": "7uTdL8eFKWTz",
        "colab_type": "code",
        "outputId": "41ef2876-bbd7-4f1a-cb16-1c9b21b73fb9",
        "colab": {
          "base_uri": "https://localhost:8080/",
          "height": 277
        }
      },
      "source": [
        "j2.describe()"
      ],
      "execution_count": 0,
      "outputs": [
        {
          "output_type": "execute_result",
          "data": {
            "text/html": [
              "<div>\n",
              "<style scoped>\n",
              "    .dataframe tbody tr th:only-of-type {\n",
              "        vertical-align: middle;\n",
              "    }\n",
              "\n",
              "    .dataframe tbody tr th {\n",
              "        vertical-align: top;\n",
              "    }\n",
              "\n",
              "    .dataframe thead th {\n",
              "        text-align: right;\n",
              "    }\n",
              "</style>\n",
              "<table border=\"1\" class=\"dataframe\">\n",
              "  <thead>\n",
              "    <tr style=\"text-align: right;\">\n",
              "      <th></th>\n",
              "      <th>time</th>\n",
              "      <th>cell_phones_total</th>\n",
              "      <th>population_total</th>\n",
              "      <th>cellphone_per_person</th>\n",
              "    </tr>\n",
              "  </thead>\n",
              "  <tbody>\n",
              "    <tr>\n",
              "      <th>count</th>\n",
              "      <td>8786.000000</td>\n",
              "      <td>8.786000e+03</td>\n",
              "      <td>8.786000e+03</td>\n",
              "      <td>8786.000000</td>\n",
              "    </tr>\n",
              "    <tr>\n",
              "      <th>mean</th>\n",
              "      <td>1994.721603</td>\n",
              "      <td>9.701331e+06</td>\n",
              "      <td>3.002185e+07</td>\n",
              "      <td>0.298025</td>\n",
              "    </tr>\n",
              "    <tr>\n",
              "      <th>std</th>\n",
              "      <td>14.525220</td>\n",
              "      <td>5.968296e+07</td>\n",
              "      <td>1.172833e+08</td>\n",
              "      <td>0.468332</td>\n",
              "    </tr>\n",
              "    <tr>\n",
              "      <th>min</th>\n",
              "      <td>1960.000000</td>\n",
              "      <td>0.000000e+00</td>\n",
              "      <td>4.377000e+03</td>\n",
              "      <td>0.000000</td>\n",
              "    </tr>\n",
              "    <tr>\n",
              "      <th>25%</th>\n",
              "      <td>1983.000000</td>\n",
              "      <td>0.000000e+00</td>\n",
              "      <td>1.474928e+06</td>\n",
              "      <td>0.000000</td>\n",
              "    </tr>\n",
              "    <tr>\n",
              "      <th>50%</th>\n",
              "      <td>1995.000000</td>\n",
              "      <td>8.500000e+03</td>\n",
              "      <td>5.816554e+06</td>\n",
              "      <td>0.002346</td>\n",
              "    </tr>\n",
              "    <tr>\n",
              "      <th>75%</th>\n",
              "      <td>2007.000000</td>\n",
              "      <td>2.028511e+06</td>\n",
              "      <td>1.823047e+07</td>\n",
              "      <td>0.532728</td>\n",
              "    </tr>\n",
              "    <tr>\n",
              "      <th>max</th>\n",
              "      <td>2018.000000</td>\n",
              "      <td>1.649302e+09</td>\n",
              "      <td>1.427648e+09</td>\n",
              "      <td>2.699755</td>\n",
              "    </tr>\n",
              "  </tbody>\n",
              "</table>\n",
              "</div>"
            ],
            "text/plain": [
              "              time  cell_phones_total  population_total  cellphone_per_person\n",
              "count  8786.000000       8.786000e+03      8.786000e+03           8786.000000\n",
              "mean   1994.721603       9.701331e+06      3.002185e+07              0.298025\n",
              "std      14.525220       5.968296e+07      1.172833e+08              0.468332\n",
              "min    1960.000000       0.000000e+00      4.377000e+03              0.000000\n",
              "25%    1983.000000       0.000000e+00      1.474928e+06              0.000000\n",
              "50%    1995.000000       8.500000e+03      5.816554e+06              0.002346\n",
              "75%    2007.000000       2.028511e+06      1.823047e+07              0.532728\n",
              "max    2018.000000       1.649302e+09      1.427648e+09              2.699755"
            ]
          },
          "metadata": {
            "tags": []
          },
          "execution_count": 46
        }
      ]
    },
    {
      "cell_type": "code",
      "metadata": {
        "id": "Rexvg0Rp-8To",
        "colab_type": "code",
        "outputId": "93bdb9c6-2010-40ff-c831-bf85250bf151",
        "colab": {
          "base_uri": "https://localhost:8080/",
          "height": 98
        }
      },
      "source": [
        "j2['country'].describe()"
      ],
      "execution_count": 0,
      "outputs": [
        {
          "output_type": "execute_result",
          "data": {
            "text/plain": [
              "count        8786\n",
              "unique        195\n",
              "top       Uruguay\n",
              "freq           47\n",
              "Name: country, dtype: object"
            ]
          },
          "metadata": {
            "tags": []
          },
          "execution_count": 47
        }
      ]
    },
    {
      "cell_type": "markdown",
      "metadata": {
        "id": "KXEmo_HdKy_5",
        "colab_type": "text"
      },
      "source": [
        "In 2017, what were the top 5 countries with the most cell phones total?\n",
        "\n",
        "Your list of countries should have these totals:\n",
        "\n",
        "| country | cell phones total |\n",
        "|:-------:|:-----------------:|\n",
        "|    ?    |     1,474,097,000 |\n",
        "|    ?    |     1,168,902,277 |\n",
        "|    ?    |       458,923,202 |\n",
        "|    ?    |       395,881,000 |\n",
        "|    ?    |       236,488,548 |\n"
      ]
    },
    {
      "cell_type": "code",
      "metadata": {
        "id": "NbCVBsBIK06K",
        "colab_type": "code",
        "outputId": "2c1ba136-60e6-480b-c25c-1d51dc8117f4",
        "colab": {
          "base_uri": "https://localhost:8080/",
          "height": 191
        }
      },
      "source": [
        "top5 = j2[j2['time']==2017]\n",
        "top5 = top5.sort_values('cell_phones_total', ascending=False)\n",
        "\n",
        "top5.head(5)"
      ],
      "execution_count": 0,
      "outputs": [
        {
          "output_type": "execute_result",
          "data": {
            "text/html": [
              "<div>\n",
              "<style scoped>\n",
              "    .dataframe tbody tr th:only-of-type {\n",
              "        vertical-align: middle;\n",
              "    }\n",
              "\n",
              "    .dataframe tbody tr th {\n",
              "        vertical-align: top;\n",
              "    }\n",
              "\n",
              "    .dataframe thead th {\n",
              "        text-align: right;\n",
              "    }\n",
              "</style>\n",
              "<table border=\"1\" class=\"dataframe\">\n",
              "  <thead>\n",
              "    <tr style=\"text-align: right;\">\n",
              "      <th></th>\n",
              "      <th>geo</th>\n",
              "      <th>time</th>\n",
              "      <th>cell_phones_total</th>\n",
              "      <th>population_total</th>\n",
              "      <th>country</th>\n",
              "      <th>cellphone_per_person</th>\n",
              "    </tr>\n",
              "  </thead>\n",
              "  <tbody>\n",
              "    <tr>\n",
              "      <th>1530</th>\n",
              "      <td>chn</td>\n",
              "      <td>2017</td>\n",
              "      <td>1.469882e+09</td>\n",
              "      <td>1421021794</td>\n",
              "      <td>China</td>\n",
              "      <td>1.034384</td>\n",
              "    </tr>\n",
              "    <tr>\n",
              "      <th>3674</th>\n",
              "      <td>ind</td>\n",
              "      <td>2017</td>\n",
              "      <td>1.168902e+09</td>\n",
              "      <td>1338676779</td>\n",
              "      <td>India</td>\n",
              "      <td>0.873177</td>\n",
              "    </tr>\n",
              "    <tr>\n",
              "      <th>3627</th>\n",
              "      <td>idn</td>\n",
              "      <td>2017</td>\n",
              "      <td>4.351936e+08</td>\n",
              "      <td>264650969</td>\n",
              "      <td>Indonesia</td>\n",
              "      <td>1.644406</td>\n",
              "    </tr>\n",
              "    <tr>\n",
              "      <th>8319</th>\n",
              "      <td>usa</td>\n",
              "      <td>2017</td>\n",
              "      <td>4.000000e+08</td>\n",
              "      <td>325084758</td>\n",
              "      <td>United States</td>\n",
              "      <td>1.230448</td>\n",
              "    </tr>\n",
              "    <tr>\n",
              "      <th>6783</th>\n",
              "      <td>rus</td>\n",
              "      <td>2017</td>\n",
              "      <td>2.272997e+08</td>\n",
              "      <td>145530091</td>\n",
              "      <td>Russia</td>\n",
              "      <td>1.561874</td>\n",
              "    </tr>\n",
              "  </tbody>\n",
              "</table>\n",
              "</div>"
            ],
            "text/plain": [
              "      geo  time  ...        country  cellphone_per_person\n",
              "1530  chn  2017  ...          China              1.034384\n",
              "3674  ind  2017  ...          India              0.873177\n",
              "3627  idn  2017  ...      Indonesia              1.644406\n",
              "8319  usa  2017  ...  United States              1.230448\n",
              "6783  rus  2017  ...         Russia              1.561874\n",
              "\n",
              "[5 rows x 6 columns]"
            ]
          },
          "metadata": {
            "tags": []
          },
          "execution_count": 57
        }
      ]
    },
    {
      "cell_type": "markdown",
      "metadata": {
        "id": "RcBnaSW_LYSk",
        "colab_type": "text"
      },
      "source": [
        "## Data Storytelling\n",
        "\n",
        "In this part of the sprint challenge you'll work with a dataset from **FiveThirtyEight's article, [Every Guest Jon Stewart Ever Had On ‘The Daily Show’](https://fivethirtyeight.com/features/every-guest-jon-stewart-ever-had-on-the-daily-show/)**!"
      ]
    },
    {
      "cell_type": "markdown",
      "metadata": {
        "id": "t0vUeBgBLcby",
        "colab_type": "text"
      },
      "source": [
        "### Part 0 — Run this starter code\n",
        "\n",
        "You don't need to add or change anything here. Just run this cell and it loads the data for you, into a dataframe named `df`.\n",
        "\n",
        "(You can explore the data if you want, but it's not required to pass the Sprint Challenge.)"
      ]
    },
    {
      "cell_type": "code",
      "metadata": {
        "id": "pc7YmWvlLas5",
        "colab_type": "code",
        "outputId": "556d958a-8b20-41aa-aad6-b1f6f6321198",
        "colab": {
          "base_uri": "https://localhost:8080/",
          "height": 236
        }
      },
      "source": [
        "%matplotlib inline\n",
        "import matplotlib.pyplot as plt\n",
        "import numpy as np\n",
        "import pandas as pd\n",
        "import seaborn as sns\n",
        "\n",
        "cable_news_url = 'https://raw.githubusercontent.com/fivethirtyeight/data/master/media-mentions-2020/cable_weekly.csv'\n",
        "online_news_url = 'https://raw.githubusercontent.com/fivethirtyeight/data/master/media-mentions-2020/online_weekly.csv'\n",
        "\n",
        "cable = pd.read_csv(cable_news_url)\n",
        "online = pd.read_csv(online_news_url)\n",
        "\n",
        "merged = pd.merge(cable[['date', 'name', 'pct_of_all_candidate_clips']], online[['date', 'name', 'pct_of_all_candidate_stories']])\n",
        "merged['date'] = pd.to_datetime(merged['date'], infer_datetime_format=True)\n",
        "merged = merged.set_index('date')\n",
        "\n",
        "unique_dates = list(set(merged.index.to_list()))\n",
        "\n",
        "import datetime\n",
        "\n",
        "joe_biden_cable_multiple = []\n",
        "joe_biden_online_multiple = []\n",
        "\n",
        "for date in unique_dates:\n",
        "  that_day = merged.loc[datetime.date(year=date.year, month=date.month, day=date.day)]\n",
        "\n",
        "  joe_biden_cable_that_day = that_day[that_day['name']==\"Joe Biden\"]['pct_of_all_candidate_clips']\n",
        "  not_joe_biden_cable_max = that_day[that_day['name']!=\"Joe Biden\"]['pct_of_all_candidate_clips'].max()\n",
        "  joe_biden_cable_multiple_of_max = joe_biden_cable_that_day / not_joe_biden_cable_max\n",
        "\n",
        "  joe_biden_online_that_day = that_day[that_day['name']==\"Joe Biden\"]['pct_of_all_candidate_stories']\n",
        "  not_joe_biden_online_max = that_day[that_day['name']!=\"Joe Biden\"]['pct_of_all_candidate_stories'].max()\n",
        "  joe_biden_online_multiple_of_max = joe_biden_online_that_day / not_joe_biden_online_max\n",
        "\n",
        "\n",
        "  joe_biden_cable_multiple.append(joe_biden_cable_multiple_of_max.values[0])\n",
        "  joe_biden_online_multiple.append(joe_biden_online_multiple_of_max.values[0])\n",
        "\n",
        "df = pd.DataFrame({'date': unique_dates, 'biden_cable_multiple':joe_biden_cable_multiple, 'biden_online_multiple': joe_biden_online_multiple})\n",
        "df = df.set_index('date')\n",
        "df = df.sort_index()\n",
        "\n",
        "data_for_graph = df.loc[datetime.date(2019, 4, 15):]\n",
        "print(data_for_graph.shape)\n",
        "data_for_graph.head()"
      ],
      "execution_count": 0,
      "outputs": [
        {
          "output_type": "stream",
          "text": [
            "(27, 2)\n"
          ],
          "name": "stdout"
        },
        {
          "output_type": "execute_result",
          "data": {
            "text/html": [
              "<div>\n",
              "<style scoped>\n",
              "    .dataframe tbody tr th:only-of-type {\n",
              "        vertical-align: middle;\n",
              "    }\n",
              "\n",
              "    .dataframe tbody tr th {\n",
              "        vertical-align: top;\n",
              "    }\n",
              "\n",
              "    .dataframe thead th {\n",
              "        text-align: right;\n",
              "    }\n",
              "</style>\n",
              "<table border=\"1\" class=\"dataframe\">\n",
              "  <thead>\n",
              "    <tr style=\"text-align: right;\">\n",
              "      <th></th>\n",
              "      <th>biden_cable_multiple</th>\n",
              "      <th>biden_online_multiple</th>\n",
              "    </tr>\n",
              "    <tr>\n",
              "      <th>date</th>\n",
              "      <th></th>\n",
              "      <th></th>\n",
              "    </tr>\n",
              "  </thead>\n",
              "  <tbody>\n",
              "    <tr>\n",
              "      <th>2019-04-21</th>\n",
              "      <td>3.087352</td>\n",
              "      <td>1.107492</td>\n",
              "    </tr>\n",
              "    <tr>\n",
              "      <th>2019-04-28</th>\n",
              "      <td>3.707641</td>\n",
              "      <td>1.295820</td>\n",
              "    </tr>\n",
              "    <tr>\n",
              "      <th>2019-05-05</th>\n",
              "      <td>2.805169</td>\n",
              "      <td>1.306122</td>\n",
              "    </tr>\n",
              "    <tr>\n",
              "      <th>2019-05-12</th>\n",
              "      <td>3.235849</td>\n",
              "      <td>1.045386</td>\n",
              "    </tr>\n",
              "    <tr>\n",
              "      <th>2019-05-19</th>\n",
              "      <td>2.494624</td>\n",
              "      <td>1.119588</td>\n",
              "    </tr>\n",
              "  </tbody>\n",
              "</table>\n",
              "</div>"
            ],
            "text/plain": [
              "            biden_cable_multiple  biden_online_multiple\n",
              "date                                                   \n",
              "2019-04-21              3.087352               1.107492\n",
              "2019-04-28              3.707641               1.295820\n",
              "2019-05-05              2.805169               1.306122\n",
              "2019-05-12              3.235849               1.045386\n",
              "2019-05-19              2.494624               1.119588"
            ]
          },
          "metadata": {
            "tags": []
          },
          "execution_count": 58
        }
      ]
    },
    {
      "cell_type": "markdown",
      "metadata": {
        "id": "UthoeNABLwau",
        "colab_type": "text"
      },
      "source": [
        "### Part 1 — Recreate this explanatory visualization:\n",
        "\n"
      ]
    },
    {
      "cell_type": "code",
      "metadata": {
        "id": "oy9dt9l6Lz18",
        "colab_type": "code",
        "outputId": "f6f839bd-fd00-4608-95ed-fe63d595535b",
        "colab": {
          "base_uri": "https://localhost:8080/",
          "height": 447
        }
      },
      "source": [
        "from IPython.display import display, Image\n",
        "png = 'https://fivethirtyeight.com/wp-content/uploads/2019/10/Mehta-Media1028-1028-1.png'\n",
        "example = Image(png, width=500)\n",
        "display(example)"
      ],
      "execution_count": 0,
      "outputs": [
        {
          "output_type": "display_data",
          "data": {
            "image/png": "[encoded data removed]",
            "text/plain": [
              "<IPython.core.display.Image object>"
            ]
          },
          "metadata": {
            "tags": [],
            "image/png": {
              "width": 500
            }
          }
        }
      ]
    },
    {
      "cell_type": "markdown",
      "metadata": {
        "id": "WEHUhxlTL2w2",
        "colab_type": "text"
      },
      "source": [
        "**Hints:**\n",
        "- You can choose any Python visualization library you want. I've verified the plot can be reproduced with matplotlib, pandas plot, or seaborn. I assume other libraries like altair or plotly would work too.\n",
        "\n",
        "**Expectations:** Your plot should include:\n",
        "- 2 lines visualizing the Cable news vs Online news lines The shapes of the lines should look roughly identical to 538's example. Each line should be a different color. (But you don't need to use the _same_ colors as 538.)\n",
        "- Legend **or** labels for the lines. (But **you don't need each label positioned next to its line or colored like 538.**)\n",
        "- Title in the upper left: _\"Biden's Ukraine-related media bump is fading\"_ with more visual emphasis than the subtitle. (Bolder and/or larger font.)\n",
        "- Subtitle underneath the title: _\"Biden's share of media mentions on each medium relative ot the next most-mentioned candidate each week\"_"
      ]
    },
    {
      "cell_type": "code",
      "metadata": {
        "id": "J-T3IU__L0ih",
        "colab_type": "code",
        "outputId": "f8558904-bc9a-4ac6-9c9d-c6d910639a7d",
        "colab": {
          "base_uri": "https://localhost:8080/",
          "height": 303
        }
      },
      "source": [
        "import matplotlib.pyplot as plt\n",
        "import datetime as dt\n",
        "import numpy as np\n",
        "\n",
        "plt.style.use('fivethirtyeight')\n",
        "fig, ax = plt.subplots()\n",
        "\n",
        "ax.set_yticklabels(['0', 'EVEN', '2','3','4','5x'])\n",
        "ax.set_xticklabels([\"MAY'19\", \"JUNE\", \"JULY\", \"AUG.\", \"SEPT.\", \"OCT.\"])\n",
        "\n",
        "\n",
        "ax.set_title(\"Biden's Ukraine-related media bump is fading\" )\n",
        "ax.text(s=\"Biden's share of media mentions on each medium relative ot the next\", x=-0.1, y=0.95 , transform=ax.transAxes)\n",
        "ax.text(s=\"most-mentioned candidate each week\", x=-0.1, y=0.9 , transform=ax.transAxes)\n",
        "\n",
        "ax.plot(data_for_graph)\n",
        "#ax.legend(['Cable news','Online news'])\n",
        "\n",
        "plt.show()"
      ],
      "execution_count": 219,
      "outputs": [
        {
          "output_type": "display_data",
          "data": {
            "image/png": "[encoded data removed]",
            "text/plain": [
              "<Figure size 432x288 with 1 Axes>"
            ]
          },
          "metadata": {
            "tags": []
          }
        }
      ]
    },
    {
      "cell_type": "markdown",
      "metadata": {
        "id": "svbK28PWNCic",
        "colab_type": "text"
      },
      "source": [
        "## How to get a 3 on this Sprint Challenge:\n",
        "\n",
        "Once you have completed the above making a solid attempt at each section, if you still have time remaining, you can go back and do any of the following to get a score of 3 on the above sections. Remember that everything in this section is **optional** and that we will average your scores between the different sections, so get the easy points first!\n",
        "\n",
        "Complete any of the following **within** their corresponding sections in the Sprint Challenge (go back up and add these thigns):\n",
        "\n",
        "### Data Wrangling Section 1\n",
        "\n",
        "Filter the `cell_phones` dataframe to only include information about the USA and China and then remake the scatterplot. \n",
        "\n",
        "### Data Wrangling Section 2\n",
        "\n",
        "Explain why we are using an \"inner\" join when we merge these dataframes. \n",
        "\n",
        "### Data Wrangling Section 3\n",
        "\n",
        "Modify the geo column to make the geo codes uppercase instead of lowercase.\n",
        "\n",
        "### Data Wrangling Section 4\n",
        "\n",
        "2017 was the first year that China had more cell phones than people.\n",
        "\n",
        "What was the first year that the USA had more cell phones than people?\n",
        "\n",
        "### Data Storytelling \n",
        "\n",
        "Keep on working on your graph to make it look particularly like the 538 graph by manipulating the graph's background color, the line colors, the x and y axis tick marks/labels, etc. \n",
        "\n",
        "If you have already completed everything else, take this as far as you can within the time limit.\n"
      ]
    },
    {
      "cell_type": "code",
      "metadata": {
        "id": "yrMJvHMGehx8",
        "colab_type": "code",
        "outputId": "25ddc4c7-1d4e-4a37-b27c-1ae5dbd1e01d",
        "colab": {
          "base_uri": "https://localhost:8080/",
          "height": 419
        }
      },
      "source": [
        "# 1\n",
        "cell_phones[(cell_phones['geo']=='chn') | (cell_phones['geo']=='usa')]"
      ],
      "execution_count": 198,
      "outputs": [
        {
          "output_type": "execute_result",
          "data": {
            "text/html": [
              "<div>\n",
              "<style scoped>\n",
              "    .dataframe tbody tr th:only-of-type {\n",
              "        vertical-align: middle;\n",
              "    }\n",
              "\n",
              "    .dataframe tbody tr th {\n",
              "        vertical-align: top;\n",
              "    }\n",
              "\n",
              "    .dataframe thead th {\n",
              "        text-align: right;\n",
              "    }\n",
              "</style>\n",
              "<table border=\"1\" class=\"dataframe\">\n",
              "  <thead>\n",
              "    <tr style=\"text-align: right;\">\n",
              "      <th></th>\n",
              "      <th>geo</th>\n",
              "      <th>time</th>\n",
              "      <th>cell_phones_total</th>\n",
              "    </tr>\n",
              "  </thead>\n",
              "  <tbody>\n",
              "    <tr>\n",
              "      <th>1599</th>\n",
              "      <td>chn</td>\n",
              "      <td>1960</td>\n",
              "      <td>0.0</td>\n",
              "    </tr>\n",
              "    <tr>\n",
              "      <th>1600</th>\n",
              "      <td>chn</td>\n",
              "      <td>1965</td>\n",
              "      <td>0.0</td>\n",
              "    </tr>\n",
              "    <tr>\n",
              "      <th>1601</th>\n",
              "      <td>chn</td>\n",
              "      <td>1970</td>\n",
              "      <td>0.0</td>\n",
              "    </tr>\n",
              "    <tr>\n",
              "      <th>1602</th>\n",
              "      <td>chn</td>\n",
              "      <td>1975</td>\n",
              "      <td>0.0</td>\n",
              "    </tr>\n",
              "    <tr>\n",
              "      <th>1603</th>\n",
              "      <td>chn</td>\n",
              "      <td>1976</td>\n",
              "      <td>0.0</td>\n",
              "    </tr>\n",
              "    <tr>\n",
              "      <th>...</th>\n",
              "      <td>...</td>\n",
              "      <td>...</td>\n",
              "      <td>...</td>\n",
              "    </tr>\n",
              "    <tr>\n",
              "      <th>8900</th>\n",
              "      <td>usa</td>\n",
              "      <td>2014</td>\n",
              "      <td>355500000.0</td>\n",
              "    </tr>\n",
              "    <tr>\n",
              "      <th>8901</th>\n",
              "      <td>usa</td>\n",
              "      <td>2015</td>\n",
              "      <td>382307000.0</td>\n",
              "    </tr>\n",
              "    <tr>\n",
              "      <th>8902</th>\n",
              "      <td>usa</td>\n",
              "      <td>2016</td>\n",
              "      <td>396000000.0</td>\n",
              "    </tr>\n",
              "    <tr>\n",
              "      <th>8903</th>\n",
              "      <td>usa</td>\n",
              "      <td>2017</td>\n",
              "      <td>400000000.0</td>\n",
              "    </tr>\n",
              "    <tr>\n",
              "      <th>8904</th>\n",
              "      <td>usa</td>\n",
              "      <td>2018</td>\n",
              "      <td>422000000.0</td>\n",
              "    </tr>\n",
              "  </tbody>\n",
              "</table>\n",
              "<p>91 rows × 3 columns</p>\n",
              "</div>"
            ],
            "text/plain": [
              "      geo  time  cell_phones_total\n",
              "1599  chn  1960                0.0\n",
              "1600  chn  1965                0.0\n",
              "1601  chn  1970                0.0\n",
              "1602  chn  1975                0.0\n",
              "1603  chn  1976                0.0\n",
              "...   ...   ...                ...\n",
              "8900  usa  2014        355500000.0\n",
              "8901  usa  2015        382307000.0\n",
              "8902  usa  2016        396000000.0\n",
              "8903  usa  2017        400000000.0\n",
              "8904  usa  2018        422000000.0\n",
              "\n",
              "[91 rows x 3 columns]"
            ]
          },
          "metadata": {
            "tags": []
          },
          "execution_count": 198
        }
      ]
    },
    {
      "cell_type": "code",
      "metadata": {
        "id": "kyplUczXp67a",
        "colab_type": "code",
        "colab": {
          "base_uri": "https://localhost:8080/",
          "height": 335
        },
        "outputId": "2c43dc09-13aa-41d4-aa21-d185cc89e5f5"
      },
      "source": [
        "cell_phones[(cell_phones['geo']=='chn') | (cell_phones['geo']=='usa')].plot.scatter('time', 'cell_phones_total')"
      ],
      "execution_count": 220,
      "outputs": [
        {
          "output_type": "execute_result",
          "data": {
            "text/plain": [
              "<matplotlib.axes._subplots.AxesSubplot at 0x7f3817601e48>"
            ]
          },
          "metadata": {
            "tags": []
          },
          "execution_count": 220
        },
        {
          "output_type": "display_data",
          "data": {
            "image/png": "[encoded data removed]",
            "text/plain": [
              "<Figure size 432x288 with 1 Axes>"
            ]
          },
          "metadata": {
            "tags": []
          }
        }
      ]
    },
    {
      "cell_type": "code",
      "metadata": {
        "id": "9VN1msWMcrg1",
        "colab_type": "code",
        "colab": {}
      },
      "source": [
        "#2 : inner is to join to columns by intersection only"
      ],
      "execution_count": 0,
      "outputs": []
    },
    {
      "cell_type": "code",
      "metadata": {
        "id": "KzGsL_PYc2DO",
        "colab_type": "code",
        "colab": {
          "base_uri": "https://localhost:8080/",
          "height": 419
        },
        "outputId": "d7a63061-4cbe-409e-ad82-634f19004581"
      },
      "source": [
        "#3\n",
        "geo_country_codes['geo'] = geo_country_codes['geo'].str.upper()\n",
        "geo_country_codes # Checking"
      ],
      "execution_count": 201,
      "outputs": [
        {
          "output_type": "execute_result",
          "data": {
            "text/html": [
              "<div>\n",
              "<style scoped>\n",
              "    .dataframe tbody tr th:only-of-type {\n",
              "        vertical-align: middle;\n",
              "    }\n",
              "\n",
              "    .dataframe tbody tr th {\n",
              "        vertical-align: top;\n",
              "    }\n",
              "\n",
              "    .dataframe thead th {\n",
              "        text-align: right;\n",
              "    }\n",
              "</style>\n",
              "<table border=\"1\" class=\"dataframe\">\n",
              "  <thead>\n",
              "    <tr style=\"text-align: right;\">\n",
              "      <th></th>\n",
              "      <th>geo</th>\n",
              "      <th>country</th>\n",
              "    </tr>\n",
              "  </thead>\n",
              "  <tbody>\n",
              "    <tr>\n",
              "      <th>0</th>\n",
              "      <td>ABKH</td>\n",
              "      <td>Abkhazia</td>\n",
              "    </tr>\n",
              "    <tr>\n",
              "      <th>1</th>\n",
              "      <td>ABW</td>\n",
              "      <td>Aruba</td>\n",
              "    </tr>\n",
              "    <tr>\n",
              "      <th>2</th>\n",
              "      <td>AFG</td>\n",
              "      <td>Afghanistan</td>\n",
              "    </tr>\n",
              "    <tr>\n",
              "      <th>3</th>\n",
              "      <td>AGO</td>\n",
              "      <td>Angola</td>\n",
              "    </tr>\n",
              "    <tr>\n",
              "      <th>4</th>\n",
              "      <td>AIA</td>\n",
              "      <td>Anguilla</td>\n",
              "    </tr>\n",
              "    <tr>\n",
              "      <th>...</th>\n",
              "      <td>...</td>\n",
              "      <td>...</td>\n",
              "    </tr>\n",
              "    <tr>\n",
              "      <th>268</th>\n",
              "      <td>YEM_SOUTH</td>\n",
              "      <td>South Yemen (former)</td>\n",
              "    </tr>\n",
              "    <tr>\n",
              "      <th>269</th>\n",
              "      <td>YUG</td>\n",
              "      <td>Yugoslavia</td>\n",
              "    </tr>\n",
              "    <tr>\n",
              "      <th>270</th>\n",
              "      <td>ZAF</td>\n",
              "      <td>South Africa</td>\n",
              "    </tr>\n",
              "    <tr>\n",
              "      <th>271</th>\n",
              "      <td>ZMB</td>\n",
              "      <td>Zambia</td>\n",
              "    </tr>\n",
              "    <tr>\n",
              "      <th>272</th>\n",
              "      <td>ZWE</td>\n",
              "      <td>Zimbabwe</td>\n",
              "    </tr>\n",
              "  </tbody>\n",
              "</table>\n",
              "<p>273 rows × 2 columns</p>\n",
              "</div>"
            ],
            "text/plain": [
              "           geo               country\n",
              "0         ABKH              Abkhazia\n",
              "1          ABW                 Aruba\n",
              "2          AFG           Afghanistan\n",
              "3          AGO                Angola\n",
              "4          AIA              Anguilla\n",
              "..         ...                   ...\n",
              "268  YEM_SOUTH  South Yemen (former)\n",
              "269        YUG            Yugoslavia\n",
              "270        ZAF          South Africa\n",
              "271        ZMB                Zambia\n",
              "272        ZWE              Zimbabwe\n",
              "\n",
              "[273 rows x 2 columns]"
            ]
          },
          "metadata": {
            "tags": []
          },
          "execution_count": 201
        }
      ]
    },
    {
      "cell_type": "code",
      "metadata": {
        "id": "uF-XI6AGdaEW",
        "colab_type": "code",
        "colab": {
          "base_uri": "https://localhost:8080/",
          "height": 80
        },
        "outputId": "50e0991d-9f71-46fd-e180-e48640ccc872"
      },
      "source": [
        "#4: First year usa make more cell phones than people\n",
        "s4 = j2[['geo','time', 'cell_phones_total', 'population_total']]\n",
        "s4 = j2[(j2['cell_phones_total']>j2['population_total']) & (j2['geo']=='usa')]\n",
        "s4=s4.sort_values('time', ascending=True)\n",
        "s4.head(1) # This is first year USA make more cell phones than people"
      ],
      "execution_count": 216,
      "outputs": [
        {
          "output_type": "execute_result",
          "data": {
            "text/html": [
              "<div>\n",
              "<style scoped>\n",
              "    .dataframe tbody tr th:only-of-type {\n",
              "        vertical-align: middle;\n",
              "    }\n",
              "\n",
              "    .dataframe tbody tr th {\n",
              "        vertical-align: top;\n",
              "    }\n",
              "\n",
              "    .dataframe thead th {\n",
              "        text-align: right;\n",
              "    }\n",
              "</style>\n",
              "<table border=\"1\" class=\"dataframe\">\n",
              "  <thead>\n",
              "    <tr style=\"text-align: right;\">\n",
              "      <th></th>\n",
              "      <th>geo</th>\n",
              "      <th>time</th>\n",
              "      <th>cell_phones_total</th>\n",
              "      <th>population_total</th>\n",
              "      <th>country</th>\n",
              "      <th>cellphone_per_person</th>\n",
              "    </tr>\n",
              "  </thead>\n",
              "  <tbody>\n",
              "    <tr>\n",
              "      <th>8316</th>\n",
              "      <td>usa</td>\n",
              "      <td>2014</td>\n",
              "      <td>355500000.0</td>\n",
              "      <td>318673422</td>\n",
              "      <td>United States</td>\n",
              "      <td>1.115562</td>\n",
              "    </tr>\n",
              "  </tbody>\n",
              "</table>\n",
              "</div>"
            ],
            "text/plain": [
              "      geo  time  ...        country  cellphone_per_person\n",
              "8316  usa  2014  ...  United States              1.115562\n",
              "\n",
              "[1 rows x 6 columns]"
            ]
          },
          "metadata": {
            "tags": []
          },
          "execution_count": 216
        }
      ]
    }
  ]
}