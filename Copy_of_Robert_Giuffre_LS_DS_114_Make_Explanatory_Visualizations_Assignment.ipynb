{
  "nbformat": 4,
  "nbformat_minor": 0,
  "metadata": {
    "colab": {
      "name": "Copy of Robert Giuffre LS_DS_114_Make_Explanatory_Visualizations_Assignment.ipynb",
      "provenance": [],
      "collapsed_sections": [],
      "include_colab_link": true
    },
    "language_info": {
      "codemirror_mode": {
        "name": "ipython",
        "version": 3
      },
      "file_extension": ".py",
      "mimetype": "text/x-python",
      "name": "python",
      "nbconvert_exporter": "python",
      "pygments_lexer": "ipython3",
      "version": "3.7.1"
    },
    "kernelspec": {
      "display_name": "Python 3",
      "language": "python",
      "name": "python3"
    }
  },
  "cells": [
    {
      "cell_type": "markdown",
      "metadata": {
        "id": "view-in-github",
        "colab_type": "text"
      },
      "source": [
        "<a href=\"https://colab.research.google.com/github/rgiuffre90/DS-Unit-1-Sprint-1-Data-Wrangling-and-Storytelling/blob/master/Copy_of_Robert_Giuffre_LS_DS_114_Make_Explanatory_Visualizations_Assignment.ipynb\" target=\"_parent\"><img src=\"https://colab.research.google.com/assets/colab-badge.svg\" alt=\"Open In Colab\"/></a>"
      ]
    },
    {
      "cell_type": "markdown",
      "metadata": {
        "colab_type": "text",
        "id": "NMEswXWh9mqw"
      },
      "source": [
        "Lambda School Data Science\n",
        "\n",
        "*Unit 1, Sprint 1, Module 4*\n",
        "\n",
        "---\n",
        "\n",
        "# ASSIGNMENT\n",
        "\n",
        "### 1) Replicate the lesson code. I recommend that you [do not copy-paste](https://docs.google.com/document/d/1ubOw9B3Hfip27hF2ZFnW3a3z9xAgrUDRReOEo-FHCVs/edit).\n",
        "\n",
        "Get caught up to where we got our example in class and then try and take things further. How close to \"pixel perfect\" can you make the lecture graph?\n",
        "\n",
        "Once you have something that you're proud of, share your graph in the cohort channel and move on to the second exercise.\n",
        "\n",
        "### 2) Reproduce another example from [FiveThityEight's shared data repository](https://data.fivethirtyeight.com/).\n",
        "\n",
        "**WARNING**: There are a lot of very custom graphs and tables at the above link. I **highly** recommend not trying to reproduce any that look like a table of values or something really different from the graph types that we are already familiar with. Search through the posts until you find a graph type that you are more or less familiar with: histogram, bar chart, stacked bar chart, line chart, [seaborn relplot](https://seaborn.pydata.org/generated/seaborn.relplot.html), etc. Recreating some of the graphics that 538 uses would be a lot easier in Adobe photoshop/illustrator than with matplotlib. \n",
        "\n",
        "- If you put in some time to find a graph that looks \"easy\" to replicate you'll probably find that it's not as easy as you thought. \n",
        "\n",
        "- If you start with a graph that looks hard to replicate you'll probably run up against a brick wall and be disappointed with your afternoon.\n",
        "\n",
        "\n",
        "\n",
        "\n",
        "\n",
        "\n",
        "\n",
        "\n",
        "\n",
        "\n"
      ]
    },
    {
      "cell_type": "code",
      "metadata": {
        "id": "7SY1ZHawyZvz",
        "colab_type": "code",
        "colab": {}
      },
      "source": [
        "# Your Work Here"
      ],
      "execution_count": null,
      "outputs": []
    },
    {
      "cell_type": "code",
      "metadata": {
        "id": "mAuoKjhvSmTy",
        "colab_type": "code",
        "colab": {}
      },
      "source": [
        "import pandas as pd\n",
        "import matplotlib.pyplot as plt"
      ],
      "execution_count": null,
      "outputs": []
    },
    {
      "cell_type": "code",
      "metadata": {
        "id": "UMXmMjCgSaX-",
        "colab_type": "code",
        "colab": {
          "base_uri": "https://localhost:8080/",
          "height": 268
        },
        "outputId": "08f631a8-0b57-4ec4-f901-6e3a70861d6c"
      },
      "source": [
        "# Exploratory Graph\n",
        "fake = pd.Series([38, 3, 2, 1, 2, 4, 6, 5, 5, 33], \n",
        "                 index=range(1,11))\n",
        "fake.plot.bar();"
      ],
      "execution_count": null,
      "outputs": [
        {
          "output_type": "display_data",
          "data": {
            "image/png": "[encoded data removed]",
            "text/plain": [
              "<Figure size 432x288 with 1 Axes>"
            ]
          },
          "metadata": {
            "tags": [],
            "needs_background": "light"
          }
        }
      ]
    },
    {
      "cell_type": "code",
      "metadata": {
        "id": "A8UTxkYZTQR9",
        "colab_type": "code",
        "colab": {
          "base_uri": "https://localhost:8080/",
          "height": 329
        },
        "outputId": "09be6598-f8df-4cc7-9ec6-b6fc23a601da"
      },
      "source": [
        "plt.style.use('fivethirtyeight')\n",
        "\n",
        "fig, ax = plt.subplots()\n",
        "\n",
        "# My graph stuff goes in the middle\n",
        "# figure background color\n",
        "fig.set_facecolor('white')\n",
        "\n",
        "# bars on the graph\n",
        "ax.bar([1,2,3,4,5,6,7,8,9,10], fake, color='#ED713A', width=.9)\n",
        "\n",
        "# axes background color\n",
        "ax.set_facecolor('white')\n",
        "\n",
        "# axis labels\n",
        "ax.set_xlabel('Rating', fontweight='bold', fontsize=9)\n",
        "ax.set_ylabel('Percent of total votes', fontweight='bold', fontsize=8.5)\n",
        "\n",
        "# Graph title\n",
        "ax.set_title(\"'An Inconvenient Sequel: Truth To Power' is divisive\", fontsize=12, fontweight='bold', x=.3, y=1.1)\n",
        "\n",
        "# Grph subtitle\n",
        "# bottom left-hand corner of the lable is located somewhere on the axes\n",
        "# x and y position refers to the x and y axis\n",
        "ax.text(s=\"IMDb ratings for the film as of Aug. 29\", x=-1.5, y=42, fontsize=12)\n",
        "\n",
        "# set ticks (x and y)\n",
        "ax.set_xticks([1,2,3,4,5,6,7,8,9,10])\n",
        "ax.set_yticks([0,10,20,30,40])\n",
        "ax.tick_params(axis='both', colors='grey', labelsize='8',\n",
        "               tickdir='inout')\n",
        "\n",
        "ax.set_yticklabels([0, 10, 20, 30, '40%'])\n",
        "\n",
        "# Turn off the spines\n",
        "ax.spines['left'].set_visible(False)\n",
        "ax.spines['right'].set_visible(False)\n",
        "ax.spines['top'].set_visible(False)\n",
        "ax.spines['bottom'].set_visible(False)\n",
        "\n",
        "plt.show()"
      ],
      "execution_count": null,
      "outputs": [
        {
          "output_type": "display_data",
          "data": {
            "image/png": "[encoded data removed]",
            "text/plain": [
              "<Figure size 432x288 with 1 Axes>"
            ]
          },
          "metadata": {
            "tags": []
          }
        }
      ]
    },
    {
      "cell_type": "code",
      "metadata": {
        "id": "Z7YLubUtTWYf",
        "colab_type": "code",
        "colab": {
          "base_uri": "https://localhost:8080/",
          "height": 355
        },
        "outputId": "ca08f549-49b1-40d3-ac7d-d687bf469a13"
      },
      "source": [
        "from IPython.display import display, Image\n",
        "\n",
        "url = 'https://fivethirtyeight.com/wp-content/uploads/2017/09/mehtahickey-inconvenient-0830-1.png'\n",
        "example = Image(url=url, width=400)\n",
        "\n",
        "display(example)"
      ],
      "execution_count": null,
      "outputs": [
        {
          "output_type": "display_data",
          "data": {
            "text/html": [
              "<img src=\"https://fivethirtyeight.com/wp-content/uploads/2017/09/mehtahickey-inconvenient-0830-1.png\" width=\"400\"/>"
            ],
            "text/plain": [
              "<IPython.core.display.Image object>"
            ]
          },
          "metadata": {
            "tags": []
          }
        }
      ]
    },
    {
      "cell_type": "code",
      "metadata": {
        "id": "oB1wbqAPSsdR",
        "colab_type": "code",
        "colab": {}
      },
      "source": [
        ""
      ],
      "execution_count": null,
      "outputs": []
    },
    {
      "cell_type": "code",
      "metadata": {
        "id": "Sme7UgSmf1MU",
        "colab_type": "code",
        "colab": {
          "base_uri": "https://localhost:8080/",
          "height": 365
        },
        "outputId": "17fe616e-d7ac-45fe-bc5f-b45122163bf0"
      },
      "source": [
        "from IPython.display import display, Image\n",
        "\n",
        "url2='https://fivethirtyeight.com/wp-content/uploads/2019/10/Mehta-Media1028-1028-1.png?w=575'\n",
        "example2 = Image(url=url2, width=400)\n",
        "\n",
        "display(example2)"
      ],
      "execution_count": null,
      "outputs": [
        {
          "output_type": "display_data",
          "data": {
            "text/html": [
              "<img src=\"https://fivethirtyeight.com/wp-content/uploads/2019/10/Mehta-Media1028-1028-1.png?w=575\" width=\"400\"/>"
            ],
            "text/plain": [
              "<IPython.core.display.Image object>"
            ]
          },
          "metadata": {
            "tags": []
          }
        }
      ]
    },
    {
      "cell_type": "code",
      "metadata": {
        "id": "2AhBeIxssvL8",
        "colab_type": "code",
        "colab": {
          "base_uri": "https://localhost:8080/",
          "height": 68
        },
        "outputId": "c72b861e-3c88-4444-feaf-979ef21b3ecf"
      },
      "source": [
        "#creating fake dataset to emulate the data in the graph above\n",
        "df= pd.DataFrame({'a':[3.1,3.6,2.9,3.2,2.5,3.5,4.1,3,3.5,1.2,2.2,1.5,1.7,2,1.7,1.5,1.7,2.2,1.5,4.5,5,1.7,1.8], \n",
        "                  'b':[1.1,1.2,1.3,1.1,1.5,1.3,1.4,1.5,1.2,1,1.4,.9,.9,1.2,.9,.7,1.1,1.1,1.1,4.4,3.2,1.7,1.8]})\n",
        "#verifying if there are any NaNs\n",
        "\n",
        "df.isnull().sum()"
      ],
      "execution_count": null,
      "outputs": [
        {
          "output_type": "execute_result",
          "data": {
            "text/plain": [
              "a    0\n",
              "b    0\n",
              "dtype: int64"
            ]
          },
          "metadata": {
            "tags": []
          },
          "execution_count": 53
        }
      ]
    },
    {
      "cell_type": "code",
      "metadata": {
        "id": "S_xyLvFQvaKl",
        "colab_type": "code",
        "colab": {
          "base_uri": "https://localhost:8080/",
          "height": 344
        },
        "outputId": "2b107bb9-c107-4b8c-e6c7-888e6b26cc1d"
      },
      "source": [
        "#initial graphing to test for function and appearance.\n",
        "fig, ax = plt.subplots()\n",
        "\n",
        "fig.set_facecolor('#F0F0F0')\n",
        "\n",
        "ax.plot(df['a'], linewidth=2.5, color='#89CCD0')\n",
        "ax.plot(df['b'], linewidth=2.5, color='#DF784A')\n",
        "\n",
        "#Set Title\n",
        "ax.set_title(\"Biden's Ukraine-related media bump is fading\", fontsize=12, fontweight='bold', x=0.4, y=1.2)\n",
        "\n",
        "#Set tick labels\n",
        "a= ax.get_xticks().tolist()\n",
        "a[1]='MAY19'\n",
        "a[2]='JUNE'\n",
        "a[3]='JULY'\n",
        "a[4]='AUG.'\n",
        "a[5]='SEPT.'\n",
        "a[6]='OCT.'\n",
        "ax.set_xticklabels(a)\n",
        "ax.set_xlim(6)\n",
        "\n",
        "b = ax.get_yticks().tolist()\n",
        "b[1]='EVEN'\n",
        "b[2]=2\n",
        "b[3]=3\n",
        "b[4]=4\n",
        "b[5]='5x'\n",
        "ax.set_yticklabels(b)\n",
        "ax.tick_params(axis='both',colors='grey', labelsize='14')\n",
        "\n",
        "\n",
        "#Added Text\n",
        "ax.text(s=\"Biden's share of media mentions on each medium relative to the next\", fontsize=10, x=5.7, y=6)\n",
        "ax.text(s=\"most-mentioned candidate each week\", fontsize=10, x=5.7, y=5.8)\n",
        "ax.text(s=\"Cable news\", fontweight='bold', fontsize=11, x=6.8, y=4.1)\n",
        "ax.text(s=\"Online news\", fontweight='bold', fontsize=11, x=6.5, y=.7)\n",
        "ax.text(s=\"After the Ukriane news broke,\", style='italic',fontsize=9, x=12.5, y=4.8)\n",
        "ax.text(s=\"Biden was mentioned five times\", style='italic',fontsize=9, x=12, y=4.6)\n",
        "ax.text(s=\"more than the next most-mentioned\", style='italic',fontsize=9, x=11, y=4.4)\n",
        "ax.text(s=\"candidate on cable news\", style='italic',fontsize=9, x=13.2, y=4.2)\n",
        "plt.show()"
      ],
      "execution_count": null,
      "outputs": [
        {
          "output_type": "display_data",
          "data": {
            "image/png": "[encoded data removed]",
            "text/plain": [
              "<Figure size 432x288 with 1 Axes>"
            ]
          },
          "metadata": {
            "tags": []
          }
        }
      ]
    },
    {
      "cell_type": "code",
      "metadata": {
        "id": "awlAnUQ7wlr_",
        "colab_type": "code",
        "colab": {}
      },
      "source": [
        ""
      ],
      "execution_count": null,
      "outputs": []
    },
    {
      "cell_type": "code",
      "metadata": {
        "id": "TuMJ7sSA6bNl",
        "colab_type": "code",
        "colab": {
          "base_uri": "https://localhost:8080/",
          "height": 365
        },
        "outputId": "51ae51a7-d8fa-433c-e376-15e0d99b8a97"
      },
      "source": [
        "display(example2)"
      ],
      "execution_count": null,
      "outputs": [
        {
          "output_type": "display_data",
          "data": {
            "text/html": [
              "<img src=\"https://fivethirtyeight.com/wp-content/uploads/2019/10/Mehta-Media1028-1028-1.png?w=575\" width=\"400\"/>"
            ],
            "text/plain": [
              "<IPython.core.display.Image object>"
            ]
          },
          "metadata": {
            "tags": []
          }
        }
      ]
    },
    {
      "cell_type": "markdown",
      "metadata": {
        "id": "0wSrBzmJyWaV",
        "colab_type": "text"
      },
      "source": [
        "# STRETCH OPTIONS\n",
        "\n",
        "### 1) Reproduce one of the following using the matplotlib or seaborn libraries:\n",
        "\n",
        "- [thanksgiving-2015](https://fivethirtyeight.com/features/heres-what-your-part-of-america-eats-on-thanksgiving/) \n",
        "- [candy-power-ranking](https://fivethirtyeight.com/features/the-ultimate-halloween-candy-power-ranking/) \n",
        "- or another example of your choice!\n",
        "\n",
        "### 2) Make more charts!\n",
        "\n",
        "Choose a chart you want to make, from [Visual Vocabulary - Vega Edition](http://ft.com/vocabulary).\n",
        "\n",
        "Find the chart in an example gallery of a Python data visualization library:\n",
        "- [Seaborn](http://seaborn.pydata.org/examples/index.html)\n",
        "- [Altair](https://altair-viz.github.io/gallery/index.html)\n",
        "- [Matplotlib](https://matplotlib.org/gallery.html)\n",
        "- [Pandas](https://pandas.pydata.org/pandas-docs/stable/visualization.html)\n",
        "\n",
        "Reproduce the chart. [Optionally, try the \"Ben Franklin Method.\"](https://docs.google.com/document/d/1ubOw9B3Hfip27hF2ZFnW3a3z9xAgrUDRReOEo-FHCVs/edit) If you want, experiment and make changes.\n",
        "\n",
        "Take notes. Consider sharing your work with your cohort!"
      ]
    },
    {
      "cell_type": "code",
      "metadata": {
        "id": "dRJkKftiy5BJ",
        "colab_type": "code",
        "colab": {}
      },
      "source": [
        "# More Work Here"
      ],
      "execution_count": null,
      "outputs": []
    }
  ]
}