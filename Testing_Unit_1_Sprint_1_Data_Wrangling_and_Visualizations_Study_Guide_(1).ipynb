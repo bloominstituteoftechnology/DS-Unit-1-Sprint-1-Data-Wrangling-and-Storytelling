{
  "nbformat": 4,
  "nbformat_minor": 0,
  "metadata": {
    "colab": {
      "name": "Testing_Unit_1_Sprint_1_Data_Wrangling_and_Visualizations_Study_Guide (1).ipynb",
      "provenance": [],
      "collapsed_sections": [],
      "include_colab_link": true
    },
    "kernelspec": {
      "name": "python3",
      "display_name": "Python 3"
    }
  },
  "cells": [
    {
      "cell_type": "markdown",
      "metadata": {
        "id": "view-in-github",
        "colab_type": "text"
      },
      "source": [
        "<a href=\"https://colab.research.google.com/github/n8mcdunna/DS-Unit-1-Sprint-1-Data-Wrangling-and-Storytelling/blob/master/Testing_Unit_1_Sprint_1_Data_Wrangling_and_Visualizations_Study_Guide_(1).ipynb\" target=\"_parent\"><img src=\"https://colab.research.google.com/assets/colab-badge.svg\" alt=\"Open In Colab\"/></a>"
      ]
    },
    {
      "cell_type": "markdown",
      "metadata": {
        "id": "LC39gYz8ZVKF",
        "colab_type": "text"
      },
      "source": [
        "This study guide should reinforce and provide practice for all of the concepts you have seen in the past week. There are a mix of written questions and coding exercises, both are equally important to prepare you for the sprint challenge as well as to be able to speak on these topics comfortably in interviews and on the job.\n",
        "\n",
        "If you get stuck or are unsure of something remember the 20 minute rule. If that doesn't help, then research a solution with google and stackoverflow. Only once you have exausted these methods should you turn to your Team Lead - they won't be there on your SC or during an interview. That being said, don't hesitate to ask for help if you truly are stuck.\n",
        "\n",
        "Have fun studying!"
      ]
    },
    {
      "cell_type": "markdown",
      "metadata": {
        "id": "DI3Ev_xu1KRN",
        "colab_type": "text"
      },
      "source": [
        "# Resources\n",
        "[Pandas Documentation](https://pandas.pydata.org/pandas-docs/stable/reference/index.html)\n",
        "\n",
        "[Matplotlib Documentation](https://matplotlib.org/3.1.1/api/pyplot_summary.html)\n",
        "\n",
        "[Pandas EDA Cheat Sheet](https://github.com/bundickm/CheatSheets/blob/master/Data_Cleaning_and_Exploring_Cheat_Sheet.ipynb)\n",
        "\n",
        "[Pandas Data Wrangling Cheat Sheet](https://github.com/bundickm/CheatSheets/blob/master/Data_wrangling_cheatsheet.pdf)\n",
        "\n",
        "[Matplotlib Cheat Sheet](https://github.com/bundickm/CheatSheets/blob/master/MatplotLib_Cheat_Sheet.ipynb)"
      ]
    },
    {
      "cell_type": "markdown",
      "metadata": {
        "id": "-_4LgTTcDz-5",
        "colab_type": "text"
      },
      "source": [
        "# Setup"
      ]
    },
    {
      "cell_type": "markdown",
      "metadata": {
        "id": "xKAlguQSD7kl",
        "colab_type": "text"
      },
      "source": [
        "Import and alias the following libraries:\n",
        "- numpy\n",
        "- pandas\n",
        "- matplot\n",
        "- seaborn"
      ]
    },
    {
      "cell_type": "code",
      "metadata": {
        "id": "_HUoZ4slCjSf",
        "colab_type": "code",
        "colab": {
          "base_uri": "https://localhost:8080/",
          "height": 70
        },
        "outputId": "f1499b65-4ad6-46f1-93b5-f5998817d1d2"
      },
      "source": [
        "import numpy as np\n",
        "import pandas as pd\n",
        "import matplotlib.pyplot as plt\n",
        "import seaborn as sns"
      ],
      "execution_count": null,
      "outputs": [
        {
          "output_type": "stream",
          "text": [
            "/usr/local/lib/python3.6/dist-packages/statsmodels/tools/_testing.py:19: FutureWarning: pandas.util.testing is deprecated. Use the functions in the public API at pandas.testing instead.\n",
            "  import pandas.util.testing as tm\n"
          ],
          "name": "stderr"
        }
      ]
    },
    {
      "cell_type": "markdown",
      "metadata": {
        "id": "9s_RXnzmEZjn",
        "colab_type": "text"
      },
      "source": [
        "Read in the auto data csv below and verify it's contents"
      ]
    },
    {
      "cell_type": "code",
      "metadata": {
        "id": "qyfFozmfFMln",
        "colab_type": "code",
        "colab": {}
      },
      "source": [
        "auto_url = 'https://archive.ics.uci.edu/ml/machine-learning-databases/autos/imports-85.data'"
      ],
      "execution_count": null,
      "outputs": []
    },
    {
      "cell_type": "code",
      "metadata": {
        "id": "wPNdOMCREY9E",
        "colab_type": "code",
        "colab": {}
      },
      "source": [
        "columns = ['symboling','norm_loss','make','fuel','aspiration','doors',\n",
        "           'bod_style','drv_wheels','eng_loc','wheel_base','length','width',\n",
        "           'height','curb_weight','engine','cylinders','engine_size',\n",
        "           'fuel_system','bore','stroke','compression','hp','peak_rpm',\n",
        "           'city_mpg','hgwy_mpg','price']"
      ],
      "execution_count": null,
      "outputs": []
    },
    {
      "cell_type": "code",
      "metadata": {
        "id": "Xw2upZ2qEO66",
        "colab_type": "code",
        "colab": {}
      },
      "source": [
        ""
      ],
      "execution_count": null,
      "outputs": []
    },
    {
      "cell_type": "markdown",
      "metadata": {
        "id": "t27UxbeWFxIo",
        "colab_type": "text"
      },
      "source": [
        "You should see there are no column headers. Read in the csv with the column names below and then check the first 5 and last 5 rows of the data frame"
      ]
    },
    {
      "cell_type": "code",
      "metadata": {
        "id": "wcQSNUISH1-Q",
        "colab_type": "code",
        "colab": {}
      },
      "source": [
        "#describe numeric columns\n"
      ],
      "execution_count": null,
      "outputs": []
    },
    {
      "cell_type": "code",
      "metadata": {
        "id": "urjF32mMKAMr",
        "colab_type": "code",
        "colab": {}
      },
      "source": [
        "#describe categorical columns\n"
      ],
      "execution_count": null,
      "outputs": []
    },
    {
      "cell_type": "markdown",
      "metadata": {
        "id": "cCvbuEmUKC5-",
        "colab_type": "text"
      },
      "source": [
        " Check for nulls and any values that may be a placeholder for nulls"
      ]
    },
    {
      "cell_type": "code",
      "metadata": {
        "id": "_m9hcNTzIhEs",
        "colab_type": "code",
        "colab": {}
      },
      "source": [
        "#univalue values for cylinder\n"
      ],
      "execution_count": null,
      "outputs": []
    },
    {
      "cell_type": "code",
      "metadata": {
        "id": "ddeg6fHjIweq",
        "colab_type": "code",
        "colab": {}
      },
      "source": [
        "# count frequency for each cylinder part\n"
      ],
      "execution_count": null,
      "outputs": []
    },
    {
      "cell_type": "code",
      "metadata": {
        "id": "nea6VKwUFVyt",
        "colab_type": "code",
        "colab": {}
      },
      "source": [
        "# Plot a histogram"
      ],
      "execution_count": null,
      "outputs": []
    },
    {
      "cell_type": "code",
      "metadata": {
        "id": "ET1BSPIUFgWO",
        "colab_type": "code",
        "colab": {
          "base_uri": "https://localhost:8080/",
          "height": 281
        },
        "outputId": "568af160-3428-4f7d-a167-7dabc4231565"
      },
      "source": [
        "# Plot a line graph"
      ],
      "execution_count": null,
      "outputs": [
        {
          "output_type": "execute_result",
          "data": {
            "text/plain": [
              "<matplotlib.axes._subplots.AxesSubplot at 0x7f66abe6e278>"
            ]
          },
          "metadata": {
            "tags": []
          },
          "execution_count": 18
        },
        {
          "output_type": "display_data",
          "data": {
            "image/png": "[encoded data removed]",
            "text/plain": [
              "<Figure size 432x288 with 1 Axes>"
            ]
          },
          "metadata": {
            "tags": [],
            "needs_background": "light"
          }
        }
      ]
    },
    {
      "cell_type": "markdown",
      "metadata": {
        "id": "r3Rl0YUlKakm",
        "colab_type": "text"
      },
      "source": [
        "Replace the placeholders with `NaN` and then recheck for nulls."
      ]
    },
    {
      "cell_type": "code",
      "metadata": {
        "id": "XhiHSkWLKrgA",
        "colab_type": "code",
        "colab": {}
      },
      "source": [
        ""
      ],
      "execution_count": null,
      "outputs": []
    },
    {
      "cell_type": "code",
      "metadata": {
        "id": "f53Ro229Krpz",
        "colab_type": "code",
        "colab": {}
      },
      "source": [
        "#binning length column\n",
        "\n"
      ],
      "execution_count": null,
      "outputs": []
    },
    {
      "cell_type": "code",
      "metadata": {
        "id": "saHfP39GHS3P",
        "colab_type": "code",
        "colab": {}
      },
      "source": [
        "#crosstab between doors and length_binned "
      ],
      "execution_count": null,
      "outputs": []
    },
    {
      "cell_type": "code",
      "metadata": {
        "id": "jjgPf3lxIabO",
        "colab_type": "code",
        "colab": {}
      },
      "source": [
        "#crosstab between doors and length_binned\n",
        "\n"
      ],
      "execution_count": null,
      "outputs": []
    },
    {
      "cell_type": "code",
      "metadata": {
        "id": "sRwtwKV1InsP",
        "colab_type": "code",
        "colab": {}
      },
      "source": [
        "#graph crosstab\n"
      ],
      "execution_count": null,
      "outputs": []
    },
    {
      "cell_type": "markdown",
      "metadata": {
        "id": "XCLv0Q5OK8RW",
        "colab_type": "text"
      },
      "source": [
        "# Exploration"
      ]
    },
    {
      "cell_type": "markdown",
      "metadata": {
        "id": "d7pDkXRVLAd5",
        "colab_type": "text"
      },
      "source": [
        "Find the following information about the dataframe:\n",
        "- Get the descriptive statistics for ALL features (numeric and categorical)\n",
        "- Get the data types for all features\n",
        "- What are the unique values for the `doors` column\n",
        "- How many rows and columns are in the dataframe?"
      ]
    },
    {
      "cell_type": "code",
      "metadata": {
        "id": "Wg5IAWTsMJba",
        "colab_type": "code",
        "colab": {}
      },
      "source": [
        ""
      ],
      "execution_count": null,
      "outputs": []
    },
    {
      "cell_type": "code",
      "metadata": {
        "id": "MPFetG3xNfbq",
        "colab_type": "code",
        "colab": {}
      },
      "source": [
        ""
      ],
      "execution_count": null,
      "outputs": []
    },
    {
      "cell_type": "code",
      "metadata": {
        "id": "ME2pU16FNfsP",
        "colab_type": "code",
        "colab": {}
      },
      "source": [
        ""
      ],
      "execution_count": null,
      "outputs": []
    },
    {
      "cell_type": "code",
      "metadata": {
        "id": "6iLxuMJDMKRg",
        "colab_type": "code",
        "colab": {}
      },
      "source": [
        ""
      ],
      "execution_count": null,
      "outputs": []
    },
    {
      "cell_type": "markdown",
      "metadata": {
        "id": "JZQFmkMcNjnB",
        "colab_type": "text"
      },
      "source": [
        "# Cleaning and Feature Engineering"
      ]
    },
    {
      "cell_type": "markdown",
      "metadata": {
        "id": "ZZewkUAiNqGs",
        "colab_type": "text"
      },
      "source": [
        "Complete the following actions on the dataframe:\n",
        "- Fill in the null values in the dataframe without dropping any rows or columns\n",
        "- Convert the `doors` column to `int`\n",
        "- Drop the `eng_loc` column\n",
        "- Create a new column in the df that is the `hp` divided by `price`"
      ]
    },
    {
      "cell_type": "code",
      "metadata": {
        "id": "xI9SyY_IQqlY",
        "colab_type": "code",
        "colab": {
          "base_uri": "https://localhost:8080/",
          "height": 83
        },
        "outputId": "3988b4c1-825d-4813-9af0-5ff714064346"
      },
      "source": [
        "df['doors'].value_counts()"
      ],
      "execution_count": null,
      "outputs": [
        {
          "output_type": "execute_result",
          "data": {
            "text/plain": [
              "four    114\n",
              "two      89\n",
              "?         2\n",
              "Name: doors, dtype: int64"
            ]
          },
          "metadata": {
            "tags": []
          },
          "execution_count": 29
        }
      ]
    },
    {
      "cell_type": "code",
      "metadata": {
        "id": "rB_gRe6tJh4g",
        "colab_type": "code",
        "colab": {}
      },
      "source": [
        ""
      ],
      "execution_count": null,
      "outputs": []
    },
    {
      "cell_type": "code",
      "metadata": {
        "id": "EQC6rnz1QqgJ",
        "colab_type": "code",
        "colab": {}
      },
      "source": [
        "# replace ? with NaN\n",
        "# NaN can be filled or dropped\n",
        "#Check dtype\n",
        "\n",
        "df.replace({'doors':'?'}, np.NaN, inplace = True)"
      ],
      "execution_count": null,
      "outputs": []
    },
    {
      "cell_type": "code",
      "metadata": {
        "id": "j4-o-AhAQqbb",
        "colab_type": "code",
        "colab": {
          "base_uri": "https://localhost:8080/",
          "height": 67
        },
        "outputId": "4ed945bb-8c0b-4461-f4dc-6d1ee2518584"
      },
      "source": [
        "df['doors'].value_counts()"
      ],
      "execution_count": null,
      "outputs": [
        {
          "output_type": "execute_result",
          "data": {
            "text/plain": [
              "four    114\n",
              "two      89\n",
              "Name: doors, dtype: int64"
            ]
          },
          "metadata": {
            "tags": []
          },
          "execution_count": 31
        }
      ]
    },
    {
      "cell_type": "code",
      "metadata": {
        "id": "HX0uCs-KQqVC",
        "colab_type": "code",
        "colab": {
          "base_uri": "https://localhost:8080/",
          "height": 484
        },
        "outputId": "d15be7e8-8816-4646-9367-f3d17ead6b88"
      },
      "source": [
        "df = df.fillna(method = 'bfill')\n",
        "\n",
        "df.dtypes"
      ],
      "execution_count": null,
      "outputs": [
        {
          "output_type": "execute_result",
          "data": {
            "text/plain": [
              "symboling           int64\n",
              "norm_loss          object\n",
              "make               object\n",
              "fuel               object\n",
              "aspiration         object\n",
              "doors              object\n",
              "bod_style          object\n",
              "drv_wheels         object\n",
              "eng_loc            object\n",
              "wheel_base        float64\n",
              "length            float64\n",
              "width             float64\n",
              "height            float64\n",
              "curb_weight         int64\n",
              "engine             object\n",
              "cylinders          object\n",
              "engine_size         int64\n",
              "fuel_system        object\n",
              "bore               object\n",
              "stroke             object\n",
              "compression       float64\n",
              "hp                 object\n",
              "peak_rpm           object\n",
              "city_mpg            int64\n",
              "hgwy_mpg            int64\n",
              "price              object\n",
              "length_binned    category\n",
              "dtype: object"
            ]
          },
          "metadata": {
            "tags": []
          },
          "execution_count": 34
        }
      ]
    },
    {
      "cell_type": "code",
      "metadata": {
        "id": "_iN8SEVAKUMj",
        "colab_type": "code",
        "colab": {}
      },
      "source": [
        "#replace words with numbers for doors column\n"
      ],
      "execution_count": null,
      "outputs": []
    },
    {
      "cell_type": "code",
      "metadata": {
        "id": "wgE9YItcLE2M",
        "colab_type": "code",
        "colab": {}
      },
      "source": [
        "#option to covert to integer\n",
        "\n",
        "df['doors']= df['doors'].astype(int)"
      ],
      "execution_count": null,
      "outputs": []
    },
    {
      "cell_type": "code",
      "metadata": {
        "id": "IVXay6OaLdJk",
        "colab_type": "code",
        "colab": {}
      },
      "source": [
        "df.replace({'hp':'?'}, np.NaN, inplace = True)\n",
        "df.replace({'price':'?'}, np.NaN, inplace = True)\n",
        "\n",
        "df = df.fillna(method = 'bfill')\n",
        "\n",
        "\n",
        "df['hp']= df['hp'].astype(int)\n",
        "df['price']= df['price'].astype(int)"
      ],
      "execution_count": null,
      "outputs": []
    },
    {
      "cell_type": "code",
      "metadata": {
        "id": "Y7bWCraRLWyY",
        "colab_type": "code",
        "colab": {
          "base_uri": "https://localhost:8080/",
          "height": 161
        },
        "outputId": "489e3cf2-0443-49c3-cc23-021e3c6153be"
      },
      "source": [
        "df['hp_per_price']= df['hp']/df['price']\n",
        "df.head(2)"
      ],
      "execution_count": null,
      "outputs": [
        {
          "output_type": "execute_result",
          "data": {
            "text/html": [
              "<div>\n",
              "<style scoped>\n",
              "    .dataframe tbody tr th:only-of-type {\n",
              "        vertical-align: middle;\n",
              "    }\n",
              "\n",
              "    .dataframe tbody tr th {\n",
              "        vertical-align: top;\n",
              "    }\n",
              "\n",
              "    .dataframe thead th {\n",
              "        text-align: right;\n",
              "    }\n",
              "</style>\n",
              "<table border=\"1\" class=\"dataframe\">\n",
              "  <thead>\n",
              "    <tr style=\"text-align: right;\">\n",
              "      <th></th>\n",
              "      <th>symboling</th>\n",
              "      <th>norm_loss</th>\n",
              "      <th>make</th>\n",
              "      <th>fuel</th>\n",
              "      <th>aspiration</th>\n",
              "      <th>doors</th>\n",
              "      <th>bod_style</th>\n",
              "      <th>drv_wheels</th>\n",
              "      <th>eng_loc</th>\n",
              "      <th>wheel_base</th>\n",
              "      <th>length</th>\n",
              "      <th>width</th>\n",
              "      <th>height</th>\n",
              "      <th>curb_weight</th>\n",
              "      <th>engine</th>\n",
              "      <th>cylinders</th>\n",
              "      <th>engine_size</th>\n",
              "      <th>fuel_system</th>\n",
              "      <th>bore</th>\n",
              "      <th>stroke</th>\n",
              "      <th>compression</th>\n",
              "      <th>hp</th>\n",
              "      <th>peak_rpm</th>\n",
              "      <th>city_mpg</th>\n",
              "      <th>hgwy_mpg</th>\n",
              "      <th>price</th>\n",
              "      <th>length_binned</th>\n",
              "      <th>hp_per_price</th>\n",
              "    </tr>\n",
              "  </thead>\n",
              "  <tbody>\n",
              "    <tr>\n",
              "      <th>0</th>\n",
              "      <td>3</td>\n",
              "      <td>?</td>\n",
              "      <td>alfa-romero</td>\n",
              "      <td>gas</td>\n",
              "      <td>std</td>\n",
              "      <td>2</td>\n",
              "      <td>convertible</td>\n",
              "      <td>rwd</td>\n",
              "      <td>front</td>\n",
              "      <td>88.6</td>\n",
              "      <td>168.8</td>\n",
              "      <td>64.1</td>\n",
              "      <td>48.8</td>\n",
              "      <td>2548</td>\n",
              "      <td>dohc</td>\n",
              "      <td>four</td>\n",
              "      <td>130</td>\n",
              "      <td>mpfi</td>\n",
              "      <td>3.47</td>\n",
              "      <td>2.68</td>\n",
              "      <td>9.0</td>\n",
              "      <td>111</td>\n",
              "      <td>5000</td>\n",
              "      <td>21</td>\n",
              "      <td>27</td>\n",
              "      <td>13495</td>\n",
              "      <td>medium</td>\n",
              "      <td>0.008225</td>\n",
              "    </tr>\n",
              "    <tr>\n",
              "      <th>1</th>\n",
              "      <td>3</td>\n",
              "      <td>?</td>\n",
              "      <td>alfa-romero</td>\n",
              "      <td>gas</td>\n",
              "      <td>std</td>\n",
              "      <td>2</td>\n",
              "      <td>convertible</td>\n",
              "      <td>rwd</td>\n",
              "      <td>front</td>\n",
              "      <td>88.6</td>\n",
              "      <td>168.8</td>\n",
              "      <td>64.1</td>\n",
              "      <td>48.8</td>\n",
              "      <td>2548</td>\n",
              "      <td>dohc</td>\n",
              "      <td>four</td>\n",
              "      <td>130</td>\n",
              "      <td>mpfi</td>\n",
              "      <td>3.47</td>\n",
              "      <td>2.68</td>\n",
              "      <td>9.0</td>\n",
              "      <td>111</td>\n",
              "      <td>5000</td>\n",
              "      <td>21</td>\n",
              "      <td>27</td>\n",
              "      <td>16500</td>\n",
              "      <td>medium</td>\n",
              "      <td>0.006727</td>\n",
              "    </tr>\n",
              "  </tbody>\n",
              "</table>\n",
              "</div>"
            ],
            "text/plain": [
              "   symboling norm_loss         make  ...  price length_binned  hp_per_price\n",
              "0          3         ?  alfa-romero  ...  13495        medium      0.008225\n",
              "1          3         ?  alfa-romero  ...  16500        medium      0.006727\n",
              "\n",
              "[2 rows x 28 columns]"
            ]
          },
          "metadata": {
            "tags": []
          },
          "execution_count": 45
        }
      ]
    },
    {
      "cell_type": "markdown",
      "metadata": {
        "id": "gpxXIPjf7ilK",
        "colab_type": "text"
      },
      "source": [
        "## Questions of Understanding\n",
        "*Double click the markdown cell to add your answer*\n",
        "\n",
        "1. What does it mean to engineer a feature?\n",
        "```\n",
        "Your Answer Here\n",
        "```\n",
        "2. What is a `NaN` and why do we care about them?\n",
        "```\n",
        "Your Answer Here\n",
        "```"
      ]
    },
    {
      "cell_type": "markdown",
      "metadata": {
        "id": "YJP6bMIJQsBF",
        "colab_type": "text"
      },
      "source": [
        "# Basic Visualizations"
      ]
    },
    {
      "cell_type": "markdown",
      "metadata": {
        "id": "fp_7Jn62QzoJ",
        "colab_type": "text"
      },
      "source": [
        "Make the following basic graphs with the features in the dataframe:\n",
        "- Line Plot\n",
        "- Scatterplot\n",
        "- Histogram\n",
        "- Bar Graph\n",
        "- Density\n",
        "\n",
        "All graphs should have a title, and label for each axis"
      ]
    },
    {
      "cell_type": "code",
      "metadata": {
        "id": "GwL2EUjJ0yBv",
        "colab_type": "code",
        "colab": {}
      },
      "source": [
        ""
      ],
      "execution_count": null,
      "outputs": []
    },
    {
      "cell_type": "code",
      "metadata": {
        "id": "APzaEbStRZpL",
        "colab_type": "code",
        "colab": {}
      },
      "source": [
        ""
      ],
      "execution_count": null,
      "outputs": []
    },
    {
      "cell_type": "code",
      "metadata": {
        "id": "twLoG5MDRZ3c",
        "colab_type": "code",
        "colab": {}
      },
      "source": [
        ""
      ],
      "execution_count": null,
      "outputs": []
    },
    {
      "cell_type": "code",
      "metadata": {
        "id": "zt2BnVO5RaWc",
        "colab_type": "code",
        "colab": {}
      },
      "source": [
        ""
      ],
      "execution_count": null,
      "outputs": []
    },
    {
      "cell_type": "code",
      "metadata": {
        "id": "X-oapWkjRZyu",
        "colab_type": "code",
        "colab": {}
      },
      "source": [
        ""
      ],
      "execution_count": null,
      "outputs": []
    },
    {
      "cell_type": "markdown",
      "metadata": {
        "id": "8-UbABdR8hPY",
        "colab_type": "text"
      },
      "source": [
        "## Questions of Understanding\n",
        "*Double click the markdown cell to add your answer*\n",
        "\n",
        "Name a graph you would use for the following cases:\n",
        "- Distribution: `Your Answer Here`\n",
        "- Change Over Time: `Your Answer Here`\n",
        "- Correlation: `Your Answer Here`\n",
        "\n",
        "You may find the answers in the Resources section above or through Google"
      ]
    },
    {
      "cell_type": "markdown",
      "metadata": {
        "id": "0xXYDhpdRhQt",
        "colab_type": "text"
      },
      "source": [
        "# Crosstabs and Pivot Tables"
      ]
    },
    {
      "cell_type": "markdown",
      "metadata": {
        "colab_type": "text",
        "id": "CBkuYy9PojMW"
      },
      "source": [
        "Make a crosstab of two of the categorical features"
      ]
    },
    {
      "cell_type": "code",
      "metadata": {
        "colab_type": "code",
        "id": "rGPS8RLgojBh",
        "colab": {}
      },
      "source": [
        ""
      ],
      "execution_count": null,
      "outputs": []
    },
    {
      "cell_type": "markdown",
      "metadata": {
        "id": "76gOBtP3n3GY",
        "colab_type": "text"
      },
      "source": [
        "Make a graph from the crosstab"
      ]
    },
    {
      "cell_type": "code",
      "metadata": {
        "id": "dGdArU8NUOEH",
        "colab_type": "code",
        "colab": {}
      },
      "source": [
        ""
      ],
      "execution_count": null,
      "outputs": []
    },
    {
      "cell_type": "markdown",
      "metadata": {
        "id": "I6kr60bCnsvb",
        "colab_type": "text"
      },
      "source": [
        "In a sentence or two, explain how to read the table and what the values mean\n",
        "```\n",
        "Your Answer Here\n",
        "```"
      ]
    },
    {
      "cell_type": "markdown",
      "metadata": {
        "id": "4USgczuLn6h3",
        "colab_type": "text"
      },
      "source": [
        "Make a crosstab with a categorical feature and price\n",
        "- Use `pd.cut` to create 5 bins for price"
      ]
    },
    {
      "cell_type": "code",
      "metadata": {
        "id": "NhAXm5hXUOPI",
        "colab_type": "code",
        "colab": {}
      },
      "source": [
        ""
      ],
      "execution_count": null,
      "outputs": []
    },
    {
      "cell_type": "markdown",
      "metadata": {
        "id": "JhT5aFQaoPjh",
        "colab_type": "text"
      },
      "source": [
        "Make a graph from the crosstab"
      ]
    },
    {
      "cell_type": "code",
      "metadata": {
        "id": "d_5kQphcoQdH",
        "colab_type": "code",
        "colab": {}
      },
      "source": [
        ""
      ],
      "execution_count": null,
      "outputs": []
    },
    {
      "cell_type": "markdown",
      "metadata": {
        "id": "hOsHE59loFbf",
        "colab_type": "text"
      },
      "source": [
        "In a sentence or two, explain how to read the table and what the values mean\n",
        "```\n",
        "Your Answer Here\n",
        "```"
      ]
    },
    {
      "cell_type": "markdown",
      "metadata": {
        "id": "9thwLfuOoV4p",
        "colab_type": "text"
      },
      "source": [
        "Create a [pivot table](https://pandas.pydata.org/pandas-docs/stable/reference/api/pandas.DataFrame.pivot.html)"
      ]
    },
    {
      "cell_type": "code",
      "metadata": {
        "id": "sWUdFVslUOdY",
        "colab_type": "code",
        "colab": {}
      },
      "source": [
        ""
      ],
      "execution_count": null,
      "outputs": []
    },
    {
      "cell_type": "markdown",
      "metadata": {
        "colab_type": "text",
        "id": "JUZ81-QdodFk"
      },
      "source": [
        "In a sentence or two, explain how to read the table and what the values mean\n",
        "```\n",
        "Your Answer Here\n",
        "```"
      ]
    },
    {
      "cell_type": "markdown",
      "metadata": {
        "id": "vmyJ0VOSUpo-",
        "colab_type": "text"
      },
      "source": [
        "# Interpretations"
      ]
    },
    {
      "cell_type": "markdown",
      "metadata": {
        "id": "l4KrOj8JUrzj",
        "colab_type": "text"
      },
      "source": [
        "Write a short paragraph explaining some of the things you learned from the dataset. Avoid low hanging fruit like simply writing about the different descriptive stats. Focus on interesting relationships between columns, what you see in the graphs, etc."
      ]
    },
    {
      "cell_type": "code",
      "metadata": {
        "id": "1PqyuoWgVTpi",
        "colab_type": "code",
        "colab": {}
      },
      "source": [
        ""
      ],
      "execution_count": null,
      "outputs": []
    },
    {
      "cell_type": "markdown",
      "metadata": {
        "id": "4nDwljBQVixD",
        "colab_type": "text"
      },
      "source": [
        "# Tidy and Join"
      ]
    },
    {
      "cell_type": "markdown",
      "metadata": {
        "id": "_k1wR__VbIMo",
        "colab_type": "text"
      },
      "source": [
        "Combine `df_a`, `df_b`, and `df_c` joining on the ids in `df_a` to reveal the real names of The Hulk, Spiderman, and Superman."
      ]
    },
    {
      "cell_type": "code",
      "metadata": {
        "id": "HMwpqGfIZzt0",
        "colab_type": "code",
        "colab": {
          "base_uri": "https://localhost:8080/",
          "height": 143
        },
        "outputId": "5da041cd-2e4d-4200-a2de-05c39a0c4a14"
      },
      "source": [
        "df_a = pd.DataFrame({'id_b':[1,2,3], 'id_c': [4,5,6]})\n",
        "df_a"
      ],
      "execution_count": null,
      "outputs": [
        {
          "output_type": "execute_result",
          "data": {
            "text/html": [
              "<div>\n",
              "<style scoped>\n",
              "    .dataframe tbody tr th:only-of-type {\n",
              "        vertical-align: middle;\n",
              "    }\n",
              "\n",
              "    .dataframe tbody tr th {\n",
              "        vertical-align: top;\n",
              "    }\n",
              "\n",
              "    .dataframe thead th {\n",
              "        text-align: right;\n",
              "    }\n",
              "</style>\n",
              "<table border=\"1\" class=\"dataframe\">\n",
              "  <thead>\n",
              "    <tr style=\"text-align: right;\">\n",
              "      <th></th>\n",
              "      <th>id_b</th>\n",
              "      <th>id_c</th>\n",
              "    </tr>\n",
              "  </thead>\n",
              "  <tbody>\n",
              "    <tr>\n",
              "      <th>0</th>\n",
              "      <td>1</td>\n",
              "      <td>4</td>\n",
              "    </tr>\n",
              "    <tr>\n",
              "      <th>1</th>\n",
              "      <td>2</td>\n",
              "      <td>5</td>\n",
              "    </tr>\n",
              "    <tr>\n",
              "      <th>2</th>\n",
              "      <td>3</td>\n",
              "      <td>6</td>\n",
              "    </tr>\n",
              "  </tbody>\n",
              "</table>\n",
              "</div>"
            ],
            "text/plain": [
              "   id_b  id_c\n",
              "0     1     4\n",
              "1     2     5\n",
              "2     3     6"
            ]
          },
          "metadata": {
            "tags": []
          },
          "execution_count": 42
        }
      ]
    },
    {
      "cell_type": "code",
      "metadata": {
        "id": "6eKvwxn5ajUZ",
        "colab_type": "code",
        "colab": {
          "base_uri": "https://localhost:8080/",
          "height": 143
        },
        "outputId": "24435f25-72f2-4ef7-8aa2-26502baa99c9"
      },
      "source": [
        "df_b = pd.DataFrame({'id':[1,2,3], 'first_name': ['Bruce', 'Peter', 'Clark']})\n",
        "df_b"
      ],
      "execution_count": null,
      "outputs": [
        {
          "output_type": "execute_result",
          "data": {
            "text/html": [
              "<div>\n",
              "<style scoped>\n",
              "    .dataframe tbody tr th:only-of-type {\n",
              "        vertical-align: middle;\n",
              "    }\n",
              "\n",
              "    .dataframe tbody tr th {\n",
              "        vertical-align: top;\n",
              "    }\n",
              "\n",
              "    .dataframe thead th {\n",
              "        text-align: right;\n",
              "    }\n",
              "</style>\n",
              "<table border=\"1\" class=\"dataframe\">\n",
              "  <thead>\n",
              "    <tr style=\"text-align: right;\">\n",
              "      <th></th>\n",
              "      <th>id</th>\n",
              "      <th>first_name</th>\n",
              "    </tr>\n",
              "  </thead>\n",
              "  <tbody>\n",
              "    <tr>\n",
              "      <th>0</th>\n",
              "      <td>1</td>\n",
              "      <td>Bruce</td>\n",
              "    </tr>\n",
              "    <tr>\n",
              "      <th>1</th>\n",
              "      <td>2</td>\n",
              "      <td>Peter</td>\n",
              "    </tr>\n",
              "    <tr>\n",
              "      <th>2</th>\n",
              "      <td>3</td>\n",
              "      <td>Clark</td>\n",
              "    </tr>\n",
              "  </tbody>\n",
              "</table>\n",
              "</div>"
            ],
            "text/plain": [
              "   id first_name\n",
              "0   1      Bruce\n",
              "1   2      Peter\n",
              "2   3      Clark"
            ]
          },
          "metadata": {
            "tags": []
          },
          "execution_count": 43
        }
      ]
    },
    {
      "cell_type": "code",
      "metadata": {
        "id": "pBIZJK7tamdO",
        "colab_type": "code",
        "colab": {
          "base_uri": "https://localhost:8080/",
          "height": 143
        },
        "outputId": "e05c115f-fbb2-410f-ed52-12b19f055ba6"
      },
      "source": [
        "df_c = pd.DataFrame({'id': [4,5,6], 'last_name': ['Banner', 'Parker', 'Kent']})\n",
        "df_c"
      ],
      "execution_count": null,
      "outputs": [
        {
          "output_type": "execute_result",
          "data": {
            "text/html": [
              "<div>\n",
              "<style scoped>\n",
              "    .dataframe tbody tr th:only-of-type {\n",
              "        vertical-align: middle;\n",
              "    }\n",
              "\n",
              "    .dataframe tbody tr th {\n",
              "        vertical-align: top;\n",
              "    }\n",
              "\n",
              "    .dataframe thead th {\n",
              "        text-align: right;\n",
              "    }\n",
              "</style>\n",
              "<table border=\"1\" class=\"dataframe\">\n",
              "  <thead>\n",
              "    <tr style=\"text-align: right;\">\n",
              "      <th></th>\n",
              "      <th>id</th>\n",
              "      <th>last_name</th>\n",
              "    </tr>\n",
              "  </thead>\n",
              "  <tbody>\n",
              "    <tr>\n",
              "      <th>0</th>\n",
              "      <td>4</td>\n",
              "      <td>Banner</td>\n",
              "    </tr>\n",
              "    <tr>\n",
              "      <th>1</th>\n",
              "      <td>5</td>\n",
              "      <td>Parker</td>\n",
              "    </tr>\n",
              "    <tr>\n",
              "      <th>2</th>\n",
              "      <td>6</td>\n",
              "      <td>Kent</td>\n",
              "    </tr>\n",
              "  </tbody>\n",
              "</table>\n",
              "</div>"
            ],
            "text/plain": [
              "   id last_name\n",
              "0   4    Banner\n",
              "1   5    Parker\n",
              "2   6      Kent"
            ]
          },
          "metadata": {
            "tags": []
          },
          "execution_count": 44
        }
      ]
    },
    {
      "cell_type": "code",
      "metadata": {
        "id": "ZAWU3yo1cigI",
        "colab_type": "code",
        "colab": {}
      },
      "source": [
        ""
      ],
      "execution_count": null,
      "outputs": []
    },
    {
      "cell_type": "code",
      "metadata": {
        "id": "COhFWYjjciYD",
        "colab_type": "code",
        "colab": {}
      },
      "source": [
        ""
      ],
      "execution_count": null,
      "outputs": []
    },
    {
      "cell_type": "markdown",
      "metadata": {
        "id": "-3S5czwpZHY8",
        "colab_type": "text"
      },
      "source": [
        "Use `melt` to change the dataframe below to look like the image below."
      ]
    },
    {
      "cell_type": "code",
      "metadata": {
        "id": "3MACmvwfWQem",
        "colab_type": "code",
        "colab": {
          "base_uri": "https://localhost:8080/",
          "height": 143
        },
        "outputId": "baf8e023-8385-40d9-b5e3-683c7de6fe42"
      },
      "source": [
        "messy = pd.DataFrame({'a': ['A', 'B', 'C'], \n",
        "                      'b': [1, 2, 3],\n",
        "                      'c': [4, 5, 6],\n",
        "                      'd': [7, 8, 9]})\n",
        "\n",
        "messy"
      ],
      "execution_count": null,
      "outputs": [
        {
          "output_type": "execute_result",
          "data": {
            "text/html": [
              "<div>\n",
              "<style scoped>\n",
              "    .dataframe tbody tr th:only-of-type {\n",
              "        vertical-align: middle;\n",
              "    }\n",
              "\n",
              "    .dataframe tbody tr th {\n",
              "        vertical-align: top;\n",
              "    }\n",
              "\n",
              "    .dataframe thead th {\n",
              "        text-align: right;\n",
              "    }\n",
              "</style>\n",
              "<table border=\"1\" class=\"dataframe\">\n",
              "  <thead>\n",
              "    <tr style=\"text-align: right;\">\n",
              "      <th></th>\n",
              "      <th>a</th>\n",
              "      <th>b</th>\n",
              "      <th>c</th>\n",
              "      <th>d</th>\n",
              "    </tr>\n",
              "  </thead>\n",
              "  <tbody>\n",
              "    <tr>\n",
              "      <th>0</th>\n",
              "      <td>A</td>\n",
              "      <td>1</td>\n",
              "      <td>4</td>\n",
              "      <td>7</td>\n",
              "    </tr>\n",
              "    <tr>\n",
              "      <th>1</th>\n",
              "      <td>B</td>\n",
              "      <td>2</td>\n",
              "      <td>5</td>\n",
              "      <td>8</td>\n",
              "    </tr>\n",
              "    <tr>\n",
              "      <th>2</th>\n",
              "      <td>C</td>\n",
              "      <td>3</td>\n",
              "      <td>6</td>\n",
              "      <td>9</td>\n",
              "    </tr>\n",
              "  </tbody>\n",
              "</table>\n",
              "</div>"
            ],
            "text/plain": [
              "   a  b  c  d\n",
              "0  A  1  4  7\n",
              "1  B  2  5  8\n",
              "2  C  3  6  9"
            ]
          },
          "metadata": {
            "tags": []
          },
          "execution_count": 5
        }
      ]
    },
    {
      "cell_type": "markdown",
      "metadata": {
        "id": "vxtdnU8dZjJd",
        "colab_type": "text"
      },
      "source": [
        "Make this:\n",
        "\n",
        "![image.png](data:image/png;base64,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)"
      ]
    },
    {
      "cell_type": "code",
      "metadata": {
        "id": "x7oidujvX08l",
        "colab_type": "code",
        "colab": {}
      },
      "source": [
        ""
      ],
      "execution_count": null,
      "outputs": []
    },
    {
      "cell_type": "markdown",
      "metadata": {
        "id": "dWhz2iOf4VeU",
        "colab_type": "text"
      },
      "source": [
        "1. In a sentence or two, explain what the tidy data format is.\n",
        "```\n",
        "Your Answer Here\n",
        "```\n",
        "\n",
        "2. What are the types of joins\n",
        "```\n",
        "Your Answer Here\n",
        "```"
      ]
    },
    {
      "cell_type": "markdown",
      "metadata": {
        "id": "pW5PDZLUckpC",
        "colab_type": "text"
      },
      "source": [
        "# Snazzy Graphs"
      ]
    },
    {
      "cell_type": "markdown",
      "metadata": {
        "id": "7tCCNvsQpL4I",
        "colab_type": "text"
      },
      "source": [
        "Run the code below"
      ]
    },
    {
      "cell_type": "code",
      "metadata": {
        "id": "6yPMC-ulpK0M",
        "colab_type": "code",
        "colab": {}
      },
      "source": [
        "%matplotlib inline\n",
        "import matplotlib.pyplot as plt\n",
        "import numpy as np\n",
        "import pandas as pd\n",
        "\n",
        "url = 'https://raw.githubusercontent.com/fivethirtyeight/data/master/daily-show-guests/daily_show_guests.csv'\n",
        "df = pd.read_csv(url).rename(columns={'YEAR': 'Year', 'Raw_Guest_List': 'Guest'})\n",
        "\n",
        "def get_occupation(group):\n",
        "    if group in ['Acting', 'Comedy', 'Musician']:\n",
        "        return 'Acting, Comedy & Music'\n",
        "    elif group in ['Media', 'media']:\n",
        "        return 'Media'\n",
        "    elif group in ['Government', 'Politician', 'Political Aide']:\n",
        "        return 'Government and Politics'\n",
        "    else:\n",
        "        return 'Other'\n",
        "      \n",
        "df['Occupation'] = df['Group'].apply(get_occupation)"
      ],
      "execution_count": null,
      "outputs": []
    },
    {
      "cell_type": "code",
      "metadata": {
        "id": "WFGzBdUTpR91",
        "colab_type": "code",
        "colab": {}
      },
      "source": [
        "from IPython.display import display, Image\n",
        "\n",
        "png = 'https://fivethirtyeight.com/wp-content/uploads/2015/08/hickey-datalab-dailyshow.png'\n",
        "example = Image(png, width=500)\n",
        "display(example)"
      ],
      "execution_count": null,
      "outputs": []
    },
    {
      "cell_type": "markdown",
      "metadata": {
        "id": "7dLMpelIGGNV",
        "colab_type": "text"
      },
      "source": [
        "Recreate the FiveThirtyEight graph. Try to include:\n",
        "- All text in the orginal graph (except the watermark) is present in your graph and in the same locations\n",
        "- All text in your graph is roughly the same size and look of the original graph\n",
        "- Gridlines, Ticklabels, and tickmark spacing matches\n",
        "- Coloring and/or style matches."
      ]
    },
    {
      "cell_type": "code",
      "metadata": {
        "id": "GAjE_xuDBxyM",
        "colab_type": "code",
        "colab": {}
      },
      "source": [
        ""
      ],
      "execution_count": null,
      "outputs": []
    }
  ]
}