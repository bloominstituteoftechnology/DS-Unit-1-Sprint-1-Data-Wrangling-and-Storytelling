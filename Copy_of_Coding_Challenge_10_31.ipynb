{
  "nbformat": 4,
  "nbformat_minor": 0,
  "metadata": {
    "colab": {
      "name": "Copy of Coding Challenge 10.31.ipynb",
      "provenance": [],
      "collapsed_sections": [],
      "include_colab_link": true
    },
    "kernelspec": {
      "name": "python3",
      "display_name": "Python 3"
    }
  },
  "cells": [
    {
      "cell_type": "markdown",
      "metadata": {
        "id": "view-in-github",
        "colab_type": "text"
      },
      "source": [
        "<a href=\"https://colab.research.google.com/github/perryschwartz/DS-Unit-1-Sprint-1-Data-Wrangling-and-Storytelling/blob/master/Copy_of_Coding_Challenge_10_31.ipynb\" target=\"_parent\"><img src=\"https://colab.research.google.com/assets/colab-badge.svg\" alt=\"Open In Colab\"/></a>"
      ]
    },
    {
      "cell_type": "markdown",
      "metadata": {
        "id": "DTryy-ftM4Nn",
        "colab_type": "text"
      },
      "source": [
        "## Good Evening! Welcome to your first Python code challenge. \n",
        "## Use your Googfu skills to help you find a solution.\n"
      ]
    },
    {
      "cell_type": "markdown",
      "metadata": {
        "id": "MYcqiCCYNvrU",
        "colab_type": "text"
      },
      "source": [
        "### 1. Write Python code that creates a random string using 'a', 'e', 'i', 'o', 'u'. Using each character only once. \n",
        "HINT: Lookup the .shuffle method in the random lib\n"
      ]
    },
    {
      "cell_type": "code",
      "metadata": {
        "id": "P5oD9XXnMJ6S",
        "colab_type": "code",
        "outputId": "7ebed4a0-6404-4bf4-bf44-a46bdb671066",
        "colab": {
          "base_uri": "https://localhost:8080/",
          "height": 207
        }
      },
      "source": [
        "import random\n",
        "char_list = ['a','e','i','o','u']\n",
        "\n",
        "for i in char_list\n",
        "\n",
        "import random\n",
        "char_list = ['a','e','i','o','u']\n",
        "random.shuffle(char_list)\n",
        "print(''.join(char_list))"
      ],
      "execution_count": 0,
      "outputs": [
        {
          "output_type": "error",
          "ename": "NameError",
          "evalue": "ignored",
          "traceback": [
            "\u001b[0;31m---------------------------------------------------------------------------\u001b[0m",
            "\u001b[0;31mNameError\u001b[0m                                 Traceback (most recent call last)",
            "\u001b[0;32m<ipython-input-8-094226532d69>\u001b[0m in \u001b[0;36m<module>\u001b[0;34m()\u001b[0m\n\u001b[1;32m      1\u001b[0m \u001b[0;32mimport\u001b[0m \u001b[0mrandom\u001b[0m\u001b[0;34m\u001b[0m\u001b[0;34m\u001b[0m\u001b[0m\n\u001b[1;32m      2\u001b[0m \u001b[0mchar_list\u001b[0m \u001b[0;34m=\u001b[0m \u001b[0;34m'a'\u001b[0m\u001b[0;34m'e'\u001b[0m\u001b[0;34m'i'\u001b[0m\u001b[0;34m'o'\u001b[0m\u001b[0;34m'u'\u001b[0m\u001b[0;34m.\u001b[0m\u001b[0msplit\u001b[0m\u001b[0;34m(\u001b[0m\u001b[0;34m)\u001b[0m\u001b[0;34m\u001b[0m\u001b[0;34m\u001b[0m\u001b[0m\n\u001b[0;32m----> 3\u001b[0;31m \u001b[0mshuffle\u001b[0m\u001b[0;34m(\u001b[0m\u001b[0mchar_list\u001b[0m\u001b[0;34m)\u001b[0m\u001b[0;34m\u001b[0m\u001b[0;34m\u001b[0m\u001b[0m\n\u001b[0m",
            "\u001b[0;31mNameError\u001b[0m: name 'shuffle' is not defined"
          ]
        }
      ]
    },
    {
      "cell_type": "code",
      "metadata": {
        "id": "9QkUvIuMiDbI",
        "colab_type": "code",
        "outputId": "b7c4a007-d546-4bef-a63d-3acc31c17544",
        "colab": {
          "base_uri": "https://localhost:8080/",
          "height": 189
        }
      },
      "source": [
        "char_list = 'a e i o u'.split()\n",
        "shuffle(char_list)"
      ],
      "execution_count": 0,
      "outputs": [
        {
          "output_type": "error",
          "ename": "NameError",
          "evalue": "ignored",
          "traceback": [
            "\u001b[0;31m---------------------------------------------------------------------------\u001b[0m",
            "\u001b[0;31mNameError\u001b[0m                                 Traceback (most recent call last)",
            "\u001b[0;32m<ipython-input-9-0d73fe721eac>\u001b[0m in \u001b[0;36m<module>\u001b[0;34m()\u001b[0m\n\u001b[1;32m      1\u001b[0m \u001b[0mchar_list\u001b[0m \u001b[0;34m=\u001b[0m \u001b[0;34m'a e i o u'\u001b[0m\u001b[0;34m.\u001b[0m\u001b[0msplit\u001b[0m\u001b[0;34m(\u001b[0m\u001b[0;34m)\u001b[0m\u001b[0;34m\u001b[0m\u001b[0;34m\u001b[0m\u001b[0m\n\u001b[0;32m----> 2\u001b[0;31m \u001b[0mshuffle\u001b[0m\u001b[0;34m(\u001b[0m\u001b[0mchar_list\u001b[0m\u001b[0;34m)\u001b[0m\u001b[0;34m\u001b[0m\u001b[0;34m\u001b[0m\u001b[0m\n\u001b[0m",
            "\u001b[0;31mNameError\u001b[0m: name 'shuffle' is not defined"
          ]
        }
      ]
    },
    {
      "cell_type": "markdown",
      "metadata": {
        "id": "U5VoSsxeN23s",
        "colab_type": "text"
      },
      "source": [
        "###2.  Write Python code to calculate number of days between two dates"
      ]
    },
    {
      "cell_type": "code",
      "metadata": {
        "id": "hEqCjZtPN9jD",
        "colab_type": "code",
        "outputId": "4240e6a3-5e3c-44bc-bdd5-9bf440484030",
        "colab": {
          "base_uri": "https://localhost:8080/",
          "height": 35
        }
      },
      "source": [
        "from datetime import date\n",
        "f_date = date(2014, 7, 2)\n",
        "l_date = date(2014, 7, 11)\n",
        "delta = l_date - f_date\n",
        "print(delta.days)"
      ],
      "execution_count": 0,
      "outputs": [
        {
          "output_type": "stream",
          "text": [
            "9\n"
          ],
          "name": "stdout"
        }
      ]
    },
    {
      "cell_type": "markdown",
      "metadata": {
        "id": "T4H8Ao77O1oV",
        "colab_type": "text"
      },
      "source": [
        "### 3. Write a Python function to get the difference between a given number and 17, if the number is greater than 17 return double the difference.\n",
        "\n",
        "\n"
      ]
    },
    {
      "cell_type": "code",
      "metadata": {
        "id": "-mvceDTSOypS",
        "colab_type": "code",
        "outputId": "40e8f352-41a0-4990-f111-9f1334e0558b",
        "colab": {
          "base_uri": "https://localhost:8080/",
          "height": 51
        }
      },
      "source": [
        "def difference(n):\n",
        "    result=0\n",
        "    # your code here\n",
        "    return result\n",
        "print(difference(22))\n",
        "print(difference(14))"
      ],
      "execution_count": 0,
      "outputs": [
        {
          "output_type": "stream",
          "text": [
            "0\n",
            "0\n"
          ],
          "name": "stdout"
        }
      ]
    },
    {
      "cell_type": "markdown",
      "metadata": {
        "id": "ALpkS9d_PVI3",
        "colab_type": "text"
      },
      "source": [
        "### Stretch Goals: "
      ]
    },
    {
      "cell_type": "markdown",
      "metadata": {
        "id": "Fpfn3ozePw96",
        "colab_type": "text"
      },
      "source": [
        "### 4. Write Python code to find whether a given number (accept from the user) is even or odd, print out an appropriate message to the user.\n",
        "HINT:  you'll need to use the python's input function\n",
        "\n",
        " "
      ]
    },
    {
      "cell_type": "code",
      "metadata": {
        "id": "_I50Qf83PDHL",
        "colab_type": "code",
        "colab": {}
      },
      "source": [
        "num = int(input(\"Enter a number: \"))\n",
        "mod = num % 2\n",
        "if mod > 0:\n",
        "  print(\"This is an odd number.\")\n",
        "else:\n",
        "  print(\"This is an even number.\")\n",
        "# your code here"
      ],
      "execution_count": 0,
      "outputs": []
    },
    {
      "cell_type": "markdown",
      "metadata": {
        "id": "oHF_eYwkQSgH",
        "colab_type": "text"
      },
      "source": [
        "### 5. Write Python function to display your details like name, age, address in three different lines."
      ]
    },
    {
      "cell_type": "code",
      "metadata": {
        "id": "I3t9apsdP9J0",
        "colab_type": "code",
        "colab": {}
      },
      "source": [
        "def personal_details():\n",
        "  # your code here\n",
        "  return\n",
        "  \n",
        "personal_details()"
      ],
      "execution_count": 0,
      "outputs": []
    },
    {
      "cell_type": "code",
      "metadata": {
        "id": "9syBXc6Tmjg9",
        "colab_type": "code",
        "outputId": "81141f1f-a594-4ab6-89e7-6c80fa33c494",
        "colab": {
          "base_uri": "https://localhost:8080/",
          "height": 135
        }
      },
      "source": [
        "def personal_details():\n",
        "  name, age = \"Perry\", 30\n",
        "  address = \"Los Angeles, CA\"\n",
        "  print(\"Name: {}\\nAge: {}\\nAddress: {}\".format(name, age, address))\"\n",
        "\n",
        "personal_details()"
      ],
      "execution_count": 0,
      "outputs": [
        {
          "output_type": "error",
          "ename": "SyntaxError",
          "evalue": "ignored",
          "traceback": [
            "\u001b[0;36m  File \u001b[0;32m\"<ipython-input-14-537c873f0f1a>\"\u001b[0;36m, line \u001b[0;32m4\u001b[0m\n\u001b[0;31m    print(\"Name: {}\\nAge: {}\\nAddress: {}\".format(name, age, address))\"\u001b[0m\n\u001b[0m                                                                       ^\u001b[0m\n\u001b[0;31mSyntaxError\u001b[0m\u001b[0;31m:\u001b[0m EOL while scanning string literal\n"
          ]
        }
      ]
    }
  ]
}