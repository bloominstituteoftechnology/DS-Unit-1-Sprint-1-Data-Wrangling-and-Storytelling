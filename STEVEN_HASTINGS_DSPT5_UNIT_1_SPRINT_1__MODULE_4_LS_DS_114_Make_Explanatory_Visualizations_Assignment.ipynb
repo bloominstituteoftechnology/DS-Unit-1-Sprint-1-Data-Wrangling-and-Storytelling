{
  "nbformat": 4,
  "nbformat_minor": 0,
  "metadata": {
    "colab": {
      "name": "STEVEN_HASTINGS_DSPT5_UNIT_1_SPRINT_1_ MODULE_4_LS_DS_114_Make_Explanatory_Visualizations_Assignment.ipynb",
      "provenance": [],
      "collapsed_sections": [],
      "include_colab_link": true
    },
    "language_info": {
      "codemirror_mode": {
        "name": "ipython",
        "version": 3
      },
      "file_extension": ".py",
      "mimetype": "text/x-python",
      "name": "python",
      "nbconvert_exporter": "python",
      "pygments_lexer": "ipython3",
      "version": "3.7.1"
    },
    "kernelspec": {
      "display_name": "Python 3",
      "language": "python",
      "name": "python3"
    }
  },
  "cells": [
    {
      "cell_type": "markdown",
      "metadata": {
        "id": "view-in-github",
        "colab_type": "text"
      },
      "source": [
        "<a href=\"https://colab.research.google.com/github/gitHasty-0321/DS-Unit-1-Sprint-1-Data-Wrangling-and-Storytelling/blob/master/STEVEN_HASTINGS_DSPT5_UNIT_1_SPRINT_1__MODULE_4_LS_DS_114_Make_Explanatory_Visualizations_Assignment.ipynb\" target=\"_parent\"><img src=\"https://colab.research.google.com/assets/colab-badge.svg\" alt=\"Open In Colab\"/></a>"
      ]
    },
    {
      "cell_type": "markdown",
      "metadata": {
        "colab_type": "text",
        "id": "NMEswXWh9mqw"
      },
      "source": [
        "# ASSIGNMENT\n",
        "\n",
        "### Part_1  Replicate the lesson code. I recommend that you [do not copy-paste](https://docs.google.com/document/d/1ubOw9B3Hfip27hF2ZFnW3a3z9xAgrUDRReOEo-FHCVs/edit).\n",
        "\n",
        "\n",
        "\n",
        "\n",
        "\n",
        "\n",
        "\n",
        "\n",
        "\n",
        "\n"
      ]
    },
    {
      "cell_type": "markdown",
      "metadata": {
        "id": "F9x_-LinMXv2",
        "colab_type": "text"
      },
      "source": [
        "                                                               Muscle Memories"
      ]
    },
    {
      "cell_type": "code",
      "metadata": {
        "colab_type": "code",
        "outputId": "5b2dbdb0-a292-4604-f5da-75ec96ad517c",
        "id": "fmy95DEaL5Vc",
        "colab": {
          "base_uri": "https://localhost:8080/",
          "height": 354
        }
      },
      "source": [
        "#@title IMPORT AND DISPLAY TARGET PLOT  { run: \"auto\", vertical-output: true, form-width: \"50%\", display-mode: \"both\" }\n",
        "  #IMPORT IMDb ## An Inconvenient Sequel ## PLOT EXAMPLE             \n",
        "from IPython.display import display, Image\n",
        "\n",
        "\n",
        "\n",
        "\n",
        "url = 'https://fivethirtyeight.com/wp-content/uploads/2017/09/mehtahickey-inconvenient-0830-1.png'\n",
        "\n",
        "\n",
        "\n",
        "\n",
        "example = Image(url=url, width=400)\n",
        "\n",
        "\n",
        "\n",
        "\n",
        "\n",
        "display(example)\n"
      ],
      "execution_count": 109,
      "outputs": [
        {
          "output_type": "display_data",
          "data": {
            "text/html": [
              "<img src=\"https://fivethirtyeight.com/wp-content/uploads/2017/09/mehtahickey-inconvenient-0830-1.png\" width=\"400\"/>"
            ],
            "text/plain": [
              "<IPython.core.display.Image object>"
            ]
          },
          "metadata": {
            "tags": []
          }
        }
      ]
    },
    {
      "cell_type": "code",
      "metadata": {
        "id": "WjmrhyUqwmkS",
        "colab_type": "code",
        "colab": {
          "base_uri": "https://localhost:8080/",
          "height": 622
        },
        "outputId": "78f395db-269c-479e-bf53-69fb1e8a0a23"
      },
      "source": [
        "#@title FAKE DATA USING PYPLOT METHOD { run: \"auto\", vertical-output: true, output-height: 1080, form-width: \"50%\", display-mode: \"both\" }\n",
        "# IMPORT DATA VISUALIZATION LIBRARIES #\n",
        "%matplotlib inline\n",
        "import matplotlib.pyplot as plt \n",
        "import numpy as np\n",
        "import pandas as pd\n",
        "\n",
        "  # SET STYLESHEET #           \n",
        "plt.style.use('fivethirtyeight')\n",
        "  \n",
        "  # PROCURE FAKE DATA #\n",
        "\n",
        "fake = pd.Series([38,3,2,1,2,4,6,5,5,33],\n",
        "                 index=range(1,11))\n",
        "  # PLOT FAKE DATA #\n",
        "fake.plot.bar(color='C1', width=0.9);\n",
        "\n",
        "  # PROCURE 2ND SET OF FAKE DATA #\n",
        "\n",
        "fake2 = pd.Series(\n",
        "    [1,1,1,1,1,1,1,1,1,1,1,1,1,1,1,1,1,1,1,1,1,1,1,1,1,1,1,1,1,\n",
        "     2,2,2,3,3,3,3,3,4,4,4,5,5,5,\n",
        "     6,6,6,6,6,6,6,7,7,7,7,7,\n",
        "     8,8,8,8,8,8,9,9,9,9,9,\n",
        "     10,10,10,10,10,10,10,10,10,10,10,10,10,10,10,10,10])\n",
        "  \n",
        "  # AGGREGATE/FILTER/PLOT 2ND SET OF FAKE DATA #\n",
        "fake2.value_counts().sort_index().plot.bar(color='C1',width=0.9);\n",
        "\n",
        "\n",
        "\n",
        "\n",
        "display(example)"
      ],
      "execution_count": 110,
      "outputs": [
        {
          "output_type": "display_data",
          "data": {
            "text/html": [
              "<img src=\"https://fivethirtyeight.com/wp-content/uploads/2017/09/mehtahickey-inconvenient-0830-1.png\" width=\"400\"/>"
            ],
            "text/plain": [
              "<IPython.core.display.Image object>"
            ]
          },
          "metadata": {
            "tags": []
          }
        },
        {
          "output_type": "display_data",
          "data": {
            "image/png": "[encoded data removed]",
            "text/plain": [
              "<Figure size 432x288 with 1 Axes>"
            ]
          },
          "metadata": {
            "tags": []
          }
        }
      ]
    },
    {
      "cell_type": "markdown",
      "metadata": {
        "id": "0mdC77W0Te0s",
        "colab_type": "text"
      },
      "source": [
        "                                                          ###    GILDING THE LILLY    ###"
      ]
    },
    {
      "cell_type": "code",
      "metadata": {
        "id": "tu3AYxyZ3Sgg",
        "colab_type": "code",
        "outputId": "91c37b61-65f3-401b-8935-90f259ef5187",
        "colab": {
          "base_uri": "https://localhost:8080/",
          "height": 622
        }
      },
      "source": [
        "#@title (FAKE DATA) USING OBJECT ORIENTED STYLE { run: \"auto\", vertical-output: true, output-height: 1080, form-width: \"50%\", display-mode: \"code\" }\n",
        "rank_likeness_of_plots = 0 #@param {type:\"slider\", min:0, max:100, step:10}\n",
        "Dont_Like_This_Style = False #@param {type:\"boolean\"}\n",
        "  \n",
        "  # STYLESHEET\n",
        "plt.style.use('fivethirtyeight')\n",
        "\n",
        "  # FIGURE / AXES SYNTAX\n",
        "fig, ax = plt.subplots()\n",
        "  \n",
        "  # stop what you are doing. . . \n",
        "    # and go find a color picker chrome extension\n",
        "fake.plot.bar(fake, width=0.9, color='#ED713A')\n",
        "\n",
        "  # TITLE\n",
        "ax.set_title(\n",
        "\"'An Inconvenient Sequel: Truth To Power' is divisive\",\n",
        "      # loc='left', #don't need if (x,y) are passed\n",
        "    c='#222222',\n",
        "           fontsize=13, \n",
        "           fontweight='bold',\n",
        "           fontfamily='Sans-serif',\n",
        "x = 0.43, y = 1.1\n",
        "      )\n",
        "\n",
        "  # SUBTITLE\n",
        "ax.text(\n",
        "   s='IMDb ratings for the film as of Aug. 29', \n",
        "        color='#252525',\n",
        "            fontsize=10,\n",
        "x=-1.85, y=42\n",
        "        )\n",
        "\n",
        "  # X LABEL\n",
        "ax.set_xlabel(\n",
        "    'Rating', \n",
        "        color='black',\n",
        "              fontsize=10, fontweight='bold'\n",
        "              )\n",
        "\n",
        "  # Y LABEL\n",
        "ax.set_ylabel(\n",
        "    'Percent of total votes', \n",
        "        color='Black',\n",
        "              fontsize=9, fontweight='bold'\n",
        "              )\n",
        "  \n",
        "  # X AXIS TICK LABELS\n",
        "ax.set_xticklabels(\n",
        "        labels=[1,2,3,4,5,6,7,8,9,10], \n",
        "            color='#777777',\n",
        "                rotation='horizontal', \n",
        "                     fontsize=9\n",
        "                   )\n",
        "  # Y AXIS TICK LABELS\n",
        "ax.set_yticklabels(\n",
        "        labels=['0',\n",
        "                '10',\n",
        "                '20',\n",
        "                '30',\n",
        "                '40%'],\n",
        "      fontsize=9,\n",
        "      color='#929292'\n",
        "                )\n",
        "\n",
        "  # SET Y TICKS using Range\n",
        "ax.set_yticks(ticks=range(0,50,10))\n",
        "\n",
        "  \n",
        "  # SET X TICKS\n",
        "ax.xaxis.set_tick_params(\n",
        "        direction='out',\n",
        "            length=10,\n",
        "                color='#8A8A8A'\n",
        "                )\n",
        "  \n",
        "  # FIG BACKGROUND COLOR\n",
        "fig.set_facecolor(color='#383838')\n",
        "                                     \n",
        "\n",
        "  # AX BACKGROUND COLOR                          \n",
        "ax.set_facecolor(color='#383838')                   \n",
        "  \n",
        "  # REMOVE SPINES\n",
        "ax.spines['top'].set_visible(False)\n",
        "ax.spines['left'].set_visible(False)\n",
        "ax.spines['right'].set_visible(False)\n",
        "\n",
        "  # SET SPINE WIDTH FOR BOTTOM\n",
        "ax.spines['bottom'].set_linewidth(0.45)\n",
        "  \n",
        "  # GET TICKS\n",
        "ax.xaxis.set_ticks_position('bottom')\n",
        "                                   \n",
        "  # re-display the plot example \n",
        "    # to have a closer juxtaposition\n",
        "display(example)\n",
        "\n",
        "fig.tight_layout()"
      ],
      "execution_count": 111,
      "outputs": [
        {
          "output_type": "display_data",
          "data": {
            "text/html": [
              "<img src=\"https://fivethirtyeight.com/wp-content/uploads/2017/09/mehtahickey-inconvenient-0830-1.png\" width=\"400\"/>"
            ],
            "text/plain": [
              "<IPython.core.display.Image object>"
            ]
          },
          "metadata": {
            "tags": []
          }
        },
        {
          "output_type": "display_data",
          "data": {
            "image/png": "[encoded data removed]",
            "text/plain": [
              "<Figure size 432x288 with 1 Axes>"
            ]
          },
          "metadata": {
            "tags": []
          }
        }
      ]
    },
    {
      "cell_type": "markdown",
      "metadata": {
        "id": "aHGb8GOfZTd1",
        "colab_type": "text"
      },
      "source": [
        ""
      ]
    },
    {
      "cell_type": "code",
      "metadata": {
        "id": "5O1zkzUSTdlc",
        "colab_type": "code",
        "colab": {
          "base_uri": "https://localhost:8080/",
          "height": 808
        },
        "outputId": "e0f213b7-f558-40ae-e61c-9c9f250890ef"
      },
      "source": [
        "#@title REPLICATE WITH REAL DATA { run: \"auto\", vertical-output: true, form-width: \"45%\", display-mode: \"both\" }\n",
        "imdb = pd.read_csv('https://raw.githubusercontent.com/fivethirtyeight/data/master/inconvenient-sequel/ratings.csv')\n",
        "imdb.head()\n",
        "  \n",
        "  # CONVERT TO TIMESTAMPS\n",
        "imdb['timestamp'] = pd.to_datetime(imdb['timestamp'])\n",
        "imdb.set_index('timestamp', inplace = True)   #INPLACE WILL SOON BE DEPRICATED\n",
        "print(imdb)\n",
        "\n",
        "lastday=imdb['2017-08-29']\n",
        "\n",
        "lastday_filtered = lastday[lastday['category']=='IMDb users']\n",
        "\n",
        "lastday_filtered.tail()\n",
        "\n",
        "\n",
        "final = lastday_filtered.tail(1)\n",
        "final.T\n",
        "\n",
        "\n",
        "pct_columns = [\n",
        "               '1_pct', '2_pct', '3_pct', \n",
        "               '4_pct', '5_pct','6_pct', \n",
        "               '7_pct', '8_pct',\n",
        "               '9_pct', '10_pct'\n",
        "               ]\n",
        "\n",
        "\n",
        "\n",
        "final[pct_columns].T\n",
        "\n",
        "plot_data = final[pct_columns].T\n",
        "\n",
        "plot_data.index=range(1,11)\n",
        "\n",
        "plot_data.columns = ['percent']\n",
        "\n",
        "\n",
        "display(example)\n",
        "\n",
        "\n",
        "\n",
        "\n",
        "print(plot_data)"
      ],
      "execution_count": 112,
      "outputs": [
        {
          "output_type": "stream",
          "text": [
            "                            respondents         category  ... 9_pct  10_pct\n",
            "timestamp                                                 ...              \n",
            "2017-07-17 12:28:32.785639          402            Males  ...   5.0    33.6\n",
            "2017-07-17 12:28:33.025600           78          Females  ...   3.8    62.8\n",
            "2017-07-17 12:28:33.273919            4    Aged under 18  ...   0.0    25.0\n",
            "2017-07-17 12:28:33.495325            4   Males under 18  ...   0.0    25.0\n",
            "2017-07-17 12:28:33.722849          130       Aged 18-29  ...   4.6    49.2\n",
            "...                                 ...              ...  ...   ...     ...\n",
            "2017-08-29 23:10:05.369510            8       IMDb staff  ...  25.0    12.5\n",
            "2017-08-29 23:10:05.598331           41  Top 1000 voters  ...   2.4    14.6\n",
            "2017-08-29 23:10:05.794141          925         US users  ...   6.5    28.0\n",
            "2017-08-29 23:10:06.022268          565     Non-US users  ...   6.2    36.1\n",
            "2017-08-29 23:10:06.218251         2662       IMDb users  ...   5.5    33.7\n",
            "\n",
            "[80053 rows x 26 columns]\n"
          ],
          "name": "stdout"
        },
        {
          "output_type": "display_data",
          "data": {
            "text/html": [
              "<img src=\"https://fivethirtyeight.com/wp-content/uploads/2017/09/mehtahickey-inconvenient-0830-1.png\" width=\"400\"/>"
            ],
            "text/plain": [
              "<IPython.core.display.Image object>"
            ]
          },
          "metadata": {
            "tags": []
          }
        },
        {
          "output_type": "stream",
          "text": [
            "    percent\n",
            "1      38.4\n",
            "2       2.6\n",
            "3       1.4\n",
            "4       0.9\n",
            "5       2.1\n",
            "6       4.1\n",
            "7       5.8\n",
            "8       5.5\n",
            "9       5.5\n",
            "10     33.7\n"
          ],
          "name": "stdout"
        }
      ]
    },
    {
      "cell_type": "code",
      "metadata": {
        "id": "GzWf6KNeEuuv",
        "colab_type": "code",
        "colab": {
          "base_uri": "https://localhost:8080/",
          "height": 677
        },
        "outputId": "50dd1fdc-fd68-44c8-8694-0df5c4b53b43"
      },
      "source": [
        "#@title (REAL DATA)  CLOSER { run: \"auto\", vertical-output: true, output-height: 500, form-width: \"50%\", display-mode: \"both\" }\n",
        "from matplotlib import rcParams\n",
        "\n",
        "fig, ax = plt.subplots()\n",
        "\n",
        "  # FIGURE BACKGROUND COLOR\n",
        "fig.patch.set(facecolor=\"#383838\")\n",
        "\n",
        "  # BARS\n",
        "ax.bar(\n",
        "    x=range(1,11), \n",
        "        height=plot_data['percent'], \n",
        "            width=0.9, \n",
        "                color=\"#ED713A\"\n",
        "                )\n",
        "\n",
        "  # AX BACKGROUND COLOR\n",
        "ax.set(facecolor=\"#383838\")\n",
        "\n",
        "  # TITLE \n",
        "ax.set_title(\n",
        "\"'An Inconvenient Sequel: Truth To Power' is divisive\",\n",
        "      # loc='left', #don't need if (x,y) are passed\n",
        "    c='#222222',\n",
        "           fontsize=13, \n",
        "           fontweight='bold',\n",
        "           fontfamily='Sans-serif',\n",
        "x = 0.43, y = 1.1\n",
        "                 )\n",
        "  \n",
        "  # SUBTITLE\n",
        "ax.text(\n",
        "   s='IMDb ratings for the film as of Aug. 29', \n",
        "        color='#252525',\n",
        "            fontsize=10,\n",
        "x=-0.87, y=42\n",
        "        )\n",
        "\n",
        " # X,Y LABEL\n",
        "ax.set_xlabel(\n",
        "    \"Rating\", \n",
        "        fontsize=11\n",
        "        )\n",
        "ax.set_ylabel(\n",
        "    \"Percent of total votes\", \n",
        "        fontsize=9,\n",
        "            color='black'\n",
        "    )\n",
        "\n",
        "  # X,Y TICKS AND TICK LABELS\n",
        "ax.set_xticklabels(\n",
        "        labels=[0,1,2,3,4,5,6,7,8,9,10], \n",
        "            color='#777777',\n",
        "                rotation='horizontal', \n",
        "                     fontsize=9\n",
        "                   )\n",
        "\n",
        "  # Y AXIS TICK LABELS\n",
        "ax.set_yticklabels(\n",
        "        labels=['0',\n",
        "                '10',\n",
        "                '20',\n",
        "                '30',\n",
        "                '40%'],\n",
        "      fontsize=9,\n",
        "      color='#929292'\n",
        "                )\n",
        "\n",
        "  # SET Y TICKS using Range\n",
        "ax.set_yticks(ticks=range(0,50,10))\n",
        "ax.set_xticks(ticks=range(0,11))\n",
        "  \n",
        "  # SET X TICKS\n",
        "ax.xaxis.set_tick_params(\n",
        "        direction='out',\n",
        "            length=10,\n",
        "                color='#8A8A8A'\n",
        "                )\n",
        "  \n",
        "\n",
        "ax.spines['top'].set_visible(False)\n",
        "ax.spines['left'].set_visible(False)\n",
        "ax.spines['right'].set_visible(False)\n",
        "\n",
        "  # FontFamily\n",
        "rcParams['font.family'] = 'sans-serif'\n",
        "\n",
        "ax.spines['bottom'].set_linewidth(0.45)\n",
        "  \n",
        "  # GET TICKS\n",
        "ax.xaxis.set_ticks_position('bottom')\n",
        "\n",
        "display(example)"
      ],
      "execution_count": 113,
      "outputs": [
        {
          "output_type": "display_data",
          "data": {
            "text/html": [
              "<img src=\"https://fivethirtyeight.com/wp-content/uploads/2017/09/mehtahickey-inconvenient-0830-1.png\" width=\"400\"/>"
            ],
            "text/plain": [
              "<IPython.core.display.Image object>"
            ]
          },
          "metadata": {
            "tags": []
          }
        },
        {
          "output_type": "display_data",
          "data": {
            "image/png": "[encoded data removed]",
            "text/plain": [
              "<Figure size 432x288 with 1 Axes>"
            ]
          },
          "metadata": {
            "tags": []
          }
        }
      ]
    },
    {
      "cell_type": "markdown",
      "metadata": {
        "id": "wGIhIIRlSQO3",
        "colab_type": "text"
      },
      "source": [
        "##2) Reproduce another example from FiveThityEight's shared data repository.\n",
        "WARNING: There are a lot of very custom graphs and tables at the above link. I highly recommend not trying to reproduce any that look like a table of values or something really different from the graph types that we are already familiar with. Search through the posts until you find a graph type that you are more or less familiar with: histogram, bar chart, stacked bar chart, line chart, seaborn relplot, etc. Recreating some of the graphics that 538 uses would be a lot easier in Adobe photoshop/illustrator than with matplotlib.\n",
        "\n",
        "If you put in some time to find a graph that looks \"easy\" to replicate you'll probably find that it's not as easy as you thought.\n",
        "\n",
        "If you start with a graph that looks hard to replicate you'll probably run up against a brick wall and be disappointed with your afternoon."
      ]
    },
    {
      "cell_type": "code",
      "metadata": {
        "id": "xSQAQatD6Hbi",
        "colab_type": "code",
        "outputId": "489efb11-111b-4cd8-adc6-87876d4ec1bc",
        "colab": {
          "base_uri": "https://localhost:8080/",
          "height": 750
        }
      },
      "source": [
        "import numpy as np\n",
        "import pandas as pd\n",
        "import matplotlib.pyplot as plt\n",
        "plt.style.use('ggplot')\n",
        "%matplotlib inline\n",
        "import seaborn as sns\n",
        "\n",
        "# set jupyter's max row display\n",
        "pd.set_option('display.max_row', 1000)\n",
        "\n",
        "# set jupyter's max column width to 50\n",
        "pd.set_option('display.max_columns', 50)\n",
        "\n",
        "\n",
        "\n",
        "# Load the dataset\n",
        "bb = pd.read_csv('https://raw.githubusercontent.com/fivethirtyeight/data/master/drug-use-by-age/drug-use-by-age.csv')\n",
        "bb=bb.loc[[15], : ]\n",
        "bb\n",
        "bb.drop('alcohol-use',axis=1,inplace=True)\n",
        "bb\n",
        "bb = bb.loc[: ,['marijuana-use','cocaine-use','crack-use','heroin-use','hallucinogen-use','inhalant-use','pain-releiver-use','oxycontin-use','tranquilizer-use','stimulant-use','meth-use','sedative-use']]\n",
        "  # the information i need held in a pandas series\n",
        "bb\n",
        "  # the numeric data i need stored inside of a numpy array\n",
        "print(bb.values)\n",
        "\n",
        "  # categorical data names \n",
        "print(bb.columns)\n",
        "bb = bb.T\n",
        "\n",
        "  # bb.rename({15:'Americans'},inplace=True)\n",
        "bb.reset_index(inplace=True)\n",
        "\n",
        "bb.rename({'index':'drugs'},axis=1,inplace=True)\n",
        "\n",
        "sns.set_style = 'bright'\n",
        "sns.countplot(data= bb, y='drugs');\n",
        "\n",
        "bb.set_index('drugs',inplace=True)\n",
        "\n",
        "sns.countplot(y='Americans',data=bb,palette='Reds')\n",
        "\n",
        "bbb = np.array(bb)\n",
        "\n",
        "bbb\n",
        "bb.plot(kind='barh',legend=False)\n",
        "\n",
        "ax = bb['Americans'].value_counts().plot(kind='barh', figsize=(8,5),\n",
        "                                        color=\"coral\", fontsize=13);\n",
        "ax.set_alpha(0.8)\n",
        "ax.set_title(\"Percentage of Americans aged 50-64 who said in a 2012 survey that they had used the following drugs in the past year\",\n",
        "             fontsize=10)\n",
        "  # ax.set_xlabel(\"Number of Battles\", fontsize=18);\n",
        "  # ax.set_xticks([0, 5, 10, 15, 20])\n",
        "\n",
        "  # create a list to collect the plt.patches data\n",
        "totals = []\n",
        "\n",
        "  # find the values and append to list\n",
        "for i in ax.patches:\n",
        "    totals.append(i.get_width())\n",
        "\n",
        "  # set individual bar lables using above list\n",
        "total = sum(totals)\n",
        "\n",
        "  # set individual bar lables using above list\n",
        "for i in ax.patches:\n",
        "    # get_width pulls left or right; get_y pushes up or down\n",
        "    ax.text(i.get_width()+.3, i.get_y()+.38, \\\n",
        "            str(round((i.get_width()/total)*100, 2))+'%', fontsize=15,\n",
        "color='dimgrey')\n",
        "    \n",
        " # Y AXIS TICK LABELS\n",
        "ax.set_yticklabels(\n",
        "        labels=['Heroin',\n",
        "                'Meth',\n",
        "                'Inhalant',\n",
        "                'Sedative',\n",
        "                'Hallucinogen',\n",
        "                'Stimulant',\n",
        "                'OxyContin',\n",
        "                'Crack',\n",
        "                'Cocaine',\n",
        "                'Trainquilizer',\n",
        "                'Pain Reliever',\n",
        "                'Marijuana%'],\n",
        "      fontsize=9,\n",
        "      color='#929292'\n",
        "                )\n",
        "\n",
        "# invert for largest on top \n",
        "ax.invert_yaxis()\n",
        "\n",
        "\n",
        "bb.Americans.sort_values()"
      ],
      "execution_count": 114,
      "outputs": [
        {
          "output_type": "stream",
          "text": [
            "[[7.3 0.9 0.4 0.1 0.3 0.2 2.5 0.4 1.4 0.3 0.2 0.2]]\n",
            "Index(['marijuana-use', 'cocaine-use', 'crack-use', 'heroin-use',\n",
            "       'hallucinogen-use', 'inhalant-use', 'pain-releiver-use',\n",
            "       'oxycontin-use', 'tranquilizer-use', 'stimulant-use', 'meth-use',\n",
            "       'sedative-use'],\n",
            "      dtype='object')\n"
          ],
          "name": "stdout"
        },
        {
          "output_type": "error",
          "ename": "ValueError",
          "evalue": "ignored",
          "traceback": [
            "\u001b[0;31m---------------------------------------------------------------------------\u001b[0m",
            "\u001b[0;31mValueError\u001b[0m                                Traceback (most recent call last)",
            "\u001b[0;32m<ipython-input-114-0d307c41d663>\u001b[0m in \u001b[0;36m<module>\u001b[0;34m()\u001b[0m\n\u001b[1;32m     40\u001b[0m \u001b[0mbb\u001b[0m\u001b[0;34m.\u001b[0m\u001b[0mset_index\u001b[0m\u001b[0;34m(\u001b[0m\u001b[0;34m'drugs'\u001b[0m\u001b[0;34m,\u001b[0m\u001b[0minplace\u001b[0m\u001b[0;34m=\u001b[0m\u001b[0;32mTrue\u001b[0m\u001b[0;34m)\u001b[0m\u001b[0;34m\u001b[0m\u001b[0;34m\u001b[0m\u001b[0m\n\u001b[1;32m     41\u001b[0m \u001b[0;34m\u001b[0m\u001b[0m\n\u001b[0;32m---> 42\u001b[0;31m \u001b[0msns\u001b[0m\u001b[0;34m.\u001b[0m\u001b[0mcountplot\u001b[0m\u001b[0;34m(\u001b[0m\u001b[0my\u001b[0m\u001b[0;34m=\u001b[0m\u001b[0;34m'Americans'\u001b[0m\u001b[0;34m,\u001b[0m\u001b[0mdata\u001b[0m\u001b[0;34m=\u001b[0m\u001b[0mbb\u001b[0m\u001b[0;34m,\u001b[0m\u001b[0mpalette\u001b[0m\u001b[0;34m=\u001b[0m\u001b[0;34m'Reds'\u001b[0m\u001b[0;34m)\u001b[0m\u001b[0;34m\u001b[0m\u001b[0;34m\u001b[0m\u001b[0m\n\u001b[0m\u001b[1;32m     43\u001b[0m \u001b[0;34m\u001b[0m\u001b[0m\n\u001b[1;32m     44\u001b[0m \u001b[0mbbb\u001b[0m \u001b[0;34m=\u001b[0m \u001b[0mnp\u001b[0m\u001b[0;34m.\u001b[0m\u001b[0marray\u001b[0m\u001b[0;34m(\u001b[0m\u001b[0mbb\u001b[0m\u001b[0;34m)\u001b[0m\u001b[0;34m\u001b[0m\u001b[0;34m\u001b[0m\u001b[0m\n",
            "\u001b[0;32m/usr/local/lib/python3.6/dist-packages/seaborn/categorical.py\u001b[0m in \u001b[0;36mcountplot\u001b[0;34m(x, y, hue, data, order, hue_order, orient, color, palette, saturation, dodge, ax, **kwargs)\u001b[0m\n\u001b[1;32m   3551\u001b[0m                           \u001b[0mestimator\u001b[0m\u001b[0;34m,\u001b[0m \u001b[0mci\u001b[0m\u001b[0;34m,\u001b[0m \u001b[0mn_boot\u001b[0m\u001b[0;34m,\u001b[0m \u001b[0munits\u001b[0m\u001b[0;34m,\u001b[0m\u001b[0;34m\u001b[0m\u001b[0;34m\u001b[0m\u001b[0m\n\u001b[1;32m   3552\u001b[0m                           \u001b[0morient\u001b[0m\u001b[0;34m,\u001b[0m \u001b[0mcolor\u001b[0m\u001b[0;34m,\u001b[0m \u001b[0mpalette\u001b[0m\u001b[0;34m,\u001b[0m \u001b[0msaturation\u001b[0m\u001b[0;34m,\u001b[0m\u001b[0;34m\u001b[0m\u001b[0;34m\u001b[0m\u001b[0m\n\u001b[0;32m-> 3553\u001b[0;31m                           errcolor, errwidth, capsize, dodge)\n\u001b[0m\u001b[1;32m   3554\u001b[0m \u001b[0;34m\u001b[0m\u001b[0m\n\u001b[1;32m   3555\u001b[0m     \u001b[0mplotter\u001b[0m\u001b[0;34m.\u001b[0m\u001b[0mvalue_label\u001b[0m \u001b[0;34m=\u001b[0m \u001b[0;34m\"count\"\u001b[0m\u001b[0;34m\u001b[0m\u001b[0;34m\u001b[0m\u001b[0m\n",
            "\u001b[0;32m/usr/local/lib/python3.6/dist-packages/seaborn/categorical.py\u001b[0m in \u001b[0;36m__init__\u001b[0;34m(self, x, y, hue, data, order, hue_order, estimator, ci, n_boot, units, orient, color, palette, saturation, errcolor, errwidth, capsize, dodge)\u001b[0m\n\u001b[1;32m   1605\u001b[0m         \u001b[0;34m\"\"\"Initialize the plotter.\"\"\"\u001b[0m\u001b[0;34m\u001b[0m\u001b[0;34m\u001b[0m\u001b[0m\n\u001b[1;32m   1606\u001b[0m         self.establish_variables(x, y, hue, data, orient,\n\u001b[0;32m-> 1607\u001b[0;31m                                  order, hue_order, units)\n\u001b[0m\u001b[1;32m   1608\u001b[0m         \u001b[0mself\u001b[0m\u001b[0;34m.\u001b[0m\u001b[0mestablish_colors\u001b[0m\u001b[0;34m(\u001b[0m\u001b[0mcolor\u001b[0m\u001b[0;34m,\u001b[0m \u001b[0mpalette\u001b[0m\u001b[0;34m,\u001b[0m \u001b[0msaturation\u001b[0m\u001b[0;34m)\u001b[0m\u001b[0;34m\u001b[0m\u001b[0;34m\u001b[0m\u001b[0m\n\u001b[1;32m   1609\u001b[0m         \u001b[0mself\u001b[0m\u001b[0;34m.\u001b[0m\u001b[0mestimate_statistic\u001b[0m\u001b[0;34m(\u001b[0m\u001b[0mestimator\u001b[0m\u001b[0;34m,\u001b[0m \u001b[0mci\u001b[0m\u001b[0;34m,\u001b[0m \u001b[0mn_boot\u001b[0m\u001b[0;34m)\u001b[0m\u001b[0;34m\u001b[0m\u001b[0;34m\u001b[0m\u001b[0m\n",
            "\u001b[0;32m/usr/local/lib/python3.6/dist-packages/seaborn/categorical.py\u001b[0m in \u001b[0;36mestablish_variables\u001b[0;34m(self, x, y, hue, data, orient, order, hue_order, units)\u001b[0m\n\u001b[1;32m    153\u001b[0m                 \u001b[0;32mif\u001b[0m \u001b[0misinstance\u001b[0m\u001b[0;34m(\u001b[0m\u001b[0minput\u001b[0m\u001b[0;34m,\u001b[0m \u001b[0mstring_types\u001b[0m\u001b[0;34m)\u001b[0m\u001b[0;34m:\u001b[0m\u001b[0;34m\u001b[0m\u001b[0;34m\u001b[0m\u001b[0m\n\u001b[1;32m    154\u001b[0m                     \u001b[0merr\u001b[0m \u001b[0;34m=\u001b[0m \u001b[0;34m\"Could not interpret input '{}'\"\u001b[0m\u001b[0;34m.\u001b[0m\u001b[0mformat\u001b[0m\u001b[0;34m(\u001b[0m\u001b[0minput\u001b[0m\u001b[0;34m)\u001b[0m\u001b[0;34m\u001b[0m\u001b[0;34m\u001b[0m\u001b[0m\n\u001b[0;32m--> 155\u001b[0;31m                     \u001b[0;32mraise\u001b[0m \u001b[0mValueError\u001b[0m\u001b[0;34m(\u001b[0m\u001b[0merr\u001b[0m\u001b[0;34m)\u001b[0m\u001b[0;34m\u001b[0m\u001b[0;34m\u001b[0m\u001b[0m\n\u001b[0m\u001b[1;32m    156\u001b[0m \u001b[0;34m\u001b[0m\u001b[0m\n\u001b[1;32m    157\u001b[0m             \u001b[0;31m# Figure out the plotting orientation\u001b[0m\u001b[0;34m\u001b[0m\u001b[0;34m\u001b[0m\u001b[0;34m\u001b[0m\u001b[0m\n",
            "\u001b[0;31mValueError\u001b[0m: Could not interpret input 'Americans'"
          ]
        },
        {
          "output_type": "display_data",
          "data": {
            "image/png": "[encoded data removed]",
            "text/plain": [
              "<Figure size 432x288 with 1 Axes>"
            ]
          },
          "metadata": {
            "tags": []
          }
        }
      ]
    },
    {
      "cell_type": "code",
      "metadata": {
        "colab_type": "code",
        "id": "qQWw8_IwNk0d",
        "colab": {}
      },
      "source": [
        "bb=bb.loc[[15], : ]"
      ],
      "execution_count": 0,
      "outputs": []
    },
    {
      "cell_type": "code",
      "metadata": {
        "colab_type": "code",
        "id": "093R9o88Nk0a",
        "colab": {}
      },
      "source": [
        "bb"
      ],
      "execution_count": 0,
      "outputs": []
    },
    {
      "cell_type": "code",
      "metadata": {
        "colab_type": "code",
        "id": "tCJMwNoWNk0W",
        "colab": {}
      },
      "source": [
        "bb.drop('alcohol-use',axis=1,inplace=True)"
      ],
      "execution_count": 0,
      "outputs": []
    },
    {
      "cell_type": "code",
      "metadata": {
        "colab_type": "code",
        "id": "7K06DZYpNk0V",
        "colab": {}
      },
      "source": [
        "bb"
      ],
      "execution_count": 0,
      "outputs": []
    },
    {
      "cell_type": "code",
      "metadata": {
        "colab_type": "code",
        "id": "PCoYP3N0Nk0T",
        "colab": {}
      },
      "source": [
        "bb = bb.loc[: ,['marijuana-use','cocaine-use','crack-use','heroin-use','hallucinogen-use','inhalant-use','pain-releiver-use','oxycontin-use','tranquilizer-use','stimulant-use','meth-use','sedative-use']]"
      ],
      "execution_count": 0,
      "outputs": []
    },
    {
      "cell_type": "code",
      "metadata": {
        "colab_type": "code",
        "id": "n1RVL7pYNk0Q",
        "colab": {}
      },
      "source": [
        "#the information i need held in a pandas series\n",
        "bb"
      ],
      "execution_count": 0,
      "outputs": []
    },
    {
      "cell_type": "code",
      "metadata": {
        "colab_type": "code",
        "id": "XLHGWA6rNk0N",
        "colab": {}
      },
      "source": [
        "# the numeric data i need stored inside of a numpy array\n",
        "print(bb.values)\n",
        "\n",
        "#categorical data names \n",
        "print(bb.columns)"
      ],
      "execution_count": 0,
      "outputs": []
    },
    {
      "cell_type": "code",
      "metadata": {
        "colab_type": "code",
        "id": "TIaX1bZ6Nk0K",
        "colab": {}
      },
      "source": [
        "bb = bb.T"
      ],
      "execution_count": 0,
      "outputs": []
    },
    {
      "cell_type": "code",
      "metadata": {
        "colab_type": "code",
        "id": "plGMqWSINk0G",
        "colab": {}
      },
      "source": [
        "bb"
      ],
      "execution_count": 0,
      "outputs": []
    },
    {
      "cell_type": "code",
      "metadata": {
        "colab_type": "code",
        "id": "w5Km4S3QNk0E",
        "colab": {}
      },
      "source": [
        "# bb.rename({15:'Americans'},inplace=True)"
      ],
      "execution_count": 0,
      "outputs": []
    },
    {
      "cell_type": "code",
      "metadata": {
        "colab_type": "code",
        "id": "SRa7ThkcNk0C",
        "colab": {}
      },
      "source": [
        "bb.reset_index(inplace=True)"
      ],
      "execution_count": 0,
      "outputs": []
    },
    {
      "cell_type": "code",
      "metadata": {
        "colab_type": "code",
        "id": "wsYO5Q90Nkz-",
        "colab": {}
      },
      "source": [
        "bb.rename({'index':'drugs'},axis=1,inplace=True)"
      ],
      "execution_count": 0,
      "outputs": []
    },
    {
      "cell_type": "code",
      "metadata": {
        "colab_type": "code",
        "id": "RiO3GFtlNkz7",
        "colab": {}
      },
      "source": [
        "import seaborn as sns\n",
        "sns.set_style = 'bright'\n",
        "sns.countplot(data= bb, y='drugs');"
      ],
      "execution_count": 0,
      "outputs": []
    },
    {
      "cell_type": "code",
      "metadata": {
        "colab_type": "code",
        "id": "bNq-6_ypNkz2",
        "colab": {}
      },
      "source": [
        "bb"
      ],
      "execution_count": 0,
      "outputs": []
    },
    {
      "cell_type": "code",
      "metadata": {
        "colab_type": "code",
        "id": "_M55m2Y1Nkzy",
        "colab": {}
      },
      "source": [
        "bb.set_index('drugs',inplace=True)"
      ],
      "execution_count": 0,
      "outputs": []
    },
    {
      "cell_type": "code",
      "metadata": {
        "colab_type": "code",
        "id": "ZYIEdFD1Nkzv",
        "colab": {}
      },
      "source": [
        "bb"
      ],
      "execution_count": 0,
      "outputs": []
    },
    {
      "cell_type": "code",
      "metadata": {
        "colab_type": "code",
        "id": "6NFINEvINkzs",
        "colab": {}
      },
      "source": [
        "sns.countplot(y='Americans',data=bb,palette='Reds')"
      ],
      "execution_count": 0,
      "outputs": []
    },
    {
      "cell_type": "code",
      "metadata": {
        "colab_type": "code",
        "id": "4O4tEpWnNkzq",
        "colab": {}
      },
      "source": [
        "bbb = np.array(bb)"
      ],
      "execution_count": 0,
      "outputs": []
    },
    {
      "cell_type": "code",
      "metadata": {
        "colab_type": "code",
        "id": "-di1LU6NNkzl",
        "colab": {}
      },
      "source": [
        "bbb"
      ],
      "execution_count": 0,
      "outputs": []
    },
    {
      "cell_type": "code",
      "metadata": {
        "colab_type": "code",
        "id": "7j1wt3NxNkzi",
        "colab": {}
      },
      "source": [
        "bb.plot(kind='barh',legend=False)"
      ],
      "execution_count": 0,
      "outputs": []
    },
    {
      "cell_type": "code",
      "metadata": {
        "colab_type": "code",
        "id": "WgNE9DkPNkze",
        "colab": {}
      },
      "source": [
        ""
      ],
      "execution_count": 0,
      "outputs": []
    },
    {
      "cell_type": "code",
      "metadata": {
        "colab_type": "code",
        "id": "DsMp-7w0NkzT",
        "colab": {}
      },
      "source": [
        "ax = bb['Americans'].value_counts().plot(kind='barh', figsize=(8,5),\n",
        "                                        color=\"coral\", fontsize=13);\n",
        "ax.set_alpha(0.8)\n",
        "ax.set_title(\"Percentage of Americans aged 50-64 who said in a 2012 survey that they had used the following drugs in the past year\",\n",
        "             fontsize=10)\n",
        "# ax.set_xlabel(\"Number of Battles\", fontsize=18);\n",
        "# ax.set_xticks([0, 5, 10, 15, 20])\n",
        "\n",
        "# create a list to collect the plt.patches data\n",
        "totals = []\n",
        "\n",
        "# find the values and append to list\n",
        "for i in ax.patches:\n",
        "    totals.append(i.get_width())\n",
        "\n",
        "# set individual bar lables using above list\n",
        "total = sum(totals)\n",
        "\n",
        "# set individual bar lables using above list\n",
        "for i in ax.patches:\n",
        "    # get_width pulls left or right; get_y pushes up or down\n",
        "    ax.text(i.get_width()+.3, i.get_y()+.38, \\\n",
        "            str(round((i.get_width()/total)*100, 2))+'%', fontsize=15,\n",
        "color='dimgrey')\n",
        "    \n",
        " # Y AXIS TICK LABELS\n",
        "ax.set_yticklabels(\n",
        "        labels=['Heroin',\n",
        "                'Meth',\n",
        "                'Inhalant',\n",
        "                'Sedative',\n",
        "                'Hallucinogen',\n",
        "                'Stimulant',\n",
        "                'OxyContin',\n",
        "                'Crack',\n",
        "                'Cocaine',\n",
        "                'Trainquilizer',\n",
        "                'Pain Reliever',\n",
        "                'Marijuana%'],\n",
        "      fontsize=9,\n",
        "      color='#929292'\n",
        "                )\n",
        "\n",
        "# invert for largest on top \n",
        "ax.invert_yaxis()\n",
        "\n",
        "\n",
        "bb.Americans.sort_values()"
      ],
      "execution_count": 0,
      "outputs": []
    },
    {
      "cell_type": "code",
      "metadata": {
        "id": "TvrYRDMrGVre",
        "colab_type": "code",
        "colab": {}
      },
      "source": [
        ""
      ],
      "execution_count": 0,
      "outputs": []
    },
    {
      "cell_type": "code",
      "metadata": {
        "id": "Is269nM4jzf0",
        "colab_type": "code",
        "colab": {}
      },
      "source": [
        "from IPython.display import display, Image\n",
        "\n",
        "url = 'https://fivethirtyeight.com/wp-content/uploads/2015/04/barry-jester-datalab-boomersdruguse-actual.png?w=575'\n",
        "\n",
        "graph = Image(url=url, width=400)\n",
        "display(graph)\n"
      ],
      "execution_count": 0,
      "outputs": []
    },
    {
      "cell_type": "code",
      "metadata": {
        "id": "e6z20o3AmYI1",
        "colab_type": "code",
        "colab": {}
      },
      "source": [
        "%matplotlib inline"
      ],
      "execution_count": 0,
      "outputs": []
    },
    {
      "cell_type": "code",
      "metadata": {
        "id": "tqTLf5UzkHYQ",
        "colab_type": "code",
        "colab": {}
      },
      "source": [
        "bbhi = pd.read_csv('https://raw.githubusercontent.com/fivethirtyeight/data/master/drug-use-by-age/drug-use-by-age.csv')"
      ],
      "execution_count": 0,
      "outputs": []
    },
    {
      "cell_type": "code",
      "metadata": {
        "id": "MKxhiYdMkS-q",
        "colab_type": "code",
        "colab": {}
      },
      "source": [
        "bbhi.head()\n",
        "bbhi.n.sum()"
      ],
      "execution_count": 0,
      "outputs": []
    },
    {
      "cell_type": "code",
      "metadata": {
        "id": "Lklndl-kkXYo",
        "colab_type": "code",
        "colab": {}
      },
      "source": [
        "baby = bbhi[bbhi.age >= '50']"
      ],
      "execution_count": 0,
      "outputs": []
    },
    {
      "cell_type": "code",
      "metadata": {
        "id": "hPE5ZW9ikT3H",
        "colab_type": "code",
        "colab": {}
      },
      "source": [
        "boomers = baby[baby.age < '65']"
      ],
      "execution_count": 0,
      "outputs": []
    },
    {
      "cell_type": "code",
      "metadata": {
        "id": "UN_VCDPun684",
        "colab_type": "code",
        "colab": {}
      },
      "source": [
        "boomers"
      ],
      "execution_count": 0,
      "outputs": []
    },
    {
      "cell_type": "code",
      "metadata": {
        "id": "vV1pm_Dsrf6Z",
        "colab_type": "code",
        "colab": {}
      },
      "source": [
        "bbhi.columns"
      ],
      "execution_count": 0,
      "outputs": []
    },
    {
      "cell_type": "code",
      "metadata": {
        "id": "wpclPsSTr6Gv",
        "colab_type": "code",
        "colab": {}
      },
      "source": [
        "boomers.set_index('age',inplace=True)"
      ],
      "execution_count": 0,
      "outputs": []
    },
    {
      "cell_type": "code",
      "metadata": {
        "id": "vsZYibpTsC0j",
        "colab_type": "code",
        "colab": {}
      },
      "source": [
        "boomers.reset_index(inplace=True)"
      ],
      "execution_count": 0,
      "outputs": []
    },
    {
      "cell_type": "code",
      "metadata": {
        "id": "tiP8FaFKsQq9",
        "colab_type": "code",
        "colab": {}
      },
      "source": [
        "boomers"
      ],
      "execution_count": 0,
      "outputs": []
    },
    {
      "cell_type": "code",
      "metadata": {
        "id": "s2sAocKIsYtT",
        "colab_type": "code",
        "colab": {}
      },
      "source": [
        "boomerang = boomers.T"
      ],
      "execution_count": 0,
      "outputs": []
    },
    {
      "cell_type": "code",
      "metadata": {
        "id": "lSZEXYROIKsM",
        "colab_type": "code",
        "colab": {}
      },
      "source": [
        "boomerang"
      ],
      "execution_count": 0,
      "outputs": []
    },
    {
      "cell_type": "code",
      "metadata": {
        "id": "mikG9aZtuU7l",
        "colab_type": "code",
        "colab": {}
      },
      "source": [
        "boomerang['percentages'] = boomerang[0]"
      ],
      "execution_count": 0,
      "outputs": []
    },
    {
      "cell_type": "code",
      "metadata": {
        "id": "UQXeUUjjICLs",
        "colab_type": "code",
        "colab": {}
      },
      "source": [
        "boomerang.drop(labels=0,axis=1,inplace=True)"
      ],
      "execution_count": 0,
      "outputs": []
    },
    {
      "cell_type": "code",
      "metadata": {
        "id": "jc1r2N8fItuO",
        "colab_type": "code",
        "colab": {}
      },
      "source": [
        "boomerang.drop(labels=['age','n'],axis=0,inplace=True)"
      ],
      "execution_count": 0,
      "outputs": []
    },
    {
      "cell_type": "code",
      "metadata": {
        "id": "MeizU0xFJof9",
        "colab_type": "code",
        "colab": {}
      },
      "source": [
        "boomerang"
      ],
      "execution_count": 0,
      "outputs": []
    },
    {
      "cell_type": "code",
      "metadata": {
        "id": "ZaE5k4ewz5Ox",
        "colab_type": "code",
        "colab": {}
      },
      "source": [
        "use = boomerang.reindex(['alcohol-use','marijuana-use','pain-releiver-use', 'tranquilizer-use',\n",
        "                              'cocaine-use', 'oxycontin-use',\n",
        "       'crack-use', 'hallucinogen-use', 'stimulant-use', 'inhalant-use',\n",
        "       'meth-use', 'sedative-use', 'heroin-use'])"
      ],
      "execution_count": 0,
      "outputs": []
    },
    {
      "cell_type": "code",
      "metadata": {
        "id": "TD5AvddOBAQ4",
        "colab_type": "code",
        "colab": {}
      },
      "source": [
        "display(graph)"
      ],
      "execution_count": 0,
      "outputs": []
    },
    {
      "cell_type": "code",
      "metadata": {
        "id": "WwX_NJm0TxUI",
        "colab_type": "code",
        "colab": {}
      },
      "source": [
        "'Percentage of Americans aged 50-64 who said in a 2012 survey that they had used the following drugs in the past year'"
      ],
      "execution_count": 0,
      "outputs": []
    },
    {
      "cell_type": "code",
      "metadata": {
        "id": "TZbMfLt7Aez8",
        "colab_type": "code",
        "colab": {}
      },
      "source": [
        "use"
      ],
      "execution_count": 0,
      "outputs": []
    },
    {
      "cell_type": "code",
      "metadata": {
        "id": "bBZTQ5VbAesD",
        "colab_type": "code",
        "colab": {}
      },
      "source": [
        "freq = boomerang.reindex(['sedative-frequency', 'crack-frequency',\n",
        "       'alcohol-frequency', 'marijuana-frequency', 'hallucinogen-frequency',\n",
        "       'heroin-frequency', 'cocaine-frequency', 'meth-frequency',\n",
        "       'stimulant-frequency', 'inhalant-frequency', 'pain-releiver-frequency',\n",
        "       'tranquilizer-frequency', 'oxycontin-frequency'])"
      ],
      "execution_count": 0,
      "outputs": []
    },
    {
      "cell_type": "code",
      "metadata": {
        "id": "AgTXjUXtAegz",
        "colab_type": "code",
        "colab": {}
      },
      "source": [
        "freq"
      ],
      "execution_count": 0,
      "outputs": []
    },
    {
      "cell_type": "code",
      "metadata": {
        "id": "DD3772bEsz7J",
        "colab_type": "code",
        "colab": {}
      },
      "source": [
        "use.drop(labels='alcohol-use',axis=0,inplace=True)"
      ],
      "execution_count": 0,
      "outputs": []
    },
    {
      "cell_type": "code",
      "metadata": {
        "id": "JhOuG8u8LbIL",
        "colab_type": "code",
        "colab": {}
      },
      "source": [
        "use.sort_values('percentages',ascending=False,inplace=True)"
      ],
      "execution_count": 0,
      "outputs": []
    },
    {
      "cell_type": "code",
      "metadata": {
        "id": "dgUjzNfvmrup",
        "colab_type": "code",
        "colab": {}
      },
      "source": [
        "use"
      ],
      "execution_count": 0,
      "outputs": []
    },
    {
      "cell_type": "code",
      "metadata": {
        "id": "qKMEQ-79twW1",
        "colab_type": "code",
        "colab": {}
      },
      "source": [
        "use.reset_index(inplace=True)"
      ],
      "execution_count": 0,
      "outputs": []
    },
    {
      "cell_type": "code",
      "metadata": {
        "id": "ED2CjT8yt0B_",
        "colab_type": "code",
        "colab": {}
      },
      "source": [
        "use"
      ],
      "execution_count": 0,
      "outputs": []
    },
    {
      "cell_type": "code",
      "metadata": {
        "id": "diu0ayiUujL0",
        "colab_type": "code",
        "colab": {}
      },
      "source": [
        "use['drugs'] = use['index']"
      ],
      "execution_count": 0,
      "outputs": []
    },
    {
      "cell_type": "code",
      "metadata": {
        "id": "e5bsMHqFul_k",
        "colab_type": "code",
        "colab": {}
      },
      "source": [
        "use"
      ],
      "execution_count": 0,
      "outputs": []
    },
    {
      "cell_type": "code",
      "metadata": {
        "id": "DwcwkQ3OunVQ",
        "colab_type": "code",
        "colab": {}
      },
      "source": [
        "use.drop(labels='index',axis=1,inplace=True)"
      ],
      "execution_count": 0,
      "outputs": []
    },
    {
      "cell_type": "code",
      "metadata": {
        "id": "kgr1FwPZutv8",
        "colab_type": "code",
        "colab": {}
      },
      "source": [
        "use"
      ],
      "execution_count": 0,
      "outputs": []
    },
    {
      "cell_type": "code",
      "metadata": {
        "id": "CU5nPkj1MgPO",
        "colab_type": "code",
        "colab": {}
      },
      "source": [
        "use.set_index('drugs',inplace=True)"
      ],
      "execution_count": 0,
      "outputs": []
    },
    {
      "cell_type": "code",
      "metadata": {
        "id": "rKkgxHURowO3",
        "colab_type": "code",
        "colab": {}
      },
      "source": [
        "use"
      ],
      "execution_count": 0,
      "outputs": []
    },
    {
      "cell_type": "code",
      "metadata": {
        "id": "hPYrYdZQaGGT",
        "colab_type": "code",
        "colab": {}
      },
      "source": [
        "use.percentages.values"
      ],
      "execution_count": 0,
      "outputs": []
    },
    {
      "cell_type": "code",
      "metadata": {
        "id": "C9_QJXecp3qW",
        "colab_type": "code",
        "colab": {}
      },
      "source": [
        "use.sort_values('percentages',ascending=False,inplace=True)"
      ],
      "execution_count": 0,
      "outputs": []
    },
    {
      "cell_type": "code",
      "metadata": {
        "id": "x5x4h7J4qM3c",
        "colab_type": "code",
        "colab": {}
      },
      "source": [
        "type(use)"
      ],
      "execution_count": 0,
      "outputs": []
    },
    {
      "cell_type": "code",
      "metadata": {
        "id": "7lZ8elWKEUDy",
        "colab_type": "code",
        "colab": {}
      },
      "source": [
        "yticklabels = ['Marijuana', 'Pain reliever', 'Tranquilizer', 'Cocaine', 'Crack', 'OxyContin', 'Stimulant', 'Hallucinogen', 'Sedative', 'Inhalant', 'Meth', 'Heroin']"
      ],
      "execution_count": 0,
      "outputs": []
    },
    {
      "cell_type": "code",
      "metadata": {
        "id": "Bx0iGY0lqpYl",
        "colab_type": "code",
        "colab": {}
      },
      "source": [
        "use"
      ],
      "execution_count": 0,
      "outputs": []
    },
    {
      "cell_type": "code",
      "metadata": {
        "id": "I-vUKuIGw4w_",
        "colab_type": "code",
        "colab": {}
      },
      "source": [
        "use.plot(kind='barh',grid=False,figsize=(6,5),title='Percentage of Americans aged 50-64 who said in a 2012 survey that they had used the following drugs in the past year',\n",
        "         fontsize= 9,legend=False,style=use['percentages'] ,\n",
        "         yticks=[7.3, 2.5, 1.4, 0.9, 0.4, 0.4, 0.3, 0.3, \n",
        "                 0.2, 0.2, 0.2, 0.1],\n",
        "         position=1.0,yticklabels=yticklabels)"
      ],
      "execution_count": 0,
      "outputs": []
    },
    {
      "cell_type": "code",
      "metadata": {
        "id": "033Rbvy28lVn",
        "colab_type": "code",
        "colab": {}
      },
      "source": [
        "display(graph)"
      ],
      "execution_count": 0,
      "outputs": []
    },
    {
      "cell_type": "markdown",
      "metadata": {
        "id": "0wSrBzmJyWaV",
        "colab_type": "text"
      },
      "source": [
        "# STRETCH OPTIONS\n",
        "\n",
        "### 1) Reproduce one of the following using the matplotlib or seaborn libraries:\n",
        "\n",
        "- [thanksgiving-2015](https://fivethirtyeight.com/features/heres-what-your-part-of-america-eats-on-thanksgiving/) \n",
        "- [candy-power-ranking](https://fivethirtyeight.com/features/the-ultimate-halloween-candy-power-ranking/) \n",
        "- or another example of your choice!\n",
        "\n",
        "### 2) Make more charts!\n",
        "\n",
        "Choose a chart you want to make, from [Visual Vocabulary - Vega Edition](http://ft.com/vocabulary).\n",
        "\n",
        "Find the chart in an example gallery of a Python data visualization library:\n",
        "- [Seaborn](http://seaborn.pydata.org/examples/index.html)\n",
        "- [Altair](https://altair-viz.github.io/gallery/index.html)\n",
        "- [Matplotlib](https://matplotlib.org/gallery.html)\n",
        "- [Pandas](https://pandas.pydata.org/pandas-docs/stable/visualization.html)\n",
        "\n",
        "Reproduce the chart. [Optionally, try the \"Ben Franklin Method.\"](https://docs.google.com/document/d/1ubOw9B3Hfip27hF2ZFnW3a3z9xAgrUDRReOEo-FHCVs/edit) If you want, experiment and make changes.\n",
        "\n",
        "Take notes. Consider sharing your work with your cohort!"
      ]
    }
  ]
}