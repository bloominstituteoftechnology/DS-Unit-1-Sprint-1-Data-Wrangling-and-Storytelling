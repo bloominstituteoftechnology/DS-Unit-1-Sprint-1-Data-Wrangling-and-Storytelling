{
  "nbformat": 4,
  "nbformat_minor": 0,
  "metadata": {
    "colab": {
      "name": "LS_DS_Sprint1_AG.ipynb",
      "provenance": [],
      "collapsed_sections": [],
      "include_colab_link": true
    },
    "kernelspec": {
      "display_name": "Python 3",
      "language": "python",
      "name": "python3"
    },
    "language_info": {
      "codemirror_mode": {
        "name": "ipython",
        "version": 3
      },
      "file_extension": ".py",
      "mimetype": "text/x-python",
      "name": "python",
      "nbconvert_exporter": "python",
      "pygments_lexer": "ipython3",
      "version": "3.8.8"
    }
  },
  "cells": [
    {
      "cell_type": "markdown",
      "metadata": {
        "id": "view-in-github",
        "colab_type": "text"
      },
      "source": [
        "<a href=\"https://colab.research.google.com/github/ScottAllenJefferys/DS-Unit-1-Sprint-1-Data-Wrangling-and-Storytelling/blob/master/LS_DS_Sprint1_AG.ipynb\" target=\"_parent\"><img src=\"https://colab.research.google.com/assets/colab-badge.svg\" alt=\"Open In Colab\"/></a>"
      ]
    },
    {
      "cell_type": "markdown",
      "metadata": {
        "id": "O1BW73-HJYOO"
      },
      "source": [
        "## Autograded Notebook (Canvas & CodeGrade)\n",
        "\n",
        "This notebook will be automatically graded. It is designed to test your answers and award points for the correct answers. Following the instructions for each Task carefully.\n",
        "\n",
        "### Instructions\n",
        "\n",
        "* **Download this notebook** as you would any other ipynb file\n",
        "* **Upload** to Google Colab or work locally (if you have that set-up)\n",
        "* **Delete `raise NotImplementedError()`**\n",
        "* Write your code in the `# YOUR CODE HERE` space\n",
        "* **Execute** the Test cells that contain `assert` statements - these help you check your work (others contain hidden tests that will be checked when you submit through Canvas)\n",
        "* **Save** your notebook when you are finished\n",
        "* **Download** as a `ipynb` file (if working in Colab)\n",
        "* **Upload** your complete notebook to Canvas (there will be additional instructions in Slack and/or Canvas)"
      ]
    },
    {
      "cell_type": "markdown",
      "metadata": {
        "id": "j4EFYnn4MixR"
      },
      "source": [
        "## Sprint Challenge: Data Wrangling and Storytelling\n"
      ]
    },
    {
      "cell_type": "markdown",
      "metadata": {
        "id": "qSvL3CeTFk9F"
      },
      "source": [
        "## Use the following information to complete Tasks 1 - 12\n",
        "\n",
        "### Notebook points total: 12\n",
        "\n",
        "In this Sprint Challenge you will first \"wrangle\" some data from [Gapminder](https://www.gapminder.org/about-gapminder/), a Swedish non-profit co-founded by Hans Rosling. \"Gapminder produces free teaching resources making the world understandable based on reliable statistics.\"\n",
        "- [Cell phones (total), by country and year](https://raw.githubusercontent.com/open-numbers/ddf--gapminder--systema_globalis/master/countries-etc-datapoints/ddf--datapoints--cell_phones_total--by--geo--time.csv)\n",
        "- [Population (total), by country and year](https://raw.githubusercontent.com/open-numbers/ddf--gapminder--systema_globalis/master/countries-etc-datapoints/ddf--datapoints--population_total--by--geo--time.csv)\n",
        "- [Geo country codes](https://github.com/open-numbers/ddf--gapminder--systema_globalis/blob/master/ddf--entities--geo--country.csv)\n",
        "\n",
        "These two links have everything you need to successfully complete the first part of this sprint challenge.\n",
        "- [Pandas documentation: Working with Text Data](https://pandas.pydata.org/pandas-docs/stable/text.html) (one question)\n",
        "- [Pandas Cheat Sheet](https://github.com/pandas-dev/pandas/blob/master/doc/cheatsheet/Pandas_Cheat_Sheet.pdf) (everything else)\n"
      ]
    },
    {
      "cell_type": "markdown",
      "metadata": {
        "id": "0ZklksziMixS"
      },
      "source": [
        "**Task 1** - Load and print the cell phone data.  Pandas and numpy import statements have been included for you.\n",
        "\n",
        "* load your CSV file found at `cell_phones_url` into a DataFrame named `cell_phones`\n",
        "* print the top 5 records of `cell_phones`\n"
      ]
    },
    {
      "cell_type": "code",
      "metadata": {
        "deletable": false,
        "id": "FFO8QNJ7MixS",
        "nbgrader": {
          "cell_type": "code",
          "checksum": "1632d7e0d10fad859c18f7a2fd31b76d",
          "grade": false,
          "grade_id": "cell-6f16afb9d271f949",
          "locked": false,
          "schema_version": 3,
          "solution": true,
          "task": false
        },
        "colab": {
          "base_uri": "https://localhost:8080/"
        },
        "outputId": "90bcfceb-cca1-4050-d551-277770de07de"
      },
      "source": [
        "# Task 1\n",
        "\n",
        "# Imports \n",
        "import pandas as pd\n",
        "import numpy as np\n",
        "\n",
        "cell_phones_url = 'https://raw.githubusercontent.com/LambdaSchool/data-science-practice-datasets/main/unit_1/Cell__Phones/cell_phones.csv'\n",
        "\n",
        "# Load the dataframe and print the top 5 rows\n",
        "\n",
        "# YOUR CODE HERE\n",
        "cell_phones = pd.read_csv(cell_phones_url)\n",
        "\n",
        "\n",
        "print(cell_phones)"
      ],
      "execution_count": 3,
      "outputs": [
        {
          "output_type": "stream",
          "name": "stdout",
          "text": [
            "      geo  time  cell_phones_total\n",
            "0     abw  1960                0.0\n",
            "1     abw  1965                0.0\n",
            "2     abw  1970                0.0\n",
            "3     abw  1975                0.0\n",
            "4     abw  1976                0.0\n",
            "...   ...   ...                ...\n",
            "9569  zwe  2015         12757410.0\n",
            "9570  zwe  2016         12878926.0\n",
            "9571  zwe  2017         14092104.0\n",
            "9572  zwe  2018         12908992.0\n",
            "9573  zwe  2019         13195902.0\n",
            "\n",
            "[9574 rows x 3 columns]\n"
          ]
        }
      ]
    },
    {
      "cell_type": "markdown",
      "metadata": {
        "id": "ymCLkZMJMixT"
      },
      "source": [
        "**Task 1 Test**"
      ]
    },
    {
      "cell_type": "code",
      "metadata": {
        "deletable": false,
        "editable": false,
        "id": "btcEJXxCMixT",
        "nbgrader": {
          "cell_type": "code",
          "checksum": "cd3795c084d4d631eeff1d62b4cf1580",
          "grade": true,
          "grade_id": "cell-226f7bf8e9ea24f9",
          "locked": true,
          "points": 1,
          "schema_version": 3,
          "solution": false,
          "task": false
        }
      },
      "source": [
        "# Task 1 - Test\n",
        "\n",
        "assert isinstance(cell_phones, pd.DataFrame), 'Have you created a DataFrame named `cell_phones`?'\n",
        "assert len(cell_phones) == 9574\n"
      ],
      "execution_count": 4,
      "outputs": []
    },
    {
      "cell_type": "markdown",
      "metadata": {
        "id": "9YPW16tmT2J_"
      },
      "source": [
        "**Task 2** - Load and print the population data.  \n",
        "\n",
        "* load the CSV file found at `population_url` into a DataFrame named `population`\n",
        "* print the top 5 records of `population`\n"
      ]
    },
    {
      "cell_type": "code",
      "metadata": {
        "deletable": false,
        "id": "SNWpDAvyUYa2",
        "nbgrader": {
          "cell_type": "code",
          "checksum": "2eab1821adf0220c706ecf2382fcab3e",
          "grade": false,
          "grade_id": "cell-561c2d59728188a9",
          "locked": false,
          "schema_version": 3,
          "solution": true,
          "task": false
        },
        "colab": {
          "base_uri": "https://localhost:8080/"
        },
        "outputId": "c8c5b0dc-52da-45b3-9107-f6dd0a2cc1c9"
      },
      "source": [
        "# Task 2\n",
        "\n",
        "population_url = 'https://raw.githubusercontent.com/LambdaSchool/data-science-practice-datasets/main/unit_1/Population/population.csv'\n",
        "\n",
        "# Load the dataframe and print the first 5 records\n",
        "\n",
        "# YOUR CODE HERE\n",
        "population = pd.read_csv(population_url)\n",
        "\n",
        "print(population)"
      ],
      "execution_count": 6,
      "outputs": [
        {
          "output_type": "stream",
          "name": "stdout",
          "text": [
            "       geo  time  population_total\n",
            "0      afg  1800           3280000\n",
            "1      afg  1801           3280000\n",
            "2      afg  1802           3280000\n",
            "3      afg  1803           3280000\n",
            "4      afg  1804           3280000\n",
            "...    ...   ...               ...\n",
            "59292  zwe  2096          30940779\n",
            "59293  zwe  2097          30952208\n",
            "59294  zwe  2098          30959811\n",
            "59295  zwe  2099          30964052\n",
            "59296  zwe  2100          30965421\n",
            "\n",
            "[59297 rows x 3 columns]\n"
          ]
        }
      ]
    },
    {
      "cell_type": "markdown",
      "metadata": {
        "id": "RDOcC0FdVjIz"
      },
      "source": [
        "**Task 2 Test**"
      ]
    },
    {
      "cell_type": "code",
      "metadata": {
        "deletable": false,
        "editable": false,
        "id": "jcaZ5W5cVjI_",
        "nbgrader": {
          "cell_type": "code",
          "checksum": "2858e90cb4132ad3e6063660a7e38469",
          "grade": true,
          "grade_id": "cell-59d01cd695becd74",
          "locked": true,
          "points": 1,
          "schema_version": 3,
          "solution": false,
          "task": false
        }
      },
      "source": [
        "# Task 2 - Test\n",
        "\n",
        "assert isinstance(population, pd.DataFrame), 'Have you created a DataFrame named `population`?'\n",
        "assert len(population) == 59297\n"
      ],
      "execution_count": 27,
      "outputs": []
    },
    {
      "cell_type": "markdown",
      "metadata": {
        "id": "9acXXTiEV5uJ"
      },
      "source": [
        "**Task 3** - Load and print the geo country codes data.  \n",
        "\n",
        "* load the CSV file found at `geo_codes_url` into a DataFrame named `geo_codes`\n",
        "* print the top 5 records of `geo_codes`\n"
      ]
    },
    {
      "cell_type": "code",
      "metadata": {
        "deletable": false,
        "id": "Obm4p8WXV5uJ",
        "nbgrader": {
          "cell_type": "code",
          "checksum": "c6d583bee0966dc2f01f62c6086f3ed3",
          "grade": false,
          "grade_id": "cell-eb4d290384535503",
          "locked": false,
          "schema_version": 3,
          "solution": true,
          "task": false
        },
        "colab": {
          "base_uri": "https://localhost:8080/"
        },
        "outputId": "06b9d3c2-852a-4f7c-ac33-7905690dbce7"
      },
      "source": [
        "# Task 3\n",
        "\n",
        "geo_codes_url = 'https://raw.githubusercontent.com/LambdaSchool/data-science-practice-datasets/main/unit_1/GEO_codes/geo_country_codes.csv'\n",
        "\n",
        "# Load the dataframe and print out the first 5 records\n",
        "\n",
        "# YOUR CODE HERE\n",
        "geo_codes = pd.read_csv(geo_codes_url)\n",
        "\n",
        "print(geo_codes)"
      ],
      "execution_count": 8,
      "outputs": [
        {
          "output_type": "stream",
          "name": "stdout",
          "text": [
            "           geo g77_and_oecd_countries  ... world_4region             world_6region\n",
            "0         abkh                 others  ...        europe       europe_central_asia\n",
            "1          abw                 others  ...      americas                   america\n",
            "2          afg                    g77  ...          asia                south_asia\n",
            "3          ago                    g77  ...        africa        sub_saharan_africa\n",
            "4          aia                 others  ...      americas                   america\n",
            "..         ...                    ...  ...           ...                       ...\n",
            "268  yem_south                 others  ...          asia  middle_east_north_africa\n",
            "269        yug                 others  ...        europe       europe_central_asia\n",
            "270        zaf                    g77  ...        africa        sub_saharan_africa\n",
            "271        zmb                    g77  ...        africa        sub_saharan_africa\n",
            "272        zwe                    g77  ...        africa        sub_saharan_africa\n",
            "\n",
            "[273 rows x 21 columns]\n"
          ]
        }
      ]
    },
    {
      "cell_type": "markdown",
      "metadata": {
        "id": "_WR-4MbmV5uK"
      },
      "source": [
        "**Task 3 Test**"
      ]
    },
    {
      "cell_type": "code",
      "metadata": {
        "deletable": false,
        "editable": false,
        "id": "Z3Tza5NWV5uK",
        "nbgrader": {
          "cell_type": "code",
          "checksum": "78137b984fce2d85c696c65078dfd05d",
          "grade": true,
          "grade_id": "cell-39240405659c0c19",
          "locked": true,
          "points": 1,
          "schema_version": 3,
          "solution": false,
          "task": false
        }
      },
      "source": [
        "# Task 3 - Test\n",
        "\n",
        "assert geo_codes is not None, 'Have you created a DataFrame named `geo_codes`?'\n",
        "assert len(geo_codes) == 273\n"
      ],
      "execution_count": 9,
      "outputs": []
    },
    {
      "cell_type": "markdown",
      "metadata": {
        "id": "5DbACESjYxpV"
      },
      "source": [
        "**Task 4** - Check for missing values\n",
        "\n",
        "Let's check for missing values in each of these DataFrames: `cell_phones`, `population` and `geo_codes`\n",
        "\n",
        "* Check for missing values in the following DataFrames:\n",
        "    * assign the total number of missing values in `cell_phones` to the variable `cell_phones_missing`\n",
        "    * assign the total number of missing values in `population` to the variable `population_missing`\n",
        "    * assign the total number of missing values in `geo_codes` to the variable `geo_codes_missing` (Hint: you will need to do a sum of a sum here - `.sum().sum()`)"
      ]
    },
    {
      "cell_type": "code",
      "metadata": {
        "deletable": false,
        "id": "SwmSvUySJjXc",
        "nbgrader": {
          "cell_type": "code",
          "checksum": "b4ea8f9b909a45099743efb4879697c7",
          "grade": false,
          "grade_id": "cell-9426cd5765574e07",
          "locked": false,
          "schema_version": 3,
          "solution": true,
          "task": false
        },
        "colab": {
          "base_uri": "https://localhost:8080/"
        },
        "outputId": "e315f87f-dbdd-4b21-996b-eceac8e59865"
      },
      "source": [
        "# Task 4\n",
        "\n",
        "# Check for missing data in each of the DataFrames\n",
        "\n",
        "# YOUR CODE HERE\n",
        "cell_phones_missing =  cell_phones.isnull().sum().sum()\n",
        "print(\"Missing Cell Phones:\", cell_phones_missing)\n",
        "\n",
        "population_missing =  population.isnull().sum().sum()\n",
        "print(\"Missing Population:\", population_missing)\n",
        "\n",
        "geo_codes_missing =  geo_codes.isnull().sum().sum()\n",
        "print(\"Missing Geo Codes:\", geo_codes_missing)"
      ],
      "execution_count": 12,
      "outputs": [
        {
          "output_type": "stream",
          "name": "stdout",
          "text": [
            "Missing Cell Phones: 0\n",
            "Missing Population: 0\n",
            "Missing Geo Codes: 781\n"
          ]
        }
      ]
    },
    {
      "cell_type": "markdown",
      "metadata": {
        "id": "cREZV7g0aLGC"
      },
      "source": [
        "**Task 4 Test**"
      ]
    },
    {
      "cell_type": "code",
      "metadata": {
        "deletable": false,
        "editable": false,
        "id": "eaQwM15IaLGD",
        "nbgrader": {
          "cell_type": "code",
          "checksum": "e03a86fcc6bfd5f48fa501f9d29870e7",
          "grade": true,
          "grade_id": "cell-cf6ab3b4b1e8afc1",
          "locked": true,
          "points": 1,
          "schema_version": 3,
          "solution": false,
          "task": false
        }
      },
      "source": [
        "# Task 4 - Test\n",
        "\n",
        "if geo_codes_missing == 21: print('ERROR: Make sure to use a sum of a sum for the missing geo codes!')  \n",
        "\n",
        "# Hidden tests - you will see the results when you submit to Canvas"
      ],
      "execution_count": 13,
      "outputs": []
    },
    {
      "cell_type": "markdown",
      "metadata": {
        "id": "P54itLGveF5p"
      },
      "source": [
        "**Task 5** - Merge the `cell_phones` and `population` DataFrames.\n",
        "\n",
        "* Merge the `cell_phones` and `population` dataframes with an **inner** merge on both the `geo` and `time` columns.\n",
        "* Call the resulting dataframe `cell_phone_population`"
      ]
    },
    {
      "cell_type": "code",
      "metadata": {
        "deletable": false,
        "id": "KL_NCL7heF51",
        "nbgrader": {
          "cell_type": "code",
          "checksum": "01f359418133f448ed26182a8d16205f",
          "grade": false,
          "grade_id": "cell-decaebaa844aa3a5",
          "locked": false,
          "schema_version": 3,
          "solution": true,
          "task": false
        },
        "colab": {
          "base_uri": "https://localhost:8080/"
        },
        "outputId": "285767bf-060c-4303-a11d-ae717250ba72"
      },
      "source": [
        "# Task 5\n",
        "\n",
        "# Merge the cell_phones and population dataframes\n",
        "\n",
        "# YOUR CODE HERE\n",
        "print(\"Common Columns: \")\n",
        "print( set(cell_phones.columns) & set(population.columns) ); print()\n",
        "\n",
        "print(\"Merged DataFrame:\")\n",
        "cell_phone_population = cell_phones.merge(population, how='inner')#, on=['time', 'geo'])\n",
        "print(cell_phone_population)"
      ],
      "execution_count": 29,
      "outputs": [
        {
          "output_type": "stream",
          "name": "stdout",
          "text": [
            "Common Columns: \n",
            "{'time', 'geo'}\n",
            "\n",
            "Merged DataFrame:\n",
            "      geo  time  cell_phones_total  population_total\n",
            "0     afg  1960                0.0           8996967\n",
            "1     afg  1965                0.0           9956318\n",
            "2     afg  1970                0.0          11173654\n",
            "3     afg  1975                0.0          12689164\n",
            "4     afg  1976                0.0          12943093\n",
            "...   ...   ...                ...               ...\n",
            "8925  zwe  2015         12757410.0          13814642\n",
            "8926  zwe  2016         12878926.0          14030338\n",
            "8927  zwe  2017         14092104.0          14236599\n",
            "8928  zwe  2018         12908992.0          14438812\n",
            "8929  zwe  2019         13195902.0          14645473\n",
            "\n",
            "[8930 rows x 4 columns]\n"
          ]
        }
      ]
    },
    {
      "cell_type": "markdown",
      "metadata": {
        "id": "9vFSumbkfqr_"
      },
      "source": [
        "**Task 5 Test**"
      ]
    },
    {
      "cell_type": "code",
      "metadata": {
        "deletable": false,
        "editable": false,
        "id": "85-p_0UGfkZJ",
        "nbgrader": {
          "cell_type": "code",
          "checksum": "7a6362a6a1f740d69ce8dd46909a8f60",
          "grade": true,
          "grade_id": "cell-dd2473ea91f15f30",
          "locked": true,
          "points": 1,
          "schema_version": 3,
          "solution": false,
          "task": false
        }
      },
      "source": [
        "# Task 5 - Test\n",
        "\n",
        "assert cell_phone_population is not None, 'Have you merged created a DataFrame named cell_phone_population?'\n",
        "assert len(cell_phone_population) == 8930\n"
      ],
      "execution_count": 30,
      "outputs": []
    },
    {
      "cell_type": "markdown",
      "metadata": {
        "id": "oByYSkC7hB05"
      },
      "source": [
        "**Task 6** - Merge the `cell_phone_population` and `geo_codes` DataFrames\n",
        "\n",
        "* Merge the `cell_phone_population` and `geo_codes` DataFrames with an inner merge using the `geo` column.\n",
        "* **Only merge the `country` and `geo` columns from the `geo_codes` dataframe**\n",
        "* Call the resulting DataFrame `geo_cell_phone_population`\n"
      ]
    },
    {
      "cell_type": "code",
      "metadata": {
        "deletable": false,
        "id": "NcO8-JpQhB1F",
        "nbgrader": {
          "cell_type": "code",
          "checksum": "2ab46a540b8b1d7861195ae9d24c5c20",
          "grade": false,
          "grade_id": "cell-1ce5a2360ee6fd20",
          "locked": false,
          "schema_version": 3,
          "solution": true,
          "task": false
        },
        "colab": {
          "base_uri": "https://localhost:8080/"
        },
        "outputId": "246b1086-f12b-4d35-ab70-730c448d0c90"
      },
      "source": [
        "# Task 6\n",
        "\n",
        "# Merge the cell_phone_population and geo_codes dataframes\n",
        "# Only include the country and geo columns from geo_codes\n",
        "\n",
        "geo_col_selection = ['country', 'geo']\n",
        "\n",
        "# YOUR CODE HERE\n",
        "print(\"Common Columns: \")\n",
        "print( set(cell_phone_population.columns) & \n",
        "      set(geo_codes[geo_col_selection].columns) ); print()\n",
        "\n",
        "geo_cell_phone_population = cell_phone_population.merge(geo_codes[geo_col_selection], how='inner')\n",
        "print(geo_cell_phone_population)"
      ],
      "execution_count": 31,
      "outputs": [
        {
          "output_type": "stream",
          "name": "stdout",
          "text": [
            "Common Columns: \n",
            "{'geo'}\n",
            "\n",
            "      geo  time  cell_phones_total  population_total      country\n",
            "0     afg  1960                0.0           8996967  Afghanistan\n",
            "1     afg  1965                0.0           9956318  Afghanistan\n",
            "2     afg  1970                0.0          11173654  Afghanistan\n",
            "3     afg  1975                0.0          12689164  Afghanistan\n",
            "4     afg  1976                0.0          12943093  Afghanistan\n",
            "...   ...   ...                ...               ...          ...\n",
            "8925  zwe  2015         12757410.0          13814642     Zimbabwe\n",
            "8926  zwe  2016         12878926.0          14030338     Zimbabwe\n",
            "8927  zwe  2017         14092104.0          14236599     Zimbabwe\n",
            "8928  zwe  2018         12908992.0          14438812     Zimbabwe\n",
            "8929  zwe  2019         13195902.0          14645473     Zimbabwe\n",
            "\n",
            "[8930 rows x 5 columns]\n"
          ]
        }
      ]
    },
    {
      "cell_type": "markdown",
      "metadata": {
        "id": "zAKDLSV-hB1G"
      },
      "source": [
        "**Task 6 Test**"
      ]
    },
    {
      "cell_type": "code",
      "metadata": {
        "deletable": false,
        "editable": false,
        "id": "eQgHSsLihB1G",
        "nbgrader": {
          "cell_type": "code",
          "checksum": "adeec7312d967b89937e1487322747a5",
          "grade": true,
          "grade_id": "cell-764d5b72ae382339",
          "locked": true,
          "points": 1,
          "schema_version": 3,
          "solution": false,
          "task": false
        }
      },
      "source": [
        "# Task 6 - Test\n",
        "\n",
        "assert geo_cell_phone_population is not None #, 'Have you created a DataFrame named geo_cell_phone_population?\n",
        "assert len(geo_cell_phone_population) == 8930\n"
      ],
      "execution_count": 36,
      "outputs": []
    },
    {
      "cell_type": "markdown",
      "metadata": {
        "id": "-CZF39BWivc2"
      },
      "source": [
        "**Task 7** - Calculate the number of cell phones per person.\n",
        "\n",
        "* Use the `cell_phones_total` and `population_total` columns to calculate the number of cell phones per person for each country.\n",
        "* Call this new feature (column) `phones_per_person` and add it to the `geo_cell_phone_population` DataFrame (you'll be adding the column to the DataFrame).\n"
      ]
    },
    {
      "cell_type": "code",
      "metadata": {
        "deletable": false,
        "id": "vBeXa3LTivdC",
        "nbgrader": {
          "cell_type": "code",
          "checksum": "196f7d476b4d811188e62e70b4d5a219",
          "grade": false,
          "grade_id": "cell-bd0bce2920604643",
          "locked": false,
          "schema_version": 3,
          "solution": true,
          "task": false
        },
        "colab": {
          "base_uri": "https://localhost:8080/"
        },
        "outputId": "96876b87-5853-4b85-b830-a9675a4281e3"
      },
      "source": [
        "# Task 7\n",
        "\n",
        "# Calculate the number of cell phones per person for each country and year.\n",
        "\n",
        "# YOUR CODE HERE\n",
        "print(geo_cell_phone_population.columns); print()\n",
        "\n",
        "geo_cell_phone_population['phones_per_person'] = geo_cell_phone_population['cell_phones_total'] / geo_cell_phone_population['population_total']\n",
        "print(geo_cell_phone_population)"
      ],
      "execution_count": 59,
      "outputs": [
        {
          "output_type": "stream",
          "name": "stdout",
          "text": [
            "Index(['geo', 'time', 'cell_phones_total', 'population_total', 'country',\n",
            "       'phones_per_person'],\n",
            "      dtype='object')\n",
            "\n",
            "      geo  time  ...      country  phones_per_person\n",
            "0     afg  1960  ...  Afghanistan           0.000000\n",
            "1     afg  1965  ...  Afghanistan           0.000000\n",
            "2     afg  1970  ...  Afghanistan           0.000000\n",
            "3     afg  1975  ...  Afghanistan           0.000000\n",
            "4     afg  1976  ...  Afghanistan           0.000000\n",
            "...   ...   ...  ...          ...                ...\n",
            "8925  zwe  2015  ...     Zimbabwe           0.923470\n",
            "8926  zwe  2016  ...     Zimbabwe           0.917934\n",
            "8927  zwe  2017  ...     Zimbabwe           0.989850\n",
            "8928  zwe  2018  ...     Zimbabwe           0.894048\n",
            "8929  zwe  2019  ...     Zimbabwe           0.901023\n",
            "\n",
            "[8930 rows x 6 columns]\n"
          ]
        }
      ]
    },
    {
      "cell_type": "markdown",
      "metadata": {
        "id": "4IiDB6f6ivdD"
      },
      "source": [
        "**Task 7 Test**"
      ]
    },
    {
      "cell_type": "code",
      "metadata": {
        "deletable": false,
        "editable": false,
        "id": "L3UgjCfFivdD",
        "nbgrader": {
          "cell_type": "code",
          "checksum": "69eda2b0addf7a8ecc742810ad988bc4",
          "grade": true,
          "grade_id": "cell-45c955c43e471400",
          "locked": true,
          "points": 1,
          "schema_version": 3,
          "solution": false,
          "task": false
        }
      },
      "source": [
        "# Task 7 - Test\n",
        "\n",
        "# Hidden tests - you will see the results when you submit to Canvas"
      ],
      "execution_count": null,
      "outputs": []
    },
    {
      "cell_type": "markdown",
      "metadata": {
        "id": "b_CZNPZAlw71"
      },
      "source": [
        "**Task 8** - Identify the number of cell phones per person in the US in 2017\n",
        "\n",
        "* Write a line of code that will create a one-row subset of `geo_cell_phone_population` with data on cell phone ownership in the United States for the year 2017.\n",
        "* Call this subset DataFrame `US_2017`.\n",
        "* Print `US_2017`."
      ]
    },
    {
      "cell_type": "code",
      "metadata": {
        "deletable": false,
        "id": "Y0hRRvc1lw8B",
        "nbgrader": {
          "cell_type": "code",
          "checksum": "06541bfb6f35fd09043f837647a57085",
          "grade": false,
          "grade_id": "cell-665e83d11e594d90",
          "locked": false,
          "schema_version": 3,
          "solution": true,
          "task": false
        },
        "colab": {
          "base_uri": "https://localhost:8080/"
        },
        "outputId": "dc6830f5-9da2-4daa-d140-0999d4bb55b6"
      },
      "source": [
        "# Task 8\n",
        "\n",
        "# Determine the number of cell phones per person in the US in 2017\n",
        "\n",
        "# BOOLEAN MASK SOLUTION\n",
        "US_2017_Condition = (geo_cell_phone_population['time'] == 2017) & (geo_cell_phone_population['country'] == 'United States')\n",
        "US_2017 = geo_cell_phone_population[ US_2017_Condition ]\n",
        "\n",
        "#LOC ALSO WORKS\n",
        "#US_2017 = geo_cell_phone_population.loc[ US_2017_Condition ]\n",
        "\n",
        "# View the DataFrame\n",
        "print(type(US_2017)); print()\n",
        "print(US_2017)"
      ],
      "execution_count": 58,
      "outputs": [
        {
          "output_type": "stream",
          "name": "stdout",
          "text": [
            "<class 'pandas.core.frame.DataFrame'>\n",
            "\n",
            "      geo  time  ...        country  phones_per_person\n",
            "8455  usa  2017  ...  United States           1.230448\n",
            "\n",
            "[1 rows x 6 columns]\n"
          ]
        }
      ]
    },
    {
      "cell_type": "markdown",
      "metadata": {
        "id": "mIDryQfKlw8C"
      },
      "source": [
        "**Task 8 Test**"
      ]
    },
    {
      "cell_type": "code",
      "metadata": {
        "deletable": false,
        "editable": false,
        "id": "wL0MypzFlw8C",
        "nbgrader": {
          "cell_type": "code",
          "checksum": "85364b4d30569406247e2c40cbd3b5ba",
          "grade": true,
          "grade_id": "cell-ea08fdda80cf9731",
          "locked": true,
          "points": 1,
          "schema_version": 3,
          "solution": false,
          "task": false
        }
      },
      "source": [
        "# Task 8 - Test\n",
        "\n",
        "# Hidden tests - you will see the results when you submit to Canvas"
      ],
      "execution_count": 60,
      "outputs": []
    },
    {
      "cell_type": "markdown",
      "metadata": {
        "id": "HTl_zamAtfJa"
      },
      "source": [
        "**Task 9** - Describe the numeric variables in `geo_cell_phone_population`\n",
        "\n",
        "* Calculate the summary statistics for the quantitative variables in `geo_cell_phone_population` using `.describe()`.\n",
        "* Find the mean value for `phones_per_person` and assign it to the variable `mean_phones`. Define your value out to two decimal points.\n"
      ]
    },
    {
      "cell_type": "code",
      "metadata": {
        "deletable": false,
        "id": "HGKKIqAktfJn",
        "nbgrader": {
          "cell_type": "code",
          "checksum": "b96997337122d55fdcad18d453ee61fe",
          "grade": false,
          "grade_id": "cell-181c9805c52dfda8",
          "locked": false,
          "schema_version": 3,
          "solution": true,
          "task": false
        },
        "colab": {
          "base_uri": "https://localhost:8080/"
        },
        "outputId": "aeaf1e0b-801b-4fa4-e5c3-9b0fe37b7da2"
      },
      "source": [
        "# Task 9\n",
        "\n",
        "# Calculate the summary statistics for the quantitative variables in geo_cell_phone_population using .describe()\n",
        "\n",
        "# YOUR CODE HERE\n",
        "print(geo_cell_phone_population.describe()); print()\n",
        "mean_phones = round(geo_cell_phone_population.describe()['phones_per_person']['mean'], 2)\n",
        "print(mean_phones)"
      ],
      "execution_count": 62,
      "outputs": [
        {
          "output_type": "stream",
          "name": "stdout",
          "text": [
            "              time  cell_phones_total  population_total  phones_per_person\n",
            "count  8930.000000       8.930000e+03      8.930000e+03        8930.000000\n",
            "mean   1995.112654       1.029526e+07      3.022669e+07           0.311365\n",
            "std      14.727908       6.341205e+07      1.182369e+08           0.478216\n",
            "min    1960.000000       0.000000e+00      4.377000e+03           0.000000\n",
            "25%    1984.000000       0.000000e+00      1.488924e+06           0.000000\n",
            "50%    1996.000000       1.120100e+04      5.869780e+06           0.003126\n",
            "75%    2008.000000       2.283409e+06      1.838223e+07           0.584771\n",
            "max    2019.000000       1.725695e+09      1.433784e+09           2.885326\n",
            "\n",
            "0.31\n"
          ]
        }
      ]
    },
    {
      "cell_type": "markdown",
      "metadata": {
        "id": "4Nh0qP1ptfJn"
      },
      "source": [
        "**Task 9 Test**"
      ]
    },
    {
      "cell_type": "code",
      "metadata": {
        "deletable": false,
        "editable": false,
        "id": "cBZg6p1VtfJo",
        "nbgrader": {
          "cell_type": "code",
          "checksum": "a3b4089cf090bbb63a13a6ec44e93cf4",
          "grade": true,
          "grade_id": "cell-0a0cfb1ac7acc279",
          "locked": true,
          "points": 1,
          "schema_version": 3,
          "solution": false,
          "task": false
        }
      },
      "source": [
        "# Task 9 - Test\n",
        "\n",
        "# Hidden tests - you will see the results when you submit to Canvas"
      ],
      "execution_count": 63,
      "outputs": []
    },
    {
      "cell_type": "markdown",
      "metadata": {
        "id": "fD4X6uNlvI6-"
      },
      "source": [
        "**Task 10** - Describe the categorical variables in `geo_cell_phone_population`\n",
        "\n",
        "* Calculate the summary statistics for the categorical variables in `geo_cell_phone_population` using `.describe(exclude='number')`.\n",
        "* Using these results, find the number of unique countries and assign it to the variable `unique_country`. Your value should be an integer."
      ]
    },
    {
      "cell_type": "code",
      "metadata": {
        "deletable": false,
        "id": "b52UT_HnvI7B",
        "nbgrader": {
          "cell_type": "code",
          "checksum": "2cd375c31946ee834750d93dfc49f568",
          "grade": false,
          "grade_id": "cell-07de5adb6a8b43bf",
          "locked": false,
          "schema_version": 3,
          "solution": true,
          "task": false
        },
        "colab": {
          "base_uri": "https://localhost:8080/"
        },
        "outputId": "7d9041ab-6c0a-4c90-ccd4-813d0fa2eef4"
      },
      "source": [
        "# Task 10\n",
        "\n",
        "# Calculate the summary statistics in geo_cell_phone_population using .describe(exclude='number')\n",
        "\n",
        "# YOUR CODE HERE\n",
        "print(geo_cell_phone_population.describe(exclude='number')); print()\n",
        "unique_country = geo_cell_phone_population['country'].nunique()\n",
        "print(unique_country)"
      ],
      "execution_count": 66,
      "outputs": [
        {
          "output_type": "stream",
          "name": "stdout",
          "text": [
            "         geo  country\n",
            "count   8930     8930\n",
            "unique   195      195\n",
            "top      ltu  Romania\n",
            "freq      48       48\n",
            "\n",
            "195\n"
          ]
        }
      ]
    },
    {
      "cell_type": "markdown",
      "metadata": {
        "id": "OYqdBExNvI7C"
      },
      "source": [
        "**Task 10 Test**"
      ]
    },
    {
      "cell_type": "code",
      "metadata": {
        "deletable": false,
        "editable": false,
        "id": "Ul1sia9IvI7C",
        "nbgrader": {
          "cell_type": "code",
          "checksum": "b93a82914cb93f4cd174af721883200e",
          "grade": true,
          "grade_id": "cell-7672dd0b5f927ce7",
          "locked": true,
          "points": 1,
          "schema_version": 3,
          "solution": false,
          "task": false
        }
      },
      "source": [
        "# Task 10 - Test\n",
        "\n",
        "# Hidden tests - you will see the results when you submit to Canvas"
      ],
      "execution_count": 67,
      "outputs": []
    },
    {
      "cell_type": "markdown",
      "metadata": {
        "id": "wBQCMGrkw69w"
      },
      "source": [
        "**Task 11** - Subset the DataFrame for 2017\n",
        "\n",
        "* Create a new dataframe called `df2017` that includes **only** records from `geo_cell_phone_population` that ocurred in 2017."
      ]
    },
    {
      "cell_type": "code",
      "metadata": {
        "deletable": false,
        "id": "_EKPYqW-w698",
        "nbgrader": {
          "cell_type": "code",
          "checksum": "0dbed80e18dc222395c342df229fb3ac",
          "grade": false,
          "grade_id": "cell-f3fa17e15b5174ac",
          "locked": false,
          "schema_version": 3,
          "solution": true,
          "task": false
        },
        "colab": {
          "base_uri": "https://localhost:8080/"
        },
        "outputId": "543529e5-5f38-480e-a839-db67f71721f4"
      },
      "source": [
        "# Task 11\n",
        "\n",
        "# Create a new dataframe called df2017 that includes only records from geo_cell_phone_population that ocurred in 2017.\n",
        "\n",
        "# YOUR CODE HERE\n",
        "df2017 = geo_cell_phone_population[ geo_cell_phone_population['time']==2017 ]\n",
        "print(df2017)"
      ],
      "execution_count": 68,
      "outputs": [
        {
          "output_type": "stream",
          "name": "stdout",
          "text": [
            "      geo  time  ...               country  phones_per_person\n",
            "45    afg  2017  ...           Afghanistan           0.659291\n",
            "93    ago  2017  ...                Angola           0.446861\n",
            "141   alb  2017  ...               Albania           1.257104\n",
            "189   and  2017  ...               Andorra           1.043378\n",
            "227   are  2017  ...  United Arab Emirates           2.089785\n",
            "...   ...   ...  ...                   ...                ...\n",
            "8738  wsm  2017  ...                 Samoa           0.635812\n",
            "8784  yem  2017  ...                 Yemen           0.551750\n",
            "8831  zaf  2017  ...          South Africa           1.552324\n",
            "8879  zmb  2017  ...                Zambia           0.797369\n",
            "8927  zwe  2017  ...              Zimbabwe           0.989850\n",
            "\n",
            "[194 rows x 6 columns]\n"
          ]
        }
      ]
    },
    {
      "cell_type": "markdown",
      "metadata": {
        "id": "QuLy4qwrw698"
      },
      "source": [
        "**Task 11 Test**"
      ]
    },
    {
      "cell_type": "code",
      "metadata": {
        "deletable": false,
        "editable": false,
        "id": "S0rU2pGWw698",
        "nbgrader": {
          "cell_type": "code",
          "checksum": "ef103ab0c8b09e083e94acbbb82229f6",
          "grade": true,
          "grade_id": "cell-b19a6956b5dddadb",
          "locked": true,
          "points": 1,
          "schema_version": 3,
          "solution": false,
          "task": false
        }
      },
      "source": [
        "# Task 11 - Test\n",
        "\n",
        "# Hidden tests - you will see the results when you submit to Canvas"
      ],
      "execution_count": null,
      "outputs": []
    },
    {
      "cell_type": "markdown",
      "metadata": {
        "id": "Rww_2EpHyd4K"
      },
      "source": [
        "**Task 12** - Identify the five countries with the most cell phones per person in 2017\n",
        "\n",
        "* Sort the `df2017` DataFrame by `phones_per_person` in descending order and assign the result to `df2017_top`. Your new DataFrame should only have **five** rows (Hint: use `.head()` to return only five rows).\n",
        "* Print the first 5 records of `df2017_top`."
      ]
    },
    {
      "cell_type": "code",
      "metadata": {
        "deletable": false,
        "id": "h6ym9Dwhyd4V",
        "nbgrader": {
          "cell_type": "code",
          "checksum": "e6a3dfe114beb003bf29f8bfb6aadbb7",
          "grade": false,
          "grade_id": "cell-c9b701bfe897edf5",
          "locked": false,
          "schema_version": 3,
          "solution": true,
          "task": false
        },
        "colab": {
          "base_uri": "https://localhost:8080/"
        },
        "outputId": "be20efa6-4442-4e1e-bd30-0470349f1495"
      },
      "source": [
        "# Task 12\n",
        "\n",
        "# Sort the df2017 dataframe by phones_per_person in descending order\n",
        "# Return only five (5) rows\n",
        "\n",
        "# YOUR CODE HERE\n",
        "df2017_top = df2017.sort_values('phones_per_person', ascending=False).head()\n",
        "\n",
        "# View the df2017_top DataFrame\n",
        "print(type(df2017_top)); print()\n",
        "print(df2017_top)"
      ],
      "execution_count": 73,
      "outputs": [
        {
          "output_type": "stream",
          "name": "stdout",
          "text": [
            "<class 'pandas.core.frame.DataFrame'>\n",
            "\n",
            "      geo  time  ...               country  phones_per_person\n",
            "3448  hkg  2017  ...      Hong Kong, China           2.517652\n",
            "227   are  2017  ...  United Arab Emirates           2.089785\n",
            "365   atg  2017  ...   Antigua and Barbuda           1.928216\n",
            "5253  mdv  2017  ...              Maldives           1.813303\n",
            "1937  cri  2017  ...            Costa Rica           1.785944\n",
            "\n",
            "[5 rows x 6 columns]\n"
          ]
        }
      ]
    },
    {
      "cell_type": "markdown",
      "metadata": {
        "id": "7WBox_Axyd4W"
      },
      "source": [
        "**Task 12 Test**"
      ]
    },
    {
      "cell_type": "code",
      "metadata": {
        "deletable": false,
        "editable": false,
        "id": "ePj-a6rLyd4W",
        "nbgrader": {
          "cell_type": "code",
          "checksum": "09132f37bbdc979478f298515ecb055d",
          "grade": true,
          "grade_id": "cell-5f6fffc9db1b9492",
          "locked": true,
          "points": 1,
          "schema_version": 3,
          "solution": false,
          "task": false
        }
      },
      "source": [
        "# Task 12 - Test\n",
        "\n",
        "assert df2017_top.shape == (5,6), 'Make sure you return only five rows'\n"
      ],
      "execution_count": 74,
      "outputs": []
    },
    {
      "cell_type": "markdown",
      "metadata": {
        "id": "UthoeNABLwau"
      },
      "source": [
        "**Task 13** - Explain why the figure below **cannot** be graphed as a pie chart.\n"
      ]
    },
    {
      "cell_type": "code",
      "metadata": {
        "id": "oy9dt9l6Lz18",
        "colab": {
          "base_uri": "https://localhost:8080/",
          "height": 787
        },
        "outputId": "d64e7c77-3fb1-4fd8-d119-54a6b25a9483"
      },
      "source": [
        "from IPython.display import display, Image\n",
        "png = 'https://fivethirtyeight.com/wp-content/uploads/2014/04/hickey-ross-tags-1.png'\n",
        "example = Image(png, width=500)\n",
        "display(example)"
      ],
      "execution_count": 75,
      "outputs": [
        {
          "output_type": "display_data",
          "data": {
            "image/png": "[encoded data removed]",
            "text/plain": [
              "<IPython.core.display.Image object>"
            ]
          },
          "metadata": {
            "image/png": {
              "width": 500
            }
          }
        }
      ]
    },
    {
      "cell_type": "markdown",
      "metadata": {
        "id": "SOlPMhhS1t_I"
      },
      "source": [
        "**Task 13 Question** - Explain why the figure cannot be graphed as a pie chart.\n",
        "\n",
        "*This task will not be autograded - but it is part of completing the challenge.*\n",
        "\n",
        "There are too many variables and they are not mutually exclusive. Any pie chart would be too difficult to read and interpret."
      ]
    },
    {
      "cell_type": "markdown",
      "metadata": {
        "id": "bTBRunPy26LB"
      },
      "source": [
        "**Task 14** - Titanic dataset\n",
        "\n",
        "Use the following Titanic DataFrame to complete Task 14 - execute the cell to load the dataset."
      ]
    },
    {
      "cell_type": "code",
      "metadata": {
        "id": "ACKJZknZFG6y",
        "colab": {
          "base_uri": "https://localhost:8080/"
        },
        "outputId": "cc9baed0-caf8-4ffa-d0ff-4abce020a8c5"
      },
      "source": [
        "# Load the Titanic dataset from its URL:\n",
        "Titanic = pd.read_csv('https://raw.githubusercontent.com/LambdaSchool/data-science-practice-datasets/main/unit_1/Titanic/Titanic.csv')\n",
        "\n",
        "print(Titanic)"
      ],
      "execution_count": 77,
      "outputs": [
        {
          "output_type": "stream",
          "name": "stdout",
          "text": [
            "     Survived  Pclass  ... Parents/Children_Aboard     Fare\n",
            "0           0       3  ...                       0   7.2500\n",
            "1           1       1  ...                       0  71.2833\n",
            "2           1       3  ...                       0   7.9250\n",
            "3           1       1  ...                       0  53.1000\n",
            "4           0       3  ...                       0   8.0500\n",
            "..        ...     ...  ...                     ...      ...\n",
            "882         0       2  ...                       0  13.0000\n",
            "883         1       1  ...                       0  30.0000\n",
            "884         0       3  ...                       2  23.4500\n",
            "885         1       1  ...                       0  30.0000\n",
            "886         0       3  ...                       0   7.7500\n",
            "\n",
            "[887 rows x 8 columns]\n"
          ]
        }
      ]
    },
    {
      "cell_type": "markdown",
      "metadata": {
        "id": "UeiVHDA3vAX5"
      },
      "source": [
        "**Task 14** - Create a visualization to show the distribution of **Parents/Children_Aboard**.\n",
        "\n",
        "*This task will not be autograded - but it is part of completing the challenge.*"
      ]
    },
    {
      "cell_type": "code",
      "metadata": {
        "id": "jRvLPu2_vlZG",
        "colab": {
          "base_uri": "https://localhost:8080/",
          "height": 621
        },
        "outputId": "852d138c-2ed6-44a9-c85e-94f870f28e52"
      },
      "source": [
        "### YOUR CODE HERE ###\n",
        "import matplotlib.pyplot as plt\n",
        "\n",
        "fig = plt.figure(figsize=(20,10))\n",
        "ax = fig.add_subplot(1, 1, 1)\n",
        "\n",
        "ax.hist(Titanic['Parents/Children_Aboard'], bins=6);\n",
        "ax.set_title(\"Distribution of Each Passenger's Number of Parents/Children Aboard\");\n",
        "ax.set_ylabel('Passenger Count');\n",
        "ax.set_xlabel('Parents/Children Aboard');"
      ],
      "execution_count": 93,
      "outputs": [
        {
          "output_type": "display_data",
          "data": {
            "image/png": "[encoded data removed]",
            "text/plain": [
              "<Figure size 1440x720 with 1 Axes>"
            ]
          },
          "metadata": {
            "needs_background": "light"
          }
        }
      ]
    },
    {
      "cell_type": "markdown",
      "metadata": {
        "id": "oOAPAy18vF9w"
      },
      "source": [
        "Describe the distribution of Parents/Children_Aboard."
      ]
    },
    {
      "cell_type": "markdown",
      "metadata": {
        "id": "uBVSewujjgpi"
      },
      "source": [
        "Unimodal, discrete, right skew"
      ]
    }
  ]
}