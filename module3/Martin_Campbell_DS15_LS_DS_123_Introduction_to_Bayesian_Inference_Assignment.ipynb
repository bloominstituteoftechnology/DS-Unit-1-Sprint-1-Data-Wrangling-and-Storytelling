{
  "nbformat": 4,
  "nbformat_minor": 0,
  "metadata": {
    "colab": {
      "name": "Martin Campbell DS15 LS_DS_123_Introduction_to_Bayesian_Inference_Assignment.ipynb",
      "provenance": [],
      "include_colab_link": true
    },
    "kernelspec": {
      "name": "python3",
      "display_name": "Python 3"
    }
  },
  "cells": [
    {
      "cell_type": "markdown",
      "metadata": {
        "id": "view-in-github",
        "colab_type": "text"
      },
      "source": [
        "<a href=\"https://colab.research.google.com/github/macrotentional/DS-Unit-1-Sprint-1-Data-Wrangling-and-Storytelling/blob/master/module3/Martin_Campbell_DS15_LS_DS_123_Introduction_to_Bayesian_Inference_Assignment.ipynb\" target=\"_parent\"><img src=\"https://colab.research.google.com/assets/colab-badge.svg\" alt=\"Open In Colab\"/></a>"
      ]
    },
    {
      "cell_type": "markdown",
      "metadata": {
        "id": "H7OLbevlbd_Z",
        "colab_type": "text"
      },
      "source": [
        "# Lambda School Data Science Module 123\n",
        "\n",
        "## Introduction to Bayesian Inference\n",
        "\n",
        "\n"
      ]
    },
    {
      "cell_type": "markdown",
      "metadata": {
        "id": "P-DzzRk5bf0z",
        "colab_type": "text"
      },
      "source": [
        "## Assignment - Code it up!\n",
        "\n",
        "We used pure math to apply Bayes Theorem to drug tests. Now write Python code to reproduce the results! This is purposefully open ended - you'll have to think about how you should represent probabilities and events. You can and should look things up.\n",
        "\n",
        "Specific goals/targets:\n",
        "\n",
        "### 1) Write a function \n",
        "\n",
        "`def prob_drunk_given_positive(prob_drunk_prior, false_positive_rate, true_positive_rate):` \n",
        "\n",
        "You should only truly need these two values in order to apply Bayes Theorem. In this example, imagine that individuals are taking a breathalyzer test with an 8% false positive rate, a 100% true positive rate, and that our prior belief about drunk driving in the population is 1/1000. \n",
        " - What is the probability that a person is drunk after one positive breathalyzer test?\n",
        " - What is the probability that a person is drunk after two positive breathalyzer tests?\n",
        " - How many positive breathalyzer tests are needed in order to have a probability that's greater than 95% that a person is drunk beyond the legal limit?\n",
        "\n",
        "### 2) Explore `scipy.stats.bayes_mvs`  \n",
        "Read its documentation, and experiment with it on data you've tested in other ways earlier this week.\n",
        " - Create a visualization comparing the results of a Bayesian approach to a traditional/frequentist approach. (with a large sample size they should look close to identical, however, take this opportunity to practice visualizing condfidence intervals in general. The following are some potential ways that you could visualize confidence intervals on your graph:\n",
        "  - [Matplotlib Error Bars](https://matplotlib.org/3.1.1/api/_as_gen/matplotlib.pyplot.errorbar.html)\n",
        "  - [Seaborn barplot with error bars](https://seaborn.pydata.org/generated/seaborn.barplot.html)\n",
        "  - [Vertical ines to show bounds of confidence interval](https://www.simplypsychology.org/confidence-interval.jpg)\n",
        "  - [Confidence Intervals on Box Plots](https://matplotlib.org/3.1.1/api/_as_gen/matplotlib.axes.Axes.boxplot.html)\n",
        "\n",
        "### 3) In your own words, summarize the difference between Bayesian and Frequentist statistics\n",
        "\n",
        "If you're unsure where to start, check out [this blog post of Bayes theorem with Python](https://dataconomy.com/2015/02/introduction-to-bayes-theorem-with-python/).\n",
        "\n"
      ]
    },
    {
      "cell_type": "markdown",
      "metadata": {
        "id": "gXJoVaJkynYG",
        "colab_type": "text"
      },
      "source": [
        "𝑃(𝐴|𝐵)=𝑃(𝐵|𝐴)/ 𝑃(𝐴)𝑃(𝐵)"
      ]
    },
    {
      "cell_type": "markdown",
      "metadata": {
        "id": "h7woZn5H_jtD",
        "colab_type": "text"
      },
      "source": [
        "# First test"
      ]
    },
    {
      "cell_type": "code",
      "metadata": {
        "id": "aM1RnmQAt_vw",
        "colab_type": "code",
        "colab": {
          "base_uri": "https://localhost:8080/",
          "height": 35
        },
        "outputId": "0626e162-5a4c-4abc-8e5c-5a37280e9667"
      },
      "source": [
        "# True positive rate\n",
        "true_positive_rate = 1\n",
        "# Prior probability\n",
        "prob_drunk_prior = .001\n",
        "# False positive rate\n",
        "false_positive_rate = .08\n",
        "# Complement of the prior (1-event == complement)\n",
        "p_not_drunk = .999\n",
        "\n",
        "numerator = true_positive_rate * prob_drunk_prior\n",
        "\n",
        "denominator = (true_positive_rate * prob_drunk_prior) + (false_positive_rate * p_not_drunk)\n",
        "\n",
        "posterior_probability = numerator / denominator\n",
        "\n",
        "posterior_probability"
      ],
      "execution_count": 8,
      "outputs": [
        {
          "output_type": "execute_result",
          "data": {
            "text/plain": [
              "0.012357884330202669"
            ]
          },
          "metadata": {
            "tags": []
          },
          "execution_count": 8
        }
      ]
    },
    {
      "cell_type": "markdown",
      "metadata": {
        "id": "-o5y8qHb_mi9",
        "colab_type": "text"
      },
      "source": [
        "# Second test"
      ]
    },
    {
      "cell_type": "code",
      "metadata": {
        "id": "iSSi3GDQyQrL",
        "colab_type": "code",
        "colab": {
          "base_uri": "https://localhost:8080/",
          "height": 35
        },
        "outputId": "eb4c008b-e7ce-4b9a-dec9-946cf41b5a9d"
      },
      "source": [
        "# True positive rate\n",
        "true_positive_rate = 1\n",
        "# Prior probability\n",
        "prob_drunk_prior = 0.012357884330202669\n",
        "# False positive rate\n",
        "false_positive_rate = .08\n",
        "# Complement of the prior (1-event == complement)\n",
        "p_not_drunk = 1 - prob_drunk_prior\n",
        "\n",
        "numerator = true_positive_rate * prob_drunk_prior\n",
        "\n",
        "denominator = (true_positive_rate * prob_drunk_prior) + (false_positive_rate * p_not_drunk)\n",
        "\n",
        "posterior_probability = numerator / denominator\n",
        "\n",
        "posterior_probability"
      ],
      "execution_count": 12,
      "outputs": [
        {
          "output_type": "execute_result",
          "data": {
            "text/plain": [
              "0.13525210993291495"
            ]
          },
          "metadata": {
            "tags": []
          },
          "execution_count": 12
        }
      ]
    },
    {
      "cell_type": "markdown",
      "metadata": {
        "id": "tPfSTGE9_pZ2",
        "colab_type": "text"
      },
      "source": [
        "# Third test"
      ]
    },
    {
      "cell_type": "code",
      "metadata": {
        "id": "SKzdXmkn8S0h",
        "colab_type": "code",
        "colab": {
          "base_uri": "https://localhost:8080/",
          "height": 35
        },
        "outputId": "3b5365b0-3854-4982-eeed-384051343910"
      },
      "source": [
        "# True positive rate\n",
        "true_positive_rate = 1\n",
        "# Prior probability\n",
        "prob_drunk_prior = 0.13525210993291495\n",
        "# False positive rate\n",
        "false_positive_rate = .08\n",
        "# Complement of the prior (1-event == complement)\n",
        "p_not_drunk = 1 - prob_drunk_prior\n",
        "\n",
        "numerator = true_positive_rate * prob_drunk_prior\n",
        "\n",
        "denominator = (true_positive_rate * prob_drunk_prior) + (false_positive_rate * p_not_drunk)\n",
        "\n",
        "posterior_probability = numerator / denominator\n",
        "\n",
        "posterior_probability"
      ],
      "execution_count": 16,
      "outputs": [
        {
          "output_type": "execute_result",
          "data": {
            "text/plain": [
              "0.6615996951348605"
            ]
          },
          "metadata": {
            "tags": []
          },
          "execution_count": 16
        }
      ]
    },
    {
      "cell_type": "markdown",
      "metadata": {
        "id": "LuhGtgka_gqB",
        "colab_type": "text"
      },
      "source": [
        "# Fourth test"
      ]
    },
    {
      "cell_type": "code",
      "metadata": {
        "id": "GRJPma-o_bAq",
        "colab_type": "code",
        "colab": {
          "base_uri": "https://localhost:8080/",
          "height": 35
        },
        "outputId": "e6c83772-b05d-42f8-b39b-883d127856c1"
      },
      "source": [
        "# True positive rate\n",
        "true_positive_rate = 1\n",
        "# Prior probability\n",
        "prob_drunk_prior = 0.6615996951348605\n",
        "# False positive rate\n",
        "false_positive_rate = .08\n",
        "# Complement of the prior (1-event == complement)\n",
        "p_not_drunk = 1 - prob_drunk_prior\n",
        "\n",
        "numerator = true_positive_rate * prob_drunk_prior\n",
        "\n",
        "denominator = (true_positive_rate * prob_drunk_prior) + (false_positive_rate * p_not_drunk)\n",
        "\n",
        "posterior_probability = numerator / denominator\n",
        "\n",
        "posterior_probability"
      ],
      "execution_count": 17,
      "outputs": [
        {
          "output_type": "execute_result",
          "data": {
            "text/plain": [
              "0.9606895076105054"
            ]
          },
          "metadata": {
            "tags": []
          },
          "execution_count": 17
        }
      ]
    },
    {
      "cell_type": "code",
      "metadata": {
        "id": "3lNhCneekSBJ",
        "colab_type": "code",
        "colab": {
          "base_uri": "https://localhost:8080/",
          "height": 35
        },
        "outputId": "56fa147c-ddc6-4243-aac3-398cd23dc6bd"
      },
      "source": [
        "#You should only truly need these two values in order to apply Bayes Theorem. \n",
        "#In this example, imagine that individuals are taking \n",
        "#-a breathalyzer test with an 8% false positive rate, \n",
        "#a 100% true positive rate, \n",
        "#and that our prior belief about drunk driving in the population is 1/1000. \n",
        "\n",
        "#def prob_drunk_given_positive(prob_drunk_prior, false_positive_rate, true_positive_rate): \n",
        "  #prob_drunk_prior = .001\n",
        "  #false_positive_rate = .08 \n",
        "  #true_positive_rate = 1 \n",
        "  #numerator = true_positive_rate * prob_drunk_prior\n",
        "  #denominator = (true_positive_rate * prob_drunk_prior) + (false_positive_rate * p_not_drunk)\n",
        "  #if prob_drunk_given_positive is .95:\n",
        "  #return numerator / denominator\n",
        "\n",
        "def prob_drunk_given_positive(prob_drunk_prior, false_positive_rate, true_positive_rate):\n",
        "  numerator = true_positive_rate * prob_drunk_prior\n",
        "  denominator = (true_positive_rate * prob_drunk_prior) + (false_positive_rate * p_not_drunk)\n",
        "  if prob_drunk_given_positive==.95:\n",
        "    return numerator/denominator\n",
        "\n",
        "prob_drunk_given_positive(.001, .08, 1)\n",
        "numerator/denominator\n",
        "\n",
        "#def t_test(samp_A, samp_B):\n",
        " # t_stat, p_val = stats.ttest_ind(samp_A, samp_B, nan_policy='omit')\n",
        "\n",
        "  #if p_val <0.05:\n",
        "   # return print(\"we reject the null hypothesis\")\n",
        "\n",
        "  #else:\n",
        "   # return print(\"we accept null hypothesis\")\n"
      ],
      "execution_count": 35,
      "outputs": [
        {
          "output_type": "execute_result",
          "data": {
            "text/plain": [
              "0.9606895076105054"
            ]
          },
          "metadata": {
            "tags": []
          },
          "execution_count": 35
        }
      ]
    },
    {
      "cell_type": "code",
      "metadata": {
        "id": "taXpzLSy0Vhg",
        "colab_type": "code",
        "colab": {}
      },
      "source": [
        "from scipy.stats import bayes_mvs"
      ],
      "execution_count": 0,
      "outputs": []
    },
    {
      "cell_type": "markdown",
      "metadata": {
        "id": "7RNHeFs3jCDC",
        "colab_type": "text"
      },
      "source": [
        "**Frequentist statistics** is simply concerned with fitting a model to the data. This approach can be narrow-minded and fail to see the forest for the trees. It can be likened to a fixed mindset. One advantage of this method is its simplicity, which allows you to arrive a viable solution without introducing extra variables. However, the accuracy is highly dependent on the soundness of the  \n",
        "\n",
        "**Bayesian statistics** takes a more open-minded approach, updating its take on the problem based on additional observations. As more information is gathered, the method of arriving at a solution evolves and the model is updated. Multiple tests are run, taking the most recent values into account. It can be likened to a growth mindset. \n",
        "\n"
      ]
    },
    {
      "cell_type": "markdown",
      "metadata": {
        "id": "uWgWjp3PQ3Sq",
        "colab_type": "text"
      },
      "source": [
        "## Resources"
      ]
    },
    {
      "cell_type": "markdown",
      "metadata": {
        "id": "QRgHqmYIQ9qn",
        "colab_type": "text"
      },
      "source": [
        "- [Worked example of Bayes rule calculation](https://en.wikipedia.org/wiki/Bayes'_theorem#Examples) (helpful as it fully breaks out the denominator)\n",
        "- [Source code for mvsdist in scipy](https://github.com/scipy/scipy/blob/90534919e139d2a81c24bf08341734ff41a3db12/scipy/stats/morestats.py#L139)"
      ]
    },
    {
      "cell_type": "markdown",
      "metadata": {
        "id": "GP7Jv1XvwtkX",
        "colab_type": "text"
      },
      "source": [
        "## Stretch Goals:\n",
        "\n",
        "- Go back and study the content from Modules 1 & 2 to make sure that you're really comfortable with them.\n",
        "- Apply a Bayesian technique to a problem you previously worked (in an assignment or project work) on from a frequentist (standard) perspective\n",
        "- Check out [PyMC3](https://docs.pymc.io/) (note this goes beyond hypothesis tests into modeling) - read the guides and work through some examples\n",
        "- Take PyMC3 further - see if you can build something with it!"
      ]
    },
    {
      "cell_type": "code",
      "metadata": {
        "id": "iDi0eFr1x-v_",
        "colab_type": "code",
        "colab": {}
      },
      "source": [
        ""
      ],
      "execution_count": 0,
      "outputs": []
    }
  ]
}