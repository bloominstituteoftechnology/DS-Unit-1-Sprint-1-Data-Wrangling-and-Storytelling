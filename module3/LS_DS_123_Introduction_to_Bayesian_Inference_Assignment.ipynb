{
  "nbformat": 4,
  "nbformat_minor": 0,
  "metadata": {
    "colab": {
      "name": "LS_DS_123_Introduction_to_Bayesian_Inference_Assignment.ipynb",
      "provenance": [],
      "include_colab_link": true
    },
    "kernelspec": {
      "name": "python3",
      "display_name": "Python 3"
    }
  },
  "cells": [
    {
      "cell_type": "markdown",
      "metadata": {
        "id": "view-in-github",
        "colab_type": "text"
      },
      "source": [
        "<a href=\"https://colab.research.google.com/github/worldwidekatie/DS-Unit-1-Sprint-1-Data-Wrangling-and-Storytelling/blob/master/module3/LS_DS_123_Introduction_to_Bayesian_Inference_Assignment.ipynb\" target=\"_parent\"><img src=\"https://colab.research.google.com/assets/colab-badge.svg\" alt=\"Open In Colab\"/></a>"
      ]
    },
    {
      "cell_type": "markdown",
      "metadata": {
        "id": "H7OLbevlbd_Z",
        "colab_type": "text"
      },
      "source": [
        "# Lambda School Data Science Module 123\n",
        "\n",
        "## Introduction to Bayesian Inference\n",
        "\n",
        "\n"
      ]
    },
    {
      "cell_type": "markdown",
      "metadata": {
        "id": "P-DzzRk5bf0z",
        "colab_type": "text"
      },
      "source": [
        "## Assignment - Code it up!\n",
        "\n",
        "We used pure math to apply Bayes Theorem to drug tests. Now write Python code to reproduce the results! This is purposefully open ended - you'll have to think about how you should represent probabilities and events. You can and should look things up.\n",
        "\n",
        "Specific goals/targets:\n",
        "\n",
        "### 1) Write a function \n",
        "\n",
        "`def prob_drunk_given_positive(prob_drunk_prior, false_positive_rate, true_positive_rate):` \n",
        "\n",
        "You should only truly need these two values in order to apply Bayes Theorem. In this example, imagine that individuals are taking a breathalyzer test with an 8% false positive rate, a 100% true positive rate, and that our prior belief about drunk driving in the population is 1/1000. \n",
        " - What is the probability that a person is drunk after one positive breathalyzer test?\n",
        " - What is the probability that a person is drunk after two positive breathalyzer tests?\n",
        " - How many positive breathalyzer tests are needed in order to have a probability that's greater than 95% that a person is drunk beyond the legal limit?\n",
        "\n",
        "### 2) Explore `scipy.stats.bayes_mvs`  \n",
        "Read its documentation, and experiment with it on data you've tested in other ways earlier this week.\n",
        " - Create a visualization comparing the results of a Bayesian approach to a traditional/frequentist approach. (with a large sample size they should look close to identical, however, take this opportunity to practice visualizing condfidence intervals in general. The following are some potential ways that you could visualize confidence intervals on your graph:\n",
        "  - [Matplotlib Error Bars](https://matplotlib.org/3.1.1/api/_as_gen/matplotlib.pyplot.errorbar.html)\n",
        "  - [Seaborn barplot with error bars](https://seaborn.pydata.org/generated/seaborn.barplot.html)\n",
        "  - [Vertical ines to show bounds of confidence interval](https://www.simplypsychology.org/confidence-interval.jpg)\n",
        "  - [Confidence Intervals on Box Plots](https://matplotlib.org/3.1.1/api/_as_gen/matplotlib.axes.Axes.boxplot.html)\n",
        "\n",
        "### 3) In your own words, summarize the difference between Bayesian and Frequentist statistics\n",
        "\n",
        "If you're unsure where to start, check out [this blog post of Bayes theorem with Python](https://dataconomy.com/2015/02/introduction-to-bayes-theorem-with-python/).\n",
        "\n"
      ]
    },
    {
      "cell_type": "markdown",
      "metadata": {
        "id": "exJV2CirFtDr",
        "colab_type": "text"
      },
      "source": [
        "##1) Write a function\n",
        "`def prob_drunk_given_positive(prob_drunk_prior, false_positive_rate, true_positive_rate):`\n",
        "\n",
        "You should only truly need these two values in order to apply Bayes Theorem. In this example, imagine that individuals are taking a breathalyzer test with an **8% false positive rate**, a **100% true positive rate**, and that our **prior belief about drunk driving in the population is 1/1000**."
      ]
    },
    {
      "cell_type": "code",
      "metadata": {
        "id": "PjMrTW0CM-MZ",
        "colab_type": "code",
        "colab": {}
      },
      "source": [
        "def prob_drunk(p_drunk, false_pos, true_pos):\n",
        "  p_not_drunk = 1-p_drunk\n",
        "  numerator = (true_pos*p_drunk)\n",
        "  denominator = (true_pos*p_drunk) + (false_pos*p_not_drunk)\n",
        "  output = numerator/denominator\n",
        "  return output"
      ],
      "execution_count": 0,
      "outputs": []
    },
    {
      "cell_type": "markdown",
      "metadata": {
        "id": "riny15SNF_hp",
        "colab_type": "text"
      },
      "source": [
        "###What is the probability that a person is drunk after one positive breathalyzer test?"
      ]
    },
    {
      "cell_type": "code",
      "metadata": {
        "id": "6aL-Wml_RLJl",
        "colab_type": "code",
        "colab": {
          "base_uri": "https://localhost:8080/",
          "height": 34
        },
        "outputId": "f52007fb-bd3f-4992-845e-9832e804004f"
      },
      "source": [
        "#After one breathalyzer we're 33.44% certain.\n",
        "prob_drunk(1/200, 1/100, 1)"
      ],
      "execution_count": 15,
      "outputs": [
        {
          "output_type": "execute_result",
          "data": {
            "text/plain": [
              "0.33444816053511706"
            ]
          },
          "metadata": {
            "tags": []
          },
          "execution_count": 15
        }
      ]
    },
    {
      "cell_type": "markdown",
      "metadata": {
        "id": "CiXCT3-nGCtm",
        "colab_type": "text"
      },
      "source": [
        "###What is the probability that a person is drunk after two positive breathalyzer tests?"
      ]
    },
    {
      "cell_type": "code",
      "metadata": {
        "id": "3NduKFWGGCOY",
        "colab_type": "code",
        "colab": {
          "base_uri": "https://localhost:8080/",
          "height": 34
        },
        "outputId": "a844f69a-8f8e-4d16-8438-c14a569a5535"
      },
      "source": [
        "#After a second breathalyzer we're 86.26% certain.\n",
        "prob_drunk(.3344, .08, 1)"
      ],
      "execution_count": 13,
      "outputs": [
        {
          "output_type": "execute_result",
          "data": {
            "text/plain": [
              "0.8626382697705134"
            ]
          },
          "metadata": {
            "tags": []
          },
          "execution_count": 13
        }
      ]
    },
    {
      "cell_type": "markdown",
      "metadata": {
        "id": "Mgzv529tGGq5",
        "colab_type": "text"
      },
      "source": [
        "###How many positive breathalyzer tests are needed in order to have a probability that's greater than 95% that a person is drunk beyond the legal limit?"
      ]
    },
    {
      "cell_type": "code",
      "metadata": {
        "id": "PmTeXHYmGGQ9",
        "colab_type": "code",
        "colab": {
          "base_uri": "https://localhost:8080/",
          "height": 34
        },
        "outputId": "d956b8b9-e2cc-4da2-f262-d1210a5f7682"
      },
      "source": [
        "#After a third breathalyzer we're 98.74% certain\n",
        "#So three positive tests gets probably > 95%.\n",
        "prob_drunk(.8626, .08, 1)"
      ],
      "execution_count": 14,
      "outputs": [
        {
          "output_type": "execute_result",
          "data": {
            "text/plain": [
              "0.987417467192923"
            ]
          },
          "metadata": {
            "tags": []
          },
          "execution_count": 14
        }
      ]
    },
    {
      "cell_type": "markdown",
      "metadata": {
        "id": "CIFGo3EXGaqv",
        "colab_type": "text"
      },
      "source": [
        "##2) Explore `scipy.stats.bayes_mvs`\n",
        "Read its documentation, and experiment with it on data you've tested in other ways earlier this week.\n",
        "\n",
        "**Create a visualization comparing the results of a Bayesian approach to a traditional/frequentist approach.** (with a large sample size they should look close to identical, however, take this opportunity to practice visualizing condfidence intervals in general. "
      ]
    },
    {
      "cell_type": "code",
      "metadata": {
        "id": "l6-9cf6dGo_p",
        "colab_type": "code",
        "colab": {}
      },
      "source": [
        "#Using the budget votes dataset again\n",
        "import pandas as pd\n",
        "df = pd.read_csv('https://archive.ics.uci.edu/ml/machine-learning-databases/voting-records/house-votes-84.data', \n",
        "                 names=['party', 'handicapped-infants', 'water-project', \n",
        "                        'budget', 'physician-fee-freeze', 'el-salvador-aid', \n",
        "                        'religious-groups', 'anti-satellite-ban', \n",
        "                        'aid-to-contras', 'mx-missile', 'immigration', \n",
        "                        'synfuels', 'education', 'right-to-sue', \n",
        "                        'crime', 'duty-free', 'south-africa'])\n",
        "import numpy as np\n",
        "df = df.replace({\"y\": 1, \"n\": 0, \"?\": np.NaN})\n",
        "df1 = df['budget']\n",
        "df1 = df1.dropna()"
      ],
      "execution_count": 0,
      "outputs": []
    },
    {
      "cell_type": "code",
      "metadata": {
        "id": "KG97ncwXYBvn",
        "colab_type": "code",
        "colab": {}
      },
      "source": [
        "#Using the function for the confidence interval from the last assignment\n",
        "from scipy import stats\n",
        "def confidence_interval(data, confidence=0.95):\n",
        "  data = np.array(data)\n",
        "  mean = np.mean(data)\n",
        "  n = len(data)\n",
        "  #Because we're using numpy and want the sample not the population\n",
        "  s = data.std(ddof=1)  \n",
        "  stderr = s / np.sqrt(n)\n",
        "  t = stats.t.ppf((1 + confidence) / 2.0, n - 1)\n",
        "  margin_of_error = t*stderr\n",
        "  return (mean, mean - margin_of_error, mean + margin_of_error )"
      ],
      "execution_count": 0,
      "outputs": []
    },
    {
      "cell_type": "code",
      "metadata": {
        "id": "1WJnOZqDaJlV",
        "colab_type": "code",
        "colab": {
          "base_uri": "https://localhost:8080/",
          "height": 68
        },
        "outputId": "fa7526c0-60c5-430f-b0a5-be4808b3feb5"
      },
      "source": [
        "mean, lower, upper = confidence_interval(df1)\n",
        "\n",
        "print(mean)\n",
        "print(lower)\n",
        "print(upper)"
      ],
      "execution_count": 24,
      "outputs": [
        {
          "output_type": "stream",
          "text": [
            "0.5966981132075472\n",
            "0.5498151808536169\n",
            "0.6435810455614774\n"
          ],
          "name": "stdout"
        }
      ]
    },
    {
      "cell_type": "code",
      "metadata": {
        "id": "yulaVz5aYfe5",
        "colab_type": "code",
        "colab": {
          "base_uri": "https://localhost:8080/",
          "height": 68
        },
        "outputId": "be436c47-1d25-4b66-c9e0-ee517c11fe2a"
      },
      "source": [
        "#Bayes\n",
        "stats.bayes_mvs(df1, alpha=.95)"
      ],
      "execution_count": 21,
      "outputs": [
        {
          "output_type": "execute_result",
          "data": {
            "text/plain": [
              "(Mean(statistic=0.5966981132075472, minmax=(0.5498151808536169, 0.6435810455614774)),\n",
              " Variance(statistic=0.2423643167660109, minmax=(0.2117453804193319, 0.27733816120505245)),\n",
              " Std_dev(statistic=0.4920128497210816, minmax=(0.46015799506183946, 0.5266290546533228)))"
            ]
          },
          "metadata": {
            "tags": []
          },
          "execution_count": 21
        }
      ]
    },
    {
      "cell_type": "code",
      "metadata": {
        "id": "smtQTs5ZY9nA",
        "colab_type": "code",
        "colab": {
          "base_uri": "https://localhost:8080/",
          "height": 281
        },
        "outputId": "2b2ae95c-8216-43e7-f71e-c30fc481e3ae"
      },
      "source": [
        "#Plot from last time in order to compare to bayes\n",
        "import matplotlib.pyplot as plt\n",
        "\n",
        "CI= confidence_interval(df1)\n",
        "\n",
        "df1.plot.density()\n",
        "plt.title(\"Congressional Voting Distribution for Budget by Hand\")\n",
        "plt.axvline(x=CI[1], color='red')\n",
        "#CI[1] = 0.5498151808536169\n",
        "plt.axvline(x=CI[0], color='black')\n",
        "#CI[0] = 0.5966981132075472\n",
        "plt.axvline(x=CI[2], color='red')\n",
        "#CI[0] = 0.6435810455614774\n",
        "plt.show()"
      ],
      "execution_count": 31,
      "outputs": [
        {
          "output_type": "display_data",
          "data": {
            "image/png": "[encoded data removed]",
            "text/plain": [
              "<Figure size 432x288 with 1 Axes>"
            ]
          },
          "metadata": {
            "tags": []
          }
        }
      ]
    },
    {
      "cell_type": "code",
      "metadata": {
        "id": "GTKDTLTDbOof",
        "colab_type": "code",
        "colab": {
          "base_uri": "https://localhost:8080/",
          "height": 281
        },
        "outputId": "d54fd264-06c0-4aa6-aa13-5d4753d211a3"
      },
      "source": [
        "#for Bayes\n",
        "df1.plot.density()\n",
        "plt.title(\"Congressional Voting Distribution for Budget by Bayes\")\n",
        "plt.axvline(x=0.5498151808536169, color='yellow', label='lower')\n",
        "#Lowerbound is the same as by hand\n",
        "plt.axvline(x=0.5966981132075472, color='cyan')\n",
        "#Mean is the same as by hand\n",
        "plt.axvline(x=0.6435810455614774, color='yellow')\n",
        "#Upper bound is the same as by hand\n",
        "plt.show()"
      ],
      "execution_count": 32,
      "outputs": [
        {
          "output_type": "display_data",
          "data": {
            "image/png": "[encoded data removed]",
            "text/plain": [
              "<Figure size 432x288 with 1 Axes>"
            ]
          },
          "metadata": {
            "tags": []
          }
        }
      ]
    },
    {
      "cell_type": "markdown",
      "metadata": {
        "id": "yx0yJL0objI2",
        "colab_type": "text"
      },
      "source": [
        "The Problem is, as you can see from the code, the means and confidence intervals are identical so I can't really plot them together because they overlap. The plots are identical except for the colors and that's only because I changed them for dramatic effect."
      ]
    },
    {
      "cell_type": "markdown",
      "metadata": {
        "id": "OuhsWsB7GKjb",
        "colab_type": "text"
      },
      "source": [
        "##3) In your own words, summarize the difference between Bayesian and Frequentist statistics\n",
        "\n",
        "The difference between Bayesian and Frequentist statistics is frequentist statistics starts from scratch every time and bayesian takes into account known and learned information."
      ]
    },
    {
      "cell_type": "markdown",
      "metadata": {
        "id": "uWgWjp3PQ3Sq",
        "colab_type": "text"
      },
      "source": [
        "## Resources"
      ]
    },
    {
      "cell_type": "markdown",
      "metadata": {
        "id": "QRgHqmYIQ9qn",
        "colab_type": "text"
      },
      "source": [
        "- [Worked example of Bayes rule calculation](https://en.wikipedia.org/wiki/Bayes'_theorem#Examples) (helpful as it fully breaks out the denominator)\n",
        "- [Source code for mvsdist in scipy](https://github.com/scipy/scipy/blob/90534919e139d2a81c24bf08341734ff41a3db12/scipy/stats/morestats.py#L139)"
      ]
    },
    {
      "cell_type": "markdown",
      "metadata": {
        "id": "GP7Jv1XvwtkX",
        "colab_type": "text"
      },
      "source": [
        "## Stretch Goals:\n",
        "\n",
        "- Go back and study the content from Modules 1 & 2 to make sure that you're really comfortable with them.\n",
        "- Apply a Bayesian technique to a problem you previously worked (in an assignment or project work) on from a frequentist (standard) perspective\n",
        "- Check out [PyMC3](https://docs.pymc.io/) (note this goes beyond hypothesis tests into modeling) - read the guides and work through some examples\n",
        "- Take PyMC3 further - see if you can build something with it!"
      ]
    },
    {
      "cell_type": "code",
      "metadata": {
        "id": "iDi0eFr1x-v_",
        "colab_type": "code",
        "colab": {}
      },
      "source": [
        ""
      ],
      "execution_count": 0,
      "outputs": []
    }
  ]
}