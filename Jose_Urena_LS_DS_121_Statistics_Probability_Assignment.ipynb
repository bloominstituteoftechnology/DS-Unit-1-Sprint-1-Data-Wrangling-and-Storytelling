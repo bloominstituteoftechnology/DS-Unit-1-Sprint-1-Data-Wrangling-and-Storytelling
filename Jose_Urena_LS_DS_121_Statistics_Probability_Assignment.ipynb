{
  "nbformat": 4,
  "nbformat_minor": 0,
  "metadata": {
    "kernelspec": {
      "display_name": "Python 3",
      "language": "python",
      "name": "python3"
    },
    "language_info": {
      "codemirror_mode": {
        "name": "ipython",
        "version": 3
      },
      "file_extension": ".py",
      "mimetype": "text/x-python",
      "name": "python",
      "nbconvert_exporter": "python",
      "pygments_lexer": "ipython3",
      "version": "3.7.3"
    },
    "colab": {
      "name": "Jose_Urena-LS_DS_121_Statistics_Probability_Assignment.ipynb",
      "provenance": [],
      "collapsed_sections": [
        "C5pkmOuKgK9Y"
      ],
      "include_colab_link": true
    }
  },
  "cells": [
    {
      "cell_type": "markdown",
      "metadata": {
        "id": "view-in-github",
        "colab_type": "text"
      },
      "source": [
        "<a href=\"https://colab.research.google.com/github/urenajose/DS-Unit-1-Sprint-1-Data-Wrangling-and-Storytelling/blob/master/Jose_Urena_LS_DS_121_Statistics_Probability_Assignment.ipynb\" target=\"_parent\"><img src=\"https://colab.research.google.com/assets/colab-badge.svg\" alt=\"Open In Colab\"/></a>"
      ]
    },
    {
      "cell_type": "markdown",
      "metadata": {
        "id": "Sa5KWMO1ngPN",
        "colab_type": "text"
      },
      "source": [
        "<img align=\"left\" src=\"https://lever-client-logos.s3.amazonaws.com/864372b1-534c-480e-acd5-9711f850815c-1524247202159.png\" width=200>\n",
        "<br></br>\n",
        "<br></br>\n",
        "\n",
        "## *Data Science Unit 1 Sprint 2 Assignment 1*\n",
        "\n",
        "# Apply the t-test to real data"
      ]
    },
    {
      "cell_type": "markdown",
      "metadata": {
        "id": "gZDO3KBZOJNp",
        "colab_type": "text"
      },
      "source": [
        "## Practice 1-Sample T-tests\n",
        "\n",
        "One Sample t-tests determine whether or not a sample mean is statistically different from some known (or hypothesized) population mean. \n",
        "\n",
        "### 1) Load the Data\n",
        "- Use the [automobile dataset](https://archive.ics.uci.edu/ml/datasets/Automobile)\n",
        "- Fix the column headers\n",
        "- Make sure NaNs are used to indicate missing values\n",
        "\n",
        "Feel free to add code cells and text cells as needed throughout the assignment."
      ]
    },
    {
      "cell_type": "code",
      "metadata": {
        "id": "BFHJf13v_8OO",
        "colab_type": "code",
        "colab": {
          "base_uri": "https://localhost:8080/",
          "height": 70
        },
        "outputId": "07ef2085-01fe-4a44-d9b7-04a78cecc856"
      },
      "source": [
        "import pandas as pd\n",
        "import numpy as np\n",
        "import seaborn as sns\n",
        "import matplotlib.pyplot as plt\n",
        "from scipy.stats import ttest_ind\n",
        "from scipy import stats\n",
        "import copy"
      ],
      "execution_count": 1,
      "outputs": [
        {
          "output_type": "stream",
          "text": [
            "/usr/local/lib/python3.6/dist-packages/statsmodels/tools/_testing.py:19: FutureWarning: pandas.util.testing is deprecated. Use the functions in the public API at pandas.testing instead.\n",
            "  import pandas.util.testing as tm\n"
          ],
          "name": "stderr"
        }
      ]
    },
    {
      "cell_type": "code",
      "metadata": {
        "id": "cj-d0_8wWJjj",
        "colab_type": "code",
        "colab": {}
      },
      "source": [
        "### YOUR WORK HERE\n",
        "url_auto = \"https://archive.ics.uci.edu/ml/machine-learning-databases/autos/imports-85.data\""
      ],
      "execution_count": 2,
      "outputs": []
    },
    {
      "cell_type": "code",
      "metadata": {
        "id": "tFJqZy39AJU3",
        "colab_type": "code",
        "colab": {
          "base_uri": "https://localhost:8080/",
          "height": 284
        },
        "outputId": "34c4bcfd-17df-40cf-9464-7d90c5cce402"
      },
      "source": [
        "auto_df = pd.read_csv(url_auto)\n",
        "print(auto_df.head())\n",
        "print(auto_df.tail())"
      ],
      "execution_count": 3,
      "outputs": [
        {
          "output_type": "stream",
          "text": [
            "   3    ?  alfa-romero  gas  std   two  ...  9.00  111  5000  21  27  13495\n",
            "0  3    ?  alfa-romero  gas  std   two  ...   9.0  111  5000  21  27  16500\n",
            "1  1    ?  alfa-romero  gas  std   two  ...   9.0  154  5000  19  26  16500\n",
            "2  2  164         audi  gas  std  four  ...  10.0  102  5500  24  30  13950\n",
            "3  2  164         audi  gas  std  four  ...   8.0  115  5500  18  22  17450\n",
            "4  2    ?         audi  gas  std   two  ...   8.5  110  5500  19  25  15250\n",
            "\n",
            "[5 rows x 26 columns]\n",
            "     3   ? alfa-romero     gas    std   two  ...  9.00  111  5000  21  27  13495\n",
            "199 -1  95       volvo     gas    std  four  ...   9.5  114  5400  23  28  16845\n",
            "200 -1  95       volvo     gas  turbo  four  ...   8.7  160  5300  19  25  19045\n",
            "201 -1  95       volvo     gas    std  four  ...   8.8  134  5500  18  23  21485\n",
            "202 -1  95       volvo  diesel  turbo  four  ...  23.0  106  4800  26  27  22470\n",
            "203 -1  95       volvo     gas  turbo  four  ...   9.5  114  5400  19  25  22625\n",
            "\n",
            "[5 rows x 26 columns]\n"
          ],
          "name": "stdout"
        }
      ]
    },
    {
      "cell_type": "code",
      "metadata": {
        "id": "o4ZieWvYDe9l",
        "colab_type": "code",
        "colab": {}
      },
      "source": [
        "column_headers = ['symboling',\n",
        "'normalized-losses',\n",
        "'make',\n",
        "'fuel-type',\n",
        "'aspiration',\n",
        "'num-of-doors',\n",
        "'body-style',\n",
        "'drive-wheels',\n",
        "'engine-location',\n",
        "'wheel-base',\n",
        "'length',\n",
        "'width',\n",
        "'height',\n",
        "'curb-weight',\n",
        "'engine-type',\n",
        "'num-of-cylinders',\n",
        "'engine-size',\n",
        "'fuel-system',\n",
        "'bore',\n",
        "'stroke',\n",
        "'compression-ratio',\n",
        "'horsepower',\n",
        "'peak-rpm',\n",
        "'city-mpg',\n",
        "'highway-mpg',\n",
        "'price',]"
      ],
      "execution_count": 4,
      "outputs": []
    },
    {
      "cell_type": "code",
      "metadata": {
        "colab_type": "code",
        "id": "bkEHdM0OGNE0",
        "colab": {
          "base_uri": "https://localhost:8080/",
          "height": 150
        },
        "outputId": "a008a05c-4bc3-4f30-9feb-f2f6a9fdb899"
      },
      "source": [
        "auto_df = pd.read_csv(url_auto, names=column_headers)\n",
        "print(auto_df.head())"
      ],
      "execution_count": 5,
      "outputs": [
        {
          "output_type": "stream",
          "text": [
            "   symboling normalized-losses         make  ... city-mpg highway-mpg  price\n",
            "0          3                 ?  alfa-romero  ...       21          27  13495\n",
            "1          3                 ?  alfa-romero  ...       21          27  16500\n",
            "2          1                 ?  alfa-romero  ...       19          26  16500\n",
            "3          2               164         audi  ...       24          30  13950\n",
            "4          2               164         audi  ...       18          22  17450\n",
            "\n",
            "[5 rows x 26 columns]\n"
          ],
          "name": "stdout"
        }
      ]
    },
    {
      "cell_type": "code",
      "metadata": {
        "id": "M4KbsrKLGMw7",
        "colab_type": "code",
        "colab": {
          "base_uri": "https://localhost:8080/",
          "height": 903
        },
        "outputId": "3612b82c-799b-48de-b7be-b76ff19c7264"
      },
      "source": [
        "auto_df = auto_df.replace(\"?\",np.nan)\n",
        "print(auto_df.head())\n",
        "print(auto_df.describe())\n",
        "print(auto_df.info())"
      ],
      "execution_count": 6,
      "outputs": [
        {
          "output_type": "stream",
          "text": [
            "   symboling normalized-losses         make  ... city-mpg highway-mpg  price\n",
            "0          3               NaN  alfa-romero  ...       21          27  13495\n",
            "1          3               NaN  alfa-romero  ...       21          27  16500\n",
            "2          1               NaN  alfa-romero  ...       19          26  16500\n",
            "3          2               164         audi  ...       24          30  13950\n",
            "4          2               164         audi  ...       18          22  17450\n",
            "\n",
            "[5 rows x 26 columns]\n",
            "        symboling  wheel-base  ...    city-mpg  highway-mpg\n",
            "count  205.000000  205.000000  ...  205.000000   205.000000\n",
            "mean     0.834146   98.756585  ...   25.219512    30.751220\n",
            "std      1.245307    6.021776  ...    6.542142     6.886443\n",
            "min     -2.000000   86.600000  ...   13.000000    16.000000\n",
            "25%      0.000000   94.500000  ...   19.000000    25.000000\n",
            "50%      1.000000   97.000000  ...   24.000000    30.000000\n",
            "75%      2.000000  102.400000  ...   30.000000    34.000000\n",
            "max      3.000000  120.900000  ...   49.000000    54.000000\n",
            "\n",
            "[8 rows x 10 columns]\n",
            "<class 'pandas.core.frame.DataFrame'>\n",
            "RangeIndex: 205 entries, 0 to 204\n",
            "Data columns (total 26 columns):\n",
            " #   Column             Non-Null Count  Dtype  \n",
            "---  ------             --------------  -----  \n",
            " 0   symboling          205 non-null    int64  \n",
            " 1   normalized-losses  164 non-null    object \n",
            " 2   make               205 non-null    object \n",
            " 3   fuel-type          205 non-null    object \n",
            " 4   aspiration         205 non-null    object \n",
            " 5   num-of-doors       203 non-null    object \n",
            " 6   body-style         205 non-null    object \n",
            " 7   drive-wheels       205 non-null    object \n",
            " 8   engine-location    205 non-null    object \n",
            " 9   wheel-base         205 non-null    float64\n",
            " 10  length             205 non-null    float64\n",
            " 11  width              205 non-null    float64\n",
            " 12  height             205 non-null    float64\n",
            " 13  curb-weight        205 non-null    int64  \n",
            " 14  engine-type        205 non-null    object \n",
            " 15  num-of-cylinders   205 non-null    object \n",
            " 16  engine-size        205 non-null    int64  \n",
            " 17  fuel-system        205 non-null    object \n",
            " 18  bore               201 non-null    object \n",
            " 19  stroke             201 non-null    object \n",
            " 20  compression-ratio  205 non-null    float64\n",
            " 21  horsepower         203 non-null    object \n",
            " 22  peak-rpm           203 non-null    object \n",
            " 23  city-mpg           205 non-null    int64  \n",
            " 24  highway-mpg        205 non-null    int64  \n",
            " 25  price              201 non-null    object \n",
            "dtypes: float64(5), int64(5), object(16)\n",
            "memory usage: 41.8+ KB\n",
            "None\n"
          ],
          "name": "stdout"
        }
      ]
    },
    {
      "cell_type": "markdown",
      "metadata": {
        "id": "FD-Pk07-Z-xk",
        "colab_type": "text"
      },
      "source": [
        "### 2) Pretend that this dataset represents the cars at a used car lot in your local town. \n",
        "\n",
        "- Use df.sample() to pick a random sample of 10 cars. Note that because this sample is random we are going to set the `random_state` so that all of us in the class get the same random sample. Please set your random state to `30` when using `df.sample()`\n",
        "\n",
        "Is your sample reflective of the population value in regards to highway-mpg? Find the mean for `highway-mpg` for the entire dataset and use a 1-sample t-test to compare your estaimated sample mean to the population mean. Can you say that they are different? "
      ]
    },
    {
      "cell_type": "code",
      "metadata": {
        "id": "6qXiJGTwdG2N",
        "colab_type": "code",
        "colab": {
          "base_uri": "https://localhost:8080/",
          "height": 150
        },
        "outputId": "4172dde8-b18c-4c10-f99a-e65f9ef38ec1"
      },
      "source": [
        "### YOUR WORK HERE\n",
        "lauto_df = auto_df.sample(10, random_state=30 ) #used car lot in your local town\n",
        "copy.deepcopy(lauto_df)\n",
        "print(lauto_df.head())"
      ],
      "execution_count": 7,
      "outputs": [
        {
          "output_type": "stream",
          "text": [
            "     symboling normalized-losses           make  ... city-mpg highway-mpg  price\n",
            "121          1               154       plymouth  ...       31          38   6692\n",
            "176         -1                65         toyota  ...       27          32  10898\n",
            "24           1               148          dodge  ...       31          38   6229\n",
            "88          -1               137     mitsubishi  ...       23          30   9279\n",
            "72           3               142  mercedes-benz  ...       16          18  35056\n",
            "\n",
            "[5 rows x 26 columns]\n"
          ],
          "name": "stdout"
        }
      ]
    },
    {
      "cell_type": "code",
      "metadata": {
        "id": "TaCRc74hjl9_",
        "colab_type": "code",
        "colab": {
          "base_uri": "https://localhost:8080/",
          "height": 150
        },
        "outputId": "7e16ee28-1008-42ab-cb44-275a965b3b74"
      },
      "source": [
        "auto_dfm_hmpg = auto_df['highway-mpg'] #Main population of cars\n",
        "print(auto_dfm_hmpg.head())\n",
        "print(auto_dfm_hmpg.mean())\n",
        "print(auto_dfm_hmpg.std())"
      ],
      "execution_count": 8,
      "outputs": [
        {
          "output_type": "stream",
          "text": [
            "0    27\n",
            "1    27\n",
            "2    26\n",
            "3    30\n",
            "4    22\n",
            "Name: highway-mpg, dtype: int64\n",
            "30.75121951219512\n",
            "6.88644313094182\n"
          ],
          "name": "stdout"
        }
      ]
    },
    {
      "cell_type": "code",
      "metadata": {
        "id": "vkMHTP3-jmQS",
        "colab_type": "code",
        "colab": {
          "base_uri": "https://localhost:8080/",
          "height": 150
        },
        "outputId": "8015f03b-0ba8-4716-d209-f99570a054e4"
      },
      "source": [
        "auto_dfl_hmpg = lauto_df['highway-mpg'] #local used car population\n",
        "print(auto_dfl_hmpg.head())\n",
        "print(auto_dfl_hmpg.mean())\n",
        "print(auto_dfl_hmpg.std())"
      ],
      "execution_count": 9,
      "outputs": [
        {
          "output_type": "stream",
          "text": [
            "121    38\n",
            "176    32\n",
            "24     38\n",
            "88     30\n",
            "72     18\n",
            "Name: highway-mpg, dtype: int64\n",
            "32.8\n",
            "7.269418439218123\n"
          ],
          "name": "stdout"
        }
      ]
    },
    {
      "cell_type": "markdown",
      "metadata": {
        "id": "oxsx9cN7dUPp",
        "colab_type": "text"
      },
      "source": [
        "The salesman says the cars he sells typically have a fuel efficiency of about 35 miles per gallon on the highway. You want to verify his claim but can only test 10 cars. Using your sample of 10, test his claim and report your results."
      ]
    },
    {
      "cell_type": "code",
      "metadata": {
        "id": "6pXyclB9ZXCn",
        "colab_type": "code",
        "colab": {
          "base_uri": "https://localhost:8080/",
          "height": 50
        },
        "outputId": "eb00d2df-f4c5-4391-e359-592bdb8992f4"
      },
      "source": [
        "### YOUR WORK HERE\n",
        "print(stats.ttest_1samp(auto_dfl_hmpg, popmean=35))\n",
        "if stats.ttest_1samp(auto_dfl_hmpg, popmean=35).pvalue <= .05:\n",
        "  print(\"we accept the claim, and reject the Null Hypothesis\")\n",
        "else:\n",
        "   print(\"we reject the claim, and accept the Null Hypothesis\")"
      ],
      "execution_count": 10,
      "outputs": [
        {
          "output_type": "stream",
          "text": [
            "Ttest_1sampResult(statistic=-0.9570244044334747, pvalue=0.36355472283248624)\n",
            "we reject the claim, and accept the Null Hypothesis\n"
          ],
          "name": "stdout"
        }
      ]
    },
    {
      "cell_type": "markdown",
      "metadata": {
        "id": "yAkyHaEnbNYa",
        "colab_type": "text"
      },
      "source": [
        "Imagine that you now have the capacity to test 100 cars on the lot. Using the same random state of `30`, take a sample of 100 cars. Run a t-test to verify the salesman's claim with your new larger sample. Do you reach the same conclusion as you did with the sample size of 10? "
      ]
    },
    {
      "cell_type": "code",
      "metadata": {
        "id": "Y3H81uMubpLh",
        "colab_type": "code",
        "colab": {
          "base_uri": "https://localhost:8080/",
          "height": 167
        },
        "outputId": "a74fc76a-5a60-4802-f850-0e1edce445e0"
      },
      "source": [
        "### YOUR WORK HERE\n",
        "lauto_df_100 = auto_df.sample(100, random_state=30 ) # 100 sample, used car lot in your local town\n",
        "copy.deepcopy(lauto_df_100)\n",
        "print(lauto_df_100.head())\n",
        "print(lauto_df_100.shape)\n",
        "auto_dfl00_hmpg = lauto_df_100['highway-mpg'] #local used car population"
      ],
      "execution_count": 11,
      "outputs": [
        {
          "output_type": "stream",
          "text": [
            "     symboling normalized-losses           make  ... city-mpg highway-mpg  price\n",
            "121          1               154       plymouth  ...       31          38   6692\n",
            "176         -1                65         toyota  ...       27          32  10898\n",
            "24           1               148          dodge  ...       31          38   6229\n",
            "88          -1               137     mitsubishi  ...       23          30   9279\n",
            "72           3               142  mercedes-benz  ...       16          18  35056\n",
            "\n",
            "[5 rows x 26 columns]\n",
            "(100, 26)\n"
          ],
          "name": "stdout"
        }
      ]
    },
    {
      "cell_type": "code",
      "metadata": {
        "id": "aDo0gFxg5EHa",
        "colab_type": "code",
        "colab": {
          "base_uri": "https://localhost:8080/",
          "height": 50
        },
        "outputId": "f77044cd-0b46-4f2e-997c-5713c9580ac6"
      },
      "source": [
        "print(stats.ttest_1samp(auto_dfl00_hmpg, popmean=35))\n",
        "if stats.ttest_1samp(auto_dfl00_hmpg, popmean=35).pvalue <= .05:\n",
        "  print(\"we accept the claim, and reject the Null Hypothesis\")\n",
        "else:\n",
        "   print(\"we reject the claim, and accept the Null Hypothesis\")"
      ],
      "execution_count": 12,
      "outputs": [
        {
          "output_type": "stream",
          "text": [
            "Ttest_1sampResult(statistic=-6.5185242467032305, pvalue=3.003137417468754e-09)\n",
            "we accept the claim, and reject the Null Hypothesis\n"
          ],
          "name": "stdout"
        }
      ]
    },
    {
      "cell_type": "markdown",
      "metadata": {
        "id": "sDO-ufMDfpVA",
        "colab_type": "text"
      },
      "source": [
        "Why might these two t-tests using the same dataset lead to different conclusions about the salesman's claim?"
      ]
    },
    {
      "cell_type": "code",
      "metadata": {
        "id": "gI9w72D05hNz",
        "colab_type": "code",
        "colab": {
          "base_uri": "https://localhost:8080/",
          "height": 35
        },
        "outputId": "07bef630-6aaa-4a2e-9f08-a2fc6453df9e"
      },
      "source": [
        "\"Our sample of 10 cars was not representative of the used car lot\""
      ],
      "execution_count": 13,
      "outputs": [
        {
          "output_type": "execute_result",
          "data": {
            "application/vnd.google.colaboratory.intrinsic+json": {
              "type": "string"
            },
            "text/plain": [
              "'Our sample of 10 cars was not representative of the used car lot'"
            ]
          },
          "metadata": {
            "tags": []
          },
          "execution_count": 13
        }
      ]
    },
    {
      "cell_type": "markdown",
      "metadata": {
        "id": "8H6-cStNfpwS",
        "colab_type": "text"
      },
      "source": [
        ""
      ]
    },
    {
      "cell_type": "markdown",
      "metadata": {
        "id": "TPT-ZTt0PuIk",
        "colab_type": "text"
      },
      "source": [
        "## Practice 2-Sample T-tests\n",
        "\n",
        "Two Sample t-tests determine whether or not two sample means are statistically different from each other. \n",
        "\n",
        "This portion of your assignment requires you to determine which issues have \"statistically significant\" differences between political parties in this [1980s congressional voting data](https://archive.ics.uci.edu/ml/datasets/Congressional+Voting+Records). \n"
      ]
    },
    {
      "cell_type": "markdown",
      "metadata": {
        "id": "PvFVLwekQxLH",
        "colab_type": "text"
      },
      "source": [
        "### 1) Load the data\n",
        "\n",
        "The data consists of 435 instances (one for each congressperson), a class (democrat or republican), and 16 binary attributes (yes or no for voting for or against certain issues). Be aware - there are missing values!\n",
        "\n",
        "- Read the dataset in from UCI, you'll need to provide a list of column headers\n",
        "- Encode \"yes\" votes as 1 and \"no\" votes as 0. (You can use `df.replace()` to swap out these values)\n",
        "- Use dataframe filtering to split the dataframe into two new dataframes based on party. Hold all republicans in one dataframe and all democrats in the other. These will be our two different \"samples.\"\n",
        "\n"
      ]
    },
    {
      "cell_type": "code",
      "metadata": {
        "id": "__qLGHt5fXvU",
        "colab_type": "code",
        "colab": {
          "base_uri": "https://localhost:8080/",
          "height": 201
        },
        "outputId": "9b43c114-472e-4541-8017-8c7bc45faab8"
      },
      "source": [
        "### YOUR WORK HERE\n",
        "!wget https://archive.ics.uci.edu/ml/machine-learning-databases/voting-records/house-votes-84.data"
      ],
      "execution_count": 14,
      "outputs": [
        {
          "output_type": "stream",
          "text": [
            "--2020-07-23 01:37:07--  https://archive.ics.uci.edu/ml/machine-learning-databases/voting-records/house-votes-84.data\n",
            "Resolving archive.ics.uci.edu (archive.ics.uci.edu)... 128.195.10.252\n",
            "Connecting to archive.ics.uci.edu (archive.ics.uci.edu)|128.195.10.252|:443... connected.\n",
            "HTTP request sent, awaiting response... 200 OK\n",
            "Length: 18171 (18K) [application/x-httpd-php]\n",
            "Saving to: ‘house-votes-84.data.4’\n",
            "\n",
            "\rhouse-votes-84.data   0%[                    ]       0  --.-KB/s               \rhouse-votes-84.data 100%[===================>]  17.75K  --.-KB/s    in 0.06s   \n",
            "\n",
            "2020-07-23 01:37:07 (286 KB/s) - ‘house-votes-84.data.4’ saved [18171/18171]\n",
            "\n"
          ],
          "name": "stdout"
        }
      ]
    },
    {
      "cell_type": "code",
      "metadata": {
        "id": "CLK9IGuK6c1K",
        "colab_type": "code",
        "colab": {
          "base_uri": "https://localhost:8080/",
          "height": 836
        },
        "outputId": "64807f5d-7509-4f17-b674-ef3b5be66830"
      },
      "source": [
        "column_headers_house = ['Class Name',\n",
        "'handicapped-infants',\n",
        "'water-project-cost-sharing',\n",
        "'adoption-of-the-budget-resolution',\n",
        "'physician-fee-freeze',\n",
        "'el-salvador-aid',\n",
        "'religious-groups-in-schools',\n",
        "'anti-satellite-test-ban',\n",
        "'aid-to-nicaraguan-contras',\n",
        "'mx-missile',\n",
        "'immigration',\n",
        "'synfuels-corporation-cutback',\n",
        "'education-spending',\n",
        "'superfund-right-to-sue',\n",
        "'crime',\n",
        "'duty-free-exports',\n",
        "'export-administration-act-south-africa']\n",
        "\n",
        "house_df = pd.read_csv('house-votes-84.data', header=None, names=column_headers_house)\n",
        "print(house_df.shape)\n",
        "print(house_df.head())\n",
        "print(house_df.describe())\n",
        "pd.set_option('expand_frame_repr', True)\n",
        "house_df.describe()\n",
        "house_df.isnull().sum()\n",
        "house_df.head(10)\n",
        "house_df = copy.deepcopy(house_df.replace(\"?\",np.nan))\n",
        "print(house_df.head())\n",
        "house_df_n = house_df.replace(\"n\",0)\n",
        "house_df = house_df_n.replace(\"y\", 1)\n",
        "print(house_df.head())\n",
        "house_votes = house_df.groupby(\"Class Name\").sum()\n",
        "house_votest = house_votes.T\n",
        "print(house_votest)\n"
      ],
      "execution_count": 28,
      "outputs": [
        {
          "output_type": "stream",
          "text": [
            "(435, 17)\n",
            "   Class Name  ... export-administration-act-south-africa\n",
            "0  republican  ...                                      y\n",
            "1  republican  ...                                      ?\n",
            "2    democrat  ...                                      n\n",
            "3    democrat  ...                                      y\n",
            "4    democrat  ...                                      y\n",
            "\n",
            "[5 rows x 17 columns]\n",
            "       Class Name  ... export-administration-act-south-africa\n",
            "count         435  ...                                    435\n",
            "unique          2  ...                                      3\n",
            "top      democrat  ...                                      y\n",
            "freq          267  ...                                    269\n",
            "\n",
            "[4 rows x 17 columns]\n",
            "   Class Name  ... export-administration-act-south-africa\n",
            "0  republican  ...                                      y\n",
            "1  republican  ...                                    NaN\n",
            "2    democrat  ...                                      n\n",
            "3    democrat  ...                                      y\n",
            "4    democrat  ...                                      y\n",
            "\n",
            "[5 rows x 17 columns]\n",
            "   Class Name  ...  export-administration-act-south-africa\n",
            "0  republican  ...                                     1.0\n",
            "1  republican  ...                                     NaN\n",
            "2    democrat  ...                                     0.0\n",
            "3    democrat  ...                                     1.0\n",
            "4    democrat  ...                                     1.0\n",
            "\n",
            "[5 rows x 17 columns]\n",
            "Class Name                              democrat  republican\n",
            "handicapped-infants                        156.0        31.0\n",
            "water-project-cost-sharing                 120.0        75.0\n",
            "adoption-of-the-budget-resolution          231.0        22.0\n",
            "physician-fee-freeze                        14.0       163.0\n",
            "el-salvador-aid                             55.0       157.0\n",
            "religious-groups-in-schools                123.0       149.0\n",
            "anti-satellite-test-ban                    200.0        39.0\n",
            "aid-to-nicaraguan-contras                  218.0        24.0\n",
            "mx-missile                                 188.0        19.0\n",
            "immigration                                124.0        92.0\n",
            "synfuels-corporation-cutback               129.0        21.0\n",
            "education-spending                          36.0       135.0\n",
            "superfund-right-to-sue                      73.0       136.0\n",
            "crime                                       90.0       158.0\n",
            "duty-free-exports                          160.0        14.0\n",
            "export-administration-act-south-africa     173.0        96.0\n"
          ],
          "name": "stdout"
        }
      ]
    },
    {
      "cell_type": "code",
      "metadata": {
        "id": "rVq9TTa-I4n3",
        "colab_type": "code",
        "colab": {
          "base_uri": "https://localhost:8080/",
          "height": 84
        },
        "outputId": "fa2bdda4-cf73-4bb6-9687-3a2e61d0c8a3"
      },
      "source": [
        "house_votest_d = list(house_votest['democrat'])\n",
        "print(house_votest_d)\n",
        "house_votest_r = list(house_votest['republican'])\n",
        "print(house_votest_r)\n",
        "print(house_votest.columns)\n",
        "ttest_ind(house_votest_d,house_votest_r)"
      ],
      "execution_count": 34,
      "outputs": [
        {
          "output_type": "stream",
          "text": [
            "[156.0, 120.0, 231.0, 14.0, 55.0, 123.0, 200.0, 218.0, 188.0, 124.0, 129.0, 36.0, 73.0, 90.0, 160.0, 173.0]\n",
            "[31.0, 75.0, 22.0, 163.0, 157.0, 149.0, 39.0, 24.0, 19.0, 92.0, 21.0, 135.0, 136.0, 158.0, 14.0, 96.0]\n",
            "Index(['democrat', 'republican'], dtype='object', name='Class Name')\n"
          ],
          "name": "stdout"
        },
        {
          "output_type": "execute_result",
          "data": {
            "text/plain": [
              "Ttest_indResult(statistic=2.1689261581567374, pvalue=0.038143692555889)"
            ]
          },
          "metadata": {
            "tags": []
          },
          "execution_count": 34
        }
      ]
    },
    {
      "cell_type": "markdown",
      "metadata": {
        "id": "f20v73e3RLAV",
        "colab_type": "text"
      },
      "source": [
        "### 2) Perform two sample T-tests on different issues and report the results.\n",
        "\n",
        "- Find an issue that democrats support more than republicans with p < 0.01 (significant at the 99% level).\n",
        "- Find an issue that republicans support more than democrats with p < 0.01 (significant at the 99% level).\n",
        "- Find an issue where the difference between republicans and democrats has p > 0.1 (Not significant at the 90% level - i.e. there may not be much of a difference the two sample means)\n",
        "\n",
        "Please for each test that you run state your null and alternative hypothesis and then write a conclusion reflecting on the null and alternative hypothesis.\n",
        "\n",
        "Remember, that two-sample t-tests will only tell us if the two groups are *different* from one another. We'll have to look at their sample means directly or use the sign on the t-statistic to know which of the two sample means is larger. "
      ]
    },
    {
      "cell_type": "code",
      "metadata": {
        "id": "bCE3UgpbP69p",
        "colab_type": "code",
        "colab": {
          "base_uri": "https://localhost:8080/",
          "height": 50
        },
        "outputId": "921a5f5e-e0a8-402e-d23a-6642fded3a6f"
      },
      "source": [
        "### YOUR WORK HERE\n",
        "house_df_r = house_df[house_df['Class Name'] == \"republican\"]\n",
        "print(house_df_r.shape)\n",
        "house_df_d = house_df[house_df['Class Name'] == \"democrat\"]\n",
        "print(house_df_d.shape)"
      ],
      "execution_count": 39,
      "outputs": [
        {
          "output_type": "stream",
          "text": [
            "(168, 17)\n",
            "(267, 17)\n"
          ],
          "name": "stdout"
        }
      ]
    },
    {
      "cell_type": "code",
      "metadata": {
        "id": "5wvWemA1TUpV",
        "colab_type": "code",
        "colab": {
          "base_uri": "https://localhost:8080/",
          "height": 52
        },
        "outputId": "11af5005-2551-4586-969e-dc14c8971480"
      },
      "source": [
        "print(stats.ttest_1samp(house_df_d[\"adoption-of-the-budget-resolution\"],1,nan_policy=\"omit\"))\n",
        "\"Democrats support more, than republicans\""
      ],
      "execution_count": 52,
      "outputs": [
        {
          "output_type": "stream",
          "text": [
            "Ttest_1sampResult(statistic=-5.702205846437985, pvalue=3.217258173105712e-08)\n"
          ],
          "name": "stdout"
        },
        {
          "output_type": "execute_result",
          "data": {
            "application/vnd.google.colaboratory.intrinsic+json": {
              "type": "string"
            },
            "text/plain": [
              "'Democrats support more, than republicans'"
            ]
          },
          "metadata": {
            "tags": []
          },
          "execution_count": 52
        }
      ]
    },
    {
      "cell_type": "code",
      "metadata": {
        "id": "Y1h2uHSyjylz",
        "colab_type": "code",
        "colab": {
          "base_uri": "https://localhost:8080/",
          "height": 52
        },
        "outputId": "5f733267-2327-4fcc-f71e-0f25da993491"
      },
      "source": [
        "print(stats.ttest_1samp(house_df_r[\"religious-groups-in-schools\"],1,nan_policy=\"omit\"))\n",
        "\"Republican support more, than democrats\""
      ],
      "execution_count": 56,
      "outputs": [
        {
          "output_type": "stream",
          "text": [
            "Ttest_1sampResult(statistic=-4.338836636208457, pvalue=2.488389920449274e-05)\n"
          ],
          "name": "stdout"
        },
        {
          "output_type": "execute_result",
          "data": {
            "application/vnd.google.colaboratory.intrinsic+json": {
              "type": "string"
            },
            "text/plain": [
              "'Republican support more, than democrats'"
            ]
          },
          "metadata": {
            "tags": []
          },
          "execution_count": 56
        }
      ]
    },
    {
      "cell_type": "code",
      "metadata": {
        "id": "F80zKhd2kzhf",
        "colab_type": "code",
        "colab": {
          "base_uri": "https://localhost:8080/",
          "height": 52
        },
        "outputId": "a5f03f0e-9ade-4500-b446-c659c7bb796d"
      },
      "source": [
        "print(ttest_ind(house_df_r[\"physician-fee-freeze\"],house_df_d[\"physician-fee-freeze\"],nan_policy=\"omit\"))\n",
        "\"Republican support more, than democrats\""
      ],
      "execution_count": 57,
      "outputs": [
        {
          "output_type": "stream",
          "text": [
            "Ttest_indResult(statistic=49.36708157301406, pvalue=1.994262314074344e-177)\n"
          ],
          "name": "stdout"
        },
        {
          "output_type": "execute_result",
          "data": {
            "application/vnd.google.colaboratory.intrinsic+json": {
              "type": "string"
            },
            "text/plain": [
              "'Republican support more, than democrats'"
            ]
          },
          "metadata": {
            "tags": []
          },
          "execution_count": 57
        }
      ]
    },
    {
      "cell_type": "markdown",
      "metadata": {
        "id": "C5pkmOuKgK9Y",
        "colab_type": "text"
      },
      "source": [
        "## Stretch Goals:\n",
        "\n",
        "### 1) Use functions and some iterator (for loop, .apply(), list comprehension, etc.) to perform two sample t-tests on every issue in the dataset in an automated fashion."
      ]
    },
    {
      "cell_type": "code",
      "metadata": {
        "id": "z7c7K322gLeN",
        "colab_type": "code",
        "colab": {}
      },
      "source": [
        "### YOUR WORK HERE"
      ],
      "execution_count": 19,
      "outputs": []
    },
    {
      "cell_type": "markdown",
      "metadata": {
        "id": "wcA_AvvRAqW_",
        "colab_type": "text"
      },
      "source": [
        "\n",
        "\n",
        "### 2) Work on Performing a T-test without using Scipy in order to get \"under the hood\" and learn more thoroughly about this topic.\n",
        "### Start with a 1-sample t-test\n",
        " - Establish the conditions for your test \n",
        " - [Calculate the T Statistic](https://blog.minitab.com/hs-fs/hubfs/Imported_Blog_Media/701f9c0efa98a38fb397f3c3ec459b66.png?width=247&height=172&name=701f9c0efa98a38fb397f3c3ec459b66.png) (You'll need to omit NaN values from your sample).\n",
        " - Translate that t-statistic into a P-value. You can use a [table](https://www.google.com/search?q=t+statistic+table) or the [University of Iowa Applet](https://homepage.divms.uiowa.edu/~mbognar/applets/t.html)\n",
        "\n",
        "### Be sure to check your work using Scipy!\n",
        "\n",
        "\n",
        "\n"
      ]
    },
    {
      "cell_type": "code",
      "metadata": {
        "id": "3pdMy-KoPjoM",
        "colab_type": "code",
        "colab": {}
      },
      "source": [
        "### YOUR WORK HERE"
      ],
      "execution_count": 20,
      "outputs": []
    },
    {
      "cell_type": "markdown",
      "metadata": {
        "id": "3114xDdlPjFx",
        "colab_type": "text"
      },
      "source": [
        "### 3) Then try a 2-sample t-test\n",
        " - Establish the conditions for your test \n",
        " - [Calculate the T Statistic](https://lh3.googleusercontent.com/proxy/rJJ5ZOL9ZDvKOOeBihXoZDgfk7uv1YsRzSQ1Tc10RX-r2HrRpRLVqlE9CWX23csYQXcTniFwlBg3H-qR8MKJPBGnjwndqlhDX3JxoDE5Yg) (You'll need to omit NaN values from your sample).\n",
        " - Translate that t-statistic into a P-value. You can use a [table](https://www.google.com/search?q=t+statistic+table) or the [University of Iowa Applet](https://homepage.divms.uiowa.edu/~mbognar/applets/t.html)\n",
        "\n",
        " ### Be sure to check your work using Scipy!"
      ]
    },
    {
      "cell_type": "code",
      "metadata": {
        "id": "dPmXOHh1Cfea",
        "colab_type": "code",
        "colab": {}
      },
      "source": [
        "### YOUR WORK HERE"
      ],
      "execution_count": 21,
      "outputs": []
    }
  ]
}