{
  "nbformat": 4,
  "nbformat_minor": 0,
  "metadata": {
    "colab": {
      "name": "Explanatory.ipynb",
      "provenance": [],
      "collapsed_sections": [],
      "toc_visible": true,
      "mount_file_id": "1NOxj0zfQI4SiOr9ayYe4huAGgLkBtwUA",
      "authorship_tag": "ABX9TyMP38hit7wG3LNEFYlDrvfD",
      "include_colab_link": true
    },
    "kernelspec": {
      "name": "python3",
      "display_name": "Python 3"
    }
  },
  "cells": [
    {
      "cell_type": "markdown",
      "metadata": {
        "id": "view-in-github",
        "colab_type": "text"
      },
      "source": [
        "<a href=\"https://colab.research.google.com/github/danielscurlock/DS-Unit-1-Sprint-1-Data-Wrangling-and-Storytelling/blob/master/noteboooks/Explanatory.ipynb\" target=\"_parent\"><img src=\"https://colab.research.google.com/assets/colab-badge.svg\" alt=\"Open In Colab\"/></a>"
      ]
    },
    {
      "cell_type": "markdown",
      "metadata": {
        "id": "VO_mKi5AbX8C",
        "colab_type": "text"
      },
      "source": [
        "\n",
        "# **Explanatory Analysis of 188 Million Wild Fires:**\n",
        "by: ***Daniel Scurlock*** (3/2/20)\n",
        "\n",
        "\n",
        "---\n",
        "\n",
        "\n",
        "\n",
        "# *Dataset Description:*\n",
        "https://www.kaggle.com/rtatman/188-million-us-wildfires\n",
        "\n",
        "This data publication contains a spatial database of wildfires that occurred in the United States from 1992 to 2015. It is the third update of a publication originally generated to support the national Fire Program Analysis (FPA) system. The wildfire records were acquired from the reporting systems of federal, state, and local fire organizations. The following core data elements were required for records to be included in this data publication: discovery date, final fire size, and a point location at least as precise as Public Land Survey System (PLSS) section (1-square mile grid). The data were transformed to conform, when possible, to the data standards of the National Wildfire Coordinating Group (NWCG). Basic error-checking was performed and redundant records were identified and removed, to the degree possible. The resulting product, referred to as the Fire Program Analysis fire-occurrence database (FPA FOD), includes 1.88 million geo-referenced wildfire records, representing a total of 140 million acres burned during the 24-year period.\n",
        "\n",
        "\n",
        "---\n",
        "\n",
        "\n",
        "***I will try to be as thorough as possible. My goal here is to ask questions and exmplain those answers with visulalizations***"
      ]
    },
    {
      "cell_type": "code",
      "metadata": {
        "id": "1_smPhV7ckDY",
        "colab_type": "code",
        "colab": {
          "base_uri": "https://localhost:8080/",
          "height": 377
        },
        "outputId": "83582f55-203d-4a35-cd94-2a9de2d4b822"
      },
      "source": [
        "!pip install geoplot"
      ],
      "execution_count": 2,
      "outputs": [
        {
          "output_type": "stream",
          "text": [
            "Collecting geoplot\n",
            "  Downloading https://files.pythonhosted.org/packages/a0/40/40c264002dfba4736f35c3524f6a0e7a03458fb4fcc436ce501f541359b7/geoplot-0.4.0-py3-none-any.whl\n",
            "Requirement already satisfied: descartes in /usr/local/lib/python3.6/dist-packages (from geoplot) (1.1.0)\n",
            "Collecting geopandas\n",
            "\u001b[?25l  Downloading https://files.pythonhosted.org/packages/83/c5/3cf9cdc39a6f2552922f79915f36b45a95b71fd343cfc51170a5b6ddb6e8/geopandas-0.7.0-py2.py3-none-any.whl (928kB)\n",
            "\u001b[K     |████████████████████████████████| 931kB 7.6MB/s \n",
            "\u001b[?25hCollecting contextily>=1.0rc2\n",
            "  Downloading https://files.pythonhosted.org/packages/bb/e0/fd2f860ac34c97c1370514a1fa37d33c46dca5bea8a6f49dc167fbffbc1f/contextily-1.0rc2-py3-none-any.whl\n",
            "Requirement already satisfied: pandas in /usr/local/lib/python3.6/dist-packages (from geoplot) (0.25.3)\n",
            "Requirement already satisfied: seaborn in /usr/local/lib/python3.6/dist-packages (from geoplot) (0.10.0)\n",
            "Collecting mapclassify\n",
            "\u001b[?25l  Downloading https://files.pythonhosted.org/packages/91/b5/6b54f40901d89f2ce30cf2d8110dd57658db3e95db79baba6706d7588691/mapclassify-2.2.0.tar.gz (47kB)\n",
            "\u001b[K     |████████████████████████████████| 51kB 7.7MB/s \n",
            "\u001b[?25hRequirement already satisfied: matplotlib in /usr/local/lib/python3.6/dist-packages (from geoplot) (3.1.3)\n",
            "Collecting cartopy\n",
            "\u001b[?25l  Downloading https://files.pythonhosted.org/packages/e5/92/fe8838fa8158931906dfc4f16c5c1436b3dd2daf83592645b179581403ad/Cartopy-0.17.0.tar.gz (8.9MB)\n",
            "\u001b[K     |████████████████████████████████| 8.9MB 30.9MB/s \n",
            "\u001b[?25h  Installing build dependencies ... \u001b[?25l\u001b[?25hdone\n",
            "  Getting requirements to build wheel ... \u001b[?25l\u001b[?25herror\n",
            "\u001b[31mERROR: Command errored out with exit status 1: /usr/bin/python3 /usr/local/lib/python3.6/dist-packages/pip/_vendor/pep517/_in_process.py get_requires_for_build_wheel /tmp/tmpprmwkudv Check the logs for full command output.\u001b[0m\n"
          ],
          "name": "stdout"
        }
      ]
    },
    {
      "cell_type": "code",
      "metadata": {
        "id": "wikar6ykcBS6",
        "colab_type": "code",
        "colab": {}
      },
      "source": [
        "# Get things ready for analysis\n",
        "import pandas as pd\n",
        "from scipy.stats import ttest_ind, ttest_ind_from_stats\n",
        "from scipy.special import stdtr\n",
        "import matplotlib.pyplot as plt\n",
        "import descartes \n",
        "from shapely.geometry import Point, Polygon\n",
        "import numpy as np"
      ],
      "execution_count": 0,
      "outputs": []
    },
    {
      "cell_type": "code",
      "metadata": {
        "id": "BIoLxL1TcejJ",
        "colab_type": "code",
        "colab": {
          "base_uri": "https://localhost:8080/",
          "height": 71
        },
        "outputId": "a9fe0e70-f074-4f41-f90a-1dc11aa3fb16"
      },
      "source": [
        "# Get the previously created CSV into place for tomorrow\n",
        "df = pd.read_csv('/content/drive/My Drive/Lambda/DSU1-BUILD/data/firesfinal.csv', index_col=0 , infer_datetime_format=True)"
      ],
      "execution_count": 4,
      "outputs": [
        {
          "output_type": "stream",
          "text": [
            "/usr/local/lib/python3.6/dist-packages/numpy/lib/arraysetops.py:568: FutureWarning: elementwise comparison failed; returning scalar instead, but in the future will perform elementwise comparison\n",
            "  mask |= (ar1 == a)\n"
          ],
          "name": "stderr"
        }
      ]
    },
    {
      "cell_type": "markdown",
      "metadata": {
        "id": "s-0nx52wpjX6",
        "colab_type": "text"
      },
      "source": [
        "# **A regional analysis of wildfires**\n",
        "I will compare and contrast wildfire data based on region. I want to know the frequency of fires per region, and the average acreage burned. I want to identify the most frequest cause of of those fires per region. I also want to identify the months where fires are more frequent"
      ]
    },
    {
      "cell_type": "code",
      "metadata": {
        "id": "ZZxihKuRmyNn",
        "colab_type": "code",
        "colab": {}
      },
      "source": [
        "from IPython.display import display, Image\n",
        "\n",
        "# GRAB ME AN IMAGE, AND THEME OTHER THINGS ACCORDINGLY.\n",
        "url = 'https://www.eia.gov/consumption/commercial/images/cendivco_new.gif'\n",
        "regional = Image(url=url, width=500)\n",
        "\n"
      ],
      "execution_count": 0,
      "outputs": []
    },
    {
      "cell_type": "code",
      "metadata": {
        "id": "4rQnFiL3dOGJ",
        "colab_type": "code",
        "colab": {
          "base_uri": "https://localhost:8080/",
          "height": 309
        },
        "outputId": "7d5c7815-95f3-4794-cb67-ddfd21cd3d4b"
      },
      "source": [
        "df.head()"
      ],
      "execution_count": 6,
      "outputs": [
        {
          "output_type": "execute_result",
          "data": {
            "text/html": [
              "<div>\n",
              "<style scoped>\n",
              "    .dataframe tbody tr th:only-of-type {\n",
              "        vertical-align: middle;\n",
              "    }\n",
              "\n",
              "    .dataframe tbody tr th {\n",
              "        vertical-align: top;\n",
              "    }\n",
              "\n",
              "    .dataframe thead th {\n",
              "        text-align: right;\n",
              "    }\n",
              "</style>\n",
              "<table border=\"1\" class=\"dataframe\">\n",
              "  <thead>\n",
              "    <tr style=\"text-align: right;\">\n",
              "      <th></th>\n",
              "      <th>STAT_CAUSE_DESCR</th>\n",
              "      <th>FIRE_SIZE</th>\n",
              "      <th>FIRE_SIZE_CLASS</th>\n",
              "      <th>LATITUDE</th>\n",
              "      <th>LONGITUDE</th>\n",
              "      <th>STATE</th>\n",
              "      <th>DATE</th>\n",
              "      <th>YEAR</th>\n",
              "      <th>MONTH</th>\n",
              "      <th>DAY</th>\n",
              "      <th>WEEKDAY</th>\n",
              "      <th>HEINSELMAN</th>\n",
              "      <th>STATE_NAME</th>\n",
              "      <th>REGION</th>\n",
              "      <th>DIVISION</th>\n",
              "    </tr>\n",
              "  </thead>\n",
              "  <tbody>\n",
              "    <tr>\n",
              "      <th>0</th>\n",
              "      <td>Other</td>\n",
              "      <td>0.10</td>\n",
              "      <td>A</td>\n",
              "      <td>40.036944</td>\n",
              "      <td>-121.005833</td>\n",
              "      <td>CA</td>\n",
              "      <td>2005-02-02</td>\n",
              "      <td>2005</td>\n",
              "      <td>February</td>\n",
              "      <td>2</td>\n",
              "      <td>Wednesday</td>\n",
              "      <td>small</td>\n",
              "      <td>California</td>\n",
              "      <td>West</td>\n",
              "      <td>Pacific</td>\n",
              "    </tr>\n",
              "    <tr>\n",
              "      <th>1</th>\n",
              "      <td>Lightning</td>\n",
              "      <td>0.25</td>\n",
              "      <td>A</td>\n",
              "      <td>38.933056</td>\n",
              "      <td>-120.404444</td>\n",
              "      <td>CA</td>\n",
              "      <td>2004-05-12</td>\n",
              "      <td>2004</td>\n",
              "      <td>May</td>\n",
              "      <td>12</td>\n",
              "      <td>Wednesday</td>\n",
              "      <td>small</td>\n",
              "      <td>California</td>\n",
              "      <td>West</td>\n",
              "      <td>Pacific</td>\n",
              "    </tr>\n",
              "    <tr>\n",
              "      <th>2</th>\n",
              "      <td>Debris Burning</td>\n",
              "      <td>0.10</td>\n",
              "      <td>A</td>\n",
              "      <td>38.984167</td>\n",
              "      <td>-120.735556</td>\n",
              "      <td>CA</td>\n",
              "      <td>2004-05-31</td>\n",
              "      <td>2004</td>\n",
              "      <td>May</td>\n",
              "      <td>31</td>\n",
              "      <td>Monday</td>\n",
              "      <td>small</td>\n",
              "      <td>California</td>\n",
              "      <td>West</td>\n",
              "      <td>Pacific</td>\n",
              "    </tr>\n",
              "    <tr>\n",
              "      <th>3</th>\n",
              "      <td>Lightning</td>\n",
              "      <td>0.10</td>\n",
              "      <td>A</td>\n",
              "      <td>38.559167</td>\n",
              "      <td>-119.913333</td>\n",
              "      <td>CA</td>\n",
              "      <td>2004-06-28</td>\n",
              "      <td>2004</td>\n",
              "      <td>June</td>\n",
              "      <td>28</td>\n",
              "      <td>Monday</td>\n",
              "      <td>small</td>\n",
              "      <td>California</td>\n",
              "      <td>West</td>\n",
              "      <td>Pacific</td>\n",
              "    </tr>\n",
              "    <tr>\n",
              "      <th>4</th>\n",
              "      <td>Lightning</td>\n",
              "      <td>0.10</td>\n",
              "      <td>A</td>\n",
              "      <td>38.559167</td>\n",
              "      <td>-119.933056</td>\n",
              "      <td>CA</td>\n",
              "      <td>2004-06-28</td>\n",
              "      <td>2004</td>\n",
              "      <td>June</td>\n",
              "      <td>28</td>\n",
              "      <td>Monday</td>\n",
              "      <td>small</td>\n",
              "      <td>California</td>\n",
              "      <td>West</td>\n",
              "      <td>Pacific</td>\n",
              "    </tr>\n",
              "  </tbody>\n",
              "</table>\n",
              "</div>"
            ],
            "text/plain": [
              "  STAT_CAUSE_DESCR  FIRE_SIZE FIRE_SIZE_CLASS  ...  STATE_NAME  REGION DIVISION\n",
              "0            Other       0.10               A  ...  California    West  Pacific\n",
              "1        Lightning       0.25               A  ...  California    West  Pacific\n",
              "2   Debris Burning       0.10               A  ...  California    West  Pacific\n",
              "3        Lightning       0.10               A  ...  California    West  Pacific\n",
              "4        Lightning       0.10               A  ...  California    West  Pacific\n",
              "\n",
              "[5 rows x 15 columns]"
            ]
          },
          "metadata": {
            "tags": []
          },
          "execution_count": 6
        }
      ]
    },
    {
      "cell_type": "code",
      "metadata": {
        "id": "WXQOnEeonWqh",
        "colab_type": "code",
        "colab": {
          "base_uri": "https://localhost:8080/",
          "height": 289
        },
        "outputId": "39710de0-0ca8-4caa-b4a1-f4e42b8f6f0c"
      },
      "source": [
        "df.dtypes"
      ],
      "execution_count": 7,
      "outputs": [
        {
          "output_type": "execute_result",
          "data": {
            "text/plain": [
              "STAT_CAUSE_DESCR     object\n",
              "FIRE_SIZE           float64\n",
              "FIRE_SIZE_CLASS      object\n",
              "LATITUDE            float64\n",
              "LONGITUDE           float64\n",
              "STATE                object\n",
              "DATE                 object\n",
              "YEAR                  int64\n",
              "MONTH                object\n",
              "DAY                   int64\n",
              "WEEKDAY              object\n",
              "HEINSELMAN           object\n",
              "STATE_NAME           object\n",
              "REGION               object\n",
              "DIVISION             object\n",
              "dtype: object"
            ]
          },
          "metadata": {
            "tags": []
          },
          "execution_count": 7
        }
      ]
    },
    {
      "cell_type": "code",
      "metadata": {
        "id": "hZ26HdtktYwo",
        "colab_type": "code",
        "colab": {
          "base_uri": "https://localhost:8080/",
          "height": 102
        },
        "outputId": "f8a9decf-153f-4162-e3c4-b98e3bd680e3"
      },
      "source": [
        "# What kind of regions do we have?\n",
        "df['REGION'].value_counts()"
      ],
      "execution_count": 8,
      "outputs": [
        {
          "output_type": "execute_result",
          "data": {
            "text/plain": [
              "South        950358\n",
              "West         589422\n",
              "Midwest      178933\n",
              "Northeast    139671\n",
              "Name: REGION, dtype: int64"
            ]
          },
          "metadata": {
            "tags": []
          },
          "execution_count": 8
        }
      ]
    },
    {
      "cell_type": "code",
      "metadata": {
        "id": "x_ZYVoTWl2CY",
        "colab_type": "code",
        "colab": {
          "base_uri": "https://localhost:8080/",
          "height": 187
        },
        "outputId": "ceadaea2-6a82-4adc-981a-05c9e2211c74"
      },
      "source": [
        "df['DIVISION'].value_counts()"
      ],
      "execution_count": 9,
      "outputs": [
        {
          "output_type": "execute_result",
          "data": {
            "text/plain": [
              "South Atlantic        499379\n",
              "Pacific               306889\n",
              "Mountain              282533\n",
              "West South Central    246936\n",
              "East South Central    204043\n",
              "West North Central    128666\n",
              "Middle Atlantic       115531\n",
              "East North Central     50267\n",
              "New England            24140\n",
              "Name: DIVISION, dtype: int64"
            ]
          },
          "metadata": {
            "tags": []
          },
          "execution_count": 9
        }
      ]
    },
    {
      "cell_type": "code",
      "metadata": {
        "id": "vqekH4D2nH7s",
        "colab_type": "code",
        "colab": {
          "base_uri": "https://localhost:8080/",
          "height": 421
        },
        "outputId": "1eeaf5bf-ea64-47ef-a349-6ea646567f27"
      },
      "source": [
        "display(regional)"
      ],
      "execution_count": 10,
      "outputs": [
        {
          "output_type": "display_data",
          "data": {
            "text/html": [
              "<img src=\"https://www.eia.gov/consumption/commercial/images/cendivco_new.gif\" width=\"500\"/>"
            ],
            "text/plain": [
              "<IPython.core.display.Image object>"
            ]
          },
          "metadata": {
            "tags": []
          }
        }
      ]
    },
    {
      "cell_type": "code",
      "metadata": {
        "id": "yDylw1ueb2UU",
        "colab_type": "code",
        "colab": {}
      },
      "source": [
        "# Subset for each region\n",
        "south = df[df['REGION'] == 'South']\n",
        "west = df[df['REGION'] == 'West']\n",
        "midwest = df[df['REGION'] == 'Midwest']\n",
        "northeast = df[df['REGION'] == 'Northeast']\n",
        "\n",
        "# Subset for features\n",
        "# 1 - Year [total_fires, average_size]\n",
        "# 2 - Month [total_fires, average_size]\n",
        "# 3 - Cause [total_fires, average_size]"
      ],
      "execution_count": 0,
      "outputs": []
    },
    {
      "cell_type": "markdown",
      "metadata": {
        "id": "uQ5D3mlC0jDQ",
        "colab_type": "text"
      },
      "source": [
        "Fires per year, grouped by region:"
      ]
    },
    {
      "cell_type": "code",
      "metadata": {
        "id": "7Pw8UcQ4vULl",
        "colab_type": "code",
        "colab": {
          "base_uri": "https://localhost:8080/",
          "height": 587
        },
        "outputId": "e815e976-16ee-43c8-d929-36d9a092b72b"
      },
      "source": [
        "# Colors for stacks:\n",
        "# Midwest = 5098CB\n",
        "# Northeast = 70A225\n",
        "# South = C07A27\n",
        "# West = A7373F\n",
        "\n",
        "plt.style.use('fivethirtyeight')\n",
        "fig, ax = plt.subplots(figsize=(10,8)) \n",
        "dfyearbyregion = df.groupby(['YEAR','REGION']).size().unstack()\n",
        "dfyearbyregion.plot(kind='barh',stacked=True, ax=ax, colors=['#5098CB', '#70A225', '#C07A27', '#A7373F'])\n",
        "\n",
        "ax.set_title('Yearly Fires grouped by Region',\n",
        "             rotation='vertical', \n",
        "             loc = 'left', \n",
        "             color = 'Grey', \n",
        "             fontsize=16, \n",
        "             fontweight = 'semibold', \n",
        "             x=-0.12, \n",
        "             y=0.19)\n",
        "\n",
        "ax.set_xlabel('Fires (in thousands)', \n",
        "               color='Grey', \n",
        "               fontsize=12, \n",
        "               fontweight='bold')\n",
        "\n",
        "\n",
        "# MY BRAIN WENT BLANK. I ACTUALLY FORGOT\n",
        "# HOW TO DO THIS THE NOT RETARDED WAY. \n",
        "ax.set_xticks([0, \n",
        "               5000, \n",
        "               10000, \n",
        "               15000, \n",
        "               20000, \n",
        "               25000, \n",
        "               30000, \n",
        "               35000, \n",
        "               40000, \n",
        "               45000, \n",
        "               50000, \n",
        "               55000, \n",
        "               60000, \n",
        "               65000,\n",
        "               70000,\n",
        "               75000,\n",
        "               80000,\n",
        "               85000,\n",
        "               90000,\n",
        "               95000,\n",
        "               100000,\n",
        "               105000,\n",
        "               110000,\n",
        "               115000,\n",
        "               120000])\n",
        "\n",
        "ax.set_xticklabels(labels = ['0', '5','10', '15' ,'20', '25', '30', '35', '40', '45', '50',\n",
        "                             '55','60', '65','70', '75', '80', '85', '90', '95', '100', '105',\n",
        "                             '110','115','120'], \n",
        "                      rotation='horizontal', \n",
        "                      color='grey', \n",
        "                      fontsize=8,\n",
        "                      fontweight='bold')\n",
        "\n",
        "ax.set_ylabel('Year (1992 - 2015)', \n",
        "               color='DarkGrey', \n",
        "               fontsize=12, \n",
        "               fontweight='bold')\n",
        "\n",
        "ax.set_yticklabels(labels = ['1992','1993','1994','1995','1996','1997','1998',\n",
        "                             '1999','2000','2001','2002','2003','2004','2005',\n",
        "                             '2006','2007', '2008','2009','2010','2011','2012',\n",
        "                             '2013','2014','2015'], \n",
        "                      color='grey', \n",
        "                      fontsize=8,\n",
        "                      fontweight='bold')\n",
        "\n",
        "# Border removal\n",
        "ax.spines['top'].set_visible(False)\n",
        "ax.spines['right'].set_visible(True)\n",
        "ax.spines['bottom'].set_visible(False)\n",
        "ax.spines['left'].set_visible(False)\n",
        "\n",
        "# Grid\n",
        "ax.grid(axis='y')\n",
        "\n",
        "# Need some padding for the tick labels it looks like\n",
        "ax.tick_params(axis='both', which='major', pad=10)\n",
        "\n",
        "fig.patch.set(facecolor='white')\n",
        "ax.set(facecolor='white')\n",
        "\n",
        "plt.show()"
      ],
      "execution_count": 12,
      "outputs": [
        {
          "output_type": "stream",
          "text": [
            "/usr/local/lib/python3.6/dist-packages/pandas/plotting/_matplotlib/core.py:203: UserWarning: 'colors' is being deprecated. Please use 'color'instead of 'colors'\n",
            "  \"'colors' is being deprecated. Please use 'color'\"\n"
          ],
          "name": "stderr"
        },
        {
          "output_type": "display_data",
          "data": {
            "image/png": "[encoded data removed]",
            "text/plain": [
              "<Figure size 720x576 with 1 Axes>"
            ]
          },
          "metadata": {
            "tags": []
          }
        }
      ]
    },
    {
      "cell_type": "markdown",
      "metadata": {
        "id": "YobG2X1VwtZH",
        "colab_type": "text"
      },
      "source": [
        "# Statistical significance\n",
        "looking for anything statistically significant to talk about."
      ]
    },
    {
      "cell_type": "markdown",
      "metadata": {
        "id": "_exCi0U7SA_g",
        "colab_type": "text"
      },
      "source": [
        ""
      ]
    },
    {
      "cell_type": "markdown",
      "metadata": {
        "id": "GYIcEVWRR_dL",
        "colab_type": "text"
      },
      "source": [
        ""
      ]
    },
    {
      "cell_type": "code",
      "metadata": {
        "id": "3mNrfUuBjcml",
        "colab_type": "code",
        "colab": {}
      },
      "source": [
        "# Want to perform from testing, both on numerical \n",
        "# and catagorical data.\n",
        "\n",
        "# The first of which is the ttest on the size of the fire\n",
        "# The t test tells us how significant the differences in \n",
        "# fire size is between regions, and if those differences \n",
        "# (measured in means/averages) could have happened by chance.\n",
        "\n",
        "dfs = [[south, 'south'],\n",
        "       [west, 'west'], \n",
        "       [midwest, 'midwest'], \n",
        "       [northeast, 'northeast']]\n",
        "\n",
        "\n",
        "tmplist = []\n",
        "for rega in dfs:\n",
        "  for regb in dfs:\n",
        "    if rega[1] != regb[1]:\n",
        "      t, p = ttest_ind(rega[0]['FIRE_SIZE'], regb[0]['FIRE_SIZE'], nan_policy='omit')\n",
        "      tmplist.append([rega[1], regb[1], abs(t), p])\n",
        "\n",
        "tpdf = pd.DataFrame(tmplist, columns=['rega', 'regb', 't-vaule', 'p-value'])\n",
        "\n",
        "tpdf['conclusion'] = ['fail to reject' if x >= 0.5 else 'reject' for x in tpdf['p-value']]"
      ],
      "execution_count": 0,
      "outputs": []
    },
    {
      "cell_type": "code",
      "metadata": {
        "id": "RDSwsvnVsP6X",
        "colab_type": "code",
        "colab": {
          "base_uri": "https://localhost:8080/",
          "height": 421
        },
        "outputId": "66577229-8ab7-44eb-b9de-35428607cc9c"
      },
      "source": [
        "tpdf.head(20)"
      ],
      "execution_count": 15,
      "outputs": [
        {
          "output_type": "execute_result",
          "data": {
            "text/html": [
              "<div>\n",
              "<style scoped>\n",
              "    .dataframe tbody tr th:only-of-type {\n",
              "        vertical-align: middle;\n",
              "    }\n",
              "\n",
              "    .dataframe tbody tr th {\n",
              "        vertical-align: top;\n",
              "    }\n",
              "\n",
              "    .dataframe thead th {\n",
              "        text-align: right;\n",
              "    }\n",
              "</style>\n",
              "<table border=\"1\" class=\"dataframe\">\n",
              "  <thead>\n",
              "    <tr style=\"text-align: right;\">\n",
              "      <th></th>\n",
              "      <th>rega</th>\n",
              "      <th>regb</th>\n",
              "      <th>t-vaule</th>\n",
              "      <th>p-value</th>\n",
              "      <th>conclusion</th>\n",
              "    </tr>\n",
              "  </thead>\n",
              "  <tbody>\n",
              "    <tr>\n",
              "      <th>0</th>\n",
              "      <td>south</td>\n",
              "      <td>west</td>\n",
              "      <td>34.088523</td>\n",
              "      <td>1.359087e-254</td>\n",
              "      <td>reject</td>\n",
              "    </tr>\n",
              "    <tr>\n",
              "      <th>1</th>\n",
              "      <td>south</td>\n",
              "      <td>midwest</td>\n",
              "      <td>2.138238</td>\n",
              "      <td>3.249762e-02</td>\n",
              "      <td>reject</td>\n",
              "    </tr>\n",
              "    <tr>\n",
              "      <th>2</th>\n",
              "      <td>south</td>\n",
              "      <td>northeast</td>\n",
              "      <td>8.725730</td>\n",
              "      <td>2.648306e-18</td>\n",
              "      <td>reject</td>\n",
              "    </tr>\n",
              "    <tr>\n",
              "      <th>3</th>\n",
              "      <td>west</td>\n",
              "      <td>south</td>\n",
              "      <td>34.088523</td>\n",
              "      <td>1.359087e-254</td>\n",
              "      <td>reject</td>\n",
              "    </tr>\n",
              "    <tr>\n",
              "      <th>4</th>\n",
              "      <td>west</td>\n",
              "      <td>midwest</td>\n",
              "      <td>14.917556</td>\n",
              "      <td>2.575363e-50</td>\n",
              "      <td>reject</td>\n",
              "    </tr>\n",
              "    <tr>\n",
              "      <th>5</th>\n",
              "      <td>west</td>\n",
              "      <td>northeast</td>\n",
              "      <td>15.940912</td>\n",
              "      <td>3.369421e-57</td>\n",
              "      <td>reject</td>\n",
              "    </tr>\n",
              "    <tr>\n",
              "      <th>6</th>\n",
              "      <td>midwest</td>\n",
              "      <td>south</td>\n",
              "      <td>2.138238</td>\n",
              "      <td>3.249762e-02</td>\n",
              "      <td>reject</td>\n",
              "    </tr>\n",
              "    <tr>\n",
              "      <th>7</th>\n",
              "      <td>midwest</td>\n",
              "      <td>west</td>\n",
              "      <td>14.917556</td>\n",
              "      <td>2.575363e-50</td>\n",
              "      <td>reject</td>\n",
              "    </tr>\n",
              "    <tr>\n",
              "      <th>8</th>\n",
              "      <td>midwest</td>\n",
              "      <td>northeast</td>\n",
              "      <td>16.681996</td>\n",
              "      <td>1.883756e-62</td>\n",
              "      <td>reject</td>\n",
              "    </tr>\n",
              "    <tr>\n",
              "      <th>9</th>\n",
              "      <td>northeast</td>\n",
              "      <td>south</td>\n",
              "      <td>8.725730</td>\n",
              "      <td>2.648306e-18</td>\n",
              "      <td>reject</td>\n",
              "    </tr>\n",
              "    <tr>\n",
              "      <th>10</th>\n",
              "      <td>northeast</td>\n",
              "      <td>west</td>\n",
              "      <td>15.940912</td>\n",
              "      <td>3.369421e-57</td>\n",
              "      <td>reject</td>\n",
              "    </tr>\n",
              "    <tr>\n",
              "      <th>11</th>\n",
              "      <td>northeast</td>\n",
              "      <td>midwest</td>\n",
              "      <td>16.681996</td>\n",
              "      <td>1.883756e-62</td>\n",
              "      <td>reject</td>\n",
              "    </tr>\n",
              "  </tbody>\n",
              "</table>\n",
              "</div>"
            ],
            "text/plain": [
              "         rega       regb    t-vaule        p-value conclusion\n",
              "0       south       west  34.088523  1.359087e-254     reject\n",
              "1       south    midwest   2.138238   3.249762e-02     reject\n",
              "2       south  northeast   8.725730   2.648306e-18     reject\n",
              "3        west      south  34.088523  1.359087e-254     reject\n",
              "4        west    midwest  14.917556   2.575363e-50     reject\n",
              "5        west  northeast  15.940912   3.369421e-57     reject\n",
              "6     midwest      south   2.138238   3.249762e-02     reject\n",
              "7     midwest       west  14.917556   2.575363e-50     reject\n",
              "8     midwest  northeast  16.681996   1.883756e-62     reject\n",
              "9   northeast      south   8.725730   2.648306e-18     reject\n",
              "10  northeast       west  15.940912   3.369421e-57     reject\n",
              "11  northeast    midwest  16.681996   1.883756e-62     reject"
            ]
          },
          "metadata": {
            "tags": []
          },
          "execution_count": 15
        }
      ]
    },
    {
      "cell_type": "markdown",
      "metadata": {
        "id": "OKLtkU-D2kcy",
        "colab_type": "text"
      },
      "source": [
        "The results of the ttests were pretty straight forward. There is a statistically significant difference between regions when it comes to the amount of acreage burned during a wildfire. Though the difference varied. This is probably because of the distace between regions. The biggest difference is between the south and the west. I can use that information. "
      ]
    },
    {
      "cell_type": "code",
      "metadata": {
        "id": "Om7kYdyctfq6",
        "colab_type": "code",
        "colab": {}
      },
      "source": [
        "# Building us a dataframe to show region\n",
        "# number of fires, and mean acerage, and \n",
        "# plot this\n",
        "\n",
        "regions = ['South', 'West', 'Midwest', 'Northeast']\n",
        "\n",
        "tmp = []\n",
        "\n",
        "for r in regions:\n",
        "  tmpdf = df[df['REGION'] == r]\n",
        "  \n",
        "  total_fires = tmpdf['REGION'].value_counts().sum()\n",
        "  total_acres = tmpdf['FIRE_SIZE'].sum() / 100000000 # Get the number in trillions\n",
        "  mean_size = tmpdf['FIRE_SIZE'].mean()\n",
        "  tmp.append([r, total_acres, mean_size])\n",
        "\n",
        "regdf = pd.DataFrame(tmp, columns=['Region', \n",
        "                                   'Total Acreage',\n",
        "                                   'Mean' \n",
        "                                   ])\n",
        "\n"
      ],
      "execution_count": 0,
      "outputs": []
    },
    {
      "cell_type": "code",
      "metadata": {
        "id": "Dhh52r75v48W",
        "colab_type": "code",
        "colab": {
          "base_uri": "https://localhost:8080/",
          "height": 173
        },
        "outputId": "daa35f35-59f9-4255-e3de-0654704ca2ff"
      },
      "source": [
        "regdf.head()"
      ],
      "execution_count": 152,
      "outputs": [
        {
          "output_type": "execute_result",
          "data": {
            "text/html": [
              "<div>\n",
              "<style scoped>\n",
              "    .dataframe tbody tr th:only-of-type {\n",
              "        vertical-align: middle;\n",
              "    }\n",
              "\n",
              "    .dataframe tbody tr th {\n",
              "        vertical-align: top;\n",
              "    }\n",
              "\n",
              "    .dataframe thead th {\n",
              "        text-align: right;\n",
              "    }\n",
              "</style>\n",
              "<table border=\"1\" class=\"dataframe\">\n",
              "  <thead>\n",
              "    <tr style=\"text-align: right;\">\n",
              "      <th></th>\n",
              "      <th>Region</th>\n",
              "      <th>Total Acreage</th>\n",
              "      <th>Mean</th>\n",
              "    </tr>\n",
              "  </thead>\n",
              "  <tbody>\n",
              "    <tr>\n",
              "      <th>0</th>\n",
              "      <td>South</td>\n",
              "      <td>0.260355</td>\n",
              "      <td>27.395502</td>\n",
              "    </tr>\n",
              "    <tr>\n",
              "      <th>1</th>\n",
              "      <td>West</td>\n",
              "      <td>1.077219</td>\n",
              "      <td>182.758497</td>\n",
              "    </tr>\n",
              "    <tr>\n",
              "      <th>2</th>\n",
              "      <td>Midwest</td>\n",
              "      <td>0.059081</td>\n",
              "      <td>33.018378</td>\n",
              "    </tr>\n",
              "    <tr>\n",
              "      <th>3</th>\n",
              "      <td>Northeast</td>\n",
              "      <td>0.003284</td>\n",
              "      <td>2.351031</td>\n",
              "    </tr>\n",
              "  </tbody>\n",
              "</table>\n",
              "</div>"
            ],
            "text/plain": [
              "      Region  Total Acreage        Mean\n",
              "0      South       0.260355   27.395502\n",
              "1       West       1.077219  182.758497\n",
              "2    Midwest       0.059081   33.018378\n",
              "3  Northeast       0.003284    2.351031"
            ]
          },
          "metadata": {
            "tags": []
          },
          "execution_count": 152
        }
      ]
    },
    {
      "cell_type": "markdown",
      "metadata": {
        "id": "FtOJTGIZ8T16",
        "colab_type": "text"
      },
      "source": [
        "I can see now that, while more fires occured in the south, the size of those fires were signiicantly smaller than those from the west. This explains the high t-vales from above. Getting some data for total fires by region, and adding info\n",
        "concerning total acreage and mean fire size for plotting. "
      ]
    },
    {
      "cell_type": "code",
      "metadata": {
        "colab_type": "code",
        "outputId": "80b6dcca-2a0d-409c-802e-a7af24dabe75",
        "id": "sXy-jVkDEJH4",
        "colab": {
          "base_uri": "https://localhost:8080/",
          "height": 406
        }
      },
      "source": [
        "# Colors for stacks:\n",
        "# Midwest = 5098CB\n",
        "# Northeast = 70A225\n",
        "# South = C07A27\n",
        "# West = A7373F\n",
        "\n",
        "plt.style.use('fivethirtyeight')\n",
        "fig, ax = plt.subplots(figsize=(10,4)) \n",
        "dfyearbyregion = df.groupby(['REGION']).size()\n",
        "bar_plot = dfyearbyregion.plot(kind='barh', ax=ax, colors=['#5098CB', '#70A225', '#C07A27', '#A7373F'])\n",
        "\n",
        "ax.set_title('Wildfire Totals', \n",
        "             loc = 'left', \n",
        "             color = 'Grey', \n",
        "             fontsize=16, \n",
        "             fontweight = 'semibold', \n",
        "             x=.4, \n",
        "             y=1)\n",
        "\n",
        "ax.set_xlabel('Fires', \n",
        "               color='Grey', \n",
        "               fontsize=12, \n",
        "               fontweight='bold')\n",
        "ax.set_xticks([0, \n",
        "               100000, \n",
        "               200000, \n",
        "               300000, \n",
        "               400000, \n",
        "               500000, \n",
        "               600000, \n",
        "               700000, \n",
        "               800000, \n",
        "               900000, \n",
        "               1000000])\n",
        "\n",
        "ax.set_xticklabels(labels = ['0', '100K','200K', '300K' ,'400K', '500K', '600K', '700K', '800K', '900K', '1M'], \n",
        "                      rotation='horizontal', \n",
        "                      color='grey', \n",
        "                      fontsize=9,\n",
        "                      fontweight='bold')\n",
        "\n",
        "\n",
        "\n",
        "ax.set_ylabel('Region', \n",
        "               color='DarkGrey', \n",
        "               fontsize=12, \n",
        "               fontweight='bold')\n",
        "\n",
        "ax.set_yticklabels(labels = ['Midwest', 'Northeast', 'South', 'West'], \n",
        "                      color='grey', \n",
        "                      fontsize=8,\n",
        "                      fontweight='bold')\n",
        "\n",
        "# Border removal\n",
        "ax.spines['top'].set_visible(False)\n",
        "ax.spines['right'].set_visible(True)\n",
        "ax.spines['bottom'].set_visible(False)\n",
        "ax.spines['left'].set_visible(False)\n",
        "\n",
        "# Grid\n",
        "ax.grid(axis='y')\n",
        "\n",
        "\n",
        "\n",
        "\n",
        "# Need some padding for the tick labels it looks like\n",
        "ax.tick_params(axis='both', which='major', pad=10)\n",
        "\n",
        "fig.patch.set(facecolor='white')\n",
        "ax.set(facecolor='white')\n",
        "\n",
        "# From my analysis above, I can add the total acreage to these bars\n",
        "# to give an idea of how severe fires are in each reagion\n",
        "# West = 1.077219 Trillion acres\n",
        "# South = 260.355341 Million Acres\n",
        "# Northeast = 3.283709 Million\n",
        "# Midwest = 59.080775 Million\n",
        "\n",
        "\n",
        "fig.text(s ='Total Acreage: 1 Trillion\\nAverage Fire Size: 182.75 Acres', \n",
        "        x=0.62, \n",
        "        y=.75, \n",
        "        fontsize=10, \n",
        "        color='#A7373F', \n",
        "        fontweight='bold')\n",
        "\n",
        "\n",
        "fig.text(s ='Total Acreage: 260 Million\\nAverage Fire Size: 27.39 Acres', \n",
        "        x=0.7, \n",
        "        y=.43, \n",
        "        fontsize=10, \n",
        "        color='#C07A27', \n",
        "        fontweight='bold')\n",
        "\n",
        "\n",
        "\n",
        "\n",
        "fig.text(s ='Total Acreage: 3 Million\\nAverage Fire Size: 33 Acres', \n",
        "        x=0.22, \n",
        "        y=.35, \n",
        "        fontsize=10, \n",
        "        color='#70A225', \n",
        "        fontweight='bold')\n",
        "\n",
        "\n",
        "\n",
        "fig.text(s ='Total Acreage: 59 Million\\nAverage Fire Size: 2.35 Acres', \n",
        "        x=0.25, \n",
        "        y=.14, \n",
        "        fontsize=10, \n",
        "        color='#5098CB', \n",
        "        fontweight='bold')\n",
        "\n",
        "theline = plt.Line2D([0, 1], [-.14, -.14], transform=fig.transFigure, \n",
        "                  figure=fig, color='lightgray', linewidth=2)\n",
        "\n",
        "fig.lines.extend([theline])\n",
        "\n",
        "fig.text(s ='Wildfires', \n",
        "        x=.96, \n",
        "        y=-.17, \n",
        "        fontsize=7, \n",
        "        color='grey', \n",
        "        fontweight='bold')\n",
        "\n",
        "fig.text(s ='DANIEL SCURLOCK', \n",
        "        x=0, \n",
        "        y=-.17, \n",
        "        fontsize=7, \n",
        "        color='grey', \n",
        "        fontweight='bold')\n",
        "\n",
        "plt.show()"
      ],
      "execution_count": 184,
      "outputs": [
        {
          "output_type": "stream",
          "text": [
            "/usr/local/lib/python3.6/dist-packages/pandas/plotting/_matplotlib/core.py:203: UserWarning: 'colors' is being deprecated. Please use 'color'instead of 'colors'\n",
            "  \"'colors' is being deprecated. Please use 'color'\"\n"
          ],
          "name": "stderr"
        },
        {
          "output_type": "display_data",
          "data": {
            "image/png": "[encoded data removed]",
            "text/plain": [
              "<Figure size 720x288 with 1 Axes>"
            ]
          },
          "metadata": {
            "tags": []
          }
        }
      ]
    },
    {
      "cell_type": "code",
      "metadata": {
        "id": "58F7Fl1xSw6n",
        "colab_type": "code",
        "colab": {}
      },
      "source": [
        ""
      ],
      "execution_count": 0,
      "outputs": []
    }
  ]
}