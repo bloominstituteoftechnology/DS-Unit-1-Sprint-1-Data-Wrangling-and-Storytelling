{
  "nbformat": 4,
  "nbformat_minor": 0,
  "metadata": {
    "colab": {
      "name": "EP_LS_DS_113_Join_and_Reshape_Data_Assignment.ipynb",
      "provenance": [],
      "collapsed_sections": [],
      "include_colab_link": true
    },
    "kernelspec": {
      "display_name": "Python 3",
      "language": "python",
      "name": "python3"
    }
  },
  "cells": [
    {
      "cell_type": "markdown",
      "metadata": {
        "id": "view-in-github",
        "colab_type": "text"
      },
      "source": [
        "<a href=\"https://colab.research.google.com/github/eduardopadilla3/DS-Unit-1-Sprint-1-Data-Wrangling-and-Storytelling/blob/master/module3-join-and-reshape-data/EP_LS_DS_113_Join_and_Reshape_Data_Assignment.ipynb\" target=\"_parent\"><img src=\"https://colab.research.google.com/assets/colab-badge.svg\" alt=\"Open In Colab\"/></a>"
      ]
    },
    {
      "cell_type": "markdown",
      "metadata": {
        "colab_type": "text",
        "id": "pmU5YUal1eTZ"
      },
      "source": [
        "Lambda School Data Science\n",
        "\n",
        "*Unit 1, Sprint 1, Module 3*\n",
        "\n",
        "---\n",
        "\n",
        "# Join and Reshape datasets\n",
        "\n",
        "Objectives\n",
        "- concatenate data with pandas\n",
        "- merge data with pandas\n",
        "-  understand tidy data formatting\n",
        "-  melt and pivot data with pandas\n",
        "\n",
        "Links\n",
        "- [Pandas Cheat Sheet](https://github.com/pandas-dev/pandas/blob/master/doc/cheatsheet/Pandas_Cheat_Sheet.pdf)\n",
        "- [Tidy Data](https://en.wikipedia.org/wiki/Tidy_data)\n",
        "  - Combine Data Sets: Standard Joins\n",
        "  - Tidy Data\n",
        "  - Reshaping Data\n",
        "- Python Data Science Handbook\n",
        "  - [Chapter 3.6](https://jakevdp.github.io/PythonDataScienceHandbook/03.06-concat-and-append.html), Combining Datasets: Concat and Append\n",
        "  - [Chapter 3.7](https://jakevdp.github.io/PythonDataScienceHandbook/03.07-merge-and-join.html), Combining Datasets: Merge and Join\n",
        "  - [Chapter 3.8](https://jakevdp.github.io/PythonDataScienceHandbook/03.08-aggregation-and-grouping.html), Aggregation and Grouping\n",
        "  - [Chapter 3.9](https://jakevdp.github.io/PythonDataScienceHandbook/03.09-pivot-tables.html), Pivot Tables\n",
        "  \n",
        "Reference\n",
        "- Pandas Documentation: [Reshaping and Pivot Tables](https://pandas.pydata.org/pandas-docs/stable/reshaping.html)\n",
        "- Modern Pandas, Part 5: [Tidy Data](https://tomaugspurger.github.io/modern-5-tidy.html)"
      ]
    },
    {
      "cell_type": "code",
      "metadata": {
        "id": "5MsWLLW4Xg_i",
        "colab_type": "code",
        "outputId": "c07ad47a-134d-425c-d469-46d3f0017e91",
        "colab": {
          "base_uri": "https://localhost:8080/",
          "height": 208
        }
      },
      "source": [
        "!wget https://s3.amazonaws.com/instacart-datasets/instacart_online_grocery_shopping_2017_05_01.tar.gz"
      ],
      "execution_count": 0,
      "outputs": [
        {
          "output_type": "stream",
          "text": [
            "--2020-06-03 22:28:01--  https://s3.amazonaws.com/instacart-datasets/instacart_online_grocery_shopping_2017_05_01.tar.gz\n",
            "Resolving s3.amazonaws.com (s3.amazonaws.com)... 52.216.249.78\n",
            "Connecting to s3.amazonaws.com (s3.amazonaws.com)|52.216.249.78|:443... connected.\n",
            "HTTP request sent, awaiting response... 200 OK\n",
            "Length: 205548478 (196M) [application/x-gzip]\n",
            "Saving to: ‘instacart_online_grocery_shopping_2017_05_01.tar.gz.1’\n",
            "\n",
            "instacart_online_gr 100%[===================>] 196.03M  98.8MB/s    in 2.0s    \n",
            "\n",
            "2020-06-03 22:28:04 (98.8 MB/s) - ‘instacart_online_grocery_shopping_2017_05_01.tar.gz.1’ saved [205548478/205548478]\n",
            "\n"
          ],
          "name": "stdout"
        }
      ]
    },
    {
      "cell_type": "code",
      "metadata": {
        "id": "gfr4_Ya0XkLI",
        "colab_type": "code",
        "outputId": "82f47d61-51a9-4ff1-cd88-09651709d190",
        "colab": {
          "base_uri": "https://localhost:8080/",
          "height": 243
        }
      },
      "source": [
        "!tar --gunzip --extract --verbose --file=instacart_online_grocery_shopping_2017_05_01.tar.gz"
      ],
      "execution_count": 0,
      "outputs": [
        {
          "output_type": "stream",
          "text": [
            "instacart_2017_05_01/\n",
            "instacart_2017_05_01/._aisles.csv\n",
            "instacart_2017_05_01/aisles.csv\n",
            "instacart_2017_05_01/._departments.csv\n",
            "instacart_2017_05_01/departments.csv\n",
            "instacart_2017_05_01/._order_products__prior.csv\n",
            "instacart_2017_05_01/order_products__prior.csv\n",
            "instacart_2017_05_01/._order_products__train.csv\n",
            "instacart_2017_05_01/order_products__train.csv\n",
            "instacart_2017_05_01/._orders.csv\n",
            "instacart_2017_05_01/orders.csv\n",
            "instacart_2017_05_01/._products.csv\n",
            "instacart_2017_05_01/products.csv\n"
          ],
          "name": "stdout"
        }
      ]
    },
    {
      "cell_type": "code",
      "metadata": {
        "id": "N4YyGPNdXrT0",
        "colab_type": "code",
        "outputId": "f172fed1-55ec-4438-864b-13a7f24c2551",
        "colab": {
          "base_uri": "https://localhost:8080/",
          "height": 35
        }
      },
      "source": [
        "%cd instacart_2017_05_01"
      ],
      "execution_count": 0,
      "outputs": [
        {
          "output_type": "stream",
          "text": [
            "/content/instacart_2017_05_01\n"
          ],
          "name": "stdout"
        }
      ]
    },
    {
      "cell_type": "code",
      "metadata": {
        "id": "b26wmLUiXtlM",
        "colab_type": "code",
        "outputId": "c8dd69ba-dba8-4afb-ddc2-f92482f5c4fb",
        "colab": {
          "base_uri": "https://localhost:8080/",
          "height": 121
        }
      },
      "source": [
        "!ls -lh *.csv"
      ],
      "execution_count": 0,
      "outputs": [
        {
          "output_type": "stream",
          "text": [
            "-rw-r--r-- 1 502 staff 2.6K May  2  2017 aisles.csv\n",
            "-rw-r--r-- 1 502 staff  270 May  2  2017 departments.csv\n",
            "-rw-r--r-- 1 502 staff 551M May  2  2017 order_products__prior.csv\n",
            "-rw-r--r-- 1 502 staff  24M May  2  2017 order_products__train.csv\n",
            "-rw-r--r-- 1 502 staff 104M May  2  2017 orders.csv\n",
            "-rw-r--r-- 1 502 staff 2.1M May  2  2017 products.csv\n"
          ],
          "name": "stdout"
        }
      ]
    },
    {
      "cell_type": "markdown",
      "metadata": {
        "colab_type": "text",
        "id": "kAMtvSQWPUcj"
      },
      "source": [
        "# Assignment\n",
        "\n",
        "## Join Data Practice\n",
        "\n",
        "These are the top 10 most frequently ordered products. How many times was each ordered? \n",
        "\n",
        "1. Banana\n",
        "2. Bag of Organic Bananas\n",
        "3. Organic Strawberries\n",
        "4. Organic Baby Spinach \n",
        "5. Organic Hass Avocado\n",
        "6. Organic Avocado\n",
        "7. Large Lemon \n",
        "8. Strawberries\n",
        "9. Limes \n",
        "10. Organic Whole Milk\n",
        "\n",
        "First, write down which columns you need and which dataframes have them.\n",
        "\n",
        "Next, merge these into a single dataframe.\n",
        "\n",
        "Then, use pandas functions from the previous lesson to get the counts of the top 10 most frequently ordered products."
      ]
    },
    {
      "cell_type": "code",
      "metadata": {
        "id": "vvE0EVHgXMFO",
        "colab_type": "code",
        "colab": {}
      },
      "source": [
        "##### YOUR CODE HERE #####\n",
        "import pandas as pd\n"
      ],
      "execution_count": 0,
      "outputs": []
    },
    {
      "cell_type": "code",
      "metadata": {
        "id": "w61woAA95ihr",
        "colab_type": "code",
        "outputId": "7d72d575-d512-47db-8188-0c382e22de52",
        "colab": {
          "base_uri": "https://localhost:8080/",
          "height": 219
        }
      },
      "source": [
        "aisles = pd.read_csv('aisles.csv')\n",
        "print(aisles.shape)\n",
        "aisles.head()\n"
      ],
      "execution_count": 0,
      "outputs": [
        {
          "output_type": "stream",
          "text": [
            "(134, 2)\n"
          ],
          "name": "stdout"
        },
        {
          "output_type": "execute_result",
          "data": {
            "text/html": [
              "<div>\n",
              "<style scoped>\n",
              "    .dataframe tbody tr th:only-of-type {\n",
              "        vertical-align: middle;\n",
              "    }\n",
              "\n",
              "    .dataframe tbody tr th {\n",
              "        vertical-align: top;\n",
              "    }\n",
              "\n",
              "    .dataframe thead th {\n",
              "        text-align: right;\n",
              "    }\n",
              "</style>\n",
              "<table border=\"1\" class=\"dataframe\">\n",
              "  <thead>\n",
              "    <tr style=\"text-align: right;\">\n",
              "      <th></th>\n",
              "      <th>aisle_id</th>\n",
              "      <th>aisle</th>\n",
              "    </tr>\n",
              "  </thead>\n",
              "  <tbody>\n",
              "    <tr>\n",
              "      <th>0</th>\n",
              "      <td>1</td>\n",
              "      <td>prepared soups salads</td>\n",
              "    </tr>\n",
              "    <tr>\n",
              "      <th>1</th>\n",
              "      <td>2</td>\n",
              "      <td>specialty cheeses</td>\n",
              "    </tr>\n",
              "    <tr>\n",
              "      <th>2</th>\n",
              "      <td>3</td>\n",
              "      <td>energy granola bars</td>\n",
              "    </tr>\n",
              "    <tr>\n",
              "      <th>3</th>\n",
              "      <td>4</td>\n",
              "      <td>instant foods</td>\n",
              "    </tr>\n",
              "    <tr>\n",
              "      <th>4</th>\n",
              "      <td>5</td>\n",
              "      <td>marinades meat preparation</td>\n",
              "    </tr>\n",
              "  </tbody>\n",
              "</table>\n",
              "</div>"
            ],
            "text/plain": [
              "   aisle_id                       aisle\n",
              "0         1       prepared soups salads\n",
              "1         2           specialty cheeses\n",
              "2         3         energy granola bars\n",
              "3         4               instant foods\n",
              "4         5  marinades meat preparation"
            ]
          },
          "metadata": {
            "tags": []
          },
          "execution_count": 13
        }
      ]
    },
    {
      "cell_type": "code",
      "metadata": {
        "id": "Sq1DH6k660QA",
        "colab_type": "code",
        "outputId": "5d746fee-6806-4f6b-d6d8-09cd00ded1cd",
        "colab": {
          "base_uri": "https://localhost:8080/",
          "height": 202
        }
      },
      "source": [
        "departments = pd.read_csv('departments.csv')\n",
        "departments.head()"
      ],
      "execution_count": 0,
      "outputs": [
        {
          "output_type": "execute_result",
          "data": {
            "text/html": [
              "<div>\n",
              "<style scoped>\n",
              "    .dataframe tbody tr th:only-of-type {\n",
              "        vertical-align: middle;\n",
              "    }\n",
              "\n",
              "    .dataframe tbody tr th {\n",
              "        vertical-align: top;\n",
              "    }\n",
              "\n",
              "    .dataframe thead th {\n",
              "        text-align: right;\n",
              "    }\n",
              "</style>\n",
              "<table border=\"1\" class=\"dataframe\">\n",
              "  <thead>\n",
              "    <tr style=\"text-align: right;\">\n",
              "      <th></th>\n",
              "      <th>department_id</th>\n",
              "      <th>department</th>\n",
              "    </tr>\n",
              "  </thead>\n",
              "  <tbody>\n",
              "    <tr>\n",
              "      <th>0</th>\n",
              "      <td>1</td>\n",
              "      <td>frozen</td>\n",
              "    </tr>\n",
              "    <tr>\n",
              "      <th>1</th>\n",
              "      <td>2</td>\n",
              "      <td>other</td>\n",
              "    </tr>\n",
              "    <tr>\n",
              "      <th>2</th>\n",
              "      <td>3</td>\n",
              "      <td>bakery</td>\n",
              "    </tr>\n",
              "    <tr>\n",
              "      <th>3</th>\n",
              "      <td>4</td>\n",
              "      <td>produce</td>\n",
              "    </tr>\n",
              "    <tr>\n",
              "      <th>4</th>\n",
              "      <td>5</td>\n",
              "      <td>alcohol</td>\n",
              "    </tr>\n",
              "  </tbody>\n",
              "</table>\n",
              "</div>"
            ],
            "text/plain": [
              "   department_id department\n",
              "0              1     frozen\n",
              "1              2      other\n",
              "2              3     bakery\n",
              "3              4    produce\n",
              "4              5    alcohol"
            ]
          },
          "metadata": {
            "tags": []
          },
          "execution_count": 14
        }
      ]
    },
    {
      "cell_type": "code",
      "metadata": {
        "id": "OTozJ99T7Vyq",
        "colab_type": "code",
        "outputId": "fb4fb667-7796-41d1-c3e2-f0dbc63c251e",
        "colab": {
          "base_uri": "https://localhost:8080/",
          "height": 202
        }
      },
      "source": [
        "order_products__prior = pd.read_csv('order_products__prior.csv')\n",
        "order_products__prior.head()"
      ],
      "execution_count": 0,
      "outputs": [
        {
          "output_type": "execute_result",
          "data": {
            "text/html": [
              "<div>\n",
              "<style scoped>\n",
              "    .dataframe tbody tr th:only-of-type {\n",
              "        vertical-align: middle;\n",
              "    }\n",
              "\n",
              "    .dataframe tbody tr th {\n",
              "        vertical-align: top;\n",
              "    }\n",
              "\n",
              "    .dataframe thead th {\n",
              "        text-align: right;\n",
              "    }\n",
              "</style>\n",
              "<table border=\"1\" class=\"dataframe\">\n",
              "  <thead>\n",
              "    <tr style=\"text-align: right;\">\n",
              "      <th></th>\n",
              "      <th>order_id</th>\n",
              "      <th>product_id</th>\n",
              "      <th>add_to_cart_order</th>\n",
              "      <th>reordered</th>\n",
              "    </tr>\n",
              "  </thead>\n",
              "  <tbody>\n",
              "    <tr>\n",
              "      <th>0</th>\n",
              "      <td>2</td>\n",
              "      <td>33120</td>\n",
              "      <td>1</td>\n",
              "      <td>1</td>\n",
              "    </tr>\n",
              "    <tr>\n",
              "      <th>1</th>\n",
              "      <td>2</td>\n",
              "      <td>28985</td>\n",
              "      <td>2</td>\n",
              "      <td>1</td>\n",
              "    </tr>\n",
              "    <tr>\n",
              "      <th>2</th>\n",
              "      <td>2</td>\n",
              "      <td>9327</td>\n",
              "      <td>3</td>\n",
              "      <td>0</td>\n",
              "    </tr>\n",
              "    <tr>\n",
              "      <th>3</th>\n",
              "      <td>2</td>\n",
              "      <td>45918</td>\n",
              "      <td>4</td>\n",
              "      <td>1</td>\n",
              "    </tr>\n",
              "    <tr>\n",
              "      <th>4</th>\n",
              "      <td>2</td>\n",
              "      <td>30035</td>\n",
              "      <td>5</td>\n",
              "      <td>0</td>\n",
              "    </tr>\n",
              "  </tbody>\n",
              "</table>\n",
              "</div>"
            ],
            "text/plain": [
              "   order_id  product_id  add_to_cart_order  reordered\n",
              "0         2       33120                  1          1\n",
              "1         2       28985                  2          1\n",
              "2         2        9327                  3          0\n",
              "3         2       45918                  4          1\n",
              "4         2       30035                  5          0"
            ]
          },
          "metadata": {
            "tags": []
          },
          "execution_count": 9
        }
      ]
    },
    {
      "cell_type": "code",
      "metadata": {
        "id": "o-3T4RiN7iO2",
        "colab_type": "code",
        "outputId": "6c5c9248-7e5a-4acd-ae3a-cd09807c3b7a",
        "colab": {
          "base_uri": "https://localhost:8080/",
          "height": 202
        }
      },
      "source": [
        "order_products__train = pd.read_csv('order_products__train.csv')\n",
        "order_products__train.head()"
      ],
      "execution_count": 0,
      "outputs": [
        {
          "output_type": "execute_result",
          "data": {
            "text/html": [
              "<div>\n",
              "<style scoped>\n",
              "    .dataframe tbody tr th:only-of-type {\n",
              "        vertical-align: middle;\n",
              "    }\n",
              "\n",
              "    .dataframe tbody tr th {\n",
              "        vertical-align: top;\n",
              "    }\n",
              "\n",
              "    .dataframe thead th {\n",
              "        text-align: right;\n",
              "    }\n",
              "</style>\n",
              "<table border=\"1\" class=\"dataframe\">\n",
              "  <thead>\n",
              "    <tr style=\"text-align: right;\">\n",
              "      <th></th>\n",
              "      <th>order_id</th>\n",
              "      <th>product_id</th>\n",
              "      <th>add_to_cart_order</th>\n",
              "      <th>reordered</th>\n",
              "    </tr>\n",
              "  </thead>\n",
              "  <tbody>\n",
              "    <tr>\n",
              "      <th>0</th>\n",
              "      <td>1</td>\n",
              "      <td>49302</td>\n",
              "      <td>1</td>\n",
              "      <td>1</td>\n",
              "    </tr>\n",
              "    <tr>\n",
              "      <th>1</th>\n",
              "      <td>1</td>\n",
              "      <td>11109</td>\n",
              "      <td>2</td>\n",
              "      <td>1</td>\n",
              "    </tr>\n",
              "    <tr>\n",
              "      <th>2</th>\n",
              "      <td>1</td>\n",
              "      <td>10246</td>\n",
              "      <td>3</td>\n",
              "      <td>0</td>\n",
              "    </tr>\n",
              "    <tr>\n",
              "      <th>3</th>\n",
              "      <td>1</td>\n",
              "      <td>49683</td>\n",
              "      <td>4</td>\n",
              "      <td>0</td>\n",
              "    </tr>\n",
              "    <tr>\n",
              "      <th>4</th>\n",
              "      <td>1</td>\n",
              "      <td>43633</td>\n",
              "      <td>5</td>\n",
              "      <td>1</td>\n",
              "    </tr>\n",
              "  </tbody>\n",
              "</table>\n",
              "</div>"
            ],
            "text/plain": [
              "   order_id  product_id  add_to_cart_order  reordered\n",
              "0         1       49302                  1          1\n",
              "1         1       11109                  2          1\n",
              "2         1       10246                  3          0\n",
              "3         1       49683                  4          0\n",
              "4         1       43633                  5          1"
            ]
          },
          "metadata": {
            "tags": []
          },
          "execution_count": 10
        }
      ]
    },
    {
      "cell_type": "code",
      "metadata": {
        "id": "MPUjIki67s_G",
        "colab_type": "code",
        "outputId": "1eb8deda-69d7-4f2d-aa08-aaab494b6352",
        "colab": {
          "base_uri": "https://localhost:8080/",
          "height": 202
        }
      },
      "source": [
        "orders = pd.read_csv('orders.csv')\n",
        "orders.head()"
      ],
      "execution_count": 0,
      "outputs": [
        {
          "output_type": "execute_result",
          "data": {
            "text/html": [
              "<div>\n",
              "<style scoped>\n",
              "    .dataframe tbody tr th:only-of-type {\n",
              "        vertical-align: middle;\n",
              "    }\n",
              "\n",
              "    .dataframe tbody tr th {\n",
              "        vertical-align: top;\n",
              "    }\n",
              "\n",
              "    .dataframe thead th {\n",
              "        text-align: right;\n",
              "    }\n",
              "</style>\n",
              "<table border=\"1\" class=\"dataframe\">\n",
              "  <thead>\n",
              "    <tr style=\"text-align: right;\">\n",
              "      <th></th>\n",
              "      <th>order_id</th>\n",
              "      <th>user_id</th>\n",
              "      <th>eval_set</th>\n",
              "      <th>order_number</th>\n",
              "      <th>order_dow</th>\n",
              "      <th>order_hour_of_day</th>\n",
              "      <th>days_since_prior_order</th>\n",
              "    </tr>\n",
              "  </thead>\n",
              "  <tbody>\n",
              "    <tr>\n",
              "      <th>0</th>\n",
              "      <td>2539329</td>\n",
              "      <td>1</td>\n",
              "      <td>prior</td>\n",
              "      <td>1</td>\n",
              "      <td>2</td>\n",
              "      <td>8</td>\n",
              "      <td>NaN</td>\n",
              "    </tr>\n",
              "    <tr>\n",
              "      <th>1</th>\n",
              "      <td>2398795</td>\n",
              "      <td>1</td>\n",
              "      <td>prior</td>\n",
              "      <td>2</td>\n",
              "      <td>3</td>\n",
              "      <td>7</td>\n",
              "      <td>15.0</td>\n",
              "    </tr>\n",
              "    <tr>\n",
              "      <th>2</th>\n",
              "      <td>473747</td>\n",
              "      <td>1</td>\n",
              "      <td>prior</td>\n",
              "      <td>3</td>\n",
              "      <td>3</td>\n",
              "      <td>12</td>\n",
              "      <td>21.0</td>\n",
              "    </tr>\n",
              "    <tr>\n",
              "      <th>3</th>\n",
              "      <td>2254736</td>\n",
              "      <td>1</td>\n",
              "      <td>prior</td>\n",
              "      <td>4</td>\n",
              "      <td>4</td>\n",
              "      <td>7</td>\n",
              "      <td>29.0</td>\n",
              "    </tr>\n",
              "    <tr>\n",
              "      <th>4</th>\n",
              "      <td>431534</td>\n",
              "      <td>1</td>\n",
              "      <td>prior</td>\n",
              "      <td>5</td>\n",
              "      <td>4</td>\n",
              "      <td>15</td>\n",
              "      <td>28.0</td>\n",
              "    </tr>\n",
              "  </tbody>\n",
              "</table>\n",
              "</div>"
            ],
            "text/plain": [
              "   order_id  user_id  ... order_hour_of_day  days_since_prior_order\n",
              "0   2539329        1  ...                 8                     NaN\n",
              "1   2398795        1  ...                 7                    15.0\n",
              "2    473747        1  ...                12                    21.0\n",
              "3   2254736        1  ...                 7                    29.0\n",
              "4    431534        1  ...                15                    28.0\n",
              "\n",
              "[5 rows x 7 columns]"
            ]
          },
          "metadata": {
            "tags": []
          },
          "execution_count": 11
        }
      ]
    },
    {
      "cell_type": "code",
      "metadata": {
        "id": "SXA-p_ir73-j",
        "colab_type": "code",
        "outputId": "9e0d3dfb-5bc9-4fbd-f49d-e2cf896ae08e",
        "colab": {
          "base_uri": "https://localhost:8080/",
          "height": 202
        }
      },
      "source": [
        "products = pd.read_csv('products.csv')\n",
        "products.head()"
      ],
      "execution_count": 0,
      "outputs": [
        {
          "output_type": "execute_result",
          "data": {
            "text/html": [
              "<div>\n",
              "<style scoped>\n",
              "    .dataframe tbody tr th:only-of-type {\n",
              "        vertical-align: middle;\n",
              "    }\n",
              "\n",
              "    .dataframe tbody tr th {\n",
              "        vertical-align: top;\n",
              "    }\n",
              "\n",
              "    .dataframe thead th {\n",
              "        text-align: right;\n",
              "    }\n",
              "</style>\n",
              "<table border=\"1\" class=\"dataframe\">\n",
              "  <thead>\n",
              "    <tr style=\"text-align: right;\">\n",
              "      <th></th>\n",
              "      <th>product_id</th>\n",
              "      <th>product_name</th>\n",
              "      <th>aisle_id</th>\n",
              "      <th>department_id</th>\n",
              "    </tr>\n",
              "  </thead>\n",
              "  <tbody>\n",
              "    <tr>\n",
              "      <th>0</th>\n",
              "      <td>1</td>\n",
              "      <td>Chocolate Sandwich Cookies</td>\n",
              "      <td>61</td>\n",
              "      <td>19</td>\n",
              "    </tr>\n",
              "    <tr>\n",
              "      <th>1</th>\n",
              "      <td>2</td>\n",
              "      <td>All-Seasons Salt</td>\n",
              "      <td>104</td>\n",
              "      <td>13</td>\n",
              "    </tr>\n",
              "    <tr>\n",
              "      <th>2</th>\n",
              "      <td>3</td>\n",
              "      <td>Robust Golden Unsweetened Oolong Tea</td>\n",
              "      <td>94</td>\n",
              "      <td>7</td>\n",
              "    </tr>\n",
              "    <tr>\n",
              "      <th>3</th>\n",
              "      <td>4</td>\n",
              "      <td>Smart Ones Classic Favorites Mini Rigatoni Wit...</td>\n",
              "      <td>38</td>\n",
              "      <td>1</td>\n",
              "    </tr>\n",
              "    <tr>\n",
              "      <th>4</th>\n",
              "      <td>5</td>\n",
              "      <td>Green Chile Anytime Sauce</td>\n",
              "      <td>5</td>\n",
              "      <td>13</td>\n",
              "    </tr>\n",
              "  </tbody>\n",
              "</table>\n",
              "</div>"
            ],
            "text/plain": [
              "   product_id  ... department_id\n",
              "0           1  ...            19\n",
              "1           2  ...            13\n",
              "2           3  ...             7\n",
              "3           4  ...             1\n",
              "4           5  ...            13\n",
              "\n",
              "[5 rows x 4 columns]"
            ]
          },
          "metadata": {
            "tags": []
          },
          "execution_count": 12
        }
      ]
    },
    {
      "cell_type": "code",
      "metadata": {
        "id": "io32rQlA8Bl3",
        "colab_type": "code",
        "colab": {}
      },
      "source": [
        "#columns and dataframes needed: product_name(products), product_id(products,order_products__train), order_id(order_products__train)"
      ],
      "execution_count": 0,
      "outputs": []
    },
    {
      "cell_type": "code",
      "metadata": {
        "id": "8V2ZjfRv_OVP",
        "colab_type": "code",
        "outputId": "53d7590a-57ec-4115-c96e-9d38a00e789d",
        "colab": {
          "base_uri": "https://localhost:8080/",
          "height": 202
        }
      },
      "source": [
        "order_products = pd.concat([order_products__prior, order_products__train])\n",
        "order_products.head()"
      ],
      "execution_count": 0,
      "outputs": [
        {
          "output_type": "execute_result",
          "data": {
            "text/html": [
              "<div>\n",
              "<style scoped>\n",
              "    .dataframe tbody tr th:only-of-type {\n",
              "        vertical-align: middle;\n",
              "    }\n",
              "\n",
              "    .dataframe tbody tr th {\n",
              "        vertical-align: top;\n",
              "    }\n",
              "\n",
              "    .dataframe thead th {\n",
              "        text-align: right;\n",
              "    }\n",
              "</style>\n",
              "<table border=\"1\" class=\"dataframe\">\n",
              "  <thead>\n",
              "    <tr style=\"text-align: right;\">\n",
              "      <th></th>\n",
              "      <th>order_id</th>\n",
              "      <th>product_id</th>\n",
              "      <th>add_to_cart_order</th>\n",
              "      <th>reordered</th>\n",
              "    </tr>\n",
              "  </thead>\n",
              "  <tbody>\n",
              "    <tr>\n",
              "      <th>0</th>\n",
              "      <td>2</td>\n",
              "      <td>33120</td>\n",
              "      <td>1</td>\n",
              "      <td>1</td>\n",
              "    </tr>\n",
              "    <tr>\n",
              "      <th>1</th>\n",
              "      <td>2</td>\n",
              "      <td>28985</td>\n",
              "      <td>2</td>\n",
              "      <td>1</td>\n",
              "    </tr>\n",
              "    <tr>\n",
              "      <th>2</th>\n",
              "      <td>2</td>\n",
              "      <td>9327</td>\n",
              "      <td>3</td>\n",
              "      <td>0</td>\n",
              "    </tr>\n",
              "    <tr>\n",
              "      <th>3</th>\n",
              "      <td>2</td>\n",
              "      <td>45918</td>\n",
              "      <td>4</td>\n",
              "      <td>1</td>\n",
              "    </tr>\n",
              "    <tr>\n",
              "      <th>4</th>\n",
              "      <td>2</td>\n",
              "      <td>30035</td>\n",
              "      <td>5</td>\n",
              "      <td>0</td>\n",
              "    </tr>\n",
              "  </tbody>\n",
              "</table>\n",
              "</div>"
            ],
            "text/plain": [
              "   order_id  product_id  add_to_cart_order  reordered\n",
              "0         2       33120                  1          1\n",
              "1         2       28985                  2          1\n",
              "2         2        9327                  3          0\n",
              "3         2       45918                  4          1\n",
              "4         2       30035                  5          0"
            ]
          },
          "metadata": {
            "tags": []
          },
          "execution_count": 13
        }
      ]
    },
    {
      "cell_type": "code",
      "metadata": {
        "id": "Att_YSLfICyn",
        "colab_type": "code",
        "outputId": "6f3cc77d-2c73-43f3-e32d-a75ece8f439c",
        "colab": {
          "base_uri": "https://localhost:8080/",
          "height": 202
        }
      },
      "source": [
        "orders_and_products = pd.merge(order_products, orders, on='order_id', how='inner')\n",
        "\n",
        "orders_and_products.head()\n"
      ],
      "execution_count": 0,
      "outputs": [
        {
          "output_type": "execute_result",
          "data": {
            "text/html": [
              "<div>\n",
              "<style scoped>\n",
              "    .dataframe tbody tr th:only-of-type {\n",
              "        vertical-align: middle;\n",
              "    }\n",
              "\n",
              "    .dataframe tbody tr th {\n",
              "        vertical-align: top;\n",
              "    }\n",
              "\n",
              "    .dataframe thead th {\n",
              "        text-align: right;\n",
              "    }\n",
              "</style>\n",
              "<table border=\"1\" class=\"dataframe\">\n",
              "  <thead>\n",
              "    <tr style=\"text-align: right;\">\n",
              "      <th></th>\n",
              "      <th>order_id</th>\n",
              "      <th>product_id</th>\n",
              "      <th>add_to_cart_order</th>\n",
              "      <th>reordered</th>\n",
              "      <th>user_id</th>\n",
              "      <th>eval_set</th>\n",
              "      <th>order_number</th>\n",
              "      <th>order_dow</th>\n",
              "      <th>order_hour_of_day</th>\n",
              "      <th>days_since_prior_order</th>\n",
              "    </tr>\n",
              "  </thead>\n",
              "  <tbody>\n",
              "    <tr>\n",
              "      <th>0</th>\n",
              "      <td>2</td>\n",
              "      <td>33120</td>\n",
              "      <td>1</td>\n",
              "      <td>1</td>\n",
              "      <td>202279</td>\n",
              "      <td>prior</td>\n",
              "      <td>3</td>\n",
              "      <td>5</td>\n",
              "      <td>9</td>\n",
              "      <td>8.0</td>\n",
              "    </tr>\n",
              "    <tr>\n",
              "      <th>1</th>\n",
              "      <td>2</td>\n",
              "      <td>28985</td>\n",
              "      <td>2</td>\n",
              "      <td>1</td>\n",
              "      <td>202279</td>\n",
              "      <td>prior</td>\n",
              "      <td>3</td>\n",
              "      <td>5</td>\n",
              "      <td>9</td>\n",
              "      <td>8.0</td>\n",
              "    </tr>\n",
              "    <tr>\n",
              "      <th>2</th>\n",
              "      <td>2</td>\n",
              "      <td>9327</td>\n",
              "      <td>3</td>\n",
              "      <td>0</td>\n",
              "      <td>202279</td>\n",
              "      <td>prior</td>\n",
              "      <td>3</td>\n",
              "      <td>5</td>\n",
              "      <td>9</td>\n",
              "      <td>8.0</td>\n",
              "    </tr>\n",
              "    <tr>\n",
              "      <th>3</th>\n",
              "      <td>2</td>\n",
              "      <td>45918</td>\n",
              "      <td>4</td>\n",
              "      <td>1</td>\n",
              "      <td>202279</td>\n",
              "      <td>prior</td>\n",
              "      <td>3</td>\n",
              "      <td>5</td>\n",
              "      <td>9</td>\n",
              "      <td>8.0</td>\n",
              "    </tr>\n",
              "    <tr>\n",
              "      <th>4</th>\n",
              "      <td>2</td>\n",
              "      <td>30035</td>\n",
              "      <td>5</td>\n",
              "      <td>0</td>\n",
              "      <td>202279</td>\n",
              "      <td>prior</td>\n",
              "      <td>3</td>\n",
              "      <td>5</td>\n",
              "      <td>9</td>\n",
              "      <td>8.0</td>\n",
              "    </tr>\n",
              "  </tbody>\n",
              "</table>\n",
              "</div>"
            ],
            "text/plain": [
              "   order_id  product_id  ...  order_hour_of_day  days_since_prior_order\n",
              "0         2       33120  ...                  9                     8.0\n",
              "1         2       28985  ...                  9                     8.0\n",
              "2         2        9327  ...                  9                     8.0\n",
              "3         2       45918  ...                  9                     8.0\n",
              "4         2       30035  ...                  9                     8.0\n",
              "\n",
              "[5 rows x 10 columns]"
            ]
          },
          "metadata": {
            "tags": []
          },
          "execution_count": 14
        }
      ]
    },
    {
      "cell_type": "code",
      "metadata": {
        "id": "IOd1UsoHIXWr",
        "colab_type": "code",
        "outputId": "8dac039d-e69b-45eb-e2e8-42ae8fe41497",
        "colab": {
          "base_uri": "https://localhost:8080/",
          "height": 202
        }
      },
      "source": [
        "orders_and_products = orders_and_products[['product_id', 'order_id']]\n",
        "\n",
        "orders_and_products.head()\n",
        "                         \n",
        "\n",
        "                         "
      ],
      "execution_count": 0,
      "outputs": [
        {
          "output_type": "execute_result",
          "data": {
            "text/html": [
              "<div>\n",
              "<style scoped>\n",
              "    .dataframe tbody tr th:only-of-type {\n",
              "        vertical-align: middle;\n",
              "    }\n",
              "\n",
              "    .dataframe tbody tr th {\n",
              "        vertical-align: top;\n",
              "    }\n",
              "\n",
              "    .dataframe thead th {\n",
              "        text-align: right;\n",
              "    }\n",
              "</style>\n",
              "<table border=\"1\" class=\"dataframe\">\n",
              "  <thead>\n",
              "    <tr style=\"text-align: right;\">\n",
              "      <th></th>\n",
              "      <th>product_id</th>\n",
              "      <th>order_id</th>\n",
              "    </tr>\n",
              "  </thead>\n",
              "  <tbody>\n",
              "    <tr>\n",
              "      <th>0</th>\n",
              "      <td>33120</td>\n",
              "      <td>2</td>\n",
              "    </tr>\n",
              "    <tr>\n",
              "      <th>1</th>\n",
              "      <td>28985</td>\n",
              "      <td>2</td>\n",
              "    </tr>\n",
              "    <tr>\n",
              "      <th>2</th>\n",
              "      <td>9327</td>\n",
              "      <td>2</td>\n",
              "    </tr>\n",
              "    <tr>\n",
              "      <th>3</th>\n",
              "      <td>45918</td>\n",
              "      <td>2</td>\n",
              "    </tr>\n",
              "    <tr>\n",
              "      <th>4</th>\n",
              "      <td>30035</td>\n",
              "      <td>2</td>\n",
              "    </tr>\n",
              "  </tbody>\n",
              "</table>\n",
              "</div>"
            ],
            "text/plain": [
              "   product_id  order_id\n",
              "0       33120         2\n",
              "1       28985         2\n",
              "2        9327         2\n",
              "3       45918         2\n",
              "4       30035         2"
            ]
          },
          "metadata": {
            "tags": []
          },
          "execution_count": 15
        }
      ]
    },
    {
      "cell_type": "code",
      "metadata": {
        "id": "IwKYQMb8TwYe",
        "colab_type": "code",
        "outputId": "428dd490-1655-46da-d7d7-fa185eda047b",
        "colab": {
          "base_uri": "https://localhost:8080/",
          "height": 202
        }
      },
      "source": [
        "orders_and_productsf = pd.merge(orders_and_products, products, on='product_id', how='inner')\n",
        "\n",
        "orders_and_productsf.head()\n"
      ],
      "execution_count": 0,
      "outputs": [
        {
          "output_type": "execute_result",
          "data": {
            "text/html": [
              "<div>\n",
              "<style scoped>\n",
              "    .dataframe tbody tr th:only-of-type {\n",
              "        vertical-align: middle;\n",
              "    }\n",
              "\n",
              "    .dataframe tbody tr th {\n",
              "        vertical-align: top;\n",
              "    }\n",
              "\n",
              "    .dataframe thead th {\n",
              "        text-align: right;\n",
              "    }\n",
              "</style>\n",
              "<table border=\"1\" class=\"dataframe\">\n",
              "  <thead>\n",
              "    <tr style=\"text-align: right;\">\n",
              "      <th></th>\n",
              "      <th>product_id</th>\n",
              "      <th>order_id</th>\n",
              "      <th>product_name</th>\n",
              "      <th>aisle_id</th>\n",
              "      <th>department_id</th>\n",
              "    </tr>\n",
              "  </thead>\n",
              "  <tbody>\n",
              "    <tr>\n",
              "      <th>0</th>\n",
              "      <td>33120</td>\n",
              "      <td>2</td>\n",
              "      <td>Organic Egg Whites</td>\n",
              "      <td>86</td>\n",
              "      <td>16</td>\n",
              "    </tr>\n",
              "    <tr>\n",
              "      <th>1</th>\n",
              "      <td>33120</td>\n",
              "      <td>26</td>\n",
              "      <td>Organic Egg Whites</td>\n",
              "      <td>86</td>\n",
              "      <td>16</td>\n",
              "    </tr>\n",
              "    <tr>\n",
              "      <th>2</th>\n",
              "      <td>33120</td>\n",
              "      <td>120</td>\n",
              "      <td>Organic Egg Whites</td>\n",
              "      <td>86</td>\n",
              "      <td>16</td>\n",
              "    </tr>\n",
              "    <tr>\n",
              "      <th>3</th>\n",
              "      <td>33120</td>\n",
              "      <td>327</td>\n",
              "      <td>Organic Egg Whites</td>\n",
              "      <td>86</td>\n",
              "      <td>16</td>\n",
              "    </tr>\n",
              "    <tr>\n",
              "      <th>4</th>\n",
              "      <td>33120</td>\n",
              "      <td>390</td>\n",
              "      <td>Organic Egg Whites</td>\n",
              "      <td>86</td>\n",
              "      <td>16</td>\n",
              "    </tr>\n",
              "  </tbody>\n",
              "</table>\n",
              "</div>"
            ],
            "text/plain": [
              "   product_id  order_id        product_name  aisle_id  department_id\n",
              "0       33120         2  Organic Egg Whites        86             16\n",
              "1       33120        26  Organic Egg Whites        86             16\n",
              "2       33120       120  Organic Egg Whites        86             16\n",
              "3       33120       327  Organic Egg Whites        86             16\n",
              "4       33120       390  Organic Egg Whites        86             16"
            ]
          },
          "metadata": {
            "tags": []
          },
          "execution_count": 24
        }
      ]
    },
    {
      "cell_type": "code",
      "metadata": {
        "id": "oxWlOM4_WOL8",
        "colab_type": "code",
        "outputId": "38528b56-0971-4885-d3d6-6ee2378de9af",
        "colab": {
          "base_uri": "https://localhost:8080/",
          "height": 225
        }
      },
      "source": [
        "orders_and_productsf\n",
        "['product_name'].value_counts()"
      ],
      "execution_count": 0,
      "outputs": [
        {
          "output_type": "execute_result",
          "data": {
            "text/plain": [
              "Banana                                        491291\n",
              "Bag of Organic Bananas                        394930\n",
              "Organic Strawberries                          275577\n",
              "Organic Baby Spinach                          251705\n",
              "Organic Hass Avocado                          220877\n",
              "                                               ...  \n",
              "Indian Wells Merlot                                1\n",
              "Pasta Shapes In Tomato Sauce                       1\n",
              "Flavor Snacks                                      1\n",
              "Jamaican Allspice                                  1\n",
              "Lindor Peppermint White Chocolate Truffles         1\n",
              "Name: product_name, Length: 49685, dtype: int64"
            ]
          },
          "metadata": {
            "tags": []
          },
          "execution_count": 31
        }
      ]
    },
    {
      "cell_type": "code",
      "metadata": {
        "id": "ZlauvgWwaeof",
        "colab_type": "code",
        "outputId": "4f896663-340c-47c5-e20e-7b4630fd77a9",
        "colab": {
          "base_uri": "https://localhost:8080/",
          "height": 202
        }
      },
      "source": [
        "final = orders_and_productsf[(orders_and_productsf['product_name'] == 'Banana') |(orders_and_productsf['product_name'] == 'Bag of Organic Bananas')|(orders_and_productsf['product_name'] == 'Organic Strawberries')|(orders_and_productsf['product_name'] == 'Organic Baby Spinach')\n",
        "|(orders_and_productsf['product_name'] == 'Organic Hass Avocado') |(orders_and_productsf['product_name'] == 'Organic Avocado')\n",
        "|(orders_and_productsf['product_name'] == 'Large Lemon')|(orders_and_productsf['product_name'] == 'Strawberries')\n",
        "|(orders_and_productsf['product_name'] == 'Limes')|(orders_and_productsf['product_name'] == 'Organic Whole Milk')]\n",
        "\n",
        "final.head()"
      ],
      "execution_count": 0,
      "outputs": [
        {
          "output_type": "execute_result",
          "data": {
            "text/html": [
              "<div>\n",
              "<style scoped>\n",
              "    .dataframe tbody tr th:only-of-type {\n",
              "        vertical-align: middle;\n",
              "    }\n",
              "\n",
              "    .dataframe tbody tr th {\n",
              "        vertical-align: top;\n",
              "    }\n",
              "\n",
              "    .dataframe thead th {\n",
              "        text-align: right;\n",
              "    }\n",
              "</style>\n",
              "<table border=\"1\" class=\"dataframe\">\n",
              "  <thead>\n",
              "    <tr style=\"text-align: right;\">\n",
              "      <th></th>\n",
              "      <th>product_id</th>\n",
              "      <th>order_id</th>\n",
              "      <th>product_name</th>\n",
              "      <th>aisle_id</th>\n",
              "      <th>department_id</th>\n",
              "    </tr>\n",
              "  </thead>\n",
              "  <tbody>\n",
              "    <tr>\n",
              "      <th>262494</th>\n",
              "      <td>21903</td>\n",
              "      <td>3</td>\n",
              "      <td>Organic Baby Spinach</td>\n",
              "      <td>123</td>\n",
              "      <td>4</td>\n",
              "    </tr>\n",
              "    <tr>\n",
              "      <th>262495</th>\n",
              "      <td>21903</td>\n",
              "      <td>26</td>\n",
              "      <td>Organic Baby Spinach</td>\n",
              "      <td>123</td>\n",
              "      <td>4</td>\n",
              "    </tr>\n",
              "    <tr>\n",
              "      <th>262496</th>\n",
              "      <td>21903</td>\n",
              "      <td>31</td>\n",
              "      <td>Organic Baby Spinach</td>\n",
              "      <td>123</td>\n",
              "      <td>4</td>\n",
              "    </tr>\n",
              "    <tr>\n",
              "      <th>262497</th>\n",
              "      <td>21903</td>\n",
              "      <td>39</td>\n",
              "      <td>Organic Baby Spinach</td>\n",
              "      <td>123</td>\n",
              "      <td>4</td>\n",
              "    </tr>\n",
              "    <tr>\n",
              "      <th>262498</th>\n",
              "      <td>21903</td>\n",
              "      <td>56</td>\n",
              "      <td>Organic Baby Spinach</td>\n",
              "      <td>123</td>\n",
              "      <td>4</td>\n",
              "    </tr>\n",
              "  </tbody>\n",
              "</table>\n",
              "</div>"
            ],
            "text/plain": [
              "        product_id  order_id          product_name  aisle_id  department_id\n",
              "262494       21903         3  Organic Baby Spinach       123              4\n",
              "262495       21903        26  Organic Baby Spinach       123              4\n",
              "262496       21903        31  Organic Baby Spinach       123              4\n",
              "262497       21903        39  Organic Baby Spinach       123              4\n",
              "262498       21903        56  Organic Baby Spinach       123              4"
            ]
          },
          "metadata": {
            "tags": []
          },
          "execution_count": 39
        }
      ]
    },
    {
      "cell_type": "code",
      "metadata": {
        "id": "YVNoLxnSc7OA",
        "colab_type": "code",
        "outputId": "7f146476-e706-4d92-ad47-a7d2965e8fd2",
        "colab": {
          "base_uri": "https://localhost:8080/",
          "height": 208
        }
      },
      "source": [
        "final['product_name'].value_counts()"
      ],
      "execution_count": 0,
      "outputs": [
        {
          "output_type": "execute_result",
          "data": {
            "text/plain": [
              "Banana                    491291\n",
              "Bag of Organic Bananas    394930\n",
              "Organic Strawberries      275577\n",
              "Organic Baby Spinach      251705\n",
              "Organic Hass Avocado      220877\n",
              "Organic Avocado           184224\n",
              "Large Lemon               160792\n",
              "Strawberries              149445\n",
              "Limes                     146660\n",
              "Organic Whole Milk        142813\n",
              "Name: product_name, dtype: int64"
            ]
          },
          "metadata": {
            "tags": []
          },
          "execution_count": 40
        }
      ]
    },
    {
      "cell_type": "markdown",
      "metadata": {
        "id": "RsiWi4DuXPLP",
        "colab_type": "text"
      },
      "source": [
        "## Reshape Data Section\n",
        "\n",
        "- Replicate the lesson code. Remember, if you haven't followed along typing out what we did during lecture, do that now to get more repetition with the syntax.\n",
        "- Take table 2 (the transpose of table 1) and practice changing it into Tidy format and back again. You should not use the transpose operation anywhere in this code:\n",
        " - Table 2 --> Tidy\n",
        " - Tidy --> Table 2\n",
        "- Load seaborn's `flights` dataset by running the cell below. Then create a pivot table showing the number of passengers by month and year. Use year for the index and month for the columns. You've done it right if you get 112 passengers for January 1949 and 432 passengers for December 1960."
      ]
    },
    {
      "cell_type": "code",
      "metadata": {
        "id": "4qRj4tyxm8t0",
        "colab_type": "code",
        "outputId": "cf1eac2b-ee79-4cb5-dc77-ca346f18c4a1",
        "colab": {
          "base_uri": "https://localhost:8080/",
          "height": 110
        }
      },
      "source": [
        "import pandas as pd\n",
        "import numpy as np\n",
        "\n",
        "table1 = pd.DataFrame(\n",
        "    [[np.nan, 2],\n",
        "     [16,    11], \n",
        "     [3,      1]],\n",
        "    index=['John Smith', 'Jane Doe', 'Mary Johnson'], \n",
        "    columns=['treatmenta', 'treatmentb'])\n",
        "\n",
        "table2 = table1.T\n",
        "\n",
        "table2"
      ],
      "execution_count": 0,
      "outputs": [
        {
          "output_type": "execute_result",
          "data": {
            "text/html": [
              "<div>\n",
              "<style scoped>\n",
              "    .dataframe tbody tr th:only-of-type {\n",
              "        vertical-align: middle;\n",
              "    }\n",
              "\n",
              "    .dataframe tbody tr th {\n",
              "        vertical-align: top;\n",
              "    }\n",
              "\n",
              "    .dataframe thead th {\n",
              "        text-align: right;\n",
              "    }\n",
              "</style>\n",
              "<table border=\"1\" class=\"dataframe\">\n",
              "  <thead>\n",
              "    <tr style=\"text-align: right;\">\n",
              "      <th></th>\n",
              "      <th>John Smith</th>\n",
              "      <th>Jane Doe</th>\n",
              "      <th>Mary Johnson</th>\n",
              "    </tr>\n",
              "  </thead>\n",
              "  <tbody>\n",
              "    <tr>\n",
              "      <th>treatmenta</th>\n",
              "      <td>NaN</td>\n",
              "      <td>16.0</td>\n",
              "      <td>3.0</td>\n",
              "    </tr>\n",
              "    <tr>\n",
              "      <th>treatmentb</th>\n",
              "      <td>2.0</td>\n",
              "      <td>11.0</td>\n",
              "      <td>1.0</td>\n",
              "    </tr>\n",
              "  </tbody>\n",
              "</table>\n",
              "</div>"
            ],
            "text/plain": [
              "            John Smith  Jane Doe  Mary Johnson\n",
              "treatmenta         NaN      16.0           3.0\n",
              "treatmentb         2.0      11.0           1.0"
            ]
          },
          "metadata": {
            "tags": []
          },
          "execution_count": 41
        }
      ]
    },
    {
      "cell_type": "code",
      "metadata": {
        "id": "OflVpkPym40q",
        "colab_type": "code",
        "outputId": "68565acc-73ce-41ad-fd76-ae25baea13b4",
        "colab": {
          "base_uri": "https://localhost:8080/",
          "height": 110
        }
      },
      "source": [
        "# table2 -> tidy\n",
        "table2 = table2.reset_index()\n",
        "table2"
      ],
      "execution_count": 0,
      "outputs": [
        {
          "output_type": "execute_result",
          "data": {
            "text/html": [
              "<div>\n",
              "<style scoped>\n",
              "    .dataframe tbody tr th:only-of-type {\n",
              "        vertical-align: middle;\n",
              "    }\n",
              "\n",
              "    .dataframe tbody tr th {\n",
              "        vertical-align: top;\n",
              "    }\n",
              "\n",
              "    .dataframe thead th {\n",
              "        text-align: right;\n",
              "    }\n",
              "</style>\n",
              "<table border=\"1\" class=\"dataframe\">\n",
              "  <thead>\n",
              "    <tr style=\"text-align: right;\">\n",
              "      <th></th>\n",
              "      <th>index</th>\n",
              "      <th>John Smith</th>\n",
              "      <th>Jane Doe</th>\n",
              "      <th>Mary Johnson</th>\n",
              "    </tr>\n",
              "  </thead>\n",
              "  <tbody>\n",
              "    <tr>\n",
              "      <th>0</th>\n",
              "      <td>treatmenta</td>\n",
              "      <td>NaN</td>\n",
              "      <td>16.0</td>\n",
              "      <td>3.0</td>\n",
              "    </tr>\n",
              "    <tr>\n",
              "      <th>1</th>\n",
              "      <td>treatmentb</td>\n",
              "      <td>2.0</td>\n",
              "      <td>11.0</td>\n",
              "      <td>1.0</td>\n",
              "    </tr>\n",
              "  </tbody>\n",
              "</table>\n",
              "</div>"
            ],
            "text/plain": [
              "        index  John Smith  Jane Doe  Mary Johnson\n",
              "0  treatmenta         NaN      16.0           3.0\n",
              "1  treatmentb         2.0      11.0           1.0"
            ]
          },
          "metadata": {
            "tags": []
          },
          "execution_count": 42
        }
      ]
    },
    {
      "cell_type": "code",
      "metadata": {
        "id": "_0JUQb9W2XTb",
        "colab_type": "code",
        "outputId": "9f7e6e29-ab43-40b8-dc32-24cc119b0f8c",
        "colab": {
          "base_uri": "https://localhost:8080/",
          "height": 233
        }
      },
      "source": [
        "tidy = table2.melt(id_vars='index', value_vars=['John Smith', 'Jane Doe', 'Mary Johnson'])\n",
        "\n",
        "tidy"
      ],
      "execution_count": 0,
      "outputs": [
        {
          "output_type": "execute_result",
          "data": {
            "text/html": [
              "<div>\n",
              "<style scoped>\n",
              "    .dataframe tbody tr th:only-of-type {\n",
              "        vertical-align: middle;\n",
              "    }\n",
              "\n",
              "    .dataframe tbody tr th {\n",
              "        vertical-align: top;\n",
              "    }\n",
              "\n",
              "    .dataframe thead th {\n",
              "        text-align: right;\n",
              "    }\n",
              "</style>\n",
              "<table border=\"1\" class=\"dataframe\">\n",
              "  <thead>\n",
              "    <tr style=\"text-align: right;\">\n",
              "      <th></th>\n",
              "      <th>index</th>\n",
              "      <th>variable</th>\n",
              "      <th>value</th>\n",
              "    </tr>\n",
              "  </thead>\n",
              "  <tbody>\n",
              "    <tr>\n",
              "      <th>0</th>\n",
              "      <td>treatmenta</td>\n",
              "      <td>John Smith</td>\n",
              "      <td>NaN</td>\n",
              "    </tr>\n",
              "    <tr>\n",
              "      <th>1</th>\n",
              "      <td>treatmentb</td>\n",
              "      <td>John Smith</td>\n",
              "      <td>2.0</td>\n",
              "    </tr>\n",
              "    <tr>\n",
              "      <th>2</th>\n",
              "      <td>treatmenta</td>\n",
              "      <td>Jane Doe</td>\n",
              "      <td>16.0</td>\n",
              "    </tr>\n",
              "    <tr>\n",
              "      <th>3</th>\n",
              "      <td>treatmentb</td>\n",
              "      <td>Jane Doe</td>\n",
              "      <td>11.0</td>\n",
              "    </tr>\n",
              "    <tr>\n",
              "      <th>4</th>\n",
              "      <td>treatmenta</td>\n",
              "      <td>Mary Johnson</td>\n",
              "      <td>3.0</td>\n",
              "    </tr>\n",
              "    <tr>\n",
              "      <th>5</th>\n",
              "      <td>treatmentb</td>\n",
              "      <td>Mary Johnson</td>\n",
              "      <td>1.0</td>\n",
              "    </tr>\n",
              "  </tbody>\n",
              "</table>\n",
              "</div>"
            ],
            "text/plain": [
              "        index      variable  value\n",
              "0  treatmenta    John Smith    NaN\n",
              "1  treatmentb    John Smith    2.0\n",
              "2  treatmenta      Jane Doe   16.0\n",
              "3  treatmentb      Jane Doe   11.0\n",
              "4  treatmenta  Mary Johnson    3.0\n",
              "5  treatmentb  Mary Johnson    1.0"
            ]
          },
          "metadata": {
            "tags": []
          },
          "execution_count": 43
        }
      ]
    },
    {
      "cell_type": "code",
      "metadata": {
        "id": "Y5cdKAkF3NZG",
        "colab_type": "code",
        "outputId": "3178e478-0a22-48d4-9467-22e067547105",
        "colab": {
          "base_uri": "https://localhost:8080/",
          "height": 233
        }
      },
      "source": [
        "tidy1 = tidy.rename(columns={\n",
        "    'index': 'trt', \n",
        "    'variable': 'name', \n",
        "    'value': 'result'\n",
        "})\n",
        "tidy1"
      ],
      "execution_count": 0,
      "outputs": [
        {
          "output_type": "execute_result",
          "data": {
            "text/html": [
              "<div>\n",
              "<style scoped>\n",
              "    .dataframe tbody tr th:only-of-type {\n",
              "        vertical-align: middle;\n",
              "    }\n",
              "\n",
              "    .dataframe tbody tr th {\n",
              "        vertical-align: top;\n",
              "    }\n",
              "\n",
              "    .dataframe thead th {\n",
              "        text-align: right;\n",
              "    }\n",
              "</style>\n",
              "<table border=\"1\" class=\"dataframe\">\n",
              "  <thead>\n",
              "    <tr style=\"text-align: right;\">\n",
              "      <th></th>\n",
              "      <th>trt</th>\n",
              "      <th>name</th>\n",
              "      <th>result</th>\n",
              "    </tr>\n",
              "  </thead>\n",
              "  <tbody>\n",
              "    <tr>\n",
              "      <th>0</th>\n",
              "      <td>treatmenta</td>\n",
              "      <td>John Smith</td>\n",
              "      <td>NaN</td>\n",
              "    </tr>\n",
              "    <tr>\n",
              "      <th>1</th>\n",
              "      <td>treatmentb</td>\n",
              "      <td>John Smith</td>\n",
              "      <td>2.0</td>\n",
              "    </tr>\n",
              "    <tr>\n",
              "      <th>2</th>\n",
              "      <td>treatmenta</td>\n",
              "      <td>Jane Doe</td>\n",
              "      <td>16.0</td>\n",
              "    </tr>\n",
              "    <tr>\n",
              "      <th>3</th>\n",
              "      <td>treatmentb</td>\n",
              "      <td>Jane Doe</td>\n",
              "      <td>11.0</td>\n",
              "    </tr>\n",
              "    <tr>\n",
              "      <th>4</th>\n",
              "      <td>treatmenta</td>\n",
              "      <td>Mary Johnson</td>\n",
              "      <td>3.0</td>\n",
              "    </tr>\n",
              "    <tr>\n",
              "      <th>5</th>\n",
              "      <td>treatmentb</td>\n",
              "      <td>Mary Johnson</td>\n",
              "      <td>1.0</td>\n",
              "    </tr>\n",
              "  </tbody>\n",
              "</table>\n",
              "</div>"
            ],
            "text/plain": [
              "          trt          name  result\n",
              "0  treatmenta    John Smith     NaN\n",
              "1  treatmentb    John Smith     2.0\n",
              "2  treatmenta      Jane Doe    16.0\n",
              "3  treatmentb      Jane Doe    11.0\n",
              "4  treatmenta  Mary Johnson     3.0\n",
              "5  treatmentb  Mary Johnson     1.0"
            ]
          },
          "metadata": {
            "tags": []
          },
          "execution_count": 44
        }
      ]
    },
    {
      "cell_type": "code",
      "metadata": {
        "id": "o0xLcqds3YRM",
        "colab_type": "code",
        "outputId": "2ab08c0d-8fed-48f9-e89f-e5d002659f09",
        "colab": {
          "base_uri": "https://localhost:8080/",
          "height": 233
        }
      },
      "source": [
        "tidy1.trt = tidy1.trt.str.replace('treatment', '')\n",
        "\n",
        "tidy1"
      ],
      "execution_count": 0,
      "outputs": [
        {
          "output_type": "execute_result",
          "data": {
            "text/html": [
              "<div>\n",
              "<style scoped>\n",
              "    .dataframe tbody tr th:only-of-type {\n",
              "        vertical-align: middle;\n",
              "    }\n",
              "\n",
              "    .dataframe tbody tr th {\n",
              "        vertical-align: top;\n",
              "    }\n",
              "\n",
              "    .dataframe thead th {\n",
              "        text-align: right;\n",
              "    }\n",
              "</style>\n",
              "<table border=\"1\" class=\"dataframe\">\n",
              "  <thead>\n",
              "    <tr style=\"text-align: right;\">\n",
              "      <th></th>\n",
              "      <th>trt</th>\n",
              "      <th>name</th>\n",
              "      <th>result</th>\n",
              "    </tr>\n",
              "  </thead>\n",
              "  <tbody>\n",
              "    <tr>\n",
              "      <th>0</th>\n",
              "      <td>a</td>\n",
              "      <td>John Smith</td>\n",
              "      <td>NaN</td>\n",
              "    </tr>\n",
              "    <tr>\n",
              "      <th>1</th>\n",
              "      <td>b</td>\n",
              "      <td>John Smith</td>\n",
              "      <td>2.0</td>\n",
              "    </tr>\n",
              "    <tr>\n",
              "      <th>2</th>\n",
              "      <td>a</td>\n",
              "      <td>Jane Doe</td>\n",
              "      <td>16.0</td>\n",
              "    </tr>\n",
              "    <tr>\n",
              "      <th>3</th>\n",
              "      <td>b</td>\n",
              "      <td>Jane Doe</td>\n",
              "      <td>11.0</td>\n",
              "    </tr>\n",
              "    <tr>\n",
              "      <th>4</th>\n",
              "      <td>a</td>\n",
              "      <td>Mary Johnson</td>\n",
              "      <td>3.0</td>\n",
              "    </tr>\n",
              "    <tr>\n",
              "      <th>5</th>\n",
              "      <td>b</td>\n",
              "      <td>Mary Johnson</td>\n",
              "      <td>1.0</td>\n",
              "    </tr>\n",
              "  </tbody>\n",
              "</table>\n",
              "</div>"
            ],
            "text/plain": [
              "  trt          name  result\n",
              "0   a    John Smith     NaN\n",
              "1   b    John Smith     2.0\n",
              "2   a      Jane Doe    16.0\n",
              "3   b      Jane Doe    11.0\n",
              "4   a  Mary Johnson     3.0\n",
              "5   b  Mary Johnson     1.0"
            ]
          },
          "metadata": {
            "tags": []
          },
          "execution_count": 45
        }
      ]
    },
    {
      "cell_type": "code",
      "metadata": {
        "id": "VCuVG7wVm6r5",
        "colab_type": "code",
        "outputId": "af1bf094-2d78-4947-c34c-b3aee23f7bc8",
        "colab": {
          "base_uri": "https://localhost:8080/",
          "height": 171
        }
      },
      "source": [
        "# tidy -> table2\n",
        "wide = tidy1.pivot_table(index='name', columns='trt', values='result')\n",
        "\n",
        "wide"
      ],
      "execution_count": 0,
      "outputs": [
        {
          "output_type": "execute_result",
          "data": {
            "text/html": [
              "<div>\n",
              "<style scoped>\n",
              "    .dataframe tbody tr th:only-of-type {\n",
              "        vertical-align: middle;\n",
              "    }\n",
              "\n",
              "    .dataframe tbody tr th {\n",
              "        vertical-align: top;\n",
              "    }\n",
              "\n",
              "    .dataframe thead th {\n",
              "        text-align: right;\n",
              "    }\n",
              "</style>\n",
              "<table border=\"1\" class=\"dataframe\">\n",
              "  <thead>\n",
              "    <tr style=\"text-align: right;\">\n",
              "      <th>trt</th>\n",
              "      <th>a</th>\n",
              "      <th>b</th>\n",
              "    </tr>\n",
              "    <tr>\n",
              "      <th>name</th>\n",
              "      <th></th>\n",
              "      <th></th>\n",
              "    </tr>\n",
              "  </thead>\n",
              "  <tbody>\n",
              "    <tr>\n",
              "      <th>Jane Doe</th>\n",
              "      <td>16.0</td>\n",
              "      <td>11.0</td>\n",
              "    </tr>\n",
              "    <tr>\n",
              "      <th>John Smith</th>\n",
              "      <td>NaN</td>\n",
              "      <td>2.0</td>\n",
              "    </tr>\n",
              "    <tr>\n",
              "      <th>Mary Johnson</th>\n",
              "      <td>3.0</td>\n",
              "      <td>1.0</td>\n",
              "    </tr>\n",
              "  </tbody>\n",
              "</table>\n",
              "</div>"
            ],
            "text/plain": [
              "trt              a     b\n",
              "name                    \n",
              "Jane Doe      16.0  11.0\n",
              "John Smith     NaN   2.0\n",
              "Mary Johnson   3.0   1.0"
            ]
          },
          "metadata": {
            "tags": []
          },
          "execution_count": 46
        }
      ]
    },
    {
      "cell_type": "code",
      "metadata": {
        "id": "fgxulJQq0uLw",
        "colab_type": "code",
        "outputId": "e224b605-bb9b-4bd2-e97e-f5d37ceee08a",
        "colab": {
          "base_uri": "https://localhost:8080/",
          "height": 72
        }
      },
      "source": [
        "import seaborn as sns\n",
        "flights = sns.load_dataset('flights')"
      ],
      "execution_count": 0,
      "outputs": [
        {
          "output_type": "stream",
          "text": [
            "/usr/local/lib/python3.6/dist-packages/statsmodels/tools/_testing.py:19: FutureWarning: pandas.util.testing is deprecated. Use the functions in the public API at pandas.testing instead.\n",
            "  import pandas.util.testing as tm\n"
          ],
          "name": "stderr"
        }
      ]
    },
    {
      "cell_type": "code",
      "metadata": {
        "id": "1qKc88WI0up-",
        "colab_type": "code",
        "outputId": "24e0a0d6-37b4-4dca-d3c4-1b4ec0424150",
        "colab": {
          "base_uri": "https://localhost:8080/",
          "height": 202
        }
      },
      "source": [
        "# Flights Pivot Table\n",
        "flights.head()"
      ],
      "execution_count": 0,
      "outputs": [
        {
          "output_type": "execute_result",
          "data": {
            "text/html": [
              "<div>\n",
              "<style scoped>\n",
              "    .dataframe tbody tr th:only-of-type {\n",
              "        vertical-align: middle;\n",
              "    }\n",
              "\n",
              "    .dataframe tbody tr th {\n",
              "        vertical-align: top;\n",
              "    }\n",
              "\n",
              "    .dataframe thead th {\n",
              "        text-align: right;\n",
              "    }\n",
              "</style>\n",
              "<table border=\"1\" class=\"dataframe\">\n",
              "  <thead>\n",
              "    <tr style=\"text-align: right;\">\n",
              "      <th></th>\n",
              "      <th>year</th>\n",
              "      <th>month</th>\n",
              "      <th>passengers</th>\n",
              "    </tr>\n",
              "  </thead>\n",
              "  <tbody>\n",
              "    <tr>\n",
              "      <th>0</th>\n",
              "      <td>1949</td>\n",
              "      <td>January</td>\n",
              "      <td>112</td>\n",
              "    </tr>\n",
              "    <tr>\n",
              "      <th>1</th>\n",
              "      <td>1949</td>\n",
              "      <td>February</td>\n",
              "      <td>118</td>\n",
              "    </tr>\n",
              "    <tr>\n",
              "      <th>2</th>\n",
              "      <td>1949</td>\n",
              "      <td>March</td>\n",
              "      <td>132</td>\n",
              "    </tr>\n",
              "    <tr>\n",
              "      <th>3</th>\n",
              "      <td>1949</td>\n",
              "      <td>April</td>\n",
              "      <td>129</td>\n",
              "    </tr>\n",
              "    <tr>\n",
              "      <th>4</th>\n",
              "      <td>1949</td>\n",
              "      <td>May</td>\n",
              "      <td>121</td>\n",
              "    </tr>\n",
              "  </tbody>\n",
              "</table>\n",
              "</div>"
            ],
            "text/plain": [
              "   year     month  passengers\n",
              "0  1949   January         112\n",
              "1  1949  February         118\n",
              "2  1949     March         132\n",
              "3  1949     April         129\n",
              "4  1949       May         121"
            ]
          },
          "metadata": {
            "tags": []
          },
          "execution_count": 51
        }
      ]
    },
    {
      "cell_type": "code",
      "metadata": {
        "id": "CZiFX9rj6ElJ",
        "colab_type": "code",
        "outputId": "4570102a-1585-4ea6-ed41-e5be90146c8d",
        "colab": {
          "base_uri": "https://localhost:8080/",
          "height": 279
        }
      },
      "source": [
        "flights.pivot_table(index='year', columns='month', values='passengers').plot();"
      ],
      "execution_count": 0,
      "outputs": [
        {
          "output_type": "display_data",
          "data": {
            "image/png": "[encoded data removed]",
            "text/plain": [
              "<Figure size 432x288 with 1 Axes>"
            ]
          },
          "metadata": {
            "tags": [],
            "needs_background": "light"
          }
        }
      ]
    },
    {
      "cell_type": "markdown",
      "metadata": {
        "id": "mnOuqL9K0dqh",
        "colab_type": "text"
      },
      "source": [
        "## Join Data Stretch Challenge\n",
        "\n",
        "The [Instacart blog post](https://tech.instacart.com/3-million-instacart-orders-open-sourced-d40d29ead6f2) has a visualization of \"**Popular products** purchased earliest in the day (green) and latest in the day (red).\" \n",
        "\n",
        "The post says,\n",
        "\n",
        "> \"We can also see the time of day that users purchase specific products.\n",
        "\n",
        "> Healthier snacks and staples tend to be purchased earlier in the day, whereas ice cream (especially Half Baked and The Tonight Dough) are far more popular when customers are ordering in the evening.\n",
        "\n",
        "> **In fact, of the top 25 latest ordered products, the first 24 are ice cream! The last one, of course, is a frozen pizza.**\"\n",
        "\n",
        "Your challenge is to reproduce the list of the top 25 latest ordered popular products.\n",
        "\n",
        "We'll define \"popular products\" as products with more than 2,900 orders.\n",
        "\n"
      ]
    },
    {
      "cell_type": "code",
      "metadata": {
        "id": "B-QNMrVkYap4",
        "colab_type": "code",
        "colab": {}
      },
      "source": [
        "##### YOUR CODE HERE #####"
      ],
      "execution_count": 0,
      "outputs": []
    },
    {
      "cell_type": "markdown",
      "metadata": {
        "id": "Ij8S60q0YXxo",
        "colab_type": "text"
      },
      "source": [
        "## Reshape Data Stretch Challenge\n",
        "\n",
        "_Try whatever sounds most interesting to you!_\n",
        "\n",
        "- Replicate more of Instacart's visualization showing \"Hour of Day Ordered\" vs \"Percent of Orders by Product\"\n",
        "- Replicate parts of the other visualization from [Instacart's blog post](https://tech.instacart.com/3-million-instacart-orders-open-sourced-d40d29ead6f2), showing \"Number of Purchases\" vs \"Percent Reorder Purchases\"\n",
        "- Get the most recent order for each user in Instacart's dataset. This is a useful baseline when [predicting a user's next order](https://www.kaggle.com/c/instacart-market-basket-analysis)\n",
        "- Replicate parts of the blog post linked at the top of this notebook: [Modern Pandas, Part 5: Tidy Data](https://tomaugspurger.github.io/modern-5-tidy.html)"
      ]
    },
    {
      "cell_type": "code",
      "metadata": {
        "id": "_d6IA2R0YXFY",
        "colab_type": "code",
        "colab": {}
      },
      "source": [
        "##### YOUR CODE HERE #####"
      ],
      "execution_count": 0,
      "outputs": []
    }
  ]
}