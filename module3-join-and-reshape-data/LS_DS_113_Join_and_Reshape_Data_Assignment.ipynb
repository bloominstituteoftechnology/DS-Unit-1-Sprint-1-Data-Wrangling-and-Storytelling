{
  "nbformat": 4,
  "nbformat_minor": 0,
  "metadata": {
    "colab": {
      "name": "DanAnderson_LS_DS_113_Join_and_Reshape_Data_Assignment.ipynb",
      "provenance": [],
      "collapsed_sections": []
    },
    "kernelspec": {
      "display_name": "Python 3",
      "language": "python",
      "name": "python3"
    }
  },
  "cells": [
    {
      "cell_type": "markdown",
      "metadata": {
        "colab_type": "text",
        "id": "pmU5YUal1eTZ"
      },
      "source": [
        "Lambda School Data Science\n",
        "\n",
        "*Unit 1, Sprint 1, Module 3*\n",
        "\n",
        "---\n",
        "\n",
        "# Join and Reshape datasets\n",
        "\n",
        "Objectives\n",
        "- concatenate data with pandas\n",
        "- merge data with pandas\n",
        "-  understand tidy data formatting\n",
        "-  melt and pivot data with pandas\n",
        "\n",
        "Links\n",
        "- [Pandas Cheat Sheet](https://github.com/pandas-dev/pandas/blob/master/doc/cheatsheet/Pandas_Cheat_Sheet.pdf)\n",
        "- [Tidy Data](https://en.wikipedia.org/wiki/Tidy_data)\n",
        "  - Combine Data Sets: Standard Joins\n",
        "  - Tidy Data\n",
        "  - Reshaping Data\n",
        "- Python Data Science Handbook\n",
        "  - [Chapter 3.6](https://jakevdp.github.io/PythonDataScienceHandbook/03.06-concat-and-append.html), Combining Datasets: Concat and Append\n",
        "  - [Chapter 3.7](https://jakevdp.github.io/PythonDataScienceHandbook/03.07-merge-and-join.html), Combining Datasets: Merge and Join\n",
        "  - [Chapter 3.8](https://jakevdp.github.io/PythonDataScienceHandbook/03.08-aggregation-and-grouping.html), Aggregation and Grouping\n",
        "  - [Chapter 3.9](https://jakevdp.github.io/PythonDataScienceHandbook/03.09-pivot-tables.html), Pivot Tables\n",
        "  \n",
        "Reference\n",
        "- Pandas Documentation: [Reshaping and Pivot Tables](https://pandas.pydata.org/pandas-docs/stable/reshaping.html)\n",
        "- Modern Pandas, Part 5: [Tidy Data](https://tomaugspurger.github.io/modern-5-tidy.html)"
      ]
    },
    {
      "cell_type": "code",
      "metadata": {
        "id": "5MsWLLW4Xg_i",
        "colab_type": "code",
        "outputId": "2bbaff88-6bb4-43d5-f80f-42d4e917777d",
        "colab": {
          "base_uri": "https://localhost:8080/",
          "height": 204
        }
      },
      "source": [
        "!wget https://s3.amazonaws.com/instacart-datasets/instacart_online_grocery_shopping_2017_05_01.tar.gz"
      ],
      "execution_count": 4,
      "outputs": [
        {
          "output_type": "stream",
          "text": [
            "--2019-11-06 05:34:06--  https://s3.amazonaws.com/instacart-datasets/instacart_online_grocery_shopping_2017_05_01.tar.gz\n",
            "Resolving s3.amazonaws.com (s3.amazonaws.com)... 52.216.176.253\n",
            "Connecting to s3.amazonaws.com (s3.amazonaws.com)|52.216.176.253|:443... connected.\n",
            "HTTP request sent, awaiting response... 200 OK\n",
            "Length: 205548478 (196M) [application/x-gzip]\n",
            "Saving to: ‘instacart_online_grocery_shopping_2017_05_01.tar.gz.1’\n",
            "\n",
            "instacart_online_gr 100%[===================>] 196.03M  69.5MB/s    in 2.8s    \n",
            "\n",
            "2019-11-06 05:34:09 (69.5 MB/s) - ‘instacart_online_grocery_shopping_2017_05_01.tar.gz.1’ saved [205548478/205548478]\n",
            "\n"
          ],
          "name": "stdout"
        }
      ]
    },
    {
      "cell_type": "code",
      "metadata": {
        "id": "gfr4_Ya0XkLI",
        "colab_type": "code",
        "outputId": "4a7edb11-1e9f-4e73-c5a2-8b957f35573f",
        "colab": {
          "base_uri": "https://localhost:8080/",
          "height": 238
        }
      },
      "source": [
        "!tar --gunzip --extract --verbose --file=instacart_online_grocery_shopping_2017_05_01.tar.gz"
      ],
      "execution_count": 5,
      "outputs": [
        {
          "output_type": "stream",
          "text": [
            "instacart_2017_05_01/\n",
            "instacart_2017_05_01/._aisles.csv\n",
            "instacart_2017_05_01/aisles.csv\n",
            "instacart_2017_05_01/._departments.csv\n",
            "instacart_2017_05_01/departments.csv\n",
            "instacart_2017_05_01/._order_products__prior.csv\n",
            "instacart_2017_05_01/order_products__prior.csv\n",
            "instacart_2017_05_01/._order_products__train.csv\n",
            "instacart_2017_05_01/order_products__train.csv\n",
            "instacart_2017_05_01/._orders.csv\n",
            "instacart_2017_05_01/orders.csv\n",
            "instacart_2017_05_01/._products.csv\n",
            "instacart_2017_05_01/products.csv\n"
          ],
          "name": "stdout"
        }
      ]
    },
    {
      "cell_type": "code",
      "metadata": {
        "id": "N4YyGPNdXrT0",
        "colab_type": "code",
        "outputId": "a30a01c2-a702-4f23-d322-ade93ddb88b7",
        "colab": {
          "base_uri": "https://localhost:8080/",
          "height": 34
        }
      },
      "source": [
        "%cd instacart_2017_05_01"
      ],
      "execution_count": 6,
      "outputs": [
        {
          "output_type": "stream",
          "text": [
            "/content/instacart_2017_05_01\n"
          ],
          "name": "stdout"
        }
      ]
    },
    {
      "cell_type": "code",
      "metadata": {
        "id": "b26wmLUiXtlM",
        "colab_type": "code",
        "outputId": "2c71d7c2-b6e0-4405-c462-abf42eee29b5",
        "colab": {
          "base_uri": "https://localhost:8080/",
          "height": 119
        }
      },
      "source": [
        "!ls -lh *.csv"
      ],
      "execution_count": 7,
      "outputs": [
        {
          "output_type": "stream",
          "text": [
            "-rw-r--r-- 1 502 staff 2.6K May  2  2017 aisles.csv\n",
            "-rw-r--r-- 1 502 staff  270 May  2  2017 departments.csv\n",
            "-rw-r--r-- 1 502 staff 551M May  2  2017 order_products__prior.csv\n",
            "-rw-r--r-- 1 502 staff  24M May  2  2017 order_products__train.csv\n",
            "-rw-r--r-- 1 502 staff 104M May  2  2017 orders.csv\n",
            "-rw-r--r-- 1 502 staff 2.1M May  2  2017 products.csv\n"
          ],
          "name": "stdout"
        }
      ]
    },
    {
      "cell_type": "markdown",
      "metadata": {
        "colab_type": "text",
        "id": "kAMtvSQWPUcj"
      },
      "source": [
        "# Assignment\n",
        "\n",
        "## Join Data Practice\n",
        "\n",
        "These are the top 10 most frequently ordered products. How many times was each ordered? \n",
        "\n",
        "1. Banana\n",
        "2. Bag of Organic Bananas\n",
        "3. Organic Strawberries\n",
        "4. Organic Baby Spinach \n",
        "5. Organic Hass Avocado\n",
        "6. Organic Avocado\n",
        "7. Large Lemon \n",
        "8. Strawberries\n",
        "9. Limes \n",
        "10. Organic Whole Milk\n",
        "\n",
        "First, write down which columns you need and which dataframes have them.\n",
        "\n",
        "Next, merge these into a single dataframe.\n",
        "\n",
        "Then, use pandas functions from the previous lesson to get the counts of the top 10 most frequently ordered products."
      ]
    },
    {
      "cell_type": "code",
      "metadata": {
        "id": "Rm7YWEAcaCnv",
        "colab_type": "code",
        "colab": {}
      },
      "source": [
        "# Imports\n",
        "import pandas as pd\n",
        "import re"
      ],
      "execution_count": 0,
      "outputs": []
    },
    {
      "cell_type": "code",
      "metadata": {
        "id": "vvE0EVHgXMFO",
        "colab_type": "code",
        "colab": {
          "base_uri": "https://localhost:8080/",
          "height": 68
        },
        "outputId": "b95143bb-39fe-49d2-a15e-4f36dc21c1f7"
      },
      "source": [
        "# Load Orders, Products, and OrderProducts into dataframes\n",
        "df_orders = pd.read_csv('orders.csv')\n",
        "df_products = pd.read_csv('products.csv')\n",
        "df_order_products_prior = pd.read_csv('order_products__prior.csv')\n",
        "df_order_products_train = pd.read_csv('order_products__train.csv')\n",
        "\n",
        "# Print out the columns in each dataframe so we can inspect them for use downstream\n",
        "print(f'Orders Columns: {list(df_orders.columns)}')\n",
        "print(f'Products Columns: {list(df_products.columns)}')\n",
        "print(f'Order Products Columns: {list(df_order_products_prior.columns)}')\n"
      ],
      "execution_count": 8,
      "outputs": [
        {
          "output_type": "stream",
          "text": [
            "Orders Columns: ['order_id', 'user_id', 'eval_set', 'order_number', 'order_dow', 'order_hour_of_day', 'days_since_prior_order']\n",
            "Products Columns: ['product_id', 'product_name', 'aisle_id', 'department_id']\n",
            "Order Products Columns: ['order_id', 'product_id', 'add_to_cart_order', 'reordered']\n"
          ],
          "name": "stdout"
        }
      ]
    },
    {
      "cell_type": "code",
      "metadata": {
        "id": "n7jpi7-ycL7t",
        "colab_type": "code",
        "colab": {
          "base_uri": "https://localhost:8080/",
          "height": 80
        },
        "outputId": "75f13424-032f-432e-ce79-75ee046ad5d9"
      },
      "source": [
        "# Concatenate the order_product datasets to get a full picture of all product orders\n",
        "df_order_products_all = pd.concat([df_order_products_prior, df_order_products_train])\n",
        "df_order_products_all.sample()"
      ],
      "execution_count": 9,
      "outputs": [
        {
          "output_type": "execute_result",
          "data": {
            "text/html": [
              "<div>\n",
              "<style scoped>\n",
              "    .dataframe tbody tr th:only-of-type {\n",
              "        vertical-align: middle;\n",
              "    }\n",
              "\n",
              "    .dataframe tbody tr th {\n",
              "        vertical-align: top;\n",
              "    }\n",
              "\n",
              "    .dataframe thead th {\n",
              "        text-align: right;\n",
              "    }\n",
              "</style>\n",
              "<table border=\"1\" class=\"dataframe\">\n",
              "  <thead>\n",
              "    <tr style=\"text-align: right;\">\n",
              "      <th></th>\n",
              "      <th>order_id</th>\n",
              "      <th>product_id</th>\n",
              "      <th>add_to_cart_order</th>\n",
              "      <th>reordered</th>\n",
              "    </tr>\n",
              "  </thead>\n",
              "  <tbody>\n",
              "    <tr>\n",
              "      <th>12865735</th>\n",
              "      <td>1358080</td>\n",
              "      <td>47865</td>\n",
              "      <td>12</td>\n",
              "      <td>0</td>\n",
              "    </tr>\n",
              "  </tbody>\n",
              "</table>\n",
              "</div>"
            ],
            "text/plain": [
              "          order_id  product_id  add_to_cart_order  reordered\n",
              "12865735   1358080       47865                 12          0"
            ]
          },
          "metadata": {
            "tags": []
          },
          "execution_count": 9
        }
      ]
    },
    {
      "cell_type": "code",
      "metadata": {
        "id": "WqvlLSvygqJs",
        "colab_type": "code",
        "colab": {}
      },
      "source": [
        "# Produce an interim dataframe of product names - include a \"normalized\" product name that:\n",
        "#  - is lowercase\n",
        "#  - strips out \"whitespace\"\n",
        "\n",
        "# \"nrmliz\" is a function that returns a string that is lowercase and stripped of whitespace\n",
        "def nrmliz(str):\n",
        "  tmp = re.sub('\\s','', str)\n",
        "  tmp = tmp.lower()\n",
        "  return tmp\n",
        "\n",
        "# Create a column of normalized product names by applying the \"nrmliz\" function\n",
        "df_products['product_name_clean'] = df_products['product_name'].apply(nrmliz)\n"
      ],
      "execution_count": 0,
      "outputs": []
    },
    {
      "cell_type": "code",
      "metadata": {
        "id": "pjAxDtaIdEOC",
        "colab_type": "code",
        "colab": {
          "base_uri": "https://localhost:8080/",
          "height": 289
        },
        "outputId": "4724a104-3573-4a50-b548-b69369bcec17"
      },
      "source": [
        "# Do a quick and dirty check to see if we have duplicate product names (due to weird spellngs, whitespace)\n",
        "print('banana', len(df_products[df_products['product_name_clean'] == 'banana']))\n",
        "print('bagoforganicbananas', len(df_products[df_products['product_name_clean'] == 'bagoforganicbananas']))\n",
        "print('organicstrawberries', len(df_products[df_products['product_name_clean'] == 'organicstrawberries']))\n",
        "print('organicbabyspinach', len(df_products[df_products['product_name_clean'] == 'organicbabyspinach']))\n",
        "print('organichassavocado', len(df_products[df_products['product_name_clean'] == 'organichassavocado']))\n",
        "print('organicavocado', len(df_products[df_products['product_name_clean'] == 'organicavocado']))\n",
        "print('largelemon', len(df_products[df_products['product_name_clean'] == 'largelemon']))\n",
        "print('strawberries', len(df_products[df_products['product_name_clean'] == 'strawberries']))\n",
        "print('limes', len(df_products[df_products['product_name_clean'] == 'limes']))\n",
        "print('organicwholemilk', len(df_products[df_products['product_name_clean'] == 'organicwholemilk']))\n",
        "\n",
        "# Do we have multiple 'Organic Whole Mile' products?\n",
        "print(f'\\n{df_products[df_products[\"product_name_clean\"] == \"organicwholemilk\"]}')\n"
      ],
      "execution_count": 11,
      "outputs": [
        {
          "output_type": "stream",
          "text": [
            "banana 1\n",
            "bagoforganicbananas 1\n",
            "organicstrawberries 1\n",
            "organicbabyspinach 1\n",
            "organichassavocado 1\n",
            "organicavocado 1\n",
            "largelemon 1\n",
            "strawberries 1\n",
            "limes 1\n",
            "organicwholemilk 2\n",
            "\n",
            "       product_id         product_name  ...  department_id  product_name_clean\n",
            "27844       27845   Organic Whole Milk  ...             16    organicwholemilk\n",
            "31719       31720  Organic  Whole Milk  ...             16    organicwholemilk\n",
            "\n",
            "[2 rows x 5 columns]\n"
          ],
          "name": "stdout"
        }
      ]
    },
    {
      "cell_type": "markdown",
      "metadata": {
        "id": "gbQ9_Rq3tFHu",
        "colab_type": "text"
      },
      "source": [
        "### Product Name Findings\n",
        "\n",
        "* 'Organic Whole Milk' is represented by two product ids.  We may need to use the \"cleaned\" or normalized product names."
      ]
    },
    {
      "cell_type": "markdown",
      "metadata": {
        "id": "nwTnf93zt4VH",
        "colab_type": "text"
      },
      "source": [
        "### Column Selection\n",
        "\n",
        "What columns should we select to include in a single dataframe?\n",
        "\n",
        "* `order_id` from the `df_order_products_all` dataframe\n",
        "* `product_name_clean` from the `df_products` dataframe\n",
        "* `product_name` from the `df_products` dataframe\n",
        "*  `product_id` from the `df_products` dataframe\n"
      ]
    },
    {
      "cell_type": "code",
      "metadata": {
        "id": "8pazJbu9yapI",
        "colab_type": "code",
        "colab": {
          "base_uri": "https://localhost:8080/",
          "height": 80
        },
        "outputId": "8813249b-c3ce-4131-e7c4-d519bb679c03"
      },
      "source": [
        "# Merge the df_products and df_order_products_all dataframes\n",
        "df_count_join = df_order_products_all.merge(df_products)\n",
        "\n",
        "df_count_join.sample()"
      ],
      "execution_count": 12,
      "outputs": [
        {
          "output_type": "execute_result",
          "data": {
            "text/html": [
              "<div>\n",
              "<style scoped>\n",
              "    .dataframe tbody tr th:only-of-type {\n",
              "        vertical-align: middle;\n",
              "    }\n",
              "\n",
              "    .dataframe tbody tr th {\n",
              "        vertical-align: top;\n",
              "    }\n",
              "\n",
              "    .dataframe thead th {\n",
              "        text-align: right;\n",
              "    }\n",
              "</style>\n",
              "<table border=\"1\" class=\"dataframe\">\n",
              "  <thead>\n",
              "    <tr style=\"text-align: right;\">\n",
              "      <th></th>\n",
              "      <th>order_id</th>\n",
              "      <th>product_id</th>\n",
              "      <th>add_to_cart_order</th>\n",
              "      <th>reordered</th>\n",
              "      <th>product_name</th>\n",
              "      <th>aisle_id</th>\n",
              "      <th>department_id</th>\n",
              "      <th>product_name_clean</th>\n",
              "    </tr>\n",
              "  </thead>\n",
              "  <tbody>\n",
              "    <tr>\n",
              "      <th>13236305</th>\n",
              "      <td>2065863</td>\n",
              "      <td>46720</td>\n",
              "      <td>14</td>\n",
              "      <td>1</td>\n",
              "      <td>Organic Free Range Chicken Broth</td>\n",
              "      <td>69</td>\n",
              "      <td>15</td>\n",
              "      <td>organicfreerangechickenbroth</td>\n",
              "    </tr>\n",
              "  </tbody>\n",
              "</table>\n",
              "</div>"
            ],
            "text/plain": [
              "          order_id  product_id  ...  department_id            product_name_clean\n",
              "13236305   2065863       46720  ...             15  organicfreerangechickenbroth\n",
              "\n",
              "[1 rows x 8 columns]"
            ]
          },
          "metadata": {
            "tags": []
          },
          "execution_count": 12
        }
      ]
    },
    {
      "cell_type": "code",
      "metadata": {
        "id": "xdZqVpNM3WNw",
        "colab_type": "code",
        "colab": {
          "base_uri": "https://localhost:8080/",
          "height": 34
        },
        "outputId": "b19c711b-3626-48de-ab14-8be88f83ce9b"
      },
      "source": [
        "# Count up the orders of the most frequently ordered products\n",
        "# Construct a list of our high frequency products\n",
        "top_products = [\n",
        "    {'name': 'Banana', 'normal': 'banana'},\n",
        "    {'name': 'Bag of Organic Bananas', 'normal': 'bagoforganicbananas'},\n",
        "    {'name': 'Organic Strawberries', 'normal': 'organicstrawberries'},\n",
        "    {'name': 'Organic Baby Spinach', 'normal': 'organicbabyspinach'},\n",
        "    {'name': 'Organic Hass Avocado', 'normal': 'organichassavocado'},\n",
        "    {'name': 'Organic Avocado', 'normal': 'organicavocado'},\n",
        "    {'name': 'Large Lemon', 'normal': 'largelemon'},\n",
        "    {'name': 'Strawberries', 'normal': 'strawberries'},\n",
        "    {'name': 'Limes', 'normal': 'limes'},\n",
        "    {'name': 'Organic Whole Milk', 'normal': 'organicwholemilk'}\n",
        "]\n",
        "\n",
        "# Do we have any duplicates? (Orders in which the same product is \"rung\" up more than once)\n",
        "# Create a dataframe of just just order_id and product_name_clean (normalized product name) \n",
        "df_check_multiple_rings = df_count_join[['order_id', 'product_name_clean']]\n",
        "\n",
        "# Are there any duplicates? If so, these are multiple product \"rings\" and let's ignore those.\n",
        "print(f'Number of multiple \"rings\": {len(df_check_multiple_rings)-len(df_check_multiple_rings.drop_duplicates())}')\n",
        "\n",
        "# Create a new dataframe that has the multiple rings or duplicate order_id / normalized product name pairs removed\n",
        "df_no_multiple_rings = df_check_multiple_rings.drop_duplicates()\n"
      ],
      "execution_count": 13,
      "outputs": [
        {
          "output_type": "stream",
          "text": [
            "Number of multiple \"rings\": 653\n"
          ],
          "name": "stdout"
        }
      ]
    },
    {
      "cell_type": "code",
      "metadata": {
        "id": "p3T9yRGNMCsF",
        "colab_type": "code",
        "colab": {
          "base_uri": "https://localhost:8080/",
          "height": 187
        },
        "outputId": "fb5ecfd1-9bcf-4fa7-d83e-d7f2d50377e1"
      },
      "source": [
        "# Determine the counts representing the frequency of a product order\n",
        "# As a convenience, iterate through the top products and count the number of orders using the normalized product name (damn you 'Organic Whole Milk'!)\n",
        "for prod in top_products:\n",
        "  print(f'Number of times product \"{prod[\"name\"]}\" was ordered: {len(df_no_multiple_rings[df_no_multiple_rings[\"product_name_clean\"] == prod[\"normal\"]])}')"
      ],
      "execution_count": 15,
      "outputs": [
        {
          "output_type": "stream",
          "text": [
            "Number of times product \"Banana\" was ordered: 491291\n",
            "Number of times product \"Bag of Organic Bananas\" was ordered: 394930\n",
            "Number of times product \"Organic Strawberries\" was ordered: 275577\n",
            "Number of times product \"Organic Baby Spinach\" was ordered: 251705\n",
            "Number of times product \"Organic Hass Avocado\" was ordered: 220877\n",
            "Number of times product \"Organic Avocado\" was ordered: 184224\n",
            "Number of times product \"Large Lemon\" was ordered: 160792\n",
            "Number of times product \"Strawberries\" was ordered: 149445\n",
            "Number of times product \"Limes\" was ordered: 146660\n",
            "Number of times product \"Organic Whole Milk\" was ordered: 152748\n"
          ],
          "name": "stdout"
        }
      ]
    },
    {
      "cell_type": "markdown",
      "metadata": {
        "id": "RsiWi4DuXPLP",
        "colab_type": "text"
      },
      "source": [
        "## Reshape Data Section\n",
        "\n",
        "- Replicate the lesson code\n",
        "- Complete the code cells we skipped near the beginning of the notebook\n",
        "- Table 2 --> Tidy\n",
        "- Tidy --> Table 2\n",
        "- Load seaborn's `flights` dataset by running the cell below. Then create a pivot table showing the number of passengers by month and year. Use year for the index and month for the columns. You've done it right if you get 112 passengers for January 1949 and 432 passengers for December 1960."
      ]
    },
    {
      "cell_type": "code",
      "metadata": {
        "id": "fgxulJQq0uLw",
        "colab_type": "code",
        "colab": {}
      },
      "source": [
        "flights = sns.load_dataset('flights')"
      ],
      "execution_count": 0,
      "outputs": []
    },
    {
      "cell_type": "code",
      "metadata": {
        "id": "1qKc88WI0up-",
        "colab_type": "code",
        "colab": {}
      },
      "source": [
        "##### YOUR CODE HERE #####"
      ],
      "execution_count": 0,
      "outputs": []
    },
    {
      "cell_type": "markdown",
      "metadata": {
        "id": "mnOuqL9K0dqh",
        "colab_type": "text"
      },
      "source": [
        "## Join Data Stretch Challenge\n",
        "\n",
        "The [Instacart blog post](https://tech.instacart.com/3-million-instacart-orders-open-sourced-d40d29ead6f2) has a visualization of \"**Popular products** purchased earliest in the day (green) and latest in the day (red).\" \n",
        "\n",
        "The post says,\n",
        "\n",
        "> \"We can also see the time of day that users purchase specific products.\n",
        "\n",
        "> Healthier snacks and staples tend to be purchased earlier in the day, whereas ice cream (especially Half Baked and The Tonight Dough) are far more popular when customers are ordering in the evening.\n",
        "\n",
        "> **In fact, of the top 25 latest ordered products, the first 24 are ice cream! The last one, of course, is a frozen pizza.**\"\n",
        "\n",
        "Your challenge is to reproduce the list of the top 25 latest ordered popular products.\n",
        "\n",
        "We'll define \"popular products\" as products with more than 2,900 orders.\n",
        "\n"
      ]
    },
    {
      "cell_type": "code",
      "metadata": {
        "id": "B-QNMrVkYap4",
        "colab_type": "code",
        "colab": {}
      },
      "source": [
        "##### YOUR CODE HERE #####"
      ],
      "execution_count": 0,
      "outputs": []
    },
    {
      "cell_type": "markdown",
      "metadata": {
        "id": "Ij8S60q0YXxo",
        "colab_type": "text"
      },
      "source": [
        "## Reshape Data Stretch Challenge\n",
        "\n",
        "_Try whatever sounds most interesting to you!_\n",
        "\n",
        "- Replicate more of Instacart's visualization showing \"Hour of Day Ordered\" vs \"Percent of Orders by Product\"\n",
        "- Replicate parts of the other visualization from [Instacart's blog post](https://tech.instacart.com/3-million-instacart-orders-open-sourced-d40d29ead6f2), showing \"Number of Purchases\" vs \"Percent Reorder Purchases\"\n",
        "- Get the most recent order for each user in Instacart's dataset. This is a useful baseline when [predicting a user's next order](https://www.kaggle.com/c/instacart-market-basket-analysis)\n",
        "- Replicate parts of the blog post linked at the top of this notebook: [Modern Pandas, Part 5: Tidy Data](https://tomaugspurger.github.io/modern-5-tidy.html)"
      ]
    },
    {
      "cell_type": "code",
      "metadata": {
        "id": "_d6IA2R0YXFY",
        "colab_type": "code",
        "colab": {}
      },
      "source": [
        "##### YOUR CODE HERE #####"
      ],
      "execution_count": 0,
      "outputs": []
    }
  ]
}
