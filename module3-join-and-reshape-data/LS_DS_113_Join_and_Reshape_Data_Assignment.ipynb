{
 "cells": [
  {
   "cell_type": "markdown",
   "metadata": {
    "colab_type": "text",
    "id": "pmU5YUal1eTZ"
   },
   "source": [
    "Lambda School Data Science\n",
    "\n",
    "*Unit 1, Sprint 1, Module 3*\n",
    "\n",
    "---\n",
    "\n",
    "# Join and Reshape datasets\n",
    "\n",
    "Objectives\n",
    "- concatenate data with pandas\n",
    "- merge data with pandas\n",
    "-  understand tidy data formatting\n",
    "-  melt and pivot data with pandas\n",
    "\n",
    "Links\n",
    "- [Pandas Cheat Sheet](https://github.com/pandas-dev/pandas/blob/master/doc/cheatsheet/Pandas_Cheat_Sheet.pdf)\n",
    "- [Tidy Data](https://en.wikipedia.org/wiki/Tidy_data)\n",
    "  - Combine Data Sets: Standard Joins\n",
    "  - Tidy Data\n",
    "  - Reshaping Data\n",
    "- Python Data Science Handbook\n",
    "  - [Chapter 3.6](https://jakevdp.github.io/PythonDataScienceHandbook/03.06-concat-and-append.html), Combining Datasets: Concat and Append\n",
    "  - [Chapter 3.7](https://jakevdp.github.io/PythonDataScienceHandbook/03.07-merge-and-join.html), Combining Datasets: Merge and Join\n",
    "  - [Chapter 3.8](https://jakevdp.github.io/PythonDataScienceHandbook/03.08-aggregation-and-grouping.html), Aggregation and Grouping\n",
    "  - [Chapter 3.9](https://jakevdp.github.io/PythonDataScienceHandbook/03.09-pivot-tables.html), Pivot Tables\n",
    "  \n",
    "Reference\n",
    "- Pandas Documentation: [Reshaping and Pivot Tables](https://pandas.pydata.org/pandas-docs/stable/reshaping.html)\n",
    "- Modern Pandas, Part 5: [Tidy Data](https://tomaugspurger.github.io/modern-5-tidy.html)"
   ]
  },
  {
   "cell_type": "code",
   "execution_count": 14,
   "metadata": {
    "colab": {
     "base_uri": "https://localhost:8080/",
     "height": 207
    },
    "colab_type": "code",
    "id": "5MsWLLW4Xg_i",
    "outputId": "00f1e793-0ef5-49f4-b76f-c085bba4ff2e"
   },
   "outputs": [
    {
     "name": "stdout",
     "output_type": "stream",
     "text": [
      "  % Total    % Received % Xferd  Average Speed   Time    Time     Time  Current\n",
      "                                 Dload  Upload   Total   Spent    Left  Speed\n",
      "100  196M  100  196M    0     0  6787k      0  0:00:29  0:00:29 --:--:-- 7142k\n"
     ]
    }
   ],
   "source": [
    "!curl -O https://s3.amazonaws.com/instacart-datasets/instacart_online_grocery_shopping_2017_05_01.tar.gz"
   ]
  },
  {
   "cell_type": "code",
   "execution_count": 15,
   "metadata": {
    "colab": {
     "base_uri": "https://localhost:8080/",
     "height": 242
    },
    "colab_type": "code",
    "id": "gfr4_Ya0XkLI",
    "outputId": "b666e7a1-ddc9-4c3b-8ebf-0ce52f83c1f1"
   },
   "outputs": [
    {
     "name": "stdout",
     "output_type": "stream",
     "text": [
      "x instacart_2017_05_01/\n",
      "x instacart_2017_05_01/aisles.csv\n",
      "x instacart_2017_05_01/departments.csv\n",
      "x instacart_2017_05_01/order_products__prior.csv\n",
      "x instacart_2017_05_01/order_products__train.csv\n",
      "x instacart_2017_05_01/orders.csv\n",
      "x instacart_2017_05_01/products.csv\n"
     ]
    }
   ],
   "source": [
    "!tar --gunzip --extract --verbose --file=instacart_online_grocery_shopping_2017_05_01.tar.gz"
   ]
  },
  {
   "cell_type": "code",
   "execution_count": 16,
   "metadata": {
    "colab": {
     "base_uri": "https://localhost:8080/",
     "height": 35
    },
    "colab_type": "code",
    "id": "N4YyGPNdXrT0",
    "outputId": "854868ef-38a9-413d-d5d2-d1b0c454d437"
   },
   "outputs": [
    {
     "name": "stdout",
     "output_type": "stream",
     "text": [
      "/Users/daniel/Google Drive/Lambda/DS-Unit-1-Sprint-1-Data-Wrangling-and-Storytelling/module3-join-and-reshape-data/instacart_2017_05_01/instacart_2017_05_01\n"
     ]
    }
   ],
   "source": [
    "%cd instacart_2017_05_01"
   ]
  },
  {
   "cell_type": "code",
   "execution_count": 18,
   "metadata": {
    "colab": {
     "base_uri": "https://localhost:8080/",
     "height": 121
    },
    "colab_type": "code",
    "id": "b26wmLUiXtlM",
    "outputId": "8e089fc5-2469-4c15-e25c-ba4c3b3275fa"
   },
   "outputs": [
    {
     "name": "stdout",
     "output_type": "stream",
     "text": [
      "-rw-r--r--@ 1 daniel  staff   2.5K May  2  2017 aisles.csv\n",
      "-rw-r--r--@ 1 daniel  staff   270B May  2  2017 departments.csv\n",
      "-rw-r--r--@ 1 daniel  staff   551M May  2  2017 order_products__prior.csv\n",
      "-rw-r--r--@ 1 daniel  staff    24M May  2  2017 order_products__train.csv\n",
      "-rw-r--r--@ 1 daniel  staff   104M May  2  2017 orders.csv\n",
      "-rw-r--r--@ 1 daniel  staff   2.1M May  2  2017 products.csv\n"
     ]
    }
   ],
   "source": [
    "!ls -lh *.csv"
   ]
  },
  {
   "cell_type": "markdown",
   "metadata": {
    "colab_type": "text",
    "id": "kAMtvSQWPUcj"
   },
   "source": [
    "# Assignment\n",
    "\n",
    "## Join Data Practice\n",
    "\n",
    "These are the top 10 most frequently ordered products. How many times was each ordered? \n",
    "\n",
    "1. Banana\n",
    "2. Bag of Organic Bananas\n",
    "3. Organic Strawberries\n",
    "4. Organic Baby Spinach \n",
    "5. Organic Hass Avocado\n",
    "6. Organic Avocado\n",
    "7. Large Lemon \n",
    "8. Strawberries\n",
    "9. Limes \n",
    "10. Organic Whole Milk\n",
    "\n",
    "First, write down which columns you need and which dataframes have them.\n",
    "\n",
    "Next, merge these into a single dataframe.\n",
    "\n",
    "Then, use pandas functions from the previous lesson to get the counts of the top 10 most frequently ordered products."
   ]
  },
  {
   "cell_type": "code",
   "execution_count": null,
   "metadata": {
    "colab": {},
    "colab_type": "code",
    "id": "vvE0EVHgXMFO"
   },
   "outputs": [],
   "source": [
    "##### YOUR CODE HERE #####"
   ]
  },
  {
   "cell_type": "markdown",
   "metadata": {
    "colab_type": "text",
    "id": "RsiWi4DuXPLP"
   },
   "source": [
    "## Reshape Data Section\n",
    "\n",
    "- Replicate the lesson code. Remember, if you haven't followed along typing out what we did during lecture, do that now to get more repetition with the syntax.\n",
    "- Take table 2 (the transpose of table 1) and practice changing it into Tidy format and back again. You should not use the transpose operation anywhere in this code:\n",
    " - Table 2 --> Tidy\n",
    " - Tidy --> Table 2\n",
    "- Load seaborn's `flights` dataset by running the cell below. Then create a pivot table showing the number of passengers by month and year. Use year for the index and month for the columns. You've done it right if you get 112 passengers for January 1949 and 432 passengers for December 1960."
   ]
  },
  {
   "cell_type": "code",
   "execution_count": 21,
   "metadata": {
    "colab": {
     "base_uri": "https://localhost:8080/",
     "height": 110
    },
    "colab_type": "code",
    "id": "4qRj4tyxm8t0",
    "outputId": "a98f1cd4-8079-4b40-d4eb-e6f26c8f0562"
   },
   "outputs": [
    {
     "data": {
      "text/html": [
       "<div>\n",
       "<style scoped>\n",
       "    .dataframe tbody tr th:only-of-type {\n",
       "        vertical-align: middle;\n",
       "    }\n",
       "\n",
       "    .dataframe tbody tr th {\n",
       "        vertical-align: top;\n",
       "    }\n",
       "\n",
       "    .dataframe thead th {\n",
       "        text-align: right;\n",
       "    }\n",
       "</style>\n",
       "<table border=\"1\" class=\"dataframe\">\n",
       "  <thead>\n",
       "    <tr style=\"text-align: right;\">\n",
       "      <th></th>\n",
       "      <th>John Smith</th>\n",
       "      <th>Jane Doe</th>\n",
       "      <th>Mary Johnson</th>\n",
       "    </tr>\n",
       "  </thead>\n",
       "  <tbody>\n",
       "    <tr>\n",
       "      <th>treatmenta</th>\n",
       "      <td>NaN</td>\n",
       "      <td>16.0</td>\n",
       "      <td>3.0</td>\n",
       "    </tr>\n",
       "    <tr>\n",
       "      <th>treatmentb</th>\n",
       "      <td>2.0</td>\n",
       "      <td>11.0</td>\n",
       "      <td>1.0</td>\n",
       "    </tr>\n",
       "  </tbody>\n",
       "</table>\n",
       "</div>"
      ],
      "text/plain": [
       "            John Smith  Jane Doe  Mary Johnson\n",
       "treatmenta         NaN      16.0           3.0\n",
       "treatmentb         2.0      11.0           1.0"
      ]
     },
     "execution_count": 21,
     "metadata": {},
     "output_type": "execute_result"
    }
   ],
   "source": [
    "import pandas as pd\n",
    "import numpy as np\n",
    "import seaborn as sns\n",
    "\n",
    "table1 = pd.DataFrame(\n",
    "    [[np.nan, 2],\n",
    "     [16,    11], \n",
    "     [3,      1]],\n",
    "    index=['John Smith', 'Jane Doe', 'Mary Johnson'], \n",
    "    columns=['treatmenta', 'treatmentb'])\n",
    "\n",
    "table2 = table1.T\n",
    "\n",
    "table2"
   ]
  },
  {
   "cell_type": "code",
   "execution_count": null,
   "metadata": {
    "colab": {},
    "colab_type": "code",
    "id": "OflVpkPym40q"
   },
   "outputs": [],
   "source": [
    "# table2 -> tidy"
   ]
  },
  {
   "cell_type": "code",
   "execution_count": null,
   "metadata": {
    "colab": {},
    "colab_type": "code",
    "id": "VCuVG7wVm6r5"
   },
   "outputs": [],
   "source": [
    "# tidy -> table2"
   ]
  },
  {
   "cell_type": "code",
   "execution_count": 23,
   "metadata": {
    "colab": {},
    "colab_type": "code",
    "id": "fgxulJQq0uLw"
   },
   "outputs": [],
   "source": [
    "flights = sns.load_dataset('flights')"
   ]
  },
  {
   "cell_type": "code",
   "execution_count": null,
   "metadata": {
    "colab": {},
    "colab_type": "code",
    "id": "1qKc88WI0up-"
   },
   "outputs": [],
   "source": [
    "# Flights Pivot Table"
   ]
  },
  {
   "cell_type": "markdown",
   "metadata": {
    "colab_type": "text",
    "id": "mnOuqL9K0dqh"
   },
   "source": [
    "## Join Data Stretch Challenge\n",
    "\n",
    "The [Instacart blog post](https://tech.instacart.com/3-million-instacart-orders-open-sourced-d40d29ead6f2) has a visualization of \"**Popular products** purchased earliest in the day (green) and latest in the day (red).\" \n",
    "\n",
    "The post says,\n",
    "\n",
    "> \"We can also see the time of day that users purchase specific products.\n",
    "\n",
    "> Healthier snacks and staples tend to be purchased earlier in the day, whereas ice cream (especially Half Baked and The Tonight Dough) are far more popular when customers are ordering in the evening.\n",
    "\n",
    "> **In fact, of the top 25 latest ordered products, the first 24 are ice cream! The last one, of course, is a frozen pizza.**\"\n",
    "\n",
    "Your challenge is to reproduce the list of the top 25 latest ordered popular products.\n",
    "\n",
    "We'll define \"popular products\" as products with more than 2,900 orders.\n",
    "\n"
   ]
  },
  {
   "cell_type": "code",
   "execution_count": null,
   "metadata": {
    "colab": {},
    "colab_type": "code",
    "id": "B-QNMrVkYap4"
   },
   "outputs": [],
   "source": [
    "##### YOUR CODE HERE #####"
   ]
  },
  {
   "cell_type": "markdown",
   "metadata": {
    "colab_type": "text",
    "id": "Ij8S60q0YXxo"
   },
   "source": [
    "## Reshape Data Stretch Challenge\n",
    "\n",
    "_Try whatever sounds most interesting to you!_\n",
    "\n",
    "- Replicate more of Instacart's visualization showing \"Hour of Day Ordered\" vs \"Percent of Orders by Product\"\n",
    "- Replicate parts of the other visualization from [Instacart's blog post](https://tech.instacart.com/3-million-instacart-orders-open-sourced-d40d29ead6f2), showing \"Number of Purchases\" vs \"Percent Reorder Purchases\"\n",
    "- Get the most recent order for each user in Instacart's dataset. This is a useful baseline when [predicting a user's next order](https://www.kaggle.com/c/instacart-market-basket-analysis)\n",
    "- Replicate parts of the blog post linked at the top of this notebook: [Modern Pandas, Part 5: Tidy Data](https://tomaugspurger.github.io/modern-5-tidy.html)"
   ]
  },
  {
   "cell_type": "code",
   "execution_count": null,
   "metadata": {
    "colab": {},
    "colab_type": "code",
    "id": "_d6IA2R0YXFY"
   },
   "outputs": [],
   "source": [
    "##### YOUR CODE HERE #####"
   ]
  }
 ],
 "metadata": {
  "colab": {
   "collapsed_sections": [],
   "name": "LS_DS_113_Join_and_Reshape_Data_Assignment.ipynb",
   "provenance": []
  },
  "kernelspec": {
   "display_name": "Python 3",
   "language": "python",
   "name": "python3"
  },
  "language_info": {
   "codemirror_mode": {
    "name": "ipython",
    "version": 3
   },
   "file_extension": ".py",
   "mimetype": "text/x-python",
   "name": "python",
   "nbconvert_exporter": "python",
   "pygments_lexer": "ipython3",
   "version": "3.8.1"
  }
 },
 "nbformat": 4,
 "nbformat_minor": 4
}
