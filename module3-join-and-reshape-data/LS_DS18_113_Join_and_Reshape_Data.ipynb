{
  "nbformat": 4,
  "nbformat_minor": 0,
  "metadata": {
    "colab": {
      "name": "LS_DS18_113_Join_and_Reshape_Data.ipynb",
      "provenance": [],
      "collapsed_sections": [],
      "include_colab_link": true
    },
    "kernelspec": {
      "name": "python3",
      "display_name": "Python 3"
    }
  },
  "cells": [
    {
      "cell_type": "markdown",
      "metadata": {
        "id": "view-in-github",
        "colab_type": "text"
      },
      "source": [
        "<a href=\"https://colab.research.google.com/github/jessyio/DS-Unit-1-Sprint-1-Data-Wrangling-and-Storytelling/blob/master/module3-join-and-reshape-data/LS_DS18_113_Join_and_Reshape_Data.ipynb\" target=\"_parent\"><img src=\"https://colab.research.google.com/assets/colab-badge.svg\" alt=\"Open In Colab\"/></a>"
      ]
    },
    {
      "cell_type": "markdown",
      "metadata": {
        "id": "UQqT5ie4vdDS",
        "colab_type": "text"
      },
      "source": [
        "Lambda School Data Science\n",
        "\n",
        "*Unit 1, Sprint 1, Module 3*\n",
        "\n",
        "---\n",
        "\n"
      ]
    },
    {
      "cell_type": "markdown",
      "metadata": {
        "id": "kOI3YimSvopw",
        "colab_type": "text"
      },
      "source": [
        "# Join and Reshape Data \n",
        "\n",
        "- Student can concatenate data with pandas\n",
        "- Student can merge data with pandas\n",
        "- Student can understand and describe tidy data formatting\n",
        "- Student can use the `.melt()` and `.pivot_table()` functions to translate between wide and tidy data format.\n",
        "\n",
        "Helpful Links:\n",
        "- [Pandas Cheat Sheet](https://github.com/pandas-dev/pandas/blob/master/doc/cheatsheet/Pandas_Cheat_Sheet.pdf)\n",
        "- [Tidy Data](https://en.wikipedia.org/wiki/Tidy_data)\n",
        "  - Combine Data Sets: Standard Joins\n",
        "  - Tidy Data\n",
        "  - Reshaping Data\n",
        "- Python Data Science Handbook\n",
        "  - [Chapter 3.6](https://jakevdp.github.io/PythonDataScienceHandbook/03.06-concat-and-append.html), Combining Datasets: Concat and Append\n",
        "  - [Chapter 3.7](https://jakevdp.github.io/PythonDataScienceHandbook/03.07-merge-and-join.html), Combining Datasets: Merge and Join\n",
        "  - [Chapter 3.8](https://jakevdp.github.io/PythonDataScienceHandbook/03.08-aggregation-and-grouping.html), Aggregation and Grouping\n",
        "  - [Chapter 3.9](https://jakevdp.github.io/PythonDataScienceHandbook/03.09-pivot-tables.html), Pivot Tables"
      ]
    },
    {
      "cell_type": "markdown",
      "metadata": {
        "id": "b_gXHprXvqVx",
        "colab_type": "text"
      },
      "source": [
        "# [Objective](#concat) Concatenate dataframes with pandas\n",
        "\n"
      ]
    },
    {
      "cell_type": "markdown",
      "metadata": {
        "id": "mPVHZevR04pV",
        "colab_type": "text"
      },
      "source": [
        "## Overview\n",
        "\n",
        "\"Concatenate\" is a fancy word for joining two things together. For example, we can concatenate two strings together using the `+` operator."
      ]
    },
    {
      "cell_type": "code",
      "metadata": {
        "id": "NeAeYKwN08q3",
        "colab_type": "code",
        "colab": {
          "base_uri": "https://localhost:8080/",
          "height": 35
        },
        "outputId": "cf402bf2-e2fa-48ce-ecf8-f680d237d6d3"
      },
      "source": [
        "'We can join/concatenate two strings together ' + 'using the \"+\" operator.'"
      ],
      "execution_count": null,
      "outputs": [
        {
          "output_type": "execute_result",
          "data": {
            "application/vnd.google.colaboratory.intrinsic": {
              "type": "string"
            },
            "text/plain": [
              "'We can join/concatenate two strings together using the \"+\" operator.'"
            ]
          },
          "metadata": {
            "tags": []
          },
          "execution_count": 1
        }
      ]
    },
    {
      "cell_type": "markdown",
      "metadata": {
        "id": "QIgxXomn7iHC",
        "colab_type": "text"
      },
      "source": [
        "When we \"concatenate\" two dataframes we will \"stick them together\" either by rows or columns. Lets look at some simple examples:"
      ]
    },
    {
      "cell_type": "code",
      "metadata": {
        "id": "O6MbummV9kgH",
        "colab_type": "code",
        "colab": {}
      },
      "source": [
        "import pandas as pd"
      ],
      "execution_count": null,
      "outputs": []
    },
    {
      "cell_type": "code",
      "metadata": {
        "id": "q1aKHYuH8BTX",
        "colab_type": "code",
        "colab": {}
      },
      "source": [
        "df1 = pd.DataFrame({'a': [1,2,3,4], 'b': [4,5,6,7], 'c': [7,8,9,10]})\n",
        "\n",
        "df2 = pd.DataFrame({'a': [6,4,8,7], 'b': [9,4,3,2], 'c': [1,6,2,9]})"
      ],
      "execution_count": null,
      "outputs": []
    },
    {
      "cell_type": "code",
      "metadata": {
        "id": "blLFOpK-8Zwq",
        "colab_type": "code",
        "colab": {
          "base_uri": "https://localhost:8080/",
          "height": 166
        },
        "outputId": "664d41bb-a999-42e8-b1a9-12d8ba6e561b"
      },
      "source": [
        "df1.head()"
      ],
      "execution_count": null,
      "outputs": [
        {
          "output_type": "execute_result",
          "data": {
            "text/html": [
              "<div>\n",
              "<style scoped>\n",
              "    .dataframe tbody tr th:only-of-type {\n",
              "        vertical-align: middle;\n",
              "    }\n",
              "\n",
              "    .dataframe tbody tr th {\n",
              "        vertical-align: top;\n",
              "    }\n",
              "\n",
              "    .dataframe thead th {\n",
              "        text-align: right;\n",
              "    }\n",
              "</style>\n",
              "<table border=\"1\" class=\"dataframe\">\n",
              "  <thead>\n",
              "    <tr style=\"text-align: right;\">\n",
              "      <th></th>\n",
              "      <th>a</th>\n",
              "      <th>b</th>\n",
              "      <th>c</th>\n",
              "    </tr>\n",
              "  </thead>\n",
              "  <tbody>\n",
              "    <tr>\n",
              "      <th>0</th>\n",
              "      <td>1</td>\n",
              "      <td>4</td>\n",
              "      <td>7</td>\n",
              "    </tr>\n",
              "    <tr>\n",
              "      <th>1</th>\n",
              "      <td>2</td>\n",
              "      <td>5</td>\n",
              "      <td>8</td>\n",
              "    </tr>\n",
              "    <tr>\n",
              "      <th>2</th>\n",
              "      <td>3</td>\n",
              "      <td>6</td>\n",
              "      <td>9</td>\n",
              "    </tr>\n",
              "    <tr>\n",
              "      <th>3</th>\n",
              "      <td>4</td>\n",
              "      <td>7</td>\n",
              "      <td>10</td>\n",
              "    </tr>\n",
              "  </tbody>\n",
              "</table>\n",
              "</div>"
            ],
            "text/plain": [
              "   a  b   c\n",
              "0  1  4   7\n",
              "1  2  5   8\n",
              "2  3  6   9\n",
              "3  4  7  10"
            ]
          },
          "metadata": {
            "tags": []
          },
          "execution_count": 4
        }
      ]
    },
    {
      "cell_type": "code",
      "metadata": {
        "id": "olRWT5VK8bl2",
        "colab_type": "code",
        "colab": {
          "base_uri": "https://localhost:8080/",
          "height": 166
        },
        "outputId": "500acf6c-0212-489f-e730-e382651f9c74"
      },
      "source": [
        "df2.head()"
      ],
      "execution_count": null,
      "outputs": [
        {
          "output_type": "execute_result",
          "data": {
            "text/html": [
              "<div>\n",
              "<style scoped>\n",
              "    .dataframe tbody tr th:only-of-type {\n",
              "        vertical-align: middle;\n",
              "    }\n",
              "\n",
              "    .dataframe tbody tr th {\n",
              "        vertical-align: top;\n",
              "    }\n",
              "\n",
              "    .dataframe thead th {\n",
              "        text-align: right;\n",
              "    }\n",
              "</style>\n",
              "<table border=\"1\" class=\"dataframe\">\n",
              "  <thead>\n",
              "    <tr style=\"text-align: right;\">\n",
              "      <th></th>\n",
              "      <th>a</th>\n",
              "      <th>b</th>\n",
              "      <th>c</th>\n",
              "    </tr>\n",
              "  </thead>\n",
              "  <tbody>\n",
              "    <tr>\n",
              "      <th>0</th>\n",
              "      <td>6</td>\n",
              "      <td>9</td>\n",
              "      <td>1</td>\n",
              "    </tr>\n",
              "    <tr>\n",
              "      <th>1</th>\n",
              "      <td>4</td>\n",
              "      <td>4</td>\n",
              "      <td>6</td>\n",
              "    </tr>\n",
              "    <tr>\n",
              "      <th>2</th>\n",
              "      <td>8</td>\n",
              "      <td>3</td>\n",
              "      <td>2</td>\n",
              "    </tr>\n",
              "    <tr>\n",
              "      <th>3</th>\n",
              "      <td>7</td>\n",
              "      <td>2</td>\n",
              "      <td>9</td>\n",
              "    </tr>\n",
              "  </tbody>\n",
              "</table>\n",
              "</div>"
            ],
            "text/plain": [
              "   a  b  c\n",
              "0  6  9  1\n",
              "1  4  4  6\n",
              "2  8  3  2\n",
              "3  7  2  9"
            ]
          },
          "metadata": {
            "tags": []
          },
          "execution_count": 5
        }
      ]
    },
    {
      "cell_type": "markdown",
      "metadata": {
        "id": "FBh-mGzI8k3l",
        "colab_type": "text"
      },
      "source": [
        "### Concatenate by Rows \n",
        "\n",
        "concatenating by rows is the default behavior of `pd.concat()` This is often the most common form of concatenation. "
      ]
    },
    {
      "cell_type": "code",
      "metadata": {
        "id": "QCw6DJxR8m6T",
        "colab_type": "code",
        "colab": {
          "base_uri": "https://localhost:8080/",
          "height": 284
        },
        "outputId": "ac38b766-f6e4-4e0d-edf7-44e1fefaeabc"
      },
      "source": [
        "by_rows = pd.concat([df1, df2],)\n",
        "\n",
        "by_rows"
      ],
      "execution_count": null,
      "outputs": [
        {
          "output_type": "execute_result",
          "data": {
            "text/html": [
              "<div>\n",
              "<style scoped>\n",
              "    .dataframe tbody tr th:only-of-type {\n",
              "        vertical-align: middle;\n",
              "    }\n",
              "\n",
              "    .dataframe tbody tr th {\n",
              "        vertical-align: top;\n",
              "    }\n",
              "\n",
              "    .dataframe thead th {\n",
              "        text-align: right;\n",
              "    }\n",
              "</style>\n",
              "<table border=\"1\" class=\"dataframe\">\n",
              "  <thead>\n",
              "    <tr style=\"text-align: right;\">\n",
              "      <th></th>\n",
              "      <th>a</th>\n",
              "      <th>b</th>\n",
              "      <th>c</th>\n",
              "    </tr>\n",
              "  </thead>\n",
              "  <tbody>\n",
              "    <tr>\n",
              "      <th>0</th>\n",
              "      <td>1</td>\n",
              "      <td>4</td>\n",
              "      <td>7</td>\n",
              "    </tr>\n",
              "    <tr>\n",
              "      <th>1</th>\n",
              "      <td>2</td>\n",
              "      <td>5</td>\n",
              "      <td>8</td>\n",
              "    </tr>\n",
              "    <tr>\n",
              "      <th>2</th>\n",
              "      <td>3</td>\n",
              "      <td>6</td>\n",
              "      <td>9</td>\n",
              "    </tr>\n",
              "    <tr>\n",
              "      <th>3</th>\n",
              "      <td>4</td>\n",
              "      <td>7</td>\n",
              "      <td>10</td>\n",
              "    </tr>\n",
              "    <tr>\n",
              "      <th>0</th>\n",
              "      <td>6</td>\n",
              "      <td>9</td>\n",
              "      <td>1</td>\n",
              "    </tr>\n",
              "    <tr>\n",
              "      <th>1</th>\n",
              "      <td>4</td>\n",
              "      <td>4</td>\n",
              "      <td>6</td>\n",
              "    </tr>\n",
              "    <tr>\n",
              "      <th>2</th>\n",
              "      <td>8</td>\n",
              "      <td>3</td>\n",
              "      <td>2</td>\n",
              "    </tr>\n",
              "    <tr>\n",
              "      <th>3</th>\n",
              "      <td>7</td>\n",
              "      <td>2</td>\n",
              "      <td>9</td>\n",
              "    </tr>\n",
              "  </tbody>\n",
              "</table>\n",
              "</div>"
            ],
            "text/plain": [
              "   a  b   c\n",
              "0  1  4   7\n",
              "1  2  5   8\n",
              "2  3  6   9\n",
              "3  4  7  10\n",
              "0  6  9   1\n",
              "1  4  4   6\n",
              "2  8  3   2\n",
              "3  7  2   9"
            ]
          },
          "metadata": {
            "tags": []
          },
          "execution_count": 6
        }
      ]
    },
    {
      "cell_type": "markdown",
      "metadata": {
        "id": "EvZH9k-e8ohe",
        "colab_type": "text"
      },
      "source": [
        "### Concatenate by Columns"
      ]
    },
    {
      "cell_type": "code",
      "metadata": {
        "id": "-fCzFQxx9D7b",
        "colab_type": "code",
        "colab": {
          "base_uri": "https://localhost:8080/",
          "height": 166
        },
        "outputId": "ea31eefe-feb1-4b4f-eada-d1d0643f6ae5"
      },
      "source": [
        "by_cols = pd.concat([df1, df2], axis=1)\n",
        "\n",
        "by_cols"
      ],
      "execution_count": null,
      "outputs": [
        {
          "output_type": "execute_result",
          "data": {
            "text/html": [
              "<div>\n",
              "<style scoped>\n",
              "    .dataframe tbody tr th:only-of-type {\n",
              "        vertical-align: middle;\n",
              "    }\n",
              "\n",
              "    .dataframe tbody tr th {\n",
              "        vertical-align: top;\n",
              "    }\n",
              "\n",
              "    .dataframe thead th {\n",
              "        text-align: right;\n",
              "    }\n",
              "</style>\n",
              "<table border=\"1\" class=\"dataframe\">\n",
              "  <thead>\n",
              "    <tr style=\"text-align: right;\">\n",
              "      <th></th>\n",
              "      <th>a</th>\n",
              "      <th>b</th>\n",
              "      <th>c</th>\n",
              "      <th>a</th>\n",
              "      <th>b</th>\n",
              "      <th>c</th>\n",
              "    </tr>\n",
              "  </thead>\n",
              "  <tbody>\n",
              "    <tr>\n",
              "      <th>0</th>\n",
              "      <td>1</td>\n",
              "      <td>4</td>\n",
              "      <td>7</td>\n",
              "      <td>6</td>\n",
              "      <td>9</td>\n",
              "      <td>1</td>\n",
              "    </tr>\n",
              "    <tr>\n",
              "      <th>1</th>\n",
              "      <td>2</td>\n",
              "      <td>5</td>\n",
              "      <td>8</td>\n",
              "      <td>4</td>\n",
              "      <td>4</td>\n",
              "      <td>6</td>\n",
              "    </tr>\n",
              "    <tr>\n",
              "      <th>2</th>\n",
              "      <td>3</td>\n",
              "      <td>6</td>\n",
              "      <td>9</td>\n",
              "      <td>8</td>\n",
              "      <td>3</td>\n",
              "      <td>2</td>\n",
              "    </tr>\n",
              "    <tr>\n",
              "      <th>3</th>\n",
              "      <td>4</td>\n",
              "      <td>7</td>\n",
              "      <td>10</td>\n",
              "      <td>7</td>\n",
              "      <td>2</td>\n",
              "      <td>9</td>\n",
              "    </tr>\n",
              "  </tbody>\n",
              "</table>\n",
              "</div>"
            ],
            "text/plain": [
              "   a  b   c  a  b  c\n",
              "0  1  4   7  6  9  1\n",
              "1  2  5   8  4  4  6\n",
              "2  3  6   9  8  3  2\n",
              "3  4  7  10  7  2  9"
            ]
          },
          "metadata": {
            "tags": []
          },
          "execution_count": 7
        }
      ]
    },
    {
      "cell_type": "markdown",
      "metadata": {
        "id": "2-NxpMCr9WOS",
        "colab_type": "text"
      },
      "source": [
        "When concatenating dataframes, it is done using the column headers and row index values to match rows up. If these don't match up, then `NaN` values will be added where matches can't be found. "
      ]
    },
    {
      "cell_type": "code",
      "metadata": {
        "id": "luR-nvD99tBa",
        "colab_type": "code",
        "colab": {}
      },
      "source": [
        "df3 = pd.DataFrame({'a': [4,3,2,1], 'b': [4,5,6,7], 'c': [7,8,9,10]})\n",
        "\n",
        "df4 = pd.DataFrame({'a': [6,4,8,7,8], 'b': [9,4,3,2,1], 'd': [1,6,2,9,5]})"
      ],
      "execution_count": null,
      "outputs": []
    },
    {
      "cell_type": "code",
      "metadata": {
        "id": "Bj-FdzVf97mn",
        "colab_type": "code",
        "colab": {
          "base_uri": "https://localhost:8080/",
          "height": 166
        },
        "outputId": "83b2b811-e48b-446e-84da-102b2bd5b542"
      },
      "source": [
        "df3.head()"
      ],
      "execution_count": null,
      "outputs": [
        {
          "output_type": "execute_result",
          "data": {
            "text/html": [
              "<div>\n",
              "<style scoped>\n",
              "    .dataframe tbody tr th:only-of-type {\n",
              "        vertical-align: middle;\n",
              "    }\n",
              "\n",
              "    .dataframe tbody tr th {\n",
              "        vertical-align: top;\n",
              "    }\n",
              "\n",
              "    .dataframe thead th {\n",
              "        text-align: right;\n",
              "    }\n",
              "</style>\n",
              "<table border=\"1\" class=\"dataframe\">\n",
              "  <thead>\n",
              "    <tr style=\"text-align: right;\">\n",
              "      <th></th>\n",
              "      <th>a</th>\n",
              "      <th>b</th>\n",
              "      <th>c</th>\n",
              "    </tr>\n",
              "  </thead>\n",
              "  <tbody>\n",
              "    <tr>\n",
              "      <th>0</th>\n",
              "      <td>4</td>\n",
              "      <td>4</td>\n",
              "      <td>7</td>\n",
              "    </tr>\n",
              "    <tr>\n",
              "      <th>1</th>\n",
              "      <td>3</td>\n",
              "      <td>5</td>\n",
              "      <td>8</td>\n",
              "    </tr>\n",
              "    <tr>\n",
              "      <th>2</th>\n",
              "      <td>2</td>\n",
              "      <td>6</td>\n",
              "      <td>9</td>\n",
              "    </tr>\n",
              "    <tr>\n",
              "      <th>3</th>\n",
              "      <td>1</td>\n",
              "      <td>7</td>\n",
              "      <td>10</td>\n",
              "    </tr>\n",
              "  </tbody>\n",
              "</table>\n",
              "</div>"
            ],
            "text/plain": [
              "   a  b   c\n",
              "0  4  4   7\n",
              "1  3  5   8\n",
              "2  2  6   9\n",
              "3  1  7  10"
            ]
          },
          "metadata": {
            "tags": []
          },
          "execution_count": 9
        }
      ]
    },
    {
      "cell_type": "code",
      "metadata": {
        "id": "vfZ_wekl99-e",
        "colab_type": "code",
        "colab": {
          "base_uri": "https://localhost:8080/",
          "height": 195
        },
        "outputId": "9d15368f-fd50-4434-8ec1-72067d0e211d"
      },
      "source": [
        "df4.head()"
      ],
      "execution_count": null,
      "outputs": [
        {
          "output_type": "execute_result",
          "data": {
            "text/html": [
              "<div>\n",
              "<style scoped>\n",
              "    .dataframe tbody tr th:only-of-type {\n",
              "        vertical-align: middle;\n",
              "    }\n",
              "\n",
              "    .dataframe tbody tr th {\n",
              "        vertical-align: top;\n",
              "    }\n",
              "\n",
              "    .dataframe thead th {\n",
              "        text-align: right;\n",
              "    }\n",
              "</style>\n",
              "<table border=\"1\" class=\"dataframe\">\n",
              "  <thead>\n",
              "    <tr style=\"text-align: right;\">\n",
              "      <th></th>\n",
              "      <th>a</th>\n",
              "      <th>b</th>\n",
              "      <th>d</th>\n",
              "    </tr>\n",
              "  </thead>\n",
              "  <tbody>\n",
              "    <tr>\n",
              "      <th>0</th>\n",
              "      <td>6</td>\n",
              "      <td>9</td>\n",
              "      <td>1</td>\n",
              "    </tr>\n",
              "    <tr>\n",
              "      <th>1</th>\n",
              "      <td>4</td>\n",
              "      <td>4</td>\n",
              "      <td>6</td>\n",
              "    </tr>\n",
              "    <tr>\n",
              "      <th>2</th>\n",
              "      <td>8</td>\n",
              "      <td>3</td>\n",
              "      <td>2</td>\n",
              "    </tr>\n",
              "    <tr>\n",
              "      <th>3</th>\n",
              "      <td>7</td>\n",
              "      <td>2</td>\n",
              "      <td>9</td>\n",
              "    </tr>\n",
              "    <tr>\n",
              "      <th>4</th>\n",
              "      <td>8</td>\n",
              "      <td>1</td>\n",
              "      <td>5</td>\n",
              "    </tr>\n",
              "  </tbody>\n",
              "</table>\n",
              "</div>"
            ],
            "text/plain": [
              "   a  b  d\n",
              "0  6  9  1\n",
              "1  4  4  6\n",
              "2  8  3  2\n",
              "3  7  2  9\n",
              "4  8  1  5"
            ]
          },
          "metadata": {
            "tags": []
          },
          "execution_count": 10
        }
      ]
    },
    {
      "cell_type": "markdown",
      "metadata": {
        "id": "pOuoIdey-kCD",
        "colab_type": "text"
      },
      "source": [
        "### Concatenate by rows when not all column headers match"
      ]
    },
    {
      "cell_type": "code",
      "metadata": {
        "id": "5FpZdgat-EQD",
        "colab_type": "code",
        "colab": {
          "base_uri": "https://localhost:8080/",
          "height": 314
        },
        "outputId": "4e916c6c-81ed-4126-f043-d777f5d1d868"
      },
      "source": [
        "by_rows = pd.concat([df3, df4])\n",
        "\n",
        "by_rows"
      ],
      "execution_count": null,
      "outputs": [
        {
          "output_type": "execute_result",
          "data": {
            "text/html": [
              "<div>\n",
              "<style scoped>\n",
              "    .dataframe tbody tr th:only-of-type {\n",
              "        vertical-align: middle;\n",
              "    }\n",
              "\n",
              "    .dataframe tbody tr th {\n",
              "        vertical-align: top;\n",
              "    }\n",
              "\n",
              "    .dataframe thead th {\n",
              "        text-align: right;\n",
              "    }\n",
              "</style>\n",
              "<table border=\"1\" class=\"dataframe\">\n",
              "  <thead>\n",
              "    <tr style=\"text-align: right;\">\n",
              "      <th></th>\n",
              "      <th>a</th>\n",
              "      <th>b</th>\n",
              "      <th>c</th>\n",
              "      <th>d</th>\n",
              "    </tr>\n",
              "  </thead>\n",
              "  <tbody>\n",
              "    <tr>\n",
              "      <th>0</th>\n",
              "      <td>4</td>\n",
              "      <td>4</td>\n",
              "      <td>7.0</td>\n",
              "      <td>NaN</td>\n",
              "    </tr>\n",
              "    <tr>\n",
              "      <th>1</th>\n",
              "      <td>3</td>\n",
              "      <td>5</td>\n",
              "      <td>8.0</td>\n",
              "      <td>NaN</td>\n",
              "    </tr>\n",
              "    <tr>\n",
              "      <th>2</th>\n",
              "      <td>2</td>\n",
              "      <td>6</td>\n",
              "      <td>9.0</td>\n",
              "      <td>NaN</td>\n",
              "    </tr>\n",
              "    <tr>\n",
              "      <th>3</th>\n",
              "      <td>1</td>\n",
              "      <td>7</td>\n",
              "      <td>10.0</td>\n",
              "      <td>NaN</td>\n",
              "    </tr>\n",
              "    <tr>\n",
              "      <th>0</th>\n",
              "      <td>6</td>\n",
              "      <td>9</td>\n",
              "      <td>NaN</td>\n",
              "      <td>1.0</td>\n",
              "    </tr>\n",
              "    <tr>\n",
              "      <th>1</th>\n",
              "      <td>4</td>\n",
              "      <td>4</td>\n",
              "      <td>NaN</td>\n",
              "      <td>6.0</td>\n",
              "    </tr>\n",
              "    <tr>\n",
              "      <th>2</th>\n",
              "      <td>8</td>\n",
              "      <td>3</td>\n",
              "      <td>NaN</td>\n",
              "      <td>2.0</td>\n",
              "    </tr>\n",
              "    <tr>\n",
              "      <th>3</th>\n",
              "      <td>7</td>\n",
              "      <td>2</td>\n",
              "      <td>NaN</td>\n",
              "      <td>9.0</td>\n",
              "    </tr>\n",
              "    <tr>\n",
              "      <th>4</th>\n",
              "      <td>8</td>\n",
              "      <td>1</td>\n",
              "      <td>NaN</td>\n",
              "      <td>5.0</td>\n",
              "    </tr>\n",
              "  </tbody>\n",
              "</table>\n",
              "</div>"
            ],
            "text/plain": [
              "   a  b     c    d\n",
              "0  4  4   7.0  NaN\n",
              "1  3  5   8.0  NaN\n",
              "2  2  6   9.0  NaN\n",
              "3  1  7  10.0  NaN\n",
              "0  6  9   NaN  1.0\n",
              "1  4  4   NaN  6.0\n",
              "2  8  3   NaN  2.0\n",
              "3  7  2   NaN  9.0\n",
              "4  8  1   NaN  5.0"
            ]
          },
          "metadata": {
            "tags": []
          },
          "execution_count": 11
        }
      ]
    },
    {
      "cell_type": "code",
      "metadata": {
        "id": "Beur7rvhOKql",
        "colab_type": "code",
        "colab": {
          "base_uri": "https://localhost:8080/",
          "height": 67
        },
        "outputId": "aa28f0e9-b70f-450e-8ce2-60a1011cac5f"
      },
      "source": [
        "by_rows['a'][1]"
      ],
      "execution_count": null,
      "outputs": [
        {
          "output_type": "execute_result",
          "data": {
            "text/plain": [
              "1    3\n",
              "1    4\n",
              "Name: a, dtype: int64"
            ]
          },
          "metadata": {
            "tags": []
          },
          "execution_count": 15
        }
      ]
    },
    {
      "cell_type": "code",
      "metadata": {
        "id": "kCGKULjgODmN",
        "colab_type": "code",
        "colab": {
          "base_uri": "https://localhost:8080/",
          "height": 314
        },
        "outputId": "306e0dea-8f77-47b6-ef84-43547b6404ab"
      },
      "source": [
        "by_rows.reset_index()"
      ],
      "execution_count": null,
      "outputs": [
        {
          "output_type": "execute_result",
          "data": {
            "text/html": [
              "<div>\n",
              "<style scoped>\n",
              "    .dataframe tbody tr th:only-of-type {\n",
              "        vertical-align: middle;\n",
              "    }\n",
              "\n",
              "    .dataframe tbody tr th {\n",
              "        vertical-align: top;\n",
              "    }\n",
              "\n",
              "    .dataframe thead th {\n",
              "        text-align: right;\n",
              "    }\n",
              "</style>\n",
              "<table border=\"1\" class=\"dataframe\">\n",
              "  <thead>\n",
              "    <tr style=\"text-align: right;\">\n",
              "      <th></th>\n",
              "      <th>index</th>\n",
              "      <th>a</th>\n",
              "      <th>b</th>\n",
              "      <th>c</th>\n",
              "      <th>d</th>\n",
              "    </tr>\n",
              "  </thead>\n",
              "  <tbody>\n",
              "    <tr>\n",
              "      <th>0</th>\n",
              "      <td>0</td>\n",
              "      <td>4</td>\n",
              "      <td>4</td>\n",
              "      <td>7.0</td>\n",
              "      <td>NaN</td>\n",
              "    </tr>\n",
              "    <tr>\n",
              "      <th>1</th>\n",
              "      <td>1</td>\n",
              "      <td>3</td>\n",
              "      <td>5</td>\n",
              "      <td>8.0</td>\n",
              "      <td>NaN</td>\n",
              "    </tr>\n",
              "    <tr>\n",
              "      <th>2</th>\n",
              "      <td>2</td>\n",
              "      <td>2</td>\n",
              "      <td>6</td>\n",
              "      <td>9.0</td>\n",
              "      <td>NaN</td>\n",
              "    </tr>\n",
              "    <tr>\n",
              "      <th>3</th>\n",
              "      <td>3</td>\n",
              "      <td>1</td>\n",
              "      <td>7</td>\n",
              "      <td>10.0</td>\n",
              "      <td>NaN</td>\n",
              "    </tr>\n",
              "    <tr>\n",
              "      <th>4</th>\n",
              "      <td>0</td>\n",
              "      <td>6</td>\n",
              "      <td>9</td>\n",
              "      <td>NaN</td>\n",
              "      <td>1.0</td>\n",
              "    </tr>\n",
              "    <tr>\n",
              "      <th>5</th>\n",
              "      <td>1</td>\n",
              "      <td>4</td>\n",
              "      <td>4</td>\n",
              "      <td>NaN</td>\n",
              "      <td>6.0</td>\n",
              "    </tr>\n",
              "    <tr>\n",
              "      <th>6</th>\n",
              "      <td>2</td>\n",
              "      <td>8</td>\n",
              "      <td>3</td>\n",
              "      <td>NaN</td>\n",
              "      <td>2.0</td>\n",
              "    </tr>\n",
              "    <tr>\n",
              "      <th>7</th>\n",
              "      <td>3</td>\n",
              "      <td>7</td>\n",
              "      <td>2</td>\n",
              "      <td>NaN</td>\n",
              "      <td>9.0</td>\n",
              "    </tr>\n",
              "    <tr>\n",
              "      <th>8</th>\n",
              "      <td>4</td>\n",
              "      <td>8</td>\n",
              "      <td>1</td>\n",
              "      <td>NaN</td>\n",
              "      <td>5.0</td>\n",
              "    </tr>\n",
              "  </tbody>\n",
              "</table>\n",
              "</div>"
            ],
            "text/plain": [
              "   index  a  b     c    d\n",
              "0      0  4  4   7.0  NaN\n",
              "1      1  3  5   8.0  NaN\n",
              "2      2  2  6   9.0  NaN\n",
              "3      3  1  7  10.0  NaN\n",
              "4      0  6  9   NaN  1.0\n",
              "5      1  4  4   NaN  6.0\n",
              "6      2  8  3   NaN  2.0\n",
              "7      3  7  2   NaN  9.0\n",
              "8      4  8  1   NaN  5.0"
            ]
          },
          "metadata": {
            "tags": []
          },
          "execution_count": 13
        }
      ]
    },
    {
      "cell_type": "markdown",
      "metadata": {
        "id": "Al203GNp-qVS",
        "colab_type": "text"
      },
      "source": [
        "### Concatenate by columns when not all row indexes match"
      ]
    },
    {
      "cell_type": "code",
      "metadata": {
        "id": "lc2ngk3O-YCv",
        "colab_type": "code",
        "colab": {
          "base_uri": "https://localhost:8080/",
          "height": 195
        },
        "outputId": "fa62c3ed-d050-4961-f19b-9d94a1056e92"
      },
      "source": [
        "by_cols = pd.concat([df3, df4], axis=1)\n",
        "\n",
        "by_cols"
      ],
      "execution_count": null,
      "outputs": [
        {
          "output_type": "execute_result",
          "data": {
            "text/html": [
              "<div>\n",
              "<style scoped>\n",
              "    .dataframe tbody tr th:only-of-type {\n",
              "        vertical-align: middle;\n",
              "    }\n",
              "\n",
              "    .dataframe tbody tr th {\n",
              "        vertical-align: top;\n",
              "    }\n",
              "\n",
              "    .dataframe thead th {\n",
              "        text-align: right;\n",
              "    }\n",
              "</style>\n",
              "<table border=\"1\" class=\"dataframe\">\n",
              "  <thead>\n",
              "    <tr style=\"text-align: right;\">\n",
              "      <th></th>\n",
              "      <th>a</th>\n",
              "      <th>b</th>\n",
              "      <th>c</th>\n",
              "      <th>a</th>\n",
              "      <th>b</th>\n",
              "      <th>d</th>\n",
              "    </tr>\n",
              "  </thead>\n",
              "  <tbody>\n",
              "    <tr>\n",
              "      <th>0</th>\n",
              "      <td>4.0</td>\n",
              "      <td>4.0</td>\n",
              "      <td>7.0</td>\n",
              "      <td>6</td>\n",
              "      <td>9</td>\n",
              "      <td>1</td>\n",
              "    </tr>\n",
              "    <tr>\n",
              "      <th>1</th>\n",
              "      <td>3.0</td>\n",
              "      <td>5.0</td>\n",
              "      <td>8.0</td>\n",
              "      <td>4</td>\n",
              "      <td>4</td>\n",
              "      <td>6</td>\n",
              "    </tr>\n",
              "    <tr>\n",
              "      <th>2</th>\n",
              "      <td>2.0</td>\n",
              "      <td>6.0</td>\n",
              "      <td>9.0</td>\n",
              "      <td>8</td>\n",
              "      <td>3</td>\n",
              "      <td>2</td>\n",
              "    </tr>\n",
              "    <tr>\n",
              "      <th>3</th>\n",
              "      <td>1.0</td>\n",
              "      <td>7.0</td>\n",
              "      <td>10.0</td>\n",
              "      <td>7</td>\n",
              "      <td>2</td>\n",
              "      <td>9</td>\n",
              "    </tr>\n",
              "    <tr>\n",
              "      <th>4</th>\n",
              "      <td>NaN</td>\n",
              "      <td>NaN</td>\n",
              "      <td>NaN</td>\n",
              "      <td>8</td>\n",
              "      <td>1</td>\n",
              "      <td>5</td>\n",
              "    </tr>\n",
              "  </tbody>\n",
              "</table>\n",
              "</div>"
            ],
            "text/plain": [
              "     a    b     c  a  b  d\n",
              "0  4.0  4.0   7.0  6  9  1\n",
              "1  3.0  5.0   8.0  4  4  6\n",
              "2  2.0  6.0   9.0  8  3  2\n",
              "3  1.0  7.0  10.0  7  2  9\n",
              "4  NaN  NaN   NaN  8  1  5"
            ]
          },
          "metadata": {
            "tags": []
          },
          "execution_count": 12
        }
      ]
    },
    {
      "cell_type": "code",
      "metadata": {
        "id": "cOtyrL_VOXBu",
        "colab_type": "code",
        "colab": {
          "base_uri": "https://localhost:8080/",
          "height": 195
        },
        "outputId": "1721f1df-6033-4406-a844-ca664c250258"
      },
      "source": [
        "by_cols['a']"
      ],
      "execution_count": null,
      "outputs": [
        {
          "output_type": "execute_result",
          "data": {
            "text/html": [
              "<div>\n",
              "<style scoped>\n",
              "    .dataframe tbody tr th:only-of-type {\n",
              "        vertical-align: middle;\n",
              "    }\n",
              "\n",
              "    .dataframe tbody tr th {\n",
              "        vertical-align: top;\n",
              "    }\n",
              "\n",
              "    .dataframe thead th {\n",
              "        text-align: right;\n",
              "    }\n",
              "</style>\n",
              "<table border=\"1\" class=\"dataframe\">\n",
              "  <thead>\n",
              "    <tr style=\"text-align: right;\">\n",
              "      <th></th>\n",
              "      <th>a</th>\n",
              "      <th>a</th>\n",
              "    </tr>\n",
              "  </thead>\n",
              "  <tbody>\n",
              "    <tr>\n",
              "      <th>0</th>\n",
              "      <td>4.0</td>\n",
              "      <td>6</td>\n",
              "    </tr>\n",
              "    <tr>\n",
              "      <th>1</th>\n",
              "      <td>3.0</td>\n",
              "      <td>4</td>\n",
              "    </tr>\n",
              "    <tr>\n",
              "      <th>2</th>\n",
              "      <td>2.0</td>\n",
              "      <td>8</td>\n",
              "    </tr>\n",
              "    <tr>\n",
              "      <th>3</th>\n",
              "      <td>1.0</td>\n",
              "      <td>7</td>\n",
              "    </tr>\n",
              "    <tr>\n",
              "      <th>4</th>\n",
              "      <td>NaN</td>\n",
              "      <td>8</td>\n",
              "    </tr>\n",
              "  </tbody>\n",
              "</table>\n",
              "</div>"
            ],
            "text/plain": [
              "     a  a\n",
              "0  4.0  6\n",
              "1  3.0  4\n",
              "2  2.0  8\n",
              "3  1.0  7\n",
              "4  NaN  8"
            ]
          },
          "metadata": {
            "tags": []
          },
          "execution_count": 17
        }
      ]
    },
    {
      "cell_type": "code",
      "metadata": {
        "id": "wlX_xsYxOfPG",
        "colab_type": "code",
        "colab": {
          "base_uri": "https://localhost:8080/",
          "height": 195
        },
        "outputId": "d19a4293-51c6-4a26-885d-31d0c427b2d4"
      },
      "source": [
        "by_cols.columns = ['a1', 'b1', 'c', 'a2', 'b2', 'd']\n",
        "\n",
        "by_cols"
      ],
      "execution_count": null,
      "outputs": [
        {
          "output_type": "execute_result",
          "data": {
            "text/html": [
              "<div>\n",
              "<style scoped>\n",
              "    .dataframe tbody tr th:only-of-type {\n",
              "        vertical-align: middle;\n",
              "    }\n",
              "\n",
              "    .dataframe tbody tr th {\n",
              "        vertical-align: top;\n",
              "    }\n",
              "\n",
              "    .dataframe thead th {\n",
              "        text-align: right;\n",
              "    }\n",
              "</style>\n",
              "<table border=\"1\" class=\"dataframe\">\n",
              "  <thead>\n",
              "    <tr style=\"text-align: right;\">\n",
              "      <th></th>\n",
              "      <th>a1</th>\n",
              "      <th>b1</th>\n",
              "      <th>c</th>\n",
              "      <th>a2</th>\n",
              "      <th>b2</th>\n",
              "      <th>d</th>\n",
              "    </tr>\n",
              "  </thead>\n",
              "  <tbody>\n",
              "    <tr>\n",
              "      <th>0</th>\n",
              "      <td>4.0</td>\n",
              "      <td>4.0</td>\n",
              "      <td>7.0</td>\n",
              "      <td>6</td>\n",
              "      <td>9</td>\n",
              "      <td>1</td>\n",
              "    </tr>\n",
              "    <tr>\n",
              "      <th>1</th>\n",
              "      <td>3.0</td>\n",
              "      <td>5.0</td>\n",
              "      <td>8.0</td>\n",
              "      <td>4</td>\n",
              "      <td>4</td>\n",
              "      <td>6</td>\n",
              "    </tr>\n",
              "    <tr>\n",
              "      <th>2</th>\n",
              "      <td>2.0</td>\n",
              "      <td>6.0</td>\n",
              "      <td>9.0</td>\n",
              "      <td>8</td>\n",
              "      <td>3</td>\n",
              "      <td>2</td>\n",
              "    </tr>\n",
              "    <tr>\n",
              "      <th>3</th>\n",
              "      <td>1.0</td>\n",
              "      <td>7.0</td>\n",
              "      <td>10.0</td>\n",
              "      <td>7</td>\n",
              "      <td>2</td>\n",
              "      <td>9</td>\n",
              "    </tr>\n",
              "    <tr>\n",
              "      <th>4</th>\n",
              "      <td>NaN</td>\n",
              "      <td>NaN</td>\n",
              "      <td>NaN</td>\n",
              "      <td>8</td>\n",
              "      <td>1</td>\n",
              "      <td>5</td>\n",
              "    </tr>\n",
              "  </tbody>\n",
              "</table>\n",
              "</div>"
            ],
            "text/plain": [
              "    a1   b1     c  a2  b2  d\n",
              "0  4.0  4.0   7.0   6   9  1\n",
              "1  3.0  5.0   8.0   4   4  6\n",
              "2  2.0  6.0   9.0   8   3  2\n",
              "3  1.0  7.0  10.0   7   2  9\n",
              "4  NaN  NaN   NaN   8   1  5"
            ]
          },
          "metadata": {
            "tags": []
          },
          "execution_count": 18
        }
      ]
    },
    {
      "cell_type": "markdown",
      "metadata": {
        "id": "jUpWwpdSBJGd",
        "colab_type": "text"
      },
      "source": [
        "Whenever we are combining dataframes, if appropriate values cannot be found based on the rules of the method we are using, then missing values will be filled with `NaNs`."
      ]
    },
    {
      "cell_type": "markdown",
      "metadata": {
        "id": "k8YGJ8Wm1AG3",
        "colab_type": "text"
      },
      "source": [
        "## Follow Along\n",
        "\n"
      ]
    },
    {
      "cell_type": "markdown",
      "metadata": {
        "id": "hbH8CcozBcyI",
        "colab_type": "text"
      },
      "source": [
        "We’ll work with a dataset of [3 Million Instacart Orders, Open Sourced](https://tech.instacart.com/3-million-instacart-orders-open-sourced-d40d29ead6f2)!\n",
        "\n",
        "The files that we will be working with are in a folder of CSVs, we need to load that folder of CSVs, explore the CSVs to make sure that we understand what we're working with, and where the important data lies, and then work to combine the dataframes together as necessary. \n",
        "\n",
        "\n",
        "\n",
        "Our goal is to reproduce this table which holds the first two orders for user id 1.\n"
      ]
    },
    {
      "cell_type": "code",
      "metadata": {
        "id": "3xugHGV5C60D",
        "colab_type": "code",
        "colab": {
          "base_uri": "https://localhost:8080/",
          "height": 312
        },
        "outputId": "5160efa6-348b-42bb-b5a0-0e0312dd0c50"
      },
      "source": [
        "from IPython.display import display, Image\n",
        "url = 'https://cdn-images-1.medium.com/max/1600/1*vYGFQCafJtGBBX5mbl0xyw.png'\n",
        "example = Image(url=url, width=600)\n",
        "\n",
        "display(example)"
      ],
      "execution_count": null,
      "outputs": [
        {
          "output_type": "display_data",
          "data": {
            "text/html": [
              "<img src=\"https://cdn-images-1.medium.com/max/1600/1*vYGFQCafJtGBBX5mbl0xyw.png\" width=\"600\"/>"
            ],
            "text/plain": [
              "<IPython.core.display.Image object>"
            ]
          },
          "metadata": {
            "tags": []
          }
        }
      ]
    },
    {
      "cell_type": "code",
      "metadata": {
        "id": "4E3wKrdTChuC",
        "colab_type": "code",
        "colab": {
          "base_uri": "https://localhost:8080/",
          "height": 202
        },
        "outputId": "e1333e3a-3e16-41af-d686-229971d8b4f6"
      },
      "source": [
        "!wget https://s3.amazonaws.com/instacart-datasets/instacart_online_grocery_shopping_2017_05_01.tar.gz"
      ],
      "execution_count": null,
      "outputs": [
        {
          "output_type": "stream",
          "text": [
            "--2020-07-08 16:25:19--  https://s3.amazonaws.com/instacart-datasets/instacart_online_grocery_shopping_2017_05_01.tar.gz\n",
            "Resolving s3.amazonaws.com (s3.amazonaws.com)... 52.216.12.78\n",
            "Connecting to s3.amazonaws.com (s3.amazonaws.com)|52.216.12.78|:443... connected.\n",
            "HTTP request sent, awaiting response... 200 OK\n",
            "Length: 205548478 (196M) [application/x-gzip]\n",
            "Saving to: ‘instacart_online_grocery_shopping_2017_05_01.tar.gz’\n",
            "\n",
            "instacart_online_gr 100%[===================>] 196.03M  16.4MB/s    in 13s     \n",
            "\n",
            "2020-07-08 16:25:33 (14.9 MB/s) - ‘instacart_online_grocery_shopping_2017_05_01.tar.gz’ saved [205548478/205548478]\n",
            "\n"
          ],
          "name": "stdout"
        }
      ]
    },
    {
      "cell_type": "code",
      "metadata": {
        "id": "dkxqMNGrDJrM",
        "colab_type": "code",
        "colab": {
          "base_uri": "https://localhost:8080/",
          "height": 235
        },
        "outputId": "69642e5c-d515-4ffd-dd41-160d0684d53b"
      },
      "source": [
        "!tar --gunzip --extract --verbose --file=instacart_online_grocery_shopping_2017_05_01.tar.gz"
      ],
      "execution_count": null,
      "outputs": [
        {
          "output_type": "stream",
          "text": [
            "instacart_2017_05_01/\n",
            "instacart_2017_05_01/._aisles.csv\n",
            "instacart_2017_05_01/aisles.csv\n",
            "instacart_2017_05_01/._departments.csv\n",
            "instacart_2017_05_01/departments.csv\n",
            "instacart_2017_05_01/._order_products__prior.csv\n",
            "instacart_2017_05_01/order_products__prior.csv\n",
            "instacart_2017_05_01/._order_products__train.csv\n",
            "instacart_2017_05_01/order_products__train.csv\n",
            "instacart_2017_05_01/._orders.csv\n",
            "instacart_2017_05_01/orders.csv\n",
            "instacart_2017_05_01/._products.csv\n",
            "instacart_2017_05_01/products.csv\n"
          ],
          "name": "stdout"
        }
      ]
    },
    {
      "cell_type": "code",
      "metadata": {
        "id": "HI5E_tNjCjsV",
        "colab_type": "code",
        "colab": {
          "base_uri": "https://localhost:8080/",
          "height": 34
        },
        "outputId": "8d02f963-82af-4292-ee86-c03469e7fd83"
      },
      "source": [
        "%cd instacart_2017_05_01"
      ],
      "execution_count": null,
      "outputs": [
        {
          "output_type": "stream",
          "text": [
            "/content/instacart_2017_05_01\n"
          ],
          "name": "stdout"
        }
      ]
    },
    {
      "cell_type": "code",
      "metadata": {
        "id": "qaDdXbQqCnGc",
        "colab_type": "code",
        "colab": {
          "base_uri": "https://localhost:8080/",
          "height": 118
        },
        "outputId": "66921116-56db-42e8-cac6-ae18ef8f0b2d"
      },
      "source": [
        "!ls -lh *.csv"
      ],
      "execution_count": null,
      "outputs": [
        {
          "output_type": "stream",
          "text": [
            "-rw-r--r-- 1 502 staff 2.6K May  2  2017 aisles.csv\n",
            "-rw-r--r-- 1 502 staff  270 May  2  2017 departments.csv\n",
            "-rw-r--r-- 1 502 staff 551M May  2  2017 order_products__prior.csv\n",
            "-rw-r--r-- 1 502 staff  24M May  2  2017 order_products__train.csv\n",
            "-rw-r--r-- 1 502 staff 104M May  2  2017 orders.csv\n",
            "-rw-r--r-- 1 502 staff 2.1M May  2  2017 products.csv\n"
          ],
          "name": "stdout"
        }
      ]
    },
    {
      "cell_type": "markdown",
      "metadata": {
        "id": "MxwByNLoEG9p",
        "colab_type": "text"
      },
      "source": [
        "### aisles\n",
        "\n",
        "We don't need anything from aisles.csv"
      ]
    },
    {
      "cell_type": "code",
      "metadata": {
        "id": "pLmGMr_rCoi-",
        "colab_type": "code",
        "colab": {
          "base_uri": "https://localhost:8080/",
          "height": 212
        },
        "outputId": "49cbf994-b020-4a98-9dbb-d62c514afc49"
      },
      "source": [
        "aisles = pd.read_csv('aisles.csv')\n",
        "\n",
        "print(aisles.shape)\n",
        "aisles.head()"
      ],
      "execution_count": null,
      "outputs": [
        {
          "output_type": "stream",
          "text": [
            "(134, 2)\n"
          ],
          "name": "stdout"
        },
        {
          "output_type": "execute_result",
          "data": {
            "text/html": [
              "<div>\n",
              "<style scoped>\n",
              "    .dataframe tbody tr th:only-of-type {\n",
              "        vertical-align: middle;\n",
              "    }\n",
              "\n",
              "    .dataframe tbody tr th {\n",
              "        vertical-align: top;\n",
              "    }\n",
              "\n",
              "    .dataframe thead th {\n",
              "        text-align: right;\n",
              "    }\n",
              "</style>\n",
              "<table border=\"1\" class=\"dataframe\">\n",
              "  <thead>\n",
              "    <tr style=\"text-align: right;\">\n",
              "      <th></th>\n",
              "      <th>aisle_id</th>\n",
              "      <th>aisle</th>\n",
              "    </tr>\n",
              "  </thead>\n",
              "  <tbody>\n",
              "    <tr>\n",
              "      <th>0</th>\n",
              "      <td>1</td>\n",
              "      <td>prepared soups salads</td>\n",
              "    </tr>\n",
              "    <tr>\n",
              "      <th>1</th>\n",
              "      <td>2</td>\n",
              "      <td>specialty cheeses</td>\n",
              "    </tr>\n",
              "    <tr>\n",
              "      <th>2</th>\n",
              "      <td>3</td>\n",
              "      <td>energy granola bars</td>\n",
              "    </tr>\n",
              "    <tr>\n",
              "      <th>3</th>\n",
              "      <td>4</td>\n",
              "      <td>instant foods</td>\n",
              "    </tr>\n",
              "    <tr>\n",
              "      <th>4</th>\n",
              "      <td>5</td>\n",
              "      <td>marinades meat preparation</td>\n",
              "    </tr>\n",
              "  </tbody>\n",
              "</table>\n",
              "</div>"
            ],
            "text/plain": [
              "   aisle_id                       aisle\n",
              "0         1       prepared soups salads\n",
              "1         2           specialty cheeses\n",
              "2         3         energy granola bars\n",
              "3         4               instant foods\n",
              "4         5  marinades meat preparation"
            ]
          },
          "metadata": {
            "tags": []
          },
          "execution_count": 31
        }
      ]
    },
    {
      "cell_type": "markdown",
      "metadata": {
        "id": "oTPRZsLvENgJ",
        "colab_type": "text"
      },
      "source": [
        "### departments\n",
        "\n",
        "We don't need anything from departments.csv"
      ]
    },
    {
      "cell_type": "code",
      "metadata": {
        "id": "fRVjREe8D6yj",
        "colab_type": "code",
        "colab": {
          "base_uri": "https://localhost:8080/",
          "height": 212
        },
        "outputId": "04257ffd-e906-4c78-f3d5-df3514f775e2"
      },
      "source": [
        "departments = pd.read_csv('departments.csv')\n",
        "\n",
        "print(departments.shape)\n",
        "departments.head()"
      ],
      "execution_count": null,
      "outputs": [
        {
          "output_type": "stream",
          "text": [
            "(21, 2)\n"
          ],
          "name": "stdout"
        },
        {
          "output_type": "execute_result",
          "data": {
            "text/html": [
              "<div>\n",
              "<style scoped>\n",
              "    .dataframe tbody tr th:only-of-type {\n",
              "        vertical-align: middle;\n",
              "    }\n",
              "\n",
              "    .dataframe tbody tr th {\n",
              "        vertical-align: top;\n",
              "    }\n",
              "\n",
              "    .dataframe thead th {\n",
              "        text-align: right;\n",
              "    }\n",
              "</style>\n",
              "<table border=\"1\" class=\"dataframe\">\n",
              "  <thead>\n",
              "    <tr style=\"text-align: right;\">\n",
              "      <th></th>\n",
              "      <th>department_id</th>\n",
              "      <th>department</th>\n",
              "    </tr>\n",
              "  </thead>\n",
              "  <tbody>\n",
              "    <tr>\n",
              "      <th>0</th>\n",
              "      <td>1</td>\n",
              "      <td>frozen</td>\n",
              "    </tr>\n",
              "    <tr>\n",
              "      <th>1</th>\n",
              "      <td>2</td>\n",
              "      <td>other</td>\n",
              "    </tr>\n",
              "    <tr>\n",
              "      <th>2</th>\n",
              "      <td>3</td>\n",
              "      <td>bakery</td>\n",
              "    </tr>\n",
              "    <tr>\n",
              "      <th>3</th>\n",
              "      <td>4</td>\n",
              "      <td>produce</td>\n",
              "    </tr>\n",
              "    <tr>\n",
              "      <th>4</th>\n",
              "      <td>5</td>\n",
              "      <td>alcohol</td>\n",
              "    </tr>\n",
              "  </tbody>\n",
              "</table>\n",
              "</div>"
            ],
            "text/plain": [
              "   department_id department\n",
              "0              1     frozen\n",
              "1              2      other\n",
              "2              3     bakery\n",
              "3              4    produce\n",
              "4              5    alcohol"
            ]
          },
          "metadata": {
            "tags": []
          },
          "execution_count": 32
        }
      ]
    },
    {
      "cell_type": "markdown",
      "metadata": {
        "id": "U38aOM6nEWOe",
        "colab_type": "text"
      },
      "source": [
        "### order_products__prior\n",
        "\n",
        "We need:\n",
        "- order id\n",
        "- proudct id\n",
        "- add to cart order\n",
        "\n",
        "Everything except for 'reordered'"
      ]
    },
    {
      "cell_type": "code",
      "metadata": {
        "id": "-CMWcWSiD8aW",
        "colab_type": "code",
        "colab": {
          "base_uri": "https://localhost:8080/",
          "height": 212
        },
        "outputId": "dcff3325-d01b-43fb-cce8-f55faa1c1fdb"
      },
      "source": [
        "order_products__prior = pd.read_csv('order_products__prior.csv')\n",
        "\n",
        "print(order_products__prior.shape)\n",
        "order_products__prior.head()"
      ],
      "execution_count": null,
      "outputs": [
        {
          "output_type": "stream",
          "text": [
            "(32434489, 4)\n"
          ],
          "name": "stdout"
        },
        {
          "output_type": "execute_result",
          "data": {
            "text/html": [
              "<div>\n",
              "<style scoped>\n",
              "    .dataframe tbody tr th:only-of-type {\n",
              "        vertical-align: middle;\n",
              "    }\n",
              "\n",
              "    .dataframe tbody tr th {\n",
              "        vertical-align: top;\n",
              "    }\n",
              "\n",
              "    .dataframe thead th {\n",
              "        text-align: right;\n",
              "    }\n",
              "</style>\n",
              "<table border=\"1\" class=\"dataframe\">\n",
              "  <thead>\n",
              "    <tr style=\"text-align: right;\">\n",
              "      <th></th>\n",
              "      <th>order_id</th>\n",
              "      <th>product_id</th>\n",
              "      <th>add_to_cart_order</th>\n",
              "      <th>reordered</th>\n",
              "    </tr>\n",
              "  </thead>\n",
              "  <tbody>\n",
              "    <tr>\n",
              "      <th>0</th>\n",
              "      <td>2</td>\n",
              "      <td>33120</td>\n",
              "      <td>1</td>\n",
              "      <td>1</td>\n",
              "    </tr>\n",
              "    <tr>\n",
              "      <th>1</th>\n",
              "      <td>2</td>\n",
              "      <td>28985</td>\n",
              "      <td>2</td>\n",
              "      <td>1</td>\n",
              "    </tr>\n",
              "    <tr>\n",
              "      <th>2</th>\n",
              "      <td>2</td>\n",
              "      <td>9327</td>\n",
              "      <td>3</td>\n",
              "      <td>0</td>\n",
              "    </tr>\n",
              "    <tr>\n",
              "      <th>3</th>\n",
              "      <td>2</td>\n",
              "      <td>45918</td>\n",
              "      <td>4</td>\n",
              "      <td>1</td>\n",
              "    </tr>\n",
              "    <tr>\n",
              "      <th>4</th>\n",
              "      <td>2</td>\n",
              "      <td>30035</td>\n",
              "      <td>5</td>\n",
              "      <td>0</td>\n",
              "    </tr>\n",
              "  </tbody>\n",
              "</table>\n",
              "</div>"
            ],
            "text/plain": [
              "   order_id  product_id  add_to_cart_order  reordered\n",
              "0         2       33120                  1          1\n",
              "1         2       28985                  2          1\n",
              "2         2        9327                  3          0\n",
              "3         2       45918                  4          1\n",
              "4         2       30035                  5          0"
            ]
          },
          "metadata": {
            "tags": []
          },
          "execution_count": 34
        }
      ]
    },
    {
      "cell_type": "markdown",
      "metadata": {
        "id": "_KRCdSl5E63N",
        "colab_type": "text"
      },
      "source": [
        "### order_products__train\n",
        "\n",
        "We need:\n",
        "- order id\n",
        "- proudct id\n",
        "- add to cart order\n",
        "\n",
        "Everything except for 'reordered'\n",
        "\n",
        "Do you see anything similar between order_products__train and order_products__prior?\n",
        "\n"
      ]
    },
    {
      "cell_type": "code",
      "metadata": {
        "id": "2Pq7lgVUD-a-",
        "colab_type": "code",
        "colab": {
          "base_uri": "https://localhost:8080/",
          "height": 212
        },
        "outputId": "dbf14165-6c2c-4b84-eee2-c25c02bce01d"
      },
      "source": [
        "order_products__train = pd.read_csv('order_products__train.csv')\n",
        "\n",
        "print(order_products__train.shape)\n",
        "order_products__train.head()"
      ],
      "execution_count": null,
      "outputs": [
        {
          "output_type": "stream",
          "text": [
            "(1384617, 4)\n"
          ],
          "name": "stdout"
        },
        {
          "output_type": "execute_result",
          "data": {
            "text/html": [
              "<div>\n",
              "<style scoped>\n",
              "    .dataframe tbody tr th:only-of-type {\n",
              "        vertical-align: middle;\n",
              "    }\n",
              "\n",
              "    .dataframe tbody tr th {\n",
              "        vertical-align: top;\n",
              "    }\n",
              "\n",
              "    .dataframe thead th {\n",
              "        text-align: right;\n",
              "    }\n",
              "</style>\n",
              "<table border=\"1\" class=\"dataframe\">\n",
              "  <thead>\n",
              "    <tr style=\"text-align: right;\">\n",
              "      <th></th>\n",
              "      <th>order_id</th>\n",
              "      <th>product_id</th>\n",
              "      <th>add_to_cart_order</th>\n",
              "      <th>reordered</th>\n",
              "    </tr>\n",
              "  </thead>\n",
              "  <tbody>\n",
              "    <tr>\n",
              "      <th>0</th>\n",
              "      <td>1</td>\n",
              "      <td>49302</td>\n",
              "      <td>1</td>\n",
              "      <td>1</td>\n",
              "    </tr>\n",
              "    <tr>\n",
              "      <th>1</th>\n",
              "      <td>1</td>\n",
              "      <td>11109</td>\n",
              "      <td>2</td>\n",
              "      <td>1</td>\n",
              "    </tr>\n",
              "    <tr>\n",
              "      <th>2</th>\n",
              "      <td>1</td>\n",
              "      <td>10246</td>\n",
              "      <td>3</td>\n",
              "      <td>0</td>\n",
              "    </tr>\n",
              "    <tr>\n",
              "      <th>3</th>\n",
              "      <td>1</td>\n",
              "      <td>49683</td>\n",
              "      <td>4</td>\n",
              "      <td>0</td>\n",
              "    </tr>\n",
              "    <tr>\n",
              "      <th>4</th>\n",
              "      <td>1</td>\n",
              "      <td>43633</td>\n",
              "      <td>5</td>\n",
              "      <td>1</td>\n",
              "    </tr>\n",
              "  </tbody>\n",
              "</table>\n",
              "</div>"
            ],
            "text/plain": [
              "   order_id  product_id  add_to_cart_order  reordered\n",
              "0         1       49302                  1          1\n",
              "1         1       11109                  2          1\n",
              "2         1       10246                  3          0\n",
              "3         1       49683                  4          0\n",
              "4         1       43633                  5          1"
            ]
          },
          "metadata": {
            "tags": []
          },
          "execution_count": 35
        }
      ]
    },
    {
      "cell_type": "markdown",
      "metadata": {
        "id": "V2cdftjYFj1k",
        "colab_type": "text"
      },
      "source": [
        "### orders\n",
        "\n",
        "We need:\n",
        "- order id\n",
        "- user id\n",
        "- order number\n",
        "- order dow\n",
        "- order hour of day"
      ]
    },
    {
      "cell_type": "code",
      "metadata": {
        "id": "t9PyqoneEBPd",
        "colab_type": "code",
        "colab": {
          "base_uri": "https://localhost:8080/",
          "height": 212
        },
        "outputId": "32f77029-38db-489c-b534-13058ba49d40"
      },
      "source": [
        "orders = pd.read_csv('orders.csv')\n",
        "\n",
        "print(orders.shape)\n",
        "orders.head()"
      ],
      "execution_count": null,
      "outputs": [
        {
          "output_type": "stream",
          "text": [
            "(3421083, 7)\n"
          ],
          "name": "stdout"
        },
        {
          "output_type": "execute_result",
          "data": {
            "text/html": [
              "<div>\n",
              "<style scoped>\n",
              "    .dataframe tbody tr th:only-of-type {\n",
              "        vertical-align: middle;\n",
              "    }\n",
              "\n",
              "    .dataframe tbody tr th {\n",
              "        vertical-align: top;\n",
              "    }\n",
              "\n",
              "    .dataframe thead th {\n",
              "        text-align: right;\n",
              "    }\n",
              "</style>\n",
              "<table border=\"1\" class=\"dataframe\">\n",
              "  <thead>\n",
              "    <tr style=\"text-align: right;\">\n",
              "      <th></th>\n",
              "      <th>order_id</th>\n",
              "      <th>user_id</th>\n",
              "      <th>eval_set</th>\n",
              "      <th>order_number</th>\n",
              "      <th>order_dow</th>\n",
              "      <th>order_hour_of_day</th>\n",
              "      <th>days_since_prior_order</th>\n",
              "    </tr>\n",
              "  </thead>\n",
              "  <tbody>\n",
              "    <tr>\n",
              "      <th>0</th>\n",
              "      <td>2539329</td>\n",
              "      <td>1</td>\n",
              "      <td>prior</td>\n",
              "      <td>1</td>\n",
              "      <td>2</td>\n",
              "      <td>8</td>\n",
              "      <td>NaN</td>\n",
              "    </tr>\n",
              "    <tr>\n",
              "      <th>1</th>\n",
              "      <td>2398795</td>\n",
              "      <td>1</td>\n",
              "      <td>prior</td>\n",
              "      <td>2</td>\n",
              "      <td>3</td>\n",
              "      <td>7</td>\n",
              "      <td>15.0</td>\n",
              "    </tr>\n",
              "    <tr>\n",
              "      <th>2</th>\n",
              "      <td>473747</td>\n",
              "      <td>1</td>\n",
              "      <td>prior</td>\n",
              "      <td>3</td>\n",
              "      <td>3</td>\n",
              "      <td>12</td>\n",
              "      <td>21.0</td>\n",
              "    </tr>\n",
              "    <tr>\n",
              "      <th>3</th>\n",
              "      <td>2254736</td>\n",
              "      <td>1</td>\n",
              "      <td>prior</td>\n",
              "      <td>4</td>\n",
              "      <td>4</td>\n",
              "      <td>7</td>\n",
              "      <td>29.0</td>\n",
              "    </tr>\n",
              "    <tr>\n",
              "      <th>4</th>\n",
              "      <td>431534</td>\n",
              "      <td>1</td>\n",
              "      <td>prior</td>\n",
              "      <td>5</td>\n",
              "      <td>4</td>\n",
              "      <td>15</td>\n",
              "      <td>28.0</td>\n",
              "    </tr>\n",
              "  </tbody>\n",
              "</table>\n",
              "</div>"
            ],
            "text/plain": [
              "   order_id  user_id  ... order_hour_of_day  days_since_prior_order\n",
              "0   2539329        1  ...                 8                     NaN\n",
              "1   2398795        1  ...                 7                    15.0\n",
              "2    473747        1  ...                12                    21.0\n",
              "3   2254736        1  ...                 7                    29.0\n",
              "4    431534        1  ...                15                    28.0\n",
              "\n",
              "[5 rows x 7 columns]"
            ]
          },
          "metadata": {
            "tags": []
          },
          "execution_count": 37
        }
      ]
    },
    {
      "cell_type": "markdown",
      "metadata": {
        "id": "yXyRiuIdFmGU",
        "colab_type": "text"
      },
      "source": [
        "### products\n",
        "\n",
        "We need:\n",
        "- product id\n",
        "- product name"
      ]
    },
    {
      "cell_type": "code",
      "metadata": {
        "id": "3J917C0NEDhG",
        "colab_type": "code",
        "colab": {
          "base_uri": "https://localhost:8080/",
          "height": 212
        },
        "outputId": "d8a6f445-792e-4788-c6b6-d945c2b58751"
      },
      "source": [
        "products = pd.read_csv('products.csv')\n",
        "\n",
        "print(products.shape)\n",
        "products.head()"
      ],
      "execution_count": null,
      "outputs": [
        {
          "output_type": "stream",
          "text": [
            "(49688, 4)\n"
          ],
          "name": "stdout"
        },
        {
          "output_type": "execute_result",
          "data": {
            "text/html": [
              "<div>\n",
              "<style scoped>\n",
              "    .dataframe tbody tr th:only-of-type {\n",
              "        vertical-align: middle;\n",
              "    }\n",
              "\n",
              "    .dataframe tbody tr th {\n",
              "        vertical-align: top;\n",
              "    }\n",
              "\n",
              "    .dataframe thead th {\n",
              "        text-align: right;\n",
              "    }\n",
              "</style>\n",
              "<table border=\"1\" class=\"dataframe\">\n",
              "  <thead>\n",
              "    <tr style=\"text-align: right;\">\n",
              "      <th></th>\n",
              "      <th>product_id</th>\n",
              "      <th>product_name</th>\n",
              "      <th>aisle_id</th>\n",
              "      <th>department_id</th>\n",
              "    </tr>\n",
              "  </thead>\n",
              "  <tbody>\n",
              "    <tr>\n",
              "      <th>0</th>\n",
              "      <td>1</td>\n",
              "      <td>Chocolate Sandwich Cookies</td>\n",
              "      <td>61</td>\n",
              "      <td>19</td>\n",
              "    </tr>\n",
              "    <tr>\n",
              "      <th>1</th>\n",
              "      <td>2</td>\n",
              "      <td>All-Seasons Salt</td>\n",
              "      <td>104</td>\n",
              "      <td>13</td>\n",
              "    </tr>\n",
              "    <tr>\n",
              "      <th>2</th>\n",
              "      <td>3</td>\n",
              "      <td>Robust Golden Unsweetened Oolong Tea</td>\n",
              "      <td>94</td>\n",
              "      <td>7</td>\n",
              "    </tr>\n",
              "    <tr>\n",
              "      <th>3</th>\n",
              "      <td>4</td>\n",
              "      <td>Smart Ones Classic Favorites Mini Rigatoni Wit...</td>\n",
              "      <td>38</td>\n",
              "      <td>1</td>\n",
              "    </tr>\n",
              "    <tr>\n",
              "      <th>4</th>\n",
              "      <td>5</td>\n",
              "      <td>Green Chile Anytime Sauce</td>\n",
              "      <td>5</td>\n",
              "      <td>13</td>\n",
              "    </tr>\n",
              "  </tbody>\n",
              "</table>\n",
              "</div>"
            ],
            "text/plain": [
              "   product_id  ... department_id\n",
              "0           1  ...            19\n",
              "1           2  ...            13\n",
              "2           3  ...             7\n",
              "3           4  ...             1\n",
              "4           5  ...            13\n",
              "\n",
              "[5 rows x 4 columns]"
            ]
          },
          "metadata": {
            "tags": []
          },
          "execution_count": 38
        }
      ]
    },
    {
      "cell_type": "code",
      "metadata": {
        "id": "1W8QD08iSFWa",
        "colab_type": "code",
        "colab": {
          "base_uri": "https://localhost:8080/",
          "height": 312
        },
        "outputId": "9bb8f0ee-f649-4c28-f472-67a6ba254ec8"
      },
      "source": [
        "display(example)"
      ],
      "execution_count": null,
      "outputs": [
        {
          "output_type": "display_data",
          "data": {
            "text/html": [
              "<img src=\"https://cdn-images-1.medium.com/max/1600/1*vYGFQCafJtGBBX5mbl0xyw.png\" width=\"600\"/>"
            ],
            "text/plain": [
              "<IPython.core.display.Image object>"
            ]
          },
          "metadata": {
            "tags": []
          }
        }
      ]
    },
    {
      "cell_type": "markdown",
      "metadata": {
        "id": "ALhA76X1GkgY",
        "colab_type": "text"
      },
      "source": [
        "## Concatenate order_products__prior and order_products__train\n",
        "\n",
        "\n"
      ]
    },
    {
      "cell_type": "code",
      "metadata": {
        "id": "QU4nkwnPGz4A",
        "colab_type": "code",
        "colab": {
          "base_uri": "https://localhost:8080/",
          "height": 212
        },
        "outputId": "c28fb460-8cf2-4b9c-e4d9-1c0f2ea92927"
      },
      "source": [
        "order_products = pd.concat([order_products__prior, order_products__train])\n",
        "\n",
        "print(order_products.shape)\n",
        "order_products.head()"
      ],
      "execution_count": null,
      "outputs": [
        {
          "output_type": "stream",
          "text": [
            "(33819106, 4)\n"
          ],
          "name": "stdout"
        },
        {
          "output_type": "execute_result",
          "data": {
            "text/html": [
              "<div>\n",
              "<style scoped>\n",
              "    .dataframe tbody tr th:only-of-type {\n",
              "        vertical-align: middle;\n",
              "    }\n",
              "\n",
              "    .dataframe tbody tr th {\n",
              "        vertical-align: top;\n",
              "    }\n",
              "\n",
              "    .dataframe thead th {\n",
              "        text-align: right;\n",
              "    }\n",
              "</style>\n",
              "<table border=\"1\" class=\"dataframe\">\n",
              "  <thead>\n",
              "    <tr style=\"text-align: right;\">\n",
              "      <th></th>\n",
              "      <th>order_id</th>\n",
              "      <th>product_id</th>\n",
              "      <th>add_to_cart_order</th>\n",
              "      <th>reordered</th>\n",
              "    </tr>\n",
              "  </thead>\n",
              "  <tbody>\n",
              "    <tr>\n",
              "      <th>0</th>\n",
              "      <td>2</td>\n",
              "      <td>33120</td>\n",
              "      <td>1</td>\n",
              "      <td>1</td>\n",
              "    </tr>\n",
              "    <tr>\n",
              "      <th>1</th>\n",
              "      <td>2</td>\n",
              "      <td>28985</td>\n",
              "      <td>2</td>\n",
              "      <td>1</td>\n",
              "    </tr>\n",
              "    <tr>\n",
              "      <th>2</th>\n",
              "      <td>2</td>\n",
              "      <td>9327</td>\n",
              "      <td>3</td>\n",
              "      <td>0</td>\n",
              "    </tr>\n",
              "    <tr>\n",
              "      <th>3</th>\n",
              "      <td>2</td>\n",
              "      <td>45918</td>\n",
              "      <td>4</td>\n",
              "      <td>1</td>\n",
              "    </tr>\n",
              "    <tr>\n",
              "      <th>4</th>\n",
              "      <td>2</td>\n",
              "      <td>30035</td>\n",
              "      <td>5</td>\n",
              "      <td>0</td>\n",
              "    </tr>\n",
              "  </tbody>\n",
              "</table>\n",
              "</div>"
            ],
            "text/plain": [
              "   order_id  product_id  add_to_cart_order  reordered\n",
              "0         2       33120                  1          1\n",
              "1         2       28985                  2          1\n",
              "2         2        9327                  3          0\n",
              "3         2       45918                  4          1\n",
              "4         2       30035                  5          0"
            ]
          },
          "metadata": {
            "tags": []
          },
          "execution_count": 39
        }
      ]
    },
    {
      "cell_type": "code",
      "metadata": {
        "id": "XrBZ0y8TG09_",
        "colab_type": "code",
        "colab": {
          "base_uri": "https://localhost:8080/",
          "height": 34
        },
        "outputId": "97e7b1d4-cf16-4e8f-c92d-ee91bff69a74"
      },
      "source": [
        "order_products__prior.shape"
      ],
      "execution_count": null,
      "outputs": [
        {
          "output_type": "execute_result",
          "data": {
            "text/plain": [
              "(32434489, 4)"
            ]
          },
          "metadata": {
            "tags": []
          },
          "execution_count": 40
        }
      ]
    },
    {
      "cell_type": "code",
      "metadata": {
        "id": "gZk8V7yxG2Qg",
        "colab_type": "code",
        "colab": {
          "base_uri": "https://localhost:8080/",
          "height": 34
        },
        "outputId": "bae32ba1-3e65-499a-afac-4e107af451ec"
      },
      "source": [
        "order_products__train.shape"
      ],
      "execution_count": null,
      "outputs": [
        {
          "output_type": "execute_result",
          "data": {
            "text/plain": [
              "(1384617, 4)"
            ]
          },
          "metadata": {
            "tags": []
          },
          "execution_count": 41
        }
      ]
    },
    {
      "cell_type": "code",
      "metadata": {
        "id": "5aafrNXpWBOY",
        "colab_type": "code",
        "colab": {
          "base_uri": "https://localhost:8080/",
          "height": 34
        },
        "outputId": "3bc85a56-2fb5-40fa-942d-0048d3257f8d"
      },
      "source": [
        "order_products__prior.shape[0] + order_products__train.shape[0]"
      ],
      "execution_count": null,
      "outputs": [
        {
          "output_type": "execute_result",
          "data": {
            "text/plain": [
              "33819106"
            ]
          },
          "metadata": {
            "tags": []
          },
          "execution_count": 42
        }
      ]
    },
    {
      "cell_type": "markdown",
      "metadata": {
        "id": "XSiHrHuj1ME-",
        "colab_type": "text"
      },
      "source": [
        "## Challenge\n",
        "\n",
        "Concatenating dataframes means to stick two dataframes together either by rows or by columns. The default behavior of `pd.concat()` is to take the rows of one dataframe and add them to the rows of another dataframe. If we pass the argument `axis=1` then we will be adding the columns of one dataframe to the columns of another dataframe.\n",
        "\n",
        "Concatenating dataframes is most useful when the columns are the same between two dataframes or when we have matching row indices between two dataframes. \n",
        "\n",
        "Be ready to use this method to combine dataframes together during your assignment."
      ]
    },
    {
      "cell_type": "markdown",
      "metadata": {
        "id": "17PV3bEtz449",
        "colab_type": "text"
      },
      "source": [
        "# [Objective](#merge) Merge dataframes with pandas\n",
        "\n"
      ]
    },
    {
      "cell_type": "markdown",
      "metadata": {
        "id": "DAiMlm5Q05LW",
        "colab_type": "text"
      },
      "source": [
        "## Overview"
      ]
    },
    {
      "cell_type": "code",
      "metadata": {
        "id": "oH4J87G4LZjd",
        "colab_type": "code",
        "colab": {
          "base_uri": "https://localhost:8080/",
          "height": 313
        },
        "outputId": "85b50959-7a7f-4ce0-abc0-1f479a318111"
      },
      "source": [
        "display(example)"
      ],
      "execution_count": null,
      "outputs": [
        {
          "output_type": "display_data",
          "data": {
            "text/html": [
              "<img src=\"https://cdn-images-1.medium.com/max/1600/1*vYGFQCafJtGBBX5mbl0xyw.png\" width=\"600\"/>"
            ],
            "text/plain": [
              "<IPython.core.display.Image object>"
            ]
          },
          "metadata": {
            "tags": []
          }
        }
      ]
    },
    {
      "cell_type": "markdown",
      "metadata": {
        "id": "p1o6R29VLwwu",
        "colab_type": "text"
      },
      "source": [
        "Before we can continue we need to understand where the data in the above table is coming from and what why specific pieces of data are held in the specific dataframes.\n",
        "\n",
        "Each of these CSVs has a specific unit of observation (row). The columns that we see included in each CSV were selected purposefully. For example, everything each row of the `orders` dataframe is a specific and unique order -telling us who made the order, and when they made it. Every row in the `products` dataframe tells us about a specific and unique product that thestore offers. And everything in the `order_products` dataframe tells us about how products are associated with specific orders -including when the product was added to the shopping cart. \n",
        "\n",
        "### The Orders Dataframe\n",
        "\n",
        "Holds information about specific orders, things like who placed the order, what \n",
        "\n",
        "- user_id\n",
        "- order_id\n",
        "- order_number\n",
        "- order_dow\n",
        "- order_hour_of_day\n",
        "\n",
        "### The Products Dataframe\n",
        "\n",
        "Holds information about individual products.\n",
        "\n",
        "- product_id\n",
        "- product_name\n",
        "\n",
        "### The Order_Products Dataframe\n",
        "\n",
        "Tells us how products are associated with specific orders since an order is a group of products.\n",
        "\n",
        "- order_id\n",
        "- product_id\n",
        "- add_to_cart_order\n",
        "\n",
        "As we look at the table that we're trying to recreate, we notice that we're not looking at specific orders or products, but at a specific **USER**. We're looking at the first two orders for a specific user and the products associated with those orders, so we'll need to combine dataframes to get all of this data together into a single table.\n",
        "\n",
        "**The key to combining all of this information is that we need values that exist in both datasets that we can use to match up rows and combine dataframes.**"
      ]
    },
    {
      "cell_type": "markdown",
      "metadata": {
        "id": "g38DqtNj1BnI",
        "colab_type": "text"
      },
      "source": [
        "## Follow Along\n",
        "\n",
        "We have two dataframes, so we're going to need to merge our data twice. As we approach merging datasets together we will take the following approach.\n",
        "\n",
        "1) Identify which to dataframes we would like to combine.\n",
        "\n",
        "2) Find columns that are common between both dataframes that we can use to match up information.\n",
        "\n",
        "3) Slim down both of our dataframes so that they only relevant data before we merge.\n",
        "\n",
        "4) Merge the dataframes."
      ]
    },
    {
      "cell_type": "markdown",
      "metadata": {
        "id": "259BJMJ43Ka5",
        "colab_type": "text"
      },
      "source": [
        "### First Merge\n",
        "\n",
        "1) Combine `orders` and `order_products`\n",
        "\n",
        "2) We will use the `order_id` column to match information between the two datasets\n",
        "\n",
        "3) Lets slim down our dataframes to only the information that we need. We do this because the merge process is complex. Why would we merge millions of rows together if we know that we're only going to need 11 rows when we're done\n",
        "\n",
        "What specific conditions could we use to slim down the `orders` dataframe?\n",
        "\n",
        "`user_id == 1` and `order_id <=2`\n",
        "\n",
        "or\n",
        "\n",
        "`order_id == 2539329` and `order_id == 2398795`"
      ]
    },
    {
      "cell_type": "code",
      "metadata": {
        "id": "I6r8i8tN1H1S",
        "colab_type": "code",
        "colab": {
          "base_uri": "https://localhost:8080/",
          "height": 195
        },
        "outputId": "bb0a2558-f405-49a6-fa6d-64ad2c7cc8a4"
      },
      "source": [
        "# An example of dataframe filtering\n",
        "\n",
        "# Create a condition\n",
        "condition = orders['order_id'] <= 5\n",
        "\n",
        "# Pass that condition into the square brackets \n",
        "# that we use to access portions of a dataframe\n",
        "# only the rows where that condition evaluates to *TRUE*\n",
        "# will be retained in the dataframe\n",
        "\n",
        "orders[condition]\n",
        "\n",
        "# Look at the subsetted dataframe"
      ],
      "execution_count": null,
      "outputs": [
        {
          "output_type": "execute_result",
          "data": {
            "text/html": [
              "<div>\n",
              "<style scoped>\n",
              "    .dataframe tbody tr th:only-of-type {\n",
              "        vertical-align: middle;\n",
              "    }\n",
              "\n",
              "    .dataframe tbody tr th {\n",
              "        vertical-align: top;\n",
              "    }\n",
              "\n",
              "    .dataframe thead th {\n",
              "        text-align: right;\n",
              "    }\n",
              "</style>\n",
              "<table border=\"1\" class=\"dataframe\">\n",
              "  <thead>\n",
              "    <tr style=\"text-align: right;\">\n",
              "      <th></th>\n",
              "      <th>order_id</th>\n",
              "      <th>user_id</th>\n",
              "      <th>eval_set</th>\n",
              "      <th>order_number</th>\n",
              "      <th>order_dow</th>\n",
              "      <th>order_hour_of_day</th>\n",
              "      <th>days_since_prior_order</th>\n",
              "    </tr>\n",
              "  </thead>\n",
              "  <tbody>\n",
              "    <tr>\n",
              "      <th>1868044</th>\n",
              "      <td>1</td>\n",
              "      <td>112108</td>\n",
              "      <td>train</td>\n",
              "      <td>4</td>\n",
              "      <td>4</td>\n",
              "      <td>10</td>\n",
              "      <td>9.0</td>\n",
              "    </tr>\n",
              "    <tr>\n",
              "      <th>2593373</th>\n",
              "      <td>5</td>\n",
              "      <td>156122</td>\n",
              "      <td>prior</td>\n",
              "      <td>42</td>\n",
              "      <td>6</td>\n",
              "      <td>16</td>\n",
              "      <td>9.0</td>\n",
              "    </tr>\n",
              "    <tr>\n",
              "      <th>2958007</th>\n",
              "      <td>4</td>\n",
              "      <td>178520</td>\n",
              "      <td>prior</td>\n",
              "      <td>36</td>\n",
              "      <td>1</td>\n",
              "      <td>9</td>\n",
              "      <td>7.0</td>\n",
              "    </tr>\n",
              "    <tr>\n",
              "      <th>3355525</th>\n",
              "      <td>2</td>\n",
              "      <td>202279</td>\n",
              "      <td>prior</td>\n",
              "      <td>3</td>\n",
              "      <td>5</td>\n",
              "      <td>9</td>\n",
              "      <td>8.0</td>\n",
              "    </tr>\n",
              "    <tr>\n",
              "      <th>3417191</th>\n",
              "      <td>3</td>\n",
              "      <td>205970</td>\n",
              "      <td>prior</td>\n",
              "      <td>16</td>\n",
              "      <td>5</td>\n",
              "      <td>17</td>\n",
              "      <td>12.0</td>\n",
              "    </tr>\n",
              "  </tbody>\n",
              "</table>\n",
              "</div>"
            ],
            "text/plain": [
              "         order_id  user_id  ... order_hour_of_day  days_since_prior_order\n",
              "1868044         1   112108  ...                10                     9.0\n",
              "2593373         5   156122  ...                16                     9.0\n",
              "2958007         4   178520  ...                 9                     7.0\n",
              "3355525         2   202279  ...                 9                     8.0\n",
              "3417191         3   205970  ...                17                    12.0\n",
              "\n",
              "[5 rows x 7 columns]"
            ]
          },
          "metadata": {
            "tags": []
          },
          "execution_count": 45
        }
      ]
    },
    {
      "cell_type": "code",
      "metadata": {
        "id": "cWUCmgx66Td3",
        "colab_type": "code",
        "colab": {
          "base_uri": "https://localhost:8080/",
          "height": 195
        },
        "outputId": "42507321-4d7a-4b65-ae85-66d2bc5688cd"
      },
      "source": [
        "# We don't necessarily have to save our condition to the variable \"condition\"\n",
        "# we can pass the condition into the square brackest directly\n",
        "# I just wanted to be clear what was happening inside of the square brackets\n",
        "\n",
        "orders[orders['order_id'] <= 5]"
      ],
      "execution_count": null,
      "outputs": [
        {
          "output_type": "execute_result",
          "data": {
            "text/html": [
              "<div>\n",
              "<style scoped>\n",
              "    .dataframe tbody tr th:only-of-type {\n",
              "        vertical-align: middle;\n",
              "    }\n",
              "\n",
              "    .dataframe tbody tr th {\n",
              "        vertical-align: top;\n",
              "    }\n",
              "\n",
              "    .dataframe thead th {\n",
              "        text-align: right;\n",
              "    }\n",
              "</style>\n",
              "<table border=\"1\" class=\"dataframe\">\n",
              "  <thead>\n",
              "    <tr style=\"text-align: right;\">\n",
              "      <th></th>\n",
              "      <th>order_id</th>\n",
              "      <th>user_id</th>\n",
              "      <th>eval_set</th>\n",
              "      <th>order_number</th>\n",
              "      <th>order_dow</th>\n",
              "      <th>order_hour_of_day</th>\n",
              "      <th>days_since_prior_order</th>\n",
              "    </tr>\n",
              "  </thead>\n",
              "  <tbody>\n",
              "    <tr>\n",
              "      <th>1868044</th>\n",
              "      <td>1</td>\n",
              "      <td>112108</td>\n",
              "      <td>train</td>\n",
              "      <td>4</td>\n",
              "      <td>4</td>\n",
              "      <td>10</td>\n",
              "      <td>9.0</td>\n",
              "    </tr>\n",
              "    <tr>\n",
              "      <th>2593373</th>\n",
              "      <td>5</td>\n",
              "      <td>156122</td>\n",
              "      <td>prior</td>\n",
              "      <td>42</td>\n",
              "      <td>6</td>\n",
              "      <td>16</td>\n",
              "      <td>9.0</td>\n",
              "    </tr>\n",
              "    <tr>\n",
              "      <th>2958007</th>\n",
              "      <td>4</td>\n",
              "      <td>178520</td>\n",
              "      <td>prior</td>\n",
              "      <td>36</td>\n",
              "      <td>1</td>\n",
              "      <td>9</td>\n",
              "      <td>7.0</td>\n",
              "    </tr>\n",
              "    <tr>\n",
              "      <th>3355525</th>\n",
              "      <td>2</td>\n",
              "      <td>202279</td>\n",
              "      <td>prior</td>\n",
              "      <td>3</td>\n",
              "      <td>5</td>\n",
              "      <td>9</td>\n",
              "      <td>8.0</td>\n",
              "    </tr>\n",
              "    <tr>\n",
              "      <th>3417191</th>\n",
              "      <td>3</td>\n",
              "      <td>205970</td>\n",
              "      <td>prior</td>\n",
              "      <td>16</td>\n",
              "      <td>5</td>\n",
              "      <td>17</td>\n",
              "      <td>12.0</td>\n",
              "    </tr>\n",
              "  </tbody>\n",
              "</table>\n",
              "</div>"
            ],
            "text/plain": [
              "         order_id  user_id  ... order_hour_of_day  days_since_prior_order\n",
              "1868044         1   112108  ...                10                     9.0\n",
              "2593373         5   156122  ...                16                     9.0\n",
              "2958007         4   178520  ...                 9                     7.0\n",
              "3355525         2   202279  ...                 9                     8.0\n",
              "3417191         3   205970  ...                17                    12.0\n",
              "\n",
              "[5 rows x 7 columns]"
            ]
          },
          "metadata": {
            "tags": []
          },
          "execution_count": 46
        }
      ]
    },
    {
      "cell_type": "markdown",
      "metadata": {
        "id": "1kQG4sxP6lod",
        "colab_type": "text"
      },
      "source": [
        "Remember there are multiple ways that we could have filtered this dataframe. We also could have done it by specific `order_id`s\n"
      ]
    },
    {
      "cell_type": "code",
      "metadata": {
        "id": "8IA4Kwyw6vk6",
        "colab_type": "code",
        "colab": {
          "base_uri": "https://localhost:8080/",
          "height": 218
        },
        "outputId": "87163c4b-b083-47e7-ec3f-c575714d8aa6"
      },
      "source": [
        "order_products['order_id'] == 2539329"
      ],
      "execution_count": null,
      "outputs": [
        {
          "output_type": "execute_result",
          "data": {
            "text/plain": [
              "0          False\n",
              "1          False\n",
              "2          False\n",
              "3          False\n",
              "4          False\n",
              "           ...  \n",
              "1384612    False\n",
              "1384613    False\n",
              "1384614    False\n",
              "1384615    False\n",
              "1384616    False\n",
              "Name: order_id, Length: 33819106, dtype: bool"
            ]
          },
          "metadata": {
            "tags": []
          },
          "execution_count": 47
        }
      ]
    },
    {
      "cell_type": "code",
      "metadata": {
        "id": "L796PYcnaHUo",
        "colab_type": "code",
        "colab": {}
      },
      "source": [
        "# \"or\" for comparing individual true and false values\n",
        "if loan_status == \"Current\" or loan_status == \"Fully Paid\":\n",
        "  return 1\n",
        "else:\n",
        "  return 0"
      ],
      "execution_count": null,
      "outputs": []
    },
    {
      "cell_type": "markdown",
      "metadata": {
        "id": "Nt8qiPCl7Lh8",
        "colab_type": "text"
      },
      "source": [
        "Now we'll filter down the order_products dataframe\n",
        "\n",
        "What conditions could we use for subsetting that table?\n",
        "\n",
        "We can use order_id again."
      ]
    },
    {
      "cell_type": "code",
      "metadata": {
        "id": "oGi2zg5ta9uD",
        "colab_type": "code",
        "colab": {
          "base_uri": "https://localhost:8080/",
          "height": 106
        },
        "outputId": "6ab10b07-766b-48db-bc05-45a0a268a44b"
      },
      "source": [
        "orders_subset = orders[(orders['user_id'] == 1) & (orders['order_number'] <= 2)]\n",
        "\n",
        "orders_subset"
      ],
      "execution_count": null,
      "outputs": [
        {
          "output_type": "execute_result",
          "data": {
            "text/html": [
              "<div>\n",
              "<style scoped>\n",
              "    .dataframe tbody tr th:only-of-type {\n",
              "        vertical-align: middle;\n",
              "    }\n",
              "\n",
              "    .dataframe tbody tr th {\n",
              "        vertical-align: top;\n",
              "    }\n",
              "\n",
              "    .dataframe thead th {\n",
              "        text-align: right;\n",
              "    }\n",
              "</style>\n",
              "<table border=\"1\" class=\"dataframe\">\n",
              "  <thead>\n",
              "    <tr style=\"text-align: right;\">\n",
              "      <th></th>\n",
              "      <th>order_id</th>\n",
              "      <th>user_id</th>\n",
              "      <th>eval_set</th>\n",
              "      <th>order_number</th>\n",
              "      <th>order_dow</th>\n",
              "      <th>order_hour_of_day</th>\n",
              "      <th>days_since_prior_order</th>\n",
              "    </tr>\n",
              "  </thead>\n",
              "  <tbody>\n",
              "    <tr>\n",
              "      <th>0</th>\n",
              "      <td>2539329</td>\n",
              "      <td>1</td>\n",
              "      <td>prior</td>\n",
              "      <td>1</td>\n",
              "      <td>2</td>\n",
              "      <td>8</td>\n",
              "      <td>NaN</td>\n",
              "    </tr>\n",
              "    <tr>\n",
              "      <th>1</th>\n",
              "      <td>2398795</td>\n",
              "      <td>1</td>\n",
              "      <td>prior</td>\n",
              "      <td>2</td>\n",
              "      <td>3</td>\n",
              "      <td>7</td>\n",
              "      <td>15.0</td>\n",
              "    </tr>\n",
              "  </tbody>\n",
              "</table>\n",
              "</div>"
            ],
            "text/plain": [
              "   order_id  user_id  ... order_hour_of_day  days_since_prior_order\n",
              "0   2539329        1  ...                 8                     NaN\n",
              "1   2398795        1  ...                 7                    15.0\n",
              "\n",
              "[2 rows x 7 columns]"
            ]
          },
          "metadata": {
            "tags": []
          },
          "execution_count": 52
        }
      ]
    },
    {
      "cell_type": "code",
      "metadata": {
        "id": "DHE_-PKs7e4s",
        "colab_type": "code",
        "colab": {
          "base_uri": "https://localhost:8080/",
          "height": 373
        },
        "outputId": "305e70c0-e85e-4e82-d9d1-92b5c5e306c0"
      },
      "source": [
        "# bitwise or operator\n",
        "order_products_subset = order_products[(order_products['order_id'] == 2539329) | (order_products['order_id'] == 2398795)]\n",
        "\n",
        "order_products_subset"
      ],
      "execution_count": null,
      "outputs": [
        {
          "output_type": "execute_result",
          "data": {
            "text/html": [
              "<div>\n",
              "<style scoped>\n",
              "    .dataframe tbody tr th:only-of-type {\n",
              "        vertical-align: middle;\n",
              "    }\n",
              "\n",
              "    .dataframe tbody tr th {\n",
              "        vertical-align: top;\n",
              "    }\n",
              "\n",
              "    .dataframe thead th {\n",
              "        text-align: right;\n",
              "    }\n",
              "</style>\n",
              "<table border=\"1\" class=\"dataframe\">\n",
              "  <thead>\n",
              "    <tr style=\"text-align: right;\">\n",
              "      <th></th>\n",
              "      <th>order_id</th>\n",
              "      <th>product_id</th>\n",
              "      <th>add_to_cart_order</th>\n",
              "      <th>reordered</th>\n",
              "    </tr>\n",
              "  </thead>\n",
              "  <tbody>\n",
              "    <tr>\n",
              "      <th>22742744</th>\n",
              "      <td>2398795</td>\n",
              "      <td>196</td>\n",
              "      <td>1</td>\n",
              "      <td>1</td>\n",
              "    </tr>\n",
              "    <tr>\n",
              "      <th>22742745</th>\n",
              "      <td>2398795</td>\n",
              "      <td>10258</td>\n",
              "      <td>2</td>\n",
              "      <td>0</td>\n",
              "    </tr>\n",
              "    <tr>\n",
              "      <th>22742746</th>\n",
              "      <td>2398795</td>\n",
              "      <td>12427</td>\n",
              "      <td>3</td>\n",
              "      <td>1</td>\n",
              "    </tr>\n",
              "    <tr>\n",
              "      <th>22742747</th>\n",
              "      <td>2398795</td>\n",
              "      <td>13176</td>\n",
              "      <td>4</td>\n",
              "      <td>0</td>\n",
              "    </tr>\n",
              "    <tr>\n",
              "      <th>22742748</th>\n",
              "      <td>2398795</td>\n",
              "      <td>26088</td>\n",
              "      <td>5</td>\n",
              "      <td>1</td>\n",
              "    </tr>\n",
              "    <tr>\n",
              "      <th>22742749</th>\n",
              "      <td>2398795</td>\n",
              "      <td>13032</td>\n",
              "      <td>6</td>\n",
              "      <td>0</td>\n",
              "    </tr>\n",
              "    <tr>\n",
              "      <th>24076664</th>\n",
              "      <td>2539329</td>\n",
              "      <td>196</td>\n",
              "      <td>1</td>\n",
              "      <td>0</td>\n",
              "    </tr>\n",
              "    <tr>\n",
              "      <th>24076665</th>\n",
              "      <td>2539329</td>\n",
              "      <td>14084</td>\n",
              "      <td>2</td>\n",
              "      <td>0</td>\n",
              "    </tr>\n",
              "    <tr>\n",
              "      <th>24076666</th>\n",
              "      <td>2539329</td>\n",
              "      <td>12427</td>\n",
              "      <td>3</td>\n",
              "      <td>0</td>\n",
              "    </tr>\n",
              "    <tr>\n",
              "      <th>24076667</th>\n",
              "      <td>2539329</td>\n",
              "      <td>26088</td>\n",
              "      <td>4</td>\n",
              "      <td>0</td>\n",
              "    </tr>\n",
              "    <tr>\n",
              "      <th>24076668</th>\n",
              "      <td>2539329</td>\n",
              "      <td>26405</td>\n",
              "      <td>5</td>\n",
              "      <td>0</td>\n",
              "    </tr>\n",
              "  </tbody>\n",
              "</table>\n",
              "</div>"
            ],
            "text/plain": [
              "          order_id  product_id  add_to_cart_order  reordered\n",
              "22742744   2398795         196                  1          1\n",
              "22742745   2398795       10258                  2          0\n",
              "22742746   2398795       12427                  3          1\n",
              "22742747   2398795       13176                  4          0\n",
              "22742748   2398795       26088                  5          1\n",
              "22742749   2398795       13032                  6          0\n",
              "24076664   2539329         196                  1          0\n",
              "24076665   2539329       14084                  2          0\n",
              "24076666   2539329       12427                  3          0\n",
              "24076667   2539329       26088                  4          0\n",
              "24076668   2539329       26405                  5          0"
            ]
          },
          "metadata": {
            "tags": []
          },
          "execution_count": 53
        }
      ]
    },
    {
      "cell_type": "markdown",
      "metadata": {
        "id": "yfi9zxpR7ugQ",
        "colab_type": "text"
      },
      "source": [
        "4) Now we're ready to merge these two tables together."
      ]
    },
    {
      "cell_type": "code",
      "metadata": {
        "id": "gnhC5A2m7yQz",
        "colab_type": "code",
        "colab": {
          "base_uri": "https://localhost:8080/",
          "height": 373
        },
        "outputId": "3c940bf5-b68d-411d-fe39-cf6e2a98947d"
      },
      "source": [
        "orders_and_products = pd.merge(orders_subset, order_products_subset, on='order_id', how='inner')\n",
        "\n",
        "orders_and_products"
      ],
      "execution_count": null,
      "outputs": [
        {
          "output_type": "execute_result",
          "data": {
            "text/html": [
              "<div>\n",
              "<style scoped>\n",
              "    .dataframe tbody tr th:only-of-type {\n",
              "        vertical-align: middle;\n",
              "    }\n",
              "\n",
              "    .dataframe tbody tr th {\n",
              "        vertical-align: top;\n",
              "    }\n",
              "\n",
              "    .dataframe thead th {\n",
              "        text-align: right;\n",
              "    }\n",
              "</style>\n",
              "<table border=\"1\" class=\"dataframe\">\n",
              "  <thead>\n",
              "    <tr style=\"text-align: right;\">\n",
              "      <th></th>\n",
              "      <th>order_id</th>\n",
              "      <th>user_id</th>\n",
              "      <th>eval_set</th>\n",
              "      <th>order_number</th>\n",
              "      <th>order_dow</th>\n",
              "      <th>order_hour_of_day</th>\n",
              "      <th>days_since_prior_order</th>\n",
              "      <th>product_id</th>\n",
              "      <th>add_to_cart_order</th>\n",
              "      <th>reordered</th>\n",
              "    </tr>\n",
              "  </thead>\n",
              "  <tbody>\n",
              "    <tr>\n",
              "      <th>0</th>\n",
              "      <td>2539329</td>\n",
              "      <td>1</td>\n",
              "      <td>prior</td>\n",
              "      <td>1</td>\n",
              "      <td>2</td>\n",
              "      <td>8</td>\n",
              "      <td>NaN</td>\n",
              "      <td>196</td>\n",
              "      <td>1</td>\n",
              "      <td>0</td>\n",
              "    </tr>\n",
              "    <tr>\n",
              "      <th>1</th>\n",
              "      <td>2539329</td>\n",
              "      <td>1</td>\n",
              "      <td>prior</td>\n",
              "      <td>1</td>\n",
              "      <td>2</td>\n",
              "      <td>8</td>\n",
              "      <td>NaN</td>\n",
              "      <td>14084</td>\n",
              "      <td>2</td>\n",
              "      <td>0</td>\n",
              "    </tr>\n",
              "    <tr>\n",
              "      <th>2</th>\n",
              "      <td>2539329</td>\n",
              "      <td>1</td>\n",
              "      <td>prior</td>\n",
              "      <td>1</td>\n",
              "      <td>2</td>\n",
              "      <td>8</td>\n",
              "      <td>NaN</td>\n",
              "      <td>12427</td>\n",
              "      <td>3</td>\n",
              "      <td>0</td>\n",
              "    </tr>\n",
              "    <tr>\n",
              "      <th>3</th>\n",
              "      <td>2539329</td>\n",
              "      <td>1</td>\n",
              "      <td>prior</td>\n",
              "      <td>1</td>\n",
              "      <td>2</td>\n",
              "      <td>8</td>\n",
              "      <td>NaN</td>\n",
              "      <td>26088</td>\n",
              "      <td>4</td>\n",
              "      <td>0</td>\n",
              "    </tr>\n",
              "    <tr>\n",
              "      <th>4</th>\n",
              "      <td>2539329</td>\n",
              "      <td>1</td>\n",
              "      <td>prior</td>\n",
              "      <td>1</td>\n",
              "      <td>2</td>\n",
              "      <td>8</td>\n",
              "      <td>NaN</td>\n",
              "      <td>26405</td>\n",
              "      <td>5</td>\n",
              "      <td>0</td>\n",
              "    </tr>\n",
              "    <tr>\n",
              "      <th>5</th>\n",
              "      <td>2398795</td>\n",
              "      <td>1</td>\n",
              "      <td>prior</td>\n",
              "      <td>2</td>\n",
              "      <td>3</td>\n",
              "      <td>7</td>\n",
              "      <td>15.0</td>\n",
              "      <td>196</td>\n",
              "      <td>1</td>\n",
              "      <td>1</td>\n",
              "    </tr>\n",
              "    <tr>\n",
              "      <th>6</th>\n",
              "      <td>2398795</td>\n",
              "      <td>1</td>\n",
              "      <td>prior</td>\n",
              "      <td>2</td>\n",
              "      <td>3</td>\n",
              "      <td>7</td>\n",
              "      <td>15.0</td>\n",
              "      <td>10258</td>\n",
              "      <td>2</td>\n",
              "      <td>0</td>\n",
              "    </tr>\n",
              "    <tr>\n",
              "      <th>7</th>\n",
              "      <td>2398795</td>\n",
              "      <td>1</td>\n",
              "      <td>prior</td>\n",
              "      <td>2</td>\n",
              "      <td>3</td>\n",
              "      <td>7</td>\n",
              "      <td>15.0</td>\n",
              "      <td>12427</td>\n",
              "      <td>3</td>\n",
              "      <td>1</td>\n",
              "    </tr>\n",
              "    <tr>\n",
              "      <th>8</th>\n",
              "      <td>2398795</td>\n",
              "      <td>1</td>\n",
              "      <td>prior</td>\n",
              "      <td>2</td>\n",
              "      <td>3</td>\n",
              "      <td>7</td>\n",
              "      <td>15.0</td>\n",
              "      <td>13176</td>\n",
              "      <td>4</td>\n",
              "      <td>0</td>\n",
              "    </tr>\n",
              "    <tr>\n",
              "      <th>9</th>\n",
              "      <td>2398795</td>\n",
              "      <td>1</td>\n",
              "      <td>prior</td>\n",
              "      <td>2</td>\n",
              "      <td>3</td>\n",
              "      <td>7</td>\n",
              "      <td>15.0</td>\n",
              "      <td>26088</td>\n",
              "      <td>5</td>\n",
              "      <td>1</td>\n",
              "    </tr>\n",
              "    <tr>\n",
              "      <th>10</th>\n",
              "      <td>2398795</td>\n",
              "      <td>1</td>\n",
              "      <td>prior</td>\n",
              "      <td>2</td>\n",
              "      <td>3</td>\n",
              "      <td>7</td>\n",
              "      <td>15.0</td>\n",
              "      <td>13032</td>\n",
              "      <td>6</td>\n",
              "      <td>0</td>\n",
              "    </tr>\n",
              "  </tbody>\n",
              "</table>\n",
              "</div>"
            ],
            "text/plain": [
              "    order_id  user_id eval_set  ...  product_id  add_to_cart_order  reordered\n",
              "0    2539329        1    prior  ...         196                  1          0\n",
              "1    2539329        1    prior  ...       14084                  2          0\n",
              "2    2539329        1    prior  ...       12427                  3          0\n",
              "3    2539329        1    prior  ...       26088                  4          0\n",
              "4    2539329        1    prior  ...       26405                  5          0\n",
              "5    2398795        1    prior  ...         196                  1          1\n",
              "6    2398795        1    prior  ...       10258                  2          0\n",
              "7    2398795        1    prior  ...       12427                  3          1\n",
              "8    2398795        1    prior  ...       13176                  4          0\n",
              "9    2398795        1    prior  ...       26088                  5          1\n",
              "10   2398795        1    prior  ...       13032                  6          0\n",
              "\n",
              "[11 rows x 10 columns]"
            ]
          },
          "metadata": {
            "tags": []
          },
          "execution_count": 54
        }
      ]
    },
    {
      "cell_type": "code",
      "metadata": {
        "id": "RHGqFlPJ80-k",
        "colab_type": "code",
        "colab": {
          "base_uri": "https://localhost:8080/",
          "height": 313
        },
        "outputId": "0927e663-beea-4176-f0ce-851e3b0086e4"
      },
      "source": [
        "display(example)"
      ],
      "execution_count": null,
      "outputs": [
        {
          "output_type": "display_data",
          "data": {
            "text/html": [
              "<img src=\"https://cdn-images-1.medium.com/max/1600/1*vYGFQCafJtGBBX5mbl0xyw.png\" width=\"600\"/>"
            ],
            "text/plain": [
              "<IPython.core.display.Image object>"
            ]
          },
          "metadata": {
            "tags": []
          }
        }
      ]
    },
    {
      "cell_type": "code",
      "metadata": {
        "id": "DVdIEQsQ8D6x",
        "colab_type": "code",
        "colab": {
          "base_uri": "https://localhost:8080/",
          "height": 373
        },
        "outputId": "54f9e0a8-d9e7-4c68-ce87-6e80ab16a78c"
      },
      "source": [
        "# Remove columns that we don't need\n",
        "orders_and_products = orders_and_products.drop(['eval_set', 'days_since_prior_order', 'reordered'], axis=1)\n",
        "\n",
        "orders_and_products"
      ],
      "execution_count": null,
      "outputs": [
        {
          "output_type": "execute_result",
          "data": {
            "text/html": [
              "<div>\n",
              "<style scoped>\n",
              "    .dataframe tbody tr th:only-of-type {\n",
              "        vertical-align: middle;\n",
              "    }\n",
              "\n",
              "    .dataframe tbody tr th {\n",
              "        vertical-align: top;\n",
              "    }\n",
              "\n",
              "    .dataframe thead th {\n",
              "        text-align: right;\n",
              "    }\n",
              "</style>\n",
              "<table border=\"1\" class=\"dataframe\">\n",
              "  <thead>\n",
              "    <tr style=\"text-align: right;\">\n",
              "      <th></th>\n",
              "      <th>order_id</th>\n",
              "      <th>user_id</th>\n",
              "      <th>order_number</th>\n",
              "      <th>order_dow</th>\n",
              "      <th>order_hour_of_day</th>\n",
              "      <th>product_id</th>\n",
              "      <th>add_to_cart_order</th>\n",
              "    </tr>\n",
              "  </thead>\n",
              "  <tbody>\n",
              "    <tr>\n",
              "      <th>0</th>\n",
              "      <td>2539329</td>\n",
              "      <td>1</td>\n",
              "      <td>1</td>\n",
              "      <td>2</td>\n",
              "      <td>8</td>\n",
              "      <td>196</td>\n",
              "      <td>1</td>\n",
              "    </tr>\n",
              "    <tr>\n",
              "      <th>1</th>\n",
              "      <td>2539329</td>\n",
              "      <td>1</td>\n",
              "      <td>1</td>\n",
              "      <td>2</td>\n",
              "      <td>8</td>\n",
              "      <td>14084</td>\n",
              "      <td>2</td>\n",
              "    </tr>\n",
              "    <tr>\n",
              "      <th>2</th>\n",
              "      <td>2539329</td>\n",
              "      <td>1</td>\n",
              "      <td>1</td>\n",
              "      <td>2</td>\n",
              "      <td>8</td>\n",
              "      <td>12427</td>\n",
              "      <td>3</td>\n",
              "    </tr>\n",
              "    <tr>\n",
              "      <th>3</th>\n",
              "      <td>2539329</td>\n",
              "      <td>1</td>\n",
              "      <td>1</td>\n",
              "      <td>2</td>\n",
              "      <td>8</td>\n",
              "      <td>26088</td>\n",
              "      <td>4</td>\n",
              "    </tr>\n",
              "    <tr>\n",
              "      <th>4</th>\n",
              "      <td>2539329</td>\n",
              "      <td>1</td>\n",
              "      <td>1</td>\n",
              "      <td>2</td>\n",
              "      <td>8</td>\n",
              "      <td>26405</td>\n",
              "      <td>5</td>\n",
              "    </tr>\n",
              "    <tr>\n",
              "      <th>5</th>\n",
              "      <td>2398795</td>\n",
              "      <td>1</td>\n",
              "      <td>2</td>\n",
              "      <td>3</td>\n",
              "      <td>7</td>\n",
              "      <td>196</td>\n",
              "      <td>1</td>\n",
              "    </tr>\n",
              "    <tr>\n",
              "      <th>6</th>\n",
              "      <td>2398795</td>\n",
              "      <td>1</td>\n",
              "      <td>2</td>\n",
              "      <td>3</td>\n",
              "      <td>7</td>\n",
              "      <td>10258</td>\n",
              "      <td>2</td>\n",
              "    </tr>\n",
              "    <tr>\n",
              "      <th>7</th>\n",
              "      <td>2398795</td>\n",
              "      <td>1</td>\n",
              "      <td>2</td>\n",
              "      <td>3</td>\n",
              "      <td>7</td>\n",
              "      <td>12427</td>\n",
              "      <td>3</td>\n",
              "    </tr>\n",
              "    <tr>\n",
              "      <th>8</th>\n",
              "      <td>2398795</td>\n",
              "      <td>1</td>\n",
              "      <td>2</td>\n",
              "      <td>3</td>\n",
              "      <td>7</td>\n",
              "      <td>13176</td>\n",
              "      <td>4</td>\n",
              "    </tr>\n",
              "    <tr>\n",
              "      <th>9</th>\n",
              "      <td>2398795</td>\n",
              "      <td>1</td>\n",
              "      <td>2</td>\n",
              "      <td>3</td>\n",
              "      <td>7</td>\n",
              "      <td>26088</td>\n",
              "      <td>5</td>\n",
              "    </tr>\n",
              "    <tr>\n",
              "      <th>10</th>\n",
              "      <td>2398795</td>\n",
              "      <td>1</td>\n",
              "      <td>2</td>\n",
              "      <td>3</td>\n",
              "      <td>7</td>\n",
              "      <td>13032</td>\n",
              "      <td>6</td>\n",
              "    </tr>\n",
              "  </tbody>\n",
              "</table>\n",
              "</div>"
            ],
            "text/plain": [
              "    order_id  user_id  ...  product_id  add_to_cart_order\n",
              "0    2539329        1  ...         196                  1\n",
              "1    2539329        1  ...       14084                  2\n",
              "2    2539329        1  ...       12427                  3\n",
              "3    2539329        1  ...       26088                  4\n",
              "4    2539329        1  ...       26405                  5\n",
              "5    2398795        1  ...         196                  1\n",
              "6    2398795        1  ...       10258                  2\n",
              "7    2398795        1  ...       12427                  3\n",
              "8    2398795        1  ...       13176                  4\n",
              "9    2398795        1  ...       26088                  5\n",
              "10   2398795        1  ...       13032                  6\n",
              "\n",
              "[11 rows x 7 columns]"
            ]
          },
          "metadata": {
            "tags": []
          },
          "execution_count": 55
        }
      ]
    },
    {
      "cell_type": "markdown",
      "metadata": {
        "id": "gLDN1ueb8_pY",
        "colab_type": "text"
      },
      "source": [
        "Okay, we're looking pretty good, we're missing one more column `product_name` so we're going to need to merge one more time\n",
        "\n",
        "1) merge `orders_and_products` with `products`\n",
        "\n",
        "2) Use `product_id` as our identifier in both tables\n",
        "\n",
        "3) We need to slim down the `products` dataframe"
      ]
    },
    {
      "cell_type": "code",
      "metadata": {
        "id": "Hy0fJFKn8--C",
        "colab_type": "code",
        "colab": {
          "base_uri": "https://localhost:8080/",
          "height": 284
        },
        "outputId": "46f8e966-8457-41ec-f52d-6aaac24a8ec4"
      },
      "source": [
        "condition = products['product_id'].isin(orders_and_products['product_id'])\n",
        "\n",
        "products_subset = products[condition]\n",
        "\n",
        "products_subset"
      ],
      "execution_count": null,
      "outputs": [
        {
          "output_type": "execute_result",
          "data": {
            "text/html": [
              "<div>\n",
              "<style scoped>\n",
              "    .dataframe tbody tr th:only-of-type {\n",
              "        vertical-align: middle;\n",
              "    }\n",
              "\n",
              "    .dataframe tbody tr th {\n",
              "        vertical-align: top;\n",
              "    }\n",
              "\n",
              "    .dataframe thead th {\n",
              "        text-align: right;\n",
              "    }\n",
              "</style>\n",
              "<table border=\"1\" class=\"dataframe\">\n",
              "  <thead>\n",
              "    <tr style=\"text-align: right;\">\n",
              "      <th></th>\n",
              "      <th>product_id</th>\n",
              "      <th>product_name</th>\n",
              "      <th>aisle_id</th>\n",
              "      <th>department_id</th>\n",
              "    </tr>\n",
              "  </thead>\n",
              "  <tbody>\n",
              "    <tr>\n",
              "      <th>195</th>\n",
              "      <td>196</td>\n",
              "      <td>Soda</td>\n",
              "      <td>77</td>\n",
              "      <td>7</td>\n",
              "    </tr>\n",
              "    <tr>\n",
              "      <th>10257</th>\n",
              "      <td>10258</td>\n",
              "      <td>Pistachios</td>\n",
              "      <td>117</td>\n",
              "      <td>19</td>\n",
              "    </tr>\n",
              "    <tr>\n",
              "      <th>12426</th>\n",
              "      <td>12427</td>\n",
              "      <td>Original Beef Jerky</td>\n",
              "      <td>23</td>\n",
              "      <td>19</td>\n",
              "    </tr>\n",
              "    <tr>\n",
              "      <th>13031</th>\n",
              "      <td>13032</td>\n",
              "      <td>Cinnamon Toast Crunch</td>\n",
              "      <td>121</td>\n",
              "      <td>14</td>\n",
              "    </tr>\n",
              "    <tr>\n",
              "      <th>13175</th>\n",
              "      <td>13176</td>\n",
              "      <td>Bag of Organic Bananas</td>\n",
              "      <td>24</td>\n",
              "      <td>4</td>\n",
              "    </tr>\n",
              "    <tr>\n",
              "      <th>14083</th>\n",
              "      <td>14084</td>\n",
              "      <td>Organic Unsweetened Vanilla Almond Milk</td>\n",
              "      <td>91</td>\n",
              "      <td>16</td>\n",
              "    </tr>\n",
              "    <tr>\n",
              "      <th>26087</th>\n",
              "      <td>26088</td>\n",
              "      <td>Aged White Cheddar Popcorn</td>\n",
              "      <td>23</td>\n",
              "      <td>19</td>\n",
              "    </tr>\n",
              "    <tr>\n",
              "      <th>26404</th>\n",
              "      <td>26405</td>\n",
              "      <td>XL Pick-A-Size Paper Towel Rolls</td>\n",
              "      <td>54</td>\n",
              "      <td>17</td>\n",
              "    </tr>\n",
              "  </tbody>\n",
              "</table>\n",
              "</div>"
            ],
            "text/plain": [
              "       product_id  ... department_id\n",
              "195           196  ...             7\n",
              "10257       10258  ...            19\n",
              "12426       12427  ...            19\n",
              "13031       13032  ...            14\n",
              "13175       13176  ...             4\n",
              "14083       14084  ...            16\n",
              "26087       26088  ...            19\n",
              "26404       26405  ...            17\n",
              "\n",
              "[8 rows x 4 columns]"
            ]
          },
          "metadata": {
            "tags": []
          },
          "execution_count": 56
        }
      ]
    },
    {
      "cell_type": "code",
      "metadata": {
        "id": "7yz6FwtG9bhd",
        "colab_type": "code",
        "colab": {
          "base_uri": "https://localhost:8080/",
          "height": 284
        },
        "outputId": "7b112f84-4296-490a-ee14-d4b15002081c"
      },
      "source": [
        "products_subset = products_subset[['product_id', 'product_name']]\n",
        "\n",
        "products_subset"
      ],
      "execution_count": null,
      "outputs": [
        {
          "output_type": "execute_result",
          "data": {
            "text/html": [
              "<div>\n",
              "<style scoped>\n",
              "    .dataframe tbody tr th:only-of-type {\n",
              "        vertical-align: middle;\n",
              "    }\n",
              "\n",
              "    .dataframe tbody tr th {\n",
              "        vertical-align: top;\n",
              "    }\n",
              "\n",
              "    .dataframe thead th {\n",
              "        text-align: right;\n",
              "    }\n",
              "</style>\n",
              "<table border=\"1\" class=\"dataframe\">\n",
              "  <thead>\n",
              "    <tr style=\"text-align: right;\">\n",
              "      <th></th>\n",
              "      <th>product_id</th>\n",
              "      <th>product_name</th>\n",
              "    </tr>\n",
              "  </thead>\n",
              "  <tbody>\n",
              "    <tr>\n",
              "      <th>195</th>\n",
              "      <td>196</td>\n",
              "      <td>Soda</td>\n",
              "    </tr>\n",
              "    <tr>\n",
              "      <th>10257</th>\n",
              "      <td>10258</td>\n",
              "      <td>Pistachios</td>\n",
              "    </tr>\n",
              "    <tr>\n",
              "      <th>12426</th>\n",
              "      <td>12427</td>\n",
              "      <td>Original Beef Jerky</td>\n",
              "    </tr>\n",
              "    <tr>\n",
              "      <th>13031</th>\n",
              "      <td>13032</td>\n",
              "      <td>Cinnamon Toast Crunch</td>\n",
              "    </tr>\n",
              "    <tr>\n",
              "      <th>13175</th>\n",
              "      <td>13176</td>\n",
              "      <td>Bag of Organic Bananas</td>\n",
              "    </tr>\n",
              "    <tr>\n",
              "      <th>14083</th>\n",
              "      <td>14084</td>\n",
              "      <td>Organic Unsweetened Vanilla Almond Milk</td>\n",
              "    </tr>\n",
              "    <tr>\n",
              "      <th>26087</th>\n",
              "      <td>26088</td>\n",
              "      <td>Aged White Cheddar Popcorn</td>\n",
              "    </tr>\n",
              "    <tr>\n",
              "      <th>26404</th>\n",
              "      <td>26405</td>\n",
              "      <td>XL Pick-A-Size Paper Towel Rolls</td>\n",
              "    </tr>\n",
              "  </tbody>\n",
              "</table>\n",
              "</div>"
            ],
            "text/plain": [
              "       product_id                             product_name\n",
              "195           196                                     Soda\n",
              "10257       10258                               Pistachios\n",
              "12426       12427                      Original Beef Jerky\n",
              "13031       13032                    Cinnamon Toast Crunch\n",
              "13175       13176                   Bag of Organic Bananas\n",
              "14083       14084  Organic Unsweetened Vanilla Almond Milk\n",
              "26087       26088               Aged White Cheddar Popcorn\n",
              "26404       26405         XL Pick-A-Size Paper Towel Rolls"
            ]
          },
          "metadata": {
            "tags": []
          },
          "execution_count": 57
        }
      ]
    },
    {
      "cell_type": "code",
      "metadata": {
        "id": "xd_hwRyC9s1a",
        "colab_type": "code",
        "colab": {
          "base_uri": "https://localhost:8080/",
          "height": 373
        },
        "outputId": "365ce9ed-d013-44fe-85e1-3d61135b2ba6"
      },
      "source": [
        "final = pd.merge(products_subset, orders_and_products, on='product_id', how='inner')\n",
        "\n",
        "final"
      ],
      "execution_count": null,
      "outputs": [
        {
          "output_type": "execute_result",
          "data": {
            "text/html": [
              "<div>\n",
              "<style scoped>\n",
              "    .dataframe tbody tr th:only-of-type {\n",
              "        vertical-align: middle;\n",
              "    }\n",
              "\n",
              "    .dataframe tbody tr th {\n",
              "        vertical-align: top;\n",
              "    }\n",
              "\n",
              "    .dataframe thead th {\n",
              "        text-align: right;\n",
              "    }\n",
              "</style>\n",
              "<table border=\"1\" class=\"dataframe\">\n",
              "  <thead>\n",
              "    <tr style=\"text-align: right;\">\n",
              "      <th></th>\n",
              "      <th>product_id</th>\n",
              "      <th>product_name</th>\n",
              "      <th>order_id</th>\n",
              "      <th>user_id</th>\n",
              "      <th>order_number</th>\n",
              "      <th>order_dow</th>\n",
              "      <th>order_hour_of_day</th>\n",
              "      <th>add_to_cart_order</th>\n",
              "    </tr>\n",
              "  </thead>\n",
              "  <tbody>\n",
              "    <tr>\n",
              "      <th>0</th>\n",
              "      <td>196</td>\n",
              "      <td>Soda</td>\n",
              "      <td>2539329</td>\n",
              "      <td>1</td>\n",
              "      <td>1</td>\n",
              "      <td>2</td>\n",
              "      <td>8</td>\n",
              "      <td>1</td>\n",
              "    </tr>\n",
              "    <tr>\n",
              "      <th>1</th>\n",
              "      <td>196</td>\n",
              "      <td>Soda</td>\n",
              "      <td>2398795</td>\n",
              "      <td>1</td>\n",
              "      <td>2</td>\n",
              "      <td>3</td>\n",
              "      <td>7</td>\n",
              "      <td>1</td>\n",
              "    </tr>\n",
              "    <tr>\n",
              "      <th>2</th>\n",
              "      <td>10258</td>\n",
              "      <td>Pistachios</td>\n",
              "      <td>2398795</td>\n",
              "      <td>1</td>\n",
              "      <td>2</td>\n",
              "      <td>3</td>\n",
              "      <td>7</td>\n",
              "      <td>2</td>\n",
              "    </tr>\n",
              "    <tr>\n",
              "      <th>3</th>\n",
              "      <td>12427</td>\n",
              "      <td>Original Beef Jerky</td>\n",
              "      <td>2539329</td>\n",
              "      <td>1</td>\n",
              "      <td>1</td>\n",
              "      <td>2</td>\n",
              "      <td>8</td>\n",
              "      <td>3</td>\n",
              "    </tr>\n",
              "    <tr>\n",
              "      <th>4</th>\n",
              "      <td>12427</td>\n",
              "      <td>Original Beef Jerky</td>\n",
              "      <td>2398795</td>\n",
              "      <td>1</td>\n",
              "      <td>2</td>\n",
              "      <td>3</td>\n",
              "      <td>7</td>\n",
              "      <td>3</td>\n",
              "    </tr>\n",
              "    <tr>\n",
              "      <th>5</th>\n",
              "      <td>13032</td>\n",
              "      <td>Cinnamon Toast Crunch</td>\n",
              "      <td>2398795</td>\n",
              "      <td>1</td>\n",
              "      <td>2</td>\n",
              "      <td>3</td>\n",
              "      <td>7</td>\n",
              "      <td>6</td>\n",
              "    </tr>\n",
              "    <tr>\n",
              "      <th>6</th>\n",
              "      <td>13176</td>\n",
              "      <td>Bag of Organic Bananas</td>\n",
              "      <td>2398795</td>\n",
              "      <td>1</td>\n",
              "      <td>2</td>\n",
              "      <td>3</td>\n",
              "      <td>7</td>\n",
              "      <td>4</td>\n",
              "    </tr>\n",
              "    <tr>\n",
              "      <th>7</th>\n",
              "      <td>14084</td>\n",
              "      <td>Organic Unsweetened Vanilla Almond Milk</td>\n",
              "      <td>2539329</td>\n",
              "      <td>1</td>\n",
              "      <td>1</td>\n",
              "      <td>2</td>\n",
              "      <td>8</td>\n",
              "      <td>2</td>\n",
              "    </tr>\n",
              "    <tr>\n",
              "      <th>8</th>\n",
              "      <td>26088</td>\n",
              "      <td>Aged White Cheddar Popcorn</td>\n",
              "      <td>2539329</td>\n",
              "      <td>1</td>\n",
              "      <td>1</td>\n",
              "      <td>2</td>\n",
              "      <td>8</td>\n",
              "      <td>4</td>\n",
              "    </tr>\n",
              "    <tr>\n",
              "      <th>9</th>\n",
              "      <td>26088</td>\n",
              "      <td>Aged White Cheddar Popcorn</td>\n",
              "      <td>2398795</td>\n",
              "      <td>1</td>\n",
              "      <td>2</td>\n",
              "      <td>3</td>\n",
              "      <td>7</td>\n",
              "      <td>5</td>\n",
              "    </tr>\n",
              "    <tr>\n",
              "      <th>10</th>\n",
              "      <td>26405</td>\n",
              "      <td>XL Pick-A-Size Paper Towel Rolls</td>\n",
              "      <td>2539329</td>\n",
              "      <td>1</td>\n",
              "      <td>1</td>\n",
              "      <td>2</td>\n",
              "      <td>8</td>\n",
              "      <td>5</td>\n",
              "    </tr>\n",
              "  </tbody>\n",
              "</table>\n",
              "</div>"
            ],
            "text/plain": [
              "    product_id  ... add_to_cart_order\n",
              "0          196  ...                 1\n",
              "1          196  ...                 1\n",
              "2        10258  ...                 2\n",
              "3        12427  ...                 3\n",
              "4        12427  ...                 3\n",
              "5        13032  ...                 6\n",
              "6        13176  ...                 4\n",
              "7        14084  ...                 2\n",
              "8        26088  ...                 4\n",
              "9        26088  ...                 5\n",
              "10       26405  ...                 5\n",
              "\n",
              "[11 rows x 8 columns]"
            ]
          },
          "metadata": {
            "tags": []
          },
          "execution_count": 58
        }
      ]
    },
    {
      "cell_type": "markdown",
      "metadata": {
        "id": "75lbOTf3-csq",
        "colab_type": "text"
      },
      "source": [
        "### Some nitpicky cleanup:"
      ]
    },
    {
      "cell_type": "code",
      "metadata": {
        "id": "_dL8nGeN-eiH",
        "colab_type": "code",
        "colab": {
          "base_uri": "https://localhost:8080/",
          "height": 373
        },
        "outputId": "c4011de3-e2b2-4855-ebb0-050e1d8d4a16"
      },
      "source": [
        "# sort rows\n",
        "final = final.sort_values(by=['order_number', 'add_to_cart_order'])\n",
        "\n",
        "final"
      ],
      "execution_count": null,
      "outputs": [
        {
          "output_type": "execute_result",
          "data": {
            "text/html": [
              "<div>\n",
              "<style scoped>\n",
              "    .dataframe tbody tr th:only-of-type {\n",
              "        vertical-align: middle;\n",
              "    }\n",
              "\n",
              "    .dataframe tbody tr th {\n",
              "        vertical-align: top;\n",
              "    }\n",
              "\n",
              "    .dataframe thead th {\n",
              "        text-align: right;\n",
              "    }\n",
              "</style>\n",
              "<table border=\"1\" class=\"dataframe\">\n",
              "  <thead>\n",
              "    <tr style=\"text-align: right;\">\n",
              "      <th></th>\n",
              "      <th>product_id</th>\n",
              "      <th>product_name</th>\n",
              "      <th>order_id</th>\n",
              "      <th>user_id</th>\n",
              "      <th>order_number</th>\n",
              "      <th>order_dow</th>\n",
              "      <th>order_hour_of_day</th>\n",
              "      <th>add_to_cart_order</th>\n",
              "    </tr>\n",
              "  </thead>\n",
              "  <tbody>\n",
              "    <tr>\n",
              "      <th>0</th>\n",
              "      <td>196</td>\n",
              "      <td>Soda</td>\n",
              "      <td>2539329</td>\n",
              "      <td>1</td>\n",
              "      <td>1</td>\n",
              "      <td>2</td>\n",
              "      <td>8</td>\n",
              "      <td>1</td>\n",
              "    </tr>\n",
              "    <tr>\n",
              "      <th>7</th>\n",
              "      <td>14084</td>\n",
              "      <td>Organic Unsweetened Vanilla Almond Milk</td>\n",
              "      <td>2539329</td>\n",
              "      <td>1</td>\n",
              "      <td>1</td>\n",
              "      <td>2</td>\n",
              "      <td>8</td>\n",
              "      <td>2</td>\n",
              "    </tr>\n",
              "    <tr>\n",
              "      <th>3</th>\n",
              "      <td>12427</td>\n",
              "      <td>Original Beef Jerky</td>\n",
              "      <td>2539329</td>\n",
              "      <td>1</td>\n",
              "      <td>1</td>\n",
              "      <td>2</td>\n",
              "      <td>8</td>\n",
              "      <td>3</td>\n",
              "    </tr>\n",
              "    <tr>\n",
              "      <th>8</th>\n",
              "      <td>26088</td>\n",
              "      <td>Aged White Cheddar Popcorn</td>\n",
              "      <td>2539329</td>\n",
              "      <td>1</td>\n",
              "      <td>1</td>\n",
              "      <td>2</td>\n",
              "      <td>8</td>\n",
              "      <td>4</td>\n",
              "    </tr>\n",
              "    <tr>\n",
              "      <th>10</th>\n",
              "      <td>26405</td>\n",
              "      <td>XL Pick-A-Size Paper Towel Rolls</td>\n",
              "      <td>2539329</td>\n",
              "      <td>1</td>\n",
              "      <td>1</td>\n",
              "      <td>2</td>\n",
              "      <td>8</td>\n",
              "      <td>5</td>\n",
              "    </tr>\n",
              "    <tr>\n",
              "      <th>1</th>\n",
              "      <td>196</td>\n",
              "      <td>Soda</td>\n",
              "      <td>2398795</td>\n",
              "      <td>1</td>\n",
              "      <td>2</td>\n",
              "      <td>3</td>\n",
              "      <td>7</td>\n",
              "      <td>1</td>\n",
              "    </tr>\n",
              "    <tr>\n",
              "      <th>2</th>\n",
              "      <td>10258</td>\n",
              "      <td>Pistachios</td>\n",
              "      <td>2398795</td>\n",
              "      <td>1</td>\n",
              "      <td>2</td>\n",
              "      <td>3</td>\n",
              "      <td>7</td>\n",
              "      <td>2</td>\n",
              "    </tr>\n",
              "    <tr>\n",
              "      <th>4</th>\n",
              "      <td>12427</td>\n",
              "      <td>Original Beef Jerky</td>\n",
              "      <td>2398795</td>\n",
              "      <td>1</td>\n",
              "      <td>2</td>\n",
              "      <td>3</td>\n",
              "      <td>7</td>\n",
              "      <td>3</td>\n",
              "    </tr>\n",
              "    <tr>\n",
              "      <th>6</th>\n",
              "      <td>13176</td>\n",
              "      <td>Bag of Organic Bananas</td>\n",
              "      <td>2398795</td>\n",
              "      <td>1</td>\n",
              "      <td>2</td>\n",
              "      <td>3</td>\n",
              "      <td>7</td>\n",
              "      <td>4</td>\n",
              "    </tr>\n",
              "    <tr>\n",
              "      <th>9</th>\n",
              "      <td>26088</td>\n",
              "      <td>Aged White Cheddar Popcorn</td>\n",
              "      <td>2398795</td>\n",
              "      <td>1</td>\n",
              "      <td>2</td>\n",
              "      <td>3</td>\n",
              "      <td>7</td>\n",
              "      <td>5</td>\n",
              "    </tr>\n",
              "    <tr>\n",
              "      <th>5</th>\n",
              "      <td>13032</td>\n",
              "      <td>Cinnamon Toast Crunch</td>\n",
              "      <td>2398795</td>\n",
              "      <td>1</td>\n",
              "      <td>2</td>\n",
              "      <td>3</td>\n",
              "      <td>7</td>\n",
              "      <td>6</td>\n",
              "    </tr>\n",
              "  </tbody>\n",
              "</table>\n",
              "</div>"
            ],
            "text/plain": [
              "    product_id  ... add_to_cart_order\n",
              "0          196  ...                 1\n",
              "7        14084  ...                 2\n",
              "3        12427  ...                 3\n",
              "8        26088  ...                 4\n",
              "10       26405  ...                 5\n",
              "1          196  ...                 1\n",
              "2        10258  ...                 2\n",
              "4        12427  ...                 3\n",
              "6        13176  ...                 4\n",
              "9        26088  ...                 5\n",
              "5        13032  ...                 6\n",
              "\n",
              "[11 rows x 8 columns]"
            ]
          },
          "metadata": {
            "tags": []
          },
          "execution_count": 59
        }
      ]
    },
    {
      "cell_type": "code",
      "metadata": {
        "id": "2NODYWri_CYp",
        "colab_type": "code",
        "colab": {
          "base_uri": "https://localhost:8080/",
          "height": 373
        },
        "outputId": "f6b60419-9f6d-4986-a640-2708d66085da"
      },
      "source": [
        "# reorder columns\n",
        "final = final[['user_id', 'order_id', 'order_number','order_dow', 'order_hour_of_day', 'add_to_cart_order', 'product_id', 'product_name']]\n",
        "\n",
        "final"
      ],
      "execution_count": null,
      "outputs": [
        {
          "output_type": "execute_result",
          "data": {
            "text/html": [
              "<div>\n",
              "<style scoped>\n",
              "    .dataframe tbody tr th:only-of-type {\n",
              "        vertical-align: middle;\n",
              "    }\n",
              "\n",
              "    .dataframe tbody tr th {\n",
              "        vertical-align: top;\n",
              "    }\n",
              "\n",
              "    .dataframe thead th {\n",
              "        text-align: right;\n",
              "    }\n",
              "</style>\n",
              "<table border=\"1\" class=\"dataframe\">\n",
              "  <thead>\n",
              "    <tr style=\"text-align: right;\">\n",
              "      <th></th>\n",
              "      <th>user_id</th>\n",
              "      <th>order_id</th>\n",
              "      <th>order_number</th>\n",
              "      <th>order_dow</th>\n",
              "      <th>order_hour_of_day</th>\n",
              "      <th>add_to_cart_order</th>\n",
              "      <th>product_id</th>\n",
              "      <th>product_name</th>\n",
              "    </tr>\n",
              "  </thead>\n",
              "  <tbody>\n",
              "    <tr>\n",
              "      <th>0</th>\n",
              "      <td>1</td>\n",
              "      <td>2539329</td>\n",
              "      <td>1</td>\n",
              "      <td>2</td>\n",
              "      <td>8</td>\n",
              "      <td>1</td>\n",
              "      <td>196</td>\n",
              "      <td>Soda</td>\n",
              "    </tr>\n",
              "    <tr>\n",
              "      <th>7</th>\n",
              "      <td>1</td>\n",
              "      <td>2539329</td>\n",
              "      <td>1</td>\n",
              "      <td>2</td>\n",
              "      <td>8</td>\n",
              "      <td>2</td>\n",
              "      <td>14084</td>\n",
              "      <td>Organic Unsweetened Vanilla Almond Milk</td>\n",
              "    </tr>\n",
              "    <tr>\n",
              "      <th>3</th>\n",
              "      <td>1</td>\n",
              "      <td>2539329</td>\n",
              "      <td>1</td>\n",
              "      <td>2</td>\n",
              "      <td>8</td>\n",
              "      <td>3</td>\n",
              "      <td>12427</td>\n",
              "      <td>Original Beef Jerky</td>\n",
              "    </tr>\n",
              "    <tr>\n",
              "      <th>8</th>\n",
              "      <td>1</td>\n",
              "      <td>2539329</td>\n",
              "      <td>1</td>\n",
              "      <td>2</td>\n",
              "      <td>8</td>\n",
              "      <td>4</td>\n",
              "      <td>26088</td>\n",
              "      <td>Aged White Cheddar Popcorn</td>\n",
              "    </tr>\n",
              "    <tr>\n",
              "      <th>10</th>\n",
              "      <td>1</td>\n",
              "      <td>2539329</td>\n",
              "      <td>1</td>\n",
              "      <td>2</td>\n",
              "      <td>8</td>\n",
              "      <td>5</td>\n",
              "      <td>26405</td>\n",
              "      <td>XL Pick-A-Size Paper Towel Rolls</td>\n",
              "    </tr>\n",
              "    <tr>\n",
              "      <th>1</th>\n",
              "      <td>1</td>\n",
              "      <td>2398795</td>\n",
              "      <td>2</td>\n",
              "      <td>3</td>\n",
              "      <td>7</td>\n",
              "      <td>1</td>\n",
              "      <td>196</td>\n",
              "      <td>Soda</td>\n",
              "    </tr>\n",
              "    <tr>\n",
              "      <th>2</th>\n",
              "      <td>1</td>\n",
              "      <td>2398795</td>\n",
              "      <td>2</td>\n",
              "      <td>3</td>\n",
              "      <td>7</td>\n",
              "      <td>2</td>\n",
              "      <td>10258</td>\n",
              "      <td>Pistachios</td>\n",
              "    </tr>\n",
              "    <tr>\n",
              "      <th>4</th>\n",
              "      <td>1</td>\n",
              "      <td>2398795</td>\n",
              "      <td>2</td>\n",
              "      <td>3</td>\n",
              "      <td>7</td>\n",
              "      <td>3</td>\n",
              "      <td>12427</td>\n",
              "      <td>Original Beef Jerky</td>\n",
              "    </tr>\n",
              "    <tr>\n",
              "      <th>6</th>\n",
              "      <td>1</td>\n",
              "      <td>2398795</td>\n",
              "      <td>2</td>\n",
              "      <td>3</td>\n",
              "      <td>7</td>\n",
              "      <td>4</td>\n",
              "      <td>13176</td>\n",
              "      <td>Bag of Organic Bananas</td>\n",
              "    </tr>\n",
              "    <tr>\n",
              "      <th>9</th>\n",
              "      <td>1</td>\n",
              "      <td>2398795</td>\n",
              "      <td>2</td>\n",
              "      <td>3</td>\n",
              "      <td>7</td>\n",
              "      <td>5</td>\n",
              "      <td>26088</td>\n",
              "      <td>Aged White Cheddar Popcorn</td>\n",
              "    </tr>\n",
              "    <tr>\n",
              "      <th>5</th>\n",
              "      <td>1</td>\n",
              "      <td>2398795</td>\n",
              "      <td>2</td>\n",
              "      <td>3</td>\n",
              "      <td>7</td>\n",
              "      <td>6</td>\n",
              "      <td>13032</td>\n",
              "      <td>Cinnamon Toast Crunch</td>\n",
              "    </tr>\n",
              "  </tbody>\n",
              "</table>\n",
              "</div>"
            ],
            "text/plain": [
              "    user_id  order_id  ...  product_id                             product_name\n",
              "0         1   2539329  ...         196                                     Soda\n",
              "7         1   2539329  ...       14084  Organic Unsweetened Vanilla Almond Milk\n",
              "3         1   2539329  ...       12427                      Original Beef Jerky\n",
              "8         1   2539329  ...       26088               Aged White Cheddar Popcorn\n",
              "10        1   2539329  ...       26405         XL Pick-A-Size Paper Towel Rolls\n",
              "1         1   2398795  ...         196                                     Soda\n",
              "2         1   2398795  ...       10258                               Pistachios\n",
              "4         1   2398795  ...       12427                      Original Beef Jerky\n",
              "6         1   2398795  ...       13176                   Bag of Organic Bananas\n",
              "9         1   2398795  ...       26088               Aged White Cheddar Popcorn\n",
              "5         1   2398795  ...       13032                    Cinnamon Toast Crunch\n",
              "\n",
              "[11 rows x 8 columns]"
            ]
          },
          "metadata": {
            "tags": []
          },
          "execution_count": 61
        }
      ]
    },
    {
      "cell_type": "code",
      "metadata": {
        "id": "RSdatcjM-r2B",
        "colab_type": "code",
        "colab": {
          "base_uri": "https://localhost:8080/",
          "height": 373
        },
        "outputId": "4b71c667-b662-4e0b-d3d8-a756bd143af0"
      },
      "source": [
        "# remove underscores from column headers\n",
        "final.columns = [column.replace('_', ' ') for column in final]\n",
        "\n",
        "final"
      ],
      "execution_count": null,
      "outputs": [
        {
          "output_type": "execute_result",
          "data": {
            "text/html": [
              "<div>\n",
              "<style scoped>\n",
              "    .dataframe tbody tr th:only-of-type {\n",
              "        vertical-align: middle;\n",
              "    }\n",
              "\n",
              "    .dataframe tbody tr th {\n",
              "        vertical-align: top;\n",
              "    }\n",
              "\n",
              "    .dataframe thead th {\n",
              "        text-align: right;\n",
              "    }\n",
              "</style>\n",
              "<table border=\"1\" class=\"dataframe\">\n",
              "  <thead>\n",
              "    <tr style=\"text-align: right;\">\n",
              "      <th></th>\n",
              "      <th>user id</th>\n",
              "      <th>order id</th>\n",
              "      <th>order number</th>\n",
              "      <th>order dow</th>\n",
              "      <th>order hour of day</th>\n",
              "      <th>add to cart order</th>\n",
              "      <th>product id</th>\n",
              "      <th>product name</th>\n",
              "    </tr>\n",
              "  </thead>\n",
              "  <tbody>\n",
              "    <tr>\n",
              "      <th>0</th>\n",
              "      <td>1</td>\n",
              "      <td>2539329</td>\n",
              "      <td>1</td>\n",
              "      <td>2</td>\n",
              "      <td>8</td>\n",
              "      <td>1</td>\n",
              "      <td>196</td>\n",
              "      <td>Soda</td>\n",
              "    </tr>\n",
              "    <tr>\n",
              "      <th>7</th>\n",
              "      <td>1</td>\n",
              "      <td>2539329</td>\n",
              "      <td>1</td>\n",
              "      <td>2</td>\n",
              "      <td>8</td>\n",
              "      <td>2</td>\n",
              "      <td>14084</td>\n",
              "      <td>Organic Unsweetened Vanilla Almond Milk</td>\n",
              "    </tr>\n",
              "    <tr>\n",
              "      <th>3</th>\n",
              "      <td>1</td>\n",
              "      <td>2539329</td>\n",
              "      <td>1</td>\n",
              "      <td>2</td>\n",
              "      <td>8</td>\n",
              "      <td>3</td>\n",
              "      <td>12427</td>\n",
              "      <td>Original Beef Jerky</td>\n",
              "    </tr>\n",
              "    <tr>\n",
              "      <th>8</th>\n",
              "      <td>1</td>\n",
              "      <td>2539329</td>\n",
              "      <td>1</td>\n",
              "      <td>2</td>\n",
              "      <td>8</td>\n",
              "      <td>4</td>\n",
              "      <td>26088</td>\n",
              "      <td>Aged White Cheddar Popcorn</td>\n",
              "    </tr>\n",
              "    <tr>\n",
              "      <th>10</th>\n",
              "      <td>1</td>\n",
              "      <td>2539329</td>\n",
              "      <td>1</td>\n",
              "      <td>2</td>\n",
              "      <td>8</td>\n",
              "      <td>5</td>\n",
              "      <td>26405</td>\n",
              "      <td>XL Pick-A-Size Paper Towel Rolls</td>\n",
              "    </tr>\n",
              "    <tr>\n",
              "      <th>1</th>\n",
              "      <td>1</td>\n",
              "      <td>2398795</td>\n",
              "      <td>2</td>\n",
              "      <td>3</td>\n",
              "      <td>7</td>\n",
              "      <td>1</td>\n",
              "      <td>196</td>\n",
              "      <td>Soda</td>\n",
              "    </tr>\n",
              "    <tr>\n",
              "      <th>2</th>\n",
              "      <td>1</td>\n",
              "      <td>2398795</td>\n",
              "      <td>2</td>\n",
              "      <td>3</td>\n",
              "      <td>7</td>\n",
              "      <td>2</td>\n",
              "      <td>10258</td>\n",
              "      <td>Pistachios</td>\n",
              "    </tr>\n",
              "    <tr>\n",
              "      <th>4</th>\n",
              "      <td>1</td>\n",
              "      <td>2398795</td>\n",
              "      <td>2</td>\n",
              "      <td>3</td>\n",
              "      <td>7</td>\n",
              "      <td>3</td>\n",
              "      <td>12427</td>\n",
              "      <td>Original Beef Jerky</td>\n",
              "    </tr>\n",
              "    <tr>\n",
              "      <th>6</th>\n",
              "      <td>1</td>\n",
              "      <td>2398795</td>\n",
              "      <td>2</td>\n",
              "      <td>3</td>\n",
              "      <td>7</td>\n",
              "      <td>4</td>\n",
              "      <td>13176</td>\n",
              "      <td>Bag of Organic Bananas</td>\n",
              "    </tr>\n",
              "    <tr>\n",
              "      <th>9</th>\n",
              "      <td>1</td>\n",
              "      <td>2398795</td>\n",
              "      <td>2</td>\n",
              "      <td>3</td>\n",
              "      <td>7</td>\n",
              "      <td>5</td>\n",
              "      <td>26088</td>\n",
              "      <td>Aged White Cheddar Popcorn</td>\n",
              "    </tr>\n",
              "    <tr>\n",
              "      <th>5</th>\n",
              "      <td>1</td>\n",
              "      <td>2398795</td>\n",
              "      <td>2</td>\n",
              "      <td>3</td>\n",
              "      <td>7</td>\n",
              "      <td>6</td>\n",
              "      <td>13032</td>\n",
              "      <td>Cinnamon Toast Crunch</td>\n",
              "    </tr>\n",
              "  </tbody>\n",
              "</table>\n",
              "</div>"
            ],
            "text/plain": [
              "    user id  order id  ...  product id                             product name\n",
              "0         1   2539329  ...         196                                     Soda\n",
              "7         1   2539329  ...       14084  Organic Unsweetened Vanilla Almond Milk\n",
              "3         1   2539329  ...       12427                      Original Beef Jerky\n",
              "8         1   2539329  ...       26088               Aged White Cheddar Popcorn\n",
              "10        1   2539329  ...       26405         XL Pick-A-Size Paper Towel Rolls\n",
              "1         1   2398795  ...         196                                     Soda\n",
              "2         1   2398795  ...       10258                               Pistachios\n",
              "4         1   2398795  ...       12427                      Original Beef Jerky\n",
              "6         1   2398795  ...       13176                   Bag of Organic Bananas\n",
              "9         1   2398795  ...       26088               Aged White Cheddar Popcorn\n",
              "5         1   2398795  ...       13032                    Cinnamon Toast Crunch\n",
              "\n",
              "[11 rows x 8 columns]"
            ]
          },
          "metadata": {
            "tags": []
          },
          "execution_count": 62
        }
      ]
    },
    {
      "cell_type": "code",
      "metadata": {
        "id": "a0blpL6O-99U",
        "colab_type": "code",
        "colab": {
          "base_uri": "https://localhost:8080/",
          "height": 313
        },
        "outputId": "87a1f297-a0f1-44c3-cb60-ca9579e6b494"
      },
      "source": [
        "display(example)"
      ],
      "execution_count": null,
      "outputs": [
        {
          "output_type": "display_data",
          "data": {
            "text/html": [
              "<img src=\"https://cdn-images-1.medium.com/max/1600/1*vYGFQCafJtGBBX5mbl0xyw.png\" width=\"600\"/>"
            ],
            "text/plain": [
              "<IPython.core.display.Image object>"
            ]
          },
          "metadata": {
            "tags": []
          }
        }
      ]
    },
    {
      "cell_type": "code",
      "metadata": {
        "id": "C0Ef9IZbeznG",
        "colab_type": "code",
        "colab": {
          "base_uri": "https://localhost:8080/",
          "height": 34
        },
        "outputId": "fa8f4b2d-06e3-4d4c-b7d9-90407744cf91"
      },
      "source": [
        "# bitwise doesn't work for single values \n",
        "# only \"series\" objects aka numpy arrays or df columns\n",
        "import numpy as np\n",
        "\n",
        "ryan_likes_blue = True\n",
        "ryan_age = 28\n",
        "\n",
        "if np.array([ryan_age == 30]) | np.array([ryan_likes_blue == True]):\n",
        "  print('this should print')"
      ],
      "execution_count": null,
      "outputs": [
        {
          "output_type": "stream",
          "text": [
            "this should print\n"
          ],
          "name": "stdout"
        }
      ]
    },
    {
      "cell_type": "code",
      "metadata": {
        "id": "l-2Q8K5xfn4u",
        "colab_type": "code",
        "colab": {
          "base_uri": "https://localhost:8080/",
          "height": 134
        },
        "outputId": "8c265a18-4702-4edc-db8a-e4b93a9311f7"
      },
      "source": [
        "# final['add to cart order'].value_counts() >= 2"
      ],
      "execution_count": null,
      "outputs": [
        {
          "output_type": "execute_result",
          "data": {
            "text/plain": [
              "5     True\n",
              "4     True\n",
              "3     True\n",
              "2     True\n",
              "1     True\n",
              "6    False\n",
              "Name: add to cart order, dtype: bool"
            ]
          },
          "metadata": {
            "tags": []
          },
          "execution_count": 74
        }
      ]
    },
    {
      "cell_type": "markdown",
      "metadata": {
        "id": "sNS2FhVW1NxV",
        "colab_type": "text"
      },
      "source": [
        "## Challenge\n",
        "\n",
        "Review this Chis Albon documentation about [concatenating dataframes by row and by column](https://chrisalbon.com/python/data_wrangling/pandas_join_merge_dataframe/) and then be ready to master this function and practice using different `how` parameters on your assignment."
      ]
    },
    {
      "cell_type": "markdown",
      "metadata": {
        "id": "xTz5WPngz5BA",
        "colab_type": "text"
      },
      "source": [
        "# [Objective](#tidy) Learn Tidy Data Format"
      ]
    },
    {
      "cell_type": "markdown",
      "metadata": {
        "id": "rUL61OCE06Dd",
        "colab_type": "text"
      },
      "source": [
        "## Overview\n",
        "\n",
        "### Why reshape data?\n",
        "\n",
        "#### Some libraries prefer data in different formats\n",
        "\n",
        "For example, the Seaborn data visualization library prefers data in \"Tidy\" format often (but not always).\n",
        "\n",
        "> \"[Seaborn will be most powerful when your datasets have a particular organization.](https://seaborn.pydata.org/introduction.html#organizing-datasets) This format ia alternately called “long-form” or “tidy” data and is described in detail by Hadley Wickham. The rules can be simply stated:\n",
        "\n",
        "> - Each variable is a column\n",
        "- Each observation is a row\n",
        "\n",
        "> A helpful mindset for determining whether your data are tidy is to think backwards from the plot you want to draw. From this perspective, a “variable” is something that will be assigned a role in the plot.\"\n",
        "\n",
        "#### Data science is often about putting square pegs in round holes\n",
        "\n",
        "Here's an inspiring [video clip from _Apollo 13_](https://www.youtube.com/watch?v=ry55--J4_VQ): “Invent a way to put a square peg in a round hole.” It's a good metaphor for data wrangling!"
      ]
    },
    {
      "cell_type": "markdown",
      "metadata": {
        "id": "NoUBeGKlAcCh",
        "colab_type": "text"
      },
      "source": [
        "### Hadley Wickham's Examples\n",
        "\n",
        "From his paper, [Tidy Data](http://vita.had.co.nz/papers/tidy-data.html)"
      ]
    },
    {
      "cell_type": "code",
      "metadata": {
        "id": "S_b6SOZz091T",
        "colab_type": "code",
        "colab": {}
      },
      "source": [
        "%matplotlib inline\n",
        "import pandas as pd\n",
        "import numpy as np\n",
        "import seaborn as sns\n",
        "\n",
        "table1 = pd.DataFrame(\n",
        "    [[np.nan, 2],\n",
        "     [16,    11], \n",
        "     [3,      1]],\n",
        "    index=['John Smith', 'Jane Doe', 'Mary Johnson'], \n",
        "    columns=['treatmenta', 'treatmentb'])"
      ],
      "execution_count": null,
      "outputs": []
    },
    {
      "cell_type": "markdown",
      "metadata": {
        "id": "gjEInTFNA54j",
        "colab_type": "text"
      },
      "source": [
        "\"Table 1 provides some data about an imaginary experiment in a format commonly seen in the wild. \n",
        "\n",
        "The table has two columns and three rows, and both rows and columns are labelled.\""
      ]
    },
    {
      "cell_type": "code",
      "metadata": {
        "id": "fzoZDHtAA30k",
        "colab_type": "code",
        "colab": {
          "base_uri": "https://localhost:8080/",
          "height": 136
        },
        "outputId": "d992dc9c-7f54-44b4-8d4c-5afc1a3c5529"
      },
      "source": [
        "table1"
      ],
      "execution_count": null,
      "outputs": [
        {
          "output_type": "execute_result",
          "data": {
            "text/html": [
              "<div>\n",
              "<style scoped>\n",
              "    .dataframe tbody tr th:only-of-type {\n",
              "        vertical-align: middle;\n",
              "    }\n",
              "\n",
              "    .dataframe tbody tr th {\n",
              "        vertical-align: top;\n",
              "    }\n",
              "\n",
              "    .dataframe thead th {\n",
              "        text-align: right;\n",
              "    }\n",
              "</style>\n",
              "<table border=\"1\" class=\"dataframe\">\n",
              "  <thead>\n",
              "    <tr style=\"text-align: right;\">\n",
              "      <th></th>\n",
              "      <th>treatmenta</th>\n",
              "      <th>treatmentb</th>\n",
              "    </tr>\n",
              "  </thead>\n",
              "  <tbody>\n",
              "    <tr>\n",
              "      <th>John Smith</th>\n",
              "      <td>NaN</td>\n",
              "      <td>2</td>\n",
              "    </tr>\n",
              "    <tr>\n",
              "      <th>Jane Doe</th>\n",
              "      <td>16.0</td>\n",
              "      <td>11</td>\n",
              "    </tr>\n",
              "    <tr>\n",
              "      <th>Mary Johnson</th>\n",
              "      <td>3.0</td>\n",
              "      <td>1</td>\n",
              "    </tr>\n",
              "  </tbody>\n",
              "</table>\n",
              "</div>"
            ],
            "text/plain": [
              "              treatmenta  treatmentb\n",
              "John Smith           NaN           2\n",
              "Jane Doe            16.0          11\n",
              "Mary Johnson         3.0           1"
            ]
          },
          "metadata": {
            "tags": []
          },
          "execution_count": 88
        }
      ]
    },
    {
      "cell_type": "markdown",
      "metadata": {
        "id": "Q7lDPNIwA9t5",
        "colab_type": "text"
      },
      "source": [
        "\"There are many ways to structure the same underlying data. \n",
        "\n",
        "Table 2 shows the same data as Table 1, but the rows and columns have been transposed. The data is the same, but the layout is different.\""
      ]
    },
    {
      "cell_type": "code",
      "metadata": {
        "id": "kQTFbHJWA_X2",
        "colab_type": "code",
        "colab": {
          "base_uri": "https://localhost:8080/",
          "height": 106
        },
        "outputId": "57c50d73-869d-4ce2-e8b7-e055948b3e4c"
      },
      "source": [
        "table2 = table1.T\n",
        "table2"
      ],
      "execution_count": null,
      "outputs": [
        {
          "output_type": "execute_result",
          "data": {
            "text/html": [
              "<div>\n",
              "<style scoped>\n",
              "    .dataframe tbody tr th:only-of-type {\n",
              "        vertical-align: middle;\n",
              "    }\n",
              "\n",
              "    .dataframe tbody tr th {\n",
              "        vertical-align: top;\n",
              "    }\n",
              "\n",
              "    .dataframe thead th {\n",
              "        text-align: right;\n",
              "    }\n",
              "</style>\n",
              "<table border=\"1\" class=\"dataframe\">\n",
              "  <thead>\n",
              "    <tr style=\"text-align: right;\">\n",
              "      <th></th>\n",
              "      <th>John Smith</th>\n",
              "      <th>Jane Doe</th>\n",
              "      <th>Mary Johnson</th>\n",
              "    </tr>\n",
              "  </thead>\n",
              "  <tbody>\n",
              "    <tr>\n",
              "      <th>treatmenta</th>\n",
              "      <td>NaN</td>\n",
              "      <td>16.0</td>\n",
              "      <td>3.0</td>\n",
              "    </tr>\n",
              "    <tr>\n",
              "      <th>treatmentb</th>\n",
              "      <td>2.0</td>\n",
              "      <td>11.0</td>\n",
              "      <td>1.0</td>\n",
              "    </tr>\n",
              "  </tbody>\n",
              "</table>\n",
              "</div>"
            ],
            "text/plain": [
              "            John Smith  Jane Doe  Mary Johnson\n",
              "treatmenta         NaN      16.0           3.0\n",
              "treatmentb         2.0      11.0           1.0"
            ]
          },
          "metadata": {
            "tags": []
          },
          "execution_count": 89
        }
      ]
    },
    {
      "cell_type": "markdown",
      "metadata": {
        "id": "OfCVyRL3BI5h",
        "colab_type": "text"
      },
      "source": [
        "\"Table 3 reorganises Table 1 to make the values, variables and obserations more clear.\n",
        "\n",
        "Table 3 is the tidy version of Table 1. Each row represents an observation, the result of one treatment on one person, and each column is a variable.\"\n",
        "\n",
        "| name         | trt | result |\n",
        "|--------------|-----|--------|\n",
        "| John Smith   | a   | -      |\n",
        "| Jane Doe     | a   | 16     |\n",
        "| Mary Johnson | a   | 3      |\n",
        "| John Smith   | b   | 2      |\n",
        "| Jane Doe     | b   | 11     |\n",
        "| Mary Johnson | b   | 1      |"
      ]
    },
    {
      "cell_type": "markdown",
      "metadata": {
        "id": "_bZaQTSfBp4s",
        "colab_type": "text"
      },
      "source": [
        "## Follow Along"
      ]
    },
    {
      "cell_type": "markdown",
      "metadata": {
        "id": "9s42XuCqBN86",
        "colab_type": "text"
      },
      "source": [
        "### Table 1 --> Tidy\n",
        "\n",
        "We can use the pandas `melt` function to reshape Table 1 into Tidy format."
      ]
    },
    {
      "cell_type": "code",
      "metadata": {
        "id": "91Pw2zgkBHlg",
        "colab_type": "code",
        "colab": {}
      },
      "source": [
        "# Take the row index, and add it as a new column\n",
        "table1 = table1.reset_index()"
      ],
      "execution_count": null,
      "outputs": []
    },
    {
      "cell_type": "code",
      "metadata": {
        "id": "LJabBSq0h3wx",
        "colab_type": "code",
        "colab": {
          "base_uri": "https://localhost:8080/",
          "height": 136
        },
        "outputId": "4368a16f-6c46-4894-fab5-ff8bd76d9444"
      },
      "source": [
        "table1"
      ],
      "execution_count": null,
      "outputs": [
        {
          "output_type": "execute_result",
          "data": {
            "text/html": [
              "<div>\n",
              "<style scoped>\n",
              "    .dataframe tbody tr th:only-of-type {\n",
              "        vertical-align: middle;\n",
              "    }\n",
              "\n",
              "    .dataframe tbody tr th {\n",
              "        vertical-align: top;\n",
              "    }\n",
              "\n",
              "    .dataframe thead th {\n",
              "        text-align: right;\n",
              "    }\n",
              "</style>\n",
              "<table border=\"1\" class=\"dataframe\">\n",
              "  <thead>\n",
              "    <tr style=\"text-align: right;\">\n",
              "      <th></th>\n",
              "      <th>index</th>\n",
              "      <th>treatmenta</th>\n",
              "      <th>treatmentb</th>\n",
              "    </tr>\n",
              "  </thead>\n",
              "  <tbody>\n",
              "    <tr>\n",
              "      <th>0</th>\n",
              "      <td>John Smith</td>\n",
              "      <td>NaN</td>\n",
              "      <td>2</td>\n",
              "    </tr>\n",
              "    <tr>\n",
              "      <th>1</th>\n",
              "      <td>Jane Doe</td>\n",
              "      <td>16.0</td>\n",
              "      <td>11</td>\n",
              "    </tr>\n",
              "    <tr>\n",
              "      <th>2</th>\n",
              "      <td>Mary Johnson</td>\n",
              "      <td>3.0</td>\n",
              "      <td>1</td>\n",
              "    </tr>\n",
              "  </tbody>\n",
              "</table>\n",
              "</div>"
            ],
            "text/plain": [
              "          index  treatmenta  treatmentb\n",
              "0    John Smith         NaN           2\n",
              "1      Jane Doe        16.0          11\n",
              "2  Mary Johnson         3.0           1"
            ]
          },
          "metadata": {
            "tags": []
          },
          "execution_count": 79
        }
      ]
    },
    {
      "cell_type": "code",
      "metadata": {
        "id": "UOlvjeBwBTNo",
        "colab_type": "code",
        "colab": {
          "base_uri": "https://localhost:8080/",
          "height": 225
        },
        "outputId": "3536c09e-bd7b-428f-e61c-bc3990c755f7"
      },
      "source": [
        "# What is the unique identifier for each row\n",
        "# Where is the data at that I want to be in my single \"tidy\" column\n",
        "\n",
        "tidy = table1.melt(id_vars='index', value_vars=['treatmenta', 'treatmentb'])\n",
        "\n",
        "tidy"
      ],
      "execution_count": null,
      "outputs": [
        {
          "output_type": "execute_result",
          "data": {
            "text/html": [
              "<div>\n",
              "<style scoped>\n",
              "    .dataframe tbody tr th:only-of-type {\n",
              "        vertical-align: middle;\n",
              "    }\n",
              "\n",
              "    .dataframe tbody tr th {\n",
              "        vertical-align: top;\n",
              "    }\n",
              "\n",
              "    .dataframe thead th {\n",
              "        text-align: right;\n",
              "    }\n",
              "</style>\n",
              "<table border=\"1\" class=\"dataframe\">\n",
              "  <thead>\n",
              "    <tr style=\"text-align: right;\">\n",
              "      <th></th>\n",
              "      <th>index</th>\n",
              "      <th>variable</th>\n",
              "      <th>value</th>\n",
              "    </tr>\n",
              "  </thead>\n",
              "  <tbody>\n",
              "    <tr>\n",
              "      <th>0</th>\n",
              "      <td>John Smith</td>\n",
              "      <td>treatmenta</td>\n",
              "      <td>NaN</td>\n",
              "    </tr>\n",
              "    <tr>\n",
              "      <th>1</th>\n",
              "      <td>Jane Doe</td>\n",
              "      <td>treatmenta</td>\n",
              "      <td>16.0</td>\n",
              "    </tr>\n",
              "    <tr>\n",
              "      <th>2</th>\n",
              "      <td>Mary Johnson</td>\n",
              "      <td>treatmenta</td>\n",
              "      <td>3.0</td>\n",
              "    </tr>\n",
              "    <tr>\n",
              "      <th>3</th>\n",
              "      <td>John Smith</td>\n",
              "      <td>treatmentb</td>\n",
              "      <td>2.0</td>\n",
              "    </tr>\n",
              "    <tr>\n",
              "      <th>4</th>\n",
              "      <td>Jane Doe</td>\n",
              "      <td>treatmentb</td>\n",
              "      <td>11.0</td>\n",
              "    </tr>\n",
              "    <tr>\n",
              "      <th>5</th>\n",
              "      <td>Mary Johnson</td>\n",
              "      <td>treatmentb</td>\n",
              "      <td>1.0</td>\n",
              "    </tr>\n",
              "  </tbody>\n",
              "</table>\n",
              "</div>"
            ],
            "text/plain": [
              "          index    variable  value\n",
              "0    John Smith  treatmenta    NaN\n",
              "1      Jane Doe  treatmenta   16.0\n",
              "2  Mary Johnson  treatmenta    3.0\n",
              "3    John Smith  treatmentb    2.0\n",
              "4      Jane Doe  treatmentb   11.0\n",
              "5  Mary Johnson  treatmentb    1.0"
            ]
          },
          "metadata": {
            "tags": []
          },
          "execution_count": 80
        }
      ]
    },
    {
      "cell_type": "code",
      "metadata": {
        "id": "hkXdIKDjBZC4",
        "colab_type": "code",
        "colab": {
          "base_uri": "https://localhost:8080/",
          "height": 225
        },
        "outputId": "90662201-519b-4e80-f86f-bb034151943b"
      },
      "source": [
        "# rename columns\n",
        "tidy1 = tidy.rename(columns={\n",
        "    'index': 'name', \n",
        "    'variable': 'trt', \n",
        "    'value': 'result'\n",
        "})\n",
        "tidy1"
      ],
      "execution_count": null,
      "outputs": [
        {
          "output_type": "execute_result",
          "data": {
            "text/html": [
              "<div>\n",
              "<style scoped>\n",
              "    .dataframe tbody tr th:only-of-type {\n",
              "        vertical-align: middle;\n",
              "    }\n",
              "\n",
              "    .dataframe tbody tr th {\n",
              "        vertical-align: top;\n",
              "    }\n",
              "\n",
              "    .dataframe thead th {\n",
              "        text-align: right;\n",
              "    }\n",
              "</style>\n",
              "<table border=\"1\" class=\"dataframe\">\n",
              "  <thead>\n",
              "    <tr style=\"text-align: right;\">\n",
              "      <th></th>\n",
              "      <th>name</th>\n",
              "      <th>trt</th>\n",
              "      <th>result</th>\n",
              "    </tr>\n",
              "  </thead>\n",
              "  <tbody>\n",
              "    <tr>\n",
              "      <th>0</th>\n",
              "      <td>John Smith</td>\n",
              "      <td>treatmenta</td>\n",
              "      <td>NaN</td>\n",
              "    </tr>\n",
              "    <tr>\n",
              "      <th>1</th>\n",
              "      <td>Jane Doe</td>\n",
              "      <td>treatmenta</td>\n",
              "      <td>16.0</td>\n",
              "    </tr>\n",
              "    <tr>\n",
              "      <th>2</th>\n",
              "      <td>Mary Johnson</td>\n",
              "      <td>treatmenta</td>\n",
              "      <td>3.0</td>\n",
              "    </tr>\n",
              "    <tr>\n",
              "      <th>3</th>\n",
              "      <td>John Smith</td>\n",
              "      <td>treatmentb</td>\n",
              "      <td>2.0</td>\n",
              "    </tr>\n",
              "    <tr>\n",
              "      <th>4</th>\n",
              "      <td>Jane Doe</td>\n",
              "      <td>treatmentb</td>\n",
              "      <td>11.0</td>\n",
              "    </tr>\n",
              "    <tr>\n",
              "      <th>5</th>\n",
              "      <td>Mary Johnson</td>\n",
              "      <td>treatmentb</td>\n",
              "      <td>1.0</td>\n",
              "    </tr>\n",
              "  </tbody>\n",
              "</table>\n",
              "</div>"
            ],
            "text/plain": [
              "           name         trt  result\n",
              "0    John Smith  treatmenta     NaN\n",
              "1      Jane Doe  treatmenta    16.0\n",
              "2  Mary Johnson  treatmenta     3.0\n",
              "3    John Smith  treatmentb     2.0\n",
              "4      Jane Doe  treatmentb    11.0\n",
              "5  Mary Johnson  treatmentb     1.0"
            ]
          },
          "metadata": {
            "tags": []
          },
          "execution_count": 81
        }
      ]
    },
    {
      "cell_type": "code",
      "metadata": {
        "id": "-BnEq18qBbBK",
        "colab_type": "code",
        "colab": {
          "base_uri": "https://localhost:8080/",
          "height": 225
        },
        "outputId": "ad2be0ea-9478-44e3-f274-575d08c57700"
      },
      "source": [
        "tidy1.trt = tidy1.trt.str.replace('treatment', '')\n",
        "\n",
        "tidy1"
      ],
      "execution_count": null,
      "outputs": [
        {
          "output_type": "execute_result",
          "data": {
            "text/html": [
              "<div>\n",
              "<style scoped>\n",
              "    .dataframe tbody tr th:only-of-type {\n",
              "        vertical-align: middle;\n",
              "    }\n",
              "\n",
              "    .dataframe tbody tr th {\n",
              "        vertical-align: top;\n",
              "    }\n",
              "\n",
              "    .dataframe thead th {\n",
              "        text-align: right;\n",
              "    }\n",
              "</style>\n",
              "<table border=\"1\" class=\"dataframe\">\n",
              "  <thead>\n",
              "    <tr style=\"text-align: right;\">\n",
              "      <th></th>\n",
              "      <th>name</th>\n",
              "      <th>trt</th>\n",
              "      <th>result</th>\n",
              "    </tr>\n",
              "  </thead>\n",
              "  <tbody>\n",
              "    <tr>\n",
              "      <th>0</th>\n",
              "      <td>John Smith</td>\n",
              "      <td>a</td>\n",
              "      <td>NaN</td>\n",
              "    </tr>\n",
              "    <tr>\n",
              "      <th>1</th>\n",
              "      <td>Jane Doe</td>\n",
              "      <td>a</td>\n",
              "      <td>16.0</td>\n",
              "    </tr>\n",
              "    <tr>\n",
              "      <th>2</th>\n",
              "      <td>Mary Johnson</td>\n",
              "      <td>a</td>\n",
              "      <td>3.0</td>\n",
              "    </tr>\n",
              "    <tr>\n",
              "      <th>3</th>\n",
              "      <td>John Smith</td>\n",
              "      <td>b</td>\n",
              "      <td>2.0</td>\n",
              "    </tr>\n",
              "    <tr>\n",
              "      <th>4</th>\n",
              "      <td>Jane Doe</td>\n",
              "      <td>b</td>\n",
              "      <td>11.0</td>\n",
              "    </tr>\n",
              "    <tr>\n",
              "      <th>5</th>\n",
              "      <td>Mary Johnson</td>\n",
              "      <td>b</td>\n",
              "      <td>1.0</td>\n",
              "    </tr>\n",
              "  </tbody>\n",
              "</table>\n",
              "</div>"
            ],
            "text/plain": [
              "           name trt  result\n",
              "0    John Smith   a     NaN\n",
              "1      Jane Doe   a    16.0\n",
              "2  Mary Johnson   a     3.0\n",
              "3    John Smith   b     2.0\n",
              "4      Jane Doe   b    11.0\n",
              "5  Mary Johnson   b     1.0"
            ]
          },
          "metadata": {
            "tags": []
          },
          "execution_count": 82
        }
      ]
    },
    {
      "cell_type": "markdown",
      "metadata": {
        "id": "UuFviZYbBebc",
        "colab_type": "text"
      },
      "source": [
        "### Tidy --> Table 1\n",
        "\n",
        "The `pivot_table` function is the inverse of `melt`."
      ]
    },
    {
      "cell_type": "code",
      "metadata": {
        "id": "LdfbFRI5Bgnh",
        "colab_type": "code",
        "colab": {
          "base_uri": "https://localhost:8080/",
          "height": 166
        },
        "outputId": "9fce7a4b-9f14-4633-a7a6-735a86a505db"
      },
      "source": [
        "# index: unique identifier\n",
        "# columns: What do you want to differentiate the columns in wide format\n",
        "# values: Where are the numbers at - go in the middle of the wide dataframe\n",
        "\n",
        "wide = tidy1.pivot_table(index='name', columns='trt', values='result')\n",
        "\n",
        "wide"
      ],
      "execution_count": null,
      "outputs": [
        {
          "output_type": "execute_result",
          "data": {
            "text/html": [
              "<div>\n",
              "<style scoped>\n",
              "    .dataframe tbody tr th:only-of-type {\n",
              "        vertical-align: middle;\n",
              "    }\n",
              "\n",
              "    .dataframe tbody tr th {\n",
              "        vertical-align: top;\n",
              "    }\n",
              "\n",
              "    .dataframe thead th {\n",
              "        text-align: right;\n",
              "    }\n",
              "</style>\n",
              "<table border=\"1\" class=\"dataframe\">\n",
              "  <thead>\n",
              "    <tr style=\"text-align: right;\">\n",
              "      <th>trt</th>\n",
              "      <th>a</th>\n",
              "      <th>b</th>\n",
              "    </tr>\n",
              "    <tr>\n",
              "      <th>name</th>\n",
              "      <th></th>\n",
              "      <th></th>\n",
              "    </tr>\n",
              "  </thead>\n",
              "  <tbody>\n",
              "    <tr>\n",
              "      <th>Jane Doe</th>\n",
              "      <td>16.0</td>\n",
              "      <td>11.0</td>\n",
              "    </tr>\n",
              "    <tr>\n",
              "      <th>John Smith</th>\n",
              "      <td>NaN</td>\n",
              "      <td>2.0</td>\n",
              "    </tr>\n",
              "    <tr>\n",
              "      <th>Mary Johnson</th>\n",
              "      <td>3.0</td>\n",
              "      <td>1.0</td>\n",
              "    </tr>\n",
              "  </tbody>\n",
              "</table>\n",
              "</div>"
            ],
            "text/plain": [
              "trt              a     b\n",
              "name                    \n",
              "Jane Doe      16.0  11.0\n",
              "John Smith     NaN   2.0\n",
              "Mary Johnson   3.0   1.0"
            ]
          },
          "metadata": {
            "tags": []
          },
          "execution_count": 84
        }
      ]
    },
    {
      "cell_type": "markdown",
      "metadata": {
        "id": "_sfVVJg91Ri9",
        "colab_type": "text"
      },
      "source": [
        "## Challenge\n",
        "\n",
        "On your assignment, be prepared to take table2 (the transpose of table1) and reshape it to be in tidy data format using `.melt()` and then put it back in \"wide format\" using `.pivot_table()`"
      ]
    },
    {
      "cell_type": "markdown",
      "metadata": {
        "id": "9H9XAmbTz5D6",
        "colab_type": "text"
      },
      "source": [
        "# [Objective](#melt-pivot) Transition between tidy and wide data formats with `.melt()` and `.pivot()`."
      ]
    },
    {
      "cell_type": "markdown",
      "metadata": {
        "id": "346ZYlh7vsbx",
        "colab_type": "text"
      },
      "source": [
        "## Overview\n",
        "\n",
        "Tidy data format can be particularly useful with certain plotting libraries like Seaborn for example. Lets practice reshaping our data and show how this can be extremely useful in preparing our data for plotting.\n",
        "\n",
        "Remember that tidy data format means:\n",
        "\n",
        "- Each variable is a column\n",
        "- Each observation is a row\n",
        "\n",
        "A helpful mindset for determining whether your data are tidy is to think backwards from the plot you want to draw. From this perspective, a “variable” is something that will be assigned a role in the plot.\" When plotting, this typically means that the values that we're most interested in and that represent the same thing will all be in a single column. You'll see that in the different examples that we show. The important data will be in a single column.\n",
        "\n"
      ]
    },
    {
      "cell_type": "code",
      "metadata": {
        "id": "oc3h1LK6ulP-",
        "colab_type": "code",
        "colab": {
          "base_uri": "https://localhost:8080/",
          "height": 297
        },
        "outputId": "a465a0a6-349b-4666-a02a-dd109b338bc7"
      },
      "source": [
        "# Look at some of the awesome out-of-the-box seaborn functionality:\n",
        "\n",
        "import seaborn as sns\n",
        "\n",
        "sns.catplot(x='trt', y='result', col='name', kind='bar', data=tidy1, height=4);"
      ],
      "execution_count": null,
      "outputs": [
        {
          "output_type": "display_data",
          "data": {
            "image/png": "[encoded data removed]",
            "text/plain": [
              "<Figure size 864x288 with 3 Axes>"
            ]
          },
          "metadata": {
            "tags": [],
            "needs_background": "light"
          }
        }
      ]
    },
    {
      "cell_type": "markdown",
      "metadata": {
        "id": "RDs7HSDtvwp7",
        "colab_type": "text"
      },
      "source": [
        "## Follow Along\n",
        "\n",
        "Now with Instacart Data. We're going to try and reproduce a small part of this visualization: "
      ]
    },
    {
      "cell_type": "code",
      "metadata": {
        "id": "UYaAh9i2Cth8",
        "colab_type": "code",
        "colab": {
          "base_uri": "https://localhost:8080/",
          "height": 383
        },
        "outputId": "ff5a7655-7759-47cd-bf5b-e2810214c2dc"
      },
      "source": [
        "from IPython.display import display, Image\n",
        "url = 'https://cdn-images-1.medium.com/max/1600/1*wKfV6OV-_1Ipwrl7AjjSuw.png'\n",
        "example = Image(url=url, width=600)\n",
        "\n",
        "display(example)"
      ],
      "execution_count": null,
      "outputs": [
        {
          "output_type": "display_data",
          "data": {
            "text/html": [
              "<img src=\"https://cdn-images-1.medium.com/max/1600/1*wKfV6OV-_1Ipwrl7AjjSuw.png\" width=\"600\"/>"
            ],
            "text/plain": [
              "<IPython.core.display.Image object>"
            ]
          },
          "metadata": {
            "tags": []
          }
        }
      ]
    },
    {
      "cell_type": "markdown",
      "metadata": {
        "id": "cWA17E72Csb8",
        "colab_type": "text"
      },
      "source": [
        "Instead of a plot with 50 products, we'll just do two — the first products from each list\n",
        "- Half And Half Ultra Pasteurized\n",
        "- Half Baked Frozen Yogurt\n",
        "\n",
        "So, given a `product_name` we need to calculate its `order_hour_of_day` pattern."
      ]
    },
    {
      "cell_type": "code",
      "metadata": {
        "id": "Afch5TnbvzYH",
        "colab_type": "code",
        "colab": {}
      },
      "source": [
        "products = pd.read_csv('products.csv')\n",
        "\n",
        "order_products = pd.concat([pd.read_csv('order_products__prior.csv'), \n",
        "                            pd.read_csv('order_products__train.csv')])\n",
        "\n",
        "orders = pd.read_csv('orders.csv')"
      ],
      "execution_count": null,
      "outputs": []
    },
    {
      "cell_type": "markdown",
      "metadata": {
        "id": "a-wZZuvJC9XR",
        "colab_type": "text"
      },
      "source": [
        "### Subset and Merge\n",
        "\n",
        "One challenge of performing a merge on this data is that the `products` and `orders` datasets do not have any common columns that we can merge on. Due to this we will have to use the `order_products` dataset to provide the columns that we will use to perform the merge.\n",
        "\n",
        "Here's the two products that we want to work with."
      ]
    },
    {
      "cell_type": "code",
      "metadata": {
        "id": "8kiwQevWC-ky",
        "colab_type": "code",
        "colab": {}
      },
      "source": [
        "product_names = ['Half Baked Frozen Yogurt', 'Half And Half Ultra Pasteurized']"
      ],
      "execution_count": null,
      "outputs": []
    },
    {
      "cell_type": "markdown",
      "metadata": {
        "id": "qQS97tQ4DMcU",
        "colab_type": "text"
      },
      "source": [
        "Lets remind ourselves of what columns we have to work with:"
      ]
    },
    {
      "cell_type": "code",
      "metadata": {
        "id": "ObLpUAJdDDKs",
        "colab_type": "code",
        "colab": {
          "base_uri": "https://localhost:8080/",
          "height": 34
        },
        "outputId": "dc369cde-7a99-407f-c891-7d77deded044"
      },
      "source": [
        "products.columns.to_list()"
      ],
      "execution_count": null,
      "outputs": [
        {
          "output_type": "execute_result",
          "data": {
            "text/plain": [
              "['product_id', 'product_name', 'aisle_id', 'department_id']"
            ]
          },
          "metadata": {
            "tags": []
          },
          "execution_count": 95
        }
      ]
    },
    {
      "cell_type": "code",
      "metadata": {
        "id": "YJSAiUrqDEpP",
        "colab_type": "code",
        "colab": {
          "base_uri": "https://localhost:8080/",
          "height": 134
        },
        "outputId": "3926ec81-2b0a-4c55-abb8-0b7c731cebdb"
      },
      "source": [
        "orders.columns.to_list()"
      ],
      "execution_count": null,
      "outputs": [
        {
          "output_type": "execute_result",
          "data": {
            "text/plain": [
              "['order_id',\n",
              " 'user_id',\n",
              " 'eval_set',\n",
              " 'order_number',\n",
              " 'order_dow',\n",
              " 'order_hour_of_day',\n",
              " 'days_since_prior_order']"
            ]
          },
          "metadata": {
            "tags": []
          },
          "execution_count": 96
        }
      ]
    },
    {
      "cell_type": "code",
      "metadata": {
        "id": "3bMVJbGMDGeY",
        "colab_type": "code",
        "colab": {
          "base_uri": "https://localhost:8080/",
          "height": 34
        },
        "outputId": "d11aa97a-f524-4d21-91c1-5bb42ba26903"
      },
      "source": [
        "order_products.columns.to_list()"
      ],
      "execution_count": null,
      "outputs": [
        {
          "output_type": "execute_result",
          "data": {
            "text/plain": [
              "['order_id', 'product_id', 'add_to_cart_order', 'reordered']"
            ]
          },
          "metadata": {
            "tags": []
          },
          "execution_count": 97
        }
      ]
    },
    {
      "cell_type": "markdown",
      "metadata": {
        "id": "NWeDbbc4DSQ9",
        "colab_type": "text"
      },
      "source": [
        "This might blow your mind, but we're going to subset the dataframes to select specific columns **and** merge them all in one go. Ready?"
      ]
    },
    {
      "cell_type": "code",
      "metadata": {
        "id": "jYG576viDYTY",
        "colab_type": "code",
        "colab": {
          "base_uri": "https://localhost:8080/",
          "height": 212
        },
        "outputId": "8c66fdec-fea9-49f8-d207-0e268136e202"
      },
      "source": [
        "merged = (products[['product_id', 'product_name']]\n",
        "          .merge(order_products[['order_id', 'product_id']])\n",
        "          .merge(orders[['order_id', 'order_hour_of_day']]))\n",
        "\n",
        "\n",
        "print(merged.shape)\n",
        "merged.head()"
      ],
      "execution_count": null,
      "outputs": [
        {
          "output_type": "stream",
          "text": [
            "(33819106, 4)\n"
          ],
          "name": "stdout"
        },
        {
          "output_type": "execute_result",
          "data": {
            "text/html": [
              "<div>\n",
              "<style scoped>\n",
              "    .dataframe tbody tr th:only-of-type {\n",
              "        vertical-align: middle;\n",
              "    }\n",
              "\n",
              "    .dataframe tbody tr th {\n",
              "        vertical-align: top;\n",
              "    }\n",
              "\n",
              "    .dataframe thead th {\n",
              "        text-align: right;\n",
              "    }\n",
              "</style>\n",
              "<table border=\"1\" class=\"dataframe\">\n",
              "  <thead>\n",
              "    <tr style=\"text-align: right;\">\n",
              "      <th></th>\n",
              "      <th>product_id</th>\n",
              "      <th>product_name</th>\n",
              "      <th>order_id</th>\n",
              "      <th>order_hour_of_day</th>\n",
              "    </tr>\n",
              "  </thead>\n",
              "  <tbody>\n",
              "    <tr>\n",
              "      <th>0</th>\n",
              "      <td>1</td>\n",
              "      <td>Chocolate Sandwich Cookies</td>\n",
              "      <td>1107</td>\n",
              "      <td>11</td>\n",
              "    </tr>\n",
              "    <tr>\n",
              "      <th>1</th>\n",
              "      <td>769</td>\n",
              "      <td>Sliced American Cheese</td>\n",
              "      <td>1107</td>\n",
              "      <td>11</td>\n",
              "    </tr>\n",
              "    <tr>\n",
              "      <th>2</th>\n",
              "      <td>6184</td>\n",
              "      <td>Clementines</td>\n",
              "      <td>1107</td>\n",
              "      <td>11</td>\n",
              "    </tr>\n",
              "    <tr>\n",
              "      <th>3</th>\n",
              "      <td>8048</td>\n",
              "      <td>Packaged Grape Tomatoes</td>\n",
              "      <td>1107</td>\n",
              "      <td>11</td>\n",
              "    </tr>\n",
              "    <tr>\n",
              "      <th>4</th>\n",
              "      <td>9007</td>\n",
              "      <td>Frosted Flakes</td>\n",
              "      <td>1107</td>\n",
              "      <td>11</td>\n",
              "    </tr>\n",
              "  </tbody>\n",
              "</table>\n",
              "</div>"
            ],
            "text/plain": [
              "   product_id                product_name  order_id  order_hour_of_day\n",
              "0           1  Chocolate Sandwich Cookies      1107                 11\n",
              "1         769      Sliced American Cheese      1107                 11\n",
              "2        6184                 Clementines      1107                 11\n",
              "3        8048     Packaged Grape Tomatoes      1107                 11\n",
              "4        9007              Frosted Flakes      1107                 11"
            ]
          },
          "metadata": {
            "tags": []
          },
          "execution_count": 98
        }
      ]
    },
    {
      "cell_type": "markdown",
      "metadata": {
        "id": "nyCeGkhyDlR0",
        "colab_type": "text"
      },
      "source": [
        "Ok, so we were a little bit lazy and probably should have subsetted our the rows of our dataframes before we merged them. We are going to filter after the fact. This is something that you can try out for practice. Can you figure out how to filter these dataframes **before** merging rather than after?"
      ]
    },
    {
      "cell_type": "code",
      "metadata": {
        "id": "GRaUjNYQDqlv",
        "colab_type": "code",
        "colab": {
          "base_uri": "https://localhost:8080/",
          "height": 212
        },
        "outputId": "057a8635-cb5f-4aa3-ea24-933d4725219d"
      },
      "source": [
        "product_names = ['Half Baked Frozen Yogurt', 'Half And Half Ultra Pasteurized']\n",
        "\n",
        "condition = merged['product_name'].isin(product_names)\n",
        "\n",
        "subset = merged[condition]\n",
        "\n",
        "print(subset.shape)\n",
        "subset.head()"
      ],
      "execution_count": null,
      "outputs": [
        {
          "output_type": "stream",
          "text": [
            "(5978, 4)\n"
          ],
          "name": "stdout"
        },
        {
          "output_type": "execute_result",
          "data": {
            "text/html": [
              "<div>\n",
              "<style scoped>\n",
              "    .dataframe tbody tr th:only-of-type {\n",
              "        vertical-align: middle;\n",
              "    }\n",
              "\n",
              "    .dataframe tbody tr th {\n",
              "        vertical-align: top;\n",
              "    }\n",
              "\n",
              "    .dataframe thead th {\n",
              "        text-align: right;\n",
              "    }\n",
              "</style>\n",
              "<table border=\"1\" class=\"dataframe\">\n",
              "  <thead>\n",
              "    <tr style=\"text-align: right;\">\n",
              "      <th></th>\n",
              "      <th>product_id</th>\n",
              "      <th>product_name</th>\n",
              "      <th>order_id</th>\n",
              "      <th>order_hour_of_day</th>\n",
              "    </tr>\n",
              "  </thead>\n",
              "  <tbody>\n",
              "    <tr>\n",
              "      <th>25086</th>\n",
              "      <td>30668</td>\n",
              "      <td>Half Baked Frozen Yogurt</td>\n",
              "      <td>595220</td>\n",
              "      <td>21</td>\n",
              "    </tr>\n",
              "    <tr>\n",
              "      <th>29409</th>\n",
              "      <td>30668</td>\n",
              "      <td>Half Baked Frozen Yogurt</td>\n",
              "      <td>3252348</td>\n",
              "      <td>16</td>\n",
              "    </tr>\n",
              "    <tr>\n",
              "      <th>33914</th>\n",
              "      <td>30668</td>\n",
              "      <td>Half Baked Frozen Yogurt</td>\n",
              "      <td>677455</td>\n",
              "      <td>17</td>\n",
              "    </tr>\n",
              "    <tr>\n",
              "      <th>34412</th>\n",
              "      <td>30668</td>\n",
              "      <td>Half Baked Frozen Yogurt</td>\n",
              "      <td>1821824</td>\n",
              "      <td>14</td>\n",
              "    </tr>\n",
              "    <tr>\n",
              "      <th>35652</th>\n",
              "      <td>30668</td>\n",
              "      <td>Half Baked Frozen Yogurt</td>\n",
              "      <td>1225489</td>\n",
              "      <td>17</td>\n",
              "    </tr>\n",
              "  </tbody>\n",
              "</table>\n",
              "</div>"
            ],
            "text/plain": [
              "       product_id              product_name  order_id  order_hour_of_day\n",
              "25086       30668  Half Baked Frozen Yogurt    595220                 21\n",
              "29409       30668  Half Baked Frozen Yogurt   3252348                 16\n",
              "33914       30668  Half Baked Frozen Yogurt    677455                 17\n",
              "34412       30668  Half Baked Frozen Yogurt   1821824                 14\n",
              "35652       30668  Half Baked Frozen Yogurt   1225489                 17"
            ]
          },
          "metadata": {
            "tags": []
          },
          "execution_count": 100
        }
      ]
    },
    {
      "cell_type": "markdown",
      "metadata": {
        "id": "PsCbAF1aD6mI",
        "colab_type": "text"
      },
      "source": [
        "Again, there are multiple effective ways to write conditions. "
      ]
    },
    {
      "cell_type": "code",
      "metadata": {
        "id": "3Q3-vSjFD5r2",
        "colab_type": "code",
        "colab": {
          "base_uri": "https://localhost:8080/",
          "height": 212
        },
        "outputId": "d33acbef-9ef5-4411-b637-2a312b0bb8f7"
      },
      "source": [
        "condition = ((merged['product_name']=='Half Baked Frozen Yogurt') | \n",
        "             (merged['product_name']=='Half And Half Ultra Pasteurized'))\n",
        "\n",
        "subset = merged[condition]\n",
        "\n",
        "print(subset.shape)\n",
        "subset.head()"
      ],
      "execution_count": null,
      "outputs": [
        {
          "output_type": "stream",
          "text": [
            "(5978, 4)\n"
          ],
          "name": "stdout"
        },
        {
          "output_type": "execute_result",
          "data": {
            "text/html": [
              "<div>\n",
              "<style scoped>\n",
              "    .dataframe tbody tr th:only-of-type {\n",
              "        vertical-align: middle;\n",
              "    }\n",
              "\n",
              "    .dataframe tbody tr th {\n",
              "        vertical-align: top;\n",
              "    }\n",
              "\n",
              "    .dataframe thead th {\n",
              "        text-align: right;\n",
              "    }\n",
              "</style>\n",
              "<table border=\"1\" class=\"dataframe\">\n",
              "  <thead>\n",
              "    <tr style=\"text-align: right;\">\n",
              "      <th></th>\n",
              "      <th>product_id</th>\n",
              "      <th>product_name</th>\n",
              "      <th>order_id</th>\n",
              "      <th>order_hour_of_day</th>\n",
              "    </tr>\n",
              "  </thead>\n",
              "  <tbody>\n",
              "    <tr>\n",
              "      <th>25086</th>\n",
              "      <td>30668</td>\n",
              "      <td>Half Baked Frozen Yogurt</td>\n",
              "      <td>595220</td>\n",
              "      <td>21</td>\n",
              "    </tr>\n",
              "    <tr>\n",
              "      <th>29409</th>\n",
              "      <td>30668</td>\n",
              "      <td>Half Baked Frozen Yogurt</td>\n",
              "      <td>3252348</td>\n",
              "      <td>16</td>\n",
              "    </tr>\n",
              "    <tr>\n",
              "      <th>33914</th>\n",
              "      <td>30668</td>\n",
              "      <td>Half Baked Frozen Yogurt</td>\n",
              "      <td>677455</td>\n",
              "      <td>17</td>\n",
              "    </tr>\n",
              "    <tr>\n",
              "      <th>34412</th>\n",
              "      <td>30668</td>\n",
              "      <td>Half Baked Frozen Yogurt</td>\n",
              "      <td>1821824</td>\n",
              "      <td>14</td>\n",
              "    </tr>\n",
              "    <tr>\n",
              "      <th>35652</th>\n",
              "      <td>30668</td>\n",
              "      <td>Half Baked Frozen Yogurt</td>\n",
              "      <td>1225489</td>\n",
              "      <td>17</td>\n",
              "    </tr>\n",
              "  </tbody>\n",
              "</table>\n",
              "</div>"
            ],
            "text/plain": [
              "       product_id              product_name  order_id  order_hour_of_day\n",
              "25086       30668  Half Baked Frozen Yogurt    595220                 21\n",
              "29409       30668  Half Baked Frozen Yogurt   3252348                 16\n",
              "33914       30668  Half Baked Frozen Yogurt    677455                 17\n",
              "34412       30668  Half Baked Frozen Yogurt   1821824                 14\n",
              "35652       30668  Half Baked Frozen Yogurt   1225489                 17"
            ]
          },
          "metadata": {
            "tags": []
          },
          "execution_count": 101
        }
      ]
    },
    {
      "cell_type": "code",
      "metadata": {
        "id": "J4IxDetIELzM",
        "colab_type": "code",
        "colab": {
          "base_uri": "https://localhost:8080/",
          "height": 67
        },
        "outputId": "4b5889cf-e5f6-4e51-9089-ba146fa9d06d"
      },
      "source": [
        "subset['product_name'].value_counts()"
      ],
      "execution_count": null,
      "outputs": [
        {
          "output_type": "execute_result",
          "data": {
            "text/plain": [
              "Half And Half Ultra Pasteurized    2995\n",
              "Half Baked Frozen Yogurt           2983\n",
              "Name: product_name, dtype: int64"
            ]
          },
          "metadata": {
            "tags": []
          },
          "execution_count": 103
        }
      ]
    },
    {
      "cell_type": "markdown",
      "metadata": {
        "id": "cuGmrZ52ECOS",
        "colab_type": "text"
      },
      "source": [
        "### 4 ways to reshape and plot\n",
        "\n"
      ]
    },
    {
      "cell_type": "code",
      "metadata": {
        "id": "0FKFamTREFiw",
        "colab_type": "code",
        "colab": {
          "base_uri": "https://localhost:8080/",
          "height": 384
        },
        "outputId": "bc5c8b56-7196-42b0-a004-23a5e072d957"
      },
      "source": [
        "display(example)"
      ],
      "execution_count": null,
      "outputs": [
        {
          "output_type": "display_data",
          "data": {
            "text/html": [
              "<img src=\"https://cdn-images-1.medium.com/max/1600/1*wKfV6OV-_1Ipwrl7AjjSuw.png\" width=\"600\"/>"
            ],
            "text/plain": [
              "<IPython.core.display.Image object>"
            ]
          },
          "metadata": {
            "tags": []
          }
        }
      ]
    },
    {
      "cell_type": "markdown",
      "metadata": {
        "id": "-5udAYCYEQK5",
        "colab_type": "text"
      },
      "source": [
        "1) The `.value_counts()` approach.\n",
        "\n",
        "Remember, that we're trying to get the key variables (values) listed as a single column."
      ]
    },
    {
      "cell_type": "code",
      "metadata": {
        "id": "mZih8j2QEIb9",
        "colab_type": "code",
        "colab": {}
      },
      "source": [
        "froyo = subset[subset['product_name']=='Half Baked Frozen Yogurt']\n",
        "cream = subset[subset['product_name']=='Half And Half Ultra Pasteurized']"
      ],
      "execution_count": null,
      "outputs": []
    },
    {
      "cell_type": "code",
      "metadata": {
        "id": "RVvLVPgeEZXK",
        "colab_type": "code",
        "colab": {
          "base_uri": "https://localhost:8080/",
          "height": 420
        },
        "outputId": "054890fe-2677-447d-b905-10d24b3f6106"
      },
      "source": [
        "cream['order_hour_of_day'].value_counts(normalize=True).sort_index()"
      ],
      "execution_count": null,
      "outputs": [
        {
          "output_type": "execute_result",
          "data": {
            "text/plain": [
              "0     0.002003\n",
              "1     0.000334\n",
              "2     0.000334\n",
              "4     0.000334\n",
              "5     0.001336\n",
              "6     0.008347\n",
              "7     0.031720\n",
              "8     0.107846\n",
              "9     0.160267\n",
              "10    0.143239\n",
              "11    0.097496\n",
              "12    0.066778\n",
              "13    0.071119\n",
              "14    0.071786\n",
              "15    0.074124\n",
              "16    0.072788\n",
              "17    0.037062\n",
              "18    0.018698\n",
              "19    0.009349\n",
              "20    0.010684\n",
              "21    0.007679\n",
              "22    0.004007\n",
              "23    0.002671\n",
              "Name: order_hour_of_day, dtype: float64"
            ]
          },
          "metadata": {
            "tags": []
          },
          "execution_count": 108
        }
      ]
    },
    {
      "cell_type": "code",
      "metadata": {
        "id": "Nh01hpq5mOsH",
        "colab_type": "code",
        "colab": {
          "base_uri": "https://localhost:8080/",
          "height": 437
        },
        "outputId": "feae2af4-2a56-4ec8-eaf6-c8310f23ddf2"
      },
      "source": [
        "froyo['order_hour_of_day'].value_counts(normalize=True).sort_index()"
      ],
      "execution_count": null,
      "outputs": [
        {
          "output_type": "execute_result",
          "data": {
            "text/plain": [
              "0     0.005364\n",
              "1     0.002682\n",
              "2     0.002682\n",
              "3     0.001006\n",
              "4     0.000670\n",
              "5     0.003352\n",
              "6     0.006034\n",
              "7     0.019779\n",
              "8     0.029836\n",
              "9     0.042910\n",
              "10    0.059001\n",
              "11    0.067717\n",
              "12    0.065035\n",
              "13    0.078780\n",
              "14    0.084479\n",
              "15    0.095206\n",
              "16    0.092189\n",
              "17    0.084814\n",
              "18    0.085484\n",
              "19    0.066376\n",
              "20    0.049279\n",
              "21    0.028830\n",
              "22    0.016426\n",
              "23    0.012068\n",
              "Name: order_hour_of_day, dtype: float64"
            ]
          },
          "metadata": {
            "tags": []
          },
          "execution_count": 109
        }
      ]
    },
    {
      "cell_type": "code",
      "metadata": {
        "id": "U-Y6RBYLmS90",
        "colab_type": "code",
        "colab": {
          "base_uri": "https://localhost:8080/",
          "height": 265
        },
        "outputId": "3d4c5bdd-63d9-46fa-d1bc-90a863722813"
      },
      "source": [
        "import matplotlib.pyplot as plt\n",
        "\n",
        "(cream['order_hour_of_day'].value_counts(normalize=True).sort_index()\n",
        " .plot())\n",
        "(froyo['order_hour_of_day'].value_counts(normalize=True).sort_index()\n",
        " .plot());"
      ],
      "execution_count": null,
      "outputs": [
        {
          "output_type": "display_data",
          "data": {
            "image/png": "[encoded data removed]",
            "text/plain": [
              "<Figure size 432x288 with 1 Axes>"
            ]
          },
          "metadata": {
            "tags": [],
            "needs_background": "light"
          }
        }
      ]
    },
    {
      "cell_type": "markdown",
      "metadata": {
        "id": "35cWYAYJEdNU",
        "colab_type": "text"
      },
      "source": [
        "2) Crosstab"
      ]
    },
    {
      "cell_type": "code",
      "metadata": {
        "id": "q5LgBIUSEjCt",
        "colab_type": "code",
        "colab": {
          "base_uri": "https://localhost:8080/",
          "height": 787
        },
        "outputId": "091d6043-d05c-4fea-9a86-9009375ea0a5"
      },
      "source": [
        "wide = pd.crosstab(subset['order_hour_of_day'], \n",
        "            subset['product_name'], \n",
        "            normalize='columns')\n",
        "\n",
        "wide"
      ],
      "execution_count": null,
      "outputs": [
        {
          "output_type": "execute_result",
          "data": {
            "text/html": [
              "<div>\n",
              "<style scoped>\n",
              "    .dataframe tbody tr th:only-of-type {\n",
              "        vertical-align: middle;\n",
              "    }\n",
              "\n",
              "    .dataframe tbody tr th {\n",
              "        vertical-align: top;\n",
              "    }\n",
              "\n",
              "    .dataframe thead th {\n",
              "        text-align: right;\n",
              "    }\n",
              "</style>\n",
              "<table border=\"1\" class=\"dataframe\">\n",
              "  <thead>\n",
              "    <tr style=\"text-align: right;\">\n",
              "      <th>product_name</th>\n",
              "      <th>Half And Half Ultra Pasteurized</th>\n",
              "      <th>Half Baked Frozen Yogurt</th>\n",
              "    </tr>\n",
              "    <tr>\n",
              "      <th>order_hour_of_day</th>\n",
              "      <th></th>\n",
              "      <th></th>\n",
              "    </tr>\n",
              "  </thead>\n",
              "  <tbody>\n",
              "    <tr>\n",
              "      <th>0</th>\n",
              "      <td>0.002003</td>\n",
              "      <td>0.005364</td>\n",
              "    </tr>\n",
              "    <tr>\n",
              "      <th>1</th>\n",
              "      <td>0.000334</td>\n",
              "      <td>0.002682</td>\n",
              "    </tr>\n",
              "    <tr>\n",
              "      <th>2</th>\n",
              "      <td>0.000334</td>\n",
              "      <td>0.002682</td>\n",
              "    </tr>\n",
              "    <tr>\n",
              "      <th>3</th>\n",
              "      <td>0.000000</td>\n",
              "      <td>0.001006</td>\n",
              "    </tr>\n",
              "    <tr>\n",
              "      <th>4</th>\n",
              "      <td>0.000334</td>\n",
              "      <td>0.000670</td>\n",
              "    </tr>\n",
              "    <tr>\n",
              "      <th>5</th>\n",
              "      <td>0.001336</td>\n",
              "      <td>0.003352</td>\n",
              "    </tr>\n",
              "    <tr>\n",
              "      <th>6</th>\n",
              "      <td>0.008347</td>\n",
              "      <td>0.006034</td>\n",
              "    </tr>\n",
              "    <tr>\n",
              "      <th>7</th>\n",
              "      <td>0.031720</td>\n",
              "      <td>0.019779</td>\n",
              "    </tr>\n",
              "    <tr>\n",
              "      <th>8</th>\n",
              "      <td>0.107846</td>\n",
              "      <td>0.029836</td>\n",
              "    </tr>\n",
              "    <tr>\n",
              "      <th>9</th>\n",
              "      <td>0.160267</td>\n",
              "      <td>0.042910</td>\n",
              "    </tr>\n",
              "    <tr>\n",
              "      <th>10</th>\n",
              "      <td>0.143239</td>\n",
              "      <td>0.059001</td>\n",
              "    </tr>\n",
              "    <tr>\n",
              "      <th>11</th>\n",
              "      <td>0.097496</td>\n",
              "      <td>0.067717</td>\n",
              "    </tr>\n",
              "    <tr>\n",
              "      <th>12</th>\n",
              "      <td>0.066778</td>\n",
              "      <td>0.065035</td>\n",
              "    </tr>\n",
              "    <tr>\n",
              "      <th>13</th>\n",
              "      <td>0.071119</td>\n",
              "      <td>0.078780</td>\n",
              "    </tr>\n",
              "    <tr>\n",
              "      <th>14</th>\n",
              "      <td>0.071786</td>\n",
              "      <td>0.084479</td>\n",
              "    </tr>\n",
              "    <tr>\n",
              "      <th>15</th>\n",
              "      <td>0.074124</td>\n",
              "      <td>0.095206</td>\n",
              "    </tr>\n",
              "    <tr>\n",
              "      <th>16</th>\n",
              "      <td>0.072788</td>\n",
              "      <td>0.092189</td>\n",
              "    </tr>\n",
              "    <tr>\n",
              "      <th>17</th>\n",
              "      <td>0.037062</td>\n",
              "      <td>0.084814</td>\n",
              "    </tr>\n",
              "    <tr>\n",
              "      <th>18</th>\n",
              "      <td>0.018698</td>\n",
              "      <td>0.085484</td>\n",
              "    </tr>\n",
              "    <tr>\n",
              "      <th>19</th>\n",
              "      <td>0.009349</td>\n",
              "      <td>0.066376</td>\n",
              "    </tr>\n",
              "    <tr>\n",
              "      <th>20</th>\n",
              "      <td>0.010684</td>\n",
              "      <td>0.049279</td>\n",
              "    </tr>\n",
              "    <tr>\n",
              "      <th>21</th>\n",
              "      <td>0.007679</td>\n",
              "      <td>0.028830</td>\n",
              "    </tr>\n",
              "    <tr>\n",
              "      <th>22</th>\n",
              "      <td>0.004007</td>\n",
              "      <td>0.016426</td>\n",
              "    </tr>\n",
              "    <tr>\n",
              "      <th>23</th>\n",
              "      <td>0.002671</td>\n",
              "      <td>0.012068</td>\n",
              "    </tr>\n",
              "  </tbody>\n",
              "</table>\n",
              "</div>"
            ],
            "text/plain": [
              "product_name       Half And Half Ultra Pasteurized  Half Baked Frozen Yogurt\n",
              "order_hour_of_day                                                           \n",
              "0                                         0.002003                  0.005364\n",
              "1                                         0.000334                  0.002682\n",
              "2                                         0.000334                  0.002682\n",
              "3                                         0.000000                  0.001006\n",
              "4                                         0.000334                  0.000670\n",
              "5                                         0.001336                  0.003352\n",
              "6                                         0.008347                  0.006034\n",
              "7                                         0.031720                  0.019779\n",
              "8                                         0.107846                  0.029836\n",
              "9                                         0.160267                  0.042910\n",
              "10                                        0.143239                  0.059001\n",
              "11                                        0.097496                  0.067717\n",
              "12                                        0.066778                  0.065035\n",
              "13                                        0.071119                  0.078780\n",
              "14                                        0.071786                  0.084479\n",
              "15                                        0.074124                  0.095206\n",
              "16                                        0.072788                  0.092189\n",
              "17                                        0.037062                  0.084814\n",
              "18                                        0.018698                  0.085484\n",
              "19                                        0.009349                  0.066376\n",
              "20                                        0.010684                  0.049279\n",
              "21                                        0.007679                  0.028830\n",
              "22                                        0.004007                  0.016426\n",
              "23                                        0.002671                  0.012068"
            ]
          },
          "metadata": {
            "tags": []
          },
          "execution_count": 115
        }
      ]
    },
    {
      "cell_type": "code",
      "metadata": {
        "id": "1qAVFw6_mfoj",
        "colab_type": "code",
        "colab": {
          "base_uri": "https://localhost:8080/",
          "height": 280
        },
        "outputId": "7d6547d8-f276-4d3f-ee1c-5f06277e6114"
      },
      "source": [
        "pd.crosstab(subset['order_hour_of_day'], \n",
        "            subset['product_name'], \n",
        "            normalize='columns').plot();"
      ],
      "execution_count": null,
      "outputs": [
        {
          "output_type": "display_data",
          "data": {
            "image/png": "[encoded data removed]",
            "text/plain": [
              "<Figure size 432x288 with 1 Axes>"
            ]
          },
          "metadata": {
            "tags": [],
            "needs_background": "light"
          }
        }
      ]
    },
    {
      "cell_type": "markdown",
      "metadata": {
        "id": "AtzievA2El7W",
        "colab_type": "text"
      },
      "source": [
        "3) Pivot Table"
      ]
    },
    {
      "cell_type": "code",
      "metadata": {
        "id": "u1zTNxRWEndk",
        "colab_type": "code",
        "colab": {
          "base_uri": "https://localhost:8080/",
          "height": 283
        },
        "outputId": "9f7dac38-e490-4328-f96a-bdd0975c3751"
      },
      "source": [
        "subset.pivot_table(index='order_hour_of_day', columns='product_name', values='order_id', aggfunc=len).plot();"
      ],
      "execution_count": null,
      "outputs": [
        {
          "output_type": "display_data",
          "data": {
            "image/png": "[encoded data removed]",
            "text/plain": [
              "<Figure size 432x288 with 1 Axes>"
            ]
          },
          "metadata": {
            "tags": [],
            "needs_background": "light"
          }
        }
      ]
    },
    {
      "cell_type": "markdown",
      "metadata": {
        "id": "Q-uexEZoErje",
        "colab_type": "text"
      },
      "source": [
        "4) Melt \n",
        "\n",
        "We've got to get it into wide format first. We'll use a crosstab which is a specific type of pivot_table."
      ]
    },
    {
      "cell_type": "code",
      "metadata": {
        "id": "l2YFirZPE2DL",
        "colab_type": "code",
        "colab": {
          "base_uri": "https://localhost:8080/",
          "height": 1000
        },
        "outputId": "616d17bf-6fcc-4ee1-ec5c-16c875c488d2"
      },
      "source": [
        "melted = wide.reset_index().melt(id_vars='order_hour_of_day')\n",
        "\n",
        "melted"
      ],
      "execution_count": null,
      "outputs": [
        {
          "output_type": "execute_result",
          "data": {
            "text/html": [
              "<div>\n",
              "<style scoped>\n",
              "    .dataframe tbody tr th:only-of-type {\n",
              "        vertical-align: middle;\n",
              "    }\n",
              "\n",
              "    .dataframe tbody tr th {\n",
              "        vertical-align: top;\n",
              "    }\n",
              "\n",
              "    .dataframe thead th {\n",
              "        text-align: right;\n",
              "    }\n",
              "</style>\n",
              "<table border=\"1\" class=\"dataframe\">\n",
              "  <thead>\n",
              "    <tr style=\"text-align: right;\">\n",
              "      <th></th>\n",
              "      <th>order_hour_of_day</th>\n",
              "      <th>product_name</th>\n",
              "      <th>value</th>\n",
              "    </tr>\n",
              "  </thead>\n",
              "  <tbody>\n",
              "    <tr>\n",
              "      <th>0</th>\n",
              "      <td>0</td>\n",
              "      <td>Half And Half Ultra Pasteurized</td>\n",
              "      <td>0.002003</td>\n",
              "    </tr>\n",
              "    <tr>\n",
              "      <th>1</th>\n",
              "      <td>1</td>\n",
              "      <td>Half And Half Ultra Pasteurized</td>\n",
              "      <td>0.000334</td>\n",
              "    </tr>\n",
              "    <tr>\n",
              "      <th>2</th>\n",
              "      <td>2</td>\n",
              "      <td>Half And Half Ultra Pasteurized</td>\n",
              "      <td>0.000334</td>\n",
              "    </tr>\n",
              "    <tr>\n",
              "      <th>3</th>\n",
              "      <td>3</td>\n",
              "      <td>Half And Half Ultra Pasteurized</td>\n",
              "      <td>0.000000</td>\n",
              "    </tr>\n",
              "    <tr>\n",
              "      <th>4</th>\n",
              "      <td>4</td>\n",
              "      <td>Half And Half Ultra Pasteurized</td>\n",
              "      <td>0.000334</td>\n",
              "    </tr>\n",
              "    <tr>\n",
              "      <th>5</th>\n",
              "      <td>5</td>\n",
              "      <td>Half And Half Ultra Pasteurized</td>\n",
              "      <td>0.001336</td>\n",
              "    </tr>\n",
              "    <tr>\n",
              "      <th>6</th>\n",
              "      <td>6</td>\n",
              "      <td>Half And Half Ultra Pasteurized</td>\n",
              "      <td>0.008347</td>\n",
              "    </tr>\n",
              "    <tr>\n",
              "      <th>7</th>\n",
              "      <td>7</td>\n",
              "      <td>Half And Half Ultra Pasteurized</td>\n",
              "      <td>0.031720</td>\n",
              "    </tr>\n",
              "    <tr>\n",
              "      <th>8</th>\n",
              "      <td>8</td>\n",
              "      <td>Half And Half Ultra Pasteurized</td>\n",
              "      <td>0.107846</td>\n",
              "    </tr>\n",
              "    <tr>\n",
              "      <th>9</th>\n",
              "      <td>9</td>\n",
              "      <td>Half And Half Ultra Pasteurized</td>\n",
              "      <td>0.160267</td>\n",
              "    </tr>\n",
              "    <tr>\n",
              "      <th>10</th>\n",
              "      <td>10</td>\n",
              "      <td>Half And Half Ultra Pasteurized</td>\n",
              "      <td>0.143239</td>\n",
              "    </tr>\n",
              "    <tr>\n",
              "      <th>11</th>\n",
              "      <td>11</td>\n",
              "      <td>Half And Half Ultra Pasteurized</td>\n",
              "      <td>0.097496</td>\n",
              "    </tr>\n",
              "    <tr>\n",
              "      <th>12</th>\n",
              "      <td>12</td>\n",
              "      <td>Half And Half Ultra Pasteurized</td>\n",
              "      <td>0.066778</td>\n",
              "    </tr>\n",
              "    <tr>\n",
              "      <th>13</th>\n",
              "      <td>13</td>\n",
              "      <td>Half And Half Ultra Pasteurized</td>\n",
              "      <td>0.071119</td>\n",
              "    </tr>\n",
              "    <tr>\n",
              "      <th>14</th>\n",
              "      <td>14</td>\n",
              "      <td>Half And Half Ultra Pasteurized</td>\n",
              "      <td>0.071786</td>\n",
              "    </tr>\n",
              "    <tr>\n",
              "      <th>15</th>\n",
              "      <td>15</td>\n",
              "      <td>Half And Half Ultra Pasteurized</td>\n",
              "      <td>0.074124</td>\n",
              "    </tr>\n",
              "    <tr>\n",
              "      <th>16</th>\n",
              "      <td>16</td>\n",
              "      <td>Half And Half Ultra Pasteurized</td>\n",
              "      <td>0.072788</td>\n",
              "    </tr>\n",
              "    <tr>\n",
              "      <th>17</th>\n",
              "      <td>17</td>\n",
              "      <td>Half And Half Ultra Pasteurized</td>\n",
              "      <td>0.037062</td>\n",
              "    </tr>\n",
              "    <tr>\n",
              "      <th>18</th>\n",
              "      <td>18</td>\n",
              "      <td>Half And Half Ultra Pasteurized</td>\n",
              "      <td>0.018698</td>\n",
              "    </tr>\n",
              "    <tr>\n",
              "      <th>19</th>\n",
              "      <td>19</td>\n",
              "      <td>Half And Half Ultra Pasteurized</td>\n",
              "      <td>0.009349</td>\n",
              "    </tr>\n",
              "    <tr>\n",
              "      <th>20</th>\n",
              "      <td>20</td>\n",
              "      <td>Half And Half Ultra Pasteurized</td>\n",
              "      <td>0.010684</td>\n",
              "    </tr>\n",
              "    <tr>\n",
              "      <th>21</th>\n",
              "      <td>21</td>\n",
              "      <td>Half And Half Ultra Pasteurized</td>\n",
              "      <td>0.007679</td>\n",
              "    </tr>\n",
              "    <tr>\n",
              "      <th>22</th>\n",
              "      <td>22</td>\n",
              "      <td>Half And Half Ultra Pasteurized</td>\n",
              "      <td>0.004007</td>\n",
              "    </tr>\n",
              "    <tr>\n",
              "      <th>23</th>\n",
              "      <td>23</td>\n",
              "      <td>Half And Half Ultra Pasteurized</td>\n",
              "      <td>0.002671</td>\n",
              "    </tr>\n",
              "    <tr>\n",
              "      <th>24</th>\n",
              "      <td>0</td>\n",
              "      <td>Half Baked Frozen Yogurt</td>\n",
              "      <td>0.005364</td>\n",
              "    </tr>\n",
              "    <tr>\n",
              "      <th>25</th>\n",
              "      <td>1</td>\n",
              "      <td>Half Baked Frozen Yogurt</td>\n",
              "      <td>0.002682</td>\n",
              "    </tr>\n",
              "    <tr>\n",
              "      <th>26</th>\n",
              "      <td>2</td>\n",
              "      <td>Half Baked Frozen Yogurt</td>\n",
              "      <td>0.002682</td>\n",
              "    </tr>\n",
              "    <tr>\n",
              "      <th>27</th>\n",
              "      <td>3</td>\n",
              "      <td>Half Baked Frozen Yogurt</td>\n",
              "      <td>0.001006</td>\n",
              "    </tr>\n",
              "    <tr>\n",
              "      <th>28</th>\n",
              "      <td>4</td>\n",
              "      <td>Half Baked Frozen Yogurt</td>\n",
              "      <td>0.000670</td>\n",
              "    </tr>\n",
              "    <tr>\n",
              "      <th>29</th>\n",
              "      <td>5</td>\n",
              "      <td>Half Baked Frozen Yogurt</td>\n",
              "      <td>0.003352</td>\n",
              "    </tr>\n",
              "    <tr>\n",
              "      <th>30</th>\n",
              "      <td>6</td>\n",
              "      <td>Half Baked Frozen Yogurt</td>\n",
              "      <td>0.006034</td>\n",
              "    </tr>\n",
              "    <tr>\n",
              "      <th>31</th>\n",
              "      <td>7</td>\n",
              "      <td>Half Baked Frozen Yogurt</td>\n",
              "      <td>0.019779</td>\n",
              "    </tr>\n",
              "    <tr>\n",
              "      <th>32</th>\n",
              "      <td>8</td>\n",
              "      <td>Half Baked Frozen Yogurt</td>\n",
              "      <td>0.029836</td>\n",
              "    </tr>\n",
              "    <tr>\n",
              "      <th>33</th>\n",
              "      <td>9</td>\n",
              "      <td>Half Baked Frozen Yogurt</td>\n",
              "      <td>0.042910</td>\n",
              "    </tr>\n",
              "    <tr>\n",
              "      <th>34</th>\n",
              "      <td>10</td>\n",
              "      <td>Half Baked Frozen Yogurt</td>\n",
              "      <td>0.059001</td>\n",
              "    </tr>\n",
              "    <tr>\n",
              "      <th>35</th>\n",
              "      <td>11</td>\n",
              "      <td>Half Baked Frozen Yogurt</td>\n",
              "      <td>0.067717</td>\n",
              "    </tr>\n",
              "    <tr>\n",
              "      <th>36</th>\n",
              "      <td>12</td>\n",
              "      <td>Half Baked Frozen Yogurt</td>\n",
              "      <td>0.065035</td>\n",
              "    </tr>\n",
              "    <tr>\n",
              "      <th>37</th>\n",
              "      <td>13</td>\n",
              "      <td>Half Baked Frozen Yogurt</td>\n",
              "      <td>0.078780</td>\n",
              "    </tr>\n",
              "    <tr>\n",
              "      <th>38</th>\n",
              "      <td>14</td>\n",
              "      <td>Half Baked Frozen Yogurt</td>\n",
              "      <td>0.084479</td>\n",
              "    </tr>\n",
              "    <tr>\n",
              "      <th>39</th>\n",
              "      <td>15</td>\n",
              "      <td>Half Baked Frozen Yogurt</td>\n",
              "      <td>0.095206</td>\n",
              "    </tr>\n",
              "    <tr>\n",
              "      <th>40</th>\n",
              "      <td>16</td>\n",
              "      <td>Half Baked Frozen Yogurt</td>\n",
              "      <td>0.092189</td>\n",
              "    </tr>\n",
              "    <tr>\n",
              "      <th>41</th>\n",
              "      <td>17</td>\n",
              "      <td>Half Baked Frozen Yogurt</td>\n",
              "      <td>0.084814</td>\n",
              "    </tr>\n",
              "    <tr>\n",
              "      <th>42</th>\n",
              "      <td>18</td>\n",
              "      <td>Half Baked Frozen Yogurt</td>\n",
              "      <td>0.085484</td>\n",
              "    </tr>\n",
              "    <tr>\n",
              "      <th>43</th>\n",
              "      <td>19</td>\n",
              "      <td>Half Baked Frozen Yogurt</td>\n",
              "      <td>0.066376</td>\n",
              "    </tr>\n",
              "    <tr>\n",
              "      <th>44</th>\n",
              "      <td>20</td>\n",
              "      <td>Half Baked Frozen Yogurt</td>\n",
              "      <td>0.049279</td>\n",
              "    </tr>\n",
              "    <tr>\n",
              "      <th>45</th>\n",
              "      <td>21</td>\n",
              "      <td>Half Baked Frozen Yogurt</td>\n",
              "      <td>0.028830</td>\n",
              "    </tr>\n",
              "    <tr>\n",
              "      <th>46</th>\n",
              "      <td>22</td>\n",
              "      <td>Half Baked Frozen Yogurt</td>\n",
              "      <td>0.016426</td>\n",
              "    </tr>\n",
              "    <tr>\n",
              "      <th>47</th>\n",
              "      <td>23</td>\n",
              "      <td>Half Baked Frozen Yogurt</td>\n",
              "      <td>0.012068</td>\n",
              "    </tr>\n",
              "  </tbody>\n",
              "</table>\n",
              "</div>"
            ],
            "text/plain": [
              "    order_hour_of_day                     product_name     value\n",
              "0                   0  Half And Half Ultra Pasteurized  0.002003\n",
              "1                   1  Half And Half Ultra Pasteurized  0.000334\n",
              "2                   2  Half And Half Ultra Pasteurized  0.000334\n",
              "3                   3  Half And Half Ultra Pasteurized  0.000000\n",
              "4                   4  Half And Half Ultra Pasteurized  0.000334\n",
              "5                   5  Half And Half Ultra Pasteurized  0.001336\n",
              "6                   6  Half And Half Ultra Pasteurized  0.008347\n",
              "7                   7  Half And Half Ultra Pasteurized  0.031720\n",
              "8                   8  Half And Half Ultra Pasteurized  0.107846\n",
              "9                   9  Half And Half Ultra Pasteurized  0.160267\n",
              "10                 10  Half And Half Ultra Pasteurized  0.143239\n",
              "11                 11  Half And Half Ultra Pasteurized  0.097496\n",
              "12                 12  Half And Half Ultra Pasteurized  0.066778\n",
              "13                 13  Half And Half Ultra Pasteurized  0.071119\n",
              "14                 14  Half And Half Ultra Pasteurized  0.071786\n",
              "15                 15  Half And Half Ultra Pasteurized  0.074124\n",
              "16                 16  Half And Half Ultra Pasteurized  0.072788\n",
              "17                 17  Half And Half Ultra Pasteurized  0.037062\n",
              "18                 18  Half And Half Ultra Pasteurized  0.018698\n",
              "19                 19  Half And Half Ultra Pasteurized  0.009349\n",
              "20                 20  Half And Half Ultra Pasteurized  0.010684\n",
              "21                 21  Half And Half Ultra Pasteurized  0.007679\n",
              "22                 22  Half And Half Ultra Pasteurized  0.004007\n",
              "23                 23  Half And Half Ultra Pasteurized  0.002671\n",
              "24                  0         Half Baked Frozen Yogurt  0.005364\n",
              "25                  1         Half Baked Frozen Yogurt  0.002682\n",
              "26                  2         Half Baked Frozen Yogurt  0.002682\n",
              "27                  3         Half Baked Frozen Yogurt  0.001006\n",
              "28                  4         Half Baked Frozen Yogurt  0.000670\n",
              "29                  5         Half Baked Frozen Yogurt  0.003352\n",
              "30                  6         Half Baked Frozen Yogurt  0.006034\n",
              "31                  7         Half Baked Frozen Yogurt  0.019779\n",
              "32                  8         Half Baked Frozen Yogurt  0.029836\n",
              "33                  9         Half Baked Frozen Yogurt  0.042910\n",
              "34                 10         Half Baked Frozen Yogurt  0.059001\n",
              "35                 11         Half Baked Frozen Yogurt  0.067717\n",
              "36                 12         Half Baked Frozen Yogurt  0.065035\n",
              "37                 13         Half Baked Frozen Yogurt  0.078780\n",
              "38                 14         Half Baked Frozen Yogurt  0.084479\n",
              "39                 15         Half Baked Frozen Yogurt  0.095206\n",
              "40                 16         Half Baked Frozen Yogurt  0.092189\n",
              "41                 17         Half Baked Frozen Yogurt  0.084814\n",
              "42                 18         Half Baked Frozen Yogurt  0.085484\n",
              "43                 19         Half Baked Frozen Yogurt  0.066376\n",
              "44                 20         Half Baked Frozen Yogurt  0.049279\n",
              "45                 21         Half Baked Frozen Yogurt  0.028830\n",
              "46                 22         Half Baked Frozen Yogurt  0.016426\n",
              "47                 23         Half Baked Frozen Yogurt  0.012068"
            ]
          },
          "metadata": {
            "tags": []
          },
          "execution_count": 116
        }
      ]
    },
    {
      "cell_type": "code",
      "metadata": {
        "id": "tGsUDMq8E6TP",
        "colab_type": "code",
        "colab": {
          "base_uri": "https://localhost:8080/",
          "height": 1000
        },
        "outputId": "d61f50b3-06e5-4a05-aa3a-86f001a3bf72"
      },
      "source": [
        "# rename column headers\n",
        "\n",
        "melted = melted.rename(columns={\n",
        "     'order_hour_of_day': 'Hour of Day Ordered', \n",
        "     'product_name': 'Product', \n",
        "     'value': 'Percent of Orders by Product'\n",
        " })\n",
        "\n",
        "melted"
      ],
      "execution_count": null,
      "outputs": [
        {
          "output_type": "execute_result",
          "data": {
            "text/html": [
              "<div>\n",
              "<style scoped>\n",
              "    .dataframe tbody tr th:only-of-type {\n",
              "        vertical-align: middle;\n",
              "    }\n",
              "\n",
              "    .dataframe tbody tr th {\n",
              "        vertical-align: top;\n",
              "    }\n",
              "\n",
              "    .dataframe thead th {\n",
              "        text-align: right;\n",
              "    }\n",
              "</style>\n",
              "<table border=\"1\" class=\"dataframe\">\n",
              "  <thead>\n",
              "    <tr style=\"text-align: right;\">\n",
              "      <th></th>\n",
              "      <th>Hour of Day Ordered</th>\n",
              "      <th>Product</th>\n",
              "      <th>Percent of Orders by Product</th>\n",
              "    </tr>\n",
              "  </thead>\n",
              "  <tbody>\n",
              "    <tr>\n",
              "      <th>0</th>\n",
              "      <td>0</td>\n",
              "      <td>Half And Half Ultra Pasteurized</td>\n",
              "      <td>0.002003</td>\n",
              "    </tr>\n",
              "    <tr>\n",
              "      <th>1</th>\n",
              "      <td>1</td>\n",
              "      <td>Half And Half Ultra Pasteurized</td>\n",
              "      <td>0.000334</td>\n",
              "    </tr>\n",
              "    <tr>\n",
              "      <th>2</th>\n",
              "      <td>2</td>\n",
              "      <td>Half And Half Ultra Pasteurized</td>\n",
              "      <td>0.000334</td>\n",
              "    </tr>\n",
              "    <tr>\n",
              "      <th>3</th>\n",
              "      <td>3</td>\n",
              "      <td>Half And Half Ultra Pasteurized</td>\n",
              "      <td>0.000000</td>\n",
              "    </tr>\n",
              "    <tr>\n",
              "      <th>4</th>\n",
              "      <td>4</td>\n",
              "      <td>Half And Half Ultra Pasteurized</td>\n",
              "      <td>0.000334</td>\n",
              "    </tr>\n",
              "    <tr>\n",
              "      <th>5</th>\n",
              "      <td>5</td>\n",
              "      <td>Half And Half Ultra Pasteurized</td>\n",
              "      <td>0.001336</td>\n",
              "    </tr>\n",
              "    <tr>\n",
              "      <th>6</th>\n",
              "      <td>6</td>\n",
              "      <td>Half And Half Ultra Pasteurized</td>\n",
              "      <td>0.008347</td>\n",
              "    </tr>\n",
              "    <tr>\n",
              "      <th>7</th>\n",
              "      <td>7</td>\n",
              "      <td>Half And Half Ultra Pasteurized</td>\n",
              "      <td>0.031720</td>\n",
              "    </tr>\n",
              "    <tr>\n",
              "      <th>8</th>\n",
              "      <td>8</td>\n",
              "      <td>Half And Half Ultra Pasteurized</td>\n",
              "      <td>0.107846</td>\n",
              "    </tr>\n",
              "    <tr>\n",
              "      <th>9</th>\n",
              "      <td>9</td>\n",
              "      <td>Half And Half Ultra Pasteurized</td>\n",
              "      <td>0.160267</td>\n",
              "    </tr>\n",
              "    <tr>\n",
              "      <th>10</th>\n",
              "      <td>10</td>\n",
              "      <td>Half And Half Ultra Pasteurized</td>\n",
              "      <td>0.143239</td>\n",
              "    </tr>\n",
              "    <tr>\n",
              "      <th>11</th>\n",
              "      <td>11</td>\n",
              "      <td>Half And Half Ultra Pasteurized</td>\n",
              "      <td>0.097496</td>\n",
              "    </tr>\n",
              "    <tr>\n",
              "      <th>12</th>\n",
              "      <td>12</td>\n",
              "      <td>Half And Half Ultra Pasteurized</td>\n",
              "      <td>0.066778</td>\n",
              "    </tr>\n",
              "    <tr>\n",
              "      <th>13</th>\n",
              "      <td>13</td>\n",
              "      <td>Half And Half Ultra Pasteurized</td>\n",
              "      <td>0.071119</td>\n",
              "    </tr>\n",
              "    <tr>\n",
              "      <th>14</th>\n",
              "      <td>14</td>\n",
              "      <td>Half And Half Ultra Pasteurized</td>\n",
              "      <td>0.071786</td>\n",
              "    </tr>\n",
              "    <tr>\n",
              "      <th>15</th>\n",
              "      <td>15</td>\n",
              "      <td>Half And Half Ultra Pasteurized</td>\n",
              "      <td>0.074124</td>\n",
              "    </tr>\n",
              "    <tr>\n",
              "      <th>16</th>\n",
              "      <td>16</td>\n",
              "      <td>Half And Half Ultra Pasteurized</td>\n",
              "      <td>0.072788</td>\n",
              "    </tr>\n",
              "    <tr>\n",
              "      <th>17</th>\n",
              "      <td>17</td>\n",
              "      <td>Half And Half Ultra Pasteurized</td>\n",
              "      <td>0.037062</td>\n",
              "    </tr>\n",
              "    <tr>\n",
              "      <th>18</th>\n",
              "      <td>18</td>\n",
              "      <td>Half And Half Ultra Pasteurized</td>\n",
              "      <td>0.018698</td>\n",
              "    </tr>\n",
              "    <tr>\n",
              "      <th>19</th>\n",
              "      <td>19</td>\n",
              "      <td>Half And Half Ultra Pasteurized</td>\n",
              "      <td>0.009349</td>\n",
              "    </tr>\n",
              "    <tr>\n",
              "      <th>20</th>\n",
              "      <td>20</td>\n",
              "      <td>Half And Half Ultra Pasteurized</td>\n",
              "      <td>0.010684</td>\n",
              "    </tr>\n",
              "    <tr>\n",
              "      <th>21</th>\n",
              "      <td>21</td>\n",
              "      <td>Half And Half Ultra Pasteurized</td>\n",
              "      <td>0.007679</td>\n",
              "    </tr>\n",
              "    <tr>\n",
              "      <th>22</th>\n",
              "      <td>22</td>\n",
              "      <td>Half And Half Ultra Pasteurized</td>\n",
              "      <td>0.004007</td>\n",
              "    </tr>\n",
              "    <tr>\n",
              "      <th>23</th>\n",
              "      <td>23</td>\n",
              "      <td>Half And Half Ultra Pasteurized</td>\n",
              "      <td>0.002671</td>\n",
              "    </tr>\n",
              "    <tr>\n",
              "      <th>24</th>\n",
              "      <td>0</td>\n",
              "      <td>Half Baked Frozen Yogurt</td>\n",
              "      <td>0.005364</td>\n",
              "    </tr>\n",
              "    <tr>\n",
              "      <th>25</th>\n",
              "      <td>1</td>\n",
              "      <td>Half Baked Frozen Yogurt</td>\n",
              "      <td>0.002682</td>\n",
              "    </tr>\n",
              "    <tr>\n",
              "      <th>26</th>\n",
              "      <td>2</td>\n",
              "      <td>Half Baked Frozen Yogurt</td>\n",
              "      <td>0.002682</td>\n",
              "    </tr>\n",
              "    <tr>\n",
              "      <th>27</th>\n",
              "      <td>3</td>\n",
              "      <td>Half Baked Frozen Yogurt</td>\n",
              "      <td>0.001006</td>\n",
              "    </tr>\n",
              "    <tr>\n",
              "      <th>28</th>\n",
              "      <td>4</td>\n",
              "      <td>Half Baked Frozen Yogurt</td>\n",
              "      <td>0.000670</td>\n",
              "    </tr>\n",
              "    <tr>\n",
              "      <th>29</th>\n",
              "      <td>5</td>\n",
              "      <td>Half Baked Frozen Yogurt</td>\n",
              "      <td>0.003352</td>\n",
              "    </tr>\n",
              "    <tr>\n",
              "      <th>30</th>\n",
              "      <td>6</td>\n",
              "      <td>Half Baked Frozen Yogurt</td>\n",
              "      <td>0.006034</td>\n",
              "    </tr>\n",
              "    <tr>\n",
              "      <th>31</th>\n",
              "      <td>7</td>\n",
              "      <td>Half Baked Frozen Yogurt</td>\n",
              "      <td>0.019779</td>\n",
              "    </tr>\n",
              "    <tr>\n",
              "      <th>32</th>\n",
              "      <td>8</td>\n",
              "      <td>Half Baked Frozen Yogurt</td>\n",
              "      <td>0.029836</td>\n",
              "    </tr>\n",
              "    <tr>\n",
              "      <th>33</th>\n",
              "      <td>9</td>\n",
              "      <td>Half Baked Frozen Yogurt</td>\n",
              "      <td>0.042910</td>\n",
              "    </tr>\n",
              "    <tr>\n",
              "      <th>34</th>\n",
              "      <td>10</td>\n",
              "      <td>Half Baked Frozen Yogurt</td>\n",
              "      <td>0.059001</td>\n",
              "    </tr>\n",
              "    <tr>\n",
              "      <th>35</th>\n",
              "      <td>11</td>\n",
              "      <td>Half Baked Frozen Yogurt</td>\n",
              "      <td>0.067717</td>\n",
              "    </tr>\n",
              "    <tr>\n",
              "      <th>36</th>\n",
              "      <td>12</td>\n",
              "      <td>Half Baked Frozen Yogurt</td>\n",
              "      <td>0.065035</td>\n",
              "    </tr>\n",
              "    <tr>\n",
              "      <th>37</th>\n",
              "      <td>13</td>\n",
              "      <td>Half Baked Frozen Yogurt</td>\n",
              "      <td>0.078780</td>\n",
              "    </tr>\n",
              "    <tr>\n",
              "      <th>38</th>\n",
              "      <td>14</td>\n",
              "      <td>Half Baked Frozen Yogurt</td>\n",
              "      <td>0.084479</td>\n",
              "    </tr>\n",
              "    <tr>\n",
              "      <th>39</th>\n",
              "      <td>15</td>\n",
              "      <td>Half Baked Frozen Yogurt</td>\n",
              "      <td>0.095206</td>\n",
              "    </tr>\n",
              "    <tr>\n",
              "      <th>40</th>\n",
              "      <td>16</td>\n",
              "      <td>Half Baked Frozen Yogurt</td>\n",
              "      <td>0.092189</td>\n",
              "    </tr>\n",
              "    <tr>\n",
              "      <th>41</th>\n",
              "      <td>17</td>\n",
              "      <td>Half Baked Frozen Yogurt</td>\n",
              "      <td>0.084814</td>\n",
              "    </tr>\n",
              "    <tr>\n",
              "      <th>42</th>\n",
              "      <td>18</td>\n",
              "      <td>Half Baked Frozen Yogurt</td>\n",
              "      <td>0.085484</td>\n",
              "    </tr>\n",
              "    <tr>\n",
              "      <th>43</th>\n",
              "      <td>19</td>\n",
              "      <td>Half Baked Frozen Yogurt</td>\n",
              "      <td>0.066376</td>\n",
              "    </tr>\n",
              "    <tr>\n",
              "      <th>44</th>\n",
              "      <td>20</td>\n",
              "      <td>Half Baked Frozen Yogurt</td>\n",
              "      <td>0.049279</td>\n",
              "    </tr>\n",
              "    <tr>\n",
              "      <th>45</th>\n",
              "      <td>21</td>\n",
              "      <td>Half Baked Frozen Yogurt</td>\n",
              "      <td>0.028830</td>\n",
              "    </tr>\n",
              "    <tr>\n",
              "      <th>46</th>\n",
              "      <td>22</td>\n",
              "      <td>Half Baked Frozen Yogurt</td>\n",
              "      <td>0.016426</td>\n",
              "    </tr>\n",
              "    <tr>\n",
              "      <th>47</th>\n",
              "      <td>23</td>\n",
              "      <td>Half Baked Frozen Yogurt</td>\n",
              "      <td>0.012068</td>\n",
              "    </tr>\n",
              "  </tbody>\n",
              "</table>\n",
              "</div>"
            ],
            "text/plain": [
              "    Hour of Day Ordered  ... Percent of Orders by Product\n",
              "0                     0  ...                     0.002003\n",
              "1                     1  ...                     0.000334\n",
              "2                     2  ...                     0.000334\n",
              "3                     3  ...                     0.000000\n",
              "4                     4  ...                     0.000334\n",
              "5                     5  ...                     0.001336\n",
              "6                     6  ...                     0.008347\n",
              "7                     7  ...                     0.031720\n",
              "8                     8  ...                     0.107846\n",
              "9                     9  ...                     0.160267\n",
              "10                   10  ...                     0.143239\n",
              "11                   11  ...                     0.097496\n",
              "12                   12  ...                     0.066778\n",
              "13                   13  ...                     0.071119\n",
              "14                   14  ...                     0.071786\n",
              "15                   15  ...                     0.074124\n",
              "16                   16  ...                     0.072788\n",
              "17                   17  ...                     0.037062\n",
              "18                   18  ...                     0.018698\n",
              "19                   19  ...                     0.009349\n",
              "20                   20  ...                     0.010684\n",
              "21                   21  ...                     0.007679\n",
              "22                   22  ...                     0.004007\n",
              "23                   23  ...                     0.002671\n",
              "24                    0  ...                     0.005364\n",
              "25                    1  ...                     0.002682\n",
              "26                    2  ...                     0.002682\n",
              "27                    3  ...                     0.001006\n",
              "28                    4  ...                     0.000670\n",
              "29                    5  ...                     0.003352\n",
              "30                    6  ...                     0.006034\n",
              "31                    7  ...                     0.019779\n",
              "32                    8  ...                     0.029836\n",
              "33                    9  ...                     0.042910\n",
              "34                   10  ...                     0.059001\n",
              "35                   11  ...                     0.067717\n",
              "36                   12  ...                     0.065035\n",
              "37                   13  ...                     0.078780\n",
              "38                   14  ...                     0.084479\n",
              "39                   15  ...                     0.095206\n",
              "40                   16  ...                     0.092189\n",
              "41                   17  ...                     0.084814\n",
              "42                   18  ...                     0.085484\n",
              "43                   19  ...                     0.066376\n",
              "44                   20  ...                     0.049279\n",
              "45                   21  ...                     0.028830\n",
              "46                   22  ...                     0.016426\n",
              "47                   23  ...                     0.012068\n",
              "\n",
              "[48 rows x 3 columns]"
            ]
          },
          "metadata": {
            "tags": []
          },
          "execution_count": 117
        }
      ]
    },
    {
      "cell_type": "markdown",
      "metadata": {
        "id": "blu1emcSE95R",
        "colab_type": "text"
      },
      "source": [
        "Now, with Seaborn:"
      ]
    },
    {
      "cell_type": "code",
      "metadata": {
        "id": "gTusUe1WE-57",
        "colab_type": "code",
        "colab": {
          "base_uri": "https://localhost:8080/",
          "height": 369
        },
        "outputId": "86ca96a5-108a-4bd7-d1f7-6db04f4749f0"
      },
      "source": [
        "sns.relplot(x='Hour of Day Ordered', \n",
        "            y='Percent of Orders by Product', \n",
        "            hue='Product',\n",
        "            data=melted,\n",
        "            kind='line');"
      ],
      "execution_count": null,
      "outputs": [
        {
          "output_type": "display_data",
          "data": {
            "image/png": "[encoded data removed]",
            "text/plain": [
              "<Figure size 550.625x360 with 1 Axes>"
            ]
          },
          "metadata": {
            "tags": [],
            "needs_background": "light"
          }
        }
      ]
    }
  ]
}