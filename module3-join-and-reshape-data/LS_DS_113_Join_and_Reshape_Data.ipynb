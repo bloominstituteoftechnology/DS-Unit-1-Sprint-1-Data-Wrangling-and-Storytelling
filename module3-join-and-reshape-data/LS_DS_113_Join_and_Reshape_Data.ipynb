{
 "cells": [
  {
   "cell_type": "markdown",
   "metadata": {
    "colab_type": "text",
    "id": "view-in-github"
   },
   "source": [
    "<a href=\"https://colab.research.google.com/github/ryanleeallred/DS-Unit-1-Sprint-1-Data-Wrangling-and-Storytelling/blob/master/module3-join-and-reshape-data/LS_DS_113_Join_and_Reshape_Data.ipynb\" target=\"_parent\"><img src=\"https://colab.research.google.com/assets/colab-badge.svg\" alt=\"Open In Colab\"/></a>"
   ]
  },
  {
   "cell_type": "markdown",
   "metadata": {
    "colab_type": "text",
    "id": "UQqT5ie4vdDS"
   },
   "source": [
    "Lambda School Data Science\n",
    "\n",
    "*Unit 1, Sprint 1, Module 3*\n",
    "\n",
    "---\n",
    "\n"
   ]
  },
  {
   "cell_type": "markdown",
   "metadata": {
    "colab_type": "text",
    "id": "kOI3YimSvopw"
   },
   "source": [
    "# Join and Reshape Data \n",
    "\n",
    "- Student can concatenate data with pandas\n",
    "- Student can merge data with pandas\n",
    "- Student can understand and describe tidy data formatting\n",
    "- Student can use the `.melt()` and `.pivot()` functions to translate between wide and tidy data format.\n",
    "\n",
    "Helpful Links:\n",
    "- [Pandas Cheat Sheet](https://github.com/pandas-dev/pandas/blob/master/doc/cheatsheet/Pandas_Cheat_Sheet.pdf)\n",
    "- [Tidy Data](https://en.wikipedia.org/wiki/Tidy_data)\n",
    "  - Combine Data Sets: Standard Joins\n",
    "  - Tidy Data\n",
    "  - Reshaping Data\n",
    "- Python Data Science Handbook\n",
    "  - [Chapter 3.6](https://jakevdp.github.io/PythonDataScienceHandbook/03.06-concat-and-append.html), Combining Datasets: Concat and Append\n",
    "  - [Chapter 3.7](https://jakevdp.github.io/PythonDataScienceHandbook/03.07-merge-and-join.html), Combining Datasets: Merge and Join\n",
    "  - [Chapter 3.8](https://jakevdp.github.io/PythonDataScienceHandbook/03.08-aggregation-and-grouping.html), Aggregation and Grouping\n",
    "  - [Chapter 3.9](https://jakevdp.github.io/PythonDataScienceHandbook/03.09-pivot-tables.html), Pivot Tables"
   ]
  },
  {
   "cell_type": "markdown",
   "metadata": {
    "colab_type": "text",
    "id": "b_gXHprXvqVx"
   },
   "source": [
    "# [Objective](#concat) Concatenate dataframes with pandas\n",
    "\n"
   ]
  },
  {
   "cell_type": "markdown",
   "metadata": {
    "colab_type": "text",
    "id": "mPVHZevR04pV"
   },
   "source": [
    "## Overview\n",
    "\n",
    "\"Concatenate\" is a fancy word for joining two things together. For example, we can concatenate two strings together using the `+` operator."
   ]
  },
  {
   "cell_type": "code",
   "execution_count": 3,
   "metadata": {
    "colab": {
     "base_uri": "https://localhost:8080/",
     "height": 35
    },
    "colab_type": "code",
    "id": "NeAeYKwN08q3",
    "outputId": "96096b9e-db61-41e5-fe96-21f3a7bb5593"
   },
   "outputs": [
    {
     "data": {
      "text/plain": [
       "'We can join/concatenate two strings together using the \"+\" operator.'"
      ]
     },
     "execution_count": 3,
     "metadata": {
      "tags": []
     },
     "output_type": "execute_result"
    }
   ],
   "source": [
    "'We can join/concatenate two strings together ' + 'using the \"+\" operator.'"
   ]
  },
  {
   "cell_type": "markdown",
   "metadata": {
    "colab_type": "text",
    "id": "QIgxXomn7iHC"
   },
   "source": [
    "When we \"concatenate\" two dataframes we will \"stick them together\" either by rows or columns. Lets look at some simple examples:"
   ]
  },
  {
   "cell_type": "code",
   "execution_count": null,
   "metadata": {
    "colab": {},
    "colab_type": "code",
    "id": "O6MbummV9kgH"
   },
   "outputs": [],
   "source": [
    "import pandas as pd"
   ]
  },
  {
   "cell_type": "code",
   "execution_count": null,
   "metadata": {
    "colab": {},
    "colab_type": "code",
    "id": "q1aKHYuH8BTX"
   },
   "outputs": [],
   "source": [
    "df1 = pd.DataFrame({'a': [1,2,3,4], 'b': [4,5,6,7], 'c': [7,8,9,10]})\n",
    "\n",
    "df2 = pd.DataFrame({'a': [6,4,8,7], 'b': [9,4,3,2], 'c': [1,6,2,9]})"
   ]
  },
  {
   "cell_type": "code",
   "execution_count": 6,
   "metadata": {
    "colab": {
     "base_uri": "https://localhost:8080/",
     "height": 171
    },
    "colab_type": "code",
    "id": "blLFOpK-8Zwq",
    "outputId": "eff5b916-86dc-4122-cc72-72a8e6090ef1"
   },
   "outputs": [
    {
     "data": {
      "text/html": [
       "<div>\n",
       "<style scoped>\n",
       "    .dataframe tbody tr th:only-of-type {\n",
       "        vertical-align: middle;\n",
       "    }\n",
       "\n",
       "    .dataframe tbody tr th {\n",
       "        vertical-align: top;\n",
       "    }\n",
       "\n",
       "    .dataframe thead th {\n",
       "        text-align: right;\n",
       "    }\n",
       "</style>\n",
       "<table border=\"1\" class=\"dataframe\">\n",
       "  <thead>\n",
       "    <tr style=\"text-align: right;\">\n",
       "      <th></th>\n",
       "      <th>a</th>\n",
       "      <th>b</th>\n",
       "      <th>c</th>\n",
       "    </tr>\n",
       "  </thead>\n",
       "  <tbody>\n",
       "    <tr>\n",
       "      <th>0</th>\n",
       "      <td>1</td>\n",
       "      <td>4</td>\n",
       "      <td>7</td>\n",
       "    </tr>\n",
       "    <tr>\n",
       "      <th>1</th>\n",
       "      <td>2</td>\n",
       "      <td>5</td>\n",
       "      <td>8</td>\n",
       "    </tr>\n",
       "    <tr>\n",
       "      <th>2</th>\n",
       "      <td>3</td>\n",
       "      <td>6</td>\n",
       "      <td>9</td>\n",
       "    </tr>\n",
       "    <tr>\n",
       "      <th>3</th>\n",
       "      <td>4</td>\n",
       "      <td>7</td>\n",
       "      <td>10</td>\n",
       "    </tr>\n",
       "  </tbody>\n",
       "</table>\n",
       "</div>"
      ],
      "text/plain": [
       "   a  b   c\n",
       "0  1  4   7\n",
       "1  2  5   8\n",
       "2  3  6   9\n",
       "3  4  7  10"
      ]
     },
     "execution_count": 6,
     "metadata": {
      "tags": []
     },
     "output_type": "execute_result"
    }
   ],
   "source": [
    "df1.head()"
   ]
  },
  {
   "cell_type": "code",
   "execution_count": 7,
   "metadata": {
    "colab": {
     "base_uri": "https://localhost:8080/",
     "height": 171
    },
    "colab_type": "code",
    "id": "olRWT5VK8bl2",
    "outputId": "c356ca67-1497-41cc-a65c-12211732febe"
   },
   "outputs": [
    {
     "data": {
      "text/html": [
       "<div>\n",
       "<style scoped>\n",
       "    .dataframe tbody tr th:only-of-type {\n",
       "        vertical-align: middle;\n",
       "    }\n",
       "\n",
       "    .dataframe tbody tr th {\n",
       "        vertical-align: top;\n",
       "    }\n",
       "\n",
       "    .dataframe thead th {\n",
       "        text-align: right;\n",
       "    }\n",
       "</style>\n",
       "<table border=\"1\" class=\"dataframe\">\n",
       "  <thead>\n",
       "    <tr style=\"text-align: right;\">\n",
       "      <th></th>\n",
       "      <th>a</th>\n",
       "      <th>b</th>\n",
       "      <th>c</th>\n",
       "    </tr>\n",
       "  </thead>\n",
       "  <tbody>\n",
       "    <tr>\n",
       "      <th>0</th>\n",
       "      <td>6</td>\n",
       "      <td>9</td>\n",
       "      <td>1</td>\n",
       "    </tr>\n",
       "    <tr>\n",
       "      <th>1</th>\n",
       "      <td>4</td>\n",
       "      <td>4</td>\n",
       "      <td>6</td>\n",
       "    </tr>\n",
       "    <tr>\n",
       "      <th>2</th>\n",
       "      <td>8</td>\n",
       "      <td>3</td>\n",
       "      <td>2</td>\n",
       "    </tr>\n",
       "    <tr>\n",
       "      <th>3</th>\n",
       "      <td>7</td>\n",
       "      <td>2</td>\n",
       "      <td>9</td>\n",
       "    </tr>\n",
       "  </tbody>\n",
       "</table>\n",
       "</div>"
      ],
      "text/plain": [
       "   a  b  c\n",
       "0  6  9  1\n",
       "1  4  4  6\n",
       "2  8  3  2\n",
       "3  7  2  9"
      ]
     },
     "execution_count": 7,
     "metadata": {
      "tags": []
     },
     "output_type": "execute_result"
    }
   ],
   "source": [
    "df2.head()"
   ]
  },
  {
   "cell_type": "markdown",
   "metadata": {
    "colab_type": "text",
    "id": "FBh-mGzI8k3l"
   },
   "source": [
    "### Concatenate by Rows \n",
    "\n",
    "concatenating by rows is the default behavior of `pd.concat()` This is often the most common form of concatenation. "
   ]
  },
  {
   "cell_type": "code",
   "execution_count": null,
   "metadata": {
    "colab": {},
    "colab_type": "code",
    "id": "QCw6DJxR8m6T"
   },
   "outputs": [],
   "source": []
  },
  {
   "cell_type": "markdown",
   "metadata": {
    "colab_type": "text",
    "id": "EvZH9k-e8ohe"
   },
   "source": [
    "### Concatenate by Columns"
   ]
  },
  {
   "cell_type": "code",
   "execution_count": null,
   "metadata": {
    "colab": {},
    "colab_type": "code",
    "id": "-fCzFQxx9D7b"
   },
   "outputs": [],
   "source": []
  },
  {
   "cell_type": "markdown",
   "metadata": {
    "colab_type": "text",
    "id": "2-NxpMCr9WOS"
   },
   "source": [
    "When concatenating dataframes, it is done using the column headers and row index values to match rows up. If these don't match up, then `NaN` values will be added where matches can't be found. "
   ]
  },
  {
   "cell_type": "code",
   "execution_count": null,
   "metadata": {
    "colab": {},
    "colab_type": "code",
    "id": "luR-nvD99tBa"
   },
   "outputs": [],
   "source": [
    "df3 = pd.DataFrame({'a': [4,3,2,1], 'b': [4,5,6,7], 'c': [7,8,9,10]})\n",
    "\n",
    "df4 = pd.DataFrame({'a': [6,4,8,7,8], 'b': [9,4,3,2,1], 'd': [1,6,2,9,5]})"
   ]
  },
  {
   "cell_type": "code",
   "execution_count": 9,
   "metadata": {
    "colab": {
     "base_uri": "https://localhost:8080/",
     "height": 171
    },
    "colab_type": "code",
    "id": "Bj-FdzVf97mn",
    "outputId": "bf6e67ad-3c21-48df-b267-f527d615c5b0"
   },
   "outputs": [
    {
     "data": {
      "text/html": [
       "<div>\n",
       "<style scoped>\n",
       "    .dataframe tbody tr th:only-of-type {\n",
       "        vertical-align: middle;\n",
       "    }\n",
       "\n",
       "    .dataframe tbody tr th {\n",
       "        vertical-align: top;\n",
       "    }\n",
       "\n",
       "    .dataframe thead th {\n",
       "        text-align: right;\n",
       "    }\n",
       "</style>\n",
       "<table border=\"1\" class=\"dataframe\">\n",
       "  <thead>\n",
       "    <tr style=\"text-align: right;\">\n",
       "      <th></th>\n",
       "      <th>a</th>\n",
       "      <th>b</th>\n",
       "      <th>c</th>\n",
       "    </tr>\n",
       "  </thead>\n",
       "  <tbody>\n",
       "    <tr>\n",
       "      <th>0</th>\n",
       "      <td>4</td>\n",
       "      <td>4</td>\n",
       "      <td>7</td>\n",
       "    </tr>\n",
       "    <tr>\n",
       "      <th>1</th>\n",
       "      <td>3</td>\n",
       "      <td>5</td>\n",
       "      <td>8</td>\n",
       "    </tr>\n",
       "    <tr>\n",
       "      <th>2</th>\n",
       "      <td>2</td>\n",
       "      <td>6</td>\n",
       "      <td>9</td>\n",
       "    </tr>\n",
       "    <tr>\n",
       "      <th>3</th>\n",
       "      <td>1</td>\n",
       "      <td>7</td>\n",
       "      <td>10</td>\n",
       "    </tr>\n",
       "  </tbody>\n",
       "</table>\n",
       "</div>"
      ],
      "text/plain": [
       "   a  b   c\n",
       "0  4  4   7\n",
       "1  3  5   8\n",
       "2  2  6   9\n",
       "3  1  7  10"
      ]
     },
     "execution_count": 9,
     "metadata": {
      "tags": []
     },
     "output_type": "execute_result"
    }
   ],
   "source": [
    "df3.head()"
   ]
  },
  {
   "cell_type": "code",
   "execution_count": null,
   "metadata": {
    "colab": {
     "base_uri": "https://localhost:8080/",
     "height": 198
    },
    "colab_type": "code",
    "id": "vfZ_wekl99-e",
    "outputId": "d4735e48-9bda-49ef-fcc8-22e7a58bb9cd"
   },
   "outputs": [
    {
     "data": {
      "text/html": [
       "<div>\n",
       "<style scoped>\n",
       "    .dataframe tbody tr th:only-of-type {\n",
       "        vertical-align: middle;\n",
       "    }\n",
       "\n",
       "    .dataframe tbody tr th {\n",
       "        vertical-align: top;\n",
       "    }\n",
       "\n",
       "    .dataframe thead th {\n",
       "        text-align: right;\n",
       "    }\n",
       "</style>\n",
       "<table border=\"1\" class=\"dataframe\">\n",
       "  <thead>\n",
       "    <tr style=\"text-align: right;\">\n",
       "      <th></th>\n",
       "      <th>a</th>\n",
       "      <th>b</th>\n",
       "      <th>d</th>\n",
       "    </tr>\n",
       "  </thead>\n",
       "  <tbody>\n",
       "    <tr>\n",
       "      <th>0</th>\n",
       "      <td>6</td>\n",
       "      <td>9</td>\n",
       "      <td>1</td>\n",
       "    </tr>\n",
       "    <tr>\n",
       "      <th>1</th>\n",
       "      <td>4</td>\n",
       "      <td>4</td>\n",
       "      <td>6</td>\n",
       "    </tr>\n",
       "    <tr>\n",
       "      <th>2</th>\n",
       "      <td>8</td>\n",
       "      <td>3</td>\n",
       "      <td>2</td>\n",
       "    </tr>\n",
       "    <tr>\n",
       "      <th>3</th>\n",
       "      <td>7</td>\n",
       "      <td>2</td>\n",
       "      <td>9</td>\n",
       "    </tr>\n",
       "    <tr>\n",
       "      <th>4</th>\n",
       "      <td>8</td>\n",
       "      <td>1</td>\n",
       "      <td>5</td>\n",
       "    </tr>\n",
       "  </tbody>\n",
       "</table>\n",
       "</div>"
      ],
      "text/plain": [
       "   a  b  d\n",
       "0  6  9  1\n",
       "1  4  4  6\n",
       "2  8  3  2\n",
       "3  7  2  9\n",
       "4  8  1  5"
      ]
     },
     "execution_count": 10,
     "metadata": {
      "tags": []
     },
     "output_type": "execute_result"
    }
   ],
   "source": [
    "df4.head()"
   ]
  },
  {
   "cell_type": "markdown",
   "metadata": {
    "colab_type": "text",
    "id": "pOuoIdey-kCD"
   },
   "source": [
    "### Concatenate by rows when not all column headers match"
   ]
  },
  {
   "cell_type": "code",
   "execution_count": null,
   "metadata": {
    "colab": {},
    "colab_type": "code",
    "id": "5FpZdgat-EQD"
   },
   "outputs": [],
   "source": []
  },
  {
   "cell_type": "markdown",
   "metadata": {
    "colab_type": "text",
    "id": "Al203GNp-qVS"
   },
   "source": [
    "### Concatenate by columns when not all row indexes match"
   ]
  },
  {
   "cell_type": "code",
   "execution_count": null,
   "metadata": {
    "colab": {},
    "colab_type": "code",
    "id": "lc2ngk3O-YCv"
   },
   "outputs": [],
   "source": []
  },
  {
   "cell_type": "markdown",
   "metadata": {
    "colab_type": "text",
    "id": "jUpWwpdSBJGd"
   },
   "source": [
    "Whenever we are combining dataframes, if appropriate values cannot be found based on the rules of the method we are using, then missing values will be filled with `NaNs`."
   ]
  },
  {
   "cell_type": "markdown",
   "metadata": {
    "colab_type": "text",
    "id": "k8YGJ8Wm1AG3"
   },
   "source": [
    "## Follow Along\n",
    "\n"
   ]
  },
  {
   "cell_type": "markdown",
   "metadata": {
    "colab_type": "text",
    "id": "hbH8CcozBcyI"
   },
   "source": [
    "We’ll work with a dataset of [3 Million Instacart Orders, Open Sourced](https://tech.instacart.com/3-million-instacart-orders-open-sourced-d40d29ead6f2)!\n",
    "\n",
    "The files that we will be working with are in a folder of CSVs, we need to load that folder of CSVs, explore the CSVs to make sure that we understand what we're working with, and where the important data lies, and then work to combine the dataframes together as necessary. \n",
    "\n",
    "\n",
    "\n",
    "Our goal is to reproduce this table which holds the first two orders for user id 1.\n"
   ]
  },
  {
   "cell_type": "code",
   "execution_count": null,
   "metadata": {
    "colab": {
     "base_uri": "https://localhost:8080/",
     "height": 313
    },
    "colab_type": "code",
    "id": "3xugHGV5C60D",
    "outputId": "5e61ab6f-3a8c-4910-d714-3a8237bd16a4"
   },
   "outputs": [
    {
     "data": {
      "text/html": [
       "<img src=\"https://cdn-images-1.medium.com/max/1600/1*vYGFQCafJtGBBX5mbl0xyw.png\" width=\"600\"/>"
      ],
      "text/plain": [
       "<IPython.core.display.Image object>"
      ]
     },
     "metadata": {
      "tags": []
     },
     "output_type": "display_data"
    }
   ],
   "source": [
    "from IPython.display import display, Image\n",
    "url = 'https://cdn-images-1.medium.com/max/1600/1*vYGFQCafJtGBBX5mbl0xyw.png'\n",
    "example = Image(url=url, width=600)\n",
    "\n",
    "display(example)"
   ]
  },
  {
   "cell_type": "code",
   "execution_count": null,
   "metadata": {
    "colab": {
     "base_uri": "https://localhost:8080/",
     "height": 207
    },
    "colab_type": "code",
    "id": "4E3wKrdTChuC",
    "outputId": "7a753738-4b22-4770-963f-4bac76f408a8"
   },
   "outputs": [
    {
     "name": "stdout",
     "output_type": "stream",
     "text": [
      "--2019-11-26 04:53:08--  https://s3.amazonaws.com/instacart-datasets/instacart_online_grocery_shopping_2017_05_01.tar.gz\n",
      "Resolving s3.amazonaws.com (s3.amazonaws.com)... 52.216.110.213\n",
      "Connecting to s3.amazonaws.com (s3.amazonaws.com)|52.216.110.213|:443... connected.\n",
      "HTTP request sent, awaiting response... 200 OK\n",
      "Length: 205548478 (196M) [application/x-gzip]\n",
      "Saving to: ‘instacart_online_grocery_shopping_2017_05_01.tar.gz.2’\n",
      "\n",
      "instacart_online_gr 100%[===================>] 196.03M  16.3MB/s    in 13s     \n",
      "\n",
      "2019-11-26 04:53:22 (14.8 MB/s) - ‘instacart_online_grocery_shopping_2017_05_01.tar.gz.2’ saved [205548478/205548478]\n",
      "\n"
     ]
    }
   ],
   "source": [
    "!wget https://s3.amazonaws.com/instacart-datasets/instacart_online_grocery_shopping_2017_05_01.tar.gz"
   ]
  },
  {
   "cell_type": "code",
   "execution_count": null,
   "metadata": {
    "colab": {
     "base_uri": "https://localhost:8080/",
     "height": 242
    },
    "colab_type": "code",
    "id": "dkxqMNGrDJrM",
    "outputId": "5aa9b169-0f21-4b82-895d-262d7bea41f6"
   },
   "outputs": [
    {
     "name": "stdout",
     "output_type": "stream",
     "text": [
      "instacart_2017_05_01/\n",
      "instacart_2017_05_01/._aisles.csv\n",
      "instacart_2017_05_01/aisles.csv\n",
      "instacart_2017_05_01/._departments.csv\n",
      "instacart_2017_05_01/departments.csv\n",
      "instacart_2017_05_01/._order_products__prior.csv\n",
      "instacart_2017_05_01/order_products__prior.csv\n",
      "instacart_2017_05_01/._order_products__train.csv\n",
      "instacart_2017_05_01/order_products__train.csv\n",
      "instacart_2017_05_01/._orders.csv\n",
      "instacart_2017_05_01/orders.csv\n",
      "instacart_2017_05_01/._products.csv\n",
      "instacart_2017_05_01/products.csv\n"
     ]
    }
   ],
   "source": [
    "!tar --gunzip --extract --verbose --file=instacart_online_grocery_shopping_2017_05_01.tar.gz"
   ]
  },
  {
   "cell_type": "code",
   "execution_count": null,
   "metadata": {
    "colab": {
     "base_uri": "https://localhost:8080/",
     "height": 35
    },
    "colab_type": "code",
    "id": "HI5E_tNjCjsV",
    "outputId": "e39f5733-0d1e-478a-e708-a6476574340c"
   },
   "outputs": [
    {
     "name": "stdout",
     "output_type": "stream",
     "text": [
      "/content/instacart_2017_05_01\n"
     ]
    }
   ],
   "source": [
    "%cd instacart_2017_05_01"
   ]
  },
  {
   "cell_type": "code",
   "execution_count": null,
   "metadata": {
    "colab": {
     "base_uri": "https://localhost:8080/",
     "height": 121
    },
    "colab_type": "code",
    "id": "qaDdXbQqCnGc",
    "outputId": "b7940f50-a5be-4417-9e27-720a7db2c5a6"
   },
   "outputs": [
    {
     "name": "stdout",
     "output_type": "stream",
     "text": [
      "-rw-r--r-- 1 502 staff 2.6K May  2  2017 aisles.csv\n",
      "-rw-r--r-- 1 502 staff  270 May  2  2017 departments.csv\n",
      "-rw-r--r-- 1 502 staff 551M May  2  2017 order_products__prior.csv\n",
      "-rw-r--r-- 1 502 staff  24M May  2  2017 order_products__train.csv\n",
      "-rw-r--r-- 1 502 staff 104M May  2  2017 orders.csv\n",
      "-rw-r--r-- 1 502 staff 2.1M May  2  2017 products.csv\n"
     ]
    }
   ],
   "source": [
    "!ls -lh *.csv"
   ]
  },
  {
   "cell_type": "markdown",
   "metadata": {
    "colab_type": "text",
    "id": "MxwByNLoEG9p"
   },
   "source": [
    "### aisles\n",
    "\n",
    "We don't need anything from aisles.csv"
   ]
  },
  {
   "cell_type": "code",
   "execution_count": null,
   "metadata": {
    "colab": {},
    "colab_type": "code",
    "id": "pLmGMr_rCoi-"
   },
   "outputs": [],
   "source": []
  },
  {
   "cell_type": "markdown",
   "metadata": {
    "colab_type": "text",
    "id": "oTPRZsLvENgJ"
   },
   "source": [
    "### departments\n",
    "\n",
    "We don't need anything from departments.csv"
   ]
  },
  {
   "cell_type": "code",
   "execution_count": null,
   "metadata": {
    "colab": {},
    "colab_type": "code",
    "id": "fRVjREe8D6yj"
   },
   "outputs": [],
   "source": []
  },
  {
   "cell_type": "markdown",
   "metadata": {
    "colab_type": "text",
    "id": "U38aOM6nEWOe"
   },
   "source": [
    "### order_products__prior\n",
    "\n",
    "We need:\n",
    "- order id\n",
    "- proudct id\n",
    "- add to cart order\n",
    "\n",
    "Everything except for 'reordered'"
   ]
  },
  {
   "cell_type": "code",
   "execution_count": null,
   "metadata": {
    "colab": {},
    "colab_type": "code",
    "id": "-CMWcWSiD8aW"
   },
   "outputs": [],
   "source": []
  },
  {
   "cell_type": "markdown",
   "metadata": {
    "colab_type": "text",
    "id": "_KRCdSl5E63N"
   },
   "source": [
    "### order_products__train\n",
    "\n",
    "We need:\n",
    "- order id\n",
    "- proudct id\n",
    "- add to cart order\n",
    "\n",
    "Everything except for 'reordered'\n",
    "\n",
    "Do you see anything similar between order_products__train and order_products__prior?\n",
    "\n"
   ]
  },
  {
   "cell_type": "code",
   "execution_count": null,
   "metadata": {
    "colab": {},
    "colab_type": "code",
    "id": "2Pq7lgVUD-a-"
   },
   "outputs": [],
   "source": []
  },
  {
   "cell_type": "markdown",
   "metadata": {
    "colab_type": "text",
    "id": "V2cdftjYFj1k"
   },
   "source": [
    "### orders\n",
    "\n",
    "We need:\n",
    "- order id\n",
    "- user id\n",
    "- order number\n",
    "- order dow\n",
    "- order hour of day"
   ]
  },
  {
   "cell_type": "code",
   "execution_count": null,
   "metadata": {
    "colab": {},
    "colab_type": "code",
    "id": "t9PyqoneEBPd"
   },
   "outputs": [],
   "source": []
  },
  {
   "cell_type": "markdown",
   "metadata": {
    "colab_type": "text",
    "id": "yXyRiuIdFmGU"
   },
   "source": [
    "### products\n",
    "\n",
    "We need:\n",
    "- product id\n",
    "- product name"
   ]
  },
  {
   "cell_type": "code",
   "execution_count": null,
   "metadata": {
    "colab": {},
    "colab_type": "code",
    "id": "3J917C0NEDhG"
   },
   "outputs": [],
   "source": []
  },
  {
   "cell_type": "markdown",
   "metadata": {
    "colab_type": "text",
    "id": "ALhA76X1GkgY"
   },
   "source": [
    "## Concatenate order_products__prior and order_products__train\n",
    "\n",
    "\n"
   ]
  },
  {
   "cell_type": "code",
   "execution_count": null,
   "metadata": {
    "colab": {},
    "colab_type": "code",
    "id": "QU4nkwnPGz4A"
   },
   "outputs": [],
   "source": []
  },
  {
   "cell_type": "code",
   "execution_count": null,
   "metadata": {
    "colab": {},
    "colab_type": "code",
    "id": "XrBZ0y8TG09_"
   },
   "outputs": [],
   "source": []
  },
  {
   "cell_type": "code",
   "execution_count": null,
   "metadata": {
    "colab": {},
    "colab_type": "code",
    "id": "gZk8V7yxG2Qg"
   },
   "outputs": [],
   "source": []
  },
  {
   "cell_type": "markdown",
   "metadata": {
    "colab_type": "text",
    "id": "XSiHrHuj1ME-"
   },
   "source": [
    "## Challenge\n",
    "\n",
    "Concatenating dataframes means to stick two dataframes together either by rows or by columns. The default behavior of `pd.concat()` is to take the rows of one dataframe and add them to the rows of another dataframe. If we pass the argument `axis=1` then we will be adding the columns of one dataframe to the columns of another dataframe.\n",
    "\n",
    "Concatenating dataframes is most useful when the columns are the same between two dataframes or when we have matching row indices between two dataframes. \n",
    "\n",
    "Be ready to use this method to combine dataframes together during your assignment."
   ]
  },
  {
   "cell_type": "markdown",
   "metadata": {
    "colab_type": "text",
    "id": "17PV3bEtz449"
   },
   "source": [
    "# [Objective](#merge) Merge dataframes with pandas\n",
    "\n"
   ]
  },
  {
   "cell_type": "markdown",
   "metadata": {
    "colab_type": "text",
    "id": "DAiMlm5Q05LW"
   },
   "source": [
    "## Overview"
   ]
  },
  {
   "cell_type": "code",
   "execution_count": null,
   "metadata": {
    "colab": {
     "base_uri": "https://localhost:8080/",
     "height": 313
    },
    "colab_type": "code",
    "id": "oH4J87G4LZjd",
    "outputId": "85b50959-7a7f-4ce0-abc0-1f479a318111"
   },
   "outputs": [
    {
     "data": {
      "text/html": [
       "<img src=\"https://cdn-images-1.medium.com/max/1600/1*vYGFQCafJtGBBX5mbl0xyw.png\" width=\"600\"/>"
      ],
      "text/plain": [
       "<IPython.core.display.Image object>"
      ]
     },
     "metadata": {
      "tags": []
     },
     "output_type": "display_data"
    }
   ],
   "source": [
    "display(example)"
   ]
  },
  {
   "cell_type": "markdown",
   "metadata": {
    "colab_type": "text",
    "id": "p1o6R29VLwwu"
   },
   "source": [
    "Before we can continue we need to understand where the data in the above table is coming from and what why specific pieces of data are held in the specific dataframes.\n",
    "\n",
    "Each of these CSVs has a specific unit of observation (row). The columns that we see included in each CSV were selected purposefully. For example, everything each row of the `orders` dataframe is a specific and unique order -telling us who made the order, and when they made it. Every row in the `products` dataframe tells us about a specific and unique product that thestore offers. And everything in the `order_products` dataframe tells us about how products are associated with specific orders -including when the product was added to the shopping cart. \n",
    "\n",
    "### The Orders Dataframe\n",
    "\n",
    "Holds information about specific orders, things like who placed the order, what \n",
    "\n",
    "- user_id\n",
    "- order_id\n",
    "- order_number\n",
    "- order_dow\n",
    "- order_hour_of_day\n",
    "\n",
    "### The Products Dataframe\n",
    "\n",
    "Holds information about individual products.\n",
    "\n",
    "- product_id\n",
    "- product_name\n",
    "\n",
    "### The Order_Products Dataframe\n",
    "\n",
    "Tells us how products are associated with specific orders since an order is a group of products.\n",
    "\n",
    "- order_id\n",
    "- product_id\n",
    "- add_to_cart_order\n",
    "\n",
    "As we look at the table that we're trying to recreate, we notice that we're not looking at specific orders or products, but at a specific **USER**. We're looking at the first two orders for a specific user and the products associated with those orders, so we'll need to combine dataframes to get all of this data together into a single table.\n",
    "\n",
    "**The key to combining all of this information is that we need values that exist in both datasets that we can use to match up rows and combine dataframes.**"
   ]
  },
  {
   "cell_type": "markdown",
   "metadata": {
    "colab_type": "text",
    "id": "g38DqtNj1BnI"
   },
   "source": [
    "## Follow Along\n",
    "\n",
    "We have two dataframes, so we're going to need to merge our data twice. As we approach merging datasets together we will take the following approach.\n",
    "\n",
    "1) Identify which to dataframes we would like to combine.\n",
    "\n",
    "2) Find columns that are common between both dataframes that we can use to match up information.\n",
    "\n",
    "3) Slim down both of our dataframes so that they only relevant data before we merge.\n",
    "\n",
    "4) Merge the dataframes."
   ]
  },
  {
   "cell_type": "markdown",
   "metadata": {
    "colab_type": "text",
    "id": "259BJMJ43Ka5"
   },
   "source": [
    "### First Merge\n",
    "\n",
    "1) Combine `orders` and `order_products`\n",
    "\n",
    "2) We will use the `order_id` column to match information between the two datasets\n",
    "\n",
    "3) Lets slim down our dataframes to only the information that we need. We do this because the merge process is complex. Why would we merge millions of rows together if we know that we're only going to need 11 rows when we're done\n",
    "\n",
    "What specific conditions could we use to slim down the `orders` dataframe?\n",
    "\n",
    "`user_id == 1` and `order_id <=2`\n",
    "\n",
    "or\n",
    "\n",
    "`order_id == 2539329` and `order_id == 2398795`"
   ]
  },
  {
   "cell_type": "code",
   "execution_count": null,
   "metadata": {
    "colab": {},
    "colab_type": "code",
    "id": "I6r8i8tN1H1S"
   },
   "outputs": [],
   "source": [
    "# An example of dataframe filtering\n",
    "\n",
    "# Create a condition\n",
    "\n",
    "# Pass that condition into the square brackets \n",
    "# that we use to access portions of a dataframe\n",
    "# only the rows where that condition evaluates to *TRUE*\n",
    "# will be retained in the dataframe\n",
    "\n",
    "# Look at the subsetted dataframe"
   ]
  },
  {
   "cell_type": "code",
   "execution_count": null,
   "metadata": {
    "colab": {},
    "colab_type": "code",
    "id": "J6X4OQNG5L_4"
   },
   "outputs": [],
   "source": []
  },
  {
   "cell_type": "code",
   "execution_count": null,
   "metadata": {
    "colab": {},
    "colab_type": "code",
    "id": "cWUCmgx66Td3"
   },
   "outputs": [],
   "source": [
    "# We don't necessarily have to save our condition to the variable \"condition\"\n",
    "# we can pass the condition into the square brackest directly\n",
    "# I just wanted to be clear what was happening inside of the square brackets"
   ]
  },
  {
   "cell_type": "markdown",
   "metadata": {
    "colab_type": "text",
    "id": "1kQG4sxP6lod"
   },
   "source": [
    "Remember there are multiple ways that we could have filtered this dataframe. We also could have done it by specific `order_id`s\n"
   ]
  },
  {
   "cell_type": "code",
   "execution_count": null,
   "metadata": {
    "colab": {},
    "colab_type": "code",
    "id": "8IA4Kwyw6vk6"
   },
   "outputs": [],
   "source": []
  },
  {
   "cell_type": "markdown",
   "metadata": {
    "colab_type": "text",
    "id": "Nt8qiPCl7Lh8"
   },
   "source": [
    "Now we'll filter down the order_products dataframe\n",
    "\n",
    "What conditions could we use for subsetting that table?\n",
    "\n",
    "We can use order_id again."
   ]
  },
  {
   "cell_type": "code",
   "execution_count": null,
   "metadata": {
    "colab": {},
    "colab_type": "code",
    "id": "DHE_-PKs7e4s"
   },
   "outputs": [],
   "source": []
  },
  {
   "cell_type": "markdown",
   "metadata": {
    "colab_type": "text",
    "id": "yfi9zxpR7ugQ"
   },
   "source": [
    "4) Now we're ready to merge these two tables together."
   ]
  },
  {
   "cell_type": "code",
   "execution_count": null,
   "metadata": {
    "colab": {},
    "colab_type": "code",
    "id": "gnhC5A2m7yQz"
   },
   "outputs": [],
   "source": []
  },
  {
   "cell_type": "code",
   "execution_count": null,
   "metadata": {
    "colab": {
     "base_uri": "https://localhost:8080/",
     "height": 313
    },
    "colab_type": "code",
    "id": "RHGqFlPJ80-k",
    "outputId": "0927e663-beea-4176-f0ce-851e3b0086e4"
   },
   "outputs": [
    {
     "data": {
      "text/html": [
       "<img src=\"https://cdn-images-1.medium.com/max/1600/1*vYGFQCafJtGBBX5mbl0xyw.png\" width=\"600\"/>"
      ],
      "text/plain": [
       "<IPython.core.display.Image object>"
      ]
     },
     "metadata": {
      "tags": []
     },
     "output_type": "display_data"
    }
   ],
   "source": [
    "display(example)"
   ]
  },
  {
   "cell_type": "code",
   "execution_count": null,
   "metadata": {
    "colab": {},
    "colab_type": "code",
    "id": "DVdIEQsQ8D6x"
   },
   "outputs": [],
   "source": [
    "# Remove columns that we don't need"
   ]
  },
  {
   "cell_type": "markdown",
   "metadata": {
    "colab_type": "text",
    "id": "gLDN1ueb8_pY"
   },
   "source": [
    "Okay, we're looking pretty good, we're missing one more column `product_name` so we're going to need to merge one more time\n",
    "\n",
    "1) merge `orders_and_products` with `products`\n",
    "\n",
    "2) Use `product_id` as our identifier in both tables\n",
    "\n",
    "3) We need to slim down the `products` dataframe"
   ]
  },
  {
   "cell_type": "code",
   "execution_count": null,
   "metadata": {
    "colab": {},
    "colab_type": "code",
    "id": "Hy0fJFKn8--C"
   },
   "outputs": [],
   "source": []
  },
  {
   "cell_type": "code",
   "execution_count": null,
   "metadata": {
    "colab": {},
    "colab_type": "code",
    "id": "7yz6FwtG9bhd"
   },
   "outputs": [],
   "source": []
  },
  {
   "cell_type": "code",
   "execution_count": null,
   "metadata": {
    "colab": {},
    "colab_type": "code",
    "id": "xd_hwRyC9s1a"
   },
   "outputs": [],
   "source": []
  },
  {
   "cell_type": "code",
   "execution_count": null,
   "metadata": {
    "colab": {},
    "colab_type": "code",
    "id": "LjdgAOtb96LF"
   },
   "outputs": [],
   "source": []
  },
  {
   "cell_type": "code",
   "execution_count": null,
   "metadata": {
    "colab": {},
    "colab_type": "code",
    "id": "y0ZjUIm4-LkR"
   },
   "outputs": [],
   "source": []
  },
  {
   "cell_type": "code",
   "execution_count": null,
   "metadata": {
    "colab": {},
    "colab_type": "code",
    "id": "ZgASyjYM-WvX"
   },
   "outputs": [],
   "source": []
  },
  {
   "cell_type": "markdown",
   "metadata": {
    "colab_type": "text",
    "id": "75lbOTf3-csq"
   },
   "source": [
    "### Some nitpicky cleanup:"
   ]
  },
  {
   "cell_type": "code",
   "execution_count": null,
   "metadata": {
    "colab": {},
    "colab_type": "code",
    "id": "_dL8nGeN-eiH"
   },
   "outputs": [],
   "source": [
    "# sort rows"
   ]
  },
  {
   "cell_type": "code",
   "execution_count": null,
   "metadata": {
    "colab": {},
    "colab_type": "code",
    "id": "2NODYWri_CYp"
   },
   "outputs": [],
   "source": [
    "# reorder columns"
   ]
  },
  {
   "cell_type": "code",
   "execution_count": null,
   "metadata": {
    "colab": {},
    "colab_type": "code",
    "id": "RSdatcjM-r2B"
   },
   "outputs": [],
   "source": [
    "# remove underscores from column headers"
   ]
  },
  {
   "cell_type": "code",
   "execution_count": null,
   "metadata": {
    "colab": {
     "base_uri": "https://localhost:8080/",
     "height": 313
    },
    "colab_type": "code",
    "id": "a0blpL6O-99U",
    "outputId": "87a1f297-a0f1-44c3-cb60-ca9579e6b494"
   },
   "outputs": [
    {
     "data": {
      "text/html": [
       "<img src=\"https://cdn-images-1.medium.com/max/1600/1*vYGFQCafJtGBBX5mbl0xyw.png\" width=\"600\"/>"
      ],
      "text/plain": [
       "<IPython.core.display.Image object>"
      ]
     },
     "metadata": {
      "tags": []
     },
     "output_type": "display_data"
    }
   ],
   "source": [
    "display(example)"
   ]
  },
  {
   "cell_type": "markdown",
   "metadata": {
    "colab_type": "text",
    "id": "sNS2FhVW1NxV"
   },
   "source": [
    "## Challenge\n",
    "\n",
    "Review this Chis Albon documentation about [concatenating dataframes by row and by column](https://chrisalbon.com/python/data_wrangling/pandas_join_merge_dataframe/) and then be ready to master this function and practice using different `how` parameters on your assignment."
   ]
  },
  {
   "cell_type": "markdown",
   "metadata": {
    "colab_type": "text",
    "id": "xTz5WPngz5BA"
   },
   "source": [
    "# [Objective](#tidy) Learn Tidy Data Format"
   ]
  },
  {
   "cell_type": "markdown",
   "metadata": {
    "colab_type": "text",
    "id": "rUL61OCE06Dd"
   },
   "source": [
    "## Overview\n",
    "\n",
    "### Why reshape data?\n",
    "\n",
    "#### Some libraries prefer data in different formats\n",
    "\n",
    "For example, the Seaborn data visualization library prefers data in \"Tidy\" format often (but not always).\n",
    "\n",
    "> \"[Seaborn will be most powerful when your datasets have a particular organization.](https://seaborn.pydata.org/introduction.html#organizing-datasets) This format ia alternately called “long-form” or “tidy” data and is described in detail by Hadley Wickham. The rules can be simply stated:\n",
    "\n",
    "> - Each variable is a column\n",
    "- Each observation is a row\n",
    "\n",
    "> A helpful mindset for determining whether your data are tidy is to think backwards from the plot you want to draw. From this perspective, a “variable” is something that will be assigned a role in the plot.\"\n",
    "\n",
    "#### Data science is often about putting square pegs in round holes\n",
    "\n",
    "Here's an inspiring [video clip from _Apollo 13_](https://www.youtube.com/watch?v=ry55--J4_VQ): “Invent a way to put a square peg in a round hole.” It's a good metaphor for data wrangling!"
   ]
  },
  {
   "cell_type": "markdown",
   "metadata": {
    "colab_type": "text",
    "id": "NoUBeGKlAcCh"
   },
   "source": [
    "### Hadley Wickham's Examples\n",
    "\n",
    "From his paper, [Tidy Data](http://vita.had.co.nz/papers/tidy-data.html)"
   ]
  },
  {
   "cell_type": "code",
   "execution_count": null,
   "metadata": {
    "colab": {},
    "colab_type": "code",
    "id": "S_b6SOZz091T"
   },
   "outputs": [],
   "source": [
    "%matplotlib inline\n",
    "import pandas as pd\n",
    "import numpy as np\n",
    "import seaborn as sns\n",
    "\n",
    "table1 = pd.DataFrame(\n",
    "    [[np.nan, 2],\n",
    "     [16,    11], \n",
    "     [3,      1]],\n",
    "    index=['John Smith', 'Jane Doe', 'Mary Johnson'], \n",
    "    columns=['treatmenta', 'treatmentb'])"
   ]
  },
  {
   "cell_type": "markdown",
   "metadata": {
    "colab_type": "text",
    "id": "gjEInTFNA54j"
   },
   "source": [
    "\"Table 1 provides some data about an imaginary experiment in a format commonly seen in the wild. \n",
    "\n",
    "The table has two columns and three rows, and both rows and columns are labelled.\""
   ]
  },
  {
   "cell_type": "code",
   "execution_count": null,
   "metadata": {
    "colab": {
     "base_uri": "https://localhost:8080/",
     "height": 138
    },
    "colab_type": "code",
    "id": "fzoZDHtAA30k",
    "outputId": "e8e545a6-4508-4bda-8f62-f1b13baf7c69"
   },
   "outputs": [
    {
     "data": {
      "text/html": [
       "<div>\n",
       "<style scoped>\n",
       "    .dataframe tbody tr th:only-of-type {\n",
       "        vertical-align: middle;\n",
       "    }\n",
       "\n",
       "    .dataframe tbody tr th {\n",
       "        vertical-align: top;\n",
       "    }\n",
       "\n",
       "    .dataframe thead th {\n",
       "        text-align: right;\n",
       "    }\n",
       "</style>\n",
       "<table border=\"1\" class=\"dataframe\">\n",
       "  <thead>\n",
       "    <tr style=\"text-align: right;\">\n",
       "      <th></th>\n",
       "      <th>treatmenta</th>\n",
       "      <th>treatmentb</th>\n",
       "    </tr>\n",
       "  </thead>\n",
       "  <tbody>\n",
       "    <tr>\n",
       "      <th>John Smith</th>\n",
       "      <td>NaN</td>\n",
       "      <td>2</td>\n",
       "    </tr>\n",
       "    <tr>\n",
       "      <th>Jane Doe</th>\n",
       "      <td>16.0</td>\n",
       "      <td>11</td>\n",
       "    </tr>\n",
       "    <tr>\n",
       "      <th>Mary Johnson</th>\n",
       "      <td>3.0</td>\n",
       "      <td>1</td>\n",
       "    </tr>\n",
       "  </tbody>\n",
       "</table>\n",
       "</div>"
      ],
      "text/plain": [
       "              treatmenta  treatmentb\n",
       "John Smith           NaN           2\n",
       "Jane Doe            16.0          11\n",
       "Mary Johnson         3.0           1"
      ]
     },
     "execution_count": 132,
     "metadata": {
      "tags": []
     },
     "output_type": "execute_result"
    }
   ],
   "source": [
    "table1"
   ]
  },
  {
   "cell_type": "markdown",
   "metadata": {
    "colab_type": "text",
    "id": "Q7lDPNIwA9t5"
   },
   "source": [
    "\"There are many ways to structure the same underlying data. \n",
    "\n",
    "Table 2 shows the same data as Table 1, but the rows and columns have been transposed. The data is the same, but the layout is different.\""
   ]
  },
  {
   "cell_type": "code",
   "execution_count": null,
   "metadata": {
    "colab": {
     "base_uri": "https://localhost:8080/",
     "height": 108
    },
    "colab_type": "code",
    "id": "kQTFbHJWA_X2",
    "outputId": "377ba19c-f87f-4c46-9505-ce34e575ff00"
   },
   "outputs": [
    {
     "data": {
      "text/html": [
       "<div>\n",
       "<style scoped>\n",
       "    .dataframe tbody tr th:only-of-type {\n",
       "        vertical-align: middle;\n",
       "    }\n",
       "\n",
       "    .dataframe tbody tr th {\n",
       "        vertical-align: top;\n",
       "    }\n",
       "\n",
       "    .dataframe thead th {\n",
       "        text-align: right;\n",
       "    }\n",
       "</style>\n",
       "<table border=\"1\" class=\"dataframe\">\n",
       "  <thead>\n",
       "    <tr style=\"text-align: right;\">\n",
       "      <th></th>\n",
       "      <th>John Smith</th>\n",
       "      <th>Jane Doe</th>\n",
       "      <th>Mary Johnson</th>\n",
       "    </tr>\n",
       "  </thead>\n",
       "  <tbody>\n",
       "    <tr>\n",
       "      <th>treatmenta</th>\n",
       "      <td>NaN</td>\n",
       "      <td>16.0</td>\n",
       "      <td>3.0</td>\n",
       "    </tr>\n",
       "    <tr>\n",
       "      <th>treatmentb</th>\n",
       "      <td>2.0</td>\n",
       "      <td>11.0</td>\n",
       "      <td>1.0</td>\n",
       "    </tr>\n",
       "  </tbody>\n",
       "</table>\n",
       "</div>"
      ],
      "text/plain": [
       "            John Smith  Jane Doe  Mary Johnson\n",
       "treatmenta         NaN      16.0           3.0\n",
       "treatmentb         2.0      11.0           1.0"
      ]
     },
     "execution_count": 134,
     "metadata": {
      "tags": []
     },
     "output_type": "execute_result"
    }
   ],
   "source": [
    "table2 = table1.T\n",
    "table2"
   ]
  },
  {
   "cell_type": "markdown",
   "metadata": {
    "colab_type": "text",
    "id": "OfCVyRL3BI5h"
   },
   "source": [
    "\"Table 3 reorganises Table 1 to make the values, variables and obserations more clear.\n",
    "\n",
    "Table 3 is the tidy version of Table 1. Each row represents an observation, the result of one treatment on one person, and each column is a variable.\"\n",
    "\n",
    "| name         | trt | result |\n",
    "|--------------|-----|--------|\n",
    "| John Smith   | a   | -      |\n",
    "| Jane Doe     | a   | 16     |\n",
    "| Mary Johnson | a   | 3      |\n",
    "| John Smith   | b   | 2      |\n",
    "| Jane Doe     | b   | 11     |\n",
    "| Mary Johnson | b   | 1      |"
   ]
  },
  {
   "cell_type": "markdown",
   "metadata": {
    "colab_type": "text",
    "id": "_bZaQTSfBp4s"
   },
   "source": [
    "## Follow Along"
   ]
  },
  {
   "cell_type": "markdown",
   "metadata": {
    "colab_type": "text",
    "id": "9s42XuCqBN86"
   },
   "source": [
    "### Table 1 --> Tidy\n",
    "\n",
    "We can use the pandas `melt` function to reshape Table 1 into Tidy format."
   ]
  },
  {
   "cell_type": "code",
   "execution_count": null,
   "metadata": {
    "colab": {},
    "colab_type": "code",
    "id": "91Pw2zgkBHlg"
   },
   "outputs": [],
   "source": [
    "# Take the row index, and add it as a new column"
   ]
  },
  {
   "cell_type": "code",
   "execution_count": null,
   "metadata": {
    "colab": {},
    "colab_type": "code",
    "id": "UOlvjeBwBTNo"
   },
   "outputs": [],
   "source": [
    "# What is the unique identifier for each row\n",
    "# Where is the data at that I want to be in my single \"tidy\" column"
   ]
  },
  {
   "cell_type": "code",
   "execution_count": null,
   "metadata": {
    "colab": {},
    "colab_type": "code",
    "id": "hkXdIKDjBZC4"
   },
   "outputs": [],
   "source": [
    "# rename columns"
   ]
  },
  {
   "cell_type": "code",
   "execution_count": null,
   "metadata": {
    "colab": {},
    "colab_type": "code",
    "id": "-BnEq18qBbBK"
   },
   "outputs": [],
   "source": []
  },
  {
   "cell_type": "markdown",
   "metadata": {
    "colab_type": "text",
    "id": "UuFviZYbBebc"
   },
   "source": [
    "### Tidy --> Table 1\n",
    "\n",
    "The `pivot_table` function is the inverse of `melt`."
   ]
  },
  {
   "cell_type": "code",
   "execution_count": null,
   "metadata": {
    "colab": {},
    "colab_type": "code",
    "id": "LdfbFRI5Bgnh"
   },
   "outputs": [],
   "source": [
    "# index: unique identifier\n",
    "# columns: What do you want to differentiate the columns in wide format\n",
    "# values: Where are the numbers at - go in the middle of the wide dataframe"
   ]
  },
  {
   "cell_type": "markdown",
   "metadata": {
    "colab_type": "text",
    "id": "_sfVVJg91Ri9"
   },
   "source": [
    "## Challenge\n",
    "\n",
    "On your assignment, be prepared to take table2 (the transpose of table1) and reshape it to be in tidy data format using `.melt()` and then put it back in \"wide format\" using `.pivot_table()`"
   ]
  },
  {
   "cell_type": "markdown",
   "metadata": {
    "colab_type": "text",
    "id": "9H9XAmbTz5D6"
   },
   "source": [
    "# [Objective](#melt-pivot) Transition between tidy and wide data formats with `.melt()` and `.pivot()`."
   ]
  },
  {
   "cell_type": "markdown",
   "metadata": {
    "colab_type": "text",
    "id": "346ZYlh7vsbx"
   },
   "source": [
    "## Overview\n",
    "\n",
    "Tidy data format can be particularly useful with certain plotting libraries like Seaborn for example. Lets practice reshaping our data and show how this can be extremely useful in preparing our data for plotting.\n",
    "\n",
    "Remember that tidy data format means:\n",
    "\n",
    "- Each variable is a column\n",
    "- Each observation is a row\n",
    "\n",
    "A helpful mindset for determining whether your data are tidy is to think backwards from the plot you want to draw. From this perspective, a “variable” is something that will be assigned a role in the plot.\" When plotting, this typically means that the values that we're most interested in and that represent the same thing will all be in a single column. You'll see that in the different examples that we show. The important data will be in a single column.\n",
    "\n"
   ]
  },
  {
   "cell_type": "code",
   "execution_count": null,
   "metadata": {
    "colab": {},
    "colab_type": "code",
    "id": "oc3h1LK6ulP-"
   },
   "outputs": [],
   "source": [
    "# Look at some of the awesome out-of-the-box seaborn functionality:"
   ]
  },
  {
   "cell_type": "markdown",
   "metadata": {
    "colab_type": "text",
    "id": "RDs7HSDtvwp7"
   },
   "source": [
    "## Follow Along\n",
    "\n",
    "Now with Instacart Data. We're going to try and reproduce a small part of this visualization: "
   ]
  },
  {
   "cell_type": "code",
   "execution_count": null,
   "metadata": {
    "colab": {
     "base_uri": "https://localhost:8080/",
     "height": 384
    },
    "colab_type": "code",
    "id": "UYaAh9i2Cth8",
    "outputId": "96aeb05a-fa4c-4c27-f04d-7c26c9831b73"
   },
   "outputs": [
    {
     "data": {
      "text/html": [
       "<img src=\"https://cdn-images-1.medium.com/max/1600/1*wKfV6OV-_1Ipwrl7AjjSuw.png\" width=\"600\"/>"
      ],
      "text/plain": [
       "<IPython.core.display.Image object>"
      ]
     },
     "metadata": {
      "tags": []
     },
     "output_type": "display_data"
    }
   ],
   "source": [
    "from IPython.display import display, Image\n",
    "url = 'https://cdn-images-1.medium.com/max/1600/1*wKfV6OV-_1Ipwrl7AjjSuw.png'\n",
    "example = Image(url=url, width=600)\n",
    "\n",
    "display(example)"
   ]
  },
  {
   "cell_type": "markdown",
   "metadata": {
    "colab_type": "text",
    "id": "cWA17E72Csb8"
   },
   "source": [
    "Instead of a plot with 50 products, we'll just do two — the first products from each list\n",
    "- Half And Half Ultra Pasteurized\n",
    "- Half Baked Frozen Yogurt\n",
    "\n",
    "So, given a `product_name` we need to calculate its `order_hour_of_day` pattern."
   ]
  },
  {
   "cell_type": "code",
   "execution_count": null,
   "metadata": {
    "colab": {},
    "colab_type": "code",
    "id": "Afch5TnbvzYH"
   },
   "outputs": [],
   "source": []
  },
  {
   "cell_type": "markdown",
   "metadata": {
    "colab_type": "text",
    "id": "a-wZZuvJC9XR"
   },
   "source": [
    "### Subset and Merge\n",
    "\n",
    "One challenge of performing a merge on this data is that the `products` and `orders` datasets do not have any common columns that we can merge on. Due to this we will have to use the `order_products` dataset to provide the columns that we will use to perform the merge.\n",
    "\n",
    "Here's the two products that we want to work with."
   ]
  },
  {
   "cell_type": "code",
   "execution_count": null,
   "metadata": {
    "colab": {},
    "colab_type": "code",
    "id": "8kiwQevWC-ky"
   },
   "outputs": [],
   "source": []
  },
  {
   "cell_type": "markdown",
   "metadata": {
    "colab_type": "text",
    "id": "qQS97tQ4DMcU"
   },
   "source": [
    "Lets remind ourselves of what columns we have to work with:"
   ]
  },
  {
   "cell_type": "code",
   "execution_count": null,
   "metadata": {
    "colab": {},
    "colab_type": "code",
    "id": "ObLpUAJdDDKs"
   },
   "outputs": [],
   "source": []
  },
  {
   "cell_type": "code",
   "execution_count": null,
   "metadata": {
    "colab": {},
    "colab_type": "code",
    "id": "YJSAiUrqDEpP"
   },
   "outputs": [],
   "source": []
  },
  {
   "cell_type": "code",
   "execution_count": null,
   "metadata": {
    "colab": {},
    "colab_type": "code",
    "id": "3bMVJbGMDGeY"
   },
   "outputs": [],
   "source": []
  },
  {
   "cell_type": "markdown",
   "metadata": {
    "colab_type": "text",
    "id": "NWeDbbc4DSQ9"
   },
   "source": [
    "This might blow your mind, but we're going to subset the dataframes to select specific columns **and** merge them all in one go. Ready?"
   ]
  },
  {
   "cell_type": "code",
   "execution_count": null,
   "metadata": {
    "colab": {},
    "colab_type": "code",
    "id": "jYG576viDYTY"
   },
   "outputs": [],
   "source": []
  },
  {
   "cell_type": "markdown",
   "metadata": {
    "colab_type": "text",
    "id": "nyCeGkhyDlR0"
   },
   "source": [
    "Ok, so we were a little bit lazy and probably should have subsetted our the rows of our dataframes before we merged them. We are going to filter after the fact. This is something that you can try out for practice. Can you figure out how to filter these dataframes **before** merging rather than after?"
   ]
  },
  {
   "cell_type": "code",
   "execution_count": null,
   "metadata": {
    "colab": {},
    "colab_type": "code",
    "id": "GRaUjNYQDqlv"
   },
   "outputs": [],
   "source": []
  },
  {
   "cell_type": "markdown",
   "metadata": {
    "colab_type": "text",
    "id": "PsCbAF1aD6mI"
   },
   "source": [
    "Again, there are multiple effective ways to write conditions. "
   ]
  },
  {
   "cell_type": "code",
   "execution_count": null,
   "metadata": {
    "colab": {},
    "colab_type": "code",
    "id": "3Q3-vSjFD5r2"
   },
   "outputs": [],
   "source": []
  },
  {
   "cell_type": "code",
   "execution_count": null,
   "metadata": {
    "colab": {},
    "colab_type": "code",
    "id": "J4IxDetIELzM"
   },
   "outputs": [],
   "source": []
  },
  {
   "cell_type": "markdown",
   "metadata": {
    "colab_type": "text",
    "id": "cuGmrZ52ECOS"
   },
   "source": [
    "### 4 ways to reshape and plot\n",
    "\n"
   ]
  },
  {
   "cell_type": "code",
   "execution_count": null,
   "metadata": {
    "colab": {
     "base_uri": "https://localhost:8080/",
     "height": 384
    },
    "colab_type": "code",
    "id": "0FKFamTREFiw",
    "outputId": "bc5c8b56-7196-42b0-a004-23a5e072d957"
   },
   "outputs": [
    {
     "data": {
      "text/html": [
       "<img src=\"https://cdn-images-1.medium.com/max/1600/1*wKfV6OV-_1Ipwrl7AjjSuw.png\" width=\"600\"/>"
      ],
      "text/plain": [
       "<IPython.core.display.Image object>"
      ]
     },
     "metadata": {
      "tags": []
     },
     "output_type": "display_data"
    }
   ],
   "source": [
    "display(example)"
   ]
  },
  {
   "cell_type": "markdown",
   "metadata": {
    "colab_type": "text",
    "id": "-5udAYCYEQK5"
   },
   "source": [
    "1) The `.value_counts()` approach.\n",
    "\n",
    "Remember, that we're trying to get the key variables (values) listed as a single column."
   ]
  },
  {
   "cell_type": "code",
   "execution_count": null,
   "metadata": {
    "colab": {},
    "colab_type": "code",
    "id": "mZih8j2QEIb9"
   },
   "outputs": [],
   "source": []
  },
  {
   "cell_type": "code",
   "execution_count": null,
   "metadata": {
    "colab": {},
    "colab_type": "code",
    "id": "RVvLVPgeEZXK"
   },
   "outputs": [],
   "source": []
  },
  {
   "cell_type": "markdown",
   "metadata": {
    "colab_type": "text",
    "id": "35cWYAYJEdNU"
   },
   "source": [
    "2) Crosstab"
   ]
  },
  {
   "cell_type": "code",
   "execution_count": null,
   "metadata": {
    "colab": {},
    "colab_type": "code",
    "id": "q5LgBIUSEjCt"
   },
   "outputs": [],
   "source": []
  },
  {
   "cell_type": "markdown",
   "metadata": {
    "colab_type": "text",
    "id": "AtzievA2El7W"
   },
   "source": [
    "3) Pivot Table"
   ]
  },
  {
   "cell_type": "code",
   "execution_count": null,
   "metadata": {
    "colab": {},
    "colab_type": "code",
    "id": "u1zTNxRWEndk"
   },
   "outputs": [],
   "source": []
  },
  {
   "cell_type": "markdown",
   "metadata": {
    "colab_type": "text",
    "id": "Q-uexEZoErje"
   },
   "source": [
    "4) Melt \n",
    "\n",
    "We've got to get it into wide format first. We'll use a crosstab which is a specific type of pivot_table."
   ]
  },
  {
   "cell_type": "code",
   "execution_count": null,
   "metadata": {
    "colab": {},
    "colab_type": "code",
    "id": "l2YFirZPE2DL"
   },
   "outputs": [],
   "source": []
  },
  {
   "cell_type": "code",
   "execution_count": null,
   "metadata": {
    "colab": {},
    "colab_type": "code",
    "id": "tGsUDMq8E6TP"
   },
   "outputs": [],
   "source": []
  },
  {
   "cell_type": "markdown",
   "metadata": {
    "colab_type": "text",
    "id": "blu1emcSE95R"
   },
   "source": [
    "Now, with Seaborn:"
   ]
  },
  {
   "cell_type": "code",
   "execution_count": null,
   "metadata": {
    "colab": {},
    "colab_type": "code",
    "id": "gTusUe1WE-57"
   },
   "outputs": [],
   "source": []
  }
 ],
 "metadata": {
  "colab": {
   "collapsed_sections": [],
   "include_colab_link": true,
   "name": "LS_DS_113_Join_and_Reshape_Data.ipynb",
   "provenance": []
  },
  "kernelspec": {
   "display_name": "Python 3",
   "language": "python",
   "name": "python3"
  },
  "language_info": {
   "codemirror_mode": {
    "name": "ipython",
    "version": 3
   },
   "file_extension": ".py",
   "mimetype": "text/x-python",
   "name": "python",
   "nbconvert_exporter": "python",
   "pygments_lexer": "ipython3",
   "version": "3.8.1"
  }
 },
 "nbformat": 4,
 "nbformat_minor": 4
}
