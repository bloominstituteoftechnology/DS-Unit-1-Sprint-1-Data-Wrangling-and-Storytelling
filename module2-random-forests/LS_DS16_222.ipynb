{
  "nbformat": 4,
  "nbformat_minor": 0,
  "metadata": {
    "kernelspec": {
      "display_name": "Python 3",
      "language": "python",
      "name": "python3"
    },
    "language_info": {
      "codemirror_mode": {
        "name": "ipython",
        "version": 3
      },
      "file_extension": ".py",
      "mimetype": "text/x-python",
      "name": "python",
      "nbconvert_exporter": "python",
      "pygments_lexer": "ipython3",
      "version": "3.7.3"
    },
    "colab": {
      "name": "LS_DS16_222.ipynb",
      "provenance": [],
      "include_colab_link": true
    },
    "widgets": {
      "application/vnd.jupyter.widget-state+json": {
        "6ba47d2d29784cf3a6f2937ceeade607": {
          "model_module": "@jupyter-widgets/controls",
          "model_name": "VBoxModel",
          "state": {
            "_view_name": "VBoxView",
            "_dom_classes": [
              "widget-interact"
            ],
            "_model_name": "VBoxModel",
            "_view_module": "@jupyter-widgets/controls",
            "_model_module_version": "1.5.0",
            "_view_count": null,
            "_view_module_version": "1.5.0",
            "box_style": "",
            "layout": "IPY_MODEL_f12ba1670e7249789b8edb0bd2bbc993",
            "_model_module": "@jupyter-widgets/controls",
            "children": [
              "IPY_MODEL_165a04ded54740849b64f574b4848a68",
              "IPY_MODEL_ee7c7ae759a245dc8f764b626358fd5a",
              "IPY_MODEL_f876ee6779304cca94114366a2408ee8"
            ]
          }
        },
        "f12ba1670e7249789b8edb0bd2bbc993": {
          "model_module": "@jupyter-widgets/base",
          "model_name": "LayoutModel",
          "state": {
            "_view_name": "LayoutView",
            "grid_template_rows": null,
            "right": null,
            "justify_content": null,
            "_view_module": "@jupyter-widgets/base",
            "overflow": null,
            "_model_module_version": "1.2.0",
            "_view_count": null,
            "flex_flow": null,
            "width": null,
            "min_width": null,
            "border": null,
            "align_items": null,
            "bottom": null,
            "_model_module": "@jupyter-widgets/base",
            "top": null,
            "grid_column": null,
            "overflow_y": null,
            "overflow_x": null,
            "grid_auto_flow": null,
            "grid_area": null,
            "grid_template_columns": null,
            "flex": null,
            "_model_name": "LayoutModel",
            "justify_items": null,
            "grid_row": null,
            "max_height": null,
            "align_content": null,
            "visibility": null,
            "align_self": null,
            "height": null,
            "min_height": null,
            "padding": null,
            "grid_auto_rows": null,
            "grid_gap": null,
            "max_width": null,
            "order": null,
            "_view_module_version": "1.2.0",
            "grid_template_areas": null,
            "object_position": null,
            "object_fit": null,
            "grid_auto_columns": null,
            "margin": null,
            "display": null,
            "left": null
          }
        },
        "165a04ded54740849b64f574b4848a68": {
          "model_module": "@jupyter-widgets/controls",
          "model_name": "IntSliderModel",
          "state": {
            "_view_name": "IntSliderView",
            "style": "IPY_MODEL_baa089d6057b44e2a11db06aa8796363",
            "_dom_classes": [],
            "description": "max_depth",
            "step": 1,
            "_model_name": "IntSliderModel",
            "orientation": "horizontal",
            "max": 6,
            "_view_module": "@jupyter-widgets/controls",
            "_model_module_version": "1.5.0",
            "value": 6,
            "_view_count": null,
            "disabled": false,
            "_view_module_version": "1.5.0",
            "min": 1,
            "continuous_update": true,
            "readout_format": "d",
            "description_tooltip": null,
            "readout": true,
            "_model_module": "@jupyter-widgets/controls",
            "layout": "IPY_MODEL_9136b28d068040f68f1c006469362eee"
          }
        },
        "ee7c7ae759a245dc8f764b626358fd5a": {
          "model_module": "@jupyter-widgets/controls",
          "model_name": "IntSliderModel",
          "state": {
            "_view_name": "IntSliderView",
            "style": "IPY_MODEL_b42508db0b1741ddb295c1425618e284",
            "_dom_classes": [],
            "description": "n_estimators",
            "step": 10,
            "_model_name": "IntSliderModel",
            "orientation": "horizontal",
            "max": 40,
            "_view_module": "@jupyter-widgets/controls",
            "_model_module_version": "1.5.0",
            "value": 40,
            "_view_count": null,
            "disabled": false,
            "_view_module_version": "1.5.0",
            "min": 10,
            "continuous_update": true,
            "readout_format": "d",
            "description_tooltip": null,
            "readout": true,
            "_model_module": "@jupyter-widgets/controls",
            "layout": "IPY_MODEL_65533e500e784bdb94d20b96ab5ed936"
          }
        },
        "f876ee6779304cca94114366a2408ee8": {
          "model_module": "@jupyter-widgets/output",
          "model_name": "OutputModel",
          "state": {
            "_view_name": "OutputView",
            "msg_id": "",
            "_dom_classes": [],
            "_model_name": "OutputModel",
            "outputs": [
              {
                "output_type": "display_data",
                "metadata": {
                  "tags": [],
                  "needs_background": "light"
                },
                "image/png": "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\n",
                "text/plain": "<Figure size 432x288 with 1 Axes>"
              },
              {
                "output_type": "display_data",
                "metadata": {
                  "tags": [],
                  "needs_background": "light"
                },
                "image/png": "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\n",
                "text/plain": "<Figure size 432x288 with 1 Axes>"
              }
            ],
            "_view_module": "@jupyter-widgets/output",
            "_model_module_version": "1.0.0",
            "_view_count": null,
            "_view_module_version": "1.0.0",
            "layout": "IPY_MODEL_e54fa73bf6774a94a4f5da74ad140084",
            "_model_module": "@jupyter-widgets/output"
          }
        },
        "baa089d6057b44e2a11db06aa8796363": {
          "model_module": "@jupyter-widgets/controls",
          "model_name": "SliderStyleModel",
          "state": {
            "_view_name": "StyleView",
            "handle_color": null,
            "_model_name": "SliderStyleModel",
            "description_width": "",
            "_view_module": "@jupyter-widgets/base",
            "_model_module_version": "1.5.0",
            "_view_count": null,
            "_view_module_version": "1.2.0",
            "_model_module": "@jupyter-widgets/controls"
          }
        },
        "9136b28d068040f68f1c006469362eee": {
          "model_module": "@jupyter-widgets/base",
          "model_name": "LayoutModel",
          "state": {
            "_view_name": "LayoutView",
            "grid_template_rows": null,
            "right": null,
            "justify_content": null,
            "_view_module": "@jupyter-widgets/base",
            "overflow": null,
            "_model_module_version": "1.2.0",
            "_view_count": null,
            "flex_flow": null,
            "width": null,
            "min_width": null,
            "border": null,
            "align_items": null,
            "bottom": null,
            "_model_module": "@jupyter-widgets/base",
            "top": null,
            "grid_column": null,
            "overflow_y": null,
            "overflow_x": null,
            "grid_auto_flow": null,
            "grid_area": null,
            "grid_template_columns": null,
            "flex": null,
            "_model_name": "LayoutModel",
            "justify_items": null,
            "grid_row": null,
            "max_height": null,
            "align_content": null,
            "visibility": null,
            "align_self": null,
            "height": null,
            "min_height": null,
            "padding": null,
            "grid_auto_rows": null,
            "grid_gap": null,
            "max_width": null,
            "order": null,
            "_view_module_version": "1.2.0",
            "grid_template_areas": null,
            "object_position": null,
            "object_fit": null,
            "grid_auto_columns": null,
            "margin": null,
            "display": null,
            "left": null
          }
        },
        "b42508db0b1741ddb295c1425618e284": {
          "model_module": "@jupyter-widgets/controls",
          "model_name": "SliderStyleModel",
          "state": {
            "_view_name": "StyleView",
            "handle_color": null,
            "_model_name": "SliderStyleModel",
            "description_width": "",
            "_view_module": "@jupyter-widgets/base",
            "_model_module_version": "1.5.0",
            "_view_count": null,
            "_view_module_version": "1.2.0",
            "_model_module": "@jupyter-widgets/controls"
          }
        },
        "65533e500e784bdb94d20b96ab5ed936": {
          "model_module": "@jupyter-widgets/base",
          "model_name": "LayoutModel",
          "state": {
            "_view_name": "LayoutView",
            "grid_template_rows": null,
            "right": null,
            "justify_content": null,
            "_view_module": "@jupyter-widgets/base",
            "overflow": null,
            "_model_module_version": "1.2.0",
            "_view_count": null,
            "flex_flow": null,
            "width": null,
            "min_width": null,
            "border": null,
            "align_items": null,
            "bottom": null,
            "_model_module": "@jupyter-widgets/base",
            "top": null,
            "grid_column": null,
            "overflow_y": null,
            "overflow_x": null,
            "grid_auto_flow": null,
            "grid_area": null,
            "grid_template_columns": null,
            "flex": null,
            "_model_name": "LayoutModel",
            "justify_items": null,
            "grid_row": null,
            "max_height": null,
            "align_content": null,
            "visibility": null,
            "align_self": null,
            "height": null,
            "min_height": null,
            "padding": null,
            "grid_auto_rows": null,
            "grid_gap": null,
            "max_width": null,
            "order": null,
            "_view_module_version": "1.2.0",
            "grid_template_areas": null,
            "object_position": null,
            "object_fit": null,
            "grid_auto_columns": null,
            "margin": null,
            "display": null,
            "left": null
          }
        },
        "e54fa73bf6774a94a4f5da74ad140084": {
          "model_module": "@jupyter-widgets/base",
          "model_name": "LayoutModel",
          "state": {
            "_view_name": "LayoutView",
            "grid_template_rows": null,
            "right": null,
            "justify_content": null,
            "_view_module": "@jupyter-widgets/base",
            "overflow": null,
            "_model_module_version": "1.2.0",
            "_view_count": null,
            "flex_flow": null,
            "width": null,
            "min_width": null,
            "border": null,
            "align_items": null,
            "bottom": null,
            "_model_module": "@jupyter-widgets/base",
            "top": null,
            "grid_column": null,
            "overflow_y": null,
            "overflow_x": null,
            "grid_auto_flow": null,
            "grid_area": null,
            "grid_template_columns": null,
            "flex": null,
            "_model_name": "LayoutModel",
            "justify_items": null,
            "grid_row": null,
            "max_height": null,
            "align_content": null,
            "visibility": null,
            "align_self": null,
            "height": null,
            "min_height": null,
            "padding": null,
            "grid_auto_rows": null,
            "grid_gap": null,
            "max_width": null,
            "order": null,
            "_view_module_version": "1.2.0",
            "grid_template_areas": null,
            "object_position": null,
            "object_fit": null,
            "grid_auto_columns": null,
            "margin": null,
            "display": null,
            "left": null
          }
        },
        "383f63aef9ba4b448546201983494337": {
          "model_module": "@jupyter-widgets/controls",
          "model_name": "VBoxModel",
          "state": {
            "_view_name": "VBoxView",
            "_dom_classes": [
              "widget-interact"
            ],
            "_model_name": "VBoxModel",
            "_view_module": "@jupyter-widgets/controls",
            "_model_module_version": "1.5.0",
            "_view_count": null,
            "_view_module_version": "1.5.0",
            "box_style": "",
            "layout": "IPY_MODEL_236be6308f874d73aed0677c0ced6f74",
            "_model_module": "@jupyter-widgets/controls",
            "children": [
              "IPY_MODEL_23c28a0620674109a415c2eb10ed37f5",
              "IPY_MODEL_b9853e5f989d4b4daa8bd7cadd936e5f",
              "IPY_MODEL_c6727f365c6f47e28e4eb226b4510eb1"
            ]
          }
        },
        "236be6308f874d73aed0677c0ced6f74": {
          "model_module": "@jupyter-widgets/base",
          "model_name": "LayoutModel",
          "state": {
            "_view_name": "LayoutView",
            "grid_template_rows": null,
            "right": null,
            "justify_content": null,
            "_view_module": "@jupyter-widgets/base",
            "overflow": null,
            "_model_module_version": "1.2.0",
            "_view_count": null,
            "flex_flow": null,
            "width": null,
            "min_width": null,
            "border": null,
            "align_items": null,
            "bottom": null,
            "_model_module": "@jupyter-widgets/base",
            "top": null,
            "grid_column": null,
            "overflow_y": null,
            "overflow_x": null,
            "grid_auto_flow": null,
            "grid_area": null,
            "grid_template_columns": null,
            "flex": null,
            "_model_name": "LayoutModel",
            "justify_items": null,
            "grid_row": null,
            "max_height": null,
            "align_content": null,
            "visibility": null,
            "align_self": null,
            "height": null,
            "min_height": null,
            "padding": null,
            "grid_auto_rows": null,
            "grid_gap": null,
            "max_width": null,
            "order": null,
            "_view_module_version": "1.2.0",
            "grid_template_areas": null,
            "object_position": null,
            "object_fit": null,
            "grid_auto_columns": null,
            "margin": null,
            "display": null,
            "left": null
          }
        },
        "23c28a0620674109a415c2eb10ed37f5": {
          "model_module": "@jupyter-widgets/controls",
          "model_name": "IntSliderModel",
          "state": {
            "_view_name": "IntSliderView",
            "style": "IPY_MODEL_6ff28496f47c4217933f65180ead49c4",
            "_dom_classes": [],
            "description": "max_depth",
            "step": 1,
            "_model_name": "IntSliderModel",
            "orientation": "horizontal",
            "max": 6,
            "_view_module": "@jupyter-widgets/controls",
            "_model_module_version": "1.5.0",
            "value": 6,
            "_view_count": null,
            "disabled": false,
            "_view_module_version": "1.5.0",
            "min": 1,
            "continuous_update": true,
            "readout_format": "d",
            "description_tooltip": null,
            "readout": true,
            "_model_module": "@jupyter-widgets/controls",
            "layout": "IPY_MODEL_fa4da45d1a4c48dfbbf554688dc56a80"
          }
        },
        "b9853e5f989d4b4daa8bd7cadd936e5f": {
          "model_module": "@jupyter-widgets/controls",
          "model_name": "IntSliderModel",
          "state": {
            "_view_name": "IntSliderView",
            "style": "IPY_MODEL_a4d4d013c54a4fe68cb255cbb7b763ad",
            "_dom_classes": [],
            "description": "n_estimators",
            "step": 10,
            "_model_name": "IntSliderModel",
            "orientation": "horizontal",
            "max": 40,
            "_view_module": "@jupyter-widgets/controls",
            "_model_module_version": "1.5.0",
            "value": 20,
            "_view_count": null,
            "disabled": false,
            "_view_module_version": "1.5.0",
            "min": 10,
            "continuous_update": true,
            "readout_format": "d",
            "description_tooltip": null,
            "readout": true,
            "_model_module": "@jupyter-widgets/controls",
            "layout": "IPY_MODEL_c7cf80a670ad45b5a9f5863bb70d395d"
          }
        },
        "c6727f365c6f47e28e4eb226b4510eb1": {
          "model_module": "@jupyter-widgets/output",
          "model_name": "OutputModel",
          "state": {
            "_view_name": "OutputView",
            "msg_id": "",
            "_dom_classes": [],
            "_model_name": "OutputModel",
            "outputs": [
              {
                "output_type": "display_data",
                "metadata": {
                  "tags": [],
                  "needs_background": "light"
                },
                "image/png": "iVBORw0KGgoAAAANSUhEUgAAAVoAAAEFCAYAAACiiS9UAAAABHNCSVQICAgIfAhkiAAAAAlwSFlzAAALEgAACxIB0t1+/AAAADh0RVh0U29mdHdhcmUAbWF0cGxvdGxpYiB2ZXJzaW9uMy4yLjEsIGh0dHA6Ly9tYXRwbG90bGliLm9yZy+j8jraAAAX8ElEQVR4nO3deZgdVZnH8e8vYYcQlCBLElnDQMAN2VQUxjVhkCAq24CCaBCN4+iI4qiIOC64IUsU2xEQlUTFB6eFKKIICIJJCIskEY1hSQLITgJh6+53/qjqcNPpvrduuk7fW53fh6ceajn31Knq5M3pt06dq4jAzMzSGdHqBpiZDXcOtGZmiTnQmpkl5kBrZpaYA62ZWWIOtGZmiTnQVpykX0t6b4FyT0raaSjalJqkgyQtTVj/+ZI+V7N9sqR/5vdwy+F0L21oyONoh4aku4GtgS6gG1gAXAx0RERPC5tWmKT5wPb55sbA82TXA/DliPhyiefaFzgdeC3QAywCvhsRF0o6CPhxRIwr63x12rE+sBzYPyJuS30+G57cox1ab4+IUWTB6qvAp4AftLZJxUXEHhGxWURsBvwRmNa7XRtkJa03mPNIeg1wNXAtsAuwJXAyMHkw9a6lrYGNgPmDrWiw98Wqy4G2BSLiiYjoBI4E3itpT0kbSvqGpHvzX1PPl7Rx72ckTZF0q6Tlkv4haVK+/xpJ78/Xd5F0raQnJD0s6ac1nw9Ju+TroyVdLOkhSfdI+qykEfmx4yVdn7flMUl3Saob4CTtkNd/oqR7yYIkkt4naWFez5WStq/5zG6SrpL0qKQ7JR1RU+XXgR9GxJkR8XBkbo6II+iHpFPze7JC0gJJ76g51u89UeYsSQ/m9/QvkvbMj10k6X8k7QrcmVf1uKTe66q9lwP+3HpTHJI+JekB4MJ699GGLwfaFoqI2cBS4PVkPdxdgVeS9eLGAqfBql+jLwZOAbYA3gDc3U+VXwR+C7wIGAecO8CpzwVGAzsBBwLvAU6oOb4fWYAZA3wN+IEkFbikA4HdgbdJmgL8N3A4sBVZD3hGfj2bAlcBlwAvAY4CviNpoqRNgNcAlxY4X69/kN3D0cAXgB9L2jY/NtA9eSvZfdw1/9wRwCO1lUbE34A98s0tIuKN/Zx7wJ9bbhvgxWS/xUxt4ppsGHGgbb37yP4iTgU+FhGPRsQK4MtkAQjgROCCiLgqInoiYllE/LWfup4n+wu9XUQ8ExHX9y0gaWRe76cjYkVE3A18Eziuptg9EfH9iOgGfghsS/YrdCOnR8RTEfE08EHgKxGxMCK68ut5Zd6rPQS4OyIujIiuiLgF+AXwbrKAOAK4v8D5AIiIn0fEffm9+Snwd2DfBvfkeWAUsBvZs4qFEVH4nJD1iqn/c4Msv/z5iHg2vy+2DnKgbb2xwHrAJsDNkh6X9DjwG7KeIMB4sl5bI58EBMyWNF/S+/opMwZYH7inZt89eTt6PdC7EhEr89XNCpx/Sc369sDZNdfzaN62sfmx/XqP5cf/naz39xhZcNqWgiS9J0+r9Na1Z36dMMA9iYirgfOA6cCDkjokbV70nLmtqP9zA3goIp5psl4bZhxoW0jSPmSB55fA08AeEbFFvozOHzpBFsB2blRfRDwQER+IiO2Ak8h+Hd+lT7GHeaGX1+ulwLJBXg5A7RCWJcBJNdezRURsHBF/yo9d2+fYZhFxch7YbwTeWeSEeQ/5+8A0YMuI2AK4gyy41r0nEXFORLwamEj26/8pTV7vw9T/ufW9J7aOcqBtAUmbSzoEmEk2TOk2smBxlqSX5GXGSnpb/pEfACdIepOkEfmx3fqp992Seoc8PUb2l3y1oWN5OuBnwJckjcoD1ceBH5d8mecDn5a0R9620ZLenR+7HNhV0nGS1s+XfSTtnh//JHC8pFMkbZl//hWSZvZznk3z63woL3cCWY+WfLvfe5Kfbz9lw7eeAp6hz71qJB+WV+/nZgY40A61X0laQdaj+wzwLV54CPUpsrGiN0laDvwO+BdY9dDsBOAs4AmyYU/bs6Z9gD9LehLoBD4aEYv7KfcRsuCyGLie7KHUBWVcYK+IuAw4E5iZX88d5MOz8lzmW8lymfeRpSrOBDbMj/8JeGO+LJb0KNABzOrnPAvIcsw3Av8EXgbcUFNkoHuyOVmQfIwsdfII2WiHZg34czPr5RcWzMwSc4/WzCwxB1ozsxqSLshfZLljgOOSdI6kRZJul7RXozodaM3MVncRMKnO8cnAhHyZCny3UYUOtGZmNSLiOrJx3wOZAlycvxp+E7BFzZuI/UoyycXTV3y7lCdse51wSRnVNO2MkRNact56Jh+7snGh3BZnz15j34e2O6DM5qyTFnQ/3uomDEu/W3Jlkde763r+4cWFY84GW+18Equ/Dt0RER1NnG4sq7+cszTfN+CbhZ5NyMzWKXlQbSawDpoDrZlVX0/3UJ5tGdlr8b3G0eDNSudozaz6uruKL4PXCbwnH32wP/BEowmJ3KM1s8or80tKJM0ADgLGKPvKpM+TTcRERJxP9obiwWRvBK5k9SlG++VAa2bV11NeoI2IoxscD+DDzdTp1ME64jv3rTE1rdnwET3FlxZwj3Yd4eFdNqwN7cOwpjnQmln1tfkXSTvQmlnlRTmjCZJxoDWz6ivxYVgKDrRmVn1OHZiZJeaHYWZmiblHa2aWmB+GmZkl5odhZmZpRThHa2aWlnO0ZmaJtXnqoK0nlZl34TGtbsKw4UllbFjzpDJrr1XfGTYceVIZG9a6n291C+pq60BrZlZIm6cOHGjNrPr8MMzMLDH3aM3MEnOgNTNLK/wwzMwsMedozcwSWxdTB/efOquUeq7YeotS6mneQy0678Ae/E3xsrO33nvNnd3PlNaW3T+/c2l1pfDQ+be1ugkN/eLBbZv+zIyuJavWr50+GYB5J88trU2V5h6tmVli62KP1sxsSLlHa2aWWFd7T/zd1pPKmK2NrT74ilY3wYaaJ5UxG1pVeBhmJXOO1swsMedozcwSc4/WzCwx92jNzBJr81EHDrRmVn0RrW5BXQ60ZlZ9ztGamSXW5oHWLyyYWfWV+MKCpEmS7pS0SNKp/Rx/qaQ/SLpF0u2SDm5Up3u0ZlZ93d2lVCNpJDAdeAuwFJgjqTMiFtQU+yzws4j4rqSJwCxgh3r1OtCaWfWVlzrYF1gUEYsBJM0EpgC1gTaAzfP10cB9jSp1oDWz6msi0EqaCkyt2dURER35+lhgSc2xpcB+fao4HfitpI8AmwJvbnROB1ozq74mXljIg2pHw4IDOxq4KCK+Kek1wI8k7RkxcCMcaM2s8qKntHG0y4DxNdvj8n21TgQmAUTEjZI2AsYADw5UqUcdmFn19fQUX+qbA0yQtKOkDYCjgM4+Ze4F3gQgaXdgIxp8/5V7tGZWfSWNOoiILknTgCuBkcAFETFf0hnA3IjoBP4L+L6kj5E9GDs+ov6raQ60ZlZ9Jb6wEBGzyIZs1e47rWZ9AfC6Zup0oDWz6mvzN8McaM2s+jypjJlZYu7RmpklVt7wriQcaM2s+koadZCKA62ZVV44dWBmlphTB2ZmifnLGc3MEnOP1swssS4/DDMzS8upAzOzxJw6MDNLy8O7zMxSc4/WzCwxB1ozs8T8Cq6ZWVolfmdYEg60ZlZ9DrRmZol51IGZWWLu0ZqZJeZAa2aWVnQ7dWBmlpZ7tGZmaXl4l5lZag60ZmaJtXeK1oHWzKovuto70jrQmln1tXecdaA1s+rzwzAzs9TcozUzS8s9WjOz1Nq8R6uI8v8l2HCj8W39z0t3EzP9jJDW2Lfz6O3KbM6gLF5+f6ubUFjtfV9/5PD5N76ru6vVTUhqvcQ/q6efvmfNv2RNeuTfDiwcc7a84tpBn69Zw+dPu1WGg2x1pA6yZWnzbxtnRKsbYGY2aD1NLA1ImiTpTkmLJJ06QJkjJC2QNF/SJY3qrMY/V2ZmdZTVo5U0EpgOvAVYCsyR1BkRC2rKTAA+DbwuIh6T9JJG9bpHa2aVFz3Flwb2BRZFxOKIeA6YCUzpU+YDwPSIeAwgIh5sVKkDrZlVXnSr8CJpqqS5NcvUmqrGAktqtpfm+2rtCuwq6QZJN0ma1Kh9Th2YWeU1kzqIiA6gYxCnWw+YABwEjAOuk/SyiHi83gfMzCotekobsbUMGF+zPS7fV2sp8OeIeB64S9LfyALvnIEqderAzCqvxBztHGCCpB0lbQAcBXT2KfNLst4sksaQpRIW16u0UKCV9HZJDspm1pYiVHipX090AdOAK4GFwM8iYr6kMyQdmhe7EnhE0gLgD8ApEfFIvXqLpg6OBL4t6RfABRHx14KfMzNLrswXFiJiFjCrz77TatYD+Hi+FFIo0EbEsZI2B44GLpIUwIXAjIhYUfRkZmYp9HQP+Vu1TSmcDoiI5cClZOPKtgXeAcyT9JFEbTMzKyR6VHhphUI9WklTgOOBXYCLgX0j4kFJmwALgHOTtdDMrIFWBdCiiuZoDwfOiojrandGxEpJJ5bfLDOz4hJMQliqoqmDB/oGWUlnAkTE70tvlZlZE9o9dVA00L6ln32Ty2yImdnaKmt4Vyp1UweSTgY+BOws6faaQ6OAG1I2zMysqO42H3XQKEd7CfBr4CtA7byMKyLi0WStMjNrQqt6qkU1CrQREXdL+nDfA5Je7GBrZu2g6qMOLgEOAW4GAqi9mgB2StQuM7PC2n3UQd1AGxGH5P/fcWiaY2bWvHbv0RadVGaNIVz97TMza4XunhGFl1ZoNOpgI2ATYIykF/FC6mBz1px13MysJSqdOgBOAv4T2I4sT9sbaJcD5yVsl5lZYT1VHnUQEWcDZ0v6SER4PgMza0tVH94FQEScK+m1wA61n4mIixO1y8yssKqnDgCQ9CNgZ+BWoDvfHWQzeZmZtVSlUwc19gYm5jOLm5m1lVaNJiiqaOvuALZJ2RAzs7UVTSytULRHOwZYIGk28Gzvzog4dOCPmJkNjeGSOjg9ZSPMzAZjuIw6uDZ1Q8zM1laJX4KbRNFXcPeXNEfSk5Kek9QtaXnqxpmZFRGo8NIKRVMH5wFHAT8nG4HwHmDXVI0yM2tGV5unDpr5uvFFwMiI6I6IC4FJ6ZplZlbccOnRrpS0AXCrpK8B99NEkDYzS2lY5GiB44CRwDTgKWA88M5UjTKz9tDV3dXqJhQyLHq0EXFPvvo08IV0zTGzdrLeyKK/9LZWu/doi851cBf9vFQREf4qGzNrue4W9VSLamaug14bAe8GXlx+c8zMmtfm32RTOHXwSJ9d35Z0M3Ba+U0yM2tOz3Do0Uraq2ZzBFkPtxrJGzMb9tp9WsGiwfKbvHAtXcDdZOkDM7OWGxYPw4DLyQJtb/88gEOkbDMivlV+08zMiunRMEgdAK8G9gH+jyzYvh2YDfw9UbvMzArrblykpYoG2nHAXhGxAkDS6cAVEXFsqoaZmRVV5qgDSZOAs8le0vrfiPjqAOXeCVwK7BMRc+vVWTTQbg08V7P9XL7PzKzlyhp1IGkkMB14C7AUmCOpMyIW9Ck3Cvgo8Oci9RYNtBcDsyVdlm8fBlxU8LNmZkmVOOpgX2BRRCwGkDQTmAIs6FPui8CZwClFKi0010FEfAk4AXgsX06IiK8Ua7eZWVo9Kr5Imippbs0ytaaqscCSmu2l+b5V8uGu4yPiiqLtKzwWNiLmAfOKljczGyrNDO+KiA6gY23OI2kE8C3g+GY+55cOzKzyust7GLaMbHbCXuPyfb1GAXsC1+TDW7cBOiUdWu+BmAOtmVVeiS8szAEmSNqRLMAeBRzTezAiniD7VnAAJF0DfKKsUQdNWfav2aRen1y41ap9/xHPDVQcgIXPj1pj3wFjHyi3YRVx15Li8/XsOXnj0s770MJNABh78Pqr9o3cf++Bijet5++LSqurKu696OFV6zetfOHnevgb70963uV/TVp92ykr0EZEl6RpwJVkw7suiIj5ks4A5kZE59rU6x6tmVVemV8ZFhGzgFl99vU7gVZEHFSkTgdaM6u84TLXgZlZ2xour+CambWtYTHxt5lZO3PqwMwsMQdaM7PEhss3LJiZtS3naM3MEvOoAzOzxHraPHngQGtmleeHYWZmibV3f9aB1syGAfdozcwS61J792kdaM2s8to7zDrQmtkw4NSBmVliHt5lZpZYe4dZB1ozGwacOjAzS6y7zfu0DrRmVnnu0ZqZJRbu0ZqZpeUerZlZYh7eZWaWWHuHWQdaMxsGuto81DrQmlnl+WGYmVlifhhmZpaYe7RmZom5R2tmllh3uEdrZpaUx9GamSXW7jnaEa1uQD3XL9um1U0wswroaWJphbbu0R4w9oFWN8HMKqDdUwdt3aM1MysimvivEUmTJN0paZGkU/s5/nFJCyTdLun3krZvVKcDrZlVXndE4aUeSSOB6cBkYCJwtKSJfYrdAuwdES8HLgW+1qh9DrRmVnk9ROGlgX2BRRGxOCKeA2YCU2oLRMQfImJlvnkTMK5RpQ60ZlZ5zTwMkzRV0tyaZWpNVWOBJTXbS/N9AzkR+HWj9rX1wzAzsyKaGd4VER1Ax2DPKelYYG/gwEZlHWjNrPJKHHWwDBhfsz0u37caSW8GPgMcGBHPNqrUgdbMKi/KewV3DjBB0o5kAfYo4JjaApJeBXwPmBQRDxap1IHWzCqvrK8bj4guSdOAK4GRwAURMV/SGcDciOgEvg5sBvxcEsC9EXFovXodaM2s8sp8YSEiZgGz+uw7rWb9zc3W6UBrZpVXYuogCQdaM6u8dn8F14HWzCqv3WfvcqA1s8rzxN9mZok5dWBmlpgDrZlZYh51YGaWmHu0ZmaJtfuoA6Xock8eP3mNSs8bPXTf1nPN41sN2bl263pmyM7Vn23GrGjp+bfc47mWnr8ZS+dsWqjctnv0f0/nzN62zOYk9fqTBcC8859fte/3G264av0w1rzGXzEqfcP68bl7fqLB1rHXtgcUDmTz7r9+0Odrlnu0ZlZ5ztGamSXmHK2ZWWLtnqP1V9mY9XH//NbkKm3t9UQUXlrBPVqzPgZ6GGbtq917tA60ZlZ53TF0o5rWhgOtmVVeq1ICRTnQmlnlOXVgZpaYe7RmZom5R2tmllh3dLe6CXU50JpZ5fkVXDOzxPwKrplZYu7Rmpkl5lEHZmaJtfuoA08qY9aHJ5Wpnu7oKby0gnu0Zn14UpnqcY7WzCwx52jNzBJzj9bMLDGPozUzS8w9WjOzxDzxt5lZYn4YZmaWWLunDvzCgplVXjTxXyOSJkm6U9IiSaf2c3xDST/Nj/9Z0g6N6nSgNbPKi4jCSz2SRgLTgcnAROBoSRP7FDsReCwidgHOAs5s1D4HWjOrvJ6IwksD+wKLImJxRDwHzASm9CkzBfhhvn4p8CZJqlep2j23YWZWJklTgak1uzoioiM/9i5gUkS8P98+DtgvIqbVfP6OvMzSfPsfeZmHBzqnH4aZ2TolD6odQ3lOpw7MzF6wDBhfsz0u39dvGUnrAaOBR+pV6kBrZvaCOcAESTtK2gA4CujsU6YTeG++/i7g6miQg3XqwMwsFxFdkqYBVwIjgQsiYr6kM4C5EdEJ/AD4kaRFwKNkwbguPwyz1Uh6MiI2K7nOQ4GJEfFVSYcBf4uIBU3WcQ3wiYiYW2bbzIaCUweWXER0RsRX883DyMYnmq0zHGitX8p8XdIdkv4i6ch8/0GSrpF0qaS/SvpJ7xhCSQfn+26WdI6ky/P9x0s6T9JrgUOBr0u6VdLOeV175+XGSLo7X99Y0kxJCyVdBmxc07a3SrpR0jxJP5dUag/crGzO0dpADgdeCbwCGAPMkXRdfuxVwB7AfcANwOskzQW+B7whIu6SNKNvhRHxJ0mdwOURcSlAnXHeJwMrI2J3SS8H5uXlxwCfBd4cEU9J+hTwceCMMi7aLAUHWhvIAcCMiOgG/inpWmAfYDkwu2aw9q3ADsCTwOKIuCv//AxWHxTerDcA5wBExO2Sbs/370+WerghD9IbADcO4jxmyTnQ2tp4tma9m8H9OerihRTWRgXKC7gqIo4exDnNhpRztDaQPwJHShopaSuyHubsOuXvBHaqmcnoyAHKrQBqv8/7buDV+fq7avZfBxwDIGlP4OX5/pvIUhW75Mc2lbRrgesxaxkHWhvIZcDtwG3A1cAnI+KBgQpHxNPAh4DfSLqZLKA+0U/RmcApkm6RtDPwDeBkSbeQ5YJ7fRfYTNJCsvzrzfl5HgKOB2bk6YQbgd0Gc6FmqXkcrZVG0mYR8WQ+CmE68PeIOKvV7TJrNfdorUwfyB+OzSd7//t7LW6PWVtwj9bMLDH3aM3MEnOgNTNLzIHWzCwxB1ozs8QcaM3MEvt/24krNGgRnWIAAAAASUVORK5CYII=\n",
                "text/plain": "<Figure size 432x288 with 2 Axes>"
              },
              {
                "output_type": "display_data",
                "metadata": {
                  "tags": [],
                  "needs_background": "light"
                },
                "image/png": "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\n",
                "text/plain": "<Figure size 432x288 with 2 Axes>"
              },
              {
                "output_type": "display_data",
                "metadata": {
                  "tags": [],
                  "needs_background": "light"
                },
                "image/png": "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\n",
                "text/plain": "<Figure size 432x288 with 2 Axes>"
              }
            ],
            "_view_module": "@jupyter-widgets/output",
            "_model_module_version": "1.0.0",
            "_view_count": null,
            "_view_module_version": "1.0.0",
            "layout": "IPY_MODEL_a2bf12c4eea847288f38f04a458ce6ad",
            "_model_module": "@jupyter-widgets/output"
          }
        },
        "6ff28496f47c4217933f65180ead49c4": {
          "model_module": "@jupyter-widgets/controls",
          "model_name": "SliderStyleModel",
          "state": {
            "_view_name": "StyleView",
            "handle_color": null,
            "_model_name": "SliderStyleModel",
            "description_width": "",
            "_view_module": "@jupyter-widgets/base",
            "_model_module_version": "1.5.0",
            "_view_count": null,
            "_view_module_version": "1.2.0",
            "_model_module": "@jupyter-widgets/controls"
          }
        },
        "fa4da45d1a4c48dfbbf554688dc56a80": {
          "model_module": "@jupyter-widgets/base",
          "model_name": "LayoutModel",
          "state": {
            "_view_name": "LayoutView",
            "grid_template_rows": null,
            "right": null,
            "justify_content": null,
            "_view_module": "@jupyter-widgets/base",
            "overflow": null,
            "_model_module_version": "1.2.0",
            "_view_count": null,
            "flex_flow": null,
            "width": null,
            "min_width": null,
            "border": null,
            "align_items": null,
            "bottom": null,
            "_model_module": "@jupyter-widgets/base",
            "top": null,
            "grid_column": null,
            "overflow_y": null,
            "overflow_x": null,
            "grid_auto_flow": null,
            "grid_area": null,
            "grid_template_columns": null,
            "flex": null,
            "_model_name": "LayoutModel",
            "justify_items": null,
            "grid_row": null,
            "max_height": null,
            "align_content": null,
            "visibility": null,
            "align_self": null,
            "height": null,
            "min_height": null,
            "padding": null,
            "grid_auto_rows": null,
            "grid_gap": null,
            "max_width": null,
            "order": null,
            "_view_module_version": "1.2.0",
            "grid_template_areas": null,
            "object_position": null,
            "object_fit": null,
            "grid_auto_columns": null,
            "margin": null,
            "display": null,
            "left": null
          }
        },
        "a4d4d013c54a4fe68cb255cbb7b763ad": {
          "model_module": "@jupyter-widgets/controls",
          "model_name": "SliderStyleModel",
          "state": {
            "_view_name": "StyleView",
            "handle_color": null,
            "_model_name": "SliderStyleModel",
            "description_width": "",
            "_view_module": "@jupyter-widgets/base",
            "_model_module_version": "1.5.0",
            "_view_count": null,
            "_view_module_version": "1.2.0",
            "_model_module": "@jupyter-widgets/controls"
          }
        },
        "c7cf80a670ad45b5a9f5863bb70d395d": {
          "model_module": "@jupyter-widgets/base",
          "model_name": "LayoutModel",
          "state": {
            "_view_name": "LayoutView",
            "grid_template_rows": null,
            "right": null,
            "justify_content": null,
            "_view_module": "@jupyter-widgets/base",
            "overflow": null,
            "_model_module_version": "1.2.0",
            "_view_count": null,
            "flex_flow": null,
            "width": null,
            "min_width": null,
            "border": null,
            "align_items": null,
            "bottom": null,
            "_model_module": "@jupyter-widgets/base",
            "top": null,
            "grid_column": null,
            "overflow_y": null,
            "overflow_x": null,
            "grid_auto_flow": null,
            "grid_area": null,
            "grid_template_columns": null,
            "flex": null,
            "_model_name": "LayoutModel",
            "justify_items": null,
            "grid_row": null,
            "max_height": null,
            "align_content": null,
            "visibility": null,
            "align_self": null,
            "height": null,
            "min_height": null,
            "padding": null,
            "grid_auto_rows": null,
            "grid_gap": null,
            "max_width": null,
            "order": null,
            "_view_module_version": "1.2.0",
            "grid_template_areas": null,
            "object_position": null,
            "object_fit": null,
            "grid_auto_columns": null,
            "margin": null,
            "display": null,
            "left": null
          }
        },
        "a2bf12c4eea847288f38f04a458ce6ad": {
          "model_module": "@jupyter-widgets/base",
          "model_name": "LayoutModel",
          "state": {
            "_view_name": "LayoutView",
            "grid_template_rows": null,
            "right": null,
            "justify_content": null,
            "_view_module": "@jupyter-widgets/base",
            "overflow": null,
            "_model_module_version": "1.2.0",
            "_view_count": null,
            "flex_flow": null,
            "width": null,
            "min_width": null,
            "border": null,
            "align_items": null,
            "bottom": null,
            "_model_module": "@jupyter-widgets/base",
            "top": null,
            "grid_column": null,
            "overflow_y": null,
            "overflow_x": null,
            "grid_auto_flow": null,
            "grid_area": null,
            "grid_template_columns": null,
            "flex": null,
            "_model_name": "LayoutModel",
            "justify_items": null,
            "grid_row": null,
            "max_height": null,
            "align_content": null,
            "visibility": null,
            "align_self": null,
            "height": null,
            "min_height": null,
            "padding": null,
            "grid_auto_rows": null,
            "grid_gap": null,
            "max_width": null,
            "order": null,
            "_view_module_version": "1.2.0",
            "grid_template_areas": null,
            "object_position": null,
            "object_fit": null,
            "grid_auto_columns": null,
            "margin": null,
            "display": null,
            "left": null
          }
        },
        "c4efb7c7d4d14ea0a8eba2c6a68f8a83": {
          "model_module": "@jupyter-widgets/controls",
          "model_name": "VBoxModel",
          "state": {
            "_view_name": "VBoxView",
            "_dom_classes": [
              "widget-interact"
            ],
            "_model_name": "VBoxModel",
            "_view_module": "@jupyter-widgets/controls",
            "_model_module_version": "1.5.0",
            "_view_count": null,
            "_view_module_version": "1.5.0",
            "box_style": "",
            "layout": "IPY_MODEL_12a04212e7f241ef89995205356c862c",
            "_model_module": "@jupyter-widgets/controls",
            "children": [
              "IPY_MODEL_bddb37005f8d4cd2b6e7c2fd7efd9536",
              "IPY_MODEL_ae6aae157db740258f6e347338b8dbd6",
              "IPY_MODEL_7b0ebbf247b44b44a07cd09987880734"
            ]
          }
        },
        "12a04212e7f241ef89995205356c862c": {
          "model_module": "@jupyter-widgets/base",
          "model_name": "LayoutModel",
          "state": {
            "_view_name": "LayoutView",
            "grid_template_rows": null,
            "right": null,
            "justify_content": null,
            "_view_module": "@jupyter-widgets/base",
            "overflow": null,
            "_model_module_version": "1.2.0",
            "_view_count": null,
            "flex_flow": null,
            "width": null,
            "min_width": null,
            "border": null,
            "align_items": null,
            "bottom": null,
            "_model_module": "@jupyter-widgets/base",
            "top": null,
            "grid_column": null,
            "overflow_y": null,
            "overflow_x": null,
            "grid_auto_flow": null,
            "grid_area": null,
            "grid_template_columns": null,
            "flex": null,
            "_model_name": "LayoutModel",
            "justify_items": null,
            "grid_row": null,
            "max_height": null,
            "align_content": null,
            "visibility": null,
            "align_self": null,
            "height": null,
            "min_height": null,
            "padding": null,
            "grid_auto_rows": null,
            "grid_gap": null,
            "max_width": null,
            "order": null,
            "_view_module_version": "1.2.0",
            "grid_template_areas": null,
            "object_position": null,
            "object_fit": null,
            "grid_auto_columns": null,
            "margin": null,
            "display": null,
            "left": null
          }
        },
        "bddb37005f8d4cd2b6e7c2fd7efd9536": {
          "model_module": "@jupyter-widgets/controls",
          "model_name": "IntSliderModel",
          "state": {
            "_view_name": "IntSliderView",
            "style": "IPY_MODEL_ac38a82a4fee4a53a6e4dcded1fc1dd0",
            "_dom_classes": [],
            "description": "max_depth",
            "step": 1,
            "_model_name": "IntSliderModel",
            "orientation": "horizontal",
            "max": 6,
            "_view_module": "@jupyter-widgets/controls",
            "_model_module_version": "1.5.0",
            "value": 2,
            "_view_count": null,
            "disabled": false,
            "_view_module_version": "1.5.0",
            "min": 1,
            "continuous_update": true,
            "readout_format": "d",
            "description_tooltip": null,
            "readout": true,
            "_model_module": "@jupyter-widgets/controls",
            "layout": "IPY_MODEL_3688881d651e427fbf303cfbe679d63c"
          }
        },
        "ae6aae157db740258f6e347338b8dbd6": {
          "model_module": "@jupyter-widgets/controls",
          "model_name": "IntSliderModel",
          "state": {
            "_view_name": "IntSliderView",
            "style": "IPY_MODEL_2f74d033b98b47d2a806dcabca97e7e2",
            "_dom_classes": [],
            "description": "n_estimators",
            "step": 1,
            "_model_name": "IntSliderModel",
            "orientation": "horizontal",
            "max": 5,
            "_view_module": "@jupyter-widgets/controls",
            "_model_module_version": "1.5.0",
            "value": 2,
            "_view_count": null,
            "disabled": false,
            "_view_module_version": "1.5.0",
            "min": 2,
            "continuous_update": true,
            "readout_format": "d",
            "description_tooltip": null,
            "readout": true,
            "_model_module": "@jupyter-widgets/controls",
            "layout": "IPY_MODEL_9e176d69c11e4e4d95fe8bcb0a980928"
          }
        },
        "7b0ebbf247b44b44a07cd09987880734": {
          "model_module": "@jupyter-widgets/output",
          "model_name": "OutputModel",
          "state": {
            "_view_name": "OutputView",
            "msg_id": "",
            "_dom_classes": [],
            "_model_name": "OutputModel",
            "outputs": [
              {
                "output_type": "display_data",
                "metadata": {
                  "tags": [],
                  "needs_background": "light"
                },
                "image/png": "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\n",
                "text/plain": "<Figure size 432x288 with 2 Axes>"
              },
              {
                "output_type": "display_data",
                "metadata": {
                  "tags": [],
                  "needs_background": "light"
                },
                "image/png": "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\n",
                "text/plain": "<Figure size 432x288 with 2 Axes>"
              },
              {
                "output_type": "display_data",
                "metadata": {
                  "tags": [],
                  "needs_background": "light"
                },
                "image/png": "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\n",
                "text/plain": "<Figure size 432x288 with 2 Axes>"
              }
            ],
            "_view_module": "@jupyter-widgets/output",
            "_model_module_version": "1.0.0",
            "_view_count": null,
            "_view_module_version": "1.0.0",
            "layout": "IPY_MODEL_4747f330d35d4beab684823263641ea4",
            "_model_module": "@jupyter-widgets/output"
          }
        },
        "ac38a82a4fee4a53a6e4dcded1fc1dd0": {
          "model_module": "@jupyter-widgets/controls",
          "model_name": "SliderStyleModel",
          "state": {
            "_view_name": "StyleView",
            "handle_color": null,
            "_model_name": "SliderStyleModel",
            "description_width": "",
            "_view_module": "@jupyter-widgets/base",
            "_model_module_version": "1.5.0",
            "_view_count": null,
            "_view_module_version": "1.2.0",
            "_model_module": "@jupyter-widgets/controls"
          }
        },
        "3688881d651e427fbf303cfbe679d63c": {
          "model_module": "@jupyter-widgets/base",
          "model_name": "LayoutModel",
          "state": {
            "_view_name": "LayoutView",
            "grid_template_rows": null,
            "right": null,
            "justify_content": null,
            "_view_module": "@jupyter-widgets/base",
            "overflow": null,
            "_model_module_version": "1.2.0",
            "_view_count": null,
            "flex_flow": null,
            "width": null,
            "min_width": null,
            "border": null,
            "align_items": null,
            "bottom": null,
            "_model_module": "@jupyter-widgets/base",
            "top": null,
            "grid_column": null,
            "overflow_y": null,
            "overflow_x": null,
            "grid_auto_flow": null,
            "grid_area": null,
            "grid_template_columns": null,
            "flex": null,
            "_model_name": "LayoutModel",
            "justify_items": null,
            "grid_row": null,
            "max_height": null,
            "align_content": null,
            "visibility": null,
            "align_self": null,
            "height": null,
            "min_height": null,
            "padding": null,
            "grid_auto_rows": null,
            "grid_gap": null,
            "max_width": null,
            "order": null,
            "_view_module_version": "1.2.0",
            "grid_template_areas": null,
            "object_position": null,
            "object_fit": null,
            "grid_auto_columns": null,
            "margin": null,
            "display": null,
            "left": null
          }
        },
        "2f74d033b98b47d2a806dcabca97e7e2": {
          "model_module": "@jupyter-widgets/controls",
          "model_name": "SliderStyleModel",
          "state": {
            "_view_name": "StyleView",
            "handle_color": null,
            "_model_name": "SliderStyleModel",
            "description_width": "",
            "_view_module": "@jupyter-widgets/base",
            "_model_module_version": "1.5.0",
            "_view_count": null,
            "_view_module_version": "1.2.0",
            "_model_module": "@jupyter-widgets/controls"
          }
        },
        "9e176d69c11e4e4d95fe8bcb0a980928": {
          "model_module": "@jupyter-widgets/base",
          "model_name": "LayoutModel",
          "state": {
            "_view_name": "LayoutView",
            "grid_template_rows": null,
            "right": null,
            "justify_content": null,
            "_view_module": "@jupyter-widgets/base",
            "overflow": null,
            "_model_module_version": "1.2.0",
            "_view_count": null,
            "flex_flow": null,
            "width": null,
            "min_width": null,
            "border": null,
            "align_items": null,
            "bottom": null,
            "_model_module": "@jupyter-widgets/base",
            "top": null,
            "grid_column": null,
            "overflow_y": null,
            "overflow_x": null,
            "grid_auto_flow": null,
            "grid_area": null,
            "grid_template_columns": null,
            "flex": null,
            "_model_name": "LayoutModel",
            "justify_items": null,
            "grid_row": null,
            "max_height": null,
            "align_content": null,
            "visibility": null,
            "align_self": null,
            "height": null,
            "min_height": null,
            "padding": null,
            "grid_auto_rows": null,
            "grid_gap": null,
            "max_width": null,
            "order": null,
            "_view_module_version": "1.2.0",
            "grid_template_areas": null,
            "object_position": null,
            "object_fit": null,
            "grid_auto_columns": null,
            "margin": null,
            "display": null,
            "left": null
          }
        },
        "4747f330d35d4beab684823263641ea4": {
          "model_module": "@jupyter-widgets/base",
          "model_name": "LayoutModel",
          "state": {
            "_view_name": "LayoutView",
            "grid_template_rows": null,
            "right": null,
            "justify_content": null,
            "_view_module": "@jupyter-widgets/base",
            "overflow": null,
            "_model_module_version": "1.2.0",
            "_view_count": null,
            "flex_flow": null,
            "width": null,
            "min_width": null,
            "border": null,
            "align_items": null,
            "bottom": null,
            "_model_module": "@jupyter-widgets/base",
            "top": null,
            "grid_column": null,
            "overflow_y": null,
            "overflow_x": null,
            "grid_auto_flow": null,
            "grid_area": null,
            "grid_template_columns": null,
            "flex": null,
            "_model_name": "LayoutModel",
            "justify_items": null,
            "grid_row": null,
            "max_height": null,
            "align_content": null,
            "visibility": null,
            "align_self": null,
            "height": null,
            "min_height": null,
            "padding": null,
            "grid_auto_rows": null,
            "grid_gap": null,
            "max_width": null,
            "order": null,
            "_view_module_version": "1.2.0",
            "grid_template_areas": null,
            "object_position": null,
            "object_fit": null,
            "grid_auto_columns": null,
            "margin": null,
            "display": null,
            "left": null
          }
        }
      }
    }
  },
  "cells": [
    {
      "cell_type": "markdown",
      "metadata": {
        "id": "view-in-github",
        "colab_type": "text"
      },
      "source": [
        "<a href=\"https://colab.research.google.com/github/noah40povis/DS-Unit-1-Sprint-1-Data-Wrangling-and-Storytelling/blob/master/module2-random-forests/LS_DS16_222.ipynb\" target=\"_parent\"><img src=\"https://colab.research.google.com/assets/colab-badge.svg\" alt=\"Open In Colab\"/></a>"
      ]
    },
    {
      "cell_type": "markdown",
      "metadata": {
        "colab_type": "text",
        "id": "UEHyIgGaaSEJ"
      },
      "source": [
        "Lambda School Data Science\n",
        "\n",
        "*Unit 2, Sprint 2, Module 2*\n",
        "\n",
        "---"
      ]
    },
    {
      "cell_type": "markdown",
      "metadata": {
        "colab_type": "text",
        "id": "mRfPLX4WgLVJ"
      },
      "source": [
        "# Random Forests"
      ]
    },
    {
      "cell_type": "markdown",
      "metadata": {
        "colab_type": "text",
        "id": "jRRNhkxcgLVK"
      },
      "source": [
        "- use scikit-learn for **random forests**\n",
        "- do **ordinal encoding** with high-cardinality categoricals\n",
        "- understand how categorical encodings affect trees differently compared to linear models\n",
        "- understand how tree ensembles reduce overfitting compared to a single decision tree with unlimited depth"
      ]
    },
    {
      "cell_type": "markdown",
      "metadata": {
        "colab_type": "text",
        "id": "-3TH11e1gLVL"
      },
      "source": [
        "Today's lesson has two take-away messages:\n",
        "\n",
        "#### Try Tree Ensembles when you do machine learning with labeled, tabular data\n",
        "- \"Tree Ensembles\" means Random Forest or Gradient Boosting models. \n",
        "- [Tree Ensembles often have the best predictive accuracy](https://arxiv.org/abs/1708.05070) with labeled, tabular data.\n",
        "- Why? Because trees can fit non-linear, non-[monotonic](https://en.wikipedia.org/wiki/Monotonic_function) relationships, and [interactions](https://christophm.github.io/interpretable-ml-book/interaction.html) between features.\n",
        "- A single decision tree, grown to unlimited depth, will [overfit](http://www.r2d3.us/visual-intro-to-machine-learning-part-1/). We solve this problem by ensembling trees, with bagging (Random Forest) or boosting (Gradient Boosting).\n",
        "- Random Forest's advantage: may be less sensitive to hyperparameters. Gradient Boosting's advantage: may get better predictive accuracy.\n",
        "\n",
        "#### One-hot encoding isn’t the only way, and may not be the best way, of categorical encoding for tree ensembles.\n",
        "- For example, tree ensembles can work with arbitrary \"ordinal\" encoding! (Randomly assigning an integer to each category.) Compared to one-hot encoding, the dimensionality will be lower, and the predictive accuracy may be just as good or even better.\n"
      ]
    },
    {
      "cell_type": "markdown",
      "metadata": {
        "colab_type": "text",
        "id": "r5PbOFEuFfGF"
      },
      "source": [
        "### Setup\n",
        "\n",
        "Run the code cell below. You can work locally (follow the [local setup instructions](https://lambdaschool.github.io/ds/unit2/local/)) or on Colab.\n",
        "\n",
        "Libraries\n",
        "\n",
        "- **category_encoders** \n",
        "- **graphviz**\n",
        "- ipywidgets\n",
        "- matplotlib\n",
        "- numpy\n",
        "- pandas\n",
        "- seaborn\n",
        "- scikit-learn"
      ]
    },
    {
      "cell_type": "code",
      "metadata": {
        "colab_type": "code",
        "id": "FStAplyRFoEu",
        "colab": {}
      },
      "source": [
        "%%capture\n",
        "import sys\n",
        "\n",
        "# If you're on Colab:\n",
        "if 'google.colab' in sys.modules:\n",
        "    DATA_PATH = 'https://raw.githubusercontent.com/LambdaSchool/DS-Unit-2-Kaggle-Challenge/master/data/'\n",
        "    !pip install category_encoders==2.*\n",
        "\n",
        "# If you're working locally:\n",
        "else:\n",
        "    DATA_PATH = '../data/'"
      ],
      "execution_count": 0,
      "outputs": []
    },
    {
      "cell_type": "markdown",
      "metadata": {
        "colab_type": "text",
        "id": "ZL-yK8B7gLVW"
      },
      "source": [
        "# Use scikit-learn for random forests"
      ]
    },
    {
      "cell_type": "markdown",
      "metadata": {
        "id": "VYBIAOngx54s",
        "colab_type": "text"
      },
      "source": [
        "## Overview\n",
        "\n",
        "Let's fit a Random Forest!\n",
        "\n",
        "![](https://pbs.twimg.com/media/EGSvKA0UUAEzUZi?format=png)\n",
        "\n",
        "[Chris Albon, MachineLearningFlashcards.com](https://twitter.com/chrisalbon/status/1181261589887909889)"
      ]
    },
    {
      "cell_type": "markdown",
      "metadata": {
        "colab_type": "text",
        "id": "gHFxMCPSgLVM"
      },
      "source": [
        "### Solution example\n",
        "\n",
        "First, read & wrangle the data.\n",
        "\n",
        "> Define a function to wrangle train, validate, and test sets in the same way. Clean outliers and engineer features. (For example, [what other columns have zeros and shouldn't?](https://github.com/Quartz/bad-data-guide#zeros-replace-missing-values) What other columns are duplicates, or nearly duplicates? Can you extract the year from date_recorded? Can you engineer new features, such as the number of years from waterpump construction to waterpump inspection?)"
      ]
    },
    {
      "cell_type": "code",
      "metadata": {
        "colab_type": "code",
        "id": "YTLm-rDagLVM",
        "colab": {}
      },
      "source": [
        "import numpy as np\n",
        "import pandas as pd\n",
        "from sklearn.model_selection import train_test_split\n",
        "\n",
        "# Merge train_features.csv & train_labels.csv\n",
        "train = pd.merge(pd.read_csv(DATA_PATH+'waterpumps/train_features.csv'), \n",
        "                 pd.read_csv(DATA_PATH+'waterpumps/train_labels.csv'))\n",
        "\n",
        "# Read test_features.csv & sample_submission.csv\n",
        "test = pd.read_csv(DATA_PATH+'waterpumps/test_features.csv')\n",
        "sample_submission = pd.read_csv(DATA_PATH+'waterpumps/sample_submission.csv')\n",
        "\n",
        "# Split train into train & val\n",
        "train, val = train_test_split(train, train_size=0.80, test_size=0.20, \n",
        "                              stratify=train['status_group'], random_state=42)\n",
        "\n",
        "\n",
        "def wrangle(X):\n",
        "    \"\"\"Wrangle train, validate, and test sets in the same way\"\"\"\n",
        "    \n",
        "    # Prevent SettingWithCopyWarning\n",
        "    X = X.copy()\n",
        "    \n",
        "    # About 3% of the time, latitude has small values near zero,\n",
        "    # outside Tanzania, so we'll treat these values like zero.\n",
        "    X['latitude'] = X['latitude'].replace(-2e-08, 0)\n",
        "    \n",
        "    # When columns have zeros and shouldn't, they are like null values.\n",
        "    # So we will replace the zeros with nulls, and impute missing values later.\n",
        "    # Also create a \"missing indicator\" column, because the fact that\n",
        "    # values are missing may be a predictive signal.\n",
        "    cols_with_zeros = ['longitude', 'latitude', 'construction_year', \n",
        "                       'gps_height', 'population']\n",
        "    for col in cols_with_zeros:\n",
        "        X[col] = X[col].replace(0, np.nan)\n",
        "        X[col+'_MISSING'] = X[col].isnull()\n",
        "            \n",
        "    # Drop duplicate columns\n",
        "    duplicates = ['quantity_group', 'payment_type']\n",
        "    X = X.drop(columns=duplicates)\n",
        "    \n",
        "    # Drop recorded_by (never varies) and id (always varies, random)\n",
        "    unusable_variance = ['recorded_by', 'id']\n",
        "    X = X.drop(columns=unusable_variance)\n",
        "    \n",
        "    # Convert date_recorded to datetime\n",
        "    X['date_recorded'] = pd.to_datetime(X['date_recorded'], infer_datetime_format=True)\n",
        "    \n",
        "    # Extract components from date_recorded, then drop the original column\n",
        "    X['year_recorded'] = X['date_recorded'].dt.year\n",
        "    X['month_recorded'] = X['date_recorded'].dt.month\n",
        "    X['day_recorded'] = X['date_recorded'].dt.day\n",
        "    X = X.drop(columns='date_recorded')\n",
        "    \n",
        "    # Engineer feature: how many years from construction_year to date_recorded\n",
        "    X['years'] = X['year_recorded'] - X['construction_year']\n",
        "    X['years_MISSING'] = X['years'].isnull()\n",
        "    \n",
        "    # return the wrangled dataframe\n",
        "    return X\n",
        "\n",
        "train = wrangle(train)\n",
        "val = wrangle(val)\n",
        "test = wrangle(test)"
      ],
      "execution_count": 0,
      "outputs": []
    },
    {
      "cell_type": "code",
      "metadata": {
        "colab_type": "code",
        "id": "m2HppBvZgLVP",
        "colab": {}
      },
      "source": [
        "# The status_group column is the target\n",
        "target = 'status_group'\n",
        "\n",
        "# Get a dataframe with all train columns except the target\n",
        "train_features = train.drop(columns=[target])\n",
        "\n",
        "# Get a list of the numeric features\n",
        "numeric_features = train_features.select_dtypes(include='number').columns.tolist()\n",
        "\n",
        "# Get a series with the cardinality of the nonnumeric features\n",
        "cardinality = train_features.select_dtypes(exclude='number').nunique()\n",
        "\n",
        "# Get a list of all categorical features with cardinality <= 50\n",
        "categorical_features = cardinality[cardinality <= 50].index.tolist()\n",
        "\n",
        "# Combine the lists \n",
        "features = numeric_features + categorical_features"
      ],
      "execution_count": 0,
      "outputs": []
    },
    {
      "cell_type": "code",
      "metadata": {
        "colab_type": "code",
        "id": "aXmK2brXgLVR",
        "colab": {}
      },
      "source": [
        "# Arrange data into X features matrix and y target vector \n",
        "X_train = train[features]\n",
        "y_train = train[target]\n",
        "X_val = val[features]\n",
        "y_val = val[target]\n",
        "X_test = test[features]"
      ],
      "execution_count": 0,
      "outputs": []
    },
    {
      "cell_type": "markdown",
      "metadata": {
        "id": "WsHE5nlvx54z",
        "colab_type": "text"
      },
      "source": [
        "## Follow Along\n",
        "\n",
        "[Scikit-Learn User Guide: Random Forests](https://scikit-learn.org/stable/modules/ensemble.html#random-forests) "
      ]
    },
    {
      "cell_type": "code",
      "metadata": {
        "colab_type": "code",
        "id": "57yyygsdgLVW",
        "outputId": "bb31257c-92e7-4bee-b093-1d9c2b1bf3d9",
        "colab": {
          "base_uri": "https://localhost:8080/",
          "height": 69
        }
      },
      "source": [
        "%%time\n",
        "# WARNING: the %%time command sometimes ha quirks/bugs \n",
        "\n",
        "import category_encoders as ce\n",
        "from sklearn.ensemble import RandomForestClassifier\n",
        "from sklearn.impute import SimpleImputer\n",
        "from sklearn.pipeline import make_pipeline\n",
        "\n",
        "pipeline = make_pipeline(\n",
        "    ce.OneHotEncoder(use_cat_names=True), \n",
        "    SimpleImputer(strategy='median'), \n",
        "    RandomForestClassifier(random_state=0, n_jobs=-1)\n",
        ")\n",
        "\n",
        "# Fit on train, score on val\n",
        "pipeline.fit(X_train, y_train)\n",
        "print('Validation Accuracy', pipeline.score(X_val, y_val))"
      ],
      "execution_count": 0,
      "outputs": [
        {
          "output_type": "stream",
          "text": [
            "Validation Accuracy 0.8088383838383838\n",
            "CPU times: user 22.7 s, sys: 203 ms, total: 22.9 s\n",
            "Wall time: 14 s\n"
          ],
          "name": "stdout"
        }
      ]
    },
    {
      "cell_type": "code",
      "metadata": {
        "id": "2kXHENq34NPP",
        "colab_type": "code",
        "outputId": "2dda3631-ba13-4ecf-ab9a-40e18aec11cc",
        "colab": {
          "base_uri": "https://localhost:8080/",
          "height": 35
        }
      },
      "source": [
        "print('X_train shape before encoding', X_train.shape)"
      ],
      "execution_count": 0,
      "outputs": [
        {
          "output_type": "stream",
          "text": [
            "X_train shape before encoding (47520, 38)\n"
          ],
          "name": "stdout"
        }
      ]
    },
    {
      "cell_type": "code",
      "metadata": {
        "id": "c1jT4n1O4kVP",
        "colab_type": "code",
        "outputId": "dd8854bb-19dd-48f4-f5fb-c794628d305f",
        "colab": {
          "base_uri": "https://localhost:8080/",
          "height": 35
        }
      },
      "source": [
        "train.describe(exclude='number').T.sort_values(by='unique').unique.sum()"
      ],
      "execution_count": 0,
      "outputs": [
        {
          "output_type": "execute_result",
          "data": {
            "text/plain": [
              "56481"
            ]
          },
          "metadata": {
            "tags": []
          },
          "execution_count": 30
        }
      ]
    },
    {
      "cell_type": "code",
      "metadata": {
        "id": "-UxYGnJf7dMG",
        "colab_type": "code",
        "outputId": "172d0181-da09-4104-dda6-f85c3db8ca59",
        "colab": {
          "base_uri": "https://localhost:8080/",
          "height": 35
        }
      },
      "source": [
        "47520 * 56481"
      ],
      "execution_count": 0,
      "outputs": [
        {
          "output_type": "execute_result",
          "data": {
            "text/plain": [
              "2683977120"
            ]
          },
          "metadata": {
            "tags": []
          },
          "execution_count": 31
        }
      ]
    },
    {
      "cell_type": "code",
      "metadata": {
        "id": "IureAgJ849wR",
        "colab_type": "code",
        "outputId": "bc9efba6-07bf-4479-e505-8d77a5763b8e",
        "colab": {
          "base_uri": "https://localhost:8080/",
          "height": 35
        }
      },
      "source": [
        "encoder = pipeline.named_steps['onehotencoder']\n",
        "encoded = encoder.transform(X_train)\n",
        "print('X_train shape after encoding', encoded.shape)"
      ],
      "execution_count": 0,
      "outputs": [
        {
          "output_type": "stream",
          "text": [
            "X_train shape after encoding (47520, 182)\n"
          ],
          "name": "stdout"
        }
      ]
    },
    {
      "cell_type": "code",
      "metadata": {
        "id": "0FHOyHv15co3",
        "colab_type": "code",
        "outputId": "c7c77532-6118-45e6-e814-e7eda3ca4f3a",
        "colab": {
          "base_uri": "https://localhost:8080/",
          "height": 607
        }
      },
      "source": [
        "%matplotlib inline\n",
        "import matplotlib.pyplot as plt\n",
        "\n",
        "# Get feature importances\n",
        "rf = pipeline.named_steps['randomforestclassifier']\n",
        "importances = pd.Series(rf.feature_importances_, encoded.columns)\n",
        "\n",
        "# Plot top n feature importances\n",
        "n = 20\n",
        "plt.figure(figsize=(10,n/2))\n",
        "plt.title(f'Top {n} features')\n",
        "importances.sort_values()[-n:].plot.barh();"
      ],
      "execution_count": 0,
      "outputs": [
        {
          "output_type": "display_data",
          "data": {
            "image/png": "[encoded data removed]",
            "text/plain": [
              "<Figure size 720x720 with 1 Axes>"
            ]
          },
          "metadata": {
            "tags": [],
            "needs_background": "light"
          }
        }
      ]
    },
    {
      "cell_type": "code",
      "metadata": {
        "id": "qMWKYy7j71fo",
        "colab_type": "code",
        "outputId": "f25f8c5c-a0c5-40d5-8a9c-d8907a2ee60c",
        "colab": {
          "base_uri": "https://localhost:8080/",
          "height": 283
        }
      },
      "source": [
        "importances.sort_values()[-10:].plot.barh()"
      ],
      "execution_count": 0,
      "outputs": [
        {
          "output_type": "execute_result",
          "data": {
            "text/plain": [
              "<matplotlib.axes._subplots.AxesSubplot at 0x7f34d38622e8>"
            ]
          },
          "metadata": {
            "tags": []
          },
          "execution_count": 36
        },
        {
          "output_type": "display_data",
          "data": {
            "image/png": "[encoded data removed]",
            "text/plain": [
              "<Figure size 432x288 with 1 Axes>"
            ]
          },
          "metadata": {
            "tags": [],
            "needs_background": "light"
          }
        }
      ]
    },
    {
      "cell_type": "markdown",
      "metadata": {
        "colab_type": "text",
        "id": "yfyk_aa5gLVY"
      },
      "source": [
        "# Do ordinal encoding with high-cardinality categoricals"
      ]
    },
    {
      "cell_type": "markdown",
      "metadata": {
        "id": "nsrqwK3Nx542",
        "colab_type": "text"
      },
      "source": [
        "## Overview\n",
        "\n",
        "https://contrib.scikit-learn.org/category_encoders/ordinal.html"
      ]
    },
    {
      "cell_type": "markdown",
      "metadata": {
        "id": "b3y74rwxx543",
        "colab_type": "text"
      },
      "source": [
        "## Follow Along"
      ]
    },
    {
      "cell_type": "code",
      "metadata": {
        "colab_type": "code",
        "id": "b8d_WJtcgLVZ",
        "colab": {}
      },
      "source": [
        "# Re-arrange data into X features matrix and y target vector, so\n",
        "# we use *all* features, including the high-cardinality categoricals\n",
        "X_train = train.drop(columns=target)\n",
        "y_train = train[target]\n",
        "X_val = val.drop(columns=target)\n",
        "y_val = val[target]\n",
        "X_test = test"
      ],
      "execution_count": 0,
      "outputs": []
    },
    {
      "cell_type": "code",
      "metadata": {
        "id": "bPvh-nh2-eTf",
        "colab_type": "code",
        "outputId": "d9b83bfe-d7d1-485c-e65e-436e8052bcde",
        "colab": {
          "base_uri": "https://localhost:8080/",
          "height": 69
        }
      },
      "source": [
        "%%time\n",
        "\n",
        "# This pipeline is identical to the example cell above, \n",
        "# except we're replacing one-hot encoder with \"ordinal\" encoder\n",
        "\n",
        "pipeline = make_pipeline(\n",
        "    ce.OrdinalEncoder(), \n",
        "    SimpleImputer(strategy='median'), \n",
        "    RandomForestClassifier(random_state=0, n_jobs=-1)\n",
        ")\n",
        "\n",
        "# Fit on train, score on val\n",
        "pipeline.fit(X_train, y_train)\n",
        "print('Validation Accuracy', pipeline.score(X_val, y_val))"
      ],
      "execution_count": 0,
      "outputs": [
        {
          "output_type": "stream",
          "text": [
            "Validation Accuracy 0.8092592592592592\n",
            "CPU times: user 17.1 s, sys: 117 ms, total: 17.2 s\n",
            "Wall time: 9.51 s\n"
          ],
          "name": "stdout"
        }
      ]
    },
    {
      "cell_type": "code",
      "metadata": {
        "id": "_Q3IrRI9_JsX",
        "colab_type": "code",
        "outputId": "bafb82b5-1ea0-41f4-e241-1432a828b021",
        "colab": {
          "base_uri": "https://localhost:8080/",
          "height": 35
        }
      },
      "source": [
        "print('X_train shape before encoding', X_train.shape)"
      ],
      "execution_count": 0,
      "outputs": [
        {
          "output_type": "stream",
          "text": [
            "X_train shape before encoding (47520, 45)\n"
          ],
          "name": "stdout"
        }
      ]
    },
    {
      "cell_type": "code",
      "metadata": {
        "id": "BGcbYVTx_P3Z",
        "colab_type": "code",
        "outputId": "d3874a6c-c9be-4542-e2d0-df8a48af3027",
        "colab": {
          "base_uri": "https://localhost:8080/",
          "height": 35
        }
      },
      "source": [
        "encoder = pipeline.named_steps['ordinalencoder']\n",
        "encoded = encoder.transform(X_train)\n",
        "print('X_train shape after encoding', encoded.shape)"
      ],
      "execution_count": 0,
      "outputs": [
        {
          "output_type": "stream",
          "text": [
            "X_train shape after encoding (47520, 45)\n"
          ],
          "name": "stdout"
        }
      ]
    },
    {
      "cell_type": "code",
      "metadata": {
        "id": "q8LURu3DAVRf",
        "colab_type": "code",
        "outputId": "2e4e1828-cbf9-4e3b-c05d-fc232c348598",
        "colab": {
          "base_uri": "https://localhost:8080/",
          "height": 607
        }
      },
      "source": [
        "# Get feature importances\n",
        "rf = pipeline.named_steps['randomforestclassifier']\n",
        "importances = pd.Series(rf.feature_importances_, encoded.columns)\n",
        "\n",
        "# Plot top n feature importances\n",
        "n = 20\n",
        "plt.figure(figsize=(10,n/2))\n",
        "plt.title(f'Top {n} features with ordinal encoding')\n",
        "importances.sort_values()[-n:].plot.barh();"
      ],
      "execution_count": 0,
      "outputs": [
        {
          "output_type": "display_data",
          "data": {
            "image/png": "[encoded data removed]",
            "text/plain": [
              "<Figure size 720x720 with 1 Axes>"
            ]
          },
          "metadata": {
            "tags": [],
            "needs_background": "light"
          }
        }
      ]
    },
    {
      "cell_type": "markdown",
      "metadata": {
        "colab_type": "text",
        "id": "xs2UPoVdgLVp"
      },
      "source": [
        "# Understand how categorical encodings affect trees differently compared to linear models"
      ]
    },
    {
      "cell_type": "markdown",
      "metadata": {
        "id": "tB8riI_3x546",
        "colab_type": "text"
      },
      "source": [
        "## Follow Along"
      ]
    },
    {
      "cell_type": "markdown",
      "metadata": {
        "colab_type": "text",
        "id": "z8V-A92mgLVp"
      },
      "source": [
        "### Categorical exploration, 1 feature at a time\n",
        "\n",
        "Change `feature`, then re-run these cells!"
      ]
    },
    {
      "cell_type": "code",
      "metadata": {
        "colab_type": "code",
        "id": "G35RAzVdgLVq",
        "colab": {}
      },
      "source": [
        "feature = 'extraction_type_class'"
      ],
      "execution_count": 0,
      "outputs": []
    },
    {
      "cell_type": "code",
      "metadata": {
        "colab_type": "code",
        "id": "OuxHWiH8gLVr",
        "outputId": "3b066f9e-98df-4f7a-c579-1cba1367758d",
        "colab": {
          "base_uri": "https://localhost:8080/",
          "height": 151
        }
      },
      "source": [
        "X_train[feature].value_counts()"
      ],
      "execution_count": 0,
      "outputs": [
        {
          "output_type": "execute_result",
          "data": {
            "text/plain": [
              "gravity         21448\n",
              "handpump        13184\n",
              "other            5193\n",
              "submersible      4894\n",
              "motorpump        2355\n",
              "rope pump         353\n",
              "wind-powered       93\n",
              "Name: extraction_type_class, dtype: int64"
            ]
          },
          "metadata": {
            "tags": []
          },
          "execution_count": 49
        }
      ]
    },
    {
      "cell_type": "code",
      "metadata": {
        "colab_type": "code",
        "id": "pVxoC4NngLVt",
        "outputId": "6bbed02b-d98a-44a8-db85-67d014e43bb4",
        "colab": {
          "base_uri": "https://localhost:8080/",
          "height": 552
        }
      },
      "source": [
        "import seaborn as sns\n",
        "plt.figure(figsize=(16,9))\n",
        "sns.barplot(\n",
        "    x=train[feature], \n",
        "    y=train['status_group']=='functional', \n",
        "    color='grey'\n",
        ");"
      ],
      "execution_count": 0,
      "outputs": [
        {
          "output_type": "display_data",
          "data": {
            "image/png": "[encoded data removed]",
            "text/plain": [
              "<Figure size 1152x648 with 1 Axes>"
            ]
          },
          "metadata": {
            "tags": [],
            "needs_background": "light"
          }
        }
      ]
    },
    {
      "cell_type": "code",
      "metadata": {
        "colab_type": "code",
        "id": "w99mek14gLVv",
        "outputId": "75fdf142-29bf-4bc9-93c7-36623bfd6012",
        "colab": {
          "base_uri": "https://localhost:8080/",
          "height": 370
        }
      },
      "source": [
        "X_train[feature].head(20)"
      ],
      "execution_count": 0,
      "outputs": [
        {
          "output_type": "execute_result",
          "data": {
            "text/plain": [
              "43360        gravity\n",
              "7263         gravity\n",
              "2486        handpump\n",
              "313            other\n",
              "52726      motorpump\n",
              "8558         gravity\n",
              "2559         gravity\n",
              "54735      motorpump\n",
              "25763       handpump\n",
              "44540    submersible\n",
              "28603          other\n",
              "4372     submersible\n",
              "30666        gravity\n",
              "6431     submersible\n",
              "57420          other\n",
              "1373         gravity\n",
              "2026         gravity\n",
              "58977       handpump\n",
              "41101        gravity\n",
              "10019        gravity\n",
              "Name: extraction_type_class, dtype: object"
            ]
          },
          "metadata": {
            "tags": []
          },
          "execution_count": 51
        }
      ]
    },
    {
      "cell_type": "markdown",
      "metadata": {
        "colab_type": "text",
        "id": "ezzK2IdbgLVx"
      },
      "source": [
        "### [One Hot Encoding](https://contrib.scikit-learn.org/category_encoders/onehot.html)\n",
        "\n",
        "> Onehot (or dummy) coding for categorical features, produces one feature per category, each binary.\n",
        "\n",
        "Warning: May run slow, or run out of memory, with high cardinality categoricals!"
      ]
    },
    {
      "cell_type": "code",
      "metadata": {
        "colab_type": "code",
        "id": "HDQZtV6GgLVy",
        "outputId": "d87a2702-abdd-4a19-9952-7560dce47def",
        "colab": {
          "base_uri": "https://localhost:8080/",
          "height": 693
        }
      },
      "source": [
        "encoder = ce.OneHotEncoder(use_cat_names=True)\n",
        "encoded = encoder.fit_transform(X_train[[feature]])\n",
        "print(f'{len(encoded.columns)} columns')\n",
        "encoded.head(20)"
      ],
      "execution_count": 0,
      "outputs": [
        {
          "output_type": "stream",
          "text": [
            "7 columns\n"
          ],
          "name": "stdout"
        },
        {
          "output_type": "execute_result",
          "data": {
            "text/html": [
              "<div>\n",
              "<style scoped>\n",
              "    .dataframe tbody tr th:only-of-type {\n",
              "        vertical-align: middle;\n",
              "    }\n",
              "\n",
              "    .dataframe tbody tr th {\n",
              "        vertical-align: top;\n",
              "    }\n",
              "\n",
              "    .dataframe thead th {\n",
              "        text-align: right;\n",
              "    }\n",
              "</style>\n",
              "<table border=\"1\" class=\"dataframe\">\n",
              "  <thead>\n",
              "    <tr style=\"text-align: right;\">\n",
              "      <th></th>\n",
              "      <th>extraction_type_class_gravity</th>\n",
              "      <th>extraction_type_class_handpump</th>\n",
              "      <th>extraction_type_class_other</th>\n",
              "      <th>extraction_type_class_motorpump</th>\n",
              "      <th>extraction_type_class_submersible</th>\n",
              "      <th>extraction_type_class_rope pump</th>\n",
              "      <th>extraction_type_class_wind-powered</th>\n",
              "    </tr>\n",
              "  </thead>\n",
              "  <tbody>\n",
              "    <tr>\n",
              "      <th>43360</th>\n",
              "      <td>1</td>\n",
              "      <td>0</td>\n",
              "      <td>0</td>\n",
              "      <td>0</td>\n",
              "      <td>0</td>\n",
              "      <td>0</td>\n",
              "      <td>0</td>\n",
              "    </tr>\n",
              "    <tr>\n",
              "      <th>7263</th>\n",
              "      <td>1</td>\n",
              "      <td>0</td>\n",
              "      <td>0</td>\n",
              "      <td>0</td>\n",
              "      <td>0</td>\n",
              "      <td>0</td>\n",
              "      <td>0</td>\n",
              "    </tr>\n",
              "    <tr>\n",
              "      <th>2486</th>\n",
              "      <td>0</td>\n",
              "      <td>1</td>\n",
              "      <td>0</td>\n",
              "      <td>0</td>\n",
              "      <td>0</td>\n",
              "      <td>0</td>\n",
              "      <td>0</td>\n",
              "    </tr>\n",
              "    <tr>\n",
              "      <th>313</th>\n",
              "      <td>0</td>\n",
              "      <td>0</td>\n",
              "      <td>1</td>\n",
              "      <td>0</td>\n",
              "      <td>0</td>\n",
              "      <td>0</td>\n",
              "      <td>0</td>\n",
              "    </tr>\n",
              "    <tr>\n",
              "      <th>52726</th>\n",
              "      <td>0</td>\n",
              "      <td>0</td>\n",
              "      <td>0</td>\n",
              "      <td>1</td>\n",
              "      <td>0</td>\n",
              "      <td>0</td>\n",
              "      <td>0</td>\n",
              "    </tr>\n",
              "    <tr>\n",
              "      <th>8558</th>\n",
              "      <td>1</td>\n",
              "      <td>0</td>\n",
              "      <td>0</td>\n",
              "      <td>0</td>\n",
              "      <td>0</td>\n",
              "      <td>0</td>\n",
              "      <td>0</td>\n",
              "    </tr>\n",
              "    <tr>\n",
              "      <th>2559</th>\n",
              "      <td>1</td>\n",
              "      <td>0</td>\n",
              "      <td>0</td>\n",
              "      <td>0</td>\n",
              "      <td>0</td>\n",
              "      <td>0</td>\n",
              "      <td>0</td>\n",
              "    </tr>\n",
              "    <tr>\n",
              "      <th>54735</th>\n",
              "      <td>0</td>\n",
              "      <td>0</td>\n",
              "      <td>0</td>\n",
              "      <td>1</td>\n",
              "      <td>0</td>\n",
              "      <td>0</td>\n",
              "      <td>0</td>\n",
              "    </tr>\n",
              "    <tr>\n",
              "      <th>25763</th>\n",
              "      <td>0</td>\n",
              "      <td>1</td>\n",
              "      <td>0</td>\n",
              "      <td>0</td>\n",
              "      <td>0</td>\n",
              "      <td>0</td>\n",
              "      <td>0</td>\n",
              "    </tr>\n",
              "    <tr>\n",
              "      <th>44540</th>\n",
              "      <td>0</td>\n",
              "      <td>0</td>\n",
              "      <td>0</td>\n",
              "      <td>0</td>\n",
              "      <td>1</td>\n",
              "      <td>0</td>\n",
              "      <td>0</td>\n",
              "    </tr>\n",
              "    <tr>\n",
              "      <th>28603</th>\n",
              "      <td>0</td>\n",
              "      <td>0</td>\n",
              "      <td>1</td>\n",
              "      <td>0</td>\n",
              "      <td>0</td>\n",
              "      <td>0</td>\n",
              "      <td>0</td>\n",
              "    </tr>\n",
              "    <tr>\n",
              "      <th>4372</th>\n",
              "      <td>0</td>\n",
              "      <td>0</td>\n",
              "      <td>0</td>\n",
              "      <td>0</td>\n",
              "      <td>1</td>\n",
              "      <td>0</td>\n",
              "      <td>0</td>\n",
              "    </tr>\n",
              "    <tr>\n",
              "      <th>30666</th>\n",
              "      <td>1</td>\n",
              "      <td>0</td>\n",
              "      <td>0</td>\n",
              "      <td>0</td>\n",
              "      <td>0</td>\n",
              "      <td>0</td>\n",
              "      <td>0</td>\n",
              "    </tr>\n",
              "    <tr>\n",
              "      <th>6431</th>\n",
              "      <td>0</td>\n",
              "      <td>0</td>\n",
              "      <td>0</td>\n",
              "      <td>0</td>\n",
              "      <td>1</td>\n",
              "      <td>0</td>\n",
              "      <td>0</td>\n",
              "    </tr>\n",
              "    <tr>\n",
              "      <th>57420</th>\n",
              "      <td>0</td>\n",
              "      <td>0</td>\n",
              "      <td>1</td>\n",
              "      <td>0</td>\n",
              "      <td>0</td>\n",
              "      <td>0</td>\n",
              "      <td>0</td>\n",
              "    </tr>\n",
              "    <tr>\n",
              "      <th>1373</th>\n",
              "      <td>1</td>\n",
              "      <td>0</td>\n",
              "      <td>0</td>\n",
              "      <td>0</td>\n",
              "      <td>0</td>\n",
              "      <td>0</td>\n",
              "      <td>0</td>\n",
              "    </tr>\n",
              "    <tr>\n",
              "      <th>2026</th>\n",
              "      <td>1</td>\n",
              "      <td>0</td>\n",
              "      <td>0</td>\n",
              "      <td>0</td>\n",
              "      <td>0</td>\n",
              "      <td>0</td>\n",
              "      <td>0</td>\n",
              "    </tr>\n",
              "    <tr>\n",
              "      <th>58977</th>\n",
              "      <td>0</td>\n",
              "      <td>1</td>\n",
              "      <td>0</td>\n",
              "      <td>0</td>\n",
              "      <td>0</td>\n",
              "      <td>0</td>\n",
              "      <td>0</td>\n",
              "    </tr>\n",
              "    <tr>\n",
              "      <th>41101</th>\n",
              "      <td>1</td>\n",
              "      <td>0</td>\n",
              "      <td>0</td>\n",
              "      <td>0</td>\n",
              "      <td>0</td>\n",
              "      <td>0</td>\n",
              "      <td>0</td>\n",
              "    </tr>\n",
              "    <tr>\n",
              "      <th>10019</th>\n",
              "      <td>1</td>\n",
              "      <td>0</td>\n",
              "      <td>0</td>\n",
              "      <td>0</td>\n",
              "      <td>0</td>\n",
              "      <td>0</td>\n",
              "      <td>0</td>\n",
              "    </tr>\n",
              "  </tbody>\n",
              "</table>\n",
              "</div>"
            ],
            "text/plain": [
              "       extraction_type_class_gravity  ...  extraction_type_class_wind-powered\n",
              "43360                              1  ...                                   0\n",
              "7263                               1  ...                                   0\n",
              "2486                               0  ...                                   0\n",
              "313                                0  ...                                   0\n",
              "52726                              0  ...                                   0\n",
              "8558                               1  ...                                   0\n",
              "2559                               1  ...                                   0\n",
              "54735                              0  ...                                   0\n",
              "25763                              0  ...                                   0\n",
              "44540                              0  ...                                   0\n",
              "28603                              0  ...                                   0\n",
              "4372                               0  ...                                   0\n",
              "30666                              1  ...                                   0\n",
              "6431                               0  ...                                   0\n",
              "57420                              0  ...                                   0\n",
              "1373                               1  ...                                   0\n",
              "2026                               1  ...                                   0\n",
              "58977                              0  ...                                   0\n",
              "41101                              1  ...                                   0\n",
              "10019                              1  ...                                   0\n",
              "\n",
              "[20 rows x 7 columns]"
            ]
          },
          "metadata": {
            "tags": []
          },
          "execution_count": 52
        }
      ]
    },
    {
      "cell_type": "markdown",
      "metadata": {
        "colab_type": "text",
        "id": "1Ql9Qmw3sNJ7"
      },
      "source": [
        "#### One-Hot Encoding, Logistic Regression, Validation Accuracy"
      ]
    },
    {
      "cell_type": "code",
      "metadata": {
        "colab_type": "code",
        "id": "mT4A-oDGpOss",
        "outputId": "b5445fc1-f5a3-4801-83b7-0c51c077e3f0",
        "colab": {
          "base_uri": "https://localhost:8080/",
          "height": 34
        }
      },
      "source": [
        "from sklearn.linear_model import LogisticRegressionCV\n",
        "from sklearn.preprocessing import StandardScaler\n",
        "\n",
        "lr = make_pipeline(\n",
        "    ce.OneHotEncoder(use_cat_names=True), \n",
        "    SimpleImputer(), \n",
        "    StandardScaler(), \n",
        "    LogisticRegressionCV(multi_class='auto', solver='lbfgs', cv=5, n_jobs=-1)\n",
        ")\n",
        "\n",
        "lr.fit(X_train[[feature]], y_train)\n",
        "score = lr.score(X_val[[feature]], y_val)\n",
        "print('Logistic Regression, Validation Accuracy', score)"
      ],
      "execution_count": 0,
      "outputs": [
        {
          "output_type": "stream",
          "text": [
            "Logistic Regression, Validation Accuracy 0.6202861952861953\n"
          ],
          "name": "stdout"
        }
      ]
    },
    {
      "cell_type": "markdown",
      "metadata": {
        "colab_type": "text",
        "id": "EbH6wivpsRuV"
      },
      "source": [
        "#### One-Hot Encoding, Decision Tree, Validation Accuracy"
      ]
    },
    {
      "cell_type": "code",
      "metadata": {
        "colab_type": "code",
        "id": "b6KUluFOqIdK",
        "outputId": "8a8d08eb-b67d-46fa-cd8e-1c84f7913027",
        "colab": {
          "base_uri": "https://localhost:8080/",
          "height": 34
        }
      },
      "source": [
        "from sklearn.tree import DecisionTreeClassifier\n",
        "\n",
        "dt = make_pipeline(\n",
        "    ce.OneHotEncoder(use_cat_names=True), \n",
        "    SimpleImputer(), \n",
        "    DecisionTreeClassifier(random_state=42)\n",
        ")\n",
        "\n",
        "dt.fit(X_train[[feature]], y_train)\n",
        "score = dt.score(X_val[[feature]], y_val)\n",
        "print('Decision Tree, Validation Accuracy', score)"
      ],
      "execution_count": 0,
      "outputs": [
        {
          "output_type": "stream",
          "text": [
            "Decision Tree, Validation Accuracy 0.6202861952861953\n"
          ],
          "name": "stdout"
        }
      ]
    },
    {
      "cell_type": "markdown",
      "metadata": {
        "colab_type": "text",
        "id": "8yg11_gTsUu6"
      },
      "source": [
        "#### One-Hot Encoding, Logistic Regression, Model Interpretation"
      ]
    },
    {
      "cell_type": "code",
      "metadata": {
        "colab_type": "code",
        "id": "IxHwXGRornNI",
        "outputId": "a0575df7-5ce6-4310-a1d5-268036451e7a",
        "colab": {
          "base_uri": "https://localhost:8080/",
          "height": 265
        }
      },
      "source": [
        "model = lr.named_steps['logisticregressioncv']\n",
        "encoder = lr.named_steps['onehotencoder']\n",
        "encoded_columns = encoder.transform(X_val[[feature]]).columns\n",
        "coefficients = pd.Series(model.coef_[0], encoded_columns)\n",
        "coefficients.sort_values().plot.barh(color='grey');"
      ],
      "execution_count": 0,
      "outputs": [
        {
          "output_type": "display_data",
          "data": {
            "image/png": "[encoded data removed]",
            "text/plain": [
              "<Figure size 432x288 with 1 Axes>"
            ]
          },
          "metadata": {
            "tags": [],
            "needs_background": "light"
          }
        }
      ]
    },
    {
      "cell_type": "markdown",
      "metadata": {
        "colab_type": "text",
        "id": "0REZ8HdpsccR"
      },
      "source": [
        "#### One-Hot Encoding, Decision Tree, Model Interpretation"
      ]
    },
    {
      "cell_type": "code",
      "metadata": {
        "colab_type": "code",
        "id": "gV-grmYKpDp9",
        "outputId": "f327cf13-f61a-41c0-8822-a4c26937945b",
        "colab": {
          "base_uri": "https://localhost:8080/",
          "height": 954
        }
      },
      "source": [
        "# Plot tree\n",
        "# https://scikit-learn.org/stable/modules/generated/sklearn.tree.export_graphviz.html\n",
        "import graphviz\n",
        "from sklearn.tree import export_graphviz\n",
        "\n",
        "model = dt.named_steps['decisiontreeclassifier']\n",
        "encoder = dt.named_steps['onehotencoder']\n",
        "encoded_columns = encoder.transform(X_val[[feature]]).columns\n",
        "\n",
        "dot_data = export_graphviz(model, \n",
        "                           out_file=None, \n",
        "                           max_depth=7, \n",
        "                           feature_names=encoded_columns,\n",
        "                           class_names=model.classes_, \n",
        "                           impurity=False, \n",
        "                           filled=True, \n",
        "                           proportion=True, \n",
        "                           rounded=True)   \n",
        "display(graphviz.Source(dot_data))"
      ],
      "execution_count": 0,
      "outputs": [
        {
          "output_type": "display_data",
          "data": {
            "text/plain": [
              "<graphviz.files.Source at 0x7f34d31b0940>"
            ],
            "image/svg+xml": "<?xml version=\"1.0\" encoding=\"UTF-8\" standalone=\"no\"?>\n<!DOCTYPE svg PUBLIC \"-//W3C//DTD SVG 1.1//EN\"\n \"http://www.w3.org/Graphics/SVG/1.1/DTD/svg11.dtd\">\n<!-- Generated by graphviz version 2.40.1 (20161225.0304)\n -->\n<!-- Title: Tree Pages: 1 -->\n<svg width=\"1067pt\" height=\"685pt\"\n viewBox=\"0.00 0.00 1067.00 685.00\" xmlns=\"http://www.w3.org/2000/svg\" xmlns:xlink=\"http://www.w3.org/1999/xlink\">\n<g id=\"graph0\" class=\"graph\" transform=\"scale(1 1) rotate(0) translate(4 681)\">\n<title>Tree</title>\n<polygon fill=\"#ffffff\" stroke=\"transparent\" points=\"-4,4 -4,-681 1063,-681 1063,4 -4,4\"/>\n<!-- 0 -->\n<g id=\"node1\" class=\"node\">\n<title>0</title>\n<path fill=\"#f8decc\" stroke=\"#000000\" d=\"M944.5,-677C944.5,-677 725.5,-677 725.5,-677 719.5,-677 713.5,-671 713.5,-665 713.5,-665 713.5,-621 713.5,-621 713.5,-615 719.5,-609 725.5,-609 725.5,-609 944.5,-609 944.5,-609 950.5,-609 956.5,-615 956.5,-621 956.5,-621 956.5,-665 956.5,-665 956.5,-671 950.5,-677 944.5,-677\"/>\n<text text-anchor=\"middle\" x=\"835\" y=\"-661.8\" font-family=\"Helvetica,sans-Serif\" font-size=\"14.00\" fill=\"#000000\">extraction_type_class_other &lt;= 0.5</text>\n<text text-anchor=\"middle\" x=\"835\" y=\"-646.8\" font-family=\"Helvetica,sans-Serif\" font-size=\"14.00\" fill=\"#000000\">samples = 100.0%</text>\n<text text-anchor=\"middle\" x=\"835\" y=\"-631.8\" font-family=\"Helvetica,sans-Serif\" font-size=\"14.00\" fill=\"#000000\">value = [0.543, 0.073, 0.384]</text>\n<text text-anchor=\"middle\" x=\"835\" y=\"-616.8\" font-family=\"Helvetica,sans-Serif\" font-size=\"14.00\" fill=\"#000000\">class = functional</text>\n</g>\n<!-- 1 -->\n<g id=\"node2\" class=\"node\">\n<title>1</title>\n<path fill=\"#f5ceb2\" stroke=\"#000000\" d=\"M837,-573C837,-573 577,-573 577,-573 571,-573 565,-567 565,-561 565,-561 565,-517 565,-517 565,-511 571,-505 577,-505 577,-505 837,-505 837,-505 843,-505 849,-511 849,-517 849,-517 849,-561 849,-561 849,-567 843,-573 837,-573\"/>\n<text text-anchor=\"middle\" x=\"707\" y=\"-557.8\" font-family=\"Helvetica,sans-Serif\" font-size=\"14.00\" fill=\"#000000\">extraction_type_class_motorpump &lt;= 0.5</text>\n<text text-anchor=\"middle\" x=\"707\" y=\"-542.8\" font-family=\"Helvetica,sans-Serif\" font-size=\"14.00\" fill=\"#000000\">samples = 89.1%</text>\n<text text-anchor=\"middle\" x=\"707\" y=\"-527.8\" font-family=\"Helvetica,sans-Serif\" font-size=\"14.00\" fill=\"#000000\">value = [0.59, 0.078, 0.332]</text>\n<text text-anchor=\"middle\" x=\"707\" y=\"-512.8\" font-family=\"Helvetica,sans-Serif\" font-size=\"14.00\" fill=\"#000000\">class = functional</text>\n</g>\n<!-- 0&#45;&gt;1 -->\n<g id=\"edge1\" class=\"edge\">\n<title>0&#45;&gt;1</title>\n<path fill=\"none\" stroke=\"#000000\" d=\"M793.088,-608.9465C781.485,-599.519 768.7779,-589.1946 756.7741,-579.4415\"/>\n<polygon fill=\"#000000\" stroke=\"#000000\" points=\"758.9744,-576.7196 749.0061,-573.13 754.5602,-582.1524 758.9744,-576.7196\"/>\n<text text-anchor=\"middle\" x=\"751.5786\" y=\"-594.2973\" font-family=\"Helvetica,sans-Serif\" font-size=\"14.00\" fill=\"#000000\">True</text>\n</g>\n<!-- 12 -->\n<g id=\"node13\" class=\"node\">\n<title>12</title>\n<path fill=\"#9d66eb\" stroke=\"#000000\" d=\"M1047,-565.5C1047,-565.5 879,-565.5 879,-565.5 873,-565.5 867,-559.5 867,-553.5 867,-553.5 867,-524.5 867,-524.5 867,-518.5 873,-512.5 879,-512.5 879,-512.5 1047,-512.5 1047,-512.5 1053,-512.5 1059,-518.5 1059,-524.5 1059,-524.5 1059,-553.5 1059,-553.5 1059,-559.5 1053,-565.5 1047,-565.5\"/>\n<text text-anchor=\"middle\" x=\"963\" y=\"-550.3\" font-family=\"Helvetica,sans-Serif\" font-size=\"14.00\" fill=\"#000000\">samples = 10.9%</text>\n<text text-anchor=\"middle\" x=\"963\" y=\"-535.3\" font-family=\"Helvetica,sans-Serif\" font-size=\"14.00\" fill=\"#000000\">value = [0.159, 0.031, 0.81]</text>\n<text text-anchor=\"middle\" x=\"963\" y=\"-520.3\" font-family=\"Helvetica,sans-Serif\" font-size=\"14.00\" fill=\"#000000\">class = non functional</text>\n</g>\n<!-- 0&#45;&gt;12 -->\n<g id=\"edge12\" class=\"edge\">\n<title>0&#45;&gt;12</title>\n<path fill=\"none\" stroke=\"#000000\" d=\"M876.912,-608.9465C891.5533,-597.0504 907.9526,-583.726 922.4785,-571.9237\"/>\n<polygon fill=\"#000000\" stroke=\"#000000\" points=\"924.7786,-574.5645 930.3327,-565.5422 920.3645,-569.1317 924.7786,-574.5645\"/>\n<text text-anchor=\"middle\" x=\"927.7602\" y=\"-586.7095\" font-family=\"Helvetica,sans-Serif\" font-size=\"14.00\" fill=\"#000000\">False</text>\n</g>\n<!-- 2 -->\n<g id=\"node3\" class=\"node\">\n<title>2</title>\n<path fill=\"#f4caac\" stroke=\"#000000\" d=\"M708.5,-469C708.5,-469 443.5,-469 443.5,-469 437.5,-469 431.5,-463 431.5,-457 431.5,-457 431.5,-413 431.5,-413 431.5,-407 437.5,-401 443.5,-401 443.5,-401 708.5,-401 708.5,-401 714.5,-401 720.5,-407 720.5,-413 720.5,-413 720.5,-457 720.5,-457 720.5,-463 714.5,-469 708.5,-469\"/>\n<text text-anchor=\"middle\" x=\"576\" y=\"-453.8\" font-family=\"Helvetica,sans-Serif\" font-size=\"14.00\" fill=\"#000000\">extraction_type_class_submersible &lt;= 0.5</text>\n<text text-anchor=\"middle\" x=\"576\" y=\"-438.8\" font-family=\"Helvetica,sans-Serif\" font-size=\"14.00\" fill=\"#000000\">samples = 84.1%</text>\n<text text-anchor=\"middle\" x=\"576\" y=\"-423.8\" font-family=\"Helvetica,sans-Serif\" font-size=\"14.00\" fill=\"#000000\">value = [0.603, 0.08, 0.318]</text>\n<text text-anchor=\"middle\" x=\"576\" y=\"-408.8\" font-family=\"Helvetica,sans-Serif\" font-size=\"14.00\" fill=\"#000000\">class = functional</text>\n</g>\n<!-- 1&#45;&gt;2 -->\n<g id=\"edge2\" class=\"edge\">\n<title>1&#45;&gt;2</title>\n<path fill=\"none\" stroke=\"#000000\" d=\"M664.1057,-504.9465C652.2307,-495.519 639.2259,-485.1946 626.9407,-475.4415\"/>\n<polygon fill=\"#000000\" stroke=\"#000000\" points=\"628.9989,-472.6066 618.9907,-469.13 624.6464,-478.089 628.9989,-472.6066\"/>\n</g>\n<!-- 11 -->\n<g id=\"node12\" class=\"node\">\n<title>11</title>\n<path fill=\"#d8c1f7\" stroke=\"#000000\" d=\"M927,-461.5C927,-461.5 751,-461.5 751,-461.5 745,-461.5 739,-455.5 739,-449.5 739,-449.5 739,-420.5 739,-420.5 739,-414.5 745,-408.5 751,-408.5 751,-408.5 927,-408.5 927,-408.5 933,-408.5 939,-414.5 939,-420.5 939,-420.5 939,-449.5 939,-449.5 939,-455.5 933,-461.5 927,-461.5\"/>\n<text text-anchor=\"middle\" x=\"839\" y=\"-446.3\" font-family=\"Helvetica,sans-Serif\" font-size=\"14.00\" fill=\"#000000\">samples = 5.0%</text>\n<text text-anchor=\"middle\" x=\"839\" y=\"-431.3\" font-family=\"Helvetica,sans-Serif\" font-size=\"14.00\" fill=\"#000000\">value = [0.381, 0.045, 0.574]</text>\n<text text-anchor=\"middle\" x=\"839\" y=\"-416.3\" font-family=\"Helvetica,sans-Serif\" font-size=\"14.00\" fill=\"#000000\">class = non functional</text>\n</g>\n<!-- 1&#45;&gt;11 -->\n<g id=\"edge11\" class=\"edge\">\n<title>1&#45;&gt;11</title>\n<path fill=\"none\" stroke=\"#000000\" d=\"M750.2217,-504.9465C765.3206,-493.0504 782.2324,-479.726 797.2122,-467.9237\"/>\n<polygon fill=\"#000000\" stroke=\"#000000\" points=\"799.623,-470.4802 805.3119,-461.5422 795.2909,-464.9817 799.623,-470.4802\"/>\n</g>\n<!-- 3 -->\n<g id=\"node4\" class=\"node\">\n<title>3</title>\n<path fill=\"#f4c7a8\" stroke=\"#000000\" d=\"M568.5,-365C568.5,-365 339.5,-365 339.5,-365 333.5,-365 327.5,-359 327.5,-353 327.5,-353 327.5,-309 327.5,-309 327.5,-303 333.5,-297 339.5,-297 339.5,-297 568.5,-297 568.5,-297 574.5,-297 580.5,-303 580.5,-309 580.5,-309 580.5,-353 580.5,-353 580.5,-359 574.5,-365 568.5,-365\"/>\n<text text-anchor=\"middle\" x=\"454\" y=\"-349.8\" font-family=\"Helvetica,sans-Serif\" font-size=\"14.00\" fill=\"#000000\">extraction_type_class_gravity &lt;= 0.5</text>\n<text text-anchor=\"middle\" x=\"454\" y=\"-334.8\" font-family=\"Helvetica,sans-Serif\" font-size=\"14.00\" fill=\"#000000\">samples = 73.8%</text>\n<text text-anchor=\"middle\" x=\"454\" y=\"-319.8\" font-family=\"Helvetica,sans-Serif\" font-size=\"14.00\" fill=\"#000000\">value = [0.611, 0.085, 0.304]</text>\n<text text-anchor=\"middle\" x=\"454\" y=\"-304.8\" font-family=\"Helvetica,sans-Serif\" font-size=\"14.00\" fill=\"#000000\">class = functional</text>\n</g>\n<!-- 2&#45;&gt;3 -->\n<g id=\"edge3\" class=\"edge\">\n<title>2&#45;&gt;3</title>\n<path fill=\"none\" stroke=\"#000000\" d=\"M536.0526,-400.9465C525.0988,-391.6088 513.1127,-381.3911 501.768,-371.7203\"/>\n<polygon fill=\"#000000\" stroke=\"#000000\" points=\"503.9179,-368.9538 494.0371,-365.13 499.3767,-374.2809 503.9179,-368.9538\"/>\n</g>\n<!-- 10 -->\n<g id=\"node11\" class=\"node\">\n<title>10</title>\n<path fill=\"#f9e4d5\" stroke=\"#000000\" d=\"M787,-357.5C787,-357.5 611,-357.5 611,-357.5 605,-357.5 599,-351.5 599,-345.5 599,-345.5 599,-316.5 599,-316.5 599,-310.5 605,-304.5 611,-304.5 611,-304.5 787,-304.5 787,-304.5 793,-304.5 799,-310.5 799,-316.5 799,-316.5 799,-345.5 799,-345.5 799,-351.5 793,-357.5 787,-357.5\"/>\n<text text-anchor=\"middle\" x=\"699\" y=\"-342.3\" font-family=\"Helvetica,sans-Serif\" font-size=\"14.00\" fill=\"#000000\">samples = 10.3%</text>\n<text text-anchor=\"middle\" x=\"699\" y=\"-327.3\" font-family=\"Helvetica,sans-Serif\" font-size=\"14.00\" fill=\"#000000\">value = [0.541, 0.042, 0.416]</text>\n<text text-anchor=\"middle\" x=\"699\" y=\"-312.3\" font-family=\"Helvetica,sans-Serif\" font-size=\"14.00\" fill=\"#000000\">class = functional</text>\n</g>\n<!-- 2&#45;&gt;10 -->\n<g id=\"edge10\" class=\"edge\">\n<title>2&#45;&gt;10</title>\n<path fill=\"none\" stroke=\"#000000\" d=\"M616.2748,-400.9465C630.2139,-389.1606 645.8112,-375.9726 659.6732,-364.2519\"/>\n<polygon fill=\"#000000\" stroke=\"#000000\" points=\"662.2324,-366.6715 667.6088,-357.5422 657.7127,-361.3262 662.2324,-366.6715\"/>\n</g>\n<!-- 4 -->\n<g id=\"node5\" class=\"node\">\n<title>4</title>\n<path fill=\"#f3c5a4\" stroke=\"#000000\" d=\"M458.5,-261C458.5,-261 181.5,-261 181.5,-261 175.5,-261 169.5,-255 169.5,-249 169.5,-249 169.5,-205 169.5,-205 169.5,-199 175.5,-193 181.5,-193 181.5,-193 458.5,-193 458.5,-193 464.5,-193 470.5,-199 470.5,-205 470.5,-205 470.5,-249 470.5,-249 470.5,-255 464.5,-261 458.5,-261\"/>\n<text text-anchor=\"middle\" x=\"320\" y=\"-245.8\" font-family=\"Helvetica,sans-Serif\" font-size=\"14.00\" fill=\"#000000\">extraction_type_class_wind&#45;powered &lt;= 0.5</text>\n<text text-anchor=\"middle\" x=\"320\" y=\"-230.8\" font-family=\"Helvetica,sans-Serif\" font-size=\"14.00\" fill=\"#000000\">samples = 28.7%</text>\n<text text-anchor=\"middle\" x=\"320\" y=\"-215.8\" font-family=\"Helvetica,sans-Serif\" font-size=\"14.00\" fill=\"#000000\">value = [0.629, 0.059, 0.311]</text>\n<text text-anchor=\"middle\" x=\"320\" y=\"-200.8\" font-family=\"Helvetica,sans-Serif\" font-size=\"14.00\" fill=\"#000000\">class = functional</text>\n</g>\n<!-- 3&#45;&gt;4 -->\n<g id=\"edge4\" class=\"edge\">\n<title>3&#45;&gt;4</title>\n<path fill=\"none\" stroke=\"#000000\" d=\"M410.1234,-296.9465C397.9765,-287.519 384.6738,-277.1946 372.1073,-267.4415\"/>\n<polygon fill=\"#000000\" stroke=\"#000000\" points=\"374.021,-264.4963 363.9752,-261.13 369.7291,-270.0262 374.021,-264.4963\"/>\n</g>\n<!-- 9 -->\n<g id=\"node10\" class=\"node\">\n<title>9</title>\n<path fill=\"#f4c9aa\" stroke=\"#000000\" d=\"M677,-253.5C677,-253.5 501,-253.5 501,-253.5 495,-253.5 489,-247.5 489,-241.5 489,-241.5 489,-212.5 489,-212.5 489,-206.5 495,-200.5 501,-200.5 501,-200.5 677,-200.5 677,-200.5 683,-200.5 689,-206.5 689,-212.5 689,-212.5 689,-241.5 689,-241.5 689,-247.5 683,-253.5 677,-253.5\"/>\n<text text-anchor=\"middle\" x=\"589\" y=\"-238.3\" font-family=\"Helvetica,sans-Serif\" font-size=\"14.00\" fill=\"#000000\">samples = 45.1%</text>\n<text text-anchor=\"middle\" x=\"589\" y=\"-223.3\" font-family=\"Helvetica,sans-Serif\" font-size=\"14.00\" fill=\"#000000\">value = [0.599, 0.101, 0.299]</text>\n<text text-anchor=\"middle\" x=\"589\" y=\"-208.3\" font-family=\"Helvetica,sans-Serif\" font-size=\"14.00\" fill=\"#000000\">class = functional</text>\n</g>\n<!-- 3&#45;&gt;9 -->\n<g id=\"edge9\" class=\"edge\">\n<title>3&#45;&gt;9</title>\n<path fill=\"none\" stroke=\"#000000\" d=\"M498.204,-296.9465C513.6461,-285.0504 530.9422,-271.726 546.2625,-259.9237\"/>\n<polygon fill=\"#000000\" stroke=\"#000000\" points=\"548.7603,-262.4176 554.5462,-253.5422 544.4883,-256.8723 548.7603,-262.4176\"/>\n</g>\n<!-- 5 -->\n<g id=\"node6\" class=\"node\">\n<title>5</title>\n<path fill=\"#f3c4a3\" stroke=\"#000000\" d=\"M319,-157C319,-157 63,-157 63,-157 57,-157 51,-151 51,-145 51,-145 51,-101 51,-101 51,-95 57,-89 63,-89 63,-89 319,-89 319,-89 325,-89 331,-95 331,-101 331,-101 331,-145 331,-145 331,-151 325,-157 319,-157\"/>\n<text text-anchor=\"middle\" x=\"191\" y=\"-141.8\" font-family=\"Helvetica,sans-Serif\" font-size=\"14.00\" fill=\"#000000\">extraction_type_class_rope pump &lt;= 0.5</text>\n<text text-anchor=\"middle\" x=\"191\" y=\"-126.8\" font-family=\"Helvetica,sans-Serif\" font-size=\"14.00\" fill=\"#000000\">samples = 28.5%</text>\n<text text-anchor=\"middle\" x=\"191\" y=\"-111.8\" font-family=\"Helvetica,sans-Serif\" font-size=\"14.00\" fill=\"#000000\">value = [0.631, 0.059, 0.31]</text>\n<text text-anchor=\"middle\" x=\"191\" y=\"-96.8\" font-family=\"Helvetica,sans-Serif\" font-size=\"14.00\" fill=\"#000000\">class = functional</text>\n</g>\n<!-- 4&#45;&gt;5 -->\n<g id=\"edge5\" class=\"edge\">\n<title>4&#45;&gt;5</title>\n<path fill=\"none\" stroke=\"#000000\" d=\"M277.7606,-192.9465C266.0669,-183.519 253.2606,-173.1946 241.163,-163.4415\"/>\n<polygon fill=\"#000000\" stroke=\"#000000\" points=\"243.3162,-160.6816 233.3343,-157.13 238.9227,-166.1312 243.3162,-160.6816\"/>\n</g>\n<!-- 8 -->\n<g id=\"node9\" class=\"node\">\n<title>8</title>\n<path fill=\"#f8f3fd\" stroke=\"#000000\" d=\"M537,-149.5C537,-149.5 361,-149.5 361,-149.5 355,-149.5 349,-143.5 349,-137.5 349,-137.5 349,-108.5 349,-108.5 349,-102.5 355,-96.5 361,-96.5 361,-96.5 537,-96.5 537,-96.5 543,-96.5 549,-102.5 549,-108.5 549,-108.5 549,-137.5 549,-137.5 549,-143.5 543,-149.5 537,-149.5\"/>\n<text text-anchor=\"middle\" x=\"449\" y=\"-134.3\" font-family=\"Helvetica,sans-Serif\" font-size=\"14.00\" fill=\"#000000\">samples = 0.2%</text>\n<text text-anchor=\"middle\" x=\"449\" y=\"-119.3\" font-family=\"Helvetica,sans-Serif\" font-size=\"14.00\" fill=\"#000000\">value = [0.452, 0.065, 0.484]</text>\n<text text-anchor=\"middle\" x=\"449\" y=\"-104.3\" font-family=\"Helvetica,sans-Serif\" font-size=\"14.00\" fill=\"#000000\">class = non functional</text>\n</g>\n<!-- 4&#45;&gt;8 -->\n<g id=\"edge8\" class=\"edge\">\n<title>4&#45;&gt;8</title>\n<path fill=\"none\" stroke=\"#000000\" d=\"M362.2394,-192.9465C376.9952,-181.0504 393.5225,-167.726 408.162,-155.9237\"/>\n<polygon fill=\"#000000\" stroke=\"#000000\" points=\"410.4891,-158.5433 416.0775,-149.5422 406.0957,-153.0938 410.4891,-158.5433\"/>\n</g>\n<!-- 6 -->\n<g id=\"node7\" class=\"node\">\n<title>6</title>\n<path fill=\"#f3c5a3\" stroke=\"#000000\" d=\"M164,-53C164,-53 12,-53 12,-53 6,-53 0,-47 0,-41 0,-41 0,-12 0,-12 0,-6 6,0 12,0 12,0 164,0 164,0 170,0 176,-6 176,-12 176,-12 176,-41 176,-41 176,-47 170,-53 164,-53\"/>\n<text text-anchor=\"middle\" x=\"88\" y=\"-37.8\" font-family=\"Helvetica,sans-Serif\" font-size=\"14.00\" fill=\"#000000\">samples = 27.7%</text>\n<text text-anchor=\"middle\" x=\"88\" y=\"-22.8\" font-family=\"Helvetica,sans-Serif\" font-size=\"14.00\" fill=\"#000000\">value = [0.63, 0.06, 0.31]</text>\n<text text-anchor=\"middle\" x=\"88\" y=\"-7.8\" font-family=\"Helvetica,sans-Serif\" font-size=\"14.00\" fill=\"#000000\">class = functional</text>\n</g>\n<!-- 5&#45;&gt;6 -->\n<g id=\"edge6\" class=\"edge\">\n<title>5&#45;&gt;6</title>\n<path fill=\"none\" stroke=\"#000000\" d=\"M154.6861,-88.9777C144.7168,-79.6376 133.9138,-69.5163 123.9643,-60.1947\"/>\n<polygon fill=\"#000000\" stroke=\"#000000\" points=\"126.2408,-57.5314 116.5502,-53.2485 121.4548,-62.6397 126.2408,-57.5314\"/>\n</g>\n<!-- 7 -->\n<g id=\"node8\" class=\"node\">\n<title>7</title>\n<path fill=\"#f2bf9b\" stroke=\"#000000\" d=\"M382,-53C382,-53 206,-53 206,-53 200,-53 194,-47 194,-41 194,-41 194,-12 194,-12 194,-6 200,0 206,0 206,0 382,0 382,0 388,0 394,-6 394,-12 394,-12 394,-41 394,-41 394,-47 388,-53 382,-53\"/>\n<text text-anchor=\"middle\" x=\"294\" y=\"-37.8\" font-family=\"Helvetica,sans-Serif\" font-size=\"14.00\" fill=\"#000000\">samples = 0.7%</text>\n<text text-anchor=\"middle\" x=\"294\" y=\"-22.8\" font-family=\"Helvetica,sans-Serif\" font-size=\"14.00\" fill=\"#000000\">value = [0.657, 0.037, 0.306]</text>\n<text text-anchor=\"middle\" x=\"294\" y=\"-7.8\" font-family=\"Helvetica,sans-Serif\" font-size=\"14.00\" fill=\"#000000\">class = functional</text>\n</g>\n<!-- 5&#45;&gt;7 -->\n<g id=\"edge7\" class=\"edge\">\n<title>5&#45;&gt;7</title>\n<path fill=\"none\" stroke=\"#000000\" d=\"M227.3139,-88.9777C237.2832,-79.6376 248.0862,-69.5163 258.0357,-60.1947\"/>\n<polygon fill=\"#000000\" stroke=\"#000000\" points=\"260.5452,-62.6397 265.4498,-53.2485 255.7592,-57.5314 260.5452,-62.6397\"/>\n</g>\n</g>\n</svg>\n"
          },
          "metadata": {
            "tags": []
          }
        }
      ]
    },
    {
      "cell_type": "markdown",
      "metadata": {
        "colab_type": "text",
        "id": "QUd6gzcZgLVz"
      },
      "source": [
        "### [Ordinal Encoding](https://contrib.scikit-learn.org/category_encoders/ordinal.html)\n",
        "\n",
        "> Ordinal encoding uses a single column of integers to represent the classes. An optional mapping dict can be passed in; in this case, we use the knowledge that there is some true order to the classes themselves. Otherwise, the classes are assumed to have no true order and integers are selected at random."
      ]
    },
    {
      "cell_type": "code",
      "metadata": {
        "colab_type": "code",
        "id": "CnBz2RbwgLVz",
        "outputId": "a68abab7-c599-4b3f-de3d-bea66be0ef7c",
        "colab": {
          "base_uri": "https://localhost:8080/",
          "height": 656
        }
      },
      "source": [
        "encoder = ce.OrdinalEncoder()\n",
        "encoded = encoder.fit_transform(X_train[[feature]])\n",
        "print(f'1 column, {encoded[feature].nunique()} unique values')\n",
        "encoded.head(20)"
      ],
      "execution_count": 0,
      "outputs": [
        {
          "output_type": "stream",
          "text": [
            "1 column, 7 unique values\n"
          ],
          "name": "stdout"
        },
        {
          "output_type": "execute_result",
          "data": {
            "text/html": [
              "<div>\n",
              "<style scoped>\n",
              "    .dataframe tbody tr th:only-of-type {\n",
              "        vertical-align: middle;\n",
              "    }\n",
              "\n",
              "    .dataframe tbody tr th {\n",
              "        vertical-align: top;\n",
              "    }\n",
              "\n",
              "    .dataframe thead th {\n",
              "        text-align: right;\n",
              "    }\n",
              "</style>\n",
              "<table border=\"1\" class=\"dataframe\">\n",
              "  <thead>\n",
              "    <tr style=\"text-align: right;\">\n",
              "      <th></th>\n",
              "      <th>extraction_type_class</th>\n",
              "    </tr>\n",
              "  </thead>\n",
              "  <tbody>\n",
              "    <tr>\n",
              "      <th>43360</th>\n",
              "      <td>1</td>\n",
              "    </tr>\n",
              "    <tr>\n",
              "      <th>7263</th>\n",
              "      <td>1</td>\n",
              "    </tr>\n",
              "    <tr>\n",
              "      <th>2486</th>\n",
              "      <td>2</td>\n",
              "    </tr>\n",
              "    <tr>\n",
              "      <th>313</th>\n",
              "      <td>3</td>\n",
              "    </tr>\n",
              "    <tr>\n",
              "      <th>52726</th>\n",
              "      <td>4</td>\n",
              "    </tr>\n",
              "    <tr>\n",
              "      <th>8558</th>\n",
              "      <td>1</td>\n",
              "    </tr>\n",
              "    <tr>\n",
              "      <th>2559</th>\n",
              "      <td>1</td>\n",
              "    </tr>\n",
              "    <tr>\n",
              "      <th>54735</th>\n",
              "      <td>4</td>\n",
              "    </tr>\n",
              "    <tr>\n",
              "      <th>25763</th>\n",
              "      <td>2</td>\n",
              "    </tr>\n",
              "    <tr>\n",
              "      <th>44540</th>\n",
              "      <td>5</td>\n",
              "    </tr>\n",
              "    <tr>\n",
              "      <th>28603</th>\n",
              "      <td>3</td>\n",
              "    </tr>\n",
              "    <tr>\n",
              "      <th>4372</th>\n",
              "      <td>5</td>\n",
              "    </tr>\n",
              "    <tr>\n",
              "      <th>30666</th>\n",
              "      <td>1</td>\n",
              "    </tr>\n",
              "    <tr>\n",
              "      <th>6431</th>\n",
              "      <td>5</td>\n",
              "    </tr>\n",
              "    <tr>\n",
              "      <th>57420</th>\n",
              "      <td>3</td>\n",
              "    </tr>\n",
              "    <tr>\n",
              "      <th>1373</th>\n",
              "      <td>1</td>\n",
              "    </tr>\n",
              "    <tr>\n",
              "      <th>2026</th>\n",
              "      <td>1</td>\n",
              "    </tr>\n",
              "    <tr>\n",
              "      <th>58977</th>\n",
              "      <td>2</td>\n",
              "    </tr>\n",
              "    <tr>\n",
              "      <th>41101</th>\n",
              "      <td>1</td>\n",
              "    </tr>\n",
              "    <tr>\n",
              "      <th>10019</th>\n",
              "      <td>1</td>\n",
              "    </tr>\n",
              "  </tbody>\n",
              "</table>\n",
              "</div>"
            ],
            "text/plain": [
              "       extraction_type_class\n",
              "43360                      1\n",
              "7263                       1\n",
              "2486                       2\n",
              "313                        3\n",
              "52726                      4\n",
              "8558                       1\n",
              "2559                       1\n",
              "54735                      4\n",
              "25763                      2\n",
              "44540                      5\n",
              "28603                      3\n",
              "4372                       5\n",
              "30666                      1\n",
              "6431                       5\n",
              "57420                      3\n",
              "1373                       1\n",
              "2026                       1\n",
              "58977                      2\n",
              "41101                      1\n",
              "10019                      1"
            ]
          },
          "metadata": {
            "tags": []
          },
          "execution_count": 57
        }
      ]
    },
    {
      "cell_type": "markdown",
      "metadata": {
        "colab_type": "text",
        "id": "Nd-ZWprasqUM"
      },
      "source": [
        "#### Ordinal Encoding, Logistic Regression, Validation Accuracy"
      ]
    },
    {
      "cell_type": "code",
      "metadata": {
        "colab_type": "code",
        "id": "GJ1YpwjvrhfL",
        "outputId": "21fc6520-46b4-4924-e031-d7aa3fafd113",
        "colab": {
          "base_uri": "https://localhost:8080/",
          "height": 34
        }
      },
      "source": [
        "lr = make_pipeline(\n",
        "    ce.OrdinalEncoder(), \n",
        "    SimpleImputer(), \n",
        "    StandardScaler(), \n",
        "    LogisticRegressionCV(multi_class='auto', solver='lbfgs', cv=5, n_jobs=-1)\n",
        ")\n",
        "\n",
        "lr.fit(X_train[[feature]], y_train)\n",
        "score = lr.score(X_val[[feature]], y_val)\n",
        "print('Logistic Regression, Validation Accuracy', score)"
      ],
      "execution_count": 0,
      "outputs": [
        {
          "output_type": "stream",
          "text": [
            "Logistic Regression, Validation Accuracy 0.5417508417508418\n"
          ],
          "name": "stdout"
        }
      ]
    },
    {
      "cell_type": "markdown",
      "metadata": {
        "colab_type": "text",
        "id": "9lO_R3SksuHs"
      },
      "source": [
        "#### Ordinal Encoding, Decision Tree, Validation Accuracy"
      ]
    },
    {
      "cell_type": "code",
      "metadata": {
        "colab_type": "code",
        "id": "aOELD_roriVI",
        "outputId": "dc7a14e1-f55d-4d4f-926c-2497257883fe",
        "colab": {
          "base_uri": "https://localhost:8080/",
          "height": 34
        }
      },
      "source": [
        "dt = make_pipeline(\n",
        "    ce.OrdinalEncoder(), \n",
        "    SimpleImputer(), \n",
        "    DecisionTreeClassifier(random_state=42)\n",
        ")\n",
        "\n",
        "dt.fit(X_train[[feature]], y_train)\n",
        "score = dt.score(X_val[[feature]], y_val)\n",
        "print('Decision Tree, Validation Accuracy', score)"
      ],
      "execution_count": 0,
      "outputs": [
        {
          "output_type": "stream",
          "text": [
            "Decision Tree, Validation Accuracy 0.6202861952861953\n"
          ],
          "name": "stdout"
        }
      ]
    },
    {
      "cell_type": "markdown",
      "metadata": {
        "colab_type": "text",
        "id": "7V2zHjiwswTg"
      },
      "source": [
        "#### Ordinal Encoding, Logistic Regression, Model Interpretation"
      ]
    },
    {
      "cell_type": "code",
      "metadata": {
        "colab_type": "code",
        "id": "S9UPYPois8QR",
        "outputId": "b9b6b98a-0127-4a52-e201-844db1a4bad5",
        "colab": {
          "base_uri": "https://localhost:8080/",
          "height": 265
        }
      },
      "source": [
        "model = lr.named_steps['logisticregressioncv']\n",
        "encoder = lr.named_steps['ordinalencoder']\n",
        "encoded_columns = encoder.transform(X_val[[feature]]).columns\n",
        "coefficients = pd.Series(model.coef_[0], encoded_columns)\n",
        "coefficients.sort_values().plot.barh(color='grey');"
      ],
      "execution_count": 0,
      "outputs": [
        {
          "output_type": "display_data",
          "data": {
            "image/png": "[encoded data removed]",
            "text/plain": [
              "<Figure size 432x288 with 1 Axes>"
            ]
          },
          "metadata": {
            "tags": [],
            "needs_background": "light"
          }
        }
      ]
    },
    {
      "cell_type": "markdown",
      "metadata": {
        "colab_type": "text",
        "id": "MvmmvE8fsymh"
      },
      "source": [
        "#### Ordinal Encoding, Decision Tree, Model Interpretation"
      ]
    },
    {
      "cell_type": "code",
      "metadata": {
        "colab_type": "code",
        "id": "jCvUu4Oms88b",
        "outputId": "bf23db8c-e053-4b3c-97e5-9179427c3bdd",
        "colab": {
          "base_uri": "https://localhost:8080/",
          "height": 816
        }
      },
      "source": [
        "model = dt.named_steps['decisiontreeclassifier']\n",
        "encoder = dt.named_steps['ordinalencoder']\n",
        "encoded_columns = encoder.transform(X_val[[feature]]).columns\n",
        "\n",
        "dot_data = export_graphviz(model, \n",
        "                           out_file=None, \n",
        "                           max_depth=5, \n",
        "                           feature_names=encoded_columns,\n",
        "                           class_names=model.classes_, \n",
        "                           impurity=False, \n",
        "                           filled=True, \n",
        "                           proportion=True, \n",
        "                           rounded=True)   \n",
        "display(graphviz.Source(dot_data))"
      ],
      "execution_count": 0,
      "outputs": [
        {
          "output_type": "display_data",
          "data": {
            "text/plain": [
              "<graphviz.files.Source at 0x7f34d088c400>"
            ],
            "image/svg+xml": "<?xml version=\"1.0\" encoding=\"UTF-8\" standalone=\"no\"?>\n<!DOCTYPE svg PUBLIC \"-//W3C//DTD SVG 1.1//EN\"\n \"http://www.w3.org/Graphics/SVG/1.1/DTD/svg11.dtd\">\n<!-- Generated by graphviz version 2.40.1 (20161225.0304)\n -->\n<!-- Title: Tree Pages: 1 -->\n<svg width=\"1167pt\" height=\"581pt\"\n viewBox=\"0.00 0.00 1167.00 581.00\" xmlns=\"http://www.w3.org/2000/svg\" xmlns:xlink=\"http://www.w3.org/1999/xlink\">\n<g id=\"graph0\" class=\"graph\" transform=\"scale(1 1) rotate(0) translate(4 577)\">\n<title>Tree</title>\n<polygon fill=\"#ffffff\" stroke=\"transparent\" points=\"-4,4 -4,-577 1163,-577 1163,4 -4,4\"/>\n<!-- 0 -->\n<g id=\"node1\" class=\"node\">\n<title>0</title>\n<path fill=\"#f8decc\" stroke=\"#000000\" d=\"M500,-573C500,-573 322,-573 322,-573 316,-573 310,-567 310,-561 310,-561 310,-517 310,-517 310,-511 316,-505 322,-505 322,-505 500,-505 500,-505 506,-505 512,-511 512,-517 512,-517 512,-561 512,-561 512,-567 506,-573 500,-573\"/>\n<text text-anchor=\"middle\" x=\"411\" y=\"-557.8\" font-family=\"Helvetica,sans-Serif\" font-size=\"14.00\" fill=\"#000000\">extraction_type_class &lt;= 2.5</text>\n<text text-anchor=\"middle\" x=\"411\" y=\"-542.8\" font-family=\"Helvetica,sans-Serif\" font-size=\"14.00\" fill=\"#000000\">samples = 100.0%</text>\n<text text-anchor=\"middle\" x=\"411\" y=\"-527.8\" font-family=\"Helvetica,sans-Serif\" font-size=\"14.00\" fill=\"#000000\">value = [0.543, 0.073, 0.384]</text>\n<text text-anchor=\"middle\" x=\"411\" y=\"-512.8\" font-family=\"Helvetica,sans-Serif\" font-size=\"14.00\" fill=\"#000000\">class = functional</text>\n</g>\n<!-- 1 -->\n<g id=\"node2\" class=\"node\">\n<title>1</title>\n<path fill=\"#f4c7a8\" stroke=\"#000000\" d=\"M390,-469C390,-469 212,-469 212,-469 206,-469 200,-463 200,-457 200,-457 200,-413 200,-413 200,-407 206,-401 212,-401 212,-401 390,-401 390,-401 396,-401 402,-407 402,-413 402,-413 402,-457 402,-457 402,-463 396,-469 390,-469\"/>\n<text text-anchor=\"middle\" x=\"301\" y=\"-453.8\" font-family=\"Helvetica,sans-Serif\" font-size=\"14.00\" fill=\"#000000\">extraction_type_class &lt;= 1.5</text>\n<text text-anchor=\"middle\" x=\"301\" y=\"-438.8\" font-family=\"Helvetica,sans-Serif\" font-size=\"14.00\" fill=\"#000000\">samples = 72.9%</text>\n<text text-anchor=\"middle\" x=\"301\" y=\"-423.8\" font-family=\"Helvetica,sans-Serif\" font-size=\"14.00\" fill=\"#000000\">value = [0.611, 0.085, 0.304]</text>\n<text text-anchor=\"middle\" x=\"301\" y=\"-408.8\" font-family=\"Helvetica,sans-Serif\" font-size=\"14.00\" fill=\"#000000\">class = functional</text>\n</g>\n<!-- 0&#45;&gt;1 -->\n<g id=\"edge1\" class=\"edge\">\n<title>0&#45;&gt;1</title>\n<path fill=\"none\" stroke=\"#000000\" d=\"M374.9819,-504.9465C365.2954,-495.7884 354.7136,-485.7838 344.6603,-476.2788\"/>\n<polygon fill=\"#000000\" stroke=\"#000000\" points=\"346.7701,-473.4569 337.099,-469.13 341.961,-478.5434 346.7701,-473.4569\"/>\n<text text-anchor=\"middle\" x=\"337.7997\" y=\"-490.4202\" font-family=\"Helvetica,sans-Serif\" font-size=\"14.00\" fill=\"#000000\">True</text>\n</g>\n<!-- 4 -->\n<g id=\"node5\" class=\"node\">\n<title>4</title>\n<path fill=\"#d0b4f5\" stroke=\"#000000\" d=\"M610,-469C610,-469 432,-469 432,-469 426,-469 420,-463 420,-457 420,-457 420,-413 420,-413 420,-407 426,-401 432,-401 432,-401 610,-401 610,-401 616,-401 622,-407 622,-413 622,-413 622,-457 622,-457 622,-463 616,-469 610,-469\"/>\n<text text-anchor=\"middle\" x=\"521\" y=\"-453.8\" font-family=\"Helvetica,sans-Serif\" font-size=\"14.00\" fill=\"#000000\">extraction_type_class &lt;= 3.5</text>\n<text text-anchor=\"middle\" x=\"521\" y=\"-438.8\" font-family=\"Helvetica,sans-Serif\" font-size=\"14.00\" fill=\"#000000\">samples = 27.1%</text>\n<text text-anchor=\"middle\" x=\"521\" y=\"-423.8\" font-family=\"Helvetica,sans-Serif\" font-size=\"14.00\" fill=\"#000000\">value = [0.361, 0.038, 0.601]</text>\n<text text-anchor=\"middle\" x=\"521\" y=\"-408.8\" font-family=\"Helvetica,sans-Serif\" font-size=\"14.00\" fill=\"#000000\">class = non functional</text>\n</g>\n<!-- 0&#45;&gt;4 -->\n<g id=\"edge4\" class=\"edge\">\n<title>0&#45;&gt;4</title>\n<path fill=\"none\" stroke=\"#000000\" d=\"M447.0181,-504.9465C456.7046,-495.7884 467.2864,-485.7838 477.3397,-476.2788\"/>\n<polygon fill=\"#000000\" stroke=\"#000000\" points=\"480.039,-478.5434 484.901,-469.13 475.2299,-473.4569 480.039,-478.5434\"/>\n<text text-anchor=\"middle\" x=\"484.2003\" y=\"-490.4202\" font-family=\"Helvetica,sans-Serif\" font-size=\"14.00\" fill=\"#000000\">False</text>\n</g>\n<!-- 2 -->\n<g id=\"node3\" class=\"node\">\n<title>2</title>\n<path fill=\"#f4c9aa\" stroke=\"#000000\" d=\"M188,-357.5C188,-357.5 12,-357.5 12,-357.5 6,-357.5 0,-351.5 0,-345.5 0,-345.5 0,-316.5 0,-316.5 0,-310.5 6,-304.5 12,-304.5 12,-304.5 188,-304.5 188,-304.5 194,-304.5 200,-310.5 200,-316.5 200,-316.5 200,-345.5 200,-345.5 200,-351.5 194,-357.5 188,-357.5\"/>\n<text text-anchor=\"middle\" x=\"100\" y=\"-342.3\" font-family=\"Helvetica,sans-Serif\" font-size=\"14.00\" fill=\"#000000\">samples = 45.1%</text>\n<text text-anchor=\"middle\" x=\"100\" y=\"-327.3\" font-family=\"Helvetica,sans-Serif\" font-size=\"14.00\" fill=\"#000000\">value = [0.599, 0.101, 0.299]</text>\n<text text-anchor=\"middle\" x=\"100\" y=\"-312.3\" font-family=\"Helvetica,sans-Serif\" font-size=\"14.00\" fill=\"#000000\">class = functional</text>\n</g>\n<!-- 1&#45;&gt;2 -->\n<g id=\"edge2\" class=\"edge\">\n<title>1&#45;&gt;2</title>\n<path fill=\"none\" stroke=\"#000000\" d=\"M235.1851,-400.9465C211.1292,-388.4997 184.0513,-374.4892 160.4827,-362.2946\"/>\n<polygon fill=\"#000000\" stroke=\"#000000\" points=\"161.7878,-359.0291 151.2978,-357.5422 158.571,-365.2462 161.7878,-359.0291\"/>\n</g>\n<!-- 3 -->\n<g id=\"node4\" class=\"node\">\n<title>3</title>\n<path fill=\"#f3c5a3\" stroke=\"#000000\" d=\"M382,-357.5C382,-357.5 230,-357.5 230,-357.5 224,-357.5 218,-351.5 218,-345.5 218,-345.5 218,-316.5 218,-316.5 218,-310.5 224,-304.5 230,-304.5 230,-304.5 382,-304.5 382,-304.5 388,-304.5 394,-310.5 394,-316.5 394,-316.5 394,-345.5 394,-345.5 394,-351.5 388,-357.5 382,-357.5\"/>\n<text text-anchor=\"middle\" x=\"306\" y=\"-342.3\" font-family=\"Helvetica,sans-Serif\" font-size=\"14.00\" fill=\"#000000\">samples = 27.7%</text>\n<text text-anchor=\"middle\" x=\"306\" y=\"-327.3\" font-family=\"Helvetica,sans-Serif\" font-size=\"14.00\" fill=\"#000000\">value = [0.63, 0.06, 0.31]</text>\n<text text-anchor=\"middle\" x=\"306\" y=\"-312.3\" font-family=\"Helvetica,sans-Serif\" font-size=\"14.00\" fill=\"#000000\">class = functional</text>\n</g>\n<!-- 1&#45;&gt;3 -->\n<g id=\"edge3\" class=\"edge\">\n<title>1&#45;&gt;3</title>\n<path fill=\"none\" stroke=\"#000000\" d=\"M302.6372,-400.9465C303.1509,-390.2621 303.7199,-378.4254 304.2416,-367.5742\"/>\n<polygon fill=\"#000000\" stroke=\"#000000\" points=\"307.7396,-367.6987 304.7239,-357.5422 300.7477,-367.3625 307.7396,-367.6987\"/>\n</g>\n<!-- 5 -->\n<g id=\"node6\" class=\"node\">\n<title>5</title>\n<path fill=\"#9d66eb\" stroke=\"#000000\" d=\"M601,-357.5C601,-357.5 433,-357.5 433,-357.5 427,-357.5 421,-351.5 421,-345.5 421,-345.5 421,-316.5 421,-316.5 421,-310.5 427,-304.5 433,-304.5 433,-304.5 601,-304.5 601,-304.5 607,-304.5 613,-310.5 613,-316.5 613,-316.5 613,-345.5 613,-345.5 613,-351.5 607,-357.5 601,-357.5\"/>\n<text text-anchor=\"middle\" x=\"517\" y=\"-342.3\" font-family=\"Helvetica,sans-Serif\" font-size=\"14.00\" fill=\"#000000\">samples = 10.9%</text>\n<text text-anchor=\"middle\" x=\"517\" y=\"-327.3\" font-family=\"Helvetica,sans-Serif\" font-size=\"14.00\" fill=\"#000000\">value = [0.159, 0.031, 0.81]</text>\n<text text-anchor=\"middle\" x=\"517\" y=\"-312.3\" font-family=\"Helvetica,sans-Serif\" font-size=\"14.00\" fill=\"#000000\">class = non functional</text>\n</g>\n<!-- 4&#45;&gt;5 -->\n<g id=\"edge5\" class=\"edge\">\n<title>4&#45;&gt;5</title>\n<path fill=\"none\" stroke=\"#000000\" d=\"M519.6903,-400.9465C519.2793,-390.2621 518.8241,-378.4254 518.4067,-367.5742\"/>\n<polygon fill=\"#000000\" stroke=\"#000000\" points=\"521.9027,-367.4002 518.0209,-357.5422 514.9079,-367.6693 521.9027,-367.4002\"/>\n</g>\n<!-- 6 -->\n<g id=\"node7\" class=\"node\">\n<title>6</title>\n<path fill=\"#fdf7f2\" stroke=\"#000000\" d=\"M821,-365C821,-365 643,-365 643,-365 637,-365 631,-359 631,-353 631,-353 631,-309 631,-309 631,-303 637,-297 643,-297 643,-297 821,-297 821,-297 827,-297 833,-303 833,-309 833,-309 833,-353 833,-353 833,-359 827,-365 821,-365\"/>\n<text text-anchor=\"middle\" x=\"732\" y=\"-349.8\" font-family=\"Helvetica,sans-Serif\" font-size=\"14.00\" fill=\"#000000\">extraction_type_class &lt;= 4.5</text>\n<text text-anchor=\"middle\" x=\"732\" y=\"-334.8\" font-family=\"Helvetica,sans-Serif\" font-size=\"14.00\" fill=\"#000000\">samples = 16.2%</text>\n<text text-anchor=\"middle\" x=\"732\" y=\"-319.8\" font-family=\"Helvetica,sans-Serif\" font-size=\"14.00\" fill=\"#000000\">value = [0.497, 0.043, 0.46]</text>\n<text text-anchor=\"middle\" x=\"732\" y=\"-304.8\" font-family=\"Helvetica,sans-Serif\" font-size=\"14.00\" fill=\"#000000\">class = functional</text>\n</g>\n<!-- 4&#45;&gt;6 -->\n<g id=\"edge6\" class=\"edge\">\n<title>4&#45;&gt;6</title>\n<path fill=\"none\" stroke=\"#000000\" d=\"M590.0893,-400.9465C610.4002,-390.9354 632.7633,-379.9129 653.6112,-369.6371\"/>\n<polygon fill=\"#000000\" stroke=\"#000000\" points=\"655.3332,-372.6905 662.7555,-365.13 652.2385,-366.4117 655.3332,-372.6905\"/>\n</g>\n<!-- 7 -->\n<g id=\"node8\" class=\"node\">\n<title>7</title>\n<path fill=\"#d8c1f7\" stroke=\"#000000\" d=\"M710,-253.5C710,-253.5 534,-253.5 534,-253.5 528,-253.5 522,-247.5 522,-241.5 522,-241.5 522,-212.5 522,-212.5 522,-206.5 528,-200.5 534,-200.5 534,-200.5 710,-200.5 710,-200.5 716,-200.5 722,-206.5 722,-212.5 722,-212.5 722,-241.5 722,-241.5 722,-247.5 716,-253.5 710,-253.5\"/>\n<text text-anchor=\"middle\" x=\"622\" y=\"-238.3\" font-family=\"Helvetica,sans-Serif\" font-size=\"14.00\" fill=\"#000000\">samples = 5.0%</text>\n<text text-anchor=\"middle\" x=\"622\" y=\"-223.3\" font-family=\"Helvetica,sans-Serif\" font-size=\"14.00\" fill=\"#000000\">value = [0.381, 0.045, 0.574]</text>\n<text text-anchor=\"middle\" x=\"622\" y=\"-208.3\" font-family=\"Helvetica,sans-Serif\" font-size=\"14.00\" fill=\"#000000\">class = non functional</text>\n</g>\n<!-- 6&#45;&gt;7 -->\n<g id=\"edge7\" class=\"edge\">\n<title>6&#45;&gt;7</title>\n<path fill=\"none\" stroke=\"#000000\" d=\"M695.9819,-296.9465C683.6325,-285.2707 669.8278,-272.219 657.5183,-260.5809\"/>\n<polygon fill=\"#000000\" stroke=\"#000000\" points=\"659.7445,-257.869 650.0734,-253.5422 654.9354,-262.9556 659.7445,-257.869\"/>\n</g>\n<!-- 8 -->\n<g id=\"node9\" class=\"node\">\n<title>8</title>\n<path fill=\"#f9e2d1\" stroke=\"#000000\" d=\"M930,-261C930,-261 752,-261 752,-261 746,-261 740,-255 740,-249 740,-249 740,-205 740,-205 740,-199 746,-193 752,-193 752,-193 930,-193 930,-193 936,-193 942,-199 942,-205 942,-205 942,-249 942,-249 942,-255 936,-261 930,-261\"/>\n<text text-anchor=\"middle\" x=\"841\" y=\"-245.8\" font-family=\"Helvetica,sans-Serif\" font-size=\"14.00\" fill=\"#000000\">extraction_type_class &lt;= 5.5</text>\n<text text-anchor=\"middle\" x=\"841\" y=\"-230.8\" font-family=\"Helvetica,sans-Serif\" font-size=\"14.00\" fill=\"#000000\">samples = 11.2%</text>\n<text text-anchor=\"middle\" x=\"841\" y=\"-215.8\" font-family=\"Helvetica,sans-Serif\" font-size=\"14.00\" fill=\"#000000\">value = [0.548, 0.042, 0.41]</text>\n<text text-anchor=\"middle\" x=\"841\" y=\"-200.8\" font-family=\"Helvetica,sans-Serif\" font-size=\"14.00\" fill=\"#000000\">class = functional</text>\n</g>\n<!-- 6&#45;&gt;8 -->\n<g id=\"edge8\" class=\"edge\">\n<title>6&#45;&gt;8</title>\n<path fill=\"none\" stroke=\"#000000\" d=\"M767.6907,-296.9465C777.2891,-287.7884 787.7747,-277.7838 797.7366,-268.2788\"/>\n<polygon fill=\"#000000\" stroke=\"#000000\" points=\"800.4102,-270.5655 805.2291,-261.13 795.5779,-265.5009 800.4102,-270.5655\"/>\n</g>\n<!-- 9 -->\n<g id=\"node10\" class=\"node\">\n<title>9</title>\n<path fill=\"#f9e4d5\" stroke=\"#000000\" d=\"M819,-149.5C819,-149.5 643,-149.5 643,-149.5 637,-149.5 631,-143.5 631,-137.5 631,-137.5 631,-108.5 631,-108.5 631,-102.5 637,-96.5 643,-96.5 643,-96.5 819,-96.5 819,-96.5 825,-96.5 831,-102.5 831,-108.5 831,-108.5 831,-137.5 831,-137.5 831,-143.5 825,-149.5 819,-149.5\"/>\n<text text-anchor=\"middle\" x=\"731\" y=\"-134.3\" font-family=\"Helvetica,sans-Serif\" font-size=\"14.00\" fill=\"#000000\">samples = 10.3%</text>\n<text text-anchor=\"middle\" x=\"731\" y=\"-119.3\" font-family=\"Helvetica,sans-Serif\" font-size=\"14.00\" fill=\"#000000\">value = [0.541, 0.042, 0.416]</text>\n<text text-anchor=\"middle\" x=\"731\" y=\"-104.3\" font-family=\"Helvetica,sans-Serif\" font-size=\"14.00\" fill=\"#000000\">class = functional</text>\n</g>\n<!-- 8&#45;&gt;9 -->\n<g id=\"edge9\" class=\"edge\">\n<title>8&#45;&gt;9</title>\n<path fill=\"none\" stroke=\"#000000\" d=\"M804.9819,-192.9465C792.6325,-181.2707 778.8278,-168.219 766.5183,-156.5809\"/>\n<polygon fill=\"#000000\" stroke=\"#000000\" points=\"768.7445,-153.869 759.0734,-149.5422 763.9354,-158.9556 768.7445,-153.869\"/>\n</g>\n<!-- 10 -->\n<g id=\"node11\" class=\"node\">\n<title>10</title>\n<path fill=\"#f4cbad\" stroke=\"#000000\" d=\"M1039,-157C1039,-157 861,-157 861,-157 855,-157 849,-151 849,-145 849,-145 849,-101 849,-101 849,-95 855,-89 861,-89 861,-89 1039,-89 1039,-89 1045,-89 1051,-95 1051,-101 1051,-101 1051,-145 1051,-145 1051,-151 1045,-157 1039,-157\"/>\n<text text-anchor=\"middle\" x=\"950\" y=\"-141.8\" font-family=\"Helvetica,sans-Serif\" font-size=\"14.00\" fill=\"#000000\">extraction_type_class &lt;= 6.5</text>\n<text text-anchor=\"middle\" x=\"950\" y=\"-126.8\" font-family=\"Helvetica,sans-Serif\" font-size=\"14.00\" fill=\"#000000\">samples = 0.9%</text>\n<text text-anchor=\"middle\" x=\"950\" y=\"-111.8\" font-family=\"Helvetica,sans-Serif\" font-size=\"14.00\" fill=\"#000000\">value = [0.614, 0.043, 0.343]</text>\n<text text-anchor=\"middle\" x=\"950\" y=\"-96.8\" font-family=\"Helvetica,sans-Serif\" font-size=\"14.00\" fill=\"#000000\">class = functional</text>\n</g>\n<!-- 8&#45;&gt;10 -->\n<g id=\"edge10\" class=\"edge\">\n<title>8&#45;&gt;10</title>\n<path fill=\"none\" stroke=\"#000000\" d=\"M876.6907,-192.9465C886.2891,-183.7884 896.7747,-173.7838 906.7366,-164.2788\"/>\n<polygon fill=\"#000000\" stroke=\"#000000\" points=\"909.4102,-166.5655 914.2291,-157.13 904.5779,-161.5009 909.4102,-166.5655\"/>\n</g>\n<!-- 11 -->\n<g id=\"node12\" class=\"node\">\n<title>11</title>\n<path fill=\"#f2bf9b\" stroke=\"#000000\" d=\"M929,-53C929,-53 753,-53 753,-53 747,-53 741,-47 741,-41 741,-41 741,-12 741,-12 741,-6 747,0 753,0 753,0 929,0 929,0 935,0 941,-6 941,-12 941,-12 941,-41 941,-41 941,-47 935,-53 929,-53\"/>\n<text text-anchor=\"middle\" x=\"841\" y=\"-37.8\" font-family=\"Helvetica,sans-Serif\" font-size=\"14.00\" fill=\"#000000\">samples = 0.7%</text>\n<text text-anchor=\"middle\" x=\"841\" y=\"-22.8\" font-family=\"Helvetica,sans-Serif\" font-size=\"14.00\" fill=\"#000000\">value = [0.657, 0.037, 0.306]</text>\n<text text-anchor=\"middle\" x=\"841\" y=\"-7.8\" font-family=\"Helvetica,sans-Serif\" font-size=\"14.00\" fill=\"#000000\">class = functional</text>\n</g>\n<!-- 10&#45;&gt;11 -->\n<g id=\"edge11\" class=\"edge\">\n<title>10&#45;&gt;11</title>\n<path fill=\"none\" stroke=\"#000000\" d=\"M911.5707,-88.9777C900.9173,-79.546 889.3641,-69.3178 878.7499,-59.9208\"/>\n<polygon fill=\"#000000\" stroke=\"#000000\" points=\"881.0207,-57.2566 871.2133,-53.2485 876.3806,-62.4978 881.0207,-57.2566\"/>\n</g>\n<!-- 12 -->\n<g id=\"node13\" class=\"node\">\n<title>12</title>\n<path fill=\"#f8f3fd\" stroke=\"#000000\" d=\"M1147,-53C1147,-53 971,-53 971,-53 965,-53 959,-47 959,-41 959,-41 959,-12 959,-12 959,-6 965,0 971,0 971,0 1147,0 1147,0 1153,0 1159,-6 1159,-12 1159,-12 1159,-41 1159,-41 1159,-47 1153,-53 1147,-53\"/>\n<text text-anchor=\"middle\" x=\"1059\" y=\"-37.8\" font-family=\"Helvetica,sans-Serif\" font-size=\"14.00\" fill=\"#000000\">samples = 0.2%</text>\n<text text-anchor=\"middle\" x=\"1059\" y=\"-22.8\" font-family=\"Helvetica,sans-Serif\" font-size=\"14.00\" fill=\"#000000\">value = [0.452, 0.065, 0.484]</text>\n<text text-anchor=\"middle\" x=\"1059\" y=\"-7.8\" font-family=\"Helvetica,sans-Serif\" font-size=\"14.00\" fill=\"#000000\">class = non functional</text>\n</g>\n<!-- 10&#45;&gt;12 -->\n<g id=\"edge12\" class=\"edge\">\n<title>10&#45;&gt;12</title>\n<path fill=\"none\" stroke=\"#000000\" d=\"M988.4293,-88.9777C999.0827,-79.546 1010.6359,-69.3178 1021.2501,-59.9208\"/>\n<polygon fill=\"#000000\" stroke=\"#000000\" points=\"1023.6194,-62.4978 1028.7867,-53.2485 1018.9793,-57.2566 1023.6194,-62.4978\"/>\n</g>\n</g>\n</svg>\n"
          },
          "metadata": {
            "tags": []
          }
        }
      ]
    },
    {
      "cell_type": "markdown",
      "metadata": {
        "colab_type": "text",
        "id": "P4EJi2GvgLVa"
      },
      "source": [
        "# Understand how tree ensembles reduce overfitting compared to a single decision tree with unlimited depth"
      ]
    },
    {
      "cell_type": "markdown",
      "metadata": {
        "id": "bUMrhiO1x55c",
        "colab_type": "text"
      },
      "source": [
        "## Overview"
      ]
    },
    {
      "cell_type": "markdown",
      "metadata": {
        "colab_type": "text",
        "id": "0nNABF3HgLVg"
      },
      "source": [
        "### What's \"random\" about random forests?\n",
        "1. Each tree trains on a random bootstrap sample of the data. (In scikit-learn, for `RandomForestRegressor` and `RandomForestClassifier`, the `bootstrap` parameter's default is `True`.) This type of ensembling is called Bagging. (Bootstrap AGGregatING.)\n",
        "2. Each split considers a random subset of the features. (In scikit-learn, when the `max_features` parameter is not `None`.) \n",
        "\n",
        "For extra randomness, you can try [\"extremely randomized trees\"](https://scikit-learn.org/stable/modules/ensemble.html#extremely-randomized-trees)!\n",
        "\n",
        ">In extremely randomized trees (see [ExtraTreesClassifier](https://scikit-learn.org/stable/modules/generated/sklearn.ensemble.ExtraTreesClassifier.html) and [ExtraTreesRegressor](https://scikit-learn.org/stable/modules/generated/sklearn.ensemble.ExtraTreesRegressor.html) classes), randomness goes one step further in the way splits are computed. As in random forests, a random subset of candidate features is used, but instead of looking for the most discriminative thresholds, thresholds are drawn at random for each candidate feature and the best of these randomly-generated thresholds is picked as the splitting rule. This usually allows to reduce the variance of the model a bit more, at the expense of a slightly greater increase in bias"
      ]
    },
    {
      "cell_type": "markdown",
      "metadata": {
        "id": "vlXmN3NIx55c",
        "colab_type": "text"
      },
      "source": [
        "## Follow Along"
      ]
    },
    {
      "cell_type": "markdown",
      "metadata": {
        "colab_type": "text",
        "id": "pUYP619CgLVb"
      },
      "source": [
        "### Example: [predicting golf putts](https://statmodeling.stat.columbia.edu/2008/12/04/the_golf_puttin/)\n",
        "(1 feature, non-linear, regression)"
      ]
    },
    {
      "cell_type": "code",
      "metadata": {
        "colab_type": "code",
        "id": "b4640ukxgLVc",
        "colab": {}
      },
      "source": [
        "putts = pd.DataFrame(\n",
        "    columns=['distance', 'tries', 'successes'], \n",
        "    data = [[2, 1443, 1346],\n",
        "            [3, 694, 577],\n",
        "            [4, 455, 337],\n",
        "            [5, 353, 208],\n",
        "            [6, 272, 149],\n",
        "            [7, 256, 136],\n",
        "            [8, 240, 111],\n",
        "            [9, 217, 69],\n",
        "            [10, 200, 67],\n",
        "            [11, 237, 75],\n",
        "            [12, 202, 52],\n",
        "            [13, 192, 46],\n",
        "            [14, 174, 54],\n",
        "            [15, 167, 28],\n",
        "            [16, 201, 27],\n",
        "            [17, 195, 31],\n",
        "            [18, 191, 33],\n",
        "            [19, 147, 20],\n",
        "            [20, 152, 24]]\n",
        ")\n",
        "\n",
        "putts['rate of success'] = putts['successes'] / putts['tries']\n",
        "putts_X = putts[['distance']]\n",
        "putts_y = putts['rate of success']"
      ],
      "execution_count": 0,
      "outputs": []
    },
    {
      "cell_type": "code",
      "metadata": {
        "colab_type": "code",
        "id": "T0IpCcKggLVd",
        "outputId": "d3d7e09b-f50c-4a34-c8f6-fee9c4da3046",
        "colab": {
          "base_uri": "https://localhost:8080/",
          "height": 637,
          "referenced_widgets": [
            "6ba47d2d29784cf3a6f2937ceeade607",
            "f12ba1670e7249789b8edb0bd2bbc993",
            "165a04ded54740849b64f574b4848a68",
            "ee7c7ae759a245dc8f764b626358fd5a",
            "f876ee6779304cca94114366a2408ee8",
            "baa089d6057b44e2a11db06aa8796363",
            "9136b28d068040f68f1c006469362eee",
            "b42508db0b1741ddb295c1425618e284",
            "65533e500e784bdb94d20b96ab5ed936",
            "e54fa73bf6774a94a4f5da74ad140084"
          ]
        }
      },
      "source": [
        "%matplotlib inline\n",
        "import matplotlib.pyplot as plt\n",
        "from ipywidgets import interact\n",
        "from sklearn.ensemble import RandomForestRegressor\n",
        "from sklearn.tree import DecisionTreeRegressor\n",
        "\n",
        "def putt_trees(max_depth=1, n_estimators=1):\n",
        "    models = [DecisionTreeRegressor(max_depth=max_depth), \n",
        "              RandomForestRegressor(max_depth=max_depth, n_estimators=n_estimators)]\n",
        "    \n",
        "    for model in models:\n",
        "        name = model.__class__.__name__\n",
        "        model.fit(putts_X, putts_y)\n",
        "        ax = putts.plot('distance', 'rate of success', kind='scatter', title=name)\n",
        "        ax.step(putts_X, model.predict(putts_X), where='mid')\n",
        "        plt.show()\n",
        "        \n",
        "interact(putt_trees, max_depth=(1,6,1), n_estimators=(10,40,10));"
      ],
      "execution_count": 0,
      "outputs": [
        {
          "output_type": "display_data",
          "data": {
            "application/vnd.jupyter.widget-view+json": {
              "model_id": "6ba47d2d29784cf3a6f2937ceeade607",
              "version_minor": 0,
              "version_major": 2
            },
            "text/plain": [
              "interactive(children=(IntSlider(value=1, description='max_depth', max=6, min=1), IntSlider(value=10, descripti…"
            ]
          },
          "metadata": {
            "tags": []
          }
        }
      ]
    },
    {
      "cell_type": "markdown",
      "metadata": {
        "colab_type": "text",
        "id": "rq4Z_wQ_gLVj"
      },
      "source": [
        "### Go back to Tanzania Waterpumps ..."
      ]
    },
    {
      "cell_type": "markdown",
      "metadata": {
        "colab_type": "text",
        "id": "FoSE9iT6YXQz"
      },
      "source": [
        "#### Helper function to visualize predicted probabilities\n",
        "\n"
      ]
    },
    {
      "cell_type": "code",
      "metadata": {
        "colab_type": "code",
        "id": "HzIAjGpJgLVj",
        "colab": {}
      },
      "source": [
        "import itertools\n",
        "import seaborn as sns\n",
        "\n",
        "def pred_heatmap(model, X, features, class_index=-1, title='', num=100):\n",
        "    \"\"\"\n",
        "    Visualize predicted probabilities, for classifier fit on 2 numeric features\n",
        "    \n",
        "    Parameters\n",
        "    ----------\n",
        "    model : scikit-learn classifier, already fit\n",
        "    X : pandas dataframe, which was used to fit model\n",
        "    features : list of strings, column names of the 2 numeric features\n",
        "    class_index : integer, index of class label\n",
        "    title : string, title of plot\n",
        "    num : int, number of grid points for each feature\n",
        "    \n",
        "    Returns\n",
        "    -------\n",
        "    y_pred_proba : numpy array, predicted probabilities for class_index\n",
        "    \"\"\"\n",
        "    feature1, feature2 = features\n",
        "    min1, max1 = X[feature1].min(), X[feature1].max()\n",
        "    min2, max2 = X[feature2].min(), X[feature2].max()\n",
        "    x1 = np.linspace(min1, max1, num)\n",
        "    x2 = np.linspace(max2, min2, num)\n",
        "    combos = list(itertools.product(x1, x2))\n",
        "    y_pred_proba = model.predict_proba(combos)[:, class_index]\n",
        "    pred_grid = y_pred_proba.reshape(num, num).T\n",
        "    table = pd.DataFrame(pred_grid, columns=x1, index=x2)\n",
        "    sns.heatmap(table, vmin=0, vmax=1)\n",
        "    plt.xticks([])\n",
        "    plt.yticks([])\n",
        "    plt.xlabel(feature1)\n",
        "    plt.ylabel(feature2)\n",
        "    plt.title(title)\n",
        "    plt.show()\n",
        "    return y_pred_proba\n"
      ],
      "execution_count": 0,
      "outputs": []
    },
    {
      "cell_type": "markdown",
      "metadata": {
        "colab_type": "text",
        "id": "DiRfPqHjgLVl"
      },
      "source": [
        "### Compare Decision Tree, Random Forest, Logistic Regression"
      ]
    },
    {
      "cell_type": "code",
      "metadata": {
        "colab_type": "code",
        "id": "HKkMLXhMgLVl",
        "outputId": "b1ee763f-e1d0-40d6-fec2-aebf44bc843a",
        "colab": {
          "base_uri": "https://localhost:8080/",
          "height": 864,
          "referenced_widgets": [
            "383f63aef9ba4b448546201983494337",
            "236be6308f874d73aed0677c0ced6f74",
            "23c28a0620674109a415c2eb10ed37f5",
            "b9853e5f989d4b4daa8bd7cadd936e5f",
            "c6727f365c6f47e28e4eb226b4510eb1",
            "6ff28496f47c4217933f65180ead49c4",
            "fa4da45d1a4c48dfbbf554688dc56a80",
            "a4d4d013c54a4fe68cb255cbb7b763ad",
            "c7cf80a670ad45b5a9f5863bb70d395d",
            "a2bf12c4eea847288f38f04a458ce6ad"
          ]
        }
      },
      "source": [
        "# Instructions\n",
        "# 1. Choose two features\n",
        "# 2. Run this code cell\n",
        "# 3. Interact with the widget sliders\n",
        "feature1 = 'longitude'\n",
        "feature2 = 'quantity'\n",
        "\n",
        "from sklearn.linear_model import LogisticRegression\n",
        "from sklearn.tree import DecisionTreeClassifier\n",
        "\n",
        "def get_X_y(df, feature1, feature2, target):\n",
        "    features = [feature1, feature2]\n",
        "    X = df[features]\n",
        "    y = df[target]\n",
        "    X = X.fillna(X.median())\n",
        "    X = ce.OrdinalEncoder().fit_transform(X)\n",
        "    return X, y\n",
        "\n",
        "def compare_models(max_depth=1, n_estimators=1):\n",
        "    models = [DecisionTreeClassifier(max_depth=max_depth), \n",
        "              RandomForestClassifier(max_depth=max_depth, n_estimators=n_estimators), \n",
        "              LogisticRegression(solver='lbfgs', multi_class='auto')]\n",
        "    \n",
        "    for model in models:\n",
        "        name = model.__class__.__name__\n",
        "        model.fit(X, y)\n",
        "        pred_heatmap(model, X, [feature1, feature2], class_index=0, title=name)\n",
        "\n",
        "X, y = get_X_y(train, feature1, feature2, target='status_group')\n",
        "interact(compare_models, max_depth=(1,6,1), n_estimators=(10,40,10));"
      ],
      "execution_count": 0,
      "outputs": [
        {
          "output_type": "display_data",
          "data": {
            "application/vnd.jupyter.widget-view+json": {
              "model_id": "383f63aef9ba4b448546201983494337",
              "version_minor": 0,
              "version_major": 2
            },
            "text/plain": [
              "interactive(children=(IntSlider(value=1, description='max_depth', max=6, min=1), IntSlider(value=10, descripti…"
            ]
          },
          "metadata": {
            "tags": []
          }
        }
      ]
    },
    {
      "cell_type": "markdown",
      "metadata": {
        "colab_type": "text",
        "id": "hOQqjLEDgLVn"
      },
      "source": [
        "### Bagging"
      ]
    },
    {
      "cell_type": "code",
      "metadata": {
        "colab_type": "code",
        "id": "Hm4aPgs2gLVn",
        "outputId": "90462a39-6f4c-4dec-9236-c36c703c37bb",
        "colab": {
          "base_uri": "https://localhost:8080/",
          "height": 864,
          "referenced_widgets": [
            "c4efb7c7d4d14ea0a8eba2c6a68f8a83",
            "12a04212e7f241ef89995205356c862c",
            "bddb37005f8d4cd2b6e7c2fd7efd9536",
            "ae6aae157db740258f6e347338b8dbd6",
            "7b0ebbf247b44b44a07cd09987880734",
            "ac38a82a4fee4a53a6e4dcded1fc1dd0",
            "3688881d651e427fbf303cfbe679d63c",
            "2f74d033b98b47d2a806dcabca97e7e2",
            "9e176d69c11e4e4d95fe8bcb0a980928",
            "4747f330d35d4beab684823263641ea4"
          ]
        }
      },
      "source": [
        "# Do-it-yourself Bagging Ensemble of Decision Trees (like a Random Forest)\n",
        "\n",
        "# Instructions\n",
        "# 1. Choose two features\n",
        "# 2. Run this code cell\n",
        "# 3. Interact with the widget sliders\n",
        "\n",
        "feature1 = 'longitude'\n",
        "feature2 = 'latitude'\n",
        "\n",
        "def waterpumps_bagging(max_depth=1, n_estimators=1):\n",
        "    predicteds = []\n",
        "    for i in range(n_estimators):\n",
        "        title = f'Tree {i+1}'\n",
        "        bootstrap_sample = train.sample(n=len(train), replace=True)\n",
        "        X, y = get_X_y(bootstrap_sample, feature1, feature2, target='status_group')\n",
        "        tree = DecisionTreeClassifier(max_depth=max_depth)\n",
        "        tree.fit(X, y)\n",
        "        predicted = pred_heatmap(tree, X, [feature1, feature2], class_index=0, title=title)\n",
        "        predicteds.append(predicted)\n",
        "    \n",
        "    ensembled = np.vstack(predicteds).mean(axis=0)\n",
        "    title = f'Ensemble of {n_estimators} trees, with max_depth={max_depth}'\n",
        "    sns.heatmap(ensembled.reshape(100, 100).T, vmin=0, vmax=1)\n",
        "    plt.title(title)\n",
        "    plt.xlabel(feature1)\n",
        "    plt.ylabel(feature2)\n",
        "    plt.xticks([])\n",
        "    plt.yticks([])\n",
        "    plt.show()\n",
        "        \n",
        "interact(waterpumps_bagging, max_depth=(1,6,1), n_estimators=(2,5,1));"
      ],
      "execution_count": 0,
      "outputs": [
        {
          "output_type": "display_data",
          "data": {
            "application/vnd.jupyter.widget-view+json": {
              "model_id": "c4efb7c7d4d14ea0a8eba2c6a68f8a83",
              "version_minor": 0,
              "version_major": 2
            },
            "text/plain": [
              "interactive(children=(IntSlider(value=1, description='max_depth', max=6, min=1), IntSlider(value=2, descriptio…"
            ]
          },
          "metadata": {
            "tags": []
          }
        }
      ]
    },
    {
      "cell_type": "markdown",
      "metadata": {
        "colab_type": "text",
        "id": "wYoSBi15akWP"
      },
      "source": [
        "# Review\n",
        "\n",
        "#### Try Tree Ensembles when you do machine learning with labeled, tabular data\n",
        "- \"Tree Ensembles\" means Random Forest or Gradient Boosting models. \n",
        "- [Tree Ensembles often have the best predictive accuracy](https://arxiv.org/abs/1708.05070) with labeled, tabular data.\n",
        "- Why? Because trees can fit non-linear, non-[monotonic](https://en.wikipedia.org/wiki/Monotonic_function) relationships, and [interactions](https://christophm.github.io/interpretable-ml-book/interaction.html) between features.\n",
        "- A single decision tree, grown to unlimited depth, will [overfit](http://www.r2d3.us/visual-intro-to-machine-learning-part-1/). We solve this problem by ensembling trees, with bagging (Random Forest) or boosting (Gradient Boosting).\n",
        "- Random Forest's advantage: may be less sensitive to hyperparameters. Gradient Boosting's advantage: may get better predictive accuracy.\n",
        "\n",
        "#### One-hot encoding isn’t the only way, and may not be the best way, of categorical encoding for tree ensembles.\n",
        "- For example, tree ensembles can work with arbitrary \"ordinal\" encoding! (Randomly assigning an integer to each category.) Compared to one-hot encoding, the dimensionality will be lower, and the predictive accuracy may be just as good or even better.\n"
      ]
    }
  ]
}