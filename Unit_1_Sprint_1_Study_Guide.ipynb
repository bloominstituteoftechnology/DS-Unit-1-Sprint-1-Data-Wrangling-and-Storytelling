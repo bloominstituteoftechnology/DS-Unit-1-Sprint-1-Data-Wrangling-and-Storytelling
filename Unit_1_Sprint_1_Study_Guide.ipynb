{
  "nbformat": 4,
  "nbformat_minor": 0,
  "metadata": {
    "colab": {
      "name": "Unit 1 Sprint 1 - Study Guide.ipynb",
      "provenance": [],
      "collapsed_sections": [],
      "include_colab_link": true
    },
    "kernelspec": {
      "name": "python3",
      "display_name": "Python 3"
    }
  },
  "cells": [
    {
      "cell_type": "markdown",
      "metadata": {
        "id": "view-in-github",
        "colab_type": "text"
      },
      "source": [
        "<a href=\"https://colab.research.google.com/github/tranitapalmer/DS-Unit-1-Sprint-1-Data-Wrangling-and-Storytelling/blob/master/Unit_1_Sprint_1_Study_Guide.ipynb\" target=\"_parent\"><img src=\"https://colab.research.google.com/assets/colab-badge.svg\" alt=\"Open In Colab\"/></a>"
      ]
    },
    {
      "cell_type": "markdown",
      "metadata": {
        "id": "Nd2OOOVXxXS1",
        "colab_type": "text"
      },
      "source": [
        "This study guide should reinforce and provide practice for all of the concepts you have seen in Unit 1 Sprint 1. There are a mix of written questions and coding exercises, both are equally important to prepare you for the sprint challenge as well as to be able to speak on these topics comfortably in interviews and on the job.\n",
        "\n",
        "If you get stuck or are unsure of something remember the 20 minute rule. If that doesn't help, then research a solution with google and stackoverflow. Only once you have exausted these methods should you turn to your Team Lead - they won't be there on your SC or during an interview. That being said, don't hesitate to ask for help if you truly are stuck.\n",
        "\n",
        "Have fun studying!"
      ]
    },
    {
      "cell_type": "markdown",
      "metadata": {
        "id": "fpvInKdXekFi",
        "colab_type": "text"
      },
      "source": [
        "## Questions"
      ]
    },
    {
      "cell_type": "markdown",
      "metadata": {
        "id": "Q6bS8AhBZ86H",
        "colab_type": "text"
      },
      "source": [
        "When completing this section, try to limit your answers to 2-3 sentences max and use plain english as much as possible. It's very easy to hide incomplete knowledge and undertanding behind fancy or technical words, so imagine you are explaining these things to a non-technical interviewer.\n",
        "\n",
        "1. What is a Data Frame?\n",
        "```\n",
        "Put your answer here\n",
        "```\n",
        "\n",
        "2. What is Pandas?\n",
        "```\n",
        "Put your answer here\n",
        "```\n",
        "\n",
        "3. How do you check for NaNs?\n",
        "```\n",
        "Put your answer here\n",
        "```\n",
        "\n",
        "4. What is numpy?\n",
        "```\n",
        "Put your answer here\n",
        "```\n",
        "5. What library will you use to plot?\n",
        "```\n",
        "Put your answer here\n",
        "```"
      ]
    },
    {
      "cell_type": "markdown",
      "metadata": {
        "id": "sj5-1Nnkpej6",
        "colab_type": "text"
      },
      "source": [
        "### what to study"
      ]
    },
    {
      "cell_type": "markdown",
      "metadata": {
        "id": "vz6CusBmpDgz",
        "colab_type": "text"
      },
      "source": [
        "Numpy\n",
        "```\n",
        "```\n",
        "Pandas\n",
        "```\n",
        "```\n",
        "Seaborn\n",
        "```\n",
        "```\n",
        "Matplotlib\n",
        "```\n",
        "```\n",
        "Pairplot\n",
        "```\n",
        "```\n",
        "Analysis and Interpretation\n",
        "```\n"
      ]
    },
    {
      "cell_type": "markdown",
      "metadata": {
        "id": "dUQaIwbceohq",
        "colab_type": "text"
      },
      "source": [
        "## Practice Problems"
      ]
    },
    {
      "cell_type": "markdown",
      "metadata": {
        "id": "4jnYgnFjP6eE",
        "colab_type": "text"
      },
      "source": [
        "Import pandas\n"
      ]
    },
    {
      "cell_type": "code",
      "metadata": {
        "id": "S9hFYrmqQlLA",
        "colab_type": "code",
        "colab": {}
      },
      "source": [
        ""
      ],
      "execution_count": 0,
      "outputs": []
    },
    {
      "cell_type": "markdown",
      "metadata": {
        "id": "bCbET5ioQlmQ",
        "colab_type": "text"
      },
      "source": [
        "Import seaborn\n"
      ]
    },
    {
      "cell_type": "code",
      "metadata": {
        "id": "lwNwPn5nQowi",
        "colab_type": "code",
        "colab": {}
      },
      "source": [
        ""
      ],
      "execution_count": 0,
      "outputs": []
    },
    {
      "cell_type": "markdown",
      "metadata": {
        "id": "2hq-PhcTQph7",
        "colab_type": "text"
      },
      "source": [
        "Import numpy"
      ]
    },
    {
      "cell_type": "code",
      "metadata": {
        "id": "ZsWsuYwXRRP3",
        "colab_type": "code",
        "colab": {}
      },
      "source": [
        ""
      ],
      "execution_count": 0,
      "outputs": []
    },
    {
      "cell_type": "markdown",
      "metadata": {
        "id": "jVqQYLgxld7M",
        "colab_type": "text"
      },
      "source": [
        "Import matplotlib"
      ]
    },
    {
      "cell_type": "code",
      "metadata": {
        "id": "ScovMuwvRdtq",
        "colab_type": "code",
        "colab": {}
      },
      "source": [
        ""
      ],
      "execution_count": 0,
      "outputs": []
    },
    {
      "cell_type": "markdown",
      "metadata": {
        "id": "uD5cTw9plh9c",
        "colab_type": "text"
      },
      "source": [
        "Loading and viewing a Dataframe"
      ]
    },
    {
      "cell_type": "code",
      "metadata": {
        "id": "XlazD59ClhXi",
        "colab_type": "code",
        "colab": {}
      },
      "source": [
        ""
      ],
      "execution_count": 0,
      "outputs": []
    },
    {
      "cell_type": "markdown",
      "metadata": {
        "id": "JyThYBHGlm60",
        "colab_type": "text"
      },
      "source": [
        "Using the loaded DataFrame to create and display a plot or graph."
      ]
    },
    {
      "cell_type": "code",
      "metadata": {
        "id": "pr_vT8VSmK6J",
        "colab_type": "code",
        "colab": {}
      },
      "source": [
        ""
      ],
      "execution_count": 0,
      "outputs": []
    }
  ]
}