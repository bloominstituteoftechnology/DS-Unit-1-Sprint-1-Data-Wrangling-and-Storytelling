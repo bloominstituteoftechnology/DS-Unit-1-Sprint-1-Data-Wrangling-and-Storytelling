{
  "nbformat": 4,
  "nbformat_minor": 0,
  "metadata": {
    "colab": {
      "name": "2ndCopy of LS_DS_114_Make_Explanatory_Visualizations_Assignment.ipynb",
      "provenance": [],
      "collapsed_sections": [],
      "include_colab_link": true
    },
    "language_info": {
      "codemirror_mode": {
        "name": "ipython",
        "version": 3
      },
      "file_extension": ".py",
      "mimetype": "text/x-python",
      "name": "python",
      "nbconvert_exporter": "python",
      "pygments_lexer": "ipython3",
      "version": "3.7.1"
    },
    "kernelspec": {
      "display_name": "Python 3",
      "language": "python",
      "name": "python3"
    }
  },
  "cells": [
    {
      "cell_type": "markdown",
      "metadata": {
        "id": "view-in-github",
        "colab_type": "text"
      },
      "source": [
        "<a href=\"https://colab.research.google.com/github/tatianaportsova/DS-Unit-1-Sprint-1-Data-Wrangling-and-Storytelling/blob/master/2ndCopy_of_LS_DS_114_Make_Explanatory_Visualizations_Assignment.ipynb\" target=\"_parent\"><img src=\"https://colab.research.google.com/assets/colab-badge.svg\" alt=\"Open In Colab\"/></a>"
      ]
    },
    {
      "cell_type": "markdown",
      "metadata": {
        "colab_type": "text",
        "id": "NMEswXWh9mqw"
      },
      "source": [
        "Lambda School Data Science\n",
        "\n",
        "*Unit 1, Sprint 1, Module 4*\n",
        "\n",
        "---\n",
        "\n",
        "# ASSIGNMENT\n",
        "\n",
        "### 1) Replicate the lesson code. I recommend that you [do not copy-paste](https://docs.google.com/document/d/1ubOw9B3Hfip27hF2ZFnW3a3z9xAgrUDRReOEo-FHCVs/edit).\n",
        "\n",
        "Get caught up to where we got our example in class and then try and take things further. How close to \"pixel perfect\" can you make the lecture graph?\n",
        "\n",
        "Once you have something that you're proud of, share your graph in the cohort channel and move on to the second exercise.\n",
        "\n",
        "### 2) Reproduce another example from [FiveThityEight's shared data repository](https://data.fivethirtyeight.com/).\n",
        "\n",
        "**WARNING**: There are a lot of very custom graphs and tables at the above link. I **highly** recommend not trying to reproduce any that look like a table of values or something really different from the graph types that we are already familiar with. Search through the posts until you find a graph type that you are more or less familiar with: histogram, bar chart, stacked bar chart, line chart, [seaborn relplot](https://seaborn.pydata.org/generated/seaborn.relplot.html), etc. Recreating some of the graphics that 538 uses would be a lot easier in Adobe photoshop/illustrator than with matplotlib. \n",
        "\n",
        "- If you put in some time to find a graph that looks \"easy\" to replicate you'll probably find that it's not as easy as you thought. \n",
        "\n",
        "- If you start with a graph that looks hard to replicate you'll probably run up against a brick wall and be disappointed with your afternoon.\n",
        "\n",
        "\n",
        "\n",
        "\n",
        "\n",
        "\n",
        "\n",
        "\n",
        "\n",
        "\n"
      ]
    },
    {
      "cell_type": "code",
      "metadata": {
        "id": "7SY1ZHawyZvz",
        "colab_type": "code",
        "colab": {}
      },
      "source": [
        "# Your Work Here"
      ],
      "execution_count": 0,
      "outputs": []
    },
    {
      "cell_type": "code",
      "metadata": {
        "id": "ZcjtnrpvxrDm",
        "colab_type": "code",
        "colab": {
          "base_uri": "https://localhost:8080/",
          "height": 555
        },
        "outputId": "1a968913-8de0-438c-ac70-e99626826353"
      },
      "source": [
        "import numpy as np\n",
        "import matplotlib.pyplot as plt\n",
        "from matplotlib.ticker import AutoMinorLocator, MultipleLocator, FuncFormatter\n",
        "\n",
        "np.random.seed(19680801)\n",
        "\n",
        "X = np.linspace(0.5, 3.5, 100)\n",
        "Y1 = 3+np.cos(X)\n",
        "Y2 = 1+np.cos(1+X/0.75)/2\n",
        "Y3 = np.random.uniform(Y1, Y2, len(X))\n",
        "\n",
        "fig = plt.figure(figsize=(8, 8))\n",
        "ax = fig.add_subplot(1, 1, 1, aspect=1)\n",
        "\n",
        "\n",
        "def minor_tick(x, pos):\n",
        "    if not x % 1.0:\n",
        "        return \"\"\n",
        "    return \"%.2f\" % x\n",
        "\n",
        "ax.xaxis.set_major_locator(MultipleLocator(1.000))\n",
        "ax.xaxis.set_minor_locator(AutoMinorLocator(4))\n",
        "ax.yaxis.set_major_locator(MultipleLocator(1.000))\n",
        "ax.yaxis.set_minor_locator(AutoMinorLocator(4))\n",
        "ax.xaxis.set_minor_formatter(FuncFormatter(minor_tick))\n",
        "\n",
        "ax.set_xlim(0, 4)\n",
        "ax.set_ylim(0, 4)\n",
        "\n",
        "ax.tick_params(which='major', width=1.0)\n",
        "ax.tick_params(which='major', length=10)\n",
        "ax.tick_params(which='minor', width=1.0, labelsize=10)\n",
        "ax.tick_params(which='minor', length=5, labelsize=10, labelcolor='0.25')\n",
        "\n",
        "ax.grid(linestyle=\"--\", linewidth=0.5, color='.25', zorder=-10)\n",
        "\n",
        "ax.plot(X, Y1, c=(0.25, 0.25, 1.00), lw=2, label=\"Blue signal\", zorder=10)\n",
        "ax.plot(X, Y2, c=(1.00, 0.25, 0.25), lw=2, label=\"Red signal\")\n",
        "ax.plot(X, Y3, linewidth=0,\n",
        "        marker='o', markerfacecolor='w', markeredgecolor='k')\n",
        "\n",
        "ax.set_title(\"Anatomy of a figure\", fontsize=20, verticalalignment='bottom')\n",
        "ax.set_xlabel(\"X axis label\")\n",
        "ax.set_ylabel(\"Y axis label\")\n",
        "\n",
        "ax.legend()\n",
        "\n",
        "\n",
        "def circle(x, y, radius=0.15):\n",
        "    from matplotlib.patches import Circle\n",
        "    from matplotlib.patheffects import withStroke\n",
        "    circle = Circle((x, y), radius, clip_on=False, zorder=10, linewidth=1,\n",
        "                    edgecolor='black', facecolor=(0, 0, 0, .0125),\n",
        "                    path_effects=[withStroke(linewidth=5, foreground='w')])\n",
        "    ax.add_artist(circle)\n",
        "\n",
        "\n",
        "def text(x, y, text):\n",
        "    ax.text(x, y, text, backgroundcolor=\"white\",\n",
        "            ha='center', va='top', weight='bold', color='blue')\n",
        "\n",
        "### Minor tick\n",
        "circle(0.50, -0.10)\n",
        "text(0.50, -0.32, \"Minor tick label\")\n",
        "\n",
        "### Major tick\n",
        "circle(-0.03, 4.00)\n",
        "text(0.03, 3.80, \"Major tick\")\n",
        "\n",
        "### Minor tick\n",
        "circle(0.00, 3.50)\n",
        "text(0.00, 3.30, \"Minor tick\")\n",
        "\n",
        "### Major tick label\n",
        "circle(-0.15, 3.00)\n",
        "text(-0.15, 2.80, \"Major tick label\")\n",
        "\n",
        "### X Label\n",
        "circle(1.80, -0.27)\n",
        "text(1.80, -0.45, \"X axis label\")\n",
        "\n",
        "### Y Label\n",
        "circle(-0.27, 1.80)\n",
        "text(-0.27, 1.6, \"Y axis label\")\n",
        "\n",
        "### Title\n",
        "circle(1.60, 4.13)\n",
        "text(1.60, 3.93, \"Title\")\n",
        "\n",
        "### Blue plot\n",
        "circle(1.75, 2.80)\n",
        "text(1.75, 2.60, \"Line\\n(line plot)\")\n",
        "\n",
        "### Red plot\n",
        "circle(1.20, 0.60)\n",
        "text(1.20, 0.40, \"Line\\n(line plot)\")\n",
        "\n",
        "### Scatter plot\n",
        "circle(3.20, 1.75)\n",
        "text(3.20, 1.55, \"Markers\\n(scatter plot)\")\n",
        "\n",
        "### Grid\n",
        "circle(3.00, 3.00)\n",
        "text(3.00, 2.80, \"Grid\")\n",
        "\n",
        "### Legend\n",
        "circle(3.70, 3.80)\n",
        "text(3.70, 3.60, \"Legend\")\n",
        "\n",
        "### Axes\n",
        "circle(0.5, 0.5)\n",
        "text(0.5, 0.3, \"Axes\")\n",
        "\n",
        "### Figure\n",
        "circle(-0.3, 0.65)\n",
        "text(-0.3, 0.45, \"Figure\")\n",
        "\n",
        "color = 'blue'\n",
        "ax.annotate('Spines', xy=(4.0, 0.35), xytext=(3.3, 0.5),\n",
        "            weight='bold', color=color,\n",
        "            arrowprops=dict(arrowstyle='->',\n",
        "                            connectionstyle=\"arc3\",\n",
        "                            color=color))\n",
        "\n",
        "ax.annotate('', xy=(3.15, 0.0), xytext=(3.45, 0.45),\n",
        "            weight='bold', color=color,\n",
        "            arrowprops=dict(arrowstyle='->',\n",
        "                            connectionstyle=\"arc3\",\n",
        "                            color=color))\n",
        "\n",
        "ax.text(4.0, -0.4, \"Made with http://matplotlib.org\",\n",
        "        fontsize=10, ha=\"right\", color='.5')\n",
        "\n",
        "plt.show()"
      ],
      "execution_count": 1,
      "outputs": [
        {
          "output_type": "display_data",
          "data": {
            "image/png": "[encoded data removed]",
            "text/plain": [
              "<Figure size 576x576 with 1 Axes>"
            ]
          },
          "metadata": {
            "tags": []
          }
        }
      ]
    },
    {
      "cell_type": "markdown",
      "metadata": {
        "id": "N7R7hpQHDsVK",
        "colab_type": "text"
      },
      "source": [
        "# Matplotlib \"Pyplot\" Syntax "
      ]
    },
    {
      "cell_type": "code",
      "metadata": {
        "id": "nw2pqCRAxz0D",
        "colab_type": "code",
        "colab": {
          "base_uri": "https://localhost:8080/",
          "height": 296
        },
        "outputId": "e96df29b-253f-41b5-885c-b4ffdf94dacf"
      },
      "source": [
        "import matplotlib.pyplot as plt\n",
        "\n",
        "data = [6,9,3,1,5]\n",
        "data1 = [2,8,3,1,7]\n",
        "\n",
        "plt.plot(data)\n",
        "plt.title('The Title')\n",
        "plt.xlabel ('Number of Items')\n",
        "plt.ylabel ('Frequency')\n",
        "#plt.show()\n",
        "\n",
        "plt.plot(data1)\n",
        "plt.show()"
      ],
      "execution_count": 212,
      "outputs": [
        {
          "output_type": "display_data",
          "data": {
            "image/png": "[encoded data removed]",
            "text/plain": [
              "<Figure size 432x288 with 1 Axes>"
            ]
          },
          "metadata": {
            "tags": []
          }
        }
      ]
    },
    {
      "cell_type": "markdown",
      "metadata": {
        "id": "sgIYSwkox4H8",
        "colab_type": "text"
      },
      "source": [
        ""
      ]
    },
    {
      "cell_type": "markdown",
      "metadata": {
        "id": "y-R57NoGFL4s",
        "colab_type": "text"
      },
      "source": [
        "# Making Explanatory Visualisations with Matplotlib"
      ]
    },
    {
      "cell_type": "code",
      "metadata": {
        "id": "OjMkrBL_x7Dw",
        "colab_type": "code",
        "colab": {
          "base_uri": "https://localhost:8080/",
          "height": 438
        },
        "outputId": "addfc28a-0442-4b84-abb8-c7d77cb088f1"
      },
      "source": [
        "# Reproduce this\n",
        "from IPython.display import display, Image\n",
        "\n",
        "url ='https://fivethirtyeight.com/wp-content/uploads/2017/09/mehtahickey-inconvenient-0830-1.png'\n",
        "example = Image(url= url, width = 500)\n",
        "\n",
        "display(example)"
      ],
      "execution_count": 213,
      "outputs": [
        {
          "output_type": "display_data",
          "data": {
            "text/html": [
              "<img src=\"https://fivethirtyeight.com/wp-content/uploads/2017/09/mehtahickey-inconvenient-0830-1.png\" width=\"500\"/>"
            ],
            "text/plain": [
              "<IPython.core.display.Image object>"
            ]
          },
          "metadata": {
            "tags": []
          }
        }
      ]
    },
    {
      "cell_type": "markdown",
      "metadata": {
        "id": "AwQw61dKyA-9",
        "colab_type": "text"
      },
      "source": [
        ""
      ]
    },
    {
      "cell_type": "markdown",
      "metadata": {
        "id": "L_5LpS85GAOG",
        "colab_type": "text"
      },
      "source": [
        "## Making Prototypes"
      ]
    },
    {
      "cell_type": "code",
      "metadata": {
        "id": "uiGa8yKBx-K3",
        "colab_type": "code",
        "colab": {
          "base_uri": "https://localhost:8080/",
          "height": 285
        },
        "outputId": "b4a9ae17-915e-4a39-8c17-645755c82218"
      },
      "source": [
        "%matplotlib inline\n",
        "import matplotlib.pyplot as plt\n",
        "import numpy as np\n",
        "import pandas as pd\n",
        "\n",
        "plt.style.use('fivethirtyeight')\n",
        "\n",
        "fake = pd.Series([38, 3, 2, 1, 2, 4, 6, 5, 5, 33],\n",
        "                 index= range(1,11))\n",
        "\n",
        "fake.plot.bar(color= 'C1', width = 0.9);"
      ],
      "execution_count": 214,
      "outputs": [
        {
          "output_type": "display_data",
          "data": {
            "image/png": "[encoded data removed]",
            "text/plain": [
              "<Figure size 432x288 with 1 Axes>"
            ]
          },
          "metadata": {
            "tags": []
          }
        }
      ]
    },
    {
      "cell_type": "code",
      "metadata": {
        "id": "-maCbhoiyHH1",
        "colab_type": "code",
        "colab": {
          "base_uri": "https://localhost:8080/",
          "height": 306
        },
        "outputId": "295b656c-45e5-4ed1-ca75-e74676a80a59"
      },
      "source": [
        "fake1 = pd.Series([1, 1, 1, 1, 1, 1, 1, 1, 1, 1, 1, 1, 1, 1, 1, 1, 1, 1, 1, 1, 1, 1, 1, 1,\n",
        "     2, 2, 2, \n",
        "     3, 3, 3,\n",
        "     4, 4,\n",
        "     5, 5, 5,\n",
        "     6, 6, 6, 6,\n",
        "     7, 7, 7, 7, 7,\n",
        "     8, 8, 8, 8,\n",
        "     9, 9, 9, 9, \n",
        "     10, 10, 10, 10, 10, 10, 10, 10, 10, 10, 10, 10, 10, 10, 10, 10, 10, 10])\n",
        "\n",
        "fake1.value_counts().sort_index().plot.bar(color= 'C1', width = 0.9)"
      ],
      "execution_count": 215,
      "outputs": [
        {
          "output_type": "execute_result",
          "data": {
            "text/plain": [
              "<matplotlib.axes._subplots.AxesSubplot at 0x7fdd1afa3c18>"
            ]
          },
          "metadata": {
            "tags": []
          },
          "execution_count": 215
        },
        {
          "output_type": "display_data",
          "data": {
            "image/png": "[encoded data removed]",
            "text/plain": [
              "<Figure size 432x288 with 1 Axes>"
            ]
          },
          "metadata": {
            "tags": []
          }
        }
      ]
    },
    {
      "cell_type": "markdown",
      "metadata": {
        "id": "RMRFUL7CyKKe",
        "colab_type": "text"
      },
      "source": [
        ""
      ]
    },
    {
      "cell_type": "markdown",
      "metadata": {
        "id": "7cxrw5f-IVGX",
        "colab_type": "text"
      },
      "source": [
        "# Figure Axes Syntax"
      ]
    },
    {
      "cell_type": "code",
      "metadata": {
        "id": "yJ83FoQhyLK8",
        "colab_type": "code",
        "colab": {
          "base_uri": "https://localhost:8080/",
          "height": 304
        },
        "outputId": "bdea8090-1704-4498-fe34-c18955670d8d"
      },
      "source": [
        "fig, ax= plt.subplots()\n",
        "\n",
        "fig.patch.set(facecolor ='pink')\n",
        "\n",
        "ax.set_xlabel('The X label')\n",
        "ax.plot(data, color= 'C9');"
      ],
      "execution_count": 216,
      "outputs": [
        {
          "output_type": "display_data",
          "data": {
            "image/png": "[encoded data removed]",
            "text/plain": [
              "<Figure size 432x288 with 1 Axes>"
            ]
          },
          "metadata": {
            "tags": []
          }
        }
      ]
    },
    {
      "cell_type": "markdown",
      "metadata": {
        "id": "-_Eqs-L3yRXg",
        "colab_type": "text"
      },
      "source": [
        ""
      ]
    },
    {
      "cell_type": "markdown",
      "metadata": {
        "id": "UwM7LkuhJSDE",
        "colab_type": "text"
      },
      "source": [
        "#Annotate with text"
      ]
    },
    {
      "cell_type": "code",
      "metadata": {
        "id": "ucHRSv5-yPIq",
        "colab_type": "code",
        "colab": {
          "base_uri": "https://localhost:8080/",
          "height": 438
        },
        "outputId": "ae5c1420-b407-4b94-e1bd-36d8f9d6c3e8"
      },
      "source": [
        "display(example)"
      ],
      "execution_count": 217,
      "outputs": [
        {
          "output_type": "display_data",
          "data": {
            "text/html": [
              "<img src=\"https://fivethirtyeight.com/wp-content/uploads/2017/09/mehtahickey-inconvenient-0830-1.png\" width=\"500\"/>"
            ],
            "text/plain": [
              "<IPython.core.display.Image object>"
            ]
          },
          "metadata": {
            "tags": []
          }
        }
      ]
    },
    {
      "cell_type": "code",
      "metadata": {
        "id": "ZIaZmyKEyZBu",
        "colab_type": "code",
        "colab": {
          "base_uri": "https://localhost:8080/",
          "height": 358
        },
        "outputId": "40cf5017-7fed-4b69-e9ac-6b85d702f498"
      },
      "source": [
        "# Set Stylesheet\n",
        "plt.style.use('fivethirtyeight')\n",
        "\n",
        "# Figure / axes syntax\n",
        "fig, ax =plt.subplots()\n",
        "\n",
        "# Plot the bars\n",
        "fake.plot.bar(fake, width = .9, color = '#ED7139')\n",
        "\n",
        "# Title\n",
        "ax.set_title(\"'An Inconvenient Sequel: Truth to Power' is divisive\",\n",
        "             loc = 'left',\n",
        "             color = 'black',\n",
        "             fontsize = 13,\n",
        "             fontweight ='bold',\n",
        "             x = -.07,\n",
        "             y = 1.1)\n",
        "\n",
        "# Subtitle\n",
        "ax.text(s = 'IMDb ratings for the film as of Aug. 29',\n",
        "        x= -1.4,\n",
        "        y =42,\n",
        "        color = 'black',\n",
        "        fontsize= 12)\n",
        "\n",
        "# X label\n",
        "ax.set_xlabel('Rating', color = 'Black', fontsize = 12)\n",
        "\n",
        "# Y label\n",
        "ax.set_ylabel('Percent of total votes', color = '#010101', rotation = 'vertical', fontsize = '12')\n",
        "\n",
        "# X axis tick labels\n",
        "ax.set_xticklabels(labels = range(1,11,1), color = 'grey', rotation = 'horizontal', fontsize = '11')\n",
        "\n",
        "# Y axis tick labels\n",
        "ax.set_yticklabels(labels = ['0', '10','20', '30', '40%'], color = 'gray', fontsize = '11')\n",
        "\n",
        "# Set Y ticks\n",
        "ax.set_yticks(ticks = range(0,50,10))\n",
        "\n",
        "# Set figure background color\n",
        "fig.set_facecolor(color = \"white\")\n",
        "\n",
        "# Set axes background color\n",
        "# ax.set(facecolor = 'white')\n",
        "ax.set_facecolor(color = 'white')\n",
        "\n",
        "# Draw the bottom line\n",
        "import matplotlib.lines as lines\n",
        "l1 = lines.Line2D([0, .95], [-.06, -.06], transform=fig.transFigure, \n",
        "                  figure=fig, color='lightgray', linewidth=2)\n",
        "fig.lines.extend([l1])\n",
        "\n",
        "\n",
        "\n",
        "# The signature bar\n",
        "ax.text(x = -1.7, y = -9,\n",
        "    s = ' FiveThirtyEight                                                                                                SOURCE:IMD8',fontsize = 9, color = 'grey', backgroundcolor = 'white') ;"
      ],
      "execution_count": 254,
      "outputs": [
        {
          "output_type": "display_data",
          "data": {
            "image/png": "[encoded data removed]",
            "text/plain": [
              "<Figure size 432x288 with 1 Axes>"
            ]
          },
          "metadata": {
            "tags": []
          }
        }
      ]
    },
    {
      "cell_type": "code",
      "metadata": {
        "id": "q3EBGfgGMcl5",
        "colab_type": "code",
        "colab": {
          "base_uri": "https://localhost:8080/",
          "height": 438
        },
        "outputId": "37cf4be1-86fd-482d-b8ea-f37afadc6e81"
      },
      "source": [
        "display(example)"
      ],
      "execution_count": 219,
      "outputs": [
        {
          "output_type": "display_data",
          "data": {
            "text/html": [
              "<img src=\"https://fivethirtyeight.com/wp-content/uploads/2017/09/mehtahickey-inconvenient-0830-1.png\" width=\"500\"/>"
            ],
            "text/plain": [
              "<IPython.core.display.Image object>"
            ]
          },
          "metadata": {
            "tags": []
          }
        }
      ]
    },
    {
      "cell_type": "markdown",
      "metadata": {
        "id": "Q6iBOdDnydlQ",
        "colab_type": "text"
      },
      "source": [
        ""
      ]
    },
    {
      "cell_type": "markdown",
      "metadata": {
        "id": "S-vLFJ-3RuTs",
        "colab_type": "text"
      },
      "source": [
        "# Python 'range()' function\n"
      ]
    },
    {
      "cell_type": "code",
      "metadata": {
        "id": "lizeLViCygkK",
        "colab_type": "code",
        "colab": {
          "base_uri": "https://localhost:8080/",
          "height": 34
        },
        "outputId": "87225e63-27fc-4bd4-94b1-499ca7660a48"
      },
      "source": [
        "# For item in range(1, 51, 1) eg from 1 to51\n",
        "# The third parameter is how many to \"count by\"\n",
        "\n",
        "# print (item)\n",
        "\n",
        "list(range(1,11,1))\n",
        "\n",
        "list(range(0,50,10))\n",
        "\n",
        "# list(range(0,50,0.25)) doesn't work bc of the float\n",
        "\n",
        "list(range(1,11,2))\n"
      ],
      "execution_count": 30,
      "outputs": [
        {
          "output_type": "execute_result",
          "data": {
            "text/plain": [
              "[1, 3, 5, 7, 9]"
            ]
          },
          "metadata": {
            "tags": []
          },
          "execution_count": 30
        }
      ]
    },
    {
      "cell_type": "markdown",
      "metadata": {
        "id": "QzNV0I9eyjkY",
        "colab_type": "text"
      },
      "source": [
        ""
      ]
    },
    {
      "cell_type": "markdown",
      "metadata": {
        "id": "H55DXW7WUKEd",
        "colab_type": "text"
      },
      "source": [
        "## Reproduce with real data"
      ]
    },
    {
      "cell_type": "code",
      "metadata": {
        "id": "NREKuM0Pyn2u",
        "colab_type": "code",
        "colab": {
          "base_uri": "https://localhost:8080/",
          "height": 365
        },
        "outputId": "58974c6d-b75d-4605-b4ea-b142fed98e97"
      },
      "source": [
        "from IPython.display import display, Image\n",
        "\n",
        "url = 'https://fivethirtyeight.com/wp-content/uploads/2019/10/Mehta-Media1028-1028-1.png?w=1150'\n",
        "example1 = Image(url=url, width=400)\n",
        "\n",
        "display(example1)"
      ],
      "execution_count": 31,
      "outputs": [
        {
          "output_type": "display_data",
          "data": {
            "text/html": [
              "<img src=\"https://fivethirtyeight.com/wp-content/uploads/2019/10/Mehta-Media1028-1028-1.png?w=1150\" width=\"400\"/>"
            ],
            "text/plain": [
              "<IPython.core.display.Image object>"
            ]
          },
          "metadata": {
            "tags": []
          }
        }
      ]
    },
    {
      "cell_type": "code",
      "metadata": {
        "id": "oBzN5-sJZcGo",
        "colab_type": "code",
        "colab": {}
      },
      "source": [
        "import pandas as pd\n",
        "import numpy as np\n",
        "import matplotlib.pyplot as plt\n",
        "import seaborn as sns\n",
        "%matplotlib inline\n",
        "plt.style.use('fivethirtyeight')"
      ],
      "execution_count": 0,
      "outputs": []
    },
    {
      "cell_type": "code",
      "metadata": {
        "id": "3PH54BzhZen-",
        "colab_type": "code",
        "colab": {
          "base_uri": "https://localhost:8080/",
          "height": 193
        },
        "outputId": "c8d83a9b-b3de-4e39-8380-70d9e1c4861d"
      },
      "source": [
        "cable_df = pd.read_csv('https://raw.githubusercontent.com/fivethirtyeight/data/master/media-mentions-2020/cable_weekly.csv')\n",
        "cable_df.head(3)"
      ],
      "execution_count": 271,
      "outputs": [
        {
          "output_type": "execute_result",
          "data": {
            "text/html": [
              "<div>\n",
              "<style scoped>\n",
              "    .dataframe tbody tr th:only-of-type {\n",
              "        vertical-align: middle;\n",
              "    }\n",
              "\n",
              "    .dataframe tbody tr th {\n",
              "        vertical-align: top;\n",
              "    }\n",
              "\n",
              "    .dataframe thead th {\n",
              "        text-align: right;\n",
              "    }\n",
              "</style>\n",
              "<table border=\"1\" class=\"dataframe\">\n",
              "  <thead>\n",
              "    <tr style=\"text-align: right;\">\n",
              "      <th></th>\n",
              "      <th>date</th>\n",
              "      <th>name</th>\n",
              "      <th>matched_clips</th>\n",
              "      <th>all_candidate_clips</th>\n",
              "      <th>total_clips</th>\n",
              "      <th>pct_of_all_candidate_clips</th>\n",
              "      <th>query</th>\n",
              "    </tr>\n",
              "  </thead>\n",
              "  <tbody>\n",
              "    <tr>\n",
              "      <th>0</th>\n",
              "      <td>2018-12-30</td>\n",
              "      <td>Amy Klobuchar</td>\n",
              "      <td>12</td>\n",
              "      <td>1279</td>\n",
              "      <td>76029</td>\n",
              "      <td>0.009382</td>\n",
              "      <td>(\"Amy Klobuchar\") (station:MSNBC OR station:CN...</td>\n",
              "    </tr>\n",
              "    <tr>\n",
              "      <th>1</th>\n",
              "      <td>2019-01-06</td>\n",
              "      <td>Amy Klobuchar</td>\n",
              "      <td>7</td>\n",
              "      <td>1031</td>\n",
              "      <td>82964</td>\n",
              "      <td>0.006790</td>\n",
              "      <td>(\"Amy Klobuchar\") (station:MSNBC OR station:CN...</td>\n",
              "    </tr>\n",
              "    <tr>\n",
              "      <th>2</th>\n",
              "      <td>2019-01-13</td>\n",
              "      <td>Amy Klobuchar</td>\n",
              "      <td>45</td>\n",
              "      <td>615</td>\n",
              "      <td>82521</td>\n",
              "      <td>0.073171</td>\n",
              "      <td>(\"Amy Klobuchar\") (station:MSNBC OR station:CN...</td>\n",
              "    </tr>\n",
              "  </tbody>\n",
              "</table>\n",
              "</div>"
            ],
            "text/plain": [
              "         date  ...                                              query\n",
              "0  2018-12-30  ...  (\"Amy Klobuchar\") (station:MSNBC OR station:CN...\n",
              "1  2019-01-06  ...  (\"Amy Klobuchar\") (station:MSNBC OR station:CN...\n",
              "2  2019-01-13  ...  (\"Amy Klobuchar\") (station:MSNBC OR station:CN...\n",
              "\n",
              "[3 rows x 7 columns]"
            ]
          },
          "metadata": {
            "tags": []
          },
          "execution_count": 271
        }
      ]
    },
    {
      "cell_type": "code",
      "metadata": {
        "id": "o53Ylml7Zjza",
        "colab_type": "code",
        "colab": {
          "base_uri": "https://localhost:8080/",
          "height": 142
        },
        "outputId": "a9dfb8ec-586b-4fba-bf89-799396e1c87e"
      },
      "source": [
        "online_df = pd.read_csv('https://raw.githubusercontent.com/fivethirtyeight/data/master/media-mentions-2020/online_weekly.csv')\n",
        "online_df.head(3)"
      ],
      "execution_count": 272,
      "outputs": [
        {
          "output_type": "execute_result",
          "data": {
            "text/html": [
              "<div>\n",
              "<style scoped>\n",
              "    .dataframe tbody tr th:only-of-type {\n",
              "        vertical-align: middle;\n",
              "    }\n",
              "\n",
              "    .dataframe tbody tr th {\n",
              "        vertical-align: top;\n",
              "    }\n",
              "\n",
              "    .dataframe thead th {\n",
              "        text-align: right;\n",
              "    }\n",
              "</style>\n",
              "<table border=\"1\" class=\"dataframe\">\n",
              "  <thead>\n",
              "    <tr style=\"text-align: right;\">\n",
              "      <th></th>\n",
              "      <th>date</th>\n",
              "      <th>name</th>\n",
              "      <th>matched_stories</th>\n",
              "      <th>all_candidate_stories</th>\n",
              "      <th>pct_of_all_candidate_stories</th>\n",
              "      <th>query</th>\n",
              "    </tr>\n",
              "  </thead>\n",
              "  <tbody>\n",
              "    <tr>\n",
              "      <th>0</th>\n",
              "      <td>2018-12-30</td>\n",
              "      <td>Amy Klobuchar</td>\n",
              "      <td>45.0</td>\n",
              "      <td>806</td>\n",
              "      <td>0.055831</td>\n",
              "      <td>(\"Amy Klobuchar\")</td>\n",
              "    </tr>\n",
              "    <tr>\n",
              "      <th>1</th>\n",
              "      <td>2019-01-06</td>\n",
              "      <td>Amy Klobuchar</td>\n",
              "      <td>55.0</td>\n",
              "      <td>915</td>\n",
              "      <td>0.060109</td>\n",
              "      <td>(\"Amy Klobuchar\")</td>\n",
              "    </tr>\n",
              "    <tr>\n",
              "      <th>2</th>\n",
              "      <td>2019-01-13</td>\n",
              "      <td>Amy Klobuchar</td>\n",
              "      <td>128.0</td>\n",
              "      <td>1052</td>\n",
              "      <td>0.121673</td>\n",
              "      <td>(\"Amy Klobuchar\")</td>\n",
              "    </tr>\n",
              "  </tbody>\n",
              "</table>\n",
              "</div>"
            ],
            "text/plain": [
              "         date           name  ...  pct_of_all_candidate_stories              query\n",
              "0  2018-12-30  Amy Klobuchar  ...                      0.055831  (\"Amy Klobuchar\")\n",
              "1  2019-01-06  Amy Klobuchar  ...                      0.060109  (\"Amy Klobuchar\")\n",
              "2  2019-01-13  Amy Klobuchar  ...                      0.121673  (\"Amy Klobuchar\")\n",
              "\n",
              "[3 rows x 6 columns]"
            ]
          },
          "metadata": {
            "tags": []
          },
          "execution_count": 272
        }
      ]
    },
    {
      "cell_type": "code",
      "metadata": {
        "id": "VWOS2juWZmAV",
        "colab_type": "code",
        "colab": {}
      },
      "source": [
        "# Convert date to datetime\n",
        "cable_df['date'] = pd.to_datetime(cable_df['date'], infer_datetime_format=True)"
      ],
      "execution_count": 0,
      "outputs": []
    },
    {
      "cell_type": "code",
      "metadata": {
        "id": "BEbdxvcfZr0C",
        "colab_type": "code",
        "colab": {}
      },
      "source": [
        "# Convert date to datetime\n",
        "online_df['date'] = pd.to_datetime(online_df['date'], infer_datetime_format=True)"
      ],
      "execution_count": 0,
      "outputs": []
    },
    {
      "cell_type": "code",
      "metadata": {
        "id": "I9Fpp7xkZudl",
        "colab_type": "code",
        "colab": {
          "base_uri": "https://localhost:8080/",
          "height": 153
        },
        "outputId": "9bfc3dbd-fd11-4a89-dade-46ecdb929d6b"
      },
      "source": [
        "cable_df.dtypes"
      ],
      "execution_count": 275,
      "outputs": [
        {
          "output_type": "execute_result",
          "data": {
            "text/plain": [
              "date                          datetime64[ns]\n",
              "name                                  object\n",
              "matched_clips                          int64\n",
              "all_candidate_clips                    int64\n",
              "total_clips                            int64\n",
              "pct_of_all_candidate_clips           float64\n",
              "query                                 object\n",
              "dtype: object"
            ]
          },
          "metadata": {
            "tags": []
          },
          "execution_count": 275
        }
      ]
    },
    {
      "cell_type": "code",
      "metadata": {
        "id": "nLXG_eccZxPO",
        "colab_type": "code",
        "colab": {
          "base_uri": "https://localhost:8080/",
          "height": 136
        },
        "outputId": "334384f4-2250-4a0a-f0ec-5df0b8021447"
      },
      "source": [
        "online_df.dtypes"
      ],
      "execution_count": 276,
      "outputs": [
        {
          "output_type": "execute_result",
          "data": {
            "text/plain": [
              "date                            datetime64[ns]\n",
              "name                                    object\n",
              "matched_stories                        float64\n",
              "all_candidate_stories                    int64\n",
              "pct_of_all_candidate_stories           float64\n",
              "query                                   object\n",
              "dtype: object"
            ]
          },
          "metadata": {
            "tags": []
          },
          "execution_count": 276
        }
      ]
    },
    {
      "cell_type": "code",
      "metadata": {
        "id": "GGXGHM0IZ0_2",
        "colab_type": "code",
        "colab": {
          "base_uri": "https://localhost:8080/",
          "height": 289
        },
        "outputId": "db52eedb-1044-4e74-f4cc-be55cbfa113c"
      },
      "source": [
        "# Cutoff starting at 1 April 2019\n",
        "cable_df = cable_df[cable_df['date'] >= '2019-04-01']\n",
        "cable_df.head()"
      ],
      "execution_count": 277,
      "outputs": [
        {
          "output_type": "execute_result",
          "data": {
            "text/html": [
              "<div>\n",
              "<style scoped>\n",
              "    .dataframe tbody tr th:only-of-type {\n",
              "        vertical-align: middle;\n",
              "    }\n",
              "\n",
              "    .dataframe tbody tr th {\n",
              "        vertical-align: top;\n",
              "    }\n",
              "\n",
              "    .dataframe thead th {\n",
              "        text-align: right;\n",
              "    }\n",
              "</style>\n",
              "<table border=\"1\" class=\"dataframe\">\n",
              "  <thead>\n",
              "    <tr style=\"text-align: right;\">\n",
              "      <th></th>\n",
              "      <th>date</th>\n",
              "      <th>name</th>\n",
              "      <th>matched_clips</th>\n",
              "      <th>all_candidate_clips</th>\n",
              "      <th>total_clips</th>\n",
              "      <th>pct_of_all_candidate_clips</th>\n",
              "      <th>query</th>\n",
              "    </tr>\n",
              "  </thead>\n",
              "  <tbody>\n",
              "    <tr>\n",
              "      <th>14</th>\n",
              "      <td>2019-04-07</td>\n",
              "      <td>Amy Klobuchar</td>\n",
              "      <td>51</td>\n",
              "      <td>2345</td>\n",
              "      <td>94405</td>\n",
              "      <td>0.021748</td>\n",
              "      <td>(\"Amy Klobuchar\") (station:MSNBC OR station:CN...</td>\n",
              "    </tr>\n",
              "    <tr>\n",
              "      <th>15</th>\n",
              "      <td>2019-04-14</td>\n",
              "      <td>Amy Klobuchar</td>\n",
              "      <td>65</td>\n",
              "      <td>2639</td>\n",
              "      <td>95286</td>\n",
              "      <td>0.024631</td>\n",
              "      <td>(\"Amy Klobuchar\") (station:MSNBC OR station:CN...</td>\n",
              "    </tr>\n",
              "    <tr>\n",
              "      <th>16</th>\n",
              "      <td>2019-04-21</td>\n",
              "      <td>Amy Klobuchar</td>\n",
              "      <td>102</td>\n",
              "      <td>5749</td>\n",
              "      <td>94002</td>\n",
              "      <td>0.017742</td>\n",
              "      <td>(\"Amy Klobuchar\") (station:MSNBC OR station:CN...</td>\n",
              "    </tr>\n",
              "    <tr>\n",
              "      <th>17</th>\n",
              "      <td>2019-04-28</td>\n",
              "      <td>Amy Klobuchar</td>\n",
              "      <td>88</td>\n",
              "      <td>3956</td>\n",
              "      <td>95339</td>\n",
              "      <td>0.022245</td>\n",
              "      <td>(\"Amy Klobuchar\") (station:MSNBC OR station:CN...</td>\n",
              "    </tr>\n",
              "    <tr>\n",
              "      <th>18</th>\n",
              "      <td>2019-05-05</td>\n",
              "      <td>Amy Klobuchar</td>\n",
              "      <td>130</td>\n",
              "      <td>2748</td>\n",
              "      <td>94528</td>\n",
              "      <td>0.047307</td>\n",
              "      <td>(\"Amy Klobuchar\") (station:MSNBC OR station:CN...</td>\n",
              "    </tr>\n",
              "  </tbody>\n",
              "</table>\n",
              "</div>"
            ],
            "text/plain": [
              "         date  ...                                              query\n",
              "14 2019-04-07  ...  (\"Amy Klobuchar\") (station:MSNBC OR station:CN...\n",
              "15 2019-04-14  ...  (\"Amy Klobuchar\") (station:MSNBC OR station:CN...\n",
              "16 2019-04-21  ...  (\"Amy Klobuchar\") (station:MSNBC OR station:CN...\n",
              "17 2019-04-28  ...  (\"Amy Klobuchar\") (station:MSNBC OR station:CN...\n",
              "18 2019-05-05  ...  (\"Amy Klobuchar\") (station:MSNBC OR station:CN...\n",
              "\n",
              "[5 rows x 7 columns]"
            ]
          },
          "metadata": {
            "tags": []
          },
          "execution_count": 277
        }
      ]
    },
    {
      "cell_type": "code",
      "metadata": {
        "id": "HdPoR7IdZ4Jo",
        "colab_type": "code",
        "colab": {
          "base_uri": "https://localhost:8080/",
          "height": 204
        },
        "outputId": "6633a1cd-3689-4b24-a520-1fb09c345759"
      },
      "source": [
        "online_df = online_df[online_df['date'] >= '2019-04-01']\n",
        "online_df.head()"
      ],
      "execution_count": 278,
      "outputs": [
        {
          "output_type": "execute_result",
          "data": {
            "text/html": [
              "<div>\n",
              "<style scoped>\n",
              "    .dataframe tbody tr th:only-of-type {\n",
              "        vertical-align: middle;\n",
              "    }\n",
              "\n",
              "    .dataframe tbody tr th {\n",
              "        vertical-align: top;\n",
              "    }\n",
              "\n",
              "    .dataframe thead th {\n",
              "        text-align: right;\n",
              "    }\n",
              "</style>\n",
              "<table border=\"1\" class=\"dataframe\">\n",
              "  <thead>\n",
              "    <tr style=\"text-align: right;\">\n",
              "      <th></th>\n",
              "      <th>date</th>\n",
              "      <th>name</th>\n",
              "      <th>matched_stories</th>\n",
              "      <th>all_candidate_stories</th>\n",
              "      <th>pct_of_all_candidate_stories</th>\n",
              "      <th>query</th>\n",
              "    </tr>\n",
              "  </thead>\n",
              "  <tbody>\n",
              "    <tr>\n",
              "      <th>14</th>\n",
              "      <td>2019-04-07</td>\n",
              "      <td>Amy Klobuchar</td>\n",
              "      <td>192.0</td>\n",
              "      <td>1600</td>\n",
              "      <td>0.120000</td>\n",
              "      <td>(\"Amy Klobuchar\")</td>\n",
              "    </tr>\n",
              "    <tr>\n",
              "      <th>15</th>\n",
              "      <td>2019-04-14</td>\n",
              "      <td>Amy Klobuchar</td>\n",
              "      <td>190.0</td>\n",
              "      <td>1936</td>\n",
              "      <td>0.098140</td>\n",
              "      <td>(\"Amy Klobuchar\")</td>\n",
              "    </tr>\n",
              "    <tr>\n",
              "      <th>16</th>\n",
              "      <td>2019-04-21</td>\n",
              "      <td>Amy Klobuchar</td>\n",
              "      <td>251.0</td>\n",
              "      <td>2320</td>\n",
              "      <td>0.108190</td>\n",
              "      <td>(\"Amy Klobuchar\")</td>\n",
              "    </tr>\n",
              "    <tr>\n",
              "      <th>17</th>\n",
              "      <td>2019-04-28</td>\n",
              "      <td>Amy Klobuchar</td>\n",
              "      <td>191.0</td>\n",
              "      <td>1834</td>\n",
              "      <td>0.104144</td>\n",
              "      <td>(\"Amy Klobuchar\")</td>\n",
              "    </tr>\n",
              "    <tr>\n",
              "      <th>18</th>\n",
              "      <td>2019-05-05</td>\n",
              "      <td>Amy Klobuchar</td>\n",
              "      <td>148.0</td>\n",
              "      <td>1577</td>\n",
              "      <td>0.093849</td>\n",
              "      <td>(\"Amy Klobuchar\")</td>\n",
              "    </tr>\n",
              "  </tbody>\n",
              "</table>\n",
              "</div>"
            ],
            "text/plain": [
              "         date           name  ...  pct_of_all_candidate_stories              query\n",
              "14 2019-04-07  Amy Klobuchar  ...                      0.120000  (\"Amy Klobuchar\")\n",
              "15 2019-04-14  Amy Klobuchar  ...                      0.098140  (\"Amy Klobuchar\")\n",
              "16 2019-04-21  Amy Klobuchar  ...                      0.108190  (\"Amy Klobuchar\")\n",
              "17 2019-04-28  Amy Klobuchar  ...                      0.104144  (\"Amy Klobuchar\")\n",
              "18 2019-05-05  Amy Klobuchar  ...                      0.093849  (\"Amy Klobuchar\")\n",
              "\n",
              "[5 rows x 6 columns]"
            ]
          },
          "metadata": {
            "tags": []
          },
          "execution_count": 278
        }
      ]
    },
    {
      "cell_type": "code",
      "metadata": {
        "id": "6aLs78M5Z7Wn",
        "colab_type": "code",
        "colab": {}
      },
      "source": [
        "# Multiply pct_of_all_candidate_clips by 100\n",
        "cable_df['pct_of_all_candidate_clips'] = cable_df['pct_of_all_candidate_clips'] * 100\n",
        "online_df['pct_of_all_candidate_stories'] = online_df['pct_of_all_candidate_stories'] * 100"
      ],
      "execution_count": 0,
      "outputs": []
    },
    {
      "cell_type": "code",
      "metadata": {
        "id": "snPpfb4UZ_Tx",
        "colab_type": "code",
        "colab": {
          "base_uri": "https://localhost:8080/",
          "height": 289
        },
        "outputId": "28ac5348-55db-4c23-808c-d8f4fed72910"
      },
      "source": [
        "cable_df.head()"
      ],
      "execution_count": 280,
      "outputs": [
        {
          "output_type": "execute_result",
          "data": {
            "text/html": [
              "<div>\n",
              "<style scoped>\n",
              "    .dataframe tbody tr th:only-of-type {\n",
              "        vertical-align: middle;\n",
              "    }\n",
              "\n",
              "    .dataframe tbody tr th {\n",
              "        vertical-align: top;\n",
              "    }\n",
              "\n",
              "    .dataframe thead th {\n",
              "        text-align: right;\n",
              "    }\n",
              "</style>\n",
              "<table border=\"1\" class=\"dataframe\">\n",
              "  <thead>\n",
              "    <tr style=\"text-align: right;\">\n",
              "      <th></th>\n",
              "      <th>date</th>\n",
              "      <th>name</th>\n",
              "      <th>matched_clips</th>\n",
              "      <th>all_candidate_clips</th>\n",
              "      <th>total_clips</th>\n",
              "      <th>pct_of_all_candidate_clips</th>\n",
              "      <th>query</th>\n",
              "    </tr>\n",
              "  </thead>\n",
              "  <tbody>\n",
              "    <tr>\n",
              "      <th>14</th>\n",
              "      <td>2019-04-07</td>\n",
              "      <td>Amy Klobuchar</td>\n",
              "      <td>51</td>\n",
              "      <td>2345</td>\n",
              "      <td>94405</td>\n",
              "      <td>2.174840</td>\n",
              "      <td>(\"Amy Klobuchar\") (station:MSNBC OR station:CN...</td>\n",
              "    </tr>\n",
              "    <tr>\n",
              "      <th>15</th>\n",
              "      <td>2019-04-14</td>\n",
              "      <td>Amy Klobuchar</td>\n",
              "      <td>65</td>\n",
              "      <td>2639</td>\n",
              "      <td>95286</td>\n",
              "      <td>2.463054</td>\n",
              "      <td>(\"Amy Klobuchar\") (station:MSNBC OR station:CN...</td>\n",
              "    </tr>\n",
              "    <tr>\n",
              "      <th>16</th>\n",
              "      <td>2019-04-21</td>\n",
              "      <td>Amy Klobuchar</td>\n",
              "      <td>102</td>\n",
              "      <td>5749</td>\n",
              "      <td>94002</td>\n",
              "      <td>1.774222</td>\n",
              "      <td>(\"Amy Klobuchar\") (station:MSNBC OR station:CN...</td>\n",
              "    </tr>\n",
              "    <tr>\n",
              "      <th>17</th>\n",
              "      <td>2019-04-28</td>\n",
              "      <td>Amy Klobuchar</td>\n",
              "      <td>88</td>\n",
              "      <td>3956</td>\n",
              "      <td>95339</td>\n",
              "      <td>2.224469</td>\n",
              "      <td>(\"Amy Klobuchar\") (station:MSNBC OR station:CN...</td>\n",
              "    </tr>\n",
              "    <tr>\n",
              "      <th>18</th>\n",
              "      <td>2019-05-05</td>\n",
              "      <td>Amy Klobuchar</td>\n",
              "      <td>130</td>\n",
              "      <td>2748</td>\n",
              "      <td>94528</td>\n",
              "      <td>4.730713</td>\n",
              "      <td>(\"Amy Klobuchar\") (station:MSNBC OR station:CN...</td>\n",
              "    </tr>\n",
              "  </tbody>\n",
              "</table>\n",
              "</div>"
            ],
            "text/plain": [
              "         date  ...                                              query\n",
              "14 2019-04-07  ...  (\"Amy Klobuchar\") (station:MSNBC OR station:CN...\n",
              "15 2019-04-14  ...  (\"Amy Klobuchar\") (station:MSNBC OR station:CN...\n",
              "16 2019-04-21  ...  (\"Amy Klobuchar\") (station:MSNBC OR station:CN...\n",
              "17 2019-04-28  ...  (\"Amy Klobuchar\") (station:MSNBC OR station:CN...\n",
              "18 2019-05-05  ...  (\"Amy Klobuchar\") (station:MSNBC OR station:CN...\n",
              "\n",
              "[5 rows x 7 columns]"
            ]
          },
          "metadata": {
            "tags": []
          },
          "execution_count": 280
        }
      ]
    },
    {
      "cell_type": "code",
      "metadata": {
        "id": "B5YC1IpKaCa1",
        "colab_type": "code",
        "colab": {
          "base_uri": "https://localhost:8080/",
          "height": 204
        },
        "outputId": "5e5b965b-d551-46ff-e5a8-e299c6cf15cb"
      },
      "source": [
        "online_df.head()"
      ],
      "execution_count": 281,
      "outputs": [
        {
          "output_type": "execute_result",
          "data": {
            "text/html": [
              "<div>\n",
              "<style scoped>\n",
              "    .dataframe tbody tr th:only-of-type {\n",
              "        vertical-align: middle;\n",
              "    }\n",
              "\n",
              "    .dataframe tbody tr th {\n",
              "        vertical-align: top;\n",
              "    }\n",
              "\n",
              "    .dataframe thead th {\n",
              "        text-align: right;\n",
              "    }\n",
              "</style>\n",
              "<table border=\"1\" class=\"dataframe\">\n",
              "  <thead>\n",
              "    <tr style=\"text-align: right;\">\n",
              "      <th></th>\n",
              "      <th>date</th>\n",
              "      <th>name</th>\n",
              "      <th>matched_stories</th>\n",
              "      <th>all_candidate_stories</th>\n",
              "      <th>pct_of_all_candidate_stories</th>\n",
              "      <th>query</th>\n",
              "    </tr>\n",
              "  </thead>\n",
              "  <tbody>\n",
              "    <tr>\n",
              "      <th>14</th>\n",
              "      <td>2019-04-07</td>\n",
              "      <td>Amy Klobuchar</td>\n",
              "      <td>192.0</td>\n",
              "      <td>1600</td>\n",
              "      <td>12.000000</td>\n",
              "      <td>(\"Amy Klobuchar\")</td>\n",
              "    </tr>\n",
              "    <tr>\n",
              "      <th>15</th>\n",
              "      <td>2019-04-14</td>\n",
              "      <td>Amy Klobuchar</td>\n",
              "      <td>190.0</td>\n",
              "      <td>1936</td>\n",
              "      <td>9.814050</td>\n",
              "      <td>(\"Amy Klobuchar\")</td>\n",
              "    </tr>\n",
              "    <tr>\n",
              "      <th>16</th>\n",
              "      <td>2019-04-21</td>\n",
              "      <td>Amy Klobuchar</td>\n",
              "      <td>251.0</td>\n",
              "      <td>2320</td>\n",
              "      <td>10.818966</td>\n",
              "      <td>(\"Amy Klobuchar\")</td>\n",
              "    </tr>\n",
              "    <tr>\n",
              "      <th>17</th>\n",
              "      <td>2019-04-28</td>\n",
              "      <td>Amy Klobuchar</td>\n",
              "      <td>191.0</td>\n",
              "      <td>1834</td>\n",
              "      <td>10.414395</td>\n",
              "      <td>(\"Amy Klobuchar\")</td>\n",
              "    </tr>\n",
              "    <tr>\n",
              "      <th>18</th>\n",
              "      <td>2019-05-05</td>\n",
              "      <td>Amy Klobuchar</td>\n",
              "      <td>148.0</td>\n",
              "      <td>1577</td>\n",
              "      <td>9.384908</td>\n",
              "      <td>(\"Amy Klobuchar\")</td>\n",
              "    </tr>\n",
              "  </tbody>\n",
              "</table>\n",
              "</div>"
            ],
            "text/plain": [
              "         date           name  ...  pct_of_all_candidate_stories              query\n",
              "14 2019-04-07  Amy Klobuchar  ...                     12.000000  (\"Amy Klobuchar\")\n",
              "15 2019-04-14  Amy Klobuchar  ...                      9.814050  (\"Amy Klobuchar\")\n",
              "16 2019-04-21  Amy Klobuchar  ...                     10.818966  (\"Amy Klobuchar\")\n",
              "17 2019-04-28  Amy Klobuchar  ...                     10.414395  (\"Amy Klobuchar\")\n",
              "18 2019-05-05  Amy Klobuchar  ...                      9.384908  (\"Amy Klobuchar\")\n",
              "\n",
              "[5 rows x 6 columns]"
            ]
          },
          "metadata": {
            "tags": []
          },
          "execution_count": 281
        }
      ]
    },
    {
      "cell_type": "code",
      "metadata": {
        "id": "YDwM6vEPaFgv",
        "colab_type": "code",
        "colab": {}
      },
      "source": [
        "merged = pd.merge(cable_df[['date', 'name', 'pct_of_all_candidate_clips']], online_df[['date', 'name', 'pct_of_all_candidate_stories']])\n",
        "merged['date'] = pd.to_datetime(merged['date'], infer_datetime_format=True)\n",
        "merged = merged.set_index('date')"
      ],
      "execution_count": 0,
      "outputs": []
    },
    {
      "cell_type": "code",
      "metadata": {
        "id": "953dKKXKaIAb",
        "colab_type": "code",
        "colab": {}
      },
      "source": [
        "unique_dates = list(set(merged.index.to_list()))"
      ],
      "execution_count": 0,
      "outputs": []
    },
    {
      "cell_type": "code",
      "metadata": {
        "id": "KzWZcEhFaMNx",
        "colab_type": "code",
        "colab": {}
      },
      "source": [
        "import datetime\n",
        "\n",
        "joe_biden_cable_multiple = []\n",
        "joe_biden_online_multiple = []\n",
        "\n",
        "for date in unique_dates:\n",
        "  that_day = merged.loc[datetime.date(year=date.year, month=date.month, day=date.day)]\n",
        "\n",
        "  joe_biden_cable_that_day = that_day[that_day['name']==\"Joe Biden\"]['pct_of_all_candidate_clips']\n",
        "  not_joe_biden_cable_max = that_day[that_day['name']!=\"Joe Biden\"]['pct_of_all_candidate_clips'].max()\n",
        "  joe_biden_cable_multiple_of_max = joe_biden_cable_that_day / not_joe_biden_cable_max\n",
        "\n",
        "  joe_biden_online_that_day = that_day[that_day['name']==\"Joe Biden\"]['pct_of_all_candidate_stories']\n",
        "  not_joe_biden_online_max = that_day[that_day['name']!=\"Joe Biden\"]['pct_of_all_candidate_stories'].max()\n",
        "  joe_biden_online_multiple_of_max = joe_biden_online_that_day / not_joe_biden_online_max\n",
        "\n",
        "\n",
        "  joe_biden_cable_multiple.append(joe_biden_cable_multiple_of_max.values[0])\n",
        "  joe_biden_online_multiple.append(joe_biden_online_multiple_of_max.values[0])"
      ],
      "execution_count": 0,
      "outputs": []
    },
    {
      "cell_type": "code",
      "metadata": {
        "id": "yfLdDDnDaQSQ",
        "colab_type": "code",
        "colab": {}
      },
      "source": [
        "df = pd.DataFrame({'date': unique_dates, \n",
        "                   'biden_cable_multiple':joe_biden_cable_multiple, \n",
        "                   'biden_online_multiple': joe_biden_online_multiple})\n",
        "df = df.set_index('date')\n",
        "df = df.sort_index()"
      ],
      "execution_count": 0,
      "outputs": []
    },
    {
      "cell_type": "code",
      "metadata": {
        "id": "rkwOqb4-aTjW",
        "colab_type": "code",
        "colab": {
          "base_uri": "https://localhost:8080/",
          "height": 235
        },
        "outputId": "bd3f4917-470e-4fc8-a0bb-6aa452e9baa7"
      },
      "source": [
        "df.head()"
      ],
      "execution_count": 286,
      "outputs": [
        {
          "output_type": "execute_result",
          "data": {
            "text/html": [
              "<div>\n",
              "<style scoped>\n",
              "    .dataframe tbody tr th:only-of-type {\n",
              "        vertical-align: middle;\n",
              "    }\n",
              "\n",
              "    .dataframe tbody tr th {\n",
              "        vertical-align: top;\n",
              "    }\n",
              "\n",
              "    .dataframe thead th {\n",
              "        text-align: right;\n",
              "    }\n",
              "</style>\n",
              "<table border=\"1\" class=\"dataframe\">\n",
              "  <thead>\n",
              "    <tr style=\"text-align: right;\">\n",
              "      <th></th>\n",
              "      <th>biden_cable_multiple</th>\n",
              "      <th>biden_online_multiple</th>\n",
              "    </tr>\n",
              "    <tr>\n",
              "      <th>date</th>\n",
              "      <th></th>\n",
              "      <th></th>\n",
              "    </tr>\n",
              "  </thead>\n",
              "  <tbody>\n",
              "    <tr>\n",
              "      <th>2019-04-07</th>\n",
              "      <td>0.692771</td>\n",
              "      <td>0.477987</td>\n",
              "    </tr>\n",
              "    <tr>\n",
              "      <th>2019-04-14</th>\n",
              "      <td>0.501031</td>\n",
              "      <td>0.377119</td>\n",
              "    </tr>\n",
              "    <tr>\n",
              "      <th>2019-04-21</th>\n",
              "      <td>3.087352</td>\n",
              "      <td>1.107492</td>\n",
              "    </tr>\n",
              "    <tr>\n",
              "      <th>2019-04-28</th>\n",
              "      <td>3.707641</td>\n",
              "      <td>1.295820</td>\n",
              "    </tr>\n",
              "    <tr>\n",
              "      <th>2019-05-05</th>\n",
              "      <td>2.805169</td>\n",
              "      <td>1.306122</td>\n",
              "    </tr>\n",
              "  </tbody>\n",
              "</table>\n",
              "</div>"
            ],
            "text/plain": [
              "            biden_cable_multiple  biden_online_multiple\n",
              "date                                                   \n",
              "2019-04-07              0.692771               0.477987\n",
              "2019-04-14              0.501031               0.377119\n",
              "2019-04-21              3.087352               1.107492\n",
              "2019-04-28              3.707641               1.295820\n",
              "2019-05-05              2.805169               1.306122"
            ]
          },
          "metadata": {
            "tags": []
          },
          "execution_count": 286
        }
      ]
    },
    {
      "cell_type": "markdown",
      "metadata": {
        "id": "nAY6kFCHISN6",
        "colab_type": "text"
      },
      "source": [
        "## Graph"
      ]
    },
    {
      "cell_type": "code",
      "metadata": {
        "id": "ZYZUnpTafG1Q",
        "colab_type": "code",
        "colab": {
          "base_uri": "https://localhost:8080/",
          "height": 322
        },
        "outputId": "a0de8822-b81a-45c0-99ba-bb3bc9371bb8"
      },
      "source": [
        "data = [3.1, 3.7, 2.8, 3.3, 2.5, 3.8, 4.25, 3, 3.5, 1.2, 2.2, 1.6, 1.8, 2, 1.8, 1.6, 1.9, 2.2, 1.7, 2.6,4.6,5,1.7,1.75]\n",
        "data2 = [1.1, 1.25, 1.3, 1.05, 1.15, 1.6, 1.35, 1.4, 1.7, 1.1, 1.05, 1.3, 0.95, 0.95, 1.2, 0.93, 0.8, 1.1, 1.06, 1.06, 4.65, 1.4, 1.5]\n",
        "\n",
        "#Set Stylesheet\n",
        "plt.style.use('fivethirtyeight')\n",
        "\n",
        "# figure / axes syntax\n",
        "fig, ax = plt.subplots()\n",
        "\n",
        "ax.plot(data, color= '#42BFC7', lw=2.5)\n",
        "ax.plot(data2, color= '#ED7542', lw=2.5)\n",
        "\n",
        "\n",
        "ax.set_xticks(ticks=range(0, 28, 4))\n",
        "ax.set_yticks(ticks=range(0, 6))\n",
        "\n",
        "\n",
        "# Title\n",
        "ax.set_title(\"Biden's Ukrain-related media bump is fading\", \n",
        "             loc='left', \n",
        "             color=\"black\", \n",
        "             fontsize=13, \n",
        "             fontweight='bold', \n",
        "             x=-0.04, \n",
        "             y=1.12)\n",
        "\n",
        "# Subtitle\n",
        "ax.text(s=\"Biden's share of media mentions on each medium relative to the next\\nmost mentioned candidate each week\", \n",
        "        x=-2, \n",
        "        y=5.4, \n",
        "        color='black', \n",
        "        fontsize=11)\n",
        "\n",
        "# X axis tick labels\n",
        "ax.set_xticklabels(labels= [\"MAY'19\", 'JUNE', 'JULY', 'AUG.', 'SEPT.', 'OCT.'], color='gray', rotation='horizontal', fontsize='10')\n",
        "\n",
        "# Y axis tick labels\n",
        "ax.set_yticklabels(labels = ['', 'EVEN ', '2', '3', '4', '5x'], color='gray', rotation='horizontal', fontsize='10')\n",
        "\n",
        "\n",
        "ax.axhline(y = 1, color = 'black', linewidth = 0.5)\n",
        "\n",
        "plt.show()\n",
        "\n",
        "# Texts\n",
        "ax.text(x = 0.2, y = 1.5, s = 'Online news', color = 'black', weight = 'bold', rotation = 'horizontal',\n",
        "              backgroundcolor = '#F0F0F0')\n",
        "ax.text(x = 0.6, y = 3.6, s = 'Cable news', color = 'black', weight = 'bold', rotation = 'horizontal',\n",
        "              backgroundcolor = '#F0F0F0')\n",
        "\n",
        "# Background color\n",
        "ax.set_facecolor(color='#F0F0F0')\n",
        "fig.set_facecolor(color=\"#F0F0F0\")\n",
        "\n",
        "# The signature bar\n",
        "ax.text(x = -.5, y = -0.1,\n",
        "    s = ' FiveThirtyEight SOURCE:IMD8', fontsize = 10, color = 'black', backgroundcolor = '#F0F0F0') ;\n",
        "\n",
        "\n",
        "plt.show()"
      ],
      "execution_count": 372,
      "outputs": [
        {
          "output_type": "display_data",
          "data": {
            "image/png": "[encoded data removed]",
            "text/plain": [
              "<Figure size 432x288 with 1 Axes>"
            ]
          },
          "metadata": {
            "tags": []
          }
        }
      ]
    },
    {
      "cell_type": "markdown",
      "metadata": {
        "id": "0wSrBzmJyWaV",
        "colab_type": "text"
      },
      "source": [
        "# STRETCH OPTIONS\n",
        "\n",
        "### 1) Reproduce one of the following using the matplotlib or seaborn libraries:\n",
        "\n",
        "- [thanksgiving-2015](https://fivethirtyeight.com/features/heres-what-your-part-of-america-eats-on-thanksgiving/) \n",
        "- [candy-power-ranking](https://fivethirtyeight.com/features/the-ultimate-halloween-candy-power-ranking/) \n",
        "- or another example of your choice!\n",
        "\n",
        "### 2) Make more charts!\n",
        "\n",
        "Choose a chart you want to make, from [Visual Vocabulary - Vega Edition](http://ft.com/vocabulary).\n",
        "\n",
        "Find the chart in an example gallery of a Python data visualization library:\n",
        "- [Seaborn](http://seaborn.pydata.org/examples/index.html)\n",
        "- [Altair](https://altair-viz.github.io/gallery/index.html)\n",
        "- [Matplotlib](https://matplotlib.org/gallery.html)\n",
        "- [Pandas](https://pandas.pydata.org/pandas-docs/stable/visualization.html)\n",
        "\n",
        "Reproduce the chart. [Optionally, try the \"Ben Franklin Method.\"](https://docs.google.com/document/d/1ubOw9B3Hfip27hF2ZFnW3a3z9xAgrUDRReOEo-FHCVs/edit) If you want, experiment and make changes.\n",
        "\n",
        "Take notes. Consider sharing your work with your cohort!"
      ]
    },
    {
      "cell_type": "code",
      "metadata": {
        "id": "dRJkKftiy5BJ",
        "colab_type": "code",
        "colab": {}
      },
      "source": [
        "# More Work Here"
      ],
      "execution_count": 0,
      "outputs": []
    }
  ]
}