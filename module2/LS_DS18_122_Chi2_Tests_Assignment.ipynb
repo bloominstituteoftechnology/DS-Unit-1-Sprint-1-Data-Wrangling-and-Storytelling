{
  "nbformat": 4,
  "nbformat_minor": 0,
  "metadata": {
    "colab": {
      "name": "LS_DS18_122_Chi2_Tests_Assignment.ipynb",
      "provenance": [],
      "collapsed_sections": [],
      "include_colab_link": true
    },
    "kernelspec": {
      "name": "python3",
      "display_name": "Python 3"
    }
  },
  "cells": [
    {
      "cell_type": "markdown",
      "metadata": {
        "id": "view-in-github",
        "colab_type": "text"
      },
      "source": [
        "<a href=\"https://colab.research.google.com/github/max-moore/DS-Unit-1-Sprint-1-Data-Wrangling-and-Storytelling/blob/master/module2/LS_DS18_122_Chi2_Tests_Assignment.ipynb\" target=\"_parent\"><img src=\"https://colab.research.google.com/assets/colab-badge.svg\" alt=\"Open In Colab\"/></a>"
      ]
    },
    {
      "cell_type": "markdown",
      "metadata": {
        "id": "11OzdxWTM7UR",
        "colab_type": "text"
      },
      "source": [
        "## Assignment - Practice Chi^2 Tests\n",
        "\n",
        "Use the following dataset relating to math scores of students in two different Portugese schools:\n",
        "\n",
        "<https://archive.ics.uci.edu/ml/datasets/Student+Performance>\n",
        "\n",
        "### 1) Load the dataset specifically relating to math scores as a new dataframe.\n",
        "\n",
        "There are two datasets in the `student.zip` file, make sure you use `student-mat.csv`.\n"
      ]
    },
    {
      "cell_type": "code",
      "metadata": {
        "id": "UQwvrhn7m3Mn",
        "colab_type": "code",
        "colab": {}
      },
      "source": [
        "# YOUR WORK HERE\n",
        "\n",
        "import numpy as np\n",
        "import pandas as pd\n",
        "from scipy import stats"
      ],
      "execution_count": null,
      "outputs": []
    },
    {
      "cell_type": "code",
      "metadata": {
        "id": "RNQoWp-N2DRQ",
        "colab_type": "code",
        "colab": {}
      },
      "source": [
        "!wget https://archive.ics.uci.edu/ml/machine-learning-databases/00320/student.zip"
      ],
      "execution_count": null,
      "outputs": []
    },
    {
      "cell_type": "code",
      "metadata": {
        "id": "E1UGFD7i1zqT",
        "colab_type": "code",
        "colab": {
          "base_uri": "https://localhost:8080/",
          "height": 109
        },
        "outputId": "d7c6c9e2-da64-453d-eee4-91b3b0faaecb"
      },
      "source": [
        "!unzip student.zip"
      ],
      "execution_count": null,
      "outputs": [
        {
          "output_type": "stream",
          "text": [
            "Archive:  student.zip\n",
            "  inflating: student-mat.csv         \n",
            "  inflating: student-por.csv         \n",
            "  inflating: student-merge.R         \n",
            "  inflating: student.txt             \n"
          ],
          "name": "stdout"
        }
      ]
    },
    {
      "cell_type": "code",
      "metadata": {
        "id": "wBv4IA7J11-J",
        "colab_type": "code",
        "colab": {}
      },
      "source": [
        "df = pd.read_csv('student-mat.csv', sep=';')"
      ],
      "execution_count": null,
      "outputs": []
    },
    {
      "cell_type": "markdown",
      "metadata": {
        "id": "RXPZZuAi3ccI",
        "colab_type": "text"
      },
      "source": [
        "### 2) Use Chi^2 tests and `stats.chi2_contingency()` to identify:\n",
        " - Two pairs of variables that are dependent (are associated with one another).\n",
        " - Two pairs of variables that are independent (have no significant relationship).\n",
        "\n",
        "Does it make intuitive sense why the variables in these pairs might or might not show a relationship to one another? \n"
      ]
    },
    {
      "cell_type": "code",
      "metadata": {
        "id": "Ckcr4A4FM7cs",
        "colab_type": "code",
        "colab": {
          "base_uri": "https://localhost:8080/",
          "height": 1000
        },
        "outputId": "c2053c47-3604-4f4e-94a8-0e8560bb22b1"
      },
      "source": [
        "# YOUR WORK HERE\n",
        "\n",
        "# Creating contingency tables\n",
        "\n",
        "observed = pd.crosstab(df['Dalc'],df['failures'])\n",
        "observed2 = pd.crosstab(df['famrel'], df['absences'])\n",
        "\n",
        "# Assigning and printing chi2 value, p value, depth of freedom, \n",
        "# and expected frequencies\n",
        "\n",
        "chi2, p_value, dof, expected = stats.chi2_contingency(observed)\n",
        "\n",
        "print(\"chi2 statistic\", chi2)\n",
        "print(\"p value\", p_value)\n",
        "print(\"degrees of freedom\",dof)\n",
        "print(\"expected frequencies table \\n\", expected)\n",
        "\n",
        "chi2, p_value, dof, expected = stats.chi2_contingency(observed2)\n",
        "\n",
        "print(\"chi2 statistic\", chi2)\n",
        "print(\"p value\", p_value)\n",
        "print(\"degrees of freedom\",dof)\n",
        "print(\"expected frequencies table \\n\", expected)\n",
        "\n",
        "# I think the relationships here make a certain amount of sense\n",
        "# Frankly, I was expecting more of a relation between family relations and \n",
        "# absences, but I guess this still makes a certain amount of sense - school\n",
        "# might be a respite from family for some students or a stress point for others\n",
        "# We fail to reject the null hypothesis for the first contingency table\n",
        "\n",
        "# Somewhat unsurprisingly, the relationship between workday alcohol consumption\n",
        "# and failures is statistically significant\n",
        "# We reject the null hypothesis for the second contingency table"
      ],
      "execution_count": null,
      "outputs": [
        {
          "output_type": "stream",
          "text": [
            "chi2 statistic 22.613784416016074\n",
            "p value 0.031189577855521403\n",
            "degrees of freedom 12\n",
            "expected frequencies table \n",
            " [[218.00506329  34.93670886  11.87848101  11.17974684]\n",
            " [ 59.24050633   9.49367089   3.2278481    3.03797468]\n",
            " [ 20.53670886   3.29113924   1.11898734   1.05316456]\n",
            " [  7.10886076   1.13924051   0.38734177   0.36455696]\n",
            " [  7.10886076   1.13924051   0.38734177   0.36455696]]\n",
            "chi2 statistic 102.13915844876783\n",
            "p value 0.9747839201385753\n",
            "degrees of freedom 132\n",
            "expected frequencies table \n",
            " [[2.32911392e+00 6.07594937e-02 1.31645570e+00 1.62025316e-01\n",
            "  1.07341772e+00 1.01265823e-01 6.27848101e-01 1.41772152e-01\n",
            "  4.45569620e-01 6.07594937e-02 3.44303797e-01 6.07594937e-02\n",
            "  2.43037975e-01 6.07594937e-02 2.43037975e-01 6.07594937e-02\n",
            "  1.41772152e-01 2.02531646e-02 1.01265823e-01 2.02531646e-02\n",
            "  8.10126582e-02 2.02531646e-02 6.07594937e-02 2.02531646e-02\n",
            "  2.02531646e-02 2.02531646e-02 2.02531646e-02 2.02531646e-02\n",
            "  2.02531646e-02 2.02531646e-02 2.02531646e-02 2.02531646e-02\n",
            "  2.02531646e-02 2.02531646e-02]\n",
            " [5.24050633e+00 1.36708861e-01 2.96202532e+00 3.64556962e-01\n",
            "  2.41518987e+00 2.27848101e-01 1.41265823e+00 3.18987342e-01\n",
            "  1.00253165e+00 1.36708861e-01 7.74683544e-01 1.36708861e-01\n",
            "  5.46835443e-01 1.36708861e-01 5.46835443e-01 1.36708861e-01\n",
            "  3.18987342e-01 4.55696203e-02 2.27848101e-01 4.55696203e-02\n",
            "  1.82278481e-01 4.55696203e-02 1.36708861e-01 4.55696203e-02\n",
            "  4.55696203e-02 4.55696203e-02 4.55696203e-02 4.55696203e-02\n",
            "  4.55696203e-02 4.55696203e-02 4.55696203e-02 4.55696203e-02\n",
            "  4.55696203e-02 4.55696203e-02]\n",
            " [1.97974684e+01 5.16455696e-01 1.11898734e+01 1.37721519e+00\n",
            "  9.12405063e+00 8.60759494e-01 5.33670886e+00 1.20506329e+00\n",
            "  3.78734177e+00 5.16455696e-01 2.92658228e+00 5.16455696e-01\n",
            "  2.06582278e+00 5.16455696e-01 2.06582278e+00 5.16455696e-01\n",
            "  1.20506329e+00 1.72151899e-01 8.60759494e-01 1.72151899e-01\n",
            "  6.88607595e-01 1.72151899e-01 5.16455696e-01 1.72151899e-01\n",
            "  1.72151899e-01 1.72151899e-01 1.72151899e-01 1.72151899e-01\n",
            "  1.72151899e-01 1.72151899e-01 1.72151899e-01 1.72151899e-01\n",
            "  1.72151899e-01 1.72151899e-01]\n",
            " [5.67721519e+01 1.48101266e+00 3.20886076e+01 3.94936709e+00\n",
            "  2.61645570e+01 2.46835443e+00 1.53037975e+01 3.45569620e+00\n",
            "  1.08607595e+01 1.48101266e+00 8.39240506e+00 1.48101266e+00\n",
            "  5.92405063e+00 1.48101266e+00 5.92405063e+00 1.48101266e+00\n",
            "  3.45569620e+00 4.93670886e-01 2.46835443e+00 4.93670886e-01\n",
            "  1.97468354e+00 4.93670886e-01 1.48101266e+00 4.93670886e-01\n",
            "  4.93670886e-01 4.93670886e-01 4.93670886e-01 4.93670886e-01\n",
            "  4.93670886e-01 4.93670886e-01 4.93670886e-01 4.93670886e-01\n",
            "  4.93670886e-01 4.93670886e-01]\n",
            " [3.08607595e+01 8.05063291e-01 1.74430380e+01 2.14683544e+00\n",
            "  1.42227848e+01 1.34177215e+00 8.31898734e+00 1.87848101e+00\n",
            "  5.90379747e+00 8.05063291e-01 4.56202532e+00 8.05063291e-01\n",
            "  3.22025316e+00 8.05063291e-01 3.22025316e+00 8.05063291e-01\n",
            "  1.87848101e+00 2.68354430e-01 1.34177215e+00 2.68354430e-01\n",
            "  1.07341772e+00 2.68354430e-01 8.05063291e-01 2.68354430e-01\n",
            "  2.68354430e-01 2.68354430e-01 2.68354430e-01 2.68354430e-01\n",
            "  2.68354430e-01 2.68354430e-01 2.68354430e-01 2.68354430e-01\n",
            "  2.68354430e-01 2.68354430e-01]]\n"
          ],
          "name": "stdout"
        }
      ]
    },
    {
      "cell_type": "markdown",
      "metadata": {
        "id": "Tf7XPpBP6YqX",
        "colab_type": "text"
      },
      "source": [
        "### 3) Use NumPy to perform your own chi^2 test \"from scratch\" \n",
        "\n",
        "Pick any of the chi^2 tests that you ran in part 2 and try them on your own. You should get the same results that Scipy got for all four values returned from `chi2_contingency()`"
      ]
    },
    {
      "cell_type": "code",
      "metadata": {
        "id": "Et5DtusY6maX",
        "colab_type": "code",
        "colab": {
          "base_uri": "https://localhost:8080/",
          "height": 269
        },
        "outputId": "a523311e-02cc-4267-9e72-7be04248989c"
      },
      "source": [
        "# YOUR WORK HERE\n",
        "\n",
        "# Contingency table\n",
        "\n",
        "contingency = pd.crosstab(df['Dalc'],df['failures'], margins=True)\n",
        "\n",
        "contingency"
      ],
      "execution_count": null,
      "outputs": [
        {
          "output_type": "execute_result",
          "data": {
            "text/html": [
              "<div>\n",
              "<style scoped>\n",
              "    .dataframe tbody tr th:only-of-type {\n",
              "        vertical-align: middle;\n",
              "    }\n",
              "\n",
              "    .dataframe tbody tr th {\n",
              "        vertical-align: top;\n",
              "    }\n",
              "\n",
              "    .dataframe thead th {\n",
              "        text-align: right;\n",
              "    }\n",
              "</style>\n",
              "<table border=\"1\" class=\"dataframe\">\n",
              "  <thead>\n",
              "    <tr style=\"text-align: right;\">\n",
              "      <th>failures</th>\n",
              "      <th>0</th>\n",
              "      <th>1</th>\n",
              "      <th>2</th>\n",
              "      <th>3</th>\n",
              "      <th>All</th>\n",
              "    </tr>\n",
              "    <tr>\n",
              "      <th>Dalc</th>\n",
              "      <th></th>\n",
              "      <th></th>\n",
              "      <th></th>\n",
              "      <th></th>\n",
              "      <th></th>\n",
              "    </tr>\n",
              "  </thead>\n",
              "  <tbody>\n",
              "    <tr>\n",
              "      <th>1</th>\n",
              "      <td>232</td>\n",
              "      <td>29</td>\n",
              "      <td>7</td>\n",
              "      <td>8</td>\n",
              "      <td>276</td>\n",
              "    </tr>\n",
              "    <tr>\n",
              "      <th>2</th>\n",
              "      <td>50</td>\n",
              "      <td>12</td>\n",
              "      <td>8</td>\n",
              "      <td>5</td>\n",
              "      <td>75</td>\n",
              "    </tr>\n",
              "    <tr>\n",
              "      <th>3</th>\n",
              "      <td>17</td>\n",
              "      <td>6</td>\n",
              "      <td>1</td>\n",
              "      <td>2</td>\n",
              "      <td>26</td>\n",
              "    </tr>\n",
              "    <tr>\n",
              "      <th>4</th>\n",
              "      <td>6</td>\n",
              "      <td>2</td>\n",
              "      <td>1</td>\n",
              "      <td>0</td>\n",
              "      <td>9</td>\n",
              "    </tr>\n",
              "    <tr>\n",
              "      <th>5</th>\n",
              "      <td>7</td>\n",
              "      <td>1</td>\n",
              "      <td>0</td>\n",
              "      <td>1</td>\n",
              "      <td>9</td>\n",
              "    </tr>\n",
              "    <tr>\n",
              "      <th>All</th>\n",
              "      <td>312</td>\n",
              "      <td>50</td>\n",
              "      <td>17</td>\n",
              "      <td>16</td>\n",
              "      <td>395</td>\n",
              "    </tr>\n",
              "  </tbody>\n",
              "</table>\n",
              "</div>"
            ],
            "text/plain": [
              "failures    0   1   2   3  All\n",
              "Dalc                          \n",
              "1         232  29   7   8  276\n",
              "2          50  12   8   5   75\n",
              "3          17   6   1   2   26\n",
              "4           6   2   1   0    9\n",
              "5           7   1   0   1    9\n",
              "All       312  50  17  16  395"
            ]
          },
          "metadata": {
            "tags": []
          },
          "execution_count": 42
        }
      ]
    },
    {
      "cell_type": "code",
      "metadata": {
        "id": "noj1O8WnGiyO",
        "colab_type": "code",
        "colab": {
          "base_uri": "https://localhost:8080/",
          "height": 35
        },
        "outputId": "c54031d2-5d54-46c5-fa0e-a40bae80eb18"
      },
      "source": [
        "# Sorting row totals\n",
        "\n",
        "row_totals = df['failures'].value_counts().sort_index().values\n",
        "\n",
        "row_totals"
      ],
      "execution_count": null,
      "outputs": [
        {
          "output_type": "execute_result",
          "data": {
            "text/plain": [
              "array([312,  50,  17,  16])"
            ]
          },
          "metadata": {
            "tags": []
          },
          "execution_count": 43
        }
      ]
    },
    {
      "cell_type": "code",
      "metadata": {
        "id": "DvyVCqHVGxrF",
        "colab_type": "code",
        "colab": {
          "base_uri": "https://localhost:8080/",
          "height": 35
        },
        "outputId": "a856af5c-c6fc-4b53-adc4-b763b475057a"
      },
      "source": [
        "# Sorting column totals\n",
        "\n",
        "col_totals = df['Dalc'].value_counts().sort_index().values\n",
        "\n",
        "col_totals"
      ],
      "execution_count": null,
      "outputs": [
        {
          "output_type": "execute_result",
          "data": {
            "text/plain": [
              "array([276,  75,  26,   9,   9])"
            ]
          },
          "metadata": {
            "tags": []
          },
          "execution_count": 44
        }
      ]
    },
    {
      "cell_type": "code",
      "metadata": {
        "id": "JPUfPv34G4KB",
        "colab_type": "code",
        "colab": {
          "base_uri": "https://localhost:8080/",
          "height": 35
        },
        "outputId": "d7a86b4f-4aff-4e56-cb19-5bec46891add"
      },
      "source": [
        "# Amount of observations (?)\n",
        "\n",
        "sample_size = df.shape[0]\n",
        "\n",
        "sample_size"
      ],
      "execution_count": null,
      "outputs": [
        {
          "output_type": "execute_result",
          "data": {
            "text/plain": [
              "395"
            ]
          },
          "metadata": {
            "tags": []
          },
          "execution_count": 63
        }
      ]
    },
    {
      "cell_type": "code",
      "metadata": {
        "id": "M7OcCVCvG8bx",
        "colab_type": "code",
        "colab": {
          "base_uri": "https://localhost:8080/",
          "height": 109
        },
        "outputId": "e7fff299-8ced-490f-d053-a6cd461ee2ff"
      },
      "source": [
        "# Template array for expected values\n",
        "\n",
        "expected = np.array([[0.0, 0.0, 0.0, 0.0],\n",
        "                     [0.0, 0.0, 0.0, 0.0],\n",
        "                     [0.0, 0.0, 0.0, 0.0],\n",
        "                     [0.0, 0.0, 0.0, 0.0],\n",
        "                     [0.0, 0.0, 0.0, 0.0],])\n",
        "\n",
        "# Assigning values to expected values array\n",
        "\n",
        "for row_position, col in enumerate(col_totals):\n",
        "  for column_position, row in enumerate(row_totals):\n",
        "    expected_value = (row*col) / sample_size\n",
        "    expected[row_position][column_position] = expected_value\n",
        "\n",
        "expected"
      ],
      "execution_count": null,
      "outputs": [
        {
          "output_type": "execute_result",
          "data": {
            "text/plain": [
              "array([[218.00506329,  34.93670886,  11.87848101,  11.17974684],\n",
              "       [ 59.24050633,   9.49367089,   3.2278481 ,   3.03797468],\n",
              "       [ 20.53670886,   3.29113924,   1.11898734,   1.05316456],\n",
              "       [  7.10886076,   1.13924051,   0.38734177,   0.36455696],\n",
              "       [  7.10886076,   1.13924051,   0.38734177,   0.36455696]])"
            ]
          },
          "metadata": {
            "tags": []
          },
          "execution_count": 47
        }
      ]
    },
    {
      "cell_type": "code",
      "metadata": {
        "id": "xuvU1-m3HXH-",
        "colab_type": "code",
        "colab": {
          "base_uri": "https://localhost:8080/",
          "height": 35
        },
        "outputId": "235ccba7-d7e5-4146-a6fa-405916b345d1"
      },
      "source": [
        "# Obtaining Chi2 statistic\n",
        "\n",
        "chi2 = ((observed - expected)**2 / expected).sum().sum()\n",
        "\n",
        "chi2"
      ],
      "execution_count": null,
      "outputs": [
        {
          "output_type": "execute_result",
          "data": {
            "text/plain": [
              "22.613784416016074"
            ]
          },
          "metadata": {
            "tags": []
          },
          "execution_count": 48
        }
      ]
    },
    {
      "cell_type": "code",
      "metadata": {
        "id": "q2Iz7UoTQhli",
        "colab_type": "code",
        "colab": {
          "base_uri": "https://localhost:8080/",
          "height": 35
        },
        "outputId": "3c49f1ae-7cf9-4ac3-b8eb-834e6147f817"
      },
      "source": [
        "# Obtaining Degrees of Freedom\n",
        "\n",
        "dof = (row_totals.size - 1) * (col_totals.size - 1)\n",
        "\n",
        "dof"
      ],
      "execution_count": null,
      "outputs": [
        {
          "output_type": "execute_result",
          "data": {
            "text/plain": [
              "12"
            ]
          },
          "metadata": {
            "tags": []
          },
          "execution_count": 58
        }
      ]
    },
    {
      "cell_type": "code",
      "metadata": {
        "id": "MDlB2LNZRcFe",
        "colab_type": "code",
        "colab": {}
      },
      "source": [
        "# Used the University of Iowa Applet to get p value from chi2\n",
        "\n",
        "p_value = 0.03119"
      ],
      "execution_count": null,
      "outputs": []
    },
    {
      "cell_type": "code",
      "metadata": {
        "id": "ucoULQITSikd",
        "colab_type": "code",
        "colab": {
          "base_uri": "https://localhost:8080/",
          "height": 182
        },
        "outputId": "d38cf6bb-43c8-455f-fe51-d23e0199dc2c"
      },
      "source": [
        "# Print everything we need to see\n",
        "\n",
        "print(\"chi2 statistic\", chi2)\n",
        "print(\"p value\", p_value)\n",
        "print(\"degrees of freedom\",dof)\n",
        "print(\"expected frequencies table \\n\", expected)"
      ],
      "execution_count": null,
      "outputs": [
        {
          "output_type": "stream",
          "text": [
            "chi2 statistic 22.613784416016074\n",
            "p value 0.03119\n",
            "degrees of freedom 12\n",
            "expected frequencies table \n",
            " [[218.00506329  34.93670886  11.87848101  11.17974684]\n",
            " [ 59.24050633   9.49367089   3.2278481    3.03797468]\n",
            " [ 20.53670886   3.29113924   1.11898734   1.05316456]\n",
            " [  7.10886076   1.13924051   0.38734177   0.36455696]\n",
            " [  7.10886076   1.13924051   0.38734177   0.36455696]]\n"
          ],
          "name": "stdout"
        }
      ]
    },
    {
      "cell_type": "markdown",
      "metadata": {
        "id": "a2BrKHq8m8AS",
        "colab_type": "text"
      },
      "source": [
        "## Stretch goals:\n",
        "\n",
        "### 1. Refactor your code so it is elegant, readable, and holds reusable code in functions."
      ]
    },
    {
      "cell_type": "code",
      "metadata": {
        "id": "AntnuAkFm-JQ",
        "colab_type": "code",
        "colab": {}
      },
      "source": [
        "# YOUR WORK HERE"
      ],
      "execution_count": null,
      "outputs": []
    },
    {
      "cell_type": "markdown",
      "metadata": {
        "id": "4ohsJhQUmEuS",
        "colab_type": "text"
      },
      "source": [
        "\n",
        "\n",
        "### 2. Check For Understanding - Study and write your own explanations/definitions for these topics:\n",
        "\n",
        "- What is a sample \"estimate\" in statistics?\n",
        "\n",
        "- What are hypothesis test? How are they useful?\n",
        "\n",
        "- What is a \"null hypothesis?\"\n",
        "\n",
        "- What is a p-value and what does it represent?\n",
        "\n",
        "- What does it mean for something to be \"statistically significant?\"\n",
        "\n",
        "- What is a test statistic and how does it relate to a p-value?\n",
        "\n",
        "- What are \"degrees of freedom\" and how are they calculated in a 1-sample, 2-sample, and chi^2 test for independence?"
      ]
    },
    {
      "cell_type": "markdown",
      "metadata": {
        "id": "nyJ3ySr7R2k9",
        "colab_type": "text"
      },
      "source": [
        "## Resources\n",
        "\n",
        "- [Interactive visualize the Chi-Squared test](https://homepage.divms.uiowa.edu/~mbognar/applets/chisq.html)\n",
        "- [Calculation of Chi-Squared test statistic](https://en.wikipedia.org/wiki/Pearson%27s_chi-squared_test)\n",
        "- [Visualization of a confidence interval generated by R code](https://commons.wikimedia.org/wiki/File:Confidence-interval.svg)\n",
        "- [Expected value of a squared standard normal](https://math.stackexchange.com/questions/264061/expected-value-calculation-for-squared-normal-distribution) (it's 1 - which is why the expected value of a Chi-Squared with $n$ degrees of freedom is $n$, as it's the sum of $n$ squared standard normals)"
      ]
    }
  ]
}