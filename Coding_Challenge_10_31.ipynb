{
  "nbformat": 4,
  "nbformat_minor": 0,
  "metadata": {
    "colab": {
      "name": "Coding Challenge 10.31.ipynb",
      "provenance": [],
      "collapsed_sections": [],
      "include_colab_link": true
    },
    "kernelspec": {
      "name": "python3",
      "display_name": "Python 3"
    }
  },
  "cells": [
    {
      "cell_type": "markdown",
      "metadata": {
        "id": "view-in-github",
        "colab_type": "text"
      },
      "source": [
        "<a href=\"https://colab.research.google.com/github/Clee2691/DS-Unit-1-Sprint-1-Data-Wrangling-and-Storytelling/blob/master/Coding_Challenge_10_31.ipynb\" target=\"_parent\"><img src=\"https://colab.research.google.com/assets/colab-badge.svg\" alt=\"Open In Colab\"/></a>"
      ]
    },
    {
      "cell_type": "markdown",
      "metadata": {
        "id": "DTryy-ftM4Nn",
        "colab_type": "text"
      },
      "source": [
        "## Good Evening! Welcome to your first Python code challenge. \n",
        "## Use your Googfu skills to help you find a solution.\n"
      ]
    },
    {
      "cell_type": "markdown",
      "metadata": {
        "id": "MYcqiCCYNvrU",
        "colab_type": "text"
      },
      "source": [
        "### 1. Write Python code that creates a random string using 'a', 'e', 'i', 'o', 'u'. Using each character only once. \n",
        "HINT: Lookup the .shuffle method in the random lib\n"
      ]
    },
    {
      "cell_type": "code",
      "metadata": {
        "id": "P5oD9XXnMJ6S",
        "colab_type": "code",
        "colab": {}
      },
      "source": [
        "import random\n",
        "char_list = ['a','e','i','o','u']\n",
        "# your code here"
      ],
      "execution_count": 0,
      "outputs": []
    },
    {
      "cell_type": "markdown",
      "metadata": {
        "id": "U5VoSsxeN23s",
        "colab_type": "text"
      },
      "source": [
        "###2.  Write Python code to calculate number of days between two dates"
      ]
    },
    {
      "cell_type": "code",
      "metadata": {
        "id": "hEqCjZtPN9jD",
        "colab_type": "code",
        "colab": {}
      },
      "source": [
        "from datetime import date\n",
        "# your code here"
      ],
      "execution_count": 0,
      "outputs": []
    },
    {
      "cell_type": "markdown",
      "metadata": {
        "id": "T4H8Ao77O1oV",
        "colab_type": "text"
      },
      "source": [
        "### 3. Write a Python function to get the difference between a given number and 17, if the number is greater than 17 return double the difference.\n",
        "\n",
        "\n"
      ]
    },
    {
      "cell_type": "code",
      "metadata": {
        "id": "-mvceDTSOypS",
        "colab_type": "code",
        "outputId": "40e8f352-41a0-4990-f111-9f1334e0558b",
        "colab": {
          "base_uri": "https://localhost:8080/",
          "height": 51
        }
      },
      "source": [
        "def difference(n):\n",
        "    result=0\n",
        "    # your code here\n",
        "    return result\n",
        "print(difference(22))\n",
        "print(difference(14))"
      ],
      "execution_count": 0,
      "outputs": [
        {
          "output_type": "stream",
          "text": [
            "0\n",
            "0\n"
          ],
          "name": "stdout"
        }
      ]
    },
    {
      "cell_type": "markdown",
      "metadata": {
        "id": "ALpkS9d_PVI3",
        "colab_type": "text"
      },
      "source": [
        "### Stretch Goals: "
      ]
    },
    {
      "cell_type": "markdown",
      "metadata": {
        "id": "Fpfn3ozePw96",
        "colab_type": "text"
      },
      "source": [
        "### 4. Write Python code to find whether a given number (accept from the user) is even or odd, print out an appropriate message to the user.\n",
        "HINT:  you'll need to use the python's input function\n",
        "\n",
        " "
      ]
    },
    {
      "cell_type": "code",
      "metadata": {
        "id": "_I50Qf83PDHL",
        "colab_type": "code",
        "outputId": "11a80baa-c370-4d54-e746-7068da06922d",
        "colab": {
          "base_uri": "https://localhost:8080/",
          "height": 51
        }
      },
      "source": [
        "num = int(input(\"Enter a number: \"))\n",
        "# your code here"
      ],
      "execution_count": 0,
      "outputs": [
        {
          "output_type": "stream",
          "text": [
            "Enter a number: 124\n",
            "This is an even number.\n"
          ],
          "name": "stdout"
        }
      ]
    },
    {
      "cell_type": "markdown",
      "metadata": {
        "id": "oHF_eYwkQSgH",
        "colab_type": "text"
      },
      "source": [
        "### 5. Write Python function to display your details like name, age, address in three different lines."
      ]
    },
    {
      "cell_type": "code",
      "metadata": {
        "id": "I3t9apsdP9J0",
        "colab_type": "code",
        "colab": {}
      },
      "source": [
        "def personal_details():\n",
        "  # your code here\n",
        "  return\n",
        "  \n",
        "personal_details()"
      ],
      "execution_count": 0,
      "outputs": []
    }
  ]
}