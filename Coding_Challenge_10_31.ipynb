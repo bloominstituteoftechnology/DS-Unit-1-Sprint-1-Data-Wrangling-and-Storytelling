{
  "nbformat": 4,
  "nbformat_minor": 0,
  "metadata": {
    "colab": {
      "name": "Copy of Coding Challenge 10.31.ipynb",
      "provenance": [],
      "collapsed_sections": [],
      "include_colab_link": true
    },
    "kernelspec": {
      "name": "python3",
      "display_name": "Python 3"
    }
  },
  "cells": [
    {
      "cell_type": "markdown",
      "metadata": {
        "id": "view-in-github",
        "colab_type": "text"
      },
      "source": [
        "<a href=\"https://colab.research.google.com/github/Clee2691/DS-Unit-1-Sprint-1-Data-Wrangling-and-Storytelling/blob/master/Copy_of_Coding_Challenge_10_31.ipynb\" target=\"_parent\"><img src=\"https://colab.research.google.com/assets/colab-badge.svg\" alt=\"Open In Colab\"/></a>"
      ]
    },
    {
      "cell_type": "markdown",
      "metadata": {
        "id": "DTryy-ftM4Nn",
        "colab_type": "text"
      },
      "source": [
        "## Good Evening! Welcome to your first Python code challenge. \n",
        "## Use your Googfu skills to help you find a solution.\n"
      ]
    },
    {
      "cell_type": "markdown",
      "metadata": {
        "id": "MYcqiCCYNvrU",
        "colab_type": "text"
      },
      "source": [
        "### 1. Write Python code that creates a random string using 'a', 'e', 'i', 'o', 'u'. Using each character only once. \n",
        "HINT: Lookup the .shuffle method in the random lib\n"
      ]
    },
    {
      "cell_type": "code",
      "metadata": {
        "id": "P5oD9XXnMJ6S",
        "colab_type": "code",
        "outputId": "b3183b6f-e4ad-4003-b4ad-9ecc0300d8e2",
        "colab": {
          "base_uri": "https://localhost:8080/",
          "height": 35
        }
      },
      "source": [
        "import random\n",
        "char_list = ['a','e','i','o','u']\n",
        "# your code here\n",
        "\n",
        "random.shuffle(char_list)\n",
        "str1 = ''\n",
        "str1.join(char_list)"
      ],
      "execution_count": 0,
      "outputs": [
        {
          "output_type": "execute_result",
          "data": {
            "text/plain": [
              "'iuoea'"
            ]
          },
          "metadata": {
            "tags": []
          },
          "execution_count": 12
        }
      ]
    },
    {
      "cell_type": "markdown",
      "metadata": {
        "id": "U5VoSsxeN23s",
        "colab_type": "text"
      },
      "source": [
        "###2.  Write Python code to calculate number of days between two dates"
      ]
    },
    {
      "cell_type": "code",
      "metadata": {
        "id": "hEqCjZtPN9jD",
        "colab_type": "code",
        "outputId": "21423b0a-f2bf-4968-dcef-f48c961e54ce",
        "colab": {
          "base_uri": "https://localhost:8080/",
          "height": 35
        }
      },
      "source": [
        "from datetime import date\n",
        "# your code here\n",
        "date1 = date(2019,11,26)\n",
        "date2 = date(2019, 10, 31)\n",
        "\n",
        "date3 = date1 - date2\n",
        "\n",
        "print(date3)"
      ],
      "execution_count": 0,
      "outputs": [
        {
          "output_type": "stream",
          "text": [
            "26 days, 0:00:00\n"
          ],
          "name": "stdout"
        }
      ]
    },
    {
      "cell_type": "markdown",
      "metadata": {
        "id": "T4H8Ao77O1oV",
        "colab_type": "text"
      },
      "source": [
        "### 3. Write a Python function to get the difference between a given number and 17, if the number is greater than 17 return double the difference.\n",
        "\n",
        "\n"
      ]
    },
    {
      "cell_type": "code",
      "metadata": {
        "id": "-mvceDTSOypS",
        "colab_type": "code",
        "outputId": "48c9e776-a72b-4d52-f5d7-d31508972dbb",
        "colab": {
          "base_uri": "https://localhost:8080/",
          "height": 54
        }
      },
      "source": [
        "def difference(n):\n",
        "    result=0\n",
        "    # your code here\n",
        "\n",
        "    if n > 17:\n",
        "      diff = n - 17\n",
        "      result = diff*2\n",
        "    else:\n",
        "      result = 17 - n\n",
        "\n",
        "    return result\n",
        "    \n",
        "print(difference(22))\n",
        "print(difference(14))"
      ],
      "execution_count": 0,
      "outputs": [
        {
          "output_type": "stream",
          "text": [
            "10\n",
            "3\n"
          ],
          "name": "stdout"
        }
      ]
    },
    {
      "cell_type": "markdown",
      "metadata": {
        "id": "ALpkS9d_PVI3",
        "colab_type": "text"
      },
      "source": [
        "### Stretch Goals: "
      ]
    },
    {
      "cell_type": "markdown",
      "metadata": {
        "id": "Fpfn3ozePw96",
        "colab_type": "text"
      },
      "source": [
        "### 4. Write Python code to find whether a given number (accept from the user) is even or odd, print out an appropriate message to the user.\n",
        "HINT:  you'll need to use the python's input function\n",
        "\n",
        " "
      ]
    },
    {
      "cell_type": "code",
      "metadata": {
        "id": "_I50Qf83PDHL",
        "colab_type": "code",
        "outputId": "3eb5863e-1e96-4eed-c3f7-cfc0fd831233",
        "colab": {
          "base_uri": "https://localhost:8080/",
          "height": 54
        }
      },
      "source": [
        "num = int(input(\"Enter a number: \"))\n",
        "# your code here\n",
        "\n",
        "if num % 2 == 0:\n",
        "  print(\"The number {} is even!\".format(num))\n",
        "else:\n",
        "  print(\"The number {} is odd!\".format(num))"
      ],
      "execution_count": 2,
      "outputs": [
        {
          "output_type": "stream",
          "text": [
            "Enter a number: 5\n",
            "The number 5 is odd!\n"
          ],
          "name": "stdout"
        }
      ]
    },
    {
      "cell_type": "markdown",
      "metadata": {
        "id": "oHF_eYwkQSgH",
        "colab_type": "text"
      },
      "source": [
        "### 5. Write Python function to display your details like name, age, address in three different lines."
      ]
    },
    {
      "cell_type": "code",
      "metadata": {
        "id": "I3t9apsdP9J0",
        "colab_type": "code",
        "colab": {
          "base_uri": "https://localhost:8080/",
          "height": 72
        },
        "outputId": "5a7d7ae9-cbb2-40f8-9353-564dbfcb1982"
      },
      "source": [
        "def personal_details():\n",
        "  # your code here\n",
        "  print('Calvin Lee')\n",
        "  print('28')\n",
        "  print('Boston Massachussetts')\n",
        "  return\n",
        "  \n",
        "personal_details()"
      ],
      "execution_count": 4,
      "outputs": [
        {
          "output_type": "stream",
          "text": [
            "Calvin Lee\n",
            "28\n",
            "Boston Massachussetts\n"
          ],
          "name": "stdout"
        }
      ]
    }
  ]
}
