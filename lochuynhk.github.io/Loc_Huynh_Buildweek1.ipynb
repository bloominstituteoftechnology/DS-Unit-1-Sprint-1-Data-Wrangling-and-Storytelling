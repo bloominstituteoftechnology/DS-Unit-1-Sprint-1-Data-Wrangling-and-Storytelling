{
  "nbformat": 4,
  "nbformat_minor": 0,
  "metadata": {
    "colab": {
      "name": "Loc_Huynh_Buildweek1.ipynb",
      "provenance": [],
      "collapsed_sections": [],
      "include_colab_link": true
    },
    "kernelspec": {
      "name": "python3",
      "display_name": "Python 3"
    }
  },
  "cells": [
    {
      "cell_type": "markdown",
      "metadata": {
        "id": "view-in-github",
        "colab_type": "text"
      },
      "source": [
        "<a href=\"https://colab.research.google.com/github/lochuynhk/DS-Unit-1-Sprint-1-Data-Wrangling-and-Storytelling/blob/master/lochuynhk.github.io/Loc_Huynh_Buildweek1.ipynb\" target=\"_parent\"><img src=\"https://colab.research.google.com/assets/colab-badge.svg\" alt=\"Open In Colab\"/></a>"
      ]
    },
    {
      "cell_type": "code",
      "metadata": {
        "id": "u0Y66VJpKnj4",
        "colab_type": "code",
        "colab": {}
      },
      "source": [
        "import pandas as pd\n",
        "import numpy as np"
      ],
      "execution_count": 0,
      "outputs": []
    },
    {
      "cell_type": "code",
      "metadata": {
        "id": "SiCC0PM1L_jr",
        "colab_type": "code",
        "outputId": "75a2d808-d104-4d37-8b6a-6bbb2d071092",
        "colab": {
          "resources": {
            "http://localhost:8080/nbextensions/google.colab/files.js": {
              "data": "Ly8gQ29weXJpZ2h0IDIwMTcgR29vZ2xlIExMQwovLwovLyBMaWNlbnNlZCB1bmRlciB0aGUgQXBhY2hlIExpY2Vuc2UsIFZlcnNpb24gMi4wICh0aGUgIkxpY2Vuc2UiKTsKLy8geW91IG1heSBub3QgdXNlIHRoaXMgZmlsZSBleGNlcHQgaW4gY29tcGxpYW5jZSB3aXRoIHRoZSBMaWNlbnNlLgovLyBZb3UgbWF5IG9idGFpbiBhIGNvcHkgb2YgdGhlIExpY2Vuc2UgYXQKLy8KLy8gICAgICBodHRwOi8vd3d3LmFwYWNoZS5vcmcvbGljZW5zZXMvTElDRU5TRS0yLjAKLy8KLy8gVW5sZXNzIHJlcXVpcmVkIGJ5IGFwcGxpY2FibGUgbGF3IG9yIGFncmVlZCB0byBpbiB3cml0aW5nLCBzb2Z0d2FyZQovLyBkaXN0cmlidXRlZCB1bmRlciB0aGUgTGljZW5zZSBpcyBkaXN0cmlidXRlZCBvbiBhbiAiQVMgSVMiIEJBU0lTLAovLyBXSVRIT1VUIFdBUlJBTlRJRVMgT1IgQ09ORElUSU9OUyBPRiBBTlkgS0lORCwgZWl0aGVyIGV4cHJlc3Mgb3IgaW1wbGllZC4KLy8gU2VlIHRoZSBMaWNlbnNlIGZvciB0aGUgc3BlY2lmaWMgbGFuZ3VhZ2UgZ292ZXJuaW5nIHBlcm1pc3Npb25zIGFuZAovLyBsaW1pdGF0aW9ucyB1bmRlciB0aGUgTGljZW5zZS4KCi8qKgogKiBAZmlsZW92ZXJ2aWV3IEhlbHBlcnMgZm9yIGdvb2dsZS5jb2xhYiBQeXRob24gbW9kdWxlLgogKi8KKGZ1bmN0aW9uKHNjb3BlKSB7CmZ1bmN0aW9uIHNwYW4odGV4dCwgc3R5bGVBdHRyaWJ1dGVzID0ge30pIHsKICBjb25zdCBlbGVtZW50ID0gZG9jdW1lbnQuY3JlYXRlRWxlbWVudCgnc3BhbicpOwogIGVsZW1lbnQudGV4dENvbnRlbnQgPSB0ZXh0OwogIGZvciAoY29uc3Qga2V5IG9mIE9iamVjdC5rZXlzKHN0eWxlQXR0cmlidXRlcykpIHsKICAgIGVsZW1lbnQuc3R5bGVba2V5XSA9IHN0eWxlQXR0cmlidXRlc1trZXldOwogIH0KICByZXR1cm4gZWxlbWVudDsKfQoKLy8gTWF4IG51bWJlciBvZiBieXRlcyB3aGljaCB3aWxsIGJlIHVwbG9hZGVkIGF0IGEgdGltZS4KY29uc3QgTUFYX1BBWUxPQURfU0laRSA9IDEwMCAqIDEwMjQ7Ci8vIE1heCBhbW91bnQgb2YgdGltZSB0byBibG9jayB3YWl0aW5nIGZvciB0aGUgdXNlci4KY29uc3QgRklMRV9DSEFOR0VfVElNRU9VVF9NUyA9IDMwICogMTAwMDsKCmZ1bmN0aW9uIF91cGxvYWRGaWxlcyhpbnB1dElkLCBvdXRwdXRJZCkgewogIGNvbnN0IHN0ZXBzID0gdXBsb2FkRmlsZXNTdGVwKGlucHV0SWQsIG91dHB1dElkKTsKICBjb25zdCBvdXRwdXRFbGVtZW50ID0gZG9jdW1lbnQuZ2V0RWxlbWVudEJ5SWQob3V0cHV0SWQpOwogIC8vIENhY2hlIHN0ZXBzIG9uIHRoZSBvdXRwdXRFbGVtZW50IHRvIG1ha2UgaXQgYXZhaWxhYmxlIGZvciB0aGUgbmV4dCBjYWxsCiAgLy8gdG8gdXBsb2FkRmlsZXNDb250aW51ZSBmcm9tIFB5dGhvbi4KICBvdXRwdXRFbGVtZW50LnN0ZXBzID0gc3RlcHM7CgogIHJldHVybiBfdXBsb2FkRmlsZXNDb250aW51ZShvdXRwdXRJZCk7Cn0KCi8vIFRoaXMgaXMgcm91Z2hseSBhbiBhc3luYyBnZW5lcmF0b3IgKG5vdCBzdXBwb3J0ZWQgaW4gdGhlIGJyb3dzZXIgeWV0KSwKLy8gd2hlcmUgdGhlcmUgYXJlIG11bHRpcGxlIGFzeW5jaHJvbm91cyBzdGVwcyBhbmQgdGhlIFB5dGhvbiBzaWRlIGlzIGdvaW5nCi8vIHRvIHBvbGwgZm9yIGNvbXBsZXRpb24gb2YgZWFjaCBzdGVwLgovLyBUaGlzIHVzZXMgYSBQcm9taXNlIHRvIGJsb2NrIHRoZSBweXRob24gc2lkZSBvbiBjb21wbGV0aW9uIG9mIGVhY2ggc3RlcCwKLy8gdGhlbiBwYXNzZXMgdGhlIHJlc3VsdCBvZiB0aGUgcHJldmlvdXMgc3RlcCBhcyB0aGUgaW5wdXQgdG8gdGhlIG5leHQgc3RlcC4KZnVuY3Rpb24gX3VwbG9hZEZpbGVzQ29udGludWUob3V0cHV0SWQpIHsKICBjb25zdCBvdXRwdXRFbGVtZW50ID0gZG9jdW1lbnQuZ2V0RWxlbWVudEJ5SWQob3V0cHV0SWQpOwogIGNvbnN0IHN0ZXBzID0gb3V0cHV0RWxlbWVudC5zdGVwczsKCiAgY29uc3QgbmV4dCA9IHN0ZXBzLm5leHQob3V0cHV0RWxlbWVudC5sYXN0UHJvbWlzZVZhbHVlKTsKICByZXR1cm4gUHJvbWlzZS5yZXNvbHZlKG5leHQudmFsdWUucHJvbWlzZSkudGhlbigodmFsdWUpID0+IHsKICAgIC8vIENhY2hlIHRoZSBsYXN0IHByb21pc2UgdmFsdWUgdG8gbWFrZSBpdCBhdmFpbGFibGUgdG8gdGhlIG5leHQKICAgIC8vIHN0ZXAgb2YgdGhlIGdlbmVyYXRvci4KICAgIG91dHB1dEVsZW1lbnQubGFzdFByb21pc2VWYWx1ZSA9IHZhbHVlOwogICAgcmV0dXJuIG5leHQudmFsdWUucmVzcG9uc2U7CiAgfSk7Cn0KCi8qKgogKiBHZW5lcmF0b3IgZnVuY3Rpb24gd2hpY2ggaXMgY2FsbGVkIGJldHdlZW4gZWFjaCBhc3luYyBzdGVwIG9mIHRoZSB1cGxvYWQKICogcHJvY2Vzcy4KICogQHBhcmFtIHtzdHJpbmd9IGlucHV0SWQgRWxlbWVudCBJRCBvZiB0aGUgaW5wdXQgZmlsZSBwaWNrZXIgZWxlbWVudC4KICogQHBhcmFtIHtzdHJpbmd9IG91dHB1dElkIEVsZW1lbnQgSUQgb2YgdGhlIG91dHB1dCBkaXNwbGF5LgogKiBAcmV0dXJuIHshSXRlcmFibGU8IU9iamVjdD59IEl0ZXJhYmxlIG9mIG5leHQgc3RlcHMuCiAqLwpmdW5jdGlvbiogdXBsb2FkRmlsZXNTdGVwKGlucHV0SWQsIG91dHB1dElkKSB7CiAgY29uc3QgaW5wdXRFbGVtZW50ID0gZG9jdW1lbnQuZ2V0RWxlbWVudEJ5SWQoaW5wdXRJZCk7CiAgaW5wdXRFbGVtZW50LmRpc2FibGVkID0gZmFsc2U7CgogIGNvbnN0IG91dHB1dEVsZW1lbnQgPSBkb2N1bWVudC5nZXRFbGVtZW50QnlJZChvdXRwdXRJZCk7CiAgb3V0cHV0RWxlbWVudC5pbm5lckhUTUwgPSAnJzsKCiAgY29uc3QgcGlja2VkUHJvbWlzZSA9IG5ldyBQcm9taXNlKChyZXNvbHZlKSA9PiB7CiAgICBpbnB1dEVsZW1lbnQuYWRkRXZlbnRMaXN0ZW5lcignY2hhbmdlJywgKGUpID0+IHsKICAgICAgcmVzb2x2ZShlLnRhcmdldC5maWxlcyk7CiAgICB9KTsKICB9KTsKCiAgY29uc3QgY2FuY2VsID0gZG9jdW1lbnQuY3JlYXRlRWxlbWVudCgnYnV0dG9uJyk7CiAgaW5wdXRFbGVtZW50LnBhcmVudEVsZW1lbnQuYXBwZW5kQ2hpbGQoY2FuY2VsKTsKICBjYW5jZWwudGV4dENvbnRlbnQgPSAnQ2FuY2VsIHVwbG9hZCc7CiAgY29uc3QgY2FuY2VsUHJvbWlzZSA9IG5ldyBQcm9taXNlKChyZXNvbHZlKSA9PiB7CiAgICBjYW5jZWwub25jbGljayA9ICgpID0+IHsKICAgICAgcmVzb2x2ZShudWxsKTsKICAgIH07CiAgfSk7CgogIC8vIENhbmNlbCB1cGxvYWQgaWYgdXNlciBoYXNuJ3QgcGlja2VkIGFueXRoaW5nIGluIHRpbWVvdXQuCiAgY29uc3QgdGltZW91dFByb21pc2UgPSBuZXcgUHJvbWlzZSgocmVzb2x2ZSkgPT4gewogICAgc2V0VGltZW91dCgoKSA9PiB7CiAgICAgIHJlc29sdmUobnVsbCk7CiAgICB9LCBGSUxFX0NIQU5HRV9USU1FT1VUX01TKTsKICB9KTsKCiAgLy8gV2FpdCBmb3IgdGhlIHVzZXIgdG8gcGljayB0aGUgZmlsZXMuCiAgY29uc3QgZmlsZXMgPSB5aWVsZCB7CiAgICBwcm9taXNlOiBQcm9taXNlLnJhY2UoW3BpY2tlZFByb21pc2UsIHRpbWVvdXRQcm9taXNlLCBjYW5jZWxQcm9taXNlXSksCiAgICByZXNwb25zZTogewogICAgICBhY3Rpb246ICdzdGFydGluZycsCiAgICB9CiAgfTsKCiAgaWYgKCFmaWxlcykgewogICAgcmV0dXJuIHsKICAgICAgcmVzcG9uc2U6IHsKICAgICAgICBhY3Rpb246ICdjb21wbGV0ZScsCiAgICAgIH0KICAgIH07CiAgfQoKICBjYW5jZWwucmVtb3ZlKCk7CgogIC8vIERpc2FibGUgdGhlIGlucHV0IGVsZW1lbnQgc2luY2UgZnVydGhlciBwaWNrcyBhcmUgbm90IGFsbG93ZWQuCiAgaW5wdXRFbGVtZW50LmRpc2FibGVkID0gdHJ1ZTsKCiAgZm9yIChjb25zdCBmaWxlIG9mIGZpbGVzKSB7CiAgICBjb25zdCBsaSA9IGRvY3VtZW50LmNyZWF0ZUVsZW1lbnQoJ2xpJyk7CiAgICBsaS5hcHBlbmQoc3BhbihmaWxlLm5hbWUsIHtmb250V2VpZ2h0OiAnYm9sZCd9KSk7CiAgICBsaS5hcHBlbmQoc3BhbigKICAgICAgICBgKCR7ZmlsZS50eXBlIHx8ICduL2EnfSkgLSAke2ZpbGUuc2l6ZX0gYnl0ZXMsIGAgKwogICAgICAgIGBsYXN0IG1vZGlmaWVkOiAkewogICAgICAgICAgICBmaWxlLmxhc3RNb2RpZmllZERhdGUgPyBmaWxlLmxhc3RNb2RpZmllZERhdGUudG9Mb2NhbGVEYXRlU3RyaW5nKCkgOgogICAgICAgICAgICAgICAgICAgICAgICAgICAgICAgICAgICAnbi9hJ30gLSBgKSk7CiAgICBjb25zdCBwZXJjZW50ID0gc3BhbignMCUgZG9uZScpOwogICAgbGkuYXBwZW5kQ2hpbGQocGVyY2VudCk7CgogICAgb3V0cHV0RWxlbWVudC5hcHBlbmRDaGlsZChsaSk7CgogICAgY29uc3QgZmlsZURhdGFQcm9taXNlID0gbmV3IFByb21pc2UoKHJlc29sdmUpID0+IHsKICAgICAgY29uc3QgcmVhZGVyID0gbmV3IEZpbGVSZWFkZXIoKTsKICAgICAgcmVhZGVyLm9ubG9hZCA9IChlKSA9PiB7CiAgICAgICAgcmVzb2x2ZShlLnRhcmdldC5yZXN1bHQpOwogICAgICB9OwogICAgICByZWFkZXIucmVhZEFzQXJyYXlCdWZmZXIoZmlsZSk7CiAgICB9KTsKICAgIC8vIFdhaXQgZm9yIHRoZSBkYXRhIHRvIGJlIHJlYWR5LgogICAgbGV0IGZpbGVEYXRhID0geWllbGQgewogICAgICBwcm9taXNlOiBmaWxlRGF0YVByb21pc2UsCiAgICAgIHJlc3BvbnNlOiB7CiAgICAgICAgYWN0aW9uOiAnY29udGludWUnLAogICAgICB9CiAgICB9OwoKICAgIC8vIFVzZSBhIGNodW5rZWQgc2VuZGluZyB0byBhdm9pZCBtZXNzYWdlIHNpemUgbGltaXRzLiBTZWUgYi82MjExNTY2MC4KICAgIGxldCBwb3NpdGlvbiA9IDA7CiAgICB3aGlsZSAocG9zaXRpb24gPCBmaWxlRGF0YS5ieXRlTGVuZ3RoKSB7CiAgICAgIGNvbnN0IGxlbmd0aCA9IE1hdGgubWluKGZpbGVEYXRhLmJ5dGVMZW5ndGggLSBwb3NpdGlvbiwgTUFYX1BBWUxPQURfU0laRSk7CiAgICAgIGNvbnN0IGNodW5rID0gbmV3IFVpbnQ4QXJyYXkoZmlsZURhdGEsIHBvc2l0aW9uLCBsZW5ndGgpOwogICAgICBwb3NpdGlvbiArPSBsZW5ndGg7CgogICAgICBjb25zdCBiYXNlNjQgPSBidG9hKFN0cmluZy5mcm9tQ2hhckNvZGUuYXBwbHkobnVsbCwgY2h1bmspKTsKICAgICAgeWllbGQgewogICAgICAgIHJlc3BvbnNlOiB7CiAgICAgICAgICBhY3Rpb246ICdhcHBlbmQnLAogICAgICAgICAgZmlsZTogZmlsZS5uYW1lLAogICAgICAgICAgZGF0YTogYmFzZTY0LAogICAgICAgIH0sCiAgICAgIH07CiAgICAgIHBlcmNlbnQudGV4dENvbnRlbnQgPQogICAgICAgICAgYCR7TWF0aC5yb3VuZCgocG9zaXRpb24gLyBmaWxlRGF0YS5ieXRlTGVuZ3RoKSAqIDEwMCl9JSBkb25lYDsKICAgIH0KICB9CgogIC8vIEFsbCBkb25lLgogIHlpZWxkIHsKICAgIHJlc3BvbnNlOiB7CiAgICAgIGFjdGlvbjogJ2NvbXBsZXRlJywKICAgIH0KICB9Owp9CgpzY29wZS5nb29nbGUgPSBzY29wZS5nb29nbGUgfHwge307CnNjb3BlLmdvb2dsZS5jb2xhYiA9IHNjb3BlLmdvb2dsZS5jb2xhYiB8fCB7fTsKc2NvcGUuZ29vZ2xlLmNvbGFiLl9maWxlcyA9IHsKICBfdXBsb2FkRmlsZXMsCiAgX3VwbG9hZEZpbGVzQ29udGludWUsCn07Cn0pKHNlbGYpOwo=",
              "ok": true,
              "headers": [
                [
                  "content-type",
                  "application/javascript"
                ]
              ],
              "status": 200,
              "status_text": ""
            }
          },
          "base_uri": "https://localhost:8080/",
          "height": 71
        }
      },
      "source": [
        "from google.colab import files\n",
        "uploaded = files.upload()"
      ],
      "execution_count": 86,
      "outputs": [
        {
          "output_type": "display_data",
          "data": {
            "text/html": [
              "\n",
              "     <input type=\"file\" id=\"files-5d0e7330-adf0-42af-9c8d-c304f5d9841a\" name=\"files[]\" multiple disabled />\n",
              "     <output id=\"result-5d0e7330-adf0-42af-9c8d-c304f5d9841a\">\n",
              "      Upload widget is only available when the cell has been executed in the\n",
              "      current browser session. Please rerun this cell to enable.\n",
              "      </output>\n",
              "      <script src=\"/nbextensions/google.colab/files.js\"></script> "
            ],
            "text/plain": [
              "<IPython.core.display.HTML object>"
            ]
          },
          "metadata": {
            "tags": []
          }
        },
        {
          "output_type": "stream",
          "text": [
            "Saving SYB60_312_Carbon Dioxide Emission Estimates.csv to SYB60_312_Carbon Dioxide Emission Estimates (2).csv\n"
          ],
          "name": "stdout"
        }
      ]
    },
    {
      "cell_type": "code",
      "metadata": {
        "id": "63ke51TJMLKR",
        "colab_type": "code",
        "colab": {}
      },
      "source": [
        "column_headers = ['Country Code', 'Country Name', 'Year', 'Series', 'Value', 'Footnotes', 'Source']\n",
        "\n",
        "import io\n",
        "df = pd.read_csv(io.BytesIO(uploaded['SYB60_312_Carbon Dioxide Emission Estimates.csv']), header=None, names=column_headers, skiprows=2, na_filter=False)"
      ],
      "execution_count": 0,
      "outputs": []
    },
    {
      "cell_type": "code",
      "metadata": {
        "id": "uOuOYzBjNZnY",
        "colab_type": "code",
        "outputId": "b08b958b-d08c-4660-e00a-1050905c8edb",
        "colab": {
          "base_uri": "https://localhost:8080/",
          "height": 34
        }
      },
      "source": [
        "df.head()\n",
        "print(df.shape)\n"
      ],
      "execution_count": 88,
      "outputs": [
        {
          "output_type": "stream",
          "text": [
            "(3308, 7)\n"
          ],
          "name": "stdout"
        }
      ]
    },
    {
      "cell_type": "code",
      "metadata": {
        "id": "_RviyFw5QUAI",
        "colab_type": "code",
        "outputId": "bf364f32-9f34-4657-f080-1cb753063abe",
        "colab": {
          "base_uri": "https://localhost:8080/",
          "height": 979
        }
      },
      "source": [
        "df.head(30)"
      ],
      "execution_count": 89,
      "outputs": [
        {
          "output_type": "execute_result",
          "data": {
            "text/html": [
              "<div>\n",
              "<style scoped>\n",
              "    .dataframe tbody tr th:only-of-type {\n",
              "        vertical-align: middle;\n",
              "    }\n",
              "\n",
              "    .dataframe tbody tr th {\n",
              "        vertical-align: top;\n",
              "    }\n",
              "\n",
              "    .dataframe thead th {\n",
              "        text-align: right;\n",
              "    }\n",
              "</style>\n",
              "<table border=\"1\" class=\"dataframe\">\n",
              "  <thead>\n",
              "    <tr style=\"text-align: right;\">\n",
              "      <th></th>\n",
              "      <th>Country Code</th>\n",
              "      <th>Country Name</th>\n",
              "      <th>Year</th>\n",
              "      <th>Series</th>\n",
              "      <th>Value</th>\n",
              "      <th>Footnotes</th>\n",
              "      <th>Source</th>\n",
              "    </tr>\n",
              "  </thead>\n",
              "  <tbody>\n",
              "    <tr>\n",
              "      <th>0</th>\n",
              "      <td>1</td>\n",
              "      <td>Total, all countries or areas</td>\n",
              "      <td>1975</td>\n",
              "      <td>Emissions (thousand metric tons of carbon diox...</td>\n",
              "      <td>16,853,532</td>\n",
              "      <td></td>\n",
              "      <td>Carbon Dioxide Information Analysis Center (CD...</td>\n",
              "    </tr>\n",
              "    <tr>\n",
              "      <th>1</th>\n",
              "      <td>1</td>\n",
              "      <td>Total, all countries or areas</td>\n",
              "      <td>1985</td>\n",
              "      <td>Emissions (thousand metric tons of carbon diox...</td>\n",
              "      <td>19,864,139</td>\n",
              "      <td></td>\n",
              "      <td>Carbon Dioxide Information Analysis Center (CD...</td>\n",
              "    </tr>\n",
              "    <tr>\n",
              "      <th>2</th>\n",
              "      <td>1</td>\n",
              "      <td>Total, all countries or areas</td>\n",
              "      <td>1995</td>\n",
              "      <td>Emissions (thousand metric tons of carbon diox...</td>\n",
              "      <td>23,120,435</td>\n",
              "      <td></td>\n",
              "      <td>Carbon Dioxide Information Analysis Center (CD...</td>\n",
              "    </tr>\n",
              "    <tr>\n",
              "      <th>3</th>\n",
              "      <td>1</td>\n",
              "      <td>Total, all countries or areas</td>\n",
              "      <td>2005</td>\n",
              "      <td>Emissions (thousand metric tons of carbon diox...</td>\n",
              "      <td>29,490,014</td>\n",
              "      <td></td>\n",
              "      <td>Carbon Dioxide Information Analysis Center (CD...</td>\n",
              "    </tr>\n",
              "    <tr>\n",
              "      <th>4</th>\n",
              "      <td>1</td>\n",
              "      <td>Total, all countries or areas</td>\n",
              "      <td>2010</td>\n",
              "      <td>Emissions (thousand metric tons of carbon diox...</td>\n",
              "      <td>33,472,376</td>\n",
              "      <td></td>\n",
              "      <td>Carbon Dioxide Information Analysis Center (CD...</td>\n",
              "    </tr>\n",
              "    <tr>\n",
              "      <th>5</th>\n",
              "      <td>1</td>\n",
              "      <td>Total, all countries or areas</td>\n",
              "      <td>2012</td>\n",
              "      <td>Emissions (thousand metric tons of carbon diox...</td>\n",
              "      <td>35,470,891</td>\n",
              "      <td></td>\n",
              "      <td>Carbon Dioxide Information Analysis Center (CD...</td>\n",
              "    </tr>\n",
              "    <tr>\n",
              "      <th>6</th>\n",
              "      <td>1</td>\n",
              "      <td>Total, all countries or areas</td>\n",
              "      <td>2013</td>\n",
              "      <td>Emissions (thousand metric tons of carbon diox...</td>\n",
              "      <td>35,837,591</td>\n",
              "      <td></td>\n",
              "      <td>Carbon Dioxide Information Analysis Center (CD...</td>\n",
              "    </tr>\n",
              "    <tr>\n",
              "      <th>7</th>\n",
              "      <td>1</td>\n",
              "      <td>Total, all countries or areas</td>\n",
              "      <td>2014</td>\n",
              "      <td>Emissions (thousand metric tons of carbon diox...</td>\n",
              "      <td>36,138,285</td>\n",
              "      <td></td>\n",
              "      <td>Carbon Dioxide Information Analysis Center (CD...</td>\n",
              "    </tr>\n",
              "    <tr>\n",
              "      <th>8</th>\n",
              "      <td>1</td>\n",
              "      <td>Total, all countries or areas</td>\n",
              "      <td>1975</td>\n",
              "      <td>Emissions per capita (metric tons of carbon di...</td>\n",
              "      <td>4.1</td>\n",
              "      <td></td>\n",
              "      <td>Carbon Dioxide Information Analysis Center (CD...</td>\n",
              "    </tr>\n",
              "    <tr>\n",
              "      <th>9</th>\n",
              "      <td>1</td>\n",
              "      <td>Total, all countries or areas</td>\n",
              "      <td>1985</td>\n",
              "      <td>Emissions per capita (metric tons of carbon di...</td>\n",
              "      <td>4.1</td>\n",
              "      <td></td>\n",
              "      <td>Carbon Dioxide Information Analysis Center (CD...</td>\n",
              "    </tr>\n",
              "    <tr>\n",
              "      <th>10</th>\n",
              "      <td>1</td>\n",
              "      <td>Total, all countries or areas</td>\n",
              "      <td>1995</td>\n",
              "      <td>Emissions per capita (metric tons of carbon di...</td>\n",
              "      <td>4.0</td>\n",
              "      <td></td>\n",
              "      <td>Carbon Dioxide Information Analysis Center (CD...</td>\n",
              "    </tr>\n",
              "    <tr>\n",
              "      <th>11</th>\n",
              "      <td>1</td>\n",
              "      <td>Total, all countries or areas</td>\n",
              "      <td>2005</td>\n",
              "      <td>Emissions per capita (metric tons of carbon di...</td>\n",
              "      <td>4.5</td>\n",
              "      <td></td>\n",
              "      <td>Carbon Dioxide Information Analysis Center (CD...</td>\n",
              "    </tr>\n",
              "    <tr>\n",
              "      <th>12</th>\n",
              "      <td>1</td>\n",
              "      <td>Total, all countries or areas</td>\n",
              "      <td>2010</td>\n",
              "      <td>Emissions per capita (metric tons of carbon di...</td>\n",
              "      <td>4.8</td>\n",
              "      <td></td>\n",
              "      <td>Carbon Dioxide Information Analysis Center (CD...</td>\n",
              "    </tr>\n",
              "    <tr>\n",
              "      <th>13</th>\n",
              "      <td>1</td>\n",
              "      <td>Total, all countries or areas</td>\n",
              "      <td>2012</td>\n",
              "      <td>Emissions per capita (metric tons of carbon di...</td>\n",
              "      <td>5.0</td>\n",
              "      <td></td>\n",
              "      <td>Carbon Dioxide Information Analysis Center (CD...</td>\n",
              "    </tr>\n",
              "    <tr>\n",
              "      <th>14</th>\n",
              "      <td>1</td>\n",
              "      <td>Total, all countries or areas</td>\n",
              "      <td>2013</td>\n",
              "      <td>Emissions per capita (metric tons of carbon di...</td>\n",
              "      <td>5.0</td>\n",
              "      <td></td>\n",
              "      <td>Carbon Dioxide Information Analysis Center (CD...</td>\n",
              "    </tr>\n",
              "    <tr>\n",
              "      <th>15</th>\n",
              "      <td>1</td>\n",
              "      <td>Total, all countries or areas</td>\n",
              "      <td>2014</td>\n",
              "      <td>Emissions per capita (metric tons of carbon di...</td>\n",
              "      <td>5.0</td>\n",
              "      <td></td>\n",
              "      <td>Carbon Dioxide Information Analysis Center (CD...</td>\n",
              "    </tr>\n",
              "    <tr>\n",
              "      <th>16</th>\n",
              "      <td>4</td>\n",
              "      <td>Afghanistan</td>\n",
              "      <td>1975</td>\n",
              "      <td>Emissions (thousand metric tons of carbon diox...</td>\n",
              "      <td>2,127</td>\n",
              "      <td></td>\n",
              "      <td>Carbon Dioxide Information Analysis Center (CD...</td>\n",
              "    </tr>\n",
              "    <tr>\n",
              "      <th>17</th>\n",
              "      <td>4</td>\n",
              "      <td>Afghanistan</td>\n",
              "      <td>1985</td>\n",
              "      <td>Emissions (thousand metric tons of carbon diox...</td>\n",
              "      <td>3,509</td>\n",
              "      <td></td>\n",
              "      <td>Carbon Dioxide Information Analysis Center (CD...</td>\n",
              "    </tr>\n",
              "    <tr>\n",
              "      <th>18</th>\n",
              "      <td>4</td>\n",
              "      <td>Afghanistan</td>\n",
              "      <td>1995</td>\n",
              "      <td>Emissions (thousand metric tons of carbon diox...</td>\n",
              "      <td>1,243</td>\n",
              "      <td></td>\n",
              "      <td>Carbon Dioxide Information Analysis Center (CD...</td>\n",
              "    </tr>\n",
              "    <tr>\n",
              "      <th>19</th>\n",
              "      <td>4</td>\n",
              "      <td>Afghanistan</td>\n",
              "      <td>2005</td>\n",
              "      <td>Emissions (thousand metric tons of carbon diox...</td>\n",
              "      <td>1,327</td>\n",
              "      <td></td>\n",
              "      <td>Carbon Dioxide Information Analysis Center (CD...</td>\n",
              "    </tr>\n",
              "    <tr>\n",
              "      <th>20</th>\n",
              "      <td>4</td>\n",
              "      <td>Afghanistan</td>\n",
              "      <td>2010</td>\n",
              "      <td>Emissions (thousand metric tons of carbon diox...</td>\n",
              "      <td>8,463</td>\n",
              "      <td></td>\n",
              "      <td>Carbon Dioxide Information Analysis Center (CD...</td>\n",
              "    </tr>\n",
              "    <tr>\n",
              "      <th>21</th>\n",
              "      <td>4</td>\n",
              "      <td>Afghanistan</td>\n",
              "      <td>2012</td>\n",
              "      <td>Emissions (thousand metric tons of carbon diox...</td>\n",
              "      <td>10,755</td>\n",
              "      <td></td>\n",
              "      <td>Carbon Dioxide Information Analysis Center (CD...</td>\n",
              "    </tr>\n",
              "    <tr>\n",
              "      <th>22</th>\n",
              "      <td>4</td>\n",
              "      <td>Afghanistan</td>\n",
              "      <td>2013</td>\n",
              "      <td>Emissions (thousand metric tons of carbon diox...</td>\n",
              "      <td>10,015</td>\n",
              "      <td></td>\n",
              "      <td>Carbon Dioxide Information Analysis Center (CD...</td>\n",
              "    </tr>\n",
              "    <tr>\n",
              "      <th>23</th>\n",
              "      <td>4</td>\n",
              "      <td>Afghanistan</td>\n",
              "      <td>2014</td>\n",
              "      <td>Emissions (thousand metric tons of carbon diox...</td>\n",
              "      <td>9,809</td>\n",
              "      <td></td>\n",
              "      <td>Carbon Dioxide Information Analysis Center (CD...</td>\n",
              "    </tr>\n",
              "    <tr>\n",
              "      <th>24</th>\n",
              "      <td>4</td>\n",
              "      <td>Afghanistan</td>\n",
              "      <td>1975</td>\n",
              "      <td>Emissions per capita (metric tons of carbon di...</td>\n",
              "      <td>0.1</td>\n",
              "      <td></td>\n",
              "      <td>Carbon Dioxide Information Analysis Center (CD...</td>\n",
              "    </tr>\n",
              "    <tr>\n",
              "      <th>25</th>\n",
              "      <td>4</td>\n",
              "      <td>Afghanistan</td>\n",
              "      <td>1985</td>\n",
              "      <td>Emissions per capita (metric tons of carbon di...</td>\n",
              "      <td>0.3</td>\n",
              "      <td></td>\n",
              "      <td>Carbon Dioxide Information Analysis Center (CD...</td>\n",
              "    </tr>\n",
              "    <tr>\n",
              "      <th>26</th>\n",
              "      <td>4</td>\n",
              "      <td>Afghanistan</td>\n",
              "      <td>1995</td>\n",
              "      <td>Emissions per capita (metric tons of carbon di...</td>\n",
              "      <td>0.1</td>\n",
              "      <td></td>\n",
              "      <td>Carbon Dioxide Information Analysis Center (CD...</td>\n",
              "    </tr>\n",
              "    <tr>\n",
              "      <th>27</th>\n",
              "      <td>4</td>\n",
              "      <td>Afghanistan</td>\n",
              "      <td>2005</td>\n",
              "      <td>Emissions per capita (metric tons of carbon di...</td>\n",
              "      <td>0.0</td>\n",
              "      <td></td>\n",
              "      <td>Carbon Dioxide Information Analysis Center (CD...</td>\n",
              "    </tr>\n",
              "    <tr>\n",
              "      <th>28</th>\n",
              "      <td>4</td>\n",
              "      <td>Afghanistan</td>\n",
              "      <td>2010</td>\n",
              "      <td>Emissions per capita (metric tons of carbon di...</td>\n",
              "      <td>0.3</td>\n",
              "      <td></td>\n",
              "      <td>Carbon Dioxide Information Analysis Center (CD...</td>\n",
              "    </tr>\n",
              "    <tr>\n",
              "      <th>29</th>\n",
              "      <td>4</td>\n",
              "      <td>Afghanistan</td>\n",
              "      <td>2012</td>\n",
              "      <td>Emissions per capita (metric tons of carbon di...</td>\n",
              "      <td>0.4</td>\n",
              "      <td></td>\n",
              "      <td>Carbon Dioxide Information Analysis Center (CD...</td>\n",
              "    </tr>\n",
              "  </tbody>\n",
              "</table>\n",
              "</div>"
            ],
            "text/plain": [
              "    Country Code  ...                                             Source\n",
              "0              1  ...  Carbon Dioxide Information Analysis Center (CD...\n",
              "1              1  ...  Carbon Dioxide Information Analysis Center (CD...\n",
              "2              1  ...  Carbon Dioxide Information Analysis Center (CD...\n",
              "3              1  ...  Carbon Dioxide Information Analysis Center (CD...\n",
              "4              1  ...  Carbon Dioxide Information Analysis Center (CD...\n",
              "5              1  ...  Carbon Dioxide Information Analysis Center (CD...\n",
              "6              1  ...  Carbon Dioxide Information Analysis Center (CD...\n",
              "7              1  ...  Carbon Dioxide Information Analysis Center (CD...\n",
              "8              1  ...  Carbon Dioxide Information Analysis Center (CD...\n",
              "9              1  ...  Carbon Dioxide Information Analysis Center (CD...\n",
              "10             1  ...  Carbon Dioxide Information Analysis Center (CD...\n",
              "11             1  ...  Carbon Dioxide Information Analysis Center (CD...\n",
              "12             1  ...  Carbon Dioxide Information Analysis Center (CD...\n",
              "13             1  ...  Carbon Dioxide Information Analysis Center (CD...\n",
              "14             1  ...  Carbon Dioxide Information Analysis Center (CD...\n",
              "15             1  ...  Carbon Dioxide Information Analysis Center (CD...\n",
              "16             4  ...  Carbon Dioxide Information Analysis Center (CD...\n",
              "17             4  ...  Carbon Dioxide Information Analysis Center (CD...\n",
              "18             4  ...  Carbon Dioxide Information Analysis Center (CD...\n",
              "19             4  ...  Carbon Dioxide Information Analysis Center (CD...\n",
              "20             4  ...  Carbon Dioxide Information Analysis Center (CD...\n",
              "21             4  ...  Carbon Dioxide Information Analysis Center (CD...\n",
              "22             4  ...  Carbon Dioxide Information Analysis Center (CD...\n",
              "23             4  ...  Carbon Dioxide Information Analysis Center (CD...\n",
              "24             4  ...  Carbon Dioxide Information Analysis Center (CD...\n",
              "25             4  ...  Carbon Dioxide Information Analysis Center (CD...\n",
              "26             4  ...  Carbon Dioxide Information Analysis Center (CD...\n",
              "27             4  ...  Carbon Dioxide Information Analysis Center (CD...\n",
              "28             4  ...  Carbon Dioxide Information Analysis Center (CD...\n",
              "29             4  ...  Carbon Dioxide Information Analysis Center (CD...\n",
              "\n",
              "[30 rows x 7 columns]"
            ]
          },
          "metadata": {
            "tags": []
          },
          "execution_count": 89
        }
      ]
    },
    {
      "cell_type": "code",
      "metadata": {
        "id": "Ineknng2QgEh",
        "colab_type": "code",
        "outputId": "bd484e24-8f80-45d2-96a7-382ba365cf9b",
        "colab": {
          "base_uri": "https://localhost:8080/",
          "height": 153
        }
      },
      "source": [
        "df.dtypes\n",
        "\n"
      ],
      "execution_count": 90,
      "outputs": [
        {
          "output_type": "execute_result",
          "data": {
            "text/plain": [
              "Country Code     int64\n",
              "Country Name    object\n",
              "Year             int64\n",
              "Series          object\n",
              "Value           object\n",
              "Footnotes       object\n",
              "Source          object\n",
              "dtype: object"
            ]
          },
          "metadata": {
            "tags": []
          },
          "execution_count": 90
        }
      ]
    },
    {
      "cell_type": "code",
      "metadata": {
        "id": "A_aV8THWgc7W",
        "colab_type": "code",
        "colab": {}
      },
      "source": [
        "df[\"Value\"] = df[\"Value\"].str.replace(\",\", \"\").astype(float)"
      ],
      "execution_count": 0,
      "outputs": []
    },
    {
      "cell_type": "code",
      "metadata": {
        "id": "KYgDpM5gTAYo",
        "colab_type": "code",
        "colab": {}
      },
      "source": [
        "import matplotlib.pyplot as plt"
      ],
      "execution_count": 0,
      "outputs": []
    },
    {
      "cell_type": "code",
      "metadata": {
        "id": "GNFc2RXEQncb",
        "colab_type": "code",
        "outputId": "b67c4bd6-e956-456b-c381-d942c694e18e",
        "colab": {
          "base_uri": "https://localhost:8080/",
          "height": 669
        }
      },
      "source": [
        "co2_output_overtime = pd.concat([df.Year, df.Value], axis=1)\n",
        "\n",
        "co2_output_overtime.head(20)"
      ],
      "execution_count": 93,
      "outputs": [
        {
          "output_type": "execute_result",
          "data": {
            "text/html": [
              "<div>\n",
              "<style scoped>\n",
              "    .dataframe tbody tr th:only-of-type {\n",
              "        vertical-align: middle;\n",
              "    }\n",
              "\n",
              "    .dataframe tbody tr th {\n",
              "        vertical-align: top;\n",
              "    }\n",
              "\n",
              "    .dataframe thead th {\n",
              "        text-align: right;\n",
              "    }\n",
              "</style>\n",
              "<table border=\"1\" class=\"dataframe\">\n",
              "  <thead>\n",
              "    <tr style=\"text-align: right;\">\n",
              "      <th></th>\n",
              "      <th>Year</th>\n",
              "      <th>Value</th>\n",
              "    </tr>\n",
              "  </thead>\n",
              "  <tbody>\n",
              "    <tr>\n",
              "      <th>0</th>\n",
              "      <td>1975</td>\n",
              "      <td>16853532.0</td>\n",
              "    </tr>\n",
              "    <tr>\n",
              "      <th>1</th>\n",
              "      <td>1985</td>\n",
              "      <td>19864139.0</td>\n",
              "    </tr>\n",
              "    <tr>\n",
              "      <th>2</th>\n",
              "      <td>1995</td>\n",
              "      <td>23120435.0</td>\n",
              "    </tr>\n",
              "    <tr>\n",
              "      <th>3</th>\n",
              "      <td>2005</td>\n",
              "      <td>29490014.0</td>\n",
              "    </tr>\n",
              "    <tr>\n",
              "      <th>4</th>\n",
              "      <td>2010</td>\n",
              "      <td>33472376.0</td>\n",
              "    </tr>\n",
              "    <tr>\n",
              "      <th>5</th>\n",
              "      <td>2012</td>\n",
              "      <td>35470891.0</td>\n",
              "    </tr>\n",
              "    <tr>\n",
              "      <th>6</th>\n",
              "      <td>2013</td>\n",
              "      <td>35837591.0</td>\n",
              "    </tr>\n",
              "    <tr>\n",
              "      <th>7</th>\n",
              "      <td>2014</td>\n",
              "      <td>36138285.0</td>\n",
              "    </tr>\n",
              "    <tr>\n",
              "      <th>8</th>\n",
              "      <td>1975</td>\n",
              "      <td>4.1</td>\n",
              "    </tr>\n",
              "    <tr>\n",
              "      <th>9</th>\n",
              "      <td>1985</td>\n",
              "      <td>4.1</td>\n",
              "    </tr>\n",
              "    <tr>\n",
              "      <th>10</th>\n",
              "      <td>1995</td>\n",
              "      <td>4.0</td>\n",
              "    </tr>\n",
              "    <tr>\n",
              "      <th>11</th>\n",
              "      <td>2005</td>\n",
              "      <td>4.5</td>\n",
              "    </tr>\n",
              "    <tr>\n",
              "      <th>12</th>\n",
              "      <td>2010</td>\n",
              "      <td>4.8</td>\n",
              "    </tr>\n",
              "    <tr>\n",
              "      <th>13</th>\n",
              "      <td>2012</td>\n",
              "      <td>5.0</td>\n",
              "    </tr>\n",
              "    <tr>\n",
              "      <th>14</th>\n",
              "      <td>2013</td>\n",
              "      <td>5.0</td>\n",
              "    </tr>\n",
              "    <tr>\n",
              "      <th>15</th>\n",
              "      <td>2014</td>\n",
              "      <td>5.0</td>\n",
              "    </tr>\n",
              "    <tr>\n",
              "      <th>16</th>\n",
              "      <td>1975</td>\n",
              "      <td>2127.0</td>\n",
              "    </tr>\n",
              "    <tr>\n",
              "      <th>17</th>\n",
              "      <td>1985</td>\n",
              "      <td>3509.0</td>\n",
              "    </tr>\n",
              "    <tr>\n",
              "      <th>18</th>\n",
              "      <td>1995</td>\n",
              "      <td>1243.0</td>\n",
              "    </tr>\n",
              "    <tr>\n",
              "      <th>19</th>\n",
              "      <td>2005</td>\n",
              "      <td>1327.0</td>\n",
              "    </tr>\n",
              "  </tbody>\n",
              "</table>\n",
              "</div>"
            ],
            "text/plain": [
              "    Year       Value\n",
              "0   1975  16853532.0\n",
              "1   1985  19864139.0\n",
              "2   1995  23120435.0\n",
              "3   2005  29490014.0\n",
              "4   2010  33472376.0\n",
              "5   2012  35470891.0\n",
              "6   2013  35837591.0\n",
              "7   2014  36138285.0\n",
              "8   1975         4.1\n",
              "9   1985         4.1\n",
              "10  1995         4.0\n",
              "11  2005         4.5\n",
              "12  2010         4.8\n",
              "13  2012         5.0\n",
              "14  2013         5.0\n",
              "15  2014         5.0\n",
              "16  1975      2127.0\n",
              "17  1985      3509.0\n",
              "18  1995      1243.0\n",
              "19  2005      1327.0"
            ]
          },
          "metadata": {
            "tags": []
          },
          "execution_count": 93
        }
      ]
    },
    {
      "cell_type": "code",
      "metadata": {
        "id": "KYXz_MtOpqAM",
        "colab_type": "code",
        "colab": {}
      },
      "source": [
        "%matplotlib inline\n",
        "from matplotlib.ticker import AutoMinorLocator, MultipleLocator, FuncFormatter\n",
        "from matplotlib.patches import Circle\n",
        "from matplotlib.patheffects import withStroke"
      ],
      "execution_count": 0,
      "outputs": []
    },
    {
      "cell_type": "code",
      "metadata": {
        "id": "-nWpSA8dnFMr",
        "colab_type": "code",
        "colab": {}
      },
      "source": [
        "import seaborn as sns\n"
      ],
      "execution_count": 0,
      "outputs": []
    },
    {
      "cell_type": "code",
      "metadata": {
        "id": "oyO--E66za9B",
        "colab_type": "code",
        "colab": {
          "base_uri": "https://localhost:8080/",
          "height": 398
        },
        "outputId": "2de69be9-be68-4707-a98c-51b61023896a"
      },
      "source": [
        "\n",
        "co = sns.catplot(x='Year', y='Value', kind='bar', data=co2_output_overtime)\n",
        "co.set_axis_labels(\"\",\"Thousand Metric Tons\")\n",
        "co.set(xlabel='Year')\n",
        "co.fig.suptitle(\"Total World CO2 Emission Estimates\", fontweight='bold', fontsize=14, x=.65, y=1.05)\n",
        "plt.show()"
      ],
      "execution_count": 96,
      "outputs": [
        {
          "output_type": "display_data",
          "data": {
            "image/png": "[encoded data removed]",
            "text/plain": [
              "<Figure size 360x360 with 1 Axes>"
            ]
          },
          "metadata": {
            "tags": []
          }
        }
      ]
    },
    {
      "cell_type": "code",
      "metadata": {
        "id": "uH_vPUu79xQG",
        "colab_type": "code",
        "colab": {}
      },
      "source": [
        "\n",
        "df2 = df.drop(columns=['Country Code', 'Series', 'Footnotes', 'Source'])\n"
      ],
      "execution_count": 0,
      "outputs": []
    },
    {
      "cell_type": "code",
      "metadata": {
        "id": "rthEXsFt9drP",
        "colab_type": "code",
        "colab": {
          "base_uri": "https://localhost:8080/",
          "height": 669
        },
        "outputId": "da49843f-9fce-4a8f-950a-7d0873c1bd4a"
      },
      "source": [
        "df2.head(20)"
      ],
      "execution_count": 98,
      "outputs": [
        {
          "output_type": "execute_result",
          "data": {
            "text/html": [
              "<div>\n",
              "<style scoped>\n",
              "    .dataframe tbody tr th:only-of-type {\n",
              "        vertical-align: middle;\n",
              "    }\n",
              "\n",
              "    .dataframe tbody tr th {\n",
              "        vertical-align: top;\n",
              "    }\n",
              "\n",
              "    .dataframe thead th {\n",
              "        text-align: right;\n",
              "    }\n",
              "</style>\n",
              "<table border=\"1\" class=\"dataframe\">\n",
              "  <thead>\n",
              "    <tr style=\"text-align: right;\">\n",
              "      <th></th>\n",
              "      <th>Country Name</th>\n",
              "      <th>Year</th>\n",
              "      <th>Value</th>\n",
              "    </tr>\n",
              "  </thead>\n",
              "  <tbody>\n",
              "    <tr>\n",
              "      <th>0</th>\n",
              "      <td>Total, all countries or areas</td>\n",
              "      <td>1975</td>\n",
              "      <td>16853532.0</td>\n",
              "    </tr>\n",
              "    <tr>\n",
              "      <th>1</th>\n",
              "      <td>Total, all countries or areas</td>\n",
              "      <td>1985</td>\n",
              "      <td>19864139.0</td>\n",
              "    </tr>\n",
              "    <tr>\n",
              "      <th>2</th>\n",
              "      <td>Total, all countries or areas</td>\n",
              "      <td>1995</td>\n",
              "      <td>23120435.0</td>\n",
              "    </tr>\n",
              "    <tr>\n",
              "      <th>3</th>\n",
              "      <td>Total, all countries or areas</td>\n",
              "      <td>2005</td>\n",
              "      <td>29490014.0</td>\n",
              "    </tr>\n",
              "    <tr>\n",
              "      <th>4</th>\n",
              "      <td>Total, all countries or areas</td>\n",
              "      <td>2010</td>\n",
              "      <td>33472376.0</td>\n",
              "    </tr>\n",
              "    <tr>\n",
              "      <th>5</th>\n",
              "      <td>Total, all countries or areas</td>\n",
              "      <td>2012</td>\n",
              "      <td>35470891.0</td>\n",
              "    </tr>\n",
              "    <tr>\n",
              "      <th>6</th>\n",
              "      <td>Total, all countries or areas</td>\n",
              "      <td>2013</td>\n",
              "      <td>35837591.0</td>\n",
              "    </tr>\n",
              "    <tr>\n",
              "      <th>7</th>\n",
              "      <td>Total, all countries or areas</td>\n",
              "      <td>2014</td>\n",
              "      <td>36138285.0</td>\n",
              "    </tr>\n",
              "    <tr>\n",
              "      <th>8</th>\n",
              "      <td>Total, all countries or areas</td>\n",
              "      <td>1975</td>\n",
              "      <td>4.1</td>\n",
              "    </tr>\n",
              "    <tr>\n",
              "      <th>9</th>\n",
              "      <td>Total, all countries or areas</td>\n",
              "      <td>1985</td>\n",
              "      <td>4.1</td>\n",
              "    </tr>\n",
              "    <tr>\n",
              "      <th>10</th>\n",
              "      <td>Total, all countries or areas</td>\n",
              "      <td>1995</td>\n",
              "      <td>4.0</td>\n",
              "    </tr>\n",
              "    <tr>\n",
              "      <th>11</th>\n",
              "      <td>Total, all countries or areas</td>\n",
              "      <td>2005</td>\n",
              "      <td>4.5</td>\n",
              "    </tr>\n",
              "    <tr>\n",
              "      <th>12</th>\n",
              "      <td>Total, all countries or areas</td>\n",
              "      <td>2010</td>\n",
              "      <td>4.8</td>\n",
              "    </tr>\n",
              "    <tr>\n",
              "      <th>13</th>\n",
              "      <td>Total, all countries or areas</td>\n",
              "      <td>2012</td>\n",
              "      <td>5.0</td>\n",
              "    </tr>\n",
              "    <tr>\n",
              "      <th>14</th>\n",
              "      <td>Total, all countries or areas</td>\n",
              "      <td>2013</td>\n",
              "      <td>5.0</td>\n",
              "    </tr>\n",
              "    <tr>\n",
              "      <th>15</th>\n",
              "      <td>Total, all countries or areas</td>\n",
              "      <td>2014</td>\n",
              "      <td>5.0</td>\n",
              "    </tr>\n",
              "    <tr>\n",
              "      <th>16</th>\n",
              "      <td>Afghanistan</td>\n",
              "      <td>1975</td>\n",
              "      <td>2127.0</td>\n",
              "    </tr>\n",
              "    <tr>\n",
              "      <th>17</th>\n",
              "      <td>Afghanistan</td>\n",
              "      <td>1985</td>\n",
              "      <td>3509.0</td>\n",
              "    </tr>\n",
              "    <tr>\n",
              "      <th>18</th>\n",
              "      <td>Afghanistan</td>\n",
              "      <td>1995</td>\n",
              "      <td>1243.0</td>\n",
              "    </tr>\n",
              "    <tr>\n",
              "      <th>19</th>\n",
              "      <td>Afghanistan</td>\n",
              "      <td>2005</td>\n",
              "      <td>1327.0</td>\n",
              "    </tr>\n",
              "  </tbody>\n",
              "</table>\n",
              "</div>"
            ],
            "text/plain": [
              "                     Country Name  Year       Value\n",
              "0   Total, all countries or areas  1975  16853532.0\n",
              "1   Total, all countries or areas  1985  19864139.0\n",
              "2   Total, all countries or areas  1995  23120435.0\n",
              "3   Total, all countries or areas  2005  29490014.0\n",
              "4   Total, all countries or areas  2010  33472376.0\n",
              "5   Total, all countries or areas  2012  35470891.0\n",
              "6   Total, all countries or areas  2013  35837591.0\n",
              "7   Total, all countries or areas  2014  36138285.0\n",
              "8   Total, all countries or areas  1975         4.1\n",
              "9   Total, all countries or areas  1985         4.1\n",
              "10  Total, all countries or areas  1995         4.0\n",
              "11  Total, all countries or areas  2005         4.5\n",
              "12  Total, all countries or areas  2010         4.8\n",
              "13  Total, all countries or areas  2012         5.0\n",
              "14  Total, all countries or areas  2013         5.0\n",
              "15  Total, all countries or areas  2014         5.0\n",
              "16                    Afghanistan  1975      2127.0\n",
              "17                    Afghanistan  1985      3509.0\n",
              "18                    Afghanistan  1995      1243.0\n",
              "19                    Afghanistan  2005      1327.0"
            ]
          },
          "metadata": {
            "tags": []
          },
          "execution_count": 98
        }
      ]
    },
    {
      "cell_type": "code",
      "metadata": {
        "id": "hQ19CAizZvDR",
        "colab_type": "code",
        "colab": {
          "base_uri": "https://localhost:8080/",
          "height": 34
        },
        "outputId": "741276d2-f440-4b7a-d6da-7d2953032ae0"
      },
      "source": [
        "df2.iloc[0:8, 2].sum()"
      ],
      "execution_count": 99,
      "outputs": [
        {
          "output_type": "execute_result",
          "data": {
            "text/plain": [
              "230247263.0"
            ]
          },
          "metadata": {
            "tags": []
          },
          "execution_count": 99
        }
      ]
    },
    {
      "cell_type": "code",
      "metadata": {
        "id": "qqB6obKc9fxA",
        "colab_type": "code",
        "colab": {
          "base_uri": "https://localhost:8080/",
          "height": 700
        },
        "outputId": "6a48de0c-0fbb-4ebf-818f-e8fc4a348a41"
      },
      "source": [
        "ind_countries = df[df[\"Country Name\"] != \"Total, all countries or areas\"]\n",
        "gb = ind_countries.groupby(\"Country Name\")\n",
        "# gb.first()\n",
        "highest_20 = gb.sum().sort_values(by='Value', ascending=False)[0:20]\n",
        "highest_20"
      ],
      "execution_count": 100,
      "outputs": [
        {
          "output_type": "execute_result",
          "data": {
            "text/html": [
              "<div>\n",
              "<style scoped>\n",
              "    .dataframe tbody tr th:only-of-type {\n",
              "        vertical-align: middle;\n",
              "    }\n",
              "\n",
              "    .dataframe tbody tr th {\n",
              "        vertical-align: top;\n",
              "    }\n",
              "\n",
              "    .dataframe thead th {\n",
              "        text-align: right;\n",
              "    }\n",
              "</style>\n",
              "<table border=\"1\" class=\"dataframe\">\n",
              "  <thead>\n",
              "    <tr style=\"text-align: right;\">\n",
              "      <th></th>\n",
              "      <th>Country Code</th>\n",
              "      <th>Year</th>\n",
              "      <th>Value</th>\n",
              "    </tr>\n",
              "    <tr>\n",
              "      <th>Country Name</th>\n",
              "      <th></th>\n",
              "      <th></th>\n",
              "      <th></th>\n",
              "    </tr>\n",
              "  </thead>\n",
              "  <tbody>\n",
              "    <tr>\n",
              "      <th>China</th>\n",
              "      <td>2496</td>\n",
              "      <td>32018</td>\n",
              "      <td>51683990.3</td>\n",
              "    </tr>\n",
              "    <tr>\n",
              "      <th>United States of America</th>\n",
              "      <td>13440</td>\n",
              "      <td>32018</td>\n",
              "      <td>40750082.1</td>\n",
              "    </tr>\n",
              "    <tr>\n",
              "      <th>India</th>\n",
              "      <td>5696</td>\n",
              "      <td>32018</td>\n",
              "      <td>10724334.2</td>\n",
              "    </tr>\n",
              "    <tr>\n",
              "      <th>Russian Federation</th>\n",
              "      <td>7716</td>\n",
              "      <td>24098</td>\n",
              "      <td>10231903.0</td>\n",
              "    </tr>\n",
              "    <tr>\n",
              "      <th>Japan</th>\n",
              "      <td>6272</td>\n",
              "      <td>32018</td>\n",
              "      <td>9070602.0</td>\n",
              "    </tr>\n",
              "    <tr>\n",
              "      <th>Germany</th>\n",
              "      <td>3312</td>\n",
              "      <td>24098</td>\n",
              "      <td>4637264.1</td>\n",
              "    </tr>\n",
              "    <tr>\n",
              "      <th>United Kingdom</th>\n",
              "      <td>13216</td>\n",
              "      <td>32018</td>\n",
              "      <td>4084115.7</td>\n",
              "    </tr>\n",
              "    <tr>\n",
              "      <th>Canada</th>\n",
              "      <td>1984</td>\n",
              "      <td>32018</td>\n",
              "      <td>3950887.2</td>\n",
              "    </tr>\n",
              "    <tr>\n",
              "      <th>Iran (Islamic Republic of)</th>\n",
              "      <td>5824</td>\n",
              "      <td>32018</td>\n",
              "      <td>3495968.0</td>\n",
              "    </tr>\n",
              "    <tr>\n",
              "      <th>Republic of Korea</th>\n",
              "      <td>6560</td>\n",
              "      <td>32018</td>\n",
              "      <td>3428265.9</td>\n",
              "    </tr>\n",
              "    <tr>\n",
              "      <th>South Africa</th>\n",
              "      <td>11360</td>\n",
              "      <td>32018</td>\n",
              "      <td>3187679.4</td>\n",
              "    </tr>\n",
              "    <tr>\n",
              "      <th>Mexico</th>\n",
              "      <td>7744</td>\n",
              "      <td>32018</td>\n",
              "      <td>3183426.3</td>\n",
              "    </tr>\n",
              "    <tr>\n",
              "      <th>Saudi Arabia</th>\n",
              "      <td>10912</td>\n",
              "      <td>32018</td>\n",
              "      <td>3114350.5</td>\n",
              "    </tr>\n",
              "    <tr>\n",
              "      <th>Italy</th>\n",
              "      <td>6080</td>\n",
              "      <td>32018</td>\n",
              "      <td>3058924.7</td>\n",
              "    </tr>\n",
              "    <tr>\n",
              "      <th>France</th>\n",
              "      <td>4000</td>\n",
              "      <td>32018</td>\n",
              "      <td>2906011.9</td>\n",
              "    </tr>\n",
              "    <tr>\n",
              "      <th>Brazil</th>\n",
              "      <td>1216</td>\n",
              "      <td>32018</td>\n",
              "      <td>2861353.7</td>\n",
              "    </tr>\n",
              "    <tr>\n",
              "      <th>Indonesia</th>\n",
              "      <td>5760</td>\n",
              "      <td>32018</td>\n",
              "      <td>2762396.8</td>\n",
              "    </tr>\n",
              "    <tr>\n",
              "      <th>Poland</th>\n",
              "      <td>9856</td>\n",
              "      <td>32018</td>\n",
              "      <td>2672496.0</td>\n",
              "    </tr>\n",
              "    <tr>\n",
              "      <th>Australia</th>\n",
              "      <td>576</td>\n",
              "      <td>32018</td>\n",
              "      <td>2561790.5</td>\n",
              "    </tr>\n",
              "    <tr>\n",
              "      <th>Spain</th>\n",
              "      <td>11584</td>\n",
              "      <td>32018</td>\n",
              "      <td>1984700.2</td>\n",
              "    </tr>\n",
              "  </tbody>\n",
              "</table>\n",
              "</div>"
            ],
            "text/plain": [
              "                            Country Code   Year       Value\n",
              "Country Name                                               \n",
              "China                               2496  32018  51683990.3\n",
              "United States of America           13440  32018  40750082.1\n",
              "India                               5696  32018  10724334.2\n",
              "Russian Federation                  7716  24098  10231903.0\n",
              "Japan                               6272  32018   9070602.0\n",
              "Germany                             3312  24098   4637264.1\n",
              "United Kingdom                     13216  32018   4084115.7\n",
              "Canada                              1984  32018   3950887.2\n",
              "Iran (Islamic Republic of)          5824  32018   3495968.0\n",
              "Republic of Korea                   6560  32018   3428265.9\n",
              "South Africa                       11360  32018   3187679.4\n",
              "Mexico                              7744  32018   3183426.3\n",
              "Saudi Arabia                       10912  32018   3114350.5\n",
              "Italy                               6080  32018   3058924.7\n",
              "France                              4000  32018   2906011.9\n",
              "Brazil                              1216  32018   2861353.7\n",
              "Indonesia                           5760  32018   2762396.8\n",
              "Poland                              9856  32018   2672496.0\n",
              "Australia                            576  32018   2561790.5\n",
              "Spain                              11584  32018   1984700.2"
            ]
          },
          "metadata": {
            "tags": []
          },
          "execution_count": 100
        }
      ]
    },
    {
      "cell_type": "code",
      "metadata": {
        "id": "zDprZDVQ9yYi",
        "colab_type": "code",
        "colab": {
          "base_uri": "https://localhost:8080/",
          "height": 700
        },
        "outputId": "affb010a-cc17-4ac5-e0e0-8b3c7dc21b3e"
      },
      "source": [
        "new_highest_20 = highest_20.drop(columns=['Country Code', 'Year'])\n",
        "new_highest_20\n"
      ],
      "execution_count": 101,
      "outputs": [
        {
          "output_type": "execute_result",
          "data": {
            "text/html": [
              "<div>\n",
              "<style scoped>\n",
              "    .dataframe tbody tr th:only-of-type {\n",
              "        vertical-align: middle;\n",
              "    }\n",
              "\n",
              "    .dataframe tbody tr th {\n",
              "        vertical-align: top;\n",
              "    }\n",
              "\n",
              "    .dataframe thead th {\n",
              "        text-align: right;\n",
              "    }\n",
              "</style>\n",
              "<table border=\"1\" class=\"dataframe\">\n",
              "  <thead>\n",
              "    <tr style=\"text-align: right;\">\n",
              "      <th></th>\n",
              "      <th>Value</th>\n",
              "    </tr>\n",
              "    <tr>\n",
              "      <th>Country Name</th>\n",
              "      <th></th>\n",
              "    </tr>\n",
              "  </thead>\n",
              "  <tbody>\n",
              "    <tr>\n",
              "      <th>China</th>\n",
              "      <td>51683990.3</td>\n",
              "    </tr>\n",
              "    <tr>\n",
              "      <th>United States of America</th>\n",
              "      <td>40750082.1</td>\n",
              "    </tr>\n",
              "    <tr>\n",
              "      <th>India</th>\n",
              "      <td>10724334.2</td>\n",
              "    </tr>\n",
              "    <tr>\n",
              "      <th>Russian Federation</th>\n",
              "      <td>10231903.0</td>\n",
              "    </tr>\n",
              "    <tr>\n",
              "      <th>Japan</th>\n",
              "      <td>9070602.0</td>\n",
              "    </tr>\n",
              "    <tr>\n",
              "      <th>Germany</th>\n",
              "      <td>4637264.1</td>\n",
              "    </tr>\n",
              "    <tr>\n",
              "      <th>United Kingdom</th>\n",
              "      <td>4084115.7</td>\n",
              "    </tr>\n",
              "    <tr>\n",
              "      <th>Canada</th>\n",
              "      <td>3950887.2</td>\n",
              "    </tr>\n",
              "    <tr>\n",
              "      <th>Iran (Islamic Republic of)</th>\n",
              "      <td>3495968.0</td>\n",
              "    </tr>\n",
              "    <tr>\n",
              "      <th>Republic of Korea</th>\n",
              "      <td>3428265.9</td>\n",
              "    </tr>\n",
              "    <tr>\n",
              "      <th>South Africa</th>\n",
              "      <td>3187679.4</td>\n",
              "    </tr>\n",
              "    <tr>\n",
              "      <th>Mexico</th>\n",
              "      <td>3183426.3</td>\n",
              "    </tr>\n",
              "    <tr>\n",
              "      <th>Saudi Arabia</th>\n",
              "      <td>3114350.5</td>\n",
              "    </tr>\n",
              "    <tr>\n",
              "      <th>Italy</th>\n",
              "      <td>3058924.7</td>\n",
              "    </tr>\n",
              "    <tr>\n",
              "      <th>France</th>\n",
              "      <td>2906011.9</td>\n",
              "    </tr>\n",
              "    <tr>\n",
              "      <th>Brazil</th>\n",
              "      <td>2861353.7</td>\n",
              "    </tr>\n",
              "    <tr>\n",
              "      <th>Indonesia</th>\n",
              "      <td>2762396.8</td>\n",
              "    </tr>\n",
              "    <tr>\n",
              "      <th>Poland</th>\n",
              "      <td>2672496.0</td>\n",
              "    </tr>\n",
              "    <tr>\n",
              "      <th>Australia</th>\n",
              "      <td>2561790.5</td>\n",
              "    </tr>\n",
              "    <tr>\n",
              "      <th>Spain</th>\n",
              "      <td>1984700.2</td>\n",
              "    </tr>\n",
              "  </tbody>\n",
              "</table>\n",
              "</div>"
            ],
            "text/plain": [
              "                                 Value\n",
              "Country Name                          \n",
              "China                       51683990.3\n",
              "United States of America    40750082.1\n",
              "India                       10724334.2\n",
              "Russian Federation          10231903.0\n",
              "Japan                        9070602.0\n",
              "Germany                      4637264.1\n",
              "United Kingdom               4084115.7\n",
              "Canada                       3950887.2\n",
              "Iran (Islamic Republic of)   3495968.0\n",
              "Republic of Korea            3428265.9\n",
              "South Africa                 3187679.4\n",
              "Mexico                       3183426.3\n",
              "Saudi Arabia                 3114350.5\n",
              "Italy                        3058924.7\n",
              "France                       2906011.9\n",
              "Brazil                       2861353.7\n",
              "Indonesia                    2762396.8\n",
              "Poland                       2672496.0\n",
              "Australia                    2561790.5\n",
              "Spain                        1984700.2"
            ]
          },
          "metadata": {
            "tags": []
          },
          "execution_count": 101
        }
      ]
    },
    {
      "cell_type": "code",
      "metadata": {
        "id": "2FQX5uxTXYGh",
        "colab_type": "code",
        "colab": {
          "base_uri": "https://localhost:8080/",
          "height": 450
        },
        "outputId": "a37addb3-14ae-4173-c440-919d3d37df1d"
      },
      "source": [
        "ind_countries = df[df[\"Country Name\"] != \"Total, all countries or areas\"]\n",
        "gb = ind_countries.groupby(\"Country Name\")\n",
        "# gb.first()\n",
        "lowest_200 = gb.sum().sort_values(by='Value', ascending=False)[20:225]\n",
        "lowest_200"
      ],
      "execution_count": 102,
      "outputs": [
        {
          "output_type": "execute_result",
          "data": {
            "text/html": [
              "<div>\n",
              "<style scoped>\n",
              "    .dataframe tbody tr th:only-of-type {\n",
              "        vertical-align: middle;\n",
              "    }\n",
              "\n",
              "    .dataframe tbody tr th {\n",
              "        vertical-align: top;\n",
              "    }\n",
              "\n",
              "    .dataframe thead th {\n",
              "        text-align: right;\n",
              "    }\n",
              "</style>\n",
              "<table border=\"1\" class=\"dataframe\">\n",
              "  <thead>\n",
              "    <tr style=\"text-align: right;\">\n",
              "      <th></th>\n",
              "      <th>Country Code</th>\n",
              "      <th>Year</th>\n",
              "      <th>Value</th>\n",
              "    </tr>\n",
              "    <tr>\n",
              "      <th>Country Name</th>\n",
              "      <th></th>\n",
              "      <th></th>\n",
              "      <th></th>\n",
              "    </tr>\n",
              "  </thead>\n",
              "  <tbody>\n",
              "    <tr>\n",
              "      <th>Turkey</th>\n",
              "      <td>12672</td>\n",
              "      <td>32018</td>\n",
              "      <td>1880124.6</td>\n",
              "    </tr>\n",
              "    <tr>\n",
              "      <th>Ukraine</th>\n",
              "      <td>9648</td>\n",
              "      <td>24098</td>\n",
              "      <td>1879469.1</td>\n",
              "    </tr>\n",
              "    <tr>\n",
              "      <th>Thailand</th>\n",
              "      <td>12224</td>\n",
              "      <td>32018</td>\n",
              "      <td>1676552.6</td>\n",
              "    </tr>\n",
              "    <tr>\n",
              "      <th>Netherlands</th>\n",
              "      <td>8448</td>\n",
              "      <td>32018</td>\n",
              "      <td>1355089.6</td>\n",
              "    </tr>\n",
              "    <tr>\n",
              "      <th>Kazakhstan</th>\n",
              "      <td>4776</td>\n",
              "      <td>24098</td>\n",
              "      <td>1349259.7</td>\n",
              "    </tr>\n",
              "    <tr>\n",
              "      <th>...</th>\n",
              "      <td>...</td>\n",
              "      <td>...</td>\n",
              "      <td>...</td>\n",
              "    </tr>\n",
              "    <tr>\n",
              "      <th>Liechtenstein</th>\n",
              "      <td>3504</td>\n",
              "      <td>16098</td>\n",
              "      <td>203.3</td>\n",
              "    </tr>\n",
              "    <tr>\n",
              "      <th>Wallis and Futuna Islands</th>\n",
              "      <td>8760</td>\n",
              "      <td>20108</td>\n",
              "      <td>137.0</td>\n",
              "    </tr>\n",
              "    <tr>\n",
              "      <th>Saint Helena</th>\n",
              "      <td>9156</td>\n",
              "      <td>28068</td>\n",
              "      <td>86.4</td>\n",
              "    </tr>\n",
              "    <tr>\n",
              "      <th>Niue</th>\n",
              "      <td>9120</td>\n",
              "      <td>32018</td>\n",
              "      <td>69.7</td>\n",
              "    </tr>\n",
              "    <tr>\n",
              "      <th>Tuvalu</th>\n",
              "      <td>4788</td>\n",
              "      <td>12049</td>\n",
              "      <td>58.0</td>\n",
              "    </tr>\n",
              "  </tbody>\n",
              "</table>\n",
              "<p>202 rows × 3 columns</p>\n",
              "</div>"
            ],
            "text/plain": [
              "                           Country Code   Year      Value\n",
              "Country Name                                             \n",
              "Turkey                            12672  32018  1880124.6\n",
              "Ukraine                            9648  24098  1879469.1\n",
              "Thailand                          12224  32018  1676552.6\n",
              "Netherlands                        8448  32018  1355089.6\n",
              "Kazakhstan                         4776  24098  1349259.7\n",
              "...                                 ...    ...        ...\n",
              "Liechtenstein                      3504  16098      203.3\n",
              "Wallis and Futuna Islands          8760  20108      137.0\n",
              "Saint Helena                       9156  28068       86.4\n",
              "Niue                               9120  32018       69.7\n",
              "Tuvalu                             4788  12049       58.0\n",
              "\n",
              "[202 rows x 3 columns]"
            ]
          },
          "metadata": {
            "tags": []
          },
          "execution_count": 102
        }
      ]
    },
    {
      "cell_type": "code",
      "metadata": {
        "id": "p7LxUJ2TX__E",
        "colab_type": "code",
        "colab": {
          "base_uri": "https://localhost:8080/",
          "height": 450
        },
        "outputId": "c5a6418c-ab58-4ec0-d76a-acc0609b5319"
      },
      "source": [
        "lowest_200 = lowest_200.drop(columns=['Country Code', 'Year'])\n",
        "lowest_200"
      ],
      "execution_count": 103,
      "outputs": [
        {
          "output_type": "execute_result",
          "data": {
            "text/html": [
              "<div>\n",
              "<style scoped>\n",
              "    .dataframe tbody tr th:only-of-type {\n",
              "        vertical-align: middle;\n",
              "    }\n",
              "\n",
              "    .dataframe tbody tr th {\n",
              "        vertical-align: top;\n",
              "    }\n",
              "\n",
              "    .dataframe thead th {\n",
              "        text-align: right;\n",
              "    }\n",
              "</style>\n",
              "<table border=\"1\" class=\"dataframe\">\n",
              "  <thead>\n",
              "    <tr style=\"text-align: right;\">\n",
              "      <th></th>\n",
              "      <th>Value</th>\n",
              "    </tr>\n",
              "    <tr>\n",
              "      <th>Country Name</th>\n",
              "      <th></th>\n",
              "    </tr>\n",
              "  </thead>\n",
              "  <tbody>\n",
              "    <tr>\n",
              "      <th>Turkey</th>\n",
              "      <td>1880124.6</td>\n",
              "    </tr>\n",
              "    <tr>\n",
              "      <th>Ukraine</th>\n",
              "      <td>1879469.1</td>\n",
              "    </tr>\n",
              "    <tr>\n",
              "      <th>Thailand</th>\n",
              "      <td>1676552.6</td>\n",
              "    </tr>\n",
              "    <tr>\n",
              "      <th>Netherlands</th>\n",
              "      <td>1355089.6</td>\n",
              "    </tr>\n",
              "    <tr>\n",
              "      <th>Kazakhstan</th>\n",
              "      <td>1349259.7</td>\n",
              "    </tr>\n",
              "    <tr>\n",
              "      <th>...</th>\n",
              "      <td>...</td>\n",
              "    </tr>\n",
              "    <tr>\n",
              "      <th>Liechtenstein</th>\n",
              "      <td>203.3</td>\n",
              "    </tr>\n",
              "    <tr>\n",
              "      <th>Wallis and Futuna Islands</th>\n",
              "      <td>137.0</td>\n",
              "    </tr>\n",
              "    <tr>\n",
              "      <th>Saint Helena</th>\n",
              "      <td>86.4</td>\n",
              "    </tr>\n",
              "    <tr>\n",
              "      <th>Niue</th>\n",
              "      <td>69.7</td>\n",
              "    </tr>\n",
              "    <tr>\n",
              "      <th>Tuvalu</th>\n",
              "      <td>58.0</td>\n",
              "    </tr>\n",
              "  </tbody>\n",
              "</table>\n",
              "<p>202 rows × 1 columns</p>\n",
              "</div>"
            ],
            "text/plain": [
              "                               Value\n",
              "Country Name                        \n",
              "Turkey                     1880124.6\n",
              "Ukraine                    1879469.1\n",
              "Thailand                   1676552.6\n",
              "Netherlands                1355089.6\n",
              "Kazakhstan                 1349259.7\n",
              "...                              ...\n",
              "Liechtenstein                  203.3\n",
              "Wallis and Futuna Islands      137.0\n",
              "Saint Helena                    86.4\n",
              "Niue                            69.7\n",
              "Tuvalu                          58.0\n",
              "\n",
              "[202 rows x 1 columns]"
            ]
          },
          "metadata": {
            "tags": []
          },
          "execution_count": 103
        }
      ]
    },
    {
      "cell_type": "code",
      "metadata": {
        "id": "UEGNFtgRYaDY",
        "colab_type": "code",
        "colab": {
          "base_uri": "https://localhost:8080/",
          "height": 51
        },
        "outputId": "4d1315fb-fb0c-444a-c1de-0172c453cbd8"
      },
      "source": [
        "lowest_200.dtypes"
      ],
      "execution_count": 104,
      "outputs": [
        {
          "output_type": "execute_result",
          "data": {
            "text/plain": [
              "Value    float64\n",
              "dtype: object"
            ]
          },
          "metadata": {
            "tags": []
          },
          "execution_count": 104
        }
      ]
    },
    {
      "cell_type": "code",
      "metadata": {
        "id": "vA2nTUtEYsrX",
        "colab_type": "code",
        "colab": {}
      },
      "source": [
        "lowest_200 = lowest_200.reset_index()"
      ],
      "execution_count": 0,
      "outputs": []
    },
    {
      "cell_type": "code",
      "metadata": {
        "id": "x7vU3lZFY9We",
        "colab_type": "code",
        "colab": {
          "base_uri": "https://localhost:8080/",
          "height": 34
        },
        "outputId": "bff244d4-a4b3-483f-9c7c-168a53fb263d"
      },
      "source": [
        "lowest_200.Value.sum()"
      ],
      "execution_count": 106,
      "outputs": [
        {
          "output_type": "execute_result",
          "data": {
            "text/plain": [
              "38680968.699999996"
            ]
          },
          "metadata": {
            "tags": []
          },
          "execution_count": 106
        }
      ]
    },
    {
      "cell_type": "code",
      "metadata": {
        "id": "hd-iIxwnh6qU",
        "colab_type": "code",
        "colab": {
          "base_uri": "https://localhost:8080/",
          "height": 34
        },
        "outputId": "b78f82e5-930c-4f7b-d945-2bf4cfc024d6"
      },
      "source": [
        "new_highest_20.Value.mean()"
      ],
      "execution_count": 107,
      "outputs": [
        {
          "output_type": "execute_result",
          "data": {
            "text/plain": [
              "8517527.125"
            ]
          },
          "metadata": {
            "tags": []
          },
          "execution_count": 107
        }
      ]
    },
    {
      "cell_type": "code",
      "metadata": {
        "id": "gF7XDbv_iNqe",
        "colab_type": "code",
        "colab": {
          "base_uri": "https://localhost:8080/",
          "height": 34
        },
        "outputId": "903201ba-b9e8-4e6d-c0c1-ead5ecd01638"
      },
      "source": [
        "df2.Value.mean()"
      ],
      "execution_count": 108,
      "outputs": [
        {
          "output_type": "execute_result",
          "data": {
            "text/plain": [
              "132792.86901451123"
            ]
          },
          "metadata": {
            "tags": []
          },
          "execution_count": 108
        }
      ]
    },
    {
      "cell_type": "code",
      "metadata": {
        "id": "7J1K2oJFiv2K",
        "colab_type": "code",
        "colab": {
          "base_uri": "https://localhost:8080/",
          "height": 34
        },
        "outputId": "3917f2bb-fc06-403c-dfea-2510c074e21c"
      },
      "source": [
        "new_highest_20.Value.sum()"
      ],
      "execution_count": 109,
      "outputs": [
        {
          "output_type": "execute_result",
          "data": {
            "text/plain": [
              "170350542.5"
            ]
          },
          "metadata": {
            "tags": []
          },
          "execution_count": 109
        }
      ]
    },
    {
      "cell_type": "code",
      "metadata": {
        "id": "PkIBnDZ8i89C",
        "colab_type": "code",
        "colab": {
          "base_uri": "https://localhost:8080/",
          "height": 34
        },
        "outputId": "28e4b664-9615-47be-8029-2ab445fb6aba"
      },
      "source": [
        "df2.Value.sum()"
      ],
      "execution_count": 110,
      "outputs": [
        {
          "output_type": "execute_result",
          "data": {
            "text/plain": [
              "439278810.6999999"
            ]
          },
          "metadata": {
            "tags": []
          },
          "execution_count": 110
        }
      ]
    },
    {
      "cell_type": "code",
      "metadata": {
        "id": "6TmfTMhzNSkx",
        "colab_type": "code",
        "colab": {}
      },
      "source": [
        "new_highest_20 = new_highest_20.reset_index()"
      ],
      "execution_count": 0,
      "outputs": []
    },
    {
      "cell_type": "code",
      "metadata": {
        "id": "jBjeYWcOO13v",
        "colab_type": "code",
        "colab": {
          "base_uri": "https://localhost:8080/",
          "height": 68
        },
        "outputId": "d0b04162-9019-4406-c62b-f6c22a6b060a"
      },
      "source": [
        "new_highest_20.isna().sum()\n"
      ],
      "execution_count": 112,
      "outputs": [
        {
          "output_type": "execute_result",
          "data": {
            "text/plain": [
              "Country Name    0\n",
              "Value           0\n",
              "dtype: int64"
            ]
          },
          "metadata": {
            "tags": []
          },
          "execution_count": 112
        }
      ]
    },
    {
      "cell_type": "code",
      "metadata": {
        "id": "lU35F1hrPl-8",
        "colab_type": "code",
        "colab": {
          "base_uri": "https://localhost:8080/",
          "height": 366
        },
        "outputId": "ec3940b2-fc70-485f-e77e-0a2409295d69"
      },
      "source": [
        "y = new_highest_20.Value\n",
        "\n",
        "\n",
        "ax = sns.barplot(x='Value', y='Country Name', data=new_highest_20)\n",
        "plt.gcf().set_size_inches(14,5)\n",
        "ax.set_title('Top 20 CO2 Emission Producing Countries', x=.162, y=1.06)\n",
        "ax.text(s='Total CO2 Emission between 1975 - 2014', x=0, y=-1)\n",
        "ax.set(xlabel='CO2 Emission Per Thousand Metric Tons', ylabel='Country')\n",
        "ax.set_xticklabels(['0', '1000', '2000', '3000', '4000', '5000'], rotation='horizontal')\n",
        "#plt.show()\n",
        "for i, v in enumerate(y):\n",
        "    ax.text(v, i, str(v), color='steelblue', fontsize=6, fontweight='bold')\n"
      ],
      "execution_count": 124,
      "outputs": [
        {
          "output_type": "display_data",
          "data": {
            "image/png": "[encoded data removed]",
            "text/plain": [
              "<Figure size 1008x360 with 1 Axes>"
            ]
          },
          "metadata": {
            "tags": []
          }
        }
      ]
    },
    {
      "cell_type": "code",
      "metadata": {
        "id": "IljqBWBiKUtB",
        "colab_type": "code",
        "colab": {
          "base_uri": "https://localhost:8080/",
          "height": 80
        },
        "outputId": "c47b712b-f0e2-4631-bf83-ce445fad561b"
      },
      "source": [
        "sum_of_top20 = new_highest_20.Value.sum()\n",
        "sum_of_rest_world = lowest_200.Value.sum()\n",
        "sum_of_world = (sum_of_top20 + sum_of_rest_world)\n",
        "\n",
        "Co_comparison = {'Top_20_Countries':[sum_of_top20],\n",
        "                 'Rest_of_world': [sum_of_rest_world],\n",
        "                 'Total_world_CO2_Emission': [sum_of_world]}\n",
        "\n",
        "df3 = pd.DataFrame(Co_comparison, columns= ['Top_20_Countries', 'Rest_of_world'])\n",
        "df4 = pd.DataFrame(Co_comparison, columns= ['Top_20_Countries', 'Rest_of_world', 'Total_world_CO2_Emission'])\n",
        "df3.head()\n",
        "\n",
        "\n"
      ],
      "execution_count": 114,
      "outputs": [
        {
          "output_type": "execute_result",
          "data": {
            "text/html": [
              "<div>\n",
              "<style scoped>\n",
              "    .dataframe tbody tr th:only-of-type {\n",
              "        vertical-align: middle;\n",
              "    }\n",
              "\n",
              "    .dataframe tbody tr th {\n",
              "        vertical-align: top;\n",
              "    }\n",
              "\n",
              "    .dataframe thead th {\n",
              "        text-align: right;\n",
              "    }\n",
              "</style>\n",
              "<table border=\"1\" class=\"dataframe\">\n",
              "  <thead>\n",
              "    <tr style=\"text-align: right;\">\n",
              "      <th></th>\n",
              "      <th>Top_20_Countries</th>\n",
              "      <th>Rest_of_world</th>\n",
              "    </tr>\n",
              "  </thead>\n",
              "  <tbody>\n",
              "    <tr>\n",
              "      <th>0</th>\n",
              "      <td>170350542.5</td>\n",
              "      <td>38680968.7</td>\n",
              "    </tr>\n",
              "  </tbody>\n",
              "</table>\n",
              "</div>"
            ],
            "text/plain": [
              "   Top_20_Countries  Rest_of_world\n",
              "0       170350542.5     38680968.7"
            ]
          },
          "metadata": {
            "tags": []
          },
          "execution_count": 114
        }
      ]
    },
    {
      "cell_type": "code",
      "metadata": {
        "id": "aOQqwYx4Vw9l",
        "colab_type": "code",
        "colab": {
          "base_uri": "https://localhost:8080/",
          "height": 80
        },
        "outputId": "556be253-2123-4690-c856-3ecbbd7b768b"
      },
      "source": [
        "df4.head()"
      ],
      "execution_count": 115,
      "outputs": [
        {
          "output_type": "execute_result",
          "data": {
            "text/html": [
              "<div>\n",
              "<style scoped>\n",
              "    .dataframe tbody tr th:only-of-type {\n",
              "        vertical-align: middle;\n",
              "    }\n",
              "\n",
              "    .dataframe tbody tr th {\n",
              "        vertical-align: top;\n",
              "    }\n",
              "\n",
              "    .dataframe thead th {\n",
              "        text-align: right;\n",
              "    }\n",
              "</style>\n",
              "<table border=\"1\" class=\"dataframe\">\n",
              "  <thead>\n",
              "    <tr style=\"text-align: right;\">\n",
              "      <th></th>\n",
              "      <th>Top_20_Countries</th>\n",
              "      <th>Rest_of_world</th>\n",
              "      <th>Total_world_CO2_Emission</th>\n",
              "    </tr>\n",
              "  </thead>\n",
              "  <tbody>\n",
              "    <tr>\n",
              "      <th>0</th>\n",
              "      <td>170350542.5</td>\n",
              "      <td>38680968.7</td>\n",
              "      <td>209031511.2</td>\n",
              "    </tr>\n",
              "  </tbody>\n",
              "</table>\n",
              "</div>"
            ],
            "text/plain": [
              "   Top_20_Countries  Rest_of_world  Total_world_CO2_Emission\n",
              "0       170350542.5     38680968.7               209031511.2"
            ]
          },
          "metadata": {
            "tags": []
          },
          "execution_count": 115
        }
      ]
    },
    {
      "cell_type": "code",
      "metadata": {
        "id": "far2feR7OFV4",
        "colab_type": "code",
        "colab": {
          "base_uri": "https://localhost:8080/",
          "height": 264
        },
        "outputId": "76f76659-fb6b-4ca0-8266-b3acd7ccf0b3"
      },
      "source": [
        "sizes = [81.5, 18.5]\n",
        "labels = 'Top 20 Countries', 'The Rest of the World'\n",
        "explode = (0.1, 0)\n",
        "fig1, df3 = plt.subplots()\n",
        "colors = ['lightblue', 'lightsteelblue']\n",
        "df3.set_title('CO2 Emission between Top 20 Developed Countries & The Rest of the World', fontweight='bold')\n",
        "df3.text(s='Total CO2 Emission between 1975 - 2014', x=-2.67, y=1.09)\n",
        "df3.pie(sizes, explode=explode, labels=labels, colors=colors, shadow=True, autopct='%1.1f%%')\n",
        "df3.axis('equal')\n",
        "plt.show()"
      ],
      "execution_count": 116,
      "outputs": [
        {
          "output_type": "display_data",
          "data": {
            "image/png": "[encoded data removed]",
            "text/plain": [
              "<Figure size 432x288 with 1 Axes>"
            ]
          },
          "metadata": {
            "tags": []
          }
        }
      ]
    },
    {
      "cell_type": "code",
      "metadata": {
        "id": "_oJUQoz0OQjE",
        "colab_type": "code",
        "colab": {}
      },
      "source": [
        ""
      ],
      "execution_count": 0,
      "outputs": []
    }
  ]
}