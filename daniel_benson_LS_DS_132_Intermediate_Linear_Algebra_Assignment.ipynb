{
  "nbformat": 4,
  "nbformat_minor": 0,
  "metadata": {
    "colab": {
      "name": "daniel_benson_LS_DS_132_Intermediate_Linear_Algebra_Assignment.ipynb",
      "provenance": [],
      "collapsed_sections": [],
      "include_colab_link": true
    },
    "kernelspec": {
      "name": "python3",
      "display_name": "Python 3"
    }
  },
  "cells": [
    {
      "cell_type": "markdown",
      "metadata": {
        "id": "view-in-github",
        "colab_type": "text"
      },
      "source": [
        "<a href=\"https://colab.research.google.com/github/Daniel-Benson-Poe/DS-Unit-1-Sprint-1-Data-Wrangling-and-Storytelling/blob/master/daniel_benson_LS_DS_132_Intermediate_Linear_Algebra_Assignment.ipynb\" target=\"_parent\"><img src=\"https://colab.research.google.com/assets/colab-badge.svg\" alt=\"Open In Colab\"/></a>"
      ]
    },
    {
      "cell_type": "markdown",
      "metadata": {
        "id": "GSNiYn8lr6nN",
        "colab_type": "text"
      },
      "source": [
        "# Statistics"
      ]
    },
    {
      "cell_type": "markdown",
      "metadata": {
        "id": "3d4izUhQvh2_",
        "colab_type": "text"
      },
      "source": [
        "## 1.1 Sales for the past week was the following amounts: [3505, 2400, 3027, 2798, 3700, 3250, 2689]. Without using library functions, what is the mean, variance, and standard deviation of of sales from last week? (for extra bonus points, write your own function that can calculate these two values for any sized list)"
      ]
    },
    {
      "cell_type": "code",
      "metadata": {
        "id": "w1iZfYvBtEA1",
        "colab_type": "code",
        "colab": {}
      },
      "source": [
        "# First create our sales list\n",
        "sales = [3505, 2400, 3027, 2798, 3700, 3250, 2689]\n"
      ],
      "execution_count": 0,
      "outputs": []
    },
    {
      "cell_type": "code",
      "metadata": {
        "id": "IjDjvXoWVq9u",
        "colab_type": "code",
        "colab": {}
      },
      "source": [
        "# Create our function for mean, variance, and standard deviation\n",
        "def mean(list):\n",
        "  return (sum(list)/len(list))\n",
        "\n",
        "def variance(mean, list):\n",
        "  distance_list = []\n",
        "  squared_dist = []\n",
        "  for num in list:\n",
        "    distance_list.append(num-mean)\n",
        "  for num in distance_list:\n",
        "    squared_dist.append(num**2)\n",
        "  observations = len(squared_dist)\n",
        "  variance_list = sum(squared_dist)/observations\n",
        "  return variance_list\n",
        "\n",
        "def stand_dev(var_list):\n",
        "  std = var_list**(.5)\n",
        "  return std\n",
        "\n"
      ],
      "execution_count": 0,
      "outputs": []
    },
    {
      "cell_type": "code",
      "metadata": {
        "id": "yrukPlBdWPgP",
        "colab_type": "code",
        "colab": {}
      },
      "source": [
        "# Let's check that this worked using the example from lecture\n",
        "widgets = [451, 330, 570, 390, 410]"
      ],
      "execution_count": 0,
      "outputs": []
    },
    {
      "cell_type": "code",
      "metadata": {
        "id": "F3v-3-mneO4p",
        "colab_type": "code",
        "outputId": "345b9a58-9ae6-4806-f5a7-d4d3d0eaf3d2",
        "colab": {
          "base_uri": "https://localhost:8080/",
          "height": 34
        }
      },
      "source": [
        "widget_mean = mean(widgets)\n",
        "'{:.2f}'.format(widget_mean)"
      ],
      "execution_count": 0,
      "outputs": [
        {
          "output_type": "execute_result",
          "data": {
            "text/plain": [
              "'430.20'"
            ]
          },
          "metadata": {
            "tags": []
          },
          "execution_count": 4
        }
      ]
    },
    {
      "cell_type": "code",
      "metadata": {
        "id": "xXK5aZOFeSlp",
        "colab_type": "code",
        "outputId": "7ef5da51-833a-4520-c159-3dc1f8f45679",
        "colab": {
          "base_uri": "https://localhost:8080/",
          "height": 34
        }
      },
      "source": [
        "widget_var = variance(widget_mean, widgets)\n",
        "'{:.2f}'.format(widget_var)"
      ],
      "execution_count": 0,
      "outputs": [
        {
          "output_type": "execute_result",
          "data": {
            "text/plain": [
              "'6408.16'"
            ]
          },
          "metadata": {
            "tags": []
          },
          "execution_count": 5
        }
      ]
    },
    {
      "cell_type": "code",
      "metadata": {
        "id": "EDJYTybiiY_X",
        "colab_type": "code",
        "outputId": "3b9a2ac2-6561-47e4-d7ea-ae1972f5a689",
        "colab": {
          "base_uri": "https://localhost:8080/",
          "height": 34
        }
      },
      "source": [
        "widget_std = stand_dev(widget_var)\n",
        "'{:.2f}'.format(widget_std)"
      ],
      "execution_count": 0,
      "outputs": [
        {
          "output_type": "execute_result",
          "data": {
            "text/plain": [
              "'80.05'"
            ]
          },
          "metadata": {
            "tags": []
          },
          "execution_count": 6
        }
      ]
    },
    {
      "cell_type": "code",
      "metadata": {
        "id": "Je-oUk_Mjma0",
        "colab_type": "code",
        "outputId": "0636355a-48c4-4d42-f146-f584c3365be5",
        "colab": {
          "base_uri": "https://localhost:8080/",
          "height": 68
        }
      },
      "source": [
        "# It works! Let's use it on our list now.\n",
        "sales_mean = mean(sales)\n",
        "sales_variance = variance(sales_mean, sales)\n",
        "sales_std = stand_dev(sales_variance)\n",
        "print(\"Mean: \", '{:.2f}'.format(sales_mean))\n",
        "print(\"Variance: \", '{:.2f}'.format(sales_variance))\n",
        "print(\"Standard Deviation: \", '{:.2f}'.format(sales_std))"
      ],
      "execution_count": 0,
      "outputs": [
        {
          "output_type": "stream",
          "text": [
            "Mean:  3052.71\n",
            "Variance:  183761.06\n",
            "Standard Deviation:  428.67\n"
          ],
          "name": "stdout"
        }
      ]
    },
    {
      "cell_type": "markdown",
      "metadata": {
        "id": "oh63KaOctEp_",
        "colab_type": "text"
      },
      "source": [
        "## 1.2 Find the covariance between last week's sales numbers and the number of customers that entered the store last week: [127, 80, 105, 92, 120, 115, 93] (you may use librray functions for calculating the covariance since we didn't specifically talk about its formula)"
      ]
    },
    {
      "cell_type": "code",
      "metadata": {
        "id": "mLVjgxIgky5i",
        "colab_type": "code",
        "colab": {}
      },
      "source": [
        "# Imports\n",
        "import numpy as np\n",
        "import pandas as pd"
      ],
      "execution_count": 0,
      "outputs": []
    },
    {
      "cell_type": "code",
      "metadata": {
        "id": "G7ZB0krot564",
        "colab_type": "code",
        "colab": {}
      },
      "source": [
        "# Let's make our visited customers list\n",
        "num_customers = [127, 80, 105, 92, 120, 115, 93]"
      ],
      "execution_count": 0,
      "outputs": []
    },
    {
      "cell_type": "code",
      "metadata": {
        "id": "0TaN7giAkq17",
        "colab_type": "code",
        "outputId": "5e56106c-6fc3-412b-d049-4c7f3ef5e8e3",
        "colab": {
          "base_uri": "https://localhost:8080/",
          "height": 34
        }
      },
      "source": [
        "sales_cust_covar = np.cov(sales, num_customers)[0][1]\n",
        "print('{:.2f}'.format(sales_cust_covar))"
      ],
      "execution_count": 0,
      "outputs": [
        {
          "output_type": "stream",
          "text": [
            "7604.36\n"
          ],
          "name": "stdout"
        }
      ]
    },
    {
      "cell_type": "code",
      "metadata": {
        "id": "yoH5tiQcsY0q",
        "colab_type": "code",
        "outputId": "8a4bf81f-3de2-4e7c-8c1c-4ff55c4e137a",
        "colab": {
          "base_uri": "https://localhost:8080/",
          "height": 51
        }
      },
      "source": [
        "np.cov(sales, num_customers)"
      ],
      "execution_count": 0,
      "outputs": [
        {
          "output_type": "execute_result",
          "data": {
            "text/plain": [
              "array([[214387.9047619 ,   7604.35714286],\n",
              "       [  7604.35714286,    290.95238095]])"
            ]
          },
          "metadata": {
            "tags": []
          },
          "execution_count": 11
        }
      ]
    },
    {
      "cell_type": "markdown",
      "metadata": {
        "id": "J9SbUY9mt66I",
        "colab_type": "text"
      },
      "source": [
        "## 1.3 Find the standard deviation of customers who entered the store last week. Then, use the standard deviations of both sales and customers to standardize the covariance to find the correlation coefficient that summarizes the relationship between sales and customers. (You may use library functions to check your work.)"
      ]
    },
    {
      "cell_type": "code",
      "metadata": {
        "id": "vFJms2YRrKhY",
        "colab_type": "code",
        "outputId": "ad1c0544-04ee-4c87-96d5-31caf08283d4",
        "colab": {
          "base_uri": "https://localhost:8080/",
          "height": 51
        }
      },
      "source": [
        "# First find the std of number customers\n",
        "num_cust_mean = mean(num_customers)\n",
        "num_cust_var = variance(num_cust_mean, num_customers)\n",
        "num_cust_std = stand_dev(num_cust_var)\n",
        "print(num_cust_std)\n",
        "# Check that against library function\n",
        "np.std(num_customers)"
      ],
      "execution_count": 0,
      "outputs": [
        {
          "output_type": "stream",
          "text": [
            "15.792015549069118\n"
          ],
          "name": "stdout"
        },
        {
          "output_type": "execute_result",
          "data": {
            "text/plain": [
              "15.792015549069118"
            ]
          },
          "metadata": {
            "tags": []
          },
          "execution_count": 12
        }
      ]
    },
    {
      "cell_type": "code",
      "metadata": {
        "id": "Ys4W8NzsmOEu",
        "colab_type": "code",
        "colab": {}
      },
      "source": [
        "# Create a function that calculates correlation coefficient\n",
        "def corr_coef(std1, std2, covar):\n",
        "  return covar / (std1*std2)\n"
      ],
      "execution_count": 0,
      "outputs": []
    },
    {
      "cell_type": "code",
      "metadata": {
        "id": "t9C9KJlXn6Ub",
        "colab_type": "code",
        "outputId": "fb553c65-9f72-4629-b49f-78e9db721c05",
        "colab": {
          "base_uri": "https://localhost:8080/",
          "height": 34
        }
      },
      "source": [
        "# Now calculate the correlation coefficient!\n",
        "corr_coefficient = corr_coef(sales_std, num_cust_std, sales_cust_covar)\n",
        "print('{:.6f}'.format(corr_coefficient))"
      ],
      "execution_count": 0,
      "outputs": [
        {
          "output_type": "stream",
          "text": [
            "1.123306\n"
          ],
          "name": "stdout"
        }
      ]
    },
    {
      "cell_type": "code",
      "metadata": {
        "id": "P_bNXyCvrhNM",
        "colab_type": "code",
        "outputId": "1ca854b3-caf5-4121-c13e-4bbe026ed35b",
        "colab": {
          "base_uri": "https://localhost:8080/",
          "height": 51
        }
      },
      "source": [
        "np.corrcoef(sales, num_customers)"
      ],
      "execution_count": 0,
      "outputs": [
        {
          "output_type": "execute_result",
          "data": {
            "text/plain": [
              "array([[1.        , 0.96283398],\n",
              "       [0.96283398, 1.        ]])"
            ]
          },
          "metadata": {
            "tags": []
          },
          "execution_count": 15
        }
      ]
    },
    {
      "cell_type": "markdown",
      "metadata": {
        "id": "IbZVf7nmujPJ",
        "colab_type": "text"
      },
      "source": [
        "## 1.4 Use pandas to import a cleaned version of the titanic dataset from the following link: [Titanic Dataset](https://raw.githubusercontent.com/Geoyi/Cleaning-Titanic-Data/master/titanic_clean.csv)\n",
        "\n",
        "## Calculate the variance-covariance matrix and correlation matrix for the titanic dataset's numeric columns. (you can encode some of the categorical variables and include them as a stretch goal if you finish early)"
      ]
    },
    {
      "cell_type": "code",
      "metadata": {
        "id": "0TWgUIiaCFzq",
        "colab_type": "code",
        "outputId": "fc64d14c-8929-4b84-ca33-95d4bf3bf48f",
        "colab": {
          "base_uri": "https://localhost:8080/",
          "height": 425
        }
      },
      "source": [
        "# Read in the dataset, removing the index column\n",
        "titanic_df = pd.read_csv(\"https://raw.githubusercontent.com/Geoyi/Cleaning-Titanic-Data/master/titanic_clean.csv\", index_col=0)\n",
        "titanic_df.head()"
      ],
      "execution_count": 0,
      "outputs": [
        {
          "output_type": "execute_result",
          "data": {
            "text/html": [
              "<div>\n",
              "<style scoped>\n",
              "    .dataframe tbody tr th:only-of-type {\n",
              "        vertical-align: middle;\n",
              "    }\n",
              "\n",
              "    .dataframe tbody tr th {\n",
              "        vertical-align: top;\n",
              "    }\n",
              "\n",
              "    .dataframe thead th {\n",
              "        text-align: right;\n",
              "    }\n",
              "</style>\n",
              "<table border=\"1\" class=\"dataframe\">\n",
              "  <thead>\n",
              "    <tr style=\"text-align: right;\">\n",
              "      <th></th>\n",
              "      <th>pclass</th>\n",
              "      <th>survived</th>\n",
              "      <th>name</th>\n",
              "      <th>sex</th>\n",
              "      <th>age</th>\n",
              "      <th>sibsp</th>\n",
              "      <th>parch</th>\n",
              "      <th>ticket</th>\n",
              "      <th>fare</th>\n",
              "      <th>cabin</th>\n",
              "      <th>embarked</th>\n",
              "      <th>boat</th>\n",
              "      <th>body</th>\n",
              "      <th>home.dest</th>\n",
              "      <th>has_cabin_number</th>\n",
              "    </tr>\n",
              "  </thead>\n",
              "  <tbody>\n",
              "    <tr>\n",
              "      <th>1</th>\n",
              "      <td>1.0</td>\n",
              "      <td>1.0</td>\n",
              "      <td>Allen, Miss. Elisabeth Walton</td>\n",
              "      <td>female</td>\n",
              "      <td>29.0000</td>\n",
              "      <td>0.0</td>\n",
              "      <td>0.0</td>\n",
              "      <td>24160</td>\n",
              "      <td>211.3375</td>\n",
              "      <td>B5</td>\n",
              "      <td>S</td>\n",
              "      <td>2</td>\n",
              "      <td>NaN</td>\n",
              "      <td>St Louis, MO</td>\n",
              "      <td>1</td>\n",
              "    </tr>\n",
              "    <tr>\n",
              "      <th>2</th>\n",
              "      <td>1.0</td>\n",
              "      <td>1.0</td>\n",
              "      <td>Allison, Master. Hudson Trevor</td>\n",
              "      <td>male</td>\n",
              "      <td>0.9167</td>\n",
              "      <td>1.0</td>\n",
              "      <td>2.0</td>\n",
              "      <td>113781</td>\n",
              "      <td>151.5500</td>\n",
              "      <td>C22 C26</td>\n",
              "      <td>S</td>\n",
              "      <td>11</td>\n",
              "      <td>NaN</td>\n",
              "      <td>Montreal, PQ / Chesterville, ON</td>\n",
              "      <td>1</td>\n",
              "    </tr>\n",
              "    <tr>\n",
              "      <th>3</th>\n",
              "      <td>1.0</td>\n",
              "      <td>0.0</td>\n",
              "      <td>Allison, Miss. Helen Loraine</td>\n",
              "      <td>female</td>\n",
              "      <td>2.0000</td>\n",
              "      <td>1.0</td>\n",
              "      <td>2.0</td>\n",
              "      <td>113781</td>\n",
              "      <td>151.5500</td>\n",
              "      <td>C22 C26</td>\n",
              "      <td>S</td>\n",
              "      <td>NaN</td>\n",
              "      <td>NaN</td>\n",
              "      <td>Montreal, PQ / Chesterville, ON</td>\n",
              "      <td>1</td>\n",
              "    </tr>\n",
              "    <tr>\n",
              "      <th>4</th>\n",
              "      <td>1.0</td>\n",
              "      <td>0.0</td>\n",
              "      <td>Allison, Mr. Hudson Joshua Creighton</td>\n",
              "      <td>male</td>\n",
              "      <td>30.0000</td>\n",
              "      <td>1.0</td>\n",
              "      <td>2.0</td>\n",
              "      <td>113781</td>\n",
              "      <td>151.5500</td>\n",
              "      <td>C22 C26</td>\n",
              "      <td>S</td>\n",
              "      <td>NaN</td>\n",
              "      <td>135.0</td>\n",
              "      <td>Montreal, PQ / Chesterville, ON</td>\n",
              "      <td>1</td>\n",
              "    </tr>\n",
              "    <tr>\n",
              "      <th>5</th>\n",
              "      <td>1.0</td>\n",
              "      <td>0.0</td>\n",
              "      <td>Allison, Mrs. Hudson J C (Bessie Waldo Daniels)</td>\n",
              "      <td>female</td>\n",
              "      <td>25.0000</td>\n",
              "      <td>1.0</td>\n",
              "      <td>2.0</td>\n",
              "      <td>113781</td>\n",
              "      <td>151.5500</td>\n",
              "      <td>C22 C26</td>\n",
              "      <td>S</td>\n",
              "      <td>NaN</td>\n",
              "      <td>NaN</td>\n",
              "      <td>Montreal, PQ / Chesterville, ON</td>\n",
              "      <td>1</td>\n",
              "    </tr>\n",
              "  </tbody>\n",
              "</table>\n",
              "</div>"
            ],
            "text/plain": [
              "   pclass  survived  ...                        home.dest has_cabin_number\n",
              "1     1.0       1.0  ...                     St Louis, MO                1\n",
              "2     1.0       1.0  ...  Montreal, PQ / Chesterville, ON                1\n",
              "3     1.0       0.0  ...  Montreal, PQ / Chesterville, ON                1\n",
              "4     1.0       0.0  ...  Montreal, PQ / Chesterville, ON                1\n",
              "5     1.0       0.0  ...  Montreal, PQ / Chesterville, ON                1\n",
              "\n",
              "[5 rows x 15 columns]"
            ]
          },
          "metadata": {
            "tags": []
          },
          "execution_count": 16
        }
      ]
    },
    {
      "cell_type": "code",
      "metadata": {
        "id": "1XE8U0K8Vy_u",
        "colab_type": "code",
        "outputId": "55c30fa9-0d33-46c6-b939-141210855030",
        "colab": {
          "base_uri": "https://localhost:8080/",
          "height": 297
        }
      },
      "source": [
        "# Calculate the covariance of the entire set\n",
        "titanic_df.cov()"
      ],
      "execution_count": 0,
      "outputs": [
        {
          "output_type": "execute_result",
          "data": {
            "text/html": [
              "<div>\n",
              "<style scoped>\n",
              "    .dataframe tbody tr th:only-of-type {\n",
              "        vertical-align: middle;\n",
              "    }\n",
              "\n",
              "    .dataframe tbody tr th {\n",
              "        vertical-align: top;\n",
              "    }\n",
              "\n",
              "    .dataframe thead th {\n",
              "        text-align: right;\n",
              "    }\n",
              "</style>\n",
              "<table border=\"1\" class=\"dataframe\">\n",
              "  <thead>\n",
              "    <tr style=\"text-align: right;\">\n",
              "      <th></th>\n",
              "      <th>pclass</th>\n",
              "      <th>survived</th>\n",
              "      <th>age</th>\n",
              "      <th>sibsp</th>\n",
              "      <th>parch</th>\n",
              "      <th>fare</th>\n",
              "      <th>body</th>\n",
              "      <th>has_cabin_number</th>\n",
              "    </tr>\n",
              "  </thead>\n",
              "  <tbody>\n",
              "    <tr>\n",
              "      <th>pclass</th>\n",
              "      <td>0.701969</td>\n",
              "      <td>-0.127248</td>\n",
              "      <td>-3.954605</td>\n",
              "      <td>0.053090</td>\n",
              "      <td>0.013287</td>\n",
              "      <td>-24.227788</td>\n",
              "      <td>-2.876653</td>\n",
              "      <td>-0.249992</td>\n",
              "    </tr>\n",
              "    <tr>\n",
              "      <th>survived</th>\n",
              "      <td>-0.127248</td>\n",
              "      <td>0.236250</td>\n",
              "      <td>-0.314343</td>\n",
              "      <td>-0.014088</td>\n",
              "      <td>0.034776</td>\n",
              "      <td>6.146023</td>\n",
              "      <td>0.000000</td>\n",
              "      <td>0.061406</td>\n",
              "    </tr>\n",
              "    <tr>\n",
              "      <th>age</th>\n",
              "      <td>-3.954605</td>\n",
              "      <td>-0.314343</td>\n",
              "      <td>165.850021</td>\n",
              "      <td>-2.559806</td>\n",
              "      <td>-1.459378</td>\n",
              "      <td>114.416613</td>\n",
              "      <td>81.622922</td>\n",
              "      <td>1.463138</td>\n",
              "    </tr>\n",
              "    <tr>\n",
              "      <th>sibsp</th>\n",
              "      <td>0.053090</td>\n",
              "      <td>-0.014088</td>\n",
              "      <td>-2.559806</td>\n",
              "      <td>1.085052</td>\n",
              "      <td>0.336833</td>\n",
              "      <td>8.641768</td>\n",
              "      <td>-8.708471</td>\n",
              "      <td>-0.003946</td>\n",
              "    </tr>\n",
              "    <tr>\n",
              "      <th>parch</th>\n",
              "      <td>0.013287</td>\n",
              "      <td>0.034776</td>\n",
              "      <td>-1.459378</td>\n",
              "      <td>0.336833</td>\n",
              "      <td>0.749195</td>\n",
              "      <td>9.928031</td>\n",
              "      <td>4.237190</td>\n",
              "      <td>0.013316</td>\n",
              "    </tr>\n",
              "    <tr>\n",
              "      <th>fare</th>\n",
              "      <td>-24.227788</td>\n",
              "      <td>6.146023</td>\n",
              "      <td>114.416613</td>\n",
              "      <td>8.641768</td>\n",
              "      <td>9.928031</td>\n",
              "      <td>2678.959738</td>\n",
              "      <td>-179.164684</td>\n",
              "      <td>10.976961</td>\n",
              "    </tr>\n",
              "    <tr>\n",
              "      <th>body</th>\n",
              "      <td>-2.876653</td>\n",
              "      <td>0.000000</td>\n",
              "      <td>81.622922</td>\n",
              "      <td>-8.708471</td>\n",
              "      <td>4.237190</td>\n",
              "      <td>-179.164684</td>\n",
              "      <td>9544.688567</td>\n",
              "      <td>3.625689</td>\n",
              "    </tr>\n",
              "    <tr>\n",
              "      <th>has_cabin_number</th>\n",
              "      <td>-0.249992</td>\n",
              "      <td>0.061406</td>\n",
              "      <td>1.463138</td>\n",
              "      <td>-0.003946</td>\n",
              "      <td>0.013316</td>\n",
              "      <td>10.976961</td>\n",
              "      <td>3.625689</td>\n",
              "      <td>0.174613</td>\n",
              "    </tr>\n",
              "  </tbody>\n",
              "</table>\n",
              "</div>"
            ],
            "text/plain": [
              "                     pclass  survived  ...         body  has_cabin_number\n",
              "pclass             0.701969 -0.127248  ...    -2.876653         -0.249992\n",
              "survived          -0.127248  0.236250  ...     0.000000          0.061406\n",
              "age               -3.954605 -0.314343  ...    81.622922          1.463138\n",
              "sibsp              0.053090 -0.014088  ...    -8.708471         -0.003946\n",
              "parch              0.013287  0.034776  ...     4.237190          0.013316\n",
              "fare             -24.227788  6.146023  ...  -179.164684         10.976961\n",
              "body              -2.876653  0.000000  ...  9544.688567          3.625689\n",
              "has_cabin_number  -0.249992  0.061406  ...     3.625689          0.174613\n",
              "\n",
              "[8 rows x 8 columns]"
            ]
          },
          "metadata": {
            "tags": []
          },
          "execution_count": 17
        }
      ]
    },
    {
      "cell_type": "code",
      "metadata": {
        "id": "ZAEnqRxoVJqb",
        "colab_type": "code",
        "outputId": "93341981-d4b2-4437-8828-b586795f86db",
        "colab": {
          "base_uri": "https://localhost:8080/",
          "height": 297
        }
      },
      "source": [
        "# Calculate the correlation of the entire dataset\n",
        "titanic_df.corr()"
      ],
      "execution_count": 0,
      "outputs": [
        {
          "output_type": "execute_result",
          "data": {
            "text/html": [
              "<div>\n",
              "<style scoped>\n",
              "    .dataframe tbody tr th:only-of-type {\n",
              "        vertical-align: middle;\n",
              "    }\n",
              "\n",
              "    .dataframe tbody tr th {\n",
              "        vertical-align: top;\n",
              "    }\n",
              "\n",
              "    .dataframe thead th {\n",
              "        text-align: right;\n",
              "    }\n",
              "</style>\n",
              "<table border=\"1\" class=\"dataframe\">\n",
              "  <thead>\n",
              "    <tr style=\"text-align: right;\">\n",
              "      <th></th>\n",
              "      <th>pclass</th>\n",
              "      <th>survived</th>\n",
              "      <th>age</th>\n",
              "      <th>sibsp</th>\n",
              "      <th>parch</th>\n",
              "      <th>fare</th>\n",
              "      <th>body</th>\n",
              "      <th>has_cabin_number</th>\n",
              "    </tr>\n",
              "  </thead>\n",
              "  <tbody>\n",
              "    <tr>\n",
              "      <th>pclass</th>\n",
              "      <td>1.000000</td>\n",
              "      <td>-0.312469</td>\n",
              "      <td>-0.366370</td>\n",
              "      <td>0.060832</td>\n",
              "      <td>0.018322</td>\n",
              "      <td>-0.558629</td>\n",
              "      <td>-0.034642</td>\n",
              "      <td>-0.713857</td>\n",
              "    </tr>\n",
              "    <tr>\n",
              "      <th>survived</th>\n",
              "      <td>-0.312469</td>\n",
              "      <td>1.000000</td>\n",
              "      <td>-0.050199</td>\n",
              "      <td>-0.027825</td>\n",
              "      <td>0.082660</td>\n",
              "      <td>0.244265</td>\n",
              "      <td>NaN</td>\n",
              "      <td>0.302250</td>\n",
              "    </tr>\n",
              "    <tr>\n",
              "      <th>age</th>\n",
              "      <td>-0.366370</td>\n",
              "      <td>-0.050199</td>\n",
              "      <td>1.000000</td>\n",
              "      <td>-0.190747</td>\n",
              "      <td>-0.130872</td>\n",
              "      <td>0.171892</td>\n",
              "      <td>0.059059</td>\n",
              "      <td>0.271887</td>\n",
              "    </tr>\n",
              "    <tr>\n",
              "      <th>sibsp</th>\n",
              "      <td>0.060832</td>\n",
              "      <td>-0.027825</td>\n",
              "      <td>-0.190747</td>\n",
              "      <td>1.000000</td>\n",
              "      <td>0.373587</td>\n",
              "      <td>0.160238</td>\n",
              "      <td>-0.099961</td>\n",
              "      <td>-0.009064</td>\n",
              "    </tr>\n",
              "    <tr>\n",
              "      <th>parch</th>\n",
              "      <td>0.018322</td>\n",
              "      <td>0.082660</td>\n",
              "      <td>-0.130872</td>\n",
              "      <td>0.373587</td>\n",
              "      <td>1.000000</td>\n",
              "      <td>0.221539</td>\n",
              "      <td>0.051099</td>\n",
              "      <td>0.036806</td>\n",
              "    </tr>\n",
              "    <tr>\n",
              "      <th>fare</th>\n",
              "      <td>-0.558629</td>\n",
              "      <td>0.244265</td>\n",
              "      <td>0.171892</td>\n",
              "      <td>0.160238</td>\n",
              "      <td>0.221539</td>\n",
              "      <td>1.000000</td>\n",
              "      <td>-0.043110</td>\n",
              "      <td>0.507253</td>\n",
              "    </tr>\n",
              "    <tr>\n",
              "      <th>body</th>\n",
              "      <td>-0.034642</td>\n",
              "      <td>NaN</td>\n",
              "      <td>0.059059</td>\n",
              "      <td>-0.099961</td>\n",
              "      <td>0.051099</td>\n",
              "      <td>-0.043110</td>\n",
              "      <td>1.000000</td>\n",
              "      <td>0.083796</td>\n",
              "    </tr>\n",
              "    <tr>\n",
              "      <th>has_cabin_number</th>\n",
              "      <td>-0.713857</td>\n",
              "      <td>0.302250</td>\n",
              "      <td>0.271887</td>\n",
              "      <td>-0.009064</td>\n",
              "      <td>0.036806</td>\n",
              "      <td>0.507253</td>\n",
              "      <td>0.083796</td>\n",
              "      <td>1.000000</td>\n",
              "    </tr>\n",
              "  </tbody>\n",
              "</table>\n",
              "</div>"
            ],
            "text/plain": [
              "                    pclass  survived  ...      body  has_cabin_number\n",
              "pclass            1.000000 -0.312469  ... -0.034642         -0.713857\n",
              "survived         -0.312469  1.000000  ...       NaN          0.302250\n",
              "age              -0.366370 -0.050199  ...  0.059059          0.271887\n",
              "sibsp             0.060832 -0.027825  ... -0.099961         -0.009064\n",
              "parch             0.018322  0.082660  ...  0.051099          0.036806\n",
              "fare             -0.558629  0.244265  ... -0.043110          0.507253\n",
              "body             -0.034642       NaN  ...  1.000000          0.083796\n",
              "has_cabin_number -0.713857  0.302250  ...  0.083796          1.000000\n",
              "\n",
              "[8 rows x 8 columns]"
            ]
          },
          "metadata": {
            "tags": []
          },
          "execution_count": 18
        }
      ]
    },
    {
      "cell_type": "markdown",
      "metadata": {
        "id": "7K0Xfh8MvYkl",
        "colab_type": "text"
      },
      "source": [
        "# Orthogonality"
      ]
    },
    {
      "cell_type": "markdown",
      "metadata": {
        "id": "Pe3eOZ2fvdZ-",
        "colab_type": "text"
      },
      "source": [
        "## 2.1 Plot two vectors that are orthogonal to each other. What is a synonym for orthogonal?"
      ]
    },
    {
      "cell_type": "code",
      "metadata": {
        "id": "YLSBk7hJvvCx",
        "colab_type": "code",
        "colab": {}
      },
      "source": [
        "# A synonym for orthogonal is perpendicular; they are vectors that are at right angles of each other:\n",
        "# |__ "
      ],
      "execution_count": 0,
      "outputs": []
    },
    {
      "cell_type": "code",
      "metadata": {
        "id": "9be_ZT3_XqCK",
        "colab_type": "code",
        "colab": {}
      },
      "source": [
        "# import\n",
        "import matplotlib.pyplot as plt\n",
        "%matplotlib inline"
      ],
      "execution_count": 0,
      "outputs": []
    },
    {
      "cell_type": "code",
      "metadata": {
        "id": "zdzj11M8YXxY",
        "colab_type": "code",
        "colab": {}
      },
      "source": [
        "# Function to create random 1-Dimensional vector\n",
        "def vector_1D_creator(columns):\n",
        "  return np.random.randn(columns)"
      ],
      "execution_count": 0,
      "outputs": []
    },
    {
      "cell_type": "code",
      "metadata": {
        "id": "2mTew2QuYYWP",
        "colab_type": "code",
        "outputId": "5be0fe28-c71c-41a3-dadf-0c7af7516f61",
        "colab": {
          "base_uri": "https://localhost:8080/",
          "height": 51
        }
      },
      "source": [
        "vec1 = vector_1D_creator(3)\n",
        "vec2 = vector_1D_creator(3)\n",
        "print(vec1)\n",
        "print(vec2)"
      ],
      "execution_count": 0,
      "outputs": [
        {
          "output_type": "stream",
          "text": [
            "[-0.3436257  -0.30045605  1.15722614]\n",
            "[ 1.78812135e-04 -2.29419204e+00  1.20999827e+00]\n"
          ],
          "name": "stdout"
        }
      ]
    },
    {
      "cell_type": "code",
      "metadata": {
        "id": "Y1dRLXcbYY3M",
        "colab_type": "code",
        "colab": {}
      },
      "source": [
        "# Function that calculates the orthogonal vector of vector 1\n",
        "def orth_calc(vec1, vec2):\n",
        "  vec2 -= vec2.dot(vec1) * vec1 / np.linalg.norm(vec1)**2\n",
        "  return vec2"
      ],
      "execution_count": 0,
      "outputs": []
    },
    {
      "cell_type": "code",
      "metadata": {
        "id": "wbvdGGxkaNZq",
        "colab_type": "code",
        "outputId": "83c6b84d-1f8f-4674-a43d-2a9461a23e86",
        "colab": {
          "base_uri": "https://localhost:8080/",
          "height": 51
        }
      },
      "source": [
        "# Let's test out our function to see if it works correctly\n",
        "print(orth_calc(vec1, vec2))\n",
        "'{:.6f}'.format(vec2.dot(vec1))"
      ],
      "execution_count": 0,
      "outputs": [
        {
          "output_type": "stream",
          "text": [
            "[ 0.4641458  -1.88851317 -0.35250049]\n"
          ],
          "name": "stdout"
        },
        {
          "output_type": "execute_result",
          "data": {
            "text/plain": [
              "'0.000000'"
            ]
          },
          "metadata": {
            "tags": []
          },
          "execution_count": 24
        }
      ]
    },
    {
      "cell_type": "code",
      "metadata": {
        "id": "Jg6FPInjbQ_l",
        "colab_type": "code",
        "colab": {}
      },
      "source": [
        "# Let's see that visually! First let's create a function that can take \n",
        "# two vectors and print out their plot\n",
        "def vec_plotter(vector1, vector2):\n",
        "  vec2 = orth_calc(vector1, vector2)\n",
        "  fig, ax = plt.subplots(figsize=(4,4))\n",
        "  ax.grid()\n",
        "  plt.xlim(-2,3)\n",
        "  plt.ylim(-2,3)\n",
        "\n",
        "  for vect in [vector1, vector2]:\n",
        "    plt.arrow(0, 0,\n",
        "              vect[0],\n",
        "              vect[1],\n",
        "              head_width=.2,\n",
        "              head_length=.2,\n",
        "              linewidth=4,\n",
        "              color='green')\n",
        "\n"
      ],
      "execution_count": 0,
      "outputs": []
    },
    {
      "cell_type": "code",
      "metadata": {
        "id": "hwZB8SPjdiSS",
        "colab_type": "code",
        "outputId": "1e6df3a7-90e1-4038-f6ec-5b79068903ac",
        "colab": {
          "base_uri": "https://localhost:8080/",
          "height": 269
        }
      },
      "source": [
        "# Use our function to graph the above example\n",
        "vec_plotter(vec1, vec2)"
      ],
      "execution_count": 0,
      "outputs": [
        {
          "output_type": "display_data",
          "data": {
            "image/png": "[encoded data removed]",
            "text/plain": [
              "<Figure size 288x288 with 1 Axes>"
            ]
          },
          "metadata": {
            "tags": []
          }
        }
      ]
    },
    {
      "cell_type": "code",
      "metadata": {
        "id": "UylQyKpNc8UJ",
        "colab_type": "code",
        "outputId": "3ba58eb4-d737-4da6-a625-95e9fec4cb0d",
        "colab": {
          "base_uri": "https://localhost:8080/",
          "height": 51
        }
      },
      "source": [
        "# Let's try a second example\n",
        "vec3 = vector_1D_creator(4)\n",
        "vec4 = vector_1D_creator(4)\n",
        "print(vec3)\n",
        "print(vec4)"
      ],
      "execution_count": 0,
      "outputs": [
        {
          "output_type": "stream",
          "text": [
            "[ 0.50457207  0.87156075 -0.64838088  0.4104645 ]\n",
            "[ 0.32027098 -0.24897293  0.05267784  0.94852942]\n"
          ],
          "name": "stdout"
        }
      ]
    },
    {
      "cell_type": "code",
      "metadata": {
        "id": "r_crBdtCdGRd",
        "colab_type": "code",
        "outputId": "6751b425-8c24-4ec4-97b0-691e58d8af79",
        "colab": {
          "base_uri": "https://localhost:8080/",
          "height": 51
        }
      },
      "source": [
        "# Run second example through orthogonal calculator\n",
        "print(orth_calc(vec3, vec4))\n",
        "'{:.6f}'.format(vec4.dot(vec3))"
      ],
      "execution_count": 0,
      "outputs": [
        {
          "output_type": "stream",
          "text": [
            "[ 0.22591308 -0.41195984  0.17392881  0.87177018]\n"
          ],
          "name": "stdout"
        },
        {
          "output_type": "execute_result",
          "data": {
            "text/plain": [
              "'-0.000000'"
            ]
          },
          "metadata": {
            "tags": []
          },
          "execution_count": 28
        }
      ]
    },
    {
      "cell_type": "code",
      "metadata": {
        "id": "g71bQ4P2eH2x",
        "colab_type": "code",
        "outputId": "d2fe983c-a123-441e-a288-ae57994d85ba",
        "colab": {
          "base_uri": "https://localhost:8080/",
          "height": 269
        }
      },
      "source": [
        "# Visualize second example\n",
        "vec_plotter(vec3, vec4)"
      ],
      "execution_count": 0,
      "outputs": [
        {
          "output_type": "display_data",
          "data": {
            "image/png": "[encoded data removed]",
            "text/plain": [
              "<Figure size 288x288 with 1 Axes>"
            ]
          },
          "metadata": {
            "tags": []
          }
        }
      ]
    },
    {
      "cell_type": "markdown",
      "metadata": {
        "id": "7AS4V1Nhvvxz",
        "colab_type": "text"
      },
      "source": [
        "## 2.2 Are the following vectors orthogonal? Why or why not?\n",
        "\n",
        "\\begin{align}\n",
        "a = \\begin{bmatrix} -5 \\\\ 3 \\\\ 7 \\end{bmatrix}\n",
        "\\qquad\n",
        "b = \\begin{bmatrix} 6 \\\\ -8 \\\\ 2 \\end{bmatrix}\n",
        "\\end{align}"
      ]
    },
    {
      "cell_type": "code",
      "metadata": {
        "id": "F_-y54YSz47k",
        "colab_type": "code",
        "outputId": "42ffa151-267e-4300-8fa3-651ce9720db9",
        "colab": {
          "base_uri": "https://localhost:8080/",
          "height": 136
        }
      },
      "source": [
        "# Create our vectors first\n",
        "a = np.array([[-5], [3], [7]])\n",
        "b = np.array([[6], \n",
        "     [-8],\n",
        "     [2]])\n",
        "print(a, '\\n\\n', b)"
      ],
      "execution_count": 0,
      "outputs": [
        {
          "output_type": "stream",
          "text": [
            "[[-5]\n",
            " [ 3]\n",
            " [ 7]] \n",
            "\n",
            " [[ 6]\n",
            " [-8]\n",
            " [ 2]]\n"
          ],
          "name": "stdout"
        }
      ]
    },
    {
      "cell_type": "code",
      "metadata": {
        "id": "m1-q7f3Dfgyt",
        "colab_type": "code",
        "colab": {}
      },
      "source": [
        "# Let's create a function to calculate dot product of 3-Dimensional vectors\n",
        "def vec_3D_dot(vector1, vector2):\n",
        "  return (vector1[0]*vector2[0]) + (vector1[1]*vector2[1]) + (vector1[2]*vector2[2])"
      ],
      "execution_count": 0,
      "outputs": []
    },
    {
      "cell_type": "code",
      "metadata": {
        "id": "C1YJN-4Sk9D3",
        "colab_type": "code",
        "outputId": "baaf57b4-d130-466f-fbd2-92a26b4f5afe",
        "colab": {
          "base_uri": "https://localhost:8080/",
          "height": 34
        }
      },
      "source": [
        "# Use that to determine dot product of the above vectors\n",
        "vec_3D_dot(a, b)"
      ],
      "execution_count": 0,
      "outputs": [
        {
          "output_type": "execute_result",
          "data": {
            "text/plain": [
              "array([-40])"
            ]
          },
          "metadata": {
            "tags": []
          },
          "execution_count": 32
        }
      ]
    },
    {
      "cell_type": "code",
      "metadata": {
        "id": "6qUKegm1lEnR",
        "colab_type": "code",
        "colab": {}
      },
      "source": [
        "# These vectors are definitely not orthoogonal to each other, with a \n",
        "# -40 dot product"
      ],
      "execution_count": 0,
      "outputs": []
    },
    {
      "cell_type": "code",
      "metadata": {
        "id": "1hi-rb0_qGba",
        "colab_type": "code",
        "colab": {}
      },
      "source": [
        "# Should we visualize it? I think we should visualize it. Let's visualize it.\n",
        "# Let's carry over a function from the previous assignment\n",
        "import matplotlib.pyplot as plt\n",
        "from mpl_toolkits.mplot3d import Axes3D\n",
        "\n",
        "def matrix_3D_Grapher(columnnumbs, matrix, color1, color2, color3, xmin, xmax, ymin, ymax, zmin, zmax, matrix2=None, color4=None, color5=None, color6=None):\n",
        "  if columnnumbs == 1:\n",
        "    mat = np.array([[0, 0, 0, 0, 0, matrix[0]],\n",
        "                   [0, 0, 0, 0, 0, matrix[1]],\n",
        "                   [0, 0, 0, 0, 0, matrix[2]]])\n",
        "    mat2 = np.array([[0, 0, 0, 0, 0, matrix2[0][0]],\n",
        "                   [0, 0, 0, 0, 0, matrix2[1][0]],\n",
        "                   [0, 0, 0, 0, 0, matrix2[2][0]]])\n",
        "    \n",
        "  if columnnumbs == 2:\n",
        "    mat = np.array([[0, 0, 0, 0, matrix[0][0], matrix[0][1]],\n",
        "                   [0, 0, 0, 0, matrix[1][0], matrix[1][1]],\n",
        "                   [0, 0, 0, 0, matrix[2][0], matrix[2][1]]])\n",
        "    mat2 = np.array([[0, 0, 0, 0, matrix2[0][0], matrix2[0][1]],\n",
        "                   [0, 0, 0, 0, matrix2[1][0], matrix2[1][1]],\n",
        "                   [0, 0, 0, 0, matrix2[2][0], matrix2[2][1]]])\n",
        "\n",
        "  if columnnumbs == 3:\n",
        "    mat = np.array([[0, 0, 0, matrix[0][0], matrix[0][1], matrix[0][2]],\n",
        "                   [0, 0, 0, matrix[1][0], matrix[1][1], matrix[1][2]],\n",
        "                   [0, 0, 0, matrix[2][0], matrix[2][1], matrix[2][2]]])\n",
        "    mat2 = np.array([[0, 0, 0, matrix2[0][0], matrix2[0][1], matrix2[0][2]],\n",
        "                   [0, 0, 0, matrix2[1][0], matrix2[1][1], matrix2[1][2]],\n",
        "                   [0, 0, 0, matrix2[2][0], matrix2[2][1], matrix2[2][2]]])\n",
        "\n",
        "  if columnnumbs == 4:\n",
        "    mat = np.array([[0, 0, matrix[0][0], matrix[0][1], matrix[0][2], matrix[0][3]],\n",
        "                   [0, 0, matrix[1][0], matrix[1][1], matrix[1][2], matrix[1][3]],\n",
        "                   [0, 0, matrix[2][0], matrix[2][1], matrix[2][2], matrix[2][3]]])\n",
        "    mat2 = np.array([[0, 0, matrix2[0][0], matrix2[0][1], matrix2[0][2], matrix2[0][3]],\n",
        "                   [0, 0, matrix2[1][0], matrix2[1][1], matrix2[1][2], matrix2[1][3]],\n",
        "                   [0, 0, matrix2[2][0], matrix2[2][1], matrix2[2][2], matrix2[2][3]]])\n",
        "\n",
        "  if columnnumbs == 5:\n",
        "    mat = np.array([[0, matrix[0][0], matrix[0][1], matrix[0][2], matrix[0][3], matrix[0][4]],\n",
        "                   [0, matrix[1][0], matrix[1][1], matrix[1][2], matrix[1][3], matrix[1][4]],\n",
        "                   [0, matrix[2][0], matrix[2][1], matrix[2][2], matrix[2][3], matrix[2][4]]])\n",
        "    mat2 = np.array([[0, matrix2[0][0], matrix2[0][1], matrix2[0][2], matrix2[0][3], matrix2[0][4]],\n",
        "                   [0, matrix2[1][0], matrix2[1][1], matrix2[1][2], matrix2[1][3], matrix2[1][4]],\n",
        "                   [0, matrix2[2][0], matrix2[2][1], matrix2[2][2], matrix2[2][3], matrix2[2][4]]])\n",
        "\n",
        "  if columnnumbs == 6:\n",
        "    mat = np.array([[matrix[0][0], matrix[0][1], matrix[0][2], matrix[0][3], matrix[0][4], matrix[0][5]],\n",
        "                   [matrix[1][0], matrix[1][1], matrix[1][2], matrix[1][3], matrix[1][4], matrix[1][5]],\n",
        "                   [matrix[2][0], matrix[2][1], matrix[2][2], matrix[2][3], matrix[2][4], matrix[2][5]]])\n",
        "    mat2 = np.array([[matrix2[0][0], matrix2[0][1], matrix2[0][2], matrix2[0][3], matrix2[0][4], matrix2[0][5]],\n",
        "                   [matrix2[1][0], matrix2[1][1], matrix2[1][2], matrix2[1][3], matrix2[1][4], matrix2[1][5]],\n",
        "                   [matrix2[2][0], matrix2[2][1], matrix2[2][2], matrix2[2][3], matrix2[2][4], matrix2[2][5]]])\n",
        "\n",
        "  X, Y, Z, U, V, W = zip(*mat)\n",
        "  fig = plt.figure()\n",
        "  ax = fig.add_subplot(111, projection='3d')\n",
        "  ax.quiver(X[0], Y[0], Z[0], U[0], V[0], W[0], length=1, color=color1)\n",
        "  ax.quiver(X[1], Y[1], Z[1], U[1], V[1], W[1], length=1, color=color2)\n",
        "  ax.quiver(X[2], Y[2], Z[2], U[2], V[2], W[2], length=1, color=color3)\n",
        "\n",
        "  if matrix2.any:\n",
        "    X, Y, Z, U, V, W = zip(*mat2)\n",
        "    ax.quiver(X[0], Y[0], Z[0], U[0], V[0], W[0], length=1, color=color4)\n",
        "    ax.quiver(X[1], Y[1], Z[1], U[1], V[1], W[1], length=1, color=color5)\n",
        "    ax.quiver(X[2], Y[2], Z[2], U[2], V[2], W[2], length=1, color=color6)\n",
        "\n",
        "  ax.set_xlim([xmin, xmax])\n",
        "  ax.set_ylim([ymin, ymax])\n",
        "  ax.set_zlim([zmin, zmax])\n",
        "  ax.set_xlabel('X')\n",
        "  ax.set_ylabel('Y')\n",
        "  ax.set_zlabel('Z')\n",
        "  plt.show()"
      ],
      "execution_count": 0,
      "outputs": []
    },
    {
      "cell_type": "code",
      "metadata": {
        "id": "TQDyfFV0rXrw",
        "colab_type": "code",
        "outputId": "53c7b572-fb71-4a07-cc85-d7fbee739a53",
        "colab": {
          "base_uri": "https://localhost:8080/",
          "height": 320
        }
      },
      "source": [
        "matrix_3D_Grapher(1, a, 'red', 'blue', 'green', -5, 5, -5, 5, -5, 5)\n",
        "matrix_3D_Grapher(1, b, 'silver', 'gold', 'brown', -5, 5, -5, 5, -5, 5)"
      ],
      "execution_count": 0,
      "outputs": [
        {
          "output_type": "error",
          "ename": "TypeError",
          "evalue": "ignored",
          "traceback": [
            "\u001b[0;31m---------------------------------------------------------------------------\u001b[0m",
            "\u001b[0;31mTypeError\u001b[0m                                 Traceback (most recent call last)",
            "\u001b[0;32m<ipython-input-39-1112f9d28a60>\u001b[0m in \u001b[0;36m<module>\u001b[0;34m()\u001b[0m\n\u001b[0;32m----> 1\u001b[0;31m \u001b[0mmatrix_3D_Grapher\u001b[0m\u001b[0;34m(\u001b[0m\u001b[0;36m1\u001b[0m\u001b[0;34m,\u001b[0m \u001b[0ma\u001b[0m\u001b[0;34m,\u001b[0m \u001b[0;34m'red'\u001b[0m\u001b[0;34m,\u001b[0m \u001b[0;34m'blue'\u001b[0m\u001b[0;34m,\u001b[0m \u001b[0;34m'green'\u001b[0m\u001b[0;34m,\u001b[0m \u001b[0;34m-\u001b[0m\u001b[0;36m5\u001b[0m\u001b[0;34m,\u001b[0m \u001b[0;36m5\u001b[0m\u001b[0;34m,\u001b[0m \u001b[0;34m-\u001b[0m\u001b[0;36m5\u001b[0m\u001b[0;34m,\u001b[0m \u001b[0;36m5\u001b[0m\u001b[0;34m,\u001b[0m \u001b[0;34m-\u001b[0m\u001b[0;36m5\u001b[0m\u001b[0;34m,\u001b[0m \u001b[0;36m5\u001b[0m\u001b[0;34m)\u001b[0m\u001b[0;34m\u001b[0m\u001b[0;34m\u001b[0m\u001b[0m\n\u001b[0m\u001b[1;32m      2\u001b[0m \u001b[0mmatrix_3D_Grapher\u001b[0m\u001b[0;34m(\u001b[0m\u001b[0;36m1\u001b[0m\u001b[0;34m,\u001b[0m \u001b[0mb\u001b[0m\u001b[0;34m,\u001b[0m \u001b[0;34m'silver'\u001b[0m\u001b[0;34m,\u001b[0m \u001b[0;34m'gold'\u001b[0m\u001b[0;34m,\u001b[0m \u001b[0;34m'brown'\u001b[0m\u001b[0;34m,\u001b[0m \u001b[0;34m-\u001b[0m\u001b[0;36m5\u001b[0m\u001b[0;34m,\u001b[0m \u001b[0;36m5\u001b[0m\u001b[0;34m,\u001b[0m \u001b[0;34m-\u001b[0m\u001b[0;36m5\u001b[0m\u001b[0;34m,\u001b[0m \u001b[0;36m5\u001b[0m\u001b[0;34m,\u001b[0m \u001b[0;34m-\u001b[0m\u001b[0;36m5\u001b[0m\u001b[0;34m,\u001b[0m \u001b[0;36m5\u001b[0m\u001b[0;34m)\u001b[0m\u001b[0;34m\u001b[0m\u001b[0;34m\u001b[0m\u001b[0m\n",
            "\u001b[0;32m<ipython-input-38-0df067883866>\u001b[0m in \u001b[0;36mmatrix_3D_Grapher\u001b[0;34m(columnnumbs, matrix, color1, color2, color3, xmin, xmax, ymin, ymax, zmin, zmax, matrix2, color4, color5, color6)\u001b[0m\n\u001b[1;32m      7\u001b[0m                    \u001b[0;34m[\u001b[0m\u001b[0;36m0\u001b[0m\u001b[0;34m,\u001b[0m \u001b[0;36m0\u001b[0m\u001b[0;34m,\u001b[0m \u001b[0;36m0\u001b[0m\u001b[0;34m,\u001b[0m \u001b[0;36m0\u001b[0m\u001b[0;34m,\u001b[0m \u001b[0;36m0\u001b[0m\u001b[0;34m,\u001b[0m \u001b[0mmatrix\u001b[0m\u001b[0;34m[\u001b[0m\u001b[0;36m1\u001b[0m\u001b[0;34m]\u001b[0m\u001b[0;34m]\u001b[0m\u001b[0;34m,\u001b[0m\u001b[0;34m\u001b[0m\u001b[0;34m\u001b[0m\u001b[0m\n\u001b[1;32m      8\u001b[0m                    [0, 0, 0, 0, 0, matrix[2]]])\n\u001b[0;32m----> 9\u001b[0;31m     mat2 = np.array([[0, 0, 0, 0, 0, matrix2[0][0]],\n\u001b[0m\u001b[1;32m     10\u001b[0m                    \u001b[0;34m[\u001b[0m\u001b[0;36m0\u001b[0m\u001b[0;34m,\u001b[0m \u001b[0;36m0\u001b[0m\u001b[0;34m,\u001b[0m \u001b[0;36m0\u001b[0m\u001b[0;34m,\u001b[0m \u001b[0;36m0\u001b[0m\u001b[0;34m,\u001b[0m \u001b[0;36m0\u001b[0m\u001b[0;34m,\u001b[0m \u001b[0mmatrix2\u001b[0m\u001b[0;34m[\u001b[0m\u001b[0;36m1\u001b[0m\u001b[0;34m]\u001b[0m\u001b[0;34m[\u001b[0m\u001b[0;36m0\u001b[0m\u001b[0;34m]\u001b[0m\u001b[0;34m]\u001b[0m\u001b[0;34m,\u001b[0m\u001b[0;34m\u001b[0m\u001b[0;34m\u001b[0m\u001b[0m\n\u001b[1;32m     11\u001b[0m                    [0, 0, 0, 0, 0, matrix2[2][0]]])\n",
            "\u001b[0;31mTypeError\u001b[0m: 'NoneType' object is not subscriptable"
          ]
        }
      ]
    },
    {
      "cell_type": "code",
      "metadata": {
        "id": "t-GAORX1y51f",
        "colab_type": "code",
        "colab": {}
      },
      "source": [
        ""
      ],
      "execution_count": 0,
      "outputs": []
    },
    {
      "cell_type": "markdown",
      "metadata": {
        "id": "MiNjyqiEz5SG",
        "colab_type": "text"
      },
      "source": [
        "## 2.3 Compute the following values: What do these quantities have in common?\n",
        "\n",
        "## What is $||c||^2$? \n",
        "\n",
        "## What is $c \\cdot c$? \n",
        "\n",
        "## What is $c^{T}c$?\n",
        "\n",
        "\\begin{align}\n",
        "c = \\begin{bmatrix} 2 & -15 & 6 & 20 \\end{bmatrix}\n",
        "\\end{align}"
      ]
    },
    {
      "cell_type": "code",
      "metadata": {
        "id": "IlV_uaYK1EQB",
        "colab_type": "code",
        "colab": {}
      },
      "source": [
        "# First create our vector\n",
        "c = np.array([2, -15, 6, 20])"
      ],
      "execution_count": 0,
      "outputs": []
    },
    {
      "cell_type": "code",
      "metadata": {
        "id": "cPYpcBnG1fbT",
        "colab_type": "code",
        "colab": {}
      },
      "source": [
        "# Let's first compute the square of the norm\n",
        "np.linalg.norm(c)**2"
      ],
      "execution_count": 0,
      "outputs": []
    },
    {
      "cell_type": "code",
      "metadata": {
        "id": "_LGGH6Cn1qnf",
        "colab_type": "code",
        "colab": {}
      },
      "source": [
        "# Now let's multiply c by itself\n",
        "c.dot(c)"
      ],
      "execution_count": 0,
      "outputs": []
    },
    {
      "cell_type": "code",
      "metadata": {
        "id": "slX_o2fl1q0z",
        "colab_type": "code",
        "colab": {}
      },
      "source": [
        "# Finally let's find cTc\n",
        "c.dot(c.T)"
      ],
      "execution_count": 0,
      "outputs": []
    },
    {
      "cell_type": "code",
      "metadata": {
        "id": "G9R6rZAa2i7N",
        "colab_type": "code",
        "colab": {}
      },
      "source": [
        "# We find, interestingly, that the value of each of the equations above \n",
        "# outputs 665."
      ],
      "execution_count": 0,
      "outputs": []
    },
    {
      "cell_type": "markdown",
      "metadata": {
        "id": "MK_TpWqk1Evk",
        "colab_type": "text"
      },
      "source": [
        "# Unit Vectors"
      ]
    },
    {
      "cell_type": "markdown",
      "metadata": {
        "id": "Kpit6WWO1b8l",
        "colab_type": "text"
      },
      "source": [
        "## 3.1 Using Latex, write the following vectors as a linear combination of scalars and unit vectors:\n",
        "\n",
        "\\begin{align}\n",
        "d = \\begin{bmatrix} 7 \\\\ 12 \\end{bmatrix}\n",
        "\\qquad\n",
        "e = \\begin{bmatrix} 2 \\\\ 11 \\\\ -8  \\end{bmatrix}\n",
        "\\end{align}"
      ]
    },
    {
      "cell_type": "markdown",
      "metadata": {
        "id": "pe6_5WaA7pJd",
        "colab_type": "text"
      },
      "source": [
        "\\begin{align}\n",
        "d = \\begin{bmatrix} 7 \\\\ 12 \\end{bmatrix} = 7\\begin{bmatrix} 1 \\\\ 0 \\end{bmatrix} + 12\\begin{bmatrix} 0 \\\\ 1 \\end{bmatrix} = 7\\hat{i} + 12\\hat{j}\n",
        "\\end{align}"
      ]
    },
    {
      "cell_type": "markdown",
      "metadata": {
        "id": "w98ccTWe8d8S",
        "colab_type": "text"
      },
      "source": [
        "\\begin{align}\n",
        "e = \\begin{bmatrix} 2 \\\\ 11 \\\\ -8 \\end{bmatrix} = 2\\begin{bmatrix} 1 \\\\ 0 \\\\ 0 \\end{bmatrix} + 11\\begin{bmatrix} 0 \\\\ 1 \\\\ 0 \\end{bmatrix} + -8\\begin{bmatrix} 0 \\\\ 0 \\\\ 1 \\end{bmatrix} = 2\\hat{i} + 11\\hat{j} + -8\\hat{k}\n",
        "\\end{align}"
      ]
    },
    {
      "cell_type": "markdown",
      "metadata": {
        "id": "dAdUQuep1_yJ",
        "colab_type": "text"
      },
      "source": [
        "## 3.2 Turn vector $f$ into a unit vector:\n",
        "\n",
        "\\begin{align}\n",
        "f = \\begin{bmatrix} 4 & 12 & 11 & 9 & 2 \\end{bmatrix}\n",
        "\\end{align}"
      ]
    },
    {
      "cell_type": "code",
      "metadata": {
        "id": "I3W8ZiHR1_Fa",
        "colab_type": "code",
        "colab": {}
      },
      "source": [
        "# First we have to find the vector's norm. \n",
        "f = np.array([4, 12, 11, 9, 2])\n",
        "f_norm = np.linalg.norm(f)\n",
        "f_norm"
      ],
      "execution_count": 0,
      "outputs": []
    },
    {
      "cell_type": "code",
      "metadata": {
        "id": "hd-3MefA-FCB",
        "colab_type": "code",
        "colab": {}
      },
      "source": [
        "# Now to convert f into a unit vector we divide the vector by its norm:\n",
        "f_hat = (1/f_norm) * f\n",
        "f_hat"
      ],
      "execution_count": 0,
      "outputs": []
    },
    {
      "cell_type": "markdown",
      "metadata": {
        "id": "o39UyP-I5lpP",
        "colab_type": "text"
      },
      "source": [
        "# Linear Independence / Dependence "
      ]
    },
    {
      "cell_type": "markdown",
      "metadata": {
        "id": "ajfBqYe45sT5",
        "colab_type": "text"
      },
      "source": [
        "## 4.1 Plot two vectors that are linearly dependent and two vectors that are linearly independent (bonus points if done in $\\mathbb{R}^3$)."
      ]
    },
    {
      "cell_type": "code",
      "metadata": {
        "id": "8v4OtttvkybG",
        "colab_type": "code",
        "colab": {}
      },
      "source": [
        "import random\n",
        "import math"
      ],
      "execution_count": 0,
      "outputs": []
    },
    {
      "cell_type": "code",
      "metadata": {
        "id": "GA51iHuEzUEB",
        "colab_type": "code",
        "colab": {}
      },
      "source": [
        "# Function that creates a random 3-Dimensional vector\n",
        "def vector_3D_creator(min, max, numcolumns=3):\n",
        "  first_row = []\n",
        "  second_row = []\n",
        "  third_row = []\n",
        "  for count in range (numcolumns):\n",
        "    first_row.append(random.randint(min,max))\n",
        "    second_row.append(random.randint(min,max))\n",
        "    third_row.append(random.randint(min,max))\n",
        "  return np.array([first_row,\n",
        "                  second_row,\n",
        "                   third_row])\n",
        "  "
      ],
      "execution_count": 0,
      "outputs": []
    },
    {
      "cell_type": "code",
      "metadata": {
        "id": "EeVNRGUpkNvB",
        "colab_type": "code",
        "colab": {}
      },
      "source": [
        "# Function that creates linearly dependent vector from given vector\n",
        "def lin_depend(vec, scale):\n",
        "  vec2 = np.multiply(vec, scale)\n",
        "  return vec2"
      ],
      "execution_count": 0,
      "outputs": []
    },
    {
      "cell_type": "code",
      "metadata": {
        "id": "4BMz9mSCkhjL",
        "colab_type": "code",
        "colab": {}
      },
      "source": [
        "# Let's test it out!\n",
        "vec1 = vector_3D_creator(0, 10)\n",
        "print(vec1)\n",
        "vec2 = lin_depend(vec1, 2)\n",
        "print('\\n\\n', vec2)"
      ],
      "execution_count": 0,
      "outputs": []
    },
    {
      "cell_type": "code",
      "metadata": {
        "id": "3ew_fKaYk-0R",
        "colab_type": "code",
        "colab": {}
      },
      "source": [
        "# Let's graph them to ensure they are indeed linearly dependent\n",
        "matrix_3D_Grapher(3, vec1, 'red', 'orange', 'blue', 0, 10, 0, 10, 0, 10, vec2, 'gold', 'purple', 'magenta')"
      ],
      "execution_count": 0,
      "outputs": []
    },
    {
      "cell_type": "code",
      "metadata": {
        "id": "mtQD2lCOoC4U",
        "colab_type": "code",
        "colab": {}
      },
      "source": [
        "# We can see from the graph that the two 3-Dimenional vectors are definitely linearly dependent"
      ],
      "execution_count": 0,
      "outputs": []
    },
    {
      "cell_type": "code",
      "metadata": {
        "id": "yhZq6temoJM5",
        "colab_type": "code",
        "colab": {}
      },
      "source": [
        "# Let's create one more linearly dependent set\n",
        "vec1 = vector_3D_creator(0, 50, 2)\n",
        "print(vec1)\n",
        "vec2 = lin_depend(vec1, 2)\n",
        "print('\\n', vec2)"
      ],
      "execution_count": 0,
      "outputs": []
    },
    {
      "cell_type": "code",
      "metadata": {
        "id": "Qs9_Bl7Noo34",
        "colab_type": "code",
        "colab": {}
      },
      "source": [
        "# Now let's print that\n",
        "matrix_3D_Grapher(2, vec1, 'magenta', 'red', 'orange', 0, 100, 0, 100, 0, 100, vec2, 'brown', 'purple', 'black')"
      ],
      "execution_count": 0,
      "outputs": []
    },
    {
      "cell_type": "code",
      "metadata": {
        "id": "_dlCeqeer03y",
        "colab_type": "code",
        "colab": {}
      },
      "source": [
        "# Now let's create some vectors that are linearly independent\n",
        "vect1 = vector_3D_creator(-5, 5)\n",
        "vect2 = vector_3D_creator(-5, 5)\n",
        "print(vect1)\n",
        "print('\\n', vect2)"
      ],
      "execution_count": 0,
      "outputs": []
    },
    {
      "cell_type": "code",
      "metadata": {
        "id": "iWrXNCdwsMs4",
        "colab_type": "code",
        "colab": {}
      },
      "source": [
        "# Now graph them\n",
        "matrix_3D_Grapher(3, vect1, 'green', 'red', 'orange', -5, 5, -5, 5, -5, 5, vect2, 'black', 'brown', 'gray')"
      ],
      "execution_count": 0,
      "outputs": []
    },
    {
      "cell_type": "code",
      "metadata": {
        "id": "W3HAJom5shGX",
        "colab_type": "code",
        "colab": {}
      },
      "source": [
        "# Now let's create one more example of linearly independent vectors\n",
        "vect1 = vector_3D_creator(500, 1000, 6)\n",
        "vect2 = vector_3D_creator(500, 1000, 6)\n",
        "print(vect1)\n",
        "print('\\n', vect2)"
      ],
      "execution_count": 0,
      "outputs": []
    },
    {
      "cell_type": "code",
      "metadata": {
        "id": "36oMD6lzsyLn",
        "colab_type": "code",
        "colab": {}
      },
      "source": [
        "# Now graph them\n",
        "matrix_3D_Grapher(6, vect1, 'magenta', 'green', 'pink', 600, 1200, 600, 1200, 600, 1200, vect2, 'orange', 'tan', 'gray')"
      ],
      "execution_count": 0,
      "outputs": []
    },
    {
      "cell_type": "markdown",
      "metadata": {
        "id": "TrJ0MT_n3SvO",
        "colab_type": "text"
      },
      "source": [
        "# Span"
      ]
    },
    {
      "cell_type": "markdown",
      "metadata": {
        "id": "86iXLzwM2z8l",
        "colab_type": "text"
      },
      "source": [
        "## 5.1 What is the span of the following vectors?\n",
        "\n",
        "\\begin{align}\n",
        "g = \\begin{bmatrix} 1 & 2 \\end{bmatrix}\n",
        "\\qquad\n",
        "h = \\begin{bmatrix} 4 & 8 \\end{bmatrix}\n",
        "\\end{align}"
      ]
    },
    {
      "cell_type": "code",
      "metadata": {
        "id": "G2LK2RWL39Q4",
        "colab_type": "code",
        "colab": {}
      },
      "source": [
        "# First let's create our vectors\n",
        "g = np.array([1, 2])\n",
        "h = np.array([4, 8])\n",
        "print(g)\n",
        "print(h)"
      ],
      "execution_count": 0,
      "outputs": []
    },
    {
      "cell_type": "code",
      "metadata": {
        "id": "61QCXE2jm346",
        "colab_type": "code",
        "colab": {}
      },
      "source": [
        "# Now let's plot them\n",
        "fig, ax = plt.subplots(figsize=(4,4))\n",
        "ax.grid()\n",
        "plt.xlim(-2,9)\n",
        "plt.ylim(-2,9)\n",
        "\n",
        "# Display\n",
        "for myvect in [g, h]:\n",
        "  plt.arrow(0, 0, \n",
        "            myvect[0],\n",
        "            myvect[1],\n",
        "            head_width=.2,\n",
        "            head_length=.2,\n",
        "            linewidth=10,\n",
        "            color='#F66800')"
      ],
      "execution_count": 0,
      "outputs": []
    },
    {
      "cell_type": "code",
      "metadata": {
        "id": "JeeEvcfRo-ih",
        "colab_type": "code",
        "colab": {}
      },
      "source": [
        "# As a side not, looking into the vectors closely it is clear that vector h is \n",
        "# just the g vector scaled by 4; the graph visualizing both of these vectors\n",
        "# shows this linearity."
      ],
      "execution_count": 0,
      "outputs": []
    },
    {
      "cell_type": "code",
      "metadata": {
        "id": "SwRK_E-SpLd4",
        "colab_type": "code",
        "colab": {}
      },
      "source": [
        "# Now to determine one possible linear combination\n",
        "a,b = (2,3)\n",
        "linear_combination = np.multiply(g, a) + np.multiply(h, b)\n",
        "print(linear_combination)"
      ],
      "execution_count": 0,
      "outputs": []
    },
    {
      "cell_type": "code",
      "metadata": {
        "id": "WZfXCp5lp4gW",
        "colab_type": "code",
        "colab": {}
      },
      "source": [
        "# Check that visually\n",
        "fig, ax = plt.subplots(figsize=(4,4))\n",
        "ax.grid()\n",
        "plt.xlim(-2,30)\n",
        "plt.ylim(-2,30)\n",
        "\n",
        "# Display\n",
        "for myvect in [g, h, linear_combination]:\n",
        "  plt.arrow(0, 0, \n",
        "            myvect[0],\n",
        "            myvect[1],\n",
        "            head_width=.2,\n",
        "            head_length=.2,\n",
        "            linewidth=10,\n",
        "            color='#F66800')"
      ],
      "execution_count": 0,
      "outputs": []
    },
    {
      "cell_type": "code",
      "metadata": {
        "id": "K2maQ5t_p_v0",
        "colab_type": "code",
        "colab": {}
      },
      "source": [
        "# Let's find several linear combinations\n",
        "combo_list = []\n",
        "for (a,b) in [(2,3), (4,5), (6,7), (8,9)]:\n",
        "  linear_combination = np.multiply(g, a) + np.multiply(h, b)\n",
        "  combo_list.append(linear_combination)\n",
        "print(combo_list)"
      ],
      "execution_count": 0,
      "outputs": []
    },
    {
      "cell_type": "markdown",
      "metadata": {
        "id": "l1deylUj4IHH",
        "colab_type": "text"
      },
      "source": [
        "## 5.2 What is the span of $\\{l, m, n\\}$?\n",
        "\n",
        "\\begin{align}\n",
        "l = \\begin{bmatrix} 1 & 2 & 3 \\end{bmatrix}\n",
        "\\qquad\n",
        "m = \\begin{bmatrix} -1 & 0 & 7 \\end{bmatrix}\n",
        "\\qquad\n",
        "n = \\begin{bmatrix} 4 & 8  & 2\\end{bmatrix}\n",
        "\\end{align}"
      ]
    },
    {
      "cell_type": "code",
      "metadata": {
        "id": "p1i_ueD25ZcP",
        "colab_type": "code",
        "colab": {}
      },
      "source": [
        "# First create our vectors\n",
        "l = np.array([1, 2, 3])\n",
        "m = np.array([-1, 0, 7])\n",
        "n = np.array([4, 8, 2])\n",
        "print(l)\n",
        "print('\\n', m)\n",
        "print('\\n', n)"
      ],
      "execution_count": 0,
      "outputs": []
    },
    {
      "cell_type": "code",
      "metadata": {
        "id": "RRAtCsHGuqV_",
        "colab_type": "code",
        "colab": {}
      },
      "source": [
        "fig, ax = plt.subplots(figsize=(4,4))\n",
        "ax.grid()\n",
        "plt.xlim(-5,10)\n",
        "plt.ylim(-5,10)\n",
        "\n",
        "# Display\n",
        "for myvect in [l, m, n]:\n",
        "  plt.arrow(0, 0, \n",
        "            myvect[0],\n",
        "            myvect[1],\n",
        "            head_width=.2,\n",
        "            head_length=.2,\n",
        "            linewidth=10,\n",
        "            color='#5F51F5')"
      ],
      "execution_count": 0,
      "outputs": []
    },
    {
      "cell_type": "code",
      "metadata": {
        "id": "DUjQixJzuyj2",
        "colab_type": "code",
        "colab": {}
      },
      "source": [
        "# Let's find some linear combinations\n",
        "combo_list = []\n",
        "for (a,b,c) in [(2,3,4), (5,6,7), (8,9,10)]:\n",
        "  linear_combination = np.multiply(l, a) + np.multiply(m, b) + np.multiply(n, c)\n",
        "  combo_list.append(linear_combination)\n",
        "print(combo_list)"
      ],
      "execution_count": 0,
      "outputs": []
    },
    {
      "cell_type": "code",
      "metadata": {
        "id": "8_0kKmb7uzVB",
        "colab_type": "code",
        "colab": {}
      },
      "source": [
        "# Let's visualize that\n",
        "fig, ax = plt.subplots(figsize=(4,4))\n",
        "ax.grid()\n",
        "plt.xlim(-5,50)\n",
        "plt.ylim(-5,110)\n",
        "\n",
        "# Display\n",
        "for myvect in [l, m, n,combo_list[0],combo_list[1],combo_list[2]]:\n",
        "  plt.arrow(0, 0, \n",
        "            myvect[0],\n",
        "            myvect[1],\n",
        "            head_width=.2,\n",
        "            head_length=.2,\n",
        "            linewidth=10,\n",
        "            color='#5F51F5')"
      ],
      "execution_count": 0,
      "outputs": []
    },
    {
      "cell_type": "markdown",
      "metadata": {
        "id": "IBqe7X1732kX",
        "colab_type": "text"
      },
      "source": [
        "# Basis"
      ]
    },
    {
      "cell_type": "markdown",
      "metadata": {
        "id": "YeUZVHRM6PpT",
        "colab_type": "text"
      },
      "source": [
        "## 6.1 Graph two vectors that form a basis for $\\mathbb{R}^2$\n",
        "\n"
      ]
    },
    {
      "cell_type": "code",
      "metadata": {
        "id": "utvF3Pkt8NP6",
        "colab_type": "code",
        "colab": {}
      },
      "source": [
        " # Create our vectors\n",
        "o = np.array([-12, 14])\n",
        "p = np.array([12, 14])\n"
      ],
      "execution_count": 0,
      "outputs": []
    },
    {
      "cell_type": "code",
      "metadata": {
        "id": "2yatRTTA7mvH",
        "colab_type": "code",
        "colab": {}
      },
      "source": [
        "# Plot\n",
        "plt.arrow(0,0, o[0], o[1], head_width=.05, head_length=.05, color='#00FEE1')\n",
        "plt.arrow(0,0, p[0], p[1], head_width=.05, head_length=.05, color='#FF4D65')\n",
        "plt.xlim(-15, 15)\n",
        "plt.ylim(-1,15)\n",
        "plt.title(\"R^2 Basis\")\n",
        "plt.show()\n"
      ],
      "execution_count": 0,
      "outputs": []
    },
    {
      "cell_type": "markdown",
      "metadata": {
        "id": "20yPFBDUxxnS",
        "colab_type": "text"
      },
      "source": [
        "## 6.2 What does it mean to form a basis?"
      ]
    },
    {
      "cell_type": "markdown",
      "metadata": {
        "id": "3w4tEayT8M0o",
        "colab_type": "text"
      },
      "source": [
        "The basis is linearly independent vectors spanning a vector space, denoted V. From the shape of the graph, the vector pair forms a v shape and the space between those two vectors, within the V shape, is the basis. \n"
      ]
    },
    {
      "cell_type": "markdown",
      "metadata": {
        "id": "EHmUxbcY6vD3",
        "colab_type": "text"
      },
      "source": [
        "# Rank"
      ]
    },
    {
      "cell_type": "markdown",
      "metadata": {
        "id": "IpJwt9kw6v8U",
        "colab_type": "text"
      },
      "source": [
        "## 7.1 What is the Rank of P?\n",
        "\n",
        "\\begin{align}\n",
        "P = \\begin{bmatrix} \n",
        "1 & 2 & 3 \\\\\n",
        " -1 & 0 & 7 \\\\\n",
        "4 & 8  & 2\n",
        "\\end{bmatrix}\n",
        "\\end{align}"
      ]
    },
    {
      "cell_type": "code",
      "metadata": {
        "id": "qhhs-gsJRJ9o",
        "colab_type": "code",
        "colab": {}
      },
      "source": [
        "# Create matrix\n",
        "P = np.array([[1, 2, 3],\n",
        "              [-1, 0, 7],\n",
        "              [4, 8, 2]])\n",
        "pd.DataFrame(P)"
      ],
      "execution_count": 0,
      "outputs": []
    },
    {
      "cell_type": "code",
      "metadata": {
        "id": "RJMTt96nRYw0",
        "colab_type": "code",
        "colab": {}
      },
      "source": [
        "# Let's find the rank\n",
        "np.linalg.matrix_rank(P)"
      ],
      "execution_count": 0,
      "outputs": []
    },
    {
      "cell_type": "code",
      "metadata": {
        "id": "jiBDznkaTuaW",
        "colab_type": "code",
        "colab": {}
      },
      "source": [
        "# Now create an array with 1s on the diagonal and 0s elsewhere\n",
        "np.eye(3)"
      ],
      "execution_count": 0,
      "outputs": []
    },
    {
      "cell_type": "markdown",
      "metadata": {
        "id": "jGqFMBYY7mHD",
        "colab_type": "text"
      },
      "source": [
        "## 7.2 What does the rank of a matrix tell us?"
      ]
    },
    {
      "cell_type": "markdown",
      "metadata": {
        "id": "Vjg1IiCD8nnP",
        "colab_type": "text"
      },
      "source": [
        "Matrices may not necessarily span the dimensions their number of rows or columns would have you believe. The rank of a matrix determines that span, telling us the dimension of the vector space spanned by the columns of that matrix."
      ]
    },
    {
      "cell_type": "markdown",
      "metadata": {
        "id": "0Db2sc_V8QD6",
        "colab_type": "text"
      },
      "source": [
        "# Linear Projections\n",
        "\n",
        "## 8.1 Line $L$ is formed by all of the vectors that can be created by scaling vector $v$ \n",
        "\\begin{align}\n",
        "v = \\begin{bmatrix} 1 & 3 \\end{bmatrix}\n",
        "\\end{align}\n",
        "\n",
        "\\begin{align}\n",
        "w = \\begin{bmatrix} -1 & 2 \\end{bmatrix}\n",
        "\\end{align}\n",
        "\n",
        "## find $proj_{L}(w)$\n",
        "\n",
        "## graph your projected vector to check your work (make sure your axis are square/even)"
      ]
    },
    {
      "cell_type": "code",
      "metadata": {
        "id": "hp5z2WTBCNKx",
        "colab_type": "code",
        "outputId": "b326aefc-8907-4d18-c3c6-2f6805db243d",
        "colab": {
          "base_uri": "https://localhost:8080/",
          "height": 51
        }
      },
      "source": [
        "# First create our vectors\n",
        "v = np.array([1,3])\n",
        "w = np.array([-1,2])\n",
        "print(v)\n",
        "print(w)"
      ],
      "execution_count": 0,
      "outputs": [
        {
          "output_type": "stream",
          "text": [
            "[1 3]\n",
            "[-1  2]\n"
          ],
          "name": "stdout"
        }
      ]
    },
    {
      "cell_type": "code",
      "metadata": {
        "id": "gm2Jht4qdSEr",
        "colab_type": "code",
        "outputId": "55e20204-a0b0-485e-8bed-2f5bea036c02",
        "colab": {
          "base_uri": "https://localhost:8080/",
          "height": 281
        }
      },
      "source": [
        "# Let's plot these two vectors first\n",
        "plt.xlim(-2, 5)\n",
        "plt.ylim(-2,5)\n",
        "\n",
        "# Values for L\n",
        "axes = plt.gca()\n",
        "x_vals = np.array(axes.get_xlim())\n",
        "y_vals = 3*x_vals\n",
        "\n",
        "# Plot vectors and L\n",
        "plt.plot(x_vals, y_vals, '--', color='green', linewidth=1)\n",
        "plt.arrow(0, 0, v[0], v[1] ,linewidth=3, head_width=.05, head_length=.05, color='blue')\n",
        "plt.arrow(0, 0, w[0], w[1], linewidth=3, head_width=.05, head_length=.05, color='red')\n",
        "\n",
        "plt.title(\"Vectors and L\")\n",
        "plt.show()"
      ],
      "execution_count": 0,
      "outputs": [
        {
          "output_type": "display_data",
          "data": {
            "image/png": "[encoded data removed]",
            "text/plain": [
              "<Figure size 432x288 with 1 Axes>"
            ]
          },
          "metadata": {
            "tags": []
          }
        }
      ]
    },
    {
      "cell_type": "code",
      "metadata": {
        "id": "RRFX3Ze1nVfx",
        "colab_type": "code",
        "outputId": "8cbeee31-bbfa-4ef0-9526-b3ea0d857ac7",
        "colab": {
          "base_uri": "https://localhost:8080/",
          "height": 34
        }
      },
      "source": [
        "v_dot_w = np.dot(v, w)\n",
        "v_dot_v = np.dot(v, v)\n",
        "projection = np.multiply((v_dot_w / v_dot_v), v)\n",
        "projection"
      ],
      "execution_count": 0,
      "outputs": [
        {
          "output_type": "execute_result",
          "data": {
            "text/plain": [
              "array([0.5, 1.5])"
            ]
          },
          "metadata": {
            "tags": []
          },
          "execution_count": 45
        }
      ]
    },
    {
      "cell_type": "code",
      "metadata": {
        "id": "jFXhxXdNhjxe",
        "colab_type": "code",
        "outputId": "07243414-edf7-4bf9-fc55-33cd9852d023",
        "colab": {
          "base_uri": "https://localhost:8080/",
          "height": 281
        }
      },
      "source": [
        "# Now that we can see our L and the v vector, let's project the w vector onto the L\n",
        "plt.xlim(-2, 5)\n",
        "plt.ylim(-2,5)\n",
        "\n",
        "# Values for L\n",
        "axes = plt.gca()\n",
        "x_vals = np.array(axes.get_xlim())\n",
        "y_vals = 3*x_vals\n",
        "\n",
        "# Plot vectors, L, and projection\n",
        "plt.plot(x_vals, y_vals, '--', color='green', linewidth=1)\n",
        "plt.arrow(0, 0, v[0], v[1] ,linewidth=3, head_width=.05, head_length=.05, color='blue')\n",
        "plt.arrow(0, 0, w[0], w[1], linewidth=3, head_width=.05, head_length=.05, color='red')\n",
        "plt.arrow(0, 0, projection[0], projection[1], linewidth=3, head_width=.05, head_length=.05, color='grey')\n",
        "\n",
        "plt.title(\"Vectors and L\")\n",
        "plt.show()"
      ],
      "execution_count": 0,
      "outputs": [
        {
          "output_type": "display_data",
          "data": {
            "image/png": "[encoded data removed]",
            "text/plain": [
              "<Figure size 432x288 with 1 Axes>"
            ]
          },
          "metadata": {
            "tags": []
          }
        }
      ]
    },
    {
      "cell_type": "markdown",
      "metadata": {
        "id": "TKkrPwRM-Oar",
        "colab_type": "text"
      },
      "source": [
        "# Stretch Goal\n",
        "\n",
        "## For vectors that begin at the origin, the coordinates of where the vector ends can be interpreted as regular data points. (See 3Blue1Brown videos about Spans, Basis, etc.)\n",
        "\n",
        "## Write a function that can calculate the linear projection of each point (x,y) (vector) onto the line y=x. run the function and plot the original points in blue and the new projected points on the line y=x in red. \n",
        "\n",
        "## For extra points plot the orthogonal vectors as a dashed line from the original blue points to the projected red points."
      ]
    },
    {
      "cell_type": "code",
      "metadata": {
        "id": "cp52kZra-ykj",
        "colab_type": "code",
        "outputId": "561d5e3c-e855-46db-95ad-3beb89944900",
        "colab": {
          "base_uri": "https://localhost:8080/",
          "height": 265
        }
      },
      "source": [
        "import pandas as pd\n",
        "import matplotlib.pyplot as plt\n",
        "\n",
        "# Creating a dataframe for you to work with -Feel free to not use the dataframe if you don't want to.\n",
        "x_values = [1, 4, 7, 3, 9, 4, 5 ]\n",
        "y_values = [4, 2, 5, 0, 8, 2, 8]\n",
        "\n",
        "data = {\"x\": x_values, \"y\": y_values}\n",
        "\n",
        "df = pd.DataFrame(data)\n",
        "\n",
        "df.head()\n",
        "\n",
        "plt.scatter(df.x, df.y)\n",
        "plt.show()"
      ],
      "execution_count": 0,
      "outputs": [
        {
          "output_type": "display_data",
          "data": {
            "image/png": "[encoded data removed]",
            "text/plain": [
              "<Figure size 432x288 with 1 Axes>"
            ]
          },
          "metadata": {
            "tags": []
          }
        }
      ]
    },
    {
      "cell_type": "code",
      "metadata": {
        "id": "NI1x_xgofDBA",
        "colab_type": "code",
        "outputId": "34a74f89-d4d9-4fc6-9d1c-e9595b9bf8ef",
        "colab": {
          "base_uri": "https://localhost:8080/",
          "height": 68
        }
      },
      "source": [
        "x_dot_y = df['x'].dot(df['y'])\n",
        "x_dot_x = df['x'].dot(df['x'])\n",
        "fract = x_dot_y / x_dot_x\n",
        "print(x_dot_y)\n",
        "print(x_dot_x)\n",
        "print(fract)"
      ],
      "execution_count": 0,
      "outputs": [
        {
          "output_type": "stream",
          "text": [
            "167\n",
            "197\n",
            "0.8477157360406091\n"
          ],
          "name": "stdout"
        }
      ]
    },
    {
      "cell_type": "code",
      "metadata": {
        "id": "FgSTWN57fCzf",
        "colab_type": "code",
        "outputId": "4c04c9de-87a6-413c-dd08-bac2e33d959e",
        "colab": {
          "base_uri": "https://localhost:8080/",
          "height": 153
        }
      },
      "source": [
        "projections = df['y'].multiply(fract)\n",
        "projections"
      ],
      "execution_count": 0,
      "outputs": [
        {
          "output_type": "execute_result",
          "data": {
            "text/plain": [
              "0    3.390863\n",
              "1    1.695431\n",
              "2    4.238579\n",
              "3    0.000000\n",
              "4    6.781726\n",
              "5    1.695431\n",
              "6    6.781726\n",
              "Name: y, dtype: float64"
            ]
          },
          "metadata": {
            "tags": []
          },
          "execution_count": 55
        }
      ]
    },
    {
      "cell_type": "code",
      "metadata": {
        "id": "15q1uBMLfCVF",
        "colab_type": "code",
        "colab": {}
      },
      "source": [
        ""
      ],
      "execution_count": 0,
      "outputs": []
    },
    {
      "cell_type": "code",
      "metadata": {
        "id": "EZTA6Tj6BGDb",
        "colab_type": "code",
        "colab": {}
      },
      "source": [
        ""
      ],
      "execution_count": 0,
      "outputs": []
    }
  ]
}