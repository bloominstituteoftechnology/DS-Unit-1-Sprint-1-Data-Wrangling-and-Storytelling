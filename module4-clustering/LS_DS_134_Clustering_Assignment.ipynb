{
  "nbformat": 4,
  "nbformat_minor": 0,
  "metadata": {
    "colab": {
      "name": "LS_DS_134_Clustering_Assignment.ipynb",
      "provenance": [],
      "collapsed_sections": [],
      "include_colab_link": true
    },
    "kernelspec": {
      "name": "python3",
      "display_name": "Python 3"
    }
  },
  "cells": [
    {
      "cell_type": "markdown",
      "metadata": {
        "id": "view-in-github",
        "colab_type": "text"
      },
      "source": [
        "<a href=\"https://colab.research.google.com/github/jmmiddour/DS-Unit-1-Sprint-1-Data-Wrangling-and-Storytelling/blob/master/module4-clustering/LS_DS_134_Clustering_Assignment.ipynb\" target=\"_parent\"><img src=\"https://colab.research.google.com/assets/colab-badge.svg\" alt=\"Open In Colab\"/></a>"
      ]
    },
    {
      "cell_type": "markdown",
      "metadata": {
        "id": "y-3rVFtGLMJM",
        "colab_type": "text"
      },
      "source": [
        "# K-Means Clustering"
      ]
    },
    {
      "cell_type": "markdown",
      "metadata": {
        "id": "_VS3FFSFLR3a",
        "colab_type": "text"
      },
      "source": [
        "# 1) Use the \"Breast Cancer Wisconsin (Diagnostic) Data Set\" from Kaggle to try and cluster types of cancer cells. \n",
        "\n",
        "Here's the original dataset for your reference:\n",
        "\n",
        "<https://www.kaggle.com/uciml/breast-cancer-wisconsin-data>"
      ]
    },
    {
      "cell_type": "markdown",
      "metadata": {
        "id": "899RK3bBn4OE",
        "colab_type": "text"
      },
      "source": [
        "## This is a supervised learning dataset\n",
        "\n",
        "(Because it has **labels** - The \"diagnosis\" column.)"
      ]
    },
    {
      "cell_type": "code",
      "metadata": {
        "id": "ws5R9X6hLJQ2",
        "colab_type": "code",
        "outputId": "3bcce6a5-c718-4e15-dadc-8407f81ca4c0",
        "colab": {
          "base_uri": "https://localhost:8080/",
          "height": 247
        }
      },
      "source": [
        "import pandas as pd\n",
        "import numpy as np\n",
        "import matplotlib.pyplot as plt\n",
        "from sklearn.decomposition import PCA # You don't necessarily have to use this\n",
        "from sklearn.cluster import KMeans # You don't necessarily have to use this\n",
        "from sklearn.preprocessing import StandardScaler # You don't necessarily have to use this\n",
        "from sklearn import metrics\n",
        "\n",
        "df = pd.read_csv(\"https://raw.githubusercontent.com/ryanleeallred/datasets/master/Cancer_Cells.csv\")\n",
        "print(df.shape)\n",
        "df.head()"
      ],
      "execution_count": 0,
      "outputs": [
        {
          "output_type": "stream",
          "text": [
            "(569, 33)\n"
          ],
          "name": "stdout"
        },
        {
          "output_type": "execute_result",
          "data": {
            "text/html": [
              "<div>\n",
              "<style scoped>\n",
              "    .dataframe tbody tr th:only-of-type {\n",
              "        vertical-align: middle;\n",
              "    }\n",
              "\n",
              "    .dataframe tbody tr th {\n",
              "        vertical-align: top;\n",
              "    }\n",
              "\n",
              "    .dataframe thead th {\n",
              "        text-align: right;\n",
              "    }\n",
              "</style>\n",
              "<table border=\"1\" class=\"dataframe\">\n",
              "  <thead>\n",
              "    <tr style=\"text-align: right;\">\n",
              "      <th></th>\n",
              "      <th>id</th>\n",
              "      <th>diagnosis</th>\n",
              "      <th>radius_mean</th>\n",
              "      <th>texture_mean</th>\n",
              "      <th>perimeter_mean</th>\n",
              "      <th>area_mean</th>\n",
              "      <th>smoothness_mean</th>\n",
              "      <th>compactness_mean</th>\n",
              "      <th>concavity_mean</th>\n",
              "      <th>concave points_mean</th>\n",
              "      <th>symmetry_mean</th>\n",
              "      <th>fractal_dimension_mean</th>\n",
              "      <th>radius_se</th>\n",
              "      <th>texture_se</th>\n",
              "      <th>perimeter_se</th>\n",
              "      <th>area_se</th>\n",
              "      <th>smoothness_se</th>\n",
              "      <th>compactness_se</th>\n",
              "      <th>concavity_se</th>\n",
              "      <th>concave points_se</th>\n",
              "      <th>symmetry_se</th>\n",
              "      <th>fractal_dimension_se</th>\n",
              "      <th>radius_worst</th>\n",
              "      <th>texture_worst</th>\n",
              "      <th>perimeter_worst</th>\n",
              "      <th>area_worst</th>\n",
              "      <th>smoothness_worst</th>\n",
              "      <th>compactness_worst</th>\n",
              "      <th>concavity_worst</th>\n",
              "      <th>concave points_worst</th>\n",
              "      <th>symmetry_worst</th>\n",
              "      <th>fractal_dimension_worst</th>\n",
              "      <th>Unnamed: 32</th>\n",
              "    </tr>\n",
              "  </thead>\n",
              "  <tbody>\n",
              "    <tr>\n",
              "      <th>0</th>\n",
              "      <td>842302</td>\n",
              "      <td>M</td>\n",
              "      <td>17.99</td>\n",
              "      <td>10.38</td>\n",
              "      <td>122.80</td>\n",
              "      <td>1001.0</td>\n",
              "      <td>0.11840</td>\n",
              "      <td>0.27760</td>\n",
              "      <td>0.3001</td>\n",
              "      <td>0.14710</td>\n",
              "      <td>0.2419</td>\n",
              "      <td>0.07871</td>\n",
              "      <td>1.0950</td>\n",
              "      <td>0.9053</td>\n",
              "      <td>8.589</td>\n",
              "      <td>153.40</td>\n",
              "      <td>0.006399</td>\n",
              "      <td>0.04904</td>\n",
              "      <td>0.05373</td>\n",
              "      <td>0.01587</td>\n",
              "      <td>0.03003</td>\n",
              "      <td>0.006193</td>\n",
              "      <td>25.38</td>\n",
              "      <td>17.33</td>\n",
              "      <td>184.60</td>\n",
              "      <td>2019.0</td>\n",
              "      <td>0.1622</td>\n",
              "      <td>0.6656</td>\n",
              "      <td>0.7119</td>\n",
              "      <td>0.2654</td>\n",
              "      <td>0.4601</td>\n",
              "      <td>0.11890</td>\n",
              "      <td>NaN</td>\n",
              "    </tr>\n",
              "    <tr>\n",
              "      <th>1</th>\n",
              "      <td>842517</td>\n",
              "      <td>M</td>\n",
              "      <td>20.57</td>\n",
              "      <td>17.77</td>\n",
              "      <td>132.90</td>\n",
              "      <td>1326.0</td>\n",
              "      <td>0.08474</td>\n",
              "      <td>0.07864</td>\n",
              "      <td>0.0869</td>\n",
              "      <td>0.07017</td>\n",
              "      <td>0.1812</td>\n",
              "      <td>0.05667</td>\n",
              "      <td>0.5435</td>\n",
              "      <td>0.7339</td>\n",
              "      <td>3.398</td>\n",
              "      <td>74.08</td>\n",
              "      <td>0.005225</td>\n",
              "      <td>0.01308</td>\n",
              "      <td>0.01860</td>\n",
              "      <td>0.01340</td>\n",
              "      <td>0.01389</td>\n",
              "      <td>0.003532</td>\n",
              "      <td>24.99</td>\n",
              "      <td>23.41</td>\n",
              "      <td>158.80</td>\n",
              "      <td>1956.0</td>\n",
              "      <td>0.1238</td>\n",
              "      <td>0.1866</td>\n",
              "      <td>0.2416</td>\n",
              "      <td>0.1860</td>\n",
              "      <td>0.2750</td>\n",
              "      <td>0.08902</td>\n",
              "      <td>NaN</td>\n",
              "    </tr>\n",
              "    <tr>\n",
              "      <th>2</th>\n",
              "      <td>84300903</td>\n",
              "      <td>M</td>\n",
              "      <td>19.69</td>\n",
              "      <td>21.25</td>\n",
              "      <td>130.00</td>\n",
              "      <td>1203.0</td>\n",
              "      <td>0.10960</td>\n",
              "      <td>0.15990</td>\n",
              "      <td>0.1974</td>\n",
              "      <td>0.12790</td>\n",
              "      <td>0.2069</td>\n",
              "      <td>0.05999</td>\n",
              "      <td>0.7456</td>\n",
              "      <td>0.7869</td>\n",
              "      <td>4.585</td>\n",
              "      <td>94.03</td>\n",
              "      <td>0.006150</td>\n",
              "      <td>0.04006</td>\n",
              "      <td>0.03832</td>\n",
              "      <td>0.02058</td>\n",
              "      <td>0.02250</td>\n",
              "      <td>0.004571</td>\n",
              "      <td>23.57</td>\n",
              "      <td>25.53</td>\n",
              "      <td>152.50</td>\n",
              "      <td>1709.0</td>\n",
              "      <td>0.1444</td>\n",
              "      <td>0.4245</td>\n",
              "      <td>0.4504</td>\n",
              "      <td>0.2430</td>\n",
              "      <td>0.3613</td>\n",
              "      <td>0.08758</td>\n",
              "      <td>NaN</td>\n",
              "    </tr>\n",
              "    <tr>\n",
              "      <th>3</th>\n",
              "      <td>84348301</td>\n",
              "      <td>M</td>\n",
              "      <td>11.42</td>\n",
              "      <td>20.38</td>\n",
              "      <td>77.58</td>\n",
              "      <td>386.1</td>\n",
              "      <td>0.14250</td>\n",
              "      <td>0.28390</td>\n",
              "      <td>0.2414</td>\n",
              "      <td>0.10520</td>\n",
              "      <td>0.2597</td>\n",
              "      <td>0.09744</td>\n",
              "      <td>0.4956</td>\n",
              "      <td>1.1560</td>\n",
              "      <td>3.445</td>\n",
              "      <td>27.23</td>\n",
              "      <td>0.009110</td>\n",
              "      <td>0.07458</td>\n",
              "      <td>0.05661</td>\n",
              "      <td>0.01867</td>\n",
              "      <td>0.05963</td>\n",
              "      <td>0.009208</td>\n",
              "      <td>14.91</td>\n",
              "      <td>26.50</td>\n",
              "      <td>98.87</td>\n",
              "      <td>567.7</td>\n",
              "      <td>0.2098</td>\n",
              "      <td>0.8663</td>\n",
              "      <td>0.6869</td>\n",
              "      <td>0.2575</td>\n",
              "      <td>0.6638</td>\n",
              "      <td>0.17300</td>\n",
              "      <td>NaN</td>\n",
              "    </tr>\n",
              "    <tr>\n",
              "      <th>4</th>\n",
              "      <td>84358402</td>\n",
              "      <td>M</td>\n",
              "      <td>20.29</td>\n",
              "      <td>14.34</td>\n",
              "      <td>135.10</td>\n",
              "      <td>1297.0</td>\n",
              "      <td>0.10030</td>\n",
              "      <td>0.13280</td>\n",
              "      <td>0.1980</td>\n",
              "      <td>0.10430</td>\n",
              "      <td>0.1809</td>\n",
              "      <td>0.05883</td>\n",
              "      <td>0.7572</td>\n",
              "      <td>0.7813</td>\n",
              "      <td>5.438</td>\n",
              "      <td>94.44</td>\n",
              "      <td>0.011490</td>\n",
              "      <td>0.02461</td>\n",
              "      <td>0.05688</td>\n",
              "      <td>0.01885</td>\n",
              "      <td>0.01756</td>\n",
              "      <td>0.005115</td>\n",
              "      <td>22.54</td>\n",
              "      <td>16.67</td>\n",
              "      <td>152.20</td>\n",
              "      <td>1575.0</td>\n",
              "      <td>0.1374</td>\n",
              "      <td>0.2050</td>\n",
              "      <td>0.4000</td>\n",
              "      <td>0.1625</td>\n",
              "      <td>0.2364</td>\n",
              "      <td>0.07678</td>\n",
              "      <td>NaN</td>\n",
              "    </tr>\n",
              "  </tbody>\n",
              "</table>\n",
              "</div>"
            ],
            "text/plain": [
              "         id diagnosis  ...  fractal_dimension_worst  Unnamed: 32\n",
              "0    842302         M  ...                  0.11890          NaN\n",
              "1    842517         M  ...                  0.08902          NaN\n",
              "2  84300903         M  ...                  0.08758          NaN\n",
              "3  84348301         M  ...                  0.17300          NaN\n",
              "4  84358402         M  ...                  0.07678          NaN\n",
              "\n",
              "[5 rows x 33 columns]"
            ]
          },
          "metadata": {
            "tags": []
          },
          "execution_count": 1
        }
      ]
    },
    {
      "cell_type": "markdown",
      "metadata": {
        "id": "IHDDqaU-ove4",
        "colab_type": "text"
      },
      "source": [
        "## Now it's an unsupervised learning dataset\n",
        "\n",
        "(Because we've removed the diagnosis label) - Use this version."
      ]
    },
    {
      "cell_type": "code",
      "metadata": {
        "id": "86MHoPJon_aC",
        "colab_type": "code",
        "outputId": "644f751f-934a-4542-eeb2-902be2a5807a",
        "colab": {
          "base_uri": "https://localhost:8080/",
          "height": 230
        }
      },
      "source": [
        "cancer = df.drop('diagnosis', axis=1)\n",
        "cancer.head()"
      ],
      "execution_count": 0,
      "outputs": [
        {
          "output_type": "execute_result",
          "data": {
            "text/html": [
              "<div>\n",
              "<style scoped>\n",
              "    .dataframe tbody tr th:only-of-type {\n",
              "        vertical-align: middle;\n",
              "    }\n",
              "\n",
              "    .dataframe tbody tr th {\n",
              "        vertical-align: top;\n",
              "    }\n",
              "\n",
              "    .dataframe thead th {\n",
              "        text-align: right;\n",
              "    }\n",
              "</style>\n",
              "<table border=\"1\" class=\"dataframe\">\n",
              "  <thead>\n",
              "    <tr style=\"text-align: right;\">\n",
              "      <th></th>\n",
              "      <th>id</th>\n",
              "      <th>radius_mean</th>\n",
              "      <th>texture_mean</th>\n",
              "      <th>perimeter_mean</th>\n",
              "      <th>area_mean</th>\n",
              "      <th>smoothness_mean</th>\n",
              "      <th>compactness_mean</th>\n",
              "      <th>concavity_mean</th>\n",
              "      <th>concave points_mean</th>\n",
              "      <th>symmetry_mean</th>\n",
              "      <th>fractal_dimension_mean</th>\n",
              "      <th>radius_se</th>\n",
              "      <th>texture_se</th>\n",
              "      <th>perimeter_se</th>\n",
              "      <th>area_se</th>\n",
              "      <th>smoothness_se</th>\n",
              "      <th>compactness_se</th>\n",
              "      <th>concavity_se</th>\n",
              "      <th>concave points_se</th>\n",
              "      <th>symmetry_se</th>\n",
              "      <th>fractal_dimension_se</th>\n",
              "      <th>radius_worst</th>\n",
              "      <th>texture_worst</th>\n",
              "      <th>perimeter_worst</th>\n",
              "      <th>area_worst</th>\n",
              "      <th>smoothness_worst</th>\n",
              "      <th>compactness_worst</th>\n",
              "      <th>concavity_worst</th>\n",
              "      <th>concave points_worst</th>\n",
              "      <th>symmetry_worst</th>\n",
              "      <th>fractal_dimension_worst</th>\n",
              "      <th>Unnamed: 32</th>\n",
              "    </tr>\n",
              "  </thead>\n",
              "  <tbody>\n",
              "    <tr>\n",
              "      <th>0</th>\n",
              "      <td>842302</td>\n",
              "      <td>17.99</td>\n",
              "      <td>10.38</td>\n",
              "      <td>122.80</td>\n",
              "      <td>1001.0</td>\n",
              "      <td>0.11840</td>\n",
              "      <td>0.27760</td>\n",
              "      <td>0.3001</td>\n",
              "      <td>0.14710</td>\n",
              "      <td>0.2419</td>\n",
              "      <td>0.07871</td>\n",
              "      <td>1.0950</td>\n",
              "      <td>0.9053</td>\n",
              "      <td>8.589</td>\n",
              "      <td>153.40</td>\n",
              "      <td>0.006399</td>\n",
              "      <td>0.04904</td>\n",
              "      <td>0.05373</td>\n",
              "      <td>0.01587</td>\n",
              "      <td>0.03003</td>\n",
              "      <td>0.006193</td>\n",
              "      <td>25.38</td>\n",
              "      <td>17.33</td>\n",
              "      <td>184.60</td>\n",
              "      <td>2019.0</td>\n",
              "      <td>0.1622</td>\n",
              "      <td>0.6656</td>\n",
              "      <td>0.7119</td>\n",
              "      <td>0.2654</td>\n",
              "      <td>0.4601</td>\n",
              "      <td>0.11890</td>\n",
              "      <td>NaN</td>\n",
              "    </tr>\n",
              "    <tr>\n",
              "      <th>1</th>\n",
              "      <td>842517</td>\n",
              "      <td>20.57</td>\n",
              "      <td>17.77</td>\n",
              "      <td>132.90</td>\n",
              "      <td>1326.0</td>\n",
              "      <td>0.08474</td>\n",
              "      <td>0.07864</td>\n",
              "      <td>0.0869</td>\n",
              "      <td>0.07017</td>\n",
              "      <td>0.1812</td>\n",
              "      <td>0.05667</td>\n",
              "      <td>0.5435</td>\n",
              "      <td>0.7339</td>\n",
              "      <td>3.398</td>\n",
              "      <td>74.08</td>\n",
              "      <td>0.005225</td>\n",
              "      <td>0.01308</td>\n",
              "      <td>0.01860</td>\n",
              "      <td>0.01340</td>\n",
              "      <td>0.01389</td>\n",
              "      <td>0.003532</td>\n",
              "      <td>24.99</td>\n",
              "      <td>23.41</td>\n",
              "      <td>158.80</td>\n",
              "      <td>1956.0</td>\n",
              "      <td>0.1238</td>\n",
              "      <td>0.1866</td>\n",
              "      <td>0.2416</td>\n",
              "      <td>0.1860</td>\n",
              "      <td>0.2750</td>\n",
              "      <td>0.08902</td>\n",
              "      <td>NaN</td>\n",
              "    </tr>\n",
              "    <tr>\n",
              "      <th>2</th>\n",
              "      <td>84300903</td>\n",
              "      <td>19.69</td>\n",
              "      <td>21.25</td>\n",
              "      <td>130.00</td>\n",
              "      <td>1203.0</td>\n",
              "      <td>0.10960</td>\n",
              "      <td>0.15990</td>\n",
              "      <td>0.1974</td>\n",
              "      <td>0.12790</td>\n",
              "      <td>0.2069</td>\n",
              "      <td>0.05999</td>\n",
              "      <td>0.7456</td>\n",
              "      <td>0.7869</td>\n",
              "      <td>4.585</td>\n",
              "      <td>94.03</td>\n",
              "      <td>0.006150</td>\n",
              "      <td>0.04006</td>\n",
              "      <td>0.03832</td>\n",
              "      <td>0.02058</td>\n",
              "      <td>0.02250</td>\n",
              "      <td>0.004571</td>\n",
              "      <td>23.57</td>\n",
              "      <td>25.53</td>\n",
              "      <td>152.50</td>\n",
              "      <td>1709.0</td>\n",
              "      <td>0.1444</td>\n",
              "      <td>0.4245</td>\n",
              "      <td>0.4504</td>\n",
              "      <td>0.2430</td>\n",
              "      <td>0.3613</td>\n",
              "      <td>0.08758</td>\n",
              "      <td>NaN</td>\n",
              "    </tr>\n",
              "    <tr>\n",
              "      <th>3</th>\n",
              "      <td>84348301</td>\n",
              "      <td>11.42</td>\n",
              "      <td>20.38</td>\n",
              "      <td>77.58</td>\n",
              "      <td>386.1</td>\n",
              "      <td>0.14250</td>\n",
              "      <td>0.28390</td>\n",
              "      <td>0.2414</td>\n",
              "      <td>0.10520</td>\n",
              "      <td>0.2597</td>\n",
              "      <td>0.09744</td>\n",
              "      <td>0.4956</td>\n",
              "      <td>1.1560</td>\n",
              "      <td>3.445</td>\n",
              "      <td>27.23</td>\n",
              "      <td>0.009110</td>\n",
              "      <td>0.07458</td>\n",
              "      <td>0.05661</td>\n",
              "      <td>0.01867</td>\n",
              "      <td>0.05963</td>\n",
              "      <td>0.009208</td>\n",
              "      <td>14.91</td>\n",
              "      <td>26.50</td>\n",
              "      <td>98.87</td>\n",
              "      <td>567.7</td>\n",
              "      <td>0.2098</td>\n",
              "      <td>0.8663</td>\n",
              "      <td>0.6869</td>\n",
              "      <td>0.2575</td>\n",
              "      <td>0.6638</td>\n",
              "      <td>0.17300</td>\n",
              "      <td>NaN</td>\n",
              "    </tr>\n",
              "    <tr>\n",
              "      <th>4</th>\n",
              "      <td>84358402</td>\n",
              "      <td>20.29</td>\n",
              "      <td>14.34</td>\n",
              "      <td>135.10</td>\n",
              "      <td>1297.0</td>\n",
              "      <td>0.10030</td>\n",
              "      <td>0.13280</td>\n",
              "      <td>0.1980</td>\n",
              "      <td>0.10430</td>\n",
              "      <td>0.1809</td>\n",
              "      <td>0.05883</td>\n",
              "      <td>0.7572</td>\n",
              "      <td>0.7813</td>\n",
              "      <td>5.438</td>\n",
              "      <td>94.44</td>\n",
              "      <td>0.011490</td>\n",
              "      <td>0.02461</td>\n",
              "      <td>0.05688</td>\n",
              "      <td>0.01885</td>\n",
              "      <td>0.01756</td>\n",
              "      <td>0.005115</td>\n",
              "      <td>22.54</td>\n",
              "      <td>16.67</td>\n",
              "      <td>152.20</td>\n",
              "      <td>1575.0</td>\n",
              "      <td>0.1374</td>\n",
              "      <td>0.2050</td>\n",
              "      <td>0.4000</td>\n",
              "      <td>0.1625</td>\n",
              "      <td>0.2364</td>\n",
              "      <td>0.07678</td>\n",
              "      <td>NaN</td>\n",
              "    </tr>\n",
              "  </tbody>\n",
              "</table>\n",
              "</div>"
            ],
            "text/plain": [
              "         id  radius_mean  ...  fractal_dimension_worst  Unnamed: 32\n",
              "0    842302        17.99  ...                  0.11890          NaN\n",
              "1    842517        20.57  ...                  0.08902          NaN\n",
              "2  84300903        19.69  ...                  0.08758          NaN\n",
              "3  84348301        11.42  ...                  0.17300          NaN\n",
              "4  84358402        20.29  ...                  0.07678          NaN\n",
              "\n",
              "[5 rows x 32 columns]"
            ]
          },
          "metadata": {
            "tags": []
          },
          "execution_count": 2
        }
      ]
    },
    {
      "cell_type": "markdown",
      "metadata": {
        "id": "rskC80k3OKMA",
        "colab_type": "text"
      },
      "source": [
        "## Let's do it!\n",
        "\n",
        "- You might want to do some data exploration to see if you can find specific columns that will help you find distinct clusters of cells\n",
        "- You might want to use the elbow method to decide on the number of clusters to use.\n"
      ]
    },
    {
      "cell_type": "code",
      "metadata": {
        "id": "SrHYgxhfCQn6",
        "colab_type": "code",
        "outputId": "81b419ff-e8ca-407c-a0fe-96cb152969a1",
        "colab": {
          "base_uri": "https://localhost:8080/",
          "height": 34
        }
      },
      "source": [
        "# Look at the shape of the dataframe:\n",
        "print (cancer.shape)"
      ],
      "execution_count": 0,
      "outputs": [
        {
          "output_type": "stream",
          "text": [
            "(569, 32)\n"
          ],
          "name": "stdout"
        }
      ]
    },
    {
      "cell_type": "code",
      "metadata": {
        "id": "468nvxIRN95A",
        "colab_type": "code",
        "outputId": "6fbfa9a4-b35e-4e54-a76b-5f63e66b6ba6",
        "colab": {
          "base_uri": "https://localhost:8080/",
          "height": 572
        }
      },
      "source": [
        "# Look for missing values:\n",
        "cancer.isnull().sum()"
      ],
      "execution_count": 0,
      "outputs": [
        {
          "output_type": "execute_result",
          "data": {
            "text/plain": [
              "id                           0\n",
              "radius_mean                  0\n",
              "texture_mean                 0\n",
              "perimeter_mean               0\n",
              "area_mean                    0\n",
              "smoothness_mean              0\n",
              "compactness_mean             0\n",
              "concavity_mean               0\n",
              "concave points_mean          0\n",
              "symmetry_mean                0\n",
              "fractal_dimension_mean       0\n",
              "radius_se                    0\n",
              "texture_se                   0\n",
              "perimeter_se                 0\n",
              "area_se                      0\n",
              "smoothness_se                0\n",
              "compactness_se               0\n",
              "concavity_se                 0\n",
              "concave points_se            0\n",
              "symmetry_se                  0\n",
              "fractal_dimension_se         0\n",
              "radius_worst                 0\n",
              "texture_worst                0\n",
              "perimeter_worst              0\n",
              "area_worst                   0\n",
              "smoothness_worst             0\n",
              "compactness_worst            0\n",
              "concavity_worst              0\n",
              "concave points_worst         0\n",
              "symmetry_worst               0\n",
              "fractal_dimension_worst      0\n",
              "Unnamed: 32                569\n",
              "dtype: int64"
            ]
          },
          "metadata": {
            "tags": []
          },
          "execution_count": 4
        }
      ]
    },
    {
      "cell_type": "code",
      "metadata": {
        "id": "Du89Pri3N-SO",
        "colab_type": "code",
        "outputId": "0e0eade8-39ea-4e8f-cf44-83610278c9a2",
        "colab": {
          "base_uri": "https://localhost:8080/",
          "height": 572
        }
      },
      "source": [
        "# Look at the type of data froo each feature:\n",
        "cancer.dtypes"
      ],
      "execution_count": 0,
      "outputs": [
        {
          "output_type": "execute_result",
          "data": {
            "text/plain": [
              "id                           int64\n",
              "radius_mean                float64\n",
              "texture_mean               float64\n",
              "perimeter_mean             float64\n",
              "area_mean                  float64\n",
              "smoothness_mean            float64\n",
              "compactness_mean           float64\n",
              "concavity_mean             float64\n",
              "concave points_mean        float64\n",
              "symmetry_mean              float64\n",
              "fractal_dimension_mean     float64\n",
              "radius_se                  float64\n",
              "texture_se                 float64\n",
              "perimeter_se               float64\n",
              "area_se                    float64\n",
              "smoothness_se              float64\n",
              "compactness_se             float64\n",
              "concavity_se               float64\n",
              "concave points_se          float64\n",
              "symmetry_se                float64\n",
              "fractal_dimension_se       float64\n",
              "radius_worst               float64\n",
              "texture_worst              float64\n",
              "perimeter_worst            float64\n",
              "area_worst                 float64\n",
              "smoothness_worst           float64\n",
              "compactness_worst          float64\n",
              "concavity_worst            float64\n",
              "concave points_worst       float64\n",
              "symmetry_worst             float64\n",
              "fractal_dimension_worst    float64\n",
              "Unnamed: 32                float64\n",
              "dtype: object"
            ]
          },
          "metadata": {
            "tags": []
          },
          "execution_count": 5
        }
      ]
    },
    {
      "cell_type": "code",
      "metadata": {
        "id": "TQ8B6clpFdNP",
        "colab_type": "code",
        "outputId": "e18862d5-352c-4d9b-b883-118cc8d31949",
        "colab": {
          "base_uri": "https://localhost:8080/",
          "height": 501
        }
      },
      "source": [
        "# Use histograms to look at different features:\n",
        "f, ((ax1, ax2, ), (ax3, ax4)) = plt.subplots(2, 2, squeeze=True, \n",
        "                                           facecolor='white', figsize=(18, 8))\n",
        "ax1.hist(cancer['smoothness_worst'], bins=100)\n",
        "ax1.set_title('Smoothness Worst', size=16, weight='bold')\n",
        "ax2.hist(cancer['smoothness_se'], bins=100)\n",
        "ax2.set_title('Smoothness SE', size=16, weight='bold')\n",
        "ax3.hist(cancer['fractal_dimension_worst'], bins=100)\n",
        "ax3.set_title('Fractal Dimension Worst', size=16, weight='bold')\n",
        "ax4.hist(cancer['fractal_dimension_se'], bins=100)\n",
        "ax4.set_title('Fractal Dimension SE', size=16, weight='bold');"
      ],
      "execution_count": 0,
      "outputs": [
        {
          "output_type": "display_data",
          "data": {
            "image/png": "[encoded data removed]",
            "text/plain": [
              "<Figure size 1296x576 with 4 Axes>"
            ]
          },
          "metadata": {
            "tags": []
          }
        }
      ]
    },
    {
      "cell_type": "code",
      "metadata": {
        "id": "wpqM7JA78iO5",
        "colab_type": "code",
        "outputId": "00b6910f-1a18-413f-d565-c612c4d2831f",
        "colab": {
          "base_uri": "https://localhost:8080/",
          "height": 392
        }
      },
      "source": [
        "# Plot on a scatterplot:\n",
        "f, (ax1, ax2) = plt.subplots(1, 2, facecolor='white', figsize=(16, 6))\n",
        "ax1.scatter(cancer['smoothness_worst'], df['smoothness_mean'])\n",
        "ax1.set_title('Smoothness Worst vs Mean', size=16, weight='bold')\n",
        "ax2.scatter(cancer['fractal_dimension_worst'], df['fractal_dimension_mean'])\n",
        "ax2.set_title('Fractal Dimension Worst vs Mean', size=16, weight='bold');"
      ],
      "execution_count": 0,
      "outputs": [
        {
          "output_type": "display_data",
          "data": {
            "image/png": "[encoded data removed]",
            "text/plain": [
              "<Figure size 1152x432 with 2 Axes>"
            ]
          },
          "metadata": {
            "tags": []
          }
        }
      ]
    },
    {
      "cell_type": "code",
      "metadata": {
        "id": "cARBVPOyU6eJ",
        "colab_type": "code",
        "outputId": "c2910027-8312-4391-bc73-e58709faa283",
        "colab": {
          "base_uri": "https://localhost:8080/",
          "height": 397
        }
      },
      "source": [
        "# Need to subset the dataframe for just the columns for radius:\n",
        "can_sub = np.array([cancer['smoothness_worst'], cancer['fractal_dimension_worst']])\n",
        "\n",
        "# Turn into a dataframe:\n",
        "can_sub = pd.DataFrame(can_sub)\n",
        "\n",
        "# Transpose it to read as less columns:\n",
        "can_sub = can_sub.T\n",
        "\n",
        "# Rename the columns:\n",
        "can_sub.rename(columns={0:'x', 1:'y'}, inplace=True)\n",
        "\n",
        "# View the subset dataframe:\n",
        "can_sub"
      ],
      "execution_count": 0,
      "outputs": [
        {
          "output_type": "execute_result",
          "data": {
            "text/html": [
              "<div>\n",
              "<style scoped>\n",
              "    .dataframe tbody tr th:only-of-type {\n",
              "        vertical-align: middle;\n",
              "    }\n",
              "\n",
              "    .dataframe tbody tr th {\n",
              "        vertical-align: top;\n",
              "    }\n",
              "\n",
              "    .dataframe thead th {\n",
              "        text-align: right;\n",
              "    }\n",
              "</style>\n",
              "<table border=\"1\" class=\"dataframe\">\n",
              "  <thead>\n",
              "    <tr style=\"text-align: right;\">\n",
              "      <th></th>\n",
              "      <th>x</th>\n",
              "      <th>y</th>\n",
              "    </tr>\n",
              "  </thead>\n",
              "  <tbody>\n",
              "    <tr>\n",
              "      <th>0</th>\n",
              "      <td>0.16220</td>\n",
              "      <td>0.11890</td>\n",
              "    </tr>\n",
              "    <tr>\n",
              "      <th>1</th>\n",
              "      <td>0.12380</td>\n",
              "      <td>0.08902</td>\n",
              "    </tr>\n",
              "    <tr>\n",
              "      <th>2</th>\n",
              "      <td>0.14440</td>\n",
              "      <td>0.08758</td>\n",
              "    </tr>\n",
              "    <tr>\n",
              "      <th>3</th>\n",
              "      <td>0.20980</td>\n",
              "      <td>0.17300</td>\n",
              "    </tr>\n",
              "    <tr>\n",
              "      <th>4</th>\n",
              "      <td>0.13740</td>\n",
              "      <td>0.07678</td>\n",
              "    </tr>\n",
              "    <tr>\n",
              "      <th>...</th>\n",
              "      <td>...</td>\n",
              "      <td>...</td>\n",
              "    </tr>\n",
              "    <tr>\n",
              "      <th>564</th>\n",
              "      <td>0.14100</td>\n",
              "      <td>0.07115</td>\n",
              "    </tr>\n",
              "    <tr>\n",
              "      <th>565</th>\n",
              "      <td>0.11660</td>\n",
              "      <td>0.06637</td>\n",
              "    </tr>\n",
              "    <tr>\n",
              "      <th>566</th>\n",
              "      <td>0.11390</td>\n",
              "      <td>0.07820</td>\n",
              "    </tr>\n",
              "    <tr>\n",
              "      <th>567</th>\n",
              "      <td>0.16500</td>\n",
              "      <td>0.12400</td>\n",
              "    </tr>\n",
              "    <tr>\n",
              "      <th>568</th>\n",
              "      <td>0.08996</td>\n",
              "      <td>0.07039</td>\n",
              "    </tr>\n",
              "  </tbody>\n",
              "</table>\n",
              "<p>569 rows × 2 columns</p>\n",
              "</div>"
            ],
            "text/plain": [
              "           x        y\n",
              "0    0.16220  0.11890\n",
              "1    0.12380  0.08902\n",
              "2    0.14440  0.08758\n",
              "3    0.20980  0.17300\n",
              "4    0.13740  0.07678\n",
              "..       ...      ...\n",
              "564  0.14100  0.07115\n",
              "565  0.11660  0.06637\n",
              "566  0.11390  0.07820\n",
              "567  0.16500  0.12400\n",
              "568  0.08996  0.07039\n",
              "\n",
              "[569 rows x 2 columns]"
            ]
          },
          "metadata": {
            "tags": []
          },
          "execution_count": 8
        }
      ]
    },
    {
      "cell_type": "code",
      "metadata": {
        "id": "lLlQJiYegbE4",
        "colab_type": "code",
        "outputId": "80d339cb-fdec-4cab-84df-9bc6e1ca641d",
        "colab": {
          "base_uri": "https://localhost:8080/",
          "height": 265
        }
      },
      "source": [
        "# Plot using a scatter plot:\n",
        "plt.scatter(can_sub.x, can_sub.y);"
      ],
      "execution_count": 0,
      "outputs": [
        {
          "output_type": "display_data",
          "data": {
            "image/png": "[encoded data removed]",
            "text/plain": [
              "<Figure size 432x288 with 1 Axes>"
            ]
          },
          "metadata": {
            "tags": [],
            "needs_background": "light"
          }
        }
      ]
    },
    {
      "cell_type": "code",
      "metadata": {
        "id": "zm59ZcxnsU-T",
        "colab_type": "code",
        "outputId": "8c47a375-3d6f-414f-cf4a-60fb57e2788c",
        "colab": {
          "base_uri": "https://localhost:8080/",
          "height": 356
        }
      },
      "source": [
        "# Use the elbow method to find the number of clusters:\n",
        "sq_dist = []\n",
        "K = range(1, 15)\n",
        "for k in K:\n",
        "  km = KMeans(n_clusters=k)\n",
        "  km = km.fit(can_sub)\n",
        "  sq_dist.append(km.inertia_)\n",
        "\n",
        "# Plot the elbow method:\n",
        "plt.subplots(facecolor='white', figsize=(10, 5))\n",
        "plt.plot(K, sq_dist, 'bx-')\n",
        "plt.xlabel('k', size=14, weight='bold')\n",
        "plt.ylabel('Sum of squared distances', size=14, weight='bold')\n",
        "plt.title('Elbow Method For Optimal K (No. of clusters)', size=16, weight='bold');"
      ],
      "execution_count": 0,
      "outputs": [
        {
          "output_type": "display_data",
          "data": {
            "image/png": "[encoded data removed]",
            "text/plain": [
              "<Figure size 720x360 with 1 Axes>"
            ]
          },
          "metadata": {
            "tags": []
          }
        }
      ]
    },
    {
      "cell_type": "code",
      "metadata": {
        "id": "IHpkD2gvN-cc",
        "colab_type": "code",
        "colab": {}
      },
      "source": [
        "# Choose a number of clusters (Would have been better to do 3 but did 2 for the\n",
        "#   sake of comparison in the next question):\n",
        "km = KMeans(n_clusters=2)"
      ],
      "execution_count": 0,
      "outputs": []
    },
    {
      "cell_type": "code",
      "metadata": {
        "id": "Eu9SKOUPZ1c1",
        "colab_type": "code",
        "outputId": "99605d81-7b47-41bc-a224-9783e522a565",
        "colab": {
          "base_uri": "https://localhost:8080/",
          "height": 67
        }
      },
      "source": [
        "# Fit to the data:\n",
        "km.fit(can_sub)"
      ],
      "execution_count": 0,
      "outputs": [
        {
          "output_type": "execute_result",
          "data": {
            "text/plain": [
              "KMeans(algorithm='auto', copy_x=True, init='k-means++', max_iter=300,\n",
              "       n_clusters=2, n_init=10, n_jobs=None, precompute_distances='auto',\n",
              "       random_state=None, tol=0.0001, verbose=0)"
            ]
          },
          "metadata": {
            "tags": []
          },
          "execution_count": 12
        }
      ]
    },
    {
      "cell_type": "code",
      "metadata": {
        "id": "WGG4brxDZ1aB",
        "colab_type": "code",
        "outputId": "011c0c6a-c602-468f-c9bd-0fc254945dcf",
        "colab": {
          "base_uri": "https://localhost:8080/",
          "height": 193
        }
      },
      "source": [
        "# Assign to a clusters to the dataframe:\n",
        "can_sub['cluster'] = km.labels_\n",
        "can_sub.head()"
      ],
      "execution_count": 0,
      "outputs": [
        {
          "output_type": "execute_result",
          "data": {
            "text/html": [
              "<div>\n",
              "<style scoped>\n",
              "    .dataframe tbody tr th:only-of-type {\n",
              "        vertical-align: middle;\n",
              "    }\n",
              "\n",
              "    .dataframe tbody tr th {\n",
              "        vertical-align: top;\n",
              "    }\n",
              "\n",
              "    .dataframe thead th {\n",
              "        text-align: right;\n",
              "    }\n",
              "</style>\n",
              "<table border=\"1\" class=\"dataframe\">\n",
              "  <thead>\n",
              "    <tr style=\"text-align: right;\">\n",
              "      <th></th>\n",
              "      <th>x</th>\n",
              "      <th>y</th>\n",
              "      <th>cluster</th>\n",
              "    </tr>\n",
              "  </thead>\n",
              "  <tbody>\n",
              "    <tr>\n",
              "      <th>0</th>\n",
              "      <td>0.1622</td>\n",
              "      <td>0.11890</td>\n",
              "      <td>1</td>\n",
              "    </tr>\n",
              "    <tr>\n",
              "      <th>1</th>\n",
              "      <td>0.1238</td>\n",
              "      <td>0.08902</td>\n",
              "      <td>0</td>\n",
              "    </tr>\n",
              "    <tr>\n",
              "      <th>2</th>\n",
              "      <td>0.1444</td>\n",
              "      <td>0.08758</td>\n",
              "      <td>1</td>\n",
              "    </tr>\n",
              "    <tr>\n",
              "      <th>3</th>\n",
              "      <td>0.2098</td>\n",
              "      <td>0.17300</td>\n",
              "      <td>1</td>\n",
              "    </tr>\n",
              "    <tr>\n",
              "      <th>4</th>\n",
              "      <td>0.1374</td>\n",
              "      <td>0.07678</td>\n",
              "      <td>0</td>\n",
              "    </tr>\n",
              "  </tbody>\n",
              "</table>\n",
              "</div>"
            ],
            "text/plain": [
              "        x        y  cluster\n",
              "0  0.1622  0.11890        1\n",
              "1  0.1238  0.08902        0\n",
              "2  0.1444  0.08758        1\n",
              "3  0.2098  0.17300        1\n",
              "4  0.1374  0.07678        0"
            ]
          },
          "metadata": {
            "tags": []
          },
          "execution_count": 13
        }
      ]
    },
    {
      "cell_type": "code",
      "metadata": {
        "id": "MCwXRvmkdS9X",
        "colab_type": "code",
        "outputId": "610f8397-d42f-4bc8-af5f-744942a02441",
        "colab": {
          "base_uri": "https://localhost:8080/",
          "height": 442
        }
      },
      "source": [
        "# Assign a variable to centroids:\n",
        "cent = can_sub.groupby(can_sub['cluster']).mean()\n",
        "\n",
        "# Display the clusters:\n",
        "colors = {0:'red', 1:'teal'}\n",
        "fig, ax = plt.subplots(facecolor='white', figsize=(16, 7))\n",
        "ax.plot(cent['x'], cent['y'], 'ok')\n",
        "grouped = can_sub.groupby(can_sub['cluster'])\n",
        "for key, group in grouped:\n",
        "    group.plot(ax=ax, kind='scatter', x='x', y='y', label=key, s=50,\n",
        "               color=colors[key], alpha=0.6);"
      ],
      "execution_count": 0,
      "outputs": [
        {
          "output_type": "display_data",
          "data": {
            "image/png": "[encoded data removed]",
            "text/plain": [
              "<Figure size 1152x504 with 1 Axes>"
            ]
          },
          "metadata": {
            "tags": []
          }
        }
      ]
    },
    {
      "cell_type": "code",
      "metadata": {
        "id": "HQXxuI-OZ1WA",
        "colab_type": "code",
        "outputId": "4b9d6b4a-27fa-4bc7-d58f-d597c52cefbb",
        "colab": {
          "base_uri": "https://localhost:8080/",
          "height": 34
        }
      },
      "source": [
        "# Get the silhouette score:\n",
        "metrics.silhouette_score(can_sub.drop(columns='cluster'), km.labels_, \n",
        "                         metric='euclidean')"
      ],
      "execution_count": 0,
      "outputs": [
        {
          "output_type": "execute_result",
          "data": {
            "text/plain": [
              "0.43839479656287106"
            ]
          },
          "metadata": {
            "tags": []
          },
          "execution_count": 15
        }
      ]
    },
    {
      "cell_type": "markdown",
      "metadata": {
        "id": "7ghqYSxrP_FE",
        "colab_type": "text"
      },
      "source": [
        "## Check you work: \n",
        "\n",
        "This is something that in a truly unsupervised learning situation **WOULD NOT BE POSSIBLE**. But for educational purposes go back and grab the true diagnosis column (label) from the original dataset. Take your cluster labels and compare them to the original diagnosis column. You can make scatterplots for each to see how they compare or you can calculate a percent accuracy score like: \n",
        "\\begin{align}\n",
        "\\frac{\\text{Num Correct Labels}}{\\text{Num Total Observations}}\n",
        "\\end{align}"
      ]
    },
    {
      "cell_type": "code",
      "metadata": {
        "id": "-ZN886YV4XK2",
        "colab_type": "code",
        "outputId": "f02400f8-b687-478a-940a-c13c1dd09cab",
        "colab": {
          "base_uri": "https://localhost:8080/",
          "height": 397
        }
      },
      "source": [
        "# Subset the labeled features with diagnosis:\n",
        "d_sub = np.array([df['smoothness_worst'], df['fractal_dimension_worst'], \n",
        "                  df['diagnosis']])\n",
        "\n",
        "# Turn into a dataframe:\n",
        "d_sub = pd.DataFrame(d_sub)\n",
        "\n",
        "# Transpose it to read as less columns:\n",
        "d_sub = d_sub.T\n",
        "\n",
        "# Rename the columns:\n",
        "d_sub.rename(columns={0:'smoothness_worst', 1:'fractal_dimension_worst', \n",
        "                      2:'diagnosis'}, inplace=True)\n",
        "\n",
        "# View the subset dataframe:\n",
        "d_sub"
      ],
      "execution_count": 0,
      "outputs": [
        {
          "output_type": "execute_result",
          "data": {
            "text/html": [
              "<div>\n",
              "<style scoped>\n",
              "    .dataframe tbody tr th:only-of-type {\n",
              "        vertical-align: middle;\n",
              "    }\n",
              "\n",
              "    .dataframe tbody tr th {\n",
              "        vertical-align: top;\n",
              "    }\n",
              "\n",
              "    .dataframe thead th {\n",
              "        text-align: right;\n",
              "    }\n",
              "</style>\n",
              "<table border=\"1\" class=\"dataframe\">\n",
              "  <thead>\n",
              "    <tr style=\"text-align: right;\">\n",
              "      <th></th>\n",
              "      <th>smoothness_worst</th>\n",
              "      <th>fractal_dimension_worst</th>\n",
              "      <th>diagnosis</th>\n",
              "    </tr>\n",
              "  </thead>\n",
              "  <tbody>\n",
              "    <tr>\n",
              "      <th>0</th>\n",
              "      <td>0.1622</td>\n",
              "      <td>0.1189</td>\n",
              "      <td>M</td>\n",
              "    </tr>\n",
              "    <tr>\n",
              "      <th>1</th>\n",
              "      <td>0.1238</td>\n",
              "      <td>0.08902</td>\n",
              "      <td>M</td>\n",
              "    </tr>\n",
              "    <tr>\n",
              "      <th>2</th>\n",
              "      <td>0.1444</td>\n",
              "      <td>0.08758</td>\n",
              "      <td>M</td>\n",
              "    </tr>\n",
              "    <tr>\n",
              "      <th>3</th>\n",
              "      <td>0.2098</td>\n",
              "      <td>0.173</td>\n",
              "      <td>M</td>\n",
              "    </tr>\n",
              "    <tr>\n",
              "      <th>4</th>\n",
              "      <td>0.1374</td>\n",
              "      <td>0.07678</td>\n",
              "      <td>M</td>\n",
              "    </tr>\n",
              "    <tr>\n",
              "      <th>...</th>\n",
              "      <td>...</td>\n",
              "      <td>...</td>\n",
              "      <td>...</td>\n",
              "    </tr>\n",
              "    <tr>\n",
              "      <th>564</th>\n",
              "      <td>0.141</td>\n",
              "      <td>0.07115</td>\n",
              "      <td>M</td>\n",
              "    </tr>\n",
              "    <tr>\n",
              "      <th>565</th>\n",
              "      <td>0.1166</td>\n",
              "      <td>0.06637</td>\n",
              "      <td>M</td>\n",
              "    </tr>\n",
              "    <tr>\n",
              "      <th>566</th>\n",
              "      <td>0.1139</td>\n",
              "      <td>0.0782</td>\n",
              "      <td>M</td>\n",
              "    </tr>\n",
              "    <tr>\n",
              "      <th>567</th>\n",
              "      <td>0.165</td>\n",
              "      <td>0.124</td>\n",
              "      <td>M</td>\n",
              "    </tr>\n",
              "    <tr>\n",
              "      <th>568</th>\n",
              "      <td>0.08996</td>\n",
              "      <td>0.07039</td>\n",
              "      <td>B</td>\n",
              "    </tr>\n",
              "  </tbody>\n",
              "</table>\n",
              "<p>569 rows × 3 columns</p>\n",
              "</div>"
            ],
            "text/plain": [
              "    smoothness_worst fractal_dimension_worst diagnosis\n",
              "0             0.1622                  0.1189         M\n",
              "1             0.1238                 0.08902         M\n",
              "2             0.1444                 0.08758         M\n",
              "3             0.2098                   0.173         M\n",
              "4             0.1374                 0.07678         M\n",
              "..               ...                     ...       ...\n",
              "564            0.141                 0.07115         M\n",
              "565           0.1166                 0.06637         M\n",
              "566           0.1139                  0.0782         M\n",
              "567            0.165                   0.124         M\n",
              "568          0.08996                 0.07039         B\n",
              "\n",
              "[569 rows x 3 columns]"
            ]
          },
          "metadata": {
            "tags": []
          },
          "execution_count": 16
        }
      ]
    },
    {
      "cell_type": "code",
      "metadata": {
        "id": "E1-MddstEtdx",
        "colab_type": "code",
        "colab": {}
      },
      "source": [
        "# # Change M = 1, B = 0:\n",
        "# d_sub['diagnosis'] = d_sub['diagnosis'].replace({'M': 1, 'B': 0})\n",
        "# d_sub"
      ],
      "execution_count": 0,
      "outputs": []
    },
    {
      "cell_type": "code",
      "metadata": {
        "id": "-c-3rckDHacH",
        "colab_type": "code",
        "outputId": "c274e5ff-d6ba-450f-a505-4be0676b68c6",
        "colab": {
          "base_uri": "https://localhost:8080/",
          "height": 84
        }
      },
      "source": [
        "# Check the type of data in the dataframe:\n",
        "d_sub.dtypes"
      ],
      "execution_count": 0,
      "outputs": [
        {
          "output_type": "execute_result",
          "data": {
            "text/plain": [
              "smoothness_worst           object\n",
              "fractal_dimension_worst    object\n",
              "diagnosis                  object\n",
              "dtype: object"
            ]
          },
          "metadata": {
            "tags": []
          },
          "execution_count": 18
        }
      ]
    },
    {
      "cell_type": "code",
      "metadata": {
        "id": "mn_jkyEvKWCS",
        "colab_type": "code",
        "outputId": "fa87e514-2bf0-4fdd-8c0d-abc64274c4df",
        "colab": {
          "base_uri": "https://localhost:8080/",
          "height": 1000
        }
      },
      "source": [
        "# Should be floats:\n",
        "d_sub['smoothness_worst'].values"
      ],
      "execution_count": 0,
      "outputs": [
        {
          "output_type": "execute_result",
          "data": {
            "text/plain": [
              "array([0.1622, 0.1238, 0.1444, 0.2098, 0.1374, 0.1791, 0.1442, 0.1654,\n",
              "       0.1703, 0.1853, 0.1181, 0.1396, 0.1037, 0.1131, 0.1651, 0.1678,\n",
              "       0.1464, 0.1789, 0.1512, 0.14400000000000002, 0.1312, 0.1324, 0.139,\n",
              "       0.1401, 0.1805, 0.1545, 0.1525, 0.1338, 0.1641, 0.1255, 0.1491,\n",
              "       0.1637, 0.1634, 0.1509, 0.1446, 0.1563, 0.1446, 0.09701,\n",
              "       0.09387000000000001, 0.161, 0.1094, 0.1909, 0.1247, 0.153, 0.1503,\n",
              "       0.1679, 0.1297, 0.1786, 0.1494, 0.1162, 0.1085, 0.1089, 0.1144,\n",
              "       0.128, 0.1389, 0.1249, 0.1624, 0.1368, 0.1021, 0.1733, 0.1275,\n",
              "       0.1639, 0.16399999999999998, 0.09836, 0.1851, 0.1648, 0.1548,\n",
              "       0.129, 0.1482, 0.1296, 0.1193, 0.1207, 0.1585, 0.1411, 0.1176,\n",
              "       0.15, 0.1451, 0.1478, 0.1639, 0.1289, 0.1557, 0.1536, 0.1573,\n",
              "       0.1392, 0.1377, 0.1398, 0.1306, 0.1249, 0.1304, 0.1277, 0.1115,\n",
              "       0.1257, 0.1006, 0.1339, 0.1551, 0.11900000000000001, 0.114, 0.1316,\n",
              "       0.1431, 0.1431, 0.1265, 0.1584, 0.1123, 0.1559, 0.1219, 0.1862,\n",
              "       0.1688, 0.1184, 0.1701, 0.1699, 0.1467, 0.1287, 0.08949, 0.13,\n",
              "       0.1724, 0.15, 0.1179, 0.1878, 0.1855, 0.1072, 0.1548, 0.1503,\n",
              "       0.1696, 0.1313, 0.1025, 0.1157, 0.1471, 0.1021, 0.1386, 0.1275,\n",
              "       0.1427, 0.1546, 0.1395, 0.1223, 0.1465, 0.1419, 0.1271,\n",
              "       0.11900000000000001, 0.1411, 0.1367, 0.1234, 0.1314, 0.1413,\n",
              "       0.1312, 0.1076, 0.1424, 0.1385, 0.0997, 0.1316, 0.09711, 0.1297,\n",
              "       0.163, 0.1292, 0.1341, 0.1478, 0.1217, 0.1418, 0.08774, 0.1275,\n",
              "       0.1171, 0.1358, 0.1124, 0.1438, 0.1452, 0.1228, 0.1045, 0.1436,\n",
              "       0.1168, 0.1376, 0.1216, 0.1385, 0.1401, 0.1531, 0.1216, 0.1076,\n",
              "       0.1162, 0.1301, 0.1415, 0.08125, 0.1162, 0.1472, 0.1491, 0.1414,\n",
              "       0.1121, 0.1301, 0.1521, 0.1234, 0.1323, 0.1356, 0.1096, 0.1533,\n",
              "       0.09387999999999999, 0.07117000000000001, 0.1785, 0.1316, 0.1097,\n",
              "       0.1737, 0.08822, 0.1322, 0.1552, 0.1429, 0.1381, 0.1536, 0.2226,\n",
              "       0.1426, 0.1491, 0.1415, 0.1111, 0.1349, 0.1222, 0.1178, 0.128,\n",
              "       0.1142, 0.1243, 0.1559, 0.146, 0.1405, 0.09527000000000001, 0.1353,\n",
              "       0.1408, 0.1311, 0.1376, 0.1406, 0.1552, 0.1276, 0.1297, 0.1341,\n",
              "       0.1136, 0.1227, 0.1777, 0.1703, 0.09203, 0.09994, 0.1223, 0.1504,\n",
              "       0.1287, 0.1481, 0.1228, 0.1081, 0.1365, 0.1278, 0.1037, 0.1347,\n",
              "       0.09368, 0.1463, 0.1515, 0.1101, 0.1254, 0.1499, 0.1389, 0.1211,\n",
              "       0.1183, 0.171, 0.1416, 0.1497, 0.1512, 0.1281, 0.1765, 0.1504,\n",
              "       0.1883, 0.1522, 0.124, 0.1134, 0.1084, 0.1558, 0.1401, 0.1213,\n",
              "       0.1005, 0.1256, 0.1335, 0.08567000000000001, 0.1358, 0.1272,\n",
              "       0.1467, 0.1315, 0.1359, 0.1259, 0.1243, 0.105, 0.1185, 0.1782,\n",
              "       0.1036, 0.1518, 0.1365, 0.09926, 0.1038, 0.1116, 0.09616, 0.1028,\n",
              "       0.1118, 0.09983, 0.1313, 0.1483, 0.1369, 0.1298,\n",
              "       0.11699999999999999, 0.09312000000000001, 0.1137, 0.09445, 0.1143,\n",
              "       0.1495, 0.105, 0.1347, 0.1413, 0.1144, 0.09545, 0.1128, 0.09861,\n",
              "       0.09022999999999999, 0.1016, 0.1223, 0.1011, 0.1194, 0.1092,\n",
              "       0.1347, 0.1104, 0.1001, 0.1434, 0.1221, 0.08409, 0.1402, 0.1054,\n",
              "       0.1547, 0.1592, 0.1256, 0.1384, 0.1281, 0.1013, 0.159, 0.1426,\n",
              "       0.1435, 0.1288, 0.1424, 0.1166, 0.1222, 0.1449, 0.1142, 0.1498,\n",
              "       0.1402, 0.1515, 0.1294, 0.1233, 0.1418, 0.1218, 0.146, 0.136,\n",
              "       0.1289, 0.122, 0.1531, 0.1293, 0.09958, 0.155, 0.153, 0.166,\n",
              "       0.08864, 0.1096, 0.1343, 0.1153, 0.1015, 0.1333, 0.09293, 0.114,\n",
              "       0.1298, 0.1338, 0.1213, 0.1327, 0.1278, 0.1368, 0.1363, 0.1294,\n",
              "       0.1415, 0.1126, 0.1192, 0.1562, 0.1105, 0.1235, 0.1143, 0.1108,\n",
              "       0.1275, 0.2184, 0.161, 0.1095, 0.08799, 0.1427, 0.1166, 0.1312,\n",
              "       0.1026, 0.08484, 0.1102, 0.1251, 0.1343, 0.146, 0.1681, 0.1502,\n",
              "       0.1432, 0.1066, 0.1428, 0.09534, 0.11199999999999999, 0.1244,\n",
              "       0.1873, 0.1374, 0.09329, 0.1172, 0.1048, 0.1363, 0.1206, 0.09402,\n",
              "       0.1482, 0.124, 0.1453, 0.1369, 0.1086, 0.1077, 0.1148, 0.1426,\n",
              "       0.1526, 0.1517, 0.1314, 0.1282, 0.1249, 0.1312, 0.1415, 0.1147,\n",
              "       0.1398, 0.1126, 0.1327, 0.1303, 0.10300000000000001, 0.1068,\n",
              "       0.1419, 0.145, 0.1665, 0.139, 0.1218, 0.1613, 0.1214, 0.1195,\n",
              "       0.1118, 0.1034, 0.1391, 0.1436, 0.1072, 0.09794, 0.1263, 0.1311,\n",
              "       0.1401, 0.1226, 0.1089, 0.1368, 0.09457, 0.1528, 0.1208, 0.1347,\n",
              "       0.1225, 0.1172, 0.1406, 0.1289, 0.1218, 0.111, 0.16, 0.1357,\n",
              "       0.1017, 0.1342, 0.1282, 0.1201, 0.1351, 0.1388, 0.1207,\n",
              "       0.17800000000000002, 0.1234, 0.1041, 0.1065, 0.09422, 0.1332,\n",
              "       0.1326, 0.1153, 0.09383999999999999, 0.1352, 0.1377, 0.1208,\n",
              "       0.1064, 0.1393, 0.1199, 0.1541, 0.1175, 0.1142, 0.1514, 0.1526,\n",
              "       0.1009, 0.1256, 0.09862, 0.1309, 0.09439, 0.1118, 0.1216, 0.1533,\n",
              "       0.1276, 0.1412, 0.1464, 0.1135, 0.1794, 0.158, 0.1199, 0.1902,\n",
              "       0.2006, 0.1402, 0.1662, 0.1354, 0.1732, 0.1073, 0.1139, 0.1574,\n",
              "       0.1223, 0.1246, 0.1483, 0.1492, 0.1417, 0.1456, 0.1475, 0.185,\n",
              "       0.1342, 0.1108, 0.1425, 0.1419, 0.1641, 0.1624, 0.1292, 0.1394,\n",
              "       0.1521, 0.1349, 0.155, 0.1264, 0.1097, 0.1428, 0.1268, 0.138,\n",
              "       0.1768, 0.1256, 0.1596, 0.1345, 0.134, 0.106, 0.1072, 0.1264,\n",
              "       0.1216, 0.1285, 0.1461, 0.1199, 0.1204, 0.1001, 0.1087, 0.1234,\n",
              "       0.1103, 0.1227, 0.1384, 0.1265, 0.1073, 0.1026, 0.1298, 0.1241,\n",
              "       0.09267, 0.1417, 0.1407, 0.141, 0.1166, 0.1139, 0.165, 0.08996],\n",
              "      dtype=object)"
            ]
          },
          "metadata": {
            "tags": []
          },
          "execution_count": 19
        }
      ]
    },
    {
      "cell_type": "code",
      "metadata": {
        "id": "u2vbZ7C9K0zw",
        "colab_type": "code",
        "outputId": "05fa9eaa-3e64-4d96-d981-5428da253b0c",
        "colab": {
          "base_uri": "https://localhost:8080/",
          "height": 1000
        }
      },
      "source": [
        "# Should be floats:\n",
        "d_sub['fractal_dimension_worst'].values"
      ],
      "execution_count": 0,
      "outputs": [
        {
          "output_type": "execute_result",
          "data": {
            "text/plain": [
              "array([0.1189, 0.08902, 0.08757999999999999, 0.17300000000000001, 0.07678,\n",
              "       0.1244, 0.08367999999999999, 0.1151, 0.1072, 0.2075, 0.08452,\n",
              "       0.1048, 0.1023, 0.06287000000000001, 0.1431, 0.1341, 0.08216,\n",
              "       0.1142, 0.07615, 0.07259, 0.08183, 0.07773, 0.09946,\n",
              "       0.07526000000000001, 0.09564, 0.1059, 0.1275, 0.07421, 0.09876,\n",
              "       0.07919, 0.09782, 0.1402, 0.08482, 0.1123, 0.1233,\n",
              "       0.08632999999999999, 0.1014, 0.061689999999999995, 0.05504, 0.1071,\n",
              "       0.07146, 0.09606, 0.1038, 0.1027, 0.09618, 0.09185, 0.07409,\n",
              "       0.1179, 0.08301, 0.06917000000000001, 0.06563, 0.08025, 0.07408,\n",
              "       0.07987000000000001, 0.07873, 0.07036, 0.08294, 0.1094, 0.06289,\n",
              "       0.09026, 0.0802, 0.07712000000000001, 0.1132, 0.0849, 0.1031,\n",
              "       0.08911000000000001, 0.09211, 0.06641, 0.1175, 0.0641, 0.06589,\n",
              "       0.1084, 0.1339, 0.10300000000000001, 0.07608999999999999,\n",
              "       0.06387000000000001, 0.07191, 0.1108, 0.09963999999999999, 0.07918,\n",
              "       0.08851, 0.1016, 0.1051, 0.09203, 0.07923999999999999,\n",
              "       0.08578999999999999, 0.06846000000000001, 0.09287999999999999,\n",
              "       0.09261, 0.08473, 0.07246, 0.06828, 0.062060000000000004,\n",
              "       0.06602999999999999, 0.08234, 0.08367999999999999, 0.07376,\n",
              "       0.08988, 0.08756, 0.09353, 0.07397000000000001, 0.09382, 0.06878,\n",
              "       0.0849, 0.07552, 0.1405, 0.09097000000000001, 0.07185,\n",
              "       0.09788999999999999, 0.08832000000000001, 0.08467999999999999,\n",
              "       0.08486, 0.1082, 0.09026, 0.1017, 0.08541, 0.07722000000000001,\n",
              "       0.1065, 0.1252, 0.061110000000000005, 0.08523, 0.08456, 0.08009,\n",
              "       0.08006, 0.07628, 0.07182000000000001, 0.079, 0.06541, 0.07779,\n",
              "       0.08465, 0.09241, 0.08019, 0.07619, 0.07071000000000001, 0.0761,\n",
              "       0.08067, 0.07343, 0.06765, 0.07147, 0.06784, 0.08151, 0.08158,\n",
              "       0.08096, 0.08118, 0.06769, 0.1036, 0.10300000000000001, 0.09218,\n",
              "       0.07683, 0.07014, 0.06435, 0.1486, 0.1259, 0.06772,\n",
              "       0.08632999999999999, 0.08132, 0.07737999999999999, 0.05972,\n",
              "       0.07898, 0.07685, 0.07987000000000001, 0.06251,\n",
              "       0.09222999999999999, 0.09082, 0.09187000000000001, 0.06085,\n",
              "       0.07699, 0.07228, 0.09300000000000001, 0.06427999999999999,\n",
              "       0.06771, 0.07371, 0.10099999999999999, 0.07313, 0.06164, 0.07848,\n",
              "       0.1162, 0.09519, 0.058429999999999996, 0.07318999999999999,\n",
              "       0.08082, 0.1284, 0.08631, 0.07427, 0.09772, 0.07697000000000001,\n",
              "       0.06938, 0.07097, 0.06576, 0.06306, 0.1446, 0.06871000000000001,\n",
              "       0.06559, 0.1205, 0.08701, 0.06949, 0.09333, 0.06558, 0.09221,\n",
              "       0.1013, 0.08174, 0.07867, 0.08762, 0.1086, 0.0875, 0.0974, 0.0738,\n",
              "       0.06469, 0.1076, 0.07474, 0.05865, 0.07993, 0.05525,\n",
              "       0.06817999999999999, 0.1026, 0.1059, 0.08365, 0.07808999999999999,\n",
              "       0.08255, 0.07568, 0.08718, 0.08177000000000001, 0.08797, 0.1064,\n",
              "       0.07622999999999999, 0.06072, 0.08269, 0.08362, 0.09585, 0.1243,\n",
              "       0.09061, 0.07087, 0.07307000000000001, 0.08327999999999999,\n",
              "       0.08177999999999999, 0.07617, 0.08677, 0.07127, 0.07796,\n",
              "       0.08496000000000001, 0.0651, 0.06783, 0.1297, 0.06321, 0.07614,\n",
              "       0.07748, 0.07198, 0.1178, 0.08147, 0.07808999999999999, 0.07849,\n",
              "       0.06487000000000001, 0.1297, 0.08113, 0.0895, 0.07957, 0.1005,\n",
              "       0.1191, 0.1019, 0.1204, 0.07998999999999999, 0.06515, 0.07484,\n",
              "       0.06829, 0.0757, 0.08217999999999999, 0.07587, 0.07024, 0.07062,\n",
              "       0.08701, 0.0612, 0.08022, 0.08857999999999999, 0.08175, 0.07948,\n",
              "       0.060329999999999995, 0.06386, 0.057370000000000004,\n",
              "       0.06262999999999999, 0.06912, 0.0972, 0.06688, 0.07787000000000001,\n",
              "       0.1063, 0.07127, 0.06431, 0.09981, 0.06915, 0.07009, 0.06994,\n",
              "       0.08799, 0.08472, 0.09584, 0.07007000000000001, 0.06922, 0.06794,\n",
              "       0.06642999999999999, 0.06915, 0.07676000000000001,\n",
              "       0.06777000000000001, 0.09929, 0.07764, 0.09469, 0.07842,\n",
              "       0.07637999999999999, 0.06745, 0.08385, 0.07804, 0.06192, 0.0658,\n",
              "       0.06957999999999999, 0.05695, 0.08252999999999999, 0.07434,\n",
              "       0.08116, 0.061739999999999996, 0.06037000000000001, 0.08198,\n",
              "       0.1055, 0.059320000000000005, 0.09702000000000001,\n",
              "       0.059329999999999994, 0.08553, 0.1024, 0.07961, 0.06888,\n",
              "       0.07082999999999999, 0.07037, 0.08199999999999999,\n",
              "       0.07952999999999999, 0.09124, 0.09166, 0.06522, 0.07418,\n",
              "       0.07207000000000001, 0.07599, 0.1009, 0.0987, 0.07664,\n",
              "       0.07737999999999999, 0.08764, 0.09825, 0.0908, 0.07918, 0.07806,\n",
              "       0.08488, 0.08083, 0.08187, 0.08763, 0.0759, 0.06825, 0.105,\n",
              "       0.08815, 0.09437999999999999, 0.07017999999999999, 0.07188,\n",
              "       0.08317000000000001, 0.07113, 0.07431, 0.08136, 0.05521, 0.06658,\n",
              "       0.07238, 0.06469, 0.07582, 0.06735, 0.07632, 0.0747, 0.06494,\n",
              "       0.08574, 0.09614, 0.06766, 0.08666, 0.07055, 0.07701000000000001,\n",
              "       0.0896, 0.12, 0.07061, 0.09638, 0.1403, 0.09215, 0.07287, 0.09349,\n",
              "       0.1118, 0.0732, 0.06836, 0.08824, 0.06623, 0.1043, 0.07602,\n",
              "       0.07722000000000001, 0.08865, 0.1019, 0.1007, 0.07081, 0.06609,\n",
              "       0.07686, 0.07053, 0.09158, 0.08121, 0.1198, 0.07262, 0.07247,\n",
              "       0.07833999999999999, 0.059739999999999994, 0.07732, 0.07012,\n",
              "       0.08151, 0.08503, 0.06896000000000001, 0.07745, 0.07881, 0.09206,\n",
              "       0.09251000000000001, 0.06165, 0.07351, 0.08304, 0.1048, 0.09464,\n",
              "       0.07123, 0.08284, 0.09208, 0.07427, 0.08839, 0.08009, 0.08061,\n",
              "       0.09646, 0.07662000000000001, 0.07082999999999999, 0.06025, 0.1155,\n",
              "       0.09358999999999999, 0.08075, 0.08313999999999999,\n",
              "       0.06827000000000001, 0.1055, 0.07735, 0.07234, 0.06911, 0.0671,\n",
              "       0.09532, 0.07944, 0.0681, 0.06736, 0.08225, 0.08251, 0.09075,\n",
              "       0.07285, 0.07463, 0.07425, 0.09952000000000001, 0.06091, 0.08194,\n",
              "       0.0781, 0.0733, 0.07675, 0.0722, 0.06788, 0.06291000000000001,\n",
              "       0.07211000000000001, 0.0906, 0.07427, 0.06464, 0.07862999999999999,\n",
              "       0.06925, 0.1249, 0.08174, 0.07875, 0.1224, 0.0927, 0.08524,\n",
              "       0.06639, 0.08273, 0.06742999999999999, 0.10800000000000001,\n",
              "       0.07802, 0.07858, 0.07697999999999999, 0.0918, 0.09136, 0.07729,\n",
              "       0.07603, 0.09326, 0.0696, 0.08181000000000001, 0.1034, 0.06596,\n",
              "       0.09009, 0.08023999999999999, 0.07622999999999999,\n",
              "       0.08202999999999999, 0.058710000000000005, 0.07625, 0.07028,\n",
              "       0.07429, 0.06599, 0.1033, 0.07661, 0.09445, 0.08999, 0.08549,\n",
              "       0.1183, 0.07537999999999999, 0.07277, 0.1252, 0.1364, 0.08839,\n",
              "       0.1168, 0.0723, 0.1067, 0.09879, 0.06142, 0.1109, 0.07048, 0.06954,\n",
              "       0.06783, 0.07862999999999999, 0.09136, 0.08893,\n",
              "       0.08557000000000001, 0.08982000000000001, 0.09671,\n",
              "       0.07612999999999999, 0.09031, 0.09208999999999999, 0.1049, 0.08665,\n",
              "       0.07592, 0.07253, 0.08052000000000001, 0.07757, 0.0895, 0.07782,\n",
              "       0.06386, 0.08277999999999999, 0.07569, 0.08351, 0.0997, 0.09938,\n",
              "       0.1066, 0.08134, 0.1023, 0.06956, 0.06443, 0.08492000000000001,\n",
              "       0.06953, 0.07399, 0.09479, 0.0792, 0.07626000000000001, 0.06592,\n",
              "       0.08032, 0.06484, 0.07393, 0.07242, 0.08283, 0.06742000000000001,\n",
              "       0.06969, 0.08004, 0.08732000000000001, 0.08321, 0.05905, 0.1409,\n",
              "       0.09873, 0.07115, 0.06637, 0.0782, 0.124, 0.07039], dtype=object)"
            ]
          },
          "metadata": {
            "tags": []
          },
          "execution_count": 20
        }
      ]
    },
    {
      "cell_type": "code",
      "metadata": {
        "id": "05wXd-teLZj6",
        "colab_type": "code",
        "outputId": "f6d6a7e9-0083-42cf-adca-65a62e596d5d",
        "colab": {
          "base_uri": "https://localhost:8080/",
          "height": 84
        }
      },
      "source": [
        "# Need to remove leading spaces:\n",
        "# d_sub['fractal_dimension_worst'] = d_sub['fractal_dimension_worst'].str.strip('')\n",
        "# d_sub['smoothness_worst'] = d_sub['smoothness_worst'].str.strip('')\n",
        "d_sub['fractal_dimension_worst'] = d_sub['fractal_dimension_worst'].astype('float')\n",
        "d_sub['smoothness_worst'] = d_sub['smoothness_worst'].astype('float')\n",
        "d_sub.dtypes"
      ],
      "execution_count": 0,
      "outputs": [
        {
          "output_type": "execute_result",
          "data": {
            "text/plain": [
              "smoothness_worst           float64\n",
              "fractal_dimension_worst    float64\n",
              "diagnosis                   object\n",
              "dtype: object"
            ]
          },
          "metadata": {
            "tags": []
          },
          "execution_count": 21
        }
      ]
    },
    {
      "cell_type": "code",
      "metadata": {
        "id": "pA8PJ_jcFdJl",
        "colab_type": "code",
        "outputId": "50f8f0f5-2870-4bf8-d5e1-904728e899bd",
        "colab": {
          "base_uri": "https://localhost:8080/",
          "height": 443
        }
      },
      "source": [
        "# Assign a variable to centroids:\n",
        "cent1 = can_sub.groupby(can_sub['cluster']).mean()\n",
        "cent2 = d_sub.groupby(d_sub['diagnosis']).mean()\n",
        "\n",
        "# Display the clusters:\n",
        "colors1 = {0:'red', 1:'teal'}\n",
        "colors2 = {'B':'red', 'M':'teal'}\n",
        "fig, (ax1, ax2) = plt.subplots(1, 2, facecolor='white', figsize=(16, 7))\n",
        "ax1.plot(cent1['x'], cent1['y'], 'ok')\n",
        "grouped1 = can_sub.groupby(can_sub['cluster'])\n",
        "for key, group in grouped1:\n",
        "    group.plot(ax=ax1, kind='scatter', x='x', y='y', label=key, s=50,\n",
        "               color=colors1[key], alpha=0.6)\n",
        "ax2.plot(cent2['smoothness_worst'], cent2['fractal_dimension_worst'], 'ok')\n",
        "grouped2 = d_sub.groupby(d_sub['diagnosis'])\n",
        "for key, group in grouped2:\n",
        "    group.plot(ax=ax2, kind='scatter', x='smoothness_worst', \n",
        "               y='fractal_dimension_worst', label=key, s=50,\n",
        "               color=colors2[key], alpha=0.6);"
      ],
      "execution_count": 0,
      "outputs": [
        {
          "output_type": "display_data",
          "data": {
            "image/png": "[encoded data removed]",
            "text/plain": [
              "<Figure size 1152x504 with 2 Axes>"
            ]
          },
          "metadata": {
            "tags": []
          }
        }
      ]
    },
    {
      "cell_type": "markdown",
      "metadata": {
        "id": "BedOTS0eJ9_K",
        "colab_type": "text"
      },
      "source": [
        "# 2) Perform PCA on your dataset first and *then* use k-means clustering. \n",
        "\n",
        "- You need to standardize your data before PCA.\n",
        "- First try clustering just on PC1 and PC2 so that you can make a scatterplot of your clustering.\n",
        "- Then use use a scree plot to decide how many principal components to include in your clustering, and use however many principal components you need in order to retain 90% of the variation of the original dataset\n",
        "\n"
      ]
    },
    {
      "cell_type": "code",
      "metadata": {
        "id": "E5MUa6_SXLMa",
        "colab_type": "code",
        "outputId": "6ac88e08-4858-407c-d205-3b4cadaef868",
        "colab": {
          "base_uri": "https://localhost:8080/",
          "height": 393
        }
      },
      "source": [
        "# Look at the dataframe:\n",
        "print (df.shape)\n",
        "df.head(10)"
      ],
      "execution_count": 0,
      "outputs": [
        {
          "output_type": "stream",
          "text": [
            "(569, 33)\n"
          ],
          "name": "stdout"
        },
        {
          "output_type": "execute_result",
          "data": {
            "text/html": [
              "<div>\n",
              "<style scoped>\n",
              "    .dataframe tbody tr th:only-of-type {\n",
              "        vertical-align: middle;\n",
              "    }\n",
              "\n",
              "    .dataframe tbody tr th {\n",
              "        vertical-align: top;\n",
              "    }\n",
              "\n",
              "    .dataframe thead th {\n",
              "        text-align: right;\n",
              "    }\n",
              "</style>\n",
              "<table border=\"1\" class=\"dataframe\">\n",
              "  <thead>\n",
              "    <tr style=\"text-align: right;\">\n",
              "      <th></th>\n",
              "      <th>id</th>\n",
              "      <th>diagnosis</th>\n",
              "      <th>radius_mean</th>\n",
              "      <th>texture_mean</th>\n",
              "      <th>perimeter_mean</th>\n",
              "      <th>area_mean</th>\n",
              "      <th>smoothness_mean</th>\n",
              "      <th>compactness_mean</th>\n",
              "      <th>concavity_mean</th>\n",
              "      <th>concave points_mean</th>\n",
              "      <th>symmetry_mean</th>\n",
              "      <th>fractal_dimension_mean</th>\n",
              "      <th>radius_se</th>\n",
              "      <th>texture_se</th>\n",
              "      <th>perimeter_se</th>\n",
              "      <th>area_se</th>\n",
              "      <th>smoothness_se</th>\n",
              "      <th>compactness_se</th>\n",
              "      <th>concavity_se</th>\n",
              "      <th>concave points_se</th>\n",
              "      <th>symmetry_se</th>\n",
              "      <th>fractal_dimension_se</th>\n",
              "      <th>radius_worst</th>\n",
              "      <th>texture_worst</th>\n",
              "      <th>perimeter_worst</th>\n",
              "      <th>area_worst</th>\n",
              "      <th>smoothness_worst</th>\n",
              "      <th>compactness_worst</th>\n",
              "      <th>concavity_worst</th>\n",
              "      <th>concave points_worst</th>\n",
              "      <th>symmetry_worst</th>\n",
              "      <th>fractal_dimension_worst</th>\n",
              "      <th>Unnamed: 32</th>\n",
              "    </tr>\n",
              "  </thead>\n",
              "  <tbody>\n",
              "    <tr>\n",
              "      <th>0</th>\n",
              "      <td>842302</td>\n",
              "      <td>M</td>\n",
              "      <td>17.99</td>\n",
              "      <td>10.38</td>\n",
              "      <td>122.80</td>\n",
              "      <td>1001.0</td>\n",
              "      <td>0.11840</td>\n",
              "      <td>0.27760</td>\n",
              "      <td>0.30010</td>\n",
              "      <td>0.14710</td>\n",
              "      <td>0.2419</td>\n",
              "      <td>0.07871</td>\n",
              "      <td>1.0950</td>\n",
              "      <td>0.9053</td>\n",
              "      <td>8.589</td>\n",
              "      <td>153.40</td>\n",
              "      <td>0.006399</td>\n",
              "      <td>0.04904</td>\n",
              "      <td>0.05373</td>\n",
              "      <td>0.01587</td>\n",
              "      <td>0.03003</td>\n",
              "      <td>0.006193</td>\n",
              "      <td>25.38</td>\n",
              "      <td>17.33</td>\n",
              "      <td>184.60</td>\n",
              "      <td>2019.0</td>\n",
              "      <td>0.1622</td>\n",
              "      <td>0.6656</td>\n",
              "      <td>0.7119</td>\n",
              "      <td>0.2654</td>\n",
              "      <td>0.4601</td>\n",
              "      <td>0.11890</td>\n",
              "      <td>NaN</td>\n",
              "    </tr>\n",
              "    <tr>\n",
              "      <th>1</th>\n",
              "      <td>842517</td>\n",
              "      <td>M</td>\n",
              "      <td>20.57</td>\n",
              "      <td>17.77</td>\n",
              "      <td>132.90</td>\n",
              "      <td>1326.0</td>\n",
              "      <td>0.08474</td>\n",
              "      <td>0.07864</td>\n",
              "      <td>0.08690</td>\n",
              "      <td>0.07017</td>\n",
              "      <td>0.1812</td>\n",
              "      <td>0.05667</td>\n",
              "      <td>0.5435</td>\n",
              "      <td>0.7339</td>\n",
              "      <td>3.398</td>\n",
              "      <td>74.08</td>\n",
              "      <td>0.005225</td>\n",
              "      <td>0.01308</td>\n",
              "      <td>0.01860</td>\n",
              "      <td>0.01340</td>\n",
              "      <td>0.01389</td>\n",
              "      <td>0.003532</td>\n",
              "      <td>24.99</td>\n",
              "      <td>23.41</td>\n",
              "      <td>158.80</td>\n",
              "      <td>1956.0</td>\n",
              "      <td>0.1238</td>\n",
              "      <td>0.1866</td>\n",
              "      <td>0.2416</td>\n",
              "      <td>0.1860</td>\n",
              "      <td>0.2750</td>\n",
              "      <td>0.08902</td>\n",
              "      <td>NaN</td>\n",
              "    </tr>\n",
              "    <tr>\n",
              "      <th>2</th>\n",
              "      <td>84300903</td>\n",
              "      <td>M</td>\n",
              "      <td>19.69</td>\n",
              "      <td>21.25</td>\n",
              "      <td>130.00</td>\n",
              "      <td>1203.0</td>\n",
              "      <td>0.10960</td>\n",
              "      <td>0.15990</td>\n",
              "      <td>0.19740</td>\n",
              "      <td>0.12790</td>\n",
              "      <td>0.2069</td>\n",
              "      <td>0.05999</td>\n",
              "      <td>0.7456</td>\n",
              "      <td>0.7869</td>\n",
              "      <td>4.585</td>\n",
              "      <td>94.03</td>\n",
              "      <td>0.006150</td>\n",
              "      <td>0.04006</td>\n",
              "      <td>0.03832</td>\n",
              "      <td>0.02058</td>\n",
              "      <td>0.02250</td>\n",
              "      <td>0.004571</td>\n",
              "      <td>23.57</td>\n",
              "      <td>25.53</td>\n",
              "      <td>152.50</td>\n",
              "      <td>1709.0</td>\n",
              "      <td>0.1444</td>\n",
              "      <td>0.4245</td>\n",
              "      <td>0.4504</td>\n",
              "      <td>0.2430</td>\n",
              "      <td>0.3613</td>\n",
              "      <td>0.08758</td>\n",
              "      <td>NaN</td>\n",
              "    </tr>\n",
              "    <tr>\n",
              "      <th>3</th>\n",
              "      <td>84348301</td>\n",
              "      <td>M</td>\n",
              "      <td>11.42</td>\n",
              "      <td>20.38</td>\n",
              "      <td>77.58</td>\n",
              "      <td>386.1</td>\n",
              "      <td>0.14250</td>\n",
              "      <td>0.28390</td>\n",
              "      <td>0.24140</td>\n",
              "      <td>0.10520</td>\n",
              "      <td>0.2597</td>\n",
              "      <td>0.09744</td>\n",
              "      <td>0.4956</td>\n",
              "      <td>1.1560</td>\n",
              "      <td>3.445</td>\n",
              "      <td>27.23</td>\n",
              "      <td>0.009110</td>\n",
              "      <td>0.07458</td>\n",
              "      <td>0.05661</td>\n",
              "      <td>0.01867</td>\n",
              "      <td>0.05963</td>\n",
              "      <td>0.009208</td>\n",
              "      <td>14.91</td>\n",
              "      <td>26.50</td>\n",
              "      <td>98.87</td>\n",
              "      <td>567.7</td>\n",
              "      <td>0.2098</td>\n",
              "      <td>0.8663</td>\n",
              "      <td>0.6869</td>\n",
              "      <td>0.2575</td>\n",
              "      <td>0.6638</td>\n",
              "      <td>0.17300</td>\n",
              "      <td>NaN</td>\n",
              "    </tr>\n",
              "    <tr>\n",
              "      <th>4</th>\n",
              "      <td>84358402</td>\n",
              "      <td>M</td>\n",
              "      <td>20.29</td>\n",
              "      <td>14.34</td>\n",
              "      <td>135.10</td>\n",
              "      <td>1297.0</td>\n",
              "      <td>0.10030</td>\n",
              "      <td>0.13280</td>\n",
              "      <td>0.19800</td>\n",
              "      <td>0.10430</td>\n",
              "      <td>0.1809</td>\n",
              "      <td>0.05883</td>\n",
              "      <td>0.7572</td>\n",
              "      <td>0.7813</td>\n",
              "      <td>5.438</td>\n",
              "      <td>94.44</td>\n",
              "      <td>0.011490</td>\n",
              "      <td>0.02461</td>\n",
              "      <td>0.05688</td>\n",
              "      <td>0.01885</td>\n",
              "      <td>0.01756</td>\n",
              "      <td>0.005115</td>\n",
              "      <td>22.54</td>\n",
              "      <td>16.67</td>\n",
              "      <td>152.20</td>\n",
              "      <td>1575.0</td>\n",
              "      <td>0.1374</td>\n",
              "      <td>0.2050</td>\n",
              "      <td>0.4000</td>\n",
              "      <td>0.1625</td>\n",
              "      <td>0.2364</td>\n",
              "      <td>0.07678</td>\n",
              "      <td>NaN</td>\n",
              "    </tr>\n",
              "    <tr>\n",
              "      <th>5</th>\n",
              "      <td>843786</td>\n",
              "      <td>M</td>\n",
              "      <td>12.45</td>\n",
              "      <td>15.70</td>\n",
              "      <td>82.57</td>\n",
              "      <td>477.1</td>\n",
              "      <td>0.12780</td>\n",
              "      <td>0.17000</td>\n",
              "      <td>0.15780</td>\n",
              "      <td>0.08089</td>\n",
              "      <td>0.2087</td>\n",
              "      <td>0.07613</td>\n",
              "      <td>0.3345</td>\n",
              "      <td>0.8902</td>\n",
              "      <td>2.217</td>\n",
              "      <td>27.19</td>\n",
              "      <td>0.007510</td>\n",
              "      <td>0.03345</td>\n",
              "      <td>0.03672</td>\n",
              "      <td>0.01137</td>\n",
              "      <td>0.02165</td>\n",
              "      <td>0.005082</td>\n",
              "      <td>15.47</td>\n",
              "      <td>23.75</td>\n",
              "      <td>103.40</td>\n",
              "      <td>741.6</td>\n",
              "      <td>0.1791</td>\n",
              "      <td>0.5249</td>\n",
              "      <td>0.5355</td>\n",
              "      <td>0.1741</td>\n",
              "      <td>0.3985</td>\n",
              "      <td>0.12440</td>\n",
              "      <td>NaN</td>\n",
              "    </tr>\n",
              "    <tr>\n",
              "      <th>6</th>\n",
              "      <td>844359</td>\n",
              "      <td>M</td>\n",
              "      <td>18.25</td>\n",
              "      <td>19.98</td>\n",
              "      <td>119.60</td>\n",
              "      <td>1040.0</td>\n",
              "      <td>0.09463</td>\n",
              "      <td>0.10900</td>\n",
              "      <td>0.11270</td>\n",
              "      <td>0.07400</td>\n",
              "      <td>0.1794</td>\n",
              "      <td>0.05742</td>\n",
              "      <td>0.4467</td>\n",
              "      <td>0.7732</td>\n",
              "      <td>3.180</td>\n",
              "      <td>53.91</td>\n",
              "      <td>0.004314</td>\n",
              "      <td>0.01382</td>\n",
              "      <td>0.02254</td>\n",
              "      <td>0.01039</td>\n",
              "      <td>0.01369</td>\n",
              "      <td>0.002179</td>\n",
              "      <td>22.88</td>\n",
              "      <td>27.66</td>\n",
              "      <td>153.20</td>\n",
              "      <td>1606.0</td>\n",
              "      <td>0.1442</td>\n",
              "      <td>0.2576</td>\n",
              "      <td>0.3784</td>\n",
              "      <td>0.1932</td>\n",
              "      <td>0.3063</td>\n",
              "      <td>0.08368</td>\n",
              "      <td>NaN</td>\n",
              "    </tr>\n",
              "    <tr>\n",
              "      <th>7</th>\n",
              "      <td>84458202</td>\n",
              "      <td>M</td>\n",
              "      <td>13.71</td>\n",
              "      <td>20.83</td>\n",
              "      <td>90.20</td>\n",
              "      <td>577.9</td>\n",
              "      <td>0.11890</td>\n",
              "      <td>0.16450</td>\n",
              "      <td>0.09366</td>\n",
              "      <td>0.05985</td>\n",
              "      <td>0.2196</td>\n",
              "      <td>0.07451</td>\n",
              "      <td>0.5835</td>\n",
              "      <td>1.3770</td>\n",
              "      <td>3.856</td>\n",
              "      <td>50.96</td>\n",
              "      <td>0.008805</td>\n",
              "      <td>0.03029</td>\n",
              "      <td>0.02488</td>\n",
              "      <td>0.01448</td>\n",
              "      <td>0.01486</td>\n",
              "      <td>0.005412</td>\n",
              "      <td>17.06</td>\n",
              "      <td>28.14</td>\n",
              "      <td>110.60</td>\n",
              "      <td>897.0</td>\n",
              "      <td>0.1654</td>\n",
              "      <td>0.3682</td>\n",
              "      <td>0.2678</td>\n",
              "      <td>0.1556</td>\n",
              "      <td>0.3196</td>\n",
              "      <td>0.11510</td>\n",
              "      <td>NaN</td>\n",
              "    </tr>\n",
              "    <tr>\n",
              "      <th>8</th>\n",
              "      <td>844981</td>\n",
              "      <td>M</td>\n",
              "      <td>13.00</td>\n",
              "      <td>21.82</td>\n",
              "      <td>87.50</td>\n",
              "      <td>519.8</td>\n",
              "      <td>0.12730</td>\n",
              "      <td>0.19320</td>\n",
              "      <td>0.18590</td>\n",
              "      <td>0.09353</td>\n",
              "      <td>0.2350</td>\n",
              "      <td>0.07389</td>\n",
              "      <td>0.3063</td>\n",
              "      <td>1.0020</td>\n",
              "      <td>2.406</td>\n",
              "      <td>24.32</td>\n",
              "      <td>0.005731</td>\n",
              "      <td>0.03502</td>\n",
              "      <td>0.03553</td>\n",
              "      <td>0.01226</td>\n",
              "      <td>0.02143</td>\n",
              "      <td>0.003749</td>\n",
              "      <td>15.49</td>\n",
              "      <td>30.73</td>\n",
              "      <td>106.20</td>\n",
              "      <td>739.3</td>\n",
              "      <td>0.1703</td>\n",
              "      <td>0.5401</td>\n",
              "      <td>0.5390</td>\n",
              "      <td>0.2060</td>\n",
              "      <td>0.4378</td>\n",
              "      <td>0.10720</td>\n",
              "      <td>NaN</td>\n",
              "    </tr>\n",
              "    <tr>\n",
              "      <th>9</th>\n",
              "      <td>84501001</td>\n",
              "      <td>M</td>\n",
              "      <td>12.46</td>\n",
              "      <td>24.04</td>\n",
              "      <td>83.97</td>\n",
              "      <td>475.9</td>\n",
              "      <td>0.11860</td>\n",
              "      <td>0.23960</td>\n",
              "      <td>0.22730</td>\n",
              "      <td>0.08543</td>\n",
              "      <td>0.2030</td>\n",
              "      <td>0.08243</td>\n",
              "      <td>0.2976</td>\n",
              "      <td>1.5990</td>\n",
              "      <td>2.039</td>\n",
              "      <td>23.94</td>\n",
              "      <td>0.007149</td>\n",
              "      <td>0.07217</td>\n",
              "      <td>0.07743</td>\n",
              "      <td>0.01432</td>\n",
              "      <td>0.01789</td>\n",
              "      <td>0.010080</td>\n",
              "      <td>15.09</td>\n",
              "      <td>40.68</td>\n",
              "      <td>97.65</td>\n",
              "      <td>711.4</td>\n",
              "      <td>0.1853</td>\n",
              "      <td>1.0580</td>\n",
              "      <td>1.1050</td>\n",
              "      <td>0.2210</td>\n",
              "      <td>0.4366</td>\n",
              "      <td>0.20750</td>\n",
              "      <td>NaN</td>\n",
              "    </tr>\n",
              "  </tbody>\n",
              "</table>\n",
              "</div>"
            ],
            "text/plain": [
              "         id diagnosis  ...  fractal_dimension_worst  Unnamed: 32\n",
              "0    842302         M  ...                  0.11890          NaN\n",
              "1    842517         M  ...                  0.08902          NaN\n",
              "2  84300903         M  ...                  0.08758          NaN\n",
              "3  84348301         M  ...                  0.17300          NaN\n",
              "4  84358402         M  ...                  0.07678          NaN\n",
              "5    843786         M  ...                  0.12440          NaN\n",
              "6    844359         M  ...                  0.08368          NaN\n",
              "7  84458202         M  ...                  0.11510          NaN\n",
              "8    844981         M  ...                  0.10720          NaN\n",
              "9  84501001         M  ...                  0.20750          NaN\n",
              "\n",
              "[10 rows x 33 columns]"
            ]
          },
          "metadata": {
            "tags": []
          },
          "execution_count": 23
        }
      ]
    },
    {
      "cell_type": "code",
      "metadata": {
        "id": "jpEaJKaLFdG4",
        "colab_type": "code",
        "outputId": "b5e60008-9ed0-4249-f2e4-3c202129d269",
        "colab": {
          "base_uri": "https://localhost:8080/",
          "height": 588
        }
      },
      "source": [
        "# Look at the data types of the dataframe:\n",
        "df.dtypes"
      ],
      "execution_count": 0,
      "outputs": [
        {
          "output_type": "execute_result",
          "data": {
            "text/plain": [
              "id                           int64\n",
              "diagnosis                   object\n",
              "radius_mean                float64\n",
              "texture_mean               float64\n",
              "perimeter_mean             float64\n",
              "area_mean                  float64\n",
              "smoothness_mean            float64\n",
              "compactness_mean           float64\n",
              "concavity_mean             float64\n",
              "concave points_mean        float64\n",
              "symmetry_mean              float64\n",
              "fractal_dimension_mean     float64\n",
              "radius_se                  float64\n",
              "texture_se                 float64\n",
              "perimeter_se               float64\n",
              "area_se                    float64\n",
              "smoothness_se              float64\n",
              "compactness_se             float64\n",
              "concavity_se               float64\n",
              "concave points_se          float64\n",
              "symmetry_se                float64\n",
              "fractal_dimension_se       float64\n",
              "radius_worst               float64\n",
              "texture_worst              float64\n",
              "perimeter_worst            float64\n",
              "area_worst                 float64\n",
              "smoothness_worst           float64\n",
              "compactness_worst          float64\n",
              "concavity_worst            float64\n",
              "concave points_worst       float64\n",
              "symmetry_worst             float64\n",
              "fractal_dimension_worst    float64\n",
              "Unnamed: 32                float64\n",
              "dtype: object"
            ]
          },
          "metadata": {
            "tags": []
          },
          "execution_count": 24
        }
      ]
    },
    {
      "cell_type": "code",
      "metadata": {
        "id": "93-BOsOHFdDZ",
        "colab_type": "code",
        "outputId": "5cc44b47-65da-41ec-bd3c-3548ca7beacd",
        "colab": {
          "base_uri": "https://localhost:8080/",
          "height": 588
        }
      },
      "source": [
        "# Check for missing values:\n",
        "df.isnull().sum()"
      ],
      "execution_count": 0,
      "outputs": [
        {
          "output_type": "execute_result",
          "data": {
            "text/plain": [
              "id                           0\n",
              "diagnosis                    0\n",
              "radius_mean                  0\n",
              "texture_mean                 0\n",
              "perimeter_mean               0\n",
              "area_mean                    0\n",
              "smoothness_mean              0\n",
              "compactness_mean             0\n",
              "concavity_mean               0\n",
              "concave points_mean          0\n",
              "symmetry_mean                0\n",
              "fractal_dimension_mean       0\n",
              "radius_se                    0\n",
              "texture_se                   0\n",
              "perimeter_se                 0\n",
              "area_se                      0\n",
              "smoothness_se                0\n",
              "compactness_se               0\n",
              "concavity_se                 0\n",
              "concave points_se            0\n",
              "symmetry_se                  0\n",
              "fractal_dimension_se         0\n",
              "radius_worst                 0\n",
              "texture_worst                0\n",
              "perimeter_worst              0\n",
              "area_worst                   0\n",
              "smoothness_worst             0\n",
              "compactness_worst            0\n",
              "concavity_worst              0\n",
              "concave points_worst         0\n",
              "symmetry_worst               0\n",
              "fractal_dimension_worst      0\n",
              "Unnamed: 32                569\n",
              "dtype: int64"
            ]
          },
          "metadata": {
            "tags": []
          },
          "execution_count": 25
        }
      ]
    },
    {
      "cell_type": "code",
      "metadata": {
        "id": "Nvk21Ke0Fc5n",
        "colab_type": "code",
        "outputId": "cd2af950-5597-4d3e-aa64-d5c0c3c93a7f",
        "colab": {
          "base_uri": "https://localhost:8080/",
          "height": 34
        }
      },
      "source": [
        "# Make a copy of the dataframe:\n",
        "can_processed = df.copy()\n",
        "\n",
        "# The only column that holds missing values is the Unnamed: 32 column. \n",
        "# All of the values in this column are missing, so do not need this column:\n",
        "can_processed.drop(columns=['Unnamed: 32'], inplace=True)\n",
        "\n",
        "# Check my work:\n",
        "can_processed.isnull().sum().any()"
      ],
      "execution_count": 0,
      "outputs": [
        {
          "output_type": "execute_result",
          "data": {
            "text/plain": [
              "False"
            ]
          },
          "metadata": {
            "tags": []
          },
          "execution_count": 26
        }
      ]
    },
    {
      "cell_type": "code",
      "metadata": {
        "id": "OIG7-yGLP-eA",
        "colab_type": "code",
        "outputId": "7e6040b5-015d-4e66-d9e2-f4fc52c072d5",
        "colab": {
          "base_uri": "https://localhost:8080/",
          "height": 50
        }
      },
      "source": [
        "# Seperate categorical and numeric columns:\n",
        "cat_cols = can_processed.columns[can_processed.dtypes=='object']\n",
        "num_cols = can_processed.columns[can_processed.dtypes!='object']\n",
        "\n",
        "# Look at the number of categorical and numeric columns:\n",
        "print (f'{len(cat_cols)} Categorical Columns')\n",
        "print (f'{len(num_cols)} Numerical Columns')"
      ],
      "execution_count": 0,
      "outputs": [
        {
          "output_type": "stream",
          "text": [
            "1 Categorical Columns\n",
            "31 Numerical Columns\n"
          ],
          "name": "stdout"
        }
      ]
    },
    {
      "cell_type": "code",
      "metadata": {
        "id": "dW1AeAK8PNah",
        "colab_type": "code",
        "outputId": "db4cd92a-39e7-4782-8448-8db66f66e636",
        "colab": {
          "base_uri": "https://localhost:8080/",
          "height": 572
        }
      },
      "source": [
        "# Cast categorical columns to category data type:\n",
        "can_processed[cat_cols] = can_processed[cat_cols].astype('category')\n",
        "can_processed.dtypes"
      ],
      "execution_count": 0,
      "outputs": [
        {
          "output_type": "execute_result",
          "data": {
            "text/plain": [
              "id                            int64\n",
              "diagnosis                  category\n",
              "radius_mean                 float64\n",
              "texture_mean                float64\n",
              "perimeter_mean              float64\n",
              "area_mean                   float64\n",
              "smoothness_mean             float64\n",
              "compactness_mean            float64\n",
              "concavity_mean              float64\n",
              "concave points_mean         float64\n",
              "symmetry_mean               float64\n",
              "fractal_dimension_mean      float64\n",
              "radius_se                   float64\n",
              "texture_se                  float64\n",
              "perimeter_se                float64\n",
              "area_se                     float64\n",
              "smoothness_se               float64\n",
              "compactness_se              float64\n",
              "concavity_se                float64\n",
              "concave points_se           float64\n",
              "symmetry_se                 float64\n",
              "fractal_dimension_se        float64\n",
              "radius_worst                float64\n",
              "texture_worst               float64\n",
              "perimeter_worst             float64\n",
              "area_worst                  float64\n",
              "smoothness_worst            float64\n",
              "compactness_worst           float64\n",
              "concavity_worst             float64\n",
              "concave points_worst        float64\n",
              "symmetry_worst              float64\n",
              "fractal_dimension_worst     float64\n",
              "dtype: object"
            ]
          },
          "metadata": {
            "tags": []
          },
          "execution_count": 28
        }
      ]
    },
    {
      "cell_type": "code",
      "metadata": {
        "id": "HAaslVizkf6U",
        "colab_type": "code",
        "outputId": "c45747c8-6eed-4807-94d5-9956986665bf",
        "colab": {
          "base_uri": "https://localhost:8080/",
          "height": 393
        }
      },
      "source": [
        "# Replace all category cell values with their numeric category codes:\n",
        "for col in cat_cols:\n",
        "  can_processed[col] = can_processed[col].cat.codes\n",
        "\n",
        "print (can_processed.shape)\n",
        "can_processed.sample(10)"
      ],
      "execution_count": 0,
      "outputs": [
        {
          "output_type": "stream",
          "text": [
            "(569, 32)\n"
          ],
          "name": "stdout"
        },
        {
          "output_type": "execute_result",
          "data": {
            "text/html": [
              "<div>\n",
              "<style scoped>\n",
              "    .dataframe tbody tr th:only-of-type {\n",
              "        vertical-align: middle;\n",
              "    }\n",
              "\n",
              "    .dataframe tbody tr th {\n",
              "        vertical-align: top;\n",
              "    }\n",
              "\n",
              "    .dataframe thead th {\n",
              "        text-align: right;\n",
              "    }\n",
              "</style>\n",
              "<table border=\"1\" class=\"dataframe\">\n",
              "  <thead>\n",
              "    <tr style=\"text-align: right;\">\n",
              "      <th></th>\n",
              "      <th>id</th>\n",
              "      <th>diagnosis</th>\n",
              "      <th>radius_mean</th>\n",
              "      <th>texture_mean</th>\n",
              "      <th>perimeter_mean</th>\n",
              "      <th>area_mean</th>\n",
              "      <th>smoothness_mean</th>\n",
              "      <th>compactness_mean</th>\n",
              "      <th>concavity_mean</th>\n",
              "      <th>concave points_mean</th>\n",
              "      <th>symmetry_mean</th>\n",
              "      <th>fractal_dimension_mean</th>\n",
              "      <th>radius_se</th>\n",
              "      <th>texture_se</th>\n",
              "      <th>perimeter_se</th>\n",
              "      <th>area_se</th>\n",
              "      <th>smoothness_se</th>\n",
              "      <th>compactness_se</th>\n",
              "      <th>concavity_se</th>\n",
              "      <th>concave points_se</th>\n",
              "      <th>symmetry_se</th>\n",
              "      <th>fractal_dimension_se</th>\n",
              "      <th>radius_worst</th>\n",
              "      <th>texture_worst</th>\n",
              "      <th>perimeter_worst</th>\n",
              "      <th>area_worst</th>\n",
              "      <th>smoothness_worst</th>\n",
              "      <th>compactness_worst</th>\n",
              "      <th>concavity_worst</th>\n",
              "      <th>concave points_worst</th>\n",
              "      <th>symmetry_worst</th>\n",
              "      <th>fractal_dimension_worst</th>\n",
              "    </tr>\n",
              "  </thead>\n",
              "  <tbody>\n",
              "    <tr>\n",
              "      <th>513</th>\n",
              "      <td>915940</td>\n",
              "      <td>0</td>\n",
              "      <td>14.580</td>\n",
              "      <td>13.66</td>\n",
              "      <td>94.29</td>\n",
              "      <td>658.8</td>\n",
              "      <td>0.09832</td>\n",
              "      <td>0.08918</td>\n",
              "      <td>0.08222</td>\n",
              "      <td>0.04349</td>\n",
              "      <td>0.1739</td>\n",
              "      <td>0.05640</td>\n",
              "      <td>0.4165</td>\n",
              "      <td>0.6237</td>\n",
              "      <td>2.5610</td>\n",
              "      <td>37.11</td>\n",
              "      <td>0.004953</td>\n",
              "      <td>0.01812</td>\n",
              "      <td>0.030350</td>\n",
              "      <td>0.008648</td>\n",
              "      <td>0.01539</td>\n",
              "      <td>0.002281</td>\n",
              "      <td>16.76</td>\n",
              "      <td>17.24</td>\n",
              "      <td>108.50</td>\n",
              "      <td>862.0</td>\n",
              "      <td>0.1223</td>\n",
              "      <td>0.1928</td>\n",
              "      <td>0.24920</td>\n",
              "      <td>0.09186</td>\n",
              "      <td>0.2626</td>\n",
              "      <td>0.07048</td>\n",
              "    </tr>\n",
              "    <tr>\n",
              "      <th>206</th>\n",
              "      <td>879804</td>\n",
              "      <td>0</td>\n",
              "      <td>9.876</td>\n",
              "      <td>17.27</td>\n",
              "      <td>62.92</td>\n",
              "      <td>295.4</td>\n",
              "      <td>0.10890</td>\n",
              "      <td>0.07232</td>\n",
              "      <td>0.01756</td>\n",
              "      <td>0.01952</td>\n",
              "      <td>0.1934</td>\n",
              "      <td>0.06285</td>\n",
              "      <td>0.2137</td>\n",
              "      <td>1.3420</td>\n",
              "      <td>1.5170</td>\n",
              "      <td>12.33</td>\n",
              "      <td>0.009719</td>\n",
              "      <td>0.01249</td>\n",
              "      <td>0.007975</td>\n",
              "      <td>0.007527</td>\n",
              "      <td>0.02210</td>\n",
              "      <td>0.002472</td>\n",
              "      <td>10.42</td>\n",
              "      <td>23.22</td>\n",
              "      <td>67.08</td>\n",
              "      <td>331.6</td>\n",
              "      <td>0.1415</td>\n",
              "      <td>0.1247</td>\n",
              "      <td>0.06213</td>\n",
              "      <td>0.05588</td>\n",
              "      <td>0.2989</td>\n",
              "      <td>0.07380</td>\n",
              "    </tr>\n",
              "    <tr>\n",
              "      <th>487</th>\n",
              "      <td>913505</td>\n",
              "      <td>1</td>\n",
              "      <td>19.440</td>\n",
              "      <td>18.82</td>\n",
              "      <td>128.10</td>\n",
              "      <td>1167.0</td>\n",
              "      <td>0.10890</td>\n",
              "      <td>0.14480</td>\n",
              "      <td>0.22560</td>\n",
              "      <td>0.11940</td>\n",
              "      <td>0.1823</td>\n",
              "      <td>0.06115</td>\n",
              "      <td>0.5659</td>\n",
              "      <td>1.4080</td>\n",
              "      <td>3.6310</td>\n",
              "      <td>67.74</td>\n",
              "      <td>0.005288</td>\n",
              "      <td>0.02833</td>\n",
              "      <td>0.042560</td>\n",
              "      <td>0.011760</td>\n",
              "      <td>0.01717</td>\n",
              "      <td>0.003211</td>\n",
              "      <td>23.96</td>\n",
              "      <td>30.39</td>\n",
              "      <td>153.90</td>\n",
              "      <td>1740.0</td>\n",
              "      <td>0.1514</td>\n",
              "      <td>0.3725</td>\n",
              "      <td>0.59360</td>\n",
              "      <td>0.20600</td>\n",
              "      <td>0.3266</td>\n",
              "      <td>0.09009</td>\n",
              "    </tr>\n",
              "    <tr>\n",
              "      <th>479</th>\n",
              "      <td>911916</td>\n",
              "      <td>1</td>\n",
              "      <td>16.250</td>\n",
              "      <td>19.51</td>\n",
              "      <td>109.80</td>\n",
              "      <td>815.8</td>\n",
              "      <td>0.10260</td>\n",
              "      <td>0.18930</td>\n",
              "      <td>0.22360</td>\n",
              "      <td>0.09194</td>\n",
              "      <td>0.2151</td>\n",
              "      <td>0.06578</td>\n",
              "      <td>0.3147</td>\n",
              "      <td>0.9857</td>\n",
              "      <td>3.0700</td>\n",
              "      <td>33.12</td>\n",
              "      <td>0.009197</td>\n",
              "      <td>0.05470</td>\n",
              "      <td>0.080790</td>\n",
              "      <td>0.022150</td>\n",
              "      <td>0.02773</td>\n",
              "      <td>0.006355</td>\n",
              "      <td>17.39</td>\n",
              "      <td>23.05</td>\n",
              "      <td>122.10</td>\n",
              "      <td>939.7</td>\n",
              "      <td>0.1377</td>\n",
              "      <td>0.4462</td>\n",
              "      <td>0.58970</td>\n",
              "      <td>0.17750</td>\n",
              "      <td>0.3318</td>\n",
              "      <td>0.09136</td>\n",
              "    </tr>\n",
              "    <tr>\n",
              "      <th>199</th>\n",
              "      <td>877500</td>\n",
              "      <td>1</td>\n",
              "      <td>14.450</td>\n",
              "      <td>20.22</td>\n",
              "      <td>94.49</td>\n",
              "      <td>642.7</td>\n",
              "      <td>0.09872</td>\n",
              "      <td>0.12060</td>\n",
              "      <td>0.11800</td>\n",
              "      <td>0.05980</td>\n",
              "      <td>0.1950</td>\n",
              "      <td>0.06466</td>\n",
              "      <td>0.2092</td>\n",
              "      <td>0.6509</td>\n",
              "      <td>1.4460</td>\n",
              "      <td>19.42</td>\n",
              "      <td>0.004044</td>\n",
              "      <td>0.01597</td>\n",
              "      <td>0.020000</td>\n",
              "      <td>0.007303</td>\n",
              "      <td>0.01522</td>\n",
              "      <td>0.001976</td>\n",
              "      <td>18.33</td>\n",
              "      <td>30.12</td>\n",
              "      <td>117.90</td>\n",
              "      <td>1044.0</td>\n",
              "      <td>0.1552</td>\n",
              "      <td>0.4056</td>\n",
              "      <td>0.49670</td>\n",
              "      <td>0.18380</td>\n",
              "      <td>0.4753</td>\n",
              "      <td>0.10130</td>\n",
              "    </tr>\n",
              "    <tr>\n",
              "      <th>463</th>\n",
              "      <td>911320501</td>\n",
              "      <td>0</td>\n",
              "      <td>11.600</td>\n",
              "      <td>18.36</td>\n",
              "      <td>73.88</td>\n",
              "      <td>412.7</td>\n",
              "      <td>0.08508</td>\n",
              "      <td>0.05855</td>\n",
              "      <td>0.03367</td>\n",
              "      <td>0.01777</td>\n",
              "      <td>0.1516</td>\n",
              "      <td>0.05859</td>\n",
              "      <td>0.1816</td>\n",
              "      <td>0.7656</td>\n",
              "      <td>1.3030</td>\n",
              "      <td>12.89</td>\n",
              "      <td>0.006709</td>\n",
              "      <td>0.01701</td>\n",
              "      <td>0.020800</td>\n",
              "      <td>0.007497</td>\n",
              "      <td>0.02124</td>\n",
              "      <td>0.002768</td>\n",
              "      <td>12.77</td>\n",
              "      <td>24.02</td>\n",
              "      <td>82.68</td>\n",
              "      <td>495.1</td>\n",
              "      <td>0.1342</td>\n",
              "      <td>0.1808</td>\n",
              "      <td>0.18600</td>\n",
              "      <td>0.08288</td>\n",
              "      <td>0.3210</td>\n",
              "      <td>0.07863</td>\n",
              "    </tr>\n",
              "    <tr>\n",
              "      <th>440</th>\n",
              "      <td>909411</td>\n",
              "      <td>0</td>\n",
              "      <td>10.970</td>\n",
              "      <td>17.20</td>\n",
              "      <td>71.73</td>\n",
              "      <td>371.5</td>\n",
              "      <td>0.08915</td>\n",
              "      <td>0.11130</td>\n",
              "      <td>0.09457</td>\n",
              "      <td>0.03613</td>\n",
              "      <td>0.1489</td>\n",
              "      <td>0.06640</td>\n",
              "      <td>0.2574</td>\n",
              "      <td>1.3760</td>\n",
              "      <td>2.8060</td>\n",
              "      <td>18.15</td>\n",
              "      <td>0.008565</td>\n",
              "      <td>0.04638</td>\n",
              "      <td>0.064300</td>\n",
              "      <td>0.017680</td>\n",
              "      <td>0.01516</td>\n",
              "      <td>0.004976</td>\n",
              "      <td>12.36</td>\n",
              "      <td>26.87</td>\n",
              "      <td>90.14</td>\n",
              "      <td>476.4</td>\n",
              "      <td>0.1391</td>\n",
              "      <td>0.4082</td>\n",
              "      <td>0.47790</td>\n",
              "      <td>0.15550</td>\n",
              "      <td>0.2540</td>\n",
              "      <td>0.09532</td>\n",
              "    </tr>\n",
              "    <tr>\n",
              "      <th>21</th>\n",
              "      <td>8510824</td>\n",
              "      <td>0</td>\n",
              "      <td>9.504</td>\n",
              "      <td>12.44</td>\n",
              "      <td>60.34</td>\n",
              "      <td>273.9</td>\n",
              "      <td>0.10240</td>\n",
              "      <td>0.06492</td>\n",
              "      <td>0.02956</td>\n",
              "      <td>0.02076</td>\n",
              "      <td>0.1815</td>\n",
              "      <td>0.06905</td>\n",
              "      <td>0.2773</td>\n",
              "      <td>0.9768</td>\n",
              "      <td>1.9090</td>\n",
              "      <td>15.70</td>\n",
              "      <td>0.009606</td>\n",
              "      <td>0.01432</td>\n",
              "      <td>0.019850</td>\n",
              "      <td>0.014210</td>\n",
              "      <td>0.02027</td>\n",
              "      <td>0.002968</td>\n",
              "      <td>10.23</td>\n",
              "      <td>15.66</td>\n",
              "      <td>65.13</td>\n",
              "      <td>314.9</td>\n",
              "      <td>0.1324</td>\n",
              "      <td>0.1148</td>\n",
              "      <td>0.08867</td>\n",
              "      <td>0.06227</td>\n",
              "      <td>0.2450</td>\n",
              "      <td>0.07773</td>\n",
              "    </tr>\n",
              "    <tr>\n",
              "      <th>506</th>\n",
              "      <td>91544001</td>\n",
              "      <td>0</td>\n",
              "      <td>12.220</td>\n",
              "      <td>20.04</td>\n",
              "      <td>79.47</td>\n",
              "      <td>453.1</td>\n",
              "      <td>0.10960</td>\n",
              "      <td>0.11520</td>\n",
              "      <td>0.08175</td>\n",
              "      <td>0.02166</td>\n",
              "      <td>0.2124</td>\n",
              "      <td>0.06894</td>\n",
              "      <td>0.1811</td>\n",
              "      <td>0.7959</td>\n",
              "      <td>0.9857</td>\n",
              "      <td>12.58</td>\n",
              "      <td>0.006272</td>\n",
              "      <td>0.02198</td>\n",
              "      <td>0.039660</td>\n",
              "      <td>0.009894</td>\n",
              "      <td>0.01320</td>\n",
              "      <td>0.003813</td>\n",
              "      <td>13.16</td>\n",
              "      <td>24.17</td>\n",
              "      <td>85.13</td>\n",
              "      <td>515.3</td>\n",
              "      <td>0.1402</td>\n",
              "      <td>0.2315</td>\n",
              "      <td>0.35350</td>\n",
              "      <td>0.08088</td>\n",
              "      <td>0.2709</td>\n",
              "      <td>0.08839</td>\n",
              "    </tr>\n",
              "    <tr>\n",
              "      <th>156</th>\n",
              "      <td>8711202</td>\n",
              "      <td>1</td>\n",
              "      <td>17.680</td>\n",
              "      <td>20.74</td>\n",
              "      <td>117.40</td>\n",
              "      <td>963.7</td>\n",
              "      <td>0.11150</td>\n",
              "      <td>0.16650</td>\n",
              "      <td>0.18550</td>\n",
              "      <td>0.10540</td>\n",
              "      <td>0.1971</td>\n",
              "      <td>0.06166</td>\n",
              "      <td>0.8113</td>\n",
              "      <td>1.4000</td>\n",
              "      <td>5.5400</td>\n",
              "      <td>93.91</td>\n",
              "      <td>0.009037</td>\n",
              "      <td>0.04954</td>\n",
              "      <td>0.052060</td>\n",
              "      <td>0.018410</td>\n",
              "      <td>0.01778</td>\n",
              "      <td>0.004968</td>\n",
              "      <td>20.47</td>\n",
              "      <td>25.11</td>\n",
              "      <td>132.90</td>\n",
              "      <td>1302.0</td>\n",
              "      <td>0.1418</td>\n",
              "      <td>0.3498</td>\n",
              "      <td>0.35830</td>\n",
              "      <td>0.15150</td>\n",
              "      <td>0.2463</td>\n",
              "      <td>0.07738</td>\n",
              "    </tr>\n",
              "  </tbody>\n",
              "</table>\n",
              "</div>"
            ],
            "text/plain": [
              "            id  diagnosis  ...  symmetry_worst  fractal_dimension_worst\n",
              "513     915940          0  ...          0.2626                  0.07048\n",
              "206     879804          0  ...          0.2989                  0.07380\n",
              "487     913505          1  ...          0.3266                  0.09009\n",
              "479     911916          1  ...          0.3318                  0.09136\n",
              "199     877500          1  ...          0.4753                  0.10130\n",
              "463  911320501          0  ...          0.3210                  0.07863\n",
              "440     909411          0  ...          0.2540                  0.09532\n",
              "21     8510824          0  ...          0.2450                  0.07773\n",
              "506   91544001          0  ...          0.2709                  0.08839\n",
              "156    8711202          1  ...          0.2463                  0.07738\n",
              "\n",
              "[10 rows x 32 columns]"
            ]
          },
          "metadata": {
            "tags": []
          },
          "execution_count": 29
        }
      ]
    },
    {
      "cell_type": "code",
      "metadata": {
        "id": "EcIPRwymkf2b",
        "colab_type": "code",
        "outputId": "98c8c708-bbbb-4120-f388-b91fec32600f",
        "colab": {
          "base_uri": "https://localhost:8080/",
          "height": 572
        }
      },
      "source": [
        "# Should only have numeric columns now:\n",
        "can_processed.dtypes"
      ],
      "execution_count": 0,
      "outputs": [
        {
          "output_type": "execute_result",
          "data": {
            "text/plain": [
              "id                           int64\n",
              "diagnosis                     int8\n",
              "radius_mean                float64\n",
              "texture_mean               float64\n",
              "perimeter_mean             float64\n",
              "area_mean                  float64\n",
              "smoothness_mean            float64\n",
              "compactness_mean           float64\n",
              "concavity_mean             float64\n",
              "concave points_mean        float64\n",
              "symmetry_mean              float64\n",
              "fractal_dimension_mean     float64\n",
              "radius_se                  float64\n",
              "texture_se                 float64\n",
              "perimeter_se               float64\n",
              "area_se                    float64\n",
              "smoothness_se              float64\n",
              "compactness_se             float64\n",
              "concavity_se               float64\n",
              "concave points_se          float64\n",
              "symmetry_se                float64\n",
              "fractal_dimension_se       float64\n",
              "radius_worst               float64\n",
              "texture_worst              float64\n",
              "perimeter_worst            float64\n",
              "area_worst                 float64\n",
              "smoothness_worst           float64\n",
              "compactness_worst          float64\n",
              "concavity_worst            float64\n",
              "concave points_worst       float64\n",
              "symmetry_worst             float64\n",
              "fractal_dimension_worst    float64\n",
              "dtype: object"
            ]
          },
          "metadata": {
            "tags": []
          },
          "execution_count": 30
        }
      ]
    },
    {
      "cell_type": "code",
      "metadata": {
        "id": "KwBob3vXkfzW",
        "colab_type": "code",
        "outputId": "88d183fb-eb2a-4d81-8534-e7da3c816977",
        "colab": {
          "base_uri": "https://localhost:8080/",
          "height": 50
        }
      },
      "source": [
        "# Import StandardScaler and PCA from sklearn:\n",
        "from sklearn.preprocessing import StandardScaler\n",
        "from sklearn.decomposition import PCA\n",
        "\n",
        "# Create a variable for all the feature columns minus the 'id' and 'diagnosis' columns:\n",
        "f_cols = can_processed.columns[2:]\n",
        "\n",
        "# Create a variable for standardizing the features:\n",
        "x = can_processed.loc[:, f_cols].values\n",
        "\n",
        "# Use the scaler to fit and transform the data:\n",
        "x = StandardScaler().fit_transform(x)\n",
        "\n",
        "# Check whether the data is normalized:\n",
        "print('{:.2f}'.format(np.mean(x)))\n",
        "print(np.std(x))"
      ],
      "execution_count": 0,
      "outputs": [
        {
          "output_type": "stream",
          "text": [
            "0.00\n",
            "1.0\n"
          ],
          "name": "stdout"
        }
      ]
    },
    {
      "cell_type": "code",
      "metadata": {
        "id": "S31tLkGxkfxl",
        "colab_type": "code",
        "colab": {}
      },
      "source": [
        "# Convert the normalized features into a dataframe:\n",
        "can_pro_norm = pd.DataFrame(x, columns=f_cols)"
      ],
      "execution_count": 0,
      "outputs": []
    },
    {
      "cell_type": "code",
      "metadata": {
        "id": "roiwa-QvoG4N",
        "colab_type": "code",
        "colab": {}
      },
      "source": [
        "# Intialise the PCA model:\n",
        "mypca = PCA(n_components=2)\n",
        "\n",
        "# Fit the mypca model to the dataframe:\n",
        "can_pro_2d = mypca.fit_transform(x)"
      ],
      "execution_count": 0,
      "outputs": []
    },
    {
      "cell_type": "code",
      "metadata": {
        "id": "DQAeypU7u0v_",
        "colab_type": "code",
        "outputId": "092a128a-481d-4cde-cde2-d799d7cae432",
        "colab": {
          "base_uri": "https://localhost:8080/",
          "height": 67
        }
      },
      "source": [
        "# See how much variation did each PCA explain?\n",
        "print ('Variance Ratio per Feature: ', mypca.explained_variance_ratio_)\n",
        "\n",
        "# What is the total variance?\n",
        "print ('Total Variance: ', sum(mypca.explained_variance_ratio_))\n",
        "\n",
        "# How much informtion do I loose?\n",
        "print ('Information Lost: ', 1-sum(mypca.explained_variance_ratio_))"
      ],
      "execution_count": 0,
      "outputs": [
        {
          "output_type": "stream",
          "text": [
            "Variance Ratio per Feature:  [0.44272026 0.18971182]\n",
            "Total Variance:  0.6324320765155943\n",
            "Information Lost:  0.3675679234844057\n"
          ],
          "name": "stdout"
        }
      ]
    },
    {
      "cell_type": "code",
      "metadata": {
        "id": "syeIdOWikfta",
        "colab_type": "code",
        "outputId": "0c19b714-0599-4521-c440-ef40ab4ca681",
        "colab": {
          "base_uri": "https://localhost:8080/",
          "height": 193
        }
      },
      "source": [
        "# Turn that into a dataframe:\n",
        "can_final = pd.DataFrame(can_pro_2d, columns=['PC1', 'PC2'])\n",
        "can_final['diagnosis'] = can_processed['diagnosis']\n",
        "can_final.head()"
      ],
      "execution_count": 0,
      "outputs": [
        {
          "output_type": "execute_result",
          "data": {
            "text/html": [
              "<div>\n",
              "<style scoped>\n",
              "    .dataframe tbody tr th:only-of-type {\n",
              "        vertical-align: middle;\n",
              "    }\n",
              "\n",
              "    .dataframe tbody tr th {\n",
              "        vertical-align: top;\n",
              "    }\n",
              "\n",
              "    .dataframe thead th {\n",
              "        text-align: right;\n",
              "    }\n",
              "</style>\n",
              "<table border=\"1\" class=\"dataframe\">\n",
              "  <thead>\n",
              "    <tr style=\"text-align: right;\">\n",
              "      <th></th>\n",
              "      <th>PC1</th>\n",
              "      <th>PC2</th>\n",
              "      <th>diagnosis</th>\n",
              "    </tr>\n",
              "  </thead>\n",
              "  <tbody>\n",
              "    <tr>\n",
              "      <th>0</th>\n",
              "      <td>9.192837</td>\n",
              "      <td>1.948583</td>\n",
              "      <td>1</td>\n",
              "    </tr>\n",
              "    <tr>\n",
              "      <th>1</th>\n",
              "      <td>2.387802</td>\n",
              "      <td>-3.768172</td>\n",
              "      <td>1</td>\n",
              "    </tr>\n",
              "    <tr>\n",
              "      <th>2</th>\n",
              "      <td>5.733896</td>\n",
              "      <td>-1.075174</td>\n",
              "      <td>1</td>\n",
              "    </tr>\n",
              "    <tr>\n",
              "      <th>3</th>\n",
              "      <td>7.122953</td>\n",
              "      <td>10.275589</td>\n",
              "      <td>1</td>\n",
              "    </tr>\n",
              "    <tr>\n",
              "      <th>4</th>\n",
              "      <td>3.935302</td>\n",
              "      <td>-1.948072</td>\n",
              "      <td>1</td>\n",
              "    </tr>\n",
              "  </tbody>\n",
              "</table>\n",
              "</div>"
            ],
            "text/plain": [
              "        PC1        PC2  diagnosis\n",
              "0  9.192837   1.948583          1\n",
              "1  2.387802  -3.768172          1\n",
              "2  5.733896  -1.075174          1\n",
              "3  7.122953  10.275589          1\n",
              "4  3.935302  -1.948072          1"
            ]
          },
          "metadata": {
            "tags": []
          },
          "execution_count": 34
        }
      ]
    },
    {
      "cell_type": "code",
      "metadata": {
        "id": "VDFx0OiWkfp-",
        "colab_type": "code",
        "outputId": "d15bd757-b970-4458-9c6c-94129dabb5e8",
        "colab": {
          "base_uri": "https://localhost:8080/",
          "height": 388
        }
      },
      "source": [
        "# Assign a variable to centroids:\n",
        "cent = can_final.groupby(can_final['diagnosis']).mean()\n",
        "\n",
        "# Display the clusters:\n",
        "colors = {0:'red', 1:'teal'}\n",
        "fig, ax = plt.subplots(facecolor='white', figsize=(12, 6))\n",
        "ax.plot(cent['PC1'], cent['PC2'], 'ok')\n",
        "grouped = can_final.groupby(can_final['diagnosis'])\n",
        "for key, group in grouped:\n",
        "    group.plot(ax=ax, kind='scatter', x='PC1', y='PC2', label=key, s=50,\n",
        "               color=colors[key], alpha=0.6);"
      ],
      "execution_count": 0,
      "outputs": [
        {
          "output_type": "display_data",
          "data": {
            "image/png": "[encoded data removed]",
            "text/plain": [
              "<Figure size 864x432 with 1 Axes>"
            ]
          },
          "metadata": {
            "tags": []
          }
        }
      ]
    },
    {
      "cell_type": "code",
      "metadata": {
        "id": "bh3wqzhT9RV7",
        "colab_type": "code",
        "colab": {}
      },
      "source": [
        "# Intialise the PCA model:\n",
        "mypca = PCA(n_components=10)\n",
        "\n",
        "# Fit the mypca model to the dataframe:\n",
        "can_pro_pca = mypca.fit_transform(x)"
      ],
      "execution_count": 0,
      "outputs": []
    },
    {
      "cell_type": "code",
      "metadata": {
        "id": "GDYNqIXfkfgU",
        "colab_type": "code",
        "outputId": "3dfa8c02-1f21-41f4-f6c3-15c4d0e7b9b5",
        "colab": {
          "base_uri": "https://localhost:8080/",
          "height": 34
        }
      },
      "source": [
        "# Define the number of components:\n",
        "num_comp = len(mypca.explained_variance_ratio_)\n",
        "num_comp"
      ],
      "execution_count": 0,
      "outputs": [
        {
          "output_type": "execute_result",
          "data": {
            "text/plain": [
              "10"
            ]
          },
          "metadata": {
            "tags": []
          },
          "execution_count": 42
        }
      ]
    },
    {
      "cell_type": "code",
      "metadata": {
        "id": "uPQUkx5NpRvQ",
        "colab_type": "code",
        "outputId": "88d23aa3-e1ac-4fb5-b97b-c796f74649c0",
        "colab": {
          "base_uri": "https://localhost:8080/",
          "height": 34
        }
      },
      "source": [
        "# Create a nuumpy array as long as the number of components:\n",
        "ind = np.arange(num_comp)\n",
        "ind"
      ],
      "execution_count": 0,
      "outputs": [
        {
          "output_type": "execute_result",
          "data": {
            "text/plain": [
              "array([0, 1, 2, 3, 4, 5, 6, 7, 8, 9])"
            ]
          },
          "metadata": {
            "tags": []
          },
          "execution_count": 43
        }
      ]
    },
    {
      "cell_type": "code",
      "metadata": {
        "id": "PQQhn6EvpRsJ",
        "colab_type": "code",
        "colab": {}
      },
      "source": [
        "# Define a scree plot function:\n",
        "def scree_plot(pca):\n",
        "  vals = mypca.explained_variance_ratio_\n",
        "  plt.figure(facecolor='white', figsize=(16, 6))\n",
        "  ax = plt.subplot(111)\n",
        "  cumvals = np.cumsum(vals)\n",
        "  ax.bar(ind, vals)\n",
        "  ax.plot(ind, cumvals, c='r')\n",
        "  for i in range(num_comp):\n",
        "    ax.annotate(r'%s' % ((str(vals[i]*100)[:3])), (ind[i], vals[i]), va='bottom',\n",
        "                ha='center', fontsize=10)\n",
        "  ax.xaxis.set_tick_params(width=0)\n",
        "  ax.yaxis.set_tick_params(width=2, length=12)\n",
        "  ax.set_xlabel('Principal Component')\n",
        "  ax.set_ylabel('Variance Explained (%)')\n",
        "  plt.title('Explained Variance Per Principal Component');"
      ],
      "execution_count": 0,
      "outputs": []
    },
    {
      "cell_type": "code",
      "metadata": {
        "id": "_pxi5jeaCV-m",
        "colab_type": "code",
        "outputId": "9538b64f-7e26-41b2-c51d-33d60eeb3d28",
        "colab": {
          "base_uri": "https://localhost:8080/",
          "height": 404
        }
      },
      "source": [
        "# Apply the scree plot function:\n",
        "scree_plot(mypca)"
      ],
      "execution_count": 0,
      "outputs": [
        {
          "output_type": "display_data",
          "data": {
            "image/png": "[encoded data removed]",
            "text/plain": [
              "<Figure size 1152x432 with 1 Axes>"
            ]
          },
          "metadata": {
            "tags": []
          }
        }
      ]
    },
    {
      "cell_type": "code",
      "metadata": {
        "id": "3QgDQ__ECVwY",
        "colab_type": "code",
        "colab": {}
      },
      "source": [
        "# Intialise the PCA model:\n",
        "mypca = PCA(n_components=7)\n",
        "\n",
        "# Fit the mypca model to the dataframe:\n",
        "can_pro_6d = mypca.fit_transform(x)"
      ],
      "execution_count": 0,
      "outputs": []
    },
    {
      "cell_type": "code",
      "metadata": {
        "colab_type": "code",
        "outputId": "2127d1c9-be9e-489c-d7b5-66babfd2fe42",
        "id": "mEshkPVtDmxt",
        "colab": {
          "base_uri": "https://localhost:8080/",
          "height": 34
        }
      },
      "source": [
        "# Define the number of components:\n",
        "num_comp = len(mypca.explained_variance_ratio_)\n",
        "num_comp"
      ],
      "execution_count": 0,
      "outputs": [
        {
          "output_type": "execute_result",
          "data": {
            "text/plain": [
              "7"
            ]
          },
          "metadata": {
            "tags": []
          },
          "execution_count": 56
        }
      ]
    },
    {
      "cell_type": "code",
      "metadata": {
        "colab_type": "code",
        "outputId": "71ebd851-fffe-49f3-85c7-83602a8f1b9f",
        "id": "t1OhEiXWDqEk",
        "colab": {
          "base_uri": "https://localhost:8080/",
          "height": 34
        }
      },
      "source": [
        "# Create a nuumpy array as long as the number of components:\n",
        "ind = np.arange(num_comp)\n",
        "ind"
      ],
      "execution_count": 0,
      "outputs": [
        {
          "output_type": "execute_result",
          "data": {
            "text/plain": [
              "array([0, 1, 2, 3, 4, 5, 6])"
            ]
          },
          "metadata": {
            "tags": []
          },
          "execution_count": 57
        }
      ]
    },
    {
      "cell_type": "code",
      "metadata": {
        "id": "L_M37vcNDKcB",
        "colab_type": "code",
        "outputId": "d17fd481-d4c1-46d9-999a-4244e4a3aff2",
        "colab": {
          "base_uri": "https://localhost:8080/",
          "height": 404
        }
      },
      "source": [
        "# Apply my scree plot function to new PCA:\n",
        "scree_plot(mypca)"
      ],
      "execution_count": 0,
      "outputs": [
        {
          "output_type": "display_data",
          "data": {
            "image/png": "[encoded data removed]",
            "text/plain": [
              "<Figure size 1152x432 with 1 Axes>"
            ]
          },
          "metadata": {
            "tags": []
          }
        }
      ]
    },
    {
      "cell_type": "code",
      "metadata": {
        "colab_type": "code",
        "outputId": "2ed343bc-4fc8-4318-8a72-ee6f931f4bcc",
        "id": "ts5_7lHoD6Dk",
        "colab": {
          "base_uri": "https://localhost:8080/",
          "height": 84
        }
      },
      "source": [
        "# See how much variation did each PCA explain?\n",
        "print ('Variance Ratio per Feature: ', mypca.explained_variance_ratio_)\n",
        "\n",
        "# What is the total variance?\n",
        "print ('Total Variance: ', sum(mypca.explained_variance_ratio_))\n",
        "\n",
        "# How much informtion do I loose?\n",
        "print ('Information Lost: ', 1-sum(mypca.explained_variance_ratio_))"
      ],
      "execution_count": 0,
      "outputs": [
        {
          "output_type": "stream",
          "text": [
            "Variance Ratio per Feature:  [0.44272026 0.18971182 0.09393163 0.06602135 0.05495768 0.04024522\n",
            " 0.02250734]\n",
            "Total Variance:  0.9100953006957264\n",
            "Information Lost:  0.08990469930427358\n"
          ],
          "name": "stdout"
        }
      ]
    },
    {
      "cell_type": "markdown",
      "metadata": {
        "id": "hSDtOtWpEMtC",
        "colab_type": "text"
      },
      "source": [
        "- Need to have 7 principal components in order to retain at least 90% of variation of the original dataset."
      ]
    },
    {
      "cell_type": "markdown",
      "metadata": {
        "id": "PkrfbzfBROpP",
        "colab_type": "text"
      },
      "source": [
        "## Check your work: \n",
        "\n",
        "- Compare your PC1, PC2 clustering scatterplot to the clustering scatterplots you made on the raw data\n",
        "- Calculate accuracy scores for both the PC1,PC2 Principal component clustering and the 90% of explained variance clustering.\n",
        "\n",
        "How do your accuracy scores -when preprocessing the data with PCA- compare to the accuracy when simply clustering on the raw data?"
      ]
    },
    {
      "cell_type": "markdown",
      "metadata": {
        "id": "wKBwVaGOOYsq",
        "colab_type": "text"
      },
      "source": [
        "# Stretch Goals:\n",
        "\n",
        "- Study for the Sprint Challenge  **<--------- Doing this!**\n",
        "- Work on your Data Storytelling Project"
      ]
    }
  ]
}