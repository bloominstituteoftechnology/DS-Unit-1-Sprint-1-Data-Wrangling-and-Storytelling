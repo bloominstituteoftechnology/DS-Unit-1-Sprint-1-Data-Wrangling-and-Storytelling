{
  "nbformat": 4,
  "nbformat_minor": 0,
  "metadata": {
    "colab": {
      "name": "Linear_Algebra_Sprint_Challenge (5).ipynb",
      "provenance": [],
      "include_colab_link": true
    },
    "kernelspec": {
      "name": "python3",
      "display_name": "Python 3"
    }
  },
  "cells": [
    {
      "cell_type": "markdown",
      "metadata": {
        "id": "view-in-github",
        "colab_type": "text"
      },
      "source": [
        "<a href=\"https://colab.research.google.com/github/willstauffernorris/DS-Unit-1-Sprint-1-Data-Wrangling-and-Storytelling/blob/master/Linear_Algebra_Sprint_Challenge_(5).ipynb\" target=\"_parent\"><img src=\"https://colab.research.google.com/assets/colab-badge.svg\" alt=\"Open In Colab\"/></a>"
      ]
    },
    {
      "cell_type": "markdown",
      "metadata": {
        "id": "-wQxiT7yC4_v",
        "colab_type": "text"
      },
      "source": [
        "#Linear Algebra"
      ]
    },
    {
      "cell_type": "markdown",
      "metadata": {
        "id": "aiUlaNJkECCL",
        "colab_type": "text"
      },
      "source": [
        "## 1.1 Graph vector $\\vec{a}$ \n",
        "\n",
        "\\begin{align}\n",
        "\\vec{a} = \\begin{bmatrix} 3 \\\\ 2 \\end{bmatrix}\n",
        "\\end{align}"
      ]
    },
    {
      "cell_type": "code",
      "metadata": {
        "id": "QpCKt0n5IeiY",
        "colab_type": "code",
        "colab": {
          "base_uri": "https://localhost:8080/",
          "height": 269
        },
        "outputId": "66ee6de0-8395-4f55-f0ad-fbe8df4f134c"
      },
      "source": [
        "import math\n",
        "import matplotlib.pyplot as plt\n",
        "import numpy as np\n",
        "\n",
        "my_vector = [3,2]\n",
        "\n",
        "plt.arrow(0,0, my_vector[0], my_vector[1], head_width = .5, head_length = .5, color = 'teal')\n",
        "plt.xlim(-1,4)\n",
        "plt.ylim(-1, 4)\n",
        "plt.show()\n",
        "\n",
        "###this vector goes from the origin to 3 on the x axis and 2 on the y axis"
      ],
      "execution_count": 84,
      "outputs": [
        {
          "output_type": "display_data",
          "data": {
            "image/png": "[encoded data removed]",
            "text/plain": [
              "<Figure size 432x288 with 1 Axes>"
            ]
          },
          "metadata": {
            "tags": []
          }
        }
      ]
    },
    {
      "cell_type": "markdown",
      "metadata": {
        "id": "BDLB08NXEiUN",
        "colab_type": "text"
      },
      "source": [
        "## 1.2 Find $||\\vec{b}||$. What does the norm of a vector represent?\n",
        "\\begin{align}\n",
        "\\vec{b} = \\begin{bmatrix} 17 & -4 & -2 & 1\\end{bmatrix}\n",
        "\\end{align}\n"
      ]
    },
    {
      "cell_type": "code",
      "metadata": {
        "id": "Fp3mocAKIfGD",
        "colab_type": "code",
        "colab": {
          "base_uri": "https://localhost:8080/",
          "height": 34
        },
        "outputId": "679c861d-10d4-46a2-8914-5b5754ddbd3b"
      },
      "source": [
        "b = [17,-4,-2,1]\n",
        "\n",
        "b_np = np.array(b)\n",
        "\n",
        "\n",
        "##calling.norm function \n",
        "print(np.linalg.norm(b_np))\n",
        "\n"
      ],
      "execution_count": 85,
      "outputs": [
        {
          "output_type": "stream",
          "text": [
            "17.60681686165901\n"
          ],
          "name": "stdout"
        }
      ]
    },
    {
      "cell_type": "markdown",
      "metadata": {
        "id": "boRPsf3xWhDG",
        "colab_type": "text"
      },
      "source": [
        "The norm of a vector represents the length of that vector, from the origin to the tip of the vector."
      ]
    },
    {
      "cell_type": "markdown",
      "metadata": {
        "id": "vBbJ0ZyPD6RG",
        "colab_type": "text"
      },
      "source": [
        "## 1.3 Find $\\vec{c} \\cdot \\vec{d}$ - Are these vectors orthogonal? Why or why not?\n",
        "\n",
        "\\begin{align}\n",
        "\\vec{c} = \\begin{bmatrix}3 & 7 & -2 & 12\\end{bmatrix}\n",
        "\\qquad\n",
        "\\vec{d} = \\begin{bmatrix}9 & -7 & 4 & 6\\end{bmatrix}\n",
        "\\end{align}"
      ]
    },
    {
      "cell_type": "code",
      "metadata": {
        "id": "NYb8BalmIfgY",
        "colab_type": "code",
        "colab": {}
      },
      "source": [
        "import pandas as pd\n"
      ],
      "execution_count": 0,
      "outputs": []
    },
    {
      "cell_type": "code",
      "metadata": {
        "id": "zDC6p55563kC",
        "colab_type": "code",
        "colab": {
          "base_uri": "https://localhost:8080/",
          "height": 68
        },
        "outputId": "0b5922d6-f6ed-4734-8f24-e176b2a8402b"
      },
      "source": [
        "c = np.array([3,7,-2,12])\n",
        "d = np.array([9,-7,4,6])\n",
        "\n",
        "print(c)\n",
        "print(d)\n",
        "\n",
        "np.vdot(c,d)"
      ],
      "execution_count": 159,
      "outputs": [
        {
          "output_type": "stream",
          "text": [
            "[ 3  7 -2 12]\n",
            "[ 9 -7  4  6]\n"
          ],
          "name": "stdout"
        },
        {
          "output_type": "execute_result",
          "data": {
            "text/plain": [
              "42"
            ]
          },
          "metadata": {
            "tags": []
          },
          "execution_count": 159
        }
      ]
    },
    {
      "cell_type": "markdown",
      "metadata": {
        "id": "MVnhcHHHXaW6",
        "colab_type": "text"
      },
      "source": [
        "They are not orthogonal, because the dot product is not 0. Another definition of orthoganal is that the vectors are perpendicular to each other, but this is hard to visualize with a 4 dimensional vector.\n"
      ]
    },
    {
      "cell_type": "markdown",
      "metadata": {
        "id": "gS85sJHWG7iU",
        "colab_type": "text"
      },
      "source": [
        "## 1.4 Find $E^{-1}$ and $E^{T}$\n",
        "\n",
        "\\begin{align}\n",
        "E = \n",
        "\\begin{bmatrix}\n",
        "    7 & 4 & 2 \\\\\n",
        "    1 & 3 & -1 \\\\\n",
        "    2 & 6 & -4\n",
        "\\end{bmatrix}\n",
        "\\end{align}"
      ]
    },
    {
      "cell_type": "code",
      "metadata": {
        "id": "QiISq5egIgSS",
        "colab_type": "code",
        "colab": {
          "base_uri": "https://localhost:8080/",
          "height": 323
        },
        "outputId": "90cd45fb-36a4-4eb4-ba12-2106184d1b13"
      },
      "source": [
        "E = [[7,4,2],\n",
        "     [1,3,-1],\n",
        "     [2,6,-4]]\n",
        "\n",
        "matrixE = np.array(E)\n",
        "\n",
        "print(matrixE)\n",
        "print(\"the shape is:\")\n",
        "print(matrixE.shape)\n",
        "\n",
        "print(\"The transpose is:\")\n",
        "print(matrixE.T)\n",
        "print(\"the shape of the tranpose is:\")\n",
        "print(matrixE.T.shape)\n",
        "\n",
        "print(\"the inverse of E is:\")\n",
        "#np.linalg.det((matrixE.T))\n",
        "\n",
        "from numpy.linalg import inv\n",
        "\n",
        "inverse_E = inv(np.matrix(E))\n",
        "\n",
        "print(inverse_E)\n",
        "\n",
        "\n",
        "##testing to make sure that the dot product of inverse_E and E is the identity matrix\n",
        "np.dot(E, inverse_E).round(2)\n",
        "\n",
        "## it is, there are just some rounding errors (fixed)"
      ],
      "execution_count": 87,
      "outputs": [
        {
          "output_type": "stream",
          "text": [
            "[[ 7  4  2]\n",
            " [ 1  3 -1]\n",
            " [ 2  6 -4]]\n",
            "the shape is:\n",
            "(3, 3)\n",
            "The transpose is:\n",
            "[[ 7  1  2]\n",
            " [ 4  3  6]\n",
            " [ 2 -1 -4]]\n",
            "the shape of the tranpose is:\n",
            "(3, 3)\n",
            "the inverse of E is:\n",
            "[[ 0.17647059 -0.82352941  0.29411765]\n",
            " [-0.05882353  0.94117647 -0.26470588]\n",
            " [ 0.          1.         -0.5       ]]\n"
          ],
          "name": "stdout"
        },
        {
          "output_type": "execute_result",
          "data": {
            "text/plain": [
              "array([[ 1.,  0.,  0.],\n",
              "       [ 0.,  1.,  0.],\n",
              "       [ 0., -0.,  1.]])"
            ]
          },
          "metadata": {
            "tags": []
          },
          "execution_count": 87
        }
      ]
    },
    {
      "cell_type": "markdown",
      "metadata": {
        "id": "_DFQHO2HcPNz",
        "colab_type": "text"
      },
      "source": [
        "## 1.5 Find $|F|$ - What is one reason why the determinant of a matrix would be 0? \n",
        "\n",
        "\\begin{align}\n",
        "F = \n",
        "\\begin{bmatrix}\n",
        "    2 & -2 & 5 \\\\\n",
        "    4 & 1 & 10 \\\\\n",
        "    12 & 6 & 30\n",
        "\\end{bmatrix}\n",
        "\\end{align}"
      ]
    },
    {
      "cell_type": "code",
      "metadata": {
        "id": "FoX4j9kAc4Wf",
        "colab_type": "code",
        "colab": {
          "base_uri": "https://localhost:8080/",
          "height": 102
        },
        "outputId": "917b3f8e-2933-4e8a-bc94-3a800ec98c0d"
      },
      "source": [
        "F = [[2,-2,5],\n",
        "     [4,1,10],\n",
        "     [12,6,30]]\n",
        "\n",
        "F\n",
        "\n",
        "matrixF = np.array(F)\n",
        "\n",
        "print(matrixF)\n",
        "print(\"the determinant of the matrix is\")\n",
        "np.linalg.det(F)\n",
        "\n",
        "\n",
        "##when the determinant is zero, the rows/columns are linearly dependent\n",
        "###this means that the volume of the matrix (determinant) is zero \n",
        "####Also, the matrix with zero determinant can't be inverted (divide by 0 = undefined)"
      ],
      "execution_count": 88,
      "outputs": [
        {
          "output_type": "stream",
          "text": [
            "[[ 2 -2  5]\n",
            " [ 4  1 10]\n",
            " [12  6 30]]\n",
            "the determinant of the matrix is\n"
          ],
          "name": "stdout"
        },
        {
          "output_type": "execute_result",
          "data": {
            "text/plain": [
              "0.0"
            ]
          },
          "metadata": {
            "tags": []
          },
          "execution_count": 88
        }
      ]
    },
    {
      "cell_type": "markdown",
      "metadata": {
        "id": "TPzrKzEvC5YU",
        "colab_type": "text"
      },
      "source": [
        "# Intermediate Linear Algebra"
      ]
    },
    {
      "cell_type": "markdown",
      "metadata": {
        "id": "ap-us2lBGQyi",
        "colab_type": "text"
      },
      "source": [
        "## 2.1 Suppose that the number of customers at a ski resort as well as the number of inches of fresh powder (snow)  was recorded for 7 days. \n",
        "\n",
        "### Customers: [820, 760, 1250, 990, 1080, 1450, 1600]\n",
        "\n",
        "### Inches of new snow: [0, 1, 7, 1, 0, 6, 4 ]\n",
        "\n",
        "## Find the mean, sample variance, and sample standard deviation for both the number of customers and inches of new snow for the week. Remember that on SCs you can use library functions, dataframes, .describe(), etc. \n",
        "\n"
      ]
    },
    {
      "cell_type": "code",
      "metadata": {
        "id": "xS-JuHl9JiiP",
        "colab_type": "code",
        "colab": {}
      },
      "source": [
        "customers = [820, 760, 1250, 990, 1080, 1450, 1600]\n",
        "snow = [0, 1, 7, 1, 0, 6, 4]\n"
      ],
      "execution_count": 0,
      "outputs": []
    },
    {
      "cell_type": "code",
      "metadata": {
        "id": "cNxeVa0cg40d",
        "colab_type": "code",
        "colab": {
          "base_uri": "https://localhost:8080/",
          "height": 204
        },
        "outputId": "370e351f-16c4-4771-f0e9-a8cab8756ccf"
      },
      "source": [
        "df = pd.DataFrame(list(zip(customers, snow)), columns = [\"customers\", \"snow\"])\n",
        "\n",
        "df.head()\n",
        "\n"
      ],
      "execution_count": 90,
      "outputs": [
        {
          "output_type": "execute_result",
          "data": {
            "text/html": [
              "<div>\n",
              "<style scoped>\n",
              "    .dataframe tbody tr th:only-of-type {\n",
              "        vertical-align: middle;\n",
              "    }\n",
              "\n",
              "    .dataframe tbody tr th {\n",
              "        vertical-align: top;\n",
              "    }\n",
              "\n",
              "    .dataframe thead th {\n",
              "        text-align: right;\n",
              "    }\n",
              "</style>\n",
              "<table border=\"1\" class=\"dataframe\">\n",
              "  <thead>\n",
              "    <tr style=\"text-align: right;\">\n",
              "      <th></th>\n",
              "      <th>customers</th>\n",
              "      <th>snow</th>\n",
              "    </tr>\n",
              "  </thead>\n",
              "  <tbody>\n",
              "    <tr>\n",
              "      <th>0</th>\n",
              "      <td>820</td>\n",
              "      <td>0</td>\n",
              "    </tr>\n",
              "    <tr>\n",
              "      <th>1</th>\n",
              "      <td>760</td>\n",
              "      <td>1</td>\n",
              "    </tr>\n",
              "    <tr>\n",
              "      <th>2</th>\n",
              "      <td>1250</td>\n",
              "      <td>7</td>\n",
              "    </tr>\n",
              "    <tr>\n",
              "      <th>3</th>\n",
              "      <td>990</td>\n",
              "      <td>1</td>\n",
              "    </tr>\n",
              "    <tr>\n",
              "      <th>4</th>\n",
              "      <td>1080</td>\n",
              "      <td>0</td>\n",
              "    </tr>\n",
              "  </tbody>\n",
              "</table>\n",
              "</div>"
            ],
            "text/plain": [
              "   customers  snow\n",
              "0        820     0\n",
              "1        760     1\n",
              "2       1250     7\n",
              "3        990     1\n",
              "4       1080     0"
            ]
          },
          "metadata": {
            "tags": []
          },
          "execution_count": 90
        }
      ]
    },
    {
      "cell_type": "code",
      "metadata": {
        "id": "6xB2ws5BfmTX",
        "colab_type": "code",
        "colab": {
          "base_uri": "https://localhost:8080/",
          "height": 297
        },
        "outputId": "46e07ec7-e409-4353-ea61-0825911150ed"
      },
      "source": [
        "df.describe()\n"
      ],
      "execution_count": 91,
      "outputs": [
        {
          "output_type": "execute_result",
          "data": {
            "text/html": [
              "<div>\n",
              "<style scoped>\n",
              "    .dataframe tbody tr th:only-of-type {\n",
              "        vertical-align: middle;\n",
              "    }\n",
              "\n",
              "    .dataframe tbody tr th {\n",
              "        vertical-align: top;\n",
              "    }\n",
              "\n",
              "    .dataframe thead th {\n",
              "        text-align: right;\n",
              "    }\n",
              "</style>\n",
              "<table border=\"1\" class=\"dataframe\">\n",
              "  <thead>\n",
              "    <tr style=\"text-align: right;\">\n",
              "      <th></th>\n",
              "      <th>customers</th>\n",
              "      <th>snow</th>\n",
              "    </tr>\n",
              "  </thead>\n",
              "  <tbody>\n",
              "    <tr>\n",
              "      <th>count</th>\n",
              "      <td>7.000000</td>\n",
              "      <td>7.000000</td>\n",
              "    </tr>\n",
              "    <tr>\n",
              "      <th>mean</th>\n",
              "      <td>1135.714286</td>\n",
              "      <td>2.714286</td>\n",
              "    </tr>\n",
              "    <tr>\n",
              "      <th>std</th>\n",
              "      <td>314.264069</td>\n",
              "      <td>2.927700</td>\n",
              "    </tr>\n",
              "    <tr>\n",
              "      <th>min</th>\n",
              "      <td>760.000000</td>\n",
              "      <td>0.000000</td>\n",
              "    </tr>\n",
              "    <tr>\n",
              "      <th>25%</th>\n",
              "      <td>905.000000</td>\n",
              "      <td>0.500000</td>\n",
              "    </tr>\n",
              "    <tr>\n",
              "      <th>50%</th>\n",
              "      <td>1080.000000</td>\n",
              "      <td>1.000000</td>\n",
              "    </tr>\n",
              "    <tr>\n",
              "      <th>75%</th>\n",
              "      <td>1350.000000</td>\n",
              "      <td>5.000000</td>\n",
              "    </tr>\n",
              "    <tr>\n",
              "      <th>max</th>\n",
              "      <td>1600.000000</td>\n",
              "      <td>7.000000</td>\n",
              "    </tr>\n",
              "  </tbody>\n",
              "</table>\n",
              "</div>"
            ],
            "text/plain": [
              "         customers      snow\n",
              "count     7.000000  7.000000\n",
              "mean   1135.714286  2.714286\n",
              "std     314.264069  2.927700\n",
              "min     760.000000  0.000000\n",
              "25%     905.000000  0.500000\n",
              "50%    1080.000000  1.000000\n",
              "75%    1350.000000  5.000000\n",
              "max    1600.000000  7.000000"
            ]
          },
          "metadata": {
            "tags": []
          },
          "execution_count": 91
        }
      ]
    },
    {
      "cell_type": "code",
      "metadata": {
        "id": "337sTFet25uc",
        "colab_type": "code",
        "colab": {
          "base_uri": "https://localhost:8080/",
          "height": 51
        },
        "outputId": "fab41f81-dc11-4c9d-c286-62fc7881d5d7"
      },
      "source": [
        "print(np.mean(customers))\n",
        "print(np.mean(snow))\n",
        "###another way of calculating mean"
      ],
      "execution_count": 146,
      "outputs": [
        {
          "output_type": "stream",
          "text": [
            "1135.7142857142858\n",
            "2.7142857142857144\n"
          ],
          "name": "stdout"
        }
      ]
    },
    {
      "cell_type": "code",
      "metadata": {
        "id": "UUpyg-5XgZwy",
        "colab_type": "code",
        "colab": {
          "base_uri": "https://localhost:8080/",
          "height": 51
        },
        "outputId": "4376db33-ed4a-4960-daaf-802489b2c5b2"
      },
      "source": [
        "print(np.var(customers))\n",
        "print(np.var(snow))\n",
        "\n",
        "##calculating the sample variance"
      ],
      "execution_count": 92,
      "outputs": [
        {
          "output_type": "stream",
          "text": [
            "84653.06122448981\n",
            "7.346938775510203\n"
          ],
          "name": "stdout"
        }
      ]
    },
    {
      "cell_type": "code",
      "metadata": {
        "id": "VOoyigEnhc6G",
        "colab_type": "code",
        "colab": {
          "base_uri": "https://localhost:8080/",
          "height": 51
        },
        "outputId": "e2f6afa5-937e-4b53-eefe-6227dce7ecac"
      },
      "source": [
        "print(df['customers'].var(ddof=1))\n",
        "print(df['snow'].var(ddof=1))\n",
        "\n",
        "## I think this is a worse metric, becuase we're taking a statistic of the whole sample, not just a population\n",
        "## There are only a certain number of people at the resort- we are not taking a subset."
      ],
      "execution_count": 93,
      "outputs": [
        {
          "output_type": "stream",
          "text": [
            "98761.90476190478\n",
            "8.571428571428571\n"
          ],
          "name": "stdout"
        }
      ]
    },
    {
      "cell_type": "code",
      "metadata": {
        "id": "68WhqM3w3Krm",
        "colab_type": "code",
        "colab": {
          "base_uri": "https://localhost:8080/",
          "height": 51
        },
        "outputId": "75eb944f-5c18-461c-ad3b-69238af1240b"
      },
      "source": [
        "print(np.std(customers))\n",
        "print(np.std(snow))\n",
        "\n",
        "###another way of calculating the standard deviation"
      ],
      "execution_count": 148,
      "outputs": [
        {
          "output_type": "stream",
          "text": [
            "290.95199127087926\n",
            "2.7105237087157534\n"
          ],
          "name": "stdout"
        }
      ]
    },
    {
      "cell_type": "markdown",
      "metadata": {
        "id": "3ePJtK4VLTLH",
        "colab_type": "text"
      },
      "source": [
        "## 2.2 Are the variances of the number of customers and inches of snow comparable? \n",
        "## Why or why not? "
      ]
    },
    {
      "cell_type": "code",
      "metadata": {
        "id": "LvTtgZ-5Ndw_",
        "colab_type": "code",
        "colab": {}
      },
      "source": [
        "##no, they're not comparable becuase they haven't been normalized.\n",
        "### That's what standard deviation does.\n",
        "\n",
        "##Variance is the average of the squared differences from the mean,\n",
        "###so looking at the variance only will give you a very skewed perception\n",
        "##because a high number squared will be very high."
      ],
      "execution_count": 0,
      "outputs": []
    },
    {
      "cell_type": "markdown",
      "metadata": {
        "id": "ixhZVGxfGVFh",
        "colab_type": "text"
      },
      "source": [
        "## 2.3 Find the variance-covariance matrix for the number of customers and inches of snow at the ski resort. "
      ]
    },
    {
      "cell_type": "code",
      "metadata": {
        "id": "IbglmVaxJjO7",
        "colab_type": "code",
        "colab": {
          "base_uri": "https://localhost:8080/",
          "height": 111
        },
        "outputId": "27ed2389-8796-4429-91cd-94c086f197af"
      },
      "source": [
        "df.cov()"
      ],
      "execution_count": 95,
      "outputs": [
        {
          "output_type": "execute_result",
          "data": {
            "text/html": [
              "<div>\n",
              "<style scoped>\n",
              "    .dataframe tbody tr th:only-of-type {\n",
              "        vertical-align: middle;\n",
              "    }\n",
              "\n",
              "    .dataframe tbody tr th {\n",
              "        vertical-align: top;\n",
              "    }\n",
              "\n",
              "    .dataframe thead th {\n",
              "        text-align: right;\n",
              "    }\n",
              "</style>\n",
              "<table border=\"1\" class=\"dataframe\">\n",
              "  <thead>\n",
              "    <tr style=\"text-align: right;\">\n",
              "      <th></th>\n",
              "      <th>customers</th>\n",
              "      <th>snow</th>\n",
              "    </tr>\n",
              "  </thead>\n",
              "  <tbody>\n",
              "    <tr>\n",
              "      <th>customers</th>\n",
              "      <td>98761.904762</td>\n",
              "      <td>670.238095</td>\n",
              "    </tr>\n",
              "    <tr>\n",
              "      <th>snow</th>\n",
              "      <td>670.238095</td>\n",
              "      <td>8.571429</td>\n",
              "    </tr>\n",
              "  </tbody>\n",
              "</table>\n",
              "</div>"
            ],
            "text/plain": [
              "              customers        snow\n",
              "customers  98761.904762  670.238095\n",
              "snow         670.238095    8.571429"
            ]
          },
          "metadata": {
            "tags": []
          },
          "execution_count": 95
        }
      ]
    },
    {
      "cell_type": "code",
      "metadata": {
        "id": "yPwT9OtNivHA",
        "colab_type": "code",
        "colab": {
          "base_uri": "https://localhost:8080/",
          "height": 111
        },
        "outputId": "400267b3-573d-4596-a494-0bab7415d976"
      },
      "source": [
        "df.corr()\n",
        "\n",
        "##Just standardizing the raw matrix above. It looks like there is a reasonably strong correlation coefficient between snow and customers- more snow, more customers."
      ],
      "execution_count": 96,
      "outputs": [
        {
          "output_type": "execute_result",
          "data": {
            "text/html": [
              "<div>\n",
              "<style scoped>\n",
              "    .dataframe tbody tr th:only-of-type {\n",
              "        vertical-align: middle;\n",
              "    }\n",
              "\n",
              "    .dataframe tbody tr th {\n",
              "        vertical-align: top;\n",
              "    }\n",
              "\n",
              "    .dataframe thead th {\n",
              "        text-align: right;\n",
              "    }\n",
              "</style>\n",
              "<table border=\"1\" class=\"dataframe\">\n",
              "  <thead>\n",
              "    <tr style=\"text-align: right;\">\n",
              "      <th></th>\n",
              "      <th>customers</th>\n",
              "      <th>snow</th>\n",
              "    </tr>\n",
              "  </thead>\n",
              "  <tbody>\n",
              "    <tr>\n",
              "      <th>customers</th>\n",
              "      <td>1.000000</td>\n",
              "      <td>0.728463</td>\n",
              "    </tr>\n",
              "    <tr>\n",
              "      <th>snow</th>\n",
              "      <td>0.728463</td>\n",
              "      <td>1.000000</td>\n",
              "    </tr>\n",
              "  </tbody>\n",
              "</table>\n",
              "</div>"
            ],
            "text/plain": [
              "           customers      snow\n",
              "customers   1.000000  0.728463\n",
              "snow        0.728463  1.000000"
            ]
          },
          "metadata": {
            "tags": []
          },
          "execution_count": 96
        }
      ]
    },
    {
      "cell_type": "markdown",
      "metadata": {
        "id": "6Ks3_TbNC5yJ",
        "colab_type": "text"
      },
      "source": [
        "# PCA"
      ]
    },
    {
      "cell_type": "markdown",
      "metadata": {
        "id": "f6qJAPaaOdzD",
        "colab_type": "text"
      },
      "source": [
        "## 3.1 Standardize the data so that it has a mean of 0 and a standard deviation of 1. \n",
        "\n",
        "We have included some code to get you started so that you don't get stuck on something that isn't standardizing the data or PCA.\n",
        "\n",
        "This might be helpful:\n",
        "\n",
        "<https://scikit-learn.org/stable/modules/generated/sklearn.preprocessing.StandardScaler.html>"
      ]
    },
    {
      "cell_type": "code",
      "metadata": {
        "id": "bogsxfNyJlAw",
        "colab_type": "code",
        "outputId": "045bf23a-0723-4cf7-ee9b-4cac184a232d",
        "colab": {
          "base_uri": "https://localhost:8080/",
          "height": 227
        }
      },
      "source": [
        "# Let me get you some data to start you off.\n",
        "import pandas as pd\n",
        "\n",
        "data = {\"Country\": [\"England\",\"Wales\",\"Scotland\",\"North Ireland\"], \n",
        "        \"Cheese\": [105,103,103,66], \n",
        "        \"Carcass_Meat\": [245,227,242,267], \n",
        "        \"Other_Meat\": [685, 803, 750, 586], \n",
        "        \"Fish\": [147, 160, 122, 93], \n",
        "        \"Fats_and_Oils\": [193, 235, 184, 209], \n",
        "        \"Sugars\": [156, 175, 147, 139], \n",
        "        \"Fresh_Potatoes\": [720, 874, 566, 1033], \n",
        "        \"Fresh_Veg\": [253, 265, 171, 143], \n",
        "        \"Other_Veg\": [488, 570, 418, 355], \n",
        "        \"Processed_Potatoes\": [198, 203, 220, 187], \n",
        "        \"Processed_Veg\": [360, 365, 337, 334], \n",
        "        \"Fresh_Fruit\": [1102, 1137, 957, 674], \n",
        "        \"Cereals\": [1472, 1582, 1462, 1494], \n",
        "        \"Beverages\": [57,73,53,47], \n",
        "        \"Soft_Drinks\": [1374, 1256, 1572, 1506], \n",
        "        \"Alcoholic Drinks\": [375, 475, 458, 135], \n",
        "        \"Confectionery\": [54, 64, 62, 41]}\n",
        "\n",
        "df = pd.DataFrame(data)\n",
        "\n",
        "# Look at the data\n",
        "df.head(10)"
      ],
      "execution_count": 97,
      "outputs": [
        {
          "output_type": "execute_result",
          "data": {
            "text/html": [
              "<div>\n",
              "<style scoped>\n",
              "    .dataframe tbody tr th:only-of-type {\n",
              "        vertical-align: middle;\n",
              "    }\n",
              "\n",
              "    .dataframe tbody tr th {\n",
              "        vertical-align: top;\n",
              "    }\n",
              "\n",
              "    .dataframe thead th {\n",
              "        text-align: right;\n",
              "    }\n",
              "</style>\n",
              "<table border=\"1\" class=\"dataframe\">\n",
              "  <thead>\n",
              "    <tr style=\"text-align: right;\">\n",
              "      <th></th>\n",
              "      <th>Country</th>\n",
              "      <th>Cheese</th>\n",
              "      <th>Carcass_Meat</th>\n",
              "      <th>Other_Meat</th>\n",
              "      <th>Fish</th>\n",
              "      <th>Fats_and_Oils</th>\n",
              "      <th>Sugars</th>\n",
              "      <th>Fresh_Potatoes</th>\n",
              "      <th>Fresh_Veg</th>\n",
              "      <th>Other_Veg</th>\n",
              "      <th>Processed_Potatoes</th>\n",
              "      <th>Processed_Veg</th>\n",
              "      <th>Fresh_Fruit</th>\n",
              "      <th>Cereals</th>\n",
              "      <th>Beverages</th>\n",
              "      <th>Soft_Drinks</th>\n",
              "      <th>Alcoholic Drinks</th>\n",
              "      <th>Confectionery</th>\n",
              "    </tr>\n",
              "  </thead>\n",
              "  <tbody>\n",
              "    <tr>\n",
              "      <th>0</th>\n",
              "      <td>England</td>\n",
              "      <td>105</td>\n",
              "      <td>245</td>\n",
              "      <td>685</td>\n",
              "      <td>147</td>\n",
              "      <td>193</td>\n",
              "      <td>156</td>\n",
              "      <td>720</td>\n",
              "      <td>253</td>\n",
              "      <td>488</td>\n",
              "      <td>198</td>\n",
              "      <td>360</td>\n",
              "      <td>1102</td>\n",
              "      <td>1472</td>\n",
              "      <td>57</td>\n",
              "      <td>1374</td>\n",
              "      <td>375</td>\n",
              "      <td>54</td>\n",
              "    </tr>\n",
              "    <tr>\n",
              "      <th>1</th>\n",
              "      <td>Wales</td>\n",
              "      <td>103</td>\n",
              "      <td>227</td>\n",
              "      <td>803</td>\n",
              "      <td>160</td>\n",
              "      <td>235</td>\n",
              "      <td>175</td>\n",
              "      <td>874</td>\n",
              "      <td>265</td>\n",
              "      <td>570</td>\n",
              "      <td>203</td>\n",
              "      <td>365</td>\n",
              "      <td>1137</td>\n",
              "      <td>1582</td>\n",
              "      <td>73</td>\n",
              "      <td>1256</td>\n",
              "      <td>475</td>\n",
              "      <td>64</td>\n",
              "    </tr>\n",
              "    <tr>\n",
              "      <th>2</th>\n",
              "      <td>Scotland</td>\n",
              "      <td>103</td>\n",
              "      <td>242</td>\n",
              "      <td>750</td>\n",
              "      <td>122</td>\n",
              "      <td>184</td>\n",
              "      <td>147</td>\n",
              "      <td>566</td>\n",
              "      <td>171</td>\n",
              "      <td>418</td>\n",
              "      <td>220</td>\n",
              "      <td>337</td>\n",
              "      <td>957</td>\n",
              "      <td>1462</td>\n",
              "      <td>53</td>\n",
              "      <td>1572</td>\n",
              "      <td>458</td>\n",
              "      <td>62</td>\n",
              "    </tr>\n",
              "    <tr>\n",
              "      <th>3</th>\n",
              "      <td>North Ireland</td>\n",
              "      <td>66</td>\n",
              "      <td>267</td>\n",
              "      <td>586</td>\n",
              "      <td>93</td>\n",
              "      <td>209</td>\n",
              "      <td>139</td>\n",
              "      <td>1033</td>\n",
              "      <td>143</td>\n",
              "      <td>355</td>\n",
              "      <td>187</td>\n",
              "      <td>334</td>\n",
              "      <td>674</td>\n",
              "      <td>1494</td>\n",
              "      <td>47</td>\n",
              "      <td>1506</td>\n",
              "      <td>135</td>\n",
              "      <td>41</td>\n",
              "    </tr>\n",
              "  </tbody>\n",
              "</table>\n",
              "</div>"
            ],
            "text/plain": [
              "         Country  Cheese  ...  Alcoholic Drinks  Confectionery\n",
              "0        England     105  ...               375             54\n",
              "1          Wales     103  ...               475             64\n",
              "2       Scotland     103  ...               458             62\n",
              "3  North Ireland      66  ...               135             41\n",
              "\n",
              "[4 rows x 18 columns]"
            ]
          },
          "metadata": {
            "tags": []
          },
          "execution_count": 97
        }
      ]
    },
    {
      "cell_type": "code",
      "metadata": {
        "id": "2HY91nOpaTTZ",
        "colab_type": "code",
        "colab": {
          "base_uri": "https://localhost:8080/",
          "height": 227
        },
        "outputId": "f4ada8fa-403e-4520-9b77-f5db9942fc3b"
      },
      "source": [
        "##### Your Code Here #####\n",
        "### there are more rows than columns, so this looks like a good candidate dataset for PCA to reduce the dimensionality.\n",
        "df.tail(10)"
      ],
      "execution_count": 98,
      "outputs": [
        {
          "output_type": "execute_result",
          "data": {
            "text/html": [
              "<div>\n",
              "<style scoped>\n",
              "    .dataframe tbody tr th:only-of-type {\n",
              "        vertical-align: middle;\n",
              "    }\n",
              "\n",
              "    .dataframe tbody tr th {\n",
              "        vertical-align: top;\n",
              "    }\n",
              "\n",
              "    .dataframe thead th {\n",
              "        text-align: right;\n",
              "    }\n",
              "</style>\n",
              "<table border=\"1\" class=\"dataframe\">\n",
              "  <thead>\n",
              "    <tr style=\"text-align: right;\">\n",
              "      <th></th>\n",
              "      <th>Country</th>\n",
              "      <th>Cheese</th>\n",
              "      <th>Carcass_Meat</th>\n",
              "      <th>Other_Meat</th>\n",
              "      <th>Fish</th>\n",
              "      <th>Fats_and_Oils</th>\n",
              "      <th>Sugars</th>\n",
              "      <th>Fresh_Potatoes</th>\n",
              "      <th>Fresh_Veg</th>\n",
              "      <th>Other_Veg</th>\n",
              "      <th>Processed_Potatoes</th>\n",
              "      <th>Processed_Veg</th>\n",
              "      <th>Fresh_Fruit</th>\n",
              "      <th>Cereals</th>\n",
              "      <th>Beverages</th>\n",
              "      <th>Soft_Drinks</th>\n",
              "      <th>Alcoholic Drinks</th>\n",
              "      <th>Confectionery</th>\n",
              "    </tr>\n",
              "  </thead>\n",
              "  <tbody>\n",
              "    <tr>\n",
              "      <th>0</th>\n",
              "      <td>England</td>\n",
              "      <td>105</td>\n",
              "      <td>245</td>\n",
              "      <td>685</td>\n",
              "      <td>147</td>\n",
              "      <td>193</td>\n",
              "      <td>156</td>\n",
              "      <td>720</td>\n",
              "      <td>253</td>\n",
              "      <td>488</td>\n",
              "      <td>198</td>\n",
              "      <td>360</td>\n",
              "      <td>1102</td>\n",
              "      <td>1472</td>\n",
              "      <td>57</td>\n",
              "      <td>1374</td>\n",
              "      <td>375</td>\n",
              "      <td>54</td>\n",
              "    </tr>\n",
              "    <tr>\n",
              "      <th>1</th>\n",
              "      <td>Wales</td>\n",
              "      <td>103</td>\n",
              "      <td>227</td>\n",
              "      <td>803</td>\n",
              "      <td>160</td>\n",
              "      <td>235</td>\n",
              "      <td>175</td>\n",
              "      <td>874</td>\n",
              "      <td>265</td>\n",
              "      <td>570</td>\n",
              "      <td>203</td>\n",
              "      <td>365</td>\n",
              "      <td>1137</td>\n",
              "      <td>1582</td>\n",
              "      <td>73</td>\n",
              "      <td>1256</td>\n",
              "      <td>475</td>\n",
              "      <td>64</td>\n",
              "    </tr>\n",
              "    <tr>\n",
              "      <th>2</th>\n",
              "      <td>Scotland</td>\n",
              "      <td>103</td>\n",
              "      <td>242</td>\n",
              "      <td>750</td>\n",
              "      <td>122</td>\n",
              "      <td>184</td>\n",
              "      <td>147</td>\n",
              "      <td>566</td>\n",
              "      <td>171</td>\n",
              "      <td>418</td>\n",
              "      <td>220</td>\n",
              "      <td>337</td>\n",
              "      <td>957</td>\n",
              "      <td>1462</td>\n",
              "      <td>53</td>\n",
              "      <td>1572</td>\n",
              "      <td>458</td>\n",
              "      <td>62</td>\n",
              "    </tr>\n",
              "    <tr>\n",
              "      <th>3</th>\n",
              "      <td>North Ireland</td>\n",
              "      <td>66</td>\n",
              "      <td>267</td>\n",
              "      <td>586</td>\n",
              "      <td>93</td>\n",
              "      <td>209</td>\n",
              "      <td>139</td>\n",
              "      <td>1033</td>\n",
              "      <td>143</td>\n",
              "      <td>355</td>\n",
              "      <td>187</td>\n",
              "      <td>334</td>\n",
              "      <td>674</td>\n",
              "      <td>1494</td>\n",
              "      <td>47</td>\n",
              "      <td>1506</td>\n",
              "      <td>135</td>\n",
              "      <td>41</td>\n",
              "    </tr>\n",
              "  </tbody>\n",
              "</table>\n",
              "</div>"
            ],
            "text/plain": [
              "         Country  Cheese  ...  Alcoholic Drinks  Confectionery\n",
              "0        England     105  ...               375             54\n",
              "1          Wales     103  ...               475             64\n",
              "2       Scotland     103  ...               458             62\n",
              "3  North Ireland      66  ...               135             41\n",
              "\n",
              "[4 rows x 18 columns]"
            ]
          },
          "metadata": {
            "tags": []
          },
          "execution_count": 98
        }
      ]
    },
    {
      "cell_type": "code",
      "metadata": {
        "id": "k7LNgmeRjU3C",
        "colab_type": "code",
        "colab": {
          "base_uri": "https://localhost:8080/",
          "height": 334
        },
        "outputId": "dbfb01e7-f8bc-42b8-eeab-22087e298d34"
      },
      "source": [
        "df.describe()\n",
        "##just getting a sense of what's in the dataset"
      ],
      "execution_count": 99,
      "outputs": [
        {
          "output_type": "execute_result",
          "data": {
            "text/html": [
              "<div>\n",
              "<style scoped>\n",
              "    .dataframe tbody tr th:only-of-type {\n",
              "        vertical-align: middle;\n",
              "    }\n",
              "\n",
              "    .dataframe tbody tr th {\n",
              "        vertical-align: top;\n",
              "    }\n",
              "\n",
              "    .dataframe thead th {\n",
              "        text-align: right;\n",
              "    }\n",
              "</style>\n",
              "<table border=\"1\" class=\"dataframe\">\n",
              "  <thead>\n",
              "    <tr style=\"text-align: right;\">\n",
              "      <th></th>\n",
              "      <th>Cheese</th>\n",
              "      <th>Carcass_Meat</th>\n",
              "      <th>Other_Meat</th>\n",
              "      <th>Fish</th>\n",
              "      <th>Fats_and_Oils</th>\n",
              "      <th>Sugars</th>\n",
              "      <th>Fresh_Potatoes</th>\n",
              "      <th>Fresh_Veg</th>\n",
              "      <th>Other_Veg</th>\n",
              "      <th>Processed_Potatoes</th>\n",
              "      <th>Processed_Veg</th>\n",
              "      <th>Fresh_Fruit</th>\n",
              "      <th>Cereals</th>\n",
              "      <th>Beverages</th>\n",
              "      <th>Soft_Drinks</th>\n",
              "      <th>Alcoholic Drinks</th>\n",
              "      <th>Confectionery</th>\n",
              "    </tr>\n",
              "  </thead>\n",
              "  <tbody>\n",
              "    <tr>\n",
              "      <th>count</th>\n",
              "      <td>4.000000</td>\n",
              "      <td>4.00</td>\n",
              "      <td>4.000000</td>\n",
              "      <td>4.000000</td>\n",
              "      <td>4.000000</td>\n",
              "      <td>4.00000</td>\n",
              "      <td>4.000000</td>\n",
              "      <td>4.000000</td>\n",
              "      <td>4.000000</td>\n",
              "      <td>4.000000</td>\n",
              "      <td>4.000000</td>\n",
              "      <td>4.000000</td>\n",
              "      <td>4.000000</td>\n",
              "      <td>4.000000</td>\n",
              "      <td>4.000000</td>\n",
              "      <td>4.000000</td>\n",
              "      <td>4.000000</td>\n",
              "    </tr>\n",
              "    <tr>\n",
              "      <th>mean</th>\n",
              "      <td>94.250000</td>\n",
              "      <td>245.25</td>\n",
              "      <td>706.000000</td>\n",
              "      <td>130.500000</td>\n",
              "      <td>205.250000</td>\n",
              "      <td>154.25000</td>\n",
              "      <td>798.250000</td>\n",
              "      <td>208.000000</td>\n",
              "      <td>457.750000</td>\n",
              "      <td>202.000000</td>\n",
              "      <td>349.000000</td>\n",
              "      <td>967.500000</td>\n",
              "      <td>1502.500000</td>\n",
              "      <td>57.500000</td>\n",
              "      <td>1427.000000</td>\n",
              "      <td>360.750000</td>\n",
              "      <td>55.250000</td>\n",
              "    </tr>\n",
              "    <tr>\n",
              "      <th>std</th>\n",
              "      <td>18.856917</td>\n",
              "      <td>16.50</td>\n",
              "      <td>93.427334</td>\n",
              "      <td>29.557853</td>\n",
              "      <td>22.366269</td>\n",
              "      <td>15.47848</td>\n",
              "      <td>200.755863</td>\n",
              "      <td>60.188592</td>\n",
              "      <td>92.471167</td>\n",
              "      <td>13.735599</td>\n",
              "      <td>15.769168</td>\n",
              "      <td>210.612599</td>\n",
              "      <td>54.659552</td>\n",
              "      <td>11.120552</td>\n",
              "      <td>140.612944</td>\n",
              "      <td>156.712848</td>\n",
              "      <td>10.436315</td>\n",
              "    </tr>\n",
              "    <tr>\n",
              "      <th>min</th>\n",
              "      <td>66.000000</td>\n",
              "      <td>227.00</td>\n",
              "      <td>586.000000</td>\n",
              "      <td>93.000000</td>\n",
              "      <td>184.000000</td>\n",
              "      <td>139.00000</td>\n",
              "      <td>566.000000</td>\n",
              "      <td>143.000000</td>\n",
              "      <td>355.000000</td>\n",
              "      <td>187.000000</td>\n",
              "      <td>334.000000</td>\n",
              "      <td>674.000000</td>\n",
              "      <td>1462.000000</td>\n",
              "      <td>47.000000</td>\n",
              "      <td>1256.000000</td>\n",
              "      <td>135.000000</td>\n",
              "      <td>41.000000</td>\n",
              "    </tr>\n",
              "    <tr>\n",
              "      <th>25%</th>\n",
              "      <td>93.750000</td>\n",
              "      <td>238.25</td>\n",
              "      <td>660.250000</td>\n",
              "      <td>114.750000</td>\n",
              "      <td>190.750000</td>\n",
              "      <td>145.00000</td>\n",
              "      <td>681.500000</td>\n",
              "      <td>164.000000</td>\n",
              "      <td>402.250000</td>\n",
              "      <td>195.250000</td>\n",
              "      <td>336.250000</td>\n",
              "      <td>886.250000</td>\n",
              "      <td>1469.500000</td>\n",
              "      <td>51.500000</td>\n",
              "      <td>1344.500000</td>\n",
              "      <td>315.000000</td>\n",
              "      <td>50.750000</td>\n",
              "    </tr>\n",
              "    <tr>\n",
              "      <th>50%</th>\n",
              "      <td>103.000000</td>\n",
              "      <td>243.50</td>\n",
              "      <td>717.500000</td>\n",
              "      <td>134.500000</td>\n",
              "      <td>201.000000</td>\n",
              "      <td>151.50000</td>\n",
              "      <td>797.000000</td>\n",
              "      <td>212.000000</td>\n",
              "      <td>453.000000</td>\n",
              "      <td>200.500000</td>\n",
              "      <td>348.500000</td>\n",
              "      <td>1029.500000</td>\n",
              "      <td>1483.000000</td>\n",
              "      <td>55.000000</td>\n",
              "      <td>1440.000000</td>\n",
              "      <td>416.500000</td>\n",
              "      <td>58.000000</td>\n",
              "    </tr>\n",
              "    <tr>\n",
              "      <th>75%</th>\n",
              "      <td>103.500000</td>\n",
              "      <td>250.50</td>\n",
              "      <td>763.250000</td>\n",
              "      <td>150.250000</td>\n",
              "      <td>215.500000</td>\n",
              "      <td>160.75000</td>\n",
              "      <td>913.750000</td>\n",
              "      <td>256.000000</td>\n",
              "      <td>508.500000</td>\n",
              "      <td>207.250000</td>\n",
              "      <td>361.250000</td>\n",
              "      <td>1110.750000</td>\n",
              "      <td>1516.000000</td>\n",
              "      <td>61.000000</td>\n",
              "      <td>1522.500000</td>\n",
              "      <td>462.250000</td>\n",
              "      <td>62.500000</td>\n",
              "    </tr>\n",
              "    <tr>\n",
              "      <th>max</th>\n",
              "      <td>105.000000</td>\n",
              "      <td>267.00</td>\n",
              "      <td>803.000000</td>\n",
              "      <td>160.000000</td>\n",
              "      <td>235.000000</td>\n",
              "      <td>175.00000</td>\n",
              "      <td>1033.000000</td>\n",
              "      <td>265.000000</td>\n",
              "      <td>570.000000</td>\n",
              "      <td>220.000000</td>\n",
              "      <td>365.000000</td>\n",
              "      <td>1137.000000</td>\n",
              "      <td>1582.000000</td>\n",
              "      <td>73.000000</td>\n",
              "      <td>1572.000000</td>\n",
              "      <td>475.000000</td>\n",
              "      <td>64.000000</td>\n",
              "    </tr>\n",
              "  </tbody>\n",
              "</table>\n",
              "</div>"
            ],
            "text/plain": [
              "           Cheese  Carcass_Meat  ...  Alcoholic Drinks  Confectionery\n",
              "count    4.000000          4.00  ...          4.000000       4.000000\n",
              "mean    94.250000        245.25  ...        360.750000      55.250000\n",
              "std     18.856917         16.50  ...        156.712848      10.436315\n",
              "min     66.000000        227.00  ...        135.000000      41.000000\n",
              "25%     93.750000        238.25  ...        315.000000      50.750000\n",
              "50%    103.000000        243.50  ...        416.500000      58.000000\n",
              "75%    103.500000        250.50  ...        462.250000      62.500000\n",
              "max    105.000000        267.00  ...        475.000000      64.000000\n",
              "\n",
              "[8 rows x 17 columns]"
            ]
          },
          "metadata": {
            "tags": []
          },
          "execution_count": 99
        }
      ]
    },
    {
      "cell_type": "code",
      "metadata": {
        "id": "uZ0A_un4kK8L",
        "colab_type": "code",
        "colab": {
          "base_uri": "https://localhost:8080/",
          "height": 210
        },
        "outputId": "f162ad0d-e236-4b35-9425-7e8cca5e6239"
      },
      "source": [
        "###separating the data into X and Y variables step of the PCA process\n",
        "\n",
        "##dropping the \"country\" column becuase it's a string, and I'm separating it out for the PCA later\n",
        "numbers_df = df.drop(['Country'], axis=1)\n",
        "\n",
        "numbers_df.head()"
      ],
      "execution_count": 100,
      "outputs": [
        {
          "output_type": "execute_result",
          "data": {
            "text/html": [
              "<div>\n",
              "<style scoped>\n",
              "    .dataframe tbody tr th:only-of-type {\n",
              "        vertical-align: middle;\n",
              "    }\n",
              "\n",
              "    .dataframe tbody tr th {\n",
              "        vertical-align: top;\n",
              "    }\n",
              "\n",
              "    .dataframe thead th {\n",
              "        text-align: right;\n",
              "    }\n",
              "</style>\n",
              "<table border=\"1\" class=\"dataframe\">\n",
              "  <thead>\n",
              "    <tr style=\"text-align: right;\">\n",
              "      <th></th>\n",
              "      <th>Cheese</th>\n",
              "      <th>Carcass_Meat</th>\n",
              "      <th>Other_Meat</th>\n",
              "      <th>Fish</th>\n",
              "      <th>Fats_and_Oils</th>\n",
              "      <th>Sugars</th>\n",
              "      <th>Fresh_Potatoes</th>\n",
              "      <th>Fresh_Veg</th>\n",
              "      <th>Other_Veg</th>\n",
              "      <th>Processed_Potatoes</th>\n",
              "      <th>Processed_Veg</th>\n",
              "      <th>Fresh_Fruit</th>\n",
              "      <th>Cereals</th>\n",
              "      <th>Beverages</th>\n",
              "      <th>Soft_Drinks</th>\n",
              "      <th>Alcoholic Drinks</th>\n",
              "      <th>Confectionery</th>\n",
              "    </tr>\n",
              "  </thead>\n",
              "  <tbody>\n",
              "    <tr>\n",
              "      <th>0</th>\n",
              "      <td>105</td>\n",
              "      <td>245</td>\n",
              "      <td>685</td>\n",
              "      <td>147</td>\n",
              "      <td>193</td>\n",
              "      <td>156</td>\n",
              "      <td>720</td>\n",
              "      <td>253</td>\n",
              "      <td>488</td>\n",
              "      <td>198</td>\n",
              "      <td>360</td>\n",
              "      <td>1102</td>\n",
              "      <td>1472</td>\n",
              "      <td>57</td>\n",
              "      <td>1374</td>\n",
              "      <td>375</td>\n",
              "      <td>54</td>\n",
              "    </tr>\n",
              "    <tr>\n",
              "      <th>1</th>\n",
              "      <td>103</td>\n",
              "      <td>227</td>\n",
              "      <td>803</td>\n",
              "      <td>160</td>\n",
              "      <td>235</td>\n",
              "      <td>175</td>\n",
              "      <td>874</td>\n",
              "      <td>265</td>\n",
              "      <td>570</td>\n",
              "      <td>203</td>\n",
              "      <td>365</td>\n",
              "      <td>1137</td>\n",
              "      <td>1582</td>\n",
              "      <td>73</td>\n",
              "      <td>1256</td>\n",
              "      <td>475</td>\n",
              "      <td>64</td>\n",
              "    </tr>\n",
              "    <tr>\n",
              "      <th>2</th>\n",
              "      <td>103</td>\n",
              "      <td>242</td>\n",
              "      <td>750</td>\n",
              "      <td>122</td>\n",
              "      <td>184</td>\n",
              "      <td>147</td>\n",
              "      <td>566</td>\n",
              "      <td>171</td>\n",
              "      <td>418</td>\n",
              "      <td>220</td>\n",
              "      <td>337</td>\n",
              "      <td>957</td>\n",
              "      <td>1462</td>\n",
              "      <td>53</td>\n",
              "      <td>1572</td>\n",
              "      <td>458</td>\n",
              "      <td>62</td>\n",
              "    </tr>\n",
              "    <tr>\n",
              "      <th>3</th>\n",
              "      <td>66</td>\n",
              "      <td>267</td>\n",
              "      <td>586</td>\n",
              "      <td>93</td>\n",
              "      <td>209</td>\n",
              "      <td>139</td>\n",
              "      <td>1033</td>\n",
              "      <td>143</td>\n",
              "      <td>355</td>\n",
              "      <td>187</td>\n",
              "      <td>334</td>\n",
              "      <td>674</td>\n",
              "      <td>1494</td>\n",
              "      <td>47</td>\n",
              "      <td>1506</td>\n",
              "      <td>135</td>\n",
              "      <td>41</td>\n",
              "    </tr>\n",
              "  </tbody>\n",
              "</table>\n",
              "</div>"
            ],
            "text/plain": [
              "   Cheese  Carcass_Meat  ...  Alcoholic Drinks  Confectionery\n",
              "0     105           245  ...               375             54\n",
              "1     103           227  ...               475             64\n",
              "2     103           242  ...               458             62\n",
              "3      66           267  ...               135             41\n",
              "\n",
              "[4 rows x 17 columns]"
            ]
          },
          "metadata": {
            "tags": []
          },
          "execution_count": 100
        }
      ]
    },
    {
      "cell_type": "code",
      "metadata": {
        "id": "I8mSNA4YjmxY",
        "colab_type": "code",
        "colab": {
          "base_uri": "https://localhost:8080/",
          "height": 340
        },
        "outputId": "2d536ef5-99e2-4328-f0da-0e2ea976705a"
      },
      "source": [
        "from sklearn.preprocessing import StandardScaler\n",
        "##instantiate the object\n",
        "scaler = StandardScaler()\n",
        "print(scaler.fit(numbers_df))\n",
        "\n",
        "##this is the mean of each attribute. Matches with the .describe() function above\n",
        "print(scaler.mean_)\n",
        "\n",
        "##each column is divided by its standard deviation\n",
        "scaled_df = scaler.transform(numbers_df)\n",
        "\n",
        "scaled_df"
      ],
      "execution_count": 101,
      "outputs": [
        {
          "output_type": "stream",
          "text": [
            "StandardScaler(copy=True, with_mean=True, with_std=True)\n",
            "[  94.25  245.25  706.    130.5   205.25  154.25  798.25  208.    457.75\n",
            "  202.    349.    967.5  1502.5    57.5  1427.    360.75   55.25]\n"
          ],
          "name": "stdout"
        },
        {
          "output_type": "execute_result",
          "data": {
            "text/plain": [
              "array([[ 0.65827466, -0.01749546, -0.25954622,  0.64458535, -0.63242919,\n",
              "         0.13055067, -0.45007561,  0.86331183,  0.37773603, -0.33626508,\n",
              "         0.80547723,  0.73740709, -0.64432226, -0.05191741, -0.43523112,\n",
              "         0.10499766, -0.13830319],\n",
              "       [ 0.53580495, -1.27716878,  1.19885635,  1.15244047,  1.53589947,\n",
              "         1.54795798,  0.43569619,  1.09352832,  1.40168163,  0.08406627,\n",
              "         1.17160324,  0.9292974 ,  1.67946294,  1.60943981, -1.40423624,\n",
              "         0.84182336,  0.96812236],\n",
              "       [ 0.53580495, -0.22744102,  0.54381113, -0.33205912, -1.09707105,\n",
              "        -0.54085279, -1.33584741, -0.70983418, -0.49636387,  1.51319287,\n",
              "        -0.87870243, -0.0575671 , -0.85557546, -0.46725672,  1.19072664,\n",
              "         0.71656299,  0.74683725],\n",
              "       [-1.72988456,  1.52210526, -1.48312126, -1.4649667 ,  0.19360077,\n",
              "        -1.13765587,  1.35022682, -1.24700598, -1.28305378, -1.26099406,\n",
              "        -1.09837804, -1.60913739, -0.17956522, -1.09026568,  0.64874072,\n",
              "        -1.66338402, -1.57665641]])"
            ]
          },
          "metadata": {
            "tags": []
          },
          "execution_count": 101
        }
      ]
    },
    {
      "cell_type": "code",
      "metadata": {
        "id": "Y8KEFJhvnNm9",
        "colab_type": "code",
        "colab": {
          "base_uri": "https://localhost:8080/",
          "height": 289
        },
        "outputId": "a8dfa400-ae15-4249-cf92-3b07803252ae"
      },
      "source": [
        "##just double checking that the .fit_transform function does the same thing\n",
        "\n",
        "scaled_df2 = scaler.fit_transform(numbers_df)\n",
        "\n",
        "scaled_df2\n",
        "\n",
        "## it does"
      ],
      "execution_count": 102,
      "outputs": [
        {
          "output_type": "execute_result",
          "data": {
            "text/plain": [
              "array([[ 0.65827466, -0.01749546, -0.25954622,  0.64458535, -0.63242919,\n",
              "         0.13055067, -0.45007561,  0.86331183,  0.37773603, -0.33626508,\n",
              "         0.80547723,  0.73740709, -0.64432226, -0.05191741, -0.43523112,\n",
              "         0.10499766, -0.13830319],\n",
              "       [ 0.53580495, -1.27716878,  1.19885635,  1.15244047,  1.53589947,\n",
              "         1.54795798,  0.43569619,  1.09352832,  1.40168163,  0.08406627,\n",
              "         1.17160324,  0.9292974 ,  1.67946294,  1.60943981, -1.40423624,\n",
              "         0.84182336,  0.96812236],\n",
              "       [ 0.53580495, -0.22744102,  0.54381113, -0.33205912, -1.09707105,\n",
              "        -0.54085279, -1.33584741, -0.70983418, -0.49636387,  1.51319287,\n",
              "        -0.87870243, -0.0575671 , -0.85557546, -0.46725672,  1.19072664,\n",
              "         0.71656299,  0.74683725],\n",
              "       [-1.72988456,  1.52210526, -1.48312126, -1.4649667 ,  0.19360077,\n",
              "        -1.13765587,  1.35022682, -1.24700598, -1.28305378, -1.26099406,\n",
              "        -1.09837804, -1.60913739, -0.17956522, -1.09026568,  0.64874072,\n",
              "        -1.66338402, -1.57665641]])"
            ]
          },
          "metadata": {
            "tags": []
          },
          "execution_count": 102
        }
      ]
    },
    {
      "cell_type": "markdown",
      "metadata": {
        "id": "5U50KZkdJb_s",
        "colab_type": "text"
      },
      "source": [
        "## 3.2 Perform PCA on the data and graph Principal Component 1 against Principal Component 2. \n",
        "\n",
        "This might be helpful:\n",
        "\n",
        "<https://scikit-learn.org/stable/modules/generated/sklearn.decomposition.PCA.html>"
      ]
    },
    {
      "cell_type": "code",
      "metadata": {
        "id": "RqjwVokgP1fL",
        "colab_type": "code",
        "colab": {
          "base_uri": "https://localhost:8080/",
          "height": 380
        },
        "outputId": "422acde0-35ba-4517-8c51-b0ea503de31c"
      },
      "source": [
        "##### Your Code Here #####\n",
        "\n",
        "from sklearn.decomposition import PCA\n",
        "\n",
        "pca = PCA(2)\n",
        "\n",
        "##calculating the eigenvectors and eigenvalues\n",
        "pca.fit(scaled_df)\n",
        "print(\"Eigenvectors:\", pca.components_)\n",
        "print(\"Eigenvalues:\", pca.explained_variance_)\n",
        "\n",
        "\n",
        "##aligning the data with the axis\n",
        "Beta = pca.transform(scaled_df)\n",
        "\n",
        "#print(\"Projected Data:\", Beta)\n",
        "\n",
        "#putting the results into a dataframe\n",
        "PCA_df = pd.DataFrame(Beta)\n",
        "\n",
        "PCA_df.head(10)"
      ],
      "execution_count": 103,
      "outputs": [
        {
          "output_type": "stream",
          "text": [
            "Eigenvectors: [[-0.24572131  0.28562914 -0.26481055 -0.28611787 -0.12719487 -0.2811012\n",
            "   0.09775901 -0.26544997 -0.28708628 -0.12073819 -0.25767815 -0.27890521\n",
            "  -0.17843996 -0.27747513  0.22771961 -0.25509484 -0.25275834]\n",
            " [ 0.24708041 -0.07716993  0.13610704 -0.01100602 -0.40054501 -0.13684092\n",
            "  -0.45468785 -0.0964863  -0.09282322  0.41036129 -0.1539603   0.08174644\n",
            "  -0.32902948 -0.13773847  0.29323981  0.23231808  0.21105701]]\n",
            "Eigenvalues: [15.48765084  5.63749203]\n",
            "Projected Data: [[-0.95448984  0.32831832]\n",
            " [-4.52095094 -1.73537967]\n",
            " [ 0.48797835  3.23367195]\n",
            " [ 4.98746242 -1.8266106 ]]\n"
          ],
          "name": "stdout"
        },
        {
          "output_type": "execute_result",
          "data": {
            "text/html": [
              "<div>\n",
              "<style scoped>\n",
              "    .dataframe tbody tr th:only-of-type {\n",
              "        vertical-align: middle;\n",
              "    }\n",
              "\n",
              "    .dataframe tbody tr th {\n",
              "        vertical-align: top;\n",
              "    }\n",
              "\n",
              "    .dataframe thead th {\n",
              "        text-align: right;\n",
              "    }\n",
              "</style>\n",
              "<table border=\"1\" class=\"dataframe\">\n",
              "  <thead>\n",
              "    <tr style=\"text-align: right;\">\n",
              "      <th></th>\n",
              "      <th>0</th>\n",
              "      <th>1</th>\n",
              "    </tr>\n",
              "  </thead>\n",
              "  <tbody>\n",
              "    <tr>\n",
              "      <th>0</th>\n",
              "      <td>-0.954490</td>\n",
              "      <td>0.328318</td>\n",
              "    </tr>\n",
              "    <tr>\n",
              "      <th>1</th>\n",
              "      <td>-4.520951</td>\n",
              "      <td>-1.735380</td>\n",
              "    </tr>\n",
              "    <tr>\n",
              "      <th>2</th>\n",
              "      <td>0.487978</td>\n",
              "      <td>3.233672</td>\n",
              "    </tr>\n",
              "    <tr>\n",
              "      <th>3</th>\n",
              "      <td>4.987462</td>\n",
              "      <td>-1.826611</td>\n",
              "    </tr>\n",
              "  </tbody>\n",
              "</table>\n",
              "</div>"
            ],
            "text/plain": [
              "          0         1\n",
              "0 -0.954490  0.328318\n",
              "1 -4.520951 -1.735380\n",
              "2  0.487978  3.233672\n",
              "3  4.987462 -1.826611"
            ]
          },
          "metadata": {
            "tags": []
          },
          "execution_count": 103
        }
      ]
    },
    {
      "cell_type": "code",
      "metadata": {
        "id": "eyIm-lJ7oOBp",
        "colab_type": "code",
        "colab": {
          "base_uri": "https://localhost:8080/",
          "height": 265
        },
        "outputId": "19390c87-1bec-424c-925c-58ae0ab6569a"
      },
      "source": [
        "###plotting the results of the PCA. Looks like there are some big separations between clusters\n",
        "### However, I would be a little leery of reading into this too much, \n",
        "###because there are only twice as many observations as columns (4 rows, 2 columns)--\n",
        "### you should have 5x the number of observations as columns\n",
        "plt.scatter(PCA_df[0], PCA_df[1])\n",
        "plt.show()"
      ],
      "execution_count": 105,
      "outputs": [
        {
          "output_type": "display_data",
          "data": {
            "image/png": "[encoded data removed]",
            "text/plain": [
              "<Figure size 432x288 with 1 Axes>"
            ]
          },
          "metadata": {
            "tags": []
          }
        }
      ]
    },
    {
      "cell_type": "code",
      "metadata": {
        "id": "GKV8SBqt9E7a",
        "colab_type": "code",
        "colab": {}
      },
      "source": [
        "#### creating a scree plot - might run out of time here!\n",
        "\n",
        "###blatantly copied from Ryan's scree plot function\n",
        "\n",
        "\n",
        "def scree_plot(pca):\n",
        "    '''\n",
        "    Creates a scree plot associated with the principal components \n",
        "    \n",
        "    INPUT: pca - the result of instantian of PCA in scikit learn\n",
        "            \n",
        "    OUTPUT:\n",
        "            None\n",
        "    '''\n",
        "    num_components=len(pca.explained_variance_ratio_)\n",
        "    ind = np.arange(num_components)\n",
        "    vals = pca.explained_variance_ratio_\n",
        " \n",
        "    plt.figure(figsize=(18, 6))\n",
        "    ax = plt.subplot(111)\n",
        "    cumvals = np.cumsum(vals)\n",
        "    ax.bar(ind, vals)\n",
        "    ax.plot(ind, cumvals)\n",
        "    for i in range(num_components):\n",
        "        ax.annotate(r\"%s\" % ((str(vals[i]*100)[:3])), (ind[i], vals[i]), va=\"bottom\", ha=\"center\", fontsize=4.5)\n",
        " \n",
        "    ax.xaxis.set_tick_params(width=0)\n",
        "    ax.yaxis.set_tick_params(width=2, length=12)\n",
        " \n",
        "    ax.set_xlabel(\"Principal Component\")\n",
        "    ax.set_ylabel(\"Variance Explained (%)\")\n",
        "    plt.title('Explained Variance Per Principal Component')"
      ],
      "execution_count": 0,
      "outputs": []
    },
    {
      "cell_type": "code",
      "metadata": {
        "id": "yFoILHoepy7s",
        "colab_type": "code",
        "colab": {
          "base_uri": "https://localhost:8080/",
          "height": 424
        },
        "outputId": "62eb0b27-0c07-446e-ffc9-01a28b9c2735"
      },
      "source": [
        "scree_plot(pca)"
      ],
      "execution_count": 166,
      "outputs": [
        {
          "output_type": "display_data",
          "data": {
            "image/png": "[encoded data removed]",
            "text/plain": [
              "<Figure size 1296x432 with 1 Axes>"
            ]
          },
          "metadata": {
            "tags": []
          }
        }
      ]
    },
    {
      "cell_type": "code",
      "metadata": {
        "id": "KGyofsi59eKz",
        "colab_type": "code",
        "colab": {}
      },
      "source": [
        "### Using only two components explains most of the variance (about 70% for the PCA1 and another ~30% for PCA 2)\n",
        "### Therefore I think it's a good choice to reduce the dataset down to only 2 components. "
      ],
      "execution_count": 0,
      "outputs": []
    },
    {
      "cell_type": "markdown",
      "metadata": {
        "id": "m_sdj4vvG_tg",
        "colab_type": "text"
      },
      "source": [
        "## 3.3 What are Eigenvalues and Eigenvectors? -In general, not just in PCA."
      ]
    },
    {
      "cell_type": "markdown",
      "metadata": {
        "id": "QlhJnyR2HUTR",
        "colab_type": "text"
      },
      "source": [
        "An Eigenvector is the vector of the axis along the longest variance in the data. It doesn't change direction as the data is transformed using PCA.\n",
        "\n",
        "An Eigenvalue is a scalar that determines the length of the Eigenvector. It can be stretched and squished depending on the transformation."
      ]
    },
    {
      "cell_type": "markdown",
      "metadata": {
        "id": "z-RzYKR0C6Wg",
        "colab_type": "text"
      },
      "source": [
        "# Clustering"
      ]
    },
    {
      "cell_type": "markdown",
      "metadata": {
        "id": "62efk4plJe54",
        "colab_type": "text"
      },
      "source": [
        "## 4.1 Use K-Means to cluster the following data and then graph your results. \n",
        "\n",
        "We have included some code to get you started so that you don't get stuck on something that isn't standardizing clustering.\n",
        "\n",
        "Prioritize calculating the clusters over graphing them. \n",
        "\n",
        "Scikit-Learn K-Means Documentation:\n",
        "\n",
        "<https://scikit-learn.org/stable/modules/generated/sklearn.cluster.KMeans.html>"
      ]
    },
    {
      "cell_type": "code",
      "metadata": {
        "id": "miK5Aeg-JlzJ",
        "colab_type": "code",
        "outputId": "d102864c-ada3-4336-f906-ac3877854f6f",
        "colab": {
          "base_uri": "https://localhost:8080/",
          "height": 359
        }
      },
      "source": [
        "points = pd.read_csv('https://raw.githubusercontent.com/ryanleeallred/datasets/master/points.csv')\n",
        "points.head(10)"
      ],
      "execution_count": 111,
      "outputs": [
        {
          "output_type": "execute_result",
          "data": {
            "text/html": [
              "<div>\n",
              "<style scoped>\n",
              "    .dataframe tbody tr th:only-of-type {\n",
              "        vertical-align: middle;\n",
              "    }\n",
              "\n",
              "    .dataframe tbody tr th {\n",
              "        vertical-align: top;\n",
              "    }\n",
              "\n",
              "    .dataframe thead th {\n",
              "        text-align: right;\n",
              "    }\n",
              "</style>\n",
              "<table border=\"1\" class=\"dataframe\">\n",
              "  <thead>\n",
              "    <tr style=\"text-align: right;\">\n",
              "      <th></th>\n",
              "      <th>x</th>\n",
              "      <th>y</th>\n",
              "    </tr>\n",
              "  </thead>\n",
              "  <tbody>\n",
              "    <tr>\n",
              "      <th>0</th>\n",
              "      <td>-7.846803</td>\n",
              "      <td>-3.421277</td>\n",
              "    </tr>\n",
              "    <tr>\n",
              "      <th>1</th>\n",
              "      <td>-3.554323</td>\n",
              "      <td>-6.884729</td>\n",
              "    </tr>\n",
              "    <tr>\n",
              "      <th>2</th>\n",
              "      <td>-0.192822</td>\n",
              "      <td>-9.671030</td>\n",
              "    </tr>\n",
              "    <tr>\n",
              "      <th>3</th>\n",
              "      <td>-6.401456</td>\n",
              "      <td>-5.223972</td>\n",
              "    </tr>\n",
              "    <tr>\n",
              "      <th>4</th>\n",
              "      <td>-0.804026</td>\n",
              "      <td>-9.704457</td>\n",
              "    </tr>\n",
              "    <tr>\n",
              "      <th>5</th>\n",
              "      <td>-4.977194</td>\n",
              "      <td>-6.138836</td>\n",
              "    </tr>\n",
              "    <tr>\n",
              "      <th>6</th>\n",
              "      <td>-8.118990</td>\n",
              "      <td>-3.624109</td>\n",
              "    </tr>\n",
              "    <tr>\n",
              "      <th>7</th>\n",
              "      <td>-8.145629</td>\n",
              "      <td>-2.787951</td>\n",
              "    </tr>\n",
              "    <tr>\n",
              "      <th>8</th>\n",
              "      <td>-3.568659</td>\n",
              "      <td>5.401781</td>\n",
              "    </tr>\n",
              "    <tr>\n",
              "      <th>9</th>\n",
              "      <td>-5.711709</td>\n",
              "      <td>-6.802013</td>\n",
              "    </tr>\n",
              "  </tbody>\n",
              "</table>\n",
              "</div>"
            ],
            "text/plain": [
              "          x         y\n",
              "0 -7.846803 -3.421277\n",
              "1 -3.554323 -6.884729\n",
              "2 -0.192822 -9.671030\n",
              "3 -6.401456 -5.223972\n",
              "4 -0.804026 -9.704457\n",
              "5 -4.977194 -6.138836\n",
              "6 -8.118990 -3.624109\n",
              "7 -8.145629 -2.787951\n",
              "8 -3.568659  5.401781\n",
              "9 -5.711709 -6.802013"
            ]
          },
          "metadata": {
            "tags": []
          },
          "execution_count": 111
        }
      ]
    },
    {
      "cell_type": "code",
      "metadata": {
        "id": "yq4_UcK2xRqE",
        "colab_type": "code",
        "colab": {
          "base_uri": "https://localhost:8080/",
          "height": 265
        },
        "outputId": "a7c1dc81-1518-4b9c-acb3-a1f5063f87cd"
      },
      "source": [
        "plt.scatter(points.x, points.y, alpha = .3)\n",
        "plt.show()\n",
        "\n",
        "##just checking out the points. Visually, I'm going to try 4 clusters to start.\n"
      ],
      "execution_count": 118,
      "outputs": [
        {
          "output_type": "display_data",
          "data": {
            "image/png": "[encoded data removed]",
            "text/plain": [
              "<Figure size 432x288 with 1 Axes>"
            ]
          },
          "metadata": {
            "tags": []
          }
        }
      ]
    },
    {
      "cell_type": "code",
      "metadata": {
        "id": "qX0zKKznTzcI",
        "colab_type": "code",
        "colab": {
          "base_uri": "https://localhost:8080/",
          "height": 187
        },
        "outputId": "0abe73fe-4536-49ac-f3c8-b84b7257f68d"
      },
      "source": [
        "##### Your Code Here #####\n",
        "from sklearn.cluster import KMeans\n",
        "kmeans = KMeans(n_clusters=4, random_state=0, verbose = 0).fit(points)\n",
        "print(kmeans.labels_)\n",
        "labels = kmeans.labels_\n",
        "print(kmeans.cluster_centers_)\n"
      ],
      "execution_count": 120,
      "outputs": [
        {
          "output_type": "stream",
          "text": [
            "[0 3 3 0 3 3 0 0 1 3 3 3 3 3 0 3 0 3 3 2 0 2 2 2 3 3 3 1 3 3 3 3 3 2 3 3 3\n",
            " 3 1 3 3 2 1 1 1 3 3 3 0 3 2 0 0 1 2 3 3 1 1 0 2 3 0 1 2 1 2 1 0 1 3 3 3 3\n",
            " 2 2 3 3 1 2 1 3 3 3 1 3 1 3 3 2 1 3 2 3 3 3 3 3 3 3 3 3 0 3 3 2 0 0 0 2 3\n",
            " 2 3 0 3 3 1 1 2 1 2 3 3 0 3 0 3 2 1 0 3 0 3 0 1 1 3 2 0 3 1 3 3 2 3 1 3 1\n",
            " 0 3 3 3 0 2 3 1 3 2 3 0 3 3 1 0 2 2 3 1 3 3 0 3 1 2 3 3 3 3 3 0 3 3 3 3 3\n",
            " 3 0 2 1 3 3 0 2 0 3 1 2 2 3 3]\n",
            "[[-8.36652987 -3.61238083]\n",
            " [-3.59740679  4.13344099]\n",
            " [ 6.24979318  3.84457183]\n",
            " [-2.73359305 -8.20435304]]\n"
          ],
          "name": "stdout"
        }
      ]
    },
    {
      "cell_type": "code",
      "metadata": {
        "id": "jXJ3QPFCu2Bc",
        "colab_type": "code",
        "colab": {
          "base_uri": "https://localhost:8080/",
          "height": 34
        },
        "outputId": "19022621-e0da-41c6-a74e-ee069a933b87"
      },
      "source": [
        "kmeans.n_iter_\n",
        "\n",
        "##it took 5 iterations to get to this point"
      ],
      "execution_count": 121,
      "outputs": [
        {
          "output_type": "execute_result",
          "data": {
            "text/plain": [
              "5"
            ]
          },
          "metadata": {
            "tags": []
          },
          "execution_count": 121
        }
      ]
    },
    {
      "cell_type": "code",
      "metadata": {
        "id": "OoW3JQQwx-gL",
        "colab_type": "code",
        "colab": {
          "base_uri": "https://localhost:8080/",
          "height": 204
        },
        "outputId": "d428ca9b-056b-455b-ac24-7dbbc5e8cada"
      },
      "source": [
        "labels_series = pd.Series(labels)\n",
        "\n",
        "points['clusters'] = labels_series.values\n",
        "points.head()"
      ],
      "execution_count": 126,
      "outputs": [
        {
          "output_type": "execute_result",
          "data": {
            "text/html": [
              "<div>\n",
              "<style scoped>\n",
              "    .dataframe tbody tr th:only-of-type {\n",
              "        vertical-align: middle;\n",
              "    }\n",
              "\n",
              "    .dataframe tbody tr th {\n",
              "        vertical-align: top;\n",
              "    }\n",
              "\n",
              "    .dataframe thead th {\n",
              "        text-align: right;\n",
              "    }\n",
              "</style>\n",
              "<table border=\"1\" class=\"dataframe\">\n",
              "  <thead>\n",
              "    <tr style=\"text-align: right;\">\n",
              "      <th></th>\n",
              "      <th>x</th>\n",
              "      <th>y</th>\n",
              "      <th>clusters</th>\n",
              "    </tr>\n",
              "  </thead>\n",
              "  <tbody>\n",
              "    <tr>\n",
              "      <th>0</th>\n",
              "      <td>-7.846803</td>\n",
              "      <td>-3.421277</td>\n",
              "      <td>0</td>\n",
              "    </tr>\n",
              "    <tr>\n",
              "      <th>1</th>\n",
              "      <td>-3.554323</td>\n",
              "      <td>-6.884729</td>\n",
              "      <td>3</td>\n",
              "    </tr>\n",
              "    <tr>\n",
              "      <th>2</th>\n",
              "      <td>-0.192822</td>\n",
              "      <td>-9.671030</td>\n",
              "      <td>3</td>\n",
              "    </tr>\n",
              "    <tr>\n",
              "      <th>3</th>\n",
              "      <td>-6.401456</td>\n",
              "      <td>-5.223972</td>\n",
              "      <td>0</td>\n",
              "    </tr>\n",
              "    <tr>\n",
              "      <th>4</th>\n",
              "      <td>-0.804026</td>\n",
              "      <td>-9.704457</td>\n",
              "      <td>3</td>\n",
              "    </tr>\n",
              "  </tbody>\n",
              "</table>\n",
              "</div>"
            ],
            "text/plain": [
              "          x         y  clusters\n",
              "0 -7.846803 -3.421277         0\n",
              "1 -3.554323 -6.884729         3\n",
              "2 -0.192822 -9.671030         3\n",
              "3 -6.401456 -5.223972         0\n",
              "4 -0.804026 -9.704457         3"
            ]
          },
          "metadata": {
            "tags": []
          },
          "execution_count": 126
        }
      ]
    },
    {
      "cell_type": "code",
      "metadata": {
        "id": "2I2lAk880fN3",
        "colab_type": "code",
        "colab": {
          "base_uri": "https://localhost:8080/",
          "height": 279
        },
        "outputId": "27bfffba-6322-4ca9-d85a-4c4ccf5b41e7"
      },
      "source": [
        "colors = {0:'green', 1:'yellow', 2:'blue', 3:'red'}\n",
        "\n",
        "fig, ax = plt.subplots()\n",
        "grouped = points.groupby('clusters')\n",
        "for key, group in grouped:\n",
        "    group.plot(ax=ax, kind='scatter', x='x', y='y', label=key, color=colors[key])\n",
        "plt.show() \n",
        "\n",
        "###graphing my clusters by which one they seperated into\n"
      ],
      "execution_count": 141,
      "outputs": [
        {
          "output_type": "display_data",
          "data": {
            "image/png": "[encoded data removed]",
            "text/plain": [
              "<Figure size 432x288 with 1 Axes>"
            ]
          },
          "metadata": {
            "tags": []
          }
        }
      ]
    },
    {
      "cell_type": "code",
      "metadata": {
        "id": "drFEx8FV2EOT",
        "colab_type": "code",
        "colab": {
          "base_uri": "https://localhost:8080/",
          "height": 265
        },
        "outputId": "07c818aa-d053-450d-e8ad-5a7bd354a211"
      },
      "source": [
        "plt.scatter(points.x, points.y, alpha = .3);\n",
        "\n",
        "###comparing agains the original graph. Looks like it seperated out into 4 clusters pretty cleanly!!"
      ],
      "execution_count": 144,
      "outputs": [
        {
          "output_type": "display_data",
          "data": {
            "image/png": "[encoded data removed]",
            "text/plain": [
              "<Figure size 432x288 with 1 Axes>"
            ]
          },
          "metadata": {
            "tags": []
          }
        }
      ]
    },
    {
      "cell_type": "code",
      "metadata": {
        "id": "wUTTx0SnyrqN",
        "colab_type": "code",
        "colab": {
          "base_uri": "https://localhost:8080/",
          "height": 565
        },
        "outputId": "ba4417b9-f129-4240-e89c-43d53416dcd0"
      },
      "source": [
        "# Trying to make an elbow plot before I run out of time\n",
        "\n",
        "K = range(1,11)\n",
        "\n",
        "distortion = []\n",
        "for k in K:\n",
        "  kmeans = KMeans(n_clusters = k)\n",
        "  kmeans.fit(labels)\n",
        "  distortion.append(kmeans.inertia_)\n",
        "\n",
        "print(distortion)\n",
        "\n",
        "###ok I ran out of time!!!"
      ],
      "execution_count": 171,
      "outputs": [
        {
          "output_type": "error",
          "ename": "ValueError",
          "evalue": "ignored",
          "traceback": [
            "\u001b[0;31m---------------------------------------------------------------------------\u001b[0m",
            "\u001b[0;31mValueError\u001b[0m                                Traceback (most recent call last)",
            "\u001b[0;32m<ipython-input-171-7953791e12eb>\u001b[0m in \u001b[0;36m<module>\u001b[0;34m()\u001b[0m\n\u001b[1;32m      5\u001b[0m \u001b[0;32mfor\u001b[0m \u001b[0mk\u001b[0m \u001b[0;32min\u001b[0m \u001b[0mK\u001b[0m\u001b[0;34m:\u001b[0m\u001b[0;34m\u001b[0m\u001b[0;34m\u001b[0m\u001b[0m\n\u001b[1;32m      6\u001b[0m   \u001b[0mkmeans\u001b[0m \u001b[0;34m=\u001b[0m \u001b[0mKMeans\u001b[0m\u001b[0;34m(\u001b[0m\u001b[0mn_clusters\u001b[0m \u001b[0;34m=\u001b[0m \u001b[0mk\u001b[0m\u001b[0;34m)\u001b[0m\u001b[0;34m\u001b[0m\u001b[0;34m\u001b[0m\u001b[0m\n\u001b[0;32m----> 7\u001b[0;31m   \u001b[0mkmeans\u001b[0m\u001b[0;34m.\u001b[0m\u001b[0mfit\u001b[0m\u001b[0;34m(\u001b[0m\u001b[0mlabels\u001b[0m\u001b[0;34m)\u001b[0m\u001b[0;34m\u001b[0m\u001b[0;34m\u001b[0m\u001b[0m\n\u001b[0m\u001b[1;32m      8\u001b[0m   \u001b[0mdistortion\u001b[0m\u001b[0;34m.\u001b[0m\u001b[0mappend\u001b[0m\u001b[0;34m(\u001b[0m\u001b[0mkmeans\u001b[0m\u001b[0;34m.\u001b[0m\u001b[0minertia_\u001b[0m\u001b[0;34m)\u001b[0m\u001b[0;34m\u001b[0m\u001b[0;34m\u001b[0m\u001b[0m\n\u001b[1;32m      9\u001b[0m \u001b[0;34m\u001b[0m\u001b[0m\n",
            "\u001b[0;32m/usr/local/lib/python3.6/dist-packages/sklearn/cluster/_kmeans.py\u001b[0m in \u001b[0;36mfit\u001b[0;34m(self, X, y, sample_weight)\u001b[0m\n\u001b[1;32m    857\u001b[0m         \u001b[0morder\u001b[0m \u001b[0;34m=\u001b[0m \u001b[0;34m\"C\"\u001b[0m \u001b[0;32mif\u001b[0m \u001b[0mself\u001b[0m\u001b[0;34m.\u001b[0m\u001b[0mcopy_x\u001b[0m \u001b[0;32melse\u001b[0m \u001b[0;32mNone\u001b[0m\u001b[0;34m\u001b[0m\u001b[0;34m\u001b[0m\u001b[0m\n\u001b[1;32m    858\u001b[0m         X = check_array(X, accept_sparse='csr', dtype=[np.float64, np.float32],\n\u001b[0;32m--> 859\u001b[0;31m                         order=order, copy=self.copy_x)\n\u001b[0m\u001b[1;32m    860\u001b[0m         \u001b[0;31m# verify that the number of samples given is larger than k\u001b[0m\u001b[0;34m\u001b[0m\u001b[0;34m\u001b[0m\u001b[0;34m\u001b[0m\u001b[0m\n\u001b[1;32m    861\u001b[0m         \u001b[0;32mif\u001b[0m \u001b[0m_num_samples\u001b[0m\u001b[0;34m(\u001b[0m\u001b[0mX\u001b[0m\u001b[0;34m)\u001b[0m \u001b[0;34m<\u001b[0m \u001b[0mself\u001b[0m\u001b[0;34m.\u001b[0m\u001b[0mn_clusters\u001b[0m\u001b[0;34m:\u001b[0m\u001b[0;34m\u001b[0m\u001b[0;34m\u001b[0m\u001b[0m\n",
            "\u001b[0;32m/usr/local/lib/python3.6/dist-packages/sklearn/utils/validation.py\u001b[0m in \u001b[0;36mcheck_array\u001b[0;34m(array, accept_sparse, accept_large_sparse, dtype, order, copy, force_all_finite, ensure_2d, allow_nd, ensure_min_samples, ensure_min_features, warn_on_dtype, estimator)\u001b[0m\n\u001b[1;32m    554\u001b[0m                     \u001b[0;34m\"Reshape your data either using array.reshape(-1, 1) if \"\u001b[0m\u001b[0;34m\u001b[0m\u001b[0;34m\u001b[0m\u001b[0m\n\u001b[1;32m    555\u001b[0m                     \u001b[0;34m\"your data has a single feature or array.reshape(1, -1) \"\u001b[0m\u001b[0;34m\u001b[0m\u001b[0;34m\u001b[0m\u001b[0m\n\u001b[0;32m--> 556\u001b[0;31m                     \"if it contains a single sample.\".format(array))\n\u001b[0m\u001b[1;32m    557\u001b[0m \u001b[0;34m\u001b[0m\u001b[0m\n\u001b[1;32m    558\u001b[0m         \u001b[0;31m# in the future np.flexible dtypes will be handled like object dtypes\u001b[0m\u001b[0;34m\u001b[0m\u001b[0;34m\u001b[0m\u001b[0;34m\u001b[0m\u001b[0m\n",
            "\u001b[0;31mValueError\u001b[0m: Expected 2D array, got 1D array instead:\narray=[0. 3. 3. 0. 3. 3. 0. 0. 1. 3. 3. 3. 3. 3. 0. 3. 0. 3. 3. 2. 0. 2. 2. 2.\n 3. 3. 3. 1. 3. 3. 3. 3. 3. 2. 3. 3. 3. 3. 1. 3. 3. 2. 1. 1. 1. 3. 3. 3.\n 0. 3. 2. 0. 0. 1. 2. 3. 3. 1. 1. 0. 2. 3. 0. 1. 2. 1. 2. 1. 0. 1. 3. 3.\n 3. 3. 2. 2. 3. 3. 1. 2. 1. 3. 3. 3. 1. 3. 1. 3. 3. 2. 1. 3. 2. 3. 3. 3.\n 3. 3. 3. 3. 3. 3. 0. 3. 3. 2. 0. 0. 0. 2. 3. 2. 3. 0. 3. 3. 1. 1. 2. 1.\n 2. 3. 3. 0. 3. 0. 3. 2. 1. 0. 3. 0. 3. 0. 1. 1. 3. 2. 0. 3. 1. 3. 3. 2.\n 3. 1. 3. 1. 0. 3. 3. 3. 0. 2. 3. 1. 3. 2. 3. 0. 3. 3. 1. 0. 2. 2. 3. 1.\n 3. 3. 0. 3. 1. 2. 3. 3. 3. 3. 3. 0. 3. 3. 3. 3. 3. 3. 0. 2. 1. 3. 3. 0.\n 2. 0. 3. 1. 2. 2. 3. 3.].\nReshape your data either using array.reshape(-1, 1) if your data has a single feature or array.reshape(1, -1) if it contains a single sample."
          ]
        }
      ]
    },
    {
      "cell_type": "code",
      "metadata": {
        "id": "wZFaT_pV-nMy",
        "colab_type": "code",
        "colab": {
          "base_uri": "https://localhost:8080/",
          "height": 647
        },
        "outputId": "4e49c3f2-2b8d-4059-9670-5d4c36775ac5"
      },
      "source": [
        "\n",
        "plt.plot(labels, distortion)\n",
        "plt.title(\"Elbow Plot\")\n",
        "\n",
        "plt.show()"
      ],
      "execution_count": 172,
      "outputs": [
        {
          "output_type": "error",
          "ename": "ValueError",
          "evalue": "ignored",
          "traceback": [
            "\u001b[0;31m---------------------------------------------------------------------------\u001b[0m",
            "\u001b[0;31mValueError\u001b[0m                                Traceback (most recent call last)",
            "\u001b[0;32m<ipython-input-172-91b06a7b2a0f>\u001b[0m in \u001b[0;36m<module>\u001b[0;34m()\u001b[0m\n\u001b[1;32m      1\u001b[0m \u001b[0;34m\u001b[0m\u001b[0m\n\u001b[0;32m----> 2\u001b[0;31m \u001b[0mplt\u001b[0m\u001b[0;34m.\u001b[0m\u001b[0mplot\u001b[0m\u001b[0;34m(\u001b[0m\u001b[0mlabels\u001b[0m\u001b[0;34m,\u001b[0m \u001b[0mdistortion\u001b[0m\u001b[0;34m)\u001b[0m\u001b[0;34m\u001b[0m\u001b[0;34m\u001b[0m\u001b[0m\n\u001b[0m\u001b[1;32m      3\u001b[0m \u001b[0mplt\u001b[0m\u001b[0;34m.\u001b[0m\u001b[0mtitle\u001b[0m\u001b[0;34m(\u001b[0m\u001b[0;34m\"Elbow Plot\"\u001b[0m\u001b[0;34m)\u001b[0m\u001b[0;34m\u001b[0m\u001b[0;34m\u001b[0m\u001b[0m\n\u001b[1;32m      4\u001b[0m \u001b[0;34m\u001b[0m\u001b[0m\n\u001b[1;32m      5\u001b[0m \u001b[0mplt\u001b[0m\u001b[0;34m.\u001b[0m\u001b[0mshow\u001b[0m\u001b[0;34m(\u001b[0m\u001b[0;34m)\u001b[0m\u001b[0;34m\u001b[0m\u001b[0;34m\u001b[0m\u001b[0m\n",
            "\u001b[0;32m/usr/local/lib/python3.6/dist-packages/matplotlib/pyplot.py\u001b[0m in \u001b[0;36mplot\u001b[0;34m(scalex, scaley, data, *args, **kwargs)\u001b[0m\n\u001b[1;32m   2787\u001b[0m     return gca().plot(\n\u001b[1;32m   2788\u001b[0m         *args, scalex=scalex, scaley=scaley, **({\"data\": data} if data\n\u001b[0;32m-> 2789\u001b[0;31m         is not None else {}), **kwargs)\n\u001b[0m\u001b[1;32m   2790\u001b[0m \u001b[0;34m\u001b[0m\u001b[0m\n\u001b[1;32m   2791\u001b[0m \u001b[0;34m\u001b[0m\u001b[0m\n",
            "\u001b[0;32m/usr/local/lib/python3.6/dist-packages/matplotlib/axes/_axes.py\u001b[0m in \u001b[0;36mplot\u001b[0;34m(self, scalex, scaley, data, *args, **kwargs)\u001b[0m\n\u001b[1;32m   1663\u001b[0m         \"\"\"\n\u001b[1;32m   1664\u001b[0m         \u001b[0mkwargs\u001b[0m \u001b[0;34m=\u001b[0m \u001b[0mcbook\u001b[0m\u001b[0;34m.\u001b[0m\u001b[0mnormalize_kwargs\u001b[0m\u001b[0;34m(\u001b[0m\u001b[0mkwargs\u001b[0m\u001b[0;34m,\u001b[0m \u001b[0mmlines\u001b[0m\u001b[0;34m.\u001b[0m\u001b[0mLine2D\u001b[0m\u001b[0;34m.\u001b[0m\u001b[0m_alias_map\u001b[0m\u001b[0;34m)\u001b[0m\u001b[0;34m\u001b[0m\u001b[0;34m\u001b[0m\u001b[0m\n\u001b[0;32m-> 1665\u001b[0;31m         \u001b[0mlines\u001b[0m \u001b[0;34m=\u001b[0m \u001b[0;34m[\u001b[0m\u001b[0;34m*\u001b[0m\u001b[0mself\u001b[0m\u001b[0;34m.\u001b[0m\u001b[0m_get_lines\u001b[0m\u001b[0;34m(\u001b[0m\u001b[0;34m*\u001b[0m\u001b[0margs\u001b[0m\u001b[0;34m,\u001b[0m \u001b[0mdata\u001b[0m\u001b[0;34m=\u001b[0m\u001b[0mdata\u001b[0m\u001b[0;34m,\u001b[0m \u001b[0;34m**\u001b[0m\u001b[0mkwargs\u001b[0m\u001b[0;34m)\u001b[0m\u001b[0;34m]\u001b[0m\u001b[0;34m\u001b[0m\u001b[0;34m\u001b[0m\u001b[0m\n\u001b[0m\u001b[1;32m   1666\u001b[0m         \u001b[0;32mfor\u001b[0m \u001b[0mline\u001b[0m \u001b[0;32min\u001b[0m \u001b[0mlines\u001b[0m\u001b[0;34m:\u001b[0m\u001b[0;34m\u001b[0m\u001b[0;34m\u001b[0m\u001b[0m\n\u001b[1;32m   1667\u001b[0m             \u001b[0mself\u001b[0m\u001b[0;34m.\u001b[0m\u001b[0madd_line\u001b[0m\u001b[0;34m(\u001b[0m\u001b[0mline\u001b[0m\u001b[0;34m)\u001b[0m\u001b[0;34m\u001b[0m\u001b[0;34m\u001b[0m\u001b[0m\n",
            "\u001b[0;32m/usr/local/lib/python3.6/dist-packages/matplotlib/axes/_base.py\u001b[0m in \u001b[0;36m__call__\u001b[0;34m(self, *args, **kwargs)\u001b[0m\n\u001b[1;32m    223\u001b[0m                 \u001b[0mthis\u001b[0m \u001b[0;34m+=\u001b[0m \u001b[0margs\u001b[0m\u001b[0;34m[\u001b[0m\u001b[0;36m0\u001b[0m\u001b[0;34m]\u001b[0m\u001b[0;34m,\u001b[0m\u001b[0;34m\u001b[0m\u001b[0;34m\u001b[0m\u001b[0m\n\u001b[1;32m    224\u001b[0m                 \u001b[0margs\u001b[0m \u001b[0;34m=\u001b[0m \u001b[0margs\u001b[0m\u001b[0;34m[\u001b[0m\u001b[0;36m1\u001b[0m\u001b[0;34m:\u001b[0m\u001b[0;34m]\u001b[0m\u001b[0;34m\u001b[0m\u001b[0;34m\u001b[0m\u001b[0m\n\u001b[0;32m--> 225\u001b[0;31m             \u001b[0;32myield\u001b[0m \u001b[0;32mfrom\u001b[0m \u001b[0mself\u001b[0m\u001b[0;34m.\u001b[0m\u001b[0m_plot_args\u001b[0m\u001b[0;34m(\u001b[0m\u001b[0mthis\u001b[0m\u001b[0;34m,\u001b[0m \u001b[0mkwargs\u001b[0m\u001b[0;34m)\u001b[0m\u001b[0;34m\u001b[0m\u001b[0;34m\u001b[0m\u001b[0m\n\u001b[0m\u001b[1;32m    226\u001b[0m \u001b[0;34m\u001b[0m\u001b[0m\n\u001b[1;32m    227\u001b[0m     \u001b[0;32mdef\u001b[0m \u001b[0mget_next_color\u001b[0m\u001b[0;34m(\u001b[0m\u001b[0mself\u001b[0m\u001b[0;34m)\u001b[0m\u001b[0;34m:\u001b[0m\u001b[0;34m\u001b[0m\u001b[0;34m\u001b[0m\u001b[0m\n",
            "\u001b[0;32m/usr/local/lib/python3.6/dist-packages/matplotlib/axes/_base.py\u001b[0m in \u001b[0;36m_plot_args\u001b[0;34m(self, tup, kwargs)\u001b[0m\n\u001b[1;32m    389\u001b[0m             \u001b[0mx\u001b[0m\u001b[0;34m,\u001b[0m \u001b[0my\u001b[0m \u001b[0;34m=\u001b[0m \u001b[0mindex_of\u001b[0m\u001b[0;34m(\u001b[0m\u001b[0mtup\u001b[0m\u001b[0;34m[\u001b[0m\u001b[0;34m-\u001b[0m\u001b[0;36m1\u001b[0m\u001b[0;34m]\u001b[0m\u001b[0;34m)\u001b[0m\u001b[0;34m\u001b[0m\u001b[0;34m\u001b[0m\u001b[0m\n\u001b[1;32m    390\u001b[0m \u001b[0;34m\u001b[0m\u001b[0m\n\u001b[0;32m--> 391\u001b[0;31m         \u001b[0mx\u001b[0m\u001b[0;34m,\u001b[0m \u001b[0my\u001b[0m \u001b[0;34m=\u001b[0m \u001b[0mself\u001b[0m\u001b[0;34m.\u001b[0m\u001b[0m_xy_from_xy\u001b[0m\u001b[0;34m(\u001b[0m\u001b[0mx\u001b[0m\u001b[0;34m,\u001b[0m \u001b[0my\u001b[0m\u001b[0;34m)\u001b[0m\u001b[0;34m\u001b[0m\u001b[0;34m\u001b[0m\u001b[0m\n\u001b[0m\u001b[1;32m    392\u001b[0m \u001b[0;34m\u001b[0m\u001b[0m\n\u001b[1;32m    393\u001b[0m         \u001b[0;32mif\u001b[0m \u001b[0mself\u001b[0m\u001b[0;34m.\u001b[0m\u001b[0mcommand\u001b[0m \u001b[0;34m==\u001b[0m \u001b[0;34m'plot'\u001b[0m\u001b[0;34m:\u001b[0m\u001b[0;34m\u001b[0m\u001b[0;34m\u001b[0m\u001b[0m\n",
            "\u001b[0;32m/usr/local/lib/python3.6/dist-packages/matplotlib/axes/_base.py\u001b[0m in \u001b[0;36m_xy_from_xy\u001b[0;34m(self, x, y)\u001b[0m\n\u001b[1;32m    268\u001b[0m         \u001b[0;32mif\u001b[0m \u001b[0mx\u001b[0m\u001b[0;34m.\u001b[0m\u001b[0mshape\u001b[0m\u001b[0;34m[\u001b[0m\u001b[0;36m0\u001b[0m\u001b[0;34m]\u001b[0m \u001b[0;34m!=\u001b[0m \u001b[0my\u001b[0m\u001b[0;34m.\u001b[0m\u001b[0mshape\u001b[0m\u001b[0;34m[\u001b[0m\u001b[0;36m0\u001b[0m\u001b[0;34m]\u001b[0m\u001b[0;34m:\u001b[0m\u001b[0;34m\u001b[0m\u001b[0;34m\u001b[0m\u001b[0m\n\u001b[1;32m    269\u001b[0m             raise ValueError(\"x and y must have same first dimension, but \"\n\u001b[0;32m--> 270\u001b[0;31m                              \"have shapes {} and {}\".format(x.shape, y.shape))\n\u001b[0m\u001b[1;32m    271\u001b[0m         \u001b[0;32mif\u001b[0m \u001b[0mx\u001b[0m\u001b[0;34m.\u001b[0m\u001b[0mndim\u001b[0m \u001b[0;34m>\u001b[0m \u001b[0;36m2\u001b[0m \u001b[0;32mor\u001b[0m \u001b[0my\u001b[0m\u001b[0;34m.\u001b[0m\u001b[0mndim\u001b[0m \u001b[0;34m>\u001b[0m \u001b[0;36m2\u001b[0m\u001b[0;34m:\u001b[0m\u001b[0;34m\u001b[0m\u001b[0;34m\u001b[0m\u001b[0m\n\u001b[1;32m    272\u001b[0m             raise ValueError(\"x and y can be no greater than 2-D, but have \"\n",
            "\u001b[0;31mValueError\u001b[0m: x and y must have same first dimension, but have shapes (200,) and (0,)"
          ]
        },
        {
          "output_type": "display_data",
          "data": {
            "image/png": "[encoded data removed]",
            "text/plain": [
              "<Figure size 432x288 with 1 Axes>"
            ]
          },
          "metadata": {
            "tags": []
          }
        }
      ]
    },
    {
      "cell_type": "markdown",
      "metadata": {
        "id": "oxxNyhv_FGKB",
        "colab_type": "text"
      },
      "source": [
        "# Stretch Goals (AKA how to get a 3):\n",
        "\n",
        "Complete the stretch goals for each section in order to get a 3 on that section.\n",
        "\n",
        "## Parts 1 & 2 (do all of the following): \n",
        "  - Comment your code well with both markdown and inline comments where appropriate\n",
        "  - Show your work with code and possibly LaTeX \n",
        "  - Justify your answers particularly well to show advanced mastery of this section\n",
        "\n",
        "## Part 3 (do all of the following): \n",
        " - Create a Scree Plot to show the Proportion of Explained Variance of each Principal Component (more than the first two)\n",
        "    - If you want to include a the cumulative proportion of explained variance, you might be interested in this NumPy Function: [numpy.cumsum](https://docs.scipy.org/doc/numpy/reference/generated/numpy.cumsum.html)\n",
        " - Give a top-notch explanation of eigenvalues and eigenvectors. Feel free to any materials, images, code, graphs, LaTeX, etc. to spruce up your answer.\n",
        "\n",
        "## Part 4 (do all of the following):\n",
        "- Justify your choice of k, both visually (scatterplot) and mathematically (elbow plot)."
      ]
    }
  ]
}