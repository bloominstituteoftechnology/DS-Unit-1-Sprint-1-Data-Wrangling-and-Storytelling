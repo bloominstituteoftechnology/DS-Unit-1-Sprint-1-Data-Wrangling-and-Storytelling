{
  "nbformat": 4,
  "nbformat_minor": 0,
  "metadata": {
    "colab": {
      "name": "LS_DS_111_EDA_Assignment_AG _Luca_C_Anescu.ipynb",
      "provenance": [],
      "collapsed_sections": [],
      "include_colab_link": true
    },
    "kernelspec": {
      "display_name": "Python 3",
      "language": "python",
      "name": "python3"
    },
    "language_info": {
      "codemirror_mode": {
        "name": "ipython",
        "version": 3
      },
      "file_extension": ".py",
      "mimetype": "text/x-python",
      "name": "python",
      "nbconvert_exporter": "python",
      "pygments_lexer": "ipython3",
      "version": "3.7.4"
    }
  },
  "cells": [
    {
      "cell_type": "markdown",
      "metadata": {
        "id": "view-in-github",
        "colab_type": "text"
      },
      "source": [
        "<a href=\"https://colab.research.google.com/github/lucaanescu/DS-Unit-1-Sprint-1-Data-Wrangling-and-Storytelling/blob/master/LS_DS_111_EDA_Assignment_AG__Luca_C_Anescu.ipynb\" target=\"_parent\"><img src=\"https://colab.research.google.com/assets/colab-badge.svg\" alt=\"Open In Colab\"/></a>"
      ]
    },
    {
      "cell_type": "markdown",
      "metadata": {
        "id": "mRG2FklJzKto"
      },
      "source": [
        "## Autograded Notebook (Canvas & CodeGrade)\n",
        "\n",
        "This notebook will be automatically graded. It is designed to test your answers and award points for the correct answers. Following the instructions for each Task carefully.\n",
        "\n",
        "### Instructions\n",
        "\n",
        "* **Download this notebook** as you would any other ipynb file\n",
        "* **Upload** to Google Colab or work locally (if you have that set-up)\n",
        "* **Delete `raise NotImplementedError()`**\n",
        "* Write your code in the `# YOUR CODE HERE` space\n",
        "* **Execute** the Test cells that contain `assert` statements - these help you check your work (others contain hidden tests that will be checked when you submit through Canvas)\n",
        "* **Save** your notebook when you are finished\n",
        "* **Download** as a `ipynb` file (if working in Colab)\n",
        "* **Upload** your complete notebook to Canvas (there will be additional instructions in Slack and/or Canvas)"
      ]
    },
    {
      "cell_type": "markdown",
      "metadata": {
        "id": "Ldr0HZ193GKb"
      },
      "source": [
        "# Lambda School Data Science - Unit 1 Sprint 1 Module 1\n",
        "\n",
        "## Exploratory Data Analysis\n",
        "\n",
        "### Module Learning Objectives\n",
        "\n",
        "\n",
        "- Load a CSV dataset from a URL using `pandas.read_csv`\n",
        "- Load a CSV dataset from a local file using `pandas.read_csv\n",
        "- Use basic Pandas functions for Exploratory Data Analysis-EDA\n",
        "- Describe and discriminate between basic data types such as categorical, quantitative, continuous, discrete, ordinal, nominal and identifier\n"
      ]
    },
    {
      "cell_type": "markdown",
      "metadata": {
        "id": "hUv-FipHzKtx"
      },
      "source": [
        "## Autograded Module Projects\n",
        "\n",
        "Welcome to the first Module Project of Unit 1! You will complete a project (sometimes also referred to as an assignment) after the Guided Project for each Module. There will be four Module Projects per Sprint and each project is designed to provide you with an opportunity to practice what you learned in the Canvas Warm-up material and the Guided Project with your Instructors.\n",
        "\n",
        "Throughout Unit 1, the Module Projects and the Sprint Challenges are *autograded*. You will complete your work in a Jupyter/Python notebook (the files that end with `.ipynb`) and then upload your completed notebook to Canvas and submit for grading. This autograded process will check your answers and provide more information about the errors in your notebook. You'll receive a score at the \n",
        "\n",
        "So, let's get started! If you are reading this notebook, then you have the correct autograded version."
      ]
    },
    {
      "cell_type": "markdown",
      "metadata": {
        "id": "2CkckTc6-txA"
      },
      "source": [
        "## Introduction\n",
        "\n",
        "For this module, we learned how to use some of the most common tools for exploring our data. We'll continue to practice our `pandas` skills with a new dataset. \n",
        "\n",
        "## Dataset Description\n",
        "\n",
        "Explore the University of California - Irvine Adult Dataset"
      ]
    },
    {
      "cell_type": "markdown",
      "metadata": {
        "id": "dd7NLO359fux"
      },
      "source": [
        "**Task 1** - Load a dataset via its URL\n",
        "\n",
        "* Create a Python list named `column_headers` with the following items: `'age', 'workclass', 'fnlwgt', 'education', 'education-num', 'marital-status', 'occupation', 'relationship', 'race', 'sex', 'capital-gain', 'capital-loss', 'hours-per-week','native-country', 'income'`\n",
        "* Load the file from the URL provided below using the `column_headers` list you created to name your columns: set the `pd.read_csv()` parameter **names** to `column_headers`"
      ]
    },
    {
      "cell_type": "code",
      "metadata": {
        "deletable": false,
        "id": "0M6HGqld9Azy",
        "nbgrader": {
          "cell_type": "code",
          "checksum": "a3b944c912f2fd93474f840cad050d9c",
          "grade": false,
          "grade_id": "cell-8a338d1f29fadeee",
          "locked": false,
          "schema_version": 3,
          "solution": true,
          "task": false
        },
        "colab": {
          "base_uri": "https://localhost:8080/",
          "height": 204
        },
        "outputId": "e34b750b-3685-4490-dbe0-13e153d930c2"
      },
      "source": [
        "# Task 1\n",
        "import pandas as pd\n",
        "import numpy as np\n",
        "\n",
        "# URL for the dataset\n",
        "data_url = 'https://archive.ics.uci.edu/ml/machine-learning-databases/adult/adult.data'\n",
        "\n",
        "# YOUR CODE HERE\n",
        "\n",
        "column_headers = ['age', 'workclass', 'fnlwgt', 'education', 'education-num', 'marital-status', 'occupation', 'relationship', 'race', 'sex', 'capital-gain', 'capital-loss', 'hours-per-week','native-country', 'income']\n",
        "adult = pd.read_csv(data_url, names = column_headers)\n",
        "\n",
        "\n",
        "# Print out your DataFrame\n",
        "adult.head()"
      ],
      "execution_count": null,
      "outputs": [
        {
          "output_type": "execute_result",
          "data": {
            "text/html": [
              "<div>\n",
              "<style scoped>\n",
              "    .dataframe tbody tr th:only-of-type {\n",
              "        vertical-align: middle;\n",
              "    }\n",
              "\n",
              "    .dataframe tbody tr th {\n",
              "        vertical-align: top;\n",
              "    }\n",
              "\n",
              "    .dataframe thead th {\n",
              "        text-align: right;\n",
              "    }\n",
              "</style>\n",
              "<table border=\"1\" class=\"dataframe\">\n",
              "  <thead>\n",
              "    <tr style=\"text-align: right;\">\n",
              "      <th></th>\n",
              "      <th>age</th>\n",
              "      <th>workclass</th>\n",
              "      <th>fnlwgt</th>\n",
              "      <th>education</th>\n",
              "      <th>education-num</th>\n",
              "      <th>marital-status</th>\n",
              "      <th>occupation</th>\n",
              "      <th>relationship</th>\n",
              "      <th>race</th>\n",
              "      <th>sex</th>\n",
              "      <th>capital-gain</th>\n",
              "      <th>capital-loss</th>\n",
              "      <th>hours-per-week</th>\n",
              "      <th>native-country</th>\n",
              "      <th>income</th>\n",
              "    </tr>\n",
              "  </thead>\n",
              "  <tbody>\n",
              "    <tr>\n",
              "      <th>0</th>\n",
              "      <td>39</td>\n",
              "      <td>State-gov</td>\n",
              "      <td>77516</td>\n",
              "      <td>Bachelors</td>\n",
              "      <td>13</td>\n",
              "      <td>Never-married</td>\n",
              "      <td>Adm-clerical</td>\n",
              "      <td>Not-in-family</td>\n",
              "      <td>White</td>\n",
              "      <td>Male</td>\n",
              "      <td>2174</td>\n",
              "      <td>0</td>\n",
              "      <td>40</td>\n",
              "      <td>United-States</td>\n",
              "      <td>&lt;=50K</td>\n",
              "    </tr>\n",
              "    <tr>\n",
              "      <th>1</th>\n",
              "      <td>50</td>\n",
              "      <td>Self-emp-not-inc</td>\n",
              "      <td>83311</td>\n",
              "      <td>Bachelors</td>\n",
              "      <td>13</td>\n",
              "      <td>Married-civ-spouse</td>\n",
              "      <td>Exec-managerial</td>\n",
              "      <td>Husband</td>\n",
              "      <td>White</td>\n",
              "      <td>Male</td>\n",
              "      <td>0</td>\n",
              "      <td>0</td>\n",
              "      <td>13</td>\n",
              "      <td>United-States</td>\n",
              "      <td>&lt;=50K</td>\n",
              "    </tr>\n",
              "    <tr>\n",
              "      <th>2</th>\n",
              "      <td>38</td>\n",
              "      <td>Private</td>\n",
              "      <td>215646</td>\n",
              "      <td>HS-grad</td>\n",
              "      <td>9</td>\n",
              "      <td>Divorced</td>\n",
              "      <td>Handlers-cleaners</td>\n",
              "      <td>Not-in-family</td>\n",
              "      <td>White</td>\n",
              "      <td>Male</td>\n",
              "      <td>0</td>\n",
              "      <td>0</td>\n",
              "      <td>40</td>\n",
              "      <td>United-States</td>\n",
              "      <td>&lt;=50K</td>\n",
              "    </tr>\n",
              "    <tr>\n",
              "      <th>3</th>\n",
              "      <td>53</td>\n",
              "      <td>Private</td>\n",
              "      <td>234721</td>\n",
              "      <td>11th</td>\n",
              "      <td>7</td>\n",
              "      <td>Married-civ-spouse</td>\n",
              "      <td>Handlers-cleaners</td>\n",
              "      <td>Husband</td>\n",
              "      <td>Black</td>\n",
              "      <td>Male</td>\n",
              "      <td>0</td>\n",
              "      <td>0</td>\n",
              "      <td>40</td>\n",
              "      <td>United-States</td>\n",
              "      <td>&lt;=50K</td>\n",
              "    </tr>\n",
              "    <tr>\n",
              "      <th>4</th>\n",
              "      <td>28</td>\n",
              "      <td>Private</td>\n",
              "      <td>338409</td>\n",
              "      <td>Bachelors</td>\n",
              "      <td>13</td>\n",
              "      <td>Married-civ-spouse</td>\n",
              "      <td>Prof-specialty</td>\n",
              "      <td>Wife</td>\n",
              "      <td>Black</td>\n",
              "      <td>Female</td>\n",
              "      <td>0</td>\n",
              "      <td>0</td>\n",
              "      <td>40</td>\n",
              "      <td>Cuba</td>\n",
              "      <td>&lt;=50K</td>\n",
              "    </tr>\n",
              "  </tbody>\n",
              "</table>\n",
              "</div>"
            ],
            "text/plain": [
              "   age          workclass  fnlwgt  ... hours-per-week  native-country  income\n",
              "0   39          State-gov   77516  ...             40   United-States   <=50K\n",
              "1   50   Self-emp-not-inc   83311  ...             13   United-States   <=50K\n",
              "2   38            Private  215646  ...             40   United-States   <=50K\n",
              "3   53            Private  234721  ...             40   United-States   <=50K\n",
              "4   28            Private  338409  ...             40            Cuba   <=50K\n",
              "\n",
              "[5 rows x 15 columns]"
            ]
          },
          "metadata": {
            "tags": []
          },
          "execution_count": 2
        }
      ]
    },
    {
      "cell_type": "markdown",
      "metadata": {
        "id": "q-icMUAyzKt0"
      },
      "source": [
        "**Task 1 Test**"
      ]
    },
    {
      "cell_type": "code",
      "metadata": {
        "deletable": false,
        "editable": false,
        "nbgrader": {
          "cell_type": "code",
          "checksum": "28ac2e9f1ad52f4fc6a7ca6e281297ad",
          "grade": true,
          "grade_id": "cell-6593303164ade3dd",
          "locked": true,
          "points": 1,
          "schema_version": 3,
          "solution": false,
          "task": false
        },
        "id": "MDJy3ltIzKt0"
      },
      "source": [
        "# Task 1 - Test\n",
        "\n",
        "# These tests are for you to check your work before submitting\n",
        "assert isinstance(column_headers, list), 'Have you created a list of header names?'\n",
        "assert len(column_headers) == 15, 'Did you include the correct number of items in the column_headers list?'\n",
        "assert isinstance(adult, pd.DataFrame), 'Have you created a DataFrame named adult?'\n",
        "\n",
        "# These tests will be completed when you submit your notebook for autograding"
      ],
      "execution_count": null,
      "outputs": []
    },
    {
      "cell_type": "markdown",
      "metadata": {
        "id": "HSsStMHQ5x3B"
      },
      "source": [
        "**Task 2** - Look at the first and last rows of the DataFrame\n",
        "\n",
        "* Assign the first **ten (10)** rows of the `adult` DataFrame to `adult_head`\n",
        "* Assign the last **ten (10)** rows of the `adult` DataFrame to `adult_tail`"
      ]
    },
    {
      "cell_type": "code",
      "metadata": {
        "colab": {
          "base_uri": "https://localhost:8080/"
        },
        "deletable": false,
        "id": "MRxFDeCAXyTI",
        "nbgrader": {
          "cell_type": "code",
          "checksum": "630f5267044f54fe20c15b50b0259932",
          "grade": false,
          "grade_id": "cell-a9fb33ec1c6025a8",
          "locked": false,
          "schema_version": 3,
          "solution": true,
          "task": false
        },
        "outputId": "0adfb5cc-10d2-4350-cf07-12879588aebf"
      },
      "source": [
        "# Task 2\n",
        "\n",
        "# YOUR CODE HERE\n",
        "\n",
        "adult_head = adult.head(10)\n",
        "adult_tail = adult.tail(10)\n",
        "\n",
        "# Optional: print out adult_head and adult_tail\n",
        "\n",
        "print(adult_head)\n",
        "print(adult_tail)"
      ],
      "execution_count": null,
      "outputs": [
        {
          "output_type": "stream",
          "text": [
            "   age          workclass  fnlwgt  ... hours-per-week  native-country  income\n",
            "0   39          State-gov   77516  ...             40   United-States   <=50K\n",
            "1   50   Self-emp-not-inc   83311  ...             13   United-States   <=50K\n",
            "2   38            Private  215646  ...             40   United-States   <=50K\n",
            "3   53            Private  234721  ...             40   United-States   <=50K\n",
            "4   28            Private  338409  ...             40            Cuba   <=50K\n",
            "5   37            Private  284582  ...             40   United-States   <=50K\n",
            "6   49            Private  160187  ...             16         Jamaica   <=50K\n",
            "7   52   Self-emp-not-inc  209642  ...             45   United-States    >50K\n",
            "8   31            Private   45781  ...             50   United-States    >50K\n",
            "9   42            Private  159449  ...             40   United-States    >50K\n",
            "\n",
            "[10 rows x 15 columns]\n",
            "       age      workclass  fnlwgt  ... hours-per-week  native-country  income\n",
            "32551   32        Private   34066  ...             40   United-States   <=50K\n",
            "32552   43        Private   84661  ...             45   United-States   <=50K\n",
            "32553   32        Private  116138  ...             11          Taiwan   <=50K\n",
            "32554   53        Private  321865  ...             40   United-States    >50K\n",
            "32555   22        Private  310152  ...             40   United-States   <=50K\n",
            "32556   27        Private  257302  ...             38   United-States   <=50K\n",
            "32557   40        Private  154374  ...             40   United-States    >50K\n",
            "32558   58        Private  151910  ...             40   United-States   <=50K\n",
            "32559   22        Private  201490  ...             20   United-States   <=50K\n",
            "32560   52   Self-emp-inc  287927  ...             40   United-States    >50K\n",
            "\n",
            "[10 rows x 15 columns]\n"
          ],
          "name": "stdout"
        }
      ]
    },
    {
      "cell_type": "markdown",
      "metadata": {
        "id": "sEFhq-5DzKt1"
      },
      "source": [
        "**Task 2 Test**"
      ]
    },
    {
      "cell_type": "code",
      "metadata": {
        "deletable": false,
        "editable": false,
        "nbgrader": {
          "cell_type": "code",
          "checksum": "853ce4176ae6cde6d695718dc81cbc33",
          "grade": true,
          "grade_id": "cell-db111c4de2805de2",
          "locked": true,
          "points": 1,
          "schema_version": 3,
          "solution": false,
          "task": false
        },
        "id": "J4LxWDkUzKt2"
      },
      "source": [
        "# Task 2 - Test\n",
        "\n",
        "# These tests are for you to check your work before submitting\n",
        "assert isinstance(adult_head, pd.DataFrame), 'Have you created a DataFrame named adult_head?'\n",
        "assert isinstance(adult_tail, pd.DataFrame), 'Have you created a DataFrame named adult_tail?'\n",
        "\n",
        "# These tests will be completed when you submit your notebook for autograding"
      ],
      "execution_count": null,
      "outputs": []
    },
    {
      "cell_type": "markdown",
      "metadata": {
        "id": "oMYl6Og4baK-"
      },
      "source": [
        "**Task 3** - Variable data types\n",
        "\n",
        "For your `adult` DataFrame, determine the data types for the variables.\n",
        "\n",
        "* Count the number of `int64` variable types and assign to `number_int64` (your value should be an integer)\n",
        "* Count the number of `object` variable types and assign to `number_object` (your value should be an integer)\n",
        "\n",
        "There are different ways to find the data types of the columns in a DataFrame. All you need to do for this task is to count the number of each data type and assign to the corresponding variable."
      ]
    },
    {
      "cell_type": "code",
      "metadata": {
        "colab": {
          "base_uri": "https://localhost:8080/"
        },
        "deletable": false,
        "id": "0awSPnZ6bc2L",
        "nbgrader": {
          "cell_type": "code",
          "checksum": "11a54a43888fa697e08bce22de67bed1",
          "grade": false,
          "grade_id": "cell-340508752abebcbf",
          "locked": false,
          "schema_version": 3,
          "solution": true,
          "task": false
        },
        "outputId": "be4f1cc4-32f1-4fd1-b422-07c104f0205b"
      },
      "source": [
        "# Task 3\n",
        "\n",
        "# YOUR CODE HERE\n",
        "\n",
        "adult.dtypes.value_counts()"
      ],
      "execution_count": null,
      "outputs": [
        {
          "output_type": "execute_result",
          "data": {
            "text/plain": [
              "object    9\n",
              "int64     6\n",
              "dtype: int64"
            ]
          },
          "metadata": {
            "tags": []
          },
          "execution_count": 6
        }
      ]
    },
    {
      "cell_type": "markdown",
      "metadata": {
        "id": "dtc8lNm5zKt4"
      },
      "source": [
        "**Task 3 Test**"
      ]
    },
    {
      "cell_type": "code",
      "metadata": {
        "deletable": false,
        "editable": false,
        "nbgrader": {
          "cell_type": "code",
          "checksum": "7a7b195b66ad8a22d3681aa4b2ceccb2",
          "grade": true,
          "grade_id": "cell-05ba0ce5673511d6",
          "locked": true,
          "points": 1,
          "schema_version": 3,
          "solution": false,
          "task": false
        },
        "id": "Du_ohNkTzKt4"
      },
      "source": [
        "# Task 3 - Test\n",
        "\n",
        "# Hidden tests - you will see the results when you submit to Canvas"
      ],
      "execution_count": null,
      "outputs": []
    },
    {
      "cell_type": "markdown",
      "metadata": {
        "id": "H58VKvI8bjS1"
      },
      "source": [
        "**Task 4** - DataFrame dimensions\n",
        "\n",
        "* Find the dimensions of your DataFrame and assign result to the variable `adult_dimension`. Your variable should be a *tuple* and the row dimension should be listed first.\n",
        "\n",
        "Hint: A tuple looks like this: (1, 2) - a tuple is a collection which is ordered and unchangeable. You can use the function `type(your_variable)` to print the variable type.\n",
        "\n",
        "Hint 2: The `shape` method returns a tuple - convenient!"
      ]
    },
    {
      "cell_type": "code",
      "metadata": {
        "colab": {
          "base_uri": "https://localhost:8080/"
        },
        "deletable": false,
        "id": "ket3F7EAbt75",
        "nbgrader": {
          "cell_type": "code",
          "checksum": "9d93962a691a70cbac5f46a4f974bcd7",
          "grade": false,
          "grade_id": "cell-d70ccb5657fd3d7b",
          "locked": false,
          "schema_version": 3,
          "solution": true,
          "task": false
        },
        "outputId": "05d9cd4b-598a-4399-eb49-44779eb504db"
      },
      "source": [
        "# Task 4\n",
        "\n",
        "# YOUR CODE HERE\n",
        "adult_dimension = adult.shape\n",
        "\n",
        "# Print out the shape\n",
        "print(adult_dimension)"
      ],
      "execution_count": null,
      "outputs": [
        {
          "output_type": "stream",
          "text": [
            "(32561, 15)\n"
          ],
          "name": "stdout"
        }
      ]
    },
    {
      "cell_type": "markdown",
      "metadata": {
        "id": "19jvaca5zKt6"
      },
      "source": [
        "**Task 4 Test**"
      ]
    },
    {
      "cell_type": "code",
      "metadata": {
        "deletable": false,
        "editable": false,
        "nbgrader": {
          "cell_type": "code",
          "checksum": "f3efac82e36e9c6bf916132239c75cd2",
          "grade": true,
          "grade_id": "cell-6826bc35a7f56e9d",
          "locked": true,
          "points": 1,
          "schema_version": 3,
          "solution": false,
          "task": false
        },
        "id": "15KyuP0uzKt8"
      },
      "source": [
        "# Task 4 - Test\n",
        "\n",
        "assert isinstance(adult_dimension, tuple), 'Have you created a tuple named adult_dimension?'\n",
        "\n",
        "# Hidden tests - you will see the results when you submit to Canvas"
      ],
      "execution_count": null,
      "outputs": []
    },
    {
      "cell_type": "markdown",
      "metadata": {
        "id": "myXXrct79tMI"
      },
      "source": [
        "**Task 5** - Missing values\n",
        "\n",
        "Are there any missing values in the dataset? Let's check!\n",
        "\n",
        "* Check for missing values using `.isnull().sum()`\n",
        "* Count the number of missing values and assign the value to the variable `adult_missing`. Your variable should be an integer."
      ]
    },
    {
      "cell_type": "code",
      "metadata": {
        "colab": {
          "base_uri": "https://localhost:8080/"
        },
        "deletable": false,
        "id": "fBCiVy7r-WlX",
        "nbgrader": {
          "cell_type": "code",
          "checksum": "17aaa9ca4205aa42e35066d21dc5d1f6",
          "grade": false,
          "grade_id": "cell-061626ea17d6ee51",
          "locked": false,
          "schema_version": 3,
          "solution": true,
          "task": false
        },
        "outputId": "e95fef0b-f901-4d3c-9fdc-e460ad0d8902"
      },
      "source": [
        "# Task 5\n",
        "\n",
        "# YOUR CODE HERE\n",
        "adult_missing = adult.isnull().sum().sum()\n",
        "\n",
        "adult_missing"
      ],
      "execution_count": null,
      "outputs": [
        {
          "output_type": "execute_result",
          "data": {
            "text/plain": [
              "0"
            ]
          },
          "metadata": {
            "tags": []
          },
          "execution_count": 20
        }
      ]
    },
    {
      "cell_type": "markdown",
      "metadata": {
        "id": "Ojmmfs15zKt-"
      },
      "source": [
        "**Task 5 Test**"
      ]
    },
    {
      "cell_type": "code",
      "metadata": {
        "deletable": false,
        "editable": false,
        "nbgrader": {
          "cell_type": "code",
          "checksum": "5620fd488a79367dcab9c416a257e340",
          "grade": true,
          "grade_id": "cell-fa29b69831f8efb7",
          "locked": true,
          "points": 1,
          "schema_version": 3,
          "solution": false,
          "task": false
        },
        "id": "TeoH78OnzKt_"
      },
      "source": [
        "# Task 5 - Test\n",
        "\n",
        "# Hidden tests - you will see the results when you submit to Canvas"
      ],
      "execution_count": null,
      "outputs": []
    },
    {
      "cell_type": "markdown",
      "metadata": {
        "id": "1LCvfKCaCuf_"
      },
      "source": [
        "**Task 6** - Viewing DataFrame statistics\n",
        "\n",
        "Let's look at some of the *summary statistics* of our dataset. We can use the .describe() function in order to see the summary statistics of the numeric columns.\n",
        "\n",
        "Look at the statistics for the `adult` DataFrame and then complete the following two tasks:\n",
        "\n",
        "* Find the value for the mean `age` and assign it to the variable `mean_age` (your value should be a float and defined to two decimal places)\n",
        "* Find the standard deviation (std) for the `hours-per-week` variable and assign it to `std_hpw` (your value should be a float and defined to two decimal places)\n",
        "\n",
        "Are there any values shown that might be a code for missing data?  We'll learn how to change the values in a DataFrame in the next module."
      ]
    },
    {
      "cell_type": "code",
      "metadata": {
        "colab": {
          "base_uri": "https://localhost:8080/"
        },
        "deletable": false,
        "id": "V_9FGaBLBAu5",
        "nbgrader": {
          "cell_type": "code",
          "checksum": "c144574a7792a82c7b358d2c587ae554",
          "grade": false,
          "grade_id": "cell-379c9d6a1454cb65",
          "locked": false,
          "schema_version": 3,
          "solution": true,
          "task": false
        },
        "outputId": "5dd24e16-bd8b-4aee-a39e-d618ff242d50"
      },
      "source": [
        "# Task 6\n",
        "\n",
        "# YOUR CODE HERE\n",
        "adult.describe()\n",
        "\n",
        "mean_age = adult['age'].mean()\n",
        "std_hpw = adult['hours-per-week'].std()\n",
        "\n",
        "print(mean_age, std_hpw)"
      ],
      "execution_count": null,
      "outputs": [
        {
          "output_type": "stream",
          "text": [
            "38.58164675532078 12.34742868173081\n"
          ],
          "name": "stdout"
        }
      ]
    },
    {
      "cell_type": "markdown",
      "metadata": {
        "id": "xHNhQQgLzKuA"
      },
      "source": [
        "**Task 6 Test**"
      ]
    },
    {
      "cell_type": "code",
      "metadata": {
        "deletable": false,
        "editable": false,
        "nbgrader": {
          "cell_type": "code",
          "checksum": "53e593b3d00981adf5f754fe663e8ca1",
          "grade": true,
          "grade_id": "cell-26b21a59dd35ddb1",
          "locked": true,
          "points": 1,
          "schema_version": 3,
          "solution": false,
          "task": false
        },
        "id": "vUJIv0vzzKuA"
      },
      "source": [
        "# Task 6 - Test\n",
        "\n",
        "# Hidden tests - you will see the results when you submit to Canvas"
      ],
      "execution_count": null,
      "outputs": []
    },
    {
      "cell_type": "markdown",
      "metadata": {
        "id": "n_rcgbaqcleU"
      },
      "source": [
        "**Task 7** - Summary statis for non-numeric columns\n",
        "\n",
        "We have some columns in this dataset that are non-numeric or object columns. This is usually a string objects. Let's use the `describe()` function again but include the argument `exclude='number)` to exclude the numeric columns.\n",
        "\n",
        "Using the results of `describe(exclude='number')`, complete the following two tasks:\n",
        "\n",
        "* Find the number of unique `education` values and assign it to `unique_edu` (your value should be an integer)\n",
        "* Find the number of times the most frequent observation for `income` occurs and assign it to `freq_income` (your value should be an integer) *(Note: this is not the income value itself, just how many times it occurs)*"
      ]
    },
    {
      "cell_type": "code",
      "metadata": {
        "deletable": false,
        "nbgrader": {
          "cell_type": "code",
          "checksum": "32f8baa85099a4a3a83d7764f0fc759a",
          "grade": false,
          "grade_id": "cell-11915c7656419ee3",
          "locked": false,
          "schema_version": 3,
          "solution": true,
          "task": false
        },
        "id": "HdIdS4HezKuA"
      },
      "source": [
        "# Task 7\n",
        "\n",
        "# YOUR CODE HERE\n",
        "raise NotImplementedError()"
      ],
      "execution_count": null,
      "outputs": []
    },
    {
      "cell_type": "code",
      "metadata": {
        "id": "YZC4jm17zKuB"
      },
      "source": [
        "adult.describe(exclude='number')\n",
        "adult['income'].value_counts()"
      ],
      "execution_count": null,
      "outputs": []
    },
    {
      "cell_type": "markdown",
      "metadata": {
        "id": "JpQcPnAkzKuB"
      },
      "source": [
        "**Task 7 Test**"
      ]
    },
    {
      "cell_type": "code",
      "metadata": {
        "deletable": false,
        "editable": false,
        "nbgrader": {
          "cell_type": "code",
          "checksum": "0e5f56f06249a66c475f8c46f0b07a7d",
          "grade": true,
          "grade_id": "cell-00ef7970684097e5",
          "locked": true,
          "points": 1,
          "schema_version": 3,
          "solution": false,
          "task": false
        },
        "id": "3sMtdBAQzKuB"
      },
      "source": [
        "# Task 7 - Test\n",
        "\n",
        "# Hidden tests - you will see the results when you submit to Canvas"
      ],
      "execution_count": null,
      "outputs": []
    },
    {
      "cell_type": "markdown",
      "metadata": {
        "id": "o_E_rvFUdP8O"
      },
      "source": [
        "**Task 8** - Finding value counts\n",
        "\n",
        "Let's look more specifically at the `relationship` column and perform a count of the number of observations for each category. We can see how many categories we have by using the `.unique()` method on the column. Then, we can use `.value_counts()` to count the number of observations in each category.\n",
        "\n",
        "* View the unique values in the `relationship` column with `.unique()`\n",
        "* View the number of observations for each value with `.value_counts()`\n",
        "* Find the counts for `Other-relative` and assign to the variable `adult_other_rel`"
      ]
    },
    {
      "cell_type": "code",
      "metadata": {
        "deletable": false,
        "id": "dpz5fUqJdTE_",
        "nbgrader": {
          "cell_type": "code",
          "checksum": "3b0477bc8586b6d06b246aa34c18b907",
          "grade": false,
          "grade_id": "cell-2498319aac6c6e38",
          "locked": false,
          "schema_version": 3,
          "solution": true,
          "task": false
        }
      },
      "source": [
        "# Task 8\n",
        "\n",
        "# YOUR CODE HERE\n",
        "raise NotImplementedError()"
      ],
      "execution_count": null,
      "outputs": []
    },
    {
      "cell_type": "markdown",
      "metadata": {
        "id": "F2T5E7gLzKuC"
      },
      "source": [
        "**Task 8 Test**"
      ]
    },
    {
      "cell_type": "code",
      "metadata": {
        "deletable": false,
        "editable": false,
        "nbgrader": {
          "cell_type": "code",
          "checksum": "b37410acc6d088ec026cdf4a726d72ad",
          "grade": true,
          "grade_id": "cell-ee00a51b05f5cc8e",
          "locked": true,
          "points": 1,
          "schema_version": 3,
          "solution": false,
          "task": false
        },
        "id": "og5I1H87zKuC"
      },
      "source": [
        "# Task 8 - Test\n",
        "\n",
        "# Hidden tests - you will see the results when you submit to Canvas"
      ],
      "execution_count": null,
      "outputs": []
    },
    {
      "cell_type": "markdown",
      "metadata": {
        "id": "ZEs60bkrdnsU"
      },
      "source": [
        "**Task 9** - Create a Series\n",
        "\n",
        "A column of a DataFrame is a pandas Series. Using the `adult` DataFrame, create a Series from the `occupation` column.\n",
        "\n",
        "* Create a Series from the `occupation` column and name it `adult_occup`"
      ]
    },
    {
      "cell_type": "code",
      "metadata": {
        "deletable": false,
        "id": "ydjVZQA3du6l",
        "nbgrader": {
          "cell_type": "code",
          "checksum": "174f626dd82f9e92eb19f1c21e5087fc",
          "grade": false,
          "grade_id": "cell-d1bb196ab00c4bd3",
          "locked": false,
          "schema_version": 3,
          "solution": true,
          "task": false
        }
      },
      "source": [
        "# Task 9\n",
        "\n",
        "# YOUR CODE HERE\n",
        "raise NotImplementedError()"
      ],
      "execution_count": null,
      "outputs": []
    },
    {
      "cell_type": "markdown",
      "metadata": {
        "id": "7vVUuWlezKuD"
      },
      "source": [
        "**Task 9 Test**"
      ]
    },
    {
      "cell_type": "code",
      "metadata": {
        "deletable": false,
        "editable": false,
        "nbgrader": {
          "cell_type": "code",
          "checksum": "e393fefb046b14831077242eff640471",
          "grade": true,
          "grade_id": "cell-e43fc22d03a71561",
          "locked": true,
          "points": 1,
          "schema_version": 3,
          "solution": false,
          "task": false
        },
        "id": "KU8iUe6DzKuD"
      },
      "source": [
        "# Task 9 - Test\n",
        "\n",
        "# These tests are for you to check your work before submitting\n",
        "assert isinstance(adult_occup, pd.Series), 'Have you created the correct Series?'\n",
        "\n",
        "# Hidden tests - you will see the results when you submit to Canvas"
      ],
      "execution_count": null,
      "outputs": []
    },
    {
      "cell_type": "markdown",
      "metadata": {
        "id": "FnOWk3zMOuqz"
      },
      "source": [
        "**Task 10** - Practice with a new dataset\n",
        "\n",
        "Let's use some of what we've learned so far to load in a new dataset and answer some questions. For now, we're going to read in the data from the website where it is stored. But, at the end of this project, you can review the instructions for uploading a file to Google Colab,\n",
        "\n",
        "* Use [this link (right click to copy)](https://raw.githubusercontent.com/LambdaSchool/data-science-practice-datasets/main/unit_1/NASCAR/nascard.csv) as the URL and assign it to the variable `data_url2`\n",
        "* Read in the data into a DataFrame called `nascar`; the CSV already includes a header\n",
        "\n",
        "More information about this data can be found [here](https://github.com/LambdaSchool/data-science-practice-datasets/tree/main/unit_1/NASCAR)."
      ]
    },
    {
      "cell_type": "code",
      "metadata": {
        "deletable": false,
        "nbgrader": {
          "cell_type": "code",
          "checksum": "d240cb09504b19a2e7dd6a5d7a37fbb7",
          "grade": false,
          "grade_id": "cell-04b98cad3de4cab4",
          "locked": false,
          "schema_version": 3,
          "solution": true,
          "task": false
        },
        "id": "jal8gp51zKuD"
      },
      "source": [
        "# Task 10\n",
        "\n",
        "# YOUR CODE HERE\n",
        "raise NotImplementedError()"
      ],
      "execution_count": null,
      "outputs": []
    },
    {
      "cell_type": "markdown",
      "metadata": {
        "id": "K_vSlWTCzKuD"
      },
      "source": [
        "**Task 10 Test**"
      ]
    },
    {
      "cell_type": "code",
      "metadata": {
        "deletable": false,
        "editable": false,
        "nbgrader": {
          "cell_type": "code",
          "checksum": "3315b366b48374f265a3935c4c2d0ff2",
          "grade": true,
          "grade_id": "cell-8b7550f8a360559b",
          "locked": true,
          "points": 1,
          "schema_version": 3,
          "solution": false,
          "task": false
        },
        "id": "s-lWQlfbzKuE"
      },
      "source": [
        "# Task 10 - Test\n",
        "\n",
        "# These tests are for you to check your work before submitting\n",
        "assert isinstance(nascar, pd.DataFrame), 'Have you created the nascar DataFrame?'\n",
        "\n",
        "# Hidden tests - you will see the results when you submit to Canvas"
      ],
      "execution_count": null,
      "outputs": []
    },
    {
      "cell_type": "markdown",
      "metadata": {
        "id": "nPJVPsX1zKuE"
      },
      "source": [
        "**Task 11** - Look at the header\n",
        "\n",
        "Now, let's look at the data. We'll use the `.head()` method to view the first rows of the DataFrame\n",
        "\n",
        "* Assign the output from `.head()` to a DataFrame called `nascar_head` (use the default values of the method)"
      ]
    },
    {
      "cell_type": "code",
      "metadata": {
        "deletable": false,
        "nbgrader": {
          "cell_type": "code",
          "checksum": "339061ac9982b3fd4a659548499dee2b",
          "grade": false,
          "grade_id": "cell-01b2cebe2cab129a",
          "locked": false,
          "schema_version": 3,
          "solution": true,
          "task": false
        },
        "id": "AdHWGYApzKuE"
      },
      "source": [
        "# Task 11\n",
        "\n",
        "# YOUR CODE HERE\n",
        "raise NotImplementedError()"
      ],
      "execution_count": null,
      "outputs": []
    },
    {
      "cell_type": "markdown",
      "metadata": {
        "id": "l0jWiV6OzKuE"
      },
      "source": [
        "**Task 11 Test**"
      ]
    },
    {
      "cell_type": "code",
      "metadata": {
        "deletable": false,
        "editable": false,
        "nbgrader": {
          "cell_type": "code",
          "checksum": "1c8790f27229d0afe3489d42aba50984",
          "grade": true,
          "grade_id": "cell-4abee0d24322116e",
          "locked": true,
          "points": 1,
          "schema_version": 3,
          "solution": false,
          "task": false
        },
        "id": "DTZUpSnDzKuE"
      },
      "source": [
        "# Task 11 - Test\n",
        "\n",
        "# These tests are for you to check your work before submitting\n",
        "assert isinstance(nascar_head, pd.DataFrame), 'Have you created the nascar_head DataFrame?'\n",
        "\n",
        "# Hidden tests - you will see the results when you submit to Canvas"
      ],
      "execution_count": null,
      "outputs": []
    },
    {
      "cell_type": "markdown",
      "metadata": {
        "id": "2U8Jb7BjgVFF"
      },
      "source": [
        "**Task 12** - Dataset description and variable types\n",
        "\n",
        "Using your `nascar` DataFrame, answer the following questions. Remember - you can use methods like `describe()` and `info()` to print out information about the variable types in your DataFrame. Remember, you can use `describe(exclude='number')` to view non-numeric variable types.\n",
        "\n",
        "You can view more information about the data [here](http://users.stat.ufl.edu/~winner/data/nascard.txt).\n",
        "\n",
        "These questions are **not autograded** but are part of the project!\n",
        "\n",
        "Answer the following questions for these variables: `prize`, `carMake`, `driver`\n",
        "\n",
        "*   Is the variable categorical or quantitative?\n",
        "*   If the variable is categorical, determine if it is ordinal, nominal or an identifier variable.\n",
        "*   If the variable is quantitative, determine if it is continuous or discrete."
      ]
    },
    {
      "cell_type": "markdown",
      "metadata": {
        "id": "AeljbLnPzKuF"
      },
      "source": [
        "**Task 12 Short Answer**\n",
        "\n",
        "* `prize`: YOUR ANSWER\n",
        "* `carMake`: YOUR ANSWER\n",
        "* `driver`: YOUR ANSWER"
      ]
    },
    {
      "cell_type": "code",
      "metadata": {
        "deletable": false,
        "nbgrader": {
          "cell_type": "code",
          "checksum": "3a28b698c2a12e92c223dca7870318ff",
          "grade": false,
          "grade_id": "cell-9463f6dcbfde1d7f",
          "locked": false,
          "schema_version": 3,
          "solution": true,
          "task": false
        },
        "id": "C7Fco0nwzKuF"
      },
      "source": [
        "# Task 12\n",
        "\n",
        "# Ignore the YOUR CODE HERE for this cell\n",
        "# YOUR CODE HERE\n",
        "raise NotImplementedError()"
      ],
      "execution_count": null,
      "outputs": []
    },
    {
      "cell_type": "markdown",
      "metadata": {
        "id": "zORlgG7SzKuF"
      },
      "source": [
        "**Extra Practice!!**\n",
        "\n",
        "Now we're going to practice loading a dataset that you have saved on your computer. Since we're working in a notebook on Google Colab, you'll need to upload your file to the notebook runtime in order to read in the data.\n",
        "\n",
        "* Use [this link](https://raw.githubusercontent.com/LambdaSchool/data-science-practice-datasets/main/unit_1/NASCAR/nascard.csv) to download your dataset as a csv file to your computer. \n",
        "* Upload to Google Colab one of two ways:\n",
        "    * using `from google.colab import files` then `uploaded = files.upload()`; read in the file with pd.read_csv(filename)\n",
        "    * using the file upload feature in the left side panel of the Colab notebook; read in the file with pd.read_csv(filename)\n",
        "\n",
        "More information about this data can be found [here](https://github.com/LambdaSchool/data-science-practice-datasets/tree/main/unit_1/NASCAR).\n",
        "\n",
        "**DELETE or COMMENT OUT your Colab code**"
      ]
    },
    {
      "cell_type": "code",
      "metadata": {
        "id": "wE_RCi0AfTrz"
      },
      "source": [
        "# Extra Practice\n",
        "\n",
        "## DELETE OR COMMENT OUT YOUR COLAB CODE BEFORE SUBMITTING THE NOTEBOOK"
      ],
      "execution_count": null,
      "outputs": []
    }
  ]
}