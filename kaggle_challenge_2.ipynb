{
  "nbformat": 4,
  "nbformat_minor": 0,
  "metadata": {
    "colab": {
      "name": "kaggle_challenge_2.ipynb",
      "provenance": [],
      "collapsed_sections": [],
      "include_colab_link": true
    },
    "kernelspec": {
      "display_name": "Python 3",
      "language": "python",
      "name": "python3"
    },
    "language_info": {
      "codemirror_mode": {
        "name": "ipython",
        "version": 3
      },
      "file_extension": ".py",
      "mimetype": "text/x-python",
      "name": "python",
      "nbconvert_exporter": "python",
      "pygments_lexer": "ipython3",
      "version": "3.7.3"
    },
    "widgets": {
      "application/vnd.jupyter.widget-state+json": {
        "1215297d50e54ba4a0a4fb571ee4922e": {
          "model_module": "@jupyter-widgets/controls",
          "model_name": "VBoxModel",
          "state": {
            "_view_name": "VBoxView",
            "_dom_classes": [
              "widget-interact"
            ],
            "_model_name": "VBoxModel",
            "_view_module": "@jupyter-widgets/controls",
            "_model_module_version": "1.5.0",
            "_view_count": null,
            "_view_module_version": "1.5.0",
            "box_style": "",
            "layout": "IPY_MODEL_4a52caf6c4b64045bceebf1e4dc8ec71",
            "_model_module": "@jupyter-widgets/controls",
            "children": [
              "IPY_MODEL_7ad19c9013054128aa6ed2f82f520602",
              "IPY_MODEL_4a4dc27aaef442ef807c8aefd1741766",
              "IPY_MODEL_7e83f624d2384abf8c3c5f33912a0f1d"
            ]
          }
        },
        "4a52caf6c4b64045bceebf1e4dc8ec71": {
          "model_module": "@jupyter-widgets/base",
          "model_name": "LayoutModel",
          "state": {
            "_view_name": "LayoutView",
            "grid_template_rows": null,
            "right": null,
            "justify_content": null,
            "_view_module": "@jupyter-widgets/base",
            "overflow": null,
            "_model_module_version": "1.2.0",
            "_view_count": null,
            "flex_flow": null,
            "width": null,
            "min_width": null,
            "border": null,
            "align_items": null,
            "bottom": null,
            "_model_module": "@jupyter-widgets/base",
            "top": null,
            "grid_column": null,
            "overflow_y": null,
            "overflow_x": null,
            "grid_auto_flow": null,
            "grid_area": null,
            "grid_template_columns": null,
            "flex": null,
            "_model_name": "LayoutModel",
            "justify_items": null,
            "grid_row": null,
            "max_height": null,
            "align_content": null,
            "visibility": null,
            "align_self": null,
            "height": null,
            "min_height": null,
            "padding": null,
            "grid_auto_rows": null,
            "grid_gap": null,
            "max_width": null,
            "order": null,
            "_view_module_version": "1.2.0",
            "grid_template_areas": null,
            "object_position": null,
            "object_fit": null,
            "grid_auto_columns": null,
            "margin": null,
            "display": null,
            "left": null
          }
        },
        "7ad19c9013054128aa6ed2f82f520602": {
          "model_module": "@jupyter-widgets/controls",
          "model_name": "IntSliderModel",
          "state": {
            "_view_name": "IntSliderView",
            "style": "IPY_MODEL_ef1feb8557014d9bb3219103dc8586bc",
            "_dom_classes": [],
            "description": "max_depth",
            "step": 1,
            "_model_name": "IntSliderModel",
            "orientation": "horizontal",
            "max": 6,
            "_view_module": "@jupyter-widgets/controls",
            "_model_module_version": "1.5.0",
            "value": 1,
            "_view_count": null,
            "disabled": false,
            "_view_module_version": "1.5.0",
            "min": 1,
            "continuous_update": true,
            "readout_format": "d",
            "description_tooltip": null,
            "readout": true,
            "_model_module": "@jupyter-widgets/controls",
            "layout": "IPY_MODEL_1e7e763ea7c84957b2448fc9e00217a8"
          }
        },
        "4a4dc27aaef442ef807c8aefd1741766": {
          "model_module": "@jupyter-widgets/controls",
          "model_name": "IntSliderModel",
          "state": {
            "_view_name": "IntSliderView",
            "style": "IPY_MODEL_4fa512c5520e41ae9d631f735273d3f3",
            "_dom_classes": [],
            "description": "n_estimators",
            "step": 10,
            "_model_name": "IntSliderModel",
            "orientation": "horizontal",
            "max": 40,
            "_view_module": "@jupyter-widgets/controls",
            "_model_module_version": "1.5.0",
            "value": 10,
            "_view_count": null,
            "disabled": false,
            "_view_module_version": "1.5.0",
            "min": 10,
            "continuous_update": true,
            "readout_format": "d",
            "description_tooltip": null,
            "readout": true,
            "_model_module": "@jupyter-widgets/controls",
            "layout": "IPY_MODEL_5b05329390f54edd997d0f8138320238"
          }
        },
        "7e83f624d2384abf8c3c5f33912a0f1d": {
          "model_module": "@jupyter-widgets/output",
          "model_name": "OutputModel",
          "state": {
            "_view_name": "OutputView",
            "msg_id": "",
            "_dom_classes": [],
            "_model_name": "OutputModel",
            "outputs": [
              {
                "output_type": "display_data",
                "metadata": {
                  "tags": []
                },
                "image/png": "iVBORw0KGgoAAAANSUhEUgAAAVsAAAEFCAYAAABNS0RqAAAABHNCSVQICAgIfAhkiAAAAAlwSFlz\nAAALEgAACxIB0t1+/AAAADh0RVh0U29mdHdhcmUAbWF0cGxvdGxpYiB2ZXJzaW9uMy4xLjIsIGh0\ndHA6Ly9tYXRwbG90bGliLm9yZy8li6FKAAAXVklEQVR4nO3de9gdZX3u8e+dcKwJSRXqIQESIYYG\ndqWIwUM9bKU22ELaShWQqhSIp3hZsVQsXuxsurW1KPaqO6BRuCylFsS2GnfDweIBteUQDyBJCY0x\nQOIBEAggasj73vuPeV5YeX3zrjXJWrMWi/vDNVfWPDPrmWdW5MfP3zwzI9tERERvTen3ACIingwS\nbCMiGpBgGxHRgATbiIgGJNhGRDQgwTYiogEJtk9wkq6U9MYO9ntY0rObGFNTJB0taWMP+/+kpL9o\nWV8q6e7yW84ofx7Qq+PHcFHm2TajBIWnA9uAEWAtcAmwwvZoH4fWMUlrgAPL6t7Ao1TnA/AB2x/o\nwTFfACwDXkj1u/03sNz2JZKOBj5pe063jzvBOPYCHgCeZ3tNr48XwyeZbbOOtT2dKmD9NfAe4KL+\nDqlztg+1Pc32NOBrwNKx9YkCraTdduV4kn4L+HfgWuDZwNOApcCrd6XfnfQMYM9uBNpd/V3iiSnB\ntg9sb7G9Engd8EZJh0naU9KHJN0p6ceSPiZp77HvSFos6TuSHpT0PUmLSvtXJJ1WPh8s6auStki6\nV9LlLd+3pIPL5xmSLpF0j6Q7JL1P0pSy7U2Svl7Gcr+k70s6ppPzknSapOsk/Z2k+4D3tbTfVvq7\nUtL+Ld9ZIOnfJd1X9nlNS5cfAi6yfZ7tn7hyk+0TdnD890naIOkhSWskHdey7TllbGO/zadL+5Qy\n3rvLtlskLSjbLpW0TNKvA2tK28OSrpG0W/lN55T2vSSdL+mu8vd3QcmGHyt3SPoLST8CPtHJ7xnD\nJcG2j2zfCGwCXkKV6T4HOBw4GJgFnAMgaSFVyeFMYCbwUmDjBF3+JXAN8KvAbOCjOzj0R4EZVNni\ny4A3AKe0bD8KWAfsC/wNcJEkdXhaLwL+C9gP+GAJnmcCi0vbDcBYoJsGfLGc268BrwdWSJovaTqw\nEPhsh8cFuB14cTm39wOflvT0su39wL/x+G+zvLQfA7wAmFe2nQDc19qp7f8Cnls+T7P9qgmOfR4w\nF/iN0tcc4OyW7bOBacABwNtqnFMMiQTb/vsB8FRgCfAu2/fZfgj4ANW/+ACnAhfb/qLtUdubbd82\nQV+PUpUonmX757a/Pn4HSVNLv++1/ZDtjcCHgT9u2e0O25+wPQL8PfBMqnpzJ+60faHtEds/A95C\nVc9dZ3sb8H+AhZJmUQXg221fYnub7W8CnwOOL7+JgB92eFxsf8b2D8tv9Gmq/yAd2fLbzAGeWX6b\nb7S07wMcUvpYa/tHnR4TquwYOB34U9v3234Q+Cse//uDqra9zPbW8rvEk0yCbf/NAnYDfgX4pqQH\nJD0AXEWVCQLsD3yvg77+nCpA3Vj+b/SfTLDPvsDuwB0tbXeUcYx5LNjYfqR8nNbB8QHuGrd+ILC8\n5bzuBUapMr0DgRePbSvbX0cV3O8DXD53pJRAbm7p6xCq8wV4N9V5r5b0XZUZHLavAT4GXAiMlW+m\nd3rM4hnAnkDrsf8fVbY+5se2t9bsN4ZIgm0fSXo+VZD7HPAz4FDbM8syo1yIgiqAHdSuP9s/sn26\n7WcBbwYuGKvTtriXxzPgMQcAm3fxdB4bxrj1u4BTW85rpu29bd9Qtl07bts020tLdn8j8JrxB5iI\nqmltFwJvBZ5meyZwG9V/fCgZ72m2nwm8napcMbds+1vbRwCHAQuAM2qe84+BrcD8cX9/Myb5XeJJ\nJsG2DyTtI+n3gMuAS23fTHXR5COSfq3sM0vS75SvXAScIumV5YLOLEmHTNDvH0maXVbvp/oXfLtp\nZaU08Bng/ZKmSzqQKrhc2oNThSprPLtcZELSTEnHl20rgUMlnSRp97IslDS/bD8TOE3SGZKeWr7/\nm2MXt8aZRnW+91S76XRKaaB877WldAHVFC4DI+V4C1XNEPgpVdCsNRWv/KafBP5W0n6qzJY0UW03\nnqQSbJv1BUkPUWV0ZwPn8/iFqfcA64HrJT1INeVpPjx2Ie0U4CPAFuCrbJ+Zjnk+cIOkh6kC2Ttt\nb5hgv3dQBZYNwNepLlhd3I0THM/2FVTneUU5r1uA3ynbtpTPJ1PVZn9EVevcs2z/GnB02WdjmeFw\nIbBqguPcQnXh78bS13yqi3FjjgJukvRT4F+At9u+k+qC40VUAXhj+e75O3Gq76Yqx9xI9Xd0DdWF\nsgggNzVERDQimW1ERAMSbCMixpF0cbnR5dYdbFe5GWZ9uRHmiHZ9JthGRPyyTwGLJtl+DFVNfh7V\nHPkL23WYYBsRMY7t6xh3J+E4i4FLyi3k1wMzJU06J7xnD8T4qwNPzpW3iOjIe++4tNPbwXfo0Xs3\ndBxz9tjvoDdTZaRjVtheUeNws9j+Bp5NpW2Hdzzm6UMR8aRTAmud4LrLEmwjYjiMjjR5tM1Ut9GP\nmU2buzBTs42I4TCyrfNl160E3lBmJbwA2GJ70ocmJbONiKHQzReeSPon4OXAvpI2Af+L6kFG2P4Y\n1V2Mr6a66/MRtn9E6YQSbCNiOIx2L9jaPrHNdlM90KhjCbYRMRwG/FV+CbYRMRyavUBWW4JtRAyH\nZLYREb3n7swy6JkE24gYDl28QNYLCbYRMRxSRoiIaEAukEVENCCZbUREA3KBLCKiAblAFhHRe9Ub\n5QdXgm1EDIfUbCMiGpAyQkREA5LZRkQ0YOTRfo9gUgm2ETEcUkaIiGhAyggREQ1IZhsR0YAE24iI\n3nMukEVENCA124iIBqSMEBHRgGS2ERENSGYbEdGAZLYREQ3YloeHR0T0XjLbiIgGpGYbEdGAZLYR\nEQ1IZhsR0YBkthERDchshIiIBtj9HsGkEmwjYjikZhsR0YABD7ZT+j2AiIiu8GjnSxuSFklaJ2m9\npLMm2H6ApC9L+rakWyS9ul2fyWwjYjiMjHSlG0lTgeXAbwObgJskrbS9tmW39wGfsX2hpAXAKmDO\nZP0m2EbEcOheGWEhsN72BgBJlwGLgdZga2Cf8nkG8IN2nSbYRsRwqBFsJS0BlrQ0rbC9onyeBdzV\nsm0TcNS4LpYB10h6B/AU4Oh2x0ywjYjhUOOmhhJYV7TdccdOBD5l+8OSXgj8g6TD7B0PIsE2IoaC\nR7s2z3YzsH/L+uzS1upUYBGA7f+UtBewL3D3jjrNbISIGA6jo50vk7sJmCdprqQ9gBOAleP2uRN4\nJYCkXwf2Au6ZrNNkthExHLo0G8H2NklLgauBqcDFttdIOhdYbXsl8G7gE5LeRXWx7E325LewJdhG\nxHDo4k0NtldRTedqbTun5fNa4MV1+kywjYjhMOB3kCXYRsRwyINoIiIakMw2IqIB3Zv61RMJthEx\nHLo0G6FXEmwjYig4ZYSIiAakjBAR0YC88DEiogHJbCMiGrAtF8giInovZYSIiAakjBAR0XuZ+hUR\n0YRkthERDUiwjYhoQG7XjYjovS6+g6wnEmwjYjgk2EZENCCzESIiGpDMNiKiAQm2ERG955GUESIi\nei+ZbURE72XqV0REExJsIyIaMNgl2wTbiBgO3jbY0TbBNiKGw2DH2gTbiBgOuUAWEdGEYcpsJe0N\nHGB7XY/GExGxUwY9s53S6Y6SjgW+A1xV1g+XtLJXA4uIqGW0xtIHHQdbYBmwEHgAwPZ3gLk9GFNE\nRG3e1vnSD3XKCI/a3iKptW2w8/aIeNIY8DeZ18ps10g6CZgqaZ6kjwL/0aNxRUTU08UygqRFktZJ\nWi/prB3s81pJayWtkfTpdn3WCbbvAA4FfgH8E/Ag8Kc1vh8R0TMe7XyZjKSpwHLgGGABcKKkBeP2\nmQe8F3ix7UPpIBZ2XEaw/QhwdlkiIgZKF8sIC4H1tjcASLoMWAysbdnndGC57fsBbN/drtO2wVbS\nF5ikNmv7uHZ9RET0mkfUfqdC0hJgSUvTCtsryudZwF0t2zYBR43r4jmln28AU4Fltq+a7JidZLYf\nKn/+IfAM4NKyfiLw4w6+HxHRc3Uy2xJYV7Tdccd2A+YBLwdmA9dJ+h+2H5jsC+0G9VUASR+2fWTL\npi9IWr0Lg42I6BqPdp7ZtrEZ2L9lfXZpa7UJuMH2o8D3Jd1OFXxv2lGndS6QPUXSs8dWJM0FnlLj\n+xERPdOtC2RUAXOepLmS9gBOAMbfwPU5qqwWSftSlRU2TNZpnXm27wK+ImkDIOBAtq95RET0jd2d\nzNb2NklLgaup6rEX214j6Vxgte2VZdurJK0FRoAzbf9ksn7rzEa4qkx3OKQ03Wb7FztzMhER3dbN\nmxpsrwJWjWs7p+WzgTPK0pGOg62k3YE3Ay8tTV+R9PFSs4iI6KvRGrMR+qFOGeFCYHfggrL+x6Xt\ntG4PKiKiri5eIOuJOsH2+baf27L+JUk3d3tAERE7Y9CDbZ3ZCCOSDhpbKTMTRro/pIiI+uzOl36o\nk9meCXx53GyEU3oyqoiImgY9s60zG+HaMhthfmlal9kIETEoujX1q1fqvKnh7cDetm+xfQvwK5Le\n1ruhRUR0bmREHS/9UKdme3rrfb/laTend39IERH12ep46Yc6NdupklQm844983GP3gwrIqKeoanZ\nUr3o8XJJHy/rby5tERF9169ZBp2qE2zfQ/UshLeW9S8Cn+z6iCIidsLQZLa2R4GPleWXSPpn26/p\n1sAiIuoYGa1zCap5dTLbdp7dfpeIiN4YpjJCOwN+qhExzEYHfJ5tN4NtRETfDPpNDd0MtoN9phEx\n1Aa9jFDnDrJ3tml7T1dGFBGxE0atjpd+qHP57o0TtL1p7IPta3Z5NBERO2lkdErHSz+0LSNIOhE4\nCZgrqfWlZ9OB+3o1sIiIOga8itBRzfY/gB8C+wIfbml/CLilF4OKiKjrCT8bwfYdwB2SXg/8wPbP\nASTtTfU+9Y09HWFERAcGfTZCneLFZ4DW91eOAFd0dzgRETtntMbSD3Wmfu1me+vYiu2tkvLUr4gY\nCB7w2ad1Mtt7JB03tiJpMXBv94cUEVHfNqvjpR/qZLZvAf5R0v+luoHhLuANPRlVRERNg57Z1nnq\n1/eAF0iaVtYf7tmoIiJq6lcttlOdzLM92falks4Y1w6A7fN7NLaIiI4NQ2b7lPLn9F4OJCJiVzzh\nM1vbHy/vG3vQ9kcaGFNERG0jA57ZdjQbwfYIcGKPxxIRsdNG1fnSD3VmI3yjzES4HPjpWKPtb3V9\nVBERNY0OeGZbJ9geXv48t6XNwCu6N5yIiJ0zDA+iGXOq7Q2tDZLy3rGIGAiDfoGszh1kn52gLc9G\niIiBMCp1vPRDJ/NsDwEOBWZI+sOWTfsAe/VqYBERdYz0ewBtdJLZzgd+D5gJHNuyHAGc3ruhRUR0\nrpuzESQtkrRO0npJZ02y32skWdKR7frsZJ7t54HPS3qh7f9sP8yIiOZ1azZCua9gOfDbwCbgJkkr\nba8dt9904J3ADZ30W6dm+weS9pG0u6RrJd0j6eQa34+I6BnXWNpYCKy3vaE8VvYyYPEE+/0l8EHg\n552Mr06wfZXtB6lKChuBg4Eza3w/IqJn6pQRJC2RtLplWdLS1SyqpxqO2VTaHiPpCGB/2//W6fjq\nTP3avfz5u8AVtreoT1f1IiLGqzP1y/YKYMXOHEfSFOB8Wt4u3ok6wfYLkm4Dfga8VdJ+TJI+v3b6\nPXXGERGxS0a6l/ttBvZvWZ9d2sZMBw4DvlISzmcAKyUdZ3v1jjrtuIxg+yzgRcCRth+lumV3ojpG\nRETjuvgOspuAeZLmlld/nQCsHNtoe4vtfW3PsT0HuB6YNNBCZ/NsX2H7S61zbMeVD/6l/dgjInqr\nW3eQ2d4maSlwNTAVuNj2GknnAqttr5y8h4l1UkZ4KfAlqrm1pnolTuufCbYR0XfdfLWY7VXAqnFt\n5+xg35d30mcnwfah8paGW3k8yMLgP/chIp5EBv3ZCJ0E22nlz/nA84HPUwXcY4EbezSuiIhaBv12\n3U7uIPvfAJKuA46w/VBZXwZ0PMcsIqKX+vVQ8E7Vmfr1dGBry/rW0hYR0XfDUEYYcwlwo6R/Leu/\nD3yq6yOKiNgJQxNsbb9f0pXAS0rTKba/3ZthRUTUM+hX7OtktmPvG8s7xyJi4AxTzTYiYmA94Wcj\nREQ8EYwOeCEhwTYihsLQXCCLiBhkg53XJthGxJBIZhsR0YBtGuzcNsE2IobCYIfaBNuIGBIpI0RE\nNCBTvyIiGjDYoTbBNiKGRMoIERENGBnw3DbBNiKGQjLbiIgGOJltRETvJbONiGhApn5FRDRgsENt\ngm1EDIltAx5uE2wjYijkAllERANygSwiogHJbCMiGpDMNiKiASNOZhsR0XOZZxsR0YDUbCMiGpCa\nbUREAwa9jDCl3wOIiOgG1/inHUmLJK2TtF7SWRNsP0PSWkm3SLpW0oHt+kywjYihMGJ3vExG0lRg\nOXAMsAA4UdKCcbt9GzjS9m8AnwX+pt34EmwjYiiM4o6XNhYC621vsL0VuAxY3LqD7S/bfqSsXg/M\nbtdpgm1EDIXRGoukJZJWtyxLWrqaBdzVsr6ptO3IqcCV7caXC2QRMRTqTP2yvQJYsavHlHQycCTw\nsnb7JthGxFDo4myEzcD+LeuzS9t2JB0NnA28zPYv2nWaYBsRQ8Hdu133JmCepLlUQfYE4KTWHST9\nJvBxYJHtuzvpNME2IoZCt15lbnubpKXA1cBU4GLbaySdC6y2vRI4D5gGXCEJ4E7bx03Wb4JtRAyF\nbt7UYHsVsGpc2zktn4+u22eCbUQMhS6WEXoiwTYihsKg366bYBsRQyFP/YqIaEAeHh4R0YCUESIi\nGpBgGxHRgMxGiIhoQDLbiIgGZDZCREQDRjzYbyFLsI2IoZCabUREA1KzjYhoQGq2ERENGE0ZISKi\n95LZRkQ0ILMRIiIakDJCREQDUkaIiGhAMtuIiAYks42IaMCIR/o9hEkl2EbEUMjtuhERDcjtuhER\nDUhmGxHRgMxGiIhoQGYjREQ0ILfrRkQ0IDXbiIgGpGYbEdGAZLYREQ3IPNuIiAYks42IaEBmI0RE\nNCAXyCIiGjDoZYQp/R5AREQ3uMY/7UhaJGmdpPWSzppg+56SLi/bb5A0p12fCbYRMRRsd7xMRtJU\nYDlwDLAAOFHSgnG7nQrcb/tg4CPAB9uNL8E2IobCqN3x0sZCYL3tDba3ApcBi8ftsxj4+/L5s8Ar\nJWmyTntWsz3o1qsnPXBERDdt27q545gjaQmwpKVphe0V5fMs4K6WbZuAo8Z18dg+trdJ2gI8Dbh3\nR8fMBbKIeNIpgXVF2x27KGWEiIjtbQb2b1mfXdom3EfSbsAM4CeTdZpgGxGxvZuAeZLmStoDOAFY\nOW6flcAby+fjgS+5zZW3lBEiIlqUGuxS4GpgKnCx7TWSzgVW214JXAT8g6T1wH1UAXlSGvSJwDEY\nJD1se9ok22cCJ9m+oKw/C/g728dLOhx4lu1VNY+5DHjY9od2YegRAyFlhOiWmcDbxlZs/8D28WX1\ncODVfRlVxIBIsI1aJE2TdK2kb0n6rqSx+Yd/DRwk6TuSzpM0R9KtpeZ1LvC6su11kpZJ+rOWPm8d\nuwNH0tmSbpf0dWB+yz4HSbpK0jclfU3SIY2ddEQXpGYbdf0c+APbD0raF7he0krgLOAw24cDjAVP\n21slnQMcaXtp2bZsoo4lPY+q9nU41f82vwV8s2xeAbzF9n9LOgq4AHhFT84wogcSbKMuAR+Q9FJg\nlGpy99O71PdLgH+1/QhACeJImga8CLii5SadPbt0zIhGJNhGXa8H9gOeZ/tRSRuBvWr2sY3tS1jt\nvj8FeGAsa454IkrNNuqaAdxdAu3/BA4s7Q8B03fwnfHbNgJHAEg6Aphb2q8Dfl/S3pKmA8cC2H4Q\n+L6kPyrfkaTndu+UInovwTbq+kfgSEnfBd4A3AZg+yfAN8rFrvPGfefLwIKxC2TAPwNPlbQGWArc\nXvr4FnA5cDNwJdXk8jGvB06VdDOwhl9+MEjEQMs824iIBiSzjYhoQIJtREQDEmwjIhqQYBsR0YAE\n24iIBiTYRkQ0IME2IqIB/x9Em5tUgXfFqgAAAABJRU5ErkJggg==\n",
                "text/plain": "<Figure size 432x288 with 2 Axes>"
              },
              {
                "output_type": "display_data",
                "metadata": {
                  "tags": []
                },
                "image/png": "iVBORw0KGgoAAAANSUhEUgAAAVsAAAEFCAYAAABNS0RqAAAABHNCSVQICAgIfAhkiAAAAAlwSFlz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\n24iIBvx/t9W0UB+hrD8AAAAASUVORK5CYII=\n",
                "text/plain": "<Figure size 432x288 with 2 Axes>"
              },
              {
                "output_type": "display_data",
                "metadata": {
                  "tags": []
                },
                "image/png": "iVBORw0KGgoAAAANSUhEUgAAAVsAAAEFCAYAAABNS0RqAAAABHNCSVQICAgIfAhkiAAAAAlwSFlz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\n",
                "text/plain": "<Figure size 432x288 with 2 Axes>"
              }
            ],
            "_view_module": "@jupyter-widgets/output",
            "_model_module_version": "1.0.0",
            "_view_count": null,
            "_view_module_version": "1.0.0",
            "layout": "IPY_MODEL_70c45efe8f6f4430ada84d1cef250d90",
            "_model_module": "@jupyter-widgets/output"
          }
        },
        "ef1feb8557014d9bb3219103dc8586bc": {
          "model_module": "@jupyter-widgets/controls",
          "model_name": "SliderStyleModel",
          "state": {
            "_view_name": "StyleView",
            "handle_color": null,
            "_model_name": "SliderStyleModel",
            "description_width": "",
            "_view_module": "@jupyter-widgets/base",
            "_model_module_version": "1.5.0",
            "_view_count": null,
            "_view_module_version": "1.2.0",
            "_model_module": "@jupyter-widgets/controls"
          }
        },
        "1e7e763ea7c84957b2448fc9e00217a8": {
          "model_module": "@jupyter-widgets/base",
          "model_name": "LayoutModel",
          "state": {
            "_view_name": "LayoutView",
            "grid_template_rows": null,
            "right": null,
            "justify_content": null,
            "_view_module": "@jupyter-widgets/base",
            "overflow": null,
            "_model_module_version": "1.2.0",
            "_view_count": null,
            "flex_flow": null,
            "width": null,
            "min_width": null,
            "border": null,
            "align_items": null,
            "bottom": null,
            "_model_module": "@jupyter-widgets/base",
            "top": null,
            "grid_column": null,
            "overflow_y": null,
            "overflow_x": null,
            "grid_auto_flow": null,
            "grid_area": null,
            "grid_template_columns": null,
            "flex": null,
            "_model_name": "LayoutModel",
            "justify_items": null,
            "grid_row": null,
            "max_height": null,
            "align_content": null,
            "visibility": null,
            "align_self": null,
            "height": null,
            "min_height": null,
            "padding": null,
            "grid_auto_rows": null,
            "grid_gap": null,
            "max_width": null,
            "order": null,
            "_view_module_version": "1.2.0",
            "grid_template_areas": null,
            "object_position": null,
            "object_fit": null,
            "grid_auto_columns": null,
            "margin": null,
            "display": null,
            "left": null
          }
        },
        "4fa512c5520e41ae9d631f735273d3f3": {
          "model_module": "@jupyter-widgets/controls",
          "model_name": "SliderStyleModel",
          "state": {
            "_view_name": "StyleView",
            "handle_color": null,
            "_model_name": "SliderStyleModel",
            "description_width": "",
            "_view_module": "@jupyter-widgets/base",
            "_model_module_version": "1.5.0",
            "_view_count": null,
            "_view_module_version": "1.2.0",
            "_model_module": "@jupyter-widgets/controls"
          }
        },
        "5b05329390f54edd997d0f8138320238": {
          "model_module": "@jupyter-widgets/base",
          "model_name": "LayoutModel",
          "state": {
            "_view_name": "LayoutView",
            "grid_template_rows": null,
            "right": null,
            "justify_content": null,
            "_view_module": "@jupyter-widgets/base",
            "overflow": null,
            "_model_module_version": "1.2.0",
            "_view_count": null,
            "flex_flow": null,
            "width": null,
            "min_width": null,
            "border": null,
            "align_items": null,
            "bottom": null,
            "_model_module": "@jupyter-widgets/base",
            "top": null,
            "grid_column": null,
            "overflow_y": null,
            "overflow_x": null,
            "grid_auto_flow": null,
            "grid_area": null,
            "grid_template_columns": null,
            "flex": null,
            "_model_name": "LayoutModel",
            "justify_items": null,
            "grid_row": null,
            "max_height": null,
            "align_content": null,
            "visibility": null,
            "align_self": null,
            "height": null,
            "min_height": null,
            "padding": null,
            "grid_auto_rows": null,
            "grid_gap": null,
            "max_width": null,
            "order": null,
            "_view_module_version": "1.2.0",
            "grid_template_areas": null,
            "object_position": null,
            "object_fit": null,
            "grid_auto_columns": null,
            "margin": null,
            "display": null,
            "left": null
          }
        },
        "94a5bfd6a9634b3c952595eecdf8cb3f": {
          "model_module": "@jupyter-widgets/controls",
          "model_name": "VBoxModel",
          "state": {
            "_view_name": "VBoxView",
            "_dom_classes": [
              "widget-interact"
            ],
            "_model_name": "VBoxModel",
            "_view_module": "@jupyter-widgets/controls",
            "_model_module_version": "1.5.0",
            "_view_count": null,
            "_view_module_version": "1.5.0",
            "box_style": "",
            "layout": "IPY_MODEL_5a1815aab6ae445daaf1137a0ba3455a",
            "_model_module": "@jupyter-widgets/controls",
            "children": [
              "IPY_MODEL_291cdde6aa074ca8a82752f68a1ffcfa",
              "IPY_MODEL_f828c89b77714208abfd1a3678bf1818",
              "IPY_MODEL_552f47cec0f04bd9920b9ce690240917"
            ]
          }
        },
        "5a1815aab6ae445daaf1137a0ba3455a": {
          "model_module": "@jupyter-widgets/base",
          "model_name": "LayoutModel",
          "state": {
            "_view_name": "LayoutView",
            "grid_template_rows": null,
            "right": null,
            "justify_content": null,
            "_view_module": "@jupyter-widgets/base",
            "overflow": null,
            "_model_module_version": "1.2.0",
            "_view_count": null,
            "flex_flow": null,
            "width": null,
            "min_width": null,
            "border": null,
            "align_items": null,
            "bottom": null,
            "_model_module": "@jupyter-widgets/base",
            "top": null,
            "grid_column": null,
            "overflow_y": null,
            "overflow_x": null,
            "grid_auto_flow": null,
            "grid_area": null,
            "grid_template_columns": null,
            "flex": null,
            "_model_name": "LayoutModel",
            "justify_items": null,
            "grid_row": null,
            "max_height": null,
            "align_content": null,
            "visibility": null,
            "align_self": null,
            "height": null,
            "min_height": null,
            "padding": null,
            "grid_auto_rows": null,
            "grid_gap": null,
            "max_width": null,
            "order": null,
            "_view_module_version": "1.2.0",
            "grid_template_areas": null,
            "object_position": null,
            "object_fit": null,
            "grid_auto_columns": null,
            "margin": null,
            "display": null,
            "left": null
          }
        },
        "291cdde6aa074ca8a82752f68a1ffcfa": {
          "model_module": "@jupyter-widgets/controls",
          "model_name": "IntSliderModel",
          "state": {
            "_view_name": "IntSliderView",
            "style": "IPY_MODEL_55b5d1a445de4ec682f5e5f55275f861",
            "_dom_classes": [],
            "description": "max_depth",
            "step": 1,
            "_model_name": "IntSliderModel",
            "orientation": "horizontal",
            "max": 6,
            "_view_module": "@jupyter-widgets/controls",
            "_model_module_version": "1.5.0",
            "value": 1,
            "_view_count": null,
            "disabled": false,
            "_view_module_version": "1.5.0",
            "min": 1,
            "continuous_update": true,
            "readout_format": "d",
            "description_tooltip": null,
            "readout": true,
            "_model_module": "@jupyter-widgets/controls",
            "layout": "IPY_MODEL_ba96495264ce415ab6830ddd64cc5799"
          }
        },
        "f828c89b77714208abfd1a3678bf1818": {
          "model_module": "@jupyter-widgets/controls",
          "model_name": "IntSliderModel",
          "state": {
            "_view_name": "IntSliderView",
            "style": "IPY_MODEL_7208ced1250042a1bb3e0871f8b8c7a6",
            "_dom_classes": [],
            "description": "n_estimators",
            "step": 1,
            "_model_name": "IntSliderModel",
            "orientation": "horizontal",
            "max": 5,
            "_view_module": "@jupyter-widgets/controls",
            "_model_module_version": "1.5.0",
            "value": 2,
            "_view_count": null,
            "disabled": false,
            "_view_module_version": "1.5.0",
            "min": 2,
            "continuous_update": true,
            "readout_format": "d",
            "description_tooltip": null,
            "readout": true,
            "_model_module": "@jupyter-widgets/controls",
            "layout": "IPY_MODEL_54f3ea3f077046e2a5e57eb726fe74cd"
          }
        },
        "552f47cec0f04bd9920b9ce690240917": {
          "model_module": "@jupyter-widgets/output",
          "model_name": "OutputModel",
          "state": {
            "_view_name": "OutputView",
            "msg_id": "",
            "_dom_classes": [],
            "_model_name": "OutputModel",
            "outputs": [
              {
                "output_type": "display_data",
                "metadata": {
                  "tags": []
                },
                "image/png": "iVBORw0KGgoAAAANSUhEUgAAAVsAAAEFCAYAAABNS0RqAAAABHNCSVQICAgIfAhkiAAAAAlwSFlz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\nBltJ6oHBVpJ6YLCVpB4YbCWpB/8Hkv21rNLBFQQAAAAASUVORK5CYII=\n",
                "text/plain": "<Figure size 432x288 with 2 Axes>"
              },
              {
                "output_type": "display_data",
                "metadata": {
                  "tags": []
                },
                "image/png": "iVBORw0KGgoAAAANSUhEUgAAAVsAAAEFCAYAAABNS0RqAAAABHNCSVQICAgIfAhkiAAAAAlwSFlz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\nrkJggg==\n",
                "text/plain": "<Figure size 432x288 with 2 Axes>"
              },
              {
                "output_type": "display_data",
                "metadata": {
                  "tags": []
                },
                "image/png": "iVBORw0KGgoAAAANSUhEUgAAAVsAAAEFCAYAAABNS0RqAAAABHNCSVQICAgIfAhkiAAAAAlwSFlz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\n",
                "text/plain": "<Figure size 432x288 with 2 Axes>"
              }
            ],
            "_view_module": "@jupyter-widgets/output",
            "_model_module_version": "1.0.0",
            "_view_count": null,
            "_view_module_version": "1.0.0",
            "layout": "IPY_MODEL_b3cd4f5dce734c5c9b8363d04bbadd3b",
            "_model_module": "@jupyter-widgets/output"
          }
        },
        "55b5d1a445de4ec682f5e5f55275f861": {
          "model_module": "@jupyter-widgets/controls",
          "model_name": "SliderStyleModel",
          "state": {
            "_view_name": "StyleView",
            "handle_color": null,
            "_model_name": "SliderStyleModel",
            "description_width": "",
            "_view_module": "@jupyter-widgets/base",
            "_model_module_version": "1.5.0",
            "_view_count": null,
            "_view_module_version": "1.2.0",
            "_model_module": "@jupyter-widgets/controls"
          }
        },
        "ba96495264ce415ab6830ddd64cc5799": {
          "model_module": "@jupyter-widgets/base",
          "model_name": "LayoutModel",
          "state": {
            "_view_name": "LayoutView",
            "grid_template_rows": null,
            "right": null,
            "justify_content": null,
            "_view_module": "@jupyter-widgets/base",
            "overflow": null,
            "_model_module_version": "1.2.0",
            "_view_count": null,
            "flex_flow": null,
            "width": null,
            "min_width": null,
            "border": null,
            "align_items": null,
            "bottom": null,
            "_model_module": "@jupyter-widgets/base",
            "top": null,
            "grid_column": null,
            "overflow_y": null,
            "overflow_x": null,
            "grid_auto_flow": null,
            "grid_area": null,
            "grid_template_columns": null,
            "flex": null,
            "_model_name": "LayoutModel",
            "justify_items": null,
            "grid_row": null,
            "max_height": null,
            "align_content": null,
            "visibility": null,
            "align_self": null,
            "height": null,
            "min_height": null,
            "padding": null,
            "grid_auto_rows": null,
            "grid_gap": null,
            "max_width": null,
            "order": null,
            "_view_module_version": "1.2.0",
            "grid_template_areas": null,
            "object_position": null,
            "object_fit": null,
            "grid_auto_columns": null,
            "margin": null,
            "display": null,
            "left": null
          }
        },
        "7208ced1250042a1bb3e0871f8b8c7a6": {
          "model_module": "@jupyter-widgets/controls",
          "model_name": "SliderStyleModel",
          "state": {
            "_view_name": "StyleView",
            "handle_color": null,
            "_model_name": "SliderStyleModel",
            "description_width": "",
            "_view_module": "@jupyter-widgets/base",
            "_model_module_version": "1.5.0",
            "_view_count": null,
            "_view_module_version": "1.2.0",
            "_model_module": "@jupyter-widgets/controls"
          }
        },
        "54f3ea3f077046e2a5e57eb726fe74cd": {
          "model_module": "@jupyter-widgets/base",
          "model_name": "LayoutModel",
          "state": {
            "_view_name": "LayoutView",
            "grid_template_rows": null,
            "right": null,
            "justify_content": null,
            "_view_module": "@jupyter-widgets/base",
            "overflow": null,
            "_model_module_version": "1.2.0",
            "_view_count": null,
            "flex_flow": null,
            "width": null,
            "min_width": null,
            "border": null,
            "align_items": null,
            "bottom": null,
            "_model_module": "@jupyter-widgets/base",
            "top": null,
            "grid_column": null,
            "overflow_y": null,
            "overflow_x": null,
            "grid_auto_flow": null,
            "grid_area": null,
            "grid_template_columns": null,
            "flex": null,
            "_model_name": "LayoutModel",
            "justify_items": null,
            "grid_row": null,
            "max_height": null,
            "align_content": null,
            "visibility": null,
            "align_self": null,
            "height": null,
            "min_height": null,
            "padding": null,
            "grid_auto_rows": null,
            "grid_gap": null,
            "max_width": null,
            "order": null,
            "_view_module_version": "1.2.0",
            "grid_template_areas": null,
            "object_position": null,
            "object_fit": null,
            "grid_auto_columns": null,
            "margin": null,
            "display": null,
            "left": null
          }
        }
      }
    }
  },
  "cells": [
    {
      "cell_type": "markdown",
      "metadata": {
        "id": "view-in-github",
        "colab_type": "text"
      },
      "source": [
        "<a href=\"https://colab.research.google.com/github/hargettc2015/DS-Unit-1-Sprint-1-Data-Wrangling-and-Storytelling/blob/master/kaggle_challenge_2.ipynb\" target=\"_parent\"><img src=\"https://colab.research.google.com/assets/colab-badge.svg\" alt=\"Open In Colab\"/></a>"
      ]
    },
    {
      "cell_type": "markdown",
      "metadata": {
        "id": "_xSo5Mr8V6NB",
        "colab_type": "text"
      },
      "source": [
        "Lambda School Data Science\n",
        "\n",
        "*Unit 2, Sprint 2, Module 2*\n",
        "\n",
        "---"
      ]
    },
    {
      "cell_type": "markdown",
      "metadata": {
        "colab_type": "text",
        "id": "7IXUfiQ2UKj6"
      },
      "source": [
        "# Random Forests\n",
        "\n",
        "## Assignment\n",
        "- [ ] Read [“Adopting a Hypothesis-Driven Workflow”](https://outline.com/5S5tsB), a blog post by a Lambda DS student about the Tanzania Waterpumps challenge.\n",
        "- [ ] Continue to participate in our Kaggle challenge.\n",
        "- [ ] Define a function to wrangle train, validate, and test sets in the same way. Clean outliers and engineer features.\n",
        "- [ ] Try Ordinal Encoding.\n",
        "- [ ] Try a Random Forest Classifier.\n",
        "- [ ] Submit your predictions to our Kaggle competition. (Go to our Kaggle InClass competition webpage. Use the blue **Submit Predictions** button to upload your CSV file. Or you can use the Kaggle API to submit your predictions.)\n",
        "- [ ] Commit your notebook to your fork of the GitHub repo.\n",
        "\n",
        "## Stretch Goals\n",
        "\n",
        "### Doing\n",
        "- [ ] Add your own stretch goal(s) !\n",
        "- [ ] Do more exploratory data analysis, data cleaning, feature engineering, and feature selection.\n",
        "- [ ] Try other [categorical encodings](https://contrib.scikit-learn.org/categorical-encoding/).\n",
        "- [ ] Get and plot your feature importances.\n",
        "- [ ] Make visualizations and share on Slack.\n",
        "\n",
        "### Reading\n",
        "\n",
        "Top recommendations in _**bold italic:**_\n",
        "\n",
        "#### Decision Trees\n",
        "- A Visual Introduction to Machine Learning, [Part 1: A Decision Tree](http://www.r2d3.us/visual-intro-to-machine-learning-part-1/),  and _**[Part 2: Bias and Variance](http://www.r2d3.us/visual-intro-to-machine-learning-part-2/)**_\n",
        "- [Decision Trees: Advantages & Disadvantages](https://christophm.github.io/interpretable-ml-book/tree.html#advantages-2)\n",
        "- [How a Russian mathematician constructed a decision tree — by hand — to solve a medical problem](http://fastml.com/how-a-russian-mathematician-constructed-a-decision-tree-by-hand-to-solve-a-medical-problem/)\n",
        "- [How decision trees work](https://brohrer.github.io/how_decision_trees_work.html)\n",
        "- [Let’s Write a Decision Tree Classifier from Scratch](https://www.youtube.com/watch?v=LDRbO9a6XPU)\n",
        "\n",
        "#### Random Forests\n",
        "- [_An Introduction to Statistical Learning_](http://www-bcf.usc.edu/~gareth/ISL/), Chapter 8: Tree-Based Methods\n",
        "- [Coloring with Random Forests](http://structuringtheunstructured.blogspot.com/2017/11/coloring-with-random-forests.html)\n",
        "- _**[Random Forests for Complete Beginners: The definitive guide to Random Forests and Decision Trees](https://victorzhou.com/blog/intro-to-random-forests/)**_\n",
        "\n",
        "#### Categorical encoding for trees\n",
        "- [Are categorical variables getting lost in your random forests?](https://roamanalytics.com/2016/10/28/are-categorical-variables-getting-lost-in-your-random-forests/)\n",
        "- [Beyond One-Hot: An Exploration of Categorical Variables](http://www.willmcginnis.com/2015/11/29/beyond-one-hot-an-exploration-of-categorical-variables/)\n",
        "- _**[Categorical Features and Encoding in Decision Trees](https://medium.com/data-design/visiting-categorical-features-and-encoding-in-decision-trees-53400fa65931)**_\n",
        "- _**[Coursera — How to Win a Data Science Competition: Learn from Top Kagglers — Concept of mean encoding](https://www.coursera.org/lecture/competitive-data-science/concept-of-mean-encoding-b5Gxv)**_\n",
        "- [Mean (likelihood) encodings: a comprehensive study](https://www.kaggle.com/vprokopev/mean-likelihood-encodings-a-comprehensive-study)\n",
        "- [The Mechanics of Machine Learning, Chapter 6: Categorically Speaking](https://mlbook.explained.ai/catvars.html)\n",
        "\n",
        "#### Imposter Syndrome\n",
        "- [Effort Shock and Reward Shock (How The Karate Kid Ruined The Modern World)](http://www.tempobook.com/2014/07/09/effort-shock-and-reward-shock/)\n",
        "- [How to manage impostor syndrome in data science](https://towardsdatascience.com/how-to-manage-impostor-syndrome-in-data-science-ad814809f068)\n",
        "- [\"I am not a real data scientist\"](https://brohrer.github.io/imposter_syndrome.html)\n",
        "- _**[Imposter Syndrome in Data Science](https://caitlinhudon.com/2018/01/19/imposter-syndrome-in-data-science/)**_\n",
        "\n",
        "\n",
        "### More Categorical Encodings\n",
        "\n",
        "**1.** The article **[Categorical Features and Encoding in Decision Trees](https://medium.com/data-design/visiting-categorical-features-and-encoding-in-decision-trees-53400fa65931)** mentions 4 encodings:\n",
        "\n",
        "- **\"Categorical Encoding\":** This means using the raw categorical values as-is, not encoded. Scikit-learn doesn't support this, but some tree algorithm implementations do. For example, [Catboost](https://catboost.ai/), or R's [rpart](https://cran.r-project.org/web/packages/rpart/index.html) package.\n",
        "- **Numeric Encoding:** Synonymous with Label Encoding, or \"Ordinal\" Encoding with random order. We can use [category_encoders.OrdinalEncoder](https://contrib.scikit-learn.org/categorical-encoding/ordinal.html).\n",
        "- **One-Hot Encoding:** We can use [category_encoders.OneHotEncoder](http://contrib.scikit-learn.org/categorical-encoding/onehot.html).\n",
        "- **Binary Encoding:** We can use [category_encoders.BinaryEncoder](http://contrib.scikit-learn.org/categorical-encoding/binary.html).\n",
        "\n",
        "\n",
        "**2.** The short video \n",
        "**[Coursera — How to Win a Data Science Competition: Learn from Top Kagglers — Concept of mean encoding](https://www.coursera.org/lecture/competitive-data-science/concept-of-mean-encoding-b5Gxv)** introduces an interesting idea: use both X _and_ y to encode categoricals.\n",
        "\n",
        "Category Encoders has multiple implementations of this general concept:\n",
        "\n",
        "- [CatBoost Encoder](http://contrib.scikit-learn.org/categorical-encoding/catboost.html)\n",
        "- [James-Stein Encoder](http://contrib.scikit-learn.org/categorical-encoding/jamesstein.html)\n",
        "- [Leave One Out](http://contrib.scikit-learn.org/categorical-encoding/leaveoneout.html)\n",
        "- [M-estimate](http://contrib.scikit-learn.org/categorical-encoding/mestimate.html)\n",
        "- [Target Encoder](http://contrib.scikit-learn.org/categorical-encoding/targetencoder.html)\n",
        "- [Weight of Evidence](http://contrib.scikit-learn.org/categorical-encoding/woe.html)\n",
        "\n",
        "Category Encoder's mean encoding implementations work for regression problems or binary classification problems. \n",
        "\n",
        "For multi-class classification problems, you will need to temporarily reformulate it as binary classification. For example:\n",
        "\n",
        "```python\n",
        "encoder = ce.TargetEncoder(min_samples_leaf=..., smoothing=...) # Both parameters > 1 to avoid overfitting\n",
        "X_train_encoded = encoder.fit_transform(X_train, y_train=='functional')\n",
        "X_val_encoded = encoder.transform(X_train, y_val=='functional')\n",
        "```\n",
        "\n",
        "For this reason, mean encoding won't work well within pipelines for multi-class classification problems.\n",
        "\n",
        "**3.** The **[dirty_cat](https://dirty-cat.github.io/stable/)** library has a Target Encoder implementation that works with multi-class classification.\n",
        "\n",
        "```python\n",
        " dirty_cat.TargetEncoder(clf_type='multiclass-clf')\n",
        "```\n",
        "It also implements an interesting idea called [\"Similarity Encoder\" for dirty categories](https://www.slideshare.net/GaelVaroquaux/machine-learning-on-non-curated-data-154905090).\n",
        "\n",
        "However, it seems like dirty_cat doesn't handle missing values or unknown categories as well as category_encoders does. And you may need to use it with one column at a time, instead of with your whole dataframe.\n",
        "\n",
        "**4. [Embeddings](https://www.kaggle.com/learn/embeddings)** can work well with sparse / high cardinality categoricals.\n",
        "\n",
        "_**I hope it’s not too frustrating or confusing that there’s not one “canonical” way to encode categoricals. It’s an active area of research and experimentation! Maybe you can make your own contributions!**_"
      ]
    },
    {
      "cell_type": "markdown",
      "metadata": {
        "id": "B9bQTuHbV6NE",
        "colab_type": "text"
      },
      "source": [
        "### Setup\n",
        "\n",
        "You can work locally (follow the [local setup instructions](https://lambdaschool.github.io/ds/unit2/local/)) or on Colab (run the code cell below)."
      ]
    },
    {
      "cell_type": "code",
      "metadata": {
        "colab_type": "code",
        "id": "o9eSnDYhUGD7",
        "colab": {}
      },
      "source": [
        "%%capture\n",
        "import sys\n",
        "\n",
        "# If you're on Colab:\n",
        "if 'google.colab' in sys.modules:\n",
        "    DATA_PATH = 'https://raw.githubusercontent.com/LambdaSchool/DS-Unit-2-Kaggle-Challenge/master/data/'\n",
        "    !pip install category_encoders==2.*\n",
        "\n",
        "# If you're working locally:\n",
        "else:\n",
        "    DATA_PATH = '../data/'"
      ],
      "execution_count": 0,
      "outputs": []
    },
    {
      "cell_type": "code",
      "metadata": {
        "colab_type": "code",
        "id": "QJBD4ruICm1m",
        "colab": {
          "base_uri": "https://localhost:8080/",
          "height": 34
        },
        "outputId": "85a4c1ec-8587-4bc5-84ac-f06360f8abdf"
      },
      "source": [
        "import pandas as pd\n",
        "from sklearn.model_selection import train_test_split\n",
        "\n",
        "train = pd.merge(pd.read_csv(DATA_PATH+'waterpumps/train_features.csv'), \n",
        "                 pd.read_csv(DATA_PATH+'waterpumps/train_labels.csv'))\n",
        "test = pd.read_csv(DATA_PATH+'waterpumps/test_features.csv')\n",
        "sample_submission = pd.read_csv(DATA_PATH+'waterpumps/sample_submission.csv')\n",
        "\n",
        "train.shape, test.shape"
      ],
      "execution_count": 2,
      "outputs": [
        {
          "output_type": "execute_result",
          "data": {
            "text/plain": [
              "((59400, 41), (14358, 40))"
            ]
          },
          "metadata": {
            "tags": []
          },
          "execution_count": 2
        }
      ]
    },
    {
      "cell_type": "code",
      "metadata": {
        "id": "7aqo15CaV6NK",
        "colab_type": "code",
        "colab": {}
      },
      "source": [
        "import numpy as np\n",
        "import pandas as pd\n",
        "from sklearn.model_selection import train_test_split\n",
        "\n",
        "# Merge train_features.csv & train_labels.csv\n",
        "train = pd.merge(pd.read_csv(DATA_PATH+'waterpumps/train_features.csv'), \n",
        "                 pd.read_csv(DATA_PATH+'waterpumps/train_labels.csv'))\n",
        "\n",
        "# Read test_features.csv & sample_submission.csv\n",
        "test = pd.read_csv(DATA_PATH+'waterpumps/test_features.csv')\n",
        "sample_submission = pd.read_csv(DATA_PATH+'waterpumps/sample_submission.csv')\n",
        "\n",
        "# Split train into train & val\n",
        "train, val = train_test_split(train, train_size=0.80, test_size=0.20, \n",
        "                              stratify=train['status_group'], random_state=42)\n",
        "\n"
      ],
      "execution_count": 0,
      "outputs": []
    },
    {
      "cell_type": "code",
      "metadata": {
        "id": "M_MAhygKZmkr",
        "colab_type": "code",
        "colab": {}
      },
      "source": [
        "#function to wrangel tran, val, test\n",
        "#feature engineering\n",
        "def wrangle(X):\n",
        "    \n",
        "    # Prevent SettingWithCopyWarning\n",
        "    X = X.copy()\n",
        "    \n",
        "    # About 3% of the time, latitude has small values near zero,\n",
        "    # outside Tanzania, so we'll treat these values like zero.\n",
        "    X['latitude'] = X['latitude'].replace(-2e-08, 0)\n",
        "    \n",
        "    #replacing zeros with null, and adding missing values column.\n",
        "    cols_with_zeros = ['longitude', 'latitude', 'construction_year', \n",
        "                       'gps_height', 'population']\n",
        "    for col in cols_with_zeros:\n",
        "        X[col] = X[col].replace(0, np.nan)\n",
        "        X[col+'_MISSING'] = X[col].isnull()\n",
        "            \n",
        "    # Drop duplicate columns\n",
        "    duplicates = ['quantity_group', 'payment_type']\n",
        "    X = X.drop(columns=duplicates)\n",
        "    \n",
        "    # Drop recorded_by (never varies) and id (always varies, random)\n",
        "    unusable_variance = ['recorded_by', 'id']\n",
        "    X = X.drop(columns=unusable_variance)\n",
        "    \n",
        "    # Convert date_recorded to datetime\n",
        "    X['date_recorded'] = pd.to_datetime(X['date_recorded'], infer_datetime_format=True)\n",
        "    \n",
        "    # Extract components from date_recorded, then drop the original column\n",
        "    X['year_recorded'] = X['date_recorded'].dt.year\n",
        "    X['month_recorded'] = X['date_recorded'].dt.month\n",
        "    X['day_recorded'] = X['date_recorded'].dt.day\n",
        "    X = X.drop(columns='date_recorded')\n",
        "    \n",
        "    # Engineer feature: how many years from construction_year to date_recorded\n",
        "    X['years'] = X['year_recorded'] - X['construction_year']\n",
        "    X['years_MISSING'] = X['years'].isnull()\n",
        "    \n",
        "    # return the wrangled dataframe\n",
        "    return X\n",
        "\n",
        "train = wrangle(train)\n",
        "val = wrangle(val)\n",
        "test = wrangle(test)"
      ],
      "execution_count": 0,
      "outputs": []
    },
    {
      "cell_type": "code",
      "metadata": {
        "id": "s5RQN3TyaMnm",
        "colab_type": "code",
        "colab": {}
      },
      "source": [
        "# The status_group column is the target\n",
        "target = 'status_group'\n",
        "\n",
        "# Get a dataframe with all train columns except the target\n",
        "train_features = train.drop(columns=[target])\n",
        "\n",
        "# Get a list of the numeric features\n",
        "numeric_features = train_features.select_dtypes(include='number').columns.tolist()\n",
        "\n",
        "# Get a series with the cardinality of the nonnumeric features\n",
        "cardinality = train_features.select_dtypes(exclude='number').nunique()\n",
        "\n",
        "# Get a list of all categorical features with cardinality <= 50\n",
        "categorical_features = cardinality[cardinality <= 50].index.tolist()\n",
        "\n",
        "# Combine the lists \n",
        "features = numeric_features + categorical_features"
      ],
      "execution_count": 0,
      "outputs": []
    },
    {
      "cell_type": "code",
      "metadata": {
        "id": "du3kDKIcaRhB",
        "colab_type": "code",
        "colab": {}
      },
      "source": [
        "# Arrange data into X features matrix and y target vector \n",
        "X_train = train[features]\n",
        "y_train = train[target]\n",
        "X_val = val[features]\n",
        "y_val = val[target]\n",
        "X_test = test[features]"
      ],
      "execution_count": 0,
      "outputs": []
    },
    {
      "cell_type": "code",
      "metadata": {
        "id": "lOJXJ2m4aWCw",
        "colab_type": "code",
        "colab": {
          "base_uri": "https://localhost:8080/",
          "height": 69
        },
        "outputId": "b1c7bd65-19e3-453c-ce22-bddb694961d1"
      },
      "source": [
        "#Random Forest sklearn\n",
        "%%time\n",
        "\n",
        "import category_encoders as ce\n",
        "from sklearn.ensemble import RandomForestClassifier\n",
        "from sklearn.impute import SimpleImputer\n",
        "from sklearn.pipeline import make_pipeline\n",
        "\n",
        "pipeline = make_pipeline(\n",
        "    ce.OneHotEncoder(use_cat_names=True), \n",
        "    SimpleImputer(strategy='median'), \n",
        "    RandomForestClassifier(n_estimators=100, n_jobs=-1, random_state=0)\n",
        ")\n",
        "\n",
        "# Fit on train, score on val\n",
        "pipeline.fit(X_train, y_train)\n",
        "print('Validation Accuracy', pipeline.score(X_val, y_val))"
      ],
      "execution_count": 7,
      "outputs": [
        {
          "output_type": "stream",
          "text": [
            "Validation Accuracy 0.8088383838383838\n",
            "CPU times: user 26 s, sys: 359 ms, total: 26.3 s\n",
            "Wall time: 16.1 s\n"
          ],
          "name": "stdout"
        }
      ]
    },
    {
      "cell_type": "code",
      "metadata": {
        "id": "FS7Dv4nMaoRQ",
        "colab_type": "code",
        "colab": {
          "base_uri": "https://localhost:8080/",
          "height": 52
        },
        "outputId": "eb83223e-1d4e-4725-9a39-3060cc371041"
      },
      "source": [
        "print('X_train shape before encoding', X_train.shape)\n",
        "\n",
        "encoder = pipeline.named_steps['onehotencoder']\n",
        "encoded = encoder.transform(X_train)\n",
        "\n",
        "print('X_train shape after encoding', encoded.shape)"
      ],
      "execution_count": 8,
      "outputs": [
        {
          "output_type": "stream",
          "text": [
            "X_train shape before encoding (47520, 38)\n",
            "X_train shape after encoding (47520, 182)\n"
          ],
          "name": "stdout"
        }
      ]
    },
    {
      "cell_type": "code",
      "metadata": {
        "id": "quiETV82az_I",
        "colab_type": "code",
        "colab": {
          "base_uri": "https://localhost:8080/",
          "height": 607
        },
        "outputId": "90ae0c71-e76c-40dd-dfff-452a195970c6"
      },
      "source": [
        "%matplotlib inline\n",
        "import matplotlib.pyplot as plt\n",
        "\n",
        "# Get feature importances\n",
        "rf = pipeline.named_steps['randomforestclassifier']\n",
        "importances = pd.Series(rf.feature_importances_, encoded.columns)\n",
        "\n",
        "# Plot top n feature importances\n",
        "n = 20\n",
        "plt.figure(figsize=(10,n/2))\n",
        "plt.title(f'Top {n} features')\n",
        "importances.sort_values()[-n:].plot.barh(color='grey');"
      ],
      "execution_count": 9,
      "outputs": [
        {
          "output_type": "display_data",
          "data": {
            "image/png": "[encoded data removed]",
            "text/plain": [
              "<Figure size 720x720 with 1 Axes>"
            ]
          },
          "metadata": {
            "tags": []
          }
        }
      ]
    },
    {
      "cell_type": "code",
      "metadata": {
        "id": "I9GECZpya6nY",
        "colab_type": "code",
        "colab": {
          "base_uri": "https://localhost:8080/",
          "height": 69
        },
        "outputId": "ec61149e-2abe-4913-9834-a33a5e9e718f"
      },
      "source": [
        "%%time\n",
        "\n",
        "# Arrange data into X features matrix and y target vector\n",
        "# so we use *all* features, including the high-cardinality categoricals\n",
        "X_train = train.drop(columns=target)\n",
        "y_train = train[target]\n",
        "X_val = val.drop(columns=target)\n",
        "y_val = val[target]\n",
        "X_test = test\n",
        "\n",
        "# The pipeline is identical to the example cell above, \n",
        "# except we're replacing one-hot encoder with \"ordinal\" encoder\n",
        "pipeline = make_pipeline(\n",
        "    ce.OrdinalEncoder(), \n",
        "    SimpleImputer(strategy='median'), \n",
        "    RandomForestClassifier(n_estimators=100, random_state=0, n_jobs=-1)\n",
        ")\n",
        "\n",
        "# Fit on train, score on val\n",
        "pipeline.fit(X_train, y_train)\n",
        "print('Validation Accuracy', pipeline.score(X_val, y_val))"
      ],
      "execution_count": 10,
      "outputs": [
        {
          "output_type": "stream",
          "text": [
            "Validation Accuracy 0.8092592592592592\n",
            "CPU times: user 19 s, sys: 151 ms, total: 19.2 s\n",
            "Wall time: 10.5 s\n"
          ],
          "name": "stdout"
        }
      ]
    },
    {
      "cell_type": "code",
      "metadata": {
        "id": "xVX7Nr84bAnw",
        "colab_type": "code",
        "colab": {
          "base_uri": "https://localhost:8080/",
          "height": 52
        },
        "outputId": "03140a41-084a-445b-fe73-0b5f14ea828d"
      },
      "source": [
        "print('X_train shape before encoding', X_train.shape)\n",
        "\n",
        "encoder = pipeline.named_steps['ordinalencoder']\n",
        "encoded = encoder.transform(X_train)\n",
        "\n",
        "print('X_train shape after encoding', encoded.shape)"
      ],
      "execution_count": 11,
      "outputs": [
        {
          "output_type": "stream",
          "text": [
            "X_train shape before encoding (47520, 45)\n",
            "X_train shape after encoding (47520, 45)\n"
          ],
          "name": "stdout"
        }
      ]
    },
    {
      "cell_type": "code",
      "metadata": {
        "id": "joLnum90bIxo",
        "colab_type": "code",
        "colab": {
          "base_uri": "https://localhost:8080/",
          "height": 607
        },
        "outputId": "3be07460-ffa7-48a1-8be1-60aae1ace6fd"
      },
      "source": [
        "# Get feature importances\n",
        "rf = pipeline.named_steps['randomforestclassifier']\n",
        "importances = pd.Series(rf.feature_importances_, encoded.columns)\n",
        "\n",
        "# Plot top n feature importances\n",
        "n = 20\n",
        "plt.figure(figsize=(10,n/2))\n",
        "plt.title(f'Top {n} features')\n",
        "importances.sort_values()[-n:].plot.barh(color='grey');"
      ],
      "execution_count": 12,
      "outputs": [
        {
          "output_type": "display_data",
          "data": {
            "image/png": "[encoded data removed]",
            "text/plain": [
              "<Figure size 720x720 with 1 Axes>"
            ]
          },
          "metadata": {
            "tags": []
          }
        }
      ]
    },
    {
      "cell_type": "code",
      "metadata": {
        "id": "hmMGGP-LbMmY",
        "colab_type": "code",
        "colab": {
          "base_uri": "https://localhost:8080/",
          "height": 103
        },
        "outputId": "0333b337-9aeb-4914-caf2-51498b904790"
      },
      "source": [
        "X_train['wpt_name'].describe()"
      ],
      "execution_count": 13,
      "outputs": [
        {
          "output_type": "execute_result",
          "data": {
            "text/plain": [
              "count     47520\n",
              "unique    30661\n",
              "top        none\n",
              "freq       2879\n",
              "Name: wpt_name, dtype: object"
            ]
          },
          "metadata": {
            "tags": []
          },
          "execution_count": 13
        }
      ]
    },
    {
      "cell_type": "code",
      "metadata": {
        "id": "hE8K_gKIbQ4Q",
        "colab_type": "code",
        "colab": {
          "base_uri": "https://localhost:8080/",
          "height": 224
        },
        "outputId": "e800a879-fb25-4f03-dbf1-54fbd91b405f"
      },
      "source": [
        "X_train['wpt_name'].value_counts()"
      ],
      "execution_count": 14,
      "outputs": [
        {
          "output_type": "execute_result",
          "data": {
            "text/plain": [
              "none                   2879\n",
              "Shuleni                1416\n",
              "Zahanati                675\n",
              "Msikitini               424\n",
              "Kanisani                253\n",
              "                       ... \n",
              "Kwa Ruduki Ngonyani       1\n",
              "Kwa Mzee Ndandala         1\n",
              "Chisungwa                 1\n",
              "Kwa Jonatus               1\n",
              "Eau Msigwa                1\n",
              "Name: wpt_name, Length: 30661, dtype: int64"
            ]
          },
          "metadata": {
            "tags": []
          },
          "execution_count": 14
        }
      ]
    },
    {
      "cell_type": "code",
      "metadata": {
        "id": "h07O7QnubTaw",
        "colab_type": "code",
        "colab": {
          "base_uri": "https://localhost:8080/",
          "height": 224
        },
        "outputId": "cb96a708-86fa-49a6-84a8-5ca8701694b3"
      },
      "source": [
        "encoded['wpt_name'].value_counts()"
      ],
      "execution_count": 15,
      "outputs": [
        {
          "output_type": "execute_result",
          "data": {
            "text/plain": [
              "27       2879\n",
              "73       1416\n",
              "8         675\n",
              "69        424\n",
              "46        253\n",
              "         ... \n",
              "2162        1\n",
              "115         1\n",
              "14452       1\n",
              "12405       1\n",
              "2047        1\n",
              "Name: wpt_name, Length: 30661, dtype: int64"
            ]
          },
          "metadata": {
            "tags": []
          },
          "execution_count": 15
        }
      ]
    },
    {
      "cell_type": "code",
      "metadata": {
        "id": "orTsVvmbbWN4",
        "colab_type": "code",
        "colab": {}
      },
      "source": [
        "#categorical exploration:1 feature:\n",
        "feature = 'district_code'"
      ],
      "execution_count": 0,
      "outputs": []
    },
    {
      "cell_type": "code",
      "metadata": {
        "id": "xTzTwU2sbjJ4",
        "colab_type": "code",
        "colab": {
          "base_uri": "https://localhost:8080/",
          "height": 379
        },
        "outputId": "3c075d3e-1c6a-4d8d-f551-5ff249c8eecd"
      },
      "source": [
        "X_train[feature].value_counts()"
      ],
      "execution_count": 43,
      "outputs": [
        {
          "output_type": "execute_result",
          "data": {
            "text/plain": [
              "1     9772\n",
              "2     8917\n",
              "3     8019\n",
              "4     7236\n",
              "5     3479\n",
              "6     3240\n",
              "7     2691\n",
              "8      823\n",
              "30     775\n",
              "33     707\n",
              "53     591\n",
              "43     410\n",
              "13     309\n",
              "23     225\n",
              "63     158\n",
              "62      85\n",
              "60      48\n",
              "0       19\n",
              "80      11\n",
              "67       5\n",
              "Name: district_code, dtype: int64"
            ]
          },
          "metadata": {
            "tags": []
          },
          "execution_count": 43
        }
      ]
    },
    {
      "cell_type": "code",
      "metadata": {
        "id": "J0-rtSE9bmov",
        "colab_type": "code",
        "colab": {
          "base_uri": "https://localhost:8080/",
          "height": 552
        },
        "outputId": "f5e42665-c343-4e89-f71f-c74ffb3467f0"
      },
      "source": [
        "import seaborn as sns\n",
        "plt.figure(figsize=(16,9))\n",
        "sns.barplot(\n",
        "    x=train[feature], \n",
        "    y=train['status_group']=='functional', \n",
        "    color='grey'\n",
        ");"
      ],
      "execution_count": 44,
      "outputs": [
        {
          "output_type": "display_data",
          "data": {
            "image/png": "[encoded data removed]",
            "text/plain": [
              "<Figure size 1152x648 with 1 Axes>"
            ]
          },
          "metadata": {
            "tags": []
          }
        }
      ]
    },
    {
      "cell_type": "code",
      "metadata": {
        "id": "VVics6kybp5g",
        "colab_type": "code",
        "colab": {
          "base_uri": "https://localhost:8080/",
          "height": 379
        },
        "outputId": "8e752e55-7c0a-448a-93b9-78cfca5d8df4"
      },
      "source": [
        "X_train[feature].head(20)"
      ],
      "execution_count": 45,
      "outputs": [
        {
          "output_type": "execute_result",
          "data": {
            "text/plain": [
              "43360     4\n",
              "7263      4\n",
              "2486      1\n",
              "313       1\n",
              "52726     6\n",
              "8558      2\n",
              "2559      2\n",
              "54735     1\n",
              "25763     6\n",
              "44540     7\n",
              "28603    33\n",
              "4372      5\n",
              "30666     6\n",
              "6431      1\n",
              "57420     7\n",
              "1373      4\n",
              "2026      2\n",
              "58977    43\n",
              "41101     3\n",
              "10019    30\n",
              "Name: district_code, dtype: int64"
            ]
          },
          "metadata": {
            "tags": []
          },
          "execution_count": 45
        }
      ]
    },
    {
      "cell_type": "code",
      "metadata": {
        "id": "IQxIqMlIbt7_",
        "colab_type": "code",
        "colab": {
          "base_uri": "https://localhost:8080/",
          "height": 687
        },
        "outputId": "44dda5b1-fee9-4b17-9bf2-fc6ee4662c1a"
      },
      "source": [
        "encoder = ce.OneHotEncoder(use_cat_names=True)\n",
        "encoded = encoder.fit_transform(X_train[[feature]])\n",
        "print(f'{len(encoded.columns)} columns')\n",
        "encoded.head(20)"
      ],
      "execution_count": 46,
      "outputs": [
        {
          "output_type": "stream",
          "text": [
            "1 columns\n"
          ],
          "name": "stdout"
        },
        {
          "output_type": "execute_result",
          "data": {
            "text/html": [
              "<div>\n",
              "<style scoped>\n",
              "    .dataframe tbody tr th:only-of-type {\n",
              "        vertical-align: middle;\n",
              "    }\n",
              "\n",
              "    .dataframe tbody tr th {\n",
              "        vertical-align: top;\n",
              "    }\n",
              "\n",
              "    .dataframe thead th {\n",
              "        text-align: right;\n",
              "    }\n",
              "</style>\n",
              "<table border=\"1\" class=\"dataframe\">\n",
              "  <thead>\n",
              "    <tr style=\"text-align: right;\">\n",
              "      <th></th>\n",
              "      <th>district_code</th>\n",
              "    </tr>\n",
              "  </thead>\n",
              "  <tbody>\n",
              "    <tr>\n",
              "      <th>43360</th>\n",
              "      <td>4</td>\n",
              "    </tr>\n",
              "    <tr>\n",
              "      <th>7263</th>\n",
              "      <td>4</td>\n",
              "    </tr>\n",
              "    <tr>\n",
              "      <th>2486</th>\n",
              "      <td>1</td>\n",
              "    </tr>\n",
              "    <tr>\n",
              "      <th>313</th>\n",
              "      <td>1</td>\n",
              "    </tr>\n",
              "    <tr>\n",
              "      <th>52726</th>\n",
              "      <td>6</td>\n",
              "    </tr>\n",
              "    <tr>\n",
              "      <th>8558</th>\n",
              "      <td>2</td>\n",
              "    </tr>\n",
              "    <tr>\n",
              "      <th>2559</th>\n",
              "      <td>2</td>\n",
              "    </tr>\n",
              "    <tr>\n",
              "      <th>54735</th>\n",
              "      <td>1</td>\n",
              "    </tr>\n",
              "    <tr>\n",
              "      <th>25763</th>\n",
              "      <td>6</td>\n",
              "    </tr>\n",
              "    <tr>\n",
              "      <th>44540</th>\n",
              "      <td>7</td>\n",
              "    </tr>\n",
              "    <tr>\n",
              "      <th>28603</th>\n",
              "      <td>33</td>\n",
              "    </tr>\n",
              "    <tr>\n",
              "      <th>4372</th>\n",
              "      <td>5</td>\n",
              "    </tr>\n",
              "    <tr>\n",
              "      <th>30666</th>\n",
              "      <td>6</td>\n",
              "    </tr>\n",
              "    <tr>\n",
              "      <th>6431</th>\n",
              "      <td>1</td>\n",
              "    </tr>\n",
              "    <tr>\n",
              "      <th>57420</th>\n",
              "      <td>7</td>\n",
              "    </tr>\n",
              "    <tr>\n",
              "      <th>1373</th>\n",
              "      <td>4</td>\n",
              "    </tr>\n",
              "    <tr>\n",
              "      <th>2026</th>\n",
              "      <td>2</td>\n",
              "    </tr>\n",
              "    <tr>\n",
              "      <th>58977</th>\n",
              "      <td>43</td>\n",
              "    </tr>\n",
              "    <tr>\n",
              "      <th>41101</th>\n",
              "      <td>3</td>\n",
              "    </tr>\n",
              "    <tr>\n",
              "      <th>10019</th>\n",
              "      <td>30</td>\n",
              "    </tr>\n",
              "  </tbody>\n",
              "</table>\n",
              "</div>"
            ],
            "text/plain": [
              "       district_code\n",
              "43360              4\n",
              "7263               4\n",
              "2486               1\n",
              "313                1\n",
              "52726              6\n",
              "8558               2\n",
              "2559               2\n",
              "54735              1\n",
              "25763              6\n",
              "44540              7\n",
              "28603             33\n",
              "4372               5\n",
              "30666              6\n",
              "6431               1\n",
              "57420              7\n",
              "1373               4\n",
              "2026               2\n",
              "58977             43\n",
              "41101              3\n",
              "10019             30"
            ]
          },
          "metadata": {
            "tags": []
          },
          "execution_count": 46
        }
      ]
    },
    {
      "cell_type": "code",
      "metadata": {
        "id": "K8OmkFI4by7P",
        "colab_type": "code",
        "colab": {
          "base_uri": "https://localhost:8080/",
          "height": 34
        },
        "outputId": "ab1a4328-4726-4bf6-80d4-5af1599dab07"
      },
      "source": [
        "#One-Hot Encoding, Logistic Regression, Validation Accuracy\n",
        "from sklearn.linear_model import LogisticRegressionCV\n",
        "from sklearn.preprocessing import StandardScaler\n",
        "\n",
        "lr = make_pipeline(\n",
        "    ce.OneHotEncoder(use_cat_names=True), \n",
        "    SimpleImputer(), \n",
        "    StandardScaler(), \n",
        "    LogisticRegressionCV(multi_class='auto', solver='lbfgs', cv=5, n_jobs=-1)\n",
        ")\n",
        "\n",
        "lr.fit(X_train[[feature]], y_train)\n",
        "score = lr.score(X_val[[feature]], y_val)\n",
        "print('Logistic Regression, Validation Accuracy', score)"
      ],
      "execution_count": 47,
      "outputs": [
        {
          "output_type": "stream",
          "text": [
            "Logistic Regression, Validation Accuracy 0.5576599326599326\n"
          ],
          "name": "stdout"
        }
      ]
    },
    {
      "cell_type": "code",
      "metadata": {
        "id": "GWvOvnpRb9eH",
        "colab_type": "code",
        "colab": {
          "base_uri": "https://localhost:8080/",
          "height": 34
        },
        "outputId": "44aa16a9-d7eb-46ef-ab3e-a97726bd3979"
      },
      "source": [
        "#One-Hot Encoding, Decision Tree, Validation Accuracy\n",
        "from sklearn.tree import DecisionTreeClassifier\n",
        "\n",
        "dt = make_pipeline(\n",
        "    ce.OneHotEncoder(use_cat_names=True), \n",
        "    SimpleImputer(), \n",
        "    DecisionTreeClassifier(random_state=42)\n",
        ")\n",
        "\n",
        "dt.fit(X_train[[feature]], y_train)\n",
        "score = dt.score(X_val[[feature]], y_val)\n",
        "print('Decision Tree, Validation Accuracy', score)"
      ],
      "execution_count": 48,
      "outputs": [
        {
          "output_type": "stream",
          "text": [
            "Decision Tree, Validation Accuracy 0.561026936026936\n"
          ],
          "name": "stdout"
        }
      ]
    },
    {
      "cell_type": "code",
      "metadata": {
        "id": "zUPfDjmMcGc3",
        "colab_type": "code",
        "colab": {
          "base_uri": "https://localhost:8080/",
          "height": 265
        },
        "outputId": "213a5c03-b0ef-44e0-bc69-d9c4498ed20f"
      },
      "source": [
        "#One-Hot Encoding, Logistic Regression, Model Interpretation\n",
        "model = lr.named_steps['logisticregressioncv']\n",
        "encoder = lr.named_steps['onehotencoder']\n",
        "encoded_columns = encoder.transform(X_val[[feature]]).columns\n",
        "coefficients = pd.Series(model.coef_[0], encoded_columns)\n",
        "coefficients.sort_values().plot.barh(color='grey');"
      ],
      "execution_count": 49,
      "outputs": [
        {
          "output_type": "display_data",
          "data": {
            "image/png": "[encoded data removed]",
            "text/plain": [
              "<Figure size 432x288 with 1 Axes>"
            ]
          },
          "metadata": {
            "tags": []
          }
        }
      ]
    },
    {
      "cell_type": "code",
      "metadata": {
        "id": "0LmmnU8ecOK2",
        "colab_type": "code",
        "colab": {
          "base_uri": "https://localhost:8080/",
          "height": 1000
        },
        "outputId": "1cf1c1fb-a8c8-484c-d177-c63b59b5d38d"
      },
      "source": [
        "#One-Hot Encoding, Decision Tree, Model Interpretation\n",
        "import graphviz\n",
        "from sklearn.tree import export_graphviz\n",
        "\n",
        "model = dt.named_steps['decisiontreeclassifier']\n",
        "encoder = dt.named_steps['onehotencoder']\n",
        "encoded_columns = encoder.transform(X_val[[feature]]).columns\n",
        "\n",
        "dot_data = export_graphviz(model, \n",
        "                           out_file=None, \n",
        "                           max_depth=7, \n",
        "                           feature_names=encoded_columns,\n",
        "                           class_names=model.classes_, \n",
        "                           impurity=False, \n",
        "                           filled=True, \n",
        "                           proportion=True, \n",
        "                           rounded=True)   \n",
        "display(graphviz.Source(dot_data))"
      ],
      "execution_count": 50,
      "outputs": [
        {
          "output_type": "display_data",
          "data": {
            "text/plain": [
              "<graphviz.files.Source at 0x7f18a2ebdf98>"
            ],
            "image/svg+xml": "<?xml version=\"1.0\" encoding=\"UTF-8\" standalone=\"no\"?>\n<!DOCTYPE svg PUBLIC \"-//W3C//DTD SVG 1.1//EN\"\n \"http://www.w3.org/Graphics/SVG/1.1/DTD/svg11.dtd\">\n<!-- Generated by graphviz version 2.40.1 (20161225.0304)\n -->\n<!-- Title: Tree Pages: 1 -->\n<svg width=\"2217pt\" height=\"789pt\"\n viewBox=\"0.00 0.00 2217.00 789.00\" xmlns=\"http://www.w3.org/2000/svg\" xmlns:xlink=\"http://www.w3.org/1999/xlink\">\n<g id=\"graph0\" class=\"graph\" transform=\"scale(1 1) rotate(0) translate(4 785)\">\n<title>Tree</title>\n<polygon fill=\"#ffffff\" stroke=\"transparent\" points=\"-4,4 -4,-785 2213,-785 2213,4 -4,4\"/>\n<!-- 0 -->\n<g id=\"node1\" class=\"node\">\n<title>0</title>\n<path fill=\"#f8decc\" stroke=\"#000000\" d=\"M1052,-781C1052,-781 876,-781 876,-781 870,-781 864,-775 864,-769 864,-769 864,-725 864,-725 864,-719 870,-713 876,-713 876,-713 1052,-713 1052,-713 1058,-713 1064,-719 1064,-725 1064,-725 1064,-769 1064,-769 1064,-775 1058,-781 1052,-781\"/>\n<text text-anchor=\"middle\" x=\"964\" y=\"-765.8\" font-family=\"Helvetica,sans-Serif\" font-size=\"14.00\" fill=\"#000000\">district_code &lt;= 31.5</text>\n<text text-anchor=\"middle\" x=\"964\" y=\"-750.8\" font-family=\"Helvetica,sans-Serif\" font-size=\"14.00\" fill=\"#000000\">samples = 100.0%</text>\n<text text-anchor=\"middle\" x=\"964\" y=\"-735.8\" font-family=\"Helvetica,sans-Serif\" font-size=\"14.00\" fill=\"#000000\">value = [0.543, 0.073, 0.384]</text>\n<text text-anchor=\"middle\" x=\"964\" y=\"-720.8\" font-family=\"Helvetica,sans-Serif\" font-size=\"14.00\" fill=\"#000000\">class = functional</text>\n</g>\n<!-- 1 -->\n<g id=\"node2\" class=\"node\">\n<title>1</title>\n<path fill=\"#f8dbc7\" stroke=\"#000000\" d=\"M838,-677C838,-677 662,-677 662,-677 656,-677 650,-671 650,-665 650,-665 650,-621 650,-621 650,-615 656,-609 662,-609 662,-609 838,-609 838,-609 844,-609 850,-615 850,-621 850,-621 850,-665 850,-665 850,-671 844,-677 838,-677\"/>\n<text text-anchor=\"middle\" x=\"750\" y=\"-661.8\" font-family=\"Helvetica,sans-Serif\" font-size=\"14.00\" fill=\"#000000\">district_code &lt;= 3.5</text>\n<text text-anchor=\"middle\" x=\"750\" y=\"-646.8\" font-family=\"Helvetica,sans-Serif\" font-size=\"14.00\" fill=\"#000000\">samples = 95.8%</text>\n<text text-anchor=\"middle\" x=\"750\" y=\"-631.8\" font-family=\"Helvetica,sans-Serif\" font-size=\"14.00\" fill=\"#000000\">value = [0.552, 0.073, 0.375]</text>\n<text text-anchor=\"middle\" x=\"750\" y=\"-616.8\" font-family=\"Helvetica,sans-Serif\" font-size=\"14.00\" fill=\"#000000\">class = functional</text>\n</g>\n<!-- 0&#45;&gt;1 -->\n<g id=\"edge1\" class=\"edge\">\n<title>0&#45;&gt;1</title>\n<path fill=\"none\" stroke=\"#000000\" d=\"M893.9284,-712.9465C873.3287,-702.9354 850.6476,-691.9129 829.5033,-681.6371\"/>\n<polygon fill=\"#000000\" stroke=\"#000000\" points=\"830.753,-678.3531 820.229,-677.13 827.6933,-684.649 830.753,-678.3531\"/>\n<text text-anchor=\"middle\" x=\"828.4017\" y=\"-697.0564\" font-family=\"Helvetica,sans-Serif\" font-size=\"14.00\" fill=\"#000000\">True</text>\n</g>\n<!-- 24 -->\n<g id=\"node25\" class=\"node\">\n<title>24</title>\n<path fill=\"#cdb1f5\" stroke=\"#000000\" d=\"M1083,-677C1083,-677 907,-677 907,-677 901,-677 895,-671 895,-665 895,-665 895,-621 895,-621 895,-615 901,-609 907,-609 907,-609 1083,-609 1083,-609 1089,-609 1095,-615 1095,-621 1095,-621 1095,-665 1095,-665 1095,-671 1089,-677 1083,-677\"/>\n<text text-anchor=\"middle\" x=\"995\" y=\"-661.8\" font-family=\"Helvetica,sans-Serif\" font-size=\"14.00\" fill=\"#000000\">district_code &lt;= 38.0</text>\n<text text-anchor=\"middle\" x=\"995\" y=\"-646.8\" font-family=\"Helvetica,sans-Serif\" font-size=\"14.00\" fill=\"#000000\">samples = 4.2%</text>\n<text text-anchor=\"middle\" x=\"995\" y=\"-631.8\" font-family=\"Helvetica,sans-Serif\" font-size=\"14.00\" fill=\"#000000\">value = [0.339, 0.062, 0.599]</text>\n<text text-anchor=\"middle\" x=\"995\" y=\"-616.8\" font-family=\"Helvetica,sans-Serif\" font-size=\"14.00\" fill=\"#000000\">class = non functional</text>\n</g>\n<!-- 0&#45;&gt;24 -->\n<g id=\"edge24\" class=\"edge\">\n<title>0&#45;&gt;24</title>\n<path fill=\"none\" stroke=\"#000000\" d=\"M974.1506,-712.9465C976.6395,-704.5965 979.3382,-695.5427 981.9426,-686.8056\"/>\n<polygon fill=\"#000000\" stroke=\"#000000\" points=\"985.3242,-687.7131 984.8266,-677.13 978.6158,-685.7135 985.3242,-687.7131\"/>\n<text text-anchor=\"middle\" x=\"996.718\" y=\"-695.4208\" font-family=\"Helvetica,sans-Serif\" font-size=\"14.00\" fill=\"#000000\">False</text>\n</g>\n<!-- 2 -->\n<g id=\"node3\" class=\"node\">\n<title>2</title>\n<path fill=\"#f9e1d0\" stroke=\"#000000\" d=\"M594,-573C594,-573 426,-573 426,-573 420,-573 414,-567 414,-561 414,-561 414,-517 414,-517 414,-511 420,-505 426,-505 426,-505 594,-505 594,-505 600,-505 606,-511 606,-517 606,-517 606,-561 606,-561 606,-567 600,-573 594,-573\"/>\n<text text-anchor=\"middle\" x=\"510\" y=\"-557.8\" font-family=\"Helvetica,sans-Serif\" font-size=\"14.00\" fill=\"#000000\">district_code &lt;= 2.5</text>\n<text text-anchor=\"middle\" x=\"510\" y=\"-542.8\" font-family=\"Helvetica,sans-Serif\" font-size=\"14.00\" fill=\"#000000\">samples = 56.2%</text>\n<text text-anchor=\"middle\" x=\"510\" y=\"-527.8\" font-family=\"Helvetica,sans-Serif\" font-size=\"14.00\" fill=\"#000000\">value = [0.53, 0.085, 0.385]</text>\n<text text-anchor=\"middle\" x=\"510\" y=\"-512.8\" font-family=\"Helvetica,sans-Serif\" font-size=\"14.00\" fill=\"#000000\">class = functional</text>\n</g>\n<!-- 1&#45;&gt;2 -->\n<g id=\"edge2\" class=\"edge\">\n<title>1&#45;&gt;2</title>\n<path fill=\"none\" stroke=\"#000000\" d=\"M671.415,-608.9465C648.0018,-598.8008 622.191,-587.6161 598.2065,-577.2228\"/>\n<polygon fill=\"#000000\" stroke=\"#000000\" points=\"599.3287,-573.8947 588.7615,-573.13 596.5454,-580.3176 599.3287,-573.8947\"/>\n</g>\n<!-- 9 -->\n<g id=\"node10\" class=\"node\">\n<title>9</title>\n<path fill=\"#f6d3ba\" stroke=\"#000000\" d=\"M834,-573C834,-573 666,-573 666,-573 660,-573 654,-567 654,-561 654,-561 654,-517 654,-517 654,-511 660,-505 666,-505 666,-505 834,-505 834,-505 840,-505 846,-511 846,-517 846,-517 846,-561 846,-561 846,-567 840,-573 834,-573\"/>\n<text text-anchor=\"middle\" x=\"750\" y=\"-557.8\" font-family=\"Helvetica,sans-Serif\" font-size=\"14.00\" fill=\"#000000\">district_code &lt;= 4.5</text>\n<text text-anchor=\"middle\" x=\"750\" y=\"-542.8\" font-family=\"Helvetica,sans-Serif\" font-size=\"14.00\" fill=\"#000000\">samples = 39.5%</text>\n<text text-anchor=\"middle\" x=\"750\" y=\"-527.8\" font-family=\"Helvetica,sans-Serif\" font-size=\"14.00\" fill=\"#000000\">value = [0.583, 0.057, 0.36]</text>\n<text text-anchor=\"middle\" x=\"750\" y=\"-512.8\" font-family=\"Helvetica,sans-Serif\" font-size=\"14.00\" fill=\"#000000\">class = functional</text>\n</g>\n<!-- 1&#45;&gt;9 -->\n<g id=\"edge9\" class=\"edge\">\n<title>1&#45;&gt;9</title>\n<path fill=\"none\" stroke=\"#000000\" d=\"M750,-608.9465C750,-600.776 750,-591.9318 750,-583.3697\"/>\n<polygon fill=\"#000000\" stroke=\"#000000\" points=\"753.5001,-583.13 750,-573.13 746.5001,-583.13 753.5001,-583.13\"/>\n</g>\n<!-- 3 -->\n<g id=\"node4\" class=\"node\">\n<title>3</title>\n<path fill=\"#f8dbc7\" stroke=\"#000000\" d=\"M384,-469C384,-469 208,-469 208,-469 202,-469 196,-463 196,-457 196,-457 196,-413 196,-413 196,-407 202,-401 208,-401 208,-401 384,-401 384,-401 390,-401 396,-407 396,-413 396,-413 396,-457 396,-457 396,-463 390,-469 384,-469\"/>\n<text text-anchor=\"middle\" x=\"296\" y=\"-453.8\" font-family=\"Helvetica,sans-Serif\" font-size=\"14.00\" fill=\"#000000\">district_code &lt;= 1.5</text>\n<text text-anchor=\"middle\" x=\"296\" y=\"-438.8\" font-family=\"Helvetica,sans-Serif\" font-size=\"14.00\" fill=\"#000000\">samples = 39.4%</text>\n<text text-anchor=\"middle\" x=\"296\" y=\"-423.8\" font-family=\"Helvetica,sans-Serif\" font-size=\"14.00\" fill=\"#000000\">value = [0.544, 0.091, 0.365]</text>\n<text text-anchor=\"middle\" x=\"296\" y=\"-408.8\" font-family=\"Helvetica,sans-Serif\" font-size=\"14.00\" fill=\"#000000\">class = functional</text>\n</g>\n<!-- 2&#45;&gt;3 -->\n<g id=\"edge3\" class=\"edge\">\n<title>2&#45;&gt;3</title>\n<path fill=\"none\" stroke=\"#000000\" d=\"M439.9284,-504.9465C419.3287,-494.9354 396.6476,-483.9129 375.5033,-473.6371\"/>\n<polygon fill=\"#000000\" stroke=\"#000000\" points=\"376.753,-470.3531 366.229,-469.13 373.6933,-476.649 376.753,-470.3531\"/>\n</g>\n<!-- 8 -->\n<g id=\"node9\" class=\"node\">\n<title>8</title>\n<path fill=\"#fcf0e8\" stroke=\"#000000\" d=\"M594,-461.5C594,-461.5 426,-461.5 426,-461.5 420,-461.5 414,-455.5 414,-449.5 414,-449.5 414,-420.5 414,-420.5 414,-414.5 420,-408.5 426,-408.5 426,-408.5 594,-408.5 594,-408.5 600,-408.5 606,-414.5 606,-420.5 606,-420.5 606,-449.5 606,-449.5 606,-455.5 600,-461.5 594,-461.5\"/>\n<text text-anchor=\"middle\" x=\"510\" y=\"-446.3\" font-family=\"Helvetica,sans-Serif\" font-size=\"14.00\" fill=\"#000000\">samples = 16.9%</text>\n<text text-anchor=\"middle\" x=\"510\" y=\"-431.3\" font-family=\"Helvetica,sans-Serif\" font-size=\"14.00\" fill=\"#000000\">value = [0.498, 0.07, 0.432]</text>\n<text text-anchor=\"middle\" x=\"510\" y=\"-416.3\" font-family=\"Helvetica,sans-Serif\" font-size=\"14.00\" fill=\"#000000\">class = functional</text>\n</g>\n<!-- 2&#45;&gt;8 -->\n<g id=\"edge8\" class=\"edge\">\n<title>2&#45;&gt;8</title>\n<path fill=\"none\" stroke=\"#000000\" d=\"M510,-504.9465C510,-494.2621 510,-482.4254 510,-471.5742\"/>\n<polygon fill=\"#000000\" stroke=\"#000000\" points=\"513.5001,-471.5421 510,-461.5422 506.5001,-471.5422 513.5001,-471.5421\"/>\n</g>\n<!-- 4 -->\n<g id=\"node5\" class=\"node\">\n<title>4</title>\n<path fill=\"#f8dcc7\" stroke=\"#000000\" d=\"M295,-365C295,-365 119,-365 119,-365 113,-365 107,-359 107,-353 107,-353 107,-309 107,-309 107,-303 113,-297 119,-297 119,-297 295,-297 295,-297 301,-297 307,-303 307,-309 307,-309 307,-353 307,-353 307,-359 301,-365 295,-365\"/>\n<text text-anchor=\"middle\" x=\"207\" y=\"-349.8\" font-family=\"Helvetica,sans-Serif\" font-size=\"14.00\" fill=\"#000000\">district_code &lt;= 0.5</text>\n<text text-anchor=\"middle\" x=\"207\" y=\"-334.8\" font-family=\"Helvetica,sans-Serif\" font-size=\"14.00\" fill=\"#000000\">samples = 20.6%</text>\n<text text-anchor=\"middle\" x=\"207\" y=\"-319.8\" font-family=\"Helvetica,sans-Serif\" font-size=\"14.00\" fill=\"#000000\">value = [0.538, 0.105, 0.357]</text>\n<text text-anchor=\"middle\" x=\"207\" y=\"-304.8\" font-family=\"Helvetica,sans-Serif\" font-size=\"14.00\" fill=\"#000000\">class = functional</text>\n</g>\n<!-- 3&#45;&gt;4 -->\n<g id=\"edge4\" class=\"edge\">\n<title>3&#45;&gt;4</title>\n<path fill=\"none\" stroke=\"#000000\" d=\"M266.8581,-400.9465C259.1745,-391.968 250.7947,-382.1758 242.8041,-372.8385\"/>\n<polygon fill=\"#000000\" stroke=\"#000000\" points=\"245.3685,-370.4521 236.2074,-365.13 240.0501,-375.0034 245.3685,-370.4521\"/>\n</g>\n<!-- 7 -->\n<g id=\"node8\" class=\"node\">\n<title>7</title>\n<path fill=\"#f8dbc7\" stroke=\"#000000\" d=\"M513,-357.5C513,-357.5 337,-357.5 337,-357.5 331,-357.5 325,-351.5 325,-345.5 325,-345.5 325,-316.5 325,-316.5 325,-310.5 331,-304.5 337,-304.5 337,-304.5 513,-304.5 513,-304.5 519,-304.5 525,-310.5 525,-316.5 525,-316.5 525,-345.5 525,-345.5 525,-351.5 519,-357.5 513,-357.5\"/>\n<text text-anchor=\"middle\" x=\"425\" y=\"-342.3\" font-family=\"Helvetica,sans-Serif\" font-size=\"14.00\" fill=\"#000000\">samples = 18.8%</text>\n<text text-anchor=\"middle\" x=\"425\" y=\"-327.3\" font-family=\"Helvetica,sans-Serif\" font-size=\"14.00\" fill=\"#000000\">value = [0.551, 0.076, 0.373]</text>\n<text text-anchor=\"middle\" x=\"425\" y=\"-312.3\" font-family=\"Helvetica,sans-Serif\" font-size=\"14.00\" fill=\"#000000\">class = functional</text>\n</g>\n<!-- 3&#45;&gt;7 -->\n<g id=\"edge7\" class=\"edge\">\n<title>3&#45;&gt;7</title>\n<path fill=\"none\" stroke=\"#000000\" d=\"M338.2394,-400.9465C352.9952,-389.0504 369.5225,-375.726 384.162,-363.9237\"/>\n<polygon fill=\"#000000\" stroke=\"#000000\" points=\"386.4891,-366.5433 392.0775,-357.5422 382.0957,-361.0938 386.4891,-366.5433\"/>\n</g>\n<!-- 5 -->\n<g id=\"node6\" class=\"node\">\n<title>5</title>\n<path fill=\"#b388ef\" stroke=\"#000000\" d=\"M188,-253.5C188,-253.5 12,-253.5 12,-253.5 6,-253.5 0,-247.5 0,-241.5 0,-241.5 0,-212.5 0,-212.5 0,-206.5 6,-200.5 12,-200.5 12,-200.5 188,-200.5 188,-200.5 194,-200.5 200,-206.5 200,-212.5 200,-212.5 200,-241.5 200,-241.5 200,-247.5 194,-253.5 188,-253.5\"/>\n<text text-anchor=\"middle\" x=\"100\" y=\"-238.3\" font-family=\"Helvetica,sans-Serif\" font-size=\"14.00\" fill=\"#000000\">samples = 0.0%</text>\n<text text-anchor=\"middle\" x=\"100\" y=\"-223.3\" font-family=\"Helvetica,sans-Serif\" font-size=\"14.00\" fill=\"#000000\">value = [0.211, 0.105, 0.684]</text>\n<text text-anchor=\"middle\" x=\"100\" y=\"-208.3\" font-family=\"Helvetica,sans-Serif\" font-size=\"14.00\" fill=\"#000000\">class = non functional</text>\n</g>\n<!-- 4&#45;&gt;5 -->\n<g id=\"edge5\" class=\"edge\">\n<title>4&#45;&gt;5</title>\n<path fill=\"none\" stroke=\"#000000\" d=\"M171.9642,-296.9465C159.9516,-285.2707 146.5234,-272.219 134.5496,-260.5809\"/>\n<polygon fill=\"#000000\" stroke=\"#000000\" points=\"136.9182,-258.0022 127.3078,-253.5422 132.0393,-263.0218 136.9182,-258.0022\"/>\n</g>\n<!-- 6 -->\n<g id=\"node7\" class=\"node\">\n<title>6</title>\n<path fill=\"#f8dbc7\" stroke=\"#000000\" d=\"M406,-253.5C406,-253.5 230,-253.5 230,-253.5 224,-253.5 218,-247.5 218,-241.5 218,-241.5 218,-212.5 218,-212.5 218,-206.5 224,-200.5 230,-200.5 230,-200.5 406,-200.5 406,-200.5 412,-200.5 418,-206.5 418,-212.5 418,-212.5 418,-241.5 418,-241.5 418,-247.5 412,-253.5 406,-253.5\"/>\n<text text-anchor=\"middle\" x=\"318\" y=\"-238.3\" font-family=\"Helvetica,sans-Serif\" font-size=\"14.00\" fill=\"#000000\">samples = 20.6%</text>\n<text text-anchor=\"middle\" x=\"318\" y=\"-223.3\" font-family=\"Helvetica,sans-Serif\" font-size=\"14.00\" fill=\"#000000\">value = [0.538, 0.105, 0.357]</text>\n<text text-anchor=\"middle\" x=\"318\" y=\"-208.3\" font-family=\"Helvetica,sans-Serif\" font-size=\"14.00\" fill=\"#000000\">class = functional</text>\n</g>\n<!-- 4&#45;&gt;6 -->\n<g id=\"edge6\" class=\"edge\">\n<title>4&#45;&gt;6</title>\n<path fill=\"none\" stroke=\"#000000\" d=\"M243.3456,-296.9465C255.8072,-285.2707 269.7374,-272.219 282.1588,-260.5809\"/>\n<polygon fill=\"#000000\" stroke=\"#000000\" points=\"284.7669,-262.9335 289.6713,-253.5422 279.9809,-257.8253 284.7669,-262.9335\"/>\n</g>\n<!-- 10 -->\n<g id=\"node11\" class=\"node\">\n<title>10</title>\n<path fill=\"#f4c8a8\" stroke=\"#000000\" d=\"M812,-461.5C812,-461.5 636,-461.5 636,-461.5 630,-461.5 624,-455.5 624,-449.5 624,-449.5 624,-420.5 624,-420.5 624,-414.5 630,-408.5 636,-408.5 636,-408.5 812,-408.5 812,-408.5 818,-408.5 824,-414.5 824,-420.5 824,-420.5 824,-449.5 824,-449.5 824,-455.5 818,-461.5 812,-461.5\"/>\n<text text-anchor=\"middle\" x=\"724\" y=\"-446.3\" font-family=\"Helvetica,sans-Serif\" font-size=\"14.00\" fill=\"#000000\">samples = 15.2%</text>\n<text text-anchor=\"middle\" x=\"724\" y=\"-431.3\" font-family=\"Helvetica,sans-Serif\" font-size=\"14.00\" fill=\"#000000\">value = [0.621, 0.057, 0.323]</text>\n<text text-anchor=\"middle\" x=\"724\" y=\"-416.3\" font-family=\"Helvetica,sans-Serif\" font-size=\"14.00\" fill=\"#000000\">class = functional</text>\n</g>\n<!-- 9&#45;&gt;10 -->\n<g id=\"edge10\" class=\"edge\">\n<title>9&#45;&gt;10</title>\n<path fill=\"none\" stroke=\"#000000\" d=\"M741.4866,-504.9465C738.8155,-494.2621 735.8564,-482.4254 733.1436,-471.5742\"/>\n<polygon fill=\"#000000\" stroke=\"#000000\" points=\"736.4565,-470.3947 730.6355,-461.5422 729.6655,-472.0925 736.4565,-470.3947\"/>\n</g>\n<!-- 11 -->\n<g id=\"node12\" class=\"node\">\n<title>11</title>\n<path fill=\"#f8dbc6\" stroke=\"#000000\" d=\"M1022,-469C1022,-469 854,-469 854,-469 848,-469 842,-463 842,-457 842,-457 842,-413 842,-413 842,-407 848,-401 854,-401 854,-401 1022,-401 1022,-401 1028,-401 1034,-407 1034,-413 1034,-413 1034,-457 1034,-457 1034,-463 1028,-469 1022,-469\"/>\n<text text-anchor=\"middle\" x=\"938\" y=\"-453.8\" font-family=\"Helvetica,sans-Serif\" font-size=\"14.00\" fill=\"#000000\">district_code &lt;= 26.5</text>\n<text text-anchor=\"middle\" x=\"938\" y=\"-438.8\" font-family=\"Helvetica,sans-Serif\" font-size=\"14.00\" fill=\"#000000\">samples = 24.3%</text>\n<text text-anchor=\"middle\" x=\"938\" y=\"-423.8\" font-family=\"Helvetica,sans-Serif\" font-size=\"14.00\" fill=\"#000000\">value = [0.56, 0.057, 0.384]</text>\n<text text-anchor=\"middle\" x=\"938\" y=\"-408.8\" font-family=\"Helvetica,sans-Serif\" font-size=\"14.00\" fill=\"#000000\">class = functional</text>\n</g>\n<!-- 9&#45;&gt;11 -->\n<g id=\"edge11\" class=\"edge\">\n<title>9&#45;&gt;11</title>\n<path fill=\"none\" stroke=\"#000000\" d=\"M811.5582,-504.9465C829.4117,-495.0701 849.0448,-484.2093 867.4056,-474.0522\"/>\n<polygon fill=\"#000000\" stroke=\"#000000\" points=\"869.2473,-477.0333 876.3035,-469.13 865.8589,-470.908 869.2473,-477.0333\"/>\n</g>\n<!-- 12 -->\n<g id=\"node13\" class=\"node\">\n<title>12</title>\n<path fill=\"#f8dfcd\" stroke=\"#000000\" d=\"M812,-365C812,-365 636,-365 636,-365 630,-365 624,-359 624,-353 624,-353 624,-309 624,-309 624,-303 630,-297 636,-297 636,-297 812,-297 812,-297 818,-297 824,-303 824,-309 824,-309 824,-353 824,-353 824,-359 818,-365 812,-365\"/>\n<text text-anchor=\"middle\" x=\"724\" y=\"-349.8\" font-family=\"Helvetica,sans-Serif\" font-size=\"14.00\" fill=\"#000000\">district_code &lt;= 10.5</text>\n<text text-anchor=\"middle\" x=\"724\" y=\"-334.8\" font-family=\"Helvetica,sans-Serif\" font-size=\"14.00\" fill=\"#000000\">samples = 22.7%</text>\n<text text-anchor=\"middle\" x=\"724\" y=\"-319.8\" font-family=\"Helvetica,sans-Serif\" font-size=\"14.00\" fill=\"#000000\">value = [0.549, 0.055, 0.396]</text>\n<text text-anchor=\"middle\" x=\"724\" y=\"-304.8\" font-family=\"Helvetica,sans-Serif\" font-size=\"14.00\" fill=\"#000000\">class = functional</text>\n</g>\n<!-- 11&#45;&gt;12 -->\n<g id=\"edge12\" class=\"edge\">\n<title>11&#45;&gt;12</title>\n<path fill=\"none\" stroke=\"#000000\" d=\"M867.9284,-400.9465C847.3287,-390.9354 824.6476,-379.9129 803.5033,-369.6371\"/>\n<polygon fill=\"#000000\" stroke=\"#000000\" points=\"804.753,-366.3531 794.229,-365.13 801.6933,-372.649 804.753,-366.3531\"/>\n</g>\n<!-- 23 -->\n<g id=\"node24\" class=\"node\">\n<title>23</title>\n<path fill=\"#efb083\" stroke=\"#000000\" d=\"M1022,-357.5C1022,-357.5 854,-357.5 854,-357.5 848,-357.5 842,-351.5 842,-345.5 842,-345.5 842,-316.5 842,-316.5 842,-310.5 848,-304.5 854,-304.5 854,-304.5 1022,-304.5 1022,-304.5 1028,-304.5 1034,-310.5 1034,-316.5 1034,-316.5 1034,-345.5 1034,-345.5 1034,-351.5 1028,-357.5 1022,-357.5\"/>\n<text text-anchor=\"middle\" x=\"938\" y=\"-342.3\" font-family=\"Helvetica,sans-Serif\" font-size=\"14.00\" fill=\"#000000\">samples = 1.6%</text>\n<text text-anchor=\"middle\" x=\"938\" y=\"-327.3\" font-family=\"Helvetica,sans-Serif\" font-size=\"14.00\" fill=\"#000000\">value = [0.703, 0.086, 0.21]</text>\n<text text-anchor=\"middle\" x=\"938\" y=\"-312.3\" font-family=\"Helvetica,sans-Serif\" font-size=\"14.00\" fill=\"#000000\">class = functional</text>\n</g>\n<!-- 11&#45;&gt;23 -->\n<g id=\"edge23\" class=\"edge\">\n<title>11&#45;&gt;23</title>\n<path fill=\"none\" stroke=\"#000000\" d=\"M938,-400.9465C938,-390.2621 938,-378.4254 938,-367.5742\"/>\n<polygon fill=\"#000000\" stroke=\"#000000\" points=\"941.5001,-367.5421 938,-357.5422 934.5001,-367.5422 941.5001,-367.5421\"/>\n</g>\n<!-- 13 -->\n<g id=\"node14\" class=\"node\">\n<title>13</title>\n<path fill=\"#f8ddc9\" stroke=\"#000000\" d=\"M671,-261C671,-261 503,-261 503,-261 497,-261 491,-255 491,-249 491,-249 491,-205 491,-205 491,-199 497,-193 503,-193 503,-193 671,-193 671,-193 677,-193 683,-199 683,-205 683,-205 683,-249 683,-249 683,-255 677,-261 671,-261\"/>\n<text text-anchor=\"middle\" x=\"587\" y=\"-245.8\" font-family=\"Helvetica,sans-Serif\" font-size=\"14.00\" fill=\"#000000\">district_code &lt;= 6.5</text>\n<text text-anchor=\"middle\" x=\"587\" y=\"-230.8\" font-family=\"Helvetica,sans-Serif\" font-size=\"14.00\" fill=\"#000000\">samples = 21.5%</text>\n<text text-anchor=\"middle\" x=\"587\" y=\"-215.8\" font-family=\"Helvetica,sans-Serif\" font-size=\"14.00\" fill=\"#000000\">value = [0.557, 0.053, 0.39]</text>\n<text text-anchor=\"middle\" x=\"587\" y=\"-200.8\" font-family=\"Helvetica,sans-Serif\" font-size=\"14.00\" fill=\"#000000\">class = functional</text>\n</g>\n<!-- 12&#45;&gt;13 -->\n<g id=\"edge13\" class=\"edge\">\n<title>12&#45;&gt;13</title>\n<path fill=\"none\" stroke=\"#000000\" d=\"M679.1411,-296.9465C666.7222,-287.519 653.1217,-277.1946 640.2739,-267.4415\"/>\n<polygon fill=\"#000000\" stroke=\"#000000\" points=\"642.041,-264.3887 631.9597,-261.13 637.8085,-269.9642 642.041,-264.3887\"/>\n</g>\n<!-- 20 -->\n<g id=\"node21\" class=\"node\">\n<title>20</title>\n<path fill=\"#eadefb\" stroke=\"#000000\" d=\"M893,-261C893,-261 717,-261 717,-261 711,-261 705,-255 705,-249 705,-249 705,-205 705,-205 705,-199 711,-193 717,-193 717,-193 893,-193 893,-193 899,-193 905,-199 905,-205 905,-205 905,-249 905,-249 905,-255 899,-261 893,-261\"/>\n<text text-anchor=\"middle\" x=\"805\" y=\"-245.8\" font-family=\"Helvetica,sans-Serif\" font-size=\"14.00\" fill=\"#000000\">district_code &lt;= 18.0</text>\n<text text-anchor=\"middle\" x=\"805\" y=\"-230.8\" font-family=\"Helvetica,sans-Serif\" font-size=\"14.00\" fill=\"#000000\">samples = 1.1%</text>\n<text text-anchor=\"middle\" x=\"805\" y=\"-215.8\" font-family=\"Helvetica,sans-Serif\" font-size=\"14.00\" fill=\"#000000\">value = [0.412, 0.079, 0.509]</text>\n<text text-anchor=\"middle\" x=\"805\" y=\"-200.8\" font-family=\"Helvetica,sans-Serif\" font-size=\"14.00\" fill=\"#000000\">class = non functional</text>\n</g>\n<!-- 12&#45;&gt;20 -->\n<g id=\"edge20\" class=\"edge\">\n<title>12&#45;&gt;20</title>\n<path fill=\"none\" stroke=\"#000000\" d=\"M750.5224,-296.9465C757.4454,-288.0578 764.9894,-278.3716 772.196,-269.1188\"/>\n<polygon fill=\"#000000\" stroke=\"#000000\" points=\"775.0346,-271.1701 778.418,-261.13 769.512,-266.8688 775.0346,-271.1701\"/>\n</g>\n<!-- 14 -->\n<g id=\"node15\" class=\"node\">\n<title>14</title>\n<path fill=\"#fae5d7\" stroke=\"#000000\" d=\"M457,-157C457,-157 281,-157 281,-157 275,-157 269,-151 269,-145 269,-145 269,-101 269,-101 269,-95 275,-89 281,-89 281,-89 457,-89 457,-89 463,-89 469,-95 469,-101 469,-101 469,-145 469,-145 469,-151 463,-157 457,-157\"/>\n<text text-anchor=\"middle\" x=\"369\" y=\"-141.8\" font-family=\"Helvetica,sans-Serif\" font-size=\"14.00\" fill=\"#000000\">district_code &lt;= 5.5</text>\n<text text-anchor=\"middle\" x=\"369\" y=\"-126.8\" font-family=\"Helvetica,sans-Serif\" font-size=\"14.00\" fill=\"#000000\">samples = 14.1%</text>\n<text text-anchor=\"middle\" x=\"369\" y=\"-111.8\" font-family=\"Helvetica,sans-Serif\" font-size=\"14.00\" fill=\"#000000\">value = [0.533, 0.052, 0.414]</text>\n<text text-anchor=\"middle\" x=\"369\" y=\"-96.8\" font-family=\"Helvetica,sans-Serif\" font-size=\"14.00\" fill=\"#000000\">class = functional</text>\n</g>\n<!-- 13&#45;&gt;14 -->\n<g id=\"edge14\" class=\"edge\">\n<title>13&#45;&gt;14</title>\n<path fill=\"none\" stroke=\"#000000\" d=\"M515.6186,-192.9465C494.5398,-182.8906 471.3216,-171.814 449.6997,-161.4989\"/>\n<polygon fill=\"#000000\" stroke=\"#000000\" points=\"451.0743,-158.2769 440.5417,-157.13 448.0602,-164.5948 451.0743,-158.2769\"/>\n</g>\n<!-- 17 -->\n<g id=\"node18\" class=\"node\">\n<title>17</title>\n<path fill=\"#f5ceb1\" stroke=\"#000000\" d=\"M675,-157C675,-157 499,-157 499,-157 493,-157 487,-151 487,-145 487,-145 487,-101 487,-101 487,-95 493,-89 499,-89 499,-89 675,-89 675,-89 681,-89 687,-95 687,-101 687,-101 687,-145 687,-145 687,-151 681,-157 675,-157\"/>\n<text text-anchor=\"middle\" x=\"587\" y=\"-141.8\" font-family=\"Helvetica,sans-Serif\" font-size=\"14.00\" fill=\"#000000\">district_code &lt;= 7.5</text>\n<text text-anchor=\"middle\" x=\"587\" y=\"-126.8\" font-family=\"Helvetica,sans-Serif\" font-size=\"14.00\" fill=\"#000000\">samples = 7.4%</text>\n<text text-anchor=\"middle\" x=\"587\" y=\"-111.8\" font-family=\"Helvetica,sans-Serif\" font-size=\"14.00\" fill=\"#000000\">value = [0.601, 0.055, 0.344]</text>\n<text text-anchor=\"middle\" x=\"587\" y=\"-96.8\" font-family=\"Helvetica,sans-Serif\" font-size=\"14.00\" fill=\"#000000\">class = functional</text>\n</g>\n<!-- 13&#45;&gt;17 -->\n<g id=\"edge17\" class=\"edge\">\n<title>13&#45;&gt;17</title>\n<path fill=\"none\" stroke=\"#000000\" d=\"M587,-192.9465C587,-184.776 587,-175.9318 587,-167.3697\"/>\n<polygon fill=\"#000000\" stroke=\"#000000\" points=\"590.5001,-167.13 587,-157.13 583.5001,-167.13 590.5001,-167.13\"/>\n</g>\n<!-- 15 -->\n<g id=\"node16\" class=\"node\">\n<title>15</title>\n<path fill=\"#f8dbc6\" stroke=\"#000000\" d=\"M250,-53C250,-53 74,-53 74,-53 68,-53 62,-47 62,-41 62,-41 62,-12 62,-12 62,-6 68,0 74,0 74,0 250,0 250,0 256,0 262,-6 262,-12 262,-12 262,-41 262,-41 262,-47 256,-53 250,-53\"/>\n<text text-anchor=\"middle\" x=\"162\" y=\"-37.8\" font-family=\"Helvetica,sans-Serif\" font-size=\"14.00\" fill=\"#000000\">samples = 7.3%</text>\n<text text-anchor=\"middle\" x=\"162\" y=\"-22.8\" font-family=\"Helvetica,sans-Serif\" font-size=\"14.00\" fill=\"#000000\">value = [0.565, 0.047, 0.389]</text>\n<text text-anchor=\"middle\" x=\"162\" y=\"-7.8\" font-family=\"Helvetica,sans-Serif\" font-size=\"14.00\" fill=\"#000000\">class = functional</text>\n</g>\n<!-- 14&#45;&gt;15 -->\n<g id=\"edge15\" class=\"edge\">\n<title>14&#45;&gt;15</title>\n<path fill=\"none\" stroke=\"#000000\" d=\"M296.0195,-88.9777C273.9182,-78.6744 249.7778,-67.4205 228.1502,-57.3381\"/>\n<polygon fill=\"#000000\" stroke=\"#000000\" points=\"229.5908,-54.1481 219.0484,-53.095 226.6331,-60.4926 229.5908,-54.1481\"/>\n</g>\n<!-- 16 -->\n<g id=\"node17\" class=\"node\">\n<title>16</title>\n<path fill=\"#fcf2eb\" stroke=\"#000000\" d=\"M452,-53C452,-53 292,-53 292,-53 286,-53 280,-47 280,-41 280,-41 280,-12 280,-12 280,-6 286,0 292,0 292,0 452,0 452,0 458,0 464,-6 464,-12 464,-12 464,-41 464,-41 464,-47 458,-53 452,-53\"/>\n<text text-anchor=\"middle\" x=\"372\" y=\"-37.8\" font-family=\"Helvetica,sans-Serif\" font-size=\"14.00\" fill=\"#000000\">samples = 6.8%</text>\n<text text-anchor=\"middle\" x=\"372\" y=\"-22.8\" font-family=\"Helvetica,sans-Serif\" font-size=\"14.00\" fill=\"#000000\">value = [0.5, 0.058, 0.442]</text>\n<text text-anchor=\"middle\" x=\"372\" y=\"-7.8\" font-family=\"Helvetica,sans-Serif\" font-size=\"14.00\" fill=\"#000000\">class = functional</text>\n</g>\n<!-- 14&#45;&gt;16 -->\n<g id=\"edge16\" class=\"edge\">\n<title>14&#45;&gt;16</title>\n<path fill=\"none\" stroke=\"#000000\" d=\"M370.0577,-88.9777C370.3139,-80.7364 370.589,-71.887 370.8493,-63.5153\"/>\n<polygon fill=\"#000000\" stroke=\"#000000\" points=\"374.3559,-63.3524 371.1684,-53.2485 367.3593,-63.1349 374.3559,-63.3524\"/>\n</g>\n<!-- 18 -->\n<g id=\"node19\" class=\"node\">\n<title>18</title>\n<path fill=\"#f4caac\" stroke=\"#000000\" d=\"M668,-53C668,-53 500,-53 500,-53 494,-53 488,-47 488,-41 488,-41 488,-12 488,-12 488,-6 494,0 500,0 500,0 668,0 668,0 674,0 680,-6 680,-12 680,-12 680,-41 680,-41 680,-47 674,-53 668,-53\"/>\n<text text-anchor=\"middle\" x=\"584\" y=\"-37.8\" font-family=\"Helvetica,sans-Serif\" font-size=\"14.00\" fill=\"#000000\">samples = 5.7%</text>\n<text text-anchor=\"middle\" x=\"584\" y=\"-22.8\" font-family=\"Helvetica,sans-Serif\" font-size=\"14.00\" fill=\"#000000\">value = [0.611, 0.058, 0.33]</text>\n<text text-anchor=\"middle\" x=\"584\" y=\"-7.8\" font-family=\"Helvetica,sans-Serif\" font-size=\"14.00\" fill=\"#000000\">class = functional</text>\n</g>\n<!-- 17&#45;&gt;18 -->\n<g id=\"edge18\" class=\"edge\">\n<title>17&#45;&gt;18</title>\n<path fill=\"none\" stroke=\"#000000\" d=\"M585.9423,-88.9777C585.6861,-80.7364 585.411,-71.887 585.1507,-63.5153\"/>\n<polygon fill=\"#000000\" stroke=\"#000000\" points=\"588.6407,-63.1349 584.8316,-53.2485 581.6441,-63.3524 588.6407,-63.1349\"/>\n</g>\n<!-- 19 -->\n<g id=\"node20\" class=\"node\">\n<title>19</title>\n<path fill=\"#f7dac5\" stroke=\"#000000\" d=\"M886,-53C886,-53 710,-53 710,-53 704,-53 698,-47 698,-41 698,-41 698,-12 698,-12 698,-6 704,0 710,0 710,0 886,0 886,0 892,0 898,-6 898,-12 898,-12 898,-41 898,-41 898,-47 892,-53 886,-53\"/>\n<text text-anchor=\"middle\" x=\"798\" y=\"-37.8\" font-family=\"Helvetica,sans-Serif\" font-size=\"14.00\" fill=\"#000000\">samples = 1.7%</text>\n<text text-anchor=\"middle\" x=\"798\" y=\"-22.8\" font-family=\"Helvetica,sans-Serif\" font-size=\"14.00\" fill=\"#000000\">value = [0.567, 0.045, 0.388]</text>\n<text text-anchor=\"middle\" x=\"798\" y=\"-7.8\" font-family=\"Helvetica,sans-Serif\" font-size=\"14.00\" fill=\"#000000\">class = functional</text>\n</g>\n<!-- 17&#45;&gt;19 -->\n<g id=\"edge19\" class=\"edge\">\n<title>17&#45;&gt;19</title>\n<path fill=\"none\" stroke=\"#000000\" d=\"M661.3907,-88.9777C683.9191,-78.6744 708.5261,-67.4205 730.5715,-57.3381\"/>\n<polygon fill=\"#000000\" stroke=\"#000000\" points=\"732.2109,-60.4371 739.8492,-53.095 729.2994,-54.0713 732.2109,-60.4371\"/>\n</g>\n<!-- 21 -->\n<g id=\"node22\" class=\"node\">\n<title>21</title>\n<path fill=\"#c3a1f3\" stroke=\"#000000\" d=\"M893,-149.5C893,-149.5 717,-149.5 717,-149.5 711,-149.5 705,-143.5 705,-137.5 705,-137.5 705,-108.5 705,-108.5 705,-102.5 711,-96.5 717,-96.5 717,-96.5 893,-96.5 893,-96.5 899,-96.5 905,-102.5 905,-108.5 905,-108.5 905,-137.5 905,-137.5 905,-143.5 899,-149.5 893,-149.5\"/>\n<text text-anchor=\"middle\" x=\"805\" y=\"-134.3\" font-family=\"Helvetica,sans-Serif\" font-size=\"14.00\" fill=\"#000000\">samples = 0.7%</text>\n<text text-anchor=\"middle\" x=\"805\" y=\"-119.3\" font-family=\"Helvetica,sans-Serif\" font-size=\"14.00\" fill=\"#000000\">value = [0.294, 0.074, 0.631]</text>\n<text text-anchor=\"middle\" x=\"805\" y=\"-104.3\" font-family=\"Helvetica,sans-Serif\" font-size=\"14.00\" fill=\"#000000\">class = non functional</text>\n</g>\n<!-- 20&#45;&gt;21 -->\n<g id=\"edge21\" class=\"edge\">\n<title>20&#45;&gt;21</title>\n<path fill=\"none\" stroke=\"#000000\" d=\"M805,-192.9465C805,-182.2621 805,-170.4254 805,-159.5742\"/>\n<polygon fill=\"#000000\" stroke=\"#000000\" points=\"808.5001,-159.5421 805,-149.5422 801.5001,-159.5422 808.5001,-159.5421\"/>\n</g>\n<!-- 22 -->\n<g id=\"node23\" class=\"node\">\n<title>22</title>\n<path fill=\"#f6d3b9\" stroke=\"#000000\" d=\"M1111,-149.5C1111,-149.5 935,-149.5 935,-149.5 929,-149.5 923,-143.5 923,-137.5 923,-137.5 923,-108.5 923,-108.5 923,-102.5 929,-96.5 935,-96.5 935,-96.5 1111,-96.5 1111,-96.5 1117,-96.5 1123,-102.5 1123,-108.5 1123,-108.5 1123,-137.5 1123,-137.5 1123,-143.5 1117,-149.5 1111,-149.5\"/>\n<text text-anchor=\"middle\" x=\"1023\" y=\"-134.3\" font-family=\"Helvetica,sans-Serif\" font-size=\"14.00\" fill=\"#000000\">samples = 0.5%</text>\n<text text-anchor=\"middle\" x=\"1023\" y=\"-119.3\" font-family=\"Helvetica,sans-Serif\" font-size=\"14.00\" fill=\"#000000\">value = [0.573, 0.084, 0.342]</text>\n<text text-anchor=\"middle\" x=\"1023\" y=\"-104.3\" font-family=\"Helvetica,sans-Serif\" font-size=\"14.00\" fill=\"#000000\">class = functional</text>\n</g>\n<!-- 20&#45;&gt;22 -->\n<g id=\"edge22\" class=\"edge\">\n<title>20&#45;&gt;22</title>\n<path fill=\"none\" stroke=\"#000000\" d=\"M876.3814,-192.9465C902.7027,-180.3895 932.36,-166.2411 958.0795,-153.9712\"/>\n<polygon fill=\"#000000\" stroke=\"#000000\" points=\"959.845,-157.0069 967.3635,-149.5422 956.831,-150.689 959.845,-157.0069\"/>\n</g>\n<!-- 25 -->\n<g id=\"node26\" class=\"node\">\n<title>25</title>\n<path fill=\"#ba92f1\" stroke=\"#000000\" d=\"M1083,-565.5C1083,-565.5 907,-565.5 907,-565.5 901,-565.5 895,-559.5 895,-553.5 895,-553.5 895,-524.5 895,-524.5 895,-518.5 901,-512.5 907,-512.5 907,-512.5 1083,-512.5 1083,-512.5 1089,-512.5 1095,-518.5 1095,-524.5 1095,-524.5 1095,-553.5 1095,-553.5 1095,-559.5 1089,-565.5 1083,-565.5\"/>\n<text text-anchor=\"middle\" x=\"995\" y=\"-550.3\" font-family=\"Helvetica,sans-Serif\" font-size=\"14.00\" fill=\"#000000\">samples = 1.5%</text>\n<text text-anchor=\"middle\" x=\"995\" y=\"-535.3\" font-family=\"Helvetica,sans-Serif\" font-size=\"14.00\" fill=\"#000000\">value = [0.226, 0.123, 0.651]</text>\n<text text-anchor=\"middle\" x=\"995\" y=\"-520.3\" font-family=\"Helvetica,sans-Serif\" font-size=\"14.00\" fill=\"#000000\">class = non functional</text>\n</g>\n<!-- 24&#45;&gt;25 -->\n<g id=\"edge25\" class=\"edge\">\n<title>24&#45;&gt;25</title>\n<path fill=\"none\" stroke=\"#000000\" d=\"M995,-608.9465C995,-598.2621 995,-586.4254 995,-575.5742\"/>\n<polygon fill=\"#000000\" stroke=\"#000000\" points=\"998.5001,-575.5421 995,-565.5422 991.5001,-575.5422 998.5001,-575.5421\"/>\n</g>\n<!-- 26 -->\n<g id=\"node27\" class=\"node\">\n<title>26</title>\n<path fill=\"#dbc7f8\" stroke=\"#000000\" d=\"M1337,-573C1337,-573 1177,-573 1177,-573 1171,-573 1165,-567 1165,-561 1165,-561 1165,-517 1165,-517 1165,-511 1171,-505 1177,-505 1177,-505 1337,-505 1337,-505 1343,-505 1349,-511 1349,-517 1349,-517 1349,-561 1349,-561 1349,-567 1343,-573 1337,-573\"/>\n<text text-anchor=\"middle\" x=\"1257\" y=\"-557.8\" font-family=\"Helvetica,sans-Serif\" font-size=\"14.00\" fill=\"#000000\">district_code &lt;= 56.5</text>\n<text text-anchor=\"middle\" x=\"1257\" y=\"-542.8\" font-family=\"Helvetica,sans-Serif\" font-size=\"14.00\" fill=\"#000000\">samples = 2.8%</text>\n<text text-anchor=\"middle\" x=\"1257\" y=\"-527.8\" font-family=\"Helvetica,sans-Serif\" font-size=\"14.00\" fill=\"#000000\">value = [0.4, 0.029, 0.571]</text>\n<text text-anchor=\"middle\" x=\"1257\" y=\"-512.8\" font-family=\"Helvetica,sans-Serif\" font-size=\"14.00\" fill=\"#000000\">class = non functional</text>\n</g>\n<!-- 24&#45;&gt;26 -->\n<g id=\"edge26\" class=\"edge\">\n<title>24&#45;&gt;26</title>\n<path fill=\"none\" stroke=\"#000000\" d=\"M1080.7886,-608.9465C1106.5743,-598.711 1135.0237,-587.4181 1161.4026,-576.9471\"/>\n<polygon fill=\"#000000\" stroke=\"#000000\" points=\"1163.0155,-580.0726 1171.0187,-573.13 1160.4328,-573.5664 1163.0155,-580.0726\"/>\n</g>\n<!-- 27 -->\n<g id=\"node28\" class=\"node\">\n<title>27</title>\n<path fill=\"#d4bcf6\" stroke=\"#000000\" d=\"M1333,-469C1333,-469 1181,-469 1181,-469 1175,-469 1169,-463 1169,-457 1169,-457 1169,-413 1169,-413 1169,-407 1175,-401 1181,-401 1181,-401 1333,-401 1333,-401 1339,-401 1345,-407 1345,-413 1345,-413 1345,-457 1345,-457 1345,-463 1339,-469 1333,-469\"/>\n<text text-anchor=\"middle\" x=\"1257\" y=\"-453.8\" font-family=\"Helvetica,sans-Serif\" font-size=\"14.00\" fill=\"#000000\">district_code &lt;= 48.0</text>\n<text text-anchor=\"middle\" x=\"1257\" y=\"-438.8\" font-family=\"Helvetica,sans-Serif\" font-size=\"14.00\" fill=\"#000000\">samples = 2.1%</text>\n<text text-anchor=\"middle\" x=\"1257\" y=\"-423.8\" font-family=\"Helvetica,sans-Serif\" font-size=\"14.00\" fill=\"#000000\">value = [0.38, 0.03, 0.59]</text>\n<text text-anchor=\"middle\" x=\"1257\" y=\"-408.8\" font-family=\"Helvetica,sans-Serif\" font-size=\"14.00\" fill=\"#000000\">class = non functional</text>\n</g>\n<!-- 26&#45;&gt;27 -->\n<g id=\"edge27\" class=\"edge\">\n<title>26&#45;&gt;27</title>\n<path fill=\"none\" stroke=\"#000000\" d=\"M1257,-504.9465C1257,-496.776 1257,-487.9318 1257,-479.3697\"/>\n<polygon fill=\"#000000\" stroke=\"#000000\" points=\"1260.5001,-479.13 1257,-469.13 1253.5001,-479.13 1260.5001,-479.13\"/>\n</g>\n<!-- 30 -->\n<g id=\"node31\" class=\"node\">\n<title>30</title>\n<path fill=\"#f5effd\" stroke=\"#000000\" d=\"M1668,-469C1668,-469 1492,-469 1492,-469 1486,-469 1480,-463 1480,-457 1480,-457 1480,-413 1480,-413 1480,-407 1486,-401 1492,-401 1492,-401 1668,-401 1668,-401 1674,-401 1680,-407 1680,-413 1680,-413 1680,-457 1680,-457 1680,-463 1674,-469 1668,-469\"/>\n<text text-anchor=\"middle\" x=\"1580\" y=\"-453.8\" font-family=\"Helvetica,sans-Serif\" font-size=\"14.00\" fill=\"#000000\">district_code &lt;= 61.0</text>\n<text text-anchor=\"middle\" x=\"1580\" y=\"-438.8\" font-family=\"Helvetica,sans-Serif\" font-size=\"14.00\" fill=\"#000000\">samples = 0.6%</text>\n<text text-anchor=\"middle\" x=\"1580\" y=\"-423.8\" font-family=\"Helvetica,sans-Serif\" font-size=\"14.00\" fill=\"#000000\">value = [0.466, 0.026, 0.508]</text>\n<text text-anchor=\"middle\" x=\"1580\" y=\"-408.8\" font-family=\"Helvetica,sans-Serif\" font-size=\"14.00\" fill=\"#000000\">class = non functional</text>\n</g>\n<!-- 26&#45;&gt;30 -->\n<g id=\"edge30\" class=\"edge\">\n<title>26&#45;&gt;30</title>\n<path fill=\"none\" stroke=\"#000000\" d=\"M1349.1266,-509.337C1386.7721,-497.2158 1430.6267,-483.0954 1469.9403,-470.4372\"/>\n<polygon fill=\"#000000\" stroke=\"#000000\" points=\"1471.3849,-473.6491 1479.8309,-467.2526 1469.2394,-466.9859 1471.3849,-473.6491\"/>\n</g>\n<!-- 28 -->\n<g id=\"node29\" class=\"node\">\n<title>28</title>\n<path fill=\"#e6d8fa\" stroke=\"#000000\" d=\"M1232,-357.5C1232,-357.5 1064,-357.5 1064,-357.5 1058,-357.5 1052,-351.5 1052,-345.5 1052,-345.5 1052,-316.5 1052,-316.5 1052,-310.5 1058,-304.5 1064,-304.5 1064,-304.5 1232,-304.5 1232,-304.5 1238,-304.5 1244,-310.5 1244,-316.5 1244,-316.5 1244,-345.5 1244,-345.5 1244,-351.5 1238,-357.5 1232,-357.5\"/>\n<text text-anchor=\"middle\" x=\"1148\" y=\"-342.3\" font-family=\"Helvetica,sans-Serif\" font-size=\"14.00\" fill=\"#000000\">samples = 0.9%</text>\n<text text-anchor=\"middle\" x=\"1148\" y=\"-327.3\" font-family=\"Helvetica,sans-Serif\" font-size=\"14.00\" fill=\"#000000\">value = [0.434, 0.02, 0.546]</text>\n<text text-anchor=\"middle\" x=\"1148\" y=\"-312.3\" font-family=\"Helvetica,sans-Serif\" font-size=\"14.00\" fill=\"#000000\">class = non functional</text>\n</g>\n<!-- 27&#45;&gt;28 -->\n<g id=\"edge28\" class=\"edge\">\n<title>27&#45;&gt;28</title>\n<path fill=\"none\" stroke=\"#000000\" d=\"M1221.3093,-400.9465C1209.0722,-389.2707 1195.393,-376.219 1183.1954,-364.5809\"/>\n<polygon fill=\"#000000\" stroke=\"#000000\" points=\"1185.4694,-361.9131 1175.8182,-357.5422 1180.6372,-366.9777 1185.4694,-361.9131\"/>\n</g>\n<!-- 29 -->\n<g id=\"node30\" class=\"node\">\n<title>29</title>\n<path fill=\"#caabf4\" stroke=\"#000000\" d=\"M1450,-357.5C1450,-357.5 1274,-357.5 1274,-357.5 1268,-357.5 1262,-351.5 1262,-345.5 1262,-345.5 1262,-316.5 1262,-316.5 1262,-310.5 1268,-304.5 1274,-304.5 1274,-304.5 1450,-304.5 1450,-304.5 1456,-304.5 1462,-310.5 1462,-316.5 1462,-316.5 1462,-345.5 1462,-345.5 1462,-351.5 1456,-357.5 1450,-357.5\"/>\n<text text-anchor=\"middle\" x=\"1362\" y=\"-342.3\" font-family=\"Helvetica,sans-Serif\" font-size=\"14.00\" fill=\"#000000\">samples = 1.2%</text>\n<text text-anchor=\"middle\" x=\"1362\" y=\"-327.3\" font-family=\"Helvetica,sans-Serif\" font-size=\"14.00\" fill=\"#000000\">value = [0.342, 0.037, 0.621]</text>\n<text text-anchor=\"middle\" x=\"1362\" y=\"-312.3\" font-family=\"Helvetica,sans-Serif\" font-size=\"14.00\" fill=\"#000000\">class = non functional</text>\n</g>\n<!-- 27&#45;&gt;29 -->\n<g id=\"edge29\" class=\"edge\">\n<title>27&#45;&gt;29</title>\n<path fill=\"none\" stroke=\"#000000\" d=\"M1291.3809,-400.9465C1303.169,-389.2707 1316.3462,-376.219 1328.0962,-364.5809\"/>\n<polygon fill=\"#000000\" stroke=\"#000000\" points=\"1330.5608,-367.066 1335.2026,-357.5422 1325.6348,-362.0927 1330.5608,-367.066\"/>\n</g>\n<!-- 31 -->\n<g id=\"node32\" class=\"node\">\n<title>31</title>\n<path fill=\"#eba069\" stroke=\"#000000\" d=\"M1668,-357.5C1668,-357.5 1492,-357.5 1492,-357.5 1486,-357.5 1480,-351.5 1480,-345.5 1480,-345.5 1480,-316.5 1480,-316.5 1480,-310.5 1486,-304.5 1492,-304.5 1492,-304.5 1668,-304.5 1668,-304.5 1674,-304.5 1680,-310.5 1680,-316.5 1680,-316.5 1680,-345.5 1680,-345.5 1680,-351.5 1674,-357.5 1668,-357.5\"/>\n<text text-anchor=\"middle\" x=\"1580\" y=\"-342.3\" font-family=\"Helvetica,sans-Serif\" font-size=\"14.00\" fill=\"#000000\">samples = 0.1%</text>\n<text text-anchor=\"middle\" x=\"1580\" y=\"-327.3\" font-family=\"Helvetica,sans-Serif\" font-size=\"14.00\" fill=\"#000000\">value = [0.792, 0.062, 0.146]</text>\n<text text-anchor=\"middle\" x=\"1580\" y=\"-312.3\" font-family=\"Helvetica,sans-Serif\" font-size=\"14.00\" fill=\"#000000\">class = functional</text>\n</g>\n<!-- 30&#45;&gt;31 -->\n<g id=\"edge31\" class=\"edge\">\n<title>30&#45;&gt;31</title>\n<path fill=\"none\" stroke=\"#000000\" d=\"M1580,-400.9465C1580,-390.2621 1580,-378.4254 1580,-367.5742\"/>\n<polygon fill=\"#000000\" stroke=\"#000000\" points=\"1583.5001,-367.5421 1580,-357.5422 1576.5001,-367.5422 1583.5001,-367.5421\"/>\n</g>\n<!-- 32 -->\n<g id=\"node33\" class=\"node\">\n<title>32</title>\n<path fill=\"#dbc6f8\" stroke=\"#000000\" d=\"M1886,-365C1886,-365 1710,-365 1710,-365 1704,-365 1698,-359 1698,-353 1698,-353 1698,-309 1698,-309 1698,-303 1704,-297 1710,-297 1710,-297 1886,-297 1886,-297 1892,-297 1898,-303 1898,-309 1898,-309 1898,-353 1898,-353 1898,-359 1892,-365 1886,-365\"/>\n<text text-anchor=\"middle\" x=\"1798\" y=\"-349.8\" font-family=\"Helvetica,sans-Serif\" font-size=\"14.00\" fill=\"#000000\">district_code &lt;= 62.5</text>\n<text text-anchor=\"middle\" x=\"1798\" y=\"-334.8\" font-family=\"Helvetica,sans-Serif\" font-size=\"14.00\" fill=\"#000000\">samples = 0.5%</text>\n<text text-anchor=\"middle\" x=\"1798\" y=\"-319.8\" font-family=\"Helvetica,sans-Serif\" font-size=\"14.00\" fill=\"#000000\">value = [0.405, 0.019, 0.575]</text>\n<text text-anchor=\"middle\" x=\"1798\" y=\"-304.8\" font-family=\"Helvetica,sans-Serif\" font-size=\"14.00\" fill=\"#000000\">class = non functional</text>\n</g>\n<!-- 30&#45;&gt;32 -->\n<g id=\"edge32\" class=\"edge\">\n<title>30&#45;&gt;32</title>\n<path fill=\"none\" stroke=\"#000000\" d=\"M1651.3814,-400.9465C1672.4602,-390.8906 1695.6784,-379.814 1717.3003,-369.4989\"/>\n<polygon fill=\"#000000\" stroke=\"#000000\" points=\"1718.9398,-372.5948 1726.4583,-365.13 1715.9257,-366.2769 1718.9398,-372.5948\"/>\n</g>\n<!-- 33 -->\n<g id=\"node34\" class=\"node\">\n<title>33</title>\n<path fill=\"#fefcfa\" stroke=\"#000000\" d=\"M1773,-253.5C1773,-253.5 1613,-253.5 1613,-253.5 1607,-253.5 1601,-247.5 1601,-241.5 1601,-241.5 1601,-212.5 1601,-212.5 1601,-206.5 1607,-200.5 1613,-200.5 1613,-200.5 1773,-200.5 1773,-200.5 1779,-200.5 1785,-206.5 1785,-212.5 1785,-212.5 1785,-241.5 1785,-241.5 1785,-247.5 1779,-253.5 1773,-253.5\"/>\n<text text-anchor=\"middle\" x=\"1693\" y=\"-238.3\" font-family=\"Helvetica,sans-Serif\" font-size=\"14.00\" fill=\"#000000\">samples = 0.2%</text>\n<text text-anchor=\"middle\" x=\"1693\" y=\"-223.3\" font-family=\"Helvetica,sans-Serif\" font-size=\"14.00\" fill=\"#000000\">value = [0.506, 0.0, 0.494]</text>\n<text text-anchor=\"middle\" x=\"1693\" y=\"-208.3\" font-family=\"Helvetica,sans-Serif\" font-size=\"14.00\" fill=\"#000000\">class = functional</text>\n</g>\n<!-- 32&#45;&gt;33 -->\n<g id=\"edge33\" class=\"edge\">\n<title>32&#45;&gt;33</title>\n<path fill=\"none\" stroke=\"#000000\" d=\"M1763.6191,-296.9465C1751.831,-285.2707 1738.6538,-272.219 1726.9038,-260.5809\"/>\n<polygon fill=\"#000000\" stroke=\"#000000\" points=\"1729.3652,-258.0927 1719.7974,-253.5422 1724.4392,-263.066 1729.3652,-258.0927\"/>\n</g>\n<!-- 34 -->\n<g id=\"node35\" class=\"node\">\n<title>34</title>\n<path fill=\"#ccaff5\" stroke=\"#000000\" d=\"M1991,-261C1991,-261 1815,-261 1815,-261 1809,-261 1803,-255 1803,-249 1803,-249 1803,-205 1803,-205 1803,-199 1809,-193 1815,-193 1815,-193 1991,-193 1991,-193 1997,-193 2003,-199 2003,-205 2003,-205 2003,-249 2003,-249 2003,-255 1997,-261 1991,-261\"/>\n<text text-anchor=\"middle\" x=\"1903\" y=\"-245.8\" font-family=\"Helvetica,sans-Serif\" font-size=\"14.00\" fill=\"#000000\">district_code &lt;= 65.0</text>\n<text text-anchor=\"middle\" x=\"1903\" y=\"-230.8\" font-family=\"Helvetica,sans-Serif\" font-size=\"14.00\" fill=\"#000000\">samples = 0.4%</text>\n<text text-anchor=\"middle\" x=\"1903\" y=\"-215.8\" font-family=\"Helvetica,sans-Serif\" font-size=\"14.00\" fill=\"#000000\">value = [0.356, 0.029, 0.615]</text>\n<text text-anchor=\"middle\" x=\"1903\" y=\"-200.8\" font-family=\"Helvetica,sans-Serif\" font-size=\"14.00\" fill=\"#000000\">class = non functional</text>\n</g>\n<!-- 32&#45;&gt;34 -->\n<g id=\"edge34\" class=\"edge\">\n<title>32&#45;&gt;34</title>\n<path fill=\"none\" stroke=\"#000000\" d=\"M1832.3809,-296.9465C1841.6271,-287.7884 1851.7279,-277.7838 1861.3243,-268.2788\"/>\n<polygon fill=\"#000000\" stroke=\"#000000\" points=\"1863.9,-270.6539 1868.5418,-261.13 1858.974,-265.6805 1863.9,-270.6539\"/>\n</g>\n<!-- 35 -->\n<g id=\"node36\" class=\"node\">\n<title>35</title>\n<path fill=\"#c8a8f4\" stroke=\"#000000\" d=\"M1882,-149.5C1882,-149.5 1706,-149.5 1706,-149.5 1700,-149.5 1694,-143.5 1694,-137.5 1694,-137.5 1694,-108.5 1694,-108.5 1694,-102.5 1700,-96.5 1706,-96.5 1706,-96.5 1882,-96.5 1882,-96.5 1888,-96.5 1894,-102.5 1894,-108.5 1894,-108.5 1894,-137.5 1894,-137.5 1894,-143.5 1888,-149.5 1882,-149.5\"/>\n<text text-anchor=\"middle\" x=\"1794\" y=\"-134.3\" font-family=\"Helvetica,sans-Serif\" font-size=\"14.00\" fill=\"#000000\">samples = 0.3%</text>\n<text text-anchor=\"middle\" x=\"1794\" y=\"-119.3\" font-family=\"Helvetica,sans-Serif\" font-size=\"14.00\" fill=\"#000000\">value = [0.348, 0.019, 0.633]</text>\n<text text-anchor=\"middle\" x=\"1794\" y=\"-104.3\" font-family=\"Helvetica,sans-Serif\" font-size=\"14.00\" fill=\"#000000\">class = non functional</text>\n</g>\n<!-- 34&#45;&gt;35 -->\n<g id=\"edge35\" class=\"edge\">\n<title>34&#45;&gt;35</title>\n<path fill=\"none\" stroke=\"#000000\" d=\"M1867.3093,-192.9465C1855.0722,-181.2707 1841.393,-168.219 1829.1954,-156.5809\"/>\n<polygon fill=\"#000000\" stroke=\"#000000\" points=\"1831.4694,-153.9131 1821.8182,-149.5422 1826.6372,-158.9777 1831.4694,-153.9131\"/>\n</g>\n<!-- 36 -->\n<g id=\"node37\" class=\"node\">\n<title>36</title>\n<path fill=\"#ffffff\" stroke=\"#000000\" d=\"M2100,-157C2100,-157 1924,-157 1924,-157 1918,-157 1912,-151 1912,-145 1912,-145 1912,-101 1912,-101 1912,-95 1918,-89 1924,-89 1924,-89 2100,-89 2100,-89 2106,-89 2112,-95 2112,-101 2112,-101 2112,-145 2112,-145 2112,-151 2106,-157 2100,-157\"/>\n<text text-anchor=\"middle\" x=\"2012\" y=\"-141.8\" font-family=\"Helvetica,sans-Serif\" font-size=\"14.00\" fill=\"#000000\">district_code &lt;= 73.5</text>\n<text text-anchor=\"middle\" x=\"2012\" y=\"-126.8\" font-family=\"Helvetica,sans-Serif\" font-size=\"14.00\" fill=\"#000000\">samples = 0.0%</text>\n<text text-anchor=\"middle\" x=\"2012\" y=\"-111.8\" font-family=\"Helvetica,sans-Serif\" font-size=\"14.00\" fill=\"#000000\">value = [0.438, 0.125, 0.438]</text>\n<text text-anchor=\"middle\" x=\"2012\" y=\"-96.8\" font-family=\"Helvetica,sans-Serif\" font-size=\"14.00\" fill=\"#000000\">class = functional</text>\n</g>\n<!-- 34&#45;&gt;36 -->\n<g id=\"edge36\" class=\"edge\">\n<title>34&#45;&gt;36</title>\n<path fill=\"none\" stroke=\"#000000\" d=\"M1938.6907,-192.9465C1948.2891,-183.7884 1958.7747,-173.7838 1968.7366,-164.2788\"/>\n<polygon fill=\"#000000\" stroke=\"#000000\" points=\"1971.4102,-166.5655 1976.2291,-157.13 1966.5779,-161.5009 1971.4102,-166.5655\"/>\n</g>\n<!-- 37 -->\n<g id=\"node38\" class=\"node\">\n<title>37</title>\n<path fill=\"#eca06a\" stroke=\"#000000\" d=\"M1978.5,-53C1978.5,-53 1851.5,-53 1851.5,-53 1845.5,-53 1839.5,-47 1839.5,-41 1839.5,-41 1839.5,-12 1839.5,-12 1839.5,-6 1845.5,0 1851.5,0 1851.5,0 1978.5,0 1978.5,0 1984.5,0 1990.5,-6 1990.5,-12 1990.5,-12 1990.5,-41 1990.5,-41 1990.5,-47 1984.5,-53 1978.5,-53\"/>\n<text text-anchor=\"middle\" x=\"1915\" y=\"-37.8\" font-family=\"Helvetica,sans-Serif\" font-size=\"14.00\" fill=\"#000000\">samples = 0.0%</text>\n<text text-anchor=\"middle\" x=\"1915\" y=\"-22.8\" font-family=\"Helvetica,sans-Serif\" font-size=\"14.00\" fill=\"#000000\">value = [0.8, 0.2, 0.0]</text>\n<text text-anchor=\"middle\" x=\"1915\" y=\"-7.8\" font-family=\"Helvetica,sans-Serif\" font-size=\"14.00\" fill=\"#000000\">class = functional</text>\n</g>\n<!-- 36&#45;&gt;37 -->\n<g id=\"edge37\" class=\"edge\">\n<title>36&#45;&gt;37</title>\n<path fill=\"none\" stroke=\"#000000\" d=\"M1977.8014,-88.9777C1968.505,-79.7292 1958.4386,-69.7147 1949.1451,-60.4691\"/>\n<polygon fill=\"#000000\" stroke=\"#000000\" points=\"1951.4449,-57.82 1941.8871,-53.2485 1946.5079,-62.7825 1951.4449,-57.82\"/>\n</g>\n<!-- 38 -->\n<g id=\"node39\" class=\"node\">\n<title>38</title>\n<path fill=\"#c09cf2\" stroke=\"#000000\" d=\"M2197,-53C2197,-53 2021,-53 2021,-53 2015,-53 2009,-47 2009,-41 2009,-41 2009,-12 2009,-12 2009,-6 2015,0 2021,0 2021,0 2197,0 2197,0 2203,0 2209,-6 2209,-12 2209,-12 2209,-41 2209,-41 2209,-47 2203,-53 2197,-53\"/>\n<text text-anchor=\"middle\" x=\"2109\" y=\"-37.8\" font-family=\"Helvetica,sans-Serif\" font-size=\"14.00\" fill=\"#000000\">samples = 0.0%</text>\n<text text-anchor=\"middle\" x=\"2109\" y=\"-22.8\" font-family=\"Helvetica,sans-Serif\" font-size=\"14.00\" fill=\"#000000\">value = [0.273, 0.091, 0.636]</text>\n<text text-anchor=\"middle\" x=\"2109\" y=\"-7.8\" font-family=\"Helvetica,sans-Serif\" font-size=\"14.00\" fill=\"#000000\">class = non functional</text>\n</g>\n<!-- 36&#45;&gt;38 -->\n<g id=\"edge38\" class=\"edge\">\n<title>36&#45;&gt;38</title>\n<path fill=\"none\" stroke=\"#000000\" d=\"M2046.1986,-88.9777C2055.495,-79.7292 2065.5614,-69.7147 2074.8549,-60.4691\"/>\n<polygon fill=\"#000000\" stroke=\"#000000\" points=\"2077.4921,-62.7825 2082.1129,-53.2485 2072.5551,-57.82 2077.4921,-62.7825\"/>\n</g>\n</g>\n</svg>\n"
          },
          "metadata": {
            "tags": []
          }
        }
      ]
    },
    {
      "cell_type": "code",
      "metadata": {
        "id": "qpc03tSIcRAW",
        "colab_type": "code",
        "colab": {
          "base_uri": "https://localhost:8080/",
          "height": 687
        },
        "outputId": "9edeecef-c239-4e6f-9b71-b2ffb0a61546"
      },
      "source": [
        "#Ordinal Encoding\n",
        "encoder = ce.OrdinalEncoder()\n",
        "encoded = encoder.fit_transform(X_train[[feature]])\n",
        "print(f'1 column, {encoded[feature].nunique()} unique values')\n",
        "encoded.head(20)"
      ],
      "execution_count": 51,
      "outputs": [
        {
          "output_type": "stream",
          "text": [
            "1 column, 20 unique values\n"
          ],
          "name": "stdout"
        },
        {
          "output_type": "execute_result",
          "data": {
            "text/html": [
              "<div>\n",
              "<style scoped>\n",
              "    .dataframe tbody tr th:only-of-type {\n",
              "        vertical-align: middle;\n",
              "    }\n",
              "\n",
              "    .dataframe tbody tr th {\n",
              "        vertical-align: top;\n",
              "    }\n",
              "\n",
              "    .dataframe thead th {\n",
              "        text-align: right;\n",
              "    }\n",
              "</style>\n",
              "<table border=\"1\" class=\"dataframe\">\n",
              "  <thead>\n",
              "    <tr style=\"text-align: right;\">\n",
              "      <th></th>\n",
              "      <th>district_code</th>\n",
              "    </tr>\n",
              "  </thead>\n",
              "  <tbody>\n",
              "    <tr>\n",
              "      <th>43360</th>\n",
              "      <td>4</td>\n",
              "    </tr>\n",
              "    <tr>\n",
              "      <th>7263</th>\n",
              "      <td>4</td>\n",
              "    </tr>\n",
              "    <tr>\n",
              "      <th>2486</th>\n",
              "      <td>1</td>\n",
              "    </tr>\n",
              "    <tr>\n",
              "      <th>313</th>\n",
              "      <td>1</td>\n",
              "    </tr>\n",
              "    <tr>\n",
              "      <th>52726</th>\n",
              "      <td>6</td>\n",
              "    </tr>\n",
              "    <tr>\n",
              "      <th>8558</th>\n",
              "      <td>2</td>\n",
              "    </tr>\n",
              "    <tr>\n",
              "      <th>2559</th>\n",
              "      <td>2</td>\n",
              "    </tr>\n",
              "    <tr>\n",
              "      <th>54735</th>\n",
              "      <td>1</td>\n",
              "    </tr>\n",
              "    <tr>\n",
              "      <th>25763</th>\n",
              "      <td>6</td>\n",
              "    </tr>\n",
              "    <tr>\n",
              "      <th>44540</th>\n",
              "      <td>7</td>\n",
              "    </tr>\n",
              "    <tr>\n",
              "      <th>28603</th>\n",
              "      <td>33</td>\n",
              "    </tr>\n",
              "    <tr>\n",
              "      <th>4372</th>\n",
              "      <td>5</td>\n",
              "    </tr>\n",
              "    <tr>\n",
              "      <th>30666</th>\n",
              "      <td>6</td>\n",
              "    </tr>\n",
              "    <tr>\n",
              "      <th>6431</th>\n",
              "      <td>1</td>\n",
              "    </tr>\n",
              "    <tr>\n",
              "      <th>57420</th>\n",
              "      <td>7</td>\n",
              "    </tr>\n",
              "    <tr>\n",
              "      <th>1373</th>\n",
              "      <td>4</td>\n",
              "    </tr>\n",
              "    <tr>\n",
              "      <th>2026</th>\n",
              "      <td>2</td>\n",
              "    </tr>\n",
              "    <tr>\n",
              "      <th>58977</th>\n",
              "      <td>43</td>\n",
              "    </tr>\n",
              "    <tr>\n",
              "      <th>41101</th>\n",
              "      <td>3</td>\n",
              "    </tr>\n",
              "    <tr>\n",
              "      <th>10019</th>\n",
              "      <td>30</td>\n",
              "    </tr>\n",
              "  </tbody>\n",
              "</table>\n",
              "</div>"
            ],
            "text/plain": [
              "       district_code\n",
              "43360              4\n",
              "7263               4\n",
              "2486               1\n",
              "313                1\n",
              "52726              6\n",
              "8558               2\n",
              "2559               2\n",
              "54735              1\n",
              "25763              6\n",
              "44540              7\n",
              "28603             33\n",
              "4372               5\n",
              "30666              6\n",
              "6431               1\n",
              "57420              7\n",
              "1373               4\n",
              "2026               2\n",
              "58977             43\n",
              "41101              3\n",
              "10019             30"
            ]
          },
          "metadata": {
            "tags": []
          },
          "execution_count": 51
        }
      ]
    },
    {
      "cell_type": "code",
      "metadata": {
        "id": "PFnYT_m0cfym",
        "colab_type": "code",
        "colab": {
          "base_uri": "https://localhost:8080/",
          "height": 34
        },
        "outputId": "1c1bdb50-bb5d-440a-bbc3-ea7daaf444d8"
      },
      "source": [
        "#Ordinal Encoding, Logistic Regression, Validation Accuracy\n",
        "lr = make_pipeline(\n",
        "    ce.OrdinalEncoder(), \n",
        "    SimpleImputer(), \n",
        "    StandardScaler(), \n",
        "    LogisticRegressionCV(multi_class='auto', solver='lbfgs', cv=5, n_jobs=-1)\n",
        ")\n",
        "\n",
        "lr.fit(X_train[[feature]], y_train)\n",
        "score = lr.score(X_val[[feature]], y_val)\n",
        "print('Logistic Regression, Validation Accuracy', score)"
      ],
      "execution_count": 52,
      "outputs": [
        {
          "output_type": "stream",
          "text": [
            "Logistic Regression, Validation Accuracy 0.5576599326599326\n"
          ],
          "name": "stdout"
        }
      ]
    },
    {
      "cell_type": "code",
      "metadata": {
        "id": "rbPWpfIHcmfF",
        "colab_type": "code",
        "colab": {
          "base_uri": "https://localhost:8080/",
          "height": 34
        },
        "outputId": "99019996-8851-46f5-bd4d-d6201683f045"
      },
      "source": [
        "#Ordinal Encoding, Decision Tree, Validation Accuracy\n",
        "dt = make_pipeline(\n",
        "    ce.OrdinalEncoder(), \n",
        "    SimpleImputer(), \n",
        "    DecisionTreeClassifier(random_state=42)\n",
        ")\n",
        "\n",
        "dt.fit(X_train[[feature]], y_train)\n",
        "score = dt.score(X_val[[feature]], y_val)\n",
        "print('Decision Tree, Validation Accuracy', score)"
      ],
      "execution_count": 53,
      "outputs": [
        {
          "output_type": "stream",
          "text": [
            "Decision Tree, Validation Accuracy 0.561026936026936\n"
          ],
          "name": "stdout"
        }
      ]
    },
    {
      "cell_type": "code",
      "metadata": {
        "id": "X9j5gPuBctrm",
        "colab_type": "code",
        "colab": {
          "base_uri": "https://localhost:8080/",
          "height": 265
        },
        "outputId": "028a9c67-2610-4537-fb18-cc4c6d827223"
      },
      "source": [
        "#Ordinal Encoding, Logistic Regression, Model Interpretation\n",
        "model = lr.named_steps['logisticregressioncv']\n",
        "encoder = lr.named_steps['ordinalencoder']\n",
        "encoded_columns = encoder.transform(X_val[[feature]]).columns\n",
        "coefficients = pd.Series(model.coef_[0], encoded_columns)\n",
        "coefficients.sort_values().plot.barh(color='grey');"
      ],
      "execution_count": 54,
      "outputs": [
        {
          "output_type": "display_data",
          "data": {
            "image/png": "[encoded data removed]",
            "text/plain": [
              "<Figure size 432x288 with 1 Axes>"
            ]
          },
          "metadata": {
            "tags": []
          }
        }
      ]
    },
    {
      "cell_type": "code",
      "metadata": {
        "id": "baU55KZ2czye",
        "colab_type": "code",
        "colab": {
          "base_uri": "https://localhost:8080/",
          "height": 932
        },
        "outputId": "baa4abe2-da5e-4316-d0ad-94cd1541bad3"
      },
      "source": [
        "#Ordinal Encoding, Decision Tree, Model Interpretation\n",
        "model = dt.named_steps['decisiontreeclassifier']\n",
        "encoder = dt.named_steps['ordinalencoder']\n",
        "encoded_columns = encoder.transform(X_val[[feature]]).columns\n",
        "\n",
        "dot_data = export_graphviz(model, \n",
        "                           out_file=None, \n",
        "                           max_depth=5, \n",
        "                           feature_names=encoded_columns,\n",
        "                           class_names=model.classes_, \n",
        "                           impurity=False, \n",
        "                           filled=True, \n",
        "                           proportion=True, \n",
        "                           rounded=True)   \n",
        "display(graphviz.Source(dot_data))"
      ],
      "execution_count": 55,
      "outputs": [
        {
          "output_type": "display_data",
          "data": {
            "text/plain": [
              "<graphviz.files.Source at 0x7f18a3073be0>"
            ],
            "image/svg+xml": "<?xml version=\"1.0\" encoding=\"UTF-8\" standalone=\"no\"?>\n<!DOCTYPE svg PUBLIC \"-//W3C//DTD SVG 1.1//EN\"\n \"http://www.w3.org/Graphics/SVG/1.1/DTD/svg11.dtd\">\n<!-- Generated by graphviz version 2.40.1 (20161225.0304)\n -->\n<!-- Title: Tree Pages: 1 -->\n<svg width=\"1982pt\" height=\"668pt\"\n viewBox=\"0.00 0.00 1982.00 668.00\" xmlns=\"http://www.w3.org/2000/svg\" xmlns:xlink=\"http://www.w3.org/1999/xlink\">\n<g id=\"graph0\" class=\"graph\" transform=\"scale(1 1) rotate(0) translate(4 664)\">\n<title>Tree</title>\n<polygon fill=\"#ffffff\" stroke=\"transparent\" points=\"-4,4 -4,-664 1978,-664 1978,4 -4,4\"/>\n<!-- 0 -->\n<g id=\"node1\" class=\"node\">\n<title>0</title>\n<path fill=\"#f8decc\" stroke=\"#000000\" d=\"M1049,-660C1049,-660 873,-660 873,-660 867,-660 861,-654 861,-648 861,-648 861,-604 861,-604 861,-598 867,-592 873,-592 873,-592 1049,-592 1049,-592 1055,-592 1061,-598 1061,-604 1061,-604 1061,-648 1061,-648 1061,-654 1055,-660 1049,-660\"/>\n<text text-anchor=\"middle\" x=\"961\" y=\"-644.8\" font-family=\"Helvetica,sans-Serif\" font-size=\"14.00\" fill=\"#000000\">district_code &lt;= 31.5</text>\n<text text-anchor=\"middle\" x=\"961\" y=\"-629.8\" font-family=\"Helvetica,sans-Serif\" font-size=\"14.00\" fill=\"#000000\">samples = 100.0%</text>\n<text text-anchor=\"middle\" x=\"961\" y=\"-614.8\" font-family=\"Helvetica,sans-Serif\" font-size=\"14.00\" fill=\"#000000\">value = [0.543, 0.073, 0.384]</text>\n<text text-anchor=\"middle\" x=\"961\" y=\"-599.8\" font-family=\"Helvetica,sans-Serif\" font-size=\"14.00\" fill=\"#000000\">class = functional</text>\n</g>\n<!-- 1 -->\n<g id=\"node2\" class=\"node\">\n<title>1</title>\n<path fill=\"#f8dbc7\" stroke=\"#000000\" d=\"M835,-556C835,-556 659,-556 659,-556 653,-556 647,-550 647,-544 647,-544 647,-500 647,-500 647,-494 653,-488 659,-488 659,-488 835,-488 835,-488 841,-488 847,-494 847,-500 847,-500 847,-544 847,-544 847,-550 841,-556 835,-556\"/>\n<text text-anchor=\"middle\" x=\"747\" y=\"-540.8\" font-family=\"Helvetica,sans-Serif\" font-size=\"14.00\" fill=\"#000000\">district_code &lt;= 3.5</text>\n<text text-anchor=\"middle\" x=\"747\" y=\"-525.8\" font-family=\"Helvetica,sans-Serif\" font-size=\"14.00\" fill=\"#000000\">samples = 95.8%</text>\n<text text-anchor=\"middle\" x=\"747\" y=\"-510.8\" font-family=\"Helvetica,sans-Serif\" font-size=\"14.00\" fill=\"#000000\">value = [0.552, 0.073, 0.375]</text>\n<text text-anchor=\"middle\" x=\"747\" y=\"-495.8\" font-family=\"Helvetica,sans-Serif\" font-size=\"14.00\" fill=\"#000000\">class = functional</text>\n</g>\n<!-- 0&#45;&gt;1 -->\n<g id=\"edge1\" class=\"edge\">\n<title>0&#45;&gt;1</title>\n<path fill=\"none\" stroke=\"#000000\" d=\"M890.9284,-591.9465C870.3287,-581.9354 847.6476,-570.9129 826.5033,-560.6371\"/>\n<polygon fill=\"#000000\" stroke=\"#000000\" points=\"827.753,-557.3531 817.229,-556.13 824.6933,-563.649 827.753,-557.3531\"/>\n<text text-anchor=\"middle\" x=\"825.4017\" y=\"-576.0564\" font-family=\"Helvetica,sans-Serif\" font-size=\"14.00\" fill=\"#000000\">True</text>\n</g>\n<!-- 24 -->\n<g id=\"node21\" class=\"node\">\n<title>24</title>\n<path fill=\"#cdb1f5\" stroke=\"#000000\" d=\"M1080,-556C1080,-556 904,-556 904,-556 898,-556 892,-550 892,-544 892,-544 892,-500 892,-500 892,-494 898,-488 904,-488 904,-488 1080,-488 1080,-488 1086,-488 1092,-494 1092,-500 1092,-500 1092,-544 1092,-544 1092,-550 1086,-556 1080,-556\"/>\n<text text-anchor=\"middle\" x=\"992\" y=\"-540.8\" font-family=\"Helvetica,sans-Serif\" font-size=\"14.00\" fill=\"#000000\">district_code &lt;= 38.0</text>\n<text text-anchor=\"middle\" x=\"992\" y=\"-525.8\" font-family=\"Helvetica,sans-Serif\" font-size=\"14.00\" fill=\"#000000\">samples = 4.2%</text>\n<text text-anchor=\"middle\" x=\"992\" y=\"-510.8\" font-family=\"Helvetica,sans-Serif\" font-size=\"14.00\" fill=\"#000000\">value = [0.339, 0.062, 0.599]</text>\n<text text-anchor=\"middle\" x=\"992\" y=\"-495.8\" font-family=\"Helvetica,sans-Serif\" font-size=\"14.00\" fill=\"#000000\">class = non functional</text>\n</g>\n<!-- 0&#45;&gt;24 -->\n<g id=\"edge20\" class=\"edge\">\n<title>0&#45;&gt;24</title>\n<path fill=\"none\" stroke=\"#000000\" d=\"M971.1506,-591.9465C973.6395,-583.5965 976.3382,-574.5427 978.9426,-565.8056\"/>\n<polygon fill=\"#000000\" stroke=\"#000000\" points=\"982.3242,-566.7131 981.8266,-556.13 975.6158,-564.7135 982.3242,-566.7131\"/>\n<text text-anchor=\"middle\" x=\"993.718\" y=\"-574.4208\" font-family=\"Helvetica,sans-Serif\" font-size=\"14.00\" fill=\"#000000\">False</text>\n</g>\n<!-- 2 -->\n<g id=\"node3\" class=\"node\">\n<title>2</title>\n<path fill=\"#f9e1d0\" stroke=\"#000000\" d=\"M565,-452C565,-452 397,-452 397,-452 391,-452 385,-446 385,-440 385,-440 385,-396 385,-396 385,-390 391,-384 397,-384 397,-384 565,-384 565,-384 571,-384 577,-390 577,-396 577,-396 577,-440 577,-440 577,-446 571,-452 565,-452\"/>\n<text text-anchor=\"middle\" x=\"481\" y=\"-436.8\" font-family=\"Helvetica,sans-Serif\" font-size=\"14.00\" fill=\"#000000\">district_code &lt;= 2.5</text>\n<text text-anchor=\"middle\" x=\"481\" y=\"-421.8\" font-family=\"Helvetica,sans-Serif\" font-size=\"14.00\" fill=\"#000000\">samples = 56.2%</text>\n<text text-anchor=\"middle\" x=\"481\" y=\"-406.8\" font-family=\"Helvetica,sans-Serif\" font-size=\"14.00\" fill=\"#000000\">value = [0.53, 0.085, 0.385]</text>\n<text text-anchor=\"middle\" x=\"481\" y=\"-391.8\" font-family=\"Helvetica,sans-Serif\" font-size=\"14.00\" fill=\"#000000\">class = functional</text>\n</g>\n<!-- 1&#45;&gt;2 -->\n<g id=\"edge2\" class=\"edge\">\n<title>1&#45;&gt;2</title>\n<path fill=\"none\" stroke=\"#000000\" d=\"M659.9017,-487.9465C633.6075,-477.6661 604.5851,-466.319 577.7047,-455.8093\"/>\n<polygon fill=\"#000000\" stroke=\"#000000\" points=\"578.882,-452.5117 568.294,-452.13 576.333,-459.0311 578.882,-452.5117\"/>\n</g>\n<!-- 9 -->\n<g id=\"node10\" class=\"node\">\n<title>9</title>\n<path fill=\"#f6d3ba\" stroke=\"#000000\" d=\"M831,-452C831,-452 663,-452 663,-452 657,-452 651,-446 651,-440 651,-440 651,-396 651,-396 651,-390 657,-384 663,-384 663,-384 831,-384 831,-384 837,-384 843,-390 843,-396 843,-396 843,-440 843,-440 843,-446 837,-452 831,-452\"/>\n<text text-anchor=\"middle\" x=\"747\" y=\"-436.8\" font-family=\"Helvetica,sans-Serif\" font-size=\"14.00\" fill=\"#000000\">district_code &lt;= 4.5</text>\n<text text-anchor=\"middle\" x=\"747\" y=\"-421.8\" font-family=\"Helvetica,sans-Serif\" font-size=\"14.00\" fill=\"#000000\">samples = 39.5%</text>\n<text text-anchor=\"middle\" x=\"747\" y=\"-406.8\" font-family=\"Helvetica,sans-Serif\" font-size=\"14.00\" fill=\"#000000\">value = [0.583, 0.057, 0.36]</text>\n<text text-anchor=\"middle\" x=\"747\" y=\"-391.8\" font-family=\"Helvetica,sans-Serif\" font-size=\"14.00\" fill=\"#000000\">class = functional</text>\n</g>\n<!-- 1&#45;&gt;9 -->\n<g id=\"edge9\" class=\"edge\">\n<title>1&#45;&gt;9</title>\n<path fill=\"none\" stroke=\"#000000\" d=\"M747,-487.9465C747,-479.776 747,-470.9318 747,-462.3697\"/>\n<polygon fill=\"#000000\" stroke=\"#000000\" points=\"750.5001,-462.13 747,-452.13 743.5001,-462.13 750.5001,-462.13\"/>\n</g>\n<!-- 3 -->\n<g id=\"node4\" class=\"node\">\n<title>3</title>\n<path fill=\"#f8dbc7\" stroke=\"#000000\" d=\"M355,-348C355,-348 179,-348 179,-348 173,-348 167,-342 167,-336 167,-336 167,-292 167,-292 167,-286 173,-280 179,-280 179,-280 355,-280 355,-280 361,-280 367,-286 367,-292 367,-292 367,-336 367,-336 367,-342 361,-348 355,-348\"/>\n<text text-anchor=\"middle\" x=\"267\" y=\"-332.8\" font-family=\"Helvetica,sans-Serif\" font-size=\"14.00\" fill=\"#000000\">district_code &lt;= 1.5</text>\n<text text-anchor=\"middle\" x=\"267\" y=\"-317.8\" font-family=\"Helvetica,sans-Serif\" font-size=\"14.00\" fill=\"#000000\">samples = 39.4%</text>\n<text text-anchor=\"middle\" x=\"267\" y=\"-302.8\" font-family=\"Helvetica,sans-Serif\" font-size=\"14.00\" fill=\"#000000\">value = [0.544, 0.091, 0.365]</text>\n<text text-anchor=\"middle\" x=\"267\" y=\"-287.8\" font-family=\"Helvetica,sans-Serif\" font-size=\"14.00\" fill=\"#000000\">class = functional</text>\n</g>\n<!-- 2&#45;&gt;3 -->\n<g id=\"edge3\" class=\"edge\">\n<title>2&#45;&gt;3</title>\n<path fill=\"none\" stroke=\"#000000\" d=\"M410.9284,-383.9465C390.3287,-373.9354 367.6476,-362.9129 346.5033,-352.6371\"/>\n<polygon fill=\"#000000\" stroke=\"#000000\" points=\"347.753,-349.3531 337.229,-348.13 344.6933,-355.649 347.753,-349.3531\"/>\n</g>\n<!-- 8 -->\n<g id=\"node9\" class=\"node\">\n<title>8</title>\n<path fill=\"#fcf0e8\" stroke=\"#000000\" d=\"M565,-340.5C565,-340.5 397,-340.5 397,-340.5 391,-340.5 385,-334.5 385,-328.5 385,-328.5 385,-299.5 385,-299.5 385,-293.5 391,-287.5 397,-287.5 397,-287.5 565,-287.5 565,-287.5 571,-287.5 577,-293.5 577,-299.5 577,-299.5 577,-328.5 577,-328.5 577,-334.5 571,-340.5 565,-340.5\"/>\n<text text-anchor=\"middle\" x=\"481\" y=\"-325.3\" font-family=\"Helvetica,sans-Serif\" font-size=\"14.00\" fill=\"#000000\">samples = 16.9%</text>\n<text text-anchor=\"middle\" x=\"481\" y=\"-310.3\" font-family=\"Helvetica,sans-Serif\" font-size=\"14.00\" fill=\"#000000\">value = [0.498, 0.07, 0.432]</text>\n<text text-anchor=\"middle\" x=\"481\" y=\"-295.3\" font-family=\"Helvetica,sans-Serif\" font-size=\"14.00\" fill=\"#000000\">class = functional</text>\n</g>\n<!-- 2&#45;&gt;8 -->\n<g id=\"edge8\" class=\"edge\">\n<title>2&#45;&gt;8</title>\n<path fill=\"none\" stroke=\"#000000\" d=\"M481,-383.9465C481,-373.2621 481,-361.4254 481,-350.5742\"/>\n<polygon fill=\"#000000\" stroke=\"#000000\" points=\"484.5001,-350.5421 481,-340.5422 477.5001,-350.5422 484.5001,-350.5421\"/>\n</g>\n<!-- 4 -->\n<g id=\"node5\" class=\"node\">\n<title>4</title>\n<path fill=\"#f8dcc7\" stroke=\"#000000\" d=\"M294,-244C294,-244 118,-244 118,-244 112,-244 106,-238 106,-232 106,-232 106,-188 106,-188 106,-182 112,-176 118,-176 118,-176 294,-176 294,-176 300,-176 306,-182 306,-188 306,-188 306,-232 306,-232 306,-238 300,-244 294,-244\"/>\n<text text-anchor=\"middle\" x=\"206\" y=\"-228.8\" font-family=\"Helvetica,sans-Serif\" font-size=\"14.00\" fill=\"#000000\">district_code &lt;= 0.5</text>\n<text text-anchor=\"middle\" x=\"206\" y=\"-213.8\" font-family=\"Helvetica,sans-Serif\" font-size=\"14.00\" fill=\"#000000\">samples = 20.6%</text>\n<text text-anchor=\"middle\" x=\"206\" y=\"-198.8\" font-family=\"Helvetica,sans-Serif\" font-size=\"14.00\" fill=\"#000000\">value = [0.538, 0.105, 0.357]</text>\n<text text-anchor=\"middle\" x=\"206\" y=\"-183.8\" font-family=\"Helvetica,sans-Serif\" font-size=\"14.00\" fill=\"#000000\">class = functional</text>\n</g>\n<!-- 3&#45;&gt;4 -->\n<g id=\"edge4\" class=\"edge\">\n<title>3&#45;&gt;4</title>\n<path fill=\"none\" stroke=\"#000000\" d=\"M247.0263,-279.9465C241.9707,-271.3271 236.4753,-261.9579 231.1983,-252.9611\"/>\n<polygon fill=\"#000000\" stroke=\"#000000\" points=\"234.0969,-250.985 226.0186,-244.13 228.0589,-254.5265 234.0969,-250.985\"/>\n</g>\n<!-- 7 -->\n<g id=\"node8\" class=\"node\">\n<title>7</title>\n<path fill=\"#f8dbc7\" stroke=\"#000000\" d=\"M512,-236.5C512,-236.5 336,-236.5 336,-236.5 330,-236.5 324,-230.5 324,-224.5 324,-224.5 324,-195.5 324,-195.5 324,-189.5 330,-183.5 336,-183.5 336,-183.5 512,-183.5 512,-183.5 518,-183.5 524,-189.5 524,-195.5 524,-195.5 524,-224.5 524,-224.5 524,-230.5 518,-236.5 512,-236.5\"/>\n<text text-anchor=\"middle\" x=\"424\" y=\"-221.3\" font-family=\"Helvetica,sans-Serif\" font-size=\"14.00\" fill=\"#000000\">samples = 18.8%</text>\n<text text-anchor=\"middle\" x=\"424\" y=\"-206.3\" font-family=\"Helvetica,sans-Serif\" font-size=\"14.00\" fill=\"#000000\">value = [0.551, 0.076, 0.373]</text>\n<text text-anchor=\"middle\" x=\"424\" y=\"-191.3\" font-family=\"Helvetica,sans-Serif\" font-size=\"14.00\" fill=\"#000000\">class = functional</text>\n</g>\n<!-- 3&#45;&gt;7 -->\n<g id=\"edge7\" class=\"edge\">\n<title>3&#45;&gt;7</title>\n<path fill=\"none\" stroke=\"#000000\" d=\"M318.4077,-279.9465C336.6988,-267.8301 357.2266,-254.232 375.2853,-242.2696\"/>\n<polygon fill=\"#000000\" stroke=\"#000000\" points=\"377.5276,-244.9826 383.9315,-236.5422 373.6618,-239.1468 377.5276,-244.9826\"/>\n</g>\n<!-- 5 -->\n<g id=\"node6\" class=\"node\">\n<title>5</title>\n<path fill=\"#b388ef\" stroke=\"#000000\" d=\"M188,-132.5C188,-132.5 12,-132.5 12,-132.5 6,-132.5 0,-126.5 0,-120.5 0,-120.5 0,-91.5 0,-91.5 0,-85.5 6,-79.5 12,-79.5 12,-79.5 188,-79.5 188,-79.5 194,-79.5 200,-85.5 200,-91.5 200,-91.5 200,-120.5 200,-120.5 200,-126.5 194,-132.5 188,-132.5\"/>\n<text text-anchor=\"middle\" x=\"100\" y=\"-117.3\" font-family=\"Helvetica,sans-Serif\" font-size=\"14.00\" fill=\"#000000\">samples = 0.0%</text>\n<text text-anchor=\"middle\" x=\"100\" y=\"-102.3\" font-family=\"Helvetica,sans-Serif\" font-size=\"14.00\" fill=\"#000000\">value = [0.211, 0.105, 0.684]</text>\n<text text-anchor=\"middle\" x=\"100\" y=\"-87.3\" font-family=\"Helvetica,sans-Serif\" font-size=\"14.00\" fill=\"#000000\">class = non functional</text>\n</g>\n<!-- 4&#45;&gt;5 -->\n<g id=\"edge5\" class=\"edge\">\n<title>4&#45;&gt;5</title>\n<path fill=\"none\" stroke=\"#000000\" d=\"M171.2916,-175.9465C159.3913,-164.2707 146.0886,-151.219 134.2267,-139.5809\"/>\n<polygon fill=\"#000000\" stroke=\"#000000\" points=\"136.6419,-137.0473 127.0526,-132.5422 131.7395,-142.0439 136.6419,-137.0473\"/>\n</g>\n<!-- 6 -->\n<g id=\"node7\" class=\"node\">\n<title>6</title>\n<path fill=\"#f8dbc7\" stroke=\"#000000\" d=\"M406,-132.5C406,-132.5 230,-132.5 230,-132.5 224,-132.5 218,-126.5 218,-120.5 218,-120.5 218,-91.5 218,-91.5 218,-85.5 224,-79.5 230,-79.5 230,-79.5 406,-79.5 406,-79.5 412,-79.5 418,-85.5 418,-91.5 418,-91.5 418,-120.5 418,-120.5 418,-126.5 412,-132.5 406,-132.5\"/>\n<text text-anchor=\"middle\" x=\"318\" y=\"-117.3\" font-family=\"Helvetica,sans-Serif\" font-size=\"14.00\" fill=\"#000000\">samples = 20.6%</text>\n<text text-anchor=\"middle\" x=\"318\" y=\"-102.3\" font-family=\"Helvetica,sans-Serif\" font-size=\"14.00\" fill=\"#000000\">value = [0.538, 0.105, 0.357]</text>\n<text text-anchor=\"middle\" x=\"318\" y=\"-87.3\" font-family=\"Helvetica,sans-Serif\" font-size=\"14.00\" fill=\"#000000\">class = functional</text>\n</g>\n<!-- 4&#45;&gt;6 -->\n<g id=\"edge6\" class=\"edge\">\n<title>4&#45;&gt;6</title>\n<path fill=\"none\" stroke=\"#000000\" d=\"M242.673,-175.9465C255.2469,-164.2707 269.3026,-151.219 281.8359,-139.5809\"/>\n<polygon fill=\"#000000\" stroke=\"#000000\" points=\"284.4698,-141.9115 289.4161,-132.5422 279.7066,-136.7819 284.4698,-141.9115\"/>\n</g>\n<!-- 10 -->\n<g id=\"node11\" class=\"node\">\n<title>10</title>\n<path fill=\"#f4c8a8\" stroke=\"#000000\" d=\"M783,-340.5C783,-340.5 607,-340.5 607,-340.5 601,-340.5 595,-334.5 595,-328.5 595,-328.5 595,-299.5 595,-299.5 595,-293.5 601,-287.5 607,-287.5 607,-287.5 783,-287.5 783,-287.5 789,-287.5 795,-293.5 795,-299.5 795,-299.5 795,-328.5 795,-328.5 795,-334.5 789,-340.5 783,-340.5\"/>\n<text text-anchor=\"middle\" x=\"695\" y=\"-325.3\" font-family=\"Helvetica,sans-Serif\" font-size=\"14.00\" fill=\"#000000\">samples = 15.2%</text>\n<text text-anchor=\"middle\" x=\"695\" y=\"-310.3\" font-family=\"Helvetica,sans-Serif\" font-size=\"14.00\" fill=\"#000000\">value = [0.621, 0.057, 0.323]</text>\n<text text-anchor=\"middle\" x=\"695\" y=\"-295.3\" font-family=\"Helvetica,sans-Serif\" font-size=\"14.00\" fill=\"#000000\">class = functional</text>\n</g>\n<!-- 9&#45;&gt;10 -->\n<g id=\"edge10\" class=\"edge\">\n<title>9&#45;&gt;10</title>\n<path fill=\"none\" stroke=\"#000000\" d=\"M729.9733,-383.9465C724.4658,-372.9316 718.3461,-360.6922 712.7851,-349.5703\"/>\n<polygon fill=\"#000000\" stroke=\"#000000\" points=\"715.8738,-347.9212 708.2711,-340.5422 709.6128,-351.0517 715.8738,-347.9212\"/>\n</g>\n<!-- 11 -->\n<g id=\"node12\" class=\"node\">\n<title>11</title>\n<path fill=\"#f8dbc6\" stroke=\"#000000\" d=\"M993,-348C993,-348 825,-348 825,-348 819,-348 813,-342 813,-336 813,-336 813,-292 813,-292 813,-286 819,-280 825,-280 825,-280 993,-280 993,-280 999,-280 1005,-286 1005,-292 1005,-292 1005,-336 1005,-336 1005,-342 999,-348 993,-348\"/>\n<text text-anchor=\"middle\" x=\"909\" y=\"-332.8\" font-family=\"Helvetica,sans-Serif\" font-size=\"14.00\" fill=\"#000000\">district_code &lt;= 26.5</text>\n<text text-anchor=\"middle\" x=\"909\" y=\"-317.8\" font-family=\"Helvetica,sans-Serif\" font-size=\"14.00\" fill=\"#000000\">samples = 24.3%</text>\n<text text-anchor=\"middle\" x=\"909\" y=\"-302.8\" font-family=\"Helvetica,sans-Serif\" font-size=\"14.00\" fill=\"#000000\">value = [0.56, 0.057, 0.384]</text>\n<text text-anchor=\"middle\" x=\"909\" y=\"-287.8\" font-family=\"Helvetica,sans-Serif\" font-size=\"14.00\" fill=\"#000000\">class = functional</text>\n</g>\n<!-- 9&#45;&gt;11 -->\n<g id=\"edge11\" class=\"edge\">\n<title>9&#45;&gt;11</title>\n<path fill=\"none\" stroke=\"#000000\" d=\"M800.0449,-383.9465C815.1495,-374.2497 831.7324,-363.6039 847.3046,-353.6069\"/>\n<polygon fill=\"#000000\" stroke=\"#000000\" points=\"849.3116,-356.4777 855.836,-348.13 845.53,-350.5871 849.3116,-356.4777\"/>\n</g>\n<!-- 12 -->\n<g id=\"node13\" class=\"node\">\n<title>12</title>\n<path fill=\"#f8dfcd\" stroke=\"#000000\" d=\"M783,-244C783,-244 607,-244 607,-244 601,-244 595,-238 595,-232 595,-232 595,-188 595,-188 595,-182 601,-176 607,-176 607,-176 783,-176 783,-176 789,-176 795,-182 795,-188 795,-188 795,-232 795,-232 795,-238 789,-244 783,-244\"/>\n<text text-anchor=\"middle\" x=\"695\" y=\"-228.8\" font-family=\"Helvetica,sans-Serif\" font-size=\"14.00\" fill=\"#000000\">district_code &lt;= 10.5</text>\n<text text-anchor=\"middle\" x=\"695\" y=\"-213.8\" font-family=\"Helvetica,sans-Serif\" font-size=\"14.00\" fill=\"#000000\">samples = 22.7%</text>\n<text text-anchor=\"middle\" x=\"695\" y=\"-198.8\" font-family=\"Helvetica,sans-Serif\" font-size=\"14.00\" fill=\"#000000\">value = [0.549, 0.055, 0.396]</text>\n<text text-anchor=\"middle\" x=\"695\" y=\"-183.8\" font-family=\"Helvetica,sans-Serif\" font-size=\"14.00\" fill=\"#000000\">class = functional</text>\n</g>\n<!-- 11&#45;&gt;12 -->\n<g id=\"edge12\" class=\"edge\">\n<title>11&#45;&gt;12</title>\n<path fill=\"none\" stroke=\"#000000\" d=\"M838.9284,-279.9465C818.3287,-269.9354 795.6476,-258.9129 774.5033,-248.6371\"/>\n<polygon fill=\"#000000\" stroke=\"#000000\" points=\"775.753,-245.3531 765.229,-244.13 772.6933,-251.649 775.753,-245.3531\"/>\n</g>\n<!-- 23 -->\n<g id=\"node20\" class=\"node\">\n<title>23</title>\n<path fill=\"#efb083\" stroke=\"#000000\" d=\"M993,-236.5C993,-236.5 825,-236.5 825,-236.5 819,-236.5 813,-230.5 813,-224.5 813,-224.5 813,-195.5 813,-195.5 813,-189.5 819,-183.5 825,-183.5 825,-183.5 993,-183.5 993,-183.5 999,-183.5 1005,-189.5 1005,-195.5 1005,-195.5 1005,-224.5 1005,-224.5 1005,-230.5 999,-236.5 993,-236.5\"/>\n<text text-anchor=\"middle\" x=\"909\" y=\"-221.3\" font-family=\"Helvetica,sans-Serif\" font-size=\"14.00\" fill=\"#000000\">samples = 1.6%</text>\n<text text-anchor=\"middle\" x=\"909\" y=\"-206.3\" font-family=\"Helvetica,sans-Serif\" font-size=\"14.00\" fill=\"#000000\">value = [0.703, 0.086, 0.21]</text>\n<text text-anchor=\"middle\" x=\"909\" y=\"-191.3\" font-family=\"Helvetica,sans-Serif\" font-size=\"14.00\" fill=\"#000000\">class = functional</text>\n</g>\n<!-- 11&#45;&gt;23 -->\n<g id=\"edge19\" class=\"edge\">\n<title>11&#45;&gt;23</title>\n<path fill=\"none\" stroke=\"#000000\" d=\"M909,-279.9465C909,-269.2621 909,-257.4254 909,-246.5742\"/>\n<polygon fill=\"#000000\" stroke=\"#000000\" points=\"912.5001,-246.5421 909,-236.5422 905.5001,-246.5422 912.5001,-246.5421\"/>\n</g>\n<!-- 13 -->\n<g id=\"node14\" class=\"node\">\n<title>13</title>\n<path fill=\"#f8ddc9\" stroke=\"#000000\" d=\"M618,-140C618,-140 450,-140 450,-140 444,-140 438,-134 438,-128 438,-128 438,-84 438,-84 438,-78 444,-72 450,-72 450,-72 618,-72 618,-72 624,-72 630,-78 630,-84 630,-84 630,-128 630,-128 630,-134 624,-140 618,-140\"/>\n<text text-anchor=\"middle\" x=\"534\" y=\"-124.8\" font-family=\"Helvetica,sans-Serif\" font-size=\"14.00\" fill=\"#000000\">district_code &lt;= 6.5</text>\n<text text-anchor=\"middle\" x=\"534\" y=\"-109.8\" font-family=\"Helvetica,sans-Serif\" font-size=\"14.00\" fill=\"#000000\">samples = 21.5%</text>\n<text text-anchor=\"middle\" x=\"534\" y=\"-94.8\" font-family=\"Helvetica,sans-Serif\" font-size=\"14.00\" fill=\"#000000\">value = [0.557, 0.053, 0.39]</text>\n<text text-anchor=\"middle\" x=\"534\" y=\"-79.8\" font-family=\"Helvetica,sans-Serif\" font-size=\"14.00\" fill=\"#000000\">class = functional</text>\n</g>\n<!-- 12&#45;&gt;13 -->\n<g id=\"edge13\" class=\"edge\">\n<title>12&#45;&gt;13</title>\n<path fill=\"none\" stroke=\"#000000\" d=\"M642.2826,-175.9465C627.2712,-166.2497 610.7906,-155.6039 595.3146,-145.6069\"/>\n<polygon fill=\"#000000\" stroke=\"#000000\" points=\"597.1349,-142.6161 586.8359,-140.13 593.3367,-148.496 597.1349,-142.6161\"/>\n</g>\n<!-- 20 -->\n<g id=\"node17\" class=\"node\">\n<title>20</title>\n<path fill=\"#eadefb\" stroke=\"#000000\" d=\"M836,-140C836,-140 660,-140 660,-140 654,-140 648,-134 648,-128 648,-128 648,-84 648,-84 648,-78 654,-72 660,-72 660,-72 836,-72 836,-72 842,-72 848,-78 848,-84 848,-84 848,-128 848,-128 848,-134 842,-140 836,-140\"/>\n<text text-anchor=\"middle\" x=\"748\" y=\"-124.8\" font-family=\"Helvetica,sans-Serif\" font-size=\"14.00\" fill=\"#000000\">district_code &lt;= 18.0</text>\n<text text-anchor=\"middle\" x=\"748\" y=\"-109.8\" font-family=\"Helvetica,sans-Serif\" font-size=\"14.00\" fill=\"#000000\">samples = 1.1%</text>\n<text text-anchor=\"middle\" x=\"748\" y=\"-94.8\" font-family=\"Helvetica,sans-Serif\" font-size=\"14.00\" fill=\"#000000\">value = [0.412, 0.079, 0.509]</text>\n<text text-anchor=\"middle\" x=\"748\" y=\"-79.8\" font-family=\"Helvetica,sans-Serif\" font-size=\"14.00\" fill=\"#000000\">class = non functional</text>\n</g>\n<!-- 12&#45;&gt;20 -->\n<g id=\"edge16\" class=\"edge\">\n<title>12&#45;&gt;20</title>\n<path fill=\"none\" stroke=\"#000000\" d=\"M712.3542,-175.9465C716.701,-167.4169 721.422,-158.153 725.963,-149.2424\"/>\n<polygon fill=\"#000000\" stroke=\"#000000\" points=\"729.1846,-150.629 730.6068,-140.13 722.9478,-147.4505 729.1846,-150.629\"/>\n</g>\n<!-- 14 -->\n<g id=\"node15\" class=\"node\">\n<title>14</title>\n<path fill=\"#c0c0c0\" stroke=\"#000000\" d=\"M512,-36C512,-36 482,-36 482,-36 476,-36 470,-30 470,-24 470,-24 470,-12 470,-12 470,-6 476,0 482,0 482,0 512,0 512,0 518,0 524,-6 524,-12 524,-12 524,-24 524,-24 524,-30 518,-36 512,-36\"/>\n<text text-anchor=\"middle\" x=\"497\" y=\"-14.3\" font-family=\"Helvetica,sans-Serif\" font-size=\"14.00\" fill=\"#000000\">(...)</text>\n</g>\n<!-- 13&#45;&gt;14 -->\n<g id=\"edge14\" class=\"edge\">\n<title>13&#45;&gt;14</title>\n<path fill=\"none\" stroke=\"#000000\" d=\"M519.6948,-71.9769C516.0116,-63.2167 512.0941,-53.8995 508.5691,-45.5157\"/>\n<polygon fill=\"#000000\" stroke=\"#000000\" points=\"511.7513,-44.0537 504.6489,-36.192 505.2984,-46.7669 511.7513,-44.0537\"/>\n</g>\n<!-- 17 -->\n<g id=\"node16\" class=\"node\">\n<title>17</title>\n<path fill=\"#c0c0c0\" stroke=\"#000000\" d=\"M584,-36C584,-36 554,-36 554,-36 548,-36 542,-30 542,-24 542,-24 542,-12 542,-12 542,-6 548,0 554,0 554,0 584,0 584,0 590,0 596,-6 596,-12 596,-12 596,-24 596,-24 596,-30 590,-36 584,-36\"/>\n<text text-anchor=\"middle\" x=\"569\" y=\"-14.3\" font-family=\"Helvetica,sans-Serif\" font-size=\"14.00\" fill=\"#000000\">(...)</text>\n</g>\n<!-- 13&#45;&gt;17 -->\n<g id=\"edge15\" class=\"edge\">\n<title>13&#45;&gt;17</title>\n<path fill=\"none\" stroke=\"#000000\" d=\"M547.5319,-71.9769C551.0161,-63.2167 554.7218,-53.8995 558.0562,-45.5157\"/>\n<polygon fill=\"#000000\" stroke=\"#000000\" points=\"561.321,-46.7775 561.7646,-36.192 554.8166,-44.1905 561.321,-46.7775\"/>\n</g>\n<!-- 21 -->\n<g id=\"node18\" class=\"node\">\n<title>21</title>\n<path fill=\"#c0c0c0\" stroke=\"#000000\" d=\"M727,-36C727,-36 697,-36 697,-36 691,-36 685,-30 685,-24 685,-24 685,-12 685,-12 685,-6 691,0 697,0 697,0 727,0 727,0 733,0 739,-6 739,-12 739,-12 739,-24 739,-24 739,-30 733,-36 727,-36\"/>\n<text text-anchor=\"middle\" x=\"712\" y=\"-14.3\" font-family=\"Helvetica,sans-Serif\" font-size=\"14.00\" fill=\"#000000\">(...)</text>\n</g>\n<!-- 20&#45;&gt;21 -->\n<g id=\"edge17\" class=\"edge\">\n<title>20&#45;&gt;21</title>\n<path fill=\"none\" stroke=\"#000000\" d=\"M734.0815,-71.9769C730.4977,-63.2167 726.6862,-53.8995 723.2564,-45.5157\"/>\n<polygon fill=\"#000000\" stroke=\"#000000\" points=\"726.468,-44.1222 719.4422,-36.192 719.9891,-46.7727 726.468,-44.1222\"/>\n</g>\n<!-- 22 -->\n<g id=\"node19\" class=\"node\">\n<title>22</title>\n<path fill=\"#c0c0c0\" stroke=\"#000000\" d=\"M799,-36C799,-36 769,-36 769,-36 763,-36 757,-30 757,-24 757,-24 757,-12 757,-12 757,-6 763,0 769,0 769,0 799,0 799,0 805,0 811,-6 811,-12 811,-12 811,-24 811,-24 811,-30 805,-36 799,-36\"/>\n<text text-anchor=\"middle\" x=\"784\" y=\"-14.3\" font-family=\"Helvetica,sans-Serif\" font-size=\"14.00\" fill=\"#000000\">(...)</text>\n</g>\n<!-- 20&#45;&gt;22 -->\n<g id=\"edge18\" class=\"edge\">\n<title>20&#45;&gt;22</title>\n<path fill=\"none\" stroke=\"#000000\" d=\"M761.9185,-71.9769C765.5023,-63.2167 769.3138,-53.8995 772.7436,-45.5157\"/>\n<polygon fill=\"#000000\" stroke=\"#000000\" points=\"776.0109,-46.7727 776.5578,-36.192 769.532,-44.1222 776.0109,-46.7727\"/>\n</g>\n<!-- 25 -->\n<g id=\"node22\" class=\"node\">\n<title>25</title>\n<path fill=\"#ba92f1\" stroke=\"#000000\" d=\"M1080,-444.5C1080,-444.5 904,-444.5 904,-444.5 898,-444.5 892,-438.5 892,-432.5 892,-432.5 892,-403.5 892,-403.5 892,-397.5 898,-391.5 904,-391.5 904,-391.5 1080,-391.5 1080,-391.5 1086,-391.5 1092,-397.5 1092,-403.5 1092,-403.5 1092,-432.5 1092,-432.5 1092,-438.5 1086,-444.5 1080,-444.5\"/>\n<text text-anchor=\"middle\" x=\"992\" y=\"-429.3\" font-family=\"Helvetica,sans-Serif\" font-size=\"14.00\" fill=\"#000000\">samples = 1.5%</text>\n<text text-anchor=\"middle\" x=\"992\" y=\"-414.3\" font-family=\"Helvetica,sans-Serif\" font-size=\"14.00\" fill=\"#000000\">value = [0.226, 0.123, 0.651]</text>\n<text text-anchor=\"middle\" x=\"992\" y=\"-399.3\" font-family=\"Helvetica,sans-Serif\" font-size=\"14.00\" fill=\"#000000\">class = non functional</text>\n</g>\n<!-- 24&#45;&gt;25 -->\n<g id=\"edge21\" class=\"edge\">\n<title>24&#45;&gt;25</title>\n<path fill=\"none\" stroke=\"#000000\" d=\"M992,-487.9465C992,-477.2621 992,-465.4254 992,-454.5742\"/>\n<polygon fill=\"#000000\" stroke=\"#000000\" points=\"995.5001,-454.5421 992,-444.5422 988.5001,-454.5422 995.5001,-454.5421\"/>\n</g>\n<!-- 26 -->\n<g id=\"node23\" class=\"node\">\n<title>26</title>\n<path fill=\"#dbc7f8\" stroke=\"#000000\" d=\"M1308,-452C1308,-452 1148,-452 1148,-452 1142,-452 1136,-446 1136,-440 1136,-440 1136,-396 1136,-396 1136,-390 1142,-384 1148,-384 1148,-384 1308,-384 1308,-384 1314,-384 1320,-390 1320,-396 1320,-396 1320,-440 1320,-440 1320,-446 1314,-452 1308,-452\"/>\n<text text-anchor=\"middle\" x=\"1228\" y=\"-436.8\" font-family=\"Helvetica,sans-Serif\" font-size=\"14.00\" fill=\"#000000\">district_code &lt;= 56.5</text>\n<text text-anchor=\"middle\" x=\"1228\" y=\"-421.8\" font-family=\"Helvetica,sans-Serif\" font-size=\"14.00\" fill=\"#000000\">samples = 2.8%</text>\n<text text-anchor=\"middle\" x=\"1228\" y=\"-406.8\" font-family=\"Helvetica,sans-Serif\" font-size=\"14.00\" fill=\"#000000\">value = [0.4, 0.029, 0.571]</text>\n<text text-anchor=\"middle\" x=\"1228\" y=\"-391.8\" font-family=\"Helvetica,sans-Serif\" font-size=\"14.00\" fill=\"#000000\">class = non functional</text>\n</g>\n<!-- 24&#45;&gt;26 -->\n<g id=\"edge22\" class=\"edge\">\n<title>24&#45;&gt;26</title>\n<path fill=\"none\" stroke=\"#000000\" d=\"M1069.2752,-487.9465C1092.2983,-477.8008 1117.6788,-466.6161 1141.2636,-456.2228\"/>\n<polygon fill=\"#000000\" stroke=\"#000000\" points=\"1142.8117,-459.3654 1150.5512,-452.13 1139.9889,-452.9598 1142.8117,-459.3654\"/>\n</g>\n<!-- 27 -->\n<g id=\"node24\" class=\"node\">\n<title>27</title>\n<path fill=\"#d4bcf6\" stroke=\"#000000\" d=\"M1304,-348C1304,-348 1152,-348 1152,-348 1146,-348 1140,-342 1140,-336 1140,-336 1140,-292 1140,-292 1140,-286 1146,-280 1152,-280 1152,-280 1304,-280 1304,-280 1310,-280 1316,-286 1316,-292 1316,-292 1316,-336 1316,-336 1316,-342 1310,-348 1304,-348\"/>\n<text text-anchor=\"middle\" x=\"1228\" y=\"-332.8\" font-family=\"Helvetica,sans-Serif\" font-size=\"14.00\" fill=\"#000000\">district_code &lt;= 48.0</text>\n<text text-anchor=\"middle\" x=\"1228\" y=\"-317.8\" font-family=\"Helvetica,sans-Serif\" font-size=\"14.00\" fill=\"#000000\">samples = 2.1%</text>\n<text text-anchor=\"middle\" x=\"1228\" y=\"-302.8\" font-family=\"Helvetica,sans-Serif\" font-size=\"14.00\" fill=\"#000000\">value = [0.38, 0.03, 0.59]</text>\n<text text-anchor=\"middle\" x=\"1228\" y=\"-287.8\" font-family=\"Helvetica,sans-Serif\" font-size=\"14.00\" fill=\"#000000\">class = non functional</text>\n</g>\n<!-- 26&#45;&gt;27 -->\n<g id=\"edge23\" class=\"edge\">\n<title>26&#45;&gt;27</title>\n<path fill=\"none\" stroke=\"#000000\" d=\"M1228,-383.9465C1228,-375.776 1228,-366.9318 1228,-358.3697\"/>\n<polygon fill=\"#000000\" stroke=\"#000000\" points=\"1231.5001,-358.13 1228,-348.13 1224.5001,-358.13 1231.5001,-358.13\"/>\n</g>\n<!-- 30 -->\n<g id=\"node27\" class=\"node\">\n<title>30</title>\n<path fill=\"#f5effd\" stroke=\"#000000\" d=\"M1639,-348C1639,-348 1463,-348 1463,-348 1457,-348 1451,-342 1451,-336 1451,-336 1451,-292 1451,-292 1451,-286 1457,-280 1463,-280 1463,-280 1639,-280 1639,-280 1645,-280 1651,-286 1651,-292 1651,-292 1651,-336 1651,-336 1651,-342 1645,-348 1639,-348\"/>\n<text text-anchor=\"middle\" x=\"1551\" y=\"-332.8\" font-family=\"Helvetica,sans-Serif\" font-size=\"14.00\" fill=\"#000000\">district_code &lt;= 61.0</text>\n<text text-anchor=\"middle\" x=\"1551\" y=\"-317.8\" font-family=\"Helvetica,sans-Serif\" font-size=\"14.00\" fill=\"#000000\">samples = 0.6%</text>\n<text text-anchor=\"middle\" x=\"1551\" y=\"-302.8\" font-family=\"Helvetica,sans-Serif\" font-size=\"14.00\" fill=\"#000000\">value = [0.466, 0.026, 0.508]</text>\n<text text-anchor=\"middle\" x=\"1551\" y=\"-287.8\" font-family=\"Helvetica,sans-Serif\" font-size=\"14.00\" fill=\"#000000\">class = non functional</text>\n</g>\n<!-- 26&#45;&gt;30 -->\n<g id=\"edge26\" class=\"edge\">\n<title>26&#45;&gt;30</title>\n<path fill=\"none\" stroke=\"#000000\" d=\"M1320.1266,-388.337C1357.7721,-376.2158 1401.6267,-362.0954 1440.9403,-349.4372\"/>\n<polygon fill=\"#000000\" stroke=\"#000000\" points=\"1442.3849,-352.6491 1450.8309,-346.2526 1440.2394,-345.9859 1442.3849,-352.6491\"/>\n</g>\n<!-- 28 -->\n<g id=\"node25\" class=\"node\">\n<title>28</title>\n<path fill=\"#e6d8fa\" stroke=\"#000000\" d=\"M1203,-236.5C1203,-236.5 1035,-236.5 1035,-236.5 1029,-236.5 1023,-230.5 1023,-224.5 1023,-224.5 1023,-195.5 1023,-195.5 1023,-189.5 1029,-183.5 1035,-183.5 1035,-183.5 1203,-183.5 1203,-183.5 1209,-183.5 1215,-189.5 1215,-195.5 1215,-195.5 1215,-224.5 1215,-224.5 1215,-230.5 1209,-236.5 1203,-236.5\"/>\n<text text-anchor=\"middle\" x=\"1119\" y=\"-221.3\" font-family=\"Helvetica,sans-Serif\" font-size=\"14.00\" fill=\"#000000\">samples = 0.9%</text>\n<text text-anchor=\"middle\" x=\"1119\" y=\"-206.3\" font-family=\"Helvetica,sans-Serif\" font-size=\"14.00\" fill=\"#000000\">value = [0.434, 0.02, 0.546]</text>\n<text text-anchor=\"middle\" x=\"1119\" y=\"-191.3\" font-family=\"Helvetica,sans-Serif\" font-size=\"14.00\" fill=\"#000000\">class = non functional</text>\n</g>\n<!-- 27&#45;&gt;28 -->\n<g id=\"edge24\" class=\"edge\">\n<title>27&#45;&gt;28</title>\n<path fill=\"none\" stroke=\"#000000\" d=\"M1192.3093,-279.9465C1180.0722,-268.2707 1166.393,-255.219 1154.1954,-243.5809\"/>\n<polygon fill=\"#000000\" stroke=\"#000000\" points=\"1156.4694,-240.9131 1146.8182,-236.5422 1151.6372,-245.9777 1156.4694,-240.9131\"/>\n</g>\n<!-- 29 -->\n<g id=\"node26\" class=\"node\">\n<title>29</title>\n<path fill=\"#caabf4\" stroke=\"#000000\" d=\"M1421,-236.5C1421,-236.5 1245,-236.5 1245,-236.5 1239,-236.5 1233,-230.5 1233,-224.5 1233,-224.5 1233,-195.5 1233,-195.5 1233,-189.5 1239,-183.5 1245,-183.5 1245,-183.5 1421,-183.5 1421,-183.5 1427,-183.5 1433,-189.5 1433,-195.5 1433,-195.5 1433,-224.5 1433,-224.5 1433,-230.5 1427,-236.5 1421,-236.5\"/>\n<text text-anchor=\"middle\" x=\"1333\" y=\"-221.3\" font-family=\"Helvetica,sans-Serif\" font-size=\"14.00\" fill=\"#000000\">samples = 1.2%</text>\n<text text-anchor=\"middle\" x=\"1333\" y=\"-206.3\" font-family=\"Helvetica,sans-Serif\" font-size=\"14.00\" fill=\"#000000\">value = [0.342, 0.037, 0.621]</text>\n<text text-anchor=\"middle\" x=\"1333\" y=\"-191.3\" font-family=\"Helvetica,sans-Serif\" font-size=\"14.00\" fill=\"#000000\">class = non functional</text>\n</g>\n<!-- 27&#45;&gt;29 -->\n<g id=\"edge25\" class=\"edge\">\n<title>27&#45;&gt;29</title>\n<path fill=\"none\" stroke=\"#000000\" d=\"M1262.3809,-279.9465C1274.169,-268.2707 1287.3462,-255.219 1299.0962,-243.5809\"/>\n<polygon fill=\"#000000\" stroke=\"#000000\" points=\"1301.5608,-246.066 1306.2026,-236.5422 1296.6348,-241.0927 1301.5608,-246.066\"/>\n</g>\n<!-- 31 -->\n<g id=\"node28\" class=\"node\">\n<title>31</title>\n<path fill=\"#eba069\" stroke=\"#000000\" d=\"M1639,-236.5C1639,-236.5 1463,-236.5 1463,-236.5 1457,-236.5 1451,-230.5 1451,-224.5 1451,-224.5 1451,-195.5 1451,-195.5 1451,-189.5 1457,-183.5 1463,-183.5 1463,-183.5 1639,-183.5 1639,-183.5 1645,-183.5 1651,-189.5 1651,-195.5 1651,-195.5 1651,-224.5 1651,-224.5 1651,-230.5 1645,-236.5 1639,-236.5\"/>\n<text text-anchor=\"middle\" x=\"1551\" y=\"-221.3\" font-family=\"Helvetica,sans-Serif\" font-size=\"14.00\" fill=\"#000000\">samples = 0.1%</text>\n<text text-anchor=\"middle\" x=\"1551\" y=\"-206.3\" font-family=\"Helvetica,sans-Serif\" font-size=\"14.00\" fill=\"#000000\">value = [0.792, 0.062, 0.146]</text>\n<text text-anchor=\"middle\" x=\"1551\" y=\"-191.3\" font-family=\"Helvetica,sans-Serif\" font-size=\"14.00\" fill=\"#000000\">class = functional</text>\n</g>\n<!-- 30&#45;&gt;31 -->\n<g id=\"edge27\" class=\"edge\">\n<title>30&#45;&gt;31</title>\n<path fill=\"none\" stroke=\"#000000\" d=\"M1551,-279.9465C1551,-269.2621 1551,-257.4254 1551,-246.5742\"/>\n<polygon fill=\"#000000\" stroke=\"#000000\" points=\"1554.5001,-246.5421 1551,-236.5422 1547.5001,-246.5422 1554.5001,-246.5421\"/>\n</g>\n<!-- 32 -->\n<g id=\"node29\" class=\"node\">\n<title>32</title>\n<path fill=\"#dbc6f8\" stroke=\"#000000\" d=\"M1857,-244C1857,-244 1681,-244 1681,-244 1675,-244 1669,-238 1669,-232 1669,-232 1669,-188 1669,-188 1669,-182 1675,-176 1681,-176 1681,-176 1857,-176 1857,-176 1863,-176 1869,-182 1869,-188 1869,-188 1869,-232 1869,-232 1869,-238 1863,-244 1857,-244\"/>\n<text text-anchor=\"middle\" x=\"1769\" y=\"-228.8\" font-family=\"Helvetica,sans-Serif\" font-size=\"14.00\" fill=\"#000000\">district_code &lt;= 62.5</text>\n<text text-anchor=\"middle\" x=\"1769\" y=\"-213.8\" font-family=\"Helvetica,sans-Serif\" font-size=\"14.00\" fill=\"#000000\">samples = 0.5%</text>\n<text text-anchor=\"middle\" x=\"1769\" y=\"-198.8\" font-family=\"Helvetica,sans-Serif\" font-size=\"14.00\" fill=\"#000000\">value = [0.405, 0.019, 0.575]</text>\n<text text-anchor=\"middle\" x=\"1769\" y=\"-183.8\" font-family=\"Helvetica,sans-Serif\" font-size=\"14.00\" fill=\"#000000\">class = non functional</text>\n</g>\n<!-- 30&#45;&gt;32 -->\n<g id=\"edge28\" class=\"edge\">\n<title>30&#45;&gt;32</title>\n<path fill=\"none\" stroke=\"#000000\" d=\"M1622.3814,-279.9465C1643.4602,-269.8906 1666.6784,-258.814 1688.3003,-248.4989\"/>\n<polygon fill=\"#000000\" stroke=\"#000000\" points=\"1689.9398,-251.5948 1697.4583,-244.13 1686.9257,-245.2769 1689.9398,-251.5948\"/>\n</g>\n<!-- 33 -->\n<g id=\"node30\" class=\"node\">\n<title>33</title>\n<path fill=\"#fefcfa\" stroke=\"#000000\" d=\"M1744,-132.5C1744,-132.5 1584,-132.5 1584,-132.5 1578,-132.5 1572,-126.5 1572,-120.5 1572,-120.5 1572,-91.5 1572,-91.5 1572,-85.5 1578,-79.5 1584,-79.5 1584,-79.5 1744,-79.5 1744,-79.5 1750,-79.5 1756,-85.5 1756,-91.5 1756,-91.5 1756,-120.5 1756,-120.5 1756,-126.5 1750,-132.5 1744,-132.5\"/>\n<text text-anchor=\"middle\" x=\"1664\" y=\"-117.3\" font-family=\"Helvetica,sans-Serif\" font-size=\"14.00\" fill=\"#000000\">samples = 0.2%</text>\n<text text-anchor=\"middle\" x=\"1664\" y=\"-102.3\" font-family=\"Helvetica,sans-Serif\" font-size=\"14.00\" fill=\"#000000\">value = [0.506, 0.0, 0.494]</text>\n<text text-anchor=\"middle\" x=\"1664\" y=\"-87.3\" font-family=\"Helvetica,sans-Serif\" font-size=\"14.00\" fill=\"#000000\">class = functional</text>\n</g>\n<!-- 32&#45;&gt;33 -->\n<g id=\"edge29\" class=\"edge\">\n<title>32&#45;&gt;33</title>\n<path fill=\"none\" stroke=\"#000000\" d=\"M1734.6191,-175.9465C1722.831,-164.2707 1709.6538,-151.219 1697.9038,-139.5809\"/>\n<polygon fill=\"#000000\" stroke=\"#000000\" points=\"1700.3652,-137.0927 1690.7974,-132.5422 1695.4392,-142.066 1700.3652,-137.0927\"/>\n</g>\n<!-- 34 -->\n<g id=\"node31\" class=\"node\">\n<title>34</title>\n<path fill=\"#ccaff5\" stroke=\"#000000\" d=\"M1962,-140C1962,-140 1786,-140 1786,-140 1780,-140 1774,-134 1774,-128 1774,-128 1774,-84 1774,-84 1774,-78 1780,-72 1786,-72 1786,-72 1962,-72 1962,-72 1968,-72 1974,-78 1974,-84 1974,-84 1974,-128 1974,-128 1974,-134 1968,-140 1962,-140\"/>\n<text text-anchor=\"middle\" x=\"1874\" y=\"-124.8\" font-family=\"Helvetica,sans-Serif\" font-size=\"14.00\" fill=\"#000000\">district_code &lt;= 65.0</text>\n<text text-anchor=\"middle\" x=\"1874\" y=\"-109.8\" font-family=\"Helvetica,sans-Serif\" font-size=\"14.00\" fill=\"#000000\">samples = 0.4%</text>\n<text text-anchor=\"middle\" x=\"1874\" y=\"-94.8\" font-family=\"Helvetica,sans-Serif\" font-size=\"14.00\" fill=\"#000000\">value = [0.356, 0.029, 0.615]</text>\n<text text-anchor=\"middle\" x=\"1874\" y=\"-79.8\" font-family=\"Helvetica,sans-Serif\" font-size=\"14.00\" fill=\"#000000\">class = non functional</text>\n</g>\n<!-- 32&#45;&gt;34 -->\n<g id=\"edge30\" class=\"edge\">\n<title>32&#45;&gt;34</title>\n<path fill=\"none\" stroke=\"#000000\" d=\"M1803.3809,-175.9465C1812.6271,-166.7884 1822.7279,-156.7838 1832.3243,-147.2788\"/>\n<polygon fill=\"#000000\" stroke=\"#000000\" points=\"1834.9,-149.6539 1839.5418,-140.13 1829.974,-144.6805 1834.9,-149.6539\"/>\n</g>\n<!-- 35 -->\n<g id=\"node32\" class=\"node\">\n<title>35</title>\n<path fill=\"#c0c0c0\" stroke=\"#000000\" d=\"M1853,-36C1853,-36 1823,-36 1823,-36 1817,-36 1811,-30 1811,-24 1811,-24 1811,-12 1811,-12 1811,-6 1817,0 1823,0 1823,0 1853,0 1853,0 1859,0 1865,-6 1865,-12 1865,-12 1865,-24 1865,-24 1865,-30 1859,-36 1853,-36\"/>\n<text text-anchor=\"middle\" x=\"1838\" y=\"-14.3\" font-family=\"Helvetica,sans-Serif\" font-size=\"14.00\" fill=\"#000000\">(...)</text>\n</g>\n<!-- 34&#45;&gt;35 -->\n<g id=\"edge31\" class=\"edge\">\n<title>34&#45;&gt;35</title>\n<path fill=\"none\" stroke=\"#000000\" d=\"M1860.0815,-71.9769C1856.4977,-63.2167 1852.6862,-53.8995 1849.2564,-45.5157\"/>\n<polygon fill=\"#000000\" stroke=\"#000000\" points=\"1852.468,-44.1222 1845.4422,-36.192 1845.9891,-46.7727 1852.468,-44.1222\"/>\n</g>\n<!-- 36 -->\n<g id=\"node33\" class=\"node\">\n<title>36</title>\n<path fill=\"#c0c0c0\" stroke=\"#000000\" d=\"M1925,-36C1925,-36 1895,-36 1895,-36 1889,-36 1883,-30 1883,-24 1883,-24 1883,-12 1883,-12 1883,-6 1889,0 1895,0 1895,0 1925,0 1925,0 1931,0 1937,-6 1937,-12 1937,-12 1937,-24 1937,-24 1937,-30 1931,-36 1925,-36\"/>\n<text text-anchor=\"middle\" x=\"1910\" y=\"-14.3\" font-family=\"Helvetica,sans-Serif\" font-size=\"14.00\" fill=\"#000000\">(...)</text>\n</g>\n<!-- 34&#45;&gt;36 -->\n<g id=\"edge32\" class=\"edge\">\n<title>34&#45;&gt;36</title>\n<path fill=\"none\" stroke=\"#000000\" d=\"M1887.9185,-71.9769C1891.5023,-63.2167 1895.3138,-53.8995 1898.7436,-45.5157\"/>\n<polygon fill=\"#000000\" stroke=\"#000000\" points=\"1902.0109,-46.7727 1902.5578,-36.192 1895.532,-44.1222 1902.0109,-46.7727\"/>\n</g>\n</g>\n</svg>\n"
          },
          "metadata": {
            "tags": []
          }
        }
      ]
    },
    {
      "cell_type": "code",
      "metadata": {
        "id": "5evmCARRc64O",
        "colab_type": "code",
        "colab": {}
      },
      "source": [
        "#Visualize predicted probabilities\n",
        "import itertools\n",
        "import seaborn as sns\n",
        "\n",
        "def pred_heatmap(model, X, features, class_index=-1, title='', num=100):\n",
        "\n",
        "    feature1, feature2 = features\n",
        "    min1, max1 = X[feature1].min(), X[feature1].max()\n",
        "    min2, max2 = X[feature2].min(), X[feature2].max()\n",
        "    x1 = np.linspace(min1, max1, num)\n",
        "    x2 = np.linspace(max2, min2, num)\n",
        "    combos = list(itertools.product(x1, x2))\n",
        "    y_pred_proba = model.predict_proba(combos)[:, class_index]\n",
        "    pred_grid = y_pred_proba.reshape(num, num).T\n",
        "    table = pd.DataFrame(pred_grid, columns=x1, index=x2)\n",
        "    sns.heatmap(table, vmin=0, vmax=1)\n",
        "    plt.xticks([])\n",
        "    plt.yticks([])\n",
        "    plt.xlabel(feature1)\n",
        "    plt.ylabel(feature2)\n",
        "    plt.title(title)\n",
        "    plt.show()\n",
        "    return y_pred_proba\n",
        "\n"
      ],
      "execution_count": 0,
      "outputs": []
    },
    {
      "cell_type": "code",
      "metadata": {
        "id": "pCyga1MzdTmG",
        "colab_type": "code",
        "colab": {
          "base_uri": "https://localhost:8080/",
          "height": 864,
          "referenced_widgets": [
            "1215297d50e54ba4a0a4fb571ee4922e",
            "4a52caf6c4b64045bceebf1e4dc8ec71",
            "7ad19c9013054128aa6ed2f82f520602",
            "4a4dc27aaef442ef807c8aefd1741766",
            "7e83f624d2384abf8c3c5f33912a0f1d",
            "ef1feb8557014d9bb3219103dc8586bc",
            "1e7e763ea7c84957b2448fc9e00217a8",
            "4fa512c5520e41ae9d631f735273d3f3",
            "5b05329390f54edd997d0f8138320238"
          ]
        },
        "outputId": "aac47bc7-5329-4876-c73f-3acedaf3c53d"
      },
      "source": [
        "#Compare Decision Tree, Random Forest, Logistic Regression\n",
        "\n",
        "feature1 = 'latitude'\n",
        "feature2 = 'district_code'\n",
        "\n",
        "from sklearn.linear_model import LogisticRegression\n",
        "from sklearn.tree import DecisionTreeClassifier\n",
        "\n",
        "def get_X_y(df, feature1, feature2, target):\n",
        "    features = [feature1, feature2]\n",
        "    X = df[features]\n",
        "    y = df[target]\n",
        "    X = X.fillna(X.median())\n",
        "    X = ce.OrdinalEncoder().fit_transform(X)\n",
        "    return X, y\n",
        "\n",
        "def compare_models(max_depth=1, n_estimators=1):\n",
        "    models = [DecisionTreeClassifier(max_depth=max_depth), \n",
        "              RandomForestClassifier(max_depth=max_depth, n_estimators=n_estimators), \n",
        "              LogisticRegression(solver='lbfgs', multi_class='auto')]\n",
        "    \n",
        "    for model in models:\n",
        "        name = model.__class__.__name__\n",
        "        model.fit(X, y)\n",
        "        pred_heatmap(model, X, [feature1, feature2], class_index=0, title=name)\n",
        "\n",
        "X, y = get_X_y(train, feature1, feature2, target='status_group')\n",
        "interact(compare_models, max_depth=(1,6,1), n_estimators=(10,40,10));"
      ],
      "execution_count": 57,
      "outputs": [
        {
          "output_type": "display_data",
          "data": {
            "application/vnd.jupyter.widget-view+json": {
              "model_id": "1215297d50e54ba4a0a4fb571ee4922e",
              "version_minor": 0,
              "version_major": 2
            },
            "text/plain": [
              "interactive(children=(IntSlider(value=1, description='max_depth', max=6, min=1), IntSlider(value=10, descripti…"
            ]
          },
          "metadata": {
            "tags": []
          }
        }
      ]
    },
    {
      "cell_type": "code",
      "metadata": {
        "id": "_VIV-r84dq4N",
        "colab_type": "code",
        "colab": {
          "base_uri": "https://localhost:8080/",
          "height": 864,
          "referenced_widgets": [
            "94a5bfd6a9634b3c952595eecdf8cb3f",
            "5a1815aab6ae445daaf1137a0ba3455a",
            "291cdde6aa074ca8a82752f68a1ffcfa",
            "f828c89b77714208abfd1a3678bf1818",
            "552f47cec0f04bd9920b9ce690240917",
            "55b5d1a445de4ec682f5e5f55275f861",
            "ba96495264ce415ab6830ddd64cc5799",
            "7208ced1250042a1bb3e0871f8b8c7a6",
            "54f3ea3f077046e2a5e57eb726fe74cd"
          ]
        },
        "outputId": "13dc1f05-754b-4791-802f-cd8a2b879366"
      },
      "source": [
        "#Bagging\n",
        "feature1 = 'latitude'\n",
        "feature2 = 'district_code'\n",
        "\n",
        "def waterpumps_bagging(max_depth=1, n_estimators=1):\n",
        "    predicteds = []\n",
        "    for i in range(n_estimators):\n",
        "        title = f'Tree {i+1}'\n",
        "        bootstrap_sample = train.sample(n=len(train), replace=True)\n",
        "        X, y = get_X_y(bootstrap_sample, feature1, feature2, target='status_group')\n",
        "        tree = DecisionTreeClassifier(max_depth=max_depth)\n",
        "        tree.fit(X, y)\n",
        "        predicted = pred_heatmap(tree, X, [feature1, feature2], class_index=0, title=title)\n",
        "        predicteds.append(predicted)\n",
        "    \n",
        "    ensembled = np.vstack(predicteds).mean(axis=0)\n",
        "    title = f'Ensemble of {n_estimators} trees, with max_depth={max_depth}'\n",
        "    sns.heatmap(ensembled.reshape(100, 100).T, vmin=0, vmax=1)\n",
        "    plt.title(title)\n",
        "    plt.xlabel(feature1)\n",
        "    plt.ylabel(feature2)\n",
        "    plt.xticks([])\n",
        "    plt.yticks([])\n",
        "    plt.show()\n",
        "        \n",
        "interact(waterpumps_bagging, max_depth=(1,6,1), n_estimators=(2,5,1));"
      ],
      "execution_count": 58,
      "outputs": [
        {
          "output_type": "display_data",
          "data": {
            "application/vnd.jupyter.widget-view+json": {
              "model_id": "94a5bfd6a9634b3c952595eecdf8cb3f",
              "version_minor": 0,
              "version_major": 2
            },
            "text/plain": [
              "interactive(children=(IntSlider(value=1, description='max_depth', max=6, min=1), IntSlider(value=2, descriptio…"
            ]
          },
          "metadata": {
            "tags": []
          }
        }
      ]
    },
    {
      "cell_type": "code",
      "metadata": {
        "id": "VudZLDv7feVQ",
        "colab_type": "code",
        "colab": {}
      },
      "source": [
        ""
      ],
      "execution_count": 0,
      "outputs": []
    }
  ]
}