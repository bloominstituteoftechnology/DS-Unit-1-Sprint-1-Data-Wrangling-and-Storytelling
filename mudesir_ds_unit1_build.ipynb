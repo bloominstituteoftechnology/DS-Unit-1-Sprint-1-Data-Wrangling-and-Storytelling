{
  "nbformat": 4,
  "nbformat_minor": 0,
  "metadata": {
    "colab": {
      "name": " mudesir_ds_unit1_build",
      "provenance": [],
      "collapsed_sections": [],
      "toc_visible": true,
      "include_colab_link": true
    },
    "kernelspec": {
      "display_name": "Python 3",
      "name": "python3"
    }
  },
  "cells": [
    {
      "cell_type": "markdown",
      "metadata": {
        "id": "view-in-github",
        "colab_type": "text"
      },
      "source": [
        "<a href=\"https://colab.research.google.com/github/mudesir/DS-Unit-1-Sprint-1-Data-Wrangling-and-Storytelling/blob/master/mudesir_ds_unit1_build.ipynb\" target=\"_parent\"><img src=\"https://colab.research.google.com/assets/colab-badge.svg\" alt=\"Open In Colab\"/></a>"
      ]
    },
    {
      "cell_type": "markdown",
      "metadata": {
        "id": "ojmK4kfJQ_bW",
        "colab_type": "text"
      },
      "source": [
        "#DS Unit 1 Build\n",
        "# South African Heart Disease Study"
      ]
    },
    {
      "cell_type": "markdown",
      "metadata": {
        "id": "yx5PFVPlRG9Z",
        "colab_type": "text"
      },
      "source": [
        "Data from https://web.stanford.edu/~hastie/ElemStatLearn/datasets/SAheart.data\n",
        "\n",
        "Description of the columns header:\n",
        "\n",
        "1. sbp: systolic blood pressure\n",
        "2. tobacco: cumulative tobacco (kg)\n",
        "3. ldl: low densiity lipoprotein cholesterol\n",
        "4. adiposity\n",
        "5. famhist: family history of heart disease (Present,  Absent)\n",
        "6. typea: type-A behavior\n",
        "7. obesity\n",
        "8. alcohol: current alcohol consumption\n",
        "9. age: age at onset\n",
        "10. chd: coronary heart disease"
      ]
    },
    {
      "cell_type": "markdown",
      "metadata": {
        "id": "Jc6YqN552R0Z",
        "colab_type": "text"
      },
      "source": [
        "## Exploratory Data Analysis"
      ]
    },
    {
      "cell_type": "code",
      "metadata": {
        "id": "flqEjQv2TOOC",
        "colab_type": "code",
        "outputId": "20829a54-4989-4a87-f0e7-88e99268cbbd",
        "colab": {
          "base_uri": "https://localhost:8080/",
          "height": 202
        }
      },
      "source": [
        "#  loading the dataset using pandas.read_csv() and checking for the data\n",
        "import pandas as pd\n",
        "import numpy as np\n",
        "df = pd.read_csv(\"https://web.stanford.edu/~hastie/ElemStatLearn/datasets/SAheart.data\")\n",
        "df.head()"
      ],
      "execution_count": 0,
      "outputs": [
        {
          "output_type": "execute_result",
          "data": {
            "text/html": [
              "<div>\n",
              "<style scoped>\n",
              "    .dataframe tbody tr th:only-of-type {\n",
              "        vertical-align: middle;\n",
              "    }\n",
              "\n",
              "    .dataframe tbody tr th {\n",
              "        vertical-align: top;\n",
              "    }\n",
              "\n",
              "    .dataframe thead th {\n",
              "        text-align: right;\n",
              "    }\n",
              "</style>\n",
              "<table border=\"1\" class=\"dataframe\">\n",
              "  <thead>\n",
              "    <tr style=\"text-align: right;\">\n",
              "      <th></th>\n",
              "      <th>row.names</th>\n",
              "      <th>sbp</th>\n",
              "      <th>tobacco</th>\n",
              "      <th>ldl</th>\n",
              "      <th>adiposity</th>\n",
              "      <th>famhist</th>\n",
              "      <th>typea</th>\n",
              "      <th>obesity</th>\n",
              "      <th>alcohol</th>\n",
              "      <th>age</th>\n",
              "      <th>chd</th>\n",
              "    </tr>\n",
              "  </thead>\n",
              "  <tbody>\n",
              "    <tr>\n",
              "      <th>0</th>\n",
              "      <td>1</td>\n",
              "      <td>160</td>\n",
              "      <td>12.00</td>\n",
              "      <td>5.73</td>\n",
              "      <td>23.11</td>\n",
              "      <td>Present</td>\n",
              "      <td>49</td>\n",
              "      <td>25.30</td>\n",
              "      <td>97.20</td>\n",
              "      <td>52</td>\n",
              "      <td>1</td>\n",
              "    </tr>\n",
              "    <tr>\n",
              "      <th>1</th>\n",
              "      <td>2</td>\n",
              "      <td>144</td>\n",
              "      <td>0.01</td>\n",
              "      <td>4.41</td>\n",
              "      <td>28.61</td>\n",
              "      <td>Absent</td>\n",
              "      <td>55</td>\n",
              "      <td>28.87</td>\n",
              "      <td>2.06</td>\n",
              "      <td>63</td>\n",
              "      <td>1</td>\n",
              "    </tr>\n",
              "    <tr>\n",
              "      <th>2</th>\n",
              "      <td>3</td>\n",
              "      <td>118</td>\n",
              "      <td>0.08</td>\n",
              "      <td>3.48</td>\n",
              "      <td>32.28</td>\n",
              "      <td>Present</td>\n",
              "      <td>52</td>\n",
              "      <td>29.14</td>\n",
              "      <td>3.81</td>\n",
              "      <td>46</td>\n",
              "      <td>0</td>\n",
              "    </tr>\n",
              "    <tr>\n",
              "      <th>3</th>\n",
              "      <td>4</td>\n",
              "      <td>170</td>\n",
              "      <td>7.50</td>\n",
              "      <td>6.41</td>\n",
              "      <td>38.03</td>\n",
              "      <td>Present</td>\n",
              "      <td>51</td>\n",
              "      <td>31.99</td>\n",
              "      <td>24.26</td>\n",
              "      <td>58</td>\n",
              "      <td>1</td>\n",
              "    </tr>\n",
              "    <tr>\n",
              "      <th>4</th>\n",
              "      <td>5</td>\n",
              "      <td>134</td>\n",
              "      <td>13.60</td>\n",
              "      <td>3.50</td>\n",
              "      <td>27.78</td>\n",
              "      <td>Present</td>\n",
              "      <td>60</td>\n",
              "      <td>25.99</td>\n",
              "      <td>57.34</td>\n",
              "      <td>49</td>\n",
              "      <td>1</td>\n",
              "    </tr>\n",
              "  </tbody>\n",
              "</table>\n",
              "</div>"
            ],
            "text/plain": [
              "   row.names  sbp  tobacco   ldl  adiposity  ... typea  obesity  alcohol  age  chd\n",
              "0          1  160    12.00  5.73      23.11  ...    49    25.30    97.20   52    1\n",
              "1          2  144     0.01  4.41      28.61  ...    55    28.87     2.06   63    1\n",
              "2          3  118     0.08  3.48      32.28  ...    52    29.14     3.81   46    0\n",
              "3          4  170     7.50  6.41      38.03  ...    51    31.99    24.26   58    1\n",
              "4          5  134    13.60  3.50      27.78  ...    60    25.99    57.34   49    1\n",
              "\n",
              "[5 rows x 11 columns]"
            ]
          },
          "metadata": {
            "tags": []
          },
          "execution_count": 95
        }
      ]
    },
    {
      "cell_type": "code",
      "metadata": {
        "id": "FOkpYqjmmpwN",
        "colab_type": "code",
        "outputId": "3bc96991-410a-41d1-e996-829b01bc17fe",
        "colab": {
          "base_uri": "https://localhost:8080/",
          "height": 202
        }
      },
      "source": [
        "# the column row.names is not iportant I will drop it\n",
        "df = df.drop('row.names', axis=1)\n",
        "df.head()"
      ],
      "execution_count": 0,
      "outputs": [
        {
          "output_type": "execute_result",
          "data": {
            "text/html": [
              "<div>\n",
              "<style scoped>\n",
              "    .dataframe tbody tr th:only-of-type {\n",
              "        vertical-align: middle;\n",
              "    }\n",
              "\n",
              "    .dataframe tbody tr th {\n",
              "        vertical-align: top;\n",
              "    }\n",
              "\n",
              "    .dataframe thead th {\n",
              "        text-align: right;\n",
              "    }\n",
              "</style>\n",
              "<table border=\"1\" class=\"dataframe\">\n",
              "  <thead>\n",
              "    <tr style=\"text-align: right;\">\n",
              "      <th></th>\n",
              "      <th>sbp</th>\n",
              "      <th>tobacco</th>\n",
              "      <th>ldl</th>\n",
              "      <th>adiposity</th>\n",
              "      <th>famhist</th>\n",
              "      <th>typea</th>\n",
              "      <th>obesity</th>\n",
              "      <th>alcohol</th>\n",
              "      <th>age</th>\n",
              "      <th>chd</th>\n",
              "    </tr>\n",
              "  </thead>\n",
              "  <tbody>\n",
              "    <tr>\n",
              "      <th>0</th>\n",
              "      <td>160</td>\n",
              "      <td>12.00</td>\n",
              "      <td>5.73</td>\n",
              "      <td>23.11</td>\n",
              "      <td>Present</td>\n",
              "      <td>49</td>\n",
              "      <td>25.30</td>\n",
              "      <td>97.20</td>\n",
              "      <td>52</td>\n",
              "      <td>1</td>\n",
              "    </tr>\n",
              "    <tr>\n",
              "      <th>1</th>\n",
              "      <td>144</td>\n",
              "      <td>0.01</td>\n",
              "      <td>4.41</td>\n",
              "      <td>28.61</td>\n",
              "      <td>Absent</td>\n",
              "      <td>55</td>\n",
              "      <td>28.87</td>\n",
              "      <td>2.06</td>\n",
              "      <td>63</td>\n",
              "      <td>1</td>\n",
              "    </tr>\n",
              "    <tr>\n",
              "      <th>2</th>\n",
              "      <td>118</td>\n",
              "      <td>0.08</td>\n",
              "      <td>3.48</td>\n",
              "      <td>32.28</td>\n",
              "      <td>Present</td>\n",
              "      <td>52</td>\n",
              "      <td>29.14</td>\n",
              "      <td>3.81</td>\n",
              "      <td>46</td>\n",
              "      <td>0</td>\n",
              "    </tr>\n",
              "    <tr>\n",
              "      <th>3</th>\n",
              "      <td>170</td>\n",
              "      <td>7.50</td>\n",
              "      <td>6.41</td>\n",
              "      <td>38.03</td>\n",
              "      <td>Present</td>\n",
              "      <td>51</td>\n",
              "      <td>31.99</td>\n",
              "      <td>24.26</td>\n",
              "      <td>58</td>\n",
              "      <td>1</td>\n",
              "    </tr>\n",
              "    <tr>\n",
              "      <th>4</th>\n",
              "      <td>134</td>\n",
              "      <td>13.60</td>\n",
              "      <td>3.50</td>\n",
              "      <td>27.78</td>\n",
              "      <td>Present</td>\n",
              "      <td>60</td>\n",
              "      <td>25.99</td>\n",
              "      <td>57.34</td>\n",
              "      <td>49</td>\n",
              "      <td>1</td>\n",
              "    </tr>\n",
              "  </tbody>\n",
              "</table>\n",
              "</div>"
            ],
            "text/plain": [
              "   sbp  tobacco   ldl  adiposity  famhist  typea  obesity  alcohol  age  chd\n",
              "0  160    12.00  5.73      23.11  Present     49    25.30    97.20   52    1\n",
              "1  144     0.01  4.41      28.61   Absent     55    28.87     2.06   63    1\n",
              "2  118     0.08  3.48      32.28  Present     52    29.14     3.81   46    0\n",
              "3  170     7.50  6.41      38.03  Present     51    31.99    24.26   58    1\n",
              "4  134    13.60  3.50      27.78  Present     60    25.99    57.34   49    1"
            ]
          },
          "metadata": {
            "tags": []
          },
          "execution_count": 96
        }
      ]
    },
    {
      "cell_type": "code",
      "metadata": {
        "id": "e-yPnZZbm-vh",
        "colab_type": "code",
        "outputId": "f59cf1b3-b8df-4ccc-987f-65ba9e4a81b2",
        "colab": {
          "base_uri": "https://localhost:8080/",
          "height": 225
        }
      },
      "source": [
        "# check the null value and shape\n",
        "print(df.shape)\n",
        "df.isnull().sum()"
      ],
      "execution_count": 0,
      "outputs": [
        {
          "output_type": "stream",
          "text": [
            "(462, 10)\n"
          ],
          "name": "stdout"
        },
        {
          "output_type": "execute_result",
          "data": {
            "text/plain": [
              "sbp          0\n",
              "tobacco      0\n",
              "ldl          0\n",
              "adiposity    0\n",
              "famhist      0\n",
              "typea        0\n",
              "obesity      0\n",
              "alcohol      0\n",
              "age          0\n",
              "chd          0\n",
              "dtype: int64"
            ]
          },
          "metadata": {
            "tags": []
          },
          "execution_count": 97
        }
      ]
    },
    {
      "cell_type": "code",
      "metadata": {
        "id": "p0XwQyJmneHw",
        "colab_type": "code",
        "outputId": "aa19e890-acb8-41b2-e90b-0a62b67f8f57",
        "colab": {
          "base_uri": "https://localhost:8080/",
          "height": 208
        }
      },
      "source": [
        "# check data type\n",
        "df.dtypes"
      ],
      "execution_count": 0,
      "outputs": [
        {
          "output_type": "execute_result",
          "data": {
            "text/plain": [
              "sbp            int64\n",
              "tobacco      float64\n",
              "ldl          float64\n",
              "adiposity    float64\n",
              "famhist       object\n",
              "typea          int64\n",
              "obesity      float64\n",
              "alcohol      float64\n",
              "age            int64\n",
              "chd            int64\n",
              "dtype: object"
            ]
          },
          "metadata": {
            "tags": []
          },
          "execution_count": 98
        }
      ]
    },
    {
      "cell_type": "code",
      "metadata": {
        "id": "xHDrG8uvn2yx",
        "colab_type": "code",
        "outputId": "70f8f97f-1101-4d6b-db21-b5cb35dae2c4",
        "colab": {
          "base_uri": "https://localhost:8080/",
          "height": 202
        }
      },
      "source": [
        "# the famhist data type object we have to change into number, replace \"Present\" to 1 \n",
        "# and  \"Absent\" to 0\n",
        "df = df.replace({'Present': 1, 'Absent':0})\n",
        "df.head()"
      ],
      "execution_count": 0,
      "outputs": [
        {
          "output_type": "execute_result",
          "data": {
            "text/html": [
              "<div>\n",
              "<style scoped>\n",
              "    .dataframe tbody tr th:only-of-type {\n",
              "        vertical-align: middle;\n",
              "    }\n",
              "\n",
              "    .dataframe tbody tr th {\n",
              "        vertical-align: top;\n",
              "    }\n",
              "\n",
              "    .dataframe thead th {\n",
              "        text-align: right;\n",
              "    }\n",
              "</style>\n",
              "<table border=\"1\" class=\"dataframe\">\n",
              "  <thead>\n",
              "    <tr style=\"text-align: right;\">\n",
              "      <th></th>\n",
              "      <th>sbp</th>\n",
              "      <th>tobacco</th>\n",
              "      <th>ldl</th>\n",
              "      <th>adiposity</th>\n",
              "      <th>famhist</th>\n",
              "      <th>typea</th>\n",
              "      <th>obesity</th>\n",
              "      <th>alcohol</th>\n",
              "      <th>age</th>\n",
              "      <th>chd</th>\n",
              "    </tr>\n",
              "  </thead>\n",
              "  <tbody>\n",
              "    <tr>\n",
              "      <th>0</th>\n",
              "      <td>160</td>\n",
              "      <td>12.00</td>\n",
              "      <td>5.73</td>\n",
              "      <td>23.11</td>\n",
              "      <td>1</td>\n",
              "      <td>49</td>\n",
              "      <td>25.30</td>\n",
              "      <td>97.20</td>\n",
              "      <td>52</td>\n",
              "      <td>1</td>\n",
              "    </tr>\n",
              "    <tr>\n",
              "      <th>1</th>\n",
              "      <td>144</td>\n",
              "      <td>0.01</td>\n",
              "      <td>4.41</td>\n",
              "      <td>28.61</td>\n",
              "      <td>0</td>\n",
              "      <td>55</td>\n",
              "      <td>28.87</td>\n",
              "      <td>2.06</td>\n",
              "      <td>63</td>\n",
              "      <td>1</td>\n",
              "    </tr>\n",
              "    <tr>\n",
              "      <th>2</th>\n",
              "      <td>118</td>\n",
              "      <td>0.08</td>\n",
              "      <td>3.48</td>\n",
              "      <td>32.28</td>\n",
              "      <td>1</td>\n",
              "      <td>52</td>\n",
              "      <td>29.14</td>\n",
              "      <td>3.81</td>\n",
              "      <td>46</td>\n",
              "      <td>0</td>\n",
              "    </tr>\n",
              "    <tr>\n",
              "      <th>3</th>\n",
              "      <td>170</td>\n",
              "      <td>7.50</td>\n",
              "      <td>6.41</td>\n",
              "      <td>38.03</td>\n",
              "      <td>1</td>\n",
              "      <td>51</td>\n",
              "      <td>31.99</td>\n",
              "      <td>24.26</td>\n",
              "      <td>58</td>\n",
              "      <td>1</td>\n",
              "    </tr>\n",
              "    <tr>\n",
              "      <th>4</th>\n",
              "      <td>134</td>\n",
              "      <td>13.60</td>\n",
              "      <td>3.50</td>\n",
              "      <td>27.78</td>\n",
              "      <td>1</td>\n",
              "      <td>60</td>\n",
              "      <td>25.99</td>\n",
              "      <td>57.34</td>\n",
              "      <td>49</td>\n",
              "      <td>1</td>\n",
              "    </tr>\n",
              "  </tbody>\n",
              "</table>\n",
              "</div>"
            ],
            "text/plain": [
              "   sbp  tobacco   ldl  adiposity  famhist  typea  obesity  alcohol  age  chd\n",
              "0  160    12.00  5.73      23.11        1     49    25.30    97.20   52    1\n",
              "1  144     0.01  4.41      28.61        0     55    28.87     2.06   63    1\n",
              "2  118     0.08  3.48      32.28        1     52    29.14     3.81   46    0\n",
              "3  170     7.50  6.41      38.03        1     51    31.99    24.26   58    1\n",
              "4  134    13.60  3.50      27.78        1     60    25.99    57.34   49    1"
            ]
          },
          "metadata": {
            "tags": []
          },
          "execution_count": 99
        }
      ]
    },
    {
      "cell_type": "code",
      "metadata": {
        "id": "DgzwEFk9sIUE",
        "colab_type": "code",
        "outputId": "77e9262f-38f1-4e9d-aadf-96bc69fed069",
        "colab": {
          "base_uri": "https://localhost:8080/",
          "height": 202
        }
      },
      "source": [
        "# for clarification I rename the column headers\n",
        "df = df.rename(columns={'sbc':'systolic blood pressure', 'ldl':'low density lipoprotein', 'famhist':'family history',\n",
        "                   'chd':'coronary heart disease'})\n",
        "df.head()"
      ],
      "execution_count": 0,
      "outputs": [
        {
          "output_type": "execute_result",
          "data": {
            "text/html": [
              "<div>\n",
              "<style scoped>\n",
              "    .dataframe tbody tr th:only-of-type {\n",
              "        vertical-align: middle;\n",
              "    }\n",
              "\n",
              "    .dataframe tbody tr th {\n",
              "        vertical-align: top;\n",
              "    }\n",
              "\n",
              "    .dataframe thead th {\n",
              "        text-align: right;\n",
              "    }\n",
              "</style>\n",
              "<table border=\"1\" class=\"dataframe\">\n",
              "  <thead>\n",
              "    <tr style=\"text-align: right;\">\n",
              "      <th></th>\n",
              "      <th>sbp</th>\n",
              "      <th>tobacco</th>\n",
              "      <th>low density lipoprotein</th>\n",
              "      <th>adiposity</th>\n",
              "      <th>family history</th>\n",
              "      <th>typea</th>\n",
              "      <th>obesity</th>\n",
              "      <th>alcohol</th>\n",
              "      <th>age</th>\n",
              "      <th>coronary heart disease</th>\n",
              "    </tr>\n",
              "  </thead>\n",
              "  <tbody>\n",
              "    <tr>\n",
              "      <th>0</th>\n",
              "      <td>160</td>\n",
              "      <td>12.00</td>\n",
              "      <td>5.73</td>\n",
              "      <td>23.11</td>\n",
              "      <td>1</td>\n",
              "      <td>49</td>\n",
              "      <td>25.30</td>\n",
              "      <td>97.20</td>\n",
              "      <td>52</td>\n",
              "      <td>1</td>\n",
              "    </tr>\n",
              "    <tr>\n",
              "      <th>1</th>\n",
              "      <td>144</td>\n",
              "      <td>0.01</td>\n",
              "      <td>4.41</td>\n",
              "      <td>28.61</td>\n",
              "      <td>0</td>\n",
              "      <td>55</td>\n",
              "      <td>28.87</td>\n",
              "      <td>2.06</td>\n",
              "      <td>63</td>\n",
              "      <td>1</td>\n",
              "    </tr>\n",
              "    <tr>\n",
              "      <th>2</th>\n",
              "      <td>118</td>\n",
              "      <td>0.08</td>\n",
              "      <td>3.48</td>\n",
              "      <td>32.28</td>\n",
              "      <td>1</td>\n",
              "      <td>52</td>\n",
              "      <td>29.14</td>\n",
              "      <td>3.81</td>\n",
              "      <td>46</td>\n",
              "      <td>0</td>\n",
              "    </tr>\n",
              "    <tr>\n",
              "      <th>3</th>\n",
              "      <td>170</td>\n",
              "      <td>7.50</td>\n",
              "      <td>6.41</td>\n",
              "      <td>38.03</td>\n",
              "      <td>1</td>\n",
              "      <td>51</td>\n",
              "      <td>31.99</td>\n",
              "      <td>24.26</td>\n",
              "      <td>58</td>\n",
              "      <td>1</td>\n",
              "    </tr>\n",
              "    <tr>\n",
              "      <th>4</th>\n",
              "      <td>134</td>\n",
              "      <td>13.60</td>\n",
              "      <td>3.50</td>\n",
              "      <td>27.78</td>\n",
              "      <td>1</td>\n",
              "      <td>60</td>\n",
              "      <td>25.99</td>\n",
              "      <td>57.34</td>\n",
              "      <td>49</td>\n",
              "      <td>1</td>\n",
              "    </tr>\n",
              "  </tbody>\n",
              "</table>\n",
              "</div>"
            ],
            "text/plain": [
              "   sbp  tobacco  low density lipoprotein  ...  alcohol  age  coronary heart disease\n",
              "0  160    12.00                     5.73  ...    97.20   52                       1\n",
              "1  144     0.01                     4.41  ...     2.06   63                       1\n",
              "2  118     0.08                     3.48  ...     3.81   46                       0\n",
              "3  170     7.50                     6.41  ...    24.26   58                       1\n",
              "4  134    13.60                     3.50  ...    57.34   49                       1\n",
              "\n",
              "[5 rows x 10 columns]"
            ]
          },
          "metadata": {
            "tags": []
          },
          "execution_count": 100
        }
      ]
    },
    {
      "cell_type": "code",
      "metadata": {
        "id": "POhgBV_WsNry",
        "colab_type": "code",
        "outputId": "763473f5-758b-4132-8824-58bf40ba2a12",
        "colab": {
          "base_uri": "https://localhost:8080/",
          "height": 407
        }
      },
      "source": [
        "# to choose the most affect variable we see the correlation \n",
        "df.corr()"
      ],
      "execution_count": 0,
      "outputs": [
        {
          "output_type": "execute_result",
          "data": {
            "text/html": [
              "<div>\n",
              "<style scoped>\n",
              "    .dataframe tbody tr th:only-of-type {\n",
              "        vertical-align: middle;\n",
              "    }\n",
              "\n",
              "    .dataframe tbody tr th {\n",
              "        vertical-align: top;\n",
              "    }\n",
              "\n",
              "    .dataframe thead th {\n",
              "        text-align: right;\n",
              "    }\n",
              "</style>\n",
              "<table border=\"1\" class=\"dataframe\">\n",
              "  <thead>\n",
              "    <tr style=\"text-align: right;\">\n",
              "      <th></th>\n",
              "      <th>sbp</th>\n",
              "      <th>tobacco</th>\n",
              "      <th>low density lipoprotein</th>\n",
              "      <th>adiposity</th>\n",
              "      <th>family history</th>\n",
              "      <th>typea</th>\n",
              "      <th>obesity</th>\n",
              "      <th>alcohol</th>\n",
              "      <th>age</th>\n",
              "      <th>coronary heart disease</th>\n",
              "    </tr>\n",
              "  </thead>\n",
              "  <tbody>\n",
              "    <tr>\n",
              "      <th>sbp</th>\n",
              "      <td>1.000000</td>\n",
              "      <td>0.212247</td>\n",
              "      <td>0.158296</td>\n",
              "      <td>0.356500</td>\n",
              "      <td>0.085645</td>\n",
              "      <td>-0.057454</td>\n",
              "      <td>0.238067</td>\n",
              "      <td>0.140096</td>\n",
              "      <td>0.388771</td>\n",
              "      <td>0.192354</td>\n",
              "    </tr>\n",
              "    <tr>\n",
              "      <th>tobacco</th>\n",
              "      <td>0.212247</td>\n",
              "      <td>1.000000</td>\n",
              "      <td>0.158905</td>\n",
              "      <td>0.286640</td>\n",
              "      <td>0.088601</td>\n",
              "      <td>-0.014608</td>\n",
              "      <td>0.124529</td>\n",
              "      <td>0.200813</td>\n",
              "      <td>0.450330</td>\n",
              "      <td>0.299718</td>\n",
              "    </tr>\n",
              "    <tr>\n",
              "      <th>low density lipoprotein</th>\n",
              "      <td>0.158296</td>\n",
              "      <td>0.158905</td>\n",
              "      <td>1.000000</td>\n",
              "      <td>0.440432</td>\n",
              "      <td>0.161353</td>\n",
              "      <td>0.044048</td>\n",
              "      <td>0.330506</td>\n",
              "      <td>-0.033403</td>\n",
              "      <td>0.311799</td>\n",
              "      <td>0.263053</td>\n",
              "    </tr>\n",
              "    <tr>\n",
              "      <th>adiposity</th>\n",
              "      <td>0.356500</td>\n",
              "      <td>0.286640</td>\n",
              "      <td>0.440432</td>\n",
              "      <td>1.000000</td>\n",
              "      <td>0.181721</td>\n",
              "      <td>-0.043144</td>\n",
              "      <td>0.716556</td>\n",
              "      <td>0.100330</td>\n",
              "      <td>0.625954</td>\n",
              "      <td>0.254121</td>\n",
              "    </tr>\n",
              "    <tr>\n",
              "      <th>family history</th>\n",
              "      <td>0.085645</td>\n",
              "      <td>0.088601</td>\n",
              "      <td>0.161353</td>\n",
              "      <td>0.181721</td>\n",
              "      <td>1.000000</td>\n",
              "      <td>0.044809</td>\n",
              "      <td>0.115595</td>\n",
              "      <td>0.080520</td>\n",
              "      <td>0.239667</td>\n",
              "      <td>0.272373</td>\n",
              "    </tr>\n",
              "    <tr>\n",
              "      <th>typea</th>\n",
              "      <td>-0.057454</td>\n",
              "      <td>-0.014608</td>\n",
              "      <td>0.044048</td>\n",
              "      <td>-0.043144</td>\n",
              "      <td>0.044809</td>\n",
              "      <td>1.000000</td>\n",
              "      <td>0.074006</td>\n",
              "      <td>0.039498</td>\n",
              "      <td>-0.102606</td>\n",
              "      <td>0.103156</td>\n",
              "    </tr>\n",
              "    <tr>\n",
              "      <th>obesity</th>\n",
              "      <td>0.238067</td>\n",
              "      <td>0.124529</td>\n",
              "      <td>0.330506</td>\n",
              "      <td>0.716556</td>\n",
              "      <td>0.115595</td>\n",
              "      <td>0.074006</td>\n",
              "      <td>1.000000</td>\n",
              "      <td>0.051620</td>\n",
              "      <td>0.291777</td>\n",
              "      <td>0.100095</td>\n",
              "    </tr>\n",
              "    <tr>\n",
              "      <th>alcohol</th>\n",
              "      <td>0.140096</td>\n",
              "      <td>0.200813</td>\n",
              "      <td>-0.033403</td>\n",
              "      <td>0.100330</td>\n",
              "      <td>0.080520</td>\n",
              "      <td>0.039498</td>\n",
              "      <td>0.051620</td>\n",
              "      <td>1.000000</td>\n",
              "      <td>0.101125</td>\n",
              "      <td>0.062531</td>\n",
              "    </tr>\n",
              "    <tr>\n",
              "      <th>age</th>\n",
              "      <td>0.388771</td>\n",
              "      <td>0.450330</td>\n",
              "      <td>0.311799</td>\n",
              "      <td>0.625954</td>\n",
              "      <td>0.239667</td>\n",
              "      <td>-0.102606</td>\n",
              "      <td>0.291777</td>\n",
              "      <td>0.101125</td>\n",
              "      <td>1.000000</td>\n",
              "      <td>0.372973</td>\n",
              "    </tr>\n",
              "    <tr>\n",
              "      <th>coronary heart disease</th>\n",
              "      <td>0.192354</td>\n",
              "      <td>0.299718</td>\n",
              "      <td>0.263053</td>\n",
              "      <td>0.254121</td>\n",
              "      <td>0.272373</td>\n",
              "      <td>0.103156</td>\n",
              "      <td>0.100095</td>\n",
              "      <td>0.062531</td>\n",
              "      <td>0.372973</td>\n",
              "      <td>1.000000</td>\n",
              "    </tr>\n",
              "  </tbody>\n",
              "</table>\n",
              "</div>"
            ],
            "text/plain": [
              "                              sbp   tobacco  ...       age  coronary heart disease\n",
              "sbp                      1.000000  0.212247  ...  0.388771                0.192354\n",
              "tobacco                  0.212247  1.000000  ...  0.450330                0.299718\n",
              "low density lipoprotein  0.158296  0.158905  ...  0.311799                0.263053\n",
              "adiposity                0.356500  0.286640  ...  0.625954                0.254121\n",
              "family history           0.085645  0.088601  ...  0.239667                0.272373\n",
              "typea                   -0.057454 -0.014608  ... -0.102606                0.103156\n",
              "obesity                  0.238067  0.124529  ...  0.291777                0.100095\n",
              "alcohol                  0.140096  0.200813  ...  0.101125                0.062531\n",
              "age                      0.388771  0.450330  ...  1.000000                0.372973\n",
              "coronary heart disease   0.192354  0.299718  ...  0.372973                1.000000\n",
              "\n",
              "[10 rows x 10 columns]"
            ]
          },
          "metadata": {
            "tags": []
          },
          "execution_count": 101
        }
      ]
    },
    {
      "cell_type": "code",
      "metadata": {
        "id": "zZYsxmaozhVd",
        "colab_type": "code",
        "outputId": "1d52a8cd-46f5-4350-8b89-df821f6850b2",
        "colab": {
          "base_uri": "https://localhost:8080/",
          "height": 202
        }
      },
      "source": [
        "# from the table 'age', 'tobacco', 'family history', 'low density lipoprotein', and 'adiposity' have some \n",
        "# better correlation with 'coronary heart disease' than others I will work with these features\n",
        "small_df = df[['coronary heart disease','age', 'tobacco', 'family history', 'low density lipoprotein', 'adiposity']].copy()\n",
        "small_df.head()"
      ],
      "execution_count": 0,
      "outputs": [
        {
          "output_type": "execute_result",
          "data": {
            "text/html": [
              "<div>\n",
              "<style scoped>\n",
              "    .dataframe tbody tr th:only-of-type {\n",
              "        vertical-align: middle;\n",
              "    }\n",
              "\n",
              "    .dataframe tbody tr th {\n",
              "        vertical-align: top;\n",
              "    }\n",
              "\n",
              "    .dataframe thead th {\n",
              "        text-align: right;\n",
              "    }\n",
              "</style>\n",
              "<table border=\"1\" class=\"dataframe\">\n",
              "  <thead>\n",
              "    <tr style=\"text-align: right;\">\n",
              "      <th></th>\n",
              "      <th>coronary heart disease</th>\n",
              "      <th>age</th>\n",
              "      <th>tobacco</th>\n",
              "      <th>family history</th>\n",
              "      <th>low density lipoprotein</th>\n",
              "      <th>adiposity</th>\n",
              "    </tr>\n",
              "  </thead>\n",
              "  <tbody>\n",
              "    <tr>\n",
              "      <th>0</th>\n",
              "      <td>1</td>\n",
              "      <td>52</td>\n",
              "      <td>12.00</td>\n",
              "      <td>1</td>\n",
              "      <td>5.73</td>\n",
              "      <td>23.11</td>\n",
              "    </tr>\n",
              "    <tr>\n",
              "      <th>1</th>\n",
              "      <td>1</td>\n",
              "      <td>63</td>\n",
              "      <td>0.01</td>\n",
              "      <td>0</td>\n",
              "      <td>4.41</td>\n",
              "      <td>28.61</td>\n",
              "    </tr>\n",
              "    <tr>\n",
              "      <th>2</th>\n",
              "      <td>0</td>\n",
              "      <td>46</td>\n",
              "      <td>0.08</td>\n",
              "      <td>1</td>\n",
              "      <td>3.48</td>\n",
              "      <td>32.28</td>\n",
              "    </tr>\n",
              "    <tr>\n",
              "      <th>3</th>\n",
              "      <td>1</td>\n",
              "      <td>58</td>\n",
              "      <td>7.50</td>\n",
              "      <td>1</td>\n",
              "      <td>6.41</td>\n",
              "      <td>38.03</td>\n",
              "    </tr>\n",
              "    <tr>\n",
              "      <th>4</th>\n",
              "      <td>1</td>\n",
              "      <td>49</td>\n",
              "      <td>13.60</td>\n",
              "      <td>1</td>\n",
              "      <td>3.50</td>\n",
              "      <td>27.78</td>\n",
              "    </tr>\n",
              "  </tbody>\n",
              "</table>\n",
              "</div>"
            ],
            "text/plain": [
              "   coronary heart disease  age  ...  low density lipoprotein  adiposity\n",
              "0                       1   52  ...                     5.73      23.11\n",
              "1                       1   63  ...                     4.41      28.61\n",
              "2                       0   46  ...                     3.48      32.28\n",
              "3                       1   58  ...                     6.41      38.03\n",
              "4                       1   49  ...                     3.50      27.78\n",
              "\n",
              "[5 rows x 6 columns]"
            ]
          },
          "metadata": {
            "tags": []
          },
          "execution_count": 102
        }
      ]
    },
    {
      "cell_type": "code",
      "metadata": {
        "id": "PaUDaKG-0545",
        "colab_type": "code",
        "outputId": "16c81dc5-0cf3-425c-82c0-9389300d099d",
        "colab": {
          "base_uri": "https://localhost:8080/",
          "height": 285
        }
      },
      "source": [
        "small_df.corr()"
      ],
      "execution_count": 0,
      "outputs": [
        {
          "output_type": "execute_result",
          "data": {
            "text/html": [
              "<div>\n",
              "<style scoped>\n",
              "    .dataframe tbody tr th:only-of-type {\n",
              "        vertical-align: middle;\n",
              "    }\n",
              "\n",
              "    .dataframe tbody tr th {\n",
              "        vertical-align: top;\n",
              "    }\n",
              "\n",
              "    .dataframe thead th {\n",
              "        text-align: right;\n",
              "    }\n",
              "</style>\n",
              "<table border=\"1\" class=\"dataframe\">\n",
              "  <thead>\n",
              "    <tr style=\"text-align: right;\">\n",
              "      <th></th>\n",
              "      <th>coronary heart disease</th>\n",
              "      <th>age</th>\n",
              "      <th>tobacco</th>\n",
              "      <th>family history</th>\n",
              "      <th>low density lipoprotein</th>\n",
              "      <th>adiposity</th>\n",
              "    </tr>\n",
              "  </thead>\n",
              "  <tbody>\n",
              "    <tr>\n",
              "      <th>coronary heart disease</th>\n",
              "      <td>1.000000</td>\n",
              "      <td>0.372973</td>\n",
              "      <td>0.299718</td>\n",
              "      <td>0.272373</td>\n",
              "      <td>0.263053</td>\n",
              "      <td>0.254121</td>\n",
              "    </tr>\n",
              "    <tr>\n",
              "      <th>age</th>\n",
              "      <td>0.372973</td>\n",
              "      <td>1.000000</td>\n",
              "      <td>0.450330</td>\n",
              "      <td>0.239667</td>\n",
              "      <td>0.311799</td>\n",
              "      <td>0.625954</td>\n",
              "    </tr>\n",
              "    <tr>\n",
              "      <th>tobacco</th>\n",
              "      <td>0.299718</td>\n",
              "      <td>0.450330</td>\n",
              "      <td>1.000000</td>\n",
              "      <td>0.088601</td>\n",
              "      <td>0.158905</td>\n",
              "      <td>0.286640</td>\n",
              "    </tr>\n",
              "    <tr>\n",
              "      <th>family history</th>\n",
              "      <td>0.272373</td>\n",
              "      <td>0.239667</td>\n",
              "      <td>0.088601</td>\n",
              "      <td>1.000000</td>\n",
              "      <td>0.161353</td>\n",
              "      <td>0.181721</td>\n",
              "    </tr>\n",
              "    <tr>\n",
              "      <th>low density lipoprotein</th>\n",
              "      <td>0.263053</td>\n",
              "      <td>0.311799</td>\n",
              "      <td>0.158905</td>\n",
              "      <td>0.161353</td>\n",
              "      <td>1.000000</td>\n",
              "      <td>0.440432</td>\n",
              "    </tr>\n",
              "    <tr>\n",
              "      <th>adiposity</th>\n",
              "      <td>0.254121</td>\n",
              "      <td>0.625954</td>\n",
              "      <td>0.286640</td>\n",
              "      <td>0.181721</td>\n",
              "      <td>0.440432</td>\n",
              "      <td>1.000000</td>\n",
              "    </tr>\n",
              "  </tbody>\n",
              "</table>\n",
              "</div>"
            ],
            "text/plain": [
              "                         coronary heart disease  ...  adiposity\n",
              "coronary heart disease                 1.000000  ...   0.254121\n",
              "age                                    0.372973  ...   0.625954\n",
              "tobacco                                0.299718  ...   0.286640\n",
              "family history                         0.272373  ...   0.181721\n",
              "low density lipoprotein                0.263053  ...   0.440432\n",
              "adiposity                              0.254121  ...   1.000000\n",
              "\n",
              "[6 rows x 6 columns]"
            ]
          },
          "metadata": {
            "tags": []
          },
          "execution_count": 103
        }
      ]
    },
    {
      "cell_type": "code",
      "metadata": {
        "id": "DbNcM9Kw1DO2",
        "colab_type": "code",
        "outputId": "55f2a4fd-13c8-4c91-9286-8497583e86c5",
        "colab": {
          "base_uri": "https://localhost:8080/",
          "height": 294
        }
      },
      "source": [
        "#summary or description the selected dataset \n",
        "small_df.describe()"
      ],
      "execution_count": 0,
      "outputs": [
        {
          "output_type": "execute_result",
          "data": {
            "text/html": [
              "<div>\n",
              "<style scoped>\n",
              "    .dataframe tbody tr th:only-of-type {\n",
              "        vertical-align: middle;\n",
              "    }\n",
              "\n",
              "    .dataframe tbody tr th {\n",
              "        vertical-align: top;\n",
              "    }\n",
              "\n",
              "    .dataframe thead th {\n",
              "        text-align: right;\n",
              "    }\n",
              "</style>\n",
              "<table border=\"1\" class=\"dataframe\">\n",
              "  <thead>\n",
              "    <tr style=\"text-align: right;\">\n",
              "      <th></th>\n",
              "      <th>coronary heart disease</th>\n",
              "      <th>age</th>\n",
              "      <th>tobacco</th>\n",
              "      <th>family history</th>\n",
              "      <th>low density lipoprotein</th>\n",
              "      <th>adiposity</th>\n",
              "    </tr>\n",
              "  </thead>\n",
              "  <tbody>\n",
              "    <tr>\n",
              "      <th>count</th>\n",
              "      <td>462.000000</td>\n",
              "      <td>462.000000</td>\n",
              "      <td>462.000000</td>\n",
              "      <td>462.000000</td>\n",
              "      <td>462.000000</td>\n",
              "      <td>462.000000</td>\n",
              "    </tr>\n",
              "    <tr>\n",
              "      <th>mean</th>\n",
              "      <td>0.346320</td>\n",
              "      <td>42.816017</td>\n",
              "      <td>3.635649</td>\n",
              "      <td>0.415584</td>\n",
              "      <td>4.740325</td>\n",
              "      <td>25.406732</td>\n",
              "    </tr>\n",
              "    <tr>\n",
              "      <th>std</th>\n",
              "      <td>0.476313</td>\n",
              "      <td>14.608956</td>\n",
              "      <td>4.593024</td>\n",
              "      <td>0.493357</td>\n",
              "      <td>2.070909</td>\n",
              "      <td>7.780699</td>\n",
              "    </tr>\n",
              "    <tr>\n",
              "      <th>min</th>\n",
              "      <td>0.000000</td>\n",
              "      <td>15.000000</td>\n",
              "      <td>0.000000</td>\n",
              "      <td>0.000000</td>\n",
              "      <td>0.980000</td>\n",
              "      <td>6.740000</td>\n",
              "    </tr>\n",
              "    <tr>\n",
              "      <th>25%</th>\n",
              "      <td>0.000000</td>\n",
              "      <td>31.000000</td>\n",
              "      <td>0.052500</td>\n",
              "      <td>0.000000</td>\n",
              "      <td>3.282500</td>\n",
              "      <td>19.775000</td>\n",
              "    </tr>\n",
              "    <tr>\n",
              "      <th>50%</th>\n",
              "      <td>0.000000</td>\n",
              "      <td>45.000000</td>\n",
              "      <td>2.000000</td>\n",
              "      <td>0.000000</td>\n",
              "      <td>4.340000</td>\n",
              "      <td>26.115000</td>\n",
              "    </tr>\n",
              "    <tr>\n",
              "      <th>75%</th>\n",
              "      <td>1.000000</td>\n",
              "      <td>55.000000</td>\n",
              "      <td>5.500000</td>\n",
              "      <td>1.000000</td>\n",
              "      <td>5.790000</td>\n",
              "      <td>31.227500</td>\n",
              "    </tr>\n",
              "    <tr>\n",
              "      <th>max</th>\n",
              "      <td>1.000000</td>\n",
              "      <td>64.000000</td>\n",
              "      <td>31.200000</td>\n",
              "      <td>1.000000</td>\n",
              "      <td>15.330000</td>\n",
              "      <td>42.490000</td>\n",
              "    </tr>\n",
              "  </tbody>\n",
              "</table>\n",
              "</div>"
            ],
            "text/plain": [
              "       coronary heart disease         age  ...  low density lipoprotein   adiposity\n",
              "count              462.000000  462.000000  ...               462.000000  462.000000\n",
              "mean                 0.346320   42.816017  ...                 4.740325   25.406732\n",
              "std                  0.476313   14.608956  ...                 2.070909    7.780699\n",
              "min                  0.000000   15.000000  ...                 0.980000    6.740000\n",
              "25%                  0.000000   31.000000  ...                 3.282500   19.775000\n",
              "50%                  0.000000   45.000000  ...                 4.340000   26.115000\n",
              "75%                  1.000000   55.000000  ...                 5.790000   31.227500\n",
              "max                  1.000000   64.000000  ...                15.330000   42.490000\n",
              "\n",
              "[8 rows x 6 columns]"
            ]
          },
          "metadata": {
            "tags": []
          },
          "execution_count": 104
        }
      ]
    },
    {
      "cell_type": "markdown",
      "metadata": {
        "id": "Q1tTo3OZ1bfD",
        "colab_type": "text"
      },
      "source": [
        "## visualization of my data set"
      ]
    },
    {
      "cell_type": "code",
      "metadata": {
        "id": "9pwvfRA62kLx",
        "colab_type": "code",
        "outputId": "d5a75b5a-ae58-4b8a-fe6d-7ee3aa830dea",
        "colab": {
          "base_uri": "https://localhost:8080/",
          "height": 295
        }
      },
      "source": [
        "%matplotlib inline\n",
        "import matplotlib.pyplot as plt\n",
        "import seaborn as sns\n",
        "# we have to see each features the crosstab with coronary heart disease\n",
        "# age and coronary heart disease\n",
        "small_df_cr=pd.crosstab(df['age'], df['coronary heart disease'])\n",
        "small_df_cr.plot()\n",
        "plt.title('Age vs Coronary heart disease')\n",
        "plt.show()"
      ],
      "execution_count": 0,
      "outputs": [
        {
          "output_type": "display_data",
          "data": {
            "image/png": "[encoded data removed]",
            "text/plain": [
              "<Figure size 432x288 with 1 Axes>"
            ]
          },
          "metadata": {
            "tags": [],
            "needs_background": "light"
          }
        }
      ]
    },
    {
      "cell_type": "code",
      "metadata": {
        "id": "V-UzHPtFEv4M",
        "colab_type": "code",
        "outputId": "640054c3-f4c7-4691-8f24-484af2ad6597",
        "colab": {
          "base_uri": "https://localhost:8080/",
          "height": 295
        }
      },
      "source": [
        "# tobacco and coronary heart disease\n",
        "small_df_cr=pd.crosstab(df['tobacco'], df['coronary heart disease'])\n",
        "small_df_cr.plot()\n",
        "plt.title('Tobacco vs Coronary heart disease')\n",
        "plt.show()"
      ],
      "execution_count": 0,
      "outputs": [
        {
          "output_type": "display_data",
          "data": {
            "image/png": "[encoded data removed]",
            "text/plain": [
              "<Figure size 432x288 with 1 Axes>"
            ]
          },
          "metadata": {
            "tags": [],
            "needs_background": "light"
          }
        }
      ]
    },
    {
      "cell_type": "code",
      "metadata": {
        "id": "e1gUjbZZFn6X",
        "colab_type": "code",
        "outputId": "a232b9f4-f2cb-4840-e476-a14b8b3eba63",
        "colab": {
          "base_uri": "https://localhost:8080/",
          "height": 295
        }
      },
      "source": [
        "# family history and coronary heart disease\n",
        "small_df_cr=pd.crosstab(df['family history'], df['coronary heart disease'])\n",
        "small_df_cr.plot()\n",
        "plt.title('Family History vs Coronary heart disease')\n",
        "plt.show()"
      ],
      "execution_count": 0,
      "outputs": [
        {
          "output_type": "display_data",
          "data": {
            "image/png": "[encoded data removed]",
            "text/plain": [
              "<Figure size 432x288 with 1 Axes>"
            ]
          },
          "metadata": {
            "tags": [],
            "needs_background": "light"
          }
        }
      ]
    },
    {
      "cell_type": "code",
      "metadata": {
        "id": "cSmZnCKEGB-h",
        "colab_type": "code",
        "outputId": "4504adb5-f331-4fa8-a4a3-f9a78d1de230",
        "colab": {
          "base_uri": "https://localhost:8080/",
          "height": 295
        }
      },
      "source": [
        "# low density lipoprotein and coronary heart disease\n",
        "small_df_cr=pd.crosstab(df['low density lipoprotein'], df['coronary heart disease'])\n",
        "small_df_cr.plot()\n",
        "plt.title('Low density lipoprotein vs Coronary heart disease')\n",
        "plt.show()"
      ],
      "execution_count": 0,
      "outputs": [
        {
          "output_type": "display_data",
          "data": {
            "image/png": "[encoded data removed]",
            "text/plain": [
              "<Figure size 432x288 with 1 Axes>"
            ]
          },
          "metadata": {
            "tags": [],
            "needs_background": "light"
          }
        }
      ]
    },
    {
      "cell_type": "code",
      "metadata": {
        "id": "FIZ4uHYDGTzk",
        "colab_type": "code",
        "outputId": "e06e3a4b-3c9b-4f7f-ca16-56618c8c5c26",
        "colab": {
          "base_uri": "https://localhost:8080/",
          "height": 295
        }
      },
      "source": [
        "# adiposity and coronary heart disease\n",
        "small_df_cr=pd.crosstab(df['adiposity'], df['coronary heart disease'])\n",
        "small_df_cr.plot()\n",
        "plt.title('Adiposity vs Coronary heart disease')\n",
        "plt.show()"
      ],
      "execution_count": 0,
      "outputs": [
        {
          "output_type": "display_data",
          "data": {
            "image/png": "[encoded data removed]",
            "text/plain": [
              "<Figure size 432x288 with 1 Axes>"
            ]
          },
          "metadata": {
            "tags": [],
            "needs_background": "light"
          }
        }
      ]
    },
    {
      "cell_type": "markdown",
      "metadata": {
        "id": "Gf2S-FCJIh-J",
        "colab_type": "text"
      },
      "source": [
        "## Statistical tests and analysis"
      ]
    },
    {
      "cell_type": "code",
      "metadata": {
        "id": "kiqH1HrWI0tG",
        "colab_type": "code",
        "outputId": "84839f90-c59a-4e8c-f72d-4cd11c4a6700",
        "colab": {
          "base_uri": "https://localhost:8080/",
          "height": 69
        }
      },
      "source": [
        "# Here we will test if there is equal chance of having colorary heart disease in\n",
        "# each features I used 2 sample t-test and we will see how many of the sample data\n",
        "# negative(0) or posetive(1)\n",
        "small_df['coronary heart disease'].value_counts() \n"
      ],
      "execution_count": 0,
      "outputs": [
        {
          "output_type": "execute_result",
          "data": {
            "text/plain": [
              "0    302\n",
              "1    160\n",
              "Name: coronary heart disease, dtype: int64"
            ]
          },
          "metadata": {
            "tags": []
          },
          "execution_count": 124
        }
      ]
    },
    {
      "cell_type": "code",
      "metadata": {
        "id": "LWYZoTQSUjai",
        "colab_type": "code",
        "outputId": "0a4f596a-522f-47b1-87e2-83d342cb8d4f",
        "colab": {
          "base_uri": "https://localhost:8080/",
          "height": 202
        }
      },
      "source": [
        "chd_posetive = small_df[small_df['coronary heart disease']==1]\n",
        "chd_posetive.head()\n"
      ],
      "execution_count": 0,
      "outputs": [
        {
          "output_type": "execute_result",
          "data": {
            "text/html": [
              "<div>\n",
              "<style scoped>\n",
              "    .dataframe tbody tr th:only-of-type {\n",
              "        vertical-align: middle;\n",
              "    }\n",
              "\n",
              "    .dataframe tbody tr th {\n",
              "        vertical-align: top;\n",
              "    }\n",
              "\n",
              "    .dataframe thead th {\n",
              "        text-align: right;\n",
              "    }\n",
              "</style>\n",
              "<table border=\"1\" class=\"dataframe\">\n",
              "  <thead>\n",
              "    <tr style=\"text-align: right;\">\n",
              "      <th></th>\n",
              "      <th>coronary heart disease</th>\n",
              "      <th>age</th>\n",
              "      <th>tobacco</th>\n",
              "      <th>family history</th>\n",
              "      <th>low density lipoprotein</th>\n",
              "      <th>adiposity</th>\n",
              "    </tr>\n",
              "  </thead>\n",
              "  <tbody>\n",
              "    <tr>\n",
              "      <th>0</th>\n",
              "      <td>1</td>\n",
              "      <td>52</td>\n",
              "      <td>12.00</td>\n",
              "      <td>1</td>\n",
              "      <td>5.73</td>\n",
              "      <td>23.11</td>\n",
              "    </tr>\n",
              "    <tr>\n",
              "      <th>1</th>\n",
              "      <td>1</td>\n",
              "      <td>63</td>\n",
              "      <td>0.01</td>\n",
              "      <td>0</td>\n",
              "      <td>4.41</td>\n",
              "      <td>28.61</td>\n",
              "    </tr>\n",
              "    <tr>\n",
              "      <th>3</th>\n",
              "      <td>1</td>\n",
              "      <td>58</td>\n",
              "      <td>7.50</td>\n",
              "      <td>1</td>\n",
              "      <td>6.41</td>\n",
              "      <td>38.03</td>\n",
              "    </tr>\n",
              "    <tr>\n",
              "      <th>4</th>\n",
              "      <td>1</td>\n",
              "      <td>49</td>\n",
              "      <td>13.60</td>\n",
              "      <td>1</td>\n",
              "      <td>3.50</td>\n",
              "      <td>27.78</td>\n",
              "    </tr>\n",
              "    <tr>\n",
              "      <th>7</th>\n",
              "      <td>1</td>\n",
              "      <td>58</td>\n",
              "      <td>4.08</td>\n",
              "      <td>1</td>\n",
              "      <td>4.59</td>\n",
              "      <td>14.60</td>\n",
              "    </tr>\n",
              "  </tbody>\n",
              "</table>\n",
              "</div>"
            ],
            "text/plain": [
              "   coronary heart disease  age  ...  low density lipoprotein  adiposity\n",
              "0                       1   52  ...                     5.73      23.11\n",
              "1                       1   63  ...                     4.41      28.61\n",
              "3                       1   58  ...                     6.41      38.03\n",
              "4                       1   49  ...                     3.50      27.78\n",
              "7                       1   58  ...                     4.59      14.60\n",
              "\n",
              "[5 rows x 6 columns]"
            ]
          },
          "metadata": {
            "tags": []
          },
          "execution_count": 125
        }
      ]
    },
    {
      "cell_type": "code",
      "metadata": {
        "id": "-fvvQ4XDZObE",
        "colab_type": "code",
        "outputId": "e78973bb-5247-4a45-91ae-bd80159f3410",
        "colab": {
          "base_uri": "https://localhost:8080/",
          "height": 294
        }
      },
      "source": [
        "chd_posetive.describe()"
      ],
      "execution_count": 0,
      "outputs": [
        {
          "output_type": "execute_result",
          "data": {
            "text/html": [
              "<div>\n",
              "<style scoped>\n",
              "    .dataframe tbody tr th:only-of-type {\n",
              "        vertical-align: middle;\n",
              "    }\n",
              "\n",
              "    .dataframe tbody tr th {\n",
              "        vertical-align: top;\n",
              "    }\n",
              "\n",
              "    .dataframe thead th {\n",
              "        text-align: right;\n",
              "    }\n",
              "</style>\n",
              "<table border=\"1\" class=\"dataframe\">\n",
              "  <thead>\n",
              "    <tr style=\"text-align: right;\">\n",
              "      <th></th>\n",
              "      <th>coronary heart disease</th>\n",
              "      <th>age</th>\n",
              "      <th>tobacco</th>\n",
              "      <th>family history</th>\n",
              "      <th>low density lipoprotein</th>\n",
              "      <th>adiposity</th>\n",
              "    </tr>\n",
              "  </thead>\n",
              "  <tbody>\n",
              "    <tr>\n",
              "      <th>count</th>\n",
              "      <td>160.0</td>\n",
              "      <td>160.000000</td>\n",
              "      <td>160.000000</td>\n",
              "      <td>160.000000</td>\n",
              "      <td>160.000000</td>\n",
              "      <td>160.000000</td>\n",
              "    </tr>\n",
              "    <tr>\n",
              "      <th>mean</th>\n",
              "      <td>1.0</td>\n",
              "      <td>50.293750</td>\n",
              "      <td>5.524875</td>\n",
              "      <td>0.600000</td>\n",
              "      <td>5.487938</td>\n",
              "      <td>28.120250</td>\n",
              "    </tr>\n",
              "    <tr>\n",
              "      <th>std</th>\n",
              "      <td>0.0</td>\n",
              "      <td>10.649119</td>\n",
              "      <td>5.565143</td>\n",
              "      <td>0.491436</td>\n",
              "      <td>2.225073</td>\n",
              "      <td>7.057996</td>\n",
              "    </tr>\n",
              "    <tr>\n",
              "      <th>min</th>\n",
              "      <td>1.0</td>\n",
              "      <td>17.000000</td>\n",
              "      <td>0.000000</td>\n",
              "      <td>0.000000</td>\n",
              "      <td>1.550000</td>\n",
              "      <td>9.390000</td>\n",
              "    </tr>\n",
              "    <tr>\n",
              "      <th>25%</th>\n",
              "      <td>1.0</td>\n",
              "      <td>42.750000</td>\n",
              "      <td>1.500000</td>\n",
              "      <td>0.000000</td>\n",
              "      <td>3.940000</td>\n",
              "      <td>23.462500</td>\n",
              "    </tr>\n",
              "    <tr>\n",
              "      <th>50%</th>\n",
              "      <td>1.0</td>\n",
              "      <td>53.000000</td>\n",
              "      <td>4.130000</td>\n",
              "      <td>1.000000</td>\n",
              "      <td>5.065000</td>\n",
              "      <td>28.405000</td>\n",
              "    </tr>\n",
              "    <tr>\n",
              "      <th>75%</th>\n",
              "      <td>1.0</td>\n",
              "      <td>59.000000</td>\n",
              "      <td>8.200000</td>\n",
              "      <td>1.000000</td>\n",
              "      <td>6.582500</td>\n",
              "      <td>33.587500</td>\n",
              "    </tr>\n",
              "    <tr>\n",
              "      <th>max</th>\n",
              "      <td>1.0</td>\n",
              "      <td>64.000000</td>\n",
              "      <td>31.200000</td>\n",
              "      <td>1.000000</td>\n",
              "      <td>14.160000</td>\n",
              "      <td>42.490000</td>\n",
              "    </tr>\n",
              "  </tbody>\n",
              "</table>\n",
              "</div>"
            ],
            "text/plain": [
              "       coronary heart disease         age  ...  low density lipoprotein   adiposity\n",
              "count                   160.0  160.000000  ...               160.000000  160.000000\n",
              "mean                      1.0   50.293750  ...                 5.487938   28.120250\n",
              "std                       0.0   10.649119  ...                 2.225073    7.057996\n",
              "min                       1.0   17.000000  ...                 1.550000    9.390000\n",
              "25%                       1.0   42.750000  ...                 3.940000   23.462500\n",
              "50%                       1.0   53.000000  ...                 5.065000   28.405000\n",
              "75%                       1.0   59.000000  ...                 6.582500   33.587500\n",
              "max                       1.0   64.000000  ...                14.160000   42.490000\n",
              "\n",
              "[8 rows x 6 columns]"
            ]
          },
          "metadata": {
            "tags": []
          },
          "execution_count": 113
        }
      ]
    },
    {
      "cell_type": "code",
      "metadata": {
        "id": "N7WbxpsLa3pu",
        "colab_type": "code",
        "outputId": "505420cd-597e-4df7-ba7b-9c8cb040407e",
        "colab": {
          "base_uri": "https://localhost:8080/",
          "height": 991
        }
      },
      "source": [
        "chd_posetive['tobacco'] = np.where(chd_posetive['tobacco'] < 5.5, 0, chd_posetive['tobacco'])\n",
        "chd_posetive['tobacco'].value_counts()"
      ],
      "execution_count": 0,
      "outputs": [
        {
          "output_type": "stream",
          "text": [
            "/usr/local/lib/python3.6/dist-packages/ipykernel_launcher.py:1: SettingWithCopyWarning: \n",
            "A value is trying to be set on a copy of a slice from a DataFrame.\n",
            "Try using .loc[row_indexer,col_indexer] = value instead\n",
            "\n",
            "See the caveats in the documentation: https://pandas.pydata.org/pandas-docs/stable/user_guide/indexing.html#returning-a-view-versus-a-copy\n",
            "  \"\"\"Entry point for launching an IPython kernel.\n"
          ],
          "name": "stderr"
        },
        {
          "output_type": "execute_result",
          "data": {
            "text/plain": [
              "0.00     100\n",
              "12.00      3\n",
              "6.00       3\n",
              "8.80       3\n",
              "8.75       2\n",
              "8.20       2\n",
              "8.60       2\n",
              "11.20      2\n",
              "14.00      2\n",
              "7.50       2\n",
              "10.50      2\n",
              "9.00       1\n",
              "6.60       1\n",
              "8.08       1\n",
              "7.28       1\n",
              "7.77       1\n",
              "13.02      1\n",
              "20.00      1\n",
              "5.50       1\n",
              "15.00      1\n",
              "18.00      1\n",
              "7.40       1\n",
              "8.00       1\n",
              "6.75       1\n",
              "15.50      1\n",
              "10.00      1\n",
              "11.79      1\n",
              "13.80      1\n",
              "9.10       1\n",
              "19.20      1\n",
              "6.30       1\n",
              "19.45      1\n",
              "11.40      1\n",
              "6.80       1\n",
              "12.30      1\n",
              "31.20      1\n",
              "8.40       1\n",
              "14.10      1\n",
              "7.60       1\n",
              "9.90       1\n",
              "13.60      1\n",
              "12.16      1\n",
              "8.14       1\n",
              "6.40       1\n",
              "25.01      1\n",
              "5.60       1\n",
              "27.40      1\n",
              "12.20      1\n",
              "Name: tobacco, dtype: int64"
            ]
          },
          "metadata": {
            "tags": []
          },
          "execution_count": 114
        }
      ]
    },
    {
      "cell_type": "code",
      "metadata": {
        "id": "QTXJQffEZpJT",
        "colab_type": "code",
        "outputId": "5922195f-f1ff-4465-c39d-ecedd39c3573",
        "colab": {
          "base_uri": "https://localhost:8080/",
          "height": 349
        }
      },
      "source": [
        "chd_posetive['low density lipoprotein'] = np.where(chd_posetive['low density lipoprotein'] < 2.6, 0, chd_posetive['low density lipoprotein'])\n",
        "chd_posetive['low density lipoprotein'].value_counts()"
      ],
      "execution_count": 0,
      "outputs": [
        {
          "output_type": "stream",
          "text": [
            "/usr/local/lib/python3.6/dist-packages/ipykernel_launcher.py:1: SettingWithCopyWarning: \n",
            "A value is trying to be set on a copy of a slice from a DataFrame.\n",
            "Try using .loc[row_indexer,col_indexer] = value instead\n",
            "\n",
            "See the caveats in the documentation: https://pandas.pydata.org/pandas-docs/stable/user_guide/indexing.html#returning-a-view-versus-a-copy\n",
            "  \"\"\"Entry point for launching an IPython kernel.\n"
          ],
          "name": "stderr"
        },
        {
          "output_type": "execute_result",
          "data": {
            "text/plain": [
              "0.00    6\n",
              "3.79    3\n",
              "4.59    2\n",
              "3.17    2\n",
              "4.82    2\n",
              "       ..\n",
              "4.80    1\n",
              "8.41    1\n",
              "5.45    1\n",
              "3.90    1\n",
              "3.50    1\n",
              "Name: low density lipoprotein, Length: 137, dtype: int64"
            ]
          },
          "metadata": {
            "tags": []
          },
          "execution_count": 126
        }
      ]
    },
    {
      "cell_type": "code",
      "metadata": {
        "id": "5PZoUnnlYttb",
        "colab_type": "code",
        "outputId": "dc44eb0b-5842-4af8-9bce-1cfa001dd6d0",
        "colab": {
          "base_uri": "https://localhost:8080/",
          "height": 349
        }
      },
      "source": [
        "chd_posetive['adiposity'] = np.where(chd_posetive['adiposity'] >= 30.0, 0, chd_posetive['adiposity'])\n",
        "chd_posetive['adiposity'].value_counts()"
      ],
      "execution_count": 0,
      "outputs": [
        {
          "output_type": "stream",
          "text": [
            "/usr/local/lib/python3.6/dist-packages/ipykernel_launcher.py:1: SettingWithCopyWarning: \n",
            "A value is trying to be set on a copy of a slice from a DataFrame.\n",
            "Try using .loc[row_indexer,col_indexer] = value instead\n",
            "\n",
            "See the caveats in the documentation: https://pandas.pydata.org/pandas-docs/stable/user_guide/indexing.html#returning-a-view-versus-a-copy\n",
            "  \"\"\"Entry point for launching an IPython kernel.\n"
          ],
          "name": "stderr"
        },
        {
          "output_type": "execute_result",
          "data": {
            "text/plain": [
              "0.00     64\n",
              "21.10     2\n",
              "29.81     2\n",
              "22.39     1\n",
              "28.02     1\n",
              "         ..\n",
              "29.38     1\n",
              "29.07     1\n",
              "14.60     1\n",
              "27.55     1\n",
              "27.41     1\n",
              "Name: adiposity, Length: 95, dtype: int64"
            ]
          },
          "metadata": {
            "tags": []
          },
          "execution_count": 117
        }
      ]
    },
    {
      "cell_type": "code",
      "metadata": {
        "id": "_l9BDqJDMh9d",
        "colab_type": "code",
        "outputId": "4f827065-f0a0-42b9-dee0-bed6bf7f7017",
        "colab": {
          "base_uri": "https://localhost:8080/",
          "height": 575
        }
      },
      "source": [
        "\n",
        "chd_posetive['age'] = np.where(chd_posetive['age'] < 40, 0, chd_posetive['age'])\n",
        "chd_posetive['age'].value_counts()"
      ],
      "execution_count": 0,
      "outputs": [
        {
          "output_type": "stream",
          "text": [
            "/usr/local/lib/python3.6/dist-packages/ipykernel_launcher.py:2: SettingWithCopyWarning: \n",
            "A value is trying to be set on a copy of a slice from a DataFrame.\n",
            "Try using .loc[row_indexer,col_indexer] = value instead\n",
            "\n",
            "See the caveats in the documentation: https://pandas.pydata.org/pandas-docs/stable/user_guide/indexing.html#returning-a-view-versus-a-copy\n",
            "  \n"
          ],
          "name": "stderr"
        },
        {
          "output_type": "execute_result",
          "data": {
            "text/plain": [
              "0     28\n",
              "58    13\n",
              "59    11\n",
              "55    10\n",
              "61     9\n",
              "53     7\n",
              "64     7\n",
              "52     7\n",
              "45     6\n",
              "54     6\n",
              "62     6\n",
              "60     5\n",
              "63     5\n",
              "51     5\n",
              "41     5\n",
              "42     4\n",
              "43     4\n",
              "49     4\n",
              "46     4\n",
              "56     4\n",
              "48     3\n",
              "50     3\n",
              "40     3\n",
              "57     1\n",
              "Name: age, dtype: int64"
            ]
          },
          "metadata": {
            "tags": []
          },
          "execution_count": 118
        }
      ]
    },
    {
      "cell_type": "code",
      "metadata": {
        "id": "9vJpT4DEKGGP",
        "colab_type": "code",
        "outputId": "e9988cb3-f74b-462e-8858-4f478da352f3",
        "colab": {
          "base_uri": "https://localhost:8080/",
          "height": 69
        }
      },
      "source": [
        "chd_posetive['family history'].value_counts()\n"
      ],
      "execution_count": 0,
      "outputs": [
        {
          "output_type": "execute_result",
          "data": {
            "text/plain": [
              "1    96\n",
              "0    64\n",
              "Name: family history, dtype: int64"
            ]
          },
          "metadata": {
            "tags": []
          },
          "execution_count": 119
        }
      ]
    },
    {
      "cell_type": "code",
      "metadata": {
        "id": "J1QXJyUKdeE6",
        "colab_type": "code",
        "colab": {}
      },
      "source": [
        ""
      ],
      "execution_count": 0,
      "outputs": []
    },
    {
      "cell_type": "code",
      "metadata": {
        "id": "KUfZBgl1VWZk",
        "colab_type": "code",
        "outputId": "f0438dd7-2b30-4c22-a5d2-962cee896f84",
        "colab": {
          "base_uri": "https://localhost:8080/",
          "height": 202
        }
      },
      "source": [
        "chd_negative = small_df[small_df['coronary heart disease']==0]\n",
        "chd_negative.head()"
      ],
      "execution_count": 0,
      "outputs": [
        {
          "output_type": "execute_result",
          "data": {
            "text/html": [
              "<div>\n",
              "<style scoped>\n",
              "    .dataframe tbody tr th:only-of-type {\n",
              "        vertical-align: middle;\n",
              "    }\n",
              "\n",
              "    .dataframe tbody tr th {\n",
              "        vertical-align: top;\n",
              "    }\n",
              "\n",
              "    .dataframe thead th {\n",
              "        text-align: right;\n",
              "    }\n",
              "</style>\n",
              "<table border=\"1\" class=\"dataframe\">\n",
              "  <thead>\n",
              "    <tr style=\"text-align: right;\">\n",
              "      <th></th>\n",
              "      <th>coronary heart disease</th>\n",
              "      <th>age</th>\n",
              "      <th>tobacco</th>\n",
              "      <th>family history</th>\n",
              "      <th>low density lipoprotein</th>\n",
              "      <th>adiposity</th>\n",
              "    </tr>\n",
              "  </thead>\n",
              "  <tbody>\n",
              "    <tr>\n",
              "      <th>2</th>\n",
              "      <td>0</td>\n",
              "      <td>46</td>\n",
              "      <td>0.08</td>\n",
              "      <td>1</td>\n",
              "      <td>3.48</td>\n",
              "      <td>32.28</td>\n",
              "    </tr>\n",
              "    <tr>\n",
              "      <th>5</th>\n",
              "      <td>0</td>\n",
              "      <td>45</td>\n",
              "      <td>6.20</td>\n",
              "      <td>1</td>\n",
              "      <td>6.47</td>\n",
              "      <td>36.21</td>\n",
              "    </tr>\n",
              "    <tr>\n",
              "      <th>6</th>\n",
              "      <td>0</td>\n",
              "      <td>38</td>\n",
              "      <td>4.05</td>\n",
              "      <td>0</td>\n",
              "      <td>3.38</td>\n",
              "      <td>16.20</td>\n",
              "    </tr>\n",
              "    <tr>\n",
              "      <th>8</th>\n",
              "      <td>0</td>\n",
              "      <td>29</td>\n",
              "      <td>0.00</td>\n",
              "      <td>1</td>\n",
              "      <td>3.83</td>\n",
              "      <td>19.40</td>\n",
              "    </tr>\n",
              "    <tr>\n",
              "      <th>12</th>\n",
              "      <td>0</td>\n",
              "      <td>17</td>\n",
              "      <td>0.00</td>\n",
              "      <td>0</td>\n",
              "      <td>1.88</td>\n",
              "      <td>10.05</td>\n",
              "    </tr>\n",
              "  </tbody>\n",
              "</table>\n",
              "</div>"
            ],
            "text/plain": [
              "    coronary heart disease  age  ...  low density lipoprotein  adiposity\n",
              "2                        0   46  ...                     3.48      32.28\n",
              "5                        0   45  ...                     6.47      36.21\n",
              "6                        0   38  ...                     3.38      16.20\n",
              "8                        0   29  ...                     3.83      19.40\n",
              "12                       0   17  ...                     1.88      10.05\n",
              "\n",
              "[5 rows x 6 columns]"
            ]
          },
          "metadata": {
            "tags": []
          },
          "execution_count": 120
        }
      ]
    },
    {
      "cell_type": "code",
      "metadata": {
        "id": "FViyIkmqe-8g",
        "colab_type": "code",
        "outputId": "471cc811-1cd5-4975-ee05-a3a399882f0e",
        "colab": {
          "base_uri": "https://localhost:8080/",
          "height": 294
        }
      },
      "source": [
        "chd_negative.describe()"
      ],
      "execution_count": 0,
      "outputs": [
        {
          "output_type": "execute_result",
          "data": {
            "text/html": [
              "<div>\n",
              "<style scoped>\n",
              "    .dataframe tbody tr th:only-of-type {\n",
              "        vertical-align: middle;\n",
              "    }\n",
              "\n",
              "    .dataframe tbody tr th {\n",
              "        vertical-align: top;\n",
              "    }\n",
              "\n",
              "    .dataframe thead th {\n",
              "        text-align: right;\n",
              "    }\n",
              "</style>\n",
              "<table border=\"1\" class=\"dataframe\">\n",
              "  <thead>\n",
              "    <tr style=\"text-align: right;\">\n",
              "      <th></th>\n",
              "      <th>coronary heart disease</th>\n",
              "      <th>age</th>\n",
              "      <th>tobacco</th>\n",
              "      <th>family history</th>\n",
              "      <th>low density lipoprotein</th>\n",
              "      <th>adiposity</th>\n",
              "    </tr>\n",
              "  </thead>\n",
              "  <tbody>\n",
              "    <tr>\n",
              "      <th>count</th>\n",
              "      <td>302.0</td>\n",
              "      <td>302.000000</td>\n",
              "      <td>302.000000</td>\n",
              "      <td>302.000000</td>\n",
              "      <td>302.000000</td>\n",
              "      <td>302.000000</td>\n",
              "    </tr>\n",
              "    <tr>\n",
              "      <th>mean</th>\n",
              "      <td>0.0</td>\n",
              "      <td>38.854305</td>\n",
              "      <td>2.634735</td>\n",
              "      <td>0.317881</td>\n",
              "      <td>4.344238</td>\n",
              "      <td>23.969106</td>\n",
              "    </tr>\n",
              "    <tr>\n",
              "      <th>std</th>\n",
              "      <td>0.0</td>\n",
              "      <td>14.882663</td>\n",
              "      <td>3.612095</td>\n",
              "      <td>0.466426</td>\n",
              "      <td>1.870444</td>\n",
              "      <td>7.772876</td>\n",
              "    </tr>\n",
              "    <tr>\n",
              "      <th>min</th>\n",
              "      <td>0.0</td>\n",
              "      <td>15.000000</td>\n",
              "      <td>0.000000</td>\n",
              "      <td>0.000000</td>\n",
              "      <td>0.980000</td>\n",
              "      <td>6.740000</td>\n",
              "    </tr>\n",
              "    <tr>\n",
              "      <th>25%</th>\n",
              "      <td>0.0</td>\n",
              "      <td>27.000000</td>\n",
              "      <td>0.000000</td>\n",
              "      <td>0.000000</td>\n",
              "      <td>3.057500</td>\n",
              "      <td>17.510000</td>\n",
              "    </tr>\n",
              "    <tr>\n",
              "      <th>50%</th>\n",
              "      <td>0.0</td>\n",
              "      <td>40.000000</td>\n",
              "      <td>1.035000</td>\n",
              "      <td>0.000000</td>\n",
              "      <td>3.980000</td>\n",
              "      <td>24.625000</td>\n",
              "    </tr>\n",
              "    <tr>\n",
              "      <th>75%</th>\n",
              "      <td>0.0</td>\n",
              "      <td>50.750000</td>\n",
              "      <td>4.200000</td>\n",
              "      <td>1.000000</td>\n",
              "      <td>5.287500</td>\n",
              "      <td>29.957500</td>\n",
              "    </tr>\n",
              "    <tr>\n",
              "      <th>max</th>\n",
              "      <td>0.0</td>\n",
              "      <td>64.000000</td>\n",
              "      <td>20.000000</td>\n",
              "      <td>1.000000</td>\n",
              "      <td>15.330000</td>\n",
              "      <td>42.060000</td>\n",
              "    </tr>\n",
              "  </tbody>\n",
              "</table>\n",
              "</div>"
            ],
            "text/plain": [
              "       coronary heart disease         age  ...  low density lipoprotein   adiposity\n",
              "count                   302.0  302.000000  ...               302.000000  302.000000\n",
              "mean                      0.0   38.854305  ...                 4.344238   23.969106\n",
              "std                       0.0   14.882663  ...                 1.870444    7.772876\n",
              "min                       0.0   15.000000  ...                 0.980000    6.740000\n",
              "25%                       0.0   27.000000  ...                 3.057500   17.510000\n",
              "50%                       0.0   40.000000  ...                 3.980000   24.625000\n",
              "75%                       0.0   50.750000  ...                 5.287500   29.957500\n",
              "max                       0.0   64.000000  ...                15.330000   42.060000\n",
              "\n",
              "[8 rows x 6 columns]"
            ]
          },
          "metadata": {
            "tags": []
          },
          "execution_count": 121
        }
      ]
    },
    {
      "cell_type": "code",
      "metadata": {
        "id": "d7AVnyvhfLZE",
        "colab_type": "code",
        "outputId": "2bfdb206-b5b8-43f1-e3c2-814ba23b6acd",
        "colab": {
          "base_uri": "https://localhost:8080/",
          "height": 609
        }
      },
      "source": [
        "chd_negative['age'] = np.where(chd_negative['age'] < 40, 0, chd_negative['age'])\n",
        "chd_negative['age'].value_counts()"
      ],
      "execution_count": 0,
      "outputs": [
        {
          "output_type": "stream",
          "text": [
            "/usr/local/lib/python3.6/dist-packages/ipykernel_launcher.py:1: SettingWithCopyWarning: \n",
            "A value is trying to be set on a copy of a slice from a DataFrame.\n",
            "Try using .loc[row_indexer,col_indexer] = value instead\n",
            "\n",
            "See the caveats in the documentation: https://pandas.pydata.org/pandas-docs/stable/user_guide/indexing.html#returning-a-view-versus-a-copy\n",
            "  \"\"\"Entry point for launching an IPython kernel.\n"
          ],
          "name": "stderr"
        },
        {
          "output_type": "execute_result",
          "data": {
            "text/plain": [
              "0     148\n",
              "49     10\n",
              "60     10\n",
              "48     10\n",
              "40      9\n",
              "42      9\n",
              "44      8\n",
              "45      8\n",
              "61      7\n",
              "57      7\n",
              "46      7\n",
              "53      7\n",
              "64      6\n",
              "55      6\n",
              "62      6\n",
              "50      5\n",
              "56      5\n",
              "59      5\n",
              "41      5\n",
              "54      4\n",
              "58      4\n",
              "43      4\n",
              "63      3\n",
              "52      3\n",
              "47      3\n",
              "51      3\n",
              "Name: age, dtype: int64"
            ]
          },
          "metadata": {
            "tags": []
          },
          "execution_count": 122
        }
      ]
    },
    {
      "cell_type": "code",
      "metadata": {
        "id": "jri26-7ofo1Q",
        "colab_type": "code",
        "outputId": "dafcfc5e-7328-4f79-de2f-3796e3d912f0",
        "colab": {
          "base_uri": "https://localhost:8080/",
          "height": 349
        }
      },
      "source": [
        "chd_negative['adiposity'] = np.where(chd_negative['adiposity'] < 30, 0, chd_negative['adiposity'])\n",
        "chd_negative['adiposity'].value_counts()"
      ],
      "execution_count": 0,
      "outputs": [
        {
          "output_type": "stream",
          "text": [
            "/usr/local/lib/python3.6/dist-packages/ipykernel_launcher.py:1: SettingWithCopyWarning: \n",
            "A value is trying to be set on a copy of a slice from a DataFrame.\n",
            "Try using .loc[row_indexer,col_indexer] = value instead\n",
            "\n",
            "See the caveats in the documentation: https://pandas.pydata.org/pandas-docs/stable/user_guide/indexing.html#returning-a-view-versus-a-copy\n",
            "  \"\"\"Entry point for launching an IPython kernel.\n"
          ],
          "name": "stderr"
        },
        {
          "output_type": "execute_result",
          "data": {
            "text/plain": [
              "0.00     229\n",
              "32.03      2\n",
              "30.90      2\n",
              "30.79      2\n",
              "36.21      2\n",
              "        ... \n",
              "32.38      1\n",
              "33.67      1\n",
              "35.54      1\n",
              "31.33      1\n",
              "37.83      1\n",
              "Name: adiposity, Length: 69, dtype: int64"
            ]
          },
          "metadata": {
            "tags": []
          },
          "execution_count": 127
        }
      ]
    },
    {
      "cell_type": "code",
      "metadata": {
        "id": "PUgiTGW5gJyg",
        "colab_type": "code",
        "outputId": "ad20b9c5-9ac1-4252-8c48-531c5356a81b",
        "colab": {
          "base_uri": "https://localhost:8080/",
          "height": 329
        }
      },
      "source": [
        "chd_negative['tobacco'] = np.where(chd_negative['tobacco'] < 2.6, 0, chd_negative['tobacco'])\n",
        "chd_negative['tobacco'].value_counts()"
      ],
      "execution_count": 0,
      "outputs": [
        {
          "output_type": "stream",
          "text": [
            "/usr/local/lib/python3.6/dist-packages/ipykernel_launcher.py:1: SettingWithCopyWarning: \n",
            "A value is trying to be set on a copy of a slice from a DataFrame.\n",
            "Try using .loc[row_indexer,col_indexer] = value instead\n",
            "\n",
            "See the caveats in the documentation: https://pandas.pydata.org/pandas-docs/stable/user_guide/indexing.html#returning-a-view-versus-a-copy\n",
            "  \"\"\"Entry point for launching an IPython kernel.\n"
          ],
          "name": "stderr"
        },
        {
          "output_type": "execute_result",
          "data": {
            "text/plain": [
              "0.00    190\n",
              "6.00      8\n",
              "3.00      7\n",
              "4.20      4\n",
              "3.60      3\n",
              "       ... \n",
              "5.16      1\n",
              "3.80      1\n",
              "7.90      1\n",
              "9.45      1\n",
              "3.90      1\n",
              "Name: tobacco, Length: 80, dtype: int64"
            ]
          },
          "metadata": {
            "tags": []
          },
          "execution_count": 128
        }
      ]
    },
    {
      "cell_type": "code",
      "metadata": {
        "id": "Cm_NxelBgudo",
        "colab_type": "code",
        "outputId": "c20eacdf-6b01-45b8-f656-00820e309dc2",
        "colab": {
          "base_uri": "https://localhost:8080/",
          "height": 329
        }
      },
      "source": [
        "chd_negative['low density lipoprotein'] = np.where(chd_negative['low density lipoprotein'] < 2.6, 0, chd_negative['low density lipoprotein'])\n",
        "chd_negative['low density lipoprotein'].value_counts()"
      ],
      "execution_count": 0,
      "outputs": [
        {
          "output_type": "stream",
          "text": [
            "/usr/local/lib/python3.6/dist-packages/ipykernel_launcher.py:1: SettingWithCopyWarning: \n",
            "A value is trying to be set on a copy of a slice from a DataFrame.\n",
            "Try using .loc[row_indexer,col_indexer] = value instead\n",
            "\n",
            "See the caveats in the documentation: https://pandas.pydata.org/pandas-docs/stable/user_guide/indexing.html#returning-a-view-versus-a-copy\n",
            "  \"\"\"Entry point for launching an IPython kernel.\n"
          ],
          "name": "stderr"
        },
        {
          "output_type": "execute_result",
          "data": {
            "text/plain": [
              "0.00    46\n",
              "3.30     4\n",
              "3.57     4\n",
              "3.69     3\n",
              "4.37     3\n",
              "        ..\n",
              "3.83     1\n",
              "5.32     1\n",
              "3.91     1\n",
              "5.13     1\n",
              "6.38     1\n",
              "Name: low density lipoprotein, Length: 200, dtype: int64"
            ]
          },
          "metadata": {
            "tags": []
          },
          "execution_count": 129
        }
      ]
    },
    {
      "cell_type": "code",
      "metadata": {
        "id": "lr9vKqldhRT8",
        "colab_type": "code",
        "outputId": "56351166-ae6e-4ac5-8ed2-9f65872d8004",
        "colab": {
          "base_uri": "https://localhost:8080/",
          "height": 69
        }
      },
      "source": [
        "chd_negative['family history'].value_counts()"
      ],
      "execution_count": 0,
      "outputs": [
        {
          "output_type": "execute_result",
          "data": {
            "text/plain": [
              "0    206\n",
              "1     96\n",
              "Name: family history, dtype: int64"
            ]
          },
          "metadata": {
            "tags": []
          },
          "execution_count": 130
        }
      ]
    },
    {
      "cell_type": "markdown",
      "metadata": {
        "id": "PedseK_3VwLa",
        "colab_type": "text"
      },
      "source": [
        "2 sample t-test on age coronary heart disease posetive more than coronary heart disease negative\n",
        "\n",
        "1. Null Hypothhesis: coronary negative heart disease is  the same as  coronary heart disease posetive on age \n",
        " $H_0: \\bar{x}_n = \\bar{x}_p$\n",
        "2. Alternative Hypothesis:  coronary heart disease negative is  not the same as  coronary heart disease posetive  on age  \n",
        "$H_0: \\bar{x}_n = \\bar{x}_p$ \n",
        "3. Confidence level: 95%"
      ]
    },
    {
      "cell_type": "code",
      "metadata": {
        "id": "NOid-_GZVaFi",
        "colab_type": "code",
        "outputId": "77f605aa-0ede-4a47-cfbc-742e9385f980",
        "colab": {
          "base_uri": "https://localhost:8080/",
          "height": 35
        }
      },
      "source": [
        "from scipy import stats\n",
        "stats.ttest_ind(chd_negative['age'], chd_posetive['age'])"
      ],
      "execution_count": 0,
      "outputs": [
        {
          "output_type": "execute_result",
          "data": {
            "text/plain": [
              "Ttest_indResult(statistic=-8.621496303728742, pvalue=1.0741818171806074e-16)"
            ]
          },
          "metadata": {
            "tags": []
          },
          "execution_count": 29
        }
      ]
    },
    {
      "cell_type": "markdown",
      "metadata": {
        "id": "P6p26qs0ZjnE",
        "colab_type": "text"
      },
      "source": [
        "**Conclusion**: Given a t-statistic of -8.6, and p-value of 0, we reject the null hypothesis that coronary heart disease negative is the same as coronary heart disease posetive on age. This suggests the alternative that they are not the same on age. From the t-statistics sign the average age for coronary heart disease posetive is bigger."
      ]
    },
    {
      "cell_type": "markdown",
      "metadata": {
        "colab_type": "text",
        "id": "qyzoQ0-Zb_sG"
      },
      "source": [
        "2 sample t-test on tobacco  coronary heart disease posetive more than  coronary heart disease negative\n",
        "\n",
        "1. Null Hypothhesis: coronary  heart disease negative is  the same as  coronary heart disease posetive on tobacco \n",
        " $H_0: \\bar{x}_n = \\bar{x}_p$\n",
        "2. Alternative Hypothesis:  coronary heart disease negative is  not the same as  coronary heart disease posetive  on tobacco  \n",
        "$H_0: \\bar{x}_n = \\bar{x}_p$ \n",
        "3. Confidence level: 95%"
      ]
    },
    {
      "cell_type": "code",
      "metadata": {
        "id": "aOa5jmF8cwyN",
        "colab_type": "code",
        "outputId": "b7236a2f-9c89-4363-c319-57ef00c0295c",
        "colab": {
          "base_uri": "https://localhost:8080/",
          "height": 35
        }
      },
      "source": [
        "# tobacco\n",
        "stats.ttest_ind(chd_negative['tobacco'], chd_posetive['tobacco'])"
      ],
      "execution_count": 0,
      "outputs": [
        {
          "output_type": "execute_result",
          "data": {
            "text/plain": [
              "Ttest_indResult(statistic=-6.737983717964519, pvalue=4.815842571605575e-11)"
            ]
          },
          "metadata": {
            "tags": []
          },
          "execution_count": 30
        }
      ]
    },
    {
      "cell_type": "markdown",
      "metadata": {
        "colab_type": "text",
        "id": "Aby2KykLddPK"
      },
      "source": [
        "**Conclusion**: Given a t-statistic of -6.7, and p-value of 0, we reject the null hypothesis that coronary heart disease negative is the same as coronary heart disease posetive on tobacco. This suggests the alternative that they are not the same on tobacco consumption. From the t-statistics sign the average tobacco consumption for coronary heart disease posetive is bigger."
      ]
    },
    {
      "cell_type": "markdown",
      "metadata": {
        "colab_type": "text",
        "id": "pS_59B1oeQl2"
      },
      "source": [
        "2 sample t-test on family history  coronary heart disease posetive more than  coronary heart disease negative\n",
        "\n",
        "1. Null Hypothhesis: coronary  heart disease negative is  the same as  coronary heart disease posetive on family history \n",
        " $H_0: \\bar{x}_n = \\bar{x}_p$\n",
        "2. Alternative Hypothesis:  coronary heart disease negative is  not the same as  coronary heart disease posetive  on family history  \n",
        "$H_0: \\bar{x}_n = \\bar{x}_p$ \n",
        "3. Confidence level: 95%"
      ]
    },
    {
      "cell_type": "code",
      "metadata": {
        "id": "V7GvSBBBel8v",
        "colab_type": "code",
        "outputId": "c06ecdce-938d-493a-d357-97a715131ecd",
        "colab": {
          "base_uri": "https://localhost:8080/",
          "height": 35
        }
      },
      "source": [
        "# family history\n",
        "stats.ttest_ind(chd_negative['family history'], chd_posetive['family history'])"
      ],
      "execution_count": 0,
      "outputs": [
        {
          "output_type": "execute_result",
          "data": {
            "text/plain": [
              "Ttest_indResult(statistic=-6.071288544960015, pvalue=2.6576285226962867e-09)"
            ]
          },
          "metadata": {
            "tags": []
          },
          "execution_count": 31
        }
      ]
    },
    {
      "cell_type": "markdown",
      "metadata": {
        "colab_type": "text",
        "id": "cVDpsGNsfB8h"
      },
      "source": [
        "**Conclusion**: Given a t-statistic of -6.1, and p-value of 0, we reject the null hypothesis that coronary heart disease negative is the same as coronary heart disease posetive on family history. This suggests the alternative that they are not the same on family history. From the t-statistics sign the average of family history for coronary heart disease posetive is bigger."
      ]
    },
    {
      "cell_type": "markdown",
      "metadata": {
        "colab_type": "text",
        "id": "Dl73PmnJgA47"
      },
      "source": [
        "2 sample t-test low density lipoprotein  coronary heart disease posetive more than  coronary heart disease negative\n",
        "\n",
        "1. Null Hypothhesis: coronary  heart disease negative is  the same as  coronary heart disease posetive on low density lipoprotein\n",
        " $H_0: \\bar{x}_n = \\bar{x}_p$\n",
        "2. Alternative Hypothesis:  coronary heart disease negative is  not the same as  coronary heart disease posetive  on low density lipoprotein  \n",
        "$H_0: \\bar{x}_n = \\bar{x}_p$ \n",
        "3. Confidence level: 95%"
      ]
    },
    {
      "cell_type": "code",
      "metadata": {
        "id": "axFF5uhDgYf0",
        "colab_type": "code",
        "outputId": "ff1a6d84-a0f3-41d9-eadd-c39fbfde83a8",
        "colab": {
          "base_uri": "https://localhost:8080/",
          "height": 35
        }
      },
      "source": [
        "# low density lipoprotein\n",
        "stats.ttest_ind(chd_negative['low density lipoprotein'], chd_posetive['low density lipoprotein'])"
      ],
      "execution_count": 0,
      "outputs": [
        {
          "output_type": "execute_result",
          "data": {
            "text/plain": [
              "Ttest_indResult(statistic=-5.847802552547037, pvalue=9.457207912519723e-09)"
            ]
          },
          "metadata": {
            "tags": []
          },
          "execution_count": 32
        }
      ]
    },
    {
      "cell_type": "markdown",
      "metadata": {
        "colab_type": "text",
        "id": "33aT0D_hg-FL"
      },
      "source": [
        "**Conclusion**: Given a t-statistic of -5.8, and p-value of 0, we reject the null hypothesis that coronary heart disease negative is the same as coronary heart disease posetive on low density lipoprotein. This suggests the alternative that they are not the same on low density lipoprotein. From the t-statistics sign the average of low density lipoprotein for coronary heart disease posetive is bigger."
      ]
    },
    {
      "cell_type": "markdown",
      "metadata": {
        "colab_type": "text",
        "id": "QjYtRSPrhfFn"
      },
      "source": [
        "2 sample t-test on adiposity  coronary heart disease posetive more than  coronary heart disease negative\n",
        "\n",
        "1. Null Hypothhesis: coronary  heart disease negative is  the same as  coronary heart disease posetive on adiposity \n",
        " $H_0: \\bar{x}_n = \\bar{x}_p$\n",
        "2. Alternative Hypothesis:  coronary heart disease negative is  not the same as  coronary heart disease posetive  on adiposity  \n",
        "$H_0: \\bar{x}_n = \\bar{x}_p$ \n",
        "3. Confidence level: 95%"
      ]
    },
    {
      "cell_type": "code",
      "metadata": {
        "id": "Mxcje38BhusO",
        "colab_type": "code",
        "outputId": "c69cc418-a0d0-494a-d742-f8bcf238106d",
        "colab": {
          "base_uri": "https://localhost:8080/",
          "height": 35
        }
      },
      "source": [
        "# adiposity\n",
        "stats.ttest_ind(chd_negative['adiposity'], chd_posetive['adiposity'])"
      ],
      "execution_count": 0,
      "outputs": [
        {
          "output_type": "execute_result",
          "data": {
            "text/plain": [
              "Ttest_indResult(statistic=-5.635290062988449, pvalue=3.050507732724932e-08)"
            ]
          },
          "metadata": {
            "tags": []
          },
          "execution_count": 33
        }
      ]
    },
    {
      "cell_type": "markdown",
      "metadata": {
        "colab_type": "text",
        "id": "tD65th4iiiXt"
      },
      "source": [
        "**Conclusion**: Given a t-statistic of -5.6, and p-value of 0, we reject the null hypothesis that coronary heart disease negative is the same as coronary heart disease posetive on adiposity. This suggests the alternative that they are not the same on adiposity. From the t-statistics sign the average of adiposity for coronary heart disease posetive is bigger."
      ]
    },
    {
      "cell_type": "code",
      "metadata": {
        "id": "9jBSMQmTumml",
        "colab_type": "code",
        "outputId": "1984a7bd-357e-4dbb-d8d4-6bf6dd16525c",
        "colab": {
          "base_uri": "https://localhost:8080/",
          "height": 69
        }
      },
      "source": [
        "df['age'] = np.where(df['age'] < 40, 0, df['age'])\n",
        "\n",
        "df['age'] = np.where(df['age'] >= 40, 1, df['age'])\n",
        "df['age'].value_counts()"
      ],
      "execution_count": 0,
      "outputs": [
        {
          "output_type": "execute_result",
          "data": {
            "text/plain": [
              "1    286\n",
              "0    176\n",
              "Name: age, dtype: int64"
            ]
          },
          "metadata": {
            "tags": []
          },
          "execution_count": 56
        }
      ]
    },
    {
      "cell_type": "code",
      "metadata": {
        "id": "l6bCiM9dz98d",
        "colab_type": "code",
        "outputId": "0cb186d0-1261-49a3-e6c5-54ef1ea93721",
        "colab": {
          "base_uri": "https://localhost:8080/",
          "height": 110
        }
      },
      "source": [
        "chd_posetive_prop = pd.DataFrame({'age': [28,122], 'tobacco': [100,60], 'famhist': [64,96],\n",
        "                                  'lowdenlipoprot': [6,154],'adiposity':[96,64]})\n",
        "chd_posetive_prop\n"
      ],
      "execution_count": 0,
      "outputs": [
        {
          "output_type": "execute_result",
          "data": {
            "text/html": [
              "<div>\n",
              "<style scoped>\n",
              "    .dataframe tbody tr th:only-of-type {\n",
              "        vertical-align: middle;\n",
              "    }\n",
              "\n",
              "    .dataframe tbody tr th {\n",
              "        vertical-align: top;\n",
              "    }\n",
              "\n",
              "    .dataframe thead th {\n",
              "        text-align: right;\n",
              "    }\n",
              "</style>\n",
              "<table border=\"1\" class=\"dataframe\">\n",
              "  <thead>\n",
              "    <tr style=\"text-align: right;\">\n",
              "      <th></th>\n",
              "      <th>age</th>\n",
              "      <th>tobacco</th>\n",
              "      <th>famhist</th>\n",
              "      <th>lowdenlipoprot</th>\n",
              "      <th>adiposity</th>\n",
              "    </tr>\n",
              "  </thead>\n",
              "  <tbody>\n",
              "    <tr>\n",
              "      <th>0</th>\n",
              "      <td>28</td>\n",
              "      <td>100</td>\n",
              "      <td>64</td>\n",
              "      <td>6</td>\n",
              "      <td>96</td>\n",
              "    </tr>\n",
              "    <tr>\n",
              "      <th>1</th>\n",
              "      <td>122</td>\n",
              "      <td>60</td>\n",
              "      <td>96</td>\n",
              "      <td>154</td>\n",
              "      <td>64</td>\n",
              "    </tr>\n",
              "  </tbody>\n",
              "</table>\n",
              "</div>"
            ],
            "text/plain": [
              "   age  tobacco  famhist  lowdenlipoprot  adiposity\n",
              "0   28      100       64               6         96\n",
              "1  122       60       96             154         64"
            ]
          },
          "metadata": {
            "tags": []
          },
          "execution_count": 131
        }
      ]
    },
    {
      "cell_type": "code",
      "metadata": {
        "id": "BnY5lH_o3lmO",
        "colab_type": "code",
        "outputId": "1f066c2f-7c61-4a46-da01-d9a4e333d28c",
        "colab": {
          "base_uri": "https://localhost:8080/",
          "height": 297
        }
      },
      "source": [
        "import matplotlib\n",
        "import matplotlib.pyplot as plt\n",
        "import numpy as np\n",
        "\n",
        "\n",
        "labels = ['age', 'tobacco', 'famhist', 'lowdenlopoprot', 'adiposity']\n",
        "chd_pve_under = [28, 100, 64, 6, 96]\n",
        "chd_pve_over = [122, 60, 96, 154, 64]\n",
        "\n",
        "x = np.arange(len(labels))  # the label locations\n",
        "width = 0.35  # the width of the bars\n",
        "\n",
        "fig, ax = plt.subplots()\n",
        "rects1 = ax.bar(x - width/2, chd_pve_under, width, label='over average')\n",
        "rects2 = ax.bar(x + width/2, chd_pve_over, width, label='under average')\n",
        "\n",
        "# Add some text for labels, title and custom x-axis tick labels, etc.\n",
        "ax.set_ylabel('CHD posetive')\n",
        "ax.set_title(\"CHD posetive by group and under and over avrage'\\n'\")\n",
        "\n",
        "ax.set_xticks(x)\n",
        "ax.set_xticklabels(labels,rotation='vertical')\n",
        "ax.legend()\n",
        "\n",
        "\n",
        "def autolabel(rects):\n",
        "    \"\"\"Attach a text label above each bar in *rects*, displaying its height.\"\"\"\n",
        "    for rect in rects:\n",
        "        height = rect.get_height()\n",
        "        ax.annotate('{}'.format(height),\n",
        "                    xy=(rect.get_x() + rect.get_width() / 2, height),\n",
        "                    xytext=(0, 3),  # 3 points vertical offset\n",
        "                    textcoords=\"offset points\",\n",
        "                    ha='center', va='bottom')\n",
        "\n",
        "\n",
        "autolabel(rects1)\n",
        "autolabel(rects2)\n",
        "\n",
        "fig.tight_layout()\n",
        "\n",
        "plt.show()"
      ],
      "execution_count": 0,
      "outputs": [
        {
          "output_type": "display_data",
          "data": {
            "image/png": "[encoded data removed]",
            "text/plain": [
              "<Figure size 432x288 with 1 Axes>"
            ]
          },
          "metadata": {
            "tags": [],
            "needs_background": "light"
          }
        }
      ]
    },
    {
      "cell_type": "code",
      "metadata": {
        "id": "TYocUtfsHrM6",
        "colab_type": "code",
        "colab": {}
      },
      "source": [
        ""
      ],
      "execution_count": 0,
      "outputs": []
    },
    {
      "cell_type": "code",
      "metadata": {
        "id": "zY6nHBc42AI0",
        "colab_type": "code",
        "outputId": "4410501f-4dd9-46b0-b91b-aa15e552356f",
        "colab": {
          "base_uri": "https://localhost:8080/",
          "height": 110
        }
      },
      "source": [
        "chd_negative_prop = pd.DataFrame({'age': [148,154], 'tobacco': [190,112], 'famhist': [206,96],\n",
        "                                  'lowdenlipoprot': [46,256],'adiposity':[229,73]})\n",
        "chd_negative_prop"
      ],
      "execution_count": 0,
      "outputs": [
        {
          "output_type": "execute_result",
          "data": {
            "text/html": [
              "<div>\n",
              "<style scoped>\n",
              "    .dataframe tbody tr th:only-of-type {\n",
              "        vertical-align: middle;\n",
              "    }\n",
              "\n",
              "    .dataframe tbody tr th {\n",
              "        vertical-align: top;\n",
              "    }\n",
              "\n",
              "    .dataframe thead th {\n",
              "        text-align: right;\n",
              "    }\n",
              "</style>\n",
              "<table border=\"1\" class=\"dataframe\">\n",
              "  <thead>\n",
              "    <tr style=\"text-align: right;\">\n",
              "      <th></th>\n",
              "      <th>age</th>\n",
              "      <th>tobacco</th>\n",
              "      <th>famhist</th>\n",
              "      <th>lowdenlipoprot</th>\n",
              "      <th>adiposity</th>\n",
              "    </tr>\n",
              "  </thead>\n",
              "  <tbody>\n",
              "    <tr>\n",
              "      <th>0</th>\n",
              "      <td>148</td>\n",
              "      <td>190</td>\n",
              "      <td>206</td>\n",
              "      <td>46</td>\n",
              "      <td>229</td>\n",
              "    </tr>\n",
              "    <tr>\n",
              "      <th>1</th>\n",
              "      <td>154</td>\n",
              "      <td>112</td>\n",
              "      <td>96</td>\n",
              "      <td>256</td>\n",
              "      <td>73</td>\n",
              "    </tr>\n",
              "  </tbody>\n",
              "</table>\n",
              "</div>"
            ],
            "text/plain": [
              "   age  tobacco  famhist  lowdenlipoprot  adiposity\n",
              "0  148      190      206              46        229\n",
              "1  154      112       96             256         73"
            ]
          },
          "metadata": {
            "tags": []
          },
          "execution_count": 133
        }
      ]
    },
    {
      "cell_type": "code",
      "metadata": {
        "id": "Yb5_gYf7H_mH",
        "colab_type": "code",
        "outputId": "f8b9d374-3012-4d2c-da9d-d25370a35c7b",
        "colab": {
          "base_uri": "https://localhost:8080/",
          "height": 297
        }
      },
      "source": [
        "\n",
        "labels = ['age', 'tobacco', 'famhist', 'lowdenlopoprot', 'adiposity']\n",
        "chd_nve_under = [148, 190, 206, 46, 229]\n",
        "chd_nve_over = [154, 112, 96, 256, 73]\n",
        "\n",
        "x = np.arange(len(labels))  # the label locations\n",
        "width = 0.35  # the width of the bars\n",
        "\n",
        "fig, ax = plt.subplots()\n",
        "rects1 = ax.bar(x - width/2, chd_nve_under, width, label='over average')\n",
        "rects2 = ax.bar(x + width/2, chd_nve_over, width, label='under average')\n",
        "\n",
        "# Add some text for labels, title and custom x-axis tick labels, etc.\n",
        "ax.set_ylabel('CHD negative')\n",
        "ax.set_title(\"CHD negative by group and under and over avrage'\\n'\")\n",
        "\n",
        "ax.set_xticks(x)\n",
        "ax.set_xticklabels(labels,rotation='vertical')\n",
        "ax.legend()\n",
        "\n",
        "\n",
        "def autolabel(rects):\n",
        "    \"\"\"Attach a text label above each bar in *rects*, displaying its height.\"\"\"\n",
        "    for rect in rects:\n",
        "        height = rect.get_height()\n",
        "        ax.annotate('{}'.format(height),\n",
        "                    xy=(rect.get_x() + rect.get_width() / 2, height),\n",
        "                    xytext=(0, 3),  # 3 points vertical offset\n",
        "                    textcoords=\"offset points\",\n",
        "                    ha='center', va='bottom')\n",
        "\n",
        "\n",
        "autolabel(rects1)\n",
        "autolabel(rects2)\n",
        "\n",
        "fig.tight_layout()\n",
        "\n",
        "plt.show()"
      ],
      "execution_count": 0,
      "outputs": [
        {
          "output_type": "display_data",
          "data": {
            "image/png": "[encoded data removed]",
            "text/plain": [
              "<Figure size 432x288 with 1 Axes>"
            ]
          },
          "metadata": {
            "tags": [],
            "needs_background": "light"
          }
        }
      ]
    },
    {
      "cell_type": "code",
      "metadata": {
        "id": "4xEM6QUb3DF9",
        "colab_type": "code",
        "outputId": "49e3c8f1-2ddf-41c5-ba78-fef06c093708",
        "colab": {
          "base_uri": "https://localhost:8080/",
          "height": 110
        }
      },
      "source": [
        "chd_total = chd_posetive_prop+chd_negative_prop\n",
        "chd_total"
      ],
      "execution_count": 0,
      "outputs": [
        {
          "output_type": "execute_result",
          "data": {
            "text/html": [
              "<div>\n",
              "<style scoped>\n",
              "    .dataframe tbody tr th:only-of-type {\n",
              "        vertical-align: middle;\n",
              "    }\n",
              "\n",
              "    .dataframe tbody tr th {\n",
              "        vertical-align: top;\n",
              "    }\n",
              "\n",
              "    .dataframe thead th {\n",
              "        text-align: right;\n",
              "    }\n",
              "</style>\n",
              "<table border=\"1\" class=\"dataframe\">\n",
              "  <thead>\n",
              "    <tr style=\"text-align: right;\">\n",
              "      <th></th>\n",
              "      <th>age</th>\n",
              "      <th>tobacco</th>\n",
              "      <th>famhist</th>\n",
              "      <th>lowdenlipoprot</th>\n",
              "      <th>adiposity</th>\n",
              "    </tr>\n",
              "  </thead>\n",
              "  <tbody>\n",
              "    <tr>\n",
              "      <th>0</th>\n",
              "      <td>176</td>\n",
              "      <td>290</td>\n",
              "      <td>270</td>\n",
              "      <td>52</td>\n",
              "      <td>325</td>\n",
              "    </tr>\n",
              "    <tr>\n",
              "      <th>1</th>\n",
              "      <td>276</td>\n",
              "      <td>172</td>\n",
              "      <td>192</td>\n",
              "      <td>410</td>\n",
              "      <td>137</td>\n",
              "    </tr>\n",
              "  </tbody>\n",
              "</table>\n",
              "</div>"
            ],
            "text/plain": [
              "   age  tobacco  famhist  lowdenlipoprot  adiposity\n",
              "0  176      290      270              52        325\n",
              "1  276      172      192             410        137"
            ]
          },
          "metadata": {
            "tags": []
          },
          "execution_count": 135
        }
      ]
    },
    {
      "cell_type": "code",
      "metadata": {
        "id": "1l2KGyPbKnpW",
        "colab_type": "code",
        "outputId": "571def63-a4a6-4d58-ae27-361e8abed3cd",
        "colab": {
          "base_uri": "https://localhost:8080/",
          "height": 297
        }
      },
      "source": [
        "\n",
        "labels = ['age', 'tobacco', 'famhist', 'lowdenlopoprot', 'adiposity']\n",
        "chd_under_normal = [176, 290, 270, 52, 325]\n",
        "chd_over_normal = [276, 172, 192, 410, 137]\n",
        "\n",
        "x = np.arange(len(labels))  # the label locations\n",
        "width = 0.35  # the width of the bars\n",
        "\n",
        "fig, ax = plt.subplots()\n",
        "rects1 = ax.bar(x - width/2, chd_under_normal, width, label='over normal')\n",
        "rects2 = ax.bar(x + width/2, chd_over_normal, width, label='under normal')\n",
        "\n",
        "# Add some text for labels, title and custom x-axis tick labels, etc.\n",
        "ax.set_ylabel('CHD test')\n",
        "ax.set_title(\"CHD test by group and under and over normal'\\n'\")\n",
        "\n",
        "ax.set_xticks(x)\n",
        "ax.set_xticklabels(labels,rotation='vertical')\n",
        "ax.legend()\n",
        "\n",
        "\n",
        "def autolabel(rects):\n",
        "    \"\"\"Attach a text label above each bar in *rects*, displaying its height.\"\"\"\n",
        "    for rect in rects:\n",
        "        height = rect.get_height()\n",
        "        ax.annotate('{}'.format(height),\n",
        "                    xy=(rect.get_x() + rect.get_width() / 2, height),\n",
        "                    xytext=(0, 3),  # 3 points vertical offset\n",
        "                    textcoords=\"offset points\",\n",
        "                    ha='center', va='bottom')\n",
        "\n",
        "\n",
        "autolabel(rects1)\n",
        "autolabel(rects2)\n",
        "\n",
        "fig.tight_layout()\n",
        "\n",
        "plt.show()"
      ],
      "execution_count": 0,
      "outputs": [
        {
          "output_type": "display_data",
          "data": {
            "image/png": "[encoded data removed]",
            "text/plain": [
              "<Figure size 432x288 with 1 Axes>"
            ]
          },
          "metadata": {
            "tags": [],
            "needs_background": "light"
          }
        }
      ]
    },
    {
      "cell_type": "markdown",
      "metadata": {
        "id": "J1x4UBKYjMZF",
        "colab_type": "text"
      },
      "source": [
        "# Summary and Conclusion"
      ]
    },
    {
      "cell_type": "markdown",
      "metadata": {
        "id": "oKmz-MZskB_I",
        "colab_type": "text"
      },
      "source": [
        "From above we have seen that the data analysis and the visualization of the data set, we clearly see the distrbution of each feature with CHD, we see the table of a correlation for the data set. Depending on the result of the correlation table I take the first five high value of correlation coefficient of CHD and other risk factors. So, from nine risk factors of CHD we took five of them ('age', 'low density lipoprotein','family history', 'tobacco', 'adiposity') and create a new data set. According to our 2-sample t-test all the risk factors show the null hypothesis that is the average value of CHD negative is the same as the average value of CHD posetive is rejected for all five risk factors, which implies the average value of CHD negative is not the same as the average value of CHD posetive. On the other hand, the sign of the t-statistics shows as the average value for CHD posetive is greater than CHD neagative. The higher the t-statistics shows us the net difference between the means are high. From our t-test for five risk factors the t-statistics value of age and CHD is higher than others and also age and CHD has the higher correlation coefficient value than other risk factors. From the total 462 samples 38.1% are posetive for CHD test and the rest 61.9% are negative. For the risk factors most of the factors which are above the avarage or the normality they have the chance to have CHD, the bar graphs above for each factors will give us more estimate.   "
      ]
    }
  ]
}