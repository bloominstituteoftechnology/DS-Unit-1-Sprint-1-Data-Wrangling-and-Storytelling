{
  "nbformat": 4,
  "nbformat_minor": 0,
  "metadata": {
    "colab": {
      "name": "DS_Unit_1_Sprint_Challenge_1_Data_Wrangling_and_Storytelling.ipynb",
      "provenance": [],
      "collapsed_sections": [],
      "include_colab_link": true
    },
    "kernelspec": {
      "name": "python3",
      "display_name": "Python 3"
    }
  },
  "cells": [
    {
      "cell_type": "markdown",
      "metadata": {
        "id": "view-in-github",
        "colab_type": "text"
      },
      "source": [
        "<a href=\"https://colab.research.google.com/github/lukehdez95/DS-Unit-1-Sprint-1-Data-Wrangling-and-Storytelling/blob/master/DS_Unit_1_Sprint_Challenge_1_Data_Wrangling_and_Storytelling.ipynb\" target=\"_parent\"><img src=\"https://colab.research.google.com/assets/colab-badge.svg\" alt=\"Open In Colab\"/></a>"
      ]
    },
    {
      "cell_type": "markdown",
      "metadata": {
        "id": "2kYJKHpXFbN2"
      },
      "source": [
        "# Data Science Unit 1 Sprint Challenge 1\n",
        "\n",
        "## Data Wrangling and Storytelling\n",
        "\n",
        "Taming data from its raw form into informative insights and stories."
      ]
    },
    {
      "cell_type": "markdown",
      "metadata": {
        "id": "qSvL3CeTFk9F"
      },
      "source": [
        "## Data Wrangling\n",
        "\n",
        "In this Sprint Challenge you will first \"wrangle\" some data from [Gapminder](https://www.gapminder.org/about-gapminder/), a Swedish non-profit co-founded by Hans Rosling. \"Gapminder produces free teaching resources making the world understandable based on reliable statistics.\"\n",
        "- [Cell phones (total), by country and year](https://raw.githubusercontent.com/open-numbers/ddf--gapminder--systema_globalis/master/countries-etc-datapoints/ddf--datapoints--cell_phones_total--by--geo--time.csv)\n",
        "- [Population (total), by country and year](https://raw.githubusercontent.com/open-numbers/ddf--gapminder--systema_globalis/master/countries-etc-datapoints/ddf--datapoints--population_total--by--geo--time.csv)\n",
        "- [Geo country codes](https://github.com/open-numbers/ddf--gapminder--systema_globalis/blob/master/ddf--entities--geo--country.csv)\n",
        "\n",
        "These two links have everything you need to successfully complete the first part of this sprint challenge.\n",
        "- [Pandas documentation: Working with Text Data](https://pandas.pydata.org/pandas-docs/stable/text.html) (one question)\n",
        "- [Pandas Cheat Sheet](https://github.com/pandas-dev/pandas/blob/master/doc/cheatsheet/Pandas_Cheat_Sheet.pdf) (everything else)"
      ]
    },
    {
      "cell_type": "markdown",
      "metadata": {
        "id": "_45iUXguF3cJ"
      },
      "source": [
        "### Part 1 - Load and Explore the Data\n",
        "\n",
        "Run the cell below to load the datasets into three dataframes and then follow the instructions below\n"
      ]
    },
    {
      "cell_type": "code",
      "metadata": {
        "id": "4OuxHNZzFpGT"
      },
      "source": [
        "import pandas as pd \n",
        "\n",
        "cell_phones = pd.read_csv('https://raw.githubusercontent.com/open-numbers/ddf--gapminder--systema_globalis/master/countries-etc-datapoints/ddf--datapoints--cell_phones_total--by--geo--time.csv')\n",
        "\n",
        "population = pd.read_csv('https://raw.githubusercontent.com/open-numbers/ddf--gapminder--systema_globalis/master/countries-etc-datapoints/ddf--datapoints--population_total--by--geo--time.csv')\n",
        "\n",
        "geo_country_codes = (pd.read_csv('https://raw.githubusercontent.com/open-numbers/ddf--gapminder--systema_globalis/master/ddf--entities--geo--country.csv')\n",
        "                       .rename(columns={'country': 'geo', 'name': 'country'}))"
      ],
      "execution_count": 1,
      "outputs": []
    },
    {
      "cell_type": "markdown",
      "metadata": {
        "id": "49XlFKmVIPl1"
      },
      "source": [
        "Check for missing/null values in the three dataframes"
      ]
    },
    {
      "cell_type": "code",
      "metadata": {
        "id": "SwmSvUySJjXc",
        "outputId": "a1432af3-f19a-4915-ea6c-9189d7de5b4a",
        "colab": {
          "base_uri": "https://localhost:8080/"
        }
      },
      "source": [
        "### YOUR CODE HERE ###\n",
        "print(cell_phones.shape)\n",
        "cell_phones.isnull().sum()"
      ],
      "execution_count": 3,
      "outputs": [
        {
          "output_type": "stream",
          "text": [
            "(9427, 3)\n"
          ],
          "name": "stdout"
        },
        {
          "output_type": "execute_result",
          "data": {
            "text/plain": [
              "geo                  0\n",
              "time                 0\n",
              "cell_phones_total    0\n",
              "dtype: int64"
            ]
          },
          "metadata": {
            "tags": []
          },
          "execution_count": 3
        }
      ]
    },
    {
      "cell_type": "code",
      "metadata": {
        "id": "O41UVa6buwTC",
        "outputId": "b00afdb0-4620-44fe-b1f8-4a7c178036c8",
        "colab": {
          "base_uri": "https://localhost:8080/"
        }
      },
      "source": [
        "### YOUR CODE HERE ###\n",
        "print(population.shape)\n",
        "population.isnull().sum()"
      ],
      "execution_count": 4,
      "outputs": [
        {
          "output_type": "stream",
          "text": [
            "(59297, 3)\n"
          ],
          "name": "stdout"
        },
        {
          "output_type": "execute_result",
          "data": {
            "text/plain": [
              "geo                 0\n",
              "time                0\n",
              "population_total    0\n",
              "dtype: int64"
            ]
          },
          "metadata": {
            "tags": []
          },
          "execution_count": 4
        }
      ]
    },
    {
      "cell_type": "code",
      "metadata": {
        "id": "Ybe41t4ruwbl",
        "outputId": "6dffc02e-519c-42cf-d08f-06f8d5d343ed",
        "colab": {
          "base_uri": "https://localhost:8080/"
        }
      },
      "source": [
        "### YOUR CODE HERE ###\n",
        "print(geo_country_codes.shape)\n",
        "geo_country_codes.isnull().sum()"
      ],
      "execution_count": 5,
      "outputs": [
        {
          "output_type": "stream",
          "text": [
            "(273, 21)\n"
          ],
          "name": "stdout"
        },
        {
          "output_type": "execute_result",
          "data": {
            "text/plain": [
              "geo                         0\n",
              "g77_and_oecd_countries     14\n",
              "income_3groups             55\n",
              "income_groups              55\n",
              "is--country                 0\n",
              "iso3166_1_alpha2           27\n",
              "iso3166_1_alpha3           26\n",
              "iso3166_1_numeric          26\n",
              "iso3166_2                 272\n",
              "landlocked                 18\n",
              "latitude                   32\n",
              "longitude                  32\n",
              "main_religion_2008         57\n",
              "country                     0\n",
              "un_sdg_ldc                 24\n",
              "un_sdg_region              25\n",
              "un_state                    0\n",
              "unicef_region              78\n",
              "unicode_region_subtag      25\n",
              "world_4region               2\n",
              "world_6region              13\n",
              "dtype: int64"
            ]
          },
          "metadata": {
            "tags": []
          },
          "execution_count": 5
        }
      ]
    },
    {
      "cell_type": "markdown",
      "metadata": {
        "id": "IvJMtxmBI27k"
      },
      "source": [
        "### Part 2 - Merge data\n",
        "\n",
        "First, merge the `cell_phones` and `population` dataframes (with an inner merge on `geo` and `time`).\n",
        "\n",
        "The resulting dataframe's shape should be: (8786, 4)"
      ]
    },
    {
      "cell_type": "code",
      "metadata": {
        "id": "ibZNDG6eu2G5",
        "outputId": "1e41375c-b124-4f0c-dcdc-9476220065bf",
        "colab": {
          "base_uri": "https://localhost:8080/"
        }
      },
      "source": [
        "### YOUR CODE HERE ###\n",
        "df1 = pd.merge(cell_phones,population,on=['geo','time'])\n",
        "df1.shape"
      ],
      "execution_count": 9,
      "outputs": [
        {
          "output_type": "execute_result",
          "data": {
            "text/plain": [
              "(8786, 4)"
            ]
          },
          "metadata": {
            "tags": []
          },
          "execution_count": 9
        }
      ]
    },
    {
      "cell_type": "markdown",
      "metadata": {
        "id": "lziNWF2eJZwC"
      },
      "source": [
        "Then, select only the `geo` and `country` columns from the `geo_country_codes` dataframe, and merge with your population and cell phone data.\n",
        "\n",
        "The resulting dataframe's shape should be: (8786, 5)"
      ]
    },
    {
      "cell_type": "code",
      "metadata": {
        "id": "KdjxZ61wu4dz",
        "outputId": "dc559797-b899-4496-b7d8-18db1b0c8aee",
        "colab": {
          "base_uri": "https://localhost:8080/"
        }
      },
      "source": [
        "### YOUR CODE HERE ###\n",
        "gcc = geo_country_codes[['geo','country']]\n",
        "df2 = pd.merge(df1,gcc)\n",
        "df2.shape"
      ],
      "execution_count": 14,
      "outputs": [
        {
          "output_type": "execute_result",
          "data": {
            "text/plain": [
              "(8786, 5)"
            ]
          },
          "metadata": {
            "tags": []
          },
          "execution_count": 14
        }
      ]
    },
    {
      "cell_type": "markdown",
      "metadata": {
        "id": "8xjRfkOjKECI"
      },
      "source": [
        "### Part 3 - Make features\n",
        "\n",
        "Calculate the number of cell phones per person, and add this column onto your dataframe.\n",
        "\n",
        "(You've calculated correctly if you get 1.230448 cell phones per person in the United States in 2017.)"
      ]
    },
    {
      "cell_type": "code",
      "metadata": {
        "id": "_uUx3_d5u_6n",
        "outputId": "df547500-53d8-4c12-a325-6bb9979f2848",
        "colab": {
          "base_uri": "https://localhost:8080/",
          "height": 81
        }
      },
      "source": [
        "### YOUR CODE HERE ###\n",
        "df2.head()\n",
        "df2['cells_per_person'] = df2['cell_phones_total']/df2['population_total']\n",
        "df2.loc[(df2['time']==2017) & (df2['country']=='United States')]"
      ],
      "execution_count": 19,
      "outputs": [
        {
          "output_type": "execute_result",
          "data": {
            "text/html": [
              "<div>\n",
              "<style scoped>\n",
              "    .dataframe tbody tr th:only-of-type {\n",
              "        vertical-align: middle;\n",
              "    }\n",
              "\n",
              "    .dataframe tbody tr th {\n",
              "        vertical-align: top;\n",
              "    }\n",
              "\n",
              "    .dataframe thead th {\n",
              "        text-align: right;\n",
              "    }\n",
              "</style>\n",
              "<table border=\"1\" class=\"dataframe\">\n",
              "  <thead>\n",
              "    <tr style=\"text-align: right;\">\n",
              "      <th></th>\n",
              "      <th>geo</th>\n",
              "      <th>time</th>\n",
              "      <th>cell_phones_total</th>\n",
              "      <th>population_total</th>\n",
              "      <th>country</th>\n",
              "      <th>cells_per_person</th>\n",
              "    </tr>\n",
              "  </thead>\n",
              "  <tbody>\n",
              "    <tr>\n",
              "      <th>8319</th>\n",
              "      <td>usa</td>\n",
              "      <td>2017</td>\n",
              "      <td>400000000.0</td>\n",
              "      <td>325084758</td>\n",
              "      <td>United States</td>\n",
              "      <td>1.230448</td>\n",
              "    </tr>\n",
              "  </tbody>\n",
              "</table>\n",
              "</div>"
            ],
            "text/plain": [
              "      geo  time  ...        country  cells_per_person\n",
              "8319  usa  2017  ...  United States          1.230448\n",
              "\n",
              "[1 rows x 6 columns]"
            ]
          },
          "metadata": {
            "tags": []
          },
          "execution_count": 19
        }
      ]
    },
    {
      "cell_type": "markdown",
      "metadata": {
        "id": "j2xDq7MAKRjg"
      },
      "source": [
        "### Part 4 - Process data\n",
        "\n",
        "Use the describe function, to describe your dataframe's numeric columns, and then its non-numeric columns.\n",
        "\n",
        "(You'll see the time period ranges from 1960 to 2018, and there are 195 unique countries represented.)"
      ]
    },
    {
      "cell_type": "code",
      "metadata": {
        "id": "veC81M-xvJkX",
        "outputId": "e7aaf034-f691-48fc-d048-78e52b34365b",
        "colab": {
          "base_uri": "https://localhost:8080/",
          "height": 432
        }
      },
      "source": [
        "### YOUR CODE HERE ###\n",
        "\n",
        "print(df2.describe)\n",
        "df2.describe(exclude='number')"
      ],
      "execution_count": 27,
      "outputs": [
        {
          "output_type": "stream",
          "text": [
            "<bound method NDFrame.describe of       geo  time  ...      country  cells_per_person\n",
            "0     afg  1960  ...  Afghanistan          0.000000\n",
            "1     afg  1965  ...  Afghanistan          0.000000\n",
            "2     afg  1970  ...  Afghanistan          0.000000\n",
            "3     afg  1975  ...  Afghanistan          0.000000\n",
            "4     afg  1976  ...  Afghanistan          0.000000\n",
            "...   ...   ...  ...          ...               ...\n",
            "8781  zwe  2014  ...     Zimbabwe          0.868397\n",
            "8782  zwe  2015  ...     Zimbabwe          0.923470\n",
            "8783  zwe  2016  ...     Zimbabwe          0.917934\n",
            "8784  zwe  2017  ...     Zimbabwe          0.989850\n",
            "8785  zwe  2018  ...     Zimbabwe          0.894048\n",
            "\n",
            "[8786 rows x 6 columns]>\n"
          ],
          "name": "stdout"
        },
        {
          "output_type": "execute_result",
          "data": {
            "text/html": [
              "<div>\n",
              "<style scoped>\n",
              "    .dataframe tbody tr th:only-of-type {\n",
              "        vertical-align: middle;\n",
              "    }\n",
              "\n",
              "    .dataframe tbody tr th {\n",
              "        vertical-align: top;\n",
              "    }\n",
              "\n",
              "    .dataframe thead th {\n",
              "        text-align: right;\n",
              "    }\n",
              "</style>\n",
              "<table border=\"1\" class=\"dataframe\">\n",
              "  <thead>\n",
              "    <tr style=\"text-align: right;\">\n",
              "      <th></th>\n",
              "      <th>geo</th>\n",
              "      <th>country</th>\n",
              "    </tr>\n",
              "  </thead>\n",
              "  <tbody>\n",
              "    <tr>\n",
              "      <th>count</th>\n",
              "      <td>8786</td>\n",
              "      <td>8786</td>\n",
              "    </tr>\n",
              "    <tr>\n",
              "      <th>unique</th>\n",
              "      <td>195</td>\n",
              "      <td>195</td>\n",
              "    </tr>\n",
              "    <tr>\n",
              "      <th>top</th>\n",
              "      <td>mar</td>\n",
              "      <td>Austria</td>\n",
              "    </tr>\n",
              "    <tr>\n",
              "      <th>freq</th>\n",
              "      <td>47</td>\n",
              "      <td>47</td>\n",
              "    </tr>\n",
              "  </tbody>\n",
              "</table>\n",
              "</div>"
            ],
            "text/plain": [
              "         geo  country\n",
              "count   8786     8786\n",
              "unique   195      195\n",
              "top      mar  Austria\n",
              "freq      47       47"
            ]
          },
          "metadata": {
            "tags": []
          },
          "execution_count": 27
        }
      ]
    },
    {
      "cell_type": "code",
      "metadata": {
        "id": "obNPNpSdvJuU"
      },
      "source": [
        "### YOUR CODE HERE ###\n",
        "df3 = df2[df2['time']==2017].sort_values(by=['cell_phones_total'],ascending=False).head()"
      ],
      "execution_count": 30,
      "outputs": []
    },
    {
      "cell_type": "markdown",
      "metadata": {
        "id": "KXEmo_HdKy_5"
      },
      "source": [
        "In 2017, what were the top 5 countries with the most cell phones total?\n",
        "\n",
        "Your list of countries should have these totals:\n",
        "\n",
        "| country | cell phones total |\n",
        "|:-------:|:-----------------:|\n",
        "|    ?    |     1,469,882,500 |\n",
        "|    ?    |     1,168,902,277 |\n",
        "|    ?    |       435,193,605 |\n",
        "|    ?    |       400,000,000 |\n",
        "|    ?    |       227,299,663 |\n"
      ]
    },
    {
      "cell_type": "code",
      "metadata": {
        "id": "VeklFyFlvN49",
        "outputId": "3723a3dc-1474-474f-afeb-6ebc60f36ffe",
        "colab": {
          "base_uri": "https://localhost:8080/",
          "height": 206
        }
      },
      "source": [
        "### YOUR CODE HERE ###\n",
        "df3[['country','cell_phones_total']]"
      ],
      "execution_count": 31,
      "outputs": [
        {
          "output_type": "execute_result",
          "data": {
            "text/html": [
              "<div>\n",
              "<style scoped>\n",
              "    .dataframe tbody tr th:only-of-type {\n",
              "        vertical-align: middle;\n",
              "    }\n",
              "\n",
              "    .dataframe tbody tr th {\n",
              "        vertical-align: top;\n",
              "    }\n",
              "\n",
              "    .dataframe thead th {\n",
              "        text-align: right;\n",
              "    }\n",
              "</style>\n",
              "<table border=\"1\" class=\"dataframe\">\n",
              "  <thead>\n",
              "    <tr style=\"text-align: right;\">\n",
              "      <th></th>\n",
              "      <th>country</th>\n",
              "      <th>cell_phones_total</th>\n",
              "    </tr>\n",
              "  </thead>\n",
              "  <tbody>\n",
              "    <tr>\n",
              "      <th>1530</th>\n",
              "      <td>China</td>\n",
              "      <td>1.469882e+09</td>\n",
              "    </tr>\n",
              "    <tr>\n",
              "      <th>3674</th>\n",
              "      <td>India</td>\n",
              "      <td>1.168902e+09</td>\n",
              "    </tr>\n",
              "    <tr>\n",
              "      <th>3627</th>\n",
              "      <td>Indonesia</td>\n",
              "      <td>4.351936e+08</td>\n",
              "    </tr>\n",
              "    <tr>\n",
              "      <th>8319</th>\n",
              "      <td>United States</td>\n",
              "      <td>4.000000e+08</td>\n",
              "    </tr>\n",
              "    <tr>\n",
              "      <th>6783</th>\n",
              "      <td>Russia</td>\n",
              "      <td>2.272997e+08</td>\n",
              "    </tr>\n",
              "  </tbody>\n",
              "</table>\n",
              "</div>"
            ],
            "text/plain": [
              "            country  cell_phones_total\n",
              "1530          China       1.469882e+09\n",
              "3674          India       1.168902e+09\n",
              "3627      Indonesia       4.351936e+08\n",
              "8319  United States       4.000000e+08\n",
              "6783         Russia       2.272997e+08"
            ]
          },
          "metadata": {
            "tags": []
          },
          "execution_count": 31
        }
      ]
    },
    {
      "cell_type": "markdown",
      "metadata": {
        "id": "UthoeNABLwau"
      },
      "source": [
        "#Explanatory visualizations:\n",
        "\n",
        "Explain why the figure below **cannot** be graphed as a pie chart.\n"
      ]
    },
    {
      "cell_type": "code",
      "metadata": {
        "id": "oy9dt9l6Lz18",
        "outputId": "2d187d9d-00eb-4f22-a8b9-3173113f1283",
        "colab": {
          "base_uri": "https://localhost:8080/",
          "height": 787
        }
      },
      "source": [
        "from IPython.display import display, Image\n",
        "png = 'https://fivethirtyeight.com/wp-content/uploads/2014/04/hickey-ross-tags-1.png'\n",
        "example = Image(png, width=500)\n",
        "display(example)"
      ],
      "execution_count": null,
      "outputs": [
        {
          "output_type": "display_data",
          "data": {
            "image/png": "[encoded data removed]",
            "text/plain": [
              "<IPython.core.display.Image object>"
            ]
          },
          "metadata": {
            "tags": [],
            "image/png": {
              "width": 500
            }
          }
        }
      ]
    },
    {
      "cell_type": "markdown",
      "metadata": {
        "id": "_IV2boStiD7J"
      },
      "source": [
        "Pie charts are meant to compare parts of a whole not compare whole paintings to each other, this information is better suited to a bar plot like it is currently being displayed as. Also with how many features are a part of this data, it would make it very difficult to get a grasp of how many paintings include some of the less frequent features. Which would make it more laborious for the end user to interpret the data. Also also *Pie Charts are bad..lol*\n"
      ]
    },
    {
      "cell_type": "markdown",
      "metadata": {
        "id": "hPtUkBGKi6AV"
      },
      "source": [
        "### Import the Titanic dataset.  "
      ]
    },
    {
      "cell_type": "code",
      "metadata": {
        "id": "ACKJZknZFG6y",
        "outputId": "0d059804-21e6-4edb-e380-4603059ed3e4",
        "colab": {
          "base_uri": "https://localhost:8080/"
        }
      },
      "source": [
        "\n",
        "import pandas as pd\n",
        "\n",
        "# Load the Titanic dataset from its URL:\n",
        "Titanic = pd.read_csv('https://raw.githubusercontent.com/LambdaSchool/data-science-practice-datasets/main/unit_1/Titanic/Titanic.csv')\n",
        "\n",
        "Titanic.head()\n",
        "Titanic['Parents/Children_Aboard'].value_counts()"
      ],
      "execution_count": 33,
      "outputs": [
        {
          "output_type": "execute_result",
          "data": {
            "text/plain": [
              "0    674\n",
              "1    118\n",
              "2     80\n",
              "5      5\n",
              "3      5\n",
              "4      4\n",
              "6      1\n",
              "Name: Parents/Children_Aboard, dtype: int64"
            ]
          },
          "metadata": {
            "tags": []
          },
          "execution_count": 33
        }
      ]
    },
    {
      "cell_type": "markdown",
      "metadata": {
        "id": "Oau1JGWzu9Bo"
      },
      "source": [
        "What type of variable (quantitative, categorical, discrete, continuous, etc.) is Parents/Children_Aboard?  "
      ]
    },
    {
      "cell_type": "markdown",
      "metadata": {
        "id": "1LKhirfsu-MJ"
      },
      "source": [
        "The Parents/Children_Aboard feature is quantitative, since it includes the number of parents and/or children aboard. It is also discrete because there is a finite number associated with the number of parents/children, since it is not possible to have 1.4823946439230 children aboard."
      ]
    },
    {
      "cell_type": "markdown",
      "metadata": {
        "id": "UeiVHDA3vAX5"
      },
      "source": [
        "Create a visualization to show the distribution of Parents/Children_Aboard."
      ]
    },
    {
      "cell_type": "code",
      "metadata": {
        "id": "jRvLPu2_vlZG",
        "outputId": "38616f62-eced-4361-ff0c-f4a5d8eb958d",
        "colab": {
          "base_uri": "https://localhost:8080/",
          "height": 295
        }
      },
      "source": [
        "### YOUR CODE HERE ###\n",
        "import matplotlib.pyplot as plt\n",
        "plt.hist(Titanic['Parents/Children_Aboard'])\n",
        "\n",
        "plt.xlabel('Number of Parents/Children Aboard')\n",
        "plt.ylabel('Frequency')\n",
        "plt.title('Number of Parents/Children aboard per Titanic Passenger')\n",
        "plt.xticks=[0,1,2,3,4,5,6]\n",
        "plt.show()"
      ],
      "execution_count": 35,
      "outputs": [
        {
          "output_type": "display_data",
          "data": {
            "image/png": "[encoded data removed]",
            "text/plain": [
              "<Figure size 432x288 with 1 Axes>"
            ]
          },
          "metadata": {
            "tags": [],
            "needs_background": "light"
          }
        }
      ]
    },
    {
      "cell_type": "code",
      "metadata": {
        "id": "XHOWHKEK28n2",
        "outputId": "a72bc30c-2c19-4447-e880-94a6744fbab0",
        "colab": {
          "base_uri": "https://localhost:8080/",
          "height": 265
        }
      },
      "source": [
        "plt.boxplot(Titanic['Parents/Children_Aboard']); #Wanted to see if the boxplot would help, me better understand the data, showed me that there were a lot of outliers."
      ],
      "execution_count": 36,
      "outputs": [
        {
          "output_type": "display_data",
          "data": {
            "image/png": "[encoded data removed]",
            "text/plain": [
              "<Figure size 432x288 with 1 Axes>"
            ]
          },
          "metadata": {
            "tags": [],
            "needs_background": "light"
          }
        }
      ]
    },
    {
      "cell_type": "markdown",
      "metadata": {
        "id": "oOAPAy18vF9w"
      },
      "source": [
        "Describe the distribution of Parents/Children_Aboard."
      ]
    },
    {
      "cell_type": "markdown",
      "metadata": {
        "id": "uBVSewujjgpi"
      },
      "source": [
        "Unimodal and Positively Skewed."
      ]
    }
  ]
}