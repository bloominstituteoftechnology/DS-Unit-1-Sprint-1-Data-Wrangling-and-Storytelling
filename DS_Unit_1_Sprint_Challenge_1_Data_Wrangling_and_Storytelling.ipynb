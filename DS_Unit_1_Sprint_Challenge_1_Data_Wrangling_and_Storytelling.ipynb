{
  "nbformat": 4,
  "nbformat_minor": 0,
  "metadata": {
    "colab": {
      "name": "DS_Unit_1_Sprint_Challenge_1_Data_Wrangling_and_Storytelling.ipynb",
      "provenance": [],
      "collapsed_sections": [],
      "include_colab_link": true
    },
    "kernelspec": {
      "name": "python3",
      "display_name": "Python 3"
    }
  },
  "cells": [
    {
      "cell_type": "markdown",
      "metadata": {
        "id": "view-in-github",
        "colab_type": "text"
      },
      "source": [
        "<a href=\"https://colab.research.google.com/github/patrickjwolf/DS-Unit-1-Sprint-1-Data-Wrangling-and-Storytelling/blob/master/DS_Unit_1_Sprint_Challenge_1_Data_Wrangling_and_Storytelling.ipynb\" target=\"_parent\"><img src=\"https://colab.research.google.com/assets/colab-badge.svg\" alt=\"Open In Colab\"/></a>"
      ]
    },
    {
      "cell_type": "markdown",
      "metadata": {
        "id": "2kYJKHpXFbN2",
        "colab_type": "text"
      },
      "source": [
        "# Data Science Unit 1 Sprint Challenge 1\n",
        "\n",
        "## Data Wrangling and Storytelling\n",
        "\n",
        "Taming data from its raw form into informative insights and stories."
      ]
    },
    {
      "cell_type": "markdown",
      "metadata": {
        "id": "qSvL3CeTFk9F",
        "colab_type": "text"
      },
      "source": [
        "## Data Wrangling\n",
        "\n",
        "In this Sprint Challenge you will first \"wrangle\" some data from [Gapminder](https://www.gapminder.org/about-gapminder/), a Swedish non-profit co-founded by Hans Rosling. \"Gapminder produces free teaching resources making the world understandable based on reliable statistics.\"\n",
        "- [Cell phones (total), by country and year](https://raw.githubusercontent.com/open-numbers/ddf--gapminder--systema_globalis/master/ddf--datapoints--cell_phones_total--by--geo--time.csv)\n",
        "- [Population (total), by country and year](https://raw.githubusercontent.com/open-numbers/ddf--gapminder--systema_globalis/master/ddf--datapoints--population_total--by--geo--time.csv)\n",
        "- [Geo country codes](https://github.com/open-numbers/ddf--gapminder--systema_globalis/blob/master/ddf--entities--geo--country.csv)\n",
        "\n",
        "These two links have everything you need to successfully complete the first part of this sprint challenge.\n",
        "- [Pandas documentation: Working with Text Data](https://pandas.pydata.org/pandas-docs/stable/text.html) (one question)\n",
        "- [Pandas Cheat Sheet](https://github.com/pandas-dev/pandas/blob/master/doc/cheatsheet/Pandas_Cheat_Sheet.pdf) (everything else)"
      ]
    },
    {
      "cell_type": "markdown",
      "metadata": {
        "id": "_45iUXguF3cJ",
        "colab_type": "text"
      },
      "source": [
        "### Part 1 - Load and Explore the Data\n",
        "\n",
        "Run the cell below to load the datasets into three dataframes and then follow the instructions below\n"
      ]
    },
    {
      "cell_type": "code",
      "metadata": {
        "id": "4OuxHNZzFpGT",
        "colab_type": "code",
        "colab": {}
      },
      "source": [
        "import pandas as pd\n",
        "\n",
        "cell_phones = pd.read_csv('https://raw.githubusercontent.com/open-numbers/ddf--gapminder--systema_globalis/master/ddf--datapoints--cell_phones_total--by--geo--time.csv')\n",
        "\n",
        "population = pd.read_csv('https://raw.githubusercontent.com/open-numbers/ddf--gapminder--systema_globalis/master/ddf--datapoints--population_total--by--geo--time.csv')\n",
        "\n",
        "geo_country_codes = (pd.read_csv('https://raw.githubusercontent.com/open-numbers/ddf--gapminder--systema_globalis/master/ddf--entities--geo--country.csv')\n",
        "                       .rename(columns={'country': 'geo', 'name': 'country'}))\n",
        "\n",
        "geo_country_codes = geo_country_codes[['geo','country']]\n"
      ],
      "execution_count": 0,
      "outputs": []
    },
    {
      "cell_type": "markdown",
      "metadata": {
        "id": "49XlFKmVIPl1",
        "colab_type": "text"
      },
      "source": [
        "Check for missing/null values in the three dataframes"
      ]
    },
    {
      "cell_type": "code",
      "metadata": {
        "id": "w7sgDflKi9vU",
        "colab_type": "code",
        "colab": {
          "base_uri": "https://localhost:8080/",
          "height": 359
        },
        "outputId": "0e291728-1285-4ff4-92ca-f1a1a7fc2e24"
      },
      "source": [
        "cell_phones.head(10)"
      ],
      "execution_count": 200,
      "outputs": [
        {
          "output_type": "execute_result",
          "data": {
            "text/html": [
              "<div>\n",
              "<style scoped>\n",
              "    .dataframe tbody tr th:only-of-type {\n",
              "        vertical-align: middle;\n",
              "    }\n",
              "\n",
              "    .dataframe tbody tr th {\n",
              "        vertical-align: top;\n",
              "    }\n",
              "\n",
              "    .dataframe thead th {\n",
              "        text-align: right;\n",
              "    }\n",
              "</style>\n",
              "<table border=\"1\" class=\"dataframe\">\n",
              "  <thead>\n",
              "    <tr style=\"text-align: right;\">\n",
              "      <th></th>\n",
              "      <th>geo</th>\n",
              "      <th>time</th>\n",
              "      <th>cell_phones_total</th>\n",
              "    </tr>\n",
              "  </thead>\n",
              "  <tbody>\n",
              "    <tr>\n",
              "      <th>0</th>\n",
              "      <td>abw</td>\n",
              "      <td>1960</td>\n",
              "      <td>0.0</td>\n",
              "    </tr>\n",
              "    <tr>\n",
              "      <th>1</th>\n",
              "      <td>abw</td>\n",
              "      <td>1965</td>\n",
              "      <td>0.0</td>\n",
              "    </tr>\n",
              "    <tr>\n",
              "      <th>2</th>\n",
              "      <td>abw</td>\n",
              "      <td>1970</td>\n",
              "      <td>0.0</td>\n",
              "    </tr>\n",
              "    <tr>\n",
              "      <th>3</th>\n",
              "      <td>abw</td>\n",
              "      <td>1975</td>\n",
              "      <td>0.0</td>\n",
              "    </tr>\n",
              "    <tr>\n",
              "      <th>4</th>\n",
              "      <td>abw</td>\n",
              "      <td>1976</td>\n",
              "      <td>0.0</td>\n",
              "    </tr>\n",
              "    <tr>\n",
              "      <th>5</th>\n",
              "      <td>abw</td>\n",
              "      <td>1977</td>\n",
              "      <td>0.0</td>\n",
              "    </tr>\n",
              "    <tr>\n",
              "      <th>6</th>\n",
              "      <td>abw</td>\n",
              "      <td>1978</td>\n",
              "      <td>0.0</td>\n",
              "    </tr>\n",
              "    <tr>\n",
              "      <th>7</th>\n",
              "      <td>abw</td>\n",
              "      <td>1979</td>\n",
              "      <td>0.0</td>\n",
              "    </tr>\n",
              "    <tr>\n",
              "      <th>8</th>\n",
              "      <td>abw</td>\n",
              "      <td>1980</td>\n",
              "      <td>0.0</td>\n",
              "    </tr>\n",
              "    <tr>\n",
              "      <th>9</th>\n",
              "      <td>abw</td>\n",
              "      <td>1981</td>\n",
              "      <td>0.0</td>\n",
              "    </tr>\n",
              "  </tbody>\n",
              "</table>\n",
              "</div>"
            ],
            "text/plain": [
              "   geo  time  cell_phones_total\n",
              "0  abw  1960                0.0\n",
              "1  abw  1965                0.0\n",
              "2  abw  1970                0.0\n",
              "3  abw  1975                0.0\n",
              "4  abw  1976                0.0\n",
              "5  abw  1977                0.0\n",
              "6  abw  1978                0.0\n",
              "7  abw  1979                0.0\n",
              "8  abw  1980                0.0\n",
              "9  abw  1981                0.0"
            ]
          },
          "metadata": {
            "tags": []
          },
          "execution_count": 200
        }
      ]
    },
    {
      "cell_type": "code",
      "metadata": {
        "id": "YGE4SzJgkyXe",
        "colab_type": "code",
        "colab": {
          "base_uri": "https://localhost:8080/",
          "height": 85
        },
        "outputId": "d3135833-d08a-4c9d-b5fe-e869651071dc"
      },
      "source": [
        "cell_phones.isnull().sum()"
      ],
      "execution_count": 201,
      "outputs": [
        {
          "output_type": "execute_result",
          "data": {
            "text/plain": [
              "geo                  0\n",
              "time                 0\n",
              "cell_phones_total    0\n",
              "dtype: int64"
            ]
          },
          "metadata": {
            "tags": []
          },
          "execution_count": 201
        }
      ]
    },
    {
      "cell_type": "code",
      "metadata": {
        "id": "wLhvMMxBgOa-",
        "colab_type": "code",
        "colab": {
          "base_uri": "https://localhost:8080/",
          "height": 359
        },
        "outputId": "44b43d57-21ed-4b91-d860-175b81a0bd51"
      },
      "source": [
        "population.head(10)\n"
      ],
      "execution_count": 89,
      "outputs": [
        {
          "output_type": "execute_result",
          "data": {
            "text/html": [
              "<div>\n",
              "<style scoped>\n",
              "    .dataframe tbody tr th:only-of-type {\n",
              "        vertical-align: middle;\n",
              "    }\n",
              "\n",
              "    .dataframe tbody tr th {\n",
              "        vertical-align: top;\n",
              "    }\n",
              "\n",
              "    .dataframe thead th {\n",
              "        text-align: right;\n",
              "    }\n",
              "</style>\n",
              "<table border=\"1\" class=\"dataframe\">\n",
              "  <thead>\n",
              "    <tr style=\"text-align: right;\">\n",
              "      <th></th>\n",
              "      <th>geo</th>\n",
              "      <th>time</th>\n",
              "      <th>population_total</th>\n",
              "    </tr>\n",
              "  </thead>\n",
              "  <tbody>\n",
              "    <tr>\n",
              "      <th>0</th>\n",
              "      <td>afg</td>\n",
              "      <td>1800</td>\n",
              "      <td>3280000</td>\n",
              "    </tr>\n",
              "    <tr>\n",
              "      <th>1</th>\n",
              "      <td>afg</td>\n",
              "      <td>1801</td>\n",
              "      <td>3280000</td>\n",
              "    </tr>\n",
              "    <tr>\n",
              "      <th>2</th>\n",
              "      <td>afg</td>\n",
              "      <td>1802</td>\n",
              "      <td>3280000</td>\n",
              "    </tr>\n",
              "    <tr>\n",
              "      <th>3</th>\n",
              "      <td>afg</td>\n",
              "      <td>1803</td>\n",
              "      <td>3280000</td>\n",
              "    </tr>\n",
              "    <tr>\n",
              "      <th>4</th>\n",
              "      <td>afg</td>\n",
              "      <td>1804</td>\n",
              "      <td>3280000</td>\n",
              "    </tr>\n",
              "    <tr>\n",
              "      <th>5</th>\n",
              "      <td>afg</td>\n",
              "      <td>1805</td>\n",
              "      <td>3280000</td>\n",
              "    </tr>\n",
              "    <tr>\n",
              "      <th>6</th>\n",
              "      <td>afg</td>\n",
              "      <td>1806</td>\n",
              "      <td>3280000</td>\n",
              "    </tr>\n",
              "    <tr>\n",
              "      <th>7</th>\n",
              "      <td>afg</td>\n",
              "      <td>1807</td>\n",
              "      <td>3280000</td>\n",
              "    </tr>\n",
              "    <tr>\n",
              "      <th>8</th>\n",
              "      <td>afg</td>\n",
              "      <td>1808</td>\n",
              "      <td>3280000</td>\n",
              "    </tr>\n",
              "    <tr>\n",
              "      <th>9</th>\n",
              "      <td>afg</td>\n",
              "      <td>1809</td>\n",
              "      <td>3280000</td>\n",
              "    </tr>\n",
              "  </tbody>\n",
              "</table>\n",
              "</div>"
            ],
            "text/plain": [
              "   geo  time  population_total\n",
              "0  afg  1800           3280000\n",
              "1  afg  1801           3280000\n",
              "2  afg  1802           3280000\n",
              "3  afg  1803           3280000\n",
              "4  afg  1804           3280000\n",
              "5  afg  1805           3280000\n",
              "6  afg  1806           3280000\n",
              "7  afg  1807           3280000\n",
              "8  afg  1808           3280000\n",
              "9  afg  1809           3280000"
            ]
          },
          "metadata": {
            "tags": []
          },
          "execution_count": 89
        }
      ]
    },
    {
      "cell_type": "code",
      "metadata": {
        "id": "DBsBanzck3hl",
        "colab_type": "code",
        "colab": {
          "base_uri": "https://localhost:8080/"
        },
        "outputId": "5a197ca7-e62a-421f-8700-1238f67b2564"
      },
      "source": [
        "population.isnull().sum()"
      ],
      "execution_count": 198,
      "outputs": [
        {
          "output_type": "execute_result",
          "data": {
            "text/plain": [
              "geo                 0\n",
              "time                0\n",
              "population_total    0\n",
              "dtype: int64"
            ]
          },
          "metadata": {
            "tags": []
          },
          "execution_count": 198
        }
      ]
    },
    {
      "cell_type": "code",
      "metadata": {
        "id": "SwmSvUySJjXc",
        "colab_type": "code",
        "colab": {
          "base_uri": "https://localhost:8080/",
          "height": 204
        },
        "outputId": "562b4e18-7aa5-4832-f158-2766b68c368e"
      },
      "source": [
        "geo_country_codes.head()"
      ],
      "execution_count": 203,
      "outputs": [
        {
          "output_type": "execute_result",
          "data": {
            "text/html": [
              "<div>\n",
              "<style scoped>\n",
              "    .dataframe tbody tr th:only-of-type {\n",
              "        vertical-align: middle;\n",
              "    }\n",
              "\n",
              "    .dataframe tbody tr th {\n",
              "        vertical-align: top;\n",
              "    }\n",
              "\n",
              "    .dataframe thead th {\n",
              "        text-align: right;\n",
              "    }\n",
              "</style>\n",
              "<table border=\"1\" class=\"dataframe\">\n",
              "  <thead>\n",
              "    <tr style=\"text-align: right;\">\n",
              "      <th></th>\n",
              "      <th>geo</th>\n",
              "      <th>country</th>\n",
              "    </tr>\n",
              "  </thead>\n",
              "  <tbody>\n",
              "    <tr>\n",
              "      <th>0</th>\n",
              "      <td>abkh</td>\n",
              "      <td>Abkhazia</td>\n",
              "    </tr>\n",
              "    <tr>\n",
              "      <th>1</th>\n",
              "      <td>abw</td>\n",
              "      <td>Aruba</td>\n",
              "    </tr>\n",
              "    <tr>\n",
              "      <th>2</th>\n",
              "      <td>afg</td>\n",
              "      <td>Afghanistan</td>\n",
              "    </tr>\n",
              "    <tr>\n",
              "      <th>3</th>\n",
              "      <td>ago</td>\n",
              "      <td>Angola</td>\n",
              "    </tr>\n",
              "    <tr>\n",
              "      <th>4</th>\n",
              "      <td>aia</td>\n",
              "      <td>Anguilla</td>\n",
              "    </tr>\n",
              "  </tbody>\n",
              "</table>\n",
              "</div>"
            ],
            "text/plain": [
              "    geo      country\n",
              "0  abkh     Abkhazia\n",
              "1   abw        Aruba\n",
              "2   afg  Afghanistan\n",
              "3   ago       Angola\n",
              "4   aia     Anguilla"
            ]
          },
          "metadata": {
            "tags": []
          },
          "execution_count": 203
        }
      ]
    },
    {
      "cell_type": "code",
      "metadata": {
        "id": "Aj35zcySlGrE",
        "colab_type": "code",
        "colab": {
          "base_uri": "https://localhost:8080/",
          "height": 68
        },
        "outputId": "e5716f52-6617-44fe-e4e0-feb399a62fb8"
      },
      "source": [
        "geo_country_codes.isnull().sum()"
      ],
      "execution_count": 205,
      "outputs": [
        {
          "output_type": "execute_result",
          "data": {
            "text/plain": [
              "geo        0\n",
              "country    0\n",
              "dtype: int64"
            ]
          },
          "metadata": {
            "tags": []
          },
          "execution_count": 205
        }
      ]
    },
    {
      "cell_type": "markdown",
      "metadata": {
        "id": "83ovVS6qIWS1",
        "colab_type": "text"
      },
      "source": [
        "Make a scatter plot from the `cell_phones` dataframe plotting \"time\" against \"cell_phone_total\""
      ]
    },
    {
      "cell_type": "code",
      "metadata": {
        "id": "vu7MQlqUmJJ2",
        "colab_type": "code",
        "colab": {}
      },
      "source": [
        "import matplotlib.pyplot as plt"
      ],
      "execution_count": 0,
      "outputs": []
    },
    {
      "cell_type": "code",
      "metadata": {
        "id": "Em1lT-z0qloi",
        "colab_type": "code",
        "colab": {
          "base_uri": "https://localhost:8080/",
          "height": 290
        },
        "outputId": "d778f432-cb50-4083-e275-3d7f6608a007"
      },
      "source": [
        "cell_phones.plot.scatter('time', 'cell_phones_total');"
      ],
      "execution_count": 194,
      "outputs": [
        {
          "output_type": "display_data",
          "data": {
            "image/png": "[encoded data removed]",
            "text/plain": [
              "<Figure size 432x288 with 1 Axes>"
            ]
          },
          "metadata": {
            "tags": []
          }
        }
      ]
    },
    {
      "cell_type": "code",
      "metadata": {
        "id": "khUEwF1-phEp",
        "colab_type": "code",
        "colab": {
          "base_uri": "https://localhost:8080/",
          "height": 85
        },
        "outputId": "b2256e49-c259-4b46-8fe4-ad8f4fbeb09f"
      },
      "source": [
        "cell_phones.dtypes"
      ],
      "execution_count": 206,
      "outputs": [
        {
          "output_type": "execute_result",
          "data": {
            "text/plain": [
              "geo                   object\n",
              "time                   int64\n",
              "cell_phones_total    float64\n",
              "dtype: object"
            ]
          },
          "metadata": {
            "tags": []
          },
          "execution_count": 206
        }
      ]
    },
    {
      "cell_type": "markdown",
      "metadata": {
        "id": "IvJMtxmBI27k",
        "colab_type": "text"
      },
      "source": [
        "### Part 2 - Join data\n",
        "\n",
        "First, join the `cell_phones` and `population` dataframes (with an inner join on `geo` and `time`).\n",
        "\n",
        "The resulting dataframe's shape should be: (8590, 4)"
      ]
    },
    {
      "cell_type": "code",
      "metadata": {
        "id": "MFMA06QjG1KT",
        "colab_type": "code",
        "colab": {
          "base_uri": "https://localhost:8080/",
          "height": 34
        },
        "outputId": "c4f946bc-d18d-4bc4-ace0-2fe29ef2858b"
      },
      "source": [
        "merged = (cell_phones[['geo', 'time', 'cell_phones_total']]\n",
        "          .merge(population[['geo', 'time', 'population_total']]))\n",
        "merged.shape"
      ],
      "execution_count": 101,
      "outputs": [
        {
          "output_type": "execute_result",
          "data": {
            "text/plain": [
              "(8590, 4)"
            ]
          },
          "metadata": {
            "tags": []
          },
          "execution_count": 101
        }
      ]
    },
    {
      "cell_type": "code",
      "metadata": {
        "id": "_FwEfc5kuMrD",
        "colab_type": "code",
        "colab": {
          "base_uri": "https://localhost:8080/",
          "height": 204
        },
        "outputId": "d8e644a5-ddde-4a9e-d8a5-7db8427e8159"
      },
      "source": [
        "merged.head()"
      ],
      "execution_count": 102,
      "outputs": [
        {
          "output_type": "execute_result",
          "data": {
            "text/html": [
              "<div>\n",
              "<style scoped>\n",
              "    .dataframe tbody tr th:only-of-type {\n",
              "        vertical-align: middle;\n",
              "    }\n",
              "\n",
              "    .dataframe tbody tr th {\n",
              "        vertical-align: top;\n",
              "    }\n",
              "\n",
              "    .dataframe thead th {\n",
              "        text-align: right;\n",
              "    }\n",
              "</style>\n",
              "<table border=\"1\" class=\"dataframe\">\n",
              "  <thead>\n",
              "    <tr style=\"text-align: right;\">\n",
              "      <th></th>\n",
              "      <th>geo</th>\n",
              "      <th>time</th>\n",
              "      <th>cell_phones_total</th>\n",
              "      <th>population_total</th>\n",
              "    </tr>\n",
              "  </thead>\n",
              "  <tbody>\n",
              "    <tr>\n",
              "      <th>0</th>\n",
              "      <td>afg</td>\n",
              "      <td>1960</td>\n",
              "      <td>0.0</td>\n",
              "      <td>8996351</td>\n",
              "    </tr>\n",
              "    <tr>\n",
              "      <th>1</th>\n",
              "      <td>afg</td>\n",
              "      <td>1965</td>\n",
              "      <td>0.0</td>\n",
              "      <td>9938414</td>\n",
              "    </tr>\n",
              "    <tr>\n",
              "      <th>2</th>\n",
              "      <td>afg</td>\n",
              "      <td>1970</td>\n",
              "      <td>0.0</td>\n",
              "      <td>11126123</td>\n",
              "    </tr>\n",
              "    <tr>\n",
              "      <th>3</th>\n",
              "      <td>afg</td>\n",
              "      <td>1975</td>\n",
              "      <td>0.0</td>\n",
              "      <td>12590286</td>\n",
              "    </tr>\n",
              "    <tr>\n",
              "      <th>4</th>\n",
              "      <td>afg</td>\n",
              "      <td>1976</td>\n",
              "      <td>0.0</td>\n",
              "      <td>12840299</td>\n",
              "    </tr>\n",
              "  </tbody>\n",
              "</table>\n",
              "</div>"
            ],
            "text/plain": [
              "   geo  time  cell_phones_total  population_total\n",
              "0  afg  1960                0.0           8996351\n",
              "1  afg  1965                0.0           9938414\n",
              "2  afg  1970                0.0          11126123\n",
              "3  afg  1975                0.0          12590286\n",
              "4  afg  1976                0.0          12840299"
            ]
          },
          "metadata": {
            "tags": []
          },
          "execution_count": 102
        }
      ]
    },
    {
      "cell_type": "markdown",
      "metadata": {
        "id": "lziNWF2eJZwC",
        "colab_type": "text"
      },
      "source": [
        "Then, select the `geo` and `country` columns from the `geo_country_codes` dataframe, and join with your population and cell phone data.\n",
        "\n",
        "The resulting dataframe's shape should be: (8590, 5)"
      ]
    },
    {
      "cell_type": "code",
      "metadata": {
        "id": "KQa2Jw9gJa-g",
        "colab_type": "code",
        "colab": {
          "base_uri": "https://localhost:8080/",
          "height": 34
        },
        "outputId": "ffcaab65-550c-437d-ae42-71cc1bd77769"
      },
      "source": [
        "merged2 = (merged[['geo', 'time', 'cell_phones_total', 'population_total']]\n",
        "          .merge(geo_country_codes[['geo', 'country']]))\n",
        "merged2.shape"
      ],
      "execution_count": 104,
      "outputs": [
        {
          "output_type": "execute_result",
          "data": {
            "text/plain": [
              "(8590, 5)"
            ]
          },
          "metadata": {
            "tags": []
          },
          "execution_count": 104
        }
      ]
    },
    {
      "cell_type": "code",
      "metadata": {
        "id": "4A72F__ou8UU",
        "colab_type": "code",
        "colab": {
          "base_uri": "https://localhost:8080/",
          "height": 204
        },
        "outputId": "ffc89e0d-ad60-4a22-ba71-6594013aa4b7"
      },
      "source": [
        "merged2.head()"
      ],
      "execution_count": 105,
      "outputs": [
        {
          "output_type": "execute_result",
          "data": {
            "text/html": [
              "<div>\n",
              "<style scoped>\n",
              "    .dataframe tbody tr th:only-of-type {\n",
              "        vertical-align: middle;\n",
              "    }\n",
              "\n",
              "    .dataframe tbody tr th {\n",
              "        vertical-align: top;\n",
              "    }\n",
              "\n",
              "    .dataframe thead th {\n",
              "        text-align: right;\n",
              "    }\n",
              "</style>\n",
              "<table border=\"1\" class=\"dataframe\">\n",
              "  <thead>\n",
              "    <tr style=\"text-align: right;\">\n",
              "      <th></th>\n",
              "      <th>geo</th>\n",
              "      <th>time</th>\n",
              "      <th>cell_phones_total</th>\n",
              "      <th>population_total</th>\n",
              "      <th>country</th>\n",
              "    </tr>\n",
              "  </thead>\n",
              "  <tbody>\n",
              "    <tr>\n",
              "      <th>0</th>\n",
              "      <td>afg</td>\n",
              "      <td>1960</td>\n",
              "      <td>0.0</td>\n",
              "      <td>8996351</td>\n",
              "      <td>Afghanistan</td>\n",
              "    </tr>\n",
              "    <tr>\n",
              "      <th>1</th>\n",
              "      <td>afg</td>\n",
              "      <td>1965</td>\n",
              "      <td>0.0</td>\n",
              "      <td>9938414</td>\n",
              "      <td>Afghanistan</td>\n",
              "    </tr>\n",
              "    <tr>\n",
              "      <th>2</th>\n",
              "      <td>afg</td>\n",
              "      <td>1970</td>\n",
              "      <td>0.0</td>\n",
              "      <td>11126123</td>\n",
              "      <td>Afghanistan</td>\n",
              "    </tr>\n",
              "    <tr>\n",
              "      <th>3</th>\n",
              "      <td>afg</td>\n",
              "      <td>1975</td>\n",
              "      <td>0.0</td>\n",
              "      <td>12590286</td>\n",
              "      <td>Afghanistan</td>\n",
              "    </tr>\n",
              "    <tr>\n",
              "      <th>4</th>\n",
              "      <td>afg</td>\n",
              "      <td>1976</td>\n",
              "      <td>0.0</td>\n",
              "      <td>12840299</td>\n",
              "      <td>Afghanistan</td>\n",
              "    </tr>\n",
              "  </tbody>\n",
              "</table>\n",
              "</div>"
            ],
            "text/plain": [
              "   geo  time  cell_phones_total  population_total      country\n",
              "0  afg  1960                0.0           8996351  Afghanistan\n",
              "1  afg  1965                0.0           9938414  Afghanistan\n",
              "2  afg  1970                0.0          11126123  Afghanistan\n",
              "3  afg  1975                0.0          12590286  Afghanistan\n",
              "4  afg  1976                0.0          12840299  Afghanistan"
            ]
          },
          "metadata": {
            "tags": []
          },
          "execution_count": 105
        }
      ]
    },
    {
      "cell_type": "markdown",
      "metadata": {
        "id": "8xjRfkOjKECI",
        "colab_type": "text"
      },
      "source": [
        "### Part 3 - Make features\n",
        "\n",
        "Calculate the number of cell phones per person, and add this column onto your dataframe.\n",
        "\n",
        "(You've calculated correctly if you get 1.220 cell phones per person in the United States in 2017.)"
      ]
    },
    {
      "cell_type": "code",
      "metadata": {
        "id": "lOgLvqCQKFwY",
        "colab_type": "code",
        "colab": {
          "base_uri": "https://localhost:8080/",
          "height": 204
        },
        "outputId": "68a6aff2-f5aa-4bc8-e93f-2042feb53aff"
      },
      "source": [
        "merged2['cell_phones_per_person'] = np.where(merged2['population_total'] < 1, merged2['population_total'], merged2['cell_phones_total']/merged2['population_total'])\n",
        "merged2.head()"
      ],
      "execution_count": 212,
      "outputs": [
        {
          "output_type": "execute_result",
          "data": {
            "text/html": [
              "<div>\n",
              "<style scoped>\n",
              "    .dataframe tbody tr th:only-of-type {\n",
              "        vertical-align: middle;\n",
              "    }\n",
              "\n",
              "    .dataframe tbody tr th {\n",
              "        vertical-align: top;\n",
              "    }\n",
              "\n",
              "    .dataframe thead th {\n",
              "        text-align: right;\n",
              "    }\n",
              "</style>\n",
              "<table border=\"1\" class=\"dataframe\">\n",
              "  <thead>\n",
              "    <tr style=\"text-align: right;\">\n",
              "      <th></th>\n",
              "      <th>geo</th>\n",
              "      <th>time</th>\n",
              "      <th>cell_phones_total</th>\n",
              "      <th>population_total</th>\n",
              "      <th>country</th>\n",
              "      <th>cell_phones_per_person</th>\n",
              "    </tr>\n",
              "  </thead>\n",
              "  <tbody>\n",
              "    <tr>\n",
              "      <th>0</th>\n",
              "      <td>afg</td>\n",
              "      <td>1960</td>\n",
              "      <td>0.0</td>\n",
              "      <td>8996351</td>\n",
              "      <td>Afghanistan</td>\n",
              "      <td>0.0</td>\n",
              "    </tr>\n",
              "    <tr>\n",
              "      <th>1</th>\n",
              "      <td>afg</td>\n",
              "      <td>1965</td>\n",
              "      <td>0.0</td>\n",
              "      <td>9938414</td>\n",
              "      <td>Afghanistan</td>\n",
              "      <td>0.0</td>\n",
              "    </tr>\n",
              "    <tr>\n",
              "      <th>2</th>\n",
              "      <td>afg</td>\n",
              "      <td>1970</td>\n",
              "      <td>0.0</td>\n",
              "      <td>11126123</td>\n",
              "      <td>Afghanistan</td>\n",
              "      <td>0.0</td>\n",
              "    </tr>\n",
              "    <tr>\n",
              "      <th>3</th>\n",
              "      <td>afg</td>\n",
              "      <td>1975</td>\n",
              "      <td>0.0</td>\n",
              "      <td>12590286</td>\n",
              "      <td>Afghanistan</td>\n",
              "      <td>0.0</td>\n",
              "    </tr>\n",
              "    <tr>\n",
              "      <th>4</th>\n",
              "      <td>afg</td>\n",
              "      <td>1976</td>\n",
              "      <td>0.0</td>\n",
              "      <td>12840299</td>\n",
              "      <td>Afghanistan</td>\n",
              "      <td>0.0</td>\n",
              "    </tr>\n",
              "  </tbody>\n",
              "</table>\n",
              "</div>"
            ],
            "text/plain": [
              "   geo  time  ...      country  cell_phones_per_person\n",
              "0  afg  1960  ...  Afghanistan                     0.0\n",
              "1  afg  1965  ...  Afghanistan                     0.0\n",
              "2  afg  1970  ...  Afghanistan                     0.0\n",
              "3  afg  1975  ...  Afghanistan                     0.0\n",
              "4  afg  1976  ...  Afghanistan                     0.0\n",
              "\n",
              "[5 rows x 6 columns]"
            ]
          },
          "metadata": {
            "tags": []
          },
          "execution_count": 212
        }
      ]
    },
    {
      "cell_type": "code",
      "metadata": {
        "id": "0d_BTs--xC2b",
        "colab_type": "code",
        "colab": {
          "base_uri": "https://localhost:8080/",
          "height": 1000
        },
        "outputId": "da40a963-6ae3-49ae-e149-1ab59997dac0"
      },
      "source": [
        "merged2.loc[merged2['country'] == 'United States']"
      ],
      "execution_count": 246,
      "outputs": [
        {
          "output_type": "execute_result",
          "data": {
            "text/html": [
              "<div>\n",
              "<style scoped>\n",
              "    .dataframe tbody tr th:only-of-type {\n",
              "        vertical-align: middle;\n",
              "    }\n",
              "\n",
              "    .dataframe tbody tr th {\n",
              "        vertical-align: top;\n",
              "    }\n",
              "\n",
              "    .dataframe thead th {\n",
              "        text-align: right;\n",
              "    }\n",
              "</style>\n",
              "<table border=\"1\" class=\"dataframe\">\n",
              "  <thead>\n",
              "    <tr style=\"text-align: right;\">\n",
              "      <th></th>\n",
              "      <th>geo</th>\n",
              "      <th>time</th>\n",
              "      <th>cell_phones_total</th>\n",
              "      <th>population_total</th>\n",
              "      <th>country</th>\n",
              "      <th>cell_phones_per_person</th>\n",
              "    </tr>\n",
              "  </thead>\n",
              "  <tbody>\n",
              "    <tr>\n",
              "      <th>8092</th>\n",
              "      <td>usa</td>\n",
              "      <td>1960</td>\n",
              "      <td>0.0</td>\n",
              "      <td>186808228</td>\n",
              "      <td>United States</td>\n",
              "      <td>0.000000</td>\n",
              "    </tr>\n",
              "    <tr>\n",
              "      <th>8093</th>\n",
              "      <td>usa</td>\n",
              "      <td>1965</td>\n",
              "      <td>0.0</td>\n",
              "      <td>199815540</td>\n",
              "      <td>United States</td>\n",
              "      <td>0.000000</td>\n",
              "    </tr>\n",
              "    <tr>\n",
              "      <th>8094</th>\n",
              "      <td>usa</td>\n",
              "      <td>1970</td>\n",
              "      <td>0.0</td>\n",
              "      <td>209588150</td>\n",
              "      <td>United States</td>\n",
              "      <td>0.000000</td>\n",
              "    </tr>\n",
              "    <tr>\n",
              "      <th>8095</th>\n",
              "      <td>usa</td>\n",
              "      <td>1975</td>\n",
              "      <td>0.0</td>\n",
              "      <td>219205296</td>\n",
              "      <td>United States</td>\n",
              "      <td>0.000000</td>\n",
              "    </tr>\n",
              "    <tr>\n",
              "      <th>8096</th>\n",
              "      <td>usa</td>\n",
              "      <td>1976</td>\n",
              "      <td>0.0</td>\n",
              "      <td>221239215</td>\n",
              "      <td>United States</td>\n",
              "      <td>0.000000</td>\n",
              "    </tr>\n",
              "    <tr>\n",
              "      <th>8097</th>\n",
              "      <td>usa</td>\n",
              "      <td>1977</td>\n",
              "      <td>0.0</td>\n",
              "      <td>223324042</td>\n",
              "      <td>United States</td>\n",
              "      <td>0.000000</td>\n",
              "    </tr>\n",
              "    <tr>\n",
              "      <th>8098</th>\n",
              "      <td>usa</td>\n",
              "      <td>1978</td>\n",
              "      <td>0.0</td>\n",
              "      <td>225449657</td>\n",
              "      <td>United States</td>\n",
              "      <td>0.000000</td>\n",
              "    </tr>\n",
              "    <tr>\n",
              "      <th>8099</th>\n",
              "      <td>usa</td>\n",
              "      <td>1979</td>\n",
              "      <td>0.0</td>\n",
              "      <td>227599878</td>\n",
              "      <td>United States</td>\n",
              "      <td>0.000000</td>\n",
              "    </tr>\n",
              "    <tr>\n",
              "      <th>8100</th>\n",
              "      <td>usa</td>\n",
              "      <td>1980</td>\n",
              "      <td>0.0</td>\n",
              "      <td>229763052</td>\n",
              "      <td>United States</td>\n",
              "      <td>0.000000</td>\n",
              "    </tr>\n",
              "    <tr>\n",
              "      <th>8101</th>\n",
              "      <td>usa</td>\n",
              "      <td>1984</td>\n",
              "      <td>91600.0</td>\n",
              "      <td>238573861</td>\n",
              "      <td>United States</td>\n",
              "      <td>0.000384</td>\n",
              "    </tr>\n",
              "    <tr>\n",
              "      <th>8102</th>\n",
              "      <td>usa</td>\n",
              "      <td>1985</td>\n",
              "      <td>340213.0</td>\n",
              "      <td>240824120</td>\n",
              "      <td>United States</td>\n",
              "      <td>0.001413</td>\n",
              "    </tr>\n",
              "    <tr>\n",
              "      <th>8103</th>\n",
              "      <td>usa</td>\n",
              "      <td>1986</td>\n",
              "      <td>681825.0</td>\n",
              "      <td>243098935</td>\n",
              "      <td>United States</td>\n",
              "      <td>0.002805</td>\n",
              "    </tr>\n",
              "    <tr>\n",
              "      <th>8104</th>\n",
              "      <td>usa</td>\n",
              "      <td>1987</td>\n",
              "      <td>1230855.0</td>\n",
              "      <td>245402864</td>\n",
              "      <td>United States</td>\n",
              "      <td>0.005016</td>\n",
              "    </tr>\n",
              "    <tr>\n",
              "      <th>8105</th>\n",
              "      <td>usa</td>\n",
              "      <td>1988</td>\n",
              "      <td>2069441.0</td>\n",
              "      <td>247739582</td>\n",
              "      <td>United States</td>\n",
              "      <td>0.008353</td>\n",
              "    </tr>\n",
              "    <tr>\n",
              "      <th>8106</th>\n",
              "      <td>usa</td>\n",
              "      <td>1989</td>\n",
              "      <td>3508944.0</td>\n",
              "      <td>250113187</td>\n",
              "      <td>United States</td>\n",
              "      <td>0.014029</td>\n",
              "    </tr>\n",
              "    <tr>\n",
              "      <th>8107</th>\n",
              "      <td>usa</td>\n",
              "      <td>1990</td>\n",
              "      <td>5283055.0</td>\n",
              "      <td>252529950</td>\n",
              "      <td>United States</td>\n",
              "      <td>0.020921</td>\n",
              "    </tr>\n",
              "    <tr>\n",
              "      <th>8108</th>\n",
              "      <td>usa</td>\n",
              "      <td>1991</td>\n",
              "      <td>7557148.0</td>\n",
              "      <td>254974819</td>\n",
              "      <td>United States</td>\n",
              "      <td>0.029639</td>\n",
              "    </tr>\n",
              "    <tr>\n",
              "      <th>8109</th>\n",
              "      <td>usa</td>\n",
              "      <td>1992</td>\n",
              "      <td>11032753.0</td>\n",
              "      <td>257454273</td>\n",
              "      <td>United States</td>\n",
              "      <td>0.042853</td>\n",
              "    </tr>\n",
              "    <tr>\n",
              "      <th>8110</th>\n",
              "      <td>usa</td>\n",
              "      <td>1993</td>\n",
              "      <td>16009461.0</td>\n",
              "      <td>260020186</td>\n",
              "      <td>United States</td>\n",
              "      <td>0.061570</td>\n",
              "    </tr>\n",
              "    <tr>\n",
              "      <th>8111</th>\n",
              "      <td>usa</td>\n",
              "      <td>1994</td>\n",
              "      <td>24134421.0</td>\n",
              "      <td>262741566</td>\n",
              "      <td>United States</td>\n",
              "      <td>0.091856</td>\n",
              "    </tr>\n",
              "    <tr>\n",
              "      <th>8112</th>\n",
              "      <td>usa</td>\n",
              "      <td>1995</td>\n",
              "      <td>33785661.0</td>\n",
              "      <td>265658849</td>\n",
              "      <td>United States</td>\n",
              "      <td>0.127177</td>\n",
              "    </tr>\n",
              "    <tr>\n",
              "      <th>8113</th>\n",
              "      <td>usa</td>\n",
              "      <td>1996</td>\n",
              "      <td>44042992.0</td>\n",
              "      <td>268803424</td>\n",
              "      <td>United States</td>\n",
              "      <td>0.163848</td>\n",
              "    </tr>\n",
              "    <tr>\n",
              "      <th>8114</th>\n",
              "      <td>usa</td>\n",
              "      <td>1997</td>\n",
              "      <td>55312293.0</td>\n",
              "      <td>272136551</td>\n",
              "      <td>United States</td>\n",
              "      <td>0.203252</td>\n",
              "    </tr>\n",
              "    <tr>\n",
              "      <th>8115</th>\n",
              "      <td>usa</td>\n",
              "      <td>1998</td>\n",
              "      <td>69209321.0</td>\n",
              "      <td>275542603</td>\n",
              "      <td>United States</td>\n",
              "      <td>0.251175</td>\n",
              "    </tr>\n",
              "    <tr>\n",
              "      <th>8116</th>\n",
              "      <td>usa</td>\n",
              "      <td>1999</td>\n",
              "      <td>86047003.0</td>\n",
              "      <td>278862277</td>\n",
              "      <td>United States</td>\n",
              "      <td>0.308565</td>\n",
              "    </tr>\n",
              "    <tr>\n",
              "      <th>8117</th>\n",
              "      <td>usa</td>\n",
              "      <td>2000</td>\n",
              "      <td>109478031.0</td>\n",
              "      <td>281982778</td>\n",
              "      <td>United States</td>\n",
              "      <td>0.388244</td>\n",
              "    </tr>\n",
              "    <tr>\n",
              "      <th>8118</th>\n",
              "      <td>usa</td>\n",
              "      <td>2001</td>\n",
              "      <td>128500000.0</td>\n",
              "      <td>284852391</td>\n",
              "      <td>United States</td>\n",
              "      <td>0.451111</td>\n",
              "    </tr>\n",
              "    <tr>\n",
              "      <th>8119</th>\n",
              "      <td>usa</td>\n",
              "      <td>2002</td>\n",
              "      <td>141800000.0</td>\n",
              "      <td>287506847</td>\n",
              "      <td>United States</td>\n",
              "      <td>0.493206</td>\n",
              "    </tr>\n",
              "    <tr>\n",
              "      <th>8120</th>\n",
              "      <td>usa</td>\n",
              "      <td>2003</td>\n",
              "      <td>160637000.0</td>\n",
              "      <td>290027624</td>\n",
              "      <td>United States</td>\n",
              "      <td>0.553868</td>\n",
              "    </tr>\n",
              "    <tr>\n",
              "      <th>8121</th>\n",
              "      <td>usa</td>\n",
              "      <td>2004</td>\n",
              "      <td>184819000.0</td>\n",
              "      <td>292539324</td>\n",
              "      <td>United States</td>\n",
              "      <td>0.631775</td>\n",
              "    </tr>\n",
              "    <tr>\n",
              "      <th>8122</th>\n",
              "      <td>usa</td>\n",
              "      <td>2005</td>\n",
              "      <td>203700000.0</td>\n",
              "      <td>295129501</td>\n",
              "      <td>United States</td>\n",
              "      <td>0.690205</td>\n",
              "    </tr>\n",
              "    <tr>\n",
              "      <th>8123</th>\n",
              "      <td>usa</td>\n",
              "      <td>2006</td>\n",
              "      <td>229600000.0</td>\n",
              "      <td>297827356</td>\n",
              "      <td>United States</td>\n",
              "      <td>0.770916</td>\n",
              "    </tr>\n",
              "    <tr>\n",
              "      <th>8124</th>\n",
              "      <td>usa</td>\n",
              "      <td>2007</td>\n",
              "      <td>249300000.0</td>\n",
              "      <td>300595175</td>\n",
              "      <td>United States</td>\n",
              "      <td>0.829355</td>\n",
              "    </tr>\n",
              "    <tr>\n",
              "      <th>8125</th>\n",
              "      <td>usa</td>\n",
              "      <td>2008</td>\n",
              "      <td>261300000.0</td>\n",
              "      <td>303374067</td>\n",
              "      <td>United States</td>\n",
              "      <td>0.861313</td>\n",
              "    </tr>\n",
              "    <tr>\n",
              "      <th>8126</th>\n",
              "      <td>usa</td>\n",
              "      <td>2009</td>\n",
              "      <td>274283000.0</td>\n",
              "      <td>306076362</td>\n",
              "      <td>United States</td>\n",
              "      <td>0.896126</td>\n",
              "    </tr>\n",
              "    <tr>\n",
              "      <th>8127</th>\n",
              "      <td>usa</td>\n",
              "      <td>2010</td>\n",
              "      <td>285118000.0</td>\n",
              "      <td>308641391</td>\n",
              "      <td>United States</td>\n",
              "      <td>0.923784</td>\n",
              "    </tr>\n",
              "    <tr>\n",
              "      <th>8128</th>\n",
              "      <td>usa</td>\n",
              "      <td>2011</td>\n",
              "      <td>297404000.0</td>\n",
              "      <td>311051373</td>\n",
              "      <td>United States</td>\n",
              "      <td>0.956125</td>\n",
              "    </tr>\n",
              "    <tr>\n",
              "      <th>8129</th>\n",
              "      <td>usa</td>\n",
              "      <td>2012</td>\n",
              "      <td>304838000.0</td>\n",
              "      <td>313335423</td>\n",
              "      <td>United States</td>\n",
              "      <td>0.972881</td>\n",
              "    </tr>\n",
              "    <tr>\n",
              "      <th>8130</th>\n",
              "      <td>usa</td>\n",
              "      <td>2013</td>\n",
              "      <td>310698000.0</td>\n",
              "      <td>315536676</td>\n",
              "      <td>United States</td>\n",
              "      <td>0.984665</td>\n",
              "    </tr>\n",
              "    <tr>\n",
              "      <th>8131</th>\n",
              "      <td>usa</td>\n",
              "      <td>2014</td>\n",
              "      <td>355500000.0</td>\n",
              "      <td>317718779</td>\n",
              "      <td>United States</td>\n",
              "      <td>1.118914</td>\n",
              "    </tr>\n",
              "    <tr>\n",
              "      <th>8132</th>\n",
              "      <td>usa</td>\n",
              "      <td>2015</td>\n",
              "      <td>382307000.0</td>\n",
              "      <td>319929162</td>\n",
              "      <td>United States</td>\n",
              "      <td>1.194974</td>\n",
              "    </tr>\n",
              "    <tr>\n",
              "      <th>8133</th>\n",
              "      <td>usa</td>\n",
              "      <td>2016</td>\n",
              "      <td>395881000.0</td>\n",
              "      <td>322179605</td>\n",
              "      <td>United States</td>\n",
              "      <td>1.228759</td>\n",
              "    </tr>\n",
              "    <tr>\n",
              "      <th>8134</th>\n",
              "      <td>usa</td>\n",
              "      <td>2017</td>\n",
              "      <td>395881000.0</td>\n",
              "      <td>324459463</td>\n",
              "      <td>United States</td>\n",
              "      <td>1.220125</td>\n",
              "    </tr>\n",
              "  </tbody>\n",
              "</table>\n",
              "</div>"
            ],
            "text/plain": [
              "      geo  time  ...        country  cell_phones_per_person\n",
              "8092  usa  1960  ...  United States                0.000000\n",
              "8093  usa  1965  ...  United States                0.000000\n",
              "8094  usa  1970  ...  United States                0.000000\n",
              "8095  usa  1975  ...  United States                0.000000\n",
              "8096  usa  1976  ...  United States                0.000000\n",
              "8097  usa  1977  ...  United States                0.000000\n",
              "8098  usa  1978  ...  United States                0.000000\n",
              "8099  usa  1979  ...  United States                0.000000\n",
              "8100  usa  1980  ...  United States                0.000000\n",
              "8101  usa  1984  ...  United States                0.000384\n",
              "8102  usa  1985  ...  United States                0.001413\n",
              "8103  usa  1986  ...  United States                0.002805\n",
              "8104  usa  1987  ...  United States                0.005016\n",
              "8105  usa  1988  ...  United States                0.008353\n",
              "8106  usa  1989  ...  United States                0.014029\n",
              "8107  usa  1990  ...  United States                0.020921\n",
              "8108  usa  1991  ...  United States                0.029639\n",
              "8109  usa  1992  ...  United States                0.042853\n",
              "8110  usa  1993  ...  United States                0.061570\n",
              "8111  usa  1994  ...  United States                0.091856\n",
              "8112  usa  1995  ...  United States                0.127177\n",
              "8113  usa  1996  ...  United States                0.163848\n",
              "8114  usa  1997  ...  United States                0.203252\n",
              "8115  usa  1998  ...  United States                0.251175\n",
              "8116  usa  1999  ...  United States                0.308565\n",
              "8117  usa  2000  ...  United States                0.388244\n",
              "8118  usa  2001  ...  United States                0.451111\n",
              "8119  usa  2002  ...  United States                0.493206\n",
              "8120  usa  2003  ...  United States                0.553868\n",
              "8121  usa  2004  ...  United States                0.631775\n",
              "8122  usa  2005  ...  United States                0.690205\n",
              "8123  usa  2006  ...  United States                0.770916\n",
              "8124  usa  2007  ...  United States                0.829355\n",
              "8125  usa  2008  ...  United States                0.861313\n",
              "8126  usa  2009  ...  United States                0.896126\n",
              "8127  usa  2010  ...  United States                0.923784\n",
              "8128  usa  2011  ...  United States                0.956125\n",
              "8129  usa  2012  ...  United States                0.972881\n",
              "8130  usa  2013  ...  United States                0.984665\n",
              "8131  usa  2014  ...  United States                1.118914\n",
              "8132  usa  2015  ...  United States                1.194974\n",
              "8133  usa  2016  ...  United States                1.228759\n",
              "8134  usa  2017  ...  United States                1.220125\n",
              "\n",
              "[43 rows x 6 columns]"
            ]
          },
          "metadata": {
            "tags": []
          },
          "execution_count": 246
        }
      ]
    },
    {
      "cell_type": "markdown",
      "metadata": {
        "id": "j2xDq7MAKRjg",
        "colab_type": "text"
      },
      "source": [
        "### Part 4 - Process data\n",
        "\n",
        "Use the describe function, to describe your dataframe's numeric columns, and then its non-numeric columns.\n",
        "\n",
        "(You'll see the time period ranges from 1960 to 2017, and there are 195 unique countries represented.)\n",
        "\n",
        "geo\ttime\tcell_phones_total\tpopulation_total\tcountry\tcell_phones_per_person"
      ]
    },
    {
      "cell_type": "code",
      "metadata": {
        "id": "RU6B0fQ74UNz",
        "colab_type": "code",
        "colab": {
          "base_uri": "https://localhost:8080/",
          "height": 170
        },
        "outputId": "7b8e1598-5c22-47c0-cd8f-23ca502d6c96"
      },
      "source": [
        "# Describe numeric columns.\n",
        "print(merged2.describe(include=[np.number]))"
      ],
      "execution_count": 300,
      "outputs": [
        {
          "output_type": "stream",
          "text": [
            "              time  cell_phones_total  population_total  cell_phones_per_person\n",
            "count  8590.000000       8.590000e+03      8.590000e+03             8590.000000\n",
            "mean   1994.193481       9.004950e+06      2.983823e+07                0.279639\n",
            "std      14.257975       5.573408e+07      1.161284e+08                0.454247\n",
            "min    1960.000000       0.000000e+00      4.433000e+03                0.000000\n",
            "25%    1983.000000       0.000000e+00      1.456148e+06                0.000000\n",
            "50%    1995.000000       6.200000e+03      5.725062e+06                0.001564\n",
            "75%    2006.000000       1.697652e+06      1.810581e+07                0.461149\n",
            "max    2017.000000       1.474097e+09      1.409517e+09                2.490243\n"
          ],
          "name": "stdout"
        }
      ]
    },
    {
      "cell_type": "code",
      "metadata": {
        "id": "L8An9QpT0w0y",
        "colab_type": "code",
        "colab": {
          "base_uri": "https://localhost:8080/",
          "height": 102
        },
        "outputId": "866eeab2-9660-4621-9061-91b5bc01ce66"
      },
      "source": [
        "# Describe non-numeric columns.\n",
        "print(merged2.describe(include = ['object']))"
      ],
      "execution_count": 298,
      "outputs": [
        {
          "output_type": "stream",
          "text": [
            "         geo country\n",
            "count   8590    8590\n",
            "unique   195     195\n",
            "top      chl   Malta\n",
            "freq      46      46\n"
          ],
          "name": "stdout"
        }
      ]
    },
    {
      "cell_type": "markdown",
      "metadata": {
        "id": "KXEmo_HdKy_5",
        "colab_type": "text"
      },
      "source": [
        "In 2017, what were the top 5 countries with the most cell phones total?\n",
        "\n",
        "Your list of countries should have these totals:\n",
        "\n",
        "| country | cell phones total |\n",
        "|:-------:|:-----------------:|\n",
        "|    ?    |     1,474,097,000 |\n",
        "|    ?    |     1,168,902,277 |\n",
        "|    ?    |       458,923,202 |\n",
        "|    ?    |       395,881,000 |\n",
        "|    ?    |       236,488,548 |\n"
      ]
    },
    {
      "cell_type": "code",
      "metadata": {
        "id": "NbCVBsBIK06K",
        "colab_type": "code",
        "colab": {}
      },
      "source": [
        "# Your Work Here"
      ],
      "execution_count": 0,
      "outputs": []
    },
    {
      "cell_type": "markdown",
      "metadata": {
        "id": "RcBnaSW_LYSk",
        "colab_type": "text"
      },
      "source": [
        "## Data Storytelling\n",
        "\n",
        "In this part of the sprint challenge you'll work with a dataset from **FiveThirtyEight's article, [Every Guest Jon Stewart Ever Had On ‘The Daily Show’](https://fivethirtyeight.com/features/every-guest-jon-stewart-ever-had-on-the-daily-show/)**!"
      ]
    },
    {
      "cell_type": "markdown",
      "metadata": {
        "id": "t0vUeBgBLcby",
        "colab_type": "text"
      },
      "source": [
        "### Part 0 — Run this starter code\n",
        "\n",
        "You don't need to add or change anything here. Just run this cell and it loads the data for you, into a dataframe named `df`.\n",
        "\n",
        "(You can explore the data if you want, but it's not required to pass the Sprint Challenge.)"
      ]
    },
    {
      "cell_type": "code",
      "metadata": {
        "id": "pc7YmWvlLas5",
        "colab_type": "code",
        "colab": {}
      },
      "source": [
        "%matplotlib inline\n",
        "import matplotlib.pyplot as plt\n",
        "import numpy as np\n",
        "import pandas as pd\n",
        "import seaborn as sns\n",
        "\n",
        "url = 'https://raw.githubusercontent.com/fivethirtyeight/data/master/daily-show-guests/daily_show_guests.csv'\n",
        "df = pd.read_csv(url).rename(columns={'YEAR': 'Year', 'Raw_Guest_List': 'Guest'})\n",
        "\n",
        "def get_occupation(group):\n",
        "    if group in ['Acting', 'Comedy', 'Musician']:\n",
        "        return 'Acting, Comedy & Music'\n",
        "    elif group in ['Media', 'media']:\n",
        "        return 'Media'\n",
        "    elif group in ['Government', 'Politician', 'Political Aide']:\n",
        "        return 'Government and Politics'\n",
        "    else:\n",
        "        return 'Other'\n",
        "      \n",
        "df['Occupation'] = df['Group'].apply(get_occupation)"
      ],
      "execution_count": 0,
      "outputs": []
    },
    {
      "cell_type": "markdown",
      "metadata": {
        "id": "yisVUHiXLjv0",
        "colab_type": "text"
      },
      "source": [
        "### Part 1 — What's the breakdown of guests’ occupations per year?\n",
        "\n",
        "For example, in 1999, what percentage of guests were actors, comedians, or musicians? What percentage were in the media? What percentage were in politics? What percentage were from another occupation?\n",
        "\n",
        "Then, what about in 2000? In 2001? And so on, up through 2015.\n",
        "\n",
        "So, **for each year of _The Daily Show_, calculate the percentage of guests from each occupation:**\n",
        "- Acting, Comedy & Music\n",
        "- Government and Politics\n",
        "- Media\n",
        "- Other\n",
        "\n",
        "#### Hints:\n",
        "\n",
        "- You can make a crosstab. \n",
        "- You're going to want occupations as the column indexes and years as the row indexes\n",
        "- Use the `normalize` parameter to get percentages by year.\n",
        "\n",
        "You'll know you've calculated correctly when the percentage of \"Acting, Comedy & Music\" guests is 90.36% in 1999, and 45% in 2015."
      ]
    },
    {
      "cell_type": "code",
      "metadata": {
        "id": "HPndILPN6VRk",
        "colab_type": "code",
        "colab": {
          "base_uri": "https://localhost:8080/",
          "height": 204
        },
        "outputId": "3ded7ebb-775d-45ab-f6b8-2fe1d5ab1862"
      },
      "source": [
        "df.head()"
      ],
      "execution_count": 146,
      "outputs": [
        {
          "output_type": "execute_result",
          "data": {
            "text/html": [
              "<div>\n",
              "<style scoped>\n",
              "    .dataframe tbody tr th:only-of-type {\n",
              "        vertical-align: middle;\n",
              "    }\n",
              "\n",
              "    .dataframe tbody tr th {\n",
              "        vertical-align: top;\n",
              "    }\n",
              "\n",
              "    .dataframe thead th {\n",
              "        text-align: right;\n",
              "    }\n",
              "</style>\n",
              "<table border=\"1\" class=\"dataframe\">\n",
              "  <thead>\n",
              "    <tr style=\"text-align: right;\">\n",
              "      <th></th>\n",
              "      <th>Year</th>\n",
              "      <th>GoogleKnowlege_Occupation</th>\n",
              "      <th>Show</th>\n",
              "      <th>Group</th>\n",
              "      <th>Guest</th>\n",
              "      <th>Occupation</th>\n",
              "    </tr>\n",
              "  </thead>\n",
              "  <tbody>\n",
              "    <tr>\n",
              "      <th>0</th>\n",
              "      <td>1999</td>\n",
              "      <td>actor</td>\n",
              "      <td>1/11/99</td>\n",
              "      <td>Acting</td>\n",
              "      <td>Michael J. Fox</td>\n",
              "      <td>Acting, Comedy &amp; Music</td>\n",
              "    </tr>\n",
              "    <tr>\n",
              "      <th>1</th>\n",
              "      <td>1999</td>\n",
              "      <td>Comedian</td>\n",
              "      <td>1/12/99</td>\n",
              "      <td>Comedy</td>\n",
              "      <td>Sandra Bernhard</td>\n",
              "      <td>Acting, Comedy &amp; Music</td>\n",
              "    </tr>\n",
              "    <tr>\n",
              "      <th>2</th>\n",
              "      <td>1999</td>\n",
              "      <td>television actress</td>\n",
              "      <td>1/13/99</td>\n",
              "      <td>Acting</td>\n",
              "      <td>Tracey Ullman</td>\n",
              "      <td>Acting, Comedy &amp; Music</td>\n",
              "    </tr>\n",
              "    <tr>\n",
              "      <th>3</th>\n",
              "      <td>1999</td>\n",
              "      <td>film actress</td>\n",
              "      <td>1/14/99</td>\n",
              "      <td>Acting</td>\n",
              "      <td>Gillian Anderson</td>\n",
              "      <td>Acting, Comedy &amp; Music</td>\n",
              "    </tr>\n",
              "    <tr>\n",
              "      <th>4</th>\n",
              "      <td>1999</td>\n",
              "      <td>actor</td>\n",
              "      <td>1/18/99</td>\n",
              "      <td>Acting</td>\n",
              "      <td>David Alan Grier</td>\n",
              "      <td>Acting, Comedy &amp; Music</td>\n",
              "    </tr>\n",
              "  </tbody>\n",
              "</table>\n",
              "</div>"
            ],
            "text/plain": [
              "   Year GoogleKnowlege_Occupation  ...             Guest              Occupation\n",
              "0  1999                     actor  ...    Michael J. Fox  Acting, Comedy & Music\n",
              "1  1999                  Comedian  ...   Sandra Bernhard  Acting, Comedy & Music\n",
              "2  1999        television actress  ...     Tracey Ullman  Acting, Comedy & Music\n",
              "3  1999              film actress  ...  Gillian Anderson  Acting, Comedy & Music\n",
              "4  1999                     actor  ...  David Alan Grier  Acting, Comedy & Music\n",
              "\n",
              "[5 rows x 6 columns]"
            ]
          },
          "metadata": {
            "tags": []
          },
          "execution_count": 146
        }
      ]
    },
    {
      "cell_type": "code",
      "metadata": {
        "id": "BJvyvhdwLkRr",
        "colab_type": "code",
        "colab": {
          "base_uri": "https://localhost:8080/",
          "height": 607
        },
        "outputId": "f4979796-db25-46f1-f65c-463529273d96"
      },
      "source": [
        "pd.crosstab(df['Year'], df['Occupation'],  normalize=True)"
      ],
      "execution_count": 158,
      "outputs": [
        {
          "output_type": "execute_result",
          "data": {
            "text/html": [
              "<div>\n",
              "<style scoped>\n",
              "    .dataframe tbody tr th:only-of-type {\n",
              "        vertical-align: middle;\n",
              "    }\n",
              "\n",
              "    .dataframe tbody tr th {\n",
              "        vertical-align: top;\n",
              "    }\n",
              "\n",
              "    .dataframe thead th {\n",
              "        text-align: right;\n",
              "    }\n",
              "</style>\n",
              "<table border=\"1\" class=\"dataframe\">\n",
              "  <thead>\n",
              "    <tr style=\"text-align: right;\">\n",
              "      <th>Occupation</th>\n",
              "      <th>Acting, Comedy &amp; Music</th>\n",
              "      <th>Government and Politics</th>\n",
              "      <th>Media</th>\n",
              "      <th>Other</th>\n",
              "    </tr>\n",
              "    <tr>\n",
              "      <th>Year</th>\n",
              "      <th></th>\n",
              "      <th></th>\n",
              "      <th></th>\n",
              "      <th></th>\n",
              "    </tr>\n",
              "  </thead>\n",
              "  <tbody>\n",
              "    <tr>\n",
              "      <th>1999</th>\n",
              "      <td>0.055700</td>\n",
              "      <td>0.000743</td>\n",
              "      <td>0.004085</td>\n",
              "      <td>0.001114</td>\n",
              "    </tr>\n",
              "    <tr>\n",
              "      <th>2000</th>\n",
              "      <td>0.046417</td>\n",
              "      <td>0.005199</td>\n",
              "      <td>0.007798</td>\n",
              "      <td>0.003342</td>\n",
              "    </tr>\n",
              "    <tr>\n",
              "      <th>2001</th>\n",
              "      <td>0.042332</td>\n",
              "      <td>0.002228</td>\n",
              "      <td>0.011511</td>\n",
              "      <td>0.002228</td>\n",
              "    </tr>\n",
              "    <tr>\n",
              "      <th>2002</th>\n",
              "      <td>0.036762</td>\n",
              "      <td>0.004085</td>\n",
              "      <td>0.015596</td>\n",
              "      <td>0.002599</td>\n",
              "    </tr>\n",
              "    <tr>\n",
              "      <th>2003</th>\n",
              "      <td>0.034534</td>\n",
              "      <td>0.006313</td>\n",
              "      <td>0.015225</td>\n",
              "      <td>0.005570</td>\n",
              "    </tr>\n",
              "    <tr>\n",
              "      <th>2004</th>\n",
              "      <td>0.023394</td>\n",
              "      <td>0.013739</td>\n",
              "      <td>0.016710</td>\n",
              "      <td>0.007055</td>\n",
              "    </tr>\n",
              "    <tr>\n",
              "      <th>2005</th>\n",
              "      <td>0.022280</td>\n",
              "      <td>0.009655</td>\n",
              "      <td>0.020052</td>\n",
              "      <td>0.008169</td>\n",
              "    </tr>\n",
              "    <tr>\n",
              "      <th>2006</th>\n",
              "      <td>0.021537</td>\n",
              "      <td>0.011511</td>\n",
              "      <td>0.017453</td>\n",
              "      <td>0.009283</td>\n",
              "    </tr>\n",
              "    <tr>\n",
              "      <th>2007</th>\n",
              "      <td>0.013368</td>\n",
              "      <td>0.008912</td>\n",
              "      <td>0.017453</td>\n",
              "      <td>0.012625</td>\n",
              "    </tr>\n",
              "    <tr>\n",
              "      <th>2008</th>\n",
              "      <td>0.012625</td>\n",
              "      <td>0.012254</td>\n",
              "      <td>0.028593</td>\n",
              "      <td>0.007427</td>\n",
              "    </tr>\n",
              "    <tr>\n",
              "      <th>2009</th>\n",
              "      <td>0.012625</td>\n",
              "      <td>0.012625</td>\n",
              "      <td>0.021909</td>\n",
              "      <td>0.013368</td>\n",
              "    </tr>\n",
              "    <tr>\n",
              "      <th>2010</th>\n",
              "      <td>0.021537</td>\n",
              "      <td>0.011140</td>\n",
              "      <td>0.018567</td>\n",
              "      <td>0.010026</td>\n",
              "    </tr>\n",
              "    <tr>\n",
              "      <th>2011</th>\n",
              "      <td>0.020423</td>\n",
              "      <td>0.010026</td>\n",
              "      <td>0.018938</td>\n",
              "      <td>0.011140</td>\n",
              "    </tr>\n",
              "    <tr>\n",
              "      <th>2012</th>\n",
              "      <td>0.016339</td>\n",
              "      <td>0.012254</td>\n",
              "      <td>0.019309</td>\n",
              "      <td>0.012997</td>\n",
              "    </tr>\n",
              "    <tr>\n",
              "      <th>2013</th>\n",
              "      <td>0.026365</td>\n",
              "      <td>0.007798</td>\n",
              "      <td>0.018938</td>\n",
              "      <td>0.008541</td>\n",
              "    </tr>\n",
              "    <tr>\n",
              "      <th>2014</th>\n",
              "      <td>0.023765</td>\n",
              "      <td>0.007798</td>\n",
              "      <td>0.019681</td>\n",
              "      <td>0.009283</td>\n",
              "    </tr>\n",
              "    <tr>\n",
              "      <th>2015</th>\n",
              "      <td>0.016710</td>\n",
              "      <td>0.006313</td>\n",
              "      <td>0.008912</td>\n",
              "      <td>0.005199</td>\n",
              "    </tr>\n",
              "  </tbody>\n",
              "</table>\n",
              "</div>"
            ],
            "text/plain": [
              "Occupation  Acting, Comedy & Music  Government and Politics     Media     Other\n",
              "Year                                                                           \n",
              "1999                      0.055700                 0.000743  0.004085  0.001114\n",
              "2000                      0.046417                 0.005199  0.007798  0.003342\n",
              "2001                      0.042332                 0.002228  0.011511  0.002228\n",
              "2002                      0.036762                 0.004085  0.015596  0.002599\n",
              "2003                      0.034534                 0.006313  0.015225  0.005570\n",
              "2004                      0.023394                 0.013739  0.016710  0.007055\n",
              "2005                      0.022280                 0.009655  0.020052  0.008169\n",
              "2006                      0.021537                 0.011511  0.017453  0.009283\n",
              "2007                      0.013368                 0.008912  0.017453  0.012625\n",
              "2008                      0.012625                 0.012254  0.028593  0.007427\n",
              "2009                      0.012625                 0.012625  0.021909  0.013368\n",
              "2010                      0.021537                 0.011140  0.018567  0.010026\n",
              "2011                      0.020423                 0.010026  0.018938  0.011140\n",
              "2012                      0.016339                 0.012254  0.019309  0.012997\n",
              "2013                      0.026365                 0.007798  0.018938  0.008541\n",
              "2014                      0.023765                 0.007798  0.019681  0.009283\n",
              "2015                      0.016710                 0.006313  0.008912  0.005199"
            ]
          },
          "metadata": {
            "tags": []
          },
          "execution_count": 158
        }
      ]
    },
    {
      "cell_type": "markdown",
      "metadata": {
        "id": "UthoeNABLwau",
        "colab_type": "text"
      },
      "source": [
        "### Part 2 — Recreate this explanatory visualization:\n",
        "\n"
      ]
    },
    {
      "cell_type": "code",
      "metadata": {
        "id": "oy9dt9l6Lz18",
        "colab_type": "code",
        "outputId": "35b253ab-40bb-473c-96c0-a1feaf41820d",
        "colab": {
          "base_uri": "https://localhost:8080/",
          "height": 406
        }
      },
      "source": [
        "from IPython.display import display, Image\n",
        "png = 'https://fivethirtyeight.com/wp-content/uploads/2015/08/hickey-datalab-dailyshow.png'\n",
        "example = Image(png, width=500)\n",
        "display(example)"
      ],
      "execution_count": 160,
      "outputs": [
        {
          "output_type": "display_data",
          "data": {
            "image/png": "[encoded data removed]",
            "text/plain": [
              "<IPython.core.display.Image object>"
            ]
          },
          "metadata": {
            "tags": [],
            "image/png": {
              "width": 500
            }
          }
        }
      ]
    },
    {
      "cell_type": "markdown",
      "metadata": {
        "id": "WEHUhxlTL2w2",
        "colab_type": "text"
      },
      "source": [
        "**Hints:**\n",
        "- You can choose any Python visualization library you want. I've verified the plot can be reproduced with matplotlib, pandas plot, or seaborn. I assume other libraries like altair or plotly would work too.\n",
        "\n",
        "**Expectations:** Your plot should include:\n",
        "- 3 lines visualizing \"occupation of guests, by year.\" The shapes of the lines should look roughly identical to 538's example. Each line should be a different color. (But you don't need to use the _same_ colors as 538.)\n",
        "- Legend **or** labels for the lines. (But **you don't need each label positioned next to its line or colored like 538.**)\n",
        "- Title in the upper left: _\"Who Got To Be On 'The Daily Show'?\"_ with more visual emphasis than the subtitle. (Bolder and/or larger font.)\n",
        "- Subtitle underneath the title: _\"Occupation of guests, by year\"_"
      ]
    },
    {
      "cell_type": "code",
      "metadata": {
        "id": "J-T3IU__L0ih",
        "colab_type": "code",
        "colab": {
          "resources": {
            "http://localhost:8080/nbextensions/google.colab/files.js": {
              "data": "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",
              "ok": true,
              "headers": [
                [
                  "content-type",
                  "application/javascript"
                ]
              ],
              "status": 200,
              "status_text": ""
            }
          },
          "base_uri": "https://localhost:8080/",
          "height": 74
        },
        "outputId": "b15fad9f-ad23-4c86-f18f-de1fb28a48e9"
      },
      "source": [
        "from google.colab import files\n",
        "uploaded = files.upload()"
      ],
      "execution_count": 169,
      "outputs": [
        {
          "output_type": "display_data",
          "data": {
            "text/html": [
              "\n",
              "     <input type=\"file\" id=\"files-2bd34042-43ed-4da9-b22e-8ac94b0a7f4c\" name=\"files[]\" multiple disabled />\n",
              "     <output id=\"result-2bd34042-43ed-4da9-b22e-8ac94b0a7f4c\">\n",
              "      Upload widget is only available when the cell has been executed in the\n",
              "      current browser session. Please rerun this cell to enable.\n",
              "      </output>\n",
              "      <script src=\"/nbextensions/google.colab/files.js\"></script> "
            ],
            "text/plain": [
              "<IPython.core.display.HTML object>"
            ]
          },
          "metadata": {
            "tags": []
          }
        },
        {
          "output_type": "stream",
          "text": [
            "Saving Daily_Show.csv to Daily_Show (1).csv\n"
          ],
          "name": "stdout"
        }
      ]
    },
    {
      "cell_type": "code",
      "metadata": {
        "id": "LbkXD4OqEmPe",
        "colab_type": "code",
        "colab": {
          "base_uri": "https://localhost:8080/",
          "height": 816
        },
        "outputId": "1bb372b8-ce18-4484-c965-4848eddcacce"
      },
      "source": [
        "import io\n",
        "daily_show = pd.read_csv(io.BytesIO(uploaded['Daily_Show.csv']))"
      ],
      "execution_count": 178,
      "outputs": [
        {
          "output_type": "error",
          "ename": "UnicodeDecodeError",
          "evalue": "ignored",
          "traceback": [
            "\u001b[0;31m---------------------------------------------------------------------------\u001b[0m",
            "\u001b[0;31mUnicodeDecodeError\u001b[0m                        Traceback (most recent call last)",
            "\u001b[0;32mpandas/_libs/parsers.pyx\u001b[0m in \u001b[0;36mpandas._libs.parsers.TextReader._convert_tokens\u001b[0;34m()\u001b[0m\n",
            "\u001b[0;32mpandas/_libs/parsers.pyx\u001b[0m in \u001b[0;36mpandas._libs.parsers.TextReader._convert_with_dtype\u001b[0;34m()\u001b[0m\n",
            "\u001b[0;32mpandas/_libs/parsers.pyx\u001b[0m in \u001b[0;36mpandas._libs.parsers.TextReader._string_convert\u001b[0;34m()\u001b[0m\n",
            "\u001b[0;32mpandas/_libs/parsers.pyx\u001b[0m in \u001b[0;36mpandas._libs.parsers._string_box_utf8\u001b[0;34m()\u001b[0m\n",
            "\u001b[0;31mUnicodeDecodeError\u001b[0m: 'utf-8' codec can't decode byte 0xed in position 10: invalid continuation byte",
            "\nDuring handling of the above exception, another exception occurred:\n",
            "\u001b[0;31mUnicodeDecodeError\u001b[0m                        Traceback (most recent call last)",
            "\u001b[0;32m<ipython-input-178-00884e837795>\u001b[0m in \u001b[0;36m<module>\u001b[0;34m()\u001b[0m\n\u001b[1;32m      1\u001b[0m \u001b[0;32mimport\u001b[0m \u001b[0mio\u001b[0m\u001b[0;34m\u001b[0m\u001b[0;34m\u001b[0m\u001b[0m\n\u001b[0;32m----> 2\u001b[0;31m \u001b[0mdaily_show\u001b[0m \u001b[0;34m=\u001b[0m \u001b[0mpd\u001b[0m\u001b[0;34m.\u001b[0m\u001b[0mread_csv\u001b[0m\u001b[0;34m(\u001b[0m\u001b[0mio\u001b[0m\u001b[0;34m.\u001b[0m\u001b[0mBytesIO\u001b[0m\u001b[0;34m(\u001b[0m\u001b[0muploaded\u001b[0m\u001b[0;34m[\u001b[0m\u001b[0;34m'Daily_Show.csv'\u001b[0m\u001b[0;34m]\u001b[0m\u001b[0;34m)\u001b[0m\u001b[0;34m)\u001b[0m\u001b[0;34m\u001b[0m\u001b[0;34m\u001b[0m\u001b[0m\n\u001b[0m",
            "\u001b[0;32m/usr/local/lib/python3.6/dist-packages/pandas/io/parsers.py\u001b[0m in \u001b[0;36mparser_f\u001b[0;34m(filepath_or_buffer, sep, delimiter, header, names, index_col, usecols, squeeze, prefix, mangle_dupe_cols, dtype, engine, converters, true_values, false_values, skipinitialspace, skiprows, skipfooter, nrows, na_values, keep_default_na, na_filter, verbose, skip_blank_lines, parse_dates, infer_datetime_format, keep_date_col, date_parser, dayfirst, cache_dates, iterator, chunksize, compression, thousands, decimal, lineterminator, quotechar, quoting, doublequote, escapechar, comment, encoding, dialect, error_bad_lines, warn_bad_lines, delim_whitespace, low_memory, memory_map, float_precision)\u001b[0m\n\u001b[1;32m    683\u001b[0m         )\n\u001b[1;32m    684\u001b[0m \u001b[0;34m\u001b[0m\u001b[0m\n\u001b[0;32m--> 685\u001b[0;31m         \u001b[0;32mreturn\u001b[0m \u001b[0m_read\u001b[0m\u001b[0;34m(\u001b[0m\u001b[0mfilepath_or_buffer\u001b[0m\u001b[0;34m,\u001b[0m \u001b[0mkwds\u001b[0m\u001b[0;34m)\u001b[0m\u001b[0;34m\u001b[0m\u001b[0;34m\u001b[0m\u001b[0m\n\u001b[0m\u001b[1;32m    686\u001b[0m \u001b[0;34m\u001b[0m\u001b[0m\n\u001b[1;32m    687\u001b[0m     \u001b[0mparser_f\u001b[0m\u001b[0;34m.\u001b[0m\u001b[0m__name__\u001b[0m \u001b[0;34m=\u001b[0m \u001b[0mname\u001b[0m\u001b[0;34m\u001b[0m\u001b[0;34m\u001b[0m\u001b[0m\n",
            "\u001b[0;32m/usr/local/lib/python3.6/dist-packages/pandas/io/parsers.py\u001b[0m in \u001b[0;36m_read\u001b[0;34m(filepath_or_buffer, kwds)\u001b[0m\n\u001b[1;32m    461\u001b[0m \u001b[0;34m\u001b[0m\u001b[0m\n\u001b[1;32m    462\u001b[0m     \u001b[0;32mtry\u001b[0m\u001b[0;34m:\u001b[0m\u001b[0;34m\u001b[0m\u001b[0;34m\u001b[0m\u001b[0m\n\u001b[0;32m--> 463\u001b[0;31m         \u001b[0mdata\u001b[0m \u001b[0;34m=\u001b[0m \u001b[0mparser\u001b[0m\u001b[0;34m.\u001b[0m\u001b[0mread\u001b[0m\u001b[0;34m(\u001b[0m\u001b[0mnrows\u001b[0m\u001b[0;34m)\u001b[0m\u001b[0;34m\u001b[0m\u001b[0;34m\u001b[0m\u001b[0m\n\u001b[0m\u001b[1;32m    464\u001b[0m     \u001b[0;32mfinally\u001b[0m\u001b[0;34m:\u001b[0m\u001b[0;34m\u001b[0m\u001b[0;34m\u001b[0m\u001b[0m\n\u001b[1;32m    465\u001b[0m         \u001b[0mparser\u001b[0m\u001b[0;34m.\u001b[0m\u001b[0mclose\u001b[0m\u001b[0;34m(\u001b[0m\u001b[0;34m)\u001b[0m\u001b[0;34m\u001b[0m\u001b[0;34m\u001b[0m\u001b[0m\n",
            "\u001b[0;32m/usr/local/lib/python3.6/dist-packages/pandas/io/parsers.py\u001b[0m in \u001b[0;36mread\u001b[0;34m(self, nrows)\u001b[0m\n\u001b[1;32m   1152\u001b[0m     \u001b[0;32mdef\u001b[0m \u001b[0mread\u001b[0m\u001b[0;34m(\u001b[0m\u001b[0mself\u001b[0m\u001b[0;34m,\u001b[0m \u001b[0mnrows\u001b[0m\u001b[0;34m=\u001b[0m\u001b[0;32mNone\u001b[0m\u001b[0;34m)\u001b[0m\u001b[0;34m:\u001b[0m\u001b[0;34m\u001b[0m\u001b[0;34m\u001b[0m\u001b[0m\n\u001b[1;32m   1153\u001b[0m         \u001b[0mnrows\u001b[0m \u001b[0;34m=\u001b[0m \u001b[0m_validate_integer\u001b[0m\u001b[0;34m(\u001b[0m\u001b[0;34m\"nrows\"\u001b[0m\u001b[0;34m,\u001b[0m \u001b[0mnrows\u001b[0m\u001b[0;34m)\u001b[0m\u001b[0;34m\u001b[0m\u001b[0;34m\u001b[0m\u001b[0m\n\u001b[0;32m-> 1154\u001b[0;31m         \u001b[0mret\u001b[0m \u001b[0;34m=\u001b[0m \u001b[0mself\u001b[0m\u001b[0;34m.\u001b[0m\u001b[0m_engine\u001b[0m\u001b[0;34m.\u001b[0m\u001b[0mread\u001b[0m\u001b[0;34m(\u001b[0m\u001b[0mnrows\u001b[0m\u001b[0;34m)\u001b[0m\u001b[0;34m\u001b[0m\u001b[0;34m\u001b[0m\u001b[0m\n\u001b[0m\u001b[1;32m   1155\u001b[0m \u001b[0;34m\u001b[0m\u001b[0m\n\u001b[1;32m   1156\u001b[0m         \u001b[0;31m# May alter columns / col_dict\u001b[0m\u001b[0;34m\u001b[0m\u001b[0;34m\u001b[0m\u001b[0;34m\u001b[0m\u001b[0m\n",
            "\u001b[0;32m/usr/local/lib/python3.6/dist-packages/pandas/io/parsers.py\u001b[0m in \u001b[0;36mread\u001b[0;34m(self, nrows)\u001b[0m\n\u001b[1;32m   2057\u001b[0m     \u001b[0;32mdef\u001b[0m \u001b[0mread\u001b[0m\u001b[0;34m(\u001b[0m\u001b[0mself\u001b[0m\u001b[0;34m,\u001b[0m \u001b[0mnrows\u001b[0m\u001b[0;34m=\u001b[0m\u001b[0;32mNone\u001b[0m\u001b[0;34m)\u001b[0m\u001b[0;34m:\u001b[0m\u001b[0;34m\u001b[0m\u001b[0;34m\u001b[0m\u001b[0m\n\u001b[1;32m   2058\u001b[0m         \u001b[0;32mtry\u001b[0m\u001b[0;34m:\u001b[0m\u001b[0;34m\u001b[0m\u001b[0;34m\u001b[0m\u001b[0m\n\u001b[0;32m-> 2059\u001b[0;31m             \u001b[0mdata\u001b[0m \u001b[0;34m=\u001b[0m \u001b[0mself\u001b[0m\u001b[0;34m.\u001b[0m\u001b[0m_reader\u001b[0m\u001b[0;34m.\u001b[0m\u001b[0mread\u001b[0m\u001b[0;34m(\u001b[0m\u001b[0mnrows\u001b[0m\u001b[0;34m)\u001b[0m\u001b[0;34m\u001b[0m\u001b[0;34m\u001b[0m\u001b[0m\n\u001b[0m\u001b[1;32m   2060\u001b[0m         \u001b[0;32mexcept\u001b[0m \u001b[0mStopIteration\u001b[0m\u001b[0;34m:\u001b[0m\u001b[0;34m\u001b[0m\u001b[0;34m\u001b[0m\u001b[0m\n\u001b[1;32m   2061\u001b[0m             \u001b[0;32mif\u001b[0m \u001b[0mself\u001b[0m\u001b[0;34m.\u001b[0m\u001b[0m_first_chunk\u001b[0m\u001b[0;34m:\u001b[0m\u001b[0;34m\u001b[0m\u001b[0;34m\u001b[0m\u001b[0m\n",
            "\u001b[0;32mpandas/_libs/parsers.pyx\u001b[0m in \u001b[0;36mpandas._libs.parsers.TextReader.read\u001b[0;34m()\u001b[0m\n",
            "\u001b[0;32mpandas/_libs/parsers.pyx\u001b[0m in \u001b[0;36mpandas._libs.parsers.TextReader._read_low_memory\u001b[0;34m()\u001b[0m\n",
            "\u001b[0;32mpandas/_libs/parsers.pyx\u001b[0m in \u001b[0;36mpandas._libs.parsers.TextReader._read_rows\u001b[0;34m()\u001b[0m\n",
            "\u001b[0;32mpandas/_libs/parsers.pyx\u001b[0m in \u001b[0;36mpandas._libs.parsers.TextReader._convert_column_data\u001b[0;34m()\u001b[0m\n",
            "\u001b[0;32mpandas/_libs/parsers.pyx\u001b[0m in \u001b[0;36mpandas._libs.parsers.TextReader._convert_tokens\u001b[0;34m()\u001b[0m\n",
            "\u001b[0;32mpandas/_libs/parsers.pyx\u001b[0m in \u001b[0;36mpandas._libs.parsers.TextReader._convert_with_dtype\u001b[0;34m()\u001b[0m\n",
            "\u001b[0;32mpandas/_libs/parsers.pyx\u001b[0m in \u001b[0;36mpandas._libs.parsers.TextReader._string_convert\u001b[0;34m()\u001b[0m\n",
            "\u001b[0;32mpandas/_libs/parsers.pyx\u001b[0m in \u001b[0;36mpandas._libs.parsers._string_box_utf8\u001b[0;34m()\u001b[0m\n",
            "\u001b[0;31mUnicodeDecodeError\u001b[0m: 'utf-8' codec can't decode byte 0xed in position 10: invalid continuation byte"
          ]
        }
      ]
    },
    {
      "cell_type": "code",
      "metadata": {
        "id": "mJNz_ZOpCgW_",
        "colab_type": "code",
        "colab": {
          "base_uri": "https://localhost:8080/",
          "height": 231
        },
        "outputId": "faf46082-7b39-4aa5-aae0-b4be13e1fc5c"
      },
      "source": [
        "with open('Daily_Show (1)','r') as csvfile:\n",
        "    plots = csv.reader(csvfile, delimiter=',')\n",
        "    for row in plots:\n",
        "        x.append(int(row[0]))\n",
        "        y.append(int(row[1]))\n",
        "\n",
        "plt.plot(x,y, label='Loaded from file!')\n",
        "plt.xlabel('x')\n",
        "plt.ylabel('y')\n",
        "plt.title('Interesting Graph\\nCheck it out')\n",
        "plt.legend()\n",
        "plt.show()"
      ],
      "execution_count": 172,
      "outputs": [
        {
          "output_type": "error",
          "ename": "FileNotFoundError",
          "evalue": "ignored",
          "traceback": [
            "\u001b[0;31m---------------------------------------------------------------------------\u001b[0m",
            "\u001b[0;31mFileNotFoundError\u001b[0m                         Traceback (most recent call last)",
            "\u001b[0;32m<ipython-input-172-e1ef13fe02d4>\u001b[0m in \u001b[0;36m<module>\u001b[0;34m()\u001b[0m\n\u001b[0;32m----> 1\u001b[0;31m \u001b[0;32mwith\u001b[0m \u001b[0mopen\u001b[0m\u001b[0;34m(\u001b[0m\u001b[0;34m'Daily_Show (1)'\u001b[0m\u001b[0;34m,\u001b[0m\u001b[0;34m'r'\u001b[0m\u001b[0;34m)\u001b[0m \u001b[0;32mas\u001b[0m \u001b[0mcsvfile\u001b[0m\u001b[0;34m:\u001b[0m\u001b[0;34m\u001b[0m\u001b[0;34m\u001b[0m\u001b[0m\n\u001b[0m\u001b[1;32m      2\u001b[0m     \u001b[0mplots\u001b[0m \u001b[0;34m=\u001b[0m \u001b[0mcsv\u001b[0m\u001b[0;34m.\u001b[0m\u001b[0mreader\u001b[0m\u001b[0;34m(\u001b[0m\u001b[0mcsvfile\u001b[0m\u001b[0;34m,\u001b[0m \u001b[0mdelimiter\u001b[0m\u001b[0;34m=\u001b[0m\u001b[0;34m','\u001b[0m\u001b[0;34m)\u001b[0m\u001b[0;34m\u001b[0m\u001b[0;34m\u001b[0m\u001b[0m\n\u001b[1;32m      3\u001b[0m     \u001b[0;32mfor\u001b[0m \u001b[0mrow\u001b[0m \u001b[0;32min\u001b[0m \u001b[0mplots\u001b[0m\u001b[0;34m:\u001b[0m\u001b[0;34m\u001b[0m\u001b[0;34m\u001b[0m\u001b[0m\n\u001b[1;32m      4\u001b[0m         \u001b[0mx\u001b[0m\u001b[0;34m.\u001b[0m\u001b[0mappend\u001b[0m\u001b[0;34m(\u001b[0m\u001b[0mint\u001b[0m\u001b[0;34m(\u001b[0m\u001b[0mrow\u001b[0m\u001b[0;34m[\u001b[0m\u001b[0;36m0\u001b[0m\u001b[0;34m]\u001b[0m\u001b[0;34m)\u001b[0m\u001b[0;34m)\u001b[0m\u001b[0;34m\u001b[0m\u001b[0;34m\u001b[0m\u001b[0m\n\u001b[1;32m      5\u001b[0m         \u001b[0my\u001b[0m\u001b[0;34m.\u001b[0m\u001b[0mappend\u001b[0m\u001b[0;34m(\u001b[0m\u001b[0mint\u001b[0m\u001b[0;34m(\u001b[0m\u001b[0mrow\u001b[0m\u001b[0;34m[\u001b[0m\u001b[0;36m1\u001b[0m\u001b[0;34m]\u001b[0m\u001b[0;34m)\u001b[0m\u001b[0;34m)\u001b[0m\u001b[0;34m\u001b[0m\u001b[0;34m\u001b[0m\u001b[0m\n",
            "\u001b[0;31mFileNotFoundError\u001b[0m: [Errno 2] No such file or directory: 'Daily_Show (1)'"
          ]
        }
      ]
    },
    {
      "cell_type": "markdown",
      "metadata": {
        "id": "svbK28PWNCic",
        "colab_type": "text"
      },
      "source": [
        "## How to get a 3 on this Sprint Challenge:\n",
        "\n",
        "Once you have completed the above making a solid attempt at each section, if you still have time remaining, you can go back and do any of the following to get a score of 3 on the above sections. Remember that everything in this section is **optional** and that we will average your scores between the different sections, so get the easy points first!\n",
        "\n",
        "Complete any of the following **within** their corresponding sections in the Sprint Challenge (go back up and add these thigns):\n",
        "\n",
        "### Data Wrangling Section 1\n",
        "\n",
        "Filter the `cell_phones` dataframe to only include information about the USA and China and then remake the scatterplot. \n",
        "\n",
        "### Data Wrangling Section 2\n",
        "\n",
        "Explain why we are using an \"inner\" join when we merge these dataframes. \n",
        "\n",
        "### Data Wrangling Section 3\n",
        "\n",
        "Modify the geo column to make the geo codes uppercase instead of lowercase.\n",
        "\n",
        "### Data Wrangling Section 4\n",
        "\n",
        "2017 was the first year that China had more cell phones than people.\n",
        "\n",
        "What was the first year that the USA had more cell phones than people?\n",
        "\n",
        "### Data Storytelling \n",
        "\n",
        "Keep on working on your graph to make it look particularly like the 538 graph by manipulating the graph's background color, the line colors, the x and y axis tick marks/labels, and adding a subtitle. \n",
        "\n",
        "If you have already completed everything else, take this as far as you can within the time limit.\n"
      ]
    }
  ]
}