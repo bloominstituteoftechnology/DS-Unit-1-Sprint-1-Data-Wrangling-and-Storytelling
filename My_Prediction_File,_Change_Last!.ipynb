{
  "nbformat": 4,
  "nbformat_minor": 0,
  "metadata": {
    "colab": {
      "name": "My Prediction File, Change Last!.ipynb",
      "provenance": [],
      "collapsed_sections": [],
      "include_colab_link": true
    },
    "kernelspec": {
      "name": "python3",
      "display_name": "Python 3"
    }
  },
  "cells": [
    {
      "cell_type": "markdown",
      "metadata": {
        "id": "view-in-github",
        "colab_type": "text"
      },
      "source": [
        "<a href=\"https://colab.research.google.com/github/gomlfx/DS-Unit-1-Sprint-1-Data-Wrangling-and-Storytelling/blob/master/My_Prediction_File%2C_Change_Last!.ipynb\" target=\"_parent\"><img src=\"https://colab.research.google.com/assets/colab-badge.svg\" alt=\"Open In Colab\"/></a>"
      ]
    },
    {
      "cell_type": "code",
      "metadata": {
        "id": "gFwnqRdi796O",
        "colab_type": "code",
        "outputId": "a9d7bdf8-4949-4e8a-a1b3-ecf9df525559",
        "colab": {
          "base_uri": "https://localhost:8080/",
          "height": 508
        }
      },
      "source": [
        "#//////////////////////////////import packages////////////////////////////////\n",
        "\n",
        "%matplotlib inline\n",
        "import matplotlib.pyplot as plt\n",
        "import pandas as pd\n",
        "import seaborn as sns\n",
        "import lightgbm as lgb\n",
        "import tensorflow as tf\n",
        "import tensorflow.keras.layers as kl\n",
        "import gym\n",
        "from stable_baselines.deepq.policies import CnnPolicy\n",
        "from stable_baselines import DQN\n",
        "from stable_baselines import PPO2\n",
        "#python -m ensurepip --default-pip\n",
        "!pip --version\n",
        "!pip install keras-rl\n",
        "\n",
        "\n",
        "from lightgbm import LGBMRegressor\n",
        "from xgboost import XGBRegressor\n",
        "from sklearn.model_selection import train_test_split\n",
        "from sklearn.tree import DecisionTreeRegressor #best so far\n",
        "from sklearn.ensemble import RandomForestRegressor #so-called better than DecisionTreeRegressor\n",
        "from sklearn.model_selection import cross_val_score, GridSearchCV\n",
        "from sklearn.preprocessing import MinMaxScaler\n",
        "from sklearn.ensemble import AdaBoostRegressor #best so far\n",
        "from sklearn.neural_network import MLPRegressor #best so far\n",
        "from sklearn.datasets import make_classification\n",
        "from sklearn.neighbors import KNeighborsRegressor\n",
        "from sklearn.linear_model import LinearRegression\n",
        "from sklearn.ensemble import RandomForestClassifier #best so far\n",
        "from sklearn.linear_model import LogisticRegression\n",
        "from sklearn.metrics import mean_absolute_error\n",
        "from sklearn.ensemble import GradientBoostingRegressor\n",
        "import sklearn.multiclass\n",
        "from sklearn.multiclass import OneVsRestClassifier\n",
        "from sklearn.feature_selection import SelectFromModel\n",
        "\n",
        "\n",
        "#df = pd.read_csv(\"https://raw.githubusercontent.com/gomlfx/machineLearningForex/master/EURUSD1440dOtrain.csv\")\n",
        "#df = pd.read_csv(\"https://raw.githubusercontent.com/gomlfx/machineLearningForex/master/EURUSD43200.csv\")\n",
        "df = pd.read_csv(\"https://raw.githubusercontent.com/gomlfx/machineLearningForex/master/EURUSD1440dO.csv\")\n",
        "\n",
        "print(\"This is the shape of the entire file.\")\n",
        "print(df.shape)\n",
        "#print(\"\")\n",
        "print(df.tail(1))\n"
      ],
      "execution_count": 1,
      "outputs": [
        {
          "output_type": "display_data",
          "data": {
            "text/html": [
              "<p style=\"color: red;\">\n",
              "The default version of TensorFlow in Colab will soon switch to TensorFlow 2.x.<br>\n",
              "We recommend you <a href=\"https://www.tensorflow.org/guide/migrate\" target=\"_blank\">upgrade</a> now \n",
              "or ensure your notebook will continue to use TensorFlow 1.x via the <code>%tensorflow_version 1.x</code> magic:\n",
              "<a href=\"https://colab.research.google.com/notebooks/tensorflow_version.ipynb\" target=\"_blank\">more info</a>.</p>\n"
            ],
            "text/plain": [
              "<IPython.core.display.HTML object>"
            ]
          },
          "metadata": {
            "tags": []
          }
        },
        {
          "output_type": "stream",
          "text": [
            "WARNING:tensorflow:\n",
            "The TensorFlow contrib module will not be included in TensorFlow 2.0.\n",
            "For more information, please see:\n",
            "  * https://github.com/tensorflow/community/blob/master/rfcs/20180907-contrib-sunset.md\n",
            "  * https://github.com/tensorflow/addons\n",
            "  * https://github.com/tensorflow/io (for I/O related ops)\n",
            "If you depend on functionality not listed there, please file an issue.\n",
            "\n",
            "pip 19.3.1 from /usr/local/lib/python3.6/dist-packages/pip (python 3.6)\n",
            "Requirement already satisfied: keras-rl in /usr/local/lib/python3.6/dist-packages (0.4.2)\n",
            "Requirement already satisfied: keras>=2.0.7 in /usr/local/lib/python3.6/dist-packages (from keras-rl) (2.2.5)\n",
            "Requirement already satisfied: keras-applications>=1.0.8 in /usr/local/lib/python3.6/dist-packages (from keras>=2.0.7->keras-rl) (1.0.8)\n",
            "Requirement already satisfied: h5py in /usr/local/lib/python3.6/dist-packages (from keras>=2.0.7->keras-rl) (2.8.0)\n",
            "Requirement already satisfied: numpy>=1.9.1 in /usr/local/lib/python3.6/dist-packages (from keras>=2.0.7->keras-rl) (1.17.3)\n",
            "Requirement already satisfied: scipy>=0.14 in /usr/local/lib/python3.6/dist-packages (from keras>=2.0.7->keras-rl) (1.3.1)\n",
            "Requirement already satisfied: six>=1.9.0 in /usr/local/lib/python3.6/dist-packages (from keras>=2.0.7->keras-rl) (1.12.0)\n",
            "Requirement already satisfied: keras-preprocessing>=1.1.0 in /usr/local/lib/python3.6/dist-packages (from keras>=2.0.7->keras-rl) (1.1.0)\n",
            "Requirement already satisfied: pyyaml in /usr/local/lib/python3.6/dist-packages (from keras>=2.0.7->keras-rl) (3.13)\n",
            "This is the shape of the entire file.\n",
            "(12240, 10)\n",
            "            day   openDF     high      low  ...  T_close    T_low   T_high  BorS\n",
            "12239  20191029  1.10983  1.11184  1.10734  ...  1.11497  1.10799  1.11514   NaN\n",
            "\n",
            "[1 rows x 10 columns]\n"
          ],
          "name": "stdout"
        }
      ]
    },
    {
      "cell_type": "code",
      "metadata": {
        "id": "MBwfEubfWZKF",
        "colab_type": "code",
        "outputId": "b5c2869a-b49c-4cd3-a2d4-f36aa80e214f",
        "colab": {
          "base_uri": "https://localhost:8080/",
          "height": 355
        }
      },
      "source": [
        "#////////////////////////////////plot the input data/////////////////////////////////////////////\n",
        "\n",
        "train = pd.DataFrame(data=df)\n",
        "\n",
        "print(\"I can use these styles:\")\n",
        "print(plt.style.available)\n",
        "plt.style.use('seaborn-paper')\n",
        "train.tail(10).plot.scatter(x='day', y='close', s=50);\n"
      ],
      "execution_count": 2,
      "outputs": [
        {
          "output_type": "stream",
          "text": [
            "I can use these styles:\n",
            "['seaborn-white', 'tableau-colorblind10', 'fivethirtyeight', 'bmh', 'seaborn-colorblind', 'dark_background', 'fast', 'seaborn-dark-palette', 'seaborn-muted', 'seaborn-ticks', 'seaborn-bright', 'seaborn-whitegrid', 'seaborn-darkgrid', 'seaborn-deep', 'ggplot', 'seaborn-notebook', 'grayscale', 'seaborn-pastel', 'seaborn-talk', 'seaborn-poster', 'Solarize_Light2', 'seaborn', 'seaborn-dark', 'seaborn-paper', 'classic', '_classic_test']\n"
          ],
          "name": "stdout"
        },
        {
          "output_type": "display_data",
          "data": {
            "image/png": "[encoded data removed]",
            "text/plain": [
              "<Figure size 460.8x316.8 with 1 Axes>"
            ]
          },
          "metadata": {
            "tags": []
          }
        }
      ]
    },
    {
      "cell_type": "code",
      "metadata": {
        "id": "z05ITIQTdABY",
        "colab_type": "code",
        "colab": {}
      },
      "source": [
        ""
      ],
      "execution_count": 0,
      "outputs": []
    },
    {
      "cell_type": "code",
      "metadata": {
        "id": "Tab5_IgFW_fp",
        "colab_type": "code",
        "colab": {
          "base_uri": "https://localhost:8080/",
          "height": 187
        },
        "outputId": "4f0f138a-849a-4982-a75a-9962eb3f7e05"
      },
      "source": [
        "print(train.head(2))\n",
        "print(train.tail(2))"
      ],
      "execution_count": 3,
      "outputs": [
        {
          "output_type": "stream",
          "text": [
            "        day  openDF    high     low  ...  T_close   T_low  T_high  BorS\n",
            "0  19710104  0.5369  0.5369  0.5369  ...   0.5366  0.5366  0.5366   0.0\n",
            "1  19710105  0.5366  0.5366  0.5366  ...   0.5365  0.5365  0.5365   0.0\n",
            "\n",
            "[2 rows x 10 columns]\n",
            "            day   openDF     high      low  ...  T_close    T_low   T_high  BorS\n",
            "12238  20191028  1.10780  1.11064  1.10760  ...  1.11106  1.10734  1.11184   NaN\n",
            "12239  20191029  1.10983  1.11184  1.10734  ...  1.11497  1.10799  1.11514   NaN\n",
            "\n",
            "[2 rows x 10 columns]\n"
          ],
          "name": "stdout"
        }
      ]
    },
    {
      "cell_type": "code",
      "metadata": {
        "id": "NcRP1xcnAZw8",
        "colab_type": "code",
        "colab": {}
      },
      "source": [
        ""
      ],
      "execution_count": 0,
      "outputs": []
    },
    {
      "cell_type": "code",
      "metadata": {
        "id": "eI2CoNXyWSFP",
        "colab_type": "code",
        "outputId": "5914e1d0-423a-4416-c6f4-35b3def91caa",
        "colab": {
          "base_uri": "https://localhost:8080/",
          "height": 68
        }
      },
      "source": [
        "\n",
        "#///////////////////////////////core regression parts///////////////////////////////////////\n",
        "\n",
        "#d = \"https://raw.githubusercontent.com/gomlfx/machineLearningForex/master/EURUSD1440.csv\"\n",
        "#df = pd.DataFrame(data=d)\n",
        "#df\n",
        "\n",
        "\n",
        "#model = LinearRegression()\n",
        "#model = KNeighborsRegressor(n_neighbors=2)\n",
        "#model = DecisionTreeRegressor(criterion='mae', splitter='best', max_depth=2, min_samples_leaf=2)\n",
        "#model = AdaBoostRegressor(DecisionTreeRegressor(criterion='mae', splitter='best', max_depth=2, min_samples_leaf=2), n_estimators=200)\n",
        "#model = AdaBoostRegressor(RandomForestRegressor(max_depth=6, min_samples_split=7, min_samples_leaf=4), n_estimators=200)\n",
        "#model = RandomForestRegressor(n_estimators=100, verbose=2)\n",
        "#model = GradientBoostingRegressor()\n",
        "model = LGBMRegressor()\n",
        "#model = DQN()\n",
        "#model = PPO2()\n",
        "#model = XGBRegressor()\n",
        "#model = xgb.XGBRegressor()\n",
        "#model = RandomForestClassifier(max_depth=6, min_samples_split=7, min_samples_leaf=4)\n",
        "#model = LogisticRegression()\n",
        "#model = MLPRegressor(hidden_layer_sizes=4, max_iter=4000)\n",
        "\n",
        "\n",
        "#features = ['open']\n",
        "features = ['day', 'openDF', 'high', 'low', 'close','volume']\n",
        "#target = 'close'\n",
        "#target = ['T_high','T_low','T_close','BorS']\n",
        "target = 'T_high'\n",
        "\n",
        "model.fit(train[features], train[target])\n",
        "#error()\n",
        "#model.predict([[20191004, 1.09809]])\n",
        "print(\"\")\n",
        "print('This is a Regression prediction')\n",
        "print(model.predict([[20191030,1.11134,1.11514,1.10799,1.11497,64677]]))\n",
        "#print(model.predict([[1.08878]]))"
      ],
      "execution_count": 7,
      "outputs": [
        {
          "output_type": "stream",
          "text": [
            "\n",
            "This is a Regression prediction\n",
            "[1.11786879]\n"
          ],
          "name": "stdout"
        }
      ]
    },
    {
      "cell_type": "code",
      "metadata": {
        "id": "aewFMS6Vf1KA",
        "colab_type": "code",
        "colab": {
          "base_uri": "https://localhost:8080/",
          "height": 319
        },
        "outputId": "dc312bce-262b-4359-c109-ef6218f12551"
      },
      "source": [
        "day = [[c/1] for c in range(1)]\n",
        "predictions = model.predict(day)"
      ],
      "execution_count": 5,
      "outputs": [
        {
          "output_type": "error",
          "ename": "ValueError",
          "evalue": "ignored",
          "traceback": [
            "\u001b[0;31m---------------------------------------------------------------------------\u001b[0m",
            "\u001b[0;31mValueError\u001b[0m                                Traceback (most recent call last)",
            "\u001b[0;32m<ipython-input-5-3832c264692a>\u001b[0m in \u001b[0;36m<module>\u001b[0;34m()\u001b[0m\n\u001b[1;32m      1\u001b[0m \u001b[0mday\u001b[0m \u001b[0;34m=\u001b[0m \u001b[0;34m[\u001b[0m\u001b[0;34m[\u001b[0m\u001b[0mc\u001b[0m\u001b[0;34m/\u001b[0m\u001b[0;36m1\u001b[0m\u001b[0;34m]\u001b[0m \u001b[0;32mfor\u001b[0m \u001b[0mc\u001b[0m \u001b[0;32min\u001b[0m \u001b[0mrange\u001b[0m\u001b[0;34m(\u001b[0m\u001b[0;36m1\u001b[0m\u001b[0;34m)\u001b[0m\u001b[0;34m]\u001b[0m\u001b[0;34m\u001b[0m\u001b[0;34m\u001b[0m\u001b[0m\n\u001b[0;32m----> 2\u001b[0;31m \u001b[0mpredictions\u001b[0m \u001b[0;34m=\u001b[0m \u001b[0mmodel\u001b[0m\u001b[0;34m.\u001b[0m\u001b[0mpredict\u001b[0m\u001b[0;34m(\u001b[0m\u001b[0mday\u001b[0m\u001b[0;34m)\u001b[0m\u001b[0;34m\u001b[0m\u001b[0;34m\u001b[0m\u001b[0m\n\u001b[0m",
            "\u001b[0;32m/usr/local/lib/python3.6/dist-packages/lightgbm/sklearn.py\u001b[0m in \u001b[0;36mpredict\u001b[0;34m(self, X, raw_score, num_iteration, pred_leaf, pred_contrib, **kwargs)\u001b[0m\n\u001b[1;32m    603\u001b[0m                              \u001b[0;34m\"match the input. Model n_features_ is %s and \"\u001b[0m\u001b[0;34m\u001b[0m\u001b[0;34m\u001b[0m\u001b[0m\n\u001b[1;32m    604\u001b[0m                              \u001b[0;34m\"input n_features is %s \"\u001b[0m\u001b[0;34m\u001b[0m\u001b[0;34m\u001b[0m\u001b[0m\n\u001b[0;32m--> 605\u001b[0;31m                              % (self._n_features, n_features))\n\u001b[0m\u001b[1;32m    606\u001b[0m         return self.booster_.predict(X, raw_score=raw_score, num_iteration=num_iteration,\n\u001b[1;32m    607\u001b[0m                                      pred_leaf=pred_leaf, pred_contrib=pred_contrib, **kwargs)\n",
            "\u001b[0;31mValueError\u001b[0m: Number of features of the model must match the input. Model n_features_ is 6 and input n_features is 1 "
          ]
        }
      ]
    },
    {
      "cell_type": "code",
      "metadata": {
        "id": "4fbmPEQlMYFK",
        "colab_type": "code",
        "colab": {}
      },
      "source": [
        "train.tail(10).plot.scatter(x='day', y='close', s=50)\n",
        "plt.plot(day, predictions)\n",
        "plt.title('GradientBoostingRegressor');"
      ],
      "execution_count": 0,
      "outputs": []
    },
    {
      "cell_type": "code",
      "metadata": {
        "id": "pdCzJS4GcxrT",
        "colab_type": "code",
        "colab": {}
      },
      "source": [
        "data_te = pd.read_csv(\"https://raw.githubusercontent.com/gomlfx/machineLearningForex/master/EURUSD1440dOtest.csv\")\n",
        "\n",
        "test = pd.DataFrame(data=data_te)\n",
        "\n",
        "ax = train.tail(10).plot.scatter(x='day', y='close', s=50)\n",
        "test.tail(10).plot.scatter(x='day', y='close', s=50, color='orange', ax=ax)\n",
        "plt.legend(['Train data', 'Test data']);\n"
      ],
      "execution_count": 0,
      "outputs": []
    },
    {
      "cell_type": "code",
      "metadata": {
        "id": "QJawKx_Qd8GU",
        "colab_type": "code",
        "colab": {}
      },
      "source": [
        "\n",
        "#//////////////////////////////core classification parts////////////////////////////////\n",
        "\n",
        "print(\"\")\n",
        "train, test = train_test_split(df, random_state=0)\n",
        "print(\"This is the classification train, test shape.\")\n",
        "print(train.shape), print(test.shape)\n",
        "print(df.head(1))\n",
        "print(\"\")\n",
        "\n",
        "print(train.BorS.value_counts(normalize=True))\n",
        "print(\"\")\n",
        "\n",
        "predictions = [0] * len(train)\n",
        "print(predictions)\n",
        "print(\"\")\n",
        "\n",
        "from sklearn.metrics import accuracy_score\n",
        "print(accuracy_score(train.BorS, predictions))\n",
        "print(\"\")\n",
        "\n",
        "from sklearn.metrics import confusion_matrix\n",
        "def matrix(y_true, y_pred):\n",
        "  data = confusion_matrix(y_true, y_pred)\n",
        "  index = ['Actual 0', 'Actual 1']\n",
        "  columns = ['Predicted 0', 'predicted 1']\n",
        "  return pd.DataFrame(data,index,columns)\n",
        "matrix(train.BorS, predictions)\n",
        "\n",
        "print(train[['day','open','high','low','close','volume']].info())\n",
        "print(\"\")\n",
        "print(\"Show how many elements are missing from each feature.\")\n",
        "print(train.day.isnull().sum())\n",
        "print(train.open.isnull().sum())\n",
        "print(train.high.isnull().sum())\n",
        "print(train.low.isnull().sum())\n",
        "print(train.close.isnull().sum())\n",
        "print(\"\")\n",
        "from sklearn.ensemble import AdaBoostClassifier\n",
        "from sklearn.tree import DecisionTreeClassifier\n",
        "\n",
        "#features = ['day', 'open']\n",
        "features = ['day', 'open', 'high', 'low', 'close', 'volume']\n",
        "#target = ['close']\n",
        "target = ['BorS']\n",
        "\n",
        "model = DecisionTreeClassifier(max_depth=2)\n",
        "model.fit(train[features], train[target])\n",
        "\n",
        "from sklearn.ensemble import RandomForestClassifier\n",
        "model = AdaBoostClassifier(RandomForestClassifier(max_depth=6, min_samples_split=7, min_samples_leaf=4), n_estimators=20)\n",
        "model.fit(train[features], train[target])\n",
        "\n",
        "#train accuracy\n",
        "y_true = train[target]\n",
        "y_pred = model.predict(train[features])\n",
        "print('Train accuracy:', accuracy_score(y_true, y_pred))\n",
        "#test accuracy\n",
        "y_true = test[target]\n",
        "y_pred = model.predict(test[features])\n",
        "print('Test accuracy:', accuracy_score(y_true, y_pred))\n",
        "\n",
        "#/////////////////////////////////////check model for train error ratio/////////////////////////////////\n",
        " \n",
        "def error():\n",
        "  #calculate mean absolute error on the training data\n",
        "  y_true = train[target]\n",
        "  y_pred = model.predict(train[features])\n",
        "  train_error = mean_absolute_error(y_true, y_pred)\n",
        "\n",
        "  #calculate mean absolute error on the test data\n",
        "  y_true = test[target]\n",
        "  y_pred = model.predict(test[features])\n",
        "  test_error = mean_absolute_error(y_true, y_pred)\n",
        "\n",
        "  #display the errors\n",
        "  print(\"\")\n",
        "  print(\"This is Classification module error.\")\n",
        "  print('Train Error: $', round(train_error))\n",
        "  print('Test Error: $', round(test_error))\n",
        "\n",
        "error()\n",
        "#/////////////////////////////////plot the train error, regular graph, and predicted/////////////////////\n",
        "\n",
        "#//////////////////////////////classification module////////////////////////////////////////////////////\n"
      ],
      "execution_count": 0,
      "outputs": []
    }
  ]
}