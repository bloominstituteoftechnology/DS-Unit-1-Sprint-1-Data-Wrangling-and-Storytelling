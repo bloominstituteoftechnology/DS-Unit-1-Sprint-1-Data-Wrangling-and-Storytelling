{
  "nbformat": 4,
  "nbformat_minor": 0,
  "metadata": {
    "colab": {
      "name": "Copy of LS_DS_112_Make_Features_Assignment.ipynb",
      "provenance": [],
      "collapsed_sections": [],
      "include_colab_link": true
    },
    "kernelspec": {
      "display_name": "Python 3",
      "language": "python",
      "name": "python3"
    },
    "language_info": {
      "codemirror_mode": {
        "name": "ipython",
        "version": 3
      },
      "file_extension": ".py",
      "mimetype": "text/x-python",
      "name": "python",
      "nbconvert_exporter": "python",
      "pygments_lexer": "ipython3",
      "version": "3.7.1"
    }
  },
  "cells": [
    {
      "cell_type": "markdown",
      "metadata": {
        "id": "view-in-github",
        "colab_type": "text"
      },
      "source": [
        "<a href=\"https://colab.research.google.com/github/skhabiri/DS-Unit-1-Sprint-1-Data-Wrangling-and-Storytelling/blob/master/module2-make-features/Copy_of_LS_DS_112_Make_Features_Assignment.ipynb\" target=\"_parent\"><img src=\"https://colab.research.google.com/assets/colab-badge.svg\" alt=\"Open In Colab\"/></a>"
      ]
    },
    {
      "cell_type": "markdown",
      "metadata": {
        "id": "SnDJqBLi0FYW",
        "colab_type": "text"
      },
      "source": [
        "<img align=\"left\" src=\"https://lever-client-logos.s3.amazonaws.com/864372b1-534c-480e-acd5-9711f850815c-1524247202159.png\" width=200> "
      ]
    },
    {
      "cell_type": "markdown",
      "metadata": {
        "id": "W5GjI1z5yNG4",
        "colab_type": "text"
      },
      "source": [
        "# Assignment:\n",
        "\n",
        "- Replicate the lesson code.\n",
        "\n",
        " - This means that if you haven't followed along already, type out the things that we did in class. Forcing your fingers to hit each key will help you internalize the syntax of what we're doing. Make sure you understand each line of code that you're writing, google things that you don't fully understand.\n",
        " - [Lambda Learning Method for DS - By Ryan Herr](https://docs.google.com/document/d/1ubOw9B3Hfip27hF2ZFnW3a3z9xAgrUDRReOEo-FHCVs/edit?usp=sharing)\n",
        "- Convert the `term` column from string to integer.\n",
        "- Make a column named `loan_status_is_great`. It should contain the integer 1 if `loan_status` is \"Current\" or \"Fully Paid.\" Else it should contain the integer 0.\n",
        "- Make `last_pymnt_d_month` and `last_pymnt_d_year` columns."
      ]
    },
    {
      "cell_type": "code",
      "metadata": {
        "id": "AazB4eFwym2p",
        "colab_type": "code",
        "colab": {}
      },
      "source": [
        "##### Begin Working Here #####\n",
        "import pandas as pd\n",
        "\n",
        "# Pandas Display Options\n",
        "\n",
        "pd.set_option('display.max_rows', 150)\n",
        "pd.set_option('display.max_columns', 100)"
      ],
      "execution_count": 0,
      "outputs": []
    },
    {
      "cell_type": "code",
      "metadata": {
        "id": "H7vq_Ddj9Q7C",
        "colab_type": "code",
        "outputId": "0bf34ca0-f07e-4b9d-bb6b-a319e4afa6f8",
        "colab": {
          "base_uri": "https://localhost:8080/",
          "height": 204
        }
      },
      "source": [
        "!wget https://resources.lendingclub.com/LoanStats_2018Q4.csv.zip"
      ],
      "execution_count": 0,
      "outputs": [
        {
          "output_type": "stream",
          "text": [
            "--2020-06-02 22:30:24--  https://resources.lendingclub.com/LoanStats_2018Q4.csv.zip\n",
            "Resolving resources.lendingclub.com (resources.lendingclub.com)... 35.163.140.110, 44.228.179.66, 52.89.160.109\n",
            "Connecting to resources.lendingclub.com (resources.lendingclub.com)|35.163.140.110|:443... connected.\n",
            "HTTP request sent, awaiting response... 200 OK\n",
            "Length: unspecified [application/zip]\n",
            "Saving to: ‘LoanStats_2018Q4.csv.zip’\n",
            "\n",
            "LoanStats_2018Q4.cs     [                <=> ]  22.10M  2.09MB/s    in 11s     \n",
            "\n",
            "2020-06-02 22:30:36 (2.06 MB/s) - ‘LoanStats_2018Q4.csv.zip’ saved [23170772]\n",
            "\n"
          ],
          "name": "stdout"
        }
      ]
    },
    {
      "cell_type": "code",
      "metadata": {
        "id": "ui_Ck3su9k7-",
        "colab_type": "code",
        "outputId": "d85be4fe-320c-410d-b5d4-65292123f427",
        "colab": {
          "base_uri": "https://localhost:8080/",
          "height": 51
        }
      },
      "source": [
        "!unzip LoanStats_2018Q4.csv.zip"
      ],
      "execution_count": 0,
      "outputs": [
        {
          "output_type": "stream",
          "text": [
            "Archive:  LoanStats_2018Q4.csv.zip\n",
            "  inflating: LoanStats_2018Q4.csv    \n"
          ],
          "name": "stdout"
        }
      ]
    },
    {
      "cell_type": "code",
      "metadata": {
        "id": "sOKSM_rI9nIm",
        "colab_type": "code",
        "outputId": "5082f432-fe9f-4f5f-95fd-cf9d4148f83f",
        "colab": {
          "base_uri": "https://localhost:8080/",
          "height": 207
        }
      },
      "source": [
        "!head LoanStats_2018Q4.csv"
      ],
      "execution_count": 0,
      "outputs": [
        {
          "output_type": "stream",
          "text": [
            "Notes offered by Prospectus (https://www.lendingclub.com/info/prospectus.action)\n",
            "\"id\",\"member_id\",\"loan_amnt\",\"funded_amnt\",\"funded_amnt_inv\",\"term\",\"int_rate\",\"installment\",\"grade\",\"sub_grade\",\"emp_title\",\"emp_length\",\"home_ownership\",\"annual_inc\",\"verification_status\",\"issue_d\",\"loan_status\",\"pymnt_plan\",\"url\",\"desc\",\"purpose\",\"title\",\"zip_code\",\"addr_state\",\"dti\",\"delinq_2yrs\",\"earliest_cr_line\",\"inq_last_6mths\",\"mths_since_last_delinq\",\"mths_since_last_record\",\"open_acc\",\"pub_rec\",\"revol_bal\",\"revol_util\",\"total_acc\",\"initial_list_status\",\"out_prncp\",\"out_prncp_inv\",\"total_pymnt\",\"total_pymnt_inv\",\"total_rec_prncp\",\"total_rec_int\",\"total_rec_late_fee\",\"recoveries\",\"collection_recovery_fee\",\"last_pymnt_d\",\"last_pymnt_amnt\",\"next_pymnt_d\",\"last_credit_pull_d\",\"collections_12_mths_ex_med\",\"mths_since_last_major_derog\",\"policy_code\",\"application_type\",\"annual_inc_joint\",\"dti_joint\",\"verification_status_joint\",\"acc_now_delinq\",\"tot_coll_amt\",\"tot_cur_bal\",\"open_acc_6m\",\"open_act_il\",\"open_il_12m\",\"open_il_24m\",\"mths_since_rcnt_il\",\"total_bal_il\",\"il_util\",\"open_rv_12m\",\"open_rv_24m\",\"max_bal_bc\",\"all_util\",\"total_rev_hi_lim\",\"inq_fi\",\"total_cu_tl\",\"inq_last_12m\",\"acc_open_past_24mths\",\"avg_cur_bal\",\"bc_open_to_buy\",\"bc_util\",\"chargeoff_within_12_mths\",\"delinq_amnt\",\"mo_sin_old_il_acct\",\"mo_sin_old_rev_tl_op\",\"mo_sin_rcnt_rev_tl_op\",\"mo_sin_rcnt_tl\",\"mort_acc\",\"mths_since_recent_bc\",\"mths_since_recent_bc_dlq\",\"mths_since_recent_inq\",\"mths_since_recent_revol_delinq\",\"num_accts_ever_120_pd\",\"num_actv_bc_tl\",\"num_actv_rev_tl\",\"num_bc_sats\",\"num_bc_tl\",\"num_il_tl\",\"num_op_rev_tl\",\"num_rev_accts\",\"num_rev_tl_bal_gt_0\",\"num_sats\",\"num_tl_120dpd_2m\",\"num_tl_30dpd\",\"num_tl_90g_dpd_24m\",\"num_tl_op_past_12m\",\"pct_tl_nvr_dlq\",\"percent_bc_gt_75\",\"pub_rec_bankruptcies\",\"tax_liens\",\"tot_hi_cred_lim\",\"total_bal_ex_mort\",\"total_bc_limit\",\"total_il_high_credit_limit\",\"revol_bal_joint\",\"sec_app_earliest_cr_line\",\"sec_app_inq_last_6mths\",\"sec_app_mort_acc\",\"sec_app_open_acc\",\"sec_app_revol_util\",\"sec_app_open_act_il\",\"sec_app_num_rev_accts\",\"sec_app_chargeoff_within_12_mths\",\"sec_app_collections_12_mths_ex_med\",\"sec_app_mths_since_last_major_derog\",\"hardship_flag\",\"hardship_type\",\"hardship_reason\",\"hardship_status\",\"deferral_term\",\"hardship_amount\",\"hardship_start_date\",\"hardship_end_date\",\"payment_plan_start_date\",\"hardship_length\",\"hardship_dpd\",\"hardship_loan_status\",\"orig_projected_additional_accrued_interest\",\"hardship_payoff_balance_amount\",\"hardship_last_payment_amount\",\"debt_settlement_flag\",\"debt_settlement_flag_date\",\"settlement_status\",\"settlement_date\",\"settlement_amount\",\"settlement_percentage\",\"settlement_term\"\n",
            "\"\",\"\",\"20000\",\"20000\",\"20000\",\" 36 months\",\" 14.47%\",\"688.13\",\"C\",\"C2\",\"bus driver\",\"4 years\",\"OWN\",\"52000\",\"Source Verified\",\"Dec-2018\",\"Charged Off\",\"n\",\"\",\"\",\"debt_consolidation\",\"Debt consolidation\",\"681xx\",\"NE\",\"30.65\",\"1\",\"Jun-1979\",\"2\",\"15\",\"\",\"6\",\"0\",\"15048\",\"73%\",\"22\",\"w\",\"0.00\",\"0.00\",\"8169.13\",\"8169.13\",\"5731.54\",\"2437.59\",\"0.0\",\"0.0\",\"0.0\",\"Feb-2020\",\"0.0\",\"\",\"Mar-2020\",\"0\",\"\",\"1\",\"Individual\",\"\",\"\",\"\",\"0\",\"0\",\"33157\",\"0\",\"2\",\"1\",\"1\",\"8\",\"18109\",\"44\",\"1\",\"2\",\"8628\",\"73\",\"20700\",\"1\",\"1\",\"4\",\"3\",\"5526\",\"5175\",\"73\",\"0\",\"0\",\"141\",\"474\",\"10\",\"8\",\"0\",\"10\",\"15\",\"1\",\"15\",\"0\",\"4\",\"4\",\"11\",\"12\",\"8\",\"4\",\"14\",\"4\",\"6\",\"\",\"0\",\"0\",\"2\",\"95\",\"50\",\"0\",\"0\",\"61699\",\"33157\",\"20700\",\"40999\",\"\",\"\",\"\",\"\",\"\",\"\",\"\",\"\",\"\",\"\",\"\",\"\",\"\",\"\",\"\",\"\",\"688.13\",\"\",\"\",\"\",\"\",\"\",\"\",\"0\",\"0\",\"688.13\",\"N\",\"\",\"\",\"\",\"\",\"\",\"\"\n",
            "\"\",\"\",\"16000\",\"16000\",\"16000\",\" 36 months\",\" 14.47%\",\"550.51\",\"C\",\"C2\",\"Carpenter\",\"10+ years\",\"RENT\",\"150000\",\"Source Verified\",\"Dec-2018\",\"Current\",\"n\",\"\",\"\",\"other\",\"Other\",\"917xx\",\"CA\",\"17.94\",\"0\",\"Nov-2001\",\"1\",\"\",\"\",\"24\",\"0\",\"43721\",\"59.2%\",\"29\",\"w\",\"9726.53\",\"9726.53\",\"8788.87\",\"8788.87\",\"6273.47\",\"2515.40\",\"0.0\",\"0.0\",\"0.0\",\"May-2020\",\"0.0\",\"Jun-2020\",\"May-2020\",\"0\",\"\",\"1\",\"Individual\",\"\",\"\",\"\",\"0\",\"0\",\"57465\",\"0\",\"2\",\"0\",\"0\",\"36\",\"13744\",\"8\",\"0\",\"8\",\"7445\",\"56\",\"73800\",\"0\",\"0\",\"3\",\"8\",\"2498\",\"4117\",\"87.2\",\"0\",\"0\",\"159\",\"205\",\"13\",\"13\",\"0\",\"13\",\"\",\"2\",\"\",\"0\",\"7\",\"19\",\"7\",\"7\",\"4\",\"22\",\"25\",\"19\",\"24\",\"0\",\"0\",\"0\",\"0\",\"100\",\"85.7\",\"0\",\"0\",\"116647\",\"57465\",\"32100\",\"42847\",\"\",\"\",\"\",\"\",\"\",\"\",\"\",\"\",\"\",\"\",\"\",\"N\",\"\",\"\",\"\",\"\",\"\",\"\",\"\",\"\",\"\",\"\",\"\",\"\",\"\",\"\",\"N\",\"\",\"\",\"\",\"\",\"\",\"\"\n",
            "\"\",\"\",\"8425\",\"8425\",\"8425\",\" 36 months\",\" 27.27%\",\"345.18\",\"E\",\"E5\",\"Senior Director Risk Management\",\"3 years\",\"MORTGAGE\",\"450000\",\"Verified\",\"Dec-2018\",\"Fully Paid\",\"n\",\"\",\"\",\"credit_card\",\"Credit card refinancing\",\"020xx\",\"MA\",\"12.37\",\"0\",\"Oct-1997\",\"0\",\"\",\"\",\"21\",\"0\",\"36812\",\"65.7%\",\"37\",\"w\",\"0.00\",\"0.00\",\"8735.1489749534\",\"8735.15\",\"8425.00\",\"310.15\",\"0.0\",\"0.0\",\"0.0\",\"Feb-2019\",\"8754.3\",\"\",\"Mar-2020\",\"0\",\"\",\"1\",\"Joint App\",\"515000\",\"16.47\",\"Not Verified\",\"0\",\"0\",\"690320\",\"0\",\"6\",\"1\",\"6\",\"12\",\"152382\",\"70\",\"1\",\"4\",\"9744\",\"68\",\"56000\",\"7\",\"0\",\"5\",\"10\",\"34516\",\"11632\",\"74.6\",\"0\",\"0\",\"254\",\"89\",\"12\",\"12\",\"4\",\"18\",\"\",\"4\",\"\",\"0\",\"6\",\"8\",\"8\",\"10\",\"16\",\"13\",\"17\",\"8\",\"21\",\"0\",\"0\",\"0\",\"2\",\"100\",\"50\",\"0\",\"0\",\"768304\",\"189194\",\"45800\",\"189054\",\"141905\",\"Jun-2013\",\"0\",\"1\",\"4\",\"77.4\",\"1\",\"4\",\"0\",\"0\",\"\",\"N\",\"\",\"\",\"\",\"\",\"\",\"\",\"\",\"\",\"\",\"\",\"\",\"\",\"\",\"\",\"N\",\"\",\"\",\"\",\"\",\"\",\"\"\n",
            "\"\",\"\",\"10000\",\"10000\",\"10000\",\" 60 months\",\" 12.98%\",\"227.43\",\"B\",\"B5\",\"Printer\",\"9 years\",\"RENT\",\"60000\",\"Not Verified\",\"Dec-2018\",\"Current\",\"n\",\"\",\"\",\"credit_card\",\"Credit card refinancing\",\"660xx\",\"KS\",\"14.9\",\"0\",\"May-2007\",\"0\",\"\",\"112\",\"7\",\"1\",\"10677\",\"54.2%\",\"12\",\"w\",\"7787.21\",\"7787.21\",\"3805.02\",\"3805.02\",\"2212.79\",\"1592.23\",\"0.0\",\"0.0\",\"0.0\",\"May-2020\",\"227.43\",\"Jun-2020\",\"May-2020\",\"0\",\"\",\"1\",\"Individual\",\"\",\"\",\"\",\"0\",\"469\",\"27595\",\"0\",\"2\",\"1\",\"1\",\"11\",\"16918\",\"103\",\"0\",\"1\",\"4337\",\"76\",\"19700\",\"5\",\"0\",\"7\",\"2\",\"3942\",\"4278\",\"67.1\",\"0\",\"0\",\"139\",\"74\",\"20\",\"11\",\"0\",\"20\",\"\",\"0\",\"\",\"0\",\"3\",\"5\",\"3\",\"4\",\"6\",\"5\",\"6\",\"5\",\"7\",\"0\",\"0\",\"0\",\"1\",\"100\",\"33.3\",\"1\",\"0\",\"36200\",\"27595\",\"13000\",\"16500\",\"\",\"\",\"\",\"\",\"\",\"\",\"\",\"\",\"\",\"\",\"\",\"N\",\"\",\"\",\"\",\"\",\"\",\"\",\"\",\"\",\"\",\"\",\"\",\"\",\"\",\"\",\"N\",\"\",\"\",\"\",\"\",\"\",\"\"\n",
            "\"\",\"\",\"30000\",\"30000\",\"30000\",\" 60 months\",\" 26.31%\",\"903.73\",\"E\",\"E4\",\"Casino Host\",\"10+ years\",\"OWN\",\"62000\",\"Source Verified\",\"Dec-2018\",\"Charged Off\",\"n\",\"\",\"\",\"debt_consolidation\",\"Debt consolidation\",\"920xx\",\"CA\",\"37.24\",\"0\",\"Oct-2007\",\"0\",\"\",\"86\",\"15\",\"1\",\"18890\",\"39.8%\",\"36\",\"w\",\"0.00\",\"0.00\",\"2645.41\",\"2645.41\",\"754.24\",\"1891.17\",\"0.0\",\"0.0\",\"0.0\",\"Apr-2019\",\"903.73\",\"\",\"May-2020\",\"0\",\"\",\"1\",\"Individual\",\"\",\"\",\"\",\"0\",\"0\",\"104590\",\"1\",\"2\",\"1\",\"2\",\"6\",\"85700\",\"86\",\"0\",\"3\",\"5976\",\"49\",\"47500\",\"4\",\"0\",\"8\",\"5\",\"6973\",\"17510\",\"51.9\",\"0\",\"0\",\"134\",\"104\",\"13\",\"6\",\"0\",\"13\",\"\",\"6\",\"\",\"0\",\"5\",\"5\",\"7\",\"7\",\"20\",\"13\",\"16\",\"5\",\"15\",\"0\",\"0\",\"0\",\"1\",\"100\",\"14.3\",\"1\",\"0\",\"138354\",\"104590\",\"36400\",\"90854\",\"\",\"\",\"\",\"\",\"\",\"\",\"\",\"\",\"\",\"\",\"\",\"N\",\"\",\"\",\"\",\"\",\"\",\"\",\"\",\"\",\"\",\"\",\"\",\"\",\"\",\"\",\"N\",\"\",\"\",\"\",\"\",\"\",\"\"\n",
            "\"\",\"\",\"13000\",\"13000\",\"13000\",\" 36 months\",\" 17.97%\",\"469.79\",\"D\",\"D1\",\"Help Tech Supervisor\",\"10+ years\",\"MORTGAGE\",\"92360\",\"Source Verified\",\"Dec-2018\",\"Current\",\"n\",\"\",\"\",\"home_improvement\",\"Home improvement\",\"300xx\",\"GA\",\"27.44\",\"0\",\"Sep-2006\",\"1\",\"68\",\"\",\"18\",\"0\",\"32020\",\"49.6%\",\"30\",\"w\",\"8062.80\",\"8062.80\",\"7497.17\",\"7497.17\",\"4937.20\",\"2559.97\",\"0.0\",\"0.0\",\"0.0\",\"May-2020\",\"0.0\",\"Jun-2020\",\"May-2020\",\"0\",\"\",\"1\",\"Individual\",\"\",\"\",\"\",\"0\",\"0\",\"131919\",\"1\",\"2\",\"1\",\"3\",\"4\",\"17310\",\"60\",\"0\",\"2\",\"6116\",\"53\",\"64600\",\"1\",\"4\",\"1\",\"5\",\"7760\",\"7140\",\"70.7\",\"0\",\"0\",\"120\",\"147\",\"16\",\"4\",\"2\",\"18\",\"\",\"4\",\"70\",\"0\",\"5\",\"12\",\"6\",\"7\",\"6\",\"15\",\"22\",\"12\",\"18\",\"0\",\"0\",\"0\",\"1\",\"90\",\"66.7\",\"0\",\"0\",\"190803\",\"49330\",\"24400\",\"28861\",\"\",\"\",\"\",\"\",\"\",\"\",\"\",\"\",\"\",\"\",\"\",\"N\",\"\",\"\",\"\",\"\",\"\",\"\",\"\",\"\",\"\",\"\",\"\",\"\",\"\",\"\",\"N\",\"\",\"\",\"\",\"\",\"\",\"\"\n",
            "\"\",\"\",\"6500\",\"6500\",\"6500\",\" 36 months\",\" 11.80%\",\"215.28\",\"B\",\"B4\",\"Educator \",\"2 years\",\"RENT\",\"46500\",\"Source Verified\",\"Dec-2018\",\"Current\",\"n\",\"\",\"\",\"debt_consolidation\",\"Debt consolidation\",\"352xx\",\"AL\",\"21.01\",\"0\",\"Aug-2011\",\"1\",\"61\",\"\",\"24\",\"0\",\"6741\",\"41.6%\",\"30\",\"w\",\"3889.63\",\"3889.63\",\"3438.09\",\"3438.09\",\"2610.37\",\"827.72\",\"0.0\",\"0.0\",\"0.0\",\"May-2020\",\"0.0\",\"Jun-2020\",\"May-2020\",\"0\",\"61\",\"1\",\"Individual\",\"\",\"\",\"\",\"0\",\"0\",\"40223\",\"4\",\"12\",\"2\",\"2\",\"5\",\"33482\",\"97\",\"7\",\"12\",\"3662\",\"79\",\"16200\",\"2\",\"0\",\"4\",\"14\",\"1749\",\"7694\",\"42.2\",\"0\",\"0\",\"88\",\"72\",\"1\",\"1\",\"0\",\"3\",\"\",\"5\",\"61\",\"2\",\"6\",\"10\",\"6\",\"6\",\"14\",\"11\",\"16\",\"10\",\"24\",\"0\",\"0\",\"0\",\"9\",\"93.3\",\"0\",\"0\",\"0\",\"50845\",\"40223\",\"13300\",\"34645\",\"\",\"\",\"\",\"\",\"\",\"\",\"\",\"\",\"\",\"\",\"\",\"N\",\"\",\"\",\"\",\"\",\"\",\"\",\"\",\"\",\"\",\"\",\"\",\"\",\"\",\"\",\"N\",\"\",\"\",\"\",\"\",\"\",\"\"\n",
            "\"\",\"\",\"7500\",\"7500\",\"7500\",\" 36 months\",\" 10.72%\",\"244.55\",\"B\",\"B2\",\"Program Manager\",\"2 years\",\"RENT\",\"84000\",\"Not Verified\",\"Dec-2018\",\"Charged Off\",\"n\",\"\",\"\",\"debt_consolidation\",\"Debt consolidation\",\"600xx\",\"IL\",\"3.86\",\"0\",\"May-2005\",\"1\",\"\",\"114\",\"9\",\"1\",\"2200\",\"12.6%\",\"17\",\"w\",\"0.00\",\"0.00\",\"2829.93\",\"2829.93\",\"1465.61\",\"484.09\",\"0.0\",\"880.23\",\"158.4414\",\"Sep-2019\",\"244.55\",\"\",\"Mar-2020\",\"0\",\"\",\"1\",\"Individual\",\"\",\"\",\"\",\"0\",\"0\",\"381442\",\"1\",\"5\",\"2\",\"2\",\"3\",\"18633\",\"111\",\"0\",\"2\",\"2123\",\"61\",\"17400\",\"3\",\"1\",\"3\",\"5\",\"42382\",\"15200\",\"12.6\",\"0\",\"0\",\"163\",\"105\",\"13\",\"3\",\"1\",\"13\",\"\",\"3\",\"\",\"0\",\"2\",\"2\",\"3\",\"4\",\"10\",\"3\",\"6\",\"2\",\"9\",\"0\",\"0\",\"0\",\"2\",\"76.5\",\"0\",\"1\",\"0\",\"403892\",\"20833\",\"17400\",\"16812\",\"\",\"\",\"\",\"\",\"\",\"\",\"\",\"\",\"\",\"\",\"\",\"N\",\"\",\"\",\"\",\"\",\"\",\"\",\"\",\"\",\"\",\"\",\"\",\"\",\"\",\"\",\"N\",\"\",\"\",\"\",\"\",\"\",\"\"\n"
          ],
          "name": "stdout"
        }
      ]
    },
    {
      "cell_type": "code",
      "metadata": {
        "id": "B5vvJY0s98w5",
        "colab_type": "code",
        "colab": {}
      },
      "source": [
        "df = pd.read_csv('LoanStats_2018Q4.csv', header=1, skipfooter=2, engine='python')"
      ],
      "execution_count": 0,
      "outputs": []
    },
    {
      "cell_type": "code",
      "metadata": {
        "id": "wl9dPOYD-Whi",
        "colab_type": "code",
        "outputId": "c54acde0-aa33-46c2-8a7b-9980764556c3",
        "colab": {
          "base_uri": "https://localhost:8080/",
          "height": 355
        }
      },
      "source": [
        "df.head()"
      ],
      "execution_count": 0,
      "outputs": [
        {
          "output_type": "execute_result",
          "data": {
            "text/html": [
              "<div>\n",
              "<style scoped>\n",
              "    .dataframe tbody tr th:only-of-type {\n",
              "        vertical-align: middle;\n",
              "    }\n",
              "\n",
              "    .dataframe tbody tr th {\n",
              "        vertical-align: top;\n",
              "    }\n",
              "\n",
              "    .dataframe thead th {\n",
              "        text-align: right;\n",
              "    }\n",
              "</style>\n",
              "<table border=\"1\" class=\"dataframe\">\n",
              "  <thead>\n",
              "    <tr style=\"text-align: right;\">\n",
              "      <th></th>\n",
              "      <th>id</th>\n",
              "      <th>member_id</th>\n",
              "      <th>loan_amnt</th>\n",
              "      <th>funded_amnt</th>\n",
              "      <th>funded_amnt_inv</th>\n",
              "      <th>term</th>\n",
              "      <th>int_rate</th>\n",
              "      <th>installment</th>\n",
              "      <th>grade</th>\n",
              "      <th>sub_grade</th>\n",
              "      <th>emp_title</th>\n",
              "      <th>emp_length</th>\n",
              "      <th>home_ownership</th>\n",
              "      <th>annual_inc</th>\n",
              "      <th>verification_status</th>\n",
              "      <th>issue_d</th>\n",
              "      <th>loan_status</th>\n",
              "      <th>pymnt_plan</th>\n",
              "      <th>url</th>\n",
              "      <th>desc</th>\n",
              "      <th>purpose</th>\n",
              "      <th>title</th>\n",
              "      <th>zip_code</th>\n",
              "      <th>addr_state</th>\n",
              "      <th>dti</th>\n",
              "      <th>delinq_2yrs</th>\n",
              "      <th>earliest_cr_line</th>\n",
              "      <th>inq_last_6mths</th>\n",
              "      <th>mths_since_last_delinq</th>\n",
              "      <th>mths_since_last_record</th>\n",
              "      <th>open_acc</th>\n",
              "      <th>pub_rec</th>\n",
              "      <th>revol_bal</th>\n",
              "      <th>revol_util</th>\n",
              "      <th>total_acc</th>\n",
              "      <th>initial_list_status</th>\n",
              "      <th>out_prncp</th>\n",
              "      <th>out_prncp_inv</th>\n",
              "      <th>total_pymnt</th>\n",
              "      <th>total_pymnt_inv</th>\n",
              "      <th>total_rec_prncp</th>\n",
              "      <th>total_rec_int</th>\n",
              "      <th>total_rec_late_fee</th>\n",
              "      <th>recoveries</th>\n",
              "      <th>collection_recovery_fee</th>\n",
              "      <th>last_pymnt_d</th>\n",
              "      <th>last_pymnt_amnt</th>\n",
              "      <th>next_pymnt_d</th>\n",
              "      <th>last_credit_pull_d</th>\n",
              "      <th>collections_12_mths_ex_med</th>\n",
              "      <th>...</th>\n",
              "      <th>num_il_tl</th>\n",
              "      <th>num_op_rev_tl</th>\n",
              "      <th>num_rev_accts</th>\n",
              "      <th>num_rev_tl_bal_gt_0</th>\n",
              "      <th>num_sats</th>\n",
              "      <th>num_tl_120dpd_2m</th>\n",
              "      <th>num_tl_30dpd</th>\n",
              "      <th>num_tl_90g_dpd_24m</th>\n",
              "      <th>num_tl_op_past_12m</th>\n",
              "      <th>pct_tl_nvr_dlq</th>\n",
              "      <th>percent_bc_gt_75</th>\n",
              "      <th>pub_rec_bankruptcies</th>\n",
              "      <th>tax_liens</th>\n",
              "      <th>tot_hi_cred_lim</th>\n",
              "      <th>total_bal_ex_mort</th>\n",
              "      <th>total_bc_limit</th>\n",
              "      <th>total_il_high_credit_limit</th>\n",
              "      <th>revol_bal_joint</th>\n",
              "      <th>sec_app_earliest_cr_line</th>\n",
              "      <th>sec_app_inq_last_6mths</th>\n",
              "      <th>sec_app_mort_acc</th>\n",
              "      <th>sec_app_open_acc</th>\n",
              "      <th>sec_app_revol_util</th>\n",
              "      <th>sec_app_open_act_il</th>\n",
              "      <th>sec_app_num_rev_accts</th>\n",
              "      <th>sec_app_chargeoff_within_12_mths</th>\n",
              "      <th>sec_app_collections_12_mths_ex_med</th>\n",
              "      <th>sec_app_mths_since_last_major_derog</th>\n",
              "      <th>hardship_flag</th>\n",
              "      <th>hardship_type</th>\n",
              "      <th>hardship_reason</th>\n",
              "      <th>hardship_status</th>\n",
              "      <th>deferral_term</th>\n",
              "      <th>hardship_amount</th>\n",
              "      <th>hardship_start_date</th>\n",
              "      <th>hardship_end_date</th>\n",
              "      <th>payment_plan_start_date</th>\n",
              "      <th>hardship_length</th>\n",
              "      <th>hardship_dpd</th>\n",
              "      <th>hardship_loan_status</th>\n",
              "      <th>orig_projected_additional_accrued_interest</th>\n",
              "      <th>hardship_payoff_balance_amount</th>\n",
              "      <th>hardship_last_payment_amount</th>\n",
              "      <th>debt_settlement_flag</th>\n",
              "      <th>debt_settlement_flag_date</th>\n",
              "      <th>settlement_status</th>\n",
              "      <th>settlement_date</th>\n",
              "      <th>settlement_amount</th>\n",
              "      <th>settlement_percentage</th>\n",
              "      <th>settlement_term</th>\n",
              "    </tr>\n",
              "  </thead>\n",
              "  <tbody>\n",
              "    <tr>\n",
              "      <th>0</th>\n",
              "      <td>NaN</td>\n",
              "      <td>NaN</td>\n",
              "      <td>20000</td>\n",
              "      <td>20000</td>\n",
              "      <td>20000.0</td>\n",
              "      <td>36 months</td>\n",
              "      <td>14.47%</td>\n",
              "      <td>688.13</td>\n",
              "      <td>C</td>\n",
              "      <td>C2</td>\n",
              "      <td>bus driver</td>\n",
              "      <td>4 years</td>\n",
              "      <td>OWN</td>\n",
              "      <td>52000.0</td>\n",
              "      <td>Source Verified</td>\n",
              "      <td>Dec-2018</td>\n",
              "      <td>Charged Off</td>\n",
              "      <td>n</td>\n",
              "      <td>NaN</td>\n",
              "      <td>NaN</td>\n",
              "      <td>debt_consolidation</td>\n",
              "      <td>Debt consolidation</td>\n",
              "      <td>681xx</td>\n",
              "      <td>NE</td>\n",
              "      <td>30.65</td>\n",
              "      <td>1</td>\n",
              "      <td>Jun-1979</td>\n",
              "      <td>2</td>\n",
              "      <td>15.0</td>\n",
              "      <td>NaN</td>\n",
              "      <td>6</td>\n",
              "      <td>0</td>\n",
              "      <td>15048</td>\n",
              "      <td>73%</td>\n",
              "      <td>22</td>\n",
              "      <td>w</td>\n",
              "      <td>0.00</td>\n",
              "      <td>0.00</td>\n",
              "      <td>8169.130000</td>\n",
              "      <td>8169.13</td>\n",
              "      <td>5731.54</td>\n",
              "      <td>2437.59</td>\n",
              "      <td>0.0</td>\n",
              "      <td>0.0</td>\n",
              "      <td>0.0</td>\n",
              "      <td>Feb-2020</td>\n",
              "      <td>0.00</td>\n",
              "      <td>NaN</td>\n",
              "      <td>Mar-2020</td>\n",
              "      <td>0</td>\n",
              "      <td>...</td>\n",
              "      <td>8</td>\n",
              "      <td>4</td>\n",
              "      <td>14</td>\n",
              "      <td>4</td>\n",
              "      <td>6</td>\n",
              "      <td>NaN</td>\n",
              "      <td>0</td>\n",
              "      <td>0</td>\n",
              "      <td>2</td>\n",
              "      <td>95.0</td>\n",
              "      <td>50.0</td>\n",
              "      <td>0</td>\n",
              "      <td>0</td>\n",
              "      <td>61699</td>\n",
              "      <td>33157</td>\n",
              "      <td>20700</td>\n",
              "      <td>40999</td>\n",
              "      <td>NaN</td>\n",
              "      <td>NaN</td>\n",
              "      <td>NaN</td>\n",
              "      <td>NaN</td>\n",
              "      <td>NaN</td>\n",
              "      <td>NaN</td>\n",
              "      <td>NaN</td>\n",
              "      <td>NaN</td>\n",
              "      <td>NaN</td>\n",
              "      <td>NaN</td>\n",
              "      <td>NaN</td>\n",
              "      <td>NaN</td>\n",
              "      <td>NaN</td>\n",
              "      <td>NaN</td>\n",
              "      <td>NaN</td>\n",
              "      <td>NaN</td>\n",
              "      <td>688.13</td>\n",
              "      <td>NaN</td>\n",
              "      <td>NaN</td>\n",
              "      <td>NaN</td>\n",
              "      <td>NaN</td>\n",
              "      <td>NaN</td>\n",
              "      <td>NaN</td>\n",
              "      <td>0.0</td>\n",
              "      <td>0.0</td>\n",
              "      <td>688.13</td>\n",
              "      <td>N</td>\n",
              "      <td>NaN</td>\n",
              "      <td>NaN</td>\n",
              "      <td>NaN</td>\n",
              "      <td>NaN</td>\n",
              "      <td>NaN</td>\n",
              "      <td>NaN</td>\n",
              "    </tr>\n",
              "    <tr>\n",
              "      <th>1</th>\n",
              "      <td>NaN</td>\n",
              "      <td>NaN</td>\n",
              "      <td>16000</td>\n",
              "      <td>16000</td>\n",
              "      <td>16000.0</td>\n",
              "      <td>36 months</td>\n",
              "      <td>14.47%</td>\n",
              "      <td>550.51</td>\n",
              "      <td>C</td>\n",
              "      <td>C2</td>\n",
              "      <td>Carpenter</td>\n",
              "      <td>10+ years</td>\n",
              "      <td>RENT</td>\n",
              "      <td>150000.0</td>\n",
              "      <td>Source Verified</td>\n",
              "      <td>Dec-2018</td>\n",
              "      <td>Current</td>\n",
              "      <td>n</td>\n",
              "      <td>NaN</td>\n",
              "      <td>NaN</td>\n",
              "      <td>other</td>\n",
              "      <td>Other</td>\n",
              "      <td>917xx</td>\n",
              "      <td>CA</td>\n",
              "      <td>17.94</td>\n",
              "      <td>0</td>\n",
              "      <td>Nov-2001</td>\n",
              "      <td>1</td>\n",
              "      <td>NaN</td>\n",
              "      <td>NaN</td>\n",
              "      <td>24</td>\n",
              "      <td>0</td>\n",
              "      <td>43721</td>\n",
              "      <td>59.2%</td>\n",
              "      <td>29</td>\n",
              "      <td>w</td>\n",
              "      <td>9726.53</td>\n",
              "      <td>9726.53</td>\n",
              "      <td>8788.870000</td>\n",
              "      <td>8788.87</td>\n",
              "      <td>6273.47</td>\n",
              "      <td>2515.40</td>\n",
              "      <td>0.0</td>\n",
              "      <td>0.0</td>\n",
              "      <td>0.0</td>\n",
              "      <td>May-2020</td>\n",
              "      <td>0.00</td>\n",
              "      <td>Jun-2020</td>\n",
              "      <td>May-2020</td>\n",
              "      <td>0</td>\n",
              "      <td>...</td>\n",
              "      <td>4</td>\n",
              "      <td>22</td>\n",
              "      <td>25</td>\n",
              "      <td>19</td>\n",
              "      <td>24</td>\n",
              "      <td>0.0</td>\n",
              "      <td>0</td>\n",
              "      <td>0</td>\n",
              "      <td>0</td>\n",
              "      <td>100.0</td>\n",
              "      <td>85.7</td>\n",
              "      <td>0</td>\n",
              "      <td>0</td>\n",
              "      <td>116647</td>\n",
              "      <td>57465</td>\n",
              "      <td>32100</td>\n",
              "      <td>42847</td>\n",
              "      <td>NaN</td>\n",
              "      <td>NaN</td>\n",
              "      <td>NaN</td>\n",
              "      <td>NaN</td>\n",
              "      <td>NaN</td>\n",
              "      <td>NaN</td>\n",
              "      <td>NaN</td>\n",
              "      <td>NaN</td>\n",
              "      <td>NaN</td>\n",
              "      <td>NaN</td>\n",
              "      <td>NaN</td>\n",
              "      <td>N</td>\n",
              "      <td>NaN</td>\n",
              "      <td>NaN</td>\n",
              "      <td>NaN</td>\n",
              "      <td>NaN</td>\n",
              "      <td>NaN</td>\n",
              "      <td>NaN</td>\n",
              "      <td>NaN</td>\n",
              "      <td>NaN</td>\n",
              "      <td>NaN</td>\n",
              "      <td>NaN</td>\n",
              "      <td>NaN</td>\n",
              "      <td>NaN</td>\n",
              "      <td>NaN</td>\n",
              "      <td>NaN</td>\n",
              "      <td>N</td>\n",
              "      <td>NaN</td>\n",
              "      <td>NaN</td>\n",
              "      <td>NaN</td>\n",
              "      <td>NaN</td>\n",
              "      <td>NaN</td>\n",
              "      <td>NaN</td>\n",
              "    </tr>\n",
              "    <tr>\n",
              "      <th>2</th>\n",
              "      <td>NaN</td>\n",
              "      <td>NaN</td>\n",
              "      <td>8425</td>\n",
              "      <td>8425</td>\n",
              "      <td>8425.0</td>\n",
              "      <td>36 months</td>\n",
              "      <td>27.27%</td>\n",
              "      <td>345.18</td>\n",
              "      <td>E</td>\n",
              "      <td>E5</td>\n",
              "      <td>Senior Director Risk Management</td>\n",
              "      <td>3 years</td>\n",
              "      <td>MORTGAGE</td>\n",
              "      <td>450000.0</td>\n",
              "      <td>Verified</td>\n",
              "      <td>Dec-2018</td>\n",
              "      <td>Fully Paid</td>\n",
              "      <td>n</td>\n",
              "      <td>NaN</td>\n",
              "      <td>NaN</td>\n",
              "      <td>credit_card</td>\n",
              "      <td>Credit card refinancing</td>\n",
              "      <td>020xx</td>\n",
              "      <td>MA</td>\n",
              "      <td>12.37</td>\n",
              "      <td>0</td>\n",
              "      <td>Oct-1997</td>\n",
              "      <td>0</td>\n",
              "      <td>NaN</td>\n",
              "      <td>NaN</td>\n",
              "      <td>21</td>\n",
              "      <td>0</td>\n",
              "      <td>36812</td>\n",
              "      <td>65.7%</td>\n",
              "      <td>37</td>\n",
              "      <td>w</td>\n",
              "      <td>0.00</td>\n",
              "      <td>0.00</td>\n",
              "      <td>8735.148975</td>\n",
              "      <td>8735.15</td>\n",
              "      <td>8425.00</td>\n",
              "      <td>310.15</td>\n",
              "      <td>0.0</td>\n",
              "      <td>0.0</td>\n",
              "      <td>0.0</td>\n",
              "      <td>Feb-2019</td>\n",
              "      <td>8754.30</td>\n",
              "      <td>NaN</td>\n",
              "      <td>Mar-2020</td>\n",
              "      <td>0</td>\n",
              "      <td>...</td>\n",
              "      <td>16</td>\n",
              "      <td>13</td>\n",
              "      <td>17</td>\n",
              "      <td>8</td>\n",
              "      <td>21</td>\n",
              "      <td>0.0</td>\n",
              "      <td>0</td>\n",
              "      <td>0</td>\n",
              "      <td>2</td>\n",
              "      <td>100.0</td>\n",
              "      <td>50.0</td>\n",
              "      <td>0</td>\n",
              "      <td>0</td>\n",
              "      <td>768304</td>\n",
              "      <td>189194</td>\n",
              "      <td>45800</td>\n",
              "      <td>189054</td>\n",
              "      <td>141905.0</td>\n",
              "      <td>Jun-2013</td>\n",
              "      <td>0.0</td>\n",
              "      <td>1.0</td>\n",
              "      <td>4.0</td>\n",
              "      <td>77.4</td>\n",
              "      <td>1.0</td>\n",
              "      <td>4.0</td>\n",
              "      <td>0.0</td>\n",
              "      <td>0.0</td>\n",
              "      <td>NaN</td>\n",
              "      <td>N</td>\n",
              "      <td>NaN</td>\n",
              "      <td>NaN</td>\n",
              "      <td>NaN</td>\n",
              "      <td>NaN</td>\n",
              "      <td>NaN</td>\n",
              "      <td>NaN</td>\n",
              "      <td>NaN</td>\n",
              "      <td>NaN</td>\n",
              "      <td>NaN</td>\n",
              "      <td>NaN</td>\n",
              "      <td>NaN</td>\n",
              "      <td>NaN</td>\n",
              "      <td>NaN</td>\n",
              "      <td>NaN</td>\n",
              "      <td>N</td>\n",
              "      <td>NaN</td>\n",
              "      <td>NaN</td>\n",
              "      <td>NaN</td>\n",
              "      <td>NaN</td>\n",
              "      <td>NaN</td>\n",
              "      <td>NaN</td>\n",
              "    </tr>\n",
              "    <tr>\n",
              "      <th>3</th>\n",
              "      <td>NaN</td>\n",
              "      <td>NaN</td>\n",
              "      <td>10000</td>\n",
              "      <td>10000</td>\n",
              "      <td>10000.0</td>\n",
              "      <td>60 months</td>\n",
              "      <td>12.98%</td>\n",
              "      <td>227.43</td>\n",
              "      <td>B</td>\n",
              "      <td>B5</td>\n",
              "      <td>Printer</td>\n",
              "      <td>9 years</td>\n",
              "      <td>RENT</td>\n",
              "      <td>60000.0</td>\n",
              "      <td>Not Verified</td>\n",
              "      <td>Dec-2018</td>\n",
              "      <td>Current</td>\n",
              "      <td>n</td>\n",
              "      <td>NaN</td>\n",
              "      <td>NaN</td>\n",
              "      <td>credit_card</td>\n",
              "      <td>Credit card refinancing</td>\n",
              "      <td>660xx</td>\n",
              "      <td>KS</td>\n",
              "      <td>14.90</td>\n",
              "      <td>0</td>\n",
              "      <td>May-2007</td>\n",
              "      <td>0</td>\n",
              "      <td>NaN</td>\n",
              "      <td>112.0</td>\n",
              "      <td>7</td>\n",
              "      <td>1</td>\n",
              "      <td>10677</td>\n",
              "      <td>54.2%</td>\n",
              "      <td>12</td>\n",
              "      <td>w</td>\n",
              "      <td>7787.21</td>\n",
              "      <td>7787.21</td>\n",
              "      <td>3805.020000</td>\n",
              "      <td>3805.02</td>\n",
              "      <td>2212.79</td>\n",
              "      <td>1592.23</td>\n",
              "      <td>0.0</td>\n",
              "      <td>0.0</td>\n",
              "      <td>0.0</td>\n",
              "      <td>May-2020</td>\n",
              "      <td>227.43</td>\n",
              "      <td>Jun-2020</td>\n",
              "      <td>May-2020</td>\n",
              "      <td>0</td>\n",
              "      <td>...</td>\n",
              "      <td>6</td>\n",
              "      <td>5</td>\n",
              "      <td>6</td>\n",
              "      <td>5</td>\n",
              "      <td>7</td>\n",
              "      <td>0.0</td>\n",
              "      <td>0</td>\n",
              "      <td>0</td>\n",
              "      <td>1</td>\n",
              "      <td>100.0</td>\n",
              "      <td>33.3</td>\n",
              "      <td>1</td>\n",
              "      <td>0</td>\n",
              "      <td>36200</td>\n",
              "      <td>27595</td>\n",
              "      <td>13000</td>\n",
              "      <td>16500</td>\n",
              "      <td>NaN</td>\n",
              "      <td>NaN</td>\n",
              "      <td>NaN</td>\n",
              "      <td>NaN</td>\n",
              "      <td>NaN</td>\n",
              "      <td>NaN</td>\n",
              "      <td>NaN</td>\n",
              "      <td>NaN</td>\n",
              "      <td>NaN</td>\n",
              "      <td>NaN</td>\n",
              "      <td>NaN</td>\n",
              "      <td>N</td>\n",
              "      <td>NaN</td>\n",
              "      <td>NaN</td>\n",
              "      <td>NaN</td>\n",
              "      <td>NaN</td>\n",
              "      <td>NaN</td>\n",
              "      <td>NaN</td>\n",
              "      <td>NaN</td>\n",
              "      <td>NaN</td>\n",
              "      <td>NaN</td>\n",
              "      <td>NaN</td>\n",
              "      <td>NaN</td>\n",
              "      <td>NaN</td>\n",
              "      <td>NaN</td>\n",
              "      <td>NaN</td>\n",
              "      <td>N</td>\n",
              "      <td>NaN</td>\n",
              "      <td>NaN</td>\n",
              "      <td>NaN</td>\n",
              "      <td>NaN</td>\n",
              "      <td>NaN</td>\n",
              "      <td>NaN</td>\n",
              "    </tr>\n",
              "    <tr>\n",
              "      <th>4</th>\n",
              "      <td>NaN</td>\n",
              "      <td>NaN</td>\n",
              "      <td>30000</td>\n",
              "      <td>30000</td>\n",
              "      <td>30000.0</td>\n",
              "      <td>60 months</td>\n",
              "      <td>26.31%</td>\n",
              "      <td>903.73</td>\n",
              "      <td>E</td>\n",
              "      <td>E4</td>\n",
              "      <td>Casino Host</td>\n",
              "      <td>10+ years</td>\n",
              "      <td>OWN</td>\n",
              "      <td>62000.0</td>\n",
              "      <td>Source Verified</td>\n",
              "      <td>Dec-2018</td>\n",
              "      <td>Charged Off</td>\n",
              "      <td>n</td>\n",
              "      <td>NaN</td>\n",
              "      <td>NaN</td>\n",
              "      <td>debt_consolidation</td>\n",
              "      <td>Debt consolidation</td>\n",
              "      <td>920xx</td>\n",
              "      <td>CA</td>\n",
              "      <td>37.24</td>\n",
              "      <td>0</td>\n",
              "      <td>Oct-2007</td>\n",
              "      <td>0</td>\n",
              "      <td>NaN</td>\n",
              "      <td>86.0</td>\n",
              "      <td>15</td>\n",
              "      <td>1</td>\n",
              "      <td>18890</td>\n",
              "      <td>39.8%</td>\n",
              "      <td>36</td>\n",
              "      <td>w</td>\n",
              "      <td>0.00</td>\n",
              "      <td>0.00</td>\n",
              "      <td>2645.410000</td>\n",
              "      <td>2645.41</td>\n",
              "      <td>754.24</td>\n",
              "      <td>1891.17</td>\n",
              "      <td>0.0</td>\n",
              "      <td>0.0</td>\n",
              "      <td>0.0</td>\n",
              "      <td>Apr-2019</td>\n",
              "      <td>903.73</td>\n",
              "      <td>NaN</td>\n",
              "      <td>May-2020</td>\n",
              "      <td>0</td>\n",
              "      <td>...</td>\n",
              "      <td>20</td>\n",
              "      <td>13</td>\n",
              "      <td>16</td>\n",
              "      <td>5</td>\n",
              "      <td>15</td>\n",
              "      <td>0.0</td>\n",
              "      <td>0</td>\n",
              "      <td>0</td>\n",
              "      <td>1</td>\n",
              "      <td>100.0</td>\n",
              "      <td>14.3</td>\n",
              "      <td>1</td>\n",
              "      <td>0</td>\n",
              "      <td>138354</td>\n",
              "      <td>104590</td>\n",
              "      <td>36400</td>\n",
              "      <td>90854</td>\n",
              "      <td>NaN</td>\n",
              "      <td>NaN</td>\n",
              "      <td>NaN</td>\n",
              "      <td>NaN</td>\n",
              "      <td>NaN</td>\n",
              "      <td>NaN</td>\n",
              "      <td>NaN</td>\n",
              "      <td>NaN</td>\n",
              "      <td>NaN</td>\n",
              "      <td>NaN</td>\n",
              "      <td>NaN</td>\n",
              "      <td>N</td>\n",
              "      <td>NaN</td>\n",
              "      <td>NaN</td>\n",
              "      <td>NaN</td>\n",
              "      <td>NaN</td>\n",
              "      <td>NaN</td>\n",
              "      <td>NaN</td>\n",
              "      <td>NaN</td>\n",
              "      <td>NaN</td>\n",
              "      <td>NaN</td>\n",
              "      <td>NaN</td>\n",
              "      <td>NaN</td>\n",
              "      <td>NaN</td>\n",
              "      <td>NaN</td>\n",
              "      <td>NaN</td>\n",
              "      <td>N</td>\n",
              "      <td>NaN</td>\n",
              "      <td>NaN</td>\n",
              "      <td>NaN</td>\n",
              "      <td>NaN</td>\n",
              "      <td>NaN</td>\n",
              "      <td>NaN</td>\n",
              "    </tr>\n",
              "  </tbody>\n",
              "</table>\n",
              "<p>5 rows × 144 columns</p>\n",
              "</div>"
            ],
            "text/plain": [
              "   id  member_id  loan_amnt  funded_amnt  funded_amnt_inv        term  \\\n",
              "0 NaN        NaN      20000        20000          20000.0   36 months   \n",
              "1 NaN        NaN      16000        16000          16000.0   36 months   \n",
              "2 NaN        NaN       8425         8425           8425.0   36 months   \n",
              "3 NaN        NaN      10000        10000          10000.0   60 months   \n",
              "4 NaN        NaN      30000        30000          30000.0   60 months   \n",
              "\n",
              "  int_rate  installment grade sub_grade                        emp_title  \\\n",
              "0   14.47%       688.13     C        C2                       bus driver   \n",
              "1   14.47%       550.51     C        C2                        Carpenter   \n",
              "2   27.27%       345.18     E        E5  Senior Director Risk Management   \n",
              "3   12.98%       227.43     B        B5                          Printer   \n",
              "4   26.31%       903.73     E        E4                      Casino Host   \n",
              "\n",
              "  emp_length home_ownership  annual_inc verification_status   issue_d  \\\n",
              "0    4 years            OWN     52000.0     Source Verified  Dec-2018   \n",
              "1  10+ years           RENT    150000.0     Source Verified  Dec-2018   \n",
              "2    3 years       MORTGAGE    450000.0            Verified  Dec-2018   \n",
              "3    9 years           RENT     60000.0        Not Verified  Dec-2018   \n",
              "4  10+ years            OWN     62000.0     Source Verified  Dec-2018   \n",
              "\n",
              "   loan_status pymnt_plan  url  desc             purpose  \\\n",
              "0  Charged Off          n  NaN   NaN  debt_consolidation   \n",
              "1      Current          n  NaN   NaN               other   \n",
              "2   Fully Paid          n  NaN   NaN         credit_card   \n",
              "3      Current          n  NaN   NaN         credit_card   \n",
              "4  Charged Off          n  NaN   NaN  debt_consolidation   \n",
              "\n",
              "                     title zip_code addr_state    dti  delinq_2yrs  \\\n",
              "0       Debt consolidation    681xx         NE  30.65            1   \n",
              "1                    Other    917xx         CA  17.94            0   \n",
              "2  Credit card refinancing    020xx         MA  12.37            0   \n",
              "3  Credit card refinancing    660xx         KS  14.90            0   \n",
              "4       Debt consolidation    920xx         CA  37.24            0   \n",
              "\n",
              "  earliest_cr_line  inq_last_6mths  mths_since_last_delinq  \\\n",
              "0         Jun-1979               2                    15.0   \n",
              "1         Nov-2001               1                     NaN   \n",
              "2         Oct-1997               0                     NaN   \n",
              "3         May-2007               0                     NaN   \n",
              "4         Oct-2007               0                     NaN   \n",
              "\n",
              "   mths_since_last_record  open_acc  pub_rec  revol_bal revol_util  total_acc  \\\n",
              "0                     NaN         6        0      15048        73%         22   \n",
              "1                     NaN        24        0      43721      59.2%         29   \n",
              "2                     NaN        21        0      36812      65.7%         37   \n",
              "3                   112.0         7        1      10677      54.2%         12   \n",
              "4                    86.0        15        1      18890      39.8%         36   \n",
              "\n",
              "  initial_list_status  out_prncp  out_prncp_inv  total_pymnt  total_pymnt_inv  \\\n",
              "0                   w       0.00           0.00  8169.130000          8169.13   \n",
              "1                   w    9726.53        9726.53  8788.870000          8788.87   \n",
              "2                   w       0.00           0.00  8735.148975          8735.15   \n",
              "3                   w    7787.21        7787.21  3805.020000          3805.02   \n",
              "4                   w       0.00           0.00  2645.410000          2645.41   \n",
              "\n",
              "   total_rec_prncp  total_rec_int  total_rec_late_fee  recoveries  \\\n",
              "0          5731.54        2437.59                 0.0         0.0   \n",
              "1          6273.47        2515.40                 0.0         0.0   \n",
              "2          8425.00         310.15                 0.0         0.0   \n",
              "3          2212.79        1592.23                 0.0         0.0   \n",
              "4           754.24        1891.17                 0.0         0.0   \n",
              "\n",
              "   collection_recovery_fee last_pymnt_d  last_pymnt_amnt next_pymnt_d  \\\n",
              "0                      0.0     Feb-2020             0.00          NaN   \n",
              "1                      0.0     May-2020             0.00     Jun-2020   \n",
              "2                      0.0     Feb-2019          8754.30          NaN   \n",
              "3                      0.0     May-2020           227.43     Jun-2020   \n",
              "4                      0.0     Apr-2019           903.73          NaN   \n",
              "\n",
              "  last_credit_pull_d  collections_12_mths_ex_med  ...  num_il_tl  \\\n",
              "0           Mar-2020                           0  ...          8   \n",
              "1           May-2020                           0  ...          4   \n",
              "2           Mar-2020                           0  ...         16   \n",
              "3           May-2020                           0  ...          6   \n",
              "4           May-2020                           0  ...         20   \n",
              "\n",
              "   num_op_rev_tl num_rev_accts  num_rev_tl_bal_gt_0  num_sats  \\\n",
              "0              4            14                    4         6   \n",
              "1             22            25                   19        24   \n",
              "2             13            17                    8        21   \n",
              "3              5             6                    5         7   \n",
              "4             13            16                    5        15   \n",
              "\n",
              "  num_tl_120dpd_2m  num_tl_30dpd  num_tl_90g_dpd_24m  num_tl_op_past_12m  \\\n",
              "0              NaN             0                   0                   2   \n",
              "1              0.0             0                   0                   0   \n",
              "2              0.0             0                   0                   2   \n",
              "3              0.0             0                   0                   1   \n",
              "4              0.0             0                   0                   1   \n",
              "\n",
              "   pct_tl_nvr_dlq  percent_bc_gt_75  pub_rec_bankruptcies  tax_liens  \\\n",
              "0            95.0              50.0                     0          0   \n",
              "1           100.0              85.7                     0          0   \n",
              "2           100.0              50.0                     0          0   \n",
              "3           100.0              33.3                     1          0   \n",
              "4           100.0              14.3                     1          0   \n",
              "\n",
              "   tot_hi_cred_lim  total_bal_ex_mort  total_bc_limit  \\\n",
              "0            61699              33157           20700   \n",
              "1           116647              57465           32100   \n",
              "2           768304             189194           45800   \n",
              "3            36200              27595           13000   \n",
              "4           138354             104590           36400   \n",
              "\n",
              "   total_il_high_credit_limit  revol_bal_joint  sec_app_earliest_cr_line  \\\n",
              "0                       40999              NaN                       NaN   \n",
              "1                       42847              NaN                       NaN   \n",
              "2                      189054         141905.0                  Jun-2013   \n",
              "3                       16500              NaN                       NaN   \n",
              "4                       90854              NaN                       NaN   \n",
              "\n",
              "   sec_app_inq_last_6mths  sec_app_mort_acc  sec_app_open_acc  \\\n",
              "0                     NaN               NaN               NaN   \n",
              "1                     NaN               NaN               NaN   \n",
              "2                     0.0               1.0               4.0   \n",
              "3                     NaN               NaN               NaN   \n",
              "4                     NaN               NaN               NaN   \n",
              "\n",
              "   sec_app_revol_util  sec_app_open_act_il  sec_app_num_rev_accts  \\\n",
              "0                 NaN                  NaN                    NaN   \n",
              "1                 NaN                  NaN                    NaN   \n",
              "2                77.4                  1.0                    4.0   \n",
              "3                 NaN                  NaN                    NaN   \n",
              "4                 NaN                  NaN                    NaN   \n",
              "\n",
              "   sec_app_chargeoff_within_12_mths  sec_app_collections_12_mths_ex_med  \\\n",
              "0                               NaN                                 NaN   \n",
              "1                               NaN                                 NaN   \n",
              "2                               0.0                                 0.0   \n",
              "3                               NaN                                 NaN   \n",
              "4                               NaN                                 NaN   \n",
              "\n",
              "   sec_app_mths_since_last_major_derog  hardship_flag  hardship_type  \\\n",
              "0                                  NaN            NaN            NaN   \n",
              "1                                  NaN              N            NaN   \n",
              "2                                  NaN              N            NaN   \n",
              "3                                  NaN              N            NaN   \n",
              "4                                  NaN              N            NaN   \n",
              "\n",
              "   hardship_reason  hardship_status  deferral_term  hardship_amount  \\\n",
              "0              NaN              NaN            NaN           688.13   \n",
              "1              NaN              NaN            NaN              NaN   \n",
              "2              NaN              NaN            NaN              NaN   \n",
              "3              NaN              NaN            NaN              NaN   \n",
              "4              NaN              NaN            NaN              NaN   \n",
              "\n",
              "   hardship_start_date  hardship_end_date  payment_plan_start_date  \\\n",
              "0                  NaN                NaN                      NaN   \n",
              "1                  NaN                NaN                      NaN   \n",
              "2                  NaN                NaN                      NaN   \n",
              "3                  NaN                NaN                      NaN   \n",
              "4                  NaN                NaN                      NaN   \n",
              "\n",
              "   hardship_length  hardship_dpd  hardship_loan_status  \\\n",
              "0              NaN           NaN                   NaN   \n",
              "1              NaN           NaN                   NaN   \n",
              "2              NaN           NaN                   NaN   \n",
              "3              NaN           NaN                   NaN   \n",
              "4              NaN           NaN                   NaN   \n",
              "\n",
              "   orig_projected_additional_accrued_interest  hardship_payoff_balance_amount  \\\n",
              "0                                         0.0                             0.0   \n",
              "1                                         NaN                             NaN   \n",
              "2                                         NaN                             NaN   \n",
              "3                                         NaN                             NaN   \n",
              "4                                         NaN                             NaN   \n",
              "\n",
              "   hardship_last_payment_amount  debt_settlement_flag  \\\n",
              "0                        688.13                     N   \n",
              "1                           NaN                     N   \n",
              "2                           NaN                     N   \n",
              "3                           NaN                     N   \n",
              "4                           NaN                     N   \n",
              "\n",
              "   debt_settlement_flag_date  settlement_status  settlement_date  \\\n",
              "0                        NaN                NaN              NaN   \n",
              "1                        NaN                NaN              NaN   \n",
              "2                        NaN                NaN              NaN   \n",
              "3                        NaN                NaN              NaN   \n",
              "4                        NaN                NaN              NaN   \n",
              "\n",
              "   settlement_amount  settlement_percentage  settlement_term  \n",
              "0                NaN                    NaN              NaN  \n",
              "1                NaN                    NaN              NaN  \n",
              "2                NaN                    NaN              NaN  \n",
              "3                NaN                    NaN              NaN  \n",
              "4                NaN                    NaN              NaN  \n",
              "\n",
              "[5 rows x 144 columns]"
            ]
          },
          "metadata": {
            "tags": []
          },
          "execution_count": 6
        }
      ]
    },
    {
      "cell_type": "code",
      "metadata": {
        "id": "O_cc1eRY-j9K",
        "colab_type": "code",
        "outputId": "bc9cea09-1fd5-45a9-a462-29428e5f4e03",
        "colab": {
          "base_uri": "https://localhost:8080/",
          "height": 1000
        }
      },
      "source": [
        "df.isnull().sum().sort_values()"
      ],
      "execution_count": 0,
      "outputs": [
        {
          "output_type": "execute_result",
          "data": {
            "text/plain": [
              "inq_fi                                             0\n",
              "mo_sin_old_rev_tl_op                               0\n",
              "delinq_amnt                                        0\n",
              "chargeoff_within_12_mths                           0\n",
              "acc_open_past_24mths                               0\n",
              "inq_last_12m                                       0\n",
              "total_cu_tl                                        0\n",
              "total_rev_hi_lim                                   0\n",
              "open_rv_24m                                        0\n",
              "open_rv_12m                                        0\n",
              "total_bal_il                                       0\n",
              "open_il_24m                                        0\n",
              "open_il_12m                                        0\n",
              "open_act_il                                        0\n",
              "open_acc_6m                                        0\n",
              "tot_cur_bal                                        0\n",
              "tot_coll_amt                                       0\n",
              "acc_now_delinq                                     0\n",
              "application_type                                   0\n",
              "policy_code                                        0\n",
              "mo_sin_rcnt_rev_tl_op                              0\n",
              "collections_12_mths_ex_med                         0\n",
              "mo_sin_rcnt_tl                                     0\n",
              "num_accts_ever_120_pd                              0\n",
              "total_il_high_credit_limit                         0\n",
              "total_bc_limit                                     0\n",
              "total_bal_ex_mort                                  0\n",
              "tot_hi_cred_lim                                    0\n",
              "tax_liens                                          0\n",
              "pub_rec_bankruptcies                               0\n",
              "pct_tl_nvr_dlq                                     0\n",
              "num_tl_op_past_12m                                 0\n",
              "num_tl_90g_dpd_24m                                 0\n",
              "num_tl_30dpd                                       0\n",
              "num_sats                                           0\n",
              "num_rev_tl_bal_gt_0                                0\n",
              "num_rev_accts                                      0\n",
              "num_op_rev_tl                                      0\n",
              "num_il_tl                                          0\n",
              "num_bc_tl                                          0\n",
              "num_bc_sats                                        0\n",
              "num_actv_rev_tl                                    0\n",
              "num_actv_bc_tl                                     0\n",
              "mort_acc                                           0\n",
              "last_pymnt_amnt                                    0\n",
              "max_bal_bc                                         0\n",
              "collection_recovery_fee                            0\n",
              "earliest_cr_line                                   0\n",
              "delinq_2yrs                                        0\n",
              "addr_state                                         0\n",
              "zip_code                                           0\n",
              "title                                              0\n",
              "purpose                                            0\n",
              "pymnt_plan                                         0\n",
              "loan_status                                        0\n",
              "issue_d                                            0\n",
              "inq_last_6mths                                     0\n",
              "verification_status                                0\n",
              "home_ownership                                     0\n",
              "sub_grade                                          0\n",
              "grade                                              0\n",
              "installment                                        0\n",
              "int_rate                                           0\n",
              "term                                               0\n",
              "funded_amnt_inv                                    0\n",
              "funded_amnt                                        0\n",
              "loan_amnt                                          0\n",
              "annual_inc                                         0\n",
              "open_acc                                           0\n",
              "debt_settlement_flag                               0\n",
              "total_rec_int                                      0\n",
              "recoveries                                         0\n",
              "total_rec_late_fee                                 0\n",
              "total_rec_prncp                                    0\n",
              "total_pymnt_inv                                    0\n",
              "out_prncp_inv                                      0\n",
              "out_prncp                                          0\n",
              "initial_list_status                                0\n",
              "total_acc                                          0\n",
              "total_pymnt                                        0\n",
              "revol_bal                                          0\n",
              "pub_rec                                            0\n",
              "last_credit_pull_d                                 1\n",
              "avg_cur_bal                                       13\n",
              "all_util                                          37\n",
              "revol_util                                       156\n",
              "last_pymnt_d                                     159\n",
              "dti                                              237\n",
              "mths_since_recent_bc                            1591\n",
              "bc_open_to_buy                                  1691\n",
              "percent_bc_gt_75                                1692\n",
              "bc_util                                         1754\n",
              "num_tl_120dpd_2m                                2859\n",
              "hardship_flag                                   3196\n",
              "mo_sin_old_il_acct                              4478\n",
              "mths_since_rcnt_il                              4478\n",
              "emp_length                                     11704\n",
              "mths_since_recent_inq                          16047\n",
              "il_util                                        20274\n",
              "emp_title                                      20947\n",
              "next_pymnt_d                                   39145\n",
              "mths_since_last_delinq                         72196\n",
              "mths_since_recent_revol_delinq                 91630\n",
              "mths_since_last_major_derog                    99232\n",
              "mths_since_recent_bc_dlq                      103243\n",
              "sec_app_open_act_il                           111630\n",
              "dti_joint                                     111630\n",
              "sec_app_collections_12_mths_ex_med            111630\n",
              "sec_app_chargeoff_within_12_mths              111630\n",
              "revol_bal_joint                               111630\n",
              "sec_app_earliest_cr_line                      111630\n",
              "sec_app_inq_last_6mths                        111630\n",
              "sec_app_mort_acc                              111630\n",
              "sec_app_open_acc                              111630\n",
              "annual_inc_joint                              111630\n",
              "sec_app_num_rev_accts                         111630\n",
              "sec_app_revol_util                            111888\n",
              "hardship_amount                               112937\n",
              "hardship_payoff_balance_amount                112937\n",
              "hardship_last_payment_amount                  112937\n",
              "orig_projected_additional_accrued_interest    112961\n",
              "mths_since_last_record                        112962\n",
              "verification_status_joint                     113564\n",
              "hardship_dpd                                  116133\n",
              "hardship_length                               116133\n",
              "payment_plan_start_date                       116133\n",
              "hardship_end_date                             116133\n",
              "hardship_start_date                           116133\n",
              "hardship_status                               116133\n",
              "hardship_type                                 116133\n",
              "deferral_term                                 116133\n",
              "hardship_reason                               116134\n",
              "hardship_loan_status                          116149\n",
              "sec_app_mths_since_last_major_derog           123258\n",
              "settlement_amount                             127561\n",
              "settlement_status                             127561\n",
              "debt_settlement_flag_date                     127561\n",
              "settlement_date                               127561\n",
              "settlement_term                               127561\n",
              "settlement_percentage                         127561\n",
              "desc                                          128412\n",
              "url                                           128412\n",
              "member_id                                     128412\n",
              "id                                            128412\n",
              "dtype: int64"
            ]
          },
          "metadata": {
            "tags": []
          },
          "execution_count": 7
        }
      ]
    },
    {
      "cell_type": "code",
      "metadata": {
        "id": "AbERxPd_-g-x",
        "colab_type": "code",
        "colab": {}
      },
      "source": [
        "df = df.drop(['desc', 'url', 'member_id', 'id'], axis=1)"
      ],
      "execution_count": 0,
      "outputs": []
    },
    {
      "cell_type": "code",
      "metadata": {
        "id": "bcpYX7Kn_S0z",
        "colab_type": "code",
        "outputId": "296d5e98-5f0b-480f-e387-c735809dd3f3",
        "colab": {
          "base_uri": "https://localhost:8080/",
          "height": 34
        }
      },
      "source": [
        "df.shape"
      ],
      "execution_count": 0,
      "outputs": [
        {
          "output_type": "execute_result",
          "data": {
            "text/plain": [
              "(128412, 140)"
            ]
          },
          "metadata": {
            "tags": []
          },
          "execution_count": 9
        }
      ]
    },
    {
      "cell_type": "code",
      "metadata": {
        "id": "KmgB1YJ9_ZPh",
        "colab_type": "code",
        "outputId": "e4a68cc5-a7cd-4be0-adcf-b1265012d086",
        "colab": {
          "base_uri": "https://localhost:8080/",
          "height": 1000
        }
      },
      "source": [
        "df.isnull().sum().sort_values()"
      ],
      "execution_count": 0,
      "outputs": [
        {
          "output_type": "execute_result",
          "data": {
            "text/plain": [
              "loan_amnt                                          0\n",
              "mo_sin_rcnt_rev_tl_op                              0\n",
              "mo_sin_old_rev_tl_op                               0\n",
              "delinq_amnt                                        0\n",
              "chargeoff_within_12_mths                           0\n",
              "acc_open_past_24mths                               0\n",
              "total_cu_tl                                        0\n",
              "inq_fi                                             0\n",
              "total_rev_hi_lim                                   0\n",
              "max_bal_bc                                         0\n",
              "open_rv_24m                                        0\n",
              "open_rv_12m                                        0\n",
              "total_bal_il                                       0\n",
              "open_il_24m                                        0\n",
              "open_il_12m                                        0\n",
              "open_act_il                                        0\n",
              "open_acc_6m                                        0\n",
              "tot_cur_bal                                        0\n",
              "tot_coll_amt                                       0\n",
              "acc_now_delinq                                     0\n",
              "mo_sin_rcnt_tl                                     0\n",
              "application_type                                   0\n",
              "mort_acc                                           0\n",
              "num_actv_bc_tl                                     0\n",
              "debt_settlement_flag                               0\n",
              "total_il_high_credit_limit                         0\n",
              "total_bc_limit                                     0\n",
              "total_bal_ex_mort                                  0\n",
              "tot_hi_cred_lim                                    0\n",
              "tax_liens                                          0\n",
              "pub_rec_bankruptcies                               0\n",
              "pct_tl_nvr_dlq                                     0\n",
              "num_tl_op_past_12m                                 0\n",
              "num_tl_90g_dpd_24m                                 0\n",
              "num_tl_30dpd                                       0\n",
              "num_sats                                           0\n",
              "num_rev_tl_bal_gt_0                                0\n",
              "num_rev_accts                                      0\n",
              "num_op_rev_tl                                      0\n",
              "num_il_tl                                          0\n",
              "num_bc_tl                                          0\n",
              "num_bc_sats                                        0\n",
              "num_actv_rev_tl                                    0\n",
              "num_accts_ever_120_pd                              0\n",
              "policy_code                                        0\n",
              "inq_last_12m                                       0\n",
              "loan_status                                        0\n",
              "revol_bal                                          0\n",
              "sub_grade                                          0\n",
              "open_acc                                           0\n",
              "int_rate                                           0\n",
              "inq_last_6mths                                     0\n",
              "earliest_cr_line                                   0\n",
              "installment                                        0\n",
              "delinq_2yrs                                        0\n",
              "term                                               0\n",
              "addr_state                                         0\n",
              "title                                              0\n",
              "purpose                                            0\n",
              "pymnt_plan                                         0\n",
              "collections_12_mths_ex_med                         0\n",
              "issue_d                                            0\n",
              "verification_status                                0\n",
              "annual_inc                                         0\n",
              "home_ownership                                     0\n",
              "zip_code                                           0\n",
              "total_acc                                          0\n",
              "pub_rec                                            0\n",
              "total_rec_int                                      0\n",
              "funded_amnt                                        0\n",
              "funded_amnt_inv                                    0\n",
              "last_pymnt_amnt                                    0\n",
              "collection_recovery_fee                            0\n",
              "recoveries                                         0\n",
              "total_rec_late_fee                                 0\n",
              "initial_list_status                                0\n",
              "total_rec_prncp                                    0\n",
              "total_pymnt_inv                                    0\n",
              "grade                                              0\n",
              "out_prncp                                          0\n",
              "out_prncp_inv                                      0\n",
              "total_pymnt                                        0\n",
              "last_credit_pull_d                                 1\n",
              "avg_cur_bal                                       13\n",
              "all_util                                          37\n",
              "revol_util                                       156\n",
              "last_pymnt_d                                     159\n",
              "dti                                              237\n",
              "mths_since_recent_bc                            1591\n",
              "bc_open_to_buy                                  1691\n",
              "percent_bc_gt_75                                1692\n",
              "bc_util                                         1754\n",
              "num_tl_120dpd_2m                                2859\n",
              "hardship_flag                                   3196\n",
              "mo_sin_old_il_acct                              4478\n",
              "mths_since_rcnt_il                              4478\n",
              "emp_length                                     11704\n",
              "mths_since_recent_inq                          16047\n",
              "il_util                                        20274\n",
              "emp_title                                      20947\n",
              "next_pymnt_d                                   39145\n",
              "mths_since_last_delinq                         72196\n",
              "mths_since_recent_revol_delinq                 91630\n",
              "mths_since_last_major_derog                    99232\n",
              "mths_since_recent_bc_dlq                      103243\n",
              "sec_app_num_rev_accts                         111630\n",
              "annual_inc_joint                              111630\n",
              "dti_joint                                     111630\n",
              "revol_bal_joint                               111630\n",
              "sec_app_earliest_cr_line                      111630\n",
              "sec_app_inq_last_6mths                        111630\n",
              "sec_app_mort_acc                              111630\n",
              "sec_app_open_acc                              111630\n",
              "sec_app_collections_12_mths_ex_med            111630\n",
              "sec_app_open_act_il                           111630\n",
              "sec_app_chargeoff_within_12_mths              111630\n",
              "sec_app_revol_util                            111888\n",
              "hardship_last_payment_amount                  112937\n",
              "hardship_amount                               112937\n",
              "hardship_payoff_balance_amount                112937\n",
              "orig_projected_additional_accrued_interest    112961\n",
              "mths_since_last_record                        112962\n",
              "verification_status_joint                     113564\n",
              "hardship_dpd                                  116133\n",
              "hardship_length                               116133\n",
              "payment_plan_start_date                       116133\n",
              "hardship_status                               116133\n",
              "hardship_start_date                           116133\n",
              "deferral_term                                 116133\n",
              "hardship_type                                 116133\n",
              "hardship_end_date                             116133\n",
              "hardship_reason                               116134\n",
              "hardship_loan_status                          116149\n",
              "sec_app_mths_since_last_major_derog           123258\n",
              "settlement_percentage                         127561\n",
              "debt_settlement_flag_date                     127561\n",
              "settlement_status                             127561\n",
              "settlement_date                               127561\n",
              "settlement_amount                             127561\n",
              "settlement_term                               127561\n",
              "dtype: int64"
            ]
          },
          "metadata": {
            "tags": []
          },
          "execution_count": 10
        }
      ]
    },
    {
      "cell_type": "code",
      "metadata": {
        "id": "sSmUi6Be_bwt",
        "colab_type": "code",
        "outputId": "d67aef68-4f52-4ff2-c79b-6d059fc4ecb1",
        "colab": {
          "base_uri": "https://localhost:8080/",
          "height": 1000
        }
      },
      "source": [
        "df.dtypes"
      ],
      "execution_count": 0,
      "outputs": [
        {
          "output_type": "execute_result",
          "data": {
            "text/plain": [
              "loan_amnt                                       int64\n",
              "funded_amnt                                     int64\n",
              "funded_amnt_inv                               float64\n",
              "term                                           object\n",
              "int_rate                                       object\n",
              "installment                                   float64\n",
              "grade                                          object\n",
              "sub_grade                                      object\n",
              "emp_title                                      object\n",
              "emp_length                                     object\n",
              "home_ownership                                 object\n",
              "annual_inc                                    float64\n",
              "verification_status                            object\n",
              "issue_d                                        object\n",
              "loan_status                                    object\n",
              "pymnt_plan                                     object\n",
              "purpose                                        object\n",
              "title                                          object\n",
              "zip_code                                       object\n",
              "addr_state                                     object\n",
              "dti                                           float64\n",
              "delinq_2yrs                                     int64\n",
              "earliest_cr_line                               object\n",
              "inq_last_6mths                                  int64\n",
              "mths_since_last_delinq                        float64\n",
              "mths_since_last_record                        float64\n",
              "open_acc                                        int64\n",
              "pub_rec                                         int64\n",
              "revol_bal                                       int64\n",
              "revol_util                                     object\n",
              "total_acc                                       int64\n",
              "initial_list_status                            object\n",
              "out_prncp                                     float64\n",
              "out_prncp_inv                                 float64\n",
              "total_pymnt                                   float64\n",
              "total_pymnt_inv                               float64\n",
              "total_rec_prncp                               float64\n",
              "total_rec_int                                 float64\n",
              "total_rec_late_fee                            float64\n",
              "recoveries                                    float64\n",
              "collection_recovery_fee                       float64\n",
              "last_pymnt_d                                   object\n",
              "last_pymnt_amnt                               float64\n",
              "next_pymnt_d                                   object\n",
              "last_credit_pull_d                             object\n",
              "collections_12_mths_ex_med                      int64\n",
              "mths_since_last_major_derog                   float64\n",
              "policy_code                                     int64\n",
              "application_type                               object\n",
              "annual_inc_joint                              float64\n",
              "dti_joint                                     float64\n",
              "verification_status_joint                      object\n",
              "acc_now_delinq                                  int64\n",
              "tot_coll_amt                                    int64\n",
              "tot_cur_bal                                     int64\n",
              "open_acc_6m                                     int64\n",
              "open_act_il                                     int64\n",
              "open_il_12m                                     int64\n",
              "open_il_24m                                     int64\n",
              "mths_since_rcnt_il                            float64\n",
              "total_bal_il                                    int64\n",
              "il_util                                       float64\n",
              "open_rv_12m                                     int64\n",
              "open_rv_24m                                     int64\n",
              "max_bal_bc                                      int64\n",
              "all_util                                      float64\n",
              "total_rev_hi_lim                                int64\n",
              "inq_fi                                          int64\n",
              "total_cu_tl                                     int64\n",
              "inq_last_12m                                    int64\n",
              "acc_open_past_24mths                            int64\n",
              "avg_cur_bal                                   float64\n",
              "bc_open_to_buy                                float64\n",
              "bc_util                                       float64\n",
              "chargeoff_within_12_mths                        int64\n",
              "delinq_amnt                                     int64\n",
              "mo_sin_old_il_acct                            float64\n",
              "mo_sin_old_rev_tl_op                            int64\n",
              "mo_sin_rcnt_rev_tl_op                           int64\n",
              "mo_sin_rcnt_tl                                  int64\n",
              "mort_acc                                        int64\n",
              "mths_since_recent_bc                          float64\n",
              "mths_since_recent_bc_dlq                      float64\n",
              "mths_since_recent_inq                         float64\n",
              "mths_since_recent_revol_delinq                float64\n",
              "num_accts_ever_120_pd                           int64\n",
              "num_actv_bc_tl                                  int64\n",
              "num_actv_rev_tl                                 int64\n",
              "num_bc_sats                                     int64\n",
              "num_bc_tl                                       int64\n",
              "num_il_tl                                       int64\n",
              "num_op_rev_tl                                   int64\n",
              "num_rev_accts                                   int64\n",
              "num_rev_tl_bal_gt_0                             int64\n",
              "num_sats                                        int64\n",
              "num_tl_120dpd_2m                              float64\n",
              "num_tl_30dpd                                    int64\n",
              "num_tl_90g_dpd_24m                              int64\n",
              "num_tl_op_past_12m                              int64\n",
              "pct_tl_nvr_dlq                                float64\n",
              "percent_bc_gt_75                              float64\n",
              "pub_rec_bankruptcies                            int64\n",
              "tax_liens                                       int64\n",
              "tot_hi_cred_lim                                 int64\n",
              "total_bal_ex_mort                               int64\n",
              "total_bc_limit                                  int64\n",
              "total_il_high_credit_limit                      int64\n",
              "revol_bal_joint                               float64\n",
              "sec_app_earliest_cr_line                       object\n",
              "sec_app_inq_last_6mths                        float64\n",
              "sec_app_mort_acc                              float64\n",
              "sec_app_open_acc                              float64\n",
              "sec_app_revol_util                            float64\n",
              "sec_app_open_act_il                           float64\n",
              "sec_app_num_rev_accts                         float64\n",
              "sec_app_chargeoff_within_12_mths              float64\n",
              "sec_app_collections_12_mths_ex_med            float64\n",
              "sec_app_mths_since_last_major_derog           float64\n",
              "hardship_flag                                  object\n",
              "hardship_type                                  object\n",
              "hardship_reason                                object\n",
              "hardship_status                                object\n",
              "deferral_term                                 float64\n",
              "hardship_amount                               float64\n",
              "hardship_start_date                            object\n",
              "hardship_end_date                              object\n",
              "payment_plan_start_date                        object\n",
              "hardship_length                               float64\n",
              "hardship_dpd                                  float64\n",
              "hardship_loan_status                           object\n",
              "orig_projected_additional_accrued_interest    float64\n",
              "hardship_payoff_balance_amount                float64\n",
              "hardship_last_payment_amount                  float64\n",
              "debt_settlement_flag                           object\n",
              "debt_settlement_flag_date                      object\n",
              "settlement_status                              object\n",
              "settlement_date                                object\n",
              "settlement_amount                             float64\n",
              "settlement_percentage                         float64\n",
              "settlement_term                               float64\n",
              "dtype: object"
            ]
          },
          "metadata": {
            "tags": []
          },
          "execution_count": 11
        }
      ]
    },
    {
      "cell_type": "markdown",
      "metadata": {
        "id": "eHgyuX_U_zt5",
        "colab_type": "text"
      },
      "source": [
        "* **Convert the term column from string to integer**"
      ]
    },
    {
      "cell_type": "code",
      "metadata": {
        "id": "NWIf9aU8_4pU",
        "colab_type": "code",
        "outputId": "4da9a9b2-fad6-4f23-b14a-37b70590439f",
        "colab": {
          "base_uri": "https://localhost:8080/",
          "height": 51
        }
      },
      "source": [
        "df[\"term\"].values"
      ],
      "execution_count": 0,
      "outputs": [
        {
          "output_type": "execute_result",
          "data": {
            "text/plain": [
              "array([' 36 months', ' 36 months', ' 36 months', ..., ' 36 months',\n",
              "       ' 36 months', ' 36 months'], dtype=object)"
            ]
          },
          "metadata": {
            "tags": []
          },
          "execution_count": 12
        }
      ]
    },
    {
      "cell_type": "code",
      "metadata": {
        "id": "fsqyqUV9ADkP",
        "colab_type": "code",
        "outputId": "4b8f338a-8d69-42a1-9039-bca72a0186a7",
        "colab": {
          "base_uri": "https://localhost:8080/",
          "height": 68
        }
      },
      "source": [
        "df[\"term\"].value_counts(dropna=False).sort_values()"
      ],
      "execution_count": 0,
      "outputs": [
        {
          "output_type": "execute_result",
          "data": {
            "text/plain": [
              " 60 months    40233\n",
              " 36 months    88179\n",
              "Name: term, dtype: int64"
            ]
          },
          "metadata": {
            "tags": []
          },
          "execution_count": 13
        }
      ]
    },
    {
      "cell_type": "code",
      "metadata": {
        "id": "T8RRBBgMBov3",
        "colab_type": "code",
        "outputId": "6bd6d175-c0e2-4ee3-ee0d-1725b1411f8a",
        "colab": {
          "base_uri": "https://localhost:8080/",
          "height": 34
        }
      },
      "source": [
        "df['term'][10]"
      ],
      "execution_count": 0,
      "outputs": [
        {
          "output_type": "execute_result",
          "data": {
            "text/plain": [
              "' 36 months'"
            ]
          },
          "metadata": {
            "tags": []
          },
          "execution_count": 14
        }
      ]
    },
    {
      "cell_type": "code",
      "metadata": {
        "id": "W-u53R8hAmPh",
        "colab_type": "code",
        "outputId": "23d81091-8553-4ee5-efbb-d0af7bb65b74",
        "colab": {
          "base_uri": "https://localhost:8080/",
          "height": 221
        }
      },
      "source": [
        "def term_to_int(item):\n",
        "  return int(item.strip(\" months\"))\n",
        "\n",
        "df['term'] = df['term'].apply(term_to_int)\n",
        "df['term']\n"
      ],
      "execution_count": 0,
      "outputs": [
        {
          "output_type": "execute_result",
          "data": {
            "text/plain": [
              "0         36\n",
              "1         36\n",
              "2         36\n",
              "3         60\n",
              "4         60\n",
              "          ..\n",
              "128407    36\n",
              "128408    36\n",
              "128409    36\n",
              "128410    36\n",
              "128411    36\n",
              "Name: term, Length: 128412, dtype: int64"
            ]
          },
          "metadata": {
            "tags": []
          },
          "execution_count": 15
        }
      ]
    },
    {
      "cell_type": "code",
      "metadata": {
        "id": "LFMBC-HMDNXh",
        "colab_type": "code",
        "outputId": "ca5f6b3a-d981-4682-9381-287857c28c05",
        "colab": {
          "base_uri": "https://localhost:8080/",
          "height": 34
        }
      },
      "source": [
        "df['term'].dtypes"
      ],
      "execution_count": 0,
      "outputs": [
        {
          "output_type": "execute_result",
          "data": {
            "text/plain": [
              "dtype('int64')"
            ]
          },
          "metadata": {
            "tags": []
          },
          "execution_count": 16
        }
      ]
    },
    {
      "cell_type": "markdown",
      "metadata": {
        "id": "eGd2dAcGEN7I",
        "colab_type": "text"
      },
      "source": [
        "Make a column named loan_status_is_great. It should contain the integer 1 if loan_status is \"Current\" or \"Fully Paid.\" Else it should contain the integer 0."
      ]
    },
    {
      "cell_type": "code",
      "metadata": {
        "id": "jXs7XT2BEPfU",
        "colab_type": "code",
        "outputId": "800964a6-5f2b-4b1d-8644-cd650b6f33be",
        "colab": {
          "base_uri": "https://localhost:8080/",
          "height": 221
        }
      },
      "source": [
        "df['loan_status']"
      ],
      "execution_count": 0,
      "outputs": [
        {
          "output_type": "execute_result",
          "data": {
            "text/plain": [
              "0         Charged Off\n",
              "1             Current\n",
              "2          Fully Paid\n",
              "3             Current\n",
              "4         Charged Off\n",
              "             ...     \n",
              "128407    Charged Off\n",
              "128408        Current\n",
              "128409        Current\n",
              "128410        Current\n",
              "128411        Current\n",
              "Name: loan_status, Length: 128412, dtype: object"
            ]
          },
          "metadata": {
            "tags": []
          },
          "execution_count": 17
        }
      ]
    },
    {
      "cell_type": "code",
      "metadata": {
        "id": "KZlVcb9DEawc",
        "colab_type": "code",
        "outputId": "143a62df-7056-46cd-c17b-bc9f7f1c2076",
        "colab": {
          "base_uri": "https://localhost:8080/",
          "height": 153
        }
      },
      "source": [
        "df['loan_status'].value_counts(dropna=False)"
      ],
      "execution_count": 0,
      "outputs": [
        {
          "output_type": "execute_result",
          "data": {
            "text/plain": [
              "Current               86502\n",
              "Fully Paid            30042\n",
              "Charged Off            9103\n",
              "Late (31-120 days)     1674\n",
              "In Grace Period         827\n",
              "Late (16-30 days)       238\n",
              "Default                  26\n",
              "Name: loan_status, dtype: int64"
            ]
          },
          "metadata": {
            "tags": []
          },
          "execution_count": 18
        }
      ]
    },
    {
      "cell_type": "code",
      "metadata": {
        "id": "f5S2K9ssGasO",
        "colab_type": "code",
        "outputId": "04935860-bb9d-4a95-9955-34f536241b83",
        "colab": {
          "base_uri": "https://localhost:8080/",
          "height": 34
        }
      },
      "source": [
        "len(df['loan_status'])"
      ],
      "execution_count": 0,
      "outputs": [
        {
          "output_type": "execute_result",
          "data": {
            "text/plain": [
              "128412"
            ]
          },
          "metadata": {
            "tags": []
          },
          "execution_count": 19
        }
      ]
    },
    {
      "cell_type": "code",
      "metadata": {
        "id": "jePpFrhWFIZj",
        "colab_type": "code",
        "colab": {}
      },
      "source": [
        "df['loan_status_is_great'] = pd.Series([int(loanstat == 'Fully Paid' or loanstat == 'Current') for loanstat in df['loan_status']])"
      ],
      "execution_count": 0,
      "outputs": []
    },
    {
      "cell_type": "code",
      "metadata": {
        "id": "vz695bxrE1f8",
        "colab_type": "code",
        "outputId": "aba6ebb6-6a1b-48da-cc39-8a21591327b7",
        "colab": {
          "base_uri": "https://localhost:8080/",
          "height": 68
        }
      },
      "source": [
        "df['loan_status_is_great'].value_counts(dropna=False)"
      ],
      "execution_count": 0,
      "outputs": [
        {
          "output_type": "execute_result",
          "data": {
            "text/plain": [
              "1    116544\n",
              "0     11868\n",
              "Name: loan_status_is_great, dtype: int64"
            ]
          },
          "metadata": {
            "tags": []
          },
          "execution_count": 21
        }
      ]
    },
    {
      "cell_type": "code",
      "metadata": {
        "id": "1emQFHkEH1pu",
        "colab_type": "code",
        "outputId": "02650344-b3f7-46ee-e2c4-3139e8dc714c",
        "colab": {
          "base_uri": "https://localhost:8080/",
          "height": 34
        }
      },
      "source": [
        "len(df['loan_status_is_great'])"
      ],
      "execution_count": 0,
      "outputs": [
        {
          "output_type": "execute_result",
          "data": {
            "text/plain": [
              "128412"
            ]
          },
          "metadata": {
            "tags": []
          },
          "execution_count": 22
        }
      ]
    },
    {
      "cell_type": "markdown",
      "metadata": {
        "id": "TqHfSgN-IH_K",
        "colab_type": "text"
      },
      "source": [
        "- **Make last_pymnt_d_month and last_pymnt_d_year columns.**"
      ]
    },
    {
      "cell_type": "code",
      "metadata": {
        "id": "awkMDZTBIPKP",
        "colab_type": "code",
        "outputId": "e1041a46-78e9-46bf-ca25-2e2a5f242ce8",
        "colab": {
          "base_uri": "https://localhost:8080/",
          "height": 425
        }
      },
      "source": [
        "df['last_pymnt_d'].value_counts()"
      ],
      "execution_count": 0,
      "outputs": [
        {
          "output_type": "execute_result",
          "data": {
            "text/plain": [
              "May-2020    84284\n",
              "Jun-2020     3236\n",
              "Jul-2019     3146\n",
              "Sep-2019     2755\n",
              "Oct-2019     2722\n",
              "Aug-2019     2716\n",
              "Dec-2019     2714\n",
              "May-2019     2547\n",
              "Apr-2020     2418\n",
              "Nov-2019     2388\n",
              "Mar-2020     2365\n",
              "Apr-2019     2356\n",
              "Jan-2020     2312\n",
              "Jun-2019     2288\n",
              "Mar-2019     1984\n",
              "Feb-2019     1915\n",
              "Feb-2020     1805\n",
              "Jan-2019     1561\n",
              "Dec-2018     1054\n",
              "Jul-2020      770\n",
              "Nov-2018      679\n",
              "Oct-2018      234\n",
              "Aug-2020        4\n",
              "Name: last_pymnt_d, dtype: int64"
            ]
          },
          "metadata": {
            "tags": []
          },
          "execution_count": 23
        }
      ]
    },
    {
      "cell_type": "code",
      "metadata": {
        "id": "3HBk-HxZKN4s",
        "colab_type": "code",
        "outputId": "26dc4405-4c0b-42fb-b757-dae2ad9c4fb4",
        "colab": {
          "base_uri": "https://localhost:8080/",
          "height": 221
        }
      },
      "source": [
        "df['last_pymnt_d']"
      ],
      "execution_count": 0,
      "outputs": [
        {
          "output_type": "execute_result",
          "data": {
            "text/plain": [
              "0         Feb-2020\n",
              "1         May-2020\n",
              "2         Feb-2019\n",
              "3         May-2020\n",
              "4         Apr-2019\n",
              "            ...   \n",
              "128407    Dec-2018\n",
              "128408    May-2020\n",
              "128409    May-2020\n",
              "128410    May-2020\n",
              "128411    May-2020\n",
              "Name: last_pymnt_d, Length: 128412, dtype: object"
            ]
          },
          "metadata": {
            "tags": []
          },
          "execution_count": 24
        }
      ]
    },
    {
      "cell_type": "code",
      "metadata": {
        "id": "RHWLK24YIce-",
        "colab_type": "code",
        "outputId": "ffc476d6-2b98-4564-ac22-759eeefb16f6",
        "colab": {
          "base_uri": "https://localhost:8080/",
          "height": 221
        }
      },
      "source": [
        "df['last_pymnt_d_month'] = pd.to_datetime(df['last_pymnt_d'], infer_datetime_format=True).dt.month\n",
        "df['last_pymnt_d_month']"
      ],
      "execution_count": 0,
      "outputs": [
        {
          "output_type": "execute_result",
          "data": {
            "text/plain": [
              "0          2.0\n",
              "1          5.0\n",
              "2          2.0\n",
              "3          5.0\n",
              "4          4.0\n",
              "          ... \n",
              "128407    12.0\n",
              "128408     5.0\n",
              "128409     5.0\n",
              "128410     5.0\n",
              "128411     5.0\n",
              "Name: last_pymnt_d_month, Length: 128412, dtype: float64"
            ]
          },
          "metadata": {
            "tags": []
          },
          "execution_count": 25
        }
      ]
    },
    {
      "cell_type": "code",
      "metadata": {
        "id": "pHcANYQLKT0c",
        "colab_type": "code",
        "outputId": "650cf1d6-1076-4f89-d64b-b03f61610ff1",
        "colab": {
          "base_uri": "https://localhost:8080/",
          "height": 221
        }
      },
      "source": [
        "df['last_pymnt_d_year'] = pd.to_datetime(df['last_pymnt_d'], infer_datetime_format=True).dt.year\n",
        "df['last_pymnt_d_year']"
      ],
      "execution_count": 0,
      "outputs": [
        {
          "output_type": "execute_result",
          "data": {
            "text/plain": [
              "0         2020.0\n",
              "1         2020.0\n",
              "2         2019.0\n",
              "3         2020.0\n",
              "4         2019.0\n",
              "           ...  \n",
              "128407    2018.0\n",
              "128408    2020.0\n",
              "128409    2020.0\n",
              "128410    2020.0\n",
              "128411    2020.0\n",
              "Name: last_pymnt_d_year, Length: 128412, dtype: float64"
            ]
          },
          "metadata": {
            "tags": []
          },
          "execution_count": 26
        }
      ]
    },
    {
      "cell_type": "markdown",
      "metadata": {
        "colab_type": "text",
        "id": "L8k0LiHmo5EU"
      },
      "source": [
        "# Stretch Goals\n",
        "\n",
        "You can do more with the LendingClub or Instacart datasets.\n",
        "\n",
        "LendingClub options:\n",
        "- There's one other column in the dataframe with percent signs. Remove them and convert to floats. You'll need to handle missing values.\n",
        "- Modify the `emp_title` column to replace titles with 'Other' if the title is not in the top 20. \n",
        "- Take initiatve and work on your own ideas!\n",
        "\n",
        "Instacart options:\n",
        "- Read [Instacart Market Basket Analysis, Winner's Interview: 2nd place, Kazuki Onodera](http://blog.kaggle.com/2017/09/21/instacart-market-basket-analysis-winners-interview-2nd-place-kazuki-onodera/), especially the **Feature Engineering** section. (Can you choose one feature from his bulleted lists, and try to engineer it with pandas code?)\n",
        "- Read and replicate parts of [Simple Exploration Notebook - Instacart](https://www.kaggle.com/sudalairajkumar/simple-exploration-notebook-instacart). (It's the Python Notebook with the most upvotes for this Kaggle competition.)\n",
        "- Take initiative and work on your own ideas!"
      ]
    },
    {
      "cell_type": "markdown",
      "metadata": {
        "colab_type": "text",
        "id": "0_7PXF7lpEXg"
      },
      "source": [
        "You can uncomment and run the cells below to re-download and extract the Instacart data"
      ]
    },
    {
      "cell_type": "code",
      "metadata": {
        "id": "urIePNa0yNG6",
        "colab_type": "code",
        "colab": {}
      },
      "source": [
        "# !wget https://s3.amazonaws.com/instacart-datasets/instacart_online_grocery_shopping_2017_05_01.tar.gz"
      ],
      "execution_count": 0,
      "outputs": []
    },
    {
      "cell_type": "code",
      "metadata": {
        "id": "X9zEyu-uyNG8",
        "colab_type": "code",
        "colab": {}
      },
      "source": [
        "# !tar --gunzip --extract --verbose --file=instacart_online_grocery_shopping_2017_05_01.tar.gz"
      ],
      "execution_count": 0,
      "outputs": []
    },
    {
      "cell_type": "code",
      "metadata": {
        "id": "Y3IqrhlpyNG-",
        "colab_type": "code",
        "colab": {}
      },
      "source": [
        "# %cd instacart_2017_05_01"
      ],
      "execution_count": 0,
      "outputs": []
    }
  ]
}