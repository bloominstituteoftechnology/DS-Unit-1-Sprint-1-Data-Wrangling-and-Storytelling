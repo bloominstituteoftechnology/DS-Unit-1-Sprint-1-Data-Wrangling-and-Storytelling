{
  "nbformat": 4,
  "nbformat_minor": 0,
  "metadata": {
    "colab": {
      "name": "LS_DS_112_Make_Features_Assignment.ipynb",
      "provenance": [],
      "collapsed_sections": []
    },
    "kernelspec": {
      "display_name": "Python 3",
      "language": "python",
      "name": "python3"
    },
    "language_info": {
      "codemirror_mode": {
        "name": "ipython",
        "version": 3
      },
      "file_extension": ".py",
      "mimetype": "text/x-python",
      "name": "python",
      "nbconvert_exporter": "python",
      "pygments_lexer": "ipython3",
      "version": "3.7.1"
    }
  },
  "cells": [
    {
      "cell_type": "markdown",
      "metadata": {
        "id": "SnDJqBLi0FYW",
        "colab_type": "text"
      },
      "source": [
        "<img align=\"left\" src=\"https://lever-client-logos.s3.amazonaws.com/864372b1-534c-480e-acd5-9711f850815c-1524247202159.png\" width=200> "
      ]
    },
    {
      "cell_type": "markdown",
      "metadata": {
        "id": "W5GjI1z5yNG4",
        "colab_type": "text"
      },
      "source": [
        "# Assignment:\n",
        "\n",
        "- Replicate the lesson code.\n",
        "\n",
        " - This means that if you haven't followed along already, type out the things that we did in class. Forcing your fingers to hit each key will help you internalize the syntax of what we're doing. Make sure you understand each line of code that you're writing, google things that you don't fully understand.\n",
        " - [Lambda Learning Method for DS - By Ryan Herr](https://docs.google.com/document/d/1ubOw9B3Hfip27hF2ZFnW3a3z9xAgrUDRReOEo-FHCVs/edit?usp=sharing)\n",
        "- Convert the `term` column from string to integer.\n",
        "- Make a column named `loan_status_is_great`. It should contain the integer 1 if `loan_status` is \"Current\" or \"Fully Paid.\" Else it should contain the integer 0.\n",
        "- Make `last_pymnt_d_month` and `last_pymnt_d_year` columns."
      ]
    },
    {
      "cell_type": "code",
      "metadata": {
        "id": "AazB4eFwym2p",
        "colab_type": "code",
        "colab": {}
      },
      "source": [
        "##### Begin Working Here #####\n",
        "# look at data\n",
        "# look for zero values and replace those with median\n",
        "# make new features\n",
        "# "
      ],
      "execution_count": 2,
      "outputs": []
    },
    {
      "cell_type": "code",
      "metadata": {
        "id": "Cw3mNPooEecV",
        "colab_type": "code",
        "colab": {}
      },
      "source": [
        "#import libraries\n",
        "import pandas as pd \n",
        "import numpy as np "
      ],
      "execution_count": 3,
      "outputs": []
    },
    {
      "cell_type": "code",
      "metadata": {
        "id": "6E89MOnAE4pb",
        "colab_type": "code",
        "colab": {
          "base_uri": "https://localhost:8080/",
          "height": 370
        },
        "outputId": "8a5cf842-9cf6-4ded-8e1b-95ed989e1bda"
      },
      "source": [
        "#read in csv \n",
        "! wget https://resources.lendingclub.com/LoanStats_2018Q4.csv.zip"
      ],
      "execution_count": 167,
      "outputs": [
        {
          "output_type": "error",
          "ename": "KeyboardInterrupt",
          "evalue": "ignored",
          "traceback": [
            "\u001b[0;31m---------------------------------------------------------------------------\u001b[0m",
            "\u001b[0;31mKeyboardInterrupt\u001b[0m                         Traceback (most recent call last)",
            "\u001b[0;32m<ipython-input-167-a34a1877339d>\u001b[0m in \u001b[0;36m<module>\u001b[0;34m()\u001b[0m\n\u001b[1;32m      1\u001b[0m \u001b[0;31m#read in csv\u001b[0m\u001b[0;34m\u001b[0m\u001b[0;34m\u001b[0m\u001b[0;34m\u001b[0m\u001b[0m\n\u001b[0;32m----> 2\u001b[0;31m \u001b[0mget_ipython\u001b[0m\u001b[0;34m(\u001b[0m\u001b[0;34m)\u001b[0m\u001b[0;34m.\u001b[0m\u001b[0msystem\u001b[0m\u001b[0;34m(\u001b[0m\u001b[0;34m' wget https://resources.lendingclub.com/LoanStats_2018Q4.csv.zip'\u001b[0m\u001b[0;34m)\u001b[0m\u001b[0;34m\u001b[0m\u001b[0;34m\u001b[0m\u001b[0m\n\u001b[0m",
            "\u001b[0;32m/usr/local/lib/python3.6/dist-packages/google/colab/_shell.py\u001b[0m in \u001b[0;36msystem\u001b[0;34m(self, *args, **kwargs)\u001b[0m\n\u001b[1;32m    100\u001b[0m       \u001b[0mkwargs\u001b[0m\u001b[0;34m.\u001b[0m\u001b[0mupdate\u001b[0m\u001b[0;34m(\u001b[0m\u001b[0;34m{\u001b[0m\u001b[0;34m'also_return_output'\u001b[0m\u001b[0;34m:\u001b[0m \u001b[0;32mTrue\u001b[0m\u001b[0;34m}\u001b[0m\u001b[0;34m)\u001b[0m\u001b[0;34m\u001b[0m\u001b[0;34m\u001b[0m\u001b[0m\n\u001b[1;32m    101\u001b[0m \u001b[0;34m\u001b[0m\u001b[0m\n\u001b[0;32m--> 102\u001b[0;31m     \u001b[0moutput\u001b[0m \u001b[0;34m=\u001b[0m \u001b[0m_system_commands\u001b[0m\u001b[0;34m.\u001b[0m\u001b[0m_system_compat\u001b[0m\u001b[0;34m(\u001b[0m\u001b[0mself\u001b[0m\u001b[0;34m,\u001b[0m \u001b[0;34m*\u001b[0m\u001b[0margs\u001b[0m\u001b[0;34m,\u001b[0m \u001b[0;34m**\u001b[0m\u001b[0mkwargs\u001b[0m\u001b[0;34m)\u001b[0m  \u001b[0;31m# pylint:disable=protected-access\u001b[0m\u001b[0;34m\u001b[0m\u001b[0;34m\u001b[0m\u001b[0m\n\u001b[0m\u001b[1;32m    103\u001b[0m \u001b[0;34m\u001b[0m\u001b[0m\n\u001b[1;32m    104\u001b[0m     \u001b[0;32mif\u001b[0m \u001b[0mpip_warn\u001b[0m\u001b[0;34m:\u001b[0m\u001b[0;34m\u001b[0m\u001b[0;34m\u001b[0m\u001b[0m\n",
            "\u001b[0;32m/usr/local/lib/python3.6/dist-packages/google/colab/_system_commands.py\u001b[0m in \u001b[0;36m_system_compat\u001b[0;34m(shell, cmd, also_return_output)\u001b[0m\n\u001b[1;32m    436\u001b[0m   \u001b[0;31m# stack.\u001b[0m\u001b[0;34m\u001b[0m\u001b[0;34m\u001b[0m\u001b[0;34m\u001b[0m\u001b[0m\n\u001b[1;32m    437\u001b[0m   result = _run_command(\n\u001b[0;32m--> 438\u001b[0;31m       shell.var_expand(cmd, depth=2), clear_streamed_output=False)\n\u001b[0m\u001b[1;32m    439\u001b[0m   \u001b[0mshell\u001b[0m\u001b[0;34m.\u001b[0m\u001b[0muser_ns\u001b[0m\u001b[0;34m[\u001b[0m\u001b[0;34m'_exit_code'\u001b[0m\u001b[0;34m]\u001b[0m \u001b[0;34m=\u001b[0m \u001b[0mresult\u001b[0m\u001b[0;34m.\u001b[0m\u001b[0mreturncode\u001b[0m\u001b[0;34m\u001b[0m\u001b[0;34m\u001b[0m\u001b[0m\n\u001b[1;32m    440\u001b[0m   \u001b[0;32mif\u001b[0m \u001b[0;34m-\u001b[0m\u001b[0mresult\u001b[0m\u001b[0;34m.\u001b[0m\u001b[0mreturncode\u001b[0m \u001b[0;32min\u001b[0m \u001b[0m_INTERRUPTED_SIGNALS\u001b[0m\u001b[0;34m:\u001b[0m\u001b[0;34m\u001b[0m\u001b[0;34m\u001b[0m\u001b[0m\n",
            "\u001b[0;32m/usr/local/lib/python3.6/dist-packages/google/colab/_system_commands.py\u001b[0m in \u001b[0;36m_run_command\u001b[0;34m(cmd, clear_streamed_output)\u001b[0m\n\u001b[1;32m    189\u001b[0m           \u001b[0mstdin\u001b[0m\u001b[0;34m=\u001b[0m\u001b[0mchild_pty\u001b[0m\u001b[0;34m,\u001b[0m\u001b[0;34m\u001b[0m\u001b[0;34m\u001b[0m\u001b[0m\n\u001b[1;32m    190\u001b[0m           \u001b[0mstderr\u001b[0m\u001b[0;34m=\u001b[0m\u001b[0mchild_pty\u001b[0m\u001b[0;34m,\u001b[0m\u001b[0;34m\u001b[0m\u001b[0;34m\u001b[0m\u001b[0m\n\u001b[0;32m--> 191\u001b[0;31m           close_fds=True)\n\u001b[0m\u001b[1;32m    192\u001b[0m       \u001b[0;31m# The child PTY is only needed by the spawned process.\u001b[0m\u001b[0;34m\u001b[0m\u001b[0;34m\u001b[0m\u001b[0;34m\u001b[0m\u001b[0m\n\u001b[1;32m    193\u001b[0m       \u001b[0mos\u001b[0m\u001b[0;34m.\u001b[0m\u001b[0mclose\u001b[0m\u001b[0;34m(\u001b[0m\u001b[0mchild_pty\u001b[0m\u001b[0;34m)\u001b[0m\u001b[0;34m\u001b[0m\u001b[0;34m\u001b[0m\u001b[0m\n",
            "\u001b[0;32m/usr/lib/python3.6/subprocess.py\u001b[0m in \u001b[0;36m__init__\u001b[0;34m(self, args, bufsize, executable, stdin, stdout, stderr, preexec_fn, close_fds, shell, cwd, env, universal_newlines, startupinfo, creationflags, restore_signals, start_new_session, pass_fds, encoding, errors)\u001b[0m\n\u001b[1;32m    727\u001b[0m                                 \u001b[0mc2pread\u001b[0m\u001b[0;34m,\u001b[0m \u001b[0mc2pwrite\u001b[0m\u001b[0;34m,\u001b[0m\u001b[0;34m\u001b[0m\u001b[0;34m\u001b[0m\u001b[0m\n\u001b[1;32m    728\u001b[0m                                 \u001b[0merrread\u001b[0m\u001b[0;34m,\u001b[0m \u001b[0merrwrite\u001b[0m\u001b[0;34m,\u001b[0m\u001b[0;34m\u001b[0m\u001b[0;34m\u001b[0m\u001b[0m\n\u001b[0;32m--> 729\u001b[0;31m                                 restore_signals, start_new_session)\n\u001b[0m\u001b[1;32m    730\u001b[0m         \u001b[0;32mexcept\u001b[0m\u001b[0;34m:\u001b[0m\u001b[0;34m\u001b[0m\u001b[0;34m\u001b[0m\u001b[0m\n\u001b[1;32m    731\u001b[0m             \u001b[0;31m# Cleanup if the child failed starting.\u001b[0m\u001b[0;34m\u001b[0m\u001b[0;34m\u001b[0m\u001b[0;34m\u001b[0m\u001b[0m\n",
            "\u001b[0;32m/usr/lib/python3.6/subprocess.py\u001b[0m in \u001b[0;36m_execute_child\u001b[0;34m(self, args, executable, preexec_fn, close_fds, pass_fds, cwd, env, startupinfo, creationflags, shell, p2cread, p2cwrite, c2pread, c2pwrite, errread, errwrite, restore_signals, start_new_session)\u001b[0m\n\u001b[1;32m   1293\u001b[0m                             \u001b[0merrread\u001b[0m\u001b[0;34m,\u001b[0m \u001b[0merrwrite\u001b[0m\u001b[0;34m,\u001b[0m\u001b[0;34m\u001b[0m\u001b[0;34m\u001b[0m\u001b[0m\n\u001b[1;32m   1294\u001b[0m                             \u001b[0merrpipe_read\u001b[0m\u001b[0;34m,\u001b[0m \u001b[0merrpipe_write\u001b[0m\u001b[0;34m,\u001b[0m\u001b[0;34m\u001b[0m\u001b[0;34m\u001b[0m\u001b[0m\n\u001b[0;32m-> 1295\u001b[0;31m                             restore_signals, start_new_session, preexec_fn)\n\u001b[0m\u001b[1;32m   1296\u001b[0m                     \u001b[0mself\u001b[0m\u001b[0;34m.\u001b[0m\u001b[0m_child_created\u001b[0m \u001b[0;34m=\u001b[0m \u001b[0;32mTrue\u001b[0m\u001b[0;34m\u001b[0m\u001b[0;34m\u001b[0m\u001b[0m\n\u001b[1;32m   1297\u001b[0m                 \u001b[0;32mfinally\u001b[0m\u001b[0;34m:\u001b[0m\u001b[0;34m\u001b[0m\u001b[0;34m\u001b[0m\u001b[0m\n",
            "\u001b[0;31mKeyboardInterrupt\u001b[0m: "
          ]
        }
      ]
    },
    {
      "cell_type": "code",
      "metadata": {
        "id": "YCwxL6mHFIBx",
        "colab_type": "code",
        "colab": {
          "base_uri": "https://localhost:8080/",
          "height": 80
        },
        "outputId": "30cfd1f2-2cc1-4837-a9a3-5e58639fbeee"
      },
      "source": [
        "! unzip LoanStats_2018Q4.csv.zip"
      ],
      "execution_count": null,
      "outputs": [
        {
          "output_type": "stream",
          "text": [
            "Archive:  LoanStats_2018Q4.csv.zip\n",
            "replace LoanStats_2018Q4.csv? [y]es, [n]o, [A]ll, [N]one, [r]ename: "
          ],
          "name": "stdout"
        }
      ]
    },
    {
      "cell_type": "code",
      "metadata": {
        "id": "eD3X20yJFRoX",
        "colab_type": "code",
        "colab": {
          "base_uri": "https://localhost:8080/",
          "height": 71
        },
        "outputId": "4459eb4d-01fc-496f-8c08-47001a207796"
      },
      "source": [
        "loans = pd.read_csv('LoanStats_2018Q4.csv', skiprows=1, skipfooter=2)"
      ],
      "execution_count": 165,
      "outputs": [
        {
          "output_type": "stream",
          "text": [
            "/usr/local/lib/python3.6/dist-packages/ipykernel_launcher.py:1: ParserWarning: Falling back to the 'python' engine because the 'c' engine does not support skipfooter; you can avoid this warning by specifying engine='python'.\n",
            "  \"\"\"Entry point for launching an IPython kernel.\n"
          ],
          "name": "stderr"
        }
      ]
    },
    {
      "cell_type": "code",
      "metadata": {
        "id": "Lr_mmPL-Fqw4",
        "colab_type": "code",
        "colab": {
          "base_uri": "https://localhost:8080/",
          "height": 338
        },
        "outputId": "46748fd6-e52a-485a-a670-a0b22209ce06"
      },
      "source": [
        "loans.head()"
      ],
      "execution_count": 21,
      "outputs": [
        {
          "output_type": "execute_result",
          "data": {
            "text/html": [
              "<div>\n",
              "<style scoped>\n",
              "    .dataframe tbody tr th:only-of-type {\n",
              "        vertical-align: middle;\n",
              "    }\n",
              "\n",
              "    .dataframe tbody tr th {\n",
              "        vertical-align: top;\n",
              "    }\n",
              "\n",
              "    .dataframe thead th {\n",
              "        text-align: right;\n",
              "    }\n",
              "</style>\n",
              "<table border=\"1\" class=\"dataframe\">\n",
              "  <thead>\n",
              "    <tr style=\"text-align: right;\">\n",
              "      <th></th>\n",
              "      <th>id</th>\n",
              "      <th>member_id</th>\n",
              "      <th>loan_amnt</th>\n",
              "      <th>funded_amnt</th>\n",
              "      <th>funded_amnt_inv</th>\n",
              "      <th>term</th>\n",
              "      <th>int_rate</th>\n",
              "      <th>installment</th>\n",
              "      <th>grade</th>\n",
              "      <th>sub_grade</th>\n",
              "      <th>emp_title</th>\n",
              "      <th>emp_length</th>\n",
              "      <th>home_ownership</th>\n",
              "      <th>annual_inc</th>\n",
              "      <th>verification_status</th>\n",
              "      <th>issue_d</th>\n",
              "      <th>loan_status</th>\n",
              "      <th>pymnt_plan</th>\n",
              "      <th>url</th>\n",
              "      <th>desc</th>\n",
              "      <th>purpose</th>\n",
              "      <th>title</th>\n",
              "      <th>zip_code</th>\n",
              "      <th>addr_state</th>\n",
              "      <th>dti</th>\n",
              "      <th>delinq_2yrs</th>\n",
              "      <th>earliest_cr_line</th>\n",
              "      <th>inq_last_6mths</th>\n",
              "      <th>mths_since_last_delinq</th>\n",
              "      <th>mths_since_last_record</th>\n",
              "      <th>open_acc</th>\n",
              "      <th>pub_rec</th>\n",
              "      <th>revol_bal</th>\n",
              "      <th>revol_util</th>\n",
              "      <th>total_acc</th>\n",
              "      <th>initial_list_status</th>\n",
              "      <th>out_prncp</th>\n",
              "      <th>out_prncp_inv</th>\n",
              "      <th>total_pymnt</th>\n",
              "      <th>total_pymnt_inv</th>\n",
              "      <th>...</th>\n",
              "      <th>percent_bc_gt_75</th>\n",
              "      <th>pub_rec_bankruptcies</th>\n",
              "      <th>tax_liens</th>\n",
              "      <th>tot_hi_cred_lim</th>\n",
              "      <th>total_bal_ex_mort</th>\n",
              "      <th>total_bc_limit</th>\n",
              "      <th>total_il_high_credit_limit</th>\n",
              "      <th>revol_bal_joint</th>\n",
              "      <th>sec_app_earliest_cr_line</th>\n",
              "      <th>sec_app_inq_last_6mths</th>\n",
              "      <th>sec_app_mort_acc</th>\n",
              "      <th>sec_app_open_acc</th>\n",
              "      <th>sec_app_revol_util</th>\n",
              "      <th>sec_app_open_act_il</th>\n",
              "      <th>sec_app_num_rev_accts</th>\n",
              "      <th>sec_app_chargeoff_within_12_mths</th>\n",
              "      <th>sec_app_collections_12_mths_ex_med</th>\n",
              "      <th>sec_app_mths_since_last_major_derog</th>\n",
              "      <th>hardship_flag</th>\n",
              "      <th>hardship_type</th>\n",
              "      <th>hardship_reason</th>\n",
              "      <th>hardship_status</th>\n",
              "      <th>deferral_term</th>\n",
              "      <th>hardship_amount</th>\n",
              "      <th>hardship_start_date</th>\n",
              "      <th>hardship_end_date</th>\n",
              "      <th>payment_plan_start_date</th>\n",
              "      <th>hardship_length</th>\n",
              "      <th>hardship_dpd</th>\n",
              "      <th>hardship_loan_status</th>\n",
              "      <th>orig_projected_additional_accrued_interest</th>\n",
              "      <th>hardship_payoff_balance_amount</th>\n",
              "      <th>hardship_last_payment_amount</th>\n",
              "      <th>debt_settlement_flag</th>\n",
              "      <th>debt_settlement_flag_date</th>\n",
              "      <th>settlement_status</th>\n",
              "      <th>settlement_date</th>\n",
              "      <th>settlement_amount</th>\n",
              "      <th>settlement_percentage</th>\n",
              "      <th>settlement_term</th>\n",
              "    </tr>\n",
              "  </thead>\n",
              "  <tbody>\n",
              "    <tr>\n",
              "      <th>0</th>\n",
              "      <td>NaN</td>\n",
              "      <td>NaN</td>\n",
              "      <td>18000</td>\n",
              "      <td>18000</td>\n",
              "      <td>18000.0</td>\n",
              "      <td>36 months</td>\n",
              "      <td>8.81%</td>\n",
              "      <td>570.81</td>\n",
              "      <td>A</td>\n",
              "      <td>A5</td>\n",
              "      <td>Sever</td>\n",
              "      <td>&lt; 1 year</td>\n",
              "      <td>RENT</td>\n",
              "      <td>40000.0</td>\n",
              "      <td>Source Verified</td>\n",
              "      <td>Dec-2018</td>\n",
              "      <td>Charged Off</td>\n",
              "      <td>n</td>\n",
              "      <td>NaN</td>\n",
              "      <td>NaN</td>\n",
              "      <td>debt_consolidation</td>\n",
              "      <td>Debt consolidation</td>\n",
              "      <td>100xx</td>\n",
              "      <td>NY</td>\n",
              "      <td>12.81</td>\n",
              "      <td>0</td>\n",
              "      <td>Apr-2014</td>\n",
              "      <td>0</td>\n",
              "      <td>NaN</td>\n",
              "      <td>NaN</td>\n",
              "      <td>15</td>\n",
              "      <td>0</td>\n",
              "      <td>16147</td>\n",
              "      <td>35.2%</td>\n",
              "      <td>21</td>\n",
              "      <td>w</td>\n",
              "      <td>0.00</td>\n",
              "      <td>0.00</td>\n",
              "      <td>6265.690000</td>\n",
              "      <td>6265.69</td>\n",
              "      <td>...</td>\n",
              "      <td>12.5</td>\n",
              "      <td>0</td>\n",
              "      <td>0</td>\n",
              "      <td>60900</td>\n",
              "      <td>28062</td>\n",
              "      <td>35800</td>\n",
              "      <td>15000</td>\n",
              "      <td>NaN</td>\n",
              "      <td>NaN</td>\n",
              "      <td>NaN</td>\n",
              "      <td>NaN</td>\n",
              "      <td>NaN</td>\n",
              "      <td>NaN</td>\n",
              "      <td>NaN</td>\n",
              "      <td>NaN</td>\n",
              "      <td>NaN</td>\n",
              "      <td>NaN</td>\n",
              "      <td>NaN</td>\n",
              "      <td>N</td>\n",
              "      <td>NaN</td>\n",
              "      <td>NaN</td>\n",
              "      <td>NaN</td>\n",
              "      <td>NaN</td>\n",
              "      <td>NaN</td>\n",
              "      <td>NaN</td>\n",
              "      <td>NaN</td>\n",
              "      <td>NaN</td>\n",
              "      <td>NaN</td>\n",
              "      <td>NaN</td>\n",
              "      <td>NaN</td>\n",
              "      <td>NaN</td>\n",
              "      <td>NaN</td>\n",
              "      <td>NaN</td>\n",
              "      <td>N</td>\n",
              "      <td>NaN</td>\n",
              "      <td>NaN</td>\n",
              "      <td>NaN</td>\n",
              "      <td>NaN</td>\n",
              "      <td>NaN</td>\n",
              "      <td>NaN</td>\n",
              "    </tr>\n",
              "    <tr>\n",
              "      <th>1</th>\n",
              "      <td>NaN</td>\n",
              "      <td>NaN</td>\n",
              "      <td>18500</td>\n",
              "      <td>18500</td>\n",
              "      <td>18500.0</td>\n",
              "      <td>60 months</td>\n",
              "      <td>12.98%</td>\n",
              "      <td>420.75</td>\n",
              "      <td>B</td>\n",
              "      <td>B5</td>\n",
              "      <td>Supply Chain Analyst</td>\n",
              "      <td>5 years</td>\n",
              "      <td>RENT</td>\n",
              "      <td>96500.0</td>\n",
              "      <td>Source Verified</td>\n",
              "      <td>Dec-2018</td>\n",
              "      <td>Current</td>\n",
              "      <td>n</td>\n",
              "      <td>NaN</td>\n",
              "      <td>NaN</td>\n",
              "      <td>credit_card</td>\n",
              "      <td>Credit card refinancing</td>\n",
              "      <td>554xx</td>\n",
              "      <td>MN</td>\n",
              "      <td>27.86</td>\n",
              "      <td>1</td>\n",
              "      <td>May-2009</td>\n",
              "      <td>0</td>\n",
              "      <td>7.0</td>\n",
              "      <td>NaN</td>\n",
              "      <td>19</td>\n",
              "      <td>0</td>\n",
              "      <td>19000</td>\n",
              "      <td>62.1%</td>\n",
              "      <td>38</td>\n",
              "      <td>w</td>\n",
              "      <td>14135.68</td>\n",
              "      <td>14135.68</td>\n",
              "      <td>7553.490000</td>\n",
              "      <td>7553.49</td>\n",
              "      <td>...</td>\n",
              "      <td>66.7</td>\n",
              "      <td>0</td>\n",
              "      <td>0</td>\n",
              "      <td>131337</td>\n",
              "      <td>81660</td>\n",
              "      <td>22900</td>\n",
              "      <td>100737</td>\n",
              "      <td>NaN</td>\n",
              "      <td>NaN</td>\n",
              "      <td>NaN</td>\n",
              "      <td>NaN</td>\n",
              "      <td>NaN</td>\n",
              "      <td>NaN</td>\n",
              "      <td>NaN</td>\n",
              "      <td>NaN</td>\n",
              "      <td>NaN</td>\n",
              "      <td>NaN</td>\n",
              "      <td>NaN</td>\n",
              "      <td>N</td>\n",
              "      <td>NaN</td>\n",
              "      <td>NaN</td>\n",
              "      <td>NaN</td>\n",
              "      <td>NaN</td>\n",
              "      <td>NaN</td>\n",
              "      <td>NaN</td>\n",
              "      <td>NaN</td>\n",
              "      <td>NaN</td>\n",
              "      <td>NaN</td>\n",
              "      <td>NaN</td>\n",
              "      <td>NaN</td>\n",
              "      <td>NaN</td>\n",
              "      <td>NaN</td>\n",
              "      <td>NaN</td>\n",
              "      <td>N</td>\n",
              "      <td>NaN</td>\n",
              "      <td>NaN</td>\n",
              "      <td>NaN</td>\n",
              "      <td>NaN</td>\n",
              "      <td>NaN</td>\n",
              "      <td>NaN</td>\n",
              "    </tr>\n",
              "    <tr>\n",
              "      <th>2</th>\n",
              "      <td>NaN</td>\n",
              "      <td>NaN</td>\n",
              "      <td>32000</td>\n",
              "      <td>32000</td>\n",
              "      <td>32000.0</td>\n",
              "      <td>60 months</td>\n",
              "      <td>14.47%</td>\n",
              "      <td>752.41</td>\n",
              "      <td>C</td>\n",
              "      <td>C2</td>\n",
              "      <td>Teacher</td>\n",
              "      <td>10+ years</td>\n",
              "      <td>MORTGAGE</td>\n",
              "      <td>110000.0</td>\n",
              "      <td>Source Verified</td>\n",
              "      <td>Dec-2018</td>\n",
              "      <td>Current</td>\n",
              "      <td>n</td>\n",
              "      <td>NaN</td>\n",
              "      <td>NaN</td>\n",
              "      <td>home_improvement</td>\n",
              "      <td>Home improvement</td>\n",
              "      <td>152xx</td>\n",
              "      <td>PA</td>\n",
              "      <td>26.11</td>\n",
              "      <td>0</td>\n",
              "      <td>Oct-2000</td>\n",
              "      <td>0</td>\n",
              "      <td>24.0</td>\n",
              "      <td>NaN</td>\n",
              "      <td>18</td>\n",
              "      <td>0</td>\n",
              "      <td>14833</td>\n",
              "      <td>43%</td>\n",
              "      <td>32</td>\n",
              "      <td>w</td>\n",
              "      <td>26017.15</td>\n",
              "      <td>26017.15</td>\n",
              "      <td>11247.560000</td>\n",
              "      <td>11247.56</td>\n",
              "      <td>...</td>\n",
              "      <td>12.5</td>\n",
              "      <td>0</td>\n",
              "      <td>0</td>\n",
              "      <td>94609</td>\n",
              "      <td>73873</td>\n",
              "      <td>26800</td>\n",
              "      <td>60109</td>\n",
              "      <td>NaN</td>\n",
              "      <td>NaN</td>\n",
              "      <td>NaN</td>\n",
              "      <td>NaN</td>\n",
              "      <td>NaN</td>\n",
              "      <td>NaN</td>\n",
              "      <td>NaN</td>\n",
              "      <td>NaN</td>\n",
              "      <td>NaN</td>\n",
              "      <td>NaN</td>\n",
              "      <td>NaN</td>\n",
              "      <td>N</td>\n",
              "      <td>CVD19SKIP</td>\n",
              "      <td>INCOMECURT</td>\n",
              "      <td>COMPLETE</td>\n",
              "      <td>2.0</td>\n",
              "      <td>0.0</td>\n",
              "      <td>Apr-2020</td>\n",
              "      <td>Jun-2020</td>\n",
              "      <td>Apr-2020</td>\n",
              "      <td>2.0</td>\n",
              "      <td>0.0</td>\n",
              "      <td>ACTIVE</td>\n",
              "      <td>627.45</td>\n",
              "      <td>26278.58</td>\n",
              "      <td>752.41</td>\n",
              "      <td>N</td>\n",
              "      <td>NaN</td>\n",
              "      <td>NaN</td>\n",
              "      <td>NaN</td>\n",
              "      <td>NaN</td>\n",
              "      <td>NaN</td>\n",
              "      <td>NaN</td>\n",
              "    </tr>\n",
              "    <tr>\n",
              "      <th>3</th>\n",
              "      <td>NaN</td>\n",
              "      <td>NaN</td>\n",
              "      <td>5000</td>\n",
              "      <td>5000</td>\n",
              "      <td>5000.0</td>\n",
              "      <td>36 months</td>\n",
              "      <td>17.97%</td>\n",
              "      <td>180.69</td>\n",
              "      <td>D</td>\n",
              "      <td>D1</td>\n",
              "      <td>Administrative</td>\n",
              "      <td>6 years</td>\n",
              "      <td>MORTGAGE</td>\n",
              "      <td>59280.0</td>\n",
              "      <td>Source Verified</td>\n",
              "      <td>Dec-2018</td>\n",
              "      <td>Fully Paid</td>\n",
              "      <td>n</td>\n",
              "      <td>NaN</td>\n",
              "      <td>NaN</td>\n",
              "      <td>debt_consolidation</td>\n",
              "      <td>Debt consolidation</td>\n",
              "      <td>490xx</td>\n",
              "      <td>MI</td>\n",
              "      <td>10.51</td>\n",
              "      <td>0</td>\n",
              "      <td>Apr-2011</td>\n",
              "      <td>0</td>\n",
              "      <td>NaN</td>\n",
              "      <td>NaN</td>\n",
              "      <td>8</td>\n",
              "      <td>0</td>\n",
              "      <td>4599</td>\n",
              "      <td>19.1%</td>\n",
              "      <td>13</td>\n",
              "      <td>w</td>\n",
              "      <td>0.00</td>\n",
              "      <td>0.00</td>\n",
              "      <td>5637.052785</td>\n",
              "      <td>5637.05</td>\n",
              "      <td>...</td>\n",
              "      <td>0.0</td>\n",
              "      <td>0</td>\n",
              "      <td>0</td>\n",
              "      <td>136927</td>\n",
              "      <td>11749</td>\n",
              "      <td>13800</td>\n",
              "      <td>10000</td>\n",
              "      <td>NaN</td>\n",
              "      <td>NaN</td>\n",
              "      <td>NaN</td>\n",
              "      <td>NaN</td>\n",
              "      <td>NaN</td>\n",
              "      <td>NaN</td>\n",
              "      <td>NaN</td>\n",
              "      <td>NaN</td>\n",
              "      <td>NaN</td>\n",
              "      <td>NaN</td>\n",
              "      <td>NaN</td>\n",
              "      <td>N</td>\n",
              "      <td>NaN</td>\n",
              "      <td>NaN</td>\n",
              "      <td>NaN</td>\n",
              "      <td>NaN</td>\n",
              "      <td>NaN</td>\n",
              "      <td>NaN</td>\n",
              "      <td>NaN</td>\n",
              "      <td>NaN</td>\n",
              "      <td>NaN</td>\n",
              "      <td>NaN</td>\n",
              "      <td>NaN</td>\n",
              "      <td>NaN</td>\n",
              "      <td>NaN</td>\n",
              "      <td>NaN</td>\n",
              "      <td>N</td>\n",
              "      <td>NaN</td>\n",
              "      <td>NaN</td>\n",
              "      <td>NaN</td>\n",
              "      <td>NaN</td>\n",
              "      <td>NaN</td>\n",
              "      <td>NaN</td>\n",
              "    </tr>\n",
              "    <tr>\n",
              "      <th>4</th>\n",
              "      <td>NaN</td>\n",
              "      <td>NaN</td>\n",
              "      <td>13000</td>\n",
              "      <td>13000</td>\n",
              "      <td>13000.0</td>\n",
              "      <td>36 months</td>\n",
              "      <td>23.40%</td>\n",
              "      <td>505.95</td>\n",
              "      <td>E</td>\n",
              "      <td>E1</td>\n",
              "      <td>Sale Representative</td>\n",
              "      <td>2 years</td>\n",
              "      <td>MORTGAGE</td>\n",
              "      <td>90000.0</td>\n",
              "      <td>Verified</td>\n",
              "      <td>Dec-2018</td>\n",
              "      <td>Current</td>\n",
              "      <td>n</td>\n",
              "      <td>NaN</td>\n",
              "      <td>NaN</td>\n",
              "      <td>other</td>\n",
              "      <td>Other</td>\n",
              "      <td>191xx</td>\n",
              "      <td>PA</td>\n",
              "      <td>39.73</td>\n",
              "      <td>0</td>\n",
              "      <td>May-2007</td>\n",
              "      <td>0</td>\n",
              "      <td>NaN</td>\n",
              "      <td>NaN</td>\n",
              "      <td>14</td>\n",
              "      <td>0</td>\n",
              "      <td>52013</td>\n",
              "      <td>83.1%</td>\n",
              "      <td>20</td>\n",
              "      <td>w</td>\n",
              "      <td>8968.74</td>\n",
              "      <td>8968.74</td>\n",
              "      <td>7057.950000</td>\n",
              "      <td>7057.95</td>\n",
              "      <td>...</td>\n",
              "      <td>66.7</td>\n",
              "      <td>0</td>\n",
              "      <td>0</td>\n",
              "      <td>137276</td>\n",
              "      <td>87876</td>\n",
              "      <td>58600</td>\n",
              "      <td>74676</td>\n",
              "      <td>NaN</td>\n",
              "      <td>NaN</td>\n",
              "      <td>NaN</td>\n",
              "      <td>NaN</td>\n",
              "      <td>NaN</td>\n",
              "      <td>NaN</td>\n",
              "      <td>NaN</td>\n",
              "      <td>NaN</td>\n",
              "      <td>NaN</td>\n",
              "      <td>NaN</td>\n",
              "      <td>NaN</td>\n",
              "      <td>Y</td>\n",
              "      <td>CVD19SKIP</td>\n",
              "      <td>INCOME_CURTAILMENT</td>\n",
              "      <td>ACTIVE</td>\n",
              "      <td>4.0</td>\n",
              "      <td>0.0</td>\n",
              "      <td>May-2020</td>\n",
              "      <td>Jul-2020</td>\n",
              "      <td>May-2020</td>\n",
              "      <td>4.0</td>\n",
              "      <td>0.0</td>\n",
              "      <td>ACTIVE</td>\n",
              "      <td>1086.68</td>\n",
              "      <td>9481.75</td>\n",
              "      <td>55.80</td>\n",
              "      <td>N</td>\n",
              "      <td>NaN</td>\n",
              "      <td>NaN</td>\n",
              "      <td>NaN</td>\n",
              "      <td>NaN</td>\n",
              "      <td>NaN</td>\n",
              "      <td>NaN</td>\n",
              "    </tr>\n",
              "  </tbody>\n",
              "</table>\n",
              "<p>5 rows × 144 columns</p>\n",
              "</div>"
            ],
            "text/plain": [
              "   id  member_id  ...  settlement_percentage  settlement_term\n",
              "0 NaN        NaN  ...                    NaN              NaN\n",
              "1 NaN        NaN  ...                    NaN              NaN\n",
              "2 NaN        NaN  ...                    NaN              NaN\n",
              "3 NaN        NaN  ...                    NaN              NaN\n",
              "4 NaN        NaN  ...                    NaN              NaN\n",
              "\n",
              "[5 rows x 144 columns]"
            ]
          },
          "metadata": {
            "tags": []
          },
          "execution_count": 21
        }
      ]
    },
    {
      "cell_type": "code",
      "metadata": {
        "id": "3TtTzEngF3F8",
        "colab_type": "code",
        "colab": {
          "base_uri": "https://localhost:8080/",
          "height": 355
        },
        "outputId": "a265159f-7160-4b48-c591-ac5df566b0c6"
      },
      "source": [
        "loans.tail()"
      ],
      "execution_count": 22,
      "outputs": [
        {
          "output_type": "execute_result",
          "data": {
            "text/html": [
              "<div>\n",
              "<style scoped>\n",
              "    .dataframe tbody tr th:only-of-type {\n",
              "        vertical-align: middle;\n",
              "    }\n",
              "\n",
              "    .dataframe tbody tr th {\n",
              "        vertical-align: top;\n",
              "    }\n",
              "\n",
              "    .dataframe thead th {\n",
              "        text-align: right;\n",
              "    }\n",
              "</style>\n",
              "<table border=\"1\" class=\"dataframe\">\n",
              "  <thead>\n",
              "    <tr style=\"text-align: right;\">\n",
              "      <th></th>\n",
              "      <th>id</th>\n",
              "      <th>member_id</th>\n",
              "      <th>loan_amnt</th>\n",
              "      <th>funded_amnt</th>\n",
              "      <th>funded_amnt_inv</th>\n",
              "      <th>term</th>\n",
              "      <th>int_rate</th>\n",
              "      <th>installment</th>\n",
              "      <th>grade</th>\n",
              "      <th>sub_grade</th>\n",
              "      <th>emp_title</th>\n",
              "      <th>emp_length</th>\n",
              "      <th>home_ownership</th>\n",
              "      <th>annual_inc</th>\n",
              "      <th>verification_status</th>\n",
              "      <th>issue_d</th>\n",
              "      <th>loan_status</th>\n",
              "      <th>pymnt_plan</th>\n",
              "      <th>url</th>\n",
              "      <th>desc</th>\n",
              "      <th>purpose</th>\n",
              "      <th>title</th>\n",
              "      <th>zip_code</th>\n",
              "      <th>addr_state</th>\n",
              "      <th>dti</th>\n",
              "      <th>delinq_2yrs</th>\n",
              "      <th>earliest_cr_line</th>\n",
              "      <th>inq_last_6mths</th>\n",
              "      <th>mths_since_last_delinq</th>\n",
              "      <th>mths_since_last_record</th>\n",
              "      <th>open_acc</th>\n",
              "      <th>pub_rec</th>\n",
              "      <th>revol_bal</th>\n",
              "      <th>revol_util</th>\n",
              "      <th>total_acc</th>\n",
              "      <th>initial_list_status</th>\n",
              "      <th>out_prncp</th>\n",
              "      <th>out_prncp_inv</th>\n",
              "      <th>total_pymnt</th>\n",
              "      <th>total_pymnt_inv</th>\n",
              "      <th>...</th>\n",
              "      <th>percent_bc_gt_75</th>\n",
              "      <th>pub_rec_bankruptcies</th>\n",
              "      <th>tax_liens</th>\n",
              "      <th>tot_hi_cred_lim</th>\n",
              "      <th>total_bal_ex_mort</th>\n",
              "      <th>total_bc_limit</th>\n",
              "      <th>total_il_high_credit_limit</th>\n",
              "      <th>revol_bal_joint</th>\n",
              "      <th>sec_app_earliest_cr_line</th>\n",
              "      <th>sec_app_inq_last_6mths</th>\n",
              "      <th>sec_app_mort_acc</th>\n",
              "      <th>sec_app_open_acc</th>\n",
              "      <th>sec_app_revol_util</th>\n",
              "      <th>sec_app_open_act_il</th>\n",
              "      <th>sec_app_num_rev_accts</th>\n",
              "      <th>sec_app_chargeoff_within_12_mths</th>\n",
              "      <th>sec_app_collections_12_mths_ex_med</th>\n",
              "      <th>sec_app_mths_since_last_major_derog</th>\n",
              "      <th>hardship_flag</th>\n",
              "      <th>hardship_type</th>\n",
              "      <th>hardship_reason</th>\n",
              "      <th>hardship_status</th>\n",
              "      <th>deferral_term</th>\n",
              "      <th>hardship_amount</th>\n",
              "      <th>hardship_start_date</th>\n",
              "      <th>hardship_end_date</th>\n",
              "      <th>payment_plan_start_date</th>\n",
              "      <th>hardship_length</th>\n",
              "      <th>hardship_dpd</th>\n",
              "      <th>hardship_loan_status</th>\n",
              "      <th>orig_projected_additional_accrued_interest</th>\n",
              "      <th>hardship_payoff_balance_amount</th>\n",
              "      <th>hardship_last_payment_amount</th>\n",
              "      <th>debt_settlement_flag</th>\n",
              "      <th>debt_settlement_flag_date</th>\n",
              "      <th>settlement_status</th>\n",
              "      <th>settlement_date</th>\n",
              "      <th>settlement_amount</th>\n",
              "      <th>settlement_percentage</th>\n",
              "      <th>settlement_term</th>\n",
              "    </tr>\n",
              "  </thead>\n",
              "  <tbody>\n",
              "    <tr>\n",
              "      <th>128407</th>\n",
              "      <td>NaN</td>\n",
              "      <td>NaN</td>\n",
              "      <td>23000</td>\n",
              "      <td>23000</td>\n",
              "      <td>23000.0</td>\n",
              "      <td>36 months</td>\n",
              "      <td>15.02%</td>\n",
              "      <td>797.53</td>\n",
              "      <td>C</td>\n",
              "      <td>C3</td>\n",
              "      <td>Tax Consultant</td>\n",
              "      <td>10+ years</td>\n",
              "      <td>MORTGAGE</td>\n",
              "      <td>75000.0</td>\n",
              "      <td>Source Verified</td>\n",
              "      <td>Oct-2018</td>\n",
              "      <td>Charged Off</td>\n",
              "      <td>n</td>\n",
              "      <td>NaN</td>\n",
              "      <td>NaN</td>\n",
              "      <td>debt_consolidation</td>\n",
              "      <td>Debt consolidation</td>\n",
              "      <td>352xx</td>\n",
              "      <td>AL</td>\n",
              "      <td>20.95</td>\n",
              "      <td>1</td>\n",
              "      <td>Aug-1985</td>\n",
              "      <td>2</td>\n",
              "      <td>22.0</td>\n",
              "      <td>NaN</td>\n",
              "      <td>12</td>\n",
              "      <td>0</td>\n",
              "      <td>22465</td>\n",
              "      <td>43.6%</td>\n",
              "      <td>28</td>\n",
              "      <td>w</td>\n",
              "      <td>0.00</td>\n",
              "      <td>0.00</td>\n",
              "      <td>1547.08</td>\n",
              "      <td>1547.08</td>\n",
              "      <td>...</td>\n",
              "      <td>14.3</td>\n",
              "      <td>0</td>\n",
              "      <td>0</td>\n",
              "      <td>296500</td>\n",
              "      <td>40614</td>\n",
              "      <td>47100</td>\n",
              "      <td>21000</td>\n",
              "      <td>NaN</td>\n",
              "      <td>NaN</td>\n",
              "      <td>NaN</td>\n",
              "      <td>NaN</td>\n",
              "      <td>NaN</td>\n",
              "      <td>NaN</td>\n",
              "      <td>NaN</td>\n",
              "      <td>NaN</td>\n",
              "      <td>NaN</td>\n",
              "      <td>NaN</td>\n",
              "      <td>NaN</td>\n",
              "      <td>N</td>\n",
              "      <td>NaN</td>\n",
              "      <td>NaN</td>\n",
              "      <td>NaN</td>\n",
              "      <td>NaN</td>\n",
              "      <td>NaN</td>\n",
              "      <td>NaN</td>\n",
              "      <td>NaN</td>\n",
              "      <td>NaN</td>\n",
              "      <td>NaN</td>\n",
              "      <td>NaN</td>\n",
              "      <td>NaN</td>\n",
              "      <td>NaN</td>\n",
              "      <td>NaN</td>\n",
              "      <td>NaN</td>\n",
              "      <td>N</td>\n",
              "      <td>NaN</td>\n",
              "      <td>NaN</td>\n",
              "      <td>NaN</td>\n",
              "      <td>NaN</td>\n",
              "      <td>NaN</td>\n",
              "      <td>NaN</td>\n",
              "    </tr>\n",
              "    <tr>\n",
              "      <th>128408</th>\n",
              "      <td>NaN</td>\n",
              "      <td>NaN</td>\n",
              "      <td>10000</td>\n",
              "      <td>10000</td>\n",
              "      <td>10000.0</td>\n",
              "      <td>36 months</td>\n",
              "      <td>15.02%</td>\n",
              "      <td>346.76</td>\n",
              "      <td>C</td>\n",
              "      <td>C3</td>\n",
              "      <td>security guard</td>\n",
              "      <td>5 years</td>\n",
              "      <td>MORTGAGE</td>\n",
              "      <td>38000.0</td>\n",
              "      <td>Not Verified</td>\n",
              "      <td>Oct-2018</td>\n",
              "      <td>Current</td>\n",
              "      <td>n</td>\n",
              "      <td>NaN</td>\n",
              "      <td>NaN</td>\n",
              "      <td>debt_consolidation</td>\n",
              "      <td>Debt consolidation</td>\n",
              "      <td>443xx</td>\n",
              "      <td>OH</td>\n",
              "      <td>13.16</td>\n",
              "      <td>3</td>\n",
              "      <td>Jul-1982</td>\n",
              "      <td>0</td>\n",
              "      <td>6.0</td>\n",
              "      <td>NaN</td>\n",
              "      <td>11</td>\n",
              "      <td>0</td>\n",
              "      <td>5634</td>\n",
              "      <td>37.1%</td>\n",
              "      <td>16</td>\n",
              "      <td>w</td>\n",
              "      <td>4999.38</td>\n",
              "      <td>4999.38</td>\n",
              "      <td>6926.86</td>\n",
              "      <td>6926.86</td>\n",
              "      <td>...</td>\n",
              "      <td>40.0</td>\n",
              "      <td>0</td>\n",
              "      <td>0</td>\n",
              "      <td>91403</td>\n",
              "      <td>9323</td>\n",
              "      <td>9100</td>\n",
              "      <td>2000</td>\n",
              "      <td>NaN</td>\n",
              "      <td>NaN</td>\n",
              "      <td>NaN</td>\n",
              "      <td>NaN</td>\n",
              "      <td>NaN</td>\n",
              "      <td>NaN</td>\n",
              "      <td>NaN</td>\n",
              "      <td>NaN</td>\n",
              "      <td>NaN</td>\n",
              "      <td>NaN</td>\n",
              "      <td>NaN</td>\n",
              "      <td>N</td>\n",
              "      <td>NaN</td>\n",
              "      <td>NaN</td>\n",
              "      <td>NaN</td>\n",
              "      <td>NaN</td>\n",
              "      <td>NaN</td>\n",
              "      <td>NaN</td>\n",
              "      <td>NaN</td>\n",
              "      <td>NaN</td>\n",
              "      <td>NaN</td>\n",
              "      <td>NaN</td>\n",
              "      <td>NaN</td>\n",
              "      <td>NaN</td>\n",
              "      <td>NaN</td>\n",
              "      <td>NaN</td>\n",
              "      <td>N</td>\n",
              "      <td>NaN</td>\n",
              "      <td>NaN</td>\n",
              "      <td>NaN</td>\n",
              "      <td>NaN</td>\n",
              "      <td>NaN</td>\n",
              "      <td>NaN</td>\n",
              "    </tr>\n",
              "    <tr>\n",
              "      <th>128409</th>\n",
              "      <td>NaN</td>\n",
              "      <td>NaN</td>\n",
              "      <td>5000</td>\n",
              "      <td>5000</td>\n",
              "      <td>5000.0</td>\n",
              "      <td>36 months</td>\n",
              "      <td>13.56%</td>\n",
              "      <td>169.83</td>\n",
              "      <td>C</td>\n",
              "      <td>C1</td>\n",
              "      <td>Payoff Clerk</td>\n",
              "      <td>10+ years</td>\n",
              "      <td>MORTGAGE</td>\n",
              "      <td>35360.0</td>\n",
              "      <td>Not Verified</td>\n",
              "      <td>Oct-2018</td>\n",
              "      <td>Current</td>\n",
              "      <td>n</td>\n",
              "      <td>NaN</td>\n",
              "      <td>NaN</td>\n",
              "      <td>debt_consolidation</td>\n",
              "      <td>Debt consolidation</td>\n",
              "      <td>381xx</td>\n",
              "      <td>TN</td>\n",
              "      <td>11.30</td>\n",
              "      <td>1</td>\n",
              "      <td>Jun-2006</td>\n",
              "      <td>0</td>\n",
              "      <td>21.0</td>\n",
              "      <td>NaN</td>\n",
              "      <td>9</td>\n",
              "      <td>0</td>\n",
              "      <td>2597</td>\n",
              "      <td>27.3%</td>\n",
              "      <td>15</td>\n",
              "      <td>f</td>\n",
              "      <td>2472.76</td>\n",
              "      <td>2472.76</td>\n",
              "      <td>3392.83</td>\n",
              "      <td>3392.83</td>\n",
              "      <td>...</td>\n",
              "      <td>50.0</td>\n",
              "      <td>0</td>\n",
              "      <td>0</td>\n",
              "      <td>93908</td>\n",
              "      <td>4976</td>\n",
              "      <td>3000</td>\n",
              "      <td>6028</td>\n",
              "      <td>NaN</td>\n",
              "      <td>NaN</td>\n",
              "      <td>NaN</td>\n",
              "      <td>NaN</td>\n",
              "      <td>NaN</td>\n",
              "      <td>NaN</td>\n",
              "      <td>NaN</td>\n",
              "      <td>NaN</td>\n",
              "      <td>NaN</td>\n",
              "      <td>NaN</td>\n",
              "      <td>NaN</td>\n",
              "      <td>N</td>\n",
              "      <td>NaN</td>\n",
              "      <td>NaN</td>\n",
              "      <td>NaN</td>\n",
              "      <td>NaN</td>\n",
              "      <td>NaN</td>\n",
              "      <td>NaN</td>\n",
              "      <td>NaN</td>\n",
              "      <td>NaN</td>\n",
              "      <td>NaN</td>\n",
              "      <td>NaN</td>\n",
              "      <td>NaN</td>\n",
              "      <td>NaN</td>\n",
              "      <td>NaN</td>\n",
              "      <td>NaN</td>\n",
              "      <td>N</td>\n",
              "      <td>NaN</td>\n",
              "      <td>NaN</td>\n",
              "      <td>NaN</td>\n",
              "      <td>NaN</td>\n",
              "      <td>NaN</td>\n",
              "      <td>NaN</td>\n",
              "    </tr>\n",
              "    <tr>\n",
              "      <th>128410</th>\n",
              "      <td>NaN</td>\n",
              "      <td>NaN</td>\n",
              "      <td>10000</td>\n",
              "      <td>10000</td>\n",
              "      <td>9750.0</td>\n",
              "      <td>36 months</td>\n",
              "      <td>11.06%</td>\n",
              "      <td>327.68</td>\n",
              "      <td>B</td>\n",
              "      <td>B3</td>\n",
              "      <td>NaN</td>\n",
              "      <td>NaN</td>\n",
              "      <td>RENT</td>\n",
              "      <td>44400.0</td>\n",
              "      <td>Source Verified</td>\n",
              "      <td>Oct-2018</td>\n",
              "      <td>Current</td>\n",
              "      <td>n</td>\n",
              "      <td>NaN</td>\n",
              "      <td>NaN</td>\n",
              "      <td>credit_card</td>\n",
              "      <td>Credit card refinancing</td>\n",
              "      <td>980xx</td>\n",
              "      <td>WA</td>\n",
              "      <td>11.78</td>\n",
              "      <td>0</td>\n",
              "      <td>Oct-2008</td>\n",
              "      <td>2</td>\n",
              "      <td>40.0</td>\n",
              "      <td>NaN</td>\n",
              "      <td>15</td>\n",
              "      <td>0</td>\n",
              "      <td>6269</td>\n",
              "      <td>13.1%</td>\n",
              "      <td>25</td>\n",
              "      <td>f</td>\n",
              "      <td>4853.58</td>\n",
              "      <td>4732.24</td>\n",
              "      <td>6538.24</td>\n",
              "      <td>6374.78</td>\n",
              "      <td>...</td>\n",
              "      <td>0.0</td>\n",
              "      <td>0</td>\n",
              "      <td>0</td>\n",
              "      <td>57871</td>\n",
              "      <td>16440</td>\n",
              "      <td>20500</td>\n",
              "      <td>10171</td>\n",
              "      <td>NaN</td>\n",
              "      <td>NaN</td>\n",
              "      <td>NaN</td>\n",
              "      <td>NaN</td>\n",
              "      <td>NaN</td>\n",
              "      <td>NaN</td>\n",
              "      <td>NaN</td>\n",
              "      <td>NaN</td>\n",
              "      <td>NaN</td>\n",
              "      <td>NaN</td>\n",
              "      <td>NaN</td>\n",
              "      <td>N</td>\n",
              "      <td>NaN</td>\n",
              "      <td>NaN</td>\n",
              "      <td>NaN</td>\n",
              "      <td>NaN</td>\n",
              "      <td>NaN</td>\n",
              "      <td>NaN</td>\n",
              "      <td>NaN</td>\n",
              "      <td>NaN</td>\n",
              "      <td>NaN</td>\n",
              "      <td>NaN</td>\n",
              "      <td>NaN</td>\n",
              "      <td>NaN</td>\n",
              "      <td>NaN</td>\n",
              "      <td>NaN</td>\n",
              "      <td>N</td>\n",
              "      <td>NaN</td>\n",
              "      <td>NaN</td>\n",
              "      <td>NaN</td>\n",
              "      <td>NaN</td>\n",
              "      <td>NaN</td>\n",
              "      <td>NaN</td>\n",
              "    </tr>\n",
              "    <tr>\n",
              "      <th>128411</th>\n",
              "      <td>NaN</td>\n",
              "      <td>NaN</td>\n",
              "      <td>10000</td>\n",
              "      <td>10000</td>\n",
              "      <td>10000.0</td>\n",
              "      <td>36 months</td>\n",
              "      <td>16.91%</td>\n",
              "      <td>356.08</td>\n",
              "      <td>C</td>\n",
              "      <td>C5</td>\n",
              "      <td>Key Accounts Manager</td>\n",
              "      <td>2 years</td>\n",
              "      <td>RENT</td>\n",
              "      <td>80000.0</td>\n",
              "      <td>Not Verified</td>\n",
              "      <td>Oct-2018</td>\n",
              "      <td>Current</td>\n",
              "      <td>n</td>\n",
              "      <td>NaN</td>\n",
              "      <td>NaN</td>\n",
              "      <td>other</td>\n",
              "      <td>Other</td>\n",
              "      <td>021xx</td>\n",
              "      <td>MA</td>\n",
              "      <td>17.72</td>\n",
              "      <td>1</td>\n",
              "      <td>Sep-2006</td>\n",
              "      <td>0</td>\n",
              "      <td>14.0</td>\n",
              "      <td>NaN</td>\n",
              "      <td>17</td>\n",
              "      <td>0</td>\n",
              "      <td>1942</td>\n",
              "      <td>30.8%</td>\n",
              "      <td>31</td>\n",
              "      <td>w</td>\n",
              "      <td>5068.90</td>\n",
              "      <td>5068.90</td>\n",
              "      <td>7112.21</td>\n",
              "      <td>7112.21</td>\n",
              "      <td>...</td>\n",
              "      <td>0.0</td>\n",
              "      <td>0</td>\n",
              "      <td>0</td>\n",
              "      <td>73669</td>\n",
              "      <td>59194</td>\n",
              "      <td>4000</td>\n",
              "      <td>67369</td>\n",
              "      <td>NaN</td>\n",
              "      <td>NaN</td>\n",
              "      <td>NaN</td>\n",
              "      <td>NaN</td>\n",
              "      <td>NaN</td>\n",
              "      <td>NaN</td>\n",
              "      <td>NaN</td>\n",
              "      <td>NaN</td>\n",
              "      <td>NaN</td>\n",
              "      <td>NaN</td>\n",
              "      <td>NaN</td>\n",
              "      <td>N</td>\n",
              "      <td>NaN</td>\n",
              "      <td>NaN</td>\n",
              "      <td>NaN</td>\n",
              "      <td>NaN</td>\n",
              "      <td>NaN</td>\n",
              "      <td>NaN</td>\n",
              "      <td>NaN</td>\n",
              "      <td>NaN</td>\n",
              "      <td>NaN</td>\n",
              "      <td>NaN</td>\n",
              "      <td>NaN</td>\n",
              "      <td>NaN</td>\n",
              "      <td>NaN</td>\n",
              "      <td>NaN</td>\n",
              "      <td>N</td>\n",
              "      <td>NaN</td>\n",
              "      <td>NaN</td>\n",
              "      <td>NaN</td>\n",
              "      <td>NaN</td>\n",
              "      <td>NaN</td>\n",
              "      <td>NaN</td>\n",
              "    </tr>\n",
              "  </tbody>\n",
              "</table>\n",
              "<p>5 rows × 144 columns</p>\n",
              "</div>"
            ],
            "text/plain": [
              "        id  member_id  ...  settlement_percentage  settlement_term\n",
              "128407 NaN        NaN  ...                    NaN              NaN\n",
              "128408 NaN        NaN  ...                    NaN              NaN\n",
              "128409 NaN        NaN  ...                    NaN              NaN\n",
              "128410 NaN        NaN  ...                    NaN              NaN\n",
              "128411 NaN        NaN  ...                    NaN              NaN\n",
              "\n",
              "[5 rows x 144 columns]"
            ]
          },
          "metadata": {
            "tags": []
          },
          "execution_count": 22
        }
      ]
    },
    {
      "cell_type": "code",
      "metadata": {
        "id": "HaVGofODkOU9",
        "colab_type": "code",
        "colab": {
          "base_uri": "https://localhost:8080/",
          "height": 34
        },
        "outputId": "11cc93c2-56ea-4514-faaf-11cd31c39a44"
      },
      "source": [
        "loans.shape"
      ],
      "execution_count": 24,
      "outputs": [
        {
          "output_type": "execute_result",
          "data": {
            "text/plain": [
              "(128412, 140)"
            ]
          },
          "metadata": {
            "tags": []
          },
          "execution_count": 24
        }
      ]
    },
    {
      "cell_type": "code",
      "metadata": {
        "id": "-llCTj6xGGAd",
        "colab_type": "code",
        "colab": {
          "base_uri": "https://localhost:8080/",
          "height": 1000
        },
        "outputId": "695debd3-2bd3-4315-b8ed-96813d318ca2"
      },
      "source": [
        "#set to view allrows\n",
        "pd.set_option('display.max_rows', 200)\n",
        "\n",
        "#check NaN values\n",
        "loans.isnull().sum().sort_values()"
      ],
      "execution_count": 9,
      "outputs": [
        {
          "output_type": "execute_result",
          "data": {
            "text/plain": [
              "inq_fi                                             0\n",
              "mo_sin_old_rev_tl_op                               0\n",
              "delinq_amnt                                        0\n",
              "chargeoff_within_12_mths                           0\n",
              "acc_open_past_24mths                               0\n",
              "inq_last_12m                                       0\n",
              "total_cu_tl                                        0\n",
              "total_rev_hi_lim                                   0\n",
              "open_rv_24m                                        0\n",
              "open_rv_12m                                        0\n",
              "total_bal_il                                       0\n",
              "open_il_24m                                        0\n",
              "open_il_12m                                        0\n",
              "open_act_il                                        0\n",
              "open_acc_6m                                        0\n",
              "tot_cur_bal                                        0\n",
              "tot_coll_amt                                       0\n",
              "acc_now_delinq                                     0\n",
              "application_type                                   0\n",
              "policy_code                                        0\n",
              "mo_sin_rcnt_rev_tl_op                              0\n",
              "collections_12_mths_ex_med                         0\n",
              "mo_sin_rcnt_tl                                     0\n",
              "num_accts_ever_120_pd                              0\n",
              "total_il_high_credit_limit                         0\n",
              "total_bc_limit                                     0\n",
              "total_bal_ex_mort                                  0\n",
              "tot_hi_cred_lim                                    0\n",
              "tax_liens                                          0\n",
              "pub_rec_bankruptcies                               0\n",
              "pct_tl_nvr_dlq                                     0\n",
              "num_tl_op_past_12m                                 0\n",
              "num_tl_90g_dpd_24m                                 0\n",
              "num_tl_30dpd                                       0\n",
              "num_sats                                           0\n",
              "num_rev_tl_bal_gt_0                                0\n",
              "num_rev_accts                                      0\n",
              "num_op_rev_tl                                      0\n",
              "num_il_tl                                          0\n",
              "num_bc_tl                                          0\n",
              "num_bc_sats                                        0\n",
              "num_actv_rev_tl                                    0\n",
              "num_actv_bc_tl                                     0\n",
              "mort_acc                                           0\n",
              "last_pymnt_amnt                                    0\n",
              "max_bal_bc                                         0\n",
              "collection_recovery_fee                            0\n",
              "earliest_cr_line                                   0\n",
              "delinq_2yrs                                        0\n",
              "addr_state                                         0\n",
              "zip_code                                           0\n",
              "title                                              0\n",
              "purpose                                            0\n",
              "pymnt_plan                                         0\n",
              "loan_status                                        0\n",
              "issue_d                                            0\n",
              "inq_last_6mths                                     0\n",
              "verification_status                                0\n",
              "home_ownership                                     0\n",
              "sub_grade                                          0\n",
              "grade                                              0\n",
              "installment                                        0\n",
              "int_rate                                           0\n",
              "term                                               0\n",
              "funded_amnt_inv                                    0\n",
              "funded_amnt                                        0\n",
              "loan_amnt                                          0\n",
              "annual_inc                                         0\n",
              "open_acc                                           0\n",
              "debt_settlement_flag                               0\n",
              "total_rec_int                                      0\n",
              "recoveries                                         0\n",
              "total_rec_late_fee                                 0\n",
              "total_rec_prncp                                    0\n",
              "total_pymnt_inv                                    0\n",
              "out_prncp_inv                                      0\n",
              "out_prncp                                          0\n",
              "initial_list_status                                0\n",
              "total_acc                                          0\n",
              "total_pymnt                                        0\n",
              "revol_bal                                          0\n",
              "pub_rec                                            0\n",
              "last_credit_pull_d                                 1\n",
              "avg_cur_bal                                       13\n",
              "all_util                                          37\n",
              "revol_util                                       156\n",
              "last_pymnt_d                                     159\n",
              "dti                                              237\n",
              "mths_since_recent_bc                            1591\n",
              "bc_open_to_buy                                  1691\n",
              "percent_bc_gt_75                                1692\n",
              "bc_util                                         1754\n",
              "num_tl_120dpd_2m                                2859\n",
              "hardship_flag                                   3696\n",
              "mo_sin_old_il_acct                              4478\n",
              "mths_since_rcnt_il                              4478\n",
              "emp_length                                     11704\n",
              "mths_since_recent_inq                          16047\n",
              "il_util                                        20274\n",
              "emp_title                                      20947\n",
              "next_pymnt_d                                   41507\n",
              "mths_since_last_delinq                         72196\n",
              "mths_since_recent_revol_delinq                 91630\n",
              "mths_since_last_major_derog                    99232\n",
              "mths_since_recent_bc_dlq                      103243\n",
              "sec_app_open_act_il                           111630\n",
              "dti_joint                                     111630\n",
              "sec_app_collections_12_mths_ex_med            111630\n",
              "sec_app_chargeoff_within_12_mths              111630\n",
              "revol_bal_joint                               111630\n",
              "sec_app_earliest_cr_line                      111630\n",
              "sec_app_inq_last_6mths                        111630\n",
              "sec_app_mort_acc                              111630\n",
              "sec_app_open_acc                              111630\n",
              "annual_inc_joint                              111630\n",
              "sec_app_num_rev_accts                         111630\n",
              "sec_app_revol_util                            111888\n",
              "hardship_amount                               112014\n",
              "hardship_payoff_balance_amount                112014\n",
              "hardship_last_payment_amount                  112014\n",
              "orig_projected_additional_accrued_interest    112038\n",
              "mths_since_last_record                        112962\n",
              "verification_status_joint                     113564\n",
              "payment_plan_start_date                       115709\n",
              "hardship_dpd                                  115710\n",
              "hardship_length                               115710\n",
              "hardship_end_date                             115710\n",
              "hardship_start_date                           115710\n",
              "hardship_status                               115710\n",
              "hardship_type                                 115710\n",
              "deferral_term                                 115710\n",
              "hardship_reason                               115711\n",
              "hardship_loan_status                          116534\n",
              "sec_app_mths_since_last_major_derog           123258\n",
              "settlement_amount                             127518\n",
              "settlement_status                             127518\n",
              "debt_settlement_flag_date                     127518\n",
              "settlement_date                               127518\n",
              "settlement_term                               127518\n",
              "settlement_percentage                         127518\n",
              "desc                                          128412\n",
              "url                                           128412\n",
              "member_id                                     128412\n",
              "id                                            128412\n",
              "dtype: int64"
            ]
          },
          "metadata": {
            "tags": []
          },
          "execution_count": 9
        }
      ]
    },
    {
      "cell_type": "code",
      "metadata": {
        "id": "01Y414ppiXs2",
        "colab_type": "code",
        "colab": {}
      },
      "source": [
        "#drop completely empty cols\n",
        "loans = loans.drop(['url', 'member_id', 'desc', 'id'], axis=1).copy()"
      ],
      "execution_count": 23,
      "outputs": []
    },
    {
      "cell_type": "code",
      "metadata": {
        "id": "7nB71eqAkImX",
        "colab_type": "code",
        "colab": {
          "base_uri": "https://localhost:8080/",
          "height": 34
        },
        "outputId": "69ae7803-3011-4132-d8df-8ba546790119"
      },
      "source": [
        "loans.shape"
      ],
      "execution_count": 25,
      "outputs": [
        {
          "output_type": "execute_result",
          "data": {
            "text/plain": [
              "(128412, 140)"
            ]
          },
          "metadata": {
            "tags": []
          },
          "execution_count": 25
        }
      ]
    },
    {
      "cell_type": "code",
      "metadata": {
        "id": "nbquYbfIkgdb",
        "colab_type": "code",
        "colab": {}
      },
      "source": [
        "#define function to convert values to int\n",
        "def str_to_int(value):\n",
        "  return int(value.strip('months').strip())"
      ],
      "execution_count": 28,
      "outputs": []
    },
    {
      "cell_type": "code",
      "metadata": {
        "id": "oocTEn9ak5Sa",
        "colab_type": "code",
        "colab": {}
      },
      "source": [
        "#apply function\n",
        "loans['term'] = loans['term'].apply(str_to_int)"
      ],
      "execution_count": 29,
      "outputs": []
    },
    {
      "cell_type": "code",
      "metadata": {
        "id": "5BCO7xxelIWT",
        "colab_type": "code",
        "colab": {
          "base_uri": "https://localhost:8080/",
          "height": 119
        },
        "outputId": "36bcbc85-2143-426b-84b9-9a67611e1679"
      },
      "source": [
        "#check\n",
        "loans['term'].sample(5)"
      ],
      "execution_count": 30,
      "outputs": [
        {
          "output_type": "execute_result",
          "data": {
            "text/plain": [
              "45572     36\n",
              "46882     36\n",
              "49964     60\n",
              "108634    60\n",
              "94776     60\n",
              "Name: term, dtype: int64"
            ]
          },
          "metadata": {
            "tags": []
          },
          "execution_count": 30
        }
      ]
    },
    {
      "cell_type": "code",
      "metadata": {
        "id": "Mde7u89QmgFt",
        "colab_type": "code",
        "colab": {
          "base_uri": "https://localhost:8080/",
          "height": 136
        },
        "outputId": "9014947b-b493-499f-c2f9-23ed9d57e43c"
      },
      "source": [
        "loans['loan_status'].sample(6)"
      ],
      "execution_count": 31,
      "outputs": [
        {
          "output_type": "execute_result",
          "data": {
            "text/plain": [
              "4964          Current\n",
              "107876        Current\n",
              "24839      Fully Paid\n",
              "13687     Charged Off\n",
              "76340      Fully Paid\n",
              "11960         Current\n",
              "Name: loan_status, dtype: object"
            ]
          },
          "metadata": {
            "tags": []
          },
          "execution_count": 31
        }
      ]
    },
    {
      "cell_type": "code",
      "metadata": {
        "id": "g32kABfImFBY",
        "colab_type": "code",
        "colab": {}
      },
      "source": [
        "#create new col loan_status_is_great\n",
        "loans['loan_status_is_great'] = np.where((loans['loan_status'] == 'Current')|(loans['loan_status'] == 'Fully Paid'), 1, 0)"
      ],
      "execution_count": 39,
      "outputs": []
    },
    {
      "cell_type": "code",
      "metadata": {
        "id": "nJi7WbQ-n22j",
        "colab_type": "code",
        "colab": {
          "base_uri": "https://localhost:8080/",
          "height": 235
        },
        "outputId": "490f14df-9eb6-42c4-d29d-1a63dc01ab2c"
      },
      "source": [
        "loans[['loan_status','loan_status_is_great']].sample(6)"
      ],
      "execution_count": 40,
      "outputs": [
        {
          "output_type": "execute_result",
          "data": {
            "text/html": [
              "<div>\n",
              "<style scoped>\n",
              "    .dataframe tbody tr th:only-of-type {\n",
              "        vertical-align: middle;\n",
              "    }\n",
              "\n",
              "    .dataframe tbody tr th {\n",
              "        vertical-align: top;\n",
              "    }\n",
              "\n",
              "    .dataframe thead th {\n",
              "        text-align: right;\n",
              "    }\n",
              "</style>\n",
              "<table border=\"1\" class=\"dataframe\">\n",
              "  <thead>\n",
              "    <tr style=\"text-align: right;\">\n",
              "      <th></th>\n",
              "      <th>loan_status</th>\n",
              "      <th>loan_status_is_great</th>\n",
              "    </tr>\n",
              "  </thead>\n",
              "  <tbody>\n",
              "    <tr>\n",
              "      <th>65182</th>\n",
              "      <td>Charged Off</td>\n",
              "      <td>0</td>\n",
              "    </tr>\n",
              "    <tr>\n",
              "      <th>7688</th>\n",
              "      <td>Current</td>\n",
              "      <td>1</td>\n",
              "    </tr>\n",
              "    <tr>\n",
              "      <th>43009</th>\n",
              "      <td>Fully Paid</td>\n",
              "      <td>1</td>\n",
              "    </tr>\n",
              "    <tr>\n",
              "      <th>78515</th>\n",
              "      <td>Charged Off</td>\n",
              "      <td>0</td>\n",
              "    </tr>\n",
              "    <tr>\n",
              "      <th>97144</th>\n",
              "      <td>Current</td>\n",
              "      <td>1</td>\n",
              "    </tr>\n",
              "    <tr>\n",
              "      <th>116573</th>\n",
              "      <td>Current</td>\n",
              "      <td>1</td>\n",
              "    </tr>\n",
              "  </tbody>\n",
              "</table>\n",
              "</div>"
            ],
            "text/plain": [
              "        loan_status  loan_status_is_great\n",
              "65182   Charged Off                     0\n",
              "7688        Current                     1\n",
              "43009    Fully Paid                     1\n",
              "78515   Charged Off                     0\n",
              "97144       Current                     1\n",
              "116573      Current                     1"
            ]
          },
          "metadata": {
            "tags": []
          },
          "execution_count": 40
        }
      ]
    },
    {
      "cell_type": "code",
      "metadata": {
        "id": "yjn50tYJoAV_",
        "colab_type": "code",
        "colab": {
          "base_uri": "https://localhost:8080/",
          "height": 119
        },
        "outputId": "004933ff-184a-4b04-d0c2-34ec9e547def"
      },
      "source": [
        "#Make last_pymnt_d_month and last_pymnt_d_year columns\n",
        "loans['last_pymnt_d'].head()"
      ],
      "execution_count": 41,
      "outputs": [
        {
          "output_type": "execute_result",
          "data": {
            "text/plain": [
              "0    Oct-2019\n",
              "1    Jun-2020\n",
              "2    May-2020\n",
              "3    Oct-2019\n",
              "4    Jun-2020\n",
              "Name: last_pymnt_d, dtype: object"
            ]
          },
          "metadata": {
            "tags": []
          },
          "execution_count": 41
        }
      ]
    },
    {
      "cell_type": "code",
      "metadata": {
        "id": "5RO2TT6eolPB",
        "colab_type": "code",
        "colab": {
          "base_uri": "https://localhost:8080/",
          "height": 119
        },
        "outputId": "8c53d698-6af9-49f2-dbdb-7f4f6defae96"
      },
      "source": [
        "#convert to date time format \n",
        "loans['last_pymnt_d'] = pd.to_datetime(loans['last_pymnt_d'], infer_datetime_format=True)\n",
        "loans['last_pymnt_d'].head()"
      ],
      "execution_count": 44,
      "outputs": [
        {
          "output_type": "execute_result",
          "data": {
            "text/plain": [
              "0   2019-10-01\n",
              "1   2020-06-01\n",
              "2   2020-05-01\n",
              "3   2019-10-01\n",
              "4   2020-06-01\n",
              "Name: last_pymnt_d, dtype: datetime64[ns]"
            ]
          },
          "metadata": {
            "tags": []
          },
          "execution_count": 44
        }
      ]
    },
    {
      "cell_type": "code",
      "metadata": {
        "id": "DmHboHQdoUOb",
        "colab_type": "code",
        "colab": {}
      },
      "source": [
        "#create a col for last payment in month\n",
        "loans['last_pymnt_d_month'] = loans['last_pymnt_d'].dt.month"
      ],
      "execution_count": 45,
      "outputs": []
    },
    {
      "cell_type": "code",
      "metadata": {
        "id": "DKH7wgDPpCd5",
        "colab_type": "code",
        "colab": {}
      },
      "source": [
        "#create a col for last payment in year\n",
        "loans['last_pymnt_d_year'] = loans['last_pymnt_d'].dt.year"
      ],
      "execution_count": 46,
      "outputs": []
    },
    {
      "cell_type": "code",
      "metadata": {
        "id": "gmTVZTY8pMa4",
        "colab_type": "code",
        "colab": {
          "base_uri": "https://localhost:8080/",
          "height": 204
        },
        "outputId": "ed028584-880b-4d9c-dc75-091c28bd5777"
      },
      "source": [
        "loans[['last_pymnt_d', 'last_pymnt_d_month', 'last_pymnt_d_year']].head()"
      ],
      "execution_count": 47,
      "outputs": [
        {
          "output_type": "execute_result",
          "data": {
            "text/html": [
              "<div>\n",
              "<style scoped>\n",
              "    .dataframe tbody tr th:only-of-type {\n",
              "        vertical-align: middle;\n",
              "    }\n",
              "\n",
              "    .dataframe tbody tr th {\n",
              "        vertical-align: top;\n",
              "    }\n",
              "\n",
              "    .dataframe thead th {\n",
              "        text-align: right;\n",
              "    }\n",
              "</style>\n",
              "<table border=\"1\" class=\"dataframe\">\n",
              "  <thead>\n",
              "    <tr style=\"text-align: right;\">\n",
              "      <th></th>\n",
              "      <th>last_pymnt_d</th>\n",
              "      <th>last_pymnt_d_month</th>\n",
              "      <th>last_pymnt_d_year</th>\n",
              "    </tr>\n",
              "  </thead>\n",
              "  <tbody>\n",
              "    <tr>\n",
              "      <th>0</th>\n",
              "      <td>2019-10-01</td>\n",
              "      <td>10.0</td>\n",
              "      <td>2019.0</td>\n",
              "    </tr>\n",
              "    <tr>\n",
              "      <th>1</th>\n",
              "      <td>2020-06-01</td>\n",
              "      <td>6.0</td>\n",
              "      <td>2020.0</td>\n",
              "    </tr>\n",
              "    <tr>\n",
              "      <th>2</th>\n",
              "      <td>2020-05-01</td>\n",
              "      <td>5.0</td>\n",
              "      <td>2020.0</td>\n",
              "    </tr>\n",
              "    <tr>\n",
              "      <th>3</th>\n",
              "      <td>2019-10-01</td>\n",
              "      <td>10.0</td>\n",
              "      <td>2019.0</td>\n",
              "    </tr>\n",
              "    <tr>\n",
              "      <th>4</th>\n",
              "      <td>2020-06-01</td>\n",
              "      <td>6.0</td>\n",
              "      <td>2020.0</td>\n",
              "    </tr>\n",
              "  </tbody>\n",
              "</table>\n",
              "</div>"
            ],
            "text/plain": [
              "  last_pymnt_d  last_pymnt_d_month  last_pymnt_d_year\n",
              "0   2019-10-01                10.0             2019.0\n",
              "1   2020-06-01                 6.0             2020.0\n",
              "2   2020-05-01                 5.0             2020.0\n",
              "3   2019-10-01                10.0             2019.0\n",
              "4   2020-06-01                 6.0             2020.0"
            ]
          },
          "metadata": {
            "tags": []
          },
          "execution_count": 47
        }
      ]
    },
    {
      "cell_type": "markdown",
      "metadata": {
        "colab_type": "text",
        "id": "L8k0LiHmo5EU"
      },
      "source": [
        "# Stretch Goals\n",
        "\n",
        "You can do more with the LendingClub or Instacart datasets.\n",
        "\n",
        "LendingClub options:\n",
        "- There's one other column in the dataframe with percent signs. Remove them and convert to floats. You'll need to handle missing values.\n",
        "- Modify the `emp_title` column to replace titles with 'Other' if the title is not in the top 20. \n",
        "- Take initiatve and work on your own ideas!\n",
        "\n",
        "Instacart options:\n",
        "- Read [Instacart Market Basket Analysis, Winner's Interview: 2nd place, Kazuki Onodera](http://blog.kaggle.com/2017/09/21/instacart-market-basket-analysis-winners-interview-2nd-place-kazuki-onodera/), especially the **Feature Engineering** section. (Can you choose one feature from his bulleted lists, and try to engineer it with pandas code?)\n",
        "- Read and replicate parts of [Simple Exploration Notebook - Instacart](https://www.kaggle.com/sudalairajkumar/simple-exploration-notebook-instacart). (It's the Python Notebook with the most upvotes for this Kaggle competition.)\n",
        "- Take initiative and work on your own ideas!"
      ]
    },
    {
      "cell_type": "markdown",
      "metadata": {
        "colab_type": "text",
        "id": "0_7PXF7lpEXg"
      },
      "source": [
        "You can uncomment and run the cells below to re-download and extract the Instacart data"
      ]
    },
    {
      "cell_type": "code",
      "metadata": {
        "id": "urIePNa0yNG6",
        "colab_type": "code",
        "colab": {
          "base_uri": "https://localhost:8080/",
          "height": 204
        },
        "outputId": "74c00188-557f-40ab-b49f-c753c80264e8"
      },
      "source": [
        "!wget https://s3.amazonaws.com/instacart-datasets/instacart_online_grocery_shopping_2017_05_01.tar.gz"
      ],
      "execution_count": 48,
      "outputs": [
        {
          "output_type": "stream",
          "text": [
            "--2020-07-13 05:29:33--  https://s3.amazonaws.com/instacart-datasets/instacart_online_grocery_shopping_2017_05_01.tar.gz\n",
            "Resolving s3.amazonaws.com (s3.amazonaws.com)... 52.216.251.94\n",
            "Connecting to s3.amazonaws.com (s3.amazonaws.com)|52.216.251.94|:443... connected.\n",
            "HTTP request sent, awaiting response... 200 OK\n",
            "Length: 205548478 (196M) [application/x-gzip]\n",
            "Saving to: ‘instacart_online_grocery_shopping_2017_05_01.tar.gz’\n",
            "\n",
            "instacart_online_gr 100%[===================>] 196.03M  65.1MB/s    in 3.0s    \n",
            "\n",
            "2020-07-13 05:29:36 (65.1 MB/s) - ‘instacart_online_grocery_shopping_2017_05_01.tar.gz’ saved [205548478/205548478]\n",
            "\n"
          ],
          "name": "stdout"
        }
      ]
    },
    {
      "cell_type": "code",
      "metadata": {
        "id": "X9zEyu-uyNG8",
        "colab_type": "code",
        "colab": {
          "base_uri": "https://localhost:8080/",
          "height": 238
        },
        "outputId": "265ea130-bf46-4829-f70f-dd11ec7a02a1"
      },
      "source": [
        "!tar --gunzip --extract --verbose --file=instacart_online_grocery_shopping_2017_05_01.tar.gz"
      ],
      "execution_count": 49,
      "outputs": [
        {
          "output_type": "stream",
          "text": [
            "instacart_2017_05_01/\n",
            "instacart_2017_05_01/._aisles.csv\n",
            "instacart_2017_05_01/aisles.csv\n",
            "instacart_2017_05_01/._departments.csv\n",
            "instacart_2017_05_01/departments.csv\n",
            "instacart_2017_05_01/._order_products__prior.csv\n",
            "instacart_2017_05_01/order_products__prior.csv\n",
            "instacart_2017_05_01/._order_products__train.csv\n",
            "instacart_2017_05_01/order_products__train.csv\n",
            "instacart_2017_05_01/._orders.csv\n",
            "instacart_2017_05_01/orders.csv\n",
            "instacart_2017_05_01/._products.csv\n",
            "instacart_2017_05_01/products.csv\n"
          ],
          "name": "stdout"
        }
      ]
    },
    {
      "cell_type": "code",
      "metadata": {
        "id": "Y3IqrhlpyNG-",
        "colab_type": "code",
        "colab": {
          "base_uri": "https://localhost:8080/",
          "height": 34
        },
        "outputId": "201763d6-0b15-4861-e260-e87485daacde"
      },
      "source": [
        "%cd instacart_2017_05_01"
      ],
      "execution_count": 50,
      "outputs": [
        {
          "output_type": "stream",
          "text": [
            "/content/instacart_2017_05_01\n"
          ],
          "name": "stdout"
        }
      ]
    },
    {
      "cell_type": "code",
      "metadata": {
        "id": "6lqi0l5FrGA6",
        "colab_type": "code",
        "colab": {
          "base_uri": "https://localhost:8080/",
          "height": 119
        },
        "outputId": "689939c1-2c22-486c-abf3-ba9eef90c0f5"
      },
      "source": [
        "# look at data type\n",
        "loans['revol_util'].sample(5)"
      ],
      "execution_count": 55,
      "outputs": [
        {
          "output_type": "execute_result",
          "data": {
            "text/plain": [
              "11864       63%\n",
              "113419      59%\n",
              "67448     65.7%\n",
              "7689      16.3%\n",
              "87060     24.5%\n",
              "Name: revol_util, dtype: object"
            ]
          },
          "metadata": {
            "tags": []
          },
          "execution_count": 55
        }
      ]
    },
    {
      "cell_type": "code",
      "metadata": {
        "id": "Mrl4Pdunrsqu",
        "colab_type": "code",
        "colab": {
          "base_uri": "https://localhost:8080/",
          "height": 34
        },
        "outputId": "b7c0a7ba-7981-48fe-cec1-bb8f2c0921cd"
      },
      "source": [
        "# look for Nans\n",
        "loans['revol_util'].isnull().sum()"
      ],
      "execution_count": 56,
      "outputs": [
        {
          "output_type": "execute_result",
          "data": {
            "text/plain": [
              "156"
            ]
          },
          "metadata": {
            "tags": []
          },
          "execution_count": 56
        }
      ]
    },
    {
      "cell_type": "code",
      "metadata": {
        "id": "cGfO2LsYsESj",
        "colab_type": "code",
        "colab": {}
      },
      "source": [
        "def to_float(value):\n",
        "  if isinstance(value, object):\n",
        "    return float(str(value).strip('%').strip())\n",
        "  else:\n",
        "    return 'Not defined'"
      ],
      "execution_count": 64,
      "outputs": []
    },
    {
      "cell_type": "code",
      "metadata": {
        "id": "9jfiyhb-sN3t",
        "colab_type": "code",
        "colab": {}
      },
      "source": [
        "# create new cleaned column\n",
        "loans['revol_util_cleaned'] = loans['revol_util'].apply(to_float)"
      ],
      "execution_count": 65,
      "outputs": []
    },
    {
      "cell_type": "code",
      "metadata": {
        "id": "GHJEUJPNsyiQ",
        "colab_type": "code",
        "colab": {
          "base_uri": "https://localhost:8080/",
          "height": 204
        },
        "outputId": "b45695e2-3e5c-473c-94db-826ccbaf075a"
      },
      "source": [
        "loans[['revol_util', 'revol_util_cleaned']].head()"
      ],
      "execution_count": 77,
      "outputs": [
        {
          "output_type": "execute_result",
          "data": {
            "text/html": [
              "<div>\n",
              "<style scoped>\n",
              "    .dataframe tbody tr th:only-of-type {\n",
              "        vertical-align: middle;\n",
              "    }\n",
              "\n",
              "    .dataframe tbody tr th {\n",
              "        vertical-align: top;\n",
              "    }\n",
              "\n",
              "    .dataframe thead th {\n",
              "        text-align: right;\n",
              "    }\n",
              "</style>\n",
              "<table border=\"1\" class=\"dataframe\">\n",
              "  <thead>\n",
              "    <tr style=\"text-align: right;\">\n",
              "      <th></th>\n",
              "      <th>revol_util</th>\n",
              "      <th>revol_util_cleaned</th>\n",
              "    </tr>\n",
              "  </thead>\n",
              "  <tbody>\n",
              "    <tr>\n",
              "      <th>0</th>\n",
              "      <td>35.2%</td>\n",
              "      <td>35.2</td>\n",
              "    </tr>\n",
              "    <tr>\n",
              "      <th>1</th>\n",
              "      <td>62.1%</td>\n",
              "      <td>62.1</td>\n",
              "    </tr>\n",
              "    <tr>\n",
              "      <th>2</th>\n",
              "      <td>43%</td>\n",
              "      <td>43.0</td>\n",
              "    </tr>\n",
              "    <tr>\n",
              "      <th>3</th>\n",
              "      <td>19.1%</td>\n",
              "      <td>19.1</td>\n",
              "    </tr>\n",
              "    <tr>\n",
              "      <th>4</th>\n",
              "      <td>83.1%</td>\n",
              "      <td>83.1</td>\n",
              "    </tr>\n",
              "  </tbody>\n",
              "</table>\n",
              "</div>"
            ],
            "text/plain": [
              "  revol_util  revol_util_cleaned\n",
              "0      35.2%                35.2\n",
              "1      62.1%                62.1\n",
              "2        43%                43.0\n",
              "3      19.1%                19.1\n",
              "4      83.1%                83.1"
            ]
          },
          "metadata": {
            "tags": []
          },
          "execution_count": 77
        }
      ]
    },
    {
      "cell_type": "code",
      "metadata": {
        "id": "159SOXqO8gwd",
        "colab_type": "code",
        "colab": {
          "base_uri": "https://localhost:8080/",
          "height": 51
        },
        "outputId": "5d822199-d564-4694-c918-597c43826ec6"
      },
      "source": [
        "#list of jobs\n",
        "#pd.set_option('display.max_rows', 50000)\n",
        "rate = loans['emp_title'].value_counts().sort_values(ascending=False)\n",
        "print(rate)"
      ],
      "execution_count": 155,
      "outputs": [
        {
          "output_type": "stream",
          "text": [
            "Other    128412\n",
            "Name: emp_title, dtype: int64\n"
          ],
          "name": "stdout"
        }
      ]
    },
    {
      "cell_type": "code",
      "metadata": {
        "id": "MdSzUSMD7Sph",
        "colab_type": "code",
        "colab": {}
      },
      "source": [
        "#get first 20 \n",
        "new_list = []\n",
        "x = 0\n",
        "for item in rate[:1]:\n",
        "  while x < 20:\n",
        "    new_list.append(item)\n",
        "    x+=1\n"
      ],
      "execution_count": 152,
      "outputs": []
    },
    {
      "cell_type": "code",
      "metadata": {
        "id": "ypEmv20N7duf",
        "colab_type": "code",
        "colab": {
          "base_uri": "https://localhost:8080/",
          "height": 54
        },
        "outputId": "eba4e6de-0461-464e-95b0-0bfbb8a07434"
      },
      "source": [
        "#convert objects to strings\n",
        "new_list = [str(value) for value in new_list]\n",
        "print(new_list)"
      ],
      "execution_count": 153,
      "outputs": [
        {
          "output_type": "stream",
          "text": [
            "['2090', '2090', '2090', '2090', '2090', '2090', '2090', '2090', '2090', '2090', '2090', '2090', '2090', '2090', '2090', '2090', '2090', '2090', '2090', '2090']\n"
          ],
          "name": "stdout"
        }
      ]
    },
    {
      "cell_type": "code",
      "metadata": {
        "id": "1OaILGAAvmVn",
        "colab_type": "code",
        "colab": {}
      },
      "source": [
        "loans['emp_title'] = [value if value in new_list else 'Other' for value in loans['emp_title']]"
      ],
      "execution_count": 146,
      "outputs": []
    },
    {
      "cell_type": "code",
      "metadata": {
        "id": "Fc8Rp_A375iJ",
        "colab_type": "code",
        "colab": {
          "base_uri": "https://localhost:8080/",
          "height": 51
        },
        "outputId": "c781a37d-5fad-4392-d65c-72671068278e"
      },
      "source": [
        "loans['emp_title'].value_counts()"
      ],
      "execution_count": 147,
      "outputs": [
        {
          "output_type": "execute_result",
          "data": {
            "text/plain": [
              "Other    128412\n",
              "Name: emp_title, dtype: int64"
            ]
          },
          "metadata": {
            "tags": []
          },
          "execution_count": 147
        }
      ]
    }
  ]
}