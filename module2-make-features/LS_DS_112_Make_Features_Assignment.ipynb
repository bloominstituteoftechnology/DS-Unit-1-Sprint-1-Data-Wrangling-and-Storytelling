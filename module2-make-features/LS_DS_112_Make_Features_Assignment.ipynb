{
  "nbformat": 4,
  "nbformat_minor": 0,
  "metadata": {
    "colab": {
      "name": "LS_DS_112_Make_Features_Assignment.ipynb",
      "provenance": [],
      "collapsed_sections": [],
      "include_colab_link": true
    },
    "kernelspec": {
      "display_name": "Python 3",
      "language": "python",
      "name": "python3"
    },
    "language_info": {
      "codemirror_mode": {
        "name": "ipython",
        "version": 3
      },
      "file_extension": ".py",
      "mimetype": "text/x-python",
      "name": "python",
      "nbconvert_exporter": "python",
      "pygments_lexer": "ipython3",
      "version": "3.7.1"
    }
  },
  "cells": [
    {
      "cell_type": "markdown",
      "metadata": {
        "id": "view-in-github",
        "colab_type": "text"
      },
      "source": [
        "<a href=\"https://colab.research.google.com/github/shengjiyang/DS-Unit-1-Sprint-1-Data-Wrangling-and-Storytelling/blob/master/module2-make-features/LS_DS_112_Make_Features_Assignment.ipynb\" target=\"_parent\"><img src=\"https://colab.research.google.com/assets/colab-badge.svg\" alt=\"Open In Colab\"/></a>"
      ]
    },
    {
      "cell_type": "markdown",
      "metadata": {
        "id": "SnDJqBLi0FYW",
        "colab_type": "text"
      },
      "source": [
        "<img align=\"left\" src=\"https://lever-client-logos.s3.amazonaws.com/864372b1-534c-480e-acd5-9711f850815c-1524247202159.png\" width=200> "
      ]
    },
    {
      "cell_type": "markdown",
      "metadata": {
        "id": "W5GjI1z5yNG4",
        "colab_type": "text"
      },
      "source": [
        "# Assignment:\n",
        "\n",
        "- Replicate the lesson code.\n",
        "\n",
        " - This means that if you haven't followed along already, type out the things that we did in class. Forcing your fingers to hit each key will help you internalize the syntax of what we're doing. Make sure you understand each line of code that you're writing, google things that you don't fully understand.\n",
        " - [Lambda Learning Method for DS - By Ryan Herr](https://docs.google.com/document/d/1ubOw9B3Hfip27hF2ZFnW3a3z9xAgrUDRReOEo-FHCVs/edit?usp=sharing)\n",
        "- Convert the `term` column from string to integer.\n",
        "- Make a column named `loan_status_is_great`. It should contain the integer 1 if `loan_status` is \"Current\" or \"Fully Paid.\" Else it should contain the integer 0.\n",
        "- Make `last_pymnt_d_month` and `last_pymnt_d_year` columns."
      ]
    },
    {
      "cell_type": "code",
      "metadata": {
        "id": "AazB4eFwym2p",
        "colab_type": "code",
        "colab": {
          "base_uri": "https://localhost:8080/",
          "height": 204
        },
        "outputId": "481cac54-2598-4dea-98b2-ac216d8bef13"
      },
      "source": [
        "!wget https://resources.lendingclub.com/LoanStats_2018Q4.csv.zip"
      ],
      "execution_count": 2,
      "outputs": [
        {
          "output_type": "stream",
          "text": [
            "--2020-03-11 21:33:13--  https://resources.lendingclub.com/LoanStats_2018Q4.csv.zip\n",
            "Resolving resources.lendingclub.com (resources.lendingclub.com)... 64.48.1.20\n",
            "Connecting to resources.lendingclub.com (resources.lendingclub.com)|64.48.1.20|:443... connected.\n",
            "HTTP request sent, awaiting response... 200 OK\n",
            "Length: unspecified [application/zip]\n",
            "Saving to: ‘LoanStats_2018Q4.csv.zip’\n",
            "\n",
            "LoanStats_2018Q4.cs     [                <=> ]  21.71M   781KB/s    in 29s     \n",
            "\n",
            "2020-03-11 21:33:43 (771 KB/s) - ‘LoanStats_2018Q4.csv.zip’ saved [22763850]\n",
            "\n"
          ],
          "name": "stdout"
        }
      ]
    },
    {
      "cell_type": "code",
      "metadata": {
        "id": "yjjnh4AthJVp",
        "colab_type": "code",
        "colab": {
          "base_uri": "https://localhost:8080/",
          "height": 51
        },
        "outputId": "24f1d55d-4995-4d1f-8cfa-8edf371f5f7a"
      },
      "source": [
        "!unzip LoanStats_2018Q4.csv.zip"
      ],
      "execution_count": 3,
      "outputs": [
        {
          "output_type": "stream",
          "text": [
            "Archive:  LoanStats_2018Q4.csv.zip\n",
            "  inflating: LoanStats_2018Q4.csv    \n"
          ],
          "name": "stdout"
        }
      ]
    },
    {
      "cell_type": "code",
      "metadata": {
        "id": "U0su9In3hNuj",
        "colab_type": "code",
        "colab": {
          "base_uri": "https://localhost:8080/",
          "height": 153
        },
        "outputId": "46f09516-6d7b-4d34-e057-7366a9d4a328"
      },
      "source": [
        "import pandas as pd\n",
        "df_LoanStats = pd.read_csv('LoanStats_2018Q4.csv',\n",
        "                           skiprows = 1,\n",
        "                           skipfooter = 2,\n",
        "                           engine = 'python')\n",
        "\n",
        "print(df_LoanStats.head())"
      ],
      "execution_count": 12,
      "outputs": [
        {
          "output_type": "stream",
          "text": [
            "   id  member_id  ...  settlement_percentage  settlement_term\n",
            "0 NaN        NaN  ...                    NaN              NaN\n",
            "1 NaN        NaN  ...                    NaN              NaN\n",
            "2 NaN        NaN  ...                    NaN              NaN\n",
            "3 NaN        NaN  ...                    NaN              NaN\n",
            "4 NaN        NaN  ...                    NaN              NaN\n",
            "\n",
            "[5 rows x 144 columns]\n"
          ],
          "name": "stdout"
        }
      ]
    },
    {
      "cell_type": "code",
      "metadata": {
        "id": "mpIzOzPYh0_c",
        "colab_type": "code",
        "colab": {
          "base_uri": "https://localhost:8080/",
          "height": 272
        },
        "outputId": "6923f085-24c4-4160-d0e1-f502a453521d"
      },
      "source": [
        "# Convert the term column from string to integer\n",
        "\n",
        "print(df_LoanStats['term'])\n",
        "\n",
        "term = '60 months'\n",
        "print(term.strip(' months'))\n",
        "print(int(term.strip(' months')))\n",
        "\n",
        "stripped_term = int(term.strip(' months'))\n",
        "type(stripped_term)"
      ],
      "execution_count": 13,
      "outputs": [
        {
          "output_type": "stream",
          "text": [
            "0          60 months\n",
            "1          36 months\n",
            "2          36 months\n",
            "3          60 months\n",
            "4          60 months\n",
            "             ...    \n",
            "128279     36 months\n",
            "128280     36 months\n",
            "128281     36 months\n",
            "128282     36 months\n",
            "128283     36 months\n",
            "Name: term, Length: 128284, dtype: object\n",
            "60\n",
            "60\n"
          ],
          "name": "stdout"
        },
        {
          "output_type": "execute_result",
          "data": {
            "text/plain": [
              "int"
            ]
          },
          "metadata": {
            "tags": []
          },
          "execution_count": 13
        }
      ]
    },
    {
      "cell_type": "code",
      "metadata": {
        "id": "LrwvnpuDk_zm",
        "colab_type": "code",
        "colab": {
          "base_uri": "https://localhost:8080/",
          "height": 136
        },
        "outputId": "c8f6f4d8-3c7e-4c70-df10-1f411055cf32"
      },
      "source": [
        "def clean_term(term):\n",
        "    return int(term.strip(' months'))\n",
        "\n",
        "df_LoanStats['term'] = df_LoanStats['term'].apply(clean_term)\n",
        "\n",
        "\n",
        "# 成功了！\n",
        "print(df_LoanStats['term'].head())\n",
        "print(df_LoanStats['term'].dtypes)\n"
      ],
      "execution_count": 14,
      "outputs": [
        {
          "output_type": "stream",
          "text": [
            "0    60\n",
            "1    36\n",
            "2    36\n",
            "3    60\n",
            "4    60\n",
            "Name: term, dtype: int64\n",
            "int64\n"
          ],
          "name": "stdout"
        }
      ]
    },
    {
      "cell_type": "code",
      "metadata": {
        "id": "FYE9RR21lGXT",
        "colab_type": "code",
        "colab": {
          "base_uri": "https://localhost:8080/",
          "height": 153
        },
        "outputId": "7661db51-9d6a-40a6-feaa-d6437b259293"
      },
      "source": [
        "# loan_status_is_great\n",
        "\n",
        "print(df_LoanStats['loan_status'].value_counts())\n",
        "\n",
        "\n",
        "\n",
        "def loan_status_is_great(loan_status):\n",
        "    if loan_status == 'Current' or loan_status == 'Fully Paid':\n",
        "        return 1\n",
        "    else:\n",
        "        return 0\n",
        "\n",
        "\n",
        "test_loan_status_1 = 'Current'\n",
        "test_loan_status_2 = 'Fully Paid'\n",
        "test_loan_status_3 = 'Late (31-120) days'\n",
        "test_loan_status_4 = 'In Grace Period'\n",
        "test_loan_status_5 = 'Late (16-30 days)'\n",
        "test_loan_status_6 = 'Default'"
      ],
      "execution_count": 15,
      "outputs": [
        {
          "output_type": "stream",
          "text": [
            "Current               92485\n",
            "Fully Paid            24821\n",
            "Charged Off            6766\n",
            "Late (31-120 days)     2210\n",
            "In Grace Period        1405\n",
            "Late (16-30 days)       486\n",
            "Default                 111\n",
            "Name: loan_status, dtype: int64\n"
          ],
          "name": "stdout"
        }
      ]
    },
    {
      "cell_type": "code",
      "metadata": {
        "id": "JOCNhMVtlX_G",
        "colab_type": "code",
        "colab": {
          "base_uri": "https://localhost:8080/",
          "height": 34
        },
        "outputId": "58abc690-2d73-48af-83bb-2a3167986d17"
      },
      "source": [
        "print([loan_status_is_great(test_loan_status_1), loan_status_is_great(test_loan_status_2),\n",
        "       loan_status_is_great(test_loan_status_3), loan_status_is_great(test_loan_status_4),\n",
        "      loan_status_is_great(test_loan_status_5), loan_status_is_great(test_loan_status_6)])"
      ],
      "execution_count": 16,
      "outputs": [
        {
          "output_type": "stream",
          "text": [
            "[1, 1, 0, 0, 0, 0]\n"
          ],
          "name": "stdout"
        }
      ]
    },
    {
      "cell_type": "code",
      "metadata": {
        "id": "d8MMvVlMlfR2",
        "colab_type": "code",
        "colab": {
          "base_uri": "https://localhost:8080/",
          "height": 255
        },
        "outputId": "07987211-3b36-4b0d-a891-128ba20c2848"
      },
      "source": [
        "df_LoanStats['loan_status_is_great'] = df_LoanStats['loan_status'].apply(loan_status_is_great)\n",
        "\n",
        "df_LoanStats_loan_status = df_LoanStats[['loan_status',\n",
        "                                         'loan_status_is_great']].copy()\n",
        "\n",
        "print(df_LoanStats_loan_status)\n"
      ],
      "execution_count": 20,
      "outputs": [
        {
          "output_type": "stream",
          "text": [
            "               loan_status  loan_status_is_great\n",
            "0               Fully Paid                     1\n",
            "1                  Current                     1\n",
            "2               Fully Paid                     1\n",
            "3       Late (31-120 days)                     0\n",
            "4                  Current                     1\n",
            "...                    ...                   ...\n",
            "128279         Charged Off                     0\n",
            "128280             Current                     1\n",
            "128281             Current                     1\n",
            "128282             Current                     1\n",
            "128283             Current                     1\n",
            "\n",
            "[128284 rows x 2 columns]\n"
          ],
          "name": "stdout"
        }
      ]
    },
    {
      "cell_type": "code",
      "metadata": {
        "id": "xQn-7Zl8linZ",
        "colab_type": "code",
        "colab": {
          "base_uri": "https://localhost:8080/",
          "height": 221
        },
        "outputId": "cb2c360f-a7c4-4dfa-d505-bccadfa96d44"
      },
      "source": [
        "# # Make last_pymnt_d_month and last_pymnt_d_year columns.\n",
        "\n",
        "print(df_LoanStats['last_pymnt_d'])\n",
        "\n",
        "df_LoanStats['last_pymnt_d'] = pd.to_datetime(df_LoanStats['last_pymnt_d'],\n",
        "                                              infer_datetime_format = True)"
      ],
      "execution_count": 18,
      "outputs": [
        {
          "output_type": "stream",
          "text": [
            "0         May-2019\n",
            "1         Feb-2020\n",
            "2         Feb-2019\n",
            "3         Oct-2019\n",
            "4         Feb-2020\n",
            "            ...   \n",
            "128279    Dec-2018\n",
            "128280    Feb-2020\n",
            "128281    Feb-2020\n",
            "128282    Feb-2020\n",
            "128283    Feb-2020\n",
            "Name: last_pymnt_d, Length: 128284, dtype: object\n"
          ],
          "name": "stdout"
        }
      ]
    },
    {
      "cell_type": "code",
      "metadata": {
        "id": "fFIJnOgQlxdT",
        "colab_type": "code",
        "colab": {
          "base_uri": "https://localhost:8080/",
          "height": 255
        },
        "outputId": "be55e256-c695-43ea-f1e4-1aa3a92da356"
      },
      "source": [
        "df_LoanStats['last_pymnt_d_month'] = df_LoanStats['last_pymnt_d'].dt.month\n",
        "df_LoanStats['last_pymnt_d_year'] = df_LoanStats['last_pymnt_d'].dt.year\n",
        "\n",
        "df_LoanStats_last_pymnt_date = df_LoanStats[['last_pymnt_d_month',\n",
        "                                         'last_pymnt_d_year']].copy()\n",
        "\n",
        "print(df_LoanStats_last_pymnt_date)"
      ],
      "execution_count": 21,
      "outputs": [
        {
          "output_type": "stream",
          "text": [
            "        last_pymnt_d_month  last_pymnt_d_year\n",
            "0                      5.0             2019.0\n",
            "1                      2.0             2020.0\n",
            "2                      2.0             2019.0\n",
            "3                     10.0             2019.0\n",
            "4                      2.0             2020.0\n",
            "...                    ...                ...\n",
            "128279                12.0             2018.0\n",
            "128280                 2.0             2020.0\n",
            "128281                 2.0             2020.0\n",
            "128282                 2.0             2020.0\n",
            "128283                 2.0             2020.0\n",
            "\n",
            "[128284 rows x 2 columns]\n"
          ],
          "name": "stdout"
        }
      ]
    },
    {
      "cell_type": "markdown",
      "metadata": {
        "colab_type": "text",
        "id": "L8k0LiHmo5EU"
      },
      "source": [
        "# Stretch Goals\n",
        "\n",
        "You can do more with the LendingClub or Instacart datasets.\n",
        "\n",
        "LendingClub options:\n",
        "- There's one other column in the dataframe with percent signs. Remove them and convert to floats. You'll need to handle missing values.\n",
        "- Modify the `emp_title` column to replace titles with 'Other' if the title is not in the top 20. \n",
        "- Take initiatve and work on your own ideas!\n",
        "\n",
        "Instacart options:\n",
        "- Read [Instacart Market Basket Analysis, Winner's Interview: 2nd place, Kazuki Onodera](http://blog.kaggle.com/2017/09/21/instacart-market-basket-analysis-winners-interview-2nd-place-kazuki-onodera/), especially the **Feature Engineering** section. (Can you choose one feature from his bulleted lists, and try to engineer it with pandas code?)\n",
        "- Read and replicate parts of [Simple Exploration Notebook - Instacart](https://www.kaggle.com/sudalairajkumar/simple-exploration-notebook-instacart). (It's the Python Notebook with the most upvotes for this Kaggle competition.)\n",
        "- Take initiative and work on your own ideas!"
      ]
    },
    {
      "cell_type": "markdown",
      "metadata": {
        "colab_type": "text",
        "id": "0_7PXF7lpEXg"
      },
      "source": [
        "You can uncomment and run the cells below to re-download and extract the Instacart data"
      ]
    },
    {
      "cell_type": "code",
      "metadata": {
        "id": "urIePNa0yNG6",
        "colab_type": "code",
        "colab": {}
      },
      "source": [
        "# !wget https://s3.amazonaws.com/instacart-datasets/instacart_online_grocery_shopping_2017_05_01.tar.gz"
      ],
      "execution_count": 0,
      "outputs": []
    },
    {
      "cell_type": "code",
      "metadata": {
        "id": "X9zEyu-uyNG8",
        "colab_type": "code",
        "colab": {}
      },
      "source": [
        "# !tar --gunzip --extract --verbose --file=instacart_online_grocery_shopping_2017_05_01.tar.gz"
      ],
      "execution_count": 0,
      "outputs": []
    },
    {
      "cell_type": "code",
      "metadata": {
        "id": "Y3IqrhlpyNG-",
        "colab_type": "code",
        "colab": {}
      },
      "source": [
        "# %cd instacart_2017_05_01"
      ],
      "execution_count": 0,
      "outputs": []
    }
  ]
}