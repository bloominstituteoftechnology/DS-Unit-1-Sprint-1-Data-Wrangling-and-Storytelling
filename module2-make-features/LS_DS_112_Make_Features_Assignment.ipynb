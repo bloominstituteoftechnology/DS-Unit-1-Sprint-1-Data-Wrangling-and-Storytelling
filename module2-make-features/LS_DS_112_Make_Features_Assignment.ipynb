{
  "nbformat": 4,
  "nbformat_minor": 0,
  "metadata": {
    "colab": {
      "name": "LS_DS_112_Make_Features_Assignment.ipynb",
      "provenance": [],
      "collapsed_sections": []
    },
    "kernelspec": {
      "display_name": "Python 3",
      "language": "python",
      "name": "python3"
    },
    "language_info": {
      "codemirror_mode": {
        "name": "ipython",
        "version": 3
      },
      "file_extension": ".py",
      "mimetype": "text/x-python",
      "name": "python",
      "nbconvert_exporter": "python",
      "pygments_lexer": "ipython3",
      "version": "3.7.1"
    }
  },
  "cells": [
    {
      "cell_type": "markdown",
      "metadata": {
        "id": "SnDJqBLi0FYW",
        "colab_type": "text"
      },
      "source": [
        "<img align=\"left\" src=\"https://lever-client-logos.s3.amazonaws.com/864372b1-534c-480e-acd5-9711f850815c-1524247202159.png\" width=200> "
      ]
    },
    {
      "cell_type": "markdown",
      "metadata": {
        "id": "W5GjI1z5yNG4",
        "colab_type": "text"
      },
      "source": [
        "# Assignment:\n",
        "\n",
        "- Replicate the lesson code.\n",
        "\n",
        " - This means that if you haven't followed along already, type out the things that we did in class. Forcing your fingers to hit each key will help you internalize the syntax of what we're doing. Make sure you understand each line of code that you're writing, google things that you don't fully understand.\n",
        " - [Lambda Learning Method for DS - By Ryan Herr](https://docs.google.com/document/d/1ubOw9B3Hfip27hF2ZFnW3a3z9xAgrUDRReOEo-FHCVs/edit?usp=sharing)\n",
        "- Convert the `term` column from string to integer.\n",
        "- Make a column named `loan_status_is_great`. It should contain the integer 1 if `loan_status` is \"Current\" or \"Fully Paid.\" Else it should contain the integer 0.\n",
        "- Make `last_pymnt_d_month` and `last_pymnt_d_year` columns."
      ]
    },
    {
      "cell_type": "code",
      "metadata": {
        "id": "AazB4eFwym2p",
        "colab_type": "code",
        "colab": {}
      },
      "source": [
        "# First thing to do is import necessary librarys for cleaning our Data \n",
        "# and Creating Features\n",
        "import pandas as pd\n",
        "import numpy as np"
      ],
      "execution_count": 0,
      "outputs": []
    },
    {
      "cell_type": "markdown",
      "metadata": {
        "id": "UlpGV5bQeLGu",
        "colab_type": "text"
      },
      "source": [
        "\n",
        "\n",
        "---\n",
        "\n",
        "\n",
        "\n",
        "---\n",
        "\n"
      ]
    },
    {
      "cell_type": "code",
      "metadata": {
        "id": "HDgFhnBmoFng",
        "colab_type": "code",
        "colab": {}
      },
      "source": [
        "# Take a look at the Ames Iowa Housing Dataset:\n",
        "src_url = 'https://raw.githubusercontent.com/ryanleeallred/datasets/master/Ames%20Housing%20Data/train.csv'\n",
        "\n",
        "# Read the data file from the src_url variable into a pandas DataFrame\n",
        "iowa_housing_df = pd.read_csv(src_url)\n",
        "\n",
        "# Display the first 10 rows to see if the DataFrame was made\n",
        "print(\"Top 10 Rows of iowa_housing_df: \")\n",
        "display(iowa_housing_df.head(10))\n",
        "\n",
        "# Display the shape of iowa_housing_df\n",
        "print(\"\\niowa_housing_df shape: \")\n",
        "display(iowa_housing_df.shape) "
      ],
      "execution_count": 0,
      "outputs": []
    },
    {
      "cell_type": "code",
      "metadata": {
        "id": "KyBoryh6oF1_",
        "colab_type": "code",
        "colab": {}
      },
      "source": [
        "# Using the describe function to get a statistical description of my data\n",
        "print(\"Basic Statistical Description: \\n\")\n",
        "display(iowa_housing_df.describe())\n",
        "\n",
        "# Just to show that I can get descriptions of specified columns:\n",
        "print(\"\\n\\nSpecified Columns Description: \\n\")\n",
        "display(iowa_housing_df[['OverallQual','YearBuilt']].describe())"
      ],
      "execution_count": 0,
      "outputs": []
    },
    {
      "cell_type": "code",
      "metadata": {
        "id": "rjJx8dn6oGA3",
        "colab_type": "code",
        "colab": {}
      },
      "source": [
        "# Displaying the data types of each column.\n",
        "pd.set_option('display.max_rows', 150)\n",
        "display(iowa_housing_df.dtypes)"
      ],
      "execution_count": 0,
      "outputs": []
    },
    {
      "cell_type": "code",
      "metadata": {
        "id": "v_r5xdGvoGJL",
        "colab_type": "code",
        "colab": {}
      },
      "source": [
        "# Lets take a look at the first 10 rows of the 'BedroomAbvGr' column.\n",
        "ihdf_type = iowa_housing_df['BedroomAbvGr'].dtype\n",
        "\n",
        "# Just for fun I will use an if statement to check if its an integer.\n",
        "if ihdf_type == 'int64' or ihdf_type == 'int32':\n",
        "    print(\"Yes it's an integer\")\n",
        "    print(\"Data Type: \",ihdf_type)"
      ],
      "execution_count": 0,
      "outputs": []
    },
    {
      "cell_type": "code",
      "metadata": {
        "id": "CE6hn6PfoGSn",
        "colab_type": "code",
        "colab": {}
      },
      "source": [
        "# Another way to call columns is wuth a dot method.\n",
        "iowa_housing_df.Fireplaces.head(10)\n",
        "\n",
        "# I don't like calling columns this way, because it could possibly interfear\n",
        "# with other predefined methods if they have the same name.\n",
        "\n",
        "# Seems to be a like minded opinion amongst the forums"
      ],
      "execution_count": 0,
      "outputs": []
    },
    {
      "cell_type": "code",
      "metadata": {
        "id": "QswrPxeHoGbt",
        "colab_type": "code",
        "colab": {}
      },
      "source": [
        "# Here is how to call specific columns using []\n",
        "iowa_housing_df['Fireplaces'].head(10)"
      ],
      "execution_count": 0,
      "outputs": []
    },
    {
      "cell_type": "code",
      "metadata": {
        "id": "PeMo9Oa7oGkc",
        "colab_type": "code",
        "colab": {}
      },
      "source": [
        "# I was curious to see which one would be interprited faster so I ran the \n",
        "# shell command '%timeit'\n",
        "%timeit iowa_housing_df.Fireplaces.head(10)\n",
        "%timeit iowa_housing_df['Fireplaces'].head(10)\n",
        "print(\"Using df['col'] is faster on average by \", 51.9-47.9,\"micro-seconds.\")\n",
        "# So if my previous opinion on not useing '.' to select columns wasn't enough\n",
        "# to convince you. \n",
        "# Using '[]' is also faster, not by much, but still."
      ],
      "execution_count": 0,
      "outputs": []
    },
    {
      "cell_type": "code",
      "metadata": {
        "id": "VGeG6WpkoGsp",
        "colab_type": "code",
        "colab": {}
      },
      "source": [
        "# Now let's see how selecting multiple columns looks.\n",
        "# Indtead of using a list '[]' \n",
        "# I will use '[[col,col]]' to create a 2d array\n",
        "iowa_housing_df[['Fireplaces', 'BedroomAbvGr']].sample(10)"
      ],
      "execution_count": 0,
      "outputs": []
    },
    {
      "cell_type": "code",
      "metadata": {
        "id": "RGDWNpikoG0k",
        "colab_type": "code",
        "colab": {}
      },
      "source": [
        "# Looking at the first ten rows of the 'LotFrontage' column.\n",
        "ihdflf = iowa_housing_df['LotFrontage']\n",
        "print(\"Top 10 rows of iowa_housing_df['LotFrontage']: \\n\")\n",
        "display(ihdflf.head(10))\n",
        "# If statement to tell me if the dtype is a float or an int\n",
        "if ihdflf.dtype == 'int64':\n",
        "    print(\"\\nIt's an integer!\")\n",
        "elif ihdflf.dtype == 'float64':\n",
        "    print(\"\\nIt's a float\")     "
      ],
      "execution_count": 0,
      "outputs": []
    },
    {
      "cell_type": "code",
      "metadata": {
        "id": "9LPSpaIVoG82",
        "colab_type": "code",
        "colab": {}
      },
      "source": [
        "# Let's take a look at all possible valus in this column\n",
        "display(iowa_housing_df['LotFrontage'].value_counts(dropna=False))\n",
        "# By setting dropna to False it counts the NaN values as well."
      ],
      "execution_count": 0,
      "outputs": []
    },
    {
      "cell_type": "code",
      "metadata": {
        "id": "2AqD3iQuoHEF",
        "colab_type": "code",
        "colab": {}
      },
      "source": [
        "# The reason that it is float dtype is, because if there is a NaN\n",
        "# value amongst a column of integers it will read the NaN value as a float.\n",
        "\n",
        "# To confirm this we can call the nan instance from the numpy library as a \n",
        "# parameter for python built-in type function\n",
        "type(np.nan) #---- Ouputes 'float'"
      ],
      "execution_count": 0,
      "outputs": []
    },
    {
      "cell_type": "code",
      "metadata": {
        "id": "BAK2Sh2_oHLR",
        "colab_type": "code",
        "colab": {}
      },
      "source": [
        "# Ways to check for missing values in pandas:\n",
        "# 1. We can call the is null method on our dataframe to get all instances of\n",
        "#    a NaN value. Then call the sum() method to add up the amount of missing\n",
        "#    values. \n",
        "print(\"Total NaN values: \",iowa_housing_df['LotFrontage'].isnull().sum())\n",
        "# 2. We can call the isna() method also to get the same output.\n",
        "print(\"\\nTotal NaN values: \", iowa_housing_df['LotFrontage'].isna().sum())"
      ],
      "execution_count": 0,
      "outputs": []
    },
    {
      "cell_type": "markdown",
      "metadata": {
        "id": "glEil8NOeILN",
        "colab_type": "text"
      },
      "source": [
        "\n",
        "\n",
        "---\n",
        "\n",
        "\n",
        "\n",
        "---\n",
        "\n"
      ]
    },
    {
      "cell_type": "markdown",
      "metadata": {
        "id": "t-1oWnh6xviR",
        "colab_type": "text"
      },
      "source": [
        "## Making New Features"
      ]
    },
    {
      "cell_type": "code",
      "metadata": {
        "id": "HkxEFRFQoHTJ",
        "colab_type": "code",
        "colab": {}
      },
      "source": [
        "# Now to make a smaller dataframe with a few specific column headers\n",
        "# by passing a list of column headers inside of the square brackets\n",
        "# Here we will use the copy() function to copy the selected columns to a new dataframe.\n",
        "small_iowa_df = iowa_housing_df[['TotalBsmtSF','1stFlrSF','2ndFlrSF','SalePrice']].copy()\n",
        "# Lets take a look at our new dataframe:\n",
        "small_iowa_df.sample(10)\n",
        "# It works!!"
      ],
      "execution_count": 0,
      "outputs": []
    },
    {
      "cell_type": "code",
      "metadata": {
        "id": "gonwd0hToHaq",
        "colab_type": "code",
        "colab": {}
      },
      "source": [
        "# Now lets make some new column for or small_iowa_df \n",
        "\n",
        "# First we need to make a new colun name to describe what it will be.\n",
        "# Here it will just be a total of a houses Square Footage\n",
        "# So we will add our single floor SF columns together like so:\n",
        "small_iowa_df['TotalSF'] = small_iowa_df['TotalBsmtSF']+small_iowa_df['1stFlrSF']+small_iowa_df['2ndFlrSF']\n",
        "\n",
        "# Now lets display the results.\n",
        "small_iowa_df.head(10)\n",
        "# Confirmed that our new column 'TotalSF' is now part of the DataFrame"
      ],
      "execution_count": 0,
      "outputs": []
    },
    {
      "cell_type": "code",
      "metadata": {
        "id": "yPr2j6O6zVoZ",
        "colab_type": "code",
        "colab": {}
      },
      "source": [
        "# Now to create another new column for our small_iowa_df\n",
        "# This column will be the price/sqrft\n",
        "small_iowa_df['Price/SF'] = small_iowa_df['SalePrice'] / small_iowa_df['TotalSF']\n",
        "\n",
        "# Now lets display to confirm changes\n",
        "small_iowa_df.head(10)"
      ],
      "execution_count": 0,
      "outputs": []
    },
    {
      "cell_type": "markdown",
      "metadata": {
        "id": "Rnxwyf3TbOVw",
        "colab_type": "text"
      },
      "source": [
        "### Questons About `small_iowa_df`:\n",
        "- What does a high `Price/SF` say about a home that the square footage and price alone don't capture as dirctly?\n",
        "  - ### Answer: \n",
        "    It shows the comparison between the 2 so we can see if there is any corralation. One trend we can observe is that the more `SqrFt` the higher the `Price`. \n",
        "\n",
        "- What does a low `Price/SF` say about a home that the square footage and price alone don't directly capture?\n",
        "  - ### Answer:\n",
        "    Less `SqrFt` means lowere `Price`"
      ]
    },
    {
      "cell_type": "markdown",
      "metadata": {
        "id": "kngN2QCseFbP",
        "colab_type": "text"
      },
      "source": [
        "\n",
        "\n",
        "---\n",
        "\n",
        "\n",
        "\n",
        "---\n",
        "\n"
      ]
    },
    {
      "cell_type": "markdown",
      "metadata": {
        "id": "0IPm4kb-eO0o",
        "colab_type": "text"
      },
      "source": [
        "## Crosstabs\n",
        "  - Focus on catagorical data\n",
        "\n",
        "  -### **Catagorical Data**\n",
        "    - Catagorical variables represent types of data which may be divided into groups.\n",
        "    - **Examples:** race,sex,age group, education level, skill set, etc..."
      ]
    },
    {
      "cell_type": "code",
      "metadata": {
        "id": "Ni9DAh9MzV0s",
        "colab_type": "code",
        "colab": {}
      },
      "source": [
        "# Let's display our data frame columns by calling \n",
        "# (iowa_housing_df.columns) instance.\n",
        "iowa_housing_df.columns\n",
        "# This gives us an object that is made up of a list of all the DataFrame \n",
        "# headers."
      ],
      "execution_count": 0,
      "outputs": []
    },
    {
      "cell_type": "code",
      "metadata": {
        "id": "K2GtAkuhzWNX",
        "colab_type": "code",
        "colab": {}
      },
      "source": [
        "# Now we can go and select some catagorical columns.\n",
        "print(\"Here are some catagorical columns we can look at: \\n\")\n",
        "iowa_housing_df[['LotShape', 'Alley', 'Street', 'SaleCondition']].sample(10)"
      ],
      "execution_count": 0,
      "outputs": []
    },
    {
      "cell_type": "code",
      "metadata": {
        "id": "sV7vGg3dzWaT",
        "colab_type": "code",
        "colab": {}
      },
      "source": [
        "# Here we will take a look at individule values of sales conditions\n",
        "iowa_housing_df['SaleCondition'].value_counts()"
      ],
      "execution_count": 0,
      "outputs": []
    },
    {
      "cell_type": "code",
      "metadata": {
        "id": "ThAvP4j_zWn2",
        "colab_type": "code",
        "colab": {}
      },
      "source": [
        "# Now let's create a new categorical variable\n",
        "# We can use the np.where function to do a conditional search, \n",
        "# similar to SQL.\n",
        "iowa_housing_df['NormalCondition'] = np.where(iowa_housing_df['SaleCondition']\n",
        "                                              == 'Normal', 1, 0)\n",
        "# After we have made a column by getting all the 'Normal' values from 'SaleCondition'\n",
        "# we can now view them.\n",
        "display(iowa_housing_df['NormalCondition'].value_counts())\n",
        "print(\"\\n1 = (count of 'Normal' values)\\n2 = (count of non normal values)\")"
      ],
      "execution_count": 0,
      "outputs": []
    },
    {
      "cell_type": "code",
      "metadata": {
        "id": "k17RhxiGzW0-",
        "colab_type": "code",
        "colab": {}
      },
      "source": [
        "# Check the value counts of 'LotShape' \n",
        "iowa_housing_df['LotShape'].value_counts()"
      ],
      "execution_count": 0,
      "outputs": []
    },
    {
      "cell_type": "code",
      "metadata": {
        "id": "2EaNuxAizXDW",
        "colab_type": "code",
        "colab": {}
      },
      "source": [
        "# Using pythons built in map() method we can narrow 4 values down to 3.\n",
        "# .map() uses dict{key:value} to map the values\n",
        "iowa_housing_df['LotShape3'] = iowa_housing_df['LotShape'].map({'Reg':'Regular',\n",
        "                                                     'IR1':'Irregular',\n",
        "                                                     'IR2':'Other',\n",
        "                                                     'IR3':'Other'})\n",
        "# Display changes\n",
        "iowa_housing_df['LotShape3'].value_counts()\n"
      ],
      "execution_count": 0,
      "outputs": []
    },
    {
      "cell_type": "code",
      "metadata": {
        "id": "rlDImF62zXQy",
        "colab_type": "code",
        "colab": {}
      },
      "source": [
        "# Let's do value counts of another categorical variable\n",
        "iowa_housing_df['Neighborhood'].value_counts()"
      ],
      "execution_count": 0,
      "outputs": []
    },
    {
      "cell_type": "code",
      "metadata": {
        "id": "K1GUv6wlzXfN",
        "colab_type": "code",
        "colab": {}
      },
      "source": [
        "# Lets take a look at another way to map catagorical variables, shall we?\n",
        "\n",
        "iowa_housing_df['top_neighbors']='All Others'\n",
        "iowa_housing_df[['top_neighbors', 'Neighborhood']].head(10) "
      ],
      "execution_count": 0,
      "outputs": []
    },
    {
      "cell_type": "code",
      "metadata": {
        "id": "PR8vCc5OrwiH",
        "colab_type": "code",
        "colab": {}
      },
      "source": [
        "# Now we can do some mapping with .loc\n",
        "iowa_housing_df.loc[iowa_housing_df['Neighborhood']=='NAmes', 'top_neighbors']='North Ames'\n",
        "iowa_housing_df[['top_neighbors','Neighborhood']].sample(10) "
      ],
      "execution_count": 0,
      "outputs": []
    },
    {
      "cell_type": "code",
      "metadata": {
        "id": "u2CGwVHYrw1Y",
        "colab_type": "code",
        "colab": {}
      },
      "source": [
        "# This can be done multiple times if the solution calls for it.\n",
        "iowa_housing_df.loc[iowa_housing_df['Neighborhood']=='CollgCr','top_neighbors']='College Circle'\n",
        "iowa_housing_df.loc[iowa_housing_df['Neighborhood']=='Gilbert','top_neighbors']='Favorite Neighborhood'\n",
        "iowa_housing_df.loc[iowa_housing_df['Neighborhood']=='Somerst','top_neighbors']='Favorite Neighborhood'\n",
        "# Now let's check to see if all the values were mapped correctly\n",
        "iowa_housing_df[['top_neighbors','Neighborhood']].sample(10)"
      ],
      "execution_count": 0,
      "outputs": []
    },
    {
      "cell_type": "code",
      "metadata": {
        "id": "7m5y0RHhrw9Y",
        "colab_type": "code",
        "colab": {}
      },
      "source": [
        "# Crosstab time! WOOHOO!!\n",
        "pd.crosstab(iowa_housing_df['top_neighbors'], iowa_housing_df['LotShape3'])"
      ],
      "execution_count": 0,
      "outputs": []
    },
    {
      "cell_type": "code",
      "metadata": {
        "id": "4XRYCw94rxEV",
        "colab_type": "code",
        "colab": {}
      },
      "source": [
        "# Lets do that again except using the margins= argument and set it to:\n",
        "# margins=True to get a column that shows All counts\n",
        "\n",
        "# Normalize index:\n",
        "pd.crosstab(iowa_housing_df['top_neighbors'],iowa_housing_df['LotShape3'],\n",
        "            normalize='index', margins=True)\n",
        "# Normalize column:\n",
        "pd.crosstab(iowa_housing_df['top_neighbors'],iowa_housing_df['LotShape3'],\n",
        "            normalize='columns', margins=True)"
      ],
      "execution_count": 0,
      "outputs": []
    },
    {
      "cell_type": "code",
      "metadata": {
        "id": "O9izpLPyrxLI",
        "colab_type": "code",
        "colab": {}
      },
      "source": [
        "# We can bar-graph some cross tab data to get a better look at it.\n",
        "\n",
        "# Use crosstab to get some data:\n",
        "crosstab_results = pd.crosstab(iowa_housing_df['top_neighbors'], \n",
        "                               iowa_housing_df['LotShape3'])\n",
        "\n",
        "# Now to plot the results with a bar graph:\n",
        "display(crosstab_results.plot(kind='bar'));\n",
        "# How about we use a Horizontal bar graph:\n",
        "display(crosstab_results.plot(kind='barh'));"
      ],
      "execution_count": 0,
      "outputs": []
    },
    {
      "cell_type": "markdown",
      "metadata": {
        "id": "l-8Ijw-p0cJE",
        "colab_type": "text"
      },
      "source": [
        "\n",
        "\n",
        "---\n",
        "\n",
        "\n",
        "\n",
        "---\n",
        "\n"
      ]
    },
    {
      "cell_type": "markdown",
      "metadata": {
        "id": "8p_ml8Xh0exj",
        "colab_type": "text"
      },
      "source": [
        "# WORKING WITH STRINGS IN PANDAS"
      ]
    },
    {
      "cell_type": "code",
      "metadata": {
        "id": "bTg0ArVfrxQF",
        "colab_type": "code",
        "colab": {}
      },
      "source": [
        "# Us bash to get retrieve the zip file from desired url:\n",
        "! wget https://resources.lendingclub.com/LoanStats_201804.csv.zip\n",
        "# Got a \"404: Not Found\" error when trying to get the file."
      ],
      "execution_count": 0,
      "outputs": []
    },
    {
      "cell_type": "code",
      "metadata": {
        "id": "QlHSTQm9rxVL",
        "colab_type": "code",
        "colab": {}
      },
      "source": [
        "# Decided to attempt another way just to double check the response.\n",
        "import requests\n",
        "response = requests.get('https://resources.lendingclub.com/LoanStats_201804.csv.zip')\n",
        "# Still getting 404 error\n",
        "response"
      ],
      "execution_count": 0,
      "outputs": []
    },
    {
      "cell_type": "code",
      "metadata": {
        "id": "6WBvFEGerxvo",
        "colab_type": "code",
        "colab": {}
      },
      "source": [
        "# I remember I downloaded these before from somewhere so i can just load the \n",
        "# files from my local system.\n",
        "# from google.colab import files\n",
        "# uploaded = files.upload()\n",
        "\n",
        "# Had to just use the GUI upload feature, this was going to slow "
      ],
      "execution_count": 0,
      "outputs": []
    },
    {
      "cell_type": "code",
      "metadata": {
        "id": "dBy8x5Qqrx6t",
        "colab_type": "code",
        "colab": {}
      },
      "source": [
        "# Now that I have my csv file ill read it in.\n",
        "loans_df = pd.read_csv('LoanStats_2018Q4.csv')\n",
        "# Display the loans data set\n",
        "loans_df.head(10)"
      ],
      "execution_count": 0,
      "outputs": []
    },
    {
      "cell_type": "markdown",
      "metadata": {
        "id": "VunvuklJ6mqU",
        "colab_type": "text"
      },
      "source": [
        "### The extra rows at the top and bottom of the file have done two things:\n",
        "\n",
        "1. The top row has made it so that the entire dataset is being interpreted as column headers.\n",
        "\n",
        "2. The bottom two rows have been read into the 'id' column and are causing every olumn to have at least two `NaN` values in it."
      ]
    },
    {
      "cell_type": "code",
      "metadata": {
        "id": "AU0BR5gdrx-u",
        "colab_type": "code",
        "colab": {}
      },
      "source": [
        "# Here is one of the ways we can fix the header problem.\n",
        "# By using the 'skiprows' parameter\n",
        "\n",
        "# I used it with just the skiprows param to see what would happen.\n",
        "loans_df = pd.read_csv('LoanStats_2018Q4.csv', skiprows=1)\n",
        "# Now lets display the changes:\n",
        "loans_df.tail()\n",
        "\n",
        "# After looking at the bottom of the dataset there is a footer,\n",
        "# luckily theres a parameter called 'skipfooter' and we will set it to 2\n",
        "# since there are 2 footer rows.\n",
        "# Also by skipping the footer we ar able to address the extra Nans in each column.\n",
        "loans_df = pd.read_csv('LoanStats_2018Q4.csv', header=1,skipfooter=2)\n",
        "loans_df"
      ],
      "execution_count": 0,
      "outputs": []
    },
    {
      "cell_type": "code",
      "metadata": {
        "id": "UQ09Em6IryDz",
        "colab_type": "code",
        "colab": {}
      },
      "source": [
        "# Let's check out the shape of our dataframe\n",
        "loans_df.shape"
      ],
      "execution_count": 0,
      "outputs": []
    },
    {
      "cell_type": "code",
      "metadata": {
        "id": "D4MwO6cCzXr0",
        "colab_type": "code",
        "colab": {}
      },
      "source": [
        "# Now lets sum up all of the null values by column and sort from least to greatest.\n",
        "# First lets use pandas 'set_option' method. \n",
        "\n",
        "# Ignore this link, it's for me when I use this notebook for notes.\n",
        "# https://pandas.pydata.org/pandas-docs/stable/reference/api/pandas.set_option.html\n",
        "pd.set_option('display.max_rows', 143)\n",
        "# Use .sum() then sort all the values in a descending order\n",
        "loans_df.isnull().sum().sort_values(ascending=False)"
      ],
      "execution_count": 0,
      "outputs": []
    },
    {
      "cell_type": "markdown",
      "metadata": {
        "id": "NYPeJooM6rMA",
        "colab_type": "text"
      },
      "source": [
        "## Question:\n",
        " Why might LendingClub have included columns in their dataset that are 100% blank?\n",
        "\n",
        "- ### Answer:\n",
        "    Maybe they put them there as place holders to use as features at a later time for further data exploration."
      ]
    },
    {
      "cell_type": "code",
      "metadata": {
        "id": "0h-bbT0RzX45",
        "colab_type": "code",
        "colab": {}
      },
      "source": [
        "# Lets frop an entire column.\n",
        "loans_df.drop('url',axis=1,inplace=True)\n",
        "# We could also, instead of useing inplace param, wer could just save it \n",
        "# as a new variabls"
      ],
      "execution_count": 0,
      "outputs": []
    },
    {
      "cell_type": "markdown",
      "metadata": {
        "id": "mgHuX9Qz9rbh",
        "colab_type": "text"
      },
      "source": [
        "## Clean up the `int_rate` column.\n",
        "When we're preparing a dataset for a machine learning model we typically want to represent don't want to leave any string values in our dataset --because it's hard to do math on words.\n",
        "\n",
        "Specifically, we have a column that is representing a numeric value, but currently doesn't have a numeric datatype. lets look at the first 10 values of the `int_rate` column."
      ]
    },
    {
      "cell_type": "code",
      "metadata": {
        "id": "rcLMTQNV9qL6",
        "colab_type": "code",
        "colab": {}
      },
      "source": [
        "# Display the head of int_rate column.\n",
        "loans_df['int_rate'].head(10)\n",
        "# Shows it as an object type instead of a float."
      ],
      "execution_count": 0,
      "outputs": []
    },
    {
      "cell_type": "code",
      "metadata": {
        "id": "x_KzcX0gxZS1",
        "colab_type": "code",
        "colab": {}
      },
      "source": [
        "# Look at a specific value from the in_rate column\n",
        "loans_df['int_rate'][3]\n",
        "# It looks like a string\n"
      ],
      "execution_count": 0,
      "outputs": []
    },
    {
      "cell_type": "code",
      "metadata": {
        "id": "BByitH2axZin",
        "colab_type": "code",
        "colab": {}
      },
      "source": [
        "# Now lets confirm that its a string:\n",
        "type(loans_df['int_rate'][3])"
      ],
      "execution_count": 0,
      "outputs": []
    },
    {
      "cell_type": "markdown",
      "metadata": {
        "id": "ZaPwvzNTBBFp",
        "colab_type": "text"
      },
      "source": [
        "Problems that we need to address with this column:\n",
        "- String column that should be numeric\n",
        "- Percent Sign `%` included with the number\n",
        "- Leading space at the beginning of the string\n",
        "\n",
        "However, we're not going to try and write exactly the right code to fix this column in one go. We're going to methodically build up to the code that wil help us address these problems."
      ]
    },
    {
      "cell_type": "code",
      "metadata": {
        "id": "UH54Mu5wxZ-A",
        "colab_type": "code",
        "colab": {}
      },
      "source": [
        "# Lets start with just fixing a single string.\n",
        "# If we can fix one, we can usually fix all of them\n",
        "int_rate = ' 14.47%'\n",
        "\n",
        "# 1. Remove the leading space\n",
        "# ALT: int_rate = int_rate[1:]  # Like this or by using the .strip() method\n",
        "print(\"Stripping the blank space: \",int_rate.strip())                         # To do it in place\n",
        "# 2. Remove percent sign\n",
        "# ALT: int_rate = int_rate[:-2]\n",
        "print(\"\\nStripping the '%' sign: \",int_rate.strip('%'))\n",
        "# 3. Removing both:\n",
        "print(\"\\nStripping both '%' and lead space: \",int_rate.strip().strip('%'),'\\n')\n",
        "# 4. \"Cast\" the string value to a float\n",
        "print(float('14.47'),'\\n')\n",
        "\n",
        "# Now lets call all of this together:\n",
        "print(\"All together now: \",float(int_rate.strip().strip('%')))\n",
        "\n",
        "# Let's make sure it's actually a float:\n",
        "print(type(float(int_rate.strip().strip('%'))))"
      ],
      "execution_count": 0,
      "outputs": []
    },
    {
      "cell_type": "code",
      "metadata": {
        "id": "fpEJN0PjxaeF",
        "colab_type": "code",
        "colab": {}
      },
      "source": [
        "# We can write a function that can automate this process for us:\n",
        "def autoFloat(val):\n",
        "    return float(val.strip().strip('%'))\n",
        "\n",
        "# Now lets call this function and pass it our int_rate variable:\n",
        "af_int_rate = autoFloat(int_rate) # stored the function call in a variable\n",
        "\n",
        "# Check to see if the type was converted\n",
        "print(\"Your object is now a \",type(af_int_rate))\n",
        "# It's confirmed!!"
      ],
      "execution_count": 0,
      "outputs": []
    },
    {
      "cell_type": "code",
      "metadata": {
        "id": "7jzYiHiNxatJ",
        "colab_type": "code",
        "colab": {}
      },
      "source": [
        "# Using a 'for' loop we can apply this function to every cell.\n",
        "\n",
        "df_cell_list = []  # Create an empty list.\n",
        "for cell in loans_df['int_rate']: # Start a for loop to search through 'int_rate' column\n",
        "    df_cell_list.append(autoFloat(cell)) # Attach every modified cell to the end\n",
        "                                         # of our new list.\n",
        "# Check the first 10 values of the list:\n",
        "for i in df_cell_list[:10]:\n",
        "    print(i)                                         "
      ],
      "execution_count": 0,
      "outputs": []
    },
    {
      "cell_type": "code",
      "metadata": {
        "id": "3KkeK-SHxa79",
        "colab_type": "code",
        "colab": {}
      },
      "source": [
        "# Lets compair that to the original values:\n",
        "list(loans_df['int_rate'][:10])"
      ],
      "execution_count": 0,
      "outputs": []
    },
    {
      "cell_type": "code",
      "metadata": {
        "id": "5aBBMD4txbMA",
        "colab_type": "code",
        "colab": {}
      },
      "source": [
        "# Convert the new list to a column using pd.Series:\n",
        "loans_df['int_rate_clean']=pd.Series(df_cell_list)\n",
        "# Compare the new and old columns:\n",
        "loans_df[['int_rate','int_rate_clean']].sample(10)"
      ],
      "execution_count": 0,
      "outputs": []
    },
    {
      "cell_type": "code",
      "metadata": {
        "id": "B1yHEEsTxbeH",
        "colab_type": "code",
        "colab": {}
      },
      "source": [
        "# Lets check the data type of our new column:\n",
        "loans_df['int_rate_clean'].dtype"
      ],
      "execution_count": 0,
      "outputs": []
    },
    {
      "cell_type": "markdown",
      "metadata": {
        "id": "oQdc5XIUOJcD",
        "colab_type": "text"
      },
      "source": [
        "# BUT WAIT!! THERES A BETTER WAY"
      ]
    },
    {
      "cell_type": "code",
      "metadata": {
        "id": "-IdtfV4nxbtR",
        "colab_type": "code",
        "colab": {}
      },
      "source": [
        "# Improve all of this code with the .apply function!\n",
        "loans_df['int_rate_better_clean'] = loans_df['int_rate'].apply(autoFloat)"
      ],
      "execution_count": 0,
      "outputs": []
    },
    {
      "cell_type": "code",
      "metadata": {
        "id": "CzyF9BeExb_r",
        "colab_type": "code",
        "colab": {}
      },
      "source": [
        "# Comparisons of the columns:\n",
        "loans_df[['int_rate','int_rate_clean','int_rate_better_clean']].sample(10)"
      ],
      "execution_count": 0,
      "outputs": []
    },
    {
      "cell_type": "markdown",
      "metadata": {
        "id": "j9vUQ1EITE5b",
        "colab_type": "text"
      },
      "source": [
        "### Lets clean up the emp_title column!\n",
        "- **First we'll try and diagnose how bad the problem is and what improvements we might be able to make.**"
      ]
    },
    {
      "cell_type": "code",
      "metadata": {
        "id": "b0faAPonS4-k",
        "colab_type": "code",
        "colab": {}
      },
      "source": [
        "# Look at the top 20 rows\n",
        "loans_df['emp_title'].head(20)"
      ],
      "execution_count": 0,
      "outputs": []
    },
    {
      "cell_type": "code",
      "metadata": {
        "id": "N4G-OrtAS5KF",
        "colab_type": "code",
        "colab": {}
      },
      "source": [
        "# Look at the top 20 values with the highest count in emplayment titles\n",
        "loans_df['emp_title'].value_counts(dropna=False).head(20)"
      ],
      "execution_count": 0,
      "outputs": []
    },
    {
      "cell_type": "code",
      "metadata": {
        "id": "--cGpl4TS5VZ",
        "colab_type": "code",
        "colab": {}
      },
      "source": [
        "# Now lets check to see how many unique elements there are in 'emp_title':\n",
        "# To do so we need to use '.unique()' method to get all the unique elements.\n",
        "# Then call pythons built-in 'len()' function to obtain the length of our array.\n",
        "# which is going to count all the unique elements for us.\n",
        "print(len(loans_df['emp_title'].unique())) \n",
        "\n",
        "# Another option, also an easier option would be to use '.nunique()' method:\n",
        "print(loans_df['emp_title'].nunique())\n",
        "\n",
        "# How often is the employment_title null?\n",
        "# Lets have a look: \n",
        "print(\"Null Sum: \",loans_df['emp_title'].isnull().sum())"
      ],
      "execution_count": 0,
      "outputs": []
    },
    {
      "cell_type": "markdown",
      "metadata": {
        "id": "VFDjs0W8eQs9",
        "colab_type": "text"
      },
      "source": [
        "### What are some possible reasons as to why a person's employment title may have not been provided?"
      ]
    },
    {
      "cell_type": "code",
      "metadata": {
        "id": "5RiejAn_d1c8",
        "colab_type": "code",
        "colab": {
          "base_uri": "https://localhost:8080/",
          "height": 252
        },
        "outputId": "a4e5698e-ce3b-4188-bff6-7abcdeab328a"
      },
      "source": [
        "# We can try to recreat the problem to get to the conclusion.\n",
        "\n",
        "# Create some examples that represent the cases that we want to clean up:\n",
        "examples = ['owner', 'Supervisor', 'Project Manager', np.nan]\n",
        "\n",
        "# Do that same function in individual steps\n",
        "print(\"Data Type = \",type('Supervisor'))\n",
        "display(isinstance('Supervisor',str))\n",
        "print()\n",
        "\n",
        "# What about the strip?\n",
        "print(' supervisor'.title().strip(),\"\\n\") \n",
        "\n",
        "# Write a function to clean up these use cases and increase uniformity.\n",
        "def cleanTitle(jobtitle):\n",
        "    if isinstance(jobtitle, str):\n",
        "        return (jobtitle.title().strip())\n",
        "    else:\n",
        "        return 'Unknown'\n",
        "\n",
        "# Lets go ahead and test the function out.\n",
        "print(\"cleanTitle() Test_1: \",clean_title(' superviSOR'),\"\\n\")\n",
        "print(\"cleanTitle() Test_2: \",clean_title(np.nan),\"\\n\\n\") \n",
        "\n",
        "# How about a for loop to clean all of our titles? Yes, I think so!!\n",
        "# Until I fully grasp numpy vectorization ;)\n",
        "clean_list = []\n",
        "for jobtitle in examples:\n",
        "    clean_list.append(cleanTitle(jobtitle))\n",
        "print(\"Here is a list of cleaned titles: \\n\",clean_list)    \n",
        "print()\n",
        "\n",
        "# Now lets do the same thing as the for loop above useing list comprehension.\n",
        "print(\"List comprehension : \",[cleanTitle(jobtitle) for jobtitle in examples])"
      ],
      "execution_count": 116,
      "outputs": [
        {
          "output_type": "stream",
          "text": [
            "Data Type =  <class 'str'>\n"
          ],
          "name": "stdout"
        },
        {
          "output_type": "display_data",
          "data": {
            "text/plain": [
              "True"
            ]
          },
          "metadata": {
            "tags": []
          }
        },
        {
          "output_type": "stream",
          "text": [
            "\n",
            "Supervisor \n",
            "\n",
            "cleanTitle() Test_1:  Supervisor \n",
            "\n",
            "cleanTitle() Test_2:  Unknown \n",
            "\n",
            "\n",
            "Here is a list of cleaned titles: \n",
            " ['Owner', 'Supervisor', 'Project Manager', 'Unknown']\n",
            "\n",
            "List comprehension :  ['Owner', 'Supervisor', 'Project Manager', 'Unknown']\n"
          ],
          "name": "stdout"
        }
      ]
    },
    {
      "cell_type": "code",
      "metadata": {
        "id": "hhStYIh4S5kU",
        "colab_type": "code",
        "colab": {}
      },
      "source": [
        ""
      ],
      "execution_count": 0,
      "outputs": []
    },
    {
      "cell_type": "code",
      "metadata": {
        "id": "b81DhCkWS5rt",
        "colab_type": "code",
        "colab": {}
      },
      "source": [
        ""
      ],
      "execution_count": 0,
      "outputs": []
    },
    {
      "cell_type": "code",
      "metadata": {
        "id": "DMpt-QCSS5zB",
        "colab_type": "code",
        "colab": {}
      },
      "source": [
        ""
      ],
      "execution_count": 0,
      "outputs": []
    },
    {
      "cell_type": "code",
      "metadata": {
        "id": "IGDS5rfkS56E",
        "colab_type": "code",
        "colab": {}
      },
      "source": [
        ""
      ],
      "execution_count": 0,
      "outputs": []
    },
    {
      "cell_type": "code",
      "metadata": {
        "id": "WHpKkEbtS6DC",
        "colab_type": "code",
        "colab": {}
      },
      "source": [
        ""
      ],
      "execution_count": 0,
      "outputs": []
    },
    {
      "cell_type": "code",
      "metadata": {
        "id": "Q8UoPLg9S6Ky",
        "colab_type": "code",
        "colab": {}
      },
      "source": [
        ""
      ],
      "execution_count": 0,
      "outputs": []
    },
    {
      "cell_type": "code",
      "metadata": {
        "id": "jM7hBRA0S6Tb",
        "colab_type": "code",
        "colab": {}
      },
      "source": [
        ""
      ],
      "execution_count": 0,
      "outputs": []
    },
    {
      "cell_type": "code",
      "metadata": {
        "id": "UJokr3QvS6br",
        "colab_type": "code",
        "colab": {}
      },
      "source": [
        ""
      ],
      "execution_count": 0,
      "outputs": []
    },
    {
      "cell_type": "code",
      "metadata": {
        "id": "fp9YnLTvS6kM",
        "colab_type": "code",
        "colab": {}
      },
      "source": [
        ""
      ],
      "execution_count": 0,
      "outputs": []
    },
    {
      "cell_type": "code",
      "metadata": {
        "id": "3GWU0jFzS6rc",
        "colab_type": "code",
        "colab": {}
      },
      "source": [
        ""
      ],
      "execution_count": 0,
      "outputs": []
    },
    {
      "cell_type": "code",
      "metadata": {
        "id": "Qn-ULAQAS60D",
        "colab_type": "code",
        "colab": {}
      },
      "source": [
        ""
      ],
      "execution_count": 0,
      "outputs": []
    },
    {
      "cell_type": "code",
      "metadata": {
        "id": "cSUW3pKPS68D",
        "colab_type": "code",
        "colab": {}
      },
      "source": [
        ""
      ],
      "execution_count": 0,
      "outputs": []
    },
    {
      "cell_type": "markdown",
      "metadata": {
        "colab_type": "text",
        "id": "L8k0LiHmo5EU"
      },
      "source": [
        "# Stretch Goals\n",
        "\n",
        "You can do more with the LendingClub or Instacart datasets.\n",
        "\n",
        "LendingClub options:\n",
        "- There's one other column in the dataframe with percent signs. Remove them and convert to floats. You'll need to handle missing values.\n",
        "- Modify the `emp_title` column to replace titles with 'Other' if the title is not in the top 20. \n",
        "- Take initiatve and work on your own ideas!\n",
        "\n",
        "Instacart options:\n",
        "- Read [Instacart Market Basket Analysis, Winner's Interview: 2nd place, Kazuki Onodera](http://blog.kaggle.com/2017/09/21/instacart-market-basket-analysis-winners-interview-2nd-place-kazuki-onodera/), especially the **Feature Engineering** section. (Can you choose one feature from his bulleted lists, and try to engineer it with pandas code?)\n",
        "- Read and replicate parts of [Simple Exploration Notebook - Instacart](https://www.kaggle.com/sudalairajkumar/simple-exploration-notebook-instacart). (It's the Python Notebook with the most upvotes for this Kaggle competition.)\n",
        "- Take initiative and work on your own ideas!"
      ]
    },
    {
      "cell_type": "markdown",
      "metadata": {
        "colab_type": "text",
        "id": "0_7PXF7lpEXg"
      },
      "source": [
        "You can uncomment and run the cells below to re-download and extract the Instacart data"
      ]
    },
    {
      "cell_type": "code",
      "metadata": {
        "id": "urIePNa0yNG6",
        "colab_type": "code",
        "colab": {}
      },
      "source": [
        "# !wget https://s3.amazonaws.com/instacart-datasets/instacart_online_grocery_shopping_2017_05_01.tar.gz"
      ],
      "execution_count": 0,
      "outputs": []
    },
    {
      "cell_type": "code",
      "metadata": {
        "id": "X9zEyu-uyNG8",
        "colab_type": "code",
        "colab": {}
      },
      "source": [
        "# !tar --gunzip --extract --verbose --file=instacart_online_grocery_shopping_2017_05_01.tar.gz"
      ],
      "execution_count": 0,
      "outputs": []
    },
    {
      "cell_type": "code",
      "metadata": {
        "id": "Y3IqrhlpyNG-",
        "colab_type": "code",
        "colab": {}
      },
      "source": [
        "# %cd instacart_2017_05_01"
      ],
      "execution_count": 0,
      "outputs": []
    }
  ]
}