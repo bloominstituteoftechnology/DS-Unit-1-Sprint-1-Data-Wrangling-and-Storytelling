{
  "nbformat": 4,
  "nbformat_minor": 0,
  "metadata": {
    "colab": {
      "name": "LS_DS_112_Make_Features_Assignment.ipynb",
      "provenance": [],
      "collapsed_sections": []
    },
    "kernelspec": {
      "display_name": "Python 3",
      "language": "python",
      "name": "python3"
    },
    "language_info": {
      "codemirror_mode": {
        "name": "ipython",
        "version": 3
      },
      "file_extension": ".py",
      "mimetype": "text/x-python",
      "name": "python",
      "nbconvert_exporter": "python",
      "pygments_lexer": "ipython3",
      "version": "3.7.1"
    }
  },
  "cells": [
    {
      "cell_type": "markdown",
      "metadata": {
        "id": "SnDJqBLi0FYW",
        "colab_type": "text"
      },
      "source": [
        "<img align=\"left\" src=\"https://lever-client-logos.s3.amazonaws.com/864372b1-534c-480e-acd5-9711f850815c-1524247202159.png\" width=200> "
      ]
    },
    {
      "cell_type": "markdown",
      "metadata": {
        "id": "W5GjI1z5yNG4",
        "colab_type": "text"
      },
      "source": [
        "# Assignment:\n",
        "\n",
        "- Replicate the lesson code.\n",
        "\n",
        " - This means that if you haven't followed along already, type out the things that we did in class. Forcing your fingers to hit each key will help you internalize the syntax of what we're doing. Make sure you understand each line of code that you're writing, google things that you don't fully understand.\n",
        " - [Lambda Learning Method for DS - By Ryan Herr](https://docs.google.com/document/d/1ubOw9B3Hfip27hF2ZFnW3a3z9xAgrUDRReOEo-FHCVs/edit?usp=sharing)\n",
        "- Convert the `term` column from string to integer.\n",
        "- Make a column named `loan_status_is_great`. It should contain the integer 1 if `loan_status` is \"Current\" or \"Fully Paid.\" Else it should contain the integer 0.\n",
        "- Make `last_pymnt_d_month` and `last_pymnt_d_year` columns."
      ]
    },
    {
      "cell_type": "code",
      "metadata": {
        "id": "AazB4eFwym2p",
        "colab_type": "code",
        "colab": {}
      },
      "source": [
        "# First thing to do is import necessary librarys for cleaning our Data \n",
        "# and Creating Features\n",
        "import pandas as pd\n",
        "import numpy as np"
      ],
      "execution_count": 0,
      "outputs": []
    },
    {
      "cell_type": "code",
      "metadata": {
        "id": "HDgFhnBmoFng",
        "colab_type": "code",
        "colab": {}
      },
      "source": [
        "# Take a look at the Ames Iowa Housing Dataset:\n",
        "src_url = 'https://raw.githubusercontent.com/ryanleeallred/datasets/master/Ames%20Housing%20Data/train.csv'\n",
        "\n",
        "# Read the data file from the src_url variable into a pandas DataFrame\n",
        "iowa_housing_df = pd.read_csv(src_url)\n",
        "\n",
        "# Display the first 10 rows to see if the DataFrame was made\n",
        "print(\"Top 10 Rows of iowa_housing_df: \")\n",
        "display(iowa_housing_df.head(10))\n",
        "\n",
        "# Display the shape of iowa_housing_df\n",
        "print(\"\\niowa_housing_df shape: \")\n",
        "display(iowa_housing_df.shape) "
      ],
      "execution_count": 0,
      "outputs": []
    },
    {
      "cell_type": "code",
      "metadata": {
        "id": "KyBoryh6oF1_",
        "colab_type": "code",
        "colab": {}
      },
      "source": [
        "# Using the describe function to get a statistical description of my data\n",
        "print(\"Basic Statistical Description: \\n\")\n",
        "display(iowa_housing_df.describe())\n",
        "\n",
        "# Just to show that I can get descriptions of specified columns:\n",
        "print(\"\\n\\nSpecified Columns Description: \\n\")\n",
        "display(iowa_housing_df[['OverallQual','YearBuilt']].describe())"
      ],
      "execution_count": 0,
      "outputs": []
    },
    {
      "cell_type": "code",
      "metadata": {
        "id": "rjJx8dn6oGA3",
        "colab_type": "code",
        "colab": {}
      },
      "source": [
        "# Displaying the data types of each column.\n",
        "pd.set_option('display.max_rows', 150)\n",
        "display(iowa_housing_df.dtypes)"
      ],
      "execution_count": 0,
      "outputs": []
    },
    {
      "cell_type": "code",
      "metadata": {
        "id": "v_r5xdGvoGJL",
        "colab_type": "code",
        "colab": {}
      },
      "source": [
        "# Lets take a look at the first 10 rows of the 'BedroomAbvGr' column.\n",
        "ihdf_type = iowa_housing_df['BedroomAbvGr'].dtype\n",
        "\n",
        "# Just for fun I will use an if statement to check if its an integer.\n",
        "if ihdf_type == 'int64' or ihdf_type == 'int32':\n",
        "    print(\"Yes it's an integer\")\n",
        "    print(\"Data Type: \",ihdf_type)"
      ],
      "execution_count": 0,
      "outputs": []
    },
    {
      "cell_type": "code",
      "metadata": {
        "id": "CE6hn6PfoGSn",
        "colab_type": "code",
        "colab": {}
      },
      "source": [
        "# Another way to call columns is wuth a dot method.\n",
        "iowa_housing_df.Fireplaces.head(10)\n",
        "\n",
        "# I don't like calling columns this way, because it could possibly interfear\n",
        "# with other predefined methods if they have the same name.\n",
        "\n",
        "# Seems to be a like minded opinion amongst the forums"
      ],
      "execution_count": 0,
      "outputs": []
    },
    {
      "cell_type": "code",
      "metadata": {
        "id": "QswrPxeHoGbt",
        "colab_type": "code",
        "colab": {}
      },
      "source": [
        "# Here is how to call specific columns using []\n",
        "iowa_housing_df['Fireplaces'].head(10)"
      ],
      "execution_count": 0,
      "outputs": []
    },
    {
      "cell_type": "code",
      "metadata": {
        "id": "PeMo9Oa7oGkc",
        "colab_type": "code",
        "colab": {}
      },
      "source": [
        "# I was curious to see which one would be interprited faster so I ran the \n",
        "# shell command '%timeit'\n",
        "%timeit iowa_housing_df.Fireplaces.head(10)\n",
        "%timeit iowa_housing_df['Fireplaces'].head(10)\n",
        "print(\"Using df['col'] is faster on average by \", 51.9-47.9,\"micro-seconds.\")\n",
        "# So if my previous opinion on not useing '.' to select columns wasn't enough\n",
        "# to convince you. \n",
        "# Using '[]' is also faster, not by much, but still."
      ],
      "execution_count": 0,
      "outputs": []
    },
    {
      "cell_type": "code",
      "metadata": {
        "id": "VGeG6WpkoGsp",
        "colab_type": "code",
        "colab": {}
      },
      "source": [
        "# Now let's see how selecting multiple columns looks.\n",
        "# Indtead of using a list '[]' \n",
        "# I will use '[[col,col]]' to create a 2d array\n",
        "iowa_housing_df[['Fireplaces', 'BedroomAbvGr']].sample(10)"
      ],
      "execution_count": 0,
      "outputs": []
    },
    {
      "cell_type": "code",
      "metadata": {
        "id": "RGDWNpikoG0k",
        "colab_type": "code",
        "colab": {}
      },
      "source": [
        "# Looking at the first ten rows of the 'LotFrontage' column.\n",
        "ihdflf = iowa_housing_df['LotFrontage']\n",
        "print(\"Top 10 rows of iowa_housing_df['LotFrontage']: \\n\")\n",
        "display(ihdflf.head(10))\n",
        "# If statement to tell me if the dtype is a float or an int\n",
        "if ihdflf.dtype == 'int64':\n",
        "    print(\"\\nIt's an integer!\")\n",
        "elif ihdflf.dtype == 'float64':\n",
        "    print(\"\\nIt's a float\")     "
      ],
      "execution_count": 0,
      "outputs": []
    },
    {
      "cell_type": "code",
      "metadata": {
        "id": "9LPSpaIVoG82",
        "colab_type": "code",
        "colab": {}
      },
      "source": [
        "# Let's take a look at all possible valus in this column\n",
        "display(iowa_housing_df['LotFrontage'].value_counts(dropna=False))\n",
        "# By setting dropna to False it counts the NaN values as well."
      ],
      "execution_count": 0,
      "outputs": []
    },
    {
      "cell_type": "code",
      "metadata": {
        "id": "2AqD3iQuoHEF",
        "colab_type": "code",
        "colab": {}
      },
      "source": [
        "# The reason that it is float dtype is, because if there is a NaN\n",
        "# value amongst a column of integers it will read the NaN value as a float.\n",
        "\n",
        "# To confirm this we can call the nan instance from the numpy library as a \n",
        "# parameter for python built-in type function\n",
        "type(np.nan) #---- Ouputes 'float'"
      ],
      "execution_count": 0,
      "outputs": []
    },
    {
      "cell_type": "code",
      "metadata": {
        "id": "BAK2Sh2_oHLR",
        "colab_type": "code",
        "colab": {}
      },
      "source": [
        "# Ways to check for missing values in pandas:\n",
        "# 1. We can call the is null method on our dataframe to get all instances of\n",
        "#    a NaN value. Then call the sum() method to add up the amount of missing\n",
        "#    values. \n",
        "print(\"Total NaN values: \",iowa_housing_df['LotFrontage'].isnull().sum())\n",
        "# 2. We can call the isna() method also to get the same output.\n",
        "print(\"\\nTotal NaN values: \", iowa_housing_df['LotFrontage'].isna().sum())"
      ],
      "execution_count": 0,
      "outputs": []
    },
    {
      "cell_type": "markdown",
      "metadata": {
        "id": "t-1oWnh6xviR",
        "colab_type": "text"
      },
      "source": [
        "## Making New Features"
      ]
    },
    {
      "cell_type": "code",
      "metadata": {
        "id": "HkxEFRFQoHTJ",
        "colab_type": "code",
        "colab": {}
      },
      "source": [
        "# Now to make a smaller dataframe with a few specific column headers\n",
        "# by passing a list of column headers inside of the square brackets\n",
        "# Here we will use the copy() function to copy the selected columns to a new dataframe.\n",
        "small_iowa_df = iowa_housing_df[['TotalBsmtSF','1stFlrSF','2ndFlrSF','SalePrice']].copy()\n",
        "# Lets take a look at our new dataframe:\n",
        "small_iowa_df.sample(10)\n",
        "# It works!!"
      ],
      "execution_count": 0,
      "outputs": []
    },
    {
      "cell_type": "code",
      "metadata": {
        "id": "gonwd0hToHaq",
        "colab_type": "code",
        "colab": {}
      },
      "source": [
        "# Now lets make some new column for or small_iowa_df \n",
        "\n",
        "# First we need to make a new colun name to describe what it will be.\n",
        "# Here it will just be a total of a houses Square Footage\n",
        "# So we will add our single floor SF columns together like so:\n",
        "small_iowa_df['TotalSF'] = small_iowa_df['TotalBsmtSF']+small_iowa_df['1stFlrSF']+small_iowa_df['2ndFlrSF']\n",
        "\n",
        "# Now lets display the results.\n",
        "small_iowa_df.head(10)\n",
        "# Confirmed that our new column 'TotalSF' is now part of the DataFrame"
      ],
      "execution_count": 0,
      "outputs": []
    },
    {
      "cell_type": "code",
      "metadata": {
        "id": "yPr2j6O6zVoZ",
        "colab_type": "code",
        "colab": {}
      },
      "source": [
        "# Now to create another new column for our small_iowa_df\n",
        "# This column will be the price/sqrft\n",
        "small_iowa_df['Price/SF'] = small_iowa_df['SalePrice'] / small_iowa_df['TotalSF']\n",
        "\n",
        "# Now lets display to confirm changes\n",
        "small_iowa_df.head(10)"
      ],
      "execution_count": 0,
      "outputs": []
    },
    {
      "cell_type": "markdown",
      "metadata": {
        "id": "Rnxwyf3TbOVw",
        "colab_type": "text"
      },
      "source": [
        "### Questons About `small_iowa_df`:\n",
        "- What does a high `Price/SF` say about a home that the square footage and price alone don't capture as dirctly?\n",
        "\n",
        "\n",
        "- What does a low `Price/SF` say about a home that the square footage and price alone don't directly capture?"
      ]
    },
    {
      "cell_type": "code",
      "metadata": {
        "id": "Ni9DAh9MzV0s",
        "colab_type": "code",
        "colab": {}
      },
      "source": [
        ""
      ],
      "execution_count": 0,
      "outputs": []
    },
    {
      "cell_type": "code",
      "metadata": {
        "id": "K2GtAkuhzWNX",
        "colab_type": "code",
        "colab": {}
      },
      "source": [
        ""
      ],
      "execution_count": 0,
      "outputs": []
    },
    {
      "cell_type": "code",
      "metadata": {
        "id": "sV7vGg3dzWaT",
        "colab_type": "code",
        "colab": {}
      },
      "source": [
        ""
      ],
      "execution_count": 0,
      "outputs": []
    },
    {
      "cell_type": "code",
      "metadata": {
        "id": "ThAvP4j_zWn2",
        "colab_type": "code",
        "colab": {}
      },
      "source": [
        ""
      ],
      "execution_count": 0,
      "outputs": []
    },
    {
      "cell_type": "code",
      "metadata": {
        "id": "k17RhxiGzW0-",
        "colab_type": "code",
        "colab": {}
      },
      "source": [
        ""
      ],
      "execution_count": 0,
      "outputs": []
    },
    {
      "cell_type": "code",
      "metadata": {
        "id": "2EaNuxAizXDW",
        "colab_type": "code",
        "colab": {}
      },
      "source": [
        ""
      ],
      "execution_count": 0,
      "outputs": []
    },
    {
      "cell_type": "code",
      "metadata": {
        "id": "rlDImF62zXQy",
        "colab_type": "code",
        "colab": {}
      },
      "source": [
        ""
      ],
      "execution_count": 0,
      "outputs": []
    },
    {
      "cell_type": "code",
      "metadata": {
        "id": "K1GUv6wlzXfN",
        "colab_type": "code",
        "colab": {}
      },
      "source": [
        ""
      ],
      "execution_count": 0,
      "outputs": []
    },
    {
      "cell_type": "code",
      "metadata": {
        "id": "D4MwO6cCzXr0",
        "colab_type": "code",
        "colab": {}
      },
      "source": [
        ""
      ],
      "execution_count": 0,
      "outputs": []
    },
    {
      "cell_type": "code",
      "metadata": {
        "id": "0h-bbT0RzX45",
        "colab_type": "code",
        "colab": {}
      },
      "source": [
        ""
      ],
      "execution_count": 0,
      "outputs": []
    },
    {
      "cell_type": "markdown",
      "metadata": {
        "colab_type": "text",
        "id": "L8k0LiHmo5EU"
      },
      "source": [
        "# Stretch Goals\n",
        "\n",
        "You can do more with the LendingClub or Instacart datasets.\n",
        "\n",
        "LendingClub options:\n",
        "- There's one other column in the dataframe with percent signs. Remove them and convert to floats. You'll need to handle missing values.\n",
        "- Modify the `emp_title` column to replace titles with 'Other' if the title is not in the top 20. \n",
        "- Take initiatve and work on your own ideas!\n",
        "\n",
        "Instacart options:\n",
        "- Read [Instacart Market Basket Analysis, Winner's Interview: 2nd place, Kazuki Onodera](http://blog.kaggle.com/2017/09/21/instacart-market-basket-analysis-winners-interview-2nd-place-kazuki-onodera/), especially the **Feature Engineering** section. (Can you choose one feature from his bulleted lists, and try to engineer it with pandas code?)\n",
        "- Read and replicate parts of [Simple Exploration Notebook - Instacart](https://www.kaggle.com/sudalairajkumar/simple-exploration-notebook-instacart). (It's the Python Notebook with the most upvotes for this Kaggle competition.)\n",
        "- Take initiative and work on your own ideas!"
      ]
    },
    {
      "cell_type": "markdown",
      "metadata": {
        "colab_type": "text",
        "id": "0_7PXF7lpEXg"
      },
      "source": [
        "You can uncomment and run the cells below to re-download and extract the Instacart data"
      ]
    },
    {
      "cell_type": "code",
      "metadata": {
        "id": "urIePNa0yNG6",
        "colab_type": "code",
        "colab": {}
      },
      "source": [
        "# !wget https://s3.amazonaws.com/instacart-datasets/instacart_online_grocery_shopping_2017_05_01.tar.gz"
      ],
      "execution_count": 0,
      "outputs": []
    },
    {
      "cell_type": "code",
      "metadata": {
        "id": "X9zEyu-uyNG8",
        "colab_type": "code",
        "colab": {}
      },
      "source": [
        "# !tar --gunzip --extract --verbose --file=instacart_online_grocery_shopping_2017_05_01.tar.gz"
      ],
      "execution_count": 0,
      "outputs": []
    },
    {
      "cell_type": "code",
      "metadata": {
        "id": "Y3IqrhlpyNG-",
        "colab_type": "code",
        "colab": {}
      },
      "source": [
        "# %cd instacart_2017_05_01"
      ],
      "execution_count": 0,
      "outputs": []
    }
  ]
}