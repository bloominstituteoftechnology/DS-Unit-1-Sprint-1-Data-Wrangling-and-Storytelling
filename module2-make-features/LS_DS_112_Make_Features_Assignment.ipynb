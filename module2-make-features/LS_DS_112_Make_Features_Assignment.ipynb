{
  "nbformat": 4,
  "nbformat_minor": 0,
  "metadata": {
    "colab": {
      "name": "LS_DS_112_Make_Features_Assignment.ipynb",
      "provenance": [],
      "collapsed_sections": []
    },
    "kernelspec": {
      "display_name": "Python 3",
      "language": "python",
      "name": "python3"
    },
    "language_info": {
      "codemirror_mode": {
        "name": "ipython",
        "version": 3
      },
      "file_extension": ".py",
      "mimetype": "text/x-python",
      "name": "python",
      "nbconvert_exporter": "python",
      "pygments_lexer": "ipython3",
      "version": "3.7.1"
    }
  },
  "cells": [
    {
      "cell_type": "markdown",
      "metadata": {
        "id": "SnDJqBLi0FYW",
        "colab_type": "text"
      },
      "source": [
        "<img align=\"left\" src=\"https://lever-client-logos.s3.amazonaws.com/864372b1-534c-480e-acd5-9711f850815c-1524247202159.png\" width=200> "
      ]
    },
    {
      "cell_type": "markdown",
      "metadata": {
        "id": "W5GjI1z5yNG4",
        "colab_type": "text"
      },
      "source": [
        "# Assignment:\n",
        "\n",
        "- Replicate the lesson code.\n",
        "\n",
        " - This means that if you haven't followed along already, type out the things that we did in class. Forcing your fingers to hit each key will help you internalize the syntax of what we're doing. Make sure you understand each line of code that you're writing, google things that you don't fully understand.\n",
        " - [Lambda Learning Method for DS - By Ryan Herr](https://docs.google.com/document/d/1ubOw9B3Hfip27hF2ZFnW3a3z9xAgrUDRReOEo-FHCVs/edit?usp=sharing)\n",
        "- Convert the `term` column from string to integer.\n",
        "- Make a column named `loan_status_is_great`. It should contain the integer 1 if `loan_status` is \"Current\" or \"Fully Paid.\" Else it should contain the integer 0.\n",
        "- Make `last_pymnt_d_month` and `last_pymnt_d_year` columns."
      ]
    },
    {
      "cell_type": "code",
      "metadata": {
        "id": "AazB4eFwym2p",
        "colab_type": "code",
        "outputId": "086e0d87-6e64-4835-ec68-52af88b1644b",
        "colab": {
          "base_uri": "https://localhost:8080/",
          "height": 222
        }
      },
      "source": [
        "! wget https://resources.lendingclub.com/LoanStats_2018Q4.csv.zip"
      ],
      "execution_count": 0,
      "outputs": [
        {
          "output_type": "stream",
          "text": [
            "--2019-11-02 15:39:47--  https://resources.lendingclub.com/LoanStats_2018Q4.csv.zip\n",
            "Resolving resources.lendingclub.com (resources.lendingclub.com)... 64.48.1.20\n",
            "Connecting to resources.lendingclub.com (resources.lendingclub.com)|64.48.1.20|:443... connected.\n",
            "HTTP request sent, awaiting response... 200 OK\n",
            "Length: unspecified [application/zip]\n",
            "Saving to: ‘LoanStats_2018Q4.csv.zip’\n",
            "\n",
            "LoanStats_2018Q4.cs     [        <=>         ]  21.66M  1.82MB/s    in 12s     \n",
            "\n",
            "2019-11-02 15:39:59 (1.80 MB/s) - ‘LoanStats_2018Q4.csv.zip’ saved [22709125]\n",
            "\n"
          ],
          "name": "stdout"
        }
      ]
    },
    {
      "cell_type": "code",
      "metadata": {
        "id": "uVn5wNcJxpKB",
        "colab_type": "code",
        "outputId": "30f952a1-07ff-4cb1-e1b6-93f83bfb2712",
        "colab": {
          "base_uri": "https://localhost:8080/",
          "height": 50
        }
      },
      "source": [
        "! unzip /content/LoanStats_2018Q4.csv.zip"
      ],
      "execution_count": 0,
      "outputs": [
        {
          "output_type": "stream",
          "text": [
            "Archive:  /content/LoanStats_2018Q4.csv.zip\n",
            "  inflating: LoanStats_2018Q4.csv    \n"
          ],
          "name": "stdout"
        }
      ]
    },
    {
      "cell_type": "code",
      "metadata": {
        "id": "FQsa6GB7yLvF",
        "colab_type": "code",
        "outputId": "bcf5be28-f77f-4de6-a132-561287cd5844",
        "colab": {
          "base_uri": "https://localhost:8080/",
          "height": 205
        }
      },
      "source": [
        "!head LoanStats_2018Q4.csv"
      ],
      "execution_count": 0,
      "outputs": [
        {
          "output_type": "stream",
          "text": [
            "Notes offered by Prospectus (https://www.lendingclub.com/info/prospectus.action)\n",
            "\"id\",\"member_id\",\"loan_amnt\",\"funded_amnt\",\"funded_amnt_inv\",\"term\",\"int_rate\",\"installment\",\"grade\",\"sub_grade\",\"emp_title\",\"emp_length\",\"home_ownership\",\"annual_inc\",\"verification_status\",\"issue_d\",\"loan_status\",\"pymnt_plan\",\"url\",\"desc\",\"purpose\",\"title\",\"zip_code\",\"addr_state\",\"dti\",\"delinq_2yrs\",\"earliest_cr_line\",\"inq_last_6mths\",\"mths_since_last_delinq\",\"mths_since_last_record\",\"open_acc\",\"pub_rec\",\"revol_bal\",\"revol_util\",\"total_acc\",\"initial_list_status\",\"out_prncp\",\"out_prncp_inv\",\"total_pymnt\",\"total_pymnt_inv\",\"total_rec_prncp\",\"total_rec_int\",\"total_rec_late_fee\",\"recoveries\",\"collection_recovery_fee\",\"last_pymnt_d\",\"last_pymnt_amnt\",\"next_pymnt_d\",\"last_credit_pull_d\",\"collections_12_mths_ex_med\",\"mths_since_last_major_derog\",\"policy_code\",\"application_type\",\"annual_inc_joint\",\"dti_joint\",\"verification_status_joint\",\"acc_now_delinq\",\"tot_coll_amt\",\"tot_cur_bal\",\"open_acc_6m\",\"open_act_il\",\"open_il_12m\",\"open_il_24m\",\"mths_since_rcnt_il\",\"total_bal_il\",\"il_util\",\"open_rv_12m\",\"open_rv_24m\",\"max_bal_bc\",\"all_util\",\"total_rev_hi_lim\",\"inq_fi\",\"total_cu_tl\",\"inq_last_12m\",\"acc_open_past_24mths\",\"avg_cur_bal\",\"bc_open_to_buy\",\"bc_util\",\"chargeoff_within_12_mths\",\"delinq_amnt\",\"mo_sin_old_il_acct\",\"mo_sin_old_rev_tl_op\",\"mo_sin_rcnt_rev_tl_op\",\"mo_sin_rcnt_tl\",\"mort_acc\",\"mths_since_recent_bc\",\"mths_since_recent_bc_dlq\",\"mths_since_recent_inq\",\"mths_since_recent_revol_delinq\",\"num_accts_ever_120_pd\",\"num_actv_bc_tl\",\"num_actv_rev_tl\",\"num_bc_sats\",\"num_bc_tl\",\"num_il_tl\",\"num_op_rev_tl\",\"num_rev_accts\",\"num_rev_tl_bal_gt_0\",\"num_sats\",\"num_tl_120dpd_2m\",\"num_tl_30dpd\",\"num_tl_90g_dpd_24m\",\"num_tl_op_past_12m\",\"pct_tl_nvr_dlq\",\"percent_bc_gt_75\",\"pub_rec_bankruptcies\",\"tax_liens\",\"tot_hi_cred_lim\",\"total_bal_ex_mort\",\"total_bc_limit\",\"total_il_high_credit_limit\",\"revol_bal_joint\",\"sec_app_earliest_cr_line\",\"sec_app_inq_last_6mths\",\"sec_app_mort_acc\",\"sec_app_open_acc\",\"sec_app_revol_util\",\"sec_app_open_act_il\",\"sec_app_num_rev_accts\",\"sec_app_chargeoff_within_12_mths\",\"sec_app_collections_12_mths_ex_med\",\"sec_app_mths_since_last_major_derog\",\"hardship_flag\",\"hardship_type\",\"hardship_reason\",\"hardship_status\",\"deferral_term\",\"hardship_amount\",\"hardship_start_date\",\"hardship_end_date\",\"payment_plan_start_date\",\"hardship_length\",\"hardship_dpd\",\"hardship_loan_status\",\"orig_projected_additional_accrued_interest\",\"hardship_payoff_balance_amount\",\"hardship_last_payment_amount\",\"debt_settlement_flag\",\"debt_settlement_flag_date\",\"settlement_status\",\"settlement_date\",\"settlement_amount\",\"settlement_percentage\",\"settlement_term\"\n",
            "\"\",\"\",\"35000\",\"35000\",\"35000\",\" 36 months\",\" 14.47%\",\"1204.23\",\"C\",\"C2\",\"Staff Physician\",\"8 years\",\"MORTGAGE\",\"360000\",\"Verified\",\"Dec-2018\",\"Fully Paid\",\"n\",\"\",\"\",\"credit_card\",\"Credit card refinancing\",\"336xx\",\"FL\",\"19.9\",\"0\",\"Apr-1995\",\"1\",\"\",\"\",\"24\",\"0\",\"57259\",\"43.2%\",\"51\",\"w\",\"0.00\",\"0.00\",\"38187.0468373662\",\"38187.05\",\"35000.00\",\"3187.05\",\"0.0\",\"0.0\",\"0.0\",\"Aug-2019\",\"29882.16\",\"\",\"Sep-2019\",\"0\",\"\",\"1\",\"Individual\",\"\",\"\",\"\",\"0\",\"0\",\"828060\",\"0\",\"6\",\"1\",\"2\",\"9\",\"112027\",\"29\",\"4\",\"8\",\"19118\",\"36\",\"132400\",\"3\",\"2\",\"5\",\"11\",\"34503\",\"67341\",\"46\",\"0\",\"0\",\"173\",\"284\",\"8\",\"8\",\"3\",\"8\",\"\",\"0\",\"\",\"0\",\"11\",\"11\",\"13\",\"20\",\"23\",\"16\",\"24\",\"11\",\"24\",\"0\",\"0\",\"0\",\"5\",\"100\",\"30.8\",\"0\",\"0\",\"1222051\",\"169286\",\"124600\",\"258401\",\"\",\"\",\"\",\"\",\"\",\"\",\"\",\"\",\"\",\"\",\"\",\"N\",\"\",\"\",\"\",\"\",\"\",\"\",\"\",\"\",\"\",\"\",\"\",\"\",\"\",\"\",\"N\",\"\",\"\",\"\",\"\",\"\",\"\"\n",
            "\"\",\"\",\"5000\",\"5000\",\"5000\",\" 36 months\",\" 22.35%\",\"191.86\",\"D\",\"D5\",\"Director of Sales\",\"10+ years\",\"MORTGAGE\",\"72000\",\"Source Verified\",\"Dec-2018\",\"Fully Paid\",\"n\",\"\",\"\",\"debt_consolidation\",\"Debt consolidation\",\"333xx\",\"FL\",\"20.12\",\"0\",\"Mar-2010\",\"0\",\"\",\"\",\"13\",\"0\",\"11720\",\"47.1%\",\"26\",\"f\",\"0.00\",\"0.00\",\"5615.9776735688\",\"5615.98\",\"5000.00\",\"615.98\",\"0.0\",\"0.0\",\"0.0\",\"Jul-2019\",\"4474.13\",\"\",\"Aug-2019\",\"0\",\"\",\"1\",\"Individual\",\"\",\"\",\"\",\"0\",\"534\",\"189279\",\"0\",\"1\",\"0\",\"1\",\"18\",\"22698\",\"\",\"0\",\"0\",\"4056\",\"47\",\"24900\",\"1\",\"0\",\"1\",\"2\",\"14560\",\"8163\",\"55.1\",\"0\",\"0\",\"105\",\"90\",\"29\",\"8\",\"5\",\"40\",\"\",\"9\",\"\",\"0\",\"6\",\"11\",\"6\",\"8\",\"4\",\"11\",\"17\",\"11\",\"13\",\"0\",\"0\",\"0\",\"1\",\"100\",\"50\",\"0\",\"0\",\"218686\",\"34418\",\"18200\",\"37786\",\"\",\"\",\"\",\"\",\"\",\"\",\"\",\"\",\"\",\"\",\"\",\"N\",\"\",\"\",\"\",\"\",\"\",\"\",\"\",\"\",\"\",\"\",\"\",\"\",\"\",\"\",\"N\",\"\",\"\",\"\",\"\",\"\",\"\"\n",
            "\"\",\"\",\"10000\",\"10000\",\"10000\",\" 60 months\",\" 23.40%\",\"284.21\",\"E\",\"E1\",\"\",\"< 1 year\",\"RENT\",\"55000\",\"Source Verified\",\"Dec-2018\",\"Current\",\"n\",\"\",\"\",\"debt_consolidation\",\"Debt consolidation\",\"902xx\",\"CA\",\"13.51\",\"0\",\"Apr-2007\",\"0\",\"44\",\"88\",\"9\",\"1\",\"11859\",\"53.9%\",\"11\",\"w\",\"9025.41\",\"9025.41\",\"2822.6\",\"2822.60\",\"974.59\",\"1848.01\",\"0.0\",\"0.0\",\"0.0\",\"Oct-2019\",\"284.21\",\"Nov-2019\",\"Oct-2019\",\"0\",\"\",\"1\",\"Individual\",\"\",\"\",\"\",\"0\",\"0\",\"21235\",\"0\",\"1\",\"0\",\"1\",\"20\",\"9376\",\"76\",\"0\",\"3\",\"3122\",\"62\",\"22000\",\"1\",\"0\",\"0\",\"4\",\"2359\",\"1119\",\"89.3\",\"0\",\"0\",\"140\",\"140\",\"13\",\"13\",\"0\",\"13\",\"\",\"15\",\"44\",\"0\",\"4\",\"7\",\"4\",\"5\",\"2\",\"8\",\"9\",\"7\",\"9\",\"0\",\"0\",\"0\",\"0\",\"90.9\",\"100\",\"1\",\"0\",\"34386\",\"21235\",\"10500\",\"12386\",\"\",\"\",\"\",\"\",\"\",\"\",\"\",\"\",\"\",\"\",\"\",\"N\",\"\",\"\",\"\",\"\",\"\",\"\",\"\",\"\",\"\",\"\",\"\",\"\",\"\",\"\",\"N\",\"\",\"\",\"\",\"\",\"\",\"\"\n",
            "\"\",\"\",\"17100\",\"17100\",\"17100\",\" 36 months\",\" 18.94%\",\"626.3\",\"D\",\"D2\",\"Receptionist \",\"10+ years\",\"RENT\",\"38000\",\"Verified\",\"Dec-2018\",\"Current\",\"n\",\"\",\"\",\"debt_consolidation\",\"Debt consolidation\",\"150xx\",\"PA\",\"38.09\",\"0\",\"Mar-1998\",\"1\",\"47\",\"\",\"14\",\"0\",\"15323\",\"53%\",\"21\",\"w\",\"13271.86\",\"13271.86\",\"6236.01\",\"6236.01\",\"3828.14\",\"2407.87\",\"0.0\",\"0.0\",\"0.0\",\"Oct-2019\",\"626.3\",\"Nov-2019\",\"Oct-2019\",\"0\",\"\",\"1\",\"Individual\",\"\",\"\",\"\",\"0\",\"0\",\"43351\",\"1\",\"2\",\"1\",\"1\",\"10\",\"28028\",\"67\",\"1\",\"5\",\"7533\",\"53\",\"29170\",\"0\",\"0\",\"2\",\"6\",\"3096\",\"4150\",\"77\",\"0\",\"0\",\"125\",\"230\",\"5\",\"5\",\"2\",\"5\",\"\",\"5\",\"\",\"0\",\"4\",\"12\",\"5\",\"5\",\"5\",\"12\",\"14\",\"9\",\"14\",\"\",\"0\",\"0\",\"2\",\"95\",\"75\",\"0\",\"0\",\"70954\",\"43351\",\"16600\",\"41784\",\"\",\"\",\"\",\"\",\"\",\"\",\"\",\"\",\"\",\"\",\"\",\"N\",\"\",\"\",\"\",\"\",\"\",\"\",\"\",\"\",\"\",\"\",\"\",\"\",\"\",\"\",\"N\",\"\",\"\",\"\",\"\",\"\",\"\"\n",
            "\"\",\"\",\"4000\",\"4000\",\"4000\",\" 36 months\",\" 10.72%\",\"130.43\",\"B\",\"B2\",\"Extrusion assistant \",\"10+ years\",\"MORTGAGE\",\"56000\",\"Verified\",\"Dec-2018\",\"Current\",\"n\",\"\",\"\",\"credit_card\",\"Credit card refinancing\",\"301xx\",\"GA\",\"31.03\",\"0\",\"Sep-2006\",\"0\",\"\",\"\",\"7\",\"0\",\"4518\",\"28.6%\",\"11\",\"w\",\"3014.03\",\"3014.03\",\"1291.21\",\"1291.21\",\"985.97\",\"305.24\",\"0.0\",\"0.0\",\"0.0\",\"Oct-2019\",\"130.43\",\"Nov-2019\",\"Oct-2019\",\"1\",\"\",\"1\",\"Individual\",\"\",\"\",\"\",\"0\",\"136\",\"192983\",\"0\",\"2\",\"0\",\"2\",\"14\",\"66857\",\"\",\"0\",\"3\",\"1608\",\"29\",\"15800\",\"3\",\"0\",\"0\",\"5\",\"27569\",\"7835\",\"36.3\",\"0\",\"0\",\"147\",\"29\",\"22\",\"14\",\"1\",\"22\",\"\",\"17\",\"\",\"0\",\"3\",\"4\",\"3\",\"3\",\"6\",\"4\",\"4\",\"4\",\"7\",\"0\",\"0\",\"0\",\"0\",\"100\",\"0\",\"0\",\"0\",\"221310\",\"71375\",\"12300\",\"77865\",\"\",\"\",\"\",\"\",\"\",\"\",\"\",\"\",\"\",\"\",\"\",\"N\",\"\",\"\",\"\",\"\",\"\",\"\",\"\",\"\",\"\",\"\",\"\",\"\",\"\",\"\",\"N\",\"\",\"\",\"\",\"\",\"\",\"\"\n",
            "\"\",\"\",\"10475\",\"10475\",\"10475\",\" 36 months\",\" 11.31%\",\"344.48\",\"B\",\"B3\",\"Teacher\",\"6 years\",\"RENT\",\"66150\",\"Source Verified\",\"Dec-2018\",\"Current\",\"n\",\"\",\"\",\"debt_consolidation\",\"Debt consolidation\",\"786xx\",\"TX\",\"7.4\",\"0\",\"Jun-1991\",\"0\",\"28\",\"\",\"10\",\"0\",\"10499\",\"40.2%\",\"17\",\"w\",\"7910.58\",\"7910.58\",\"3434.93\",\"3434.93\",\"2564.42\",\"870.51\",\"0.0\",\"0.0\",\"0.0\",\"Oct-2019\",\"344.48\",\"Nov-2019\",\"Oct-2019\",\"0\",\"\",\"1\",\"Individual\",\"\",\"\",\"\",\"0\",\"0\",\"10499\",\"1\",\"0\",\"0\",\"0\",\"84\",\"0\",\"\",\"3\",\"5\",\"3841\",\"40\",\"26100\",\"2\",\"1\",\"5\",\"5\",\"1312\",\"14847\",\"36.8\",\"0\",\"0\",\"88\",\"330\",\"3\",\"3\",\"2\",\"7\",\"\",\"1\",\"28\",\"0\",\"5\",\"8\",\"7\",\"8\",\"2\",\"10\",\"13\",\"8\",\"10\",\"0\",\"0\",\"0\",\"3\",\"88.2\",\"60\",\"0\",\"0\",\"26100\",\"10499\",\"23500\",\"0\",\"\",\"\",\"\",\"\",\"\",\"\",\"\",\"\",\"\",\"\",\"\",\"N\",\"\",\"\",\"\",\"\",\"\",\"\",\"\",\"\",\"\",\"\",\"\",\"\",\"\",\"\",\"N\",\"\",\"\",\"\",\"\",\"\",\"\"\n",
            "\"\",\"\",\"7500\",\"7500\",\"7500\",\" 36 months\",\" 11.31%\",\"246.65\",\"B\",\"B3\",\"Supervisor\",\"7 years\",\"MORTGAGE\",\"40500\",\"Verified\",\"Dec-2018\",\"Late (16-30 days)\",\"n\",\"\",\"\",\"debt_consolidation\",\"Debt consolidation\",\"604xx\",\"IL\",\"31.61\",\"0\",\"Sep-1996\",\"1\",\"\",\"\",\"23\",\"0\",\"14218\",\"16.3%\",\"33\",\"w\",\"6032.58\",\"6032.58\",\"1983.44\",\"1983.44\",\"1467.42\",\"516.02\",\"0.0\",\"0.0\",\"0.0\",\"Sep-2019\",\"246.65\",\"Nov-2019\",\"Oct-2019\",\"0\",\"\",\"1\",\"Individual\",\"\",\"\",\"\",\"0\",\"0\",\"123779\",\"3\",\"2\",\"1\",\"1\",\"12\",\"8096\",\"29\",\"3\",\"6\",\"2972\",\"19\",\"87000\",\"0\",\"0\",\"2\",\"7\",\"5626\",\"21078\",\"23.9\",\"0\",\"0\",\"59\",\"267\",\"1\",\"1\",\"1\",\"6\",\"\",\"6\",\"\",\"0\",\"4\",\"6\",\"7\",\"10\",\"2\",\"20\",\"30\",\"6\",\"23\",\"0\",\"0\",\"0\",\"4\",\"100\",\"0\",\"0\",\"0\",\"221569\",\"22314\",\"27700\",\"28409\",\"\",\"\",\"\",\"\",\"\",\"\",\"\",\"\",\"\",\"\",\"\",\"N\",\"\",\"\",\"\",\"\",\"\",\"\",\"\",\"\",\"\",\"\",\"\",\"\",\"\",\"\",\"N\",\"\",\"\",\"\",\"\",\"\",\"\"\n",
            "\"\",\"\",\"3600\",\"3600\",\"3600\",\" 36 months\",\" 11.80%\",\"119.23\",\"B\",\"B4\",\"Analyst\",\"5 years\",\"MORTGAGE\",\"50000\",\"Source Verified\",\"Dec-2018\",\"Current\",\"n\",\"\",\"\",\"other\",\"Other\",\"427xx\",\"KY\",\"16.11\",\"0\",\"Jan-2002\",\"2\",\"\",\"\",\"10\",\"0\",\"5865\",\"17.4%\",\"17\",\"w\",\"2818.01\",\"2818.01\",\"1087.23\",\"1087.23\",\"781.99\",\"305.24\",\"0.0\",\"0.0\",\"0.0\",\"Oct-2019\",\"119.23\",\"Nov-2019\",\"Oct-2019\",\"0\",\"\",\"1\",\"Individual\",\"\",\"\",\"\",\"0\",\"0\",\"243415\",\"3\",\"3\",\"1\",\"2\",\"3\",\"68184\",\"95\",\"1\",\"3\",\"0\",\"53\",\"33700\",\"2\",\"1\",\"10\",\"6\",\"24342\",\"17300\",\"0\",\"0\",\"0\",\"203\",\"198\",\"4\",\"3\",\"1\",\"18\",\"\",\"3\",\"\",\"1\",\"0\",\"1\",\"4\",\"6\",\"6\",\"6\",\"10\",\"1\",\"10\",\"0\",\"0\",\"0\",\"3\",\"93.8\",\"0\",\"0\",\"0\",\"272629\",\"74049\",\"17300\",\"68929\",\"\",\"\",\"\",\"\",\"\",\"\",\"\",\"\",\"\",\"\",\"\",\"N\",\"\",\"\",\"\",\"\",\"\",\"\",\"\",\"\",\"\",\"\",\"\",\"\",\"\",\"\",\"N\",\"\",\"\",\"\",\"\",\"\",\"\"\n"
          ],
          "name": "stdout"
        }
      ]
    },
    {
      "cell_type": "code",
      "metadata": {
        "id": "o_OERQ8Zym1t",
        "colab_type": "code",
        "outputId": "1f46333c-7b6d-4e09-9ea2-13de9c716f24",
        "colab": {
          "base_uri": "https://localhost:8080/",
          "height": 205
        }
      },
      "source": [
        "!tail LoanStats_2018Q4.csv"
      ],
      "execution_count": 0,
      "outputs": [
        {
          "output_type": "stream",
          "text": [
            "\"\",\"\",\"5600\",\"5600\",\"5600\",\" 36 months\",\" 13.56%\",\"190.21\",\"C\",\"C1\",\"\",\"n/a\",\"RENT\",\"15600\",\"Not Verified\",\"Oct-2018\",\"Current\",\"n\",\"\",\"\",\"credit_card\",\"Credit card refinancing\",\"836xx\",\"ID\",\"15.31\",\"0\",\"Aug-2012\",\"0\",\"\",\"97\",\"9\",\"1\",\"5996\",\"34.5%\",\"11\",\"w\",\"3978.52\",\"3978.52\",\"2271.97\",\"2271.97\",\"1621.48\",\"650.49\",\"0.0\",\"0.0\",\"0.0\",\"Oct-2019\",\"190.21\",\"Nov-2019\",\"Oct-2019\",\"0\",\"\",\"1\",\"Individual\",\"\",\"\",\"\",\"0\",\"0\",\"5996\",\"0\",\"0\",\"0\",\"1\",\"20\",\"0\",\"\",\"0\",\"2\",\"3017\",\"35\",\"17400\",\"1\",\"0\",\"0\",\"3\",\"750\",\"4689\",\"45.5\",\"0\",\"0\",\"20\",\"73\",\"13\",\"13\",\"0\",\"13\",\"\",\"20\",\"\",\"0\",\"3\",\"5\",\"4\",\"4\",\"1\",\"9\",\"10\",\"5\",\"9\",\"0\",\"0\",\"0\",\"0\",\"100\",\"25\",\"1\",\"0\",\"17400\",\"5996\",\"8600\",\"0\",\"\",\"\",\"\",\"\",\"\",\"\",\"\",\"\",\"\",\"\",\"\",\"N\",\"\",\"\",\"\",\"\",\"\",\"\",\"\",\"\",\"\",\"\",\"\",\"\",\"\",\"\",\"N\",\"\",\"\",\"\",\"\",\"\",\"\"\n",
            "\"\",\"\",\"23000\",\"23000\",\"23000\",\" 36 months\",\" 15.02%\",\"797.53\",\"C\",\"C3\",\"Tax Consultant\",\"10+ years\",\"MORTGAGE\",\"75000\",\"Source Verified\",\"Oct-2018\",\"Charged Off\",\"n\",\"\",\"\",\"debt_consolidation\",\"Debt consolidation\",\"352xx\",\"AL\",\"20.95\",\"1\",\"Aug-1985\",\"2\",\"22\",\"\",\"12\",\"0\",\"22465\",\"43.6%\",\"28\",\"w\",\"0.00\",\"0.00\",\"1547.08\",\"1547.08\",\"1025.67\",\"521.41\",\"0.0\",\"0.0\",\"0.0\",\"Dec-2018\",\"797.53\",\"\",\"Nov-2018\",\"0\",\"\",\"1\",\"Individual\",\"\",\"\",\"\",\"0\",\"0\",\"259658\",\"4\",\"2\",\"3\",\"3\",\"6\",\"18149\",\"86\",\"4\",\"6\",\"12843\",\"56\",\"51500\",\"2\",\"2\",\"5\",\"11\",\"21638\",\"26321\",\"44.1\",\"0\",\"0\",\"12\",\"397\",\"4\",\"4\",\"6\",\"5\",\"22\",\"4\",\"22\",\"0\",\"4\",\"5\",\"7\",\"14\",\"3\",\"9\",\"19\",\"5\",\"12\",\"0\",\"0\",\"0\",\"7\",\"96.4\",\"14.3\",\"0\",\"0\",\"296500\",\"40614\",\"47100\",\"21000\",\"\",\"\",\"\",\"\",\"\",\"\",\"\",\"\",\"\",\"\",\"\",\"N\",\"\",\"\",\"\",\"\",\"\",\"\",\"\",\"\",\"\",\"\",\"\",\"\",\"\",\"\",\"N\",\"\",\"\",\"\",\"\",\"\",\"\"\n",
            "\"\",\"\",\"10000\",\"10000\",\"10000\",\" 36 months\",\" 15.02%\",\"346.76\",\"C\",\"C3\",\"security guard\",\"5 years\",\"MORTGAGE\",\"38000\",\"Not Verified\",\"Oct-2018\",\"Current\",\"n\",\"\",\"\",\"debt_consolidation\",\"Debt consolidation\",\"443xx\",\"OH\",\"13.16\",\"3\",\"Jul-1982\",\"0\",\"6\",\"\",\"11\",\"0\",\"5634\",\"37.1%\",\"16\",\"w\",\"7149.96\",\"7149.96\",\"4152.78\",\"4152.78\",\"2850.04\",\"1302.74\",\"0.0\",\"0.0\",\"0.0\",\"Oct-2019\",\"346.76\",\"Nov-2019\",\"Oct-2019\",\"0\",\"\",\"1\",\"Individual\",\"\",\"\",\"\",\"0\",\"155\",\"77424\",\"0\",\"1\",\"0\",\"0\",\"34\",\"200\",\"10\",\"1\",\"1\",\"1866\",\"42\",\"15200\",\"2\",\"0\",\"0\",\"2\",\"7039\",\"4537\",\"50.1\",\"0\",\"0\",\"34\",\"434\",\"11\",\"11\",\"3\",\"11\",\"6\",\"17\",\"6\",\"0\",\"3\",\"5\",\"5\",\"6\",\"1\",\"8\",\"11\",\"5\",\"11\",\"0\",\"0\",\"0\",\"1\",\"73.3\",\"40\",\"0\",\"0\",\"91403\",\"9323\",\"9100\",\"2000\",\"\",\"\",\"\",\"\",\"\",\"\",\"\",\"\",\"\",\"\",\"\",\"N\",\"\",\"\",\"\",\"\",\"\",\"\",\"\",\"\",\"\",\"\",\"\",\"\",\"\",\"\",\"N\",\"\",\"\",\"\",\"\",\"\",\"\"\n",
            "\"\",\"\",\"5000\",\"5000\",\"5000\",\" 36 months\",\" 13.56%\",\"169.83\",\"C\",\"C1\",\"Payoff Clerk\",\"10+ years\",\"MORTGAGE\",\"35360\",\"Not Verified\",\"Oct-2018\",\"Current\",\"n\",\"\",\"\",\"debt_consolidation\",\"Debt consolidation\",\"381xx\",\"TN\",\"11.3\",\"1\",\"Jun-2006\",\"0\",\"21\",\"\",\"9\",\"0\",\"2597\",\"27.3%\",\"15\",\"f\",\"3552.25\",\"3552.25\",\"2034.19\",\"2034.19\",\"1447.75\",\"586.44\",\"0.0\",\"0.0\",\"0.0\",\"Oct-2019\",\"169.83\",\"Nov-2019\",\"Oct-2019\",\"0\",\"\",\"1\",\"Individual\",\"\",\"\",\"\",\"0\",\"1413\",\"69785\",\"0\",\"2\",\"0\",\"1\",\"16\",\"2379\",\"40\",\"3\",\"4\",\"1826\",\"32\",\"9500\",\"0\",\"0\",\"1\",\"5\",\"8723\",\"1174\",\"60.9\",\"0\",\"0\",\"147\",\"85\",\"9\",\"9\",\"2\",\"10\",\"21\",\"9\",\"21\",\"0\",\"1\",\"3\",\"2\",\"2\",\"6\",\"6\",\"7\",\"3\",\"9\",\"0\",\"0\",\"0\",\"3\",\"92.9\",\"50\",\"0\",\"0\",\"93908\",\"4976\",\"3000\",\"6028\",\"\",\"\",\"\",\"\",\"\",\"\",\"\",\"\",\"\",\"\",\"\",\"N\",\"\",\"\",\"\",\"\",\"\",\"\",\"\",\"\",\"\",\"\",\"\",\"\",\"\",\"\",\"N\",\"\",\"\",\"\",\"\",\"\",\"\"\n",
            "\"\",\"\",\"10000\",\"10000\",\"9750\",\" 36 months\",\" 11.06%\",\"327.68\",\"B\",\"B3\",\"\",\"n/a\",\"RENT\",\"44400\",\"Source Verified\",\"Oct-2018\",\"Current\",\"n\",\"\",\"\",\"credit_card\",\"Credit card refinancing\",\"980xx\",\"WA\",\"11.78\",\"0\",\"Oct-2008\",\"2\",\"40\",\"\",\"15\",\"0\",\"6269\",\"13.1%\",\"25\",\"f\",\"7026.08\",\"6850.43\",\"3916.8\",\"3818.88\",\"2973.92\",\"942.88\",\"0.0\",\"0.0\",\"0.0\",\"Oct-2019\",\"327.68\",\"Nov-2019\",\"Oct-2019\",\"0\",\"53\",\"1\",\"Individual\",\"\",\"\",\"\",\"0\",\"520\",\"16440\",\"3\",\"1\",\"1\",\"1\",\"2\",\"10171\",\"100\",\"2\",\"5\",\"404\",\"28\",\"47700\",\"0\",\"3\",\"5\",\"6\",\"1265\",\"20037\",\"2.3\",\"0\",\"0\",\"61\",\"119\",\"1\",\"1\",\"0\",\"1\",\"\",\"1\",\"40\",\"1\",\"2\",\"4\",\"6\",\"8\",\"3\",\"14\",\"22\",\"4\",\"15\",\"0\",\"0\",\"0\",\"3\",\"92\",\"0\",\"0\",\"0\",\"57871\",\"16440\",\"20500\",\"10171\",\"\",\"\",\"\",\"\",\"\",\"\",\"\",\"\",\"\",\"\",\"\",\"N\",\"\",\"\",\"\",\"\",\"\",\"\",\"\",\"\",\"\",\"\",\"\",\"\",\"\",\"\",\"N\",\"\",\"\",\"\",\"\",\"\",\"\"\n",
            "\"\",\"\",\"10000\",\"10000\",\"10000\",\" 36 months\",\" 16.91%\",\"356.08\",\"C\",\"C5\",\"Key Accounts Manager\",\"2 years\",\"RENT\",\"80000\",\"Not Verified\",\"Oct-2018\",\"Current\",\"n\",\"\",\"\",\"other\",\"Other\",\"021xx\",\"MA\",\"17.72\",\"1\",\"Sep-2006\",\"0\",\"14\",\"\",\"17\",\"0\",\"1942\",\"30.8%\",\"31\",\"w\",\"7208.22\",\"7208.22\",\"4263.57\",\"4263.57\",\"2791.78\",\"1471.79\",\"0.0\",\"0.0\",\"0.0\",\"Oct-2019\",\"356.08\",\"Nov-2019\",\"Oct-2019\",\"0\",\"25\",\"1\",\"Individual\",\"\",\"\",\"\",\"0\",\"0\",\"59194\",\"0\",\"15\",\"1\",\"1\",\"12\",\"57252\",\"85\",\"0\",\"0\",\"1942\",\"80\",\"6300\",\"0\",\"5\",\"0\",\"1\",\"3482\",\"2058\",\"48.5\",\"0\",\"0\",\"144\",\"142\",\"40\",\"12\",\"0\",\"131\",\"30\",\"\",\"30\",\"3\",\"1\",\"1\",\"1\",\"5\",\"22\",\"2\",\"9\",\"1\",\"17\",\"0\",\"0\",\"0\",\"1\",\"74.2\",\"0\",\"0\",\"0\",\"73669\",\"59194\",\"4000\",\"67369\",\"\",\"\",\"\",\"\",\"\",\"\",\"\",\"\",\"\",\"\",\"\",\"N\",\"\",\"\",\"\",\"\",\"\",\"\",\"\",\"\",\"\",\"\",\"\",\"\",\"\",\"\",\"N\",\"\",\"\",\"\",\"\",\"\",\"\"\n",
            "\n",
            "\n",
            "Total amount funded in policy code 1: 2050909275\n",
            "Total amount funded in policy code 2: 820109297\n"
          ],
          "name": "stdout"
        }
      ]
    },
    {
      "cell_type": "code",
      "metadata": {
        "id": "yabgKoqVyw3O",
        "colab_type": "code",
        "colab": {}
      },
      "source": [
        "import pandas as pd\n",
        "df = pd.read_csv('LoanStats_2018Q4.csv', skiprows=1, skipfooter=2, engine=\"python\")"
      ],
      "execution_count": 0,
      "outputs": []
    },
    {
      "cell_type": "code",
      "metadata": {
        "id": "jxWQD8Fg0I91",
        "colab_type": "code",
        "outputId": "8a3979b4-9abf-49f3-929a-b8a7a8e42fc0",
        "colab": {
          "base_uri": "https://localhost:8080/",
          "height": 328
        }
      },
      "source": [
        "df.head()"
      ],
      "execution_count": 0,
      "outputs": [
        {
          "output_type": "execute_result",
          "data": {
            "text/html": [
              "<div>\n",
              "<style scoped>\n",
              "    .dataframe tbody tr th:only-of-type {\n",
              "        vertical-align: middle;\n",
              "    }\n",
              "\n",
              "    .dataframe tbody tr th {\n",
              "        vertical-align: top;\n",
              "    }\n",
              "\n",
              "    .dataframe thead th {\n",
              "        text-align: right;\n",
              "    }\n",
              "</style>\n",
              "<table border=\"1\" class=\"dataframe\">\n",
              "  <thead>\n",
              "    <tr style=\"text-align: right;\">\n",
              "      <th></th>\n",
              "      <th>id</th>\n",
              "      <th>member_id</th>\n",
              "      <th>loan_amnt</th>\n",
              "      <th>funded_amnt</th>\n",
              "      <th>funded_amnt_inv</th>\n",
              "      <th>term</th>\n",
              "      <th>int_rate</th>\n",
              "      <th>installment</th>\n",
              "      <th>grade</th>\n",
              "      <th>sub_grade</th>\n",
              "      <th>emp_title</th>\n",
              "      <th>emp_length</th>\n",
              "      <th>home_ownership</th>\n",
              "      <th>annual_inc</th>\n",
              "      <th>verification_status</th>\n",
              "      <th>issue_d</th>\n",
              "      <th>loan_status</th>\n",
              "      <th>pymnt_plan</th>\n",
              "      <th>url</th>\n",
              "      <th>desc</th>\n",
              "      <th>purpose</th>\n",
              "      <th>title</th>\n",
              "      <th>zip_code</th>\n",
              "      <th>addr_state</th>\n",
              "      <th>dti</th>\n",
              "      <th>delinq_2yrs</th>\n",
              "      <th>earliest_cr_line</th>\n",
              "      <th>inq_last_6mths</th>\n",
              "      <th>mths_since_last_delinq</th>\n",
              "      <th>mths_since_last_record</th>\n",
              "      <th>open_acc</th>\n",
              "      <th>pub_rec</th>\n",
              "      <th>revol_bal</th>\n",
              "      <th>revol_util</th>\n",
              "      <th>total_acc</th>\n",
              "      <th>initial_list_status</th>\n",
              "      <th>out_prncp</th>\n",
              "      <th>out_prncp_inv</th>\n",
              "      <th>total_pymnt</th>\n",
              "      <th>total_pymnt_inv</th>\n",
              "      <th>...</th>\n",
              "      <th>percent_bc_gt_75</th>\n",
              "      <th>pub_rec_bankruptcies</th>\n",
              "      <th>tax_liens</th>\n",
              "      <th>tot_hi_cred_lim</th>\n",
              "      <th>total_bal_ex_mort</th>\n",
              "      <th>total_bc_limit</th>\n",
              "      <th>total_il_high_credit_limit</th>\n",
              "      <th>revol_bal_joint</th>\n",
              "      <th>sec_app_earliest_cr_line</th>\n",
              "      <th>sec_app_inq_last_6mths</th>\n",
              "      <th>sec_app_mort_acc</th>\n",
              "      <th>sec_app_open_acc</th>\n",
              "      <th>sec_app_revol_util</th>\n",
              "      <th>sec_app_open_act_il</th>\n",
              "      <th>sec_app_num_rev_accts</th>\n",
              "      <th>sec_app_chargeoff_within_12_mths</th>\n",
              "      <th>sec_app_collections_12_mths_ex_med</th>\n",
              "      <th>sec_app_mths_since_last_major_derog</th>\n",
              "      <th>hardship_flag</th>\n",
              "      <th>hardship_type</th>\n",
              "      <th>hardship_reason</th>\n",
              "      <th>hardship_status</th>\n",
              "      <th>deferral_term</th>\n",
              "      <th>hardship_amount</th>\n",
              "      <th>hardship_start_date</th>\n",
              "      <th>hardship_end_date</th>\n",
              "      <th>payment_plan_start_date</th>\n",
              "      <th>hardship_length</th>\n",
              "      <th>hardship_dpd</th>\n",
              "      <th>hardship_loan_status</th>\n",
              "      <th>orig_projected_additional_accrued_interest</th>\n",
              "      <th>hardship_payoff_balance_amount</th>\n",
              "      <th>hardship_last_payment_amount</th>\n",
              "      <th>debt_settlement_flag</th>\n",
              "      <th>debt_settlement_flag_date</th>\n",
              "      <th>settlement_status</th>\n",
              "      <th>settlement_date</th>\n",
              "      <th>settlement_amount</th>\n",
              "      <th>settlement_percentage</th>\n",
              "      <th>settlement_term</th>\n",
              "    </tr>\n",
              "  </thead>\n",
              "  <tbody>\n",
              "    <tr>\n",
              "      <th>0</th>\n",
              "      <td>NaN</td>\n",
              "      <td>NaN</td>\n",
              "      <td>35000</td>\n",
              "      <td>35000</td>\n",
              "      <td>35000.0</td>\n",
              "      <td>36 months</td>\n",
              "      <td>14.47%</td>\n",
              "      <td>1204.23</td>\n",
              "      <td>C</td>\n",
              "      <td>C2</td>\n",
              "      <td>Staff Physician</td>\n",
              "      <td>8 years</td>\n",
              "      <td>MORTGAGE</td>\n",
              "      <td>360000.0</td>\n",
              "      <td>Verified</td>\n",
              "      <td>Dec-2018</td>\n",
              "      <td>Fully Paid</td>\n",
              "      <td>n</td>\n",
              "      <td>NaN</td>\n",
              "      <td>NaN</td>\n",
              "      <td>credit_card</td>\n",
              "      <td>Credit card refinancing</td>\n",
              "      <td>336xx</td>\n",
              "      <td>FL</td>\n",
              "      <td>19.90</td>\n",
              "      <td>0</td>\n",
              "      <td>Apr-1995</td>\n",
              "      <td>1</td>\n",
              "      <td>NaN</td>\n",
              "      <td>NaN</td>\n",
              "      <td>24</td>\n",
              "      <td>0</td>\n",
              "      <td>57259</td>\n",
              "      <td>43.2%</td>\n",
              "      <td>51</td>\n",
              "      <td>w</td>\n",
              "      <td>0.00</td>\n",
              "      <td>0.00</td>\n",
              "      <td>38187.046837</td>\n",
              "      <td>38187.05</td>\n",
              "      <td>...</td>\n",
              "      <td>30.8</td>\n",
              "      <td>0</td>\n",
              "      <td>0</td>\n",
              "      <td>1222051</td>\n",
              "      <td>169286</td>\n",
              "      <td>124600</td>\n",
              "      <td>258401</td>\n",
              "      <td>NaN</td>\n",
              "      <td>NaN</td>\n",
              "      <td>NaN</td>\n",
              "      <td>NaN</td>\n",
              "      <td>NaN</td>\n",
              "      <td>NaN</td>\n",
              "      <td>NaN</td>\n",
              "      <td>NaN</td>\n",
              "      <td>NaN</td>\n",
              "      <td>NaN</td>\n",
              "      <td>NaN</td>\n",
              "      <td>N</td>\n",
              "      <td>NaN</td>\n",
              "      <td>NaN</td>\n",
              "      <td>NaN</td>\n",
              "      <td>NaN</td>\n",
              "      <td>NaN</td>\n",
              "      <td>NaN</td>\n",
              "      <td>NaN</td>\n",
              "      <td>NaN</td>\n",
              "      <td>NaN</td>\n",
              "      <td>NaN</td>\n",
              "      <td>NaN</td>\n",
              "      <td>NaN</td>\n",
              "      <td>NaN</td>\n",
              "      <td>NaN</td>\n",
              "      <td>N</td>\n",
              "      <td>NaN</td>\n",
              "      <td>NaN</td>\n",
              "      <td>NaN</td>\n",
              "      <td>NaN</td>\n",
              "      <td>NaN</td>\n",
              "      <td>NaN</td>\n",
              "    </tr>\n",
              "    <tr>\n",
              "      <th>1</th>\n",
              "      <td>NaN</td>\n",
              "      <td>NaN</td>\n",
              "      <td>5000</td>\n",
              "      <td>5000</td>\n",
              "      <td>5000.0</td>\n",
              "      <td>36 months</td>\n",
              "      <td>22.35%</td>\n",
              "      <td>191.86</td>\n",
              "      <td>D</td>\n",
              "      <td>D5</td>\n",
              "      <td>Director of Sales</td>\n",
              "      <td>10+ years</td>\n",
              "      <td>MORTGAGE</td>\n",
              "      <td>72000.0</td>\n",
              "      <td>Source Verified</td>\n",
              "      <td>Dec-2018</td>\n",
              "      <td>Fully Paid</td>\n",
              "      <td>n</td>\n",
              "      <td>NaN</td>\n",
              "      <td>NaN</td>\n",
              "      <td>debt_consolidation</td>\n",
              "      <td>Debt consolidation</td>\n",
              "      <td>333xx</td>\n",
              "      <td>FL</td>\n",
              "      <td>20.12</td>\n",
              "      <td>0</td>\n",
              "      <td>Mar-2010</td>\n",
              "      <td>0</td>\n",
              "      <td>NaN</td>\n",
              "      <td>NaN</td>\n",
              "      <td>13</td>\n",
              "      <td>0</td>\n",
              "      <td>11720</td>\n",
              "      <td>47.1%</td>\n",
              "      <td>26</td>\n",
              "      <td>f</td>\n",
              "      <td>0.00</td>\n",
              "      <td>0.00</td>\n",
              "      <td>5615.977674</td>\n",
              "      <td>5615.98</td>\n",
              "      <td>...</td>\n",
              "      <td>50.0</td>\n",
              "      <td>0</td>\n",
              "      <td>0</td>\n",
              "      <td>218686</td>\n",
              "      <td>34418</td>\n",
              "      <td>18200</td>\n",
              "      <td>37786</td>\n",
              "      <td>NaN</td>\n",
              "      <td>NaN</td>\n",
              "      <td>NaN</td>\n",
              "      <td>NaN</td>\n",
              "      <td>NaN</td>\n",
              "      <td>NaN</td>\n",
              "      <td>NaN</td>\n",
              "      <td>NaN</td>\n",
              "      <td>NaN</td>\n",
              "      <td>NaN</td>\n",
              "      <td>NaN</td>\n",
              "      <td>N</td>\n",
              "      <td>NaN</td>\n",
              "      <td>NaN</td>\n",
              "      <td>NaN</td>\n",
              "      <td>NaN</td>\n",
              "      <td>NaN</td>\n",
              "      <td>NaN</td>\n",
              "      <td>NaN</td>\n",
              "      <td>NaN</td>\n",
              "      <td>NaN</td>\n",
              "      <td>NaN</td>\n",
              "      <td>NaN</td>\n",
              "      <td>NaN</td>\n",
              "      <td>NaN</td>\n",
              "      <td>NaN</td>\n",
              "      <td>N</td>\n",
              "      <td>NaN</td>\n",
              "      <td>NaN</td>\n",
              "      <td>NaN</td>\n",
              "      <td>NaN</td>\n",
              "      <td>NaN</td>\n",
              "      <td>NaN</td>\n",
              "    </tr>\n",
              "    <tr>\n",
              "      <th>2</th>\n",
              "      <td>NaN</td>\n",
              "      <td>NaN</td>\n",
              "      <td>10000</td>\n",
              "      <td>10000</td>\n",
              "      <td>10000.0</td>\n",
              "      <td>60 months</td>\n",
              "      <td>23.40%</td>\n",
              "      <td>284.21</td>\n",
              "      <td>E</td>\n",
              "      <td>E1</td>\n",
              "      <td>NaN</td>\n",
              "      <td>&lt; 1 year</td>\n",
              "      <td>RENT</td>\n",
              "      <td>55000.0</td>\n",
              "      <td>Source Verified</td>\n",
              "      <td>Dec-2018</td>\n",
              "      <td>Current</td>\n",
              "      <td>n</td>\n",
              "      <td>NaN</td>\n",
              "      <td>NaN</td>\n",
              "      <td>debt_consolidation</td>\n",
              "      <td>Debt consolidation</td>\n",
              "      <td>902xx</td>\n",
              "      <td>CA</td>\n",
              "      <td>13.51</td>\n",
              "      <td>0</td>\n",
              "      <td>Apr-2007</td>\n",
              "      <td>0</td>\n",
              "      <td>44.0</td>\n",
              "      <td>88.0</td>\n",
              "      <td>9</td>\n",
              "      <td>1</td>\n",
              "      <td>11859</td>\n",
              "      <td>53.9%</td>\n",
              "      <td>11</td>\n",
              "      <td>w</td>\n",
              "      <td>9025.41</td>\n",
              "      <td>9025.41</td>\n",
              "      <td>2822.600000</td>\n",
              "      <td>2822.60</td>\n",
              "      <td>...</td>\n",
              "      <td>100.0</td>\n",
              "      <td>1</td>\n",
              "      <td>0</td>\n",
              "      <td>34386</td>\n",
              "      <td>21235</td>\n",
              "      <td>10500</td>\n",
              "      <td>12386</td>\n",
              "      <td>NaN</td>\n",
              "      <td>NaN</td>\n",
              "      <td>NaN</td>\n",
              "      <td>NaN</td>\n",
              "      <td>NaN</td>\n",
              "      <td>NaN</td>\n",
              "      <td>NaN</td>\n",
              "      <td>NaN</td>\n",
              "      <td>NaN</td>\n",
              "      <td>NaN</td>\n",
              "      <td>NaN</td>\n",
              "      <td>N</td>\n",
              "      <td>NaN</td>\n",
              "      <td>NaN</td>\n",
              "      <td>NaN</td>\n",
              "      <td>NaN</td>\n",
              "      <td>NaN</td>\n",
              "      <td>NaN</td>\n",
              "      <td>NaN</td>\n",
              "      <td>NaN</td>\n",
              "      <td>NaN</td>\n",
              "      <td>NaN</td>\n",
              "      <td>NaN</td>\n",
              "      <td>NaN</td>\n",
              "      <td>NaN</td>\n",
              "      <td>NaN</td>\n",
              "      <td>N</td>\n",
              "      <td>NaN</td>\n",
              "      <td>NaN</td>\n",
              "      <td>NaN</td>\n",
              "      <td>NaN</td>\n",
              "      <td>NaN</td>\n",
              "      <td>NaN</td>\n",
              "    </tr>\n",
              "    <tr>\n",
              "      <th>3</th>\n",
              "      <td>NaN</td>\n",
              "      <td>NaN</td>\n",
              "      <td>17100</td>\n",
              "      <td>17100</td>\n",
              "      <td>17100.0</td>\n",
              "      <td>36 months</td>\n",
              "      <td>18.94%</td>\n",
              "      <td>626.30</td>\n",
              "      <td>D</td>\n",
              "      <td>D2</td>\n",
              "      <td>Receptionist</td>\n",
              "      <td>10+ years</td>\n",
              "      <td>RENT</td>\n",
              "      <td>38000.0</td>\n",
              "      <td>Verified</td>\n",
              "      <td>Dec-2018</td>\n",
              "      <td>Current</td>\n",
              "      <td>n</td>\n",
              "      <td>NaN</td>\n",
              "      <td>NaN</td>\n",
              "      <td>debt_consolidation</td>\n",
              "      <td>Debt consolidation</td>\n",
              "      <td>150xx</td>\n",
              "      <td>PA</td>\n",
              "      <td>38.09</td>\n",
              "      <td>0</td>\n",
              "      <td>Mar-1998</td>\n",
              "      <td>1</td>\n",
              "      <td>47.0</td>\n",
              "      <td>NaN</td>\n",
              "      <td>14</td>\n",
              "      <td>0</td>\n",
              "      <td>15323</td>\n",
              "      <td>53%</td>\n",
              "      <td>21</td>\n",
              "      <td>w</td>\n",
              "      <td>13271.86</td>\n",
              "      <td>13271.86</td>\n",
              "      <td>6236.010000</td>\n",
              "      <td>6236.01</td>\n",
              "      <td>...</td>\n",
              "      <td>75.0</td>\n",
              "      <td>0</td>\n",
              "      <td>0</td>\n",
              "      <td>70954</td>\n",
              "      <td>43351</td>\n",
              "      <td>16600</td>\n",
              "      <td>41784</td>\n",
              "      <td>NaN</td>\n",
              "      <td>NaN</td>\n",
              "      <td>NaN</td>\n",
              "      <td>NaN</td>\n",
              "      <td>NaN</td>\n",
              "      <td>NaN</td>\n",
              "      <td>NaN</td>\n",
              "      <td>NaN</td>\n",
              "      <td>NaN</td>\n",
              "      <td>NaN</td>\n",
              "      <td>NaN</td>\n",
              "      <td>N</td>\n",
              "      <td>NaN</td>\n",
              "      <td>NaN</td>\n",
              "      <td>NaN</td>\n",
              "      <td>NaN</td>\n",
              "      <td>NaN</td>\n",
              "      <td>NaN</td>\n",
              "      <td>NaN</td>\n",
              "      <td>NaN</td>\n",
              "      <td>NaN</td>\n",
              "      <td>NaN</td>\n",
              "      <td>NaN</td>\n",
              "      <td>NaN</td>\n",
              "      <td>NaN</td>\n",
              "      <td>NaN</td>\n",
              "      <td>N</td>\n",
              "      <td>NaN</td>\n",
              "      <td>NaN</td>\n",
              "      <td>NaN</td>\n",
              "      <td>NaN</td>\n",
              "      <td>NaN</td>\n",
              "      <td>NaN</td>\n",
              "    </tr>\n",
              "    <tr>\n",
              "      <th>4</th>\n",
              "      <td>NaN</td>\n",
              "      <td>NaN</td>\n",
              "      <td>4000</td>\n",
              "      <td>4000</td>\n",
              "      <td>4000.0</td>\n",
              "      <td>36 months</td>\n",
              "      <td>10.72%</td>\n",
              "      <td>130.43</td>\n",
              "      <td>B</td>\n",
              "      <td>B2</td>\n",
              "      <td>Extrusion assistant</td>\n",
              "      <td>10+ years</td>\n",
              "      <td>MORTGAGE</td>\n",
              "      <td>56000.0</td>\n",
              "      <td>Verified</td>\n",
              "      <td>Dec-2018</td>\n",
              "      <td>Current</td>\n",
              "      <td>n</td>\n",
              "      <td>NaN</td>\n",
              "      <td>NaN</td>\n",
              "      <td>credit_card</td>\n",
              "      <td>Credit card refinancing</td>\n",
              "      <td>301xx</td>\n",
              "      <td>GA</td>\n",
              "      <td>31.03</td>\n",
              "      <td>0</td>\n",
              "      <td>Sep-2006</td>\n",
              "      <td>0</td>\n",
              "      <td>NaN</td>\n",
              "      <td>NaN</td>\n",
              "      <td>7</td>\n",
              "      <td>0</td>\n",
              "      <td>4518</td>\n",
              "      <td>28.6%</td>\n",
              "      <td>11</td>\n",
              "      <td>w</td>\n",
              "      <td>3014.03</td>\n",
              "      <td>3014.03</td>\n",
              "      <td>1291.210000</td>\n",
              "      <td>1291.21</td>\n",
              "      <td>...</td>\n",
              "      <td>0.0</td>\n",
              "      <td>0</td>\n",
              "      <td>0</td>\n",
              "      <td>221310</td>\n",
              "      <td>71375</td>\n",
              "      <td>12300</td>\n",
              "      <td>77865</td>\n",
              "      <td>NaN</td>\n",
              "      <td>NaN</td>\n",
              "      <td>NaN</td>\n",
              "      <td>NaN</td>\n",
              "      <td>NaN</td>\n",
              "      <td>NaN</td>\n",
              "      <td>NaN</td>\n",
              "      <td>NaN</td>\n",
              "      <td>NaN</td>\n",
              "      <td>NaN</td>\n",
              "      <td>NaN</td>\n",
              "      <td>N</td>\n",
              "      <td>NaN</td>\n",
              "      <td>NaN</td>\n",
              "      <td>NaN</td>\n",
              "      <td>NaN</td>\n",
              "      <td>NaN</td>\n",
              "      <td>NaN</td>\n",
              "      <td>NaN</td>\n",
              "      <td>NaN</td>\n",
              "      <td>NaN</td>\n",
              "      <td>NaN</td>\n",
              "      <td>NaN</td>\n",
              "      <td>NaN</td>\n",
              "      <td>NaN</td>\n",
              "      <td>NaN</td>\n",
              "      <td>N</td>\n",
              "      <td>NaN</td>\n",
              "      <td>NaN</td>\n",
              "      <td>NaN</td>\n",
              "      <td>NaN</td>\n",
              "      <td>NaN</td>\n",
              "      <td>NaN</td>\n",
              "    </tr>\n",
              "  </tbody>\n",
              "</table>\n",
              "<p>5 rows × 144 columns</p>\n",
              "</div>"
            ],
            "text/plain": [
              "   id  member_id  ...  settlement_percentage  settlement_term\n",
              "0 NaN        NaN  ...                    NaN              NaN\n",
              "1 NaN        NaN  ...                    NaN              NaN\n",
              "2 NaN        NaN  ...                    NaN              NaN\n",
              "3 NaN        NaN  ...                    NaN              NaN\n",
              "4 NaN        NaN  ...                    NaN              NaN\n",
              "\n",
              "[5 rows x 144 columns]"
            ]
          },
          "metadata": {
            "tags": []
          },
          "execution_count": 9
        }
      ]
    },
    {
      "cell_type": "code",
      "metadata": {
        "id": "jpx3lVC50zay",
        "colab_type": "code",
        "outputId": "9d683d23-5d09-4ee5-d881-9526945ee842",
        "colab": {
          "base_uri": "https://localhost:8080/",
          "height": 185
        }
      },
      "source": [
        "print(df.shape)\n",
        "print(df.columns)"
      ],
      "execution_count": 0,
      "outputs": [
        {
          "output_type": "stream",
          "text": [
            "(128412, 144)\n",
            "Index(['id', 'member_id', 'loan_amnt', 'funded_amnt', 'funded_amnt_inv',\n",
            "       'term', 'int_rate', 'installment', 'grade', 'sub_grade',\n",
            "       ...\n",
            "       'orig_projected_additional_accrued_interest',\n",
            "       'hardship_payoff_balance_amount', 'hardship_last_payment_amount',\n",
            "       'debt_settlement_flag', 'debt_settlement_flag_date',\n",
            "       'settlement_status', 'settlement_date', 'settlement_amount',\n",
            "       'settlement_percentage', 'settlement_term'],\n",
            "      dtype='object', length=144)\n"
          ],
          "name": "stdout"
        }
      ]
    },
    {
      "cell_type": "code",
      "metadata": {
        "id": "-hhONTQL1HwS",
        "colab_type": "code",
        "outputId": "2d02b9b1-9e30-49f3-e436-c37d0f9f5b54",
        "colab": {
          "base_uri": "https://localhost:8080/",
          "height": 1000
        }
      },
      "source": [
        "pd.options.display.max_rows=999\n",
        "pd.options.display.max_columns=100\n",
        "\n",
        "df.isnull().sum().sort_values(ascending=False)"
      ],
      "execution_count": 0,
      "outputs": [
        {
          "output_type": "execute_result",
          "data": {
            "text/plain": [
              "id                                            128412\n",
              "desc                                          128412\n",
              "member_id                                     128412\n",
              "url                                           128412\n",
              "orig_projected_additional_accrued_interest    128283\n",
              "hardship_type                                 128276\n",
              "hardship_last_payment_amount                  128276\n",
              "hardship_payoff_balance_amount                128276\n",
              "hardship_reason                               128276\n",
              "hardship_loan_status                          128276\n",
              "hardship_dpd                                  128276\n",
              "hardship_length                               128276\n",
              "payment_plan_start_date                       128276\n",
              "hardship_end_date                             128276\n",
              "hardship_start_date                           128276\n",
              "hardship_amount                               128276\n",
              "deferral_term                                 128276\n",
              "hardship_status                               128276\n",
              "settlement_percentage                         128165\n",
              "settlement_term                               128165\n",
              "settlement_status                             128165\n",
              "settlement_amount                             128165\n",
              "settlement_date                               128165\n",
              "debt_settlement_flag_date                     128165\n",
              "sec_app_mths_since_last_major_derog           123258\n",
              "verification_status_joint                     113564\n",
              "mths_since_last_record                        112962\n",
              "sec_app_revol_util                            111888\n",
              "sec_app_num_rev_accts                         111630\n",
              "sec_app_chargeoff_within_12_mths              111630\n",
              "sec_app_collections_12_mths_ex_med            111630\n",
              "dti_joint                                     111630\n",
              "annual_inc_joint                              111630\n",
              "sec_app_open_act_il                           111630\n",
              "revol_bal_joint                               111630\n",
              "sec_app_earliest_cr_line                      111630\n",
              "sec_app_inq_last_6mths                        111630\n",
              "sec_app_mort_acc                              111630\n",
              "sec_app_open_acc                              111630\n",
              "mths_since_recent_bc_dlq                      103243\n",
              "mths_since_last_major_derog                    99232\n",
              "mths_since_recent_revol_delinq                 91630\n",
              "mths_since_last_delinq                         72196\n",
              "next_pymnt_d                                   21420\n",
              "emp_title                                      20947\n",
              "il_util                                        20274\n",
              "mths_since_recent_inq                          16047\n",
              "emp_length                                     11704\n",
              "mo_sin_old_il_acct                              4478\n",
              "mths_since_rcnt_il                              4478\n",
              "num_tl_120dpd_2m                                2859\n",
              "bc_util                                         1754\n",
              "percent_bc_gt_75                                1692\n",
              "bc_open_to_buy                                  1691\n",
              "mths_since_recent_bc                            1591\n",
              "dti                                              237\n",
              "last_pymnt_d                                     159\n",
              "revol_util                                       156\n",
              "all_util                                          37\n",
              "avg_cur_bal                                       13\n",
              "last_credit_pull_d                                 1\n",
              "int_rate                                           0\n",
              "initial_list_status                                0\n",
              "out_prncp                                          0\n",
              "out_prncp_inv                                      0\n",
              "total_pymnt                                        0\n",
              "total_pymnt_inv                                    0\n",
              "total_rec_prncp                                    0\n",
              "purpose                                            0\n",
              "total_rec_int                                      0\n",
              "total_acc                                          0\n",
              "funded_amnt_inv                                    0\n",
              "funded_amnt                                        0\n",
              "total_rec_late_fee                                 0\n",
              "recoveries                                         0\n",
              "loan_amnt                                          0\n",
              "collection_recovery_fee                            0\n",
              "term                                               0\n",
              "revol_bal                                          0\n",
              "installment                                        0\n",
              "pymnt_plan                                         0\n",
              "loan_status                                        0\n",
              "title                                              0\n",
              "zip_code                                           0\n",
              "addr_state                                         0\n",
              "issue_d                                            0\n",
              "delinq_2yrs                                        0\n",
              "earliest_cr_line                                   0\n",
              "verification_status                                0\n",
              "annual_inc                                         0\n",
              "inq_last_6mths                                     0\n",
              "home_ownership                                     0\n",
              "sub_grade                                          0\n",
              "grade                                              0\n",
              "open_acc                                           0\n",
              "pub_rec                                            0\n",
              "debt_settlement_flag                               0\n",
              "open_il_12m                                        0\n",
              "last_pymnt_amnt                                    0\n",
              "num_sats                                           0\n",
              "num_accts_ever_120_pd                              0\n",
              "num_actv_bc_tl                                     0\n",
              "num_actv_rev_tl                                    0\n",
              "num_bc_sats                                        0\n",
              "num_bc_tl                                          0\n",
              "num_il_tl                                          0\n",
              "num_op_rev_tl                                      0\n",
              "num_rev_accts                                      0\n",
              "num_rev_tl_bal_gt_0                                0\n",
              "num_tl_30dpd                                       0\n",
              "collections_12_mths_ex_med                         0\n",
              "num_tl_90g_dpd_24m                                 0\n",
              "num_tl_op_past_12m                                 0\n",
              "pct_tl_nvr_dlq                                     0\n",
              "pub_rec_bankruptcies                               0\n",
              "tax_liens                                          0\n",
              "tot_hi_cred_lim                                    0\n",
              "total_bal_ex_mort                                  0\n",
              "total_bc_limit                                     0\n",
              "total_il_high_credit_limit                         0\n",
              "mort_acc                                           0\n",
              "mo_sin_rcnt_tl                                     0\n",
              "mo_sin_rcnt_rev_tl_op                              0\n",
              "mo_sin_old_rev_tl_op                               0\n",
              "policy_code                                        0\n",
              "application_type                                   0\n",
              "acc_now_delinq                                     0\n",
              "tot_coll_amt                                       0\n",
              "tot_cur_bal                                        0\n",
              "open_acc_6m                                        0\n",
              "open_act_il                                        0\n",
              "hardship_flag                                      0\n",
              "open_il_24m                                        0\n",
              "total_bal_il                                       0\n",
              "open_rv_12m                                        0\n",
              "open_rv_24m                                        0\n",
              "max_bal_bc                                         0\n",
              "total_rev_hi_lim                                   0\n",
              "total_cu_tl                                        0\n",
              "inq_last_12m                                       0\n",
              "acc_open_past_24mths                               0\n",
              "chargeoff_within_12_mths                           0\n",
              "delinq_amnt                                        0\n",
              "inq_fi                                             0\n",
              "dtype: int64"
            ]
          },
          "metadata": {
            "tags": []
          },
          "execution_count": 14
        }
      ]
    },
    {
      "cell_type": "code",
      "metadata": {
        "id": "sQlbC6Ff3UBi",
        "colab_type": "code",
        "outputId": "ae4fff13-591f-4004-f57f-1279ccad0cfb",
        "colab": {
          "base_uri": "https://localhost:8080/",
          "height": 118
        }
      },
      "source": [
        "#identifying a column that may be a string that should be numeric\n",
        "df['int_rate'].head()\n",
        "#it says that type is of type object"
      ],
      "execution_count": 0,
      "outputs": [
        {
          "output_type": "execute_result",
          "data": {
            "text/plain": [
              "0     14.47%\n",
              "1     22.35%\n",
              "2     23.40%\n",
              "3     18.94%\n",
              "4     10.72%\n",
              "Name: int_rate, dtype: object"
            ]
          },
          "metadata": {
            "tags": []
          },
          "execution_count": 15
        }
      ]
    },
    {
      "cell_type": "code",
      "metadata": {
        "id": "D207iyKN3ph2",
        "colab_type": "code",
        "colab": {}
      },
      "source": [
        "int_rate0 = df.loc[0, 'int_rate']"
      ],
      "execution_count": 0,
      "outputs": []
    },
    {
      "cell_type": "code",
      "metadata": {
        "id": "EZCNmEvR38Je",
        "colab_type": "code",
        "outputId": "68705268-e068-482d-93ef-5a5567893b87",
        "colab": {
          "base_uri": "https://localhost:8080/",
          "height": 34
        }
      },
      "source": [
        "#stripping the leading space and the percentage sign\n",
        "int_rate0 = int_rate0.strip().strip('%')\n",
        "print(int_rate0)"
      ],
      "execution_count": 0,
      "outputs": [
        {
          "output_type": "stream",
          "text": [
            "14.47\n"
          ],
          "name": "stdout"
        }
      ]
    },
    {
      "cell_type": "code",
      "metadata": {
        "id": "J42J7FD44xju",
        "colab_type": "code",
        "outputId": "b92a28e2-e8c5-4331-83b4-fbf386093213",
        "colab": {
          "base_uri": "https://localhost:8080/",
          "height": 34
        }
      },
      "source": [
        "#checking the data type of the strip\n",
        "type(int_rate0)\n",
        "#so we need to convert to a float\n"
      ],
      "execution_count": 0,
      "outputs": [
        {
          "output_type": "execute_result",
          "data": {
            "text/plain": [
              "str"
            ]
          },
          "metadata": {
            "tags": []
          },
          "execution_count": 19
        }
      ]
    },
    {
      "cell_type": "code",
      "metadata": {
        "id": "fqohr4TM4_G9",
        "colab_type": "code",
        "outputId": "fb6f631e-335a-47f0-a3d6-6aac0bf3f2e5",
        "colab": {
          "base_uri": "https://localhost:8080/",
          "height": 34
        }
      },
      "source": [
        "int_rate0 = float(int_rate0.strip().strip())\n",
        "type(int_rate0)"
      ],
      "execution_count": 0,
      "outputs": [
        {
          "output_type": "execute_result",
          "data": {
            "text/plain": [
              "float"
            ]
          },
          "metadata": {
            "tags": []
          },
          "execution_count": 20
        }
      ]
    },
    {
      "cell_type": "code",
      "metadata": {
        "id": "MW3R-53v5Qd-",
        "colab_type": "code",
        "colab": {}
      },
      "source": [
        "#creating a method to do this to all the  cells of int_rate\n",
        "def int_rate_2float(tString):\n",
        "  nString = float(tString.strip().strip('%'))\n",
        "  return nString"
      ],
      "execution_count": 0,
      "outputs": []
    },
    {
      "cell_type": "code",
      "metadata": {
        "id": "EMb_07Yj57jm",
        "colab_type": "code",
        "outputId": "03c4004e-4b24-49f1-9124-a124b43d7a32",
        "colab": {
          "base_uri": "https://localhost:8080/",
          "height": 50
        }
      },
      "source": [
        "#testing the function\n",
        "\n",
        "nString = (int_rate_2float(df.loc[0, 'int_rate']))\n",
        "print(nString)\n",
        "print(type(nString))\n"
      ],
      "execution_count": 0,
      "outputs": [
        {
          "output_type": "stream",
          "text": [
            "14.47\n",
            "<class 'float'>\n"
          ],
          "name": "stdout"
        }
      ]
    },
    {
      "cell_type": "code",
      "metadata": {
        "id": "sBjsDWM464JP",
        "colab_type": "code",
        "outputId": "b4edce0f-b513-46de-f4bf-c88a1dd18b3e",
        "colab": {
          "base_uri": "https://localhost:8080/",
          "height": 151
        }
      },
      "source": [
        "#applying the function to the entire column\n",
        "df['int_rate_float'] = df['int_rate'].apply(int_rate_2float)\n",
        "df.columns"
      ],
      "execution_count": 0,
      "outputs": [
        {
          "output_type": "execute_result",
          "data": {
            "text/plain": [
              "Index(['id', 'member_id', 'loan_amnt', 'funded_amnt', 'funded_amnt_inv',\n",
              "       'term', 'int_rate', 'installment', 'grade', 'sub_grade',\n",
              "       ...\n",
              "       'hardship_payoff_balance_amount', 'hardship_last_payment_amount',\n",
              "       'debt_settlement_flag', 'debt_settlement_flag_date',\n",
              "       'settlement_status', 'settlement_date', 'settlement_amount',\n",
              "       'settlement_percentage', 'settlement_term', 'int_rate_float'],\n",
              "      dtype='object', length=145)"
            ]
          },
          "metadata": {
            "tags": []
          },
          "execution_count": 25
        }
      ]
    },
    {
      "cell_type": "code",
      "metadata": {
        "id": "VDHyotBC7kaY",
        "colab_type": "code",
        "outputId": "3466f85d-d600-4230-d1f5-927eaa14199d",
        "colab": {
          "base_uri": "https://localhost:8080/",
          "height": 195
        }
      },
      "source": [
        "#comparing the old and the new column\n",
        "df[['int_rate', 'int_rate_float']].head()"
      ],
      "execution_count": 0,
      "outputs": [
        {
          "output_type": "execute_result",
          "data": {
            "text/html": [
              "<div>\n",
              "<style scoped>\n",
              "    .dataframe tbody tr th:only-of-type {\n",
              "        vertical-align: middle;\n",
              "    }\n",
              "\n",
              "    .dataframe tbody tr th {\n",
              "        vertical-align: top;\n",
              "    }\n",
              "\n",
              "    .dataframe thead th {\n",
              "        text-align: right;\n",
              "    }\n",
              "</style>\n",
              "<table border=\"1\" class=\"dataframe\">\n",
              "  <thead>\n",
              "    <tr style=\"text-align: right;\">\n",
              "      <th></th>\n",
              "      <th>int_rate</th>\n",
              "      <th>int_rate_float</th>\n",
              "    </tr>\n",
              "  </thead>\n",
              "  <tbody>\n",
              "    <tr>\n",
              "      <th>0</th>\n",
              "      <td>14.47%</td>\n",
              "      <td>14.47</td>\n",
              "    </tr>\n",
              "    <tr>\n",
              "      <th>1</th>\n",
              "      <td>22.35%</td>\n",
              "      <td>22.35</td>\n",
              "    </tr>\n",
              "    <tr>\n",
              "      <th>2</th>\n",
              "      <td>23.40%</td>\n",
              "      <td>23.40</td>\n",
              "    </tr>\n",
              "    <tr>\n",
              "      <th>3</th>\n",
              "      <td>18.94%</td>\n",
              "      <td>18.94</td>\n",
              "    </tr>\n",
              "    <tr>\n",
              "      <th>4</th>\n",
              "      <td>10.72%</td>\n",
              "      <td>10.72</td>\n",
              "    </tr>\n",
              "  </tbody>\n",
              "</table>\n",
              "</div>"
            ],
            "text/plain": [
              "  int_rate  int_rate_float\n",
              "0   14.47%           14.47\n",
              "1   22.35%           22.35\n",
              "2   23.40%           23.40\n",
              "3   18.94%           18.94\n",
              "4   10.72%           10.72"
            ]
          },
          "metadata": {
            "tags": []
          },
          "execution_count": 26
        }
      ]
    },
    {
      "cell_type": "code",
      "metadata": {
        "id": "F-Q0Wydj8CWI",
        "colab_type": "code",
        "outputId": "70b7d5d8-12f1-488d-e390-6fe9e1bdc7e6",
        "colab": {
          "base_uri": "https://localhost:8080/",
          "height": 195
        }
      },
      "source": [
        "#showing that we can now do math on the new column\n",
        "df['int_rate_double'] = df['int_rate_float'] * 2\n",
        "df[['int_rate_float', 'int_rate_double']].head()"
      ],
      "execution_count": 0,
      "outputs": [
        {
          "output_type": "execute_result",
          "data": {
            "text/html": [
              "<div>\n",
              "<style scoped>\n",
              "    .dataframe tbody tr th:only-of-type {\n",
              "        vertical-align: middle;\n",
              "    }\n",
              "\n",
              "    .dataframe tbody tr th {\n",
              "        vertical-align: top;\n",
              "    }\n",
              "\n",
              "    .dataframe thead th {\n",
              "        text-align: right;\n",
              "    }\n",
              "</style>\n",
              "<table border=\"1\" class=\"dataframe\">\n",
              "  <thead>\n",
              "    <tr style=\"text-align: right;\">\n",
              "      <th></th>\n",
              "      <th>int_rate_float</th>\n",
              "      <th>int_rate_double</th>\n",
              "    </tr>\n",
              "  </thead>\n",
              "  <tbody>\n",
              "    <tr>\n",
              "      <th>0</th>\n",
              "      <td>14.47</td>\n",
              "      <td>28.94</td>\n",
              "    </tr>\n",
              "    <tr>\n",
              "      <th>1</th>\n",
              "      <td>22.35</td>\n",
              "      <td>44.70</td>\n",
              "    </tr>\n",
              "    <tr>\n",
              "      <th>2</th>\n",
              "      <td>23.40</td>\n",
              "      <td>46.80</td>\n",
              "    </tr>\n",
              "    <tr>\n",
              "      <th>3</th>\n",
              "      <td>18.94</td>\n",
              "      <td>37.88</td>\n",
              "    </tr>\n",
              "    <tr>\n",
              "      <th>4</th>\n",
              "      <td>10.72</td>\n",
              "      <td>21.44</td>\n",
              "    </tr>\n",
              "  </tbody>\n",
              "</table>\n",
              "</div>"
            ],
            "text/plain": [
              "   int_rate_float  int_rate_double\n",
              "0           14.47            28.94\n",
              "1           22.35            44.70\n",
              "2           23.40            46.80\n",
              "3           18.94            37.88\n",
              "4           10.72            21.44"
            ]
          },
          "metadata": {
            "tags": []
          },
          "execution_count": 28
        }
      ]
    },
    {
      "cell_type": "code",
      "metadata": {
        "id": "rznSybuz87bo",
        "colab_type": "code",
        "outputId": "afbce538-1918-4b70-d8d4-0a6e901c2ba1",
        "colab": {
          "base_uri": "https://localhost:8080/",
          "height": 195
        }
      },
      "source": [
        "#now working the with the employee title column\n",
        "df[['emp_title', 'int_rate']].sample(5)"
      ],
      "execution_count": 0,
      "outputs": [
        {
          "output_type": "execute_result",
          "data": {
            "text/html": [
              "<div>\n",
              "<style scoped>\n",
              "    .dataframe tbody tr th:only-of-type {\n",
              "        vertical-align: middle;\n",
              "    }\n",
              "\n",
              "    .dataframe tbody tr th {\n",
              "        vertical-align: top;\n",
              "    }\n",
              "\n",
              "    .dataframe thead th {\n",
              "        text-align: right;\n",
              "    }\n",
              "</style>\n",
              "<table border=\"1\" class=\"dataframe\">\n",
              "  <thead>\n",
              "    <tr style=\"text-align: right;\">\n",
              "      <th></th>\n",
              "      <th>emp_title</th>\n",
              "      <th>int_rate</th>\n",
              "    </tr>\n",
              "  </thead>\n",
              "  <tbody>\n",
              "    <tr>\n",
              "      <th>78766</th>\n",
              "      <td>Feeder driver</td>\n",
              "      <td>23.40%</td>\n",
              "    </tr>\n",
              "    <tr>\n",
              "      <th>57816</th>\n",
              "      <td>Maintenance  forman</td>\n",
              "      <td>15.02%</td>\n",
              "    </tr>\n",
              "    <tr>\n",
              "      <th>99323</th>\n",
              "      <td>Freight</td>\n",
              "      <td>27.27%</td>\n",
              "    </tr>\n",
              "    <tr>\n",
              "      <th>114070</th>\n",
              "      <td>Manager</td>\n",
              "      <td>7.84%</td>\n",
              "    </tr>\n",
              "    <tr>\n",
              "      <th>74312</th>\n",
              "      <td>teacher</td>\n",
              "      <td>22.35%</td>\n",
              "    </tr>\n",
              "  </tbody>\n",
              "</table>\n",
              "</div>"
            ],
            "text/plain": [
              "                  emp_title int_rate\n",
              "78766         Feeder driver   23.40%\n",
              "57816   Maintenance  forman   15.02%\n",
              "99323              Freight    27.27%\n",
              "114070              Manager    7.84%\n",
              "74312               teacher   22.35%"
            ]
          },
          "metadata": {
            "tags": []
          },
          "execution_count": 31
        }
      ]
    },
    {
      "cell_type": "code",
      "metadata": {
        "id": "LQxZVj829rgK",
        "colab_type": "code",
        "outputId": "a88e205d-69ae-4879-f886-6705c7b477bd",
        "colab": {
          "base_uri": "https://localhost:8080/",
          "height": 235
        }
      },
      "source": [
        "#what are all the possible titles for the employees\n",
        "print(df['emp_title'].nunique())\n",
        "df['emp_title'].value_counts(ascending=False, dropna=False)"
      ],
      "execution_count": 0,
      "outputs": [
        {
          "output_type": "stream",
          "text": [
            "43892\n"
          ],
          "name": "stdout"
        },
        {
          "output_type": "execute_result",
          "data": {
            "text/plain": [
              "NaN                                       20947\n",
              "Teacher                                    2090\n",
              "Manager                                    1773\n",
              "Registered Nurse                            952\n",
              "Driver                                      924\n",
              "                                          ...  \n",
              "Technical support/repair specialist           1\n",
              "Inventory clerk                               1\n",
              "office assistant / teaching artist            1\n",
              "Entitlement & Land Development Manager        1\n",
              "Machine controller                            1\n",
              "Name: emp_title, Length: 43893, dtype: int64"
            ]
          },
          "metadata": {
            "tags": []
          },
          "execution_count": 35
        }
      ]
    },
    {
      "cell_type": "code",
      "metadata": {
        "id": "Q1c0uwFbJ88b",
        "colab_type": "code",
        "colab": {
          "base_uri": "https://localhost:8080/",
          "height": 84
        },
        "outputId": "8a249671-ee2b-472a-c25a-a6cc445bf2f7"
      },
      "source": [
        "#want to clean the emp_title by replacing the NaN with unknown and then \n",
        "# stripping leading spaces and also Capitalizing the first part of the tiles\n",
        "import numpy as np\n",
        "\n",
        "# writing a function to clean the column\n",
        "def clean_emp_titles(mString):\n",
        "  if isinstance(mString, str):\n",
        "    return mString.strip().title()\n",
        "  else:\n",
        "    return \"Unknown\"\n",
        " \n",
        " \n",
        "examples = [\"manager\", 'Supervisor', \" project Manager\", np.NaN]\n",
        "\n",
        "for i in examples:\n",
        "  print(clean_emp_titles(i))"
      ],
      "execution_count": 66,
      "outputs": [
        {
          "output_type": "stream",
          "text": [
            "Manager\n",
            "Supervisor\n",
            "Project Manager\n",
            "Unknown\n"
          ],
          "name": "stdout"
        }
      ]
    },
    {
      "cell_type": "code",
      "metadata": {
        "id": "k2LuRcjWOjE7",
        "colab_type": "code",
        "colab": {
          "base_uri": "https://localhost:8080/",
          "height": 134
        },
        "outputId": "d633115b-f51c-4168-a3a1-7f06b6bfb633"
      },
      "source": [
        "# we can now apply the method to the datafram\n",
        "df['emp_title_clean'] = df['emp_title'].apply(clean_emp_titles)\n",
        "df['emp_title_clean'].sample(6)"
      ],
      "execution_count": 67,
      "outputs": [
        {
          "output_type": "execute_result",
          "data": {
            "text/plain": [
              "60647                      Unknown\n",
              "87303     Customer Service Manager\n",
              "114589    Intake Assistant Manager\n",
              "22635                 Data Analyst\n",
              "7421              Business Analyst\n",
              "104623      Practice Administrator\n",
              "Name: emp_title_clean, dtype: object"
            ]
          },
          "metadata": {
            "tags": []
          },
          "execution_count": 67
        }
      ]
    },
    {
      "cell_type": "code",
      "metadata": {
        "id": "VO9wMWpbO6Sw",
        "colab_type": "code",
        "colab": {
          "base_uri": "https://localhost:8080/",
          "height": 34
        },
        "outputId": "91e6c615-9406-4510-80ca-762b1068c9ed"
      },
      "source": [
        "#checking for missing data\n",
        "df['emp_title_clean'].isnull().sum()"
      ],
      "execution_count": 68,
      "outputs": [
        {
          "output_type": "execute_result",
          "data": {
            "text/plain": [
              "0"
            ]
          },
          "metadata": {
            "tags": []
          },
          "execution_count": 68
        }
      ]
    },
    {
      "cell_type": "code",
      "metadata": {
        "id": "x8Oo2JoyPCFI",
        "colab_type": "code",
        "colab": {
          "base_uri": "https://localhost:8080/",
          "height": 218
        },
        "outputId": "43ea13fd-29b3-4052-e9a3-a4d608e098c5"
      },
      "source": [
        "df['emp_title_clean'].value_counts(ascending=False)"
      ],
      "execution_count": 69,
      "outputs": [
        {
          "output_type": "execute_result",
          "data": {
            "text/plain": [
              "Unknown                            20947\n",
              "Teacher                             2557\n",
              "Manager                             2395\n",
              "Registered Nurse                    1418\n",
              "Driver                              1258\n",
              "                                   ...  \n",
              "Church Secretary                       1\n",
              "Director, It Systems                   1\n",
              "Uniform Room Attendant                 1\n",
              "Patient Administration Nco             1\n",
              "Senior It Application Developer        1\n",
              "Name: emp_title_clean, Length: 34902, dtype: int64"
            ]
          },
          "metadata": {
            "tags": []
          },
          "execution_count": 69
        }
      ]
    },
    {
      "cell_type": "code",
      "metadata": {
        "id": "7poEh-kCQmRC",
        "colab_type": "code",
        "colab": {}
      },
      "source": [
        "#dropping the column manager that I had made earlier but then\n",
        "#changed the name to emp_title_manager\n",
        "df.drop(columns=['manager'], inplace=True)"
      ],
      "execution_count": 0,
      "outputs": []
    },
    {
      "cell_type": "code",
      "metadata": {
        "id": "zHr52AvnPNjR",
        "colab_type": "code",
        "colab": {
          "base_uri": "https://localhost:8080/",
          "height": 151
        },
        "outputId": "35a0bd33-e396-4e30-9d40-11cfbebb53bc"
      },
      "source": [
        "#creating a new column that will contain a boolean if \n",
        "#the employee title is a manager\n",
        "df['emp_title_manager'] = df['emp_title_clean'].str.contains('Manager')\n",
        "df.columns"
      ],
      "execution_count": 76,
      "outputs": [
        {
          "output_type": "execute_result",
          "data": {
            "text/plain": [
              "Index(['id', 'member_id', 'loan_amnt', 'funded_amnt', 'funded_amnt_inv',\n",
              "       'term', 'int_rate', 'installment', 'grade', 'sub_grade',\n",
              "       ...\n",
              "       'debt_settlement_flag_date', 'settlement_status', 'settlement_date',\n",
              "       'settlement_amount', 'settlement_percentage', 'settlement_term',\n",
              "       'int_rate_float', 'int_rate_double', 'emp_title_clean',\n",
              "       'emp_title_manager'],\n",
              "      dtype='object', length=148)"
            ]
          },
          "metadata": {
            "tags": []
          },
          "execution_count": 76
        }
      ]
    },
    {
      "cell_type": "code",
      "metadata": {
        "id": "GAodxUlhRSE6",
        "colab_type": "code",
        "colab": {
          "base_uri": "https://localhost:8080/",
          "height": 225
        },
        "outputId": "99d15691-e2f3-4ea9-e22a-00a82a1e9b95"
      },
      "source": [
        "#comparing the emp_title_clean with emp_title_manager\n",
        "df[['emp_title_manager', 'emp_title_clean']].sample(6)"
      ],
      "execution_count": 77,
      "outputs": [
        {
          "output_type": "execute_result",
          "data": {
            "text/html": [
              "<div>\n",
              "<style scoped>\n",
              "    .dataframe tbody tr th:only-of-type {\n",
              "        vertical-align: middle;\n",
              "    }\n",
              "\n",
              "    .dataframe tbody tr th {\n",
              "        vertical-align: top;\n",
              "    }\n",
              "\n",
              "    .dataframe thead th {\n",
              "        text-align: right;\n",
              "    }\n",
              "</style>\n",
              "<table border=\"1\" class=\"dataframe\">\n",
              "  <thead>\n",
              "    <tr style=\"text-align: right;\">\n",
              "      <th></th>\n",
              "      <th>emp_title_manager</th>\n",
              "      <th>emp_title_clean</th>\n",
              "    </tr>\n",
              "  </thead>\n",
              "  <tbody>\n",
              "    <tr>\n",
              "      <th>116271</th>\n",
              "      <td>False</td>\n",
              "      <td>Unknown</td>\n",
              "    </tr>\n",
              "    <tr>\n",
              "      <th>25716</th>\n",
              "      <td>True</td>\n",
              "      <td>Regional Manager</td>\n",
              "    </tr>\n",
              "    <tr>\n",
              "      <th>39726</th>\n",
              "      <td>True</td>\n",
              "      <td>Account Manager</td>\n",
              "    </tr>\n",
              "    <tr>\n",
              "      <th>52261</th>\n",
              "      <td>False</td>\n",
              "      <td>Occupational Therapist Assistant</td>\n",
              "    </tr>\n",
              "    <tr>\n",
              "      <th>29689</th>\n",
              "      <td>True</td>\n",
              "      <td>Assistant Manager</td>\n",
              "    </tr>\n",
              "    <tr>\n",
              "      <th>69123</th>\n",
              "      <td>False</td>\n",
              "      <td>Teacher</td>\n",
              "    </tr>\n",
              "  </tbody>\n",
              "</table>\n",
              "</div>"
            ],
            "text/plain": [
              "        emp_title_manager                   emp_title_clean\n",
              "116271              False                           Unknown\n",
              "25716                True                  Regional Manager\n",
              "39726                True                   Account Manager\n",
              "52261               False  Occupational Therapist Assistant\n",
              "29689                True                 Assistant Manager\n",
              "69123               False                           Teacher"
            ]
          },
          "metadata": {
            "tags": []
          },
          "execution_count": 77
        }
      ]
    },
    {
      "cell_type": "code",
      "metadata": {
        "id": "M0JRcXAcRrg4",
        "colab_type": "code",
        "colab": {
          "base_uri": "https://localhost:8080/",
          "height": 54
        },
        "outputId": "d328b683-b9d4-48c7-d621-0bfe4f0e47b6"
      },
      "source": [
        "#Working with dates and times\n",
        "#Looking for the columns that have dates and times\n",
        "\n",
        "#creating a list of the columns that have dates\n",
        "mDates = [col for col in df.columns if col.endswith('_d') or col.endswith('_date')]\n",
        "print(mDates)"
      ],
      "execution_count": 78,
      "outputs": [
        {
          "output_type": "stream",
          "text": [
            "['issue_d', 'last_pymnt_d', 'next_pymnt_d', 'last_credit_pull_d', 'hardship_start_date', 'hardship_end_date', 'payment_plan_start_date', 'debt_settlement_flag_date', 'settlement_date']\n"
          ],
          "name": "stdout"
        }
      ]
    },
    {
      "cell_type": "code",
      "metadata": {
        "id": "LISsHdVmTQsM",
        "colab_type": "code",
        "colab": {}
      },
      "source": [
        ""
      ],
      "execution_count": 0,
      "outputs": []
    },
    {
      "cell_type": "markdown",
      "metadata": {
        "colab_type": "text",
        "id": "L8k0LiHmo5EU"
      },
      "source": [
        "# Stretch Goals\n",
        "\n",
        "You can do more with the LendingClub or Instacart datasets.\n",
        "\n",
        "LendingClub options:\n",
        "- There's one other column in the dataframe with percent signs. Remove them and convert to floats. You'll need to handle missing values.\n",
        "- Modify the `emp_title` column to replace titles with 'Other' if the title is not in the top 20. \n",
        "- Take initiatve and work on your own ideas!\n",
        "\n",
        "Instacart options:\n",
        "- Read [Instacart Market Basket Analysis, Winner's Interview: 2nd place, Kazuki Onodera](http://blog.kaggle.com/2017/09/21/instacart-market-basket-analysis-winners-interview-2nd-place-kazuki-onodera/), especially the **Feature Engineering** section. (Can you choose one feature from his bulleted lists, and try to engineer it with pandas code?)\n",
        "- Read and replicate parts of [Simple Exploration Notebook - Instacart](https://www.kaggle.com/sudalairajkumar/simple-exploration-notebook-instacart). (It's the Python Notebook with the most upvotes for this Kaggle competition.)\n",
        "- Take initiative and work on your own ideas!"
      ]
    },
    {
      "cell_type": "markdown",
      "metadata": {
        "colab_type": "text",
        "id": "0_7PXF7lpEXg"
      },
      "source": [
        "You can uncomment and run the cells below to re-download and extract the Instacart data"
      ]
    },
    {
      "cell_type": "code",
      "metadata": {
        "id": "urIePNa0yNG6",
        "colab_type": "code",
        "colab": {}
      },
      "source": [
        "# !wget https://s3.amazonaws.com/instacart-datasets/instacart_online_grocery_shopping_2017_05_01.tar.gz"
      ],
      "execution_count": 0,
      "outputs": []
    },
    {
      "cell_type": "code",
      "metadata": {
        "id": "X9zEyu-uyNG8",
        "colab_type": "code",
        "colab": {}
      },
      "source": [
        "# !tar --gunzip --extract --verbose --file=instacart_online_grocery_shopping_2017_05_01.tar.gz"
      ],
      "execution_count": 0,
      "outputs": []
    },
    {
      "cell_type": "code",
      "metadata": {
        "id": "Y3IqrhlpyNG-",
        "colab_type": "code",
        "colab": {}
      },
      "source": [
        "# %cd instacart_2017_05_01"
      ],
      "execution_count": 0,
      "outputs": []
    }
  ]
}