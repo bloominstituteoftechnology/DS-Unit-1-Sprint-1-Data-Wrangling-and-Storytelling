{
  "nbformat": 4,
  "nbformat_minor": 0,
  "metadata": {
    "colab": {
      "name": "LS_DS_112_Make_Features_Assignment.ipynb",
      "provenance": [],
      "collapsed_sections": []
    },
    "kernelspec": {
      "display_name": "Python 3",
      "language": "python",
      "name": "python3"
    },
    "language_info": {
      "codemirror_mode": {
        "name": "ipython",
        "version": 3
      },
      "file_extension": ".py",
      "mimetype": "text/x-python",
      "name": "python",
      "nbconvert_exporter": "python",
      "pygments_lexer": "ipython3",
      "version": "3.7.1"
    }
  },
  "cells": [
    {
      "cell_type": "markdown",
      "metadata": {
        "id": "SnDJqBLi0FYW",
        "colab_type": "text"
      },
      "source": [
        "<img align=\"left\" src=\"https://lever-client-logos.s3.amazonaws.com/864372b1-534c-480e-acd5-9711f850815c-1524247202159.png\" width=200> "
      ]
    },
    {
      "cell_type": "markdown",
      "metadata": {
        "id": "W5GjI1z5yNG4",
        "colab_type": "text"
      },
      "source": [
        "# Assignment:\n",
        "\n",
        "- Replicate the lesson code.\n",
        "\n",
        " - This means that if you haven't followed along already, type out the things that we did in class. Forcing your fingers to hit each key will help you internalize the syntax of what we're doing. Make sure you understand each line of code that you're writing, google things that you don't fully understand.\n",
        " - [Lambda Learning Method for DS - By Ryan Herr](https://docs.google.com/document/d/1ubOw9B3Hfip27hF2ZFnW3a3z9xAgrUDRReOEo-FHCVs/edit?usp=sharing)\n",
        "- Convert the `term` column from string to integer.\n",
        "- Make a column named `loan_status_is_great`. It should contain the integer 1 if `loan_status` is \"Current\" or \"Fully Paid.\" Else it should contain the integer 0.\n",
        "- Make `last_pymnt_d_month` and `last_pymnt_d_year` columns."
      ]
    },
    {
      "cell_type": "code",
      "metadata": {
        "id": "AazB4eFwym2p",
        "colab_type": "code",
        "colab": {}
      },
      "source": [
        "import pandas as pd"
      ],
      "execution_count": 0,
      "outputs": []
    },
    {
      "cell_type": "code",
      "metadata": {
        "id": "COiZlZN9nFpo",
        "colab_type": "code",
        "colab": {}
      },
      "source": [
        "##Lets take a look at the Ames Iowas housing dadaset:\n",
        "iowa_df = pd.read_csv(\"https://raw.githubusercontent.com/ryanleeallred/datasets/master/Ames%20Housing%20Data/train.csv\")"
      ],
      "execution_count": 0,
      "outputs": []
    },
    {
      "cell_type": "code",
      "metadata": {
        "id": "txvzhM3jnFz0",
        "colab_type": "code",
        "colab": {
          "base_uri": "https://localhost:8080/",
          "height": 138
        },
        "outputId": "21922590-6a8e-412b-e97a-2df52a070b21"
      },
      "source": [
        "#first few rows\n",
        "print(iowa_df.head(3))\n",
        "print (iowa_df.shape)"
      ],
      "execution_count": 5,
      "outputs": [
        {
          "output_type": "stream",
          "text": [
            "   Id  MSSubClass MSZoning  ...  SaleType  SaleCondition SalePrice\n",
            "0   1          60       RL  ...        WD         Normal    208500\n",
            "1   2          20       RL  ...        WD         Normal    181500\n",
            "2   3          60       RL  ...        WD         Normal    223500\n",
            "\n",
            "[3 rows x 81 columns]\n",
            "(1460, 81)\n"
          ],
          "name": "stdout"
        }
      ]
    },
    {
      "cell_type": "code",
      "metadata": {
        "id": "FIsKBGhTnF2m",
        "colab_type": "code",
        "colab": {
          "base_uri": "https://localhost:8080/",
          "height": 173
        },
        "outputId": "e5d8a633-2c76-4a2b-8ef9-3dd941c5f120"
      },
      "source": [
        "#Describe\n",
        "iowa_df[\"LotArea\"].describe()"
      ],
      "execution_count": 7,
      "outputs": [
        {
          "output_type": "execute_result",
          "data": {
            "text/plain": [
              "count      1460.000000\n",
              "mean      10516.828082\n",
              "std        9981.264932\n",
              "min        1300.000000\n",
              "25%        7553.500000\n",
              "50%        9478.500000\n",
              "75%       11601.500000\n",
              "max      215245.000000\n",
              "Name: LotArea, dtype: float64"
            ]
          },
          "metadata": {
            "tags": []
          },
          "execution_count": 7
        }
      ]
    },
    {
      "cell_type": "code",
      "metadata": {
        "id": "rV5btnxvpjZh",
        "colab_type": "code",
        "colab": {
          "base_uri": "https://localhost:8080/",
          "height": 1000
        },
        "outputId": "429d9d0f-9219-4c8b-eed6-04b689ba49c1"
      },
      "source": [
        "iowa_df.dtypes"
      ],
      "execution_count": 11,
      "outputs": [
        {
          "output_type": "execute_result",
          "data": {
            "text/plain": [
              "Id                 int64\n",
              "MSSubClass         int64\n",
              "MSZoning          object\n",
              "LotFrontage      float64\n",
              "LotArea            int64\n",
              "Street            object\n",
              "Alley             object\n",
              "LotShape          object\n",
              "LandContour       object\n",
              "Utilities         object\n",
              "LotConfig         object\n",
              "LandSlope         object\n",
              "Neighborhood      object\n",
              "Condition1        object\n",
              "Condition2        object\n",
              "BldgType          object\n",
              "HouseStyle        object\n",
              "OverallQual        int64\n",
              "OverallCond        int64\n",
              "YearBuilt          int64\n",
              "YearRemodAdd       int64\n",
              "RoofStyle         object\n",
              "RoofMatl          object\n",
              "Exterior1st       object\n",
              "Exterior2nd       object\n",
              "MasVnrType        object\n",
              "MasVnrArea       float64\n",
              "ExterQual         object\n",
              "ExterCond         object\n",
              "Foundation        object\n",
              "BsmtQual          object\n",
              "BsmtCond          object\n",
              "BsmtExposure      object\n",
              "BsmtFinType1      object\n",
              "BsmtFinSF1         int64\n",
              "BsmtFinType2      object\n",
              "BsmtFinSF2         int64\n",
              "BsmtUnfSF          int64\n",
              "TotalBsmtSF        int64\n",
              "Heating           object\n",
              "HeatingQC         object\n",
              "CentralAir        object\n",
              "Electrical        object\n",
              "1stFlrSF           int64\n",
              "2ndFlrSF           int64\n",
              "LowQualFinSF       int64\n",
              "GrLivArea          int64\n",
              "BsmtFullBath       int64\n",
              "BsmtHalfBath       int64\n",
              "FullBath           int64\n",
              "HalfBath           int64\n",
              "BedroomAbvGr       int64\n",
              "KitchenAbvGr       int64\n",
              "KitchenQual       object\n",
              "TotRmsAbvGrd       int64\n",
              "Functional        object\n",
              "Fireplaces         int64\n",
              "FireplaceQu       object\n",
              "GarageType        object\n",
              "GarageYrBlt      float64\n",
              "GarageFinish      object\n",
              "GarageCars         int64\n",
              "GarageArea         int64\n",
              "GarageQual        object\n",
              "GarageCond        object\n",
              "PavedDrive        object\n",
              "WoodDeckSF         int64\n",
              "OpenPorchSF        int64\n",
              "EnclosedPorch      int64\n",
              "3SsnPorch          int64\n",
              "ScreenPorch        int64\n",
              "PoolArea           int64\n",
              "PoolQC            object\n",
              "Fence             object\n",
              "MiscFeature       object\n",
              "MiscVal            int64\n",
              "MoSold             int64\n",
              "YrSold             int64\n",
              "SaleType          object\n",
              "SaleCondition     object\n",
              "SalePrice          int64\n",
              "dtype: object"
            ]
          },
          "metadata": {
            "tags": []
          },
          "execution_count": 11
        }
      ]
    },
    {
      "cell_type": "code",
      "metadata": {
        "id": "Ab8t99oTnF6_",
        "colab_type": "code",
        "colab": {
          "base_uri": "https://localhost:8080/",
          "height": 155
        },
        "outputId": "5819dbc3-8b69-4e95-9e30-858a0e015ab7"
      },
      "source": [
        "#Specific columns hold specific kind of data\n",
        "pd.set_option(\"display.max_row\", 100)\n",
        "iowa_df.dtypes[:7]"
      ],
      "execution_count": 10,
      "outputs": [
        {
          "output_type": "execute_result",
          "data": {
            "text/plain": [
              "Id               int64\n",
              "MSSubClass       int64\n",
              "MSZoning        object\n",
              "LotFrontage    float64\n",
              "LotArea          int64\n",
              "Street          object\n",
              "Alley           object\n",
              "dtype: object"
            ]
          },
          "metadata": {
            "tags": []
          },
          "execution_count": 10
        }
      ]
    },
    {
      "cell_type": "code",
      "metadata": {
        "id": "wWVIlxBVnF-U",
        "colab_type": "code",
        "colab": {}
      },
      "source": [
        ""
      ],
      "execution_count": 0,
      "outputs": []
    },
    {
      "cell_type": "code",
      "metadata": {
        "id": "sGkaMqCAnGBe",
        "colab_type": "code",
        "colab": {}
      },
      "source": [
        ""
      ],
      "execution_count": 0,
      "outputs": []
    },
    {
      "cell_type": "markdown",
      "metadata": {
        "colab_type": "text",
        "id": "L8k0LiHmo5EU"
      },
      "source": [
        "# Stretch Goals\n",
        "\n",
        "You can do more with the LendingClub or Instacart datasets.\n",
        "\n",
        "LendingClub options:\n",
        "- There's one other column in the dataframe with percent signs. Remove them and convert to floats. You'll need to handle missing values.\n",
        "- Modify the `emp_title` column to replace titles with 'Other' if the title is not in the top 20. \n",
        "- Take initiatve and work on your own ideas!\n",
        "\n",
        "Instacart options:\n",
        "- Read [Instacart Market Basket Analysis, Winner's Interview: 2nd place, Kazuki Onodera](http://blog.kaggle.com/2017/09/21/instacart-market-basket-analysis-winners-interview-2nd-place-kazuki-onodera/), especially the **Feature Engineering** section. (Can you choose one feature from his bulleted lists, and try to engineer it with pandas code?)\n",
        "- Read and replicate parts of [Simple Exploration Notebook - Instacart](https://www.kaggle.com/sudalairajkumar/simple-exploration-notebook-instacart). (It's the Python Notebook with the most upvotes for this Kaggle competition.)\n",
        "- Take initiative and work on your own ideas!"
      ]
    },
    {
      "cell_type": "markdown",
      "metadata": {
        "colab_type": "text",
        "id": "0_7PXF7lpEXg"
      },
      "source": [
        "You can uncomment and run the cells below to re-download and extract the Instacart data"
      ]
    },
    {
      "cell_type": "code",
      "metadata": {
        "id": "urIePNa0yNG6",
        "colab_type": "code",
        "colab": {}
      },
      "source": [
        "# !wget https://s3.amazonaws.com/instacart-datasets/instacart_online_grocery_shopping_2017_05_01.tar.gz"
      ],
      "execution_count": 0,
      "outputs": []
    },
    {
      "cell_type": "code",
      "metadata": {
        "id": "X9zEyu-uyNG8",
        "colab_type": "code",
        "colab": {}
      },
      "source": [
        "# !tar --gunzip --extract --verbose --file=instacart_online_grocery_shopping_2017_05_01.tar.gz"
      ],
      "execution_count": 0,
      "outputs": []
    },
    {
      "cell_type": "code",
      "metadata": {
        "id": "Y3IqrhlpyNG-",
        "colab_type": "code",
        "colab": {}
      },
      "source": [
        "# %cd instacart_2017_05_01"
      ],
      "execution_count": 0,
      "outputs": []
    }
  ]
}