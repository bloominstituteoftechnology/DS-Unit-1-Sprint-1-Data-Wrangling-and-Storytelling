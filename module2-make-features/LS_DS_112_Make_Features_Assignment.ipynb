{
  "nbformat": 4,
  "nbformat_minor": 0,
  "metadata": {
    "colab": {
      "name": "LS_DS_112_Make_Features_Assignment.ipynb",
      "provenance": [],
      "collapsed_sections": [],
      "include_colab_link": true
    },
    "kernelspec": {
      "display_name": "Python 3",
      "language": "python",
      "name": "python3"
    },
    "language_info": {
      "codemirror_mode": {
        "name": "ipython",
        "version": 3
      },
      "file_extension": ".py",
      "mimetype": "text/x-python",
      "name": "python",
      "nbconvert_exporter": "python",
      "pygments_lexer": "ipython3",
      "version": "3.7.1"
    }
  },
  "cells": [
    {
      "cell_type": "markdown",
      "metadata": {
        "id": "view-in-github",
        "colab_type": "text"
      },
      "source": [
        "<a href=\"https://colab.research.google.com/github/max-moore/DS-Unit-1-Sprint-1-Data-Wrangling-and-Storytelling/blob/master/module2-make-features/LS_DS_112_Make_Features_Assignment.ipynb\" target=\"_parent\"><img src=\"https://colab.research.google.com/assets/colab-badge.svg\" alt=\"Open In Colab\"/></a>"
      ]
    },
    {
      "cell_type": "markdown",
      "metadata": {
        "id": "SnDJqBLi0FYW",
        "colab_type": "text"
      },
      "source": [
        "<img align=\"left\" src=\"https://lever-client-logos.s3.amazonaws.com/864372b1-534c-480e-acd5-9711f850815c-1524247202159.png\" width=200> "
      ]
    },
    {
      "cell_type": "markdown",
      "metadata": {
        "id": "W5GjI1z5yNG4",
        "colab_type": "text"
      },
      "source": [
        "# Assignment:\n",
        "\n",
        "- Replicate the lesson code.\n",
        "\n",
        " - This means that if you haven't followed along already, type out the things that we did in class. Forcing your fingers to hit each key will help you internalize the syntax of what we're doing. Make sure you understand each line of code that you're writing, google things that you don't fully understand.\n",
        " - [Lambda Learning Method for DS - By Ryan Herr](https://docs.google.com/document/d/1ubOw9B3Hfip27hF2ZFnW3a3z9xAgrUDRReOEo-FHCVs/edit?usp=sharing)\n",
        "- Convert the `term` column from string to integer.\n",
        "- Make a column named `loan_status_is_great`. It should contain the integer 1 if `loan_status` is \"Current\" or \"Fully Paid.\" Else it should contain the integer 0.\n",
        "- Make `last_pymnt_d_month` and `last_pymnt_d_year` columns."
      ]
    },
    {
      "cell_type": "code",
      "metadata": {
        "id": "AazB4eFwym2p",
        "colab_type": "code",
        "colab": {}
      },
      "source": [
        "##### Begin Working Here #####\n",
        "import pandas as pd\n",
        "import numpy as np\n",
        "\n",
        "pd.set_option('display.max_rows', 150)\n",
        "pd.set_option('display.max_columns', 100)"
      ],
      "execution_count": null,
      "outputs": []
    },
    {
      "cell_type": "code",
      "metadata": {
        "id": "OBqySMAEgCah",
        "colab_type": "code",
        "colab": {}
      },
      "source": [
        "# Lets take a look at the Ames Iowa Housing Dataset:\n",
        "df = pd.read_csv('https://raw.githubusercontent.com/ryanleeallred/datasets/master/Ames%20Housing%20Data/train.csv')\n",
        "\n",
        "df.head()"
      ],
      "execution_count": null,
      "outputs": []
    },
    {
      "cell_type": "code",
      "metadata": {
        "id": "ozrRsVr1gE3T",
        "colab_type": "code",
        "colab": {}
      },
      "source": [
        "# I can make a smaller dataframe with a few specific column headers\n",
        "# by passing a list of column headers inside of the square brackets\n",
        "small_df = df[['TotalBsmtSF', '1stFlrSF', '2ndFlrSF', 'SalePrice']].copy()\n",
        "\n",
        "small_df.head()\n",
        "\n",
        "small_df.dtypes"
      ],
      "execution_count": null,
      "outputs": []
    },
    {
      "cell_type": "code",
      "metadata": {
        "id": "dFmDd5bdgGO-",
        "colab_type": "code",
        "colab": {}
      },
      "source": [
        "# Lets add up all of the square footage to get a single square footage \n",
        "# column for the entire dataset\n",
        "\n",
        "# Using bracket syntax to make a new 'TotalSquareFootage' column\n",
        "small_df['TotalSquareFootage'] = small_df['TotalBsmtSF'] + small_df['1stFlrSF'] + small_df['2ndFlrSF']\n",
        "\n",
        "small_df.head()"
      ],
      "execution_count": null,
      "outputs": []
    },
    {
      "cell_type": "code",
      "metadata": {
        "id": "LP_JLebJgOBC",
        "colab_type": "code",
        "colab": {}
      },
      "source": [
        "# Lets make a nother new column that is 'PricePerSqFt' by\n",
        "# dividing the price by the square footage\n",
        "\n",
        "small_df['price_per_square_ft'] = small_df['SalePrice'] / small_df['TotalSquareFootage']\n",
        "\n",
        "small_df.head()"
      ],
      "execution_count": null,
      "outputs": []
    },
    {
      "cell_type": "code",
      "metadata": {
        "id": "KzcdKFoAgPH6",
        "colab_type": "code",
        "colab": {}
      },
      "source": [
        "# Create some examples that represent the cases that we want to clean up\n",
        "\n",
        "examples = ['owner', 'Supervisor', ' Project Manager', np.NaN]"
      ],
      "execution_count": null,
      "outputs": []
    },
    {
      "cell_type": "code",
      "metadata": {
        "id": "ZAXVvX3OgZzd",
        "colab_type": "code",
        "colab": {}
      },
      "source": [
        "# Write a function to clean up these use cases and increase uniformity.\n",
        "\n",
        "def clean_emp_title(title):\n",
        "  if isinstance(title, str):\n",
        "    return title.strip().title()\n",
        "  else:\n",
        "    return \"Unknown\"\n",
        "\n",
        "for example in examples:\n",
        "  print(clean_emp_title(example))"
      ],
      "execution_count": null,
      "outputs": []
    },
    {
      "cell_type": "code",
      "metadata": {
        "id": "CHfawcHLga8O",
        "colab_type": "code",
        "colab": {}
      },
      "source": [
        "# list comprehensions can combine function calls and for loops over lists\n",
        "# into one succinct and fairly readable single line of code.\n",
        "\n",
        "[clean_emp_title(title) for title in examples]"
      ],
      "execution_count": null,
      "outputs": []
    },
    {
      "cell_type": "code",
      "metadata": {
        "id": "uCeag1J8gdPn",
        "colab_type": "code",
        "colab": {}
      },
      "source": [
        "# We have a function that works as expected. Lets apply it to our column.\n",
        "# This time we'll overwrite the original column\n",
        "\n",
        "df['emp_title'] = df['emp_title'].apply(clean_emp_title)"
      ],
      "execution_count": null,
      "outputs": []
    },
    {
      "cell_type": "code",
      "metadata": {
        "id": "p3OKh9QsgfLV",
        "colab_type": "code",
        "colab": {}
      },
      "source": [
        "[col for col in df if col.endswith('_d')]"
      ],
      "execution_count": null,
      "outputs": []
    },
    {
      "cell_type": "code",
      "metadata": {
        "id": "gjgkyuHcghXQ",
        "colab_type": "code",
        "colab": {}
      },
      "source": [
        "df['issue_d'] = pd.to_datetime(df['issue_d'], infer_datetime_format=True)"
      ],
      "execution_count": null,
      "outputs": []
    },
    {
      "cell_type": "code",
      "metadata": {
        "id": "tcEBAmLPgkOJ",
        "colab_type": "code",
        "colab": {}
      },
      "source": [
        "df['earliest_cr_line'] = pd.to_datetime(df['earliest_cr_line'], infer_datetime_format=True)"
      ],
      "execution_count": null,
      "outputs": []
    },
    {
      "cell_type": "code",
      "metadata": {
        "id": "bW9pgsvtgnr-",
        "colab_type": "code",
        "colab": {}
      },
      "source": [
        "(df['issue_d'] - df['earliest_cr_line']).dt.days / 365"
      ],
      "execution_count": null,
      "outputs": []
    },
    {
      "cell_type": "code",
      "metadata": {
        "id": "g5w0FBejgpUz",
        "colab_type": "code",
        "colab": {}
      },
      "source": [
        "df['credit_length'] = (df['issue_d'] - df['earliest_cr_line']).dt.days / 365"
      ],
      "execution_count": null,
      "outputs": []
    },
    {
      "cell_type": "code",
      "metadata": {
        "id": "Xe5BsIpqgqrV",
        "colab_type": "code",
        "colab": {}
      },
      "source": [
        "#turning term column from str to int\n",
        "\n",
        "def term_months_to_int(termdata):\n",
        "  return int(termdata.strip().strip('months'))"
      ],
      "execution_count": null,
      "outputs": []
    },
    {
      "cell_type": "code",
      "metadata": {
        "id": "qHCKLms9p1mH",
        "colab_type": "code",
        "colab": {}
      },
      "source": [
        "# copying dataset to avoid reloads\n",
        "\n",
        "newdf = df.copy()\n",
        "newdf"
      ],
      "execution_count": null,
      "outputs": []
    },
    {
      "cell_type": "code",
      "metadata": {
        "id": "EmAFF3qcp2b-",
        "colab_type": "code",
        "colab": {}
      },
      "source": [
        "# converting term values to ints from str\n",
        "\n",
        "newdf['term'] = newdf['term'].apply(term_months_to_int)\n",
        "newdf['term']"
      ],
      "execution_count": null,
      "outputs": []
    },
    {
      "cell_type": "code",
      "metadata": {
        "id": "V4Cl_PHTp38R",
        "colab_type": "code",
        "colab": {}
      },
      "source": [
        "# function for creating new loan_status_is_great column\n",
        "\n",
        "def loan_status_is_great_calc(loan_status):\n",
        "  if loan_status == \"Current\" or loan_status == \"Fully Paid\":\n",
        "    return 1\n",
        "  else:\n",
        "    return 0"
      ],
      "execution_count": null,
      "outputs": []
    },
    {
      "cell_type": "code",
      "metadata": {
        "id": "yQ-rMtwZp49h",
        "colab_type": "code",
        "colab": {}
      },
      "source": [
        "# creating new column\n",
        "\n",
        "newdf['loan_status_is_great'] = newdf['loan_status'].apply(loan_status_is_great_calc)\n",
        "newdf['loan_status_is_great']"
      ],
      "execution_count": null,
      "outputs": []
    },
    {
      "cell_type": "code",
      "metadata": {
        "id": "tUZUZCeIp6GG",
        "colab_type": "code",
        "colab": {}
      },
      "source": [
        "# converting last_pymnt_d to datetime format\n",
        "\n",
        "newdf['last_pymnt_d'] = pd.to_datetime(newdf['last_pymnt_d'], infer_datetime_format=True)\n",
        "newdf['last_pymnt_d']"
      ],
      "execution_count": null,
      "outputs": []
    },
    {
      "cell_type": "code",
      "metadata": {
        "id": "dKB0BaB0p7H2",
        "colab_type": "code",
        "colab": {}
      },
      "source": [
        "# adding last payment year and month values to dataframe\n",
        "\n",
        "newdf['issue_year'] = newdf['last_pymnt_d'].dt.year\n",
        "newdf['issue_month'] = newdf['last_pymnt_d'].dt.month\n",
        "\n",
        "newdf"
      ],
      "execution_count": null,
      "outputs": []
    },
    {
      "cell_type": "code",
      "metadata": {
        "id": "bXr_EbX9p8Iw",
        "colab_type": "code",
        "colab": {}
      },
      "source": [
        "# test display\n",
        "\n",
        "newdf.head()"
      ],
      "execution_count": null,
      "outputs": []
    },
    {
      "cell_type": "markdown",
      "metadata": {
        "colab_type": "text",
        "id": "L8k0LiHmo5EU"
      },
      "source": [
        "# Stretch Goals\n",
        "\n",
        "You can do more with the LendingClub or Instacart datasets.\n",
        "\n",
        "LendingClub options:\n",
        "- There's one other column in the dataframe with percent signs. Remove them and convert to floats. You'll need to handle missing values.\n",
        "- Modify the `emp_title` column to replace titles with 'Other' if the title is not in the top 20. \n",
        "- Take initiatve and work on your own ideas!\n",
        "\n",
        "Instacart options:\n",
        "- Read [Instacart Market Basket Analysis, Winner's Interview: 2nd place, Kazuki Onodera](http://blog.kaggle.com/2017/09/21/instacart-market-basket-analysis-winners-interview-2nd-place-kazuki-onodera/), especially the **Feature Engineering** section. (Can you choose one feature from his bulleted lists, and try to engineer it with pandas code?)\n",
        "- Read and replicate parts of [Simple Exploration Notebook - Instacart](https://www.kaggle.com/sudalairajkumar/simple-exploration-notebook-instacart). (It's the Python Notebook with the most upvotes for this Kaggle competition.)\n",
        "- Take initiative and work on your own ideas!"
      ]
    },
    {
      "cell_type": "markdown",
      "metadata": {
        "colab_type": "text",
        "id": "0_7PXF7lpEXg"
      },
      "source": [
        "You can uncomment and run the cells below to re-download and extract the Instacart data"
      ]
    },
    {
      "cell_type": "code",
      "metadata": {
        "id": "urIePNa0yNG6",
        "colab_type": "code",
        "colab": {}
      },
      "source": [
        "# !wget https://s3.amazonaws.com/instacart-datasets/instacart_online_grocery_shopping_2017_05_01.tar.gz"
      ],
      "execution_count": null,
      "outputs": []
    },
    {
      "cell_type": "code",
      "metadata": {
        "id": "X9zEyu-uyNG8",
        "colab_type": "code",
        "colab": {}
      },
      "source": [
        "# !tar --gunzip --extract --verbose --file=instacart_online_grocery_shopping_2017_05_01.tar.gz"
      ],
      "execution_count": null,
      "outputs": []
    },
    {
      "cell_type": "code",
      "metadata": {
        "id": "Y3IqrhlpyNG-",
        "colab_type": "code",
        "colab": {}
      },
      "source": [
        "# %cd instacart_2017_05_01"
      ],
      "execution_count": null,
      "outputs": []
    }
  ]
}