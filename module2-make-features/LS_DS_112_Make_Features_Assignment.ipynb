{
  "nbformat": 4,
  "nbformat_minor": 0,
  "metadata": {
    "colab": {
      "name": "LS_DS_112_Make_Features_Assignment.ipynb",
      "provenance": [],
      "collapsed_sections": []
    },
    "kernelspec": {
      "display_name": "Python 3",
      "language": "python",
      "name": "python3"
    },
    "language_info": {
      "codemirror_mode": {
        "name": "ipython",
        "version": 3
      },
      "file_extension": ".py",
      "mimetype": "text/x-python",
      "name": "python",
      "nbconvert_exporter": "python",
      "pygments_lexer": "ipython3",
      "version": "3.7.1"
    }
  },
  "cells": [
    {
      "cell_type": "markdown",
      "metadata": {
        "id": "SnDJqBLi0FYW",
        "colab_type": "text"
      },
      "source": [
        "<img align=\"left\" src=\"https://lever-client-logos.s3.amazonaws.com/864372b1-534c-480e-acd5-9711f850815c-1524247202159.png\" width=200> "
      ]
    },
    {
      "cell_type": "markdown",
      "metadata": {
        "id": "W5GjI1z5yNG4",
        "colab_type": "text"
      },
      "source": [
        "# Assignment:\n",
        "\n",
        "- Replicate the lesson code.\n",
        "\n",
        " - This means that if you haven't followed along already, type out the things that we did in class. Forcing your fingers to hit each key will help you internalize the syntax of what we're doing. Make sure you understand each line of code that you're writing, google things that you don't fully understand.\n",
        " - [Lambda Learning Method for DS - By Ryan Herr](https://docs.google.com/document/d/1ubOw9B3Hfip27hF2ZFnW3a3z9xAgrUDRReOEo-FHCVs/edit?usp=sharing)\n",
        "- Convert the `term` column from string to integer.\n",
        "- Make a column named `loan_status_is_great`. It should contain the integer 1 if `loan_status` is \"Current\" or \"Fully Paid.\" Else it should contain the integer 0.\n",
        "- Make `last_pymnt_d_month` and `last_pymnt_d_year` columns."
      ]
    },
    {
      "cell_type": "code",
      "metadata": {
        "id": "AazB4eFwym2p",
        "colab_type": "code",
        "colab": {}
      },
      "source": [
        "# First thing to do is import necessary librarys for cleaning our Data \n",
        "# and Creating Features\n",
        "import pandas as pd\n",
        "import numpy as np"
      ],
      "execution_count": 0,
      "outputs": []
    },
    {
      "cell_type": "code",
      "metadata": {
        "id": "HDgFhnBmoFng",
        "colab_type": "code",
        "colab": {}
      },
      "source": [
        "# Take a look at the Ames Iowa Housing Dataset:\n",
        "src_url = 'https://raw.githubusercontent.com/ryanleeallred/datasets/master/Ames%20Housing%20Data/train.csv'\n",
        "\n",
        "# Read the data file from the src_url variable into a pandas DataFrame\n",
        "iowa_housing_df = pd.read_csv(src_url)\n",
        "\n",
        "# Display the first 10 rows to see if the DataFrame was made\n",
        "print(\"Top 10 Rows of iowa_housing_df: \")\n",
        "display(iowa_housing_df.head(10))\n",
        "\n",
        "# Display the shape of iowa_housing_df\n",
        "print(\"\\niowa_housing_df shape: \")\n",
        "display(iowa_housing_df.shape) "
      ],
      "execution_count": 0,
      "outputs": []
    },
    {
      "cell_type": "code",
      "metadata": {
        "id": "KyBoryh6oF1_",
        "colab_type": "code",
        "colab": {}
      },
      "source": [
        "# Using the describe function to get a statistical description of my data\n",
        "print(\"Basic Statistical Description: \\n\")\n",
        "display(iowa_housing_df.describe())\n",
        "\n",
        "# Just to show that I can get descriptions of specified columns:\n",
        "print(\"\\n\\nSpecified Columns Description: \\n\")\n",
        "display(iowa_housing_df[['OverallQual','YearBuilt']].describe())"
      ],
      "execution_count": 0,
      "outputs": []
    },
    {
      "cell_type": "code",
      "metadata": {
        "id": "rjJx8dn6oGA3",
        "colab_type": "code",
        "colab": {}
      },
      "source": [
        "# Displaying the data types of each column.\n",
        "pd.set_option('display.max_rows', 150)\n",
        "display(iowa_housing_df.dtypes)"
      ],
      "execution_count": 0,
      "outputs": []
    },
    {
      "cell_type": "code",
      "metadata": {
        "id": "v_r5xdGvoGJL",
        "colab_type": "code",
        "colab": {}
      },
      "source": [
        "# Lets take a look at the first 10 rows of the 'BedroomAbvGr' column.\n",
        "ihdf_type = iowa_housing_df['BedroomAbvGr'].dtype\n",
        "\n",
        "# Just for fun I will use an if statement to check if its an integer.\n",
        "if ihdf_type == 'int64' or ihdf_type == 'int32':\n",
        "    print(\"Yes it's an integer\")\n",
        "    print(\"Data Type: \",ihdf_type)"
      ],
      "execution_count": 0,
      "outputs": []
    },
    {
      "cell_type": "code",
      "metadata": {
        "id": "CE6hn6PfoGSn",
        "colab_type": "code",
        "colab": {}
      },
      "source": [
        "# Another way to call columns is wuth a dot method.\n",
        "iowa_housing_df.Fireplaces.head(10)\n",
        "\n",
        "# I don't like calling columns this way, because it could possibly interfear\n",
        "# with other predefined methods if they have the same name.\n",
        "\n",
        "# Seems to be a like minded opinion amongst the forums"
      ],
      "execution_count": 0,
      "outputs": []
    },
    {
      "cell_type": "code",
      "metadata": {
        "id": "QswrPxeHoGbt",
        "colab_type": "code",
        "colab": {}
      },
      "source": [
        "# Here is how to call specific columns using []\n",
        "iowa_housing_df['Fireplaces'].head(10)"
      ],
      "execution_count": 0,
      "outputs": []
    },
    {
      "cell_type": "code",
      "metadata": {
        "id": "PeMo9Oa7oGkc",
        "colab_type": "code",
        "colab": {}
      },
      "source": [
        "# I was curious to see which one would be interprited faster so I ran the \n",
        "# shell command '%timeit'\n",
        "%timeit iowa_housing_df.Fireplaces.head(10)\n",
        "%timeit iowa_housing_df['Fireplaces'].head(10)\n",
        "print(\"Using df['col'] is faster on average is \", 51.9-47.9,\"micro-seconds.\")\n",
        "# So if my previous opinion on not useing '.' to select columns wasn't enough\n",
        "# to convince you. \n",
        "# Using '[]' is also faster, not by much, but still."
      ],
      "execution_count": 0,
      "outputs": []
    },
    {
      "cell_type": "code",
      "metadata": {
        "id": "VGeG6WpkoGsp",
        "colab_type": "code",
        "colab": {}
      },
      "source": [
        ""
      ],
      "execution_count": 0,
      "outputs": []
    },
    {
      "cell_type": "code",
      "metadata": {
        "id": "RGDWNpikoG0k",
        "colab_type": "code",
        "colab": {}
      },
      "source": [
        ""
      ],
      "execution_count": 0,
      "outputs": []
    },
    {
      "cell_type": "code",
      "metadata": {
        "id": "9LPSpaIVoG82",
        "colab_type": "code",
        "colab": {}
      },
      "source": [
        ""
      ],
      "execution_count": 0,
      "outputs": []
    },
    {
      "cell_type": "code",
      "metadata": {
        "id": "2AqD3iQuoHEF",
        "colab_type": "code",
        "colab": {}
      },
      "source": [
        ""
      ],
      "execution_count": 0,
      "outputs": []
    },
    {
      "cell_type": "code",
      "metadata": {
        "id": "BAK2Sh2_oHLR",
        "colab_type": "code",
        "colab": {}
      },
      "source": [
        ""
      ],
      "execution_count": 0,
      "outputs": []
    },
    {
      "cell_type": "code",
      "metadata": {
        "id": "HkxEFRFQoHTJ",
        "colab_type": "code",
        "colab": {}
      },
      "source": [
        ""
      ],
      "execution_count": 0,
      "outputs": []
    },
    {
      "cell_type": "code",
      "metadata": {
        "id": "gonwd0hToHaq",
        "colab_type": "code",
        "colab": {}
      },
      "source": [
        ""
      ],
      "execution_count": 0,
      "outputs": []
    },
    {
      "cell_type": "markdown",
      "metadata": {
        "colab_type": "text",
        "id": "L8k0LiHmo5EU"
      },
      "source": [
        "# Stretch Goals\n",
        "\n",
        "You can do more with the LendingClub or Instacart datasets.\n",
        "\n",
        "LendingClub options:\n",
        "- There's one other column in the dataframe with percent signs. Remove them and convert to floats. You'll need to handle missing values.\n",
        "- Modify the `emp_title` column to replace titles with 'Other' if the title is not in the top 20. \n",
        "- Take initiatve and work on your own ideas!\n",
        "\n",
        "Instacart options:\n",
        "- Read [Instacart Market Basket Analysis, Winner's Interview: 2nd place, Kazuki Onodera](http://blog.kaggle.com/2017/09/21/instacart-market-basket-analysis-winners-interview-2nd-place-kazuki-onodera/), especially the **Feature Engineering** section. (Can you choose one feature from his bulleted lists, and try to engineer it with pandas code?)\n",
        "- Read and replicate parts of [Simple Exploration Notebook - Instacart](https://www.kaggle.com/sudalairajkumar/simple-exploration-notebook-instacart). (It's the Python Notebook with the most upvotes for this Kaggle competition.)\n",
        "- Take initiative and work on your own ideas!"
      ]
    },
    {
      "cell_type": "markdown",
      "metadata": {
        "colab_type": "text",
        "id": "0_7PXF7lpEXg"
      },
      "source": [
        "You can uncomment and run the cells below to re-download and extract the Instacart data"
      ]
    },
    {
      "cell_type": "code",
      "metadata": {
        "id": "urIePNa0yNG6",
        "colab_type": "code",
        "colab": {}
      },
      "source": [
        "# !wget https://s3.amazonaws.com/instacart-datasets/instacart_online_grocery_shopping_2017_05_01.tar.gz"
      ],
      "execution_count": 0,
      "outputs": []
    },
    {
      "cell_type": "code",
      "metadata": {
        "id": "X9zEyu-uyNG8",
        "colab_type": "code",
        "colab": {}
      },
      "source": [
        "# !tar --gunzip --extract --verbose --file=instacart_online_grocery_shopping_2017_05_01.tar.gz"
      ],
      "execution_count": 0,
      "outputs": []
    },
    {
      "cell_type": "code",
      "metadata": {
        "id": "Y3IqrhlpyNG-",
        "colab_type": "code",
        "colab": {}
      },
      "source": [
        "# %cd instacart_2017_05_01"
      ],
      "execution_count": 0,
      "outputs": []
    }
  ]
}