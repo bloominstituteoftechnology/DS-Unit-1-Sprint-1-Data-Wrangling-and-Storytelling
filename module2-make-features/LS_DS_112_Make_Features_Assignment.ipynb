{
  "nbformat": 4,
  "nbformat_minor": 0,
  "metadata": {
    "colab": {
      "name": "Copy of LS_DS_112_Make_Features_Assignment.ipynb",
      "provenance": [],
      "collapsed_sections": [
        "P1mjT0puHOQn",
        "Qu4UkfoP2AmL",
        "VG_2tgoE5j5z",
        "QJTNJlxq7xpI",
        "9fFn0qkQ8DTg",
        "0pLVOooRAQ9J",
        "LJ7ANd80_8G4",
        "4Swlo5nZGnIC",
        "SRMh_XRgGstg"
      ],
      "include_colab_link": true
    },
    "kernelspec": {
      "display_name": "Python 3",
      "language": "python",
      "name": "python3"
    },
    "language_info": {
      "codemirror_mode": {
        "name": "ipython",
        "version": 3
      },
      "file_extension": ".py",
      "mimetype": "text/x-python",
      "name": "python",
      "nbconvert_exporter": "python",
      "pygments_lexer": "ipython3",
      "version": "3.7.1"
    }
  },
  "cells": [
    {
      "cell_type": "markdown",
      "metadata": {
        "id": "view-in-github",
        "colab_type": "text"
      },
      "source": [
        "<a href=\"https://colab.research.google.com/github/mvkumar14/DS-Unit-1-Sprint-1-Data-Wrangling-and-Storytelling/blob/master/module2-make-features/LS_DS_112_Make_Features_Assignment.ipynb\" target=\"_parent\"><img src=\"https://colab.research.google.com/assets/colab-badge.svg\" alt=\"Open In Colab\"/></a>"
      ]
    },
    {
      "cell_type": "markdown",
      "metadata": {
        "id": "SnDJqBLi0FYW",
        "colab_type": "text"
      },
      "source": [
        "<img align=\"left\" src=\"https://lever-client-logos.s3.amazonaws.com/864372b1-534c-480e-acd5-9711f850815c-1524247202159.png\" width=200> "
      ]
    },
    {
      "cell_type": "markdown",
      "metadata": {
        "id": "W5GjI1z5yNG4",
        "colab_type": "text"
      },
      "source": [
        "# Assignment:\n",
        "\n",
        "- Replicate the lesson code.\n",
        "\n",
        " - This means that if you haven't followed along already, type out the things that we did in class. Forcing your fingers to hit each key will help you internalize the syntax of what we're doing. Make sure you understand each line of code that you're writing, google things that you don't fully understand.\n",
        " - [Lambda Learning Method for DS - By Ryan Herr](https://docs.google.com/document/d/1ubOw9B3Hfip27hF2ZFnW3a3z9xAgrUDRReOEo-FHCVs/edit?usp=sharing)\n",
        "- Convert the `term` column from string to integer.\n",
        "- Make a column named `loan_status_is_great`. It should contain the integer 1 if `loan_status` is \"Current\" or \"Fully Paid.\" Else it should contain the integer 0.\n",
        "- Make `last_pymnt_d_month` and `last_pymnt_d_year` columns.\n",
        "\n",
        "\n",
        "Here is a reference to my \"follow along\"\n",
        "https://colab.research.google.com/drive/1o7GfvvyeAvYZEcFQIogKSr3M26EBlmEO"
      ]
    },
    {
      "cell_type": "markdown",
      "metadata": {
        "id": "P1mjT0puHOQn",
        "colab_type": "text"
      },
      "source": [
        "#Getting and Cleaning the Data"
      ]
    },
    {
      "cell_type": "markdown",
      "metadata": {
        "id": "P9AU6MWd2Byj",
        "colab_type": "text"
      },
      "source": [
        "## Get the Data:"
      ]
    },
    {
      "cell_type": "code",
      "metadata": {
        "id": "AazB4eFwym2p",
        "colab_type": "code",
        "colab": {}
      },
      "source": [
        "#get the data\n",
        "!wget https://resources.lendingclub.com/LoanStats_2018Q4.csv.zip"
      ],
      "execution_count": 0,
      "outputs": []
    },
    {
      "cell_type": "code",
      "metadata": {
        "id": "Y0lERZEA1rPs",
        "colab_type": "code",
        "colab": {}
      },
      "source": [
        "!unzip LoanStats_2018Q4.csv.zip"
      ],
      "execution_count": 0,
      "outputs": []
    },
    {
      "cell_type": "code",
      "metadata": {
        "id": "SmdEEAGY11qq",
        "colab_type": "code",
        "colab": {}
      },
      "source": [
        "!head LoanStats_2018Q4.csv"
      ],
      "execution_count": 0,
      "outputs": []
    },
    {
      "cell_type": "code",
      "metadata": {
        "id": "7sZnMQ8AHT61",
        "colab_type": "code",
        "colab": {}
      },
      "source": [
        ""
      ],
      "execution_count": 0,
      "outputs": []
    },
    {
      "cell_type": "markdown",
      "metadata": {
        "id": "Qu4UkfoP2AmL",
        "colab_type": "text"
      },
      "source": [
        "## Load it into a data frame:"
      ]
    },
    {
      "cell_type": "code",
      "metadata": {
        "id": "7OVDzNPl19Gy",
        "colab_type": "code",
        "colab": {}
      },
      "source": [
        "# imports (I like consolidating them here)\n",
        "import pandas as pd"
      ],
      "execution_count": 0,
      "outputs": []
    },
    {
      "cell_type": "code",
      "metadata": {
        "id": "BW9AvgLx2T9a",
        "colab_type": "code",
        "colab": {
          "base_uri": "https://localhost:8080/",
          "height": 74
        },
        "outputId": "42925d96-e6c1-4c01-a804-bc9dac272031"
      },
      "source": [
        "# Load in data \n",
        "df = pd.read_csv('LoanStats_2018Q4.csv',header = 1)"
      ],
      "execution_count": 15,
      "outputs": [
        {
          "output_type": "stream",
          "text": [
            "/usr/local/lib/python3.6/dist-packages/IPython/core/interactiveshell.py:2718: DtypeWarning: Columns (0,123,124,125,128,129,130,133) have mixed types. Specify dtype option on import or set low_memory=False.\n",
            "  interactivity=interactivity, compiler=compiler, result=result)\n"
          ],
          "name": "stderr"
        }
      ]
    },
    {
      "cell_type": "code",
      "metadata": {
        "id": "hwHqjWTW2xML",
        "colab_type": "code",
        "colab": {
          "base_uri": "https://localhost:8080/",
          "height": 352
        },
        "outputId": "4e2f137f-4f67-4262-c4bb-738a1878a0db"
      },
      "source": [
        "#display some data+ metadata\n",
        "print(df.shape, \"\\n\")\n",
        "print(df.head())\n",
        "print(df.tail())"
      ],
      "execution_count": 20,
      "outputs": [
        {
          "output_type": "stream",
          "text": [
            "(128414, 144) \n",
            "\n",
            "    id  member_id  ...  settlement_percentage  settlement_term\n",
            "0  NaN        NaN  ...                    NaN              NaN\n",
            "1  NaN        NaN  ...                    NaN              NaN\n",
            "2  NaN        NaN  ...                    NaN              NaN\n",
            "3  NaN        NaN  ...                    NaN              NaN\n",
            "4  NaN        NaN  ...                    NaN              NaN\n",
            "\n",
            "[5 rows x 144 columns]\n",
            "                                                      id  ...  settlement_term\n",
            "128409                                               NaN  ...              NaN\n",
            "128410                                               NaN  ...              NaN\n",
            "128411                                               NaN  ...              NaN\n",
            "128412  Total amount funded in policy code 1: 2050909275  ...              NaN\n",
            "128413   Total amount funded in policy code 2: 820109297  ...              NaN\n",
            "\n",
            "[5 rows x 144 columns]\n"
          ],
          "name": "stdout"
        }
      ]
    },
    {
      "cell_type": "markdown",
      "metadata": {
        "id": "VG_2tgoE5j5z",
        "colab_type": "text"
      },
      "source": [
        "## Basic Cleaning\n",
        "\n",
        "This is just repeating what we did in class"
      ]
    },
    {
      "cell_type": "code",
      "metadata": {
        "id": "yiV0rmK3495l",
        "colab_type": "code",
        "colab": {}
      },
      "source": [
        "# right away we can get rid of the last two rows:\n",
        "print(\"Before the removal:\",df.tail(2),'\\n')\n",
        "#the following command works\n",
        "print(\"After the removal:\",df.drop(df.tail(2).index).tail(2))\n",
        "#lets execute it:\n",
        "df = df.drop(df.tail(2).index)\n",
        "df.tail(2)"
      ],
      "execution_count": 0,
      "outputs": []
    },
    {
      "cell_type": "code",
      "metadata": {
        "id": "efugi4CD6NO3",
        "colab_type": "code",
        "colab": {
          "base_uri": "https://localhost:8080/",
          "height": 240
        },
        "outputId": "56049125-db34-4815-bdd3-9a6b1ccb1d24"
      },
      "source": [
        "#Now lets look at the null values to see if we can get rid of any columns:\n",
        "print(df.shape)\n",
        "df.isna().sum().sort_values(ascending = False)[:10]"
      ],
      "execution_count": 35,
      "outputs": [
        {
          "output_type": "stream",
          "text": [
            "(128410, 144)\n"
          ],
          "name": "stdout"
        },
        {
          "output_type": "execute_result",
          "data": {
            "text/plain": [
              "id                                            128410\n",
              "desc                                          128410\n",
              "member_id                                     128410\n",
              "url                                           128410\n",
              "orig_projected_additional_accrued_interest    128343\n",
              "hardship_type                                 128341\n",
              "hardship_last_payment_amount                  128341\n",
              "hardship_payoff_balance_amount                128341\n",
              "hardship_reason                               128341\n",
              "hardship_loan_status                          128341\n",
              "dtype: int64"
            ]
          },
          "metadata": {
            "tags": []
          },
          "execution_count": 35
        }
      ]
    },
    {
      "cell_type": "code",
      "metadata": {
        "id": "IX_X6Bad69B9",
        "colab_type": "code",
        "colab": {
          "base_uri": "https://localhost:8080/",
          "height": 166
        },
        "outputId": "51d1e791-de6f-4aca-c143-5d7710ef94bf"
      },
      "source": [
        "# we see that id, desc, member_id, and url are all completely empty, so lets get rid of them:\n",
        "print(df.head())\n",
        "to_drop = ['id','desc','member_id','url']\n",
        "df.drop(to_drop,axis=1).head()\n",
        "\n",
        "#That worked, so lets update the df\n",
        "df = df.drop(to_drop,axis=1)"
      ],
      "execution_count": 39,
      "outputs": [
        {
          "output_type": "stream",
          "text": [
            "    id  member_id  ...  settlement_percentage  settlement_term\n",
            "0  NaN        NaN  ...                    NaN              NaN\n",
            "1  NaN        NaN  ...                    NaN              NaN\n",
            "2  NaN        NaN  ...                    NaN              NaN\n",
            "3  NaN        NaN  ...                    NaN              NaN\n",
            "4  NaN        NaN  ...                    NaN              NaN\n",
            "\n",
            "[5 rows x 144 columns]\n"
          ],
          "name": "stdout"
        }
      ]
    },
    {
      "cell_type": "code",
      "metadata": {
        "id": "H_T3YZix7mJC",
        "colab_type": "code",
        "colab": {}
      },
      "source": [
        "#double check\n",
        "df.head()"
      ],
      "execution_count": 0,
      "outputs": []
    },
    {
      "cell_type": "markdown",
      "metadata": {
        "id": "QJTNJlxq7xpI",
        "colab_type": "text"
      },
      "source": [
        "## Convert ```term``` from string to integer:\n",
        "\n"
      ]
    },
    {
      "cell_type": "markdown",
      "metadata": {
        "id": "9fFn0qkQ8DTg",
        "colab_type": "text"
      },
      "source": [
        "###  Looking at Term:"
      ]
    },
    {
      "cell_type": "code",
      "metadata": {
        "id": "Q87JPWjS7qx0",
        "colab_type": "code",
        "colab": {
          "base_uri": "https://localhost:8080/",
          "height": 222
        },
        "outputId": "623e54cd-356c-4ed6-fbae-3e6e74027151"
      },
      "source": [
        "#lets take a look at the term column\n",
        "print(df.shape)\n",
        "print(df.term.head(5))\n",
        "print(df.term.isna().sum())\n",
        "# we aren't missing any values, but are there any values that might be unexpected\n",
        "df['term'].value_counts()\n"
      ],
      "execution_count": 54,
      "outputs": [
        {
          "output_type": "stream",
          "text": [
            "(128410, 140)\n",
            "0     36 months\n",
            "1     60 months\n",
            "2     60 months\n",
            "3     36 months\n",
            "4     60 months\n",
            "Name: term, dtype: object\n",
            "0\n"
          ],
          "name": "stdout"
        },
        {
          "output_type": "execute_result",
          "data": {
            "text/plain": [
              " 36 months    88177\n",
              " 60 months    40233\n",
              "Name: term, dtype: int64"
            ]
          },
          "metadata": {
            "tags": []
          },
          "execution_count": 54
        }
      ]
    },
    {
      "cell_type": "code",
      "metadata": {
        "id": "FS1VBtVM-hYz",
        "colab_type": "code",
        "colab": {
          "base_uri": "https://localhost:8080/",
          "height": 54
        },
        "outputId": "85a205f3-c354-407d-a624-9ea73c009db0"
      },
      "source": [
        "# We determined that there are only two \"terms\". Lets make sure they add to the number of rows:\n",
        "print(df.shape)\n",
        "df['term'].value_counts().sum()\n",
        "\n",
        "# IT DOES! so this data column is ready for sorting."
      ],
      "execution_count": 55,
      "outputs": [
        {
          "output_type": "stream",
          "text": [
            "(128410, 140)\n"
          ],
          "name": "stdout"
        },
        {
          "output_type": "execute_result",
          "data": {
            "text/plain": [
              "128410"
            ]
          },
          "metadata": {
            "tags": []
          },
          "execution_count": 55
        }
      ]
    },
    {
      "cell_type": "markdown",
      "metadata": {
        "id": "0pLVOooRAQ9J",
        "colab_type": "text"
      },
      "source": [
        "### Function to process text"
      ]
    },
    {
      "cell_type": "markdown",
      "metadata": {
        "id": "CmVKsjr9DzEp",
        "colab_type": "text"
      },
      "source": [
        "Note that I actually had to redo this part because I forgot about checking for leading spaces in the original text, because I copy pasted an entry from ``` df.head(3)```.  The only real change that this induced in my method was to change a few indexes. Alternativley  the ```.strip()``` command could also be used\n",
        "\n"
      ]
    },
    {
      "cell_type": "code",
      "metadata": {
        "id": "8vtbPti38PF7",
        "colab_type": "code",
        "colab": {}
      },
      "source": [
        "# we need to first figure out how to change this value to an integer, then we can apply it to the column\n",
        "term_sample = \" 36 months\"\n",
        "\n",
        "# There are two pieces and if I can put the pieces into a list as two strings, then I can take the first value from that \n",
        "# list and cast to an integer"
      ],
      "execution_count": 0,
      "outputs": []
    },
    {
      "cell_type": "code",
      "metadata": {
        "id": "9STeiQKa_p0L",
        "colab_type": "code",
        "colab": {
          "base_uri": "https://localhost:8080/",
          "height": 36
        },
        "outputId": "407cfe70-faff-4360-9c78-249d1df0c9e1"
      },
      "source": [
        "#we can split the list this way:\n",
        "term_list = term_sample.split(\" \")\n",
        "term_list"
      ],
      "execution_count": 93,
      "outputs": [
        {
          "output_type": "execute_result",
          "data": {
            "text/plain": [
              "['', '36', 'months']"
            ]
          },
          "metadata": {
            "tags": []
          },
          "execution_count": 93
        }
      ]
    },
    {
      "cell_type": "code",
      "metadata": {
        "id": "NyWHZtq8_rgq",
        "colab_type": "code",
        "colab": {
          "base_uri": "https://localhost:8080/",
          "height": 54
        },
        "outputId": "f26911ef-735d-429f-b3ce-b1cfd79986d8"
      },
      "source": [
        "#we can pull out the first string and turn it into an int like so:\n",
        "print(int(term_list[1]))\n",
        "print(type(int(term_list[1])))\n"
      ],
      "execution_count": 95,
      "outputs": [
        {
          "output_type": "stream",
          "text": [
            "36\n",
            "<class 'int'>\n"
          ],
          "name": "stdout"
        }
      ]
    },
    {
      "cell_type": "markdown",
      "metadata": {
        "id": "eLdTSpZXCig5",
        "colab_type": "text"
      },
      "source": [
        "**Function to process text**\n",
        "this function is what should end up in apply()"
      ]
    },
    {
      "cell_type": "code",
      "metadata": {
        "id": "n87Q0HxqAlJw",
        "colab_type": "code",
        "colab": {
          "base_uri": "https://localhost:8080/",
          "height": 110
        },
        "outputId": "1638090d-cafa-41c3-c3d7-f5c6c74dd12e"
      },
      "source": [
        "print('Before Proccesing:\\n',term_sample)\n",
        "def term_to_int(term):\n",
        "  return(int(term.split(\" \")[1]))\n",
        "\n",
        "final_val = term_to_int(term_sample)\n",
        "print('After Processing:\\n',final_val)\n",
        "print(type(final_val))"
      ],
      "execution_count": 96,
      "outputs": [
        {
          "output_type": "stream",
          "text": [
            "Before Proccesing:\n",
            "  36 months\n",
            "After Processing:\n",
            " 36\n",
            "<class 'int'>\n"
          ],
          "name": "stdout"
        }
      ]
    },
    {
      "cell_type": "code",
      "metadata": {
        "id": "NezsorMyFAF_",
        "colab_type": "code",
        "colab": {
          "base_uri": "https://localhost:8080/",
          "height": 54
        },
        "outputId": "800bdcb9-8d53-4a88-d1ca-1b24ec23fa0b"
      },
      "source": [
        "# for posterity the same function but with the strip functionality instead of changing the index:\n",
        "print(\"'\",term_sample,\"'\")\n",
        "def term_to_int_strip(term):\n",
        "  return(int(term.strip().split(' ')[0]))\n",
        "term_to_int_strip(term_sample)"
      ],
      "execution_count": 115,
      "outputs": [
        {
          "output_type": "stream",
          "text": [
            "'  36 months '\n"
          ],
          "name": "stdout"
        },
        {
          "output_type": "execute_result",
          "data": {
            "text/plain": [
              "36"
            ]
          },
          "metadata": {
            "tags": []
          },
          "execution_count": 115
        }
      ]
    },
    {
      "cell_type": "markdown",
      "metadata": {
        "id": "LJ7ANd80_8G4",
        "colab_type": "text"
      },
      "source": [
        "**Alternate function to process text**\n",
        "\n",
        "knowing what we know about the data in this column we could write a quicker but less generally useful solution:\n"
      ]
    },
    {
      "cell_type": "code",
      "metadata": {
        "id": "AE9D5vbL-3VU",
        "colab_type": "code",
        "colab": {
          "base_uri": "https://localhost:8080/",
          "height": 259
        },
        "outputId": "5a63607b-b4d5-441a-aa04-d5d1573d53fc"
      },
      "source": [
        "term_sample = \" 36 months\"\n",
        "print('val at 1:',term_sample[1])\n",
        "print('val at 0:',term_sample[0])\n",
        "#weirdly though it doesn't seem to matter? \n",
        "\n",
        "def term_to_int_simple(term):\n",
        "  if term[1] == 3:\n",
        "    return 36\n",
        "  else:\n",
        "    return 60\n",
        "\n",
        "test = df.term.apply(term_to_int).head(10)\n",
        "test"
      ],
      "execution_count": 112,
      "outputs": [
        {
          "output_type": "stream",
          "text": [
            "val at 1: 3\n",
            "val at 0:  \n"
          ],
          "name": "stdout"
        },
        {
          "output_type": "execute_result",
          "data": {
            "text/plain": [
              "0    36\n",
              "1    60\n",
              "2    60\n",
              "3    36\n",
              "4    60\n",
              "5    36\n",
              "6    36\n",
              "7    60\n",
              "8    36\n",
              "9    60\n",
              "Name: term, dtype: int64"
            ]
          },
          "metadata": {
            "tags": []
          },
          "execution_count": 112
        }
      ]
    },
    {
      "cell_type": "markdown",
      "metadata": {
        "id": "64jEDdhYCwWp",
        "colab_type": "text"
      },
      "source": [
        "###Replacing the term column with integers:"
      ]
    },
    {
      "cell_type": "code",
      "metadata": {
        "id": "7CpCgBp_CvE0",
        "colab_type": "code",
        "colab": {
          "base_uri": "https://localhost:8080/",
          "height": 36
        },
        "outputId": "b6f0b070-b666-4f30-ed74-8264f6ca472f"
      },
      "source": [
        "#make sure that the function is working\n",
        "term_to_int(df.term.loc[3])"
      ],
      "execution_count": 116,
      "outputs": [
        {
          "output_type": "execute_result",
          "data": {
            "text/plain": [
              "36"
            ]
          },
          "metadata": {
            "tags": []
          },
          "execution_count": 116
        }
      ]
    },
    {
      "cell_type": "code",
      "metadata": {
        "id": "m2Io92otDK-D",
        "colab_type": "code",
        "colab": {
          "base_uri": "https://localhost:8080/",
          "height": 36
        },
        "outputId": "a9e33657-49d0-497d-ff19-c6d997b46418"
      },
      "source": [
        "#It was not working initially because there are leading spaces in these values (which weren't accounted for in the function)\n",
        "df.term.loc[3]\n",
        "#I went back and changed the functions in the \"function to process text portion of this notebook\""
      ],
      "execution_count": 79,
      "outputs": [
        {
          "output_type": "execute_result",
          "data": {
            "text/plain": [
              "' 36 months'"
            ]
          },
          "metadata": {
            "tags": []
          },
          "execution_count": 79
        }
      ]
    },
    {
      "cell_type": "code",
      "metadata": {
        "id": "qMaU0BpyFn-R",
        "colab_type": "code",
        "colab": {
          "base_uri": "https://localhost:8080/",
          "height": 129
        },
        "outputId": "f6bef0bb-fd91-4c38-9491-80d451934278"
      },
      "source": [
        "#apply the function to the dataframe:\n",
        "df.term.apply(term_to_int).head()\n",
        "#it works!"
      ],
      "execution_count": 118,
      "outputs": [
        {
          "output_type": "execute_result",
          "data": {
            "text/plain": [
              "0    36\n",
              "1    60\n",
              "2    60\n",
              "3    36\n",
              "4    60\n",
              "Name: term, dtype: int64"
            ]
          },
          "metadata": {
            "tags": []
          },
          "execution_count": 118
        }
      ]
    },
    {
      "cell_type": "code",
      "metadata": {
        "id": "EUAwGsLpFyNY",
        "colab_type": "code",
        "colab": {}
      },
      "source": [
        "df['term'] = df['term'].apply(term_to_int)"
      ],
      "execution_count": 0,
      "outputs": []
    },
    {
      "cell_type": "code",
      "metadata": {
        "id": "NtLCg1rOGC8M",
        "colab_type": "code",
        "colab": {
          "base_uri": "https://localhost:8080/",
          "height": 129
        },
        "outputId": "89cd63f6-aeaf-40aa-a827-28e22decaba3"
      },
      "source": [
        "#Remember that you can't rerun the code above (unless you re-initialize the df) because I replaced values, and they are ints now\n",
        "df.term.head()"
      ],
      "execution_count": 122,
      "outputs": [
        {
          "output_type": "execute_result",
          "data": {
            "text/plain": [
              "0    36\n",
              "1    60\n",
              "2    60\n",
              "3    36\n",
              "4    60\n",
              "Name: term, dtype: int64"
            ]
          },
          "metadata": {
            "tags": []
          },
          "execution_count": 122
        }
      ]
    },
    {
      "cell_type": "markdown",
      "metadata": {
        "id": "_YeZ0dKMGg_k",
        "colab_type": "text"
      },
      "source": [
        "# Feature Engineering"
      ]
    },
    {
      "cell_type": "markdown",
      "metadata": {
        "id": "4Swlo5nZGnIC",
        "colab_type": "text"
      },
      "source": [
        "## ```loan_status_is_great```\n",
        "\n",
        "Make a column named ```loan_status_is_great```. It should contain the integer 1 if ```loan_status``` is \"Current\" or \"Fully Paid.\" Else it should contain the integer 0."
      ]
    },
    {
      "cell_type": "code",
      "metadata": {
        "id": "If1TK-OqHJq6",
        "colab_type": "code",
        "colab": {
          "base_uri": "https://localhost:8080/",
          "height": 184
        },
        "outputId": "7f7e8781-dae0-4eb3-e856-4d0d3b1ab390"
      },
      "source": [
        "#look at loan_status\n",
        "#any nulls?:\n",
        "print(df['loan_status'].isna().sum())\n",
        "#a look at the possilbe results:\n",
        "df['loan_status'].value_counts()"
      ],
      "execution_count": 128,
      "outputs": [
        {
          "output_type": "stream",
          "text": [
            "0\n"
          ],
          "name": "stdout"
        },
        {
          "output_type": "execute_result",
          "data": {
            "text/plain": [
              "Current               105923\n",
              "Fully Paid             15780\n",
              "Charged Off             2863\n",
              "Late (31-120 days)      2482\n",
              "In Grace Period          901\n",
              "Late (16-30 days)        459\n",
              "Default                    2\n",
              "Name: loan_status, dtype: int64"
            ]
          },
          "metadata": {
            "tags": []
          },
          "execution_count": 128
        }
      ]
    },
    {
      "cell_type": "markdown",
      "metadata": {
        "id": "o7UkHUCpI3sG",
        "colab_type": "text"
      },
      "source": [
        "we need to apply a function to the existing column to return a value that value is the value of a new column in the function the command is going to look like this:\n",
        "\n",
        "```df['new_column'] = df['loan_status'].apply(my_function)```"
      ]
    },
    {
      "cell_type": "code",
      "metadata": {
        "id": "lZAfpkbJH22P",
        "colab_type": "code",
        "colab": {
          "base_uri": "https://localhost:8080/",
          "height": 36
        },
        "outputId": "e5c49b98-9831-48cc-f862-4349d739bbbc"
      },
      "source": [
        "#the function\n",
        "loan_status_test_set = ['Current','Late','this is random','Fully Paid']\n",
        "def loan_status_sort(input):\n",
        "  if input == 'Current' or input == 'Fully Paid':\n",
        "    return 1\n",
        "  else:\n",
        "    return 0\n",
        "\n",
        "[loan_status_sort(value) for value in loan_status_test_set]"
      ],
      "execution_count": 132,
      "outputs": [
        {
          "output_type": "execute_result",
          "data": {
            "text/plain": [
              "[1, 0, 0, 1]"
            ]
          },
          "metadata": {
            "tags": []
          },
          "execution_count": 132
        }
      ]
    },
    {
      "cell_type": "code",
      "metadata": {
        "id": "WkNSUM-gKOMJ",
        "colab_type": "code",
        "colab": {
          "base_uri": "https://localhost:8080/",
          "height": 54
        },
        "outputId": "049039f5-6dbc-46ff-bab5-41c9c499ad89"
      },
      "source": [
        "#Checking it works for individual values:\n",
        "test_val = df['loan_status'].loc[3]\n",
        "print(test_val)\n",
        "print(loan_status_sort(test_val))"
      ],
      "execution_count": 139,
      "outputs": [
        {
          "output_type": "stream",
          "text": [
            "Current\n",
            "1\n"
          ],
          "name": "stdout"
        }
      ]
    },
    {
      "cell_type": "code",
      "metadata": {
        "id": "3i8F9vRVMSMG",
        "colab_type": "code",
        "colab": {
          "base_uri": "https://localhost:8080/",
          "height": 129
        },
        "outputId": "fb88b032-50cf-4bef-9cb3-60ffbfc0b702"
      },
      "source": [
        "#Testing on column in the data frame:\n",
        "df['loan_status'].apply(loan_status_sort).head()\n"
      ],
      "execution_count": 143,
      "outputs": [
        {
          "output_type": "execute_result",
          "data": {
            "text/plain": [
              "0    1\n",
              "1    1\n",
              "2    1\n",
              "3    1\n",
              "4    1\n",
              "Name: loan_status, dtype: int64"
            ]
          },
          "metadata": {
            "tags": []
          },
          "execution_count": 143
        }
      ]
    },
    {
      "cell_type": "code",
      "metadata": {
        "id": "esg1lfqXM3T8",
        "colab_type": "code",
        "colab": {}
      },
      "source": [
        "#Creating new column:\n",
        "df['loan_status_is_great'] = df['loan_status'].apply(loan_status_sort)"
      ],
      "execution_count": 0,
      "outputs": []
    },
    {
      "cell_type": "code",
      "metadata": {
        "id": "WjEGR_MQNCCH",
        "colab_type": "code",
        "colab": {
          "base_uri": "https://localhost:8080/",
          "height": 129
        },
        "outputId": "8d79c766-5d21-4386-bd31-d622cda7b2a0"
      },
      "source": [
        "#Double check\n",
        "df['loan_status_is_great'].head()"
      ],
      "execution_count": 146,
      "outputs": [
        {
          "output_type": "execute_result",
          "data": {
            "text/plain": [
              "0    1\n",
              "1    1\n",
              "2    1\n",
              "3    1\n",
              "4    1\n",
              "Name: loan_status_is_great, dtype: int64"
            ]
          },
          "metadata": {
            "tags": []
          },
          "execution_count": 146
        }
      ]
    },
    {
      "cell_type": "markdown",
      "metadata": {
        "id": "SRMh_XRgGstg",
        "colab_type": "text"
      },
      "source": [
        "## ```last_pymnt_d_month```\n",
        "\n",
        "Make ```last_pymnt_d_month``` and ```last_pymnt_d_year``` columns."
      ]
    },
    {
      "cell_type": "code",
      "metadata": {
        "id": "8ndt5dzZHIv2",
        "colab_type": "code",
        "colab": {
          "base_uri": "https://localhost:8080/",
          "height": 129
        },
        "outputId": "44ac9063-bb96-4098-f0e8-c93048596e91"
      },
      "source": [
        "#look at last_pymnt\n",
        "df['last_pymnt_d'].head()"
      ],
      "execution_count": 149,
      "outputs": [
        {
          "output_type": "execute_result",
          "data": {
            "text/plain": [
              "0    Sep-2019\n",
              "1    Apr-2019\n",
              "2    Sep-2019\n",
              "3    Sep-2019\n",
              "4    Apr-2019\n",
              "Name: last_pymnt_d, dtype: object"
            ]
          },
          "metadata": {
            "tags": []
          },
          "execution_count": 149
        }
      ]
    },
    {
      "cell_type": "code",
      "metadata": {
        "id": "ck_hSAq_Nhik",
        "colab_type": "code",
        "colab": {}
      },
      "source": [
        "#Now this month-day format needs to split up. Lets convert to datetime first:\n",
        "test = pd.to_datetime(df['last_pymnt_d'],infer_datetime_format=True)"
      ],
      "execution_count": 0,
      "outputs": []
    },
    {
      "cell_type": "code",
      "metadata": {
        "id": "u065lc_QOMRj",
        "colab_type": "code",
        "colab": {
          "base_uri": "https://localhost:8080/",
          "height": 129
        },
        "outputId": "5afe8bc2-5d2a-4a3c-d458-2a70d241a115"
      },
      "source": [
        "#using dt to get just year (same can be done for month)\n",
        "test.dt.year.head()"
      ],
      "execution_count": 157,
      "outputs": [
        {
          "output_type": "execute_result",
          "data": {
            "text/plain": [
              "0    2019.0\n",
              "1    2019.0\n",
              "2    2019.0\n",
              "3    2019.0\n",
              "4    2019.0\n",
              "Name: last_pymnt_d, dtype: float64"
            ]
          },
          "metadata": {
            "tags": []
          },
          "execution_count": 157
        }
      ]
    },
    {
      "cell_type": "code",
      "metadata": {
        "id": "ARH2z5gQPG4o",
        "colab_type": "code",
        "colab": {
          "base_uri": "https://localhost:8080/",
          "height": 129
        },
        "outputId": "04324739-b6fe-4a30-946a-69b2fb5195e3"
      },
      "source": [
        "#Replacing the last_pymnt_d column's string values with dt values:\n",
        "df['last_pymnt_d'] = pd.to_datetime(df['last_pymnt_d'],infer_datetime_format=True)\n",
        "df['last_pymnt_d'].head()"
      ],
      "execution_count": 159,
      "outputs": [
        {
          "output_type": "execute_result",
          "data": {
            "text/plain": [
              "0   2019-09-01\n",
              "1   2019-04-01\n",
              "2   2019-09-01\n",
              "3   2019-09-01\n",
              "4   2019-04-01\n",
              "Name: last_pymnt_d, dtype: datetime64[ns]"
            ]
          },
          "metadata": {
            "tags": []
          },
          "execution_count": 159
        }
      ]
    },
    {
      "cell_type": "code",
      "metadata": {
        "id": "WFp_pj34Os9Q",
        "colab_type": "code",
        "colab": {}
      },
      "source": [
        "#creating new columns I am using the original df, but the intermediate df (test in this case) can also be used\n",
        "df['last_pymnt_d_year'] = df['last_pymnt_d'].dt.year\n",
        "df['last_pymnt_d_month'] = df['last_pymnt_d'].dt.month"
      ],
      "execution_count": 0,
      "outputs": []
    },
    {
      "cell_type": "code",
      "metadata": {
        "id": "zLtzO-RRPs9R",
        "colab_type": "code",
        "colab": {}
      },
      "source": [
        "#making sure that it worked:\n",
        "print(df['last_pymnt_d_year'].value_counts())\n",
        "print(df['last_pymnt_d_year'].head(),'\\n')\n",
        "print(df['last_pymnt_d_month'].value_counts())\n",
        "print(df['last_pymnt_d_month'].head())"
      ],
      "execution_count": 0,
      "outputs": []
    },
    {
      "cell_type": "markdown",
      "metadata": {
        "colab_type": "text",
        "id": "L8k0LiHmo5EU"
      },
      "source": [
        "# Stretch Goals\n",
        "\n",
        "You can do more with the LendingClub or Instacart datasets.\n",
        "\n",
        "LendingClub options:\n",
        "- There's one other column in the dataframe with percent signs. Remove them and convert to floats. You'll need to handle missing values.\n",
        "- Modify the `emp_title` column to replace titles with 'Other' if the title is not in the top 20. \n",
        "- Take initiatve and work on your own ideas!\n",
        "\n",
        "Instacart options:\n",
        "- Read [Instacart Market Basket Analysis, Winner's Interview: 2nd place, Kazuki Onodera](http://blog.kaggle.com/2017/09/21/instacart-market-basket-analysis-winners-interview-2nd-place-kazuki-onodera/), especially the **Feature Engineering** section. (Can you choose one feature from his bulleted lists, and try to engineer it with pandas code?)\n",
        "- Read and replicate parts of [Simple Exploration Notebook - Instacart](https://www.kaggle.com/sudalairajkumar/simple-exploration-notebook-instacart). (It's the Python Notebook with the most upvotes for this Kaggle competition.)\n",
        "- Take initiative and work on your own ideas!"
      ]
    },
    {
      "cell_type": "markdown",
      "metadata": {
        "colab_type": "text",
        "id": "0_7PXF7lpEXg"
      },
      "source": [
        "You can uncomment and run the cells below to re-download and extract the Instacart data"
      ]
    },
    {
      "cell_type": "code",
      "metadata": {
        "id": "urIePNa0yNG6",
        "colab_type": "code",
        "colab": {}
      },
      "source": [
        "# !wget https://s3.amazonaws.com/instacart-datasets/instacart_online_grocery_shopping_2017_05_01.tar.gz"
      ],
      "execution_count": 0,
      "outputs": []
    },
    {
      "cell_type": "code",
      "metadata": {
        "id": "X9zEyu-uyNG8",
        "colab_type": "code",
        "colab": {}
      },
      "source": [
        "# !tar --gunzip --extract --verbose --file=instacart_online_grocery_shopping_2017_05_01.tar.gz"
      ],
      "execution_count": 0,
      "outputs": []
    },
    {
      "cell_type": "code",
      "metadata": {
        "id": "Y3IqrhlpyNG-",
        "colab_type": "code",
        "colab": {}
      },
      "source": [
        "# %cd instacart_2017_05_01"
      ],
      "execution_count": 0,
      "outputs": []
    }
  ]
}