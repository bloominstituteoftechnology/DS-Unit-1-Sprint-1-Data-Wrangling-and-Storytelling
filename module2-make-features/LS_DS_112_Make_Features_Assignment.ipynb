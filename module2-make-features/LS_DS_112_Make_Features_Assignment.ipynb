{
 "cells": [
  {
   "cell_type": "code",
   "execution_count": 1,
   "metadata": {},
   "outputs": [],
   "source": [
    "# I have to add this to the beggining\n",
    "# of all code I do locally, as requests\n",
    "# complains when trying to grab data\n",
    "# sets from HTTPS\n",
    "\n",
    "import ssl\n",
    "\n",
    "try:\n",
    "    _create_unverified_https_context = ssl._create_unverified_context\n",
    "except AttributeError:\n",
    "    # Legacy Python that doesn't verify HTTPS certificates by default\n",
    "    pass\n",
    "else:\n",
    "    # Handle target environment that doesn't support HTTPS verification\n",
    "    ssl._create_default_https_context = _create_unverified_https_context"
   ]
  },
  {
   "cell_type": "markdown",
   "metadata": {
    "colab_type": "text",
    "id": "SnDJqBLi0FYW"
   },
   "source": [
    "<img align=\"left\" src=\"https://lever-client-logos.s3.amazonaws.com/864372b1-534c-480e-acd5-9711f850815c-1524247202159.png\" width=200> "
   ]
  },
  {
   "cell_type": "markdown",
   "metadata": {
    "colab_type": "text",
    "id": "W5GjI1z5yNG4"
   },
   "source": [
    "# Assignment:\n",
    "\n",
    "- Replicate the lesson code.\n",
    "\n",
    " - This means that if you haven't followed along already, type out the things that we did in class. Forcing your fingers to hit each key will help you internalize the syntax of what we're doing. Make sure you understand each line of code that you're writing, google things that you don't fully understand.\n",
    " - [Lambda Learning Method for DS - By Ryan Herr](https://docs.google.com/document/d/1ubOw9B3Hfip27hF2ZFnW3a3z9xAgrUDRReOEo-FHCVs/edit?usp=sharing)\n",
    "- Convert the `term` column from string to integer.\n",
    "- Make a column named `loan_status_is_great`. It should contain the integer 1 if `loan_status` is \"Current\" or \"Fully Paid.\" Else it should contain the integer 0.\n",
    "- Make `last_pymnt_d_month` and `last_pymnt_d_year` columns."
   ]
  },
  {
   "cell_type": "code",
   "execution_count": 2,
   "metadata": {
    "colab": {},
    "colab_type": "code",
    "id": "AazB4eFwym2p"
   },
   "outputs": [],
   "source": [
    "##### Begin Working Here #####\n",
    "import pandas as pd\n",
    "import numpy as np\n",
    "import matplotlib.pyplot as plt\n"
   ]
  },
  {
   "cell_type": "code",
   "execution_count": 3,
   "metadata": {},
   "outputs": [],
   "source": [
    "# Load the local dataset\n",
    "# We needed to skip the first row.\n",
    "# Also, we need to use skipfooter,\n",
    "# and the c engine does not support\n",
    "# skipfooter, so I specified python\n",
    "\n",
    "df_loan = pd.read_csv('../../data/LoanStats_2018Q4.csv', skiprows=1, skipfooter=2, engine='python')"
   ]
  },
  {
   "cell_type": "code",
   "execution_count": 4,
   "metadata": {},
   "outputs": [
    {
     "data": {
      "text/html": [
       "<div>\n",
       "<style scoped>\n",
       "    .dataframe tbody tr th:only-of-type {\n",
       "        vertical-align: middle;\n",
       "    }\n",
       "\n",
       "    .dataframe tbody tr th {\n",
       "        vertical-align: top;\n",
       "    }\n",
       "\n",
       "    .dataframe thead th {\n",
       "        text-align: right;\n",
       "    }\n",
       "</style>\n",
       "<table border=\"1\" class=\"dataframe\">\n",
       "  <thead>\n",
       "    <tr style=\"text-align: right;\">\n",
       "      <th></th>\n",
       "      <th>id</th>\n",
       "      <th>member_id</th>\n",
       "      <th>loan_amnt</th>\n",
       "      <th>funded_amnt</th>\n",
       "      <th>funded_amnt_inv</th>\n",
       "      <th>term</th>\n",
       "      <th>int_rate</th>\n",
       "      <th>installment</th>\n",
       "      <th>grade</th>\n",
       "      <th>sub_grade</th>\n",
       "      <th>...</th>\n",
       "      <th>orig_projected_additional_accrued_interest</th>\n",
       "      <th>hardship_payoff_balance_amount</th>\n",
       "      <th>hardship_last_payment_amount</th>\n",
       "      <th>debt_settlement_flag</th>\n",
       "      <th>debt_settlement_flag_date</th>\n",
       "      <th>settlement_status</th>\n",
       "      <th>settlement_date</th>\n",
       "      <th>settlement_amount</th>\n",
       "      <th>settlement_percentage</th>\n",
       "      <th>settlement_term</th>\n",
       "    </tr>\n",
       "  </thead>\n",
       "  <tbody>\n",
       "    <tr>\n",
       "      <th>0</th>\n",
       "      <td>NaN</td>\n",
       "      <td>NaN</td>\n",
       "      <td>35000</td>\n",
       "      <td>35000</td>\n",
       "      <td>35000.0</td>\n",
       "      <td>36 months</td>\n",
       "      <td>14.47%</td>\n",
       "      <td>1204.23</td>\n",
       "      <td>C</td>\n",
       "      <td>C2</td>\n",
       "      <td>...</td>\n",
       "      <td>NaN</td>\n",
       "      <td>NaN</td>\n",
       "      <td>NaN</td>\n",
       "      <td>N</td>\n",
       "      <td>NaN</td>\n",
       "      <td>NaN</td>\n",
       "      <td>NaN</td>\n",
       "      <td>NaN</td>\n",
       "      <td>NaN</td>\n",
       "      <td>NaN</td>\n",
       "    </tr>\n",
       "    <tr>\n",
       "      <th>1</th>\n",
       "      <td>NaN</td>\n",
       "      <td>NaN</td>\n",
       "      <td>5000</td>\n",
       "      <td>5000</td>\n",
       "      <td>5000.0</td>\n",
       "      <td>36 months</td>\n",
       "      <td>22.35%</td>\n",
       "      <td>191.86</td>\n",
       "      <td>D</td>\n",
       "      <td>D5</td>\n",
       "      <td>...</td>\n",
       "      <td>NaN</td>\n",
       "      <td>NaN</td>\n",
       "      <td>NaN</td>\n",
       "      <td>N</td>\n",
       "      <td>NaN</td>\n",
       "      <td>NaN</td>\n",
       "      <td>NaN</td>\n",
       "      <td>NaN</td>\n",
       "      <td>NaN</td>\n",
       "      <td>NaN</td>\n",
       "    </tr>\n",
       "    <tr>\n",
       "      <th>2</th>\n",
       "      <td>NaN</td>\n",
       "      <td>NaN</td>\n",
       "      <td>10000</td>\n",
       "      <td>10000</td>\n",
       "      <td>10000.0</td>\n",
       "      <td>60 months</td>\n",
       "      <td>23.40%</td>\n",
       "      <td>284.21</td>\n",
       "      <td>E</td>\n",
       "      <td>E1</td>\n",
       "      <td>...</td>\n",
       "      <td>NaN</td>\n",
       "      <td>NaN</td>\n",
       "      <td>NaN</td>\n",
       "      <td>N</td>\n",
       "      <td>NaN</td>\n",
       "      <td>NaN</td>\n",
       "      <td>NaN</td>\n",
       "      <td>NaN</td>\n",
       "      <td>NaN</td>\n",
       "      <td>NaN</td>\n",
       "    </tr>\n",
       "    <tr>\n",
       "      <th>3</th>\n",
       "      <td>NaN</td>\n",
       "      <td>NaN</td>\n",
       "      <td>17100</td>\n",
       "      <td>17100</td>\n",
       "      <td>17100.0</td>\n",
       "      <td>36 months</td>\n",
       "      <td>18.94%</td>\n",
       "      <td>626.30</td>\n",
       "      <td>D</td>\n",
       "      <td>D2</td>\n",
       "      <td>...</td>\n",
       "      <td>NaN</td>\n",
       "      <td>NaN</td>\n",
       "      <td>NaN</td>\n",
       "      <td>N</td>\n",
       "      <td>NaN</td>\n",
       "      <td>NaN</td>\n",
       "      <td>NaN</td>\n",
       "      <td>NaN</td>\n",
       "      <td>NaN</td>\n",
       "      <td>NaN</td>\n",
       "    </tr>\n",
       "    <tr>\n",
       "      <th>4</th>\n",
       "      <td>NaN</td>\n",
       "      <td>NaN</td>\n",
       "      <td>4000</td>\n",
       "      <td>4000</td>\n",
       "      <td>4000.0</td>\n",
       "      <td>36 months</td>\n",
       "      <td>10.72%</td>\n",
       "      <td>130.43</td>\n",
       "      <td>B</td>\n",
       "      <td>B2</td>\n",
       "      <td>...</td>\n",
       "      <td>NaN</td>\n",
       "      <td>NaN</td>\n",
       "      <td>NaN</td>\n",
       "      <td>N</td>\n",
       "      <td>NaN</td>\n",
       "      <td>NaN</td>\n",
       "      <td>NaN</td>\n",
       "      <td>NaN</td>\n",
       "      <td>NaN</td>\n",
       "      <td>NaN</td>\n",
       "    </tr>\n",
       "  </tbody>\n",
       "</table>\n",
       "<p>5 rows × 144 columns</p>\n",
       "</div>"
      ],
      "text/plain": [
       "   id  member_id  loan_amnt  funded_amnt  funded_amnt_inv        term  \\\n",
       "0 NaN        NaN      35000        35000          35000.0   36 months   \n",
       "1 NaN        NaN       5000         5000           5000.0   36 months   \n",
       "2 NaN        NaN      10000        10000          10000.0   60 months   \n",
       "3 NaN        NaN      17100        17100          17100.0   36 months   \n",
       "4 NaN        NaN       4000         4000           4000.0   36 months   \n",
       "\n",
       "  int_rate  installment grade sub_grade  ...  \\\n",
       "0   14.47%      1204.23     C        C2  ...   \n",
       "1   22.35%       191.86     D        D5  ...   \n",
       "2   23.40%       284.21     E        E1  ...   \n",
       "3   18.94%       626.30     D        D2  ...   \n",
       "4   10.72%       130.43     B        B2  ...   \n",
       "\n",
       "  orig_projected_additional_accrued_interest hardship_payoff_balance_amount  \\\n",
       "0                                        NaN                            NaN   \n",
       "1                                        NaN                            NaN   \n",
       "2                                        NaN                            NaN   \n",
       "3                                        NaN                            NaN   \n",
       "4                                        NaN                            NaN   \n",
       "\n",
       "  hardship_last_payment_amount  debt_settlement_flag  \\\n",
       "0                          NaN                     N   \n",
       "1                          NaN                     N   \n",
       "2                          NaN                     N   \n",
       "3                          NaN                     N   \n",
       "4                          NaN                     N   \n",
       "\n",
       "  debt_settlement_flag_date settlement_status settlement_date  \\\n",
       "0                       NaN               NaN             NaN   \n",
       "1                       NaN               NaN             NaN   \n",
       "2                       NaN               NaN             NaN   \n",
       "3                       NaN               NaN             NaN   \n",
       "4                       NaN               NaN             NaN   \n",
       "\n",
       "  settlement_amount  settlement_percentage  settlement_term  \n",
       "0               NaN                    NaN              NaN  \n",
       "1               NaN                    NaN              NaN  \n",
       "2               NaN                    NaN              NaN  \n",
       "3               NaN                    NaN              NaN  \n",
       "4               NaN                    NaN              NaN  \n",
       "\n",
       "[5 rows x 144 columns]"
      ]
     },
     "execution_count": 4,
     "metadata": {},
     "output_type": "execute_result"
    }
   ],
   "source": [
    "# Take a look at the head\n",
    "df_loan.head()"
   ]
  },
  {
   "cell_type": "code",
   "execution_count": 5,
   "metadata": {},
   "outputs": [
    {
     "data": {
      "text/plain": [
       "inq_fi                                             0\n",
       "delinq_amnt                                        0\n",
       "chargeoff_within_12_mths                           0\n",
       "acc_open_past_24mths                               0\n",
       "inq_last_12m                                       0\n",
       "total_cu_tl                                        0\n",
       "total_rev_hi_lim                                   0\n",
       "max_bal_bc                                         0\n",
       "open_rv_24m                                        0\n",
       "open_rv_12m                                        0\n",
       "total_bal_il                                       0\n",
       "open_il_24m                                        0\n",
       "hardship_flag                                      0\n",
       "open_act_il                                        0\n",
       "open_acc_6m                                        0\n",
       "tot_cur_bal                                        0\n",
       "tot_coll_amt                                       0\n",
       "acc_now_delinq                                     0\n",
       "application_type                                   0\n",
       "policy_code                                        0\n",
       "mo_sin_old_rev_tl_op                               0\n",
       "mo_sin_rcnt_rev_tl_op                              0\n",
       "mo_sin_rcnt_tl                                     0\n",
       "mort_acc                                           0\n",
       "total_il_high_credit_limit                         0\n",
       "total_bc_limit                                     0\n",
       "total_bal_ex_mort                                  0\n",
       "tot_hi_cred_lim                                    0\n",
       "tax_liens                                          0\n",
       "pub_rec_bankruptcies                               0\n",
       "pct_tl_nvr_dlq                                     0\n",
       "num_tl_op_past_12m                                 0\n",
       "num_tl_90g_dpd_24m                                 0\n",
       "collections_12_mths_ex_med                         0\n",
       "num_tl_30dpd                                       0\n",
       "num_rev_tl_bal_gt_0                                0\n",
       "num_rev_accts                                      0\n",
       "num_op_rev_tl                                      0\n",
       "num_il_tl                                          0\n",
       "num_bc_tl                                          0\n",
       "num_bc_sats                                        0\n",
       "num_actv_rev_tl                                    0\n",
       "num_actv_bc_tl                                     0\n",
       "num_accts_ever_120_pd                              0\n",
       "num_sats                                           0\n",
       "last_pymnt_amnt                                    0\n",
       "open_il_12m                                        0\n",
       "debt_settlement_flag                               0\n",
       "pub_rec                                            0\n",
       "open_acc                                           0\n",
       "grade                                              0\n",
       "sub_grade                                          0\n",
       "home_ownership                                     0\n",
       "inq_last_6mths                                     0\n",
       "annual_inc                                         0\n",
       "verification_status                                0\n",
       "earliest_cr_line                                   0\n",
       "delinq_2yrs                                        0\n",
       "issue_d                                            0\n",
       "addr_state                                         0\n",
       "zip_code                                           0\n",
       "title                                              0\n",
       "loan_status                                        0\n",
       "pymnt_plan                                         0\n",
       "installment                                        0\n",
       "revol_bal                                          0\n",
       "term                                               0\n",
       "collection_recovery_fee                            0\n",
       "loan_amnt                                          0\n",
       "recoveries                                         0\n",
       "total_rec_late_fee                                 0\n",
       "funded_amnt                                        0\n",
       "funded_amnt_inv                                    0\n",
       "total_acc                                          0\n",
       "total_rec_int                                      0\n",
       "purpose                                            0\n",
       "total_rec_prncp                                    0\n",
       "total_pymnt_inv                                    0\n",
       "total_pymnt                                        0\n",
       "out_prncp_inv                                      0\n",
       "out_prncp                                          0\n",
       "initial_list_status                                0\n",
       "int_rate                                           0\n",
       "last_credit_pull_d                                 1\n",
       "avg_cur_bal                                       13\n",
       "all_util                                          37\n",
       "revol_util                                       156\n",
       "last_pymnt_d                                     159\n",
       "dti                                              237\n",
       "mths_since_recent_bc                            1591\n",
       "bc_open_to_buy                                  1691\n",
       "percent_bc_gt_75                                1692\n",
       "bc_util                                         1754\n",
       "num_tl_120dpd_2m                                2859\n",
       "mths_since_rcnt_il                              4478\n",
       "mo_sin_old_il_acct                              4478\n",
       "emp_length                                     11704\n",
       "mths_since_recent_inq                          16047\n",
       "il_util                                        20274\n",
       "emp_title                                      20947\n",
       "next_pymnt_d                                   29644\n",
       "mths_since_last_delinq                         72196\n",
       "mths_since_recent_revol_delinq                 91630\n",
       "mths_since_last_major_derog                    99232\n",
       "mths_since_recent_bc_dlq                      103243\n",
       "sec_app_open_acc                              111630\n",
       "sec_app_mort_acc                              111630\n",
       "sec_app_inq_last_6mths                        111630\n",
       "sec_app_earliest_cr_line                      111630\n",
       "revol_bal_joint                               111630\n",
       "sec_app_open_act_il                           111630\n",
       "annual_inc_joint                              111630\n",
       "dti_joint                                     111630\n",
       "sec_app_collections_12_mths_ex_med            111630\n",
       "sec_app_chargeoff_within_12_mths              111630\n",
       "sec_app_num_rev_accts                         111630\n",
       "sec_app_revol_util                            111888\n",
       "mths_since_last_record                        112962\n",
       "verification_status_joint                     113564\n",
       "sec_app_mths_since_last_major_derog           123258\n",
       "debt_settlement_flag_date                     127857\n",
       "settlement_date                               127857\n",
       "settlement_amount                             127857\n",
       "settlement_status                             127857\n",
       "settlement_term                               127857\n",
       "settlement_percentage                         127857\n",
       "hardship_status                               128130\n",
       "deferral_term                                 128130\n",
       "hardship_amount                               128130\n",
       "hardship_start_date                           128130\n",
       "hardship_end_date                             128130\n",
       "payment_plan_start_date                       128130\n",
       "hardship_length                               128130\n",
       "hardship_dpd                                  128130\n",
       "hardship_loan_status                          128130\n",
       "hardship_reason                               128130\n",
       "hardship_payoff_balance_amount                128130\n",
       "hardship_last_payment_amount                  128130\n",
       "hardship_type                                 128130\n",
       "orig_projected_additional_accrued_interest    128172\n",
       "url                                           128412\n",
       "member_id                                     128412\n",
       "desc                                          128412\n",
       "id                                            128412\n",
       "dtype: int64"
      ]
     },
     "execution_count": 5,
     "metadata": {},
     "output_type": "execute_result"
    }
   ],
   "source": [
    "# Need to see more columns\n",
    "pd.set_option('display.max_rows', 150)\n",
    "\n",
    "# Check for nulls\n",
    "df_loan.isnull().sum().sort_values()"
   ]
  },
  {
   "cell_type": "code",
   "execution_count": 6,
   "metadata": {},
   "outputs": [],
   "source": [
    "# Drop some columns \n",
    "df_loan = df_loan.drop(['url', \n",
    "                        'member_id', \n",
    "                        'desc', \n",
    "                        'id'], axis=1)"
   ]
  },
  {
   "cell_type": "code",
   "execution_count": 7,
   "metadata": {},
   "outputs": [
    {
     "data": {
      "text/html": [
       "<div>\n",
       "<style scoped>\n",
       "    .dataframe tbody tr th:only-of-type {\n",
       "        vertical-align: middle;\n",
       "    }\n",
       "\n",
       "    .dataframe tbody tr th {\n",
       "        vertical-align: top;\n",
       "    }\n",
       "\n",
       "    .dataframe thead th {\n",
       "        text-align: right;\n",
       "    }\n",
       "</style>\n",
       "<table border=\"1\" class=\"dataframe\">\n",
       "  <thead>\n",
       "    <tr style=\"text-align: right;\">\n",
       "      <th></th>\n",
       "      <th>loan_amnt</th>\n",
       "      <th>funded_amnt</th>\n",
       "      <th>funded_amnt_inv</th>\n",
       "      <th>term</th>\n",
       "      <th>int_rate</th>\n",
       "      <th>installment</th>\n",
       "      <th>grade</th>\n",
       "      <th>sub_grade</th>\n",
       "      <th>emp_title</th>\n",
       "      <th>emp_length</th>\n",
       "      <th>...</th>\n",
       "      <th>orig_projected_additional_accrued_interest</th>\n",
       "      <th>hardship_payoff_balance_amount</th>\n",
       "      <th>hardship_last_payment_amount</th>\n",
       "      <th>debt_settlement_flag</th>\n",
       "      <th>debt_settlement_flag_date</th>\n",
       "      <th>settlement_status</th>\n",
       "      <th>settlement_date</th>\n",
       "      <th>settlement_amount</th>\n",
       "      <th>settlement_percentage</th>\n",
       "      <th>settlement_term</th>\n",
       "    </tr>\n",
       "  </thead>\n",
       "  <tbody>\n",
       "    <tr>\n",
       "      <th>0</th>\n",
       "      <td>35000</td>\n",
       "      <td>35000</td>\n",
       "      <td>35000.0</td>\n",
       "      <td>36 months</td>\n",
       "      <td>14.47%</td>\n",
       "      <td>1204.23</td>\n",
       "      <td>C</td>\n",
       "      <td>C2</td>\n",
       "      <td>Staff Physician</td>\n",
       "      <td>8 years</td>\n",
       "      <td>...</td>\n",
       "      <td>NaN</td>\n",
       "      <td>NaN</td>\n",
       "      <td>NaN</td>\n",
       "      <td>N</td>\n",
       "      <td>NaN</td>\n",
       "      <td>NaN</td>\n",
       "      <td>NaN</td>\n",
       "      <td>NaN</td>\n",
       "      <td>NaN</td>\n",
       "      <td>NaN</td>\n",
       "    </tr>\n",
       "    <tr>\n",
       "      <th>1</th>\n",
       "      <td>5000</td>\n",
       "      <td>5000</td>\n",
       "      <td>5000.0</td>\n",
       "      <td>36 months</td>\n",
       "      <td>22.35%</td>\n",
       "      <td>191.86</td>\n",
       "      <td>D</td>\n",
       "      <td>D5</td>\n",
       "      <td>Director of Sales</td>\n",
       "      <td>10+ years</td>\n",
       "      <td>...</td>\n",
       "      <td>NaN</td>\n",
       "      <td>NaN</td>\n",
       "      <td>NaN</td>\n",
       "      <td>N</td>\n",
       "      <td>NaN</td>\n",
       "      <td>NaN</td>\n",
       "      <td>NaN</td>\n",
       "      <td>NaN</td>\n",
       "      <td>NaN</td>\n",
       "      <td>NaN</td>\n",
       "    </tr>\n",
       "    <tr>\n",
       "      <th>2</th>\n",
       "      <td>10000</td>\n",
       "      <td>10000</td>\n",
       "      <td>10000.0</td>\n",
       "      <td>60 months</td>\n",
       "      <td>23.40%</td>\n",
       "      <td>284.21</td>\n",
       "      <td>E</td>\n",
       "      <td>E1</td>\n",
       "      <td>NaN</td>\n",
       "      <td>&lt; 1 year</td>\n",
       "      <td>...</td>\n",
       "      <td>NaN</td>\n",
       "      <td>NaN</td>\n",
       "      <td>NaN</td>\n",
       "      <td>N</td>\n",
       "      <td>NaN</td>\n",
       "      <td>NaN</td>\n",
       "      <td>NaN</td>\n",
       "      <td>NaN</td>\n",
       "      <td>NaN</td>\n",
       "      <td>NaN</td>\n",
       "    </tr>\n",
       "    <tr>\n",
       "      <th>3</th>\n",
       "      <td>17100</td>\n",
       "      <td>17100</td>\n",
       "      <td>17100.0</td>\n",
       "      <td>36 months</td>\n",
       "      <td>18.94%</td>\n",
       "      <td>626.30</td>\n",
       "      <td>D</td>\n",
       "      <td>D2</td>\n",
       "      <td>Receptionist</td>\n",
       "      <td>10+ years</td>\n",
       "      <td>...</td>\n",
       "      <td>NaN</td>\n",
       "      <td>NaN</td>\n",
       "      <td>NaN</td>\n",
       "      <td>N</td>\n",
       "      <td>NaN</td>\n",
       "      <td>NaN</td>\n",
       "      <td>NaN</td>\n",
       "      <td>NaN</td>\n",
       "      <td>NaN</td>\n",
       "      <td>NaN</td>\n",
       "    </tr>\n",
       "    <tr>\n",
       "      <th>4</th>\n",
       "      <td>4000</td>\n",
       "      <td>4000</td>\n",
       "      <td>4000.0</td>\n",
       "      <td>36 months</td>\n",
       "      <td>10.72%</td>\n",
       "      <td>130.43</td>\n",
       "      <td>B</td>\n",
       "      <td>B2</td>\n",
       "      <td>Extrusion assistant</td>\n",
       "      <td>10+ years</td>\n",
       "      <td>...</td>\n",
       "      <td>NaN</td>\n",
       "      <td>NaN</td>\n",
       "      <td>NaN</td>\n",
       "      <td>N</td>\n",
       "      <td>NaN</td>\n",
       "      <td>NaN</td>\n",
       "      <td>NaN</td>\n",
       "      <td>NaN</td>\n",
       "      <td>NaN</td>\n",
       "      <td>NaN</td>\n",
       "    </tr>\n",
       "  </tbody>\n",
       "</table>\n",
       "<p>5 rows × 140 columns</p>\n",
       "</div>"
      ],
      "text/plain": [
       "   loan_amnt  funded_amnt  funded_amnt_inv        term int_rate  installment  \\\n",
       "0      35000        35000          35000.0   36 months   14.47%      1204.23   \n",
       "1       5000         5000           5000.0   36 months   22.35%       191.86   \n",
       "2      10000        10000          10000.0   60 months   23.40%       284.21   \n",
       "3      17100        17100          17100.0   36 months   18.94%       626.30   \n",
       "4       4000         4000           4000.0   36 months   10.72%       130.43   \n",
       "\n",
       "  grade sub_grade             emp_title emp_length  ...  \\\n",
       "0     C        C2       Staff Physician    8 years  ...   \n",
       "1     D        D5     Director of Sales  10+ years  ...   \n",
       "2     E        E1                   NaN   < 1 year  ...   \n",
       "3     D        D2         Receptionist   10+ years  ...   \n",
       "4     B        B2  Extrusion assistant   10+ years  ...   \n",
       "\n",
       "  orig_projected_additional_accrued_interest  hardship_payoff_balance_amount  \\\n",
       "0                                        NaN                             NaN   \n",
       "1                                        NaN                             NaN   \n",
       "2                                        NaN                             NaN   \n",
       "3                                        NaN                             NaN   \n",
       "4                                        NaN                             NaN   \n",
       "\n",
       "  hardship_last_payment_amount debt_settlement_flag debt_settlement_flag_date  \\\n",
       "0                          NaN                    N                       NaN   \n",
       "1                          NaN                    N                       NaN   \n",
       "2                          NaN                    N                       NaN   \n",
       "3                          NaN                    N                       NaN   \n",
       "4                          NaN                    N                       NaN   \n",
       "\n",
       "  settlement_status settlement_date settlement_amount settlement_percentage  \\\n",
       "0               NaN             NaN               NaN                   NaN   \n",
       "1               NaN             NaN               NaN                   NaN   \n",
       "2               NaN             NaN               NaN                   NaN   \n",
       "3               NaN             NaN               NaN                   NaN   \n",
       "4               NaN             NaN               NaN                   NaN   \n",
       "\n",
       "  settlement_term  \n",
       "0             NaN  \n",
       "1             NaN  \n",
       "2             NaN  \n",
       "3             NaN  \n",
       "4             NaN  \n",
       "\n",
       "[5 rows x 140 columns]"
      ]
     },
     "execution_count": 7,
     "metadata": {},
     "output_type": "execute_result"
    }
   ],
   "source": [
    "# Take a look at the head\n",
    "df_loan.head()"
   ]
  },
  {
   "cell_type": "code",
   "execution_count": 8,
   "metadata": {},
   "outputs": [
    {
     "data": {
      "text/plain": [
       "loan_amnt                                       int64\n",
       "funded_amnt                                     int64\n",
       "funded_amnt_inv                               float64\n",
       "term                                           object\n",
       "int_rate                                       object\n",
       "installment                                   float64\n",
       "grade                                          object\n",
       "sub_grade                                      object\n",
       "emp_title                                      object\n",
       "emp_length                                     object\n",
       "home_ownership                                 object\n",
       "annual_inc                                    float64\n",
       "verification_status                            object\n",
       "issue_d                                        object\n",
       "loan_status                                    object\n",
       "pymnt_plan                                     object\n",
       "purpose                                        object\n",
       "title                                          object\n",
       "zip_code                                       object\n",
       "addr_state                                     object\n",
       "dti                                           float64\n",
       "delinq_2yrs                                     int64\n",
       "earliest_cr_line                               object\n",
       "inq_last_6mths                                  int64\n",
       "mths_since_last_delinq                        float64\n",
       "mths_since_last_record                        float64\n",
       "open_acc                                        int64\n",
       "pub_rec                                         int64\n",
       "revol_bal                                       int64\n",
       "revol_util                                     object\n",
       "total_acc                                       int64\n",
       "initial_list_status                            object\n",
       "out_prncp                                     float64\n",
       "out_prncp_inv                                 float64\n",
       "total_pymnt                                   float64\n",
       "total_pymnt_inv                               float64\n",
       "total_rec_prncp                               float64\n",
       "total_rec_int                                 float64\n",
       "total_rec_late_fee                            float64\n",
       "recoveries                                    float64\n",
       "collection_recovery_fee                       float64\n",
       "last_pymnt_d                                   object\n",
       "last_pymnt_amnt                               float64\n",
       "next_pymnt_d                                   object\n",
       "last_credit_pull_d                             object\n",
       "collections_12_mths_ex_med                      int64\n",
       "mths_since_last_major_derog                   float64\n",
       "policy_code                                     int64\n",
       "application_type                               object\n",
       "annual_inc_joint                              float64\n",
       "dti_joint                                     float64\n",
       "verification_status_joint                      object\n",
       "acc_now_delinq                                  int64\n",
       "tot_coll_amt                                    int64\n",
       "tot_cur_bal                                     int64\n",
       "open_acc_6m                                     int64\n",
       "open_act_il                                     int64\n",
       "open_il_12m                                     int64\n",
       "open_il_24m                                     int64\n",
       "mths_since_rcnt_il                            float64\n",
       "total_bal_il                                    int64\n",
       "il_util                                       float64\n",
       "open_rv_12m                                     int64\n",
       "open_rv_24m                                     int64\n",
       "max_bal_bc                                      int64\n",
       "all_util                                      float64\n",
       "total_rev_hi_lim                                int64\n",
       "inq_fi                                          int64\n",
       "total_cu_tl                                     int64\n",
       "inq_last_12m                                    int64\n",
       "acc_open_past_24mths                            int64\n",
       "avg_cur_bal                                   float64\n",
       "bc_open_to_buy                                float64\n",
       "bc_util                                       float64\n",
       "chargeoff_within_12_mths                        int64\n",
       "delinq_amnt                                     int64\n",
       "mo_sin_old_il_acct                            float64\n",
       "mo_sin_old_rev_tl_op                            int64\n",
       "mo_sin_rcnt_rev_tl_op                           int64\n",
       "mo_sin_rcnt_tl                                  int64\n",
       "mort_acc                                        int64\n",
       "mths_since_recent_bc                          float64\n",
       "mths_since_recent_bc_dlq                      float64\n",
       "mths_since_recent_inq                         float64\n",
       "mths_since_recent_revol_delinq                float64\n",
       "num_accts_ever_120_pd                           int64\n",
       "num_actv_bc_tl                                  int64\n",
       "num_actv_rev_tl                                 int64\n",
       "num_bc_sats                                     int64\n",
       "num_bc_tl                                       int64\n",
       "num_il_tl                                       int64\n",
       "num_op_rev_tl                                   int64\n",
       "num_rev_accts                                   int64\n",
       "num_rev_tl_bal_gt_0                             int64\n",
       "num_sats                                        int64\n",
       "num_tl_120dpd_2m                              float64\n",
       "num_tl_30dpd                                    int64\n",
       "num_tl_90g_dpd_24m                              int64\n",
       "num_tl_op_past_12m                              int64\n",
       "pct_tl_nvr_dlq                                float64\n",
       "percent_bc_gt_75                              float64\n",
       "pub_rec_bankruptcies                            int64\n",
       "tax_liens                                       int64\n",
       "tot_hi_cred_lim                                 int64\n",
       "total_bal_ex_mort                               int64\n",
       "total_bc_limit                                  int64\n",
       "total_il_high_credit_limit                      int64\n",
       "revol_bal_joint                               float64\n",
       "sec_app_earliest_cr_line                       object\n",
       "sec_app_inq_last_6mths                        float64\n",
       "sec_app_mort_acc                              float64\n",
       "sec_app_open_acc                              float64\n",
       "sec_app_revol_util                            float64\n",
       "sec_app_open_act_il                           float64\n",
       "sec_app_num_rev_accts                         float64\n",
       "sec_app_chargeoff_within_12_mths              float64\n",
       "sec_app_collections_12_mths_ex_med            float64\n",
       "sec_app_mths_since_last_major_derog           float64\n",
       "hardship_flag                                  object\n",
       "hardship_type                                  object\n",
       "hardship_reason                                object\n",
       "hardship_status                                object\n",
       "deferral_term                                 float64\n",
       "hardship_amount                               float64\n",
       "hardship_start_date                            object\n",
       "hardship_end_date                              object\n",
       "payment_plan_start_date                        object\n",
       "hardship_length                               float64\n",
       "hardship_dpd                                  float64\n",
       "hardship_loan_status                           object\n",
       "orig_projected_additional_accrued_interest    float64\n",
       "hardship_payoff_balance_amount                float64\n",
       "hardship_last_payment_amount                  float64\n",
       "debt_settlement_flag                           object\n",
       "debt_settlement_flag_date                      object\n",
       "settlement_status                              object\n",
       "settlement_date                                object\n",
       "settlement_amount                             float64\n",
       "settlement_percentage                         float64\n",
       "settlement_term                               float64\n",
       "dtype: object"
      ]
     },
     "execution_count": 8,
     "metadata": {},
     "output_type": "execute_result"
    }
   ],
   "source": [
    "# Data types?\n",
    "df_loan.dtypes"
   ]
  },
  {
   "cell_type": "code",
   "execution_count": 9,
   "metadata": {},
   "outputs": [
    {
     "data": {
      "text/plain": [
       "0     36 months\n",
       "1     36 months\n",
       "2     60 months\n",
       "3     36 months\n",
       "4     36 months\n",
       "Name: term, dtype: object"
      ]
     },
     "execution_count": 9,
     "metadata": {},
     "output_type": "execute_result"
    }
   ],
   "source": [
    "# Converting the term column to int\n",
    "df_loan['term'].head()"
   ]
  },
  {
   "cell_type": "code",
   "execution_count": 10,
   "metadata": {},
   "outputs": [
    {
     "data": {
      "text/plain": [
       "0    36\n",
       "1    36\n",
       "2    60\n",
       "3    36\n",
       "4    36\n",
       "Name: term, dtype: int64"
      ]
     },
     "execution_count": 10,
     "metadata": {},
     "output_type": "execute_result"
    }
   ],
   "source": [
    "df_loan['term'] = df_loan['term'].map(lambda s: s.rstrip(' months'))\n",
    "df_loan['term'] = df_loan['term'].astype(int)\n",
    "df_loan['term'].head()\n"
   ]
  },
  {
   "cell_type": "code",
   "execution_count": 11,
   "metadata": {},
   "outputs": [
    {
     "data": {
      "text/plain": [
       "array([' 14.47%', ' 22.35%', ' 23.40%', ' 18.94%', ' 10.72%', ' 11.31%',\n",
       "       ' 11.80%', ' 16.91%', ' 17.97%', ' 19.92%', ' 26.31%', ' 20.89%',\n",
       "       ' 16.14%', ' 12.98%', ' 10.33%', ' 15.02%', '  6.46%', ' 27.27%',\n",
       "       '  7.56%', ' 13.56%', '  8.19%', '  8.81%', ' 30.75%', ' 25.34%',\n",
       "       '  7.02%', ' 24.37%', ' 30.65%', '  6.00%', ' 30.79%', ' 30.84%',\n",
       "       ' 28.72%', ' 11.06%', '  7.21%', ' 12.73%', ' 11.55%', '  8.46%',\n",
       "       ' 29.69%', '  6.11%', '  7.84%', '  6.67%', ' 10.47%', ' 30.17%',\n",
       "       ' 10.08%', ' 30.94%', ' 30.89%', ' 30.99%'], dtype=object)"
      ]
     },
     "execution_count": 11,
     "metadata": {},
     "output_type": "execute_result"
    }
   ],
   "source": [
    "# The first thing I see is that\n",
    "# the int_rate column has been\n",
    "# cast as a string, wheh it \n",
    "# should be a number. Cleaning up \n",
    "# int rate column. Why is a it a \n",
    "# string?\n",
    "df_loan['int_rate'].unique()"
   ]
  },
  {
   "cell_type": "code",
   "execution_count": 12,
   "metadata": {},
   "outputs": [],
   "source": [
    "# I can see the extra space, and the % symbol\n",
    "# causing pandas to cast this as an object (string)\n",
    "# strip the leading and trailing characters\n",
    "df_loan['int_rate'] = df_loan['int_rate'].map(lambda s: s.lstrip(' ').rstrip('%'))\n",
    "\n",
    "#"
   ]
  },
  {
   "cell_type": "code",
   "execution_count": 13,
   "metadata": {},
   "outputs": [
    {
     "data": {
      "text/plain": [
       "array(['14.47', '22.35', '23.40', '18.94', '10.72', '11.31', '11.80',\n",
       "       '16.91', '17.97', '19.92', '26.31', '20.89', '16.14', '12.98',\n",
       "       '10.33', '15.02', '6.46', '27.27', '7.56', '13.56', '8.19', '8.81',\n",
       "       '30.75', '25.34', '7.02', '24.37', '30.65', '6.00', '30.79',\n",
       "       '30.84', '28.72', '11.06', '7.21', '12.73', '11.55', '8.46',\n",
       "       '29.69', '6.11', '7.84', '6.67', '10.47', '30.17', '10.08',\n",
       "       '30.94', '30.89', '30.99'], dtype=object)"
      ]
     },
     "execution_count": 13,
     "metadata": {},
     "output_type": "execute_result"
    }
   ],
   "source": [
    "# Did it work?\n",
    "df_loan['int_rate'].unique()\n"
   ]
  },
  {
   "cell_type": "code",
   "execution_count": 14,
   "metadata": {},
   "outputs": [],
   "source": [
    "# Convert the column to float\n",
    "# and convert the % to their\n",
    "# decimal equalivant\n",
    "df_loan['int_rate'] = df_loan['int_rate'].astype(float) / 100"
   ]
  },
  {
   "cell_type": "code",
   "execution_count": 15,
   "metadata": {},
   "outputs": [
    {
     "data": {
      "text/plain": [
       "dtype('float64')"
      ]
     },
     "execution_count": 15,
     "metadata": {},
     "output_type": "execute_result"
    }
   ],
   "source": [
    "# Is it a float?\n",
    "df_loan['int_rate'].dtype\n"
   ]
  },
  {
   "cell_type": "code",
   "execution_count": 16,
   "metadata": {},
   "outputs": [
    {
     "data": {
      "text/plain": [
       "0    0.1447\n",
       "1    0.2235\n",
       "2    0.2340\n",
       "3    0.1894\n",
       "4    0.1072\n",
       "Name: int_rate, dtype: float64"
      ]
     },
     "execution_count": 16,
     "metadata": {},
     "output_type": "execute_result"
    }
   ],
   "source": [
    "# What does it look like\n",
    "df_loan['int_rate'].head()"
   ]
  },
  {
   "cell_type": "code",
   "execution_count": 17,
   "metadata": {},
   "outputs": [],
   "source": [
    "# Create the loan_status_is_great Column\n",
    "\n",
    "def getloanstatus(c):\n",
    "    if c == 'Current' or c == 'Fully Paid':\n",
    "        return 1\n",
    "    else:\n",
    "        return 0\n",
    "\n",
    "df_loan['loan_status_is_great'] = df_loan['loan_status'].apply(getloanstatus)"
   ]
  },
  {
   "cell_type": "code",
   "execution_count": 18,
   "metadata": {},
   "outputs": [
    {
     "data": {
      "text/plain": [
       "0   2019-08-01\n",
       "1   2019-07-01\n",
       "2   2020-01-01\n",
       "3   2020-01-01\n",
       "4   2020-01-01\n",
       "Name: last_pymnt_d, dtype: datetime64[ns]"
      ]
     },
     "execution_count": 18,
     "metadata": {},
     "output_type": "execute_result"
    }
   ],
   "source": [
    "# Create the last_pymnt_d_month and last_pymnt_d_year columns.\n",
    "# last_pymnt_d has NaN's, need to remove those rows\n",
    "df_loan = df_loan[pd.notnull(df_loan['last_pymnt_d'])]\n",
    "\n",
    "# Need to cast the last_pymnt_d to datetime\n",
    "df_loan['last_pymnt_d'] = pd.to_datetime(df_loan['last_pymnt_d'])\n",
    "# Did it work?\n",
    "df_loan['last_pymnt_d'].head()"
   ]
  },
  {
   "cell_type": "code",
   "execution_count": 19,
   "metadata": {},
   "outputs": [],
   "source": [
    "# Create a column for the Year\n",
    "df_loan['last_pymnt_d_year'] = df_loan['last_pymnt_d'].dt.year\n",
    "\n",
    "# Create a column for the Month\n",
    "df_loan['last_pymnt_d_month'] = df_loan['last_pymnt_d'].dt.month\n",
    "\n"
   ]
  },
  {
   "cell_type": "code",
   "execution_count": 20,
   "metadata": {},
   "outputs": [
    {
     "data": {
      "text/html": [
       "<div>\n",
       "<style scoped>\n",
       "    .dataframe tbody tr th:only-of-type {\n",
       "        vertical-align: middle;\n",
       "    }\n",
       "\n",
       "    .dataframe tbody tr th {\n",
       "        vertical-align: top;\n",
       "    }\n",
       "\n",
       "    .dataframe thead th {\n",
       "        text-align: right;\n",
       "    }\n",
       "</style>\n",
       "<table border=\"1\" class=\"dataframe\">\n",
       "  <thead>\n",
       "    <tr style=\"text-align: right;\">\n",
       "      <th></th>\n",
       "      <th>last_pymnt_d</th>\n",
       "      <th>last_pymnt_d_month</th>\n",
       "      <th>last_pymnt_d_year</th>\n",
       "    </tr>\n",
       "  </thead>\n",
       "  <tbody>\n",
       "    <tr>\n",
       "      <th>0</th>\n",
       "      <td>2019-08-01</td>\n",
       "      <td>8</td>\n",
       "      <td>2019</td>\n",
       "    </tr>\n",
       "    <tr>\n",
       "      <th>1</th>\n",
       "      <td>2019-07-01</td>\n",
       "      <td>7</td>\n",
       "      <td>2019</td>\n",
       "    </tr>\n",
       "    <tr>\n",
       "      <th>2</th>\n",
       "      <td>2020-01-01</td>\n",
       "      <td>1</td>\n",
       "      <td>2020</td>\n",
       "    </tr>\n",
       "    <tr>\n",
       "      <th>3</th>\n",
       "      <td>2020-01-01</td>\n",
       "      <td>1</td>\n",
       "      <td>2020</td>\n",
       "    </tr>\n",
       "    <tr>\n",
       "      <th>4</th>\n",
       "      <td>2020-01-01</td>\n",
       "      <td>1</td>\n",
       "      <td>2020</td>\n",
       "    </tr>\n",
       "  </tbody>\n",
       "</table>\n",
       "</div>"
      ],
      "text/plain": [
       "  last_pymnt_d  last_pymnt_d_month  last_pymnt_d_year\n",
       "0   2019-08-01                   8               2019\n",
       "1   2019-07-01                   7               2019\n",
       "2   2020-01-01                   1               2020\n",
       "3   2020-01-01                   1               2020\n",
       "4   2020-01-01                   1               2020"
      ]
     },
     "execution_count": 20,
     "metadata": {},
     "output_type": "execute_result"
    }
   ],
   "source": [
    "# Did it take?\n",
    "df_loan[['last_pymnt_d', 'last_pymnt_d_month', 'last_pymnt_d_year']].head()"
   ]
  },
  {
   "cell_type": "code",
   "execution_count": 30,
   "metadata": {},
   "outputs": [
    {
     "data": {
      "text/plain": [
       "last_pymnt_d          datetime64[ns]\n",
       "last_pymnt_d_month             int64\n",
       "last_pymnt_d_year              int64\n",
       "dtype: object"
      ]
     },
     "execution_count": 30,
     "metadata": {},
     "output_type": "execute_result"
    }
   ],
   "source": [
    "df_dates.dtypes"
   ]
  },
  {
   "cell_type": "markdown",
   "metadata": {
    "colab_type": "text",
    "id": "L8k0LiHmo5EU"
   },
   "source": [
    "# Stretch Goals\n",
    "\n",
    "You can do more with the LendingClub or Instacart datasets.\n",
    "\n",
    "LendingCluboptions:\n",
    "- There's one other column in the dataframe with percent signs. Remove them and convert to floats. You'll need to handle missing values.\n",
    "- Modify the `emp_title` column to replace titles with 'Other' if the title is not in the top 20. \n",
    "- Take initiatve and work on your own ideas!\n",
    "\n",
    "Instacart options:\n",
    "- Read [Instacart Market Basket Analysis, Winner's Interview: 2nd place, Kazuki Onodera](http://blog.kaggle.com/2017/09/21/instacart-market-basket-analysis-winners-interview-2nd-place-kazuki-onodera/), especially the **Feature Engineering** section. (Can you choose one feature from his bulleted lists, and try to engineer it with pandas code?)\n",
    "- Read and replicate parts of [Simple Exploration Notebook - Instacart](https://www.kaggle.com/sudalairajkumar/simple-exploration-notebook-instacart). (It's the Python Notebook with the most upvotes for this Kaggle competition.)\n",
    "- Take initiative and work on your own ideas!"
   ]
  },
  {
   "cell_type": "code",
   "execution_count": 22,
   "metadata": {},
   "outputs": [
    {
     "data": {
      "text/plain": [
       "0    43.2%\n",
       "1    47.1%\n",
       "2    53.9%\n",
       "3      53%\n",
       "4    28.6%\n",
       "Name: revol_util, dtype: object"
      ]
     },
     "execution_count": 22,
     "metadata": {},
     "output_type": "execute_result"
    }
   ],
   "source": [
    "# LendingCluboptions:\n",
    "# find the % it was in \n",
    "# the revol_util col\n",
    "def to_float(i):\n",
    "    c = str(i)\n",
    "    return float(c.strip().strip('%')) / 100\n",
    "\n",
    "df_loan['revol_util'].head()"
   ]
  },
  {
   "cell_type": "code",
   "execution_count": 23,
   "metadata": {},
   "outputs": [],
   "source": [
    "# Remove %, convert to float decimal equavilant\n",
    "df_loan['revol_util'] = df_loan['revol_util'].apply(to_float) \n",
    "\n"
   ]
  },
  {
   "cell_type": "code",
   "execution_count": 24,
   "metadata": {},
   "outputs": [
    {
     "data": {
      "text/plain": [
       "0    0.432\n",
       "1    0.471\n",
       "2    0.539\n",
       "3    0.530\n",
       "4    0.286\n",
       "Name: revol_util, dtype: float64"
      ]
     },
     "execution_count": 24,
     "metadata": {},
     "output_type": "execute_result"
    }
   ],
   "source": [
    "# Did it work?\n",
    "df_loan['revol_util'].head()"
   ]
  },
  {
   "cell_type": "code",
   "execution_count": null,
   "metadata": {},
   "outputs": [],
   "source": [
    "\n",
    "\n"
   ]
  },
  {
   "cell_type": "code",
   "execution_count": 26,
   "metadata": {},
   "outputs": [],
   "source": [
    "#df_loan['emp_title'] = df_loan['emp_title'].value_counts()[10:].replace(to_replace=r'.*', value='Other', regex=True)\n",
    "#df_loan['emp_title'].value_counts()"
   ]
  },
  {
   "cell_type": "markdown",
   "metadata": {
    "colab_type": "text",
    "id": "0_7PXF7lpEXg"
   },
   "source": [
    "You can uncomment and run the cells below to re-download and extract the Instacart data"
   ]
  },
  {
   "cell_type": "code",
   "execution_count": 27,
   "metadata": {
    "colab": {},
    "colab_type": "code",
    "id": "urIePNa0yNG6"
   },
   "outputs": [],
   "source": [
    "# !wget https://s3.amazonaws.com/instacart-datasets/instacart_online_grocery_shopping_2017_05_01.tar.gz"
   ]
  },
  {
   "cell_type": "code",
   "execution_count": 28,
   "metadata": {
    "colab": {},
    "colab_type": "code",
    "id": "X9zEyu-uyNG8"
   },
   "outputs": [],
   "source": [
    "# !tar --gunzip --extract --verbose --file=instacart_online_grocery_shopping_2017_05_01.tar.gz"
   ]
  },
  {
   "cell_type": "code",
   "execution_count": 29,
   "metadata": {
    "colab": {},
    "colab_type": "code",
    "id": "Y3IqrhlpyNG-"
   },
   "outputs": [],
   "source": [
    "# %cd instacart_2017_05_01"
   ]
  }
 ],
 "metadata": {
  "colab": {
   "collapsed_sections": [],
   "name": "LS_DS_112_Make_Features_Assignment.ipynb",
   "provenance": []
  },
  "kernelspec": {
   "display_name": "Python 3",
   "language": "python",
   "name": "python3"
  },
  "language_info": {
   "codemirror_mode": {
    "name": "ipython",
    "version": 3
   },
   "file_extension": ".py",
   "mimetype": "text/x-python",
   "name": "python",
   "nbconvert_exporter": "python",
   "pygments_lexer": "ipython3",
   "version": "3.8.1"
  }
 },
 "nbformat": 4,
 "nbformat_minor": 4
}
