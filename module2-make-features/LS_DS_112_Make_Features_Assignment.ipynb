{
  "nbformat": 4,
  "nbformat_minor": 0,
  "metadata": {
    "colab": {
      "name": "LS_DS_112_Make_Features_Assignment.ipynb",
      "provenance": [],
      "collapsed_sections": [],
      "include_colab_link": true
    },
    "kernelspec": {
      "display_name": "Python 3",
      "language": "python",
      "name": "python3"
    },
    "language_info": {
      "codemirror_mode": {
        "name": "ipython",
        "version": 3
      },
      "file_extension": ".py",
      "mimetype": "text/x-python",
      "name": "python",
      "nbconvert_exporter": "python",
      "pygments_lexer": "ipython3",
      "version": "3.7.1"
    }
  },
  "cells": [
    {
      "cell_type": "markdown",
      "metadata": {
        "id": "view-in-github",
        "colab_type": "text"
      },
      "source": [
        "<a href=\"https://colab.research.google.com/github/danielbrioli/DS-Unit-1-Sprint-1-Data-Wrangling-and-Storytelling/blob/master/module2-make-features/LS_DS_112_Make_Features_Assignment.ipynb\" target=\"_parent\"><img src=\"https://colab.research.google.com/assets/colab-badge.svg\" alt=\"Open In Colab\"/></a>"
      ]
    },
    {
      "cell_type": "markdown",
      "metadata": {
        "id": "SnDJqBLi0FYW",
        "colab_type": "text"
      },
      "source": [
        "<img align=\"left\" src=\"https://lever-client-logos.s3.amazonaws.com/864372b1-534c-480e-acd5-9711f850815c-1524247202159.png\" width=200> "
      ]
    },
    {
      "cell_type": "markdown",
      "metadata": {
        "id": "W5GjI1z5yNG4",
        "colab_type": "text"
      },
      "source": [
        "# Assignment:\n",
        "\n",
        "- Replicate the lesson code.\n",
        "\n",
        " - This means that if you haven't followed along already, type out the things that we did in class. Forcing your fingers to hit each key will help you internalize the syntax of what we're doing. Make sure you understand each line of code that you're writing, google things that you don't fully understand.\n",
        " - [Lambda Learning Method for DS - By Ryan Herr](https://docs.google.com/document/d/1ubOw9B3Hfip27hF2ZFnW3a3z9xAgrUDRReOEo-FHCVs/edit?usp=sharing)\n",
        "- Convert the `term` column from string to integer.\n",
        "- Make a column named `loan_status_is_great`. It should contain the integer 1 if `loan_status` is \"Current\" or \"Fully Paid.\" Else it should contain the integer 0.\n",
        "- Make `last_pymnt_d_month` and `last_pymnt_d_year` columns."
      ]
    },
    {
      "cell_type": "code",
      "metadata": {
        "id": "AazB4eFwym2p",
        "colab_type": "code",
        "colab": {
          "base_uri": "https://localhost:8080/",
          "height": 1000
        },
        "outputId": "24a34651-2ed0-4294-9f63-c3298a692628"
      },
      "source": [
        "##### Begin Working Here #####\n",
        "\n",
        "import pandas as pd\n",
        "import numpy as np\n",
        "\n",
        "loandf = pd.read_csv(\"LoanStats.csv\", skiprows=1, skipfooter=2) #get rid of these for reasons\n",
        "\n",
        "print(loandf.shape)\n",
        "print(loandf.head())\n",
        "print(loandf.tail())\n",
        "print(loandf.isnull().sum().sort_values()) #check out some stuff"
      ],
      "execution_count": 52,
      "outputs": [
        {
          "output_type": "stream",
          "text": [
            "/usr/local/lib/python3.6/dist-packages/ipykernel_launcher.py:5: ParserWarning: Falling back to the 'python' engine because the 'c' engine does not support skipfooter; you can avoid this warning by specifying engine='python'.\n",
            "  \"\"\"\n"
          ],
          "name": "stderr"
        },
        {
          "output_type": "stream",
          "text": [
            "(96779, 122)\n",
            "   id  ...  sec_app_mths_since_last_major_derog\n",
            "0 NaN  ...                                  NaN\n",
            "1 NaN  ...                                  NaN\n",
            "2 NaN  ...                                  NaN\n",
            "3 NaN  ...                                  NaN\n",
            "4 NaN  ...                                  NaN\n",
            "\n",
            "[5 rows x 122 columns]\n",
            "       id  ...  sec_app_mths_since_last_major_derog\n",
            "96774 NaN  ...                                  NaN\n",
            "96775 NaN  ...                                  NaN\n",
            "96776 NaN  ...                                  NaN\n",
            "96777 NaN  ...                                  NaN\n",
            "96778 NaN  ...                                  NaN\n",
            "\n",
            "[5 rows x 122 columns]\n",
            "open_il_6m                                 0\n",
            "delinq_amnt                                0\n",
            "chargeoff_within_12_mths                   0\n",
            "avg_cur_bal                                0\n",
            "acc_open_past_24mths                       0\n",
            "inq_last_12m                               0\n",
            "total_cu_tl                                0\n",
            "inq_fi                                     0\n",
            "total_rev_hi_lim                           0\n",
            "max_bal_bc                                 0\n",
            "open_rv_24m                                0\n",
            "open_rv_12m                                0\n",
            "total_bal_il                               0\n",
            "open_il_24m                                0\n",
            "open_il_12m                                0\n",
            "open_acc_6m                                0\n",
            "tot_coll_amt                               0\n",
            "acc_now_delinq                             0\n",
            "application_type                           0\n",
            "policy_code                                0\n",
            "mo_sin_old_rev_tl_op                       0\n",
            "mo_sin_rcnt_rev_tl_op                      0\n",
            "mo_sin_rcnt_tl                             0\n",
            "mort_acc                                   0\n",
            "total_il_high_credit_limit                 0\n",
            "total_bc_limit                             0\n",
            "total_bal_ex_mort                          0\n",
            "tot_hi_cred_lim                            0\n",
            "tax_liens                                  0\n",
            "pub_rec_bankruptcies                       0\n",
            "pct_tl_nvr_dlq                             0\n",
            "num_tl_op_past_12m                         0\n",
            "num_tl_90g_dpd_24m                         0\n",
            "collections_12_mths_ex_med                 0\n",
            "num_tl_30dpd                               0\n",
            "num_rev_tl_bal_gt_0                        0\n",
            "num_rev_accts                              0\n",
            "num_op_rev_tl                              0\n",
            "num_il_tl                                  0\n",
            "num_bc_tl                                  0\n",
            "num_bc_sats                                0\n",
            "num_actv_rev_tl                            0\n",
            "num_actv_bc_tl                             0\n",
            "num_accts_ever_120_pd                      0\n",
            "num_sats                                   0\n",
            "last_pymnt_amnt                            0\n",
            "tot_cur_bal                                0\n",
            "dti                                        0\n",
            "pymnt_plan                                 0\n",
            "revol_bal                                  0\n",
            "pub_rec                                    0\n",
            "open_acc                                   0\n",
            "sub_grade                                  0\n",
            "home_ownership                             0\n",
            "inq_last_6mths                             0\n",
            "earliest_cr_line                           0\n",
            "delinq_2yrs                                0\n",
            "annual_inc                                 0\n",
            "verification_status                        0\n",
            "addr_state                                 0\n",
            "title                                      0\n",
            "issue_d                                    0\n",
            "loan_status                                0\n",
            "total_acc                                  0\n",
            "initial_list_status                        0\n",
            "purpose                                    0\n",
            "out_prncp                                  0\n",
            "recoveries                                 0\n",
            "total_rec_late_fee                         0\n",
            "funded_amnt                                0\n",
            "funded_amnt_inv                            0\n",
            "term                                       0\n",
            "grade                                      0\n",
            "collection_recovery_fee                    0\n",
            "total_rec_int                              0\n",
            "int_rate                                   0\n",
            "total_pymnt_inv                            0\n",
            "total_pymnt                                0\n",
            "out_prncp_inv                              0\n",
            "installment                                0\n",
            "total_rec_prncp                            0\n",
            "loan_amnt                                  0\n",
            "zip_code                                   1\n",
            "all_util                                   3\n",
            "last_credit_pull_d                         5\n",
            "revol_util                                51\n",
            "mths_since_recent_bc                     945\n",
            "bc_open_to_buy                           985\n",
            "percent_bc_gt_75                         987\n",
            "bc_util                                 1028\n",
            "next_pymnt_d                            2251\n",
            "mths_since_rcnt_il                      2596\n",
            "mo_sin_old_il_acct                      2596\n",
            "num_tl_120dpd_2m                        4706\n",
            "emp_length                              6792\n",
            "emp_title                               6892\n",
            "mths_since_recent_inq                  11314\n",
            "il_util                                12998\n",
            "last_pymnt_d                           17122\n",
            "mths_since_last_delinq                 46293\n",
            "mths_since_recent_revol_delinq         62320\n",
            "mths_since_last_major_derog            69688\n",
            "mths_since_recent_bc_dlq               72987\n",
            "mths_since_last_record                 77674\n",
            "verification_status_joint              92372\n",
            "dti_joint                              92372\n",
            "annual_inc_joint                       92372\n",
            "sec_app_mort_acc                       95754\n",
            "sec_app_inq_last_6mths                 95754\n",
            "sec_app_earliest_cr_line               95754\n",
            "revol_bal_joint                        95754\n",
            "sec_app_num_rev_accts                  95754\n",
            "sec_app_open_acc                       95754\n",
            "sec_app_collections_12_mths_ex_med     95754\n",
            "sec_app_open_il_6m                     95754\n",
            "sec_app_chargeoff_within_12_mths       95754\n",
            "sec_app_revol_util                     95760\n",
            "sec_app_mths_since_last_major_derog    96423\n",
            "url                                    96779\n",
            "member_id                              96779\n",
            "desc                                   96779\n",
            "id                                     96779\n",
            "dtype: int64\n"
          ],
          "name": "stdout"
        }
      ]
    },
    {
      "cell_type": "code",
      "metadata": {
        "id": "MoFj4XRVELDC",
        "colab_type": "code",
        "colab": {}
      },
      "source": [
        "pd.set_option('display.max_rows', 500) #lemme see more stuff"
      ],
      "execution_count": 0,
      "outputs": []
    },
    {
      "cell_type": "code",
      "metadata": {
        "id": "WVuz59zLENHg",
        "colab_type": "code",
        "colab": {}
      },
      "source": [
        "\n",
        "print(loandf.isnull().sum().sort_values()) #seeing some useless columns"
      ],
      "execution_count": 0,
      "outputs": []
    },
    {
      "cell_type": "code",
      "metadata": {
        "id": "jATNVnfSEVNH",
        "colab_type": "code",
        "colab": {}
      },
      "source": [
        "loandf = loandf.drop(['url','member_id','desc','id'], axis=1) #remove em\n",
        "print(loandf.isnull().sum().sort_values()) #check to make sure im not being dumb"
      ],
      "execution_count": 0,
      "outputs": []
    },
    {
      "cell_type": "code",
      "metadata": {
        "id": "jjmAQdq3FPC4",
        "colab_type": "code",
        "colab": {}
      },
      "source": [
        "print(loandf['term'].head()) #what's term look like\n",
        "print(loandf['term'].describe())\n",
        "print(\"NaNs = \" + str(loandf['term'].isnull().sum()))"
      ],
      "execution_count": 0,
      "outputs": []
    },
    {
      "cell_type": "code",
      "metadata": {
        "id": "l8sGhZ2HFpLT",
        "colab_type": "code",
        "colab": {}
      },
      "source": [
        "def term_to_int(val):\n",
        "  return int(val.strip(\" months\")) #make a function\n",
        "\n",
        "testvar = '99 months'\n",
        "print(term_to_int(testvar)) #test the function"
      ],
      "execution_count": 0,
      "outputs": []
    },
    {
      "cell_type": "code",
      "metadata": {
        "id": "kiWo0BUdHC2x",
        "colab_type": "code",
        "colab": {}
      },
      "source": [
        "loandf['term'] = loandf['term'].apply(term_to_int) #apply it and check that it works\n",
        "loandf['term'].head(10)"
      ],
      "execution_count": 0,
      "outputs": []
    },
    {
      "cell_type": "code",
      "metadata": {
        "id": "jtMht07_HZ27",
        "colab_type": "code",
        "colab": {}
      },
      "source": [
        "print(loandf['loan_status'].head()) #check out loan_status\n",
        "print(loandf['loan_status'].describe())\n",
        "print(loandf['loan_status'].value_counts(dropna=False))\n",
        "print(loandf['loan_status'].isnull().sum())"
      ],
      "execution_count": 0,
      "outputs": []
    },
    {
      "cell_type": "code",
      "metadata": {
        "id": "y5br91bVIPjE",
        "colab_type": "code",
        "colab": {}
      },
      "source": [
        "def loan_status_flag(val): #fixes stuff\n",
        "  if val == 'Current' or val == 'Fully Paid':\n",
        "    return 1\n",
        "  else:\n",
        "    return 0\n",
        "\n",
        "testvar2 = ['Fully Paid','Current',np.NaN, 33, 'Issued'] #make some stuff to test\n",
        "\n",
        "[loan_status_flag(var) for var in testvar2] #outputs the right stuff\n"
      ],
      "execution_count": 0,
      "outputs": []
    },
    {
      "cell_type": "code",
      "metadata": {
        "id": "kWA52uv5KQB7",
        "colab_type": "code",
        "colab": {}
      },
      "source": [
        "loandf['loan_status_is_great'] = [loan_status_flag(status) for status in loandf['loan_status']] #run it on stuff, just more of it somewhere else\n",
        "print(loandf['loan_status_is_great'].head(20)) #output the right stuff again, just more of it somewhere else"
      ],
      "execution_count": 0,
      "outputs": []
    },
    {
      "cell_type": "code",
      "metadata": {
        "id": "uwTNPqyIK7JY",
        "colab_type": "code",
        "colab": {}
      },
      "source": [
        "print(loandf['last_pymnt_d'].head()) #check out date info\n",
        "print(loandf['last_pymnt_d'].describe())\n",
        "print(loandf['last_pymnt_d'].value_counts(dropna=False))\n",
        "print(loandf['last_pymnt_d'].isnull().sum()) "
      ],
      "execution_count": 0,
      "outputs": []
    },
    {
      "cell_type": "code",
      "metadata": {
        "id": "CA25pNNjMggC",
        "colab_type": "code",
        "colab": {
          "base_uri": "https://localhost:8080/",
          "height": 68
        },
        "outputId": "ddd2a767-ce0a-47e5-e4e3-c63d254cf7a8"
      },
      "source": [
        "def to_month(val):\n",
        "  if pd.isna(val):\n",
        "    return 0\n",
        "  else:\n",
        "    return pd.to_datetime(val, infer_datetime_format=True).month #get the month only\n",
        "\n",
        "def to_year(val):\n",
        "  if pd.isna(val):\n",
        "    return 0\n",
        "  else:\n",
        "    return pd.to_datetime(val, infer_datetime_format=True).year #get the year only\n",
        "\n",
        "testvar3 = 'Apr-2017' #test variables\n",
        "testvar4 = 'Mar-2017'\n",
        "\n",
        "print(to_month(testvar3)) #running stuff on stuff\n",
        "print(to_month(np.NaN))\n",
        "print(to_year(testvar4))"
      ],
      "execution_count": 77,
      "outputs": [
        {
          "output_type": "stream",
          "text": [
            "4\n",
            "0\n",
            "2017\n"
          ],
          "name": "stdout"
        }
      ]
    },
    {
      "cell_type": "code",
      "metadata": {
        "id": "2h9cS2lKPKhD",
        "colab_type": "code",
        "colab": {
          "base_uri": "https://localhost:8080/",
          "height": 731
        },
        "outputId": "b25d037c-9726-44dd-a6b3-7419ae85b240"
      },
      "source": [
        "loandf['last_pymnt_d_month'] = [to_month(lp) for lp in loandf['last_pymnt_d']]\n",
        "print(loandf['last_pymnt_d_month'].head(20))\n",
        "\n",
        "loandf['last_pymnt_d_year'] = [to_year(lp) for lp in loandf['last_pymnt_d']]\n",
        "print(loandf['last_pymnt_d_year'].head(20))"
      ],
      "execution_count": 78,
      "outputs": [
        {
          "output_type": "stream",
          "text": [
            "0     0\n",
            "1     0\n",
            "2     0\n",
            "3     0\n",
            "4     4\n",
            "5     0\n",
            "6     0\n",
            "7     0\n",
            "8     0\n",
            "9     0\n",
            "10    0\n",
            "11    4\n",
            "12    0\n",
            "13    0\n",
            "14    0\n",
            "15    0\n",
            "16    0\n",
            "17    0\n",
            "18    0\n",
            "19    0\n",
            "Name: last_pymnt_d_month, dtype: int64\n",
            "0        0\n",
            "1        0\n",
            "2        0\n",
            "3        0\n",
            "4     2017\n",
            "5        0\n",
            "6        0\n",
            "7        0\n",
            "8        0\n",
            "9        0\n",
            "10       0\n",
            "11    2017\n",
            "12       0\n",
            "13       0\n",
            "14       0\n",
            "15       0\n",
            "16       0\n",
            "17       0\n",
            "18       0\n",
            "19       0\n",
            "Name: last_pymnt_d_year, dtype: int64\n"
          ],
          "name": "stdout"
        }
      ]
    },
    {
      "cell_type": "markdown",
      "metadata": {
        "colab_type": "text",
        "id": "L8k0LiHmo5EU"
      },
      "source": [
        "# Stretch Goals\n",
        "\n",
        "You can do more with the LendingClub or Instacart datasets.\n",
        "\n",
        "LendingClub options:\n",
        "- There's one other column in the dataframe with percent signs. Remove them and convert to floats. You'll need to handle missing values.\n",
        "- Modify the `emp_title` column to replace titles with 'Other' if the title is not in the top 20. \n",
        "- Take initiatve and work on your own ideas!\n",
        "\n",
        "Instacart options:\n",
        "- Read [Instacart Market Basket Analysis, Winner's Interview: 2nd place, Kazuki Onodera](http://blog.kaggle.com/2017/09/21/instacart-market-basket-analysis-winners-interview-2nd-place-kazuki-onodera/), especially the **Feature Engineering** section. (Can you choose one feature from his bulleted lists, and try to engineer it with pandas code?)\n",
        "- Read and replicate parts of [Simple Exploration Notebook - Instacart](https://www.kaggle.com/sudalairajkumar/simple-exploration-notebook-instacart). (It's the Python Notebook with the most upvotes for this Kaggle competition.)\n",
        "- Take initiative and work on your own ideas!"
      ]
    },
    {
      "cell_type": "markdown",
      "metadata": {
        "colab_type": "text",
        "id": "0_7PXF7lpEXg"
      },
      "source": [
        "You can uncomment and run the cells below to re-download and extract the Instacart data"
      ]
    },
    {
      "cell_type": "code",
      "metadata": {
        "id": "urIePNa0yNG6",
        "colab_type": "code",
        "colab": {}
      },
      "source": [
        "# !wget https://s3.amazonaws.com/instacart-datasets/instacart_online_grocery_shopping_2017_05_01.tar.gz"
      ],
      "execution_count": 0,
      "outputs": []
    },
    {
      "cell_type": "code",
      "metadata": {
        "id": "X9zEyu-uyNG8",
        "colab_type": "code",
        "colab": {}
      },
      "source": [
        "# !tar --gunzip --extract --verbose --file=instacart_online_grocery_shopping_2017_05_01.tar.gz"
      ],
      "execution_count": 0,
      "outputs": []
    },
    {
      "cell_type": "code",
      "metadata": {
        "id": "Y3IqrhlpyNG-",
        "colab_type": "code",
        "colab": {}
      },
      "source": [
        "# %cd instacart_2017_05_01"
      ],
      "execution_count": 0,
      "outputs": []
    },
    {
      "cell_type": "code",
      "metadata": {
        "id": "nql93MoDjU-W",
        "colab_type": "code",
        "colab": {}
      },
      "source": [
        ""
      ],
      "execution_count": 0,
      "outputs": []
    }
  ]
}