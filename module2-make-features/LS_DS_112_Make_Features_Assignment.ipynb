{
  "nbformat": 4,
  "nbformat_minor": 0,
  "metadata": {
    "colab": {
      "name": "LS_DS_112_Make_Features_Assignment.ipynb",
      "provenance": [],
      "collapsed_sections": []
    },
    "kernelspec": {
      "display_name": "Python 3",
      "language": "python",
      "name": "python3"
    },
    "language_info": {
      "codemirror_mode": {
        "name": "ipython",
        "version": 3
      },
      "file_extension": ".py",
      "mimetype": "text/x-python",
      "name": "python",
      "nbconvert_exporter": "python",
      "pygments_lexer": "ipython3",
      "version": "3.7.1"
    }
  },
  "cells": [
    {
      "cell_type": "markdown",
      "metadata": {
        "id": "SnDJqBLi0FYW",
        "colab_type": "text"
      },
      "source": [
        "<img align=\"left\" src=\"https://lever-client-logos.s3.amazonaws.com/864372b1-534c-480e-acd5-9711f850815c-1524247202159.png\" width=200> "
      ]
    },
    {
      "cell_type": "markdown",
      "metadata": {
        "id": "W5GjI1z5yNG4",
        "colab_type": "text"
      },
      "source": [
        "# Assignment:\n",
        "- Replicate the lesson code."
      ]
    },
    {
      "cell_type": "code",
      "metadata": {
        "id": "AazB4eFwym2p",
        "colab_type": "code",
        "colab": {}
      },
      "source": [
        "import pandas as pd\n",
        "import numpy as np\n",
        "pd.set_option('display.max_rows', None)"
      ],
      "execution_count": 0,
      "outputs": []
    },
    {
      "cell_type": "code",
      "metadata": {
        "id": "-w-4XBbTn-RL",
        "colab_type": "code",
        "colab": {}
      },
      "source": [
        "re = pd.read_csv('https://raw.githubusercontent.com/ryanleeallred/datasets/master/Ames%20Housing%20Data/train.csv')"
      ],
      "execution_count": 0,
      "outputs": []
    },
    {
      "cell_type": "code",
      "metadata": {
        "id": "DG7vejSApVUB",
        "colab_type": "code",
        "outputId": "21073b40-416c-40d5-a4f3-88f84f52a978",
        "colab": {
          "base_uri": "https://localhost:8080/",
          "height": 121
        }
      },
      "source": [
        "re['LotFrontage'].value_counts(dropna=False).head()"
      ],
      "execution_count": 141,
      "outputs": [
        {
          "output_type": "execute_result",
          "data": {
            "text/plain": [
              "NaN     259\n",
              "60.0    143\n",
              "70.0     70\n",
              "80.0     69\n",
              "50.0     57\n",
              "Name: LotFrontage, dtype: int64"
            ]
          },
          "metadata": {
            "tags": []
          },
          "execution_count": 141
        }
      ]
    },
    {
      "cell_type": "code",
      "metadata": {
        "id": "LkMR8rS8poo4",
        "colab_type": "code",
        "outputId": "4b19aa8c-a1f1-4524-8b55-0bbfb11bda87",
        "colab": {
          "base_uri": "https://localhost:8080/",
          "height": 34
        }
      },
      "source": [
        "type(np.NaN)"
      ],
      "execution_count": 142,
      "outputs": [
        {
          "output_type": "execute_result",
          "data": {
            "text/plain": [
              "float"
            ]
          },
          "metadata": {
            "tags": []
          },
          "execution_count": 142
        }
      ]
    },
    {
      "cell_type": "code",
      "metadata": {
        "id": "wWjHUIcOp9C5",
        "colab_type": "code",
        "colab": {}
      },
      "source": [
        "# Calculate Total SF\n",
        "re['TotalSF'] = re['TotalBsmtSF'] + re['1stFlrSF'] + re['2ndFlrSF']"
      ],
      "execution_count": 0,
      "outputs": []
    },
    {
      "cell_type": "code",
      "metadata": {
        "id": "E4dLxpdnV_GN",
        "colab_type": "code",
        "colab": {
          "base_uri": "https://localhost:8080/",
          "height": 206
        },
        "outputId": "f88862bc-074d-45b3-8328-d4d401993181"
      },
      "source": [
        "# Calculate Price / SQFT\n",
        "re['$/SF'] = re['SalePrice'] / re['TotalSF']\n",
        "re.iloc[0:5,-2:]"
      ],
      "execution_count": 153,
      "outputs": [
        {
          "output_type": "execute_result",
          "data": {
            "text/html": [
              "<div>\n",
              "<style scoped>\n",
              "    .dataframe tbody tr th:only-of-type {\n",
              "        vertical-align: middle;\n",
              "    }\n",
              "\n",
              "    .dataframe tbody tr th {\n",
              "        vertical-align: top;\n",
              "    }\n",
              "\n",
              "    .dataframe thead th {\n",
              "        text-align: right;\n",
              "    }\n",
              "</style>\n",
              "<table border=\"1\" class=\"dataframe\">\n",
              "  <thead>\n",
              "    <tr style=\"text-align: right;\">\n",
              "      <th></th>\n",
              "      <th>TotalSF</th>\n",
              "      <th>$/SF</th>\n",
              "    </tr>\n",
              "  </thead>\n",
              "  <tbody>\n",
              "    <tr>\n",
              "      <th>0</th>\n",
              "      <td>2566</td>\n",
              "      <td>81.254871</td>\n",
              "    </tr>\n",
              "    <tr>\n",
              "      <th>1</th>\n",
              "      <td>2524</td>\n",
              "      <td>71.909667</td>\n",
              "    </tr>\n",
              "    <tr>\n",
              "      <th>2</th>\n",
              "      <td>2706</td>\n",
              "      <td>82.594235</td>\n",
              "    </tr>\n",
              "    <tr>\n",
              "      <th>3</th>\n",
              "      <td>2473</td>\n",
              "      <td>56.611403</td>\n",
              "    </tr>\n",
              "    <tr>\n",
              "      <th>4</th>\n",
              "      <td>3343</td>\n",
              "      <td>74.783129</td>\n",
              "    </tr>\n",
              "  </tbody>\n",
              "</table>\n",
              "</div>"
            ],
            "text/plain": [
              "   TotalSF       $/SF\n",
              "0     2566  81.254871\n",
              "1     2524  71.909667\n",
              "2     2706  82.594235\n",
              "3     2473  56.611403\n",
              "4     3343  74.783129"
            ]
          },
          "metadata": {
            "tags": []
          },
          "execution_count": 153
        }
      ]
    },
    {
      "cell_type": "code",
      "metadata": {
        "id": "54gKZzBkqllb",
        "colab_type": "code",
        "colab": {}
      },
      "source": [
        "!wget https://resources.lendingclub.com/LoanStats_2018Q4.csv.zip\n",
        "!unzip LoanStats_2018Q4.csv.zip"
      ],
      "execution_count": 0,
      "outputs": []
    },
    {
      "cell_type": "code",
      "metadata": {
        "id": "o1vL5fuWr5cK",
        "colab_type": "code",
        "colab": {}
      },
      "source": [
        "# Sets header, and skips bottom two rows\n",
        "loans = pd.read_csv('LoanStats_2018Q4.csv', header=1, skipfooter=2, engine='python')"
      ],
      "execution_count": 0,
      "outputs": []
    },
    {
      "cell_type": "code",
      "metadata": {
        "id": "GkwxpRLnsVdD",
        "colab_type": "code",
        "outputId": "808fda67-76d5-45ea-f42a-c54569298ada",
        "colab": {
          "base_uri": "https://localhost:8080/",
          "height": 1000
        }
      },
      "source": [
        "# Counts number of isnull values for each column\n",
        "loans.isnull().sum().sort_values()"
      ],
      "execution_count": 156,
      "outputs": [
        {
          "output_type": "execute_result",
          "data": {
            "text/plain": [
              "inq_fi                                             0\n",
              "delinq_amnt                                        0\n",
              "chargeoff_within_12_mths                           0\n",
              "acc_open_past_24mths                               0\n",
              "inq_last_12m                                       0\n",
              "total_cu_tl                                        0\n",
              "total_rev_hi_lim                                   0\n",
              "max_bal_bc                                         0\n",
              "open_rv_24m                                        0\n",
              "open_rv_12m                                        0\n",
              "total_bal_il                                       0\n",
              "open_il_24m                                        0\n",
              "hardship_flag                                      0\n",
              "open_act_il                                        0\n",
              "open_acc_6m                                        0\n",
              "tot_cur_bal                                        0\n",
              "tot_coll_amt                                       0\n",
              "acc_now_delinq                                     0\n",
              "application_type                                   0\n",
              "policy_code                                        0\n",
              "mo_sin_old_rev_tl_op                               0\n",
              "mo_sin_rcnt_rev_tl_op                              0\n",
              "mo_sin_rcnt_tl                                     0\n",
              "mort_acc                                           0\n",
              "total_il_high_credit_limit                         0\n",
              "total_bc_limit                                     0\n",
              "total_bal_ex_mort                                  0\n",
              "tot_hi_cred_lim                                    0\n",
              "tax_liens                                          0\n",
              "pub_rec_bankruptcies                               0\n",
              "pct_tl_nvr_dlq                                     0\n",
              "num_tl_op_past_12m                                 0\n",
              "num_tl_90g_dpd_24m                                 0\n",
              "collections_12_mths_ex_med                         0\n",
              "num_tl_30dpd                                       0\n",
              "num_rev_tl_bal_gt_0                                0\n",
              "num_rev_accts                                      0\n",
              "num_op_rev_tl                                      0\n",
              "num_il_tl                                          0\n",
              "num_bc_tl                                          0\n",
              "num_bc_sats                                        0\n",
              "num_actv_rev_tl                                    0\n",
              "num_actv_bc_tl                                     0\n",
              "num_accts_ever_120_pd                              0\n",
              "num_sats                                           0\n",
              "last_pymnt_amnt                                    0\n",
              "open_il_12m                                        0\n",
              "debt_settlement_flag                               0\n",
              "pub_rec                                            0\n",
              "open_acc                                           0\n",
              "grade                                              0\n",
              "sub_grade                                          0\n",
              "home_ownership                                     0\n",
              "inq_last_6mths                                     0\n",
              "annual_inc                                         0\n",
              "verification_status                                0\n",
              "earliest_cr_line                                   0\n",
              "delinq_2yrs                                        0\n",
              "issue_d                                            0\n",
              "addr_state                                         0\n",
              "zip_code                                           0\n",
              "title                                              0\n",
              "loan_status                                        0\n",
              "pymnt_plan                                         0\n",
              "installment                                        0\n",
              "revol_bal                                          0\n",
              "term                                               0\n",
              "collection_recovery_fee                            0\n",
              "loan_amnt                                          0\n",
              "recoveries                                         0\n",
              "total_rec_late_fee                                 0\n",
              "funded_amnt                                        0\n",
              "funded_amnt_inv                                    0\n",
              "total_acc                                          0\n",
              "total_rec_int                                      0\n",
              "purpose                                            0\n",
              "total_rec_prncp                                    0\n",
              "total_pymnt_inv                                    0\n",
              "total_pymnt                                        0\n",
              "out_prncp_inv                                      0\n",
              "out_prncp                                          0\n",
              "initial_list_status                                0\n",
              "int_rate                                           0\n",
              "last_credit_pull_d                                 1\n",
              "avg_cur_bal                                       13\n",
              "all_util                                          37\n",
              "revol_util                                       156\n",
              "last_pymnt_d                                     159\n",
              "dti                                              237\n",
              "mths_since_recent_bc                            1591\n",
              "bc_open_to_buy                                  1691\n",
              "percent_bc_gt_75                                1692\n",
              "bc_util                                         1754\n",
              "num_tl_120dpd_2m                                2859\n",
              "mths_since_rcnt_il                              4478\n",
              "mo_sin_old_il_acct                              4478\n",
              "emp_length                                     11704\n",
              "mths_since_recent_inq                          16047\n",
              "il_util                                        20274\n",
              "emp_title                                      20947\n",
              "next_pymnt_d                                   23978\n",
              "mths_since_last_delinq                         72196\n",
              "mths_since_recent_revol_delinq                 91630\n",
              "mths_since_last_major_derog                    99232\n",
              "mths_since_recent_bc_dlq                      103243\n",
              "sec_app_open_acc                              111630\n",
              "sec_app_mort_acc                              111630\n",
              "sec_app_inq_last_6mths                        111630\n",
              "sec_app_earliest_cr_line                      111630\n",
              "revol_bal_joint                               111630\n",
              "sec_app_open_act_il                           111630\n",
              "annual_inc_joint                              111630\n",
              "dti_joint                                     111630\n",
              "sec_app_collections_12_mths_ex_med            111630\n",
              "sec_app_chargeoff_within_12_mths              111630\n",
              "sec_app_num_rev_accts                         111630\n",
              "sec_app_revol_util                            111888\n",
              "mths_since_last_record                        112962\n",
              "verification_status_joint                     113564\n",
              "sec_app_mths_since_last_major_derog           123258\n",
              "debt_settlement_flag_date                     128076\n",
              "settlement_date                               128076\n",
              "settlement_amount                             128076\n",
              "settlement_status                             128076\n",
              "settlement_term                               128076\n",
              "settlement_percentage                         128076\n",
              "hardship_status                               128232\n",
              "deferral_term                                 128232\n",
              "hardship_amount                               128232\n",
              "hardship_start_date                           128232\n",
              "hardship_end_date                             128232\n",
              "payment_plan_start_date                       128232\n",
              "hardship_length                               128232\n",
              "hardship_dpd                                  128232\n",
              "hardship_loan_status                          128232\n",
              "hardship_reason                               128232\n",
              "hardship_payoff_balance_amount                128232\n",
              "hardship_last_payment_amount                  128232\n",
              "hardship_type                                 128232\n",
              "orig_projected_additional_accrued_interest    128249\n",
              "url                                           128412\n",
              "member_id                                     128412\n",
              "desc                                          128412\n",
              "id                                            128412\n",
              "dtype: int64"
            ]
          },
          "metadata": {
            "tags": []
          },
          "execution_count": 156
        }
      ]
    },
    {
      "cell_type": "code",
      "metadata": {
        "id": "swiwIqgvsf8F",
        "colab_type": "code",
        "colab": {}
      },
      "source": [
        "# DROPS COLUMNS WITH NO DATA\n",
        "loans = loans.drop(['url', 'member_id', 'desc', 'id'], axis=1)"
      ],
      "execution_count": 0,
      "outputs": []
    },
    {
      "cell_type": "code",
      "metadata": {
        "id": "b-E_XnTIs_ms",
        "colab_type": "code",
        "outputId": "24a33f1e-4ab4-4ff6-d10d-c0088ec343f0",
        "colab": {
          "base_uri": "https://localhost:8080/",
          "height": 104
        }
      },
      "source": [
        "# SHOWS A SAMPLE OF INTEREST RATE\n",
        "loans['int_rate'][3:7]"
      ],
      "execution_count": 158,
      "outputs": [
        {
          "output_type": "execute_result",
          "data": {
            "text/plain": [
              "3     12.98%\n",
              "4     12.98%\n",
              "5      7.56%\n",
              "6     17.97%\n",
              "Name: int_rate, dtype: object"
            ]
          },
          "metadata": {
            "tags": []
          },
          "execution_count": 158
        }
      ]
    },
    {
      "cell_type": "code",
      "metadata": {
        "id": "inA4mo7ctj0_",
        "colab_type": "code",
        "colab": {}
      },
      "source": [
        "# FUNCTION TO CONVERT INTEREST RATE DATA TO FLOAT\n",
        "def ir_to_float(cell):\n",
        "  return float(cell.strip().strip('%'))"
      ],
      "execution_count": 0,
      "outputs": []
    },
    {
      "cell_type": "code",
      "metadata": {
        "id": "TL02ECvct6LQ",
        "colab_type": "code",
        "colab": {}
      },
      "source": [
        "# CREATES NEW COLUMN WITH FLOAT VALUE\n",
        "loans['ir_to_float'] =  loans['int_rate'].apply(ir_to_float)"
      ],
      "execution_count": 0,
      "outputs": []
    },
    {
      "cell_type": "code",
      "metadata": {
        "id": "9AaRZLW6uXY3",
        "colab_type": "code",
        "outputId": "da4a71b2-4f9b-4a94-f4cb-c6b6c9a283ab",
        "colab": {
          "base_uri": "https://localhost:8080/",
          "height": 121
        }
      },
      "source": [
        "# CONFIRMS NEW DATA IS TYPE FLOAT\n",
        "loans.dtypes[-5:]"
      ],
      "execution_count": 0,
      "outputs": [
        {
          "output_type": "execute_result",
          "data": {
            "text/plain": [
              "settlement_date           object\n",
              "settlement_amount        float64\n",
              "settlement_percentage    float64\n",
              "settlement_term          float64\n",
              "ir_to_float              float64\n",
              "dtype: object"
            ]
          },
          "metadata": {
            "tags": []
          },
          "execution_count": 77
        }
      ]
    },
    {
      "cell_type": "code",
      "metadata": {
        "id": "c_7gzjeOuc9d",
        "colab_type": "code",
        "outputId": "1420ff43-2d55-4f12-e3d1-5fcc7623f9a4",
        "colab": {
          "base_uri": "https://localhost:8080/",
          "height": 208
        }
      },
      "source": [
        "# SUMMARY OF EMPLOYMENT TITLES\n",
        "loans['emp_title'].value_counts(dropna=False)[:10]"
      ],
      "execution_count": 0,
      "outputs": [
        {
          "output_type": "execute_result",
          "data": {
            "text/plain": [
              "NaN                 20947\n",
              "Teacher              2090\n",
              "Manager              1773\n",
              "Registered Nurse      952\n",
              "Driver                924\n",
              "RN                    726\n",
              "Supervisor            697\n",
              "Sales                 580\n",
              "Project Manager       526\n",
              "General Manager       523\n",
              "Name: emp_title, dtype: int64"
            ]
          },
          "metadata": {
            "tags": []
          },
          "execution_count": 78
        }
      ]
    },
    {
      "cell_type": "code",
      "metadata": {
        "id": "cojNMfPIvE7-",
        "colab_type": "code",
        "colab": {}
      },
      "source": [
        "# FUNCTION TO CLEAN EMPLOYMENT TITLES\n",
        "def clean_title(title_input):\n",
        "  if isinstance(title_input, str):\n",
        "    return title_input.title().strip()\n",
        "  else:\n",
        "    return \"Unknown\""
      ],
      "execution_count": 0,
      "outputs": []
    },
    {
      "cell_type": "code",
      "metadata": {
        "id": "YqRHhfsZvhvT",
        "colab_type": "code",
        "outputId": "eda3a564-b97c-4abc-ac38-46e89364a212",
        "colab": {
          "base_uri": "https://localhost:8080/",
          "height": 34
        }
      },
      "source": [
        "# TEST CASES FOR clean_title FUNCTION\n",
        "errors = ['owner', 'Supervisor', ' Project Manager', np.NaN]\n",
        "[clean_title(i) for i in errors]"
      ],
      "execution_count": 160,
      "outputs": [
        {
          "output_type": "execute_result",
          "data": {
            "text/plain": [
              "['Owner', 'Supervisor', 'Project Manager', 'Unknown']"
            ]
          },
          "metadata": {
            "tags": []
          },
          "execution_count": 160
        }
      ]
    },
    {
      "cell_type": "code",
      "metadata": {
        "id": "kpCSG9KpwkXz",
        "colab_type": "code",
        "colab": {}
      },
      "source": [
        "# UPDATES DATAFRAME WITH CLEANED DATA\n",
        "loans['emp_title'] = loans['emp_title'].apply(clean_title)"
      ],
      "execution_count": 0,
      "outputs": []
    },
    {
      "cell_type": "code",
      "metadata": {
        "id": "Qe7CwArzxIfK",
        "colab_type": "code",
        "outputId": "f85077b0-8231-485d-d5f1-a69e72bd0141",
        "colab": {
          "base_uri": "https://localhost:8080/",
          "height": 208
        }
      },
      "source": [
        "# NaN's CHANGED TO Unknown\n",
        "loans['emp_title'].value_counts(dropna=False, ascending=False)[:10]"
      ],
      "execution_count": 163,
      "outputs": [
        {
          "output_type": "execute_result",
          "data": {
            "text/plain": [
              "Unknown             20947\n",
              "Teacher              2557\n",
              "Manager              2395\n",
              "Registered Nurse     1418\n",
              "Driver               1258\n",
              "Supervisor           1160\n",
              "Truck Driver          920\n",
              "Rn                    834\n",
              "Office Manager        805\n",
              "Sales                 803\n",
              "Name: emp_title, dtype: int64"
            ]
          },
          "metadata": {
            "tags": []
          },
          "execution_count": 163
        }
      ]
    },
    {
      "cell_type": "code",
      "metadata": {
        "id": "khIRrKrdybps",
        "colab_type": "code",
        "outputId": "e9342400-fdac-4812-d896-60b311d09876",
        "colab": {
          "base_uri": "https://localhost:8080/",
          "height": 52
        }
      },
      "source": [
        "print(len(loans['emp_title'].value_counts()))\n",
        "print(loans['emp_title'].isnull().sum())"
      ],
      "execution_count": 164,
      "outputs": [
        {
          "output_type": "stream",
          "text": [
            "34902\n",
            "0\n"
          ],
          "name": "stdout"
        }
      ]
    },
    {
      "cell_type": "code",
      "metadata": {
        "id": "_bFR9sexynCT",
        "colab_type": "code",
        "outputId": "b481eb19-eca0-4f6d-8b3d-6c89e1f1702f",
        "colab": {
          "base_uri": "https://localhost:8080/",
          "height": 34
        }
      },
      "source": [
        "[col for col in loans if col.endswith('_d')]"
      ],
      "execution_count": 165,
      "outputs": [
        {
          "output_type": "execute_result",
          "data": {
            "text/plain": [
              "['issue_d', 'last_pymnt_d', 'next_pymnt_d', 'last_credit_pull_d']"
            ]
          },
          "metadata": {
            "tags": []
          },
          "execution_count": 165
        }
      ]
    },
    {
      "cell_type": "code",
      "metadata": {
        "id": "zDKlvFCtyvTM",
        "colab_type": "code",
        "outputId": "2268bea2-5eb6-4216-a1c6-affc8fccec43",
        "colab": {
          "base_uri": "https://localhost:8080/",
          "height": 295
        }
      },
      "source": [
        "# CONVERTS \"ISSUE_D\" TO DATETIME FORMAT\n",
        "loans['issue_d'] = pd.to_datetime(loans['issue_d'], infer_datetime_format=True)\n",
        "loans.dtypes[:15]"
      ],
      "execution_count": 166,
      "outputs": [
        {
          "output_type": "execute_result",
          "data": {
            "text/plain": [
              "loan_amnt                       int64\n",
              "funded_amnt                     int64\n",
              "funded_amnt_inv               float64\n",
              "term                           object\n",
              "int_rate                       object\n",
              "installment                   float64\n",
              "grade                          object\n",
              "sub_grade                      object\n",
              "emp_title                      object\n",
              "emp_length                     object\n",
              "home_ownership                 object\n",
              "annual_inc                    float64\n",
              "verification_status            object\n",
              "issue_d                datetime64[ns]\n",
              "loan_status                    object\n",
              "dtype: object"
            ]
          },
          "metadata": {
            "tags": []
          },
          "execution_count": 166
        }
      ]
    },
    {
      "cell_type": "code",
      "metadata": {
        "id": "k1vjtSOpzZJo",
        "colab_type": "code",
        "colab": {}
      },
      "source": [
        "# ADDS COLUMNS FOR ISSUE DATE MONTH AND YEAR\n",
        "loans['issue_year'] = loans['issue_d'].dt.year\n",
        "loans['issue_month'] = loans['issue_d'].dt.month"
      ],
      "execution_count": 0,
      "outputs": []
    },
    {
      "cell_type": "code",
      "metadata": {
        "id": "ni-xdavLzpAx",
        "colab_type": "code",
        "outputId": "89360f1f-3251-4c2b-ef72-4577ea92b3fd",
        "colab": {
          "base_uri": "https://localhost:8080/",
          "height": 121
        }
      },
      "source": [
        "# CALCULATES DAYS FROM THE EARLIEST CREDIT LINE\n",
        "loans['earliest_cr_line'] = pd.to_datetime(loans['earliest_cr_line'], infer_datetime_format=True)\n",
        "loans['days_from_earliest_cl_issue'] = (loans['issue_d'] - loans['earliest_cr_line']).dt.days\n",
        "loans['days_from_earliest_cl_issue'].head()"
      ],
      "execution_count": 169,
      "outputs": [
        {
          "output_type": "execute_result",
          "data": {
            "text/plain": [
              "0    14428\n",
              "1     5570\n",
              "2     4383\n",
              "3     1979\n",
              "4    12144\n",
              "Name: days_from_earliest_cl_issue, dtype: int64"
            ]
          },
          "metadata": {
            "tags": []
          },
          "execution_count": 169
        }
      ]
    },
    {
      "cell_type": "code",
      "metadata": {
        "id": "9WnNRP2q0mjt",
        "colab_type": "code",
        "outputId": "238f9ffe-b5f2-4d00-8e06-70e01858d7bd",
        "colab": {
          "base_uri": "https://localhost:8080/",
          "height": 34
        }
      },
      "source": [
        "# CALCULATES AVERAGE LENGTH OF CREDIT HISTORY IN YEARS\n",
        "loans['days_from_earliest_cl_issue'].mean() / 365"
      ],
      "execution_count": 0,
      "outputs": [
        {
          "output_type": "execute_result",
          "data": {
            "text/plain": [
              "16.054497232580577"
            ]
          },
          "metadata": {
            "tags": []
          },
          "execution_count": 103
        }
      ]
    },
    {
      "cell_type": "code",
      "metadata": {
        "id": "zBBGs5hQ01Q8",
        "colab_type": "code",
        "outputId": "9ab9c084-2301-40e4-c300-5414e3aa269d",
        "colab": {
          "base_uri": "https://localhost:8080/",
          "height": 34
        }
      },
      "source": [
        "# CALCULATES LONGEST CREDIT HISTORY IN DATASET\n",
        "loans['days_from_earliest_cl_issue'].max() / 365"
      ],
      "execution_count": 0,
      "outputs": [
        {
          "output_type": "execute_result",
          "data": {
            "text/plain": [
              "68.96164383561644"
            ]
          },
          "metadata": {
            "tags": []
          },
          "execution_count": 104
        }
      ]
    },
    {
      "cell_type": "markdown",
      "metadata": {
        "id": "L6_SWiTrc_Fv",
        "colab_type": "text"
      },
      "source": [
        "**Convert the `term` column from string to integer.**"
      ]
    },
    {
      "cell_type": "code",
      "metadata": {
        "id": "XEvmZcHQDBx8",
        "colab_type": "code",
        "outputId": "c837ea2a-c5ab-44cc-d702-484b434cefca",
        "colab": {
          "base_uri": "https://localhost:8080/",
          "height": 69
        }
      },
      "source": [
        "# NO NAN VALUES, ONLY 36 OR 60 MONTHS\n",
        "loans['term'].value_counts(dropna=False, ascending=False)"
      ],
      "execution_count": 0,
      "outputs": [
        {
          "output_type": "execute_result",
          "data": {
            "text/plain": [
              " 36 months    88179\n",
              " 60 months    40233\n",
              "Name: term, dtype: int64"
            ]
          },
          "metadata": {
            "tags": []
          },
          "execution_count": 135
        }
      ]
    },
    {
      "cell_type": "code",
      "metadata": {
        "id": "CTS6HFA_Bkfk",
        "colab_type": "code",
        "colab": {}
      },
      "source": [
        "# FUCTION TO CONVERT 'CLEAN' COLUMN TO INT\n",
        "def clean_term(cell):\n",
        "  return int(cell.strip(' months'))"
      ],
      "execution_count": 0,
      "outputs": []
    },
    {
      "cell_type": "code",
      "metadata": {
        "id": "lzVy5a_PCs0f",
        "colab_type": "code",
        "outputId": "6626ca07-47dd-47a3-f1eb-38635b2afaa3",
        "colab": {
          "base_uri": "https://localhost:8080/",
          "height": 34
        }
      },
      "source": [
        "# APPLIES FUNCTION\n",
        "loans['term_i'] = loans['term'].apply(clean_term)\n",
        "loans['term_i'].dtype"
      ],
      "execution_count": 170,
      "outputs": [
        {
          "output_type": "execute_result",
          "data": {
            "text/plain": [
              "dtype('int64')"
            ]
          },
          "metadata": {
            "tags": []
          },
          "execution_count": 170
        }
      ]
    },
    {
      "cell_type": "markdown",
      "metadata": {
        "id": "in-uGLAwdyxk",
        "colab_type": "text"
      },
      "source": [
        "**Make a column named `loan_status_is_great`. It should contain the integer 1 if `loan_status` is \"Current\" or \"Fully Paid.\" Else it should contain the integer 0.**"
      ]
    },
    {
      "cell_type": "code",
      "metadata": {
        "id": "_L-Z3WmEd-I7",
        "colab_type": "code",
        "colab": {
          "base_uri": "https://localhost:8080/",
          "height": 156
        },
        "outputId": "080ebe35-6085-43bb-e4da-f7f70443eb82"
      },
      "source": [
        "# VALUES OF loan_status COLUMN\n",
        "loans['loan_status'].value_counts(dropna=False, ascending=False)"
      ],
      "execution_count": 173,
      "outputs": [
        {
          "output_type": "execute_result",
          "data": {
            "text/plain": [
              "Current               100571\n",
              "Fully Paid             19545\n",
              "Charged Off             4433\n",
              "Late (31-120 days)      2662\n",
              "In Grace Period          730\n",
              "Late (16-30 days)        467\n",
              "Default                    4\n",
              "Name: loan_status, dtype: int64"
            ]
          },
          "metadata": {
            "tags": []
          },
          "execution_count": 173
        }
      ]
    },
    {
      "cell_type": "code",
      "metadata": {
        "id": "8p5ciHOoeE25",
        "colab_type": "code",
        "colab": {}
      },
      "source": [
        "# FUNCTION TO RETURN 1 IF CURRENT OR FULLY PAID, ELSE 0\n",
        "def clean_loan(cell):\n",
        "  if cell == 'Current' or cell == 'Fully Paid':\n",
        "    return 1\n",
        "  else:\n",
        "    return 0"
      ],
      "execution_count": 0,
      "outputs": []
    },
    {
      "cell_type": "code",
      "metadata": {
        "id": "R6dG6sJweanf",
        "colab_type": "code",
        "colab": {
          "base_uri": "https://localhost:8080/",
          "height": 34
        },
        "outputId": "29a1b8a9-3568-4dee-96aa-0cfe355f39c8"
      },
      "source": [
        "# TEST CASES FOR clean_loan FUNCTION\n",
        "loan_examples = ['Current', 'Fully Paid', 'Charged Off', 'Late (31-120 days)', \n",
        "                 'In Grace Period', 'Late (16-30 days)', 'Default']\n",
        "[clean_loan(i) for i in loan_examples]"
      ],
      "execution_count": 179,
      "outputs": [
        {
          "output_type": "execute_result",
          "data": {
            "text/plain": [
              "[1, 1, 0, 0, 0, 0, 0]"
            ]
          },
          "metadata": {
            "tags": []
          },
          "execution_count": 179
        }
      ]
    },
    {
      "cell_type": "code",
      "metadata": {
        "id": "pp6Yn3_TfPev",
        "colab_type": "code",
        "colab": {}
      },
      "source": [
        " # APPLIES FUNCTION TO LOANS DATAFRAME\n",
        "loans['loan_status_is_great'] = loans['loan_status'].apply(clean_loan)\n",
        "# loans['loan_status_is_great'].head(30)"
      ],
      "execution_count": 0,
      "outputs": []
    },
    {
      "cell_type": "markdown",
      "metadata": {
        "id": "866ktWyBgIKJ",
        "colab_type": "text"
      },
      "source": [
        "**Make `last_pymnt_d_month` and `last_pymnt_d_year` columns.**"
      ]
    },
    {
      "cell_type": "code",
      "metadata": {
        "id": "qMR5nDftgM87",
        "colab_type": "code",
        "colab": {
          "base_uri": "https://localhost:8080/",
          "height": 206
        },
        "outputId": "34188fb8-7916-4987-e322-7be134f4e3e7"
      },
      "source": [
        "# ADDED COLUMNS, RETURNS FLOAT??\n",
        "loans['last_pymnt_d'] = pd.to_datetime(loans['last_pymnt_d'], infer_datetime_format=True, errors='coerce')\n",
        "loans['last_pymnt_d_month'] = loans['last_pymnt_d'].dt.month\n",
        "loans['last_pymnt_d_year'] = loans['last_pymnt_d'].dt.year\n",
        "loans.iloc[0:5,-2:]"
      ],
      "execution_count": 199,
      "outputs": [
        {
          "output_type": "execute_result",
          "data": {
            "text/html": [
              "<div>\n",
              "<style scoped>\n",
              "    .dataframe tbody tr th:only-of-type {\n",
              "        vertical-align: middle;\n",
              "    }\n",
              "\n",
              "    .dataframe tbody tr th {\n",
              "        vertical-align: top;\n",
              "    }\n",
              "\n",
              "    .dataframe thead th {\n",
              "        text-align: right;\n",
              "    }\n",
              "</style>\n",
              "<table border=\"1\" class=\"dataframe\">\n",
              "  <thead>\n",
              "    <tr style=\"text-align: right;\">\n",
              "      <th></th>\n",
              "      <th>last_pymnt_d_month</th>\n",
              "      <th>last_pymnt_d_year</th>\n",
              "    </tr>\n",
              "  </thead>\n",
              "  <tbody>\n",
              "    <tr>\n",
              "      <th>0</th>\n",
              "      <td>11.0</td>\n",
              "      <td>2019.0</td>\n",
              "    </tr>\n",
              "    <tr>\n",
              "      <th>1</th>\n",
              "      <td>4.0</td>\n",
              "      <td>2019.0</td>\n",
              "    </tr>\n",
              "    <tr>\n",
              "      <th>2</th>\n",
              "      <td>10.0</td>\n",
              "      <td>2019.0</td>\n",
              "    </tr>\n",
              "    <tr>\n",
              "      <th>3</th>\n",
              "      <td>10.0</td>\n",
              "      <td>2019.0</td>\n",
              "    </tr>\n",
              "    <tr>\n",
              "      <th>4</th>\n",
              "      <td>4.0</td>\n",
              "      <td>2019.0</td>\n",
              "    </tr>\n",
              "  </tbody>\n",
              "</table>\n",
              "</div>"
            ],
            "text/plain": [
              "   last_pymnt_d_month  last_pymnt_d_year\n",
              "0                11.0             2019.0\n",
              "1                 4.0             2019.0\n",
              "2                10.0             2019.0\n",
              "3                10.0             2019.0\n",
              "4                 4.0             2019.0"
            ]
          },
          "metadata": {
            "tags": []
          },
          "execution_count": 199
        }
      ]
    },
    {
      "cell_type": "code",
      "metadata": {
        "id": "U_UF2AMkknNT",
        "colab_type": "code",
        "colab": {
          "base_uri": "https://localhost:8080/",
          "height": 312
        },
        "outputId": "96e24204-3076-43c0-ab14-8355702f1f38"
      },
      "source": [
        "loans['last_pymnt_d'].value_counts(dropna=False, ascending=False)"
      ],
      "execution_count": 200,
      "outputs": [
        {
          "output_type": "execute_result",
          "data": {
            "text/plain": [
              "2019-11-01    94238\n",
              "2019-10-01    10607\n",
              "2019-07-01     3156\n",
              "2019-09-01     2871\n",
              "2019-08-01     2758\n",
              "2019-05-01     2547\n",
              "2019-04-01     2356\n",
              "2019-06-01     2285\n",
              "2019-03-01     1984\n",
              "2019-02-01     1915\n",
              "2019-01-01     1561\n",
              "2018-12-01     1054\n",
              "2018-11-01      679\n",
              "2018-10-01      234\n",
              "NaT             159\n",
              "2019-12-01        8\n",
              "Name: last_pymnt_d, dtype: int64"
            ]
          },
          "metadata": {
            "tags": []
          },
          "execution_count": 200
        }
      ]
    },
    {
      "cell_type": "markdown",
      "metadata": {
        "colab_type": "text",
        "id": "L8k0LiHmo5EU"
      },
      "source": [
        "# Stretch Goals\n",
        "\n",
        "You can do more with the LendingClub or Instacart datasets.\n",
        "\n",
        "LendingClub options:\n",
        "- There's one other column in the dataframe with percent signs. Remove them and convert to floats. You'll need to handle missing values.\n",
        "- Modify the `emp_title` column to replace titles with 'Other' if the title is not in the top 20. \n",
        "- Take initiatve and work on your own ideas!\n",
        "\n",
        "Instacart options:\n",
        "- Read [Instacart Market Basket Analysis, Winner's Interview: 2nd place, Kazuki Onodera](http://blog.kaggle.com/2017/09/21/instacart-market-basket-analysis-winners-interview-2nd-place-kazuki-onodera/), especially the **Feature Engineering** section. (Can you choose one feature from his bulleted lists, and try to engineer it with pandas code?)\n",
        "- Read and replicate parts of [Simple Exploration Notebook - Instacart](https://www.kaggle.com/sudalairajkumar/simple-exploration-notebook-instacart). (It's the Python Notebook with the most upvotes for this Kaggle competition.)\n",
        "- Take initiative and work on your own ideas!"
      ]
    },
    {
      "cell_type": "code",
      "metadata": {
        "id": "VjLpaqoR77z9",
        "colab_type": "code",
        "colab": {}
      },
      "source": [
        "test_cases = ['15.2%', '  50.1', np.NaN]"
      ],
      "execution_count": 0,
      "outputs": []
    },
    {
      "cell_type": "code",
      "metadata": {
        "id": "h5ljwfuI3Xy1",
        "colab_type": "code",
        "colab": {}
      },
      "source": [
        "def clean_util(cell):\n",
        "  if isinstance(cell, str):\n",
        "    return float(cell.strip().strip('%'))/100\n",
        "  else:\n",
        "    return np.NaN"
      ],
      "execution_count": 0,
      "outputs": []
    },
    {
      "cell_type": "code",
      "metadata": {
        "id": "xvT2EKbb8cis",
        "colab_type": "code",
        "outputId": "f41cb8c3-dfd9-4e3d-9f83-ee61110e6926",
        "colab": {
          "base_uri": "https://localhost:8080/",
          "height": 34
        }
      },
      "source": [
        "[clean_util(i) for i in test_cases]"
      ],
      "execution_count": 0,
      "outputs": [
        {
          "output_type": "execute_result",
          "data": {
            "text/plain": [
              "[0.152, 0.501, nan]"
            ]
          },
          "metadata": {
            "tags": []
          },
          "execution_count": 122
        }
      ]
    },
    {
      "cell_type": "code",
      "metadata": {
        "id": "XTj7Wwju8TIq",
        "colab_type": "code",
        "outputId": "d506a69d-181d-4589-84ea-e5002b533c68",
        "colab": {
          "base_uri": "https://localhost:8080/",
          "height": 395
        }
      },
      "source": [
        "loans['revol_float'] = loans['revol_util'].apply(clean_util)\n",
        "loans.head()"
      ],
      "execution_count": 0,
      "outputs": [
        {
          "output_type": "execute_result",
          "data": {
            "text/html": [
              "<div>\n",
              "<style scoped>\n",
              "    .dataframe tbody tr th:only-of-type {\n",
              "        vertical-align: middle;\n",
              "    }\n",
              "\n",
              "    .dataframe tbody tr th {\n",
              "        vertical-align: top;\n",
              "    }\n",
              "\n",
              "    .dataframe thead th {\n",
              "        text-align: right;\n",
              "    }\n",
              "</style>\n",
              "<table border=\"1\" class=\"dataframe\">\n",
              "  <thead>\n",
              "    <tr style=\"text-align: right;\">\n",
              "      <th></th>\n",
              "      <th>loan_amnt</th>\n",
              "      <th>funded_amnt</th>\n",
              "      <th>funded_amnt_inv</th>\n",
              "      <th>term</th>\n",
              "      <th>int_rate</th>\n",
              "      <th>installment</th>\n",
              "      <th>grade</th>\n",
              "      <th>sub_grade</th>\n",
              "      <th>emp_title</th>\n",
              "      <th>emp_length</th>\n",
              "      <th>home_ownership</th>\n",
              "      <th>annual_inc</th>\n",
              "      <th>verification_status</th>\n",
              "      <th>issue_d</th>\n",
              "      <th>loan_status</th>\n",
              "      <th>pymnt_plan</th>\n",
              "      <th>purpose</th>\n",
              "      <th>title</th>\n",
              "      <th>zip_code</th>\n",
              "      <th>addr_state</th>\n",
              "      <th>dti</th>\n",
              "      <th>delinq_2yrs</th>\n",
              "      <th>earliest_cr_line</th>\n",
              "      <th>inq_last_6mths</th>\n",
              "      <th>mths_since_last_delinq</th>\n",
              "      <th>mths_since_last_record</th>\n",
              "      <th>open_acc</th>\n",
              "      <th>pub_rec</th>\n",
              "      <th>revol_bal</th>\n",
              "      <th>revol_util</th>\n",
              "      <th>total_acc</th>\n",
              "      <th>initial_list_status</th>\n",
              "      <th>out_prncp</th>\n",
              "      <th>out_prncp_inv</th>\n",
              "      <th>total_pymnt</th>\n",
              "      <th>total_pymnt_inv</th>\n",
              "      <th>total_rec_prncp</th>\n",
              "      <th>total_rec_int</th>\n",
              "      <th>total_rec_late_fee</th>\n",
              "      <th>recoveries</th>\n",
              "      <th>...</th>\n",
              "      <th>total_bc_limit</th>\n",
              "      <th>total_il_high_credit_limit</th>\n",
              "      <th>revol_bal_joint</th>\n",
              "      <th>sec_app_earliest_cr_line</th>\n",
              "      <th>sec_app_inq_last_6mths</th>\n",
              "      <th>sec_app_mort_acc</th>\n",
              "      <th>sec_app_open_acc</th>\n",
              "      <th>sec_app_revol_util</th>\n",
              "      <th>sec_app_open_act_il</th>\n",
              "      <th>sec_app_num_rev_accts</th>\n",
              "      <th>sec_app_chargeoff_within_12_mths</th>\n",
              "      <th>sec_app_collections_12_mths_ex_med</th>\n",
              "      <th>sec_app_mths_since_last_major_derog</th>\n",
              "      <th>hardship_flag</th>\n",
              "      <th>hardship_type</th>\n",
              "      <th>hardship_reason</th>\n",
              "      <th>hardship_status</th>\n",
              "      <th>deferral_term</th>\n",
              "      <th>hardship_amount</th>\n",
              "      <th>hardship_start_date</th>\n",
              "      <th>hardship_end_date</th>\n",
              "      <th>payment_plan_start_date</th>\n",
              "      <th>hardship_length</th>\n",
              "      <th>hardship_dpd</th>\n",
              "      <th>hardship_loan_status</th>\n",
              "      <th>orig_projected_additional_accrued_interest</th>\n",
              "      <th>hardship_payoff_balance_amount</th>\n",
              "      <th>hardship_last_payment_amount</th>\n",
              "      <th>debt_settlement_flag</th>\n",
              "      <th>debt_settlement_flag_date</th>\n",
              "      <th>settlement_status</th>\n",
              "      <th>settlement_date</th>\n",
              "      <th>settlement_amount</th>\n",
              "      <th>settlement_percentage</th>\n",
              "      <th>settlement_term</th>\n",
              "      <th>ir_to_float</th>\n",
              "      <th>issue_year</th>\n",
              "      <th>issue_month</th>\n",
              "      <th>days_from_earliest_cl_issue</th>\n",
              "      <th>revol_float</th>\n",
              "    </tr>\n",
              "  </thead>\n",
              "  <tbody>\n",
              "    <tr>\n",
              "      <th>0</th>\n",
              "      <td>20000</td>\n",
              "      <td>20000</td>\n",
              "      <td>20000.0</td>\n",
              "      <td>36 months</td>\n",
              "      <td>14.47%</td>\n",
              "      <td>688.13</td>\n",
              "      <td>C</td>\n",
              "      <td>C2</td>\n",
              "      <td>Bus Driver</td>\n",
              "      <td>4 years</td>\n",
              "      <td>OWN</td>\n",
              "      <td>52000.0</td>\n",
              "      <td>Source Verified</td>\n",
              "      <td>2018-12-01</td>\n",
              "      <td>Current</td>\n",
              "      <td>n</td>\n",
              "      <td>debt_consolidation</td>\n",
              "      <td>Debt consolidation</td>\n",
              "      <td>681xx</td>\n",
              "      <td>NE</td>\n",
              "      <td>30.65</td>\n",
              "      <td>1</td>\n",
              "      <td>1979-06-01</td>\n",
              "      <td>2</td>\n",
              "      <td>15.0</td>\n",
              "      <td>NaN</td>\n",
              "      <td>6</td>\n",
              "      <td>0</td>\n",
              "      <td>15048</td>\n",
              "      <td>73%</td>\n",
              "      <td>22</td>\n",
              "      <td>w</td>\n",
              "      <td>14777.99</td>\n",
              "      <td>14777.99</td>\n",
              "      <td>7481.000000</td>\n",
              "      <td>7481.00</td>\n",
              "      <td>5222.01</td>\n",
              "      <td>2258.99</td>\n",
              "      <td>0.0</td>\n",
              "      <td>0.0</td>\n",
              "      <td>...</td>\n",
              "      <td>20700</td>\n",
              "      <td>40999</td>\n",
              "      <td>NaN</td>\n",
              "      <td>NaN</td>\n",
              "      <td>NaN</td>\n",
              "      <td>NaN</td>\n",
              "      <td>NaN</td>\n",
              "      <td>NaN</td>\n",
              "      <td>NaN</td>\n",
              "      <td>NaN</td>\n",
              "      <td>NaN</td>\n",
              "      <td>NaN</td>\n",
              "      <td>NaN</td>\n",
              "      <td>N</td>\n",
              "      <td>NaN</td>\n",
              "      <td>NaN</td>\n",
              "      <td>NaN</td>\n",
              "      <td>NaN</td>\n",
              "      <td>NaN</td>\n",
              "      <td>NaN</td>\n",
              "      <td>NaN</td>\n",
              "      <td>NaN</td>\n",
              "      <td>NaN</td>\n",
              "      <td>NaN</td>\n",
              "      <td>NaN</td>\n",
              "      <td>NaN</td>\n",
              "      <td>NaN</td>\n",
              "      <td>NaN</td>\n",
              "      <td>N</td>\n",
              "      <td>NaN</td>\n",
              "      <td>NaN</td>\n",
              "      <td>NaN</td>\n",
              "      <td>NaN</td>\n",
              "      <td>NaN</td>\n",
              "      <td>NaN</td>\n",
              "      <td>14.47</td>\n",
              "      <td>2018</td>\n",
              "      <td>12</td>\n",
              "      <td>14428</td>\n",
              "      <td>0.730</td>\n",
              "    </tr>\n",
              "    <tr>\n",
              "      <th>1</th>\n",
              "      <td>25000</td>\n",
              "      <td>25000</td>\n",
              "      <td>25000.0</td>\n",
              "      <td>60 months</td>\n",
              "      <td>16.14%</td>\n",
              "      <td>609.82</td>\n",
              "      <td>C</td>\n",
              "      <td>C4</td>\n",
              "      <td>Production Manager</td>\n",
              "      <td>5 years</td>\n",
              "      <td>MORTGAGE</td>\n",
              "      <td>45000.0</td>\n",
              "      <td>Not Verified</td>\n",
              "      <td>2018-12-01</td>\n",
              "      <td>Fully Paid</td>\n",
              "      <td>n</td>\n",
              "      <td>debt_consolidation</td>\n",
              "      <td>Debt consolidation</td>\n",
              "      <td>703xx</td>\n",
              "      <td>LA</td>\n",
              "      <td>37.09</td>\n",
              "      <td>0</td>\n",
              "      <td>2003-09-01</td>\n",
              "      <td>0</td>\n",
              "      <td>NaN</td>\n",
              "      <td>NaN</td>\n",
              "      <td>7</td>\n",
              "      <td>0</td>\n",
              "      <td>8901</td>\n",
              "      <td>36.8%</td>\n",
              "      <td>21</td>\n",
              "      <td>w</td>\n",
              "      <td>0.00</td>\n",
              "      <td>0.00</td>\n",
              "      <td>26653.167580</td>\n",
              "      <td>26653.17</td>\n",
              "      <td>25000.00</td>\n",
              "      <td>1653.17</td>\n",
              "      <td>0.0</td>\n",
              "      <td>0.0</td>\n",
              "      <td>...</td>\n",
              "      <td>18600</td>\n",
              "      <td>49483</td>\n",
              "      <td>NaN</td>\n",
              "      <td>NaN</td>\n",
              "      <td>NaN</td>\n",
              "      <td>NaN</td>\n",
              "      <td>NaN</td>\n",
              "      <td>NaN</td>\n",
              "      <td>NaN</td>\n",
              "      <td>NaN</td>\n",
              "      <td>NaN</td>\n",
              "      <td>NaN</td>\n",
              "      <td>NaN</td>\n",
              "      <td>N</td>\n",
              "      <td>NaN</td>\n",
              "      <td>NaN</td>\n",
              "      <td>NaN</td>\n",
              "      <td>NaN</td>\n",
              "      <td>NaN</td>\n",
              "      <td>NaN</td>\n",
              "      <td>NaN</td>\n",
              "      <td>NaN</td>\n",
              "      <td>NaN</td>\n",
              "      <td>NaN</td>\n",
              "      <td>NaN</td>\n",
              "      <td>NaN</td>\n",
              "      <td>NaN</td>\n",
              "      <td>NaN</td>\n",
              "      <td>N</td>\n",
              "      <td>NaN</td>\n",
              "      <td>NaN</td>\n",
              "      <td>NaN</td>\n",
              "      <td>NaN</td>\n",
              "      <td>NaN</td>\n",
              "      <td>NaN</td>\n",
              "      <td>16.14</td>\n",
              "      <td>2018</td>\n",
              "      <td>12</td>\n",
              "      <td>5570</td>\n",
              "      <td>0.368</td>\n",
              "    </tr>\n",
              "    <tr>\n",
              "      <th>2</th>\n",
              "      <td>26500</td>\n",
              "      <td>26500</td>\n",
              "      <td>26500.0</td>\n",
              "      <td>60 months</td>\n",
              "      <td>11.31%</td>\n",
              "      <td>580.28</td>\n",
              "      <td>B</td>\n",
              "      <td>B3</td>\n",
              "      <td>Compliance Director</td>\n",
              "      <td>10+ years</td>\n",
              "      <td>MORTGAGE</td>\n",
              "      <td>134000.0</td>\n",
              "      <td>Source Verified</td>\n",
              "      <td>2018-12-01</td>\n",
              "      <td>Current</td>\n",
              "      <td>n</td>\n",
              "      <td>credit_card</td>\n",
              "      <td>Credit card refinancing</td>\n",
              "      <td>747xx</td>\n",
              "      <td>OK</td>\n",
              "      <td>18.91</td>\n",
              "      <td>0</td>\n",
              "      <td>2006-12-01</td>\n",
              "      <td>2</td>\n",
              "      <td>NaN</td>\n",
              "      <td>NaN</td>\n",
              "      <td>17</td>\n",
              "      <td>0</td>\n",
              "      <td>43640</td>\n",
              "      <td>65.4%</td>\n",
              "      <td>37</td>\n",
              "      <td>w</td>\n",
              "      <td>23051.06</td>\n",
              "      <td>23051.06</td>\n",
              "      <td>5777.820000</td>\n",
              "      <td>5777.82</td>\n",
              "      <td>3448.94</td>\n",
              "      <td>2328.88</td>\n",
              "      <td>0.0</td>\n",
              "      <td>0.0</td>\n",
              "      <td>...</td>\n",
              "      <td>49300</td>\n",
              "      <td>88875</td>\n",
              "      <td>NaN</td>\n",
              "      <td>NaN</td>\n",
              "      <td>NaN</td>\n",
              "      <td>NaN</td>\n",
              "      <td>NaN</td>\n",
              "      <td>NaN</td>\n",
              "      <td>NaN</td>\n",
              "      <td>NaN</td>\n",
              "      <td>NaN</td>\n",
              "      <td>NaN</td>\n",
              "      <td>NaN</td>\n",
              "      <td>N</td>\n",
              "      <td>NaN</td>\n",
              "      <td>NaN</td>\n",
              "      <td>NaN</td>\n",
              "      <td>NaN</td>\n",
              "      <td>NaN</td>\n",
              "      <td>NaN</td>\n",
              "      <td>NaN</td>\n",
              "      <td>NaN</td>\n",
              "      <td>NaN</td>\n",
              "      <td>NaN</td>\n",
              "      <td>NaN</td>\n",
              "      <td>NaN</td>\n",
              "      <td>NaN</td>\n",
              "      <td>NaN</td>\n",
              "      <td>N</td>\n",
              "      <td>NaN</td>\n",
              "      <td>NaN</td>\n",
              "      <td>NaN</td>\n",
              "      <td>NaN</td>\n",
              "      <td>NaN</td>\n",
              "      <td>NaN</td>\n",
              "      <td>11.31</td>\n",
              "      <td>2018</td>\n",
              "      <td>12</td>\n",
              "      <td>4383</td>\n",
              "      <td>0.654</td>\n",
              "    </tr>\n",
              "    <tr>\n",
              "      <th>3</th>\n",
              "      <td>10400</td>\n",
              "      <td>10400</td>\n",
              "      <td>10400.0</td>\n",
              "      <td>36 months</td>\n",
              "      <td>12.98%</td>\n",
              "      <td>350.32</td>\n",
              "      <td>B</td>\n",
              "      <td>B5</td>\n",
              "      <td>Program Support Assistant</td>\n",
              "      <td>10+ years</td>\n",
              "      <td>MORTGAGE</td>\n",
              "      <td>56099.0</td>\n",
              "      <td>Source Verified</td>\n",
              "      <td>2018-12-01</td>\n",
              "      <td>Current</td>\n",
              "      <td>n</td>\n",
              "      <td>credit_card</td>\n",
              "      <td>Credit card refinancing</td>\n",
              "      <td>800xx</td>\n",
              "      <td>CO</td>\n",
              "      <td>20.92</td>\n",
              "      <td>0</td>\n",
              "      <td>2013-07-01</td>\n",
              "      <td>2</td>\n",
              "      <td>32.0</td>\n",
              "      <td>67.0</td>\n",
              "      <td>8</td>\n",
              "      <td>1</td>\n",
              "      <td>1669</td>\n",
              "      <td>9.8%</td>\n",
              "      <td>10</td>\n",
              "      <td>w</td>\n",
              "      <td>7902.57</td>\n",
              "      <td>7902.57</td>\n",
              "      <td>3491.950000</td>\n",
              "      <td>3491.95</td>\n",
              "      <td>2497.43</td>\n",
              "      <td>994.52</td>\n",
              "      <td>0.0</td>\n",
              "      <td>0.0</td>\n",
              "      <td>...</td>\n",
              "      <td>17000</td>\n",
              "      <td>43709</td>\n",
              "      <td>NaN</td>\n",
              "      <td>NaN</td>\n",
              "      <td>NaN</td>\n",
              "      <td>NaN</td>\n",
              "      <td>NaN</td>\n",
              "      <td>NaN</td>\n",
              "      <td>NaN</td>\n",
              "      <td>NaN</td>\n",
              "      <td>NaN</td>\n",
              "      <td>NaN</td>\n",
              "      <td>NaN</td>\n",
              "      <td>N</td>\n",
              "      <td>NaN</td>\n",
              "      <td>NaN</td>\n",
              "      <td>NaN</td>\n",
              "      <td>NaN</td>\n",
              "      <td>NaN</td>\n",
              "      <td>NaN</td>\n",
              "      <td>NaN</td>\n",
              "      <td>NaN</td>\n",
              "      <td>NaN</td>\n",
              "      <td>NaN</td>\n",
              "      <td>NaN</td>\n",
              "      <td>NaN</td>\n",
              "      <td>NaN</td>\n",
              "      <td>NaN</td>\n",
              "      <td>N</td>\n",
              "      <td>NaN</td>\n",
              "      <td>NaN</td>\n",
              "      <td>NaN</td>\n",
              "      <td>NaN</td>\n",
              "      <td>NaN</td>\n",
              "      <td>NaN</td>\n",
              "      <td>12.98</td>\n",
              "      <td>2018</td>\n",
              "      <td>12</td>\n",
              "      <td>1979</td>\n",
              "      <td>0.098</td>\n",
              "    </tr>\n",
              "    <tr>\n",
              "      <th>4</th>\n",
              "      <td>35000</td>\n",
              "      <td>35000</td>\n",
              "      <td>35000.0</td>\n",
              "      <td>60 months</td>\n",
              "      <td>12.98%</td>\n",
              "      <td>796.00</td>\n",
              "      <td>B</td>\n",
              "      <td>B5</td>\n",
              "      <td>Sr. Vice President -Risk Manager</td>\n",
              "      <td>7 years</td>\n",
              "      <td>MORTGAGE</td>\n",
              "      <td>211646.0</td>\n",
              "      <td>Source Verified</td>\n",
              "      <td>2018-12-01</td>\n",
              "      <td>Fully Paid</td>\n",
              "      <td>n</td>\n",
              "      <td>debt_consolidation</td>\n",
              "      <td>Debt consolidation</td>\n",
              "      <td>797xx</td>\n",
              "      <td>TX</td>\n",
              "      <td>15.09</td>\n",
              "      <td>0</td>\n",
              "      <td>1985-09-01</td>\n",
              "      <td>0</td>\n",
              "      <td>77.0</td>\n",
              "      <td>NaN</td>\n",
              "      <td>13</td>\n",
              "      <td>0</td>\n",
              "      <td>55944</td>\n",
              "      <td>74.9%</td>\n",
              "      <td>39</td>\n",
              "      <td>w</td>\n",
              "      <td>0.00</td>\n",
              "      <td>0.00</td>\n",
              "      <td>36266.741552</td>\n",
              "      <td>36266.74</td>\n",
              "      <td>35000.00</td>\n",
              "      <td>1266.74</td>\n",
              "      <td>0.0</td>\n",
              "      <td>0.0</td>\n",
              "      <td>...</td>\n",
              "      <td>59700</td>\n",
              "      <td>51904</td>\n",
              "      <td>88364.0</td>\n",
              "      <td>Sep-1985</td>\n",
              "      <td>0.0</td>\n",
              "      <td>6.0</td>\n",
              "      <td>19.0</td>\n",
              "      <td>53.4</td>\n",
              "      <td>2.0</td>\n",
              "      <td>29.0</td>\n",
              "      <td>0.0</td>\n",
              "      <td>0.0</td>\n",
              "      <td>NaN</td>\n",
              "      <td>N</td>\n",
              "      <td>NaN</td>\n",
              "      <td>NaN</td>\n",
              "      <td>NaN</td>\n",
              "      <td>NaN</td>\n",
              "      <td>NaN</td>\n",
              "      <td>NaN</td>\n",
              "      <td>NaN</td>\n",
              "      <td>NaN</td>\n",
              "      <td>NaN</td>\n",
              "      <td>NaN</td>\n",
              "      <td>NaN</td>\n",
              "      <td>NaN</td>\n",
              "      <td>NaN</td>\n",
              "      <td>NaN</td>\n",
              "      <td>N</td>\n",
              "      <td>NaN</td>\n",
              "      <td>NaN</td>\n",
              "      <td>NaN</td>\n",
              "      <td>NaN</td>\n",
              "      <td>NaN</td>\n",
              "      <td>NaN</td>\n",
              "      <td>12.98</td>\n",
              "      <td>2018</td>\n",
              "      <td>12</td>\n",
              "      <td>12144</td>\n",
              "      <td>0.749</td>\n",
              "    </tr>\n",
              "  </tbody>\n",
              "</table>\n",
              "<p>5 rows × 145 columns</p>\n",
              "</div>"
            ],
            "text/plain": [
              "   loan_amnt  funded_amnt  ...  days_from_earliest_cl_issue revol_float\n",
              "0      20000        20000  ...                        14428       0.730\n",
              "1      25000        25000  ...                         5570       0.368\n",
              "2      26500        26500  ...                         4383       0.654\n",
              "3      10400        10400  ...                         1979       0.098\n",
              "4      35000        35000  ...                        12144       0.749\n",
              "\n",
              "[5 rows x 145 columns]"
            ]
          },
          "metadata": {
            "tags": []
          },
          "execution_count": 126
        }
      ]
    }
  ]
}