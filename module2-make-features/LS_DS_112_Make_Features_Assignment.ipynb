{
  "nbformat": 4,
  "nbformat_minor": 0,
  "metadata": {
    "colab": {
      "name": "LS_DS_112_Make_Features_Assignment.ipynb",
      "provenance": [],
      "collapsed_sections": [],
      "include_colab_link": true
    },
    "kernelspec": {
      "display_name": "Python 3",
      "language": "python",
      "name": "python3"
    },
    "language_info": {
      "codemirror_mode": {
        "name": "ipython",
        "version": 3
      },
      "file_extension": ".py",
      "mimetype": "text/x-python",
      "name": "python",
      "nbconvert_exporter": "python",
      "pygments_lexer": "ipython3",
      "version": "3.7.1"
    }
  },
  "cells": [
    {
      "cell_type": "markdown",
      "metadata": {
        "id": "view-in-github",
        "colab_type": "text"
      },
      "source": [
        "<a href=\"https://colab.research.google.com/github/jproctor-rebecca/DS-Unit-1-Sprint-1-Data-Wrangling-and-Storytelling/blob/master/module2-make-features/LS_DS_112_Make_Features_Assignment.ipynb\" target=\"_parent\"><img src=\"https://colab.research.google.com/assets/colab-badge.svg\" alt=\"Open In Colab\"/></a>"
      ]
    },
    {
      "cell_type": "markdown",
      "metadata": {
        "id": "SnDJqBLi0FYW",
        "colab_type": "text"
      },
      "source": [
        "<img align=\"left\" src=\"https://lever-client-logos.s3.amazonaws.com/864372b1-534c-480e-acd5-9711f850815c-1524247202159.png\" width=200> "
      ]
    },
    {
      "cell_type": "markdown",
      "metadata": {
        "id": "W5GjI1z5yNG4",
        "colab_type": "text"
      },
      "source": [
        "# Assignment:\n",
        "\n",
        "- Replicate the lesson code.\n",
        "\n",
        " - This means that if you haven't followed along already, type out the things that we did in class. Forcing your fingers to hit each key will help you internalize the syntax of what we're doing. Make sure you understand each line of code that you're writing, google things that you don't fully understand.\n",
        " - [Lambda Learning Method for DS - By Ryan Herr](https://docs.google.com/document/d/1ubOw9B3Hfip27hF2ZFnW3a3z9xAgrUDRReOEo-FHCVs/edit?usp=sharing)\n",
        "- Convert the `term` column from string to integer.\n",
        "- Make a column named `loan_status_is_great`. It should contain the integer 1 if `loan_status` is \"Current\" or \"Fully Paid.\" Else it should contain the integer 0.\n",
        "- Make `last_pymnt_d_month` and `last_pymnt_d_year` columns."
      ]
    },
    {
      "cell_type": "code",
      "metadata": {
        "id": "AazB4eFwym2p",
        "colab_type": "code",
        "colab": {}
      },
      "source": [
        "##### Begin Working Here #####\n",
        "import pandas as pd\n",
        "# needed for dataframes"
      ],
      "execution_count": null,
      "outputs": []
    },
    {
      "cell_type": "code",
      "metadata": {
        "id": "QC26494EnRIp",
        "colab_type": "code",
        "colab": {}
      },
      "source": [
        "df = pd.read_csv('https://raw.githubusercontent.com/ryanleeallred/datasets/master/Ames%20Housing%20Data/train.csv')\n",
        "# Ames Iowa Housing Dataset\n",
        "\n",
        "print(df.shape)\n",
        "df.head()"
      ],
      "execution_count": null,
      "outputs": []
    },
    {
      "cell_type": "code",
      "metadata": {
        "id": "k38QRVhEnivL",
        "colab_type": "code",
        "colab": {}
      },
      "source": [
        "df.dtypes\n",
        "# may print truncated display settings with elipses"
      ],
      "execution_count": null,
      "outputs": []
    },
    {
      "cell_type": "code",
      "metadata": {
        "id": "777L9xE3nxE_",
        "colab_type": "code",
        "colab": {}
      },
      "source": [
        "# sets parameters for data display to avoid truncation\n",
        "pd.set_option('display.max_rows', 150)\n",
        "pd.set_option('display.max_columns', 100)\n",
        "\n",
        "\n",
        "df.head()"
      ],
      "execution_count": null,
      "outputs": []
    },
    {
      "cell_type": "code",
      "metadata": {
        "id": "KvILoDPRn3Da",
        "colab_type": "code",
        "colab": {}
      },
      "source": [
        "df['BedroomAbvGr'].head(10)\n",
        "# view data to determine/confirm data type"
      ],
      "execution_count": null,
      "outputs": []
    },
    {
      "cell_type": "code",
      "metadata": {
        "id": "xNh-XZT5owHU",
        "colab_type": "code",
        "colab": {}
      },
      "source": [
        "df['LotFrontage'].head(10)\n",
        "# view data to determine/confirm data type"
      ],
      "execution_count": null,
      "outputs": []
    },
    {
      "cell_type": "code",
      "metadata": {
        "id": "cAtfAn1xo_9P",
        "colab_type": "code",
        "colab": {}
      },
      "source": [
        "df[\"LotFrontage\"].value_counts(dropna=False).head()\n",
        "# note that NaN is the most common value in column"
      ],
      "execution_count": null,
      "outputs": []
    },
    {
      "cell_type": "code",
      "metadata": {
        "id": "muXh3VHFpm9P",
        "colab_type": "code",
        "colab": {}
      },
      "source": [
        "import numpy as np\n",
        "# needed for mathematical computations\n",
        "\n",
        "type(np.NaN)"
      ],
      "execution_count": null,
      "outputs": []
    },
    {
      "cell_type": "code",
      "metadata": {
        "id": "uvRTVd3jqnwM",
        "colab_type": "code",
        "colab": {}
      },
      "source": [
        "# make a smaller dataframe with a few specific column headers\n",
        "# by passing a list of column headers inside of the square brackets\n",
        "# save to a new data frame with all links to old dataframe broken\n",
        "small_df = df['TotalBsmtSF', '1stFlrSF', '2ndFlrSF', 'SalePrice'].copy()\n",
        "\n",
        "small_df.head()"
      ],
      "execution_count": null,
      "outputs": []
    },
    {
      "cell_type": "code",
      "metadata": {
        "id": "UxCSuW-Htpov",
        "colab_type": "code",
        "colab": {}
      },
      "source": [
        "# add the square footage to get a total square footage column\n",
        "# remember to use bracket syntax to make a new column in dataframes\n",
        "# we make new columns that say new things about our data using the current data \n",
        "# this is one of the most important ways to improve machine learning model\n",
        "\n",
        "small_df['TotalSquareFootage'] = small_df['TotalBsmtSF'] + small_df['1stFlrSF'] + small_df['2ndFlrSF']\n",
        "\n",
        "small_df.head()"
      ],
      "execution_count": null,
      "outputs": []
    },
    {
      "cell_type": "code",
      "metadata": {
        "id": "tNLxE4tmtwyj",
        "colab_type": "code",
        "colab": {}
      },
      "source": [
        "# add another column by dividing the price by the square footage\n",
        "\n",
        "small_df['PricePerSqFt'] = (small_df['SalePrice'] / small_df['TotalSquareFootage'])\n",
        "\n",
        "small_df.head()"
      ],
      "execution_count": null,
      "outputs": []
    },
    {
      "cell_type": "code",
      "metadata": {
        "id": "iW-oZ0NGwYLy",
        "colab_type": "code",
        "colab": {}
      },
      "source": [
        "!wget https://resources.lendingclub.com/LoanStats_2018Q4.csv.zip"
      ],
      "execution_count": null,
      "outputs": []
    },
    {
      "cell_type": "code",
      "metadata": {
        "id": "2I2WEYdGw5L9",
        "colab_type": "code",
        "colab": {}
      },
      "source": [
        "# df = pd.read_csv('LoanStats_2018Q4')"
      ],
      "execution_count": null,
      "outputs": []
    },
    {
      "cell_type": "code",
      "metadata": {
        "id": "ODP6VSEVw-0S",
        "colab_type": "code",
        "colab": {}
      },
      "source": [
        "!unzip LoanStats_2018Q4.csv.zip"
      ],
      "execution_count": null,
      "outputs": []
    },
    {
      "cell_type": "code",
      "metadata": {
        "id": "vtGuBUedxCsY",
        "colab_type": "code",
        "colab": {}
      },
      "source": [
        "!head LoanStats_2018Q4.csv\n",
        "# need to skip first row - just notes & being used as header"
      ],
      "execution_count": null,
      "outputs": []
    },
    {
      "cell_type": "code",
      "metadata": {
        "id": "485B7gRGxK0a",
        "colab_type": "code",
        "colab": {}
      },
      "source": [
        "!tail LoanStats_2018Q4.csv\n",
        "# need to skipp footer - currently included in nulls for every column"
      ],
      "execution_count": null,
      "outputs": []
    },
    {
      "cell_type": "code",
      "metadata": {
        "id": "tnqht9LhxaD-",
        "colab_type": "code",
        "colab": {}
      },
      "source": [
        "df1 = pd.read_csv('LoanStats_2018Q4.csv')\n",
        "\n",
        "print(df.shape)\n",
        "df.head()\n",
        "# need to fix the header problem by using the 'skiprows' parameter\n"
      ],
      "execution_count": null,
      "outputs": []
    },
    {
      "cell_type": "code",
      "metadata": {
        "id": "WZAEzK2jxzvS",
        "colab_type": "code",
        "colab": {}
      },
      "source": [
        "# df = pd.read_csv('LoanStats_2018Q4.csv', skiprows=1)\n",
        "df1 = pd.read_csv('LoanStats_2018Q4.csv', header=1)\n",
        "\n",
        "# print(df.shape)\n",
        "df1.head()"
      ],
      "execution_count": null,
      "outputs": []
    },
    {
      "cell_type": "code",
      "metadata": {
        "id": "xBWinX5Rx8SR",
        "colab_type": "code",
        "colab": {}
      },
      "source": [
        "# make sure to check the shape even if you have to check it seperately for now \n",
        "# so you don't miss it\n",
        "print(df1.shape)"
      ],
      "execution_count": null,
      "outputs": []
    },
    {
      "cell_type": "code",
      "metadata": {
        "id": "4IHwNu7syf0n",
        "colab_type": "code",
        "colab": {}
      },
      "source": [
        "# check for nulls by summing null values by column and sorting\n",
        "# from least to greatest\n",
        "\n",
        "df1.isnull().sum().sort_values()"
      ],
      "execution_count": null,
      "outputs": []
    },
    {
      "cell_type": "code",
      "metadata": {
        "id": "V_Y_JyL7y5WQ",
        "colab_type": "code",
        "colab": {}
      },
      "source": [
        "# address the extra NaNs in each column by skipping the footer as well\n",
        "\n",
        "df1 = pd.read_csv('LoanStats_2018Q4.csv', skiprows=1, skipfooter=2, \n",
        "                 engine='python')\n",
        "# resolve error by adding \"engine='python'\" parser\n",
        "\n",
        "print(df1.shape)\n",
        "df1.head()"
      ],
      "execution_count": null,
      "outputs": []
    },
    {
      "cell_type": "code",
      "metadata": {
        "id": "tHtIkSzp1Z_d",
        "colab_type": "code",
        "colab": {}
      },
      "source": [
        "# check for nulls by summing null values by column and sorting\n",
        "# from least to greatest\n",
        "df1.isnull().sum().sort_values()"
      ],
      "execution_count": null,
      "outputs": []
    },
    {
      "cell_type": "code",
      "metadata": {
        "id": "nttePZij1i7E",
        "colab_type": "code",
        "colab": {}
      },
      "source": [
        "# publicly traded data cannot be used to track individuals\n",
        "# make sure to include column axis=1 or row axis=1 parameter\n",
        "\n",
        "df1 = df1.drop(['url', 'member_id', 'desc', 'id'], axis=1)\n",
        "# dropping columns that are completely blank\n",
        "\n",
        "print(df1.shape)\n",
        "df1.head()"
      ],
      "execution_count": null,
      "outputs": []
    },
    {
      "cell_type": "code",
      "metadata": {
        "id": "hwstEA2_10ho",
        "colab_type": "code",
        "colab": {}
      },
      "source": [
        "# view the first 10 values of the int_rate column\n",
        "\n",
        "# df1['int_rate'][:10]\n",
        "df1['int_rate'](10)"
      ],
      "execution_count": null,
      "outputs": []
    },
    {
      "cell_type": "code",
      "metadata": {
        "id": "VG_tStTK2GWo",
        "colab_type": "code",
        "colab": {}
      },
      "source": [
        "# view a specific value from the int_rate column\n",
        "\n",
        "df1['int_rate'][0]\n"
      ],
      "execution_count": null,
      "outputs": []
    },
    {
      "cell_type": "code",
      "metadata": {
        "id": "P0c9L4fY2i14",
        "colab_type": "code",
        "colab": {}
      },
      "source": [
        "df1['int_rate'][1]"
      ],
      "execution_count": null,
      "outputs": []
    },
    {
      "cell_type": "code",
      "metadata": {
        "id": "-yjetbgy2ot-",
        "colab_type": "code",
        "colab": {}
      },
      "source": [
        "# removes whitespace and string characters\n",
        "# chaining functions\n",
        "# int_rate.strip().strip('%')\n",
        "\n",
        "# now cast string value to a float\n",
        "# float(int_rate.strip().strip('%'))\n",
        "\n",
        "# now do this for the entire column\n",
        "# must be held in a function\n",
        "# name funtion so that it is clear what function does\n",
        "# write a function that will work on any cell in the column\n",
        "# Use .apply() to call the function"
      ],
      "execution_count": null,
      "outputs": []
    },
    {
      "cell_type": "code",
      "metadata": {
        "id": "UgMriwqv22Q8",
        "colab_type": "code",
        "colab": {}
      },
      "source": [
        "def int_rate_to_float(cell_contents):\n",
        "  return float(cell_contents.strip().strip('%'))\n",
        "\n",
        "# def int_rate_to_float(int_rate):\n",
        "  # return float(int_rate.strip().strip('%'))"
      ],
      "execution_count": null,
      "outputs": []
    },
    {
      "cell_type": "code",
      "metadata": {
        "id": "BKtSb8GS3sGo",
        "colab_type": "code",
        "colab": {}
      },
      "source": [
        "df1['int_rate_float'] = df['int_rate'].apply(int_rate_to_float)\n",
        "\n",
        "df1.head()\n",
        "\n",
        "''' For loop is the long way of modifying multiple items in a dataframe \n",
        "    and not suggested but is listed below to show what is happening\n",
        "    under the hood .apply() is called '''\n",
        "\n",
        "# Cleaned_int_rates = []\n",
        "\n",
        "# for int_rate in df('int_rate'):\n",
        "   # cleadened_int_rates.append(int_rate_to_float(int_rate))\n",
        "\n",
        "# df1['cleaned_int_rate'] = pd.Series(cleaded_int_rates)\n",
        "\n",
        "# df1.head()"
      ],
      "execution_count": null,
      "outputs": []
    },
    {
      "cell_type": "code",
      "metadata": {
        "id": "9_zPhQ9NwEhl",
        "colab_type": "code",
        "colab": {}
      },
      "source": [
        "# convert the string 'term' to an integer"
      ],
      "execution_count": null,
      "outputs": []
    },
    {
      "cell_type": "code",
      "metadata": {
        "id": "7whQtQ6M_HDH",
        "colab_type": "code",
        "colab": {}
      },
      "source": [
        ""
      ],
      "execution_count": null,
      "outputs": []
    },
    {
      "cell_type": "code",
      "metadata": {
        "id": "R0-dcht33r4k",
        "colab_type": "code",
        "colab": {}
      },
      "source": [
        "# view datatypes of the last 5 columns\n",
        "df1.dtypes[-5:]"
      ],
      "execution_count": null,
      "outputs": []
    },
    {
      "cell_type": "code",
      "metadata": {
        "id": "d9vkNBUb3rnY",
        "colab_type": "code",
        "colab": {}
      },
      "source": [
        "# unique employment titles\n",
        "len(df1['emp_title'].value_counts())\n"
      ],
      "execution_count": null,
      "outputs": []
    },
    {
      "cell_type": "code",
      "metadata": {
        "id": "iWcTC4b6Ag3g",
        "colab_type": "code",
        "colab": {}
      },
      "source": [
        "df1['emp_title'].nunique()"
      ],
      "execution_count": null,
      "outputs": []
    },
    {
      "cell_type": "code",
      "metadata": {
        "id": "yqTkdVkRAgkw",
        "colab_type": "code",
        "colab": {}
      },
      "source": [
        "df1['emp_title'].isnunll().sum()"
      ],
      "execution_count": null,
      "outputs": []
    },
    {
      "cell_type": "code",
      "metadata": {
        "id": "h7RKrgl_AOkW",
        "colab_type": "code",
        "colab": {}
      },
      "source": [
        "# emplyment titles we want to clean up\n",
        "\n",
        "examples = ['owner', 'Supervisor', ' Project Manager', np.NaN]"
      ],
      "execution_count": null,
      "outputs": []
    },
    {
      "cell_type": "code",
      "metadata": {
        "id": "thoWj_dvAfjW",
        "colab_type": "code",
        "colab": {}
      },
      "source": [
        "\"\"\"def clean_emp_title(title):\n",
        "  if isinstance(title, string):\n",
        "    return title.strip().title()\n",
        "  else\n",
        "    return \"NA\"\n",
        "    # will get changed to a NaN again\n",
        "\n",
        "  for example in examples:\n",
        "    print(clean_emp_title(example))\"\"\""
      ],
      "execution_count": null,
      "outputs": []
    },
    {
      "cell_type": "code",
      "metadata": {
        "id": "4Mr6eefKAz0w",
        "colab_type": "code",
        "colab": {}
      },
      "source": [
        "# function cleans up cases and increase uniformity\n",
        "\n",
        "def clean_title(title):\n",
        "  if isinstance(title, str):\n",
        "    return title.strip().title()  '''could use .lower() to make all lower case'''\n",
        "  else:\n",
        "    return \"Unknown\"\n",
        "\n",
        "for example in examples:\n",
        "  print(clean_title(example))"
      ],
      "execution_count": null,
      "outputs": []
    },
    {
      "cell_type": "code",
      "metadata": {
        "id": "PPUdDjP2BJAH",
        "colab_type": "code",
        "colab": {}
      },
      "source": [
        "# list comprehensions can combine function calls and for loops over lists\n",
        "# into one succinct and fairly readable single line of code.\n",
        "# list comprehensions can make your lists a little more readable\n",
        "\n",
        "[clean_title(example) for example in examples]"
      ],
      "execution_count": null,
      "outputs": []
    },
    {
      "cell_type": "code",
      "metadata": {
        "id": "n6EVDHgWBUK_",
        "colab_type": "code",
        "colab": {}
      },
      "source": [
        "# overwrite the original column \n",
        "\n",
        "df1['emp_title'] = df1['emp_title'].apply(clean_title)\n",
        "\n",
        "df1.head()"
      ],
      "execution_count": null,
      "outputs": []
    },
    {
      "cell_type": "code",
      "metadata": {
        "id": "0zqF1YvFB7Ln",
        "colab_type": "code",
        "colab": {}
      },
      "source": [
        "# view top 20 employment titles\n",
        "df['emp_title'].value_counts(dropna=False, ascending=False)[:20]"
      ],
      "execution_count": null,
      "outputs": []
    },
    {
      "cell_type": "code",
      "metadata": {
        "id": "GsmbRCWKEH9h",
        "colab_type": "code",
        "colab": {}
      },
      "source": [
        "# view top 20 unique employment titles\n",
        "df1['emp_title'].nunique(dropna=False, ascending=False)[:20]"
      ],
      "execution_count": null,
      "outputs": []
    },
    {
      "cell_type": "code",
      "metadata": {
        "id": "AyMjLIW_EvuZ",
        "colab_type": "code",
        "colab": {}
      },
      "source": [
        "# check for null (NaN) by using sum of emplyment titles\n",
        "df1['emp_title'].isnull().sum()"
      ],
      "execution_count": null,
      "outputs": []
    },
    {
      "cell_type": "code",
      "metadata": {
        "id": "F30nvl_fuUnQ",
        "colab_type": "code",
        "colab": {}
      },
      "source": [
        "# add another column that describes the status of the loan\n",
        "# assign an integer value of 1 IF the loan_status is \"Current\" or \"Fully Paid\"\n",
        "# ELSE assign and integer value of 0 to loan_status_is_great\n",
        "\n"
      ],
      "execution_count": null,
      "outputs": []
    },
    {
      "cell_type": "code",
      "metadata": {
        "id": "LydA_OjiLMZf",
        "colab_type": "code",
        "colab": {}
      },
      "source": [
        ""
      ],
      "execution_count": null,
      "outputs": []
    },
    {
      "cell_type": "code",
      "metadata": {
        "id": "yJLdE6A0LLee",
        "colab_type": "code",
        "colab": {}
      },
      "source": [
        ""
      ],
      "execution_count": null,
      "outputs": []
    },
    {
      "cell_type": "code",
      "metadata": {
        "id": "GIBvaf02LKw5",
        "colab_type": "code",
        "colab": {}
      },
      "source": [
        ""
      ],
      "execution_count": null,
      "outputs": []
    },
    {
      "cell_type": "code",
      "metadata": {
        "id": "aDpLpSuAE-4D",
        "colab_type": "code",
        "colab": {}
      },
      "source": [
        "# create a column list of all columns headers that end with \"_d\"\n",
        "[col for col in df1 if col.endswith('_d')]"
      ],
      "execution_count": null,
      "outputs": []
    },
    {
      "cell_type": "code",
      "metadata": {
        "id": "ABhKsB8-Fm05",
        "colab_type": "code",
        "colab": {}
      },
      "source": [
        "# issue date: month and year; string\n",
        "df1['issue_d'][:10]\n",
        "# df['issue_d'].head()"
      ],
      "execution_count": null,
      "outputs": []
    },
    {
      "cell_type": "code",
      "metadata": {
        "id": "0EZuVb-QG0CI",
        "colab_type": "code",
        "colab": {}
      },
      "source": [
        "# convert from string to numeric data using datetime stamp\n",
        "df1['issue_d'] = pd.to_datetime(df['issue_d'], infer_datetime_format=True)\n",
        "\n",
        "df.dtypes[:15]"
      ],
      "execution_count": null,
      "outputs": []
    },
    {
      "cell_type": "code",
      "metadata": {
        "id": "fJ2deI4GGAWr",
        "colab_type": "code",
        "colab": {}
      },
      "source": [
        "# check for persistance of conversion\n",
        "#df['issue_d'].iloc[0]\n",
        "df1['issue_d'][0]"
      ],
      "execution_count": null,
      "outputs": []
    },
    {
      "cell_type": "code",
      "metadata": {
        "id": "yhgvkcvQILkx",
        "colab_type": "code",
        "colab": {}
      },
      "source": [
        "'''example notation'''\n",
        "# array(['2018-12-01T00:00:00.000000000', '2018-12-01T00:00:00.000000000',\n",
        "      # '2018-12-01T00:00:00.000000000', '2018-12-01T00:00:00.000000000',\n",
        "       #'2018-12-01T00:00:00.000000000'], dtype='datetime64[ns]')"
      ],
      "execution_count": null,
      "outputs": []
    },
    {
      "cell_type": "code",
      "metadata": {
        "id": "CLRJGRwGIShn",
        "colab_type": "code",
        "colab": {}
      },
      "source": [
        "# returns year of datetime\n",
        "df1['issue_d'].dt.year"
      ],
      "execution_count": null,
      "outputs": []
    },
    {
      "cell_type": "code",
      "metadata": {
        "id": "gksbY0dlIg8A",
        "colab_type": "code",
        "colab": {}
      },
      "source": [
        "# returns month of datetime\n",
        "df1['issue_d'].dt.month"
      ],
      "execution_count": null,
      "outputs": []
    },
    {
      "cell_type": "code",
      "metadata": {
        "id": "iBu1_D-CIn2O",
        "colab_type": "code",
        "colab": {}
      },
      "source": [
        "# assigning numeric values makes them easy to manipulate\n",
        "df1['issue_year'] = df1['issue_d'].dt.year\n",
        "df1['issue_month'] = df1['issue_d'].dt.month\n",
        "\n",
        "df1.head()"
      ],
      "execution_count": null,
      "outputs": []
    },
    {
      "cell_type": "code",
      "metadata": {
        "id": "6tWpbPWW3NLC",
        "colab_type": "code",
        "colab": {}
      },
      "source": [
        "# add column last_pymt_d_month\n"
      ],
      "execution_count": null,
      "outputs": []
    },
    {
      "cell_type": "code",
      "metadata": {
        "id": "i04U7IIzLD67",
        "colab_type": "code",
        "colab": {}
      },
      "source": [
        ""
      ],
      "execution_count": null,
      "outputs": []
    },
    {
      "cell_type": "code",
      "metadata": {
        "id": "Uiag1mb8LF1w",
        "colab_type": "code",
        "colab": {}
      },
      "source": [
        ""
      ],
      "execution_count": null,
      "outputs": []
    },
    {
      "cell_type": "code",
      "metadata": {
        "id": "S_CF6NAjLFae",
        "colab_type": "code",
        "colab": {}
      },
      "source": [
        ""
      ],
      "execution_count": null,
      "outputs": []
    },
    {
      "cell_type": "code",
      "metadata": {
        "id": "NZ9K0ekCK-89",
        "colab_type": "code",
        "colab": {}
      },
      "source": [
        "# add column last_pymt_d_year\n"
      ],
      "execution_count": null,
      "outputs": []
    },
    {
      "cell_type": "code",
      "metadata": {
        "id": "tfLzOgimLIg7",
        "colab_type": "code",
        "colab": {}
      },
      "source": [
        ""
      ],
      "execution_count": null,
      "outputs": []
    },
    {
      "cell_type": "code",
      "metadata": {
        "id": "sb85vJ9ULIAY",
        "colab_type": "code",
        "colab": {}
      },
      "source": [
        ""
      ],
      "execution_count": null,
      "outputs": []
    },
    {
      "cell_type": "code",
      "metadata": {
        "id": "L5kL2ThqLHR7",
        "colab_type": "code",
        "colab": {}
      },
      "source": [
        ""
      ],
      "execution_count": null,
      "outputs": []
    },
    {
      "cell_type": "code",
      "metadata": {
        "id": "Q37FpQ5JI8jz",
        "colab_type": "code",
        "colab": {}
      },
      "source": [
        "# view first 5 of column containing customer's earliest line of credit\n",
        "df1['earliest_cr_line'].head()"
      ],
      "execution_count": null,
      "outputs": []
    },
    {
      "cell_type": "code",
      "metadata": {
        "id": "bZ5x0sdpJAJX",
        "colab_type": "code",
        "colab": {}
      },
      "source": [
        "df1['earliest_cr_line'] = pd.to_datetime(df1['earliest_cr_line'], \n",
        "                                        infer_datetime_format=True)\n",
        "# creating new column"
      ],
      "execution_count": null,
      "outputs": []
    },
    {
      "cell_type": "code",
      "metadata": {
        "id": "2zEjkmlDKSC-",
        "colab_type": "code",
        "colab": {}
      },
      "source": [
        "df1['years_from_earliest_credit_to_issue'] = (df1['issue_d'] - df1['earliest_cr_line']).dt.days / 365\n",
        "# number of years of credit history\n"
      ],
      "execution_count": null,
      "outputs": []
    },
    {
      "cell_type": "code",
      "metadata": {
        "id": "pxlGYp89Kvki",
        "colab_type": "code",
        "colab": {}
      },
      "source": [
        "df['years_from_earliest_credit_to_issue'].head()"
      ],
      "execution_count": null,
      "outputs": []
    },
    {
      "cell_type": "code",
      "metadata": {
        "id": "kUTry74uK1WE",
        "colab_type": "code",
        "colab": {}
      },
      "source": [
        "df['years_from_earliest_credit_to_issue'].describe()"
      ],
      "execution_count": null,
      "outputs": []
    },
    {
      "cell_type": "markdown",
      "metadata": {
        "colab_type": "text",
        "id": "L8k0LiHmo5EU"
      },
      "source": [
        "# Stretch Goals\n",
        "\n",
        "You can do more with the LendingClub or Instacart datasets.\n",
        "\n",
        "LendingClub options:\n",
        "- There's one other column in the dataframe with percent signs. Remove them and convert to floats. You'll need to handle missing values.\n",
        "- Modify the `emp_title` column to replace titles with 'Other' if the title is not in the top 20. \n",
        "- Take initiatve and work on your own ideas!\n",
        "\n",
        "Instacart options:\n",
        "- Read [Instacart Market Basket Analysis, Winner's Interview: 2nd place, Kazuki Onodera](http://blog.kaggle.com/2017/09/21/instacart-market-basket-analysis-winners-interview-2nd-place-kazuki-onodera/), especially the **Feature Engineering** section. (Can you choose one feature from his bulleted lists, and try to engineer it with pandas code?)\n",
        "- Read and replicate parts of [Simple Exploration Notebook - Instacart](https://www.kaggle.com/sudalairajkumar/simple-exploration-notebook-instacart). (It's the Python Notebook with the most upvotes for this Kaggle competition.)\n",
        "- Take initiative and work on your own ideas!"
      ]
    },
    {
      "cell_type": "markdown",
      "metadata": {
        "colab_type": "text",
        "id": "0_7PXF7lpEXg"
      },
      "source": [
        "You can uncomment and run the cells below to re-download and extract the Instacart data"
      ]
    },
    {
      "cell_type": "code",
      "metadata": {
        "id": "urIePNa0yNG6",
        "colab_type": "code",
        "colab": {}
      },
      "source": [
        "# !wget https://s3.amazonaws.com/instacart-datasets/instacart_online_grocery_shopping_2017_05_01.tar.gz"
      ],
      "execution_count": null,
      "outputs": []
    },
    {
      "cell_type": "code",
      "metadata": {
        "id": "X9zEyu-uyNG8",
        "colab_type": "code",
        "colab": {}
      },
      "source": [
        "# !tar --gunzip --extract --verbose --file=instacart_online_grocery_shopping_2017_05_01.tar.gz"
      ],
      "execution_count": null,
      "outputs": []
    },
    {
      "cell_type": "code",
      "metadata": {
        "id": "Y3IqrhlpyNG-",
        "colab_type": "code",
        "colab": {}
      },
      "source": [
        "# %cd instacart_2017_05_01"
      ],
      "execution_count": null,
      "outputs": []
    }
  ]
}