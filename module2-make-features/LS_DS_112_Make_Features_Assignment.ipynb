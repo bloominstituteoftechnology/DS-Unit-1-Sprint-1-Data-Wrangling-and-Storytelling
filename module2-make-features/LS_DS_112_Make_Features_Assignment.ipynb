{
  "nbformat": 4,
  "nbformat_minor": 0,
  "metadata": {
    "colab": {
      "name": "LS_DS_112_Make_Features_Assignment.ipynb",
      "provenance": [],
      "collapsed_sections": []
    },
    "kernelspec": {
      "display_name": "Python 3",
      "language": "python",
      "name": "python3"
    },
    "language_info": {
      "codemirror_mode": {
        "name": "ipython",
        "version": 3
      },
      "file_extension": ".py",
      "mimetype": "text/x-python",
      "name": "python",
      "nbconvert_exporter": "python",
      "pygments_lexer": "ipython3",
      "version": "3.7.1"
    }
  },
  "cells": [
    {
      "cell_type": "markdown",
      "metadata": {
        "id": "SnDJqBLi0FYW",
        "colab_type": "text"
      },
      "source": [
        "<img align=\"left\" src=\"https://lever-client-logos.s3.amazonaws.com/864372b1-534c-480e-acd5-9711f850815c-1524247202159.png\" width=200> "
      ]
    },
    {
      "cell_type": "markdown",
      "metadata": {
        "id": "W5GjI1z5yNG4",
        "colab_type": "text"
      },
      "source": [
        "# Assignment:\n",
        "\n",
        "- Replicate the lesson code.\n",
        "\n",
        " - This means that if you haven't followed along already, type out the things that we did in class. Forcing your fingers to hit each key will help you internalize the syntax of what we're doing. Make sure you understand each line of code that you're writing, google things that you don't fully understand.\n",
        " - [Lambda Learning Method for DS - By Ryan Herr](https://docs.google.com/document/d/1ubOw9B3Hfip27hF2ZFnW3a3z9xAgrUDRReOEo-FHCVs/edit?usp=sharing)\n",
        "- Convert the `term` column from string to integer.\n",
        "- Make a column named `loan_status_is_great`. It should contain the integer 1 if `loan_status` is \"Current\" or \"Fully Paid.\" Else it should contain the integer 0.\n",
        "- Make `last_pymnt_d_month` and `last_pymnt_d_year` columns."
      ]
    },
    {
      "cell_type": "code",
      "metadata": {
        "id": "4jo1Wjuw3vKV",
        "colab_type": "code",
        "colab": {}
      },
      "source": [
        "import pandas as pd\n",
        "import numpy as np"
      ],
      "execution_count": 0,
      "outputs": []
    },
    {
      "cell_type": "code",
      "metadata": {
        "id": "AazB4eFwym2p",
        "colab_type": "code",
        "outputId": "0ac5162f-7a5b-4d12-a3b6-843e7980e3ff",
        "colab": {
          "base_uri": "https://localhost:8080/",
          "height": 202
        }
      },
      "source": [
        "# import lending club dataset\n",
        "! wget https://resources.lendingclub.com/LoanStats_2018Q4.csv.zip"
      ],
      "execution_count": 0,
      "outputs": [
        {
          "output_type": "stream",
          "text": [
            "--2020-01-17 04:57:01--  https://resources.lendingclub.com/LoanStats_2018Q4.csv.zip\n",
            "Resolving resources.lendingclub.com (resources.lendingclub.com)... 64.48.1.20\n",
            "Connecting to resources.lendingclub.com (resources.lendingclub.com)|64.48.1.20|:443... connected.\n",
            "HTTP request sent, awaiting response... 200 OK\n",
            "Length: unspecified [application/zip]\n",
            "Saving to: ‘LoanStats_2018Q4.csv.zip’\n",
            "\n",
            "LoanStats_2018Q4.cs     [         <=>        ]  21.72M   410KB/s    in 57s     \n",
            "\n",
            "2020-01-17 04:57:58 (393 KB/s) - ‘LoanStats_2018Q4.csv.zip’ saved [22776791]\n",
            "\n"
          ],
          "name": "stdout"
        }
      ]
    },
    {
      "cell_type": "code",
      "metadata": {
        "id": "0rPBeTFR3FzY",
        "colab_type": "code",
        "outputId": "674210d8-5c00-4727-a96d-10608adc7057",
        "colab": {
          "base_uri": "https://localhost:8080/",
          "height": 67
        }
      },
      "source": [
        "# unzipping dataset\n",
        "! unzip LoanStats_2018Q4.csv.zip"
      ],
      "execution_count": 111,
      "outputs": [
        {
          "output_type": "stream",
          "text": [
            "Archive:  LoanStats_2018Q4.csv.zip\n",
            "replace LoanStats_2018Q4.csv? [y]es, [n]o, [A]ll, [N]one, [r]ename: y\n",
            "  inflating: LoanStats_2018Q4.csv    \n"
          ],
          "name": "stdout"
        }
      ]
    },
    {
      "cell_type": "code",
      "metadata": {
        "id": "R_7VOgw33dBg",
        "colab_type": "code",
        "outputId": "19668f6e-73bb-4c37-f3ca-d33a3aa50b7e",
        "colab": {
          "base_uri": "https://localhost:8080/",
          "height": 34
        }
      },
      "source": [
        "# Read in the CSV (skipping first row and footer due to null values) and shape \n",
        "# of file to see if it matches shape in walkthru in lecture\n",
        "\n",
        "df = pd.read_csv('LoanStats_2018Q4.csv', header=1, skipfooter=2, engine='python')\n",
        "df.shape"
      ],
      "execution_count": 37,
      "outputs": [
        {
          "output_type": "execute_result",
          "data": {
            "text/plain": [
              "(128397, 144)"
            ]
          },
          "metadata": {
            "tags": []
          },
          "execution_count": 37
        }
      ]
    },
    {
      "cell_type": "code",
      "metadata": {
        "id": "C77F_LDnMUfs",
        "colab_type": "code",
        "colab": {
          "base_uri": "https://localhost:8080/",
          "height": 218
        },
        "outputId": "33a4d958-f049-4fb7-ff6f-a96f01c25aad"
      },
      "source": [
        "## convert 'term' column from str to int\n",
        "def str_to_int(string):\n",
        "  return int(string.strip().strip('months'))\n",
        "\n",
        "df['term'].apply(str_to_int)"
      ],
      "execution_count": 42,
      "outputs": [
        {
          "output_type": "execute_result",
          "data": {
            "text/plain": [
              "0         36\n",
              "1         36\n",
              "2         36\n",
              "3         36\n",
              "4         60\n",
              "          ..\n",
              "128392    36\n",
              "128393    36\n",
              "128394    36\n",
              "128395    36\n",
              "128396    36\n",
              "Name: term, Length: 128397, dtype: int64"
            ]
          },
          "metadata": {
            "tags": []
          },
          "execution_count": 42
        }
      ]
    },
    {
      "cell_type": "code",
      "metadata": {
        "id": "nntsXBkqRut5",
        "colab_type": "code",
        "colab": {
          "base_uri": "https://localhost:8080/",
          "height": 151
        },
        "outputId": "8d41f292-fa31-43d1-fb8c-763f2ee8fdef"
      },
      "source": [
        "## Make a column named loan_status_is_great. It should contain the integer 1 if \n",
        "## loan_status is \"Current\" or \"Fully Paid.\" Else it should contain the integer 0\n",
        "\n",
        "# look at the loan status \n",
        "df['loan_status'].value_counts(dropna=False)[:20]\n",
        "# note to self there are 7 variables in column 'loan_status'"
      ],
      "execution_count": 38,
      "outputs": [
        {
          "output_type": "execute_result",
          "data": {
            "text/plain": [
              "Current               97694\n",
              "Fully Paid            21476\n",
              "Charged Off            5260\n",
              "Late (31-120 days)     2656\n",
              "In Grace Period         784\n",
              "Late (16-30 days)       524\n",
              "Default                   3\n",
              "Name: loan_status, dtype: int64"
            ]
          },
          "metadata": {
            "tags": []
          },
          "execution_count": 38
        }
      ]
    },
    {
      "cell_type": "code",
      "metadata": {
        "id": "Sw3IXVu2rFvo",
        "colab_type": "code",
        "colab": {}
      },
      "source": [
        "# creating condition\n",
        "def loan_status_is_great():\n",
        "   if (df['loan_status']).any == 'Current' or (df['loan_status']).any == 'Fully Paid':\n",
        "     return 1\n",
        "   else:\n",
        "     return 0"
      ],
      "execution_count": 0,
      "outputs": []
    },
    {
      "cell_type": "code",
      "metadata": {
        "id": "JBPPiar6pmld",
        "colab_type": "code",
        "colab": {
          "base_uri": "https://localhost:8080/",
          "height": 202
        },
        "outputId": "0fcc7f34-5c30-46a4-895b-33461ab3f96c"
      },
      "source": [
        "# creating new column based on condition and checking if condition worked\n",
        "df['loan_status_is_great'] = df['loan_status'].isin(['Current','Fully Paid']).astype(int)\n",
        "df['loan_status_is_great'].head(10)"
      ],
      "execution_count": 74,
      "outputs": [
        {
          "output_type": "execute_result",
          "data": {
            "text/plain": [
              "0    0\n",
              "1    1\n",
              "2    1\n",
              "3    1\n",
              "4    1\n",
              "5    1\n",
              "6    1\n",
              "7    1\n",
              "8    1\n",
              "9    1\n",
              "Name: loan_status_is_great, dtype: int64"
            ]
          },
          "metadata": {
            "tags": []
          },
          "execution_count": 74
        }
      ]
    },
    {
      "cell_type": "code",
      "metadata": {
        "id": "VFgLeotISafr",
        "colab_type": "code",
        "colab": {}
      },
      "source": [
        "## Make last_pymnt_d_month and last_pymnt_d_year columns\n",
        "# list comprehension\n",
        "mycols = [col for col in df.columns if col.endswith('_d')]"
      ],
      "execution_count": 0,
      "outputs": []
    },
    {
      "cell_type": "code",
      "metadata": {
        "id": "xK8gaEdWTEHD",
        "colab_type": "code",
        "colab": {
          "base_uri": "https://localhost:8080/",
          "height": 202
        },
        "outputId": "df5c03c6-f064-41a4-fdea-65349a5ff332"
      },
      "source": [
        "# inspecting string format of last_pymnt_d\n",
        "df['last_pymnt_d'][:10]"
      ],
      "execution_count": 32,
      "outputs": [
        {
          "output_type": "execute_result",
          "data": {
            "text/plain": [
              "0    Apr-2019\n",
              "1    Dec-2019\n",
              "2    Feb-2019\n",
              "3    Dec-2019\n",
              "4    Dec-2019\n",
              "5    Dec-2019\n",
              "6    Dec-2019\n",
              "7    Dec-2019\n",
              "8    Dec-2019\n",
              "9    Dec-2019\n",
              "Name: last_pymnt_d, dtype: object"
            ]
          },
          "metadata": {
            "tags": []
          },
          "execution_count": 32
        }
      ]
    },
    {
      "cell_type": "code",
      "metadata": {
        "id": "UiHkMJxdTX_i",
        "colab_type": "code",
        "colab": {
          "base_uri": "https://localhost:8080/",
          "height": 195
        },
        "outputId": "74494eb2-ec3a-4670-fc43-4342f8761434"
      },
      "source": [
        "# infer_datetime_format=True\n",
        "df['last_pymnt_d'] = pd.to_datetime(df['last_pymnt_d'], infer_datetime_format=True)\n",
        "df[mycols].head()"
      ],
      "execution_count": 33,
      "outputs": [
        {
          "output_type": "execute_result",
          "data": {
            "text/html": [
              "<div>\n",
              "<style scoped>\n",
              "    .dataframe tbody tr th:only-of-type {\n",
              "        vertical-align: middle;\n",
              "    }\n",
              "\n",
              "    .dataframe tbody tr th {\n",
              "        vertical-align: top;\n",
              "    }\n",
              "\n",
              "    .dataframe thead th {\n",
              "        text-align: right;\n",
              "    }\n",
              "</style>\n",
              "<table border=\"1\" class=\"dataframe\">\n",
              "  <thead>\n",
              "    <tr style=\"text-align: right;\">\n",
              "      <th></th>\n",
              "      <th>issue_d</th>\n",
              "      <th>last_pymnt_d</th>\n",
              "      <th>next_pymnt_d</th>\n",
              "      <th>last_credit_pull_d</th>\n",
              "    </tr>\n",
              "  </thead>\n",
              "  <tbody>\n",
              "    <tr>\n",
              "      <th>0</th>\n",
              "      <td>Dec-2018</td>\n",
              "      <td>2019-04-01</td>\n",
              "      <td>NaN</td>\n",
              "      <td>Nov-2019</td>\n",
              "    </tr>\n",
              "    <tr>\n",
              "      <th>1</th>\n",
              "      <td>Dec-2018</td>\n",
              "      <td>2019-12-01</td>\n",
              "      <td>Jan-2020</td>\n",
              "      <td>Nov-2019</td>\n",
              "    </tr>\n",
              "    <tr>\n",
              "      <th>2</th>\n",
              "      <td>Dec-2018</td>\n",
              "      <td>2019-02-01</td>\n",
              "      <td>NaN</td>\n",
              "      <td>Nov-2019</td>\n",
              "    </tr>\n",
              "    <tr>\n",
              "      <th>3</th>\n",
              "      <td>Dec-2018</td>\n",
              "      <td>2019-12-01</td>\n",
              "      <td>Jan-2020</td>\n",
              "      <td>Dec-2019</td>\n",
              "    </tr>\n",
              "    <tr>\n",
              "      <th>4</th>\n",
              "      <td>Dec-2018</td>\n",
              "      <td>2019-12-01</td>\n",
              "      <td>Jan-2020</td>\n",
              "      <td>Nov-2019</td>\n",
              "    </tr>\n",
              "  </tbody>\n",
              "</table>\n",
              "</div>"
            ],
            "text/plain": [
              "    issue_d last_pymnt_d next_pymnt_d last_credit_pull_d\n",
              "0  Dec-2018   2019-04-01          NaN           Nov-2019\n",
              "1  Dec-2018   2019-12-01     Jan-2020           Nov-2019\n",
              "2  Dec-2018   2019-02-01          NaN           Nov-2019\n",
              "3  Dec-2018   2019-12-01     Jan-2020           Dec-2019\n",
              "4  Dec-2018   2019-12-01     Jan-2020           Nov-2019"
            ]
          },
          "metadata": {
            "tags": []
          },
          "execution_count": 33
        }
      ]
    },
    {
      "cell_type": "code",
      "metadata": {
        "id": "B6pgL5FeTueS",
        "colab_type": "code",
        "colab": {
          "base_uri": "https://localhost:8080/",
          "height": 195
        },
        "outputId": "f06bd61c-ad68-4dd5-9eda-3487117ca6e9"
      },
      "source": [
        "# creating new column 'last_pymnt_d_month'\n",
        "df=df[mycols].copy()\n",
        "df['last_pymnt_d_month']=df['last_pymnt_d'].dt.month\n",
        "\n",
        "df.head()"
      ],
      "execution_count": 34,
      "outputs": [
        {
          "output_type": "execute_result",
          "data": {
            "text/html": [
              "<div>\n",
              "<style scoped>\n",
              "    .dataframe tbody tr th:only-of-type {\n",
              "        vertical-align: middle;\n",
              "    }\n",
              "\n",
              "    .dataframe tbody tr th {\n",
              "        vertical-align: top;\n",
              "    }\n",
              "\n",
              "    .dataframe thead th {\n",
              "        text-align: right;\n",
              "    }\n",
              "</style>\n",
              "<table border=\"1\" class=\"dataframe\">\n",
              "  <thead>\n",
              "    <tr style=\"text-align: right;\">\n",
              "      <th></th>\n",
              "      <th>issue_d</th>\n",
              "      <th>last_pymnt_d</th>\n",
              "      <th>next_pymnt_d</th>\n",
              "      <th>last_credit_pull_d</th>\n",
              "      <th>last_pymnt_d_month</th>\n",
              "    </tr>\n",
              "  </thead>\n",
              "  <tbody>\n",
              "    <tr>\n",
              "      <th>0</th>\n",
              "      <td>Dec-2018</td>\n",
              "      <td>2019-04-01</td>\n",
              "      <td>NaN</td>\n",
              "      <td>Nov-2019</td>\n",
              "      <td>4.0</td>\n",
              "    </tr>\n",
              "    <tr>\n",
              "      <th>1</th>\n",
              "      <td>Dec-2018</td>\n",
              "      <td>2019-12-01</td>\n",
              "      <td>Jan-2020</td>\n",
              "      <td>Nov-2019</td>\n",
              "      <td>12.0</td>\n",
              "    </tr>\n",
              "    <tr>\n",
              "      <th>2</th>\n",
              "      <td>Dec-2018</td>\n",
              "      <td>2019-02-01</td>\n",
              "      <td>NaN</td>\n",
              "      <td>Nov-2019</td>\n",
              "      <td>2.0</td>\n",
              "    </tr>\n",
              "    <tr>\n",
              "      <th>3</th>\n",
              "      <td>Dec-2018</td>\n",
              "      <td>2019-12-01</td>\n",
              "      <td>Jan-2020</td>\n",
              "      <td>Dec-2019</td>\n",
              "      <td>12.0</td>\n",
              "    </tr>\n",
              "    <tr>\n",
              "      <th>4</th>\n",
              "      <td>Dec-2018</td>\n",
              "      <td>2019-12-01</td>\n",
              "      <td>Jan-2020</td>\n",
              "      <td>Nov-2019</td>\n",
              "      <td>12.0</td>\n",
              "    </tr>\n",
              "  </tbody>\n",
              "</table>\n",
              "</div>"
            ],
            "text/plain": [
              "    issue_d last_pymnt_d next_pymnt_d last_credit_pull_d  last_pymnt_d_month\n",
              "0  Dec-2018   2019-04-01          NaN           Nov-2019                 4.0\n",
              "1  Dec-2018   2019-12-01     Jan-2020           Nov-2019                12.0\n",
              "2  Dec-2018   2019-02-01          NaN           Nov-2019                 2.0\n",
              "3  Dec-2018   2019-12-01     Jan-2020           Dec-2019                12.0\n",
              "4  Dec-2018   2019-12-01     Jan-2020           Nov-2019                12.0"
            ]
          },
          "metadata": {
            "tags": []
          },
          "execution_count": 34
        }
      ]
    },
    {
      "cell_type": "code",
      "metadata": {
        "id": "0EGSCmHXUXKr",
        "colab_type": "code",
        "colab": {
          "base_uri": "https://localhost:8080/",
          "height": 195
        },
        "outputId": "5cbf6f0c-f8c5-4921-edd3-8d64eddc0569"
      },
      "source": [
        "# creating new column 'last_pymnt_d_year'\n",
        "df['last_pymnt_d_year']=df['last_pymnt_d'].dt.year\n",
        "df.head()"
      ],
      "execution_count": 35,
      "outputs": [
        {
          "output_type": "execute_result",
          "data": {
            "text/html": [
              "<div>\n",
              "<style scoped>\n",
              "    .dataframe tbody tr th:only-of-type {\n",
              "        vertical-align: middle;\n",
              "    }\n",
              "\n",
              "    .dataframe tbody tr th {\n",
              "        vertical-align: top;\n",
              "    }\n",
              "\n",
              "    .dataframe thead th {\n",
              "        text-align: right;\n",
              "    }\n",
              "</style>\n",
              "<table border=\"1\" class=\"dataframe\">\n",
              "  <thead>\n",
              "    <tr style=\"text-align: right;\">\n",
              "      <th></th>\n",
              "      <th>issue_d</th>\n",
              "      <th>last_pymnt_d</th>\n",
              "      <th>next_pymnt_d</th>\n",
              "      <th>last_credit_pull_d</th>\n",
              "      <th>last_pymnt_d_month</th>\n",
              "      <th>last_pymnt_d_year</th>\n",
              "    </tr>\n",
              "  </thead>\n",
              "  <tbody>\n",
              "    <tr>\n",
              "      <th>0</th>\n",
              "      <td>Dec-2018</td>\n",
              "      <td>2019-04-01</td>\n",
              "      <td>NaN</td>\n",
              "      <td>Nov-2019</td>\n",
              "      <td>4.0</td>\n",
              "      <td>2019.0</td>\n",
              "    </tr>\n",
              "    <tr>\n",
              "      <th>1</th>\n",
              "      <td>Dec-2018</td>\n",
              "      <td>2019-12-01</td>\n",
              "      <td>Jan-2020</td>\n",
              "      <td>Nov-2019</td>\n",
              "      <td>12.0</td>\n",
              "      <td>2019.0</td>\n",
              "    </tr>\n",
              "    <tr>\n",
              "      <th>2</th>\n",
              "      <td>Dec-2018</td>\n",
              "      <td>2019-02-01</td>\n",
              "      <td>NaN</td>\n",
              "      <td>Nov-2019</td>\n",
              "      <td>2.0</td>\n",
              "      <td>2019.0</td>\n",
              "    </tr>\n",
              "    <tr>\n",
              "      <th>3</th>\n",
              "      <td>Dec-2018</td>\n",
              "      <td>2019-12-01</td>\n",
              "      <td>Jan-2020</td>\n",
              "      <td>Dec-2019</td>\n",
              "      <td>12.0</td>\n",
              "      <td>2019.0</td>\n",
              "    </tr>\n",
              "    <tr>\n",
              "      <th>4</th>\n",
              "      <td>Dec-2018</td>\n",
              "      <td>2019-12-01</td>\n",
              "      <td>Jan-2020</td>\n",
              "      <td>Nov-2019</td>\n",
              "      <td>12.0</td>\n",
              "      <td>2019.0</td>\n",
              "    </tr>\n",
              "  </tbody>\n",
              "</table>\n",
              "</div>"
            ],
            "text/plain": [
              "    issue_d last_pymnt_d  ... last_pymnt_d_month last_pymnt_d_year\n",
              "0  Dec-2018   2019-04-01  ...                4.0            2019.0\n",
              "1  Dec-2018   2019-12-01  ...               12.0            2019.0\n",
              "2  Dec-2018   2019-02-01  ...                2.0            2019.0\n",
              "3  Dec-2018   2019-12-01  ...               12.0            2019.0\n",
              "4  Dec-2018   2019-12-01  ...               12.0            2019.0\n",
              "\n",
              "[5 rows x 6 columns]"
            ]
          },
          "metadata": {
            "tags": []
          },
          "execution_count": 35
        }
      ]
    },
    {
      "cell_type": "markdown",
      "metadata": {
        "colab_type": "text",
        "id": "L8k0LiHmo5EU"
      },
      "source": [
        "# Stretch Goals\n",
        "\n",
        "You can do more with the LendingClub or Instacart datasets.\n",
        "\n",
        "LendingClub options:\n",
        "- There's one other column in the dataframe with percent signs. Remove them and convert to floats. You'll need to handle missing values.\n",
        "- Modify the `emp_title` column to replace titles with 'Other' if the title is not in the top 20. \n",
        "- Take initiatve and work on your own ideas!\n",
        "\n",
        "Instacart options:\n",
        "- Read [Instacart Market Basket Analysis, Winner's Interview: 2nd place, Kazuki Onodera](http://blog.kaggle.com/2017/09/21/instacart-market-basket-analysis-winners-interview-2nd-place-kazuki-onodera/), especially the **Feature Engineering** section. (Can you choose one feature from his bulleted lists, and try to engineer it with pandas code?)\n",
        "- Read and replicate parts of [Simple Exploration Notebook - Instacart](https://www.kaggle.com/sudalairajkumar/simple-exploration-notebook-instacart). (It's the Python Notebook with the most upvotes for this Kaggle competition.)\n",
        "- Take initiative and work on your own ideas!"
      ]
    },
    {
      "cell_type": "code",
      "metadata": {
        "id": "nZaLmE4BWv4b",
        "colab_type": "code",
        "colab": {
          "base_uri": "https://localhost:8080/",
          "height": 202
        },
        "outputId": "6968fd59-25f5-497f-8602-ce6601181a90"
      },
      "source": [
        "## STRECH GOAL 1\n",
        "# Look at the first 10 values of the revol_utl column \n",
        "df['revol_util'].head(10)"
      ],
      "execution_count": 112,
      "outputs": [
        {
          "output_type": "execute_result",
          "data": {
            "text/plain": [
              "0    91.2%\n",
              "1    27.7%\n",
              "2      48%\n",
              "3    33.3%\n",
              "4    38.2%\n",
              "5     9.4%\n",
              "6    64.8%\n",
              "7    48.5%\n",
              "8      21%\n",
              "9    31.8%\n",
              "Name: revol_util, dtype: object"
            ]
          },
          "metadata": {
            "tags": []
          },
          "execution_count": 112
        }
      ]
    },
    {
      "cell_type": "code",
      "metadata": {
        "id": "PVNCYkUSWv_I",
        "colab_type": "code",
        "colab": {
          "base_uri": "https://localhost:8080/",
          "height": 34
        },
        "outputId": "f0936e42-84c2-48d1-fd7b-50e571caf85f"
      },
      "source": [
        "# looking at the null values of revol_utl column\n",
        "df['revol_util'].isnull().sum()"
      ],
      "execution_count": 113,
      "outputs": [
        {
          "output_type": "execute_result",
          "data": {
            "text/plain": [
              "156"
            ]
          },
          "metadata": {
            "tags": []
          },
          "execution_count": 113
        }
      ]
    },
    {
      "cell_type": "code",
      "metadata": {
        "id": "DL-kHZ2ZWwGj",
        "colab_type": "code",
        "colab": {}
      },
      "source": [
        "# cleaning revol_utl column with condition\n",
        "def clean_revol_util(revol_util):\n",
        "  if isinstance(revol_utl, str):\n",
        "    return revol_util\n",
        "  else:\n",
        "    return '0'"
      ],
      "execution_count": 0,
      "outputs": []
    },
    {
      "cell_type": "code",
      "metadata": {
        "id": "7JzWV6Lshpzj",
        "colab_type": "code",
        "colab": {
          "base_uri": "https://localhost:8080/",
          "height": 202
        },
        "outputId": "aeca5455-663f-43b1-81b1-3527b279869b"
      },
      "source": [
        "# inspection head of 'revol_util\n",
        "df['revol_util'].head(10)"
      ],
      "execution_count": 139,
      "outputs": [
        {
          "output_type": "execute_result",
          "data": {
            "text/plain": [
              "0    91.2%\n",
              "1    27.7%\n",
              "2      48%\n",
              "3    33.3%\n",
              "4    38.2%\n",
              "5     9.4%\n",
              "6    64.8%\n",
              "7    48.5%\n",
              "8      21%\n",
              "9    31.8%\n",
              "Name: revol_util, dtype: object"
            ]
          },
          "metadata": {
            "tags": []
          },
          "execution_count": 139
        }
      ]
    },
    {
      "cell_type": "code",
      "metadata": {
        "id": "NaPSLQpZoEp3",
        "colab_type": "code",
        "colab": {}
      },
      "source": [
        "# starting small with first value in revol_util\n",
        "revol = '91.2%'"
      ],
      "execution_count": 0,
      "outputs": []
    },
    {
      "cell_type": "code",
      "metadata": {
        "id": "UB3cdniSoKsV",
        "colab_type": "code",
        "colab": {
          "base_uri": "https://localhost:8080/",
          "height": 34
        },
        "outputId": "7fb6fcd2-16c8-4871-fdc5-6c5e384d3d4b"
      },
      "source": [
        "# removing %, '' and creating a float\n",
        "float(revol.strip().strip('%'))"
      ],
      "execution_count": 156,
      "outputs": [
        {
          "output_type": "execute_result",
          "data": {
            "text/plain": [
              "91.2"
            ]
          },
          "metadata": {
            "tags": []
          },
          "execution_count": 156
        }
      ]
    },
    {
      "cell_type": "code",
      "metadata": {
        "id": "u9plBU3oisGt",
        "colab_type": "code",
        "colab": {}
      },
      "source": [
        "# writing function to put it all together and clean list\n",
        "def myfunc(cell_contents):\n",
        "  return float(cell_contents.strip().strip('%'))"
      ],
      "execution_count": 0,
      "outputs": []
    },
    {
      "cell_type": "code",
      "metadata": {
        "id": "VFLtG6g0pDuP",
        "colab_type": "code",
        "colab": {
          "base_uri": "https://localhost:8080/",
          "height": 34
        },
        "outputId": "ac286739-403f-4376-986a-08b7e59ae170"
      },
      "source": [
        "# testing to see if myfunc worked\n",
        "myfunc(revol)"
      ],
      "execution_count": 172,
      "outputs": [
        {
          "output_type": "execute_result",
          "data": {
            "text/plain": [
              "91.2"
            ]
          },
          "metadata": {
            "tags": []
          },
          "execution_count": 172
        }
      ]
    },
    {
      "cell_type": "code",
      "metadata": {
        "id": "7ZV6k95lkZMY",
        "colab_type": "code",
        "colab": {}
      },
      "source": [
        "# creating a blank list to drop values into\n",
        "new_list = []"
      ],
      "execution_count": 0,
      "outputs": []
    },
    {
      "cell_type": "code",
      "metadata": {
        "id": "ZF0kKQw5isJq",
        "colab_type": "code",
        "colab": {}
      },
      "source": [
        "# using for loop to add solution to every column\n",
        "for cell in df['revol_util']:\n",
        "  new_list.append(myfunc(cell))"
      ],
      "execution_count": 0,
      "outputs": []
    },
    {
      "cell_type": "code",
      "metadata": {
        "id": "F7H0EYJ1isNq",
        "colab_type": "code",
        "colab": {
          "base_uri": "https://localhost:8080/",
          "height": 34
        },
        "outputId": "02c0d687-8baf-414a-d158-6b9be4b48ead"
      },
      "source": [
        "# checking to see if function worked with the first 10 values \n",
        "new_list[:10]"
      ],
      "execution_count": 175,
      "outputs": [
        {
          "output_type": "execute_result",
          "data": {
            "text/plain": [
              "[91.2, 27.7, 48.0, 33.3, 38.2, 9.4, 64.8, 48.5, 21.0, 31.8]"
            ]
          },
          "metadata": {
            "tags": []
          },
          "execution_count": 175
        }
      ]
    },
    {
      "cell_type": "code",
      "metadata": {
        "id": "YYlxLARYk0Wz",
        "colab_type": "code",
        "colab": {
          "base_uri": "https://localhost:8080/",
          "height": 286
        },
        "outputId": "654defd9-3edf-46b8-95c1-3d597d49e70c"
      },
      "source": [
        "# convert new_list to a new column\n",
        "df['revol_util_cleaned'] = pd.Series(new_list)\n",
        "df['revol_util_cleaned'].head(15)"
      ],
      "execution_count": 181,
      "outputs": [
        {
          "output_type": "execute_result",
          "data": {
            "text/plain": [
              "0     91.2\n",
              "1     27.7\n",
              "2     48.0\n",
              "3     33.3\n",
              "4     38.2\n",
              "5      9.4\n",
              "6     64.8\n",
              "7     48.5\n",
              "8     21.0\n",
              "9     31.8\n",
              "10     4.3\n",
              "11    32.0\n",
              "12    19.2\n",
              "13    19.1\n",
              "14    73.7\n",
              "Name: revol_util_cleaned, dtype: float64"
            ]
          },
          "metadata": {
            "tags": []
          },
          "execution_count": 181
        }
      ]
    },
    {
      "cell_type": "code",
      "metadata": {
        "id": "4mZJoIAcrnLh",
        "colab_type": "code",
        "colab": {
          "base_uri": "https://localhost:8080/",
          "height": 370
        },
        "outputId": "fda0244b-f733-4967-8f0c-e3004db67c7f"
      },
      "source": [
        "## STRECH GOAL 2\n",
        "# ;ook at the top 20 employment titles\n",
        "df['emp_title'].value_counts(dropna=False)[:20]"
      ],
      "execution_count": 182,
      "outputs": [
        {
          "output_type": "execute_result",
          "data": {
            "text/plain": [
              "NaN                   20942\n",
              "Teacher                2090\n",
              "Manager                1773\n",
              "Registered Nurse        951\n",
              "Driver                  924\n",
              "RN                      726\n",
              "Supervisor              697\n",
              "Sales                   580\n",
              "Project Manager         526\n",
              "General Manager         523\n",
              "Office Manager          521\n",
              "Owner                   420\n",
              "Director                402\n",
              "Truck Driver            387\n",
              "Operations Manager      387\n",
              "Nurse                   326\n",
              "Engineer                325\n",
              "Sales Manager           304\n",
              "manager                 301\n",
              "Supervisor              270\n",
              "Name: emp_title, dtype: int64"
            ]
          },
          "metadata": {
            "tags": []
          },
          "execution_count": 182
        }
      ]
    },
    {
      "cell_type": "code",
      "metadata": {
        "id": "hcc6RYwOr6h9",
        "colab_type": "code",
        "colab": {}
      },
      "source": [
        "# write a function to clean up these use cases and increase uniformity\n",
        "def clean_title(job_title):\n",
        "  if isinstance(job_title, str):\n",
        "    return job_title.title().strip()\n",
        "  else:\n",
        "    return \"Unknown\""
      ],
      "execution_count": 0,
      "outputs": []
    },
    {
      "cell_type": "code",
      "metadata": {
        "id": "GdnDrBfGr_wI",
        "colab_type": "code",
        "colab": {}
      },
      "source": [
        "# create a for loop:\n",
        "empty_list=[]\n",
        "for title in examples:\n",
        "  empty_list.append(clean_title(title))"
      ],
      "execution_count": 0,
      "outputs": []
    },
    {
      "cell_type": "code",
      "metadata": {
        "id": "1vN3XD19sEcC",
        "colab_type": "code",
        "colab": {}
      },
      "source": [
        "# cleaning emp titles\n",
        "df['emp_title']=df['emp_title'].apply(clean_title)"
      ],
      "execution_count": 0,
      "outputs": []
    },
    {
      "cell_type": "code",
      "metadata": {
        "id": "kEnj0G_rsHSg",
        "colab_type": "code",
        "colab": {
          "base_uri": "https://localhost:8080/",
          "height": 370
        },
        "outputId": "260d14f1-b543-4bb7-b75c-6e0120b303d5"
      },
      "source": [
        "# Look at the top 20 employment titles\n",
        "df['emp_title'].value_counts(ascending=False)[:20]"
      ],
      "execution_count": 185,
      "outputs": [
        {
          "output_type": "execute_result",
          "data": {
            "text/plain": [
              "Unknown               20942\n",
              "Teacher                2557\n",
              "Manager                2395\n",
              "Registered Nurse       1417\n",
              "Driver                 1258\n",
              "Supervisor             1160\n",
              "Truck Driver            920\n",
              "Rn                      834\n",
              "Office Manager          804\n",
              "Sales                   803\n",
              "General Manager         791\n",
              "Project Manager         720\n",
              "Owner                   625\n",
              "Director                523\n",
              "Operations Manager      518\n",
              "Sales Manager           500\n",
              "Police Officer          440\n",
              "Nurse                   424\n",
              "Technician              420\n",
              "Engineer                412\n",
              "Name: emp_title, dtype: int64"
            ]
          },
          "metadata": {
            "tags": []
          },
          "execution_count": 185
        }
      ]
    },
    {
      "cell_type": "markdown",
      "metadata": {
        "colab_type": "text",
        "id": "0_7PXF7lpEXg"
      },
      "source": [
        "You can uncomment and run the cells below to re-download and extract the Instacart data"
      ]
    },
    {
      "cell_type": "code",
      "metadata": {
        "id": "urIePNa0yNG6",
        "colab_type": "code",
        "colab": {}
      },
      "source": [
        "# !wget https://s3.amazonaws.com/instacart-datasets/instacart_online_grocery_shopping_2017_05_01.tar.gz"
      ],
      "execution_count": 0,
      "outputs": []
    },
    {
      "cell_type": "code",
      "metadata": {
        "id": "X9zEyu-uyNG8",
        "colab_type": "code",
        "colab": {}
      },
      "source": [
        "# !tar --gunzip --extract --verbose --file=instacart_online_grocery_shopping_2017_05_01.tar.gz"
      ],
      "execution_count": 0,
      "outputs": []
    },
    {
      "cell_type": "code",
      "metadata": {
        "id": "Y3IqrhlpyNG-",
        "colab_type": "code",
        "colab": {}
      },
      "source": [
        "# %cd instacart_2017_05_01"
      ],
      "execution_count": 0,
      "outputs": []
    }
  ]
}