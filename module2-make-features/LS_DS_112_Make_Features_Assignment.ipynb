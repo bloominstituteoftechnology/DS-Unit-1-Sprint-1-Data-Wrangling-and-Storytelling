{
  "nbformat": 4,
  "nbformat_minor": 0,
  "metadata": {
    "colab": {
      "name": "LS_DS_112_Make_Features_Assignment.ipynb",
      "provenance": [],
      "collapsed_sections": [],
      "include_colab_link": true
    },
    "kernelspec": {
      "display_name": "Python 3",
      "language": "python",
      "name": "python3"
    },
    "language_info": {
      "codemirror_mode": {
        "name": "ipython",
        "version": 3
      },
      "file_extension": ".py",
      "mimetype": "text/x-python",
      "name": "python",
      "nbconvert_exporter": "python",
      "pygments_lexer": "ipython3",
      "version": "3.7.1"
    }
  },
  "cells": [
    {
      "cell_type": "markdown",
      "metadata": {
        "id": "view-in-github",
        "colab_type": "text"
      },
      "source": [
        "<a href=\"https://colab.research.google.com/github/techthumb1/DS-Unit-1-Sprint-1-Data-Wrangling-and-Storytelling/blob/master/module2-make-features/LS_DS_112_Make_Features_Assignment.ipynb\" target=\"_parent\"><img src=\"https://colab.research.google.com/assets/colab-badge.svg\" alt=\"Open In Colab\"/></a>"
      ]
    },
    {
      "cell_type": "markdown",
      "metadata": {
        "id": "SnDJqBLi0FYW",
        "colab_type": "text"
      },
      "source": [
        "<img align=\"left\" src=\"https://lever-client-logos.s3.amazonaws.com/864372b1-534c-480e-acd5-9711f850815c-1524247202159.png\" width=200> "
      ]
    },
    {
      "cell_type": "markdown",
      "metadata": {
        "id": "W5GjI1z5yNG4",
        "colab_type": "text"
      },
      "source": [
        "# Assignment:\n",
        "\n",
        "- Replicate the lesson code.\n",
        "\n",
        " - This means that if you haven't followed along already, type out the things that we did in class. Forcing your fingers to hit each key will help you internalize the syntax of what we're doing. Make sure you understand each line of code that you're writing, google things that you don't fully understand.\n",
        " - [Lambda Learning Method for DS - By Ryan Herr](https://docs.google.com/document/d/1ubOw9B3Hfip27hF2ZFnW3a3z9xAgrUDRReOEo-FHCVs/edit?usp=sharing)\n",
        "- Convert the `term` column from string to integer.\n",
        "- Make a column named `loan_status_is_great`. It should contain the integer 1 if `loan_status` is \"Current\" or \"Fully Paid.\" Else it should contain the integer 0.\n",
        "- Make `last_pymnt_d_month` and `last_pymnt_d_year` columns."
      ]
    },
    {
      "cell_type": "markdown",
      "metadata": {
        "id": "4UPfnflLg__T",
        "colab_type": "text"
      },
      "source": [
        ""
      ]
    },
    {
      "cell_type": "code",
      "metadata": {
        "id": "AazB4eFwym2p",
        "colab_type": "code",
        "colab": {}
      },
      "source": [
        "#Load the zipped file \n",
        "!wget https://resources.lendingclub.com/LoanStats_2018Q4.csv.zip"
      ],
      "execution_count": 0,
      "outputs": []
    },
    {
      "cell_type": "code",
      "metadata": {
        "id": "k76xDLR8g9l6",
        "colab_type": "code",
        "colab": {}
      },
      "source": [
        "#Unzip the data into a csv file\n",
        "!unzip LoanStats_2018Q4.csv.zip"
      ],
      "execution_count": 0,
      "outputs": []
    },
    {
      "cell_type": "code",
      "metadata": {
        "id": "0vQZwby_g9iw",
        "colab_type": "code",
        "colab": {}
      },
      "source": [
        "#Look at the head raw data\n",
        "!head LoanStats_2018Q4.csv"
      ],
      "execution_count": 0,
      "outputs": []
    },
    {
      "cell_type": "code",
      "metadata": {
        "id": "4w18dW5kg9gJ",
        "colab_type": "code",
        "colab": {}
      },
      "source": [
        "#Look at the tail\n",
        "!tail LoanStats_2018Q4.csv"
      ],
      "execution_count": 0,
      "outputs": []
    },
    {
      "cell_type": "markdown",
      "metadata": {
        "id": "I_ha1GpFl08h",
        "colab_type": "text"
      },
      "source": [
        "Load Lending Clud Data"
      ]
    },
    {
      "cell_type": "code",
      "metadata": {
        "id": "Jeq2QJ-Cg9eY",
        "colab_type": "code",
        "colab": {}
      },
      "source": [
        "#Use the pandas module read and put data into dataframe\n",
        "import pandas as pd\n",
        "df = pd.read_csv('LoanStats_2018Q4.csv', skiprows=1, skipfooter=2, engine='python')\n",
        "df.head()"
      ],
      "execution_count": 0,
      "outputs": []
    },
    {
      "cell_type": "code",
      "metadata": {
        "id": "MqkQSc06g9cr",
        "colab_type": "code",
        "colab": {}
      },
      "source": [
        "#What is the shape of my file?\n",
        "print(df.shape)\n",
        "print(df.columns)"
      ],
      "execution_count": 0,
      "outputs": []
    },
    {
      "cell_type": "code",
      "metadata": {
        "id": "1nBeFXigg9at",
        "colab_type": "code",
        "colab": {}
      },
      "source": [
        "#Let's look at tehe shape of the dataset\n",
        "df.shape"
      ],
      "execution_count": 0,
      "outputs": []
    },
    {
      "cell_type": "code",
      "metadata": {
        "id": "ShoIsufEg9ZT",
        "colab_type": "code",
        "colab": {}
      },
      "source": [
        "#Check the NaN values\n",
        "pd.options.display.max_rows=999\n",
        "pd.options.display.max_columns=100\n",
        "df.isnull().sum().sort_values(ascending=False)"
      ],
      "execution_count": 0,
      "outputs": []
    },
    {
      "cell_type": "markdown",
      "metadata": {
        "id": "bfbDEk-uoeJw",
        "colab_type": "text"
      },
      "source": [
        "Working with strings"
      ]
    },
    {
      "cell_type": "code",
      "metadata": {
        "id": "ZOWa9wdgoZI_",
        "colab_type": "code",
        "colab": {}
      },
      "source": [
        "# Let's identify a column that shouldn't be a string.\n",
        "df['int_rate'].head()"
      ],
      "execution_count": 0,
      "outputs": []
    },
    {
      "cell_type": "code",
      "metadata": {
        "id": "ao_Uw6Tzg9Xu",
        "colab_type": "code",
        "colab": {}
      },
      "source": [
        "#\n",
        "df.isnull().sum().sort_values(ascending=False)"
      ],
      "execution_count": 0,
      "outputs": []
    },
    {
      "cell_type": "code",
      "metadata": {
        "id": "V1_OAmOZg9VO",
        "colab_type": "code",
        "colab": {}
      },
      "source": [
        "## what is the data type of this column?\n",
        "df['int_rate'].dtype"
      ],
      "execution_count": 0,
      "outputs": []
    },
    {
      "cell_type": "code",
      "metadata": {
        "id": "JE0PLFP9g9HD",
        "colab_type": "code",
        "colab": {}
      },
      "source": [
        "## what is the value of the first cell in this column?\n",
        "int_rate0=df.loc[0, 'int_rate']\n",
        "print(int_rate0)\n",
        "int_rate0"
      ],
      "execution_count": 0,
      "outputs": []
    },
    {
      "cell_type": "code",
      "metadata": {
        "id": "vvucIcsPg9EQ",
        "colab_type": "code",
        "colab": {}
      },
      "source": [
        "## we need a python method for removing string values\n",
        "int_rate0.strip()"
      ],
      "execution_count": 0,
      "outputs": []
    },
    {
      "cell_type": "code",
      "metadata": {
        "id": "0TwW5xYig9AJ",
        "colab_type": "code",
        "colab": {}
      },
      "source": [
        "## get rid of the percent sign\n",
        "int_rate0.strip('%')"
      ],
      "execution_count": 0,
      "outputs": []
    },
    {
      "cell_type": "code",
      "metadata": {
        "id": "4aZ3m9k1g891",
        "colab_type": "code",
        "colab": {}
      },
      "source": [
        "## get rid of both using \"chained methods\"\n",
        "int_rate0.strip().strip('%')"
      ],
      "execution_count": 0,
      "outputs": []
    },
    {
      "cell_type": "code",
      "metadata": {
        "id": "8wLLnV6Sg85z",
        "colab_type": "code",
        "colab": {}
      },
      "source": [
        "## Finally, we can now convert from string to float\n",
        "float(int_rate0.strip().strip('%'))"
      ],
      "execution_count": 0,
      "outputs": []
    },
    {
      "cell_type": "code",
      "metadata": {
        "id": "rAZy1qI7g82I",
        "colab_type": "code",
        "colab": {}
      },
      "source": [
        "## confirm that did what we wanted\n",
        "print(type(int_rate0.strip().strip('%')))\n",
        "print(type(float(int_rate0.strip().strip('%'))))"
      ],
      "execution_count": 0,
      "outputs": []
    },
    {
      "cell_type": "markdown",
      "metadata": {
        "id": "HvjtC_6apTj3",
        "colab_type": "text"
      },
      "source": [
        "Conver int_rate"
      ]
    },
    {
      "cell_type": "code",
      "metadata": {
        "id": "Jpb0b2yJg8yE",
        "colab_type": "code",
        "colab": {}
      },
      "source": [
        "# write your function\n",
        "def int_rate_2_float(mystring):\n",
        "  return float(mystring.strip().strip('%'))"
      ],
      "execution_count": 0,
      "outputs": []
    },
    {
      "cell_type": "code",
      "metadata": {
        "id": "NHmkEmqxg8wn",
        "colab_type": "code",
        "colab": {}
      },
      "source": [
        "## test your function\n",
        "int_rate_2_float(int_rate0)"
      ],
      "execution_count": 0,
      "outputs": []
    },
    {
      "cell_type": "code",
      "metadata": {
        "id": "NGHqFaGpg8uu",
        "colab_type": "code",
        "colab": {}
      },
      "source": [
        "## apply your function to the whole columns\n",
        "df['int_rate_float']=df['int_rate'].apply(int_rate_2_float)\n",
        "df.columns"
      ],
      "execution_count": 0,
      "outputs": []
    },
    {
      "cell_type": "code",
      "metadata": {
        "id": "6Wku_RZSg8rq",
        "colab_type": "code",
        "colab": {}
      },
      "source": [
        "## compare the old and new columns\n",
        "df[['int_rate', 'int_rate_float']].head()"
      ],
      "execution_count": 0,
      "outputs": []
    },
    {
      "cell_type": "code",
      "metadata": {
        "id": "uB4jN2ABg8mc",
        "colab_type": "code",
        "colab": {}
      },
      "source": [
        "# confirm that we can now employ math on this\n",
        "df['int_rate_double']=df['int_rate_float']*2\n",
        "df[['int_rate', 'int_rate_float', 'int_rate_double']].sample(5)"
      ],
      "execution_count": 0,
      "outputs": []
    },
    {
      "cell_type": "markdown",
      "metadata": {
        "id": "cjx_IoNmp6em",
        "colab_type": "text"
      },
      "source": [
        "Clean emp_title"
      ]
    },
    {
      "cell_type": "code",
      "metadata": {
        "id": "jJmc-ANgg8c3",
        "colab_type": "code",
        "colab": {}
      },
      "source": [
        "# Let's explore this column\n",
        "df[['emp_title', 'int_rate']].sample(6)"
      ],
      "execution_count": 0,
      "outputs": []
    },
    {
      "cell_type": "code",
      "metadata": {
        "id": "NN8Cl9u5g8Y_",
        "colab_type": "code",
        "colab": {}
      },
      "source": [
        "# brackets for columns\n",
        "df[['emp_title', 'int_rate']].head()"
      ],
      "execution_count": 0,
      "outputs": []
    },
    {
      "cell_type": "code",
      "metadata": {
        "id": "UHkS5fARg8W6",
        "colab_type": "code",
        "colab": {}
      },
      "source": [
        "# what are all possible titles?\n",
        "df['emp_title'].nunique()"
      ],
      "execution_count": 0,
      "outputs": []
    },
    {
      "cell_type": "code",
      "metadata": {
        "id": "kPAnGBlOg8SV",
        "colab_type": "code",
        "colab": {}
      },
      "source": [
        "# what are all possible titles?\n",
        "df['emp_title'].nunique()"
      ],
      "execution_count": 0,
      "outputs": []
    },
    {
      "cell_type": "code",
      "metadata": {
        "id": "v7jYiYpCg8Ot",
        "colab_type": "code",
        "colab": {}
      },
      "source": [
        ""
      ],
      "execution_count": 0,
      "outputs": []
    },
    {
      "cell_type": "markdown",
      "metadata": {
        "colab_type": "text",
        "id": "L8k0LiHmo5EU"
      },
      "source": [
        "# Stretch Goals\n",
        "\n",
        "You can do more with the LendingClub or Instacart datasets.\n",
        "\n",
        "LendingClub options:\n",
        "- There's one other column in the dataframe with percent signs. Remove them and convert to floats. You'll need to handle missing values.\n",
        "- Modify the `emp_title` column to replace titles with 'Other' if the title is not in the top 20. \n",
        "- Take initiatve and work on your own ideas!\n",
        "\n",
        "Instacart options:\n",
        "- Read [Instacart Market Basket Analysis, Winner's Interview: 2nd place, Kazuki Onodera](http://blog.kaggle.com/2017/09/21/instacart-market-basket-analysis-winners-interview-2nd-place-kazuki-onodera/), especially the **Feature Engineering** section. (Can you choose one feature from his bulleted lists, and try to engineer it with pandas code?)\n",
        "- Read and replicate parts of [Simple Exploration Notebook - Instacart](https://www.kaggle.com/sudalairajkumar/simple-exploration-notebook-instacart). (It's the Python Notebook with the most upvotes for this Kaggle competition.)\n",
        "- Take initiative and work on your own ideas!"
      ]
    },
    {
      "cell_type": "markdown",
      "metadata": {
        "colab_type": "text",
        "id": "0_7PXF7lpEXg"
      },
      "source": [
        "You can uncomment and run the cells below to re-download and extract the Instacart data"
      ]
    },
    {
      "cell_type": "code",
      "metadata": {
        "id": "urIePNa0yNG6",
        "colab_type": "code",
        "colab": {}
      },
      "source": [
        "# !wget https://s3.amazonaws.com/instacart-datasets/instacart_online_grocery_shopping_2017_05_01.tar.gz"
      ],
      "execution_count": 0,
      "outputs": []
    },
    {
      "cell_type": "code",
      "metadata": {
        "id": "X9zEyu-uyNG8",
        "colab_type": "code",
        "colab": {}
      },
      "source": [
        "# !tar --gunzip --extract --verbose --file=instacart_online_grocery_shopping_2017_05_01.tar.gz"
      ],
      "execution_count": 0,
      "outputs": []
    },
    {
      "cell_type": "code",
      "metadata": {
        "id": "Y3IqrhlpyNG-",
        "colab_type": "code",
        "colab": {}
      },
      "source": [
        "# %cd instacart_2017_05_01"
      ],
      "execution_count": 0,
      "outputs": []
    }
  ]
}