{
  "nbformat": 4,
  "nbformat_minor": 0,
  "metadata": {
    "colab": {
      "name": "LS_DS_112_Make_Features_Assignment.ipynb",
      "provenance": [],
      "collapsed_sections": [],
      "include_colab_link": true
    },
    "kernelspec": {
      "display_name": "Python 3",
      "language": "python",
      "name": "python3"
    },
    "language_info": {
      "codemirror_mode": {
        "name": "ipython",
        "version": 3
      },
      "file_extension": ".py",
      "mimetype": "text/x-python",
      "name": "python",
      "nbconvert_exporter": "python",
      "pygments_lexer": "ipython3",
      "version": "3.7.1"
    }
  },
  "cells": [
    {
      "cell_type": "markdown",
      "metadata": {
        "id": "view-in-github",
        "colab_type": "text"
      },
      "source": [
        "<a href=\"https://colab.research.google.com/github/Frank-Howd/DS-Unit-1-Sprint-1-Data-Wrangling-and-Storytelling/blob/master/module2-make-features/LS_DS_112_Make_Features_Assignment.ipynb\" target=\"_parent\"><img src=\"https://colab.research.google.com/assets/colab-badge.svg\" alt=\"Open In Colab\"/></a>"
      ]
    },
    {
      "cell_type": "markdown",
      "metadata": {
        "id": "7fknoKxGz_jk"
      },
      "source": [
        "Lambda School Data Science\n",
        "\n",
        "*Unit 1, Sprint 1, Module 2*\n",
        "\n",
        "---"
      ]
    },
    {
      "cell_type": "markdown",
      "metadata": {
        "id": "qacqiXogluN_"
      },
      "source": [
        "# Learning Objectives\n",
        "\n",
        "- Student should be able to understand the purpose of feature engineering\n",
        "- Student should be able to work with strings in pandas\n",
        "- Student should be able to work with dates and times in pandas\n",
        "- Student should be able to modify or create columns of a dataframe using the `.apply()` function\n",
        "\n",
        "\n",
        "Helpful Links:\n",
        "- [Minimally Sufficient Pandas](https://medium.com/dunder-data/minimally-sufficient-pandas-a8e67f2a2428)\n",
        "- [Feature Engineering](https://en.wikipedia.org/wiki/Feature_engineering)\n",
        "- Python Data Science Handbook\n",
        "  - [Chapter 3.10](https://jakevdp.github.io/PythonDataScienceHandbook/03.10-working-with-strings.html), Vectorized String Operations\n",
        "  - [Chapter 3.11](https://jakevdp.github.io/PythonDataScienceHandbook/03.11-working-with-time-series.html), Working with Time Series\n",
        "- [Lambda Learning Method for DS - By Ryan Herr](https://docs.google.com/document/d/1ubOw9B3Hfip27hF2ZFnW3a3z9xAgrUDRReOEo-FHCVs/edit?usp=sharing)"
      ]
    },
    {
      "cell_type": "markdown",
      "metadata": {
        "id": "LZSXUzBm3yvk"
      },
      "source": [
        "# Let's continue to explore feature engineering with the Ames Housing data.  Import the dataset and name it \"house\".\n",
        "\n",
        "###1) Import the Ames Housing Data here: https://raw.githubusercontent.com/ryanleeallred/datasets/master/Ames%20Housing%20Data/train.csv"
      ]
    },
    {
      "cell_type": "code",
      "metadata": {
        "id": "GHK1_AnhVsh8"
      },
      "source": [
        "#Code here"
      ],
      "execution_count": null,
      "outputs": []
    },
    {
      "cell_type": "markdown",
      "metadata": {
        "id": "Skyk7zl3V75m"
      },
      "source": [
        "###2) Print the first five rows of the house dataset."
      ]
    },
    {
      "cell_type": "code",
      "metadata": {
        "id": "dWWxoKPRWLWI"
      },
      "source": [
        "#Code here"
      ],
      "execution_count": null,
      "outputs": []
    },
    {
      "cell_type": "markdown",
      "metadata": {
        "id": "s1T9P_I0XJqa"
      },
      "source": [
        "###3) Create a new variable called Large_Lot that takes on the value 1 when LotArea is gerater than or equal to 10,000 and the value 0 when LotArea is less than 10,000."
      ]
    },
    {
      "cell_type": "code",
      "metadata": {
        "id": "ud09Dy0zreRB"
      },
      "source": [
        "#Code here"
      ],
      "execution_count": null,
      "outputs": []
    },
    {
      "cell_type": "markdown",
      "metadata": {
        "id": "sFduYJa5L-s4"
      },
      "source": [
        "###4) Create a new variable called Total_Bathrooms that contains the total number of full and half bathrooms in the house."
      ]
    },
    {
      "cell_type": "code",
      "metadata": {
        "id": "qzDon2puMCAy"
      },
      "source": [
        "#Code here"
      ],
      "execution_count": null,
      "outputs": []
    },
    {
      "cell_type": "markdown",
      "metadata": {
        "id": "bnh-uoqYN29Q"
      },
      "source": [
        "###5) Create a new variable called Summer_Sale that equals 1 if the sale month was in June, July or August ( MoSold = 6, 7 or 8) and 0 if the sale month was in September - May."
      ]
    },
    {
      "cell_type": "code",
      "metadata": {
        "id": "4k0Qd30MP4OS"
      },
      "source": [
        "#code here"
      ],
      "execution_count": null,
      "outputs": []
    },
    {
      "cell_type": "markdown",
      "metadata": {
        "id": "B_9CTa2QYcpu"
      },
      "source": [
        "#Now we'll revisit the LendingClub data.\n",
        "\n",
        "Remember to import the data by first unzipping the file:"
      ]
    },
    {
      "cell_type": "code",
      "metadata": {
        "id": "i_RRvbrDYslZ"
      },
      "source": [
        "!wget https://resources.lendingclub.com/LoanStats_2018Q4.csv.zip"
      ],
      "execution_count": null,
      "outputs": []
    },
    {
      "cell_type": "code",
      "metadata": {
        "id": "hxUqtdlnY3oB"
      },
      "source": [
        "!unzip LoanStats_2018Q4.csv.zip\n"
      ],
      "execution_count": null,
      "outputs": []
    },
    {
      "cell_type": "code",
      "metadata": {
        "id": "aQB-OhvAZZQC"
      },
      "source": [
        "# Read in the CSV\n",
        "import pandas as pd\n",
        "df = pd.read_csv('LoanStats_2018Q4.csv', skiprows=1, skipfooter=2, engine='python')\n",
        "\n",
        "print(df.shape)\n",
        "df.head()"
      ],
      "execution_count": null,
      "outputs": []
    },
    {
      "cell_type": "markdown",
      "metadata": {
        "id": "qnT_KD-MhLfg"
      },
      "source": [
        "#Approaching a problem two different ways.\n",
        "\n",
        "In the guided project, we learned how to find the earliest credit year using the built-in pandas date-time format.  However, there is often more than one way to come up with the same solution.  \n",
        "\n",
        "\n",
        "\n",
        "\n"
      ]
    },
    {
      "cell_type": "markdown",
      "metadata": {
        "id": "yuUB4pnFgbAr"
      },
      "source": [
        "\n",
        "In the following questions we will work through the steps to create a new variables called Earliest_Credit_Year and issue_year where we use the .split() function remove the month report back just the year as a float data type.  Then we'll use those variables to calculate the length of credit history in years.  "
      ]
    },
    {
      "cell_type": "markdown",
      "metadata": {
        "id": "P2Utc8Togc79"
      },
      "source": [
        "If we do everything correctly, we should calculate *about* the same length of longest credit history that we did in class working with the date-time format.  The answers won't exactly match because we are making different assumptions about when in each month and year the loans were taken out, but it will give you a flavor for different ways of approaching the same problem."
      ]
    },
    {
      "cell_type": "markdown",
      "metadata": {
        "id": "Lx0kHSTFhoKj"
      },
      "source": [
        "###6) Create a simple test case where credit = 'Jun-1979'.  \n",
        "\n",
        "Use the .split('-') function to separate the month and year parts of the data and print the year.\n",
        "\n",
        "Hint: Name the results of the .split('-') function \"fields\".  fields[0] will return the month part of the date and fields[1] will return the year part of the date."
      ]
    },
    {
      "cell_type": "code",
      "metadata": {
        "id": "y80jf99GaKsL"
      },
      "source": [
        "#code here"
      ],
      "execution_count": null,
      "outputs": []
    },
    {
      "cell_type": "markdown",
      "metadata": {
        "id": "TtC6exPui9y4"
      },
      "source": [
        "###7) Use your answer in 6) to write a function called credit_yr that takes in the contents of a cell formatted 'month-year' and returns the year.\n",
        "\n",
        "Run your function using the simple test case in 6)."
      ]
    },
    {
      "cell_type": "code",
      "metadata": {
        "id": "dtF2-tjogC6J"
      },
      "source": [
        "#Code here\n",
        "\n"
      ],
      "execution_count": null,
      "outputs": []
    },
    {
      "cell_type": "markdown",
      "metadata": {
        "id": "a1XVfTOIjfrW"
      },
      "source": [
        "###8) Use the .apply() function to apply the function to every cell in the earliest_cr_line variable.  Create a new variable called Earliest_Credit_Year that contains the results of the function."
      ]
    },
    {
      "cell_type": "code",
      "metadata": {
        "id": "lZhlULhykCB_"
      },
      "source": [
        "#code here"
      ],
      "execution_count": null,
      "outputs": []
    },
    {
      "cell_type": "markdown",
      "metadata": {
        "id": "ckSsAPccmvMQ"
      },
      "source": [
        "###9) Print the top 5 rows of the Earliest_Credit_Year and earliest_cr_line variables to make sure the variables were created correctly."
      ]
    },
    {
      "cell_type": "code",
      "metadata": {
        "id": "XLpUOqdgm4WQ"
      },
      "source": [
        "#code here"
      ],
      "execution_count": null,
      "outputs": []
    },
    {
      "cell_type": "markdown",
      "metadata": {
        "id": "w5vb0vQjg3Sj"
      },
      "source": [
        "### 10) Use your function to create a new variable called Issue_Year from the issue_d variable."
      ]
    },
    {
      "cell_type": "code",
      "metadata": {
        "id": "5sIn85mbg1pw"
      },
      "source": [
        "#code here"
      ],
      "execution_count": null,
      "outputs": []
    },
    {
      "cell_type": "markdown",
      "metadata": {
        "id": "iZItgQjQiCh9"
      },
      "source": [
        "###11) Caluculate length of credit history in years and in days.\n",
        "\n",
        "Hint: If you are getting an error message, make sure to check the data type of the years output by your functions."
      ]
    },
    {
      "cell_type": "code",
      "metadata": {
        "id": "0mT7pG9hiTf2"
      },
      "source": [
        "#Code here"
      ],
      "execution_count": null,
      "outputs": []
    },
    {
      "cell_type": "markdown",
      "metadata": {
        "id": "PvcOSw9gjUzF"
      },
      "source": [
        "###12) Calculate the maximum credit length and compare it to we got in the guided project.  \n",
        "\n",
        "Note - it won't be *exactly* the same because both methods are working in different ways, but they will give you a \"pretty close\" answer."
      ]
    },
    {
      "cell_type": "code",
      "metadata": {
        "id": "gmNFZzaQjdQi"
      },
      "source": [
        "#code here"
      ],
      "execution_count": null,
      "outputs": []
    },
    {
      "cell_type": "markdown",
      "metadata": {
        "id": "44EW31YboV-7"
      },
      "source": [
        "#Portfolio Project Assignment\n",
        "\n",
        "Start looking for interesting datasets!  \n",
        "\n",
        "Pretty much every major US governmental agency (CDC, Bureau of Labor Statistics, The Census, etc.) maintains a treasure trove of data.\n",
        "\n",
        "There's also:\n",
        "\n",
        "Datasets from the University of Florida Department of Statistics: http://users.stat.ufl.edu/~winner/datasets.html\n",
        "\n",
        "Pew Research: https://www.pewresearch.org/\n",
        "\n",
        "General Social Survey: https://gss.norc.org/\n",
        "\n",
        "Ancestry.com Free data collections: https://www.ancestry.com/search/categories/freeindexacom/?clickref=1101lbhdWxys&key=Uhttps%3A%2F%2Fwww.ancestry.com%2Fsearch%2Fcategories%2Ffreeindexacom%2F%3Fclickref%3D1101lbhdWxys&o_lid=01011l4pVw&o_sch=Affiliate+External&o_xid=01011l4pVw\n",
        "\n",
        "Popular baby names by year since the founding of the SSA: https://www.babynamewizard.com/ \n",
        "\n",
        "\n",
        "https://data.world/\n",
        "\n",
        "https://www.kaggle.com/datasets\n",
        "\n",
        "https://catalog.data.gov/dataset\n",
        "\n",
        "https://datasetsearch.research.google.com/\n",
        "\n",
        "https://archive.ics.uci.edu/ml/index.php\n",
        "\n",
        "https://github.com/plotly/datasets\n",
        "\n",
        "https://lionbridge.ai/datasets/20-best-image-datasets-for-computer-vision/\n",
        "\n",
        "https://www.visualdata.io/\n",
        "\n",
        "https://pathmind.com/wiki/open-datasets\n",
        "\n",
        "https://blog.playment.io/top-open-image-dataset/\n",
        "\n",
        "https://blog.cambridgespark.com/\n",
        "\n",
        "https://www.analyticsvidhya.com/blog/2018/03/\n",
        "\n",
        "https://data-flair.training/blogs/machine-learning-datasets/\n",
        "\n",
        "\n",
        "\n",
        "\n",
        "\n"
      ]
    }
  ]
}