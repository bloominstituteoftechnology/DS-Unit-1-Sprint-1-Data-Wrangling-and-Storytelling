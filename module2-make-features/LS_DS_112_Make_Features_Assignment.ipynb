{
  "nbformat": 4,
  "nbformat_minor": 0,
  "metadata": {
    "colab": {
      "name": "LS_DS_112_Make_Features_Assignment.ipynb",
      "provenance": [],
      "collapsed_sections": [],
      "toc_visible": true
    },
    "kernelspec": {
      "display_name": "Python 3",
      "language": "python",
      "name": "python3"
    },
    "language_info": {
      "codemirror_mode": {
        "name": "ipython",
        "version": 3
      },
      "file_extension": ".py",
      "mimetype": "text/x-python",
      "name": "python",
      "nbconvert_exporter": "python",
      "pygments_lexer": "ipython3",
      "version": "3.7.1"
    }
  },
  "cells": [
    {
      "cell_type": "markdown",
      "metadata": {
        "id": "SnDJqBLi0FYW",
        "colab_type": "text"
      },
      "source": [
        "<img align=\"left\" src=\"https://lever-client-logos.s3.amazonaws.com/864372b1-534c-480e-acd5-9711f850815c-1524247202159.png\" width=200> "
      ]
    },
    {
      "cell_type": "markdown",
      "metadata": {
        "id": "W5GjI1z5yNG4",
        "colab_type": "text"
      },
      "source": [
        "# Assignment:\n",
        "\n",
        "- Replicate the lesson code.\n",
        "\n",
        " - This means that if you haven't followed along already, type out the things that we did in class. Forcing your fingers to hit each key will help you internalize the syntax of what we're doing. Make sure you understand each line of code that you're writing, google things that you don't fully understand.\n",
        " - [Lambda Learning Method for DS - By Ryan Herr](https://docs.google.com/document/d/1ubOw9B3Hfip27hF2ZFnW3a3z9xAgrUDRReOEo-FHCVs/edit?usp=sharing)\n",
        "- Convert the `term` column from string to integer.\n",
        "- Make a column named `loan_status_is_great`. It should contain the integer 1 if `loan_status` is \"Current\" or \"Fully Paid.\" Else it should contain the integer 0.\n",
        "- Make `last_pymnt_d_month` and `last_pymnt_d_year` columns."
      ]
    },
    {
      "cell_type": "code",
      "metadata": {
        "id": "AazB4eFwym2p",
        "colab_type": "code",
        "colab": {}
      },
      "source": [
        "##### Begin Working Here #####"
      ],
      "execution_count": 0,
      "outputs": []
    },
    {
      "cell_type": "markdown",
      "metadata": {
        "id": "Dpc2KNd48jdR",
        "colab_type": "text"
      },
      "source": [
        "##Import the file"
      ]
    },
    {
      "cell_type": "code",
      "metadata": {
        "id": "ksdOBGvz29F2",
        "colab_type": "code",
        "colab": {
          "base_uri": "https://localhost:8080/",
          "height": 204
        },
        "outputId": "338699dd-4dff-4526-e885-1a942c8e6ceb"
      },
      "source": [
        "# get zip file from online\n",
        "!wget https://resources.lendingclub.com/LoanStats_2018Q4.csv.zip"
      ],
      "execution_count": 1,
      "outputs": [
        {
          "output_type": "stream",
          "text": [
            "--2019-11-02 16:04:22--  https://resources.lendingclub.com/LoanStats_2018Q4.csv.zip\n",
            "Resolving resources.lendingclub.com (resources.lendingclub.com)... 64.48.1.20\n",
            "Connecting to resources.lendingclub.com (resources.lendingclub.com)|64.48.1.20|:443... connected.\n",
            "HTTP request sent, awaiting response... 200 OK\n",
            "Length: unspecified [application/zip]\n",
            "Saving to: ‘LoanStats_2018Q4.csv.zip’\n",
            "\n",
            "LoanStats_2018Q4.cs     [  <=>               ]  21.66M   406KB/s    in 55s     \n",
            "\n",
            "2019-11-02 16:05:18 (401 KB/s) - ‘LoanStats_2018Q4.csv.zip’ saved [22709125]\n",
            "\n"
          ],
          "name": "stdout"
        }
      ]
    },
    {
      "cell_type": "code",
      "metadata": {
        "id": "SbUNTMFD3FoD",
        "colab_type": "code",
        "colab": {
          "base_uri": "https://localhost:8080/",
          "height": 51
        },
        "outputId": "30539a87-42d9-42de-dd34-17b8ce4afd3c"
      },
      "source": [
        "!unzip LoanStats_2018Q4.csv.zip"
      ],
      "execution_count": 2,
      "outputs": [
        {
          "output_type": "stream",
          "text": [
            "Archive:  LoanStats_2018Q4.csv.zip\n",
            "  inflating: LoanStats_2018Q4.csv    \n"
          ],
          "name": "stdout"
        }
      ]
    },
    {
      "cell_type": "code",
      "metadata": {
        "id": "RyFwV7s13zMp",
        "colab_type": "code",
        "colab": {
          "base_uri": "https://localhost:8080/",
          "height": 207
        },
        "outputId": "29e90a87-b4c9-45cf-b2e7-499c8e160eb5"
      },
      "source": [
        "!head LoanStats_2018Q4.csv\n",
        "# Needs to skip a line when loading"
      ],
      "execution_count": 3,
      "outputs": [
        {
          "output_type": "stream",
          "text": [
            "Notes offered by Prospectus (https://www.lendingclub.com/info/prospectus.action)\n",
            "\"id\",\"member_id\",\"loan_amnt\",\"funded_amnt\",\"funded_amnt_inv\",\"term\",\"int_rate\",\"installment\",\"grade\",\"sub_grade\",\"emp_title\",\"emp_length\",\"home_ownership\",\"annual_inc\",\"verification_status\",\"issue_d\",\"loan_status\",\"pymnt_plan\",\"url\",\"desc\",\"purpose\",\"title\",\"zip_code\",\"addr_state\",\"dti\",\"delinq_2yrs\",\"earliest_cr_line\",\"inq_last_6mths\",\"mths_since_last_delinq\",\"mths_since_last_record\",\"open_acc\",\"pub_rec\",\"revol_bal\",\"revol_util\",\"total_acc\",\"initial_list_status\",\"out_prncp\",\"out_prncp_inv\",\"total_pymnt\",\"total_pymnt_inv\",\"total_rec_prncp\",\"total_rec_int\",\"total_rec_late_fee\",\"recoveries\",\"collection_recovery_fee\",\"last_pymnt_d\",\"last_pymnt_amnt\",\"next_pymnt_d\",\"last_credit_pull_d\",\"collections_12_mths_ex_med\",\"mths_since_last_major_derog\",\"policy_code\",\"application_type\",\"annual_inc_joint\",\"dti_joint\",\"verification_status_joint\",\"acc_now_delinq\",\"tot_coll_amt\",\"tot_cur_bal\",\"open_acc_6m\",\"open_act_il\",\"open_il_12m\",\"open_il_24m\",\"mths_since_rcnt_il\",\"total_bal_il\",\"il_util\",\"open_rv_12m\",\"open_rv_24m\",\"max_bal_bc\",\"all_util\",\"total_rev_hi_lim\",\"inq_fi\",\"total_cu_tl\",\"inq_last_12m\",\"acc_open_past_24mths\",\"avg_cur_bal\",\"bc_open_to_buy\",\"bc_util\",\"chargeoff_within_12_mths\",\"delinq_amnt\",\"mo_sin_old_il_acct\",\"mo_sin_old_rev_tl_op\",\"mo_sin_rcnt_rev_tl_op\",\"mo_sin_rcnt_tl\",\"mort_acc\",\"mths_since_recent_bc\",\"mths_since_recent_bc_dlq\",\"mths_since_recent_inq\",\"mths_since_recent_revol_delinq\",\"num_accts_ever_120_pd\",\"num_actv_bc_tl\",\"num_actv_rev_tl\",\"num_bc_sats\",\"num_bc_tl\",\"num_il_tl\",\"num_op_rev_tl\",\"num_rev_accts\",\"num_rev_tl_bal_gt_0\",\"num_sats\",\"num_tl_120dpd_2m\",\"num_tl_30dpd\",\"num_tl_90g_dpd_24m\",\"num_tl_op_past_12m\",\"pct_tl_nvr_dlq\",\"percent_bc_gt_75\",\"pub_rec_bankruptcies\",\"tax_liens\",\"tot_hi_cred_lim\",\"total_bal_ex_mort\",\"total_bc_limit\",\"total_il_high_credit_limit\",\"revol_bal_joint\",\"sec_app_earliest_cr_line\",\"sec_app_inq_last_6mths\",\"sec_app_mort_acc\",\"sec_app_open_acc\",\"sec_app_revol_util\",\"sec_app_open_act_il\",\"sec_app_num_rev_accts\",\"sec_app_chargeoff_within_12_mths\",\"sec_app_collections_12_mths_ex_med\",\"sec_app_mths_since_last_major_derog\",\"hardship_flag\",\"hardship_type\",\"hardship_reason\",\"hardship_status\",\"deferral_term\",\"hardship_amount\",\"hardship_start_date\",\"hardship_end_date\",\"payment_plan_start_date\",\"hardship_length\",\"hardship_dpd\",\"hardship_loan_status\",\"orig_projected_additional_accrued_interest\",\"hardship_payoff_balance_amount\",\"hardship_last_payment_amount\",\"debt_settlement_flag\",\"debt_settlement_flag_date\",\"settlement_status\",\"settlement_date\",\"settlement_amount\",\"settlement_percentage\",\"settlement_term\"\n",
            "\"\",\"\",\"35000\",\"35000\",\"35000\",\" 36 months\",\" 14.47%\",\"1204.23\",\"C\",\"C2\",\"Staff Physician\",\"8 years\",\"MORTGAGE\",\"360000\",\"Verified\",\"Dec-2018\",\"Fully Paid\",\"n\",\"\",\"\",\"credit_card\",\"Credit card refinancing\",\"336xx\",\"FL\",\"19.9\",\"0\",\"Apr-1995\",\"1\",\"\",\"\",\"24\",\"0\",\"57259\",\"43.2%\",\"51\",\"w\",\"0.00\",\"0.00\",\"38187.0468373662\",\"38187.05\",\"35000.00\",\"3187.05\",\"0.0\",\"0.0\",\"0.0\",\"Aug-2019\",\"29882.16\",\"\",\"Sep-2019\",\"0\",\"\",\"1\",\"Individual\",\"\",\"\",\"\",\"0\",\"0\",\"828060\",\"0\",\"6\",\"1\",\"2\",\"9\",\"112027\",\"29\",\"4\",\"8\",\"19118\",\"36\",\"132400\",\"3\",\"2\",\"5\",\"11\",\"34503\",\"67341\",\"46\",\"0\",\"0\",\"173\",\"284\",\"8\",\"8\",\"3\",\"8\",\"\",\"0\",\"\",\"0\",\"11\",\"11\",\"13\",\"20\",\"23\",\"16\",\"24\",\"11\",\"24\",\"0\",\"0\",\"0\",\"5\",\"100\",\"30.8\",\"0\",\"0\",\"1222051\",\"169286\",\"124600\",\"258401\",\"\",\"\",\"\",\"\",\"\",\"\",\"\",\"\",\"\",\"\",\"\",\"N\",\"\",\"\",\"\",\"\",\"\",\"\",\"\",\"\",\"\",\"\",\"\",\"\",\"\",\"\",\"N\",\"\",\"\",\"\",\"\",\"\",\"\"\n",
            "\"\",\"\",\"5000\",\"5000\",\"5000\",\" 36 months\",\" 22.35%\",\"191.86\",\"D\",\"D5\",\"Director of Sales\",\"10+ years\",\"MORTGAGE\",\"72000\",\"Source Verified\",\"Dec-2018\",\"Fully Paid\",\"n\",\"\",\"\",\"debt_consolidation\",\"Debt consolidation\",\"333xx\",\"FL\",\"20.12\",\"0\",\"Mar-2010\",\"0\",\"\",\"\",\"13\",\"0\",\"11720\",\"47.1%\",\"26\",\"f\",\"0.00\",\"0.00\",\"5615.9776735688\",\"5615.98\",\"5000.00\",\"615.98\",\"0.0\",\"0.0\",\"0.0\",\"Jul-2019\",\"4474.13\",\"\",\"Aug-2019\",\"0\",\"\",\"1\",\"Individual\",\"\",\"\",\"\",\"0\",\"534\",\"189279\",\"0\",\"1\",\"0\",\"1\",\"18\",\"22698\",\"\",\"0\",\"0\",\"4056\",\"47\",\"24900\",\"1\",\"0\",\"1\",\"2\",\"14560\",\"8163\",\"55.1\",\"0\",\"0\",\"105\",\"90\",\"29\",\"8\",\"5\",\"40\",\"\",\"9\",\"\",\"0\",\"6\",\"11\",\"6\",\"8\",\"4\",\"11\",\"17\",\"11\",\"13\",\"0\",\"0\",\"0\",\"1\",\"100\",\"50\",\"0\",\"0\",\"218686\",\"34418\",\"18200\",\"37786\",\"\",\"\",\"\",\"\",\"\",\"\",\"\",\"\",\"\",\"\",\"\",\"N\",\"\",\"\",\"\",\"\",\"\",\"\",\"\",\"\",\"\",\"\",\"\",\"\",\"\",\"\",\"N\",\"\",\"\",\"\",\"\",\"\",\"\"\n",
            "\"\",\"\",\"10000\",\"10000\",\"10000\",\" 60 months\",\" 23.40%\",\"284.21\",\"E\",\"E1\",\"\",\"< 1 year\",\"RENT\",\"55000\",\"Source Verified\",\"Dec-2018\",\"Current\",\"n\",\"\",\"\",\"debt_consolidation\",\"Debt consolidation\",\"902xx\",\"CA\",\"13.51\",\"0\",\"Apr-2007\",\"0\",\"44\",\"88\",\"9\",\"1\",\"11859\",\"53.9%\",\"11\",\"w\",\"9025.41\",\"9025.41\",\"2822.6\",\"2822.60\",\"974.59\",\"1848.01\",\"0.0\",\"0.0\",\"0.0\",\"Oct-2019\",\"284.21\",\"Nov-2019\",\"Oct-2019\",\"0\",\"\",\"1\",\"Individual\",\"\",\"\",\"\",\"0\",\"0\",\"21235\",\"0\",\"1\",\"0\",\"1\",\"20\",\"9376\",\"76\",\"0\",\"3\",\"3122\",\"62\",\"22000\",\"1\",\"0\",\"0\",\"4\",\"2359\",\"1119\",\"89.3\",\"0\",\"0\",\"140\",\"140\",\"13\",\"13\",\"0\",\"13\",\"\",\"15\",\"44\",\"0\",\"4\",\"7\",\"4\",\"5\",\"2\",\"8\",\"9\",\"7\",\"9\",\"0\",\"0\",\"0\",\"0\",\"90.9\",\"100\",\"1\",\"0\",\"34386\",\"21235\",\"10500\",\"12386\",\"\",\"\",\"\",\"\",\"\",\"\",\"\",\"\",\"\",\"\",\"\",\"N\",\"\",\"\",\"\",\"\",\"\",\"\",\"\",\"\",\"\",\"\",\"\",\"\",\"\",\"\",\"N\",\"\",\"\",\"\",\"\",\"\",\"\"\n",
            "\"\",\"\",\"17100\",\"17100\",\"17100\",\" 36 months\",\" 18.94%\",\"626.3\",\"D\",\"D2\",\"Receptionist \",\"10+ years\",\"RENT\",\"38000\",\"Verified\",\"Dec-2018\",\"Current\",\"n\",\"\",\"\",\"debt_consolidation\",\"Debt consolidation\",\"150xx\",\"PA\",\"38.09\",\"0\",\"Mar-1998\",\"1\",\"47\",\"\",\"14\",\"0\",\"15323\",\"53%\",\"21\",\"w\",\"13271.86\",\"13271.86\",\"6236.01\",\"6236.01\",\"3828.14\",\"2407.87\",\"0.0\",\"0.0\",\"0.0\",\"Oct-2019\",\"626.3\",\"Nov-2019\",\"Oct-2019\",\"0\",\"\",\"1\",\"Individual\",\"\",\"\",\"\",\"0\",\"0\",\"43351\",\"1\",\"2\",\"1\",\"1\",\"10\",\"28028\",\"67\",\"1\",\"5\",\"7533\",\"53\",\"29170\",\"0\",\"0\",\"2\",\"6\",\"3096\",\"4150\",\"77\",\"0\",\"0\",\"125\",\"230\",\"5\",\"5\",\"2\",\"5\",\"\",\"5\",\"\",\"0\",\"4\",\"12\",\"5\",\"5\",\"5\",\"12\",\"14\",\"9\",\"14\",\"\",\"0\",\"0\",\"2\",\"95\",\"75\",\"0\",\"0\",\"70954\",\"43351\",\"16600\",\"41784\",\"\",\"\",\"\",\"\",\"\",\"\",\"\",\"\",\"\",\"\",\"\",\"N\",\"\",\"\",\"\",\"\",\"\",\"\",\"\",\"\",\"\",\"\",\"\",\"\",\"\",\"\",\"N\",\"\",\"\",\"\",\"\",\"\",\"\"\n",
            "\"\",\"\",\"4000\",\"4000\",\"4000\",\" 36 months\",\" 10.72%\",\"130.43\",\"B\",\"B2\",\"Extrusion assistant \",\"10+ years\",\"MORTGAGE\",\"56000\",\"Verified\",\"Dec-2018\",\"Current\",\"n\",\"\",\"\",\"credit_card\",\"Credit card refinancing\",\"301xx\",\"GA\",\"31.03\",\"0\",\"Sep-2006\",\"0\",\"\",\"\",\"7\",\"0\",\"4518\",\"28.6%\",\"11\",\"w\",\"3014.03\",\"3014.03\",\"1291.21\",\"1291.21\",\"985.97\",\"305.24\",\"0.0\",\"0.0\",\"0.0\",\"Oct-2019\",\"130.43\",\"Nov-2019\",\"Oct-2019\",\"1\",\"\",\"1\",\"Individual\",\"\",\"\",\"\",\"0\",\"136\",\"192983\",\"0\",\"2\",\"0\",\"2\",\"14\",\"66857\",\"\",\"0\",\"3\",\"1608\",\"29\",\"15800\",\"3\",\"0\",\"0\",\"5\",\"27569\",\"7835\",\"36.3\",\"0\",\"0\",\"147\",\"29\",\"22\",\"14\",\"1\",\"22\",\"\",\"17\",\"\",\"0\",\"3\",\"4\",\"3\",\"3\",\"6\",\"4\",\"4\",\"4\",\"7\",\"0\",\"0\",\"0\",\"0\",\"100\",\"0\",\"0\",\"0\",\"221310\",\"71375\",\"12300\",\"77865\",\"\",\"\",\"\",\"\",\"\",\"\",\"\",\"\",\"\",\"\",\"\",\"N\",\"\",\"\",\"\",\"\",\"\",\"\",\"\",\"\",\"\",\"\",\"\",\"\",\"\",\"\",\"N\",\"\",\"\",\"\",\"\",\"\",\"\"\n",
            "\"\",\"\",\"10475\",\"10475\",\"10475\",\" 36 months\",\" 11.31%\",\"344.48\",\"B\",\"B3\",\"Teacher\",\"6 years\",\"RENT\",\"66150\",\"Source Verified\",\"Dec-2018\",\"Current\",\"n\",\"\",\"\",\"debt_consolidation\",\"Debt consolidation\",\"786xx\",\"TX\",\"7.4\",\"0\",\"Jun-1991\",\"0\",\"28\",\"\",\"10\",\"0\",\"10499\",\"40.2%\",\"17\",\"w\",\"7910.58\",\"7910.58\",\"3434.93\",\"3434.93\",\"2564.42\",\"870.51\",\"0.0\",\"0.0\",\"0.0\",\"Oct-2019\",\"344.48\",\"Nov-2019\",\"Oct-2019\",\"0\",\"\",\"1\",\"Individual\",\"\",\"\",\"\",\"0\",\"0\",\"10499\",\"1\",\"0\",\"0\",\"0\",\"84\",\"0\",\"\",\"3\",\"5\",\"3841\",\"40\",\"26100\",\"2\",\"1\",\"5\",\"5\",\"1312\",\"14847\",\"36.8\",\"0\",\"0\",\"88\",\"330\",\"3\",\"3\",\"2\",\"7\",\"\",\"1\",\"28\",\"0\",\"5\",\"8\",\"7\",\"8\",\"2\",\"10\",\"13\",\"8\",\"10\",\"0\",\"0\",\"0\",\"3\",\"88.2\",\"60\",\"0\",\"0\",\"26100\",\"10499\",\"23500\",\"0\",\"\",\"\",\"\",\"\",\"\",\"\",\"\",\"\",\"\",\"\",\"\",\"N\",\"\",\"\",\"\",\"\",\"\",\"\",\"\",\"\",\"\",\"\",\"\",\"\",\"\",\"\",\"N\",\"\",\"\",\"\",\"\",\"\",\"\"\n",
            "\"\",\"\",\"7500\",\"7500\",\"7500\",\" 36 months\",\" 11.31%\",\"246.65\",\"B\",\"B3\",\"Supervisor\",\"7 years\",\"MORTGAGE\",\"40500\",\"Verified\",\"Dec-2018\",\"Late (16-30 days)\",\"n\",\"\",\"\",\"debt_consolidation\",\"Debt consolidation\",\"604xx\",\"IL\",\"31.61\",\"0\",\"Sep-1996\",\"1\",\"\",\"\",\"23\",\"0\",\"14218\",\"16.3%\",\"33\",\"w\",\"6032.58\",\"6032.58\",\"1983.44\",\"1983.44\",\"1467.42\",\"516.02\",\"0.0\",\"0.0\",\"0.0\",\"Sep-2019\",\"246.65\",\"Nov-2019\",\"Oct-2019\",\"0\",\"\",\"1\",\"Individual\",\"\",\"\",\"\",\"0\",\"0\",\"123779\",\"3\",\"2\",\"1\",\"1\",\"12\",\"8096\",\"29\",\"3\",\"6\",\"2972\",\"19\",\"87000\",\"0\",\"0\",\"2\",\"7\",\"5626\",\"21078\",\"23.9\",\"0\",\"0\",\"59\",\"267\",\"1\",\"1\",\"1\",\"6\",\"\",\"6\",\"\",\"0\",\"4\",\"6\",\"7\",\"10\",\"2\",\"20\",\"30\",\"6\",\"23\",\"0\",\"0\",\"0\",\"4\",\"100\",\"0\",\"0\",\"0\",\"221569\",\"22314\",\"27700\",\"28409\",\"\",\"\",\"\",\"\",\"\",\"\",\"\",\"\",\"\",\"\",\"\",\"N\",\"\",\"\",\"\",\"\",\"\",\"\",\"\",\"\",\"\",\"\",\"\",\"\",\"\",\"\",\"N\",\"\",\"\",\"\",\"\",\"\",\"\"\n",
            "\"\",\"\",\"3600\",\"3600\",\"3600\",\" 36 months\",\" 11.80%\",\"119.23\",\"B\",\"B4\",\"Analyst\",\"5 years\",\"MORTGAGE\",\"50000\",\"Source Verified\",\"Dec-2018\",\"Current\",\"n\",\"\",\"\",\"other\",\"Other\",\"427xx\",\"KY\",\"16.11\",\"0\",\"Jan-2002\",\"2\",\"\",\"\",\"10\",\"0\",\"5865\",\"17.4%\",\"17\",\"w\",\"2818.01\",\"2818.01\",\"1087.23\",\"1087.23\",\"781.99\",\"305.24\",\"0.0\",\"0.0\",\"0.0\",\"Oct-2019\",\"119.23\",\"Nov-2019\",\"Oct-2019\",\"0\",\"\",\"1\",\"Individual\",\"\",\"\",\"\",\"0\",\"0\",\"243415\",\"3\",\"3\",\"1\",\"2\",\"3\",\"68184\",\"95\",\"1\",\"3\",\"0\",\"53\",\"33700\",\"2\",\"1\",\"10\",\"6\",\"24342\",\"17300\",\"0\",\"0\",\"0\",\"203\",\"198\",\"4\",\"3\",\"1\",\"18\",\"\",\"3\",\"\",\"1\",\"0\",\"1\",\"4\",\"6\",\"6\",\"6\",\"10\",\"1\",\"10\",\"0\",\"0\",\"0\",\"3\",\"93.8\",\"0\",\"0\",\"0\",\"272629\",\"74049\",\"17300\",\"68929\",\"\",\"\",\"\",\"\",\"\",\"\",\"\",\"\",\"\",\"\",\"\",\"N\",\"\",\"\",\"\",\"\",\"\",\"\",\"\",\"\",\"\",\"\",\"\",\"\",\"\",\"\",\"N\",\"\",\"\",\"\",\"\",\"\",\"\"\n"
          ],
          "name": "stdout"
        }
      ]
    },
    {
      "cell_type": "code",
      "metadata": {
        "id": "Oy4ReV8m38Do",
        "colab_type": "code",
        "colab": {
          "base_uri": "https://localhost:8080/",
          "height": 207
        },
        "outputId": "6d467619-3094-4f3d-a4f2-2acb2e12d63d"
      },
      "source": [
        "!tail LoanStats_2018Q4.csv\n",
        "# Need to skip last two lines when loading"
      ],
      "execution_count": 4,
      "outputs": [
        {
          "output_type": "stream",
          "text": [
            "\"\",\"\",\"5600\",\"5600\",\"5600\",\" 36 months\",\" 13.56%\",\"190.21\",\"C\",\"C1\",\"\",\"n/a\",\"RENT\",\"15600\",\"Not Verified\",\"Oct-2018\",\"Current\",\"n\",\"\",\"\",\"credit_card\",\"Credit card refinancing\",\"836xx\",\"ID\",\"15.31\",\"0\",\"Aug-2012\",\"0\",\"\",\"97\",\"9\",\"1\",\"5996\",\"34.5%\",\"11\",\"w\",\"3978.52\",\"3978.52\",\"2271.97\",\"2271.97\",\"1621.48\",\"650.49\",\"0.0\",\"0.0\",\"0.0\",\"Oct-2019\",\"190.21\",\"Nov-2019\",\"Oct-2019\",\"0\",\"\",\"1\",\"Individual\",\"\",\"\",\"\",\"0\",\"0\",\"5996\",\"0\",\"0\",\"0\",\"1\",\"20\",\"0\",\"\",\"0\",\"2\",\"3017\",\"35\",\"17400\",\"1\",\"0\",\"0\",\"3\",\"750\",\"4689\",\"45.5\",\"0\",\"0\",\"20\",\"73\",\"13\",\"13\",\"0\",\"13\",\"\",\"20\",\"\",\"0\",\"3\",\"5\",\"4\",\"4\",\"1\",\"9\",\"10\",\"5\",\"9\",\"0\",\"0\",\"0\",\"0\",\"100\",\"25\",\"1\",\"0\",\"17400\",\"5996\",\"8600\",\"0\",\"\",\"\",\"\",\"\",\"\",\"\",\"\",\"\",\"\",\"\",\"\",\"N\",\"\",\"\",\"\",\"\",\"\",\"\",\"\",\"\",\"\",\"\",\"\",\"\",\"\",\"\",\"N\",\"\",\"\",\"\",\"\",\"\",\"\"\n",
            "\"\",\"\",\"23000\",\"23000\",\"23000\",\" 36 months\",\" 15.02%\",\"797.53\",\"C\",\"C3\",\"Tax Consultant\",\"10+ years\",\"MORTGAGE\",\"75000\",\"Source Verified\",\"Oct-2018\",\"Charged Off\",\"n\",\"\",\"\",\"debt_consolidation\",\"Debt consolidation\",\"352xx\",\"AL\",\"20.95\",\"1\",\"Aug-1985\",\"2\",\"22\",\"\",\"12\",\"0\",\"22465\",\"43.6%\",\"28\",\"w\",\"0.00\",\"0.00\",\"1547.08\",\"1547.08\",\"1025.67\",\"521.41\",\"0.0\",\"0.0\",\"0.0\",\"Dec-2018\",\"797.53\",\"\",\"Nov-2018\",\"0\",\"\",\"1\",\"Individual\",\"\",\"\",\"\",\"0\",\"0\",\"259658\",\"4\",\"2\",\"3\",\"3\",\"6\",\"18149\",\"86\",\"4\",\"6\",\"12843\",\"56\",\"51500\",\"2\",\"2\",\"5\",\"11\",\"21638\",\"26321\",\"44.1\",\"0\",\"0\",\"12\",\"397\",\"4\",\"4\",\"6\",\"5\",\"22\",\"4\",\"22\",\"0\",\"4\",\"5\",\"7\",\"14\",\"3\",\"9\",\"19\",\"5\",\"12\",\"0\",\"0\",\"0\",\"7\",\"96.4\",\"14.3\",\"0\",\"0\",\"296500\",\"40614\",\"47100\",\"21000\",\"\",\"\",\"\",\"\",\"\",\"\",\"\",\"\",\"\",\"\",\"\",\"N\",\"\",\"\",\"\",\"\",\"\",\"\",\"\",\"\",\"\",\"\",\"\",\"\",\"\",\"\",\"N\",\"\",\"\",\"\",\"\",\"\",\"\"\n",
            "\"\",\"\",\"10000\",\"10000\",\"10000\",\" 36 months\",\" 15.02%\",\"346.76\",\"C\",\"C3\",\"security guard\",\"5 years\",\"MORTGAGE\",\"38000\",\"Not Verified\",\"Oct-2018\",\"Current\",\"n\",\"\",\"\",\"debt_consolidation\",\"Debt consolidation\",\"443xx\",\"OH\",\"13.16\",\"3\",\"Jul-1982\",\"0\",\"6\",\"\",\"11\",\"0\",\"5634\",\"37.1%\",\"16\",\"w\",\"7149.96\",\"7149.96\",\"4152.78\",\"4152.78\",\"2850.04\",\"1302.74\",\"0.0\",\"0.0\",\"0.0\",\"Oct-2019\",\"346.76\",\"Nov-2019\",\"Oct-2019\",\"0\",\"\",\"1\",\"Individual\",\"\",\"\",\"\",\"0\",\"155\",\"77424\",\"0\",\"1\",\"0\",\"0\",\"34\",\"200\",\"10\",\"1\",\"1\",\"1866\",\"42\",\"15200\",\"2\",\"0\",\"0\",\"2\",\"7039\",\"4537\",\"50.1\",\"0\",\"0\",\"34\",\"434\",\"11\",\"11\",\"3\",\"11\",\"6\",\"17\",\"6\",\"0\",\"3\",\"5\",\"5\",\"6\",\"1\",\"8\",\"11\",\"5\",\"11\",\"0\",\"0\",\"0\",\"1\",\"73.3\",\"40\",\"0\",\"0\",\"91403\",\"9323\",\"9100\",\"2000\",\"\",\"\",\"\",\"\",\"\",\"\",\"\",\"\",\"\",\"\",\"\",\"N\",\"\",\"\",\"\",\"\",\"\",\"\",\"\",\"\",\"\",\"\",\"\",\"\",\"\",\"\",\"N\",\"\",\"\",\"\",\"\",\"\",\"\"\n",
            "\"\",\"\",\"5000\",\"5000\",\"5000\",\" 36 months\",\" 13.56%\",\"169.83\",\"C\",\"C1\",\"Payoff Clerk\",\"10+ years\",\"MORTGAGE\",\"35360\",\"Not Verified\",\"Oct-2018\",\"Current\",\"n\",\"\",\"\",\"debt_consolidation\",\"Debt consolidation\",\"381xx\",\"TN\",\"11.3\",\"1\",\"Jun-2006\",\"0\",\"21\",\"\",\"9\",\"0\",\"2597\",\"27.3%\",\"15\",\"f\",\"3552.25\",\"3552.25\",\"2034.19\",\"2034.19\",\"1447.75\",\"586.44\",\"0.0\",\"0.0\",\"0.0\",\"Oct-2019\",\"169.83\",\"Nov-2019\",\"Oct-2019\",\"0\",\"\",\"1\",\"Individual\",\"\",\"\",\"\",\"0\",\"1413\",\"69785\",\"0\",\"2\",\"0\",\"1\",\"16\",\"2379\",\"40\",\"3\",\"4\",\"1826\",\"32\",\"9500\",\"0\",\"0\",\"1\",\"5\",\"8723\",\"1174\",\"60.9\",\"0\",\"0\",\"147\",\"85\",\"9\",\"9\",\"2\",\"10\",\"21\",\"9\",\"21\",\"0\",\"1\",\"3\",\"2\",\"2\",\"6\",\"6\",\"7\",\"3\",\"9\",\"0\",\"0\",\"0\",\"3\",\"92.9\",\"50\",\"0\",\"0\",\"93908\",\"4976\",\"3000\",\"6028\",\"\",\"\",\"\",\"\",\"\",\"\",\"\",\"\",\"\",\"\",\"\",\"N\",\"\",\"\",\"\",\"\",\"\",\"\",\"\",\"\",\"\",\"\",\"\",\"\",\"\",\"\",\"N\",\"\",\"\",\"\",\"\",\"\",\"\"\n",
            "\"\",\"\",\"10000\",\"10000\",\"9750\",\" 36 months\",\" 11.06%\",\"327.68\",\"B\",\"B3\",\"\",\"n/a\",\"RENT\",\"44400\",\"Source Verified\",\"Oct-2018\",\"Current\",\"n\",\"\",\"\",\"credit_card\",\"Credit card refinancing\",\"980xx\",\"WA\",\"11.78\",\"0\",\"Oct-2008\",\"2\",\"40\",\"\",\"15\",\"0\",\"6269\",\"13.1%\",\"25\",\"f\",\"7026.08\",\"6850.43\",\"3916.8\",\"3818.88\",\"2973.92\",\"942.88\",\"0.0\",\"0.0\",\"0.0\",\"Oct-2019\",\"327.68\",\"Nov-2019\",\"Oct-2019\",\"0\",\"53\",\"1\",\"Individual\",\"\",\"\",\"\",\"0\",\"520\",\"16440\",\"3\",\"1\",\"1\",\"1\",\"2\",\"10171\",\"100\",\"2\",\"5\",\"404\",\"28\",\"47700\",\"0\",\"3\",\"5\",\"6\",\"1265\",\"20037\",\"2.3\",\"0\",\"0\",\"61\",\"119\",\"1\",\"1\",\"0\",\"1\",\"\",\"1\",\"40\",\"1\",\"2\",\"4\",\"6\",\"8\",\"3\",\"14\",\"22\",\"4\",\"15\",\"0\",\"0\",\"0\",\"3\",\"92\",\"0\",\"0\",\"0\",\"57871\",\"16440\",\"20500\",\"10171\",\"\",\"\",\"\",\"\",\"\",\"\",\"\",\"\",\"\",\"\",\"\",\"N\",\"\",\"\",\"\",\"\",\"\",\"\",\"\",\"\",\"\",\"\",\"\",\"\",\"\",\"\",\"N\",\"\",\"\",\"\",\"\",\"\",\"\"\n",
            "\"\",\"\",\"10000\",\"10000\",\"10000\",\" 36 months\",\" 16.91%\",\"356.08\",\"C\",\"C5\",\"Key Accounts Manager\",\"2 years\",\"RENT\",\"80000\",\"Not Verified\",\"Oct-2018\",\"Current\",\"n\",\"\",\"\",\"other\",\"Other\",\"021xx\",\"MA\",\"17.72\",\"1\",\"Sep-2006\",\"0\",\"14\",\"\",\"17\",\"0\",\"1942\",\"30.8%\",\"31\",\"w\",\"7208.22\",\"7208.22\",\"4263.57\",\"4263.57\",\"2791.78\",\"1471.79\",\"0.0\",\"0.0\",\"0.0\",\"Oct-2019\",\"356.08\",\"Nov-2019\",\"Oct-2019\",\"0\",\"25\",\"1\",\"Individual\",\"\",\"\",\"\",\"0\",\"0\",\"59194\",\"0\",\"15\",\"1\",\"1\",\"12\",\"57252\",\"85\",\"0\",\"0\",\"1942\",\"80\",\"6300\",\"0\",\"5\",\"0\",\"1\",\"3482\",\"2058\",\"48.5\",\"0\",\"0\",\"144\",\"142\",\"40\",\"12\",\"0\",\"131\",\"30\",\"\",\"30\",\"3\",\"1\",\"1\",\"1\",\"5\",\"22\",\"2\",\"9\",\"1\",\"17\",\"0\",\"0\",\"0\",\"1\",\"74.2\",\"0\",\"0\",\"0\",\"73669\",\"59194\",\"4000\",\"67369\",\"\",\"\",\"\",\"\",\"\",\"\",\"\",\"\",\"\",\"\",\"\",\"N\",\"\",\"\",\"\",\"\",\"\",\"\",\"\",\"\",\"\",\"\",\"\",\"\",\"\",\"\",\"N\",\"\",\"\",\"\",\"\",\"\",\"\"\n",
            "\n",
            "\n",
            "Total amount funded in policy code 1: 2050909275\n",
            "Total amount funded in policy code 2: 820109297\n"
          ],
          "name": "stdout"
        }
      ]
    },
    {
      "cell_type": "code",
      "metadata": {
        "id": "YvcH5C-J3mko",
        "colab_type": "code",
        "colab": {
          "base_uri": "https://localhost:8080/",
          "height": 338
        },
        "outputId": "9c434d56-142c-4809-a3d5-92afe984a7f5"
      },
      "source": [
        "# load file to a df\n",
        "import pandas as pd\n",
        "df = pd.read_csv('LoanStats_2018Q4.csv', skiprows=1, skipfooter=2, engine= 'python')\n",
        "df.head()"
      ],
      "execution_count": 8,
      "outputs": [
        {
          "output_type": "execute_result",
          "data": {
            "text/html": [
              "<div>\n",
              "<style scoped>\n",
              "    .dataframe tbody tr th:only-of-type {\n",
              "        vertical-align: middle;\n",
              "    }\n",
              "\n",
              "    .dataframe tbody tr th {\n",
              "        vertical-align: top;\n",
              "    }\n",
              "\n",
              "    .dataframe thead th {\n",
              "        text-align: right;\n",
              "    }\n",
              "</style>\n",
              "<table border=\"1\" class=\"dataframe\">\n",
              "  <thead>\n",
              "    <tr style=\"text-align: right;\">\n",
              "      <th></th>\n",
              "      <th>id</th>\n",
              "      <th>member_id</th>\n",
              "      <th>loan_amnt</th>\n",
              "      <th>funded_amnt</th>\n",
              "      <th>funded_amnt_inv</th>\n",
              "      <th>term</th>\n",
              "      <th>int_rate</th>\n",
              "      <th>installment</th>\n",
              "      <th>grade</th>\n",
              "      <th>sub_grade</th>\n",
              "      <th>emp_title</th>\n",
              "      <th>emp_length</th>\n",
              "      <th>home_ownership</th>\n",
              "      <th>annual_inc</th>\n",
              "      <th>verification_status</th>\n",
              "      <th>issue_d</th>\n",
              "      <th>loan_status</th>\n",
              "      <th>pymnt_plan</th>\n",
              "      <th>url</th>\n",
              "      <th>desc</th>\n",
              "      <th>purpose</th>\n",
              "      <th>title</th>\n",
              "      <th>zip_code</th>\n",
              "      <th>addr_state</th>\n",
              "      <th>dti</th>\n",
              "      <th>delinq_2yrs</th>\n",
              "      <th>earliest_cr_line</th>\n",
              "      <th>inq_last_6mths</th>\n",
              "      <th>mths_since_last_delinq</th>\n",
              "      <th>mths_since_last_record</th>\n",
              "      <th>open_acc</th>\n",
              "      <th>pub_rec</th>\n",
              "      <th>revol_bal</th>\n",
              "      <th>revol_util</th>\n",
              "      <th>total_acc</th>\n",
              "      <th>initial_list_status</th>\n",
              "      <th>out_prncp</th>\n",
              "      <th>out_prncp_inv</th>\n",
              "      <th>total_pymnt</th>\n",
              "      <th>total_pymnt_inv</th>\n",
              "      <th>...</th>\n",
              "      <th>percent_bc_gt_75</th>\n",
              "      <th>pub_rec_bankruptcies</th>\n",
              "      <th>tax_liens</th>\n",
              "      <th>tot_hi_cred_lim</th>\n",
              "      <th>total_bal_ex_mort</th>\n",
              "      <th>total_bc_limit</th>\n",
              "      <th>total_il_high_credit_limit</th>\n",
              "      <th>revol_bal_joint</th>\n",
              "      <th>sec_app_earliest_cr_line</th>\n",
              "      <th>sec_app_inq_last_6mths</th>\n",
              "      <th>sec_app_mort_acc</th>\n",
              "      <th>sec_app_open_acc</th>\n",
              "      <th>sec_app_revol_util</th>\n",
              "      <th>sec_app_open_act_il</th>\n",
              "      <th>sec_app_num_rev_accts</th>\n",
              "      <th>sec_app_chargeoff_within_12_mths</th>\n",
              "      <th>sec_app_collections_12_mths_ex_med</th>\n",
              "      <th>sec_app_mths_since_last_major_derog</th>\n",
              "      <th>hardship_flag</th>\n",
              "      <th>hardship_type</th>\n",
              "      <th>hardship_reason</th>\n",
              "      <th>hardship_status</th>\n",
              "      <th>deferral_term</th>\n",
              "      <th>hardship_amount</th>\n",
              "      <th>hardship_start_date</th>\n",
              "      <th>hardship_end_date</th>\n",
              "      <th>payment_plan_start_date</th>\n",
              "      <th>hardship_length</th>\n",
              "      <th>hardship_dpd</th>\n",
              "      <th>hardship_loan_status</th>\n",
              "      <th>orig_projected_additional_accrued_interest</th>\n",
              "      <th>hardship_payoff_balance_amount</th>\n",
              "      <th>hardship_last_payment_amount</th>\n",
              "      <th>debt_settlement_flag</th>\n",
              "      <th>debt_settlement_flag_date</th>\n",
              "      <th>settlement_status</th>\n",
              "      <th>settlement_date</th>\n",
              "      <th>settlement_amount</th>\n",
              "      <th>settlement_percentage</th>\n",
              "      <th>settlement_term</th>\n",
              "    </tr>\n",
              "  </thead>\n",
              "  <tbody>\n",
              "    <tr>\n",
              "      <th>0</th>\n",
              "      <td>NaN</td>\n",
              "      <td>NaN</td>\n",
              "      <td>35000</td>\n",
              "      <td>35000</td>\n",
              "      <td>35000.0</td>\n",
              "      <td>36 months</td>\n",
              "      <td>14.47%</td>\n",
              "      <td>1204.23</td>\n",
              "      <td>C</td>\n",
              "      <td>C2</td>\n",
              "      <td>Staff Physician</td>\n",
              "      <td>8 years</td>\n",
              "      <td>MORTGAGE</td>\n",
              "      <td>360000.0</td>\n",
              "      <td>Verified</td>\n",
              "      <td>Dec-2018</td>\n",
              "      <td>Fully Paid</td>\n",
              "      <td>n</td>\n",
              "      <td>NaN</td>\n",
              "      <td>NaN</td>\n",
              "      <td>credit_card</td>\n",
              "      <td>Credit card refinancing</td>\n",
              "      <td>336xx</td>\n",
              "      <td>FL</td>\n",
              "      <td>19.90</td>\n",
              "      <td>0</td>\n",
              "      <td>Apr-1995</td>\n",
              "      <td>1</td>\n",
              "      <td>NaN</td>\n",
              "      <td>NaN</td>\n",
              "      <td>24</td>\n",
              "      <td>0</td>\n",
              "      <td>57259</td>\n",
              "      <td>43.2%</td>\n",
              "      <td>51</td>\n",
              "      <td>w</td>\n",
              "      <td>0.00</td>\n",
              "      <td>0.00</td>\n",
              "      <td>38187.046837</td>\n",
              "      <td>38187.05</td>\n",
              "      <td>...</td>\n",
              "      <td>30.8</td>\n",
              "      <td>0</td>\n",
              "      <td>0</td>\n",
              "      <td>1222051</td>\n",
              "      <td>169286</td>\n",
              "      <td>124600</td>\n",
              "      <td>258401</td>\n",
              "      <td>NaN</td>\n",
              "      <td>NaN</td>\n",
              "      <td>NaN</td>\n",
              "      <td>NaN</td>\n",
              "      <td>NaN</td>\n",
              "      <td>NaN</td>\n",
              "      <td>NaN</td>\n",
              "      <td>NaN</td>\n",
              "      <td>NaN</td>\n",
              "      <td>NaN</td>\n",
              "      <td>NaN</td>\n",
              "      <td>N</td>\n",
              "      <td>NaN</td>\n",
              "      <td>NaN</td>\n",
              "      <td>NaN</td>\n",
              "      <td>NaN</td>\n",
              "      <td>NaN</td>\n",
              "      <td>NaN</td>\n",
              "      <td>NaN</td>\n",
              "      <td>NaN</td>\n",
              "      <td>NaN</td>\n",
              "      <td>NaN</td>\n",
              "      <td>NaN</td>\n",
              "      <td>NaN</td>\n",
              "      <td>NaN</td>\n",
              "      <td>NaN</td>\n",
              "      <td>N</td>\n",
              "      <td>NaN</td>\n",
              "      <td>NaN</td>\n",
              "      <td>NaN</td>\n",
              "      <td>NaN</td>\n",
              "      <td>NaN</td>\n",
              "      <td>NaN</td>\n",
              "    </tr>\n",
              "    <tr>\n",
              "      <th>1</th>\n",
              "      <td>NaN</td>\n",
              "      <td>NaN</td>\n",
              "      <td>5000</td>\n",
              "      <td>5000</td>\n",
              "      <td>5000.0</td>\n",
              "      <td>36 months</td>\n",
              "      <td>22.35%</td>\n",
              "      <td>191.86</td>\n",
              "      <td>D</td>\n",
              "      <td>D5</td>\n",
              "      <td>Director of Sales</td>\n",
              "      <td>10+ years</td>\n",
              "      <td>MORTGAGE</td>\n",
              "      <td>72000.0</td>\n",
              "      <td>Source Verified</td>\n",
              "      <td>Dec-2018</td>\n",
              "      <td>Fully Paid</td>\n",
              "      <td>n</td>\n",
              "      <td>NaN</td>\n",
              "      <td>NaN</td>\n",
              "      <td>debt_consolidation</td>\n",
              "      <td>Debt consolidation</td>\n",
              "      <td>333xx</td>\n",
              "      <td>FL</td>\n",
              "      <td>20.12</td>\n",
              "      <td>0</td>\n",
              "      <td>Mar-2010</td>\n",
              "      <td>0</td>\n",
              "      <td>NaN</td>\n",
              "      <td>NaN</td>\n",
              "      <td>13</td>\n",
              "      <td>0</td>\n",
              "      <td>11720</td>\n",
              "      <td>47.1%</td>\n",
              "      <td>26</td>\n",
              "      <td>f</td>\n",
              "      <td>0.00</td>\n",
              "      <td>0.00</td>\n",
              "      <td>5615.977674</td>\n",
              "      <td>5615.98</td>\n",
              "      <td>...</td>\n",
              "      <td>50.0</td>\n",
              "      <td>0</td>\n",
              "      <td>0</td>\n",
              "      <td>218686</td>\n",
              "      <td>34418</td>\n",
              "      <td>18200</td>\n",
              "      <td>37786</td>\n",
              "      <td>NaN</td>\n",
              "      <td>NaN</td>\n",
              "      <td>NaN</td>\n",
              "      <td>NaN</td>\n",
              "      <td>NaN</td>\n",
              "      <td>NaN</td>\n",
              "      <td>NaN</td>\n",
              "      <td>NaN</td>\n",
              "      <td>NaN</td>\n",
              "      <td>NaN</td>\n",
              "      <td>NaN</td>\n",
              "      <td>N</td>\n",
              "      <td>NaN</td>\n",
              "      <td>NaN</td>\n",
              "      <td>NaN</td>\n",
              "      <td>NaN</td>\n",
              "      <td>NaN</td>\n",
              "      <td>NaN</td>\n",
              "      <td>NaN</td>\n",
              "      <td>NaN</td>\n",
              "      <td>NaN</td>\n",
              "      <td>NaN</td>\n",
              "      <td>NaN</td>\n",
              "      <td>NaN</td>\n",
              "      <td>NaN</td>\n",
              "      <td>NaN</td>\n",
              "      <td>N</td>\n",
              "      <td>NaN</td>\n",
              "      <td>NaN</td>\n",
              "      <td>NaN</td>\n",
              "      <td>NaN</td>\n",
              "      <td>NaN</td>\n",
              "      <td>NaN</td>\n",
              "    </tr>\n",
              "    <tr>\n",
              "      <th>2</th>\n",
              "      <td>NaN</td>\n",
              "      <td>NaN</td>\n",
              "      <td>10000</td>\n",
              "      <td>10000</td>\n",
              "      <td>10000.0</td>\n",
              "      <td>60 months</td>\n",
              "      <td>23.40%</td>\n",
              "      <td>284.21</td>\n",
              "      <td>E</td>\n",
              "      <td>E1</td>\n",
              "      <td>NaN</td>\n",
              "      <td>&lt; 1 year</td>\n",
              "      <td>RENT</td>\n",
              "      <td>55000.0</td>\n",
              "      <td>Source Verified</td>\n",
              "      <td>Dec-2018</td>\n",
              "      <td>Current</td>\n",
              "      <td>n</td>\n",
              "      <td>NaN</td>\n",
              "      <td>NaN</td>\n",
              "      <td>debt_consolidation</td>\n",
              "      <td>Debt consolidation</td>\n",
              "      <td>902xx</td>\n",
              "      <td>CA</td>\n",
              "      <td>13.51</td>\n",
              "      <td>0</td>\n",
              "      <td>Apr-2007</td>\n",
              "      <td>0</td>\n",
              "      <td>44.0</td>\n",
              "      <td>88.0</td>\n",
              "      <td>9</td>\n",
              "      <td>1</td>\n",
              "      <td>11859</td>\n",
              "      <td>53.9%</td>\n",
              "      <td>11</td>\n",
              "      <td>w</td>\n",
              "      <td>9025.41</td>\n",
              "      <td>9025.41</td>\n",
              "      <td>2822.600000</td>\n",
              "      <td>2822.60</td>\n",
              "      <td>...</td>\n",
              "      <td>100.0</td>\n",
              "      <td>1</td>\n",
              "      <td>0</td>\n",
              "      <td>34386</td>\n",
              "      <td>21235</td>\n",
              "      <td>10500</td>\n",
              "      <td>12386</td>\n",
              "      <td>NaN</td>\n",
              "      <td>NaN</td>\n",
              "      <td>NaN</td>\n",
              "      <td>NaN</td>\n",
              "      <td>NaN</td>\n",
              "      <td>NaN</td>\n",
              "      <td>NaN</td>\n",
              "      <td>NaN</td>\n",
              "      <td>NaN</td>\n",
              "      <td>NaN</td>\n",
              "      <td>NaN</td>\n",
              "      <td>N</td>\n",
              "      <td>NaN</td>\n",
              "      <td>NaN</td>\n",
              "      <td>NaN</td>\n",
              "      <td>NaN</td>\n",
              "      <td>NaN</td>\n",
              "      <td>NaN</td>\n",
              "      <td>NaN</td>\n",
              "      <td>NaN</td>\n",
              "      <td>NaN</td>\n",
              "      <td>NaN</td>\n",
              "      <td>NaN</td>\n",
              "      <td>NaN</td>\n",
              "      <td>NaN</td>\n",
              "      <td>NaN</td>\n",
              "      <td>N</td>\n",
              "      <td>NaN</td>\n",
              "      <td>NaN</td>\n",
              "      <td>NaN</td>\n",
              "      <td>NaN</td>\n",
              "      <td>NaN</td>\n",
              "      <td>NaN</td>\n",
              "    </tr>\n",
              "    <tr>\n",
              "      <th>3</th>\n",
              "      <td>NaN</td>\n",
              "      <td>NaN</td>\n",
              "      <td>17100</td>\n",
              "      <td>17100</td>\n",
              "      <td>17100.0</td>\n",
              "      <td>36 months</td>\n",
              "      <td>18.94%</td>\n",
              "      <td>626.30</td>\n",
              "      <td>D</td>\n",
              "      <td>D2</td>\n",
              "      <td>Receptionist</td>\n",
              "      <td>10+ years</td>\n",
              "      <td>RENT</td>\n",
              "      <td>38000.0</td>\n",
              "      <td>Verified</td>\n",
              "      <td>Dec-2018</td>\n",
              "      <td>Current</td>\n",
              "      <td>n</td>\n",
              "      <td>NaN</td>\n",
              "      <td>NaN</td>\n",
              "      <td>debt_consolidation</td>\n",
              "      <td>Debt consolidation</td>\n",
              "      <td>150xx</td>\n",
              "      <td>PA</td>\n",
              "      <td>38.09</td>\n",
              "      <td>0</td>\n",
              "      <td>Mar-1998</td>\n",
              "      <td>1</td>\n",
              "      <td>47.0</td>\n",
              "      <td>NaN</td>\n",
              "      <td>14</td>\n",
              "      <td>0</td>\n",
              "      <td>15323</td>\n",
              "      <td>53%</td>\n",
              "      <td>21</td>\n",
              "      <td>w</td>\n",
              "      <td>13271.86</td>\n",
              "      <td>13271.86</td>\n",
              "      <td>6236.010000</td>\n",
              "      <td>6236.01</td>\n",
              "      <td>...</td>\n",
              "      <td>75.0</td>\n",
              "      <td>0</td>\n",
              "      <td>0</td>\n",
              "      <td>70954</td>\n",
              "      <td>43351</td>\n",
              "      <td>16600</td>\n",
              "      <td>41784</td>\n",
              "      <td>NaN</td>\n",
              "      <td>NaN</td>\n",
              "      <td>NaN</td>\n",
              "      <td>NaN</td>\n",
              "      <td>NaN</td>\n",
              "      <td>NaN</td>\n",
              "      <td>NaN</td>\n",
              "      <td>NaN</td>\n",
              "      <td>NaN</td>\n",
              "      <td>NaN</td>\n",
              "      <td>NaN</td>\n",
              "      <td>N</td>\n",
              "      <td>NaN</td>\n",
              "      <td>NaN</td>\n",
              "      <td>NaN</td>\n",
              "      <td>NaN</td>\n",
              "      <td>NaN</td>\n",
              "      <td>NaN</td>\n",
              "      <td>NaN</td>\n",
              "      <td>NaN</td>\n",
              "      <td>NaN</td>\n",
              "      <td>NaN</td>\n",
              "      <td>NaN</td>\n",
              "      <td>NaN</td>\n",
              "      <td>NaN</td>\n",
              "      <td>NaN</td>\n",
              "      <td>N</td>\n",
              "      <td>NaN</td>\n",
              "      <td>NaN</td>\n",
              "      <td>NaN</td>\n",
              "      <td>NaN</td>\n",
              "      <td>NaN</td>\n",
              "      <td>NaN</td>\n",
              "    </tr>\n",
              "    <tr>\n",
              "      <th>4</th>\n",
              "      <td>NaN</td>\n",
              "      <td>NaN</td>\n",
              "      <td>4000</td>\n",
              "      <td>4000</td>\n",
              "      <td>4000.0</td>\n",
              "      <td>36 months</td>\n",
              "      <td>10.72%</td>\n",
              "      <td>130.43</td>\n",
              "      <td>B</td>\n",
              "      <td>B2</td>\n",
              "      <td>Extrusion assistant</td>\n",
              "      <td>10+ years</td>\n",
              "      <td>MORTGAGE</td>\n",
              "      <td>56000.0</td>\n",
              "      <td>Verified</td>\n",
              "      <td>Dec-2018</td>\n",
              "      <td>Current</td>\n",
              "      <td>n</td>\n",
              "      <td>NaN</td>\n",
              "      <td>NaN</td>\n",
              "      <td>credit_card</td>\n",
              "      <td>Credit card refinancing</td>\n",
              "      <td>301xx</td>\n",
              "      <td>GA</td>\n",
              "      <td>31.03</td>\n",
              "      <td>0</td>\n",
              "      <td>Sep-2006</td>\n",
              "      <td>0</td>\n",
              "      <td>NaN</td>\n",
              "      <td>NaN</td>\n",
              "      <td>7</td>\n",
              "      <td>0</td>\n",
              "      <td>4518</td>\n",
              "      <td>28.6%</td>\n",
              "      <td>11</td>\n",
              "      <td>w</td>\n",
              "      <td>3014.03</td>\n",
              "      <td>3014.03</td>\n",
              "      <td>1291.210000</td>\n",
              "      <td>1291.21</td>\n",
              "      <td>...</td>\n",
              "      <td>0.0</td>\n",
              "      <td>0</td>\n",
              "      <td>0</td>\n",
              "      <td>221310</td>\n",
              "      <td>71375</td>\n",
              "      <td>12300</td>\n",
              "      <td>77865</td>\n",
              "      <td>NaN</td>\n",
              "      <td>NaN</td>\n",
              "      <td>NaN</td>\n",
              "      <td>NaN</td>\n",
              "      <td>NaN</td>\n",
              "      <td>NaN</td>\n",
              "      <td>NaN</td>\n",
              "      <td>NaN</td>\n",
              "      <td>NaN</td>\n",
              "      <td>NaN</td>\n",
              "      <td>NaN</td>\n",
              "      <td>N</td>\n",
              "      <td>NaN</td>\n",
              "      <td>NaN</td>\n",
              "      <td>NaN</td>\n",
              "      <td>NaN</td>\n",
              "      <td>NaN</td>\n",
              "      <td>NaN</td>\n",
              "      <td>NaN</td>\n",
              "      <td>NaN</td>\n",
              "      <td>NaN</td>\n",
              "      <td>NaN</td>\n",
              "      <td>NaN</td>\n",
              "      <td>NaN</td>\n",
              "      <td>NaN</td>\n",
              "      <td>NaN</td>\n",
              "      <td>N</td>\n",
              "      <td>NaN</td>\n",
              "      <td>NaN</td>\n",
              "      <td>NaN</td>\n",
              "      <td>NaN</td>\n",
              "      <td>NaN</td>\n",
              "      <td>NaN</td>\n",
              "    </tr>\n",
              "  </tbody>\n",
              "</table>\n",
              "<p>5 rows × 144 columns</p>\n",
              "</div>"
            ],
            "text/plain": [
              "   id  member_id  ...  settlement_percentage  settlement_term\n",
              "0 NaN        NaN  ...                    NaN              NaN\n",
              "1 NaN        NaN  ...                    NaN              NaN\n",
              "2 NaN        NaN  ...                    NaN              NaN\n",
              "3 NaN        NaN  ...                    NaN              NaN\n",
              "4 NaN        NaN  ...                    NaN              NaN\n",
              "\n",
              "[5 rows x 144 columns]"
            ]
          },
          "metadata": {
            "tags": []
          },
          "execution_count": 8
        }
      ]
    },
    {
      "cell_type": "code",
      "metadata": {
        "id": "pZ_xJ89s4rph",
        "colab_type": "code",
        "colab": {
          "base_uri": "https://localhost:8080/",
          "height": 187
        },
        "outputId": "5e19d62f-981d-426c-e6d9-741448a1dcc3"
      },
      "source": [
        "# what is the shape of the file\n",
        "print(df.shape)\n",
        "print(df.columns)"
      ],
      "execution_count": 9,
      "outputs": [
        {
          "output_type": "stream",
          "text": [
            "(128412, 144)\n",
            "Index(['id', 'member_id', 'loan_amnt', 'funded_amnt', 'funded_amnt_inv',\n",
            "       'term', 'int_rate', 'installment', 'grade', 'sub_grade',\n",
            "       ...\n",
            "       'orig_projected_additional_accrued_interest',\n",
            "       'hardship_payoff_balance_amount', 'hardship_last_payment_amount',\n",
            "       'debt_settlement_flag', 'debt_settlement_flag_date',\n",
            "       'settlement_status', 'settlement_date', 'settlement_amount',\n",
            "       'settlement_percentage', 'settlement_term'],\n",
            "      dtype='object', length=144)\n"
          ],
          "name": "stdout"
        }
      ]
    },
    {
      "cell_type": "code",
      "metadata": {
        "id": "EvAxohFl44_k",
        "colab_type": "code",
        "colab": {
          "base_uri": "https://localhost:8080/",
          "height": 1000
        },
        "outputId": "ef5da5c8-e573-4b69-fe5f-cd0487ce4967"
      },
      "source": [
        "# Check for missing data\n",
        "pd.options.display.max_rows=999\n",
        "pd.options.display.max_columns=100\n",
        "\n",
        "df.isnull().sum().sort_values(ascending=False)"
      ],
      "execution_count": 11,
      "outputs": [
        {
          "output_type": "execute_result",
          "data": {
            "text/plain": [
              "id                                            128412\n",
              "desc                                          128412\n",
              "member_id                                     128412\n",
              "url                                           128412\n",
              "orig_projected_additional_accrued_interest    128283\n",
              "hardship_type                                 128276\n",
              "hardship_last_payment_amount                  128276\n",
              "hardship_payoff_balance_amount                128276\n",
              "hardship_reason                               128276\n",
              "hardship_loan_status                          128276\n",
              "hardship_dpd                                  128276\n",
              "hardship_length                               128276\n",
              "payment_plan_start_date                       128276\n",
              "hardship_end_date                             128276\n",
              "hardship_start_date                           128276\n",
              "hardship_amount                               128276\n",
              "deferral_term                                 128276\n",
              "hardship_status                               128276\n",
              "settlement_percentage                         128165\n",
              "settlement_term                               128165\n",
              "settlement_status                             128165\n",
              "settlement_amount                             128165\n",
              "settlement_date                               128165\n",
              "debt_settlement_flag_date                     128165\n",
              "sec_app_mths_since_last_major_derog           123258\n",
              "verification_status_joint                     113564\n",
              "mths_since_last_record                        112962\n",
              "sec_app_revol_util                            111888\n",
              "sec_app_num_rev_accts                         111630\n",
              "sec_app_chargeoff_within_12_mths              111630\n",
              "sec_app_collections_12_mths_ex_med            111630\n",
              "dti_joint                                     111630\n",
              "annual_inc_joint                              111630\n",
              "sec_app_open_act_il                           111630\n",
              "revol_bal_joint                               111630\n",
              "sec_app_earliest_cr_line                      111630\n",
              "sec_app_inq_last_6mths                        111630\n",
              "sec_app_mort_acc                              111630\n",
              "sec_app_open_acc                              111630\n",
              "mths_since_recent_bc_dlq                      103243\n",
              "mths_since_last_major_derog                    99232\n",
              "mths_since_recent_revol_delinq                 91630\n",
              "mths_since_last_delinq                         72196\n",
              "next_pymnt_d                                   21420\n",
              "emp_title                                      20947\n",
              "il_util                                        20274\n",
              "mths_since_recent_inq                          16047\n",
              "emp_length                                     11704\n",
              "mo_sin_old_il_acct                              4478\n",
              "mths_since_rcnt_il                              4478\n",
              "num_tl_120dpd_2m                                2859\n",
              "bc_util                                         1754\n",
              "percent_bc_gt_75                                1692\n",
              "bc_open_to_buy                                  1691\n",
              "mths_since_recent_bc                            1591\n",
              "dti                                              237\n",
              "last_pymnt_d                                     159\n",
              "revol_util                                       156\n",
              "all_util                                          37\n",
              "avg_cur_bal                                       13\n",
              "last_credit_pull_d                                 1\n",
              "int_rate                                           0\n",
              "initial_list_status                                0\n",
              "out_prncp                                          0\n",
              "out_prncp_inv                                      0\n",
              "total_pymnt                                        0\n",
              "total_pymnt_inv                                    0\n",
              "total_rec_prncp                                    0\n",
              "purpose                                            0\n",
              "total_rec_int                                      0\n",
              "total_acc                                          0\n",
              "funded_amnt_inv                                    0\n",
              "funded_amnt                                        0\n",
              "total_rec_late_fee                                 0\n",
              "recoveries                                         0\n",
              "loan_amnt                                          0\n",
              "collection_recovery_fee                            0\n",
              "term                                               0\n",
              "revol_bal                                          0\n",
              "installment                                        0\n",
              "pymnt_plan                                         0\n",
              "loan_status                                        0\n",
              "title                                              0\n",
              "zip_code                                           0\n",
              "addr_state                                         0\n",
              "issue_d                                            0\n",
              "delinq_2yrs                                        0\n",
              "earliest_cr_line                                   0\n",
              "verification_status                                0\n",
              "annual_inc                                         0\n",
              "inq_last_6mths                                     0\n",
              "home_ownership                                     0\n",
              "sub_grade                                          0\n",
              "grade                                              0\n",
              "open_acc                                           0\n",
              "pub_rec                                            0\n",
              "debt_settlement_flag                               0\n",
              "open_il_12m                                        0\n",
              "last_pymnt_amnt                                    0\n",
              "num_sats                                           0\n",
              "num_accts_ever_120_pd                              0\n",
              "num_actv_bc_tl                                     0\n",
              "num_actv_rev_tl                                    0\n",
              "num_bc_sats                                        0\n",
              "num_bc_tl                                          0\n",
              "num_il_tl                                          0\n",
              "num_op_rev_tl                                      0\n",
              "num_rev_accts                                      0\n",
              "num_rev_tl_bal_gt_0                                0\n",
              "num_tl_30dpd                                       0\n",
              "collections_12_mths_ex_med                         0\n",
              "num_tl_90g_dpd_24m                                 0\n",
              "num_tl_op_past_12m                                 0\n",
              "pct_tl_nvr_dlq                                     0\n",
              "pub_rec_bankruptcies                               0\n",
              "tax_liens                                          0\n",
              "tot_hi_cred_lim                                    0\n",
              "total_bal_ex_mort                                  0\n",
              "total_bc_limit                                     0\n",
              "total_il_high_credit_limit                         0\n",
              "mort_acc                                           0\n",
              "mo_sin_rcnt_tl                                     0\n",
              "mo_sin_rcnt_rev_tl_op                              0\n",
              "mo_sin_old_rev_tl_op                               0\n",
              "policy_code                                        0\n",
              "application_type                                   0\n",
              "acc_now_delinq                                     0\n",
              "tot_coll_amt                                       0\n",
              "tot_cur_bal                                        0\n",
              "open_acc_6m                                        0\n",
              "open_act_il                                        0\n",
              "hardship_flag                                      0\n",
              "open_il_24m                                        0\n",
              "total_bal_il                                       0\n",
              "open_rv_12m                                        0\n",
              "open_rv_24m                                        0\n",
              "max_bal_bc                                         0\n",
              "total_rev_hi_lim                                   0\n",
              "total_cu_tl                                        0\n",
              "inq_last_12m                                       0\n",
              "acc_open_past_24mths                               0\n",
              "chargeoff_within_12_mths                           0\n",
              "delinq_amnt                                        0\n",
              "inq_fi                                             0\n",
              "dtype: int64"
            ]
          },
          "metadata": {
            "tags": []
          },
          "execution_count": 11
        }
      ]
    },
    {
      "cell_type": "markdown",
      "metadata": {
        "id": "CngmN36V8VXc",
        "colab_type": "text"
      },
      "source": [
        "##Convert int_rate"
      ]
    },
    {
      "cell_type": "code",
      "metadata": {
        "id": "sgy8Mp6J6AEY",
        "colab_type": "code",
        "colab": {
          "base_uri": "https://localhost:8080/",
          "height": 119
        },
        "outputId": "6b1856ce-326c-4b99-ffb5-5f5bcee8eafe"
      },
      "source": [
        "# Conver int_rate from a string to a number\n",
        "df['int_rate'].head()"
      ],
      "execution_count": 12,
      "outputs": [
        {
          "output_type": "execute_result",
          "data": {
            "text/plain": [
              "0     14.47%\n",
              "1     22.35%\n",
              "2     23.40%\n",
              "3     18.94%\n",
              "4     10.72%\n",
              "Name: int_rate, dtype: object"
            ]
          },
          "metadata": {
            "tags": []
          },
          "execution_count": 12
        }
      ]
    },
    {
      "cell_type": "code",
      "metadata": {
        "id": "busJCJxA6M2j",
        "colab_type": "code",
        "colab": {
          "base_uri": "https://localhost:8080/",
          "height": 34
        },
        "outputId": "e559f12d-0a4b-4865-cb43-f41b2a7209f7"
      },
      "source": [
        "df['int_rate'].dtype"
      ],
      "execution_count": 13,
      "outputs": [
        {
          "output_type": "execute_result",
          "data": {
            "text/plain": [
              "dtype('O')"
            ]
          },
          "metadata": {
            "tags": []
          },
          "execution_count": 13
        }
      ]
    },
    {
      "cell_type": "code",
      "metadata": {
        "id": "CpBT4jmB6SSQ",
        "colab_type": "code",
        "colab": {
          "base_uri": "https://localhost:8080/",
          "height": 51
        },
        "outputId": "ef190590-dfe0-4f60-bead-643241ae5a0c"
      },
      "source": [
        "# check value in first cell\n",
        "int_rate0=df.loc[0, 'int_rate']\n",
        "print(int_rate0)\n",
        "int_rate0"
      ],
      "execution_count": 14,
      "outputs": [
        {
          "output_type": "stream",
          "text": [
            " 14.47%\n"
          ],
          "name": "stdout"
        },
        {
          "output_type": "execute_result",
          "data": {
            "text/plain": [
              "' 14.47%'"
            ]
          },
          "metadata": {
            "tags": []
          },
          "execution_count": 14
        }
      ]
    },
    {
      "cell_type": "code",
      "metadata": {
        "id": "TB9kOZ1r6r3h",
        "colab_type": "code",
        "colab": {
          "base_uri": "https://localhost:8080/",
          "height": 34
        },
        "outputId": "36494b4d-ca9f-4539-85db-a934e805f26f"
      },
      "source": [
        "# test the strip on our sample item\n",
        "int_rate0.strip().strip('%')"
      ],
      "execution_count": 15,
      "outputs": [
        {
          "output_type": "execute_result",
          "data": {
            "text/plain": [
              "'14.47'"
            ]
          },
          "metadata": {
            "tags": []
          },
          "execution_count": 15
        }
      ]
    },
    {
      "cell_type": "code",
      "metadata": {
        "id": "KQWET_vu66T3",
        "colab_type": "code",
        "colab": {
          "base_uri": "https://localhost:8080/",
          "height": 34
        },
        "outputId": "79130c81-8eeb-4851-af7d-5835d9d1a6c0"
      },
      "source": [
        "# now convert it to a float\n",
        "float(int_rate0.strip().strip('%'))"
      ],
      "execution_count": 16,
      "outputs": [
        {
          "output_type": "execute_result",
          "data": {
            "text/plain": [
              "14.47"
            ]
          },
          "metadata": {
            "tags": []
          },
          "execution_count": 16
        }
      ]
    },
    {
      "cell_type": "code",
      "metadata": {
        "id": "gL8pj5Lk7Gsa",
        "colab_type": "code",
        "colab": {}
      },
      "source": [
        "# now we convert the whole column\n",
        "# First making a function to do that\n",
        "def int_rate_2_float(mystring):\n",
        "  return(float(mystring.strip().strip('%')))"
      ],
      "execution_count": 0,
      "outputs": []
    },
    {
      "cell_type": "code",
      "metadata": {
        "id": "e02OHZ1h7X40",
        "colab_type": "code",
        "colab": {
          "base_uri": "https://localhost:8080/",
          "height": 34
        },
        "outputId": "672aca6c-a722-47e6-e120-eec45f5a4ab8"
      },
      "source": [
        "# test the function\n",
        "int_rate_2_float(int_rate0)"
      ],
      "execution_count": 20,
      "outputs": [
        {
          "output_type": "execute_result",
          "data": {
            "text/plain": [
              "14.47"
            ]
          },
          "metadata": {
            "tags": []
          },
          "execution_count": 20
        }
      ]
    },
    {
      "cell_type": "code",
      "metadata": {
        "id": "VDWBOQjd7rPI",
        "colab_type": "code",
        "colab": {
          "base_uri": "https://localhost:8080/",
          "height": 153
        },
        "outputId": "6cad80d3-1d12-491f-e897-e94f90568212"
      },
      "source": [
        "# apply the function to the whole column\n",
        "df['int_rate_float'] = df['int_rate'].apply(int_rate_2_float)\n",
        "df.columns"
      ],
      "execution_count": 21,
      "outputs": [
        {
          "output_type": "execute_result",
          "data": {
            "text/plain": [
              "Index(['id', 'member_id', 'loan_amnt', 'funded_amnt', 'funded_amnt_inv',\n",
              "       'term', 'int_rate', 'installment', 'grade', 'sub_grade',\n",
              "       ...\n",
              "       'hardship_payoff_balance_amount', 'hardship_last_payment_amount',\n",
              "       'debt_settlement_flag', 'debt_settlement_flag_date',\n",
              "       'settlement_status', 'settlement_date', 'settlement_amount',\n",
              "       'settlement_percentage', 'settlement_term', 'int_rate_float'],\n",
              "      dtype='object', length=145)"
            ]
          },
          "metadata": {
            "tags": []
          },
          "execution_count": 21
        }
      ]
    },
    {
      "cell_type": "code",
      "metadata": {
        "id": "QmscbdC478Ei",
        "colab_type": "code",
        "colab": {
          "base_uri": "https://localhost:8080/",
          "height": 119
        },
        "outputId": "414098bc-53b7-465f-94e4-e187000bfa42"
      },
      "source": [
        "# check to see it worked\n",
        "df['int_rate_float'].head()"
      ],
      "execution_count": 22,
      "outputs": [
        {
          "output_type": "execute_result",
          "data": {
            "text/plain": [
              "0    14.47\n",
              "1    22.35\n",
              "2    23.40\n",
              "3    18.94\n",
              "4    10.72\n",
              "Name: int_rate_float, dtype: float64"
            ]
          },
          "metadata": {
            "tags": []
          },
          "execution_count": 22
        }
      ]
    },
    {
      "cell_type": "code",
      "metadata": {
        "id": "vusBu_Kl8J46",
        "colab_type": "code",
        "colab": {
          "base_uri": "https://localhost:8080/",
          "height": 34
        },
        "outputId": "b523591e-20d2-48c3-8118-5a16247dc7e5"
      },
      "source": [
        "df['int_rate_float'].dtype\n",
        "# It worked"
      ],
      "execution_count": 23,
      "outputs": [
        {
          "output_type": "execute_result",
          "data": {
            "text/plain": [
              "dtype('float64')"
            ]
          },
          "metadata": {
            "tags": []
          },
          "execution_count": 23
        }
      ]
    },
    {
      "cell_type": "markdown",
      "metadata": {
        "id": "Rh_vWaOAAHfX",
        "colab_type": "text"
      },
      "source": [
        "## Convert term"
      ]
    },
    {
      "cell_type": "code",
      "metadata": {
        "id": "Axrb2M78AO_d",
        "colab_type": "code",
        "colab": {
          "base_uri": "https://localhost:8080/",
          "height": 119
        },
        "outputId": "f7d2e90d-5217-421e-c1f7-c21621818802"
      },
      "source": [
        "#Look at a sample\n",
        "df['term'].sample(5)"
      ],
      "execution_count": 41,
      "outputs": [
        {
          "output_type": "execute_result",
          "data": {
            "text/plain": [
              "28438      36 months\n",
              "21297      60 months\n",
              "81057      36 months\n",
              "112882     36 months\n",
              "26753      36 months\n",
              "Name: term, dtype: object"
            ]
          },
          "metadata": {
            "tags": []
          },
          "execution_count": 41
        }
      ]
    },
    {
      "cell_type": "code",
      "metadata": {
        "id": "tyqhcqU3AcX-",
        "colab_type": "code",
        "colab": {
          "base_uri": "https://localhost:8080/",
          "height": 34
        },
        "outputId": "258e3fbd-9404-49ea-f740-fdfd182a5d71"
      },
      "source": [
        "# check for nulls\n",
        "df['term'].isnull().sum()\n",
        "# nothing so we are good"
      ],
      "execution_count": 42,
      "outputs": [
        {
          "output_type": "execute_result",
          "data": {
            "text/plain": [
              "0"
            ]
          },
          "metadata": {
            "tags": []
          },
          "execution_count": 42
        }
      ]
    },
    {
      "cell_type": "code",
      "metadata": {
        "id": "h0iNrBydA1un",
        "colab_type": "code",
        "colab": {
          "base_uri": "https://localhost:8080/",
          "height": 34
        },
        "outputId": "b1d56582-44bf-4506-eb9c-e463904a244e"
      },
      "source": [
        "# find code on an exapmle\n",
        "term0 = df.loc[0, 'term']\n",
        "term0"
      ],
      "execution_count": 45,
      "outputs": [
        {
          "output_type": "execute_result",
          "data": {
            "text/plain": [
              "' 36 months'"
            ]
          },
          "metadata": {
            "tags": []
          },
          "execution_count": 45
        }
      ]
    },
    {
      "cell_type": "code",
      "metadata": {
        "id": "MAyQjslJBVhr",
        "colab_type": "code",
        "colab": {
          "base_uri": "https://localhost:8080/",
          "height": 34
        },
        "outputId": "a80ebc1c-0d86-4cf4-f17d-7873514091f4"
      },
      "source": [
        "term0.strip('months').strip()"
      ],
      "execution_count": 46,
      "outputs": [
        {
          "output_type": "execute_result",
          "data": {
            "text/plain": [
              "'36'"
            ]
          },
          "metadata": {
            "tags": []
          },
          "execution_count": 46
        }
      ]
    },
    {
      "cell_type": "code",
      "metadata": {
        "id": "bV0dmOv2AkWN",
        "colab_type": "code",
        "colab": {}
      },
      "source": [
        "# make a function to strip it\n",
        "def clean_term(term):\n",
        "  return int(term.strip('months').strip())\n",
        "  "
      ],
      "execution_count": 0,
      "outputs": []
    },
    {
      "cell_type": "code",
      "metadata": {
        "id": "0Kv-_VN_Bosm",
        "colab_type": "code",
        "colab": {
          "base_uri": "https://localhost:8080/",
          "height": 34
        },
        "outputId": "436646b0-db91-4847-fa7a-7c15d5776d6d"
      },
      "source": [
        "# test it\n",
        "clean_term(term0)"
      ],
      "execution_count": 54,
      "outputs": [
        {
          "output_type": "execute_result",
          "data": {
            "text/plain": [
              "36"
            ]
          },
          "metadata": {
            "tags": []
          },
          "execution_count": 54
        }
      ]
    },
    {
      "cell_type": "code",
      "metadata": {
        "id": "1q7KO_TQB2a1",
        "colab_type": "code",
        "colab": {
          "base_uri": "https://localhost:8080/",
          "height": 153
        },
        "outputId": "52eab993-8307-4bc6-e709-d520d725b1e8"
      },
      "source": [
        "df['term_clean'] = df['term'].apply(clean_term)\n",
        "df.columns"
      ],
      "execution_count": 55,
      "outputs": [
        {
          "output_type": "execute_result",
          "data": {
            "text/plain": [
              "Index(['id', 'member_id', 'loan_amnt', 'funded_amnt', 'funded_amnt_inv',\n",
              "       'term', 'int_rate', 'installment', 'grade', 'sub_grade',\n",
              "       ...\n",
              "       'debt_settlement_flag', 'debt_settlement_flag_date',\n",
              "       'settlement_status', 'settlement_date', 'settlement_amount',\n",
              "       'settlement_percentage', 'settlement_term', 'int_rate_float',\n",
              "       'emp_title_clean', 'term_clean'],\n",
              "      dtype='object', length=147)"
            ]
          },
          "metadata": {
            "tags": []
          },
          "execution_count": 55
        }
      ]
    },
    {
      "cell_type": "code",
      "metadata": {
        "id": "R-ShOb_zCBUj",
        "colab_type": "code",
        "colab": {
          "base_uri": "https://localhost:8080/",
          "height": 204
        },
        "outputId": "bcddd595-3f62-4c2c-cb16-c3aa5c23eacd"
      },
      "source": [
        "df[['term', 'term_clean']].sample(5)"
      ],
      "execution_count": 57,
      "outputs": [
        {
          "output_type": "execute_result",
          "data": {
            "text/html": [
              "<div>\n",
              "<style scoped>\n",
              "    .dataframe tbody tr th:only-of-type {\n",
              "        vertical-align: middle;\n",
              "    }\n",
              "\n",
              "    .dataframe tbody tr th {\n",
              "        vertical-align: top;\n",
              "    }\n",
              "\n",
              "    .dataframe thead th {\n",
              "        text-align: right;\n",
              "    }\n",
              "</style>\n",
              "<table border=\"1\" class=\"dataframe\">\n",
              "  <thead>\n",
              "    <tr style=\"text-align: right;\">\n",
              "      <th></th>\n",
              "      <th>term</th>\n",
              "      <th>term_clean</th>\n",
              "    </tr>\n",
              "  </thead>\n",
              "  <tbody>\n",
              "    <tr>\n",
              "      <th>6913</th>\n",
              "      <td>60 months</td>\n",
              "      <td>60</td>\n",
              "    </tr>\n",
              "    <tr>\n",
              "      <th>44002</th>\n",
              "      <td>36 months</td>\n",
              "      <td>36</td>\n",
              "    </tr>\n",
              "    <tr>\n",
              "      <th>92723</th>\n",
              "      <td>36 months</td>\n",
              "      <td>36</td>\n",
              "    </tr>\n",
              "    <tr>\n",
              "      <th>46750</th>\n",
              "      <td>36 months</td>\n",
              "      <td>36</td>\n",
              "    </tr>\n",
              "    <tr>\n",
              "      <th>26204</th>\n",
              "      <td>36 months</td>\n",
              "      <td>36</td>\n",
              "    </tr>\n",
              "  </tbody>\n",
              "</table>\n",
              "</div>"
            ],
            "text/plain": [
              "             term  term_clean\n",
              "6913    60 months          60\n",
              "44002   36 months          36\n",
              "92723   36 months          36\n",
              "46750   36 months          36\n",
              "26204   36 months          36"
            ]
          },
          "metadata": {
            "tags": []
          },
          "execution_count": 57
        }
      ]
    },
    {
      "cell_type": "code",
      "metadata": {
        "id": "tiI4_eSDCKfN",
        "colab_type": "code",
        "colab": {
          "base_uri": "https://localhost:8080/",
          "height": 34
        },
        "outputId": "9a8ab580-6b39-4fd7-978a-435bf09d7a8d"
      },
      "source": [
        "df['term_clean'].dtype\n",
        "# it worked"
      ],
      "execution_count": 59,
      "outputs": [
        {
          "output_type": "execute_result",
          "data": {
            "text/plain": [
              "dtype('int64')"
            ]
          },
          "metadata": {
            "tags": []
          },
          "execution_count": 59
        }
      ]
    },
    {
      "cell_type": "markdown",
      "metadata": {
        "id": "AqEbu6g48d3F",
        "colab_type": "text"
      },
      "source": [
        "##Clean emp_title"
      ]
    },
    {
      "cell_type": "code",
      "metadata": {
        "id": "bWALWg378bCi",
        "colab_type": "code",
        "colab": {
          "base_uri": "https://localhost:8080/",
          "height": 204
        },
        "outputId": "1cd65dcf-b1f4-4008-b203-42898315e22c"
      },
      "source": [
        "# check samples\n",
        "df[['emp_title']].sample(5)"
      ],
      "execution_count": 26,
      "outputs": [
        {
          "output_type": "execute_result",
          "data": {
            "text/html": [
              "<div>\n",
              "<style scoped>\n",
              "    .dataframe tbody tr th:only-of-type {\n",
              "        vertical-align: middle;\n",
              "    }\n",
              "\n",
              "    .dataframe tbody tr th {\n",
              "        vertical-align: top;\n",
              "    }\n",
              "\n",
              "    .dataframe thead th {\n",
              "        text-align: right;\n",
              "    }\n",
              "</style>\n",
              "<table border=\"1\" class=\"dataframe\">\n",
              "  <thead>\n",
              "    <tr style=\"text-align: right;\">\n",
              "      <th></th>\n",
              "      <th>emp_title</th>\n",
              "    </tr>\n",
              "  </thead>\n",
              "  <tbody>\n",
              "    <tr>\n",
              "      <th>75840</th>\n",
              "      <td>Sr. Manager</td>\n",
              "    </tr>\n",
              "    <tr>\n",
              "      <th>119568</th>\n",
              "      <td>Receptionist</td>\n",
              "    </tr>\n",
              "    <tr>\n",
              "      <th>23836</th>\n",
              "      <td>Mgr</td>\n",
              "    </tr>\n",
              "    <tr>\n",
              "      <th>66160</th>\n",
              "      <td>NaN</td>\n",
              "    </tr>\n",
              "    <tr>\n",
              "      <th>63887</th>\n",
              "      <td>Service Tech</td>\n",
              "    </tr>\n",
              "  </tbody>\n",
              "</table>\n",
              "</div>"
            ],
            "text/plain": [
              "           emp_title\n",
              "75840    Sr. Manager\n",
              "119568  Receptionist\n",
              "23836            Mgr\n",
              "66160            NaN\n",
              "63887   Service Tech"
            ]
          },
          "metadata": {
            "tags": []
          },
          "execution_count": 26
        }
      ]
    },
    {
      "cell_type": "code",
      "metadata": {
        "id": "ru66gPPc9CR-",
        "colab_type": "code",
        "colab": {
          "base_uri": "https://localhost:8080/",
          "height": 34
        },
        "outputId": "7536ed52-85d7-4836-d9f7-ce7cc445e27d"
      },
      "source": [
        "# See how my different titles there are\n",
        "df['emp_title'].nunique()"
      ],
      "execution_count": 27,
      "outputs": [
        {
          "output_type": "execute_result",
          "data": {
            "text/plain": [
              "43892"
            ]
          },
          "metadata": {
            "tags": []
          },
          "execution_count": 27
        }
      ]
    },
    {
      "cell_type": "code",
      "metadata": {
        "id": "09bGc8w19N3Y",
        "colab_type": "code",
        "colab": {
          "base_uri": "https://localhost:8080/",
          "height": 119
        },
        "outputId": "d5ae0ee4-b8b6-4654-8369-620ac0a942d9"
      },
      "source": [
        "#show the most popular titles\n",
        "df['emp_title'].value_counts(ascending=False, dropna=False).head()"
      ],
      "execution_count": 28,
      "outputs": [
        {
          "output_type": "execute_result",
          "data": {
            "text/plain": [
              "NaN                 20947\n",
              "Teacher              2090\n",
              "Manager              1773\n",
              "Registered Nurse      952\n",
              "Driver                924\n",
              "Name: emp_title, dtype: int64"
            ]
          },
          "metadata": {
            "tags": []
          },
          "execution_count": 28
        }
      ]
    },
    {
      "cell_type": "code",
      "metadata": {
        "id": "nNkvIqpv9tAD",
        "colab_type": "code",
        "colab": {
          "base_uri": "https://localhost:8080/",
          "height": 34
        },
        "outputId": "f71cc364-a77e-423f-8fed-399f49ce643f"
      },
      "source": [
        "# How many are null\n",
        "df['emp_title'].isnull().sum()"
      ],
      "execution_count": 29,
      "outputs": [
        {
          "output_type": "execute_result",
          "data": {
            "text/plain": [
              "20947"
            ]
          },
          "metadata": {
            "tags": []
          },
          "execution_count": 29
        }
      ]
    },
    {
      "cell_type": "code",
      "metadata": {
        "id": "hh43G1kg9hOp",
        "colab_type": "code",
        "colab": {
          "base_uri": "https://localhost:8080/",
          "height": 85
        },
        "outputId": "306e1da1-dc09-43a6-8204-ff06f3ad70de"
      },
      "source": [
        "# We will have to clean up the null values\n",
        "import numpy as np\n",
        "\n",
        "# Make a funtion to replace nulls with an Unknown\n",
        "#   and cleans up the titles to look cleaner\n",
        "def clean_title(title):\n",
        "  if isinstance(title, str):\n",
        "    return title.strip().title()\n",
        "  else:\n",
        "    return 'Unknown'\n",
        "\n",
        "#test it out\n",
        "examples = ['cook', 'supervisor', 'Project manaGEr', np.NaN]\n",
        "\n",
        "for item in examples:\n",
        "  print(clean_title(item))\n"
      ],
      "execution_count": 31,
      "outputs": [
        {
          "output_type": "stream",
          "text": [
            "Cook\n",
            "Supervisor\n",
            "Project Manager\n",
            "Unknown\n"
          ],
          "name": "stdout"
        }
      ]
    },
    {
      "cell_type": "code",
      "metadata": {
        "id": "-et3zTke_Giz",
        "colab_type": "code",
        "colab": {
          "base_uri": "https://localhost:8080/",
          "height": 153
        },
        "outputId": "709ad9f2-fec0-4518-b123-42e05de98aa2"
      },
      "source": [
        "# now we apply it\n",
        "df['emp_title_clean'] = df['emp_title'].apply(clean_title)\n",
        "df.columns"
      ],
      "execution_count": 32,
      "outputs": [
        {
          "output_type": "execute_result",
          "data": {
            "text/plain": [
              "Index(['id', 'member_id', 'loan_amnt', 'funded_amnt', 'funded_amnt_inv',\n",
              "       'term', 'int_rate', 'installment', 'grade', 'sub_grade',\n",
              "       ...\n",
              "       'hardship_last_payment_amount', 'debt_settlement_flag',\n",
              "       'debt_settlement_flag_date', 'settlement_status', 'settlement_date',\n",
              "       'settlement_amount', 'settlement_percentage', 'settlement_term',\n",
              "       'int_rate_float', 'emp_title_clean'],\n",
              "      dtype='object', length=146)"
            ]
          },
          "metadata": {
            "tags": []
          },
          "execution_count": 32
        }
      ]
    },
    {
      "cell_type": "code",
      "metadata": {
        "id": "4SN-7GnG_UxQ",
        "colab_type": "code",
        "colab": {
          "base_uri": "https://localhost:8080/",
          "height": 235
        },
        "outputId": "02d7a2cc-c317-4b61-ea86-1b27762185d8"
      },
      "source": [
        "# Check our work\n",
        "df[['emp_title', 'emp_title_clean']].sample(6)"
      ],
      "execution_count": 35,
      "outputs": [
        {
          "output_type": "execute_result",
          "data": {
            "text/html": [
              "<div>\n",
              "<style scoped>\n",
              "    .dataframe tbody tr th:only-of-type {\n",
              "        vertical-align: middle;\n",
              "    }\n",
              "\n",
              "    .dataframe tbody tr th {\n",
              "        vertical-align: top;\n",
              "    }\n",
              "\n",
              "    .dataframe thead th {\n",
              "        text-align: right;\n",
              "    }\n",
              "</style>\n",
              "<table border=\"1\" class=\"dataframe\">\n",
              "  <thead>\n",
              "    <tr style=\"text-align: right;\">\n",
              "      <th></th>\n",
              "      <th>emp_title</th>\n",
              "      <th>emp_title_clean</th>\n",
              "    </tr>\n",
              "  </thead>\n",
              "  <tbody>\n",
              "    <tr>\n",
              "      <th>83590</th>\n",
              "      <td>Helper bindery</td>\n",
              "      <td>Helper Bindery</td>\n",
              "    </tr>\n",
              "    <tr>\n",
              "      <th>65393</th>\n",
              "      <td>Teacher</td>\n",
              "      <td>Teacher</td>\n",
              "    </tr>\n",
              "    <tr>\n",
              "      <th>64717</th>\n",
              "      <td>NaN</td>\n",
              "      <td>Unknown</td>\n",
              "    </tr>\n",
              "    <tr>\n",
              "      <th>399</th>\n",
              "      <td>Social Studies Teacher</td>\n",
              "      <td>Social Studies Teacher</td>\n",
              "    </tr>\n",
              "    <tr>\n",
              "      <th>85491</th>\n",
              "      <td>NaN</td>\n",
              "      <td>Unknown</td>\n",
              "    </tr>\n",
              "    <tr>\n",
              "      <th>91593</th>\n",
              "      <td>Truck Driver</td>\n",
              "      <td>Truck Driver</td>\n",
              "    </tr>\n",
              "  </tbody>\n",
              "</table>\n",
              "</div>"
            ],
            "text/plain": [
              "                    emp_title         emp_title_clean\n",
              "83590          Helper bindery          Helper Bindery\n",
              "65393                 Teacher                 Teacher\n",
              "64717                     NaN                 Unknown\n",
              "399    Social Studies Teacher  Social Studies Teacher\n",
              "85491                     NaN                 Unknown\n",
              "91593            Truck Driver            Truck Driver"
            ]
          },
          "metadata": {
            "tags": []
          },
          "execution_count": 35
        }
      ]
    },
    {
      "cell_type": "code",
      "metadata": {
        "id": "EXGGKCSy_l3R",
        "colab_type": "code",
        "colab": {
          "base_uri": "https://localhost:8080/",
          "height": 34
        },
        "outputId": "cd244b41-9ade-451c-accd-7ef491e59c8e"
      },
      "source": [
        "df['emp_title_clean'].isnull().sum()\n",
        "# it worked"
      ],
      "execution_count": 37,
      "outputs": [
        {
          "output_type": "execute_result",
          "data": {
            "text/plain": [
              "0"
            ]
          },
          "metadata": {
            "tags": []
          },
          "execution_count": 37
        }
      ]
    },
    {
      "cell_type": "markdown",
      "metadata": {
        "id": "VDZz4Uyx_v1h",
        "colab_type": "text"
      },
      "source": [
        "##Create emp_title_manager"
      ]
    },
    {
      "cell_type": "code",
      "metadata": {
        "id": "oiqaPivC_te_",
        "colab_type": "code",
        "colab": {
          "base_uri": "https://localhost:8080/",
          "height": 136
        },
        "outputId": "998d8d09-a1ee-403b-d877-b6cf8e3247fa"
      },
      "source": [
        "#create a new column to see if the title is a manager\n",
        "df['emp_title_manager'] = df['emp_title_clean'].str.contains('Manager')\n",
        "df.columns"
      ],
      "execution_count": 60,
      "outputs": [
        {
          "output_type": "execute_result",
          "data": {
            "text/plain": [
              "Index(['id', 'member_id', 'loan_amnt', 'funded_amnt', 'funded_amnt_inv',\n",
              "       'term', 'int_rate', 'installment', 'grade', 'sub_grade',\n",
              "       ...\n",
              "       'debt_settlement_flag_date', 'settlement_status', 'settlement_date',\n",
              "       'settlement_amount', 'settlement_percentage', 'settlement_term',\n",
              "       'int_rate_float', 'emp_title_clean', 'term_clean', 'emp_title_manager'],\n",
              "      dtype='object', length=148)"
            ]
          },
          "metadata": {
            "tags": []
          },
          "execution_count": 60
        }
      ]
    },
    {
      "cell_type": "code",
      "metadata": {
        "id": "xVa0q1IVDhax",
        "colab_type": "code",
        "colab": {
          "base_uri": "https://localhost:8080/",
          "height": 204
        },
        "outputId": "0df4d055-2b92-4c60-f1a4-4c0b2633d895"
      },
      "source": [
        "# compare\n",
        "df[['emp_title_clean', 'emp_title_manager']].sample(5)"
      ],
      "execution_count": 62,
      "outputs": [
        {
          "output_type": "execute_result",
          "data": {
            "text/html": [
              "<div>\n",
              "<style scoped>\n",
              "    .dataframe tbody tr th:only-of-type {\n",
              "        vertical-align: middle;\n",
              "    }\n",
              "\n",
              "    .dataframe tbody tr th {\n",
              "        vertical-align: top;\n",
              "    }\n",
              "\n",
              "    .dataframe thead th {\n",
              "        text-align: right;\n",
              "    }\n",
              "</style>\n",
              "<table border=\"1\" class=\"dataframe\">\n",
              "  <thead>\n",
              "    <tr style=\"text-align: right;\">\n",
              "      <th></th>\n",
              "      <th>emp_title_clean</th>\n",
              "      <th>emp_title_manager</th>\n",
              "    </tr>\n",
              "  </thead>\n",
              "  <tbody>\n",
              "    <tr>\n",
              "      <th>22586</th>\n",
              "      <td>Vendor Manager</td>\n",
              "      <td>True</td>\n",
              "    </tr>\n",
              "    <tr>\n",
              "      <th>29633</th>\n",
              "      <td>Manager</td>\n",
              "      <td>True</td>\n",
              "    </tr>\n",
              "    <tr>\n",
              "      <th>76585</th>\n",
              "      <td>Guest Service</td>\n",
              "      <td>False</td>\n",
              "    </tr>\n",
              "    <tr>\n",
              "      <th>62284</th>\n",
              "      <td>Unknown</td>\n",
              "      <td>False</td>\n",
              "    </tr>\n",
              "    <tr>\n",
              "      <th>101435</th>\n",
              "      <td>Bookkeeper</td>\n",
              "      <td>False</td>\n",
              "    </tr>\n",
              "  </tbody>\n",
              "</table>\n",
              "</div>"
            ],
            "text/plain": [
              "       emp_title_clean  emp_title_manager\n",
              "22586   Vendor Manager               True\n",
              "29633          Manager               True\n",
              "76585    Guest Service              False\n",
              "62284          Unknown              False\n",
              "101435      Bookkeeper              False"
            ]
          },
          "metadata": {
            "tags": []
          },
          "execution_count": 62
        }
      ]
    },
    {
      "cell_type": "code",
      "metadata": {
        "id": "3jn6wzLgDvGV",
        "colab_type": "code",
        "colab": {
          "base_uri": "https://localhost:8080/",
          "height": 34
        },
        "outputId": "fe8d0375-c1b9-4b6f-ea32-b3ea5267d35a"
      },
      "source": [
        "# Check for null (there shouldn't be any)\n",
        "df['emp_title_manager'].isnull().sum()"
      ],
      "execution_count": 63,
      "outputs": [
        {
          "output_type": "execute_result",
          "data": {
            "text/plain": [
              "0"
            ]
          },
          "metadata": {
            "tags": []
          },
          "execution_count": 63
        }
      ]
    },
    {
      "cell_type": "code",
      "metadata": {
        "id": "bxD0pSvQGOC9",
        "colab_type": "code",
        "colab": {}
      },
      "source": [
        "# It worked and now we can do things with this if we want to"
      ],
      "execution_count": 0,
      "outputs": []
    },
    {
      "cell_type": "markdown",
      "metadata": {
        "id": "Hx8V8uJ5U5Ae",
        "colab_type": "text"
      },
      "source": [
        "###Filtering"
      ]
    },
    {
      "cell_type": "code",
      "metadata": {
        "id": "kkJ1R-pxU8Fx",
        "colab_type": "code",
        "colab": {
          "base_uri": "https://localhost:8080/",
          "height": 406
        },
        "outputId": "a199f886-7de7-4934-f5b0-2ad64fda2e15"
      },
      "source": [
        "# emp_title_manager is booloeans so we can use it as a filter\n",
        "condition = df['emp_title_manager'] == True\n",
        "\n",
        "managers = df[condition]\n",
        "managers.head()"
      ],
      "execution_count": 141,
      "outputs": [
        {
          "output_type": "execute_result",
          "data": {
            "text/html": [
              "<div>\n",
              "<style scoped>\n",
              "    .dataframe tbody tr th:only-of-type {\n",
              "        vertical-align: middle;\n",
              "    }\n",
              "\n",
              "    .dataframe tbody tr th {\n",
              "        vertical-align: top;\n",
              "    }\n",
              "\n",
              "    .dataframe thead th {\n",
              "        text-align: right;\n",
              "    }\n",
              "</style>\n",
              "<table border=\"1\" class=\"dataframe\">\n",
              "  <thead>\n",
              "    <tr style=\"text-align: right;\">\n",
              "      <th></th>\n",
              "      <th>id</th>\n",
              "      <th>member_id</th>\n",
              "      <th>loan_amnt</th>\n",
              "      <th>funded_amnt</th>\n",
              "      <th>funded_amnt_inv</th>\n",
              "      <th>term</th>\n",
              "      <th>int_rate</th>\n",
              "      <th>installment</th>\n",
              "      <th>grade</th>\n",
              "      <th>sub_grade</th>\n",
              "      <th>emp_title</th>\n",
              "      <th>emp_length</th>\n",
              "      <th>home_ownership</th>\n",
              "      <th>annual_inc</th>\n",
              "      <th>verification_status</th>\n",
              "      <th>issue_d</th>\n",
              "      <th>loan_status</th>\n",
              "      <th>pymnt_plan</th>\n",
              "      <th>url</th>\n",
              "      <th>desc</th>\n",
              "      <th>purpose</th>\n",
              "      <th>title</th>\n",
              "      <th>zip_code</th>\n",
              "      <th>addr_state</th>\n",
              "      <th>dti</th>\n",
              "      <th>delinq_2yrs</th>\n",
              "      <th>earliest_cr_line</th>\n",
              "      <th>inq_last_6mths</th>\n",
              "      <th>mths_since_last_delinq</th>\n",
              "      <th>mths_since_last_record</th>\n",
              "      <th>open_acc</th>\n",
              "      <th>pub_rec</th>\n",
              "      <th>revol_bal</th>\n",
              "      <th>revol_util</th>\n",
              "      <th>total_acc</th>\n",
              "      <th>initial_list_status</th>\n",
              "      <th>out_prncp</th>\n",
              "      <th>out_prncp_inv</th>\n",
              "      <th>total_pymnt</th>\n",
              "      <th>total_pymnt_inv</th>\n",
              "      <th>total_rec_prncp</th>\n",
              "      <th>total_rec_int</th>\n",
              "      <th>total_rec_late_fee</th>\n",
              "      <th>recoveries</th>\n",
              "      <th>collection_recovery_fee</th>\n",
              "      <th>last_pymnt_d</th>\n",
              "      <th>last_pymnt_amnt</th>\n",
              "      <th>next_pymnt_d</th>\n",
              "      <th>last_credit_pull_d</th>\n",
              "      <th>collections_12_mths_ex_med</th>\n",
              "      <th>...</th>\n",
              "      <th>tax_liens</th>\n",
              "      <th>tot_hi_cred_lim</th>\n",
              "      <th>total_bal_ex_mort</th>\n",
              "      <th>total_bc_limit</th>\n",
              "      <th>total_il_high_credit_limit</th>\n",
              "      <th>revol_bal_joint</th>\n",
              "      <th>sec_app_earliest_cr_line</th>\n",
              "      <th>sec_app_inq_last_6mths</th>\n",
              "      <th>sec_app_mort_acc</th>\n",
              "      <th>sec_app_open_acc</th>\n",
              "      <th>sec_app_revol_util</th>\n",
              "      <th>sec_app_open_act_il</th>\n",
              "      <th>sec_app_num_rev_accts</th>\n",
              "      <th>sec_app_chargeoff_within_12_mths</th>\n",
              "      <th>sec_app_collections_12_mths_ex_med</th>\n",
              "      <th>sec_app_mths_since_last_major_derog</th>\n",
              "      <th>hardship_flag</th>\n",
              "      <th>hardship_type</th>\n",
              "      <th>hardship_reason</th>\n",
              "      <th>hardship_status</th>\n",
              "      <th>deferral_term</th>\n",
              "      <th>hardship_amount</th>\n",
              "      <th>hardship_start_date</th>\n",
              "      <th>hardship_end_date</th>\n",
              "      <th>payment_plan_start_date</th>\n",
              "      <th>hardship_length</th>\n",
              "      <th>hardship_dpd</th>\n",
              "      <th>hardship_loan_status</th>\n",
              "      <th>orig_projected_additional_accrued_interest</th>\n",
              "      <th>hardship_payoff_balance_amount</th>\n",
              "      <th>hardship_last_payment_amount</th>\n",
              "      <th>debt_settlement_flag</th>\n",
              "      <th>debt_settlement_flag_date</th>\n",
              "      <th>settlement_status</th>\n",
              "      <th>settlement_date</th>\n",
              "      <th>settlement_amount</th>\n",
              "      <th>settlement_percentage</th>\n",
              "      <th>settlement_term</th>\n",
              "      <th>int_rate_float</th>\n",
              "      <th>emp_title_clean</th>\n",
              "      <th>term_clean</th>\n",
              "      <th>emp_title_manager</th>\n",
              "      <th>loan_status_is_great</th>\n",
              "      <th>issue_d_clean</th>\n",
              "      <th>issue_year</th>\n",
              "      <th>issue_month</th>\n",
              "      <th>issue_weekday</th>\n",
              "      <th>last_pymnt_d_clean</th>\n",
              "      <th>last_pymnt_d_year</th>\n",
              "      <th>last_pymnt_d_month</th>\n",
              "    </tr>\n",
              "  </thead>\n",
              "  <tbody>\n",
              "    <tr>\n",
              "      <th>9</th>\n",
              "      <td>NaN</td>\n",
              "      <td>NaN</td>\n",
              "      <td>10450</td>\n",
              "      <td>10450</td>\n",
              "      <td>10450.0</td>\n",
              "      <td>36 months</td>\n",
              "      <td>18.94%</td>\n",
              "      <td>382.74</td>\n",
              "      <td>D</td>\n",
              "      <td>D2</td>\n",
              "      <td>Project Manager</td>\n",
              "      <td>10+ years</td>\n",
              "      <td>MORTGAGE</td>\n",
              "      <td>70000.0</td>\n",
              "      <td>Source Verified</td>\n",
              "      <td>Dec-2018</td>\n",
              "      <td>Current</td>\n",
              "      <td>n</td>\n",
              "      <td>NaN</td>\n",
              "      <td>NaN</td>\n",
              "      <td>debt_consolidation</td>\n",
              "      <td>Debt consolidation</td>\n",
              "      <td>371xx</td>\n",
              "      <td>TN</td>\n",
              "      <td>27.38</td>\n",
              "      <td>0</td>\n",
              "      <td>Jul-2007</td>\n",
              "      <td>0</td>\n",
              "      <td>NaN</td>\n",
              "      <td>NaN</td>\n",
              "      <td>11</td>\n",
              "      <td>0</td>\n",
              "      <td>34628</td>\n",
              "      <td>87%</td>\n",
              "      <td>24</td>\n",
              "      <td>w</td>\n",
              "      <td>8361.33</td>\n",
              "      <td>8361.33</td>\n",
              "      <td>3439.170000</td>\n",
              "      <td>3439.17</td>\n",
              "      <td>2088.67</td>\n",
              "      <td>1350.50</td>\n",
              "      <td>0.0</td>\n",
              "      <td>0.0</td>\n",
              "      <td>0.0</td>\n",
              "      <td>Oct-2019</td>\n",
              "      <td>382.74</td>\n",
              "      <td>Nov-2019</td>\n",
              "      <td>Oct-2019</td>\n",
              "      <td>0</td>\n",
              "      <td>...</td>\n",
              "      <td>0</td>\n",
              "      <td>429450</td>\n",
              "      <td>41288</td>\n",
              "      <td>11800</td>\n",
              "      <td>17500</td>\n",
              "      <td>NaN</td>\n",
              "      <td>NaN</td>\n",
              "      <td>NaN</td>\n",
              "      <td>NaN</td>\n",
              "      <td>NaN</td>\n",
              "      <td>NaN</td>\n",
              "      <td>NaN</td>\n",
              "      <td>NaN</td>\n",
              "      <td>NaN</td>\n",
              "      <td>NaN</td>\n",
              "      <td>NaN</td>\n",
              "      <td>N</td>\n",
              "      <td>NaN</td>\n",
              "      <td>NaN</td>\n",
              "      <td>NaN</td>\n",
              "      <td>NaN</td>\n",
              "      <td>NaN</td>\n",
              "      <td>NaN</td>\n",
              "      <td>NaN</td>\n",
              "      <td>NaN</td>\n",
              "      <td>NaN</td>\n",
              "      <td>NaN</td>\n",
              "      <td>NaN</td>\n",
              "      <td>NaN</td>\n",
              "      <td>NaN</td>\n",
              "      <td>NaN</td>\n",
              "      <td>N</td>\n",
              "      <td>NaN</td>\n",
              "      <td>NaN</td>\n",
              "      <td>NaN</td>\n",
              "      <td>NaN</td>\n",
              "      <td>NaN</td>\n",
              "      <td>NaN</td>\n",
              "      <td>18.94</td>\n",
              "      <td>Project Manager</td>\n",
              "      <td>36</td>\n",
              "      <td>True</td>\n",
              "      <td>1</td>\n",
              "      <td>2018-12-01</td>\n",
              "      <td>2018</td>\n",
              "      <td>12</td>\n",
              "      <td>5</td>\n",
              "      <td>2019-10-01</td>\n",
              "      <td>2019.0</td>\n",
              "      <td>10.0</td>\n",
              "    </tr>\n",
              "    <tr>\n",
              "      <th>11</th>\n",
              "      <td>NaN</td>\n",
              "      <td>NaN</td>\n",
              "      <td>15400</td>\n",
              "      <td>15400</td>\n",
              "      <td>15400.0</td>\n",
              "      <td>60 months</td>\n",
              "      <td>14.47%</td>\n",
              "      <td>362.10</td>\n",
              "      <td>C</td>\n",
              "      <td>C2</td>\n",
              "      <td>DISTRICT SALES MANAGER</td>\n",
              "      <td>3 years</td>\n",
              "      <td>MORTGAGE</td>\n",
              "      <td>110000.0</td>\n",
              "      <td>Not Verified</td>\n",
              "      <td>Dec-2018</td>\n",
              "      <td>Current</td>\n",
              "      <td>n</td>\n",
              "      <td>NaN</td>\n",
              "      <td>NaN</td>\n",
              "      <td>debt_consolidation</td>\n",
              "      <td>Debt consolidation</td>\n",
              "      <td>451xx</td>\n",
              "      <td>OH</td>\n",
              "      <td>36.55</td>\n",
              "      <td>2</td>\n",
              "      <td>Sep-1991</td>\n",
              "      <td>0</td>\n",
              "      <td>10.0</td>\n",
              "      <td>NaN</td>\n",
              "      <td>14</td>\n",
              "      <td>0</td>\n",
              "      <td>7336</td>\n",
              "      <td>22.2%</td>\n",
              "      <td>26</td>\n",
              "      <td>w</td>\n",
              "      <td>13537.12</td>\n",
              "      <td>13537.12</td>\n",
              "      <td>3602.430000</td>\n",
              "      <td>3602.43</td>\n",
              "      <td>1862.88</td>\n",
              "      <td>1739.55</td>\n",
              "      <td>0.0</td>\n",
              "      <td>0.0</td>\n",
              "      <td>0.0</td>\n",
              "      <td>Oct-2019</td>\n",
              "      <td>362.10</td>\n",
              "      <td>Nov-2019</td>\n",
              "      <td>Oct-2019</td>\n",
              "      <td>0</td>\n",
              "      <td>...</td>\n",
              "      <td>0</td>\n",
              "      <td>654296</td>\n",
              "      <td>144449</td>\n",
              "      <td>20000</td>\n",
              "      <td>177320</td>\n",
              "      <td>NaN</td>\n",
              "      <td>NaN</td>\n",
              "      <td>NaN</td>\n",
              "      <td>NaN</td>\n",
              "      <td>NaN</td>\n",
              "      <td>NaN</td>\n",
              "      <td>NaN</td>\n",
              "      <td>NaN</td>\n",
              "      <td>NaN</td>\n",
              "      <td>NaN</td>\n",
              "      <td>NaN</td>\n",
              "      <td>N</td>\n",
              "      <td>NaN</td>\n",
              "      <td>NaN</td>\n",
              "      <td>NaN</td>\n",
              "      <td>NaN</td>\n",
              "      <td>NaN</td>\n",
              "      <td>NaN</td>\n",
              "      <td>NaN</td>\n",
              "      <td>NaN</td>\n",
              "      <td>NaN</td>\n",
              "      <td>NaN</td>\n",
              "      <td>NaN</td>\n",
              "      <td>NaN</td>\n",
              "      <td>NaN</td>\n",
              "      <td>NaN</td>\n",
              "      <td>N</td>\n",
              "      <td>NaN</td>\n",
              "      <td>NaN</td>\n",
              "      <td>NaN</td>\n",
              "      <td>NaN</td>\n",
              "      <td>NaN</td>\n",
              "      <td>NaN</td>\n",
              "      <td>14.47</td>\n",
              "      <td>District Sales Manager</td>\n",
              "      <td>60</td>\n",
              "      <td>True</td>\n",
              "      <td>1</td>\n",
              "      <td>2018-12-01</td>\n",
              "      <td>2018</td>\n",
              "      <td>12</td>\n",
              "      <td>5</td>\n",
              "      <td>2019-10-01</td>\n",
              "      <td>2019.0</td>\n",
              "      <td>10.0</td>\n",
              "    </tr>\n",
              "    <tr>\n",
              "      <th>27</th>\n",
              "      <td>NaN</td>\n",
              "      <td>NaN</td>\n",
              "      <td>25000</td>\n",
              "      <td>25000</td>\n",
              "      <td>25000.0</td>\n",
              "      <td>60 months</td>\n",
              "      <td>16.14%</td>\n",
              "      <td>609.82</td>\n",
              "      <td>C</td>\n",
              "      <td>C4</td>\n",
              "      <td>Production Manager</td>\n",
              "      <td>5 years</td>\n",
              "      <td>MORTGAGE</td>\n",
              "      <td>45000.0</td>\n",
              "      <td>Not Verified</td>\n",
              "      <td>Dec-2018</td>\n",
              "      <td>Fully Paid</td>\n",
              "      <td>n</td>\n",
              "      <td>NaN</td>\n",
              "      <td>NaN</td>\n",
              "      <td>debt_consolidation</td>\n",
              "      <td>Debt consolidation</td>\n",
              "      <td>703xx</td>\n",
              "      <td>LA</td>\n",
              "      <td>37.09</td>\n",
              "      <td>0</td>\n",
              "      <td>Sep-2003</td>\n",
              "      <td>0</td>\n",
              "      <td>NaN</td>\n",
              "      <td>NaN</td>\n",
              "      <td>7</td>\n",
              "      <td>0</td>\n",
              "      <td>8901</td>\n",
              "      <td>36.8%</td>\n",
              "      <td>21</td>\n",
              "      <td>w</td>\n",
              "      <td>0.00</td>\n",
              "      <td>0.00</td>\n",
              "      <td>26653.167580</td>\n",
              "      <td>26653.17</td>\n",
              "      <td>25000.00</td>\n",
              "      <td>1653.17</td>\n",
              "      <td>0.0</td>\n",
              "      <td>0.0</td>\n",
              "      <td>0.0</td>\n",
              "      <td>Apr-2019</td>\n",
              "      <td>24857.33</td>\n",
              "      <td>NaN</td>\n",
              "      <td>May-2019</td>\n",
              "      <td>0</td>\n",
              "      <td>...</td>\n",
              "      <td>0</td>\n",
              "      <td>73683</td>\n",
              "      <td>49524</td>\n",
              "      <td>18600</td>\n",
              "      <td>49483</td>\n",
              "      <td>NaN</td>\n",
              "      <td>NaN</td>\n",
              "      <td>NaN</td>\n",
              "      <td>NaN</td>\n",
              "      <td>NaN</td>\n",
              "      <td>NaN</td>\n",
              "      <td>NaN</td>\n",
              "      <td>NaN</td>\n",
              "      <td>NaN</td>\n",
              "      <td>NaN</td>\n",
              "      <td>NaN</td>\n",
              "      <td>N</td>\n",
              "      <td>NaN</td>\n",
              "      <td>NaN</td>\n",
              "      <td>NaN</td>\n",
              "      <td>NaN</td>\n",
              "      <td>NaN</td>\n",
              "      <td>NaN</td>\n",
              "      <td>NaN</td>\n",
              "      <td>NaN</td>\n",
              "      <td>NaN</td>\n",
              "      <td>NaN</td>\n",
              "      <td>NaN</td>\n",
              "      <td>NaN</td>\n",
              "      <td>NaN</td>\n",
              "      <td>NaN</td>\n",
              "      <td>N</td>\n",
              "      <td>NaN</td>\n",
              "      <td>NaN</td>\n",
              "      <td>NaN</td>\n",
              "      <td>NaN</td>\n",
              "      <td>NaN</td>\n",
              "      <td>NaN</td>\n",
              "      <td>16.14</td>\n",
              "      <td>Production Manager</td>\n",
              "      <td>60</td>\n",
              "      <td>True</td>\n",
              "      <td>1</td>\n",
              "      <td>2018-12-01</td>\n",
              "      <td>2018</td>\n",
              "      <td>12</td>\n",
              "      <td>5</td>\n",
              "      <td>2019-04-01</td>\n",
              "      <td>2019.0</td>\n",
              "      <td>4.0</td>\n",
              "    </tr>\n",
              "    <tr>\n",
              "      <th>40</th>\n",
              "      <td>NaN</td>\n",
              "      <td>NaN</td>\n",
              "      <td>12000</td>\n",
              "      <td>12000</td>\n",
              "      <td>12000.0</td>\n",
              "      <td>36 months</td>\n",
              "      <td>16.14%</td>\n",
              "      <td>422.72</td>\n",
              "      <td>C</td>\n",
              "      <td>C4</td>\n",
              "      <td>Sales Account Manager</td>\n",
              "      <td>4 years</td>\n",
              "      <td>RENT</td>\n",
              "      <td>70000.0</td>\n",
              "      <td>Source Verified</td>\n",
              "      <td>Dec-2018</td>\n",
              "      <td>Current</td>\n",
              "      <td>n</td>\n",
              "      <td>NaN</td>\n",
              "      <td>NaN</td>\n",
              "      <td>credit_card</td>\n",
              "      <td>Credit card refinancing</td>\n",
              "      <td>333xx</td>\n",
              "      <td>FL</td>\n",
              "      <td>18.96</td>\n",
              "      <td>0</td>\n",
              "      <td>Nov-2013</td>\n",
              "      <td>0</td>\n",
              "      <td>NaN</td>\n",
              "      <td>NaN</td>\n",
              "      <td>6</td>\n",
              "      <td>0</td>\n",
              "      <td>13663</td>\n",
              "      <td>61.8%</td>\n",
              "      <td>7</td>\n",
              "      <td>w</td>\n",
              "      <td>9555.15</td>\n",
              "      <td>9555.15</td>\n",
              "      <td>3788.340000</td>\n",
              "      <td>3788.34</td>\n",
              "      <td>2444.85</td>\n",
              "      <td>1343.49</td>\n",
              "      <td>0.0</td>\n",
              "      <td>0.0</td>\n",
              "      <td>0.0</td>\n",
              "      <td>Oct-2019</td>\n",
              "      <td>422.72</td>\n",
              "      <td>Nov-2019</td>\n",
              "      <td>Oct-2019</td>\n",
              "      <td>0</td>\n",
              "      <td>...</td>\n",
              "      <td>0</td>\n",
              "      <td>56264</td>\n",
              "      <td>34470</td>\n",
              "      <td>18500</td>\n",
              "      <td>34164</td>\n",
              "      <td>NaN</td>\n",
              "      <td>NaN</td>\n",
              "      <td>NaN</td>\n",
              "      <td>NaN</td>\n",
              "      <td>NaN</td>\n",
              "      <td>NaN</td>\n",
              "      <td>NaN</td>\n",
              "      <td>NaN</td>\n",
              "      <td>NaN</td>\n",
              "      <td>NaN</td>\n",
              "      <td>NaN</td>\n",
              "      <td>N</td>\n",
              "      <td>NaN</td>\n",
              "      <td>NaN</td>\n",
              "      <td>NaN</td>\n",
              "      <td>NaN</td>\n",
              "      <td>NaN</td>\n",
              "      <td>NaN</td>\n",
              "      <td>NaN</td>\n",
              "      <td>NaN</td>\n",
              "      <td>NaN</td>\n",
              "      <td>NaN</td>\n",
              "      <td>NaN</td>\n",
              "      <td>NaN</td>\n",
              "      <td>NaN</td>\n",
              "      <td>NaN</td>\n",
              "      <td>N</td>\n",
              "      <td>NaN</td>\n",
              "      <td>NaN</td>\n",
              "      <td>NaN</td>\n",
              "      <td>NaN</td>\n",
              "      <td>NaN</td>\n",
              "      <td>NaN</td>\n",
              "      <td>16.14</td>\n",
              "      <td>Sales Account Manager</td>\n",
              "      <td>36</td>\n",
              "      <td>True</td>\n",
              "      <td>1</td>\n",
              "      <td>2018-12-01</td>\n",
              "      <td>2018</td>\n",
              "      <td>12</td>\n",
              "      <td>5</td>\n",
              "      <td>2019-10-01</td>\n",
              "      <td>2019.0</td>\n",
              "      <td>10.0</td>\n",
              "    </tr>\n",
              "    <tr>\n",
              "      <th>42</th>\n",
              "      <td>NaN</td>\n",
              "      <td>NaN</td>\n",
              "      <td>35000</td>\n",
              "      <td>35000</td>\n",
              "      <td>35000.0</td>\n",
              "      <td>60 months</td>\n",
              "      <td>12.98%</td>\n",
              "      <td>796.00</td>\n",
              "      <td>B</td>\n",
              "      <td>B5</td>\n",
              "      <td>Sr. Vice President -Risk Manager</td>\n",
              "      <td>7 years</td>\n",
              "      <td>MORTGAGE</td>\n",
              "      <td>211646.0</td>\n",
              "      <td>Source Verified</td>\n",
              "      <td>Dec-2018</td>\n",
              "      <td>Fully Paid</td>\n",
              "      <td>n</td>\n",
              "      <td>NaN</td>\n",
              "      <td>NaN</td>\n",
              "      <td>debt_consolidation</td>\n",
              "      <td>Debt consolidation</td>\n",
              "      <td>797xx</td>\n",
              "      <td>TX</td>\n",
              "      <td>15.09</td>\n",
              "      <td>0</td>\n",
              "      <td>Sep-1985</td>\n",
              "      <td>0</td>\n",
              "      <td>77.0</td>\n",
              "      <td>NaN</td>\n",
              "      <td>13</td>\n",
              "      <td>0</td>\n",
              "      <td>55944</td>\n",
              "      <td>74.9%</td>\n",
              "      <td>39</td>\n",
              "      <td>w</td>\n",
              "      <td>0.00</td>\n",
              "      <td>0.00</td>\n",
              "      <td>36266.741552</td>\n",
              "      <td>36266.74</td>\n",
              "      <td>35000.00</td>\n",
              "      <td>1266.74</td>\n",
              "      <td>0.0</td>\n",
              "      <td>0.0</td>\n",
              "      <td>0.0</td>\n",
              "      <td>Apr-2019</td>\n",
              "      <td>34712.60</td>\n",
              "      <td>NaN</td>\n",
              "      <td>Oct-2019</td>\n",
              "      <td>0</td>\n",
              "      <td>...</td>\n",
              "      <td>0</td>\n",
              "      <td>516204</td>\n",
              "      <td>82514</td>\n",
              "      <td>59700</td>\n",
              "      <td>51904</td>\n",
              "      <td>88364.0</td>\n",
              "      <td>Sep-1985</td>\n",
              "      <td>0.0</td>\n",
              "      <td>6.0</td>\n",
              "      <td>19.0</td>\n",
              "      <td>53.4</td>\n",
              "      <td>2.0</td>\n",
              "      <td>29.0</td>\n",
              "      <td>0.0</td>\n",
              "      <td>0.0</td>\n",
              "      <td>NaN</td>\n",
              "      <td>N</td>\n",
              "      <td>NaN</td>\n",
              "      <td>NaN</td>\n",
              "      <td>NaN</td>\n",
              "      <td>NaN</td>\n",
              "      <td>NaN</td>\n",
              "      <td>NaN</td>\n",
              "      <td>NaN</td>\n",
              "      <td>NaN</td>\n",
              "      <td>NaN</td>\n",
              "      <td>NaN</td>\n",
              "      <td>NaN</td>\n",
              "      <td>NaN</td>\n",
              "      <td>NaN</td>\n",
              "      <td>NaN</td>\n",
              "      <td>N</td>\n",
              "      <td>NaN</td>\n",
              "      <td>NaN</td>\n",
              "      <td>NaN</td>\n",
              "      <td>NaN</td>\n",
              "      <td>NaN</td>\n",
              "      <td>NaN</td>\n",
              "      <td>12.98</td>\n",
              "      <td>Sr. Vice President -Risk Manager</td>\n",
              "      <td>60</td>\n",
              "      <td>True</td>\n",
              "      <td>1</td>\n",
              "      <td>2018-12-01</td>\n",
              "      <td>2018</td>\n",
              "      <td>12</td>\n",
              "      <td>5</td>\n",
              "      <td>2019-04-01</td>\n",
              "      <td>2019.0</td>\n",
              "      <td>4.0</td>\n",
              "    </tr>\n",
              "  </tbody>\n",
              "</table>\n",
              "<p>5 rows × 156 columns</p>\n",
              "</div>"
            ],
            "text/plain": [
              "    id  member_id  loan_amnt  funded_amnt  funded_amnt_inv        term  \\\n",
              "9  NaN        NaN      10450        10450          10450.0   36 months   \n",
              "11 NaN        NaN      15400        15400          15400.0   60 months   \n",
              "27 NaN        NaN      25000        25000          25000.0   60 months   \n",
              "40 NaN        NaN      12000        12000          12000.0   36 months   \n",
              "42 NaN        NaN      35000        35000          35000.0   60 months   \n",
              "\n",
              "   int_rate  installment grade sub_grade                         emp_title  \\\n",
              "9    18.94%       382.74     D        D2                   Project Manager   \n",
              "11   14.47%       362.10     C        C2            DISTRICT SALES MANAGER   \n",
              "27   16.14%       609.82     C        C4                Production Manager   \n",
              "40   16.14%       422.72     C        C4             Sales Account Manager   \n",
              "42   12.98%       796.00     B        B5  Sr. Vice President -Risk Manager   \n",
              "\n",
              "   emp_length home_ownership  annual_inc verification_status   issue_d  \\\n",
              "9   10+ years       MORTGAGE     70000.0     Source Verified  Dec-2018   \n",
              "11    3 years       MORTGAGE    110000.0        Not Verified  Dec-2018   \n",
              "27    5 years       MORTGAGE     45000.0        Not Verified  Dec-2018   \n",
              "40    4 years           RENT     70000.0     Source Verified  Dec-2018   \n",
              "42    7 years       MORTGAGE    211646.0     Source Verified  Dec-2018   \n",
              "\n",
              "   loan_status pymnt_plan  url  desc             purpose  \\\n",
              "9      Current          n  NaN   NaN  debt_consolidation   \n",
              "11     Current          n  NaN   NaN  debt_consolidation   \n",
              "27  Fully Paid          n  NaN   NaN  debt_consolidation   \n",
              "40     Current          n  NaN   NaN         credit_card   \n",
              "42  Fully Paid          n  NaN   NaN  debt_consolidation   \n",
              "\n",
              "                      title zip_code addr_state    dti  delinq_2yrs  \\\n",
              "9        Debt consolidation    371xx         TN  27.38            0   \n",
              "11       Debt consolidation    451xx         OH  36.55            2   \n",
              "27       Debt consolidation    703xx         LA  37.09            0   \n",
              "40  Credit card refinancing    333xx         FL  18.96            0   \n",
              "42       Debt consolidation    797xx         TX  15.09            0   \n",
              "\n",
              "   earliest_cr_line  inq_last_6mths  mths_since_last_delinq  \\\n",
              "9          Jul-2007               0                     NaN   \n",
              "11         Sep-1991               0                    10.0   \n",
              "27         Sep-2003               0                     NaN   \n",
              "40         Nov-2013               0                     NaN   \n",
              "42         Sep-1985               0                    77.0   \n",
              "\n",
              "    mths_since_last_record  open_acc  pub_rec  revol_bal revol_util  \\\n",
              "9                      NaN        11        0      34628        87%   \n",
              "11                     NaN        14        0       7336      22.2%   \n",
              "27                     NaN         7        0       8901      36.8%   \n",
              "40                     NaN         6        0      13663      61.8%   \n",
              "42                     NaN        13        0      55944      74.9%   \n",
              "\n",
              "    total_acc initial_list_status  out_prncp  out_prncp_inv   total_pymnt  \\\n",
              "9          24                   w    8361.33        8361.33   3439.170000   \n",
              "11         26                   w   13537.12       13537.12   3602.430000   \n",
              "27         21                   w       0.00           0.00  26653.167580   \n",
              "40          7                   w    9555.15        9555.15   3788.340000   \n",
              "42         39                   w       0.00           0.00  36266.741552   \n",
              "\n",
              "    total_pymnt_inv  total_rec_prncp  total_rec_int  total_rec_late_fee  \\\n",
              "9           3439.17          2088.67        1350.50                 0.0   \n",
              "11          3602.43          1862.88        1739.55                 0.0   \n",
              "27         26653.17         25000.00        1653.17                 0.0   \n",
              "40          3788.34          2444.85        1343.49                 0.0   \n",
              "42         36266.74         35000.00        1266.74                 0.0   \n",
              "\n",
              "    recoveries  collection_recovery_fee last_pymnt_d  last_pymnt_amnt  \\\n",
              "9          0.0                      0.0     Oct-2019           382.74   \n",
              "11         0.0                      0.0     Oct-2019           362.10   \n",
              "27         0.0                      0.0     Apr-2019         24857.33   \n",
              "40         0.0                      0.0     Oct-2019           422.72   \n",
              "42         0.0                      0.0     Apr-2019         34712.60   \n",
              "\n",
              "   next_pymnt_d last_credit_pull_d  collections_12_mths_ex_med  ...  \\\n",
              "9      Nov-2019           Oct-2019                           0  ...   \n",
              "11     Nov-2019           Oct-2019                           0  ...   \n",
              "27          NaN           May-2019                           0  ...   \n",
              "40     Nov-2019           Oct-2019                           0  ...   \n",
              "42          NaN           Oct-2019                           0  ...   \n",
              "\n",
              "    tax_liens  tot_hi_cred_lim total_bal_ex_mort  total_bc_limit  \\\n",
              "9           0           429450             41288           11800   \n",
              "11          0           654296            144449           20000   \n",
              "27          0            73683             49524           18600   \n",
              "40          0            56264             34470           18500   \n",
              "42          0           516204             82514           59700   \n",
              "\n",
              "    total_il_high_credit_limit revol_bal_joint  sec_app_earliest_cr_line  \\\n",
              "9                        17500             NaN                       NaN   \n",
              "11                      177320             NaN                       NaN   \n",
              "27                       49483             NaN                       NaN   \n",
              "40                       34164             NaN                       NaN   \n",
              "42                       51904         88364.0                  Sep-1985   \n",
              "\n",
              "    sec_app_inq_last_6mths  sec_app_mort_acc  sec_app_open_acc  \\\n",
              "9                      NaN               NaN               NaN   \n",
              "11                     NaN               NaN               NaN   \n",
              "27                     NaN               NaN               NaN   \n",
              "40                     NaN               NaN               NaN   \n",
              "42                     0.0               6.0              19.0   \n",
              "\n",
              "    sec_app_revol_util  sec_app_open_act_il  sec_app_num_rev_accts  \\\n",
              "9                  NaN                  NaN                    NaN   \n",
              "11                 NaN                  NaN                    NaN   \n",
              "27                 NaN                  NaN                    NaN   \n",
              "40                 NaN                  NaN                    NaN   \n",
              "42                53.4                  2.0                   29.0   \n",
              "\n",
              "    sec_app_chargeoff_within_12_mths  sec_app_collections_12_mths_ex_med  \\\n",
              "9                                NaN                                 NaN   \n",
              "11                               NaN                                 NaN   \n",
              "27                               NaN                                 NaN   \n",
              "40                               NaN                                 NaN   \n",
              "42                               0.0                                 0.0   \n",
              "\n",
              "    sec_app_mths_since_last_major_derog  hardship_flag  hardship_type  \\\n",
              "9                                   NaN              N            NaN   \n",
              "11                                  NaN              N            NaN   \n",
              "27                                  NaN              N            NaN   \n",
              "40                                  NaN              N            NaN   \n",
              "42                                  NaN              N            NaN   \n",
              "\n",
              "    hardship_reason  hardship_status  deferral_term  hardship_amount  \\\n",
              "9               NaN              NaN            NaN              NaN   \n",
              "11              NaN              NaN            NaN              NaN   \n",
              "27              NaN              NaN            NaN              NaN   \n",
              "40              NaN              NaN            NaN              NaN   \n",
              "42              NaN              NaN            NaN              NaN   \n",
              "\n",
              "    hardship_start_date  hardship_end_date  payment_plan_start_date  \\\n",
              "9                   NaN                NaN                      NaN   \n",
              "11                  NaN                NaN                      NaN   \n",
              "27                  NaN                NaN                      NaN   \n",
              "40                  NaN                NaN                      NaN   \n",
              "42                  NaN                NaN                      NaN   \n",
              "\n",
              "    hardship_length  hardship_dpd  hardship_loan_status  \\\n",
              "9               NaN           NaN                   NaN   \n",
              "11              NaN           NaN                   NaN   \n",
              "27              NaN           NaN                   NaN   \n",
              "40              NaN           NaN                   NaN   \n",
              "42              NaN           NaN                   NaN   \n",
              "\n",
              "    orig_projected_additional_accrued_interest  \\\n",
              "9                                          NaN   \n",
              "11                                         NaN   \n",
              "27                                         NaN   \n",
              "40                                         NaN   \n",
              "42                                         NaN   \n",
              "\n",
              "    hardship_payoff_balance_amount  hardship_last_payment_amount  \\\n",
              "9                              NaN                           NaN   \n",
              "11                             NaN                           NaN   \n",
              "27                             NaN                           NaN   \n",
              "40                             NaN                           NaN   \n",
              "42                             NaN                           NaN   \n",
              "\n",
              "    debt_settlement_flag  debt_settlement_flag_date  settlement_status  \\\n",
              "9                      N                        NaN                NaN   \n",
              "11                     N                        NaN                NaN   \n",
              "27                     N                        NaN                NaN   \n",
              "40                     N                        NaN                NaN   \n",
              "42                     N                        NaN                NaN   \n",
              "\n",
              "    settlement_date  settlement_amount  settlement_percentage  \\\n",
              "9               NaN                NaN                    NaN   \n",
              "11              NaN                NaN                    NaN   \n",
              "27              NaN                NaN                    NaN   \n",
              "40              NaN                NaN                    NaN   \n",
              "42              NaN                NaN                    NaN   \n",
              "\n",
              "    settlement_term  int_rate_float                   emp_title_clean  \\\n",
              "9               NaN           18.94                   Project Manager   \n",
              "11              NaN           14.47            District Sales Manager   \n",
              "27              NaN           16.14                Production Manager   \n",
              "40              NaN           16.14             Sales Account Manager   \n",
              "42              NaN           12.98  Sr. Vice President -Risk Manager   \n",
              "\n",
              "    term_clean  emp_title_manager  loan_status_is_great  issue_d_clean  \\\n",
              "9           36               True                     1     2018-12-01   \n",
              "11          60               True                     1     2018-12-01   \n",
              "27          60               True                     1     2018-12-01   \n",
              "40          36               True                     1     2018-12-01   \n",
              "42          60               True                     1     2018-12-01   \n",
              "\n",
              "    issue_year  issue_month  issue_weekday  last_pymnt_d_clean  \\\n",
              "9         2018           12              5          2019-10-01   \n",
              "11        2018           12              5          2019-10-01   \n",
              "27        2018           12              5          2019-04-01   \n",
              "40        2018           12              5          2019-10-01   \n",
              "42        2018           12              5          2019-04-01   \n",
              "\n",
              "    last_pymnt_d_year  last_pymnt_d_month  \n",
              "9              2019.0                10.0  \n",
              "11             2019.0                10.0  \n",
              "27             2019.0                 4.0  \n",
              "40             2019.0                10.0  \n",
              "42             2019.0                 4.0  \n",
              "\n",
              "[5 rows x 156 columns]"
            ]
          },
          "metadata": {
            "tags": []
          },
          "execution_count": 141
        }
      ]
    },
    {
      "cell_type": "code",
      "metadata": {
        "id": "tNjn1XkMVXNv",
        "colab_type": "code",
        "colab": {
          "base_uri": "https://localhost:8080/",
          "height": 338
        },
        "outputId": "c5dc94c2-162c-43d5-f10a-327f92a11f19"
      },
      "source": [
        "# using two filters at once\n",
        "subordinates=df[(df['emp_title_manager']==False) & (df['home_ownership']=='OWN')]\n",
        "subordinates.head()"
      ],
      "execution_count": 152,
      "outputs": [
        {
          "output_type": "execute_result",
          "data": {
            "text/html": [
              "<div>\n",
              "<style scoped>\n",
              "    .dataframe tbody tr th:only-of-type {\n",
              "        vertical-align: middle;\n",
              "    }\n",
              "\n",
              "    .dataframe tbody tr th {\n",
              "        vertical-align: top;\n",
              "    }\n",
              "\n",
              "    .dataframe thead th {\n",
              "        text-align: right;\n",
              "    }\n",
              "</style>\n",
              "<table border=\"1\" class=\"dataframe\">\n",
              "  <thead>\n",
              "    <tr style=\"text-align: right;\">\n",
              "      <th></th>\n",
              "      <th>id</th>\n",
              "      <th>member_id</th>\n",
              "      <th>loan_amnt</th>\n",
              "      <th>funded_amnt</th>\n",
              "      <th>funded_amnt_inv</th>\n",
              "      <th>term</th>\n",
              "      <th>int_rate</th>\n",
              "      <th>installment</th>\n",
              "      <th>grade</th>\n",
              "      <th>sub_grade</th>\n",
              "      <th>emp_title</th>\n",
              "      <th>emp_length</th>\n",
              "      <th>home_ownership</th>\n",
              "      <th>annual_inc</th>\n",
              "      <th>verification_status</th>\n",
              "      <th>issue_d</th>\n",
              "      <th>loan_status</th>\n",
              "      <th>pymnt_plan</th>\n",
              "      <th>url</th>\n",
              "      <th>desc</th>\n",
              "      <th>purpose</th>\n",
              "      <th>title</th>\n",
              "      <th>zip_code</th>\n",
              "      <th>addr_state</th>\n",
              "      <th>dti</th>\n",
              "      <th>delinq_2yrs</th>\n",
              "      <th>earliest_cr_line</th>\n",
              "      <th>inq_last_6mths</th>\n",
              "      <th>mths_since_last_delinq</th>\n",
              "      <th>mths_since_last_record</th>\n",
              "      <th>open_acc</th>\n",
              "      <th>pub_rec</th>\n",
              "      <th>revol_bal</th>\n",
              "      <th>revol_util</th>\n",
              "      <th>total_acc</th>\n",
              "      <th>initial_list_status</th>\n",
              "      <th>out_prncp</th>\n",
              "      <th>out_prncp_inv</th>\n",
              "      <th>total_pymnt</th>\n",
              "      <th>total_pymnt_inv</th>\n",
              "      <th>total_rec_prncp</th>\n",
              "      <th>total_rec_int</th>\n",
              "      <th>total_rec_late_fee</th>\n",
              "      <th>recoveries</th>\n",
              "      <th>collection_recovery_fee</th>\n",
              "      <th>last_pymnt_d</th>\n",
              "      <th>last_pymnt_amnt</th>\n",
              "      <th>next_pymnt_d</th>\n",
              "      <th>last_credit_pull_d</th>\n",
              "      <th>collections_12_mths_ex_med</th>\n",
              "      <th>...</th>\n",
              "      <th>tax_liens</th>\n",
              "      <th>tot_hi_cred_lim</th>\n",
              "      <th>total_bal_ex_mort</th>\n",
              "      <th>total_bc_limit</th>\n",
              "      <th>total_il_high_credit_limit</th>\n",
              "      <th>revol_bal_joint</th>\n",
              "      <th>sec_app_earliest_cr_line</th>\n",
              "      <th>sec_app_inq_last_6mths</th>\n",
              "      <th>sec_app_mort_acc</th>\n",
              "      <th>sec_app_open_acc</th>\n",
              "      <th>sec_app_revol_util</th>\n",
              "      <th>sec_app_open_act_il</th>\n",
              "      <th>sec_app_num_rev_accts</th>\n",
              "      <th>sec_app_chargeoff_within_12_mths</th>\n",
              "      <th>sec_app_collections_12_mths_ex_med</th>\n",
              "      <th>sec_app_mths_since_last_major_derog</th>\n",
              "      <th>hardship_flag</th>\n",
              "      <th>hardship_type</th>\n",
              "      <th>hardship_reason</th>\n",
              "      <th>hardship_status</th>\n",
              "      <th>deferral_term</th>\n",
              "      <th>hardship_amount</th>\n",
              "      <th>hardship_start_date</th>\n",
              "      <th>hardship_end_date</th>\n",
              "      <th>payment_plan_start_date</th>\n",
              "      <th>hardship_length</th>\n",
              "      <th>hardship_dpd</th>\n",
              "      <th>hardship_loan_status</th>\n",
              "      <th>orig_projected_additional_accrued_interest</th>\n",
              "      <th>hardship_payoff_balance_amount</th>\n",
              "      <th>hardship_last_payment_amount</th>\n",
              "      <th>debt_settlement_flag</th>\n",
              "      <th>debt_settlement_flag_date</th>\n",
              "      <th>settlement_status</th>\n",
              "      <th>settlement_date</th>\n",
              "      <th>settlement_amount</th>\n",
              "      <th>settlement_percentage</th>\n",
              "      <th>settlement_term</th>\n",
              "      <th>int_rate_float</th>\n",
              "      <th>emp_title_clean</th>\n",
              "      <th>term_clean</th>\n",
              "      <th>emp_title_manager</th>\n",
              "      <th>loan_status_is_great</th>\n",
              "      <th>issue_d_clean</th>\n",
              "      <th>issue_year</th>\n",
              "      <th>issue_month</th>\n",
              "      <th>issue_weekday</th>\n",
              "      <th>last_pymnt_d_clean</th>\n",
              "      <th>last_pymnt_d_year</th>\n",
              "      <th>last_pymnt_d_month</th>\n",
              "    </tr>\n",
              "  </thead>\n",
              "  <tbody>\n",
              "    <tr>\n",
              "      <th>24</th>\n",
              "      <td>NaN</td>\n",
              "      <td>NaN</td>\n",
              "      <td>30000</td>\n",
              "      <td>30000</td>\n",
              "      <td>30000.0</td>\n",
              "      <td>60 months</td>\n",
              "      <td>26.31%</td>\n",
              "      <td>903.73</td>\n",
              "      <td>E</td>\n",
              "      <td>E4</td>\n",
              "      <td>Casino Host</td>\n",
              "      <td>10+ years</td>\n",
              "      <td>OWN</td>\n",
              "      <td>62000.0</td>\n",
              "      <td>Source Verified</td>\n",
              "      <td>Dec-2018</td>\n",
              "      <td>Charged Off</td>\n",
              "      <td>n</td>\n",
              "      <td>NaN</td>\n",
              "      <td>NaN</td>\n",
              "      <td>debt_consolidation</td>\n",
              "      <td>Debt consolidation</td>\n",
              "      <td>920xx</td>\n",
              "      <td>CA</td>\n",
              "      <td>37.24</td>\n",
              "      <td>0</td>\n",
              "      <td>Oct-2007</td>\n",
              "      <td>0</td>\n",
              "      <td>NaN</td>\n",
              "      <td>86.0</td>\n",
              "      <td>15</td>\n",
              "      <td>1</td>\n",
              "      <td>18890</td>\n",
              "      <td>39.8%</td>\n",
              "      <td>36</td>\n",
              "      <td>w</td>\n",
              "      <td>0.00</td>\n",
              "      <td>0.00</td>\n",
              "      <td>2645.41</td>\n",
              "      <td>2645.41</td>\n",
              "      <td>754.24</td>\n",
              "      <td>1891.17</td>\n",
              "      <td>0.0</td>\n",
              "      <td>0.0</td>\n",
              "      <td>0.0</td>\n",
              "      <td>Apr-2019</td>\n",
              "      <td>903.73</td>\n",
              "      <td>NaN</td>\n",
              "      <td>Oct-2019</td>\n",
              "      <td>0</td>\n",
              "      <td>...</td>\n",
              "      <td>0</td>\n",
              "      <td>138354</td>\n",
              "      <td>104590</td>\n",
              "      <td>36400</td>\n",
              "      <td>90854</td>\n",
              "      <td>NaN</td>\n",
              "      <td>NaN</td>\n",
              "      <td>NaN</td>\n",
              "      <td>NaN</td>\n",
              "      <td>NaN</td>\n",
              "      <td>NaN</td>\n",
              "      <td>NaN</td>\n",
              "      <td>NaN</td>\n",
              "      <td>NaN</td>\n",
              "      <td>NaN</td>\n",
              "      <td>NaN</td>\n",
              "      <td>N</td>\n",
              "      <td>NaN</td>\n",
              "      <td>NaN</td>\n",
              "      <td>NaN</td>\n",
              "      <td>NaN</td>\n",
              "      <td>NaN</td>\n",
              "      <td>NaN</td>\n",
              "      <td>NaN</td>\n",
              "      <td>NaN</td>\n",
              "      <td>NaN</td>\n",
              "      <td>NaN</td>\n",
              "      <td>NaN</td>\n",
              "      <td>NaN</td>\n",
              "      <td>NaN</td>\n",
              "      <td>NaN</td>\n",
              "      <td>N</td>\n",
              "      <td>NaN</td>\n",
              "      <td>NaN</td>\n",
              "      <td>NaN</td>\n",
              "      <td>NaN</td>\n",
              "      <td>NaN</td>\n",
              "      <td>NaN</td>\n",
              "      <td>26.31</td>\n",
              "      <td>Casino Host</td>\n",
              "      <td>60</td>\n",
              "      <td>False</td>\n",
              "      <td>0</td>\n",
              "      <td>2018-12-01</td>\n",
              "      <td>2018</td>\n",
              "      <td>12</td>\n",
              "      <td>5</td>\n",
              "      <td>2019-04-01</td>\n",
              "      <td>2019.0</td>\n",
              "      <td>4.0</td>\n",
              "    </tr>\n",
              "    <tr>\n",
              "      <th>41</th>\n",
              "      <td>NaN</td>\n",
              "      <td>NaN</td>\n",
              "      <td>1200</td>\n",
              "      <td>1200</td>\n",
              "      <td>1200.0</td>\n",
              "      <td>36 months</td>\n",
              "      <td>17.97%</td>\n",
              "      <td>43.37</td>\n",
              "      <td>D</td>\n",
              "      <td>D1</td>\n",
              "      <td>Haz Mat S/R</td>\n",
              "      <td>10+ years</td>\n",
              "      <td>OWN</td>\n",
              "      <td>52000.0</td>\n",
              "      <td>Not Verified</td>\n",
              "      <td>Dec-2018</td>\n",
              "      <td>Current</td>\n",
              "      <td>n</td>\n",
              "      <td>NaN</td>\n",
              "      <td>NaN</td>\n",
              "      <td>vacation</td>\n",
              "      <td>Vacation</td>\n",
              "      <td>605xx</td>\n",
              "      <td>IL</td>\n",
              "      <td>25.61</td>\n",
              "      <td>0</td>\n",
              "      <td>Feb-1991</td>\n",
              "      <td>2</td>\n",
              "      <td>NaN</td>\n",
              "      <td>NaN</td>\n",
              "      <td>14</td>\n",
              "      <td>0</td>\n",
              "      <td>18197</td>\n",
              "      <td>48.3%</td>\n",
              "      <td>24</td>\n",
              "      <td>w</td>\n",
              "      <td>928.18</td>\n",
              "      <td>928.18</td>\n",
              "      <td>431.90</td>\n",
              "      <td>431.90</td>\n",
              "      <td>271.82</td>\n",
              "      <td>160.08</td>\n",
              "      <td>0.0</td>\n",
              "      <td>0.0</td>\n",
              "      <td>0.0</td>\n",
              "      <td>Oct-2019</td>\n",
              "      <td>43.37</td>\n",
              "      <td>Nov-2019</td>\n",
              "      <td>Oct-2019</td>\n",
              "      <td>0</td>\n",
              "      <td>...</td>\n",
              "      <td>0</td>\n",
              "      <td>50041</td>\n",
              "      <td>29964</td>\n",
              "      <td>15700</td>\n",
              "      <td>12341</td>\n",
              "      <td>NaN</td>\n",
              "      <td>NaN</td>\n",
              "      <td>NaN</td>\n",
              "      <td>NaN</td>\n",
              "      <td>NaN</td>\n",
              "      <td>NaN</td>\n",
              "      <td>NaN</td>\n",
              "      <td>NaN</td>\n",
              "      <td>NaN</td>\n",
              "      <td>NaN</td>\n",
              "      <td>NaN</td>\n",
              "      <td>N</td>\n",
              "      <td>NaN</td>\n",
              "      <td>NaN</td>\n",
              "      <td>NaN</td>\n",
              "      <td>NaN</td>\n",
              "      <td>NaN</td>\n",
              "      <td>NaN</td>\n",
              "      <td>NaN</td>\n",
              "      <td>NaN</td>\n",
              "      <td>NaN</td>\n",
              "      <td>NaN</td>\n",
              "      <td>NaN</td>\n",
              "      <td>NaN</td>\n",
              "      <td>NaN</td>\n",
              "      <td>NaN</td>\n",
              "      <td>N</td>\n",
              "      <td>NaN</td>\n",
              "      <td>NaN</td>\n",
              "      <td>NaN</td>\n",
              "      <td>NaN</td>\n",
              "      <td>NaN</td>\n",
              "      <td>NaN</td>\n",
              "      <td>17.97</td>\n",
              "      <td>Haz Mat S/R</td>\n",
              "      <td>36</td>\n",
              "      <td>False</td>\n",
              "      <td>1</td>\n",
              "      <td>2018-12-01</td>\n",
              "      <td>2018</td>\n",
              "      <td>12</td>\n",
              "      <td>5</td>\n",
              "      <td>2019-10-01</td>\n",
              "      <td>2019.0</td>\n",
              "      <td>10.0</td>\n",
              "    </tr>\n",
              "    <tr>\n",
              "      <th>47</th>\n",
              "      <td>NaN</td>\n",
              "      <td>NaN</td>\n",
              "      <td>20000</td>\n",
              "      <td>20000</td>\n",
              "      <td>20000.0</td>\n",
              "      <td>36 months</td>\n",
              "      <td>14.47%</td>\n",
              "      <td>688.13</td>\n",
              "      <td>C</td>\n",
              "      <td>C2</td>\n",
              "      <td>bus driver</td>\n",
              "      <td>4 years</td>\n",
              "      <td>OWN</td>\n",
              "      <td>52000.0</td>\n",
              "      <td>Source Verified</td>\n",
              "      <td>Dec-2018</td>\n",
              "      <td>Current</td>\n",
              "      <td>n</td>\n",
              "      <td>NaN</td>\n",
              "      <td>NaN</td>\n",
              "      <td>debt_consolidation</td>\n",
              "      <td>Debt consolidation</td>\n",
              "      <td>681xx</td>\n",
              "      <td>NE</td>\n",
              "      <td>30.65</td>\n",
              "      <td>1</td>\n",
              "      <td>Jun-1979</td>\n",
              "      <td>2</td>\n",
              "      <td>15.0</td>\n",
              "      <td>NaN</td>\n",
              "      <td>6</td>\n",
              "      <td>0</td>\n",
              "      <td>15048</td>\n",
              "      <td>73%</td>\n",
              "      <td>22</td>\n",
              "      <td>w</td>\n",
              "      <td>15280.46</td>\n",
              "      <td>15280.46</td>\n",
              "      <td>6792.87</td>\n",
              "      <td>6792.87</td>\n",
              "      <td>4719.54</td>\n",
              "      <td>2073.33</td>\n",
              "      <td>0.0</td>\n",
              "      <td>0.0</td>\n",
              "      <td>0.0</td>\n",
              "      <td>Oct-2019</td>\n",
              "      <td>688.13</td>\n",
              "      <td>Nov-2019</td>\n",
              "      <td>Oct-2019</td>\n",
              "      <td>0</td>\n",
              "      <td>...</td>\n",
              "      <td>0</td>\n",
              "      <td>61699</td>\n",
              "      <td>33157</td>\n",
              "      <td>20700</td>\n",
              "      <td>40999</td>\n",
              "      <td>NaN</td>\n",
              "      <td>NaN</td>\n",
              "      <td>NaN</td>\n",
              "      <td>NaN</td>\n",
              "      <td>NaN</td>\n",
              "      <td>NaN</td>\n",
              "      <td>NaN</td>\n",
              "      <td>NaN</td>\n",
              "      <td>NaN</td>\n",
              "      <td>NaN</td>\n",
              "      <td>NaN</td>\n",
              "      <td>N</td>\n",
              "      <td>NaN</td>\n",
              "      <td>NaN</td>\n",
              "      <td>NaN</td>\n",
              "      <td>NaN</td>\n",
              "      <td>NaN</td>\n",
              "      <td>NaN</td>\n",
              "      <td>NaN</td>\n",
              "      <td>NaN</td>\n",
              "      <td>NaN</td>\n",
              "      <td>NaN</td>\n",
              "      <td>NaN</td>\n",
              "      <td>NaN</td>\n",
              "      <td>NaN</td>\n",
              "      <td>NaN</td>\n",
              "      <td>N</td>\n",
              "      <td>NaN</td>\n",
              "      <td>NaN</td>\n",
              "      <td>NaN</td>\n",
              "      <td>NaN</td>\n",
              "      <td>NaN</td>\n",
              "      <td>NaN</td>\n",
              "      <td>14.47</td>\n",
              "      <td>Bus Driver</td>\n",
              "      <td>36</td>\n",
              "      <td>False</td>\n",
              "      <td>1</td>\n",
              "      <td>2018-12-01</td>\n",
              "      <td>2018</td>\n",
              "      <td>12</td>\n",
              "      <td>5</td>\n",
              "      <td>2019-10-01</td>\n",
              "      <td>2019.0</td>\n",
              "      <td>10.0</td>\n",
              "    </tr>\n",
              "    <tr>\n",
              "      <th>49</th>\n",
              "      <td>NaN</td>\n",
              "      <td>NaN</td>\n",
              "      <td>21000</td>\n",
              "      <td>21000</td>\n",
              "      <td>21000.0</td>\n",
              "      <td>36 months</td>\n",
              "      <td>16.91%</td>\n",
              "      <td>747.77</td>\n",
              "      <td>C</td>\n",
              "      <td>C5</td>\n",
              "      <td>NaN</td>\n",
              "      <td>&lt; 1 year</td>\n",
              "      <td>OWN</td>\n",
              "      <td>68000.0</td>\n",
              "      <td>Not Verified</td>\n",
              "      <td>Dec-2018</td>\n",
              "      <td>Late (31-120 days)</td>\n",
              "      <td>n</td>\n",
              "      <td>NaN</td>\n",
              "      <td>NaN</td>\n",
              "      <td>house</td>\n",
              "      <td>Home buying</td>\n",
              "      <td>347xx</td>\n",
              "      <td>FL</td>\n",
              "      <td>9.16</td>\n",
              "      <td>0</td>\n",
              "      <td>Aug-2000</td>\n",
              "      <td>0</td>\n",
              "      <td>35.0</td>\n",
              "      <td>NaN</td>\n",
              "      <td>6</td>\n",
              "      <td>0</td>\n",
              "      <td>890</td>\n",
              "      <td>19.8%</td>\n",
              "      <td>14</td>\n",
              "      <td>w</td>\n",
              "      <td>18194.08</td>\n",
              "      <td>18194.08</td>\n",
              "      <td>4457.03</td>\n",
              "      <td>4457.03</td>\n",
              "      <td>2805.92</td>\n",
              "      <td>1651.11</td>\n",
              "      <td>0.0</td>\n",
              "      <td>0.0</td>\n",
              "      <td>0.0</td>\n",
              "      <td>Jul-2019</td>\n",
              "      <td>747.77</td>\n",
              "      <td>Nov-2019</td>\n",
              "      <td>Oct-2019</td>\n",
              "      <td>0</td>\n",
              "      <td>...</td>\n",
              "      <td>0</td>\n",
              "      <td>43057</td>\n",
              "      <td>31650</td>\n",
              "      <td>4500</td>\n",
              "      <td>38557</td>\n",
              "      <td>NaN</td>\n",
              "      <td>NaN</td>\n",
              "      <td>NaN</td>\n",
              "      <td>NaN</td>\n",
              "      <td>NaN</td>\n",
              "      <td>NaN</td>\n",
              "      <td>NaN</td>\n",
              "      <td>NaN</td>\n",
              "      <td>NaN</td>\n",
              "      <td>NaN</td>\n",
              "      <td>NaN</td>\n",
              "      <td>N</td>\n",
              "      <td>NaN</td>\n",
              "      <td>NaN</td>\n",
              "      <td>NaN</td>\n",
              "      <td>NaN</td>\n",
              "      <td>NaN</td>\n",
              "      <td>NaN</td>\n",
              "      <td>NaN</td>\n",
              "      <td>NaN</td>\n",
              "      <td>NaN</td>\n",
              "      <td>NaN</td>\n",
              "      <td>NaN</td>\n",
              "      <td>NaN</td>\n",
              "      <td>NaN</td>\n",
              "      <td>NaN</td>\n",
              "      <td>N</td>\n",
              "      <td>NaN</td>\n",
              "      <td>NaN</td>\n",
              "      <td>NaN</td>\n",
              "      <td>NaN</td>\n",
              "      <td>NaN</td>\n",
              "      <td>NaN</td>\n",
              "      <td>16.91</td>\n",
              "      <td>Unknown</td>\n",
              "      <td>36</td>\n",
              "      <td>False</td>\n",
              "      <td>0</td>\n",
              "      <td>2018-12-01</td>\n",
              "      <td>2018</td>\n",
              "      <td>12</td>\n",
              "      <td>5</td>\n",
              "      <td>2019-07-01</td>\n",
              "      <td>2019.0</td>\n",
              "      <td>7.0</td>\n",
              "    </tr>\n",
              "    <tr>\n",
              "      <th>65</th>\n",
              "      <td>NaN</td>\n",
              "      <td>NaN</td>\n",
              "      <td>25000</td>\n",
              "      <td>25000</td>\n",
              "      <td>25000.0</td>\n",
              "      <td>60 months</td>\n",
              "      <td>14.47%</td>\n",
              "      <td>587.82</td>\n",
              "      <td>C</td>\n",
              "      <td>C2</td>\n",
              "      <td>teacher</td>\n",
              "      <td>10+ years</td>\n",
              "      <td>OWN</td>\n",
              "      <td>110000.0</td>\n",
              "      <td>Not Verified</td>\n",
              "      <td>Dec-2018</td>\n",
              "      <td>Current</td>\n",
              "      <td>n</td>\n",
              "      <td>NaN</td>\n",
              "      <td>NaN</td>\n",
              "      <td>credit_card</td>\n",
              "      <td>Credit card refinancing</td>\n",
              "      <td>117xx</td>\n",
              "      <td>NY</td>\n",
              "      <td>26.43</td>\n",
              "      <td>1</td>\n",
              "      <td>Jan-1997</td>\n",
              "      <td>0</td>\n",
              "      <td>7.0</td>\n",
              "      <td>NaN</td>\n",
              "      <td>23</td>\n",
              "      <td>0</td>\n",
              "      <td>39053</td>\n",
              "      <td>45.7%</td>\n",
              "      <td>49</td>\n",
              "      <td>w</td>\n",
              "      <td>21975.89</td>\n",
              "      <td>21975.89</td>\n",
              "      <td>5848.05</td>\n",
              "      <td>5848.05</td>\n",
              "      <td>3024.11</td>\n",
              "      <td>2823.94</td>\n",
              "      <td>0.0</td>\n",
              "      <td>0.0</td>\n",
              "      <td>0.0</td>\n",
              "      <td>Oct-2019</td>\n",
              "      <td>587.82</td>\n",
              "      <td>Nov-2019</td>\n",
              "      <td>Oct-2019</td>\n",
              "      <td>0</td>\n",
              "      <td>...</td>\n",
              "      <td>0</td>\n",
              "      <td>179321</td>\n",
              "      <td>95648</td>\n",
              "      <td>62800</td>\n",
              "      <td>91424</td>\n",
              "      <td>NaN</td>\n",
              "      <td>NaN</td>\n",
              "      <td>NaN</td>\n",
              "      <td>NaN</td>\n",
              "      <td>NaN</td>\n",
              "      <td>NaN</td>\n",
              "      <td>NaN</td>\n",
              "      <td>NaN</td>\n",
              "      <td>NaN</td>\n",
              "      <td>NaN</td>\n",
              "      <td>NaN</td>\n",
              "      <td>N</td>\n",
              "      <td>NaN</td>\n",
              "      <td>NaN</td>\n",
              "      <td>NaN</td>\n",
              "      <td>NaN</td>\n",
              "      <td>NaN</td>\n",
              "      <td>NaN</td>\n",
              "      <td>NaN</td>\n",
              "      <td>NaN</td>\n",
              "      <td>NaN</td>\n",
              "      <td>NaN</td>\n",
              "      <td>NaN</td>\n",
              "      <td>NaN</td>\n",
              "      <td>NaN</td>\n",
              "      <td>NaN</td>\n",
              "      <td>N</td>\n",
              "      <td>NaN</td>\n",
              "      <td>NaN</td>\n",
              "      <td>NaN</td>\n",
              "      <td>NaN</td>\n",
              "      <td>NaN</td>\n",
              "      <td>NaN</td>\n",
              "      <td>14.47</td>\n",
              "      <td>Teacher</td>\n",
              "      <td>60</td>\n",
              "      <td>False</td>\n",
              "      <td>1</td>\n",
              "      <td>2018-12-01</td>\n",
              "      <td>2018</td>\n",
              "      <td>12</td>\n",
              "      <td>5</td>\n",
              "      <td>2019-10-01</td>\n",
              "      <td>2019.0</td>\n",
              "      <td>10.0</td>\n",
              "    </tr>\n",
              "  </tbody>\n",
              "</table>\n",
              "<p>5 rows × 156 columns</p>\n",
              "</div>"
            ],
            "text/plain": [
              "    id  member_id  loan_amnt  funded_amnt  funded_amnt_inv        term  \\\n",
              "24 NaN        NaN      30000        30000          30000.0   60 months   \n",
              "41 NaN        NaN       1200         1200           1200.0   36 months   \n",
              "47 NaN        NaN      20000        20000          20000.0   36 months   \n",
              "49 NaN        NaN      21000        21000          21000.0   36 months   \n",
              "65 NaN        NaN      25000        25000          25000.0   60 months   \n",
              "\n",
              "   int_rate  installment grade sub_grade    emp_title emp_length  \\\n",
              "24   26.31%       903.73     E        E4  Casino Host  10+ years   \n",
              "41   17.97%        43.37     D        D1  Haz Mat S/R  10+ years   \n",
              "47   14.47%       688.13     C        C2   bus driver    4 years   \n",
              "49   16.91%       747.77     C        C5          NaN   < 1 year   \n",
              "65   14.47%       587.82     C        C2      teacher  10+ years   \n",
              "\n",
              "   home_ownership  annual_inc verification_status   issue_d  \\\n",
              "24            OWN     62000.0     Source Verified  Dec-2018   \n",
              "41            OWN     52000.0        Not Verified  Dec-2018   \n",
              "47            OWN     52000.0     Source Verified  Dec-2018   \n",
              "49            OWN     68000.0        Not Verified  Dec-2018   \n",
              "65            OWN    110000.0        Not Verified  Dec-2018   \n",
              "\n",
              "           loan_status pymnt_plan  url  desc             purpose  \\\n",
              "24         Charged Off          n  NaN   NaN  debt_consolidation   \n",
              "41             Current          n  NaN   NaN            vacation   \n",
              "47             Current          n  NaN   NaN  debt_consolidation   \n",
              "49  Late (31-120 days)          n  NaN   NaN               house   \n",
              "65             Current          n  NaN   NaN         credit_card   \n",
              "\n",
              "                      title zip_code addr_state    dti  delinq_2yrs  \\\n",
              "24       Debt consolidation    920xx         CA  37.24            0   \n",
              "41                 Vacation    605xx         IL  25.61            0   \n",
              "47       Debt consolidation    681xx         NE  30.65            1   \n",
              "49              Home buying    347xx         FL   9.16            0   \n",
              "65  Credit card refinancing    117xx         NY  26.43            1   \n",
              "\n",
              "   earliest_cr_line  inq_last_6mths  mths_since_last_delinq  \\\n",
              "24         Oct-2007               0                     NaN   \n",
              "41         Feb-1991               2                     NaN   \n",
              "47         Jun-1979               2                    15.0   \n",
              "49         Aug-2000               0                    35.0   \n",
              "65         Jan-1997               0                     7.0   \n",
              "\n",
              "    mths_since_last_record  open_acc  pub_rec  revol_bal revol_util  \\\n",
              "24                    86.0        15        1      18890      39.8%   \n",
              "41                     NaN        14        0      18197      48.3%   \n",
              "47                     NaN         6        0      15048        73%   \n",
              "49                     NaN         6        0        890      19.8%   \n",
              "65                     NaN        23        0      39053      45.7%   \n",
              "\n",
              "    total_acc initial_list_status  out_prncp  out_prncp_inv  total_pymnt  \\\n",
              "24         36                   w       0.00           0.00      2645.41   \n",
              "41         24                   w     928.18         928.18       431.90   \n",
              "47         22                   w   15280.46       15280.46      6792.87   \n",
              "49         14                   w   18194.08       18194.08      4457.03   \n",
              "65         49                   w   21975.89       21975.89      5848.05   \n",
              "\n",
              "    total_pymnt_inv  total_rec_prncp  total_rec_int  total_rec_late_fee  \\\n",
              "24          2645.41           754.24        1891.17                 0.0   \n",
              "41           431.90           271.82         160.08                 0.0   \n",
              "47          6792.87          4719.54        2073.33                 0.0   \n",
              "49          4457.03          2805.92        1651.11                 0.0   \n",
              "65          5848.05          3024.11        2823.94                 0.0   \n",
              "\n",
              "    recoveries  collection_recovery_fee last_pymnt_d  last_pymnt_amnt  \\\n",
              "24         0.0                      0.0     Apr-2019           903.73   \n",
              "41         0.0                      0.0     Oct-2019            43.37   \n",
              "47         0.0                      0.0     Oct-2019           688.13   \n",
              "49         0.0                      0.0     Jul-2019           747.77   \n",
              "65         0.0                      0.0     Oct-2019           587.82   \n",
              "\n",
              "   next_pymnt_d last_credit_pull_d  collections_12_mths_ex_med  ...  \\\n",
              "24          NaN           Oct-2019                           0  ...   \n",
              "41     Nov-2019           Oct-2019                           0  ...   \n",
              "47     Nov-2019           Oct-2019                           0  ...   \n",
              "49     Nov-2019           Oct-2019                           0  ...   \n",
              "65     Nov-2019           Oct-2019                           0  ...   \n",
              "\n",
              "    tax_liens  tot_hi_cred_lim total_bal_ex_mort  total_bc_limit  \\\n",
              "24          0           138354            104590           36400   \n",
              "41          0            50041             29964           15700   \n",
              "47          0            61699             33157           20700   \n",
              "49          0            43057             31650            4500   \n",
              "65          0           179321             95648           62800   \n",
              "\n",
              "    total_il_high_credit_limit revol_bal_joint  sec_app_earliest_cr_line  \\\n",
              "24                       90854             NaN                       NaN   \n",
              "41                       12341             NaN                       NaN   \n",
              "47                       40999             NaN                       NaN   \n",
              "49                       38557             NaN                       NaN   \n",
              "65                       91424             NaN                       NaN   \n",
              "\n",
              "    sec_app_inq_last_6mths  sec_app_mort_acc  sec_app_open_acc  \\\n",
              "24                     NaN               NaN               NaN   \n",
              "41                     NaN               NaN               NaN   \n",
              "47                     NaN               NaN               NaN   \n",
              "49                     NaN               NaN               NaN   \n",
              "65                     NaN               NaN               NaN   \n",
              "\n",
              "    sec_app_revol_util  sec_app_open_act_il  sec_app_num_rev_accts  \\\n",
              "24                 NaN                  NaN                    NaN   \n",
              "41                 NaN                  NaN                    NaN   \n",
              "47                 NaN                  NaN                    NaN   \n",
              "49                 NaN                  NaN                    NaN   \n",
              "65                 NaN                  NaN                    NaN   \n",
              "\n",
              "    sec_app_chargeoff_within_12_mths  sec_app_collections_12_mths_ex_med  \\\n",
              "24                               NaN                                 NaN   \n",
              "41                               NaN                                 NaN   \n",
              "47                               NaN                                 NaN   \n",
              "49                               NaN                                 NaN   \n",
              "65                               NaN                                 NaN   \n",
              "\n",
              "    sec_app_mths_since_last_major_derog  hardship_flag  hardship_type  \\\n",
              "24                                  NaN              N            NaN   \n",
              "41                                  NaN              N            NaN   \n",
              "47                                  NaN              N            NaN   \n",
              "49                                  NaN              N            NaN   \n",
              "65                                  NaN              N            NaN   \n",
              "\n",
              "    hardship_reason  hardship_status  deferral_term  hardship_amount  \\\n",
              "24              NaN              NaN            NaN              NaN   \n",
              "41              NaN              NaN            NaN              NaN   \n",
              "47              NaN              NaN            NaN              NaN   \n",
              "49              NaN              NaN            NaN              NaN   \n",
              "65              NaN              NaN            NaN              NaN   \n",
              "\n",
              "    hardship_start_date  hardship_end_date  payment_plan_start_date  \\\n",
              "24                  NaN                NaN                      NaN   \n",
              "41                  NaN                NaN                      NaN   \n",
              "47                  NaN                NaN                      NaN   \n",
              "49                  NaN                NaN                      NaN   \n",
              "65                  NaN                NaN                      NaN   \n",
              "\n",
              "    hardship_length  hardship_dpd  hardship_loan_status  \\\n",
              "24              NaN           NaN                   NaN   \n",
              "41              NaN           NaN                   NaN   \n",
              "47              NaN           NaN                   NaN   \n",
              "49              NaN           NaN                   NaN   \n",
              "65              NaN           NaN                   NaN   \n",
              "\n",
              "    orig_projected_additional_accrued_interest  \\\n",
              "24                                         NaN   \n",
              "41                                         NaN   \n",
              "47                                         NaN   \n",
              "49                                         NaN   \n",
              "65                                         NaN   \n",
              "\n",
              "    hardship_payoff_balance_amount  hardship_last_payment_amount  \\\n",
              "24                             NaN                           NaN   \n",
              "41                             NaN                           NaN   \n",
              "47                             NaN                           NaN   \n",
              "49                             NaN                           NaN   \n",
              "65                             NaN                           NaN   \n",
              "\n",
              "    debt_settlement_flag  debt_settlement_flag_date  settlement_status  \\\n",
              "24                     N                        NaN                NaN   \n",
              "41                     N                        NaN                NaN   \n",
              "47                     N                        NaN                NaN   \n",
              "49                     N                        NaN                NaN   \n",
              "65                     N                        NaN                NaN   \n",
              "\n",
              "    settlement_date  settlement_amount  settlement_percentage  \\\n",
              "24              NaN                NaN                    NaN   \n",
              "41              NaN                NaN                    NaN   \n",
              "47              NaN                NaN                    NaN   \n",
              "49              NaN                NaN                    NaN   \n",
              "65              NaN                NaN                    NaN   \n",
              "\n",
              "    settlement_term  int_rate_float  emp_title_clean  term_clean  \\\n",
              "24              NaN           26.31      Casino Host          60   \n",
              "41              NaN           17.97      Haz Mat S/R          36   \n",
              "47              NaN           14.47       Bus Driver          36   \n",
              "49              NaN           16.91          Unknown          36   \n",
              "65              NaN           14.47          Teacher          60   \n",
              "\n",
              "    emp_title_manager  loan_status_is_great  issue_d_clean  issue_year  \\\n",
              "24              False                     0     2018-12-01        2018   \n",
              "41              False                     1     2018-12-01        2018   \n",
              "47              False                     1     2018-12-01        2018   \n",
              "49              False                     0     2018-12-01        2018   \n",
              "65              False                     1     2018-12-01        2018   \n",
              "\n",
              "    issue_month  issue_weekday  last_pymnt_d_clean  last_pymnt_d_year  \\\n",
              "24           12              5          2019-04-01             2019.0   \n",
              "41           12              5          2019-10-01             2019.0   \n",
              "47           12              5          2019-10-01             2019.0   \n",
              "49           12              5          2019-07-01             2019.0   \n",
              "65           12              5          2019-10-01             2019.0   \n",
              "\n",
              "    last_pymnt_d_month  \n",
              "24                 4.0  \n",
              "41                10.0  \n",
              "47                10.0  \n",
              "49                 7.0  \n",
              "65                10.0  \n",
              "\n",
              "[5 rows x 156 columns]"
            ]
          },
          "metadata": {
            "tags": []
          },
          "execution_count": 152
        }
      ]
    },
    {
      "cell_type": "code",
      "metadata": {
        "id": "jJApgAOmWUfE",
        "colab_type": "code",
        "colab": {
          "base_uri": "https://localhost:8080/",
          "height": 51
        },
        "outputId": "c92c3eb0-e111-4ebd-fc5e-67589649ed5b"
      },
      "source": [
        "# Can compare managers to subordinates\n",
        "print(managers['int_rate_float'].mean())\n",
        "print(subordinates['int_rate_float'].mean())"
      ],
      "execution_count": 153,
      "outputs": [
        {
          "output_type": "stream",
          "text": [
            "12.759972038921248\n",
            "13.195756289056202\n"
          ],
          "name": "stdout"
        }
      ]
    },
    {
      "cell_type": "code",
      "metadata": {
        "id": "Ppuqa1gbWnNB",
        "colab_type": "code",
        "colab": {
          "base_uri": "https://localhost:8080/",
          "height": 280
        },
        "outputId": "8f97e41a-cbfc-4fc2-af1b-e3010f9efb32"
      },
      "source": [
        "# We can even visualize it\n",
        "import seaborn as sns\n",
        "sns.distplot(subordinates['int_rate_float'])\n",
        "sns.distplot(managers['int_rate_float']);"
      ],
      "execution_count": 154,
      "outputs": [
        {
          "output_type": "display_data",
          "data": {
            "image/png": "[encoded data removed]",
            "text/plain": [
              "<Figure size 432x288 with 1 Axes>"
            ]
          },
          "metadata": {
            "tags": []
          }
        }
      ]
    },
    {
      "cell_type": "markdown",
      "metadata": {
        "id": "2Z4UahahCn6b",
        "colab_type": "text"
      },
      "source": [
        "##Create loan_status_is_great"
      ]
    },
    {
      "cell_type": "code",
      "metadata": {
        "id": "X0yJKkzjC3Yp",
        "colab_type": "code",
        "colab": {
          "base_uri": "https://localhost:8080/",
          "height": 289
        },
        "outputId": "5223e3c1-5c53-4c0f-d6b4-e361a28979ba"
      },
      "source": [
        "# check out loan_status column\n",
        "df['loan_status'].sample(15)"
      ],
      "execution_count": 68,
      "outputs": [
        {
          "output_type": "execute_result",
          "data": {
            "text/plain": [
              "31230         Current\n",
              "121540     Fully Paid\n",
              "104388        Current\n",
              "9459          Current\n",
              "79513      Fully Paid\n",
              "71149      Fully Paid\n",
              "24346         Current\n",
              "44980      Fully Paid\n",
              "115587        Current\n",
              "37816     Charged Off\n",
              "109248        Current\n",
              "14357      Fully Paid\n",
              "19256      Fully Paid\n",
              "15065         Current\n",
              "84443         Current\n",
              "Name: loan_status, dtype: object"
            ]
          },
          "metadata": {
            "tags": []
          },
          "execution_count": 68
        }
      ]
    },
    {
      "cell_type": "code",
      "metadata": {
        "id": "gMjBZV1GKR4j",
        "colab_type": "code",
        "colab": {
          "base_uri": "https://localhost:8080/",
          "height": 34
        },
        "outputId": "f0018f9e-6f74-4567-c4c3-40fd3a71afdd"
      },
      "source": [
        "# check for nulls\n",
        "df['loan_status'].isnull().sum()\n",
        "# great, no nulls"
      ],
      "execution_count": 70,
      "outputs": [
        {
          "output_type": "execute_result",
          "data": {
            "text/plain": [
              "0"
            ]
          },
          "metadata": {
            "tags": []
          },
          "execution_count": 70
        }
      ]
    },
    {
      "cell_type": "code",
      "metadata": {
        "id": "QapRmh5YJcS_",
        "colab_type": "code",
        "colab": {}
      },
      "source": [
        "# create a function\n",
        "def loan_status_filter(status):\n",
        "  if status == 'Current' or status == \"Fully Paid\":\n",
        "    return 1\n",
        "  else:\n",
        "    return 0"
      ],
      "execution_count": 0,
      "outputs": []
    },
    {
      "cell_type": "code",
      "metadata": {
        "id": "aLHF9TF4J_kg",
        "colab_type": "code",
        "colab": {
          "base_uri": "https://localhost:8080/",
          "height": 85
        },
        "outputId": "68fab9bf-389e-4e77-d593-5b59d586f3a4"
      },
      "source": [
        "# test it\n",
        "\n",
        "examples2 = ['Current', 'fail', 'bad', 'Fully Paid']\n",
        "\n",
        "for item in examples2:\n",
        "  print(loan_status_filter(item))\n"
      ],
      "execution_count": 99,
      "outputs": [
        {
          "output_type": "stream",
          "text": [
            "1\n",
            "0\n",
            "0\n",
            "1\n"
          ],
          "name": "stdout"
        }
      ]
    },
    {
      "cell_type": "code",
      "metadata": {
        "id": "POEgaNiiNFgg",
        "colab_type": "code",
        "colab": {
          "base_uri": "https://localhost:8080/",
          "height": 153
        },
        "outputId": "410c987c-b200-4441-a348-27c6e70080d0"
      },
      "source": [
        "# Apply it to the df\n",
        "df['loan_status_is_great'] = df['loan_status'].apply(loan_status_filter)\n",
        "df.columns"
      ],
      "execution_count": 100,
      "outputs": [
        {
          "output_type": "execute_result",
          "data": {
            "text/plain": [
              "Index(['id', 'member_id', 'loan_amnt', 'funded_amnt', 'funded_amnt_inv',\n",
              "       'term', 'int_rate', 'installment', 'grade', 'sub_grade',\n",
              "       ...\n",
              "       'settlement_status', 'settlement_date', 'settlement_amount',\n",
              "       'settlement_percentage', 'settlement_term', 'int_rate_float',\n",
              "       'emp_title_clean', 'term_clean', 'emp_title_manager',\n",
              "       'loan_status_is_great'],\n",
              "      dtype='object', length=149)"
            ]
          },
          "metadata": {
            "tags": []
          },
          "execution_count": 100
        }
      ]
    },
    {
      "cell_type": "code",
      "metadata": {
        "id": "akXWOOStNZqx",
        "colab_type": "code",
        "colab": {
          "base_uri": "https://localhost:8080/",
          "height": 359
        },
        "outputId": "ff9b2f66-285c-4d34-8a15-796690551184"
      },
      "source": [
        "# Check our work\n",
        "df[['loan_status', 'loan_status_is_great']].sample(10)"
      ],
      "execution_count": 104,
      "outputs": [
        {
          "output_type": "execute_result",
          "data": {
            "text/html": [
              "<div>\n",
              "<style scoped>\n",
              "    .dataframe tbody tr th:only-of-type {\n",
              "        vertical-align: middle;\n",
              "    }\n",
              "\n",
              "    .dataframe tbody tr th {\n",
              "        vertical-align: top;\n",
              "    }\n",
              "\n",
              "    .dataframe thead th {\n",
              "        text-align: right;\n",
              "    }\n",
              "</style>\n",
              "<table border=\"1\" class=\"dataframe\">\n",
              "  <thead>\n",
              "    <tr style=\"text-align: right;\">\n",
              "      <th></th>\n",
              "      <th>loan_status</th>\n",
              "      <th>loan_status_is_great</th>\n",
              "    </tr>\n",
              "  </thead>\n",
              "  <tbody>\n",
              "    <tr>\n",
              "      <th>3544</th>\n",
              "      <td>Current</td>\n",
              "      <td>1</td>\n",
              "    </tr>\n",
              "    <tr>\n",
              "      <th>62037</th>\n",
              "      <td>Fully Paid</td>\n",
              "      <td>1</td>\n",
              "    </tr>\n",
              "    <tr>\n",
              "      <th>29088</th>\n",
              "      <td>Current</td>\n",
              "      <td>1</td>\n",
              "    </tr>\n",
              "    <tr>\n",
              "      <th>48588</th>\n",
              "      <td>Fully Paid</td>\n",
              "      <td>1</td>\n",
              "    </tr>\n",
              "    <tr>\n",
              "      <th>122905</th>\n",
              "      <td>Charged Off</td>\n",
              "      <td>0</td>\n",
              "    </tr>\n",
              "    <tr>\n",
              "      <th>428</th>\n",
              "      <td>Current</td>\n",
              "      <td>1</td>\n",
              "    </tr>\n",
              "    <tr>\n",
              "      <th>48334</th>\n",
              "      <td>Current</td>\n",
              "      <td>1</td>\n",
              "    </tr>\n",
              "    <tr>\n",
              "      <th>38372</th>\n",
              "      <td>Charged Off</td>\n",
              "      <td>0</td>\n",
              "    </tr>\n",
              "    <tr>\n",
              "      <th>93168</th>\n",
              "      <td>Current</td>\n",
              "      <td>1</td>\n",
              "    </tr>\n",
              "    <tr>\n",
              "      <th>21921</th>\n",
              "      <td>Fully Paid</td>\n",
              "      <td>1</td>\n",
              "    </tr>\n",
              "  </tbody>\n",
              "</table>\n",
              "</div>"
            ],
            "text/plain": [
              "        loan_status  loan_status_is_great\n",
              "3544        Current                     1\n",
              "62037    Fully Paid                     1\n",
              "29088       Current                     1\n",
              "48588    Fully Paid                     1\n",
              "122905  Charged Off                     0\n",
              "428         Current                     1\n",
              "48334       Current                     1\n",
              "38372   Charged Off                     0\n",
              "93168       Current                     1\n",
              "21921    Fully Paid                     1"
            ]
          },
          "metadata": {
            "tags": []
          },
          "execution_count": 104
        }
      ]
    },
    {
      "cell_type": "code",
      "metadata": {
        "id": "1w8N7n_DNoLZ",
        "colab_type": "code",
        "colab": {}
      },
      "source": [
        "# It worked and now it is available to use."
      ],
      "execution_count": 0,
      "outputs": []
    },
    {
      "cell_type": "markdown",
      "metadata": {
        "id": "VWOc1RcGNyWg",
        "colab_type": "text"
      },
      "source": [
        "##Work with Dates"
      ]
    },
    {
      "cell_type": "code",
      "metadata": {
        "id": "nx84WHc8N4uS",
        "colab_type": "code",
        "colab": {}
      },
      "source": [
        "# list all col and data types\n",
        "df.dtypes"
      ],
      "execution_count": 0,
      "outputs": []
    },
    {
      "cell_type": "code",
      "metadata": {
        "id": "v7NI3LImOHdG",
        "colab_type": "code",
        "colab": {
          "base_uri": "https://localhost:8080/",
          "height": 170
        },
        "outputId": "45f1460f-ea3b-4ac1-84a8-03b395c43fad"
      },
      "source": [
        "# Which col are dates?\n",
        "for col in df.columns:\n",
        "  if col.endswith('_date') or col.endswith('_d'):\n",
        "    print(col)"
      ],
      "execution_count": 106,
      "outputs": [
        {
          "output_type": "stream",
          "text": [
            "issue_d\n",
            "last_pymnt_d\n",
            "next_pymnt_d\n",
            "last_credit_pull_d\n",
            "hardship_start_date\n",
            "hardship_end_date\n",
            "payment_plan_start_date\n",
            "debt_settlement_flag_date\n",
            "settlement_date\n"
          ],
          "name": "stdout"
        }
      ]
    },
    {
      "cell_type": "code",
      "metadata": {
        "id": "m8zMduqcOdvk",
        "colab_type": "code",
        "colab": {
          "base_uri": "https://localhost:8080/",
          "height": 34
        },
        "outputId": "2c2ce0a5-a4d0-4726-e927-b77729e49cbb"
      },
      "source": [
        "# put them all in a variable\n",
        "date_col_list = [col for col in df.columns if col.endswith('_date') or col.endswith('_d')]\n",
        "print(date_col_list)"
      ],
      "execution_count": 108,
      "outputs": [
        {
          "output_type": "stream",
          "text": [
            "['issue_d', 'last_pymnt_d', 'next_pymnt_d', 'last_credit_pull_d', 'hardship_start_date', 'hardship_end_date', 'payment_plan_start_date', 'debt_settlement_flag_date', 'settlement_date']\n"
          ],
          "name": "stdout"
        }
      ]
    },
    {
      "cell_type": "code",
      "metadata": {
        "id": "oNWKPofYO9J5",
        "colab_type": "code",
        "colab": {
          "base_uri": "https://localhost:8080/",
          "height": 34
        },
        "outputId": "bd36d907-1d54-41db-a88b-48d9a4f98366"
      },
      "source": [
        "# check the data type\n",
        "df['issue_d'].dtype"
      ],
      "execution_count": 109,
      "outputs": [
        {
          "output_type": "execute_result",
          "data": {
            "text/plain": [
              "dtype('O')"
            ]
          },
          "metadata": {
            "tags": []
          },
          "execution_count": 109
        }
      ]
    },
    {
      "cell_type": "code",
      "metadata": {
        "id": "w29MzmMbPDLa",
        "colab_type": "code",
        "colab": {
          "base_uri": "https://localhost:8080/",
          "height": 221
        },
        "outputId": "51c6487e-58b7-4d72-f3ee-de86a360fb6e"
      },
      "source": [
        "df.loc[0:10, 'issue_d']"
      ],
      "execution_count": 110,
      "outputs": [
        {
          "output_type": "execute_result",
          "data": {
            "text/plain": [
              "0     Dec-2018\n",
              "1     Dec-2018\n",
              "2     Dec-2018\n",
              "3     Dec-2018\n",
              "4     Dec-2018\n",
              "5     Dec-2018\n",
              "6     Dec-2018\n",
              "7     Dec-2018\n",
              "8     Dec-2018\n",
              "9     Dec-2018\n",
              "10    Dec-2018\n",
              "Name: issue_d, dtype: object"
            ]
          },
          "metadata": {
            "tags": []
          },
          "execution_count": 110
        }
      ]
    },
    {
      "cell_type": "code",
      "metadata": {
        "id": "kP14OM_qPNXT",
        "colab_type": "code",
        "colab": {
          "base_uri": "https://localhost:8080/",
          "height": 204
        },
        "outputId": "727da85c-5725-45e9-bade-c47d0ebdcebd"
      },
      "source": [
        "# convert the string to dates\n",
        "df['issue_d_clean'] = pd.to_datetime(df['issue_d'], infer_datetime_format=True)\n",
        "\n",
        "# compare\n",
        "df[['issue_d', 'issue_d_clean']].head()"
      ],
      "execution_count": 111,
      "outputs": [
        {
          "output_type": "execute_result",
          "data": {
            "text/html": [
              "<div>\n",
              "<style scoped>\n",
              "    .dataframe tbody tr th:only-of-type {\n",
              "        vertical-align: middle;\n",
              "    }\n",
              "\n",
              "    .dataframe tbody tr th {\n",
              "        vertical-align: top;\n",
              "    }\n",
              "\n",
              "    .dataframe thead th {\n",
              "        text-align: right;\n",
              "    }\n",
              "</style>\n",
              "<table border=\"1\" class=\"dataframe\">\n",
              "  <thead>\n",
              "    <tr style=\"text-align: right;\">\n",
              "      <th></th>\n",
              "      <th>issue_d</th>\n",
              "      <th>issue_d_clean</th>\n",
              "    </tr>\n",
              "  </thead>\n",
              "  <tbody>\n",
              "    <tr>\n",
              "      <th>0</th>\n",
              "      <td>Dec-2018</td>\n",
              "      <td>2018-12-01</td>\n",
              "    </tr>\n",
              "    <tr>\n",
              "      <th>1</th>\n",
              "      <td>Dec-2018</td>\n",
              "      <td>2018-12-01</td>\n",
              "    </tr>\n",
              "    <tr>\n",
              "      <th>2</th>\n",
              "      <td>Dec-2018</td>\n",
              "      <td>2018-12-01</td>\n",
              "    </tr>\n",
              "    <tr>\n",
              "      <th>3</th>\n",
              "      <td>Dec-2018</td>\n",
              "      <td>2018-12-01</td>\n",
              "    </tr>\n",
              "    <tr>\n",
              "      <th>4</th>\n",
              "      <td>Dec-2018</td>\n",
              "      <td>2018-12-01</td>\n",
              "    </tr>\n",
              "  </tbody>\n",
              "</table>\n",
              "</div>"
            ],
            "text/plain": [
              "    issue_d issue_d_clean\n",
              "0  Dec-2018    2018-12-01\n",
              "1  Dec-2018    2018-12-01\n",
              "2  Dec-2018    2018-12-01\n",
              "3  Dec-2018    2018-12-01\n",
              "4  Dec-2018    2018-12-01"
            ]
          },
          "metadata": {
            "tags": []
          },
          "execution_count": 111
        }
      ]
    },
    {
      "cell_type": "code",
      "metadata": {
        "id": "fR9n4_RCPu0_",
        "colab_type": "code",
        "colab": {
          "base_uri": "https://localhost:8080/",
          "height": 34
        },
        "outputId": "d4c8b4b1-50c1-4080-a78f-09b196cd86c2"
      },
      "source": [
        "# check the type\n",
        "df['issue_d_clean'].dtype"
      ],
      "execution_count": 112,
      "outputs": [
        {
          "output_type": "execute_result",
          "data": {
            "text/plain": [
              "dtype('<M8[ns]')"
            ]
          },
          "metadata": {
            "tags": []
          },
          "execution_count": 112
        }
      ]
    },
    {
      "cell_type": "code",
      "metadata": {
        "id": "vXwSjOMbP-6n",
        "colab_type": "code",
        "colab": {
          "base_uri": "https://localhost:8080/",
          "height": 204
        },
        "outputId": "19fa1a8f-9f61-4e13-f7b2-c2359ecbe866"
      },
      "source": [
        "# make a year column\n",
        "df['issue_year'] = df['issue_d_clean'].dt.year\n",
        "\n",
        "#check\n",
        "df[['issue_d_clean', 'issue_year']].sample(5)"
      ],
      "execution_count": 115,
      "outputs": [
        {
          "output_type": "execute_result",
          "data": {
            "text/html": [
              "<div>\n",
              "<style scoped>\n",
              "    .dataframe tbody tr th:only-of-type {\n",
              "        vertical-align: middle;\n",
              "    }\n",
              "\n",
              "    .dataframe tbody tr th {\n",
              "        vertical-align: top;\n",
              "    }\n",
              "\n",
              "    .dataframe thead th {\n",
              "        text-align: right;\n",
              "    }\n",
              "</style>\n",
              "<table border=\"1\" class=\"dataframe\">\n",
              "  <thead>\n",
              "    <tr style=\"text-align: right;\">\n",
              "      <th></th>\n",
              "      <th>issue_d_clean</th>\n",
              "      <th>issue_year</th>\n",
              "    </tr>\n",
              "  </thead>\n",
              "  <tbody>\n",
              "    <tr>\n",
              "      <th>29020</th>\n",
              "      <td>2018-12-01</td>\n",
              "      <td>2018</td>\n",
              "    </tr>\n",
              "    <tr>\n",
              "      <th>32266</th>\n",
              "      <td>2018-12-01</td>\n",
              "      <td>2018</td>\n",
              "    </tr>\n",
              "    <tr>\n",
              "      <th>1058</th>\n",
              "      <td>2018-12-01</td>\n",
              "      <td>2018</td>\n",
              "    </tr>\n",
              "    <tr>\n",
              "      <th>14532</th>\n",
              "      <td>2018-12-01</td>\n",
              "      <td>2018</td>\n",
              "    </tr>\n",
              "    <tr>\n",
              "      <th>40709</th>\n",
              "      <td>2018-11-01</td>\n",
              "      <td>2018</td>\n",
              "    </tr>\n",
              "  </tbody>\n",
              "</table>\n",
              "</div>"
            ],
            "text/plain": [
              "      issue_d_clean  issue_year\n",
              "29020    2018-12-01        2018\n",
              "32266    2018-12-01        2018\n",
              "1058     2018-12-01        2018\n",
              "14532    2018-12-01        2018\n",
              "40709    2018-11-01        2018"
            ]
          },
          "metadata": {
            "tags": []
          },
          "execution_count": 115
        }
      ]
    },
    {
      "cell_type": "code",
      "metadata": {
        "id": "9bxe2VaEQx2k",
        "colab_type": "code",
        "colab": {
          "base_uri": "https://localhost:8080/",
          "height": 204
        },
        "outputId": "bb90a61b-547f-4053-9821-c4056f0777d7"
      },
      "source": [
        "# a month\n",
        "df['issue_month'] = df['issue_d_clean'].dt.month\n",
        "\n",
        "#check\n",
        "df[['issue_d_clean', 'issue_month']].sample(5)"
      ],
      "execution_count": 116,
      "outputs": [
        {
          "output_type": "execute_result",
          "data": {
            "text/html": [
              "<div>\n",
              "<style scoped>\n",
              "    .dataframe tbody tr th:only-of-type {\n",
              "        vertical-align: middle;\n",
              "    }\n",
              "\n",
              "    .dataframe tbody tr th {\n",
              "        vertical-align: top;\n",
              "    }\n",
              "\n",
              "    .dataframe thead th {\n",
              "        text-align: right;\n",
              "    }\n",
              "</style>\n",
              "<table border=\"1\" class=\"dataframe\">\n",
              "  <thead>\n",
              "    <tr style=\"text-align: right;\">\n",
              "      <th></th>\n",
              "      <th>issue_d_clean</th>\n",
              "      <th>issue_month</th>\n",
              "    </tr>\n",
              "  </thead>\n",
              "  <tbody>\n",
              "    <tr>\n",
              "      <th>103094</th>\n",
              "      <td>2018-10-01</td>\n",
              "      <td>10</td>\n",
              "    </tr>\n",
              "    <tr>\n",
              "      <th>74310</th>\n",
              "      <td>2018-11-01</td>\n",
              "      <td>11</td>\n",
              "    </tr>\n",
              "    <tr>\n",
              "      <th>50547</th>\n",
              "      <td>2018-11-01</td>\n",
              "      <td>11</td>\n",
              "    </tr>\n",
              "    <tr>\n",
              "      <th>103797</th>\n",
              "      <td>2018-10-01</td>\n",
              "      <td>10</td>\n",
              "    </tr>\n",
              "    <tr>\n",
              "      <th>121321</th>\n",
              "      <td>2018-10-01</td>\n",
              "      <td>10</td>\n",
              "    </tr>\n",
              "  </tbody>\n",
              "</table>\n",
              "</div>"
            ],
            "text/plain": [
              "       issue_d_clean  issue_month\n",
              "103094    2018-10-01           10\n",
              "74310     2018-11-01           11\n",
              "50547     2018-11-01           11\n",
              "103797    2018-10-01           10\n",
              "121321    2018-10-01           10"
            ]
          },
          "metadata": {
            "tags": []
          },
          "execution_count": 116
        }
      ]
    },
    {
      "cell_type": "code",
      "metadata": {
        "id": "gMbYm9u0Qzl2",
        "colab_type": "code",
        "colab": {
          "base_uri": "https://localhost:8080/",
          "height": 204
        },
        "outputId": "53d8370a-e3d6-4ec9-cc10-89f00fe7b5fc"
      },
      "source": [
        "# and a weekday\n",
        "df['issue_weekday'] = df['issue_d_clean'].dt.weekday\n",
        "\n",
        "#check\n",
        "df[['issue_d_clean', 'issue_weekday']].sample(5)"
      ],
      "execution_count": 117,
      "outputs": [
        {
          "output_type": "execute_result",
          "data": {
            "text/html": [
              "<div>\n",
              "<style scoped>\n",
              "    .dataframe tbody tr th:only-of-type {\n",
              "        vertical-align: middle;\n",
              "    }\n",
              "\n",
              "    .dataframe tbody tr th {\n",
              "        vertical-align: top;\n",
              "    }\n",
              "\n",
              "    .dataframe thead th {\n",
              "        text-align: right;\n",
              "    }\n",
              "</style>\n",
              "<table border=\"1\" class=\"dataframe\">\n",
              "  <thead>\n",
              "    <tr style=\"text-align: right;\">\n",
              "      <th></th>\n",
              "      <th>issue_d_clean</th>\n",
              "      <th>issue_weekday</th>\n",
              "    </tr>\n",
              "  </thead>\n",
              "  <tbody>\n",
              "    <tr>\n",
              "      <th>95073</th>\n",
              "      <td>2018-10-01</td>\n",
              "      <td>0</td>\n",
              "    </tr>\n",
              "    <tr>\n",
              "      <th>49550</th>\n",
              "      <td>2018-11-01</td>\n",
              "      <td>3</td>\n",
              "    </tr>\n",
              "    <tr>\n",
              "      <th>33507</th>\n",
              "      <td>2018-12-01</td>\n",
              "      <td>5</td>\n",
              "    </tr>\n",
              "    <tr>\n",
              "      <th>50345</th>\n",
              "      <td>2018-11-01</td>\n",
              "      <td>3</td>\n",
              "    </tr>\n",
              "    <tr>\n",
              "      <th>100737</th>\n",
              "      <td>2018-10-01</td>\n",
              "      <td>0</td>\n",
              "    </tr>\n",
              "  </tbody>\n",
              "</table>\n",
              "</div>"
            ],
            "text/plain": [
              "       issue_d_clean  issue_weekday\n",
              "95073     2018-10-01              0\n",
              "49550     2018-11-01              3\n",
              "33507     2018-12-01              5\n",
              "50345     2018-11-01              3\n",
              "100737    2018-10-01              0"
            ]
          },
          "metadata": {
            "tags": []
          },
          "execution_count": 117
        }
      ]
    },
    {
      "cell_type": "markdown",
      "metadata": {
        "id": "T-QYBM-CREq9",
        "colab_type": "text"
      },
      "source": [
        "##Create last_pymnt_d_month and last_pymnt_d_year columns"
      ]
    },
    {
      "cell_type": "code",
      "metadata": {
        "id": "woiE66I3ROrV",
        "colab_type": "code",
        "colab": {
          "base_uri": "https://localhost:8080/",
          "height": 119
        },
        "outputId": "c4e046af-1cfa-4821-f055-69809dcdad4a"
      },
      "source": [
        "# Take a look at the data\n",
        "df['last_pymnt_d'].sample(5)"
      ],
      "execution_count": 129,
      "outputs": [
        {
          "output_type": "execute_result",
          "data": {
            "text/plain": [
              "29206     Oct-2019\n",
              "16760     Oct-2019\n",
              "20457     Dec-2018\n",
              "121169    Jul-2019\n",
              "10882     Oct-2019\n",
              "Name: last_pymnt_d, dtype: object"
            ]
          },
          "metadata": {
            "tags": []
          },
          "execution_count": 129
        }
      ]
    },
    {
      "cell_type": "code",
      "metadata": {
        "id": "_C73NFg-RZyz",
        "colab_type": "code",
        "colab": {
          "base_uri": "https://localhost:8080/",
          "height": 34
        },
        "outputId": "ec679495-22e9-4708-ce07-40ae644aa816"
      },
      "source": [
        "# any nulls?\n",
        "df['last_pymnt_d'].isnull().sum()"
      ],
      "execution_count": 119,
      "outputs": [
        {
          "output_type": "execute_result",
          "data": {
            "text/plain": [
              "159"
            ]
          },
          "metadata": {
            "tags": []
          },
          "execution_count": 119
        }
      ]
    },
    {
      "cell_type": "code",
      "metadata": {
        "id": "L_stLrcHRj_D",
        "colab_type": "code",
        "colab": {
          "base_uri": "https://localhost:8080/",
          "height": 235
        },
        "outputId": "7522af93-3985-4f37-9ca7-58a53e469c90"
      },
      "source": [
        "# Convert the column to date\n",
        "df['last_pymnt_d_clean'] = pd.to_datetime(df['last_pymnt_d'], \n",
        "                                          infer_datetime_format=True)\n",
        "\n",
        "# Compare\n",
        "df[['last_pymnt_d', 'last_pymnt_d_clean']].sample(6)"
      ],
      "execution_count": 131,
      "outputs": [
        {
          "output_type": "execute_result",
          "data": {
            "text/html": [
              "<div>\n",
              "<style scoped>\n",
              "    .dataframe tbody tr th:only-of-type {\n",
              "        vertical-align: middle;\n",
              "    }\n",
              "\n",
              "    .dataframe tbody tr th {\n",
              "        vertical-align: top;\n",
              "    }\n",
              "\n",
              "    .dataframe thead th {\n",
              "        text-align: right;\n",
              "    }\n",
              "</style>\n",
              "<table border=\"1\" class=\"dataframe\">\n",
              "  <thead>\n",
              "    <tr style=\"text-align: right;\">\n",
              "      <th></th>\n",
              "      <th>last_pymnt_d</th>\n",
              "      <th>last_pymnt_d_clean</th>\n",
              "    </tr>\n",
              "  </thead>\n",
              "  <tbody>\n",
              "    <tr>\n",
              "      <th>34775</th>\n",
              "      <td>Oct-2019</td>\n",
              "      <td>2019-10-01</td>\n",
              "    </tr>\n",
              "    <tr>\n",
              "      <th>54460</th>\n",
              "      <td>Oct-2019</td>\n",
              "      <td>2019-10-01</td>\n",
              "    </tr>\n",
              "    <tr>\n",
              "      <th>86377</th>\n",
              "      <td>Oct-2019</td>\n",
              "      <td>2019-10-01</td>\n",
              "    </tr>\n",
              "    <tr>\n",
              "      <th>68203</th>\n",
              "      <td>Oct-2019</td>\n",
              "      <td>2019-10-01</td>\n",
              "    </tr>\n",
              "    <tr>\n",
              "      <th>78172</th>\n",
              "      <td>Oct-2019</td>\n",
              "      <td>2019-10-01</td>\n",
              "    </tr>\n",
              "    <tr>\n",
              "      <th>21681</th>\n",
              "      <td>Oct-2019</td>\n",
              "      <td>2019-10-01</td>\n",
              "    </tr>\n",
              "  </tbody>\n",
              "</table>\n",
              "</div>"
            ],
            "text/plain": [
              "      last_pymnt_d last_pymnt_d_clean\n",
              "34775     Oct-2019         2019-10-01\n",
              "54460     Oct-2019         2019-10-01\n",
              "86377     Oct-2019         2019-10-01\n",
              "68203     Oct-2019         2019-10-01\n",
              "78172     Oct-2019         2019-10-01\n",
              "21681     Oct-2019         2019-10-01"
            ]
          },
          "metadata": {
            "tags": []
          },
          "execution_count": 131
        }
      ]
    },
    {
      "cell_type": "code",
      "metadata": {
        "id": "oX_frOvhS6vP",
        "colab_type": "code",
        "colab": {
          "base_uri": "https://localhost:8080/",
          "height": 34
        },
        "outputId": "c5d05b58-8065-419c-dfc1-766714a03722"
      },
      "source": [
        "# I think leaving the nulls makes sense at this point\n",
        "df['last_pymnt_d_clean'].isnull().sum()"
      ],
      "execution_count": 134,
      "outputs": [
        {
          "output_type": "execute_result",
          "data": {
            "text/plain": [
              "159"
            ]
          },
          "metadata": {
            "tags": []
          },
          "execution_count": 134
        }
      ]
    },
    {
      "cell_type": "code",
      "metadata": {
        "id": "4At5JucBTdhh",
        "colab_type": "code",
        "colab": {
          "base_uri": "https://localhost:8080/",
          "height": 34
        },
        "outputId": "8810cd4e-b984-4569-fb69-5b9c9039ab6e"
      },
      "source": [
        "# check data type\n",
        "df['last_pymnt_d_clean'].dtype"
      ],
      "execution_count": 135,
      "outputs": [
        {
          "output_type": "execute_result",
          "data": {
            "text/plain": [
              "dtype('<M8[ns]')"
            ]
          },
          "metadata": {
            "tags": []
          },
          "execution_count": 135
        }
      ]
    },
    {
      "cell_type": "code",
      "metadata": {
        "id": "wQsUtgC6TJ3r",
        "colab_type": "code",
        "colab": {
          "base_uri": "https://localhost:8080/",
          "height": 204
        },
        "outputId": "bd2932b0-3582-4af0-d2f8-56eb2efe6440"
      },
      "source": [
        "# Creat a year column\n",
        "df['last_pymnt_d_year'] = df['last_pymnt_d_clean'].dt.year\n",
        "\n",
        "# Compair\n",
        "df[['last_pymnt_d_clean', 'last_pymnt_d_year']].sample(5)"
      ],
      "execution_count": 137,
      "outputs": [
        {
          "output_type": "execute_result",
          "data": {
            "text/html": [
              "<div>\n",
              "<style scoped>\n",
              "    .dataframe tbody tr th:only-of-type {\n",
              "        vertical-align: middle;\n",
              "    }\n",
              "\n",
              "    .dataframe tbody tr th {\n",
              "        vertical-align: top;\n",
              "    }\n",
              "\n",
              "    .dataframe thead th {\n",
              "        text-align: right;\n",
              "    }\n",
              "</style>\n",
              "<table border=\"1\" class=\"dataframe\">\n",
              "  <thead>\n",
              "    <tr style=\"text-align: right;\">\n",
              "      <th></th>\n",
              "      <th>last_pymnt_d_clean</th>\n",
              "      <th>last_pymnt_d_year</th>\n",
              "    </tr>\n",
              "  </thead>\n",
              "  <tbody>\n",
              "    <tr>\n",
              "      <th>12625</th>\n",
              "      <td>2019-10-01</td>\n",
              "      <td>2019.0</td>\n",
              "    </tr>\n",
              "    <tr>\n",
              "      <th>113337</th>\n",
              "      <td>2019-10-01</td>\n",
              "      <td>2019.0</td>\n",
              "    </tr>\n",
              "    <tr>\n",
              "      <th>18342</th>\n",
              "      <td>2019-10-01</td>\n",
              "      <td>2019.0</td>\n",
              "    </tr>\n",
              "    <tr>\n",
              "      <th>113186</th>\n",
              "      <td>2019-04-01</td>\n",
              "      <td>2019.0</td>\n",
              "    </tr>\n",
              "    <tr>\n",
              "      <th>125487</th>\n",
              "      <td>2019-10-01</td>\n",
              "      <td>2019.0</td>\n",
              "    </tr>\n",
              "  </tbody>\n",
              "</table>\n",
              "</div>"
            ],
            "text/plain": [
              "       last_pymnt_d_clean  last_pymnt_d_year\n",
              "12625          2019-10-01             2019.0\n",
              "113337         2019-10-01             2019.0\n",
              "18342          2019-10-01             2019.0\n",
              "113186         2019-04-01             2019.0\n",
              "125487         2019-10-01             2019.0"
            ]
          },
          "metadata": {
            "tags": []
          },
          "execution_count": 137
        }
      ]
    },
    {
      "cell_type": "code",
      "metadata": {
        "id": "1DyAw0HJUaCZ",
        "colab_type": "code",
        "colab": {
          "base_uri": "https://localhost:8080/",
          "height": 34
        },
        "outputId": "0ab9b95f-be2f-4844-b89f-e9c27617ad8c"
      },
      "source": [
        "# just looking to see possible years\n",
        "df['last_pymnt_d_year'].nunique()"
      ],
      "execution_count": 140,
      "outputs": [
        {
          "output_type": "execute_result",
          "data": {
            "text/plain": [
              "2"
            ]
          },
          "metadata": {
            "tags": []
          },
          "execution_count": 140
        }
      ]
    },
    {
      "cell_type": "code",
      "metadata": {
        "id": "brtgX_WwUNC5",
        "colab_type": "code",
        "colab": {
          "base_uri": "https://localhost:8080/",
          "height": 204
        },
        "outputId": "1f7f3213-cf85-4f86-b71c-3a8c34ff63da"
      },
      "source": [
        "# Creat a month column\n",
        "df['last_pymnt_d_month'] = df['last_pymnt_d_clean'].dt.month\n",
        "\n",
        "# Compair\n",
        "df[['last_pymnt_d_clean', 'last_pymnt_d_month']].sample(5)"
      ],
      "execution_count": 138,
      "outputs": [
        {
          "output_type": "execute_result",
          "data": {
            "text/html": [
              "<div>\n",
              "<style scoped>\n",
              "    .dataframe tbody tr th:only-of-type {\n",
              "        vertical-align: middle;\n",
              "    }\n",
              "\n",
              "    .dataframe tbody tr th {\n",
              "        vertical-align: top;\n",
              "    }\n",
              "\n",
              "    .dataframe thead th {\n",
              "        text-align: right;\n",
              "    }\n",
              "</style>\n",
              "<table border=\"1\" class=\"dataframe\">\n",
              "  <thead>\n",
              "    <tr style=\"text-align: right;\">\n",
              "      <th></th>\n",
              "      <th>last_pymnt_d_clean</th>\n",
              "      <th>last_pymnt_d_month</th>\n",
              "    </tr>\n",
              "  </thead>\n",
              "  <tbody>\n",
              "    <tr>\n",
              "      <th>55963</th>\n",
              "      <td>2019-10-01</td>\n",
              "      <td>10.0</td>\n",
              "    </tr>\n",
              "    <tr>\n",
              "      <th>119023</th>\n",
              "      <td>2019-07-01</td>\n",
              "      <td>7.0</td>\n",
              "    </tr>\n",
              "    <tr>\n",
              "      <th>124038</th>\n",
              "      <td>2019-09-01</td>\n",
              "      <td>9.0</td>\n",
              "    </tr>\n",
              "    <tr>\n",
              "      <th>62502</th>\n",
              "      <td>2019-10-01</td>\n",
              "      <td>10.0</td>\n",
              "    </tr>\n",
              "    <tr>\n",
              "      <th>8510</th>\n",
              "      <td>2019-10-01</td>\n",
              "      <td>10.0</td>\n",
              "    </tr>\n",
              "  </tbody>\n",
              "</table>\n",
              "</div>"
            ],
            "text/plain": [
              "       last_pymnt_d_clean  last_pymnt_d_month\n",
              "55963          2019-10-01                10.0\n",
              "119023         2019-07-01                 7.0\n",
              "124038         2019-09-01                 9.0\n",
              "62502          2019-10-01                10.0\n",
              "8510           2019-10-01                10.0"
            ]
          },
          "metadata": {
            "tags": []
          },
          "execution_count": 138
        }
      ]
    },
    {
      "cell_type": "markdown",
      "metadata": {
        "colab_type": "text",
        "id": "L8k0LiHmo5EU"
      },
      "source": [
        "# Stretch Goals\n",
        "\n",
        "You can do more with the LendingClub or Instacart datasets.\n",
        "\n",
        "LendingClub options:\n",
        "- There's one other column in the dataframe with percent signs. Remove them and convert to floats. You'll need to handle missing values.\n",
        "- Modify the `emp_title` column to replace titles with 'Other' if the title is not in the top 20. \n",
        "- Take initiatve and work on your own ideas!\n",
        "\n",
        "Instacart options:\n",
        "- Read [Instacart Market Basket Analysis, Winner's Interview: 2nd place, Kazuki Onodera](http://blog.kaggle.com/2017/09/21/instacart-market-basket-analysis-winners-interview-2nd-place-kazuki-onodera/), especially the **Feature Engineering** section. (Can you choose one feature from his bulleted lists, and try to engineer it with pandas code?)\n",
        "- Read and replicate parts of [Simple Exploration Notebook - Instacart](https://www.kaggle.com/sudalairajkumar/simple-exploration-notebook-instacart). (It's the Python Notebook with the most upvotes for this Kaggle competition.)\n",
        "- Take initiative and work on your own ideas!"
      ]
    },
    {
      "cell_type": "markdown",
      "metadata": {
        "id": "dJjfWNN2XeYA",
        "colab_type": "text"
      },
      "source": [
        "##Lending Club Options"
      ]
    },
    {
      "cell_type": "markdown",
      "metadata": {
        "id": "AN5TWR_6XkWH",
        "colab_type": "text"
      },
      "source": [
        "###Convert last percent to float"
      ]
    },
    {
      "cell_type": "code",
      "metadata": {
        "id": "iL0OJkkBXvp4",
        "colab_type": "code",
        "colab": {
          "base_uri": "https://localhost:8080/",
          "height": 338
        },
        "outputId": "2a7e07a8-d69e-4961-f993-0c9477bb2cf8"
      },
      "source": [
        "df.sample(5)"
      ],
      "execution_count": 156,
      "outputs": [
        {
          "output_type": "execute_result",
          "data": {
            "text/html": [
              "<div>\n",
              "<style scoped>\n",
              "    .dataframe tbody tr th:only-of-type {\n",
              "        vertical-align: middle;\n",
              "    }\n",
              "\n",
              "    .dataframe tbody tr th {\n",
              "        vertical-align: top;\n",
              "    }\n",
              "\n",
              "    .dataframe thead th {\n",
              "        text-align: right;\n",
              "    }\n",
              "</style>\n",
              "<table border=\"1\" class=\"dataframe\">\n",
              "  <thead>\n",
              "    <tr style=\"text-align: right;\">\n",
              "      <th></th>\n",
              "      <th>id</th>\n",
              "      <th>member_id</th>\n",
              "      <th>loan_amnt</th>\n",
              "      <th>funded_amnt</th>\n",
              "      <th>funded_amnt_inv</th>\n",
              "      <th>term</th>\n",
              "      <th>int_rate</th>\n",
              "      <th>installment</th>\n",
              "      <th>grade</th>\n",
              "      <th>sub_grade</th>\n",
              "      <th>emp_title</th>\n",
              "      <th>emp_length</th>\n",
              "      <th>home_ownership</th>\n",
              "      <th>annual_inc</th>\n",
              "      <th>verification_status</th>\n",
              "      <th>issue_d</th>\n",
              "      <th>loan_status</th>\n",
              "      <th>pymnt_plan</th>\n",
              "      <th>url</th>\n",
              "      <th>desc</th>\n",
              "      <th>purpose</th>\n",
              "      <th>title</th>\n",
              "      <th>zip_code</th>\n",
              "      <th>addr_state</th>\n",
              "      <th>dti</th>\n",
              "      <th>delinq_2yrs</th>\n",
              "      <th>earliest_cr_line</th>\n",
              "      <th>inq_last_6mths</th>\n",
              "      <th>mths_since_last_delinq</th>\n",
              "      <th>mths_since_last_record</th>\n",
              "      <th>open_acc</th>\n",
              "      <th>pub_rec</th>\n",
              "      <th>revol_bal</th>\n",
              "      <th>revol_util</th>\n",
              "      <th>total_acc</th>\n",
              "      <th>initial_list_status</th>\n",
              "      <th>out_prncp</th>\n",
              "      <th>out_prncp_inv</th>\n",
              "      <th>total_pymnt</th>\n",
              "      <th>total_pymnt_inv</th>\n",
              "      <th>total_rec_prncp</th>\n",
              "      <th>total_rec_int</th>\n",
              "      <th>total_rec_late_fee</th>\n",
              "      <th>recoveries</th>\n",
              "      <th>collection_recovery_fee</th>\n",
              "      <th>last_pymnt_d</th>\n",
              "      <th>last_pymnt_amnt</th>\n",
              "      <th>next_pymnt_d</th>\n",
              "      <th>last_credit_pull_d</th>\n",
              "      <th>collections_12_mths_ex_med</th>\n",
              "      <th>...</th>\n",
              "      <th>tax_liens</th>\n",
              "      <th>tot_hi_cred_lim</th>\n",
              "      <th>total_bal_ex_mort</th>\n",
              "      <th>total_bc_limit</th>\n",
              "      <th>total_il_high_credit_limit</th>\n",
              "      <th>revol_bal_joint</th>\n",
              "      <th>sec_app_earliest_cr_line</th>\n",
              "      <th>sec_app_inq_last_6mths</th>\n",
              "      <th>sec_app_mort_acc</th>\n",
              "      <th>sec_app_open_acc</th>\n",
              "      <th>sec_app_revol_util</th>\n",
              "      <th>sec_app_open_act_il</th>\n",
              "      <th>sec_app_num_rev_accts</th>\n",
              "      <th>sec_app_chargeoff_within_12_mths</th>\n",
              "      <th>sec_app_collections_12_mths_ex_med</th>\n",
              "      <th>sec_app_mths_since_last_major_derog</th>\n",
              "      <th>hardship_flag</th>\n",
              "      <th>hardship_type</th>\n",
              "      <th>hardship_reason</th>\n",
              "      <th>hardship_status</th>\n",
              "      <th>deferral_term</th>\n",
              "      <th>hardship_amount</th>\n",
              "      <th>hardship_start_date</th>\n",
              "      <th>hardship_end_date</th>\n",
              "      <th>payment_plan_start_date</th>\n",
              "      <th>hardship_length</th>\n",
              "      <th>hardship_dpd</th>\n",
              "      <th>hardship_loan_status</th>\n",
              "      <th>orig_projected_additional_accrued_interest</th>\n",
              "      <th>hardship_payoff_balance_amount</th>\n",
              "      <th>hardship_last_payment_amount</th>\n",
              "      <th>debt_settlement_flag</th>\n",
              "      <th>debt_settlement_flag_date</th>\n",
              "      <th>settlement_status</th>\n",
              "      <th>settlement_date</th>\n",
              "      <th>settlement_amount</th>\n",
              "      <th>settlement_percentage</th>\n",
              "      <th>settlement_term</th>\n",
              "      <th>int_rate_float</th>\n",
              "      <th>emp_title_clean</th>\n",
              "      <th>term_clean</th>\n",
              "      <th>emp_title_manager</th>\n",
              "      <th>loan_status_is_great</th>\n",
              "      <th>issue_d_clean</th>\n",
              "      <th>issue_year</th>\n",
              "      <th>issue_month</th>\n",
              "      <th>issue_weekday</th>\n",
              "      <th>last_pymnt_d_clean</th>\n",
              "      <th>last_pymnt_d_year</th>\n",
              "      <th>last_pymnt_d_month</th>\n",
              "    </tr>\n",
              "  </thead>\n",
              "  <tbody>\n",
              "    <tr>\n",
              "      <th>4422</th>\n",
              "      <td>NaN</td>\n",
              "      <td>NaN</td>\n",
              "      <td>35000</td>\n",
              "      <td>35000</td>\n",
              "      <td>35000.0</td>\n",
              "      <td>60 months</td>\n",
              "      <td>14.47%</td>\n",
              "      <td>822.95</td>\n",
              "      <td>C</td>\n",
              "      <td>C2</td>\n",
              "      <td>Science Teacher</td>\n",
              "      <td>10+ years</td>\n",
              "      <td>OWN</td>\n",
              "      <td>105000.0</td>\n",
              "      <td>Source Verified</td>\n",
              "      <td>Dec-2018</td>\n",
              "      <td>Current</td>\n",
              "      <td>n</td>\n",
              "      <td>NaN</td>\n",
              "      <td>NaN</td>\n",
              "      <td>debt_consolidation</td>\n",
              "      <td>Debt consolidation</td>\n",
              "      <td>074xx</td>\n",
              "      <td>NJ</td>\n",
              "      <td>14.37</td>\n",
              "      <td>0</td>\n",
              "      <td>Mar-2002</td>\n",
              "      <td>0</td>\n",
              "      <td>57.0</td>\n",
              "      <td>NaN</td>\n",
              "      <td>12</td>\n",
              "      <td>0</td>\n",
              "      <td>46752</td>\n",
              "      <td>77.8%</td>\n",
              "      <td>21</td>\n",
              "      <td>w</td>\n",
              "      <td>30766.23</td>\n",
              "      <td>30766.23</td>\n",
              "      <td>8173.23</td>\n",
              "      <td>8173.23</td>\n",
              "      <td>4233.77</td>\n",
              "      <td>3939.46</td>\n",
              "      <td>0.00</td>\n",
              "      <td>0.0</td>\n",
              "      <td>0.0</td>\n",
              "      <td>Oct-2019</td>\n",
              "      <td>822.95</td>\n",
              "      <td>Nov-2019</td>\n",
              "      <td>Oct-2019</td>\n",
              "      <td>0</td>\n",
              "      <td>...</td>\n",
              "      <td>0</td>\n",
              "      <td>372100</td>\n",
              "      <td>46752</td>\n",
              "      <td>48500</td>\n",
              "      <td>0</td>\n",
              "      <td>NaN</td>\n",
              "      <td>NaN</td>\n",
              "      <td>NaN</td>\n",
              "      <td>NaN</td>\n",
              "      <td>NaN</td>\n",
              "      <td>NaN</td>\n",
              "      <td>NaN</td>\n",
              "      <td>NaN</td>\n",
              "      <td>NaN</td>\n",
              "      <td>NaN</td>\n",
              "      <td>NaN</td>\n",
              "      <td>N</td>\n",
              "      <td>NaN</td>\n",
              "      <td>NaN</td>\n",
              "      <td>NaN</td>\n",
              "      <td>NaN</td>\n",
              "      <td>NaN</td>\n",
              "      <td>NaN</td>\n",
              "      <td>NaN</td>\n",
              "      <td>NaN</td>\n",
              "      <td>NaN</td>\n",
              "      <td>NaN</td>\n",
              "      <td>NaN</td>\n",
              "      <td>NaN</td>\n",
              "      <td>NaN</td>\n",
              "      <td>NaN</td>\n",
              "      <td>N</td>\n",
              "      <td>NaN</td>\n",
              "      <td>NaN</td>\n",
              "      <td>NaN</td>\n",
              "      <td>NaN</td>\n",
              "      <td>NaN</td>\n",
              "      <td>NaN</td>\n",
              "      <td>14.47</td>\n",
              "      <td>Science Teacher</td>\n",
              "      <td>60</td>\n",
              "      <td>False</td>\n",
              "      <td>1</td>\n",
              "      <td>2018-12-01</td>\n",
              "      <td>2018</td>\n",
              "      <td>12</td>\n",
              "      <td>5</td>\n",
              "      <td>2019-10-01</td>\n",
              "      <td>2019.0</td>\n",
              "      <td>10.0</td>\n",
              "    </tr>\n",
              "    <tr>\n",
              "      <th>54022</th>\n",
              "      <td>NaN</td>\n",
              "      <td>NaN</td>\n",
              "      <td>25000</td>\n",
              "      <td>25000</td>\n",
              "      <td>24975.0</td>\n",
              "      <td>36 months</td>\n",
              "      <td>8.19%</td>\n",
              "      <td>785.61</td>\n",
              "      <td>A</td>\n",
              "      <td>A4</td>\n",
              "      <td>Sr Content Mgr</td>\n",
              "      <td>6 years</td>\n",
              "      <td>OWN</td>\n",
              "      <td>98000.0</td>\n",
              "      <td>Not Verified</td>\n",
              "      <td>Nov-2018</td>\n",
              "      <td>Current</td>\n",
              "      <td>n</td>\n",
              "      <td>NaN</td>\n",
              "      <td>NaN</td>\n",
              "      <td>other</td>\n",
              "      <td>Other</td>\n",
              "      <td>660xx</td>\n",
              "      <td>KS</td>\n",
              "      <td>24.33</td>\n",
              "      <td>0</td>\n",
              "      <td>May-1992</td>\n",
              "      <td>1</td>\n",
              "      <td>NaN</td>\n",
              "      <td>NaN</td>\n",
              "      <td>17</td>\n",
              "      <td>0</td>\n",
              "      <td>5314</td>\n",
              "      <td>6.5%</td>\n",
              "      <td>54</td>\n",
              "      <td>f</td>\n",
              "      <td>17999.52</td>\n",
              "      <td>17981.52</td>\n",
              "      <td>8624.65</td>\n",
              "      <td>8616.03</td>\n",
              "      <td>7000.48</td>\n",
              "      <td>1624.17</td>\n",
              "      <td>0.00</td>\n",
              "      <td>0.0</td>\n",
              "      <td>0.0</td>\n",
              "      <td>Oct-2019</td>\n",
              "      <td>785.61</td>\n",
              "      <td>Nov-2019</td>\n",
              "      <td>Oct-2019</td>\n",
              "      <td>0</td>\n",
              "      <td>...</td>\n",
              "      <td>0</td>\n",
              "      <td>209841</td>\n",
              "      <td>77765</td>\n",
              "      <td>66300</td>\n",
              "      <td>127541</td>\n",
              "      <td>NaN</td>\n",
              "      <td>NaN</td>\n",
              "      <td>NaN</td>\n",
              "      <td>NaN</td>\n",
              "      <td>NaN</td>\n",
              "      <td>NaN</td>\n",
              "      <td>NaN</td>\n",
              "      <td>NaN</td>\n",
              "      <td>NaN</td>\n",
              "      <td>NaN</td>\n",
              "      <td>NaN</td>\n",
              "      <td>N</td>\n",
              "      <td>NaN</td>\n",
              "      <td>NaN</td>\n",
              "      <td>NaN</td>\n",
              "      <td>NaN</td>\n",
              "      <td>NaN</td>\n",
              "      <td>NaN</td>\n",
              "      <td>NaN</td>\n",
              "      <td>NaN</td>\n",
              "      <td>NaN</td>\n",
              "      <td>NaN</td>\n",
              "      <td>NaN</td>\n",
              "      <td>NaN</td>\n",
              "      <td>NaN</td>\n",
              "      <td>NaN</td>\n",
              "      <td>N</td>\n",
              "      <td>NaN</td>\n",
              "      <td>NaN</td>\n",
              "      <td>NaN</td>\n",
              "      <td>NaN</td>\n",
              "      <td>NaN</td>\n",
              "      <td>NaN</td>\n",
              "      <td>8.19</td>\n",
              "      <td>Sr Content Mgr</td>\n",
              "      <td>36</td>\n",
              "      <td>False</td>\n",
              "      <td>1</td>\n",
              "      <td>2018-11-01</td>\n",
              "      <td>2018</td>\n",
              "      <td>11</td>\n",
              "      <td>3</td>\n",
              "      <td>2019-10-01</td>\n",
              "      <td>2019.0</td>\n",
              "      <td>10.0</td>\n",
              "    </tr>\n",
              "    <tr>\n",
              "      <th>122394</th>\n",
              "      <td>NaN</td>\n",
              "      <td>NaN</td>\n",
              "      <td>12000</td>\n",
              "      <td>12000</td>\n",
              "      <td>12000.0</td>\n",
              "      <td>36 months</td>\n",
              "      <td>10.08%</td>\n",
              "      <td>387.66</td>\n",
              "      <td>B</td>\n",
              "      <td>B1</td>\n",
              "      <td>NaN</td>\n",
              "      <td>&lt; 1 year</td>\n",
              "      <td>RENT</td>\n",
              "      <td>48000.0</td>\n",
              "      <td>Source Verified</td>\n",
              "      <td>Oct-2018</td>\n",
              "      <td>Current</td>\n",
              "      <td>n</td>\n",
              "      <td>NaN</td>\n",
              "      <td>NaN</td>\n",
              "      <td>debt_consolidation</td>\n",
              "      <td>Debt consolidation</td>\n",
              "      <td>216xx</td>\n",
              "      <td>MD</td>\n",
              "      <td>9.13</td>\n",
              "      <td>1</td>\n",
              "      <td>Apr-2001</td>\n",
              "      <td>0</td>\n",
              "      <td>22.0</td>\n",
              "      <td>NaN</td>\n",
              "      <td>7</td>\n",
              "      <td>0</td>\n",
              "      <td>4573</td>\n",
              "      <td>45.3%</td>\n",
              "      <td>21</td>\n",
              "      <td>w</td>\n",
              "      <td>8394.11</td>\n",
              "      <td>8394.11</td>\n",
              "      <td>4645.20</td>\n",
              "      <td>4645.20</td>\n",
              "      <td>3605.89</td>\n",
              "      <td>1039.31</td>\n",
              "      <td>0.00</td>\n",
              "      <td>0.0</td>\n",
              "      <td>0.0</td>\n",
              "      <td>Oct-2019</td>\n",
              "      <td>387.66</td>\n",
              "      <td>Nov-2019</td>\n",
              "      <td>Oct-2019</td>\n",
              "      <td>0</td>\n",
              "      <td>...</td>\n",
              "      <td>0</td>\n",
              "      <td>25396</td>\n",
              "      <td>11745</td>\n",
              "      <td>4700</td>\n",
              "      <td>15296</td>\n",
              "      <td>NaN</td>\n",
              "      <td>NaN</td>\n",
              "      <td>NaN</td>\n",
              "      <td>NaN</td>\n",
              "      <td>NaN</td>\n",
              "      <td>NaN</td>\n",
              "      <td>NaN</td>\n",
              "      <td>NaN</td>\n",
              "      <td>NaN</td>\n",
              "      <td>NaN</td>\n",
              "      <td>NaN</td>\n",
              "      <td>N</td>\n",
              "      <td>NaN</td>\n",
              "      <td>NaN</td>\n",
              "      <td>NaN</td>\n",
              "      <td>NaN</td>\n",
              "      <td>NaN</td>\n",
              "      <td>NaN</td>\n",
              "      <td>NaN</td>\n",
              "      <td>NaN</td>\n",
              "      <td>NaN</td>\n",
              "      <td>NaN</td>\n",
              "      <td>NaN</td>\n",
              "      <td>NaN</td>\n",
              "      <td>NaN</td>\n",
              "      <td>NaN</td>\n",
              "      <td>N</td>\n",
              "      <td>NaN</td>\n",
              "      <td>NaN</td>\n",
              "      <td>NaN</td>\n",
              "      <td>NaN</td>\n",
              "      <td>NaN</td>\n",
              "      <td>NaN</td>\n",
              "      <td>10.08</td>\n",
              "      <td>Unknown</td>\n",
              "      <td>36</td>\n",
              "      <td>False</td>\n",
              "      <td>1</td>\n",
              "      <td>2018-10-01</td>\n",
              "      <td>2018</td>\n",
              "      <td>10</td>\n",
              "      <td>0</td>\n",
              "      <td>2019-10-01</td>\n",
              "      <td>2019.0</td>\n",
              "      <td>10.0</td>\n",
              "    </tr>\n",
              "    <tr>\n",
              "      <th>59381</th>\n",
              "      <td>NaN</td>\n",
              "      <td>NaN</td>\n",
              "      <td>19000</td>\n",
              "      <td>19000</td>\n",
              "      <td>19000.0</td>\n",
              "      <td>60 months</td>\n",
              "      <td>18.94%</td>\n",
              "      <td>492.25</td>\n",
              "      <td>D</td>\n",
              "      <td>D2</td>\n",
              "      <td>Electrical engineer</td>\n",
              "      <td>5 years</td>\n",
              "      <td>RENT</td>\n",
              "      <td>80000.0</td>\n",
              "      <td>Not Verified</td>\n",
              "      <td>Nov-2018</td>\n",
              "      <td>Late (31-120 days)</td>\n",
              "      <td>n</td>\n",
              "      <td>NaN</td>\n",
              "      <td>NaN</td>\n",
              "      <td>debt_consolidation</td>\n",
              "      <td>Debt consolidation</td>\n",
              "      <td>300xx</td>\n",
              "      <td>GA</td>\n",
              "      <td>23.33</td>\n",
              "      <td>0</td>\n",
              "      <td>Sep-2001</td>\n",
              "      <td>0</td>\n",
              "      <td>60.0</td>\n",
              "      <td>NaN</td>\n",
              "      <td>8</td>\n",
              "      <td>0</td>\n",
              "      <td>5909</td>\n",
              "      <td>56.8%</td>\n",
              "      <td>22</td>\n",
              "      <td>w</td>\n",
              "      <td>17377.15</td>\n",
              "      <td>17377.15</td>\n",
              "      <td>4246.13</td>\n",
              "      <td>4246.13</td>\n",
              "      <td>1622.85</td>\n",
              "      <td>2559.06</td>\n",
              "      <td>64.22</td>\n",
              "      <td>0.0</td>\n",
              "      <td>0.0</td>\n",
              "      <td>Oct-2019</td>\n",
              "      <td>200.00</td>\n",
              "      <td>Nov-2019</td>\n",
              "      <td>Oct-2019</td>\n",
              "      <td>0</td>\n",
              "      <td>...</td>\n",
              "      <td>0</td>\n",
              "      <td>82618</td>\n",
              "      <td>67524</td>\n",
              "      <td>9400</td>\n",
              "      <td>72218</td>\n",
              "      <td>NaN</td>\n",
              "      <td>NaN</td>\n",
              "      <td>NaN</td>\n",
              "      <td>NaN</td>\n",
              "      <td>NaN</td>\n",
              "      <td>NaN</td>\n",
              "      <td>NaN</td>\n",
              "      <td>NaN</td>\n",
              "      <td>NaN</td>\n",
              "      <td>NaN</td>\n",
              "      <td>NaN</td>\n",
              "      <td>N</td>\n",
              "      <td>NaN</td>\n",
              "      <td>NaN</td>\n",
              "      <td>NaN</td>\n",
              "      <td>NaN</td>\n",
              "      <td>NaN</td>\n",
              "      <td>NaN</td>\n",
              "      <td>NaN</td>\n",
              "      <td>NaN</td>\n",
              "      <td>NaN</td>\n",
              "      <td>NaN</td>\n",
              "      <td>NaN</td>\n",
              "      <td>NaN</td>\n",
              "      <td>NaN</td>\n",
              "      <td>NaN</td>\n",
              "      <td>N</td>\n",
              "      <td>NaN</td>\n",
              "      <td>NaN</td>\n",
              "      <td>NaN</td>\n",
              "      <td>NaN</td>\n",
              "      <td>NaN</td>\n",
              "      <td>NaN</td>\n",
              "      <td>18.94</td>\n",
              "      <td>Electrical Engineer</td>\n",
              "      <td>60</td>\n",
              "      <td>False</td>\n",
              "      <td>0</td>\n",
              "      <td>2018-11-01</td>\n",
              "      <td>2018</td>\n",
              "      <td>11</td>\n",
              "      <td>3</td>\n",
              "      <td>2019-10-01</td>\n",
              "      <td>2019.0</td>\n",
              "      <td>10.0</td>\n",
              "    </tr>\n",
              "    <tr>\n",
              "      <th>21874</th>\n",
              "      <td>NaN</td>\n",
              "      <td>NaN</td>\n",
              "      <td>4800</td>\n",
              "      <td>4800</td>\n",
              "      <td>4800.0</td>\n",
              "      <td>36 months</td>\n",
              "      <td>10.72%</td>\n",
              "      <td>156.52</td>\n",
              "      <td>B</td>\n",
              "      <td>B2</td>\n",
              "      <td>Asst. Vice President</td>\n",
              "      <td>10+ years</td>\n",
              "      <td>MORTGAGE</td>\n",
              "      <td>64000.0</td>\n",
              "      <td>Source Verified</td>\n",
              "      <td>Dec-2018</td>\n",
              "      <td>Current</td>\n",
              "      <td>n</td>\n",
              "      <td>NaN</td>\n",
              "      <td>NaN</td>\n",
              "      <td>debt_consolidation</td>\n",
              "      <td>Debt consolidation</td>\n",
              "      <td>600xx</td>\n",
              "      <td>IL</td>\n",
              "      <td>16.35</td>\n",
              "      <td>0</td>\n",
              "      <td>Sep-2005</td>\n",
              "      <td>1</td>\n",
              "      <td>NaN</td>\n",
              "      <td>88.0</td>\n",
              "      <td>15</td>\n",
              "      <td>1</td>\n",
              "      <td>4218</td>\n",
              "      <td>11%</td>\n",
              "      <td>33</td>\n",
              "      <td>w</td>\n",
              "      <td>3616.81</td>\n",
              "      <td>3616.81</td>\n",
              "      <td>1559.48</td>\n",
              "      <td>1559.48</td>\n",
              "      <td>1183.19</td>\n",
              "      <td>376.29</td>\n",
              "      <td>0.00</td>\n",
              "      <td>0.0</td>\n",
              "      <td>0.0</td>\n",
              "      <td>Oct-2019</td>\n",
              "      <td>156.52</td>\n",
              "      <td>Nov-2019</td>\n",
              "      <td>Oct-2019</td>\n",
              "      <td>0</td>\n",
              "      <td>...</td>\n",
              "      <td>0</td>\n",
              "      <td>117118</td>\n",
              "      <td>15042</td>\n",
              "      <td>12600</td>\n",
              "      <td>13618</td>\n",
              "      <td>NaN</td>\n",
              "      <td>NaN</td>\n",
              "      <td>NaN</td>\n",
              "      <td>NaN</td>\n",
              "      <td>NaN</td>\n",
              "      <td>NaN</td>\n",
              "      <td>NaN</td>\n",
              "      <td>NaN</td>\n",
              "      <td>NaN</td>\n",
              "      <td>NaN</td>\n",
              "      <td>NaN</td>\n",
              "      <td>N</td>\n",
              "      <td>NaN</td>\n",
              "      <td>NaN</td>\n",
              "      <td>NaN</td>\n",
              "      <td>NaN</td>\n",
              "      <td>NaN</td>\n",
              "      <td>NaN</td>\n",
              "      <td>NaN</td>\n",
              "      <td>NaN</td>\n",
              "      <td>NaN</td>\n",
              "      <td>NaN</td>\n",
              "      <td>NaN</td>\n",
              "      <td>NaN</td>\n",
              "      <td>NaN</td>\n",
              "      <td>NaN</td>\n",
              "      <td>N</td>\n",
              "      <td>NaN</td>\n",
              "      <td>NaN</td>\n",
              "      <td>NaN</td>\n",
              "      <td>NaN</td>\n",
              "      <td>NaN</td>\n",
              "      <td>NaN</td>\n",
              "      <td>10.72</td>\n",
              "      <td>Asst. Vice President</td>\n",
              "      <td>36</td>\n",
              "      <td>False</td>\n",
              "      <td>1</td>\n",
              "      <td>2018-12-01</td>\n",
              "      <td>2018</td>\n",
              "      <td>12</td>\n",
              "      <td>5</td>\n",
              "      <td>2019-10-01</td>\n",
              "      <td>2019.0</td>\n",
              "      <td>10.0</td>\n",
              "    </tr>\n",
              "  </tbody>\n",
              "</table>\n",
              "<p>5 rows × 156 columns</p>\n",
              "</div>"
            ],
            "text/plain": [
              "        id  member_id  loan_amnt  funded_amnt  funded_amnt_inv        term  \\\n",
              "4422   NaN        NaN      35000        35000          35000.0   60 months   \n",
              "54022  NaN        NaN      25000        25000          24975.0   36 months   \n",
              "122394 NaN        NaN      12000        12000          12000.0   36 months   \n",
              "59381  NaN        NaN      19000        19000          19000.0   60 months   \n",
              "21874  NaN        NaN       4800         4800           4800.0   36 months   \n",
              "\n",
              "       int_rate  installment grade sub_grade             emp_title emp_length  \\\n",
              "4422     14.47%       822.95     C        C2       Science Teacher  10+ years   \n",
              "54022     8.19%       785.61     A        A4        Sr Content Mgr    6 years   \n",
              "122394   10.08%       387.66     B        B1                   NaN   < 1 year   \n",
              "59381    18.94%       492.25     D        D2   Electrical engineer    5 years   \n",
              "21874    10.72%       156.52     B        B2  Asst. Vice President  10+ years   \n",
              "\n",
              "       home_ownership  annual_inc verification_status   issue_d  \\\n",
              "4422              OWN    105000.0     Source Verified  Dec-2018   \n",
              "54022             OWN     98000.0        Not Verified  Nov-2018   \n",
              "122394           RENT     48000.0     Source Verified  Oct-2018   \n",
              "59381            RENT     80000.0        Not Verified  Nov-2018   \n",
              "21874        MORTGAGE     64000.0     Source Verified  Dec-2018   \n",
              "\n",
              "               loan_status pymnt_plan  url  desc             purpose  \\\n",
              "4422               Current          n  NaN   NaN  debt_consolidation   \n",
              "54022              Current          n  NaN   NaN               other   \n",
              "122394             Current          n  NaN   NaN  debt_consolidation   \n",
              "59381   Late (31-120 days)          n  NaN   NaN  debt_consolidation   \n",
              "21874              Current          n  NaN   NaN  debt_consolidation   \n",
              "\n",
              "                     title zip_code addr_state    dti  delinq_2yrs  \\\n",
              "4422    Debt consolidation    074xx         NJ  14.37            0   \n",
              "54022                Other    660xx         KS  24.33            0   \n",
              "122394  Debt consolidation    216xx         MD   9.13            1   \n",
              "59381   Debt consolidation    300xx         GA  23.33            0   \n",
              "21874   Debt consolidation    600xx         IL  16.35            0   \n",
              "\n",
              "       earliest_cr_line  inq_last_6mths  mths_since_last_delinq  \\\n",
              "4422           Mar-2002               0                    57.0   \n",
              "54022          May-1992               1                     NaN   \n",
              "122394         Apr-2001               0                    22.0   \n",
              "59381          Sep-2001               0                    60.0   \n",
              "21874          Sep-2005               1                     NaN   \n",
              "\n",
              "        mths_since_last_record  open_acc  pub_rec  revol_bal revol_util  \\\n",
              "4422                       NaN        12        0      46752      77.8%   \n",
              "54022                      NaN        17        0       5314       6.5%   \n",
              "122394                     NaN         7        0       4573      45.3%   \n",
              "59381                      NaN         8        0       5909      56.8%   \n",
              "21874                     88.0        15        1       4218        11%   \n",
              "\n",
              "        total_acc initial_list_status  out_prncp  out_prncp_inv  total_pymnt  \\\n",
              "4422           21                   w   30766.23       30766.23      8173.23   \n",
              "54022          54                   f   17999.52       17981.52      8624.65   \n",
              "122394         21                   w    8394.11        8394.11      4645.20   \n",
              "59381          22                   w   17377.15       17377.15      4246.13   \n",
              "21874          33                   w    3616.81        3616.81      1559.48   \n",
              "\n",
              "        total_pymnt_inv  total_rec_prncp  total_rec_int  total_rec_late_fee  \\\n",
              "4422            8173.23          4233.77        3939.46                0.00   \n",
              "54022           8616.03          7000.48        1624.17                0.00   \n",
              "122394          4645.20          3605.89        1039.31                0.00   \n",
              "59381           4246.13          1622.85        2559.06               64.22   \n",
              "21874           1559.48          1183.19         376.29                0.00   \n",
              "\n",
              "        recoveries  collection_recovery_fee last_pymnt_d  last_pymnt_amnt  \\\n",
              "4422           0.0                      0.0     Oct-2019           822.95   \n",
              "54022          0.0                      0.0     Oct-2019           785.61   \n",
              "122394         0.0                      0.0     Oct-2019           387.66   \n",
              "59381          0.0                      0.0     Oct-2019           200.00   \n",
              "21874          0.0                      0.0     Oct-2019           156.52   \n",
              "\n",
              "       next_pymnt_d last_credit_pull_d  collections_12_mths_ex_med  ...  \\\n",
              "4422       Nov-2019           Oct-2019                           0  ...   \n",
              "54022      Nov-2019           Oct-2019                           0  ...   \n",
              "122394     Nov-2019           Oct-2019                           0  ...   \n",
              "59381      Nov-2019           Oct-2019                           0  ...   \n",
              "21874      Nov-2019           Oct-2019                           0  ...   \n",
              "\n",
              "        tax_liens  tot_hi_cred_lim total_bal_ex_mort  total_bc_limit  \\\n",
              "4422            0           372100             46752           48500   \n",
              "54022           0           209841             77765           66300   \n",
              "122394          0            25396             11745            4700   \n",
              "59381           0            82618             67524            9400   \n",
              "21874           0           117118             15042           12600   \n",
              "\n",
              "        total_il_high_credit_limit revol_bal_joint  sec_app_earliest_cr_line  \\\n",
              "4422                             0             NaN                       NaN   \n",
              "54022                       127541             NaN                       NaN   \n",
              "122394                       15296             NaN                       NaN   \n",
              "59381                        72218             NaN                       NaN   \n",
              "21874                        13618             NaN                       NaN   \n",
              "\n",
              "        sec_app_inq_last_6mths  sec_app_mort_acc  sec_app_open_acc  \\\n",
              "4422                       NaN               NaN               NaN   \n",
              "54022                      NaN               NaN               NaN   \n",
              "122394                     NaN               NaN               NaN   \n",
              "59381                      NaN               NaN               NaN   \n",
              "21874                      NaN               NaN               NaN   \n",
              "\n",
              "        sec_app_revol_util  sec_app_open_act_il  sec_app_num_rev_accts  \\\n",
              "4422                   NaN                  NaN                    NaN   \n",
              "54022                  NaN                  NaN                    NaN   \n",
              "122394                 NaN                  NaN                    NaN   \n",
              "59381                  NaN                  NaN                    NaN   \n",
              "21874                  NaN                  NaN                    NaN   \n",
              "\n",
              "        sec_app_chargeoff_within_12_mths  sec_app_collections_12_mths_ex_med  \\\n",
              "4422                                 NaN                                 NaN   \n",
              "54022                                NaN                                 NaN   \n",
              "122394                               NaN                                 NaN   \n",
              "59381                                NaN                                 NaN   \n",
              "21874                                NaN                                 NaN   \n",
              "\n",
              "        sec_app_mths_since_last_major_derog  hardship_flag  hardship_type  \\\n",
              "4422                                    NaN              N            NaN   \n",
              "54022                                   NaN              N            NaN   \n",
              "122394                                  NaN              N            NaN   \n",
              "59381                                   NaN              N            NaN   \n",
              "21874                                   NaN              N            NaN   \n",
              "\n",
              "        hardship_reason  hardship_status  deferral_term  hardship_amount  \\\n",
              "4422                NaN              NaN            NaN              NaN   \n",
              "54022               NaN              NaN            NaN              NaN   \n",
              "122394              NaN              NaN            NaN              NaN   \n",
              "59381               NaN              NaN            NaN              NaN   \n",
              "21874               NaN              NaN            NaN              NaN   \n",
              "\n",
              "        hardship_start_date  hardship_end_date  payment_plan_start_date  \\\n",
              "4422                    NaN                NaN                      NaN   \n",
              "54022                   NaN                NaN                      NaN   \n",
              "122394                  NaN                NaN                      NaN   \n",
              "59381                   NaN                NaN                      NaN   \n",
              "21874                   NaN                NaN                      NaN   \n",
              "\n",
              "        hardship_length  hardship_dpd  hardship_loan_status  \\\n",
              "4422                NaN           NaN                   NaN   \n",
              "54022               NaN           NaN                   NaN   \n",
              "122394              NaN           NaN                   NaN   \n",
              "59381               NaN           NaN                   NaN   \n",
              "21874               NaN           NaN                   NaN   \n",
              "\n",
              "        orig_projected_additional_accrued_interest  \\\n",
              "4422                                           NaN   \n",
              "54022                                          NaN   \n",
              "122394                                         NaN   \n",
              "59381                                          NaN   \n",
              "21874                                          NaN   \n",
              "\n",
              "        hardship_payoff_balance_amount  hardship_last_payment_amount  \\\n",
              "4422                               NaN                           NaN   \n",
              "54022                              NaN                           NaN   \n",
              "122394                             NaN                           NaN   \n",
              "59381                              NaN                           NaN   \n",
              "21874                              NaN                           NaN   \n",
              "\n",
              "        debt_settlement_flag  debt_settlement_flag_date  settlement_status  \\\n",
              "4422                       N                        NaN                NaN   \n",
              "54022                      N                        NaN                NaN   \n",
              "122394                     N                        NaN                NaN   \n",
              "59381                      N                        NaN                NaN   \n",
              "21874                      N                        NaN                NaN   \n",
              "\n",
              "        settlement_date  settlement_amount  settlement_percentage  \\\n",
              "4422                NaN                NaN                    NaN   \n",
              "54022               NaN                NaN                    NaN   \n",
              "122394              NaN                NaN                    NaN   \n",
              "59381               NaN                NaN                    NaN   \n",
              "21874               NaN                NaN                    NaN   \n",
              "\n",
              "        settlement_term  int_rate_float       emp_title_clean  term_clean  \\\n",
              "4422                NaN           14.47       Science Teacher          60   \n",
              "54022               NaN            8.19        Sr Content Mgr          36   \n",
              "122394              NaN           10.08               Unknown          36   \n",
              "59381               NaN           18.94   Electrical Engineer          60   \n",
              "21874               NaN           10.72  Asst. Vice President          36   \n",
              "\n",
              "        emp_title_manager  loan_status_is_great  issue_d_clean  issue_year  \\\n",
              "4422                False                     1     2018-12-01        2018   \n",
              "54022               False                     1     2018-11-01        2018   \n",
              "122394              False                     1     2018-10-01        2018   \n",
              "59381               False                     0     2018-11-01        2018   \n",
              "21874               False                     1     2018-12-01        2018   \n",
              "\n",
              "        issue_month  issue_weekday  last_pymnt_d_clean  last_pymnt_d_year  \\\n",
              "4422             12              5          2019-10-01             2019.0   \n",
              "54022            11              3          2019-10-01             2019.0   \n",
              "122394           10              0          2019-10-01             2019.0   \n",
              "59381            11              3          2019-10-01             2019.0   \n",
              "21874            12              5          2019-10-01             2019.0   \n",
              "\n",
              "        last_pymnt_d_month  \n",
              "4422                  10.0  \n",
              "54022                 10.0  \n",
              "122394                10.0  \n",
              "59381                 10.0  \n",
              "21874                 10.0  \n",
              "\n",
              "[5 rows x 156 columns]"
            ]
          },
          "metadata": {
            "tags": []
          },
          "execution_count": 156
        }
      ]
    },
    {
      "cell_type": "code",
      "metadata": {
        "id": "2bFhBm-qYJ4Q",
        "colab_type": "code",
        "colab": {
          "base_uri": "https://localhost:8080/",
          "height": 153
        },
        "outputId": "805faa5e-07f7-4b40-af29-a4e48484ed64"
      },
      "source": [
        "df['revol_util'].sample(7)"
      ],
      "execution_count": 157,
      "outputs": [
        {
          "output_type": "execute_result",
          "data": {
            "text/plain": [
              "95100     24.4%\n",
              "4417      31.7%\n",
              "109110    96.2%\n",
              "1182      18.4%\n",
              "105838    38.6%\n",
              "65276      5.8%\n",
              "63595     63.1%\n",
              "Name: revol_util, dtype: object"
            ]
          },
          "metadata": {
            "tags": []
          },
          "execution_count": 157
        }
      ]
    },
    {
      "cell_type": "code",
      "metadata": {
        "id": "gk3HQyX8YZIe",
        "colab_type": "code",
        "colab": {
          "base_uri": "https://localhost:8080/",
          "height": 34
        },
        "outputId": "8c4a9ae9-e84a-42ed-ba89-1abb33bb62c7"
      },
      "source": [
        "df['revol_util'].dtype"
      ],
      "execution_count": 158,
      "outputs": [
        {
          "output_type": "execute_result",
          "data": {
            "text/plain": [
              "dtype('O')"
            ]
          },
          "metadata": {
            "tags": []
          },
          "execution_count": 158
        }
      ]
    },
    {
      "cell_type": "code",
      "metadata": {
        "id": "OaxTpxARYiE1",
        "colab_type": "code",
        "colab": {
          "base_uri": "https://localhost:8080/",
          "height": 34
        },
        "outputId": "5e84d72e-c79f-4eec-fd5c-b36a6148f98e"
      },
      "source": [
        "# going to test to see if int_rate_2_float works\n",
        "revol_util0 = df.loc[0, 'revol_util']\n",
        "int_rate_2_float(revol_util0)"
      ],
      "execution_count": 160,
      "outputs": [
        {
          "output_type": "execute_result",
          "data": {
            "text/plain": [
              "43.2"
            ]
          },
          "metadata": {
            "tags": []
          },
          "execution_count": 160
        }
      ]
    },
    {
      "cell_type": "code",
      "metadata": {
        "id": "R9Fu8GEGa8Nl",
        "colab_type": "code",
        "colab": {
          "base_uri": "https://localhost:8080/",
          "height": 34
        },
        "outputId": "eb5e63ea-096a-4685-aa3f-99a4e3ab3f27"
      },
      "source": [
        "#check for nulls\n",
        "df['revol_util'].isnull().sum()"
      ],
      "execution_count": 161,
      "outputs": [
        {
          "output_type": "execute_result",
          "data": {
            "text/plain": [
              "156"
            ]
          },
          "metadata": {
            "tags": []
          },
          "execution_count": 161
        }
      ]
    },
    {
      "cell_type": "code",
      "metadata": {
        "id": "_jjeQBzAaJ21",
        "colab_type": "code",
        "colab": {}
      },
      "source": [
        "# Got to take care of the nulls so I need a new function\n",
        "def revol_util_2_float(mystring):\n",
        "  if mystring == np.NaN:\n",
        "    return 0.0\n",
        "  else:\n",
        "    return(float(mystring.strip().strip('%')))"
      ],
      "execution_count": 0,
      "outputs": []
    },
    {
      "cell_type": "code",
      "metadata": {
        "id": "WMVxgx6-fSgg",
        "colab_type": "code",
        "colab": {
          "base_uri": "https://localhost:8080/",
          "height": 299
        },
        "outputId": "4bca370e-263f-4743-8d09-389d653c7c9f"
      },
      "source": [
        "#test it out\n",
        "example3 = np.NaN\n",
        "example4 = ' 14.5%'\n",
        "\n",
        "print(revol_util_2_float(example3))\n",
        "print(revol_util_2_float(example4))"
      ],
      "execution_count": 178,
      "outputs": [
        {
          "output_type": "error",
          "ename": "AttributeError",
          "evalue": "ignored",
          "traceback": [
            "\u001b[0;31m---------------------------------------------------------------------------\u001b[0m",
            "\u001b[0;31mAttributeError\u001b[0m                            Traceback (most recent call last)",
            "\u001b[0;32m<ipython-input-178-ddfa436ea2ec>\u001b[0m in \u001b[0;36m<module>\u001b[0;34m()\u001b[0m\n\u001b[1;32m      2\u001b[0m \u001b[0mexample4\u001b[0m \u001b[0;34m=\u001b[0m \u001b[0;34m' 14.5%'\u001b[0m\u001b[0;34m\u001b[0m\u001b[0;34m\u001b[0m\u001b[0m\n\u001b[1;32m      3\u001b[0m \u001b[0;34m\u001b[0m\u001b[0m\n\u001b[0;32m----> 4\u001b[0;31m \u001b[0mprint\u001b[0m\u001b[0;34m(\u001b[0m\u001b[0mrevol_util_2_float\u001b[0m\u001b[0;34m(\u001b[0m\u001b[0mexample3\u001b[0m\u001b[0;34m)\u001b[0m\u001b[0;34m)\u001b[0m\u001b[0;34m\u001b[0m\u001b[0;34m\u001b[0m\u001b[0m\n\u001b[0m\u001b[1;32m      5\u001b[0m \u001b[0mprint\u001b[0m\u001b[0;34m(\u001b[0m\u001b[0mrevol_util_2_float\u001b[0m\u001b[0;34m(\u001b[0m\u001b[0mexample4\u001b[0m\u001b[0;34m)\u001b[0m\u001b[0;34m)\u001b[0m\u001b[0;34m\u001b[0m\u001b[0;34m\u001b[0m\u001b[0m\n",
            "\u001b[0;32m<ipython-input-177-698dfb0f5095>\u001b[0m in \u001b[0;36mrevol_util_2_float\u001b[0;34m(mystring)\u001b[0m\n\u001b[1;32m      3\u001b[0m     \u001b[0;32mreturn\u001b[0m \u001b[0;36m0.0\u001b[0m\u001b[0;34m\u001b[0m\u001b[0;34m\u001b[0m\u001b[0m\n\u001b[1;32m      4\u001b[0m   \u001b[0;32melse\u001b[0m\u001b[0;34m:\u001b[0m\u001b[0;34m\u001b[0m\u001b[0;34m\u001b[0m\u001b[0m\n\u001b[0;32m----> 5\u001b[0;31m     \u001b[0;32mreturn\u001b[0m\u001b[0;34m(\u001b[0m\u001b[0mfloat\u001b[0m\u001b[0;34m(\u001b[0m\u001b[0mmystring\u001b[0m\u001b[0;34m.\u001b[0m\u001b[0mstrip\u001b[0m\u001b[0;34m(\u001b[0m\u001b[0;34m)\u001b[0m\u001b[0;34m.\u001b[0m\u001b[0mstrip\u001b[0m\u001b[0;34m(\u001b[0m\u001b[0;34m'%'\u001b[0m\u001b[0;34m)\u001b[0m\u001b[0;34m)\u001b[0m\u001b[0;34m)\u001b[0m\u001b[0;34m\u001b[0m\u001b[0;34m\u001b[0m\u001b[0m\n\u001b[0m",
            "\u001b[0;31mAttributeError\u001b[0m: 'float' object has no attribute 'strip'"
          ]
        }
      ]
    },
    {
      "cell_type": "code",
      "metadata": {
        "id": "uvVx9v3mgjsS",
        "colab_type": "code",
        "colab": {}
      },
      "source": [
        "#Not working but time is up I will come back to this another time"
      ],
      "execution_count": 0,
      "outputs": []
    },
    {
      "cell_type": "code",
      "metadata": {
        "id": "AYtfgFS0eXxJ",
        "colab_type": "code",
        "colab": {}
      },
      "source": [
        "# run this once I get it working\n",
        "df['revol_util_clean'] = df['revol_util'].apply(int_rate_2_float)\n",
        "df.columns"
      ],
      "execution_count": 0,
      "outputs": []
    },
    {
      "cell_type": "markdown",
      "metadata": {
        "colab_type": "text",
        "id": "0_7PXF7lpEXg"
      },
      "source": [
        "You can uncomment and run the cells below to re-download and extract the Instacart data"
      ]
    },
    {
      "cell_type": "code",
      "metadata": {
        "id": "urIePNa0yNG6",
        "colab_type": "code",
        "colab": {}
      },
      "source": [
        "# !wget https://s3.amazonaws.com/instacart-datasets/instacart_online_grocery_shopping_2017_05_01.tar.gz"
      ],
      "execution_count": 0,
      "outputs": []
    },
    {
      "cell_type": "code",
      "metadata": {
        "id": "X9zEyu-uyNG8",
        "colab_type": "code",
        "colab": {}
      },
      "source": [
        "# !tar --gunzip --extract --verbose --file=instacart_online_grocery_shopping_2017_05_01.tar.gz"
      ],
      "execution_count": 0,
      "outputs": []
    },
    {
      "cell_type": "code",
      "metadata": {
        "id": "Y3IqrhlpyNG-",
        "colab_type": "code",
        "colab": {}
      },
      "source": [
        "# %cd instacart_2017_05_01"
      ],
      "execution_count": 0,
      "outputs": []
    }
  ]
}