{
  "nbformat": 4,
  "nbformat_minor": 0,
  "metadata": {
    "colab": {
      "name": "LS_DS_112_Make_Features_Assignment_AG.ipynb",
      "provenance": [],
      "collapsed_sections": []
    },
    "kernelspec": {
      "display_name": "Python 3",
      "language": "python",
      "name": "python3"
    },
    "language_info": {
      "codemirror_mode": {
        "name": "ipython",
        "version": 3
      },
      "file_extension": ".py",
      "mimetype": "text/x-python",
      "name": "python",
      "nbconvert_exporter": "python",
      "pygments_lexer": "ipython3",
      "version": "3.8.8"
    }
  },
  "cells": [
    {
      "cell_type": "markdown",
      "metadata": {
        "id": "RT3wOkos6chA"
      },
      "source": [
        "## Autograded Notebook (Canvas & CodeGrade)\n",
        "\n",
        "This notebook will be automatically graded. It is designed to test your answers and award points for the correct answers. Following the instructions for each Task carefully.\n",
        "\n",
        "### Instructions\n",
        "\n",
        "* **Download this notebook** as you would any other ipynb file\n",
        "* **Upload** to Google Colab or work locally (if you have that set-up)\n",
        "* **Delete `raise NotImplementedError()`**\n",
        "* Write your code in the `# YOUR CODE HERE` space\n",
        "* **Execute** the Test cells that contain `assert` statements - these help you check your work (others contain hidden tests that will be checked when you submit through Canvas)\n",
        "* **Save** your notebook when you are finished\n",
        "* **Download** as a `ipynb` file (if working in Colab)\n",
        "* **Upload** your complete notebook to Canvas (there will be additional instructions in Slack and/or Canvas)"
      ]
    },
    {
      "cell_type": "markdown",
      "metadata": {
        "id": "7fknoKxGz_jk"
      },
      "source": [
        "# Data Science - Unit 1 Sprint 1 Module 2\n",
        "\n",
        "## Making Features\n",
        "\n",
        "### Module Learning Objectives\n",
        "\n",
        "- Understand the purpose of feature engineering\n",
        "- Work with strings in pandas\n",
        "- Work with dates and times in pandas\n",
        "- Modify or create columns of a dataframe using the `.apply()` function\n",
        "\n",
        "### Resources\n",
        "\n",
        "- Python Data Science Handbook\n",
        "  - [Chapter 3.10](https://jakevdp.github.io/PythonDataScienceHandbook/03.10-working-with-strings.html), Vectorized String Operations - eg. .strip(), .split(), .replace() and list comprehensions\n",
        "  - [Chapter 3.11](https://jakevdp.github.io/PythonDataScienceHandbook/03.11-working-with-time-series.html), Working with Time Series - lots more details about time using and not using Pandas\n",
        "\n",
        "\n",
        "### Notebook points: 11"
      ]
    },
    {
      "cell_type": "markdown",
      "metadata": {
        "id": "LZSXUzBm3yvk"
      },
      "source": [
        "### Introduction\n",
        "\n",
        "This project is going to focus on learning how to create new features from exisiting data. There are many ways to create features in your datasets; we'll only focus on a few here. Let's get started!"
      ]
    },
    {
      "cell_type": "markdown",
      "metadata": {
        "id": "HEiZ9dpkcRsX"
      },
      "source": [
        "**Task 1** - Load the data set\n",
        "\n",
        "* Using the provided URL, load the Ames Housing Data into a DataFrame called `house`\n",
        "* View your DataFrame"
      ]
    },
    {
      "cell_type": "code",
      "metadata": {
        "deletable": false,
        "id": "GHK1_AnhVsh8",
        "nbgrader": {
          "cell_type": "code",
          "checksum": "7a11bf856bacdf7efeb651411907719a",
          "grade": false,
          "grade_id": "cell-604a4cd13da263c1",
          "locked": false,
          "schema_version": 3,
          "solution": true,
          "task": false
        },
        "outputId": "5d6a46be-2058-485a-d174-a5a557a0a785",
        "colab": {
          "base_uri": "https://localhost:8080/"
        }
      },
      "source": [
        "# Task 1\n",
        "\n",
        "# Imports\n",
        "import pandas as pd\n",
        "\n",
        "# Dataset URL\n",
        "\n",
        "data_url = 'https://raw.githubusercontent.com/LambdaSchool/data-science-practice-datasets/main/unit_1/Housing/Ames%20Iowa%20Housing%20Data.csv'\n",
        "\n",
        "# YOUR CODE HERE\n",
        "house = pd.read_csv(data_url)\n",
        "\n",
        "# View your DataFrame\n",
        "print(house)\n",
        "print()\n",
        "\n",
        "print( house.isnull().sum()[ (house.isnull().sum() > 0) ] )\n",
        "print()\n",
        "\n",
        "#house.info()\n"
      ],
      "execution_count": 13,
      "outputs": [
        {
          "output_type": "stream",
          "name": "stdout",
          "text": [
            "        Id  MSSubClass MSZoning  ...  SaleType  SaleCondition SalePrice\n",
            "0        1          60       RL  ...        WD         Normal    208500\n",
            "1        2          20       RL  ...        WD         Normal    181500\n",
            "2        3          60       RL  ...        WD         Normal    223500\n",
            "3        4          70       RL  ...        WD        Abnorml    140000\n",
            "4        5          60       RL  ...        WD         Normal    250000\n",
            "...    ...         ...      ...  ...       ...            ...       ...\n",
            "1455  1456          60       RL  ...        WD         Normal    175000\n",
            "1456  1457          20       RL  ...        WD         Normal    210000\n",
            "1457  1458          70       RL  ...        WD         Normal    266500\n",
            "1458  1459          20       RL  ...        WD         Normal    142125\n",
            "1459  1460          20       RL  ...        WD         Normal    147500\n",
            "\n",
            "[1460 rows x 81 columns]\n",
            "\n",
            "LotFrontage      259\n",
            "Alley           1369\n",
            "MasVnrType         8\n",
            "MasVnrArea         8\n",
            "BsmtQual          37\n",
            "BsmtCond          37\n",
            "BsmtExposure      38\n",
            "BsmtFinType1      37\n",
            "BsmtFinType2      38\n",
            "Electrical         1\n",
            "FireplaceQu      690\n",
            "GarageType        81\n",
            "GarageYrBlt       81\n",
            "GarageFinish      81\n",
            "GarageQual        81\n",
            "GarageCond        81\n",
            "PoolQC          1453\n",
            "Fence           1179\n",
            "MiscFeature     1406\n",
            "dtype: int64\n",
            "\n"
          ]
        }
      ]
    },
    {
      "cell_type": "markdown",
      "metadata": {
        "id": "0foQpPZmcRsY"
      },
      "source": [
        "**Task 1 Test**"
      ]
    },
    {
      "cell_type": "code",
      "metadata": {
        "deletable": false,
        "editable": false,
        "id": "rOnKHd9OcRsY",
        "nbgrader": {
          "cell_type": "code",
          "checksum": "862a67ed985b5fabe236e26724f65cae",
          "grade": true,
          "grade_id": "cell-4be6ce6f2ae0213b",
          "locked": true,
          "points": 1,
          "schema_version": 3,
          "solution": false,
          "task": false
        }
      },
      "source": [
        "# Task 1 - Test\n",
        "\n",
        "# These tests are for you to check your work before submitting\n",
        "assert isinstance(house, pd.DataFrame), 'Have you created a DataFrame named house?'\n",
        "\n",
        "# Hidden tests - you'll see results when you submit to Canvas"
      ],
      "execution_count": 14,
      "outputs": []
    },
    {
      "cell_type": "markdown",
      "metadata": {
        "id": "3MiNr26QcRsY"
      },
      "source": [
        "**Task 2** - Create a new feature\n",
        "\n",
        "Now that we have the data loaded, we're going to create a new feature. We can use the some of the existing features, in this case, the total number of bathrooms in one column.\n",
        "\n",
        "* Create a new variable called `Total_Bathrooms` that contains the total number of full and half bathrooms in the house.  \n",
        "\n",
        "*Hint: Identify all the columns with bath in the title and add their values together. There are four columns to add together.  Add one to the total for each full or half bathroom.*"
      ]
    },
    {
      "cell_type": "code",
      "metadata": {
        "deletable": false,
        "id": "abW4ju7scRsZ",
        "nbgrader": {
          "cell_type": "code",
          "checksum": "4b44666800833a50fdd72ff9bfe83477",
          "grade": false,
          "grade_id": "cell-98808d8ac7de9a36",
          "locked": false,
          "schema_version": 3,
          "solution": true,
          "task": false
        },
        "outputId": "1a14e504-8973-45d0-84dd-0d7da2b4ddf9",
        "colab": {
          "base_uri": "https://localhost:8080/"
        }
      },
      "source": [
        "# Task 2\n",
        "\n",
        "# YOUR CODE HERE\n",
        "house['Total_Bathrooms'] = house['FullBath'] + house['HalfBath']\n",
        "print(house['Total_Bathrooms'])"
      ],
      "execution_count": 17,
      "outputs": [
        {
          "output_type": "stream",
          "name": "stdout",
          "text": [
            "0       3\n",
            "1       2\n",
            "2       3\n",
            "3       1\n",
            "4       3\n",
            "       ..\n",
            "1455    3\n",
            "1456    2\n",
            "1457    2\n",
            "1458    1\n",
            "1459    2\n",
            "Name: Total_Bathrooms, Length: 1460, dtype: int64\n"
          ]
        }
      ]
    },
    {
      "cell_type": "markdown",
      "metadata": {
        "id": "1OwdxrCpcRsZ"
      },
      "source": [
        "**Task 2 Test**"
      ]
    },
    {
      "cell_type": "code",
      "metadata": {
        "deletable": false,
        "editable": false,
        "id": "N6jHujrScRsZ",
        "nbgrader": {
          "cell_type": "code",
          "checksum": "093af0e8e6677cdbd6f1239e2d394513",
          "grade": true,
          "grade_id": "cell-f9c97fbd0846aa11",
          "locked": true,
          "points": 1,
          "schema_version": 3,
          "solution": false,
          "task": false
        },
        "outputId": "70e45c8e-90dd-4aa8-a660-b52c5675409d",
        "colab": {
          "base_uri": "https://localhost:8080/",
          "height": 204
        }
      },
      "source": [
        "# Task 2 - Test\n",
        "\n",
        "assert 'Total_Bathrooms' in house.columns, 'Did you add the new column?'\n",
        "\n",
        "# Hidden tests - you'll see results when you submit to Canvas\n",
        "\n",
        "# View all the bathroom columns\n",
        "house[['Total_Bathrooms','BsmtFullBath','BsmtHalfBath','FullBath','HalfBath']].head()"
      ],
      "execution_count": 18,
      "outputs": [
        {
          "output_type": "execute_result",
          "data": {
            "text/html": [
              "<div>\n",
              "<style scoped>\n",
              "    .dataframe tbody tr th:only-of-type {\n",
              "        vertical-align: middle;\n",
              "    }\n",
              "\n",
              "    .dataframe tbody tr th {\n",
              "        vertical-align: top;\n",
              "    }\n",
              "\n",
              "    .dataframe thead th {\n",
              "        text-align: right;\n",
              "    }\n",
              "</style>\n",
              "<table border=\"1\" class=\"dataframe\">\n",
              "  <thead>\n",
              "    <tr style=\"text-align: right;\">\n",
              "      <th></th>\n",
              "      <th>Total_Bathrooms</th>\n",
              "      <th>BsmtFullBath</th>\n",
              "      <th>BsmtHalfBath</th>\n",
              "      <th>FullBath</th>\n",
              "      <th>HalfBath</th>\n",
              "    </tr>\n",
              "  </thead>\n",
              "  <tbody>\n",
              "    <tr>\n",
              "      <th>0</th>\n",
              "      <td>3</td>\n",
              "      <td>1</td>\n",
              "      <td>0</td>\n",
              "      <td>2</td>\n",
              "      <td>1</td>\n",
              "    </tr>\n",
              "    <tr>\n",
              "      <th>1</th>\n",
              "      <td>2</td>\n",
              "      <td>0</td>\n",
              "      <td>1</td>\n",
              "      <td>2</td>\n",
              "      <td>0</td>\n",
              "    </tr>\n",
              "    <tr>\n",
              "      <th>2</th>\n",
              "      <td>3</td>\n",
              "      <td>1</td>\n",
              "      <td>0</td>\n",
              "      <td>2</td>\n",
              "      <td>1</td>\n",
              "    </tr>\n",
              "    <tr>\n",
              "      <th>3</th>\n",
              "      <td>1</td>\n",
              "      <td>1</td>\n",
              "      <td>0</td>\n",
              "      <td>1</td>\n",
              "      <td>0</td>\n",
              "    </tr>\n",
              "    <tr>\n",
              "      <th>4</th>\n",
              "      <td>3</td>\n",
              "      <td>1</td>\n",
              "      <td>0</td>\n",
              "      <td>2</td>\n",
              "      <td>1</td>\n",
              "    </tr>\n",
              "  </tbody>\n",
              "</table>\n",
              "</div>"
            ],
            "text/plain": [
              "   Total_Bathrooms  BsmtFullBath  BsmtHalfBath  FullBath  HalfBath\n",
              "0                3             1             0         2         1\n",
              "1                2             0             1         2         0\n",
              "2                3             1             0         2         1\n",
              "3                1             1             0         1         0\n",
              "4                3             1             0         2         1"
            ]
          },
          "metadata": {},
          "execution_count": 18
        }
      ]
    },
    {
      "cell_type": "markdown",
      "metadata": {
        "id": "s1T9P_I0XJqa"
      },
      "source": [
        "**Task 3** - Create a new feature using encoding\n",
        "\n",
        "Next we're going to create another new column by \"encoding\" an exisitng column. Using the `LotArea` column, we'll assign values according the the area of the lot.\n",
        "\n",
        "* Create a new column called `Large_Lot` that takes on the following values:\n",
        "    * 0 when `LotArea` is **less** than 10,000\n",
        "    * 1 when `LotArea` is **greater than or equal** to 10,000"
      ]
    },
    {
      "cell_type": "code",
      "metadata": {
        "deletable": false,
        "id": "ud09Dy0zreRB",
        "nbgrader": {
          "cell_type": "code",
          "checksum": "2169d6a1299d1df3b06f61755cf8c7fa",
          "grade": false,
          "grade_id": "cell-baf76e10fc75872a",
          "locked": false,
          "schema_version": 3,
          "solution": true,
          "task": false
        },
        "outputId": "66f4a8ae-6fb2-4cf4-f9a1-6b0b8d8d9a7b",
        "colab": {
          "base_uri": "https://localhost:8080/",
          "height": 419
        }
      },
      "source": [
        "# Task 3\n",
        "\n",
        "# YOUR CODE HERE\n",
        "house.loc[house['LotArea'] < 10000, \"Large_Lot\"] = 0\n",
        "house.loc[house['LotArea'] > 10000, \"Large_Lot\"] = 1\n",
        "\n",
        "# View the new column\n",
        "house[['LotArea', 'Large_Lot']]"
      ],
      "execution_count": 20,
      "outputs": [
        {
          "output_type": "execute_result",
          "data": {
            "text/html": [
              "<div>\n",
              "<style scoped>\n",
              "    .dataframe tbody tr th:only-of-type {\n",
              "        vertical-align: middle;\n",
              "    }\n",
              "\n",
              "    .dataframe tbody tr th {\n",
              "        vertical-align: top;\n",
              "    }\n",
              "\n",
              "    .dataframe thead th {\n",
              "        text-align: right;\n",
              "    }\n",
              "</style>\n",
              "<table border=\"1\" class=\"dataframe\">\n",
              "  <thead>\n",
              "    <tr style=\"text-align: right;\">\n",
              "      <th></th>\n",
              "      <th>LotArea</th>\n",
              "      <th>Large_Lot</th>\n",
              "    </tr>\n",
              "  </thead>\n",
              "  <tbody>\n",
              "    <tr>\n",
              "      <th>0</th>\n",
              "      <td>8450</td>\n",
              "      <td>0.0</td>\n",
              "    </tr>\n",
              "    <tr>\n",
              "      <th>1</th>\n",
              "      <td>9600</td>\n",
              "      <td>0.0</td>\n",
              "    </tr>\n",
              "    <tr>\n",
              "      <th>2</th>\n",
              "      <td>11250</td>\n",
              "      <td>1.0</td>\n",
              "    </tr>\n",
              "    <tr>\n",
              "      <th>3</th>\n",
              "      <td>9550</td>\n",
              "      <td>0.0</td>\n",
              "    </tr>\n",
              "    <tr>\n",
              "      <th>4</th>\n",
              "      <td>14260</td>\n",
              "      <td>1.0</td>\n",
              "    </tr>\n",
              "    <tr>\n",
              "      <th>...</th>\n",
              "      <td>...</td>\n",
              "      <td>...</td>\n",
              "    </tr>\n",
              "    <tr>\n",
              "      <th>1455</th>\n",
              "      <td>7917</td>\n",
              "      <td>0.0</td>\n",
              "    </tr>\n",
              "    <tr>\n",
              "      <th>1456</th>\n",
              "      <td>13175</td>\n",
              "      <td>1.0</td>\n",
              "    </tr>\n",
              "    <tr>\n",
              "      <th>1457</th>\n",
              "      <td>9042</td>\n",
              "      <td>0.0</td>\n",
              "    </tr>\n",
              "    <tr>\n",
              "      <th>1458</th>\n",
              "      <td>9717</td>\n",
              "      <td>0.0</td>\n",
              "    </tr>\n",
              "    <tr>\n",
              "      <th>1459</th>\n",
              "      <td>9937</td>\n",
              "      <td>0.0</td>\n",
              "    </tr>\n",
              "  </tbody>\n",
              "</table>\n",
              "<p>1460 rows × 2 columns</p>\n",
              "</div>"
            ],
            "text/plain": [
              "      LotArea  Large_Lot\n",
              "0        8450        0.0\n",
              "1        9600        0.0\n",
              "2       11250        1.0\n",
              "3        9550        0.0\n",
              "4       14260        1.0\n",
              "...       ...        ...\n",
              "1455     7917        0.0\n",
              "1456    13175        1.0\n",
              "1457     9042        0.0\n",
              "1458     9717        0.0\n",
              "1459     9937        0.0\n",
              "\n",
              "[1460 rows x 2 columns]"
            ]
          },
          "metadata": {},
          "execution_count": 20
        }
      ]
    },
    {
      "cell_type": "markdown",
      "metadata": {
        "id": "vwEhAoH1cRsa"
      },
      "source": [
        "**Task 3 Test**"
      ]
    },
    {
      "cell_type": "code",
      "metadata": {
        "deletable": false,
        "editable": false,
        "id": "8NQ7oBzKcRsa",
        "nbgrader": {
          "cell_type": "code",
          "checksum": "f995a23669cfb8800b807917cea5c6d4",
          "grade": true,
          "grade_id": "cell-dc861d3d6dbf7bec",
          "locked": true,
          "points": 1,
          "schema_version": 3,
          "solution": false,
          "task": false
        }
      },
      "source": [
        "# Task 3 - Test\n",
        "\n",
        "assert 'Large_Lot' in house.columns, 'Did you add the Large_Lot column?'\n",
        "\n",
        "# Hidden tests - you'll see results when you submit to Canvas"
      ],
      "execution_count": 21,
      "outputs": []
    },
    {
      "cell_type": "markdown",
      "metadata": {
        "id": "bnh-uoqYN29Q"
      },
      "source": [
        "**Task 4** - Create another feature\n",
        "\n",
        "Let's continue with creating new features. This time, we'll focus on encoding for the sale month.\n",
        "\n",
        "* Create a new column called `Summer_Sale` that takes on the following values:\n",
        "    * 0 if the sale month was in September - May (`ModSold` = 1-5, 9-12)\n",
        "    * 1 if the sale month was in June, July or August (`MoSold` = 6, 7 or 8)"
      ]
    },
    {
      "cell_type": "code",
      "metadata": {
        "deletable": false,
        "id": "3oHxB9JecRsb",
        "nbgrader": {
          "cell_type": "code",
          "checksum": "ea6c24c4077f091262db848c37ccf650",
          "grade": false,
          "grade_id": "cell-077200eae8a405e2",
          "locked": false,
          "schema_version": 3,
          "solution": true,
          "task": false
        },
        "outputId": "4ed3bc60-8a50-4982-e9c3-5dfb82958b48",
        "colab": {
          "base_uri": "https://localhost:8080/"
        }
      },
      "source": [
        "# Task 4\n",
        "\n",
        "# YOUR CODE HERE\n",
        "house['Summer_Sale'] = 1\n",
        "house.loc[(house['MoSold'] < 6) | (house['MoSold'] > 8), \"Summer_Sale\"] = 0\n",
        "\n",
        "\n",
        "# View the new column\n",
        "#print(house[['MoSold', 'Summer_Sale']])\n",
        "\n",
        "\n",
        "#All DataFrame Rows meeting both summer conditions\n",
        "summer_sales = house.loc[(house['MoSold'] > 5) & (house['MoSold'] < 9)]\n",
        "\n",
        "#Only the month columns for that DataFrame\n",
        "print(summer_sales[['MoSold', 'Summer_Sale']])"
      ],
      "execution_count": 29,
      "outputs": [
        {
          "output_type": "stream",
          "name": "stdout",
          "text": [
            "      MoSold  Summer_Sale\n",
            "6          8            1\n",
            "11         7            1\n",
            "13         8            1\n",
            "15         7            1\n",
            "18         6            1\n",
            "...      ...          ...\n",
            "1435       7            1\n",
            "1449       8            1\n",
            "1453       7            1\n",
            "1455       8            1\n",
            "1459       6            1\n",
            "\n",
            "[609 rows x 2 columns]\n"
          ]
        }
      ]
    },
    {
      "cell_type": "markdown",
      "metadata": {
        "id": "-g9YtACzcRsb"
      },
      "source": [
        "**Task 4 Test**"
      ]
    },
    {
      "cell_type": "code",
      "metadata": {
        "deletable": false,
        "editable": false,
        "id": "WvJbX9WJcRsb",
        "nbgrader": {
          "cell_type": "code",
          "checksum": "f376221e60d262c6ce30a843590c5d46",
          "grade": true,
          "grade_id": "cell-7df13700c084fe99",
          "locked": true,
          "points": 1,
          "schema_version": 3,
          "solution": false,
          "task": false
        }
      },
      "source": [
        "# Task 4 - Test\n",
        "\n",
        "assert 'Summer_Sale' in house.columns, 'Did you add the Summer_Sale column?'\n",
        "\n",
        "# Hidden tests - you'll see results when you submit to Canvas"
      ],
      "execution_count": 30,
      "outputs": []
    },
    {
      "cell_type": "markdown",
      "metadata": {
        "id": "B_9CTa2QYcpu"
      },
      "source": [
        "**Task 5**\n",
        "\n",
        "Now we'll revisit the LendingClub data. The statements to import the `loans` DataFrame have been provided for you.  Run the code block below without changing anything to load the `loans` data.\n",
        "\n",
        "* Load the data into a DataFrame called `loans`.\n",
        "* Make sure to view the `loans` DataFrame to see what data we're working with."
      ]
    },
    {
      "cell_type": "code",
      "metadata": {
        "deletable": false,
        "id": "ZlXycTiAcRsc",
        "nbgrader": {
          "cell_type": "code",
          "checksum": "e0d44b4275613a840e87fd51c2afa266",
          "grade": false,
          "grade_id": "cell-a03fb13afedb44b5",
          "locked": false,
          "schema_version": 3,
          "solution": true,
          "task": false
        },
        "outputId": "2db5b010-17c1-4258-a9b4-cbb404c47d3d",
        "colab": {
          "base_uri": "https://localhost:8080/"
        }
      },
      "source": [
        "# Task 5\n",
        "\n",
        "# Dataset URL\n",
        "\n",
        "# Dataset URL\n",
        "loans_data = 'https://raw.githubusercontent.com/LambdaSchool/data-science-practice-datasets/main/unit_1/LendingClub/LoanStats_2018Q4_sm.csv'\n",
        "\n",
        "# YOUR CODE HERE\n",
        "loans = pd.read_csv(loans_data)\n",
        "\n",
        "# View the dataset!\n",
        "print(loans['earliest_cr_line'])"
      ],
      "execution_count": 35,
      "outputs": [
        {
          "output_type": "stream",
          "name": "stdout",
          "text": [
            "0        Oct-1998\n",
            "1        Sep-2015\n",
            "2        Jun-2003\n",
            "3        Feb-2005\n",
            "4        Feb-2008\n",
            "           ...   \n",
            "29995    Jan-2000\n",
            "29996    Sep-1985\n",
            "29997    Dec-2007\n",
            "29998    Apr-2008\n",
            "29999    Apr-1991\n",
            "Name: earliest_cr_line, Length: 30000, dtype: object\n"
          ]
        }
      ]
    },
    {
      "cell_type": "markdown",
      "metadata": {
        "id": "sQnzQAZrcRsc"
      },
      "source": [
        "**Tast 5 Test**"
      ]
    },
    {
      "cell_type": "code",
      "metadata": {
        "deletable": false,
        "editable": false,
        "id": "kMyyAyAZcRsc",
        "nbgrader": {
          "cell_type": "code",
          "checksum": "8778b4b25a3faf54fc16085292c5f93f",
          "grade": true,
          "grade_id": "cell-365203eb4c6651fd",
          "locked": true,
          "points": 1,
          "schema_version": 3,
          "solution": false,
          "task": false
        }
      },
      "source": [
        "# Task 5 - Test\n",
        "\n",
        "assert isinstance(loans, pd.DataFrame), 'Have you created a DataFrame named loans?'\n",
        "assert loans.shape == (30000, 144), 'Double check your DataFrame size.'\n",
        "\n",
        "# NO hidden tests for this task"
      ],
      "execution_count": 32,
      "outputs": []
    },
    {
      "cell_type": "markdown",
      "metadata": {
        "id": "qnT_KD-MhLfg"
      },
      "source": [
        "**Introduction** - Approaching a problem two different ways.\n",
        "\n",
        "In the Guided Project, we learned how to find the earliest credit year using the built-in date-time format.  However, there is often more than one way to come up with the same solution.  \n",
        "\n",
        "In the following questions, we will work through the steps to create new variables called `Earliest_Credit_Year` and `issue_year` where we use the `.split()` function to split on the month and year in a string variable, and return just the year value. We can then use those variables to calculate the length of credit history in years.  \n",
        "\n",
        "If we do everything correctly, we should calculate *about* the same length of longest credit history that we did in class working with the date-time format.  The answers won't exactly match because we are making different assumptions about when in each month and year the loans were taken out, but it will give you a flavor for different ways of approaching the same problem."
      ]
    },
    {
      "cell_type": "markdown",
      "metadata": {
        "id": "Lx0kHSTFhoKj"
      },
      "source": [
        "**Task 6** - Create a simple test case\n",
        "\n",
        "The `credit` variable has been created for you with the value 'Jun-1979'\n",
        "\n",
        "* Use the `.split('-')` function to separate the month and year parts of the data.\n",
        "* Name the results of the .split('-') function `fields`: \n",
        "    * assign `fields[0]` to the variable `month`\n",
        "    * assign `fields[1]` to the variable `year`"
      ]
    },
    {
      "cell_type": "code",
      "metadata": {
        "deletable": false,
        "id": "y80jf99GaKsL",
        "nbgrader": {
          "cell_type": "code",
          "checksum": "f119acd233e67660a97cac257a43f19b",
          "grade": false,
          "grade_id": "cell-2e0e85d026ef0577",
          "locked": false,
          "schema_version": 3,
          "solution": true,
          "task": false
        },
        "outputId": "bb108c4a-04e5-45e7-9d81-807fe39bb002",
        "colab": {
          "base_uri": "https://localhost:8080/"
        }
      },
      "source": [
        "# Task 6\n",
        "\n",
        "# Don't change or delete\n",
        "credit = 'Jun-1979' \n",
        "\n",
        "# YOUR CODE HERE\n",
        "fields = credit.split('-')\n",
        "month = fields[0]\n",
        "year = fields[1]\n",
        "\n",
        "# Look at the year variable both as a string and as a float\n",
        "print('String: ', year)\n",
        "print('Float: ', float(year))"
      ],
      "execution_count": 37,
      "outputs": [
        {
          "output_type": "stream",
          "name": "stdout",
          "text": [
            "String:  1979\n",
            "Float:  1979.0\n"
          ]
        }
      ]
    },
    {
      "cell_type": "markdown",
      "metadata": {
        "id": "hScLOlxAcRse"
      },
      "source": [
        "**Task 6 Test**"
      ]
    },
    {
      "cell_type": "code",
      "metadata": {
        "deletable": false,
        "editable": false,
        "id": "VkMqAQcCcRse",
        "nbgrader": {
          "cell_type": "code",
          "checksum": "5fbe2cfd02715641fbf21a4b319a9b16",
          "grade": true,
          "grade_id": "cell-95ad43446cc5faaa",
          "locked": true,
          "points": 1,
          "schema_version": 3,
          "solution": false,
          "task": false
        }
      },
      "source": [
        "# Task 6 - Test\n",
        "\n",
        "# Hidden tests - you'll see results when you submit to Canvas"
      ],
      "execution_count": null,
      "outputs": []
    },
    {
      "cell_type": "markdown",
      "metadata": {
        "id": "TtC6exPui9y4"
      },
      "source": [
        "**Task 7** - Create a function\n",
        "\n",
        "Use your answer from **Task 6** to write a function called `credit_yr` that takes in the contents of a cell that is formatted as \"month-year\" and returns the year.\n",
        "\n",
        "* Complete the definition of the function `credit_yr` below:\n",
        "    * one argument `cell_contents` as input (provided for you)\n",
        "    * splits the `cell_content` on a `-` and calls the result `fields`\n",
        "    * creates the variable `year` which has the value `fields[1]`\n",
        "    * returns `year` as a float variable\n",
        "* Run your function using the simple test case in Task 6 (`credit='Jun-1979'`). Assign the output of the function to the variable `year_function`."
      ]
    },
    {
      "cell_type": "code",
      "metadata": {
        "deletable": false,
        "id": "dtF2-tjogC6J",
        "nbgrader": {
          "cell_type": "code",
          "checksum": "9d5cceb4eb91cd83d0eb1ad0310bdc0e",
          "grade": false,
          "grade_id": "cell-67705c48e95b83db",
          "locked": false,
          "schema_version": 3,
          "solution": true,
          "task": false
        },
        "outputId": "7b9966b0-1033-4012-bc4e-b83df2360a65",
        "colab": {
          "base_uri": "https://localhost:8080/"
        }
      },
      "source": [
        "# Task 7\n",
        "\n",
        "# Complete the function definition\n",
        "def credit_yr(cell_contents):\n",
        "  fields = cell_contents.split('-')\n",
        "  year = fields[1]\n",
        "  return float(year)\n",
        "\n",
        "# Print your year_function variable\n",
        "year_function = credit_yr(credit)\n",
        "print(year_function)"
      ],
      "execution_count": 41,
      "outputs": [
        {
          "output_type": "stream",
          "name": "stdout",
          "text": [
            "1979.0\n"
          ]
        }
      ]
    },
    {
      "cell_type": "markdown",
      "metadata": {
        "id": "-bQ0sYPVcRsf"
      },
      "source": [
        "**Task 7 Test**"
      ]
    },
    {
      "cell_type": "code",
      "metadata": {
        "deletable": false,
        "editable": false,
        "id": "nea_V08lcRsf",
        "nbgrader": {
          "cell_type": "code",
          "checksum": "c0208e15b36760d1a1d0d0ea94bacda0",
          "grade": true,
          "grade_id": "cell-e850dcb0651cdf47",
          "locked": true,
          "points": 1,
          "schema_version": 3,
          "solution": false,
          "task": false
        }
      },
      "source": [
        "# Task 7 - Test\n",
        "\n",
        "assert isinstance(year_function, float), 'Make sure your year variable is a float!'\n",
        "\n",
        "# Hidden tests - you'll see results when you submit to Canvas"
      ],
      "execution_count": 42,
      "outputs": []
    },
    {
      "cell_type": "markdown",
      "metadata": {
        "id": "a1XVfTOIjfrW"
      },
      "source": [
        "**Task 8** - Apply our function\n",
        "\n",
        "Now we're going to use the function we created and apply it to a column in our `loans` DataFrame. \n",
        "\n",
        "* Use the `.apply()` function to apply the function to every cell in the `earliest_cr_line` column.\n",
        "* Assign the results to a new column called `Earliest_Credit_Year`.\n",
        "* View the top five rows of the `Earliest_Credit_Year` and `earliest_cr_line` columns to make sure the variables were created correctly (code provided for you)."
      ]
    },
    {
      "cell_type": "code",
      "metadata": {
        "deletable": false,
        "id": "lZhlULhykCB_",
        "nbgrader": {
          "cell_type": "code",
          "checksum": "06a8503a192be83061e085a9462c9faf",
          "grade": false,
          "grade_id": "cell-190721b22d999b13",
          "locked": false,
          "schema_version": 3,
          "solution": true,
          "task": false
        },
        "outputId": "d7b5859a-2dfb-4cec-e772-df778b49a699",
        "colab": {
          "base_uri": "https://localhost:8080/"
        }
      },
      "source": [
        "# Task 8\n",
        "\n",
        "loans = loans.copy()\n",
        "\n",
        "# YOUR CODE HERE\n",
        "loans['Earliest_Credit_Year'] = loans['earliest_cr_line'].apply(credit_yr)\n",
        "\n",
        "# Print your columns\n",
        "print(loans[['Earliest_Credit_Year','earliest_cr_line']])"
      ],
      "execution_count": 45,
      "outputs": [
        {
          "output_type": "stream",
          "name": "stdout",
          "text": [
            "       Earliest_Credit_Year earliest_cr_line\n",
            "0                    1998.0         Oct-1998\n",
            "1                    2015.0         Sep-2015\n",
            "2                    2003.0         Jun-2003\n",
            "3                    2005.0         Feb-2005\n",
            "4                    2008.0         Feb-2008\n",
            "...                     ...              ...\n",
            "29995                2000.0         Jan-2000\n",
            "29996                1985.0         Sep-1985\n",
            "29997                2007.0         Dec-2007\n",
            "29998                2008.0         Apr-2008\n",
            "29999                1991.0         Apr-1991\n",
            "\n",
            "[30000 rows x 2 columns]\n"
          ]
        }
      ]
    },
    {
      "cell_type": "markdown",
      "metadata": {
        "id": "KW3dvjORcRsg"
      },
      "source": [
        "**Task 8 Test**"
      ]
    },
    {
      "cell_type": "code",
      "metadata": {
        "deletable": false,
        "editable": false,
        "id": "sBJQDUJxcRsg",
        "nbgrader": {
          "cell_type": "code",
          "checksum": "5922454ea6c43cbed0d38b36295f006c",
          "grade": true,
          "grade_id": "cell-1c6181c54ca22ae6",
          "locked": true,
          "points": 1,
          "schema_version": 3,
          "solution": false,
          "task": false
        }
      },
      "source": [
        "# Task 8 - Test\n",
        "\n",
        "assert 'Earliest_Credit_Year' in loans.columns, 'Did you add the \"Earliest_Credit_Year\" column?'\n",
        "assert loans.shape == (30000, 145), 'Double check your DataFrame size.'\n",
        "\n",
        "# Hidden tests - you'll see results when you submit to Canvas"
      ],
      "execution_count": 46,
      "outputs": []
    },
    {
      "cell_type": "markdown",
      "metadata": {
        "id": "w5vb0vQjg3Sj"
      },
      "source": [
        "**Task 9** - Apply the function to a new column\n",
        "\n",
        "So next, we're going to use the `credit_yr` function to create a new variable called `Issue_Year` from the `issue_d` variable. Follow the sames steps as you did in Task 8.\n",
        "\n",
        "* Apply `credit_yr` to the `issue_d` column.\n",
        "* Name your new column `Issue_Year`.\n",
        "* View the `Issue_Year`,`issue_d` columns (code provided for you)."
      ]
    },
    {
      "cell_type": "code",
      "metadata": {
        "deletable": false,
        "id": "5sIn85mbg1pw",
        "nbgrader": {
          "cell_type": "code",
          "checksum": "203c38c6d3020749d9460f27b3d73f2e",
          "grade": false,
          "grade_id": "cell-b31b3dfe0d069095",
          "locked": false,
          "schema_version": 3,
          "solution": true,
          "task": false
        },
        "outputId": "bf79d39a-e7bf-41ee-c15d-be50c89dfe18",
        "colab": {
          "base_uri": "https://localhost:8080/"
        }
      },
      "source": [
        "# Task 9\n",
        "\n",
        "# YOUR CODE HERE\n",
        "loans['Issue_Year'] = loans['issue_d'].apply(credit_yr)\n",
        "\n",
        "# Print your columns\n",
        "print(loans[['Issue_Year','issue_d']])"
      ],
      "execution_count": 47,
      "outputs": [
        {
          "output_type": "stream",
          "name": "stdout",
          "text": [
            "       Issue_Year   issue_d\n",
            "0          2018.0  Dec-2018\n",
            "1          2018.0  Oct-2018\n",
            "2          2018.0  Oct-2018\n",
            "3          2018.0  Nov-2018\n",
            "4          2018.0  Dec-2018\n",
            "...           ...       ...\n",
            "29995      2018.0  Dec-2018\n",
            "29996      2018.0  Oct-2018\n",
            "29997      2018.0  Oct-2018\n",
            "29998      2018.0  Oct-2018\n",
            "29999      2018.0  Dec-2018\n",
            "\n",
            "[30000 rows x 2 columns]\n"
          ]
        }
      ]
    },
    {
      "cell_type": "markdown",
      "metadata": {
        "id": "Oa__5NeAcRsg"
      },
      "source": [
        "**Task 9**"
      ]
    },
    {
      "cell_type": "code",
      "metadata": {
        "deletable": false,
        "editable": false,
        "id": "hLdmvYJqcRsh",
        "nbgrader": {
          "cell_type": "code",
          "checksum": "d4c482e283b26971356d81e800bb2198",
          "grade": true,
          "grade_id": "cell-1ae1a8aef5f84b70",
          "locked": true,
          "points": 1,
          "schema_version": 3,
          "solution": false,
          "task": false
        }
      },
      "source": [
        "# Task 9 - Test\n",
        "\n",
        "assert 'Issue_Year' in loans.columns, 'Did you add the \"Issue_Year\" column?'\n",
        "assert loans.shape == (30000, 146), 'Double check your DataFrame size.'\n",
        "\n",
        "# Hidden tests - you'll see results when you submit to Canvas"
      ],
      "execution_count": 48,
      "outputs": []
    },
    {
      "cell_type": "markdown",
      "metadata": {
        "id": "iZItgQjQiCh9"
      },
      "source": [
        "**Task 10** - Calculate length of time from your new columns\n",
        "\n",
        "Now we're going to use the two new columns you created to calculate the length of credit history in years and in days.\n",
        "\n",
        "* Create a new column called `Credit_History_Years` which is the difference between `Issue_Year` and `Earliest_Credit_Year`\n",
        "* Create another new column called `Credit_History_Days` which is the value in the column you created above expect multipled by 365.25 to convert years to days.\n",
        "* View the top five rows of the `loans` DataFrame (code has been provided).\n",
        "\n",
        "Hint: If you are getting an error message, make sure to check the data type of the `year` values output by your function."
      ]
    },
    {
      "cell_type": "code",
      "metadata": {
        "deletable": false,
        "id": "0mT7pG9hiTf2",
        "nbgrader": {
          "cell_type": "code",
          "checksum": "024db84343a316dbc1c3ae0cb48307c3",
          "grade": false,
          "grade_id": "cell-2f411113665bb37a",
          "locked": false,
          "schema_version": 3,
          "solution": true,
          "task": false
        },
        "outputId": "53847b31-73dc-4a03-bf7a-1664e2646baf",
        "colab": {
          "base_uri": "https://localhost:8080/",
          "height": 419
        }
      },
      "source": [
        "# Task 10\n",
        "\n",
        "# YOUR CODE HERE\n",
        "loans['Credit_History_Years'] = loans['Issue_Year'] - loans['Earliest_Credit_Year']\n",
        "loans['Credit_History_Days'] = loans['Credit_History_Years'] * 365.25\n",
        "\n",
        "display(loans[['Issue_Year','Earliest_Credit_Year','Credit_History_Years','Credit_History_Days']])"
      ],
      "execution_count": 53,
      "outputs": [
        {
          "output_type": "display_data",
          "data": {
            "text/html": [
              "<div>\n",
              "<style scoped>\n",
              "    .dataframe tbody tr th:only-of-type {\n",
              "        vertical-align: middle;\n",
              "    }\n",
              "\n",
              "    .dataframe tbody tr th {\n",
              "        vertical-align: top;\n",
              "    }\n",
              "\n",
              "    .dataframe thead th {\n",
              "        text-align: right;\n",
              "    }\n",
              "</style>\n",
              "<table border=\"1\" class=\"dataframe\">\n",
              "  <thead>\n",
              "    <tr style=\"text-align: right;\">\n",
              "      <th></th>\n",
              "      <th>Issue_Year</th>\n",
              "      <th>Earliest_Credit_Year</th>\n",
              "      <th>Credit_History_Years</th>\n",
              "      <th>Credit_History_Days</th>\n",
              "    </tr>\n",
              "  </thead>\n",
              "  <tbody>\n",
              "    <tr>\n",
              "      <th>0</th>\n",
              "      <td>2018.0</td>\n",
              "      <td>1998.0</td>\n",
              "      <td>20.0</td>\n",
              "      <td>7305.00</td>\n",
              "    </tr>\n",
              "    <tr>\n",
              "      <th>1</th>\n",
              "      <td>2018.0</td>\n",
              "      <td>2015.0</td>\n",
              "      <td>3.0</td>\n",
              "      <td>1095.75</td>\n",
              "    </tr>\n",
              "    <tr>\n",
              "      <th>2</th>\n",
              "      <td>2018.0</td>\n",
              "      <td>2003.0</td>\n",
              "      <td>15.0</td>\n",
              "      <td>5478.75</td>\n",
              "    </tr>\n",
              "    <tr>\n",
              "      <th>3</th>\n",
              "      <td>2018.0</td>\n",
              "      <td>2005.0</td>\n",
              "      <td>13.0</td>\n",
              "      <td>4748.25</td>\n",
              "    </tr>\n",
              "    <tr>\n",
              "      <th>4</th>\n",
              "      <td>2018.0</td>\n",
              "      <td>2008.0</td>\n",
              "      <td>10.0</td>\n",
              "      <td>3652.50</td>\n",
              "    </tr>\n",
              "    <tr>\n",
              "      <th>...</th>\n",
              "      <td>...</td>\n",
              "      <td>...</td>\n",
              "      <td>...</td>\n",
              "      <td>...</td>\n",
              "    </tr>\n",
              "    <tr>\n",
              "      <th>29995</th>\n",
              "      <td>2018.0</td>\n",
              "      <td>2000.0</td>\n",
              "      <td>18.0</td>\n",
              "      <td>6574.50</td>\n",
              "    </tr>\n",
              "    <tr>\n",
              "      <th>29996</th>\n",
              "      <td>2018.0</td>\n",
              "      <td>1985.0</td>\n",
              "      <td>33.0</td>\n",
              "      <td>12053.25</td>\n",
              "    </tr>\n",
              "    <tr>\n",
              "      <th>29997</th>\n",
              "      <td>2018.0</td>\n",
              "      <td>2007.0</td>\n",
              "      <td>11.0</td>\n",
              "      <td>4017.75</td>\n",
              "    </tr>\n",
              "    <tr>\n",
              "      <th>29998</th>\n",
              "      <td>2018.0</td>\n",
              "      <td>2008.0</td>\n",
              "      <td>10.0</td>\n",
              "      <td>3652.50</td>\n",
              "    </tr>\n",
              "    <tr>\n",
              "      <th>29999</th>\n",
              "      <td>2018.0</td>\n",
              "      <td>1991.0</td>\n",
              "      <td>27.0</td>\n",
              "      <td>9861.75</td>\n",
              "    </tr>\n",
              "  </tbody>\n",
              "</table>\n",
              "<p>30000 rows × 4 columns</p>\n",
              "</div>"
            ],
            "text/plain": [
              "       Issue_Year  ...  Credit_History_Days\n",
              "0          2018.0  ...              7305.00\n",
              "1          2018.0  ...              1095.75\n",
              "2          2018.0  ...              5478.75\n",
              "3          2018.0  ...              4748.25\n",
              "4          2018.0  ...              3652.50\n",
              "...           ...  ...                  ...\n",
              "29995      2018.0  ...              6574.50\n",
              "29996      2018.0  ...             12053.25\n",
              "29997      2018.0  ...              4017.75\n",
              "29998      2018.0  ...              3652.50\n",
              "29999      2018.0  ...              9861.75\n",
              "\n",
              "[30000 rows x 4 columns]"
            ]
          },
          "metadata": {}
        }
      ]
    },
    {
      "cell_type": "markdown",
      "metadata": {
        "id": "RZ-9Qih6cRsh"
      },
      "source": [
        "**Task 10 Test**"
      ]
    },
    {
      "cell_type": "code",
      "metadata": {
        "deletable": false,
        "editable": false,
        "id": "sd5cWJ7BcRsh",
        "nbgrader": {
          "cell_type": "code",
          "checksum": "7d1deccb8585b3635ebbcd6a50f887df",
          "grade": true,
          "grade_id": "cell-e3694613b297ae85",
          "locked": true,
          "points": 1,
          "schema_version": 3,
          "solution": false,
          "task": false
        }
      },
      "source": [
        "# Task 10 - Test\n",
        "\n",
        "assert 'Credit_History_Years' in loans.columns, 'Did you add the correct column?'\n",
        "assert 'Credit_History_Days' in loans.columns, 'Did you add the correct column converted to days?'\n",
        "assert loans.shape == (30000, 148), 'Double check your DataFrame size.'\n",
        "\n",
        "# Hidden tests - you'll see results when you submit to Canvas"
      ],
      "execution_count": 54,
      "outputs": []
    },
    {
      "cell_type": "markdown",
      "metadata": {
        "id": "PvcOSw9gjUzF"
      },
      "source": [
        "**Task 11** - Calculate the maximum credit length\n",
        "\n",
        "Finally, we're going to use results from the `Credit_History_Years` column and compare it to we got in the Guided Project.\n",
        "\n",
        "* Find the maximum values in the `Credit_History_Years` column and assign it to the variable `max_credit`. Make sure you have a float value defined out to one decimal place.\n",
        "* Compare the the value from the Guided Project (refer to your notebook from class).\n",
        "\n",
        "Note - it won't be *exactly* the same because both methods are working in different ways, but they will give you a \"pretty close\" answer."
      ]
    },
    {
      "cell_type": "code",
      "metadata": {
        "deletable": false,
        "id": "gmNFZzaQjdQi",
        "nbgrader": {
          "cell_type": "code",
          "checksum": "18f87705debb5f4d4c75be2159796925",
          "grade": false,
          "grade_id": "cell-421ef18e66bbaab0",
          "locked": false,
          "schema_version": 3,
          "solution": true,
          "task": false
        },
        "outputId": "c2b292a9-da89-4d24-c0c3-7fa5f11be2eb",
        "colab": {
          "base_uri": "https://localhost:8080/"
        }
      },
      "source": [
        "# Task 11\n",
        "\n",
        "# YOUR CODE HERE\n",
        "max_credit = loans['Credit_History_Years'].max()\n",
        "print(max_credit)\n",
        "\n",
        "max_credit_index = loans['Credit_History_Years'].sort_values(ascending=False).index[0]\n",
        "\n",
        "print(loans.iloc[max_credit_index][['Issue_Year','Earliest_Credit_Year','Credit_History_Years','Credit_History_Days']])"
      ],
      "execution_count": 66,
      "outputs": [
        {
          "output_type": "stream",
          "name": "stdout",
          "text": [
            "68.0\n",
            "Issue_Year               2018\n",
            "Earliest_Credit_Year     1950\n",
            "Credit_History_Years       68\n",
            "Credit_History_Days     24837\n",
            "Name: 1635, dtype: object\n"
          ]
        }
      ]
    },
    {
      "cell_type": "markdown",
      "metadata": {
        "id": "8v7nvfJHcRsi"
      },
      "source": [
        "**Task 11 Test**"
      ]
    },
    {
      "cell_type": "code",
      "metadata": {
        "deletable": false,
        "editable": false,
        "id": "HtINJWibcRsi",
        "nbgrader": {
          "cell_type": "code",
          "checksum": "6c136ce5c21a864d092273a0ae080725",
          "grade": true,
          "grade_id": "cell-b39de9ca5d93a343",
          "locked": true,
          "points": 1,
          "schema_version": 3,
          "solution": false,
          "task": false
        }
      },
      "source": [
        "# Task 11 - Test\n",
        "\n",
        "# Hidden tests - you'll see results when you submit to Canvas\n"
      ],
      "execution_count": null,
      "outputs": []
    }
  ]
}