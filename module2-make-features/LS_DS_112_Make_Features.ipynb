{
 "cells": [
  {
   "cell_type": "markdown",
   "metadata": {
    "colab_type": "text",
    "id": "view-in-github"
   },
   "source": [
    "<a href=\"https://colab.research.google.com/github/ryanleeallred/DS-Unit-1-Sprint-1-Data-Wrangling-and-Storytelling/blob/master/module2-make-features/LS_DS_112_Make_Features.ipynb\" target=\"_parent\"><img src=\"https://colab.research.google.com/assets/colab-badge.svg\" alt=\"Open In Colab\"/></a>"
   ]
  },
  {
   "cell_type": "markdown",
   "metadata": {
    "colab_type": "text",
    "id": "7fknoKxGz_jk"
   },
   "source": [
    "Lambda School Data Science\n",
    "\n",
    "*Unit 1, Sprint 1, Module 2*\n",
    "\n",
    "---"
   ]
  },
  {
   "cell_type": "markdown",
   "metadata": {
    "colab_type": "text",
    "id": "qacqiXogluN_"
   },
   "source": [
    "# Make Features \n",
    "\n",
    "- Student should be able to understand the purpose of feature engineering\n",
    "- Student should be able to work with strings in pandas\n",
    "- Student should be able to work with dates and times in pandas\n",
    "- Student should be able to modify or create columns of a dataframe using the `.apply()` function\n",
    "\n",
    "\n",
    "Helpful Links:\n",
    "- [Minimally Sufficient Pandas](https://medium.com/dunder-data/minimally-sufficient-pandas-a8e67f2a2428)\n",
    "- [Feature Engineering](https://en.wikipedia.org/wiki/Feature_engineering)\n",
    "- Python Data Science Handbook\n",
    "  - [Chapter 3.10](https://jakevdp.github.io/PythonDataScienceHandbook/03.10-working-with-strings.html), Vectorized String Operations\n",
    "  - [Chapter 3.11](https://jakevdp.github.io/PythonDataScienceHandbook/03.11-working-with-time-series.html), Working with Time Series\n",
    "- [Lambda Learning Method for DS - By Ryan Herr](https://docs.google.com/document/d/1ubOw9B3Hfip27hF2ZFnW3a3z9xAgrUDRReOEo-FHCVs/edit?usp=sharing)"
   ]
  },
  {
   "cell_type": "markdown",
   "metadata": {
    "colab_type": "text",
    "id": "LZSXUzBm3yvk"
   },
   "source": [
    "# [Objective](#feature-engineering) - The Purpose of Feature Engineering\n",
    "\n"
   ]
  },
  {
   "cell_type": "markdown",
   "metadata": {
    "colab_type": "text",
    "id": "MGHzNUcT30ui"
   },
   "source": [
    "## Overview\n",
    "\n",
    "Feature Engineering is the process of using a combination of domain knowledge, creativity and the pre-existing columns of a dataset to create completely new columns.\n",
    "\n",
    " Machine Learning models try to detect patterns in the data and then associate those patterns with certain predictions. The hope is that by creating new columns on our dataset that we can expose our model to new patterns in the data so that it can make better and better predictions.\n",
    "\n",
    "This is largely a matter of understanding how to work with individual columns of a dataframe with Pandas --which is what we'll be practicing today!"
   ]
  },
  {
   "cell_type": "markdown",
   "metadata": {
    "colab_type": "text",
    "id": "i6vOmj_i35ef"
   },
   "source": [
    "## Follow Along\n",
    "\n",
    "Columns of a dataframe hold each hold a specific type of data. Lets inspect some of the common datatypes found in datasets and then we'll make a new feature on a dataset using pre-existing columns."
   ]
  },
  {
   "cell_type": "code",
   "execution_count": null,
   "metadata": {
    "colab": {},
    "colab_type": "code",
    "id": "Ua6VURnC9Cny"
   },
   "outputs": [],
   "source": [
    "import pandas as pd"
   ]
  },
  {
   "cell_type": "code",
   "execution_count": null,
   "metadata": {
    "colab": {},
    "colab_type": "code",
    "id": "p_Y05YBr32O-"
   },
   "outputs": [],
   "source": [
    "# Lets take a look at the Ames Iowa Housing Dataset:\n",
    "df = pd.read_csv('https://raw.githubusercontent.com/ryanleeallred/datasets/master/Ames%20Housing%20Data/train.csv')"
   ]
  },
  {
   "cell_type": "markdown",
   "metadata": {
    "colab_type": "text",
    "id": "0QmscJ7n9OSB"
   },
   "source": [
    "### Specific Columns hold specific kinds of data"
   ]
  },
  {
   "cell_type": "code",
   "execution_count": null,
   "metadata": {
    "colab": {},
    "colab_type": "code",
    "id": "M8rsw3zl9S3v"
   },
   "outputs": [],
   "source": []
  },
  {
   "cell_type": "markdown",
   "metadata": {
    "colab_type": "text",
    "id": "znph8qpr9q29"
   },
   "source": [
    "Some columns hold integer values like the `BedroomAbvGr` which stands for \"Bedrooms Above Grade.\" This is the number of non-basement bedrooms in the home.\n",
    "\n",
    "For more information on specific column meanings view the [data dictionary](https://github.com/ryanleeallred/datasets/blob/master/Ames%20Housing%20Data/data_description.txt)."
   ]
  },
  {
   "cell_type": "code",
   "execution_count": null,
   "metadata": {
    "colab": {},
    "colab_type": "code",
    "id": "zl-wfFZv-_fo"
   },
   "outputs": [],
   "source": [
    "# Look at the first ten rows of the `BedroomAbvGr` column.\n",
    "# Looks like integers to me!\n"
   ]
  },
  {
   "cell_type": "markdown",
   "metadata": {
    "colab_type": "text",
    "id": "JyfxM5tc_Q1w"
   },
   "source": [
    "Some columns hold float values like the `LotFrontage` column."
   ]
  },
  {
   "cell_type": "code",
   "execution_count": null,
   "metadata": {
    "colab": {},
    "colab_type": "code",
    "id": "pdILA65r_PeY"
   },
   "outputs": [],
   "source": [
    "# Look at the first ten rows of the `BedroomAbvGr` column.\n"
   ]
  },
  {
   "cell_type": "markdown",
   "metadata": {
    "colab_type": "text",
    "id": "yfvyHa9IfGi9"
   },
   "source": [
    "Hmmm, do the values above look like floats to you?\n",
    "\n",
    "They all have .0 on them so technically they're being stored as floats, but *should* they be stored as floats?\n",
    "\n",
    "Lets see what all of the possible values for this column are."
   ]
  },
  {
   "cell_type": "code",
   "execution_count": null,
   "metadata": {
    "colab": {},
    "colab_type": "code",
    "id": "MDLnz1CX_eGc"
   },
   "outputs": [],
   "source": []
  },
  {
   "cell_type": "markdown",
   "metadata": {
    "colab_type": "text",
    "id": "1IaYU5QzAfgn"
   },
   "source": [
    "Looks to me like the `LotFrontage` column originally held integer values but was cast to a `float` meaning that each original integer values was converted to its corresponding float representation. \n",
    "\n",
    "Any guesses as to why that would have happened?\n",
    "\n",
    "\n",
    "HINT: What's the most common `LotFrontage` value for this column?"
   ]
  },
  {
   "cell_type": "code",
   "execution_count": null,
   "metadata": {
    "colab": {},
    "colab_type": "code",
    "id": "MtkV149OA5je"
   },
   "outputs": [],
   "source": [
    "# NaN is the most common value in this column. What is a NaN\n"
   ]
  },
  {
   "cell_type": "markdown",
   "metadata": {
    "colab_type": "text",
    "id": "cJNKPLl_BQh7"
   },
   "source": [
    "`NaN` stands stands for \"Not a Number\" and is the default missing value indicator with Pandas. This means there were cells in this column that didn't have a LotFrontage value recorded for those homes. \n",
    "\n",
    "This is where domain knowledge starts to come in. Think about the context we're working with here: houses. What might a null or blank cell representing \"Linear feet of street connected to property\" mean in the context of a housing dataset?\n",
    "\n",
    "Ok, so maybe it makes seanse to have some NaNs in this column. What is the datatype of a NaN value?\n",
    "\n",
    "Perhaps some of this data is truly missing or unrecorded data, but sometimes `NaNs` are more likely to indicate something that was \"NA\" or \"Not Applicable\" to a particular observation. There could be multiple reasons why there was no value recorded for a particular feature.\n",
    "\n",
    "Remember, that Pandas tries to maintain a single datatype for all values in a column, and therefore..."
   ]
  },
  {
   "cell_type": "code",
   "execution_count": null,
   "metadata": {
    "colab": {},
    "colab_type": "code",
    "id": "2166y9kXB0zZ"
   },
   "outputs": [],
   "source": [
    "import numpy as np\n",
    "\n",
    "# What is the datatype of NaN?"
   ]
  },
  {
   "cell_type": "markdown",
   "metadata": {
    "colab_type": "text",
    "id": "37ZaBu5OB63d"
   },
   "source": [
    "The datatype of a NaN is float!  This means that if we have a column of integer values, but the column has even a single `NaN` that column will not be treated with the integer datatype but all of the integers will be converted to floats in order to try and preserve the same datatype throughout the entire column.\n",
    "\n",
    "You can see already how understanding column datatypes is crucial to understanding how Pandas help us manage our data."
   ]
  },
  {
   "cell_type": "markdown",
   "metadata": {
    "colab_type": "text",
    "id": "Ko_yfcFqg0pj"
   },
   "source": [
    "### Making new Features\n",
    "\n",
    "Lets slim down the dataset and consider just a few specific columns:\n",
    "\n",
    "- `TotalBsmtSF`\n",
    "- `1stFlrSF`\n",
    "- `2ndFlrSF`\n",
    "- `SalePrice1`\n"
   ]
  },
  {
   "cell_type": "code",
   "execution_count": null,
   "metadata": {
    "colab": {},
    "colab_type": "code",
    "id": "_GxPTgevhWnv"
   },
   "outputs": [],
   "source": [
    "# I can make a smaller dataframe with a few specific column headers\n",
    "# by passing a list of column headers inside of the square brackets\n"
   ]
  },
  {
   "cell_type": "markdown",
   "metadata": {
    "colab_type": "text",
    "id": "Tw0PzxkbiQmm"
   },
   "source": [
    "### Syntax for creating new columns\n",
    "\n",
    "When making a new column on a dataframe, we have to use the square bracket syntax of accessing a column. We can't use \"dot syntax\" here."
   ]
  },
  {
   "cell_type": "code",
   "execution_count": null,
   "metadata": {
    "colab": {},
    "colab_type": "code",
    "id": "NkXHP57_iJ-U"
   },
   "outputs": [],
   "source": [
    "# Lets add up all of the square footage to get a single square footage \n",
    "# column for the entire dataset\n",
    "\n",
    "# Using bracket syntax to make a new 'TotalSquareFootage' column"
   ]
  },
  {
   "cell_type": "code",
   "execution_count": null,
   "metadata": {
    "colab": {},
    "colab_type": "code",
    "id": "fEy-6VQCi08c"
   },
   "outputs": [],
   "source": [
    "# Lets make a nother new column that is 'PricePerSqFt' by\n",
    "# dividing the price by the square footage"
   ]
  },
  {
   "cell_type": "markdown",
   "metadata": {
    "colab_type": "text",
    "id": "nJ-GGFwKkPjF"
   },
   "source": [
    "Ok, we have made two new columns on our small dataset.\n",
    "\n",
    "- What does a **high** `PricePerSqFt` say about a home that the square footage and price alone don't capture as directly?\n",
    "\n",
    "- What does a **low** `PricePerSqFt` say about a home that the square footage and price alone don't directly capture?\n",
    "\n"
   ]
  },
  {
   "cell_type": "markdown",
   "metadata": {
    "colab_type": "text",
    "id": "3BbCu3ii4LK8"
   },
   "source": [
    "## Challenge\n",
    "\n",
    "I hope you can see how we have used existing columns to create a new column on a dataset that say something new about our unit of observation. This is what making new features (columns) on a dataset is all about and why it's so essential to data science --particularly predictive modeling \"Machine Learning.\" \n",
    "\n",
    "We'll spend the rest of the lecture and assignment today trying to get as good as we can at manipulating (cleaning) and creating new columns on datasets."
   ]
  },
  {
   "cell_type": "markdown",
   "metadata": {
    "colab_type": "text",
    "id": "sKnLv6nGmU8N"
   },
   "source": [
    "# [Objective](#work-with-strings) Work with Strings with Pandas"
   ]
  },
  {
   "cell_type": "markdown",
   "metadata": {
    "colab_type": "text",
    "id": "dqd_Lpb9ntwT"
   },
   "source": [
    "## Overview\n",
    "\n",
    "So far we have worked with numeric datatypes (ints and floats) but we haven't worked with any columns containing string values. We can't simply use arithmetic to manipulate string values, so we'll need to learn some more techniques in order to work with this datatype."
   ]
  },
  {
   "cell_type": "markdown",
   "metadata": {
    "colab_type": "text",
    "id": "c6UBXPhQnxzj"
   },
   "source": [
    "## Follow Along\n",
    "\n",
    "We're going to import a new dataset here to work with. This dataset is from LendingClub and holds information about loans issued in Q4 of 2018. This dataset is a bit messy so it will give us plenty of opportunities to clean up existing columns as well as create new ones.\n",
    "\n",
    "The `!wget` shell command being used here does exactly the same thing that your browser does when you type a URL in the address. It makes a request or \"gets\" the file at that address. However, in our case the file isn't a webpage, it's a compressed CSV file. \n",
    "\n",
    "Try copying and pasting the URL from below into your browser, did it start an automatic download? Any URLs like this that start automatic downloads when navigated to can be used along with the `!wget` command to bring files directly into your notebook's memory."
   ]
  },
  {
   "cell_type": "markdown",
   "metadata": {
    "colab_type": "text",
    "id": "r1SkaCMTsCyT"
   },
   "source": [
    "### Load a new dataset"
   ]
  },
  {
   "cell_type": "code",
   "execution_count": null,
   "metadata": {
    "colab": {},
    "colab_type": "code",
    "id": "MeEKWHB0n2fq"
   },
   "outputs": [],
   "source": []
  },
  {
   "cell_type": "markdown",
   "metadata": {
    "colab_type": "text",
    "id": "TqUSbgIJqAB8"
   },
   "source": [
    "We need to use the `!unzip` command to extract the csv from the zipped folder."
   ]
  },
  {
   "cell_type": "code",
   "execution_count": null,
   "metadata": {
    "colab": {},
    "colab_type": "code",
    "id": "Mbw0l5wyqLeI"
   },
   "outputs": [],
   "source": []
  },
  {
   "cell_type": "markdown",
   "metadata": {
    "colab_type": "text",
    "id": "ZPB0-7F_qNFT"
   },
   "source": [
    "We can also use bash/shell commands to look at the raw file using the `!head` and `!tail` commands"
   ]
  },
  {
   "cell_type": "code",
   "execution_count": null,
   "metadata": {
    "colab": {},
    "colab_type": "code",
    "id": "ZcWpsAmFqTF4"
   },
   "outputs": [],
   "source": []
  },
  {
   "cell_type": "code",
   "execution_count": null,
   "metadata": {
    "colab": {},
    "colab_type": "code",
    "id": "t-uPShUxqa9O"
   },
   "outputs": [],
   "source": []
  },
  {
   "cell_type": "markdown",
   "metadata": {
    "colab_type": "text",
    "id": "C_bEBsHTqduT"
   },
   "source": [
    "As we look at the raw file itself, do you see anything that might cause us trouble as we read in the CSV file to a dataframe?"
   ]
  },
  {
   "cell_type": "code",
   "execution_count": null,
   "metadata": {
    "colab": {},
    "colab_type": "code",
    "id": "ikpjHKeiqlWp"
   },
   "outputs": [],
   "source": [
    "# Read in the CSV"
   ]
  },
  {
   "cell_type": "markdown",
   "metadata": {
    "colab_type": "text",
    "id": "wvqwNrQlq5fr"
   },
   "source": [
    "The extra rows at the top and bottom of the file have done two things:\n",
    "\n",
    "1) The top row has made it so that the entire dataset is being interpreted as column headers\n",
    "\n",
    "2) The bottom two rows have been read into the 'id' column and are causing every column to have at least two `NaN` values in it."
   ]
  },
  {
   "cell_type": "code",
   "execution_count": null,
   "metadata": {
    "colab": {},
    "colab_type": "code",
    "id": "PKM5P0RzrLh8"
   },
   "outputs": [],
   "source": [
    "# We can fix the header problem by using the 'skiprows' parameter"
   ]
  },
  {
   "cell_type": "markdown",
   "metadata": {
    "colab_type": "text",
    "id": "CuLO7bhTrY0z"
   },
   "source": [
    "Lets look at the NaN values of each column so that you can see the problem that the extra rows at the bottom of the file are creating for us"
   ]
  },
  {
   "cell_type": "code",
   "execution_count": null,
   "metadata": {
    "colab": {},
    "colab_type": "code",
    "id": "12OtVOd9rdb-"
   },
   "outputs": [],
   "source": [
    "# Sum null values by column and sort from least to greatest"
   ]
  },
  {
   "cell_type": "code",
   "execution_count": null,
   "metadata": {
    "colab": {},
    "colab_type": "code",
    "id": "4793LweyroFI"
   },
   "outputs": [],
   "source": [
    "# Address the extra NaNs in each column by skipping the footer as well."
   ]
  },
  {
   "cell_type": "code",
   "execution_count": null,
   "metadata": {
    "colab": {},
    "colab_type": "code",
    "id": "P7w8iGhyr0Bu"
   },
   "outputs": [],
   "source": []
  },
  {
   "cell_type": "markdown",
   "metadata": {
    "colab_type": "text",
    "id": "XzPuC7jUstVF"
   },
   "source": [
    "For good measure, we'll also drop some columns that are made up completely of NaN values.\n",
    "\n",
    "Why might LendingClub have included columns in their dataset that are 100% blank?"
   ]
  },
  {
   "cell_type": "code",
   "execution_count": null,
   "metadata": {
    "colab": {},
    "colab_type": "code",
    "id": "HubXTHZ3sj6n"
   },
   "outputs": [],
   "source": []
  },
  {
   "cell_type": "markdown",
   "metadata": {
    "colab_type": "text",
    "id": "87lzDxnCr_6j"
   },
   "source": [
    "### Clean up the `int_rate` column\n",
    "\n",
    "When we're preparing a dataset for a machine learning model we typically want to represent don't want to leave any string values in our dataset --because it's hard to do math on words. \n",
    "\n",
    "Specifically, we have a column that is representing a numeric value, but currently doesn't have a numeric datatype. Lets look at the first 10 values of the `int_rate` column"
   ]
  },
  {
   "cell_type": "code",
   "execution_count": null,
   "metadata": {
    "colab": {},
    "colab_type": "code",
    "id": "wQRxQs3-tnup"
   },
   "outputs": [],
   "source": [
    "# Look at the first 10 values of the int_rate column"
   ]
  },
  {
   "cell_type": "code",
   "execution_count": null,
   "metadata": {
    "colab": {},
    "colab_type": "code",
    "id": "Cu2lMR4wtt-M"
   },
   "outputs": [],
   "source": [
    "# Look at a specific value from the int_rate column"
   ]
  },
  {
   "cell_type": "markdown",
   "metadata": {
    "colab_type": "text",
    "id": "umnBqFa0t22W"
   },
   "source": [
    "Problems that we need to address with this column:\n",
    "\n",
    "- String column that should be numeric\n",
    "- Percent Sign `%` included with the number\n",
    "- Leading space at the beginning of the string\n",
    "\n",
    "However, we're not going to try and write exactly the right code to fix this column in one go. We're going to methodically build up to the code that will help us address these problems.\n"
   ]
  },
  {
   "cell_type": "code",
   "execution_count": null,
   "metadata": {
    "colab": {},
    "colab_type": "code",
    "id": "qveVttHSuVlh"
   },
   "outputs": [],
   "source": [
    "# Lets start with just fixing a single string.\n",
    "# If we can fix one, we can usually fix all of them"
   ]
  },
  {
   "cell_type": "code",
   "execution_count": null,
   "metadata": {
    "colab": {},
    "colab_type": "code",
    "id": "hfFY8nGluouN"
   },
   "outputs": [],
   "source": []
  },
  {
   "cell_type": "code",
   "execution_count": null,
   "metadata": {
    "colab": {},
    "colab_type": "code",
    "id": "o3bRlDUbus9m"
   },
   "outputs": [],
   "source": []
  },
  {
   "cell_type": "code",
   "execution_count": null,
   "metadata": {
    "colab": {},
    "colab_type": "code",
    "id": "KA-FB2WEuvZr"
   },
   "outputs": [],
   "source": []
  },
  {
   "cell_type": "code",
   "execution_count": null,
   "metadata": {
    "colab": {},
    "colab_type": "code",
    "id": "cjhHPbDtuxtU"
   },
   "outputs": [],
   "source": []
  },
  {
   "cell_type": "code",
   "execution_count": null,
   "metadata": {
    "colab": {},
    "colab_type": "code",
    "id": "SJd71Boou40s"
   },
   "outputs": [],
   "source": [
    "# \"Cast\" the string value to a float"
   ]
  },
  {
   "cell_type": "code",
   "execution_count": null,
   "metadata": {
    "colab": {},
    "colab_type": "code",
    "id": "kcqneHUmvCs6"
   },
   "outputs": [],
   "source": []
  },
  {
   "cell_type": "markdown",
   "metadata": {
    "colab_type": "text",
    "id": "S_bTzHIJvc8M"
   },
   "source": [
    "### Write a function to make our solution reusable!"
   ]
  },
  {
   "cell_type": "code",
   "execution_count": null,
   "metadata": {
    "colab": {},
    "colab_type": "code",
    "id": "GYJYsfQZvVcK"
   },
   "outputs": [],
   "source": [
    "# Write a function that can do what we have written above to any \n",
    "# string that is passsed to it."
   ]
  },
  {
   "cell_type": "code",
   "execution_count": null,
   "metadata": {
    "colab": {},
    "colab_type": "code",
    "id": "Ng3lQFD8vxQt"
   },
   "outputs": [],
   "source": [
    "# Test out our function by calling it on our example"
   ]
  },
  {
   "cell_type": "code",
   "execution_count": null,
   "metadata": {
    "colab": {},
    "colab_type": "code",
    "id": "7cPxk1W9v2ul"
   },
   "outputs": [],
   "source": [
    "# is the data type correct?"
   ]
  },
  {
   "cell_type": "markdown",
   "metadata": {
    "colab_type": "text",
    "id": "hgxdjRqnv-ZH"
   },
   "source": [
    "### Apply our solution to every cell in a column"
   ]
  },
  {
   "cell_type": "code",
   "execution_count": null,
   "metadata": {
    "colab": {},
    "colab_type": "code",
    "id": "eGJmf1IbwE1Q"
   },
   "outputs": [],
   "source": []
  },
  {
   "cell_type": "code",
   "execution_count": null,
   "metadata": {
    "colab": {},
    "colab_type": "code",
    "id": "hYCez3j5wLWt"
   },
   "outputs": [],
   "source": [
    "# What type of data is held in our new column?\n",
    "\n",
    "# Look at the datatypes of the last 5 columns"
   ]
  },
  {
   "cell_type": "markdown",
   "metadata": {
    "colab_type": "text",
    "id": "FOXkc5own3LM"
   },
   "source": [
    "## Challenge\n",
    "\n",
    "We can create a new column with our cleaned values or overwrite the original, whatever we think best suits our needs. On your assignment you will take the same approach in trying to methodically build up the complexity of your code until you have a few lines that will work for any cell in a column. At that point you'll contain all of that functionality in a reusable function block and then use the `.apply()` function to... well... apply those changes to an entire column."
   ]
  },
  {
   "cell_type": "markdown",
   "metadata": {
    "colab_type": "text",
    "id": "cllyKRVOmZW1"
   },
   "source": [
    "# [Objective](#pandas-apply) Modify and Create Columns using `.apply()`\n",
    "\n"
   ]
  },
  {
   "cell_type": "markdown",
   "metadata": {
    "colab_type": "text",
    "id": "43763DCYnucE"
   },
   "source": [
    "## Overview\n",
    "\n",
    "We're already seen one example of using the `.apply()` function to clean up a column. Lets see if we can do it again, but this time on a slightly more complicated use case.\n",
    "\n",
    "Remember, the goal here is to write a function that will work correctly on any **individual** cell of a specific column. Then we can reuse that function on those individual cells of a dataframe column via the `.apply()` function.\n",
    "\n",
    "Lets clean up the emp_title \"Employment Title\" column!"
   ]
  },
  {
   "cell_type": "markdown",
   "metadata": {
    "colab_type": "text",
    "id": "mFXxzA7mnyhH"
   },
   "source": [
    "## Follow Along\n",
    "\n",
    "First we'll try and diagnose how bad the problem is and what improvements we might be able to make."
   ]
  },
  {
   "cell_type": "code",
   "execution_count": null,
   "metadata": {
    "colab": {},
    "colab_type": "code",
    "id": "XzkCNMOnxl4h"
   },
   "outputs": [],
   "source": [
    "# Look at the top 20 employment titles"
   ]
  },
  {
   "cell_type": "code",
   "execution_count": null,
   "metadata": {
    "colab": {},
    "colab_type": "code",
    "id": "ja4Qul02x0Tk"
   },
   "outputs": [],
   "source": [
    "# How many different unique employment titles are there currently?"
   ]
  },
  {
   "cell_type": "code",
   "execution_count": null,
   "metadata": {
    "colab": {},
    "colab_type": "code",
    "id": "q1tC-Otax9R3"
   },
   "outputs": [],
   "source": [
    "# How often is the employment_title null?"
   ]
  },
  {
   "cell_type": "markdown",
   "metadata": {
    "colab_type": "text",
    "id": "UddpRG2OyDzC"
   },
   "source": [
    "What are some possible reasons as to why a person's employment title may have not been provided?"
   ]
  },
  {
   "cell_type": "code",
   "execution_count": null,
   "metadata": {
    "colab": {},
    "colab_type": "code",
    "id": "331sx2kVyMwz"
   },
   "outputs": [],
   "source": [
    "# Create some examples that represent the cases that we want to clean up"
   ]
  },
  {
   "cell_type": "code",
   "execution_count": null,
   "metadata": {
    "colab": {},
    "colab_type": "code",
    "id": "yEIPIOUIyUDH"
   },
   "outputs": [],
   "source": [
    "# Write a function to clean up these use cases and increase uniformity."
   ]
  },
  {
   "cell_type": "code",
   "execution_count": null,
   "metadata": {
    "colab": {},
    "colab_type": "code",
    "id": "Sn6jfPUTylvH"
   },
   "outputs": [],
   "source": [
    "# list comprehensions can combine function calls and for loops over lists\n",
    "# into one succinct and fairly readable single line of code."
   ]
  },
  {
   "cell_type": "code",
   "execution_count": null,
   "metadata": {
    "colab": {},
    "colab_type": "code",
    "id": "DNGJgOL4y0y7"
   },
   "outputs": [],
   "source": [
    "# We have a function that works as expected. Lets apply it to our column.\n",
    "# This time we'll overwrite the original column"
   ]
  },
  {
   "cell_type": "markdown",
   "metadata": {
    "colab_type": "text",
    "id": "aPm26DvFzQak"
   },
   "source": [
    "We can use the same code as we did earlier to see how much progress was made.\n"
   ]
  },
  {
   "cell_type": "code",
   "execution_count": null,
   "metadata": {
    "colab": {},
    "colab_type": "code",
    "id": "SKMEkrbFzGPL"
   },
   "outputs": [],
   "source": [
    "# Look at the top 20 employment titles"
   ]
  },
  {
   "cell_type": "code",
   "execution_count": null,
   "metadata": {
    "colab": {},
    "colab_type": "code",
    "id": "eM0oa-10zVCn"
   },
   "outputs": [],
   "source": [
    "# How many different unique employment titles are there currently?"
   ]
  },
  {
   "cell_type": "code",
   "execution_count": null,
   "metadata": {
    "colab": {},
    "colab_type": "code",
    "id": "RKcjoiWgze2x"
   },
   "outputs": [],
   "source": [
    "# How often is the employment_title null (NaN)?"
   ]
  },
  {
   "cell_type": "markdown",
   "metadata": {
    "colab_type": "text",
    "id": "Sj8G-tVKn36v"
   },
   "source": [
    "## Challenge\n",
    "\n",
    "Using the .apply() function isn't always about creating new columns on a dataframe, we can use it to clean up or modify existing columns as well. "
   ]
  },
  {
   "cell_type": "markdown",
   "metadata": {
    "colab_type": "text",
    "id": "m0G8Kv-MmaHh"
   },
   "source": [
    "# [Objective](#dates-and-times) Work with Dates and Times with Pandas"
   ]
  },
  {
   "cell_type": "markdown",
   "metadata": {
    "colab_type": "text",
    "id": "565Xjo-RnvLm"
   },
   "source": [
    "## Overview\n",
    "\n",
    "Pandas has its own datatype datatype that makes it extremely convenient to convert strings that are in standard date formates to datetime objects and then use those datetime objects to either create new features on a dataframe or work with the dataset in a timeseries fashion. \n",
    "\n",
    "This section will demonstrate how to take a column of date strings, convert it to a datetime object and then use the datetime formatting `.dt` to access specific parts of the date (year, month, day) to generate useful columns on a dataframe."
   ]
  },
  {
   "cell_type": "markdown",
   "metadata": {
    "colab_type": "text",
    "id": "YpoU_2Gknzbz"
   },
   "source": [
    "## Follow Along"
   ]
  },
  {
   "cell_type": "markdown",
   "metadata": {
    "colab_type": "text",
    "id": "BoQ86d_R79J6"
   },
   "source": [
    "### Work with Dates \n",
    "\n",
    "pandas documentation\n",
    "- [to_datetime](https://pandas.pydata.org/pandas-docs/stable/generated/pandas.to_datetime.html)\n",
    "- [Time/Date Components](https://pandas.pydata.org/pandas-docs/stable/timeseries.html#time-date-components) \"You can access these properties via the `.dt` accessor\"\n",
    "\n",
    "Many of the most useful date columns in this dataset have the suffix `_d` to indicate that they correspond to dates.\n",
    "\n",
    "We'll use a list comprehension to print them out"
   ]
  },
  {
   "cell_type": "code",
   "execution_count": null,
   "metadata": {
    "colab": {},
    "colab_type": "code",
    "id": "SxOhEaEX76mY"
   },
   "outputs": [],
   "source": []
  },
  {
   "cell_type": "markdown",
   "metadata": {
    "colab_type": "text",
    "id": "7wccaSfx9Zo4"
   },
   "source": [
    "Lets look at the string format of the `issue_d` column"
   ]
  },
  {
   "cell_type": "code",
   "execution_count": null,
   "metadata": {
    "colab": {},
    "colab_type": "code",
    "id": "BVYeLIOm9dQ-"
   },
   "outputs": [],
   "source": []
  },
  {
   "cell_type": "markdown",
   "metadata": {
    "colab_type": "text",
    "id": "DnjOcU5y9iZh"
   },
   "source": [
    "Because this string format %m-%y is a common datetime format, we can just let Pandas detect this format and translate it to the appropriate datetime object."
   ]
  },
  {
   "cell_type": "code",
   "execution_count": null,
   "metadata": {
    "colab": {},
    "colab_type": "code",
    "id": "cBV3Ta_79qe6"
   },
   "outputs": [],
   "source": []
  },
  {
   "cell_type": "markdown",
   "metadata": {
    "colab_type": "text",
    "id": "6hcypFMu9y4s"
   },
   "source": [
    "Now we can see that the `issue_d` column has been changed to hold `datetime` objects.\n",
    "\n",
    "Lets look at one of the cells specifically to see what a datetime object looks like:"
   ]
  },
  {
   "cell_type": "code",
   "execution_count": null,
   "metadata": {
    "colab": {},
    "colab_type": "code",
    "id": "fUMjhnyJ94is"
   },
   "outputs": [],
   "source": []
  },
  {
   "cell_type": "markdown",
   "metadata": {
    "colab_type": "text",
    "id": "aZQiLh4O-CMN"
   },
   "source": [
    "You can see how the month and year have been indicated by the strings that were contained in the column previously, and that the rest of the values have been inferred."
   ]
  },
  {
   "cell_type": "code",
   "execution_count": null,
   "metadata": {
    "colab": {},
    "colab_type": "code",
    "id": "6_PhaWzb-J7X"
   },
   "outputs": [],
   "source": []
  },
  {
   "cell_type": "markdown",
   "metadata": {
    "colab_type": "text",
    "id": "V3rKmrzY-NsD"
   },
   "source": [
    "We can use the `.dt` accessor to now grab specific parts of the datetime object. Lets grab just the year from the all of the cells in the `issue_d` column"
   ]
  },
  {
   "cell_type": "code",
   "execution_count": null,
   "metadata": {
    "colab": {},
    "colab_type": "code",
    "id": "y4479qzj-Yj5"
   },
   "outputs": [],
   "source": []
  },
  {
   "cell_type": "markdown",
   "metadata": {
    "colab_type": "text",
    "id": "coNYQvdJ-b0s"
   },
   "source": [
    "Now the month."
   ]
  },
  {
   "cell_type": "code",
   "execution_count": null,
   "metadata": {
    "colab": {},
    "colab_type": "code",
    "id": "D28keYR3-dJn"
   },
   "outputs": [],
   "source": []
  },
  {
   "cell_type": "markdown",
   "metadata": {
    "colab_type": "text",
    "id": "g4_O0q0t-hOX"
   },
   "source": [
    "It's just that easy! Now, instead of printing them out, lets add these year and month values as new columns on our dataframe. Again, you'll have to scroll all the way over to the right in the table to see the new columns."
   ]
  },
  {
   "cell_type": "code",
   "execution_count": null,
   "metadata": {
    "colab": {},
    "colab_type": "code",
    "id": "VJdlhqH1-mri"
   },
   "outputs": [],
   "source": []
  },
  {
   "cell_type": "markdown",
   "metadata": {
    "colab_type": "text",
    "id": "LAxig0nE-1kt"
   },
   "source": [
    "Because all of these dates come from Q4 of 2018, the `issue_d` column isn't all that interesting. Lets look at the `earliest_cr_line` column, which is also a string, but that could be converted to datetime format.\n",
    "\n",
    "We're going to create a new column called `days_from_earliest_credit_to_issue`\n",
    "\n",
    "It's a long column header, but think about how valuable this piece of information could be. This number will essentially indicate the length of a person's credit history and if that is correlated with repayment or other factors could be a valuable predictor!"
   ]
  },
  {
   "cell_type": "code",
   "execution_count": null,
   "metadata": {
    "colab": {},
    "colab_type": "code",
    "id": "5S6BDZjp-e8-"
   },
   "outputs": [],
   "source": []
  },
  {
   "cell_type": "code",
   "execution_count": null,
   "metadata": {
    "colab": {},
    "colab_type": "code",
    "id": "X0VwXV1F_YpZ"
   },
   "outputs": [],
   "source": []
  },
  {
   "cell_type": "markdown",
   "metadata": {
    "colab_type": "text",
    "id": "ml-N769C_e_n"
   },
   "source": [
    "What we're about to do is so cool! Pandas' datetime format is so smart that we can simply use the subtraction operator `-` in order to calculate the amount of time between two dates. \n",
    "\n",
    "Think about everything that's going on under the hood in order to give us such straightforward syntax! Handling months of different lengths, leap years, etc. Pandas datetime objects are seriously powerful!"
   ]
  },
  {
   "cell_type": "code",
   "execution_count": null,
   "metadata": {
    "colab": {},
    "colab_type": "code",
    "id": "FWu1a57V_cHx"
   },
   "outputs": [],
   "source": []
  },
  {
   "cell_type": "code",
   "execution_count": null,
   "metadata": {
    "colab": {},
    "colab_type": "code",
    "id": "PvRjLKZo_XRq"
   },
   "outputs": [],
   "source": []
  },
  {
   "cell_type": "markdown",
   "metadata": {
    "colab_type": "text",
    "id": "FHQEQZx6_3_p"
   },
   "source": [
    "What's oldest credit history that was involved in Q4 2018? "
   ]
  },
  {
   "cell_type": "code",
   "execution_count": null,
   "metadata": {
    "colab": {},
    "colab_type": "code",
    "id": "nrEqk6hG_20O"
   },
   "outputs": [],
   "source": []
  },
  {
   "cell_type": "markdown",
   "metadata": {
    "colab_type": "text",
    "id": "gORWK62cAF2a"
   },
   "source": [
    "25,171 days is ~ 68.96 years of credit history!"
   ]
  },
  {
   "cell_type": "markdown",
   "metadata": {
    "colab_type": "text",
    "id": "THRLJ-7Jn4om"
   },
   "source": [
    "## Challenge\n",
    "\n",
    "Pandas' datetime format is so easy to work with that there's really no excuse for not using dates to make features on a dataframe! Get ready to practice more of this on your assignment."
   ]
  }
 ],
 "metadata": {
  "colab": {
   "collapsed_sections": [],
   "include_colab_link": true,
   "name": "LS_DS_112_Make_Features.ipynb",
   "provenance": []
  },
  "kernelspec": {
   "display_name": "Python 3",
   "language": "python",
   "name": "python3"
  },
  "language_info": {
   "codemirror_mode": {
    "name": "ipython",
    "version": 3
   },
   "file_extension": ".py",
   "mimetype": "text/x-python",
   "name": "python",
   "nbconvert_exporter": "python",
   "pygments_lexer": "ipython3",
   "version": "3.8.1"
  }
 },
 "nbformat": 4,
 "nbformat_minor": 4
}
