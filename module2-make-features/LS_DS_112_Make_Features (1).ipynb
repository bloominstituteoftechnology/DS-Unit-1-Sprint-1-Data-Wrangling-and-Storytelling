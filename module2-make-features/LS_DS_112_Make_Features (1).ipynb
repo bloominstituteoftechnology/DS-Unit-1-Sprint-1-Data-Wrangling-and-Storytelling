{
  "nbformat": 4,
  "nbformat_minor": 0,
  "metadata": {
    "colab": {
      "name": "LS_DS_112_Make_Features.ipynb",
      "provenance": [],
      "collapsed_sections": [],
      "include_colab_link": true
    },
    "kernelspec": {
      "display_name": "Python 3",
      "language": "python",
      "name": "python3"
    },
    "language_info": {
      "codemirror_mode": {
        "name": "ipython",
        "version": 3
      },
      "file_extension": ".py",
      "mimetype": "text/x-python",
      "name": "python",
      "nbconvert_exporter": "python",
      "pygments_lexer": "ipython3",
      "version": "3.7.1"
    }
  },
  "cells": [
    {
      "cell_type": "markdown",
      "metadata": {
        "id": "view-in-github",
        "colab_type": "text"
      },
      "source": [
        "<a href=\"https://colab.research.google.com/github/lukehdez95/DS-Unit-1-Sprint-1-Data-Wrangling-and-Storytelling/blob/master/module2-make-features/LS_DS_112_Make_Features%20(1).ipynb\" target=\"_parent\"><img src=\"https://colab.research.google.com/assets/colab-badge.svg\" alt=\"Open In Colab\"/></a>"
      ]
    },
    {
      "cell_type": "markdown",
      "metadata": {
        "id": "7fknoKxGz_jk"
      },
      "source": [
        "Lambda School Data Science\n",
        "\n",
        "*Unit 1, Sprint 1, Module 2*\n",
        "\n",
        "---"
      ]
    },
    {
      "cell_type": "markdown",
      "metadata": {
        "id": "qacqiXogluN_"
      },
      "source": [
        "# Learning Objectives\n",
        "\n",
        "- Objective 01 - understand the purpose of feature engineering\n",
        "- Objective 02 - demonstrate how to work with strings in pandas\n",
        "- Objective 03 - modify or create dataframe columns using the `apply()` function\n",
        "- Objective 04 - work with dates and times in pandas\n",
        "\n",
        "\n",
        "Helpful Links:\n",
        "- [Minimally Sufficient Pandas](https://medium.com/dunder-data/minimally-sufficient-pandas-a8e67f2a2428)\n",
        "- [Feature Engineering](https://en.wikipedia.org/wiki/Feature_engineering)\n",
        "- Python Data Science Handbook\n",
        "  - [Chapter 3.10](https://jakevdp.github.io/PythonDataScienceHandbook/03.10-working-with-strings.html), Vectorized String Operations\n",
        "  - [Chapter 3.11](https://jakevdp.github.io/PythonDataScienceHandbook/03.11-working-with-time-series.html), Working with Time Series\n",
        "- [Lambda Learning Method for DS - By Ryan Herr](https://docs.google.com/document/d/1ubOw9B3Hfip27hF2ZFnW3a3z9xAgrUDRReOEo-FHCVs/edit?usp=sharing)"
      ]
    },
    {
      "cell_type": "markdown",
      "metadata": {
        "id": "DQDK3xltZcuy"
      },
      "source": [
        "*Look ma no hands!*"
      ]
    },
    {
      "cell_type": "markdown",
      "metadata": {
        "id": "LZSXUzBm3yvk"
      },
      "source": [
        "# [Objective 01](#feature-engineering) - The Purpose of Feature Engineering\n",
        "\n"
      ]
    },
    {
      "cell_type": "markdown",
      "metadata": {
        "id": "MGHzNUcT30ui"
      },
      "source": [
        "## Overview\n",
        "\n",
        "Feature Engineering is the process of using a combination of domain knowledge, creativity, and the pre-existing columns of a dataset to create completely new columns.\n",
        "\n",
        " Machine Learning models try to detect patterns in the data and then associate those patterns with certain predictions. The hope is that by creating new columns on our dataset that we can expose our model to new patterns in the data so that it can make better and better predictions.\n",
        "\n",
        "This is largely a matter of understanding how to work with individual columns of a dataframe with Pandas --which is what we'll be practicing today!"
      ]
    },
    {
      "cell_type": "markdown",
      "metadata": {
        "id": "i6vOmj_i35ef"
      },
      "source": [
        "## Follow Along\n",
        "\n",
        "Columns of a dataframe hold each hold a specific type of data. Lets inspect some of the common datatypes found in datasets and then we'll make a new feature on a dataset using pre-existing columns."
      ]
    },
    {
      "cell_type": "code",
      "metadata": {
        "id": "Ua6VURnC9Cny"
      },
      "source": [
        "import pandas as pd\n",
        "\n",
        "# Pandas Display Options:\n"
      ],
      "execution_count": null,
      "outputs": []
    },
    {
      "cell_type": "code",
      "metadata": {
        "id": "p_Y05YBr32O-"
      },
      "source": [
        "# Lets take a look at the Ames Iowa Housing Dataset:\n",
        "df = pd.read_csv('https://raw.githubusercontent.com/ryanleeallred/datasets/master/Ames%20Housing%20Data/train.csv')"
      ],
      "execution_count": null,
      "outputs": []
    },
    {
      "cell_type": "markdown",
      "metadata": {
        "id": "0QmscJ7n9OSB"
      },
      "source": [
        "### Specific Columns hold specific kinds of data"
      ]
    },
    {
      "cell_type": "code",
      "metadata": {
        "id": "M8rsw3zl9S3v"
      },
      "source": [
        "print(df.shape)\n",
        "df.head()"
      ],
      "execution_count": null,
      "outputs": []
    },
    {
      "cell_type": "code",
      "metadata": {
        "id": "IUfKjvvSjmNe"
      },
      "source": [
        "df.dtypes"
      ],
      "execution_count": null,
      "outputs": []
    },
    {
      "cell_type": "markdown",
      "metadata": {
        "id": "znph8qpr9q29"
      },
      "source": [
        "Some columns hold integer values like the `BedroomAbvGr` which stands for \"Bedrooms Above Grade.\" This is the number of non-basement bedrooms in the home.\n",
        "\n",
        "For more information on specific column meanings view the [data dictionary](https://github.com/ryanleeallred/datasets/blob/master/Ames%20Housing%20Data/data_description.txt)."
      ]
    },
    {
      "cell_type": "code",
      "metadata": {
        "id": "zl-wfFZv-_fo"
      },
      "source": [
        "# Look at a few rows of the `BedroomAbvGr` column.\n",
        "# Looks like integers to me!\n"
      ],
      "execution_count": null,
      "outputs": []
    },
    {
      "cell_type": "markdown",
      "metadata": {
        "id": "SHJxYRxokBjQ"
      },
      "source": [
        "What type of variable is BedroomAbvGr?  Is it categorical or quantitative?  If you answered \"categorical\", is it ordinal, nominal or an identifier?  If you answered \"quantitative\", is it continuous or discrete?"
      ]
    },
    {
      "cell_type": "markdown",
      "metadata": {
        "id": "y7pSVcS1kdT_"
      },
      "source": [
        "It is quantitative and discrete."
      ]
    },
    {
      "cell_type": "markdown",
      "metadata": {
        "id": "JyfxM5tc_Q1w"
      },
      "source": [
        "Some columns hold float values like the `LotFrontage` column."
      ]
    },
    {
      "cell_type": "code",
      "metadata": {
        "id": "pdILA65r_PeY"
      },
      "source": [
        "# Look at a few rows of the `LotFrontage` column.\n"
      ],
      "execution_count": null,
      "outputs": []
    },
    {
      "cell_type": "markdown",
      "metadata": {
        "id": "yfvyHa9IfGi9"
      },
      "source": [
        "Hmmm, do the values above look like floats to you?\n",
        "\n",
        "They all have .0 on them so technically they're being stored as floats, but *should* they be stored as floats?\n",
        "\n",
        "Lets see what all of the possible values for this column are."
      ]
    },
    {
      "cell_type": "code",
      "metadata": {
        "id": "MDLnz1CX_eGc"
      },
      "source": [
        ""
      ],
      "execution_count": null,
      "outputs": []
    },
    {
      "cell_type": "markdown",
      "metadata": {
        "id": "1IaYU5QzAfgn"
      },
      "source": [
        "Looks to me like the `LotFrontage` column originally held integer values but was cast to a `float` meaning that each original integer values was converted to its corresponding float representation. \n",
        "\n",
        "Any guesses as to why that would have happened?\n",
        "\n",
        "\n",
        "HINT: What's the most common `LotFrontage` value for this column?"
      ]
    },
    {
      "cell_type": "code",
      "metadata": {
        "id": "MtkV149OA5je"
      },
      "source": [
        "# NaN is the most common value in this column. What is a NaN\n"
      ],
      "execution_count": null,
      "outputs": []
    },
    {
      "cell_type": "markdown",
      "metadata": {
        "id": "cJNKPLl_BQh7"
      },
      "source": [
        "`NaN` stands stands for \"Not a Number\" and is the default missing value indicator with Pandas. This means there were cells in this column that didn't have a LotFrontage value recorded for those homes. \n",
        "\n",
        "This is where domain knowledge starts to come in. Think about the context we're working with here: houses. What might a null or blank cell representing \"Linear feet of street connected to property\" mean in the context of a housing dataset?\n",
        "\n",
        "Ok, so maybe it makes sense to have some NaNs in this column. What is the datatype of a NaN value?\n",
        "\n",
        "Perhaps some of this data is truly missing or unrecorded data, but sometimes `NaNs` are more likely to indicate something that was \"NA\" or \"Not Applicable\" to a particular observation. There could be multiple reasons why there was no value recorded for a particular feature.\n",
        "\n",
        "Remember - Pandas tries to maintain a single datatype for all values in a column, and therefore..."
      ]
    },
    {
      "cell_type": "code",
      "metadata": {
        "id": "2166y9kXB0zZ"
      },
      "source": [
        "import numpy as np\n",
        "\n",
        "# What is the datatype of NaN?\n",
        "\n"
      ],
      "execution_count": null,
      "outputs": []
    },
    {
      "cell_type": "markdown",
      "metadata": {
        "id": "37ZaBu5OB63d"
      },
      "source": [
        "The datatype of a NaN is float!  This means that if we have a column of integer values, but the column has even a single `NaN` that column will not be treated with the integer datatype but all of the integers will be converted to floats in order to try and preserve the same datatype throughout the entire column.\n",
        "\n",
        "You can see already how understanding column datatypes is crucial to understanding how Pandas help us manage our data."
      ]
    },
    {
      "cell_type": "markdown",
      "metadata": {
        "id": "Ko_yfcFqg0pj"
      },
      "source": [
        "### Making new Features\n",
        "\n",
        "Lets slim down the dataset and consider just a few specific columns:\n",
        "\n",
        "- `TotalBsmtSF`\n",
        "- `1stFlrSF`\n",
        "- `2ndFlrSF`\n",
        "- `SalePrice1`\n"
      ]
    },
    {
      "cell_type": "code",
      "metadata": {
        "id": "_GxPTgevhWnv"
      },
      "source": [
        "# I can make a smaller dataframe with a few specific column headers\n",
        "# by passing a list of column headers inside of the square brackets\n",
        "# get a single column\n",
        "\n"
      ],
      "execution_count": null,
      "outputs": []
    },
    {
      "cell_type": "code",
      "metadata": {
        "id": "auAhDXBpAKmz"
      },
      "source": [
        "# Get more than one column, then pass in a list of column headers\n",
        "\n"
      ],
      "execution_count": null,
      "outputs": []
    },
    {
      "cell_type": "code",
      "metadata": {
        "id": "CZQiF1gUAQAp"
      },
      "source": [
        "# I can make a smaller dataframe with a few specific column headers\n",
        "# by passing a list of column headers inside of the square brackets\n",
        "\n"
      ],
      "execution_count": null,
      "outputs": []
    },
    {
      "cell_type": "code",
      "metadata": {
        "id": "tL6ATJdNAbsY"
      },
      "source": [
        "small_df.dtypes"
      ],
      "execution_count": null,
      "outputs": []
    },
    {
      "cell_type": "markdown",
      "metadata": {
        "id": "Tw0PzxkbiQmm"
      },
      "source": [
        "### Syntax for creating new columns\n",
        "\n",
        "When making a new column on a dataframe, we have to use the square bracket syntax of accessing a column. We can't use \"dot syntax\" here."
      ]
    },
    {
      "cell_type": "code",
      "metadata": {
        "id": "NkXHP57_iJ-U"
      },
      "source": [
        "# Lets add up all of the square footage to get a single square footage \n",
        "# column for the entire dataset\n",
        "\n",
        "# Using bracket syntax to make a new 'TotalSquareFootage' column\n",
        "\n"
      ],
      "execution_count": null,
      "outputs": []
    },
    {
      "cell_type": "code",
      "metadata": {
        "id": "fEy-6VQCi08c"
      },
      "source": [
        "# Lets make a nother new column that is 'PricePerSqFt' by\n",
        "# dividing the price by the square footage\n",
        "\n"
      ],
      "execution_count": null,
      "outputs": []
    },
    {
      "cell_type": "markdown",
      "metadata": {
        "id": "tvkB9z0ohQG6"
      },
      "source": [
        "###We can also use if-then statements to create new variables.  \n",
        "\n",
        "Say we want to categorize houses as having a high price per square foot (greater than or equal to 80 dollars per square foot) or a low price per square foot (less than 80 dollars per square foot)."
      ]
    },
    {
      "cell_type": "code",
      "metadata": {
        "id": "649cPb-chjRf"
      },
      "source": [
        "\n",
        "#pd.crosstab(small_df['High_ppsqft'],columns='count')"
      ],
      "execution_count": null,
      "outputs": []
    },
    {
      "cell_type": "markdown",
      "metadata": {
        "id": "nJ-GGFwKkPjF"
      },
      "source": [
        "Now we have added several new columns on our small dataset.\n",
        "\n",
        "- What does a **high** `PricePerSqFt` say about a home that the square footage and price alone don't capture as directly?\n",
        "\n",
        "- What does a **low** `PricePerSqFt` say about a home that the square footage and price alone don't directly capture?\n",
        "\n"
      ]
    },
    {
      "cell_type": "markdown",
      "metadata": {
        "id": "cav0rJH2qV4I"
      },
      "source": [
        "### Let's include \"and\" and \"or\" conditions in the if-then statements.\n",
        "\n",
        "Let's identify the 2-story duplex houses."
      ]
    },
    {
      "cell_type": "code",
      "metadata": {
        "id": "BtcTlkd-q2EX"
      },
      "source": [
        "\n",
        "\n",
        "\n"
      ],
      "execution_count": null,
      "outputs": []
    },
    {
      "cell_type": "code",
      "metadata": {
        "id": "bA7zR5r6wgq_"
      },
      "source": [
        "\n"
      ],
      "execution_count": null,
      "outputs": []
    },
    {
      "cell_type": "code",
      "metadata": {
        "id": "ihAzxhCjs1IM"
      },
      "source": [
        ""
      ],
      "execution_count": null,
      "outputs": []
    },
    {
      "cell_type": "markdown",
      "metadata": {
        "id": "3BbCu3ii4LK8"
      },
      "source": [
        "## Challenge\n",
        "\n",
        "I hope you can see how we have used existing columns to create a new column on a dataset that say something new about our unit of observation. This is what making new features (columns) on a dataset is all about and why it's so essential to data science --particularly predictive modeling \"Machine Learning.\" \n",
        "\n",
        "We'll spend the rest of the lecture and assignment today trying to get as good as we can at manipulating (cleaning) and creating new columns on datasets."
      ]
    },
    {
      "cell_type": "markdown",
      "metadata": {
        "id": "sKnLv6nGmU8N"
      },
      "source": [
        "# [Objective 02](#work-with-strings) - Work with Strings with Pandas"
      ]
    },
    {
      "cell_type": "markdown",
      "metadata": {
        "id": "cllyKRVOmZW1"
      },
      "source": [
        "# [Objective 03](#pandas-apply) - Modify and Create Columns using `.apply()`\n",
        "\n"
      ]
    },
    {
      "cell_type": "markdown",
      "metadata": {
        "id": "dqd_Lpb9ntwT"
      },
      "source": [
        "## Overview\n",
        "\n",
        "So far we have worked with numeric datatypes (ints and floats) but we haven't worked with any columns containing string values. We can't simply use arithmetic to manipulate string values, so we'll need to learn some more techniques in order to work with this datatype."
      ]
    },
    {
      "cell_type": "markdown",
      "metadata": {
        "id": "c6UBXPhQnxzj"
      },
      "source": [
        "## Follow Along\n",
        "\n",
        "We're going to import a new dataset here to work with. This dataset is from LendingClub and holds information about loans issued in Q4 of 2018. This dataset is a bit messy so it will give us plenty of opportunities to clean up existing columns as well as create new ones.\n",
        "\n",
        "The `!wget` shell command being used here does exactly the same thing that your browser does when you type a URL in the address. It makes a request or \"gets\" the file at that address. However, in our case the file isn't a webpage, it's a compressed CSV file. \n",
        "\n",
        "Try copying and pasting the URL from below into your browser, did it start an automatic download? Any URLs like this that start automatic downloads when navigated to can be used along with the `!wget` command to bring files directly into your notebook's memory."
      ]
    },
    {
      "cell_type": "markdown",
      "metadata": {
        "id": "r1SkaCMTsCyT"
      },
      "source": [
        "### Load a new dataset"
      ]
    },
    {
      "cell_type": "code",
      "metadata": {
        "id": "MeEKWHB0n2fq"
      },
      "source": [
        "!wget https://resources.lendingclub.com/LoanStats_2018Q4.csv.zip"
      ],
      "execution_count": null,
      "outputs": []
    },
    {
      "cell_type": "markdown",
      "metadata": {
        "id": "TqUSbgIJqAB8"
      },
      "source": [
        "We need to use the `!unzip` command to extract the csv from the zipped folder."
      ]
    },
    {
      "cell_type": "code",
      "metadata": {
        "id": "Mbw0l5wyqLeI"
      },
      "source": [
        "!unzip LoanStats_2018Q4.csv.zip"
      ],
      "execution_count": null,
      "outputs": []
    },
    {
      "cell_type": "markdown",
      "metadata": {
        "id": "ZPB0-7F_qNFT"
      },
      "source": [
        "We can also use bash/shell commands to look at the raw file using the `!head` and `!tail` commands"
      ]
    },
    {
      "cell_type": "code",
      "metadata": {
        "id": "ZcWpsAmFqTF4"
      },
      "source": [
        "!head LoanStats_2018Q4.csv"
      ],
      "execution_count": null,
      "outputs": []
    },
    {
      "cell_type": "code",
      "metadata": {
        "id": "t-uPShUxqa9O"
      },
      "source": [
        "!tail LoanStats_2018Q4.csv"
      ],
      "execution_count": null,
      "outputs": []
    },
    {
      "cell_type": "markdown",
      "metadata": {
        "id": "C_bEBsHTqduT"
      },
      "source": [
        "As we look at the raw file itself, do you see anything that might cause us trouble as we read in the CSV file to a dataframe?"
      ]
    },
    {
      "cell_type": "code",
      "metadata": {
        "id": "ikpjHKeiqlWp"
      },
      "source": [
        "# Read in the CSV\n",
        "\n",
        "df = pd.read_csv('LoanStats_2018Q4.csv', header=1)\n",
        "\n",
        "print(df.shape)\n",
        "df.head()"
      ],
      "execution_count": null,
      "outputs": []
    },
    {
      "cell_type": "markdown",
      "metadata": {
        "id": "wvqwNrQlq5fr"
      },
      "source": [
        "The extra rows at the top and bottom of the file have done two things:\n",
        "\n",
        "1) The top row has made it so that the entire dataset is being interpreted as column headers\n",
        "\n",
        "2) The bottom two rows have been read into the 'id' column and are causing every column to have at least two `NaN` values in it."
      ]
    },
    {
      "cell_type": "code",
      "metadata": {
        "id": "PKM5P0RzrLh8"
      },
      "source": [
        "# We can fix the header problem by using the 'skiprows' parameter\n",
        "\n",
        "df = pd.read_csv('LoanStats_2018Q4.csv', skiprows=1)\n",
        "\n"
      ],
      "execution_count": null,
      "outputs": []
    },
    {
      "cell_type": "markdown",
      "metadata": {
        "id": "CuLO7bhTrY0z"
      },
      "source": [
        "Lets look at the NaN values of each column so that you can see the problem that the extra rows at the bottom of the file are creating for us"
      ]
    },
    {
      "cell_type": "code",
      "metadata": {
        "id": "12OtVOd9rdb-"
      },
      "source": [
        "# Sum null values by column and sort from least to greatest\n"
      ],
      "execution_count": null,
      "outputs": []
    },
    {
      "cell_type": "code",
      "metadata": {
        "id": "WsrL1ai9KgFS"
      },
      "source": [
        ""
      ],
      "execution_count": null,
      "outputs": []
    },
    {
      "cell_type": "code",
      "metadata": {
        "id": "4793LweyroFI"
      },
      "source": [
        "# Address the extra NaNs in each column by skipping the footer as well.\n",
        "df = pd.read_csv('LoanStats_2018Q4.csv', skiprows=1, skipfooter=2, engine='python')\n",
        "\n"
      ],
      "execution_count": null,
      "outputs": []
    },
    {
      "cell_type": "code",
      "metadata": {
        "id": "P7w8iGhyr0Bu"
      },
      "source": [
        ""
      ],
      "execution_count": null,
      "outputs": []
    },
    {
      "cell_type": "markdown",
      "metadata": {
        "id": "XzPuC7jUstVF"
      },
      "source": [
        "For good measure, we'll also drop some columns that are made up completely of NaN values.\n",
        "\n",
        "Why might LendingClub have included columns in their dataset that are 100% blank?"
      ]
    },
    {
      "cell_type": "code",
      "metadata": {
        "id": "HubXTHZ3sj6n"
      },
      "source": [
        ""
      ],
      "execution_count": null,
      "outputs": []
    },
    {
      "cell_type": "code",
      "metadata": {
        "id": "VcmxUo8LLHsr"
      },
      "source": [
        ""
      ],
      "execution_count": null,
      "outputs": []
    },
    {
      "cell_type": "code",
      "metadata": {
        "id": "uE3scusaLNtu"
      },
      "source": [
        ""
      ],
      "execution_count": null,
      "outputs": []
    },
    {
      "cell_type": "markdown",
      "metadata": {
        "id": "87lzDxnCr_6j"
      },
      "source": [
        "### Clean up the `int_rate` column\n",
        "\n",
        "When we're preparing a dataset for a machine learning model we typically don't want to leave any string values in our dataset --because it's hard to do math on words. \n",
        "\n",
        "Specifically, we have a column that is representing a numeric value, but currently doesn't have a numeric datatype. Lets look at the first 10 values of the `int_rate` column:"
      ]
    },
    {
      "cell_type": "code",
      "metadata": {
        "id": "wQRxQs3-tnup"
      },
      "source": [
        "# Look at the first 10 values of the int_rate column\n"
      ],
      "execution_count": null,
      "outputs": []
    },
    {
      "cell_type": "code",
      "metadata": {
        "id": "Cu2lMR4wtt-M"
      },
      "source": [
        "# Look at a specific value from the int_rate column\n",
        "\n"
      ],
      "execution_count": null,
      "outputs": []
    },
    {
      "cell_type": "code",
      "metadata": {
        "id": "J_jaqVUWnb-9"
      },
      "source": [
        "\n"
      ],
      "execution_count": null,
      "outputs": []
    },
    {
      "cell_type": "markdown",
      "metadata": {
        "id": "umnBqFa0t22W"
      },
      "source": [
        "Problems that we need to address with this column:\n",
        "\n",
        "- String column that should be numeric\n",
        "- Percent sign `%` included with the number\n",
        "- Leading space at the beginning of the string\n",
        "\n",
        "However, we're not going to try and write exactly the right code to fix this column in one go. We're going to methodically build up to the code that will help us address these problems.\n"
      ]
    },
    {
      "cell_type": "code",
      "metadata": {
        "id": "qveVttHSuVlh"
      },
      "source": [
        "# Lets start with just fixing a single string.\n",
        "# If we can fix one, we can usually fix all of them\n",
        "\n",
        "\n"
      ],
      "execution_count": null,
      "outputs": []
    },
    {
      "cell_type": "code",
      "metadata": {
        "id": "o3bRlDUbus9m"
      },
      "source": [
        "#Remove extra white space\n",
        "\n",
        "\n"
      ],
      "execution_count": null,
      "outputs": []
    },
    {
      "cell_type": "code",
      "metadata": {
        "id": "hfFY8nGluouN"
      },
      "source": [
        "#Doesn't work if there isn't any extra white space to remove\n",
        "\n"
      ],
      "execution_count": null,
      "outputs": []
    },
    {
      "cell_type": "code",
      "metadata": {
        "id": "GYXgMAOXRXXO"
      },
      "source": [
        "#Doesn't work to try to apply the .strip function to an entire column all at once.\n",
        "#The function has to be applied to a text string.\n",
        "\n",
        "\n",
        "\n"
      ],
      "execution_count": null,
      "outputs": []
    },
    {
      "cell_type": "code",
      "metadata": {
        "id": "KA-FB2WEuvZr"
      },
      "source": [
        "#You can \"chain\" two strip functions to remove both the spaces and the % sign\n",
        "\n"
      ],
      "execution_count": null,
      "outputs": []
    },
    {
      "cell_type": "code",
      "metadata": {
        "id": "cjhHPbDtuxtU"
      },
      "source": [
        "# \"Cast\" the string value to a float\n",
        "# \"cast\" -> Change something's data type\n",
        "# This is the line of code that we're after! ->\n",
        "\n"
      ],
      "execution_count": null,
      "outputs": []
    },
    {
      "cell_type": "code",
      "metadata": {
        "id": "kcqneHUmvCs6"
      },
      "source": [
        ""
      ],
      "execution_count": null,
      "outputs": []
    },
    {
      "cell_type": "markdown",
      "metadata": {
        "id": "S_bTzHIJvc8M"
      },
      "source": [
        "### Write a function to make our solution reusable!"
      ]
    },
    {
      "cell_type": "code",
      "metadata": {
        "id": "ZAEyVD-WoXDW"
      },
      "source": [
        ""
      ],
      "execution_count": null,
      "outputs": []
    },
    {
      "cell_type": "markdown",
      "metadata": {
        "id": "u8R__15vSBvF"
      },
      "source": [
        "We want to write a function that will look in every cell of int_rate, take out the white space and the % and convert the result into a float."
      ]
    },
    {
      "cell_type": "markdown",
      "metadata": {
        "id": "QL7P71WnSV_4"
      },
      "source": [
        "Every function has several standard parts:\n",
        "\n",
        "* def statement\n",
        "* name\n",
        "* parameter name(s)\n",
        "* body\n",
        "* a return statement\n",
        "* a return value\n",
        "\n",
        "Here's an example of a function that the raduius of a sphere and calculates the volume.\n",
        "\n",
        "It would be a pain to have to write this code over and over again if we needed to do this calculation a lot, so it's nice to have it written as a re-usable function. "
      ]
    },
    {
      "cell_type": "markdown",
      "metadata": {
        "id": "6fhzMndyUwMn"
      },
      "source": [
        "![Function+parts+Argument(sent+in)+radius+is+called+a.+parameter.+def+vol_of_sphere(radius)_+header+vol+=+4_3.0_math.pi_radius__3+return+vol.jpg](data:image/jpeg;base64,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)"
      ]
    },
    {
      "cell_type": "code",
      "metadata": {
        "id": "oSnlXwlcidDb"
      },
      "source": [
        "# Here is a function that will take a single string, strip off the space and %\n",
        "# And return the value as a float\n",
        "\n",
        "def int_rate_to_float(string):\n",
        "  return float(string.strip().strip('%'))"
      ],
      "execution_count": null,
      "outputs": []
    },
    {
      "cell_type": "markdown",
      "metadata": {
        "id": "OOdHI6XOT2ME"
      },
      "source": [
        "* def = def\n",
        "* return = return\n",
        "* int_rate_to_float is the name of the name of the function\n",
        "* string is the parameter name\n",
        "* the body of the function is the same as the row beginning with return\n",
        "* float(string.strip().strip('%')) is the value to return\n",
        "\n"
      ]
    },
    {
      "cell_type": "code",
      "metadata": {
        "id": "Ng3lQFD8vxQt"
      },
      "source": [
        "# Test out our function by calling it on our example\n",
        "\n"
      ],
      "execution_count": null,
      "outputs": []
    },
    {
      "cell_type": "code",
      "metadata": {
        "id": "7cPxk1W9v2ul"
      },
      "source": [
        "# is the data type correct?\n",
        "\n"
      ],
      "execution_count": null,
      "outputs": []
    },
    {
      "cell_type": "markdown",
      "metadata": {
        "id": "4ZURkW9AYX16"
      },
      "source": [
        "The the problem is that - to use this function - we'd have to feed in every interest rate one by one.  Not pracitcal.  \n",
        "\n",
        "Fortunately we can use the .apply() function built to into Python, which will apply the function to every row of a variable."
      ]
    },
    {
      "cell_type": "markdown",
      "metadata": {
        "id": "hgxdjRqnv-ZH"
      },
      "source": [
        "### Apply our solution to every cell in a column"
      ]
    },
    {
      "cell_type": "code",
      "metadata": {
        "id": "eGJmf1IbwE1Q"
      },
      "source": [
        ""
      ],
      "execution_count": null,
      "outputs": []
    },
    {
      "cell_type": "code",
      "metadata": {
        "id": "y7wMZexFozBd"
      },
      "source": [
        "# pass in *only* the name of the function, don't call it. \n",
        "# This works because we know the function works on every item in the column\n",
        "# so I can simply \"apply\" it to the entire column\n",
        "\n"
      ],
      "execution_count": null,
      "outputs": []
    },
    {
      "cell_type": "code",
      "metadata": {
        "id": "hYCez3j5wLWt"
      },
      "source": [
        "\n",
        "# What type of data is held in our new column?\n",
        "\n",
        "# Look at the datatypes of the last 5 columns\n",
        "\n"
      ],
      "execution_count": null,
      "outputs": []
    },
    {
      "cell_type": "markdown",
      "metadata": {
        "id": "FOXkc5own3LM"
      },
      "source": [
        "## Challenge\n",
        "\n",
        "We can create a new column with our cleaned values or overwrite the original, whatever we think best suits our needs. On your assignment you will take the same approach in trying to methodically build up the complexity of your code until you have a few lines that will work for any cell in a column. At that point you'll contain all of that functionality in a reusable function block and then use the `.apply()` function to... well... apply those changes to an entire column."
      ]
    },
    {
      "cell_type": "markdown",
      "metadata": {
        "id": "m0G8Kv-MmaHh"
      },
      "source": [
        "# [Objective](#dates-and-times) Work with Dates and Times with Pandas"
      ]
    },
    {
      "cell_type": "markdown",
      "metadata": {
        "id": "565Xjo-RnvLm"
      },
      "source": [
        "## Overview\n",
        "\n",
        "Pandas has its own datatype datatype that makes it extremely convenient to convert strings that are in standard date formates to datetime objects and then use those datetime objects to either create new features on a dataframe or work with the dataset in a timeseries fashion. \n",
        "\n",
        "This section will demonstrate how to take a column of date strings, convert it to a datetime object and then use the datetime formatting `.dt` to access specific parts of the date (year, month, day) to generate useful columns on a dataframe."
      ]
    },
    {
      "cell_type": "markdown",
      "metadata": {
        "id": "YpoU_2Gknzbz"
      },
      "source": [
        "## Follow Along"
      ]
    },
    {
      "cell_type": "markdown",
      "metadata": {
        "id": "BoQ86d_R79J6"
      },
      "source": [
        "### Work with Dates \n",
        "\n",
        "pandas documentation\n",
        "- [to_datetime](https://pandas.pydata.org/pandas-docs/stable/generated/pandas.to_datetime.html)\n",
        "- [Time/Date Components](https://pandas.pydata.org/pandas-docs/stable/timeseries.html#time-date-components) \"You can access these properties via the `.dt` accessor\"\n",
        "\n",
        "Many of the most useful date columns in this dataset have the suffix `_d` to indicate that they correspond to dates.\n",
        "\n",
        "We'll use a list comprehension to print them out"
      ]
    },
    {
      "cell_type": "markdown",
      "metadata": {
        "id": "M_1-gz-5edya"
      },
      "source": [
        "###What is a list comprehension?\n",
        "\n",
        "\n",
        "List comprehension is an elegant way to define and create lists based on existing lists.\n",
        "\n"
      ]
    },
    {
      "cell_type": "markdown",
      "metadata": {
        "id": "za6gPWe8e4Eo"
      },
      "source": [
        "A list comprehension has the form: [expression for item in list]"
      ]
    },
    {
      "cell_type": "code",
      "metadata": {
        "id": "SxOhEaEX76mY"
      },
      "source": [
        "#List comprehension tht returns a list of columns from df where the column\n",
        "#name ends with _d\n",
        "\n",
        "[col for col in df if col.endswith('_d')]"
      ],
      "execution_count": null,
      "outputs": []
    },
    {
      "cell_type": "markdown",
      "metadata": {
        "id": "JJkUZ5g4fxPH"
      },
      "source": [
        "* Expression = col (first time, before for)\n",
        "* Item = col (second time, after for)\n",
        "* List = df if col.endswith('_d')"
      ]
    },
    {
      "cell_type": "markdown",
      "metadata": {
        "id": "7wccaSfx9Zo4"
      },
      "source": [
        "Lets look at the string format of the `issue_d` column"
      ]
    },
    {
      "cell_type": "code",
      "metadata": {
        "id": "BVYeLIOm9dQ-"
      },
      "source": [
        ""
      ],
      "execution_count": null,
      "outputs": []
    },
    {
      "cell_type": "markdown",
      "metadata": {
        "id": "DnjOcU5y9iZh"
      },
      "source": [
        "Because this string format %m-%y is a common datetime format, we can just let Pandas detect this format and translate it to the appropriate datetime object."
      ]
    },
    {
      "cell_type": "code",
      "metadata": {
        "id": "cBV3Ta_79qe6"
      },
      "source": [
        ""
      ],
      "execution_count": null,
      "outputs": []
    },
    {
      "cell_type": "markdown",
      "metadata": {
        "id": "6hcypFMu9y4s"
      },
      "source": [
        "Now we can see that the `issue_d` column has been changed to hold `datetime` objects.\n",
        "\n",
        "Lets look at one of the cells specifically to see what a datetime object looks like:"
      ]
    },
    {
      "cell_type": "code",
      "metadata": {
        "id": "fUMjhnyJ94is"
      },
      "source": [
        ""
      ],
      "execution_count": null,
      "outputs": []
    },
    {
      "cell_type": "markdown",
      "metadata": {
        "id": "aZQiLh4O-CMN"
      },
      "source": [
        "You can see how the month and year have been indicated by the strings that were contained in the column previously, and that the rest of the values have been inferred."
      ]
    },
    {
      "cell_type": "code",
      "metadata": {
        "id": "6_PhaWzb-J7X"
      },
      "source": [
        ""
      ],
      "execution_count": null,
      "outputs": []
    },
    {
      "cell_type": "markdown",
      "metadata": {
        "id": "V3rKmrzY-NsD"
      },
      "source": [
        "We can use the `.dt` accessor to now grab specific parts of the datetime object. Lets grab just the year from the all of the cells in the `issue_d` column"
      ]
    },
    {
      "cell_type": "code",
      "metadata": {
        "id": "y4479qzj-Yj5"
      },
      "source": [
        ""
      ],
      "execution_count": null,
      "outputs": []
    },
    {
      "cell_type": "markdown",
      "metadata": {
        "id": "coNYQvdJ-b0s"
      },
      "source": [
        "Now the month."
      ]
    },
    {
      "cell_type": "code",
      "metadata": {
        "id": "D28keYR3-dJn"
      },
      "source": [
        ""
      ],
      "execution_count": null,
      "outputs": []
    },
    {
      "cell_type": "markdown",
      "metadata": {
        "id": "g4_O0q0t-hOX"
      },
      "source": [
        "It's just that easy! Now, instead of printing them out, lets add these year and month values as new columns on our dataframe. Again, you'll have to scroll all the way over to the right in the table to see the new columns."
      ]
    },
    {
      "cell_type": "code",
      "metadata": {
        "id": "VJdlhqH1-mri"
      },
      "source": [
        ""
      ],
      "execution_count": null,
      "outputs": []
    },
    {
      "cell_type": "markdown",
      "metadata": {
        "id": "LAxig0nE-1kt"
      },
      "source": [
        "Because all of these dates come from Q4 of 2018, the `issue_d` column isn't all that interesting. Lets look at the `earliest_cr_line` column, which is also a string, but that could be converted to datetime format.\n",
        "\n",
        "We're going to create a new column called `days_from_earliest_credit_to_issue`\n",
        "\n",
        "It's a long column header, but think about how valuable this piece of information could be. This number will essentially indicate the length of a person's credit history and if that is correlated with repayment or other factors could be a valuable predictor!"
      ]
    },
    {
      "cell_type": "code",
      "metadata": {
        "id": "5S6BDZjp-e8-"
      },
      "source": [
        ""
      ],
      "execution_count": null,
      "outputs": []
    },
    {
      "cell_type": "code",
      "metadata": {
        "id": "X0VwXV1F_YpZ"
      },
      "source": [
        ""
      ],
      "execution_count": null,
      "outputs": []
    },
    {
      "cell_type": "code",
      "metadata": {
        "id": "tRWE2SXZe8mA"
      },
      "source": [
        "\n",
        "\n",
        "#Don't forget leap year = 365.25 each year.\n",
        "\n"
      ],
      "execution_count": null,
      "outputs": []
    },
    {
      "cell_type": "markdown",
      "metadata": {
        "id": "ml-N769C_e_n"
      },
      "source": [
        "What we're about to do is so cool! Pandas' datetime format is so smart that we can simply use the subtraction operator `-` in order to calculate the amount of time between two dates. \n",
        "\n",
        "Think about everything that's going on under the hood in order to give us such straightforward syntax! Handling months of different lengths, leap years, etc. Pandas datetime objects are seriously powerful!"
      ]
    },
    {
      "cell_type": "code",
      "metadata": {
        "id": "FWu1a57V_cHx"
      },
      "source": [
        ""
      ],
      "execution_count": null,
      "outputs": []
    },
    {
      "cell_type": "markdown",
      "metadata": {
        "id": "FHQEQZx6_3_p"
      },
      "source": [
        "What's oldest credit history that was involved in Q4 2018? "
      ]
    },
    {
      "cell_type": "code",
      "metadata": {
        "id": "nrEqk6hG_20O"
      },
      "source": [
        ""
      ],
      "execution_count": null,
      "outputs": []
    },
    {
      "cell_type": "markdown",
      "metadata": {
        "id": "gORWK62cAF2a"
      },
      "source": [
        "25,171 days is ~ 68.96 years of credit history!"
      ]
    },
    {
      "cell_type": "markdown",
      "metadata": {
        "id": "THRLJ-7Jn4om"
      },
      "source": [
        "## Challenge\n",
        "\n",
        "Pandas' datetime format is so easy to work with that there's really no excuse for not using dates to make features on a dataframe! Get ready to practice more of this on your assignment."
      ]
    }
  ]
}