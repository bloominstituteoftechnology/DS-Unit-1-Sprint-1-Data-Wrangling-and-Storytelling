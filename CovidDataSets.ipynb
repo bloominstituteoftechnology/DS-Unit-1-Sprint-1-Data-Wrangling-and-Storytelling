{
  "nbformat": 4,
  "nbformat_minor": 0,
  "metadata": {
    "colab": {
      "name": "CovidDataSets.ipynb",
      "provenance": [],
      "authorship_tag": "ABX9TyN8EelfONW6uzeg0UpjdEI4",
      "include_colab_link": true
    },
    "kernelspec": {
      "name": "python3",
      "display_name": "Python 3"
    }
  },
  "cells": [
    {
      "cell_type": "markdown",
      "metadata": {
        "id": "view-in-github",
        "colab_type": "text"
      },
      "source": [
        "<a href=\"https://colab.research.google.com/github/kvinne-anc/DS-Unit-1-Sprint-1-Data-Wrangling-and-Storytelling/blob/master/CovidDataSets.ipynb\" target=\"_parent\"><img src=\"https://colab.research.google.com/assets/colab-badge.svg\" alt=\"Open In Colab\"/></a>"
      ]
    },
    {
      "cell_type": "code",
      "metadata": {
        "id": "aoeUcWamkSOH",
        "colab_type": "code",
        "colab": {
          "base_uri": "https://localhost:8080/",
          "height": 289
        },
        "outputId": "21d95c11-f3bc-49a1-e919-087e8db23d37"
      },
      "source": [
        "import pandas as pd\n",
        "import numpy as np\n",
        "\n",
        "! wget 'https://www.kaggle.com/howsmyflattening/covid19-challenges/download/qjg6ZfVIx7nfqlNahTDV%2Fversions%2FZr6BoIV1GsRaFO0rqXRc%2Ffiles%2Finternational_mortality.csv?datasetVersionNumber=54'"
      ],
      "execution_count": 3,
      "outputs": [
        {
          "output_type": "stream",
          "text": [
            "--2020-05-07 00:47:00--  https://www.kaggle.com/howsmyflattening/covid19-challenges/download/qjg6ZfVIx7nfqlNahTDV%2Fversions%2FZr6BoIV1GsRaFO0rqXRc%2Ffiles%2Finternational_mortality.csv?datasetVersionNumber=54\n",
            "Resolving www.kaggle.com (www.kaggle.com)... 35.244.233.98\n",
            "Connecting to www.kaggle.com (www.kaggle.com)|35.244.233.98|:443... connected.\n",
            "HTTP request sent, awaiting response... 302 Found\n",
            "Location: /account/login?returnUrl=%2Fhowsmyflattening%2Fcovid19-challenges%2Fversion%2F54 [following]\n",
            "--2020-05-07 00:47:00--  https://www.kaggle.com/account/login?returnUrl=%2Fhowsmyflattening%2Fcovid19-challenges%2Fversion%2F54\n",
            "Reusing existing connection to www.kaggle.com:443.\n",
            "HTTP request sent, awaiting response... 200 OK\n",
            "Length: unspecified [text/html]\n",
            "Saving to: ‘qjg6ZfVIx7nfqlNahTDV%2Fversions%2FZr6BoIV1GsRaFO0rqXRc%2Ffiles%2Finternational_mortality.csv?datasetVersionNumber=54’\n",
            "\n",
            "\r          qjg6ZfVIx     [<=>                 ]       0  --.-KB/s               \rqjg6ZfVIx7nfqlNahTD     [ <=>                ]   8.75K  --.-KB/s    in 0s      \n",
            "\n",
            "2020-05-07 00:47:00 (26.5 MB/s) - ‘qjg6ZfVIx7nfqlNahTDV%2Fversions%2FZr6BoIV1GsRaFO0rqXRc%2Ffiles%2Finternational_mortality.csv?datasetVersionNumber=54’ saved [8956]\n",
            "\n"
          ],
          "name": "stdout"
        }
      ]
    },
    {
      "cell_type": "code",
      "metadata": {
        "id": "xI3HdwCBtFJB",
        "colab_type": "code",
        "colab": {
          "base_uri": "https://localhost:8080/",
          "height": 195
        },
        "outputId": "3d9e7dcc-4fab-4241-986b-eccd4c7145d2"
      },
      "source": [
        "death = pd.read_csv('/content/international_mortality.csv')\n",
        "death.head()"
      ],
      "execution_count": 18,
      "outputs": [
        {
          "output_type": "execute_result",
          "data": {
            "text/html": [
              "<div>\n",
              "<style scoped>\n",
              "    .dataframe tbody tr th:only-of-type {\n",
              "        vertical-align: middle;\n",
              "    }\n",
              "\n",
              "    .dataframe tbody tr th {\n",
              "        vertical-align: top;\n",
              "    }\n",
              "\n",
              "    .dataframe thead th {\n",
              "        text-align: right;\n",
              "    }\n",
              "</style>\n",
              "<table border=\"1\" class=\"dataframe\">\n",
              "  <thead>\n",
              "    <tr style=\"text-align: right;\">\n",
              "      <th></th>\n",
              "      <th>id</th>\n",
              "      <th>date</th>\n",
              "      <th>country</th>\n",
              "      <th>deaths</th>\n",
              "    </tr>\n",
              "  </thead>\n",
              "  <tbody>\n",
              "    <tr>\n",
              "      <th>0</th>\n",
              "      <td>1</td>\n",
              "      <td>2020-01-22</td>\n",
              "      <td>Italy</td>\n",
              "      <td>0</td>\n",
              "    </tr>\n",
              "    <tr>\n",
              "      <th>1</th>\n",
              "      <td>2</td>\n",
              "      <td>2020-01-22</td>\n",
              "      <td>Korea, South</td>\n",
              "      <td>0</td>\n",
              "    </tr>\n",
              "    <tr>\n",
              "      <th>2</th>\n",
              "      <td>3</td>\n",
              "      <td>2020-01-22</td>\n",
              "      <td>Spain</td>\n",
              "      <td>0</td>\n",
              "    </tr>\n",
              "    <tr>\n",
              "      <th>3</th>\n",
              "      <td>4</td>\n",
              "      <td>2020-01-22</td>\n",
              "      <td>United Kingdom</td>\n",
              "      <td>0</td>\n",
              "    </tr>\n",
              "    <tr>\n",
              "      <th>4</th>\n",
              "      <td>5</td>\n",
              "      <td>2020-01-22</td>\n",
              "      <td>France</td>\n",
              "      <td>0</td>\n",
              "    </tr>\n",
              "  </tbody>\n",
              "</table>\n",
              "</div>"
            ],
            "text/plain": [
              "   id        date         country  deaths\n",
              "0   1  2020-01-22           Italy       0\n",
              "1   2  2020-01-22    Korea, South       0\n",
              "2   3  2020-01-22           Spain       0\n",
              "3   4  2020-01-22  United Kingdom       0\n",
              "4   5  2020-01-22          France       0"
            ]
          },
          "metadata": {
            "tags": []
          },
          "execution_count": 18
        }
      ]
    },
    {
      "cell_type": "code",
      "metadata": {
        "id": "rYpWqqUvtKOS",
        "colab_type": "code",
        "colab": {
          "base_uri": "https://localhost:8080/",
          "height": 195
        },
        "outputId": "31900ca4-ad34-4e60-8485-c5b3aeb7c1fb"
      },
      "source": [
        "locke = pd.read_csv('/content/countryLockdowndates.csv')\n",
        "locke.head()"
      ],
      "execution_count": 17,
      "outputs": [
        {
          "output_type": "execute_result",
          "data": {
            "text/html": [
              "<div>\n",
              "<style scoped>\n",
              "    .dataframe tbody tr th:only-of-type {\n",
              "        vertical-align: middle;\n",
              "    }\n",
              "\n",
              "    .dataframe tbody tr th {\n",
              "        vertical-align: top;\n",
              "    }\n",
              "\n",
              "    .dataframe thead th {\n",
              "        text-align: right;\n",
              "    }\n",
              "</style>\n",
              "<table border=\"1\" class=\"dataframe\">\n",
              "  <thead>\n",
              "    <tr style=\"text-align: right;\">\n",
              "      <th></th>\n",
              "      <th>Country/Region</th>\n",
              "      <th>Province</th>\n",
              "      <th>Date</th>\n",
              "      <th>Type</th>\n",
              "      <th>Reference</th>\n",
              "    </tr>\n",
              "  </thead>\n",
              "  <tbody>\n",
              "    <tr>\n",
              "      <th>0</th>\n",
              "      <td>Afghanistan</td>\n",
              "      <td>NaN</td>\n",
              "      <td>24/03/2020</td>\n",
              "      <td>Full</td>\n",
              "      <td>https://www.thestatesman.com/world/afghan-govt...</td>\n",
              "    </tr>\n",
              "    <tr>\n",
              "      <th>1</th>\n",
              "      <td>Albania</td>\n",
              "      <td>NaN</td>\n",
              "      <td>08/03/2020</td>\n",
              "      <td>Full</td>\n",
              "      <td>https://en.wikipedia.org/wiki/2020_coronavirus...</td>\n",
              "    </tr>\n",
              "    <tr>\n",
              "      <th>2</th>\n",
              "      <td>Algeria</td>\n",
              "      <td>NaN</td>\n",
              "      <td>24/03/2020</td>\n",
              "      <td>Full</td>\n",
              "      <td>https://www.garda.com/crisis24/news-alerts/325...</td>\n",
              "    </tr>\n",
              "    <tr>\n",
              "      <th>3</th>\n",
              "      <td>Andorra</td>\n",
              "      <td>NaN</td>\n",
              "      <td>16/03/2020</td>\n",
              "      <td>Full</td>\n",
              "      <td>https://en.wikipedia.org/wiki/2020_coronavirus...</td>\n",
              "    </tr>\n",
              "    <tr>\n",
              "      <th>4</th>\n",
              "      <td>Angola</td>\n",
              "      <td>NaN</td>\n",
              "      <td>24/03/2020</td>\n",
              "      <td>Full</td>\n",
              "      <td>https://en.wikipedia.org/wiki/2020_coronavirus...</td>\n",
              "    </tr>\n",
              "  </tbody>\n",
              "</table>\n",
              "</div>"
            ],
            "text/plain": [
              "  Country/Region  ...                                          Reference\n",
              "0    Afghanistan  ...  https://www.thestatesman.com/world/afghan-govt...\n",
              "1        Albania  ...  https://en.wikipedia.org/wiki/2020_coronavirus...\n",
              "2        Algeria  ...  https://www.garda.com/crisis24/news-alerts/325...\n",
              "3        Andorra  ...  https://en.wikipedia.org/wiki/2020_coronavirus...\n",
              "4         Angola  ...  https://en.wikipedia.org/wiki/2020_coronavirus...\n",
              "\n",
              "[5 rows x 5 columns]"
            ]
          },
          "metadata": {
            "tags": []
          },
          "execution_count": 17
        }
      ]
    },
    {
      "cell_type": "code",
      "metadata": {
        "id": "IXsysBZ9tcIm",
        "colab_type": "code",
        "colab": {}
      },
      "source": [
        ""
      ],
      "execution_count": 0,
      "outputs": []
    }
  ]
}