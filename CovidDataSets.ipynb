{
  "nbformat": 4,
  "nbformat_minor": 0,
  "metadata": {
    "colab": {
      "name": "CovidDataSets.ipynb",
      "provenance": [],
      "authorship_tag": "ABX9TyOXDmgjbN06UFj/1oThHAJU",
      "include_colab_link": true
    },
    "kernelspec": {
      "name": "python3",
      "display_name": "Python 3"
    }
  },
  "cells": [
    {
      "cell_type": "markdown",
      "metadata": {
        "id": "view-in-github",
        "colab_type": "text"
      },
      "source": [
        "<a href=\"https://colab.research.google.com/github/kvinne-anc/DS-Unit-1-Sprint-1-Data-Wrangling-and-Storytelling/blob/master/CovidDataSets.ipynb\" target=\"_parent\"><img src=\"https://colab.research.google.com/assets/colab-badge.svg\" alt=\"Open In Colab\"/></a>"
      ]
    },
    {
      "cell_type": "code",
      "metadata": {
        "id": "aoeUcWamkSOH",
        "colab_type": "code",
        "colab": {
          "base_uri": "https://localhost:8080/",
          "height": 289
        },
        "outputId": "21d95c11-f3bc-49a1-e919-087e8db23d37"
      },
      "source": [
        "import pandas as pd\n",
        "import numpy as np\n",
        "\n",
        "! wget 'https://www.kaggle.com/howsmyflattening/covid19-challenges/download/qjg6ZfVIx7nfqlNahTDV%2Fversions%2FZr6BoIV1GsRaFO0rqXRc%2Ffiles%2Finternational_mortality.csv?datasetVersionNumber=54'"
      ],
      "execution_count": 3,
      "outputs": [
        {
          "output_type": "stream",
          "text": [
            "--2020-05-07 00:47:00--  https://www.kaggle.com/howsmyflattening/covid19-challenges/download/qjg6ZfVIx7nfqlNahTDV%2Fversions%2FZr6BoIV1GsRaFO0rqXRc%2Ffiles%2Finternational_mortality.csv?datasetVersionNumber=54\n",
            "Resolving www.kaggle.com (www.kaggle.com)... 35.244.233.98\n",
            "Connecting to www.kaggle.com (www.kaggle.com)|35.244.233.98|:443... connected.\n",
            "HTTP request sent, awaiting response... 302 Found\n",
            "Location: /account/login?returnUrl=%2Fhowsmyflattening%2Fcovid19-challenges%2Fversion%2F54 [following]\n",
            "--2020-05-07 00:47:00--  https://www.kaggle.com/account/login?returnUrl=%2Fhowsmyflattening%2Fcovid19-challenges%2Fversion%2F54\n",
            "Reusing existing connection to www.kaggle.com:443.\n",
            "HTTP request sent, awaiting response... 200 OK\n",
            "Length: unspecified [text/html]\n",
            "Saving to: ‘qjg6ZfVIx7nfqlNahTDV%2Fversions%2FZr6BoIV1GsRaFO0rqXRc%2Ffiles%2Finternational_mortality.csv?datasetVersionNumber=54’\n",
            "\n",
            "\r          qjg6ZfVIx     [<=>                 ]       0  --.-KB/s               \rqjg6ZfVIx7nfqlNahTD     [ <=>                ]   8.75K  --.-KB/s    in 0s      \n",
            "\n",
            "2020-05-07 00:47:00 (26.5 MB/s) - ‘qjg6ZfVIx7nfqlNahTDV%2Fversions%2FZr6BoIV1GsRaFO0rqXRc%2Ffiles%2Finternational_mortality.csv?datasetVersionNumber=54’ saved [8956]\n",
            "\n"
          ],
          "name": "stdout"
        }
      ]
    },
    {
      "cell_type": "code",
      "metadata": {
        "id": "xI3HdwCBtFJB",
        "colab_type": "code",
        "colab": {
          "base_uri": "https://localhost:8080/",
          "height": 195
        },
        "outputId": "baa8cf3a-ac4f-49a8-9248-54728d0bed44"
      },
      "source": [
        "death = pd.read_csv('/content/international_mortality.csv')\n",
        "death.head()"
      ],
      "execution_count": 33,
      "outputs": [
        {
          "output_type": "execute_result",
          "data": {
            "text/html": [
              "<div>\n",
              "<style scoped>\n",
              "    .dataframe tbody tr th:only-of-type {\n",
              "        vertical-align: middle;\n",
              "    }\n",
              "\n",
              "    .dataframe tbody tr th {\n",
              "        vertical-align: top;\n",
              "    }\n",
              "\n",
              "    .dataframe thead th {\n",
              "        text-align: right;\n",
              "    }\n",
              "</style>\n",
              "<table border=\"1\" class=\"dataframe\">\n",
              "  <thead>\n",
              "    <tr style=\"text-align: right;\">\n",
              "      <th></th>\n",
              "      <th>id</th>\n",
              "      <th>date</th>\n",
              "      <th>country</th>\n",
              "      <th>deaths</th>\n",
              "    </tr>\n",
              "  </thead>\n",
              "  <tbody>\n",
              "    <tr>\n",
              "      <th>0</th>\n",
              "      <td>1</td>\n",
              "      <td>2020-01-22</td>\n",
              "      <td>Italy</td>\n",
              "      <td>0</td>\n",
              "    </tr>\n",
              "    <tr>\n",
              "      <th>1</th>\n",
              "      <td>2</td>\n",
              "      <td>2020-01-22</td>\n",
              "      <td>Korea, South</td>\n",
              "      <td>0</td>\n",
              "    </tr>\n",
              "    <tr>\n",
              "      <th>2</th>\n",
              "      <td>3</td>\n",
              "      <td>2020-01-22</td>\n",
              "      <td>Spain</td>\n",
              "      <td>0</td>\n",
              "    </tr>\n",
              "    <tr>\n",
              "      <th>3</th>\n",
              "      <td>4</td>\n",
              "      <td>2020-01-22</td>\n",
              "      <td>United Kingdom</td>\n",
              "      <td>0</td>\n",
              "    </tr>\n",
              "    <tr>\n",
              "      <th>4</th>\n",
              "      <td>5</td>\n",
              "      <td>2020-01-22</td>\n",
              "      <td>France</td>\n",
              "      <td>0</td>\n",
              "    </tr>\n",
              "  </tbody>\n",
              "</table>\n",
              "</div>"
            ],
            "text/plain": [
              "   id        date         country  deaths\n",
              "0   1  2020-01-22           Italy       0\n",
              "1   2  2020-01-22    Korea, South       0\n",
              "2   3  2020-01-22           Spain       0\n",
              "3   4  2020-01-22  United Kingdom       0\n",
              "4   5  2020-01-22          France       0"
            ]
          },
          "metadata": {
            "tags": []
          },
          "execution_count": 33
        }
      ]
    },
    {
      "cell_type": "code",
      "metadata": {
        "id": "_XtOhGcRuuTa",
        "colab_type": "code",
        "colab": {
          "base_uri": "https://localhost:8080/",
          "height": 101
        },
        "outputId": "c0f14315-e589-47b8-af47-c46ba0041258"
      },
      "source": [
        "death.isnull().sum()"
      ],
      "execution_count": 19,
      "outputs": [
        {
          "output_type": "execute_result",
          "data": {
            "text/plain": [
              "id         0\n",
              "date       0\n",
              "country    0\n",
              "deaths     0\n",
              "dtype: int64"
            ]
          },
          "metadata": {
            "tags": []
          },
          "execution_count": 19
        }
      ]
    },
    {
      "cell_type": "code",
      "metadata": {
        "id": "7kjppdabzM8f",
        "colab_type": "code",
        "colab": {
          "base_uri": "https://localhost:8080/",
          "height": 101
        },
        "outputId": "00cb4d7c-b19b-4e31-cf09-263538bf2511"
      },
      "source": [
        "death.dtypes"
      ],
      "execution_count": 23,
      "outputs": [
        {
          "output_type": "execute_result",
          "data": {
            "text/plain": [
              "id          int64\n",
              "date       object\n",
              "country    object\n",
              "deaths      int64\n",
              "dtype: object"
            ]
          },
          "metadata": {
            "tags": []
          },
          "execution_count": 23
        }
      ]
    },
    {
      "cell_type": "code",
      "metadata": {
        "id": "Ij5BnPmvzmad",
        "colab_type": "code",
        "colab": {
          "base_uri": "https://localhost:8080/",
          "height": 34
        },
        "outputId": "3b904ea3-a921-4ccb-8f25-49d47a64efd0"
      },
      "source": [
        "death.shape"
      ],
      "execution_count": 24,
      "outputs": [
        {
          "output_type": "execute_result",
          "data": {
            "text/plain": [
              "(630, 4)"
            ]
          },
          "metadata": {
            "tags": []
          },
          "execution_count": 24
        }
      ]
    },
    {
      "cell_type": "code",
      "metadata": {
        "id": "hAgXIh3W0GjU",
        "colab_type": "code",
        "colab": {
          "base_uri": "https://localhost:8080/",
          "height": 284
        },
        "outputId": "2d4a1eaa-5e7a-4008-8641-4fa0606d713f"
      },
      "source": [
        "death.describe()"
      ],
      "execution_count": 25,
      "outputs": [
        {
          "output_type": "execute_result",
          "data": {
            "text/html": [
              "<div>\n",
              "<style scoped>\n",
              "    .dataframe tbody tr th:only-of-type {\n",
              "        vertical-align: middle;\n",
              "    }\n",
              "\n",
              "    .dataframe tbody tr th {\n",
              "        vertical-align: top;\n",
              "    }\n",
              "\n",
              "    .dataframe thead th {\n",
              "        text-align: right;\n",
              "    }\n",
              "</style>\n",
              "<table border=\"1\" class=\"dataframe\">\n",
              "  <thead>\n",
              "    <tr style=\"text-align: right;\">\n",
              "      <th></th>\n",
              "      <th>id</th>\n",
              "      <th>deaths</th>\n",
              "    </tr>\n",
              "  </thead>\n",
              "  <tbody>\n",
              "    <tr>\n",
              "      <th>count</th>\n",
              "      <td>630.000000</td>\n",
              "      <td>630.000000</td>\n",
              "    </tr>\n",
              "    <tr>\n",
              "      <th>mean</th>\n",
              "      <td>315.500000</td>\n",
              "      <td>287.788889</td>\n",
              "    </tr>\n",
              "    <tr>\n",
              "      <th>std</th>\n",
              "      <td>182.009615</td>\n",
              "      <td>547.024565</td>\n",
              "    </tr>\n",
              "    <tr>\n",
              "      <th>min</th>\n",
              "      <td>1.000000</td>\n",
              "      <td>0.000000</td>\n",
              "    </tr>\n",
              "    <tr>\n",
              "      <th>25%</th>\n",
              "      <td>158.250000</td>\n",
              "      <td>0.000000</td>\n",
              "    </tr>\n",
              "    <tr>\n",
              "      <th>50%</th>\n",
              "      <td>315.500000</td>\n",
              "      <td>4.000000</td>\n",
              "    </tr>\n",
              "    <tr>\n",
              "      <th>75%</th>\n",
              "      <td>472.750000</td>\n",
              "      <td>436.500000</td>\n",
              "    </tr>\n",
              "    <tr>\n",
              "      <th>max</th>\n",
              "      <td>630.000000</td>\n",
              "      <td>4592.000000</td>\n",
              "    </tr>\n",
              "  </tbody>\n",
              "</table>\n",
              "</div>"
            ],
            "text/plain": [
              "               id       deaths\n",
              "count  630.000000   630.000000\n",
              "mean   315.500000   287.788889\n",
              "std    182.009615   547.024565\n",
              "min      1.000000     0.000000\n",
              "25%    158.250000     0.000000\n",
              "50%    315.500000     4.000000\n",
              "75%    472.750000   436.500000\n",
              "max    630.000000  4592.000000"
            ]
          },
          "metadata": {
            "tags": []
          },
          "execution_count": 25
        }
      ]
    },
    {
      "cell_type": "code",
      "metadata": {
        "id": "rYpWqqUvtKOS",
        "colab_type": "code",
        "colab": {
          "base_uri": "https://localhost:8080/",
          "height": 195
        },
        "outputId": "31900ca4-ad34-4e60-8485-c5b3aeb7c1fb"
      },
      "source": [
        "locke = pd.read_csv('/content/countryLockdowndates.csv')\n",
        "locke.head()"
      ],
      "execution_count": 17,
      "outputs": [
        {
          "output_type": "execute_result",
          "data": {
            "text/html": [
              "<div>\n",
              "<style scoped>\n",
              "    .dataframe tbody tr th:only-of-type {\n",
              "        vertical-align: middle;\n",
              "    }\n",
              "\n",
              "    .dataframe tbody tr th {\n",
              "        vertical-align: top;\n",
              "    }\n",
              "\n",
              "    .dataframe thead th {\n",
              "        text-align: right;\n",
              "    }\n",
              "</style>\n",
              "<table border=\"1\" class=\"dataframe\">\n",
              "  <thead>\n",
              "    <tr style=\"text-align: right;\">\n",
              "      <th></th>\n",
              "      <th>Country/Region</th>\n",
              "      <th>Province</th>\n",
              "      <th>Date</th>\n",
              "      <th>Type</th>\n",
              "      <th>Reference</th>\n",
              "    </tr>\n",
              "  </thead>\n",
              "  <tbody>\n",
              "    <tr>\n",
              "      <th>0</th>\n",
              "      <td>Afghanistan</td>\n",
              "      <td>NaN</td>\n",
              "      <td>24/03/2020</td>\n",
              "      <td>Full</td>\n",
              "      <td>https://www.thestatesman.com/world/afghan-govt...</td>\n",
              "    </tr>\n",
              "    <tr>\n",
              "      <th>1</th>\n",
              "      <td>Albania</td>\n",
              "      <td>NaN</td>\n",
              "      <td>08/03/2020</td>\n",
              "      <td>Full</td>\n",
              "      <td>https://en.wikipedia.org/wiki/2020_coronavirus...</td>\n",
              "    </tr>\n",
              "    <tr>\n",
              "      <th>2</th>\n",
              "      <td>Algeria</td>\n",
              "      <td>NaN</td>\n",
              "      <td>24/03/2020</td>\n",
              "      <td>Full</td>\n",
              "      <td>https://www.garda.com/crisis24/news-alerts/325...</td>\n",
              "    </tr>\n",
              "    <tr>\n",
              "      <th>3</th>\n",
              "      <td>Andorra</td>\n",
              "      <td>NaN</td>\n",
              "      <td>16/03/2020</td>\n",
              "      <td>Full</td>\n",
              "      <td>https://en.wikipedia.org/wiki/2020_coronavirus...</td>\n",
              "    </tr>\n",
              "    <tr>\n",
              "      <th>4</th>\n",
              "      <td>Angola</td>\n",
              "      <td>NaN</td>\n",
              "      <td>24/03/2020</td>\n",
              "      <td>Full</td>\n",
              "      <td>https://en.wikipedia.org/wiki/2020_coronavirus...</td>\n",
              "    </tr>\n",
              "  </tbody>\n",
              "</table>\n",
              "</div>"
            ],
            "text/plain": [
              "  Country/Region  ...                                          Reference\n",
              "0    Afghanistan  ...  https://www.thestatesman.com/world/afghan-govt...\n",
              "1        Albania  ...  https://en.wikipedia.org/wiki/2020_coronavirus...\n",
              "2        Algeria  ...  https://www.garda.com/crisis24/news-alerts/325...\n",
              "3        Andorra  ...  https://en.wikipedia.org/wiki/2020_coronavirus...\n",
              "4         Angola  ...  https://en.wikipedia.org/wiki/2020_coronavirus...\n",
              "\n",
              "[5 rows x 5 columns]"
            ]
          },
          "metadata": {
            "tags": []
          },
          "execution_count": 17
        }
      ]
    },
    {
      "cell_type": "code",
      "metadata": {
        "id": "IXsysBZ9tcIm",
        "colab_type": "code",
        "colab": {
          "base_uri": "https://localhost:8080/",
          "height": 118
        },
        "outputId": "c763c734-2215-4be6-d518-46c8fab23b26"
      },
      "source": [
        "locke.isnull().sum()"
      ],
      "execution_count": 20,
      "outputs": [
        {
          "output_type": "execute_result",
          "data": {
            "text/plain": [
              "Country/Region      0\n",
              "Province          178\n",
              "Date               77\n",
              "Type                0\n",
              "Reference          69\n",
              "dtype: int64"
            ]
          },
          "metadata": {
            "tags": []
          },
          "execution_count": 20
        }
      ]
    },
    {
      "cell_type": "code",
      "metadata": {
        "id": "hvIZv1Le7cca",
        "colab_type": "code",
        "colab": {
          "base_uri": "https://localhost:8080/",
          "height": 195
        },
        "outputId": "4b1b8a3b-2e60-4fc3-e6fa-232eceaa5832"
      },
      "source": [
        "#clean up dataset and get rid of null values with dropna \n",
        "locke_clean = locke.dropna()\n",
        "locke_clean.head()"
      ],
      "execution_count": 52,
      "outputs": [
        {
          "output_type": "execute_result",
          "data": {
            "text/html": [
              "<div>\n",
              "<style scoped>\n",
              "    .dataframe tbody tr th:only-of-type {\n",
              "        vertical-align: middle;\n",
              "    }\n",
              "\n",
              "    .dataframe tbody tr th {\n",
              "        vertical-align: top;\n",
              "    }\n",
              "\n",
              "    .dataframe thead th {\n",
              "        text-align: right;\n",
              "    }\n",
              "</style>\n",
              "<table border=\"1\" class=\"dataframe\">\n",
              "  <thead>\n",
              "    <tr style=\"text-align: right;\">\n",
              "      <th></th>\n",
              "      <th>Country/Region</th>\n",
              "      <th>Province</th>\n",
              "      <th>Date</th>\n",
              "      <th>Type</th>\n",
              "      <th>Reference</th>\n",
              "    </tr>\n",
              "  </thead>\n",
              "  <tbody>\n",
              "    <tr>\n",
              "      <th>14</th>\n",
              "      <td>Australia</td>\n",
              "      <td>Victoria</td>\n",
              "      <td>24/03/2020</td>\n",
              "      <td>Full</td>\n",
              "      <td>https://www.theage.com.au/national/victoria/sc...</td>\n",
              "    </tr>\n",
              "    <tr>\n",
              "      <th>38</th>\n",
              "      <td>Canada</td>\n",
              "      <td>Alberta</td>\n",
              "      <td>17/03/2020</td>\n",
              "      <td>Full</td>\n",
              "      <td>https://en.wikipedia.org/wiki/2020_coronavirus...</td>\n",
              "    </tr>\n",
              "    <tr>\n",
              "      <th>39</th>\n",
              "      <td>Canada</td>\n",
              "      <td>British Columbia</td>\n",
              "      <td>18/03/2020</td>\n",
              "      <td>Full</td>\n",
              "      <td>https://en.wikipedia.org/wiki/2020_coronavirus...</td>\n",
              "    </tr>\n",
              "    <tr>\n",
              "      <th>40</th>\n",
              "      <td>Canada</td>\n",
              "      <td>Manitoba</td>\n",
              "      <td>20/03/2020</td>\n",
              "      <td>Full</td>\n",
              "      <td>https://en.wikipedia.org/wiki/2020_coronavirus...</td>\n",
              "    </tr>\n",
              "    <tr>\n",
              "      <th>41</th>\n",
              "      <td>Canada</td>\n",
              "      <td>New Brunswick</td>\n",
              "      <td>19/03/2020</td>\n",
              "      <td>Full</td>\n",
              "      <td>https://en.wikipedia.org/wiki/2020_coronavirus...</td>\n",
              "    </tr>\n",
              "  </tbody>\n",
              "</table>\n",
              "</div>"
            ],
            "text/plain": [
              "   Country/Region  ...                                          Reference\n",
              "14      Australia  ...  https://www.theage.com.au/national/victoria/sc...\n",
              "38         Canada  ...  https://en.wikipedia.org/wiki/2020_coronavirus...\n",
              "39         Canada  ...  https://en.wikipedia.org/wiki/2020_coronavirus...\n",
              "40         Canada  ...  https://en.wikipedia.org/wiki/2020_coronavirus...\n",
              "41         Canada  ...  https://en.wikipedia.org/wiki/2020_coronavirus...\n",
              "\n",
              "[5 rows x 5 columns]"
            ]
          },
          "metadata": {
            "tags": []
          },
          "execution_count": 52
        }
      ]
    },
    {
      "cell_type": "code",
      "metadata": {
        "id": "U5X59uzszRzA",
        "colab_type": "code",
        "colab": {
          "base_uri": "https://localhost:8080/",
          "height": 118
        },
        "outputId": "c35b6569-09d0-4cf3-b613-635f9b5cbcc2"
      },
      "source": [
        "locke.dtypes"
      ],
      "execution_count": 21,
      "outputs": [
        {
          "output_type": "execute_result",
          "data": {
            "text/plain": [
              "Country/Region    object\n",
              "Province          object\n",
              "Date              object\n",
              "Type              object\n",
              "Reference         object\n",
              "dtype: object"
            ]
          },
          "metadata": {
            "tags": []
          },
          "execution_count": 21
        }
      ]
    },
    {
      "cell_type": "code",
      "metadata": {
        "id": "vLH1JHwvzXy3",
        "colab_type": "code",
        "colab": {
          "base_uri": "https://localhost:8080/",
          "height": 34
        },
        "outputId": "5848a6d5-2be0-47ef-e41b-f12d0bfbde07"
      },
      "source": [
        "locke_clean.shape"
      ],
      "execution_count": 39,
      "outputs": [
        {
          "output_type": "execute_result",
          "data": {
            "text/plain": [
              "(97, 5)"
            ]
          },
          "metadata": {
            "tags": []
          },
          "execution_count": 39
        }
      ]
    },
    {
      "cell_type": "code",
      "metadata": {
        "id": "zLAEuQ1vzdd0",
        "colab_type": "code",
        "colab": {
          "base_uri": "https://localhost:8080/",
          "height": 166
        },
        "outputId": "dfae3702-c3a6-4e2a-a1a6-ac232e8705d7"
      },
      "source": [
        "locke_clean.describe()"
      ],
      "execution_count": 40,
      "outputs": [
        {
          "output_type": "execute_result",
          "data": {
            "text/html": [
              "<div>\n",
              "<style scoped>\n",
              "    .dataframe tbody tr th:only-of-type {\n",
              "        vertical-align: middle;\n",
              "    }\n",
              "\n",
              "    .dataframe tbody tr th {\n",
              "        vertical-align: top;\n",
              "    }\n",
              "\n",
              "    .dataframe thead th {\n",
              "        text-align: right;\n",
              "    }\n",
              "</style>\n",
              "<table border=\"1\" class=\"dataframe\">\n",
              "  <thead>\n",
              "    <tr style=\"text-align: right;\">\n",
              "      <th></th>\n",
              "      <th>Country/Region</th>\n",
              "      <th>Province</th>\n",
              "      <th>Date</th>\n",
              "      <th>Type</th>\n",
              "      <th>Reference</th>\n",
              "    </tr>\n",
              "  </thead>\n",
              "  <tbody>\n",
              "    <tr>\n",
              "      <th>count</th>\n",
              "      <td>97</td>\n",
              "      <td>97</td>\n",
              "      <td>97</td>\n",
              "      <td>97</td>\n",
              "      <td>97</td>\n",
              "    </tr>\n",
              "    <tr>\n",
              "      <th>unique</th>\n",
              "      <td>8</td>\n",
              "      <td>97</td>\n",
              "      <td>24</td>\n",
              "      <td>2</td>\n",
              "      <td>17</td>\n",
              "    </tr>\n",
              "    <tr>\n",
              "      <th>top</th>\n",
              "      <td>US</td>\n",
              "      <td>Shandong</td>\n",
              "      <td>23/01/2020</td>\n",
              "      <td>Full</td>\n",
              "      <td>https://en.wikipedia.org/wiki/2020_coronavirus...</td>\n",
              "    </tr>\n",
              "    <tr>\n",
              "      <th>freq</th>\n",
              "      <td>43</td>\n",
              "      <td>1</td>\n",
              "      <td>31</td>\n",
              "      <td>93</td>\n",
              "      <td>40</td>\n",
              "    </tr>\n",
              "  </tbody>\n",
              "</table>\n",
              "</div>"
            ],
            "text/plain": [
              "       Country/Region  ...                                          Reference\n",
              "count              97  ...                                                 97\n",
              "unique              8  ...                                                 17\n",
              "top                US  ...  https://en.wikipedia.org/wiki/2020_coronavirus...\n",
              "freq               43  ...                                                 40\n",
              "\n",
              "[4 rows x 5 columns]"
            ]
          },
          "metadata": {
            "tags": []
          },
          "execution_count": 40
        }
      ]
    },
    {
      "cell_type": "code",
      "metadata": {
        "id": "1oCVUbmO1l91",
        "colab_type": "code",
        "colab": {
          "base_uri": "https://localhost:8080/",
          "height": 265
        },
        "outputId": "e161a99a-fea4-45c2-8d69-e6a932c5a4de"
      },
      "source": [
        "locke_clean['Date'].hist(bins=50);"
      ],
      "execution_count": 46,
      "outputs": [
        {
          "output_type": "display_data",
          "data": {
            "image/png": "[encoded data removed]",
            "text/plain": [
              "<Figure size 432x288 with 1 Axes>"
            ]
          },
          "metadata": {
            "tags": [],
            "needs_background": "light"
          }
        }
      ]
    },
    {
      "cell_type": "code",
      "metadata": {
        "id": "sJRa1d3K9XNO",
        "colab_type": "code",
        "colab": {
          "base_uri": "https://localhost:8080/",
          "height": 267
        },
        "outputId": "f10ab9fc-4523-4168-a438-4ca1325adcd0"
      },
      "source": [
        "death['deaths'].hist(bins=10);"
      ],
      "execution_count": 50,
      "outputs": [
        {
          "output_type": "display_data",
          "data": {
            "image/png": "[encoded data removed]",
            "text/plain": [
              "<Figure size 432x288 with 1 Axes>"
            ]
          },
          "metadata": {
            "tags": [],
            "needs_background": "light"
          }
        }
      ]
    },
    {
      "cell_type": "code",
      "metadata": {
        "id": "DOw09auL_2e7",
        "colab_type": "code",
        "colab": {}
      },
      "source": [
        ""
      ],
      "execution_count": 0,
      "outputs": []
    },
    {
      "cell_type": "code",
      "metadata": {
        "id": "lyR5lYKd8_pt",
        "colab_type": "code",
        "colab": {
          "base_uri": "https://localhost:8080/",
          "height": 651
        },
        "outputId": "65fc25ba-8e80-42de-d614-356ce7687835"
      },
      "source": [
        "death['deaths'], death['date'], locke['Date'].hist()"
      ],
      "execution_count": 51,
      "outputs": [
        {
          "output_type": "execute_result",
          "data": {
            "text/plain": [
              "(0         0\n",
              " 1         0\n",
              " 2         0\n",
              " 3         0\n",
              " 4         0\n",
              "        ... \n",
              " 625       1\n",
              " 626     185\n",
              " 627     692\n",
              " 628     333\n",
              " 629    2142\n",
              " Name: deaths, Length: 630, dtype: int64, 0      2020-01-22\n",
              " 1      2020-01-22\n",
              " 2      2020-01-22\n",
              " 3      2020-01-22\n",
              " 4      2020-01-22\n",
              "           ...    \n",
              " 625    2020-05-05\n",
              " 626    2020-05-05\n",
              " 627    2020-05-05\n",
              " 628    2020-05-05\n",
              " 629    2020-05-05\n",
              " Name: date, Length: 630, dtype: object, <matplotlib.axes._subplots.AxesSubplot at 0x7f9364d490b8>)"
            ]
          },
          "metadata": {
            "tags": []
          },
          "execution_count": 51
        },
        {
          "output_type": "display_data",
          "data": {
            "image/png": "[encoded data removed]",
            "text/plain": [
              "<Figure size 432x288 with 1 Axes>"
            ]
          },
          "metadata": {
            "tags": [],
            "needs_background": "light"
          }
        }
      ]
    },
    {
      "cell_type": "code",
      "metadata": {
        "id": "LDJEOZcP-zqN",
        "colab_type": "code",
        "colab": {
          "base_uri": "https://localhost:8080/",
          "height": 296
        },
        "outputId": "b1325faf-e336-4f65-ed39-b5eb650912ea"
      },
      "source": [
        "death.plot.scatter('deaths', 'date')"
      ],
      "execution_count": 53,
      "outputs": [
        {
          "output_type": "execute_result",
          "data": {
            "text/plain": [
              "<matplotlib.axes._subplots.AxesSubplot at 0x7f9364b2da90>"
            ]
          },
          "metadata": {
            "tags": []
          },
          "execution_count": 53
        },
        {
          "output_type": "display_data",
          "data": {
            "image/png": "[encoded data removed]",
            "text/plain": [
              "<Figure size 432x288 with 1 Axes>"
            ]
          },
          "metadata": {
            "tags": [],
            "needs_background": "light"
          }
        }
      ]
    },
    {
      "cell_type": "code",
      "metadata": {
        "id": "aJt6Dt0zCjjZ",
        "colab_type": "code",
        "colab": {}
      },
      "source": [
        "#Figure out how to remove all the zeros and reformat the dates \n"
      ],
      "execution_count": 0,
      "outputs": []
    },
    {
      "cell_type": "code",
      "metadata": {
        "id": "0tcRTMwrCwXt",
        "colab_type": "code",
        "colab": {
          "base_uri": "https://localhost:8080/",
          "height": 282
        },
        "outputId": "f18820b6-87e0-4d86-d92d-66b7adcc6868"
      },
      "source": [
        "death['deaths'].plot.density()"
      ],
      "execution_count": 59,
      "outputs": [
        {
          "output_type": "execute_result",
          "data": {
            "text/plain": [
              "<matplotlib.axes._subplots.AxesSubplot at 0x7f9361edecc0>"
            ]
          },
          "metadata": {
            "tags": []
          },
          "execution_count": 59
        },
        {
          "output_type": "display_data",
          "data": {
            "image/png": "[encoded data removed]",
            "text/plain": [
              "<Figure size 432x288 with 1 Axes>"
            ]
          },
          "metadata": {
            "tags": [],
            "needs_background": "light"
          }
        }
      ]
    },
    {
      "cell_type": "code",
      "metadata": {
        "id": "UJ1FweGgDxSu",
        "colab_type": "code",
        "colab": {}
      },
      "source": [
        ""
      ],
      "execution_count": 0,
      "outputs": []
    }
  ]
}