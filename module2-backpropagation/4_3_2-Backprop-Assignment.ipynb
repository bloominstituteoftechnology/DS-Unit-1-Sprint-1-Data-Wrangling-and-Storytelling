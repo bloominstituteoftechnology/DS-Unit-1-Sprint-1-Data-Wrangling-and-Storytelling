{
  "nbformat": 4,
  "nbformat_minor": 0,
  "metadata": {
    "colab": {
      "name": "Copy of LS_DS_432_Backprop_Assignment.ipynb",
      "provenance": []
    },
    "kernelspec": {
      "display_name": "Python 3",
      "language": "python",
      "name": "python3"
    },
    "language_info": {
      "codemirror_mode": {
        "name": "ipython",
        "version": 3
      },
      "file_extension": ".py",
      "mimetype": "text/x-python",
      "name": "python",
      "nbconvert_exporter": "python",
      "pygments_lexer": "ipython3",
      "version": "3.7.3"
    }
  },
  "cells": [
    {
      "cell_type": "markdown",
      "metadata": {
        "colab_type": "text",
        "id": "NGGrt9EYlCqY"
      },
      "source": [
        "<img align=\"left\" src=\"https://lever-client-logos.s3.amazonaws.com/864372b1-534c-480e-acd5-9711f850815c-1524247202159.png\" width=200>\n",
        "<br></br>\n",
        "\n",
        "# Backpropagation Practice\n",
        "\n",
        "## *Data Science Unit 4 Sprint 2 Assignment 2*\n",
        "\n",
        "Implement a 3 input, 4 node hidden-layer, 1 output node Multilayer Perceptron on the following dataset:\n",
        "\n",
        "| x1 | x2 | x3 | y |\n",
        "|----|----|----|---|\n",
        "| 0  | 0  | 1  | 0 |\n",
        "| 0  | 1  | 1  | 1 |\n",
        "| 1  | 0  | 1  | 1 |\n",
        "| 0  | 1  | 0  | 1 |\n",
        "| 1  | 0  | 0  | 1 |\n",
        "| 1  | 1  | 1  | 0 |\n",
        "| 0  | 0  | 0  | 0 |\n",
        "\n",
        "If you look at the data you'll notice that the first two columns behave like an XOR gate while the last column is mostly just noise. Remember that creating an XOR gate was what the perceptron was criticized for not being able to learn. "
      ]
    },
    {
      "cell_type": "code",
      "metadata": {
        "colab_type": "code",
        "id": "nEREYT-3wI1f",
        "colab": {}
      },
      "source": [
        "##### Your Code Here #####\n",
        "\n",
        "import numpy as np\n",
        "\n",
        "np.random.seed( 16)\n",
        "\n",
        "#x = np.array( ([0, 0, 1, 0, 1, 1, 0],\n",
        "#               [0, 1, 0, 1, 0, 1, 0],\n",
        "#               [1, 1, 1, 0, 0, 1, 0]\n",
        "#), dtype= int)\n",
        "\n",
        "x = np.array( ([0, 0, 1],\n",
        "               [0, 1, 1],\n",
        "               [1, 0, 1],\n",
        "               [0, 1, 0],\n",
        "               [1, 0, 0],\n",
        "               [1, 1, 1],\n",
        "               [0, 0, 0]\n",
        "), dtype= int)\n",
        "\n",
        "y = np.array( ([0, 1, 1, 1, 1, 0, 0]\n",
        "), dtype= int)\n",
        "\n",
        "\n",
        "class nNetwork:\n",
        "\n",
        "    def __init__( self):\n",
        "        # Arch setup\n",
        "        self.inputs = 3\n",
        "        self.hiddenNodes = 4\n",
        "        self.outputNodes = 1\n",
        "\n",
        "        # Weights init\n",
        "        self.weight0 = np.random.randn( self.inputs, self.hiddenNodes)\n",
        "        self.weight1 = np.random.randn( self.hiddenNodes, self.outputNodes)\n",
        "\n",
        "    def sigmoid( self, s):\n",
        "        return 1 / (1 + np.exp( -s))\n",
        "\n",
        "    def sigmoidPrime( self, s):\n",
        "        sx = self.sigmoid( s)\n",
        "        return sx * (1 - sx)\n",
        "\n",
        "    def feedForward( self, x):\n",
        "        \"\"\" Calculate the NN inference using Feed Forward \"\"\"\n",
        "\n",
        "        # dot product of X and input/hidden weights > sigmoid of that product > \n",
        "        # dot product of that sigmoid result and hidden/output weights > \n",
        "        # sigmoid of that product\n",
        "        self.hiddenSum = np.dot( x, self.weight0)\n",
        "        self.activateHidden = self.sigmoid( self.hiddenSum)\n",
        "        self.outputSum = np.dot( self.activateHidden, self.weight1)\n",
        "        self.activateOutput = self.sigmoid( self.outputSum)\n",
        "\n",
        "        return self.activateOutput\n",
        "\n",
        "    def backward( self, x, y, o):\n",
        "        \"\"\" Back prop through the Network \"\"\"\n",
        "\n",
        "        self.oError = y - o     # Error in the output\n",
        "        \n",
        "        # Apply derivative of sigmoid to error\n",
        "        self.oDelta = self.oError * self.sigmoidPrime( o)\n",
        "\n",
        "        # z2 error: how much were our output layer weights off?\n",
        "        self.z2Error = self.oDelta.dot( self.weight1.T)\n",
        "\n",
        "        # z2 delta: how much were the weights off? (what was their delta?)\n",
        "        self.z2Delta = self.z2Error * self.sigmoidPrime( self.activateHidden)\n",
        "\n",
        "        # Adjust first set\n",
        "        self.weight0 += x.T.dot( self.z2Delta)\n",
        "        # Adjust second set\n",
        "        self.weight1 += self.activateHidden.T.dot( self.oDelta)\n",
        "\n",
        "    def train( self, X, y):\n",
        "        o = self.feedForward( x)\n",
        "        self.backward( x, y, o)\n"
      ],
      "execution_count": 0,
      "outputs": []
    },
    {
      "cell_type": "code",
      "metadata": {
        "id": "3Hoscv2LSzuX",
        "colab_type": "code",
        "colab": {
          "base_uri": "https://localhost:8080/",
          "height": 182
        },
        "outputId": "2dc9cedb-d560-47c4-bcd9-185864071c3f"
      },
      "source": [
        "print(\"Layer 1 weights: \\n\", nn.weight0)\n",
        "print(\"Layer 2 weights: \\n\", nn.weight1)"
      ],
      "execution_count": 31,
      "outputs": [
        {
          "output_type": "stream",
          "text": [
            "Layer 1 weights: \n",
            " [[ 1.27354347  1.07974786  0.64840236  0.55642014]\n",
            " [ 0.23353755 -1.07884538 -1.18196103 -0.70324008]\n",
            " [-0.63851589 -0.84206994 -1.33817457  0.57970657]]\n",
            "Layer 2 weights: \n",
            " [[ 0.53641445]\n",
            " [ 1.54303444]\n",
            " [ 1.67433222]\n",
            " [-0.63928976]]\n"
          ],
          "name": "stdout"
        }
      ]
    },
    {
      "cell_type": "code",
      "metadata": {
        "id": "WpLQAaZ30h2I",
        "colab_type": "code",
        "colab": {
          "base_uri": "https://localhost:8080/",
          "height": 348
        },
        "outputId": "8cb9f5c2-66b3-4a27-dc80-b64f43e20f49"
      },
      "source": [
        "nn = nNetwork()\n",
        "output = nn.feedForward( x)\n",
        "print(\"\\ninput\\n\", x)\n",
        "print(\"\\noutput\\n\", output)"
      ],
      "execution_count": 55,
      "outputs": [
        {
          "output_type": "stream",
          "text": [
            "\n",
            "input\n",
            " [[0 0 1]\n",
            " [0 1 1]\n",
            " [1 0 1]\n",
            " [0 1 0]\n",
            " [1 0 0]\n",
            " [1 1 1]\n",
            " [0 0 0]]\n",
            "\n",
            "output\n",
            " [[0.14106553]\n",
            " [0.05519091]\n",
            " [0.06752562]\n",
            " [0.04873995]\n",
            " [0.06484601]\n",
            " [0.05009404]\n",
            " [0.11457219]]\n"
          ],
          "name": "stdout"
        }
      ]
    },
    {
      "cell_type": "code",
      "metadata": {
        "id": "0ZLVgAcNU558",
        "colab_type": "code",
        "colab": {
          "base_uri": "https://localhost:8080/",
          "height": 146
        },
        "outputId": "47da1563-dd02-48f5-c4a8-62bcd6615dff"
      },
      "source": [
        "error = y[0] - output\n",
        "error"
      ],
      "execution_count": 56,
      "outputs": [
        {
          "output_type": "execute_result",
          "data": {
            "text/plain": [
              "array([[-0.14106553],\n",
              "       [-0.05519091],\n",
              "       [-0.06752562],\n",
              "       [-0.04873995],\n",
              "       [-0.06484601],\n",
              "       [-0.05009404],\n",
              "       [-0.11457219]])"
            ]
          },
          "metadata": {
            "tags": []
          },
          "execution_count": 56
        }
      ]
    },
    {
      "cell_type": "code",
      "metadata": {
        "id": "-A2BNhH4UzXC",
        "colab_type": "code",
        "colab": {
          "base_uri": "https://localhost:8080/",
          "height": 343
        },
        "outputId": "10159989-d616-42e7-f47d-336f1cb085ee"
      },
      "source": [
        "nn = nNetwork()\n",
        "nn.train( x, y)"
      ],
      "execution_count": 57,
      "outputs": [
        {
          "output_type": "error",
          "ename": "ValueError",
          "evalue": "ignored",
          "traceback": [
            "\u001b[0;31m---------------------------------------------------------------------------\u001b[0m",
            "\u001b[0;31mValueError\u001b[0m                                Traceback (most recent call last)",
            "\u001b[0;32m<ipython-input-57-bf290df20d3e>\u001b[0m in \u001b[0;36m<module>\u001b[0;34m()\u001b[0m\n\u001b[1;32m      1\u001b[0m \u001b[0mnn\u001b[0m \u001b[0;34m=\u001b[0m \u001b[0mnNetwork\u001b[0m\u001b[0;34m(\u001b[0m\u001b[0;34m)\u001b[0m\u001b[0;34m\u001b[0m\u001b[0;34m\u001b[0m\u001b[0m\n\u001b[0;32m----> 2\u001b[0;31m \u001b[0mnn\u001b[0m\u001b[0;34m.\u001b[0m\u001b[0mtrain\u001b[0m\u001b[0;34m(\u001b[0m \u001b[0mx\u001b[0m\u001b[0;34m,\u001b[0m \u001b[0my\u001b[0m\u001b[0;34m)\u001b[0m\u001b[0;34m\u001b[0m\u001b[0;34m\u001b[0m\u001b[0m\n\u001b[0m",
            "\u001b[0;32m<ipython-input-53-dadaf7461544>\u001b[0m in \u001b[0;36mtrain\u001b[0;34m(self, X, y)\u001b[0m\n\u001b[1;32m     75\u001b[0m     \u001b[0;32mdef\u001b[0m \u001b[0mtrain\u001b[0m\u001b[0;34m(\u001b[0m \u001b[0mself\u001b[0m\u001b[0;34m,\u001b[0m \u001b[0mX\u001b[0m\u001b[0;34m,\u001b[0m \u001b[0my\u001b[0m\u001b[0;34m)\u001b[0m\u001b[0;34m:\u001b[0m\u001b[0;34m\u001b[0m\u001b[0;34m\u001b[0m\u001b[0m\n\u001b[1;32m     76\u001b[0m         \u001b[0mo\u001b[0m \u001b[0;34m=\u001b[0m \u001b[0mself\u001b[0m\u001b[0;34m.\u001b[0m\u001b[0mfeedForward\u001b[0m\u001b[0;34m(\u001b[0m \u001b[0mx\u001b[0m\u001b[0;34m)\u001b[0m\u001b[0;34m\u001b[0m\u001b[0;34m\u001b[0m\u001b[0m\n\u001b[0;32m---> 77\u001b[0;31m         \u001b[0mself\u001b[0m\u001b[0;34m.\u001b[0m\u001b[0mbackward\u001b[0m\u001b[0;34m(\u001b[0m \u001b[0mx\u001b[0m\u001b[0;34m,\u001b[0m \u001b[0my\u001b[0m\u001b[0;34m,\u001b[0m \u001b[0mo\u001b[0m\u001b[0;34m)\u001b[0m\u001b[0;34m\u001b[0m\u001b[0;34m\u001b[0m\u001b[0m\n\u001b[0m",
            "\u001b[0;32m<ipython-input-53-dadaf7461544>\u001b[0m in \u001b[0;36mbackward\u001b[0;34m(self, x, y, o)\u001b[0m\n\u001b[1;32m     63\u001b[0m \u001b[0;34m\u001b[0m\u001b[0m\n\u001b[1;32m     64\u001b[0m         \u001b[0;31m# z2 error: how much were our output layer weights off?\u001b[0m\u001b[0;34m\u001b[0m\u001b[0;34m\u001b[0m\u001b[0;34m\u001b[0m\u001b[0m\n\u001b[0;32m---> 65\u001b[0;31m         \u001b[0mself\u001b[0m\u001b[0;34m.\u001b[0m\u001b[0mz2Error\u001b[0m \u001b[0;34m=\u001b[0m \u001b[0mself\u001b[0m\u001b[0;34m.\u001b[0m\u001b[0moDelta\u001b[0m\u001b[0;34m.\u001b[0m\u001b[0mdot\u001b[0m\u001b[0;34m(\u001b[0m \u001b[0mself\u001b[0m\u001b[0;34m.\u001b[0m\u001b[0mweight1\u001b[0m\u001b[0;34m.\u001b[0m\u001b[0mT\u001b[0m\u001b[0;34m)\u001b[0m\u001b[0;34m\u001b[0m\u001b[0;34m\u001b[0m\u001b[0m\n\u001b[0m\u001b[1;32m     66\u001b[0m \u001b[0;34m\u001b[0m\u001b[0m\n\u001b[1;32m     67\u001b[0m         \u001b[0;31m# z2 delta: how much were the weights off? (what was their delta?)\u001b[0m\u001b[0;34m\u001b[0m\u001b[0;34m\u001b[0m\u001b[0;34m\u001b[0m\u001b[0m\n",
            "\u001b[0;31mValueError\u001b[0m: shapes (7,7) and (1,4) not aligned: 7 (dim 1) != 1 (dim 0)"
          ]
        }
      ]
    },
    {
      "cell_type": "code",
      "metadata": {
        "id": "y_V3E1gLWL5i",
        "colab_type": "code",
        "colab": {}
      },
      "source": [
        "# I\n",
        "# Can't\n",
        "# With\n",
        "# This\n",
        "# Error\n",
        "# Right\n",
        "# Now\n",
        "# ...."
      ],
      "execution_count": 0,
      "outputs": []
    },
    {
      "cell_type": "markdown",
      "metadata": {
        "colab_type": "text",
        "id": "8b-r70o8p2Dm"
      },
      "source": [
        "## Try building/training a more complex MLP on a bigger dataset.\n",
        "\n",
        "Use the [MNIST dataset](http://yann.lecun.com/exdb/mnist/) to build the cannonical handwriting digit recognizer and see what kind of accuracy you can achieve. \n",
        "\n",
        "If you need inspiration, the internet is chalk-full of tutorials, but I want you to see how far you can get on your own first. I've linked to the original MNIST dataset above but it will probably be easier to download data through a neural network library. If you reference outside resources make sure you understand every line of code that you're using from other sources, and share with your fellow students helpful resources that you find.\n",
        "\n",
        "\n",
        "### Parts\n",
        "1. Gathering & Transforming the Data\n",
        "2. Making MNIST a Binary Problem\n",
        "3. Estimating your Neural Network (the part you focus on)"
      ]
    },
    {
      "cell_type": "markdown",
      "metadata": {
        "id": "9797TdFvdVYH",
        "colab_type": "text"
      },
      "source": [
        "### Gathering the Data \n",
        "\n",
        "`keras` has a handy method to pull the mnist dataset for you. You'll notice that each observation is a 28x28 arrary which represents an image. Although most Neural Network frameworks can handle higher dimensional data, that is more overhead than necessary for us. We need to flatten the image to one long row which will be 784 values (28X28). Basically, you will be appending each row to one another to make on really long row. "
      ]
    },
    {
      "cell_type": "code",
      "metadata": {
        "id": "Nslg2I36dVYJ",
        "colab_type": "code",
        "colab": {}
      },
      "source": [
        "import numpy as np\n",
        "from tensorflow.keras.datasets import mnist\n",
        "from tensorflow.keras.models import Sequential\n",
        "from tensorflow.keras.layers import Dense, Dropout, Activation\n",
        "from tensorflow.keras.optimizers import SGD, Adam\n",
        "from tensorflow.keras.utils import to_categorical\n",
        "from sklearn.model_selection import train_test_split"
      ],
      "execution_count": 0,
      "outputs": []
    },
    {
      "cell_type": "code",
      "metadata": {
        "id": "WV7ScW1sdVYT",
        "colab_type": "code",
        "colab": {}
      },
      "source": [
        "# input image dimensions\n",
        "imgRows, imgCols = 28, 28"
      ],
      "execution_count": 0,
      "outputs": []
    },
    {
      "cell_type": "code",
      "metadata": {
        "id": "CtsEnwuJdVYa",
        "colab_type": "code",
        "colab": {}
      },
      "source": [
        "# the data, split between train and test sets\n",
        "(xTrain, yTrain), (xTest, yTest) = mnist.load_data()"
      ],
      "execution_count": 0,
      "outputs": []
    },
    {
      "cell_type": "code",
      "metadata": {
        "id": "1K4yRgKxdVYh",
        "colab_type": "code",
        "colab": {}
      },
      "source": [
        "xTrain = xTrain.reshape(xTrain.shape[0], imgRows * imgCols)\n",
        "xTest = xTest.reshape(xTest.shape[0], imgRows * imgCols)\n",
        "\n",
        "# Normalize Our Data\n",
        "xTrain = xTrain / 255\n",
        "xTest = xTest / 255"
      ],
      "execution_count": 0,
      "outputs": []
    },
    {
      "cell_type": "code",
      "metadata": {
        "id": "-s6QrvsidVYq",
        "colab_type": "code",
        "colab": {}
      },
      "source": [
        "# Now the data should be in a format you're more familiar with"
      ],
      "execution_count": 0,
      "outputs": []
    },
    {
      "cell_type": "code",
      "metadata": {
        "id": "4iQpuI9Eaj_R",
        "colab_type": "code",
        "colab": {
          "base_uri": "https://localhost:8080/",
          "height": 35
        },
        "outputId": "2fabf0a2-f59b-4a7e-fd38-fde335f6e10d"
      },
      "source": [
        "xTrain.shape, xTest.shape, yTrain.shape, yTest.shape"
      ],
      "execution_count": 114,
      "outputs": [
        {
          "output_type": "execute_result",
          "data": {
            "text/plain": [
              "((60000, 784), (10000, 784), (60000,), (10000,))"
            ]
          },
          "metadata": {
            "tags": []
          },
          "execution_count": 114
        }
      ]
    },
    {
      "cell_type": "code",
      "metadata": {
        "id": "6TIOo1TYZM1E",
        "colab_type": "code",
        "colab": {}
      },
      "source": [
        "# FOR TESTING EXPEDIENCE    (1% train/test observation samples)\n",
        "#xTrain, garbage = train_test_split( xTrain, train_size= .01)\n",
        "#xTest, garbage = train_test_split( xTest, train_size= .01)\n",
        "#yTrain, garbage = train_test_split( yTrain, train_size= .01)\n",
        "#yTest, garbage = train_test_split( yTest, train_size= .01)"
      ],
      "execution_count": 0,
      "outputs": []
    },
    {
      "cell_type": "code",
      "metadata": {
        "id": "ZNQgLHHDZMyX",
        "colab_type": "code",
        "colab": {
          "base_uri": "https://localhost:8080/",
          "height": 35
        },
        "outputId": "0afcd4ef-9f1e-42bf-ee78-f6e2da280bd6"
      },
      "source": [
        "xTrain.shape, xTest.shape, yTrain.shape, yTest.shape"
      ],
      "execution_count": 100,
      "outputs": [
        {
          "output_type": "execute_result",
          "data": {
            "text/plain": [
              "((600, 784), (100, 784), (600,), (100,))"
            ]
          },
          "metadata": {
            "tags": []
          },
          "execution_count": 100
        }
      ]
    },
    {
      "cell_type": "markdown",
      "metadata": {
        "id": "E4uYPFSzdVYw",
        "colab_type": "text"
      },
      "source": [
        "### Making MNIST a Binary Problem \n",
        "MNIST is multiclass classification problem; however we haven't covered all the necessary techniques to handle this yet. You would need to one-hot encode the target, use a different loss metric, and use softmax activations for the last layer. This is all stuff we'll cover later this week, but let us simply the problem for now: Zero or all else."
      ]
    },
    {
      "cell_type": "code",
      "metadata": {
        "id": "AHQJRnXRdVYz",
        "colab_type": "code",
        "colab": {}
      },
      "source": [
        "#import numpy as np\n",
        "#\n",
        "#yTemp = np.zeros(yTrain.shape)\n",
        "#yTemp[np.where(yTrain == 0.0)[0]] = 1\n",
        "#yTrain = yTemp\n",
        "#\n",
        "#yTemp = np.zeros(yTest.shape)\n",
        "#yTemp[np.where(yTest == 0.0)[0]] = 1\n",
        "#yTest = yTemp"
      ],
      "execution_count": 0,
      "outputs": []
    },
    {
      "cell_type": "code",
      "metadata": {
        "id": "dfft_F-ukr4G",
        "colab_type": "code",
        "colab": {}
      },
      "source": [
        "# one-hot encode targets, 10 classes because 10 digits (0-9)\n",
        "yTrain = to_categorical( yTrain, num_classes= 10)\n",
        "yTest = to_categorical( yTest, num_classes= 10)"
      ],
      "execution_count": 0,
      "outputs": []
    },
    {
      "cell_type": "code",
      "metadata": {
        "id": "xNCYQLp9dVY7",
        "colab_type": "code",
        "outputId": "2fea8205-c7c0-45c2-b448-ddb023ea4cc8",
        "colab": {
          "base_uri": "https://localhost:8080/",
          "height": 35
        }
      },
      "source": [
        "# A Nice Binary target for ya to work with\n",
        "#yTrain"
      ],
      "execution_count": 65,
      "outputs": [
        {
          "output_type": "execute_result",
          "data": {
            "text/plain": [
              "array([0., 1., 0., ..., 0., 0., 0.])"
            ]
          },
          "metadata": {
            "tags": []
          },
          "execution_count": 65
        }
      ]
    },
    {
      "cell_type": "code",
      "metadata": {
        "id": "Vm_1WeouklDu",
        "colab_type": "code",
        "colab": {
          "base_uri": "https://localhost:8080/",
          "height": 146
        },
        "outputId": "eedb4b19-5eb6-4468-a76f-26cad5a46c1c"
      },
      "source": [
        "# A Nice Binary Target for us ta work with\n",
        "yTrain"
      ],
      "execution_count": 116,
      "outputs": [
        {
          "output_type": "execute_result",
          "data": {
            "text/plain": [
              "array([[0., 0., 0., ..., 0., 0., 0.],\n",
              "       [1., 0., 0., ..., 0., 0., 0.],\n",
              "       [0., 0., 0., ..., 0., 0., 0.],\n",
              "       ...,\n",
              "       [0., 0., 0., ..., 0., 0., 0.],\n",
              "       [0., 0., 0., ..., 0., 0., 0.],\n",
              "       [0., 0., 0., ..., 0., 1., 0.]], dtype=float32)"
            ]
          },
          "metadata": {
            "tags": []
          },
          "execution_count": 116
        }
      ]
    },
    {
      "cell_type": "code",
      "metadata": {
        "id": "7_IP7onLlflI",
        "colab_type": "code",
        "colab": {}
      },
      "source": [
        "# Also, it looks pretty sparse... just sayin...."
      ],
      "execution_count": 0,
      "outputs": []
    },
    {
      "cell_type": "code",
      "metadata": {
        "id": "fGzn5Fy7lkw9",
        "colab_type": "code",
        "colab": {}
      },
      "source": [
        "madel = Sequential()\n",
        "madel.add( Dense( 256, input_shape= (784,)))    # Dense is roughly equal to the sigmoid( dot( x, weight) + bias) method we've been using, \n",
        "                                                # -- accepts input arrays shaped (*,784), and outputs arrays shaped (*,256) to next (hidden) layer\n",
        "madel.add( Activation( \"relu\"))                 # select activation function (sigmoid, relu, etc) to pass to next layer\n",
        "madel.add( Dropout( .5))                        # drops x%, prevents over-fitting\n",
        "madel.add( Dense( 10))                          # passes array shaped (*, 10) to next layer\n",
        "madel.add( Activation( \"softmax\"))              # Softmax normalizes output into a probability distribution \n",
        "#                       ^  ^  ^                 # -- (all 10 output values (passed from preceding Dense) exist between 0,1 and add up to 1, cumulatively)\n",
        "        # STRREEEEEETCH GOOOOOOOOOALSSS #"
      ],
      "execution_count": 0,
      "outputs": []
    },
    {
      "cell_type": "code",
      "metadata": {
        "id": "HOy4JPh0lkt2",
        "colab_type": "code",
        "colab": {
          "base_uri": "https://localhost:8080/",
          "height": 348
        },
        "outputId": "7ad478ca-27b6-41f9-964c-559868def0b2"
      },
      "source": [
        "# Checking information\n",
        "madel.summary()"
      ],
      "execution_count": 118,
      "outputs": [
        {
          "output_type": "stream",
          "text": [
            "Model: \"sequential_1\"\n",
            "_________________________________________________________________\n",
            "Layer (type)                 Output Shape              Param #   \n",
            "=================================================================\n",
            "dense_2 (Dense)              (None, 256)               200960    \n",
            "_________________________________________________________________\n",
            "activation_2 (Activation)    (None, 256)               0         \n",
            "_________________________________________________________________\n",
            "dropout_1 (Dropout)          (None, 256)               0         \n",
            "_________________________________________________________________\n",
            "dense_3 (Dense)              (None, 10)                2570      \n",
            "_________________________________________________________________\n",
            "activation_3 (Activation)    (None, 10)                0         \n",
            "=================================================================\n",
            "Total params: 203,530\n",
            "Trainable params: 203,530\n",
            "Non-trainable params: 0\n",
            "_________________________________________________________________\n"
          ],
          "name": "stdout"
        }
      ]
    },
    {
      "cell_type": "code",
      "metadata": {
        "id": "wCoQQ0ellkq1",
        "colab_type": "code",
        "colab": {}
      },
      "source": [
        "# compile model (maaaaadel (it's from Boston..)) for training\n",
        "madel.compile( loss= \"categorical_crossentropy\",    # catCE measures the average number of bits needed to identify an event from the set\n",
        "               optimizer= Adam(),                   # stochastic, gradient-based; most excellent for sparse gradients (which this set is)\n",
        "               metrics= [\"accuracy\"]                # how often predictions match labels... \"accuracy\" ¯\\_(ツ)_/¯\n",
        ")                           # STRREEEEEETCH GOOOOOOOOOALSSS #"
      ],
      "execution_count": 0,
      "outputs": []
    },
    {
      "cell_type": "markdown",
      "metadata": {
        "id": "1VxsroyldVZA",
        "colab_type": "text"
      },
      "source": [
        "### Estimating Your `net"
      ]
    },
    {
      "cell_type": "code",
      "metadata": {
        "colab_type": "code",
        "id": "5MOPtYdk1HgA",
        "colab": {
          "base_uri": "https://localhost:8080/",
          "height": 1000
        },
        "outputId": "208e00d5-d7be-4d26-ca6d-eb8d628b4326"
      },
      "source": [
        "##### Your Code Here #####\n",
        "\n",
        "###     MAGIC PART     ###\n",
        "\n",
        "fitBit = madel.fit( xTrain, yTrain,\n",
        "                    batch_size= 256,\n",
        "                    epochs= 32,\n",
        "                    verbose= 1,\n",
        "                    validation_data= ( xTest, yTest)\n",
        ")                           # STRREEEEEETCH GOOOOOOOOOALSSS #"
      ],
      "execution_count": 120,
      "outputs": [
        {
          "output_type": "stream",
          "text": [
            "Train on 60000 samples, validate on 10000 samples\n",
            "Epoch 1/32\n",
            "60000/60000 [==============================] - 3s 44us/sample - loss: 0.4791 - acc: 0.8602 - val_loss: 0.2140 - val_acc: 0.9404\n",
            "Epoch 2/32\n",
            "60000/60000 [==============================] - 3s 44us/sample - loss: 0.2311 - acc: 0.9330 - val_loss: 0.1527 - val_acc: 0.9563\n",
            "Epoch 3/32\n",
            "60000/60000 [==============================] - 3s 42us/sample - loss: 0.1806 - acc: 0.9477 - val_loss: 0.1265 - val_acc: 0.9634\n",
            "Epoch 4/32\n",
            "60000/60000 [==============================] - 3s 44us/sample - loss: 0.1505 - acc: 0.9560 - val_loss: 0.1088 - val_acc: 0.9680\n",
            "Epoch 5/32\n",
            "60000/60000 [==============================] - 3s 46us/sample - loss: 0.1320 - acc: 0.9613 - val_loss: 0.0968 - val_acc: 0.9717\n",
            "Epoch 6/32\n",
            "60000/60000 [==============================] - 3s 46us/sample - loss: 0.1166 - acc: 0.9657 - val_loss: 0.0876 - val_acc: 0.9746\n",
            "Epoch 7/32\n",
            "60000/60000 [==============================] - 3s 46us/sample - loss: 0.1052 - acc: 0.9689 - val_loss: 0.0813 - val_acc: 0.9763\n",
            "Epoch 8/32\n",
            "60000/60000 [==============================] - 3s 44us/sample - loss: 0.0964 - acc: 0.9711 - val_loss: 0.0789 - val_acc: 0.9761\n",
            "Epoch 9/32\n",
            "60000/60000 [==============================] - 3s 43us/sample - loss: 0.0887 - acc: 0.9736 - val_loss: 0.0735 - val_acc: 0.9780\n",
            "Epoch 10/32\n",
            "60000/60000 [==============================] - 3s 42us/sample - loss: 0.0830 - acc: 0.9748 - val_loss: 0.0718 - val_acc: 0.9777\n",
            "Epoch 11/32\n",
            "60000/60000 [==============================] - 3s 42us/sample - loss: 0.0799 - acc: 0.9752 - val_loss: 0.0691 - val_acc: 0.9779\n",
            "Epoch 12/32\n",
            "60000/60000 [==============================] - 3s 44us/sample - loss: 0.0748 - acc: 0.9775 - val_loss: 0.0681 - val_acc: 0.9782\n",
            "Epoch 13/32\n",
            "60000/60000 [==============================] - 3s 44us/sample - loss: 0.0702 - acc: 0.9781 - val_loss: 0.0655 - val_acc: 0.9798\n",
            "Epoch 14/32\n",
            "60000/60000 [==============================] - 3s 44us/sample - loss: 0.0643 - acc: 0.9801 - val_loss: 0.0653 - val_acc: 0.9801\n",
            "Epoch 15/32\n",
            "60000/60000 [==============================] - 2s 41us/sample - loss: 0.0624 - acc: 0.9809 - val_loss: 0.0613 - val_acc: 0.9814\n",
            "Epoch 16/32\n",
            "60000/60000 [==============================] - 3s 43us/sample - loss: 0.0603 - acc: 0.9812 - val_loss: 0.0638 - val_acc: 0.9819\n",
            "Epoch 17/32\n",
            "60000/60000 [==============================] - 3s 43us/sample - loss: 0.0558 - acc: 0.9824 - val_loss: 0.0616 - val_acc: 0.9813\n",
            "Epoch 18/32\n",
            "60000/60000 [==============================] - 3s 42us/sample - loss: 0.0548 - acc: 0.9826 - val_loss: 0.0630 - val_acc: 0.9812\n",
            "Epoch 19/32\n",
            "60000/60000 [==============================] - 3s 43us/sample - loss: 0.0524 - acc: 0.9829 - val_loss: 0.0619 - val_acc: 0.9819\n",
            "Epoch 20/32\n",
            "60000/60000 [==============================] - 3s 43us/sample - loss: 0.0475 - acc: 0.9849 - val_loss: 0.0592 - val_acc: 0.9821\n",
            "Epoch 21/32\n",
            "60000/60000 [==============================] - 3s 43us/sample - loss: 0.0481 - acc: 0.9842 - val_loss: 0.0617 - val_acc: 0.9816\n",
            "Epoch 22/32\n",
            "60000/60000 [==============================] - 3s 43us/sample - loss: 0.0459 - acc: 0.9849 - val_loss: 0.0591 - val_acc: 0.9826\n",
            "Epoch 23/32\n",
            "60000/60000 [==============================] - 3s 44us/sample - loss: 0.0455 - acc: 0.9855 - val_loss: 0.0605 - val_acc: 0.9817\n",
            "Epoch 24/32\n",
            "60000/60000 [==============================] - 3s 44us/sample - loss: 0.0420 - acc: 0.9859 - val_loss: 0.0637 - val_acc: 0.9823\n",
            "Epoch 25/32\n",
            "60000/60000 [==============================] - 3s 44us/sample - loss: 0.0415 - acc: 0.9859 - val_loss: 0.0625 - val_acc: 0.9824\n",
            "Epoch 26/32\n",
            "60000/60000 [==============================] - 3s 44us/sample - loss: 0.0409 - acc: 0.9860 - val_loss: 0.0642 - val_acc: 0.9811\n",
            "Epoch 27/32\n",
            "60000/60000 [==============================] - 3s 42us/sample - loss: 0.0404 - acc: 0.9869 - val_loss: 0.0639 - val_acc: 0.9819\n",
            "Epoch 28/32\n",
            "60000/60000 [==============================] - 3s 43us/sample - loss: 0.0378 - acc: 0.9875 - val_loss: 0.0601 - val_acc: 0.9827\n",
            "Epoch 29/32\n",
            "60000/60000 [==============================] - 3s 44us/sample - loss: 0.0381 - acc: 0.9876 - val_loss: 0.0625 - val_acc: 0.9820\n",
            "Epoch 30/32\n",
            "60000/60000 [==============================] - 3s 44us/sample - loss: 0.0365 - acc: 0.9878 - val_loss: 0.0605 - val_acc: 0.9827\n",
            "Epoch 31/32\n",
            "60000/60000 [==============================] - 3s 42us/sample - loss: 0.0351 - acc: 0.9887 - val_loss: 0.0637 - val_acc: 0.9829\n",
            "Epoch 32/32\n",
            "60000/60000 [==============================] - 2s 41us/sample - loss: 0.0336 - acc: 0.9887 - val_loss: 0.0597 - val_acc: 0.9837\n"
          ],
          "name": "stdout"
        }
      ]
    },
    {
      "cell_type": "code",
      "metadata": {
        "id": "pJPu0huyzIr3",
        "colab_type": "code",
        "colab": {
          "base_uri": "https://localhost:8080/",
          "height": 35
        },
        "outputId": "595d17c7-09ac-46ac-ab97-cdb29f0acf07"
      },
      "source": [
        "scooooore = madel.evaluate( xTest, yTest, verbose= 1)"
      ],
      "execution_count": 122,
      "outputs": [
        {
          "output_type": "stream",
          "text": [
            "10000/10000 [==============================] - 0s 42us/sample - loss: 0.0597 - acc: 0.9837\n"
          ],
          "name": "stdout"
        }
      ]
    },
    {
      "cell_type": "markdown",
      "metadata": {
        "colab_type": "text",
        "id": "FwlRJSfBlCvy"
      },
      "source": [
        "## Stretch Goals: \n",
        "\n",
        "- Make MNIST a multiclass problem using cross entropy & soft-max\n",
        "- Implement Cross Validation model evaluation on your MNIST implementation \n",
        "- Research different [Gradient Descent Based Optimizers](https://keras.io/optimizers/)\n",
        " - [Siraj Raval the evolution of gradient descent](https://www.youtube.com/watch?v=nhqo0u1a6fw)\n",
        "- Build a housing price estimation model using a neural network. How does its accuracy compare with the regression models that we fit earlier on in class?"
      ]
    }
  ]
}