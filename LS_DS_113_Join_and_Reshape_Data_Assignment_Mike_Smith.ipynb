{
  "nbformat": 4,
  "nbformat_minor": 0,
  "metadata": {
    "colab": {
      "name": "LS_DS_113_Join_and_Reshape_Data_Assignment Mike Smith",
      "provenance": [],
      "collapsed_sections": [],
      "include_colab_link": true
    },
    "kernelspec": {
      "display_name": "Python 3",
      "language": "python",
      "name": "python3"
    }
  },
  "cells": [
    {
      "cell_type": "markdown",
      "metadata": {
        "id": "view-in-github",
        "colab_type": "text"
      },
      "source": [
        "<a href=\"https://colab.research.google.com/github/gomlfx/DS-Unit-1-Sprint-1-Data-Wrangling-and-Storytelling/blob/master/LS_DS_113_Join_and_Reshape_Data_Assignment_Mike_Smith.ipynb\" target=\"_parent\"><img src=\"https://colab.research.google.com/assets/colab-badge.svg\" alt=\"Open In Colab\"/></a>"
      ]
    },
    {
      "cell_type": "markdown",
      "metadata": {
        "colab_type": "text",
        "id": "pmU5YUal1eTZ"
      },
      "source": [
        "Lambda School Data Science\n",
        "\n",
        "*Unit 1, Sprint 1, Module 3*\n",
        "\n",
        "---\n",
        "\n",
        "# Join and Reshape datasets\n",
        "\n",
        "Objectives\n",
        "- concatenate data with pandas\n",
        "- merge data with pandas\n",
        "-  understand tidy data formatting\n",
        "-  melt and pivot data with pandas\n",
        "\n",
        "Links\n",
        "- [Pandas Cheat Sheet](https://github.com/pandas-dev/pandas/blob/master/doc/cheatsheet/Pandas_Cheat_Sheet.pdf)\n",
        "- [Tidy Data](https://en.wikipedia.org/wiki/Tidy_data)\n",
        "  - Combine Data Sets: Standard Joins\n",
        "  - Tidy Data\n",
        "  - Reshaping Data\n",
        "- Python Data Science Handbook\n",
        "  - [Chapter 3.6](https://jakevdp.github.io/PythonDataScienceHandbook/03.06-concat-and-append.html), Combining Datasets: Concat and Append\n",
        "  - [Chapter 3.7](https://jakevdp.github.io/PythonDataScienceHandbook/03.07-merge-and-join.html), Combining Datasets: Merge and Join\n",
        "  - [Chapter 3.8](https://jakevdp.github.io/PythonDataScienceHandbook/03.08-aggregation-and-grouping.html), Aggregation and Grouping\n",
        "  - [Chapter 3.9](https://jakevdp.github.io/PythonDataScienceHandbook/03.09-pivot-tables.html), Pivot Tables\n",
        "  \n",
        "Reference\n",
        "- Pandas Documentation: [Reshaping and Pivot Tables](https://pandas.pydata.org/pandas-docs/stable/reshaping.html)\n",
        "- Modern Pandas, Part 5: [Tidy Data](https://tomaugspurger.github.io/modern-5-tidy.html)"
      ]
    },
    {
      "cell_type": "code",
      "metadata": {
        "id": "5MsWLLW4Xg_i",
        "colab_type": "code",
        "outputId": "51bdd0be-4544-477b-f52c-fbc7142cae37",
        "colab": {
          "base_uri": "https://localhost:8080/",
          "height": 224
        }
      },
      "source": [
        "!wget https://s3.amazonaws.com/instacart-datasets/instacart_online_grocery_shopping_2017_05_01.tar.gz"
      ],
      "execution_count": 1,
      "outputs": [
        {
          "output_type": "stream",
          "text": [
            "--2019-11-08 03:27:26--  https://s3.amazonaws.com/instacart-datasets/instacart_online_grocery_shopping_2017_05_01.tar.gz\n",
            "Resolving s3.amazonaws.com (s3.amazonaws.com)... 52.216.137.118\n",
            "Connecting to s3.amazonaws.com (s3.amazonaws.com)|52.216.137.118|:443... connected.\n",
            "HTTP request sent, awaiting response... 200 OK\n",
            "Length: 205548478 (196M) [application/x-gzip]\n",
            "Saving to: ‘instacart_online_grocery_shopping_2017_05_01.tar.gz’\n",
            "\n",
            "instacart_online_gr 100%[===================>] 196.03M  78.1MB/s    in 2.5s    \n",
            "\n",
            "2019-11-08 03:27:29 (78.1 MB/s) - ‘instacart_online_grocery_shopping_2017_05_01.tar.gz’ saved [205548478/205548478]\n",
            "\n"
          ],
          "name": "stdout"
        }
      ]
    },
    {
      "cell_type": "code",
      "metadata": {
        "id": "gfr4_Ya0XkLI",
        "colab_type": "code",
        "outputId": "7ea1bb0d-5f39-4446-8f78-3068c6698e03",
        "colab": {
          "base_uri": "https://localhost:8080/",
          "height": 238
        }
      },
      "source": [
        "!tar --gunzip --extract --verbose --file=instacart_online_grocery_shopping_2017_05_01.tar.gz"
      ],
      "execution_count": 2,
      "outputs": [
        {
          "output_type": "stream",
          "text": [
            "instacart_2017_05_01/\n",
            "instacart_2017_05_01/._aisles.csv\n",
            "instacart_2017_05_01/aisles.csv\n",
            "instacart_2017_05_01/._departments.csv\n",
            "instacart_2017_05_01/departments.csv\n",
            "instacart_2017_05_01/._order_products__prior.csv\n",
            "instacart_2017_05_01/order_products__prior.csv\n",
            "instacart_2017_05_01/._order_products__train.csv\n",
            "instacart_2017_05_01/order_products__train.csv\n",
            "instacart_2017_05_01/._orders.csv\n",
            "instacart_2017_05_01/orders.csv\n",
            "instacart_2017_05_01/._products.csv\n",
            "instacart_2017_05_01/products.csv\n"
          ],
          "name": "stdout"
        }
      ]
    },
    {
      "cell_type": "code",
      "metadata": {
        "id": "N4YyGPNdXrT0",
        "colab_type": "code",
        "outputId": "83c67fa8-1d0b-4e7b-dcb3-77220db83842",
        "colab": {
          "base_uri": "https://localhost:8080/",
          "height": 34
        }
      },
      "source": [
        "%cd instacart_2017_05_01"
      ],
      "execution_count": 3,
      "outputs": [
        {
          "output_type": "stream",
          "text": [
            "/content/instacart_2017_05_01\n"
          ],
          "name": "stdout"
        }
      ]
    },
    {
      "cell_type": "code",
      "metadata": {
        "id": "b26wmLUiXtlM",
        "colab_type": "code",
        "outputId": "3b4b6fd2-d3fd-4a79-e906-26e11dcafcbe",
        "colab": {
          "base_uri": "https://localhost:8080/",
          "height": 119
        }
      },
      "source": [
        "!ls -lh *.csv"
      ],
      "execution_count": 4,
      "outputs": [
        {
          "output_type": "stream",
          "text": [
            "-rw-r--r-- 1 502 staff 2.6K May  2  2017 aisles.csv\n",
            "-rw-r--r-- 1 502 staff  270 May  2  2017 departments.csv\n",
            "-rw-r--r-- 1 502 staff 551M May  2  2017 order_products__prior.csv\n",
            "-rw-r--r-- 1 502 staff  24M May  2  2017 order_products__train.csv\n",
            "-rw-r--r-- 1 502 staff 104M May  2  2017 orders.csv\n",
            "-rw-r--r-- 1 502 staff 2.1M May  2  2017 products.csv\n"
          ],
          "name": "stdout"
        }
      ]
    },
    {
      "cell_type": "markdown",
      "metadata": {
        "colab_type": "text",
        "id": "kAMtvSQWPUcj"
      },
      "source": [
        "# Assignment\n",
        "\n",
        "## Join Data Practice\n",
        "\n",
        "These are the top 10 most frequently ordered products. How many times was each ordered? \n",
        "\n",
        "1. Banana\n",
        "2. Bag of Organic Bananas\n",
        "3. Organic Strawberries\n",
        "4. Organic Baby Spinach \n",
        "5. Organic Hass Avocado\n",
        "6. Organic Avocado\n",
        "7. Large Lemon \n",
        "8. Strawberries\n",
        "9. Limes \n",
        "10. Organic Whole Milk\n",
        "\n",
        "First, write down which columns you need and which dataframes have them.\n",
        "\n",
        "Next, merge these into a single dataframe.\n",
        "\n",
        "Then, use pandas functions from the previous lesson to get the counts of the top 10 most frequently ordered products."
      ]
    },
    {
      "cell_type": "code",
      "metadata": {
        "id": "vvE0EVHgXMFO",
        "colab_type": "code",
        "colab": {
          "base_uri": "https://localhost:8080/",
          "height": 1000
        },
        "outputId": "99379850-8043-4c7d-cd8b-8cebad45b08f"
      },
      "source": [
        "##### YOUR CODE HERE #####\n",
        "#explore each csv  by sampling item name\n",
        "import pandas as pd\n",
        "pd.options.display.max_rows=999\n",
        "#pd.set_option('display.max_rows', None)\n",
        "pd.set_option('display.max_columns', None)\n",
        "df = pd.read_csv(\"aisles.csv\")\n",
        "print(df.shape)\n",
        "print(df)\n",
        "\n"
      ],
      "execution_count": 5,
      "outputs": [
        {
          "output_type": "stream",
          "text": [
            "(134, 2)\n",
            "     aisle_id                          aisle\n",
            "0           1          prepared soups salads\n",
            "1           2              specialty cheeses\n",
            "2           3            energy granola bars\n",
            "3           4                  instant foods\n",
            "4           5     marinades meat preparation\n",
            "5           6                          other\n",
            "6           7                  packaged meat\n",
            "7           8                bakery desserts\n",
            "8           9                    pasta sauce\n",
            "9          10               kitchen supplies\n",
            "10         11               cold flu allergy\n",
            "11         12                    fresh pasta\n",
            "12         13                 prepared meals\n",
            "13         14         tofu meat alternatives\n",
            "14         15               packaged seafood\n",
            "15         16                    fresh herbs\n",
            "16         17             baking ingredients\n",
            "17         18   bulk dried fruits vegetables\n",
            "18         19                  oils vinegars\n",
            "19         20                   oral hygiene\n",
            "20         21                packaged cheese\n",
            "21         22                      hair care\n",
            "22         23                  popcorn jerky\n",
            "23         24                   fresh fruits\n",
            "24         25                           soap\n",
            "25         26                         coffee\n",
            "26         27                  beers coolers\n",
            "27         28                      red wines\n",
            "28         29          honeys syrups nectars\n",
            "29         30                   latino foods\n",
            "30         31                   refrigerated\n",
            "31         32               packaged produce\n",
            "32         33                   kosher foods\n",
            "33         34            frozen meat seafood\n",
            "34         35                poultry counter\n",
            "35         36                         butter\n",
            "36         37                  ice cream ice\n",
            "37         38                   frozen meals\n",
            "38         39                seafood counter\n",
            "39         40                  dog food care\n",
            "40         41                  cat food care\n",
            "41         42        frozen vegan vegetarian\n",
            "42         43                     buns rolls\n",
            "43         44                   eye ear care\n",
            "44         45                candy chocolate\n",
            "45         46                       mint gum\n",
            "46         47           vitamins supplements\n",
            "47         48        breakfast bars pastries\n",
            "48         49               packaged poultry\n",
            "49         50         fruit vegetable snacks\n",
            "50         51         preserved dips spreads\n",
            "51         52               frozen breakfast\n",
            "52         53                          cream\n",
            "53         54                    paper goods\n",
            "54         55                    shave needs\n",
            "55         56                  diapers wipes\n",
            "56         57                        granola\n",
            "57         58           frozen breads doughs\n",
            "58         59             canned meals beans\n",
            "59         60              trash bags liners\n",
            "60         61                  cookies cakes\n",
            "61         62                    white wines\n",
            "62         63        grains rice dried goods\n",
            "63         64           energy sports drinks\n",
            "64         65      protein meal replacements\n",
            "65         66                    asian foods\n",
            "66         67           fresh dips tapenades\n",
            "67         68   bulk grains rice dried goods\n",
            "68         69            soup broth bouillon\n",
            "69         70                      digestion\n",
            "70         71  refrigerated pudding desserts\n",
            "71         72                     condiments\n",
            "72         73                    facial care\n",
            "73         74                dish detergents\n",
            "74         75                        laundry\n",
            "75         76                   indian foods\n",
            "76         77                    soft drinks\n",
            "77         78                       crackers\n",
            "78         79                   frozen pizza\n",
            "79         80                     deodorants\n",
            "80         81       canned jarred vegetables\n",
            "81         82               baby accessories\n",
            "82         83               fresh vegetables\n",
            "83         84                           milk\n",
            "84         85                   food storage\n",
            "85         86                           eggs\n",
            "86         87                 more household\n",
            "87         88                        spreads\n",
            "88         89        salad dressing toppings\n",
            "89         90              cocoa drink mixes\n",
            "90         91                soy lactosefree\n",
            "91         92              baby food formula\n",
            "92         93               breakfast bakery\n",
            "93         94                            tea\n",
            "94         95            canned meat seafood\n",
            "95         96                     lunch meat\n",
            "96         97          baking supplies decor\n",
            "97         98                  juice nectars\n",
            "98         99        canned fruit applesauce\n",
            "99        100                        missing\n",
            "100       101         air fresheners candles\n",
            "101       102            baby bath body care\n",
            "102       103             ice cream toppings\n",
            "103       104              spices seasonings\n",
            "104       105     doughs gelatins bake mixes\n",
            "105       106         hot dogs bacon sausage\n",
            "106       107                 chips pretzels\n",
            "107       108           other creams cheeses\n",
            "108       109                      skin care\n",
            "109       110           pickled goods olives\n",
            "110       111     plates bowls cups flatware\n",
            "111       112                          bread\n",
            "112       113                   frozen juice\n",
            "113       114              cleaning products\n",
            "114       115  water seltzer sparkling water\n",
            "115       116                 frozen produce\n",
            "116       117         nuts seeds dried fruit\n",
            "117       118                      first aid\n",
            "118       119                 frozen dessert\n",
            "119       120                         yogurt\n",
            "120       121                         cereal\n",
            "121       122                   meat counter\n",
            "122       123     packaged vegetables fruits\n",
            "123       124                        spirits\n",
            "124       125            trail mix snack mix\n",
            "125       126                  feminine care\n",
            "126       127              body lotions soap\n",
            "127       128           tortillas flat bread\n",
            "128       129        frozen appetizers sides\n",
            "129       130       hot cereal pancake mixes\n",
            "130       131                      dry pasta\n",
            "131       132                         beauty\n",
            "132       133     muscles joints pain relief\n",
            "133       134     specialty wines champagnes\n"
          ],
          "name": "stdout"
        }
      ]
    },
    {
      "cell_type": "code",
      "metadata": {
        "id": "QNhtkdiokvjV",
        "colab_type": "code",
        "colab": {
          "base_uri": "https://localhost:8080/",
          "height": 408
        },
        "outputId": "6b1eb725-c25e-445b-8e22-ab8e225cb8d5"
      },
      "source": [
        "import pandas as pd\n",
        "pd.options.display.max_rows=999\n",
        "#pd.set_option('display.max_rows', None)\n",
        "pd.set_option('display.max_columns', None)\n",
        "df = pd.read_csv(\"departments.csv\")\n",
        "print(df.shape)\n",
        "print(df)"
      ],
      "execution_count": 6,
      "outputs": [
        {
          "output_type": "stream",
          "text": [
            "(21, 2)\n",
            "    department_id       department\n",
            "0               1           frozen\n",
            "1               2            other\n",
            "2               3           bakery\n",
            "3               4          produce\n",
            "4               5          alcohol\n",
            "5               6    international\n",
            "6               7        beverages\n",
            "7               8             pets\n",
            "8               9  dry goods pasta\n",
            "9              10             bulk\n",
            "10             11    personal care\n",
            "11             12     meat seafood\n",
            "12             13           pantry\n",
            "13             14        breakfast\n",
            "14             15     canned goods\n",
            "15             16       dairy eggs\n",
            "16             17        household\n",
            "17             18           babies\n",
            "18             19           snacks\n",
            "19             20             deli\n",
            "20             21          missing\n"
          ],
          "name": "stdout"
        }
      ]
    },
    {
      "cell_type": "code",
      "metadata": {
        "id": "t3ezll_qlLI_",
        "colab_type": "code",
        "colab": {
          "base_uri": "https://localhost:8080/",
          "height": 272
        },
        "outputId": "99249bd6-f3bf-4535-bf53-1032fd133d21"
      },
      "source": [
        "import pandas as pd\n",
        "pd.options.display.max_rows=999\n",
        "#pd.set_option('display.max_rows', None)\n",
        "pd.set_option('display.max_columns', None)\n",
        "df = pd.read_csv(\"order_products__prior.csv\")\n",
        "print(df.shape)\n",
        "print(df)"
      ],
      "execution_count": 7,
      "outputs": [
        {
          "output_type": "stream",
          "text": [
            "(32434489, 4)\n",
            "          order_id  product_id  add_to_cart_order  reordered\n",
            "0                2       33120                  1          1\n",
            "1                2       28985                  2          1\n",
            "2                2        9327                  3          0\n",
            "3                2       45918                  4          1\n",
            "4                2       30035                  5          0\n",
            "...            ...         ...                ...        ...\n",
            "32434484   3421083       39678                  6          1\n",
            "32434485   3421083       11352                  7          0\n",
            "32434486   3421083        4600                  8          0\n",
            "32434487   3421083       24852                  9          1\n",
            "32434488   3421083        5020                 10          1\n",
            "\n",
            "[32434489 rows x 4 columns]\n"
          ],
          "name": "stdout"
        }
      ]
    },
    {
      "cell_type": "code",
      "metadata": {
        "id": "4E25cNDylZWm",
        "colab_type": "code",
        "colab": {
          "base_uri": "https://localhost:8080/",
          "height": 272
        },
        "outputId": "138cf532-5d2c-43f9-ec9b-efd939f6bc35"
      },
      "source": [
        "import pandas as pd\n",
        "pd.options.display.max_rows=999\n",
        "#pd.set_option('display.max_rows', None)\n",
        "pd.set_option('display.max_columns', None)\n",
        "df = pd.read_csv(\"order_products__train.csv\")\n",
        "print(df.shape)\n",
        "print(df)"
      ],
      "execution_count": 8,
      "outputs": [
        {
          "output_type": "stream",
          "text": [
            "(1384617, 4)\n",
            "         order_id  product_id  add_to_cart_order  reordered\n",
            "0               1       49302                  1          1\n",
            "1               1       11109                  2          1\n",
            "2               1       10246                  3          0\n",
            "3               1       49683                  4          0\n",
            "4               1       43633                  5          1\n",
            "...           ...         ...                ...        ...\n",
            "1384612   3421063       14233                  3          1\n",
            "1384613   3421063       35548                  4          1\n",
            "1384614   3421070       35951                  1          1\n",
            "1384615   3421070       16953                  2          1\n",
            "1384616   3421070        4724                  3          1\n",
            "\n",
            "[1384617 rows x 4 columns]\n"
          ],
          "name": "stdout"
        }
      ]
    },
    {
      "cell_type": "code",
      "metadata": {
        "id": "uJNxzZNFmYQ7",
        "colab_type": "code",
        "colab": {
          "base_uri": "https://localhost:8080/",
          "height": 493
        },
        "outputId": "a16dd6d5-ea09-4e5e-d941-4d6daa41467a"
      },
      "source": [
        "import pandas as pd\n",
        "pd.options.display.max_rows=999\n",
        "#pd.set_option('display.max_rows', None)\n",
        "pd.set_option('display.max_columns', None)\n",
        "df = pd.read_csv(\"orders.csv\")\n",
        "print(df.shape)\n",
        "print(df)"
      ],
      "execution_count": 9,
      "outputs": [
        {
          "output_type": "stream",
          "text": [
            "(3421083, 7)\n",
            "         order_id  user_id eval_set  order_number  order_dow  \\\n",
            "0         2539329        1    prior             1          2   \n",
            "1         2398795        1    prior             2          3   \n",
            "2          473747        1    prior             3          3   \n",
            "3         2254736        1    prior             4          4   \n",
            "4          431534        1    prior             5          4   \n",
            "...           ...      ...      ...           ...        ...   \n",
            "3421078   2266710   206209    prior            10          5   \n",
            "3421079   1854736   206209    prior            11          4   \n",
            "3421080    626363   206209    prior            12          1   \n",
            "3421081   2977660   206209    prior            13          1   \n",
            "3421082    272231   206209    train            14          6   \n",
            "\n",
            "         order_hour_of_day  days_since_prior_order  \n",
            "0                        8                     NaN  \n",
            "1                        7                    15.0  \n",
            "2                       12                    21.0  \n",
            "3                        7                    29.0  \n",
            "4                       15                    28.0  \n",
            "...                    ...                     ...  \n",
            "3421078                 18                    29.0  \n",
            "3421079                 10                    30.0  \n",
            "3421080                 12                    18.0  \n",
            "3421081                 12                     7.0  \n",
            "3421082                 14                    30.0  \n",
            "\n",
            "[3421083 rows x 7 columns]\n"
          ],
          "name": "stdout"
        }
      ]
    },
    {
      "cell_type": "code",
      "metadata": {
        "id": "0LjTZ-cZmx6M",
        "colab_type": "code",
        "colab": {
          "base_uri": "https://localhost:8080/",
          "height": 493
        },
        "outputId": "50373143-7731-419d-fc91-654494507ef5"
      },
      "source": [
        "import pandas as pd\n",
        "pd.options.display.max_rows=999\n",
        "#pd.set_option('display.max_rows', None)\n",
        "pd.set_option('display.max_columns', None)\n",
        "df = pd.read_csv(\"products.csv\")\n",
        "print(df.shape)\n",
        "print(df)\n"
      ],
      "execution_count": 10,
      "outputs": [
        {
          "output_type": "stream",
          "text": [
            "(49688, 4)\n",
            "       product_id                                       product_name  \\\n",
            "0               1                         Chocolate Sandwich Cookies   \n",
            "1               2                                   All-Seasons Salt   \n",
            "2               3               Robust Golden Unsweetened Oolong Tea   \n",
            "3               4  Smart Ones Classic Favorites Mini Rigatoni Wit...   \n",
            "4               5                          Green Chile Anytime Sauce   \n",
            "...           ...                                                ...   \n",
            "49683       49684          Vodka, Triple Distilled, Twist of Vanilla   \n",
            "49684       49685                 En Croute Roast Hazelnut Cranberry   \n",
            "49685       49686                                   Artisan Baguette   \n",
            "49686       49687         Smartblend Healthy Metabolism Dry Cat Food   \n",
            "49687       49688                             Fresh Foaming Cleanser   \n",
            "\n",
            "       aisle_id  department_id  \n",
            "0            61             19  \n",
            "1           104             13  \n",
            "2            94              7  \n",
            "3            38              1  \n",
            "4             5             13  \n",
            "...         ...            ...  \n",
            "49683       124              5  \n",
            "49684        42              1  \n",
            "49685       112              3  \n",
            "49686        41              8  \n",
            "49687        73             11  \n",
            "\n",
            "[49688 rows x 4 columns]\n"
          ],
          "name": "stdout"
        }
      ]
    },
    {
      "cell_type": "code",
      "metadata": {
        "id": "VaKed9K7pkMR",
        "colab_type": "code",
        "colab": {
          "base_uri": "https://localhost:8080/",
          "height": 187
        },
        "outputId": "6ecc0d67-8667-4f7f-c859-864c6de0323e"
      },
      "source": [
        "#departments(21 rows), aisles(134 rows), products (49688 rows) files have string data like banana, etc. \n",
        "#logically, you can see less depts vs aisles vs products, etc. So our strings are in products csv. There are 49000 product id's, which is our items?\n",
        "#search products.csv file for our string matches:\n",
        "#Bag of Organic Bananas\n",
        "#Organic Strawberries\n",
        "#Organic Baby Spinach\n",
        "#Organic Hass Avocado\n",
        "#Organic Avocado\n",
        "#Large Lemon\n",
        "#Strawberries\n",
        "#Limes\n",
        "#Organic Whole Milk\n",
        "import numpy as np\n",
        "df=pd.read_csv('products.csv')\n",
        "print(np.where((df['product_name']=='Banana')))\n",
        "print(np.where((df['product_name']=='Bag of Organic Bananas')))\n",
        "print(np.where((df['product_name']=='Organic Strawberries')))\n",
        "print(np.where((df['product_name']=='Organic Baby Spinach')))\n",
        "print(np.where((df['product_name']=='Organic Hass Avocado')))\n",
        "print(np.where((df['product_name']=='Organic Avocado')))\n",
        "print(np.where((df['product_name']=='Large Lemon')))\n",
        "print(np.where((df['product_name']=='Strawberries')))\n",
        "print(np.where((df['product_name']=='Limes')))\n",
        "print(np.where((df['product_name']=='Organic Whole Milk')))"
      ],
      "execution_count": 11,
      "outputs": [
        {
          "output_type": "stream",
          "text": [
            "(array([24851]),)\n",
            "(array([13175]),)\n",
            "(array([21136]),)\n",
            "(array([21902]),)\n",
            "(array([47208]),)\n",
            "(array([47765]),)\n",
            "(array([47625]),)\n",
            "(array([16796]),)\n",
            "(array([26208]),)\n",
            "(array([27844]),)\n"
          ],
          "name": "stdout"
        }
      ]
    },
    {
      "cell_type": "code",
      "metadata": {
        "id": "d4gyp8-4xiuM",
        "colab_type": "code",
        "colab": {
          "base_uri": "https://localhost:8080/",
          "height": 357
        },
        "outputId": "161f7e41-b304-434c-909b-b96953643316"
      },
      "source": [
        "#Index of items found, print row to confirm our item\n",
        "print(df.iloc[[24851]])\n",
        "print(df.iloc[[13175]])\n",
        "print(df.iloc[[21136]])\n",
        "print(df.iloc[[21902]])\n",
        "print(df.iloc[[47208]])\n",
        "print(df.iloc[[47765]])\n",
        "print(df.iloc[[47625]])\n",
        "print(df.iloc[[16796]])\n",
        "print(df.iloc[[26208]])\n",
        "print(df.iloc[[27844]])"
      ],
      "execution_count": 12,
      "outputs": [
        {
          "output_type": "stream",
          "text": [
            "       product_id product_name  aisle_id  department_id\n",
            "24851       24852       Banana        24              4\n",
            "       product_id            product_name  aisle_id  department_id\n",
            "13175       13176  Bag of Organic Bananas        24              4\n",
            "       product_id          product_name  aisle_id  department_id\n",
            "21136       21137  Organic Strawberries        24              4\n",
            "       product_id          product_name  aisle_id  department_id\n",
            "21902       21903  Organic Baby Spinach       123              4\n",
            "       product_id          product_name  aisle_id  department_id\n",
            "47208       47209  Organic Hass Avocado        24              4\n",
            "       product_id     product_name  aisle_id  department_id\n",
            "47765       47766  Organic Avocado        24              4\n",
            "       product_id product_name  aisle_id  department_id\n",
            "47625       47626  Large Lemon        24              4\n",
            "       product_id  product_name  aisle_id  department_id\n",
            "16796       16797  Strawberries        24              4\n",
            "       product_id product_name  aisle_id  department_id\n",
            "26208       26209        Limes        24              4\n",
            "       product_id        product_name  aisle_id  department_id\n",
            "27844       27845  Organic Whole Milk        84             16\n"
          ],
          "name": "stdout"
        }
      ]
    },
    {
      "cell_type": "code",
      "metadata": {
        "id": "gm1m73Xyzn4u",
        "colab_type": "code",
        "colab": {
          "base_uri": "https://localhost:8080/",
          "height": 204
        },
        "outputId": "8ee2bec7-4661-4d49-e36c-94339201a9e5"
      },
      "source": [
        "#now use product_id to find how many times was each ordered.\n",
        "df=pd.read_csv('order_products__prior.csv')\n",
        "\n",
        "df['product_id'].value_counts().head(10)"
      ],
      "execution_count": 13,
      "outputs": [
        {
          "output_type": "execute_result",
          "data": {
            "text/plain": [
              "24852    472565\n",
              "13176    379450\n",
              "21137    264683\n",
              "21903    241921\n",
              "47209    213584\n",
              "47766    176815\n",
              "47626    152657\n",
              "16797    142951\n",
              "26209    140627\n",
              "27845    137905\n",
              "Name: product_id, dtype: int64"
            ]
          },
          "metadata": {
            "tags": []
          },
          "execution_count": 13
        }
      ]
    },
    {
      "cell_type": "code",
      "metadata": {
        "id": "0BcoDOYnhlAa",
        "colab_type": "code",
        "colab": {}
      },
      "source": [
        "#amazingly the above list automatically listed the values I was searching for and specificed earlier,\n",
        "#as the top values, and not a long list of values that I thought I'd have to search through.\n",
        "#this must be why python is a (multi-paradigm) functional language! I love it! A lot more than java."
      ],
      "execution_count": 0,
      "outputs": []
    },
    {
      "cell_type": "markdown",
      "metadata": {
        "id": "RsiWi4DuXPLP",
        "colab_type": "text"
      },
      "source": [
        "## Reshape Data Section\n",
        "\n",
        "- Replicate the lesson code\n",
        "- Complete the code cells we skipped near the beginning of the notebook\n",
        "- Table 2 --> Tidy\n",
        "- Tidy --> Table 2\n",
        "- Load seaborn's `flights` dataset by running the cell below. Then create a pivot table showing the number of passengers by month and year. Use year for the index and month for the columns. You've done it right if you get 112 passengers for January 1949 and 432 passengers for December 1960."
      ]
    },
    {
      "cell_type": "code",
      "metadata": {
        "id": "Frab-17liLtU",
        "colab_type": "code",
        "colab": {}
      },
      "source": [
        "#replicate the lesson code\n",
        "import pandas as pd\n",
        "import numpy as np\n",
        "import matplotlib.pyplot as plt\n",
        "import seaborn as sns\n",
        "%matplotlib inline\n",
        "\n"
      ],
      "execution_count": 0,
      "outputs": []
    },
    {
      "cell_type": "code",
      "metadata": {
        "id": "lga_iFX0uh00",
        "colab_type": "code",
        "colab": {
          "base_uri": "https://localhost:8080/",
          "height": 111
        },
        "outputId": "9c80cf57-5f92-4244-c737-f63007a41321"
      },
      "source": [
        "#concatenate\n",
        "#create df1\n",
        "df1 = pd.DataFrame([['a',1],['b',2]], columns=['letter','number'])\n",
        "df1.head()"
      ],
      "execution_count": 16,
      "outputs": [
        {
          "output_type": "execute_result",
          "data": {
            "text/html": [
              "<div>\n",
              "<style scoped>\n",
              "    .dataframe tbody tr th:only-of-type {\n",
              "        vertical-align: middle;\n",
              "    }\n",
              "\n",
              "    .dataframe tbody tr th {\n",
              "        vertical-align: top;\n",
              "    }\n",
              "\n",
              "    .dataframe thead th {\n",
              "        text-align: right;\n",
              "    }\n",
              "</style>\n",
              "<table border=\"1\" class=\"dataframe\">\n",
              "  <thead>\n",
              "    <tr style=\"text-align: right;\">\n",
              "      <th></th>\n",
              "      <th>letter</th>\n",
              "      <th>number</th>\n",
              "    </tr>\n",
              "  </thead>\n",
              "  <tbody>\n",
              "    <tr>\n",
              "      <th>0</th>\n",
              "      <td>a</td>\n",
              "      <td>1</td>\n",
              "    </tr>\n",
              "    <tr>\n",
              "      <th>1</th>\n",
              "      <td>b</td>\n",
              "      <td>2</td>\n",
              "    </tr>\n",
              "  </tbody>\n",
              "</table>\n",
              "</div>"
            ],
            "text/plain": [
              "  letter  number\n",
              "0      a       1\n",
              "1      b       2"
            ]
          },
          "metadata": {
            "tags": []
          },
          "execution_count": 16
        }
      ]
    },
    {
      "cell_type": "code",
      "metadata": {
        "id": "3SFHQjPvu3j2",
        "colab_type": "code",
        "colab": {
          "base_uri": "https://localhost:8080/",
          "height": 111
        },
        "outputId": "83ddcc88-2101-4f18-bbec-51b9cbbf3e81"
      },
      "source": [
        "#create df2\n",
        "df2 = pd.DataFrame([['c',3],['d',4]],columns=['letter','number'])\n",
        "df2.head()"
      ],
      "execution_count": 17,
      "outputs": [
        {
          "output_type": "execute_result",
          "data": {
            "text/html": [
              "<div>\n",
              "<style scoped>\n",
              "    .dataframe tbody tr th:only-of-type {\n",
              "        vertical-align: middle;\n",
              "    }\n",
              "\n",
              "    .dataframe tbody tr th {\n",
              "        vertical-align: top;\n",
              "    }\n",
              "\n",
              "    .dataframe thead th {\n",
              "        text-align: right;\n",
              "    }\n",
              "</style>\n",
              "<table border=\"1\" class=\"dataframe\">\n",
              "  <thead>\n",
              "    <tr style=\"text-align: right;\">\n",
              "      <th></th>\n",
              "      <th>letter</th>\n",
              "      <th>number</th>\n",
              "    </tr>\n",
              "  </thead>\n",
              "  <tbody>\n",
              "    <tr>\n",
              "      <th>0</th>\n",
              "      <td>c</td>\n",
              "      <td>3</td>\n",
              "    </tr>\n",
              "    <tr>\n",
              "      <th>1</th>\n",
              "      <td>d</td>\n",
              "      <td>4</td>\n",
              "    </tr>\n",
              "  </tbody>\n",
              "</table>\n",
              "</div>"
            ],
            "text/plain": [
              "  letter  number\n",
              "0      c       3\n",
              "1      d       4"
            ]
          },
          "metadata": {
            "tags": []
          },
          "execution_count": 17
        }
      ]
    },
    {
      "cell_type": "code",
      "metadata": {
        "id": "eMEcBmsuvY7S",
        "colab_type": "code",
        "colab": {
          "base_uri": "https://localhost:8080/",
          "height": 173
        },
        "outputId": "ed1d3b24-9e6f-4fc9-d0d1-697a6d6b6aa5"
      },
      "source": [
        "#now concat\n",
        "df3=pd.concat([df1,df2], axis=0)\n",
        "df3"
      ],
      "execution_count": 18,
      "outputs": [
        {
          "output_type": "execute_result",
          "data": {
            "text/html": [
              "<div>\n",
              "<style scoped>\n",
              "    .dataframe tbody tr th:only-of-type {\n",
              "        vertical-align: middle;\n",
              "    }\n",
              "\n",
              "    .dataframe tbody tr th {\n",
              "        vertical-align: top;\n",
              "    }\n",
              "\n",
              "    .dataframe thead th {\n",
              "        text-align: right;\n",
              "    }\n",
              "</style>\n",
              "<table border=\"1\" class=\"dataframe\">\n",
              "  <thead>\n",
              "    <tr style=\"text-align: right;\">\n",
              "      <th></th>\n",
              "      <th>letter</th>\n",
              "      <th>number</th>\n",
              "    </tr>\n",
              "  </thead>\n",
              "  <tbody>\n",
              "    <tr>\n",
              "      <th>0</th>\n",
              "      <td>a</td>\n",
              "      <td>1</td>\n",
              "    </tr>\n",
              "    <tr>\n",
              "      <th>1</th>\n",
              "      <td>b</td>\n",
              "      <td>2</td>\n",
              "    </tr>\n",
              "    <tr>\n",
              "      <th>0</th>\n",
              "      <td>c</td>\n",
              "      <td>3</td>\n",
              "    </tr>\n",
              "    <tr>\n",
              "      <th>1</th>\n",
              "      <td>d</td>\n",
              "      <td>4</td>\n",
              "    </tr>\n",
              "  </tbody>\n",
              "</table>\n",
              "</div>"
            ],
            "text/plain": [
              "  letter  number\n",
              "0      a       1\n",
              "1      b       2\n",
              "0      c       3\n",
              "1      d       4"
            ]
          },
          "metadata": {
            "tags": []
          },
          "execution_count": 18
        }
      ]
    },
    {
      "cell_type": "code",
      "metadata": {
        "id": "COckScfpvgDB",
        "colab_type": "code",
        "colab": {
          "base_uri": "https://localhost:8080/",
          "height": 111
        },
        "outputId": "7e08bb62-1187-4a19-dc18-b2bed0e6035b"
      },
      "source": [
        "df4=pd.concat([df1,df2], axis=1)\n",
        "df4.columns=['a','b','c','d']\n",
        "df4"
      ],
      "execution_count": 19,
      "outputs": [
        {
          "output_type": "execute_result",
          "data": {
            "text/html": [
              "<div>\n",
              "<style scoped>\n",
              "    .dataframe tbody tr th:only-of-type {\n",
              "        vertical-align: middle;\n",
              "    }\n",
              "\n",
              "    .dataframe tbody tr th {\n",
              "        vertical-align: top;\n",
              "    }\n",
              "\n",
              "    .dataframe thead th {\n",
              "        text-align: right;\n",
              "    }\n",
              "</style>\n",
              "<table border=\"1\" class=\"dataframe\">\n",
              "  <thead>\n",
              "    <tr style=\"text-align: right;\">\n",
              "      <th></th>\n",
              "      <th>a</th>\n",
              "      <th>b</th>\n",
              "      <th>c</th>\n",
              "      <th>d</th>\n",
              "    </tr>\n",
              "  </thead>\n",
              "  <tbody>\n",
              "    <tr>\n",
              "      <th>0</th>\n",
              "      <td>a</td>\n",
              "      <td>1</td>\n",
              "      <td>c</td>\n",
              "      <td>3</td>\n",
              "    </tr>\n",
              "    <tr>\n",
              "      <th>1</th>\n",
              "      <td>b</td>\n",
              "      <td>2</td>\n",
              "      <td>d</td>\n",
              "      <td>4</td>\n",
              "    </tr>\n",
              "  </tbody>\n",
              "</table>\n",
              "</div>"
            ],
            "text/plain": [
              "   a  b  c  d\n",
              "0  a  1  c  3\n",
              "1  b  2  d  4"
            ]
          },
          "metadata": {
            "tags": []
          },
          "execution_count": 19
        }
      ]
    },
    {
      "cell_type": "code",
      "metadata": {
        "id": "afHjAEUbxg4D",
        "colab_type": "code",
        "colab": {
          "base_uri": "https://localhost:8080/",
          "height": 204
        },
        "outputId": "7f9a9d31-0ad6-4c4c-ed11-46de01bc273d"
      },
      "source": [
        "#concat is simplest, just sticks two df's together. .merge() is the advanced function\n",
        "#stocknames\n",
        "stockname = pd.DataFrame({'Symbol': ['AMZN', 'MSFT', 'FB', 'AAPL', 'GOOGL'], 'Name': ['Amazon', 'Microsoft', 'Facebook', 'Apple', 'Google']})\n",
        "stockname"
      ],
      "execution_count": 20,
      "outputs": [
        {
          "output_type": "execute_result",
          "data": {
            "text/html": [
              "<div>\n",
              "<style scoped>\n",
              "    .dataframe tbody tr th:only-of-type {\n",
              "        vertical-align: middle;\n",
              "    }\n",
              "\n",
              "    .dataframe tbody tr th {\n",
              "        vertical-align: top;\n",
              "    }\n",
              "\n",
              "    .dataframe thead th {\n",
              "        text-align: right;\n",
              "    }\n",
              "</style>\n",
              "<table border=\"1\" class=\"dataframe\">\n",
              "  <thead>\n",
              "    <tr style=\"text-align: right;\">\n",
              "      <th></th>\n",
              "      <th>Symbol</th>\n",
              "      <th>Name</th>\n",
              "    </tr>\n",
              "  </thead>\n",
              "  <tbody>\n",
              "    <tr>\n",
              "      <th>0</th>\n",
              "      <td>AMZN</td>\n",
              "      <td>Amazon</td>\n",
              "    </tr>\n",
              "    <tr>\n",
              "      <th>1</th>\n",
              "      <td>MSFT</td>\n",
              "      <td>Microsoft</td>\n",
              "    </tr>\n",
              "    <tr>\n",
              "      <th>2</th>\n",
              "      <td>FB</td>\n",
              "      <td>Facebook</td>\n",
              "    </tr>\n",
              "    <tr>\n",
              "      <th>3</th>\n",
              "      <td>AAPL</td>\n",
              "      <td>Apple</td>\n",
              "    </tr>\n",
              "    <tr>\n",
              "      <th>4</th>\n",
              "      <td>GOOGL</td>\n",
              "      <td>Google</td>\n",
              "    </tr>\n",
              "  </tbody>\n",
              "</table>\n",
              "</div>"
            ],
            "text/plain": [
              "  Symbol       Name\n",
              "0   AMZN     Amazon\n",
              "1   MSFT  Microsoft\n",
              "2     FB   Facebook\n",
              "3   AAPL      Apple\n",
              "4  GOOGL     Google"
            ]
          },
          "metadata": {
            "tags": []
          },
          "execution_count": 20
        }
      ]
    },
    {
      "cell_type": "code",
      "metadata": {
        "id": "_ecg7YEr1mpL",
        "colab_type": "code",
        "colab": {
          "base_uri": "https://localhost:8080/",
          "height": 204
        },
        "outputId": "3775da29-148a-43b1-8c33-3c9c8dc4b8e0"
      },
      "source": [
        "# stock prices.\n",
        "openprice = pd.DataFrame({'Symbol': ['AAPL', 'MSFT', 'GOOGL', 'FB', 'AMZN'], 'OpenPrice': [217.51, 96.54, 501.3, 51.45, 1703.34]})\n",
        "openprice"
      ],
      "execution_count": 21,
      "outputs": [
        {
          "output_type": "execute_result",
          "data": {
            "text/html": [
              "<div>\n",
              "<style scoped>\n",
              "    .dataframe tbody tr th:only-of-type {\n",
              "        vertical-align: middle;\n",
              "    }\n",
              "\n",
              "    .dataframe tbody tr th {\n",
              "        vertical-align: top;\n",
              "    }\n",
              "\n",
              "    .dataframe thead th {\n",
              "        text-align: right;\n",
              "    }\n",
              "</style>\n",
              "<table border=\"1\" class=\"dataframe\">\n",
              "  <thead>\n",
              "    <tr style=\"text-align: right;\">\n",
              "      <th></th>\n",
              "      <th>Symbol</th>\n",
              "      <th>OpenPrice</th>\n",
              "    </tr>\n",
              "  </thead>\n",
              "  <tbody>\n",
              "    <tr>\n",
              "      <th>0</th>\n",
              "      <td>AAPL</td>\n",
              "      <td>217.51</td>\n",
              "    </tr>\n",
              "    <tr>\n",
              "      <th>1</th>\n",
              "      <td>MSFT</td>\n",
              "      <td>96.54</td>\n",
              "    </tr>\n",
              "    <tr>\n",
              "      <th>2</th>\n",
              "      <td>GOOGL</td>\n",
              "      <td>501.30</td>\n",
              "    </tr>\n",
              "    <tr>\n",
              "      <th>3</th>\n",
              "      <td>FB</td>\n",
              "      <td>51.45</td>\n",
              "    </tr>\n",
              "    <tr>\n",
              "      <th>4</th>\n",
              "      <td>AMZN</td>\n",
              "      <td>1703.34</td>\n",
              "    </tr>\n",
              "  </tbody>\n",
              "</table>\n",
              "</div>"
            ],
            "text/plain": [
              "  Symbol  OpenPrice\n",
              "0   AAPL     217.51\n",
              "1   MSFT      96.54\n",
              "2  GOOGL     501.30\n",
              "3     FB      51.45\n",
              "4   AMZN    1703.34"
            ]
          },
          "metadata": {
            "tags": []
          },
          "execution_count": 21
        }
      ]
    },
    {
      "cell_type": "code",
      "metadata": {
        "id": "l6jAY2Wl11NG",
        "colab_type": "code",
        "colab": {
          "base_uri": "https://localhost:8080/",
          "height": 204
        },
        "outputId": "e9c42902-3683-4397-ef5a-427752ff2c5e"
      },
      "source": [
        "#merge the dataframes\n",
        "named_stocks=pd.merge(openprice, stockname)\n",
        "named_stocks\n",
        "#common key = common column? eyve good job at the lecture! "
      ],
      "execution_count": 22,
      "outputs": [
        {
          "output_type": "execute_result",
          "data": {
            "text/html": [
              "<div>\n",
              "<style scoped>\n",
              "    .dataframe tbody tr th:only-of-type {\n",
              "        vertical-align: middle;\n",
              "    }\n",
              "\n",
              "    .dataframe tbody tr th {\n",
              "        vertical-align: top;\n",
              "    }\n",
              "\n",
              "    .dataframe thead th {\n",
              "        text-align: right;\n",
              "    }\n",
              "</style>\n",
              "<table border=\"1\" class=\"dataframe\">\n",
              "  <thead>\n",
              "    <tr style=\"text-align: right;\">\n",
              "      <th></th>\n",
              "      <th>Symbol</th>\n",
              "      <th>OpenPrice</th>\n",
              "      <th>Name</th>\n",
              "    </tr>\n",
              "  </thead>\n",
              "  <tbody>\n",
              "    <tr>\n",
              "      <th>0</th>\n",
              "      <td>AAPL</td>\n",
              "      <td>217.51</td>\n",
              "      <td>Apple</td>\n",
              "    </tr>\n",
              "    <tr>\n",
              "      <th>1</th>\n",
              "      <td>MSFT</td>\n",
              "      <td>96.54</td>\n",
              "      <td>Microsoft</td>\n",
              "    </tr>\n",
              "    <tr>\n",
              "      <th>2</th>\n",
              "      <td>GOOGL</td>\n",
              "      <td>501.30</td>\n",
              "      <td>Google</td>\n",
              "    </tr>\n",
              "    <tr>\n",
              "      <th>3</th>\n",
              "      <td>FB</td>\n",
              "      <td>51.45</td>\n",
              "      <td>Facebook</td>\n",
              "    </tr>\n",
              "    <tr>\n",
              "      <th>4</th>\n",
              "      <td>AMZN</td>\n",
              "      <td>1703.34</td>\n",
              "      <td>Amazon</td>\n",
              "    </tr>\n",
              "  </tbody>\n",
              "</table>\n",
              "</div>"
            ],
            "text/plain": [
              "  Symbol  OpenPrice       Name\n",
              "0   AAPL     217.51      Apple\n",
              "1   MSFT      96.54  Microsoft\n",
              "2  GOOGL     501.30     Google\n",
              "3     FB      51.45   Facebook\n",
              "4   AMZN    1703.34     Amazon"
            ]
          },
          "metadata": {
            "tags": []
          },
          "execution_count": 22
        }
      ]
    },
    {
      "cell_type": "code",
      "metadata": {
        "id": "SmDHaHGe2V8r",
        "colab_type": "code",
        "colab": {
          "base_uri": "https://localhost:8080/",
          "height": 204
        },
        "outputId": "5fada874-03c7-4e5d-c55b-71ca42f56ca4"
      },
      "source": [
        "# Create a 3rd dataset of weekly highs\n",
        "wkhigh = pd.DataFrame({'Symbol': ['FB', 'AMZN', 'AAPL', 'MSFT', 'NFLX'], '52wkHigh': [60.79, 2050.49, 233.47, 110.11, 303.22]})\n",
        "wkhigh"
      ],
      "execution_count": 23,
      "outputs": [
        {
          "output_type": "execute_result",
          "data": {
            "text/html": [
              "<div>\n",
              "<style scoped>\n",
              "    .dataframe tbody tr th:only-of-type {\n",
              "        vertical-align: middle;\n",
              "    }\n",
              "\n",
              "    .dataframe tbody tr th {\n",
              "        vertical-align: top;\n",
              "    }\n",
              "\n",
              "    .dataframe thead th {\n",
              "        text-align: right;\n",
              "    }\n",
              "</style>\n",
              "<table border=\"1\" class=\"dataframe\">\n",
              "  <thead>\n",
              "    <tr style=\"text-align: right;\">\n",
              "      <th></th>\n",
              "      <th>Symbol</th>\n",
              "      <th>52wkHigh</th>\n",
              "    </tr>\n",
              "  </thead>\n",
              "  <tbody>\n",
              "    <tr>\n",
              "      <th>0</th>\n",
              "      <td>FB</td>\n",
              "      <td>60.79</td>\n",
              "    </tr>\n",
              "    <tr>\n",
              "      <th>1</th>\n",
              "      <td>AMZN</td>\n",
              "      <td>2050.49</td>\n",
              "    </tr>\n",
              "    <tr>\n",
              "      <th>2</th>\n",
              "      <td>AAPL</td>\n",
              "      <td>233.47</td>\n",
              "    </tr>\n",
              "    <tr>\n",
              "      <th>3</th>\n",
              "      <td>MSFT</td>\n",
              "      <td>110.11</td>\n",
              "    </tr>\n",
              "    <tr>\n",
              "      <th>4</th>\n",
              "      <td>NFLX</td>\n",
              "      <td>303.22</td>\n",
              "    </tr>\n",
              "  </tbody>\n",
              "</table>\n",
              "</div>"
            ],
            "text/plain": [
              "  Symbol  52wkHigh\n",
              "0     FB     60.79\n",
              "1   AMZN   2050.49\n",
              "2   AAPL    233.47\n",
              "3   MSFT    110.11\n",
              "4   NFLX    303.22"
            ]
          },
          "metadata": {
            "tags": []
          },
          "execution_count": 23
        }
      ]
    },
    {
      "cell_type": "code",
      "metadata": {
        "id": "J898Yb672Rvr",
        "colab_type": "code",
        "colab": {
          "base_uri": "https://localhost:8080/",
          "height": 235
        },
        "outputId": "e8a6c50c-76d5-4ecf-8bd3-d5ff4e34467b"
      },
      "source": [
        "#now merge the above 2 datasets\n",
        "full_stocks=pd.merge(named_stocks, wkhigh, on='Symbol', how='inner')\n",
        "full_stocks=pd.merge(named_stocks, wkhigh, on='Symbol', how='left')\n",
        "full_stocks=pd.merge(named_stocks, wkhigh, on='Symbol', how='right')\n",
        "full_stocks=pd.merge(named_stocks, wkhigh, on='Symbol', how='outer')\n",
        "full_stocks\n",
        "#on=, is the common column, how=, is which side is main to contrast"
      ],
      "execution_count": 24,
      "outputs": [
        {
          "output_type": "execute_result",
          "data": {
            "text/html": [
              "<div>\n",
              "<style scoped>\n",
              "    .dataframe tbody tr th:only-of-type {\n",
              "        vertical-align: middle;\n",
              "    }\n",
              "\n",
              "    .dataframe tbody tr th {\n",
              "        vertical-align: top;\n",
              "    }\n",
              "\n",
              "    .dataframe thead th {\n",
              "        text-align: right;\n",
              "    }\n",
              "</style>\n",
              "<table border=\"1\" class=\"dataframe\">\n",
              "  <thead>\n",
              "    <tr style=\"text-align: right;\">\n",
              "      <th></th>\n",
              "      <th>Symbol</th>\n",
              "      <th>OpenPrice</th>\n",
              "      <th>Name</th>\n",
              "      <th>52wkHigh</th>\n",
              "    </tr>\n",
              "  </thead>\n",
              "  <tbody>\n",
              "    <tr>\n",
              "      <th>0</th>\n",
              "      <td>AAPL</td>\n",
              "      <td>217.51</td>\n",
              "      <td>Apple</td>\n",
              "      <td>233.47</td>\n",
              "    </tr>\n",
              "    <tr>\n",
              "      <th>1</th>\n",
              "      <td>MSFT</td>\n",
              "      <td>96.54</td>\n",
              "      <td>Microsoft</td>\n",
              "      <td>110.11</td>\n",
              "    </tr>\n",
              "    <tr>\n",
              "      <th>2</th>\n",
              "      <td>GOOGL</td>\n",
              "      <td>501.30</td>\n",
              "      <td>Google</td>\n",
              "      <td>NaN</td>\n",
              "    </tr>\n",
              "    <tr>\n",
              "      <th>3</th>\n",
              "      <td>FB</td>\n",
              "      <td>51.45</td>\n",
              "      <td>Facebook</td>\n",
              "      <td>60.79</td>\n",
              "    </tr>\n",
              "    <tr>\n",
              "      <th>4</th>\n",
              "      <td>AMZN</td>\n",
              "      <td>1703.34</td>\n",
              "      <td>Amazon</td>\n",
              "      <td>2050.49</td>\n",
              "    </tr>\n",
              "    <tr>\n",
              "      <th>5</th>\n",
              "      <td>NFLX</td>\n",
              "      <td>NaN</td>\n",
              "      <td>NaN</td>\n",
              "      <td>303.22</td>\n",
              "    </tr>\n",
              "  </tbody>\n",
              "</table>\n",
              "</div>"
            ],
            "text/plain": [
              "  Symbol  OpenPrice       Name  52wkHigh\n",
              "0   AAPL     217.51      Apple    233.47\n",
              "1   MSFT      96.54  Microsoft    110.11\n",
              "2  GOOGL     501.30     Google       NaN\n",
              "3     FB      51.45   Facebook     60.79\n",
              "4   AMZN    1703.34     Amazon   2050.49\n",
              "5   NFLX        NaN        NaN    303.22"
            ]
          },
          "metadata": {
            "tags": []
          },
          "execution_count": 24
        }
      ]
    },
    {
      "cell_type": "code",
      "metadata": {
        "id": "H6kd3aRO3YWJ",
        "colab_type": "code",
        "colab": {
          "base_uri": "https://localhost:8080/",
          "height": 341
        },
        "outputId": "6776e504-14ed-4cd2-c727-2311d061d888"
      },
      "source": [
        "# This is code to display a `.png` inside of a jupyter notebook.\n",
        "from IPython.display import display, Image\n",
        "url = 'https://shanelynnwebsite-mid9n9g1q9y8tt.netdna-ssl.com/wp-content/uploads/2017/03/join-types-merge-names.jpg'\n",
        "venn_diagram = Image(url=url, width=600)\n",
        "display(venn_diagram)"
      ],
      "execution_count": 25,
      "outputs": [
        {
          "output_type": "display_data",
          "data": {
            "text/html": [
              "<img src=\"https://shanelynnwebsite-mid9n9g1q9y8tt.netdna-ssl.com/wp-content/uploads/2017/03/join-types-merge-names.jpg\" width=\"600\"/>"
            ],
            "text/plain": [
              "<IPython.core.display.Image object>"
            ]
          },
          "metadata": {
            "tags": []
          }
        }
      ]
    },
    {
      "cell_type": "code",
      "metadata": {
        "id": "PxOFbJ4X5ADB",
        "colab_type": "code",
        "colab": {
          "base_uri": "https://localhost:8080/",
          "height": 34
        },
        "outputId": "4aac920f-1770-459c-bcdb-667787222edb"
      },
      "source": [
        "#reshape: melt and pivot table\n",
        "full_stocks.shape"
      ],
      "execution_count": 26,
      "outputs": [
        {
          "output_type": "execute_result",
          "data": {
            "text/plain": [
              "(6, 4)"
            ]
          },
          "metadata": {
            "tags": []
          },
          "execution_count": 26
        }
      ]
    },
    {
      "cell_type": "code",
      "metadata": {
        "id": "vjJPgOfuDULy",
        "colab_type": "code",
        "colab": {
          "base_uri": "https://localhost:8080/",
          "height": 142
        },
        "outputId": "2001f121-d516-4e2d-8d83-735201441f93"
      },
      "source": [
        "#let's create a simple table for Tidy Data\n",
        "#start with wide data\n",
        "myindex=['John Smith', 'Jane Doe', 'Mary Johnson']\n",
        "mycolumns=['treatmenta', 'treatmentb']\n",
        "\n",
        "table1 = pd.DataFrame([[np.nan, 2],[16,11],[3,1]],columns=mycolumns,index=myindex)\n",
        "table1"
      ],
      "execution_count": 27,
      "outputs": [
        {
          "output_type": "execute_result",
          "data": {
            "text/html": [
              "<div>\n",
              "<style scoped>\n",
              "    .dataframe tbody tr th:only-of-type {\n",
              "        vertical-align: middle;\n",
              "    }\n",
              "\n",
              "    .dataframe tbody tr th {\n",
              "        vertical-align: top;\n",
              "    }\n",
              "\n",
              "    .dataframe thead th {\n",
              "        text-align: right;\n",
              "    }\n",
              "</style>\n",
              "<table border=\"1\" class=\"dataframe\">\n",
              "  <thead>\n",
              "    <tr style=\"text-align: right;\">\n",
              "      <th></th>\n",
              "      <th>treatmenta</th>\n",
              "      <th>treatmentb</th>\n",
              "    </tr>\n",
              "  </thead>\n",
              "  <tbody>\n",
              "    <tr>\n",
              "      <th>John Smith</th>\n",
              "      <td>NaN</td>\n",
              "      <td>2</td>\n",
              "    </tr>\n",
              "    <tr>\n",
              "      <th>Jane Doe</th>\n",
              "      <td>16.0</td>\n",
              "      <td>11</td>\n",
              "    </tr>\n",
              "    <tr>\n",
              "      <th>Mary Johnson</th>\n",
              "      <td>3.0</td>\n",
              "      <td>1</td>\n",
              "    </tr>\n",
              "  </tbody>\n",
              "</table>\n",
              "</div>"
            ],
            "text/plain": [
              "              treatmenta  treatmentb\n",
              "John Smith           NaN           2\n",
              "Jane Doe            16.0          11\n",
              "Mary Johnson         3.0           1"
            ]
          },
          "metadata": {
            "tags": []
          },
          "execution_count": 27
        }
      ]
    },
    {
      "cell_type": "code",
      "metadata": {
        "id": "Q2RTNOgWEkvk",
        "colab_type": "code",
        "colab": {
          "base_uri": "https://localhost:8080/",
          "height": 111
        },
        "outputId": "f3338776-2713-46a6-b409-a88072fe75ed"
      },
      "source": [
        "#transpose\n",
        "table2 = table1.T # .T means transpose! It moves the rows to columns thus the name wide table\n",
        "table2"
      ],
      "execution_count": 28,
      "outputs": [
        {
          "output_type": "execute_result",
          "data": {
            "text/html": [
              "<div>\n",
              "<style scoped>\n",
              "    .dataframe tbody tr th:only-of-type {\n",
              "        vertical-align: middle;\n",
              "    }\n",
              "\n",
              "    .dataframe tbody tr th {\n",
              "        vertical-align: top;\n",
              "    }\n",
              "\n",
              "    .dataframe thead th {\n",
              "        text-align: right;\n",
              "    }\n",
              "</style>\n",
              "<table border=\"1\" class=\"dataframe\">\n",
              "  <thead>\n",
              "    <tr style=\"text-align: right;\">\n",
              "      <th></th>\n",
              "      <th>John Smith</th>\n",
              "      <th>Jane Doe</th>\n",
              "      <th>Mary Johnson</th>\n",
              "    </tr>\n",
              "  </thead>\n",
              "  <tbody>\n",
              "    <tr>\n",
              "      <th>treatmenta</th>\n",
              "      <td>NaN</td>\n",
              "      <td>16.0</td>\n",
              "      <td>3.0</td>\n",
              "    </tr>\n",
              "    <tr>\n",
              "      <th>treatmentb</th>\n",
              "      <td>2.0</td>\n",
              "      <td>11.0</td>\n",
              "      <td>1.0</td>\n",
              "    </tr>\n",
              "  </tbody>\n",
              "</table>\n",
              "</div>"
            ],
            "text/plain": [
              "            John Smith  Jane Doe  Mary Johnson\n",
              "treatmenta         NaN      16.0           3.0\n",
              "treatmentb         2.0      11.0           1.0"
            ]
          },
          "metadata": {
            "tags": []
          },
          "execution_count": 28
        }
      ]
    },
    {
      "cell_type": "code",
      "metadata": {
        "id": "UFJmTx2HFGxq",
        "colab_type": "code",
        "colab": {
          "base_uri": "https://localhost:8080/",
          "height": 34
        },
        "outputId": "b1d7eefc-e7b8-4274-f5de-fce65e8de065"
      },
      "source": [
        "#tidy\n",
        "#get the columns as a list\n",
        "list(table1.columns)\n",
        "table1.columns.tolist()"
      ],
      "execution_count": 29,
      "outputs": [
        {
          "output_type": "execute_result",
          "data": {
            "text/plain": [
              "['treatmenta', 'treatmentb']"
            ]
          },
          "metadata": {
            "tags": []
          },
          "execution_count": 29
        }
      ]
    },
    {
      "cell_type": "markdown",
      "metadata": {
        "id": "VCWpG9xeGiwO",
        "colab_type": "text"
      },
      "source": [
        ""
      ]
    },
    {
      "cell_type": "code",
      "metadata": {
        "id": "05MxwuxkFnLK",
        "colab_type": "code",
        "colab": {
          "base_uri": "https://localhost:8080/",
          "height": 34
        },
        "outputId": "6890c38e-cf6a-4e1b-b7ab-5529ddc23b79"
      },
      "source": [
        "#get the index values as a list\n",
        "table1.index.tolist()"
      ],
      "execution_count": 30,
      "outputs": [
        {
          "output_type": "execute_result",
          "data": {
            "text/plain": [
              "['John Smith', 'Jane Doe', 'Mary Johnson']"
            ]
          },
          "metadata": {
            "tags": []
          },
          "execution_count": 30
        }
      ]
    },
    {
      "cell_type": "code",
      "metadata": {
        "id": "1eepbUnKFtZt",
        "colab_type": "code",
        "colab": {
          "base_uri": "https://localhost:8080/",
          "height": 142
        },
        "outputId": "357097b1-f6a7-48fd-9e53-c10283184d87"
      },
      "source": [
        "#for table1 convert index list into a column using reset_index()\n",
        "table1 = table1.reset_index()\n",
        "table1"
      ],
      "execution_count": 31,
      "outputs": [
        {
          "output_type": "execute_result",
          "data": {
            "text/html": [
              "<div>\n",
              "<style scoped>\n",
              "    .dataframe tbody tr th:only-of-type {\n",
              "        vertical-align: middle;\n",
              "    }\n",
              "\n",
              "    .dataframe tbody tr th {\n",
              "        vertical-align: top;\n",
              "    }\n",
              "\n",
              "    .dataframe thead th {\n",
              "        text-align: right;\n",
              "    }\n",
              "</style>\n",
              "<table border=\"1\" class=\"dataframe\">\n",
              "  <thead>\n",
              "    <tr style=\"text-align: right;\">\n",
              "      <th></th>\n",
              "      <th>index</th>\n",
              "      <th>treatmenta</th>\n",
              "      <th>treatmentb</th>\n",
              "    </tr>\n",
              "  </thead>\n",
              "  <tbody>\n",
              "    <tr>\n",
              "      <th>0</th>\n",
              "      <td>John Smith</td>\n",
              "      <td>NaN</td>\n",
              "      <td>2</td>\n",
              "    </tr>\n",
              "    <tr>\n",
              "      <th>1</th>\n",
              "      <td>Jane Doe</td>\n",
              "      <td>16.0</td>\n",
              "      <td>11</td>\n",
              "    </tr>\n",
              "    <tr>\n",
              "      <th>2</th>\n",
              "      <td>Mary Johnson</td>\n",
              "      <td>3.0</td>\n",
              "      <td>1</td>\n",
              "    </tr>\n",
              "  </tbody>\n",
              "</table>\n",
              "</div>"
            ],
            "text/plain": [
              "          index  treatmenta  treatmentb\n",
              "0    John Smith         NaN           2\n",
              "1      Jane Doe        16.0          11\n",
              "2  Mary Johnson         3.0           1"
            ]
          },
          "metadata": {
            "tags": []
          },
          "execution_count": 31
        }
      ]
    },
    {
      "cell_type": "code",
      "metadata": {
        "id": "5ZvZ_YlmCulZ",
        "colab_type": "code",
        "colab": {
          "base_uri": "https://localhost:8080/",
          "height": 235
        },
        "outputId": "a6557f75-292b-4e3f-902f-5cb2f125338d"
      },
      "source": [
        "#convert the table from wide to tidy using melt()\n",
        "tidy=table1.melt(id_vars='index',value_vars=['treatmenta','treatmentb'])\n",
        "tidy"
      ],
      "execution_count": 32,
      "outputs": [
        {
          "output_type": "execute_result",
          "data": {
            "text/html": [
              "<div>\n",
              "<style scoped>\n",
              "    .dataframe tbody tr th:only-of-type {\n",
              "        vertical-align: middle;\n",
              "    }\n",
              "\n",
              "    .dataframe tbody tr th {\n",
              "        vertical-align: top;\n",
              "    }\n",
              "\n",
              "    .dataframe thead th {\n",
              "        text-align: right;\n",
              "    }\n",
              "</style>\n",
              "<table border=\"1\" class=\"dataframe\">\n",
              "  <thead>\n",
              "    <tr style=\"text-align: right;\">\n",
              "      <th></th>\n",
              "      <th>index</th>\n",
              "      <th>variable</th>\n",
              "      <th>value</th>\n",
              "    </tr>\n",
              "  </thead>\n",
              "  <tbody>\n",
              "    <tr>\n",
              "      <th>0</th>\n",
              "      <td>John Smith</td>\n",
              "      <td>treatmenta</td>\n",
              "      <td>NaN</td>\n",
              "    </tr>\n",
              "    <tr>\n",
              "      <th>1</th>\n",
              "      <td>Jane Doe</td>\n",
              "      <td>treatmenta</td>\n",
              "      <td>16.0</td>\n",
              "    </tr>\n",
              "    <tr>\n",
              "      <th>2</th>\n",
              "      <td>Mary Johnson</td>\n",
              "      <td>treatmenta</td>\n",
              "      <td>3.0</td>\n",
              "    </tr>\n",
              "    <tr>\n",
              "      <th>3</th>\n",
              "      <td>John Smith</td>\n",
              "      <td>treatmentb</td>\n",
              "      <td>2.0</td>\n",
              "    </tr>\n",
              "    <tr>\n",
              "      <th>4</th>\n",
              "      <td>Jane Doe</td>\n",
              "      <td>treatmentb</td>\n",
              "      <td>11.0</td>\n",
              "    </tr>\n",
              "    <tr>\n",
              "      <th>5</th>\n",
              "      <td>Mary Johnson</td>\n",
              "      <td>treatmentb</td>\n",
              "      <td>1.0</td>\n",
              "    </tr>\n",
              "  </tbody>\n",
              "</table>\n",
              "</div>"
            ],
            "text/plain": [
              "          index    variable  value\n",
              "0    John Smith  treatmenta    NaN\n",
              "1      Jane Doe  treatmenta   16.0\n",
              "2  Mary Johnson  treatmenta    3.0\n",
              "3    John Smith  treatmentb    2.0\n",
              "4      Jane Doe  treatmentb   11.0\n",
              "5  Mary Johnson  treatmentb    1.0"
            ]
          },
          "metadata": {
            "tags": []
          },
          "execution_count": 32
        }
      ]
    },
    {
      "cell_type": "code",
      "metadata": {
        "id": "xWLDRUJ2HlSX",
        "colab_type": "code",
        "colab": {
          "base_uri": "https://localhost:8080/",
          "height": 235
        },
        "outputId": "c46c1a6f-21fe-4f74-da56-e2cfec661904"
      },
      "source": [
        "#to clean things up, rename columns\n",
        "tidy = table1.melt(id_vars='index', value_vars=['treatmenta', 'treatmentb'])\n",
        "tidy"
      ],
      "execution_count": 33,
      "outputs": [
        {
          "output_type": "execute_result",
          "data": {
            "text/html": [
              "<div>\n",
              "<style scoped>\n",
              "    .dataframe tbody tr th:only-of-type {\n",
              "        vertical-align: middle;\n",
              "    }\n",
              "\n",
              "    .dataframe tbody tr th {\n",
              "        vertical-align: top;\n",
              "    }\n",
              "\n",
              "    .dataframe thead th {\n",
              "        text-align: right;\n",
              "    }\n",
              "</style>\n",
              "<table border=\"1\" class=\"dataframe\">\n",
              "  <thead>\n",
              "    <tr style=\"text-align: right;\">\n",
              "      <th></th>\n",
              "      <th>index</th>\n",
              "      <th>variable</th>\n",
              "      <th>value</th>\n",
              "    </tr>\n",
              "  </thead>\n",
              "  <tbody>\n",
              "    <tr>\n",
              "      <th>0</th>\n",
              "      <td>John Smith</td>\n",
              "      <td>treatmenta</td>\n",
              "      <td>NaN</td>\n",
              "    </tr>\n",
              "    <tr>\n",
              "      <th>1</th>\n",
              "      <td>Jane Doe</td>\n",
              "      <td>treatmenta</td>\n",
              "      <td>16.0</td>\n",
              "    </tr>\n",
              "    <tr>\n",
              "      <th>2</th>\n",
              "      <td>Mary Johnson</td>\n",
              "      <td>treatmenta</td>\n",
              "      <td>3.0</td>\n",
              "    </tr>\n",
              "    <tr>\n",
              "      <th>3</th>\n",
              "      <td>John Smith</td>\n",
              "      <td>treatmentb</td>\n",
              "      <td>2.0</td>\n",
              "    </tr>\n",
              "    <tr>\n",
              "      <th>4</th>\n",
              "      <td>Jane Doe</td>\n",
              "      <td>treatmentb</td>\n",
              "      <td>11.0</td>\n",
              "    </tr>\n",
              "    <tr>\n",
              "      <th>5</th>\n",
              "      <td>Mary Johnson</td>\n",
              "      <td>treatmentb</td>\n",
              "      <td>1.0</td>\n",
              "    </tr>\n",
              "  </tbody>\n",
              "</table>\n",
              "</div>"
            ],
            "text/plain": [
              "          index    variable  value\n",
              "0    John Smith  treatmenta    NaN\n",
              "1      Jane Doe  treatmenta   16.0\n",
              "2  Mary Johnson  treatmenta    3.0\n",
              "3    John Smith  treatmentb    2.0\n",
              "4      Jane Doe  treatmentb   11.0\n",
              "5  Mary Johnson  treatmentb    1.0"
            ]
          },
          "metadata": {
            "tags": []
          },
          "execution_count": 33
        }
      ]
    },
    {
      "cell_type": "code",
      "metadata": {
        "id": "ztdlD4RZHl44",
        "colab_type": "code",
        "colab": {
          "base_uri": "https://localhost:8080/",
          "height": 235
        },
        "outputId": "4adfc082-484c-46a0-bec4-619b9b3cdb63"
      },
      "source": [
        "tidy = tidy.rename(columns={\n",
        "    'index': 'name', \n",
        "    'variable': 'trt', \n",
        "    'value': 'result'\n",
        "})\n",
        "# shorten the `trt` values\n",
        "tidy.trt = tidy.trt.str.replace('treatment', '')\n",
        "tidy"
      ],
      "execution_count": 34,
      "outputs": [
        {
          "output_type": "execute_result",
          "data": {
            "text/html": [
              "<div>\n",
              "<style scoped>\n",
              "    .dataframe tbody tr th:only-of-type {\n",
              "        vertical-align: middle;\n",
              "    }\n",
              "\n",
              "    .dataframe tbody tr th {\n",
              "        vertical-align: top;\n",
              "    }\n",
              "\n",
              "    .dataframe thead th {\n",
              "        text-align: right;\n",
              "    }\n",
              "</style>\n",
              "<table border=\"1\" class=\"dataframe\">\n",
              "  <thead>\n",
              "    <tr style=\"text-align: right;\">\n",
              "      <th></th>\n",
              "      <th>name</th>\n",
              "      <th>trt</th>\n",
              "      <th>result</th>\n",
              "    </tr>\n",
              "  </thead>\n",
              "  <tbody>\n",
              "    <tr>\n",
              "      <th>0</th>\n",
              "      <td>John Smith</td>\n",
              "      <td>a</td>\n",
              "      <td>NaN</td>\n",
              "    </tr>\n",
              "    <tr>\n",
              "      <th>1</th>\n",
              "      <td>Jane Doe</td>\n",
              "      <td>a</td>\n",
              "      <td>16.0</td>\n",
              "    </tr>\n",
              "    <tr>\n",
              "      <th>2</th>\n",
              "      <td>Mary Johnson</td>\n",
              "      <td>a</td>\n",
              "      <td>3.0</td>\n",
              "    </tr>\n",
              "    <tr>\n",
              "      <th>3</th>\n",
              "      <td>John Smith</td>\n",
              "      <td>b</td>\n",
              "      <td>2.0</td>\n",
              "    </tr>\n",
              "    <tr>\n",
              "      <th>4</th>\n",
              "      <td>Jane Doe</td>\n",
              "      <td>b</td>\n",
              "      <td>11.0</td>\n",
              "    </tr>\n",
              "    <tr>\n",
              "      <th>5</th>\n",
              "      <td>Mary Johnson</td>\n",
              "      <td>b</td>\n",
              "      <td>1.0</td>\n",
              "    </tr>\n",
              "  </tbody>\n",
              "</table>\n",
              "</div>"
            ],
            "text/plain": [
              "           name trt  result\n",
              "0    John Smith   a     NaN\n",
              "1      Jane Doe   a    16.0\n",
              "2  Mary Johnson   a     3.0\n",
              "3    John Smith   b     2.0\n",
              "4      Jane Doe   b    11.0\n",
              "5  Mary Johnson   b     1.0"
            ]
          },
          "metadata": {
            "tags": []
          },
          "execution_count": 34
        }
      ]
    },
    {
      "cell_type": "code",
      "metadata": {
        "id": "__Pu7kD9HmYv",
        "colab_type": "code",
        "colab": {
          "base_uri": "https://localhost:8080/",
          "height": 173
        },
        "outputId": "49f4f6f1-57cf-4758-e18d-1ef3f0da53e8"
      },
      "source": [
        "wide = tidy.pivot_table(index='name', columns='trt', values='result')\n",
        "wide"
      ],
      "execution_count": 35,
      "outputs": [
        {
          "output_type": "execute_result",
          "data": {
            "text/html": [
              "<div>\n",
              "<style scoped>\n",
              "    .dataframe tbody tr th:only-of-type {\n",
              "        vertical-align: middle;\n",
              "    }\n",
              "\n",
              "    .dataframe tbody tr th {\n",
              "        vertical-align: top;\n",
              "    }\n",
              "\n",
              "    .dataframe thead th {\n",
              "        text-align: right;\n",
              "    }\n",
              "</style>\n",
              "<table border=\"1\" class=\"dataframe\">\n",
              "  <thead>\n",
              "    <tr style=\"text-align: right;\">\n",
              "      <th>trt</th>\n",
              "      <th>a</th>\n",
              "      <th>b</th>\n",
              "    </tr>\n",
              "    <tr>\n",
              "      <th>name</th>\n",
              "      <th></th>\n",
              "      <th></th>\n",
              "    </tr>\n",
              "  </thead>\n",
              "  <tbody>\n",
              "    <tr>\n",
              "      <th>Jane Doe</th>\n",
              "      <td>16.0</td>\n",
              "      <td>11.0</td>\n",
              "    </tr>\n",
              "    <tr>\n",
              "      <th>John Smith</th>\n",
              "      <td>NaN</td>\n",
              "      <td>2.0</td>\n",
              "    </tr>\n",
              "    <tr>\n",
              "      <th>Mary Johnson</th>\n",
              "      <td>3.0</td>\n",
              "      <td>1.0</td>\n",
              "    </tr>\n",
              "  </tbody>\n",
              "</table>\n",
              "</div>"
            ],
            "text/plain": [
              "trt              a     b\n",
              "name                    \n",
              "Jane Doe      16.0  11.0\n",
              "John Smith     NaN   2.0\n",
              "Mary Johnson   3.0   1.0"
            ]
          },
          "metadata": {
            "tags": []
          },
          "execution_count": 35
        }
      ]
    },
    {
      "cell_type": "code",
      "metadata": {
        "colab_type": "code",
        "id": "zWwPS1LUL0o7",
        "colab": {}
      },
      "source": [
        ""
      ],
      "execution_count": 0,
      "outputs": []
    },
    {
      "cell_type": "code",
      "metadata": {
        "id": "RFyfkghyKCvE",
        "colab_type": "code",
        "colab": {
          "base_uri": "https://localhost:8080/",
          "height": 153
        },
        "outputId": "8d6c0402-1961-4ab5-c6d0-2405708b90b3"
      },
      "source": [
        "#plot using seaborn\n",
        "sns.catplot(x='trt', y='result', col='name', \n",
        "            kind='bar', data=tidy, height=2);"
      ],
      "execution_count": 36,
      "outputs": [
        {
          "output_type": "display_data",
          "data": {
            "image/png": "[encoded data removed]",
            "text/plain": [
              "<Figure size 432x144 with 3 Axes>"
            ]
          },
          "metadata": {
            "tags": []
          }
        }
      ]
    },
    {
      "cell_type": "code",
      "metadata": {
        "id": "kgCS6XYvMS0a",
        "colab_type": "code",
        "colab": {}
      },
      "source": [
        "#more complex examples\n",
        "#concatenating time-series from Chicago\n",
        "# Here's some data about Chicago bikesharing.\n",
        "source_path='https://raw.githubusercontent.com/austinlasseter/pandas_visualization/master/data/Divvy_Trips_dataset/'\n",
        "q1_path=source_path + 'Divvy_Trips_2015-Q1.csv'\n",
        "q2_path=source_path + 'Divvy_Trips_2015-Q2.csv'\n",
        "q3_path=source_path + 'Divvy_Trips_2015-Q3.csv'\n",
        "q4_path=source_path + 'Divvy_Trips_2015-Q4.csv'"
      ],
      "execution_count": 0,
      "outputs": []
    },
    {
      "cell_type": "code",
      "metadata": {
        "id": "PdotdVYGMzFL",
        "colab_type": "code",
        "colab": {
          "base_uri": "https://localhost:8080/",
          "height": 343
        },
        "outputId": "9f913513-dec1-41e6-8ea8-45421c8760d3"
      },
      "source": [
        "#1st quarter\n",
        "q1 = pd.read_csv(q1_path)\n",
        "print(q1.shape)\n",
        "q1.head()"
      ],
      "execution_count": 38,
      "outputs": [
        {
          "output_type": "stream",
          "text": [
            "(1000, 12)\n"
          ],
          "name": "stdout"
        },
        {
          "output_type": "execute_result",
          "data": {
            "text/html": [
              "<div>\n",
              "<style scoped>\n",
              "    .dataframe tbody tr th:only-of-type {\n",
              "        vertical-align: middle;\n",
              "    }\n",
              "\n",
              "    .dataframe tbody tr th {\n",
              "        vertical-align: top;\n",
              "    }\n",
              "\n",
              "    .dataframe thead th {\n",
              "        text-align: right;\n",
              "    }\n",
              "</style>\n",
              "<table border=\"1\" class=\"dataframe\">\n",
              "  <thead>\n",
              "    <tr style=\"text-align: right;\">\n",
              "      <th></th>\n",
              "      <th>trip_id</th>\n",
              "      <th>starttime</th>\n",
              "      <th>stoptime</th>\n",
              "      <th>bikeid</th>\n",
              "      <th>tripduration</th>\n",
              "      <th>from_station_id</th>\n",
              "      <th>from_station_name</th>\n",
              "      <th>to_station_id</th>\n",
              "      <th>to_station_name</th>\n",
              "      <th>usertype</th>\n",
              "      <th>gender</th>\n",
              "      <th>birthyear</th>\n",
              "    </tr>\n",
              "  </thead>\n",
              "  <tbody>\n",
              "    <tr>\n",
              "      <th>0</th>\n",
              "      <td>4607895</td>\n",
              "      <td>3/12/2015 7:11</td>\n",
              "      <td>3/12/2015 7:16</td>\n",
              "      <td>2058</td>\n",
              "      <td>322</td>\n",
              "      <td>75</td>\n",
              "      <td>Canal St &amp; Jackson Blvd</td>\n",
              "      <td>284</td>\n",
              "      <td>Michigan Ave &amp; Jackson Blvd</td>\n",
              "      <td>Subscriber</td>\n",
              "      <td>Male</td>\n",
              "      <td>1960.0</td>\n",
              "    </tr>\n",
              "    <tr>\n",
              "      <th>1</th>\n",
              "      <td>4467889</td>\n",
              "      <td>1/22/2015 17:07</td>\n",
              "      <td>1/22/2015 17:10</td>\n",
              "      <td>2499</td>\n",
              "      <td>178</td>\n",
              "      <td>16</td>\n",
              "      <td>Wood St &amp; North Ave</td>\n",
              "      <td>58</td>\n",
              "      <td>Marshfield Ave &amp; Cortland St</td>\n",
              "      <td>Subscriber</td>\n",
              "      <td>Male</td>\n",
              "      <td>1977.0</td>\n",
              "    </tr>\n",
              "    <tr>\n",
              "      <th>2</th>\n",
              "      <td>4644042</td>\n",
              "      <td>3/16/2015 10:30</td>\n",
              "      <td>3/16/2015 10:36</td>\n",
              "      <td>369</td>\n",
              "      <td>346</td>\n",
              "      <td>91</td>\n",
              "      <td>Clinton St &amp; Washington Blvd</td>\n",
              "      <td>100</td>\n",
              "      <td>Orleans St &amp; Merchandise Mart Plaza</td>\n",
              "      <td>Subscriber</td>\n",
              "      <td>Male</td>\n",
              "      <td>1986.0</td>\n",
              "    </tr>\n",
              "    <tr>\n",
              "      <th>3</th>\n",
              "      <td>4598015</td>\n",
              "      <td>3/10/2015 17:19</td>\n",
              "      <td>3/10/2015 17:36</td>\n",
              "      <td>857</td>\n",
              "      <td>1048</td>\n",
              "      <td>134</td>\n",
              "      <td>Peoria St &amp; Jackson Blvd</td>\n",
              "      <td>128</td>\n",
              "      <td>Damen Ave &amp; Chicago Ave</td>\n",
              "      <td>Subscriber</td>\n",
              "      <td>Male</td>\n",
              "      <td>1984.0</td>\n",
              "    </tr>\n",
              "    <tr>\n",
              "      <th>4</th>\n",
              "      <td>4467863</td>\n",
              "      <td>1/22/2015 17:02</td>\n",
              "      <td>1/22/2015 17:12</td>\n",
              "      <td>2241</td>\n",
              "      <td>611</td>\n",
              "      <td>52</td>\n",
              "      <td>Michigan Ave &amp; Lake St</td>\n",
              "      <td>192</td>\n",
              "      <td>Canal St &amp; Adams St</td>\n",
              "      <td>Subscriber</td>\n",
              "      <td>Male</td>\n",
              "      <td>1963.0</td>\n",
              "    </tr>\n",
              "  </tbody>\n",
              "</table>\n",
              "</div>"
            ],
            "text/plain": [
              "   trip_id        starttime         stoptime  bikeid  tripduration  \\\n",
              "0  4607895   3/12/2015 7:11   3/12/2015 7:16    2058           322   \n",
              "1  4467889  1/22/2015 17:07  1/22/2015 17:10    2499           178   \n",
              "2  4644042  3/16/2015 10:30  3/16/2015 10:36     369           346   \n",
              "3  4598015  3/10/2015 17:19  3/10/2015 17:36     857          1048   \n",
              "4  4467863  1/22/2015 17:02  1/22/2015 17:12    2241           611   \n",
              "\n",
              "   from_station_id             from_station_name  to_station_id  \\\n",
              "0               75       Canal St & Jackson Blvd            284   \n",
              "1               16           Wood St & North Ave             58   \n",
              "2               91  Clinton St & Washington Blvd            100   \n",
              "3              134      Peoria St & Jackson Blvd            128   \n",
              "4               52        Michigan Ave & Lake St            192   \n",
              "\n",
              "                       to_station_name    usertype gender  birthyear  \n",
              "0          Michigan Ave & Jackson Blvd  Subscriber   Male     1960.0  \n",
              "1         Marshfield Ave & Cortland St  Subscriber   Male     1977.0  \n",
              "2  Orleans St & Merchandise Mart Plaza  Subscriber   Male     1986.0  \n",
              "3              Damen Ave & Chicago Ave  Subscriber   Male     1984.0  \n",
              "4                  Canal St & Adams St  Subscriber   Male     1963.0  "
            ]
          },
          "metadata": {
            "tags": []
          },
          "execution_count": 38
        }
      ]
    },
    {
      "cell_type": "code",
      "metadata": {
        "id": "6VulleSCM5vz",
        "colab_type": "code",
        "colab": {
          "base_uri": "https://localhost:8080/",
          "height": 326
        },
        "outputId": "2cbffd40-eaa8-401a-bbab-debef5a50be6"
      },
      "source": [
        "#2nd quarter?\n",
        "q2 = pd.read_csv(q2_path)\n",
        "print(q2.shape)\n",
        "q2.head()"
      ],
      "execution_count": 39,
      "outputs": [
        {
          "output_type": "stream",
          "text": [
            "(1000, 12)\n"
          ],
          "name": "stdout"
        },
        {
          "output_type": "execute_result",
          "data": {
            "text/html": [
              "<div>\n",
              "<style scoped>\n",
              "    .dataframe tbody tr th:only-of-type {\n",
              "        vertical-align: middle;\n",
              "    }\n",
              "\n",
              "    .dataframe tbody tr th {\n",
              "        vertical-align: top;\n",
              "    }\n",
              "\n",
              "    .dataframe thead th {\n",
              "        text-align: right;\n",
              "    }\n",
              "</style>\n",
              "<table border=\"1\" class=\"dataframe\">\n",
              "  <thead>\n",
              "    <tr style=\"text-align: right;\">\n",
              "      <th></th>\n",
              "      <th>trip_id</th>\n",
              "      <th>starttime</th>\n",
              "      <th>stoptime</th>\n",
              "      <th>bikeid</th>\n",
              "      <th>tripduration</th>\n",
              "      <th>from_station_id</th>\n",
              "      <th>from_station_name</th>\n",
              "      <th>to_station_id</th>\n",
              "      <th>to_station_name</th>\n",
              "      <th>usertype</th>\n",
              "      <th>gender</th>\n",
              "      <th>birthyear</th>\n",
              "    </tr>\n",
              "  </thead>\n",
              "  <tbody>\n",
              "    <tr>\n",
              "      <th>0</th>\n",
              "      <td>5019758</td>\n",
              "      <td>5/2/2015 10:05</td>\n",
              "      <td>5/2/2015 10:14</td>\n",
              "      <td>72</td>\n",
              "      <td>545</td>\n",
              "      <td>223</td>\n",
              "      <td>Clifton Ave &amp; Armitage Ave</td>\n",
              "      <td>349</td>\n",
              "      <td>Halsted St &amp; Wrightwood Ave</td>\n",
              "      <td>Subscriber</td>\n",
              "      <td>Male</td>\n",
              "      <td>1978.0</td>\n",
              "    </tr>\n",
              "    <tr>\n",
              "      <th>1</th>\n",
              "      <td>4874907</td>\n",
              "      <td>4/15/2015 17:21</td>\n",
              "      <td>4/15/2015 17:26</td>\n",
              "      <td>2683</td>\n",
              "      <td>304</td>\n",
              "      <td>197</td>\n",
              "      <td>Michigan Ave &amp; Madison St</td>\n",
              "      <td>174</td>\n",
              "      <td>Canal St &amp; Madison St</td>\n",
              "      <td>Subscriber</td>\n",
              "      <td>Male</td>\n",
              "      <td>1964.0</td>\n",
              "    </tr>\n",
              "    <tr>\n",
              "      <th>2</th>\n",
              "      <td>5149598</td>\n",
              "      <td>5/14/2015 6:23</td>\n",
              "      <td>5/14/2015 6:37</td>\n",
              "      <td>3404</td>\n",
              "      <td>806</td>\n",
              "      <td>273</td>\n",
              "      <td>Michigan Ave &amp; 16th St</td>\n",
              "      <td>192</td>\n",
              "      <td>Canal St &amp; Adams St</td>\n",
              "      <td>Subscriber</td>\n",
              "      <td>Male</td>\n",
              "      <td>1982.0</td>\n",
              "    </tr>\n",
              "    <tr>\n",
              "      <th>3</th>\n",
              "      <td>5127077</td>\n",
              "      <td>5/12/2015 6:33</td>\n",
              "      <td>5/12/2015 6:55</td>\n",
              "      <td>2374</td>\n",
              "      <td>1342</td>\n",
              "      <td>305</td>\n",
              "      <td>Western Ave &amp; Division St</td>\n",
              "      <td>24</td>\n",
              "      <td>Fairbanks Ct &amp; Grand Ave</td>\n",
              "      <td>Subscriber</td>\n",
              "      <td>Female</td>\n",
              "      <td>1989.0</td>\n",
              "    </tr>\n",
              "    <tr>\n",
              "      <th>4</th>\n",
              "      <td>4776193</td>\n",
              "      <td>4/4/2015 19:16</td>\n",
              "      <td>4/4/2015 19:39</td>\n",
              "      <td>2848</td>\n",
              "      <td>1432</td>\n",
              "      <td>85</td>\n",
              "      <td>Michigan Ave &amp; Oak St</td>\n",
              "      <td>304</td>\n",
              "      <td>Broadway &amp; Waveland Ave</td>\n",
              "      <td>Subscriber</td>\n",
              "      <td>Male</td>\n",
              "      <td>1978.0</td>\n",
              "    </tr>\n",
              "  </tbody>\n",
              "</table>\n",
              "</div>"
            ],
            "text/plain": [
              "   trip_id        starttime         stoptime  bikeid  tripduration  \\\n",
              "0  5019758   5/2/2015 10:05   5/2/2015 10:14      72           545   \n",
              "1  4874907  4/15/2015 17:21  4/15/2015 17:26    2683           304   \n",
              "2  5149598   5/14/2015 6:23   5/14/2015 6:37    3404           806   \n",
              "3  5127077   5/12/2015 6:33   5/12/2015 6:55    2374          1342   \n",
              "4  4776193   4/4/2015 19:16   4/4/2015 19:39    2848          1432   \n",
              "\n",
              "   from_station_id           from_station_name  to_station_id  \\\n",
              "0              223  Clifton Ave & Armitage Ave            349   \n",
              "1              197   Michigan Ave & Madison St            174   \n",
              "2              273      Michigan Ave & 16th St            192   \n",
              "3              305   Western Ave & Division St             24   \n",
              "4               85       Michigan Ave & Oak St            304   \n",
              "\n",
              "               to_station_name    usertype  gender  birthyear  \n",
              "0  Halsted St & Wrightwood Ave  Subscriber    Male     1978.0  \n",
              "1        Canal St & Madison St  Subscriber    Male     1964.0  \n",
              "2          Canal St & Adams St  Subscriber    Male     1982.0  \n",
              "3     Fairbanks Ct & Grand Ave  Subscriber  Female     1989.0  \n",
              "4      Broadway & Waveland Ave  Subscriber    Male     1978.0  "
            ]
          },
          "metadata": {
            "tags": []
          },
          "execution_count": 39
        }
      ]
    },
    {
      "cell_type": "code",
      "metadata": {
        "id": "cbuIrwaYNFf3",
        "colab_type": "code",
        "colab": {
          "base_uri": "https://localhost:8080/",
          "height": 153
        },
        "outputId": "0ce85fb1-190f-4961-8ee3-a8c37883daf4"
      },
      "source": [
        "#do they have exactly the same column names? Otherwise .concat() won't work.\n",
        "print(q1.columns)\n",
        "print(q2.columns)"
      ],
      "execution_count": 40,
      "outputs": [
        {
          "output_type": "stream",
          "text": [
            "Index(['trip_id', 'starttime', 'stoptime', 'bikeid', 'tripduration',\n",
            "       'from_station_id', 'from_station_name', 'to_station_id',\n",
            "       'to_station_name', 'usertype', 'gender', 'birthyear'],\n",
            "      dtype='object')\n",
            "Index(['trip_id', 'starttime', 'stoptime', 'bikeid', 'tripduration',\n",
            "       'from_station_id', 'from_station_name', 'to_station_id',\n",
            "       'to_station_name', 'usertype', 'gender', 'birthyear'],\n",
            "      dtype='object')\n"
          ],
          "name": "stdout"
        }
      ]
    },
    {
      "cell_type": "code",
      "metadata": {
        "id": "MN3druz0NPVx",
        "colab_type": "code",
        "colab": {
          "base_uri": "https://localhost:8080/",
          "height": 34
        },
        "outputId": "e86cf259-2604-4785-8075-7b47beaa9491"
      },
      "source": [
        "#check if they're really equal\n",
        "def diff_check(list1,list2):\n",
        "  diff=list(set(list1)-set(list2))\n",
        "  print('difference is:',diff)\n",
        "\n",
        "diff_check(q1.columns, q2.columns)\n",
        "#empty value means there's no difference, the columns are exactly equal"
      ],
      "execution_count": 41,
      "outputs": [
        {
          "output_type": "stream",
          "text": [
            "difference is: []\n"
          ],
          "name": "stdout"
        }
      ]
    },
    {
      "cell_type": "code",
      "metadata": {
        "id": "lgfp6qRvNzb_",
        "colab_type": "code",
        "colab": {
          "base_uri": "https://localhost:8080/",
          "height": 626
        },
        "outputId": "0a1de6e7-6720-421d-8153-251e2a3661a4"
      },
      "source": [
        "#now that we know they're equal, .concat() them\n",
        "q1_q2=pd.concat([q1,q2], axis=0)\n",
        "(q1_q2)"
      ],
      "execution_count": 42,
      "outputs": [
        {
          "output_type": "execute_result",
          "data": {
            "text/html": [
              "<div>\n",
              "<style scoped>\n",
              "    .dataframe tbody tr th:only-of-type {\n",
              "        vertical-align: middle;\n",
              "    }\n",
              "\n",
              "    .dataframe tbody tr th {\n",
              "        vertical-align: top;\n",
              "    }\n",
              "\n",
              "    .dataframe thead th {\n",
              "        text-align: right;\n",
              "    }\n",
              "</style>\n",
              "<table border=\"1\" class=\"dataframe\">\n",
              "  <thead>\n",
              "    <tr style=\"text-align: right;\">\n",
              "      <th></th>\n",
              "      <th>trip_id</th>\n",
              "      <th>starttime</th>\n",
              "      <th>stoptime</th>\n",
              "      <th>bikeid</th>\n",
              "      <th>tripduration</th>\n",
              "      <th>from_station_id</th>\n",
              "      <th>from_station_name</th>\n",
              "      <th>to_station_id</th>\n",
              "      <th>to_station_name</th>\n",
              "      <th>usertype</th>\n",
              "      <th>gender</th>\n",
              "      <th>birthyear</th>\n",
              "    </tr>\n",
              "  </thead>\n",
              "  <tbody>\n",
              "    <tr>\n",
              "      <th>0</th>\n",
              "      <td>4607895</td>\n",
              "      <td>3/12/2015 7:11</td>\n",
              "      <td>3/12/2015 7:16</td>\n",
              "      <td>2058</td>\n",
              "      <td>322</td>\n",
              "      <td>75</td>\n",
              "      <td>Canal St &amp; Jackson Blvd</td>\n",
              "      <td>284</td>\n",
              "      <td>Michigan Ave &amp; Jackson Blvd</td>\n",
              "      <td>Subscriber</td>\n",
              "      <td>Male</td>\n",
              "      <td>1960.0</td>\n",
              "    </tr>\n",
              "    <tr>\n",
              "      <th>1</th>\n",
              "      <td>4467889</td>\n",
              "      <td>1/22/2015 17:07</td>\n",
              "      <td>1/22/2015 17:10</td>\n",
              "      <td>2499</td>\n",
              "      <td>178</td>\n",
              "      <td>16</td>\n",
              "      <td>Wood St &amp; North Ave</td>\n",
              "      <td>58</td>\n",
              "      <td>Marshfield Ave &amp; Cortland St</td>\n",
              "      <td>Subscriber</td>\n",
              "      <td>Male</td>\n",
              "      <td>1977.0</td>\n",
              "    </tr>\n",
              "    <tr>\n",
              "      <th>2</th>\n",
              "      <td>4644042</td>\n",
              "      <td>3/16/2015 10:30</td>\n",
              "      <td>3/16/2015 10:36</td>\n",
              "      <td>369</td>\n",
              "      <td>346</td>\n",
              "      <td>91</td>\n",
              "      <td>Clinton St &amp; Washington Blvd</td>\n",
              "      <td>100</td>\n",
              "      <td>Orleans St &amp; Merchandise Mart Plaza</td>\n",
              "      <td>Subscriber</td>\n",
              "      <td>Male</td>\n",
              "      <td>1986.0</td>\n",
              "    </tr>\n",
              "    <tr>\n",
              "      <th>3</th>\n",
              "      <td>4598015</td>\n",
              "      <td>3/10/2015 17:19</td>\n",
              "      <td>3/10/2015 17:36</td>\n",
              "      <td>857</td>\n",
              "      <td>1048</td>\n",
              "      <td>134</td>\n",
              "      <td>Peoria St &amp; Jackson Blvd</td>\n",
              "      <td>128</td>\n",
              "      <td>Damen Ave &amp; Chicago Ave</td>\n",
              "      <td>Subscriber</td>\n",
              "      <td>Male</td>\n",
              "      <td>1984.0</td>\n",
              "    </tr>\n",
              "    <tr>\n",
              "      <th>4</th>\n",
              "      <td>4467863</td>\n",
              "      <td>1/22/2015 17:02</td>\n",
              "      <td>1/22/2015 17:12</td>\n",
              "      <td>2241</td>\n",
              "      <td>611</td>\n",
              "      <td>52</td>\n",
              "      <td>Michigan Ave &amp; Lake St</td>\n",
              "      <td>192</td>\n",
              "      <td>Canal St &amp; Adams St</td>\n",
              "      <td>Subscriber</td>\n",
              "      <td>Male</td>\n",
              "      <td>1963.0</td>\n",
              "    </tr>\n",
              "    <tr>\n",
              "      <th>...</th>\n",
              "      <td>...</td>\n",
              "      <td>...</td>\n",
              "      <td>...</td>\n",
              "      <td>...</td>\n",
              "      <td>...</td>\n",
              "      <td>...</td>\n",
              "      <td>...</td>\n",
              "      <td>...</td>\n",
              "      <td>...</td>\n",
              "      <td>...</td>\n",
              "      <td>...</td>\n",
              "      <td>...</td>\n",
              "    </tr>\n",
              "    <tr>\n",
              "      <th>995</th>\n",
              "      <td>5439537</td>\n",
              "      <td>6/2/2015 18:22</td>\n",
              "      <td>6/2/2015 19:42</td>\n",
              "      <td>4381</td>\n",
              "      <td>4793</td>\n",
              "      <td>364</td>\n",
              "      <td>Larrabee St &amp; Oak St</td>\n",
              "      <td>48</td>\n",
              "      <td>Larrabee St &amp; Kingsbury St</td>\n",
              "      <td>Customer</td>\n",
              "      <td>NaN</td>\n",
              "      <td>NaN</td>\n",
              "    </tr>\n",
              "    <tr>\n",
              "      <th>996</th>\n",
              "      <td>5652110</td>\n",
              "      <td>6/15/2015 15:08</td>\n",
              "      <td>6/15/2015 15:31</td>\n",
              "      <td>270</td>\n",
              "      <td>1396</td>\n",
              "      <td>3</td>\n",
              "      <td>Shedd Aquarium</td>\n",
              "      <td>90</td>\n",
              "      <td>Millennium Park</td>\n",
              "      <td>Customer</td>\n",
              "      <td>NaN</td>\n",
              "      <td>NaN</td>\n",
              "    </tr>\n",
              "    <tr>\n",
              "      <th>997</th>\n",
              "      <td>5899245</td>\n",
              "      <td>6/28/2015 16:55</td>\n",
              "      <td>6/28/2015 17:02</td>\n",
              "      <td>4542</td>\n",
              "      <td>426</td>\n",
              "      <td>143</td>\n",
              "      <td>Sedgwick St &amp; Webster Ave</td>\n",
              "      <td>118</td>\n",
              "      <td>Sedgwick St &amp; North Ave</td>\n",
              "      <td>Subscriber</td>\n",
              "      <td>Male</td>\n",
              "      <td>1988.0</td>\n",
              "    </tr>\n",
              "    <tr>\n",
              "      <th>998</th>\n",
              "      <td>4774623</td>\n",
              "      <td>4/4/2015 17:09</td>\n",
              "      <td>4/4/2015 17:18</td>\n",
              "      <td>742</td>\n",
              "      <td>533</td>\n",
              "      <td>47</td>\n",
              "      <td>State St &amp; Kinzie St</td>\n",
              "      <td>46</td>\n",
              "      <td>Wells St &amp; Walton St</td>\n",
              "      <td>Subscriber</td>\n",
              "      <td>Female</td>\n",
              "      <td>1986.0</td>\n",
              "    </tr>\n",
              "    <tr>\n",
              "      <th>999</th>\n",
              "      <td>5132730</td>\n",
              "      <td>5/12/2015 16:15</td>\n",
              "      <td>5/12/2015 16:23</td>\n",
              "      <td>3260</td>\n",
              "      <td>481</td>\n",
              "      <td>195</td>\n",
              "      <td>Columbus Dr &amp; Randolph St</td>\n",
              "      <td>91</td>\n",
              "      <td>Clinton St &amp; Washington Blvd</td>\n",
              "      <td>Subscriber</td>\n",
              "      <td>Male</td>\n",
              "      <td>1978.0</td>\n",
              "    </tr>\n",
              "  </tbody>\n",
              "</table>\n",
              "<p>2000 rows × 12 columns</p>\n",
              "</div>"
            ],
            "text/plain": [
              "     trip_id        starttime         stoptime  bikeid  tripduration  \\\n",
              "0    4607895   3/12/2015 7:11   3/12/2015 7:16    2058           322   \n",
              "1    4467889  1/22/2015 17:07  1/22/2015 17:10    2499           178   \n",
              "2    4644042  3/16/2015 10:30  3/16/2015 10:36     369           346   \n",
              "3    4598015  3/10/2015 17:19  3/10/2015 17:36     857          1048   \n",
              "4    4467863  1/22/2015 17:02  1/22/2015 17:12    2241           611   \n",
              "..       ...              ...              ...     ...           ...   \n",
              "995  5439537   6/2/2015 18:22   6/2/2015 19:42    4381          4793   \n",
              "996  5652110  6/15/2015 15:08  6/15/2015 15:31     270          1396   \n",
              "997  5899245  6/28/2015 16:55  6/28/2015 17:02    4542           426   \n",
              "998  4774623   4/4/2015 17:09   4/4/2015 17:18     742           533   \n",
              "999  5132730  5/12/2015 16:15  5/12/2015 16:23    3260           481   \n",
              "\n",
              "     from_station_id             from_station_name  to_station_id  \\\n",
              "0                 75       Canal St & Jackson Blvd            284   \n",
              "1                 16           Wood St & North Ave             58   \n",
              "2                 91  Clinton St & Washington Blvd            100   \n",
              "3                134      Peoria St & Jackson Blvd            128   \n",
              "4                 52        Michigan Ave & Lake St            192   \n",
              "..               ...                           ...            ...   \n",
              "995              364          Larrabee St & Oak St             48   \n",
              "996                3                Shedd Aquarium             90   \n",
              "997              143     Sedgwick St & Webster Ave            118   \n",
              "998               47          State St & Kinzie St             46   \n",
              "999              195     Columbus Dr & Randolph St             91   \n",
              "\n",
              "                         to_station_name    usertype  gender  birthyear  \n",
              "0            Michigan Ave & Jackson Blvd  Subscriber    Male     1960.0  \n",
              "1           Marshfield Ave & Cortland St  Subscriber    Male     1977.0  \n",
              "2    Orleans St & Merchandise Mart Plaza  Subscriber    Male     1986.0  \n",
              "3                Damen Ave & Chicago Ave  Subscriber    Male     1984.0  \n",
              "4                    Canal St & Adams St  Subscriber    Male     1963.0  \n",
              "..                                   ...         ...     ...        ...  \n",
              "995           Larrabee St & Kingsbury St    Customer     NaN        NaN  \n",
              "996                      Millennium Park    Customer     NaN        NaN  \n",
              "997              Sedgwick St & North Ave  Subscriber    Male     1988.0  \n",
              "998                 Wells St & Walton St  Subscriber  Female     1986.0  \n",
              "999         Clinton St & Washington Blvd  Subscriber    Male     1978.0  \n",
              "\n",
              "[2000 rows x 12 columns]"
            ]
          },
          "metadata": {
            "tags": []
          },
          "execution_count": 42
        }
      ]
    },
    {
      "cell_type": "code",
      "metadata": {
        "id": "RxjCN1rvOHNK",
        "colab_type": "code",
        "colab": {
          "base_uri": "https://localhost:8080/",
          "height": 34
        },
        "outputId": "a85e82f5-a983-449b-dc6f-a27e71672d0d"
      },
      "source": [
        "#now add q3 and 4\n",
        "q3=pd.read_csv(q3_path)\n",
        "q4=pd.read_csv(q4_path)\n",
        "full_year=pd.concat([q1,q2,q3,q4],axis=0)\n",
        "full_year.shape"
      ],
      "execution_count": 43,
      "outputs": [
        {
          "output_type": "execute_result",
          "data": {
            "text/plain": [
              "(4000, 12)"
            ]
          },
          "metadata": {
            "tags": []
          },
          "execution_count": 43
        }
      ]
    },
    {
      "cell_type": "code",
      "metadata": {
        "id": "QQiXtI0iPB1N",
        "colab_type": "code",
        "colab": {
          "base_uri": "https://localhost:8080/",
          "height": 343
        },
        "outputId": "2ac4fdbb-fe3e-4637-e181-7ec82df7d339"
      },
      "source": [
        "#merging datasets\n",
        "source1='https://raw.githubusercontent.com/austinlasseter/dash-virginia-counties/master/resources/acs2017_county_data.csv'\n",
        "census=pd.read_csv(source1)\n",
        "census.sample(5)"
      ],
      "execution_count": 44,
      "outputs": [
        {
          "output_type": "execute_result",
          "data": {
            "text/html": [
              "<div>\n",
              "<style scoped>\n",
              "    .dataframe tbody tr th:only-of-type {\n",
              "        vertical-align: middle;\n",
              "    }\n",
              "\n",
              "    .dataframe tbody tr th {\n",
              "        vertical-align: top;\n",
              "    }\n",
              "\n",
              "    .dataframe thead th {\n",
              "        text-align: right;\n",
              "    }\n",
              "</style>\n",
              "<table border=\"1\" class=\"dataframe\">\n",
              "  <thead>\n",
              "    <tr style=\"text-align: right;\">\n",
              "      <th></th>\n",
              "      <th>CountyId</th>\n",
              "      <th>State</th>\n",
              "      <th>County</th>\n",
              "      <th>TotalPop</th>\n",
              "      <th>Men</th>\n",
              "      <th>Women</th>\n",
              "      <th>Hispanic</th>\n",
              "      <th>White</th>\n",
              "      <th>Black</th>\n",
              "      <th>Native</th>\n",
              "      <th>Asian</th>\n",
              "      <th>Pacific</th>\n",
              "      <th>VotingAgeCitizen</th>\n",
              "      <th>Income</th>\n",
              "      <th>IncomeErr</th>\n",
              "      <th>IncomePerCap</th>\n",
              "      <th>IncomePerCapErr</th>\n",
              "      <th>Poverty</th>\n",
              "      <th>ChildPoverty</th>\n",
              "      <th>Professional</th>\n",
              "      <th>Service</th>\n",
              "      <th>Office</th>\n",
              "      <th>Construction</th>\n",
              "      <th>Production</th>\n",
              "      <th>Drive</th>\n",
              "      <th>Carpool</th>\n",
              "      <th>Transit</th>\n",
              "      <th>Walk</th>\n",
              "      <th>OtherTransp</th>\n",
              "      <th>WorkAtHome</th>\n",
              "      <th>MeanCommute</th>\n",
              "      <th>Employed</th>\n",
              "      <th>PrivateWork</th>\n",
              "      <th>PublicWork</th>\n",
              "      <th>SelfEmployed</th>\n",
              "      <th>FamilyWork</th>\n",
              "      <th>Unemployment</th>\n",
              "    </tr>\n",
              "  </thead>\n",
              "  <tbody>\n",
              "    <tr>\n",
              "      <th>1736</th>\n",
              "      <td>31165</td>\n",
              "      <td>Nebraska</td>\n",
              "      <td>Sioux County</td>\n",
              "      <td>1256</td>\n",
              "      <td>647</td>\n",
              "      <td>609</td>\n",
              "      <td>3.8</td>\n",
              "      <td>90.0</td>\n",
              "      <td>0.4</td>\n",
              "      <td>0.2</td>\n",
              "      <td>0.2</td>\n",
              "      <td>0.0</td>\n",
              "      <td>998</td>\n",
              "      <td>45375</td>\n",
              "      <td>7960</td>\n",
              "      <td>26852</td>\n",
              "      <td>2789</td>\n",
              "      <td>12.4</td>\n",
              "      <td>18.7</td>\n",
              "      <td>55.6</td>\n",
              "      <td>8.2</td>\n",
              "      <td>16.5</td>\n",
              "      <td>14.4</td>\n",
              "      <td>5.3</td>\n",
              "      <td>55.5</td>\n",
              "      <td>9.8</td>\n",
              "      <td>0.0</td>\n",
              "      <td>15.6</td>\n",
              "      <td>0.8</td>\n",
              "      <td>18.3</td>\n",
              "      <td>18.9</td>\n",
              "      <td>660</td>\n",
              "      <td>61.7</td>\n",
              "      <td>18.8</td>\n",
              "      <td>19.5</td>\n",
              "      <td>0.0</td>\n",
              "      <td>0.0</td>\n",
              "    </tr>\n",
              "    <tr>\n",
              "      <th>6</th>\n",
              "      <td>1013</td>\n",
              "      <td>Alabama</td>\n",
              "      <td>Butler County</td>\n",
              "      <td>20126</td>\n",
              "      <td>9416</td>\n",
              "      <td>10710</td>\n",
              "      <td>0.3</td>\n",
              "      <td>52.2</td>\n",
              "      <td>44.7</td>\n",
              "      <td>0.1</td>\n",
              "      <td>1.1</td>\n",
              "      <td>0.0</td>\n",
              "      <td>15459</td>\n",
              "      <td>36326</td>\n",
              "      <td>2701</td>\n",
              "      <td>19004</td>\n",
              "      <td>943</td>\n",
              "      <td>24.4</td>\n",
              "      <td>34.8</td>\n",
              "      <td>26.9</td>\n",
              "      <td>17.3</td>\n",
              "      <td>18.5</td>\n",
              "      <td>11.6</td>\n",
              "      <td>25.7</td>\n",
              "      <td>83.6</td>\n",
              "      <td>12.6</td>\n",
              "      <td>0.0</td>\n",
              "      <td>0.9</td>\n",
              "      <td>0.9</td>\n",
              "      <td>2.0</td>\n",
              "      <td>23.2</td>\n",
              "      <td>7727</td>\n",
              "      <td>79.1</td>\n",
              "      <td>15.3</td>\n",
              "      <td>5.3</td>\n",
              "      <td>0.3</td>\n",
              "      <td>7.6</td>\n",
              "    </tr>\n",
              "    <tr>\n",
              "      <th>609</th>\n",
              "      <td>17029</td>\n",
              "      <td>Illinois</td>\n",
              "      <td>Coles County</td>\n",
              "      <td>52540</td>\n",
              "      <td>25395</td>\n",
              "      <td>27145</td>\n",
              "      <td>2.4</td>\n",
              "      <td>91.0</td>\n",
              "      <td>3.8</td>\n",
              "      <td>0.2</td>\n",
              "      <td>1.2</td>\n",
              "      <td>0.0</td>\n",
              "      <td>42302</td>\n",
              "      <td>41907</td>\n",
              "      <td>1985</td>\n",
              "      <td>26060</td>\n",
              "      <td>1725</td>\n",
              "      <td>21.0</td>\n",
              "      <td>23.4</td>\n",
              "      <td>31.2</td>\n",
              "      <td>19.5</td>\n",
              "      <td>24.6</td>\n",
              "      <td>7.5</td>\n",
              "      <td>17.2</td>\n",
              "      <td>77.0</td>\n",
              "      <td>10.0</td>\n",
              "      <td>0.9</td>\n",
              "      <td>5.6</td>\n",
              "      <td>2.0</td>\n",
              "      <td>4.5</td>\n",
              "      <td>16.3</td>\n",
              "      <td>24725</td>\n",
              "      <td>75.9</td>\n",
              "      <td>17.5</td>\n",
              "      <td>6.4</td>\n",
              "      <td>0.1</td>\n",
              "      <td>7.3</td>\n",
              "    </tr>\n",
              "    <tr>\n",
              "      <th>2943</th>\n",
              "      <td>51750</td>\n",
              "      <td>Virginia</td>\n",
              "      <td>Radford city</td>\n",
              "      <td>17380</td>\n",
              "      <td>8526</td>\n",
              "      <td>8854</td>\n",
              "      <td>2.9</td>\n",
              "      <td>83.3</td>\n",
              "      <td>9.3</td>\n",
              "      <td>0.0</td>\n",
              "      <td>1.6</td>\n",
              "      <td>0.0</td>\n",
              "      <td>15378</td>\n",
              "      <td>36082</td>\n",
              "      <td>5918</td>\n",
              "      <td>19539</td>\n",
              "      <td>2457</td>\n",
              "      <td>37.5</td>\n",
              "      <td>20.2</td>\n",
              "      <td>32.2</td>\n",
              "      <td>26.7</td>\n",
              "      <td>25.7</td>\n",
              "      <td>3.7</td>\n",
              "      <td>11.7</td>\n",
              "      <td>78.0</td>\n",
              "      <td>7.1</td>\n",
              "      <td>0.7</td>\n",
              "      <td>10.7</td>\n",
              "      <td>2.0</td>\n",
              "      <td>1.5</td>\n",
              "      <td>19.1</td>\n",
              "      <td>7455</td>\n",
              "      <td>74.1</td>\n",
              "      <td>22.3</td>\n",
              "      <td>3.4</td>\n",
              "      <td>0.2</td>\n",
              "      <td>7.5</td>\n",
              "    </tr>\n",
              "    <tr>\n",
              "      <th>2867</th>\n",
              "      <td>51097</td>\n",
              "      <td>Virginia</td>\n",
              "      <td>King and Queen County</td>\n",
              "      <td>7052</td>\n",
              "      <td>3524</td>\n",
              "      <td>3528</td>\n",
              "      <td>3.2</td>\n",
              "      <td>66.1</td>\n",
              "      <td>25.8</td>\n",
              "      <td>0.6</td>\n",
              "      <td>0.0</td>\n",
              "      <td>0.0</td>\n",
              "      <td>5590</td>\n",
              "      <td>51495</td>\n",
              "      <td>9813</td>\n",
              "      <td>25831</td>\n",
              "      <td>2468</td>\n",
              "      <td>15.6</td>\n",
              "      <td>35.3</td>\n",
              "      <td>27.7</td>\n",
              "      <td>20.5</td>\n",
              "      <td>17.4</td>\n",
              "      <td>18.7</td>\n",
              "      <td>15.6</td>\n",
              "      <td>82.7</td>\n",
              "      <td>7.1</td>\n",
              "      <td>0.2</td>\n",
              "      <td>0.4</td>\n",
              "      <td>3.9</td>\n",
              "      <td>5.7</td>\n",
              "      <td>34.6</td>\n",
              "      <td>3157</td>\n",
              "      <td>74.8</td>\n",
              "      <td>18.9</td>\n",
              "      <td>6.3</td>\n",
              "      <td>0.0</td>\n",
              "      <td>4.4</td>\n",
              "    </tr>\n",
              "  </tbody>\n",
              "</table>\n",
              "</div>"
            ],
            "text/plain": [
              "      CountyId     State                 County  TotalPop    Men  Women  \\\n",
              "1736     31165  Nebraska           Sioux County      1256    647    609   \n",
              "6         1013   Alabama          Butler County     20126   9416  10710   \n",
              "609      17029  Illinois           Coles County     52540  25395  27145   \n",
              "2943     51750  Virginia           Radford city     17380   8526   8854   \n",
              "2867     51097  Virginia  King and Queen County      7052   3524   3528   \n",
              "\n",
              "      Hispanic  White  Black  Native  Asian  Pacific  VotingAgeCitizen  \\\n",
              "1736       3.8   90.0    0.4     0.2    0.2      0.0               998   \n",
              "6          0.3   52.2   44.7     0.1    1.1      0.0             15459   \n",
              "609        2.4   91.0    3.8     0.2    1.2      0.0             42302   \n",
              "2943       2.9   83.3    9.3     0.0    1.6      0.0             15378   \n",
              "2867       3.2   66.1   25.8     0.6    0.0      0.0              5590   \n",
              "\n",
              "      Income  IncomeErr  IncomePerCap  IncomePerCapErr  Poverty  ChildPoverty  \\\n",
              "1736   45375       7960         26852             2789     12.4          18.7   \n",
              "6      36326       2701         19004              943     24.4          34.8   \n",
              "609    41907       1985         26060             1725     21.0          23.4   \n",
              "2943   36082       5918         19539             2457     37.5          20.2   \n",
              "2867   51495       9813         25831             2468     15.6          35.3   \n",
              "\n",
              "      Professional  Service  Office  Construction  Production  Drive  Carpool  \\\n",
              "1736          55.6      8.2    16.5          14.4         5.3   55.5      9.8   \n",
              "6             26.9     17.3    18.5          11.6        25.7   83.6     12.6   \n",
              "609           31.2     19.5    24.6           7.5        17.2   77.0     10.0   \n",
              "2943          32.2     26.7    25.7           3.7        11.7   78.0      7.1   \n",
              "2867          27.7     20.5    17.4          18.7        15.6   82.7      7.1   \n",
              "\n",
              "      Transit  Walk  OtherTransp  WorkAtHome  MeanCommute  Employed  \\\n",
              "1736      0.0  15.6          0.8        18.3         18.9       660   \n",
              "6         0.0   0.9          0.9         2.0         23.2      7727   \n",
              "609       0.9   5.6          2.0         4.5         16.3     24725   \n",
              "2943      0.7  10.7          2.0         1.5         19.1      7455   \n",
              "2867      0.2   0.4          3.9         5.7         34.6      3157   \n",
              "\n",
              "      PrivateWork  PublicWork  SelfEmployed  FamilyWork  Unemployment  \n",
              "1736         61.7        18.8          19.5         0.0           0.0  \n",
              "6            79.1        15.3           5.3         0.3           7.6  \n",
              "609          75.9        17.5           6.4         0.1           7.3  \n",
              "2943         74.1        22.3           3.4         0.2           7.5  \n",
              "2867         74.8        18.9           6.3         0.0           4.4  "
            ]
          },
          "metadata": {
            "tags": []
          },
          "execution_count": 44
        }
      ]
    },
    {
      "cell_type": "code",
      "metadata": {
        "id": "rcG6_SkkQmUn",
        "colab_type": "code",
        "colab": {
          "base_uri": "https://localhost:8080/",
          "height": 173
        },
        "outputId": "b6672999-6ab7-4d17-a4c1-6769deee698d"
      },
      "source": [
        "census.columns"
      ],
      "execution_count": 45,
      "outputs": [
        {
          "output_type": "execute_result",
          "data": {
            "text/plain": [
              "Index(['CountyId', 'State', 'County', 'TotalPop', 'Men', 'Women', 'Hispanic',\n",
              "       'White', 'Black', 'Native', 'Asian', 'Pacific', 'VotingAgeCitizen',\n",
              "       'Income', 'IncomeErr', 'IncomePerCap', 'IncomePerCapErr', 'Poverty',\n",
              "       'ChildPoverty', 'Professional', 'Service', 'Office', 'Construction',\n",
              "       'Production', 'Drive', 'Carpool', 'Transit', 'Walk', 'OtherTransp',\n",
              "       'WorkAtHome', 'MeanCommute', 'Employed', 'PrivateWork', 'PublicWork',\n",
              "       'SelfEmployed', 'FamilyWork', 'Unemployment'],\n",
              "      dtype='object')"
            ]
          },
          "metadata": {
            "tags": []
          },
          "execution_count": 45
        }
      ]
    },
    {
      "cell_type": "code",
      "metadata": {
        "id": "qhyaAv2XQpd0",
        "colab_type": "code",
        "colab": {
          "base_uri": "https://localhost:8080/",
          "height": 142
        },
        "outputId": "a9818622-ef96-46b4-8c4d-6b6cd7b3c33c"
      },
      "source": [
        "commute=census[['CountyId', 'State','County','MeanCommute']]\n",
        "commute.sample(3)"
      ],
      "execution_count": 46,
      "outputs": [
        {
          "output_type": "execute_result",
          "data": {
            "text/html": [
              "<div>\n",
              "<style scoped>\n",
              "    .dataframe tbody tr th:only-of-type {\n",
              "        vertical-align: middle;\n",
              "    }\n",
              "\n",
              "    .dataframe tbody tr th {\n",
              "        vertical-align: top;\n",
              "    }\n",
              "\n",
              "    .dataframe thead th {\n",
              "        text-align: right;\n",
              "    }\n",
              "</style>\n",
              "<table border=\"1\" class=\"dataframe\">\n",
              "  <thead>\n",
              "    <tr style=\"text-align: right;\">\n",
              "      <th></th>\n",
              "      <th>CountyId</th>\n",
              "      <th>State</th>\n",
              "      <th>County</th>\n",
              "      <th>MeanCommute</th>\n",
              "    </tr>\n",
              "  </thead>\n",
              "  <tbody>\n",
              "    <tr>\n",
              "      <th>20</th>\n",
              "      <td>1041</td>\n",
              "      <td>Alabama</td>\n",
              "      <td>Crenshaw County</td>\n",
              "      <td>28.6</td>\n",
              "    </tr>\n",
              "    <tr>\n",
              "      <th>3089</th>\n",
              "      <td>55083</td>\n",
              "      <td>Wisconsin</td>\n",
              "      <td>Oconto County</td>\n",
              "      <td>26.6</td>\n",
              "    </tr>\n",
              "    <tr>\n",
              "      <th>1298</th>\n",
              "      <td>26135</td>\n",
              "      <td>Michigan</td>\n",
              "      <td>Oscoda County</td>\n",
              "      <td>20.4</td>\n",
              "    </tr>\n",
              "  </tbody>\n",
              "</table>\n",
              "</div>"
            ],
            "text/plain": [
              "      CountyId      State           County  MeanCommute\n",
              "20        1041    Alabama  Crenshaw County         28.6\n",
              "3089     55083  Wisconsin    Oconto County         26.6\n",
              "1298     26135   Michigan    Oscoda County         20.4"
            ]
          },
          "metadata": {
            "tags": []
          },
          "execution_count": 46
        }
      ]
    },
    {
      "cell_type": "code",
      "metadata": {
        "id": "DfV_JDYlQ3T0",
        "colab_type": "code",
        "colab": {
          "base_uri": "https://localhost:8080/",
          "height": 34
        },
        "outputId": "0c859b46-f04c-4927-ffe4-81b2f01caf90"
      },
      "source": [
        "commute['MeanCommute'].mean()"
      ],
      "execution_count": 47,
      "outputs": [
        {
          "output_type": "execute_result",
          "data": {
            "text/plain": [
              "23.47453416149071"
            ]
          },
          "metadata": {
            "tags": []
          },
          "execution_count": 47
        }
      ]
    },
    {
      "cell_type": "code",
      "metadata": {
        "id": "FFTZB3HsQ8Di",
        "colab_type": "code",
        "colab": {
          "base_uri": "https://localhost:8080/",
          "height": 793
        },
        "outputId": "a0337fa7-0f13-4bf9-8a02-0f47d47d04cd"
      },
      "source": [
        "#let's add some data from USDA\n",
        "source2='https://github.com/austinlasseter/dash-virginia-counties/blob/master/resources/ruralurbancodes2013.xls?raw=true'\n",
        "usda=pd.read_excel(source2)\n",
        "usda"
      ],
      "execution_count": 48,
      "outputs": [
        {
          "output_type": "execute_result",
          "data": {
            "text/html": [
              "<div>\n",
              "<style scoped>\n",
              "    .dataframe tbody tr th:only-of-type {\n",
              "        vertical-align: middle;\n",
              "    }\n",
              "\n",
              "    .dataframe tbody tr th {\n",
              "        vertical-align: top;\n",
              "    }\n",
              "\n",
              "    .dataframe thead th {\n",
              "        text-align: right;\n",
              "    }\n",
              "</style>\n",
              "<table border=\"1\" class=\"dataframe\">\n",
              "  <thead>\n",
              "    <tr style=\"text-align: right;\">\n",
              "      <th></th>\n",
              "      <th>FIPS</th>\n",
              "      <th>State</th>\n",
              "      <th>County_Name</th>\n",
              "      <th>Population_2010</th>\n",
              "      <th>RUCC_2013</th>\n",
              "      <th>Description</th>\n",
              "    </tr>\n",
              "  </thead>\n",
              "  <tbody>\n",
              "    <tr>\n",
              "      <th>0</th>\n",
              "      <td>1001</td>\n",
              "      <td>AL</td>\n",
              "      <td>Autauga County</td>\n",
              "      <td>54571</td>\n",
              "      <td>2</td>\n",
              "      <td>Metro - Counties in metro areas of 250,000 to ...</td>\n",
              "    </tr>\n",
              "    <tr>\n",
              "      <th>1</th>\n",
              "      <td>1003</td>\n",
              "      <td>AL</td>\n",
              "      <td>Baldwin County</td>\n",
              "      <td>182265</td>\n",
              "      <td>3</td>\n",
              "      <td>Metro - Counties in metro areas of fewer than ...</td>\n",
              "    </tr>\n",
              "    <tr>\n",
              "      <th>2</th>\n",
              "      <td>1005</td>\n",
              "      <td>AL</td>\n",
              "      <td>Barbour County</td>\n",
              "      <td>27457</td>\n",
              "      <td>6</td>\n",
              "      <td>Nonmetro - Urban population of 2,500 to 19,999...</td>\n",
              "    </tr>\n",
              "    <tr>\n",
              "      <th>3</th>\n",
              "      <td>1007</td>\n",
              "      <td>AL</td>\n",
              "      <td>Bibb County</td>\n",
              "      <td>22915</td>\n",
              "      <td>1</td>\n",
              "      <td>Metro - Counties in metro areas of 1 million p...</td>\n",
              "    </tr>\n",
              "    <tr>\n",
              "      <th>4</th>\n",
              "      <td>1009</td>\n",
              "      <td>AL</td>\n",
              "      <td>Blount County</td>\n",
              "      <td>57322</td>\n",
              "      <td>1</td>\n",
              "      <td>Metro - Counties in metro areas of 1 million p...</td>\n",
              "    </tr>\n",
              "    <tr>\n",
              "      <th>...</th>\n",
              "      <td>...</td>\n",
              "      <td>...</td>\n",
              "      <td>...</td>\n",
              "      <td>...</td>\n",
              "      <td>...</td>\n",
              "      <td>...</td>\n",
              "    </tr>\n",
              "    <tr>\n",
              "      <th>3216</th>\n",
              "      <td>72145</td>\n",
              "      <td>PR</td>\n",
              "      <td>Vega Baja Municipio</td>\n",
              "      <td>59662</td>\n",
              "      <td>1</td>\n",
              "      <td>Metro - Counties in metro areas of 1 million p...</td>\n",
              "    </tr>\n",
              "    <tr>\n",
              "      <th>3217</th>\n",
              "      <td>72147</td>\n",
              "      <td>PR</td>\n",
              "      <td>Vieques Municipio</td>\n",
              "      <td>9301</td>\n",
              "      <td>7</td>\n",
              "      <td>Nonmetro - Urban population of 2,500 to 19,999...</td>\n",
              "    </tr>\n",
              "    <tr>\n",
              "      <th>3218</th>\n",
              "      <td>72149</td>\n",
              "      <td>PR</td>\n",
              "      <td>Villalba Municipio</td>\n",
              "      <td>26073</td>\n",
              "      <td>2</td>\n",
              "      <td>Metro - Counties in metro areas of 250,000 to ...</td>\n",
              "    </tr>\n",
              "    <tr>\n",
              "      <th>3219</th>\n",
              "      <td>72151</td>\n",
              "      <td>PR</td>\n",
              "      <td>Yabucoa Municipio</td>\n",
              "      <td>37941</td>\n",
              "      <td>1</td>\n",
              "      <td>Metro - Counties in metro areas of 1 million p...</td>\n",
              "    </tr>\n",
              "    <tr>\n",
              "      <th>3220</th>\n",
              "      <td>72153</td>\n",
              "      <td>PR</td>\n",
              "      <td>Yauco Municipio</td>\n",
              "      <td>42043</td>\n",
              "      <td>2</td>\n",
              "      <td>Metro - Counties in metro areas of 250,000 to ...</td>\n",
              "    </tr>\n",
              "  </tbody>\n",
              "</table>\n",
              "<p>3221 rows × 6 columns</p>\n",
              "</div>"
            ],
            "text/plain": [
              "       FIPS State          County_Name  Population_2010  RUCC_2013  \\\n",
              "0      1001    AL       Autauga County            54571          2   \n",
              "1      1003    AL       Baldwin County           182265          3   \n",
              "2      1005    AL       Barbour County            27457          6   \n",
              "3      1007    AL          Bibb County            22915          1   \n",
              "4      1009    AL        Blount County            57322          1   \n",
              "...     ...   ...                  ...              ...        ...   \n",
              "3216  72145    PR  Vega Baja Municipio            59662          1   \n",
              "3217  72147    PR    Vieques Municipio             9301          7   \n",
              "3218  72149    PR   Villalba Municipio            26073          2   \n",
              "3219  72151    PR    Yabucoa Municipio            37941          1   \n",
              "3220  72153    PR      Yauco Municipio            42043          2   \n",
              "\n",
              "                                            Description  \n",
              "0     Metro - Counties in metro areas of 250,000 to ...  \n",
              "1     Metro - Counties in metro areas of fewer than ...  \n",
              "2     Nonmetro - Urban population of 2,500 to 19,999...  \n",
              "3     Metro - Counties in metro areas of 1 million p...  \n",
              "4     Metro - Counties in metro areas of 1 million p...  \n",
              "...                                                 ...  \n",
              "3216  Metro - Counties in metro areas of 1 million p...  \n",
              "3217  Nonmetro - Urban population of 2,500 to 19,999...  \n",
              "3218  Metro - Counties in metro areas of 250,000 to ...  \n",
              "3219  Metro - Counties in metro areas of 1 million p...  \n",
              "3220  Metro - Counties in metro areas of 250,000 to ...  \n",
              "\n",
              "[3221 rows x 6 columns]"
            ]
          },
          "metadata": {
            "tags": []
          },
          "execution_count": 48
        }
      ]
    },
    {
      "cell_type": "code",
      "metadata": {
        "id": "_cNUlsEESE9m",
        "colab_type": "code",
        "colab": {
          "base_uri": "https://localhost:8080/",
          "height": 359
        },
        "outputId": "db00ef76-afb8-4043-b177-fe806b214d25"
      },
      "source": [
        "#what's a RUCC code?\n",
        "usda.groupby('RUCC_2013')[['Description']].min()\n",
        "\n"
      ],
      "execution_count": 49,
      "outputs": [
        {
          "output_type": "execute_result",
          "data": {
            "text/html": [
              "<div>\n",
              "<style scoped>\n",
              "    .dataframe tbody tr th:only-of-type {\n",
              "        vertical-align: middle;\n",
              "    }\n",
              "\n",
              "    .dataframe tbody tr th {\n",
              "        vertical-align: top;\n",
              "    }\n",
              "\n",
              "    .dataframe thead th {\n",
              "        text-align: right;\n",
              "    }\n",
              "</style>\n",
              "<table border=\"1\" class=\"dataframe\">\n",
              "  <thead>\n",
              "    <tr style=\"text-align: right;\">\n",
              "      <th></th>\n",
              "      <th>Description</th>\n",
              "    </tr>\n",
              "    <tr>\n",
              "      <th>RUCC_2013</th>\n",
              "      <th></th>\n",
              "    </tr>\n",
              "  </thead>\n",
              "  <tbody>\n",
              "    <tr>\n",
              "      <th>1</th>\n",
              "      <td>Metro - Counties in metro areas of 1 million p...</td>\n",
              "    </tr>\n",
              "    <tr>\n",
              "      <th>2</th>\n",
              "      <td>Metro - Counties in metro areas of 250,000 to ...</td>\n",
              "    </tr>\n",
              "    <tr>\n",
              "      <th>3</th>\n",
              "      <td>Metro - Counties in metro areas of fewer than ...</td>\n",
              "    </tr>\n",
              "    <tr>\n",
              "      <th>4</th>\n",
              "      <td>Nonmetro - Urban population of 20,000 or more,...</td>\n",
              "    </tr>\n",
              "    <tr>\n",
              "      <th>5</th>\n",
              "      <td>Nonmetro - Urban population of 20,000 or more,...</td>\n",
              "    </tr>\n",
              "    <tr>\n",
              "      <th>6</th>\n",
              "      <td>Nonmetro - Urban population of 2,500 to 19,999...</td>\n",
              "    </tr>\n",
              "    <tr>\n",
              "      <th>7</th>\n",
              "      <td>Nonmetro - Urban population of 2,500 to 19,999...</td>\n",
              "    </tr>\n",
              "    <tr>\n",
              "      <th>8</th>\n",
              "      <td>Nonmetro - Completely rural or less than 2,500...</td>\n",
              "    </tr>\n",
              "    <tr>\n",
              "      <th>9</th>\n",
              "      <td>Nonmetro - Completely rural or less than 2,500...</td>\n",
              "    </tr>\n",
              "  </tbody>\n",
              "</table>\n",
              "</div>"
            ],
            "text/plain": [
              "                                                 Description\n",
              "RUCC_2013                                                   \n",
              "1          Metro - Counties in metro areas of 1 million p...\n",
              "2          Metro - Counties in metro areas of 250,000 to ...\n",
              "3          Metro - Counties in metro areas of fewer than ...\n",
              "4          Nonmetro - Urban population of 20,000 or more,...\n",
              "5          Nonmetro - Urban population of 20,000 or more,...\n",
              "6          Nonmetro - Urban population of 2,500 to 19,999...\n",
              "7          Nonmetro - Urban population of 2,500 to 19,999...\n",
              "8          Nonmetro - Completely rural or less than 2,500...\n",
              "9          Nonmetro - Completely rural or less than 2,500..."
            ]
          },
          "metadata": {
            "tags": []
          },
          "execution_count": 49
        }
      ]
    },
    {
      "cell_type": "code",
      "metadata": {
        "id": "263Fu-USTNfw",
        "colab_type": "code",
        "colab": {
          "base_uri": "https://localhost:8080/",
          "height": 142
        },
        "outputId": "cf44265c-0e29-4c6f-86c4-64023ec72c22"
      },
      "source": [
        "usda=usda[['FIPS','RUCC_2013']]\n",
        "usda.head(3)"
      ],
      "execution_count": 50,
      "outputs": [
        {
          "output_type": "execute_result",
          "data": {
            "text/html": [
              "<div>\n",
              "<style scoped>\n",
              "    .dataframe tbody tr th:only-of-type {\n",
              "        vertical-align: middle;\n",
              "    }\n",
              "\n",
              "    .dataframe tbody tr th {\n",
              "        vertical-align: top;\n",
              "    }\n",
              "\n",
              "    .dataframe thead th {\n",
              "        text-align: right;\n",
              "    }\n",
              "</style>\n",
              "<table border=\"1\" class=\"dataframe\">\n",
              "  <thead>\n",
              "    <tr style=\"text-align: right;\">\n",
              "      <th></th>\n",
              "      <th>FIPS</th>\n",
              "      <th>RUCC_2013</th>\n",
              "    </tr>\n",
              "  </thead>\n",
              "  <tbody>\n",
              "    <tr>\n",
              "      <th>0</th>\n",
              "      <td>1001</td>\n",
              "      <td>2</td>\n",
              "    </tr>\n",
              "    <tr>\n",
              "      <th>1</th>\n",
              "      <td>1003</td>\n",
              "      <td>3</td>\n",
              "    </tr>\n",
              "    <tr>\n",
              "      <th>2</th>\n",
              "      <td>1005</td>\n",
              "      <td>6</td>\n",
              "    </tr>\n",
              "  </tbody>\n",
              "</table>\n",
              "</div>"
            ],
            "text/plain": [
              "   FIPS  RUCC_2013\n",
              "0  1001          2\n",
              "1  1003          3\n",
              "2  1005          6"
            ]
          },
          "metadata": {
            "tags": []
          },
          "execution_count": 50
        }
      ]
    },
    {
      "cell_type": "code",
      "metadata": {
        "id": "EkDMz6T8TkvJ",
        "colab_type": "code",
        "colab": {
          "base_uri": "https://localhost:8080/",
          "height": 419
        },
        "outputId": "1b600b59-8f8d-4c1e-a4fb-13bc9ce2e5da"
      },
      "source": [
        "commute.head(2)\n",
        "commute.rename(columns={'CountyId':'FIPS'})"
      ],
      "execution_count": 51,
      "outputs": [
        {
          "output_type": "execute_result",
          "data": {
            "text/html": [
              "<div>\n",
              "<style scoped>\n",
              "    .dataframe tbody tr th:only-of-type {\n",
              "        vertical-align: middle;\n",
              "    }\n",
              "\n",
              "    .dataframe tbody tr th {\n",
              "        vertical-align: top;\n",
              "    }\n",
              "\n",
              "    .dataframe thead th {\n",
              "        text-align: right;\n",
              "    }\n",
              "</style>\n",
              "<table border=\"1\" class=\"dataframe\">\n",
              "  <thead>\n",
              "    <tr style=\"text-align: right;\">\n",
              "      <th></th>\n",
              "      <th>FIPS</th>\n",
              "      <th>State</th>\n",
              "      <th>County</th>\n",
              "      <th>MeanCommute</th>\n",
              "    </tr>\n",
              "  </thead>\n",
              "  <tbody>\n",
              "    <tr>\n",
              "      <th>0</th>\n",
              "      <td>1001</td>\n",
              "      <td>Alabama</td>\n",
              "      <td>Autauga County</td>\n",
              "      <td>25.8</td>\n",
              "    </tr>\n",
              "    <tr>\n",
              "      <th>1</th>\n",
              "      <td>1003</td>\n",
              "      <td>Alabama</td>\n",
              "      <td>Baldwin County</td>\n",
              "      <td>27.0</td>\n",
              "    </tr>\n",
              "    <tr>\n",
              "      <th>2</th>\n",
              "      <td>1005</td>\n",
              "      <td>Alabama</td>\n",
              "      <td>Barbour County</td>\n",
              "      <td>23.4</td>\n",
              "    </tr>\n",
              "    <tr>\n",
              "      <th>3</th>\n",
              "      <td>1007</td>\n",
              "      <td>Alabama</td>\n",
              "      <td>Bibb County</td>\n",
              "      <td>30.0</td>\n",
              "    </tr>\n",
              "    <tr>\n",
              "      <th>4</th>\n",
              "      <td>1009</td>\n",
              "      <td>Alabama</td>\n",
              "      <td>Blount County</td>\n",
              "      <td>35.0</td>\n",
              "    </tr>\n",
              "    <tr>\n",
              "      <th>...</th>\n",
              "      <td>...</td>\n",
              "      <td>...</td>\n",
              "      <td>...</td>\n",
              "      <td>...</td>\n",
              "    </tr>\n",
              "    <tr>\n",
              "      <th>3215</th>\n",
              "      <td>72145</td>\n",
              "      <td>Puerto Rico</td>\n",
              "      <td>Vega Baja Municipio</td>\n",
              "      <td>31.6</td>\n",
              "    </tr>\n",
              "    <tr>\n",
              "      <th>3216</th>\n",
              "      <td>72147</td>\n",
              "      <td>Puerto Rico</td>\n",
              "      <td>Vieques Municipio</td>\n",
              "      <td>14.9</td>\n",
              "    </tr>\n",
              "    <tr>\n",
              "      <th>3217</th>\n",
              "      <td>72149</td>\n",
              "      <td>Puerto Rico</td>\n",
              "      <td>Villalba Municipio</td>\n",
              "      <td>28.4</td>\n",
              "    </tr>\n",
              "    <tr>\n",
              "      <th>3218</th>\n",
              "      <td>72151</td>\n",
              "      <td>Puerto Rico</td>\n",
              "      <td>Yabucoa Municipio</td>\n",
              "      <td>30.5</td>\n",
              "    </tr>\n",
              "    <tr>\n",
              "      <th>3219</th>\n",
              "      <td>72153</td>\n",
              "      <td>Puerto Rico</td>\n",
              "      <td>Yauco Municipio</td>\n",
              "      <td>24.4</td>\n",
              "    </tr>\n",
              "  </tbody>\n",
              "</table>\n",
              "<p>3220 rows × 4 columns</p>\n",
              "</div>"
            ],
            "text/plain": [
              "       FIPS        State               County  MeanCommute\n",
              "0      1001      Alabama       Autauga County         25.8\n",
              "1      1003      Alabama       Baldwin County         27.0\n",
              "2      1005      Alabama       Barbour County         23.4\n",
              "3      1007      Alabama          Bibb County         30.0\n",
              "4      1009      Alabama        Blount County         35.0\n",
              "...     ...          ...                  ...          ...\n",
              "3215  72145  Puerto Rico  Vega Baja Municipio         31.6\n",
              "3216  72147  Puerto Rico    Vieques Municipio         14.9\n",
              "3217  72149  Puerto Rico   Villalba Municipio         28.4\n",
              "3218  72151  Puerto Rico    Yabucoa Municipio         30.5\n",
              "3219  72153  Puerto Rico      Yauco Municipio         24.4\n",
              "\n",
              "[3220 rows x 4 columns]"
            ]
          },
          "metadata": {
            "tags": []
          },
          "execution_count": 51
        }
      ]
    },
    {
      "cell_type": "code",
      "metadata": {
        "id": "Bq9trzh0TVnn",
        "colab_type": "code",
        "colab": {
          "base_uri": "https://localhost:8080/",
          "height": 142
        },
        "outputId": "63461303-586d-445e-f93e-fc9addee8bed"
      },
      "source": [
        "#merge  with census data\n",
        "metro_commute=pd.merge(commute,usda,how='left',left_on='CountyId',right_on='FIPS')\n",
        "metro_commute.sample(3)"
      ],
      "execution_count": 52,
      "outputs": [
        {
          "output_type": "execute_result",
          "data": {
            "text/html": [
              "<div>\n",
              "<style scoped>\n",
              "    .dataframe tbody tr th:only-of-type {\n",
              "        vertical-align: middle;\n",
              "    }\n",
              "\n",
              "    .dataframe tbody tr th {\n",
              "        vertical-align: top;\n",
              "    }\n",
              "\n",
              "    .dataframe thead th {\n",
              "        text-align: right;\n",
              "    }\n",
              "</style>\n",
              "<table border=\"1\" class=\"dataframe\">\n",
              "  <thead>\n",
              "    <tr style=\"text-align: right;\">\n",
              "      <th></th>\n",
              "      <th>CountyId</th>\n",
              "      <th>State</th>\n",
              "      <th>County</th>\n",
              "      <th>MeanCommute</th>\n",
              "      <th>FIPS</th>\n",
              "      <th>RUCC_2013</th>\n",
              "    </tr>\n",
              "  </thead>\n",
              "  <tbody>\n",
              "    <tr>\n",
              "      <th>1675</th>\n",
              "      <td>31043</td>\n",
              "      <td>Nebraska</td>\n",
              "      <td>Dakota County</td>\n",
              "      <td>14.7</td>\n",
              "      <td>31043.0</td>\n",
              "      <td>3.0</td>\n",
              "    </tr>\n",
              "    <tr>\n",
              "      <th>151</th>\n",
              "      <td>5081</td>\n",
              "      <td>Arkansas</td>\n",
              "      <td>Little River County</td>\n",
              "      <td>24.8</td>\n",
              "      <td>5081.0</td>\n",
              "      <td>3.0</td>\n",
              "    </tr>\n",
              "    <tr>\n",
              "      <th>2672</th>\n",
              "      <td>48299</td>\n",
              "      <td>Texas</td>\n",
              "      <td>Llano County</td>\n",
              "      <td>24.4</td>\n",
              "      <td>48299.0</td>\n",
              "      <td>7.0</td>\n",
              "    </tr>\n",
              "  </tbody>\n",
              "</table>\n",
              "</div>"
            ],
            "text/plain": [
              "      CountyId     State               County  MeanCommute     FIPS  RUCC_2013\n",
              "1675     31043  Nebraska        Dakota County         14.7  31043.0        3.0\n",
              "151       5081  Arkansas  Little River County         24.8   5081.0        3.0\n",
              "2672     48299     Texas         Llano County         24.4  48299.0        7.0"
            ]
          },
          "metadata": {
            "tags": []
          },
          "execution_count": 52
        }
      ]
    },
    {
      "cell_type": "code",
      "metadata": {
        "id": "MMnqC20vUIzm",
        "colab_type": "code",
        "colab": {
          "base_uri": "https://localhost:8080/",
          "height": 34
        },
        "outputId": "485eec37-8949-4fd8-8953-2c2e5639cee4"
      },
      "source": [
        "#is there any difference in commutes by rural-urban designation?\n",
        "metro_commute[metro_commute['RUCC_2013']==1]['MeanCommute'].mean()"
      ],
      "execution_count": 53,
      "outputs": [
        {
          "output_type": "execute_result",
          "data": {
            "text/plain": [
              "29.51334745762712"
            ]
          },
          "metadata": {
            "tags": []
          },
          "execution_count": 53
        }
      ]
    },
    {
      "cell_type": "code",
      "metadata": {
        "id": "yQkuq2FOUYEo",
        "colab_type": "code",
        "colab": {
          "base_uri": "https://localhost:8080/",
          "height": 34
        },
        "outputId": "852b82e8-4d89-4713-f76b-d8b1552039d6"
      },
      "source": [
        "#what about rural\n",
        "metro_commute[metro_commute['RUCC_2013']==5]['MeanCommute'].mean()"
      ],
      "execution_count": 57,
      "outputs": [
        {
          "output_type": "execute_result",
          "data": {
            "text/plain": [
              "18.686956521739138"
            ]
          },
          "metadata": {
            "tags": []
          },
          "execution_count": 57
        }
      ]
    },
    {
      "cell_type": "code",
      "metadata": {
        "id": "07X-JwEIVHRA",
        "colab_type": "code",
        "colab": {
          "base_uri": "https://localhost:8080/",
          "height": 359
        },
        "outputId": "f9c3bf7b-cff5-4994-8708-e3f94dc27c47"
      },
      "source": [
        "#compare means all in one blow\n",
        "drivetimes = metro_commute.groupby('RUCC_2013')[['MeanCommute']].std()\n",
        "drivetimes"
      ],
      "execution_count": 64,
      "outputs": [
        {
          "output_type": "execute_result",
          "data": {
            "text/html": [
              "<div>\n",
              "<style scoped>\n",
              "    .dataframe tbody tr th:only-of-type {\n",
              "        vertical-align: middle;\n",
              "    }\n",
              "\n",
              "    .dataframe tbody tr th {\n",
              "        vertical-align: top;\n",
              "    }\n",
              "\n",
              "    .dataframe thead th {\n",
              "        text-align: right;\n",
              "    }\n",
              "</style>\n",
              "<table border=\"1\" class=\"dataframe\">\n",
              "  <thead>\n",
              "    <tr style=\"text-align: right;\">\n",
              "      <th></th>\n",
              "      <th>MeanCommute</th>\n",
              "    </tr>\n",
              "    <tr>\n",
              "      <th>RUCC_2013</th>\n",
              "      <th></th>\n",
              "    </tr>\n",
              "  </thead>\n",
              "  <tbody>\n",
              "    <tr>\n",
              "      <th>1.0</th>\n",
              "      <td>4.611369</td>\n",
              "    </tr>\n",
              "    <tr>\n",
              "      <th>2.0</th>\n",
              "      <td>3.996823</td>\n",
              "    </tr>\n",
              "    <tr>\n",
              "      <th>3.0</th>\n",
              "      <td>4.550611</td>\n",
              "    </tr>\n",
              "    <tr>\n",
              "      <th>4.0</th>\n",
              "      <td>3.413341</td>\n",
              "    </tr>\n",
              "    <tr>\n",
              "      <th>5.0</th>\n",
              "      <td>3.223752</td>\n",
              "    </tr>\n",
              "    <tr>\n",
              "      <th>6.0</th>\n",
              "      <td>4.540535</td>\n",
              "    </tr>\n",
              "    <tr>\n",
              "      <th>7.0</th>\n",
              "      <td>4.618597</td>\n",
              "    </tr>\n",
              "    <tr>\n",
              "      <th>8.0</th>\n",
              "      <td>5.823209</td>\n",
              "    </tr>\n",
              "    <tr>\n",
              "      <th>9.0</th>\n",
              "      <td>5.835349</td>\n",
              "    </tr>\n",
              "  </tbody>\n",
              "</table>\n",
              "</div>"
            ],
            "text/plain": [
              "           MeanCommute\n",
              "RUCC_2013             \n",
              "1.0           4.611369\n",
              "2.0           3.996823\n",
              "3.0           4.550611\n",
              "4.0           3.413341\n",
              "5.0           3.223752\n",
              "6.0           4.540535\n",
              "7.0           4.618597\n",
              "8.0           5.823209\n",
              "9.0           5.835349"
            ]
          },
          "metadata": {
            "tags": []
          },
          "execution_count": 64
        }
      ]
    },
    {
      "cell_type": "code",
      "metadata": {
        "id": "LduYfNu4EGyS",
        "colab_type": "code",
        "colab": {
          "base_uri": "https://localhost:8080/",
          "height": 286
        },
        "outputId": "a2712ce5-8d7e-4529-b861-13eee59a1a83"
      },
      "source": [
        "#display the above using pandas plotting function\n",
        "drivetimes.plot(kind='bar');\n"
      ],
      "execution_count": 65,
      "outputs": [
        {
          "output_type": "display_data",
          "data": {
            "image/png": "[encoded data removed]",
            "text/plain": [
              "<Figure size 432x288 with 1 Axes>"
            ]
          },
          "metadata": {
            "tags": []
          }
        }
      ]
    },
    {
      "cell_type": "code",
      "metadata": {
        "id": "Z-LGAuuUERHc",
        "colab_type": "code",
        "colab": {
          "base_uri": "https://localhost:8080/",
          "height": 496
        },
        "outputId": "b0899db2-b11a-4df7-9734-2f288b60c333"
      },
      "source": [
        "#instacart dataset: pd.concat, pd.merge\n",
        "#get compressed file in tarball format\n",
        "!wget https://s3.amazonaws.com/instacart-datasets/instacart_online_grocery_shopping_2017_05_01.tar.gz\n",
        "#decompress tarball file\n",
        "!tar --gunzip --extract --verbose --file=instacart_online_grocery_shopping_2017_05_01.tar.gz\n",
        "# Percent sign == \"magic\" command which changes the underlying state (i.e., new current working directory).\n",
        "%cd instacart_2017_05_01\n",
        "# bash command: list the contents of that folder.\n",
        "!ls *.csv"
      ],
      "execution_count": 66,
      "outputs": [
        {
          "output_type": "stream",
          "text": [
            "--2019-11-08 03:40:07--  https://s3.amazonaws.com/instacart-datasets/instacart_online_grocery_shopping_2017_05_01.tar.gz\n",
            "Resolving s3.amazonaws.com (s3.amazonaws.com)... 52.217.9.70\n",
            "Connecting to s3.amazonaws.com (s3.amazonaws.com)|52.217.9.70|:443... connected.\n",
            "HTTP request sent, awaiting response... 200 OK\n",
            "Length: 205548478 (196M) [application/x-gzip]\n",
            "Saving to: ‘instacart_online_grocery_shopping_2017_05_01.tar.gz’\n",
            "\n",
            "instacart_online_gr 100%[===================>] 196.03M  77.9MB/s    in 2.5s    \n",
            "\n",
            "2019-11-08 03:40:09 (77.9 MB/s) - ‘instacart_online_grocery_shopping_2017_05_01.tar.gz’ saved [205548478/205548478]\n",
            "\n",
            "instacart_2017_05_01/\n",
            "instacart_2017_05_01/._aisles.csv\n",
            "instacart_2017_05_01/aisles.csv\n",
            "instacart_2017_05_01/._departments.csv\n",
            "instacart_2017_05_01/departments.csv\n",
            "instacart_2017_05_01/._order_products__prior.csv\n",
            "instacart_2017_05_01/order_products__prior.csv\n",
            "instacart_2017_05_01/._order_products__train.csv\n",
            "instacart_2017_05_01/order_products__train.csv\n",
            "instacart_2017_05_01/._orders.csv\n",
            "instacart_2017_05_01/orders.csv\n",
            "instacart_2017_05_01/._products.csv\n",
            "instacart_2017_05_01/products.csv\n",
            "/content/instacart_2017_05_01/instacart_2017_05_01\n",
            "aisles.csv\t order_products__prior.csv  orders.csv\n",
            "departments.csv  order_products__train.csv  products.csv\n"
          ],
          "name": "stdout"
        }
      ]
    },
    {
      "cell_type": "code",
      "metadata": {
        "id": "zAH_Y_dnGbvJ",
        "colab_type": "code",
        "colab": {
          "base_uri": "https://localhost:8080/",
          "height": 159
        },
        "outputId": "98c0016d-d276-4403-8c37-026f61ed4295"
      },
      "source": [
        "order_products__prior = pd.read_csv('order_products__prior.csv')\n",
        "print(order_products__prior.shape)\n",
        "order_products__prior.sample(3)"
      ],
      "execution_count": 68,
      "outputs": [
        {
          "output_type": "stream",
          "text": [
            "(32434489, 4)\n"
          ],
          "name": "stdout"
        },
        {
          "output_type": "execute_result",
          "data": {
            "text/html": [
              "<div>\n",
              "<style scoped>\n",
              "    .dataframe tbody tr th:only-of-type {\n",
              "        vertical-align: middle;\n",
              "    }\n",
              "\n",
              "    .dataframe tbody tr th {\n",
              "        vertical-align: top;\n",
              "    }\n",
              "\n",
              "    .dataframe thead th {\n",
              "        text-align: right;\n",
              "    }\n",
              "</style>\n",
              "<table border=\"1\" class=\"dataframe\">\n",
              "  <thead>\n",
              "    <tr style=\"text-align: right;\">\n",
              "      <th></th>\n",
              "      <th>order_id</th>\n",
              "      <th>product_id</th>\n",
              "      <th>add_to_cart_order</th>\n",
              "      <th>reordered</th>\n",
              "    </tr>\n",
              "  </thead>\n",
              "  <tbody>\n",
              "    <tr>\n",
              "      <th>657786</th>\n",
              "      <td>69539</td>\n",
              "      <td>47716</td>\n",
              "      <td>13</td>\n",
              "      <td>1</td>\n",
              "    </tr>\n",
              "    <tr>\n",
              "      <th>10671619</th>\n",
              "      <td>1126550</td>\n",
              "      <td>24964</td>\n",
              "      <td>27</td>\n",
              "      <td>0</td>\n",
              "    </tr>\n",
              "    <tr>\n",
              "      <th>24416377</th>\n",
              "      <td>2575094</td>\n",
              "      <td>35535</td>\n",
              "      <td>14</td>\n",
              "      <td>1</td>\n",
              "    </tr>\n",
              "  </tbody>\n",
              "</table>\n",
              "</div>"
            ],
            "text/plain": [
              "          order_id  product_id  add_to_cart_order  reordered\n",
              "657786       69539       47716                 13          1\n",
              "10671619   1126550       24964                 27          0\n",
              "24416377   2575094       35535                 14          1"
            ]
          },
          "metadata": {
            "tags": []
          },
          "execution_count": 68
        }
      ]
    },
    {
      "cell_type": "code",
      "metadata": {
        "id": "tNBsvXTPGxky",
        "colab_type": "code",
        "colab": {
          "base_uri": "https://localhost:8080/",
          "height": 159
        },
        "outputId": "fc3210af-0e19-4e66-92d3-0cb61448f705"
      },
      "source": [
        "order_products__train = pd.read_csv('order_products__train.csv')\n",
        "print(order_products__train.shape)\n",
        "order_products__train.head(3)"
      ],
      "execution_count": 70,
      "outputs": [
        {
          "output_type": "stream",
          "text": [
            "(1384617, 4)\n"
          ],
          "name": "stdout"
        },
        {
          "output_type": "execute_result",
          "data": {
            "text/html": [
              "<div>\n",
              "<style scoped>\n",
              "    .dataframe tbody tr th:only-of-type {\n",
              "        vertical-align: middle;\n",
              "    }\n",
              "\n",
              "    .dataframe tbody tr th {\n",
              "        vertical-align: top;\n",
              "    }\n",
              "\n",
              "    .dataframe thead th {\n",
              "        text-align: right;\n",
              "    }\n",
              "</style>\n",
              "<table border=\"1\" class=\"dataframe\">\n",
              "  <thead>\n",
              "    <tr style=\"text-align: right;\">\n",
              "      <th></th>\n",
              "      <th>order_id</th>\n",
              "      <th>product_id</th>\n",
              "      <th>add_to_cart_order</th>\n",
              "      <th>reordered</th>\n",
              "    </tr>\n",
              "  </thead>\n",
              "  <tbody>\n",
              "    <tr>\n",
              "      <th>0</th>\n",
              "      <td>1</td>\n",
              "      <td>49302</td>\n",
              "      <td>1</td>\n",
              "      <td>1</td>\n",
              "    </tr>\n",
              "    <tr>\n",
              "      <th>1</th>\n",
              "      <td>1</td>\n",
              "      <td>11109</td>\n",
              "      <td>2</td>\n",
              "      <td>1</td>\n",
              "    </tr>\n",
              "    <tr>\n",
              "      <th>2</th>\n",
              "      <td>1</td>\n",
              "      <td>10246</td>\n",
              "      <td>3</td>\n",
              "      <td>0</td>\n",
              "    </tr>\n",
              "  </tbody>\n",
              "</table>\n",
              "</div>"
            ],
            "text/plain": [
              "   order_id  product_id  add_to_cart_order  reordered\n",
              "0         1       49302                  1          1\n",
              "1         1       11109                  2          1\n",
              "2         1       10246                  3          0"
            ]
          },
          "metadata": {
            "tags": []
          },
          "execution_count": 70
        }
      ]
    },
    {
      "cell_type": "code",
      "metadata": {
        "id": "YiZhV4B8HdtY",
        "colab_type": "code",
        "colab": {
          "base_uri": "https://localhost:8080/",
          "height": 162
        },
        "outputId": "f0ce68cd-d766-4b12-f6b2-bd698345a497"
      },
      "source": [
        "orders = pd.read_csv('orders.csv')\n",
        "orders.head(3)"
      ],
      "execution_count": 71,
      "outputs": [
        {
          "output_type": "execute_result",
          "data": {
            "text/html": [
              "<div>\n",
              "<style scoped>\n",
              "    .dataframe tbody tr th:only-of-type {\n",
              "        vertical-align: middle;\n",
              "    }\n",
              "\n",
              "    .dataframe tbody tr th {\n",
              "        vertical-align: top;\n",
              "    }\n",
              "\n",
              "    .dataframe thead th {\n",
              "        text-align: right;\n",
              "    }\n",
              "</style>\n",
              "<table border=\"1\" class=\"dataframe\">\n",
              "  <thead>\n",
              "    <tr style=\"text-align: right;\">\n",
              "      <th></th>\n",
              "      <th>order_id</th>\n",
              "      <th>user_id</th>\n",
              "      <th>eval_set</th>\n",
              "      <th>order_number</th>\n",
              "      <th>order_dow</th>\n",
              "      <th>order_hour_of_day</th>\n",
              "      <th>days_since_prior_order</th>\n",
              "    </tr>\n",
              "  </thead>\n",
              "  <tbody>\n",
              "    <tr>\n",
              "      <th>0</th>\n",
              "      <td>2539329</td>\n",
              "      <td>1</td>\n",
              "      <td>prior</td>\n",
              "      <td>1</td>\n",
              "      <td>2</td>\n",
              "      <td>8</td>\n",
              "      <td>NaN</td>\n",
              "    </tr>\n",
              "    <tr>\n",
              "      <th>1</th>\n",
              "      <td>2398795</td>\n",
              "      <td>1</td>\n",
              "      <td>prior</td>\n",
              "      <td>2</td>\n",
              "      <td>3</td>\n",
              "      <td>7</td>\n",
              "      <td>15.0</td>\n",
              "    </tr>\n",
              "    <tr>\n",
              "      <th>2</th>\n",
              "      <td>473747</td>\n",
              "      <td>1</td>\n",
              "      <td>prior</td>\n",
              "      <td>3</td>\n",
              "      <td>3</td>\n",
              "      <td>12</td>\n",
              "      <td>21.0</td>\n",
              "    </tr>\n",
              "  </tbody>\n",
              "</table>\n",
              "</div>"
            ],
            "text/plain": [
              "   order_id  user_id eval_set  order_number  order_dow  order_hour_of_day  \\\n",
              "0   2539329        1    prior             1          2                  8   \n",
              "1   2398795        1    prior             2          3                  7   \n",
              "2    473747        1    prior             3          3                 12   \n",
              "\n",
              "   days_since_prior_order  \n",
              "0                     NaN  \n",
              "1                    15.0  \n",
              "2                    21.0  "
            ]
          },
          "metadata": {
            "tags": []
          },
          "execution_count": 71
        }
      ]
    },
    {
      "cell_type": "code",
      "metadata": {
        "id": "6Zvtq-fXHlBP",
        "colab_type": "code",
        "colab": {}
      },
      "source": [
        "products = pd.read_csv('products.csv')"
      ],
      "execution_count": 0,
      "outputs": []
    },
    {
      "cell_type": "code",
      "metadata": {
        "id": "UCDI9rc0IEt4",
        "colab_type": "code",
        "colab": {
          "base_uri": "https://localhost:8080/",
          "height": 131
        },
        "outputId": "27875a40-8a3c-4f5b-a420-8fabea97bf34"
      },
      "source": [
        "orders.sample(2)"
      ],
      "execution_count": 75,
      "outputs": [
        {
          "output_type": "execute_result",
          "data": {
            "text/html": [
              "<div>\n",
              "<style scoped>\n",
              "    .dataframe tbody tr th:only-of-type {\n",
              "        vertical-align: middle;\n",
              "    }\n",
              "\n",
              "    .dataframe tbody tr th {\n",
              "        vertical-align: top;\n",
              "    }\n",
              "\n",
              "    .dataframe thead th {\n",
              "        text-align: right;\n",
              "    }\n",
              "</style>\n",
              "<table border=\"1\" class=\"dataframe\">\n",
              "  <thead>\n",
              "    <tr style=\"text-align: right;\">\n",
              "      <th></th>\n",
              "      <th>order_id</th>\n",
              "      <th>user_id</th>\n",
              "      <th>eval_set</th>\n",
              "      <th>order_number</th>\n",
              "      <th>order_dow</th>\n",
              "      <th>order_hour_of_day</th>\n",
              "      <th>days_since_prior_order</th>\n",
              "    </tr>\n",
              "  </thead>\n",
              "  <tbody>\n",
              "    <tr>\n",
              "      <th>2691636</th>\n",
              "      <td>2424333</td>\n",
              "      <td>162117</td>\n",
              "      <td>prior</td>\n",
              "      <td>2</td>\n",
              "      <td>2</td>\n",
              "      <td>8</td>\n",
              "      <td>8.0</td>\n",
              "    </tr>\n",
              "    <tr>\n",
              "      <th>827824</th>\n",
              "      <td>1171521</td>\n",
              "      <td>49791</td>\n",
              "      <td>prior</td>\n",
              "      <td>21</td>\n",
              "      <td>6</td>\n",
              "      <td>0</td>\n",
              "      <td>13.0</td>\n",
              "    </tr>\n",
              "  </tbody>\n",
              "</table>\n",
              "</div>"
            ],
            "text/plain": [
              "         order_id  user_id eval_set  order_number  order_dow  \\\n",
              "2691636   2424333   162117    prior             2          2   \n",
              "827824    1171521    49791    prior            21          6   \n",
              "\n",
              "         order_hour_of_day  days_since_prior_order  \n",
              "2691636                  8                     8.0  \n",
              "827824                   0                    13.0  "
            ]
          },
          "metadata": {
            "tags": []
          },
          "execution_count": 75
        }
      ]
    },
    {
      "cell_type": "code",
      "metadata": {
        "id": "K7FPOOHlIflv",
        "colab_type": "code",
        "colab": {}
      },
      "source": [
        "cols=['user_id', 'order_id', 'order_nmber','order_dow','order_hour_of_day']\n",
        "orders=orders"
      ],
      "execution_count": 0,
      "outputs": []
    },
    {
      "cell_type": "code",
      "metadata": {
        "id": "1qKc88WI0up-",
        "colab_type": "code",
        "colab": {}
      },
      "source": [
        "##### YOUR CODE HERE #####"
      ],
      "execution_count": 0,
      "outputs": []
    },
    {
      "cell_type": "markdown",
      "metadata": {
        "id": "mnOuqL9K0dqh",
        "colab_type": "text"
      },
      "source": [
        "## Join Data Stretch Challenge\n",
        "\n",
        "The [Instacart blog post](https://tech.instacart.com/3-million-instacart-orders-open-sourced-d40d29ead6f2) has a visualization of \"**Popular products** purchased earliest in the day (green) and latest in the day (red).\" \n",
        "\n",
        "The post says,\n",
        "\n",
        "> \"We can also see the time of day that users purchase specific products.\n",
        "\n",
        "> Healthier snacks and staples tend to be purchased earlier in the day, whereas ice cream (especially Half Baked and The Tonight Dough) are far more popular when customers are ordering in the evening.\n",
        "\n",
        "> **In fact, of the top 25 latest ordered products, the first 24 are ice cream! The last one, of course, is a frozen pizza.**\"\n",
        "\n",
        "Your challenge is to reproduce the list of the top 25 latest ordered popular products.\n",
        "\n",
        "We'll define \"popular products\" as products with more than 2,900 orders.\n",
        "\n"
      ]
    },
    {
      "cell_type": "code",
      "metadata": {
        "id": "B-QNMrVkYap4",
        "colab_type": "code",
        "colab": {}
      },
      "source": [
        "##### YOUR CODE HERE #####"
      ],
      "execution_count": 0,
      "outputs": []
    },
    {
      "cell_type": "markdown",
      "metadata": {
        "id": "Ij8S60q0YXxo",
        "colab_type": "text"
      },
      "source": [
        "## Reshape Data Stretch Challenge\n",
        "\n",
        "_Try whatever sounds most interesting to you!_\n",
        "\n",
        "- Replicate more of Instacart's visualization showing \"Hour of Day Ordered\" vs \"Percent of Orders by Product\"\n",
        "- Replicate parts of the other visualization from [Instacart's blog post](https://tech.instacart.com/3-million-instacart-orders-open-sourced-d40d29ead6f2), showing \"Number of Purchases\" vs \"Percent Reorder Purchases\"\n",
        "- Get the most recent order for each user in Instacart's dataset. This is a useful baseline when [predicting a user's next order](https://www.kaggle.com/c/instacart-market-basket-analysis)\n",
        "- Replicate parts of the blog post linked at the top of this notebook: [Modern Pandas, Part 5: Tidy Data](https://tomaugspurger.github.io/modern-5-tidy.html)"
      ]
    },
    {
      "cell_type": "code",
      "metadata": {
        "id": "_d6IA2R0YXFY",
        "colab_type": "code",
        "colab": {}
      },
      "source": [
        "##### YOUR CODE HERE #####"
      ],
      "execution_count": 0,
      "outputs": []
    }
  ]
}