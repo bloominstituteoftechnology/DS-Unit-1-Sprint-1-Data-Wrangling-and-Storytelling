{
  "nbformat": 4,
  "nbformat_minor": 0,
  "metadata": {
    "colab": {
      "name": "LS_DS_112_Make_Features_Assignment.ipynb",
      "provenance": [],
      "include_colab_link": true
    },
    "kernelspec": {
      "name": "python3",
      "display_name": "Python 3"
    }
  },
  "cells": [
    {
      "cell_type": "markdown",
      "metadata": {
        "id": "view-in-github",
        "colab_type": "text"
      },
      "source": [
        "<a href=\"https://colab.research.google.com/github/cdixson-ds/DS-Unit-1-Sprint-1-Data-Wrangling-and-Storytelling/blob/master/LS_DS_112_Make_Features_Assignment.ipynb\" target=\"_parent\"><img src=\"https://colab.research.google.com/assets/colab-badge.svg\" alt=\"Open In Colab\"/></a>"
      ]
    },
    {
      "cell_type": "code",
      "metadata": {
        "id": "4UDcCNrNP6F0",
        "colab_type": "code",
        "colab": {}
      },
      "source": [
        ""
      ],
      "execution_count": 0,
      "outputs": []
    },
    {
      "cell_type": "markdown",
      "metadata": {
        "id": "SnDJqBLi0FYW",
        "colab_type": "text"
      },
      "source": [
        "<img align=\"left\" src=\"https://lever-client-logos.s3.amazonaws.com/864372b1-534c-480e-acd5-9711f850815c-1524247202159.png\" width=200> "
      ]
    },
    {
      "cell_type": "markdown",
      "metadata": {
        "id": "W5GjI1z5yNG4",
        "colab_type": "text"
      },
      "source": [
        "# Assignment:\n",
        "\n",
        "- Replicate the lesson code.\n",
        "\n",
        " - This means that if you haven't followed along already, type out the things that we did in class. Forcing your fingers to hit each key will help you internalize the syntax of what we're doing. Make sure you understand each line of code that you're writing, google things that you don't fully understand.\n",
        " - [Lambda Learning Method for DS - By Ryan Herr](https://docs.google.com/document/d/1ubOw9B3Hfip27hF2ZFnW3a3z9xAgrUDRReOEo-FHCVs/edit?usp=sharing)\n",
        "- Convert the `term` column from string to integer.\n",
        "- Make a column named `loan_status_is_great`. It should contain the integer 1 if `loan_status` is \"Current\" or \"Fully Paid.\" Else it should contain the integer 0.\n",
        "- Make `last_pymnt_d_month` and `last_pymnt_d_year` columns."
      ]
    },
    {
      "cell_type": "code",
      "metadata": {
        "id": "AazB4eFwym2p",
        "colab_type": "code",
        "colab": {}
      },
      "source": [
        "##### Begin Working Here #####\n",
        "\n",
        "import pandas as pd\n",
        "\n",
        "#read in the Ames Iowa Housing Dataset:\n",
        "df = pd.read_csv('https://raw.githubusercontent.com/ryanleeallred/datasets/master/Ames%20Housing%20Data/train.csv')"
      ],
      "execution_count": 0,
      "outputs": []
    },
    {
      "cell_type": "code",
      "metadata": {
        "id": "tVbdCxsvbru7",
        "colab_type": "code",
        "colab": {}
      },
      "source": [
        "#Look at features\n",
        "\n",
        "print(df.shape)\n",
        "df.head()"
      ],
      "execution_count": 0,
      "outputs": []
    },
    {
      "cell_type": "code",
      "metadata": {
        "id": "x7WDH5bEb3QE",
        "colab_type": "code",
        "colab": {}
      },
      "source": [
        "#Look at data types, display more than the default/truncated amount\n",
        "\n",
        "pd.set_option('display.max_rows', 200)\n",
        "\n",
        "df.dtypes"
      ],
      "execution_count": 0,
      "outputs": []
    },
    {
      "cell_type": "code",
      "metadata": {
        "id": "VDHJ74hocrQD",
        "colab_type": "code",
        "colab": {}
      },
      "source": [
        "#Look at the first ten rows of the 'BedroomAbvGr' column\n",
        "#Note that these are integers\n",
        "\n",
        "df['BedroomAbvGr'].head(10)"
      ],
      "execution_count": 0,
      "outputs": []
    },
    {
      "cell_type": "code",
      "metadata": {
        "id": "Ish0HG_Zc-fM",
        "colab_type": "code",
        "colab": {}
      },
      "source": [
        "#Look at first ten rows of 'LotFrontage' column\n",
        "\n",
        "df['LotFrontage'].head(10)"
      ],
      "execution_count": 0,
      "outputs": []
    },
    {
      "cell_type": "code",
      "metadata": {
        "id": "qV6QajgOewOF",
        "colab_type": "code",
        "colab": {}
      },
      "source": [
        "# 'LotFrontage' originally held integer values but they were cast as floats\n",
        "\n",
        "df['LotFrontage'].value_counts(dropna=False)"
      ],
      "execution_count": 0,
      "outputs": []
    },
    {
      "cell_type": "code",
      "metadata": {
        "id": "TcfifiJugghS",
        "colab_type": "code",
        "colab": {}
      },
      "source": [
        "#NaN is the most common value in this column\n",
        "\n",
        "df['LotFrontage'].value_counts(dropna=False)"
      ],
      "execution_count": 0,
      "outputs": []
    },
    {
      "cell_type": "code",
      "metadata": {
        "id": "mp_kEXZyh9ca",
        "colab_type": "code",
        "colab": {}
      },
      "source": [
        "#NaN datatype is float, which is why the integers in this column were converted\n",
        "#to float in order to preserve the same datatype throughout the column\n",
        "\n",
        "import numpy as np\n",
        "type(np.NaN)"
      ],
      "execution_count": 0,
      "outputs": []
    },
    {
      "cell_type": "code",
      "metadata": {
        "id": "wsr7jfkni2oV",
        "colab_type": "code",
        "colab": {}
      },
      "source": [
        "#Make New Features, make a smaller dataframe with a few specific column headers\n",
        "#by passing a list of column headers inside of the square brackets\n",
        "\n",
        "small_df = df[['TotalBsmtSF', '1stFlrSF', '2ndFlrSF', 'SalePrice']].copy()\n",
        "\n",
        "small_df"
      ],
      "execution_count": 0,
      "outputs": []
    },
    {
      "cell_type": "code",
      "metadata": {
        "id": "ncsx1Xndk3ws",
        "colab_type": "code",
        "colab": {}
      },
      "source": [
        "#Add up all the square footage to get a single square footage column for \n",
        "#entire dataset\n",
        "\n",
        "small_df['TotalSquareFootage'] = small_df['TotalBsmtSF'] + small_df['1stFlrSF'] + small_df['2ndFlrSF']\n",
        "small_df.head()"
      ],
      "execution_count": 0,
      "outputs": []
    },
    {
      "cell_type": "code",
      "metadata": {
        "id": "hp6BPy3ql7ma",
        "colab_type": "code",
        "colab": {}
      },
      "source": [
        "#Make 'PricePerSqFt' column by dividing price per square footage\n",
        "\n",
        "small_df['PricePerSqFt'] = small_df['SalePrice'] / small_df['TotalSquareFootage']\n",
        "\n",
        "small_df.head()"
      ],
      "execution_count": 0,
      "outputs": []
    },
    {
      "cell_type": "code",
      "metadata": {
        "id": "Mq7R9wagnZGa",
        "colab_type": "code",
        "colab": {}
      },
      "source": [
        "#Load new dataset\n",
        "\n",
        "!wget https://resources.lendingclub.com/LoanStats_2018Q4.csv.zip"
      ],
      "execution_count": 0,
      "outputs": []
    },
    {
      "cell_type": "code",
      "metadata": {
        "id": "5Jez3xGnnips",
        "colab_type": "code",
        "colab": {}
      },
      "source": [
        "!unzip LoanStats_2018Q4.csv.zip"
      ],
      "execution_count": 0,
      "outputs": []
    },
    {
      "cell_type": "code",
      "metadata": {
        "id": "gVsudMvUnouL",
        "colab_type": "code",
        "colab": {}
      },
      "source": [
        "!head LoanStats_2018Q4.csv"
      ],
      "execution_count": 0,
      "outputs": []
    },
    {
      "cell_type": "code",
      "metadata": {
        "id": "F6XOGjitnsj2",
        "colab_type": "code",
        "colab": {}
      },
      "source": [
        "#NaN values, '%', spaces may cause trouble when reading in file\n",
        "\n",
        "!tail LoanStats_2018Q4.csv"
      ],
      "execution_count": 0,
      "outputs": []
    },
    {
      "cell_type": "code",
      "metadata": {
        "id": "h4DtSL1gn0EM",
        "colab_type": "code",
        "colab": {}
      },
      "source": [
        "#Read in csv\n",
        "\n",
        "df = pd.read_csv('LoanStats_2018Q4.csv')\n",
        "print(df.shape)\n",
        "df.head()"
      ],
      "execution_count": 0,
      "outputs": []
    },
    {
      "cell_type": "code",
      "metadata": {
        "id": "-Av5cJD8oFdb",
        "colab_type": "code",
        "colab": {}
      },
      "source": [
        "#Fix header issue by using 'skiprows' parameter\n",
        "\n",
        "df = pd.read_csv('LoanStats_2018Q4.csv', header=1)\n",
        "print(df.shape)\n",
        "df.head()"
      ],
      "execution_count": 0,
      "outputs": []
    },
    {
      "cell_type": "code",
      "metadata": {
        "id": "LX0XxilLoZ2d",
        "colab_type": "code",
        "colab": {}
      },
      "source": [
        "#Sum null values by column and sort from least to greatest\n",
        "\n",
        "pd.set_option('display.max_rows', 200)\n",
        "\n",
        "df.isnull().sum().sort_values()"
      ],
      "execution_count": 0,
      "outputs": []
    },
    {
      "cell_type": "code",
      "metadata": {
        "id": "mNH80dbVoyNc",
        "colab_type": "code",
        "colab": {}
      },
      "source": [
        "#Address extra NaNs by skipping the footer\n",
        "\n",
        "df = pd.read_csv('LoanStats_2018Q4.csv', header=1, skipfooter=2, engine='python')\n",
        "print(df.shape)\n",
        "df.head()"
      ],
      "execution_count": 0,
      "outputs": []
    },
    {
      "cell_type": "code",
      "metadata": {
        "id": "15ApgZzXpUkK",
        "colab_type": "code",
        "colab": {}
      },
      "source": [
        "df.isnull().sum().sort_values()"
      ],
      "execution_count": 0,
      "outputs": []
    },
    {
      "cell_type": "code",
      "metadata": {
        "id": "m16BvdwjpsZk",
        "colab_type": "code",
        "colab": {}
      },
      "source": [
        "#drop colomns that are 100% empty, check values against the shape of the dataset (look at url, member_id, id, desc)\n",
        " \n",
        "df = df.drop(['url', 'member_id', 'desc', 'id'], axis=1)"
      ],
      "execution_count": 0,
      "outputs": []
    },
    {
      "cell_type": "code",
      "metadata": {
        "id": "lIyj_s5iqH6m",
        "colab_type": "code",
        "colab": {}
      },
      "source": [
        "df.head()"
      ],
      "execution_count": 0,
      "outputs": []
    },
    {
      "cell_type": "code",
      "metadata": {
        "id": "XFZWEHJxqXU0",
        "colab_type": "code",
        "colab": {}
      },
      "source": [
        "#look at 'int_rate' column\n",
        "df['int_rate'].head(10)"
      ],
      "execution_count": 0,
      "outputs": []
    },
    {
      "cell_type": "code",
      "metadata": {
        "id": "YoSNDMUPsJ1z",
        "colab_type": "code",
        "colab": {}
      },
      "source": [
        "#Build a function to fix 'int_rate' column by fixing one string at a time\n",
        "#Need to fix the leading space and the '%' character\n",
        "\n",
        "int_rate = ' 14.17%'"
      ],
      "execution_count": 0,
      "outputs": []
    },
    {
      "cell_type": "code",
      "metadata": {
        "id": "7CxSRTJYs2H7",
        "colab_type": "code",
        "colab": {}
      },
      "source": [
        "#Handle leading space\n",
        "int_rate.strip()"
      ],
      "execution_count": 0,
      "outputs": []
    },
    {
      "cell_type": "code",
      "metadata": {
        "id": "gP05nGlis7u8",
        "colab_type": "code",
        "colab": {}
      },
      "source": [
        "#Remove the '%' character\n",
        "int_rate.strip('%')"
      ],
      "execution_count": 0,
      "outputs": []
    },
    {
      "cell_type": "code",
      "metadata": {
        "id": "8HNKEqZBtGCb",
        "colab_type": "code",
        "colab": {}
      },
      "source": [
        "#Chain to remove both at once\n",
        "int_rate.strip().strip('%')"
      ],
      "execution_count": 0,
      "outputs": []
    },
    {
      "cell_type": "code",
      "metadata": {
        "id": "vMoMYwQdtiWB",
        "colab_type": "code",
        "colab": {}
      },
      "source": [
        "#Check type\n",
        "type(int_rate.strip().strip('%'))"
      ],
      "execution_count": 0,
      "outputs": []
    },
    {
      "cell_type": "code",
      "metadata": {
        "id": "L5LdJcEeto7u",
        "colab_type": "code",
        "colab": {}
      },
      "source": [
        "#cast string value as float\n",
        "\n",
        "float(int_rate.strip().strip('%'))"
      ],
      "execution_count": 0,
      "outputs": []
    },
    {
      "cell_type": "code",
      "metadata": {
        "id": "KTjyw-TJtw71",
        "colab_type": "code",
        "colab": {}
      },
      "source": [
        "#Check type again\n",
        "type(float(int_rate.strip().strip('%')))"
      ],
      "execution_count": 0,
      "outputs": []
    },
    {
      "cell_type": "code",
      "metadata": {
        "id": "aqv-WrWwt91J",
        "colab_type": "code",
        "colab": {}
      },
      "source": [
        "#Put together function that can do the above to any string passed through it\n",
        "\n",
        "def int_rate_to_float(cell_contents):\n",
        "  return float(cell_contents.strip().strip('%'))"
      ],
      "execution_count": 0,
      "outputs": []
    },
    {
      "cell_type": "code",
      "metadata": {
        "id": "AT007ffMuLUM",
        "colab_type": "code",
        "colab": {}
      },
      "source": [
        "#Test function\n",
        "\n",
        "int_rate_to_float(int_rate)"
      ],
      "execution_count": 0,
      "outputs": []
    },
    {
      "cell_type": "code",
      "metadata": {
        "id": "dmg1FE8kuSrH",
        "colab_type": "code",
        "colab": {}
      },
      "source": [
        "#Test data type\n",
        "type(int_rate_to_float(int_rate))"
      ],
      "execution_count": 0,
      "outputs": []
    },
    {
      "cell_type": "code",
      "metadata": {
        "id": "LmbzUnrXuYMJ",
        "colab_type": "code",
        "colab": {}
      },
      "source": [
        "#Apply to cell column using a for loop. This method is slower\n",
        "\n",
        "new_list = []\n",
        "for cell in df['int_rate']:\n",
        "  new_list.append(int_rate_to_float(cell))\n",
        "\n",
        "df['int_rate_cleaned'] = pd.Series(new_list)"
      ],
      "execution_count": 0,
      "outputs": []
    },
    {
      "cell_type": "code",
      "metadata": {
        "id": "5vufWuxFu3qy",
        "colab_type": "code",
        "colab": {}
      },
      "source": [
        "df['int_rate_float'] = df['int_rate'].apply(int_rate_to_float)\n",
        "\n",
        "df.head()"
      ],
      "execution_count": 0,
      "outputs": []
    },
    {
      "cell_type": "code",
      "metadata": {
        "id": "pa7zEc9Wu8q5",
        "colab_type": "code",
        "colab": {}
      },
      "source": [
        "# Look at the datatypes of the last 5 columns\n",
        "df.dtypes[-5:]"
      ],
      "execution_count": 0,
      "outputs": []
    },
    {
      "cell_type": "code",
      "metadata": {
        "id": "O1vL57iTvAwj",
        "colab_type": "code",
        "colab": {}
      },
      "source": [
        "#Modify and Create columns using .apply()\n",
        "\n",
        "# Look at the top 20 employment titles\n",
        "df['emp_title'].value_counts(dropna=False)[:20]"
      ],
      "execution_count": 0,
      "outputs": []
    },
    {
      "cell_type": "code",
      "metadata": {
        "id": "8blmQH8WvLPz",
        "colab_type": "code",
        "colab": {}
      },
      "source": [
        "# How many different unique employment titles are there currently?\n",
        "len(df['emp_title'].value_counts())"
      ],
      "execution_count": 0,
      "outputs": []
    },
    {
      "cell_type": "code",
      "metadata": {
        "id": "6FVJdYo9vNLe",
        "colab_type": "code",
        "colab": {}
      },
      "source": [
        "[]# How often is the employment_title null?\n",
        "df['emp_title'].isnull().sum()"
      ],
      "execution_count": 0,
      "outputs": []
    },
    {
      "cell_type": "code",
      "metadata": {
        "id": "Xb5ygRE1vTC8",
        "colab_type": "code",
        "colab": {}
      },
      "source": [
        "# Create some examples that represent the cases that we want to clean up\n",
        "\n",
        "examples = ['owner', 'Supervisor', ' Project Manager', np.NaN]"
      ],
      "execution_count": 0,
      "outputs": []
    },
    {
      "cell_type": "code",
      "metadata": {
        "id": "3GZKXP2EvXPo",
        "colab_type": "code",
        "colab": {}
      },
      "source": [
        "# Write a function to clean up these use cases and increase uniformity.\n",
        "\n",
        "def clean_title(job_title):\n",
        "  if isinstance(job_title, str):\n",
        "    return job_title.title().strip()\n",
        "  else:\n",
        "    return \"Unknown\"\n",
        "  \n",
        "for title in examples:\n",
        "  print(clean_title(title))"
      ],
      "execution_count": 0,
      "outputs": []
    },
    {
      "cell_type": "code",
      "metadata": {
        "id": "m8ow0AS2vaWQ",
        "colab_type": "code",
        "colab": {}
      },
      "source": [
        "# list comprehensions can combine function calls and for loops over lists\n",
        "# into one succinct and fairly readable single line of code.\n",
        "\n",
        "[clean_title(example) for example in examples]"
      ],
      "execution_count": 0,
      "outputs": []
    },
    {
      "cell_type": "code",
      "metadata": {
        "id": "Fd9-Qj38vgTR",
        "colab_type": "code",
        "colab": {}
      },
      "source": [
        "# We have a function that works as expected. Lets apply it to our column.\n",
        "# This time we'll overwrite the original column\n",
        "\n",
        "df['emp_title'] = df['emp_title'].apply(clean_title)\n",
        "\n",
        "df.head()"
      ],
      "execution_count": 0,
      "outputs": []
    },
    {
      "cell_type": "code",
      "metadata": {
        "id": "L29xdRqxvpvl",
        "colab_type": "code",
        "colab": {}
      },
      "source": [
        "# Look at the top 20 employment titles\n",
        "df['emp_title'].value_counts(dropna=False, ascending=False)[:20]"
      ],
      "execution_count": 0,
      "outputs": []
    },
    {
      "cell_type": "code",
      "metadata": {
        "id": "fZZWBSrXvtbH",
        "colab_type": "code",
        "colab": {}
      },
      "source": [
        "# How many different unique employment titles are there currently?\n",
        "len(df['emp_title'].value_counts())"
      ],
      "execution_count": 0,
      "outputs": []
    },
    {
      "cell_type": "code",
      "metadata": {
        "id": "cTTnYt0AvwO5",
        "colab_type": "code",
        "colab": {}
      },
      "source": [
        "# How often is the employment_title null (NaN)?\n",
        "df['emp_title'].isnull().sum()"
      ],
      "execution_count": 0,
      "outputs": []
    },
    {
      "cell_type": "code",
      "metadata": {
        "id": "5_JGKBkivzkj",
        "colab_type": "code",
        "colab": {}
      },
      "source": [
        "#Convert the term column from string to integer.\n",
        "\n",
        "df['term'].head(10)"
      ],
      "execution_count": 0,
      "outputs": []
    },
    {
      "cell_type": "code",
      "metadata": {
        "id": "P5BeG2bMzQAD",
        "colab_type": "code",
        "colab": {}
      },
      "source": [
        "#look at specific value\n",
        "\n",
        "df['term'][3]"
      ],
      "execution_count": 0,
      "outputs": []
    },
    {
      "cell_type": "code",
      "metadata": {
        "id": "20q5YGQ20ERP",
        "colab_type": "code",
        "colab": {}
      },
      "source": [
        "#stip leading space, trailing space and 'months'\n",
        "\n",
        "term = ' 36 months'\n",
        "\n",
        "term.strip().strip(' months')"
      ],
      "execution_count": 0,
      "outputs": []
    },
    {
      "cell_type": "code",
      "metadata": {
        "id": "JBAgKQTt2o81",
        "colab_type": "code",
        "colab": {}
      },
      "source": [
        "#cast as an integer\n",
        "\n",
        "int(term.strip().strip(' months'))"
      ],
      "execution_count": 0,
      "outputs": []
    },
    {
      "cell_type": "code",
      "metadata": {
        "id": "dF0dSX7C29gJ",
        "colab_type": "code",
        "colab": {}
      },
      "source": [
        "#Check data type\n",
        "\n",
        "type(int(term.strip().strip(' months')))"
      ],
      "execution_count": 0,
      "outputs": []
    },
    {
      "cell_type": "code",
      "metadata": {
        "id": "W-mDWCar2iJ5",
        "colab_type": "code",
        "colab": {}
      },
      "source": [
        "#Write function\n",
        "\n",
        "def term_to_int(cell_contents):\n",
        "  return int(term.strip().strip(' months'))"
      ],
      "execution_count": 0,
      "outputs": []
    },
    {
      "cell_type": "code",
      "metadata": {
        "id": "QOZCwlVHABTW",
        "colab_type": "code",
        "colab": {}
      },
      "source": [
        "#Test function\n",
        "\n",
        "term_to_int(term)"
      ],
      "execution_count": 0,
      "outputs": []
    },
    {
      "cell_type": "code",
      "metadata": {
        "id": "W8E_-RadBUUM",
        "colab_type": "code",
        "colab": {}
      },
      "source": [
        "#Apply solution to each cell\n",
        "\n",
        "#df['term_to_int'] = df['term'].apply(term_to_int)\n",
        "\n",
        "df['term'] = df['term'].apply(term_to_int)\n",
        "\n",
        "df.head()"
      ],
      "execution_count": 0,
      "outputs": []
    },
    {
      "cell_type": "code",
      "metadata": {
        "id": "7kgEA-rCv_qD",
        "colab_type": "code",
        "colab": {}
      },
      "source": [
        "#Make a column named loan_status_is_great. It should contain the \n",
        "#integer 1 if loan_status is \"Current\" or \"Fully Paid.\" \n",
        "# Else it should contain the integer 0.\n",
        "\n",
        "def loan_status_is_great(loan_status):\n",
        "  if ('loan_status' == \"Current\"):\n",
        "    return int(1)\n",
        "  elif('loan_status' ==\"Fully Paid\"):\n",
        "    return int(1)\n",
        "  else:\n",
        "    return int(0)\n",
        "\n",
        "df['loan_status'] = df['loan_status'].apply(loan_status_is_great)\n",
        "\n",
        "df.head()"
      ],
      "execution_count": 0,
      "outputs": []
    },
    {
      "cell_type": "code",
      "metadata": {
        "id": "VYYYZcOJWxzd",
        "colab_type": "code",
        "colab": {}
      },
      "source": [
        "df.tail()"
      ],
      "execution_count": 0,
      "outputs": []
    },
    {
      "cell_type": "code",
      "metadata": {
        "id": "wWgNyfdq1t6e",
        "colab_type": "code",
        "colab": {}
      },
      "source": [
        "#Need to use datetime\n",
        "\n",
        "[col for col in df if col.endswith('_d')]"
      ],
      "execution_count": 0,
      "outputs": []
    },
    {
      "cell_type": "code",
      "metadata": {
        "id": "clIc8HJm1_XV",
        "colab_type": "code",
        "colab": {}
      },
      "source": [
        "df['issue_d'] = pd.to_datetime(df['issue_d'], infer_datetime_format=True)\n",
        "\n",
        "df.dtypes[:15] "
      ],
      "execution_count": 0,
      "outputs": []
    },
    {
      "cell_type": "code",
      "metadata": {
        "id": "Y1666cbh2BKn",
        "colab_type": "code",
        "colab": {}
      },
      "source": [
        "df['issue_d'].iloc[0]"
      ],
      "execution_count": 0,
      "outputs": []
    },
    {
      "cell_type": "code",
      "metadata": {
        "id": "pDSKLe9J2LcC",
        "colab_type": "code",
        "colab": {}
      },
      "source": [
        "df['issue_d'].head().values"
      ],
      "execution_count": 0,
      "outputs": []
    },
    {
      "cell_type": "code",
      "metadata": {
        "id": "g4z4OvrU2NeO",
        "colab_type": "code",
        "colab": {}
      },
      "source": [
        "df['issue_d'].dt.year"
      ],
      "execution_count": 0,
      "outputs": []
    },
    {
      "cell_type": "code",
      "metadata": {
        "id": "RyxVo3FM2PrN",
        "colab_type": "code",
        "colab": {}
      },
      "source": [
        "df['issue_d'].dt.month"
      ],
      "execution_count": 0,
      "outputs": []
    },
    {
      "cell_type": "code",
      "metadata": {
        "id": "5hyTncz62TfZ",
        "colab_type": "code",
        "colab": {}
      },
      "source": [
        "df['issue_year'] = df['issue_d'].dt.year\n",
        "df['issue_month'] = df['issue_d'].dt.month\n",
        "\n",
        "df.head()"
      ],
      "execution_count": 0,
      "outputs": []
    },
    {
      "cell_type": "code",
      "metadata": {
        "id": "-XRfgDM32ZhW",
        "colab_type": "code",
        "colab": {}
      },
      "source": [
        "#Need to change from earliest to latest\n",
        "\n",
        "df['earliest_cr_line'].head()\n",
        "\n",
        "df['earliest_cr_line'] = pd.to_datetime(df['earliest_cr_line'], infer_datetime_format=True)"
      ],
      "execution_count": 0,
      "outputs": []
    },
    {
      "cell_type": "code",
      "metadata": {
        "id": "IrIwGn2Z2vyp",
        "colab_type": "code",
        "colab": {}
      },
      "source": [
        "df['issue_d'] - df['earliest_cr_line']\n",
        "\n",
        "df['issue_d'] - df['earliest_cr_line']\n",
        "\n",
        "df['days_from_earliest_credit_to_issue'] = (df['issue_d'] - df['earliest_cr_line']).dt.days\n",
        "\n",
        "df.head()\n",
        "\n",
        "df['days_from_earliest_credit_to_issue'].describe()"
      ],
      "execution_count": 0,
      "outputs": []
    },
    {
      "cell_type": "code",
      "metadata": {
        "id": "tQoiY_brwI-L",
        "colab_type": "code",
        "colab": {}
      },
      "source": [
        "#Make last_pymnt_d_month and last_pymnt_d_year columns.\n",
        "\n",
        "new_df['last_pymnt_d_month']=\n",
        "\n",
        "new_df['last_pymnt_d_year']=\n",
        "\n",
        "new_df.head()\n",
        "\n"
      ],
      "execution_count": 0,
      "outputs": []
    },
    {
      "cell_type": "markdown",
      "metadata": {
        "colab_type": "text",
        "id": "L8k0LiHmo5EU"
      },
      "source": [
        "# Stretch Goals\n",
        "\n",
        "You can do more with the LendingClub or Instacart datasets.\n",
        "\n",
        "LendingClub options:\n",
        "- There's one other column in the dataframe with percent signs. Remove them and convert to floats. You'll need to handle missing values.\n",
        "- Modify the `emp_title` column to replace titles with 'Other' if the title is not in the top 20. \n",
        "- Take initiatve and work on your own ideas!\n",
        "\n",
        "Instacart options:\n",
        "- Read [Instacart Market Basket Analysis, Winner's Interview: 2nd place, Kazuki Onodera](http://blog.kaggle.com/2017/09/21/instacart-market-basket-analysis-winners-interview-2nd-place-kazuki-onodera/), especially the **Feature Engineering** section. (Can you choose one feature from his bulleted lists, and try to engineer it with pandas code?)\n",
        "- Read and replicate parts of [Simple Exploration Notebook - Instacart](https://www.kaggle.com/sudalairajkumar/simple-exploration-notebook-instacart). (It's the Python Notebook with the most upvotes for this Kaggle competition.)\n",
        "- Take initiative and work on your own ideas!"
      ]
    },
    {
      "cell_type": "markdown",
      "metadata": {
        "colab_type": "text",
        "id": "0_7PXF7lpEXg"
      },
      "source": [
        "You can uncomment and run the cells below to re-download and extract the Instacart data"
      ]
    },
    {
      "cell_type": "code",
      "metadata": {
        "id": "urIePNa0yNG6",
        "colab_type": "code",
        "colab": {}
      },
      "source": [
        "# !wget https://s3.amazonaws.com/instacart-datasets/instacart_online_grocery_shopping_2017_05_01.tar.gz"
      ],
      "execution_count": 0,
      "outputs": []
    },
    {
      "cell_type": "code",
      "metadata": {
        "id": "X9zEyu-uyNG8",
        "colab_type": "code",
        "colab": {}
      },
      "source": [
        "# !tar --gunzip --extract --verbose --file=instacart_online_grocery_shopping_2017_05_01.tar.gz"
      ],
      "execution_count": 0,
      "outputs": []
    },
    {
      "cell_type": "code",
      "metadata": {
        "id": "Y3IqrhlpyNG-",
        "colab_type": "code",
        "colab": {}
      },
      "source": [
        "# %cd instacart_2017_05_01"
      ],
      "execution_count": 0,
      "outputs": []
    }
  ]
}