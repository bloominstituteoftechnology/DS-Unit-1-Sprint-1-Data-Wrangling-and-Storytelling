{
  "nbformat": 4,
  "nbformat_minor": 0,
  "metadata": {
    "colab": {
      "name": "LS_DS_111_Exploratory_Data_Analysis_Assignment.ipynb",
      "provenance": [],
      "collapsed_sections": [],
      "toc_visible": true,
      "include_colab_link": true
    },
    "kernelspec": {
      "name": "python3",
      "display_name": "Python 3"
    }
  },
  "cells": [
    {
      "cell_type": "markdown",
      "metadata": {
        "id": "view-in-github",
        "colab_type": "text"
      },
      "source": [
        "<a href=\"https://colab.research.google.com/github/dscohen75/DS-Unit-1-Sprint-1-Data-Wrangling-and-Storytelling/blob/master/LS_DS_111_Exploratory_Data_Analysis_Assignment.ipynb\" target=\"_parent\"><img src=\"https://colab.research.google.com/assets/colab-badge.svg\" alt=\"Open In Colab\"/></a>"
      ]
    },
    {
      "cell_type": "markdown",
      "metadata": {
        "colab_type": "text",
        "id": "MSnsTgZLKO72"
      },
      "source": [
        "# Practice Loading and Exploring Datasets\n",
        "\n",
        "This assignment is purposely open-ended. You will be asked to load datasets from the [UC-Irvine Machine Learning Repository](https://archive.ics.uci.edu/ml/index.php). \n",
        "\n",
        "Even though you maybe using different datasets than your fellow classmates, try and be supportive and assist each other in the challenges that you are facing. You will only deepend your understanding of these topics as you work to assist one another. Many popular UCI datasets face similar data loading challenges.\n",
        "\n",
        "Remember that the UCI datasets do not necessarily have a file type of `.csv` so it's important that you learn as much as you can about the dataset before you try and load it. See if you can look at the raw text of the file either locally or using the `!curl` shell command -or in some other way before you try and read it in as a dataframe. This will help you catch what would otherwise be unforseen problems.\n",
        "\n",
        "Feel free to embellish this notebook with additional markdown cells,code cells, comments, graphs, etc. Whatever you think helps adequately address the questions."
      ]
    },
    {
      "cell_type": "markdown",
      "metadata": {
        "id": "156P6ndeKojO",
        "colab_type": "text"
      },
      "source": [
        "## 1) Load a dataset from UCI (via its URL)\n",
        "\n",
        "Please navigate to the home page and choose a dataset (other than the Adult dataset) from the \"Most Popular\" section on the right-hand side of the home page. Load the dataset via its URL and check the following (show your work):\n",
        "\n",
        "- Are the headers showing up properly?\n",
        "- Look at the first 5 and the last 5 rows, do they seem to be in order?\n",
        "- Does the dataset have the correct number of rows and columns as described in the UCI page? \n",
        " - Remember, that UCI does not count the y variable (column of values that we might want to predict via a machine learning model) as an \"attribute\" but rather as a \"class attribute\" so you may end up seeing a number of columns that is one greater than the number listed on the UCI website.\n",
        "- Does UCI list this dataset as having missing values? Check for missing values and see if your analysis corroborates what UCI reports?\n",
        "- if `NaN` values or other missing value indicators are not being detected by `df.isnull().sum()` find a way to replace whatever is indicating the missing values with `np.NaN`.\n",
        "- Use the .describe() function in order to see the summary statistics of both the numeric and non-numeric columns. "
      ]
    },
    {
      "cell_type": "code",
      "metadata": {
        "id": "NJdISe69ZT7E",
        "colab_type": "code",
        "colab": {
          "base_uri": "https://localhost:8080/",
          "height": 221
        },
        "outputId": "cc9db0b0-0900-4523-b399-4a81900a7837"
      },
      "source": [
        "# TODO your work here!\n",
        "# And note you should write comments, descriptions, and add new\n",
        "# code and text blocks as needed\n",
        "\n",
        "abalone_data_url = \"https://archive.ics.uci.edu/ml/machine-learning-databases/abalone/abalone.data\"\n",
        "\n",
        "import pandas as pd\n",
        "\n",
        "column_headers = ['sex', 'length', 'diameter', 'height', 'whole_weight', 'shucked_weight', 'viscera_weight', 'shell_weight', 'rings']\n",
        "df = pd.read_csv(abalone_data_url, names=column_headers)\n",
        "\n",
        "print(df.shape)\n",
        "df.head()"
      ],
      "execution_count": 3,
      "outputs": [
        {
          "output_type": "stream",
          "text": [
            "(4177, 9)\n"
          ],
          "name": "stdout"
        },
        {
          "output_type": "execute_result",
          "data": {
            "text/html": [
              "<div>\n",
              "<style scoped>\n",
              "    .dataframe tbody tr th:only-of-type {\n",
              "        vertical-align: middle;\n",
              "    }\n",
              "\n",
              "    .dataframe tbody tr th {\n",
              "        vertical-align: top;\n",
              "    }\n",
              "\n",
              "    .dataframe thead th {\n",
              "        text-align: right;\n",
              "    }\n",
              "</style>\n",
              "<table border=\"1\" class=\"dataframe\">\n",
              "  <thead>\n",
              "    <tr style=\"text-align: right;\">\n",
              "      <th></th>\n",
              "      <th>sex</th>\n",
              "      <th>length</th>\n",
              "      <th>diameter</th>\n",
              "      <th>height</th>\n",
              "      <th>whole_weight</th>\n",
              "      <th>shucked_weight</th>\n",
              "      <th>viscera_weight</th>\n",
              "      <th>shell_weight</th>\n",
              "      <th>rings</th>\n",
              "    </tr>\n",
              "  </thead>\n",
              "  <tbody>\n",
              "    <tr>\n",
              "      <th>0</th>\n",
              "      <td>M</td>\n",
              "      <td>0.455</td>\n",
              "      <td>0.365</td>\n",
              "      <td>0.095</td>\n",
              "      <td>0.5140</td>\n",
              "      <td>0.2245</td>\n",
              "      <td>0.1010</td>\n",
              "      <td>0.150</td>\n",
              "      <td>15</td>\n",
              "    </tr>\n",
              "    <tr>\n",
              "      <th>1</th>\n",
              "      <td>M</td>\n",
              "      <td>0.350</td>\n",
              "      <td>0.265</td>\n",
              "      <td>0.090</td>\n",
              "      <td>0.2255</td>\n",
              "      <td>0.0995</td>\n",
              "      <td>0.0485</td>\n",
              "      <td>0.070</td>\n",
              "      <td>7</td>\n",
              "    </tr>\n",
              "    <tr>\n",
              "      <th>2</th>\n",
              "      <td>F</td>\n",
              "      <td>0.530</td>\n",
              "      <td>0.420</td>\n",
              "      <td>0.135</td>\n",
              "      <td>0.6770</td>\n",
              "      <td>0.2565</td>\n",
              "      <td>0.1415</td>\n",
              "      <td>0.210</td>\n",
              "      <td>9</td>\n",
              "    </tr>\n",
              "    <tr>\n",
              "      <th>3</th>\n",
              "      <td>M</td>\n",
              "      <td>0.440</td>\n",
              "      <td>0.365</td>\n",
              "      <td>0.125</td>\n",
              "      <td>0.5160</td>\n",
              "      <td>0.2155</td>\n",
              "      <td>0.1140</td>\n",
              "      <td>0.155</td>\n",
              "      <td>10</td>\n",
              "    </tr>\n",
              "    <tr>\n",
              "      <th>4</th>\n",
              "      <td>I</td>\n",
              "      <td>0.330</td>\n",
              "      <td>0.255</td>\n",
              "      <td>0.080</td>\n",
              "      <td>0.2050</td>\n",
              "      <td>0.0895</td>\n",
              "      <td>0.0395</td>\n",
              "      <td>0.055</td>\n",
              "      <td>7</td>\n",
              "    </tr>\n",
              "  </tbody>\n",
              "</table>\n",
              "</div>"
            ],
            "text/plain": [
              "  sex  length  diameter  ...  viscera_weight  shell_weight  rings\n",
              "0   M   0.455     0.365  ...          0.1010         0.150     15\n",
              "1   M   0.350     0.265  ...          0.0485         0.070      7\n",
              "2   F   0.530     0.420  ...          0.1415         0.210      9\n",
              "3   M   0.440     0.365  ...          0.1140         0.155     10\n",
              "4   I   0.330     0.255  ...          0.0395         0.055      7\n",
              "\n",
              "[5 rows x 9 columns]"
            ]
          },
          "metadata": {
            "tags": []
          },
          "execution_count": 3
        }
      ]
    },
    {
      "cell_type": "code",
      "metadata": {
        "id": "JV5-i-ua5PR8",
        "colab_type": "code",
        "colab": {
          "base_uri": "https://localhost:8080/",
          "height": 204
        },
        "outputId": "2cc838cf-4d94-4fc6-8391-6e323863e241"
      },
      "source": [
        "df.head()"
      ],
      "execution_count": 5,
      "outputs": [
        {
          "output_type": "execute_result",
          "data": {
            "text/html": [
              "<div>\n",
              "<style scoped>\n",
              "    .dataframe tbody tr th:only-of-type {\n",
              "        vertical-align: middle;\n",
              "    }\n",
              "\n",
              "    .dataframe tbody tr th {\n",
              "        vertical-align: top;\n",
              "    }\n",
              "\n",
              "    .dataframe thead th {\n",
              "        text-align: right;\n",
              "    }\n",
              "</style>\n",
              "<table border=\"1\" class=\"dataframe\">\n",
              "  <thead>\n",
              "    <tr style=\"text-align: right;\">\n",
              "      <th></th>\n",
              "      <th>sex</th>\n",
              "      <th>length</th>\n",
              "      <th>diameter</th>\n",
              "      <th>height</th>\n",
              "      <th>whole_weight</th>\n",
              "      <th>shucked_weight</th>\n",
              "      <th>viscera_weight</th>\n",
              "      <th>shell_weight</th>\n",
              "      <th>rings</th>\n",
              "    </tr>\n",
              "  </thead>\n",
              "  <tbody>\n",
              "    <tr>\n",
              "      <th>0</th>\n",
              "      <td>M</td>\n",
              "      <td>0.455</td>\n",
              "      <td>0.365</td>\n",
              "      <td>0.095</td>\n",
              "      <td>0.5140</td>\n",
              "      <td>0.2245</td>\n",
              "      <td>0.1010</td>\n",
              "      <td>0.150</td>\n",
              "      <td>15</td>\n",
              "    </tr>\n",
              "    <tr>\n",
              "      <th>1</th>\n",
              "      <td>M</td>\n",
              "      <td>0.350</td>\n",
              "      <td>0.265</td>\n",
              "      <td>0.090</td>\n",
              "      <td>0.2255</td>\n",
              "      <td>0.0995</td>\n",
              "      <td>0.0485</td>\n",
              "      <td>0.070</td>\n",
              "      <td>7</td>\n",
              "    </tr>\n",
              "    <tr>\n",
              "      <th>2</th>\n",
              "      <td>F</td>\n",
              "      <td>0.530</td>\n",
              "      <td>0.420</td>\n",
              "      <td>0.135</td>\n",
              "      <td>0.6770</td>\n",
              "      <td>0.2565</td>\n",
              "      <td>0.1415</td>\n",
              "      <td>0.210</td>\n",
              "      <td>9</td>\n",
              "    </tr>\n",
              "    <tr>\n",
              "      <th>3</th>\n",
              "      <td>M</td>\n",
              "      <td>0.440</td>\n",
              "      <td>0.365</td>\n",
              "      <td>0.125</td>\n",
              "      <td>0.5160</td>\n",
              "      <td>0.2155</td>\n",
              "      <td>0.1140</td>\n",
              "      <td>0.155</td>\n",
              "      <td>10</td>\n",
              "    </tr>\n",
              "    <tr>\n",
              "      <th>4</th>\n",
              "      <td>I</td>\n",
              "      <td>0.330</td>\n",
              "      <td>0.255</td>\n",
              "      <td>0.080</td>\n",
              "      <td>0.2050</td>\n",
              "      <td>0.0895</td>\n",
              "      <td>0.0395</td>\n",
              "      <td>0.055</td>\n",
              "      <td>7</td>\n",
              "    </tr>\n",
              "  </tbody>\n",
              "</table>\n",
              "</div>"
            ],
            "text/plain": [
              "  sex  length  diameter  ...  viscera_weight  shell_weight  rings\n",
              "0   M   0.455     0.365  ...          0.1010         0.150     15\n",
              "1   M   0.350     0.265  ...          0.0485         0.070      7\n",
              "2   F   0.530     0.420  ...          0.1415         0.210      9\n",
              "3   M   0.440     0.365  ...          0.1140         0.155     10\n",
              "4   I   0.330     0.255  ...          0.0395         0.055      7\n",
              "\n",
              "[5 rows x 9 columns]"
            ]
          },
          "metadata": {
            "tags": []
          },
          "execution_count": 5
        }
      ]
    },
    {
      "cell_type": "code",
      "metadata": {
        "id": "CLIe_nBM5War",
        "colab_type": "code",
        "colab": {
          "base_uri": "https://localhost:8080/",
          "height": 204
        },
        "outputId": "3b83e3e3-0138-471c-cca9-1072aa1d5fad"
      },
      "source": [
        "df.tail()"
      ],
      "execution_count": 6,
      "outputs": [
        {
          "output_type": "execute_result",
          "data": {
            "text/html": [
              "<div>\n",
              "<style scoped>\n",
              "    .dataframe tbody tr th:only-of-type {\n",
              "        vertical-align: middle;\n",
              "    }\n",
              "\n",
              "    .dataframe tbody tr th {\n",
              "        vertical-align: top;\n",
              "    }\n",
              "\n",
              "    .dataframe thead th {\n",
              "        text-align: right;\n",
              "    }\n",
              "</style>\n",
              "<table border=\"1\" class=\"dataframe\">\n",
              "  <thead>\n",
              "    <tr style=\"text-align: right;\">\n",
              "      <th></th>\n",
              "      <th>sex</th>\n",
              "      <th>length</th>\n",
              "      <th>diameter</th>\n",
              "      <th>height</th>\n",
              "      <th>whole_weight</th>\n",
              "      <th>shucked_weight</th>\n",
              "      <th>viscera_weight</th>\n",
              "      <th>shell_weight</th>\n",
              "      <th>rings</th>\n",
              "    </tr>\n",
              "  </thead>\n",
              "  <tbody>\n",
              "    <tr>\n",
              "      <th>4172</th>\n",
              "      <td>F</td>\n",
              "      <td>0.565</td>\n",
              "      <td>0.450</td>\n",
              "      <td>0.165</td>\n",
              "      <td>0.8870</td>\n",
              "      <td>0.3700</td>\n",
              "      <td>0.2390</td>\n",
              "      <td>0.2490</td>\n",
              "      <td>11</td>\n",
              "    </tr>\n",
              "    <tr>\n",
              "      <th>4173</th>\n",
              "      <td>M</td>\n",
              "      <td>0.590</td>\n",
              "      <td>0.440</td>\n",
              "      <td>0.135</td>\n",
              "      <td>0.9660</td>\n",
              "      <td>0.4390</td>\n",
              "      <td>0.2145</td>\n",
              "      <td>0.2605</td>\n",
              "      <td>10</td>\n",
              "    </tr>\n",
              "    <tr>\n",
              "      <th>4174</th>\n",
              "      <td>M</td>\n",
              "      <td>0.600</td>\n",
              "      <td>0.475</td>\n",
              "      <td>0.205</td>\n",
              "      <td>1.1760</td>\n",
              "      <td>0.5255</td>\n",
              "      <td>0.2875</td>\n",
              "      <td>0.3080</td>\n",
              "      <td>9</td>\n",
              "    </tr>\n",
              "    <tr>\n",
              "      <th>4175</th>\n",
              "      <td>F</td>\n",
              "      <td>0.625</td>\n",
              "      <td>0.485</td>\n",
              "      <td>0.150</td>\n",
              "      <td>1.0945</td>\n",
              "      <td>0.5310</td>\n",
              "      <td>0.2610</td>\n",
              "      <td>0.2960</td>\n",
              "      <td>10</td>\n",
              "    </tr>\n",
              "    <tr>\n",
              "      <th>4176</th>\n",
              "      <td>M</td>\n",
              "      <td>0.710</td>\n",
              "      <td>0.555</td>\n",
              "      <td>0.195</td>\n",
              "      <td>1.9485</td>\n",
              "      <td>0.9455</td>\n",
              "      <td>0.3765</td>\n",
              "      <td>0.4950</td>\n",
              "      <td>12</td>\n",
              "    </tr>\n",
              "  </tbody>\n",
              "</table>\n",
              "</div>"
            ],
            "text/plain": [
              "     sex  length  diameter  ...  viscera_weight  shell_weight  rings\n",
              "4172   F   0.565     0.450  ...          0.2390        0.2490     11\n",
              "4173   M   0.590     0.440  ...          0.2145        0.2605     10\n",
              "4174   M   0.600     0.475  ...          0.2875        0.3080      9\n",
              "4175   F   0.625     0.485  ...          0.2610        0.2960     10\n",
              "4176   M   0.710     0.555  ...          0.3765        0.4950     12\n",
              "\n",
              "[5 rows x 9 columns]"
            ]
          },
          "metadata": {
            "tags": []
          },
          "execution_count": 6
        }
      ]
    },
    {
      "cell_type": "markdown",
      "metadata": {
        "id": "e3gBWAJ45plp",
        "colab_type": "text"
      },
      "source": [
        "# Looks good!\n",
        "# The shape of the dataset matches the expected number of rows and columns. There is one additional column for the class attribute, which is not counted as an attribute by UCI."
      ]
    },
    {
      "cell_type": "code",
      "metadata": {
        "id": "ySx5zX-x6Uq1",
        "colab_type": "code",
        "colab": {
          "base_uri": "https://localhost:8080/",
          "height": 187
        },
        "outputId": "548a6ecc-2a6b-4486-e71f-d43de6ed2b12"
      },
      "source": [
        "df.isnull().sum()"
      ],
      "execution_count": 7,
      "outputs": [
        {
          "output_type": "execute_result",
          "data": {
            "text/plain": [
              "sex               0\n",
              "length            0\n",
              "diameter          0\n",
              "height            0\n",
              "whole_weight      0\n",
              "shucked_weight    0\n",
              "viscera_weight    0\n",
              "shell_weight      0\n",
              "rings             0\n",
              "dtype: int64"
            ]
          },
          "metadata": {
            "tags": []
          },
          "execution_count": 7
        }
      ]
    },
    {
      "cell_type": "markdown",
      "metadata": {
        "id": "6iymXJQy6ZB0",
        "colab_type": "text"
      },
      "source": [
        "No missing values, just as the UCI info promised."
      ]
    },
    {
      "cell_type": "code",
      "metadata": {
        "id": "ZAiDkZPw6lD-",
        "colab_type": "code",
        "colab": {
          "base_uri": "https://localhost:8080/",
          "height": 297
        },
        "outputId": "50b07671-6c86-4e5b-e146-3e928b036b46"
      },
      "source": [
        "df.describe()"
      ],
      "execution_count": 8,
      "outputs": [
        {
          "output_type": "execute_result",
          "data": {
            "text/html": [
              "<div>\n",
              "<style scoped>\n",
              "    .dataframe tbody tr th:only-of-type {\n",
              "        vertical-align: middle;\n",
              "    }\n",
              "\n",
              "    .dataframe tbody tr th {\n",
              "        vertical-align: top;\n",
              "    }\n",
              "\n",
              "    .dataframe thead th {\n",
              "        text-align: right;\n",
              "    }\n",
              "</style>\n",
              "<table border=\"1\" class=\"dataframe\">\n",
              "  <thead>\n",
              "    <tr style=\"text-align: right;\">\n",
              "      <th></th>\n",
              "      <th>length</th>\n",
              "      <th>diameter</th>\n",
              "      <th>height</th>\n",
              "      <th>whole_weight</th>\n",
              "      <th>shucked_weight</th>\n",
              "      <th>viscera_weight</th>\n",
              "      <th>shell_weight</th>\n",
              "      <th>rings</th>\n",
              "    </tr>\n",
              "  </thead>\n",
              "  <tbody>\n",
              "    <tr>\n",
              "      <th>count</th>\n",
              "      <td>4177.000000</td>\n",
              "      <td>4177.000000</td>\n",
              "      <td>4177.000000</td>\n",
              "      <td>4177.000000</td>\n",
              "      <td>4177.000000</td>\n",
              "      <td>4177.000000</td>\n",
              "      <td>4177.000000</td>\n",
              "      <td>4177.000000</td>\n",
              "    </tr>\n",
              "    <tr>\n",
              "      <th>mean</th>\n",
              "      <td>0.523992</td>\n",
              "      <td>0.407881</td>\n",
              "      <td>0.139516</td>\n",
              "      <td>0.828742</td>\n",
              "      <td>0.359367</td>\n",
              "      <td>0.180594</td>\n",
              "      <td>0.238831</td>\n",
              "      <td>9.933684</td>\n",
              "    </tr>\n",
              "    <tr>\n",
              "      <th>std</th>\n",
              "      <td>0.120093</td>\n",
              "      <td>0.099240</td>\n",
              "      <td>0.041827</td>\n",
              "      <td>0.490389</td>\n",
              "      <td>0.221963</td>\n",
              "      <td>0.109614</td>\n",
              "      <td>0.139203</td>\n",
              "      <td>3.224169</td>\n",
              "    </tr>\n",
              "    <tr>\n",
              "      <th>min</th>\n",
              "      <td>0.075000</td>\n",
              "      <td>0.055000</td>\n",
              "      <td>0.000000</td>\n",
              "      <td>0.002000</td>\n",
              "      <td>0.001000</td>\n",
              "      <td>0.000500</td>\n",
              "      <td>0.001500</td>\n",
              "      <td>1.000000</td>\n",
              "    </tr>\n",
              "    <tr>\n",
              "      <th>25%</th>\n",
              "      <td>0.450000</td>\n",
              "      <td>0.350000</td>\n",
              "      <td>0.115000</td>\n",
              "      <td>0.441500</td>\n",
              "      <td>0.186000</td>\n",
              "      <td>0.093500</td>\n",
              "      <td>0.130000</td>\n",
              "      <td>8.000000</td>\n",
              "    </tr>\n",
              "    <tr>\n",
              "      <th>50%</th>\n",
              "      <td>0.545000</td>\n",
              "      <td>0.425000</td>\n",
              "      <td>0.140000</td>\n",
              "      <td>0.799500</td>\n",
              "      <td>0.336000</td>\n",
              "      <td>0.171000</td>\n",
              "      <td>0.234000</td>\n",
              "      <td>9.000000</td>\n",
              "    </tr>\n",
              "    <tr>\n",
              "      <th>75%</th>\n",
              "      <td>0.615000</td>\n",
              "      <td>0.480000</td>\n",
              "      <td>0.165000</td>\n",
              "      <td>1.153000</td>\n",
              "      <td>0.502000</td>\n",
              "      <td>0.253000</td>\n",
              "      <td>0.329000</td>\n",
              "      <td>11.000000</td>\n",
              "    </tr>\n",
              "    <tr>\n",
              "      <th>max</th>\n",
              "      <td>0.815000</td>\n",
              "      <td>0.650000</td>\n",
              "      <td>1.130000</td>\n",
              "      <td>2.825500</td>\n",
              "      <td>1.488000</td>\n",
              "      <td>0.760000</td>\n",
              "      <td>1.005000</td>\n",
              "      <td>29.000000</td>\n",
              "    </tr>\n",
              "  </tbody>\n",
              "</table>\n",
              "</div>"
            ],
            "text/plain": [
              "            length     diameter  ...  shell_weight        rings\n",
              "count  4177.000000  4177.000000  ...   4177.000000  4177.000000\n",
              "mean      0.523992     0.407881  ...      0.238831     9.933684\n",
              "std       0.120093     0.099240  ...      0.139203     3.224169\n",
              "min       0.075000     0.055000  ...      0.001500     1.000000\n",
              "25%       0.450000     0.350000  ...      0.130000     8.000000\n",
              "50%       0.545000     0.425000  ...      0.234000     9.000000\n",
              "75%       0.615000     0.480000  ...      0.329000    11.000000\n",
              "max       0.815000     0.650000  ...      1.005000    29.000000\n",
              "\n",
              "[8 rows x 8 columns]"
            ]
          },
          "metadata": {
            "tags": []
          },
          "execution_count": 8
        }
      ]
    },
    {
      "cell_type": "markdown",
      "metadata": {
        "id": "-gFnZR6iLLPY",
        "colab_type": "text"
      },
      "source": [
        "## 2) Load a dataset from your local machine.\n",
        "Choose a second dataset from the \"Popular Datasets\" listing on UCI, but this time download it to your local machine instead of reading it in via the URL. Upload the file to Google Colab using the files tab in the left-hand sidebar or by importing `files` from `google.colab` The following link will be a useful resource if you can't remember the syntax: <https://towardsdatascience.com/3-ways-to-load-csv-files-into-colab-7c14fcbdcb92>\n",
        "\n",
        "- Answer all of the same bullet point questions from part 1 again on this new dataset. \n"
      ]
    },
    {
      "cell_type": "code",
      "metadata": {
        "id": "qUmwX-ZoM9cq",
        "colab_type": "code",
        "colab": {}
      },
      "source": [
        "# TODO your work here!\n",
        "# And note you should write comments, descriptions, and add new\n",
        "# code and text blocks as needed\n",
        "\n",
        "column_headers = ['sex', 'length', 'diameter', 'height', 'whole_weight', 'shucked_weight', 'viscera_weight', 'shell_weight', 'rings']\n",
        "\n",
        "df = pd.read_csv('abalone.data', names=column_headers)"
      ],
      "execution_count": null,
      "outputs": []
    },
    {
      "cell_type": "code",
      "metadata": {
        "id": "pYKguSRd7RP9",
        "colab_type": "code",
        "colab": {
          "base_uri": "https://localhost:8080/",
          "height": 221
        },
        "outputId": "adfb28ce-9af7-4327-a814-dbc22967b26f"
      },
      "source": [
        "print(df.shape)\n",
        "df.head()"
      ],
      "execution_count": 9,
      "outputs": [
        {
          "output_type": "stream",
          "text": [
            "(4177, 9)\n"
          ],
          "name": "stdout"
        },
        {
          "output_type": "execute_result",
          "data": {
            "text/html": [
              "<div>\n",
              "<style scoped>\n",
              "    .dataframe tbody tr th:only-of-type {\n",
              "        vertical-align: middle;\n",
              "    }\n",
              "\n",
              "    .dataframe tbody tr th {\n",
              "        vertical-align: top;\n",
              "    }\n",
              "\n",
              "    .dataframe thead th {\n",
              "        text-align: right;\n",
              "    }\n",
              "</style>\n",
              "<table border=\"1\" class=\"dataframe\">\n",
              "  <thead>\n",
              "    <tr style=\"text-align: right;\">\n",
              "      <th></th>\n",
              "      <th>sex</th>\n",
              "      <th>length</th>\n",
              "      <th>diameter</th>\n",
              "      <th>height</th>\n",
              "      <th>whole_weight</th>\n",
              "      <th>shucked_weight</th>\n",
              "      <th>viscera_weight</th>\n",
              "      <th>shell_weight</th>\n",
              "      <th>rings</th>\n",
              "    </tr>\n",
              "  </thead>\n",
              "  <tbody>\n",
              "    <tr>\n",
              "      <th>0</th>\n",
              "      <td>M</td>\n",
              "      <td>0.455</td>\n",
              "      <td>0.365</td>\n",
              "      <td>0.095</td>\n",
              "      <td>0.5140</td>\n",
              "      <td>0.2245</td>\n",
              "      <td>0.1010</td>\n",
              "      <td>0.150</td>\n",
              "      <td>15</td>\n",
              "    </tr>\n",
              "    <tr>\n",
              "      <th>1</th>\n",
              "      <td>M</td>\n",
              "      <td>0.350</td>\n",
              "      <td>0.265</td>\n",
              "      <td>0.090</td>\n",
              "      <td>0.2255</td>\n",
              "      <td>0.0995</td>\n",
              "      <td>0.0485</td>\n",
              "      <td>0.070</td>\n",
              "      <td>7</td>\n",
              "    </tr>\n",
              "    <tr>\n",
              "      <th>2</th>\n",
              "      <td>F</td>\n",
              "      <td>0.530</td>\n",
              "      <td>0.420</td>\n",
              "      <td>0.135</td>\n",
              "      <td>0.6770</td>\n",
              "      <td>0.2565</td>\n",
              "      <td>0.1415</td>\n",
              "      <td>0.210</td>\n",
              "      <td>9</td>\n",
              "    </tr>\n",
              "    <tr>\n",
              "      <th>3</th>\n",
              "      <td>M</td>\n",
              "      <td>0.440</td>\n",
              "      <td>0.365</td>\n",
              "      <td>0.125</td>\n",
              "      <td>0.5160</td>\n",
              "      <td>0.2155</td>\n",
              "      <td>0.1140</td>\n",
              "      <td>0.155</td>\n",
              "      <td>10</td>\n",
              "    </tr>\n",
              "    <tr>\n",
              "      <th>4</th>\n",
              "      <td>I</td>\n",
              "      <td>0.330</td>\n",
              "      <td>0.255</td>\n",
              "      <td>0.080</td>\n",
              "      <td>0.2050</td>\n",
              "      <td>0.0895</td>\n",
              "      <td>0.0395</td>\n",
              "      <td>0.055</td>\n",
              "      <td>7</td>\n",
              "    </tr>\n",
              "  </tbody>\n",
              "</table>\n",
              "</div>"
            ],
            "text/plain": [
              "  sex  length  diameter  ...  viscera_weight  shell_weight  rings\n",
              "0   M   0.455     0.365  ...          0.1010         0.150     15\n",
              "1   M   0.350     0.265  ...          0.0485         0.070      7\n",
              "2   F   0.530     0.420  ...          0.1415         0.210      9\n",
              "3   M   0.440     0.365  ...          0.1140         0.155     10\n",
              "4   I   0.330     0.255  ...          0.0395         0.055      7\n",
              "\n",
              "[5 rows x 9 columns]"
            ]
          },
          "metadata": {
            "tags": []
          },
          "execution_count": 9
        }
      ]
    },
    {
      "cell_type": "code",
      "metadata": {
        "id": "2H1QlCSw7ZPC",
        "colab_type": "code",
        "colab": {
          "base_uri": "https://localhost:8080/",
          "height": 204
        },
        "outputId": "d2aca39d-45f0-4874-f3a6-0614570a8783"
      },
      "source": [
        "df.tail()"
      ],
      "execution_count": 10,
      "outputs": [
        {
          "output_type": "execute_result",
          "data": {
            "text/html": [
              "<div>\n",
              "<style scoped>\n",
              "    .dataframe tbody tr th:only-of-type {\n",
              "        vertical-align: middle;\n",
              "    }\n",
              "\n",
              "    .dataframe tbody tr th {\n",
              "        vertical-align: top;\n",
              "    }\n",
              "\n",
              "    .dataframe thead th {\n",
              "        text-align: right;\n",
              "    }\n",
              "</style>\n",
              "<table border=\"1\" class=\"dataframe\">\n",
              "  <thead>\n",
              "    <tr style=\"text-align: right;\">\n",
              "      <th></th>\n",
              "      <th>sex</th>\n",
              "      <th>length</th>\n",
              "      <th>diameter</th>\n",
              "      <th>height</th>\n",
              "      <th>whole_weight</th>\n",
              "      <th>shucked_weight</th>\n",
              "      <th>viscera_weight</th>\n",
              "      <th>shell_weight</th>\n",
              "      <th>rings</th>\n",
              "    </tr>\n",
              "  </thead>\n",
              "  <tbody>\n",
              "    <tr>\n",
              "      <th>4172</th>\n",
              "      <td>F</td>\n",
              "      <td>0.565</td>\n",
              "      <td>0.450</td>\n",
              "      <td>0.165</td>\n",
              "      <td>0.8870</td>\n",
              "      <td>0.3700</td>\n",
              "      <td>0.2390</td>\n",
              "      <td>0.2490</td>\n",
              "      <td>11</td>\n",
              "    </tr>\n",
              "    <tr>\n",
              "      <th>4173</th>\n",
              "      <td>M</td>\n",
              "      <td>0.590</td>\n",
              "      <td>0.440</td>\n",
              "      <td>0.135</td>\n",
              "      <td>0.9660</td>\n",
              "      <td>0.4390</td>\n",
              "      <td>0.2145</td>\n",
              "      <td>0.2605</td>\n",
              "      <td>10</td>\n",
              "    </tr>\n",
              "    <tr>\n",
              "      <th>4174</th>\n",
              "      <td>M</td>\n",
              "      <td>0.600</td>\n",
              "      <td>0.475</td>\n",
              "      <td>0.205</td>\n",
              "      <td>1.1760</td>\n",
              "      <td>0.5255</td>\n",
              "      <td>0.2875</td>\n",
              "      <td>0.3080</td>\n",
              "      <td>9</td>\n",
              "    </tr>\n",
              "    <tr>\n",
              "      <th>4175</th>\n",
              "      <td>F</td>\n",
              "      <td>0.625</td>\n",
              "      <td>0.485</td>\n",
              "      <td>0.150</td>\n",
              "      <td>1.0945</td>\n",
              "      <td>0.5310</td>\n",
              "      <td>0.2610</td>\n",
              "      <td>0.2960</td>\n",
              "      <td>10</td>\n",
              "    </tr>\n",
              "    <tr>\n",
              "      <th>4176</th>\n",
              "      <td>M</td>\n",
              "      <td>0.710</td>\n",
              "      <td>0.555</td>\n",
              "      <td>0.195</td>\n",
              "      <td>1.9485</td>\n",
              "      <td>0.9455</td>\n",
              "      <td>0.3765</td>\n",
              "      <td>0.4950</td>\n",
              "      <td>12</td>\n",
              "    </tr>\n",
              "  </tbody>\n",
              "</table>\n",
              "</div>"
            ],
            "text/plain": [
              "     sex  length  diameter  ...  viscera_weight  shell_weight  rings\n",
              "4172   F   0.565     0.450  ...          0.2390        0.2490     11\n",
              "4173   M   0.590     0.440  ...          0.2145        0.2605     10\n",
              "4174   M   0.600     0.475  ...          0.2875        0.3080      9\n",
              "4175   F   0.625     0.485  ...          0.2610        0.2960     10\n",
              "4176   M   0.710     0.555  ...          0.3765        0.4950     12\n",
              "\n",
              "[5 rows x 9 columns]"
            ]
          },
          "metadata": {
            "tags": []
          },
          "execution_count": 10
        }
      ]
    },
    {
      "cell_type": "code",
      "metadata": {
        "id": "4zmGaMVE7gcs",
        "colab_type": "code",
        "colab": {
          "base_uri": "https://localhost:8080/",
          "height": 187
        },
        "outputId": "ad9b2088-9b43-4134-ea8e-47d9ef778869"
      },
      "source": [
        "df.isnull().sum()"
      ],
      "execution_count": 11,
      "outputs": [
        {
          "output_type": "execute_result",
          "data": {
            "text/plain": [
              "sex               0\n",
              "length            0\n",
              "diameter          0\n",
              "height            0\n",
              "whole_weight      0\n",
              "shucked_weight    0\n",
              "viscera_weight    0\n",
              "shell_weight      0\n",
              "rings             0\n",
              "dtype: int64"
            ]
          },
          "metadata": {
            "tags": []
          },
          "execution_count": 11
        }
      ]
    },
    {
      "cell_type": "code",
      "metadata": {
        "id": "TMaOLA3P7j90",
        "colab_type": "code",
        "colab": {
          "base_uri": "https://localhost:8080/",
          "height": 297
        },
        "outputId": "5b424c4c-0c10-4b76-9ab2-b42815eeaf71"
      },
      "source": [
        "df.describe()"
      ],
      "execution_count": 12,
      "outputs": [
        {
          "output_type": "execute_result",
          "data": {
            "text/html": [
              "<div>\n",
              "<style scoped>\n",
              "    .dataframe tbody tr th:only-of-type {\n",
              "        vertical-align: middle;\n",
              "    }\n",
              "\n",
              "    .dataframe tbody tr th {\n",
              "        vertical-align: top;\n",
              "    }\n",
              "\n",
              "    .dataframe thead th {\n",
              "        text-align: right;\n",
              "    }\n",
              "</style>\n",
              "<table border=\"1\" class=\"dataframe\">\n",
              "  <thead>\n",
              "    <tr style=\"text-align: right;\">\n",
              "      <th></th>\n",
              "      <th>length</th>\n",
              "      <th>diameter</th>\n",
              "      <th>height</th>\n",
              "      <th>whole_weight</th>\n",
              "      <th>shucked_weight</th>\n",
              "      <th>viscera_weight</th>\n",
              "      <th>shell_weight</th>\n",
              "      <th>rings</th>\n",
              "    </tr>\n",
              "  </thead>\n",
              "  <tbody>\n",
              "    <tr>\n",
              "      <th>count</th>\n",
              "      <td>4177.000000</td>\n",
              "      <td>4177.000000</td>\n",
              "      <td>4177.000000</td>\n",
              "      <td>4177.000000</td>\n",
              "      <td>4177.000000</td>\n",
              "      <td>4177.000000</td>\n",
              "      <td>4177.000000</td>\n",
              "      <td>4177.000000</td>\n",
              "    </tr>\n",
              "    <tr>\n",
              "      <th>mean</th>\n",
              "      <td>0.523992</td>\n",
              "      <td>0.407881</td>\n",
              "      <td>0.139516</td>\n",
              "      <td>0.828742</td>\n",
              "      <td>0.359367</td>\n",
              "      <td>0.180594</td>\n",
              "      <td>0.238831</td>\n",
              "      <td>9.933684</td>\n",
              "    </tr>\n",
              "    <tr>\n",
              "      <th>std</th>\n",
              "      <td>0.120093</td>\n",
              "      <td>0.099240</td>\n",
              "      <td>0.041827</td>\n",
              "      <td>0.490389</td>\n",
              "      <td>0.221963</td>\n",
              "      <td>0.109614</td>\n",
              "      <td>0.139203</td>\n",
              "      <td>3.224169</td>\n",
              "    </tr>\n",
              "    <tr>\n",
              "      <th>min</th>\n",
              "      <td>0.075000</td>\n",
              "      <td>0.055000</td>\n",
              "      <td>0.000000</td>\n",
              "      <td>0.002000</td>\n",
              "      <td>0.001000</td>\n",
              "      <td>0.000500</td>\n",
              "      <td>0.001500</td>\n",
              "      <td>1.000000</td>\n",
              "    </tr>\n",
              "    <tr>\n",
              "      <th>25%</th>\n",
              "      <td>0.450000</td>\n",
              "      <td>0.350000</td>\n",
              "      <td>0.115000</td>\n",
              "      <td>0.441500</td>\n",
              "      <td>0.186000</td>\n",
              "      <td>0.093500</td>\n",
              "      <td>0.130000</td>\n",
              "      <td>8.000000</td>\n",
              "    </tr>\n",
              "    <tr>\n",
              "      <th>50%</th>\n",
              "      <td>0.545000</td>\n",
              "      <td>0.425000</td>\n",
              "      <td>0.140000</td>\n",
              "      <td>0.799500</td>\n",
              "      <td>0.336000</td>\n",
              "      <td>0.171000</td>\n",
              "      <td>0.234000</td>\n",
              "      <td>9.000000</td>\n",
              "    </tr>\n",
              "    <tr>\n",
              "      <th>75%</th>\n",
              "      <td>0.615000</td>\n",
              "      <td>0.480000</td>\n",
              "      <td>0.165000</td>\n",
              "      <td>1.153000</td>\n",
              "      <td>0.502000</td>\n",
              "      <td>0.253000</td>\n",
              "      <td>0.329000</td>\n",
              "      <td>11.000000</td>\n",
              "    </tr>\n",
              "    <tr>\n",
              "      <th>max</th>\n",
              "      <td>0.815000</td>\n",
              "      <td>0.650000</td>\n",
              "      <td>1.130000</td>\n",
              "      <td>2.825500</td>\n",
              "      <td>1.488000</td>\n",
              "      <td>0.760000</td>\n",
              "      <td>1.005000</td>\n",
              "      <td>29.000000</td>\n",
              "    </tr>\n",
              "  </tbody>\n",
              "</table>\n",
              "</div>"
            ],
            "text/plain": [
              "            length     diameter  ...  shell_weight        rings\n",
              "count  4177.000000  4177.000000  ...   4177.000000  4177.000000\n",
              "mean      0.523992     0.407881  ...      0.238831     9.933684\n",
              "std       0.120093     0.099240  ...      0.139203     3.224169\n",
              "min       0.075000     0.055000  ...      0.001500     1.000000\n",
              "25%       0.450000     0.350000  ...      0.130000     8.000000\n",
              "50%       0.545000     0.425000  ...      0.234000     9.000000\n",
              "75%       0.615000     0.480000  ...      0.329000    11.000000\n",
              "max       0.815000     0.650000  ...      1.005000    29.000000\n",
              "\n",
              "[8 rows x 8 columns]"
            ]
          },
          "metadata": {
            "tags": []
          },
          "execution_count": 12
        }
      ]
    },
    {
      "cell_type": "code",
      "metadata": {
        "id": "YAXLErcSDMlt",
        "colab_type": "code",
        "colab": {
          "base_uri": "https://localhost:8080/",
          "height": 173
        },
        "outputId": "59696224-244c-4db9-ae61-b67ff4263b1d"
      },
      "source": [
        "df.describe(exclude='number')"
      ],
      "execution_count": 14,
      "outputs": [
        {
          "output_type": "execute_result",
          "data": {
            "text/html": [
              "<div>\n",
              "<style scoped>\n",
              "    .dataframe tbody tr th:only-of-type {\n",
              "        vertical-align: middle;\n",
              "    }\n",
              "\n",
              "    .dataframe tbody tr th {\n",
              "        vertical-align: top;\n",
              "    }\n",
              "\n",
              "    .dataframe thead th {\n",
              "        text-align: right;\n",
              "    }\n",
              "</style>\n",
              "<table border=\"1\" class=\"dataframe\">\n",
              "  <thead>\n",
              "    <tr style=\"text-align: right;\">\n",
              "      <th></th>\n",
              "      <th>sex</th>\n",
              "    </tr>\n",
              "  </thead>\n",
              "  <tbody>\n",
              "    <tr>\n",
              "      <th>count</th>\n",
              "      <td>4177</td>\n",
              "    </tr>\n",
              "    <tr>\n",
              "      <th>unique</th>\n",
              "      <td>3</td>\n",
              "    </tr>\n",
              "    <tr>\n",
              "      <th>top</th>\n",
              "      <td>M</td>\n",
              "    </tr>\n",
              "    <tr>\n",
              "      <th>freq</th>\n",
              "      <td>1528</td>\n",
              "    </tr>\n",
              "  </tbody>\n",
              "</table>\n",
              "</div>"
            ],
            "text/plain": [
              "         sex\n",
              "count   4177\n",
              "unique     3\n",
              "top        M\n",
              "freq    1528"
            ]
          },
          "metadata": {
            "tags": []
          },
          "execution_count": 14
        }
      ]
    },
    {
      "cell_type": "code",
      "metadata": {
        "id": "3rtOYSUcCxPw",
        "colab_type": "code",
        "colab": {
          "base_uri": "https://localhost:8080/",
          "height": 85
        },
        "outputId": "241a967c-1852-4461-eadc-961da06c5e3f"
      },
      "source": [
        "df['sex'].value_counts()"
      ],
      "execution_count": 13,
      "outputs": [
        {
          "output_type": "execute_result",
          "data": {
            "text/plain": [
              "M    1528\n",
              "I    1342\n",
              "F    1307\n",
              "Name: sex, dtype: int64"
            ]
          },
          "metadata": {
            "tags": []
          },
          "execution_count": 13
        }
      ]
    },
    {
      "cell_type": "markdown",
      "metadata": {
        "id": "kzI9zDP-8UhZ",
        "colab_type": "text"
      },
      "source": [
        "# Let's try it all with another data set..."
      ]
    },
    {
      "cell_type": "code",
      "metadata": {
        "id": "hs_GhzD-8Zt6",
        "colab_type": "code",
        "colab": {}
      },
      "source": [
        "column_headers = ['buying', 'maint', 'doors', 'persons', 'lug_boot', 'safety', 'acceptability']\n",
        "cars = pd.read_csv(\"https://archive.ics.uci.edu/ml/machine-learning-databases/car/car.data\", names=column_headers)\n"
      ],
      "execution_count": 18,
      "outputs": []
    },
    {
      "cell_type": "code",
      "metadata": {
        "id": "UxF_CeVNFwNs",
        "colab_type": "code",
        "colab": {
          "base_uri": "https://localhost:8080/",
          "height": 34
        },
        "outputId": "ef4a3559-cc75-4996-b516-ac290c229f09"
      },
      "source": [
        "print(cars.shape)"
      ],
      "execution_count": 19,
      "outputs": [
        {
          "output_type": "stream",
          "text": [
            "(1728, 7)\n"
          ],
          "name": "stdout"
        }
      ]
    },
    {
      "cell_type": "code",
      "metadata": {
        "id": "LfKngdqmF3oD",
        "colab_type": "code",
        "colab": {
          "base_uri": "https://localhost:8080/",
          "height": 204
        },
        "outputId": "42f1e5d0-dcbd-43ff-ec49-1b8b083ca541"
      },
      "source": [
        "cars.head()"
      ],
      "execution_count": 20,
      "outputs": [
        {
          "output_type": "execute_result",
          "data": {
            "text/html": [
              "<div>\n",
              "<style scoped>\n",
              "    .dataframe tbody tr th:only-of-type {\n",
              "        vertical-align: middle;\n",
              "    }\n",
              "\n",
              "    .dataframe tbody tr th {\n",
              "        vertical-align: top;\n",
              "    }\n",
              "\n",
              "    .dataframe thead th {\n",
              "        text-align: right;\n",
              "    }\n",
              "</style>\n",
              "<table border=\"1\" class=\"dataframe\">\n",
              "  <thead>\n",
              "    <tr style=\"text-align: right;\">\n",
              "      <th></th>\n",
              "      <th>buying</th>\n",
              "      <th>maint</th>\n",
              "      <th>doors</th>\n",
              "      <th>persons</th>\n",
              "      <th>lug_boot</th>\n",
              "      <th>safety</th>\n",
              "      <th>acceptability</th>\n",
              "    </tr>\n",
              "  </thead>\n",
              "  <tbody>\n",
              "    <tr>\n",
              "      <th>0</th>\n",
              "      <td>vhigh</td>\n",
              "      <td>vhigh</td>\n",
              "      <td>2</td>\n",
              "      <td>2</td>\n",
              "      <td>small</td>\n",
              "      <td>low</td>\n",
              "      <td>unacc</td>\n",
              "    </tr>\n",
              "    <tr>\n",
              "      <th>1</th>\n",
              "      <td>vhigh</td>\n",
              "      <td>vhigh</td>\n",
              "      <td>2</td>\n",
              "      <td>2</td>\n",
              "      <td>small</td>\n",
              "      <td>med</td>\n",
              "      <td>unacc</td>\n",
              "    </tr>\n",
              "    <tr>\n",
              "      <th>2</th>\n",
              "      <td>vhigh</td>\n",
              "      <td>vhigh</td>\n",
              "      <td>2</td>\n",
              "      <td>2</td>\n",
              "      <td>small</td>\n",
              "      <td>high</td>\n",
              "      <td>unacc</td>\n",
              "    </tr>\n",
              "    <tr>\n",
              "      <th>3</th>\n",
              "      <td>vhigh</td>\n",
              "      <td>vhigh</td>\n",
              "      <td>2</td>\n",
              "      <td>2</td>\n",
              "      <td>med</td>\n",
              "      <td>low</td>\n",
              "      <td>unacc</td>\n",
              "    </tr>\n",
              "    <tr>\n",
              "      <th>4</th>\n",
              "      <td>vhigh</td>\n",
              "      <td>vhigh</td>\n",
              "      <td>2</td>\n",
              "      <td>2</td>\n",
              "      <td>med</td>\n",
              "      <td>med</td>\n",
              "      <td>unacc</td>\n",
              "    </tr>\n",
              "  </tbody>\n",
              "</table>\n",
              "</div>"
            ],
            "text/plain": [
              "  buying  maint doors persons lug_boot safety acceptability\n",
              "0  vhigh  vhigh     2       2    small    low         unacc\n",
              "1  vhigh  vhigh     2       2    small    med         unacc\n",
              "2  vhigh  vhigh     2       2    small   high         unacc\n",
              "3  vhigh  vhigh     2       2      med    low         unacc\n",
              "4  vhigh  vhigh     2       2      med    med         unacc"
            ]
          },
          "metadata": {
            "tags": []
          },
          "execution_count": 20
        }
      ]
    },
    {
      "cell_type": "code",
      "metadata": {
        "id": "pF5ATGUQGFiq",
        "colab_type": "code",
        "colab": {
          "base_uri": "https://localhost:8080/",
          "height": 204
        },
        "outputId": "201dfff0-d03c-4d3f-b2fc-bbbaddddea6b"
      },
      "source": [
        "cars.tail()"
      ],
      "execution_count": 21,
      "outputs": [
        {
          "output_type": "execute_result",
          "data": {
            "text/html": [
              "<div>\n",
              "<style scoped>\n",
              "    .dataframe tbody tr th:only-of-type {\n",
              "        vertical-align: middle;\n",
              "    }\n",
              "\n",
              "    .dataframe tbody tr th {\n",
              "        vertical-align: top;\n",
              "    }\n",
              "\n",
              "    .dataframe thead th {\n",
              "        text-align: right;\n",
              "    }\n",
              "</style>\n",
              "<table border=\"1\" class=\"dataframe\">\n",
              "  <thead>\n",
              "    <tr style=\"text-align: right;\">\n",
              "      <th></th>\n",
              "      <th>buying</th>\n",
              "      <th>maint</th>\n",
              "      <th>doors</th>\n",
              "      <th>persons</th>\n",
              "      <th>lug_boot</th>\n",
              "      <th>safety</th>\n",
              "      <th>acceptability</th>\n",
              "    </tr>\n",
              "  </thead>\n",
              "  <tbody>\n",
              "    <tr>\n",
              "      <th>1723</th>\n",
              "      <td>low</td>\n",
              "      <td>low</td>\n",
              "      <td>5more</td>\n",
              "      <td>more</td>\n",
              "      <td>med</td>\n",
              "      <td>med</td>\n",
              "      <td>good</td>\n",
              "    </tr>\n",
              "    <tr>\n",
              "      <th>1724</th>\n",
              "      <td>low</td>\n",
              "      <td>low</td>\n",
              "      <td>5more</td>\n",
              "      <td>more</td>\n",
              "      <td>med</td>\n",
              "      <td>high</td>\n",
              "      <td>vgood</td>\n",
              "    </tr>\n",
              "    <tr>\n",
              "      <th>1725</th>\n",
              "      <td>low</td>\n",
              "      <td>low</td>\n",
              "      <td>5more</td>\n",
              "      <td>more</td>\n",
              "      <td>big</td>\n",
              "      <td>low</td>\n",
              "      <td>unacc</td>\n",
              "    </tr>\n",
              "    <tr>\n",
              "      <th>1726</th>\n",
              "      <td>low</td>\n",
              "      <td>low</td>\n",
              "      <td>5more</td>\n",
              "      <td>more</td>\n",
              "      <td>big</td>\n",
              "      <td>med</td>\n",
              "      <td>good</td>\n",
              "    </tr>\n",
              "    <tr>\n",
              "      <th>1727</th>\n",
              "      <td>low</td>\n",
              "      <td>low</td>\n",
              "      <td>5more</td>\n",
              "      <td>more</td>\n",
              "      <td>big</td>\n",
              "      <td>high</td>\n",
              "      <td>vgood</td>\n",
              "    </tr>\n",
              "  </tbody>\n",
              "</table>\n",
              "</div>"
            ],
            "text/plain": [
              "     buying maint  doors persons lug_boot safety acceptability\n",
              "1723    low   low  5more    more      med    med          good\n",
              "1724    low   low  5more    more      med   high         vgood\n",
              "1725    low   low  5more    more      big    low         unacc\n",
              "1726    low   low  5more    more      big    med          good\n",
              "1727    low   low  5more    more      big   high         vgood"
            ]
          },
          "metadata": {
            "tags": []
          },
          "execution_count": 21
        }
      ]
    },
    {
      "cell_type": "code",
      "metadata": {
        "id": "9NoiNTJ9GMIR",
        "colab_type": "code",
        "colab": {
          "base_uri": "https://localhost:8080/",
          "height": 153
        },
        "outputId": "dab54615-c7d7-4e57-c1e3-ac1189cd07bf"
      },
      "source": [
        "cars.isnull().sum()"
      ],
      "execution_count": 22,
      "outputs": [
        {
          "output_type": "execute_result",
          "data": {
            "text/plain": [
              "buying           0\n",
              "maint            0\n",
              "doors            0\n",
              "persons          0\n",
              "lug_boot         0\n",
              "safety           0\n",
              "acceptability    0\n",
              "dtype: int64"
            ]
          },
          "metadata": {
            "tags": []
          },
          "execution_count": 22
        }
      ]
    },
    {
      "cell_type": "code",
      "metadata": {
        "id": "ls-NLNVHGPev",
        "colab_type": "code",
        "colab": {
          "base_uri": "https://localhost:8080/",
          "height": 173
        },
        "outputId": "15fb6069-f6d7-4b07-8e46-bbc160b6a96b"
      },
      "source": [
        "cars.describe()"
      ],
      "execution_count": 23,
      "outputs": [
        {
          "output_type": "execute_result",
          "data": {
            "text/html": [
              "<div>\n",
              "<style scoped>\n",
              "    .dataframe tbody tr th:only-of-type {\n",
              "        vertical-align: middle;\n",
              "    }\n",
              "\n",
              "    .dataframe tbody tr th {\n",
              "        vertical-align: top;\n",
              "    }\n",
              "\n",
              "    .dataframe thead th {\n",
              "        text-align: right;\n",
              "    }\n",
              "</style>\n",
              "<table border=\"1\" class=\"dataframe\">\n",
              "  <thead>\n",
              "    <tr style=\"text-align: right;\">\n",
              "      <th></th>\n",
              "      <th>buying</th>\n",
              "      <th>maint</th>\n",
              "      <th>doors</th>\n",
              "      <th>persons</th>\n",
              "      <th>lug_boot</th>\n",
              "      <th>safety</th>\n",
              "      <th>acceptability</th>\n",
              "    </tr>\n",
              "  </thead>\n",
              "  <tbody>\n",
              "    <tr>\n",
              "      <th>count</th>\n",
              "      <td>1728</td>\n",
              "      <td>1728</td>\n",
              "      <td>1728</td>\n",
              "      <td>1728</td>\n",
              "      <td>1728</td>\n",
              "      <td>1728</td>\n",
              "      <td>1728</td>\n",
              "    </tr>\n",
              "    <tr>\n",
              "      <th>unique</th>\n",
              "      <td>4</td>\n",
              "      <td>4</td>\n",
              "      <td>4</td>\n",
              "      <td>3</td>\n",
              "      <td>3</td>\n",
              "      <td>3</td>\n",
              "      <td>4</td>\n",
              "    </tr>\n",
              "    <tr>\n",
              "      <th>top</th>\n",
              "      <td>med</td>\n",
              "      <td>med</td>\n",
              "      <td>3</td>\n",
              "      <td>2</td>\n",
              "      <td>med</td>\n",
              "      <td>med</td>\n",
              "      <td>unacc</td>\n",
              "    </tr>\n",
              "    <tr>\n",
              "      <th>freq</th>\n",
              "      <td>432</td>\n",
              "      <td>432</td>\n",
              "      <td>432</td>\n",
              "      <td>576</td>\n",
              "      <td>576</td>\n",
              "      <td>576</td>\n",
              "      <td>1210</td>\n",
              "    </tr>\n",
              "  </tbody>\n",
              "</table>\n",
              "</div>"
            ],
            "text/plain": [
              "       buying maint doors persons lug_boot safety acceptability\n",
              "count    1728  1728  1728    1728     1728   1728          1728\n",
              "unique      4     4     4       3        3      3             4\n",
              "top       med   med     3       2      med    med         unacc\n",
              "freq      432   432   432     576      576    576          1210"
            ]
          },
          "metadata": {
            "tags": []
          },
          "execution_count": 23
        }
      ]
    },
    {
      "cell_type": "code",
      "metadata": {
        "id": "WLQSC6x0GiJv",
        "colab_type": "code",
        "colab": {
          "base_uri": "https://localhost:8080/",
          "height": 102
        },
        "outputId": "8fc48a06-f0a2-490a-acaa-4151e089565b"
      },
      "source": [
        "cars['acceptability'].value_counts()"
      ],
      "execution_count": 24,
      "outputs": [
        {
          "output_type": "execute_result",
          "data": {
            "text/plain": [
              "unacc    1210\n",
              "acc       384\n",
              "good       69\n",
              "vgood      65\n",
              "Name: acceptability, dtype: int64"
            ]
          },
          "metadata": {
            "tags": []
          },
          "execution_count": 24
        }
      ]
    },
    {
      "cell_type": "markdown",
      "metadata": {
        "id": "mq_aQjxlM-u5",
        "colab_type": "text"
      },
      "source": [
        "## 3) Make Crosstabs of the Categorical Variables\n",
        "\n",
        "Take whichever of the above datasets has more categorical variables and use crosstabs to tabulate the different instances of the categorical variables.\n"
      ]
    },
    {
      "cell_type": "code",
      "metadata": {
        "id": "9-n9-LTM-18p",
        "colab_type": "code",
        "colab": {
          "base_uri": "https://localhost:8080/",
          "height": 235
        },
        "outputId": "30f16b23-b29d-4ffe-de44-80759fd51ddc"
      },
      "source": [
        "# Your Code Here\n",
        "\n",
        "pd.crosstab(cars['buying'], cars['maint'], margins=True)"
      ],
      "execution_count": 26,
      "outputs": [
        {
          "output_type": "execute_result",
          "data": {
            "text/html": [
              "<div>\n",
              "<style scoped>\n",
              "    .dataframe tbody tr th:only-of-type {\n",
              "        vertical-align: middle;\n",
              "    }\n",
              "\n",
              "    .dataframe tbody tr th {\n",
              "        vertical-align: top;\n",
              "    }\n",
              "\n",
              "    .dataframe thead th {\n",
              "        text-align: right;\n",
              "    }\n",
              "</style>\n",
              "<table border=\"1\" class=\"dataframe\">\n",
              "  <thead>\n",
              "    <tr style=\"text-align: right;\">\n",
              "      <th>maint</th>\n",
              "      <th>high</th>\n",
              "      <th>low</th>\n",
              "      <th>med</th>\n",
              "      <th>vhigh</th>\n",
              "      <th>All</th>\n",
              "    </tr>\n",
              "    <tr>\n",
              "      <th>buying</th>\n",
              "      <th></th>\n",
              "      <th></th>\n",
              "      <th></th>\n",
              "      <th></th>\n",
              "      <th></th>\n",
              "    </tr>\n",
              "  </thead>\n",
              "  <tbody>\n",
              "    <tr>\n",
              "      <th>high</th>\n",
              "      <td>108</td>\n",
              "      <td>108</td>\n",
              "      <td>108</td>\n",
              "      <td>108</td>\n",
              "      <td>432</td>\n",
              "    </tr>\n",
              "    <tr>\n",
              "      <th>low</th>\n",
              "      <td>108</td>\n",
              "      <td>108</td>\n",
              "      <td>108</td>\n",
              "      <td>108</td>\n",
              "      <td>432</td>\n",
              "    </tr>\n",
              "    <tr>\n",
              "      <th>med</th>\n",
              "      <td>108</td>\n",
              "      <td>108</td>\n",
              "      <td>108</td>\n",
              "      <td>108</td>\n",
              "      <td>432</td>\n",
              "    </tr>\n",
              "    <tr>\n",
              "      <th>vhigh</th>\n",
              "      <td>108</td>\n",
              "      <td>108</td>\n",
              "      <td>108</td>\n",
              "      <td>108</td>\n",
              "      <td>432</td>\n",
              "    </tr>\n",
              "    <tr>\n",
              "      <th>All</th>\n",
              "      <td>432</td>\n",
              "      <td>432</td>\n",
              "      <td>432</td>\n",
              "      <td>432</td>\n",
              "      <td>1728</td>\n",
              "    </tr>\n",
              "  </tbody>\n",
              "</table>\n",
              "</div>"
            ],
            "text/plain": [
              "maint   high  low  med  vhigh   All\n",
              "buying                             \n",
              "high     108  108  108    108   432\n",
              "low      108  108  108    108   432\n",
              "med      108  108  108    108   432\n",
              "vhigh    108  108  108    108   432\n",
              "All      432  432  432    432  1728"
            ]
          },
          "metadata": {
            "tags": []
          },
          "execution_count": 26
        }
      ]
    },
    {
      "cell_type": "markdown",
      "metadata": {
        "id": "ADg_ElDIIfrP",
        "colab_type": "text"
      },
      "source": [
        "# Hmm, strange that the cells are all equal, but maybe that's how the dataset was contstructed."
      ]
    },
    {
      "cell_type": "code",
      "metadata": {
        "id": "shLhc0P3IoKM",
        "colab_type": "code",
        "colab": {
          "base_uri": "https://localhost:8080/",
          "height": 102
        },
        "outputId": "d4dea99f-2f12-4c74-e4b4-881a01f05efc"
      },
      "source": [
        "cars['buying'].value_counts()"
      ],
      "execution_count": 28,
      "outputs": [
        {
          "output_type": "execute_result",
          "data": {
            "text/plain": [
              "med      432\n",
              "high     432\n",
              "vhigh    432\n",
              "low      432\n",
              "Name: buying, dtype: int64"
            ]
          },
          "metadata": {
            "tags": []
          },
          "execution_count": 28
        }
      ]
    },
    {
      "cell_type": "code",
      "metadata": {
        "id": "w8QL6F9LIwbt",
        "colab_type": "code",
        "colab": {
          "base_uri": "https://localhost:8080/",
          "height": 102
        },
        "outputId": "bf7f169f-12c2-424c-bbe0-35f5036d35f7"
      },
      "source": [
        "cars['maint'].value_counts()"
      ],
      "execution_count": 29,
      "outputs": [
        {
          "output_type": "execute_result",
          "data": {
            "text/plain": [
              "med      432\n",
              "high     432\n",
              "vhigh    432\n",
              "low      432\n",
              "Name: maint, dtype: int64"
            ]
          },
          "metadata": {
            "tags": []
          },
          "execution_count": 29
        }
      ]
    },
    {
      "cell_type": "markdown",
      "metadata": {
        "id": "pnF6YSgUI39f",
        "colab_type": "text"
      },
      "source": [
        "# All adds up to the same as the marginal values above."
      ]
    },
    {
      "cell_type": "code",
      "metadata": {
        "id": "eQ8BtJjYJCfQ",
        "colab_type": "code",
        "colab": {
          "base_uri": "https://localhost:8080/",
          "height": 235
        },
        "outputId": "75c44672-6da9-42f1-a20d-2a43bd1efe8f"
      },
      "source": [
        "pd.crosstab(cars['buying'], cars['doors'], margins=True)"
      ],
      "execution_count": 30,
      "outputs": [
        {
          "output_type": "execute_result",
          "data": {
            "text/html": [
              "<div>\n",
              "<style scoped>\n",
              "    .dataframe tbody tr th:only-of-type {\n",
              "        vertical-align: middle;\n",
              "    }\n",
              "\n",
              "    .dataframe tbody tr th {\n",
              "        vertical-align: top;\n",
              "    }\n",
              "\n",
              "    .dataframe thead th {\n",
              "        text-align: right;\n",
              "    }\n",
              "</style>\n",
              "<table border=\"1\" class=\"dataframe\">\n",
              "  <thead>\n",
              "    <tr style=\"text-align: right;\">\n",
              "      <th>doors</th>\n",
              "      <th>2</th>\n",
              "      <th>3</th>\n",
              "      <th>4</th>\n",
              "      <th>5more</th>\n",
              "      <th>All</th>\n",
              "    </tr>\n",
              "    <tr>\n",
              "      <th>buying</th>\n",
              "      <th></th>\n",
              "      <th></th>\n",
              "      <th></th>\n",
              "      <th></th>\n",
              "      <th></th>\n",
              "    </tr>\n",
              "  </thead>\n",
              "  <tbody>\n",
              "    <tr>\n",
              "      <th>high</th>\n",
              "      <td>108</td>\n",
              "      <td>108</td>\n",
              "      <td>108</td>\n",
              "      <td>108</td>\n",
              "      <td>432</td>\n",
              "    </tr>\n",
              "    <tr>\n",
              "      <th>low</th>\n",
              "      <td>108</td>\n",
              "      <td>108</td>\n",
              "      <td>108</td>\n",
              "      <td>108</td>\n",
              "      <td>432</td>\n",
              "    </tr>\n",
              "    <tr>\n",
              "      <th>med</th>\n",
              "      <td>108</td>\n",
              "      <td>108</td>\n",
              "      <td>108</td>\n",
              "      <td>108</td>\n",
              "      <td>432</td>\n",
              "    </tr>\n",
              "    <tr>\n",
              "      <th>vhigh</th>\n",
              "      <td>108</td>\n",
              "      <td>108</td>\n",
              "      <td>108</td>\n",
              "      <td>108</td>\n",
              "      <td>432</td>\n",
              "    </tr>\n",
              "    <tr>\n",
              "      <th>All</th>\n",
              "      <td>432</td>\n",
              "      <td>432</td>\n",
              "      <td>432</td>\n",
              "      <td>432</td>\n",
              "      <td>1728</td>\n",
              "    </tr>\n",
              "  </tbody>\n",
              "</table>\n",
              "</div>"
            ],
            "text/plain": [
              "doors     2    3    4  5more   All\n",
              "buying                            \n",
              "high    108  108  108    108   432\n",
              "low     108  108  108    108   432\n",
              "med     108  108  108    108   432\n",
              "vhigh   108  108  108    108   432\n",
              "All     432  432  432    432  1728"
            ]
          },
          "metadata": {
            "tags": []
          },
          "execution_count": 30
        }
      ]
    },
    {
      "cell_type": "code",
      "metadata": {
        "id": "U_JyrV98JO0F",
        "colab_type": "code",
        "colab": {
          "base_uri": "https://localhost:8080/",
          "height": 235
        },
        "outputId": "984af998-48ac-4995-ab1c-9c823e61ef39"
      },
      "source": [
        "pd.crosstab(cars['buying'], cars['persons'], margins=True)"
      ],
      "execution_count": 31,
      "outputs": [
        {
          "output_type": "execute_result",
          "data": {
            "text/html": [
              "<div>\n",
              "<style scoped>\n",
              "    .dataframe tbody tr th:only-of-type {\n",
              "        vertical-align: middle;\n",
              "    }\n",
              "\n",
              "    .dataframe tbody tr th {\n",
              "        vertical-align: top;\n",
              "    }\n",
              "\n",
              "    .dataframe thead th {\n",
              "        text-align: right;\n",
              "    }\n",
              "</style>\n",
              "<table border=\"1\" class=\"dataframe\">\n",
              "  <thead>\n",
              "    <tr style=\"text-align: right;\">\n",
              "      <th>persons</th>\n",
              "      <th>2</th>\n",
              "      <th>4</th>\n",
              "      <th>more</th>\n",
              "      <th>All</th>\n",
              "    </tr>\n",
              "    <tr>\n",
              "      <th>buying</th>\n",
              "      <th></th>\n",
              "      <th></th>\n",
              "      <th></th>\n",
              "      <th></th>\n",
              "    </tr>\n",
              "  </thead>\n",
              "  <tbody>\n",
              "    <tr>\n",
              "      <th>high</th>\n",
              "      <td>144</td>\n",
              "      <td>144</td>\n",
              "      <td>144</td>\n",
              "      <td>432</td>\n",
              "    </tr>\n",
              "    <tr>\n",
              "      <th>low</th>\n",
              "      <td>144</td>\n",
              "      <td>144</td>\n",
              "      <td>144</td>\n",
              "      <td>432</td>\n",
              "    </tr>\n",
              "    <tr>\n",
              "      <th>med</th>\n",
              "      <td>144</td>\n",
              "      <td>144</td>\n",
              "      <td>144</td>\n",
              "      <td>432</td>\n",
              "    </tr>\n",
              "    <tr>\n",
              "      <th>vhigh</th>\n",
              "      <td>144</td>\n",
              "      <td>144</td>\n",
              "      <td>144</td>\n",
              "      <td>432</td>\n",
              "    </tr>\n",
              "    <tr>\n",
              "      <th>All</th>\n",
              "      <td>576</td>\n",
              "      <td>576</td>\n",
              "      <td>576</td>\n",
              "      <td>1728</td>\n",
              "    </tr>\n",
              "  </tbody>\n",
              "</table>\n",
              "</div>"
            ],
            "text/plain": [
              "persons    2    4  more   All\n",
              "buying                       \n",
              "high     144  144   144   432\n",
              "low      144  144   144   432\n",
              "med      144  144   144   432\n",
              "vhigh    144  144   144   432\n",
              "All      576  576   576  1728"
            ]
          },
          "metadata": {
            "tags": []
          },
          "execution_count": 31
        }
      ]
    },
    {
      "cell_type": "code",
      "metadata": {
        "id": "QLbCBIrGJZM7",
        "colab_type": "code",
        "colab": {
          "base_uri": "https://localhost:8080/",
          "height": 235
        },
        "outputId": "2df1f02a-6750-4b84-fd08-0f805a9ea719"
      },
      "source": [
        "pd.crosstab(cars['buying'], cars['lug_boot'], margins=True)"
      ],
      "execution_count": 32,
      "outputs": [
        {
          "output_type": "execute_result",
          "data": {
            "text/html": [
              "<div>\n",
              "<style scoped>\n",
              "    .dataframe tbody tr th:only-of-type {\n",
              "        vertical-align: middle;\n",
              "    }\n",
              "\n",
              "    .dataframe tbody tr th {\n",
              "        vertical-align: top;\n",
              "    }\n",
              "\n",
              "    .dataframe thead th {\n",
              "        text-align: right;\n",
              "    }\n",
              "</style>\n",
              "<table border=\"1\" class=\"dataframe\">\n",
              "  <thead>\n",
              "    <tr style=\"text-align: right;\">\n",
              "      <th>lug_boot</th>\n",
              "      <th>big</th>\n",
              "      <th>med</th>\n",
              "      <th>small</th>\n",
              "      <th>All</th>\n",
              "    </tr>\n",
              "    <tr>\n",
              "      <th>buying</th>\n",
              "      <th></th>\n",
              "      <th></th>\n",
              "      <th></th>\n",
              "      <th></th>\n",
              "    </tr>\n",
              "  </thead>\n",
              "  <tbody>\n",
              "    <tr>\n",
              "      <th>high</th>\n",
              "      <td>144</td>\n",
              "      <td>144</td>\n",
              "      <td>144</td>\n",
              "      <td>432</td>\n",
              "    </tr>\n",
              "    <tr>\n",
              "      <th>low</th>\n",
              "      <td>144</td>\n",
              "      <td>144</td>\n",
              "      <td>144</td>\n",
              "      <td>432</td>\n",
              "    </tr>\n",
              "    <tr>\n",
              "      <th>med</th>\n",
              "      <td>144</td>\n",
              "      <td>144</td>\n",
              "      <td>144</td>\n",
              "      <td>432</td>\n",
              "    </tr>\n",
              "    <tr>\n",
              "      <th>vhigh</th>\n",
              "      <td>144</td>\n",
              "      <td>144</td>\n",
              "      <td>144</td>\n",
              "      <td>432</td>\n",
              "    </tr>\n",
              "    <tr>\n",
              "      <th>All</th>\n",
              "      <td>576</td>\n",
              "      <td>576</td>\n",
              "      <td>576</td>\n",
              "      <td>1728</td>\n",
              "    </tr>\n",
              "  </tbody>\n",
              "</table>\n",
              "</div>"
            ],
            "text/plain": [
              "lug_boot  big  med  small   All\n",
              "buying                         \n",
              "high      144  144    144   432\n",
              "low       144  144    144   432\n",
              "med       144  144    144   432\n",
              "vhigh     144  144    144   432\n",
              "All       576  576    576  1728"
            ]
          },
          "metadata": {
            "tags": []
          },
          "execution_count": 32
        }
      ]
    },
    {
      "cell_type": "code",
      "metadata": {
        "id": "AZf_17KAJhsp",
        "colab_type": "code",
        "colab": {
          "base_uri": "https://localhost:8080/",
          "height": 235
        },
        "outputId": "5ee93f43-ec81-44ab-c6ba-d2bd461c5f6d"
      },
      "source": [
        "pd.crosstab(cars['buying'], cars['safety'], margins=True)"
      ],
      "execution_count": 33,
      "outputs": [
        {
          "output_type": "execute_result",
          "data": {
            "text/html": [
              "<div>\n",
              "<style scoped>\n",
              "    .dataframe tbody tr th:only-of-type {\n",
              "        vertical-align: middle;\n",
              "    }\n",
              "\n",
              "    .dataframe tbody tr th {\n",
              "        vertical-align: top;\n",
              "    }\n",
              "\n",
              "    .dataframe thead th {\n",
              "        text-align: right;\n",
              "    }\n",
              "</style>\n",
              "<table border=\"1\" class=\"dataframe\">\n",
              "  <thead>\n",
              "    <tr style=\"text-align: right;\">\n",
              "      <th>safety</th>\n",
              "      <th>high</th>\n",
              "      <th>low</th>\n",
              "      <th>med</th>\n",
              "      <th>All</th>\n",
              "    </tr>\n",
              "    <tr>\n",
              "      <th>buying</th>\n",
              "      <th></th>\n",
              "      <th></th>\n",
              "      <th></th>\n",
              "      <th></th>\n",
              "    </tr>\n",
              "  </thead>\n",
              "  <tbody>\n",
              "    <tr>\n",
              "      <th>high</th>\n",
              "      <td>144</td>\n",
              "      <td>144</td>\n",
              "      <td>144</td>\n",
              "      <td>432</td>\n",
              "    </tr>\n",
              "    <tr>\n",
              "      <th>low</th>\n",
              "      <td>144</td>\n",
              "      <td>144</td>\n",
              "      <td>144</td>\n",
              "      <td>432</td>\n",
              "    </tr>\n",
              "    <tr>\n",
              "      <th>med</th>\n",
              "      <td>144</td>\n",
              "      <td>144</td>\n",
              "      <td>144</td>\n",
              "      <td>432</td>\n",
              "    </tr>\n",
              "    <tr>\n",
              "      <th>vhigh</th>\n",
              "      <td>144</td>\n",
              "      <td>144</td>\n",
              "      <td>144</td>\n",
              "      <td>432</td>\n",
              "    </tr>\n",
              "    <tr>\n",
              "      <th>All</th>\n",
              "      <td>576</td>\n",
              "      <td>576</td>\n",
              "      <td>576</td>\n",
              "      <td>1728</td>\n",
              "    </tr>\n",
              "  </tbody>\n",
              "</table>\n",
              "</div>"
            ],
            "text/plain": [
              "safety  high  low  med   All\n",
              "buying                      \n",
              "high     144  144  144   432\n",
              "low      144  144  144   432\n",
              "med      144  144  144   432\n",
              "vhigh    144  144  144   432\n",
              "All      576  576  576  1728"
            ]
          },
          "metadata": {
            "tags": []
          },
          "execution_count": 33
        }
      ]
    },
    {
      "cell_type": "code",
      "metadata": {
        "id": "yR-3djhpJkuz",
        "colab_type": "code",
        "colab": {
          "base_uri": "https://localhost:8080/",
          "height": 235
        },
        "outputId": "ecadd9e7-ae3b-4051-9074-4026117e6501"
      },
      "source": [
        "pd.crosstab(cars['buying'], cars['acceptability'], margins=True)"
      ],
      "execution_count": 34,
      "outputs": [
        {
          "output_type": "execute_result",
          "data": {
            "text/html": [
              "<div>\n",
              "<style scoped>\n",
              "    .dataframe tbody tr th:only-of-type {\n",
              "        vertical-align: middle;\n",
              "    }\n",
              "\n",
              "    .dataframe tbody tr th {\n",
              "        vertical-align: top;\n",
              "    }\n",
              "\n",
              "    .dataframe thead th {\n",
              "        text-align: right;\n",
              "    }\n",
              "</style>\n",
              "<table border=\"1\" class=\"dataframe\">\n",
              "  <thead>\n",
              "    <tr style=\"text-align: right;\">\n",
              "      <th>acceptability</th>\n",
              "      <th>acc</th>\n",
              "      <th>good</th>\n",
              "      <th>unacc</th>\n",
              "      <th>vgood</th>\n",
              "      <th>All</th>\n",
              "    </tr>\n",
              "    <tr>\n",
              "      <th>buying</th>\n",
              "      <th></th>\n",
              "      <th></th>\n",
              "      <th></th>\n",
              "      <th></th>\n",
              "      <th></th>\n",
              "    </tr>\n",
              "  </thead>\n",
              "  <tbody>\n",
              "    <tr>\n",
              "      <th>high</th>\n",
              "      <td>108</td>\n",
              "      <td>0</td>\n",
              "      <td>324</td>\n",
              "      <td>0</td>\n",
              "      <td>432</td>\n",
              "    </tr>\n",
              "    <tr>\n",
              "      <th>low</th>\n",
              "      <td>89</td>\n",
              "      <td>46</td>\n",
              "      <td>258</td>\n",
              "      <td>39</td>\n",
              "      <td>432</td>\n",
              "    </tr>\n",
              "    <tr>\n",
              "      <th>med</th>\n",
              "      <td>115</td>\n",
              "      <td>23</td>\n",
              "      <td>268</td>\n",
              "      <td>26</td>\n",
              "      <td>432</td>\n",
              "    </tr>\n",
              "    <tr>\n",
              "      <th>vhigh</th>\n",
              "      <td>72</td>\n",
              "      <td>0</td>\n",
              "      <td>360</td>\n",
              "      <td>0</td>\n",
              "      <td>432</td>\n",
              "    </tr>\n",
              "    <tr>\n",
              "      <th>All</th>\n",
              "      <td>384</td>\n",
              "      <td>69</td>\n",
              "      <td>1210</td>\n",
              "      <td>65</td>\n",
              "      <td>1728</td>\n",
              "    </tr>\n",
              "  </tbody>\n",
              "</table>\n",
              "</div>"
            ],
            "text/plain": [
              "acceptability  acc  good  unacc  vgood   All\n",
              "buying                                      \n",
              "high           108     0    324      0   432\n",
              "low             89    46    258     39   432\n",
              "med            115    23    268     26   432\n",
              "vhigh           72     0    360      0   432\n",
              "All            384    69   1210     65  1728"
            ]
          },
          "metadata": {
            "tags": []
          },
          "execution_count": 34
        }
      ]
    },
    {
      "cell_type": "markdown",
      "metadata": {
        "id": "OJ4t2IAk-6Vg",
        "colab_type": "text"
      },
      "source": [
        "## 4) Explore the distributions of the variables of the dataset using:\n",
        "- Histograms\n",
        "- Scatterplots\n",
        "- Density Plots"
      ]
    },
    {
      "cell_type": "markdown",
      "metadata": {
        "id": "AUzURCUxK8JV",
        "colab_type": "text"
      },
      "source": [
        "# Let's go back to the abalone data..."
      ]
    },
    {
      "cell_type": "code",
      "metadata": {
        "id": "DhES5WmH_NFt",
        "colab_type": "code",
        "colab": {
          "base_uri": "https://localhost:8080/",
          "height": 269
        },
        "outputId": "665289dd-b2a7-4b03-8f30-298d949824ec"
      },
      "source": [
        "# Your Code Here\n",
        "df['sex'].hist();"
      ],
      "execution_count": 36,
      "outputs": [
        {
          "output_type": "display_data",
          "data": {
            "image/png": "[encoded data removed]",
            "text/plain": [
              "<Figure size 432x288 with 1 Axes>"
            ]
          },
          "metadata": {
            "tags": [],
            "needs_background": "light"
          }
        }
      ]
    },
    {
      "cell_type": "code",
      "metadata": {
        "id": "PVFOI25ePq_Y",
        "colab_type": "code",
        "colab": {
          "base_uri": "https://localhost:8080/",
          "height": 265
        },
        "outputId": "944cb89b-3b69-49fc-b4fb-beddbcec1c58"
      },
      "source": [
        "df['rings'].hist(bins=30);"
      ],
      "execution_count": 45,
      "outputs": [
        {
          "output_type": "display_data",
          "data": {
            "image/png": "[encoded data removed]",
            "text/plain": [
              "<Figure size 432x288 with 1 Axes>"
            ]
          },
          "metadata": {
            "tags": [],
            "needs_background": "light"
          }
        }
      ]
    },
    {
      "cell_type": "code",
      "metadata": {
        "id": "-GLCS3hEP-BL",
        "colab_type": "code",
        "colab": {
          "base_uri": "https://localhost:8080/",
          "height": 282
        },
        "outputId": "2d8eb709-dcac-4b4d-c024-563873b09602"
      },
      "source": [
        "df['rings'].plot.density()"
      ],
      "execution_count": 46,
      "outputs": [
        {
          "output_type": "execute_result",
          "data": {
            "text/plain": [
              "<matplotlib.axes._subplots.AxesSubplot at 0x7f089b39fc50>"
            ]
          },
          "metadata": {
            "tags": []
          },
          "execution_count": 46
        },
        {
          "output_type": "display_data",
          "data": {
            "image/png": "[encoded data removed]",
            "text/plain": [
              "<Figure size 432x288 with 1 Axes>"
            ]
          },
          "metadata": {
            "tags": [],
            "needs_background": "light"
          }
        }
      ]
    },
    {
      "cell_type": "code",
      "metadata": {
        "id": "tc5KgecYOjm8",
        "colab_type": "code",
        "colab": {
          "base_uri": "https://localhost:8080/",
          "height": 279
        },
        "outputId": "b226198b-e19a-4da9-d732-6dfbf5fa82bc"
      },
      "source": [
        "df.plot.scatter('sex', 'whole_weight');"
      ],
      "execution_count": 38,
      "outputs": [
        {
          "output_type": "display_data",
          "data": {
            "image/png": "[encoded data removed]",
            "text/plain": [
              "<Figure size 432x288 with 1 Axes>"
            ]
          },
          "metadata": {
            "tags": [],
            "needs_background": "light"
          }
        }
      ]
    },
    {
      "cell_type": "code",
      "metadata": {
        "id": "HdY6Y4zrOzVm",
        "colab_type": "code",
        "colab": {
          "base_uri": "https://localhost:8080/",
          "height": 279
        },
        "outputId": "a5c8f4f8-297c-4282-a069-7235ca1df0c2"
      },
      "source": [
        "df.plot.scatter('diameter', 'whole_weight');"
      ],
      "execution_count": 39,
      "outputs": [
        {
          "output_type": "display_data",
          "data": {
            "image/png": "[encoded data removed]",
            "text/plain": [
              "<Figure size 432x288 with 1 Axes>"
            ]
          },
          "metadata": {
            "tags": [],
            "needs_background": "light"
          }
        }
      ]
    },
    {
      "cell_type": "code",
      "metadata": {
        "id": "K6tvc9EYPJe-",
        "colab_type": "code",
        "colab": {
          "base_uri": "https://localhost:8080/",
          "height": 279
        },
        "outputId": "f432f79b-dc2d-4ab3-8c0b-4511a09cd07d"
      },
      "source": [
        "df.plot.scatter('length', 'whole_weight');"
      ],
      "execution_count": 41,
      "outputs": [
        {
          "output_type": "display_data",
          "data": {
            "image/png": "[encoded data removed]",
            "text/plain": [
              "<Figure size 432x288 with 1 Axes>"
            ]
          },
          "metadata": {
            "tags": [],
            "needs_background": "light"
          }
        }
      ]
    },
    {
      "cell_type": "code",
      "metadata": {
        "id": "8misvrT1O6Nc",
        "colab_type": "code",
        "colab": {
          "base_uri": "https://localhost:8080/",
          "height": 280
        },
        "outputId": "1bc0cca8-49b2-4a8b-8407-defb87ee75a2"
      },
      "source": [
        "df.plot.scatter('shucked_weight','whole_weight');"
      ],
      "execution_count": 40,
      "outputs": [
        {
          "output_type": "display_data",
          "data": {
            "image/png": "[encoded data removed]",
            "text/plain": [
              "<Figure size 432x288 with 1 Axes>"
            ]
          },
          "metadata": {
            "tags": [],
            "needs_background": "light"
          }
        }
      ]
    },
    {
      "cell_type": "code",
      "metadata": {
        "id": "sP84L8LtPV7u",
        "colab_type": "code",
        "colab": {
          "base_uri": "https://localhost:8080/",
          "height": 281
        },
        "outputId": "e608a42d-ab48-481a-c4bf-7779341134df"
      },
      "source": [
        "df.plot.scatter('whole_weight','rings');"
      ],
      "execution_count": 42,
      "outputs": [
        {
          "output_type": "display_data",
          "data": {
            "image/png": "[encoded data removed]",
            "text/plain": [
              "<Figure size 432x288 with 1 Axes>"
            ]
          },
          "metadata": {
            "tags": [],
            "needs_background": "light"
          }
        }
      ]
    },
    {
      "cell_type": "code",
      "metadata": {
        "id": "HK-Rb58APe3G",
        "colab_type": "code",
        "colab": {
          "base_uri": "https://localhost:8080/",
          "height": 281
        },
        "outputId": "de2745f5-5243-461f-cb7e-5db396be85f9"
      },
      "source": [
        "df.plot.scatter('diameter', 'rings');"
      ],
      "execution_count": 43,
      "outputs": [
        {
          "output_type": "display_data",
          "data": {
            "image/png": "[encoded data removed]",
            "text/plain": [
              "<Figure size 432x288 with 1 Axes>"
            ]
          },
          "metadata": {
            "tags": [],
            "needs_background": "light"
          }
        }
      ]
    },
    {
      "cell_type": "code",
      "metadata": {
        "id": "fPjV1-MVQRUx",
        "colab_type": "code",
        "colab": {
          "base_uri": "https://localhost:8080/",
          "height": 265
        },
        "outputId": "e21739e6-e04d-4a3d-fc3d-99ef005b5181"
      },
      "source": [
        "df['whole_weight'].plot.density();"
      ],
      "execution_count": 47,
      "outputs": [
        {
          "output_type": "display_data",
          "data": {
            "image/png": "[encoded data removed]",
            "text/plain": [
              "<Figure size 432x288 with 1 Axes>"
            ]
          },
          "metadata": {
            "tags": [],
            "needs_background": "light"
          }
        }
      ]
    },
    {
      "cell_type": "markdown",
      "metadata": {
        "id": "zvH0CxkIQ6Hf",
        "colab_type": "text"
      },
      "source": [
        "# Now back to the cars data again:"
      ]
    },
    {
      "cell_type": "code",
      "metadata": {
        "id": "VJ0iwUXZQ5u_",
        "colab_type": "code",
        "colab": {
          "base_uri": "https://localhost:8080/",
          "height": 265
        },
        "outputId": "8c69d22e-e86a-427c-9bcd-073669dae4ef"
      },
      "source": [
        "cars['buying'].hist();"
      ],
      "execution_count": 49,
      "outputs": [
        {
          "output_type": "display_data",
          "data": {
            "image/png": "[encoded data removed]",
            "text/plain": [
              "<Figure size 432x288 with 1 Axes>"
            ]
          },
          "metadata": {
            "tags": [],
            "needs_background": "light"
          }
        }
      ]
    },
    {
      "cell_type": "markdown",
      "metadata": {
        "id": "XKjNu_C8RGDY",
        "colab_type": "text"
      },
      "source": [
        "# Well that's boring. Just as we previously saw, the dataset seems to have constructed that way intentionally."
      ]
    },
    {
      "cell_type": "code",
      "metadata": {
        "id": "LNNc0_y0RUcW",
        "colab_type": "code",
        "colab": {
          "base_uri": "https://localhost:8080/",
          "height": 285
        },
        "outputId": "21905a7c-8908-4ae7-c536-4edd87fb8625"
      },
      "source": [
        "cars['lug_boot'].hist()"
      ],
      "execution_count": 50,
      "outputs": [
        {
          "output_type": "execute_result",
          "data": {
            "text/plain": [
              "<matplotlib.axes._subplots.AxesSubplot at 0x7f089b601be0>"
            ]
          },
          "metadata": {
            "tags": []
          },
          "execution_count": 50
        },
        {
          "output_type": "display_data",
          "data": {
            "image/png": "[encoded data removed]",
            "text/plain": [
              "<Figure size 432x288 with 1 Axes>"
            ]
          },
          "metadata": {
            "tags": [],
            "needs_background": "light"
          }
        }
      ]
    },
    {
      "cell_type": "code",
      "metadata": {
        "id": "6F1An3dcRfyQ",
        "colab_type": "code",
        "colab": {
          "base_uri": "https://localhost:8080/",
          "height": 279
        },
        "outputId": "c2d64d0b-88dc-4e45-ff12-da227d78f6e4"
      },
      "source": [
        "cars.plot.scatter('buying', 'acceptability');"
      ],
      "execution_count": 51,
      "outputs": [
        {
          "output_type": "display_data",
          "data": {
            "image/png": "[encoded data removed]",
            "text/plain": [
              "<Figure size 432x288 with 1 Axes>"
            ]
          },
          "metadata": {
            "tags": [],
            "needs_background": "light"
          }
        }
      ]
    },
    {
      "cell_type": "markdown",
      "metadata": {
        "id": "Gj9BAoGQR042",
        "colab_type": "text"
      },
      "source": [
        "# Would be nice to re-order the acceptability categories in a more intuitive way."
      ]
    },
    {
      "cell_type": "markdown",
      "metadata": {
        "id": "LXXTzpgp_N0q",
        "colab_type": "text"
      },
      "source": [
        "## 5) Create at least one visualization from a crosstab:\n",
        "\n",
        "Remember that a crosstab is just a dataframe and can be manipulated in the same way by row index, column, index, or column/row/cell position.\n"
      ]
    },
    {
      "cell_type": "code",
      "metadata": {
        "id": "kBQKXHUa_VxM",
        "colab_type": "code",
        "colab": {
          "base_uri": "https://localhost:8080/",
          "height": 296
        },
        "outputId": "b21b4e60-2f86-443a-e400-b243b2d5397f"
      },
      "source": [
        "# Your Code Here\n",
        "pd.crosstab(cars['acceptability'], cars['buying']).plot()"
      ],
      "execution_count": 55,
      "outputs": [
        {
          "output_type": "execute_result",
          "data": {
            "text/plain": [
              "<matplotlib.axes._subplots.AxesSubplot at 0x7f0891c2bba8>"
            ]
          },
          "metadata": {
            "tags": []
          },
          "execution_count": 55
        },
        {
          "output_type": "display_data",
          "data": {
            "image/png": "[encoded data removed]",
            "text/plain": [
              "<Figure size 432x288 with 1 Axes>"
            ]
          },
          "metadata": {
            "tags": [],
            "needs_background": "light"
          }
        }
      ]
    },
    {
      "cell_type": "code",
      "metadata": {
        "id": "83hQxBGGStpt",
        "colab_type": "code",
        "colab": {
          "base_uri": "https://localhost:8080/",
          "height": 296
        },
        "outputId": "15aadf61-33a8-4bf0-f22a-98b9e8ab17e5"
      },
      "source": [
        "pd.crosstab(cars['buying'], cars['acceptability']).plot()"
      ],
      "execution_count": 56,
      "outputs": [
        {
          "output_type": "execute_result",
          "data": {
            "text/plain": [
              "<matplotlib.axes._subplots.AxesSubplot at 0x7f0891b47cf8>"
            ]
          },
          "metadata": {
            "tags": []
          },
          "execution_count": 56
        },
        {
          "output_type": "display_data",
          "data": {
            "image/png": "[encoded data removed]",
            "text/plain": [
              "<Figure size 432x288 with 1 Axes>"
            ]
          },
          "metadata": {
            "tags": [],
            "needs_background": "light"
          }
        }
      ]
    },
    {
      "cell_type": "markdown",
      "metadata": {
        "id": "V-AnJnX_S7du",
        "colab_type": "text"
      },
      "source": [
        "# I'd be more interested in the information conveyed in the first of these two plots.\n",
        "# In either of these, however, it would be nice to reorder the categories so they are sequential categorical, and not just ordered alphabetically. "
      ]
    },
    {
      "cell_type": "markdown",
      "metadata": {
        "id": "MZCxTwKuReV9",
        "colab_type": "text"
      },
      "source": [
        "## Stretch Goals \n",
        "\n",
        "The following additional study tasks are optional, they are intended to give you an opportunity to stretch yourself beyond the main requirements of the assignment. You can pick and choose from the below, you do not need to complete them in any particular order.\n",
        "\n",
        "### - Practice Exploring other Datasets\n",
        "\n",
        "### -  Try using the Seaborn plotting library's \"Pairplot\" functionality in order to explore all of the possible histograms and scatterplots of your dataset all at once:\n",
        "\n",
        "[Seaborn Pairplot](https://seaborn.pydata.org/generated/seaborn.pairplot.html)\n",
        "\n",
        "### - Turn some of the continuous variables into categorical variables by binning the values using:\n",
        "- [pd.cut()](https://pandas.pydata.org/pandas-docs/version/0.23.4/generated/pandas.cut.html)\n",
        "- [pd.qcut()](https://pandas.pydata.org/pandas-docs/stable/reference/api/pandas.qcut.html)\n",
        "- <https://stackoverflow.com/questions/30211923/what-is-the-difference-between-pandas-qcut-and-pandas-cut>\n",
        "\n",
        "And then use crosstabs to compare/visualize these binned variables against the other variables.\n",
        "\n",
        "\n",
        "### - Other types and sources of data\n",
        "Not all data comes in a nice single file - for example, image classification involves handling lots of image files. You still will probably want labels for them, so you may have tabular data in addition to the image blobs - and the images may be reduced in resolution and even fit in a regular csv as a bunch of numbers.\n",
        "\n",
        "If you're interested in natural language processing and analyzing text, that is another example where, while it can be put in a csv, you may end up loading much larger raw data and generating features that can then be thought of in a more standard tabular fashion.\n",
        "\n",
        "Overall you will in the course of learning data science deal with loading data in a variety of ways. Another common way to get data is from a database - most modern applications are backed by one or more databases, which you can query to get data to analyze. We'll cover this more in our data engineering unit.\n",
        "\n",
        "How does data get in the database? Most applications generate logs - text files with lots and lots of records of each use of the application. Databases are often populated based on these files, but in some situations you may directly analyze log files. The usual way to do this is with command line (Unix) tools - command lines are intimidating, so don't expect to learn them all at once, but depending on your interests it can be useful to practice.\n",
        "\n",
        "One last major source of data is APIs: https://github.com/toddmotto/public-apis\n",
        "\n",
        "API stands for Application Programming Interface, and while originally meant e.g. the way an application interfaced with the GUI or other aspects of an operating system, now it largely refers to online services that let you query and retrieve data. You can essentially think of most of them as \"somebody else's database\" - you have (usually limited) access.\n",
        "\n",
        "*Stretch goal* - research one of the above extended forms of data/data loading. See if you can get a basic example working in a notebook. Image, text, or (public) APIs are probably more tractable - databases are interesting, but there aren't many publicly accessible and they require a great deal of setup."
      ]
    },
    {
      "cell_type": "code",
      "metadata": {
        "id": "f4QP6--JBXNK",
        "colab_type": "code",
        "colab": {}
      },
      "source": [
        ""
      ],
      "execution_count": null,
      "outputs": []
    }
  ]
}