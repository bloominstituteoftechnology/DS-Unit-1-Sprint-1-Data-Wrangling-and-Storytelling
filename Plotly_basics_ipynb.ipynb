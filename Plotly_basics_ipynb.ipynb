{
  "nbformat": 4,
  "nbformat_minor": 0,
  "metadata": {
    "colab": {
      "name": "Plotly-basics-ipynb",
      "provenance": [],
      "authorship_tag": "ABX9TyMlflFFOSSxu9ia0nWAfOPR",
      "include_colab_link": true
    },
    "kernelspec": {
      "name": "python3",
      "display_name": "Python 3"
    }
  },
  "cells": [
    {
      "cell_type": "markdown",
      "metadata": {
        "id": "view-in-github",
        "colab_type": "text"
      },
      "source": [
        "<a href=\"https://colab.research.google.com/github/masonnystrom/DS-Unit-1-Sprint-1-Data-Wrangling-and-Storytelling/blob/master/Plotly_basics_ipynb.ipynb\" target=\"_parent\"><img src=\"https://colab.research.google.com/assets/colab-badge.svg\" alt=\"Open In Colab\"/></a>"
      ]
    },
    {
      "cell_type": "code",
      "metadata": {
        "id": "Kh7dSeuOYaK5",
        "colab_type": "code",
        "colab": {}
      },
      "source": [
        "import numpy as np\n",
        "import pandas as pd\n",
        "import plotly\n",
        "import plotly.express as px\n",
        "# df = pd.read_csv('winequality-red.csv') # ,sep=';')\n",
        "# df.head()"
      ],
      "execution_count": 0,
      "outputs": []
    },
    {
      "cell_type": "code",
      "metadata": {
        "id": "mNGPEJZtYi2L",
        "colab_type": "code",
        "colab": {}
      },
      "source": [
        "df['sulphates_rank'] = pd.qcut(df['sulphates'],2)\n",
        "df['alcohol_rank'] = pd.qcut(df['alcohol'],2)\n",
        "Y ='alcohol'\n",
        "X ='quality'\n",
        "\n",
        "# Summarize the count statistics in df_count\n",
        "df_count = df['quality'].value_counts()\n",
        "df_count = pd.DataFrame(df_count).reset_index()\n",
        "df_count.columns = ['Quality','Count']"
      ],
      "execution_count": 0,
      "outputs": []
    },
    {
      "cell_type": "markdown",
      "metadata": {
        "id": "JD0HLBTrYxw2",
        "colab_type": "text"
      },
      "source": [
        "#Bar chart\n"
      ]
    },
    {
      "cell_type": "code",
      "metadata": {
        "id": "Q09l_MO_Yyhe",
        "colab_type": "code",
        "colab": {
          "base_uri": "https://localhost:8080/",
          "height": 198
        },
        "outputId": "2e94551e-46d5-47da-a3f9-561e69c476d2"
      },
      "source": [
        "fig = px.bar(df_count, x='Quality', y='Count',width=500, height=400)\n",
        "fig.show()\n",
        "plotly.offline.plot(fig, filename='/plotly_bar.html') "
      ],
      "execution_count": 3,
      "outputs": [
        {
          "output_type": "error",
          "ename": "NameError",
          "evalue": "ignored",
          "traceback": [
            "\u001b[0;31m---------------------------------------------------------------------------\u001b[0m",
            "\u001b[0;31mNameError\u001b[0m                                 Traceback (most recent call last)",
            "\u001b[0;32m<ipython-input-3-205bcb95ab2a>\u001b[0m in \u001b[0;36m<module>\u001b[0;34m()\u001b[0m\n\u001b[0;32m----> 1\u001b[0;31m \u001b[0mfig\u001b[0m \u001b[0;34m=\u001b[0m \u001b[0mpx\u001b[0m\u001b[0;34m.\u001b[0m\u001b[0mbar\u001b[0m\u001b[0;34m(\u001b[0m\u001b[0mdf_count\u001b[0m\u001b[0;34m,\u001b[0m \u001b[0mx\u001b[0m\u001b[0;34m=\u001b[0m\u001b[0;34m'Quality'\u001b[0m\u001b[0;34m,\u001b[0m \u001b[0my\u001b[0m\u001b[0;34m=\u001b[0m\u001b[0;34m'Count'\u001b[0m\u001b[0;34m,\u001b[0m\u001b[0mwidth\u001b[0m\u001b[0;34m=\u001b[0m\u001b[0;36m500\u001b[0m\u001b[0;34m,\u001b[0m \u001b[0mheight\u001b[0m\u001b[0;34m=\u001b[0m\u001b[0;36m400\u001b[0m\u001b[0;34m)\u001b[0m\u001b[0;34m\u001b[0m\u001b[0;34m\u001b[0m\u001b[0m\n\u001b[0m\u001b[1;32m      2\u001b[0m \u001b[0mfig\u001b[0m\u001b[0;34m.\u001b[0m\u001b[0mshow\u001b[0m\u001b[0;34m(\u001b[0m\u001b[0;34m)\u001b[0m\u001b[0;34m\u001b[0m\u001b[0;34m\u001b[0m\u001b[0m\n\u001b[1;32m      3\u001b[0m \u001b[0mplotly\u001b[0m\u001b[0;34m.\u001b[0m\u001b[0moffline\u001b[0m\u001b[0;34m.\u001b[0m\u001b[0mplot\u001b[0m\u001b[0;34m(\u001b[0m\u001b[0mfig\u001b[0m\u001b[0;34m,\u001b[0m \u001b[0mfilename\u001b[0m\u001b[0;34m=\u001b[0m\u001b[0;34m'/plotly_bar.html'\u001b[0m\u001b[0;34m)\u001b[0m\u001b[0;34m\u001b[0m\u001b[0;34m\u001b[0m\u001b[0m\n",
            "\u001b[0;31mNameError\u001b[0m: name 'df_count' is not defined"
          ]
        }
      ]
    },
    {
      "cell_type": "markdown",
      "metadata": {
        "id": "E0SjOhbtY78w",
        "colab_type": "text"
      },
      "source": [
        "#Pie Chart"
      ]
    },
    {
      "cell_type": "code",
      "metadata": {
        "id": "5AnjkWvTY1XS",
        "colab_type": "code",
        "colab": {}
      },
      "source": [
        "fig = px.pie(df_pie, values='Count',names='Quality', title='Wine quality',\n",
        "      width=600, height=400)\n",
        "fig.show()\n",
        "plotly.offline.plot(fig, filename='/plotly_pie.html') "
      ],
      "execution_count": 0,
      "outputs": []
    },
    {
      "cell_type": "markdown",
      "metadata": {
        "id": "C_-z8ixrY_zw",
        "colab_type": "text"
      },
      "source": [
        "#histogram"
      ]
    },
    {
      "cell_type": "code",
      "metadata": {
        "id": "lwmkHmA2ZAWy",
        "colab_type": "code",
        "colab": {}
      },
      "source": [
        "fig = px.histogram(df, x=\"quality\",\n",
        "            width=600, height=400)\n",
        "fig.show()\n",
        "plotly.offline.plot(fig, filename='/plotly_histogram.html') "
      ],
      "execution_count": 0,
      "outputs": []
    },
    {
      "cell_type": "markdown",
      "metadata": {
        "id": "okNUnO5LZDBe",
        "colab_type": "text"
      },
      "source": [
        "# Boxplot0"
      ]
    },
    {
      "cell_type": "code",
      "metadata": {
        "id": "5iKq9vQ-ZELg",
        "colab_type": "code",
        "colab": {}
      },
      "source": [
        "fig = px.box(df, y=\"alcohol\",width=600, height=400)\n",
        "fig.show()\n",
        "plotly.offline.plot(fig, filename='plotly_box0.html') "
      ],
      "execution_count": 0,
      "outputs": []
    },
    {
      "cell_type": "markdown",
      "metadata": {
        "id": "h-jLMBbIZG_t",
        "colab_type": "text"
      },
      "source": [
        "#BoxPlot1"
      ]
    },
    {
      "cell_type": "code",
      "metadata": {
        "id": "gGSNz9-dZH_N",
        "colab_type": "code",
        "colab": {}
      },
      "source": [
        "fig = px.box(df, x=\"quality\", y=\"alcohol\",width=600, height=400)\n",
        "fig.show()\n",
        "plotly.offline.plot(fig, filename='plotly_box1.html') "
      ],
      "execution_count": 0,
      "outputs": []
    },
    {
      "cell_type": "markdown",
      "metadata": {
        "id": "tVubYOVnZKQ3",
        "colab_type": "text"
      },
      "source": [
        "#BoxPlot2"
      ]
    },
    {
      "cell_type": "code",
      "metadata": {
        "id": "9WRQhFzzZLX5",
        "colab_type": "code",
        "colab": {}
      },
      "source": [
        "\n",
        "fig = px.box(df, x=\"quality\", y=\"alcohol\",points=\"all\",width=800, height=400)\n",
        "fig.show()\n",
        "plotly.offline.plot(fig, filename='plotly_box2.html') "
      ],
      "execution_count": 0,
      "outputs": []
    },
    {
      "cell_type": "markdown",
      "metadata": {
        "id": "-cTWZhZQZNio",
        "colab_type": "text"
      },
      "source": [
        "BoxPlot3\n"
      ]
    },
    {
      "cell_type": "code",
      "metadata": {
        "id": "cT6-FBfaZOVe",
        "colab_type": "code",
        "colab": {}
      },
      "source": [
        "fig = px.box(df, x=\"quality\", y=\"alcohol\", \n",
        "             color=\"sulphates_rank\",width=800, height=400)\n",
        "fig.update_traces(quartilemethod=\"exclusive\") # or \"inclusive\", or \"linear\" by default\n",
        "fig.show()\n",
        "plotly.offline.plot(fig, filename='plotly_box3.html') "
      ],
      "execution_count": 0,
      "outputs": []
    },
    {
      "cell_type": "markdown",
      "metadata": {
        "id": "6PBeu_jxZPe7",
        "colab_type": "text"
      },
      "source": [
        "#ViolinPlot"
      ]
    },
    {
      "cell_type": "code",
      "metadata": {
        "id": "vKb_5iDWZQJo",
        "colab_type": "code",
        "colab": {}
      },
      "source": [
        "fig = px.violin(df, y=\"alcohol\",width=600, height=400)\n",
        "fig.show()\n",
        "plotly.offline.plot(fig, filename='violin0.html')"
      ],
      "execution_count": 0,
      "outputs": []
    },
    {
      "cell_type": "markdown",
      "metadata": {
        "id": "afkdqB08ZSFJ",
        "colab_type": "text"
      },
      "source": [
        "#ViolinPlot 1"
      ]
    },
    {
      "cell_type": "code",
      "metadata": {
        "id": "Pt35y0vvZVKP",
        "colab_type": "code",
        "colab": {}
      },
      "source": [
        "# draw box plot inside the violin\n",
        "fig = px.violin(df, y=\"alcohol\", box=True, \n",
        "                points='all',width=600, height=400)\n",
        "fig.show()\n",
        "plotly.offline.plot(fig, filename='violin1.html')"
      ],
      "execution_count": 0,
      "outputs": []
    },
    {
      "cell_type": "markdown",
      "metadata": {
        "id": "eZzCtbZHZWEq",
        "colab_type": "text"
      },
      "source": [
        "# Violin plot 3"
      ]
    },
    {
      "cell_type": "code",
      "metadata": {
        "id": "m408LSQzZddI",
        "colab_type": "code",
        "colab": {}
      },
      "source": [
        "Y = 'alcohol'\n",
        "X = 'quality'\n",
        "uniqueX = df[X].unique()\n",
        "uniqueX = np.sort(uniqueX)\n",
        "uniqueX\n",
        "\n",
        "import plotly.graph_objects as go\n",
        "fig = go.Figure()\n",
        "\n",
        "for i in uniqueX:\n",
        "    fig.add_trace(go.Violin(x=df[X][df[X] == i],\n",
        "                            y=df[Y][df[X] == i],\n",
        "                            name=str(i),\n",
        "                            box_visible=True,\n",
        "                            meanline_visible=True))\n",
        "\n",
        "fig.show()\n",
        "plotly.offline.plot(fig, filename='violin3.html')"
      ],
      "execution_count": 0,
      "outputs": []
    },
    {
      "cell_type": "markdown",
      "metadata": {
        "id": "IOMwJrCtZeD5",
        "colab_type": "text"
      },
      "source": [
        "# Ridge Plot"
      ]
    },
    {
      "cell_type": "code",
      "metadata": {
        "id": "1bfMMKg9Zgot",
        "colab_type": "code",
        "colab": {}
      },
      "source": [
        "# Using Plotly Express\n",
        "px.violin(df,y='quality',x='alcohol', color='quality',\n",
        "          orientation='h').update_traces(side='positive',width=2)\n",
        "plotly.offline.plot(fig, filename='ridgeline.html')"
      ],
      "execution_count": 0,
      "outputs": []
    },
    {
      "cell_type": "markdown",
      "metadata": {
        "id": "15LhJr5PZheV",
        "colab_type": "text"
      },
      "source": [
        "# Bubble Chart"
      ]
    },
    {
      "cell_type": "code",
      "metadata": {
        "id": "QwVZH6w2ZlBR",
        "colab_type": "code",
        "colab": {}
      },
      "source": [
        "df_mean = df.groupby('quality')['alcohol'].mean().reset_index()\n",
        "df_mean\n",
        "\n",
        "fig = px.scatter(df_mean, x=\"quality\", y=\"alcohol\",\n",
        "                 size=\"quality\", color = 'quality',\n",
        "                 hover_name ='quality',\n",
        "                 log_x=True, size_max=60,width=600, height=400)\n",
        "fig.show()\n",
        "plotly.offline.plot(fig, filename='bubble.html')"
      ],
      "execution_count": 0,
      "outputs": []
    },
    {
      "cell_type": "markdown",
      "metadata": {
        "id": "S0Kb16T_ZpyW",
        "colab_type": "text"
      },
      "source": [
        "#ScatterPlot"
      ]
    },
    {
      "cell_type": "code",
      "metadata": {
        "id": "5RBsDmEEZqlu",
        "colab_type": "code",
        "colab": {}
      },
      "source": [
        "fig = px.scatter(df, x=\"alcohol\", y='sulphates', \n",
        "                 color=\"quality\",\n",
        "                 size='quality', \n",
        "                 width=600, height=400)\n",
        "fig.show()\n",
        "plotly.offline.plot(fig, filename='scatter.html')"
      ],
      "execution_count": 0,
      "outputs": []
    },
    {
      "cell_type": "markdown",
      "metadata": {
        "id": "ydT5p2QAZsqy",
        "colab_type": "text"
      },
      "source": [
        "#Density Plot"
      ]
    },
    {
      "cell_type": "code",
      "metadata": {
        "id": "EWW_YGbJZtTm",
        "colab_type": "code",
        "colab": {}
      },
      "source": [
        "fig = go.Figure(go.Histogram2dContour(\n",
        "        x = df[X],\n",
        "        y = df[Y]))\n",
        "fig.show()\n",
        "plotly.offline.plot(fig, filename='density.html')"
      ],
      "execution_count": 0,
      "outputs": []
    }
  ]
}