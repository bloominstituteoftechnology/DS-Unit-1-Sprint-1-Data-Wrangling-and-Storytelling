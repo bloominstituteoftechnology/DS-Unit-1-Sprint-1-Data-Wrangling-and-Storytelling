{
  "nbformat": 4,
  "nbformat_minor": 0,
  "metadata": {
    "colab": {
      "name": "Sprint_dataset_analysis.ipynb",
      "provenance": [],
      "collapsed_sections": [],
      "authorship_tag": "ABX9TyN7Fx+6x18MZxBasieqLnVU",
      "include_colab_link": true
    },
    "kernelspec": {
      "name": "python3",
      "display_name": "Python 3"
    }
  },
  "cells": [
    {
      "cell_type": "markdown",
      "metadata": {
        "id": "view-in-github",
        "colab_type": "text"
      },
      "source": [
        "<a href=\"https://colab.research.google.com/github/mjplacroix/DS-Unit-1-Sprint-1-Data-Wrangling-and-Storytelling/blob/master/Sprint_dataset_analysis.ipynb\" target=\"_parent\"><img src=\"https://colab.research.google.com/assets/colab-badge.svg\" alt=\"Open In Colab\"/></a>"
      ]
    },
    {
      "cell_type": "code",
      "metadata": {
        "id": "jEVmrw9nGrdp",
        "colab_type": "code",
        "colab": {}
      },
      "source": [
        "import pandas as pd\n",
        "import numpy as np"
      ],
      "execution_count": 0,
      "outputs": []
    },
    {
      "cell_type": "code",
      "metadata": {
        "id": "pCQDlFrkHqgY",
        "colab_type": "code",
        "outputId": "eaa6104c-131c-4c27-df43-302c047bf5b2",
        "colab": {
          "base_uri": "https://localhost:8080/",
          "height": 35
        }
      },
      "source": [
        "eth_df = pd.read_csv('https://raw.githubusercontent.com/mjplacroix/lambda_project_1/master/ETH_master_dataset_features.csv')\n",
        "eth_df.shape"
      ],
      "execution_count": 156,
      "outputs": [
        {
          "output_type": "execute_result",
          "data": {
            "text/plain": [
              "(1645, 26)"
            ]
          },
          "metadata": {
            "tags": []
          },
          "execution_count": 156
        }
      ]
    },
    {
      "cell_type": "code",
      "metadata": {
        "id": "fWMIA5mhHwac",
        "colab_type": "code",
        "outputId": "55712353-d813-4d8b-fd36-2daee9cac319",
        "colab": {
          "base_uri": "https://localhost:8080/",
          "height": 497
        }
      },
      "source": [
        "eth_df.dtypes"
      ],
      "execution_count": 157,
      "outputs": [
        {
          "output_type": "execute_result",
          "data": {
            "text/plain": [
              "Date(UTC)               object\n",
              "NetworkUtilization     float64\n",
              "TransactionFee         float64\n",
              "BlockDifficulty        float64\n",
              "NetworkHash            float64\n",
              "Uncles                   int64\n",
              "BlockCountRewards        int64\n",
              "BlockReward            float64\n",
              "GasUsed                  int64\n",
              "GasLimit                 int64\n",
              "Value (Wei)              int64\n",
              "BlockTime              float64\n",
              "BlockSize                int64\n",
              "AddressCount             int64\n",
              "TxGrowth                 int64\n",
              "Ethersupply2           float64\n",
              "Supply                 float64\n",
              "MarketCap              float64\n",
              "Price                  float64\n",
              "Year                     int64\n",
              "Month                    int64\n",
              "Day                      int64\n",
              "Price_tomorrow         float64\n",
              "Price_change_amount    float64\n",
              "Price_change             int64\n",
              "Percent                float64\n",
              "dtype: object"
            ]
          },
          "metadata": {
            "tags": []
          },
          "execution_count": 157
        }
      ]
    },
    {
      "cell_type": "markdown",
      "metadata": {
        "id": "czB4CFQiBaz3",
        "colab_type": "text"
      },
      "source": [
        "### MAE measure - discover how many days MAE >= 50 in last 50-100-200-365 days. "
      ]
    },
    {
      "cell_type": "code",
      "metadata": {
        "id": "iA9yk02q27Ly",
        "colab_type": "code",
        "colab": {}
      },
      "source": [
        "eth_df_length = range(1, len(eth_df['Price']))\n",
        "over50 = []\n",
        "\n",
        "\n",
        "for i in eth_df_length:\n",
        "  if eth_df.iloc[i]['Price_change_amount'] >= 50:\n",
        "    over50.append(eth_df.iloc[i]['Date(UTC)'])"
      ],
      "execution_count": 0,
      "outputs": []
    },
    {
      "cell_type": "code",
      "metadata": {
        "id": "D1am_FCx3qq7",
        "colab_type": "code",
        "outputId": "3eceba68-7ff4-4f8a-c6f6-6ec58575bdc9",
        "colab": {
          "base_uri": "https://localhost:8080/",
          "height": 497
        }
      },
      "source": [
        "over50"
      ],
      "execution_count": 159,
      "outputs": [
        {
          "output_type": "execute_result",
          "data": {
            "text/plain": [
              "['2017-06-10',\n",
              " '2017-06-12',\n",
              " '2017-11-24',\n",
              " '2017-12-11',\n",
              " '2017-12-12',\n",
              " '2017-12-18',\n",
              " '2018-01-02',\n",
              " '2018-01-03',\n",
              " '2018-01-07',\n",
              " '2018-01-09',\n",
              " '2018-01-12',\n",
              " '2018-01-13',\n",
              " '2018-01-20',\n",
              " '2018-01-24',\n",
              " '2018-01-27',\n",
              " '2018-01-28',\n",
              " '2018-02-03',\n",
              " '2018-02-06',\n",
              " '2018-02-08',\n",
              " '2018-02-09',\n",
              " '2018-02-12',\n",
              " '2018-02-14',\n",
              " '2018-02-23',\n",
              " '2018-04-12',\n",
              " '2018-04-24',\n",
              " '2018-05-03',\n",
              " '2018-05-29']"
            ]
          },
          "metadata": {
            "tags": []
          },
          "execution_count": 159
        }
      ]
    },
    {
      "cell_type": "code",
      "metadata": {
        "id": "y5BkORqHHyKM",
        "colab_type": "code",
        "outputId": "61a030e5-82fb-4be4-ec56-0953cea7fa22",
        "colab": {
          "base_uri": "https://localhost:8080/",
          "height": 35
        }
      },
      "source": [
        "# splitting into train (1315), validate (165), and test (165)\n",
        "train = eth_df[eth_df['Date(UTC)'] < '2019-03-01']\n",
        "val  = eth_df[eth_df['Date(UTC)'] >= '2019-03-01']\n",
        "test = val[val['Date(UTC)'] > '2019-08-15']\n",
        "val = val[val['Date(UTC)'] <= '2019-08-15']\n",
        "train.shape, val.shape, test.shape"
      ],
      "execution_count": 160,
      "outputs": [
        {
          "output_type": "execute_result",
          "data": {
            "text/plain": [
              "((1310, 26), (168, 26), (167, 26))"
            ]
          },
          "metadata": {
            "tags": []
          },
          "execution_count": 160
        }
      ]
    },
    {
      "cell_type": "code",
      "metadata": {
        "id": "BdRVST7cIHZs",
        "colab_type": "code",
        "colab": {}
      },
      "source": [
        "# dropping datetime column\n",
        "train = train.drop(['Date(UTC)'], axis=1)\n",
        "val = val.drop(['Date(UTC)'], axis=1)\n",
        "test = test.drop(['Date(UTC)'], axis=1)"
      ],
      "execution_count": 0,
      "outputs": []
    },
    {
      "cell_type": "code",
      "metadata": {
        "id": "6myTt6wKIHXG",
        "colab_type": "code",
        "colab": {}
      },
      "source": [
        "# dropping MarketCap column since it too closely mimics price\n",
        "train = train.drop(['MarketCap'], axis=1)\n",
        "val = val.drop(['MarketCap'], axis=1)\n",
        "test = test.drop(['MarketCap'], axis=1)"
      ],
      "execution_count": 0,
      "outputs": []
    },
    {
      "cell_type": "code",
      "metadata": {
        "id": "mqE3nl-5UDfu",
        "colab_type": "code",
        "colab": {}
      },
      "source": [
        "# # dropping MarketCap column since it too closely mimics price\n",
        "# train = train.drop(['Price'], axis=1)\n",
        "# val = val.drop(['Price'], axis=1)\n",
        "# test = test.drop(['Price'], axis=1)"
      ],
      "execution_count": 0,
      "outputs": []
    },
    {
      "cell_type": "code",
      "metadata": {
        "id": "7l6d8oMaIHU7",
        "colab_type": "code",
        "outputId": "bd546e1d-6cd5-4c92-db1a-ae3b93a5b9f1",
        "colab": {
          "base_uri": "https://localhost:8080/",
          "height": 237
        }
      },
      "source": [
        "train.head()"
      ],
      "execution_count": 164,
      "outputs": [
        {
          "output_type": "execute_result",
          "data": {
            "text/html": [
              "<div>\n",
              "<style scoped>\n",
              "    .dataframe tbody tr th:only-of-type {\n",
              "        vertical-align: middle;\n",
              "    }\n",
              "\n",
              "    .dataframe tbody tr th {\n",
              "        vertical-align: top;\n",
              "    }\n",
              "\n",
              "    .dataframe thead th {\n",
              "        text-align: right;\n",
              "    }\n",
              "</style>\n",
              "<table border=\"1\" class=\"dataframe\">\n",
              "  <thead>\n",
              "    <tr style=\"text-align: right;\">\n",
              "      <th></th>\n",
              "      <th>NetworkUtilization</th>\n",
              "      <th>TransactionFee</th>\n",
              "      <th>BlockDifficulty</th>\n",
              "      <th>NetworkHash</th>\n",
              "      <th>Uncles</th>\n",
              "      <th>BlockCountRewards</th>\n",
              "      <th>BlockReward</th>\n",
              "      <th>GasUsed</th>\n",
              "      <th>GasLimit</th>\n",
              "      <th>Value (Wei)</th>\n",
              "      <th>BlockTime</th>\n",
              "      <th>BlockSize</th>\n",
              "      <th>AddressCount</th>\n",
              "      <th>TxGrowth</th>\n",
              "      <th>Ethersupply2</th>\n",
              "      <th>Supply</th>\n",
              "      <th>Price</th>\n",
              "      <th>Year</th>\n",
              "      <th>Month</th>\n",
              "      <th>Day</th>\n",
              "      <th>Price_tomorrow</th>\n",
              "      <th>Price_change_amount</th>\n",
              "      <th>Price_change</th>\n",
              "      <th>Percent</th>\n",
              "    </tr>\n",
              "  </thead>\n",
              "  <tbody>\n",
              "    <tr>\n",
              "      <th>0</th>\n",
              "      <td>0.0</td>\n",
              "      <td>0.0</td>\n",
              "      <td>0.121</td>\n",
              "      <td>11.5297</td>\n",
              "      <td>1299</td>\n",
              "      <td>6912</td>\n",
              "      <td>39316.09375</td>\n",
              "      <td>0</td>\n",
              "      <td>0</td>\n",
              "      <td>0</td>\n",
              "      <td>4.46</td>\n",
              "      <td>644</td>\n",
              "      <td>9205</td>\n",
              "      <td>8893</td>\n",
              "      <td>7.204931e+07</td>\n",
              "      <td>7.204931e+07</td>\n",
              "      <td>0.0</td>\n",
              "      <td>2015</td>\n",
              "      <td>7</td>\n",
              "      <td>30</td>\n",
              "      <td>0.0</td>\n",
              "      <td>0.0</td>\n",
              "      <td>0</td>\n",
              "      <td>0.0</td>\n",
              "    </tr>\n",
              "    <tr>\n",
              "      <th>1</th>\n",
              "      <td>0.0</td>\n",
              "      <td>0.0</td>\n",
              "      <td>0.603</td>\n",
              "      <td>51.4594</td>\n",
              "      <td>511</td>\n",
              "      <td>6863</td>\n",
              "      <td>36191.71875</td>\n",
              "      <td>0</td>\n",
              "      <td>0</td>\n",
              "      <td>0</td>\n",
              "      <td>12.58</td>\n",
              "      <td>582</td>\n",
              "      <td>9361</td>\n",
              "      <td>0</td>\n",
              "      <td>7.208550e+07</td>\n",
              "      <td>7.208550e+07</td>\n",
              "      <td>0.0</td>\n",
              "      <td>2015</td>\n",
              "      <td>7</td>\n",
              "      <td>31</td>\n",
              "      <td>0.0</td>\n",
              "      <td>0.0</td>\n",
              "      <td>0</td>\n",
              "      <td>0.0</td>\n",
              "    </tr>\n",
              "    <tr>\n",
              "      <th>2</th>\n",
              "      <td>0.0</td>\n",
              "      <td>0.0</td>\n",
              "      <td>0.887</td>\n",
              "      <td>57.7845</td>\n",
              "      <td>334</td>\n",
              "      <td>5293</td>\n",
              "      <td>27705.93750</td>\n",
              "      <td>0</td>\n",
              "      <td>0</td>\n",
              "      <td>0</td>\n",
              "      <td>16.34</td>\n",
              "      <td>575</td>\n",
              "      <td>9476</td>\n",
              "      <td>0</td>\n",
              "      <td>7.211320e+07</td>\n",
              "      <td>7.211320e+07</td>\n",
              "      <td>0.0</td>\n",
              "      <td>2015</td>\n",
              "      <td>8</td>\n",
              "      <td>1</td>\n",
              "      <td>0.0</td>\n",
              "      <td>0.0</td>\n",
              "      <td>0</td>\n",
              "      <td>0.0</td>\n",
              "    </tr>\n",
              "    <tr>\n",
              "      <th>3</th>\n",
              "      <td>0.0</td>\n",
              "      <td>0.0</td>\n",
              "      <td>1.020</td>\n",
              "      <td>67.9224</td>\n",
              "      <td>394</td>\n",
              "      <td>5358</td>\n",
              "      <td>28223.43750</td>\n",
              "      <td>0</td>\n",
              "      <td>0</td>\n",
              "      <td>0</td>\n",
              "      <td>16.12</td>\n",
              "      <td>581</td>\n",
              "      <td>9563</td>\n",
              "      <td>0</td>\n",
              "      <td>7.214143e+07</td>\n",
              "      <td>7.214143e+07</td>\n",
              "      <td>0.0</td>\n",
              "      <td>2015</td>\n",
              "      <td>8</td>\n",
              "      <td>2</td>\n",
              "      <td>0.0</td>\n",
              "      <td>0.0</td>\n",
              "      <td>0</td>\n",
              "      <td>0.0</td>\n",
              "    </tr>\n",
              "    <tr>\n",
              "      <th>4</th>\n",
              "      <td>0.0</td>\n",
              "      <td>0.0</td>\n",
              "      <td>1.126</td>\n",
              "      <td>74.5737</td>\n",
              "      <td>443</td>\n",
              "      <td>5280</td>\n",
              "      <td>27976.71875</td>\n",
              "      <td>0</td>\n",
              "      <td>0</td>\n",
              "      <td>0</td>\n",
              "      <td>16.37</td>\n",
              "      <td>587</td>\n",
              "      <td>9639</td>\n",
              "      <td>0</td>\n",
              "      <td>7.216940e+07</td>\n",
              "      <td>7.216940e+07</td>\n",
              "      <td>0.0</td>\n",
              "      <td>2015</td>\n",
              "      <td>8</td>\n",
              "      <td>3</td>\n",
              "      <td>0.0</td>\n",
              "      <td>0.0</td>\n",
              "      <td>0</td>\n",
              "      <td>0.0</td>\n",
              "    </tr>\n",
              "  </tbody>\n",
              "</table>\n",
              "</div>"
            ],
            "text/plain": [
              "   NetworkUtilization  TransactionFee  ...  Price_change  Percent\n",
              "0                 0.0             0.0  ...             0      0.0\n",
              "1                 0.0             0.0  ...             0      0.0\n",
              "2                 0.0             0.0  ...             0      0.0\n",
              "3                 0.0             0.0  ...             0      0.0\n",
              "4                 0.0             0.0  ...             0      0.0\n",
              "\n",
              "[5 rows x 24 columns]"
            ]
          },
          "metadata": {
            "tags": []
          },
          "execution_count": 164
        }
      ]
    },
    {
      "cell_type": "code",
      "metadata": {
        "id": "fh8N3Ll1IHR4",
        "colab_type": "code",
        "outputId": "73369d6e-fa9e-4a0e-cc38-1e474fe79bb8",
        "colab": {
          "base_uri": "https://localhost:8080/",
          "height": 35
        }
      },
      "source": [
        "# Tomorrow price is the target\n",
        "target = 'Price_tomorrow'\n",
        "\n",
        "# filtering out target\n",
        "train_features = train.drop(columns=[target])\n",
        "features = train_features.columns.tolist()\n",
        "\n",
        "# separating in X features matrix and y target vector\n",
        "X_train = train[features]\n",
        "y_train = train[target]\n",
        "X_val = val[features]\n",
        "y_val = val[target]\n",
        "X_test = test[features]\n",
        "y_test = test[target]\n",
        "\n",
        "X_train.shape, X_val.shape, X_test.shape"
      ],
      "execution_count": 165,
      "outputs": [
        {
          "output_type": "execute_result",
          "data": {
            "text/plain": [
              "((1310, 23), (168, 23), (167, 23))"
            ]
          },
          "metadata": {
            "tags": []
          },
          "execution_count": 165
        }
      ]
    },
    {
      "cell_type": "code",
      "metadata": {
        "id": "8PAIkjCTJo9d",
        "colab_type": "code",
        "outputId": "101b9b65-0ef1-4f3e-eaae-c4b2be285c26",
        "colab": {
          "base_uri": "https://localhost:8080/",
          "height": 124
        }
      },
      "source": [
        "X_train.columns"
      ],
      "execution_count": 166,
      "outputs": [
        {
          "output_type": "execute_result",
          "data": {
            "text/plain": [
              "Index(['NetworkUtilization', 'TransactionFee', 'BlockDifficulty',\n",
              "       'NetworkHash', 'Uncles', 'BlockCountRewards', 'BlockReward', 'GasUsed',\n",
              "       'GasLimit', 'Value (Wei)', 'BlockTime', 'BlockSize', 'AddressCount',\n",
              "       'TxGrowth', 'Ethersupply2', 'Supply', 'Price', 'Year', 'Month', 'Day',\n",
              "       'Price_change_amount', 'Price_change', 'Percent'],\n",
              "      dtype='object')"
            ]
          },
          "metadata": {
            "tags": []
          },
          "execution_count": 166
        }
      ]
    },
    {
      "cell_type": "markdown",
      "metadata": {
        "id": "LneBAd5aITUP",
        "colab_type": "text"
      },
      "source": [
        "## Initial Baselines\n",
        "\n",
        "- Simple majority mean"
      ]
    },
    {
      "cell_type": "code",
      "metadata": {
        "id": "lHQ7jnauIHPi",
        "colab_type": "code",
        "outputId": "fe9ed2fd-c7b3-445f-980e-f7762c4cabd4",
        "colab": {
          "base_uri": "https://localhost:8080/",
          "height": 52
        }
      },
      "source": [
        "from sklearn.metrics import mean_absolute_error\n",
        "\n",
        "y_pred = []\n",
        "y_pred.append(y_train.mean())\n",
        "y_pred = y_pred * len(train)\n",
        "MAE = mean_absolute_error(y_train, y_pred)\n",
        "print(f\"Majority Train MAE: {MAE:.2f}\")\n",
        "\n",
        "y_pred = []\n",
        "y_pred.append(y_train.mean())\n",
        "y_pred = y_pred * len(y_val)\n",
        "mae = mean_absolute_error(y_val, y_pred)\n",
        "print(f'Majority Val MAE: {mae:.2f}')"
      ],
      "execution_count": 167,
      "outputs": [
        {
          "output_type": "stream",
          "text": [
            "Majority Train MAE: 206.93\n",
            "Majority Val MAE: 48.64\n"
          ],
          "name": "stdout"
        }
      ]
    },
    {
      "cell_type": "markdown",
      "metadata": {
        "id": "KYNpuGtbIY_L",
        "colab_type": "text"
      },
      "source": [
        "- Linear Regression\n",
        " - Metrics: MSA, RMSA, R^2"
      ]
    },
    {
      "cell_type": "code",
      "metadata": {
        "id": "tT7S0uh5IReY",
        "colab_type": "code",
        "outputId": "0fe2028a-7bae-4cd4-d7f7-475bbdb6ebc1",
        "colab": {
          "base_uri": "https://localhost:8080/",
          "height": 177
        }
      },
      "source": [
        "from sklearn.linear_model import LinearRegression\n",
        "from sklearn.metrics import mean_squared_error, r2_score\n",
        "\n",
        "model = LinearRegression()\n",
        "model.fit(X_train, y_train)\n",
        "y_pred = model.predict(X_train)\n",
        "\n",
        "# Print regression metrics\n",
        "mse = mean_squared_error(y_train, y_pred)\n",
        "rmse = np.sqrt(mse)\n",
        "r2 = r2_score(y_train, y_pred)\n",
        "print('Training error')\n",
        "print('Mean Squared Error:', mse)\n",
        "print('Root Mean Squared Error:', rmse)\n",
        "print('R^2:', r2)\n",
        "\n",
        "#Validation Error\n",
        "model.fit(X_val, y_val)\n",
        "y_pred = model.predict(X_val)\n",
        "mse = mean_squared_error(y_val, y_pred)\n",
        "rmse = np.sqrt(mse)\n",
        "r2 = r2_score(y_val, y_pred)\n",
        "print('\\nValidation Error')\n",
        "print('Mean Squared Error:', mse)\n",
        "print('Root Mean Squared Error:', rmse)\n",
        "print('R^2:', r2)"
      ],
      "execution_count": 168,
      "outputs": [
        {
          "output_type": "stream",
          "text": [
            "Training error\n",
            "Mean Squared Error: 11686.166680024337\n",
            "Root Mean Squared Error: 108.10257480756107\n",
            "R^2: 0.8356999435234366\n",
            "\n",
            "Validation Error\n",
            "Mean Squared Error: 894.9831295443516\n",
            "Root Mean Squared Error: 29.91626864340457\n",
            "R^2: 0.7085624349629799\n"
          ],
          "name": "stdout"
        }
      ]
    },
    {
      "cell_type": "markdown",
      "metadata": {
        "id": "q1ohO14VVLsr",
        "colab_type": "text"
      },
      "source": [
        "Majority Classification (whether prices goes up or down)\n",
        "\n",
        "- Majority (~52%) goes down"
      ]
    },
    {
      "cell_type": "code",
      "metadata": {
        "id": "3racOIv3VRxn",
        "colab_type": "code",
        "outputId": "62eaf468-c0a4-46e0-d4c8-19399b1f84fe",
        "colab": {
          "base_uri": "https://localhost:8080/",
          "height": 70
        }
      },
      "source": [
        "X_train['Price_change'].value_counts(normalize=True)"
      ],
      "execution_count": 169,
      "outputs": [
        {
          "output_type": "execute_result",
          "data": {
            "text/plain": [
              "0    0.520611\n",
              "1    0.479389\n",
              "Name: Price_change, dtype: float64"
            ]
          },
          "metadata": {
            "tags": []
          },
          "execution_count": 169
        }
      ]
    },
    {
      "cell_type": "markdown",
      "metadata": {
        "id": "ea1YsoMDIoiF",
        "colab_type": "text"
      },
      "source": [
        "### Decision Tree\n",
        "- Baseline is ~0.781\n",
        "\n",
        "\n",
        "\n",
        "- What metrics can I use to compare with each?\n",
        "- MAE? R^2? MSE? RMSE?\n",
        "  - try to better understand what each is uniquely telling you"
      ]
    },
    {
      "cell_type": "code",
      "metadata": {
        "id": "sTq8qPZlTeP4",
        "colab_type": "code",
        "outputId": "a3207628-1c1d-4c88-d6c3-7bb4292bdb94",
        "colab": {
          "base_uri": "https://localhost:8080/",
          "height": 52
        }
      },
      "source": [
        "from sklearn.tree import DecisionTreeRegressor\n",
        "from sklearn.pipeline import make_pipeline\n",
        "\n",
        "pipeline = make_pipeline(\n",
        "    DecisionTreeRegressor(max_depth=5, min_samples_leaf=33, random_state=42)\n",
        ")\n",
        "\n",
        "pipeline.fit(X_train, y_train)\n",
        "\n",
        "# should I even be doing Train Accuracy?\n",
        "# If it's trained on such it's likely to get 1.0? \n",
        "print('Train Accuracy:', pipeline.score(X_train, y_train))\n",
        "val_score = pipeline.score(X_val, y_val)\n",
        "print('Validation Accuracy:', round(val_score, 4))\n",
        "\n",
        "# Can I also get an MAE from this? \n",
        "\n",
        "\n",
        "# not concerned about this yet\n",
        "y_pred = pipeline.predict(X_test)"
      ],
      "execution_count": 170,
      "outputs": [
        {
          "output_type": "stream",
          "text": [
            "Train Accuracy: 0.9879714894227022\n",
            "Validation Accuracy: 0.9265\n"
          ],
          "name": "stdout"
        }
      ]
    },
    {
      "cell_type": "code",
      "metadata": {
        "id": "xIGvZzgM6_ae",
        "colab_type": "code",
        "outputId": "e3e4408d-0112-4e95-f19a-d4c2163b22f8",
        "colab": {
          "base_uri": "https://localhost:8080/",
          "height": 731
        }
      },
      "source": [
        "import graphviz\n",
        "from sklearn.tree import export_graphviz\n",
        "\n",
        "model = pipeline.named_steps['decisiontreeregressor']\n",
        "\n",
        "dot_data = export_graphviz(model, \n",
        "                           out_file=None, \n",
        "                           max_depth=5, \n",
        "                           feature_names=X_train.columns,\n",
        "                           class_names=model.classes_, \n",
        "                           impurity=False, \n",
        "                           filled=True, \n",
        "                           proportion=True, \n",
        "                           rounded=True)   \n",
        "display(graphviz.Source(dot_data))"
      ],
      "execution_count": 171,
      "outputs": [
        {
          "output_type": "stream",
          "text": [
            "/usr/local/lib/python3.6/dist-packages/sklearn/tree/_classes.py:1233: FutureWarning: the classes_ attribute is to be deprecated from version 0.22 and will be removed in 0.24.\n",
            "  warnings.warn(msg, FutureWarning)\n"
          ],
          "name": "stderr"
        },
        {
          "output_type": "display_data",
          "data": {
            "text/plain": [
              "<graphviz.files.Source at 0x7fe7ccef8f98>"
            ],
            "image/svg+xml": "<?xml version=\"1.0\" encoding=\"UTF-8\" standalone=\"no\"?>\n<!DOCTYPE svg PUBLIC \"-//W3C//DTD SVG 1.1//EN\"\n \"http://www.w3.org/Graphics/SVG/1.1/DTD/svg11.dtd\">\n<!-- Generated by graphviz version 2.40.1 (20161225.0304)\n -->\n<!-- Title: Tree Pages: 1 -->\n<svg width=\"1912pt\" height=\"491pt\"\n viewBox=\"0.00 0.00 1911.50 491.00\" xmlns=\"http://www.w3.org/2000/svg\" xmlns:xlink=\"http://www.w3.org/1999/xlink\">\n<g id=\"graph0\" class=\"graph\" transform=\"scale(1 1) rotate(0) translate(4 487)\">\n<title>Tree</title>\n<polygon fill=\"#ffffff\" stroke=\"transparent\" points=\"-4,4 -4,-487 1907.5,-487 1907.5,4 -4,4\"/>\n<!-- 0 -->\n<g id=\"node1\" class=\"node\">\n<title>0</title>\n<path fill=\"#fae7da\" stroke=\"#000000\" d=\"M1271.5,-483C1271.5,-483 1158.5,-483 1158.5,-483 1152.5,-483 1146.5,-477 1146.5,-471 1146.5,-471 1146.5,-442 1146.5,-442 1146.5,-436 1152.5,-430 1158.5,-430 1158.5,-430 1271.5,-430 1271.5,-430 1277.5,-430 1283.5,-436 1283.5,-442 1283.5,-442 1283.5,-471 1283.5,-471 1283.5,-477 1277.5,-483 1271.5,-483\"/>\n<text text-anchor=\"middle\" x=\"1215\" y=\"-467.8\" font-family=\"Helvetica,sans-Serif\" font-size=\"14.00\" fill=\"#000000\">Price &lt;= 369.225</text>\n<text text-anchor=\"middle\" x=\"1215\" y=\"-452.8\" font-family=\"Helvetica,sans-Serif\" font-size=\"14.00\" fill=\"#000000\">samples = 100.0%</text>\n<text text-anchor=\"middle\" x=\"1215\" y=\"-437.8\" font-family=\"Helvetica,sans-Serif\" font-size=\"14.00\" fill=\"#000000\">value = 204.552</text>\n</g>\n<!-- 1 -->\n<g id=\"node2\" class=\"node\">\n<title>1</title>\n<path fill=\"#fdf5ef\" stroke=\"#000000\" d=\"M987,-394C987,-394 883,-394 883,-394 877,-394 871,-388 871,-382 871,-382 871,-353 871,-353 871,-347 877,-341 883,-341 883,-341 987,-341 987,-341 993,-341 999,-347 999,-353 999,-353 999,-382 999,-382 999,-388 993,-394 987,-394\"/>\n<text text-anchor=\"middle\" x=\"935\" y=\"-378.8\" font-family=\"Helvetica,sans-Serif\" font-size=\"14.00\" fill=\"#000000\">Price &lt;= 141.995</text>\n<text text-anchor=\"middle\" x=\"935\" y=\"-363.8\" font-family=\"Helvetica,sans-Serif\" font-size=\"14.00\" fill=\"#000000\">samples = 79.8%</text>\n<text text-anchor=\"middle\" x=\"935\" y=\"-348.8\" font-family=\"Helvetica,sans-Serif\" font-size=\"14.00\" fill=\"#000000\">value = 91.325</text>\n</g>\n<!-- 0&#45;&gt;1 -->\n<g id=\"edge1\" class=\"edge\">\n<title>0&#45;&gt;1</title>\n<path fill=\"none\" stroke=\"#000000\" d=\"M1146.1457,-434.6142C1104.5339,-421.3876 1051.5013,-404.5308 1008.9954,-391.02\"/>\n<polygon fill=\"#000000\" stroke=\"#000000\" points=\"1009.8548,-387.6206 999.2644,-387.9269 1007.7343,-394.2918 1009.8548,-387.6206\"/>\n<text text-anchor=\"middle\" x=\"1010.7565\" y=\"-406.429\" font-family=\"Helvetica,sans-Serif\" font-size=\"14.00\" fill=\"#000000\">True</text>\n</g>\n<!-- 24 -->\n<g id=\"node25\" class=\"node\">\n<title>24</title>\n<path fill=\"#efb388\" stroke=\"#000000\" d=\"M1541,-394C1541,-394 1437,-394 1437,-394 1431,-394 1425,-388 1425,-382 1425,-382 1425,-353 1425,-353 1425,-347 1431,-341 1437,-341 1437,-341 1541,-341 1541,-341 1547,-341 1553,-347 1553,-353 1553,-353 1553,-382 1553,-382 1553,-388 1547,-394 1541,-394\"/>\n<text text-anchor=\"middle\" x=\"1489\" y=\"-378.8\" font-family=\"Helvetica,sans-Serif\" font-size=\"14.00\" fill=\"#000000\">Price &lt;= 751.54</text>\n<text text-anchor=\"middle\" x=\"1489\" y=\"-363.8\" font-family=\"Helvetica,sans-Serif\" font-size=\"14.00\" fill=\"#000000\">samples = 20.2%</text>\n<text text-anchor=\"middle\" x=\"1489\" y=\"-348.8\" font-family=\"Helvetica,sans-Serif\" font-size=\"14.00\" fill=\"#000000\">value = 651.053</text>\n</g>\n<!-- 0&#45;&gt;24 -->\n<g id=\"edge24\" class=\"edge\">\n<title>0&#45;&gt;24</title>\n<path fill=\"none\" stroke=\"#000000\" d=\"M1283.7881,-434.1564C1323.8531,-421.1426 1374.3675,-404.7346 1415.2525,-391.4545\"/>\n<polygon fill=\"#000000\" stroke=\"#000000\" points=\"1416.46,-394.7423 1424.8896,-388.3242 1414.2975,-388.0847 1416.46,-394.7423\"/>\n<text text-anchor=\"middle\" x=\"1413.5378\" y=\"-406.8983\" font-family=\"Helvetica,sans-Serif\" font-size=\"14.00\" fill=\"#000000\">False</text>\n</g>\n<!-- 2 -->\n<g id=\"node3\" class=\"node\">\n<title>2</title>\n<path fill=\"#fefcfb\" stroke=\"#000000\" d=\"M568,-305C568,-305 464,-305 464,-305 458,-305 452,-299 452,-293 452,-293 452,-264 452,-264 452,-258 458,-252 464,-252 464,-252 568,-252 568,-252 574,-252 580,-258 580,-264 580,-264 580,-293 580,-293 580,-299 574,-305 568,-305\"/>\n<text text-anchor=\"middle\" x=\"516\" y=\"-289.8\" font-family=\"Helvetica,sans-Serif\" font-size=\"14.00\" fill=\"#000000\">Price &lt;= 53.235</text>\n<text text-anchor=\"middle\" x=\"516\" y=\"-274.8\" font-family=\"Helvetica,sans-Serif\" font-size=\"14.00\" fill=\"#000000\">samples = 57.0%</text>\n<text text-anchor=\"middle\" x=\"516\" y=\"-259.8\" font-family=\"Helvetica,sans-Serif\" font-size=\"14.00\" fill=\"#000000\">value = 25.333</text>\n</g>\n<!-- 1&#45;&gt;2 -->\n<g id=\"edge2\" class=\"edge\">\n<title>1&#45;&gt;2</title>\n<path fill=\"none\" stroke=\"#000000\" d=\"M870.9068,-353.8859C795.2804,-337.8221 669.771,-311.1626 590.0555,-294.2302\"/>\n<polygon fill=\"#000000\" stroke=\"#000000\" points=\"590.5951,-290.7668 580.086,-292.1125 589.1406,-297.614 590.5951,-290.7668\"/>\n</g>\n<!-- 13 -->\n<g id=\"node14\" class=\"node\">\n<title>13</title>\n<path fill=\"#f9e1d0\" stroke=\"#000000\" d=\"M987,-305C987,-305 883,-305 883,-305 877,-305 871,-299 871,-293 871,-293 871,-264 871,-264 871,-258 877,-252 883,-252 883,-252 987,-252 987,-252 993,-252 999,-258 999,-264 999,-264 999,-293 999,-293 999,-299 993,-305 987,-305\"/>\n<text text-anchor=\"middle\" x=\"935\" y=\"-289.8\" font-family=\"Helvetica,sans-Serif\" font-size=\"14.00\" fill=\"#000000\">Price &lt;= 247.72</text>\n<text text-anchor=\"middle\" x=\"935\" y=\"-274.8\" font-family=\"Helvetica,sans-Serif\" font-size=\"14.00\" fill=\"#000000\">samples = 22.7%</text>\n<text text-anchor=\"middle\" x=\"935\" y=\"-259.8\" font-family=\"Helvetica,sans-Serif\" font-size=\"14.00\" fill=\"#000000\">value = 256.747</text>\n</g>\n<!-- 1&#45;&gt;13 -->\n<g id=\"edge13\" class=\"edge\">\n<title>1&#45;&gt;13</title>\n<path fill=\"none\" stroke=\"#000000\" d=\"M935,-340.7971C935,-332.7887 935,-323.8597 935,-315.3198\"/>\n<polygon fill=\"#000000\" stroke=\"#000000\" points=\"938.5001,-315.1841 935,-305.1841 931.5001,-315.1841 938.5001,-315.1841\"/>\n</g>\n<!-- 3 -->\n<g id=\"node4\" class=\"node\">\n<title>3</title>\n<path fill=\"#fffefd\" stroke=\"#000000\" d=\"M358,-216C358,-216 254,-216 254,-216 248,-216 242,-210 242,-204 242,-204 242,-175 242,-175 242,-169 248,-163 254,-163 254,-163 358,-163 358,-163 364,-163 370,-169 370,-175 370,-175 370,-204 370,-204 370,-210 364,-216 358,-216\"/>\n<text text-anchor=\"middle\" x=\"306\" y=\"-200.8\" font-family=\"Helvetica,sans-Serif\" font-size=\"14.00\" fill=\"#000000\">Price &lt;= 22.38</text>\n<text text-anchor=\"middle\" x=\"306\" y=\"-185.8\" font-family=\"Helvetica,sans-Serif\" font-size=\"14.00\" fill=\"#000000\">samples = 48.5%</text>\n<text text-anchor=\"middle\" x=\"306\" y=\"-170.8\" font-family=\"Helvetica,sans-Serif\" font-size=\"14.00\" fill=\"#000000\">value = 10.488</text>\n</g>\n<!-- 2&#45;&gt;3 -->\n<g id=\"edge3\" class=\"edge\">\n<title>2&#45;&gt;3</title>\n<path fill=\"none\" stroke=\"#000000\" d=\"M453.2775,-251.9176C429.5934,-241.88 402.464,-230.3824 377.9963,-220.0127\"/>\n<polygon fill=\"#000000\" stroke=\"#000000\" points=\"379.3349,-216.7787 368.7619,-216.0991 376.6034,-223.2238 379.3349,-216.7787\"/>\n</g>\n<!-- 8 -->\n<g id=\"node9\" class=\"node\">\n<title>8</title>\n<path fill=\"#fcf2eb\" stroke=\"#000000\" d=\"M564.5,-216C564.5,-216 467.5,-216 467.5,-216 461.5,-216 455.5,-210 455.5,-204 455.5,-204 455.5,-175 455.5,-175 455.5,-169 461.5,-163 467.5,-163 467.5,-163 564.5,-163 564.5,-163 570.5,-163 576.5,-169 576.5,-175 576.5,-175 576.5,-204 576.5,-204 576.5,-210 570.5,-216 564.5,-216\"/>\n<text text-anchor=\"middle\" x=\"516\" y=\"-200.8\" font-family=\"Helvetica,sans-Serif\" font-size=\"14.00\" fill=\"#000000\">Price &lt;= 95.66</text>\n<text text-anchor=\"middle\" x=\"516\" y=\"-185.8\" font-family=\"Helvetica,sans-Serif\" font-size=\"14.00\" fill=\"#000000\">samples = 8.5%</text>\n<text text-anchor=\"middle\" x=\"516\" y=\"-170.8\" font-family=\"Helvetica,sans-Serif\" font-size=\"14.00\" fill=\"#000000\">value = 110.388</text>\n</g>\n<!-- 2&#45;&gt;8 -->\n<g id=\"edge8\" class=\"edge\">\n<title>2&#45;&gt;8</title>\n<path fill=\"none\" stroke=\"#000000\" d=\"M516,-251.7971C516,-243.7887 516,-234.8597 516,-226.3198\"/>\n<polygon fill=\"#000000\" stroke=\"#000000\" points=\"519.5001,-226.1841 516,-216.1841 512.5001,-226.1841 519.5001,-226.1841\"/>\n</g>\n<!-- 4 -->\n<g id=\"node5\" class=\"node\">\n<title>4</title>\n<path fill=\"#fffefe\" stroke=\"#000000\" d=\"M216,-127C216,-127 58,-127 58,-127 52,-127 46,-121 46,-115 46,-115 46,-86 46,-86 46,-80 52,-74 58,-74 58,-74 216,-74 216,-74 222,-74 228,-80 228,-86 228,-86 228,-115 228,-115 228,-121 222,-127 216,-127\"/>\n<text text-anchor=\"middle\" x=\"137\" y=\"-111.8\" font-family=\"Helvetica,sans-Serif\" font-size=\"14.00\" fill=\"#000000\">NetworkHash &lt;= 883.748</text>\n<text text-anchor=\"middle\" x=\"137\" y=\"-96.8\" font-family=\"Helvetica,sans-Serif\" font-size=\"14.00\" fill=\"#000000\">samples = 45.1%</text>\n<text text-anchor=\"middle\" x=\"137\" y=\"-81.8\" font-family=\"Helvetica,sans-Serif\" font-size=\"14.00\" fill=\"#000000\">value = 7.79</text>\n</g>\n<!-- 3&#45;&gt;4 -->\n<g id=\"edge4\" class=\"edge\">\n<title>3&#45;&gt;4</title>\n<path fill=\"none\" stroke=\"#000000\" d=\"M255.2944,-162.7971C236.745,-153.0285 215.5944,-141.8899 196.3566,-131.7588\"/>\n<polygon fill=\"#000000\" stroke=\"#000000\" points=\"197.8573,-128.5935 187.3784,-127.0306 194.5955,-134.7871 197.8573,-128.5935\"/>\n</g>\n<!-- 7 -->\n<g id=\"node8\" class=\"node\">\n<title>7</title>\n<path fill=\"#fefaf7\" stroke=\"#000000\" d=\"M354,-119.5C354,-119.5 258,-119.5 258,-119.5 252,-119.5 246,-113.5 246,-107.5 246,-107.5 246,-93.5 246,-93.5 246,-87.5 252,-81.5 258,-81.5 258,-81.5 354,-81.5 354,-81.5 360,-81.5 366,-87.5 366,-93.5 366,-93.5 366,-107.5 366,-107.5 366,-113.5 360,-119.5 354,-119.5\"/>\n<text text-anchor=\"middle\" x=\"306\" y=\"-104.3\" font-family=\"Helvetica,sans-Serif\" font-size=\"14.00\" fill=\"#000000\">samples = 3.4%</text>\n<text text-anchor=\"middle\" x=\"306\" y=\"-89.3\" font-family=\"Helvetica,sans-Serif\" font-size=\"14.00\" fill=\"#000000\">value = 45.918</text>\n</g>\n<!-- 3&#45;&gt;7 -->\n<g id=\"edge7\" class=\"edge\">\n<title>3&#45;&gt;7</title>\n<path fill=\"none\" stroke=\"#000000\" d=\"M306,-162.7971C306,-152.3518 306,-140.3403 306,-129.6689\"/>\n<polygon fill=\"#000000\" stroke=\"#000000\" points=\"309.5001,-129.5517 306,-119.5518 302.5001,-129.5518 309.5001,-129.5517\"/>\n</g>\n<!-- 5 -->\n<g id=\"node6\" class=\"node\">\n<title>5</title>\n<path fill=\"#ffffff\" stroke=\"#000000\" d=\"M116,-38C116,-38 12,-38 12,-38 6,-38 0,-32 0,-26 0,-26 0,-12 0,-12 0,-6 6,0 12,0 12,0 116,0 116,0 122,0 128,-6 128,-12 128,-12 128,-26 128,-26 128,-32 122,-38 116,-38\"/>\n<text text-anchor=\"middle\" x=\"64\" y=\"-22.8\" font-family=\"Helvetica,sans-Serif\" font-size=\"14.00\" fill=\"#000000\">samples = 16.2%</text>\n<text text-anchor=\"middle\" x=\"64\" y=\"-7.8\" font-family=\"Helvetica,sans-Serif\" font-size=\"14.00\" fill=\"#000000\">value = 1.429</text>\n</g>\n<!-- 4&#45;&gt;5 -->\n<g id=\"edge5\" class=\"edge\">\n<title>4&#45;&gt;5</title>\n<path fill=\"none\" stroke=\"#000000\" d=\"M113.0971,-73.8139C105.0568,-64.8374 96.0871,-54.8233 88.0366,-45.8354\"/>\n<polygon fill=\"#000000\" stroke=\"#000000\" points=\"90.5242,-43.3667 81.2451,-38.2531 85.31,-48.0371 90.5242,-43.3667\"/>\n</g>\n<!-- 6 -->\n<g id=\"node7\" class=\"node\">\n<title>6</title>\n<path fill=\"#fffefd\" stroke=\"#000000\" d=\"M262,-38C262,-38 158,-38 158,-38 152,-38 146,-32 146,-26 146,-26 146,-12 146,-12 146,-6 152,0 158,0 158,0 262,0 262,0 268,0 274,-6 274,-12 274,-12 274,-26 274,-26 274,-32 268,-38 262,-38\"/>\n<text text-anchor=\"middle\" x=\"210\" y=\"-22.8\" font-family=\"Helvetica,sans-Serif\" font-size=\"14.00\" fill=\"#000000\">samples = 28.9%</text>\n<text text-anchor=\"middle\" x=\"210\" y=\"-7.8\" font-family=\"Helvetica,sans-Serif\" font-size=\"14.00\" fill=\"#000000\">value = 11.349</text>\n</g>\n<!-- 4&#45;&gt;6 -->\n<g id=\"edge6\" class=\"edge\">\n<title>4&#45;&gt;6</title>\n<path fill=\"none\" stroke=\"#000000\" d=\"M160.9029,-73.8139C168.9432,-64.8374 177.9129,-54.8233 185.9634,-45.8354\"/>\n<polygon fill=\"#000000\" stroke=\"#000000\" points=\"188.69,-48.0371 192.7549,-38.2531 183.4758,-43.3667 188.69,-48.0371\"/>\n</g>\n<!-- 9 -->\n<g id=\"node10\" class=\"node\">\n<title>9</title>\n<path fill=\"#fdf5ef\" stroke=\"#000000\" d=\"M492,-119.5C492,-119.5 396,-119.5 396,-119.5 390,-119.5 384,-113.5 384,-107.5 384,-107.5 384,-93.5 384,-93.5 384,-87.5 390,-81.5 396,-81.5 396,-81.5 492,-81.5 492,-81.5 498,-81.5 504,-87.5 504,-93.5 504,-93.5 504,-107.5 504,-107.5 504,-113.5 498,-119.5 492,-119.5\"/>\n<text text-anchor=\"middle\" x=\"444\" y=\"-104.3\" font-family=\"Helvetica,sans-Serif\" font-size=\"14.00\" fill=\"#000000\">samples = 2.6%</text>\n<text text-anchor=\"middle\" x=\"444\" y=\"-89.3\" font-family=\"Helvetica,sans-Serif\" font-size=\"14.00\" fill=\"#000000\">value = 86.796</text>\n</g>\n<!-- 8&#45;&gt;9 -->\n<g id=\"edge9\" class=\"edge\">\n<title>8&#45;&gt;9</title>\n<path fill=\"none\" stroke=\"#000000\" d=\"M494.3976,-162.7971C485.3314,-151.5902 474.8065,-138.5803 465.727,-127.357\"/>\n<polygon fill=\"#000000\" stroke=\"#000000\" points=\"468.4233,-125.1249 459.4127,-119.5518 462.9811,-129.5276 468.4233,-125.1249\"/>\n</g>\n<!-- 10 -->\n<g id=\"node11\" class=\"node\">\n<title>10</title>\n<path fill=\"#fcf1e9\" stroke=\"#000000\" d=\"M631.5,-127C631.5,-127 534.5,-127 534.5,-127 528.5,-127 522.5,-121 522.5,-115 522.5,-115 522.5,-86 522.5,-86 522.5,-80 528.5,-74 534.5,-74 534.5,-74 631.5,-74 631.5,-74 637.5,-74 643.5,-80 643.5,-86 643.5,-86 643.5,-115 643.5,-115 643.5,-121 637.5,-127 631.5,-127\"/>\n<text text-anchor=\"middle\" x=\"583\" y=\"-111.8\" font-family=\"Helvetica,sans-Serif\" font-size=\"14.00\" fill=\"#000000\">Price &lt;= 118.03</text>\n<text text-anchor=\"middle\" x=\"583\" y=\"-96.8\" font-family=\"Helvetica,sans-Serif\" font-size=\"14.00\" fill=\"#000000\">samples = 5.9%</text>\n<text text-anchor=\"middle\" x=\"583\" y=\"-81.8\" font-family=\"Helvetica,sans-Serif\" font-size=\"14.00\" fill=\"#000000\">value = 120.805</text>\n</g>\n<!-- 8&#45;&gt;10 -->\n<g id=\"edge10\" class=\"edge\">\n<title>8&#45;&gt;10</title>\n<path fill=\"none\" stroke=\"#000000\" d=\"M536.1022,-162.7971C542.5947,-154.1727 549.891,-144.4806 556.7596,-135.3566\"/>\n<polygon fill=\"#000000\" stroke=\"#000000\" points=\"559.6938,-137.2784 562.912,-127.1841 554.1014,-133.0683 559.6938,-137.2784\"/>\n</g>\n<!-- 11 -->\n<g id=\"node12\" class=\"node\">\n<title>11</title>\n<path fill=\"#fcf2eb\" stroke=\"#000000\" d=\"M493.5,-38C493.5,-38 396.5,-38 396.5,-38 390.5,-38 384.5,-32 384.5,-26 384.5,-26 384.5,-12 384.5,-12 384.5,-6 390.5,0 396.5,0 396.5,0 493.5,0 493.5,0 499.5,0 505.5,-6 505.5,-12 505.5,-12 505.5,-26 505.5,-26 505.5,-32 499.5,-38 493.5,-38\"/>\n<text text-anchor=\"middle\" x=\"445\" y=\"-22.8\" font-family=\"Helvetica,sans-Serif\" font-size=\"14.00\" fill=\"#000000\">samples = 2.6%</text>\n<text text-anchor=\"middle\" x=\"445\" y=\"-7.8\" font-family=\"Helvetica,sans-Serif\" font-size=\"14.00\" fill=\"#000000\">value = 112.193</text>\n</g>\n<!-- 10&#45;&gt;11 -->\n<g id=\"edge11\" class=\"edge\">\n<title>10&#45;&gt;11</title>\n<path fill=\"none\" stroke=\"#000000\" d=\"M537.8136,-73.8139C521.2325,-64.0214 502.5603,-52.9939 486.3342,-43.4112\"/>\n<polygon fill=\"#000000\" stroke=\"#000000\" points=\"487.9906,-40.3246 477.6003,-38.2531 484.431,-46.352 487.9906,-40.3246\"/>\n</g>\n<!-- 12 -->\n<g id=\"node13\" class=\"node\">\n<title>12</title>\n<path fill=\"#fcf0e8\" stroke=\"#000000\" d=\"M632.5,-38C632.5,-38 535.5,-38 535.5,-38 529.5,-38 523.5,-32 523.5,-26 523.5,-26 523.5,-12 523.5,-12 523.5,-6 529.5,0 535.5,0 535.5,0 632.5,0 632.5,0 638.5,0 644.5,-6 644.5,-12 644.5,-12 644.5,-26 644.5,-26 644.5,-32 638.5,-38 632.5,-38\"/>\n<text text-anchor=\"middle\" x=\"584\" y=\"-22.8\" font-family=\"Helvetica,sans-Serif\" font-size=\"14.00\" fill=\"#000000\">samples = 3.3%</text>\n<text text-anchor=\"middle\" x=\"584\" y=\"-7.8\" font-family=\"Helvetica,sans-Serif\" font-size=\"14.00\" fill=\"#000000\">value = 127.614</text>\n</g>\n<!-- 10&#45;&gt;12 -->\n<g id=\"edge12\" class=\"edge\">\n<title>10&#45;&gt;12</title>\n<path fill=\"none\" stroke=\"#000000\" d=\"M583.3274,-73.8139C583.4276,-65.6535 583.5382,-56.6354 583.6404,-48.3105\"/>\n<polygon fill=\"#000000\" stroke=\"#000000\" points=\"587.1407,-48.2953 583.7638,-38.2531 580.1412,-48.2093 587.1407,-48.2953\"/>\n</g>\n<!-- 14 -->\n<g id=\"node15\" class=\"node\">\n<title>14</title>\n<path fill=\"#fae8da\" stroke=\"#000000\" d=\"M914,-216C914,-216 810,-216 810,-216 804,-216 798,-210 798,-204 798,-204 798,-175 798,-175 798,-169 804,-163 810,-163 810,-163 914,-163 914,-163 920,-163 926,-169 926,-175 926,-175 926,-204 926,-204 926,-210 920,-216 914,-216\"/>\n<text text-anchor=\"middle\" x=\"862\" y=\"-200.8\" font-family=\"Helvetica,sans-Serif\" font-size=\"14.00\" fill=\"#000000\">Price &lt;= 189.9</text>\n<text text-anchor=\"middle\" x=\"862\" y=\"-185.8\" font-family=\"Helvetica,sans-Serif\" font-size=\"14.00\" fill=\"#000000\">samples = 10.4%</text>\n<text text-anchor=\"middle\" x=\"862\" y=\"-170.8\" font-family=\"Helvetica,sans-Serif\" font-size=\"14.00\" fill=\"#000000\">value = 201.586</text>\n</g>\n<!-- 13&#45;&gt;14 -->\n<g id=\"edge14\" class=\"edge\">\n<title>13&#45;&gt;14</title>\n<path fill=\"none\" stroke=\"#000000\" d=\"M913.0976,-251.7971C905.9515,-243.0847 897.9116,-233.2826 890.3613,-224.0775\"/>\n<polygon fill=\"#000000\" stroke=\"#000000\" points=\"892.935,-221.6963 883.8869,-216.1841 887.5227,-226.1356 892.935,-221.6963\"/>\n</g>\n<!-- 19 -->\n<g id=\"node20\" class=\"node\">\n<title>19</title>\n<path fill=\"#f8dcc8\" stroke=\"#000000\" d=\"M1060,-216C1060,-216 956,-216 956,-216 950,-216 944,-210 944,-204 944,-204 944,-175 944,-175 944,-169 950,-163 956,-163 956,-163 1060,-163 1060,-163 1066,-163 1072,-169 1072,-175 1072,-175 1072,-204 1072,-204 1072,-210 1066,-216 1060,-216\"/>\n<text text-anchor=\"middle\" x=\"1008\" y=\"-200.8\" font-family=\"Helvetica,sans-Serif\" font-size=\"14.00\" fill=\"#000000\">Price &lt;= 320.315</text>\n<text text-anchor=\"middle\" x=\"1008\" y=\"-185.8\" font-family=\"Helvetica,sans-Serif\" font-size=\"14.00\" fill=\"#000000\">samples = 12.4%</text>\n<text text-anchor=\"middle\" x=\"1008\" y=\"-170.8\" font-family=\"Helvetica,sans-Serif\" font-size=\"14.00\" fill=\"#000000\">value = 303.055</text>\n</g>\n<!-- 13&#45;&gt;19 -->\n<g id=\"edge19\" class=\"edge\">\n<title>13&#45;&gt;19</title>\n<path fill=\"none\" stroke=\"#000000\" d=\"M956.9024,-251.7971C964.0485,-243.0847 972.0884,-233.2826 979.6387,-224.0775\"/>\n<polygon fill=\"#000000\" stroke=\"#000000\" points=\"982.4773,-226.1356 986.1131,-216.1841 977.065,-221.6963 982.4773,-226.1356\"/>\n</g>\n<!-- 15 -->\n<g id=\"node16\" class=\"node\">\n<title>15</title>\n<path fill=\"#fbece1\" stroke=\"#000000\" d=\"M770.5,-119.5C770.5,-119.5 673.5,-119.5 673.5,-119.5 667.5,-119.5 661.5,-113.5 661.5,-107.5 661.5,-107.5 661.5,-93.5 661.5,-93.5 661.5,-87.5 667.5,-81.5 673.5,-81.5 673.5,-81.5 770.5,-81.5 770.5,-81.5 776.5,-81.5 782.5,-87.5 782.5,-93.5 782.5,-93.5 782.5,-107.5 782.5,-107.5 782.5,-113.5 776.5,-119.5 770.5,-119.5\"/>\n<text text-anchor=\"middle\" x=\"722\" y=\"-104.3\" font-family=\"Helvetica,sans-Serif\" font-size=\"14.00\" fill=\"#000000\">samples = 2.5%</text>\n<text text-anchor=\"middle\" x=\"722\" y=\"-89.3\" font-family=\"Helvetica,sans-Serif\" font-size=\"14.00\" fill=\"#000000\">value = 162.827</text>\n</g>\n<!-- 14&#45;&gt;15 -->\n<g id=\"edge15\" class=\"edge\">\n<title>14&#45;&gt;15</title>\n<path fill=\"none\" stroke=\"#000000\" d=\"M819.9954,-162.7971C801.0829,-150.7742 778.9063,-136.6761 760.4373,-124.9351\"/>\n<polygon fill=\"#000000\" stroke=\"#000000\" points=\"762.2859,-121.963 751.9691,-119.5518 758.5305,-127.8704 762.2859,-121.963\"/>\n</g>\n<!-- 16 -->\n<g id=\"node17\" class=\"node\">\n<title>16</title>\n<path fill=\"#fae6d8\" stroke=\"#000000\" d=\"M915.5,-127C915.5,-127 812.5,-127 812.5,-127 806.5,-127 800.5,-121 800.5,-115 800.5,-115 800.5,-86 800.5,-86 800.5,-80 806.5,-74 812.5,-74 812.5,-74 915.5,-74 915.5,-74 921.5,-74 927.5,-80 927.5,-86 927.5,-86 927.5,-115 927.5,-115 927.5,-121 921.5,-127 915.5,-127\"/>\n<text text-anchor=\"middle\" x=\"864\" y=\"-111.8\" font-family=\"Helvetica,sans-Serif\" font-size=\"14.00\" fill=\"#000000\">Price &lt;= 215.735</text>\n<text text-anchor=\"middle\" x=\"864\" y=\"-96.8\" font-family=\"Helvetica,sans-Serif\" font-size=\"14.00\" fill=\"#000000\">samples = 7.9%</text>\n<text text-anchor=\"middle\" x=\"864\" y=\"-81.8\" font-family=\"Helvetica,sans-Serif\" font-size=\"14.00\" fill=\"#000000\">value = 214.004</text>\n</g>\n<!-- 14&#45;&gt;16 -->\n<g id=\"edge16\" class=\"edge\">\n<title>14&#45;&gt;16</title>\n<path fill=\"none\" stroke=\"#000000\" d=\"M862.6001,-162.7971C862.78,-154.7887 862.9807,-145.8597 863.1726,-137.3198\"/>\n<polygon fill=\"#000000\" stroke=\"#000000\" points=\"866.6747,-137.2602 863.4004,-127.1841 859.6765,-137.1029 866.6747,-137.2602\"/>\n</g>\n<!-- 17 -->\n<g id=\"node18\" class=\"node\">\n<title>17</title>\n<path fill=\"#fae7da\" stroke=\"#000000\" d=\"M773.5,-38C773.5,-38 676.5,-38 676.5,-38 670.5,-38 664.5,-32 664.5,-26 664.5,-26 664.5,-12 664.5,-12 664.5,-6 670.5,0 676.5,0 676.5,0 773.5,0 773.5,0 779.5,0 785.5,-6 785.5,-12 785.5,-12 785.5,-26 785.5,-26 785.5,-32 779.5,-38 773.5,-38\"/>\n<text text-anchor=\"middle\" x=\"725\" y=\"-22.8\" font-family=\"Helvetica,sans-Serif\" font-size=\"14.00\" fill=\"#000000\">samples = 4.3%</text>\n<text text-anchor=\"middle\" x=\"725\" y=\"-7.8\" font-family=\"Helvetica,sans-Serif\" font-size=\"14.00\" fill=\"#000000\">value = 204.768</text>\n</g>\n<!-- 16&#45;&gt;17 -->\n<g id=\"edge17\" class=\"edge\">\n<title>16&#45;&gt;17</title>\n<path fill=\"none\" stroke=\"#000000\" d=\"M818.4862,-73.8139C801.785,-64.0214 782.9774,-52.9939 766.6338,-43.4112\"/>\n<polygon fill=\"#000000\" stroke=\"#000000\" points=\"768.2334,-40.2918 757.8365,-38.2531 764.6927,-46.3304 768.2334,-40.2918\"/>\n</g>\n<!-- 18 -->\n<g id=\"node19\" class=\"node\">\n<title>18</title>\n<path fill=\"#fae5d6\" stroke=\"#000000\" d=\"M912.5,-38C912.5,-38 815.5,-38 815.5,-38 809.5,-38 803.5,-32 803.5,-26 803.5,-26 803.5,-12 803.5,-12 803.5,-6 809.5,0 815.5,0 815.5,0 912.5,0 912.5,0 918.5,0 924.5,-6 924.5,-12 924.5,-12 924.5,-26 924.5,-26 924.5,-32 918.5,-38 912.5,-38\"/>\n<text text-anchor=\"middle\" x=\"864\" y=\"-22.8\" font-family=\"Helvetica,sans-Serif\" font-size=\"14.00\" fill=\"#000000\">samples = 3.6%</text>\n<text text-anchor=\"middle\" x=\"864\" y=\"-7.8\" font-family=\"Helvetica,sans-Serif\" font-size=\"14.00\" fill=\"#000000\">value = 225.008</text>\n</g>\n<!-- 16&#45;&gt;18 -->\n<g id=\"edge18\" class=\"edge\">\n<title>16&#45;&gt;18</title>\n<path fill=\"none\" stroke=\"#000000\" d=\"M864,-73.8139C864,-65.6535 864,-56.6354 864,-48.3105\"/>\n<polygon fill=\"#000000\" stroke=\"#000000\" points=\"867.5001,-48.253 864,-38.2531 860.5001,-48.2531 867.5001,-48.253\"/>\n</g>\n<!-- 20 -->\n<g id=\"node21\" class=\"node\">\n<title>20</title>\n<path fill=\"#f8ddca\" stroke=\"#000000\" d=\"M1054.5,-127C1054.5,-127 957.5,-127 957.5,-127 951.5,-127 945.5,-121 945.5,-115 945.5,-115 945.5,-86 945.5,-86 945.5,-80 951.5,-74 957.5,-74 957.5,-74 1054.5,-74 1054.5,-74 1060.5,-74 1066.5,-80 1066.5,-86 1066.5,-86 1066.5,-115 1066.5,-115 1066.5,-121 1060.5,-127 1054.5,-127\"/>\n<text text-anchor=\"middle\" x=\"1006\" y=\"-111.8\" font-family=\"Helvetica,sans-Serif\" font-size=\"14.00\" fill=\"#000000\">Price &lt;= 285.25</text>\n<text text-anchor=\"middle\" x=\"1006\" y=\"-96.8\" font-family=\"Helvetica,sans-Serif\" font-size=\"14.00\" fill=\"#000000\">samples = 9.5%</text>\n<text text-anchor=\"middle\" x=\"1006\" y=\"-81.8\" font-family=\"Helvetica,sans-Serif\" font-size=\"14.00\" fill=\"#000000\">value = 291.772</text>\n</g>\n<!-- 19&#45;&gt;20 -->\n<g id=\"edge20\" class=\"edge\">\n<title>19&#45;&gt;20</title>\n<path fill=\"none\" stroke=\"#000000\" d=\"M1007.3999,-162.7971C1007.22,-154.7887 1007.0193,-145.8597 1006.8274,-137.3198\"/>\n<polygon fill=\"#000000\" stroke=\"#000000\" points=\"1010.3235,-137.1029 1006.5996,-127.1841 1003.3253,-137.2602 1010.3235,-137.1029\"/>\n</g>\n<!-- 23 -->\n<g id=\"node24\" class=\"node\">\n<title>23</title>\n<path fill=\"#f7d7c1\" stroke=\"#000000\" d=\"M1193.5,-119.5C1193.5,-119.5 1096.5,-119.5 1096.5,-119.5 1090.5,-119.5 1084.5,-113.5 1084.5,-107.5 1084.5,-107.5 1084.5,-93.5 1084.5,-93.5 1084.5,-87.5 1090.5,-81.5 1096.5,-81.5 1096.5,-81.5 1193.5,-81.5 1193.5,-81.5 1199.5,-81.5 1205.5,-87.5 1205.5,-93.5 1205.5,-93.5 1205.5,-107.5 1205.5,-107.5 1205.5,-113.5 1199.5,-119.5 1193.5,-119.5\"/>\n<text text-anchor=\"middle\" x=\"1145\" y=\"-104.3\" font-family=\"Helvetica,sans-Serif\" font-size=\"14.00\" fill=\"#000000\">samples = 2.8%</text>\n<text text-anchor=\"middle\" x=\"1145\" y=\"-89.3\" font-family=\"Helvetica,sans-Serif\" font-size=\"14.00\" fill=\"#000000\">value = 341.175</text>\n</g>\n<!-- 19&#45;&gt;23 -->\n<g id=\"edge23\" class=\"edge\">\n<title>19&#45;&gt;23</title>\n<path fill=\"none\" stroke=\"#000000\" d=\"M1049.1045,-162.7971C1067.5279,-150.8286 1089.1168,-136.8037 1107.1408,-125.0946\"/>\n<polygon fill=\"#000000\" stroke=\"#000000\" points=\"1109.194,-127.9346 1115.6731,-119.5518 1105.3805,-122.0645 1109.194,-127.9346\"/>\n</g>\n<!-- 21 -->\n<g id=\"node22\" class=\"node\">\n<title>21</title>\n<path fill=\"#f8dfcd\" stroke=\"#000000\" d=\"M1052.5,-38C1052.5,-38 955.5,-38 955.5,-38 949.5,-38 943.5,-32 943.5,-26 943.5,-26 943.5,-12 943.5,-12 943.5,-6 949.5,0 955.5,0 955.5,0 1052.5,0 1052.5,0 1058.5,0 1064.5,-6 1064.5,-12 1064.5,-12 1064.5,-26 1064.5,-26 1064.5,-32 1058.5,-38 1052.5,-38\"/>\n<text text-anchor=\"middle\" x=\"1004\" y=\"-22.8\" font-family=\"Helvetica,sans-Serif\" font-size=\"14.00\" fill=\"#000000\">samples = 3.1%</text>\n<text text-anchor=\"middle\" x=\"1004\" y=\"-7.8\" font-family=\"Helvetica,sans-Serif\" font-size=\"14.00\" fill=\"#000000\">value = 273.805</text>\n</g>\n<!-- 20&#45;&gt;21 -->\n<g id=\"edge21\" class=\"edge\">\n<title>20&#45;&gt;21</title>\n<path fill=\"none\" stroke=\"#000000\" d=\"M1005.3451,-73.8139C1005.1449,-65.6535 1004.9236,-56.6354 1004.7193,-48.3105\"/>\n<polygon fill=\"#000000\" stroke=\"#000000\" points=\"1008.2168,-48.1642 1004.4725,-38.2531 1001.2189,-48.336 1008.2168,-48.1642\"/>\n</g>\n<!-- 22 -->\n<g id=\"node23\" class=\"node\">\n<title>22</title>\n<path fill=\"#f8dcc8\" stroke=\"#000000\" d=\"M1191.5,-38C1191.5,-38 1094.5,-38 1094.5,-38 1088.5,-38 1082.5,-32 1082.5,-26 1082.5,-26 1082.5,-12 1082.5,-12 1082.5,-6 1088.5,0 1094.5,0 1094.5,0 1191.5,0 1191.5,0 1197.5,0 1203.5,-6 1203.5,-12 1203.5,-12 1203.5,-26 1203.5,-26 1203.5,-32 1197.5,-38 1191.5,-38\"/>\n<text text-anchor=\"middle\" x=\"1143\" y=\"-22.8\" font-family=\"Helvetica,sans-Serif\" font-size=\"14.00\" fill=\"#000000\">samples = 6.5%</text>\n<text text-anchor=\"middle\" x=\"1143\" y=\"-7.8\" font-family=\"Helvetica,sans-Serif\" font-size=\"14.00\" fill=\"#000000\">value = 300.227</text>\n</g>\n<!-- 20&#45;&gt;22 -->\n<g id=\"edge22\" class=\"edge\">\n<title>20&#45;&gt;22</title>\n<path fill=\"none\" stroke=\"#000000\" d=\"M1050.8589,-73.8139C1067.3199,-64.0214 1085.8568,-52.9939 1101.9653,-43.4112\"/>\n<polygon fill=\"#000000\" stroke=\"#000000\" points=\"1103.8311,-46.3737 1110.636,-38.2531 1100.2523,-40.3578 1103.8311,-46.3737\"/>\n</g>\n<!-- 25 -->\n<g id=\"node26\" class=\"node\">\n<title>25</title>\n<path fill=\"#f2c19d\" stroke=\"#000000\" d=\"M1541,-305C1541,-305 1437,-305 1437,-305 1431,-305 1425,-299 1425,-293 1425,-293 1425,-264 1425,-264 1425,-258 1431,-252 1437,-252 1437,-252 1541,-252 1541,-252 1547,-252 1553,-258 1553,-264 1553,-264 1553,-293 1553,-293 1553,-299 1547,-305 1541,-305\"/>\n<text text-anchor=\"middle\" x=\"1489\" y=\"-289.8\" font-family=\"Helvetica,sans-Serif\" font-size=\"14.00\" fill=\"#000000\">Price &lt;= 566.92</text>\n<text text-anchor=\"middle\" x=\"1489\" y=\"-274.8\" font-family=\"Helvetica,sans-Serif\" font-size=\"14.00\" fill=\"#000000\">samples = 14.6%</text>\n<text text-anchor=\"middle\" x=\"1489\" y=\"-259.8\" font-family=\"Helvetica,sans-Serif\" font-size=\"14.00\" fill=\"#000000\">value = 535.997</text>\n</g>\n<!-- 24&#45;&gt;25 -->\n<g id=\"edge25\" class=\"edge\">\n<title>24&#45;&gt;25</title>\n<path fill=\"none\" stroke=\"#000000\" d=\"M1489,-340.7971C1489,-332.7887 1489,-323.8597 1489,-315.3198\"/>\n<polygon fill=\"#000000\" stroke=\"#000000\" points=\"1492.5001,-315.1841 1489,-305.1841 1485.5001,-315.1841 1492.5001,-315.1841\"/>\n</g>\n<!-- 34 -->\n<g id=\"node35\" class=\"node\">\n<title>34</title>\n<path fill=\"#e89152\" stroke=\"#000000\" d=\"M1755.5,-305C1755.5,-305 1652.5,-305 1652.5,-305 1646.5,-305 1640.5,-299 1640.5,-293 1640.5,-293 1640.5,-264 1640.5,-264 1640.5,-258 1646.5,-252 1652.5,-252 1652.5,-252 1755.5,-252 1755.5,-252 1761.5,-252 1767.5,-258 1767.5,-264 1767.5,-264 1767.5,-293 1767.5,-293 1767.5,-299 1761.5,-305 1755.5,-305\"/>\n<text text-anchor=\"middle\" x=\"1704\" y=\"-289.8\" font-family=\"Helvetica,sans-Serif\" font-size=\"14.00\" fill=\"#000000\">Price &lt;= 932.985</text>\n<text text-anchor=\"middle\" x=\"1704\" y=\"-274.8\" font-family=\"Helvetica,sans-Serif\" font-size=\"14.00\" fill=\"#000000\">samples = 5.6%</text>\n<text text-anchor=\"middle\" x=\"1704\" y=\"-259.8\" font-family=\"Helvetica,sans-Serif\" font-size=\"14.00\" fill=\"#000000\">value = 948.02</text>\n</g>\n<!-- 24&#45;&gt;34 -->\n<g id=\"edge34\" class=\"edge\">\n<title>24&#45;&gt;34</title>\n<path fill=\"none\" stroke=\"#000000\" d=\"M1553.2159,-340.9176C1577.6834,-330.7892 1605.7422,-319.1742 1630.9689,-308.7315\"/>\n<polygon fill=\"#000000\" stroke=\"#000000\" points=\"1632.5842,-311.8509 1640.4852,-304.7922 1629.9069,-305.3831 1632.5842,-311.8509\"/>\n</g>\n<!-- 26 -->\n<g id=\"node27\" class=\"node\">\n<title>26</title>\n<path fill=\"#f4c9ab\" stroke=\"#000000\" d=\"M1468.5,-216C1468.5,-216 1371.5,-216 1371.5,-216 1365.5,-216 1359.5,-210 1359.5,-204 1359.5,-204 1359.5,-175 1359.5,-175 1359.5,-169 1365.5,-163 1371.5,-163 1371.5,-163 1468.5,-163 1468.5,-163 1474.5,-163 1480.5,-169 1480.5,-175 1480.5,-175 1480.5,-204 1480.5,-204 1480.5,-210 1474.5,-216 1468.5,-216\"/>\n<text text-anchor=\"middle\" x=\"1420\" y=\"-200.8\" font-family=\"Helvetica,sans-Serif\" font-size=\"14.00\" fill=\"#000000\">Price &lt;= 475.77</text>\n<text text-anchor=\"middle\" x=\"1420\" y=\"-185.8\" font-family=\"Helvetica,sans-Serif\" font-size=\"14.00\" fill=\"#000000\">samples = 9.2%</text>\n<text text-anchor=\"middle\" x=\"1420\" y=\"-170.8\" font-family=\"Helvetica,sans-Serif\" font-size=\"14.00\" fill=\"#000000\">value = 460.929</text>\n</g>\n<!-- 25&#45;&gt;26 -->\n<g id=\"edge26\" class=\"edge\">\n<title>25&#45;&gt;26</title>\n<path fill=\"none\" stroke=\"#000000\" d=\"M1468.2977,-251.7971C1461.6114,-243.1727 1454.0973,-233.4806 1447.0236,-224.3566\"/>\n<polygon fill=\"#000000\" stroke=\"#000000\" points=\"1449.5809,-221.9427 1440.6877,-216.1841 1444.0487,-226.2317 1449.5809,-221.9427\"/>\n</g>\n<!-- 31 -->\n<g id=\"node32\" class=\"node\">\n<title>31</title>\n<path fill=\"#efb285\" stroke=\"#000000\" d=\"M1613.5,-216C1613.5,-216 1510.5,-216 1510.5,-216 1504.5,-216 1498.5,-210 1498.5,-204 1498.5,-204 1498.5,-175 1498.5,-175 1498.5,-169 1504.5,-163 1510.5,-163 1510.5,-163 1613.5,-163 1613.5,-163 1619.5,-163 1625.5,-169 1625.5,-175 1625.5,-175 1625.5,-204 1625.5,-204 1625.5,-210 1619.5,-216 1613.5,-216\"/>\n<text text-anchor=\"middle\" x=\"1562\" y=\"-200.8\" font-family=\"Helvetica,sans-Serif\" font-size=\"14.00\" fill=\"#000000\">Price &lt;= 676.855</text>\n<text text-anchor=\"middle\" x=\"1562\" y=\"-185.8\" font-family=\"Helvetica,sans-Serif\" font-size=\"14.00\" fill=\"#000000\">samples = 5.3%</text>\n<text text-anchor=\"middle\" x=\"1562\" y=\"-170.8\" font-family=\"Helvetica,sans-Serif\" font-size=\"14.00\" fill=\"#000000\">value = 665.758</text>\n</g>\n<!-- 25&#45;&gt;31 -->\n<g id=\"edge31\" class=\"edge\">\n<title>25&#45;&gt;31</title>\n<path fill=\"none\" stroke=\"#000000\" d=\"M1510.9024,-251.7971C1518.0485,-243.0847 1526.0884,-233.2826 1533.6387,-224.0775\"/>\n<polygon fill=\"#000000\" stroke=\"#000000\" points=\"1536.4773,-226.1356 1540.1131,-216.1841 1531.065,-221.6963 1536.4773,-226.1356\"/>\n</g>\n<!-- 27 -->\n<g id=\"node28\" class=\"node\">\n<title>27</title>\n<path fill=\"#f5cdb0\" stroke=\"#000000\" d=\"M1332,-127C1332,-127 1236,-127 1236,-127 1230,-127 1224,-121 1224,-115 1224,-115 1224,-86 1224,-86 1224,-80 1230,-74 1236,-74 1236,-74 1332,-74 1332,-74 1338,-74 1344,-80 1344,-86 1344,-86 1344,-115 1344,-115 1344,-121 1338,-127 1332,-127\"/>\n<text text-anchor=\"middle\" x=\"1284\" y=\"-111.8\" font-family=\"Helvetica,sans-Serif\" font-size=\"14.00\" fill=\"#000000\">Price &lt;= 430.0</text>\n<text text-anchor=\"middle\" x=\"1284\" y=\"-96.8\" font-family=\"Helvetica,sans-Serif\" font-size=\"14.00\" fill=\"#000000\">samples = 6.2%</text>\n<text text-anchor=\"middle\" x=\"1284\" y=\"-81.8\" font-family=\"Helvetica,sans-Serif\" font-size=\"14.00\" fill=\"#000000\">value = 433.11</text>\n</g>\n<!-- 26&#45;&gt;27 -->\n<g id=\"edge27\" class=\"edge\">\n<title>26&#45;&gt;27</title>\n<path fill=\"none\" stroke=\"#000000\" d=\"M1379.1955,-162.7971C1364.8064,-153.3807 1348.4722,-142.6914 1333.4467,-132.8585\"/>\n<polygon fill=\"#000000\" stroke=\"#000000\" points=\"1335.0598,-129.7313 1324.7757,-127.1841 1331.2267,-135.5886 1335.0598,-129.7313\"/>\n</g>\n<!-- 30 -->\n<g id=\"node31\" class=\"node\">\n<title>30</title>\n<path fill=\"#f3c3a1\" stroke=\"#000000\" d=\"M1471.5,-119.5C1471.5,-119.5 1374.5,-119.5 1374.5,-119.5 1368.5,-119.5 1362.5,-113.5 1362.5,-107.5 1362.5,-107.5 1362.5,-93.5 1362.5,-93.5 1362.5,-87.5 1368.5,-81.5 1374.5,-81.5 1374.5,-81.5 1471.5,-81.5 1471.5,-81.5 1477.5,-81.5 1483.5,-87.5 1483.5,-93.5 1483.5,-93.5 1483.5,-107.5 1483.5,-107.5 1483.5,-113.5 1477.5,-119.5 1471.5,-119.5\"/>\n<text text-anchor=\"middle\" x=\"1423\" y=\"-104.3\" font-family=\"Helvetica,sans-Serif\" font-size=\"14.00\" fill=\"#000000\">samples = 3.1%</text>\n<text text-anchor=\"middle\" x=\"1423\" y=\"-89.3\" font-family=\"Helvetica,sans-Serif\" font-size=\"14.00\" fill=\"#000000\">value = 517.263</text>\n</g>\n<!-- 26&#45;&gt;30 -->\n<g id=\"edge30\" class=\"edge\">\n<title>26&#45;&gt;30</title>\n<path fill=\"none\" stroke=\"#000000\" d=\"M1420.9001,-162.7971C1421.2522,-152.3518 1421.6571,-140.3403 1422.0168,-129.6689\"/>\n<polygon fill=\"#000000\" stroke=\"#000000\" points=\"1425.5188,-129.664 1422.3578,-119.5518 1418.5228,-129.4282 1425.5188,-129.664\"/>\n</g>\n<!-- 28 -->\n<g id=\"node29\" class=\"node\">\n<title>28</title>\n<path fill=\"#f5d1b6\" stroke=\"#000000\" d=\"M1331.5,-38C1331.5,-38 1234.5,-38 1234.5,-38 1228.5,-38 1222.5,-32 1222.5,-26 1222.5,-26 1222.5,-12 1222.5,-12 1222.5,-6 1228.5,0 1234.5,0 1234.5,0 1331.5,0 1331.5,0 1337.5,0 1343.5,-6 1343.5,-12 1343.5,-12 1343.5,-26 1343.5,-26 1343.5,-32 1337.5,-38 1331.5,-38\"/>\n<text text-anchor=\"middle\" x=\"1283\" y=\"-22.8\" font-family=\"Helvetica,sans-Serif\" font-size=\"14.00\" fill=\"#000000\">samples = 2.5%</text>\n<text text-anchor=\"middle\" x=\"1283\" y=\"-7.8\" font-family=\"Helvetica,sans-Serif\" font-size=\"14.00\" fill=\"#000000\">value = 400.589</text>\n</g>\n<!-- 27&#45;&gt;28 -->\n<g id=\"edge28\" class=\"edge\">\n<title>27&#45;&gt;28</title>\n<path fill=\"none\" stroke=\"#000000\" d=\"M1283.6726,-73.8139C1283.5724,-65.6535 1283.4618,-56.6354 1283.3596,-48.3105\"/>\n<polygon fill=\"#000000\" stroke=\"#000000\" points=\"1286.8588,-48.2093 1283.2362,-38.2531 1279.8593,-48.2953 1286.8588,-48.2093\"/>\n</g>\n<!-- 29 -->\n<g id=\"node30\" class=\"node\">\n<title>29</title>\n<path fill=\"#f4caac\" stroke=\"#000000\" d=\"M1470.5,-38C1470.5,-38 1373.5,-38 1373.5,-38 1367.5,-38 1361.5,-32 1361.5,-26 1361.5,-26 1361.5,-12 1361.5,-12 1361.5,-6 1367.5,0 1373.5,0 1373.5,0 1470.5,0 1470.5,0 1476.5,0 1482.5,-6 1482.5,-12 1482.5,-12 1482.5,-26 1482.5,-26 1482.5,-32 1476.5,-38 1470.5,-38\"/>\n<text text-anchor=\"middle\" x=\"1422\" y=\"-22.8\" font-family=\"Helvetica,sans-Serif\" font-size=\"14.00\" fill=\"#000000\">samples = 3.7%</text>\n<text text-anchor=\"middle\" x=\"1422\" y=\"-7.8\" font-family=\"Helvetica,sans-Serif\" font-size=\"14.00\" fill=\"#000000\">value = 455.468</text>\n</g>\n<!-- 27&#45;&gt;29 -->\n<g id=\"edge29\" class=\"edge\">\n<title>27&#45;&gt;29</title>\n<path fill=\"none\" stroke=\"#000000\" d=\"M1329.1864,-73.8139C1345.7675,-64.0214 1364.4397,-52.9939 1380.6658,-43.4112\"/>\n<polygon fill=\"#000000\" stroke=\"#000000\" points=\"1382.569,-46.352 1389.3997,-38.2531 1379.0094,-40.3246 1382.569,-46.352\"/>\n</g>\n<!-- 32 -->\n<g id=\"node33\" class=\"node\">\n<title>32</title>\n<path fill=\"#f0b78e\" stroke=\"#000000\" d=\"M1610.5,-119.5C1610.5,-119.5 1513.5,-119.5 1513.5,-119.5 1507.5,-119.5 1501.5,-113.5 1501.5,-107.5 1501.5,-107.5 1501.5,-93.5 1501.5,-93.5 1501.5,-87.5 1507.5,-81.5 1513.5,-81.5 1513.5,-81.5 1610.5,-81.5 1610.5,-81.5 1616.5,-81.5 1622.5,-87.5 1622.5,-93.5 1622.5,-93.5 1622.5,-107.5 1622.5,-107.5 1622.5,-113.5 1616.5,-119.5 1610.5,-119.5\"/>\n<text text-anchor=\"middle\" x=\"1562\" y=\"-104.3\" font-family=\"Helvetica,sans-Serif\" font-size=\"14.00\" fill=\"#000000\">samples = 2.5%</text>\n<text text-anchor=\"middle\" x=\"1562\" y=\"-89.3\" font-family=\"Helvetica,sans-Serif\" font-size=\"14.00\" fill=\"#000000\">value = 620.059</text>\n</g>\n<!-- 31&#45;&gt;32 -->\n<g id=\"edge32\" class=\"edge\">\n<title>31&#45;&gt;32</title>\n<path fill=\"none\" stroke=\"#000000\" d=\"M1562,-162.7971C1562,-152.3518 1562,-140.3403 1562,-129.6689\"/>\n<polygon fill=\"#000000\" stroke=\"#000000\" points=\"1565.5001,-129.5517 1562,-119.5518 1558.5001,-129.5518 1565.5001,-129.5517\"/>\n</g>\n<!-- 33 -->\n<g id=\"node34\" class=\"node\">\n<title>33</title>\n<path fill=\"#eead7e\" stroke=\"#000000\" d=\"M1749.5,-119.5C1749.5,-119.5 1652.5,-119.5 1652.5,-119.5 1646.5,-119.5 1640.5,-113.5 1640.5,-107.5 1640.5,-107.5 1640.5,-93.5 1640.5,-93.5 1640.5,-87.5 1646.5,-81.5 1652.5,-81.5 1652.5,-81.5 1749.5,-81.5 1749.5,-81.5 1755.5,-81.5 1761.5,-87.5 1761.5,-93.5 1761.5,-93.5 1761.5,-107.5 1761.5,-107.5 1761.5,-113.5 1755.5,-119.5 1749.5,-119.5\"/>\n<text text-anchor=\"middle\" x=\"1701\" y=\"-104.3\" font-family=\"Helvetica,sans-Serif\" font-size=\"14.00\" fill=\"#000000\">samples = 2.8%</text>\n<text text-anchor=\"middle\" x=\"1701\" y=\"-89.3\" font-family=\"Helvetica,sans-Serif\" font-size=\"14.00\" fill=\"#000000\">value = 706.517</text>\n</g>\n<!-- 31&#45;&gt;33 -->\n<g id=\"edge33\" class=\"edge\">\n<title>31&#45;&gt;33</title>\n<path fill=\"none\" stroke=\"#000000\" d=\"M1603.7046,-162.7971C1622.397,-150.8286 1644.301,-136.8037 1662.5881,-125.0946\"/>\n<polygon fill=\"#000000\" stroke=\"#000000\" points=\"1664.7107,-127.8916 1671.245,-119.5518 1660.9361,-121.9965 1664.7107,-127.8916\"/>\n</g>\n<!-- 35 -->\n<g id=\"node36\" class=\"node\">\n<title>35</title>\n<path fill=\"#eb9e67\" stroke=\"#000000\" d=\"M1752.5,-208.5C1752.5,-208.5 1655.5,-208.5 1655.5,-208.5 1649.5,-208.5 1643.5,-202.5 1643.5,-196.5 1643.5,-196.5 1643.5,-182.5 1643.5,-182.5 1643.5,-176.5 1649.5,-170.5 1655.5,-170.5 1655.5,-170.5 1752.5,-170.5 1752.5,-170.5 1758.5,-170.5 1764.5,-176.5 1764.5,-182.5 1764.5,-182.5 1764.5,-196.5 1764.5,-196.5 1764.5,-202.5 1758.5,-208.5 1752.5,-208.5\"/>\n<text text-anchor=\"middle\" x=\"1704\" y=\"-193.3\" font-family=\"Helvetica,sans-Serif\" font-size=\"14.00\" fill=\"#000000\">samples = 3.1%</text>\n<text text-anchor=\"middle\" x=\"1704\" y=\"-178.3\" font-family=\"Helvetica,sans-Serif\" font-size=\"14.00\" fill=\"#000000\">value = 833.067</text>\n</g>\n<!-- 34&#45;&gt;35 -->\n<g id=\"edge35\" class=\"edge\">\n<title>34&#45;&gt;35</title>\n<path fill=\"none\" stroke=\"#000000\" d=\"M1704,-251.7971C1704,-241.3518 1704,-229.3403 1704,-218.6689\"/>\n<polygon fill=\"#000000\" stroke=\"#000000\" points=\"1707.5001,-218.5517 1704,-208.5518 1700.5001,-218.5518 1707.5001,-218.5517\"/>\n</g>\n<!-- 36 -->\n<g id=\"node37\" class=\"node\">\n<title>36</title>\n<path fill=\"#e58139\" stroke=\"#000000\" d=\"M1891.5,-208.5C1891.5,-208.5 1794.5,-208.5 1794.5,-208.5 1788.5,-208.5 1782.5,-202.5 1782.5,-196.5 1782.5,-196.5 1782.5,-182.5 1782.5,-182.5 1782.5,-176.5 1788.5,-170.5 1794.5,-170.5 1794.5,-170.5 1891.5,-170.5 1891.5,-170.5 1897.5,-170.5 1903.5,-176.5 1903.5,-182.5 1903.5,-182.5 1903.5,-196.5 1903.5,-196.5 1903.5,-202.5 1897.5,-208.5 1891.5,-208.5\"/>\n<text text-anchor=\"middle\" x=\"1843\" y=\"-193.3\" font-family=\"Helvetica,sans-Serif\" font-size=\"14.00\" fill=\"#000000\">samples = 2.6%</text>\n<text text-anchor=\"middle\" x=\"1843\" y=\"-178.3\" font-family=\"Helvetica,sans-Serif\" font-size=\"14.00\" fill=\"#000000\">value = 1083.26</text>\n</g>\n<!-- 34&#45;&gt;36 -->\n<g id=\"edge36\" class=\"edge\">\n<title>34&#45;&gt;36</title>\n<path fill=\"none\" stroke=\"#000000\" d=\"M1745.7046,-251.7971C1764.397,-239.8286 1786.301,-225.8037 1804.5881,-214.0946\"/>\n<polygon fill=\"#000000\" stroke=\"#000000\" points=\"1806.7107,-216.8916 1813.245,-208.5518 1802.9361,-210.9965 1806.7107,-216.8916\"/>\n</g>\n</g>\n</svg>\n"
          },
          "metadata": {
            "tags": []
          }
        }
      ]
    },
    {
      "cell_type": "markdown",
      "metadata": {
        "id": "3txNv_m4c9fZ",
        "colab_type": "text"
      },
      "source": [
        "### Random Forest"
      ]
    },
    {
      "cell_type": "code",
      "metadata": {
        "id": "wVbnp0xATV42",
        "colab_type": "code",
        "outputId": "f311c5ec-1915-4b8e-96b5-42939ca8b03a",
        "colab": {
          "base_uri": "https://localhost:8080/",
          "height": 35
        }
      },
      "source": [
        "from sklearn.ensemble import RandomForestRegressor\n",
        "\n",
        "pipeline = make_pipeline(\n",
        "    RandomForestRegressor(n_jobs=-1, random_state=0)\n",
        ")\n",
        "\n",
        "pipeline.fit(X_train, y_train)\n",
        "print('Validation Accuracy:', pipeline.score(X_val, y_val))\n",
        "\n",
        "# Can I also get an MAE from this? \n",
        "\n",
        "# What is validation accuracy? "
      ],
      "execution_count": 172,
      "outputs": [
        {
          "output_type": "stream",
          "text": [
            "Validation Accuracy: 0.9238618075991644\n"
          ],
          "name": "stdout"
        }
      ]
    },
    {
      "cell_type": "code",
      "metadata": {
        "id": "cPJUDQr4Tqzg",
        "colab_type": "code",
        "outputId": "d2dc2e7d-673c-44ed-df88-5e05c5a19e3f",
        "colab": {
          "base_uri": "https://localhost:8080/",
          "height": 390
        }
      },
      "source": [
        "%matplotlib inline\n",
        "import matplotlib.pyplot as plt\n",
        "\n",
        "# Get feature importances\n",
        "rf = pipeline.named_steps['randomforestregressor']\n",
        "importances = pd.Series(rf.feature_importances_, X_train.columns)\n",
        "\n",
        "# Plot top n feature importances\n",
        "n = 12\n",
        "plt.figure(figsize=(10,n/2))\n",
        "plt.title(f'Top {n} features')\n",
        "importances.sort_values()[-n:].plot.barh(color='grey');"
      ],
      "execution_count": 173,
      "outputs": [
        {
          "output_type": "display_data",
          "data": {
            "image/png": "[encoded data removed]",
            "text/plain": [
              "<Figure size 720x432 with 1 Axes>"
            ]
          },
          "metadata": {
            "tags": []
          }
        }
      ]
    },
    {
      "cell_type": "markdown",
      "metadata": {
        "id": "cGXpGzz2adtv",
        "colab_type": "text"
      },
      "source": [
        "- Cross Validation"
      ]
    },
    {
      "cell_type": "code",
      "metadata": {
        "id": "GCIv4ztnadZ5",
        "colab_type": "code",
        "outputId": "30c3374c-365c-4960-984e-e30315a71c3a",
        "colab": {
          "base_uri": "https://localhost:8080/",
          "height": 70
        }
      },
      "source": [
        "import numpy as np\n",
        "from sklearn.feature_selection import f_regression, SelectKBest\n",
        "from sklearn.linear_model import Ridge\n",
        "from sklearn.model_selection import cross_val_score\n",
        "from sklearn.pipeline import make_pipeline\n",
        "\n",
        "pipeline = make_pipeline(\n",
        "    SelectKBest(f_regression, k=20), \n",
        "    Ridge(alpha=1.0)\n",
        ")\n",
        "\n",
        "k = 3\n",
        "scores = cross_val_score(pipeline, X_train, y_train, cv=k, scoring='neg_mean_absolute_error')\n",
        "print(f'MAE for {k} folds:', -scores)"
      ],
      "execution_count": 174,
      "outputs": [
        {
          "output_type": "stream",
          "text": [
            "MAE for 3 folds: [ 21.50120097  15.11843447 135.46574044]\n"
          ],
          "name": "stdout"
        },
        {
          "output_type": "stream",
          "text": [
            "/usr/local/lib/python3.6/dist-packages/sklearn/linear_model/_ridge.py:148: LinAlgWarning: Ill-conditioned matrix (rcond=4.58784e-45): result may not be accurate.\n",
            "  overwrite_a=True).T\n"
          ],
          "name": "stderr"
        }
      ]
    },
    {
      "cell_type": "code",
      "metadata": {
        "id": "5NpkVU0vbC27",
        "colab_type": "code",
        "outputId": "f075abe4-786c-415c-b5ef-389c28da303c",
        "colab": {
          "base_uri": "https://localhost:8080/",
          "height": 35
        }
      },
      "source": [
        "from sklearn.ensemble import RandomForestRegressor\n",
        "\n",
        "pipeline = make_pipeline( \n",
        "    RandomForestRegressor(n_estimators=100, n_jobs=-1, random_state=42)\n",
        ")\n",
        "\n",
        "k = 3\n",
        "scores = cross_val_score(pipeline, X_train, y_train, cv=k, \n",
        "                         scoring='neg_mean_absolute_error')\n",
        "print(f'MAE for {k} folds:', -scores)"
      ],
      "execution_count": 175,
      "outputs": [
        {
          "output_type": "stream",
          "text": [
            "MAE for 3 folds: [  4.29813204  20.76943707 236.32329518]\n"
          ],
          "name": "stdout"
        }
      ]
    },
    {
      "cell_type": "code",
      "metadata": {
        "id": "GTAst4WUARKo",
        "colab_type": "code",
        "colab": {
          "base_uri": "https://localhost:8080/",
          "height": 870
        },
        "outputId": "4fd6dfd2-47e4-4436-d114-d000a8ff4aa4"
      },
      "source": [
        "import sklearn\n",
        "sorted(sklearn.metrics.SCORERS.keys())"
      ],
      "execution_count": 176,
      "outputs": [
        {
          "output_type": "execute_result",
          "data": {
            "text/plain": [
              "['accuracy',\n",
              " 'adjusted_mutual_info_score',\n",
              " 'adjusted_rand_score',\n",
              " 'average_precision',\n",
              " 'balanced_accuracy',\n",
              " 'completeness_score',\n",
              " 'explained_variance',\n",
              " 'f1',\n",
              " 'f1_macro',\n",
              " 'f1_micro',\n",
              " 'f1_samples',\n",
              " 'f1_weighted',\n",
              " 'fowlkes_mallows_score',\n",
              " 'homogeneity_score',\n",
              " 'jaccard',\n",
              " 'jaccard_macro',\n",
              " 'jaccard_micro',\n",
              " 'jaccard_samples',\n",
              " 'jaccard_weighted',\n",
              " 'max_error',\n",
              " 'mutual_info_score',\n",
              " 'neg_brier_score',\n",
              " 'neg_log_loss',\n",
              " 'neg_mean_absolute_error',\n",
              " 'neg_mean_gamma_deviance',\n",
              " 'neg_mean_poisson_deviance',\n",
              " 'neg_mean_squared_error',\n",
              " 'neg_mean_squared_log_error',\n",
              " 'neg_median_absolute_error',\n",
              " 'neg_root_mean_squared_error',\n",
              " 'normalized_mutual_info_score',\n",
              " 'precision',\n",
              " 'precision_macro',\n",
              " 'precision_micro',\n",
              " 'precision_samples',\n",
              " 'precision_weighted',\n",
              " 'r2',\n",
              " 'recall',\n",
              " 'recall_macro',\n",
              " 'recall_micro',\n",
              " 'recall_samples',\n",
              " 'recall_weighted',\n",
              " 'roc_auc',\n",
              " 'roc_auc_ovo',\n",
              " 'roc_auc_ovo_weighted',\n",
              " 'roc_auc_ovr',\n",
              " 'roc_auc_ovr_weighted',\n",
              " 'v_measure_score']"
            ]
          },
          "metadata": {
            "tags": []
          },
          "execution_count": 176
        }
      ]
    },
    {
      "cell_type": "code",
      "metadata": {
        "id": "YtXROAHsa9F4",
        "colab_type": "code",
        "outputId": "cdda46bf-69b0-4c99-a50b-b2285322a74c",
        "colab": {
          "base_uri": "https://localhost:8080/",
          "height": 35
        }
      },
      "source": [
        "from sklearn.model_selection import validation_curve\n",
        "from sklearn.tree import DecisionTreeRegressor\n",
        "\n",
        "pipeline = make_pipeline(\n",
        "    DecisionTreeRegressor()\n",
        ")\n",
        "\n",
        "depth = range(1, 30, 3)\n",
        "train_scores, val_scores = validation_curve(\n",
        "    pipeline, X_train, y_train,\n",
        "    param_name='decisiontreeregressor__max_depth', \n",
        "    param_range=depth, scoring='neg_mean_absolute_error', \n",
        "    cv=3,\n",
        "    n_jobs=-1\n",
        ")\n",
        "\n",
        "k = 3\n",
        "scores = cross_val_score(pipeline, X_train, y_train, cv=k, \n",
        "                         scoring='neg_mean_absolute_error')\n",
        "print(f'MAE for {k} folds:', -scores)"
      ],
      "execution_count": 177,
      "outputs": [
        {
          "output_type": "stream",
          "text": [
            "MAE for 3 folds: [  3.33519451  27.08306636 422.54247706]\n"
          ],
          "name": "stdout"
        }
      ]
    },
    {
      "cell_type": "code",
      "metadata": {
        "id": "_QBEdtB0a2p8",
        "colab_type": "code",
        "colab": {
          "base_uri": "https://localhost:8080/",
          "height": 357
        },
        "outputId": "05964d19-55b9-4e87-9dd7-6d2e30e200e3"
      },
      "source": [
        "from sklearn.model_selection import GridSearchCV, RandomizedSearchCV\n",
        "\n",
        "pipeline = make_pipeline(\n",
        "    SelectKBest(f_regression), \n",
        "    Ridge()\n",
        ")\n",
        "\n",
        "param_distributions = {\n",
        "    'selectkbest__k': range(1, len(X_train.columns)+1), \n",
        "    'ridge__alpha': [0.1, 1, 10], \n",
        "}\n",
        "\n",
        "# If you're on Colab, decrease n_iter & cv parameters\n",
        "search = RandomizedSearchCV(\n",
        "    pipeline, \n",
        "    param_distributions=param_distributions, \n",
        "    n_iter=100, \n",
        "    cv=5, \n",
        "    scoring='neg_mean_absolute_error', \n",
        "    verbose=10, \n",
        "    return_train_score=True, \n",
        "    n_jobs=-1\n",
        ")\n",
        "\n",
        "search.fit(X_train, y_train);"
      ],
      "execution_count": 178,
      "outputs": [
        {
          "output_type": "stream",
          "text": [
            "Fitting 5 folds for each of 69 candidates, totalling 345 fits\n"
          ],
          "name": "stdout"
        },
        {
          "output_type": "stream",
          "text": [
            "/usr/local/lib/python3.6/dist-packages/sklearn/model_selection/_search.py:281: UserWarning: The total space of parameters 69 is smaller than n_iter=100. Running 69 iterations. For exhaustive searches, use GridSearchCV.\n",
            "  % (grid_size, self.n_iter, grid_size), UserWarning)\n",
            "[Parallel(n_jobs=-1)]: Using backend LokyBackend with 2 concurrent workers.\n",
            "[Parallel(n_jobs=-1)]: Done   1 tasks      | elapsed:    0.0s\n",
            "[Parallel(n_jobs=-1)]: Batch computation too fast (0.0236s.) Setting batch_size=2.\n",
            "[Parallel(n_jobs=-1)]: Done   4 tasks      | elapsed:    0.1s\n",
            "[Parallel(n_jobs=-1)]: Batch computation too fast (0.0496s.) Setting batch_size=4.\n",
            "[Parallel(n_jobs=-1)]: Done  16 tasks      | elapsed:    0.2s\n",
            "[Parallel(n_jobs=-1)]: Batch computation too fast (0.0958s.) Setting batch_size=8.\n",
            "[Parallel(n_jobs=-1)]: Batch computation too fast (0.1685s.) Setting batch_size=16.\n",
            "[Parallel(n_jobs=-1)]: Done  44 tasks      | elapsed:    0.4s\n",
            "[Parallel(n_jobs=-1)]: Done 140 tasks      | elapsed:    1.3s\n",
            "[Parallel(n_jobs=-1)]: Done 252 tasks      | elapsed:    2.1s\n",
            "[Parallel(n_jobs=-1)]: Done 321 tasks      | elapsed:    2.6s\n",
            "[Parallel(n_jobs=-1)]: Done 330 tasks      | elapsed:    2.8s\n",
            "[Parallel(n_jobs=-1)]: Done 341 tasks      | elapsed:    2.9s\n",
            "[Parallel(n_jobs=-1)]: Done 345 out of 345 | elapsed:    2.9s finished\n"
          ],
          "name": "stderr"
        }
      ]
    },
    {
      "cell_type": "code",
      "metadata": {
        "id": "rEilBgNkcG5v",
        "colab_type": "code",
        "outputId": "895311eb-aefd-4b3c-f212-a201256b4be4",
        "colab": {
          "base_uri": "https://localhost:8080/",
          "height": 52
        }
      },
      "source": [
        "print('Best hyperparameters', search.best_params_)\n",
        "print('Cross-validation MAE', -search.best_score_)"
      ],
      "execution_count": 179,
      "outputs": [
        {
          "output_type": "stream",
          "text": [
            "Best hyperparameters {'selectkbest__k': 1, 'ridge__alpha': 0.1}\n",
            "Cross-validation MAE 9.64047629813413\n"
          ],
          "name": "stdout"
        }
      ]
    },
    {
      "cell_type": "code",
      "metadata": {
        "id": "bCvMpPZu-1ho",
        "colab_type": "code",
        "colab": {}
      },
      "source": [
        "y_pred = search.predict(X_val)"
      ],
      "execution_count": 0,
      "outputs": []
    },
    {
      "cell_type": "code",
      "metadata": {
        "id": "Mh0YtwuS-2v9",
        "colab_type": "code",
        "outputId": "433264d6-1218-48d0-df68-d47b1f543be2",
        "colab": {
          "base_uri": "https://localhost:8080/",
          "height": 35
        }
      },
      "source": [
        "MAE = mean_absolute_error(y_val, y_pred)\n",
        "MAE"
      ],
      "execution_count": 181,
      "outputs": [
        {
          "output_type": "execute_result",
          "data": {
            "text/plain": [
              "6.927950049595443"
            ]
          },
          "metadata": {
            "tags": []
          },
          "execution_count": 181
        }
      ]
    },
    {
      "cell_type": "code",
      "metadata": {
        "id": "1dBNGUQp-_j-",
        "colab_type": "code",
        "outputId": "b4aa12ca-0804-4121-9bd3-2ac36d21c456",
        "colab": {
          "base_uri": "https://localhost:8080/",
          "height": 35
        }
      },
      "source": [
        "y_pred = search.predict(X_test)\n",
        "MAE = mean_absolute_error(y_test, y_pred)\n",
        "MAE"
      ],
      "execution_count": 182,
      "outputs": [
        {
          "output_type": "execute_result",
          "data": {
            "text/plain": [
              "4.3058535503039215"
            ]
          },
          "metadata": {
            "tags": []
          },
          "execution_count": 182
        }
      ]
    },
    {
      "cell_type": "markdown",
      "metadata": {
        "id": "Qevwq-GhSeDX",
        "colab_type": "text"
      },
      "source": [
        "### XGDBoost"
      ]
    },
    {
      "cell_type": "markdown",
      "metadata": {
        "id": "yFPO7RH1ekw0",
        "colab_type": "text"
      },
      "source": [
        "### Further things to do:\n",
        "- ### Random Forest\n",
        "- What is \"Validation Accuracy\" from a Decision Tree or Random Forest model?\n",
        "- Why can't I get MAE from them?\n",
        "    - Can I? \n",
        "- ### Cross Validation models\n",
        "    - Can I not get a \"validation score\" bc it's in the name? \n",
        "        - Again, what is it?\n",
        "    - Are the scores I'm getting a smattering of MAEs?\n",
        "    - Prob need to go back and watch lecture/notebook to max out finetuning CV hyperparameters\n",
        "- ### Classification\n",
        "    - get and interpret a Confusion Matrix"
      ]
    },
    {
      "cell_type": "code",
      "metadata": {
        "id": "R0vsv0mmekIi",
        "colab_type": "code",
        "colab": {}
      },
      "source": [
        ""
      ],
      "execution_count": 0,
      "outputs": []
    },
    {
      "cell_type": "markdown",
      "metadata": {
        "id": "vaZWBW1AUN05",
        "colab_type": "text"
      },
      "source": [
        "### Tom price movement (simple up or down) - (classification)"
      ]
    },
    {
      "cell_type": "code",
      "metadata": {
        "id": "CTJClIjMUM-2",
        "colab_type": "code",
        "colab": {}
      },
      "source": [
        ""
      ],
      "execution_count": 0,
      "outputs": []
    },
    {
      "cell_type": "markdown",
      "metadata": {
        "id": "S1AJCQJrIcGq",
        "colab_type": "text"
      },
      "source": [
        "### Does Select K-best work on logistic regression?\n",
        "### Is K-means unhelpful or irrelevant for this project?"
      ]
    },
    {
      "cell_type": "code",
      "metadata": {
        "id": "FPl1Pqx-Jd6c",
        "colab_type": "code",
        "outputId": "a3876108-feca-4c06-af3c-746cc5b56aa5",
        "colab": {
          "base_uri": "https://localhost:8080/",
          "height": 124
        }
      },
      "source": [
        "X_train.columns"
      ],
      "execution_count": 183,
      "outputs": [
        {
          "output_type": "execute_result",
          "data": {
            "text/plain": [
              "Index(['NetworkUtilization', 'TransactionFee', 'BlockDifficulty',\n",
              "       'NetworkHash', 'Uncles', 'BlockCountRewards', 'BlockReward', 'GasUsed',\n",
              "       'GasLimit', 'Value (Wei)', 'BlockTime', 'BlockSize', 'AddressCount',\n",
              "       'TxGrowth', 'Ethersupply2', 'Supply', 'Price', 'Year', 'Month', 'Day',\n",
              "       'Price_change_amount', 'Price_change', 'Percent'],\n",
              "      dtype='object')"
            ]
          },
          "metadata": {
            "tags": []
          },
          "execution_count": 183
        }
      ]
    },
    {
      "cell_type": "code",
      "metadata": {
        "id": "ZJk_dBiDIRb0",
        "colab_type": "code",
        "outputId": "76706f73-9979-417f-d695-c6efc3dff4bc",
        "colab": {
          "base_uri": "https://localhost:8080/",
          "height": 479
        }
      },
      "source": [
        "from sklearn.feature_selection import SelectKBest, f_regression\n",
        "\n",
        "# SelectKBest has a similar API to what we've seen before.\n",
        "selector = SelectKBest(score_func=f_regression, k=6)\n",
        "\n",
        "X_train_selected = selector.fit_transform(X_train, y_train)\n",
        "X_val_selected = selector.transform(X_val)\n",
        "\n",
        "#split\n",
        "selected_mask = selector.get_support()\n",
        "all_names = X_train.columns\n",
        "selected_names = all_names[selected_mask]\n",
        "unselected_names = all_names[~selected_mask]\n",
        "\n",
        "print('Features selected:')\n",
        "for name in selected_names:\n",
        "    print(name)\n",
        "\n",
        "print('\\nFeatures not selected:')\n",
        "for name in unselected_names:\n",
        "    print(name)"
      ],
      "execution_count": 184,
      "outputs": [
        {
          "output_type": "stream",
          "text": [
            "Features selected:\n",
            "NetworkUtilization\n",
            "Uncles\n",
            "GasUsed\n",
            "BlockSize\n",
            "TxGrowth\n",
            "Price\n",
            "\n",
            "Features not selected:\n",
            "TransactionFee\n",
            "BlockDifficulty\n",
            "NetworkHash\n",
            "BlockCountRewards\n",
            "BlockReward\n",
            "GasLimit\n",
            "Value (Wei)\n",
            "BlockTime\n",
            "AddressCount\n",
            "Ethersupply2\n",
            "Supply\n",
            "Year\n",
            "Month\n",
            "Day\n",
            "Price_change_amount\n",
            "Price_change\n",
            "Percent\n"
          ],
          "name": "stdout"
        }
      ]
    },
    {
      "cell_type": "code",
      "metadata": {
        "id": "d2W3M2ldIRZN",
        "colab_type": "code",
        "outputId": "b401452b-ccf7-4596-c270-a5c795b990a1",
        "colab": {
          "base_uri": "https://localhost:8080/",
          "height": 1000
        }
      },
      "source": [
        "MAE_list = []\n",
        "\n",
        "for k in range(1, len(X_train.columns)+1):\n",
        "    print(f'{k} features')\n",
        "\n",
        "    selector = SelectKBest(score_func=f_regression, k=k)\n",
        "    X_train_selected = selector.fit_transform(X_train, y_train)\n",
        "    X_val_selected = selector.transform(X_val)\n",
        "\n",
        "    model = LinearRegression()\n",
        "    model.fit(X_train_selected, y_train)\n",
        "    y_pred = model.predict(X_val_selected)\n",
        "    mae = mean_absolute_error(y_val, y_pred)\n",
        "    MAE_list.append(int(mae))\n",
        "    print(f'Test Mean Absolute Error: ${mae:,.0f} \\n')"
      ],
      "execution_count": 185,
      "outputs": [
        {
          "output_type": "stream",
          "text": [
            "1 features\n",
            "Test Mean Absolute Error: $7 \n",
            "\n",
            "2 features\n",
            "Test Mean Absolute Error: $8 \n",
            "\n",
            "3 features\n",
            "Test Mean Absolute Error: $8 \n",
            "\n",
            "4 features\n",
            "Test Mean Absolute Error: $8 \n",
            "\n",
            "5 features\n",
            "Test Mean Absolute Error: $8 \n",
            "\n",
            "6 features\n",
            "Test Mean Absolute Error: $8 \n",
            "\n",
            "7 features\n",
            "Test Mean Absolute Error: $12 \n",
            "\n",
            "8 features\n",
            "Test Mean Absolute Error: $11 \n",
            "\n",
            "9 features\n",
            "Test Mean Absolute Error: $11 \n",
            "\n",
            "10 features\n",
            "Test Mean Absolute Error: $257 \n",
            "\n",
            "11 features\n",
            "Test Mean Absolute Error: $257 \n",
            "\n",
            "12 features\n",
            "Test Mean Absolute Error: $257 \n",
            "\n",
            "13 features\n",
            "Test Mean Absolute Error: $228 \n",
            "\n",
            "14 features\n",
            "Test Mean Absolute Error: $228 \n",
            "\n",
            "15 features\n",
            "Test Mean Absolute Error: $86 \n",
            "\n",
            "16 features\n",
            "Test Mean Absolute Error: $86 \n",
            "\n",
            "17 features\n",
            "Test Mean Absolute Error: $86 \n",
            "\n",
            "18 features\n",
            "Test Mean Absolute Error: $86 \n",
            "\n",
            "19 features\n",
            "Test Mean Absolute Error: $86 \n",
            "\n",
            "20 features\n",
            "Test Mean Absolute Error: $86 \n",
            "\n",
            "21 features\n",
            "Test Mean Absolute Error: $86 \n",
            "\n",
            "22 features\n",
            "Test Mean Absolute Error: $86 \n",
            "\n",
            "23 features\n",
            "Test Mean Absolute Error: $86 \n",
            "\n"
          ],
          "name": "stdout"
        }
      ]
    },
    {
      "cell_type": "markdown",
      "metadata": {
        "id": "kY5PLa8uIgRT",
        "colab_type": "text"
      },
      "source": [
        "### Graphing the impact of each increased feature for linear regression"
      ]
    },
    {
      "cell_type": "code",
      "metadata": {
        "id": "WZF48M4NImXI",
        "colab_type": "code",
        "outputId": "109c7636-f459-49e9-bba5-431cab2c8532",
        "colab": {
          "base_uri": "https://localhost:8080/",
          "height": 265
        }
      },
      "source": [
        "import matplotlib.pyplot as plt\n",
        "\n",
        "X = range(1, len(MAE_list)+1)\n",
        "\n",
        "plt.plot(X, MAE_list, 'bx-')\n",
        "plt.show()"
      ],
      "execution_count": 186,
      "outputs": [
        {
          "output_type": "display_data",
          "data": {
            "image/png": "[encoded data removed]",
            "text/plain": [
              "<Figure size 432x288 with 1 Axes>"
            ]
          },
          "metadata": {
            "tags": []
          }
        }
      ]
    },
    {
      "cell_type": "code",
      "metadata": {
        "id": "mdulQSVWSob3",
        "colab_type": "code",
        "colab": {}
      },
      "source": [
        ""
      ],
      "execution_count": 0,
      "outputs": []
    },
    {
      "cell_type": "code",
      "metadata": {
        "id": "3_yeg1UDSsHW",
        "colab_type": "code",
        "colab": {}
      },
      "source": [
        ""
      ],
      "execution_count": 0,
      "outputs": []
    },
    {
      "cell_type": "markdown",
      "metadata": {
        "id": "a2SSsO7NTaum",
        "colab_type": "text"
      },
      "source": [
        "- Try to work on the app to deploy price predictions"
      ]
    },
    {
      "cell_type": "code",
      "metadata": {
        "id": "Nswq8KpuTaT-",
        "colab_type": "code",
        "colab": {}
      },
      "source": [
        ""
      ],
      "execution_count": 0,
      "outputs": []
    },
    {
      "cell_type": "markdown",
      "metadata": {
        "id": "kslHFoFpIrP9",
        "colab_type": "text"
      },
      "source": [
        "Etherscan API - https://etherscan.io/apis\n",
        "\n",
        "Messario API - https://messari.io/api"
      ]
    },
    {
      "cell_type": "markdown",
      "metadata": {
        "id": "KSDIPkthIrNE",
        "colab_type": "text"
      },
      "source": [
        "### Interesting exploratory question. Will I get a different model or modeling accuracy if I move the decimal right twice to convert everything to whole dollars (integers)?"
      ]
    },
    {
      "cell_type": "code",
      "metadata": {
        "id": "f5f6bdBqIt6c",
        "colab_type": "code",
        "colab": {}
      },
      "source": [
        ""
      ],
      "execution_count": 0,
      "outputs": []
    }
  ]
}