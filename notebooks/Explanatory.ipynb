{
  "nbformat": 4,
  "nbformat_minor": 0,
  "metadata": {
    "colab": {
      "name": "Explanatory.ipynb",
      "provenance": [],
      "collapsed_sections": [],
      "toc_visible": true,
      "mount_file_id": "1NOxj0zfQI4SiOr9ayYe4huAGgLkBtwUA",
      "authorship_tag": "ABX9TyME2vD6Yuj0x56U0OwImq7T",
      "include_colab_link": true
    },
    "kernelspec": {
      "name": "python3",
      "display_name": "Python 3"
    }
  },
  "cells": [
    {
      "cell_type": "markdown",
      "metadata": {
        "id": "view-in-github",
        "colab_type": "text"
      },
      "source": [
        "<a href=\"https://colab.research.google.com/github/danielscurlock/DS-Unit-1-Sprint-1-Data-Wrangling-and-Storytelling/blob/master/notebooks/Explanatory.ipynb\" target=\"_parent\"><img src=\"https://colab.research.google.com/assets/colab-badge.svg\" alt=\"Open In Colab\"/></a>"
      ]
    },
    {
      "cell_type": "markdown",
      "metadata": {
        "id": "VO_mKi5AbX8C",
        "colab_type": "text"
      },
      "source": [
        "\n",
        "# **Explanatory Analysis of 188 Million Wild Fires:**\n",
        "by: ***Daniel Scurlock*** (3/2/20)\n",
        "\n",
        "\n",
        "---\n",
        "\n",
        "\n",
        "\n",
        "# *Dataset Description:*\n",
        "https://www.kaggle.com/rtatman/188-million-us-wildfires\n",
        "\n",
        "This data publication contains a spatial database of wildfires that occurred in the United States from 1992 to 2015. It is the third update of a publication originally generated to support the national Fire Program Analysis (FPA) system. The wildfire records were acquired from the reporting systems of federal, state, and local fire organizations. The following core data elements were required for records to be included in this data publication: discovery date, final fire size, and a point location at least as precise as Public Land Survey System (PLSS) section (1-square mile grid). The data were transformed to conform, when possible, to the data standards of the National Wildfire Coordinating Group (NWCG). Basic error-checking was performed and redundant records were identified and removed, to the degree possible. The resulting product, referred to as the Fire Program Analysis fire-occurrence database (FPA FOD), includes 1.88 million geo-referenced wildfire records, representing a total of 140 million acres burned during the 24-year period.\n",
        "\n",
        "\n",
        "---\n",
        "\n",
        "\n",
        "***I will try to be as thorough as possible. My goal here is to ask questions and exmplain those answers with visulalizations***"
      ]
    },
    {
      "cell_type": "code",
      "metadata": {
        "id": "1_smPhV7ckDY",
        "colab_type": "code",
        "outputId": "d3ebacf7-447d-48b3-9d3f-563b18b39922",
        "colab": {
          "base_uri": "https://localhost:8080/",
          "height": 377
        }
      },
      "source": [
        "!pip install geoplot"
      ],
      "execution_count": 2,
      "outputs": [
        {
          "output_type": "stream",
          "text": [
            "Collecting geoplot\n",
            "  Downloading https://files.pythonhosted.org/packages/a0/40/40c264002dfba4736f35c3524f6a0e7a03458fb4fcc436ce501f541359b7/geoplot-0.4.0-py3-none-any.whl\n",
            "Requirement already satisfied: matplotlib in /usr/local/lib/python3.6/dist-packages (from geoplot) (3.1.3)\n",
            "Requirement already satisfied: descartes in /usr/local/lib/python3.6/dist-packages (from geoplot) (1.1.0)\n",
            "Collecting mapclassify\n",
            "\u001b[?25l  Downloading https://files.pythonhosted.org/packages/91/b5/6b54f40901d89f2ce30cf2d8110dd57658db3e95db79baba6706d7588691/mapclassify-2.2.0.tar.gz (47kB)\n",
            "\u001b[K     |████████████████████████████████| 51kB 3.9MB/s \n",
            "\u001b[?25hRequirement already satisfied: seaborn in /usr/local/lib/python3.6/dist-packages (from geoplot) (0.10.0)\n",
            "Requirement already satisfied: pandas in /usr/local/lib/python3.6/dist-packages (from geoplot) (0.25.3)\n",
            "Collecting geopandas\n",
            "\u001b[?25l  Downloading https://files.pythonhosted.org/packages/83/c5/3cf9cdc39a6f2552922f79915f36b45a95b71fd343cfc51170a5b6ddb6e8/geopandas-0.7.0-py2.py3-none-any.whl (928kB)\n",
            "\u001b[K     |████████████████████████████████| 931kB 14.4MB/s \n",
            "\u001b[?25hCollecting contextily>=1.0rc2\n",
            "  Downloading https://files.pythonhosted.org/packages/bb/e0/fd2f860ac34c97c1370514a1fa37d33c46dca5bea8a6f49dc167fbffbc1f/contextily-1.0rc2-py3-none-any.whl\n",
            "Collecting cartopy\n",
            "\u001b[?25l  Downloading https://files.pythonhosted.org/packages/e5/92/fe8838fa8158931906dfc4f16c5c1436b3dd2daf83592645b179581403ad/Cartopy-0.17.0.tar.gz (8.9MB)\n",
            "\u001b[K     |████████████████████████████████| 8.9MB 19.5MB/s \n",
            "\u001b[?25h  Installing build dependencies ... \u001b[?25l\u001b[?25hdone\n",
            "  Getting requirements to build wheel ... \u001b[?25l\u001b[?25herror\n",
            "\u001b[31mERROR: Command errored out with exit status 1: /usr/bin/python3 /usr/local/lib/python3.6/dist-packages/pip/_vendor/pep517/_in_process.py get_requires_for_build_wheel /tmp/tmpqek9otce Check the logs for full command output.\u001b[0m\n"
          ],
          "name": "stdout"
        }
      ]
    },
    {
      "cell_type": "code",
      "metadata": {
        "id": "wikar6ykcBS6",
        "colab_type": "code",
        "colab": {}
      },
      "source": [
        "# Get things ready for analysis\n",
        "import pandas as pd\n",
        "from scipy.stats import ttest_ind, ttest_ind_from_stats\n",
        "from scipy.special import stdtr\n",
        "import matplotlib.pyplot as plt\n",
        "import descartes \n",
        "from shapely.geometry import Point, Polygon\n",
        "import numpy as np"
      ],
      "execution_count": 0,
      "outputs": []
    },
    {
      "cell_type": "code",
      "metadata": {
        "id": "BIoLxL1TcejJ",
        "colab_type": "code",
        "outputId": "48e57f8f-655d-4437-d0fd-ae92e632eb8d",
        "colab": {
          "base_uri": "https://localhost:8080/",
          "height": 71
        }
      },
      "source": [
        "# Get the previously created CSV into place for tomorrow\n",
        "df = pd.read_csv('/content/drive/My Drive/Lambda/DSU1-BUILD/data/firesfinal.csv', index_col=0 , infer_datetime_format=True)\n",
        "\n",
        "\n"
      ],
      "execution_count": 4,
      "outputs": [
        {
          "output_type": "stream",
          "text": [
            "/usr/local/lib/python3.6/dist-packages/numpy/lib/arraysetops.py:568: FutureWarning: elementwise comparison failed; returning scalar instead, but in the future will perform elementwise comparison\n",
            "  mask |= (ar1 == a)\n"
          ],
          "name": "stderr"
        }
      ]
    },
    {
      "cell_type": "code",
      "metadata": {
        "id": "fLxB79F682nX",
        "colab_type": "code",
        "outputId": "0884904b-2f3b-4b72-b233-b5527925c802",
        "colab": {
          "base_uri": "https://localhost:8080/",
          "height": 309
        }
      },
      "source": [
        "df.head()"
      ],
      "execution_count": 5,
      "outputs": [
        {
          "output_type": "execute_result",
          "data": {
            "text/html": [
              "<div>\n",
              "<style scoped>\n",
              "    .dataframe tbody tr th:only-of-type {\n",
              "        vertical-align: middle;\n",
              "    }\n",
              "\n",
              "    .dataframe tbody tr th {\n",
              "        vertical-align: top;\n",
              "    }\n",
              "\n",
              "    .dataframe thead th {\n",
              "        text-align: right;\n",
              "    }\n",
              "</style>\n",
              "<table border=\"1\" class=\"dataframe\">\n",
              "  <thead>\n",
              "    <tr style=\"text-align: right;\">\n",
              "      <th></th>\n",
              "      <th>STAT_CAUSE_DESCR</th>\n",
              "      <th>FIRE_SIZE</th>\n",
              "      <th>FIRE_SIZE_CLASS</th>\n",
              "      <th>LATITUDE</th>\n",
              "      <th>LONGITUDE</th>\n",
              "      <th>STATE</th>\n",
              "      <th>DATE</th>\n",
              "      <th>YEAR</th>\n",
              "      <th>MONTH</th>\n",
              "      <th>DAY</th>\n",
              "      <th>WEEKDAY</th>\n",
              "      <th>HEINSELMAN</th>\n",
              "      <th>STATE_NAME</th>\n",
              "      <th>REGION</th>\n",
              "      <th>DIVISION</th>\n",
              "    </tr>\n",
              "  </thead>\n",
              "  <tbody>\n",
              "    <tr>\n",
              "      <th>0</th>\n",
              "      <td>Other</td>\n",
              "      <td>0.10</td>\n",
              "      <td>A</td>\n",
              "      <td>40.036944</td>\n",
              "      <td>-121.005833</td>\n",
              "      <td>CA</td>\n",
              "      <td>2005-02-02</td>\n",
              "      <td>2005</td>\n",
              "      <td>February</td>\n",
              "      <td>2</td>\n",
              "      <td>Wednesday</td>\n",
              "      <td>small</td>\n",
              "      <td>California</td>\n",
              "      <td>West</td>\n",
              "      <td>Pacific</td>\n",
              "    </tr>\n",
              "    <tr>\n",
              "      <th>1</th>\n",
              "      <td>Lightning</td>\n",
              "      <td>0.25</td>\n",
              "      <td>A</td>\n",
              "      <td>38.933056</td>\n",
              "      <td>-120.404444</td>\n",
              "      <td>CA</td>\n",
              "      <td>2004-05-12</td>\n",
              "      <td>2004</td>\n",
              "      <td>May</td>\n",
              "      <td>12</td>\n",
              "      <td>Wednesday</td>\n",
              "      <td>small</td>\n",
              "      <td>California</td>\n",
              "      <td>West</td>\n",
              "      <td>Pacific</td>\n",
              "    </tr>\n",
              "    <tr>\n",
              "      <th>2</th>\n",
              "      <td>Debris Burning</td>\n",
              "      <td>0.10</td>\n",
              "      <td>A</td>\n",
              "      <td>38.984167</td>\n",
              "      <td>-120.735556</td>\n",
              "      <td>CA</td>\n",
              "      <td>2004-05-31</td>\n",
              "      <td>2004</td>\n",
              "      <td>May</td>\n",
              "      <td>31</td>\n",
              "      <td>Monday</td>\n",
              "      <td>small</td>\n",
              "      <td>California</td>\n",
              "      <td>West</td>\n",
              "      <td>Pacific</td>\n",
              "    </tr>\n",
              "    <tr>\n",
              "      <th>3</th>\n",
              "      <td>Lightning</td>\n",
              "      <td>0.10</td>\n",
              "      <td>A</td>\n",
              "      <td>38.559167</td>\n",
              "      <td>-119.913333</td>\n",
              "      <td>CA</td>\n",
              "      <td>2004-06-28</td>\n",
              "      <td>2004</td>\n",
              "      <td>June</td>\n",
              "      <td>28</td>\n",
              "      <td>Monday</td>\n",
              "      <td>small</td>\n",
              "      <td>California</td>\n",
              "      <td>West</td>\n",
              "      <td>Pacific</td>\n",
              "    </tr>\n",
              "    <tr>\n",
              "      <th>4</th>\n",
              "      <td>Lightning</td>\n",
              "      <td>0.10</td>\n",
              "      <td>A</td>\n",
              "      <td>38.559167</td>\n",
              "      <td>-119.933056</td>\n",
              "      <td>CA</td>\n",
              "      <td>2004-06-28</td>\n",
              "      <td>2004</td>\n",
              "      <td>June</td>\n",
              "      <td>28</td>\n",
              "      <td>Monday</td>\n",
              "      <td>small</td>\n",
              "      <td>California</td>\n",
              "      <td>West</td>\n",
              "      <td>Pacific</td>\n",
              "    </tr>\n",
              "  </tbody>\n",
              "</table>\n",
              "</div>"
            ],
            "text/plain": [
              "  STAT_CAUSE_DESCR  FIRE_SIZE FIRE_SIZE_CLASS  ...  STATE_NAME  REGION DIVISION\n",
              "0            Other       0.10               A  ...  California    West  Pacific\n",
              "1        Lightning       0.25               A  ...  California    West  Pacific\n",
              "2   Debris Burning       0.10               A  ...  California    West  Pacific\n",
              "3        Lightning       0.10               A  ...  California    West  Pacific\n",
              "4        Lightning       0.10               A  ...  California    West  Pacific\n",
              "\n",
              "[5 rows x 15 columns]"
            ]
          },
          "metadata": {
            "tags": []
          },
          "execution_count": 5
        }
      ]
    },
    {
      "cell_type": "markdown",
      "metadata": {
        "id": "s-0nx52wpjX6",
        "colab_type": "text"
      },
      "source": [
        "# **A regional analysis of wildfires**\n",
        "I will compare and contrast wildfire data based on region. I want to know the frequency of fires per region, and the average acreage burned. I want to identify the most frequest cause of of those fires per region. I also want to identify the months where fires are more frequent"
      ]
    },
    {
      "cell_type": "code",
      "metadata": {
        "id": "ZZxihKuRmyNn",
        "colab_type": "code",
        "colab": {}
      },
      "source": [
        "from IPython.display import display, Image\n",
        "\n",
        "# GRAB ME AN IMAGE, AND THEME OTHER THINGS ACCORDINGLY.\n",
        "url = 'https://www.eia.gov/consumption/commercial/images/cendivco_new.gif'\n",
        "regional = Image(url=url, width=500)\n"
      ],
      "execution_count": 0,
      "outputs": []
    },
    {
      "cell_type": "code",
      "metadata": {
        "id": "4rQnFiL3dOGJ",
        "colab_type": "code",
        "outputId": "a36870b0-f414-4696-c463-398c2fcf94cc",
        "colab": {
          "base_uri": "https://localhost:8080/",
          "height": 309
        }
      },
      "source": [
        "df.head()"
      ],
      "execution_count": 7,
      "outputs": [
        {
          "output_type": "execute_result",
          "data": {
            "text/html": [
              "<div>\n",
              "<style scoped>\n",
              "    .dataframe tbody tr th:only-of-type {\n",
              "        vertical-align: middle;\n",
              "    }\n",
              "\n",
              "    .dataframe tbody tr th {\n",
              "        vertical-align: top;\n",
              "    }\n",
              "\n",
              "    .dataframe thead th {\n",
              "        text-align: right;\n",
              "    }\n",
              "</style>\n",
              "<table border=\"1\" class=\"dataframe\">\n",
              "  <thead>\n",
              "    <tr style=\"text-align: right;\">\n",
              "      <th></th>\n",
              "      <th>STAT_CAUSE_DESCR</th>\n",
              "      <th>FIRE_SIZE</th>\n",
              "      <th>FIRE_SIZE_CLASS</th>\n",
              "      <th>LATITUDE</th>\n",
              "      <th>LONGITUDE</th>\n",
              "      <th>STATE</th>\n",
              "      <th>DATE</th>\n",
              "      <th>YEAR</th>\n",
              "      <th>MONTH</th>\n",
              "      <th>DAY</th>\n",
              "      <th>WEEKDAY</th>\n",
              "      <th>HEINSELMAN</th>\n",
              "      <th>STATE_NAME</th>\n",
              "      <th>REGION</th>\n",
              "      <th>DIVISION</th>\n",
              "    </tr>\n",
              "  </thead>\n",
              "  <tbody>\n",
              "    <tr>\n",
              "      <th>0</th>\n",
              "      <td>Other</td>\n",
              "      <td>0.10</td>\n",
              "      <td>A</td>\n",
              "      <td>40.036944</td>\n",
              "      <td>-121.005833</td>\n",
              "      <td>CA</td>\n",
              "      <td>2005-02-02</td>\n",
              "      <td>2005</td>\n",
              "      <td>February</td>\n",
              "      <td>2</td>\n",
              "      <td>Wednesday</td>\n",
              "      <td>small</td>\n",
              "      <td>California</td>\n",
              "      <td>West</td>\n",
              "      <td>Pacific</td>\n",
              "    </tr>\n",
              "    <tr>\n",
              "      <th>1</th>\n",
              "      <td>Lightning</td>\n",
              "      <td>0.25</td>\n",
              "      <td>A</td>\n",
              "      <td>38.933056</td>\n",
              "      <td>-120.404444</td>\n",
              "      <td>CA</td>\n",
              "      <td>2004-05-12</td>\n",
              "      <td>2004</td>\n",
              "      <td>May</td>\n",
              "      <td>12</td>\n",
              "      <td>Wednesday</td>\n",
              "      <td>small</td>\n",
              "      <td>California</td>\n",
              "      <td>West</td>\n",
              "      <td>Pacific</td>\n",
              "    </tr>\n",
              "    <tr>\n",
              "      <th>2</th>\n",
              "      <td>Debris Burning</td>\n",
              "      <td>0.10</td>\n",
              "      <td>A</td>\n",
              "      <td>38.984167</td>\n",
              "      <td>-120.735556</td>\n",
              "      <td>CA</td>\n",
              "      <td>2004-05-31</td>\n",
              "      <td>2004</td>\n",
              "      <td>May</td>\n",
              "      <td>31</td>\n",
              "      <td>Monday</td>\n",
              "      <td>small</td>\n",
              "      <td>California</td>\n",
              "      <td>West</td>\n",
              "      <td>Pacific</td>\n",
              "    </tr>\n",
              "    <tr>\n",
              "      <th>3</th>\n",
              "      <td>Lightning</td>\n",
              "      <td>0.10</td>\n",
              "      <td>A</td>\n",
              "      <td>38.559167</td>\n",
              "      <td>-119.913333</td>\n",
              "      <td>CA</td>\n",
              "      <td>2004-06-28</td>\n",
              "      <td>2004</td>\n",
              "      <td>June</td>\n",
              "      <td>28</td>\n",
              "      <td>Monday</td>\n",
              "      <td>small</td>\n",
              "      <td>California</td>\n",
              "      <td>West</td>\n",
              "      <td>Pacific</td>\n",
              "    </tr>\n",
              "    <tr>\n",
              "      <th>4</th>\n",
              "      <td>Lightning</td>\n",
              "      <td>0.10</td>\n",
              "      <td>A</td>\n",
              "      <td>38.559167</td>\n",
              "      <td>-119.933056</td>\n",
              "      <td>CA</td>\n",
              "      <td>2004-06-28</td>\n",
              "      <td>2004</td>\n",
              "      <td>June</td>\n",
              "      <td>28</td>\n",
              "      <td>Monday</td>\n",
              "      <td>small</td>\n",
              "      <td>California</td>\n",
              "      <td>West</td>\n",
              "      <td>Pacific</td>\n",
              "    </tr>\n",
              "  </tbody>\n",
              "</table>\n",
              "</div>"
            ],
            "text/plain": [
              "  STAT_CAUSE_DESCR  FIRE_SIZE FIRE_SIZE_CLASS  ...  STATE_NAME  REGION DIVISION\n",
              "0            Other       0.10               A  ...  California    West  Pacific\n",
              "1        Lightning       0.25               A  ...  California    West  Pacific\n",
              "2   Debris Burning       0.10               A  ...  California    West  Pacific\n",
              "3        Lightning       0.10               A  ...  California    West  Pacific\n",
              "4        Lightning       0.10               A  ...  California    West  Pacific\n",
              "\n",
              "[5 rows x 15 columns]"
            ]
          },
          "metadata": {
            "tags": []
          },
          "execution_count": 7
        }
      ]
    },
    {
      "cell_type": "code",
      "metadata": {
        "id": "-4clMVKqEu0A",
        "colab_type": "code",
        "outputId": "92911f88-a8e1-4df2-eb80-9e1f9cb9dd0e",
        "colab": {
          "base_uri": "https://localhost:8080/",
          "height": 34
        }
      },
      "source": [
        "df['FIRE_SIZE'].sum() / 100000000"
      ],
      "execution_count": 8,
      "outputs": [
        {
          "output_type": "execute_result",
          "data": {
            "text/plain": [
              "1.3999386113268495"
            ]
          },
          "metadata": {
            "tags": []
          },
          "execution_count": 8
        }
      ]
    },
    {
      "cell_type": "code",
      "metadata": {
        "id": "WXQOnEeonWqh",
        "colab_type": "code",
        "outputId": "f80d25f1-90aa-45b5-dd2b-52e0981f701f",
        "colab": {
          "base_uri": "https://localhost:8080/",
          "height": 289
        }
      },
      "source": [
        "df.dtypes"
      ],
      "execution_count": 9,
      "outputs": [
        {
          "output_type": "execute_result",
          "data": {
            "text/plain": [
              "STAT_CAUSE_DESCR     object\n",
              "FIRE_SIZE           float64\n",
              "FIRE_SIZE_CLASS      object\n",
              "LATITUDE            float64\n",
              "LONGITUDE           float64\n",
              "STATE                object\n",
              "DATE                 object\n",
              "YEAR                  int64\n",
              "MONTH                object\n",
              "DAY                   int64\n",
              "WEEKDAY              object\n",
              "HEINSELMAN           object\n",
              "STATE_NAME           object\n",
              "REGION               object\n",
              "DIVISION             object\n",
              "dtype: object"
            ]
          },
          "metadata": {
            "tags": []
          },
          "execution_count": 9
        }
      ]
    },
    {
      "cell_type": "code",
      "metadata": {
        "id": "hZ26HdtktYwo",
        "colab_type": "code",
        "outputId": "9cba7bdb-2ed1-47ab-be0b-b09cf13fd164",
        "colab": {
          "base_uri": "https://localhost:8080/",
          "height": 102
        }
      },
      "source": [
        "# What kind of regions do we have?\n",
        "df['REGION'].value_counts()"
      ],
      "execution_count": 10,
      "outputs": [
        {
          "output_type": "execute_result",
          "data": {
            "text/plain": [
              "South        950358\n",
              "West         589422\n",
              "Midwest      178933\n",
              "Northeast    139671\n",
              "Name: REGION, dtype: int64"
            ]
          },
          "metadata": {
            "tags": []
          },
          "execution_count": 10
        }
      ]
    },
    {
      "cell_type": "code",
      "metadata": {
        "id": "x_ZYVoTWl2CY",
        "colab_type": "code",
        "outputId": "15b82579-a656-4152-d7df-4ee1b64bb187",
        "colab": {
          "base_uri": "https://localhost:8080/",
          "height": 187
        }
      },
      "source": [
        "df['DIVISION'].value_counts()"
      ],
      "execution_count": 11,
      "outputs": [
        {
          "output_type": "execute_result",
          "data": {
            "text/plain": [
              "South Atlantic        499379\n",
              "Pacific               306889\n",
              "Mountain              282533\n",
              "West South Central    246936\n",
              "East South Central    204043\n",
              "West North Central    128666\n",
              "Middle Atlantic       115531\n",
              "East North Central     50267\n",
              "New England            24140\n",
              "Name: DIVISION, dtype: int64"
            ]
          },
          "metadata": {
            "tags": []
          },
          "execution_count": 11
        }
      ]
    },
    {
      "cell_type": "code",
      "metadata": {
        "id": "vqekH4D2nH7s",
        "colab_type": "code",
        "outputId": "415e2510-6f82-410f-baf0-dbe6293afe2e",
        "colab": {
          "base_uri": "https://localhost:8080/",
          "height": 421
        }
      },
      "source": [
        "display(regional)"
      ],
      "execution_count": 12,
      "outputs": [
        {
          "output_type": "display_data",
          "data": {
            "text/html": [
              "<img src=\"https://www.eia.gov/consumption/commercial/images/cendivco_new.gif\" width=\"500\"/>"
            ],
            "text/plain": [
              "<IPython.core.display.Image object>"
            ]
          },
          "metadata": {
            "tags": []
          }
        }
      ]
    },
    {
      "cell_type": "code",
      "metadata": {
        "id": "yDylw1ueb2UU",
        "colab_type": "code",
        "colab": {}
      },
      "source": [
        "# Subset for each region\n",
        "south = df[df['REGION'] == 'South']\n",
        "west = df[df['REGION'] == 'West']\n",
        "midwest = df[df['REGION'] == 'Midwest']\n",
        "northeast = df[df['REGION'] == 'Northeast']\n"
      ],
      "execution_count": 0,
      "outputs": []
    },
    {
      "cell_type": "markdown",
      "metadata": {
        "id": "Jff_XbZPjJY_",
        "colab_type": "text"
      },
      "source": [
        ""
      ]
    },
    {
      "cell_type": "markdown",
      "metadata": {
        "id": "YobG2X1VwtZH",
        "colab_type": "text"
      },
      "source": [
        "# Statistical significance\n",
        "looking for anything statistically significant in fires"
      ]
    },
    {
      "cell_type": "code",
      "metadata": {
        "id": "3mNrfUuBjcml",
        "colab_type": "code",
        "colab": {}
      },
      "source": [
        "# Want to perform from testing, both on numerical \n",
        "# and catagorical data.\n",
        "\n",
        "# The first of which is the ttest on the size of the fire\n",
        "# The t test tells us how significant the differences in \n",
        "# fire size is between regions, and if those differences \n",
        "# (measured in means/averages) could have happened by chance.\n",
        "\n",
        "dfs = [[south, 'south'],\n",
        "       [west, 'west'], \n",
        "       [midwest, 'midwest'], \n",
        "       [northeast, 'northeast']]\n",
        "\n",
        "\n",
        "tmplist = []\n",
        "for rega in dfs:\n",
        "  for regb in dfs:\n",
        "    if rega[1] != regb[1]:\n",
        "      t, p = ttest_ind(rega[0]['FIRE_SIZE'], regb[0]['FIRE_SIZE'], nan_policy='omit')\n",
        "      tmplist.append([rega[1], regb[1], abs(t), p])\n",
        "\n",
        "tpdf = pd.DataFrame(tmplist, columns=['rega', 'regb', 't-vaule', 'p-value'])\n",
        "\n",
        "tpdf['conclusion'] = ['fail to reject' if x >= 0.5 else 'reject' for x in tpdf['p-value']]"
      ],
      "execution_count": 0,
      "outputs": []
    },
    {
      "cell_type": "markdown",
      "metadata": {
        "id": "uQ5D3mlC0jDQ",
        "colab_type": "text"
      },
      "source": [
        "##Fires per year \n"
      ]
    },
    {
      "cell_type": "markdown",
      "metadata": {
        "id": "S02y-gVQh5X3",
        "colab_type": "text"
      },
      "source": [
        "### Total Fires per year \n",
        "This visual emphasizes total fires per year, while showing their distrubution among regions"
      ]
    },
    {
      "cell_type": "code",
      "metadata": {
        "id": "7Pw8UcQ4vULl",
        "colab_type": "code",
        "outputId": "146b7695-957f-426e-aa07-870f11506e0b",
        "colab": {
          "base_uri": "https://localhost:8080/",
          "height": 587
        }
      },
      "source": [
        "# Colors for stacks:\n",
        "# Midwest = 5098CB\n",
        "# Northeast = 70A225\n",
        "# South = C07A27\n",
        "# West = A7373F\n",
        "\n",
        "plt.style.use('fivethirtyeight')\n",
        "fig, ax = plt.subplots(figsize=(10,8)) \n",
        "dfyearbyregion = df.groupby(['YEAR','REGION']).size().unstack()\n",
        "dfyearbyregion.plot(kind='barh',stacked=True, ax=ax, colors=['#5098CB', '#70A225', '#C07A27', '#A7373F'])\n",
        "\n",
        "ax.set_title('Yearly Fires grouped by Region',\n",
        "             rotation='vertical', \n",
        "             loc = 'left', \n",
        "             color = 'Grey', \n",
        "             fontsize=16, \n",
        "             fontweight = 'semibold', \n",
        "             x=-0.12, \n",
        "             y=0.19)\n",
        "\n",
        "ax.set_xlabel('Fires (in thousands)', \n",
        "               color='Grey', \n",
        "               fontsize=12, \n",
        "               fontweight='bold')\n",
        "\n",
        "\n",
        "# MY BRAIN WENT BLANK. I ACTUALLY FORGOT\n",
        "# HOW TO DO THIS THE NOT RETARDED WAY. \n",
        "ax.set_xticks([0, \n",
        "               5000, \n",
        "               10000, \n",
        "               15000, \n",
        "               20000, \n",
        "               25000, \n",
        "               30000, \n",
        "               35000, \n",
        "               40000, \n",
        "               45000, \n",
        "               50000, \n",
        "               55000, \n",
        "               60000, \n",
        "               65000,\n",
        "               70000,\n",
        "               75000,\n",
        "               80000,\n",
        "               85000,\n",
        "               90000,\n",
        "               95000,\n",
        "               100000,\n",
        "               105000,\n",
        "               110000,\n",
        "               115000,\n",
        "               120000])\n",
        "\n",
        "ax.set_xticklabels(labels = ['0', '5','10', '15' ,'20', '25', '30', '35', '40', '45', '50',\n",
        "                             '55','60', '65','70', '75', '80', '85', '90', '95', '100', '105',\n",
        "                             '110','115','120'], \n",
        "                      rotation='horizontal', \n",
        "                      color='grey', \n",
        "                      fontsize=8,\n",
        "                      fontweight='bold')\n",
        "\n",
        "ax.set_ylabel('Year (1992 - 2015)', \n",
        "               color='DarkGrey', \n",
        "               fontsize=12, \n",
        "               fontweight='bold')\n",
        "\n",
        "ax.set_yticklabels(labels = ['1992','1993','1994','1995','1996','1997','1998',\n",
        "                             '1999','2000','2001','2002','2003','2004','2005',\n",
        "                             '2006','2007', '2008','2009','2010','2011','2012',\n",
        "                             '2013','2014','2015'], \n",
        "                      color='grey', \n",
        "                      fontsize=8,\n",
        "                      fontweight='bold')\n",
        "\n",
        "# Border removal\n",
        "ax.spines['top'].set_visible(False)\n",
        "ax.spines['right'].set_visible(True)\n",
        "ax.spines['bottom'].set_visible(False)\n",
        "ax.spines['left'].set_visible(False)\n",
        "\n",
        "# Grid\n",
        "ax.grid(axis='y')\n",
        "\n",
        "# Need some padding for the tick labels it looks like\n",
        "ax.tick_params(axis='both', which='major', pad=10)\n",
        "\n",
        "fig.patch.set(facecolor='white')\n",
        "ax.set(facecolor='white')\n",
        "\n",
        "plt.show()"
      ],
      "execution_count": 14,
      "outputs": [
        {
          "output_type": "stream",
          "text": [
            "/usr/local/lib/python3.6/dist-packages/pandas/plotting/_matplotlib/core.py:203: UserWarning: 'colors' is being deprecated. Please use 'color'instead of 'colors'\n",
            "  \"'colors' is being deprecated. Please use 'color'\"\n"
          ],
          "name": "stderr"
        },
        {
          "output_type": "display_data",
          "data": {
            "image/png": "[encoded data removed]",
            "text/plain": [
              "<Figure size 720x576 with 1 Axes>"
            ]
          },
          "metadata": {
            "tags": []
          }
        }
      ]
    },
    {
      "cell_type": "markdown",
      "metadata": {
        "id": "f45CVs4PhmD4",
        "colab_type": "text"
      },
      "source": [
        "### Acreage per year"
      ]
    },
    {
      "cell_type": "code",
      "metadata": {
        "id": "RDSwsvnVsP6X",
        "colab_type": "code",
        "colab": {
          "base_uri": "https://localhost:8080/",
          "height": 421
        },
        "outputId": "ee300338-208c-4609-bf9c-1a9ab1b8e118"
      },
      "source": [
        "tpdf.head(20)"
      ],
      "execution_count": 17,
      "outputs": [
        {
          "output_type": "execute_result",
          "data": {
            "text/html": [
              "<div>\n",
              "<style scoped>\n",
              "    .dataframe tbody tr th:only-of-type {\n",
              "        vertical-align: middle;\n",
              "    }\n",
              "\n",
              "    .dataframe tbody tr th {\n",
              "        vertical-align: top;\n",
              "    }\n",
              "\n",
              "    .dataframe thead th {\n",
              "        text-align: right;\n",
              "    }\n",
              "</style>\n",
              "<table border=\"1\" class=\"dataframe\">\n",
              "  <thead>\n",
              "    <tr style=\"text-align: right;\">\n",
              "      <th></th>\n",
              "      <th>rega</th>\n",
              "      <th>regb</th>\n",
              "      <th>t-vaule</th>\n",
              "      <th>p-value</th>\n",
              "      <th>conclusion</th>\n",
              "    </tr>\n",
              "  </thead>\n",
              "  <tbody>\n",
              "    <tr>\n",
              "      <th>0</th>\n",
              "      <td>south</td>\n",
              "      <td>west</td>\n",
              "      <td>34.088523</td>\n",
              "      <td>1.359087e-254</td>\n",
              "      <td>reject</td>\n",
              "    </tr>\n",
              "    <tr>\n",
              "      <th>1</th>\n",
              "      <td>south</td>\n",
              "      <td>midwest</td>\n",
              "      <td>2.138238</td>\n",
              "      <td>3.249762e-02</td>\n",
              "      <td>reject</td>\n",
              "    </tr>\n",
              "    <tr>\n",
              "      <th>2</th>\n",
              "      <td>south</td>\n",
              "      <td>northeast</td>\n",
              "      <td>8.725730</td>\n",
              "      <td>2.648306e-18</td>\n",
              "      <td>reject</td>\n",
              "    </tr>\n",
              "    <tr>\n",
              "      <th>3</th>\n",
              "      <td>west</td>\n",
              "      <td>south</td>\n",
              "      <td>34.088523</td>\n",
              "      <td>1.359087e-254</td>\n",
              "      <td>reject</td>\n",
              "    </tr>\n",
              "    <tr>\n",
              "      <th>4</th>\n",
              "      <td>west</td>\n",
              "      <td>midwest</td>\n",
              "      <td>14.917556</td>\n",
              "      <td>2.575363e-50</td>\n",
              "      <td>reject</td>\n",
              "    </tr>\n",
              "    <tr>\n",
              "      <th>5</th>\n",
              "      <td>west</td>\n",
              "      <td>northeast</td>\n",
              "      <td>15.940912</td>\n",
              "      <td>3.369421e-57</td>\n",
              "      <td>reject</td>\n",
              "    </tr>\n",
              "    <tr>\n",
              "      <th>6</th>\n",
              "      <td>midwest</td>\n",
              "      <td>south</td>\n",
              "      <td>2.138238</td>\n",
              "      <td>3.249762e-02</td>\n",
              "      <td>reject</td>\n",
              "    </tr>\n",
              "    <tr>\n",
              "      <th>7</th>\n",
              "      <td>midwest</td>\n",
              "      <td>west</td>\n",
              "      <td>14.917556</td>\n",
              "      <td>2.575363e-50</td>\n",
              "      <td>reject</td>\n",
              "    </tr>\n",
              "    <tr>\n",
              "      <th>8</th>\n",
              "      <td>midwest</td>\n",
              "      <td>northeast</td>\n",
              "      <td>16.681996</td>\n",
              "      <td>1.883756e-62</td>\n",
              "      <td>reject</td>\n",
              "    </tr>\n",
              "    <tr>\n",
              "      <th>9</th>\n",
              "      <td>northeast</td>\n",
              "      <td>south</td>\n",
              "      <td>8.725730</td>\n",
              "      <td>2.648306e-18</td>\n",
              "      <td>reject</td>\n",
              "    </tr>\n",
              "    <tr>\n",
              "      <th>10</th>\n",
              "      <td>northeast</td>\n",
              "      <td>west</td>\n",
              "      <td>15.940912</td>\n",
              "      <td>3.369421e-57</td>\n",
              "      <td>reject</td>\n",
              "    </tr>\n",
              "    <tr>\n",
              "      <th>11</th>\n",
              "      <td>northeast</td>\n",
              "      <td>midwest</td>\n",
              "      <td>16.681996</td>\n",
              "      <td>1.883756e-62</td>\n",
              "      <td>reject</td>\n",
              "    </tr>\n",
              "  </tbody>\n",
              "</table>\n",
              "</div>"
            ],
            "text/plain": [
              "         rega       regb    t-vaule        p-value conclusion\n",
              "0       south       west  34.088523  1.359087e-254     reject\n",
              "1       south    midwest   2.138238   3.249762e-02     reject\n",
              "2       south  northeast   8.725730   2.648306e-18     reject\n",
              "3        west      south  34.088523  1.359087e-254     reject\n",
              "4        west    midwest  14.917556   2.575363e-50     reject\n",
              "5        west  northeast  15.940912   3.369421e-57     reject\n",
              "6     midwest      south   2.138238   3.249762e-02     reject\n",
              "7     midwest       west  14.917556   2.575363e-50     reject\n",
              "8     midwest  northeast  16.681996   1.883756e-62     reject\n",
              "9   northeast      south   8.725730   2.648306e-18     reject\n",
              "10  northeast       west  15.940912   3.369421e-57     reject\n",
              "11  northeast    midwest  16.681996   1.883756e-62     reject"
            ]
          },
          "metadata": {
            "tags": []
          },
          "execution_count": 17
        }
      ]
    },
    {
      "cell_type": "markdown",
      "metadata": {
        "id": "OKLtkU-D2kcy",
        "colab_type": "text"
      },
      "source": [
        "The results of the ttests were pretty straight forward. There is a statistically significant difference between regions when it comes to the amount of acreage burned during a wildfire. Though the difference varied. This is probably because of the distace between regions. The biggest difference is between the south and the west. I can use that information. "
      ]
    },
    {
      "cell_type": "code",
      "metadata": {
        "id": "Om7kYdyctfq6",
        "colab_type": "code",
        "colab": {}
      },
      "source": [
        "# Building us a dataframe to show region\n",
        "# number of fires, and mean acerage, and \n",
        "# plot this\n",
        "\n",
        "regions = ['South', 'West', 'Midwest', 'Northeast']\n",
        "\n",
        "tmp = []\n",
        "\n",
        "for r in regions:\n",
        "  tmpdf = df[df['REGION'] == r]\n",
        "  \n",
        "  total_fires = tmpdf['REGION'].value_counts().sum()\n",
        "  total_acres = tmpdf['FIRE_SIZE'].sum() / 100000000 # Get the number in trillions\n",
        "  mean_size = tmpdf['FIRE_SIZE'].mean()\n",
        "  tmp.append([r, total_acres, mean_size])\n",
        "\n",
        "regdf = pd.DataFrame(tmp, columns=['Region', \n",
        "                                   'Total Acreage',\n",
        "                                   'Mean' \n",
        "                                   ])\n",
        "\n"
      ],
      "execution_count": 0,
      "outputs": []
    },
    {
      "cell_type": "code",
      "metadata": {
        "id": "Dhh52r75v48W",
        "colab_type": "code",
        "colab": {
          "base_uri": "https://localhost:8080/",
          "height": 173
        },
        "outputId": "27c47369-f88f-4633-e73c-46ebfecd6b9b"
      },
      "source": [
        "regdf.head()"
      ],
      "execution_count": 19,
      "outputs": [
        {
          "output_type": "execute_result",
          "data": {
            "text/html": [
              "<div>\n",
              "<style scoped>\n",
              "    .dataframe tbody tr th:only-of-type {\n",
              "        vertical-align: middle;\n",
              "    }\n",
              "\n",
              "    .dataframe tbody tr th {\n",
              "        vertical-align: top;\n",
              "    }\n",
              "\n",
              "    .dataframe thead th {\n",
              "        text-align: right;\n",
              "    }\n",
              "</style>\n",
              "<table border=\"1\" class=\"dataframe\">\n",
              "  <thead>\n",
              "    <tr style=\"text-align: right;\">\n",
              "      <th></th>\n",
              "      <th>Region</th>\n",
              "      <th>Total Acreage</th>\n",
              "      <th>Mean</th>\n",
              "    </tr>\n",
              "  </thead>\n",
              "  <tbody>\n",
              "    <tr>\n",
              "      <th>0</th>\n",
              "      <td>South</td>\n",
              "      <td>0.260355</td>\n",
              "      <td>27.395502</td>\n",
              "    </tr>\n",
              "    <tr>\n",
              "      <th>1</th>\n",
              "      <td>West</td>\n",
              "      <td>1.077219</td>\n",
              "      <td>182.758497</td>\n",
              "    </tr>\n",
              "    <tr>\n",
              "      <th>2</th>\n",
              "      <td>Midwest</td>\n",
              "      <td>0.059081</td>\n",
              "      <td>33.018378</td>\n",
              "    </tr>\n",
              "    <tr>\n",
              "      <th>3</th>\n",
              "      <td>Northeast</td>\n",
              "      <td>0.003284</td>\n",
              "      <td>2.351031</td>\n",
              "    </tr>\n",
              "  </tbody>\n",
              "</table>\n",
              "</div>"
            ],
            "text/plain": [
              "      Region  Total Acreage        Mean\n",
              "0      South       0.260355   27.395502\n",
              "1       West       1.077219  182.758497\n",
              "2    Midwest       0.059081   33.018378\n",
              "3  Northeast       0.003284    2.351031"
            ]
          },
          "metadata": {
            "tags": []
          },
          "execution_count": 19
        }
      ]
    },
    {
      "cell_type": "markdown",
      "metadata": {
        "id": "FtOJTGIZ8T16",
        "colab_type": "text"
      },
      "source": [
        "I can see now that, while more fires occured in the south, the size of those fires were signiicantly smaller than those from the west. This explains the high t-vales from above. Getting some data for total fires by region, and adding info\n",
        "concerning total acreage and mean fire size for plotting. "
      ]
    },
    {
      "cell_type": "code",
      "metadata": {
        "colab_type": "code",
        "id": "sXy-jVkDEJH4",
        "colab": {
          "base_uri": "https://localhost:8080/",
          "height": 355
        },
        "outputId": "252523ee-67cc-4eff-e589-234b84dd5ec4"
      },
      "source": [
        "# Colors for stacks:\n",
        "# Midwest = 5098CB\n",
        "# Northeast = 70A225\n",
        "# South = C07A27\n",
        "# West = A7373F\n",
        "\n",
        "plt.style.use('fivethirtyeight')\n",
        "fig, ax = plt.subplots(figsize=(10,4)) \n",
        "dfyearbyregion = df.groupby(['REGION']).size()\n",
        "bar_plot = dfyearbyregion.plot(kind='barh', ax=ax, colors=['#5098CB', '#70A225', '#C07A27', '#A7373F'])\n",
        "\n",
        "ax.set_title('Wildfire Totals', \n",
        "             loc = 'left', \n",
        "             color = 'Grey', \n",
        "             fontsize=16, \n",
        "             fontweight = 'semibold', \n",
        "             x=.4, \n",
        "             y=1)\n",
        "\n",
        "ax.set_xlabel('', \n",
        "               color='Grey', \n",
        "               fontsize=12, \n",
        "               fontweight='bold')\n",
        "ax.set_xticks([0, \n",
        "               100000, \n",
        "               200000, \n",
        "               300000, \n",
        "               400000, \n",
        "               500000, \n",
        "               600000, \n",
        "               700000, \n",
        "               800000, \n",
        "               900000, \n",
        "               1000000])\n",
        "\n",
        "ax.set_xticklabels(labels = ['0', '100K','200K', '300K' ,'400K', '500K', '600K', '700K', '800K', '900K', '1M'], \n",
        "                      rotation='horizontal', \n",
        "                      color='grey', \n",
        "                      fontsize=9,\n",
        "                      fontweight='bold')\n",
        "\n",
        "\n",
        "\n",
        "ax.set_ylabel('', \n",
        "               color='DarkGrey', \n",
        "               fontsize=12, \n",
        "               fontweight='bold')\n",
        "\n",
        "ax.set_yticklabels(labels = [], \n",
        "                      color='grey', \n",
        "                      fontsize=8,\n",
        "                      fontweight='bold')\n",
        "\n",
        "# Border removal\n",
        "ax.spines['top'].set_visible(False)\n",
        "ax.spines['right'].set_visible(True)\n",
        "ax.spines['bottom'].set_visible(False)\n",
        "ax.spines['left'].set_visible(False)\n",
        "\n",
        "# Grid\n",
        "ax.grid(axis='y')\n",
        "\n",
        "\n",
        "\n",
        "\n",
        "# Need some padding for the tick labels it looks like\n",
        "ax.tick_params(axis='both', which='major', pad=10)\n",
        "\n",
        "fig.patch.set(facecolor='white')\n",
        "ax.set(facecolor='white')\n",
        "\n",
        "# From my analysis above, I can add the total acreage to these bars\n",
        "# to give an idea of how severe fires are in each reagion\n",
        "# West = 1.077219 Trillion acres\n",
        "# South = 260.355341 Million Acres\n",
        "# Northeast = 3.283709 Million\n",
        "# Midwest = 59.080775 Million\n",
        "\n",
        "\n",
        "fig.text(s ='Total Acreage: 1 Trillion\\nAverage Fire Size: 182.75 Acres', \n",
        "        x=0.62, \n",
        "        y=.75, \n",
        "        fontsize=10, \n",
        "        color='#A7373F', \n",
        "        fontweight='bold')\n",
        "\n",
        "\n",
        "fig.text(s ='Total Acreage: 260 Million\\nAverage Fire Size: 27.39 Acres', \n",
        "        x=0.7, \n",
        "        y=.43, \n",
        "        fontsize=10, \n",
        "        color='#C07A27', \n",
        "        fontweight='bold')\n",
        "\n",
        "\n",
        "\n",
        "\n",
        "fig.text(s ='Total Acreage: 3 Million\\nAverage Fire Size: 33 Acres', \n",
        "        x=0.22, \n",
        "        y=.35, \n",
        "        fontsize=10, \n",
        "        color='#70A225', \n",
        "        fontweight='bold')\n",
        "\n",
        "\n",
        "\n",
        "fig.text(s ='Total Acreage: 59 Million\\nAverage Fire Size: 2.35 Acres', \n",
        "        x=0.25, \n",
        "        y=.14, \n",
        "        fontsize=10, \n",
        "        color='#5098CB', \n",
        "        fontweight='bold')\n",
        "\n",
        "\n",
        "\n",
        "plt.show()"
      ],
      "execution_count": 20,
      "outputs": [
        {
          "output_type": "stream",
          "text": [
            "/usr/local/lib/python3.6/dist-packages/pandas/plotting/_matplotlib/core.py:203: UserWarning: 'colors' is being deprecated. Please use 'color'instead of 'colors'\n",
            "  \"'colors' is being deprecated. Please use 'color'\"\n"
          ],
          "name": "stderr"
        },
        {
          "output_type": "display_data",
          "data": {
            "image/png": "[encoded data removed]",
            "text/plain": [
              "<Figure size 720x288 with 1 Axes>"
            ]
          },
          "metadata": {
            "tags": []
          }
        }
      ]
    },
    {
      "cell_type": "markdown",
      "metadata": {
        "id": "N16-4_SkzXxw",
        "colab_type": "text"
      },
      "source": [
        "### Over Time\n",
        "This visual shows the progression of fires over time for each region"
      ]
    },
    {
      "cell_type": "code",
      "metadata": {
        "id": "WS9CWz4B1nGt",
        "colab_type": "code",
        "colab": {
          "base_uri": "https://localhost:8080/",
          "height": 356
        },
        "outputId": "d8958455-09eb-48a8-ef7e-6ea5bdff9613"
      },
      "source": [
        "plt.style.use('fivethirtyeight')\n",
        "fig, ax = plt.subplots(figsize=(10,4)) \n",
        "dfyearbyregion = df.groupby(['YEAR','REGION']).size().unstack()\n",
        "dfyearbyregion.plot(kind='line', ax=ax, colors=['#5098CB', '#70A225', '#C07A27', '#A7373F'])\n",
        "\n",
        "ax.set_title('Yearly Number of Firesa',\n",
        "             rotation='vertical', \n",
        "             loc = 'left', \n",
        "             color = 'Grey', \n",
        "             fontsize=9, \n",
        "             fontweight = 'semibold', \n",
        "             x=-0.12, \n",
        "             y=0.19)\n",
        "\n",
        "ax.set_ylabel('', \n",
        "               color='Grey', \n",
        "               fontsize=12, \n",
        "               fontweight='bold')\n",
        "\n",
        "\n",
        "# MY BRAIN WENT BLANK. I ACTUALLY FORGOT\n",
        "# HOW TO DO THIS THE NOT RETARDED WAY. \n",
        "ax.set_yticks([0,\n",
        "               5000,                \n",
        "               10000, \n",
        "               15000, \n",
        "               20000, \n",
        "               25000, \n",
        "               30000, \n",
        "               35000, \n",
        "               40000, \n",
        "               45000, \n",
        "               50000, \n",
        "               55000, \n",
        "               60000, \n",
        "               65000,\n",
        "               70000])\n",
        "\n",
        "ax.set_yticklabels(labels = ['0','5K', '10K','15K', '20K','25K', '30K','35K','40K', '45k',\n",
        "                             '50K', '55K', '60K', '65K', '70K'], \n",
        "                      rotation='horizontal', \n",
        "                      color='grey', \n",
        "                      fontsize=8,\n",
        "                      fontweight='bold')\n",
        "\n",
        "ax.set_xlabel('', \n",
        "               color='DarkGrey', \n",
        "               fontsize=12, \n",
        "               fontweight='bold')\n",
        "\n",
        "ax.set_xticks([1992,1993,1994,1995,1996,1997,1998,\n",
        "               1999,2000,2001,2002,2003,2004,2005,\n",
        "               2006,2007, 2008,2009,2010,2011,2012,\n",
        "               2013,2014,2015])\n",
        "\n",
        "\n",
        "\n",
        "ax.set_xticklabels(labels = ['1992','1993','1994','1995','1996','1997','1998',\n",
        "                             '1999','2000','2001','2002','2003','2004','2005',\n",
        "                             '2006','2007', '2008','2009','2010','2011','2012',\n",
        "                             '2013','2014','2015'], \n",
        "                      color='grey', \n",
        "                      fontsize=8,\n",
        "                      fontweight='bold',\n",
        "                      rotation=30)\n",
        "\n",
        "# Border removal\n",
        "ax.spines['top'].set_visible(False)\n",
        "ax.spines['right'].set_visible(False)\n",
        "ax.spines['bottom'].set_visible(False)\n",
        "ax.spines['left'].set_visible(False)\n",
        "\n",
        "\n",
        "\n",
        "# Need some padding for the tick labels it looks like\n",
        "ax.tick_params(axis='both', which='major', pad=15)\n",
        "\n",
        "fig.patch.set(facecolor='white')\n",
        "ax.set(facecolor='white')\n",
        "ax.get_legend().remove()\n",
        "plt.show()"
      ],
      "execution_count": 15,
      "outputs": [
        {
          "output_type": "stream",
          "text": [
            "/usr/local/lib/python3.6/dist-packages/pandas/plotting/_matplotlib/core.py:203: UserWarning: 'colors' is being deprecated. Please use 'color'instead of 'colors'\n",
            "  \"'colors' is being deprecated. Please use 'color'\"\n"
          ],
          "name": "stderr"
        },
        {
          "output_type": "display_data",
          "data": {
            "image/png": "[encoded data removed]",
            "text/plain": [
              "<Figure size 720x288 with 1 Axes>"
            ]
          },
          "metadata": {
            "tags": []
          }
        }
      ]
    },
    {
      "cell_type": "markdown",
      "metadata": {
        "id": "e__QGMmSpRaC",
        "colab_type": "text"
      },
      "source": [
        "# Per region analysis\n",
        "I will, in the time I have left, attempt to go over statistical information on a per-region basis. I just want states, months, and causes for each region. I think I have enough above to accuratly portray the big picture. I had really hoped on decending into divisions, doing more statistical testing, and APPLYING all the things I have learned from UNIT 1. "
      ]
    },
    {
      "cell_type": "code",
      "metadata": {
        "id": "58F7Fl1xSw6n",
        "colab_type": "code",
        "colab": {}
      },
      "source": [
        "# By Month - build the monthly dataframe\n",
        "\n",
        "months = ['January', \n",
        "          'February', \n",
        "          'March', \n",
        "          'April', \n",
        "          'May', \n",
        "          'June', \n",
        "          'July', \n",
        "          'August', \n",
        "          'September', \n",
        "          'October', \n",
        "          'November', \n",
        "          'December']\n",
        "\n",
        "regions = ['West', 'South', 'Northeast', 'Midwest']\n",
        "tmp = []\n",
        "\n",
        "for m in months:\n",
        "  \n",
        "  mdf = df[df['MONTH'] == m]\n",
        "  \n",
        "  counts = []\n",
        "  counts.append(m)\n",
        "  for r in regions:\n",
        "    \n",
        "    rdf = mdf[mdf['REGION'] == r]\n",
        "    fires = len(rdf['REGION'])\n",
        "    acreage = rdf['FIRE_SIZE'].sum()\n",
        "    mean = rdf['FIRE_SIZE'].mean()\n",
        "    \n",
        "    fclass = rdf['FIRE_SIZE_CLASS'].count()\n",
        "    \n",
        "    \n",
        "    counts.append(fires)\n",
        "    counts.append(acreage)\n",
        "    counts.append(mean)\n",
        "  \n",
        "  tmp.append(counts)\n",
        "\n",
        "\n",
        "bymonthdf = pd.DataFrame(tmp, columns=['Month', \n",
        "                                       'WestFires', \n",
        "                                       'WestAcreage',\n",
        "                                       'WestMean',\n",
        "                                       'SouthFires',\n",
        "                                       'SouthAcreage',\n",
        "                                       'SouthMean',\n",
        "                                       'NortheastFires',\n",
        "                                       'NortheastAcreage',\n",
        "                                       'NortheastMean',\n",
        "                                       'MidwestFires',\n",
        "                                       'MidwestAcreage',\n",
        "                                       'MidwestMean'])\n",
        "\n",
        "# God i hope that calculated correctly\n"
      ],
      "execution_count": 0,
      "outputs": []
    },
    {
      "cell_type": "code",
      "metadata": {
        "id": "C7T4R_-acRbz",
        "colab_type": "code",
        "colab": {
          "base_uri": "https://localhost:8080/",
          "height": 441
        },
        "outputId": "f000a48b-134d-4433-966a-c45e323acf0c"
      },
      "source": [
        "bymonthdf.head(100)"
      ],
      "execution_count": 22,
      "outputs": [
        {
          "output_type": "execute_result",
          "data": {
            "text/html": [
              "<div>\n",
              "<style scoped>\n",
              "    .dataframe tbody tr th:only-of-type {\n",
              "        vertical-align: middle;\n",
              "    }\n",
              "\n",
              "    .dataframe tbody tr th {\n",
              "        vertical-align: top;\n",
              "    }\n",
              "\n",
              "    .dataframe thead th {\n",
              "        text-align: right;\n",
              "    }\n",
              "</style>\n",
              "<table border=\"1\" class=\"dataframe\">\n",
              "  <thead>\n",
              "    <tr style=\"text-align: right;\">\n",
              "      <th></th>\n",
              "      <th>Month</th>\n",
              "      <th>WestFires</th>\n",
              "      <th>WestAcreage</th>\n",
              "      <th>WestMean</th>\n",
              "      <th>SouthFires</th>\n",
              "      <th>SouthAcreage</th>\n",
              "      <th>SouthMean</th>\n",
              "      <th>NortheastFires</th>\n",
              "      <th>NortheastAcreage</th>\n",
              "      <th>NortheastMean</th>\n",
              "      <th>MidwestFires</th>\n",
              "      <th>MidwestAcreage</th>\n",
              "      <th>MidwestMean</th>\n",
              "    </tr>\n",
              "  </thead>\n",
              "  <tbody>\n",
              "    <tr>\n",
              "      <th>0</th>\n",
              "      <td>January</td>\n",
              "      <td>7727</td>\n",
              "      <td>2.396060e+05</td>\n",
              "      <td>31.008927</td>\n",
              "      <td>80134</td>\n",
              "      <td>1.548823e+06</td>\n",
              "      <td>19.327908</td>\n",
              "      <td>2120</td>\n",
              "      <td>1458.782300</td>\n",
              "      <td>0.688105</td>\n",
              "      <td>3621</td>\n",
              "      <td>8.840698e+04</td>\n",
              "      <td>24.415072</td>\n",
              "    </tr>\n",
              "    <tr>\n",
              "      <th>1</th>\n",
              "      <td>February</td>\n",
              "      <td>7600</td>\n",
              "      <td>4.409147e+05</td>\n",
              "      <td>58.015092</td>\n",
              "      <td>126821</td>\n",
              "      <td>2.817033e+06</td>\n",
              "      <td>22.212673</td>\n",
              "      <td>3123</td>\n",
              "      <td>3026.336000</td>\n",
              "      <td>0.969048</td>\n",
              "      <td>5641</td>\n",
              "      <td>2.856737e+05</td>\n",
              "      <td>50.642386</td>\n",
              "    </tr>\n",
              "    <tr>\n",
              "      <th>2</th>\n",
              "      <td>March</td>\n",
              "      <td>15129</td>\n",
              "      <td>9.940735e+05</td>\n",
              "      <td>65.706491</td>\n",
              "      <td>176093</td>\n",
              "      <td>4.834151e+06</td>\n",
              "      <td>27.452260</td>\n",
              "      <td>13929</td>\n",
              "      <td>21431.181890</td>\n",
              "      <td>1.538602</td>\n",
              "      <td>23552</td>\n",
              "      <td>9.206065e+05</td>\n",
              "      <td>39.088253</td>\n",
              "    </tr>\n",
              "    <tr>\n",
              "      <th>3</th>\n",
              "      <td>April</td>\n",
              "      <td>25544</td>\n",
              "      <td>1.453555e+06</td>\n",
              "      <td>56.903955</td>\n",
              "      <td>115084</td>\n",
              "      <td>5.426512e+06</td>\n",
              "      <td>47.152623</td>\n",
              "      <td>39911</td>\n",
              "      <td>145219.678496</td>\n",
              "      <td>3.638588</td>\n",
              "      <td>53662</td>\n",
              "      <td>1.345635e+06</td>\n",
              "      <td>25.076132</td>\n",
              "    </tr>\n",
              "    <tr>\n",
              "      <th>4</th>\n",
              "      <td>May</td>\n",
              "      <td>50634</td>\n",
              "      <td>6.778981e+06</td>\n",
              "      <td>133.882002</td>\n",
              "      <td>63791</td>\n",
              "      <td>2.594895e+06</td>\n",
              "      <td>40.678072</td>\n",
              "      <td>22969</td>\n",
              "      <td>72345.477100</td>\n",
              "      <td>3.149701</td>\n",
              "      <td>25854</td>\n",
              "      <td>4.325651e+05</td>\n",
              "      <td>16.731070</td>\n",
              "    </tr>\n",
              "    <tr>\n",
              "      <th>5</th>\n",
              "      <td>June</td>\n",
              "      <td>86955</td>\n",
              "      <td>3.235857e+07</td>\n",
              "      <td>372.130121</td>\n",
              "      <td>56218</td>\n",
              "      <td>2.197306e+06</td>\n",
              "      <td>39.085452</td>\n",
              "      <td>9651</td>\n",
              "      <td>18045.753600</td>\n",
              "      <td>1.869833</td>\n",
              "      <td>9996</td>\n",
              "      <td>1.391213e+05</td>\n",
              "      <td>13.917697</td>\n",
              "    </tr>\n",
              "    <tr>\n",
              "      <th>6</th>\n",
              "      <td>July</td>\n",
              "      <td>152211</td>\n",
              "      <td>3.130402e+07</td>\n",
              "      <td>205.662029</td>\n",
              "      <td>56191</td>\n",
              "      <td>1.203972e+06</td>\n",
              "      <td>21.426416</td>\n",
              "      <td>12053</td>\n",
              "      <td>15404.621200</td>\n",
              "      <td>1.278074</td>\n",
              "      <td>16094</td>\n",
              "      <td>6.707806e+05</td>\n",
              "      <td>41.678927</td>\n",
              "    </tr>\n",
              "    <tr>\n",
              "      <th>7</th>\n",
              "      <td>August</td>\n",
              "      <td>131778</td>\n",
              "      <td>2.657758e+07</td>\n",
              "      <td>201.684491</td>\n",
              "      <td>54508</td>\n",
              "      <td>1.316949e+06</td>\n",
              "      <td>24.160647</td>\n",
              "      <td>10304</td>\n",
              "      <td>21525.425559</td>\n",
              "      <td>2.089036</td>\n",
              "      <td>11520</td>\n",
              "      <td>8.068206e+05</td>\n",
              "      <td>70.036506</td>\n",
              "    </tr>\n",
              "    <tr>\n",
              "      <th>8</th>\n",
              "      <td>September</td>\n",
              "      <td>62548</td>\n",
              "      <td>4.515012e+06</td>\n",
              "      <td>72.184747</td>\n",
              "      <td>53200</td>\n",
              "      <td>1.031741e+06</td>\n",
              "      <td>19.393637</td>\n",
              "      <td>7772</td>\n",
              "      <td>6147.437400</td>\n",
              "      <td>0.790972</td>\n",
              "      <td>8239</td>\n",
              "      <td>5.020569e+05</td>\n",
              "      <td>60.936628</td>\n",
              "    </tr>\n",
              "    <tr>\n",
              "      <th>9</th>\n",
              "      <td>October</td>\n",
              "      <td>30788</td>\n",
              "      <td>2.589597e+06</td>\n",
              "      <td>84.110590</td>\n",
              "      <td>58024</td>\n",
              "      <td>8.169395e+05</td>\n",
              "      <td>14.079338</td>\n",
              "      <td>5694</td>\n",
              "      <td>9270.954800</td>\n",
              "      <td>1.628197</td>\n",
              "      <td>10256</td>\n",
              "      <td>4.660440e+05</td>\n",
              "      <td>45.441112</td>\n",
              "    </tr>\n",
              "    <tr>\n",
              "      <th>10</th>\n",
              "      <td>November</td>\n",
              "      <td>12354</td>\n",
              "      <td>3.350193e+05</td>\n",
              "      <td>27.118283</td>\n",
              "      <td>63481</td>\n",
              "      <td>1.540806e+06</td>\n",
              "      <td>24.271919</td>\n",
              "      <td>9432</td>\n",
              "      <td>12937.447000</td>\n",
              "      <td>1.371655</td>\n",
              "      <td>8132</td>\n",
              "      <td>2.012026e+05</td>\n",
              "      <td>24.742079</td>\n",
              "    </tr>\n",
              "    <tr>\n",
              "      <th>11</th>\n",
              "      <td>December</td>\n",
              "      <td>6154</td>\n",
              "      <td>1.349443e+05</td>\n",
              "      <td>21.927904</td>\n",
              "      <td>46813</td>\n",
              "      <td>7.064070e+05</td>\n",
              "      <td>15.089976</td>\n",
              "      <td>2713</td>\n",
              "      <td>1557.762000</td>\n",
              "      <td>0.574184</td>\n",
              "      <td>2366</td>\n",
              "      <td>4.916375e+04</td>\n",
              "      <td>20.779268</td>\n",
              "    </tr>\n",
              "  </tbody>\n",
              "</table>\n",
              "</div>"
            ],
            "text/plain": [
              "        Month  WestFires  ...  MidwestAcreage  MidwestMean\n",
              "0     January       7727  ...    8.840698e+04    24.415072\n",
              "1    February       7600  ...    2.856737e+05    50.642386\n",
              "2       March      15129  ...    9.206065e+05    39.088253\n",
              "3       April      25544  ...    1.345635e+06    25.076132\n",
              "4         May      50634  ...    4.325651e+05    16.731070\n",
              "5        June      86955  ...    1.391213e+05    13.917697\n",
              "6        July     152211  ...    6.707806e+05    41.678927\n",
              "7      August     131778  ...    8.068206e+05    70.036506\n",
              "8   September      62548  ...    5.020569e+05    60.936628\n",
              "9     October      30788  ...    4.660440e+05    45.441112\n",
              "10   November      12354  ...    2.012026e+05    24.742079\n",
              "11   December       6154  ...    4.916375e+04    20.779268\n",
              "\n",
              "[12 rows x 13 columns]"
            ]
          },
          "metadata": {
            "tags": []
          },
          "execution_count": 22
        }
      ]
    },
    {
      "cell_type": "markdown",
      "metadata": {
        "id": "YlwPqCu3CnOf",
        "colab_type": "text"
      },
      "source": [
        "## Monthly Totals"
      ]
    },
    {
      "cell_type": "code",
      "metadata": {
        "id": "B5-bR5OzNynm",
        "colab_type": "code",
        "colab": {}
      },
      "source": [
        "monthlytotalsdf = bymonthdf[['Month', 'WestFires', 'SouthFires', 'NortheastFires', 'MidwestFires']]"
      ],
      "execution_count": 0,
      "outputs": []
    },
    {
      "cell_type": "code",
      "metadata": {
        "id": "PIQ_KqqEC7jh",
        "colab_type": "code",
        "colab": {
          "base_uri": "https://localhost:8080/",
          "height": 204
        },
        "outputId": "40720980-9f85-49ab-c326-02a1ab818e87"
      },
      "source": [
        "monthlytotalsdf.head()"
      ],
      "execution_count": 26,
      "outputs": [
        {
          "output_type": "execute_result",
          "data": {
            "text/html": [
              "<div>\n",
              "<style scoped>\n",
              "    .dataframe tbody tr th:only-of-type {\n",
              "        vertical-align: middle;\n",
              "    }\n",
              "\n",
              "    .dataframe tbody tr th {\n",
              "        vertical-align: top;\n",
              "    }\n",
              "\n",
              "    .dataframe thead th {\n",
              "        text-align: right;\n",
              "    }\n",
              "</style>\n",
              "<table border=\"1\" class=\"dataframe\">\n",
              "  <thead>\n",
              "    <tr style=\"text-align: right;\">\n",
              "      <th></th>\n",
              "      <th>Month</th>\n",
              "      <th>WestFires</th>\n",
              "      <th>SouthFires</th>\n",
              "      <th>NortheastFires</th>\n",
              "      <th>MidwestFires</th>\n",
              "    </tr>\n",
              "  </thead>\n",
              "  <tbody>\n",
              "    <tr>\n",
              "      <th>0</th>\n",
              "      <td>January</td>\n",
              "      <td>7727</td>\n",
              "      <td>80134</td>\n",
              "      <td>2120</td>\n",
              "      <td>3621</td>\n",
              "    </tr>\n",
              "    <tr>\n",
              "      <th>1</th>\n",
              "      <td>February</td>\n",
              "      <td>7600</td>\n",
              "      <td>126821</td>\n",
              "      <td>3123</td>\n",
              "      <td>5641</td>\n",
              "    </tr>\n",
              "    <tr>\n",
              "      <th>2</th>\n",
              "      <td>March</td>\n",
              "      <td>15129</td>\n",
              "      <td>176093</td>\n",
              "      <td>13929</td>\n",
              "      <td>23552</td>\n",
              "    </tr>\n",
              "    <tr>\n",
              "      <th>3</th>\n",
              "      <td>April</td>\n",
              "      <td>25544</td>\n",
              "      <td>115084</td>\n",
              "      <td>39911</td>\n",
              "      <td>53662</td>\n",
              "    </tr>\n",
              "    <tr>\n",
              "      <th>4</th>\n",
              "      <td>May</td>\n",
              "      <td>50634</td>\n",
              "      <td>63791</td>\n",
              "      <td>22969</td>\n",
              "      <td>25854</td>\n",
              "    </tr>\n",
              "  </tbody>\n",
              "</table>\n",
              "</div>"
            ],
            "text/plain": [
              "      Month  WestFires  SouthFires  NortheastFires  MidwestFires\n",
              "0   January       7727       80134            2120          3621\n",
              "1  February       7600      126821            3123          5641\n",
              "2     March      15129      176093           13929         23552\n",
              "3     April      25544      115084           39911         53662\n",
              "4       May      50634       63791           22969         25854"
            ]
          },
          "metadata": {
            "tags": []
          },
          "execution_count": 26
        }
      ]
    },
    {
      "cell_type": "code",
      "metadata": {
        "id": "6HodDJZYDA8Q",
        "colab_type": "code",
        "colab": {
          "base_uri": "https://localhost:8080/",
          "height": 419
        },
        "outputId": "8a90f0fe-090f-4366-91db-1e00f2426045"
      },
      "source": [
        "# Colors for stacks:\n",
        "# Midwest = 5098CB\n",
        "# Northeast = 70A225\n",
        "# South = C07A27\n",
        "# West = A7373F\n",
        "\n",
        "plt.style.use('fivethirtyeight')\n",
        "fig, ax = plt.subplots(figsize=(10,5)) \n",
        "\n",
        "monthlytotalsdf.plot(kind='bar', ax=ax, colors=['#A7373F', '#C07A27', '#70A225', '#5098CB' ])\n",
        "# ['#5098CB', '#70A225', '#C07A27', '#A7373F']\n",
        "\n",
        "ax.set_title('',\n",
        "             rotation='vertical', \n",
        "             loc = 'left', \n",
        "             color = 'Grey', \n",
        "             fontsize=16, \n",
        "             fontweight = 'semibold', \n",
        "             x=-0.12, \n",
        "             y=0.19)\n",
        "\n",
        "ax.set_xlabel('', \n",
        "               color='Grey', \n",
        "               fontsize=12, \n",
        "               fontweight='bold')\n",
        "\n",
        "\n",
        "# MY BRAIN WENT BLANK. I ACTUALLY FORGOT\n",
        "# HOW TO DO THIS THE NOT RETARDED WAY. \n",
        "\n",
        "\n",
        "ax.set_xticklabels(labels = ['January', 'Febuary','March', 'April', 'May' ,'June', \n",
        "                             'July', 'August', 'September', 'October', 'November', 'December'], \n",
        "                      rotation='30', \n",
        "                      color='grey', \n",
        "                      fontsize=8,\n",
        "                      fontweight='bold')\n",
        "\n",
        "ax.set_ylabel('', \n",
        "               color='DarkGrey', \n",
        "               fontsize=12, \n",
        "               fontweight='bold')\n",
        "\n",
        "ax.set_yticklabels(labels = ['0','25K', '50K','75K','100K','125K','150K', '175K'], \n",
        "                      color='grey', \n",
        "                      fontsize=8,\n",
        "                      fontweight='bold')\n",
        "\n",
        "# Border removal\n",
        "ax.spines['top'].set_visible(False)\n",
        "ax.spines['right'].set_visible(True)\n",
        "ax.spines['bottom'].set_visible(False)\n",
        "ax.spines['left'].set_visible(False)\n",
        "\n",
        "# Grid\n",
        "ax.grid(axis='x')\n",
        "\n",
        "# Need some padding for the tick labels it looks like\n",
        "ax.tick_params(axis='both', which='major', pad=10)\n",
        "\n",
        "fig.patch.set(facecolor='white')\n",
        "ax.set(facecolor='white')\n",
        "\n",
        "\n",
        "\n",
        "plt.show()"
      ],
      "execution_count": 27,
      "outputs": [
        {
          "output_type": "stream",
          "text": [
            "/usr/local/lib/python3.6/dist-packages/pandas/plotting/_matplotlib/core.py:203: UserWarning: 'colors' is being deprecated. Please use 'color'instead of 'colors'\n",
            "  \"'colors' is being deprecated. Please use 'color'\"\n"
          ],
          "name": "stderr"
        },
        {
          "output_type": "display_data",
          "data": {
            "image/png": "[encoded data removed]",
            "text/plain": [
              "<Figure size 720x360 with 1 Axes>"
            ]
          },
          "metadata": {
            "tags": []
          }
        }
      ]
    },
    {
      "cell_type": "markdown",
      "metadata": {
        "id": "aPaBSCiUM4g7",
        "colab_type": "text"
      },
      "source": [
        "## Monthly Acreage"
      ]
    },
    {
      "cell_type": "code",
      "metadata": {
        "id": "bDClzHZ9Igin",
        "colab_type": "code",
        "colab": {}
      },
      "source": [
        "# Monthly totals\n",
        "monthlyacreagedf = bymonthdf[['Month', 'WestAcreage', 'SouthAcreage', 'NortheastAcreage', 'MidwestAcreage']]"
      ],
      "execution_count": 0,
      "outputs": []
    },
    {
      "cell_type": "code",
      "metadata": {
        "id": "DpBRKQg2dpR1",
        "colab_type": "code",
        "colab": {
          "base_uri": "https://localhost:8080/",
          "height": 204
        },
        "outputId": "47e518c5-37e2-4e36-dcf7-21572bad7882"
      },
      "source": [
        "monthlyacreagedf.head()"
      ],
      "execution_count": 29,
      "outputs": [
        {
          "output_type": "execute_result",
          "data": {
            "text/html": [
              "<div>\n",
              "<style scoped>\n",
              "    .dataframe tbody tr th:only-of-type {\n",
              "        vertical-align: middle;\n",
              "    }\n",
              "\n",
              "    .dataframe tbody tr th {\n",
              "        vertical-align: top;\n",
              "    }\n",
              "\n",
              "    .dataframe thead th {\n",
              "        text-align: right;\n",
              "    }\n",
              "</style>\n",
              "<table border=\"1\" class=\"dataframe\">\n",
              "  <thead>\n",
              "    <tr style=\"text-align: right;\">\n",
              "      <th></th>\n",
              "      <th>Month</th>\n",
              "      <th>WestAcreage</th>\n",
              "      <th>SouthAcreage</th>\n",
              "      <th>NortheastAcreage</th>\n",
              "      <th>MidwestAcreage</th>\n",
              "    </tr>\n",
              "  </thead>\n",
              "  <tbody>\n",
              "    <tr>\n",
              "      <th>0</th>\n",
              "      <td>January</td>\n",
              "      <td>2.396060e+05</td>\n",
              "      <td>1.548823e+06</td>\n",
              "      <td>1458.782300</td>\n",
              "      <td>8.840698e+04</td>\n",
              "    </tr>\n",
              "    <tr>\n",
              "      <th>1</th>\n",
              "      <td>February</td>\n",
              "      <td>4.409147e+05</td>\n",
              "      <td>2.817033e+06</td>\n",
              "      <td>3026.336000</td>\n",
              "      <td>2.856737e+05</td>\n",
              "    </tr>\n",
              "    <tr>\n",
              "      <th>2</th>\n",
              "      <td>March</td>\n",
              "      <td>9.940735e+05</td>\n",
              "      <td>4.834151e+06</td>\n",
              "      <td>21431.181890</td>\n",
              "      <td>9.206065e+05</td>\n",
              "    </tr>\n",
              "    <tr>\n",
              "      <th>3</th>\n",
              "      <td>April</td>\n",
              "      <td>1.453555e+06</td>\n",
              "      <td>5.426512e+06</td>\n",
              "      <td>145219.678496</td>\n",
              "      <td>1.345635e+06</td>\n",
              "    </tr>\n",
              "    <tr>\n",
              "      <th>4</th>\n",
              "      <td>May</td>\n",
              "      <td>6.778981e+06</td>\n",
              "      <td>2.594895e+06</td>\n",
              "      <td>72345.477100</td>\n",
              "      <td>4.325651e+05</td>\n",
              "    </tr>\n",
              "  </tbody>\n",
              "</table>\n",
              "</div>"
            ],
            "text/plain": [
              "      Month   WestAcreage  SouthAcreage  NortheastAcreage  MidwestAcreage\n",
              "0   January  2.396060e+05  1.548823e+06       1458.782300    8.840698e+04\n",
              "1  February  4.409147e+05  2.817033e+06       3026.336000    2.856737e+05\n",
              "2     March  9.940735e+05  4.834151e+06      21431.181890    9.206065e+05\n",
              "3     April  1.453555e+06  5.426512e+06     145219.678496    1.345635e+06\n",
              "4       May  6.778981e+06  2.594895e+06      72345.477100    4.325651e+05"
            ]
          },
          "metadata": {
            "tags": []
          },
          "execution_count": 29
        }
      ]
    },
    {
      "cell_type": "code",
      "metadata": {
        "id": "HyolFxIVNS_c",
        "colab_type": "code",
        "colab": {
          "base_uri": "https://localhost:8080/",
          "height": 433
        },
        "outputId": "aaabbc95-6c26-449f-fddb-c46c9ee239f4"
      },
      "source": [
        "# Colors for stacks:\n",
        "# Midwest = 5098CB\n",
        "# Northeast = 70A225\n",
        "# South = C07A27\n",
        "# West = A7373F\n",
        "\n",
        "plt.style.use('fivethirtyeight')\n",
        "fig, ax = plt.subplots(figsize=(10,5)) \n",
        "\n",
        "monthlyacreagedf.plot(kind='bar', ax=ax, colors=['#A7373F', '#C07A27', '#70A225', '#5098CB' ])\n",
        "# ['#5098CB', '#70A225', '#C07A27', '#A7373F']\n",
        "\n",
        "ax.set_title('',\n",
        "             rotation='vertical', \n",
        "             loc = 'left', \n",
        "             color = 'Grey', \n",
        "             fontsize=16, \n",
        "             fontweight = 'semibold', \n",
        "             x=-0.12, \n",
        "             y=0.19)\n",
        "\n",
        "ax.set_xlabel('', \n",
        "               color='Grey', \n",
        "               fontsize=12, \n",
        "               fontweight='bold')\n",
        "\n",
        "\n",
        "# MY BRAIN WENT BLANK. I ACTUALLY FORGOT\n",
        "# HOW TO DO THIS THE NOT RETARDED WAY. \n",
        "\n",
        "\n",
        "ax.set_xticklabels(labels = ['January', 'Febuary','March', 'April', 'May' ,'June', \n",
        "                             'July', 'August', 'September', 'October', 'November', 'December'], \n",
        "                      rotation='30', \n",
        "                      color='grey', \n",
        "                      fontsize=8,\n",
        "                      fontweight='bold')\n",
        "\n",
        "ax.set_ylabel('', \n",
        "               color='DarkGrey', \n",
        "               fontsize=12, \n",
        "               fontweight='bold')\n",
        "\n",
        "\n",
        "# Border removal\n",
        "ax.spines['top'].set_visible(False)\n",
        "ax.spines['right'].set_visible(True)\n",
        "ax.spines['bottom'].set_visible(False)\n",
        "ax.spines['left'].set_visible(False)\n",
        "\n",
        "# Grid\n",
        "ax.grid(axis='x')\n",
        "\n",
        "# Need some padding for the tick labels it looks like\n",
        "ax.tick_params(axis='both', which='major', pad=10)\n",
        "\n",
        "fig.patch.set(facecolor='white')\n",
        "ax.set(facecolor='white')\n",
        "\n",
        "\n",
        "\n",
        "plt.show()"
      ],
      "execution_count": 31,
      "outputs": [
        {
          "output_type": "stream",
          "text": [
            "/usr/local/lib/python3.6/dist-packages/pandas/plotting/_matplotlib/core.py:203: UserWarning: 'colors' is being deprecated. Please use 'color'instead of 'colors'\n",
            "  \"'colors' is being deprecated. Please use 'color'\"\n"
          ],
          "name": "stderr"
        },
        {
          "output_type": "display_data",
          "data": {
            "image/png": "[encoded data removed]",
            "text/plain": [
              "<Figure size 720x360 with 1 Axes>"
            ]
          },
          "metadata": {
            "tags": []
          }
        }
      ]
    },
    {
      "cell_type": "code",
      "metadata": {
        "id": "WmBVRNZzcToa",
        "colab_type": "code",
        "colab": {}
      },
      "source": [
        "# Build the causes Dataframe\n",
        "df['STAT_CAUSE_DESCR'].unique()"
      ],
      "execution_count": 0,
      "outputs": []
    },
    {
      "cell_type": "code",
      "metadata": {
        "id": "L40Km2PmFnyy",
        "colab_type": "code",
        "colab": {}
      },
      "source": [
        "causes = ['Lightning', \n",
        "          'Debris Burning', \n",
        "          'Campfire',\n",
        "          'Equipment Use', \n",
        "          'Children', \n",
        "          'Arson', \n",
        "          'Smoking', \n",
        "          'Railroad',\n",
        "          'Fireworks', \n",
        "          'Structure', \n",
        "          'Powerline',\n",
        "          'Other']\n",
        "\n",
        "regions = ['West', 'South', 'Northeast', 'Midwest']\n",
        "tmp = []\n",
        "\n",
        "for c in causes:\n",
        "  \n",
        "  cdf = df[df['STAT_CAUSE_DESCR'] == c]\n",
        "  \n",
        "  counts = []\n",
        "  counts.append(c)\n",
        "  for r in regions:\n",
        "    \n",
        "    cadf = cdf[cdf['REGION'] == r]\n",
        "    fires = len(cadf['REGION'])\n",
        "    acreage = cadf['FIRE_SIZE'].sum()\n",
        "    mean = cadf['FIRE_SIZE'].mean()\n",
        "    counts.append(fires)\n",
        "    counts.append(acreage)\n",
        "    counts.append(mean)\n",
        "  \n",
        "  tmp.append(counts)\n",
        "\n",
        "\n",
        "bycausedf = pd.DataFrame(tmp, columns=['Cause', \n",
        "                                       'WestFires', \n",
        "                                       'WestAcreage',\n",
        "                                       'WestMean',\n",
        "                                       'SouthFires',\n",
        "                                       'SouthAcreage',\n",
        "                                       'SouthMean',\n",
        "                                       'NortheastFires',\n",
        "                                       'NortheastAcreage',\n",
        "                                       'NortheastMean',\n",
        "                                       'MidwestFires',\n",
        "                                       'MidwestAcreage',\n",
        "                                       'MidwestMean'])         "
      ],
      "execution_count": 0,
      "outputs": []
    },
    {
      "cell_type": "code",
      "metadata": {
        "id": "lxFxCVC_Nkj6",
        "colab_type": "code",
        "colab": {}
      },
      "source": [
        "bycausedf.head(200)"
      ],
      "execution_count": 0,
      "outputs": []
    },
    {
      "cell_type": "markdown",
      "metadata": {
        "id": "JPesDbHU11Ez",
        "colab_type": "text"
      },
      "source": [
        "The NIFC classifies wildfires based on ignition source. The two primary ignition sources are lightning strikes and humans. A wildfire is classified as human-caused and can begin via “debris burning, campfires, arson, discarded smoking products, sparks from equipment in operation, arced power lines, and other means.”\n",
        "\n",
        "For easier graphing, I will make sure there is only 2 catagories, nature(lightning), and human(all other)."
      ]
    },
    {
      "cell_type": "code",
      "metadata": {
        "id": "fjD-enSg2A53",
        "colab_type": "code",
        "colab": {}
      },
      "source": [
        ""
      ],
      "execution_count": 0,
      "outputs": []
    },
    {
      "cell_type": "code",
      "metadata": {
        "id": "yKloqFh6IqqC",
        "colab_type": "code",
        "colab": {}
      },
      "source": [
        "causetotalsdf = bycausedf[['Cause', 'WestFires', 'SouthFires', 'NortheastFires', 'MidwestFires']]"
      ],
      "execution_count": 0,
      "outputs": []
    },
    {
      "cell_type": "code",
      "metadata": {
        "id": "CTrMWRZrI0A-",
        "colab_type": "code",
        "colab": {}
      },
      "source": [
        "causetotalsdf.head()"
      ],
      "execution_count": 0,
      "outputs": []
    },
    {
      "cell_type": "code",
      "metadata": {
        "id": "zL8DamQfI3uG",
        "colab_type": "code",
        "colab": {}
      },
      "source": [
        "# Colors for stacks:\n",
        "# Midwest = 5098CB\n",
        "# Northeast = 70A225\n",
        "# South = C07A27\n",
        "# West = A7373F\n",
        "\n",
        "plt.style.use('fivethirtyeight')\n",
        "fig, ax = plt.subplots(figsize=(10,10)) \n",
        "\n",
        "causetotalsdf.plot(kind='bar', ax=ax, colors=['#A7373F', '#C07A27', '#70A225', '#5098CB' ])\n",
        "# ['#5098CB', '#70A225', '#C07A27', '#A7373F']\n",
        "\n",
        "\n",
        "\n",
        "# Border removal\n",
        "ax.spines['top'].set_visible(False)\n",
        "ax.spines['right'].set_visible(True)\n",
        "ax.spines['bottom'].set_visible(False)\n",
        "ax.spines['left'].set_visible(False)\n",
        "\n",
        "# Grid\n",
        "ax.grid(axis='x')\n",
        "\n",
        "# Need some padding for the tick labels it looks like\n",
        "ax.tick_params(axis='both', which='major', pad=10)\n",
        "\n",
        "fig.patch.set(facecolor='white')\n",
        "ax.set(facecolor='white')\n",
        "\n",
        "\n",
        "\n",
        "plt.show()"
      ],
      "execution_count": 0,
      "outputs": []
    },
    {
      "cell_type": "code",
      "metadata": {
        "id": "_UrD5WfYJGNr",
        "colab_type": "code",
        "colab": {}
      },
      "source": [
        ""
      ],
      "execution_count": 0,
      "outputs": []
    }
  ]
}