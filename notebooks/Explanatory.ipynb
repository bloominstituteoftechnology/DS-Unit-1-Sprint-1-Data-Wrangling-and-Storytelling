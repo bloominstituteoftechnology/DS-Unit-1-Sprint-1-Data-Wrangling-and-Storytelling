{
  "nbformat": 4,
  "nbformat_minor": 0,
  "metadata": {
    "colab": {
      "name": "Explanatory.ipynb",
      "provenance": [],
      "collapsed_sections": [],
      "toc_visible": true,
      "mount_file_id": "1NOxj0zfQI4SiOr9ayYe4huAGgLkBtwUA",
      "authorship_tag": "ABX9TyOEbbTnnldgHV58wEZne2gM",
      "include_colab_link": true
    },
    "kernelspec": {
      "name": "python3",
      "display_name": "Python 3"
    }
  },
  "cells": [
    {
      "cell_type": "markdown",
      "metadata": {
        "id": "view-in-github",
        "colab_type": "text"
      },
      "source": [
        "<a href=\"https://colab.research.google.com/github/danielscurlock/DS-Unit-1-Sprint-1-Data-Wrangling-and-Storytelling/blob/master/notebooks/Explanatory.ipynb\" target=\"_parent\"><img src=\"https://colab.research.google.com/assets/colab-badge.svg\" alt=\"Open In Colab\"/></a>"
      ]
    },
    {
      "cell_type": "markdown",
      "metadata": {
        "id": "VO_mKi5AbX8C",
        "colab_type": "text"
      },
      "source": [
        "\n",
        "# **Explanatory Analysis of 188 Million Wild Fires:**\n",
        "by: ***Daniel Scurlock*** (3/2/20)\n",
        "\n",
        "\n",
        "---\n",
        "\n",
        "\n",
        "\n",
        "# *Dataset Description:*\n",
        "https://www.kaggle.com/rtatman/188-million-us-wildfires\n",
        "\n",
        "This data publication contains a spatial database of wildfires that occurred in the United States from 1992 to 2015. It is the third update of a publication originally generated to support the national Fire Program Analysis (FPA) system. The wildfire records were acquired from the reporting systems of federal, state, and local fire organizations. The following core data elements were required for records to be included in this data publication: discovery date, final fire size, and a point location at least as precise as Public Land Survey System (PLSS) section (1-square mile grid). The data were transformed to conform, when possible, to the data standards of the National Wildfire Coordinating Group (NWCG). Basic error-checking was performed and redundant records were identified and removed, to the degree possible. The resulting product, referred to as the Fire Program Analysis fire-occurrence database (FPA FOD), includes 1.88 million geo-referenced wildfire records, representing a total of 140 million acres burned during the 24-year period.\n",
        "\n",
        "\n",
        "---\n",
        "\n",
        "\n",
        "***I will try to be as thorough as possible. My goal here is to ask questions and exmplain those answers with visulalizations***"
      ]
    },
    {
      "cell_type": "code",
      "metadata": {
        "id": "1_smPhV7ckDY",
        "colab_type": "code",
        "colab": {}
      },
      "source": [
        "!pip install geoplot"
      ],
      "execution_count": 0,
      "outputs": []
    },
    {
      "cell_type": "code",
      "metadata": {
        "id": "wikar6ykcBS6",
        "colab_type": "code",
        "colab": {}
      },
      "source": [
        "# Get things ready for analysis\n",
        "import pandas as pd\n",
        "from scipy.stats import ttest_ind, ttest_ind_from_stats\n",
        "from scipy.special import stdtr\n",
        "import matplotlib.pyplot as plt\n",
        "import descartes \n",
        "from shapely.geometry import Point, Polygon"
      ],
      "execution_count": 0,
      "outputs": []
    },
    {
      "cell_type": "code",
      "metadata": {
        "id": "BIoLxL1TcejJ",
        "colab_type": "code",
        "colab": {}
      },
      "source": [
        "# Get the previously created CSV into place for tomorrow\n",
        "df = pd.read_csv('/content/drive/My Drive/Lambda/DSU1-BUILD/data/firesfinal.csv', index_col=0 )"
      ],
      "execution_count": 0,
      "outputs": []
    },
    {
      "cell_type": "markdown",
      "metadata": {
        "id": "s-0nx52wpjX6",
        "colab_type": "text"
      },
      "source": [
        "# **A regional analysis of wildfires**\n",
        "I will compare and contrast wildfire data based on region. I want to know the frequency of fires per region, and the average acreage burned. I want to identify the most frequest cause of of those fires per region. I also want to identify the months where fires are more frequent"
      ]
    },
    {
      "cell_type": "code",
      "metadata": {
        "id": "4rQnFiL3dOGJ",
        "colab_type": "code",
        "colab": {
          "base_uri": "https://localhost:8080/",
          "height": 309
        },
        "outputId": "2cc9b6e2-a0c4-4119-f451-3bec8904974e"
      },
      "source": [
        "df.head()"
      ],
      "execution_count": 24,
      "outputs": [
        {
          "output_type": "execute_result",
          "data": {
            "text/html": [
              "<div>\n",
              "<style scoped>\n",
              "    .dataframe tbody tr th:only-of-type {\n",
              "        vertical-align: middle;\n",
              "    }\n",
              "\n",
              "    .dataframe tbody tr th {\n",
              "        vertical-align: top;\n",
              "    }\n",
              "\n",
              "    .dataframe thead th {\n",
              "        text-align: right;\n",
              "    }\n",
              "</style>\n",
              "<table border=\"1\" class=\"dataframe\">\n",
              "  <thead>\n",
              "    <tr style=\"text-align: right;\">\n",
              "      <th></th>\n",
              "      <th>STAT_CAUSE_DESCR</th>\n",
              "      <th>FIRE_SIZE</th>\n",
              "      <th>FIRE_SIZE_CLASS</th>\n",
              "      <th>LATITUDE</th>\n",
              "      <th>LONGITUDE</th>\n",
              "      <th>STATE</th>\n",
              "      <th>DATE</th>\n",
              "      <th>YEAR</th>\n",
              "      <th>MONTH</th>\n",
              "      <th>DAY</th>\n",
              "      <th>WEEKDAY</th>\n",
              "      <th>HEINSELMAN</th>\n",
              "      <th>STATE_NAME</th>\n",
              "      <th>REGION</th>\n",
              "      <th>DIVISION</th>\n",
              "    </tr>\n",
              "  </thead>\n",
              "  <tbody>\n",
              "    <tr>\n",
              "      <th>0</th>\n",
              "      <td>Other</td>\n",
              "      <td>0.10</td>\n",
              "      <td>A</td>\n",
              "      <td>40.036944</td>\n",
              "      <td>-121.005833</td>\n",
              "      <td>CA</td>\n",
              "      <td>2005-02-02</td>\n",
              "      <td>2005</td>\n",
              "      <td>February</td>\n",
              "      <td>2</td>\n",
              "      <td>Wednesday</td>\n",
              "      <td>small</td>\n",
              "      <td>California</td>\n",
              "      <td>West</td>\n",
              "      <td>Pacific</td>\n",
              "    </tr>\n",
              "    <tr>\n",
              "      <th>1</th>\n",
              "      <td>Lightning</td>\n",
              "      <td>0.25</td>\n",
              "      <td>A</td>\n",
              "      <td>38.933056</td>\n",
              "      <td>-120.404444</td>\n",
              "      <td>CA</td>\n",
              "      <td>2004-05-12</td>\n",
              "      <td>2004</td>\n",
              "      <td>May</td>\n",
              "      <td>12</td>\n",
              "      <td>Wednesday</td>\n",
              "      <td>small</td>\n",
              "      <td>California</td>\n",
              "      <td>West</td>\n",
              "      <td>Pacific</td>\n",
              "    </tr>\n",
              "    <tr>\n",
              "      <th>2</th>\n",
              "      <td>Debris Burning</td>\n",
              "      <td>0.10</td>\n",
              "      <td>A</td>\n",
              "      <td>38.984167</td>\n",
              "      <td>-120.735556</td>\n",
              "      <td>CA</td>\n",
              "      <td>2004-05-31</td>\n",
              "      <td>2004</td>\n",
              "      <td>May</td>\n",
              "      <td>31</td>\n",
              "      <td>Monday</td>\n",
              "      <td>small</td>\n",
              "      <td>California</td>\n",
              "      <td>West</td>\n",
              "      <td>Pacific</td>\n",
              "    </tr>\n",
              "    <tr>\n",
              "      <th>3</th>\n",
              "      <td>Lightning</td>\n",
              "      <td>0.10</td>\n",
              "      <td>A</td>\n",
              "      <td>38.559167</td>\n",
              "      <td>-119.913333</td>\n",
              "      <td>CA</td>\n",
              "      <td>2004-06-28</td>\n",
              "      <td>2004</td>\n",
              "      <td>June</td>\n",
              "      <td>28</td>\n",
              "      <td>Monday</td>\n",
              "      <td>small</td>\n",
              "      <td>California</td>\n",
              "      <td>West</td>\n",
              "      <td>Pacific</td>\n",
              "    </tr>\n",
              "    <tr>\n",
              "      <th>4</th>\n",
              "      <td>Lightning</td>\n",
              "      <td>0.10</td>\n",
              "      <td>A</td>\n",
              "      <td>38.559167</td>\n",
              "      <td>-119.933056</td>\n",
              "      <td>CA</td>\n",
              "      <td>2004-06-28</td>\n",
              "      <td>2004</td>\n",
              "      <td>June</td>\n",
              "      <td>28</td>\n",
              "      <td>Monday</td>\n",
              "      <td>small</td>\n",
              "      <td>California</td>\n",
              "      <td>West</td>\n",
              "      <td>Pacific</td>\n",
              "    </tr>\n",
              "  </tbody>\n",
              "</table>\n",
              "</div>"
            ],
            "text/plain": [
              "  STAT_CAUSE_DESCR  FIRE_SIZE FIRE_SIZE_CLASS  ...  STATE_NAME  REGION DIVISION\n",
              "0            Other       0.10               A  ...  California    West  Pacific\n",
              "1        Lightning       0.25               A  ...  California    West  Pacific\n",
              "2   Debris Burning       0.10               A  ...  California    West  Pacific\n",
              "3        Lightning       0.10               A  ...  California    West  Pacific\n",
              "4        Lightning       0.10               A  ...  California    West  Pacific\n",
              "\n",
              "[5 rows x 15 columns]"
            ]
          },
          "metadata": {
            "tags": []
          },
          "execution_count": 24
        }
      ]
    },
    {
      "cell_type": "code",
      "metadata": {
        "id": "WXQOnEeonWqh",
        "colab_type": "code",
        "colab": {
          "base_uri": "https://localhost:8080/",
          "height": 289
        },
        "outputId": "dfb8a4f3-1f6c-46d9-aba7-a0bd44af864e"
      },
      "source": [
        "df.dtypes"
      ],
      "execution_count": 30,
      "outputs": [
        {
          "output_type": "execute_result",
          "data": {
            "text/plain": [
              "STAT_CAUSE_DESCR     object\n",
              "FIRE_SIZE           float64\n",
              "FIRE_SIZE_CLASS      object\n",
              "LATITUDE            float64\n",
              "LONGITUDE           float64\n",
              "STATE                object\n",
              "DATE                 object\n",
              "YEAR                  int64\n",
              "MONTH                object\n",
              "DAY                   int64\n",
              "WEEKDAY              object\n",
              "HEINSELMAN           object\n",
              "STATE_NAME           object\n",
              "REGION               object\n",
              "DIVISION             object\n",
              "dtype: object"
            ]
          },
          "metadata": {
            "tags": []
          },
          "execution_count": 30
        }
      ]
    },
    {
      "cell_type": "code",
      "metadata": {
        "id": "hZ26HdtktYwo",
        "colab_type": "code",
        "colab": {
          "base_uri": "https://localhost:8080/",
          "height": 102
        },
        "outputId": "14c9287c-e990-4860-f44d-9febf13524f7"
      },
      "source": [
        "# What kind of regions do we have?\n",
        "df['REGION'].value_counts()"
      ],
      "execution_count": 25,
      "outputs": [
        {
          "output_type": "execute_result",
          "data": {
            "text/plain": [
              "South        950358\n",
              "West         589422\n",
              "Midwest      178933\n",
              "Northeast    139671\n",
              "Name: REGION, dtype: int64"
            ]
          },
          "metadata": {
            "tags": []
          },
          "execution_count": 25
        }
      ]
    },
    {
      "cell_type": "code",
      "metadata": {
        "id": "yDylw1ueb2UU",
        "colab_type": "code",
        "colab": {}
      },
      "source": [
        "# Subset for each region\n",
        "south = df[df['REGION'] == 'South']\n",
        "west = df[df['REGION'] == 'West']\n",
        "midwest = df[df['REGION'] == 'Midwest']\n",
        "northeast = df[df['REGION'] == 'Northeast']"
      ],
      "execution_count": 0,
      "outputs": []
    },
    {
      "cell_type": "markdown",
      "metadata": {
        "id": "YobG2X1VwtZH",
        "colab_type": "text"
      },
      "source": [
        "# Statistical significance\n",
        "looking for anything statistically significant to talk about."
      ]
    },
    {
      "cell_type": "code",
      "metadata": {
        "id": "3mNrfUuBjcml",
        "colab_type": "code",
        "colab": {}
      },
      "source": [
        "# Want to perform from testing, both on numerical \n",
        "# and catagorical data.\n",
        "\n",
        "# The first of which is the ttest on the size of the fire\n",
        "# The t test tells us how significant the differences in \n",
        "# fire size is between regions, and if those differences \n",
        "# (measured in means/averages) could have happened by chance.\n",
        "\n",
        "dfs = [[south, 'south'],\n",
        "       [west, 'west'], \n",
        "       [midwest, 'midwest'], \n",
        "       [northeast, 'northeast']]\n",
        "\n",
        "\n",
        "tmplist = []\n",
        "for rega in dfs:\n",
        "  for regb in dfs:\n",
        "    if rega[1] != regb[1]:\n",
        "      t, p = ttest_ind(rega[0]['FIRE_SIZE'], regb[0]['FIRE_SIZE'], nan_policy='omit')\n",
        "      tmplist.append([rega[1], regb[1], abs(t), p])\n",
        "\n",
        "tpdf = pd.DataFrame(tmplist, columns=['rega', 'regb', 't-vaule', 'p-value'])\n",
        "\n",
        "tpdf['conclusion'] = ['fail to reject' if x >= 0.5 else 'reject' for x in tpdf['p-value']]"
      ],
      "execution_count": 0,
      "outputs": []
    },
    {
      "cell_type": "code",
      "metadata": {
        "id": "RDSwsvnVsP6X",
        "colab_type": "code",
        "colab": {
          "base_uri": "https://localhost:8080/",
          "height": 421
        },
        "outputId": "25bffeb9-7a82-42ad-9af9-743708ede7f3"
      },
      "source": [
        "tpdf.head(20)"
      ],
      "execution_count": 64,
      "outputs": [
        {
          "output_type": "execute_result",
          "data": {
            "text/html": [
              "<div>\n",
              "<style scoped>\n",
              "    .dataframe tbody tr th:only-of-type {\n",
              "        vertical-align: middle;\n",
              "    }\n",
              "\n",
              "    .dataframe tbody tr th {\n",
              "        vertical-align: top;\n",
              "    }\n",
              "\n",
              "    .dataframe thead th {\n",
              "        text-align: right;\n",
              "    }\n",
              "</style>\n",
              "<table border=\"1\" class=\"dataframe\">\n",
              "  <thead>\n",
              "    <tr style=\"text-align: right;\">\n",
              "      <th></th>\n",
              "      <th>rega</th>\n",
              "      <th>regb</th>\n",
              "      <th>t-vaule</th>\n",
              "      <th>p-value</th>\n",
              "      <th>conclusion</th>\n",
              "    </tr>\n",
              "  </thead>\n",
              "  <tbody>\n",
              "    <tr>\n",
              "      <th>0</th>\n",
              "      <td>south</td>\n",
              "      <td>west</td>\n",
              "      <td>34.088523</td>\n",
              "      <td>1.359087e-254</td>\n",
              "      <td>reject</td>\n",
              "    </tr>\n",
              "    <tr>\n",
              "      <th>1</th>\n",
              "      <td>south</td>\n",
              "      <td>midwest</td>\n",
              "      <td>2.138238</td>\n",
              "      <td>3.249762e-02</td>\n",
              "      <td>reject</td>\n",
              "    </tr>\n",
              "    <tr>\n",
              "      <th>2</th>\n",
              "      <td>south</td>\n",
              "      <td>northeast</td>\n",
              "      <td>8.725730</td>\n",
              "      <td>2.648306e-18</td>\n",
              "      <td>reject</td>\n",
              "    </tr>\n",
              "    <tr>\n",
              "      <th>3</th>\n",
              "      <td>west</td>\n",
              "      <td>south</td>\n",
              "      <td>34.088523</td>\n",
              "      <td>1.359087e-254</td>\n",
              "      <td>reject</td>\n",
              "    </tr>\n",
              "    <tr>\n",
              "      <th>4</th>\n",
              "      <td>west</td>\n",
              "      <td>midwest</td>\n",
              "      <td>14.917556</td>\n",
              "      <td>2.575363e-50</td>\n",
              "      <td>reject</td>\n",
              "    </tr>\n",
              "    <tr>\n",
              "      <th>5</th>\n",
              "      <td>west</td>\n",
              "      <td>northeast</td>\n",
              "      <td>15.940912</td>\n",
              "      <td>3.369421e-57</td>\n",
              "      <td>reject</td>\n",
              "    </tr>\n",
              "    <tr>\n",
              "      <th>6</th>\n",
              "      <td>midwest</td>\n",
              "      <td>south</td>\n",
              "      <td>2.138238</td>\n",
              "      <td>3.249762e-02</td>\n",
              "      <td>reject</td>\n",
              "    </tr>\n",
              "    <tr>\n",
              "      <th>7</th>\n",
              "      <td>midwest</td>\n",
              "      <td>west</td>\n",
              "      <td>14.917556</td>\n",
              "      <td>2.575363e-50</td>\n",
              "      <td>reject</td>\n",
              "    </tr>\n",
              "    <tr>\n",
              "      <th>8</th>\n",
              "      <td>midwest</td>\n",
              "      <td>northeast</td>\n",
              "      <td>16.681996</td>\n",
              "      <td>1.883756e-62</td>\n",
              "      <td>reject</td>\n",
              "    </tr>\n",
              "    <tr>\n",
              "      <th>9</th>\n",
              "      <td>northeast</td>\n",
              "      <td>south</td>\n",
              "      <td>8.725730</td>\n",
              "      <td>2.648306e-18</td>\n",
              "      <td>reject</td>\n",
              "    </tr>\n",
              "    <tr>\n",
              "      <th>10</th>\n",
              "      <td>northeast</td>\n",
              "      <td>west</td>\n",
              "      <td>15.940912</td>\n",
              "      <td>3.369421e-57</td>\n",
              "      <td>reject</td>\n",
              "    </tr>\n",
              "    <tr>\n",
              "      <th>11</th>\n",
              "      <td>northeast</td>\n",
              "      <td>midwest</td>\n",
              "      <td>16.681996</td>\n",
              "      <td>1.883756e-62</td>\n",
              "      <td>reject</td>\n",
              "    </tr>\n",
              "  </tbody>\n",
              "</table>\n",
              "</div>"
            ],
            "text/plain": [
              "         rega       regb    t-vaule        p-value conclusion\n",
              "0       south       west  34.088523  1.359087e-254     reject\n",
              "1       south    midwest   2.138238   3.249762e-02     reject\n",
              "2       south  northeast   8.725730   2.648306e-18     reject\n",
              "3        west      south  34.088523  1.359087e-254     reject\n",
              "4        west    midwest  14.917556   2.575363e-50     reject\n",
              "5        west  northeast  15.940912   3.369421e-57     reject\n",
              "6     midwest      south   2.138238   3.249762e-02     reject\n",
              "7     midwest       west  14.917556   2.575363e-50     reject\n",
              "8     midwest  northeast  16.681996   1.883756e-62     reject\n",
              "9   northeast      south   8.725730   2.648306e-18     reject\n",
              "10  northeast       west  15.940912   3.369421e-57     reject\n",
              "11  northeast    midwest  16.681996   1.883756e-62     reject"
            ]
          },
          "metadata": {
            "tags": []
          },
          "execution_count": 64
        }
      ]
    },
    {
      "cell_type": "markdown",
      "metadata": {
        "id": "OKLtkU-D2kcy",
        "colab_type": "text"
      },
      "source": [
        "The results of the ttests were pretty straight forward. There is a statistically significant difference between regions when it comes to the amount of acreage burned during a wildfire. Though the difference varied. This is probably because of the distace between regions. I can use that information. "
      ]
    },
    {
      "cell_type": "code",
      "metadata": {
        "id": "Om7kYdyctfq6",
        "colab_type": "code",
        "colab": {}
      },
      "source": [
        "# Building us a dataframe to show region\n",
        "# number of fires, and mean acerage, and \n",
        "# plot this\n",
        "\n",
        "regions = ['South', 'West', 'Midwest', 'Northeast']\n",
        "\n",
        "tmp = []\n",
        "\n",
        "for r in regions:\n",
        "  tmpdf = df[df['REGION'] == r]\n",
        "  \n",
        "  total_fires = tmpdf['REGION'].value_counts().sum()\n",
        "  mean_acres = tmpdf['FIRE_SIZE'].mean() \n",
        "  \n",
        "  tmp.append([r, \n",
        "              total_fires, \n",
        "              mean_acres])\n",
        "\n",
        "regdf = pd.DataFrame(tmp, columns=['Region', \n",
        "                                   'Total Fires', \n",
        "                                   'Average Acreage'])\n",
        "\n"
      ],
      "execution_count": 0,
      "outputs": []
    },
    {
      "cell_type": "code",
      "metadata": {
        "id": "Dhh52r75v48W",
        "colab_type": "code",
        "colab": {
          "base_uri": "https://localhost:8080/",
          "height": 173
        },
        "outputId": "4e27f0fa-f299-4e4c-e888-f2a66ce220bb"
      },
      "source": [
        "regdf.head()"
      ],
      "execution_count": 66,
      "outputs": [
        {
          "output_type": "execute_result",
          "data": {
            "text/html": [
              "<div>\n",
              "<style scoped>\n",
              "    .dataframe tbody tr th:only-of-type {\n",
              "        vertical-align: middle;\n",
              "    }\n",
              "\n",
              "    .dataframe tbody tr th {\n",
              "        vertical-align: top;\n",
              "    }\n",
              "\n",
              "    .dataframe thead th {\n",
              "        text-align: right;\n",
              "    }\n",
              "</style>\n",
              "<table border=\"1\" class=\"dataframe\">\n",
              "  <thead>\n",
              "    <tr style=\"text-align: right;\">\n",
              "      <th></th>\n",
              "      <th>Region</th>\n",
              "      <th>Total Fires</th>\n",
              "      <th>Average Acreage</th>\n",
              "    </tr>\n",
              "  </thead>\n",
              "  <tbody>\n",
              "    <tr>\n",
              "      <th>0</th>\n",
              "      <td>South</td>\n",
              "      <td>950358</td>\n",
              "      <td>27.395502</td>\n",
              "    </tr>\n",
              "    <tr>\n",
              "      <th>1</th>\n",
              "      <td>West</td>\n",
              "      <td>589422</td>\n",
              "      <td>182.758497</td>\n",
              "    </tr>\n",
              "    <tr>\n",
              "      <th>2</th>\n",
              "      <td>Midwest</td>\n",
              "      <td>178933</td>\n",
              "      <td>33.018378</td>\n",
              "    </tr>\n",
              "    <tr>\n",
              "      <th>3</th>\n",
              "      <td>Northeast</td>\n",
              "      <td>139671</td>\n",
              "      <td>2.351031</td>\n",
              "    </tr>\n",
              "  </tbody>\n",
              "</table>\n",
              "</div>"
            ],
            "text/plain": [
              "      Region  Total Fires  Average Acreage\n",
              "0      South       950358        27.395502\n",
              "1       West       589422       182.758497\n",
              "2    Midwest       178933        33.018378\n",
              "3  Northeast       139671         2.351031"
            ]
          },
          "metadata": {
            "tags": []
          },
          "execution_count": 66
        }
      ]
    },
    {
      "cell_type": "code",
      "metadata": {
        "id": "Al0IRScXXOfg",
        "colab_type": "code",
        "colab": {}
      },
      "source": [
        ""
      ],
      "execution_count": 0,
      "outputs": []
    }
  ]
}