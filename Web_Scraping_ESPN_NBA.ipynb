{
  "nbformat": 4,
  "nbformat_minor": 0,
  "metadata": {
    "colab": {
      "name": "Web_Scraping_ESPN_NBA.ipynb",
      "provenance": [],
      "collapsed_sections": [],
      "authorship_tag": "ABX9TyNG/DSqpnZghZqbqvZfJvyD",
      "include_colab_link": true
    },
    "kernelspec": {
      "name": "python3",
      "display_name": "Python 3"
    }
  },
  "cells": [
    {
      "cell_type": "markdown",
      "metadata": {
        "id": "view-in-github",
        "colab_type": "text"
      },
      "source": [
        "<a href=\"https://colab.research.google.com/github/jacobpad/DS-Unit-1-Sprint-1-Data-Wrangling-and-Storytelling/blob/master/Web_Scraping_ESPN_NBA.ipynb\" target=\"_parent\"><img src=\"https://colab.research.google.com/assets/colab-badge.svg\" alt=\"Open In Colab\"/></a>"
      ]
    },
    {
      "cell_type": "markdown",
      "metadata": {
        "id": "39XjfndtQro2",
        "colab_type": "text"
      },
      "source": [
        "# Web Scraping"
      ]
    },
    {
      "cell_type": "markdown",
      "metadata": {
        "id": "bDsoSDoFQ4Ej",
        "colab_type": "text"
      },
      "source": [
        "https://www.youtube.com/playlist?list=PL5-da3qGB5IDbOi0g5WFh1YPDNzXw4LNL\n",
        "\n",
        "https://www.youtube.com/watch?v=4UcqECQe5Kc&t=432s"
      ]
    },
    {
      "cell_type": "code",
      "metadata": {
        "id": "1x3O_YW7WxgK",
        "colab_type": "code",
        "outputId": "85be7be3-7bc4-4fc8-ebbd-829c7b8922e4",
        "colab": {
          "base_uri": "https://localhost:8080/",
          "height": 104
        }
      },
      "source": [
        "!pip install requests"
      ],
      "execution_count": 1,
      "outputs": [
        {
          "output_type": "stream",
          "text": [
            "Requirement already satisfied: requests in /usr/local/lib/python3.6/dist-packages (2.21.0)\n",
            "Requirement already satisfied: certifi>=2017.4.17 in /usr/local/lib/python3.6/dist-packages (from requests) (2019.11.28)\n",
            "Requirement already satisfied: chardet<3.1.0,>=3.0.2 in /usr/local/lib/python3.6/dist-packages (from requests) (3.0.4)\n",
            "Requirement already satisfied: urllib3<1.25,>=1.21.1 in /usr/local/lib/python3.6/dist-packages (from requests) (1.24.3)\n",
            "Requirement already satisfied: idna<2.9,>=2.5 in /usr/local/lib/python3.6/dist-packages (from requests) (2.8)\n"
          ],
          "name": "stdout"
        }
      ]
    },
    {
      "cell_type": "code",
      "metadata": {
        "id": "3dSjjNeaOfFP",
        "colab_type": "code",
        "colab": {}
      },
      "source": [
        "import requests\n",
        "r=requests.get('http://www.espn.com/nba/salaries')"
      ],
      "execution_count": 0,
      "outputs": []
    },
    {
      "cell_type": "code",
      "metadata": {
        "id": "wCuHv4qU9UyY",
        "colab_type": "code",
        "colab": {}
      },
      "source": [
        "# import requests\n",
        "# some_url = 'http://www.espn.com/nba/salaries/_/page/'\n",
        "\n",
        "# num_of_pages = 13\n",
        "# for i in range(num_of_pages):\n",
        "#   req = f'{some_url+i}'\n",
        "\n",
        "# r=requests.get()"
      ],
      "execution_count": 0,
      "outputs": []
    },
    {
      "cell_type": "code",
      "metadata": {
        "id": "zj_v7OyTPrLt",
        "colab_type": "code",
        "outputId": "a71fcd71-d7a3-48f3-add5-6fe68b65d521",
        "colab": {
          "base_uri": "https://localhost:8080/",
          "height": 86
        }
      },
      "source": [
        "print(r.text[0:100])"
      ],
      "execution_count": 4,
      "outputs": [
        {
          "output_type": "stream",
          "text": [
            "\n",
            "<!DOCTYPE html>\n",
            "<html xmlns:fb=\"http://www.facebook.com/2008/fbml\">\n",
            "<head><script src=\"http://cdn.e\n"
          ],
          "name": "stdout"
        }
      ]
    },
    {
      "cell_type": "code",
      "metadata": {
        "id": "dHyY2pupQBro",
        "colab_type": "code",
        "outputId": "291bd4d0-c5a0-4b61-c7e9-49dcf85c6176",
        "colab": {
          "base_uri": "https://localhost:8080/",
          "height": 35
        }
      },
      "source": [
        "!pip install beautifulsoup4"
      ],
      "execution_count": 5,
      "outputs": [
        {
          "output_type": "stream",
          "text": [
            "Requirement already satisfied: beautifulsoup4 in /usr/local/lib/python3.6/dist-packages (4.6.3)\n"
          ],
          "name": "stdout"
        }
      ]
    },
    {
      "cell_type": "code",
      "metadata": {
        "id": "ZaAWZLMiQXVU",
        "colab_type": "code",
        "colab": {}
      },
      "source": [
        "from bs4 import BeautifulSoup\n",
        "soup = BeautifulSoup(r.text,'html.parser')"
      ],
      "execution_count": 0,
      "outputs": []
    },
    {
      "cell_type": "code",
      "metadata": {
        "id": "vWgD6YqFvDHM",
        "colab_type": "code",
        "outputId": "ee2ad18d-3a9f-4744-a34e-89e01089866c",
        "colab": {
          "base_uri": "https://localhost:8080/",
          "height": 365
        }
      },
      "source": [
        "oddrow = soup.find_all(attrs={'class':'oddrow'})\n",
        "oddrow"
      ],
      "execution_count": 7,
      "outputs": [
        {
          "output_type": "execute_result",
          "data": {
            "text/plain": [
              "[<tr class=\"oddrow\"><td>481</td><td><a href=\"http://www.espn.com/nba/player/_/id/4066407/carsen-edwards\">Carsen Edwards</a>, PG</td><td><a href=\"http://www.espn.com/nba/team/_/name/bos/boston-celtics\">Boston Celtics</a></td><td style=\"text-align:right;\">$1,228,026</td></tr>,\n",
              " <tr class=\"oddrow\"><td>483</td><td><a href=\"http://www.espn.com/nba/player/_/id/3138161/cody-martin\">Cody Martin</a>, SF</td><td><a href=\"http://www.espn.com/nba/team/_/name/cha/charlotte-hornets\">Charlotte Hornets</a></td><td style=\"text-align:right;\">$1,173,310</td></tr>,\n",
              " <tr class=\"oddrow\"><td>485</td><td><a href=\"http://www.espn.com/nba/player/_/id/3243/nick-young\">Nick Young</a>, G</td><td><a href=\"http://www.espn.com/nba/team/_/name/den/denver-nuggets\">Denver Nuggets</a></td><td style=\"text-align:right;\">$1,042,584</td></tr>,\n",
              " <tr class=\"oddrow\"><td>487</td><td><a href=\"http://www.espn.com/nba/player/_/id/3907823/terance-mann\">Terance Mann</a>, SG</td><td><a href=\"http://www.espn.com/nba/team/_/name/lac/la-clippers\">LA Clippers</a></td><td style=\"text-align:right;\">$1,000,000</td></tr>,\n",
              " <tr class=\"oddrow\"><td>489</td><td><a href=\"http://www.espn.com/nba/player/_/id/4066731/jalen-mcdaniels\">Jalen McDaniels</a>, PF</td><td><a href=\"http://www.espn.com/nba/team/_/name/cha/charlotte-hornets\">Charlotte Hornets</a></td><td style=\"text-align:right;\">$898,310</td></tr>,\n",
              " <tr class=\"oddrow\"><td>491</td><td><a href=\"http://www.espn.com/nba/player/_/id/3059311/matt-thomas\">Matt Thomas</a>, SG</td><td><a href=\"http://www.espn.com/nba/team/_/name/tor/toronto-raptors\">Toronto Raptors</a></td><td style=\"text-align:right;\">$898,310</td></tr>,\n",
              " <tr class=\"oddrow\"><td>493</td><td><a href=\"http://www.espn.com/nba/player/_/id/4065672/dewan-hernandez\">Dewan Hernandez</a>, C</td><td><a href=\"http://www.espn.com/nba/team/_/name/tor/toronto-raptors\">Toronto Raptors</a></td><td style=\"text-align:right;\">$898,310</td></tr>,\n",
              " <tr class=\"oddrow\"><td>495</td><td><a href=\"http://www.espn.com/nba/player/_/id/2995105/stanton-kidd\">Stanton Kidd</a>, F</td><td><a href=\"http://www.espn.com/nba/team/_/name/utah/utah-jazz\">Utah Jazz</a></td><td style=\"text-align:right;\">$898,310</td></tr>,\n",
              " <tr class=\"oddrow\"><td>497</td><td><a href=\"http://www.espn.com/nba/player/_/id/3914058/justin-james\">Justin James</a>, SG</td><td><a href=\"http://www.espn.com/nba/team/_/name/sac/sacramento-kings\">Sacramento Kings</a></td><td style=\"text-align:right;\">$898,310</td></tr>,\n",
              " <tr class=\"oddrow\"><td>499</td><td><a href=\"http://www.espn.com/nba/player/_/id/4397205/ignas-brazdeikis\">Ignas Brazdeikis</a>, SF</td><td><a href=\"http://www.espn.com/nba/team/_/name/ny/new-york-knicks\">New York Knicks</a></td><td style=\"text-align:right;\">$898,310</td></tr>,\n",
              " <tr class=\"oddrow\"><td>501</td><td><a href=\"http://www.espn.com/nba/player/_/id/4396971/naz-reid\">Naz Reid</a>, C</td><td><a href=\"http://www.espn.com/nba/team/_/name/min/minnesota-timberwolves\">Minnesota Timberwolves</a></td><td style=\"text-align:right;\">$898,310</td></tr>,\n",
              " <tr class=\"oddrow\"><td>503</td><td><a href=\"http://www.espn.com/nba/player/_/id/4396991/talen-horton-tucker\">Talen Horton-Tucker</a>, SG</td><td><a href=\"http://www.espn.com/nba/team/_/name/lal/los-angeles-lakers\">Los Angeles Lakers</a></td><td style=\"text-align:right;\">$898,310</td></tr>,\n",
              " <tr class=\"oddrow\"><td>505</td><td><a href=\"http://www.espn.com/nba/player/_/id/4401415/alen-smailagic\">Alen Smailagic</a>, PF</td><td><a href=\"http://www.espn.com/nba/team/_/name/gs/golden-state-warriors\">Golden State Warriors</a></td><td style=\"text-align:right;\">$898,310</td></tr>,\n",
              " <tr class=\"oddrow\"><td>507</td><td><a href=\"http://www.espn.com/nba/player/_/id/4278049/daniel-gafford\">Daniel Gafford</a>, PF</td><td><a href=\"http://www.espn.com/nba/team/_/name/chi/chicago-bulls\">Chicago Bulls</a></td><td style=\"text-align:right;\">$898,310</td></tr>,\n",
              " <tr class=\"oddrow\"><td>509</td><td><a href=\"http://www.espn.com/nba/player/_/id/2596112/javonte-green\">Javonte Green</a>, SG</td><td><a href=\"http://www.espn.com/nba/team/_/name/bos/boston-celtics\">Boston Celtics</a></td><td style=\"text-align:right;\">$898,310</td></tr>,\n",
              " <tr class=\"oddrow\"><td>511</td><td><a href=\"http://www.espn.com/nba/player/_/id/3936294/isaiah-briscoe\">Isaiah Briscoe</a>, G</td><td><a href=\"http://www.espn.com/nba/team/_/name/orl/orlando-magic\">Orlando Magic</a></td><td style=\"text-align:right;\">$838,464</td></tr>,\n",
              " <tr class=\"oddrow\"><td>513</td><td><a href=\"http://www.espn.com/nba/player/_/id/3908819/rayjon-tucker\">Rayjon Tucker</a>, SG</td><td><a href=\"http://www.espn.com/nba/team/_/name/utah/utah-jazz\">Utah Jazz</a></td><td style=\"text-align:right;\">$578,573</td></tr>,\n",
              " <tr class=\"oddrow\"><td>515</td><td><a href=\"http://www.espn.com/nba/player/_/id/3893059/anzejs-pasecniks\">Anzejs Pasecniks</a>, C</td><td><a href=\"http://www.espn.com/nba/team/_/name/wsh/washington-wizards\">Washington Wizards</a></td><td style=\"text-align:right;\">$482,144</td></tr>,\n",
              " <tr class=\"oddrow\"><td>517</td><td><a href=\"http://www.espn.com/nba/player/_/id/6434/jimmer-fredette\">Jimmer Fredette</a>, G</td><td><a href=\"http://www.espn.com/nba/team/_/name/phx/phoenix-suns\">Phoenix Suns</a></td><td style=\"text-align:right;\">$208,509</td></tr>]"
            ]
          },
          "metadata": {
            "tags": []
          },
          "execution_count": 7
        }
      ]
    },
    {
      "cell_type": "code",
      "metadata": {
        "id": "S2jTW1CBzQEh",
        "colab_type": "code",
        "outputId": "f262b997-8b8e-40e3-de04-f5e8efe5a4ef",
        "colab": {
          "base_uri": "https://localhost:8080/",
          "height": 348
        }
      },
      "source": [
        "evenrow = soup.find_all(attrs={'class':'evenrow'})\n",
        "evenrow"
      ],
      "execution_count": 8,
      "outputs": [
        {
          "output_type": "execute_result",
          "data": {
            "text/plain": [
              "[<tr class=\"evenrow\"><td>482</td><td><a href=\"http://www.espn.com/nba/player/_/id/2528473/okaro-white\">Okaro White</a>, F</td><td><a href=\"http://www.espn.com/nba/team/_/name/wsh/washington-wizards\">Washington Wizards</a></td><td style=\"text-align:right;\">$1,187,862</td></tr>,\n",
              " <tr class=\"evenrow\"><td>484</td><td><a href=\"http://www.espn.com/nba/player/_/id/3134903/gary-payton-ii\">Gary Payton II</a>, PG</td><td><a href=\"http://www.espn.com/nba/team/_/name/wsh/washington-wizards\">Washington Wizards</a></td><td style=\"text-align:right;\">$1,052,909</td></tr>,\n",
              " <tr class=\"evenrow\"><td>486</td><td><a href=\"http://www.espn.com/nba/player/_/id/3918423/admiral-schofield\">Admiral Schofield</a>, SG</td><td><a href=\"http://www.espn.com/nba/team/_/name/wsh/washington-wizards\">Washington Wizards</a></td><td style=\"text-align:right;\">$1,000,000</td></tr>,\n",
              " <tr class=\"evenrow\"><td>488</td><td><a href=\"http://www.espn.com/nba/player/_/id/2580349/ron-baker\">Ron Baker</a>, G</td><td><a href=\"http://www.espn.com/nba/team/_/name/wsh/washington-wizards\">Washington Wizards</a></td><td style=\"text-align:right;\">$948,580</td></tr>,\n",
              " <tr class=\"evenrow\"><td>490</td><td><a href=\"http://www.espn.com/nba/player/_/id/3138160/caleb-martin\">Caleb Martin</a>, SF</td><td><a href=\"http://www.espn.com/nba/team/_/name/cha/charlotte-hornets\">Charlotte Hornets</a></td><td style=\"text-align:right;\">$898,310</td></tr>,\n",
              " <tr class=\"evenrow\"><td>492</td><td><a href=\"http://www.espn.com/nba/player/_/id/3919454/terence-davis\">Terence Davis</a>, SG</td><td><a href=\"http://www.espn.com/nba/team/_/name/tor/toronto-raptors\">Toronto Raptors</a></td><td style=\"text-align:right;\">$898,310</td></tr>,\n",
              " <tr class=\"evenrow\"><td>494</td><td><a href=\"http://www.espn.com/nba/player/_/id/3945566/justin-robinson\">Justin Robinson</a>, G</td><td><a href=\"http://www.espn.com/nba/team/_/name/wsh/washington-wizards\">Washington Wizards</a></td><td style=\"text-align:right;\">$898,310</td></tr>,\n",
              " <tr class=\"evenrow\"><td>496</td><td><a href=\"http://www.espn.com/nba/player/_/id/4066851/miye-oni\">Miye Oni</a>, SG</td><td><a href=\"http://www.espn.com/nba/team/_/name/utah/utah-jazz\">Utah Jazz</a></td><td style=\"text-align:right;\">$898,310</td></tr>,\n",
              " <tr class=\"evenrow\"><td>498</td><td><a href=\"http://www.espn.com/nba/player/_/id/4423887/jalen-lecque\">Jalen Lecque</a>, PG</td><td><a href=\"http://www.espn.com/nba/team/_/name/phx/phoenix-suns\">Phoenix Suns</a></td><td style=\"text-align:right;\">$898,310</td></tr>,\n",
              " <tr class=\"evenrow\"><td>500</td><td><a href=\"http://www.espn.com/nba/player/_/id/4278067/nicolas-claxton\">Nicolas Claxton</a>, PF</td><td><a href=\"http://www.espn.com/nba/team/_/name/bkn/brooklyn-nets\">Brooklyn Nets</a></td><td style=\"text-align:right;\">$898,310</td></tr>,\n",
              " <tr class=\"evenrow\"><td>502</td><td><a href=\"http://www.espn.com/nba/player/_/id/4278521/kz-okpala\">KZ Okpala</a>, SF</td><td><a href=\"http://www.espn.com/nba/team/_/name/mia/miami-heat\">Miami Heat</a></td><td style=\"text-align:right;\">$898,310</td></tr>,\n",
              " <tr class=\"evenrow\"><td>504</td><td><a href=\"http://www.espn.com/nba/player/_/id/3133817/eric-paschall\">Eric Paschall</a>, PF</td><td><a href=\"http://www.espn.com/nba/team/_/name/gs/golden-state-warriors\">Golden State Warriors</a></td><td style=\"text-align:right;\">$898,310</td></tr>,\n",
              " <tr class=\"evenrow\"><td>506</td><td><a href=\"http://www.espn.com/nba/player/_/id/4230557/vlatko-cancar\">Vlatko Cancar</a>, SF</td><td><a href=\"http://www.espn.com/nba/team/_/name/den/denver-nuggets\">Denver Nuggets</a></td><td style=\"text-align:right;\">$898,310</td></tr>,\n",
              " <tr class=\"evenrow\"><td>508</td><td><a href=\"http://www.espn.com/nba/player/_/id/4065778/max-strus\">Max Strus</a>, SG</td><td><a href=\"http://www.espn.com/nba/team/_/name/chi/chicago-bulls\">Chicago Bulls</a></td><td style=\"text-align:right;\">$898,310</td></tr>,\n",
              " <tr class=\"evenrow\"><td>510</td><td><a href=\"http://www.espn.com/nba/player/_/id/2595209/damion-lee\">Damion Lee</a>, SG</td><td><a href=\"http://www.espn.com/nba/team/_/name/gs/golden-state-warriors\">Golden State Warriors</a></td><td style=\"text-align:right;\">$842,327</td></tr>,\n",
              " <tr class=\"evenrow\"><td>512</td><td><a href=\"http://www.espn.com/nba/player/_/id/3934721/juwan-morgan\">Juwan Morgan</a>, SF</td><td><a href=\"http://www.espn.com/nba/team/_/name/utah/utah-jazz\">Utah Jazz</a></td><td style=\"text-align:right;\">$746,054</td></tr>,\n",
              " <tr class=\"evenrow\"><td>514</td><td><a href=\"http://www.espn.com/nba/player/_/id/3906603/chris-clemons\">Chris Clemons</a>, PG</td><td><a href=\"http://www.espn.com/nba/team/_/name/hou/houston-rockets\">Houston Rockets</a></td><td style=\"text-align:right;\">$563,347</td></tr>,\n",
              " <tr class=\"evenrow\"><td>516</td><td><a href=\"http://www.espn.com/nba/player/_/id/3923253/chris-silva\">Chris Silva</a>, PF</td><td><a href=\"http://www.espn.com/nba/team/_/name/mia/miami-heat\">Miami Heat</a></td><td style=\"text-align:right;\">$466,918</td></tr>]"
            ]
          },
          "metadata": {
            "tags": []
          },
          "execution_count": 8
        }
      ]
    },
    {
      "cell_type": "code",
      "metadata": {
        "id": "wZHqJVh3Qm6c",
        "colab_type": "code",
        "outputId": "e9bf1b0a-f24c-434f-e814-d909df0146ce",
        "colab": {
          "base_uri": "https://localhost:8080/",
          "height": 797
        }
      },
      "source": [
        "results=soup.find_all('tr')\n",
        "print('Length of results:\\n',len(results),'\\n')\n",
        "results"
      ],
      "execution_count": 9,
      "outputs": [
        {
          "output_type": "stream",
          "text": [
            "Length of results:\n",
            " 41 \n",
            "\n"
          ],
          "name": "stdout"
        },
        {
          "output_type": "execute_result",
          "data": {
            "text/plain": [
              "[<tr class=\"colhead\"><td width=\"10%\">RK</td><td width=\"35%\">NAME</td><td width=\"35%\">TEAM</td><td style=\"text-align:right;\" width=\"20%\">SALARY</td></tr>,\n",
              " <tr class=\"oddrow\"><td>481</td><td><a href=\"http://www.espn.com/nba/player/_/id/4066407/carsen-edwards\">Carsen Edwards</a>, PG</td><td><a href=\"http://www.espn.com/nba/team/_/name/bos/boston-celtics\">Boston Celtics</a></td><td style=\"text-align:right;\">$1,228,026</td></tr>,\n",
              " <tr class=\"evenrow\"><td>482</td><td><a href=\"http://www.espn.com/nba/player/_/id/2528473/okaro-white\">Okaro White</a>, F</td><td><a href=\"http://www.espn.com/nba/team/_/name/wsh/washington-wizards\">Washington Wizards</a></td><td style=\"text-align:right;\">$1,187,862</td></tr>,\n",
              " <tr class=\"oddrow\"><td>483</td><td><a href=\"http://www.espn.com/nba/player/_/id/3138161/cody-martin\">Cody Martin</a>, SF</td><td><a href=\"http://www.espn.com/nba/team/_/name/cha/charlotte-hornets\">Charlotte Hornets</a></td><td style=\"text-align:right;\">$1,173,310</td></tr>,\n",
              " <tr class=\"evenrow\"><td>484</td><td><a href=\"http://www.espn.com/nba/player/_/id/3134903/gary-payton-ii\">Gary Payton II</a>, PG</td><td><a href=\"http://www.espn.com/nba/team/_/name/wsh/washington-wizards\">Washington Wizards</a></td><td style=\"text-align:right;\">$1,052,909</td></tr>,\n",
              " <tr class=\"oddrow\"><td>485</td><td><a href=\"http://www.espn.com/nba/player/_/id/3243/nick-young\">Nick Young</a>, G</td><td><a href=\"http://www.espn.com/nba/team/_/name/den/denver-nuggets\">Denver Nuggets</a></td><td style=\"text-align:right;\">$1,042,584</td></tr>,\n",
              " <tr class=\"evenrow\"><td>486</td><td><a href=\"http://www.espn.com/nba/player/_/id/3918423/admiral-schofield\">Admiral Schofield</a>, SG</td><td><a href=\"http://www.espn.com/nba/team/_/name/wsh/washington-wizards\">Washington Wizards</a></td><td style=\"text-align:right;\">$1,000,000</td></tr>,\n",
              " <tr class=\"oddrow\"><td>487</td><td><a href=\"http://www.espn.com/nba/player/_/id/3907823/terance-mann\">Terance Mann</a>, SG</td><td><a href=\"http://www.espn.com/nba/team/_/name/lac/la-clippers\">LA Clippers</a></td><td style=\"text-align:right;\">$1,000,000</td></tr>,\n",
              " <tr class=\"evenrow\"><td>488</td><td><a href=\"http://www.espn.com/nba/player/_/id/2580349/ron-baker\">Ron Baker</a>, G</td><td><a href=\"http://www.espn.com/nba/team/_/name/wsh/washington-wizards\">Washington Wizards</a></td><td style=\"text-align:right;\">$948,580</td></tr>,\n",
              " <tr class=\"oddrow\"><td>489</td><td><a href=\"http://www.espn.com/nba/player/_/id/4066731/jalen-mcdaniels\">Jalen McDaniels</a>, PF</td><td><a href=\"http://www.espn.com/nba/team/_/name/cha/charlotte-hornets\">Charlotte Hornets</a></td><td style=\"text-align:right;\">$898,310</td></tr>,\n",
              " <tr class=\"evenrow\"><td>490</td><td><a href=\"http://www.espn.com/nba/player/_/id/3138160/caleb-martin\">Caleb Martin</a>, SF</td><td><a href=\"http://www.espn.com/nba/team/_/name/cha/charlotte-hornets\">Charlotte Hornets</a></td><td style=\"text-align:right;\">$898,310</td></tr>,\n",
              " <tr class=\"colhead\"><td width=\"10%\">RK</td><td width=\"35%\">NAME</td><td width=\"35%\">TEAM</td><td style=\"text-align:right;\" width=\"20%\">SALARY</td></tr>,\n",
              " <tr class=\"oddrow\"><td>491</td><td><a href=\"http://www.espn.com/nba/player/_/id/3059311/matt-thomas\">Matt Thomas</a>, SG</td><td><a href=\"http://www.espn.com/nba/team/_/name/tor/toronto-raptors\">Toronto Raptors</a></td><td style=\"text-align:right;\">$898,310</td></tr>,\n",
              " <tr class=\"evenrow\"><td>492</td><td><a href=\"http://www.espn.com/nba/player/_/id/3919454/terence-davis\">Terence Davis</a>, SG</td><td><a href=\"http://www.espn.com/nba/team/_/name/tor/toronto-raptors\">Toronto Raptors</a></td><td style=\"text-align:right;\">$898,310</td></tr>,\n",
              " <tr class=\"oddrow\"><td>493</td><td><a href=\"http://www.espn.com/nba/player/_/id/4065672/dewan-hernandez\">Dewan Hernandez</a>, C</td><td><a href=\"http://www.espn.com/nba/team/_/name/tor/toronto-raptors\">Toronto Raptors</a></td><td style=\"text-align:right;\">$898,310</td></tr>,\n",
              " <tr class=\"evenrow\"><td>494</td><td><a href=\"http://www.espn.com/nba/player/_/id/3945566/justin-robinson\">Justin Robinson</a>, G</td><td><a href=\"http://www.espn.com/nba/team/_/name/wsh/washington-wizards\">Washington Wizards</a></td><td style=\"text-align:right;\">$898,310</td></tr>,\n",
              " <tr class=\"oddrow\"><td>495</td><td><a href=\"http://www.espn.com/nba/player/_/id/2995105/stanton-kidd\">Stanton Kidd</a>, F</td><td><a href=\"http://www.espn.com/nba/team/_/name/utah/utah-jazz\">Utah Jazz</a></td><td style=\"text-align:right;\">$898,310</td></tr>,\n",
              " <tr class=\"evenrow\"><td>496</td><td><a href=\"http://www.espn.com/nba/player/_/id/4066851/miye-oni\">Miye Oni</a>, SG</td><td><a href=\"http://www.espn.com/nba/team/_/name/utah/utah-jazz\">Utah Jazz</a></td><td style=\"text-align:right;\">$898,310</td></tr>,\n",
              " <tr class=\"oddrow\"><td>497</td><td><a href=\"http://www.espn.com/nba/player/_/id/3914058/justin-james\">Justin James</a>, SG</td><td><a href=\"http://www.espn.com/nba/team/_/name/sac/sacramento-kings\">Sacramento Kings</a></td><td style=\"text-align:right;\">$898,310</td></tr>,\n",
              " <tr class=\"evenrow\"><td>498</td><td><a href=\"http://www.espn.com/nba/player/_/id/4423887/jalen-lecque\">Jalen Lecque</a>, PG</td><td><a href=\"http://www.espn.com/nba/team/_/name/phx/phoenix-suns\">Phoenix Suns</a></td><td style=\"text-align:right;\">$898,310</td></tr>,\n",
              " <tr class=\"oddrow\"><td>499</td><td><a href=\"http://www.espn.com/nba/player/_/id/4397205/ignas-brazdeikis\">Ignas Brazdeikis</a>, SF</td><td><a href=\"http://www.espn.com/nba/team/_/name/ny/new-york-knicks\">New York Knicks</a></td><td style=\"text-align:right;\">$898,310</td></tr>,\n",
              " <tr class=\"evenrow\"><td>500</td><td><a href=\"http://www.espn.com/nba/player/_/id/4278067/nicolas-claxton\">Nicolas Claxton</a>, PF</td><td><a href=\"http://www.espn.com/nba/team/_/name/bkn/brooklyn-nets\">Brooklyn Nets</a></td><td style=\"text-align:right;\">$898,310</td></tr>,\n",
              " <tr class=\"colhead\"><td width=\"10%\">RK</td><td width=\"35%\">NAME</td><td width=\"35%\">TEAM</td><td style=\"text-align:right;\" width=\"20%\">SALARY</td></tr>,\n",
              " <tr class=\"oddrow\"><td>501</td><td><a href=\"http://www.espn.com/nba/player/_/id/4396971/naz-reid\">Naz Reid</a>, C</td><td><a href=\"http://www.espn.com/nba/team/_/name/min/minnesota-timberwolves\">Minnesota Timberwolves</a></td><td style=\"text-align:right;\">$898,310</td></tr>,\n",
              " <tr class=\"evenrow\"><td>502</td><td><a href=\"http://www.espn.com/nba/player/_/id/4278521/kz-okpala\">KZ Okpala</a>, SF</td><td><a href=\"http://www.espn.com/nba/team/_/name/mia/miami-heat\">Miami Heat</a></td><td style=\"text-align:right;\">$898,310</td></tr>,\n",
              " <tr class=\"oddrow\"><td>503</td><td><a href=\"http://www.espn.com/nba/player/_/id/4396991/talen-horton-tucker\">Talen Horton-Tucker</a>, SG</td><td><a href=\"http://www.espn.com/nba/team/_/name/lal/los-angeles-lakers\">Los Angeles Lakers</a></td><td style=\"text-align:right;\">$898,310</td></tr>,\n",
              " <tr class=\"evenrow\"><td>504</td><td><a href=\"http://www.espn.com/nba/player/_/id/3133817/eric-paschall\">Eric Paschall</a>, PF</td><td><a href=\"http://www.espn.com/nba/team/_/name/gs/golden-state-warriors\">Golden State Warriors</a></td><td style=\"text-align:right;\">$898,310</td></tr>,\n",
              " <tr class=\"oddrow\"><td>505</td><td><a href=\"http://www.espn.com/nba/player/_/id/4401415/alen-smailagic\">Alen Smailagic</a>, PF</td><td><a href=\"http://www.espn.com/nba/team/_/name/gs/golden-state-warriors\">Golden State Warriors</a></td><td style=\"text-align:right;\">$898,310</td></tr>,\n",
              " <tr class=\"evenrow\"><td>506</td><td><a href=\"http://www.espn.com/nba/player/_/id/4230557/vlatko-cancar\">Vlatko Cancar</a>, SF</td><td><a href=\"http://www.espn.com/nba/team/_/name/den/denver-nuggets\">Denver Nuggets</a></td><td style=\"text-align:right;\">$898,310</td></tr>,\n",
              " <tr class=\"oddrow\"><td>507</td><td><a href=\"http://www.espn.com/nba/player/_/id/4278049/daniel-gafford\">Daniel Gafford</a>, PF</td><td><a href=\"http://www.espn.com/nba/team/_/name/chi/chicago-bulls\">Chicago Bulls</a></td><td style=\"text-align:right;\">$898,310</td></tr>,\n",
              " <tr class=\"evenrow\"><td>508</td><td><a href=\"http://www.espn.com/nba/player/_/id/4065778/max-strus\">Max Strus</a>, SG</td><td><a href=\"http://www.espn.com/nba/team/_/name/chi/chicago-bulls\">Chicago Bulls</a></td><td style=\"text-align:right;\">$898,310</td></tr>,\n",
              " <tr class=\"oddrow\"><td>509</td><td><a href=\"http://www.espn.com/nba/player/_/id/2596112/javonte-green\">Javonte Green</a>, SG</td><td><a href=\"http://www.espn.com/nba/team/_/name/bos/boston-celtics\">Boston Celtics</a></td><td style=\"text-align:right;\">$898,310</td></tr>,\n",
              " <tr class=\"evenrow\"><td>510</td><td><a href=\"http://www.espn.com/nba/player/_/id/2595209/damion-lee\">Damion Lee</a>, SG</td><td><a href=\"http://www.espn.com/nba/team/_/name/gs/golden-state-warriors\">Golden State Warriors</a></td><td style=\"text-align:right;\">$842,327</td></tr>,\n",
              " <tr class=\"colhead\"><td width=\"10%\">RK</td><td width=\"35%\">NAME</td><td width=\"35%\">TEAM</td><td style=\"text-align:right;\" width=\"20%\">SALARY</td></tr>,\n",
              " <tr class=\"oddrow\"><td>511</td><td><a href=\"http://www.espn.com/nba/player/_/id/3936294/isaiah-briscoe\">Isaiah Briscoe</a>, G</td><td><a href=\"http://www.espn.com/nba/team/_/name/orl/orlando-magic\">Orlando Magic</a></td><td style=\"text-align:right;\">$838,464</td></tr>,\n",
              " <tr class=\"evenrow\"><td>512</td><td><a href=\"http://www.espn.com/nba/player/_/id/3934721/juwan-morgan\">Juwan Morgan</a>, SF</td><td><a href=\"http://www.espn.com/nba/team/_/name/utah/utah-jazz\">Utah Jazz</a></td><td style=\"text-align:right;\">$746,054</td></tr>,\n",
              " <tr class=\"oddrow\"><td>513</td><td><a href=\"http://www.espn.com/nba/player/_/id/3908819/rayjon-tucker\">Rayjon Tucker</a>, SG</td><td><a href=\"http://www.espn.com/nba/team/_/name/utah/utah-jazz\">Utah Jazz</a></td><td style=\"text-align:right;\">$578,573</td></tr>,\n",
              " <tr class=\"evenrow\"><td>514</td><td><a href=\"http://www.espn.com/nba/player/_/id/3906603/chris-clemons\">Chris Clemons</a>, PG</td><td><a href=\"http://www.espn.com/nba/team/_/name/hou/houston-rockets\">Houston Rockets</a></td><td style=\"text-align:right;\">$563,347</td></tr>,\n",
              " <tr class=\"oddrow\"><td>515</td><td><a href=\"http://www.espn.com/nba/player/_/id/3893059/anzejs-pasecniks\">Anzejs Pasecniks</a>, C</td><td><a href=\"http://www.espn.com/nba/team/_/name/wsh/washington-wizards\">Washington Wizards</a></td><td style=\"text-align:right;\">$482,144</td></tr>,\n",
              " <tr class=\"evenrow\"><td>516</td><td><a href=\"http://www.espn.com/nba/player/_/id/3923253/chris-silva\">Chris Silva</a>, PF</td><td><a href=\"http://www.espn.com/nba/team/_/name/mia/miami-heat\">Miami Heat</a></td><td style=\"text-align:right;\">$466,918</td></tr>,\n",
              " <tr class=\"oddrow\"><td>517</td><td><a href=\"http://www.espn.com/nba/player/_/id/6434/jimmer-fredette\">Jimmer Fredette</a>, G</td><td><a href=\"http://www.espn.com/nba/team/_/name/phx/phoenix-suns\">Phoenix Suns</a></td><td style=\"text-align:right;\">$208,509</td></tr>]"
            ]
          },
          "metadata": {
            "tags": []
          },
          "execution_count": 9
        }
      ]
    },
    {
      "cell_type": "code",
      "metadata": {
        "id": "8CFdPA7MhibW",
        "colab_type": "code",
        "outputId": "f53aebe1-03fa-4b8a-f58c-aadc671ee2a9",
        "colab": {
          "base_uri": "https://localhost:8080/",
          "height": 86
        }
      },
      "source": [
        "results[0].contents"
      ],
      "execution_count": 10,
      "outputs": [
        {
          "output_type": "execute_result",
          "data": {
            "text/plain": [
              "[<td width=\"10%\">RK</td>,\n",
              " <td width=\"35%\">NAME</td>,\n",
              " <td width=\"35%\">TEAM</td>,\n",
              " <td style=\"text-align:right;\" width=\"20%\">SALARY</td>]"
            ]
          },
          "metadata": {
            "tags": []
          },
          "execution_count": 10
        }
      ]
    },
    {
      "cell_type": "code",
      "metadata": {
        "id": "pR96egLClJsA",
        "colab_type": "code",
        "outputId": "2b493a15-c8e7-434e-da8f-f15a6e0dabda",
        "colab": {
          "base_uri": "https://localhost:8080/",
          "height": 35
        }
      },
      "source": [
        "# Rank\n",
        "rank = results[1].contents[0].contents[0]\n",
        "rank"
      ],
      "execution_count": 11,
      "outputs": [
        {
          "output_type": "execute_result",
          "data": {
            "text/plain": [
              "'481'"
            ]
          },
          "metadata": {
            "tags": []
          },
          "execution_count": 11
        }
      ]
    },
    {
      "cell_type": "code",
      "metadata": {
        "id": "PAFAcRkQlaS8",
        "colab_type": "code",
        "outputId": "00383dce-3b37-4311-d986-8051f059fa63",
        "colab": {
          "base_uri": "https://localhost:8080/",
          "height": 35
        }
      },
      "source": [
        "# Name\n",
        "name = results[1].contents[1].contents[0].contents[0]\n",
        "name"
      ],
      "execution_count": 12,
      "outputs": [
        {
          "output_type": "execute_result",
          "data": {
            "text/plain": [
              "'Carsen Edwards'"
            ]
          },
          "metadata": {
            "tags": []
          },
          "execution_count": 12
        }
      ]
    },
    {
      "cell_type": "code",
      "metadata": {
        "id": "RTCo7CbzlWYd",
        "colab_type": "code",
        "outputId": "508e0bd2-e60c-4a96-80f8-9b0ec2209e7d",
        "colab": {
          "base_uri": "https://localhost:8080/",
          "height": 35
        }
      },
      "source": [
        "# Position\n",
        "position = results[1].contents[1].contents[1][2:]\n",
        "position"
      ],
      "execution_count": 13,
      "outputs": [
        {
          "output_type": "execute_result",
          "data": {
            "text/plain": [
              "'PG'"
            ]
          },
          "metadata": {
            "tags": []
          },
          "execution_count": 13
        }
      ]
    },
    {
      "cell_type": "code",
      "metadata": {
        "id": "kQKZIX9VnU68",
        "colab_type": "code",
        "outputId": "522c24f9-a672-4b95-912d-73530672d364",
        "colab": {
          "base_uri": "https://localhost:8080/",
          "height": 35
        }
      },
      "source": [
        "# Team\n",
        "team = results[1].contents[2].contents[0].contents[0]\n",
        "team"
      ],
      "execution_count": 14,
      "outputs": [
        {
          "output_type": "execute_result",
          "data": {
            "text/plain": [
              "'Boston Celtics'"
            ]
          },
          "metadata": {
            "tags": []
          },
          "execution_count": 14
        }
      ]
    },
    {
      "cell_type": "code",
      "metadata": {
        "id": "_wBNUxQWniJu",
        "colab_type": "code",
        "outputId": "9a7e1f3e-5b6c-4c76-c450-697ae712d940",
        "colab": {
          "base_uri": "https://localhost:8080/",
          "height": 35
        }
      },
      "source": [
        "# Salary\n",
        "salary = results[1].contents[3].contents[0]\n",
        "salary"
      ],
      "execution_count": 15,
      "outputs": [
        {
          "output_type": "execute_result",
          "data": {
            "text/plain": [
              "'$1,228,026'"
            ]
          },
          "metadata": {
            "tags": []
          },
          "execution_count": 15
        }
      ]
    },
    {
      "cell_type": "code",
      "metadata": {
        "id": "7UyrwplWpAwr",
        "colab_type": "code",
        "colab": {}
      },
      "source": [
        ""
      ],
      "execution_count": 0,
      "outputs": []
    },
    {
      "cell_type": "code",
      "metadata": {
        "id": "_AxDvTyJqikD",
        "colab_type": "code",
        "outputId": "2cb6ab6e-c6ad-457a-cada-1fc417ac9095",
        "colab": {
          "base_uri": "https://localhost:8080/",
          "height": 345
        }
      },
      "source": [
        "odd_records = []\n",
        "count = 0\n",
        "\n",
        "for i in oddrow:\n",
        "  rank = oddrow[count].contents[0].contents[0]\n",
        "  name = oddrow[count].contents[1].contents[0].contents[0]\n",
        "  position = oddrow[count].contents[1].contents[1][2:]\n",
        "  team = oddrow[count].contents[2].contents[0].contents[0]\n",
        "  salary = oddrow[count].contents[3].contents[0]\n",
        "  odd_records.append((rank,name,position,team,salary))\n",
        "  count += 1\n",
        "\n",
        "odd_records"
      ],
      "execution_count": 16,
      "outputs": [
        {
          "output_type": "execute_result",
          "data": {
            "text/plain": [
              "[('481', 'Carsen Edwards', 'PG', 'Boston Celtics', '$1,228,026'),\n",
              " ('483', 'Cody Martin', 'SF', 'Charlotte Hornets', '$1,173,310'),\n",
              " ('485', 'Nick Young', 'G', 'Denver Nuggets', '$1,042,584'),\n",
              " ('487', 'Terance Mann', 'SG', 'LA Clippers', '$1,000,000'),\n",
              " ('489', 'Jalen McDaniels', 'PF', 'Charlotte Hornets', '$898,310'),\n",
              " ('491', 'Matt Thomas', 'SG', 'Toronto Raptors', '$898,310'),\n",
              " ('493', 'Dewan Hernandez', 'C', 'Toronto Raptors', '$898,310'),\n",
              " ('495', 'Stanton Kidd', 'F', 'Utah Jazz', '$898,310'),\n",
              " ('497', 'Justin James', 'SG', 'Sacramento Kings', '$898,310'),\n",
              " ('499', 'Ignas Brazdeikis', 'SF', 'New York Knicks', '$898,310'),\n",
              " ('501', 'Naz Reid', 'C', 'Minnesota Timberwolves', '$898,310'),\n",
              " ('503', 'Talen Horton-Tucker', 'SG', 'Los Angeles Lakers', '$898,310'),\n",
              " ('505', 'Alen Smailagic', 'PF', 'Golden State Warriors', '$898,310'),\n",
              " ('507', 'Daniel Gafford', 'PF', 'Chicago Bulls', '$898,310'),\n",
              " ('509', 'Javonte Green', 'SG', 'Boston Celtics', '$898,310'),\n",
              " ('511', 'Isaiah Briscoe', 'G', 'Orlando Magic', '$838,464'),\n",
              " ('513', 'Rayjon Tucker', 'SG', 'Utah Jazz', '$578,573'),\n",
              " ('515', 'Anzejs Pasecniks', 'C', 'Washington Wizards', '$482,144'),\n",
              " ('517', 'Jimmer Fredette', 'G', 'Phoenix Suns', '$208,509')]"
            ]
          },
          "metadata": {
            "tags": []
          },
          "execution_count": 16
        }
      ]
    },
    {
      "cell_type": "code",
      "metadata": {
        "id": "A80hNlFs0H7N",
        "colab_type": "code",
        "outputId": "b3b70c16-13d3-46da-f240-3f06e0826f49",
        "colab": {
          "base_uri": "https://localhost:8080/",
          "height": 328
        }
      },
      "source": [
        "even_records = []\n",
        "count = 0\n",
        "\n",
        "for i in evenrow:\n",
        "  rank = evenrow[count].contents[0].contents[0]\n",
        "  name = evenrow[count].contents[1].contents[0].contents[0]\n",
        "  position = evenrow[count].contents[1].contents[1][2:]\n",
        "  team = evenrow[count].contents[2].contents[0].contents[0]\n",
        "  salary = evenrow[count].contents[3].contents[0]\n",
        "  even_records.append((rank,name,position,team,salary))\n",
        "  count += 1\n",
        "\n",
        "even_records\n"
      ],
      "execution_count": 17,
      "outputs": [
        {
          "output_type": "execute_result",
          "data": {
            "text/plain": [
              "[('482', 'Okaro White', 'F', 'Washington Wizards', '$1,187,862'),\n",
              " ('484', 'Gary Payton II', 'PG', 'Washington Wizards', '$1,052,909'),\n",
              " ('486', 'Admiral Schofield', 'SG', 'Washington Wizards', '$1,000,000'),\n",
              " ('488', 'Ron Baker', 'G', 'Washington Wizards', '$948,580'),\n",
              " ('490', 'Caleb Martin', 'SF', 'Charlotte Hornets', '$898,310'),\n",
              " ('492', 'Terence Davis', 'SG', 'Toronto Raptors', '$898,310'),\n",
              " ('494', 'Justin Robinson', 'G', 'Washington Wizards', '$898,310'),\n",
              " ('496', 'Miye Oni', 'SG', 'Utah Jazz', '$898,310'),\n",
              " ('498', 'Jalen Lecque', 'PG', 'Phoenix Suns', '$898,310'),\n",
              " ('500', 'Nicolas Claxton', 'PF', 'Brooklyn Nets', '$898,310'),\n",
              " ('502', 'KZ Okpala', 'SF', 'Miami Heat', '$898,310'),\n",
              " ('504', 'Eric Paschall', 'PF', 'Golden State Warriors', '$898,310'),\n",
              " ('506', 'Vlatko Cancar', 'SF', 'Denver Nuggets', '$898,310'),\n",
              " ('508', 'Max Strus', 'SG', 'Chicago Bulls', '$898,310'),\n",
              " ('510', 'Damion Lee', 'SG', 'Golden State Warriors', '$842,327'),\n",
              " ('512', 'Juwan Morgan', 'SF', 'Utah Jazz', '$746,054'),\n",
              " ('514', 'Chris Clemons', 'PG', 'Houston Rockets', '$563,347'),\n",
              " ('516', 'Chris Silva', 'PF', 'Miami Heat', '$466,918')]"
            ]
          },
          "metadata": {
            "tags": []
          },
          "execution_count": 17
        }
      ]
    },
    {
      "cell_type": "code",
      "metadata": {
        "id": "wA-0rOKW1i4F",
        "colab_type": "code",
        "colab": {}
      },
      "source": [
        "all_records = odd_records + even_records\n",
        "\n",
        "\n",
        "# # Append odd_records & even_records\n",
        "# odd_records.append(even_records)\n",
        "# all_records = odd_records\n",
        "# all_records"
      ],
      "execution_count": 0,
      "outputs": []
    },
    {
      "cell_type": "code",
      "metadata": {
        "id": "G3ICbYSEBXEF",
        "colab_type": "code",
        "colab": {
          "base_uri": "https://localhost:8080/",
          "height": 656
        },
        "outputId": "e0a856ca-8c02-41e6-86e3-0e667e664ad6"
      },
      "source": [
        "all_records"
      ],
      "execution_count": 19,
      "outputs": [
        {
          "output_type": "execute_result",
          "data": {
            "text/plain": [
              "[('481', 'Carsen Edwards', 'PG', 'Boston Celtics', '$1,228,026'),\n",
              " ('483', 'Cody Martin', 'SF', 'Charlotte Hornets', '$1,173,310'),\n",
              " ('485', 'Nick Young', 'G', 'Denver Nuggets', '$1,042,584'),\n",
              " ('487', 'Terance Mann', 'SG', 'LA Clippers', '$1,000,000'),\n",
              " ('489', 'Jalen McDaniels', 'PF', 'Charlotte Hornets', '$898,310'),\n",
              " ('491', 'Matt Thomas', 'SG', 'Toronto Raptors', '$898,310'),\n",
              " ('493', 'Dewan Hernandez', 'C', 'Toronto Raptors', '$898,310'),\n",
              " ('495', 'Stanton Kidd', 'F', 'Utah Jazz', '$898,310'),\n",
              " ('497', 'Justin James', 'SG', 'Sacramento Kings', '$898,310'),\n",
              " ('499', 'Ignas Brazdeikis', 'SF', 'New York Knicks', '$898,310'),\n",
              " ('501', 'Naz Reid', 'C', 'Minnesota Timberwolves', '$898,310'),\n",
              " ('503', 'Talen Horton-Tucker', 'SG', 'Los Angeles Lakers', '$898,310'),\n",
              " ('505', 'Alen Smailagic', 'PF', 'Golden State Warriors', '$898,310'),\n",
              " ('507', 'Daniel Gafford', 'PF', 'Chicago Bulls', '$898,310'),\n",
              " ('509', 'Javonte Green', 'SG', 'Boston Celtics', '$898,310'),\n",
              " ('511', 'Isaiah Briscoe', 'G', 'Orlando Magic', '$838,464'),\n",
              " ('513', 'Rayjon Tucker', 'SG', 'Utah Jazz', '$578,573'),\n",
              " ('515', 'Anzejs Pasecniks', 'C', 'Washington Wizards', '$482,144'),\n",
              " ('517', 'Jimmer Fredette', 'G', 'Phoenix Suns', '$208,509'),\n",
              " ('482', 'Okaro White', 'F', 'Washington Wizards', '$1,187,862'),\n",
              " ('484', 'Gary Payton II', 'PG', 'Washington Wizards', '$1,052,909'),\n",
              " ('486', 'Admiral Schofield', 'SG', 'Washington Wizards', '$1,000,000'),\n",
              " ('488', 'Ron Baker', 'G', 'Washington Wizards', '$948,580'),\n",
              " ('490', 'Caleb Martin', 'SF', 'Charlotte Hornets', '$898,310'),\n",
              " ('492', 'Terence Davis', 'SG', 'Toronto Raptors', '$898,310'),\n",
              " ('494', 'Justin Robinson', 'G', 'Washington Wizards', '$898,310'),\n",
              " ('496', 'Miye Oni', 'SG', 'Utah Jazz', '$898,310'),\n",
              " ('498', 'Jalen Lecque', 'PG', 'Phoenix Suns', '$898,310'),\n",
              " ('500', 'Nicolas Claxton', 'PF', 'Brooklyn Nets', '$898,310'),\n",
              " ('502', 'KZ Okpala', 'SF', 'Miami Heat', '$898,310'),\n",
              " ('504', 'Eric Paschall', 'PF', 'Golden State Warriors', '$898,310'),\n",
              " ('506', 'Vlatko Cancar', 'SF', 'Denver Nuggets', '$898,310'),\n",
              " ('508', 'Max Strus', 'SG', 'Chicago Bulls', '$898,310'),\n",
              " ('510', 'Damion Lee', 'SG', 'Golden State Warriors', '$842,327'),\n",
              " ('512', 'Juwan Morgan', 'SF', 'Utah Jazz', '$746,054'),\n",
              " ('514', 'Chris Clemons', 'PG', 'Houston Rockets', '$563,347'),\n",
              " ('516', 'Chris Silva', 'PF', 'Miami Heat', '$466,918')]"
            ]
          },
          "metadata": {
            "tags": []
          },
          "execution_count": 19
        }
      ]
    },
    {
      "cell_type": "code",
      "metadata": {
        "id": "bIkNUdNTCWCX",
        "colab_type": "code",
        "colab": {}
      },
      "source": [
        "import pandas as pd\n",
        "\n",
        "all_records = pd.DataFrame(all_records)\n",
        "\n",
        "# Convert to CSV\n",
        "all_records.to_csv('all_records.csv', index=False)"
      ],
      "execution_count": 0,
      "outputs": []
    },
    {
      "cell_type": "code",
      "metadata": {
        "id": "xFv8g7VmCaJO",
        "colab_type": "code",
        "colab": {}
      },
      "source": [
        "# And download\n",
        "from google.colab import files\n",
        "files.download('all_records.csv')"
      ],
      "execution_count": 0,
      "outputs": []
    }
  ]
}