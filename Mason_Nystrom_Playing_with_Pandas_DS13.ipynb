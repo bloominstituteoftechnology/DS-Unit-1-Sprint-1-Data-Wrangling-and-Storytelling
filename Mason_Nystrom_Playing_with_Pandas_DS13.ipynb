{
  "nbformat": 4,
  "nbformat_minor": 0,
  "metadata": {
    "colab": {
      "name": "Mason Nystrom Playing with Pandas DS13.ipynb",
      "provenance": [],
      "collapsed_sections": [],
      "include_colab_link": true
    },
    "kernelspec": {
      "name": "python3",
      "display_name": "Python 3"
    }
  },
  "cells": [
    {
      "cell_type": "markdown",
      "metadata": {
        "id": "view-in-github",
        "colab_type": "text"
      },
      "source": [
        "<a href=\"https://colab.research.google.com/github/masonnystrom/DS-Unit-1-Sprint-1-Data-Wrangling-and-Storytelling/blob/master/Mason_Nystrom_Playing_with_Pandas_DS13.ipynb\" target=\"_parent\"><img src=\"https://colab.research.google.com/assets/colab-badge.svg\" alt=\"Open In Colab\"/></a>"
      ]
    },
    {
      "cell_type": "markdown",
      "metadata": {
        "id": "qMuqtpAcfCr3",
        "colab_type": "text"
      },
      "source": [
        "1) Import data (Landslide data from NASA):\n",
        "https://query.data.world/s/h63v5sypgtnhkpevtqbdf3v472ppic\n"
      ]
    },
    {
      "cell_type": "code",
      "metadata": {
        "id": "CxbMufBWfBrf",
        "colab_type": "code",
        "colab": {}
      },
      "source": [
        "import pandas as pd\n"
      ],
      "execution_count": 0,
      "outputs": []
    },
    {
      "cell_type": "code",
      "metadata": {
        "id": "roY-qK20_KGw",
        "colab_type": "code",
        "colab": {}
      },
      "source": [
        "df = pd.read_csv('https://query.data.world/s/h63v5sypgtnhkpevtqbdf3v472ppic')"
      ],
      "execution_count": 0,
      "outputs": []
    },
    {
      "cell_type": "markdown",
      "metadata": {
        "id": "wUL1qg9XfNjL",
        "colab_type": "text"
      },
      "source": [
        "\n",
        "2) Get a look at the data:\n",
        "Print the head of the data."
      ]
    },
    {
      "cell_type": "code",
      "metadata": {
        "id": "J38NJE0YfT6p",
        "colab_type": "code",
        "colab": {
          "base_uri": "https://localhost:8080/",
          "height": 564
        },
        "outputId": "abfea670-42aa-4783-de9c-1e8cf6649dc6"
      },
      "source": [
        "df.head()"
      ],
      "execution_count": 5,
      "outputs": [
        {
          "output_type": "execute_result",
          "data": {
            "text/html": [
              "<div>\n",
              "<style scoped>\n",
              "    .dataframe tbody tr th:only-of-type {\n",
              "        vertical-align: middle;\n",
              "    }\n",
              "\n",
              "    .dataframe tbody tr th {\n",
              "        vertical-align: top;\n",
              "    }\n",
              "\n",
              "    .dataframe thead th {\n",
              "        text-align: right;\n",
              "    }\n",
              "</style>\n",
              "<table border=\"1\" class=\"dataframe\">\n",
              "  <thead>\n",
              "    <tr style=\"text-align: right;\">\n",
              "      <th></th>\n",
              "      <th>id</th>\n",
              "      <th>date</th>\n",
              "      <th>time</th>\n",
              "      <th>country</th>\n",
              "      <th>nearest_places</th>\n",
              "      <th>hazard_type</th>\n",
              "      <th>landslide_type</th>\n",
              "      <th>trigger</th>\n",
              "      <th>storm_name</th>\n",
              "      <th>fatalities</th>\n",
              "      <th>injuries</th>\n",
              "      <th>source_name</th>\n",
              "      <th>source_link</th>\n",
              "      <th>location_description</th>\n",
              "      <th>location_accuracy</th>\n",
              "      <th>landslide_size</th>\n",
              "      <th>photos_link</th>\n",
              "      <th>cat_src</th>\n",
              "      <th>cat_id</th>\n",
              "      <th>countryname</th>\n",
              "      <th>near</th>\n",
              "      <th>distance</th>\n",
              "      <th>adminname1</th>\n",
              "      <th>adminname2</th>\n",
              "      <th>population</th>\n",
              "      <th>countrycode</th>\n",
              "      <th>continentcode</th>\n",
              "      <th>key</th>\n",
              "      <th>version</th>\n",
              "      <th>tstamp</th>\n",
              "      <th>changeset_id</th>\n",
              "      <th>latitude</th>\n",
              "      <th>longitude</th>\n",
              "      <th>geolocation</th>\n",
              "    </tr>\n",
              "  </thead>\n",
              "  <tbody>\n",
              "    <tr>\n",
              "      <th>0</th>\n",
              "      <td>1</td>\n",
              "      <td>01/02/2007</td>\n",
              "      <td>NaN</td>\n",
              "      <td>United Kingdom</td>\n",
              "      <td>Whitehaven, Cumbria</td>\n",
              "      <td>landslide</td>\n",
              "      <td>Landslide</td>\n",
              "      <td>Rain</td>\n",
              "      <td>NaN</td>\n",
              "      <td>1.0</td>\n",
              "      <td>NaN</td>\n",
              "      <td>The Times</td>\n",
              "      <td>http://www.timesonline.co.uk/tol/newspapers/su...</td>\n",
              "      <td>NaN</td>\n",
              "      <td>Known_within_5_km</td>\n",
              "      <td>Medium</td>\n",
              "      <td>NaN</td>\n",
              "      <td>glc</td>\n",
              "      <td>1.0</td>\n",
              "      <td>United Kingdom</td>\n",
              "      <td>Whitehaven</td>\n",
              "      <td>0.22405</td>\n",
              "      <td>England</td>\n",
              "      <td>Cumbria</td>\n",
              "      <td>24803.0</td>\n",
              "      <td>GB</td>\n",
              "      <td>EU</td>\n",
              "      <td>sGaiIKdcW</td>\n",
              "      <td>1.0</td>\n",
              "      <td>Tue Apr 01 2014 00:00:00 GMT+0000 (UTC)</td>\n",
              "      <td>1.0</td>\n",
              "      <td>54.549400</td>\n",
              "      <td>-3.587500</td>\n",
              "      <td>(54.549399999999999, -3.5874999999999999)</td>\n",
              "    </tr>\n",
              "    <tr>\n",
              "      <th>1</th>\n",
              "      <td>2</td>\n",
              "      <td>01/03/2007</td>\n",
              "      <td>NaN</td>\n",
              "      <td>Peru</td>\n",
              "      <td>Alto Mesapata, in the Pasco province</td>\n",
              "      <td>landslide</td>\n",
              "      <td>Complex</td>\n",
              "      <td>Rain</td>\n",
              "      <td>NaN</td>\n",
              "      <td>NaN</td>\n",
              "      <td>NaN</td>\n",
              "      <td>My Opera</td>\n",
              "      <td>http://my.opera.com/bibberle/blog/index.dml/ta...</td>\n",
              "      <td>NaN</td>\n",
              "      <td>Unknown</td>\n",
              "      <td>Medium</td>\n",
              "      <td>NaN</td>\n",
              "      <td>glc</td>\n",
              "      <td>2.0</td>\n",
              "      <td>Peru</td>\n",
              "      <td>Huancabamba</td>\n",
              "      <td>12.26171</td>\n",
              "      <td>Pasco</td>\n",
              "      <td>Provincia de Oxapampa</td>\n",
              "      <td>0.0</td>\n",
              "      <td>PE</td>\n",
              "      <td>SA</td>\n",
              "      <td>S95OsumK4</td>\n",
              "      <td>1.0</td>\n",
              "      <td>Tue Apr 01 2014 00:00:00 GMT+0000 (UTC)</td>\n",
              "      <td>1.0</td>\n",
              "      <td>-10.383800</td>\n",
              "      <td>-75.426700</td>\n",
              "      <td>(-10.383800000000001, -75.426699999999997)</td>\n",
              "    </tr>\n",
              "    <tr>\n",
              "      <th>2</th>\n",
              "      <td>3</td>\n",
              "      <td>01/05/2007</td>\n",
              "      <td>NaN</td>\n",
              "      <td>Brazil</td>\n",
              "      <td>Nova Friburgo, Rio de Janeiro</td>\n",
              "      <td>landslide</td>\n",
              "      <td>Landslide</td>\n",
              "      <td>Rain</td>\n",
              "      <td>NaN</td>\n",
              "      <td>7.0</td>\n",
              "      <td>NaN</td>\n",
              "      <td>Deutsche Presse-Agentur - MonstersandCritics</td>\n",
              "      <td>http://news.monstersandcritics.com/americas/ne...</td>\n",
              "      <td>NaN</td>\n",
              "      <td>Known_within_25_km</td>\n",
              "      <td>Large</td>\n",
              "      <td>NaN</td>\n",
              "      <td>glc</td>\n",
              "      <td>3.0</td>\n",
              "      <td>Brazil</td>\n",
              "      <td>Nova Friburgo</td>\n",
              "      <td>0.63016</td>\n",
              "      <td>Rio de Janeiro</td>\n",
              "      <td>Nova Friburgo</td>\n",
              "      <td>153361.0</td>\n",
              "      <td>BR</td>\n",
              "      <td>SA</td>\n",
              "      <td>D5vlNdgB7</td>\n",
              "      <td>1.0</td>\n",
              "      <td>Tue Apr 01 2014 00:00:00 GMT+0000 (UTC)</td>\n",
              "      <td>1.0</td>\n",
              "      <td>-22.282346</td>\n",
              "      <td>-42.536362</td>\n",
              "      <td>(-22.282346350000001, -42.536362050000001)</td>\n",
              "    </tr>\n",
              "    <tr>\n",
              "      <th>3</th>\n",
              "      <td>4</td>\n",
              "      <td>01/05/2007</td>\n",
              "      <td>NaN</td>\n",
              "      <td>Brazil</td>\n",
              "      <td>Sumidouro, Rio de Janeiro</td>\n",
              "      <td>landslide</td>\n",
              "      <td>Landslide</td>\n",
              "      <td>Rain</td>\n",
              "      <td>NaN</td>\n",
              "      <td>2.0</td>\n",
              "      <td>NaN</td>\n",
              "      <td>Deutsche Presse-Agentur - MonstersandCritics</td>\n",
              "      <td>http://news.monstersandcritics.com/americas/ne...</td>\n",
              "      <td>NaN</td>\n",
              "      <td>Known_within_10_km</td>\n",
              "      <td>Medium</td>\n",
              "      <td>NaN</td>\n",
              "      <td>glc</td>\n",
              "      <td>4.0</td>\n",
              "      <td>Brazil</td>\n",
              "      <td>Carmo</td>\n",
              "      <td>14.05144</td>\n",
              "      <td>Rio de Janeiro</td>\n",
              "      <td>Carmo</td>\n",
              "      <td>11555.0</td>\n",
              "      <td>BR</td>\n",
              "      <td>SA</td>\n",
              "      <td>h5J8IFdc4</td>\n",
              "      <td>1.0</td>\n",
              "      <td>Tue Apr 01 2014 00:00:00 GMT+0000 (UTC)</td>\n",
              "      <td>1.0</td>\n",
              "      <td>-22.045200</td>\n",
              "      <td>-42.673400</td>\n",
              "      <td>(-22.045200000000001, -42.673400000000001)</td>\n",
              "    </tr>\n",
              "    <tr>\n",
              "      <th>4</th>\n",
              "      <td>5</td>\n",
              "      <td>01/05/2007</td>\n",
              "      <td>NaN</td>\n",
              "      <td>Brazil</td>\n",
              "      <td>Jundiai, Sao Paulo</td>\n",
              "      <td>landslide</td>\n",
              "      <td>Landslide</td>\n",
              "      <td>Rain</td>\n",
              "      <td>NaN</td>\n",
              "      <td>1.0</td>\n",
              "      <td>NaN</td>\n",
              "      <td>Deutsche Presse-Agentur - MonstersandCritics</td>\n",
              "      <td>http://news.monstersandcritics.com/americas/ne...</td>\n",
              "      <td>NaN</td>\n",
              "      <td>Known_within_50_km</td>\n",
              "      <td>Medium</td>\n",
              "      <td>NaN</td>\n",
              "      <td>glc</td>\n",
              "      <td>5.0</td>\n",
              "      <td>Brazil</td>\n",
              "      <td>Mairipor√£</td>\n",
              "      <td>10.07582</td>\n",
              "      <td>S√£o Paulo</td>\n",
              "      <td>Mairipor√£</td>\n",
              "      <td>54415.0</td>\n",
              "      <td>BR</td>\n",
              "      <td>SA</td>\n",
              "      <td>s5Zb5FdB4</td>\n",
              "      <td>1.0</td>\n",
              "      <td>Tue Apr 01 2014 00:00:00 GMT+0000 (UTC)</td>\n",
              "      <td>1.0</td>\n",
              "      <td>-23.231100</td>\n",
              "      <td>-46.613600</td>\n",
              "      <td>(-23.231100000000001, -46.613599999999998)</td>\n",
              "    </tr>\n",
              "  </tbody>\n",
              "</table>\n",
              "</div>"
            ],
            "text/plain": [
              "   id        date  ...  longitude                                 geolocation\n",
              "0   1  01/02/2007  ...  -3.587500   (54.549399999999999, -3.5874999999999999)\n",
              "1   2  01/03/2007  ... -75.426700  (-10.383800000000001, -75.426699999999997)\n",
              "2   3  01/05/2007  ... -42.536362  (-22.282346350000001, -42.536362050000001)\n",
              "3   4  01/05/2007  ... -42.673400  (-22.045200000000001, -42.673400000000001)\n",
              "4   5  01/05/2007  ... -46.613600  (-23.231100000000001, -46.613599999999998)\n",
              "\n",
              "[5 rows x 34 columns]"
            ]
          },
          "metadata": {
            "tags": []
          },
          "execution_count": 5
        }
      ]
    },
    {
      "cell_type": "code",
      "metadata": {
        "id": "vNFRjL3j_3EK",
        "colab_type": "code",
        "colab": {
          "base_uri": "https://localhost:8080/",
          "height": 612
        },
        "outputId": "888c50cc-d1b0-4333-85d9-9a1b0f5d3813"
      },
      "source": [
        "df.isnull().sum()"
      ],
      "execution_count": 13,
      "outputs": [
        {
          "output_type": "execute_result",
          "data": {
            "text/plain": [
              "id                         0\n",
              "date                       1\n",
              "time                    5540\n",
              "country                 3397\n",
              "nearest_places            92\n",
              "hazard_type                9\n",
              "landslide_type            18\n",
              "trigger                  756\n",
              "storm_name              9014\n",
              "fatalities              1352\n",
              "injuries                5622\n",
              "source_name             4019\n",
              "source_link             1331\n",
              "location_description    5455\n",
              "location_accuracy          2\n",
              "landslide_size           790\n",
              "photos_link             8575\n",
              "cat_src                   36\n",
              "cat_id                    34\n",
              "countryname               42\n",
              "near                      35\n",
              "distance                  34\n",
              "adminname1               117\n",
              "adminname2              3022\n",
              "population                34\n",
              "countrycode               44\n",
              "continentcode           3810\n",
              "key                       28\n",
              "version                    9\n",
              "tstamp                     9\n",
              "changeset_id               9\n",
              "latitude                   0\n",
              "longitude                  0\n",
              "geolocation                0\n",
              "dtype: int64"
            ]
          },
          "metadata": {
            "tags": []
          },
          "execution_count": 13
        }
      ]
    },
    {
      "cell_type": "markdown",
      "metadata": {
        "id": "oSD67ik9fVuW",
        "colab_type": "text"
      },
      "source": [
        "3) Create two variables named \"pop\" and \"shape\": \n",
        " Assign the \"pop\" variable to the mean of the population column and the \"shape\" variable to the shape of the dataset.\n"
      ]
    },
    {
      "cell_type": "code",
      "metadata": {
        "id": "UByFeJ2_feuJ",
        "colab_type": "code",
        "colab": {}
      },
      "source": [
        "pop = df['population'].mean(skipna=True)"
      ],
      "execution_count": 0,
      "outputs": []
    },
    {
      "cell_type": "code",
      "metadata": {
        "id": "f7mUiZpj_iOA",
        "colab_type": "code",
        "colab": {
          "base_uri": "https://localhost:8080/",
          "height": 34
        },
        "outputId": "a1bb06bd-1cf7-46ca-cd36-f7cca6aa13fa"
      },
      "source": [
        "pop "
      ],
      "execution_count": 15,
      "outputs": [
        {
          "output_type": "execute_result",
          "data": {
            "text/plain": [
              "156874.91406086044"
            ]
          },
          "metadata": {
            "tags": []
          },
          "execution_count": 15
        }
      ]
    },
    {
      "cell_type": "code",
      "metadata": {
        "id": "EDWdRz0A_m9_",
        "colab_type": "code",
        "colab": {}
      },
      "source": [
        "shape = df.shape"
      ],
      "execution_count": 0,
      "outputs": []
    },
    {
      "cell_type": "code",
      "metadata": {
        "id": "tycmc3UU_mzJ",
        "colab_type": "code",
        "colab": {
          "base_uri": "https://localhost:8080/",
          "height": 34
        },
        "outputId": "dba89878-ba5f-422d-ab24-bf9a7969f831"
      },
      "source": [
        "shape "
      ],
      "execution_count": 10,
      "outputs": [
        {
          "output_type": "execute_result",
          "data": {
            "text/plain": [
              "(9564, 34)"
            ]
          },
          "metadata": {
            "tags": []
          },
          "execution_count": 10
        }
      ]
    },
    {
      "cell_type": "markdown",
      "metadata": {
        "id": "gvWG_uH2flNc",
        "colab_type": "text"
      },
      "source": [
        "**STRETCH GOAL:**\n",
        "Finish early? Find the median, mean, and mode of more columns and print them. Done that? Add standard deviation and variance. Play around with display options and print statements to create an output that is accessible to others."
      ]
    },
    {
      "cell_type": "code",
      "metadata": {
        "id": "upEfhnlvfkfk",
        "colab_type": "code",
        "colab": {
          "base_uri": "https://localhost:8080/",
          "height": 1000
        },
        "outputId": "6750250c-4c62-4f07-e557-a211dab19880"
      },
      "source": [
        "df.head(10)"
      ],
      "execution_count": 23,
      "outputs": [
        {
          "output_type": "execute_result",
          "data": {
            "text/html": [
              "<div>\n",
              "<style scoped>\n",
              "    .dataframe tbody tr th:only-of-type {\n",
              "        vertical-align: middle;\n",
              "    }\n",
              "\n",
              "    .dataframe tbody tr th {\n",
              "        vertical-align: top;\n",
              "    }\n",
              "\n",
              "    .dataframe thead th {\n",
              "        text-align: right;\n",
              "    }\n",
              "</style>\n",
              "<table border=\"1\" class=\"dataframe\">\n",
              "  <thead>\n",
              "    <tr style=\"text-align: right;\">\n",
              "      <th></th>\n",
              "      <th>id</th>\n",
              "      <th>date</th>\n",
              "      <th>time</th>\n",
              "      <th>country</th>\n",
              "      <th>nearest_places</th>\n",
              "      <th>hazard_type</th>\n",
              "      <th>landslide_type</th>\n",
              "      <th>trigger</th>\n",
              "      <th>storm_name</th>\n",
              "      <th>fatalities</th>\n",
              "      <th>injuries</th>\n",
              "      <th>source_name</th>\n",
              "      <th>source_link</th>\n",
              "      <th>location_description</th>\n",
              "      <th>location_accuracy</th>\n",
              "      <th>landslide_size</th>\n",
              "      <th>photos_link</th>\n",
              "      <th>cat_src</th>\n",
              "      <th>cat_id</th>\n",
              "      <th>countryname</th>\n",
              "      <th>near</th>\n",
              "      <th>distance</th>\n",
              "      <th>adminname1</th>\n",
              "      <th>adminname2</th>\n",
              "      <th>population</th>\n",
              "      <th>countrycode</th>\n",
              "      <th>continentcode</th>\n",
              "      <th>key</th>\n",
              "      <th>version</th>\n",
              "      <th>tstamp</th>\n",
              "      <th>changeset_id</th>\n",
              "      <th>latitude</th>\n",
              "      <th>longitude</th>\n",
              "      <th>geolocation</th>\n",
              "    </tr>\n",
              "  </thead>\n",
              "  <tbody>\n",
              "    <tr>\n",
              "      <th>0</th>\n",
              "      <td>1</td>\n",
              "      <td>01/02/2007</td>\n",
              "      <td>NaN</td>\n",
              "      <td>United Kingdom</td>\n",
              "      <td>Whitehaven, Cumbria</td>\n",
              "      <td>landslide</td>\n",
              "      <td>Landslide</td>\n",
              "      <td>Rain</td>\n",
              "      <td>NaN</td>\n",
              "      <td>1.0</td>\n",
              "      <td>NaN</td>\n",
              "      <td>The Times</td>\n",
              "      <td>http://www.timesonline.co.uk/tol/newspapers/su...</td>\n",
              "      <td>NaN</td>\n",
              "      <td>Known_within_5_km</td>\n",
              "      <td>Medium</td>\n",
              "      <td>NaN</td>\n",
              "      <td>glc</td>\n",
              "      <td>1.0</td>\n",
              "      <td>United Kingdom</td>\n",
              "      <td>Whitehaven</td>\n",
              "      <td>0.22405</td>\n",
              "      <td>England</td>\n",
              "      <td>Cumbria</td>\n",
              "      <td>24803.0</td>\n",
              "      <td>GB</td>\n",
              "      <td>EU</td>\n",
              "      <td>sGaiIKdcW</td>\n",
              "      <td>1.0</td>\n",
              "      <td>Tue Apr 01 2014 00:00:00 GMT+0000 (UTC)</td>\n",
              "      <td>1.000000e+00</td>\n",
              "      <td>54.549400</td>\n",
              "      <td>-3.587500</td>\n",
              "      <td>(54.549399999999999, -3.5874999999999999)</td>\n",
              "    </tr>\n",
              "    <tr>\n",
              "      <th>1</th>\n",
              "      <td>2</td>\n",
              "      <td>01/03/2007</td>\n",
              "      <td>NaN</td>\n",
              "      <td>Peru</td>\n",
              "      <td>Alto Mesapata, in the Pasco province</td>\n",
              "      <td>landslide</td>\n",
              "      <td>Complex</td>\n",
              "      <td>Rain</td>\n",
              "      <td>NaN</td>\n",
              "      <td>NaN</td>\n",
              "      <td>NaN</td>\n",
              "      <td>My Opera</td>\n",
              "      <td>http://my.opera.com/bibberle/blog/index.dml/ta...</td>\n",
              "      <td>NaN</td>\n",
              "      <td>Unknown</td>\n",
              "      <td>Medium</td>\n",
              "      <td>NaN</td>\n",
              "      <td>glc</td>\n",
              "      <td>2.0</td>\n",
              "      <td>Peru</td>\n",
              "      <td>Huancabamba</td>\n",
              "      <td>12.26171</td>\n",
              "      <td>Pasco</td>\n",
              "      <td>Provincia de Oxapampa</td>\n",
              "      <td>0.0</td>\n",
              "      <td>PE</td>\n",
              "      <td>SA</td>\n",
              "      <td>S95OsumK4</td>\n",
              "      <td>1.0</td>\n",
              "      <td>Tue Apr 01 2014 00:00:00 GMT+0000 (UTC)</td>\n",
              "      <td>1.000000e+00</td>\n",
              "      <td>-10.383800</td>\n",
              "      <td>-75.426700</td>\n",
              "      <td>(-10.383800000000001, -75.426699999999997)</td>\n",
              "    </tr>\n",
              "    <tr>\n",
              "      <th>2</th>\n",
              "      <td>3</td>\n",
              "      <td>01/05/2007</td>\n",
              "      <td>NaN</td>\n",
              "      <td>Brazil</td>\n",
              "      <td>Nova Friburgo, Rio de Janeiro</td>\n",
              "      <td>landslide</td>\n",
              "      <td>Landslide</td>\n",
              "      <td>Rain</td>\n",
              "      <td>NaN</td>\n",
              "      <td>7.0</td>\n",
              "      <td>NaN</td>\n",
              "      <td>Deutsche Presse-Agentur - MonstersandCritics</td>\n",
              "      <td>http://news.monstersandcritics.com/americas/ne...</td>\n",
              "      <td>NaN</td>\n",
              "      <td>Known_within_25_km</td>\n",
              "      <td>Large</td>\n",
              "      <td>NaN</td>\n",
              "      <td>glc</td>\n",
              "      <td>3.0</td>\n",
              "      <td>Brazil</td>\n",
              "      <td>Nova Friburgo</td>\n",
              "      <td>0.63016</td>\n",
              "      <td>Rio de Janeiro</td>\n",
              "      <td>Nova Friburgo</td>\n",
              "      <td>153361.0</td>\n",
              "      <td>BR</td>\n",
              "      <td>SA</td>\n",
              "      <td>D5vlNdgB7</td>\n",
              "      <td>1.0</td>\n",
              "      <td>Tue Apr 01 2014 00:00:00 GMT+0000 (UTC)</td>\n",
              "      <td>1.000000e+00</td>\n",
              "      <td>-22.282346</td>\n",
              "      <td>-42.536362</td>\n",
              "      <td>(-22.282346350000001, -42.536362050000001)</td>\n",
              "    </tr>\n",
              "    <tr>\n",
              "      <th>3</th>\n",
              "      <td>4</td>\n",
              "      <td>01/05/2007</td>\n",
              "      <td>NaN</td>\n",
              "      <td>Brazil</td>\n",
              "      <td>Sumidouro, Rio de Janeiro</td>\n",
              "      <td>landslide</td>\n",
              "      <td>Landslide</td>\n",
              "      <td>Rain</td>\n",
              "      <td>NaN</td>\n",
              "      <td>2.0</td>\n",
              "      <td>NaN</td>\n",
              "      <td>Deutsche Presse-Agentur - MonstersandCritics</td>\n",
              "      <td>http://news.monstersandcritics.com/americas/ne...</td>\n",
              "      <td>NaN</td>\n",
              "      <td>Known_within_10_km</td>\n",
              "      <td>Medium</td>\n",
              "      <td>NaN</td>\n",
              "      <td>glc</td>\n",
              "      <td>4.0</td>\n",
              "      <td>Brazil</td>\n",
              "      <td>Carmo</td>\n",
              "      <td>14.05144</td>\n",
              "      <td>Rio de Janeiro</td>\n",
              "      <td>Carmo</td>\n",
              "      <td>11555.0</td>\n",
              "      <td>BR</td>\n",
              "      <td>SA</td>\n",
              "      <td>h5J8IFdc4</td>\n",
              "      <td>1.0</td>\n",
              "      <td>Tue Apr 01 2014 00:00:00 GMT+0000 (UTC)</td>\n",
              "      <td>1.000000e+00</td>\n",
              "      <td>-22.045200</td>\n",
              "      <td>-42.673400</td>\n",
              "      <td>(-22.045200000000001, -42.673400000000001)</td>\n",
              "    </tr>\n",
              "    <tr>\n",
              "      <th>4</th>\n",
              "      <td>5</td>\n",
              "      <td>01/05/2007</td>\n",
              "      <td>NaN</td>\n",
              "      <td>Brazil</td>\n",
              "      <td>Jundiai, Sao Paulo</td>\n",
              "      <td>landslide</td>\n",
              "      <td>Landslide</td>\n",
              "      <td>Rain</td>\n",
              "      <td>NaN</td>\n",
              "      <td>1.0</td>\n",
              "      <td>NaN</td>\n",
              "      <td>Deutsche Presse-Agentur - MonstersandCritics</td>\n",
              "      <td>http://news.monstersandcritics.com/americas/ne...</td>\n",
              "      <td>NaN</td>\n",
              "      <td>Known_within_50_km</td>\n",
              "      <td>Medium</td>\n",
              "      <td>NaN</td>\n",
              "      <td>glc</td>\n",
              "      <td>5.0</td>\n",
              "      <td>Brazil</td>\n",
              "      <td>Mairipor√£</td>\n",
              "      <td>10.07582</td>\n",
              "      <td>S√£o Paulo</td>\n",
              "      <td>Mairipor√£</td>\n",
              "      <td>54415.0</td>\n",
              "      <td>BR</td>\n",
              "      <td>SA</td>\n",
              "      <td>s5Zb5FdB4</td>\n",
              "      <td>1.0</td>\n",
              "      <td>Tue Apr 01 2014 00:00:00 GMT+0000 (UTC)</td>\n",
              "      <td>1.000000e+00</td>\n",
              "      <td>-23.231100</td>\n",
              "      <td>-46.613600</td>\n",
              "      <td>(-23.231100000000001, -46.613599999999998)</td>\n",
              "    </tr>\n",
              "    <tr>\n",
              "      <th>5</th>\n",
              "      <td>6</td>\n",
              "      <td>01/05/2007</td>\n",
              "      <td>NaN</td>\n",
              "      <td>Pakistan</td>\n",
              "      <td>Hallar Bridge, Kotli</td>\n",
              "      <td>landslide</td>\n",
              "      <td>Landslide</td>\n",
              "      <td>Rain</td>\n",
              "      <td>NaN</td>\n",
              "      <td>13.0</td>\n",
              "      <td>NaN</td>\n",
              "      <td>Daily Times of Pakistan</td>\n",
              "      <td>http://www.dailytimes.com.pk/default.asp?page=...</td>\n",
              "      <td>NaN</td>\n",
              "      <td>Known_within_50_km</td>\n",
              "      <td>Medium</td>\n",
              "      <td>NaN</td>\n",
              "      <td>glc</td>\n",
              "      <td>6.0</td>\n",
              "      <td>Pakistan</td>\n",
              "      <td>Palandri</td>\n",
              "      <td>19.21263</td>\n",
              "      <td>Azad Kashmir</td>\n",
              "      <td>NaN</td>\n",
              "      <td>0.0</td>\n",
              "      <td>PK</td>\n",
              "      <td>AS</td>\n",
              "      <td>sJDdkfmQU</td>\n",
              "      <td>1.0</td>\n",
              "      <td>Tue Apr 01 2014 00:00:00 GMT+0000 (UTC)</td>\n",
              "      <td>1.000000e+00</td>\n",
              "      <td>33.545200</td>\n",
              "      <td>73.706200</td>\n",
              "      <td>(33.545200000000001, 73.706199999999995)</td>\n",
              "    </tr>\n",
              "    <tr>\n",
              "      <th>6</th>\n",
              "      <td>7</td>\n",
              "      <td>01/08/2007</td>\n",
              "      <td>NaN</td>\n",
              "      <td>Brunei</td>\n",
              "      <td>Bandar Seri Begawan</td>\n",
              "      <td>landslide</td>\n",
              "      <td>Landslide</td>\n",
              "      <td>Rain</td>\n",
              "      <td>NaN</td>\n",
              "      <td>NaN</td>\n",
              "      <td>NaN</td>\n",
              "      <td>Borneo Bulletin - Brunei Direct</td>\n",
              "      <td>http://www.brudirect.com/DailyInfo/News/Archiv...</td>\n",
              "      <td>NaN</td>\n",
              "      <td>Known_within_10_km</td>\n",
              "      <td>Medium</td>\n",
              "      <td>NaN</td>\n",
              "      <td>glc</td>\n",
              "      <td>7.0</td>\n",
              "      <td>Brunei</td>\n",
              "      <td>Bandar Seri Begawan</td>\n",
              "      <td>5.87279</td>\n",
              "      <td>Brunei and Muara</td>\n",
              "      <td>NaN</td>\n",
              "      <td>64409.0</td>\n",
              "      <td>BN</td>\n",
              "      <td>AS</td>\n",
              "      <td>hJ_aZPKB4</td>\n",
              "      <td>1.0</td>\n",
              "      <td>Tue Apr 01 2014 00:00:00 GMT+0000 (UTC)</td>\n",
              "      <td>1.000000e+00</td>\n",
              "      <td>4.983300</td>\n",
              "      <td>114.917000</td>\n",
              "      <td>(4.9832999999999998, 114.917)</td>\n",
              "    </tr>\n",
              "    <tr>\n",
              "      <th>7</th>\n",
              "      <td>8</td>\n",
              "      <td>01/08/2007</td>\n",
              "      <td>NaN</td>\n",
              "      <td>Indonesia</td>\n",
              "      <td>Sungai Sariak, Sumatra</td>\n",
              "      <td>landslide</td>\n",
              "      <td>Complex</td>\n",
              "      <td>Rain</td>\n",
              "      <td>NaN</td>\n",
              "      <td>28.0</td>\n",
              "      <td>NaN</td>\n",
              "      <td>indahnesia.com</td>\n",
              "      <td>http://news.indahnesia.com/item/200701096/13_b...</td>\n",
              "      <td>NaN</td>\n",
              "      <td>Known_within_25_km</td>\n",
              "      <td>Medium</td>\n",
              "      <td>NaN</td>\n",
              "      <td>glc</td>\n",
              "      <td>8.0</td>\n",
              "      <td>Indonesia</td>\n",
              "      <td>Tanjungpati</td>\n",
              "      <td>42.08436</td>\n",
              "      <td>West Sumatra</td>\n",
              "      <td>NaN</td>\n",
              "      <td>0.0</td>\n",
              "      <td>ID</td>\n",
              "      <td>AS</td>\n",
              "      <td>DJR_uPcB4</td>\n",
              "      <td>1.0</td>\n",
              "      <td>Tue Apr 01 2014 00:00:00 GMT+0000 (UTC)</td>\n",
              "      <td>1.000000e+00</td>\n",
              "      <td>0.066700</td>\n",
              "      <td>100.983300</td>\n",
              "      <td>(0.066699999999999995, 100.9833)</td>\n",
              "    </tr>\n",
              "    <tr>\n",
              "      <th>8</th>\n",
              "      <td>9</td>\n",
              "      <td>01/11/2007</td>\n",
              "      <td>NaN</td>\n",
              "      <td>Philippines</td>\n",
              "      <td>Inupuan in Barangay Mainit, Nabunturan, Compos...</td>\n",
              "      <td>landslide</td>\n",
              "      <td>Landslide</td>\n",
              "      <td>Unknown</td>\n",
              "      <td>NaN</td>\n",
              "      <td>6.0</td>\n",
              "      <td>NaN</td>\n",
              "      <td>Sun Star Online</td>\n",
              "      <td>http://www.sunstar.com.ph/static/net/2007/01/1...</td>\n",
              "      <td>NaN</td>\n",
              "      <td>Known_within_25_km</td>\n",
              "      <td>Medium</td>\n",
              "      <td>NaN</td>\n",
              "      <td>glc</td>\n",
              "      <td>9.0</td>\n",
              "      <td>Philippines</td>\n",
              "      <td>Manat</td>\n",
              "      <td>0.49587</td>\n",
              "      <td>Davao</td>\n",
              "      <td>Compostela</td>\n",
              "      <td>6148.0</td>\n",
              "      <td>PH</td>\n",
              "      <td>AS</td>\n",
              "      <td>D5F2sIZeFD</td>\n",
              "      <td>2.0</td>\n",
              "      <td>Fri Sep 12 2014 20:04:31 GMT+0000 (UTC)</td>\n",
              "      <td>3.141049e+09</td>\n",
              "      <td>7.531400</td>\n",
              "      <td>126.013000</td>\n",
              "      <td>(7.5313999999999997, 126.01300000000001)</td>\n",
              "    </tr>\n",
              "    <tr>\n",
              "      <th>9</th>\n",
              "      <td>10</td>\n",
              "      <td>01/13/2007</td>\n",
              "      <td>NaN</td>\n",
              "      <td>Sri Lanka</td>\n",
              "      <td>Nuwara Eliya, Sri Lanka</td>\n",
              "      <td>landslide</td>\n",
              "      <td>Landslide</td>\n",
              "      <td>Rain</td>\n",
              "      <td>NaN</td>\n",
              "      <td>2.0</td>\n",
              "      <td>NaN</td>\n",
              "      <td>World Socialist Web Site - Asian Tribune</td>\n",
              "      <td>http://www.asiantribune.com/index.php?q=node/4361</td>\n",
              "      <td>NaN</td>\n",
              "      <td>Known_within_10_km</td>\n",
              "      <td>Large</td>\n",
              "      <td>NaN</td>\n",
              "      <td>glc</td>\n",
              "      <td>10.0</td>\n",
              "      <td>Sri Lanka</td>\n",
              "      <td>Nuwara Eliya</td>\n",
              "      <td>2.83392</td>\n",
              "      <td>Central</td>\n",
              "      <td>Nuwara Eliya District</td>\n",
              "      <td>25775.0</td>\n",
              "      <td>LK</td>\n",
              "      <td>AS</td>\n",
              "      <td>SJg9EkcQW</td>\n",
              "      <td>1.0</td>\n",
              "      <td>Tue Apr 01 2014 00:00:00 GMT+0000 (UTC)</td>\n",
              "      <td>1.000000e+00</td>\n",
              "      <td>6.965800</td>\n",
              "      <td>80.757700</td>\n",
              "      <td>(6.9657999999999998, 80.7577)</td>\n",
              "    </tr>\n",
              "  </tbody>\n",
              "</table>\n",
              "</div>"
            ],
            "text/plain": [
              "   id        date  ...   longitude                                 geolocation\n",
              "0   1  01/02/2007  ...   -3.587500   (54.549399999999999, -3.5874999999999999)\n",
              "1   2  01/03/2007  ...  -75.426700  (-10.383800000000001, -75.426699999999997)\n",
              "2   3  01/05/2007  ...  -42.536362  (-22.282346350000001, -42.536362050000001)\n",
              "3   4  01/05/2007  ...  -42.673400  (-22.045200000000001, -42.673400000000001)\n",
              "4   5  01/05/2007  ...  -46.613600  (-23.231100000000001, -46.613599999999998)\n",
              "5   6  01/05/2007  ...   73.706200    (33.545200000000001, 73.706199999999995)\n",
              "6   7  01/08/2007  ...  114.917000               (4.9832999999999998, 114.917)\n",
              "7   8  01/08/2007  ...  100.983300            (0.066699999999999995, 100.9833)\n",
              "8   9  01/11/2007  ...  126.013000    (7.5313999999999997, 126.01300000000001)\n",
              "9  10  01/13/2007  ...   80.757700               (6.9657999999999998, 80.7577)\n",
              "\n",
              "[10 rows x 34 columns]"
            ]
          },
          "metadata": {
            "tags": []
          },
          "execution_count": 23
        }
      ]
    },
    {
      "cell_type": "code",
      "metadata": {
        "id": "Ahbyfp21AbJ-",
        "colab_type": "code",
        "colab": {
          "base_uri": "https://localhost:8080/",
          "height": 51
        },
        "outputId": "4895a6ec-debf-40ac-8001-40f902fa5923"
      },
      "source": [
        "print(df['fatalities'].mean(skipna=True))\n",
        "df['fatalities'].median(skipna=True)"
      ],
      "execution_count": 21,
      "outputs": [
        {
          "output_type": "stream",
          "text": [
            "3.5371407696054553\n"
          ],
          "name": "stdout"
        },
        {
          "output_type": "execute_result",
          "data": {
            "text/plain": [
              "0.0"
            ]
          },
          "metadata": {
            "tags": []
          },
          "execution_count": 21
        }
      ]
    },
    {
      "cell_type": "code",
      "metadata": {
        "id": "Sh443mHAAhVp",
        "colab_type": "code",
        "colab": {
          "base_uri": "https://localhost:8080/",
          "height": 34
        },
        "outputId": "9b85ac77-4bd5-41e2-9915-d35836e6f8da"
      },
      "source": [
        "df['fatalities'].std(skipna=True)"
      ],
      "execution_count": 24,
      "outputs": [
        {
          "output_type": "execute_result",
          "data": {
            "text/plain": [
              "64.66976308498353"
            ]
          },
          "metadata": {
            "tags": []
          },
          "execution_count": 24
        }
      ]
    },
    {
      "cell_type": "code",
      "metadata": {
        "id": "9LO5dq5KAvlL",
        "colab_type": "code",
        "colab": {
          "base_uri": "https://localhost:8080/",
          "height": 170
        },
        "outputId": "7ddedb6f-88a4-4ebd-91b7-0b63e1736921"
      },
      "source": [
        "df['fatalities'].describe()"
      ],
      "execution_count": 25,
      "outputs": [
        {
          "output_type": "execute_result",
          "data": {
            "text/plain": [
              "count    8212.000000\n",
              "mean        3.537141\n",
              "std        64.669763\n",
              "min         0.000000\n",
              "25%         0.000000\n",
              "50%         0.000000\n",
              "75%         1.000000\n",
              "max      5000.000000\n",
              "Name: fatalities, dtype: float64"
            ]
          },
          "metadata": {
            "tags": []
          },
          "execution_count": 25
        }
      ]
    },
    {
      "cell_type": "code",
      "metadata": {
        "id": "ZVUb6gaBBl9b",
        "colab_type": "code",
        "colab": {
          "base_uri": "https://localhost:8080/",
          "height": 34
        },
        "outputId": "81405c8c-e4c2-4d49-fa56-7c7a9f09fba7"
      },
      "source": [
        "df['fatalities'].var(skipna=True)"
      ],
      "execution_count": 27,
      "outputs": [
        {
          "output_type": "execute_result",
          "data": {
            "text/plain": [
              "4182.178257467898"
            ]
          },
          "metadata": {
            "tags": []
          },
          "execution_count": 27
        }
      ]
    },
    {
      "cell_type": "code",
      "metadata": {
        "id": "orxlxgCRGXqc",
        "colab_type": "code",
        "colab": {}
      },
      "source": [
        "keys = df['key']"
      ],
      "execution_count": 0,
      "outputs": []
    },
    {
      "cell_type": "code",
      "metadata": {
        "id": "9Xk31DYhDN8J",
        "colab_type": "code",
        "colab": {
          "base_uri": "https://localhost:8080/",
          "height": 34
        },
        "outputId": "7dbb88e2-cb36-462f-976d-673983278970"
      },
      "source": [
        "keys[30]"
      ],
      "execution_count": 101,
      "outputs": [
        {
          "output_type": "execute_result",
          "data": {
            "text/plain": [
              "'D9jLZtQB7'"
            ]
          },
          "metadata": {
            "tags": []
          },
          "execution_count": 101
        }
      ]
    },
    {
      "cell_type": "code",
      "metadata": {
        "id": "-q9WYmaIE8NI",
        "colab_type": "code",
        "colab": {}
      },
      "source": [
        "def findkey(num):\n",
        "  for key in keys:\n",
        "    return key\n",
        "  else: \n",
        "    return \"Unknown\""
      ],
      "execution_count": 0,
      "outputs": []
    },
    {
      "cell_type": "code",
      "metadata": {
        "id": "TzLiYAUwFQh2",
        "colab_type": "code",
        "colab": {
          "base_uri": "https://localhost:8080/",
          "height": 34
        },
        "outputId": "3d6b9946-ab60-4d76-9427-ba38c0bb597c"
      },
      "source": [
        "findkey(30)"
      ],
      "execution_count": 108,
      "outputs": [
        {
          "output_type": "execute_result",
          "data": {
            "text/plain": [
              "'sGaiIKdcW'"
            ]
          },
          "metadata": {
            "tags": []
          },
          "execution_count": 108
        }
      ]
    },
    {
      "cell_type": "code",
      "metadata": {
        "id": "eHsreKF8FSG3",
        "colab_type": "code",
        "colab": {}
      },
      "source": [
        "def findkey1(num):\n",
        "    for row in keys:\n",
        "        return row\n",
        "    else:\n",
        "        return \"unknown\""
      ],
      "execution_count": 0,
      "outputs": []
    },
    {
      "cell_type": "code",
      "metadata": {
        "id": "j_Vq4dQ4KyY5",
        "colab_type": "code",
        "colab": {
          "base_uri": "https://localhost:8080/",
          "height": 34
        },
        "outputId": "24452a1a-0c1f-4e9f-ce12-6af88d63af1a"
      },
      "source": [
        "findkey1(30)"
      ],
      "execution_count": 111,
      "outputs": [
        {
          "output_type": "execute_result",
          "data": {
            "text/plain": [
              "'sGaiIKdcW'"
            ]
          },
          "metadata": {
            "tags": []
          },
          "execution_count": 111
        }
      ]
    },
    {
      "cell_type": "code",
      "metadata": {
        "id": "rWimyyA1Kzqt",
        "colab_type": "code",
        "colab": {}
      },
      "source": [
        "def fkey(num):\n",
        "    return keys[num]"
      ],
      "execution_count": 0,
      "outputs": []
    },
    {
      "cell_type": "code",
      "metadata": {
        "id": "mgLbK8L5LhB2",
        "colab_type": "code",
        "colab": {
          "base_uri": "https://localhost:8080/",
          "height": 34
        },
        "outputId": "2dda760e-5cd0-4c56-aa2c-fb2ea1574c3b"
      },
      "source": [
        "fkey(30)"
      ],
      "execution_count": 113,
      "outputs": [
        {
          "output_type": "execute_result",
          "data": {
            "text/plain": [
              "'D9jLZtQB7'"
            ]
          },
          "metadata": {
            "tags": []
          },
          "execution_count": 113
        }
      ]
    },
    {
      "cell_type": "code",
      "metadata": {
        "id": "0BpIvrBPLi4b",
        "colab_type": "code",
        "colab": {}
      },
      "source": [
        ""
      ],
      "execution_count": 0,
      "outputs": []
    }
  ]
}