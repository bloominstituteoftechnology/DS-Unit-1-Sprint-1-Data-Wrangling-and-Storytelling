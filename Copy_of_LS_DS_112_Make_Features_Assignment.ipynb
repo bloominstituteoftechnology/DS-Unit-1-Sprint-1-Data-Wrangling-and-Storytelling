{
  "nbformat": 4,
  "nbformat_minor": 0,
  "metadata": {
    "colab": {
      "name": "Copy of LS_DS_112_Make_Features_Assignment.ipynb",
      "provenance": [],
      "collapsed_sections": [],
      "include_colab_link": true
    },
    "kernelspec": {
      "display_name": "Python 3",
      "language": "python",
      "name": "python3"
    },
    "language_info": {
      "codemirror_mode": {
        "name": "ipython",
        "version": 3
      },
      "file_extension": ".py",
      "mimetype": "text/x-python",
      "name": "python",
      "nbconvert_exporter": "python",
      "pygments_lexer": "ipython3",
      "version": "3.7.1"
    }
  },
  "cells": [
    {
      "cell_type": "markdown",
      "metadata": {
        "id": "view-in-github",
        "colab_type": "text"
      },
      "source": [
        "<a href=\"https://colab.research.google.com/github/rileythejones/DS-Unit-1-Sprint-1-Data-Wrangling-and-Storytelling/blob/master/Copy_of_LS_DS_112_Make_Features_Assignment.ipynb\" target=\"_parent\"><img src=\"https://colab.research.google.com/assets/colab-badge.svg\" alt=\"Open In Colab\"/></a>"
      ]
    },
    {
      "cell_type": "markdown",
      "metadata": {
        "id": "SnDJqBLi0FYW",
        "colab_type": "text"
      },
      "source": [
        "<img align=\"left\" src=\"https://lever-client-logos.s3.amazonaws.com/864372b1-534c-480e-acd5-9711f850815c-1524247202159.png\" width=200> "
      ]
    },
    {
      "cell_type": "markdown",
      "metadata": {
        "id": "W5GjI1z5yNG4",
        "colab_type": "text"
      },
      "source": [
        "# Assignment:\n",
        "\n",
        "- Replicate the lesson code.\n",
        "\n",
        " - This means that if you haven't followed along already, type out the things that we did in class. Forcing your fingers to hit each key will help you internalize the syntax of what we're doing. Make sure you understand each line of code that you're writing, google things that you don't fully understand.\n",
        " - [Lambda Learning Method for DS - By Ryan Herr](https://docs.google.com/document/d/1ubOw9B3Hfip27hF2ZFnW3a3z9xAgrUDRReOEo-FHCVs/edit?usp=sharing)\n",
        "- Convert the `term` column from string to integer.\n",
        "- Make a column named `loan_status_is_great`. It should contain the integer 1 if `loan_status` is \"Current\" or \"Fully Paid.\" Else it should contain the integer 0.\n",
        "- Make `last_pymnt_d_month` and `last_pymnt_d_year` columns."
      ]
    },
    {
      "cell_type": "code",
      "metadata": {
        "id": "AazB4eFwym2p",
        "colab_type": "code",
        "colab": {}
      },
      "source": [
        "!wget https://resources.lendingclub.com/LoanStats_2018Q4.csv.zip"
      ],
      "execution_count": 0,
      "outputs": []
    },
    {
      "cell_type": "code",
      "metadata": {
        "id": "o-lfAr1LExD6",
        "colab_type": "code",
        "colab": {}
      },
      "source": [
        "!unzip LoanStats_2018Q4.csv.zip"
      ],
      "execution_count": 0,
      "outputs": []
    },
    {
      "cell_type": "code",
      "metadata": {
        "id": "S7iGQ-CqFLpD",
        "colab_type": "code",
        "colab": {}
      },
      "source": [
        "!head LoanStats_2018Q4.csv\n"
      ],
      "execution_count": 0,
      "outputs": []
    },
    {
      "cell_type": "code",
      "metadata": {
        "id": "N1Sh_aIeFR2s",
        "colab_type": "code",
        "colab": {}
      },
      "source": [
        "!tail LoanStats_2018Q4.csv"
      ],
      "execution_count": 0,
      "outputs": []
    },
    {
      "cell_type": "code",
      "metadata": {
        "id": "Pcgoy6EEFt5f",
        "colab_type": "code",
        "colab": {}
      },
      "source": [
        "import pandas as pd\n",
        "pd.options.display.max_rows = 999\n",
        "pd.options.display.max_columns = 100\n",
        "\n",
        "df = pd.read_csv('LoanStats_2018Q4.csv', skiprows=1, skipfooter=2, engine='python')\n",
        "print(df.shape)\n",
        "df.head()"
      ],
      "execution_count": 0,
      "outputs": []
    },
    {
      "cell_type": "code",
      "metadata": {
        "id": "Rr6hmxVbFvBH",
        "colab_type": "code",
        "colab": {}
      },
      "source": [
        "df.isnull().sum().sort_values()"
      ],
      "execution_count": 0,
      "outputs": []
    },
    {
      "cell_type": "code",
      "metadata": {
        "id": "XT7mhSz0Fu-A",
        "colab_type": "code",
        "colab": {}
      },
      "source": [
        "df = df.drop(['url', 'member_id', 'desc', 'id'], axis=1)"
      ],
      "execution_count": 0,
      "outputs": []
    },
    {
      "cell_type": "code",
      "metadata": {
        "id": "PCfPTlLOFu6_",
        "colab_type": "code",
        "colab": {}
      },
      "source": [
        "df.head()"
      ],
      "execution_count": 0,
      "outputs": []
    },
    {
      "cell_type": "code",
      "metadata": {
        "id": "scW4HeTMFu3v",
        "colab_type": "code",
        "colab": {}
      },
      "source": [
        "df['int_rate'][:10]"
      ],
      "execution_count": 0,
      "outputs": []
    },
    {
      "cell_type": "code",
      "metadata": {
        "id": "WUkWVAa6Fu0Z",
        "colab_type": "code",
        "colab": {}
      },
      "source": [
        "df.dtypes[:10]"
      ],
      "execution_count": 0,
      "outputs": []
    },
    {
      "cell_type": "code",
      "metadata": {
        "id": "j7lc5T52FuxM",
        "colab_type": "code",
        "colab": {}
      },
      "source": [
        "int_rate = ' 15.02%'\n",
        "int_rate"
      ],
      "execution_count": 0,
      "outputs": []
    },
    {
      "cell_type": "code",
      "metadata": {
        "id": "hMaVuoy7Fut4",
        "colab_type": "code",
        "colab": {}
      },
      "source": [
        "# strip blank space\n",
        "int_rate.strip()"
      ],
      "execution_count": 0,
      "outputs": []
    },
    {
      "cell_type": "code",
      "metadata": {
        "id": "Voa9CXZoFuqS",
        "colab_type": "code",
        "colab": {}
      },
      "source": [
        "# strip $ sign \n",
        "int_rate.strip().strip('%')"
      ],
      "execution_count": 0,
      "outputs": []
    },
    {
      "cell_type": "code",
      "metadata": {
        "id": "GA2VcdKtFuka",
        "colab_type": "code",
        "colab": {}
      },
      "source": [
        "type(int_rate.strip().strip('%'))"
      ],
      "execution_count": 0,
      "outputs": []
    },
    {
      "cell_type": "code",
      "metadata": {
        "id": "rj8hsoizFudL",
        "colab_type": "code",
        "colab": {}
      },
      "source": [
        "# cast string into a float \n",
        "float(int_rate.strip().strip('%')), type(float(int_rate.strip().strip('%')))"
      ],
      "execution_count": 0,
      "outputs": []
    },
    {
      "cell_type": "code",
      "metadata": {
        "id": "tPXZpehUI-Cq",
        "colab_type": "code",
        "colab": {}
      },
      "source": [
        "def int_rate_to_float(mystring):\n",
        "  return float(mystring.strip().strip('%'))\n",
        "\n",
        "int_rate_to_float(int_rate)"
      ],
      "execution_count": 0,
      "outputs": []
    },
    {
      "cell_type": "code",
      "metadata": {
        "id": "IFIHLaUDI-A7",
        "colab_type": "code",
        "colab": {}
      },
      "source": [
        "# applying to a whole column \n",
        "df['int_rate'].apply(int_rate_to_float)[:10]\n"
      ],
      "execution_count": 0,
      "outputs": []
    },
    {
      "cell_type": "code",
      "metadata": {
        "id": "m2U6iudcI99S",
        "colab_type": "code",
        "colab": {}
      },
      "source": [
        "# creating a new column \n",
        "df['int_rate_float'] = df['int_rate'].apply(int_rate_to_float)\n",
        "df.head()"
      ],
      "execution_count": 0,
      "outputs": []
    },
    {
      "cell_type": "code",
      "metadata": {
        "id": "41X6xf4AI97s",
        "colab_type": "code",
        "colab": {}
      },
      "source": [
        "# referencing columns with bracket notation is best\n",
        "df['int_rate'][:10]"
      ],
      "execution_count": 0,
      "outputs": []
    },
    {
      "cell_type": "code",
      "metadata": {
        "id": "-nHknV2HI94X",
        "colab_type": "code",
        "colab": {}
      },
      "source": [
        "df.dtypes[:10]"
      ],
      "execution_count": 0,
      "outputs": []
    },
    {
      "cell_type": "code",
      "metadata": {
        "id": "U__MvdvTI91F",
        "colab_type": "code",
        "colab": {}
      },
      "source": [
        "df['emp_title'].value_counts(dropna=False, ascending=False)[:20]"
      ],
      "execution_count": 0,
      "outputs": []
    },
    {
      "cell_type": "code",
      "metadata": {
        "id": "hb9zQFxQI9xp",
        "colab_type": "code",
        "colab": {}
      },
      "source": [
        "len(df['emp_title'].value_counts())"
      ],
      "execution_count": 0,
      "outputs": []
    },
    {
      "cell_type": "code",
      "metadata": {
        "id": "ofc6GhZSI9ug",
        "colab_type": "code",
        "colab": {}
      },
      "source": [
        " # see how the job title is the index of the counts\n",
        "df['emp_title'].value_counts().reset_index().head()"
      ],
      "execution_count": 0,
      "outputs": []
    },
    {
      "cell_type": "code",
      "metadata": {
        "id": "tOZLrI3pI9rL",
        "colab_type": "code",
        "colab": {}
      },
      "source": [
        "df['emp_title'].value_counts().reset_index().shape"
      ],
      "execution_count": 0,
      "outputs": []
    },
    {
      "cell_type": "code",
      "metadata": {
        "id": "LRavwYY3I9nN",
        "colab_type": "code",
        "colab": {}
      },
      "source": [
        "df['emp_title'].isnull().sum()"
      ],
      "execution_count": 0,
      "outputs": []
    },
    {
      "cell_type": "code",
      "metadata": {
        "id": "Do_PgwVuI9jq",
        "colab_type": "code",
        "colab": {}
      },
      "source": [
        "import numpy as np\n",
        "type(np.NaN)"
      ],
      "execution_count": 0,
      "outputs": []
    },
    {
      "cell_type": "code",
      "metadata": {
        "id": "W2ZuxCg-I9en",
        "colab_type": "code",
        "colab": {}
      },
      "source": [
        "examples = ['owner', 'Supervisor', ' Project Manager', np.NaN]\n",
        "\n",
        "def clean_title(title):\n",
        "  if isinstance(title, str):\n",
        "    return title.strip().title()\n",
        "  else:\n",
        "    return \"Unknown\"\n",
        "\n",
        "[clean_title(item) for item in examples]\n"
      ],
      "execution_count": 0,
      "outputs": []
    },
    {
      "cell_type": "code",
      "metadata": {
        "id": "3otH1yWkI9ZB",
        "colab_type": "code",
        "colab": {}
      },
      "source": [
        "df['emp_title'] = df['emp_title'].apply(clean_title)\n",
        "\n",
        "df.head()"
      ],
      "execution_count": 0,
      "outputs": []
    },
    {
      "cell_type": "code",
      "metadata": {
        "id": "m1Fuh696I9Nc",
        "colab_type": "code",
        "colab": {}
      },
      "source": [
        "df['emp_title'].value_counts(dropna=False, ascending=False)[:20]"
      ],
      "execution_count": 0,
      "outputs": []
    },
    {
      "cell_type": "code",
      "metadata": {
        "id": "SSJp_BHnN4xI",
        "colab_type": "code",
        "colab": {}
      },
      "source": [
        "len(df['emp_title'].value_counts())"
      ],
      "execution_count": 0,
      "outputs": []
    },
    {
      "cell_type": "code",
      "metadata": {
        "id": "kqgTO7YLN4uU",
        "colab_type": "code",
        "colab": {}
      },
      "source": [
        "df['emp_title_manager'] = df['emp_title'].str.contains(\"Manager\")\n",
        "df.head()"
      ],
      "execution_count": 0,
      "outputs": []
    },
    {
      "cell_type": "code",
      "metadata": {
        "id": "lWI_Wf8pN4ri",
        "colab_type": "code",
        "colab": {}
      },
      "source": [
        "# Dataframe Filtering Example\n",
        "condition = (df['emp_title_manager'] == True)\n",
        "managers = df[df['emp_title_manager'] == True]\n",
        "print(managers.shape)\n",
        "managers.head()"
      ],
      "execution_count": 0,
      "outputs": []
    },
    {
      "cell_type": "code",
      "metadata": {
        "id": "-4VH96zZN4oi",
        "colab_type": "code",
        "colab": {}
      },
      "source": [
        "(df['emp_title_manager'] == False) & (df['home_ownership']==\"OWN\")"
      ],
      "execution_count": 0,
      "outputs": []
    },
    {
      "cell_type": "code",
      "metadata": {
        "id": "RWYxa_IZN4k7",
        "colab_type": "code",
        "colab": {}
      },
      "source": [
        "plebians = df[(df['emp_title_manager'] == False) & (df['home_ownership']==\"MORTGAGE\")]\n",
        "print(plebians.shape)\n",
        "plebians.head()"
      ],
      "execution_count": 0,
      "outputs": []
    },
    {
      "cell_type": "code",
      "metadata": {
        "id": "sUofYHvJN4hI",
        "colab_type": "code",
        "colab": {}
      },
      "source": [
        "managers['int_rate_float'].mean()"
      ],
      "execution_count": 0,
      "outputs": []
    },
    {
      "cell_type": "code",
      "metadata": {
        "id": "YGCl-ixAN4cz",
        "colab_type": "code",
        "colab": {}
      },
      "source": [
        "plebians['int_rate_float'].mean()"
      ],
      "execution_count": 0,
      "outputs": []
    },
    {
      "cell_type": "code",
      "metadata": {
        "id": "JDDjF7ijN4bI",
        "colab_type": "code",
        "colab": {}
      },
      "source": [
        "import seaborn as sns\n",
        "\n",
        "sns.kdeplot(plebians['int_rate_float'])\n",
        "sns.kdeplot(managers['int_rate_float']);"
      ],
      "execution_count": 0,
      "outputs": []
    },
    {
      "cell_type": "code",
      "metadata": {
        "id": "AnoKk_IhN4X2",
        "colab_type": "code",
        "colab": {}
      },
      "source": [
        "sns.distplot(plebians['int_rate_float'])\n",
        "sns.distplot(managers['int_rate_float']);"
      ],
      "execution_count": 0,
      "outputs": []
    },
    {
      "cell_type": "code",
      "metadata": {
        "id": "EqKEWvZsN4Vz",
        "colab_type": "code",
        "colab": {}
      },
      "source": [
        "# working with dates "
      ],
      "execution_count": 0,
      "outputs": []
    },
    {
      "cell_type": "code",
      "metadata": {
        "id": "f_OsKt8ERTOT",
        "colab_type": "code",
        "colab": {}
      },
      "source": [
        "list(df.columns)"
      ],
      "execution_count": 0,
      "outputs": []
    },
    {
      "cell_type": "code",
      "metadata": {
        "id": "QP2RiJuIRTL1",
        "colab_type": "code",
        "colab": {}
      },
      "source": [
        "[col for col in df if col.endswith('_d')]\n"
      ],
      "execution_count": 0,
      "outputs": []
    },
    {
      "cell_type": "code",
      "metadata": {
        "id": "tbfI6qUjRTJY",
        "colab_type": "code",
        "colab": {}
      },
      "source": [
        "df.dtypes[:15]"
      ],
      "execution_count": 0,
      "outputs": []
    },
    {
      "cell_type": "code",
      "metadata": {
        "id": "7tcA-2RKRTD0",
        "colab_type": "code",
        "colab": {}
      },
      "source": [
        "df['issue_d'][:10]"
      ],
      "execution_count": 0,
      "outputs": []
    },
    {
      "cell_type": "code",
      "metadata": {
        "id": "ENctVux2RS9-",
        "colab_type": "code",
        "colab": {}
      },
      "source": [
        "df['issue_d'] = pd.to_datetime(df['issue_d'], infer_datetime_format=True)\n",
        "df.head()"
      ],
      "execution_count": 0,
      "outputs": []
    },
    {
      "cell_type": "code",
      "metadata": {
        "id": "F6kU4pqXRS4h",
        "colab_type": "code",
        "colab": {}
      },
      "source": [
        "df['issue_d'][:10]"
      ],
      "execution_count": 0,
      "outputs": []
    },
    {
      "cell_type": "code",
      "metadata": {
        "id": "PbZ_-qLwN4Su",
        "colab_type": "code",
        "colab": {}
      },
      "source": [
        "df.dtypes[:15]"
      ],
      "execution_count": 0,
      "outputs": []
    },
    {
      "cell_type": "code",
      "metadata": {
        "id": "c_V1BwqYSQ5U",
        "colab_type": "code",
        "colab": {}
      },
      "source": [
        "df['issue_d'].head().values"
      ],
      "execution_count": 0,
      "outputs": []
    },
    {
      "cell_type": "code",
      "metadata": {
        "id": "ucFte6VNSQ22",
        "colab_type": "code",
        "colab": {}
      },
      "source": [
        "df['issue_d'].dt.year"
      ],
      "execution_count": 0,
      "outputs": []
    },
    {
      "cell_type": "code",
      "metadata": {
        "id": "Cf11K0hFSQy6",
        "colab_type": "code",
        "colab": {}
      },
      "source": [
        "df['issue_year'] = df[\"issue_d\"].dt.year"
      ],
      "execution_count": 0,
      "outputs": []
    },
    {
      "cell_type": "code",
      "metadata": {
        "id": "_zJVghRJSQvc",
        "colab_type": "code",
        "colab": {}
      },
      "source": [
        "df['issue_month'] = df[\"issue_d\"].dt.month"
      ],
      "execution_count": 0,
      "outputs": []
    },
    {
      "cell_type": "code",
      "metadata": {
        "id": "wNa2SkGtSQtF",
        "colab_type": "code",
        "colab": {}
      },
      "source": [
        "df.head()"
      ],
      "execution_count": 0,
      "outputs": []
    },
    {
      "cell_type": "code",
      "metadata": {
        "id": "PtnMXOb1SQqo",
        "colab_type": "code",
        "colab": {}
      },
      "source": [
        "df['earliest_cr_line'].head()"
      ],
      "execution_count": 0,
      "outputs": []
    },
    {
      "cell_type": "code",
      "metadata": {
        "id": "LaJJ2GI2SQn3",
        "colab_type": "code",
        "colab": {}
      },
      "source": [
        "df['earliest_cr_line'] = pd.to_datetime(df['earliest_cr_line'], infer_datetime_format=True)"
      ],
      "execution_count": 0,
      "outputs": []
    },
    {
      "cell_type": "code",
      "metadata": {
        "id": "ZIYzSz4TSQiP",
        "colab_type": "code",
        "colab": {}
      },
      "source": [
        "df['days_from_earliest_credit_to_issue'] = (df['issue_d'] - df['earliest_cr_line']).dt.days"
      ],
      "execution_count": 0,
      "outputs": []
    },
    {
      "cell_type": "code",
      "metadata": {
        "id": "h4I6ekTeSQah",
        "colab_type": "code",
        "colab": {}
      },
      "source": [
        "df.head()"
      ],
      "execution_count": 0,
      "outputs": []
    },
    {
      "cell_type": "code",
      "metadata": {
        "id": "Mdmd_5rET3Hx",
        "colab_type": "code",
        "colab": {}
      },
      "source": [
        "df['days_from_earliest_credit_to_issue'].describe()"
      ],
      "execution_count": 0,
      "outputs": []
    },
    {
      "cell_type": "code",
      "metadata": {
        "id": "nBo7wohST3E8",
        "colab_type": "code",
        "colab": {}
      },
      "source": [
        "int(25171/365)"
      ],
      "execution_count": 0,
      "outputs": []
    },
    {
      "cell_type": "code",
      "metadata": {
        "id": "X1LUDwO6T2xM",
        "colab_type": "code",
        "colab": {}
      },
      "source": [
        ""
      ],
      "execution_count": 0,
      "outputs": []
    },
    {
      "cell_type": "code",
      "metadata": {
        "id": "-U-55lMvcHAf",
        "colab_type": "code",
        "colab": {}
      },
      "source": [
        ""
      ],
      "execution_count": 0,
      "outputs": []
    },
    {
      "cell_type": "code",
      "metadata": {
        "id": "fBz93ExqT2ok",
        "colab_type": "code",
        "colab": {}
      },
      "source": [
        "# Convert the term column from string to integer. \n",
        "def term_to_int(term):\n",
        "  return int(term.strip(' months'))\n",
        "\n",
        "df['term'] = df['term'].apply(term_to_int)\n",
        "  "
      ],
      "execution_count": 0,
      "outputs": []
    },
    {
      "cell_type": "code",
      "metadata": {
        "id": "qDq4DZtqb_VC",
        "colab_type": "code",
        "colab": {}
      },
      "source": [
        "# Make a column named loan_status_is_great. \n",
        "# It should contain the integer 1 if loan_status is \"Current\" or \"Fully Paid.\" \n",
        "# Else it should contain the integer 0.\n",
        "\n",
        "df['loan_status_is_great'] = (df['loan_status']=='Current') | (df['loan_status']=='Fully Paid')\n",
        "df['loan_status_is_great'].astype(int)"
      ],
      "execution_count": 0,
      "outputs": []
    },
    {
      "cell_type": "code",
      "metadata": {
        "id": "dwK3O4LTdozq",
        "colab_type": "code",
        "colab": {}
      },
      "source": [
        "# Make last_pymnt_d_month and last_pymnt_d_year columns.\n",
        "df['last_pymnt_d'] = pd.to_datetime(df['last_pymnt_d'], infer_datetime_format=True)\n",
        "df['last_pymnt_d_month'] = df['last_pymnt_d'].dt.month\n",
        "df['last_pymnt_d_year'] = df['last_pymnt_d'].dt.year"
      ],
      "execution_count": 0,
      "outputs": []
    },
    {
      "cell_type": "markdown",
      "metadata": {
        "id": "OC3JGw2ST2Rq",
        "colab_type": "text"
      },
      "source": [
        ""
      ]
    },
    {
      "cell_type": "markdown",
      "metadata": {
        "colab_type": "text",
        "id": "L8k0LiHmo5EU"
      },
      "source": [
        "# Stretch Goals\n",
        "\n",
        "You can do more with the LendingClub or Instacart datasets.\n",
        "\n",
        "LendingClub options:\n",
        "- There's one other column in the dataframe with percent signs. Remove them and convert to floats. You'll need to handle missing values.\n",
        "- Modify the `emp_title` column to replace titles with 'Other' if the title is not in the top 20. \n",
        "- Take initiatve and work on your own ideas!\n",
        "\n",
        "Instacart options:\n",
        "- Read [Instacart Market Basket Analysis, Winner's Interview: 2nd place, Kazuki Onodera](http://blog.kaggle.com/2017/09/21/instacart-market-basket-analysis-winners-interview-2nd-place-kazuki-onodera/), especially the **Feature Engineering** section. (Can you choose one feature from his bulleted lists, and try to engineer it with pandas code?)\n",
        "- Read and replicate parts of [Simple Exploration Notebook - Instacart](https://www.kaggle.com/sudalairajkumar/simple-exploration-notebook-instacart). (It's the Python Notebook with the most upvotes for this Kaggle competition.)\n",
        "- Take initiative and work on your own ideas!"
      ]
    },
    {
      "cell_type": "markdown",
      "metadata": {
        "colab_type": "text",
        "id": "0_7PXF7lpEXg"
      },
      "source": [
        "You can uncomment and run the cells below to re-download and extract the Instacart data"
      ]
    },
    {
      "cell_type": "code",
      "metadata": {
        "id": "urIePNa0yNG6",
        "colab_type": "code",
        "colab": {}
      },
      "source": [
        "# !wget https://s3.amazonaws.com/instacart-datasets/instacart_online_grocery_shopping_2017_05_01.tar.gz"
      ],
      "execution_count": 0,
      "outputs": []
    },
    {
      "cell_type": "code",
      "metadata": {
        "id": "X9zEyu-uyNG8",
        "colab_type": "code",
        "colab": {}
      },
      "source": [
        "# !tar --gunzip --extract --verbose --file=instacart_online_grocery_shopping_2017_05_01.tar.gz"
      ],
      "execution_count": 0,
      "outputs": []
    },
    {
      "cell_type": "code",
      "metadata": {
        "id": "Y3IqrhlpyNG-",
        "colab_type": "code",
        "colab": {}
      },
      "source": [
        "# %cd instacart_2017_05_01"
      ],
      "execution_count": 0,
      "outputs": []
    }
  ]
}