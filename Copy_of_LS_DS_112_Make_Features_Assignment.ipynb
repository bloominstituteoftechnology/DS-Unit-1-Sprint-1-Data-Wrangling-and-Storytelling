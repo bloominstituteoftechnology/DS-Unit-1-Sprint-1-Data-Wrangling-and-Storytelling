{
  "nbformat": 4,
  "nbformat_minor": 0,
  "metadata": {
    "colab": {
      "name": "Copy of LS_DS_112_Make_Features_Assignment.ipynb",
      "provenance": [],
      "collapsed_sections": [],
      "include_colab_link": true
    },
    "kernelspec": {
      "display_name": "Python 3",
      "language": "python",
      "name": "python3"
    },
    "language_info": {
      "codemirror_mode": {
        "name": "ipython",
        "version": 3
      },
      "file_extension": ".py",
      "mimetype": "text/x-python",
      "name": "python",
      "nbconvert_exporter": "python",
      "pygments_lexer": "ipython3",
      "version": "3.7.1"
    }
  },
  "cells": [
    {
      "cell_type": "markdown",
      "metadata": {
        "id": "view-in-github",
        "colab_type": "text"
      },
      "source": [
        "<a href=\"https://colab.research.google.com/github/crd3cc04/DS-Unit-1-Sprint-1-Data-Wrangling-and-Storytelling/blob/master/Copy_of_LS_DS_112_Make_Features_Assignment.ipynb\" target=\"_parent\"><img src=\"https://colab.research.google.com/assets/colab-badge.svg\" alt=\"Open In Colab\"/></a>"
      ]
    },
    {
      "cell_type": "markdown",
      "metadata": {
        "id": "SnDJqBLi0FYW",
        "colab_type": "text"
      },
      "source": [
        "<img align=\"left\" src=\"https://lever-client-logos.s3.amazonaws.com/864372b1-534c-480e-acd5-9711f850815c-1524247202159.png\" width=200> "
      ]
    },
    {
      "cell_type": "markdown",
      "metadata": {
        "id": "W5GjI1z5yNG4",
        "colab_type": "text"
      },
      "source": [
        "# Assignment:\n",
        "\n",
        "- Replicate the lesson code.\n",
        "\n",
        " - This means that if you haven't followed along already, type out the things that we did in class. Forcing your fingers to hit each key will help you internalize the syntax of what we're doing. Make sure you understand each line of code that you're writing, google things that you don't fully understand.\n",
        " - [Lambda Learning Method for DS - By Ryan Herr](https://docs.google.com/document/d/1ubOw9B3Hfip27hF2ZFnW3a3z9xAgrUDRReOEo-FHCVs/edit?usp=sharing)\n",
        "- Convert the `term` column from string to integer.\n",
        "- Make a column named `loan_status_is_great`. It should contain the integer 1 if `loan_status` is \"Current\" or \"Fully Paid.\" Else it should contain the integer 0.\n",
        "- Make `last_pymnt_d_month` and `last_pymnt_d_year` columns."
      ]
    },
    {
      "cell_type": "code",
      "metadata": {
        "id": "AazB4eFwym2p",
        "colab_type": "code",
        "colab": {}
      },
      "source": [
        "##### Begin Working Here #####\n",
        "import pandas as pd\n",
        "import numpy as np"
      ],
      "execution_count": 0,
      "outputs": []
    },
    {
      "cell_type": "code",
      "metadata": {
        "id": "8ZDJNSB21RC9",
        "colab_type": "code",
        "colab": {
          "base_uri": "https://localhost:8080/",
          "height": 204
        },
        "outputId": "aef37e54-0d72-4b41-b68a-69d0cf6f3fca"
      },
      "source": [
        "!wget https://resources.lendingclub.com/LoanStats_2018Q4.csv.zip"
      ],
      "execution_count": 4,
      "outputs": [
        {
          "output_type": "stream",
          "text": [
            "--2019-11-03 02:04:34--  https://resources.lendingclub.com/LoanStats_2018Q4.csv.zip\n",
            "Resolving resources.lendingclub.com (resources.lendingclub.com)... 64.48.1.20\n",
            "Connecting to resources.lendingclub.com (resources.lendingclub.com)|64.48.1.20|:443... connected.\n",
            "HTTP request sent, awaiting response... 200 OK\n",
            "Length: unspecified [application/zip]\n",
            "Saving to: ‘LoanStats_2018Q4.csv.zip’\n",
            "\n",
            "LoanStats_2018Q4.cs     [        <=>         ]  21.66M  1.83MB/s    in 12s     \n",
            "\n",
            "2019-11-03 02:04:46 (1.81 MB/s) - ‘LoanStats_2018Q4.csv.zip’ saved [22709125]\n",
            "\n"
          ],
          "name": "stdout"
        }
      ]
    },
    {
      "cell_type": "code",
      "metadata": {
        "id": "zb3KUytX1T0q",
        "colab_type": "code",
        "colab": {
          "base_uri": "https://localhost:8080/",
          "height": 68
        },
        "outputId": "f4bf49b2-472f-4b60-c535-37573b378836"
      },
      "source": [
        "! unzip LoanStats_2018Q4.csv.zip\n",
        "! ls"
      ],
      "execution_count": 5,
      "outputs": [
        {
          "output_type": "stream",
          "text": [
            "Archive:  LoanStats_2018Q4.csv.zip\n",
            "  inflating: LoanStats_2018Q4.csv    \n",
            "LoanStats_2018Q4.csv  LoanStats_2018Q4.csv.zip\tsample_data\n"
          ],
          "name": "stdout"
        }
      ]
    },
    {
      "cell_type": "code",
      "metadata": {
        "id": "VdkXVmUH1tCa",
        "colab_type": "code",
        "colab": {
          "base_uri": "https://localhost:8080/",
          "height": 207
        },
        "outputId": "6a8ef532-35f5-48d0-a086-d3ee55cf2dc3"
      },
      "source": [
        "! head LoanStats_2018Q4.csv"
      ],
      "execution_count": 6,
      "outputs": [
        {
          "output_type": "stream",
          "text": [
            "Notes offered by Prospectus (https://www.lendingclub.com/info/prospectus.action)\n",
            "\"id\",\"member_id\",\"loan_amnt\",\"funded_amnt\",\"funded_amnt_inv\",\"term\",\"int_rate\",\"installment\",\"grade\",\"sub_grade\",\"emp_title\",\"emp_length\",\"home_ownership\",\"annual_inc\",\"verification_status\",\"issue_d\",\"loan_status\",\"pymnt_plan\",\"url\",\"desc\",\"purpose\",\"title\",\"zip_code\",\"addr_state\",\"dti\",\"delinq_2yrs\",\"earliest_cr_line\",\"inq_last_6mths\",\"mths_since_last_delinq\",\"mths_since_last_record\",\"open_acc\",\"pub_rec\",\"revol_bal\",\"revol_util\",\"total_acc\",\"initial_list_status\",\"out_prncp\",\"out_prncp_inv\",\"total_pymnt\",\"total_pymnt_inv\",\"total_rec_prncp\",\"total_rec_int\",\"total_rec_late_fee\",\"recoveries\",\"collection_recovery_fee\",\"last_pymnt_d\",\"last_pymnt_amnt\",\"next_pymnt_d\",\"last_credit_pull_d\",\"collections_12_mths_ex_med\",\"mths_since_last_major_derog\",\"policy_code\",\"application_type\",\"annual_inc_joint\",\"dti_joint\",\"verification_status_joint\",\"acc_now_delinq\",\"tot_coll_amt\",\"tot_cur_bal\",\"open_acc_6m\",\"open_act_il\",\"open_il_12m\",\"open_il_24m\",\"mths_since_rcnt_il\",\"total_bal_il\",\"il_util\",\"open_rv_12m\",\"open_rv_24m\",\"max_bal_bc\",\"all_util\",\"total_rev_hi_lim\",\"inq_fi\",\"total_cu_tl\",\"inq_last_12m\",\"acc_open_past_24mths\",\"avg_cur_bal\",\"bc_open_to_buy\",\"bc_util\",\"chargeoff_within_12_mths\",\"delinq_amnt\",\"mo_sin_old_il_acct\",\"mo_sin_old_rev_tl_op\",\"mo_sin_rcnt_rev_tl_op\",\"mo_sin_rcnt_tl\",\"mort_acc\",\"mths_since_recent_bc\",\"mths_since_recent_bc_dlq\",\"mths_since_recent_inq\",\"mths_since_recent_revol_delinq\",\"num_accts_ever_120_pd\",\"num_actv_bc_tl\",\"num_actv_rev_tl\",\"num_bc_sats\",\"num_bc_tl\",\"num_il_tl\",\"num_op_rev_tl\",\"num_rev_accts\",\"num_rev_tl_bal_gt_0\",\"num_sats\",\"num_tl_120dpd_2m\",\"num_tl_30dpd\",\"num_tl_90g_dpd_24m\",\"num_tl_op_past_12m\",\"pct_tl_nvr_dlq\",\"percent_bc_gt_75\",\"pub_rec_bankruptcies\",\"tax_liens\",\"tot_hi_cred_lim\",\"total_bal_ex_mort\",\"total_bc_limit\",\"total_il_high_credit_limit\",\"revol_bal_joint\",\"sec_app_earliest_cr_line\",\"sec_app_inq_last_6mths\",\"sec_app_mort_acc\",\"sec_app_open_acc\",\"sec_app_revol_util\",\"sec_app_open_act_il\",\"sec_app_num_rev_accts\",\"sec_app_chargeoff_within_12_mths\",\"sec_app_collections_12_mths_ex_med\",\"sec_app_mths_since_last_major_derog\",\"hardship_flag\",\"hardship_type\",\"hardship_reason\",\"hardship_status\",\"deferral_term\",\"hardship_amount\",\"hardship_start_date\",\"hardship_end_date\",\"payment_plan_start_date\",\"hardship_length\",\"hardship_dpd\",\"hardship_loan_status\",\"orig_projected_additional_accrued_interest\",\"hardship_payoff_balance_amount\",\"hardship_last_payment_amount\",\"debt_settlement_flag\",\"debt_settlement_flag_date\",\"settlement_status\",\"settlement_date\",\"settlement_amount\",\"settlement_percentage\",\"settlement_term\"\n",
            "\"\",\"\",\"35000\",\"35000\",\"35000\",\" 36 months\",\" 14.47%\",\"1204.23\",\"C\",\"C2\",\"Staff Physician\",\"8 years\",\"MORTGAGE\",\"360000\",\"Verified\",\"Dec-2018\",\"Fully Paid\",\"n\",\"\",\"\",\"credit_card\",\"Credit card refinancing\",\"336xx\",\"FL\",\"19.9\",\"0\",\"Apr-1995\",\"1\",\"\",\"\",\"24\",\"0\",\"57259\",\"43.2%\",\"51\",\"w\",\"0.00\",\"0.00\",\"38187.0468373662\",\"38187.05\",\"35000.00\",\"3187.05\",\"0.0\",\"0.0\",\"0.0\",\"Aug-2019\",\"29882.16\",\"\",\"Sep-2019\",\"0\",\"\",\"1\",\"Individual\",\"\",\"\",\"\",\"0\",\"0\",\"828060\",\"0\",\"6\",\"1\",\"2\",\"9\",\"112027\",\"29\",\"4\",\"8\",\"19118\",\"36\",\"132400\",\"3\",\"2\",\"5\",\"11\",\"34503\",\"67341\",\"46\",\"0\",\"0\",\"173\",\"284\",\"8\",\"8\",\"3\",\"8\",\"\",\"0\",\"\",\"0\",\"11\",\"11\",\"13\",\"20\",\"23\",\"16\",\"24\",\"11\",\"24\",\"0\",\"0\",\"0\",\"5\",\"100\",\"30.8\",\"0\",\"0\",\"1222051\",\"169286\",\"124600\",\"258401\",\"\",\"\",\"\",\"\",\"\",\"\",\"\",\"\",\"\",\"\",\"\",\"N\",\"\",\"\",\"\",\"\",\"\",\"\",\"\",\"\",\"\",\"\",\"\",\"\",\"\",\"\",\"N\",\"\",\"\",\"\",\"\",\"\",\"\"\n",
            "\"\",\"\",\"5000\",\"5000\",\"5000\",\" 36 months\",\" 22.35%\",\"191.86\",\"D\",\"D5\",\"Director of Sales\",\"10+ years\",\"MORTGAGE\",\"72000\",\"Source Verified\",\"Dec-2018\",\"Fully Paid\",\"n\",\"\",\"\",\"debt_consolidation\",\"Debt consolidation\",\"333xx\",\"FL\",\"20.12\",\"0\",\"Mar-2010\",\"0\",\"\",\"\",\"13\",\"0\",\"11720\",\"47.1%\",\"26\",\"f\",\"0.00\",\"0.00\",\"5615.9776735688\",\"5615.98\",\"5000.00\",\"615.98\",\"0.0\",\"0.0\",\"0.0\",\"Jul-2019\",\"4474.13\",\"\",\"Aug-2019\",\"0\",\"\",\"1\",\"Individual\",\"\",\"\",\"\",\"0\",\"534\",\"189279\",\"0\",\"1\",\"0\",\"1\",\"18\",\"22698\",\"\",\"0\",\"0\",\"4056\",\"47\",\"24900\",\"1\",\"0\",\"1\",\"2\",\"14560\",\"8163\",\"55.1\",\"0\",\"0\",\"105\",\"90\",\"29\",\"8\",\"5\",\"40\",\"\",\"9\",\"\",\"0\",\"6\",\"11\",\"6\",\"8\",\"4\",\"11\",\"17\",\"11\",\"13\",\"0\",\"0\",\"0\",\"1\",\"100\",\"50\",\"0\",\"0\",\"218686\",\"34418\",\"18200\",\"37786\",\"\",\"\",\"\",\"\",\"\",\"\",\"\",\"\",\"\",\"\",\"\",\"N\",\"\",\"\",\"\",\"\",\"\",\"\",\"\",\"\",\"\",\"\",\"\",\"\",\"\",\"\",\"N\",\"\",\"\",\"\",\"\",\"\",\"\"\n",
            "\"\",\"\",\"10000\",\"10000\",\"10000\",\" 60 months\",\" 23.40%\",\"284.21\",\"E\",\"E1\",\"\",\"< 1 year\",\"RENT\",\"55000\",\"Source Verified\",\"Dec-2018\",\"Current\",\"n\",\"\",\"\",\"debt_consolidation\",\"Debt consolidation\",\"902xx\",\"CA\",\"13.51\",\"0\",\"Apr-2007\",\"0\",\"44\",\"88\",\"9\",\"1\",\"11859\",\"53.9%\",\"11\",\"w\",\"9025.41\",\"9025.41\",\"2822.6\",\"2822.60\",\"974.59\",\"1848.01\",\"0.0\",\"0.0\",\"0.0\",\"Oct-2019\",\"284.21\",\"Nov-2019\",\"Oct-2019\",\"0\",\"\",\"1\",\"Individual\",\"\",\"\",\"\",\"0\",\"0\",\"21235\",\"0\",\"1\",\"0\",\"1\",\"20\",\"9376\",\"76\",\"0\",\"3\",\"3122\",\"62\",\"22000\",\"1\",\"0\",\"0\",\"4\",\"2359\",\"1119\",\"89.3\",\"0\",\"0\",\"140\",\"140\",\"13\",\"13\",\"0\",\"13\",\"\",\"15\",\"44\",\"0\",\"4\",\"7\",\"4\",\"5\",\"2\",\"8\",\"9\",\"7\",\"9\",\"0\",\"0\",\"0\",\"0\",\"90.9\",\"100\",\"1\",\"0\",\"34386\",\"21235\",\"10500\",\"12386\",\"\",\"\",\"\",\"\",\"\",\"\",\"\",\"\",\"\",\"\",\"\",\"N\",\"\",\"\",\"\",\"\",\"\",\"\",\"\",\"\",\"\",\"\",\"\",\"\",\"\",\"\",\"N\",\"\",\"\",\"\",\"\",\"\",\"\"\n",
            "\"\",\"\",\"17100\",\"17100\",\"17100\",\" 36 months\",\" 18.94%\",\"626.3\",\"D\",\"D2\",\"Receptionist \",\"10+ years\",\"RENT\",\"38000\",\"Verified\",\"Dec-2018\",\"Current\",\"n\",\"\",\"\",\"debt_consolidation\",\"Debt consolidation\",\"150xx\",\"PA\",\"38.09\",\"0\",\"Mar-1998\",\"1\",\"47\",\"\",\"14\",\"0\",\"15323\",\"53%\",\"21\",\"w\",\"13271.86\",\"13271.86\",\"6236.01\",\"6236.01\",\"3828.14\",\"2407.87\",\"0.0\",\"0.0\",\"0.0\",\"Oct-2019\",\"626.3\",\"Nov-2019\",\"Oct-2019\",\"0\",\"\",\"1\",\"Individual\",\"\",\"\",\"\",\"0\",\"0\",\"43351\",\"1\",\"2\",\"1\",\"1\",\"10\",\"28028\",\"67\",\"1\",\"5\",\"7533\",\"53\",\"29170\",\"0\",\"0\",\"2\",\"6\",\"3096\",\"4150\",\"77\",\"0\",\"0\",\"125\",\"230\",\"5\",\"5\",\"2\",\"5\",\"\",\"5\",\"\",\"0\",\"4\",\"12\",\"5\",\"5\",\"5\",\"12\",\"14\",\"9\",\"14\",\"\",\"0\",\"0\",\"2\",\"95\",\"75\",\"0\",\"0\",\"70954\",\"43351\",\"16600\",\"41784\",\"\",\"\",\"\",\"\",\"\",\"\",\"\",\"\",\"\",\"\",\"\",\"N\",\"\",\"\",\"\",\"\",\"\",\"\",\"\",\"\",\"\",\"\",\"\",\"\",\"\",\"\",\"N\",\"\",\"\",\"\",\"\",\"\",\"\"\n",
            "\"\",\"\",\"4000\",\"4000\",\"4000\",\" 36 months\",\" 10.72%\",\"130.43\",\"B\",\"B2\",\"Extrusion assistant \",\"10+ years\",\"MORTGAGE\",\"56000\",\"Verified\",\"Dec-2018\",\"Current\",\"n\",\"\",\"\",\"credit_card\",\"Credit card refinancing\",\"301xx\",\"GA\",\"31.03\",\"0\",\"Sep-2006\",\"0\",\"\",\"\",\"7\",\"0\",\"4518\",\"28.6%\",\"11\",\"w\",\"3014.03\",\"3014.03\",\"1291.21\",\"1291.21\",\"985.97\",\"305.24\",\"0.0\",\"0.0\",\"0.0\",\"Oct-2019\",\"130.43\",\"Nov-2019\",\"Oct-2019\",\"1\",\"\",\"1\",\"Individual\",\"\",\"\",\"\",\"0\",\"136\",\"192983\",\"0\",\"2\",\"0\",\"2\",\"14\",\"66857\",\"\",\"0\",\"3\",\"1608\",\"29\",\"15800\",\"3\",\"0\",\"0\",\"5\",\"27569\",\"7835\",\"36.3\",\"0\",\"0\",\"147\",\"29\",\"22\",\"14\",\"1\",\"22\",\"\",\"17\",\"\",\"0\",\"3\",\"4\",\"3\",\"3\",\"6\",\"4\",\"4\",\"4\",\"7\",\"0\",\"0\",\"0\",\"0\",\"100\",\"0\",\"0\",\"0\",\"221310\",\"71375\",\"12300\",\"77865\",\"\",\"\",\"\",\"\",\"\",\"\",\"\",\"\",\"\",\"\",\"\",\"N\",\"\",\"\",\"\",\"\",\"\",\"\",\"\",\"\",\"\",\"\",\"\",\"\",\"\",\"\",\"N\",\"\",\"\",\"\",\"\",\"\",\"\"\n",
            "\"\",\"\",\"10475\",\"10475\",\"10475\",\" 36 months\",\" 11.31%\",\"344.48\",\"B\",\"B3\",\"Teacher\",\"6 years\",\"RENT\",\"66150\",\"Source Verified\",\"Dec-2018\",\"Current\",\"n\",\"\",\"\",\"debt_consolidation\",\"Debt consolidation\",\"786xx\",\"TX\",\"7.4\",\"0\",\"Jun-1991\",\"0\",\"28\",\"\",\"10\",\"0\",\"10499\",\"40.2%\",\"17\",\"w\",\"7910.58\",\"7910.58\",\"3434.93\",\"3434.93\",\"2564.42\",\"870.51\",\"0.0\",\"0.0\",\"0.0\",\"Oct-2019\",\"344.48\",\"Nov-2019\",\"Oct-2019\",\"0\",\"\",\"1\",\"Individual\",\"\",\"\",\"\",\"0\",\"0\",\"10499\",\"1\",\"0\",\"0\",\"0\",\"84\",\"0\",\"\",\"3\",\"5\",\"3841\",\"40\",\"26100\",\"2\",\"1\",\"5\",\"5\",\"1312\",\"14847\",\"36.8\",\"0\",\"0\",\"88\",\"330\",\"3\",\"3\",\"2\",\"7\",\"\",\"1\",\"28\",\"0\",\"5\",\"8\",\"7\",\"8\",\"2\",\"10\",\"13\",\"8\",\"10\",\"0\",\"0\",\"0\",\"3\",\"88.2\",\"60\",\"0\",\"0\",\"26100\",\"10499\",\"23500\",\"0\",\"\",\"\",\"\",\"\",\"\",\"\",\"\",\"\",\"\",\"\",\"\",\"N\",\"\",\"\",\"\",\"\",\"\",\"\",\"\",\"\",\"\",\"\",\"\",\"\",\"\",\"\",\"N\",\"\",\"\",\"\",\"\",\"\",\"\"\n",
            "\"\",\"\",\"7500\",\"7500\",\"7500\",\" 36 months\",\" 11.31%\",\"246.65\",\"B\",\"B3\",\"Supervisor\",\"7 years\",\"MORTGAGE\",\"40500\",\"Verified\",\"Dec-2018\",\"Late (16-30 days)\",\"n\",\"\",\"\",\"debt_consolidation\",\"Debt consolidation\",\"604xx\",\"IL\",\"31.61\",\"0\",\"Sep-1996\",\"1\",\"\",\"\",\"23\",\"0\",\"14218\",\"16.3%\",\"33\",\"w\",\"6032.58\",\"6032.58\",\"1983.44\",\"1983.44\",\"1467.42\",\"516.02\",\"0.0\",\"0.0\",\"0.0\",\"Sep-2019\",\"246.65\",\"Nov-2019\",\"Oct-2019\",\"0\",\"\",\"1\",\"Individual\",\"\",\"\",\"\",\"0\",\"0\",\"123779\",\"3\",\"2\",\"1\",\"1\",\"12\",\"8096\",\"29\",\"3\",\"6\",\"2972\",\"19\",\"87000\",\"0\",\"0\",\"2\",\"7\",\"5626\",\"21078\",\"23.9\",\"0\",\"0\",\"59\",\"267\",\"1\",\"1\",\"1\",\"6\",\"\",\"6\",\"\",\"0\",\"4\",\"6\",\"7\",\"10\",\"2\",\"20\",\"30\",\"6\",\"23\",\"0\",\"0\",\"0\",\"4\",\"100\",\"0\",\"0\",\"0\",\"221569\",\"22314\",\"27700\",\"28409\",\"\",\"\",\"\",\"\",\"\",\"\",\"\",\"\",\"\",\"\",\"\",\"N\",\"\",\"\",\"\",\"\",\"\",\"\",\"\",\"\",\"\",\"\",\"\",\"\",\"\",\"\",\"N\",\"\",\"\",\"\",\"\",\"\",\"\"\n",
            "\"\",\"\",\"3600\",\"3600\",\"3600\",\" 36 months\",\" 11.80%\",\"119.23\",\"B\",\"B4\",\"Analyst\",\"5 years\",\"MORTGAGE\",\"50000\",\"Source Verified\",\"Dec-2018\",\"Current\",\"n\",\"\",\"\",\"other\",\"Other\",\"427xx\",\"KY\",\"16.11\",\"0\",\"Jan-2002\",\"2\",\"\",\"\",\"10\",\"0\",\"5865\",\"17.4%\",\"17\",\"w\",\"2818.01\",\"2818.01\",\"1087.23\",\"1087.23\",\"781.99\",\"305.24\",\"0.0\",\"0.0\",\"0.0\",\"Oct-2019\",\"119.23\",\"Nov-2019\",\"Oct-2019\",\"0\",\"\",\"1\",\"Individual\",\"\",\"\",\"\",\"0\",\"0\",\"243415\",\"3\",\"3\",\"1\",\"2\",\"3\",\"68184\",\"95\",\"1\",\"3\",\"0\",\"53\",\"33700\",\"2\",\"1\",\"10\",\"6\",\"24342\",\"17300\",\"0\",\"0\",\"0\",\"203\",\"198\",\"4\",\"3\",\"1\",\"18\",\"\",\"3\",\"\",\"1\",\"0\",\"1\",\"4\",\"6\",\"6\",\"6\",\"10\",\"1\",\"10\",\"0\",\"0\",\"0\",\"3\",\"93.8\",\"0\",\"0\",\"0\",\"272629\",\"74049\",\"17300\",\"68929\",\"\",\"\",\"\",\"\",\"\",\"\",\"\",\"\",\"\",\"\",\"\",\"N\",\"\",\"\",\"\",\"\",\"\",\"\",\"\",\"\",\"\",\"\",\"\",\"\",\"\",\"\",\"N\",\"\",\"\",\"\",\"\",\"\",\"\"\n"
          ],
          "name": "stdout"
        }
      ]
    },
    {
      "cell_type": "code",
      "metadata": {
        "id": "8Hc34GMg2I5f",
        "colab_type": "code",
        "colab": {
          "base_uri": "https://localhost:8080/",
          "height": 207
        },
        "outputId": "a93e4b4b-95b5-4c8a-a4a5-e986b25887b0"
      },
      "source": [
        "! tail LoanStats_2018Q4.csv"
      ],
      "execution_count": 6,
      "outputs": [
        {
          "output_type": "stream",
          "text": [
            "\"\",\"\",\"5600\",\"5600\",\"5600\",\" 36 months\",\" 13.56%\",\"190.21\",\"C\",\"C1\",\"\",\"n/a\",\"RENT\",\"15600\",\"Not Verified\",\"Oct-2018\",\"Current\",\"n\",\"\",\"\",\"credit_card\",\"Credit card refinancing\",\"836xx\",\"ID\",\"15.31\",\"0\",\"Aug-2012\",\"0\",\"\",\"97\",\"9\",\"1\",\"5996\",\"34.5%\",\"11\",\"w\",\"3978.52\",\"3978.52\",\"2271.97\",\"2271.97\",\"1621.48\",\"650.49\",\"0.0\",\"0.0\",\"0.0\",\"Oct-2019\",\"190.21\",\"Nov-2019\",\"Oct-2019\",\"0\",\"\",\"1\",\"Individual\",\"\",\"\",\"\",\"0\",\"0\",\"5996\",\"0\",\"0\",\"0\",\"1\",\"20\",\"0\",\"\",\"0\",\"2\",\"3017\",\"35\",\"17400\",\"1\",\"0\",\"0\",\"3\",\"750\",\"4689\",\"45.5\",\"0\",\"0\",\"20\",\"73\",\"13\",\"13\",\"0\",\"13\",\"\",\"20\",\"\",\"0\",\"3\",\"5\",\"4\",\"4\",\"1\",\"9\",\"10\",\"5\",\"9\",\"0\",\"0\",\"0\",\"0\",\"100\",\"25\",\"1\",\"0\",\"17400\",\"5996\",\"8600\",\"0\",\"\",\"\",\"\",\"\",\"\",\"\",\"\",\"\",\"\",\"\",\"\",\"N\",\"\",\"\",\"\",\"\",\"\",\"\",\"\",\"\",\"\",\"\",\"\",\"\",\"\",\"\",\"N\",\"\",\"\",\"\",\"\",\"\",\"\"\n",
            "\"\",\"\",\"23000\",\"23000\",\"23000\",\" 36 months\",\" 15.02%\",\"797.53\",\"C\",\"C3\",\"Tax Consultant\",\"10+ years\",\"MORTGAGE\",\"75000\",\"Source Verified\",\"Oct-2018\",\"Charged Off\",\"n\",\"\",\"\",\"debt_consolidation\",\"Debt consolidation\",\"352xx\",\"AL\",\"20.95\",\"1\",\"Aug-1985\",\"2\",\"22\",\"\",\"12\",\"0\",\"22465\",\"43.6%\",\"28\",\"w\",\"0.00\",\"0.00\",\"1547.08\",\"1547.08\",\"1025.67\",\"521.41\",\"0.0\",\"0.0\",\"0.0\",\"Dec-2018\",\"797.53\",\"\",\"Nov-2018\",\"0\",\"\",\"1\",\"Individual\",\"\",\"\",\"\",\"0\",\"0\",\"259658\",\"4\",\"2\",\"3\",\"3\",\"6\",\"18149\",\"86\",\"4\",\"6\",\"12843\",\"56\",\"51500\",\"2\",\"2\",\"5\",\"11\",\"21638\",\"26321\",\"44.1\",\"0\",\"0\",\"12\",\"397\",\"4\",\"4\",\"6\",\"5\",\"22\",\"4\",\"22\",\"0\",\"4\",\"5\",\"7\",\"14\",\"3\",\"9\",\"19\",\"5\",\"12\",\"0\",\"0\",\"0\",\"7\",\"96.4\",\"14.3\",\"0\",\"0\",\"296500\",\"40614\",\"47100\",\"21000\",\"\",\"\",\"\",\"\",\"\",\"\",\"\",\"\",\"\",\"\",\"\",\"N\",\"\",\"\",\"\",\"\",\"\",\"\",\"\",\"\",\"\",\"\",\"\",\"\",\"\",\"\",\"N\",\"\",\"\",\"\",\"\",\"\",\"\"\n",
            "\"\",\"\",\"10000\",\"10000\",\"10000\",\" 36 months\",\" 15.02%\",\"346.76\",\"C\",\"C3\",\"security guard\",\"5 years\",\"MORTGAGE\",\"38000\",\"Not Verified\",\"Oct-2018\",\"Current\",\"n\",\"\",\"\",\"debt_consolidation\",\"Debt consolidation\",\"443xx\",\"OH\",\"13.16\",\"3\",\"Jul-1982\",\"0\",\"6\",\"\",\"11\",\"0\",\"5634\",\"37.1%\",\"16\",\"w\",\"7149.96\",\"7149.96\",\"4152.78\",\"4152.78\",\"2850.04\",\"1302.74\",\"0.0\",\"0.0\",\"0.0\",\"Oct-2019\",\"346.76\",\"Nov-2019\",\"Oct-2019\",\"0\",\"\",\"1\",\"Individual\",\"\",\"\",\"\",\"0\",\"155\",\"77424\",\"0\",\"1\",\"0\",\"0\",\"34\",\"200\",\"10\",\"1\",\"1\",\"1866\",\"42\",\"15200\",\"2\",\"0\",\"0\",\"2\",\"7039\",\"4537\",\"50.1\",\"0\",\"0\",\"34\",\"434\",\"11\",\"11\",\"3\",\"11\",\"6\",\"17\",\"6\",\"0\",\"3\",\"5\",\"5\",\"6\",\"1\",\"8\",\"11\",\"5\",\"11\",\"0\",\"0\",\"0\",\"1\",\"73.3\",\"40\",\"0\",\"0\",\"91403\",\"9323\",\"9100\",\"2000\",\"\",\"\",\"\",\"\",\"\",\"\",\"\",\"\",\"\",\"\",\"\",\"N\",\"\",\"\",\"\",\"\",\"\",\"\",\"\",\"\",\"\",\"\",\"\",\"\",\"\",\"\",\"N\",\"\",\"\",\"\",\"\",\"\",\"\"\n",
            "\"\",\"\",\"5000\",\"5000\",\"5000\",\" 36 months\",\" 13.56%\",\"169.83\",\"C\",\"C1\",\"Payoff Clerk\",\"10+ years\",\"MORTGAGE\",\"35360\",\"Not Verified\",\"Oct-2018\",\"Current\",\"n\",\"\",\"\",\"debt_consolidation\",\"Debt consolidation\",\"381xx\",\"TN\",\"11.3\",\"1\",\"Jun-2006\",\"0\",\"21\",\"\",\"9\",\"0\",\"2597\",\"27.3%\",\"15\",\"f\",\"3552.25\",\"3552.25\",\"2034.19\",\"2034.19\",\"1447.75\",\"586.44\",\"0.0\",\"0.0\",\"0.0\",\"Oct-2019\",\"169.83\",\"Nov-2019\",\"Oct-2019\",\"0\",\"\",\"1\",\"Individual\",\"\",\"\",\"\",\"0\",\"1413\",\"69785\",\"0\",\"2\",\"0\",\"1\",\"16\",\"2379\",\"40\",\"3\",\"4\",\"1826\",\"32\",\"9500\",\"0\",\"0\",\"1\",\"5\",\"8723\",\"1174\",\"60.9\",\"0\",\"0\",\"147\",\"85\",\"9\",\"9\",\"2\",\"10\",\"21\",\"9\",\"21\",\"0\",\"1\",\"3\",\"2\",\"2\",\"6\",\"6\",\"7\",\"3\",\"9\",\"0\",\"0\",\"0\",\"3\",\"92.9\",\"50\",\"0\",\"0\",\"93908\",\"4976\",\"3000\",\"6028\",\"\",\"\",\"\",\"\",\"\",\"\",\"\",\"\",\"\",\"\",\"\",\"N\",\"\",\"\",\"\",\"\",\"\",\"\",\"\",\"\",\"\",\"\",\"\",\"\",\"\",\"\",\"N\",\"\",\"\",\"\",\"\",\"\",\"\"\n",
            "\"\",\"\",\"10000\",\"10000\",\"9750\",\" 36 months\",\" 11.06%\",\"327.68\",\"B\",\"B3\",\"\",\"n/a\",\"RENT\",\"44400\",\"Source Verified\",\"Oct-2018\",\"Current\",\"n\",\"\",\"\",\"credit_card\",\"Credit card refinancing\",\"980xx\",\"WA\",\"11.78\",\"0\",\"Oct-2008\",\"2\",\"40\",\"\",\"15\",\"0\",\"6269\",\"13.1%\",\"25\",\"f\",\"7026.08\",\"6850.43\",\"3916.8\",\"3818.88\",\"2973.92\",\"942.88\",\"0.0\",\"0.0\",\"0.0\",\"Oct-2019\",\"327.68\",\"Nov-2019\",\"Oct-2019\",\"0\",\"53\",\"1\",\"Individual\",\"\",\"\",\"\",\"0\",\"520\",\"16440\",\"3\",\"1\",\"1\",\"1\",\"2\",\"10171\",\"100\",\"2\",\"5\",\"404\",\"28\",\"47700\",\"0\",\"3\",\"5\",\"6\",\"1265\",\"20037\",\"2.3\",\"0\",\"0\",\"61\",\"119\",\"1\",\"1\",\"0\",\"1\",\"\",\"1\",\"40\",\"1\",\"2\",\"4\",\"6\",\"8\",\"3\",\"14\",\"22\",\"4\",\"15\",\"0\",\"0\",\"0\",\"3\",\"92\",\"0\",\"0\",\"0\",\"57871\",\"16440\",\"20500\",\"10171\",\"\",\"\",\"\",\"\",\"\",\"\",\"\",\"\",\"\",\"\",\"\",\"N\",\"\",\"\",\"\",\"\",\"\",\"\",\"\",\"\",\"\",\"\",\"\",\"\",\"\",\"\",\"N\",\"\",\"\",\"\",\"\",\"\",\"\"\n",
            "\"\",\"\",\"10000\",\"10000\",\"10000\",\" 36 months\",\" 16.91%\",\"356.08\",\"C\",\"C5\",\"Key Accounts Manager\",\"2 years\",\"RENT\",\"80000\",\"Not Verified\",\"Oct-2018\",\"Current\",\"n\",\"\",\"\",\"other\",\"Other\",\"021xx\",\"MA\",\"17.72\",\"1\",\"Sep-2006\",\"0\",\"14\",\"\",\"17\",\"0\",\"1942\",\"30.8%\",\"31\",\"w\",\"7208.22\",\"7208.22\",\"4263.57\",\"4263.57\",\"2791.78\",\"1471.79\",\"0.0\",\"0.0\",\"0.0\",\"Oct-2019\",\"356.08\",\"Nov-2019\",\"Oct-2019\",\"0\",\"25\",\"1\",\"Individual\",\"\",\"\",\"\",\"0\",\"0\",\"59194\",\"0\",\"15\",\"1\",\"1\",\"12\",\"57252\",\"85\",\"0\",\"0\",\"1942\",\"80\",\"6300\",\"0\",\"5\",\"0\",\"1\",\"3482\",\"2058\",\"48.5\",\"0\",\"0\",\"144\",\"142\",\"40\",\"12\",\"0\",\"131\",\"30\",\"\",\"30\",\"3\",\"1\",\"1\",\"1\",\"5\",\"22\",\"2\",\"9\",\"1\",\"17\",\"0\",\"0\",\"0\",\"1\",\"74.2\",\"0\",\"0\",\"0\",\"73669\",\"59194\",\"4000\",\"67369\",\"\",\"\",\"\",\"\",\"\",\"\",\"\",\"\",\"\",\"\",\"\",\"N\",\"\",\"\",\"\",\"\",\"\",\"\",\"\",\"\",\"\",\"\",\"\",\"\",\"\",\"\",\"N\",\"\",\"\",\"\",\"\",\"\",\"\"\n",
            "\n",
            "\n",
            "Total amount funded in policy code 1: 2050909275\n",
            "Total amount funded in policy code 2: 820109297\n"
          ],
          "name": "stdout"
        }
      ]
    },
    {
      "cell_type": "code",
      "metadata": {
        "id": "OeWzQ86R2fIq",
        "colab_type": "code",
        "colab": {
          "base_uri": "https://localhost:8080/",
          "height": 338
        },
        "outputId": "f7165580-e107-4e99-ce15-297df1455ed1"
      },
      "source": [
        "df = pd.read_csv('LoanStats_2018Q4.csv', skiprows=1, skipfooter=2, engine='python')\n",
        "df.head()"
      ],
      "execution_count": 7,
      "outputs": [
        {
          "output_type": "execute_result",
          "data": {
            "text/html": [
              "<div>\n",
              "<style scoped>\n",
              "    .dataframe tbody tr th:only-of-type {\n",
              "        vertical-align: middle;\n",
              "    }\n",
              "\n",
              "    .dataframe tbody tr th {\n",
              "        vertical-align: top;\n",
              "    }\n",
              "\n",
              "    .dataframe thead th {\n",
              "        text-align: right;\n",
              "    }\n",
              "</style>\n",
              "<table border=\"1\" class=\"dataframe\">\n",
              "  <thead>\n",
              "    <tr style=\"text-align: right;\">\n",
              "      <th></th>\n",
              "      <th>id</th>\n",
              "      <th>member_id</th>\n",
              "      <th>loan_amnt</th>\n",
              "      <th>funded_amnt</th>\n",
              "      <th>funded_amnt_inv</th>\n",
              "      <th>term</th>\n",
              "      <th>int_rate</th>\n",
              "      <th>installment</th>\n",
              "      <th>grade</th>\n",
              "      <th>sub_grade</th>\n",
              "      <th>emp_title</th>\n",
              "      <th>emp_length</th>\n",
              "      <th>home_ownership</th>\n",
              "      <th>annual_inc</th>\n",
              "      <th>verification_status</th>\n",
              "      <th>issue_d</th>\n",
              "      <th>loan_status</th>\n",
              "      <th>pymnt_plan</th>\n",
              "      <th>url</th>\n",
              "      <th>desc</th>\n",
              "      <th>purpose</th>\n",
              "      <th>title</th>\n",
              "      <th>zip_code</th>\n",
              "      <th>addr_state</th>\n",
              "      <th>dti</th>\n",
              "      <th>delinq_2yrs</th>\n",
              "      <th>earliest_cr_line</th>\n",
              "      <th>inq_last_6mths</th>\n",
              "      <th>mths_since_last_delinq</th>\n",
              "      <th>mths_since_last_record</th>\n",
              "      <th>open_acc</th>\n",
              "      <th>pub_rec</th>\n",
              "      <th>revol_bal</th>\n",
              "      <th>revol_util</th>\n",
              "      <th>total_acc</th>\n",
              "      <th>initial_list_status</th>\n",
              "      <th>out_prncp</th>\n",
              "      <th>out_prncp_inv</th>\n",
              "      <th>total_pymnt</th>\n",
              "      <th>total_pymnt_inv</th>\n",
              "      <th>...</th>\n",
              "      <th>percent_bc_gt_75</th>\n",
              "      <th>pub_rec_bankruptcies</th>\n",
              "      <th>tax_liens</th>\n",
              "      <th>tot_hi_cred_lim</th>\n",
              "      <th>total_bal_ex_mort</th>\n",
              "      <th>total_bc_limit</th>\n",
              "      <th>total_il_high_credit_limit</th>\n",
              "      <th>revol_bal_joint</th>\n",
              "      <th>sec_app_earliest_cr_line</th>\n",
              "      <th>sec_app_inq_last_6mths</th>\n",
              "      <th>sec_app_mort_acc</th>\n",
              "      <th>sec_app_open_acc</th>\n",
              "      <th>sec_app_revol_util</th>\n",
              "      <th>sec_app_open_act_il</th>\n",
              "      <th>sec_app_num_rev_accts</th>\n",
              "      <th>sec_app_chargeoff_within_12_mths</th>\n",
              "      <th>sec_app_collections_12_mths_ex_med</th>\n",
              "      <th>sec_app_mths_since_last_major_derog</th>\n",
              "      <th>hardship_flag</th>\n",
              "      <th>hardship_type</th>\n",
              "      <th>hardship_reason</th>\n",
              "      <th>hardship_status</th>\n",
              "      <th>deferral_term</th>\n",
              "      <th>hardship_amount</th>\n",
              "      <th>hardship_start_date</th>\n",
              "      <th>hardship_end_date</th>\n",
              "      <th>payment_plan_start_date</th>\n",
              "      <th>hardship_length</th>\n",
              "      <th>hardship_dpd</th>\n",
              "      <th>hardship_loan_status</th>\n",
              "      <th>orig_projected_additional_accrued_interest</th>\n",
              "      <th>hardship_payoff_balance_amount</th>\n",
              "      <th>hardship_last_payment_amount</th>\n",
              "      <th>debt_settlement_flag</th>\n",
              "      <th>debt_settlement_flag_date</th>\n",
              "      <th>settlement_status</th>\n",
              "      <th>settlement_date</th>\n",
              "      <th>settlement_amount</th>\n",
              "      <th>settlement_percentage</th>\n",
              "      <th>settlement_term</th>\n",
              "    </tr>\n",
              "  </thead>\n",
              "  <tbody>\n",
              "    <tr>\n",
              "      <th>0</th>\n",
              "      <td>NaN</td>\n",
              "      <td>NaN</td>\n",
              "      <td>35000</td>\n",
              "      <td>35000</td>\n",
              "      <td>35000.0</td>\n",
              "      <td>36 months</td>\n",
              "      <td>14.47%</td>\n",
              "      <td>1204.23</td>\n",
              "      <td>C</td>\n",
              "      <td>C2</td>\n",
              "      <td>Staff Physician</td>\n",
              "      <td>8 years</td>\n",
              "      <td>MORTGAGE</td>\n",
              "      <td>360000.0</td>\n",
              "      <td>Verified</td>\n",
              "      <td>Dec-2018</td>\n",
              "      <td>Fully Paid</td>\n",
              "      <td>n</td>\n",
              "      <td>NaN</td>\n",
              "      <td>NaN</td>\n",
              "      <td>credit_card</td>\n",
              "      <td>Credit card refinancing</td>\n",
              "      <td>336xx</td>\n",
              "      <td>FL</td>\n",
              "      <td>19.90</td>\n",
              "      <td>0</td>\n",
              "      <td>Apr-1995</td>\n",
              "      <td>1</td>\n",
              "      <td>NaN</td>\n",
              "      <td>NaN</td>\n",
              "      <td>24</td>\n",
              "      <td>0</td>\n",
              "      <td>57259</td>\n",
              "      <td>43.2%</td>\n",
              "      <td>51</td>\n",
              "      <td>w</td>\n",
              "      <td>0.00</td>\n",
              "      <td>0.00</td>\n",
              "      <td>38187.046837</td>\n",
              "      <td>38187.05</td>\n",
              "      <td>...</td>\n",
              "      <td>30.8</td>\n",
              "      <td>0</td>\n",
              "      <td>0</td>\n",
              "      <td>1222051</td>\n",
              "      <td>169286</td>\n",
              "      <td>124600</td>\n",
              "      <td>258401</td>\n",
              "      <td>NaN</td>\n",
              "      <td>NaN</td>\n",
              "      <td>NaN</td>\n",
              "      <td>NaN</td>\n",
              "      <td>NaN</td>\n",
              "      <td>NaN</td>\n",
              "      <td>NaN</td>\n",
              "      <td>NaN</td>\n",
              "      <td>NaN</td>\n",
              "      <td>NaN</td>\n",
              "      <td>NaN</td>\n",
              "      <td>N</td>\n",
              "      <td>NaN</td>\n",
              "      <td>NaN</td>\n",
              "      <td>NaN</td>\n",
              "      <td>NaN</td>\n",
              "      <td>NaN</td>\n",
              "      <td>NaN</td>\n",
              "      <td>NaN</td>\n",
              "      <td>NaN</td>\n",
              "      <td>NaN</td>\n",
              "      <td>NaN</td>\n",
              "      <td>NaN</td>\n",
              "      <td>NaN</td>\n",
              "      <td>NaN</td>\n",
              "      <td>NaN</td>\n",
              "      <td>N</td>\n",
              "      <td>NaN</td>\n",
              "      <td>NaN</td>\n",
              "      <td>NaN</td>\n",
              "      <td>NaN</td>\n",
              "      <td>NaN</td>\n",
              "      <td>NaN</td>\n",
              "    </tr>\n",
              "    <tr>\n",
              "      <th>1</th>\n",
              "      <td>NaN</td>\n",
              "      <td>NaN</td>\n",
              "      <td>5000</td>\n",
              "      <td>5000</td>\n",
              "      <td>5000.0</td>\n",
              "      <td>36 months</td>\n",
              "      <td>22.35%</td>\n",
              "      <td>191.86</td>\n",
              "      <td>D</td>\n",
              "      <td>D5</td>\n",
              "      <td>Director of Sales</td>\n",
              "      <td>10+ years</td>\n",
              "      <td>MORTGAGE</td>\n",
              "      <td>72000.0</td>\n",
              "      <td>Source Verified</td>\n",
              "      <td>Dec-2018</td>\n",
              "      <td>Fully Paid</td>\n",
              "      <td>n</td>\n",
              "      <td>NaN</td>\n",
              "      <td>NaN</td>\n",
              "      <td>debt_consolidation</td>\n",
              "      <td>Debt consolidation</td>\n",
              "      <td>333xx</td>\n",
              "      <td>FL</td>\n",
              "      <td>20.12</td>\n",
              "      <td>0</td>\n",
              "      <td>Mar-2010</td>\n",
              "      <td>0</td>\n",
              "      <td>NaN</td>\n",
              "      <td>NaN</td>\n",
              "      <td>13</td>\n",
              "      <td>0</td>\n",
              "      <td>11720</td>\n",
              "      <td>47.1%</td>\n",
              "      <td>26</td>\n",
              "      <td>f</td>\n",
              "      <td>0.00</td>\n",
              "      <td>0.00</td>\n",
              "      <td>5615.977674</td>\n",
              "      <td>5615.98</td>\n",
              "      <td>...</td>\n",
              "      <td>50.0</td>\n",
              "      <td>0</td>\n",
              "      <td>0</td>\n",
              "      <td>218686</td>\n",
              "      <td>34418</td>\n",
              "      <td>18200</td>\n",
              "      <td>37786</td>\n",
              "      <td>NaN</td>\n",
              "      <td>NaN</td>\n",
              "      <td>NaN</td>\n",
              "      <td>NaN</td>\n",
              "      <td>NaN</td>\n",
              "      <td>NaN</td>\n",
              "      <td>NaN</td>\n",
              "      <td>NaN</td>\n",
              "      <td>NaN</td>\n",
              "      <td>NaN</td>\n",
              "      <td>NaN</td>\n",
              "      <td>N</td>\n",
              "      <td>NaN</td>\n",
              "      <td>NaN</td>\n",
              "      <td>NaN</td>\n",
              "      <td>NaN</td>\n",
              "      <td>NaN</td>\n",
              "      <td>NaN</td>\n",
              "      <td>NaN</td>\n",
              "      <td>NaN</td>\n",
              "      <td>NaN</td>\n",
              "      <td>NaN</td>\n",
              "      <td>NaN</td>\n",
              "      <td>NaN</td>\n",
              "      <td>NaN</td>\n",
              "      <td>NaN</td>\n",
              "      <td>N</td>\n",
              "      <td>NaN</td>\n",
              "      <td>NaN</td>\n",
              "      <td>NaN</td>\n",
              "      <td>NaN</td>\n",
              "      <td>NaN</td>\n",
              "      <td>NaN</td>\n",
              "    </tr>\n",
              "    <tr>\n",
              "      <th>2</th>\n",
              "      <td>NaN</td>\n",
              "      <td>NaN</td>\n",
              "      <td>10000</td>\n",
              "      <td>10000</td>\n",
              "      <td>10000.0</td>\n",
              "      <td>60 months</td>\n",
              "      <td>23.40%</td>\n",
              "      <td>284.21</td>\n",
              "      <td>E</td>\n",
              "      <td>E1</td>\n",
              "      <td>NaN</td>\n",
              "      <td>&lt; 1 year</td>\n",
              "      <td>RENT</td>\n",
              "      <td>55000.0</td>\n",
              "      <td>Source Verified</td>\n",
              "      <td>Dec-2018</td>\n",
              "      <td>Current</td>\n",
              "      <td>n</td>\n",
              "      <td>NaN</td>\n",
              "      <td>NaN</td>\n",
              "      <td>debt_consolidation</td>\n",
              "      <td>Debt consolidation</td>\n",
              "      <td>902xx</td>\n",
              "      <td>CA</td>\n",
              "      <td>13.51</td>\n",
              "      <td>0</td>\n",
              "      <td>Apr-2007</td>\n",
              "      <td>0</td>\n",
              "      <td>44.0</td>\n",
              "      <td>88.0</td>\n",
              "      <td>9</td>\n",
              "      <td>1</td>\n",
              "      <td>11859</td>\n",
              "      <td>53.9%</td>\n",
              "      <td>11</td>\n",
              "      <td>w</td>\n",
              "      <td>9025.41</td>\n",
              "      <td>9025.41</td>\n",
              "      <td>2822.600000</td>\n",
              "      <td>2822.60</td>\n",
              "      <td>...</td>\n",
              "      <td>100.0</td>\n",
              "      <td>1</td>\n",
              "      <td>0</td>\n",
              "      <td>34386</td>\n",
              "      <td>21235</td>\n",
              "      <td>10500</td>\n",
              "      <td>12386</td>\n",
              "      <td>NaN</td>\n",
              "      <td>NaN</td>\n",
              "      <td>NaN</td>\n",
              "      <td>NaN</td>\n",
              "      <td>NaN</td>\n",
              "      <td>NaN</td>\n",
              "      <td>NaN</td>\n",
              "      <td>NaN</td>\n",
              "      <td>NaN</td>\n",
              "      <td>NaN</td>\n",
              "      <td>NaN</td>\n",
              "      <td>N</td>\n",
              "      <td>NaN</td>\n",
              "      <td>NaN</td>\n",
              "      <td>NaN</td>\n",
              "      <td>NaN</td>\n",
              "      <td>NaN</td>\n",
              "      <td>NaN</td>\n",
              "      <td>NaN</td>\n",
              "      <td>NaN</td>\n",
              "      <td>NaN</td>\n",
              "      <td>NaN</td>\n",
              "      <td>NaN</td>\n",
              "      <td>NaN</td>\n",
              "      <td>NaN</td>\n",
              "      <td>NaN</td>\n",
              "      <td>N</td>\n",
              "      <td>NaN</td>\n",
              "      <td>NaN</td>\n",
              "      <td>NaN</td>\n",
              "      <td>NaN</td>\n",
              "      <td>NaN</td>\n",
              "      <td>NaN</td>\n",
              "    </tr>\n",
              "    <tr>\n",
              "      <th>3</th>\n",
              "      <td>NaN</td>\n",
              "      <td>NaN</td>\n",
              "      <td>17100</td>\n",
              "      <td>17100</td>\n",
              "      <td>17100.0</td>\n",
              "      <td>36 months</td>\n",
              "      <td>18.94%</td>\n",
              "      <td>626.30</td>\n",
              "      <td>D</td>\n",
              "      <td>D2</td>\n",
              "      <td>Receptionist</td>\n",
              "      <td>10+ years</td>\n",
              "      <td>RENT</td>\n",
              "      <td>38000.0</td>\n",
              "      <td>Verified</td>\n",
              "      <td>Dec-2018</td>\n",
              "      <td>Current</td>\n",
              "      <td>n</td>\n",
              "      <td>NaN</td>\n",
              "      <td>NaN</td>\n",
              "      <td>debt_consolidation</td>\n",
              "      <td>Debt consolidation</td>\n",
              "      <td>150xx</td>\n",
              "      <td>PA</td>\n",
              "      <td>38.09</td>\n",
              "      <td>0</td>\n",
              "      <td>Mar-1998</td>\n",
              "      <td>1</td>\n",
              "      <td>47.0</td>\n",
              "      <td>NaN</td>\n",
              "      <td>14</td>\n",
              "      <td>0</td>\n",
              "      <td>15323</td>\n",
              "      <td>53%</td>\n",
              "      <td>21</td>\n",
              "      <td>w</td>\n",
              "      <td>13271.86</td>\n",
              "      <td>13271.86</td>\n",
              "      <td>6236.010000</td>\n",
              "      <td>6236.01</td>\n",
              "      <td>...</td>\n",
              "      <td>75.0</td>\n",
              "      <td>0</td>\n",
              "      <td>0</td>\n",
              "      <td>70954</td>\n",
              "      <td>43351</td>\n",
              "      <td>16600</td>\n",
              "      <td>41784</td>\n",
              "      <td>NaN</td>\n",
              "      <td>NaN</td>\n",
              "      <td>NaN</td>\n",
              "      <td>NaN</td>\n",
              "      <td>NaN</td>\n",
              "      <td>NaN</td>\n",
              "      <td>NaN</td>\n",
              "      <td>NaN</td>\n",
              "      <td>NaN</td>\n",
              "      <td>NaN</td>\n",
              "      <td>NaN</td>\n",
              "      <td>N</td>\n",
              "      <td>NaN</td>\n",
              "      <td>NaN</td>\n",
              "      <td>NaN</td>\n",
              "      <td>NaN</td>\n",
              "      <td>NaN</td>\n",
              "      <td>NaN</td>\n",
              "      <td>NaN</td>\n",
              "      <td>NaN</td>\n",
              "      <td>NaN</td>\n",
              "      <td>NaN</td>\n",
              "      <td>NaN</td>\n",
              "      <td>NaN</td>\n",
              "      <td>NaN</td>\n",
              "      <td>NaN</td>\n",
              "      <td>N</td>\n",
              "      <td>NaN</td>\n",
              "      <td>NaN</td>\n",
              "      <td>NaN</td>\n",
              "      <td>NaN</td>\n",
              "      <td>NaN</td>\n",
              "      <td>NaN</td>\n",
              "    </tr>\n",
              "    <tr>\n",
              "      <th>4</th>\n",
              "      <td>NaN</td>\n",
              "      <td>NaN</td>\n",
              "      <td>4000</td>\n",
              "      <td>4000</td>\n",
              "      <td>4000.0</td>\n",
              "      <td>36 months</td>\n",
              "      <td>10.72%</td>\n",
              "      <td>130.43</td>\n",
              "      <td>B</td>\n",
              "      <td>B2</td>\n",
              "      <td>Extrusion assistant</td>\n",
              "      <td>10+ years</td>\n",
              "      <td>MORTGAGE</td>\n",
              "      <td>56000.0</td>\n",
              "      <td>Verified</td>\n",
              "      <td>Dec-2018</td>\n",
              "      <td>Current</td>\n",
              "      <td>n</td>\n",
              "      <td>NaN</td>\n",
              "      <td>NaN</td>\n",
              "      <td>credit_card</td>\n",
              "      <td>Credit card refinancing</td>\n",
              "      <td>301xx</td>\n",
              "      <td>GA</td>\n",
              "      <td>31.03</td>\n",
              "      <td>0</td>\n",
              "      <td>Sep-2006</td>\n",
              "      <td>0</td>\n",
              "      <td>NaN</td>\n",
              "      <td>NaN</td>\n",
              "      <td>7</td>\n",
              "      <td>0</td>\n",
              "      <td>4518</td>\n",
              "      <td>28.6%</td>\n",
              "      <td>11</td>\n",
              "      <td>w</td>\n",
              "      <td>3014.03</td>\n",
              "      <td>3014.03</td>\n",
              "      <td>1291.210000</td>\n",
              "      <td>1291.21</td>\n",
              "      <td>...</td>\n",
              "      <td>0.0</td>\n",
              "      <td>0</td>\n",
              "      <td>0</td>\n",
              "      <td>221310</td>\n",
              "      <td>71375</td>\n",
              "      <td>12300</td>\n",
              "      <td>77865</td>\n",
              "      <td>NaN</td>\n",
              "      <td>NaN</td>\n",
              "      <td>NaN</td>\n",
              "      <td>NaN</td>\n",
              "      <td>NaN</td>\n",
              "      <td>NaN</td>\n",
              "      <td>NaN</td>\n",
              "      <td>NaN</td>\n",
              "      <td>NaN</td>\n",
              "      <td>NaN</td>\n",
              "      <td>NaN</td>\n",
              "      <td>N</td>\n",
              "      <td>NaN</td>\n",
              "      <td>NaN</td>\n",
              "      <td>NaN</td>\n",
              "      <td>NaN</td>\n",
              "      <td>NaN</td>\n",
              "      <td>NaN</td>\n",
              "      <td>NaN</td>\n",
              "      <td>NaN</td>\n",
              "      <td>NaN</td>\n",
              "      <td>NaN</td>\n",
              "      <td>NaN</td>\n",
              "      <td>NaN</td>\n",
              "      <td>NaN</td>\n",
              "      <td>NaN</td>\n",
              "      <td>N</td>\n",
              "      <td>NaN</td>\n",
              "      <td>NaN</td>\n",
              "      <td>NaN</td>\n",
              "      <td>NaN</td>\n",
              "      <td>NaN</td>\n",
              "      <td>NaN</td>\n",
              "    </tr>\n",
              "  </tbody>\n",
              "</table>\n",
              "<p>5 rows × 144 columns</p>\n",
              "</div>"
            ],
            "text/plain": [
              "   id  member_id  ...  settlement_percentage  settlement_term\n",
              "0 NaN        NaN  ...                    NaN              NaN\n",
              "1 NaN        NaN  ...                    NaN              NaN\n",
              "2 NaN        NaN  ...                    NaN              NaN\n",
              "3 NaN        NaN  ...                    NaN              NaN\n",
              "4 NaN        NaN  ...                    NaN              NaN\n",
              "\n",
              "[5 rows x 144 columns]"
            ]
          },
          "metadata": {
            "tags": []
          },
          "execution_count": 7
        }
      ]
    },
    {
      "cell_type": "code",
      "metadata": {
        "id": "IXtdwkXd3D5q",
        "colab_type": "code",
        "colab": {
          "base_uri": "https://localhost:8080/",
          "height": 187
        },
        "outputId": "c099e618-b15e-41a3-f557-c83e41a79a53"
      },
      "source": [
        "print(df.shape)\n",
        "print(df.columns)"
      ],
      "execution_count": 8,
      "outputs": [
        {
          "output_type": "stream",
          "text": [
            "(128412, 144)\n",
            "Index(['id', 'member_id', 'loan_amnt', 'funded_amnt', 'funded_amnt_inv',\n",
            "       'term', 'int_rate', 'installment', 'grade', 'sub_grade',\n",
            "       ...\n",
            "       'orig_projected_additional_accrued_interest',\n",
            "       'hardship_payoff_balance_amount', 'hardship_last_payment_amount',\n",
            "       'debt_settlement_flag', 'debt_settlement_flag_date',\n",
            "       'settlement_status', 'settlement_date', 'settlement_amount',\n",
            "       'settlement_percentage', 'settlement_term'],\n",
            "      dtype='object', length=144)\n"
          ],
          "name": "stdout"
        }
      ]
    },
    {
      "cell_type": "code",
      "metadata": {
        "id": "YdzTBbUY3eBB",
        "colab_type": "code",
        "colab": {
          "base_uri": "https://localhost:8080/",
          "height": 119
        },
        "outputId": "b8dd727b-d168-410f-ab12-b07c5a2da17e"
      },
      "source": [
        "# Converting 'term' column from string to interger\n",
        "df['term'].head()"
      ],
      "execution_count": 36,
      "outputs": [
        {
          "output_type": "execute_result",
          "data": {
            "text/plain": [
              "0     36 months\n",
              "1     36 months\n",
              "2     60 months\n",
              "3     36 months\n",
              "4     36 months\n",
              "Name: term, dtype: object"
            ]
          },
          "metadata": {
            "tags": []
          },
          "execution_count": 36
        }
      ]
    },
    {
      "cell_type": "code",
      "metadata": {
        "id": "cQLbc5paAoC6",
        "colab_type": "code",
        "colab": {
          "base_uri": "https://localhost:8080/",
          "height": 34
        },
        "outputId": "a5667b37-ecc1-4ded-ff49-9716eb5788f3"
      },
      "source": [
        "df['term'].dtype"
      ],
      "execution_count": 46,
      "outputs": [
        {
          "output_type": "execute_result",
          "data": {
            "text/plain": [
              "dtype('O')"
            ]
          },
          "metadata": {
            "tags": []
          },
          "execution_count": 46
        }
      ]
    },
    {
      "cell_type": "code",
      "metadata": {
        "id": "Sxqybh4A39DO",
        "colab_type": "code",
        "colab": {
          "base_uri": "https://localhost:8080/",
          "height": 34
        },
        "outputId": "f7dfb8e2-d8f0-4001-e4fc-e3890e030a4c"
      },
      "source": [
        "term_clean = df.loc[0, 'term']\n",
        "print(term_clean)"
      ],
      "execution_count": 37,
      "outputs": [
        {
          "output_type": "stream",
          "text": [
            " 36 months\n"
          ],
          "name": "stdout"
        }
      ]
    },
    {
      "cell_type": "code",
      "metadata": {
        "id": "oKESbWFMcnBI",
        "colab_type": "code",
        "colab": {
          "base_uri": "https://localhost:8080/",
          "height": 34
        },
        "outputId": "8a02e30f-8038-45d4-fe7c-3002feea1764"
      },
      "source": [
        "term_clean.strip()"
      ],
      "execution_count": 78,
      "outputs": [
        {
          "output_type": "execute_result",
          "data": {
            "text/plain": [
              "'36 months'"
            ]
          },
          "metadata": {
            "tags": []
          },
          "execution_count": 78
        }
      ]
    },
    {
      "cell_type": "code",
      "metadata": {
        "id": "ssV3jC3j5swx",
        "colab_type": "code",
        "colab": {
          "base_uri": "https://localhost:8080/",
          "height": 34
        },
        "outputId": "7758f1a4-1cd9-4d30-bd3f-987a5541fcf2"
      },
      "source": [
        "term_clean.strip('months')"
      ],
      "execution_count": 47,
      "outputs": [
        {
          "output_type": "execute_result",
          "data": {
            "text/plain": [
              "' 36 '"
            ]
          },
          "metadata": {
            "tags": []
          },
          "execution_count": 47
        }
      ]
    },
    {
      "cell_type": "code",
      "metadata": {
        "id": "kaQIPSxacyV9",
        "colab_type": "code",
        "colab": {
          "base_uri": "https://localhost:8080/",
          "height": 34
        },
        "outputId": "acd299fd-c971-4806-8cbe-f2d27ad526c4"
      },
      "source": [
        "term_clean.strip().strip('months')"
      ],
      "execution_count": 80,
      "outputs": [
        {
          "output_type": "execute_result",
          "data": {
            "text/plain": [
              "'36 '"
            ]
          },
          "metadata": {
            "tags": []
          },
          "execution_count": 80
        }
      ]
    },
    {
      "cell_type": "code",
      "metadata": {
        "id": "QnH3EhzT6HTg",
        "colab_type": "code",
        "colab": {
          "base_uri": "https://localhost:8080/",
          "height": 34
        },
        "outputId": "8a236fec-095e-42a1-a44a-15dc21b874b0"
      },
      "source": [
        "int(term_clean.strip().strip('months'))"
      ],
      "execution_count": 81,
      "outputs": [
        {
          "output_type": "execute_result",
          "data": {
            "text/plain": [
              "36"
            ]
          },
          "metadata": {
            "tags": []
          },
          "execution_count": 81
        }
      ]
    },
    {
      "cell_type": "code",
      "metadata": {
        "id": "jxC53ffY9c3y",
        "colab_type": "code",
        "colab": {
          "base_uri": "https://localhost:8080/",
          "height": 34
        },
        "outputId": "efeff7fa-c88c-4e7b-d8a3-90f47e67a089"
      },
      "source": [
        "# Confirm it did what I wanted\n",
        "\n",
        "type(term_clean.strip().strip('months'))\n",
        "type(int(term_clean.strip().strip('months')))"
      ],
      "execution_count": 82,
      "outputs": [
        {
          "output_type": "execute_result",
          "data": {
            "text/plain": [
              "int"
            ]
          },
          "metadata": {
            "tags": []
          },
          "execution_count": 82
        }
      ]
    },
    {
      "cell_type": "code",
      "metadata": {
        "id": "Qhu8DMXd8aae",
        "colab_type": "code",
        "colab": {}
      },
      "source": [
        "def term_2_clean(mystring):\n",
        "  return int((mystring.strip('months')))"
      ],
      "execution_count": 0,
      "outputs": []
    },
    {
      "cell_type": "code",
      "metadata": {
        "id": "mGGbCzdS89WN",
        "colab_type": "code",
        "colab": {
          "base_uri": "https://localhost:8080/",
          "height": 34
        },
        "outputId": "46d1a96d-92ae-486a-de5a-45e21452e4d9"
      },
      "source": [
        "# testing my function\n",
        "term_2_clean(term_clean)"
      ],
      "execution_count": 84,
      "outputs": [
        {
          "output_type": "execute_result",
          "data": {
            "text/plain": [
              "36"
            ]
          },
          "metadata": {
            "tags": []
          },
          "execution_count": 84
        }
      ]
    },
    {
      "cell_type": "code",
      "metadata": {
        "id": "A00AkXv3dpg2",
        "colab_type": "code",
        "colab": {
          "base_uri": "https://localhost:8080/",
          "height": 153
        },
        "outputId": "f3c53ac1-3b6e-4dd6-e6bf-6a47b88d44d2"
      },
      "source": [
        "# Applied interger to whole 'term' column\n",
        "df['term_clean']=df['term'].apply(term_2_clean)\n",
        "df.columns"
      ],
      "execution_count": 85,
      "outputs": [
        {
          "output_type": "execute_result",
          "data": {
            "text/plain": [
              "Index(['id', 'member_id', 'loan_amnt', 'funded_amnt', 'funded_amnt_inv',\n",
              "       'term', 'int_rate', 'installment', 'grade', 'sub_grade',\n",
              "       ...\n",
              "       'hardship_payoff_balance_amount', 'hardship_last_payment_amount',\n",
              "       'debt_settlement_flag', 'debt_settlement_flag_date',\n",
              "       'settlement_status', 'settlement_date', 'settlement_amount',\n",
              "       'settlement_percentage', 'settlement_term', 'term_clean'],\n",
              "      dtype='object', length=145)"
            ]
          },
          "metadata": {
            "tags": []
          },
          "execution_count": 85
        }
      ]
    },
    {
      "cell_type": "code",
      "metadata": {
        "id": "XQPXav92eHro",
        "colab_type": "code",
        "colab": {
          "base_uri": "https://localhost:8080/",
          "height": 204
        },
        "outputId": "77d06128-1620-47b2-b843-734bc802891f"
      },
      "source": [
        "# Compare old and new column\n",
        "df[['term', 'term_clean']].head()"
      ],
      "execution_count": 86,
      "outputs": [
        {
          "output_type": "execute_result",
          "data": {
            "text/html": [
              "<div>\n",
              "<style scoped>\n",
              "    .dataframe tbody tr th:only-of-type {\n",
              "        vertical-align: middle;\n",
              "    }\n",
              "\n",
              "    .dataframe tbody tr th {\n",
              "        vertical-align: top;\n",
              "    }\n",
              "\n",
              "    .dataframe thead th {\n",
              "        text-align: right;\n",
              "    }\n",
              "</style>\n",
              "<table border=\"1\" class=\"dataframe\">\n",
              "  <thead>\n",
              "    <tr style=\"text-align: right;\">\n",
              "      <th></th>\n",
              "      <th>term</th>\n",
              "      <th>term_clean</th>\n",
              "    </tr>\n",
              "  </thead>\n",
              "  <tbody>\n",
              "    <tr>\n",
              "      <th>0</th>\n",
              "      <td>36 months</td>\n",
              "      <td>36</td>\n",
              "    </tr>\n",
              "    <tr>\n",
              "      <th>1</th>\n",
              "      <td>36 months</td>\n",
              "      <td>36</td>\n",
              "    </tr>\n",
              "    <tr>\n",
              "      <th>2</th>\n",
              "      <td>60 months</td>\n",
              "      <td>60</td>\n",
              "    </tr>\n",
              "    <tr>\n",
              "      <th>3</th>\n",
              "      <td>36 months</td>\n",
              "      <td>36</td>\n",
              "    </tr>\n",
              "    <tr>\n",
              "      <th>4</th>\n",
              "      <td>36 months</td>\n",
              "      <td>36</td>\n",
              "    </tr>\n",
              "  </tbody>\n",
              "</table>\n",
              "</div>"
            ],
            "text/plain": [
              "         term  term_clean\n",
              "0   36 months          36\n",
              "1   36 months          36\n",
              "2   60 months          60\n",
              "3   36 months          36\n",
              "4   36 months          36"
            ]
          },
          "metadata": {
            "tags": []
          },
          "execution_count": 86
        }
      ]
    },
    {
      "cell_type": "code",
      "metadata": {
        "id": "0PnMTQv811Yf",
        "colab_type": "code",
        "colab": {
          "base_uri": "https://localhost:8080/",
          "height": 153
        },
        "outputId": "91e4c447-f098-4e67-eb1d-f4b65911b86d"
      },
      "source": [
        "# Make a column named loan_status_is_great. It should contain the integer 1 if loan_status is \"Current\" or \"Fully Paid.\" Else it should contain the integer 0.\n",
        "df['loan_status_is_great']=df['loan_status']\n",
        "df.columns\n"
      ],
      "execution_count": 90,
      "outputs": [
        {
          "output_type": "execute_result",
          "data": {
            "text/plain": [
              "Index(['id', 'member_id', 'loan_amnt', 'funded_amnt', 'funded_amnt_inv',\n",
              "       'term', 'int_rate', 'installment', 'grade', 'sub_grade',\n",
              "       ...\n",
              "       'hardship_last_payment_amount', 'debt_settlement_flag',\n",
              "       'debt_settlement_flag_date', 'settlement_status', 'settlement_date',\n",
              "       'settlement_amount', 'settlement_percentage', 'settlement_term',\n",
              "       'term_clean', 'loan_status_is_great'],\n",
              "      dtype='object', length=146)"
            ]
          },
          "metadata": {
            "tags": []
          },
          "execution_count": 90
        }
      ]
    },
    {
      "cell_type": "code",
      "metadata": {
        "id": "QngTl4Qk9_9d",
        "colab_type": "code",
        "colab": {
          "base_uri": "https://localhost:8080/",
          "height": 173
        },
        "outputId": "e281b0b5-0bbe-4e33-92a0-75b567aa81fb"
      },
      "source": [
        "df[['loan_status', 'loan_status_is_great']].sample(4)"
      ],
      "execution_count": 91,
      "outputs": [
        {
          "output_type": "execute_result",
          "data": {
            "text/html": [
              "<div>\n",
              "<style scoped>\n",
              "    .dataframe tbody tr th:only-of-type {\n",
              "        vertical-align: middle;\n",
              "    }\n",
              "\n",
              "    .dataframe tbody tr th {\n",
              "        vertical-align: top;\n",
              "    }\n",
              "\n",
              "    .dataframe thead th {\n",
              "        text-align: right;\n",
              "    }\n",
              "</style>\n",
              "<table border=\"1\" class=\"dataframe\">\n",
              "  <thead>\n",
              "    <tr style=\"text-align: right;\">\n",
              "      <th></th>\n",
              "      <th>loan_status</th>\n",
              "      <th>loan_status_is_great</th>\n",
              "    </tr>\n",
              "  </thead>\n",
              "  <tbody>\n",
              "    <tr>\n",
              "      <th>100694</th>\n",
              "      <td>Current</td>\n",
              "      <td>Current</td>\n",
              "    </tr>\n",
              "    <tr>\n",
              "      <th>125048</th>\n",
              "      <td>Current</td>\n",
              "      <td>Current</td>\n",
              "    </tr>\n",
              "    <tr>\n",
              "      <th>48508</th>\n",
              "      <td>Fully Paid</td>\n",
              "      <td>Fully Paid</td>\n",
              "    </tr>\n",
              "    <tr>\n",
              "      <th>27307</th>\n",
              "      <td>Current</td>\n",
              "      <td>Current</td>\n",
              "    </tr>\n",
              "  </tbody>\n",
              "</table>\n",
              "</div>"
            ],
            "text/plain": [
              "       loan_status loan_status_is_great\n",
              "100694     Current              Current\n",
              "125048     Current              Current\n",
              "48508   Fully Paid           Fully Paid\n",
              "27307      Current              Current"
            ]
          },
          "metadata": {
            "tags": []
          },
          "execution_count": 91
        }
      ]
    },
    {
      "cell_type": "code",
      "metadata": {
        "id": "8jBRC3Cm-d_8",
        "colab_type": "code",
        "colab": {
          "base_uri": "https://localhost:8080/",
          "height": 34
        },
        "outputId": "8bef1953-b8a2-4054-c6de-1a29bce7eeba"
      },
      "source": [
        "# Created function for new column\n",
        "def loan_status_is_great(loan_status):\n",
        "  if (loan_status =='Current') or (loan_status =='Fully Paid'):\n",
        "    return '1'\n",
        "  else:\n",
        "    return '0'\n",
        "print(loan_status_is_great)\n",
        "\n"
      ],
      "execution_count": 9,
      "outputs": [
        {
          "output_type": "stream",
          "text": [
            "<function loan_status_is_great at 0x7f390ae56c80>\n"
          ],
          "name": "stdout"
        }
      ]
    },
    {
      "cell_type": "code",
      "metadata": {
        "id": "5PSu2rbNBUNQ",
        "colab_type": "code",
        "colab": {
          "base_uri": "https://localhost:8080/",
          "height": 153
        },
        "outputId": "43bd7433-68d5-469d-acc6-99fe608304bb"
      },
      "source": [
        "# New column is shown in columns dataframe\n",
        "df['loan_status_is_great']=df['loan_status'].apply(loan_status_is_great)\n",
        "df.columns"
      ],
      "execution_count": 10,
      "outputs": [
        {
          "output_type": "execute_result",
          "data": {
            "text/plain": [
              "Index(['id', 'member_id', 'loan_amnt', 'funded_amnt', 'funded_amnt_inv',\n",
              "       'term', 'int_rate', 'installment', 'grade', 'sub_grade',\n",
              "       ...\n",
              "       'hardship_payoff_balance_amount', 'hardship_last_payment_amount',\n",
              "       'debt_settlement_flag', 'debt_settlement_flag_date',\n",
              "       'settlement_status', 'settlement_date', 'settlement_amount',\n",
              "       'settlement_percentage', 'settlement_term', 'loan_status_is_great'],\n",
              "      dtype='object', length=145)"
            ]
          },
          "metadata": {
            "tags": []
          },
          "execution_count": 10
        }
      ]
    },
    {
      "cell_type": "code",
      "metadata": {
        "id": "qKEjZBQ9DLzd",
        "colab_type": "code",
        "colab": {
          "base_uri": "https://localhost:8080/",
          "height": 421
        },
        "outputId": "0f7cbb74-9ec3-4467-8eb8-82fa23aac8f1"
      },
      "source": [
        "#Compared old and new values with successful results\n",
        "df[['loan_status', 'loan_status_is_great']].sample(12)"
      ],
      "execution_count": 102,
      "outputs": [
        {
          "output_type": "execute_result",
          "data": {
            "text/html": [
              "<div>\n",
              "<style scoped>\n",
              "    .dataframe tbody tr th:only-of-type {\n",
              "        vertical-align: middle;\n",
              "    }\n",
              "\n",
              "    .dataframe tbody tr th {\n",
              "        vertical-align: top;\n",
              "    }\n",
              "\n",
              "    .dataframe thead th {\n",
              "        text-align: right;\n",
              "    }\n",
              "</style>\n",
              "<table border=\"1\" class=\"dataframe\">\n",
              "  <thead>\n",
              "    <tr style=\"text-align: right;\">\n",
              "      <th></th>\n",
              "      <th>loan_status</th>\n",
              "      <th>loan_status_is_great</th>\n",
              "    </tr>\n",
              "  </thead>\n",
              "  <tbody>\n",
              "    <tr>\n",
              "      <th>43388</th>\n",
              "      <td>Fully Paid</td>\n",
              "      <td>1</td>\n",
              "    </tr>\n",
              "    <tr>\n",
              "      <th>43284</th>\n",
              "      <td>Current</td>\n",
              "      <td>1</td>\n",
              "    </tr>\n",
              "    <tr>\n",
              "      <th>122354</th>\n",
              "      <td>Current</td>\n",
              "      <td>1</td>\n",
              "    </tr>\n",
              "    <tr>\n",
              "      <th>5913</th>\n",
              "      <td>Current</td>\n",
              "      <td>1</td>\n",
              "    </tr>\n",
              "    <tr>\n",
              "      <th>51088</th>\n",
              "      <td>Charged Off</td>\n",
              "      <td>0</td>\n",
              "    </tr>\n",
              "    <tr>\n",
              "      <th>58214</th>\n",
              "      <td>Fully Paid</td>\n",
              "      <td>1</td>\n",
              "    </tr>\n",
              "    <tr>\n",
              "      <th>99869</th>\n",
              "      <td>Current</td>\n",
              "      <td>1</td>\n",
              "    </tr>\n",
              "    <tr>\n",
              "      <th>35021</th>\n",
              "      <td>Current</td>\n",
              "      <td>1</td>\n",
              "    </tr>\n",
              "    <tr>\n",
              "      <th>54850</th>\n",
              "      <td>Charged Off</td>\n",
              "      <td>0</td>\n",
              "    </tr>\n",
              "    <tr>\n",
              "      <th>67787</th>\n",
              "      <td>Current</td>\n",
              "      <td>1</td>\n",
              "    </tr>\n",
              "    <tr>\n",
              "      <th>15120</th>\n",
              "      <td>Current</td>\n",
              "      <td>1</td>\n",
              "    </tr>\n",
              "    <tr>\n",
              "      <th>30718</th>\n",
              "      <td>Fully Paid</td>\n",
              "      <td>1</td>\n",
              "    </tr>\n",
              "  </tbody>\n",
              "</table>\n",
              "</div>"
            ],
            "text/plain": [
              "        loan_status loan_status_is_great\n",
              "43388    Fully Paid                    1\n",
              "43284       Current                    1\n",
              "122354      Current                    1\n",
              "5913        Current                    1\n",
              "51088   Charged Off                    0\n",
              "58214    Fully Paid                    1\n",
              "99869       Current                    1\n",
              "35021       Current                    1\n",
              "54850   Charged Off                    0\n",
              "67787       Current                    1\n",
              "15120       Current                    1\n",
              "30718    Fully Paid                    1"
            ]
          },
          "metadata": {
            "tags": []
          },
          "execution_count": 102
        }
      ]
    },
    {
      "cell_type": "code",
      "metadata": {
        "id": "jZNgW6DfEi61",
        "colab_type": "code",
        "colab": {
          "base_uri": "https://localhost:8080/",
          "height": 170
        },
        "outputId": "b8b12b89-bd3a-4251-89b2-259f8db73b03"
      },
      "source": [
        "# Make last_pymnt_d_month and last_pymnt_d_year columns.\n",
        "for col in df.columns:\n",
        "  if (col.endswith('_date')) or (col.endswith('_d')):\n",
        "    print(col)"
      ],
      "execution_count": 11,
      "outputs": [
        {
          "output_type": "stream",
          "text": [
            "issue_d\n",
            "last_pymnt_d\n",
            "next_pymnt_d\n",
            "last_credit_pull_d\n",
            "hardship_start_date\n",
            "hardship_end_date\n",
            "payment_plan_start_date\n",
            "debt_settlement_flag_date\n",
            "settlement_date\n"
          ],
          "name": "stdout"
        }
      ]
    },
    {
      "cell_type": "code",
      "metadata": {
        "id": "SXOdeBtMKdX5",
        "colab_type": "code",
        "colab": {
          "base_uri": "https://localhost:8080/",
          "height": 34
        },
        "outputId": "0dc7962c-bb2d-48b0-ec9a-e180feacb9cf"
      },
      "source": [
        "df['last_pymnt_d'].dtype"
      ],
      "execution_count": 114,
      "outputs": [
        {
          "output_type": "execute_result",
          "data": {
            "text/plain": [
              "dtype('O')"
            ]
          },
          "metadata": {
            "tags": []
          },
          "execution_count": 114
        }
      ]
    },
    {
      "cell_type": "code",
      "metadata": {
        "id": "owktaxp-KwLR",
        "colab_type": "code",
        "colab": {
          "base_uri": "https://localhost:8080/",
          "height": 221
        },
        "outputId": "f9e287b8-0aea-4d45-ddfc-8d84698efba2"
      },
      "source": [
        "df.loc[0: 10, 'last_pymnt_d']"
      ],
      "execution_count": 115,
      "outputs": [
        {
          "output_type": "execute_result",
          "data": {
            "text/plain": [
              "0     Aug-2019\n",
              "1     Jul-2019\n",
              "2     Oct-2019\n",
              "3     Oct-2019\n",
              "4     Oct-2019\n",
              "5     Oct-2019\n",
              "6     Sep-2019\n",
              "7     Oct-2019\n",
              "8     Oct-2019\n",
              "9     Oct-2019\n",
              "10    Oct-2019\n",
              "Name: last_pymnt_d, dtype: object"
            ]
          },
          "metadata": {
            "tags": []
          },
          "execution_count": 115
        }
      ]
    },
    {
      "cell_type": "code",
      "metadata": {
        "id": "LEfwZFZdC7xc",
        "colab_type": "code",
        "colab": {
          "base_uri": "https://localhost:8080/",
          "height": 204
        },
        "outputId": "6398614a-083d-4591-ed42-a3d9f6dc3a15"
      },
      "source": [
        "df['last_pymnt_d_month']=pd.to_datetime(df['last_pymnt_d'], infer_datetime_format=True)\n",
        "df[['last_pymnt_d', 'last_pymnt_d_month']].head()"
      ],
      "execution_count": 13,
      "outputs": [
        {
          "output_type": "execute_result",
          "data": {
            "text/html": [
              "<div>\n",
              "<style scoped>\n",
              "    .dataframe tbody tr th:only-of-type {\n",
              "        vertical-align: middle;\n",
              "    }\n",
              "\n",
              "    .dataframe tbody tr th {\n",
              "        vertical-align: top;\n",
              "    }\n",
              "\n",
              "    .dataframe thead th {\n",
              "        text-align: right;\n",
              "    }\n",
              "</style>\n",
              "<table border=\"1\" class=\"dataframe\">\n",
              "  <thead>\n",
              "    <tr style=\"text-align: right;\">\n",
              "      <th></th>\n",
              "      <th>last_pymnt_d</th>\n",
              "      <th>last_pymnt_d_month</th>\n",
              "    </tr>\n",
              "  </thead>\n",
              "  <tbody>\n",
              "    <tr>\n",
              "      <th>0</th>\n",
              "      <td>Aug-2019</td>\n",
              "      <td>2019-08-01</td>\n",
              "    </tr>\n",
              "    <tr>\n",
              "      <th>1</th>\n",
              "      <td>Jul-2019</td>\n",
              "      <td>2019-07-01</td>\n",
              "    </tr>\n",
              "    <tr>\n",
              "      <th>2</th>\n",
              "      <td>Oct-2019</td>\n",
              "      <td>2019-10-01</td>\n",
              "    </tr>\n",
              "    <tr>\n",
              "      <th>3</th>\n",
              "      <td>Oct-2019</td>\n",
              "      <td>2019-10-01</td>\n",
              "    </tr>\n",
              "    <tr>\n",
              "      <th>4</th>\n",
              "      <td>Oct-2019</td>\n",
              "      <td>2019-10-01</td>\n",
              "    </tr>\n",
              "  </tbody>\n",
              "</table>\n",
              "</div>"
            ],
            "text/plain": [
              "  last_pymnt_d last_pymnt_d_month\n",
              "0     Aug-2019         2019-08-01\n",
              "1     Jul-2019         2019-07-01\n",
              "2     Oct-2019         2019-10-01\n",
              "3     Oct-2019         2019-10-01\n",
              "4     Oct-2019         2019-10-01"
            ]
          },
          "metadata": {
            "tags": []
          },
          "execution_count": 13
        }
      ]
    },
    {
      "cell_type": "code",
      "metadata": {
        "id": "CTc5GTInHtMx",
        "colab_type": "code",
        "colab": {
          "base_uri": "https://localhost:8080/",
          "height": 204
        },
        "outputId": "a61f46c0-b332-49fc-f1b7-ee905c28a4ac"
      },
      "source": [
        "df['last_pymnt_d_year']=pd.to_datetime(df['last_pymnt_d'], infer_datetime_format=True)\n",
        "df[['last_pymnt_d', 'last_pymnt_d_year']].head()"
      ],
      "execution_count": 17,
      "outputs": [
        {
          "output_type": "execute_result",
          "data": {
            "text/html": [
              "<div>\n",
              "<style scoped>\n",
              "    .dataframe tbody tr th:only-of-type {\n",
              "        vertical-align: middle;\n",
              "    }\n",
              "\n",
              "    .dataframe tbody tr th {\n",
              "        vertical-align: top;\n",
              "    }\n",
              "\n",
              "    .dataframe thead th {\n",
              "        text-align: right;\n",
              "    }\n",
              "</style>\n",
              "<table border=\"1\" class=\"dataframe\">\n",
              "  <thead>\n",
              "    <tr style=\"text-align: right;\">\n",
              "      <th></th>\n",
              "      <th>last_pymnt_d</th>\n",
              "      <th>last_pymnt_d_year</th>\n",
              "    </tr>\n",
              "  </thead>\n",
              "  <tbody>\n",
              "    <tr>\n",
              "      <th>0</th>\n",
              "      <td>Aug-2019</td>\n",
              "      <td>2019-08-01</td>\n",
              "    </tr>\n",
              "    <tr>\n",
              "      <th>1</th>\n",
              "      <td>Jul-2019</td>\n",
              "      <td>2019-07-01</td>\n",
              "    </tr>\n",
              "    <tr>\n",
              "      <th>2</th>\n",
              "      <td>Oct-2019</td>\n",
              "      <td>2019-10-01</td>\n",
              "    </tr>\n",
              "    <tr>\n",
              "      <th>3</th>\n",
              "      <td>Oct-2019</td>\n",
              "      <td>2019-10-01</td>\n",
              "    </tr>\n",
              "    <tr>\n",
              "      <th>4</th>\n",
              "      <td>Oct-2019</td>\n",
              "      <td>2019-10-01</td>\n",
              "    </tr>\n",
              "  </tbody>\n",
              "</table>\n",
              "</div>"
            ],
            "text/plain": [
              "  last_pymnt_d last_pymnt_d_year\n",
              "0     Aug-2019        2019-08-01\n",
              "1     Jul-2019        2019-07-01\n",
              "2     Oct-2019        2019-10-01\n",
              "3     Oct-2019        2019-10-01\n",
              "4     Oct-2019        2019-10-01"
            ]
          },
          "metadata": {
            "tags": []
          },
          "execution_count": 17
        }
      ]
    },
    {
      "cell_type": "code",
      "metadata": {
        "id": "Tu6bmMVPLJ9t",
        "colab_type": "code",
        "colab": {
          "base_uri": "https://localhost:8080/",
          "height": 235
        },
        "outputId": "2c8c4da8-1342-4269-e1e4-fdb1f9e97f1e"
      },
      "source": [
        "# Last_pymnt_d_month column created and converted\n",
        "df['month']=df['last_pymnt_d_month'].dt.month\n",
        "\n",
        "df[['last_pymnt_d_month', 'month']].sample(6)"
      ],
      "execution_count": 16,
      "outputs": [
        {
          "output_type": "execute_result",
          "data": {
            "text/html": [
              "<div>\n",
              "<style scoped>\n",
              "    .dataframe tbody tr th:only-of-type {\n",
              "        vertical-align: middle;\n",
              "    }\n",
              "\n",
              "    .dataframe tbody tr th {\n",
              "        vertical-align: top;\n",
              "    }\n",
              "\n",
              "    .dataframe thead th {\n",
              "        text-align: right;\n",
              "    }\n",
              "</style>\n",
              "<table border=\"1\" class=\"dataframe\">\n",
              "  <thead>\n",
              "    <tr style=\"text-align: right;\">\n",
              "      <th></th>\n",
              "      <th>last_pymnt_d_month</th>\n",
              "      <th>month</th>\n",
              "    </tr>\n",
              "  </thead>\n",
              "  <tbody>\n",
              "    <tr>\n",
              "      <th>6047</th>\n",
              "      <td>2019-06-01</td>\n",
              "      <td>6.0</td>\n",
              "    </tr>\n",
              "    <tr>\n",
              "      <th>49291</th>\n",
              "      <td>2019-10-01</td>\n",
              "      <td>10.0</td>\n",
              "    </tr>\n",
              "    <tr>\n",
              "      <th>65540</th>\n",
              "      <td>2019-10-01</td>\n",
              "      <td>10.0</td>\n",
              "    </tr>\n",
              "    <tr>\n",
              "      <th>97520</th>\n",
              "      <td>2019-10-01</td>\n",
              "      <td>10.0</td>\n",
              "    </tr>\n",
              "    <tr>\n",
              "      <th>112900</th>\n",
              "      <td>2019-06-01</td>\n",
              "      <td>6.0</td>\n",
              "    </tr>\n",
              "    <tr>\n",
              "      <th>64263</th>\n",
              "      <td>2019-05-01</td>\n",
              "      <td>5.0</td>\n",
              "    </tr>\n",
              "  </tbody>\n",
              "</table>\n",
              "</div>"
            ],
            "text/plain": [
              "       last_pymnt_d_month  month\n",
              "6047           2019-06-01    6.0\n",
              "49291          2019-10-01   10.0\n",
              "65540          2019-10-01   10.0\n",
              "97520          2019-10-01   10.0\n",
              "112900         2019-06-01    6.0\n",
              "64263          2019-05-01    5.0"
            ]
          },
          "metadata": {
            "tags": []
          },
          "execution_count": 16
        }
      ]
    },
    {
      "cell_type": "code",
      "metadata": {
        "id": "cdbfLXtHF-2M",
        "colab_type": "code",
        "colab": {
          "base_uri": "https://localhost:8080/",
          "height": 235
        },
        "outputId": "f18eeb45-adff-4155-f44b-7d6fdbb5d745"
      },
      "source": [
        "# Last_pymnt_d_year column created and converted \n",
        "df['year']=df['last_pymnt_d_year'].dt.year\n",
        "\n",
        "df[['last_pymnt_d_year', 'year']].sample(6)"
      ],
      "execution_count": 18,
      "outputs": [
        {
          "output_type": "execute_result",
          "data": {
            "text/html": [
              "<div>\n",
              "<style scoped>\n",
              "    .dataframe tbody tr th:only-of-type {\n",
              "        vertical-align: middle;\n",
              "    }\n",
              "\n",
              "    .dataframe tbody tr th {\n",
              "        vertical-align: top;\n",
              "    }\n",
              "\n",
              "    .dataframe thead th {\n",
              "        text-align: right;\n",
              "    }\n",
              "</style>\n",
              "<table border=\"1\" class=\"dataframe\">\n",
              "  <thead>\n",
              "    <tr style=\"text-align: right;\">\n",
              "      <th></th>\n",
              "      <th>last_pymnt_d_year</th>\n",
              "      <th>year</th>\n",
              "    </tr>\n",
              "  </thead>\n",
              "  <tbody>\n",
              "    <tr>\n",
              "      <th>2725</th>\n",
              "      <td>2019-10-01</td>\n",
              "      <td>2019.0</td>\n",
              "    </tr>\n",
              "    <tr>\n",
              "      <th>12964</th>\n",
              "      <td>2019-10-01</td>\n",
              "      <td>2019.0</td>\n",
              "    </tr>\n",
              "    <tr>\n",
              "      <th>74990</th>\n",
              "      <td>2019-10-01</td>\n",
              "      <td>2019.0</td>\n",
              "    </tr>\n",
              "    <tr>\n",
              "      <th>54036</th>\n",
              "      <td>2019-10-01</td>\n",
              "      <td>2019.0</td>\n",
              "    </tr>\n",
              "    <tr>\n",
              "      <th>94492</th>\n",
              "      <td>2019-10-01</td>\n",
              "      <td>2019.0</td>\n",
              "    </tr>\n",
              "    <tr>\n",
              "      <th>34489</th>\n",
              "      <td>2019-10-01</td>\n",
              "      <td>2019.0</td>\n",
              "    </tr>\n",
              "  </tbody>\n",
              "</table>\n",
              "</div>"
            ],
            "text/plain": [
              "      last_pymnt_d_year    year\n",
              "2725         2019-10-01  2019.0\n",
              "12964        2019-10-01  2019.0\n",
              "74990        2019-10-01  2019.0\n",
              "54036        2019-10-01  2019.0\n",
              "94492        2019-10-01  2019.0\n",
              "34489        2019-10-01  2019.0"
            ]
          },
          "metadata": {
            "tags": []
          },
          "execution_count": 18
        }
      ]
    },
    {
      "cell_type": "code",
      "metadata": {
        "id": "-ZxcwrxVIIup",
        "colab_type": "code",
        "colab": {
          "base_uri": "https://localhost:8080/",
          "height": 51
        },
        "outputId": "505c3ee2-e9e1-4d33-f85d-5f9ca1448b1e"
      },
      "source": [
        "for col in df.columns:\n",
        "  if (col.endswith('_month')) or (col.endswith('_year')):\n",
        "    print(col)"
      ],
      "execution_count": 19,
      "outputs": [
        {
          "output_type": "stream",
          "text": [
            "last_pymnt_d_month\n",
            "last_pymnt_d_year\n"
          ],
          "name": "stdout"
        }
      ]
    },
    {
      "cell_type": "markdown",
      "metadata": {
        "colab_type": "text",
        "id": "L8k0LiHmo5EU"
      },
      "source": [
        "# Stretch Goals\n",
        "\n",
        "You can do more with the LendingClub or Instacart datasets.\n",
        "\n",
        "LendingClub options:\n",
        "- There's one other column in the dataframe with percent signs. Remove them and convert to floats. You'll need to handle missing values.\n",
        "- Modify the `emp_title` column to replace titles with 'Other' if the title is not in the top 20. \n",
        "- Take initiatve and work on your own ideas!\n",
        "\n",
        "Instacart options:\n",
        "- Read [Instacart Market Basket Analysis, Winner's Interview: 2nd place, Kazuki Onodera](http://blog.kaggle.com/2017/09/21/instacart-market-basket-analysis-winners-interview-2nd-place-kazuki-onodera/), especially the **Feature Engineering** section. (Can you choose one feature from his bulleted lists, and try to engineer it with pandas code?)\n",
        "- Read and replicate parts of [Simple Exploration Notebook - Instacart](https://www.kaggle.com/sudalairajkumar/simple-exploration-notebook-instacart). (It's the Python Notebook with the most upvotes for this Kaggle competition.)\n",
        "- Take initiative and work on your own ideas!"
      ]
    },
    {
      "cell_type": "markdown",
      "metadata": {
        "colab_type": "text",
        "id": "0_7PXF7lpEXg"
      },
      "source": [
        "You can uncomment and run the cells below to re-download and extract the Instacart data"
      ]
    },
    {
      "cell_type": "code",
      "metadata": {
        "id": "urIePNa0yNG6",
        "colab_type": "code",
        "colab": {}
      },
      "source": [
        "# !wget https://s3.amazonaws.com/instacart-datasets/instacart_online_grocery_shopping_2017_05_01.tar.gz"
      ],
      "execution_count": 0,
      "outputs": []
    },
    {
      "cell_type": "code",
      "metadata": {
        "id": "X9zEyu-uyNG8",
        "colab_type": "code",
        "colab": {}
      },
      "source": [
        "# !tar --gunzip --extract --verbose --file=instacart_online_grocery_shopping_2017_05_01.tar.gz"
      ],
      "execution_count": 0,
      "outputs": []
    },
    {
      "cell_type": "code",
      "metadata": {
        "id": "Y3IqrhlpyNG-",
        "colab_type": "code",
        "colab": {}
      },
      "source": [
        "# %cd instacart_2017_05_01"
      ],
      "execution_count": 0,
      "outputs": []
    }
  ]
}