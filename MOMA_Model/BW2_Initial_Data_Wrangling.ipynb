{
  "nbformat": 4,
  "nbformat_minor": 0,
  "metadata": {
    "kernelspec": {
      "display_name": "Python 3",
      "language": "python",
      "name": "python3"
    },
    "language_info": {
      "codemirror_mode": {
        "name": "ipython",
        "version": 3
      },
      "file_extension": ".py",
      "mimetype": "text/x-python",
      "name": "python",
      "nbconvert_exporter": "python",
      "pygments_lexer": "ipython3",
      "version": "3.7.6"
    },
    "colab": {
      "name": "BW2_Initial_Data_Wrangling.ipynb",
      "provenance": [],
      "collapsed_sections": [],
      "include_colab_link": true
    },
    "accelerator": "GPU"
  },
  "cells": [
    {
      "cell_type": "markdown",
      "metadata": {
        "id": "view-in-github",
        "colab_type": "text"
      },
      "source": [
        "<a href=\"https://colab.research.google.com/github/tomashphill/DS-Unit-1-Sprint-1-Data-Wrangling-and-Storytelling/blob/master/MOMA_Model/BW2_Initial_Data_Wrangling.ipynb\" target=\"_parent\"><img src=\"https://colab.research.google.com/assets/colab-badge.svg\" alt=\"Open In Colab\"/></a>"
      ]
    },
    {
      "cell_type": "code",
      "metadata": {
        "id": "xafpSJIptKsN",
        "colab_type": "code",
        "colab": {}
      },
      "source": [
        "import pandas as pd\n",
        "import numpy as np"
      ],
      "execution_count": null,
      "outputs": []
    },
    {
      "cell_type": "code",
      "metadata": {
        "id": "jou8mjR1tMM3",
        "colab_type": "code",
        "colab": {}
      },
      "source": [
        "# read in artists and artworks from the MOMA dataset\n",
        "artists = pd.read_csv('https://media.githubusercontent.com/media/MuseumofModernArt/collection/master/Artists.csv')\n",
        "artworks = pd.read_csv('https://media.githubusercontent.com/media/MuseumofModernArt/collection/master/Artworks.csv')"
      ],
      "execution_count": null,
      "outputs": []
    },
    {
      "cell_type": "code",
      "metadata": {
        "id": "uSgHiM561S5E",
        "colab_type": "code",
        "colab": {
          "base_uri": "https://localhost:8080/",
          "height": 67
        },
        "outputId": "a8ff7a1f-e1f3-4645-c3fd-ace1a537adad"
      },
      "source": [
        "# I will use the subset of drawings and paintings for predictions,\n",
        "# when the object is classified as painting or drawing\n",
        "drawings_and_paintings = (artworks['Classification'] == 'Painting') \\\n",
        "                       | (artworks['Classification'] == 'Drawing')\n",
        "\n",
        "artworks = artworks[drawings_and_paintings]\n",
        "artworks['Classification'].value_counts()"
      ],
      "execution_count": null,
      "outputs": [
        {
          "output_type": "execute_result",
          "data": {
            "text/plain": [
              "Drawing     13372\n",
              "Painting     2362\n",
              "Name: Classification, dtype: int64"
            ]
          },
          "metadata": {
            "tags": []
          },
          "execution_count": 18
        }
      ]
    },
    {
      "cell_type": "code",
      "metadata": {
        "id": "zdGdAdA0zvHs",
        "colab_type": "code",
        "colab": {}
      },
      "source": [
        "# merge artworks and artists on 'Artist'\n",
        "# in artists.csv, DisplayName is the artist name, therefore\n",
        "# to merge, I need it so both have the same column name: artist\n",
        "artists = artists.rename(columns={'DisplayName':'Artist'})\n",
        "artworks = pd.merge(artworks, artists, how='inner', on='Artist')"
      ],
      "execution_count": null,
      "outputs": []
    },
    {
      "cell_type": "code",
      "metadata": {
        "id": "r4mdYloe0WA3",
        "colab_type": "code",
        "colab": {
          "base_uri": "https://localhost:8080/",
          "height": 198
        },
        "outputId": "0989c3fc-4e27-41b4-9865-ae4e275902d3"
      },
      "source": [
        "artworks.head(1)"
      ],
      "execution_count": null,
      "outputs": [
        {
          "output_type": "execute_result",
          "data": {
            "text/html": [
              "<div>\n",
              "<style scoped>\n",
              "    .dataframe tbody tr th:only-of-type {\n",
              "        vertical-align: middle;\n",
              "    }\n",
              "\n",
              "    .dataframe tbody tr th {\n",
              "        vertical-align: top;\n",
              "    }\n",
              "\n",
              "    .dataframe thead th {\n",
              "        text-align: right;\n",
              "    }\n",
              "</style>\n",
              "<table border=\"1\" class=\"dataframe\">\n",
              "  <thead>\n",
              "    <tr style=\"text-align: right;\">\n",
              "      <th></th>\n",
              "      <th>Title</th>\n",
              "      <th>Artist</th>\n",
              "      <th>ConstituentID_x</th>\n",
              "      <th>ArtistBio_x</th>\n",
              "      <th>Nationality_x</th>\n",
              "      <th>BeginDate_x</th>\n",
              "      <th>EndDate_x</th>\n",
              "      <th>Gender_x</th>\n",
              "      <th>Date</th>\n",
              "      <th>Medium</th>\n",
              "      <th>Dimensions</th>\n",
              "      <th>CreditLine</th>\n",
              "      <th>AccessionNumber</th>\n",
              "      <th>Classification</th>\n",
              "      <th>Department</th>\n",
              "      <th>DateAcquired</th>\n",
              "      <th>Cataloged</th>\n",
              "      <th>ObjectID</th>\n",
              "      <th>URL</th>\n",
              "      <th>ThumbnailURL</th>\n",
              "      <th>Circumference (cm)</th>\n",
              "      <th>Depth (cm)</th>\n",
              "      <th>Diameter (cm)</th>\n",
              "      <th>Height (cm)</th>\n",
              "      <th>Length (cm)</th>\n",
              "      <th>Weight (kg)</th>\n",
              "      <th>Width (cm)</th>\n",
              "      <th>Seat Height (cm)</th>\n",
              "      <th>Duration (sec.)</th>\n",
              "      <th>ConstituentID_y</th>\n",
              "      <th>ArtistBio_y</th>\n",
              "      <th>Nationality_y</th>\n",
              "      <th>Gender_y</th>\n",
              "      <th>BeginDate_y</th>\n",
              "      <th>EndDate_y</th>\n",
              "      <th>Wiki QID</th>\n",
              "      <th>ULAN</th>\n",
              "    </tr>\n",
              "  </thead>\n",
              "  <tbody>\n",
              "    <tr>\n",
              "      <th>0</th>\n",
              "      <td>\"Society of Monkeys\" diploma</td>\n",
              "      <td>Aleksei Remizov</td>\n",
              "      <td>14185</td>\n",
              "      <td>(Russian, 1877–1957)</td>\n",
              "      <td>()</td>\n",
              "      <td>(1877)</td>\n",
              "      <td>(1957)</td>\n",
              "      <td>(Male)</td>\n",
              "      <td>1922</td>\n",
              "      <td>Watercolor, ink, cut-and-pasted colored and me...</td>\n",
              "      <td>sheet (irreg.): 9 7/16 x 12 1/2\" (23.9 x 31.8 cm)</td>\n",
              "      <td>Gift of The Judith Rothschild Foundation</td>\n",
              "      <td>2.2001</td>\n",
              "      <td>Drawing</td>\n",
              "      <td>Drawings &amp; Prints</td>\n",
              "      <td>2001-01-24</td>\n",
              "      <td>Y</td>\n",
              "      <td>9020</td>\n",
              "      <td>http://www.moma.org/collection/works/9020</td>\n",
              "      <td>http://www.moma.org/media/W1siZiIsIjI0OTM4NiJd...</td>\n",
              "      <td>NaN</td>\n",
              "      <td>NaN</td>\n",
              "      <td>NaN</td>\n",
              "      <td>23.9</td>\n",
              "      <td>NaN</td>\n",
              "      <td>NaN</td>\n",
              "      <td>31.8</td>\n",
              "      <td>NaN</td>\n",
              "      <td>NaN</td>\n",
              "      <td>14185</td>\n",
              "      <td>Russian, 1877–1957</td>\n",
              "      <td>NaN</td>\n",
              "      <td>Male</td>\n",
              "      <td>1877</td>\n",
              "      <td>1957</td>\n",
              "      <td>NaN</td>\n",
              "      <td>NaN</td>\n",
              "    </tr>\n",
              "  </tbody>\n",
              "</table>\n",
              "</div>"
            ],
            "text/plain": [
              "                          Title           Artist  ... Wiki QID ULAN\n",
              "0  \"Society of Monkeys\" diploma  Aleksei Remizov  ...      NaN  NaN\n",
              "\n",
              "[1 rows x 37 columns]"
            ]
          },
          "metadata": {
            "tags": []
          },
          "execution_count": 20
        }
      ]
    },
    {
      "cell_type": "code",
      "metadata": {
        "id": "BFaAQa0WA2hV",
        "colab_type": "code",
        "colab": {
          "base_uri": "https://localhost:8080/",
          "height": 202
        },
        "outputId": "059f6992-f12b-41f2-e0a1-0b78720651bb"
      },
      "source": [
        "# display percent of null values in columns where the percent\n",
        "# is greater than 10%. These are indicative of columns I will most\n",
        "# definitely drop.\n",
        "((artworks.isnull().sum() / artworks.shape[0] * 100)\n",
        "  .loc[lambda x: x > 10]\n",
        "  .apply(round)\n",
        "  .apply(str)\n",
        "  .apply(lambda x: x + '%')\n",
        ")"
      ],
      "execution_count": null,
      "outputs": [
        {
          "output_type": "execute_result",
          "data": {
            "text/plain": [
              "ThumbnailURL           22%\n",
              "Circumference (cm)    100%\n",
              "Depth (cm)             90%\n",
              "Diameter (cm)         100%\n",
              "Length (cm)           100%\n",
              "Weight (kg)           100%\n",
              "Seat Height (cm)      100%\n",
              "Duration (sec.)       100%\n",
              "Wiki QID               31%\n",
              "ULAN                   31%\n",
              "dtype: object"
            ]
          },
          "metadata": {
            "tags": []
          },
          "execution_count": 21
        }
      ]
    },
    {
      "cell_type": "code",
      "metadata": {
        "id": "lVCwBWwBAC7W",
        "colab_type": "code",
        "colab": {}
      },
      "source": [
        "def wrangle(df):\n",
        "  df = df.copy()\n",
        "\n",
        "  # add feature labeling whether artwork has title or not\n",
        "  df['Title?'] = (df['Title'] != 'Untitled')\n",
        "\n",
        "  # drop all these! Useless! Off with them!\n",
        "  toDrop = ['ConstituentID_x', 'ArtistBio_x', 'BeginDate_x', 'EndDate_x', \n",
        "            'Gender_x', 'CreditLine', 'AccessionNumber', 'Department', \n",
        "            'DateAcquired', 'Cataloged', 'ObjectID', 'URL', \n",
        "            'Circumference (cm)', 'Depth (cm)', 'Diameter (cm)',\n",
        "            'Length (cm)', 'Weight (kg)', 'Seat Height (cm)',\n",
        "            'Duration (sec.)', 'Wiki QID', 'ULAN', 'ConstituentID_y',\n",
        "            'ArtistBio_y', 'BeginDate_y', 'EndDate_y', 'Nationality_x',\n",
        "            'Dimensions', 'Medium']\n",
        "\n",
        "  df = df.drop(toDrop, axis=1)\n",
        "\n",
        "  # drop any objects without a ThumbnailURL\n",
        "  df = df.dropna(subset=['ThumbnailURL'])\n",
        "\n",
        "  toRename = {'Nationality_y': 'Nationality',\n",
        "              'Gender_y': 'Gender'}\n",
        "\n",
        "  df = df.rename(columns=toRename)\n",
        "\n",
        "  # since I don't know regex stuff yet, this is the best I can do to extract\n",
        "  # irregular entries of date in the 'Date' column.\n",
        "  def keep(char):\n",
        "    return (char.isdigit() or char =='-' or char == ',')\n",
        "\n",
        "  df['Date'] = ( df['Date']\n",
        "            .astype(str)\n",
        "\n",
        "            # filter strings for only digits=, '-', and ','\n",
        "            # then, replacce ',' with '-'\n",
        "            .apply(lambda s: ''.join(i for i in s if keep(i)))\n",
        "            .apply(lambda s: s.replace(',','-'))\n",
        "\n",
        "            # split into list of strings where '-' occurs, if list has only 2\n",
        "            # dates (indicative of dates where it is a range of years, such as\n",
        "            # 1943-1945)\n",
        "            .apply(lambda s: ''.join(d for d in s.split('-') if len(d) != 2))\n",
        "\n",
        "            # if string is empty, set it to 'n/a'\n",
        "            .apply(lambda s: 'n/a' if s == '' else s)\n",
        "\n",
        "            # if length of string is NOT a factor of 4 (meaning it might\n",
        "            # contain days of the month, such as May 24, 1996)\n",
        "            .apply(lambda s: s[-4:] if len(s) % 4 == 0 else 'n/a')\n",
        "  )\n",
        "  # get rid of unavailable dates\n",
        "  df = df[df['Date'] != 'n/a']\n",
        "\n",
        "  df['Date'] = df['Date'].astype(int)\n",
        "\n",
        "  return df"
      ],
      "execution_count": null,
      "outputs": []
    },
    {
      "cell_type": "code",
      "metadata": {
        "id": "nw1SbG1-B7x7",
        "colab_type": "code",
        "colab": {}
      },
      "source": [
        "artworks = wrangle(artworks)\n",
        "\n",
        "# split thumbnailURL into its own dataframe\n",
        "thumbnails = artworks['ThumbnailURL']\n",
        "artworks = artworks.drop(['ThumbnailURL'], axis=1)"
      ],
      "execution_count": null,
      "outputs": []
    },
    {
      "cell_type": "code",
      "metadata": {
        "id": "xdnJRX4rN1Xa",
        "colab_type": "code",
        "colab": {
          "base_uri": "https://localhost:8080/",
          "height": 218
        },
        "outputId": "1b5a6831-6821-4900-ecb9-f53e4601eb74"
      },
      "source": [
        "# checking if my 'Date' wrangling worked\n",
        "artworks['Date'].sort_values()"
      ],
      "execution_count": null,
      "outputs": [
        {
          "output_type": "execute_result",
          "data": {
            "text/plain": [
              "619      1865\n",
              "615      1865\n",
              "667      1866\n",
              "625      1866\n",
              "620      1868\n",
              "         ... \n",
              "14817    2018\n",
              "15412    2018\n",
              "14565    2018\n",
              "7731     2018\n",
              "1900     2019\n",
              "Name: Date, Length: 11527, dtype: int64"
            ]
          },
          "metadata": {
            "tags": []
          },
          "execution_count": 24
        }
      ]
    },
    {
      "cell_type": "code",
      "metadata": {
        "id": "z65ZDi6dVsch",
        "colab_type": "code",
        "colab": {
          "base_uri": "https://localhost:8080/",
          "height": 265
        },
        "outputId": "c490f1f0-29b8-487b-cae1-5eb02f3d91ad"
      },
      "source": [
        "# density of art artworks by year\n",
        "artworks['Date'].plot(kind='density');"
      ],
      "execution_count": null,
      "outputs": [
        {
          "output_type": "display_data",
          "data": {
            "image/png": "[encoded data removed]",
            "text/plain": [
              "<Figure size 432x288 with 1 Axes>"
            ]
          },
          "metadata": {
            "tags": [],
            "needs_background": "light"
          }
        }
      ]
    },
    {
      "cell_type": "code",
      "metadata": {
        "id": "ObOQJF4-Ud3n",
        "colab_type": "code",
        "colab": {}
      },
      "source": [
        "from PIL import Image\n",
        "import requests\n",
        "from io import BytesIO\n",
        "import colorsys\n",
        "import math\n",
        "\n",
        "# how to load an image\n",
        "response = requests.get(thumbnails.loc[8254])\n",
        "img = Image.open(BytesIO(response.content))"
      ],
      "execution_count": null,
      "outputs": []
    },
    {
      "cell_type": "code",
      "metadata": {
        "id": "VO4TsYPmix-H",
        "colab_type": "code",
        "colab": {
          "base_uri": "https://localhost:8080/",
          "height": 317
        },
        "outputId": "90f2748c-a5d0-44e7-b785-e0aa91dcd331"
      },
      "source": [
        "# display an image\n",
        "img"
      ],
      "execution_count": null,
      "outputs": [
        {
          "output_type": "execute_result",
          "data": {
            "image/png": "[encoded data removed]",
            "text/plain": [
              "<PIL.JpegImagePlugin.JpegImageFile image mode=RGB size=225x300 at 0x7F087D773390>"
            ]
          },
          "metadata": {
            "tags": []
          },
          "execution_count": 27
        }
      ]
    },
    {
      "cell_type": "code",
      "metadata": {
        "id": "wPXfJszSjEMc",
        "colab_type": "code",
        "colab": {
          "base_uri": "https://localhost:8080/",
          "height": 34
        },
        "outputId": "4277ee76-1590-4e68-a839-1837ec80bcd0"
      },
      "source": [
        "# type of pixel, a tuple of rgb values\n",
        "type(img.getpixel((0, 0)))"
      ],
      "execution_count": null,
      "outputs": [
        {
          "output_type": "execute_result",
          "data": {
            "text/plain": [
              "tuple"
            ]
          },
          "metadata": {
            "tags": []
          },
          "execution_count": 28
        }
      ]
    },
    {
      "cell_type": "code",
      "metadata": {
        "id": "8ZS90zZfaXUe",
        "colab_type": "code",
        "colab": {
          "base_uri": "https://localhost:8080/",
          "height": 34
        },
        "outputId": "d8e54b12-1d18-4a83-8f7a-9f31c1fcb236"
      },
      "source": [
        "# hue, saturation, value\n",
        "# rgb in PIL is encoded in the range 0 to 255, but colorsys is encoded in\n",
        "# the range 0 to 1, therefore before using rgb_to_hsv, I have to divide each\n",
        "# value by 255 to map it to the correct range\n",
        "colorsys.rgb_to_hsv(*[x/255.0 for x in img.getpixel((100, 200))])"
      ],
      "execution_count": null,
      "outputs": [
        {
          "output_type": "execute_result",
          "data": {
            "text/plain": [
              "(0.1439393939393938, 0.08943089430894312, 0.9647058823529412)"
            ]
          },
          "metadata": {
            "tags": []
          },
          "execution_count": 29
        }
      ]
    },
    {
      "cell_type": "markdown",
      "metadata": {
        "id": "mLiYRxpzltpG",
        "colab_type": "text"
      },
      "source": [
        "<font color=\"darkcyan\">In python's encoding of hsv data, each part of the color object,\n",
        "(hue, saturation, value) is encoded between 0 and 1\n",
        "I want to go through an image pixel by pixel, and bin each pixel's\n",
        "hsv into however amount of bins I designate. The good thing is since\n",
        "the values are encoded from 0 to 1, to figure out which bin I want to \n",
        "put the value in, I can multiply that value by 1 less than however many bins I've set up, and add 1 to that number, essentially mapping the 0 to 1 range to\n",
        "the 1 to length of bins range.</font>"
      ]
    },
    {
      "cell_type": "code",
      "metadata": {
        "id": "4W-H3sbaUjXP",
        "colab_type": "code",
        "colab": {}
      },
      "source": [
        "# create a new, empty dataframe where color data will reside\n",
        "colorData = pd.DataFrame()\n",
        "\n",
        "# iterate over all thumbnail images\n",
        "for i, url in thumbnails.items():\n",
        "\n",
        "  bins = {\n",
        "      # hues separated into 6 bins\n",
        "      '1h': 0,\n",
        "      '2h': 0,\n",
        "      '3h': 0,\n",
        "      '4h': 0,\n",
        "      '5h': 0,\n",
        "      '6h': 0,\n",
        "      # saturation separated into 4 bins\n",
        "      '1s': 0,\n",
        "      '2s': 0,\n",
        "      '3s': 0,\n",
        "      '4s': 0,\n",
        "      # lightness separated into 4 bins\n",
        "      '1v': 0,\n",
        "      '2v': 0,\n",
        "      '3v': 0,\n",
        "      '4v': 0,\n",
        "  }\n",
        "\n",
        "  # get image data from internet\n",
        "  response = requests.get(thumbnails.loc[i])\n",
        "  img = Image.open(BytesIO(response.content))\n",
        "\n",
        "  # get width/height and amount of pixels in image\n",
        "  width, height = img.size\n",
        "  pixels = width * height\n",
        "\n",
        "  # some pictures might be in black and white, so \"getpixel\", which usually\n",
        "  # returns an RGB tuple value, might only return a \"lightness\" int value.\n",
        "  # if that's the case, then I will skip the image, adding a null dataframe\n",
        "  # to colorData. This also applies to CMYK, which returns a tuple of 4\n",
        "  isGray = type(img.getpixel((0, 0))) == int\n",
        "  if isGray:\n",
        "    isCMYK = False\n",
        "  else:\n",
        "    isCMYK = len(img.getpixel((0, 0))) == 4\n",
        "\n",
        "  if (isGray or isCMYK): \n",
        "    for k, v in bins.items():\n",
        "      bins[k] = np.NaN\n",
        "    colorData = colorData.append(pd.DataFrame(bins, index=[i]))\n",
        "    # coninute on to the next iteration from the for loop up top\n",
        "    continue\n",
        "\n",
        "  for x in range(width):\n",
        "    for y in range(height):\n",
        "        # PIL range:\n",
        "        # Hue range is [0,179], \n",
        "        # Saturation range is [0,255],\n",
        "        # and Value range is [0,255]\n",
        "\n",
        "        # PIL uses ranges that are different from python. I have to\n",
        "        # convert them to the 0 to 1 range\n",
        "        rgb = [x/255.0 for x in img.getpixel((x, y))]\n",
        "        h, v, s = colorsys.rgb_to_hls(*rgb)\n",
        "\n",
        "        # increases bin count by hsv value\n",
        "        bins[str(math.ceil(h*6) or 1) + 'h'] += 1\n",
        "        bins[str(math.ceil(s*4) or 1) + 's'] += 1\n",
        "        bins[str(math.ceil(v*4) or 1) + 'v'] += 1\n",
        "\n",
        "  # turn bins into ratios. The sum of bins for each type will equal the\n",
        "  # total amount of pixels. To get ratio we divide bin count by total pixel num\n",
        "  for k, v in bins.items():\n",
        "    bins[k] = round(v / pixels, 2)\n",
        "\n",
        "  colorData = colorData.append(pd.DataFrame(bins, index=[i]))"
      ],
      "execution_count": null,
      "outputs": []
    },
    {
      "cell_type": "code",
      "metadata": {
        "id": "8vab4W-FwfGD",
        "colab_type": "code",
        "colab": {}
      },
      "source": [
        "colorsys.rgb_to_hsv(1,0,.0001)"
      ],
      "execution_count": null,
      "outputs": []
    },
    {
      "cell_type": "code",
      "metadata": {
        "id": "6qRDp00jhm0l",
        "colab_type": "code",
        "colab": {}
      },
      "source": [
        "# join colorData to artworks\n",
        "artworks_c = artworks.join(colorData)"
      ],
      "execution_count": null,
      "outputs": []
    },
    {
      "cell_type": "code",
      "metadata": {
        "id": "0iJAWPZSFPsQ",
        "colab_type": "code",
        "colab": {}
      },
      "source": [
        "artworks_c = artworks.join(colorData).join(thumbnails).join()"
      ],
      "execution_count": null,
      "outputs": []
    },
    {
      "cell_type": "code",
      "metadata": {
        "id": "bTLQIwvlFmAh",
        "colab_type": "code",
        "colab": {}
      },
      "source": [
        "artworks_c.head()"
      ],
      "execution_count": null,
      "outputs": []
    },
    {
      "cell_type": "code",
      "metadata": {
        "id": "ttXfjJVWs8wz",
        "colab_type": "code",
        "colab": {
          "base_uri": "https://localhost:8080/",
          "height": 17
        },
        "outputId": "4382128f-196d-4bf4-860d-8ef665b5ca3b"
      },
      "source": [
        "artworks_c.to_csv('artworks.csv')\n",
        "\n",
        "from google.colab import files\n",
        "files.download('artworks.csv')"
      ],
      "execution_count": null,
      "outputs": [
        {
          "output_type": "display_data",
          "data": {
            "application/javascript": [
              "\n",
              "    async function download(id, filename, size) {\n",
              "      if (!google.colab.kernel.accessAllowed) {\n",
              "        return;\n",
              "      }\n",
              "      const div = document.createElement('div');\n",
              "      const label = document.createElement('label');\n",
              "      label.textContent = `Downloading \"${filename}\": `;\n",
              "      div.appendChild(label);\n",
              "      const progress = document.createElement('progress');\n",
              "      progress.max = size;\n",
              "      div.appendChild(progress);\n",
              "      document.body.appendChild(div);\n",
              "\n",
              "      const buffers = [];\n",
              "      let downloaded = 0;\n",
              "\n",
              "      const channel = await google.colab.kernel.comms.open(id);\n",
              "      // Send a message to notify the kernel that we're ready.\n",
              "      channel.send({})\n",
              "\n",
              "      for await (const message of channel.messages) {\n",
              "        // Send a message to notify the kernel that we're ready.\n",
              "        channel.send({})\n",
              "        if (message.buffers) {\n",
              "          for (const buffer of message.buffers) {\n",
              "            buffers.push(buffer);\n",
              "            downloaded += buffer.byteLength;\n",
              "            progress.value = downloaded;\n",
              "          }\n",
              "        }\n",
              "      }\n",
              "      const blob = new Blob(buffers, {type: 'application/binary'});\n",
              "      const a = document.createElement('a');\n",
              "      a.href = window.URL.createObjectURL(blob);\n",
              "      a.download = filename;\n",
              "      div.appendChild(a);\n",
              "      a.click();\n",
              "      div.remove();\n",
              "    }\n",
              "  "
            ],
            "text/plain": [
              "<IPython.core.display.Javascript object>"
            ]
          },
          "metadata": {
            "tags": []
          }
        },
        {
          "output_type": "display_data",
          "data": {
            "application/javascript": [
              "download(\"download_862078c1-9513-4b27-94d3-fb5513e5e4be\", \"artworks.csv\", 3315002)"
            ],
            "text/plain": [
              "<IPython.core.display.Javascript object>"
            ]
          },
          "metadata": {
            "tags": []
          }
        }
      ]
    },
    {
      "cell_type": "markdown",
      "metadata": {
        "id": "8jy-rLZ6zWYO",
        "colab_type": "text"
      },
      "source": [
        "## Split Data into Feature Matrix and Target Vector\n",
        "using 'Date' as the target"
      ]
    },
    {
      "cell_type": "code",
      "metadata": {
        "id": "OcecnPwazV8w",
        "colab_type": "code",
        "colab": {}
      },
      "source": [
        "target = 'Date'\n",
        "\n",
        "X = artworks_c.drop([target], axis=1)\n",
        "y = artworks_c[target]"
      ],
      "execution_count": null,
      "outputs": []
    },
    {
      "cell_type": "markdown",
      "metadata": {
        "id": "jI9-Hikwydgm",
        "colab_type": "text"
      },
      "source": [
        "## Baseline Metric\n",
        "using Mean Absolute Error metric"
      ]
    },
    {
      "cell_type": "code",
      "metadata": {
        "id": "XyCiJqfxy-b1",
        "colab_type": "code",
        "colab": {}
      },
      "source": [
        "from sklearn.metrics import mean_absolute_error\n",
        "\n",
        "mean_absolute_error(y, [y.mean()]*len(y))"
      ],
      "execution_count": null,
      "outputs": []
    }
  ]
}