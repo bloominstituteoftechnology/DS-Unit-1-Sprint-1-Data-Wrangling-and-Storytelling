{
  "nbformat": 4,
  "nbformat_minor": 0,
  "metadata": {
    "kernelspec": {
      "display_name": "Python 3",
      "language": "python",
      "name": "python3"
    },
    "language_info": {
      "codemirror_mode": {
        "name": "ipython",
        "version": 3
      },
      "file_extension": ".py",
      "mimetype": "text/x-python",
      "name": "python",
      "nbconvert_exporter": "python",
      "pygments_lexer": "ipython3",
      "version": "3.7.4"
    },
    "colab": {
      "name": "LS_DS_113_Join_and_Reshape_Data_Assignment_AG.ipynb",
      "provenance": [],
      "include_colab_link": true
    }
  },
  "cells": [
    {
      "cell_type": "markdown",
      "metadata": {
        "id": "view-in-github",
        "colab_type": "text"
      },
      "source": [
        "<a href=\"https://colab.research.google.com/github/lucaanescu/DS-Unit-1-Sprint-1-Data-Wrangling-and-Storytelling/blob/master/LS_DS_113_Join_and_Reshape_Data_Assignment_AG.ipynb\" target=\"_parent\"><img src=\"https://colab.research.google.com/assets/colab-badge.svg\" alt=\"Open In Colab\"/></a>"
      ]
    },
    {
      "cell_type": "markdown",
      "metadata": {
        "id": "-SGz3F5F10b_"
      },
      "source": [
        "## Autograded Notebook (Canvas & CodeGrade)\n",
        "\n",
        "This notebook will be automatically graded. It is designed to test your answers and award points for the correct answers. Following the instructions for each Task carefully.\n",
        "\n",
        "### Instructions\n",
        "\n",
        "* **Download this notebook** as you would any other ipynb file\n",
        "* **Upload** to Google Colab or work locally (if you have that set-up)\n",
        "* **Delete `raise NotImplementedError()`**\n",
        "* Write your code in the `# YOUR CODE HERE` space\n",
        "* **Execute** the Test cells that contain `assert` statements - these help you check your work (others contain hidden tests that will be checked when you submit through Canvas)\n",
        "* **Save** your notebook when you are finished\n",
        "* **Download** as a `ipynb` file (if working in Colab)\n",
        "* **Upload** your complete notebook to Canvas (there will be additional instructions in Slack and/or Canvas)"
      ]
    },
    {
      "cell_type": "markdown",
      "metadata": {
        "id": "okLRjNb610cH"
      },
      "source": [
        "# Lambda School Data Science - Unit 1 Sprint 1 Module 3\n",
        "\n",
        "## Join and Reshape Data \n",
        "\n",
        "### Module Learning Objectives\n",
        "\n",
        "* Concatenate data using the pandas concat method\n",
        "* Merge data using pandas merge\n",
        "* Define the concept of tidy data and describe the format\n",
        "* Tidy data\n",
        "\n",
        "### Helpful Resources\n",
        "\n",
        "* [Pandas Cheat Sheet](https://github.com/pandas-dev/pandas/blob/master/doc/cheatsheet/Pandas_Cheat_Sheet.pdf)\n",
        "* Python Data Science Handbook\n",
        "    * [Chapter 3.6](https://jakevdp.github.io/PythonDataScienceHandbook/03.06-concat-and-append.html), Combining Datasets: Concat and Append\n",
        "    * [Chapter 3.7](https://jakevdp.github.io/PythonDataScienceHandbook/03.07-merge-and-join.html), Combining Datasets: Merge and Join\n",
        "    * [Chapter 3.8](https://jakevdp.github.io/PythonDataScienceHandbook/03.08-aggregation-and-grouping.html), Aggregation and Grouping\n",
        "    * [Chapter 3.9](https://jakevdp.github.io/PythonDataScienceHandbook/03.09-pivot-tables.html), Pivot Tables"
      ]
    },
    {
      "cell_type": "markdown",
      "metadata": {
        "id": "10quhkmL10cI"
      },
      "source": [
        "## Introduction\n",
        "\n",
        "In this Module Project, we're going to focus on manipulating data: loading multiple datasets from different locations, concatenating, merging, and even the fancy pandas `groupby` method.\n",
        "\n",
        "## Dataset Description\n",
        "\n",
        "You can view the CSV files [here](https://github.com/LambdaSchool/data-science-practice-datasets/tree/main/unit_1/Instacart_small), before you load them into your notebook."
      ]
    },
    {
      "cell_type": "markdown",
      "metadata": {
        "id": "ue6QlTVv10cI"
      },
      "source": [
        "**Task 1** - Load CSV files\n",
        "\n",
        "We're going to look at the Instacart data and load the files as we need them. The Pandas and numpy import statements have been provided for you as well as the URL for the dataset.\n",
        "\n",
        "* Using the provided URL (`data_url1`) load the product CSV file into a DataFrame called `product_names`.\n",
        "* Print the top five records (or rows) of `product_names`."
      ]
    },
    {
      "cell_type": "code",
      "metadata": {
        "deletable": false,
        "nbgrader": {
          "cell_type": "code",
          "checksum": "0df9e574dae5253e3ce8f5cd52cf1eb0",
          "grade": false,
          "grade_id": "cell-ef51cab74649e553",
          "locked": false,
          "schema_version": 3,
          "solution": true,
          "task": false
        },
        "colab": {
          "base_uri": "https://localhost:8080/",
          "height": 204
        },
        "id": "JgE2LgQB10cI",
        "outputId": "eea8dcdc-6822-4ff8-87fa-2c2a68c11d16"
      },
      "source": [
        "# Task 1\n",
        "\n",
        "# Imports \n",
        "import pandas as pd\n",
        "import numpy as np\n",
        "\n",
        "# Dataset URL\n",
        "data_url1 = 'https://raw.githubusercontent.com/LambdaSchool/data-science-practice-datasets/main/unit_1/Instacart_small/product_names_sm.csv'\n",
        "# YOUR CODE HERE\n",
        "product_names = pd.read_csv(data_url1)\n",
        "\n",
        "# View the DataFrame\n",
        "product_names.head()"
      ],
      "execution_count": 3,
      "outputs": [
        {
          "output_type": "execute_result",
          "data": {
            "text/html": [
              "<div>\n",
              "<style scoped>\n",
              "    .dataframe tbody tr th:only-of-type {\n",
              "        vertical-align: middle;\n",
              "    }\n",
              "\n",
              "    .dataframe tbody tr th {\n",
              "        vertical-align: top;\n",
              "    }\n",
              "\n",
              "    .dataframe thead th {\n",
              "        text-align: right;\n",
              "    }\n",
              "</style>\n",
              "<table border=\"1\" class=\"dataframe\">\n",
              "  <thead>\n",
              "    <tr style=\"text-align: right;\">\n",
              "      <th></th>\n",
              "      <th>product_id</th>\n",
              "      <th>product_name</th>\n",
              "      <th>aisle_id</th>\n",
              "      <th>department_id</th>\n",
              "    </tr>\n",
              "  </thead>\n",
              "  <tbody>\n",
              "    <tr>\n",
              "      <th>0</th>\n",
              "      <td>45676</td>\n",
              "      <td>Oil Free Acne Stress Control Power Clear Scrub</td>\n",
              "      <td>73</td>\n",
              "      <td>11</td>\n",
              "    </tr>\n",
              "    <tr>\n",
              "      <th>1</th>\n",
              "      <td>35408</td>\n",
              "      <td>Soymilk Vanilla Value Size</td>\n",
              "      <td>91</td>\n",
              "      <td>16</td>\n",
              "    </tr>\n",
              "    <tr>\n",
              "      <th>2</th>\n",
              "      <td>37442</td>\n",
              "      <td>Vegan Egg</td>\n",
              "      <td>86</td>\n",
              "      <td>16</td>\n",
              "    </tr>\n",
              "    <tr>\n",
              "      <th>3</th>\n",
              "      <td>41599</td>\n",
              "      <td>Organic Echinacea Herb Capsules</td>\n",
              "      <td>47</td>\n",
              "      <td>11</td>\n",
              "    </tr>\n",
              "    <tr>\n",
              "      <th>4</th>\n",
              "      <td>21994</td>\n",
              "      <td>Premium Saline Nasal Spray</td>\n",
              "      <td>11</td>\n",
              "      <td>11</td>\n",
              "    </tr>\n",
              "  </tbody>\n",
              "</table>\n",
              "</div>"
            ],
            "text/plain": [
              "   product_id  ... department_id\n",
              "0       45676  ...            11\n",
              "1       35408  ...            16\n",
              "2       37442  ...            16\n",
              "3       41599  ...            11\n",
              "4       21994  ...            11\n",
              "\n",
              "[5 rows x 4 columns]"
            ]
          },
          "metadata": {
            "tags": []
          },
          "execution_count": 3
        }
      ]
    },
    {
      "cell_type": "code",
      "metadata": {
        "deletable": false,
        "editable": false,
        "nbgrader": {
          "cell_type": "code",
          "checksum": "bea14a7668c2db125da981949f9ca157",
          "grade": true,
          "grade_id": "cell-cf00b9647815499e",
          "locked": true,
          "points": 1,
          "schema_version": 3,
          "solution": false,
          "task": false
        },
        "id": "Zt7vgf6s10cM"
      },
      "source": [
        "# Task 1 - Test\n",
        "\n",
        "assert isinstance(product_names, pd.DataFrame), 'Have you created a DataFrame named `product_names`?'\n",
        "assert len(product_names) == 25000\n"
      ],
      "execution_count": 4,
      "outputs": []
    },
    {
      "cell_type": "markdown",
      "metadata": {
        "id": "V6yK0qND10cM"
      },
      "source": [
        "**Task 2** - DataFrame concatenation\n",
        "\n",
        "Next, we're going to load two additional CSV files. The URLs have been provided so your task is to load the files into the appropriately named DataFrames and then to concatenate them into one DataFrame.\n",
        "\n",
        "* Load the CSV file at `data_url2` into a DataFrame called `order_products_prior`.\n",
        "* Load the CSV file at `data_url3` into a DataFrame called `order_products_train`.\n",
        "* Concatenate `order_products_prior` and `order_products_train` into one DataFrame called `order_products`."
      ]
    },
    {
      "cell_type": "code",
      "metadata": {
        "deletable": false,
        "nbgrader": {
          "cell_type": "code",
          "checksum": "0e2a4229faf4b498e687f1c24477d172",
          "grade": false,
          "grade_id": "cell-0f442142d6bc8c39",
          "locked": false,
          "schema_version": 3,
          "solution": true,
          "task": false
        },
        "colab": {
          "base_uri": "https://localhost:8080/",
          "height": 204
        },
        "id": "o5Wv69_W10cN",
        "outputId": "9f65ce9d-e88f-4e51-f9b3-9109aabd232c"
      },
      "source": [
        "# Task 2\n",
        "\n",
        "# Dataset URLs\n",
        "data_url2 = 'https://raw.githubusercontent.com/LambdaSchool/data-science-practice-datasets/main/unit_1/Instacart_small/order_products_prior_sm.csv'\n",
        "data_url3 = 'https://raw.githubusercontent.com/LambdaSchool/data-science-practice-datasets/main/unit_1/Instacart_small/order_products_train_sm.csv'\n",
        "\n",
        "# YOUR CODE HERE\n",
        "order_products_prior = pd.read_csv(data_url2)\n",
        "order_products_train = pd.read_csv(data_url3)\n",
        "\n",
        "order_products = pd.concat([order_products_prior, order_products_train])\n",
        "\n",
        "# Print the head to view your results\n",
        "order_products.head()"
      ],
      "execution_count": 5,
      "outputs": [
        {
          "output_type": "execute_result",
          "data": {
            "text/html": [
              "<div>\n",
              "<style scoped>\n",
              "    .dataframe tbody tr th:only-of-type {\n",
              "        vertical-align: middle;\n",
              "    }\n",
              "\n",
              "    .dataframe tbody tr th {\n",
              "        vertical-align: top;\n",
              "    }\n",
              "\n",
              "    .dataframe thead th {\n",
              "        text-align: right;\n",
              "    }\n",
              "</style>\n",
              "<table border=\"1\" class=\"dataframe\">\n",
              "  <thead>\n",
              "    <tr style=\"text-align: right;\">\n",
              "      <th></th>\n",
              "      <th>order_id</th>\n",
              "      <th>product_id</th>\n",
              "      <th>add_to_cart_order</th>\n",
              "      <th>reordered</th>\n",
              "    </tr>\n",
              "  </thead>\n",
              "  <tbody>\n",
              "    <tr>\n",
              "      <th>0</th>\n",
              "      <td>1696715</td>\n",
              "      <td>34969</td>\n",
              "      <td>11</td>\n",
              "      <td>0</td>\n",
              "    </tr>\n",
              "    <tr>\n",
              "      <th>1</th>\n",
              "      <td>2077308</td>\n",
              "      <td>16641</td>\n",
              "      <td>16</td>\n",
              "      <td>0</td>\n",
              "    </tr>\n",
              "    <tr>\n",
              "      <th>2</th>\n",
              "      <td>303457</td>\n",
              "      <td>46881</td>\n",
              "      <td>6</td>\n",
              "      <td>0</td>\n",
              "    </tr>\n",
              "    <tr>\n",
              "      <th>3</th>\n",
              "      <td>514151</td>\n",
              "      <td>31766</td>\n",
              "      <td>9</td>\n",
              "      <td>0</td>\n",
              "    </tr>\n",
              "    <tr>\n",
              "      <th>4</th>\n",
              "      <td>2099209</td>\n",
              "      <td>7908</td>\n",
              "      <td>10</td>\n",
              "      <td>1</td>\n",
              "    </tr>\n",
              "  </tbody>\n",
              "</table>\n",
              "</div>"
            ],
            "text/plain": [
              "   order_id  product_id  add_to_cart_order  reordered\n",
              "0   1696715       34969                 11          0\n",
              "1   2077308       16641                 16          0\n",
              "2    303457       46881                  6          0\n",
              "3    514151       31766                  9          0\n",
              "4   2099209        7908                 10          1"
            ]
          },
          "metadata": {
            "tags": []
          },
          "execution_count": 5
        }
      ]
    },
    {
      "cell_type": "code",
      "metadata": {
        "deletable": false,
        "editable": false,
        "nbgrader": {
          "cell_type": "code",
          "checksum": "f90e3884b129f04c1f9f5ff1402ba9eb",
          "grade": true,
          "grade_id": "cell-3637e4ba19b79349",
          "locked": true,
          "points": 1,
          "schema_version": 3,
          "solution": false,
          "task": false
        },
        "id": "YJfNAJQs10cN"
      },
      "source": [
        "# Task 2 - Test\n",
        "\n",
        "assert isinstance(order_products, pd.DataFrame), 'Have you created a DataFrame named `order_products`?'\n",
        "assert len(order_products) == 50000\n"
      ],
      "execution_count": 6,
      "outputs": []
    },
    {
      "cell_type": "markdown",
      "metadata": {
        "id": "eD7UA3yQ10cO"
      },
      "source": [
        "**Task 3** - Top five (5) products\n",
        "\n",
        "We're going to create a list of the top five products - we've already determined what the top five are so now it's your turn to put these items in a list.\n",
        "\n",
        "* Create a list called `five_products` with the following items: \"Bag of Organic Bananas\", \"Organic Baby Spinach\", \"Organic Avocado\", \"Large Lemon\", \"Limes\"\n",
        "\n",
        "*Note: Make sure to create the list with exact spelling as shown above!*"
      ]
    },
    {
      "cell_type": "code",
      "metadata": {
        "deletable": false,
        "nbgrader": {
          "cell_type": "code",
          "checksum": "a74a9f3e51ccd3e67edee7c3ba313176",
          "grade": false,
          "grade_id": "cell-ad8e4664b33be149",
          "locked": false,
          "schema_version": 3,
          "solution": true,
          "task": false
        },
        "id": "9gi7d0zE10cO"
      },
      "source": [
        "# Task 3\n",
        "\n",
        "# Top 5 products: five_products\n",
        "\n",
        "# YOUR CODE HERE\n",
        "five_products = ['Bag of Organic Bananas', 'Organic Baby Spinach', 'Organic Avocado', 'Large Lemon', 'Limes']"
      ],
      "execution_count": 7,
      "outputs": []
    },
    {
      "cell_type": "code",
      "metadata": {
        "deletable": false,
        "editable": false,
        "nbgrader": {
          "cell_type": "code",
          "checksum": "478aa2cdb0f03f5201d8745472e07641",
          "grade": true,
          "grade_id": "cell-0e8a931d7088b469",
          "locked": true,
          "points": 1,
          "schema_version": 3,
          "solution": false,
          "task": false
        },
        "id": "IGdbjWgk10cO"
      },
      "source": [
        "# Task 3 - Test\n",
        "\n",
        "assert isinstance(five_products, list), 'Have you created the five_products list?'\n",
        "assert len(five_products) == 5, \"Make sure you created the list correctly\"\n",
        "\n",
        "# No hidden tests for this task"
      ],
      "execution_count": 8,
      "outputs": []
    },
    {
      "cell_type": "markdown",
      "metadata": {
        "id": "CP1N8Llz10cO"
      },
      "source": [
        "**Task 4** - DataFrame subset using merge\n",
        "\n",
        "Create a subset of the `product_names` dataset that includes just the top **five** most ordered products. The `five_products` list has been converted to a DataFrame with the name `five`. Your task is to merge these DataFrames.\n",
        "\n",
        "* Merge `product_names` and `five` so the resulting DataFrame only includes the 5 most ordered products.  Name that DataFrame `top_products`."
      ]
    },
    {
      "cell_type": "code",
      "metadata": {
        "deletable": false,
        "nbgrader": {
          "cell_type": "code",
          "checksum": "551c13f284fb68df646af13907dd84e4",
          "grade": false,
          "grade_id": "cell-7818f18ec6921fb0",
          "locked": false,
          "schema_version": 3,
          "solution": true,
          "task": false
        },
        "colab": {
          "base_uri": "https://localhost:8080/",
          "height": 204
        },
        "id": "LKIkog4f10cP",
        "outputId": "49610a02-fe0f-4b9a-8685-52334e7f0404"
      },
      "source": [
        "# Task 4\n",
        "\n",
        "# Convert five_products to a DataFrame called five\n",
        "five = pd.DataFrame(five_products, columns =['product_name']) \n",
        "\n",
        "# Create a subset of product_names with only the top 5 products.  \n",
        "# Use your merge statement to include only the top 5 products\n",
        "\n",
        "# YOUR CODE HERE\n",
        "\n",
        "top_products = pd.merge(product_names, five, how = 'inner', sort = 'product_name')\n",
        "\n",
        "\n",
        "# Print your DataFrame to view the merge results\n",
        "top_products.head()"
      ],
      "execution_count": 9,
      "outputs": [
        {
          "output_type": "execute_result",
          "data": {
            "text/html": [
              "<div>\n",
              "<style scoped>\n",
              "    .dataframe tbody tr th:only-of-type {\n",
              "        vertical-align: middle;\n",
              "    }\n",
              "\n",
              "    .dataframe tbody tr th {\n",
              "        vertical-align: top;\n",
              "    }\n",
              "\n",
              "    .dataframe thead th {\n",
              "        text-align: right;\n",
              "    }\n",
              "</style>\n",
              "<table border=\"1\" class=\"dataframe\">\n",
              "  <thead>\n",
              "    <tr style=\"text-align: right;\">\n",
              "      <th></th>\n",
              "      <th>product_id</th>\n",
              "      <th>product_name</th>\n",
              "      <th>aisle_id</th>\n",
              "      <th>department_id</th>\n",
              "    </tr>\n",
              "  </thead>\n",
              "  <tbody>\n",
              "    <tr>\n",
              "      <th>0</th>\n",
              "      <td>13176</td>\n",
              "      <td>Bag of Organic Bananas</td>\n",
              "      <td>24</td>\n",
              "      <td>4</td>\n",
              "    </tr>\n",
              "    <tr>\n",
              "      <th>1</th>\n",
              "      <td>47626</td>\n",
              "      <td>Large Lemon</td>\n",
              "      <td>24</td>\n",
              "      <td>4</td>\n",
              "    </tr>\n",
              "    <tr>\n",
              "      <th>2</th>\n",
              "      <td>26209</td>\n",
              "      <td>Limes</td>\n",
              "      <td>24</td>\n",
              "      <td>4</td>\n",
              "    </tr>\n",
              "    <tr>\n",
              "      <th>3</th>\n",
              "      <td>47766</td>\n",
              "      <td>Organic Avocado</td>\n",
              "      <td>24</td>\n",
              "      <td>4</td>\n",
              "    </tr>\n",
              "    <tr>\n",
              "      <th>4</th>\n",
              "      <td>21903</td>\n",
              "      <td>Organic Baby Spinach</td>\n",
              "      <td>123</td>\n",
              "      <td>4</td>\n",
              "    </tr>\n",
              "  </tbody>\n",
              "</table>\n",
              "</div>"
            ],
            "text/plain": [
              "   product_id            product_name  aisle_id  department_id\n",
              "0       13176  Bag of Organic Bananas        24              4\n",
              "1       47626             Large Lemon        24              4\n",
              "2       26209                   Limes        24              4\n",
              "3       47766         Organic Avocado        24              4\n",
              "4       21903    Organic Baby Spinach       123              4"
            ]
          },
          "metadata": {
            "tags": []
          },
          "execution_count": 9
        }
      ]
    },
    {
      "cell_type": "code",
      "metadata": {
        "deletable": false,
        "editable": false,
        "nbgrader": {
          "cell_type": "code",
          "checksum": "9769c64dd865fbdbc362cbcc974844fd",
          "grade": true,
          "grade_id": "cell-e329e3cdc129ba49",
          "locked": true,
          "points": 1,
          "schema_version": 3,
          "solution": false,
          "task": false
        },
        "id": "80S4K49R10cP"
      },
      "source": [
        "# Task 4 - Test\n",
        "assert isinstance(top_products, pd.DataFrame), 'Have you created a DataFrame named `top_products`?'\n"
      ],
      "execution_count": 98,
      "outputs": []
    },
    {
      "cell_type": "markdown",
      "metadata": {
        "id": "7zYsFS1010cQ"
      },
      "source": [
        "**Task 5** - More DataFrame merging\n",
        "\n",
        "Now we're going to merge the first DataFrame we created (`order_products`) with the one we just made above (`top_products`). This will result in a DataFrame with only the top five most ordered products.\n",
        "\n",
        "* Merge `order_products` and `top_products` and name the resulting DataFrame `final`.\n",
        "* Print the top 20 rows of `final` to view your result."
      ]
    },
    {
      "cell_type": "code",
      "metadata": {
        "deletable": false,
        "nbgrader": {
          "cell_type": "code",
          "checksum": "4b31e9ae3b32f4b50b9babe55c54d78a",
          "grade": false,
          "grade_id": "cell-977f302dd89af1df",
          "locked": false,
          "schema_version": 3,
          "solution": true,
          "task": false
        },
        "colab": {
          "base_uri": "https://localhost:8080/",
          "height": 669
        },
        "id": "k0sYABxE10cQ",
        "outputId": "4e2a9db8-4e7a-439e-9719-31ff28a35b83"
      },
      "source": [
        "# Task 5\n",
        "\n",
        "# Merge order_products and top_products \n",
        "\n",
        "# YOUR CODE HERE\n",
        "final = pd.merge( top_products, order_products, how = 'inner', on = 'product_id')\n",
        "final = final.drop(['reordered', 'department_id'], axis = 1)\n",
        "\n",
        "# Print your final DataFrame\n",
        "final.head(20)"
      ],
      "execution_count": 10,
      "outputs": [
        {
          "output_type": "execute_result",
          "data": {
            "text/html": [
              "<div>\n",
              "<style scoped>\n",
              "    .dataframe tbody tr th:only-of-type {\n",
              "        vertical-align: middle;\n",
              "    }\n",
              "\n",
              "    .dataframe tbody tr th {\n",
              "        vertical-align: top;\n",
              "    }\n",
              "\n",
              "    .dataframe thead th {\n",
              "        text-align: right;\n",
              "    }\n",
              "</style>\n",
              "<table border=\"1\" class=\"dataframe\">\n",
              "  <thead>\n",
              "    <tr style=\"text-align: right;\">\n",
              "      <th></th>\n",
              "      <th>product_id</th>\n",
              "      <th>product_name</th>\n",
              "      <th>aisle_id</th>\n",
              "      <th>order_id</th>\n",
              "      <th>add_to_cart_order</th>\n",
              "    </tr>\n",
              "  </thead>\n",
              "  <tbody>\n",
              "    <tr>\n",
              "      <th>0</th>\n",
              "      <td>13176</td>\n",
              "      <td>Bag of Organic Bananas</td>\n",
              "      <td>24</td>\n",
              "      <td>3313641</td>\n",
              "      <td>1</td>\n",
              "    </tr>\n",
              "    <tr>\n",
              "      <th>1</th>\n",
              "      <td>13176</td>\n",
              "      <td>Bag of Organic Bananas</td>\n",
              "      <td>24</td>\n",
              "      <td>2658883</td>\n",
              "      <td>1</td>\n",
              "    </tr>\n",
              "    <tr>\n",
              "      <th>2</th>\n",
              "      <td>13176</td>\n",
              "      <td>Bag of Organic Bananas</td>\n",
              "      <td>24</td>\n",
              "      <td>2840135</td>\n",
              "      <td>3</td>\n",
              "    </tr>\n",
              "    <tr>\n",
              "      <th>3</th>\n",
              "      <td>13176</td>\n",
              "      <td>Bag of Organic Bananas</td>\n",
              "      <td>24</td>\n",
              "      <td>749245</td>\n",
              "      <td>3</td>\n",
              "    </tr>\n",
              "    <tr>\n",
              "      <th>4</th>\n",
              "      <td>13176</td>\n",
              "      <td>Bag of Organic Bananas</td>\n",
              "      <td>24</td>\n",
              "      <td>1168631</td>\n",
              "      <td>6</td>\n",
              "    </tr>\n",
              "    <tr>\n",
              "      <th>5</th>\n",
              "      <td>13176</td>\n",
              "      <td>Bag of Organic Bananas</td>\n",
              "      <td>24</td>\n",
              "      <td>228506</td>\n",
              "      <td>8</td>\n",
              "    </tr>\n",
              "    <tr>\n",
              "      <th>6</th>\n",
              "      <td>13176</td>\n",
              "      <td>Bag of Organic Bananas</td>\n",
              "      <td>24</td>\n",
              "      <td>1847986</td>\n",
              "      <td>1</td>\n",
              "    </tr>\n",
              "    <tr>\n",
              "      <th>7</th>\n",
              "      <td>13176</td>\n",
              "      <td>Bag of Organic Bananas</td>\n",
              "      <td>24</td>\n",
              "      <td>370042</td>\n",
              "      <td>15</td>\n",
              "    </tr>\n",
              "    <tr>\n",
              "      <th>8</th>\n",
              "      <td>13176</td>\n",
              "      <td>Bag of Organic Bananas</td>\n",
              "      <td>24</td>\n",
              "      <td>1717967</td>\n",
              "      <td>9</td>\n",
              "    </tr>\n",
              "    <tr>\n",
              "      <th>9</th>\n",
              "      <td>13176</td>\n",
              "      <td>Bag of Organic Bananas</td>\n",
              "      <td>24</td>\n",
              "      <td>1359847</td>\n",
              "      <td>14</td>\n",
              "    </tr>\n",
              "    <tr>\n",
              "      <th>10</th>\n",
              "      <td>13176</td>\n",
              "      <td>Bag of Organic Bananas</td>\n",
              "      <td>24</td>\n",
              "      <td>2163145</td>\n",
              "      <td>1</td>\n",
              "    </tr>\n",
              "    <tr>\n",
              "      <th>11</th>\n",
              "      <td>13176</td>\n",
              "      <td>Bag of Organic Bananas</td>\n",
              "      <td>24</td>\n",
              "      <td>1725486</td>\n",
              "      <td>2</td>\n",
              "    </tr>\n",
              "    <tr>\n",
              "      <th>12</th>\n",
              "      <td>13176</td>\n",
              "      <td>Bag of Organic Bananas</td>\n",
              "      <td>24</td>\n",
              "      <td>527267</td>\n",
              "      <td>1</td>\n",
              "    </tr>\n",
              "    <tr>\n",
              "      <th>13</th>\n",
              "      <td>13176</td>\n",
              "      <td>Bag of Organic Bananas</td>\n",
              "      <td>24</td>\n",
              "      <td>3123041</td>\n",
              "      <td>4</td>\n",
              "    </tr>\n",
              "    <tr>\n",
              "      <th>14</th>\n",
              "      <td>13176</td>\n",
              "      <td>Bag of Organic Bananas</td>\n",
              "      <td>24</td>\n",
              "      <td>391136</td>\n",
              "      <td>3</td>\n",
              "    </tr>\n",
              "    <tr>\n",
              "      <th>15</th>\n",
              "      <td>13176</td>\n",
              "      <td>Bag of Organic Bananas</td>\n",
              "      <td>24</td>\n",
              "      <td>1948023</td>\n",
              "      <td>5</td>\n",
              "    </tr>\n",
              "    <tr>\n",
              "      <th>16</th>\n",
              "      <td>13176</td>\n",
              "      <td>Bag of Organic Bananas</td>\n",
              "      <td>24</td>\n",
              "      <td>969602</td>\n",
              "      <td>1</td>\n",
              "    </tr>\n",
              "    <tr>\n",
              "      <th>17</th>\n",
              "      <td>13176</td>\n",
              "      <td>Bag of Organic Bananas</td>\n",
              "      <td>24</td>\n",
              "      <td>1181758</td>\n",
              "      <td>1</td>\n",
              "    </tr>\n",
              "    <tr>\n",
              "      <th>18</th>\n",
              "      <td>13176</td>\n",
              "      <td>Bag of Organic Bananas</td>\n",
              "      <td>24</td>\n",
              "      <td>917842</td>\n",
              "      <td>15</td>\n",
              "    </tr>\n",
              "    <tr>\n",
              "      <th>19</th>\n",
              "      <td>13176</td>\n",
              "      <td>Bag of Organic Bananas</td>\n",
              "      <td>24</td>\n",
              "      <td>1340675</td>\n",
              "      <td>1</td>\n",
              "    </tr>\n",
              "  </tbody>\n",
              "</table>\n",
              "</div>"
            ],
            "text/plain": [
              "    product_id            product_name  aisle_id  order_id  add_to_cart_order\n",
              "0        13176  Bag of Organic Bananas        24   3313641                  1\n",
              "1        13176  Bag of Organic Bananas        24   2658883                  1\n",
              "2        13176  Bag of Organic Bananas        24   2840135                  3\n",
              "3        13176  Bag of Organic Bananas        24    749245                  3\n",
              "4        13176  Bag of Organic Bananas        24   1168631                  6\n",
              "5        13176  Bag of Organic Bananas        24    228506                  8\n",
              "6        13176  Bag of Organic Bananas        24   1847986                  1\n",
              "7        13176  Bag of Organic Bananas        24    370042                 15\n",
              "8        13176  Bag of Organic Bananas        24   1717967                  9\n",
              "9        13176  Bag of Organic Bananas        24   1359847                 14\n",
              "10       13176  Bag of Organic Bananas        24   2163145                  1\n",
              "11       13176  Bag of Organic Bananas        24   1725486                  2\n",
              "12       13176  Bag of Organic Bananas        24    527267                  1\n",
              "13       13176  Bag of Organic Bananas        24   3123041                  4\n",
              "14       13176  Bag of Organic Bananas        24    391136                  3\n",
              "15       13176  Bag of Organic Bananas        24   1948023                  5\n",
              "16       13176  Bag of Organic Bananas        24    969602                  1\n",
              "17       13176  Bag of Organic Bananas        24   1181758                  1\n",
              "18       13176  Bag of Organic Bananas        24    917842                 15\n",
              "19       13176  Bag of Organic Bananas        24   1340675                  1"
            ]
          },
          "metadata": {
            "tags": []
          },
          "execution_count": 10
        }
      ]
    },
    {
      "cell_type": "code",
      "metadata": {
        "deletable": false,
        "editable": false,
        "nbgrader": {
          "cell_type": "code",
          "checksum": "8c351ac1f8aa2048ca5465393f9f00b0",
          "grade": true,
          "grade_id": "cell-0c48a0352b6596f5",
          "locked": true,
          "points": 1,
          "schema_version": 3,
          "solution": false,
          "task": false
        },
        "id": "0Q3MN7O210cQ"
      },
      "source": [
        "# Task 5 - Test\n",
        "\n",
        "assert isinstance(final, pd.DataFrame), 'Have you created a DataFrame named `final`?'\n"
      ],
      "execution_count": 11,
      "outputs": []
    },
    {
      "cell_type": "markdown",
      "metadata": {
        "id": "Xglhq0Oi10cR"
      },
      "source": [
        "**Task 6** - Top five products - value counts\n",
        "\n",
        "Note that every record in `final` is a single instance in which someone ordered one of the top five products.  Your task is to calcluate the number of times each product was ordered.\n",
        "\n",
        "* Calculate the **number of times** each product was ordered using `value_counts()`. Name the result `food_frequency`.\n",
        "* Assign the most frequently ordered food to the variable `top_item` (your variable should be a string; make sure to use the exact formatting returned above)."
      ]
    },
    {
      "cell_type": "code",
      "metadata": {
        "deletable": false,
        "nbgrader": {
          "cell_type": "code",
          "checksum": "8f29e56a39d33ba9ee78531bbebda218",
          "grade": false,
          "grade_id": "cell-9a3735ded06b8419",
          "locked": false,
          "schema_version": 3,
          "solution": true,
          "task": false
        },
        "colab": {
          "base_uri": "https://localhost:8080/"
        },
        "id": "Dw3suWmj10cR",
        "outputId": "0272d7d6-e22c-4388-81f4-c6aa50134b5c"
      },
      "source": [
        "# Task 6\n",
        "\n",
        "# Determine the number of times each product was ordered\n",
        "\n",
        "# YOUR CODE HERE\n",
        "food_frequency = final.value_counts(['add_to_cart_order'])\n",
        "top_item = final.value_counts()\n",
        "\n",
        "# View your results\n",
        "food_frequency.head()"
      ],
      "execution_count": 16,
      "outputs": [
        {
          "output_type": "stream",
          "text": [
            "product_id  product_name            aisle_id  order_id  add_to_cart_order\n",
            "47766       Organic Avocado         24        3416878   1                    1\n",
            "21903       Organic Baby Spinach    123       556390    1                    1\n",
            "13176       Bag of Organic Bananas  24        3333997   4                    1\n",
            "                                              3338527   1                    1\n",
            "                                              3357352   1                    1\n",
            "                                                                            ..\n",
            "26209       Limes                   24        3400713   7                    1\n",
            "                                              3410402   2                    1\n",
            "47626       Large Lemon             24        21563     9                    1\n",
            "                                              22978     4                    1\n",
            "13176       Bag of Organic Bananas  24        11481     1                    1\n",
            "Length: 1670, dtype: int64\n"
          ],
          "name": "stdout"
        }
      ]
    },
    {
      "cell_type": "code",
      "metadata": {
        "deletable": false,
        "editable": false,
        "nbgrader": {
          "cell_type": "code",
          "checksum": "1cb6f43a74e4166ee50b1e07c085a8ec",
          "grade": true,
          "grade_id": "cell-e7858bb55bf086fb",
          "locked": true,
          "points": 1,
          "schema_version": 3,
          "solution": false,
          "task": false
        },
        "colab": {
          "base_uri": "https://localhost:8080/",
          "height": 180
        },
        "id": "1_6SUt4W10cR",
        "outputId": "7e71574a-d277-45f8-a567-2648f9035288"
      },
      "source": [
        "# Task 6 - Test\n",
        "assert food_frequency.shape == (5,), 'Check to make sure you merged correctly'\n"
      ],
      "execution_count": 17,
      "outputs": [
        {
          "output_type": "error",
          "ename": "AssertionError",
          "evalue": "ignored",
          "traceback": [
            "\u001b[0;31m---------------------------------------------------------------------------\u001b[0m",
            "\u001b[0;31mAssertionError\u001b[0m                            Traceback (most recent call last)",
            "\u001b[0;32m<ipython-input-17-53ec8b6f3d5a>\u001b[0m in \u001b[0;36m<module>\u001b[0;34m()\u001b[0m\n\u001b[1;32m      1\u001b[0m \u001b[0;31m# Task 6 - Test\u001b[0m\u001b[0;34m\u001b[0m\u001b[0;34m\u001b[0m\u001b[0;34m\u001b[0m\u001b[0m\n\u001b[0;32m----> 2\u001b[0;31m \u001b[0;32massert\u001b[0m \u001b[0mfood_frequency\u001b[0m\u001b[0;34m.\u001b[0m\u001b[0mshape\u001b[0m \u001b[0;34m==\u001b[0m \u001b[0;34m(\u001b[0m\u001b[0;36m5\u001b[0m\u001b[0;34m,\u001b[0m\u001b[0;34m)\u001b[0m\u001b[0;34m,\u001b[0m \u001b[0;34m'Check to make sure you merged correctly'\u001b[0m\u001b[0;34m\u001b[0m\u001b[0;34m\u001b[0m\u001b[0m\n\u001b[0m",
            "\u001b[0;31mAssertionError\u001b[0m: Check to make sure you merged correctly"
          ]
        }
      ]
    },
    {
      "cell_type": "markdown",
      "metadata": {
        "id": "fe7cu0iw10cR"
      },
      "source": [
        "**Task 7** - Using `groupby()` and `mean()`\n",
        "\n",
        "In this next step, we're going to import one last CSV file and look at the time of day an order was made. Some of the code has been provided for you - your task is to complete the merging and look at the mean time of the top five orders.\n",
        "\n",
        "**Completed for you**\n",
        "* Imported `orders_sm.csv` as the DataFrame `orders`.\n",
        "* Merged `orders` and `final` into a DataFrame called `final_times` that only includes the top five foods.\n",
        "\n",
        "**Your tasks**\n",
        "* Use the `groupby()` and `mean()` functions to calculate the mean time each product was ordered (`order_hour_of_day`).\n",
        "* Name the results of your calculation `mean_hours`."
      ]
    },
    {
      "cell_type": "code",
      "metadata": {
        "deletable": false,
        "nbgrader": {
          "cell_type": "code",
          "checksum": "70e21fb1271f65913ca3df374375949e",
          "grade": false,
          "grade_id": "cell-8932129638b4d019",
          "locked": false,
          "schema_version": 3,
          "solution": true,
          "task": false
        },
        "colab": {
          "base_uri": "https://localhost:8080/",
          "height": 235
        },
        "id": "PPlJxwBj10cS",
        "outputId": "fb9ebe06-29f7-485b-dfb3-25e482ffacfa"
      },
      "source": [
        "# Task 7\n",
        "\n",
        "# COMPLETED FOR YOU\n",
        "# Import orders.csv and name the DataFrame orders\n",
        "data_url4 = 'https://raw.githubusercontent.com/LambdaSchool/data-science-practice-datasets/main/unit_1/Instacart_small/orders_sm.csv'\n",
        "orders = pd.read_csv(data_url4)\n",
        "# Merge orders and final into the DataFrame final_time\n",
        "final_time = pd.merge(orders, final, on='order_id', how='right')\n",
        "\n",
        "# Use groupby() and mean() to calculate the mean time each product was ordered\n",
        "\n",
        "# YOUR CODE HERE\n",
        "order_hour_of_day = final_time.groupby(by='product_name')\n",
        "mean_hours = order_hour_of_day.mean()\n",
        "\n",
        "# View your results\n",
        "mean_hours.head()"
      ],
      "execution_count": 21,
      "outputs": [
        {
          "output_type": "execute_result",
          "data": {
            "text/html": [
              "<div>\n",
              "<style scoped>\n",
              "    .dataframe tbody tr th:only-of-type {\n",
              "        vertical-align: middle;\n",
              "    }\n",
              "\n",
              "    .dataframe tbody tr th {\n",
              "        vertical-align: top;\n",
              "    }\n",
              "\n",
              "    .dataframe thead th {\n",
              "        text-align: right;\n",
              "    }\n",
              "</style>\n",
              "<table border=\"1\" class=\"dataframe\">\n",
              "  <thead>\n",
              "    <tr style=\"text-align: right;\">\n",
              "      <th></th>\n",
              "      <th>order_id</th>\n",
              "      <th>user_id</th>\n",
              "      <th>order_number</th>\n",
              "      <th>order_dow</th>\n",
              "      <th>order_hour_of_day</th>\n",
              "      <th>days_since_prior_order</th>\n",
              "      <th>product_id</th>\n",
              "      <th>aisle_id</th>\n",
              "      <th>add_to_cart_order</th>\n",
              "    </tr>\n",
              "    <tr>\n",
              "      <th>product_name</th>\n",
              "      <th></th>\n",
              "      <th></th>\n",
              "      <th></th>\n",
              "      <th></th>\n",
              "      <th></th>\n",
              "      <th></th>\n",
              "      <th></th>\n",
              "      <th></th>\n",
              "      <th></th>\n",
              "    </tr>\n",
              "  </thead>\n",
              "  <tbody>\n",
              "    <tr>\n",
              "      <th>Bag of Organic Bananas</th>\n",
              "      <td>1.678524e+06</td>\n",
              "      <td>69894.800000</td>\n",
              "      <td>21.000000</td>\n",
              "      <td>3.8</td>\n",
              "      <td>13.200000</td>\n",
              "      <td>13.00</td>\n",
              "      <td>13176.0</td>\n",
              "      <td>24.0</td>\n",
              "      <td>4.875223</td>\n",
              "    </tr>\n",
              "    <tr>\n",
              "      <th>Large Lemon</th>\n",
              "      <td>1.769667e+06</td>\n",
              "      <td>54319.000000</td>\n",
              "      <td>2.000000</td>\n",
              "      <td>0.0</td>\n",
              "      <td>16.000000</td>\n",
              "      <td>30.00</td>\n",
              "      <td>47626.0</td>\n",
              "      <td>24.0</td>\n",
              "      <td>7.844523</td>\n",
              "    </tr>\n",
              "    <tr>\n",
              "      <th>Limes</th>\n",
              "      <td>1.661978e+06</td>\n",
              "      <td>39452.333333</td>\n",
              "      <td>4.666667</td>\n",
              "      <td>6.0</td>\n",
              "      <td>10.333333</td>\n",
              "      <td>10.00</td>\n",
              "      <td>26209.0</td>\n",
              "      <td>24.0</td>\n",
              "      <td>8.543147</td>\n",
              "    </tr>\n",
              "    <tr>\n",
              "      <th>Organic Avocado</th>\n",
              "      <td>1.655642e+06</td>\n",
              "      <td>76639.250000</td>\n",
              "      <td>10.750000</td>\n",
              "      <td>3.5</td>\n",
              "      <td>17.500000</td>\n",
              "      <td>20.25</td>\n",
              "      <td>47766.0</td>\n",
              "      <td>24.0</td>\n",
              "      <td>5.973978</td>\n",
              "    </tr>\n",
              "    <tr>\n",
              "      <th>Organic Baby Spinach</th>\n",
              "      <td>1.674265e+06</td>\n",
              "      <td>132348.750000</td>\n",
              "      <td>33.250000</td>\n",
              "      <td>3.0</td>\n",
              "      <td>14.500000</td>\n",
              "      <td>7.25</td>\n",
              "      <td>21903.0</td>\n",
              "      <td>123.0</td>\n",
              "      <td>7.711111</td>\n",
              "    </tr>\n",
              "  </tbody>\n",
              "</table>\n",
              "</div>"
            ],
            "text/plain": [
              "                            order_id  ...  add_to_cart_order\n",
              "product_name                          ...                   \n",
              "Bag of Organic Bananas  1.678524e+06  ...           4.875223\n",
              "Large Lemon             1.769667e+06  ...           7.844523\n",
              "Limes                   1.661978e+06  ...           8.543147\n",
              "Organic Avocado         1.655642e+06  ...           5.973978\n",
              "Organic Baby Spinach    1.674265e+06  ...           7.711111\n",
              "\n",
              "[5 rows x 9 columns]"
            ]
          },
          "metadata": {
            "tags": []
          },
          "execution_count": 21
        }
      ]
    },
    {
      "cell_type": "code",
      "metadata": {
        "deletable": false,
        "editable": false,
        "nbgrader": {
          "cell_type": "code",
          "checksum": "aa171a08346bc03c81694b5514f1ab2a",
          "grade": true,
          "grade_id": "cell-22190fff81957bb7",
          "locked": true,
          "points": 1,
          "schema_version": 3,
          "solution": false,
          "task": false
        },
        "colab": {
          "base_uri": "https://localhost:8080/",
          "height": 180
        },
        "id": "LuNcsKI210cS",
        "outputId": "cf15edf1-a7dc-4676-d5d7-d661c9f6c191"
      },
      "source": [
        "# Task 7 - Test\n",
        "assert mean_hours.shape == (5,), 'Check to make sure you merged correctly'\n"
      ],
      "execution_count": 22,
      "outputs": [
        {
          "output_type": "error",
          "ename": "AssertionError",
          "evalue": "ignored",
          "traceback": [
            "\u001b[0;31m---------------------------------------------------------------------------\u001b[0m",
            "\u001b[0;31mAssertionError\u001b[0m                            Traceback (most recent call last)",
            "\u001b[0;32m<ipython-input-22-3633d0b46137>\u001b[0m in \u001b[0;36m<module>\u001b[0;34m()\u001b[0m\n\u001b[1;32m      1\u001b[0m \u001b[0;31m# Task 7 - Test\u001b[0m\u001b[0;34m\u001b[0m\u001b[0;34m\u001b[0m\u001b[0;34m\u001b[0m\u001b[0m\n\u001b[0;32m----> 2\u001b[0;31m \u001b[0;32massert\u001b[0m \u001b[0mmean_hours\u001b[0m\u001b[0;34m.\u001b[0m\u001b[0mshape\u001b[0m \u001b[0;34m==\u001b[0m \u001b[0;34m(\u001b[0m\u001b[0;36m5\u001b[0m\u001b[0;34m,\u001b[0m\u001b[0;34m)\u001b[0m\u001b[0;34m,\u001b[0m \u001b[0;34m'Check to make sure you merged correctly'\u001b[0m\u001b[0;34m\u001b[0m\u001b[0;34m\u001b[0m\u001b[0m\n\u001b[0m",
            "\u001b[0;31mAssertionError\u001b[0m: Check to make sure you merged correctly"
          ]
        }
      ]
    },
    {
      "cell_type": "markdown",
      "metadata": {
        "id": "_TNRG8VX10cS"
      },
      "source": [
        "**Task 8** - Mean order time\n",
        "\n",
        "Using the results from above, determine the mean order time for two of the top five items: \"Limes\" and \"Organic Baby Spinach\"\n",
        "\n",
        "* Find the mean order time for \"Limes\" and assign it to the variable `time_limes`. Your answer should be a float defined to one decimal place.\n",
        "* Find the mean order time for \"Organic Baby Spinach\" and assign it to the variable `time_spinach`. You answer should be a float defined to one decimal place."
      ]
    },
    {
      "cell_type": "code",
      "metadata": {
        "deletable": false,
        "nbgrader": {
          "cell_type": "code",
          "checksum": "710e71f05c3f22a2dda049a7f398d590",
          "grade": false,
          "grade_id": "cell-b160e1511b2388db",
          "locked": false,
          "schema_version": 3,
          "solution": true,
          "task": false
        },
        "colab": {
          "base_uri": "https://localhost:8080/",
          "height": 231
        },
        "id": "lE55KQf910cS",
        "outputId": "87093982-5345-474e-9ef3-1f6d56dcff42"
      },
      "source": [
        "# Task 8\n",
        "\n",
        "# YOUR CODE HERE\n",
        "time_l = pd.Series.order_hour_of_day['product_name']\n",
        "time_s = pd.Series.order_hour_of_day['product_name']\n",
        "\n",
        "time_limes = time_l.loc['Limes']\n",
        "time_spinach = time_s.loc['Limes']"
      ],
      "execution_count": 34,
      "outputs": [
        {
          "output_type": "error",
          "ename": "AttributeError",
          "evalue": "ignored",
          "traceback": [
            "\u001b[0;31m---------------------------------------------------------------------------\u001b[0m",
            "\u001b[0;31mAttributeError\u001b[0m                            Traceback (most recent call last)",
            "\u001b[0;32m<ipython-input-34-39735c1a14df>\u001b[0m in \u001b[0;36m<module>\u001b[0;34m()\u001b[0m\n\u001b[1;32m      2\u001b[0m \u001b[0;34m\u001b[0m\u001b[0m\n\u001b[1;32m      3\u001b[0m \u001b[0;31m# YOUR CODE HERE\u001b[0m\u001b[0;34m\u001b[0m\u001b[0;34m\u001b[0m\u001b[0;34m\u001b[0m\u001b[0m\n\u001b[0;32m----> 4\u001b[0;31m \u001b[0mtime_l\u001b[0m \u001b[0;34m=\u001b[0m \u001b[0mpd\u001b[0m\u001b[0;34m.\u001b[0m\u001b[0mSeries\u001b[0m\u001b[0;34m.\u001b[0m\u001b[0morder_hour_of_day\u001b[0m\u001b[0;34m[\u001b[0m\u001b[0;34m'product_name'\u001b[0m\u001b[0;34m]\u001b[0m\u001b[0;34m\u001b[0m\u001b[0;34m\u001b[0m\u001b[0m\n\u001b[0m\u001b[1;32m      5\u001b[0m \u001b[0mtime_s\u001b[0m \u001b[0;34m=\u001b[0m \u001b[0mpd\u001b[0m\u001b[0;34m.\u001b[0m\u001b[0mSeries\u001b[0m\u001b[0;34m.\u001b[0m\u001b[0morder_hour_of_day\u001b[0m\u001b[0;34m[\u001b[0m\u001b[0;34m'product_name'\u001b[0m\u001b[0;34m]\u001b[0m\u001b[0;34m\u001b[0m\u001b[0;34m\u001b[0m\u001b[0m\n\u001b[1;32m      6\u001b[0m \u001b[0;34m\u001b[0m\u001b[0m\n",
            "\u001b[0;31mAttributeError\u001b[0m: type object 'Series' has no attribute 'order_hour_of_day'"
          ]
        }
      ]
    },
    {
      "cell_type": "markdown",
      "metadata": {
        "id": "-b1KBs5g10cT"
      },
      "source": [
        "**Task 8 Test**"
      ]
    },
    {
      "cell_type": "code",
      "metadata": {
        "deletable": false,
        "editable": false,
        "nbgrader": {
          "cell_type": "code",
          "checksum": "03f2008f561ced4f894cd38f52633ab2",
          "grade": true,
          "grade_id": "cell-c138ab110b2bcf90",
          "locked": true,
          "points": 1,
          "schema_version": 3,
          "solution": false,
          "task": false
        },
        "id": "RPlo6kke10cT"
      },
      "source": [
        "# Task 8 - Test\n"
      ],
      "execution_count": null,
      "outputs": []
    }
  ]
}