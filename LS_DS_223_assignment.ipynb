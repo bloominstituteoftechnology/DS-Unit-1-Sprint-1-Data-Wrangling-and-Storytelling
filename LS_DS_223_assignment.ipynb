{
  "nbformat": 4,
  "nbformat_minor": 0,
  "metadata": {
    "kernelspec": {
      "display_name": "Python 3",
      "language": "python",
      "name": "python3"
    },
    "language_info": {
      "codemirror_mode": {
        "name": "ipython",
        "version": 3
      },
      "file_extension": ".py",
      "mimetype": "text/x-python",
      "name": "python",
      "nbconvert_exporter": "python",
      "pygments_lexer": "ipython3",
      "version": "3.7.6"
    },
    "colab": {
      "name": "LS_DS_223_assignment.ipynb",
      "provenance": [],
      "include_colab_link": true
    }
  },
  "cells": [
    {
      "cell_type": "markdown",
      "metadata": {
        "id": "view-in-github",
        "colab_type": "text"
      },
      "source": [
        "<a href=\"https://colab.research.google.com/github/Frank-Howd/DS-Unit-1-Sprint-1-Data-Wrangling-and-Storytelling/blob/master/LS_DS_223_assignment.ipynb\" target=\"_parent\"><img src=\"https://colab.research.google.com/assets/colab-badge.svg\" alt=\"Open In Colab\"/></a>"
      ]
    },
    {
      "cell_type": "markdown",
      "metadata": {
        "id": "z18oSt5JZlUa"
      },
      "source": [
        "Lambda School Data Science\n",
        "\n",
        "*Unit 2, Sprint 2, Module 3*\n",
        "\n",
        "---"
      ]
    },
    {
      "cell_type": "markdown",
      "metadata": {
        "id": "lesR7VvLZlUf"
      },
      "source": [
        "# Cross-Validation\n",
        "\n",
        "\n",
        "## Assignment\n",
        "- [ ] [Review requirements for your portfolio project](https://lambdaschool.github.io/ds/unit2), then submit your dataset.\n",
        "- [ ] Continue to participate in our Kaggle challenge. \n",
        "- [ ] Use scikit-learn for hyperparameter optimization with RandomizedSearchCV.\n",
        "- [ ] Submit your predictions to our Kaggle competition. (Go to our Kaggle InClass competition webpage. Use the blue **Submit Predictions** button to upload your CSV file. Or you can use the Kaggle API to submit your predictions.)\n",
        "- [ ] Commit your notebook to your fork of the GitHub repo.\n",
        "\n",
        "\n",
        "**You can't just copy** from the lesson notebook to this assignment.\n",
        "\n",
        "- Because the lesson was **regression**, but the assignment is **classification.**\n",
        "- Because the lesson used [TargetEncoder](https://contrib.scikit-learn.org/categorical-encoding/targetencoder.html), which doesn't work as-is for _multi-class_ classification.\n",
        "\n",
        "So you will have to adapt the example, which is good real-world practice.\n",
        "\n",
        "1. Use a model for classification, such as [RandomForestClassifier](https://scikit-learn.org/stable/modules/generated/sklearn.ensemble.RandomForestClassifier.html)\n",
        "2. Use hyperparameters that match the classifier, such as `randomforestclassifier__ ...`\n",
        "3. Use a metric for classification, such as [`scoring='accuracy'`](https://scikit-learn.org/stable/modules/model_evaluation.html#common-cases-predefined-values)\n",
        "4. If you’re doing a multi-class classification problem — such as whether a waterpump is functional, functional needs repair, or nonfunctional — then use a categorical encoding that works for multi-class classification, such as [OrdinalEncoder](https://contrib.scikit-learn.org/categorical-encoding/ordinal.html) (not [TargetEncoder](https://contrib.scikit-learn.org/categorical-encoding/targetencoder.html))\n",
        "\n",
        "\n",
        "\n",
        "## Stretch Goals\n",
        "\n",
        "### Reading\n",
        "- Jake VanderPlas, [Python Data Science Handbook, Chapter 5.3](https://jakevdp.github.io/PythonDataScienceHandbook/05.03-hyperparameters-and-model-validation.html), Hyperparameters and Model Validation\n",
        "- Jake VanderPlas, [Statistics for Hackers](https://speakerdeck.com/jakevdp/statistics-for-hackers?slide=107)\n",
        "- Ron Zacharski, [A Programmer's Guide to Data Mining, Chapter 5](http://guidetodatamining.com/chapter5/), 10-fold cross validation\n",
        "- Sebastian Raschka, [A Basic Pipeline and Grid Search Setup](https://github.com/rasbt/python-machine-learning-book/blob/master/code/bonus/svm_iris_pipeline_and_gridsearch.ipynb)\n",
        "- Peter Worcester, [A Comparison of Grid Search and Randomized Search Using Scikit Learn](https://blog.usejournal.com/a-comparison-of-grid-search-and-randomized-search-using-scikit-learn-29823179bc85)\n",
        "\n",
        "### Doing\n",
        "- Add your own stretch goals!\n",
        "- Try other [categorical encodings](https://contrib.scikit-learn.org/categorical-encoding/). See the previous assignment notebook for details.\n",
        "- In additon to `RandomizedSearchCV`, scikit-learn has [`GridSearchCV`](https://scikit-learn.org/stable/modules/generated/sklearn.model_selection.GridSearchCV.html). Another library called scikit-optimize has [`BayesSearchCV`](https://scikit-optimize.github.io/notebooks/sklearn-gridsearchcv-replacement.html). Experiment with these alternatives.\n",
        "- _[Introduction to Machine Learning with Python](http://shop.oreilly.com/product/0636920030515.do)_ discusses options for \"Grid-Searching Which Model To Use\" in Chapter 6:\n",
        "\n",
        "> You can even go further in combining GridSearchCV and Pipeline: it is also possible to search over the actual steps being performed in the pipeline (say whether to use StandardScaler or MinMaxScaler). This leads to an even bigger search space and should be considered carefully. Trying all possible solutions is usually not a viable machine learning strategy. However, here is an example comparing a RandomForestClassifier and an SVC ...\n",
        "\n",
        "The example is shown in [the accompanying notebook](https://github.com/amueller/introduction_to_ml_with_python/blob/master/06-algorithm-chains-and-pipelines.ipynb), code cells 35-37. Could you apply this concept to your own pipelines?\n"
      ]
    },
    {
      "cell_type": "markdown",
      "metadata": {
        "id": "2yeuWKZwZlUg"
      },
      "source": [
        "### BONUS: Stacking!\n",
        "\n",
        "Here's some code you can use to \"stack\" multiple submissions, which is another form of ensembling:\n",
        "\n",
        "```python\n",
        "import pandas as pd\n",
        "\n",
        "# Filenames of your submissions you want to ensemble\n",
        "files = ['submission-01.csv', 'submission-02.csv', 'submission-03.csv']\n",
        "\n",
        "target = 'status_group'\n",
        "submissions = (pd.read_csv(file)[[target]] for file in files)\n",
        "ensemble = pd.concat(submissions, axis='columns')\n",
        "majority_vote = ensemble.mode(axis='columns')[0]\n",
        "\n",
        "sample_submission = pd.read_csv('sample_submission.csv')\n",
        "submission = sample_submission.copy()\n",
        "submission[target] = majority_vote\n",
        "submission.to_csv('my-ultimate-ensemble-submission.csv', index=False)\n",
        "```"
      ]
    },
    {
      "cell_type": "code",
      "metadata": {
        "id": "euy5QoK1ZlUg"
      },
      "source": [
        "%%capture\n",
        "import sys\n",
        "\n",
        "# If you're on Colab:\n",
        "if 'google.colab' in sys.modules:\n",
        "    DATA_PATH = 'https://raw.githubusercontent.com/LambdaSchool/DS-Unit-2-Kaggle-Challenge/master/data/'\n",
        "    !pip install category_encoders==2.*\n",
        "\n",
        "# If you're working locally:\n",
        "else:\n",
        "    DATA_PATH = '../data/'"
      ],
      "execution_count": 1,
      "outputs": []
    },
    {
      "cell_type": "code",
      "metadata": {
        "id": "6hHC4SPgZlUh"
      },
      "source": [
        "# COMPLETE IMPORTS, WRANGLE DATA\n",
        "\n",
        "import matplotlib.pyplot as plt\n",
        "import numpy as np\n",
        "import pandas as pd\n",
        "\n",
        "from category_encoders import OneHotEncoder, OrdinalEncoder\n",
        "from pandas_profiling import ProfileReport\n",
        "from sklearn.compose import ColumnTransformer\n",
        "from sklearn.ensemble import RandomForestClassifier\n",
        "from sklearn.linear_model import LogisticRegression\n",
        "from sklearn.model_selection import cross_val_score, GridSearchCV, RandomizedSearchCV\n",
        "from sklearn.impute import SimpleImputer\n",
        "from sklearn.pipeline import make_pipeline\n",
        "from sklearn.preprocessing import StandardScaler\n",
        "\n",
        "def wrangle(df):\n",
        "    \"\"\"Takes in a dataframe, creates a deep copy, cleans the data, and returns a\n",
        "    df with the resultant changes to instances and features\"\"\"\n",
        "\n",
        "    # Make a copy, keep the original DataFrame in memory\n",
        "    df = df.copy()\n",
        "\n",
        "    # Drop duplicate rows\n",
        "    df.drop_duplicates(inplace=True)\n",
        "\n",
        "    # Set index to 'id'\n",
        "    df.set_index(keys='id', inplace=True)\n",
        "\n",
        "    # Turn 'date_recorded' into datetime object and fill column with dt.year\n",
        "    df['date_recorded'] = pd.to_datetime(df['date_recorded'], \n",
        "                                         infer_datetime_format=True).dt.year\n",
        "    \n",
        "    # Replace 'Null Island' with NaN values\n",
        "    df.replace([0, -2.000000e-08], np.nan, inplace=True)\n",
        "\n",
        "    # Feature engineering\n",
        "    df['pump_age'] = df['date_recorded'] - df['construction_year']\n",
        "\n",
        "    # Drop duplicate columns\n",
        "    df.drop(columns=['extraction_type_group', 'quantity_group', 'recorded_by'], inplace=True)\n",
        "\n",
        "    # Drop high cardinality columns\n",
        "    drop_cols = [col for col in df.select_dtypes('object').columns if \n",
        "                 df[col].nunique() > 100]\n",
        "    df.drop(columns=drop_cols, inplace=True)\n",
        "\n",
        "    # Drop features with high NaN counts\n",
        "    # df.dropna(axis=1, thresh=len(df)*0.8, inplace=True)\n",
        "\n",
        "    return df\n",
        "\n",
        "# Merge train_features.csv & train_labels.csv\n",
        "train = pd.merge(pd.read_csv(DATA_PATH+'waterpumps/train_features.csv'), \n",
        "                 pd.read_csv(DATA_PATH+'waterpumps/train_labels.csv'))\n",
        "\n",
        "# Read test_features.csv & sample_submission.csv\n",
        "test = pd.read_csv(DATA_PATH+'waterpumps/test_features.csv')\n",
        "sample_submission = pd.read_csv(DATA_PATH+'waterpumps/sample_submission.csv')"
      ],
      "execution_count": 26,
      "outputs": []
    },
    {
      "cell_type": "code",
      "metadata": {
        "id": "aNpKceBpgaQG"
      },
      "source": [
        "train = wrangle(train)\n",
        "test = wrangle(test)"
      ],
      "execution_count": 27,
      "outputs": []
    },
    {
      "cell_type": "code",
      "metadata": {
        "id": "RmnTIcbNgp5o",
        "colab": {
          "base_uri": "https://localhost:8080/"
        },
        "outputId": "e5b550f7-c8ca-4ba9-ff33-e4bf78019dff"
      },
      "source": [
        "print(train.shape, test.shape)\n",
        "print(train.columns, \"\\n\", test.columns)"
      ],
      "execution_count": 28,
      "outputs": [
        {
          "output_type": "stream",
          "text": [
            "(59400, 31) (14358, 30)\n",
            "Index(['amount_tsh', 'date_recorded', 'gps_height', 'longitude', 'latitude',\n",
            "       'num_private', 'basin', 'region', 'region_code', 'district_code',\n",
            "       'population', 'public_meeting', 'scheme_management', 'permit',\n",
            "       'construction_year', 'extraction_type', 'extraction_type_class',\n",
            "       'management', 'management_group', 'payment', 'payment_type',\n",
            "       'water_quality', 'quality_group', 'quantity', 'source', 'source_type',\n",
            "       'source_class', 'waterpoint_type', 'waterpoint_type_group',\n",
            "       'status_group', 'pump_age'],\n",
            "      dtype='object') \n",
            " Index(['amount_tsh', 'date_recorded', 'gps_height', 'longitude', 'latitude',\n",
            "       'num_private', 'basin', 'region', 'region_code', 'district_code',\n",
            "       'population', 'public_meeting', 'scheme_management', 'permit',\n",
            "       'construction_year', 'extraction_type', 'extraction_type_class',\n",
            "       'management', 'management_group', 'payment', 'payment_type',\n",
            "       'water_quality', 'quality_group', 'quantity', 'source', 'source_type',\n",
            "       'source_class', 'waterpoint_type', 'waterpoint_type_group', 'pump_age'],\n",
            "      dtype='object')\n"
          ],
          "name": "stdout"
        }
      ]
    },
    {
      "cell_type": "code",
      "metadata": {
        "id": "0mN92zbwg8-_",
        "colab": {
          "base_uri": "https://localhost:8080/"
        },
        "outputId": "cd7f023f-6728-4529-93fe-4d34d452098d"
      },
      "source": [
        "# Split data into a Feature Matrix and a Target Vector\n",
        "\n",
        "target = 'status_group'\n",
        "\n",
        "y_train = train[target]\n",
        "X_train = train.drop(columns=target)\n",
        "\n",
        "print(X_train.shape, y_train.shape)\n",
        "print(test.shape)"
      ],
      "execution_count": 29,
      "outputs": [
        {
          "output_type": "stream",
          "text": [
            "(59400, 30) (59400,)\n",
            "(14358, 30)\n"
          ],
          "name": "stdout"
        }
      ]
    },
    {
      "cell_type": "code",
      "metadata": {
        "colab": {
          "base_uri": "https://localhost:8080/"
        },
        "id": "4Oz2OcddjAZT",
        "outputId": "64bbb20d-73a6-4ab4-d1df-a4afc93f7227"
      },
      "source": [
        "# Establish a Basline Accuracy\n",
        "\n",
        "print(\"Baseline accuracy is most frequent group: {:.4f}\".format(\n",
        "    y_train.value_counts(normalize=True).max()))"
      ],
      "execution_count": 30,
      "outputs": [
        {
          "output_type": "stream",
          "text": [
            "Baseline accuracy is most frequent group: 0.5431\n"
          ],
          "name": "stdout"
        }
      ]
    },
    {
      "cell_type": "code",
      "metadata": {
        "colab": {
          "base_uri": "https://localhost:8080/",
          "height": 411
        },
        "id": "zZyIOHsjpbDH",
        "outputId": "3fa49186-b64d-455e-dc3b-e22b71ac6f54"
      },
      "source": [
        "high_card = [col for col in X_train.select_dtypes('object').columns if X_train[col].nunique() > 10]\n",
        "low_card = [col for col in X_train.select_dtypes('object').columns if X_train[col].nunique() <= 10]\n",
        "\n",
        "display(X_train.select_dtypes('object').nunique().sort_values())\n",
        "print(\"\\n\", high_card, end=' ')\n",
        "print(low_card)\n",
        "\n",
        "ct = ColumnTransformer([\n",
        "                        ('ohe', OneHotEncoder(use_cat_names=True), low_card),\n",
        "                        ('ordinal', OrdinalEncoder(), high_card)\n",
        "])"
      ],
      "execution_count": 31,
      "outputs": [
        {
          "output_type": "display_data",
          "data": {
            "text/plain": [
              "public_meeting            1\n",
              "permit                    1\n",
              "source_class              3\n",
              "quantity                  5\n",
              "management_group          5\n",
              "waterpoint_type_group     6\n",
              "quality_group             6\n",
              "source_type               7\n",
              "payment_type              7\n",
              "payment                   7\n",
              "extraction_type_class     7\n",
              "waterpoint_type           7\n",
              "water_quality             8\n",
              "basin                     9\n",
              "source                   10\n",
              "management               12\n",
              "scheme_management        12\n",
              "extraction_type          18\n",
              "region                   21\n",
              "dtype: int64"
            ]
          },
          "metadata": {
            "tags": []
          }
        },
        {
          "output_type": "stream",
          "text": [
            "\n",
            " ['region', 'scheme_management', 'extraction_type', 'management'] ['basin', 'public_meeting', 'permit', 'extraction_type_class', 'management_group', 'payment', 'payment_type', 'water_quality', 'quality_group', 'quantity', 'source', 'source_type', 'source_class', 'waterpoint_type', 'waterpoint_type_group']\n"
          ],
          "name": "stdout"
        }
      ]
    },
    {
      "cell_type": "code",
      "metadata": {
        "id": "uxekWXgxsLUq"
      },
      "source": [
        "# Make a pipeline for a random forest classifier\n",
        "\n",
        "rf = make_pipeline(\n",
        "    OrdinalEncoder(),    \n",
        "    SimpleImputer(),\n",
        "    RandomForestClassifier(n_estimators=20, random_state=42)\n",
        ")\n"
      ],
      "execution_count": 32,
      "outputs": []
    },
    {
      "cell_type": "code",
      "metadata": {
        "id": "Fm-cTslHwk0e"
      },
      "source": [
        "# Obtain cross validation scores (KFolds = 5)\n",
        "\n",
        "rf_cvs = cross_val_score(rf, X_train, y_train, cv=5, n_jobs=-1)"
      ],
      "execution_count": 33,
      "outputs": []
    },
    {
      "cell_type": "code",
      "metadata": {
        "colab": {
          "base_uri": "https://localhost:8080/"
        },
        "id": "9k-VGHWzxLZz",
        "outputId": "c725036c-446c-4414-effb-68950f4b5b5d"
      },
      "source": [
        "# Print out the scores and a couple of summary statistics\n",
        "\n",
        "print('Cross validation scores for regression tree model:', rf_cvs)\n",
        "print('\\n Mean cross_val_score:', rf_cvs.mean(), end=' ')\n",
        "print('\\n Standard deviation:', rf_cvs.std())\n",
        "\n",
        "# Ordinal score 0.786818\n",
        "# Column Transform score 0.775319"
      ],
      "execution_count": 34,
      "outputs": [
        {
          "output_type": "stream",
          "text": [
            "Cross validation scores for regression tree model: [0.8020202  0.79436027 0.80252525 0.79747475 0.79755892]\n",
            "\n",
            " Mean cross_val_score: 0.7987878787878787 \n",
            " Standard deviation: 0.003074223428207494\n"
          ],
          "name": "stdout"
        }
      ]
    },
    {
      "cell_type": "code",
      "metadata": {
        "colab": {
          "base_uri": "https://localhost:8080/"
        },
        "id": "k2prp82Kxvp5",
        "outputId": "d9f3d7fb-9730-4ade-81c9-c4a40753aef7"
      },
      "source": [
        "rf"
      ],
      "execution_count": 35,
      "outputs": [
        {
          "output_type": "execute_result",
          "data": {
            "text/plain": [
              "Pipeline(memory=None,\n",
              "         steps=[('ordinalencoder',\n",
              "                 OrdinalEncoder(cols=None, drop_invariant=False,\n",
              "                                handle_missing='value', handle_unknown='value',\n",
              "                                mapping=None, return_df=True, verbose=0)),\n",
              "                ('simpleimputer',\n",
              "                 SimpleImputer(add_indicator=False, copy=True, fill_value=None,\n",
              "                               missing_values=nan, strategy='mean',\n",
              "                               verbose=0)),\n",
              "                ('randomforestclassifier',\n",
              "                 RandomForestClassifier...p=True, ccp_alpha=0.0,\n",
              "                                        class_weight=None, criterion='gini',\n",
              "                                        max_depth=None, max_features='auto',\n",
              "                                        max_leaf_nodes=None, max_samples=None,\n",
              "                                        min_impurity_decrease=0.0,\n",
              "                                        min_impurity_split=None,\n",
              "                                        min_samples_leaf=1, min_samples_split=2,\n",
              "                                        min_weight_fraction_leaf=0.0,\n",
              "                                        n_estimators=20, n_jobs=None,\n",
              "                                        oob_score=False, random_state=42,\n",
              "                                        verbose=0, warm_start=False))],\n",
              "         verbose=False)"
            ]
          },
          "metadata": {
            "tags": []
          },
          "execution_count": 35
        }
      ]
    },
    {
      "cell_type": "code",
      "metadata": {
        "id": "7G6EoJd_1cBL"
      },
      "source": [
        "# from scipy.stats import randint\n",
        "\n",
        "# Establish parameters for model tuning\n",
        "\n",
        "params = {'randomforestclassifier__n_estimators': np.arange(20, 90, 30),\n",
        "         'randomforestclassifier__max_depth': np.arange(10, 31, 10),\n",
        "         'randomforestclassifier__max_samples': np.arange(0.7, 1.0, 0.1)}\n",
        "\n",
        "# params = {\"randomforestclassifier_max_depth\": [12, None],\n",
        "#               \"randomforestclassifier_max_features\": randint(1, 91),\n",
        "#               \"randomforestclassifier_min_samples_split\": randint(2, 91),\n",
        "#               \"randomforestclassifier_bootstrap\": [True, False],\n",
        "#               \"randomforestclassifier_criterion\": [\"gini\", \"entropy\"]}"
      ],
      "execution_count": 36,
      "outputs": []
    },
    {
      "cell_type": "code",
      "metadata": {
        "id": "eVK3vBCLIzVs"
      },
      "source": [
        "# Complete a Randomized Search for hyperparameter optimization\n",
        "\n",
        "rf_rs = RandomizedSearchCV(rf, param_distributions=params, n_iter=4, cv=5, \n",
        "                           n_jobs=-1, verbose=1)"
      ],
      "execution_count": 37,
      "outputs": []
    },
    {
      "cell_type": "code",
      "metadata": {
        "id": "pG8hl-iU6BNX"
      },
      "source": [
        "# Can visualize your pipeline \n",
        "# from sklearn import set_config\n",
        "# set_config(display='diagram')\n",
        "# rf"
      ],
      "execution_count": 38,
      "outputs": []
    },
    {
      "cell_type": "code",
      "metadata": {
        "colab": {
          "base_uri": "https://localhost:8080/"
        },
        "id": "QiwcowHbOQRo",
        "outputId": "442b26fd-f765-464d-a0ae-634642bc8452"
      },
      "source": [
        "# Fit data to optimized model\n",
        "\n",
        "rf_rs.fit(X_train, y_train)"
      ],
      "execution_count": 39,
      "outputs": [
        {
          "output_type": "stream",
          "text": [
            "Fitting 5 folds for each of 4 candidates, totalling 20 fits\n"
          ],
          "name": "stdout"
        },
        {
          "output_type": "stream",
          "text": [
            "[Parallel(n_jobs=-1)]: Using backend LokyBackend with 2 concurrent workers.\n",
            "[Parallel(n_jobs=-1)]: Done  20 out of  20 | elapsed:  1.4min finished\n"
          ],
          "name": "stderr"
        },
        {
          "output_type": "execute_result",
          "data": {
            "text/plain": [
              "RandomizedSearchCV(cv=5, error_score=nan,\n",
              "                   estimator=Pipeline(memory=None,\n",
              "                                      steps=[('ordinalencoder',\n",
              "                                              OrdinalEncoder(cols=None,\n",
              "                                                             drop_invariant=False,\n",
              "                                                             handle_missing='value',\n",
              "                                                             handle_unknown='value',\n",
              "                                                             mapping=None,\n",
              "                                                             return_df=True,\n",
              "                                                             verbose=0)),\n",
              "                                             ('simpleimputer',\n",
              "                                              SimpleImputer(add_indicator=False,\n",
              "                                                            copy=True,\n",
              "                                                            fill_value=None,\n",
              "                                                            missing_values=nan,\n",
              "                                                            strategy='mean',\n",
              "                                                            verbose=0)...\n",
              "                                                                     warm_start=False))],\n",
              "                                      verbose=False),\n",
              "                   iid='deprecated', n_iter=4, n_jobs=-1,\n",
              "                   param_distributions={'randomforestclassifier__max_depth': array([10, 20, 30]),\n",
              "                                        'randomforestclassifier__max_samples': array([0.7, 0.8, 0.9, 1. ]),\n",
              "                                        'randomforestclassifier__n_estimators': array([20, 50, 80])},\n",
              "                   pre_dispatch='2*n_jobs', random_state=None, refit=True,\n",
              "                   return_train_score=False, scoring=None, verbose=1)"
            ]
          },
          "metadata": {
            "tags": []
          },
          "execution_count": 39
        }
      ]
    },
    {
      "cell_type": "code",
      "metadata": {
        "colab": {
          "base_uri": "https://localhost:8080/"
        },
        "id": "skcSklUpPfwO",
        "outputId": "22551a4e-094b-43a9-965d-87b80929815e"
      },
      "source": [
        "# See the best score\n",
        "\n",
        "rf_rs.best_score_"
      ],
      "execution_count": 40,
      "outputs": [
        {
          "output_type": "execute_result",
          "data": {
            "text/plain": [
              "0.8046464646464647"
            ]
          },
          "metadata": {
            "tags": []
          },
          "execution_count": 40
        }
      ]
    },
    {
      "cell_type": "code",
      "metadata": {
        "colab": {
          "base_uri": "https://localhost:8080/"
        },
        "id": "Nk5ixB3RQaig",
        "outputId": "08756644-ed7a-4526-a913-cec68fa78a89"
      },
      "source": [
        "# Identify the best hyperparameter settings\n",
        "\n",
        "rf_rs.best_params_"
      ],
      "execution_count": 41,
      "outputs": [
        {
          "output_type": "execute_result",
          "data": {
            "text/plain": [
              "{'randomforestclassifier__max_depth': 30,\n",
              " 'randomforestclassifier__max_samples': 0.9999999999999999,\n",
              " 'randomforestclassifier__n_estimators': 80}"
            ]
          },
          "metadata": {
            "tags": []
          },
          "execution_count": 41
        }
      ]
    },
    {
      "cell_type": "code",
      "metadata": {
        "id": "GPmqGeQWUolP"
      },
      "source": [
        "# Create Submission\n",
        "\n",
        "y_pred = rf_rs.predict(test)"
      ],
      "execution_count": 42,
      "outputs": []
    },
    {
      "cell_type": "code",
      "metadata": {
        "id": "nEjIu2bqzQMO"
      },
      "source": [
        "submission = pd.DataFrame({'status_group': y_pred}, index=test.index)"
      ],
      "execution_count": 43,
      "outputs": []
    },
    {
      "cell_type": "code",
      "metadata": {
        "colab": {
          "base_uri": "https://localhost:8080/",
          "height": 390
        },
        "id": "f7ZZvy-F0YId",
        "outputId": "99509b32-4a85-4a58-c96e-a76591426c41"
      },
      "source": [
        "submission[:10]"
      ],
      "execution_count": 44,
      "outputs": [
        {
          "output_type": "execute_result",
          "data": {
            "text/html": [
              "<div>\n",
              "<style scoped>\n",
              "    .dataframe tbody tr th:only-of-type {\n",
              "        vertical-align: middle;\n",
              "    }\n",
              "\n",
              "    .dataframe tbody tr th {\n",
              "        vertical-align: top;\n",
              "    }\n",
              "\n",
              "    .dataframe thead th {\n",
              "        text-align: right;\n",
              "    }\n",
              "</style>\n",
              "<table border=\"1\" class=\"dataframe\">\n",
              "  <thead>\n",
              "    <tr style=\"text-align: right;\">\n",
              "      <th></th>\n",
              "      <th>status_group</th>\n",
              "    </tr>\n",
              "    <tr>\n",
              "      <th>id</th>\n",
              "      <th></th>\n",
              "    </tr>\n",
              "  </thead>\n",
              "  <tbody>\n",
              "    <tr>\n",
              "      <th>50785</th>\n",
              "      <td>functional</td>\n",
              "    </tr>\n",
              "    <tr>\n",
              "      <th>51630</th>\n",
              "      <td>functional</td>\n",
              "    </tr>\n",
              "    <tr>\n",
              "      <th>17168</th>\n",
              "      <td>functional</td>\n",
              "    </tr>\n",
              "    <tr>\n",
              "      <th>45559</th>\n",
              "      <td>non functional</td>\n",
              "    </tr>\n",
              "    <tr>\n",
              "      <th>49871</th>\n",
              "      <td>functional</td>\n",
              "    </tr>\n",
              "    <tr>\n",
              "      <th>52449</th>\n",
              "      <td>functional</td>\n",
              "    </tr>\n",
              "    <tr>\n",
              "      <th>24806</th>\n",
              "      <td>non functional</td>\n",
              "    </tr>\n",
              "    <tr>\n",
              "      <th>28965</th>\n",
              "      <td>non functional</td>\n",
              "    </tr>\n",
              "    <tr>\n",
              "      <th>36301</th>\n",
              "      <td>non functional</td>\n",
              "    </tr>\n",
              "    <tr>\n",
              "      <th>54122</th>\n",
              "      <td>functional</td>\n",
              "    </tr>\n",
              "  </tbody>\n",
              "</table>\n",
              "</div>"
            ],
            "text/plain": [
              "         status_group\n",
              "id                   \n",
              "50785      functional\n",
              "51630      functional\n",
              "17168      functional\n",
              "45559  non functional\n",
              "49871      functional\n",
              "52449      functional\n",
              "24806  non functional\n",
              "28965  non functional\n",
              "36301  non functional\n",
              "54122      functional"
            ]
          },
          "metadata": {
            "tags": []
          },
          "execution_count": 44
        }
      ]
    },
    {
      "cell_type": "code",
      "metadata": {
        "id": "8Fkvy6RP0bX1"
      },
      "source": [
        "# Export submission to .csv file\n",
        "\n",
        "submission.to_csv('submission6.csv')"
      ],
      "execution_count": 45,
      "outputs": []
    },
    {
      "cell_type": "code",
      "metadata": {
        "id": "7Az7m71p0u_j"
      },
      "source": [
        "importances = rf_rs.best_estimator_.named_steps['randomforestclassifier'].feature_importances_\n",
        "features = X_train.columns\n",
        "\n"
      ],
      "execution_count": 48,
      "outputs": []
    },
    {
      "cell_type": "code",
      "metadata": {
        "colab": {
          "base_uri": "https://localhost:8080/"
        },
        "id": "0QEH2Z8Cp8ob",
        "outputId": "b6b925ff-fa91-4070-f1ec-89389df4f9ea"
      },
      "source": [
        "pd.Series(importances, index=features).sort_values().tail(10).plot(kind='barh')\n"
      ],
      "execution_count": 57,
      "outputs": [
        {
          "output_type": "execute_result",
          "data": {
            "text/plain": [
              "<matplotlib.axes._subplots.AxesSubplot at 0x7f18f1301518>"
            ]
          },
          "metadata": {
            "tags": []
          },
          "execution_count": 57
        }
      ]
    },
    {
      "cell_type": "code",
      "metadata": {
        "id": "xiXABlNJ3w1j"
      },
      "source": [
        "files = ['submission-01.csv', 'submission-02.csv', 'submission-03.csv']\n",
        " \n",
        "target = 'status_group'\n",
        "submissions = (pd.read_csv(file)[[target]] for file in files)\n",
        "ensemble = pd.concat(submissions, axis='columns')\n",
        "majority_vote = ensemble.mode(axis='columns')[0]\n",
        " \n",
        "sample_submission = pd.read_csv('sample_submission.csv')\n",
        "submission = sample_submission.copy()\n",
        "submission[target] = majority_vote\n",
        "submission.to_csv('my-ultimate-ensemble-submission.csv', index=False)"
      ],
      "execution_count": null,
      "outputs": []
    }
  ]
}