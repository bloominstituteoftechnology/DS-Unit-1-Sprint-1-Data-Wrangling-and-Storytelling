{
  "nbformat": 4,
  "nbformat_minor": 0,
  "metadata": {
    "colab": {
      "name": "Unit 1 Sprint 3  Study Guide.ipynb",
      "provenance": [],
      "collapsed_sections": [],
      "include_colab_link": true
    },
    "kernelspec": {
      "name": "python3",
      "display_name": "Python 3"
    }
  },
  "cells": [
    {
      "cell_type": "markdown",
      "metadata": {
        "id": "view-in-github",
        "colab_type": "text"
      },
      "source": [
        "<a href=\"https://colab.research.google.com/github/tranitapalmer/DS-Unit-1-Sprint-1-Data-Wrangling-and-Storytelling/blob/master/Tranita%20Palmer%20Unit_1_Sprint_3_Study_Guide.ipynb\" target=\"_parent\"><img src=\"https://colab.research.google.com/assets/colab-badge.svg\" alt=\"Open In Colab\"/></a>"
      ]
    },
    {
      "cell_type": "markdown",
      "metadata": {
        "id": "Nd2OOOVXxXS1",
        "colab_type": "text"
      },
      "source": [
        "This study guide should reinforce and provide practice for all of the concepts you have seen in the past week. There are a mix of written questions and coding exercises, both are equally important to prepare you for the sprint challenge as well as to be able to speak on these topics comfortably in interviews and on the job.\n",
        "\n",
        "If you get stuck or are unsure of something remember the 20 minute rule. If that doesn't help, then research a solution with google and stackoverflow. Only once you have exausted these methods should you turn to your Team Lead - they won't be there on your SC or during an interview. That being said, don't hesitate to ask for help if you truly are stuck.\n",
        "\n",
        "Have fun studying!"
      ]
    },
    {
      "cell_type": "markdown",
      "metadata": {
        "id": "YbwATE4qeJx7",
        "colab_type": "text"
      },
      "source": [
        "# Object Oriented Programming"
      ]
    },
    {
      "cell_type": "markdown",
      "metadata": {
        "id": "fpvInKdXekFi",
        "colab_type": "text"
      },
      "source": [
        "## Questions"
      ]
    },
    {
      "cell_type": "markdown",
      "metadata": {
        "id": "Q6bS8AhBZ86H",
        "colab_type": "text"
      },
      "source": [
        "When completing this section, try to limit your answers to 2-3 sentences max and use plain english as much as possible. It's very easy to hide incomplete knowledge and understanding behind fancy or technical words, so imagine you are explaining these things to a non-technical interviewer.\n",
        "\n",
        "1. What is a Vector?\n",
        "```\n",
        "Put your answer here\n",
        "```\n",
        "\n",
        "2. What does the norm of a vector represent?\n",
        "```\n",
        "Put your answer here\n",
        "```\n",
        "\n",
        "3. What makes a Vector Orthogonal?\n",
        "```\n",
        "Put your answer here\n",
        "```\n",
        "\n",
        "4. What is Principal component analysis or PCA?\n",
        "```\n",
        "Put your answer here\n",
        "```\n",
        "\n",
        "5. What is K-Means?\n",
        "```\n",
        "Put your answer here\n",
        "```\n",
        "\n",
        "6. What are Eigenvalues?\n",
        "```\n",
        "Put your answer here\n",
        "```\n",
        "\n",
        "7. What are Eigenvectors?\n",
        "```\n",
        "Put your answer here\n",
        "```\n",
        "\n"
      ]
    },
    {
      "cell_type": "markdown",
      "metadata": {
        "colab_type": "text",
        "id": "Y3aagcgv6tXR"
      },
      "source": [
        "## Practice Problems"
      ]
    },
    {
      "cell_type": "markdown",
      "metadata": {
        "id": "YSvUU3p977mV",
        "colab_type": "text"
      },
      "source": [
        "# **Graph vector**"
      ]
    },
    {
      "cell_type": "markdown",
      "metadata": {
        "id": "jzbLifR68G5-",
        "colab_type": "text"
      },
      "source": [
        "\\begin{align}\n",
        "\\vec{a} = \\begin{bmatrix} 9 \\\\ 6 \\end{bmatrix}\n",
        "\\end{align}"
      ]
    },
    {
      "cell_type": "code",
      "metadata": {
        "id": "0nfwcod28jcB",
        "colab_type": "code",
        "colab": {}
      },
      "source": [
        ""
      ],
      "execution_count": 0,
      "outputs": []
    },
    {
      "cell_type": "markdown",
      "metadata": {
        "id": "w37eIi8n8ioh",
        "colab_type": "text"
      },
      "source": [
        "\\begin{align}\n",
        "\\vec{b} = \\begin{bmatrix} 12 \\\\ 9 \\end{bmatrix}\n",
        "\\end{align}"
      ]
    },
    {
      "cell_type": "code",
      "metadata": {
        "id": "o3tHl2k08yvR",
        "colab_type": "code",
        "colab": {}
      },
      "source": [
        ""
      ],
      "execution_count": 0,
      "outputs": []
    },
    {
      "cell_type": "markdown",
      "metadata": {
        "id": "Xhr6gVUL8y-T",
        "colab_type": "text"
      },
      "source": [
        "\\begin{align}\n",
        "\\vec{c} = \\begin{bmatrix} -4 \\\\ 3 \\end{bmatrix}\n",
        "\\end{align}"
      ]
    },
    {
      "cell_type": "code",
      "metadata": {
        "id": "l0vwlyKp9TH7",
        "colab_type": "code",
        "colab": {}
      },
      "source": [
        ""
      ],
      "execution_count": 0,
      "outputs": []
    },
    {
      "cell_type": "markdown",
      "metadata": {
        "id": "cp24R0Xv9UFe",
        "colab_type": "text"
      },
      "source": [
        "\\begin{align}\n",
        "{d} = \n",
        "\\begin{bmatrix}\n",
        "    9 & 12 & 6 \\\\\n",
        "    6 & 3 & 9 \\\\\n",
        "    1 & 4 & 8\n",
        "\\end{bmatrix}\n",
        "\\end{align}"
      ]
    },
    {
      "cell_type": "code",
      "metadata": {
        "id": "0y2yPKDV9tnK",
        "colab_type": "code",
        "colab": {}
      },
      "source": [
        ""
      ],
      "execution_count": 0,
      "outputs": []
    },
    {
      "cell_type": "markdown",
      "metadata": {
        "id": "oTH5iwqr99fj",
        "colab_type": "text"
      },
      "source": [
        "You and your friends have just measured the heights of your dogs (in millimeters)The heights (at the shoulders) are: 600mm, 470mm, 170mm, 430mm and 300mm.\n",
        "\n",
        "Find out the Mean, the Variance, and the Standard Deviation."
      ]
    },
    {
      "cell_type": "code",
      "metadata": {
        "id": "4CcXEegP-go8",
        "colab_type": "code",
        "colab": {}
      },
      "source": [
        ""
      ],
      "execution_count": 0,
      "outputs": []
    },
    {
      "cell_type": "markdown",
      "metadata": {
        "id": "t2dvebL-_J7a",
        "colab_type": "text"
      },
      "source": [
        "# **What to study**"
      ]
    },
    {
      "cell_type": "markdown",
      "metadata": {
        "id": "y5nm78Ed_fBk",
        "colab_type": "text"
      },
      "source": [
        "- Graphing a vector\n",
        "- Norm of a vector\n",
        "- Orthogonal\n",
        "- Determinant of a matrix\n",
        "- Mean, Variance, and Standard Deviation\n",
        "- Variance-covariance matrix\n",
        "- Principal component analysis (PCA)\n",
        "- Graphing PCA\n",
        "- Eigenvalues and Eigenvectors\n",
        "- K-Means"
      ]
    }
  ]
}