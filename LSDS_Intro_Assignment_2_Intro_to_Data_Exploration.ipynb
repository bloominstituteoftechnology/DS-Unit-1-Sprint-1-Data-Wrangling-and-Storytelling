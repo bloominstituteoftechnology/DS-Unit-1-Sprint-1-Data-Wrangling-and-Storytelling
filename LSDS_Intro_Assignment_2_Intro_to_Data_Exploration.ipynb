{
  "nbformat": 4,
  "nbformat_minor": 0,
  "metadata": {
    "colab": {
      "name": "LSDS Intro Assignment 2 - Intro to Data Exploration",
      "provenance": [],
      "include_colab_link": true
    },
    "kernelspec": {
      "name": "python3",
      "display_name": "Python 3"
    }
  },
  "cells": [
    {
      "cell_type": "markdown",
      "metadata": {
        "id": "view-in-github",
        "colab_type": "text"
      },
      "source": [
        "<a href=\"https://colab.research.google.com/github/tranitapalmer/DS-Unit-1-Sprint-1-Data-Wrangling-and-Storytelling/blob/master/LSDS_Intro_Assignment_2_Intro_to_Data_Exploration.ipynb\" target=\"_parent\"><img src=\"https://colab.research.google.com/assets/colab-badge.svg\" alt=\"Open In Colab\"/></a>"
      ]
    },
    {
      "cell_type": "markdown",
      "metadata": {
        "id": "dJNVAHIX8XCi",
        "colab_type": "text"
      },
      "source": [
        "## 1) Copy the notebook to your google account."
      ]
    },
    {
      "cell_type": "markdown",
      "metadata": {
        "id": "ViAyRUAM8cMo",
        "colab_type": "text"
      },
      "source": [
        "## 2) Import the pandas library and alias it as \"pd\"."
      ]
    },
    {
      "cell_type": "code",
      "metadata": {
        "id": "Kd_nusDS98v7",
        "colab_type": "code",
        "colab": {}
      },
      "source": [
        "##### Your Code Here #####"
      ],
      "execution_count": 0,
      "outputs": []
    },
    {
      "cell_type": "markdown",
      "metadata": {
        "id": "YjCgT50E8zPu",
        "colab_type": "text"
      },
      "source": [
        "## 3) Read in the CSV dataset that is found at the following URL:\n",
        "[DATASET HERE](https://raw.githubusercontent.com/ryanleeallred/datasets/master/messy-data.csv)\n"
      ]
    },
    {
      "cell_type": "code",
      "metadata": {
        "id": "HzEBd-hz99Ma",
        "colab_type": "code",
        "colab": {}
      },
      "source": [
        "##### Your Code Here #####"
      ],
      "execution_count": 0,
      "outputs": []
    },
    {
      "cell_type": "markdown",
      "metadata": {
        "id": "Mu1IYH3g9EF3",
        "colab_type": "text"
      },
      "source": [
        "## 4) Print out the shape as well as the first 5 rows of the dataframe."
      ]
    },
    {
      "cell_type": "code",
      "metadata": {
        "id": "ZLnVdtLW99vN",
        "colab_type": "code",
        "colab": {}
      },
      "source": [
        "##### Your Code Here #####"
      ],
      "execution_count": 0,
      "outputs": []
    },
    {
      "cell_type": "markdown",
      "metadata": {
        "id": "lQXA62rd9OWM",
        "colab_type": "text"
      },
      "source": [
        "## 5) Print out the datatypes of the dataframe columns (dataset features)."
      ]
    },
    {
      "cell_type": "code",
      "metadata": {
        "id": "5hPgdg0W9-1j",
        "colab_type": "code",
        "colab": {}
      },
      "source": [
        "##### Your Code Here #####"
      ],
      "execution_count": 0,
      "outputs": []
    },
    {
      "cell_type": "markdown",
      "metadata": {
        "id": "WcMnUSW5fb9b",
        "colab_type": "text"
      },
      "source": [
        "## 6) Print out the summary statistics of the numeric values of your dataset i.e. min, max, mean, standard deviation, etc."
      ]
    },
    {
      "cell_type": "code",
      "metadata": {
        "id": "4Np346ECfn0i",
        "colab_type": "code",
        "colab": {}
      },
      "source": [
        "##### Your Code Here #####"
      ],
      "execution_count": 0,
      "outputs": []
    },
    {
      "cell_type": "markdown",
      "metadata": {
        "id": "m2KFAh6T97-t",
        "colab_type": "text"
      },
      "source": [
        "## 6) Clean all NaN values from the dataset.\n",
        "\n",
        "Feel free to add code cells as needed."
      ]
    },
    {
      "cell_type": "code",
      "metadata": {
        "id": "9fkfvv5ELfuE",
        "colab_type": "code",
        "colab": {}
      },
      "source": [
        "##### Your Code Here #####"
      ],
      "execution_count": 0,
      "outputs": []
    },
    {
      "cell_type": "markdown",
      "metadata": {
        "id": "wP7BDqcwLauI",
        "colab_type": "text"
      },
      "source": [
        "## 6.1) Describe how you addressed the NaN values and give an explanation justifying your decision."
      ]
    },
    {
      "cell_type": "code",
      "metadata": {
        "id": "WMyNKMBa-Vsb",
        "colab_type": "code",
        "colab": {}
      },
      "source": [
        "##### Your Code Here #####"
      ],
      "execution_count": 0,
      "outputs": []
    },
    {
      "cell_type": "markdown",
      "metadata": {
        "id": "ln9-44Jg-V6d",
        "colab_type": "text"
      },
      "source": [
        "## 7) Create scatter plots using Matplotlib. Can you find any interesting relationships in the data? Be sure to label your axis and to give your graphs a title.\n",
        "\n",
        "Screenshot cool graphs that you create and share them with the slack channel. \n",
        "\n",
        "Don't forget to import matplotlib before trying to use it."
      ]
    },
    {
      "cell_type": "code",
      "metadata": {
        "id": "eeJwN6OBLUyv",
        "colab_type": "code",
        "colab": {}
      },
      "source": [
        "##### Your Code Here #####"
      ],
      "execution_count": 0,
      "outputs": []
    },
    {
      "cell_type": "markdown",
      "metadata": {
        "id": "yo4YDnjpmdAj",
        "colab_type": "text"
      },
      "source": [
        "## 8) STRETCH GOAL (Extra Credit)\n",
        "\n",
        "Machine Learning algorithms don't do well with categorical values that are represented by strings. In order to have this dataset completely cleaned we need to transform the categorical variables that are represented as strings into numeric categorical variables\n",
        "\n",
        "- **Turn all categorical features (columns) into numeric features**\n",
        "\n",
        "Hints:\n",
        "\n",
        "[Scikit-Learn One-Hot-Encoder](http://scikit-learn.org/stable/modules/generated/sklearn.preprocessing.OneHotEncoder.html)\n",
        "\n",
        "[Pandas Docs - Working with Categorical Data](https://pandas.pydata.org/pandas-docs/stable/categorical.html)\n",
        "\n",
        "[Guide to Encoding Categorical Variables in Python](http://pbpython.com/categorical-encoding.html)"
      ]
    }
  ]
}