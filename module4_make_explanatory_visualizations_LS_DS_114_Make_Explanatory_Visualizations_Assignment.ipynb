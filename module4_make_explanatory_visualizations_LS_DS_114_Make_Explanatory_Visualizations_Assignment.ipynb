{
  "nbformat": 4,
  "nbformat_minor": 0,
  "metadata": {
    "colab": {
      "name": "module4-make-explanatory-visualizations/LS_DS_114_Make_Explanatory_Visualizations_Assignment.ipynb",
      "provenance": [],
      "collapsed_sections": [],
      "include_colab_link": true
    },
    "language_info": {
      "codemirror_mode": {
        "name": "ipython",
        "version": 3
      },
      "file_extension": ".py",
      "mimetype": "text/x-python",
      "name": "python",
      "nbconvert_exporter": "python",
      "pygments_lexer": "ipython3",
      "version": "3.7.1"
    },
    "kernelspec": {
      "display_name": "Python 3",
      "language": "python",
      "name": "python3"
    }
  },
  "cells": [
    {
      "cell_type": "markdown",
      "metadata": {
        "id": "view-in-github",
        "colab_type": "text"
      },
      "source": [
        "<a href=\"https://colab.research.google.com/github/mljarman/DS-Unit-1-Sprint-1-Data-Wrangling-and-Storytelling/blob/master/module4_make_explanatory_visualizations_LS_DS_114_Make_Explanatory_Visualizations_Assignment.ipynb\" target=\"_parent\"><img src=\"https://colab.research.google.com/assets/colab-badge.svg\" alt=\"Open In Colab\"/></a>"
      ]
    },
    {
      "cell_type": "markdown",
      "metadata": {
        "colab_type": "text",
        "id": "NMEswXWh9mqw"
      },
      "source": [
        "Lambda School Data Science\n",
        "\n",
        "*Unit 1, Sprint 1, Module 4*\n",
        "\n",
        "---\n",
        "\n",
        "# ASSIGNMENT\n",
        "\n",
        "### 1) Replicate the lesson code. I recommend that you [do not copy-paste](https://docs.google.com/document/d/1ubOw9B3Hfip27hF2ZFnW3a3z9xAgrUDRReOEo-FHCVs/edit).\n",
        "\n",
        "Get caught up to where we got our example in class and then try and take things further. How close to \"pixel perfect\" can you make the lecture graph?\n",
        "\n",
        "Once you have something that you're proud of, share your graph in the cohort channel and move on to the second exercise.\n",
        "\n",
        "### 2) Reproduce another example from [FiveThityEight's shared data repository](https://data.fivethirtyeight.com/).\n",
        "\n",
        "**WARNING**: There are a lot of very custom graphs and tables at the above link. I **highly** recommend not trying to reproduce any that look like a table of values or something really different from the graph types that we are already familiar with. Search through the posts until you find a graph type that you are more or less familiar with: histogram, bar chart, stacked bar chart, line chart, [seaborn relplot](https://seaborn.pydata.org/generated/seaborn.relplot.html), etc. Recreating some of the graphics that 538 uses would be a lot easier in Adobe photoshop/illustrator than with matplotlib. \n",
        "\n",
        "- If you put in some time to find a graph that looks \"easy\" to replicate you'll probably find that it's not as easy as you thought. \n",
        "\n",
        "- If you start with a graph that looks hard to replicate you'll probably run up against a brick wall and be disappointed with your afternoon.\n",
        "\n",
        "\n",
        "\n",
        "\n",
        "\n",
        "\n",
        "\n",
        "\n",
        "\n",
        "\n"
      ]
    },
    {
      "cell_type": "markdown",
      "metadata": {
        "id": "a20LFmrdFA6E",
        "colab_type": "text"
      },
      "source": [
        "Exercise 1:"
      ]
    },
    {
      "cell_type": "code",
      "metadata": {
        "id": "7SY1ZHawyZvz",
        "colab_type": "code",
        "colab": {}
      },
      "source": [
        "# Starting from the beginning:\n",
        "%matplotlib inline\n",
        "import matplotlib.pyplot as plt\n",
        "import numpy as np\n",
        "import pandas as pd\n",
        "from matplotlib.ticker import(MultipleLocator, FormatStrFormatter, AutoMinorLocator)"
      ],
      "execution_count": 0,
      "outputs": []
    },
    {
      "cell_type": "code",
      "metadata": {
        "id": "_OJJQGeFE-0i",
        "colab_type": "code",
        "outputId": "129cb018-851c-4f0e-fc3c-465c9edf97a7",
        "colab": {
          "base_uri": "https://localhost:8080/",
          "height": 285
        }
      },
      "source": [
        "# Default matplot graph w/FiveThirtyEight styling:\n",
        "plt.style.use('fivethirtyeight')\n",
        "\n",
        "fake = pd.Series([38, 3, 2, 1, 2, 4, 6, 5, 5, 33],\n",
        "                 index=range(1, 11))\n",
        "fake.plot.bar(color='C1', width=.9);"
      ],
      "execution_count": 0,
      "outputs": [
        {
          "output_type": "display_data",
          "data": {
            "image/png": "[encoded data removed]",
            "text/plain": [
              "<Figure size 432x288 with 1 Axes>"
            ]
          },
          "metadata": {
            "tags": []
          }
        }
      ]
    },
    {
      "cell_type": "code",
      "metadata": {
        "id": "RJbVqFrEGCsy",
        "colab_type": "code",
        "outputId": "2b4502bf-80a2-49e5-ff00-96f111a0ba2b",
        "colab": {
          "base_uri": "https://localhost:8080/",
          "height": 355
        }
      },
      "source": [
        "# Desired outcome:\n",
        "from IPython.display import display, Image\n",
        "\n",
        "url = 'https://fivethirtyeight.com/wp-content/uploads/2017/09/mehtahickey-inconvenient-0830-1.png'\n",
        "example = Image(url=url, width=400)\n",
        "\n",
        "display(example)"
      ],
      "execution_count": 69,
      "outputs": [
        {
          "output_type": "display_data",
          "data": {
            "text/html": [
              "<img src=\"https://fivethirtyeight.com/wp-content/uploads/2017/09/mehtahickey-inconvenient-0830-1.png\" width=\"400\"/>"
            ],
            "text/plain": [
              "<IPython.core.display.Image object>"
            ]
          },
          "metadata": {
            "tags": []
          }
        }
      ]
    },
    {
      "cell_type": "code",
      "metadata": {
        "id": "TfYr2yVkGIch",
        "colab_type": "code",
        "outputId": "1a3568ae-792c-4e3e-d584-13a75d03e40f",
        "colab": {
          "base_uri": "https://localhost:8080/",
          "height": 329
        }
      },
      "source": [
        "fig, ax = plt.subplots()\n",
        "# Changed background of figure and axes to match \n",
        "fig.patch.set(facecolor='#383838')\n",
        "ax.set(facecolor='#383838')\n",
        "# Plot the data:\n",
        "fake.plot.bar(width=.94, color='#ED713A')\n",
        "# Set the x and y axes labels:\n",
        "ax.set_xlabel('Rating', fontsize=9)\n",
        "ax.set_ylabel('Percent of total votes', fontsize=9)\n",
        "#Fix the x and y axis tick marks and grid:\n",
        "ax.set_xticklabels(range(1, 11), \n",
        "                   rotation=0 , \n",
        "                   fontsize=9,\n",
        "                  color='white')\n",
        "labels = ['0', '10', '20', '30', '40%']\n",
        "ax.set_yticklabels(labels=labels,\n",
        "                  fontsize=9,\n",
        "                  color='white')\n",
        "ax.set_yticks(range(0, 50, 10))\n",
        "#Make left and right spines invisible:\n",
        "ax.spines['left'].set_color('none')\n",
        "ax.spines['right'].set_color('none')\n",
        "#Make top and bottom spines thinner:\n",
        "for axis in ['top', 'bottom']: ax.spines[axis].set_linewidth(.5)\n",
        "#Extend tick marks on x axis:\n",
        "ax.tick_params(axis ='both',\n",
        "               length=7, which='major', \n",
        "               color='white',\n",
        "               top=True)\n",
        "#Set the title and subtitle:\n",
        "ax.set_title(\"'An Inconvenient Sequel: Truth to Power' is divisive\",\n",
        "            fontsize=12,\n",
        "            x=.35,\n",
        "            y=1.15,\n",
        "            fontweight='demibold',\n",
        "            color= '#232323',)\n",
        "ax.text(s='IMDb ratings for the film as of Aug. 29',\n",
        "       fontsize=11,\n",
        "       x=-1.85,\n",
        "       y=44,\n",
        "       color= '#232323');\n",
        "#Get footer:\n",
        "\n"
      ],
      "execution_count": 68,
      "outputs": [
        {
          "output_type": "display_data",
          "data": {
            "image/png": "[encoded data removed]",
            "text/plain": [
              "<Figure size 432x288 with 1 Axes>"
            ]
          },
          "metadata": {
            "tags": []
          }
        }
      ]
    },
    {
      "cell_type": "markdown",
      "metadata": {
        "id": "6ZomhAY-ZqO5",
        "colab_type": "text"
      },
      "source": [
        "Exercise 2"
      ]
    },
    {
      "cell_type": "code",
      "metadata": {
        "id": "O9JvnfjuZp1Z",
        "colab_type": "code",
        "colab": {
          "base_uri": "https://localhost:8080/",
          "height": 334
        },
        "outputId": "8956c6db-75e5-4602-ca29-3925313f2755"
      },
      "source": [
        "#Desired outcome:\n",
        "url = 'https://fivethirtyeight.com/wp-content/uploads/2018/03/roeder-pepe-jesuspepe1.png?w=1150'\n",
        "example2 = Image(url=url, width=400)\n",
        "\n",
        "display(example2)"
      ],
      "execution_count": 70,
      "outputs": [
        {
          "output_type": "display_data",
          "data": {
            "text/html": [
              "<img src=\"https://fivethirtyeight.com/wp-content/uploads/2018/03/roeder-pepe-jesuspepe1.png?w=1150\" width=\"400\"/>"
            ],
            "text/plain": [
              "<IPython.core.display.Image object>"
            ]
          },
          "metadata": {
            "tags": []
          }
        }
      ]
    },
    {
      "cell_type": "code",
      "metadata": {
        "id": "50XaIyk3fwzg",
        "colab_type": "code",
        "colab": {
          "base_uri": "https://localhost:8080/",
          "height": 305
        },
        "outputId": "b6184527-a426-4346-c9fd-c598dad1e5fe"
      },
      "source": [
        "data =pd.Series([0, .9, .75, 7, 2],[0, 1.8, 2.8, 4.5, 4.5])\n",
        "\n",
        "fig, ax = plt.subplots()\n",
        "#Change figure and axes backgrounds to white:\n",
        "fig.patch.set(facecolor='white')\n",
        "ax.set(facecolor='white')\n",
        "#Add title:\n",
        "ax.set_title('SALE PRICE FOR A SINGLE JESUSPEPE SINCE NOVEMBER 2016',\n",
        "            color='grey',\n",
        "            fontweight='light',\n",
        "            fontsize=10)\n",
        "#Change color of line to match, add dot markers to points:\n",
        "data.plot(color='#CD6D3A',\n",
        "         linewidth=2,\n",
        "         marker='o')\n",
        "#Change x and y axis labels:\n",
        "xlabels=['NOV. 16', \"'JAN. '17\", 'MAR.', 'MAY', 'JULY']\n",
        "ylabels=[0, 2, 4, '$6k']\n",
        "ax.set_xticks(range(0, 6))\n",
        "ax.set_yticks(range(0, 8, 2))\n",
        "#y label wasn't starting at 0:\n",
        "ax.set_ylim(bottom=0)\n",
        "#back to labeling and formatting x and y axes:\n",
        "ax.set_xticklabels(labels=xlabels,\n",
        "                  color='grey',\n",
        "                  fontsize=9)\n",
        "ax.set_yticklabels(labels=ylabels,\n",
        "                  color='grey')\n",
        "#Extend tick marks on all spines:\n",
        "#Make left and right spines invisible:\n",
        "ax.spines['left'].set_color('none')\n",
        "ax.spines['right'].set_color('none')\n",
        "ax.spines['bottom'].set_color('black')\n",
        "ax.spines['top'].set_color('none')\n",
        "for axis in ['top', 'bottom']: ax.spines[axis].set_linewidth(.75)\n",
        "\n",
        "ax.tick_params(axis ='both',\n",
        "               length=9, which='major', \n",
        "               color='#F2F2F2',\n",
        "              direction='out')\n",
        "#Make gridline color match:\n",
        "ax.grid(color='#F2F2F2')\n",
        "#Trying to move nov 16 over as it is in the example\n",
        "ax.set_xlim()\n",
        "\n",
        "#Footer \n",
        "#don't know why it won't let me start a new line for the text string.\n",
        "txt1='value spike starting in December 2017'\n",
        "ax.text(s='Prices converted to U.S. dollars using value of Pepe Cash at time of sale. Pepe Cash experienced a \\n value spike starting in December 2017', \n",
        "        x=-0.25, y=-1.4, color='#959595', size=7);\n",
        "#fig.text(.6, -.012, txt1)"
      ],
      "execution_count": 276,
      "outputs": [
        {
          "output_type": "display_data",
          "data": {
            "image/png": "[encoded data removed]",
            "text/plain": [
              "<Figure size 432x288 with 1 Axes>"
            ]
          },
          "metadata": {
            "tags": []
          }
        }
      ]
    },
    {
      "cell_type": "markdown",
      "metadata": {
        "id": "0wSrBzmJyWaV",
        "colab_type": "text"
      },
      "source": [
        "# STRETCH OPTIONS\n",
        "\n",
        "### 1) Reproduce one of the following using the matplotlib or seaborn libraries:\n",
        "\n",
        "- [thanksgiving-2015](https://fivethirtyeight.com/features/heres-what-your-part-of-america-eats-on-thanksgiving/) \n",
        "- [candy-power-ranking](https://fivethirtyeight.com/features/the-ultimate-halloween-candy-power-ranking/) \n",
        "- or another example of your choice!\n",
        "\n",
        "### 2) Make more charts!\n",
        "\n",
        "Choose a chart you want to make, from [Visual Vocabulary - Vega Edition](http://ft.com/vocabulary).\n",
        "\n",
        "Find the chart in an example gallery of a Python data visualization library:\n",
        "- [Seaborn](http://seaborn.pydata.org/examples/index.html)\n",
        "- [Altair](https://altair-viz.github.io/gallery/index.html)\n",
        "- [Matplotlib](https://matplotlib.org/gallery.html)\n",
        "- [Pandas](https://pandas.pydata.org/pandas-docs/stable/visualization.html)\n",
        "\n",
        "Reproduce the chart. [Optionally, try the \"Ben Franklin Method.\"](https://docs.google.com/document/d/1ubOw9B3Hfip27hF2ZFnW3a3z9xAgrUDRReOEo-FHCVs/edit) If you want, experiment and make changes.\n",
        "\n",
        "Take notes. Consider sharing your work with your cohort!"
      ]
    },
    {
      "cell_type": "code",
      "metadata": {
        "id": "dRJkKftiy5BJ",
        "colab_type": "code",
        "colab": {}
      },
      "source": [
        "#"
      ],
      "execution_count": 0,
      "outputs": []
    }
  ]
}