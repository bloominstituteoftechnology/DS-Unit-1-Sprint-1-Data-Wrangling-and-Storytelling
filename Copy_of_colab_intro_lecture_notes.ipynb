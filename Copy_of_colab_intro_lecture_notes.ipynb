{
  "nbformat": 4,
  "nbformat_minor": 0,
  "metadata": {
    "colab": {
      "name": "Copy of colab_intro_lecture_notes.ipynb",
      "provenance": [],
      "include_colab_link": true
    },
    "kernelspec": {
      "name": "python3",
      "display_name": "Python 3"
    }
  },
  "cells": [
    {
      "cell_type": "markdown",
      "metadata": {
        "id": "view-in-github",
        "colab_type": "text"
      },
      "source": [
        "<a href=\"https://colab.research.google.com/github/ndow33/DS-Unit-1-Sprint-1-Data-Wrangling-and-Storytelling/blob/master/Copy_of_colab_intro_lecture_notes.ipynb\" target=\"_parent\"><img src=\"https://colab.research.google.com/assets/colab-badge.svg\" alt=\"Open In Colab\"/></a>"
      ]
    },
    {
      "cell_type": "markdown",
      "metadata": {
        "id": "kS-zSlbqnMab",
        "colab_type": "text"
      },
      "source": [
        "## Five ways to read your data into a colab notebook"
      ]
    },
    {
      "cell_type": "markdown",
      "metadata": {
        "id": "ooWH1zrTnUv5",
        "colab_type": "text"
      },
      "source": [
        "[Keyboard shortcuts for colab](https://medium.com/@tuewithmorris/google-colab-notebooks-keyboard-shortcuts-aa6a008fb91b)"
      ]
    },
    {
      "cell_type": "code",
      "metadata": {
        "id": "bOQsFNwQqGGu",
        "colab_type": "code",
        "colab": {}
      },
      "source": [
        "# import statements"
      ],
      "execution_count": 0,
      "outputs": []
    },
    {
      "cell_type": "markdown",
      "metadata": {
        "id": "zTxkbPxunfX_",
        "colab_type": "text"
      },
      "source": [
        "#### Method 1. Read data directly from a URL."
      ]
    },
    {
      "cell_type": "code",
      "metadata": {
        "id": "xRS0LmR4mOc6",
        "colab_type": "code",
        "colab": {}
      },
      "source": [
        "# Example from Tuesday's class.\n",
        "# Sometimes you have to supply the column heads.\n",
        "column_headers = ['name', 'landmass', 'zone', 'area', 'population', 'language', \n",
        "                  'religion', 'bars', 'stripes', 'colours', 'red', 'green', \n",
        "                  'blue', 'gold', 'white', 'black', 'orange', 'mainhue', \n",
        "                  'circles', 'crosses', 'saltires', 'quarters', 'sunstars', \n",
        "                  'crescent', 'triangle', 'icon', 'animate', 'text', 'topleft', \n",
        "                  'botright']\n",
        "flag_data_url = 'https://archive.ics.uci.edu/ml/machine-learning-databases/flags/flag.data'\n"
      ],
      "execution_count": 0,
      "outputs": []
    },
    {
      "cell_type": "code",
      "metadata": {
        "id": "ArZQWu4sqkr-",
        "colab_type": "code",
        "colab": {}
      },
      "source": [
        "# Here is another example that doesn't require the column heads.\n",
        "# source: # https://opendata.dc.gov/datasets/bike-trails/data\n",
        "url = 'https://opendata.arcgis.com/datasets/e8c2b7ef54fb43d9a2ed1b0b75d0a14d_4.csv'"
      ],
      "execution_count": 0,
      "outputs": []
    },
    {
      "cell_type": "code",
      "metadata": {
        "id": "96Xy0mdKyIco",
        "colab_type": "code",
        "colab": {}
      },
      "source": [
        ""
      ],
      "execution_count": 0,
      "outputs": []
    },
    {
      "cell_type": "code",
      "metadata": {
        "id": "rvidLCItqD_t",
        "colab_type": "code",
        "colab": {}
      },
      "source": [
        "# Yet another example.\n",
        "url='https://opendata.arcgis.com/datasets/2e65fc16edc3481989d2cc17e6f8c533_54.csv'\n",
        "# source: https://opendata.dc.gov/datasets/museums-in-dc/data"
      ],
      "execution_count": 0,
      "outputs": []
    },
    {
      "cell_type": "markdown",
      "metadata": {
        "id": "grAuDrewxWxN",
        "colab_type": "text"
      },
      "source": [
        "### Method 2. Read a file that is already in colab."
      ]
    },
    {
      "cell_type": "code",
      "metadata": {
        "id": "F2SKljBayUzP",
        "colab_type": "code",
        "colab": {}
      },
      "source": [
        "# So colab comes with some built in files.\n",
        "source_file1 = 'sample_data/california_housing_train.csv'"
      ],
      "execution_count": 0,
      "outputs": []
    },
    {
      "cell_type": "code",
      "metadata": {
        "id": "BRTviEe5yjlH",
        "colab_type": "code",
        "colab": {}
      },
      "source": [
        "# you can also read a json file. Notice the difference in pandas method.\n",
        "source_file2 ='sample_data/anscombe.json'"
      ],
      "execution_count": 0,
      "outputs": []
    },
    {
      "cell_type": "code",
      "metadata": {
        "id": "btvQh29T1gaz",
        "colab_type": "code",
        "colab": {}
      },
      "source": [
        "# Learn how to navigate your server \n"
      ],
      "execution_count": 0,
      "outputs": []
    },
    {
      "cell_type": "code",
      "metadata": {
        "id": "Q312GrNd1opc",
        "colab_type": "code",
        "colab": {}
      },
      "source": [
        "# What's the parent dir?\n"
      ],
      "execution_count": 0,
      "outputs": []
    },
    {
      "cell_type": "code",
      "metadata": {
        "id": "dSBmh4Fr17CW",
        "colab_type": "code",
        "colab": {}
      },
      "source": [
        "# List the contents of that folder\n"
      ],
      "execution_count": 0,
      "outputs": []
    },
    {
      "cell_type": "code",
      "metadata": {
        "id": "2tJPvgI_2Qxe",
        "colab_type": "code",
        "colab": {}
      },
      "source": [
        "# Use that to make a list of files.\n"
      ],
      "execution_count": 0,
      "outputs": []
    },
    {
      "cell_type": "code",
      "metadata": {
        "id": "LLD2VLXw2oUb",
        "colab_type": "code",
        "colab": {}
      },
      "source": [
        "# Now you can read that into colab using pandas\n"
      ],
      "execution_count": 0,
      "outputs": []
    },
    {
      "cell_type": "markdown",
      "metadata": {
        "id": "qeHx6P28ytB4",
        "colab_type": "text"
      },
      "source": [
        "### Method 3. Upload a file to colab.\n",
        "Reminder, uploaded files will get deleted when this runtime is recycled."
      ]
    },
    {
      "cell_type": "code",
      "metadata": {
        "id": "7Ul2Dp7mmprw",
        "colab_type": "code",
        "colab": {}
      },
      "source": [
        "# You can also use the manual upload GUI over on the left of your screen."
      ],
      "execution_count": 0,
      "outputs": []
    },
    {
      "cell_type": "code",
      "metadata": {
        "id": "t78DvRV2zgfa",
        "colab_type": "code",
        "colab": {}
      },
      "source": [
        "# You can also do this in a cell.\n"
      ],
      "execution_count": 0,
      "outputs": []
    },
    {
      "cell_type": "code",
      "metadata": {
        "id": "m30HlA8uzwIR",
        "colab_type": "code",
        "colab": {}
      },
      "source": [
        "# Now read in the dataset."
      ],
      "execution_count": 0,
      "outputs": []
    },
    {
      "cell_type": "markdown",
      "metadata": {
        "id": "-CSWxkb60T1X",
        "colab_type": "text"
      },
      "source": [
        "###  Method 4. Read a file that's saved on github\n",
        "https://github.com/austinlasseter/dash-virginia-counties"
      ]
    },
    {
      "cell_type": "code",
      "metadata": {
        "id": "xdrOK8Hb0oQC",
        "colab_type": "code",
        "colab": {}
      },
      "source": [
        "# useful for reading raw data from github.\n",
        "url='https://raw.githubusercontent.com/austinlasseter/dash-virginia-counties/master/resources/acs2017_county_data.csv'\n"
      ],
      "execution_count": 0,
      "outputs": []
    },
    {
      "cell_type": "markdown",
      "metadata": {
        "id": "CLkMz-Vr036O",
        "colab_type": "text"
      },
      "source": [
        "### Method 5. Read a zip file."
      ]
    },
    {
      "cell_type": "code",
      "metadata": {
        "id": "I7AK3MDR3TMR",
        "colab_type": "code",
        "colab": {}
      },
      "source": [
        "# use the 'bang' for bash shell scripting.\n"
      ],
      "execution_count": 0,
      "outputs": []
    },
    {
      "cell_type": "code",
      "metadata": {
        "id": "hjk1KJvz08ga",
        "colab_type": "code",
        "colab": {}
      },
      "source": [
        "# the 'wget' command reads content from the web.\n",
        "url = 'https://resources.lendingclub.com/LoanStats_2018Q4.csv.zip'"
      ],
      "execution_count": 0,
      "outputs": []
    },
    {
      "cell_type": "code",
      "metadata": {
        "id": "APhwauEt1F8w",
        "colab_type": "code",
        "colab": {}
      },
      "source": [
        "# how do you unzip a .zip file in bash?\n"
      ],
      "execution_count": 0,
      "outputs": []
    },
    {
      "cell_type": "code",
      "metadata": {
        "id": "d3KcFcwN33Uz",
        "colab_type": "code",
        "colab": {}
      },
      "source": [
        "# Now you can read that csv file into pandas.\n"
      ],
      "execution_count": 0,
      "outputs": []
    },
    {
      "cell_type": "code",
      "metadata": {
        "id": "3R6xx7HF4Az3",
        "colab_type": "code",
        "colab": {}
      },
      "source": [
        "## Footnote: You can also save files to csv (or other formats like pickle)\n"
      ],
      "execution_count": 0,
      "outputs": []
    },
    {
      "cell_type": "code",
      "metadata": {
        "id": "f8Ngyd2q4cgP",
        "colab_type": "code",
        "colab": {}
      },
      "source": [
        "# You can also save to csv, but remember to skip the index.\n"
      ],
      "execution_count": 0,
      "outputs": []
    },
    {
      "cell_type": "code",
      "metadata": {
        "id": "dV5vPBaz4qqE",
        "colab_type": "code",
        "colab": {}
      },
      "source": [
        ""
      ],
      "execution_count": 0,
      "outputs": []
    }
  ]
}