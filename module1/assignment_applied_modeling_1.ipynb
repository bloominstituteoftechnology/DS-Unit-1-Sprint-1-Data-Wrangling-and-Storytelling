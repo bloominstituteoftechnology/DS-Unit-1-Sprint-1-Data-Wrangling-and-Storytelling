{
  "nbformat": 4,
  "nbformat_minor": 0,
  "metadata": {
    "colab": {
      "name": "Copy of assignment_applied_modeling_1.ipynb",
      "provenance": [],
      "collapsed_sections": [],
      "include_colab_link": true
    },
    "kernelspec": {
      "display_name": "Python 3",
      "language": "python",
      "name": "python3"
    },
    "language_info": {
      "codemirror_mode": {
        "name": "ipython",
        "version": 3
      },
      "file_extension": ".py",
      "mimetype": "text/x-python",
      "name": "python",
      "nbconvert_exporter": "python",
      "pygments_lexer": "ipython3",
      "version": "3.7.3"
    }
  },
  "cells": [
    {
      "cell_type": "markdown",
      "metadata": {
        "id": "view-in-github",
        "colab_type": "text"
      },
      "source": [
        "<a href=\"https://colab.research.google.com/github/emma-rose22/DS-Unit-1-Sprint-1-Data-Wrangling-and-Storytelling/blob/master/module1/assignment_applied_modeling_1.ipynb\" target=\"_parent\"><img src=\"https://colab.research.google.com/assets/colab-badge.svg\" alt=\"Open In Colab\"/></a>"
      ]
    },
    {
      "cell_type": "markdown",
      "metadata": {
        "colab_type": "text",
        "id": "nCc3XZEyG3XV"
      },
      "source": [
        "Lambda School Data Science\n",
        "\n",
        "*Unit 2, Sprint 3, Module 1*\n",
        "\n",
        "---\n",
        "\n",
        "\n",
        "# Define ML problems\n",
        "\n",
        "You will use your portfolio project dataset for all assignments this sprint.\n",
        "\n",
        "## Assignment\n",
        "\n",
        "Complete these tasks for your project, and document your decisions.\n",
        "\n",
        "- [ ] Choose your target. Which column in your tabular dataset will you predict?\n",
        "- [ ] Is your problem regression or classification?\n",
        "- [ ] How is your target distributed?\n",
        "    - Classification: How many classes? Are the classes imbalanced?\n",
        "    - Regression: Is the target right-skewed? If so, you may want to log transform the target.\n",
        "- [ ] Choose your evaluation metric(s).\n",
        "    - Classification: Is your majority class frequency >= 50% and < 70% ? If so, you can just use accuracy if you want. Outside that range, accuracy could be misleading. What evaluation metric will you choose, in addition to or instead of accuracy?\n",
        "    - Regression: Will you use mean absolute error, root mean squared error, R^2, or other regression metrics?\n",
        "- [ ] Choose which observations you will use to train, validate, and test your model.\n",
        "    - Are some observations outliers? Will you exclude them?\n",
        "    - Will you do a random split or a time-based split?\n",
        "- [ ] Begin to clean and explore your data.\n",
        "- [ ] Begin to choose which features, if any, to exclude. Would some features \"leak\" future information?\n",
        "\n",
        "If you haven't found a dataset yet, do that today. [Review requirements for your portfolio project](https://lambdaschool.github.io/ds/unit2) and choose your dataset."
      ]
    },
    {
      "cell_type": "markdown",
      "metadata": {
        "id": "IOdK_LB7n3-B",
        "colab_type": "text"
      },
      "source": [
        "##Cleaning\n",
        "I am starting by copying in the cells I used in another notebook to clean up the data and merge my two sets together. I dropped measure and date from my mental health dataset because they are redundant/unnecessary.\n",
        "\n",
        "I renamed the states in mental_health so it could merge easily with suicide_rates, and dropped the URL and year column once I selected my 2017 data, because it was unnecessary. "
      ]
    },
    {
      "cell_type": "code",
      "metadata": {
        "id": "E9DOjQwxmoGD",
        "colab_type": "code",
        "colab": {}
      },
      "source": [
        "import pandas as pd\n",
        "import numpy as np\n",
        "\n",
        "mental_health = pd.read_csv('https://github.com/emma-rose22/Mental_Health_build2/raw/master/Mental%20Health%20Data.csv')\n",
        "mental_health.to_csv('mental_health_data.csv', encoding='utf-8')"
      ],
      "execution_count": 0,
      "outputs": []
    },
    {
      "cell_type": "code",
      "metadata": {
        "id": "80Tt8Xi4nCm8",
        "colab_type": "code",
        "colab": {}
      },
      "source": [
        "mental_health = mental_health.drop('measure', axis = 1)\n",
        "mental_health = mental_health.drop('Date', axis = 1)"
      ],
      "execution_count": 0,
      "outputs": []
    },
    {
      "cell_type": "code",
      "metadata": {
        "id": "D31iaZGznqd_",
        "colab_type": "code",
        "colab": {}
      },
      "source": [
        "mental_health['location'].replace(\n",
        "    {'Alabama': 'AL',\n",
        "    'Alaska' : 'AK',\n",
        "    'Arizona': 'AZ',\n",
        "    'Arkansas': 'AR',\n",
        "    'California': 'CA',\n",
        "    'Colorado': 'CO',\n",
        "    'Connecticut': 'CT',\n",
        "    'Delaware': 'DE',\n",
        "    'District of Columbia': 'DC',\n",
        "    'Florida': 'FL',\n",
        "    'Georgia': 'GA',\n",
        "    'Hawaii': 'HI',\n",
        "    'Idaho': 'ID',\n",
        "    'Illinois': 'IL',\n",
        "    'Indiana': 'IN',\n",
        "    'Iowa': 'IA',\n",
        "    'Kansas': 'KS',\n",
        "    'Kentucky': 'KY',\n",
        "    'Louisiana': 'LA',\n",
        "    'Maine': 'ME',\n",
        "    'Maryland': 'MD',\n",
        "    'Massachusetts': 'MA',\n",
        "    'Michigan': 'MI',\n",
        "    'Minnesota': 'MN',\n",
        "    'Mississippi': 'MS',\n",
        "    'Missouri': 'MO',\n",
        "    'Montana': 'MT',\n",
        "    'Nebraska': 'NE',\n",
        "    'Nevada': 'NV',\n",
        "    ' NV': 'NV',\n",
        "    'New Hampshire': 'NH',\n",
        "    'New Jersey': 'NJ',\n",
        "    'New Mexico': 'NM',\n",
        "    'New York': 'NY',\n",
        "    'North Carolina': 'NC',\n",
        "    'North Dakota': 'ND',\n",
        "    'Ohio': 'OH',\n",
        "    'Oklahoma': 'OK',\n",
        "    'Oregon': 'OR',\n",
        "    'Pennsylvania': 'PI',\n",
        "    'Rhode Island': 'RI',\n",
        "    'South Carolina': 'SC',\n",
        "    'South Dakota': 'SD',\n",
        "    'Tennessee': 'TN',\n",
        "    'Texas': 'TX',\n",
        "    'Utah': 'UT',\n",
        "    'Vermont': 'VT',\n",
        "    'Virginia': 'VA',\n",
        "    'Washington': 'WA',\n",
        "    'West Virginia': 'WV',\n",
        "    'Wisconsin': 'WI',\n",
        "    'Wyoming': 'WY'}, inplace=True)\n",
        "   "
      ],
      "execution_count": 0,
      "outputs": []
    },
    {
      "cell_type": "code",
      "metadata": {
        "id": "46UgBjqBn2j5",
        "colab_type": "code",
        "colab": {}
      },
      "source": [
        "suicide_rate = pd.read_csv('https://github.com/emma-rose22/Mental_Health_build2/raw/master/Suicide%20Mortality%20by%20State.csv')\n",
        "suicide_rate.to_csv('suicide_rate_data.csv', encoding='utf-8')"
      ],
      "execution_count": 0,
      "outputs": []
    },
    {
      "cell_type": "code",
      "metadata": {
        "id": "kjogAttVoK-x",
        "colab_type": "code",
        "colab": {}
      },
      "source": [
        "suicide_rate = suicide_rate[suicide_rate['YEAR'] == 2017.0]"
      ],
      "execution_count": 0,
      "outputs": []
    },
    {
      "cell_type": "code",
      "metadata": {
        "id": "L-A9vvnEoRnL",
        "colab_type": "code",
        "colab": {}
      },
      "source": [
        "suicide_rate = suicide_rate.drop('URL', axis = 1)\n",
        "suicide_rate = suicide_rate.drop('YEAR', axis=1)"
      ],
      "execution_count": 0,
      "outputs": []
    },
    {
      "cell_type": "code",
      "metadata": {
        "id": "PCIAP0itoXdB",
        "colab_type": "code",
        "colab": {}
      },
      "source": [
        "suicide_rate.rename(columns={'STATE':'location'}, inplace=True)"
      ],
      "execution_count": 0,
      "outputs": []
    },
    {
      "cell_type": "code",
      "metadata": {
        "id": "Dxbs_U-3oalL",
        "colab_type": "code",
        "colab": {
          "base_uri": "https://localhost:8080/",
          "height": 665
        },
        "outputId": "81587bb3-d5ec-45d2-a500-b64f94a75993"
      },
      "source": [
        "mental_health_clean = pd.merge(mental_health, suicide_rate,\n",
        "how='left', on='location')\n",
        "\n",
        "mental_health_clean.head(20)"
      ],
      "execution_count": 22,
      "outputs": [
        {
          "output_type": "execute_result",
          "data": {
            "text/html": [
              "<div>\n",
              "<style scoped>\n",
              "    .dataframe tbody tr th:only-of-type {\n",
              "        vertical-align: middle;\n",
              "    }\n",
              "\n",
              "    .dataframe tbody tr th {\n",
              "        vertical-align: top;\n",
              "    }\n",
              "\n",
              "    .dataframe thead th {\n",
              "        text-align: right;\n",
              "    }\n",
              "</style>\n",
              "<table border=\"1\" class=\"dataframe\">\n",
              "  <thead>\n",
              "    <tr style=\"text-align: right;\">\n",
              "      <th></th>\n",
              "      <th>location</th>\n",
              "      <th>indicator</th>\n",
              "      <th>Unit</th>\n",
              "      <th>Value</th>\n",
              "      <th>RATE</th>\n",
              "      <th>DEATHS</th>\n",
              "    </tr>\n",
              "  </thead>\n",
              "  <tbody>\n",
              "    <tr>\n",
              "      <th>0</th>\n",
              "      <td>United States</td>\n",
              "      <td>Adults with Disability who Could Not See a Doc...</td>\n",
              "      <td>Number</td>\n",
              "      <td>10663174.00</td>\n",
              "      <td>NaN</td>\n",
              "      <td>NaN</td>\n",
              "    </tr>\n",
              "    <tr>\n",
              "      <th>1</th>\n",
              "      <td>United States</td>\n",
              "      <td>Children with Private Insurance that Did Not C...</td>\n",
              "      <td>%</td>\n",
              "      <td>7.70</td>\n",
              "      <td>NaN</td>\n",
              "      <td>NaN</td>\n",
              "    </tr>\n",
              "    <tr>\n",
              "      <th>2</th>\n",
              "      <td>United States</td>\n",
              "      <td>Children with Private Insurance that Did Not C...</td>\n",
              "      <td>Number</td>\n",
              "      <td>884000.00</td>\n",
              "      <td>NaN</td>\n",
              "      <td>NaN</td>\n",
              "    </tr>\n",
              "    <tr>\n",
              "      <th>3</th>\n",
              "      <td>United States</td>\n",
              "      <td>Youth with Severe MDE who Received Some Consis...</td>\n",
              "      <td>%</td>\n",
              "      <td>23.40</td>\n",
              "      <td>NaN</td>\n",
              "      <td>NaN</td>\n",
              "    </tr>\n",
              "    <tr>\n",
              "      <th>4</th>\n",
              "      <td>United States</td>\n",
              "      <td>Youth with Severe MDE who Received Some Consis...</td>\n",
              "      <td>Number</td>\n",
              "      <td>447000.00</td>\n",
              "      <td>NaN</td>\n",
              "      <td>NaN</td>\n",
              "    </tr>\n",
              "    <tr>\n",
              "      <th>5</th>\n",
              "      <td>United States</td>\n",
              "      <td>Mental Health Workforce Availability</td>\n",
              "      <td>Population per mental health provider</td>\n",
              "      <td>536.00</td>\n",
              "      <td>NaN</td>\n",
              "      <td>NaN</td>\n",
              "    </tr>\n",
              "    <tr>\n",
              "      <th>6</th>\n",
              "      <td>United States</td>\n",
              "      <td>Youth with MDE who Did Not Receive Mental Heal...</td>\n",
              "      <td>%</td>\n",
              "      <td>63.00</td>\n",
              "      <td>NaN</td>\n",
              "      <td>NaN</td>\n",
              "    </tr>\n",
              "    <tr>\n",
              "      <th>7</th>\n",
              "      <td>United States</td>\n",
              "      <td>Youth with MDE who Did Not Receive Mental Heal...</td>\n",
              "      <td>Number</td>\n",
              "      <td>1548000.00</td>\n",
              "      <td>NaN</td>\n",
              "      <td>NaN</td>\n",
              "    </tr>\n",
              "    <tr>\n",
              "      <th>8</th>\n",
              "      <td>United States</td>\n",
              "      <td>Adults with Disability who Could Not See a Doc...</td>\n",
              "      <td>%</td>\n",
              "      <td>21.62</td>\n",
              "      <td>NaN</td>\n",
              "      <td>NaN</td>\n",
              "    </tr>\n",
              "    <tr>\n",
              "      <th>9</th>\n",
              "      <td>United States</td>\n",
              "      <td>Adults with AMI Reporting Unmet Need</td>\n",
              "      <td>%</td>\n",
              "      <td>20.10</td>\n",
              "      <td>NaN</td>\n",
              "      <td>NaN</td>\n",
              "    </tr>\n",
              "    <tr>\n",
              "      <th>10</th>\n",
              "      <td>United States</td>\n",
              "      <td>Adults with AMI Reporting Unmet Need</td>\n",
              "      <td>Number</td>\n",
              "      <td>8752000.00</td>\n",
              "      <td>NaN</td>\n",
              "      <td>NaN</td>\n",
              "    </tr>\n",
              "    <tr>\n",
              "      <th>11</th>\n",
              "      <td>United States</td>\n",
              "      <td>Students Identified with Emotional Disturbance...</td>\n",
              "      <td>Number</td>\n",
              "      <td>344609.00</td>\n",
              "      <td>NaN</td>\n",
              "      <td>NaN</td>\n",
              "    </tr>\n",
              "    <tr>\n",
              "      <th>12</th>\n",
              "      <td>United States</td>\n",
              "      <td>Adults with AMI who Did Not Receive Treatment</td>\n",
              "      <td>Number</td>\n",
              "      <td>24280000.00</td>\n",
              "      <td>NaN</td>\n",
              "      <td>NaN</td>\n",
              "    </tr>\n",
              "    <tr>\n",
              "      <th>13</th>\n",
              "      <td>United States</td>\n",
              "      <td>Adults with AMI who are Uninsured</td>\n",
              "      <td>%</td>\n",
              "      <td>14.70</td>\n",
              "      <td>NaN</td>\n",
              "      <td>NaN</td>\n",
              "    </tr>\n",
              "    <tr>\n",
              "      <th>14</th>\n",
              "      <td>United States</td>\n",
              "      <td>Adults with AMI who are Uninsured</td>\n",
              "      <td>Number</td>\n",
              "      <td>6389000.00</td>\n",
              "      <td>NaN</td>\n",
              "      <td>NaN</td>\n",
              "    </tr>\n",
              "    <tr>\n",
              "      <th>15</th>\n",
              "      <td>United States</td>\n",
              "      <td>Students Identified with Emotional Disturbance...</td>\n",
              "      <td>per 1000 students</td>\n",
              "      <td>7.63</td>\n",
              "      <td>NaN</td>\n",
              "      <td>NaN</td>\n",
              "    </tr>\n",
              "    <tr>\n",
              "      <th>16</th>\n",
              "      <td>United States</td>\n",
              "      <td>Adults with AMI who Did Not Receive Treatment</td>\n",
              "      <td>%</td>\n",
              "      <td>55.80</td>\n",
              "      <td>NaN</td>\n",
              "      <td>NaN</td>\n",
              "    </tr>\n",
              "    <tr>\n",
              "      <th>17</th>\n",
              "      <td>AL</td>\n",
              "      <td>Adults with AMI who are Uninsured</td>\n",
              "      <td>Rank,1=Highest mental health provider</td>\n",
              "      <td>43.00</td>\n",
              "      <td>16.6</td>\n",
              "      <td>836</td>\n",
              "    </tr>\n",
              "    <tr>\n",
              "      <th>18</th>\n",
              "      <td>AL</td>\n",
              "      <td>Adults with AMI who Did Not Receive Treatment</td>\n",
              "      <td>Number</td>\n",
              "      <td>222000.00</td>\n",
              "      <td>16.6</td>\n",
              "      <td>836</td>\n",
              "    </tr>\n",
              "    <tr>\n",
              "      <th>19</th>\n",
              "      <td>AL</td>\n",
              "      <td>Adults with AMI who are Uninsured</td>\n",
              "      <td>%</td>\n",
              "      <td>19.30</td>\n",
              "      <td>16.6</td>\n",
              "      <td>836</td>\n",
              "    </tr>\n",
              "  </tbody>\n",
              "</table>\n",
              "</div>"
            ],
            "text/plain": [
              "         location  ... DEATHS\n",
              "0   United States  ...    NaN\n",
              "1   United States  ...    NaN\n",
              "2   United States  ...    NaN\n",
              "3   United States  ...    NaN\n",
              "4   United States  ...    NaN\n",
              "5   United States  ...    NaN\n",
              "6   United States  ...    NaN\n",
              "7   United States  ...    NaN\n",
              "8   United States  ...    NaN\n",
              "9   United States  ...    NaN\n",
              "10  United States  ...    NaN\n",
              "11  United States  ...    NaN\n",
              "12  United States  ...    NaN\n",
              "13  United States  ...    NaN\n",
              "14  United States  ...    NaN\n",
              "15  United States  ...    NaN\n",
              "16  United States  ...    NaN\n",
              "17             AL  ...    836\n",
              "18             AL  ...    836\n",
              "19             AL  ...    836\n",
              "\n",
              "[20 rows x 6 columns]"
            ]
          },
          "metadata": {
            "tags": []
          },
          "execution_count": 22
        }
      ]
    },
    {
      "cell_type": "code",
      "metadata": {
        "id": "18QALy9ED0QX",
        "colab_type": "code",
        "colab": {}
      },
      "source": [
        "mental_health_clean = mental_health_clean[mental_health_clean['location'] != 'United States']"
      ],
      "execution_count": 0,
      "outputs": []
    },
    {
      "cell_type": "code",
      "metadata": {
        "id": "IxlENtPoEHDX",
        "colab_type": "code",
        "colab": {
          "base_uri": "https://localhost:8080/",
          "height": 203
        },
        "outputId": "f59c9ced-02e1-42e7-fb7a-52290319d777"
      },
      "source": [
        "mental_health_clean.head()"
      ],
      "execution_count": 80,
      "outputs": [
        {
          "output_type": "execute_result",
          "data": {
            "text/html": [
              "<div>\n",
              "<style scoped>\n",
              "    .dataframe tbody tr th:only-of-type {\n",
              "        vertical-align: middle;\n",
              "    }\n",
              "\n",
              "    .dataframe tbody tr th {\n",
              "        vertical-align: top;\n",
              "    }\n",
              "\n",
              "    .dataframe thead th {\n",
              "        text-align: right;\n",
              "    }\n",
              "</style>\n",
              "<table border=\"1\" class=\"dataframe\">\n",
              "  <thead>\n",
              "    <tr style=\"text-align: right;\">\n",
              "      <th></th>\n",
              "      <th>location</th>\n",
              "      <th>indicator</th>\n",
              "      <th>Unit</th>\n",
              "      <th>Value</th>\n",
              "      <th>RATE</th>\n",
              "      <th>DEATHS</th>\n",
              "    </tr>\n",
              "  </thead>\n",
              "  <tbody>\n",
              "    <tr>\n",
              "      <th>17</th>\n",
              "      <td>AL</td>\n",
              "      <td>Adults with AMI who are Uninsured</td>\n",
              "      <td>Rank,1=Highest mental health provider</td>\n",
              "      <td>43.0</td>\n",
              "      <td>16.6</td>\n",
              "      <td>836</td>\n",
              "    </tr>\n",
              "    <tr>\n",
              "      <th>18</th>\n",
              "      <td>AL</td>\n",
              "      <td>Adults with AMI who Did Not Receive Treatment</td>\n",
              "      <td>Number</td>\n",
              "      <td>222000.0</td>\n",
              "      <td>16.6</td>\n",
              "      <td>836</td>\n",
              "    </tr>\n",
              "    <tr>\n",
              "      <th>19</th>\n",
              "      <td>AL</td>\n",
              "      <td>Adults with AMI who are Uninsured</td>\n",
              "      <td>%</td>\n",
              "      <td>19.3</td>\n",
              "      <td>16.6</td>\n",
              "      <td>836</td>\n",
              "    </tr>\n",
              "    <tr>\n",
              "      <th>20</th>\n",
              "      <td>AL</td>\n",
              "      <td>Adults with AMI who are Uninsured</td>\n",
              "      <td>Number</td>\n",
              "      <td>136000.0</td>\n",
              "      <td>16.6</td>\n",
              "      <td>836</td>\n",
              "    </tr>\n",
              "    <tr>\n",
              "      <th>21</th>\n",
              "      <td>AL</td>\n",
              "      <td>Adults with AMI Reporting Unmet Need</td>\n",
              "      <td>%</td>\n",
              "      <td>19.8</td>\n",
              "      <td>16.6</td>\n",
              "      <td>836</td>\n",
              "    </tr>\n",
              "  </tbody>\n",
              "</table>\n",
              "</div>"
            ],
            "text/plain": [
              "   location                                      indicator  ...  RATE  DEATHS\n",
              "17       AL              Adults with AMI who are Uninsured  ...  16.6     836\n",
              "18       AL  Adults with AMI who Did Not Receive Treatment  ...  16.6     836\n",
              "19       AL              Adults with AMI who are Uninsured  ...  16.6     836\n",
              "20       AL              Adults with AMI who are Uninsured  ...  16.6     836\n",
              "21       AL           Adults with AMI Reporting Unmet Need  ...  16.6     836\n",
              "\n",
              "[5 rows x 6 columns]"
            ]
          },
          "metadata": {
            "tags": []
          },
          "execution_count": 80
        }
      ]
    },
    {
      "cell_type": "code",
      "metadata": {
        "id": "IkO-DadkRdeb",
        "colab_type": "code",
        "colab": {
          "base_uri": "https://localhost:8080/",
          "height": 211
        },
        "outputId": "779f99c9-2e8a-4382-98f0-06c63697ddff"
      },
      "source": [
        "mental_health_clean['indicator'].value_counts()"
      ],
      "execution_count": 111,
      "outputs": [
        {
          "output_type": "execute_result",
          "data": {
            "text/plain": [
              "Adults with Disability who Could Not See a Doctor Due to Costs                            153\n",
              "Students Identified with Emotional Disturbance for an Individualized Education Program    153\n",
              "Adults with AMI who Did Not Receive Treatment                                             153\n",
              "Youth with MDE who Did Not Receive Mental Health Services                                 153\n",
              "Youth with Severe MDE who Received Some Consistent Treatment                              153\n",
              "Adults with AMI who are Uninsured                                                         153\n",
              "Adults with AMI Reporting Unmet Need                                                      153\n",
              "Children with Private Insurance that Did Not Cover Mental or Emotional Problems           153\n",
              "Mental Health Workforce Availability                                                      102\n",
              "Access to Care Ranking                                                                     51\n",
              "Name: indicator, dtype: int64"
            ]
          },
          "metadata": {
            "tags": []
          },
          "execution_count": 111
        }
      ]
    },
    {
      "cell_type": "code",
      "metadata": {
        "id": "vgWZ2YBTojmQ",
        "colab_type": "code",
        "colab": {
          "base_uri": "https://localhost:8080/",
          "height": 1000
        },
        "outputId": "4fa5a5f0-690a-4edd-a56c-e20ca0908ef5"
      },
      "source": [
        "pivot_health = pd.pivot_table(mental_health_clean,index=[\"location\", 'DEATHS', 'RATE','indicator', 'Unit', ],values=[\"Value\", 'RATE'])\n",
        "pivot_health.head(30)"
      ],
      "execution_count": 110,
      "outputs": [
        {
          "output_type": "execute_result",
          "data": {
            "text/html": [
              "<div>\n",
              "<style scoped>\n",
              "    .dataframe tbody tr th:only-of-type {\n",
              "        vertical-align: middle;\n",
              "    }\n",
              "\n",
              "    .dataframe tbody tr th {\n",
              "        vertical-align: top;\n",
              "    }\n",
              "\n",
              "    .dataframe thead th {\n",
              "        text-align: right;\n",
              "    }\n",
              "</style>\n",
              "<table border=\"1\" class=\"dataframe\">\n",
              "  <thead>\n",
              "    <tr style=\"text-align: right;\">\n",
              "      <th></th>\n",
              "      <th></th>\n",
              "      <th></th>\n",
              "      <th></th>\n",
              "      <th></th>\n",
              "      <th>Value</th>\n",
              "    </tr>\n",
              "    <tr>\n",
              "      <th>location</th>\n",
              "      <th>DEATHS</th>\n",
              "      <th>RATE</th>\n",
              "      <th>indicator</th>\n",
              "      <th>Unit</th>\n",
              "      <th></th>\n",
              "    </tr>\n",
              "  </thead>\n",
              "  <tbody>\n",
              "    <tr>\n",
              "      <th rowspan=\"27\" valign=\"top\">AK</th>\n",
              "      <th rowspan=\"27\" valign=\"top\">200</th>\n",
              "      <th rowspan=\"27\" valign=\"top\">27.0</th>\n",
              "      <th>Access to Care Ranking</th>\n",
              "      <th>Rank,1=Highest mental health provider</th>\n",
              "      <td>20.00</td>\n",
              "    </tr>\n",
              "    <tr>\n",
              "      <th rowspan=\"3\" valign=\"top\">Adults with AMI Reporting Unmet Need</th>\n",
              "      <th>%</th>\n",
              "      <td>19.20</td>\n",
              "    </tr>\n",
              "    <tr>\n",
              "      <th>Number</th>\n",
              "      <td>18000.00</td>\n",
              "    </tr>\n",
              "    <tr>\n",
              "      <th>Rank,1=Highest mental health provider</th>\n",
              "      <td>15.00</td>\n",
              "    </tr>\n",
              "    <tr>\n",
              "      <th rowspan=\"3\" valign=\"top\">Adults with AMI who Did Not Receive Treatment</th>\n",
              "      <th>%</th>\n",
              "      <td>63.90</td>\n",
              "    </tr>\n",
              "    <tr>\n",
              "      <th>Number</th>\n",
              "      <td>436000.00</td>\n",
              "    </tr>\n",
              "    <tr>\n",
              "      <th>Rank,1=Highest mental health provider</th>\n",
              "      <td>50.00</td>\n",
              "    </tr>\n",
              "    <tr>\n",
              "      <th rowspan=\"3\" valign=\"top\">Adults with AMI who are Uninsured</th>\n",
              "      <th>%</th>\n",
              "      <td>14.90</td>\n",
              "    </tr>\n",
              "    <tr>\n",
              "      <th>Number</th>\n",
              "      <td>14000.00</td>\n",
              "    </tr>\n",
              "    <tr>\n",
              "      <th>Rank,1=Highest mental health provider</th>\n",
              "      <td>30.00</td>\n",
              "    </tr>\n",
              "    <tr>\n",
              "      <th rowspan=\"3\" valign=\"top\">Adults with Disability who Could Not See a Doctor Due to Costs</th>\n",
              "      <th>%</th>\n",
              "      <td>20.98</td>\n",
              "    </tr>\n",
              "    <tr>\n",
              "      <th>Number</th>\n",
              "      <td>23610.00</td>\n",
              "    </tr>\n",
              "    <tr>\n",
              "      <th>Rank,1=Highest mental health provider</th>\n",
              "      <td>30.00</td>\n",
              "    </tr>\n",
              "    <tr>\n",
              "      <th rowspan=\"3\" valign=\"top\">Children with Private Insurance that Did Not Cover Mental or Emotional Problems</th>\n",
              "      <th>%</th>\n",
              "      <td>7.60</td>\n",
              "    </tr>\n",
              "    <tr>\n",
              "      <th>Number</th>\n",
              "      <td>2000.00</td>\n",
              "    </tr>\n",
              "    <tr>\n",
              "      <th>Rank,1=Highest mental health provider</th>\n",
              "      <td>28.00</td>\n",
              "    </tr>\n",
              "    <tr>\n",
              "      <th rowspan=\"2\" valign=\"top\">Mental Health Workforce Availability</th>\n",
              "      <th>Population per mental health provider</th>\n",
              "      <td>300.00</td>\n",
              "    </tr>\n",
              "    <tr>\n",
              "      <th>Rank,1=Highest mental health provider</th>\n",
              "      <td>9.00</td>\n",
              "    </tr>\n",
              "    <tr>\n",
              "      <th rowspan=\"3\" valign=\"top\">Students Identified with Emotional Disturbance for an Individualized Education Program</th>\n",
              "      <th>Number</th>\n",
              "      <td>665.00</td>\n",
              "    </tr>\n",
              "    <tr>\n",
              "      <th>Rank,1=Highest mental health provider</th>\n",
              "      <td>38.00</td>\n",
              "    </tr>\n",
              "    <tr>\n",
              "      <th>per 1000 students</th>\n",
              "      <td>5.66</td>\n",
              "    </tr>\n",
              "    <tr>\n",
              "      <th rowspan=\"3\" valign=\"top\">Youth with MDE who Did Not Receive Mental Health Services</th>\n",
              "      <th>%</th>\n",
              "      <td>53.10</td>\n",
              "    </tr>\n",
              "    <tr>\n",
              "      <th>Number</th>\n",
              "      <td>3000.00</td>\n",
              "    </tr>\n",
              "    <tr>\n",
              "      <th>Rank,1=Highest mental health provider</th>\n",
              "      <td>5.00</td>\n",
              "    </tr>\n",
              "    <tr>\n",
              "      <th rowspan=\"3\" valign=\"top\">Youth with Severe MDE who Received Some Consistent Treatment</th>\n",
              "      <th>%</th>\n",
              "      <td>35.10</td>\n",
              "    </tr>\n",
              "    <tr>\n",
              "      <th>Number</th>\n",
              "      <td>1000.00</td>\n",
              "    </tr>\n",
              "    <tr>\n",
              "      <th>Rank,1=Highest mental health provider</th>\n",
              "      <td>4.00</td>\n",
              "    </tr>\n",
              "    <tr>\n",
              "      <th rowspan=\"3\" valign=\"top\">AL</th>\n",
              "      <th rowspan=\"3\" valign=\"top\">836</th>\n",
              "      <th rowspan=\"3\" valign=\"top\">16.6</th>\n",
              "      <th>Access to Care Ranking</th>\n",
              "      <th>Rank,1=Highest mental health provider</th>\n",
              "      <td>48.00</td>\n",
              "    </tr>\n",
              "    <tr>\n",
              "      <th rowspan=\"2\" valign=\"top\">Adults with AMI Reporting Unmet Need</th>\n",
              "      <th>%</th>\n",
              "      <td>19.80</td>\n",
              "    </tr>\n",
              "    <tr>\n",
              "      <th>Number</th>\n",
              "      <td>140000.00</td>\n",
              "    </tr>\n",
              "  </tbody>\n",
              "</table>\n",
              "</div>"
            ],
            "text/plain": [
              "                                                                                                                   Value\n",
              "location DEATHS RATE indicator                                          Unit                                            \n",
              "AK       200    27.0 Access to Care Ranking                             Rank,1=Highest mental health provider      20.00\n",
              "                     Adults with AMI Reporting Unmet Need               %                                          19.20\n",
              "                                                                        Number                                  18000.00\n",
              "                                                                        Rank,1=Highest mental health provider      15.00\n",
              "                     Adults with AMI who Did Not Receive Treatment      %                                          63.90\n",
              "                                                                        Number                                 436000.00\n",
              "                                                                        Rank,1=Highest mental health provider      50.00\n",
              "                     Adults with AMI who are Uninsured                  %                                          14.90\n",
              "                                                                        Number                                  14000.00\n",
              "                                                                        Rank,1=Highest mental health provider      30.00\n",
              "                     Adults with Disability who Could Not See a Doct... %                                          20.98\n",
              "                                                                        Number                                  23610.00\n",
              "                                                                        Rank,1=Highest mental health provider      30.00\n",
              "                     Children with Private Insurance that Did Not Co... %                                           7.60\n",
              "                                                                        Number                                   2000.00\n",
              "                                                                        Rank,1=Highest mental health provider      28.00\n",
              "                     Mental Health Workforce Availability               Population per mental health provider     300.00\n",
              "                                                                        Rank,1=Highest mental health provider       9.00\n",
              "                     Students Identified with Emotional Disturbance ... Number                                    665.00\n",
              "                                                                        Rank,1=Highest mental health provider      38.00\n",
              "                                                                        per 1000 students                           5.66\n",
              "                     Youth with MDE who Did Not Receive Mental Healt... %                                          53.10\n",
              "                                                                        Number                                   3000.00\n",
              "                                                                        Rank,1=Highest mental health provider       5.00\n",
              "                     Youth with Severe MDE who Received Some Consist... %                                          35.10\n",
              "                                                                        Number                                   1000.00\n",
              "                                                                        Rank,1=Highest mental health provider       4.00\n",
              "AL       836    16.6 Access to Care Ranking                             Rank,1=Highest mental health provider      48.00\n",
              "                     Adults with AMI Reporting Unmet Need               %                                          19.80\n",
              "                                                                        Number                                 140000.00"
            ]
          },
          "metadata": {
            "tags": []
          },
          "execution_count": 110
        }
      ]
    },
    {
      "cell_type": "markdown",
      "metadata": {
        "id": "snMFrmxlKQQt",
        "colab_type": "text"
      },
      "source": [
        "##I may have to divide my dataset into smaller datasets\n",
        "I am leaving this here until I decide I need to. The pivot table is really hard to work with so I am going back to the original dataframe and am going to see if that works even though it is very unorganized. "
      ]
    },
    {
      "cell_type": "code",
      "metadata": {
        "id": "6vuDed3GFQCY",
        "colab_type": "code",
        "colab": {}
      },
      "source": [
        "adult_ami_uninsured= (mental_health_clean[mental_health_clean['indicator'] == 'Adults with AMI who are Uninsured'])\t"
      ],
      "execution_count": 0,
      "outputs": []
    },
    {
      "cell_type": "code",
      "metadata": {
        "id": "_FOPnh9MIRWj",
        "colab_type": "code",
        "colab": {}
      },
      "source": [
        "adult_ami_uninsured = pd.DataFrame(adult_ami_uninsured)"
      ],
      "execution_count": 0,
      "outputs": []
    },
    {
      "cell_type": "code",
      "metadata": {
        "id": "TeGAljiMJJi8",
        "colab_type": "code",
        "colab": {}
      },
      "source": [
        "adult_ami_uninsured = adult_ami_uninsured.rename(columns={'Value': 'Adults with AMI who are uninsured'})"
      ],
      "execution_count": 0,
      "outputs": []
    },
    {
      "cell_type": "code",
      "metadata": {
        "id": "ugx2bsCUKB_J",
        "colab_type": "code",
        "colab": {}
      },
      "source": [
        "adult_ami_uninsured = adult_ami_uninsured.drop('indicator', axis = 1)"
      ],
      "execution_count": 0,
      "outputs": []
    },
    {
      "cell_type": "code",
      "metadata": {
        "id": "_lct-fx7HRXB",
        "colab_type": "code",
        "colab": {
          "base_uri": "https://localhost:8080/",
          "height": 203
        },
        "outputId": "d07b3627-b3cf-49cd-daac-917797f2978d"
      },
      "source": [
        "adult_ami_uninsured.head()"
      ],
      "execution_count": 103,
      "outputs": [
        {
          "output_type": "execute_result",
          "data": {
            "text/html": [
              "<div>\n",
              "<style scoped>\n",
              "    .dataframe tbody tr th:only-of-type {\n",
              "        vertical-align: middle;\n",
              "    }\n",
              "\n",
              "    .dataframe tbody tr th {\n",
              "        vertical-align: top;\n",
              "    }\n",
              "\n",
              "    .dataframe thead th {\n",
              "        text-align: right;\n",
              "    }\n",
              "</style>\n",
              "<table border=\"1\" class=\"dataframe\">\n",
              "  <thead>\n",
              "    <tr style=\"text-align: right;\">\n",
              "      <th></th>\n",
              "      <th>location</th>\n",
              "      <th>Unit</th>\n",
              "      <th>Adults with AMI who are uninsured</th>\n",
              "      <th>RATE</th>\n",
              "      <th>DEATHS</th>\n",
              "    </tr>\n",
              "  </thead>\n",
              "  <tbody>\n",
              "    <tr>\n",
              "      <th>17</th>\n",
              "      <td>AL</td>\n",
              "      <td>Rank,1=Highest mental health provider</td>\n",
              "      <td>43.0</td>\n",
              "      <td>16.6</td>\n",
              "      <td>836</td>\n",
              "    </tr>\n",
              "    <tr>\n",
              "      <th>19</th>\n",
              "      <td>AL</td>\n",
              "      <td>%</td>\n",
              "      <td>19.3</td>\n",
              "      <td>16.6</td>\n",
              "      <td>836</td>\n",
              "    </tr>\n",
              "    <tr>\n",
              "      <th>20</th>\n",
              "      <td>AL</td>\n",
              "      <td>Number</td>\n",
              "      <td>136000.0</td>\n",
              "      <td>16.6</td>\n",
              "      <td>836</td>\n",
              "    </tr>\n",
              "    <tr>\n",
              "      <th>60</th>\n",
              "      <td>AK</td>\n",
              "      <td>%</td>\n",
              "      <td>14.9</td>\n",
              "      <td>27.0</td>\n",
              "      <td>200</td>\n",
              "    </tr>\n",
              "    <tr>\n",
              "      <th>62</th>\n",
              "      <td>AK</td>\n",
              "      <td>Number</td>\n",
              "      <td>14000.0</td>\n",
              "      <td>27.0</td>\n",
              "      <td>200</td>\n",
              "    </tr>\n",
              "  </tbody>\n",
              "</table>\n",
              "</div>"
            ],
            "text/plain": [
              "   location                                   Unit  ...  RATE  DEATHS\n",
              "17       AL  Rank,1=Highest mental health provider  ...  16.6     836\n",
              "19       AL                                      %  ...  16.6     836\n",
              "20       AL                                 Number  ...  16.6     836\n",
              "60       AK                                      %  ...  27.0     200\n",
              "62       AK                                 Number  ...  27.0     200\n",
              "\n",
              "[5 rows x 5 columns]"
            ]
          },
          "metadata": {
            "tags": []
          },
          "execution_count": 103
        }
      ]
    },
    {
      "cell_type": "markdown",
      "metadata": {
        "id": "2ZJIwIwepeZs",
        "colab_type": "text"
      },
      "source": [
        "##- [X] Choose your target. Which column in your tabular dataset will you predict?"
      ]
    },
    {
      "cell_type": "markdown",
      "metadata": {
        "id": "uuJ929DJsPJm",
        "colab_type": "text"
      },
      "source": [
        "I am trying to find a relationship between the amount of readily available mental health care and suicide rate for each state, and then predict suicide rates based off of this relationship.\n",
        "\n",
        "This leaves two options for my target, either the raw number of deaths/state in 2017, or the rate of deaths. I found this simplfication of the data hard to understand, on the CDC website you follow several links and asterisks to find a definition of death rates modulated by age, the process of which was detailed in a paper that came out the year I was born. This tells me that the rate of deaths are per 100,000 and since that will be the easiest to compare across states, I will use the rate of deaths as my target. \n",
        "\n",
        "https://www.cdc.gov/nchs/data/nvsr/nvsr47/nvs47_03.pdf"
      ]
    },
    {
      "cell_type": "code",
      "metadata": {
        "id": "WXH_YXnzLhT0",
        "colab_type": "code",
        "colab": {
          "base_uri": "https://localhost:8080/",
          "height": 203
        },
        "outputId": "d746f590-0dd3-4b3c-f58e-f28dc404b31e"
      },
      "source": [
        "mental_health_clean.head()"
      ],
      "execution_count": 113,
      "outputs": [
        {
          "output_type": "execute_result",
          "data": {
            "text/html": [
              "<div>\n",
              "<style scoped>\n",
              "    .dataframe tbody tr th:only-of-type {\n",
              "        vertical-align: middle;\n",
              "    }\n",
              "\n",
              "    .dataframe tbody tr th {\n",
              "        vertical-align: top;\n",
              "    }\n",
              "\n",
              "    .dataframe thead th {\n",
              "        text-align: right;\n",
              "    }\n",
              "</style>\n",
              "<table border=\"1\" class=\"dataframe\">\n",
              "  <thead>\n",
              "    <tr style=\"text-align: right;\">\n",
              "      <th></th>\n",
              "      <th>location</th>\n",
              "      <th>indicator</th>\n",
              "      <th>Unit</th>\n",
              "      <th>Value</th>\n",
              "      <th>RATE</th>\n",
              "      <th>DEATHS</th>\n",
              "    </tr>\n",
              "  </thead>\n",
              "  <tbody>\n",
              "    <tr>\n",
              "      <th>17</th>\n",
              "      <td>AL</td>\n",
              "      <td>Adults with AMI who are Uninsured</td>\n",
              "      <td>Rank,1=Highest mental health provider</td>\n",
              "      <td>43.0</td>\n",
              "      <td>16.6</td>\n",
              "      <td>836</td>\n",
              "    </tr>\n",
              "    <tr>\n",
              "      <th>18</th>\n",
              "      <td>AL</td>\n",
              "      <td>Adults with AMI who Did Not Receive Treatment</td>\n",
              "      <td>Number</td>\n",
              "      <td>222000.0</td>\n",
              "      <td>16.6</td>\n",
              "      <td>836</td>\n",
              "    </tr>\n",
              "    <tr>\n",
              "      <th>19</th>\n",
              "      <td>AL</td>\n",
              "      <td>Adults with AMI who are Uninsured</td>\n",
              "      <td>%</td>\n",
              "      <td>19.3</td>\n",
              "      <td>16.6</td>\n",
              "      <td>836</td>\n",
              "    </tr>\n",
              "    <tr>\n",
              "      <th>20</th>\n",
              "      <td>AL</td>\n",
              "      <td>Adults with AMI who are Uninsured</td>\n",
              "      <td>Number</td>\n",
              "      <td>136000.0</td>\n",
              "      <td>16.6</td>\n",
              "      <td>836</td>\n",
              "    </tr>\n",
              "    <tr>\n",
              "      <th>21</th>\n",
              "      <td>AL</td>\n",
              "      <td>Adults with AMI Reporting Unmet Need</td>\n",
              "      <td>%</td>\n",
              "      <td>19.8</td>\n",
              "      <td>16.6</td>\n",
              "      <td>836</td>\n",
              "    </tr>\n",
              "  </tbody>\n",
              "</table>\n",
              "</div>"
            ],
            "text/plain": [
              "   location                                      indicator  ...  RATE  DEATHS\n",
              "17       AL              Adults with AMI who are Uninsured  ...  16.6     836\n",
              "18       AL  Adults with AMI who Did Not Receive Treatment  ...  16.6     836\n",
              "19       AL              Adults with AMI who are Uninsured  ...  16.6     836\n",
              "20       AL              Adults with AMI who are Uninsured  ...  16.6     836\n",
              "21       AL           Adults with AMI Reporting Unmet Need  ...  16.6     836\n",
              "\n",
              "[5 rows x 6 columns]"
            ]
          },
          "metadata": {
            "tags": []
          },
          "execution_count": 113
        }
      ]
    },
    {
      "cell_type": "code",
      "metadata": {
        "id": "2fcs0HURzWq9",
        "colab_type": "code",
        "colab": {}
      },
      "source": [
        "target = mental_health_clean['Value']"
      ],
      "execution_count": 0,
      "outputs": []
    },
    {
      "cell_type": "markdown",
      "metadata": {
        "id": "w-8V3nznMKTN",
        "colab_type": "text"
      },
      "source": [
        " ## - [X] Is your problem regression or classification?\n",
        " \n",
        " My problem is a regression problem, because I am trying to see if the number of people that commit suicide can be predicted based off of the resources a state provides. Since I am looking at the numbers of suicides, and not if a particular person is at risk, this is not classification. "
      ]
    },
    {
      "cell_type": "markdown",
      "metadata": {
        "id": "jktoNe2dMyNZ",
        "colab_type": "text"
      },
      "source": [
        "##- [X] How is your target distributed?"
      ]
    },
    {
      "cell_type": "code",
      "metadata": {
        "id": "rmv1bnZkfw5q",
        "colab_type": "code",
        "colab": {}
      },
      "source": [
        "adult_ami_uninsured= (mental_health_clean[mental_health_clean['indicator'] == 'Adults with AMI who are Uninsured'])\t"
      ],
      "execution_count": 0,
      "outputs": []
    },
    {
      "cell_type": "code",
      "metadata": {
        "id": "R6WFZe0MfpkH",
        "colab_type": "code",
        "colab": {}
      },
      "source": [
        "mental_health_clean = (mental_health_clean[mental_health_clean['Unit'] == '%'])"
      ],
      "execution_count": 0,
      "outputs": []
    },
    {
      "cell_type": "code",
      "metadata": {
        "id": "bCN1pStxf8Ri",
        "colab_type": "code",
        "colab": {
          "base_uri": "https://localhost:8080/",
          "height": 220
        },
        "outputId": "45a6e30b-cf37-4c21-d4e9-95d9d0d8e30f"
      },
      "source": [
        "print(mental_health_clean.shape)\n",
        "mental_health_clean.head()"
      ],
      "execution_count": 115,
      "outputs": [
        {
          "output_type": "stream",
          "text": [
            "(357, 6)\n"
          ],
          "name": "stdout"
        },
        {
          "output_type": "execute_result",
          "data": {
            "text/html": [
              "<div>\n",
              "<style scoped>\n",
              "    .dataframe tbody tr th:only-of-type {\n",
              "        vertical-align: middle;\n",
              "    }\n",
              "\n",
              "    .dataframe tbody tr th {\n",
              "        vertical-align: top;\n",
              "    }\n",
              "\n",
              "    .dataframe thead th {\n",
              "        text-align: right;\n",
              "    }\n",
              "</style>\n",
              "<table border=\"1\" class=\"dataframe\">\n",
              "  <thead>\n",
              "    <tr style=\"text-align: right;\">\n",
              "      <th></th>\n",
              "      <th>location</th>\n",
              "      <th>indicator</th>\n",
              "      <th>Unit</th>\n",
              "      <th>Value</th>\n",
              "      <th>RATE</th>\n",
              "      <th>DEATHS</th>\n",
              "    </tr>\n",
              "  </thead>\n",
              "  <tbody>\n",
              "    <tr>\n",
              "      <th>19</th>\n",
              "      <td>AL</td>\n",
              "      <td>Adults with AMI who are Uninsured</td>\n",
              "      <td>%</td>\n",
              "      <td>19.30</td>\n",
              "      <td>16.6</td>\n",
              "      <td>836</td>\n",
              "    </tr>\n",
              "    <tr>\n",
              "      <th>21</th>\n",
              "      <td>AL</td>\n",
              "      <td>Adults with AMI Reporting Unmet Need</td>\n",
              "      <td>%</td>\n",
              "      <td>19.80</td>\n",
              "      <td>16.6</td>\n",
              "      <td>836</td>\n",
              "    </tr>\n",
              "    <tr>\n",
              "      <th>29</th>\n",
              "      <td>AL</td>\n",
              "      <td>Adults with AMI who Did Not Receive Treatment</td>\n",
              "      <td>%</td>\n",
              "      <td>54.00</td>\n",
              "      <td>16.6</td>\n",
              "      <td>836</td>\n",
              "    </tr>\n",
              "    <tr>\n",
              "      <th>36</th>\n",
              "      <td>AL</td>\n",
              "      <td>Children with Private Insurance that Did Not C...</td>\n",
              "      <td>%</td>\n",
              "      <td>11.50</td>\n",
              "      <td>16.6</td>\n",
              "      <td>836</td>\n",
              "    </tr>\n",
              "    <tr>\n",
              "      <th>37</th>\n",
              "      <td>AL</td>\n",
              "      <td>Adults with Disability who Could Not See a Doc...</td>\n",
              "      <td>%</td>\n",
              "      <td>25.65</td>\n",
              "      <td>16.6</td>\n",
              "      <td>836</td>\n",
              "    </tr>\n",
              "  </tbody>\n",
              "</table>\n",
              "</div>"
            ],
            "text/plain": [
              "   location                                          indicator  ...  RATE  DEATHS\n",
              "19       AL                  Adults with AMI who are Uninsured  ...  16.6     836\n",
              "21       AL               Adults with AMI Reporting Unmet Need  ...  16.6     836\n",
              "29       AL      Adults with AMI who Did Not Receive Treatment  ...  16.6     836\n",
              "36       AL  Children with Private Insurance that Did Not C...  ...  16.6     836\n",
              "37       AL  Adults with Disability who Could Not See a Doc...  ...  16.6     836\n",
              "\n",
              "[5 rows x 6 columns]"
            ]
          },
          "metadata": {
            "tags": []
          },
          "execution_count": 115
        }
      ]
    },
    {
      "cell_type": "code",
      "metadata": {
        "id": "VrqMT5gQM36V",
        "colab_type": "code",
        "colab": {
          "base_uri": "https://localhost:8080/",
          "height": 283
        },
        "outputId": "8c52c272-4864-4883-a6ac-81c0251d5970"
      },
      "source": [
        "import seaborn as sns\n",
        "sns.distplot(target);\n",
        "\n",
        "#I am waiting to see if this is something I should mess with, I already took out \n",
        "#all of the values that weren't % because that graph was really messed up lol."
      ],
      "execution_count": 118,
      "outputs": [
        {
          "output_type": "display_data",
          "data": {
            "image/png": "[encoded data removed]",
            "text/plain": [
              "<Figure size 432x288 with 1 Axes>"
            ]
          },
          "metadata": {
            "tags": []
          }
        }
      ]
    },
    {
      "cell_type": "code",
      "metadata": {
        "id": "9A2Dbz11NQ0X",
        "colab_type": "code",
        "colab": {
          "base_uri": "https://localhost:8080/",
          "height": 175
        },
        "outputId": "840cb46a-68aa-485c-a2c2-69826dfb0032"
      },
      "source": [
        "target.describe()"
      ],
      "execution_count": 119,
      "outputs": [
        {
          "output_type": "execute_result",
          "data": {
            "text/plain": [
              "count    357.000000\n",
              "mean      29.047924\n",
              "std       19.854986\n",
              "min        2.400000\n",
              "25%       14.400000\n",
              "50%       21.400000\n",
              "75%       50.600000\n",
              "max       72.200000\n",
              "Name: Value, dtype: float64"
            ]
          },
          "metadata": {
            "tags": []
          },
          "execution_count": 119
        }
      ]
    },
    {
      "cell_type": "markdown",
      "metadata": {
        "id": "0yxMAS82hlOF",
        "colab_type": "text"
      },
      "source": [
        "##- [ ] Choose your evaluation metric(s).\n",
        "\n",
        "    - Classification: Is your majority class frequency >= 50% and < 70% ? If so, you can just use accuracy if you want. Outside that range, accuracy could be misleading. What evaluation metric will you choose, in addition to or instead of accuracy?\n",
        "    - Regression: Will you use mean absolute error, root mean squared error, R^2, or other regression metrics?"
      ]
    },
    {
      "cell_type": "markdown",
      "metadata": {
        "id": "eLRBCI4siQAY",
        "colab_type": "text"
      },
      "source": [
        "I am going to use R^2 because I will be using cross-validation and I have used those together in the past. "
      ]
    },
    {
      "cell_type": "markdown",
      "metadata": {
        "id": "uQSHHVb8iluZ",
        "colab_type": "text"
      },
      "source": [
        " [ ] Choose which observations you will use to train, validate, and test your model\n",
        " \n",
        " I am going to randomly hold 20% of the data for testing, for the rest I will use cross validation because my dataset is so small. I am not going to write the code for that now because the data exploration and troubleshooting I did earlier ate up a lot of my time."
      ]
    },
    {
      "cell_type": "code",
      "metadata": {
        "id": "UH6ERW4sioJy",
        "colab_type": "code",
        "colab": {}
      },
      "source": [
        ""
      ],
      "execution_count": 0,
      "outputs": []
    },
    {
      "cell_type": "markdown",
      "metadata": {
        "id": "ZhUXyDSyjFUF",
        "colab_type": "text"
      },
      "source": [
        "- [ ] Begin to clean and explore your data.\n",
        "- [ ] Begin to choose which features, if any, to exclude. Would some features \"leak\" future information?\n",
        "\n",
        "\n",
        "I guess I did this assignment a little backwards, I already did much of this, other than visualizations, up above where I was struggling with the pivot table. "
      ]
    }
  ]
}