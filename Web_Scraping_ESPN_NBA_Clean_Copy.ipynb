{
  "nbformat": 4,
  "nbformat_minor": 0,
  "metadata": {
    "colab": {
      "name": "Web_Scraping_ESPN_NBA_Clean_Copy.ipynb",
      "provenance": [],
      "collapsed_sections": [],
      "authorship_tag": "ABX9TyP2Nee5y2HobWkSWhEVK3gu",
      "include_colab_link": true
    },
    "kernelspec": {
      "name": "python3",
      "display_name": "Python 3"
    }
  },
  "cells": [
    {
      "cell_type": "markdown",
      "metadata": {
        "id": "view-in-github",
        "colab_type": "text"
      },
      "source": [
        "<a href=\"https://colab.research.google.com/github/jacobpad/DS-Unit-1-Sprint-1-Data-Wrangling-and-Storytelling/blob/master/Web_Scraping_ESPN_NBA_Clean_Copy.ipynb\" target=\"_parent\"><img src=\"https://colab.research.google.com/assets/colab-badge.svg\" alt=\"Open In Colab\"/></a>"
      ]
    },
    {
      "cell_type": "markdown",
      "metadata": {
        "id": "39XjfndtQro2",
        "colab_type": "text"
      },
      "source": [
        "# Web Scraping"
      ]
    },
    {
      "cell_type": "code",
      "metadata": {
        "id": "1x3O_YW7WxgK",
        "colab_type": "code",
        "colab": {}
      },
      "source": [
        "!pip install requests\n",
        "!pip install beautifulsoup4\n",
        "import requests\n",
        "r=requests.get('http://www.espn.com/nba/salaries') # Change the URL and match it"
      ],
      "execution_count": 0,
      "outputs": []
    },
    {
      "cell_type": "code",
      "metadata": {
        "id": "ZaAWZLMiQXVU",
        "colab_type": "code",
        "colab": {}
      },
      "source": [
        "from bs4 import BeautifulSoup\n",
        "soup = BeautifulSoup(r.text,'html.parser')"
      ],
      "execution_count": 0,
      "outputs": []
    },
    {
      "cell_type": "code",
      "metadata": {
        "id": "vWgD6YqFvDHM",
        "colab_type": "code",
        "colab": {}
      },
      "source": [
        "oddrow = soup.find_all(attrs={'class':'oddrow'})\n",
        "evenrow = soup.find_all(attrs={'class':'evenrow'})\n",
        "results=soup.find_all('tr')"
      ],
      "execution_count": 0,
      "outputs": []
    },
    {
      "cell_type": "code",
      "metadata": {
        "id": "S_NAZ4HK8g3G",
        "colab_type": "code",
        "colab": {}
      },
      "source": [
        "# Remove rows that don't work\n",
        "# evenrow.pop(12)"
      ],
      "execution_count": 0,
      "outputs": []
    },
    {
      "cell_type": "code",
      "metadata": {
        "id": "_AxDvTyJqikD",
        "colab_type": "code",
        "colab": {}
      },
      "source": [
        "odd_records = []\n",
        "count = 0\n",
        "\n",
        "for i in oddrow:\n",
        "  rank = oddrow[count].contents[0].contents[0]\n",
        "  name = oddrow[count].contents[1].contents[0].contents[0]\n",
        "  position = oddrow[count].contents[1].contents[1][2:]\n",
        "  team = oddrow[count].contents[2].contents[0].contents[0]\n",
        "  salary = oddrow[count].contents[3].contents[0]\n",
        "  odd_records.append((rank,name,position,team,salary))\n",
        "  count += 1"
      ],
      "execution_count": 0,
      "outputs": []
    },
    {
      "cell_type": "code",
      "metadata": {
        "id": "A80hNlFs0H7N",
        "colab_type": "code",
        "colab": {}
      },
      "source": [
        "even_records = []\n",
        "count = 0\n",
        "\n",
        "for i in evenrow:\n",
        "  rank = evenrow[count].contents[0].contents[0]\n",
        "  name = evenrow[count].contents[1].contents[0].contents[0]\n",
        "  position = evenrow[count].contents[1].contents[1][2:]\n",
        "  team = evenrow[count].contents[2].contents[0].contents[0]\n",
        "  salary = evenrow[count].contents[3].contents[0]\n",
        "  even_records.append((rank,name,position,team,salary))\n",
        "  count += 1"
      ],
      "execution_count": 0,
      "outputs": []
    },
    {
      "cell_type": "code",
      "metadata": {
        "id": "wA-0rOKW1i4F",
        "colab_type": "code",
        "colab": {}
      },
      "source": [
        "# Combine the records\n",
        "all_records = odd_records + even_records\n",
        "all_records"
      ],
      "execution_count": 0,
      "outputs": []
    },
    {
      "cell_type": "markdown",
      "metadata": {
        "id": "wUAnRgBtAuTm",
        "colab_type": "text"
      },
      "source": [
        "## Uncomment these cells to download these records"
      ]
    },
    {
      "cell_type": "code",
      "metadata": {
        "id": "bIkNUdNTCWCX",
        "colab_type": "code",
        "colab": {}
      },
      "source": [
        "# import pandas as pd\n",
        "\n",
        "# # Make it a DF\n",
        "# all_records = pd.DataFrame(all_records)\n",
        "\n",
        "# # Convert to CSV\n",
        "# all_records.to_csv('all_records.csv', index=False)"
      ],
      "execution_count": 0,
      "outputs": []
    },
    {
      "cell_type": "code",
      "metadata": {
        "id": "xFv8g7VmCaJO",
        "colab_type": "code",
        "colab": {}
      },
      "source": [
        "# # And download\n",
        "# from google.colab import files\n",
        "# files.download('all_records.csv')"
      ],
      "execution_count": 0,
      "outputs": []
    }
  ]
}