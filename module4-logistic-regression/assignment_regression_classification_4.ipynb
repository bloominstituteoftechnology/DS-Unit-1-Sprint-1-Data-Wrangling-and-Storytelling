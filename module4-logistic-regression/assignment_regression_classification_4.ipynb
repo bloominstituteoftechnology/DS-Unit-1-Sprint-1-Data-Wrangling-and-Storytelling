{
  "nbformat": 4,
  "nbformat_minor": 0,
  "metadata": {
    "colab": {
      "name": "Copy of assignment_regression_classification_4.ipynb",
      "provenance": [],
      "collapsed_sections": [],
      "include_colab_link": true
    },
    "kernelspec": {
      "display_name": "Python 3",
      "language": "python",
      "name": "python3"
    },
    "language_info": {
      "codemirror_mode": {
        "name": "ipython",
        "version": 3
      },
      "file_extension": ".py",
      "mimetype": "text/x-python",
      "name": "python",
      "nbconvert_exporter": "python",
      "pygments_lexer": "ipython3",
      "version": "3.7.3"
    }
  },
  "cells": [
    {
      "cell_type": "markdown",
      "metadata": {
        "id": "view-in-github",
        "colab_type": "text"
      },
      "source": [
        "<a href=\"https://colab.research.google.com/github/emma-rose22/DS-Unit-1-Sprint-1-Data-Wrangling-and-Storytelling/blob/master/module4-logistic-regression/assignment_regression_classification_4.ipynb\" target=\"_parent\"><img src=\"https://colab.research.google.com/assets/colab-badge.svg\" alt=\"Open In Colab\"/></a>"
      ]
    },
    {
      "cell_type": "markdown",
      "metadata": {
        "id": "FEWLuJ3uvLcS",
        "colab_type": "text"
      },
      "source": [
        "Lambda School Data Science\n",
        "\n",
        "*Unit 2, Sprint 1, Module 4*\n",
        "🌯🌯🌯🌯🌯🌯🌯🌯🌯🌯🌯🌯🌯🌯🌯🌯🌯🌯🌯🌯🌯🌯🌯🌯🌯🌯🌯🌯🌯🌯🌯🌯\n",
        "---"
      ]
    },
    {
      "cell_type": "markdown",
      "metadata": {
        "colab_type": "text",
        "id": "7IXUfiQ2UKj6"
      },
      "source": [
        "# Logistic Regression\n",
        "\n",
        "\n",
        "## Assignment 🌯\n",
        "\n",
        "You'll use a [**dataset of 400+ burrito reviews**](https://srcole.github.io/100burritos/). How accurately can you predict whether a burrito is rated 'Great'?\n",
        "\n",
        "> We have developed a 10-dimensional system for rating the burritos in San Diego. ... Generate models for what makes a burrito great and investigate correlations in its dimensions.\n",
        "\n",
        "- [X] Do train/validate/test split. Train on reviews from 2016 & earlier. Validate on 2017. Test on 2018 & later.\n",
        "- [X] Begin with baselines for classification.\n",
        "- [X] Use scikit-learn for logistic regression.\n",
        "- [X] Get your model's validation accuracy. (Multiple times if you try multiple iterations.)\n",
        "- [ ] Get your model's test accuracy. (One time, at the end.)\n",
        "- [ ] Commit your notebook to your fork of the GitHub repo.\n",
        "\n",
        "\n",
        "## Stretch Goals\n",
        "\n",
        "- [ ] Add your own stretch goal(s) !\n",
        "- [ ] Make exploratory visualizations.\n",
        "- [X] Do one-hot encoding.\n",
        "- [ ] Do [feature scaling](https://scikit-learn.org/stable/modules/preprocessing.html).\n",
        "- [ ] Get and plot your coefficients.\n",
        "- [ ] Try [scikit-learn pipelines](https://scikit-learn.org/stable/modules/compose.html)."
      ]
    },
    {
      "cell_type": "code",
      "metadata": {
        "colab_type": "code",
        "id": "o9eSnDYhUGD7",
        "colab": {}
      },
      "source": [
        "%%capture\n",
        "import sys\n",
        "\n",
        "# If you're on Colab:\n",
        "if 'google.colab' in sys.modules:\n",
        "    DATA_PATH = 'https://raw.githubusercontent.com/LambdaSchool/DS-Unit-2-Linear-Models/master/data/'\n",
        "    !pip install category_encoders==2.*\n",
        "\n",
        "# If you're working locally:\n",
        "else:\n",
        "    DATA_PATH = '../data/'"
      ],
      "execution_count": 0,
      "outputs": []
    },
    {
      "cell_type": "code",
      "metadata": {
        "id": "Ih7bxd4VvLck",
        "colab_type": "code",
        "colab": {}
      },
      "source": [
        "# Load data downloaded from https://srcole.github.io/100burritos/\n",
        "import pandas as pd\n",
        "df = pd.read_csv(DATA_PATH+'burritos/burritos.csv')"
      ],
      "execution_count": 0,
      "outputs": []
    },
    {
      "cell_type": "code",
      "metadata": {
        "id": "h6BqFumHvLcy",
        "colab_type": "code",
        "colab": {}
      },
      "source": [
        "# Derive binary classification target:\n",
        "# We define a 'Great' burrito as having an\n",
        "# overall rating of 4 or higher, on a 5 point scale.\n",
        "# Drop unrated burritos.\n",
        "df = df.dropna(subset=['overall'])\n",
        "df['Great'] = df['overall'] >= 4"
      ],
      "execution_count": 0,
      "outputs": []
    },
    {
      "cell_type": "code",
      "metadata": {
        "id": "DhyTpfqovLc3",
        "colab_type": "code",
        "colab": {}
      },
      "source": [
        "# Clean/combine the Burrito categories\n",
        "df['Burrito'] = df['Burrito'].str.lower()\n",
        "\n",
        "california = df['Burrito'].str.contains('california')\n",
        "asada = df['Burrito'].str.contains('asada')\n",
        "surf = df['Burrito'].str.contains('surf')\n",
        "carnitas = df['Burrito'].str.contains('carnitas')\n",
        "\n",
        "df.loc[california, 'Burrito'] = 'California'\n",
        "df.loc[asada, 'Burrito'] = 'Asada'\n",
        "df.loc[surf, 'Burrito'] = 'Surf & Turf'\n",
        "df.loc[carnitas, 'Burrito'] = 'Carnitas'\n",
        "df.loc[~california & ~asada & ~surf & ~carnitas, 'Burrito'] = 'Other'"
      ],
      "execution_count": 0,
      "outputs": []
    },
    {
      "cell_type": "code",
      "metadata": {
        "id": "FrB-loLgvLdE",
        "colab_type": "code",
        "colab": {}
      },
      "source": [
        "# Drop some high cardinality categoricals\n",
        "df = df.drop(columns=['Notes', 'Location', 'Reviewer', 'Address', 'URL', 'Neighborhood'])"
      ],
      "execution_count": 0,
      "outputs": []
    },
    {
      "cell_type": "code",
      "metadata": {
        "id": "TIIF02IbvLdO",
        "colab_type": "code",
        "colab": {}
      },
      "source": [
        "# Drop some columns to prevent \"leakage\"\n",
        "df = df.drop(columns=['Rec', 'overall'])"
      ],
      "execution_count": 0,
      "outputs": []
    },
    {
      "cell_type": "code",
      "metadata": {
        "id": "xPMny8BVzenT",
        "colab_type": "code",
        "outputId": "5635d5a6-1e03-4181-c305-b45048e3bf8d",
        "colab": {
          "base_uri": "https://localhost:8080/",
          "height": 239
        }
      },
      "source": [
        "df.head()"
      ],
      "execution_count": 7,
      "outputs": [
        {
          "output_type": "execute_result",
          "data": {
            "text/html": [
              "<div>\n",
              "<style scoped>\n",
              "    .dataframe tbody tr th:only-of-type {\n",
              "        vertical-align: middle;\n",
              "    }\n",
              "\n",
              "    .dataframe tbody tr th {\n",
              "        vertical-align: top;\n",
              "    }\n",
              "\n",
              "    .dataframe thead th {\n",
              "        text-align: right;\n",
              "    }\n",
              "</style>\n",
              "<table border=\"1\" class=\"dataframe\">\n",
              "  <thead>\n",
              "    <tr style=\"text-align: right;\">\n",
              "      <th></th>\n",
              "      <th>Burrito</th>\n",
              "      <th>Date</th>\n",
              "      <th>Yelp</th>\n",
              "      <th>Google</th>\n",
              "      <th>Chips</th>\n",
              "      <th>Cost</th>\n",
              "      <th>Hunger</th>\n",
              "      <th>Mass (g)</th>\n",
              "      <th>Density (g/mL)</th>\n",
              "      <th>Length</th>\n",
              "      <th>Circum</th>\n",
              "      <th>Volume</th>\n",
              "      <th>Tortilla</th>\n",
              "      <th>Temp</th>\n",
              "      <th>Meat</th>\n",
              "      <th>Fillings</th>\n",
              "      <th>Meat:filling</th>\n",
              "      <th>Uniformity</th>\n",
              "      <th>Salsa</th>\n",
              "      <th>Synergy</th>\n",
              "      <th>Wrap</th>\n",
              "      <th>Unreliable</th>\n",
              "      <th>NonSD</th>\n",
              "      <th>Beef</th>\n",
              "      <th>Pico</th>\n",
              "      <th>Guac</th>\n",
              "      <th>Cheese</th>\n",
              "      <th>Fries</th>\n",
              "      <th>Sour cream</th>\n",
              "      <th>Pork</th>\n",
              "      <th>Chicken</th>\n",
              "      <th>Shrimp</th>\n",
              "      <th>Fish</th>\n",
              "      <th>Rice</th>\n",
              "      <th>Beans</th>\n",
              "      <th>Lettuce</th>\n",
              "      <th>Tomato</th>\n",
              "      <th>Bell peper</th>\n",
              "      <th>Carrots</th>\n",
              "      <th>Cabbage</th>\n",
              "      <th>Sauce</th>\n",
              "      <th>Salsa.1</th>\n",
              "      <th>Cilantro</th>\n",
              "      <th>Onion</th>\n",
              "      <th>Taquito</th>\n",
              "      <th>Pineapple</th>\n",
              "      <th>Ham</th>\n",
              "      <th>Chile relleno</th>\n",
              "      <th>Nopales</th>\n",
              "      <th>Lobster</th>\n",
              "      <th>Queso</th>\n",
              "      <th>Egg</th>\n",
              "      <th>Mushroom</th>\n",
              "      <th>Bacon</th>\n",
              "      <th>Sushi</th>\n",
              "      <th>Avocado</th>\n",
              "      <th>Corn</th>\n",
              "      <th>Zucchini</th>\n",
              "      <th>Great</th>\n",
              "    </tr>\n",
              "  </thead>\n",
              "  <tbody>\n",
              "    <tr>\n",
              "      <th>0</th>\n",
              "      <td>California</td>\n",
              "      <td>1/18/2016</td>\n",
              "      <td>3.5</td>\n",
              "      <td>4.2</td>\n",
              "      <td>NaN</td>\n",
              "      <td>6.49</td>\n",
              "      <td>3.0</td>\n",
              "      <td>NaN</td>\n",
              "      <td>NaN</td>\n",
              "      <td>NaN</td>\n",
              "      <td>NaN</td>\n",
              "      <td>NaN</td>\n",
              "      <td>3.0</td>\n",
              "      <td>5.0</td>\n",
              "      <td>3.0</td>\n",
              "      <td>3.5</td>\n",
              "      <td>4.0</td>\n",
              "      <td>4.0</td>\n",
              "      <td>4.0</td>\n",
              "      <td>4.0</td>\n",
              "      <td>4.0</td>\n",
              "      <td>NaN</td>\n",
              "      <td>NaN</td>\n",
              "      <td>x</td>\n",
              "      <td>x</td>\n",
              "      <td>x</td>\n",
              "      <td>x</td>\n",
              "      <td>x</td>\n",
              "      <td>NaN</td>\n",
              "      <td>NaN</td>\n",
              "      <td>NaN</td>\n",
              "      <td>NaN</td>\n",
              "      <td>NaN</td>\n",
              "      <td>NaN</td>\n",
              "      <td>NaN</td>\n",
              "      <td>NaN</td>\n",
              "      <td>NaN</td>\n",
              "      <td>NaN</td>\n",
              "      <td>NaN</td>\n",
              "      <td>NaN</td>\n",
              "      <td>NaN</td>\n",
              "      <td>NaN</td>\n",
              "      <td>NaN</td>\n",
              "      <td>NaN</td>\n",
              "      <td>NaN</td>\n",
              "      <td>NaN</td>\n",
              "      <td>NaN</td>\n",
              "      <td>NaN</td>\n",
              "      <td>NaN</td>\n",
              "      <td>NaN</td>\n",
              "      <td>NaN</td>\n",
              "      <td>NaN</td>\n",
              "      <td>NaN</td>\n",
              "      <td>NaN</td>\n",
              "      <td>NaN</td>\n",
              "      <td>NaN</td>\n",
              "      <td>NaN</td>\n",
              "      <td>NaN</td>\n",
              "      <td>False</td>\n",
              "    </tr>\n",
              "    <tr>\n",
              "      <th>1</th>\n",
              "      <td>California</td>\n",
              "      <td>1/24/2016</td>\n",
              "      <td>3.5</td>\n",
              "      <td>3.3</td>\n",
              "      <td>NaN</td>\n",
              "      <td>5.45</td>\n",
              "      <td>3.5</td>\n",
              "      <td>NaN</td>\n",
              "      <td>NaN</td>\n",
              "      <td>NaN</td>\n",
              "      <td>NaN</td>\n",
              "      <td>NaN</td>\n",
              "      <td>2.0</td>\n",
              "      <td>3.5</td>\n",
              "      <td>2.5</td>\n",
              "      <td>2.5</td>\n",
              "      <td>2.0</td>\n",
              "      <td>4.0</td>\n",
              "      <td>3.5</td>\n",
              "      <td>2.5</td>\n",
              "      <td>5.0</td>\n",
              "      <td>NaN</td>\n",
              "      <td>NaN</td>\n",
              "      <td>x</td>\n",
              "      <td>x</td>\n",
              "      <td>x</td>\n",
              "      <td>x</td>\n",
              "      <td>x</td>\n",
              "      <td>NaN</td>\n",
              "      <td>NaN</td>\n",
              "      <td>NaN</td>\n",
              "      <td>NaN</td>\n",
              "      <td>NaN</td>\n",
              "      <td>NaN</td>\n",
              "      <td>NaN</td>\n",
              "      <td>NaN</td>\n",
              "      <td>NaN</td>\n",
              "      <td>NaN</td>\n",
              "      <td>NaN</td>\n",
              "      <td>NaN</td>\n",
              "      <td>NaN</td>\n",
              "      <td>NaN</td>\n",
              "      <td>NaN</td>\n",
              "      <td>NaN</td>\n",
              "      <td>NaN</td>\n",
              "      <td>NaN</td>\n",
              "      <td>NaN</td>\n",
              "      <td>NaN</td>\n",
              "      <td>NaN</td>\n",
              "      <td>NaN</td>\n",
              "      <td>NaN</td>\n",
              "      <td>NaN</td>\n",
              "      <td>NaN</td>\n",
              "      <td>NaN</td>\n",
              "      <td>NaN</td>\n",
              "      <td>NaN</td>\n",
              "      <td>NaN</td>\n",
              "      <td>NaN</td>\n",
              "      <td>False</td>\n",
              "    </tr>\n",
              "    <tr>\n",
              "      <th>2</th>\n",
              "      <td>Carnitas</td>\n",
              "      <td>1/24/2016</td>\n",
              "      <td>NaN</td>\n",
              "      <td>NaN</td>\n",
              "      <td>NaN</td>\n",
              "      <td>4.85</td>\n",
              "      <td>1.5</td>\n",
              "      <td>NaN</td>\n",
              "      <td>NaN</td>\n",
              "      <td>NaN</td>\n",
              "      <td>NaN</td>\n",
              "      <td>NaN</td>\n",
              "      <td>3.0</td>\n",
              "      <td>2.0</td>\n",
              "      <td>2.5</td>\n",
              "      <td>3.0</td>\n",
              "      <td>4.5</td>\n",
              "      <td>4.0</td>\n",
              "      <td>3.0</td>\n",
              "      <td>3.0</td>\n",
              "      <td>5.0</td>\n",
              "      <td>NaN</td>\n",
              "      <td>NaN</td>\n",
              "      <td>NaN</td>\n",
              "      <td>x</td>\n",
              "      <td>x</td>\n",
              "      <td>NaN</td>\n",
              "      <td>NaN</td>\n",
              "      <td>NaN</td>\n",
              "      <td>x</td>\n",
              "      <td>NaN</td>\n",
              "      <td>NaN</td>\n",
              "      <td>NaN</td>\n",
              "      <td>NaN</td>\n",
              "      <td>NaN</td>\n",
              "      <td>NaN</td>\n",
              "      <td>NaN</td>\n",
              "      <td>NaN</td>\n",
              "      <td>NaN</td>\n",
              "      <td>NaN</td>\n",
              "      <td>NaN</td>\n",
              "      <td>NaN</td>\n",
              "      <td>NaN</td>\n",
              "      <td>NaN</td>\n",
              "      <td>NaN</td>\n",
              "      <td>NaN</td>\n",
              "      <td>NaN</td>\n",
              "      <td>NaN</td>\n",
              "      <td>NaN</td>\n",
              "      <td>NaN</td>\n",
              "      <td>NaN</td>\n",
              "      <td>NaN</td>\n",
              "      <td>NaN</td>\n",
              "      <td>NaN</td>\n",
              "      <td>NaN</td>\n",
              "      <td>NaN</td>\n",
              "      <td>NaN</td>\n",
              "      <td>NaN</td>\n",
              "      <td>False</td>\n",
              "    </tr>\n",
              "    <tr>\n",
              "      <th>3</th>\n",
              "      <td>Asada</td>\n",
              "      <td>1/24/2016</td>\n",
              "      <td>NaN</td>\n",
              "      <td>NaN</td>\n",
              "      <td>NaN</td>\n",
              "      <td>5.25</td>\n",
              "      <td>2.0</td>\n",
              "      <td>NaN</td>\n",
              "      <td>NaN</td>\n",
              "      <td>NaN</td>\n",
              "      <td>NaN</td>\n",
              "      <td>NaN</td>\n",
              "      <td>3.0</td>\n",
              "      <td>2.0</td>\n",
              "      <td>3.5</td>\n",
              "      <td>3.0</td>\n",
              "      <td>4.0</td>\n",
              "      <td>5.0</td>\n",
              "      <td>4.0</td>\n",
              "      <td>4.0</td>\n",
              "      <td>5.0</td>\n",
              "      <td>NaN</td>\n",
              "      <td>NaN</td>\n",
              "      <td>x</td>\n",
              "      <td>x</td>\n",
              "      <td>x</td>\n",
              "      <td>NaN</td>\n",
              "      <td>NaN</td>\n",
              "      <td>NaN</td>\n",
              "      <td>NaN</td>\n",
              "      <td>NaN</td>\n",
              "      <td>NaN</td>\n",
              "      <td>NaN</td>\n",
              "      <td>NaN</td>\n",
              "      <td>NaN</td>\n",
              "      <td>NaN</td>\n",
              "      <td>NaN</td>\n",
              "      <td>NaN</td>\n",
              "      <td>NaN</td>\n",
              "      <td>NaN</td>\n",
              "      <td>NaN</td>\n",
              "      <td>NaN</td>\n",
              "      <td>NaN</td>\n",
              "      <td>NaN</td>\n",
              "      <td>NaN</td>\n",
              "      <td>NaN</td>\n",
              "      <td>NaN</td>\n",
              "      <td>NaN</td>\n",
              "      <td>NaN</td>\n",
              "      <td>NaN</td>\n",
              "      <td>NaN</td>\n",
              "      <td>NaN</td>\n",
              "      <td>NaN</td>\n",
              "      <td>NaN</td>\n",
              "      <td>NaN</td>\n",
              "      <td>NaN</td>\n",
              "      <td>NaN</td>\n",
              "      <td>NaN</td>\n",
              "      <td>False</td>\n",
              "    </tr>\n",
              "    <tr>\n",
              "      <th>4</th>\n",
              "      <td>California</td>\n",
              "      <td>1/27/2016</td>\n",
              "      <td>4.0</td>\n",
              "      <td>3.8</td>\n",
              "      <td>x</td>\n",
              "      <td>6.59</td>\n",
              "      <td>4.0</td>\n",
              "      <td>NaN</td>\n",
              "      <td>NaN</td>\n",
              "      <td>NaN</td>\n",
              "      <td>NaN</td>\n",
              "      <td>NaN</td>\n",
              "      <td>4.0</td>\n",
              "      <td>5.0</td>\n",
              "      <td>4.0</td>\n",
              "      <td>3.5</td>\n",
              "      <td>4.5</td>\n",
              "      <td>5.0</td>\n",
              "      <td>2.5</td>\n",
              "      <td>4.5</td>\n",
              "      <td>4.0</td>\n",
              "      <td>NaN</td>\n",
              "      <td>NaN</td>\n",
              "      <td>x</td>\n",
              "      <td>x</td>\n",
              "      <td>NaN</td>\n",
              "      <td>x</td>\n",
              "      <td>x</td>\n",
              "      <td>NaN</td>\n",
              "      <td>NaN</td>\n",
              "      <td>NaN</td>\n",
              "      <td>NaN</td>\n",
              "      <td>NaN</td>\n",
              "      <td>NaN</td>\n",
              "      <td>NaN</td>\n",
              "      <td>NaN</td>\n",
              "      <td>NaN</td>\n",
              "      <td>NaN</td>\n",
              "      <td>NaN</td>\n",
              "      <td>NaN</td>\n",
              "      <td>NaN</td>\n",
              "      <td>NaN</td>\n",
              "      <td>NaN</td>\n",
              "      <td>NaN</td>\n",
              "      <td>NaN</td>\n",
              "      <td>NaN</td>\n",
              "      <td>NaN</td>\n",
              "      <td>NaN</td>\n",
              "      <td>NaN</td>\n",
              "      <td>NaN</td>\n",
              "      <td>NaN</td>\n",
              "      <td>NaN</td>\n",
              "      <td>NaN</td>\n",
              "      <td>NaN</td>\n",
              "      <td>NaN</td>\n",
              "      <td>NaN</td>\n",
              "      <td>NaN</td>\n",
              "      <td>NaN</td>\n",
              "      <td>True</td>\n",
              "    </tr>\n",
              "  </tbody>\n",
              "</table>\n",
              "</div>"
            ],
            "text/plain": [
              "      Burrito       Date  Yelp  Google Chips  ...  Sushi  Avocado  Corn  Zucchini  Great\n",
              "0  California  1/18/2016   3.5     4.2   NaN  ...    NaN      NaN   NaN       NaN  False\n",
              "1  California  1/24/2016   3.5     3.3   NaN  ...    NaN      NaN   NaN       NaN  False\n",
              "2    Carnitas  1/24/2016   NaN     NaN   NaN  ...    NaN      NaN   NaN       NaN  False\n",
              "3       Asada  1/24/2016   NaN     NaN   NaN  ...    NaN      NaN   NaN       NaN  False\n",
              "4  California  1/27/2016   4.0     3.8     x  ...    NaN      NaN   NaN       NaN   True\n",
              "\n",
              "[5 rows x 59 columns]"
            ]
          },
          "metadata": {
            "tags": []
          },
          "execution_count": 7
        }
      ]
    },
    {
      "cell_type": "code",
      "metadata": {
        "id": "Qx1qUUZqvLdV",
        "colab_type": "code",
        "outputId": "a9b80ac1-2447-414b-8d03-5986d1a3333d",
        "colab": {
          "base_uri": "https://localhost:8080/",
          "height": 207
        }
      },
      "source": [
        "df.columns"
      ],
      "execution_count": 8,
      "outputs": [
        {
          "output_type": "execute_result",
          "data": {
            "text/plain": [
              "Index(['Burrito', 'Date', 'Yelp', 'Google', 'Chips', 'Cost', 'Hunger',\n",
              "       'Mass (g)', 'Density (g/mL)', 'Length', 'Circum', 'Volume', 'Tortilla',\n",
              "       'Temp', 'Meat', 'Fillings', 'Meat:filling', 'Uniformity', 'Salsa',\n",
              "       'Synergy', 'Wrap', 'Unreliable', 'NonSD', 'Beef', 'Pico', 'Guac',\n",
              "       'Cheese', 'Fries', 'Sour cream', 'Pork', 'Chicken', 'Shrimp', 'Fish',\n",
              "       'Rice', 'Beans', 'Lettuce', 'Tomato', 'Bell peper', 'Carrots',\n",
              "       'Cabbage', 'Sauce', 'Salsa.1', 'Cilantro', 'Onion', 'Taquito',\n",
              "       'Pineapple', 'Ham', 'Chile relleno', 'Nopales', 'Lobster', 'Queso',\n",
              "       'Egg', 'Mushroom', 'Bacon', 'Sushi', 'Avocado', 'Corn', 'Zucchini',\n",
              "       'Great'],\n",
              "      dtype='object')"
            ]
          },
          "metadata": {
            "tags": []
          },
          "execution_count": 8
        }
      ]
    },
    {
      "cell_type": "markdown",
      "metadata": {
        "id": "HDAwb_1mzjUF",
        "colab_type": "text"
      },
      "source": [
        "###Do train/validate/test split. Train on reviews from 2016 & earlier. Validate on 2017. Test on 2018 & later."
      ]
    },
    {
      "cell_type": "code",
      "metadata": {
        "id": "w0gccCqj0IIz",
        "colab_type": "code",
        "colab": {}
      },
      "source": [
        "df['Date'] = pd.to_datetime(df['Date'], infer_datetime_format=True)"
      ],
      "execution_count": 0,
      "outputs": []
    },
    {
      "cell_type": "code",
      "metadata": {
        "id": "177RXIvV06dZ",
        "colab_type": "code",
        "colab": {}
      },
      "source": [
        "train = df[(df['Date']<= '2016-12-31' )]\n",
        "val = df[(df['Date'] >= '2017-01-01') &(df['Date'] <= '2017-12-31')]\n",
        "test = df[(df['Date']>= '2018-01-01') & (df['Date'] <= '2020-12-31')]"
      ],
      "execution_count": 0,
      "outputs": []
    },
    {
      "cell_type": "code",
      "metadata": {
        "id": "yNMVUDCK2QME",
        "colab_type": "code",
        "colab": {
          "base_uri": "https://localhost:8080/",
          "height": 34
        },
        "outputId": "f8345952-edff-4570-f917-180361d6125f"
      },
      "source": [
        "train.shape, val.shape, test.shape"
      ],
      "execution_count": 33,
      "outputs": [
        {
          "output_type": "execute_result",
          "data": {
            "text/plain": [
              "((298, 59), (85, 59), (37, 59))"
            ]
          },
          "metadata": {
            "tags": []
          },
          "execution_count": 33
        }
      ]
    },
    {
      "cell_type": "code",
      "metadata": {
        "id": "uA8fTtvi1PbO",
        "colab_type": "code",
        "colab": {
          "base_uri": "https://localhost:8080/",
          "height": 34
        },
        "outputId": "82874891-7254-4dff-db8a-28ad45314a9a"
      },
      "source": [
        "df['Length'].dropna().mean()"
      ],
      "execution_count": 35,
      "outputs": [
        {
          "output_type": "execute_result",
          "data": {
            "text/plain": [
              "20.038233215547702"
            ]
          },
          "metadata": {
            "tags": []
          },
          "execution_count": 35
        }
      ]
    },
    {
      "cell_type": "markdown",
      "metadata": {
        "id": "hDwljKtpzqeb",
        "colab_type": "text"
      },
      "source": [
        "### Begin with baselines for classification."
      ]
    },
    {
      "cell_type": "code",
      "metadata": {
        "id": "Ad_Xig_k4lZV",
        "colab_type": "code",
        "colab": {
          "base_uri": "https://localhost:8080/",
          "height": 69
        },
        "outputId": "cbaece19-7680-43d0-f849-fb4a4eede4f8"
      },
      "source": [
        "target = 'Great'\n",
        "y_train = train[target]\n",
        "y_train.value_counts(normalize=True)"
      ],
      "execution_count": 36,
      "outputs": [
        {
          "output_type": "execute_result",
          "data": {
            "text/plain": [
              "False    0.590604\n",
              "True     0.409396\n",
              "Name: Great, dtype: float64"
            ]
          },
          "metadata": {
            "tags": []
          },
          "execution_count": 36
        }
      ]
    },
    {
      "cell_type": "code",
      "metadata": {
        "id": "uRxw-XtR53QI",
        "colab_type": "code",
        "colab": {
          "base_uri": "https://localhost:8080/",
          "height": 34
        },
        "outputId": "48c3c38f-17dc-4444-954c-ef4698670c47"
      },
      "source": [
        "majority = y_train.mode()[0]\n",
        "y_pred = [majority] * len(y_train)\n",
        "len(y_pred)"
      ],
      "execution_count": 39,
      "outputs": [
        {
          "output_type": "execute_result",
          "data": {
            "text/plain": [
              "298"
            ]
          },
          "metadata": {
            "tags": []
          },
          "execution_count": 39
        }
      ]
    },
    {
      "cell_type": "code",
      "metadata": {
        "id": "5WU8kNAa6P6U",
        "colab_type": "code",
        "colab": {
          "base_uri": "https://localhost:8080/",
          "height": 34
        },
        "outputId": "d4cbcc57-0980-4e4c-9828-204dacabe6c4"
      },
      "source": [
        "from sklearn.metrics import accuracy_score\n",
        "\n",
        "accuracy_score(y_train, y_pred)\n",
        "\n",
        "#this is the score to beat "
      ],
      "execution_count": 40,
      "outputs": [
        {
          "output_type": "execute_result",
          "data": {
            "text/plain": [
              "0.5906040268456376"
            ]
          },
          "metadata": {
            "tags": []
          },
          "execution_count": 40
        }
      ]
    },
    {
      "cell_type": "markdown",
      "metadata": {
        "id": "Ue8ImzJNzvYw",
        "colab_type": "text"
      },
      "source": [
        "###Use scikit-learn for logistic regression."
      ]
    },
    {
      "cell_type": "markdown",
      "metadata": {
        "id": "lDD7n-E-K9NH",
        "colab_type": "text"
      },
      "source": [
        "####First attempt"
      ]
    },
    {
      "cell_type": "code",
      "metadata": {
        "id": "fYbm0HGv6irk",
        "colab_type": "code",
        "colab": {}
      },
      "source": [
        "import category_encoders as ce\n",
        "from sklearn.linear_model import LogisticRegressionCV\n",
        "from sklearn.impute import SimpleImputer\n",
        "from sklearn.preprocessing import StandardScaler"
      ],
      "execution_count": 0,
      "outputs": []
    },
    {
      "cell_type": "code",
      "metadata": {
        "id": "DTkBvCpL7w0m",
        "colab_type": "code",
        "colab": {}
      },
      "source": [
        "features = ['Burrito', 'Cost', 'Hunger', 'Length', 'Tortilla', 'Temp', 'Uniformity', 'Salsa', 'Synergy', 'Wrap', 'Beef', 'Pico', 'Guac', 'Cheese',\n",
        "           'Sour cream', 'Pork', 'Chicken', 'Shrimp', 'Fish', 'Avocado']\n",
        "\n",
        "target = 'Great'\n",
        "\n",
        "X_train = train[features]\n",
        "y_train = train[target]\n",
        "X_val = val[features]\n",
        "y_val = val[target]"
      ],
      "execution_count": 0,
      "outputs": []
    },
    {
      "cell_type": "code",
      "metadata": {
        "id": "7QalJMmh94Uw",
        "colab_type": "code",
        "colab": {
          "base_uri": "https://localhost:8080/",
          "height": 34
        },
        "outputId": "0b6a912b-6094-4320-90e0-a0eccfd964dd"
      },
      "source": [
        "encoder = ce.OneHotEncoder(use_cat_names=True)\n",
        "\n",
        "X_train_encoded= encoder.fit_transform(X_train)\n",
        "X_val_encoded = encoder.transform(X_val)\n",
        "\n",
        "X_train_encoded.shape, X_val_encoded.shape"
      ],
      "execution_count": 84,
      "outputs": [
        {
          "output_type": "execute_result",
          "data": {
            "text/plain": [
              "((298, 43), (85, 43))"
            ]
          },
          "metadata": {
            "tags": []
          },
          "execution_count": 84
        }
      ]
    },
    {
      "cell_type": "code",
      "metadata": {
        "id": "IaB_VCkiDuPQ",
        "colab_type": "code",
        "colab": {
          "base_uri": "https://localhost:8080/",
          "height": 190
        },
        "outputId": "ee1cf744-9194-48ed-b68e-96c682565222"
      },
      "source": [
        "X_train_encoded.columns"
      ],
      "execution_count": 85,
      "outputs": [
        {
          "output_type": "execute_result",
          "data": {
            "text/plain": [
              "Index(['Burrito_California', 'Burrito_Carnitas', 'Burrito_Asada',\n",
              "       'Burrito_Other', 'Burrito_Surf & Turf', 'Cost', 'Hunger', 'Length',\n",
              "       'Tortilla', 'Temp', 'Uniformity', 'Salsa', 'Synergy', 'Wrap', 'Beef_x',\n",
              "       'Beef_nan', 'Beef_X', 'Pico_x', 'Pico_nan', 'Pico_X', 'Guac_x',\n",
              "       'Guac_nan', 'Guac_X', 'Cheese_x', 'Cheese_nan', 'Cheese_X',\n",
              "       'Sour cream_nan', 'Sour cream_x', 'Sour cream_X', 'Pork_nan', 'Pork_x',\n",
              "       'Pork_X', 'Chicken_nan', 'Chicken_x', 'Chicken_X', 'Shrimp_nan',\n",
              "       'Shrimp_x', 'Shrimp_X', 'Fish_nan', 'Fish_x', 'Fish_X', 'Avocado_nan',\n",
              "       'Avocado_x'],\n",
              "      dtype='object')"
            ]
          },
          "metadata": {
            "tags": []
          },
          "execution_count": 85
        }
      ]
    },
    {
      "cell_type": "code",
      "metadata": {
        "id": "MBbX1VAT--sQ",
        "colab_type": "code",
        "colab": {
          "base_uri": "https://localhost:8080/",
          "height": 190
        },
        "outputId": "b39c94e0-cded-48ad-8724-150cd7d86bc4"
      },
      "source": [
        "imputer = SimpleImputer()\n",
        "\n",
        "X_train_imputed = imputer.fit_transform(X_train_encoded)\n",
        "X_val_imputed = imputer.transform(X_val_encoded)\n",
        "\n",
        "print(X_train_imputed.shape, X_val_imputed.shape)\n",
        "X_train_imputed[:1]"
      ],
      "execution_count": 86,
      "outputs": [
        {
          "output_type": "stream",
          "text": [
            "(298, 43) (85, 43)\n"
          ],
          "name": "stdout"
        },
        {
          "output_type": "execute_result",
          "data": {
            "text/plain": [
              "array([[ 1.        ,  0.        ,  0.        ,  0.        ,  0.        ,\n",
              "         6.49      ,  3.        , 19.82988571,  3.        ,  5.        ,\n",
              "         4.        ,  4.        ,  4.        ,  4.        ,  1.        ,\n",
              "         0.        ,  0.        ,  1.        ,  0.        ,  0.        ,\n",
              "         1.        ,  0.        ,  0.        ,  1.        ,  0.        ,\n",
              "         0.        ,  1.        ,  0.        ,  0.        ,  1.        ,\n",
              "         0.        ,  0.        ,  1.        ,  0.        ,  0.        ,\n",
              "         1.        ,  0.        ,  0.        ,  1.        ,  0.        ,\n",
              "         0.        ,  1.        ,  0.        ]])"
            ]
          },
          "metadata": {
            "tags": []
          },
          "execution_count": 86
        }
      ]
    },
    {
      "cell_type": "code",
      "metadata": {
        "id": "JLeRqIwA_wDA",
        "colab_type": "code",
        "colab": {
          "base_uri": "https://localhost:8080/",
          "height": 190
        },
        "outputId": "b58f99a5-4e90-4090-fcf3-08b8f1a16a19"
      },
      "source": [
        "scaler = StandardScaler()\n",
        "\n",
        "X_train_scaled = scaler.fit_transform(X_train_imputed)\n",
        "X_val_scaled = scaler.transform(X_val_imputed)\n",
        "\n",
        "print(X_train_scaled.shape, X_val_scaled.shape)\n",
        "X_train_imputed[:1]"
      ],
      "execution_count": 87,
      "outputs": [
        {
          "output_type": "stream",
          "text": [
            "(298, 43) (85, 43)\n"
          ],
          "name": "stdout"
        },
        {
          "output_type": "execute_result",
          "data": {
            "text/plain": [
              "array([[ 1.        ,  0.        ,  0.        ,  0.        ,  0.        ,\n",
              "         6.49      ,  3.        , 19.82988571,  3.        ,  5.        ,\n",
              "         4.        ,  4.        ,  4.        ,  4.        ,  1.        ,\n",
              "         0.        ,  0.        ,  1.        ,  0.        ,  0.        ,\n",
              "         1.        ,  0.        ,  0.        ,  1.        ,  0.        ,\n",
              "         0.        ,  1.        ,  0.        ,  0.        ,  1.        ,\n",
              "         0.        ,  0.        ,  1.        ,  0.        ,  0.        ,\n",
              "         1.        ,  0.        ,  0.        ,  1.        ,  0.        ,\n",
              "         0.        ,  1.        ,  0.        ]])"
            ]
          },
          "metadata": {
            "tags": []
          },
          "execution_count": 87
        }
      ]
    },
    {
      "cell_type": "code",
      "metadata": {
        "id": "XakERcgzARtZ",
        "colab_type": "code",
        "colab": {
          "base_uri": "https://localhost:8080/",
          "height": 34
        },
        "outputId": "1f19d089-136e-4762-d589-6f77bba649cc"
      },
      "source": [
        "model = LogisticRegressionCV(cv=5, random_state=42)\n",
        "\n",
        "model.fit(X_train_scaled, y_train)\n",
        "print('Validation score1:', model.score(X_val_scaled, y_val))\n",
        "\n"
      ],
      "execution_count": 88,
      "outputs": [
        {
          "output_type": "stream",
          "text": [
            "Validation score1: 0.7529411764705882\n"
          ],
          "name": "stdout"
        }
      ]
    },
    {
      "cell_type": "code",
      "metadata": {
        "id": "kKEbqKh1BV2j",
        "colab_type": "code",
        "colab": {
          "base_uri": "https://localhost:8080/",
          "height": 779
        },
        "outputId": "451c968b-8700-4ce1-a034-c9b098232b89"
      },
      "source": [
        "%matplotlib inline\n",
        "coefficients = pd.Series(model.coef_[0], X_train_encoded.columns)\n",
        "\n",
        "coefficients.sort_values()"
      ],
      "execution_count": 92,
      "outputs": [
        {
          "output_type": "execute_result",
          "data": {
            "text/plain": [
              "Burrito_Other         -0.157722\n",
              "Sour cream_X          -0.142251\n",
              "Cheese_X              -0.115610\n",
              "Guac_nan              -0.099678\n",
              "Beef_X                -0.099462\n",
              "Pico_x                -0.092266\n",
              "Chicken_x             -0.080235\n",
              "Avocado_x             -0.079872\n",
              "Shrimp_x              -0.074209\n",
              "Pico_X                -0.068938\n",
              "Fish_X                -0.067318\n",
              "Chicken_X             -0.045918\n",
              "Beef_x                -0.038933\n",
              "Guac_X                -0.036128\n",
              "Pork_x                -0.026895\n",
              "Burrito_Asada          0.000815\n",
              "Pork_X                 0.011514\n",
              "Fish_x                 0.014573\n",
              "Pork_nan               0.015752\n",
              "Sour cream_nan         0.018682\n",
              "Cheese_nan             0.024077\n",
              "Fish_nan               0.031466\n",
              "Length                 0.036077\n",
              "Shrimp_X               0.037849\n",
              "Cheese_x               0.044174\n",
              "Burrito_Surf & Turf    0.048754\n",
              "Burrito_Carnitas       0.050132\n",
              "Shrimp_nan             0.053685\n",
              "Wrap                   0.066513\n",
              "Sour cream_x           0.070441\n",
              "Avocado_nan            0.079872\n",
              "Chicken_nan            0.088956\n",
              "Hunger                 0.103146\n",
              "Beef_nan               0.105831\n",
              "Burrito_California     0.107888\n",
              "Pico_nan               0.130165\n",
              "Guac_x                 0.130512\n",
              "Uniformity             0.280340\n",
              "Temp                   0.295953\n",
              "Cost                   0.319423\n",
              "Salsa                  0.334200\n",
              "Tortilla               0.368726\n",
              "Synergy                0.954266\n",
              "dtype: float64"
            ]
          },
          "metadata": {
            "tags": []
          },
          "execution_count": 92
        }
      ]
    },
    {
      "cell_type": "markdown",
      "metadata": {
        "id": "9_j5FHegLBLk",
        "colab_type": "text"
      },
      "source": [
        "####Second attempt\n",
        "\n",
        "(beat 75.3)\n",
        "\n",
        "only removed the features with least contribution"
      ]
    },
    {
      "cell_type": "code",
      "metadata": {
        "id": "D9bGFPusOym6",
        "colab_type": "code",
        "colab": {
          "base_uri": "https://localhost:8080/",
          "height": 207
        },
        "outputId": "c3528354-81ab-43ea-8c20-0e94f3ab053c"
      },
      "source": [
        "df.columns"
      ],
      "execution_count": 93,
      "outputs": [
        {
          "output_type": "execute_result",
          "data": {
            "text/plain": [
              "Index(['Burrito', 'Date', 'Yelp', 'Google', 'Chips', 'Cost', 'Hunger',\n",
              "       'Mass (g)', 'Density (g/mL)', 'Length', 'Circum', 'Volume', 'Tortilla',\n",
              "       'Temp', 'Meat', 'Fillings', 'Meat:filling', 'Uniformity', 'Salsa',\n",
              "       'Synergy', 'Wrap', 'Unreliable', 'NonSD', 'Beef', 'Pico', 'Guac',\n",
              "       'Cheese', 'Fries', 'Sour cream', 'Pork', 'Chicken', 'Shrimp', 'Fish',\n",
              "       'Rice', 'Beans', 'Lettuce', 'Tomato', 'Bell peper', 'Carrots',\n",
              "       'Cabbage', 'Sauce', 'Salsa.1', 'Cilantro', 'Onion', 'Taquito',\n",
              "       'Pineapple', 'Ham', 'Chile relleno', 'Nopales', 'Lobster', 'Queso',\n",
              "       'Egg', 'Mushroom', 'Bacon', 'Sushi', 'Avocado', 'Corn', 'Zucchini',\n",
              "       'Great'],\n",
              "      dtype='object')"
            ]
          },
          "metadata": {
            "tags": []
          },
          "execution_count": 93
        }
      ]
    },
    {
      "cell_type": "code",
      "metadata": {
        "id": "HAY-xkBVLJGf",
        "colab_type": "code",
        "colab": {}
      },
      "source": [
        "features2 = ['Burrito', 'Cost', 'Hunger', 'Tortilla', 'Temp', 'Uniformity', 'Salsa', 'Synergy', 'Beef', 'Guac', 'Cheese',\n",
        "           'Sour cream', 'Pork']\n",
        "\n",
        "target = 'Great'\n",
        "\n",
        "X_train2 = train[features2]\n",
        "y_train2 = train[target]\n",
        "X_val2 = val[features2]\n",
        "y_val2 = val[target]"
      ],
      "execution_count": 0,
      "outputs": []
    },
    {
      "cell_type": "code",
      "metadata": {
        "id": "vrtO8YZqPABG",
        "colab_type": "code",
        "colab": {
          "base_uri": "https://localhost:8080/",
          "height": 34
        },
        "outputId": "7d172a22-8847-4712-ae09-8e4b3c9d74b3"
      },
      "source": [
        "encoder = ce.OneHotEncoder(use_cat_names=True)\n",
        "\n",
        "X_train_encoded2= encoder.fit_transform(X_train2)\n",
        "X_val_encoded2 = encoder.transform(X_val2)\n",
        "\n",
        "X_train_encoded2.shape, X_val_encoded2.shape"
      ],
      "execution_count": 98,
      "outputs": [
        {
          "output_type": "execute_result",
          "data": {
            "text/plain": [
              "((298, 27), (85, 27))"
            ]
          },
          "metadata": {
            "tags": []
          },
          "execution_count": 98
        }
      ]
    },
    {
      "cell_type": "code",
      "metadata": {
        "id": "iod0qFumPTwj",
        "colab_type": "code",
        "colab": {
          "base_uri": "https://localhost:8080/",
          "height": 86
        },
        "outputId": "4e34148e-6ce1-4636-83d0-c04341887220"
      },
      "source": [
        "imputer = SimpleImputer()\n",
        "\n",
        "X_train_imputed2 = imputer.fit_transform(X_train_encoded2)\n",
        "X_val_imputed2 = imputer.transform(X_val_encoded2)\n",
        "\n",
        "print(X_train_imputed2.shape, X_val_imputed2.shape)\n",
        "X_train_imputed2[:1]"
      ],
      "execution_count": 99,
      "outputs": [
        {
          "output_type": "stream",
          "text": [
            "(298, 27) (85, 27)\n"
          ],
          "name": "stdout"
        },
        {
          "output_type": "execute_result",
          "data": {
            "text/plain": [
              "array([[1.  , 0.  , 0.  , 0.  , 0.  , 6.49, 3.  , 3.  , 5.  , 4.  , 4.  ,\n",
              "        4.  , 1.  , 0.  , 0.  , 1.  , 0.  , 0.  , 1.  , 0.  , 0.  , 1.  ,\n",
              "        0.  , 0.  , 1.  , 0.  , 0.  ]])"
            ]
          },
          "metadata": {
            "tags": []
          },
          "execution_count": 99
        }
      ]
    },
    {
      "cell_type": "code",
      "metadata": {
        "id": "TBP0T72IPd-G",
        "colab_type": "code",
        "colab": {
          "base_uri": "https://localhost:8080/",
          "height": 86
        },
        "outputId": "203bb710-7dd7-4864-f326-f8e345d6e377"
      },
      "source": [
        "scaler = StandardScaler()\n",
        "\n",
        "X_train_scaled2 = scaler.fit_transform(X_train_imputed2)\n",
        "X_val_scaled2 = scaler.transform(X_val_imputed2)\n",
        "\n",
        "print(X_train_scaled2.shape, X_val_scaled2.shape)\n",
        "X_train_imputed2[:1]"
      ],
      "execution_count": 100,
      "outputs": [
        {
          "output_type": "stream",
          "text": [
            "(298, 27) (85, 27)\n"
          ],
          "name": "stdout"
        },
        {
          "output_type": "execute_result",
          "data": {
            "text/plain": [
              "array([[1.  , 0.  , 0.  , 0.  , 0.  , 6.49, 3.  , 3.  , 5.  , 4.  , 4.  ,\n",
              "        4.  , 1.  , 0.  , 0.  , 1.  , 0.  , 0.  , 1.  , 0.  , 0.  , 1.  ,\n",
              "        0.  , 0.  , 1.  , 0.  , 0.  ]])"
            ]
          },
          "metadata": {
            "tags": []
          },
          "execution_count": 100
        }
      ]
    },
    {
      "cell_type": "code",
      "metadata": {
        "id": "0PjP9XYNPocG",
        "colab_type": "code",
        "colab": {
          "base_uri": "https://localhost:8080/",
          "height": 34
        },
        "outputId": "542427fd-c215-4f1a-ba23-db784736518c"
      },
      "source": [
        "model2 = LogisticRegressionCV(cv=5, random_state=42)\n",
        "\n",
        "model2.fit(X_train_scaled2, y_train2)\n",
        "print('Validation score2:', model2.score(X_val_scaled2, y_val2))\n"
      ],
      "execution_count": 101,
      "outputs": [
        {
          "output_type": "stream",
          "text": [
            "Validation score2: 0.7647058823529411\n"
          ],
          "name": "stdout"
        }
      ]
    },
    {
      "cell_type": "markdown",
      "metadata": {
        "id": "NcvG6w_cP9U6",
        "colab_type": "text"
      },
      "source": [
        "###Third attempt\n",
        "\n",
        "(beat 76.5)\n",
        "\n",
        "adding in features not origionally used/removed in second attempt"
      ]
    },
    {
      "cell_type": "code",
      "metadata": {
        "id": "KfBf5t0fQE8W",
        "colab_type": "code",
        "colab": {}
      },
      "source": [
        "features3 = ['Burrito', 'Cost', 'Hunger', 'Tortilla', 'Temp', 'Uniformity', 'Salsa', 'Synergy', 'Beef', 'Guac', 'Cheese',\n",
        "           'Sour cream', 'Pork', 'Circum', 'Volume', 'Meat', 'Fillings', 'Meat:filling', 'Sauce', 'Rice', 'Beans' ]\n",
        "\n",
        "target = 'Great'\n",
        "\n",
        "X_train3 = train[features3]\n",
        "y_train3 = train[target]\n",
        "X_val3 = val[features3]\n",
        "y_val3 = val[target]"
      ],
      "execution_count": 0,
      "outputs": []
    },
    {
      "cell_type": "code",
      "metadata": {
        "id": "mEPwQJhmcz--",
        "colab_type": "code",
        "colab": {
          "base_uri": "https://localhost:8080/",
          "height": 34
        },
        "outputId": "a8eb9c24-afdb-45f8-8ab5-b658e98e6734"
      },
      "source": [
        "len(features3)"
      ],
      "execution_count": 165,
      "outputs": [
        {
          "output_type": "execute_result",
          "data": {
            "text/plain": [
              "21"
            ]
          },
          "metadata": {
            "tags": []
          },
          "execution_count": 165
        }
      ]
    },
    {
      "cell_type": "code",
      "metadata": {
        "id": "VatuIbiLTH1W",
        "colab_type": "code",
        "colab": {
          "base_uri": "https://localhost:8080/",
          "height": 34
        },
        "outputId": "45e4eff0-d5e4-4b37-c178-81078d61e790"
      },
      "source": [
        "encoder = ce.OneHotEncoder(use_cat_names=True)\n",
        "\n",
        "X_train_encoded3= encoder.fit_transform(X_train3)\n",
        "X_val_encoded3 = encoder.transform(X_val3)\n",
        "\n",
        "X_train_encoded3.shape, X_val_encoded3.shape"
      ],
      "execution_count": 166,
      "outputs": [
        {
          "output_type": "execute_result",
          "data": {
            "text/plain": [
              "((298, 41), (85, 41))"
            ]
          },
          "metadata": {
            "tags": []
          },
          "execution_count": 166
        }
      ]
    },
    {
      "cell_type": "code",
      "metadata": {
        "id": "Udi42zU6TWCS",
        "colab_type": "code",
        "colab": {
          "base_uri": "https://localhost:8080/",
          "height": 190
        },
        "outputId": "26f5a527-fb93-44f5-ae19-6d36ab823d31"
      },
      "source": [
        "imputer = SimpleImputer()\n",
        "\n",
        "X_train_imputed3 = imputer.fit_transform(X_train_encoded3)\n",
        "X_val_imputed3 = imputer.transform(X_val_encoded3)\n",
        "\n",
        "print(X_train_imputed3.shape, X_val_imputed3.shape)\n",
        "X_train_imputed3[:1]"
      ],
      "execution_count": 167,
      "outputs": [
        {
          "output_type": "stream",
          "text": [
            "(298, 41) (85, 41)\n"
          ],
          "name": "stdout"
        },
        {
          "output_type": "execute_result",
          "data": {
            "text/plain": [
              "array([[ 1.        ,  0.        ,  0.        ,  0.        ,  0.        ,\n",
              "         6.49      ,  3.        ,  3.        ,  5.        ,  4.        ,\n",
              "         4.        ,  4.        ,  1.        ,  0.        ,  0.        ,\n",
              "         1.        ,  0.        ,  0.        ,  1.        ,  0.        ,\n",
              "         0.        ,  1.        ,  0.        ,  0.        ,  1.        ,\n",
              "         0.        ,  0.        , 22.04224138,  0.77091954,  3.        ,\n",
              "         3.5       ,  4.        ,  1.        ,  0.        ,  0.        ,\n",
              "         1.        ,  0.        ,  0.        ,  1.        ,  0.        ,\n",
              "         0.        ]])"
            ]
          },
          "metadata": {
            "tags": []
          },
          "execution_count": 167
        }
      ]
    },
    {
      "cell_type": "code",
      "metadata": {
        "id": "0gqPp2XNTfeY",
        "colab_type": "code",
        "colab": {
          "base_uri": "https://localhost:8080/",
          "height": 190
        },
        "outputId": "e075c374-c39f-4eb3-cda0-ccd1f08fd6ca"
      },
      "source": [
        "scaler = StandardScaler()\n",
        "\n",
        "X_train_scaled3 = scaler.fit_transform(X_train_imputed3)\n",
        "X_val_scaled3 = scaler.transform(X_val_imputed3)\n",
        "\n",
        "print(X_train_scaled3.shape, X_val_scaled3.shape)\n",
        "X_train_imputed3[:1]"
      ],
      "execution_count": 168,
      "outputs": [
        {
          "output_type": "stream",
          "text": [
            "(298, 41) (85, 41)\n"
          ],
          "name": "stdout"
        },
        {
          "output_type": "execute_result",
          "data": {
            "text/plain": [
              "array([[ 1.        ,  0.        ,  0.        ,  0.        ,  0.        ,\n",
              "         6.49      ,  3.        ,  3.        ,  5.        ,  4.        ,\n",
              "         4.        ,  4.        ,  1.        ,  0.        ,  0.        ,\n",
              "         1.        ,  0.        ,  0.        ,  1.        ,  0.        ,\n",
              "         0.        ,  1.        ,  0.        ,  0.        ,  1.        ,\n",
              "         0.        ,  0.        , 22.04224138,  0.77091954,  3.        ,\n",
              "         3.5       ,  4.        ,  1.        ,  0.        ,  0.        ,\n",
              "         1.        ,  0.        ,  0.        ,  1.        ,  0.        ,\n",
              "         0.        ]])"
            ]
          },
          "metadata": {
            "tags": []
          },
          "execution_count": 168
        }
      ]
    },
    {
      "cell_type": "code",
      "metadata": {
        "id": "eCegSXEPTocn",
        "colab_type": "code",
        "colab": {
          "base_uri": "https://localhost:8080/",
          "height": 103
        },
        "outputId": "93bee665-5479-49d9-f235-b50d6b1755c9"
      },
      "source": [
        "model3 = LogisticRegressionCV(cv=5, random_state=42)\n",
        "\n",
        "model3.fit(X_train_scaled3, y_train3)\n",
        "print('Validation score3:', model3.score(X_val_scaled3, y_val3))"
      ],
      "execution_count": 169,
      "outputs": [
        {
          "output_type": "stream",
          "text": [
            "/usr/local/lib/python3.6/dist-packages/sklearn/linear_model/logistic.py:947: ConvergenceWarning: lbfgs failed to converge. Increase the number of iterations.\n",
            "  \"of iterations.\", ConvergenceWarning)\n",
            "/usr/local/lib/python3.6/dist-packages/sklearn/linear_model/logistic.py:947: ConvergenceWarning: lbfgs failed to converge. Increase the number of iterations.\n",
            "  \"of iterations.\", ConvergenceWarning)\n"
          ],
          "name": "stderr"
        },
        {
          "output_type": "stream",
          "text": [
            "Validation score3: 0.8705882352941177\n"
          ],
          "name": "stdout"
        }
      ]
    },
    {
      "cell_type": "code",
      "metadata": {
        "id": "Dthy_NCXUMrk",
        "colab_type": "code",
        "colab": {
          "base_uri": "https://localhost:8080/",
          "height": 363
        },
        "outputId": "67ce13bb-4046-420c-e4b2-737e9c3a657c"
      },
      "source": [
        "model.coef_[0], X_train_encoded3.columns"
      ],
      "execution_count": 170,
      "outputs": [
        {
          "output_type": "execute_result",
          "data": {
            "text/plain": [
              "(array([ 1.07888155e-01,  5.01321145e-02,  8.14894874e-04, -1.57721961e-01,\n",
              "         4.87538235e-02,  3.19422561e-01,  1.03145639e-01,  3.60768355e-02,\n",
              "         3.68726250e-01,  2.95953413e-01,  2.80340374e-01,  3.34200185e-01,\n",
              "         9.54265612e-01,  6.65131323e-02, -3.89330035e-02,  1.05830659e-01,\n",
              "        -9.94623558e-02, -9.22655753e-02,  1.30165262e-01, -6.89378126e-02,\n",
              "         1.30512415e-01, -9.96781739e-02, -3.61283527e-02,  4.41737706e-02,\n",
              "         2.40768659e-02, -1.15609958e-01,  1.86819671e-02,  7.04406232e-02,\n",
              "        -1.42251483e-01,  1.57518092e-02, -2.68949939e-02,  1.15139859e-02,\n",
              "         8.89564457e-02, -8.02349779e-02, -4.59175097e-02,  5.36848243e-02,\n",
              "        -7.42085393e-02,  3.78485660e-02,  3.14664361e-02,  1.45732961e-02,\n",
              "        -6.73184308e-02,  7.98721092e-02, -7.98721092e-02]),\n",
              " Index(['Burrito_California', 'Burrito_Carnitas', 'Burrito_Asada',\n",
              "        'Burrito_Other', 'Burrito_Surf & Turf', 'Cost', 'Hunger', 'Tortilla',\n",
              "        'Temp', 'Uniformity', 'Salsa', 'Synergy', 'Beef_x', 'Beef_nan',\n",
              "        'Beef_X', 'Guac_x', 'Guac_nan', 'Guac_X', 'Cheese_x', 'Cheese_nan',\n",
              "        'Cheese_X', 'Sour cream_nan', 'Sour cream_x', 'Sour cream_X',\n",
              "        'Pork_nan', 'Pork_x', 'Pork_X', 'Circum', 'Volume', 'Meat', 'Fillings',\n",
              "        'Meat:filling', 'Sauce_nan', 'Sauce_x', 'Sauce_X', 'Rice_nan', 'Rice_x',\n",
              "        'Rice_X', 'Beans_nan', 'Beans_x', 'Beans_X'],\n",
              "       dtype='object'))"
            ]
          },
          "metadata": {
            "tags": []
          },
          "execution_count": 170
        }
      ]
    },
    {
      "cell_type": "markdown",
      "metadata": {
        "id": "pg2rCr7fz1gn",
        "colab_type": "text"
      },
      "source": [
        "###Get your model's validation accuracy. (Multiple times if you try multiple iterations.)"
      ]
    },
    {
      "cell_type": "code",
      "metadata": {
        "id": "_dgJQqJyA1qp",
        "colab_type": "code",
        "colab": {
          "base_uri": "https://localhost:8080/",
          "height": 34
        },
        "outputId": "95b0c2cc-2178-4448-f475-b3295cd246ff"
      },
      "source": [
        "print('Validation score 1:', model.score(X_val_scaled, y_val))\n"
      ],
      "execution_count": 61,
      "outputs": [
        {
          "output_type": "stream",
          "text": [
            "Validation score 1: 0.7529411764705882\n"
          ],
          "name": "stdout"
        }
      ]
    },
    {
      "cell_type": "code",
      "metadata": {
        "id": "J_zi4ToCP3RU",
        "colab_type": "code",
        "colab": {
          "base_uri": "https://localhost:8080/",
          "height": 34
        },
        "outputId": "b23bb45f-ccfa-4778-838b-8abb74765a15"
      },
      "source": [
        "print('Validation score2:', model2.score(X_val_scaled2, y_val2))"
      ],
      "execution_count": 102,
      "outputs": [
        {
          "output_type": "stream",
          "text": [
            "Validation score2: 0.7647058823529411\n"
          ],
          "name": "stdout"
        }
      ]
    },
    {
      "cell_type": "code",
      "metadata": {
        "id": "GIgSdNH0Tz0h",
        "colab_type": "code",
        "colab": {
          "base_uri": "https://localhost:8080/",
          "height": 34
        },
        "outputId": "8a26cb9f-a877-4aae-f579-ddf2de32980c"
      },
      "source": [
        "print('Validation score3:', model3.score(X_val_scaled3, y_val3))"
      ],
      "execution_count": 171,
      "outputs": [
        {
          "output_type": "stream",
          "text": [
            "Validation score3: 0.8705882352941177\n"
          ],
          "name": "stdout"
        }
      ]
    },
    {
      "cell_type": "markdown",
      "metadata": {
        "id": "11YqIbtN0DrR",
        "colab_type": "text"
      },
      "source": [
        "###Get your model's test accuracy. (One time, at the end.)"
      ]
    },
    {
      "cell_type": "code",
      "metadata": {
        "id": "Gp8GrkoNVjm5",
        "colab_type": "code",
        "colab": {
          "base_uri": "https://localhost:8080/",
          "height": 103
        },
        "outputId": "bf91d88c-a871-4f2f-ef72-e641c4fdf3d4"
      },
      "source": [
        "X_test = test[features3]\n",
        "X_test_encoded = encoder.transform(X_test)\n",
        "X_test_imputed = imputer.transform(X_test_encoded)\n",
        "X_test_scaled = scaler.transform(X_test_imputed)\n",
        "model3.predict(X_test_scaled)\n"
      ],
      "execution_count": 181,
      "outputs": [
        {
          "output_type": "execute_result",
          "data": {
            "text/plain": [
              "array([ True, False,  True, False, False,  True,  True, False,  True,\n",
              "        True, False, False, False,  True,  True,  True, False, False,\n",
              "       False, False,  True, False,  True,  True, False, False,  True,\n",
              "        True,  True, False,  True,  True, False,  True, False,  True,\n",
              "        True])"
            ]
          },
          "metadata": {
            "tags": []
          },
          "execution_count": 181
        }
      ]
    },
    {
      "cell_type": "code",
      "metadata": {
        "id": "DrSfhMBbfqZG",
        "colab_type": "code",
        "colab": {}
      },
      "source": [
        "y_test = test[target]"
      ],
      "execution_count": 0,
      "outputs": []
    },
    {
      "cell_type": "code",
      "metadata": {
        "id": "o2rejPZDhn3z",
        "colab_type": "code",
        "colab": {
          "base_uri": "https://localhost:8080/",
          "height": 34
        },
        "outputId": "d0ef5a9d-0c37-4eaa-d22e-05589d527766"
      },
      "source": [
        "(y_test==y_pred).sum()/len(y_test)"
      ],
      "execution_count": 186,
      "outputs": [
        {
          "output_type": "execute_result",
          "data": {
            "text/plain": [
              "0.8108108108108109"
            ]
          },
          "metadata": {
            "tags": []
          },
          "execution_count": 186
        }
      ]
    },
    {
      "cell_type": "code",
      "metadata": {
        "id": "vY4quQKnh4sa",
        "colab_type": "code",
        "colab": {
          "base_uri": "https://localhost:8080/",
          "height": 34
        },
        "outputId": "c38bbab2-007a-42aa-a532-d0fcfdd6cbe4"
      },
      "source": [
        "accuracy_score(y_test, y_pred)"
      ],
      "execution_count": 187,
      "outputs": [
        {
          "output_type": "execute_result",
          "data": {
            "text/plain": [
              "0.8108108108108109"
            ]
          },
          "metadata": {
            "tags": []
          },
          "execution_count": 187
        }
      ]
    }
  ]
}