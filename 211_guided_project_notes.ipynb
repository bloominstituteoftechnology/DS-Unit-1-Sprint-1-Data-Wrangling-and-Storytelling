{
  "nbformat": 4,
  "nbformat_minor": 0,
  "metadata": {
    "colab": {
      "name": "211_guided-project-notes.ipynb",
      "provenance": [],
      "include_colab_link": true
    },
    "kernelspec": {
      "name": "python3",
      "display_name": "Python 3"
    }
  },
  "cells": [
    {
      "cell_type": "markdown",
      "metadata": {
        "id": "view-in-github",
        "colab_type": "text"
      },
      "source": [
        "<a href=\"https://colab.research.google.com/github/navroz-lamba/DS-Unit-1-Sprint-1-Data-Wrangling-and-Storytelling/blob/master/211_guided_project_notes.ipynb\" target=\"_parent\"><img src=\"https://colab.research.google.com/assets/colab-badge.svg\" alt=\"Open In Colab\"/></a>"
      ]
    },
    {
      "cell_type": "markdown",
      "metadata": {
        "id": "GqZwfieyB6cO",
        "colab_type": "text"
      },
      "source": [
        "# Regression 1: NYC Real Estate"
      ]
    },
    {
      "cell_type": "markdown",
      "metadata": {
        "id": "JMlxVUbiI_Ti",
        "colab_type": "text"
      },
      "source": [
        "## Survey Responses\n",
        "\n",
        "- Use *past* sales prices (historical data) to predict the *future* sales price of my condo."
      ]
    },
    {
      "cell_type": "markdown",
      "metadata": {
        "id": "-8nlouK1JioC",
        "colab_type": "text"
      },
      "source": [
        "# STEP 1: WRANGLE DATA\n",
        "\n",
        "## Import"
      ]
    },
    {
      "cell_type": "code",
      "metadata": {
        "id": "JdSuNv4DBRYg",
        "colab_type": "code",
        "colab": {}
      },
      "source": [
        "import sys\n",
        "\n",
        "# If you're on Colab:\n",
        "if 'google.colab' in sys.modules:\n",
        "    DATA_PATH = 'https://raw.githubusercontent.com/LambdaSchool/DS-Unit-2-Applied-Modeling/master/data/'\n",
        "\n",
        "# If you're working locally:\n",
        "# else:\n",
        "#     DATA_PATH = '../data/'\n",
        "    \n",
        "# Ignore this Numpy warning when using Plotly Express:\n",
        "# FutureWarning: Method .ptp is deprecated and will be removed in a future version. Use numpy.ptp instead.\n",
        "import warnings\n",
        "warnings.filterwarnings(action='ignore', category=FutureWarning, module='numpy')"
      ],
      "execution_count": null,
      "outputs": []
    },
    {
      "cell_type": "code",
      "metadata": {
        "id": "azgWkPmHJp5R",
        "colab_type": "code",
        "colab": {}
      },
      "source": [
        "import pandas as pd\n",
        "\n",
        "dtype_dict = {'ZIP_CODE': 'object',\n",
        "              'YEAR_BUILT': int}\n",
        "\n",
        "df = pd.read_csv(DATA_PATH+'condos/tribeca.csv', \n",
        "                 dtype=dtype_dict, \n",
        "                 parse_dates=['SALE_DATE'],\n",
        "                 index_col='SALE_DATE')"
      ],
      "execution_count": null,
      "outputs": []
    },
    {
      "cell_type": "code",
      "metadata": {
        "id": "RlxlvPQPJsnA",
        "colab_type": "code",
        "colab": {
          "base_uri": "https://localhost:8080/",
          "height": 274
        },
        "outputId": "6d07309f-3a4d-4dc3-b175-7d5d96b4e6b9"
      },
      "source": [
        "df.info()"
      ],
      "execution_count": null,
      "outputs": [
        {
          "output_type": "stream",
          "text": [
            "<class 'pandas.core.frame.DataFrame'>\n",
            "DatetimeIndex: 90 entries, 2019-01-03 to 2019-04-30\n",
            "Data columns (total 8 columns):\n",
            " #   Column                   Non-Null Count  Dtype  \n",
            "---  ------                   --------------  -----  \n",
            " 0   NEIGHBORHOOD             90 non-null     object \n",
            " 1   BUILDING_CLASS_CATEGORY  90 non-null     object \n",
            " 2   ADDRESS                  90 non-null     object \n",
            " 3   APARTMENT_NUMBER         90 non-null     object \n",
            " 4   ZIP_CODE                 90 non-null     object \n",
            " 5   GROSS_SQUARE_FEET        90 non-null     float64\n",
            " 6   YEAR_BUILT               90 non-null     int64  \n",
            " 7   SALE_PRICE               90 non-null     int64  \n",
            "dtypes: float64(1), int64(2), object(5)\n",
            "memory usage: 6.3+ KB\n"
          ],
          "name": "stdout"
        }
      ]
    },
    {
      "cell_type": "code",
      "metadata": {
        "id": "IKSSQT3XKYlR",
        "colab_type": "code",
        "colab": {
          "base_uri": "https://localhost:8080/",
          "height": 528
        },
        "outputId": "9d17a86c-7558-4ad3-eb79-8025c581b1a5"
      },
      "source": [
        "df.head()"
      ],
      "execution_count": null,
      "outputs": [
        {
          "output_type": "execute_result",
          "data": {
            "text/html": [
              "<div>\n",
              "<style scoped>\n",
              "    .dataframe tbody tr th:only-of-type {\n",
              "        vertical-align: middle;\n",
              "    }\n",
              "\n",
              "    .dataframe tbody tr th {\n",
              "        vertical-align: top;\n",
              "    }\n",
              "\n",
              "    .dataframe thead th {\n",
              "        text-align: right;\n",
              "    }\n",
              "</style>\n",
              "<table border=\"1\" class=\"dataframe\">\n",
              "  <thead>\n",
              "    <tr style=\"text-align: right;\">\n",
              "      <th></th>\n",
              "      <th>NEIGHBORHOOD</th>\n",
              "      <th>BUILDING_CLASS_CATEGORY</th>\n",
              "      <th>ADDRESS</th>\n",
              "      <th>APARTMENT_NUMBER</th>\n",
              "      <th>ZIP_CODE</th>\n",
              "      <th>GROSS_SQUARE_FEET</th>\n",
              "      <th>YEAR_BUILT</th>\n",
              "      <th>SALE_PRICE</th>\n",
              "    </tr>\n",
              "    <tr>\n",
              "      <th>SALE_DATE</th>\n",
              "      <th></th>\n",
              "      <th></th>\n",
              "      <th></th>\n",
              "      <th></th>\n",
              "      <th></th>\n",
              "      <th></th>\n",
              "      <th></th>\n",
              "      <th></th>\n",
              "    </tr>\n",
              "  </thead>\n",
              "  <tbody>\n",
              "    <tr>\n",
              "      <th>2019-01-03</th>\n",
              "      <td>TRIBECA</td>\n",
              "      <td>13 CONDOS - ELEVATOR APARTMENTS</td>\n",
              "      <td>181 HUDSON STREET, 6D</td>\n",
              "      <td>6D</td>\n",
              "      <td>10013.0</td>\n",
              "      <td>1840.0</td>\n",
              "      <td>1909</td>\n",
              "      <td>2800000</td>\n",
              "    </tr>\n",
              "    <tr>\n",
              "      <th>2019-01-07</th>\n",
              "      <td>TRIBECA</td>\n",
              "      <td>13 CONDOS - ELEVATOR APARTMENTS</td>\n",
              "      <td>10 LITTLE WEST STREET, 19A</td>\n",
              "      <td>19A</td>\n",
              "      <td>10004.0</td>\n",
              "      <td>1759.0</td>\n",
              "      <td>0</td>\n",
              "      <td>2650000</td>\n",
              "    </tr>\n",
              "    <tr>\n",
              "      <th>2019-01-09</th>\n",
              "      <td>TRIBECA</td>\n",
              "      <td>13 CONDOS - ELEVATOR APARTMENTS</td>\n",
              "      <td>30 LITTLE WEST STREET, 7G</td>\n",
              "      <td>7G</td>\n",
              "      <td>10004.0</td>\n",
              "      <td>1190.0</td>\n",
              "      <td>2005</td>\n",
              "      <td>1005000</td>\n",
              "    </tr>\n",
              "    <tr>\n",
              "      <th>2019-01-10</th>\n",
              "      <td>TRIBECA</td>\n",
              "      <td>13 CONDOS - ELEVATOR APARTMENTS</td>\n",
              "      <td>2 RIVER TERRACE, 4C</td>\n",
              "      <td>4C</td>\n",
              "      <td>0.0</td>\n",
              "      <td>1088.0</td>\n",
              "      <td>2006</td>\n",
              "      <td>1678000</td>\n",
              "    </tr>\n",
              "    <tr>\n",
              "      <th>2019-01-11</th>\n",
              "      <td>TRIBECA</td>\n",
              "      <td>13 CONDOS - ELEVATOR APARTMENTS</td>\n",
              "      <td>380 RECTOR PLACE, 10A</td>\n",
              "      <td>10A</td>\n",
              "      <td>10280.0</td>\n",
              "      <td>873.0</td>\n",
              "      <td>0</td>\n",
              "      <td>1380000</td>\n",
              "    </tr>\n",
              "  </tbody>\n",
              "</table>\n",
              "</div>"
            ],
            "text/plain": [
              "           NEIGHBORHOOD  ... SALE_PRICE\n",
              "SALE_DATE                ...           \n",
              "2019-01-03      TRIBECA  ...    2800000\n",
              "2019-01-07      TRIBECA  ...    2650000\n",
              "2019-01-09      TRIBECA  ...    1005000\n",
              "2019-01-10      TRIBECA  ...    1678000\n",
              "2019-01-11      TRIBECA  ...    1380000\n",
              "\n",
              "[5 rows x 8 columns]"
            ]
          },
          "metadata": {
            "tags": []
          },
          "execution_count": 16
        }
      ]
    },
    {
      "cell_type": "markdown",
      "metadata": {
        "id": "_7cJFVVaO577",
        "colab_type": "text"
      },
      "source": [
        "## EDA"
      ]
    },
    {
      "cell_type": "code",
      "metadata": {
        "id": "qtG20leEPUDa",
        "colab_type": "code",
        "colab": {}
      },
      "source": [
        "pd.options.display.float_format = '{:,.0f}'.format"
      ],
      "execution_count": null,
      "outputs": []
    },
    {
      "cell_type": "code",
      "metadata": {
        "id": "PaPgl6wUKzto",
        "colab_type": "code",
        "colab": {
          "base_uri": "https://localhost:8080/",
          "height": 295
        },
        "outputId": "aee3753d-7d81-4453-a45d-4fb998152a11"
      },
      "source": [
        "df['SALE_PRICE'].plot(kind='hist')"
      ],
      "execution_count": null,
      "outputs": [
        {
          "output_type": "execute_result",
          "data": {
            "text/plain": [
              "<matplotlib.axes._subplots.AxesSubplot at 0x7fabaa33ba20>"
            ]
          },
          "metadata": {
            "tags": []
          },
          "execution_count": 24
        },
        {
          "output_type": "display_data",
          "data": {
            "image/png": "[encoded data removed]",
            "text/plain": [
              "<Figure size 432x288 with 1 Axes>"
            ]
          },
          "metadata": {
            "tags": [],
            "needs_background": "light"
          }
        }
      ]
    },
    {
      "cell_type": "code",
      "metadata": {
        "id": "I_BSodY0PEEU",
        "colab_type": "code",
        "colab": {
          "base_uri": "https://localhost:8080/",
          "height": 171
        },
        "outputId": "2d8f0eb5-9676-44e4-9325-8e291fedd0a1"
      },
      "source": [
        "df.describe()['SALE_PRICE']"
      ],
      "execution_count": null,
      "outputs": [
        {
          "output_type": "execute_result",
          "data": {
            "text/plain": [
              "count           90\n",
              "mean     3,928,736\n",
              "std      3,621,996\n",
              "min        424,770\n",
              "25%      1,156,552\n",
              "50%      2,750,000\n",
              "75%      5,087,500\n",
              "max     15,000,000\n",
              "Name: SALE_PRICE, dtype: float64"
            ]
          },
          "metadata": {
            "tags": []
          },
          "execution_count": 23
        }
      ]
    },
    {
      "cell_type": "code",
      "metadata": {
        "id": "HylOnMDMQKOO",
        "colab_type": "code",
        "colab": {
          "base_uri": "https://localhost:8080/",
          "height": 285
        },
        "outputId": "5fc9074b-cc3b-4dd4-a6a4-9211fa47a93b"
      },
      "source": [
        "df['GROSS_SQUARE_FEET'].plot(kind='hist')"
      ],
      "execution_count": null,
      "outputs": [
        {
          "output_type": "execute_result",
          "data": {
            "text/plain": [
              "<matplotlib.axes._subplots.AxesSubplot at 0x7fabaa2c63c8>"
            ]
          },
          "metadata": {
            "tags": []
          },
          "execution_count": 25
        },
        {
          "output_type": "display_data",
          "data": {
            "image/png": "[encoded data removed]",
            "text/plain": [
              "<Figure size 432x288 with 1 Axes>"
            ]
          },
          "metadata": {
            "tags": [],
            "needs_background": "light"
          }
        }
      ]
    },
    {
      "cell_type": "code",
      "metadata": {
        "id": "9_wLY0cGPPZw",
        "colab_type": "code",
        "colab": {
          "base_uri": "https://localhost:8080/",
          "height": 51
        },
        "outputId": "0a7fd05b-8bb6-43e2-af30-6985878d8ac3"
      },
      "source": [
        "df['BUILDING_CLASS_CATEGORY'].value_counts()"
      ],
      "execution_count": null,
      "outputs": [
        {
          "output_type": "execute_result",
          "data": {
            "text/plain": [
              "13 CONDOS - ELEVATOR APARTMENTS    90\n",
              "Name: BUILDING_CLASS_CATEGORY, dtype: int64"
            ]
          },
          "metadata": {
            "tags": []
          },
          "execution_count": 27
        }
      ]
    },
    {
      "cell_type": "markdown",
      "metadata": {
        "id": "5asT4S2vSZ0Y",
        "colab_type": "text"
      },
      "source": [
        "# Split the data"
      ]
    },
    {
      "cell_type": "markdown",
      "metadata": {
        "id": "W34A4MXCSifd",
        "colab_type": "text"
      },
      "source": [
        "## Split your **feature matrix** from your **target vector**"
      ]
    },
    {
      "cell_type": "code",
      "metadata": {
        "id": "c4SC3PyfShtL",
        "colab_type": "code",
        "colab": {}
      },
      "source": [
        "# Target\n",
        "y = df['SALE_PRICE']\n",
        "# Feature Matrix\n",
        "X = df[['GROSS_SQUARE_FEET']]"
      ],
      "execution_count": null,
      "outputs": []
    },
    {
      "cell_type": "code",
      "metadata": {
        "id": "WHKLeKH9QbXD",
        "colab_type": "code",
        "colab": {}
      },
      "source": [
        "import matplotlib.pyplot as plt"
      ],
      "execution_count": null,
      "outputs": []
    },
    {
      "cell_type": "code",
      "metadata": {
        "id": "ZLs3XyuJTbgf",
        "colab_type": "code",
        "colab": {
          "base_uri": "https://localhost:8080/",
          "height": 291
        },
        "outputId": "cd0de7fe-77ab-4dc0-e192-48b0382cce21"
      },
      "source": [
        "plt.scatter(X, y)\n",
        "plt.xlabel('GROSS_SQUARE_FEET')\n",
        "plt.ylabel('SALE_PRICE');"
      ],
      "execution_count": null,
      "outputs": [
        {
          "output_type": "display_data",
          "data": {
            "image/png": "[encoded data removed]",
            "text/plain": [
              "<Figure size 432x288 with 1 Axes>"
            ]
          },
          "metadata": {
            "tags": [],
            "needs_background": "light"
          }
        }
      ]
    },
    {
      "cell_type": "markdown",
      "metadata": {
        "id": "9lK6xr2BVZtH",
        "colab_type": "text"
      },
      "source": [
        "## Train-validation split\n",
        "\n",
        "You can do this split randomly. However, sometimes when you're working with time series, you need to split by using a cutoff date."
      ]
    },
    {
      "cell_type": "code",
      "metadata": {
        "id": "Omzqw54BV1oM",
        "colab_type": "code",
        "colab": {}
      },
      "source": [
        "cutoff = '2019-04-01'\n",
        "mask = X.index < cutoff\n",
        "X_train, y_train = X.loc[mask], y.loc[mask]\n",
        "X_val, y_val = X.loc[~mask], y.loc[~mask]"
      ],
      "execution_count": null,
      "outputs": []
    },
    {
      "cell_type": "markdown",
      "metadata": {
        "id": "uutrnYlEYCtm",
        "colab_type": "text"
      },
      "source": [
        "# Establish Baseline\n",
        "\n",
        "Questions to ask yourself:\n",
        "\n",
        "1. Is this a **supervised** or **unsupervised** learning problem.\n",
        "2. Is this a **regression** or a **classification** problem?"
      ]
    },
    {
      "cell_type": "code",
      "metadata": {
        "id": "jPs8wsJxWiYP",
        "colab_type": "code",
        "colab": {
          "base_uri": "https://localhost:8080/",
          "height": 240
        },
        "outputId": "c9bfeb99-6506-4e3f-ffb1-89263538483f"
      },
      "source": [
        "y_train"
      ],
      "execution_count": null,
      "outputs": [
        {
          "output_type": "execute_result",
          "data": {
            "text/plain": [
              "SALE_DATE\n",
              "2019-01-03    2800000\n",
              "2019-01-07    2650000\n",
              "2019-01-09    1005000\n",
              "2019-01-10    1678000\n",
              "2019-01-11    1380000\n",
              "               ...   \n",
              "2019-03-18     496860\n",
              "2019-03-20    1275000\n",
              "2019-03-25     520000\n",
              "2019-03-25    3920263\n",
              "2019-03-25    4500000\n",
              "Name: SALE_PRICE, Length: 65, dtype: int64"
            ]
          },
          "metadata": {
            "tags": []
          },
          "execution_count": 50
        }
      ]
    },
    {
      "cell_type": "code",
      "metadata": {
        "id": "ROPnn20GaaeY",
        "colab_type": "code",
        "colab": {
          "base_uri": "https://localhost:8080/",
          "height": 295
        },
        "outputId": "0c458212-bfae-4c41-b28f-ac95d2fdf6ef"
      },
      "source": [
        "y_train.plot(kind='hist')"
      ],
      "execution_count": null,
      "outputs": [
        {
          "output_type": "execute_result",
          "data": {
            "text/plain": [
              "<matplotlib.axes._subplots.AxesSubplot at 0x7faba9e735c0>"
            ]
          },
          "metadata": {
            "tags": []
          },
          "execution_count": 51
        },
        {
          "output_type": "display_data",
          "data": {
            "image/png": "[encoded data removed]",
            "text/plain": [
              "<Figure size 432x288 with 1 Axes>"
            ]
          },
          "metadata": {
            "tags": [],
            "needs_background": "light"
          }
        }
      ]
    },
    {
      "cell_type": "code",
      "metadata": {
        "id": "gEx4e_tyauOz",
        "colab_type": "code",
        "colab": {
          "base_uri": "https://localhost:8080/",
          "height": 51
        },
        "outputId": "60052613-6bd6-4a3c-90f7-fb9c79ef61d9"
      },
      "source": [
        "baseline_guess = y_train.mean()\n",
        "\n",
        "MAE = abs(y_train - baseline_guess).mean()\n",
        "\n",
        "print(f'''If my baseline model always predicts {baseline_guess}, \n",
        "on average, the prediction will be off by {MAE}.''')"
      ],
      "execution_count": null,
      "outputs": [
        {
          "output_type": "stream",
          "text": [
            "If my baseline model always predicts 4262885.0, \n",
            "on average, the prediction will be off by 2974677.6923076925.\n"
          ],
          "name": "stdout"
        }
      ]
    },
    {
      "cell_type": "markdown",
      "metadata": {
        "id": "2FdpBfLedvmW",
        "colab_type": "text"
      },
      "source": [
        "# Build Our Model"
      ]
    },
    {
      "cell_type": "code",
      "metadata": {
        "id": "efbhCJuJdupC",
        "colab_type": "code",
        "colab": {}
      },
      "source": [
        "from sklearn.linear_model import LinearRegression"
      ],
      "execution_count": null,
      "outputs": []
    },
    {
      "cell_type": "code",
      "metadata": {
        "id": "St1kNYG1c1nu",
        "colab_type": "code",
        "colab": {}
      },
      "source": [
        "# Instantiate your predictor\n",
        "lr = LinearRegression()\n",
        "\n",
        "# Train your predictor using the training data\n",
        "lr.fit(X_train, y_train);"
      ],
      "execution_count": null,
      "outputs": []
    },
    {
      "cell_type": "code",
      "metadata": {
        "id": "OzCk5dhleIkn",
        "colab_type": "code",
        "colab": {
          "base_uri": "https://localhost:8080/",
          "height": 34
        },
        "outputId": "6453688b-9610-4560-c975-54298b82f9b4"
      },
      "source": [
        "lr.coef_[0]"
      ],
      "execution_count": null,
      "outputs": [
        {
          "output_type": "execute_result",
          "data": {
            "text/plain": [
              "3082.9034539449854"
            ]
          },
          "metadata": {
            "tags": []
          },
          "execution_count": 62
        }
      ]
    },
    {
      "cell_type": "code",
      "metadata": {
        "id": "JH6_GYa7eSl8",
        "colab_type": "code",
        "colab": {
          "base_uri": "https://localhost:8080/",
          "height": 34
        },
        "outputId": "6ab10e90-dcb2-451a-92f0-7deea698f2ea"
      },
      "source": [
        "lr.intercept_"
      ],
      "execution_count": null,
      "outputs": [
        {
          "output_type": "execute_result",
          "data": {
            "text/plain": [
              "-1409040.774567984"
            ]
          },
          "metadata": {
            "tags": []
          },
          "execution_count": 63
        }
      ]
    },
    {
      "cell_type": "markdown",
      "metadata": {
        "id": "D8i9LZEXhZdO",
        "colab_type": "text"
      },
      "source": [
        "# Stretch Goal: Plot the data with our model"
      ]
    },
    {
      "cell_type": "code",
      "metadata": {
        "id": "ljL-pXOchRSv",
        "colab_type": "code",
        "colab": {
          "base_uri": "https://localhost:8080/",
          "height": 308
        },
        "outputId": "cac8986e-6183-4f2d-92da-611819fff2f1"
      },
      "source": [
        "import numpy as np\n",
        "\n",
        "X_model = np.linspace(0, X_train['GROSS_SQUARE_FEET'].max(), 50).reshape(-1,1)\n",
        "# Note how we use the .predict() method with our model\n",
        "y_pred = lr.predict(X_model)\n",
        "\n",
        "# Plot our data\n",
        "plt.scatter(X_train, y_train)\n",
        "\n",
        "# Plot the regression line\n",
        "plt.plot(X_model, y_pred, color='red', label='Our Model')\n",
        "\n",
        "plt.xlabel('GROSS_SQUARE_FEET')\n",
        "plt.ylabel('SALE_PRICE')\n",
        "plt.legend()"
      ],
      "execution_count": null,
      "outputs": [
        {
          "output_type": "execute_result",
          "data": {
            "text/plain": [
              "<matplotlib.legend.Legend at 0x7fabac709e48>"
            ]
          },
          "metadata": {
            "tags": []
          },
          "execution_count": 71
        },
        {
          "output_type": "display_data",
          "data": {
            "image/png": "[encoded data removed]",
            "text/plain": [
              "<Figure size 432x288 with 1 Axes>"
            ]
          },
          "metadata": {
            "tags": [],
            "needs_background": "light"
          }
        }
      ]
    },
    {
      "cell_type": "code",
      "metadata": {
        "id": "fNhrMNYjhurf",
        "colab_type": "code",
        "colab": {
          "base_uri": "https://localhost:8080/",
          "height": 51
        },
        "outputId": "81208149-2baa-483c-84ad-5e0e7d1e4f9d"
      },
      "source": [
        "X_train.max()"
      ],
      "execution_count": null,
      "outputs": [
        {
          "output_type": "execute_result",
          "data": {
            "text/plain": [
              "GROSS_SQUARE_FEET   4,986\n",
              "dtype: float64"
            ]
          },
          "metadata": {
            "tags": []
          },
          "execution_count": 65
        }
      ]
    },
    {
      "cell_type": "code",
      "metadata": {
        "id": "U1n2c1gZhvoz",
        "colab_type": "code",
        "colab": {}
      },
      "source": [
        ""
      ],
      "execution_count": null,
      "outputs": []
    }
  ]
}