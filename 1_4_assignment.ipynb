{
  "nbformat": 4,
  "nbformat_minor": 0,
  "metadata": {
    "colab": {
      "name": "1_4_assignment",
      "provenance": [],
      "collapsed_sections": [],
      "include_colab_link": true
    },
    "kernelspec": {
      "name": "python3",
      "display_name": "Python 3"
    }
  },
  "cells": [
    {
      "cell_type": "markdown",
      "metadata": {
        "id": "view-in-github",
        "colab_type": "text"
      },
      "source": [
        "<a href=\"https://colab.research.google.com/github/andrewhslr419/DS-Unit-1-Sprint-1-Data-Wrangling-and-Storytelling/blob/master/1_4_assignment.ipynb\" target=\"_parent\"><img src=\"https://colab.research.google.com/assets/colab-badge.svg\" alt=\"Open In Colab\"/></a>"
      ]
    },
    {
      "cell_type": "code",
      "metadata": {
        "id": "CS9QlETpHYjr",
        "colab_type": "code",
        "colab": {}
      },
      "source": [
        "import numpy as np\n",
        "import matplotlib.pyplot as plt\n",
        "from matplotlib.ticker import AutoMinorLocator, MultipleLocator, FuncFormatter\n",
        "\n",
        "np.random.seed(19680801)\n",
        "\n",
        "X = np.linspace(0.5, 3.5, 100)\n",
        "Y1 = 3+np.cos(X)\n",
        "Y2 = 1+np.cos(1+X/0.75)/2\n",
        "Y3 = np.random.uniform(Y1, Y2, len(X))\n",
        "\n",
        "fig = plt.figure(figsize=(8, 8))\n",
        "ax = fig.add_subplot(1, 1, 1, aspect=1)\n",
        "\n",
        "\n",
        "def minor_tick(x, pos):\n",
        "    if not x % 1.0:\n",
        "        return \"\"\n",
        "    return \"%.2f\" % x\n",
        "\n",
        "ax.xaxis.set_major_locator(MultipleLocator(1.000))\n",
        "ax.xaxis.set_minor_locator(AutoMinorLocator(4))\n",
        "ax.yaxis.set_major_locator(MultipleLocator(1.000))\n",
        "ax.yaxis.set_minor_locator(AutoMinorLocator(4))\n",
        "ax.xaxis.set_minor_formatter(FuncFormatter(minor_tick))\n",
        "\n",
        "ax.set_xlim(0, 4)\n",
        "ax.set_ylim(0, 4)"
      ],
      "execution_count": 0,
      "outputs": []
    },
    {
      "cell_type": "code",
      "metadata": {
        "id": "ty97h-84HpsU",
        "colab_type": "code",
        "colab": {}
      },
      "source": [
        "import numpy as np\n",
        "import matplotlib.pyplot as plt\n",
        "from matplotlib.ticker import AutoMinorLocator, MultipleLocator, FuncFormatter"
      ],
      "execution_count": 0,
      "outputs": []
    },
    {
      "cell_type": "code",
      "metadata": {
        "id": "Zh8cbwOWIDeI",
        "colab_type": "code",
        "colab": {}
      },
      "source": [
        "np.random.seed(19680801)"
      ],
      "execution_count": 0,
      "outputs": []
    },
    {
      "cell_type": "code",
      "metadata": {
        "id": "SYI9DOWGIDPE",
        "colab_type": "code",
        "colab": {}
      },
      "source": [
        "#X = np.linspace(0.5, 3.5, 100)\n",
        "#Y1 = 3+np.cos(X)\n",
        "#Y2 = 1+np.cos(1+X/0.75)/2\n",
        "#Y3 = np.random.uniform(Y1, Y2, len(X))\n",
        "X = np.linspace(0.5,3.5,100)\n",
        "Y1 = 3+np.cos(x)\n",
        "Y2=1+np.cos(1+x/0.75)/2\n",
        "Y3=np.random.uniform(Y1,Y2, len(X))"
      ],
      "execution_count": 0,
      "outputs": []
    },
    {
      "cell_type": "code",
      "metadata": {
        "id": "r_I4qfunNXfX",
        "colab_type": "code",
        "colab": {}
      },
      "source": [
        "#fig = plt.figure(figsize=(8, 8))\n",
        "#ax = fig.add_subplot(1, 1, 1, aspect=1)\n",
        "#def minor_tick(x, pos):\n",
        "    #if not x % 1.0:\n",
        "        #return \"\" \n",
        "    #return \"%.2f\" % x\n",
        "\n",
        "fig = plt.figure(figsize=(8,8))\n",
        "ax = fig.add_subplot(1,1,1,aspect=1)\n",
        "def minor_tick(x,pos):\n",
        "  if not x%1.0:\n",
        "    return \"\"\n",
        "  return \"%.2f\"%x\n",
        "\n"
      ],
      "execution_count": 0,
      "outputs": []
    },
    {
      "cell_type": "code",
      "metadata": {
        "id": "RjN7uXQlXhpc",
        "colab_type": "code",
        "colab": {
          "base_uri": "https://localhost:8080/",
          "height": 34
        },
        "outputId": "91629767-a14c-4ea5-9c38-6c71249ccf0a"
      },
      "source": [
        "#ax.xaxis.set_major_locator(MultipleLocator(1.000))\n",
        "#ax.xaxis.set_minor_locator(AutoMinorLocator(4))\n",
        "#ax.yaxis.set_major_locator(MultipleLocator(1.000))\n",
        "#ax.yaxis.set_minor_locator(AutoMinorLocator(4))\n",
        "#ax.xaxis.set_minor_formatter(FuncFormatter(minor_tick))\n",
        "\n",
        "#ax.set_xlim(0, 4)\n",
        "#ax.set_ylim(0, 4)\n",
        "\n",
        "ax.xaxis.set_major_locator(MultipleLocator(1.000))\n",
        "ax.xaxis.set_minor_locator(AutoMinorLocator(4))\n",
        "ax.yaxis.set_major_locator(MultipleLocator(1.000))\n",
        "ax.yaxis.set_minor_locator(AutoMinorLocator(4))\n",
        "ax.xaxis.set_minor_formatter(FuncFormatter(minor_tick))\n",
        "\n",
        "ax.set_ylim(0,4)\n",
        "ax.set_xlim(0,4)\n"
      ],
      "execution_count": 13,
      "outputs": [
        {
          "output_type": "execute_result",
          "data": {
            "text/plain": [
              "(0, 40)"
            ]
          },
          "metadata": {
            "tags": []
          },
          "execution_count": 13
        }
      ]
    },
    {
      "cell_type": "code",
      "metadata": {
        "id": "vMP4dknqalyi",
        "colab_type": "code",
        "colab": {}
      },
      "source": [
        "#ax.tick_params(which='major', width=1.0)\n",
        "#ax.tick_params(which='major', length=10)\n",
        "#ax.tick_params(which='minor', width=1.0, labelsize=10)\n",
        "#ax.tick_params(which='minor', length=5, labelsize=10, labelcolor='0.25')\n",
        "\n",
        "#ax.grid(linestyle=\"--\", linewidth=0.5, color='.25', zorder=-10)\n",
        "\n",
        "#ax.plot(X, Y1, c=(0.25, 0.25, 1.00), lw=2, label=\"Blue signal\", zorder=10)\n",
        "#ax.plot(X, Y2, c=(1.00, 0.25, 0.25), lw=2, label=\"Red signal\")\n",
        "#ax.plot(X, Y3, linewidth=0,\n",
        " #       marker='o', markerfacecolor='w', markeredgecolor='k')\n",
        "\n",
        "#ax.set_title(\"Anatomy of a figure\", fontsize=20, verticalalignment='bottom')\n",
        "#ax.set_xlabel(\"X axis label\")\n",
        "#ax.set_ylabel(\"Y axis label\")\n",
        "\n",
        "#ax.legend()\n",
        "ax.tick_params(which='major', width=1.0)\n",
        "ax.tick_params(which='major', length=10)\n",
        "ax.tick_params(which='minor', width=1.0, labelsize=10)\n",
        "ax.tick_params(which='minor', length=5, labelsize=10, labelcolor='0.25')\n",
        "ax.grid(linestyle=\"--\", linewidth=0.5, color='.25', zorder=-10\n",
        "ax.plot(X, Y1, c=(0.25, 0.25, 1.00)), lw=2, label=\"Blue signal\", zorder=10\n",
        "ax.plot(X, Y2, c=1.00, 0.25, 0.25, lw=2, label=\"Red signal\")\n",
        "        marker='o', markerfacecolor='w', markeredgecolor='k'\n",
        "\n",
        "ax.set_title(\"Anatomy of a figure\", fontsize=20, verticalalignment='bottom')\n",
        "ax.set_xlabel(\"X axis label\")\n",
        "ax.set_ylabel(\"Y axis label\")\n",
        "\n",
        "ax.legend()"
      ],
      "execution_count": 0,
      "outputs": []
    },
    {
      "cell_type": "code",
      "metadata": {
        "id": "T7rGw2ezjBsn",
        "colab_type": "code",
        "colab": {}
      },
      "source": [
        "#def circle(x, y, radius=0.15):\n",
        "    #from matplotlib.patches import Circle\n",
        "    #from matplotlib.patheffects import withStroke\n",
        "    #circle = Circle((x, y), radius, clip_on=False, zorder=10, linewidth=1,\n",
        "                 # edgecolor='black', facecolor=(0, 0, 0, .0125),\n",
        "                 # path_effects=[withStroke(linewidth=5, foreground='w')])\n",
        "    #ax.add_artist(circle)\n",
        "\n",
        "\n",
        "#def text(x, y, text):\n",
        "    #ax.text(x, y, text, backgroundcolor=\"white\",\n",
        "            #ha='center', va='top', weight='bold', color='blue')\n",
        "\n",
        "\n",
        "def circle(x,y,radius=0.15):\n",
        "  from matplotlib.patches import Circle\n",
        "  from matplotlib.patheffects import withStroke\n",
        "  circle = Circle((x,y), radius, clip_on=False, zorder=10, linewidth=1,\n",
        "                  edgecolor='black', facecolor=(0,0,0, .0125),\n",
        "                  path_effects=[withStroke(linewidth=5, foreground='w')])\n",
        "  ax.add_artist(circle)\n",
        "\n",
        "  def text(x,y,text):\n",
        "    ax.text(x,y,text,backgroundcolor='white')\n",
        "  \n"
      ],
      "execution_count": 0,
      "outputs": []
    },
    {
      "cell_type": "code",
      "metadata": {
        "id": "wc9q_Twhmbqu",
        "colab_type": "code",
        "colab": {}
      },
      "source": [
        "# Minor tick\n",
        "#circle(0.50, -0.10)\n",
        "#text(0.50, -0.32, \"Minor tick label\")\n",
        "circle(0.50, -0.10)\n",
        "text(0.50, -0.32, \" Minor tick label\")\n",
        "\n",
        "# Major tick\n",
        "#circle(-0.03, 4.00)\n",
        "#text(0.03, 3.80, \"Major tick\")\n",
        "circle(-0.03, 4.00)\n",
        "text(0.03, 3.80, \"Major Tick\")\n",
        "\n",
        "# Minor tick\n",
        "#circle(0.00, 3.50)\n",
        "#text(0.00, 3.30, \"Minor tick\")\n",
        "circle(0.00, 3.50)\n",
        "text(0.00, 3.303, \"Major tick\")\n",
        "\n",
        "# Major tick label\n",
        "#circle(-0.15, 3.00)\n",
        "#text(-0.15, 2.80, \"Major tick label\")\n",
        "circle(-0.15, 3.00)\n",
        "text(-0.15, 2.80, \"Major tick label\")\n",
        "\n",
        "# X Label\n",
        "#circle(1.80, -0.27)\n",
        "#text(1.80, -0.45, \"X axis label\")\n",
        "circle(1.80, -0.27)\n",
        "text(1.80, -0.45, \"X axis label\")\n",
        "\n",
        "\n",
        "# Y Label\n",
        "#circle(-0.27, 1.80)\n",
        "#text(-0.27, 1.6, \"Y axis label\")\n",
        "circle(-0.27, 1.6, \"Y axis label\")\n",
        "text(-0.27, 1.6, \"Y axis label\" )\n",
        "\n",
        "# Title\n",
        "#circle(1.60, 4.13)\n",
        "#text(1.60, 3.93, \"Title\")\n",
        "circle(1.60, 4.13)\n",
        "text(1.60, 3.93, \"Title\" )\n",
        "\n",
        "# Blue plot\n",
        "#circle(1.75, 2.80)\n",
        "#text(1.75, 2.60, \"Line\\n(line plot)\")\n",
        "circle(1.75, 2.80 )\n",
        "text(1.75, 2.60, \"Line\\n(line plot)\")\n",
        "\n",
        "# Red plot\n",
        "#circle(1.20, 0.60)\n",
        "#text(1.20, 0.40, \"Line\\n(line plot)\")\n",
        "circle(1.20, 0.60)\n",
        "text(1.20, 0.40, \"Line\\n(line plot)\")\n",
        "\n",
        "# Scatter plot\n",
        "#circle(3.20, 1.75)\n",
        "#text(3.20, 1.55, \"Markers\\n(scatter plot)\")\n",
        "circle(3.20, 1.75)\n",
        "text(3.20, 1.55, \"Markers\\n(scatter plot)\")\n",
        "\n",
        "# Grid\n",
        "#circle(3.00, 3.00)\n",
        "#text(3.00, 2.80, \"Grid\")\n",
        "circle(3.00, 3.00)\n",
        "text(3.00, 2.80, \"Grid\")\n",
        "\n",
        "# Legend\n",
        "#circle(3.70, 3.80)\n",
        "#text(3.70, 3.60, \"Legend\")\n",
        "circle(3.70, 3.80)\n",
        "text(3.70, 3.60, \"Legend\")\n",
        "\n",
        "# Axes\n",
        "#circle(0.5, 0.5)\n",
        "#text(0.5, 0.3, \"Axes\")\n",
        "circle(0.5, 0.5)\n",
        "text(0.5, 0.3, \"Axis\")\n",
        "\n",
        "# Figure\n",
        "#circle(-0.3, 0.65)\n",
        "#text(-0.3, 0.45, \"Figure\")\n",
        "circle(-0.3, 0.65)\n",
        "text(-0.3, 0.45, \"Figure\")\n",
        "\n",
        "#color = 'blue'\n",
        "#ax.annotate('Spines', xy=(4.0, 0.35), xytext=(3.3, 0.5),\n",
        "            #weight='bold', color=color,\n",
        "            #arrowprops=dict(arrowstyle='->',\n",
        "                            #connectionstyle=\"arc3\",\n",
        "                            #color=color))\n",
        "\n",
        "#ax.annotate('', xy=(3.15, 0.0), xytext=(3.45, 0.45),\n",
        "            #weight='bold', color=color,\n",
        "            #arrowprops=dict(arrowstyle='->',\n",
        "                            #connectionstyle=\"arc3\",\n",
        "                            #color=color))\n",
        "\n",
        "#ax.text(4.0, -0.4, \"Made with http://matplotlib.org\",\n",
        "        #fontsize=10, ha=\"right\", color='.5')\n",
        "\n",
        "#plt.show()\n",
        "color = 'blue'\n",
        "ax.annotate('Spines', xy=(4.0,0.35), xytext=(3.3, 0.5)),\n",
        "          weight='bold', color=color,\n",
        "          arrowprops=dict(arrowstyle='->',\n",
        "                          connectionstyle='arc3'\n",
        "                          color=color))\n",
        "ax.annotate('', xy=(3.15, 0.0), xytext=(3.45, 0.45),\n",
        "            weight = 'bold', color=color,\n",
        "            arrowprops=dict(arrowstyle='->',\n",
        "                            connectionstyle=\"arc3\",\n",
        "                            color=color))\n",
        "ax.text(4.0, -0.4, \"Made with http://matplotlib.org\",\n",
        "        fontsize=10, ha='right, color='.5')\n",
        "plt.show()\n",
        "            \n"
      ],
      "execution_count": 0,
      "outputs": []
    },
    {
      "cell_type": "code",
      "metadata": {
        "id": "BtLD-ZxKi9JW",
        "colab_type": "code",
        "colab": {}
      },
      "source": [
        ""
      ],
      "execution_count": 0,
      "outputs": []
    }
  ]
}