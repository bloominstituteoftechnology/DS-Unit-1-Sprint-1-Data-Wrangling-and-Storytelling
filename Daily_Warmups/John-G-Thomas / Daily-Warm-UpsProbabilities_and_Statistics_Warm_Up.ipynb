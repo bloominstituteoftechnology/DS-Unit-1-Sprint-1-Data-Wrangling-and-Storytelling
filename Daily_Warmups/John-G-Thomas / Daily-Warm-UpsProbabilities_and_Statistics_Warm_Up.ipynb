{
  "nbformat": 4,
  "nbformat_minor": 0,
  "metadata": {
    "colab": {
      "name": "Probabilities-and-Statistics-Warm-Up.ipynb",
      "provenance": [],
      "collapsed_sections": [],
      "include_colab_link": true
    },
    "kernelspec": {
      "name": "python3",
      "display_name": "Python 3"
    }
  },
  "cells": [
    {
      "cell_type": "markdown",
      "metadata": {
        "id": "view-in-github",
        "colab_type": "text"
      },
      "source": [
        "<a href=\"https://colab.research.google.com/github/dondreojordan/DS-Unit-1-Sprint-1-Data-Wrangling-and-Storytelling/blob/master/John-G-Thomas%20/%20Daily-Warm-UpsProbabilities_and_Statistics_Warm_Up.ipynb\" target=\"_parent\"><img src=\"https://colab.research.google.com/assets/colab-badge.svg\" alt=\"Open In Colab\"/></a>"
      ]
    },
    {
      "cell_type": "markdown",
      "metadata": {
        "id": "VMoZZRrA6PNT",
        "colab_type": "text"
      },
      "source": [
        "# Probabilities and Statistics Warm-Up\n",
        "---\n",
        "---\n",
        "---\n",
        "\n",
        "In the slack channel recruit a partner, you and your partner should work together from one of your own notebooks. When you're finished PR the completed warm up assignment into your partners repository.\n",
        "\n",
        "## Concepts\n",
        "----\n",
        "\n",
        "Discuss, and answer, the following conceptual questions."
      ]
    },
    {
      "cell_type": "markdown",
      "metadata": {
        "id": "V04MgkqEMuvy",
        "colab_type": "text"
      },
      "source": [
        "#### What is a normal distribution?\n"
      ]
    },
    {
      "cell_type": "markdown",
      "metadata": {
        "id": "ZKkASG0-MyWO",
        "colab_type": "text"
      },
      "source": [
        "**Answer:** "
      ]
    },
    {
      "cell_type": "markdown",
      "metadata": {
        "id": "kDK7FVrDM1Jy",
        "colab_type": "text"
      },
      "source": [
        "The normal distribution is a probability function that describes how the values of a variable are distributed. A normal distribution has some interesting properties: it has a bell shape, the mean and median are equal, and 68% of the data falls within 1 standard deviation. The Bell Curve Shape."
      ]
    },
    {
      "cell_type": "markdown",
      "metadata": {
        "id": "Fpsp_p5SKnT3",
        "colab_type": "text"
      },
      "source": [
        "#### What is the difference between descriptive and inferential statistics?\n"
      ]
    },
    {
      "cell_type": "markdown",
      "metadata": {
        "id": "gXcTYyvFm8Xi",
        "colab_type": "text"
      },
      "source": [
        "Descriptive statistics describes sets of data. Inferential statistics draws conclusions about the sets of data based on sampling."
      ]
    },
    {
      "cell_type": "markdown",
      "metadata": {
        "id": "sv006xPV8IKG",
        "colab_type": "text"
      },
      "source": [
        "**Answer:**\n",
        "<!-- Your answer in the following cell -->"
      ]
    },
    {
      "cell_type": "markdown",
      "metadata": {
        "id": "FXkw5RJR8hdC",
        "colab_type": "text"
      },
      "source": [
        "Descriptive:Are brief descriptive coefficients that summarize a given data set, which can be either a representation of the entire or a sample of a population.\n",
        "\n",
        "Inferential: Allows you to make predictions (“inferences”) from that data. With inferential statistics, you take data from samples and make generalizations about a population."
      ]
    },
    {
      "cell_type": "markdown",
      "metadata": {
        "id": "OU_2uraV8vrX",
        "colab_type": "text"
      },
      "source": [
        "#### What is a null hypothesis?"
      ]
    },
    {
      "cell_type": "markdown",
      "metadata": {
        "id": "oBq4KPtbJ_zx",
        "colab_type": "text"
      },
      "source": [
        " The null hypothesis is the one to be tested and the alternative is everything else. In our example, The null hypothesis would be: The mean data scientist salary is 113,000 dollars."
      ]
    },
    {
      "cell_type": "markdown",
      "metadata": {
        "id": "Yaf-xp_uJ_2J",
        "colab_type": "text"
      },
      "source": [
        "\n",
        "\n",
        "```\n",
        "# This is formatted as code\n",
        "```\n",
        "\n"
      ]
    },
    {
      "cell_type": "markdown",
      "metadata": {
        "id": "3YgiOjQdK8K0",
        "colab_type": "text"
      },
      "source": [
        "#### What is a t-test useful for?"
      ]
    },
    {
      "cell_type": "markdown",
      "metadata": {
        "id": "6VQmENYnLRHc",
        "colab_type": "text"
      },
      "source": [
        "**Answer:**"
      ]
    },
    {
      "cell_type": "markdown",
      "metadata": {
        "id": "BqH3-4WrLRQX",
        "colab_type": "text"
      },
      "source": [
        "One sample: One sample testing against the means of two groups. \n",
        "\n",
        "two sample: The two sample t-test is useful for getting comparing data from two independent variables. Two samples. Two populations. "
      ]
    },
    {
      "cell_type": "markdown",
      "metadata": {
        "id": "Zyli6eqPLaTX",
        "colab_type": "text"
      },
      "source": [
        "#### When should you use a 1-tailed vs 2-tailed t-test?"
      ]
    },
    {
      "cell_type": "markdown",
      "metadata": {
        "id": "yHOYPrtyLht6",
        "colab_type": "text"
      },
      "source": [
        "**Answer:** A one-tailed test is where you are only interested in one direction. \n",
        "\n",
        ">>If a mean is x, you might want to know if a set of results is more than x or less than x.\n",
        "\n",
        " A one-tailed test is more powerful than a two-tailed test, as you aren't considering an effect in the opposite direction. 2 tailed t-test shows the statistical significant difference. "
      ]
    },
    {
      "cell_type": "markdown",
      "metadata": {
        "id": "24TFqBInLl0i",
        "colab_type": "text"
      },
      "source": [
        "\n",
        "# This is formatted as code \n",
        "```\n",
        "\n",
        "#### Propose 3 use cases where t-tests could be implemented.\n",
        "\n"
      ]
    },
    {
      "cell_type": "markdown",
      "metadata": {
        "id": "c5NJNzLCLzNk",
        "colab_type": "text"
      },
      "source": [
        "**Answer:** "
      ]
    },
    {
      "cell_type": "markdown",
      "metadata": {
        "id": "fXBI5MO7LzRb",
        "colab_type": "text"
      },
      "source": [
        "issue that democrats support more than republicans with p < 0.01 (significant at the 99% level).\n",
        "issue that republicans support more than democrats with p < 0.01 (significant at the 99% level).\n",
        "issue where the difference between republicans and democrats has p > 0.1 (Not significant at the 90% level - i.e. there may not be much of a difference the two sample means)"
      ]
    },
    {
      "cell_type": "markdown",
      "metadata": {
        "id": "M-w4QxW0MH82",
        "colab_type": "text"
      },
      "source": [
        "## Code\n",
        "---"
      ]
    },
    {
      "cell_type": "code",
      "metadata": {
        "id": "wO5OK_IYMKR7",
        "colab_type": "code",
        "colab": {}
      },
      "source": [
        "import numpy as np  #  linear algebra\n",
        "import pandas as pd #  data manipulation\n",
        "# pandas config\n",
        "if pd:\n",
        "    pd.set_option('display.max_rows', 500)\n",
        "    pd.set_option('display.max_columns', 500)\n",
        "    pd.set_option('display.width', 1000)\n",
        "from scipy import stats #  statistics\n",
        "\n",
        "#  visualizations\n",
        "import matplotlib.pyplot as plt\n",
        "import seaborn as sns"
      ],
      "execution_count": 0,
      "outputs": []
    },
    {
      "cell_type": "code",
      "metadata": {
        "id": "4c4n6qsyPRUk",
        "colab_type": "code",
        "outputId": "c71f7861-a538-485c-95ac-222c3773ff59",
        "colab": {
          "base_uri": "https://localhost:8080/",
          "height": 326
        }
      },
      "source": [
        "parties = [\"republican\", \"democrat\"]\n",
        "\n",
        "issues = [\"handicapped-infants\",\n",
        "          \"water-project-cost-sharing\",\n",
        "          \"adoption-of-the-budget-resolution\",\n",
        "          \"physician-fee-freeze\",\n",
        "          \"el-salvador-aid\",\n",
        "          \"religious-groups-in-schools\",\n",
        "          \"anti-satellite-test-ban\",\n",
        "          \"aid-to-nicaraguan-contras\",\n",
        "          \"mx-missile\",\n",
        "          \"immigration\",\n",
        "          \"synfuels-corporation-cutback\", \n",
        "          \"education-spending\",\n",
        "          \"superfund-right-to-sue\",\n",
        "          \"crime\",\n",
        "          \"duty-free-exports\", \n",
        "          \"export-administration-act-south-africa\", #  <-- While not required placing a comma here can be helpful when going back and ammending / adding to your code \n",
        "         ]\n",
        "\n",
        "columns = [\"party\"] + issues\n",
        "\n",
        "columns"
      ],
      "execution_count": 0,
      "outputs": [
        {
          "output_type": "execute_result",
          "data": {
            "text/plain": [
              "['party',\n",
              " 'handicapped-infants',\n",
              " 'water-project-cost-sharing',\n",
              " 'adoption-of-the-budget-resolution',\n",
              " 'physician-fee-freeze',\n",
              " 'el-salvador-aid',\n",
              " 'religious-groups-in-schools',\n",
              " 'anti-satellite-test-ban',\n",
              " 'aid-to-nicaraguan-contras',\n",
              " 'mx-missile',\n",
              " 'immigration',\n",
              " 'synfuels-corporation-cutback',\n",
              " 'education-spending',\n",
              " 'superfund-right-to-sue',\n",
              " 'crime',\n",
              " 'duty-free-exports',\n",
              " 'export-administration-act-south-africa']"
            ]
          },
          "metadata": {
            "tags": []
          },
          "execution_count": 5
        }
      ]
    },
    {
      "cell_type": "code",
      "metadata": {
        "id": "HZUk63LKQDK6",
        "colab_type": "code",
        "outputId": "ee89e53c-73af-458d-a73e-1246f1cf12a2",
        "colab": {
          "base_uri": "https://localhost:8080/",
          "height": 288
        }
      },
      "source": [
        "# Loading the data\n",
        "uci = \"https://archive.ics.uci.edu/ml/machine-learning-databases\"\n",
        "data = \"https://archive.ics.uci.edu/ml/machine-learning-databases/voting-records/house-votes-84.data\"\n",
        "\n",
        "df = pd.read_csv(data, names=columns)\n",
        "print(df.shape)\n",
        "df.head()"
      ],
      "execution_count": 0,
      "outputs": [
        {
          "output_type": "stream",
          "text": [
            "(435, 17)\n"
          ],
          "name": "stdout"
        },
        {
          "output_type": "execute_result",
          "data": {
            "text/html": [
              "<div>\n",
              "<style scoped>\n",
              "    .dataframe tbody tr th:only-of-type {\n",
              "        vertical-align: middle;\n",
              "    }\n",
              "\n",
              "    .dataframe tbody tr th {\n",
              "        vertical-align: top;\n",
              "    }\n",
              "\n",
              "    .dataframe thead th {\n",
              "        text-align: right;\n",
              "    }\n",
              "</style>\n",
              "<table border=\"1\" class=\"dataframe\">\n",
              "  <thead>\n",
              "    <tr style=\"text-align: right;\">\n",
              "      <th></th>\n",
              "      <th>party</th>\n",
              "      <th>handicapped-infants</th>\n",
              "      <th>water-project-cost-sharing</th>\n",
              "      <th>adoption-of-the-budget-resolution</th>\n",
              "      <th>physician-fee-freeze</th>\n",
              "      <th>el-salvador-aid</th>\n",
              "      <th>religious-groups-in-schools</th>\n",
              "      <th>anti-satellite-test-ban</th>\n",
              "      <th>aid-to-nicaraguan-contras</th>\n",
              "      <th>mx-missile</th>\n",
              "      <th>immigration</th>\n",
              "      <th>synfuels-corporation-cutback</th>\n",
              "      <th>education-spending</th>\n",
              "      <th>superfund-right-to-sue</th>\n",
              "      <th>crime</th>\n",
              "      <th>duty-free-exports</th>\n",
              "      <th>export-administration-act-south-africa</th>\n",
              "    </tr>\n",
              "  </thead>\n",
              "  <tbody>\n",
              "    <tr>\n",
              "      <th>0</th>\n",
              "      <td>republican</td>\n",
              "      <td>n</td>\n",
              "      <td>y</td>\n",
              "      <td>n</td>\n",
              "      <td>y</td>\n",
              "      <td>y</td>\n",
              "      <td>y</td>\n",
              "      <td>n</td>\n",
              "      <td>n</td>\n",
              "      <td>n</td>\n",
              "      <td>y</td>\n",
              "      <td>?</td>\n",
              "      <td>y</td>\n",
              "      <td>y</td>\n",
              "      <td>y</td>\n",
              "      <td>n</td>\n",
              "      <td>y</td>\n",
              "    </tr>\n",
              "    <tr>\n",
              "      <th>1</th>\n",
              "      <td>republican</td>\n",
              "      <td>n</td>\n",
              "      <td>y</td>\n",
              "      <td>n</td>\n",
              "      <td>y</td>\n",
              "      <td>y</td>\n",
              "      <td>y</td>\n",
              "      <td>n</td>\n",
              "      <td>n</td>\n",
              "      <td>n</td>\n",
              "      <td>n</td>\n",
              "      <td>n</td>\n",
              "      <td>y</td>\n",
              "      <td>y</td>\n",
              "      <td>y</td>\n",
              "      <td>n</td>\n",
              "      <td>?</td>\n",
              "    </tr>\n",
              "    <tr>\n",
              "      <th>2</th>\n",
              "      <td>democrat</td>\n",
              "      <td>?</td>\n",
              "      <td>y</td>\n",
              "      <td>y</td>\n",
              "      <td>?</td>\n",
              "      <td>y</td>\n",
              "      <td>y</td>\n",
              "      <td>n</td>\n",
              "      <td>n</td>\n",
              "      <td>n</td>\n",
              "      <td>n</td>\n",
              "      <td>y</td>\n",
              "      <td>n</td>\n",
              "      <td>y</td>\n",
              "      <td>y</td>\n",
              "      <td>n</td>\n",
              "      <td>n</td>\n",
              "    </tr>\n",
              "    <tr>\n",
              "      <th>3</th>\n",
              "      <td>democrat</td>\n",
              "      <td>n</td>\n",
              "      <td>y</td>\n",
              "      <td>y</td>\n",
              "      <td>n</td>\n",
              "      <td>?</td>\n",
              "      <td>y</td>\n",
              "      <td>n</td>\n",
              "      <td>n</td>\n",
              "      <td>n</td>\n",
              "      <td>n</td>\n",
              "      <td>y</td>\n",
              "      <td>n</td>\n",
              "      <td>y</td>\n",
              "      <td>n</td>\n",
              "      <td>n</td>\n",
              "      <td>y</td>\n",
              "    </tr>\n",
              "    <tr>\n",
              "      <th>4</th>\n",
              "      <td>democrat</td>\n",
              "      <td>y</td>\n",
              "      <td>y</td>\n",
              "      <td>y</td>\n",
              "      <td>n</td>\n",
              "      <td>y</td>\n",
              "      <td>y</td>\n",
              "      <td>n</td>\n",
              "      <td>n</td>\n",
              "      <td>n</td>\n",
              "      <td>n</td>\n",
              "      <td>y</td>\n",
              "      <td>?</td>\n",
              "      <td>y</td>\n",
              "      <td>y</td>\n",
              "      <td>y</td>\n",
              "      <td>y</td>\n",
              "    </tr>\n",
              "  </tbody>\n",
              "</table>\n",
              "</div>"
            ],
            "text/plain": [
              "        party handicapped-infants water-project-cost-sharing adoption-of-the-budget-resolution physician-fee-freeze el-salvador-aid religious-groups-in-schools anti-satellite-test-ban aid-to-nicaraguan-contras mx-missile immigration synfuels-corporation-cutback education-spending superfund-right-to-sue crime duty-free-exports export-administration-act-south-africa\n",
              "0  republican                   n                          y                                 n                    y               y                           y                       n                         n          n           y                            ?                  y                      y     y                 n                                      y\n",
              "1  republican                   n                          y                                 n                    y               y                           y                       n                         n          n           n                            n                  y                      y     y                 n                                      ?\n",
              "2    democrat                   ?                          y                                 y                    ?               y                           y                       n                         n          n           n                            y                  n                      y     y                 n                                      n\n",
              "3    democrat                   n                          y                                 y                    n               ?                           y                       n                         n          n           n                            y                  n                      y     n                 n                                      y\n",
              "4    democrat                   y                          y                                 y                    n               y                           y                       n                         n          n           n                            y                  ?                      y     y                 y                                      y"
            ]
          },
          "metadata": {
            "tags": []
          },
          "execution_count": 9
        }
      ]
    },
    {
      "cell_type": "code",
      "metadata": {
        "id": "zBagneyERDOc",
        "colab_type": "code",
        "outputId": "3449070e-3b36-4a63-e30d-ce4453c7d193",
        "colab": {
          "base_uri": "https://localhost:8080/",
          "height": 270
        }
      },
      "source": [
        "# Replace the entries in the dataframe so y = 1 , n = 0 , and ? = np.NaN\n",
        "\n",
        "df = df.replace({'y': 1, 'n': 0, '?':np.NaN})\n",
        "\n",
        "df.head()"
      ],
      "execution_count": 0,
      "outputs": [
        {
          "output_type": "execute_result",
          "data": {
            "text/html": [
              "<div>\n",
              "<style scoped>\n",
              "    .dataframe tbody tr th:only-of-type {\n",
              "        vertical-align: middle;\n",
              "    }\n",
              "\n",
              "    .dataframe tbody tr th {\n",
              "        vertical-align: top;\n",
              "    }\n",
              "\n",
              "    .dataframe thead th {\n",
              "        text-align: right;\n",
              "    }\n",
              "</style>\n",
              "<table border=\"1\" class=\"dataframe\">\n",
              "  <thead>\n",
              "    <tr style=\"text-align: right;\">\n",
              "      <th></th>\n",
              "      <th>party</th>\n",
              "      <th>handicapped-infants</th>\n",
              "      <th>water-project-cost-sharing</th>\n",
              "      <th>adoption-of-the-budget-resolution</th>\n",
              "      <th>physician-fee-freeze</th>\n",
              "      <th>el-salvador-aid</th>\n",
              "      <th>religious-groups-in-schools</th>\n",
              "      <th>anti-satellite-test-ban</th>\n",
              "      <th>aid-to-nicaraguan-contras</th>\n",
              "      <th>mx-missile</th>\n",
              "      <th>immigration</th>\n",
              "      <th>synfuels-corporation-cutback</th>\n",
              "      <th>education-spending</th>\n",
              "      <th>superfund-right-to-sue</th>\n",
              "      <th>crime</th>\n",
              "      <th>duty-free-exports</th>\n",
              "      <th>export-administration-act-south-africa</th>\n",
              "    </tr>\n",
              "  </thead>\n",
              "  <tbody>\n",
              "    <tr>\n",
              "      <th>0</th>\n",
              "      <td>republican</td>\n",
              "      <td>0.0</td>\n",
              "      <td>1.0</td>\n",
              "      <td>0.0</td>\n",
              "      <td>1.0</td>\n",
              "      <td>1.0</td>\n",
              "      <td>1.0</td>\n",
              "      <td>0.0</td>\n",
              "      <td>0.0</td>\n",
              "      <td>0.0</td>\n",
              "      <td>1.0</td>\n",
              "      <td>NaN</td>\n",
              "      <td>1.0</td>\n",
              "      <td>1.0</td>\n",
              "      <td>1.0</td>\n",
              "      <td>0.0</td>\n",
              "      <td>1.0</td>\n",
              "    </tr>\n",
              "    <tr>\n",
              "      <th>1</th>\n",
              "      <td>republican</td>\n",
              "      <td>0.0</td>\n",
              "      <td>1.0</td>\n",
              "      <td>0.0</td>\n",
              "      <td>1.0</td>\n",
              "      <td>1.0</td>\n",
              "      <td>1.0</td>\n",
              "      <td>0.0</td>\n",
              "      <td>0.0</td>\n",
              "      <td>0.0</td>\n",
              "      <td>0.0</td>\n",
              "      <td>0.0</td>\n",
              "      <td>1.0</td>\n",
              "      <td>1.0</td>\n",
              "      <td>1.0</td>\n",
              "      <td>0.0</td>\n",
              "      <td>NaN</td>\n",
              "    </tr>\n",
              "    <tr>\n",
              "      <th>2</th>\n",
              "      <td>democrat</td>\n",
              "      <td>NaN</td>\n",
              "      <td>1.0</td>\n",
              "      <td>1.0</td>\n",
              "      <td>NaN</td>\n",
              "      <td>1.0</td>\n",
              "      <td>1.0</td>\n",
              "      <td>0.0</td>\n",
              "      <td>0.0</td>\n",
              "      <td>0.0</td>\n",
              "      <td>0.0</td>\n",
              "      <td>1.0</td>\n",
              "      <td>0.0</td>\n",
              "      <td>1.0</td>\n",
              "      <td>1.0</td>\n",
              "      <td>0.0</td>\n",
              "      <td>0.0</td>\n",
              "    </tr>\n",
              "    <tr>\n",
              "      <th>3</th>\n",
              "      <td>democrat</td>\n",
              "      <td>0.0</td>\n",
              "      <td>1.0</td>\n",
              "      <td>1.0</td>\n",
              "      <td>0.0</td>\n",
              "      <td>NaN</td>\n",
              "      <td>1.0</td>\n",
              "      <td>0.0</td>\n",
              "      <td>0.0</td>\n",
              "      <td>0.0</td>\n",
              "      <td>0.0</td>\n",
              "      <td>1.0</td>\n",
              "      <td>0.0</td>\n",
              "      <td>1.0</td>\n",
              "      <td>0.0</td>\n",
              "      <td>0.0</td>\n",
              "      <td>1.0</td>\n",
              "    </tr>\n",
              "    <tr>\n",
              "      <th>4</th>\n",
              "      <td>democrat</td>\n",
              "      <td>1.0</td>\n",
              "      <td>1.0</td>\n",
              "      <td>1.0</td>\n",
              "      <td>0.0</td>\n",
              "      <td>1.0</td>\n",
              "      <td>1.0</td>\n",
              "      <td>0.0</td>\n",
              "      <td>0.0</td>\n",
              "      <td>0.0</td>\n",
              "      <td>0.0</td>\n",
              "      <td>1.0</td>\n",
              "      <td>NaN</td>\n",
              "      <td>1.0</td>\n",
              "      <td>1.0</td>\n",
              "      <td>1.0</td>\n",
              "      <td>1.0</td>\n",
              "    </tr>\n",
              "  </tbody>\n",
              "</table>\n",
              "</div>"
            ],
            "text/plain": [
              "        party  handicapped-infants  water-project-cost-sharing  adoption-of-the-budget-resolution  physician-fee-freeze  el-salvador-aid  religious-groups-in-schools  anti-satellite-test-ban  aid-to-nicaraguan-contras  mx-missile  immigration  synfuels-corporation-cutback  education-spending  superfund-right-to-sue  crime  duty-free-exports  export-administration-act-south-africa\n",
              "0  republican                  0.0                         1.0                                0.0                   1.0              1.0                          1.0                      0.0                        0.0         0.0          1.0                           NaN                 1.0                     1.0    1.0                0.0                                     1.0\n",
              "1  republican                  0.0                         1.0                                0.0                   1.0              1.0                          1.0                      0.0                        0.0         0.0          0.0                           0.0                 1.0                     1.0    1.0                0.0                                     NaN\n",
              "2    democrat                  NaN                         1.0                                1.0                   NaN              1.0                          1.0                      0.0                        0.0         0.0          0.0                           1.0                 0.0                     1.0    1.0                0.0                                     0.0\n",
              "3    democrat                  0.0                         1.0                                1.0                   0.0              NaN                          1.0                      0.0                        0.0         0.0          0.0                           1.0                 0.0                     1.0    0.0                0.0                                     1.0\n",
              "4    democrat                  1.0                         1.0                                1.0                   0.0              1.0                          1.0                      0.0                        0.0         0.0          0.0                           1.0                 NaN                     1.0    1.0                1.0                                     1.0"
            ]
          },
          "metadata": {
            "tags": []
          },
          "execution_count": 10
        }
      ]
    },
    {
      "cell_type": "code",
      "metadata": {
        "id": "tYYNF-9mVliG",
        "colab_type": "code",
        "outputId": "aed8d110-7185-490d-f418-0a60b484387d",
        "colab": {
          "base_uri": "https://localhost:8080/",
          "height": 35
        }
      },
      "source": [
        "# Create seperate dataframes for republicans and democrats by slicing the above dataframe.\n",
        "\n",
        "dem = df[df['party'] == 'democrat']\n",
        "rep = df[df['party'] == 'republican']\n",
        "\n",
        "print(len(dem), len(rep))"
      ],
      "execution_count": 0,
      "outputs": [
        {
          "output_type": "stream",
          "text": [
            "267 168\n"
          ],
          "name": "stdout"
        }
      ]
    },
    {
      "cell_type": "code",
      "metadata": {
        "id": "82Qy3Hy5uqK0",
        "colab_type": "code",
        "colab": {}
      },
      "source": [
        "#stats.ttest_ind()"
      ],
      "execution_count": 0,
      "outputs": []
    },
    {
      "cell_type": "code",
      "metadata": {
        "id": "GCUrrB23Wn8i",
        "colab_type": "code",
        "outputId": "b62e5a20-de84-414c-d28d-51ba853836f3",
        "colab": {
          "base_uri": "https://localhost:8080/",
          "height": 207
        }
      },
      "source": [
        "# Define a function to compare the means between both parties\n",
        "\n",
        "def compare_means(issue):\n",
        "    \"\"\"Compares the means of both parties for each issue\"\"\"\n",
        "    for issue in issues:\n",
        "        mean_dems = rep[issue].mean()\n",
        "        mean_reps =dem[issue].mean()\n",
        "        banner_length = \"\"*len(issue)\n",
        "print(issues=issues)"
      ],
      "execution_count": 0,
      "outputs": [
        {
          "output_type": "error",
          "ename": "TypeError",
          "evalue": "ignored",
          "traceback": [
            "\u001b[0;31m---------------------------------------------------------------------------\u001b[0m",
            "\u001b[0;31mTypeError\u001b[0m                                 Traceback (most recent call last)",
            "\u001b[0;32m<ipython-input-31-6476a667ee4e>\u001b[0m in \u001b[0;36m<module>\u001b[0;34m()\u001b[0m\n\u001b[1;32m      7\u001b[0m         \u001b[0mmean_reps\u001b[0m \u001b[0;34m=\u001b[0m\u001b[0mdem\u001b[0m\u001b[0;34m[\u001b[0m\u001b[0missue\u001b[0m\u001b[0;34m]\u001b[0m\u001b[0;34m.\u001b[0m\u001b[0mmean\u001b[0m\u001b[0;34m(\u001b[0m\u001b[0;34m)\u001b[0m\u001b[0;34m\u001b[0m\u001b[0;34m\u001b[0m\u001b[0m\n\u001b[1;32m      8\u001b[0m         \u001b[0mbanner_length\u001b[0m \u001b[0;34m=\u001b[0m \u001b[0;34m\"issue\"\u001b[0m\u001b[0;34m*\u001b[0m\u001b[0mlen\u001b[0m\u001b[0;34m(\u001b[0m\u001b[0missue\u001b[0m\u001b[0;34m)\u001b[0m\u001b[0;34m\u001b[0m\u001b[0;34m\u001b[0m\u001b[0m\n\u001b[0;32m----> 9\u001b[0;31m \u001b[0mprint\u001b[0m\u001b[0;34m(\u001b[0m\u001b[0missues\u001b[0m\u001b[0;34m=\u001b[0m\u001b[0missues\u001b[0m\u001b[0;34m)\u001b[0m\u001b[0;34m\u001b[0m\u001b[0;34m\u001b[0m\u001b[0m\n\u001b[0m",
            "\u001b[0;31mTypeError\u001b[0m: 'issues' is an invalid keyword argument for this function"
          ]
        }
      ]
    },
    {
      "cell_type": "code",
      "metadata": {
        "id": "fZ1LPNjYXujj",
        "colab_type": "code",
        "outputId": "ac67b545-8611-4afe-f765-cc2e07e2bfb5",
        "colab": {
          "base_uri": "https://localhost:8080/",
          "height": 371
        }
      },
      "source": [
        "compare_means(issues=issues)"
      ],
      "execution_count": 0,
      "outputs": [
        {
          "output_type": "stream",
          "text": [
            "ERROR:root:An unexpected error occurred while tokenizing input\n",
            "The following traceback may be corrupted or invalid\n",
            "The error message is: ('EOF in multi-line string', (1, 8))\n",
            "\n"
          ],
          "name": "stderr"
        },
        {
          "output_type": "stream",
          "text": [
            "0.9813664596273292\n",
            "0.35019455252918286\n"
          ],
          "name": "stdout"
        },
        {
          "output_type": "error",
          "ename": "TypeError",
          "evalue": "ignored",
          "traceback": [
            "\u001b[0;31m---------------------------------------------------------------------------\u001b[0m",
            "\u001b[0;31mTypeError\u001b[0m                                 Traceback (most recent call last)",
            "\u001b[0;32m<ipython-input-26-d2a32596e7de>\u001b[0m in \u001b[0;36m<module>\u001b[0;34m()\u001b[0m\n\u001b[0;32m----> 1\u001b[0;31m \u001b[0mcompare_means\u001b[0m\u001b[0;34m(\u001b[0m\u001b[0missues\u001b[0m\u001b[0;34m=\u001b[0m\u001b[0missues\u001b[0m\u001b[0;34m)\u001b[0m\u001b[0;34m\u001b[0m\u001b[0;34m\u001b[0m\u001b[0m\n\u001b[0m",
            "\u001b[0;32m<ipython-input-17-79a1e3c187b5>\u001b[0m in \u001b[0;36mcompare_means\u001b[0;34m(issues)\u001b[0m\n\u001b[1;32m     14\u001b[0m           \u001b[0mDemocrat\u001b[0m \u001b[0mvoting\u001b[0m \u001b[0mmean\u001b[0m\u001b[0;34m:\u001b[0m \u001b[0;34m{\u001b[0m\u001b[0mmean_dems\u001b[0m\u001b[0;34m:\u001b[0m\u001b[0;36m.05\u001b[0m\u001b[0mf\u001b[0m\u001b[0;34m}\u001b[0m\u001b[0;34m\u001b[0m\u001b[0;34m\u001b[0m\u001b[0m\n\u001b[1;32m     15\u001b[0m         \u001b[0mRepublican\u001b[0m \u001b[0mvoting\u001b[0m \u001b[0mmean\u001b[0m\u001b[0;34m:\u001b[0m \u001b[0;34m{\u001b[0m\u001b[0mmean_reps\u001b[0m\u001b[0;34m:\u001b[0m\u001b[0;36m.05\u001b[0m\u001b[0mf\u001b[0m\u001b[0;34m}\u001b[0m\u001b[0;34m\u001b[0m\u001b[0;34m\u001b[0m\u001b[0m\n\u001b[0;32m---> 16\u001b[0;31m         \"\"\")\n\u001b[0m",
            "\u001b[0;31mTypeError\u001b[0m: unsupported format string passed to NoneType.__format__"
          ]
        }
      ]
    },
    {
      "cell_type": "code",
      "metadata": {
        "id": "ejMjZ_SKwiB1",
        "colab_type": "code",
        "outputId": "7fa94673-bee6-4825-fc2e-562c4508a9f2",
        "colab": {
          "base_uri": "https://localhost:8080/",
          "height": 308
        }
      },
      "source": [
        "for col in dem.columns[1:]:\n",
        "  print(col)"
      ],
      "execution_count": 0,
      "outputs": [
        {
          "output_type": "stream",
          "text": [
            "handicapped-infants\n",
            "water-project-cost-sharing\n",
            "adoption-of-the-budget-resolution\n",
            "physician-fee-freeze\n",
            "el-salvador-aid\n",
            "religious-groups-in-schools\n",
            "anti-satellite-test-ban\n",
            "aid-to-nicaraguan-contras\n",
            "mx-missile\n",
            "immigration\n",
            "synfuels-corporation-cutback\n",
            "education-spending\n",
            "superfund-right-to-sue\n",
            "crime\n",
            "duty-free-exports\n",
            "export-administration-act-south-africa\n"
          ],
          "name": "stdout"
        }
      ]
    },
    {
      "cell_type": "code",
      "metadata": {
        "id": "JQ1IYvubzEeT",
        "colab_type": "code",
        "colab": {}
      },
      "source": [
        "output = []"
      ],
      "execution_count": 0,
      "outputs": []
    },
    {
      "cell_type": "code",
      "metadata": {
        "id": "Egg9KD8aXyXL",
        "colab_type": "code",
        "outputId": "f748c608-3747-4d1d-8015-efe518e07367",
        "colab": {
          "base_uri": "https://localhost:8080/",
          "height": 599
        }
      },
      "source": [
        "# Add the two sample t-test to the function\n",
        "for col in df.columns[1:]:\n",
        "  output.append(stats.ttest_ind(rep[col], dem[col], nan_policy='omit'))\n",
        "for col, out in zip(df.columns[1:], output):\n",
        "  print(col)\n",
        "  print('\\s'+str(out))"
      ],
      "execution_count": 0,
      "outputs": [
        {
          "output_type": "stream",
          "text": [
            "handicapped-infants\n",
            "\\sTtest_indResult(statistic=-9.205264294809222, pvalue=1.613440327937243e-18)\n",
            "water-project-cost-sharing\n",
            "\\sTtest_indResult(statistic=0.08896538137868286, pvalue=0.9291556823993485)\n",
            "adoption-of-the-budget-resolution\n",
            "\\sTtest_indResult(statistic=-23.21277691701378, pvalue=2.0703402795404463e-77)\n",
            "physician-fee-freeze\n",
            "\\sTtest_indResult(statistic=49.36708157301406, pvalue=1.994262314074344e-177)\n",
            "el-salvador-aid\n",
            "\\sTtest_indResult(statistic=21.13669261173219, pvalue=5.600520111729011e-68)\n",
            "religious-groups-in-schools\n",
            "\\sTtest_indResult(statistic=9.737575825219457, pvalue=2.3936722520597287e-20)\n",
            "anti-satellite-test-ban\n",
            "\\sTtest_indResult(statistic=-12.526187929077842, pvalue=8.521033017443867e-31)\n",
            "aid-to-nicaraguan-contras\n",
            "\\sTtest_indResult(statistic=-18.052093200819733, pvalue=2.82471841372357e-54)\n",
            "mx-missile\n",
            "\\sTtest_indResult(statistic=-16.437503268542994, pvalue=5.03079265310811e-47)\n",
            "immigration\n",
            "\\sTtest_indResult(statistic=1.7359117329695164, pvalue=0.08330248490425066)\n",
            "synfuels-corporation-cutback\n",
            "\\sTtest_indResult(statistic=-8.293603989407588, pvalue=1.5759322301054064e-15)\n",
            "education-spending\n",
            "\\sTtest_indResult(statistic=20.500685724563073, pvalue=1.8834203990450192e-64)\n",
            "superfund-right-to-sue\n",
            "\\sTtest_indResult(statistic=13.51064251060933, pvalue=1.2278581709672758e-34)\n",
            "crime\n",
            "\\sTtest_indResult(statistic=16.342085656197696, pvalue=9.952342705606092e-47)\n",
            "duty-free-exports\n",
            "\\sTtest_indResult(statistic=-12.853146132542978, pvalue=5.997697174347365e-32)\n",
            "export-administration-act-south-africa\n",
            "\\sTtest_indResult(statistic=-6.849454815841208, pvalue=3.652674361672226e-11)\n"
          ],
          "name": "stdout"
        }
      ]
    }
  ]
}