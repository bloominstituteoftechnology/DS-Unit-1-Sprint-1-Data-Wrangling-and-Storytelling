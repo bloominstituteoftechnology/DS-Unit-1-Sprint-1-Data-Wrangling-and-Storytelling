{
  "nbformat": 4,
  "nbformat_minor": 0,
  "metadata": {
    "colab": {
      "name": "JingQian_DS_Unit_1_Sprint_Challenge_1_Data_Wrangling_and_Storytelling.ipynb",
      "provenance": [],
      "collapsed_sections": [],
      "include_colab_link": true
    },
    "kernelspec": {
      "name": "python3",
      "display_name": "Python 3"
    }
  },
  "cells": [
    {
      "cell_type": "markdown",
      "metadata": {
        "id": "view-in-github",
        "colab_type": "text"
      },
      "source": [
        "<a href=\"https://colab.research.google.com/github/qianjing2020/DS-Unit-1-Sprint-1-Data-Wrangling-and-Storytelling/blob/master/JingQian_DS_Unit_1_Sprint_Challenge_1_Data_Wrangling_and_Storytelling.ipynb\" target=\"_parent\"><img src=\"https://colab.research.google.com/assets/colab-badge.svg\" alt=\"Open In Colab\"/></a>"
      ]
    },
    {
      "cell_type": "markdown",
      "metadata": {
        "id": "2kYJKHpXFbN2",
        "colab_type": "text"
      },
      "source": [
        "# Data Science Unit 1 Sprint Challenge 1\n",
        "\n",
        "## Data Wrangling and Storytelling\n",
        "\n",
        "Taming data from its raw form into informative insights and stories."
      ]
    },
    {
      "cell_type": "markdown",
      "metadata": {
        "id": "qSvL3CeTFk9F",
        "colab_type": "text"
      },
      "source": [
        "## Data Wrangling\n",
        "\n",
        "In this Sprint Challenge you will first \"wrangle\" some data from [Gapminder](https://www.gapminder.org/about-gapminder/), a Swedish non-profit co-founded by Hans Rosling. \"Gapminder produces free teaching resources making the world understandable based on reliable statistics.\"\n",
        "- [Cell phones (total), by country and year](https://raw.githubusercontent.com/open-numbers/ddf--gapminder--systema_globalis/master/ddf--datapoints--cell_phones_total--by--geo--time.csv)\n",
        "- [Population (total), by country and year](https://raw.githubusercontent.com/open-numbers/ddf--gapminder--systema_globalis/master/ddf--datapoints--population_total--by--geo--time.csv)\n",
        "- [Geo country codes](https://github.com/open-numbers/ddf--gapminder--systema_globalis/blob/master/ddf--entities--geo--country.csv)\n",
        "\n",
        "These two links have everything you need to successfully complete the first part of this sprint challenge.\n",
        "- [Pandas documentation: Working with Text Data](https://pandas.pydata.org/pandas-docs/stable/text.html) (one question)\n",
        "- [Pandas Cheat Sheet](https://github.com/pandas-dev/pandas/blob/master/doc/cheatsheet/Pandas_Cheat_Sheet.pdf) (everything else)"
      ]
    },
    {
      "cell_type": "markdown",
      "metadata": {
        "id": "_45iUXguF3cJ",
        "colab_type": "text"
      },
      "source": [
        "### Part 1 - Load and Explore the Data\n",
        "\n",
        "Run the cell below to load the datasets into three dataframes and then follow the instructions below\n"
      ]
    },
    {
      "cell_type": "code",
      "metadata": {
        "id": "4OuxHNZzFpGT",
        "colab_type": "code",
        "colab": {}
      },
      "source": [
        "import pandas as pd\n",
        "\n",
        "cell_phones = pd.read_csv('https://raw.githubusercontent.com/open-numbers/ddf--gapminder--systema_globalis/master/ddf--datapoints--cell_phones_total--by--geo--time.csv')\n",
        "\n",
        "population = pd.read_csv('https://raw.githubusercontent.com/open-numbers/ddf--gapminder--systema_globalis/master/ddf--datapoints--population_total--by--geo--time.csv')\n",
        "\n",
        "geo_country_codes = (pd.read_csv('https://raw.githubusercontent.com/open-numbers/ddf--gapminder--systema_globalis/master/ddf--entities--geo--country.csv')\n",
        "                       .rename(columns={'country': 'geo', 'name': 'country'}))\n",
        "\n",
        "geo_country_codes = geo_country_codes[['geo','country']]"
      ],
      "execution_count": 0,
      "outputs": []
    },
    {
      "cell_type": "markdown",
      "metadata": {
        "id": "49XlFKmVIPl1",
        "colab_type": "text"
      },
      "source": [
        "Check for missing/null values in the three dataframes"
      ]
    },
    {
      "cell_type": "code",
      "metadata": {
        "id": "SwmSvUySJjXc",
        "colab_type": "code",
        "colab": {
          "base_uri": "https://localhost:8080/",
          "height": 171
        },
        "outputId": "1d6c618e-c525-4f68-a437-d9f2b284b2a1"
      },
      "source": [
        "cell_phones.head(4)"
      ],
      "execution_count": 99,
      "outputs": [
        {
          "output_type": "execute_result",
          "data": {
            "text/html": [
              "<div>\n",
              "<style scoped>\n",
              "    .dataframe tbody tr th:only-of-type {\n",
              "        vertical-align: middle;\n",
              "    }\n",
              "\n",
              "    .dataframe tbody tr th {\n",
              "        vertical-align: top;\n",
              "    }\n",
              "\n",
              "    .dataframe thead th {\n",
              "        text-align: right;\n",
              "    }\n",
              "</style>\n",
              "<table border=\"1\" class=\"dataframe\">\n",
              "  <thead>\n",
              "    <tr style=\"text-align: right;\">\n",
              "      <th></th>\n",
              "      <th>geo</th>\n",
              "      <th>time</th>\n",
              "      <th>cell_phones_total</th>\n",
              "    </tr>\n",
              "  </thead>\n",
              "  <tbody>\n",
              "    <tr>\n",
              "      <th>0</th>\n",
              "      <td>abw</td>\n",
              "      <td>1960</td>\n",
              "      <td>0.0000</td>\n",
              "    </tr>\n",
              "    <tr>\n",
              "      <th>1</th>\n",
              "      <td>abw</td>\n",
              "      <td>1965</td>\n",
              "      <td>0.0000</td>\n",
              "    </tr>\n",
              "    <tr>\n",
              "      <th>2</th>\n",
              "      <td>abw</td>\n",
              "      <td>1970</td>\n",
              "      <td>0.0000</td>\n",
              "    </tr>\n",
              "    <tr>\n",
              "      <th>3</th>\n",
              "      <td>abw</td>\n",
              "      <td>1975</td>\n",
              "      <td>0.0000</td>\n",
              "    </tr>\n",
              "  </tbody>\n",
              "</table>\n",
              "</div>"
            ],
            "text/plain": [
              "   geo  time    cell_phones_total\n",
              "0  abw  1960               0.0000\n",
              "1  abw  1965               0.0000\n",
              "2  abw  1970               0.0000\n",
              "3  abw  1975               0.0000"
            ]
          },
          "metadata": {
            "tags": []
          },
          "execution_count": 99
        }
      ]
    },
    {
      "cell_type": "code",
      "metadata": {
        "id": "sdG4AFQegXS6",
        "colab_type": "code",
        "colab": {
          "base_uri": "https://localhost:8080/",
          "height": 87
        },
        "outputId": "5a318746-d41b-4f8e-8349-10dc2872670e"
      },
      "source": [
        "pd.isnull(cell_phones).sum()"
      ],
      "execution_count": 3,
      "outputs": [
        {
          "output_type": "execute_result",
          "data": {
            "text/plain": [
              "geo                  0\n",
              "time                 0\n",
              "cell_phones_total    0\n",
              "dtype: int64"
            ]
          },
          "metadata": {
            "tags": []
          },
          "execution_count": 3
        }
      ]
    },
    {
      "cell_type": "code",
      "metadata": {
        "id": "znxWKO4agzHr",
        "colab_type": "code",
        "colab": {
          "base_uri": "https://localhost:8080/",
          "height": 87
        },
        "outputId": "25b9e154-d678-4982-d866-0ff334821082"
      },
      "source": [
        "pd.isnull(population).sum()"
      ],
      "execution_count": 4,
      "outputs": [
        {
          "output_type": "execute_result",
          "data": {
            "text/plain": [
              "geo                 0\n",
              "time                0\n",
              "population_total    0\n",
              "dtype: int64"
            ]
          },
          "metadata": {
            "tags": []
          },
          "execution_count": 4
        }
      ]
    },
    {
      "cell_type": "code",
      "metadata": {
        "id": "vtGdHmrkg25V",
        "colab_type": "code",
        "colab": {
          "base_uri": "https://localhost:8080/",
          "height": 69
        },
        "outputId": "61ba0c29-c084-4857-d03e-737abd6e074f"
      },
      "source": [
        "pd.isnull(geo_country_codes).sum()"
      ],
      "execution_count": 5,
      "outputs": [
        {
          "output_type": "execute_result",
          "data": {
            "text/plain": [
              "geo        0\n",
              "country    0\n",
              "dtype: int64"
            ]
          },
          "metadata": {
            "tags": []
          },
          "execution_count": 5
        }
      ]
    },
    {
      "cell_type": "markdown",
      "metadata": {
        "id": "83ovVS6qIWS1",
        "colab_type": "text"
      },
      "source": [
        "Make a scatter plot from the `cell_phones` dataframe plotting \"time\" against \"cell_phone_total\""
      ]
    },
    {
      "cell_type": "code",
      "metadata": {
        "id": "kBK0lw0khDeH",
        "colab_type": "code",
        "colab": {
          "base_uri": "https://localhost:8080/",
          "height": 87
        },
        "outputId": "f6061afa-e318-4af9-ac61-5637821cadec"
      },
      "source": [
        "cell_phones.dtypes"
      ],
      "execution_count": 6,
      "outputs": [
        {
          "output_type": "execute_result",
          "data": {
            "text/plain": [
              "geo                   object\n",
              "time                   int64\n",
              "cell_phones_total    float64\n",
              "dtype: object"
            ]
          },
          "metadata": {
            "tags": []
          },
          "execution_count": 6
        }
      ]
    },
    {
      "cell_type": "code",
      "metadata": {
        "id": "ewdGy4NfG9vA",
        "colab_type": "code",
        "colab": {
          "base_uri": "https://localhost:8080/",
          "height": 290
        },
        "outputId": "75c6de69-ce9b-4f52-8ec7-461e2d9faabb"
      },
      "source": [
        "import seaborn as sns\n",
        "# sns.scatterplot(x = cell_phones['time'], y=cell_phones['cell_phones_total'])\n",
        "ax = cell_phones.plot.scatter(x='time', y='cell_phones_total',c='blue')"
      ],
      "execution_count": 7,
      "outputs": [
        {
          "output_type": "display_data",
          "data": {
            "image/png": "[encoded data removed]",
            "text/plain": [
              "<Figure size 432x288 with 1 Axes>"
            ]
          },
          "metadata": {
            "tags": []
          }
        }
      ]
    },
    {
      "cell_type": "markdown",
      "metadata": {
        "id": "IvJMtxmBI27k",
        "colab_type": "text"
      },
      "source": [
        "### Part 2 - Join data\n",
        "\n",
        "First, join the `cell_phones` and `population` dataframes (with an inner join on `geo` and `time`).\n",
        "\n",
        "The resulting dataframe's shape should be: (8590, 4)"
      ]
    },
    {
      "cell_type": "markdown",
      "metadata": {
        "id": "w7miaPySE8ZD",
        "colab_type": "text"
      },
      "source": [
        "Why use a inner join? \n",
        "Answer: because we are investigting the relationship between number of cell phone and population, we need both data for the time frame we are checking"
      ]
    },
    {
      "cell_type": "code",
      "metadata": {
        "id": "MFMA06QjG1KT",
        "colab_type": "code",
        "colab": {
          "base_uri": "https://localhost:8080/",
          "height": 415
        },
        "outputId": "96e6803f-7751-4260-8e75-529826b079f6"
      },
      "source": [
        "population.head(100)"
      ],
      "execution_count": 102,
      "outputs": [
        {
          "output_type": "execute_result",
          "data": {
            "text/html": [
              "<div>\n",
              "<style scoped>\n",
              "    .dataframe tbody tr th:only-of-type {\n",
              "        vertical-align: middle;\n",
              "    }\n",
              "\n",
              "    .dataframe tbody tr th {\n",
              "        vertical-align: top;\n",
              "    }\n",
              "\n",
              "    .dataframe thead th {\n",
              "        text-align: right;\n",
              "    }\n",
              "</style>\n",
              "<table border=\"1\" class=\"dataframe\">\n",
              "  <thead>\n",
              "    <tr style=\"text-align: right;\">\n",
              "      <th></th>\n",
              "      <th>geo</th>\n",
              "      <th>time</th>\n",
              "      <th>population_total</th>\n",
              "    </tr>\n",
              "  </thead>\n",
              "  <tbody>\n",
              "    <tr>\n",
              "      <th>0</th>\n",
              "      <td>afg</td>\n",
              "      <td>1800</td>\n",
              "      <td>3280000</td>\n",
              "    </tr>\n",
              "    <tr>\n",
              "      <th>1</th>\n",
              "      <td>afg</td>\n",
              "      <td>1801</td>\n",
              "      <td>3280000</td>\n",
              "    </tr>\n",
              "    <tr>\n",
              "      <th>2</th>\n",
              "      <td>afg</td>\n",
              "      <td>1802</td>\n",
              "      <td>3280000</td>\n",
              "    </tr>\n",
              "    <tr>\n",
              "      <th>3</th>\n",
              "      <td>afg</td>\n",
              "      <td>1803</td>\n",
              "      <td>3280000</td>\n",
              "    </tr>\n",
              "    <tr>\n",
              "      <th>4</th>\n",
              "      <td>afg</td>\n",
              "      <td>1804</td>\n",
              "      <td>3280000</td>\n",
              "    </tr>\n",
              "    <tr>\n",
              "      <th>...</th>\n",
              "      <td>...</td>\n",
              "      <td>...</td>\n",
              "      <td>...</td>\n",
              "    </tr>\n",
              "    <tr>\n",
              "      <th>95</th>\n",
              "      <td>afg</td>\n",
              "      <td>1895</td>\n",
              "      <td>4863258</td>\n",
              "    </tr>\n",
              "    <tr>\n",
              "      <th>96</th>\n",
              "      <td>afg</td>\n",
              "      <td>1896</td>\n",
              "      <td>4894458</td>\n",
              "    </tr>\n",
              "    <tr>\n",
              "      <th>97</th>\n",
              "      <td>afg</td>\n",
              "      <td>1897</td>\n",
              "      <td>4925855</td>\n",
              "    </tr>\n",
              "    <tr>\n",
              "      <th>98</th>\n",
              "      <td>afg</td>\n",
              "      <td>1898</td>\n",
              "      <td>4957450</td>\n",
              "    </tr>\n",
              "    <tr>\n",
              "      <th>99</th>\n",
              "      <td>afg</td>\n",
              "      <td>1899</td>\n",
              "      <td>4989245</td>\n",
              "    </tr>\n",
              "  </tbody>\n",
              "</table>\n",
              "<p>100 rows × 3 columns</p>\n",
              "</div>"
            ],
            "text/plain": [
              "    geo  time  population_total\n",
              "0   afg  1800           3280000\n",
              "1   afg  1801           3280000\n",
              "2   afg  1802           3280000\n",
              "3   afg  1803           3280000\n",
              "4   afg  1804           3280000\n",
              "..  ...   ...               ...\n",
              "95  afg  1895           4863258\n",
              "96  afg  1896           4894458\n",
              "97  afg  1897           4925855\n",
              "98  afg  1898           4957450\n",
              "99  afg  1899           4989245\n",
              "\n",
              "[100 rows x 3 columns]"
            ]
          },
          "metadata": {
            "tags": []
          },
          "execution_count": 102
        }
      ]
    },
    {
      "cell_type": "code",
      "metadata": {
        "id": "hMJc8ciDiUqe",
        "colab_type": "code",
        "colab": {
          "base_uri": "https://localhost:8080/",
          "height": 35
        },
        "outputId": "fdb15b48-69b6-4acc-e310-28b09b3f5056"
      },
      "source": [
        "population_phone = cell_phones.merge(population, how='inner', on = ['geo', 'time'])\n",
        "print(population_phone.shape)"
      ],
      "execution_count": 9,
      "outputs": [
        {
          "output_type": "stream",
          "text": [
            "(8590, 4)\n"
          ],
          "name": "stdout"
        }
      ]
    },
    {
      "cell_type": "markdown",
      "metadata": {
        "id": "lziNWF2eJZwC",
        "colab_type": "text"
      },
      "source": [
        "Then, select the `geo` and `country` columns from the `geo_country_codes` dataframe, and join with your population and cell phone data.\n",
        "\n",
        "The resulting dataframe's shape should be: (8590, 5)"
      ]
    },
    {
      "cell_type": "code",
      "metadata": {
        "id": "KQa2Jw9gJa-g",
        "colab_type": "code",
        "colab": {
          "base_uri": "https://localhost:8080/",
          "height": 171
        },
        "outputId": "408c5fed-e9ad-4f37-da92-e46bf6dbb769"
      },
      "source": [
        "geo_country_codes.head(4)"
      ],
      "execution_count": 100,
      "outputs": [
        {
          "output_type": "execute_result",
          "data": {
            "text/html": [
              "<div>\n",
              "<style scoped>\n",
              "    .dataframe tbody tr th:only-of-type {\n",
              "        vertical-align: middle;\n",
              "    }\n",
              "\n",
              "    .dataframe tbody tr th {\n",
              "        vertical-align: top;\n",
              "    }\n",
              "\n",
              "    .dataframe thead th {\n",
              "        text-align: right;\n",
              "    }\n",
              "</style>\n",
              "<table border=\"1\" class=\"dataframe\">\n",
              "  <thead>\n",
              "    <tr style=\"text-align: right;\">\n",
              "      <th></th>\n",
              "      <th>geo</th>\n",
              "      <th>country</th>\n",
              "    </tr>\n",
              "  </thead>\n",
              "  <tbody>\n",
              "    <tr>\n",
              "      <th>0</th>\n",
              "      <td>abkh</td>\n",
              "      <td>Abkhazia</td>\n",
              "    </tr>\n",
              "    <tr>\n",
              "      <th>1</th>\n",
              "      <td>abw</td>\n",
              "      <td>Aruba</td>\n",
              "    </tr>\n",
              "    <tr>\n",
              "      <th>2</th>\n",
              "      <td>afg</td>\n",
              "      <td>Afghanistan</td>\n",
              "    </tr>\n",
              "    <tr>\n",
              "      <th>3</th>\n",
              "      <td>ago</td>\n",
              "      <td>Angola</td>\n",
              "    </tr>\n",
              "  </tbody>\n",
              "</table>\n",
              "</div>"
            ],
            "text/plain": [
              "    geo      country\n",
              "0  abkh     Abkhazia\n",
              "1   abw        Aruba\n",
              "2   afg  Afghanistan\n",
              "3   ago       Angola"
            ]
          },
          "metadata": {
            "tags": []
          },
          "execution_count": 100
        }
      ]
    },
    {
      "cell_type": "code",
      "metadata": {
        "id": "zd-iwW29i4R4",
        "colab_type": "code",
        "colab": {
          "base_uri": "https://localhost:8080/",
          "height": 35
        },
        "outputId": "b94a4f7d-065f-423b-8fcb-227c44283666"
      },
      "source": [
        "geo_population_phone = population_phone.merge(geo_country_codes, how='left', on='geo')\n",
        "print(geo_population_phone.shape)"
      ],
      "execution_count": 11,
      "outputs": [
        {
          "output_type": "stream",
          "text": [
            "(8590, 5)\n"
          ],
          "name": "stdout"
        }
      ]
    },
    {
      "cell_type": "markdown",
      "metadata": {
        "id": "8xjRfkOjKECI",
        "colab_type": "text"
      },
      "source": [
        "### Part 3 - Make features\n",
        "\n",
        "Calculate the number of cell phones per person, and add this column onto your dataframe.\n",
        "\n",
        "(You've calculated correctly if you get 1.220 cell phones per person in the United States in 2017.)"
      ]
    },
    {
      "cell_type": "code",
      "metadata": {
        "id": "lOgLvqCQKFwY",
        "colab_type": "code",
        "colab": {
          "base_uri": "https://localhost:8080/",
          "height": 79
        },
        "outputId": "f6ccb72e-10c8-4078-bb57-4cd4491dc782"
      },
      "source": [
        "geo_population_phone['phone_per_person'] = geo_population_phone['cell_phones_total']/geo_population_phone['population_total']\n",
        "geo_population_phone[(geo_population_phone['country']=='United States') & (geo_population_phone['time']==2017)]"
      ],
      "execution_count": 12,
      "outputs": [
        {
          "output_type": "execute_result",
          "data": {
            "text/html": [
              "<div>\n",
              "<style scoped>\n",
              "    .dataframe tbody tr th:only-of-type {\n",
              "        vertical-align: middle;\n",
              "    }\n",
              "\n",
              "    .dataframe tbody tr th {\n",
              "        vertical-align: top;\n",
              "    }\n",
              "\n",
              "    .dataframe thead th {\n",
              "        text-align: right;\n",
              "    }\n",
              "</style>\n",
              "<table border=\"1\" class=\"dataframe\">\n",
              "  <thead>\n",
              "    <tr style=\"text-align: right;\">\n",
              "      <th></th>\n",
              "      <th>geo</th>\n",
              "      <th>time</th>\n",
              "      <th>cell_phones_total</th>\n",
              "      <th>population_total</th>\n",
              "      <th>country</th>\n",
              "      <th>phone_per_person</th>\n",
              "    </tr>\n",
              "  </thead>\n",
              "  <tbody>\n",
              "    <tr>\n",
              "      <th>8134</th>\n",
              "      <td>usa</td>\n",
              "      <td>2017</td>\n",
              "      <td>395881000.0</td>\n",
              "      <td>324459463</td>\n",
              "      <td>United States</td>\n",
              "      <td>1.220125</td>\n",
              "    </tr>\n",
              "  </tbody>\n",
              "</table>\n",
              "</div>"
            ],
            "text/plain": [
              "      geo  time  ...        country  phone_per_person\n",
              "8134  usa  2017  ...  United States          1.220125\n",
              "\n",
              "[1 rows x 6 columns]"
            ]
          },
          "metadata": {
            "tags": []
          },
          "execution_count": 12
        }
      ]
    },
    {
      "cell_type": "markdown",
      "metadata": {
        "id": "j2xDq7MAKRjg",
        "colab_type": "text"
      },
      "source": [
        "### Part 4 - Process data\n",
        "\n",
        "Use the describe function, to describe your dataframe's numeric columns, and then its non-numeric columns.\n",
        "\n",
        "(You'll see the time period ranges from 1960 to 2017, and there are 195 unique countries represented.)"
      ]
    },
    {
      "cell_type": "code",
      "metadata": {
        "id": "7uTdL8eFKWTz",
        "colab_type": "code",
        "colab": {
          "base_uri": "https://localhost:8080/",
          "height": 294
        },
        "outputId": "2e718971-7a64-487b-a21f-ccdf9ef33bc2"
      },
      "source": [
        "geo_population_phone.describe()"
      ],
      "execution_count": 13,
      "outputs": [
        {
          "output_type": "execute_result",
          "data": {
            "text/html": [
              "<div>\n",
              "<style scoped>\n",
              "    .dataframe tbody tr th:only-of-type {\n",
              "        vertical-align: middle;\n",
              "    }\n",
              "\n",
              "    .dataframe tbody tr th {\n",
              "        vertical-align: top;\n",
              "    }\n",
              "\n",
              "    .dataframe thead th {\n",
              "        text-align: right;\n",
              "    }\n",
              "</style>\n",
              "<table border=\"1\" class=\"dataframe\">\n",
              "  <thead>\n",
              "    <tr style=\"text-align: right;\">\n",
              "      <th></th>\n",
              "      <th>time</th>\n",
              "      <th>cell_phones_total</th>\n",
              "      <th>population_total</th>\n",
              "      <th>phone_per_person</th>\n",
              "    </tr>\n",
              "  </thead>\n",
              "  <tbody>\n",
              "    <tr>\n",
              "      <th>count</th>\n",
              "      <td>8590.000000</td>\n",
              "      <td>8.590000e+03</td>\n",
              "      <td>8.590000e+03</td>\n",
              "      <td>8590.000000</td>\n",
              "    </tr>\n",
              "    <tr>\n",
              "      <th>mean</th>\n",
              "      <td>1994.193481</td>\n",
              "      <td>9.004950e+06</td>\n",
              "      <td>2.983823e+07</td>\n",
              "      <td>0.279639</td>\n",
              "    </tr>\n",
              "    <tr>\n",
              "      <th>std</th>\n",
              "      <td>14.257975</td>\n",
              "      <td>5.573408e+07</td>\n",
              "      <td>1.161284e+08</td>\n",
              "      <td>0.454247</td>\n",
              "    </tr>\n",
              "    <tr>\n",
              "      <th>min</th>\n",
              "      <td>1960.000000</td>\n",
              "      <td>0.000000e+00</td>\n",
              "      <td>4.433000e+03</td>\n",
              "      <td>0.000000</td>\n",
              "    </tr>\n",
              "    <tr>\n",
              "      <th>25%</th>\n",
              "      <td>1983.000000</td>\n",
              "      <td>0.000000e+00</td>\n",
              "      <td>1.456148e+06</td>\n",
              "      <td>0.000000</td>\n",
              "    </tr>\n",
              "    <tr>\n",
              "      <th>50%</th>\n",
              "      <td>1995.000000</td>\n",
              "      <td>6.200000e+03</td>\n",
              "      <td>5.725062e+06</td>\n",
              "      <td>0.001564</td>\n",
              "    </tr>\n",
              "    <tr>\n",
              "      <th>75%</th>\n",
              "      <td>2006.000000</td>\n",
              "      <td>1.697652e+06</td>\n",
              "      <td>1.810581e+07</td>\n",
              "      <td>0.461149</td>\n",
              "    </tr>\n",
              "    <tr>\n",
              "      <th>max</th>\n",
              "      <td>2017.000000</td>\n",
              "      <td>1.474097e+09</td>\n",
              "      <td>1.409517e+09</td>\n",
              "      <td>2.490243</td>\n",
              "    </tr>\n",
              "  </tbody>\n",
              "</table>\n",
              "</div>"
            ],
            "text/plain": [
              "              time  cell_phones_total  population_total  phone_per_person\n",
              "count  8590.000000       8.590000e+03      8.590000e+03       8590.000000\n",
              "mean   1994.193481       9.004950e+06      2.983823e+07          0.279639\n",
              "std      14.257975       5.573408e+07      1.161284e+08          0.454247\n",
              "min    1960.000000       0.000000e+00      4.433000e+03          0.000000\n",
              "25%    1983.000000       0.000000e+00      1.456148e+06          0.000000\n",
              "50%    1995.000000       6.200000e+03      5.725062e+06          0.001564\n",
              "75%    2006.000000       1.697652e+06      1.810581e+07          0.461149\n",
              "max    2017.000000       1.474097e+09      1.409517e+09          2.490243"
            ]
          },
          "metadata": {
            "tags": []
          },
          "execution_count": 13
        }
      ]
    },
    {
      "cell_type": "code",
      "metadata": {
        "id": "6Rf3NeWnog2z",
        "colab_type": "code",
        "colab": {
          "base_uri": "https://localhost:8080/",
          "height": 607
        },
        "outputId": "560edac4-cbd9-47a3-96a0-281c713c1694"
      },
      "source": [
        "countries=geo_population_phone['country'].unique()\n",
        "print(countries)\n",
        "len(countries)"
      ],
      "execution_count": 14,
      "outputs": [
        {
          "output_type": "stream",
          "text": [
            "['Afghanistan' 'Angola' 'Albania' 'Andorra' 'United Arab Emirates'\n",
            " 'Argentina' 'Armenia' 'Antigua and Barbuda' 'Australia' 'Austria'\n",
            " 'Azerbaijan' 'Burundi' 'Belgium' 'Benin' 'Burkina Faso' 'Bangladesh'\n",
            " 'Bulgaria' 'Bahrain' 'Bahamas' 'Bosnia and Herzegovina' 'Belarus'\n",
            " 'Belize' 'Bolivia' 'Brazil' 'Barbados' 'Brunei' 'Bhutan' 'Botswana'\n",
            " 'Central African Republic' 'Canada' 'Switzerland' 'Chile' 'China'\n",
            " \"Cote d'Ivoire\" 'Cameroon' 'Congo, Dem. Rep.' 'Congo, Rep.' 'Colombia'\n",
            " 'Comoros' 'Cape Verde' 'Costa Rica' 'Cuba' 'Cyprus' 'Czech Republic'\n",
            " 'Germany' 'Djibouti' 'Dominica' 'Denmark' 'Dominican Republic' 'Algeria'\n",
            " 'Ecuador' 'Egypt' 'Eritrea' 'Spain' 'Estonia' 'Ethiopia' 'Finland' 'Fiji'\n",
            " 'France' 'Micronesia, Fed. Sts.' 'Gabon' 'United Kingdom' 'Georgia'\n",
            " 'Ghana' 'Guinea' 'Gambia' 'Guinea-Bissau' 'Equatorial Guinea' 'Greece'\n",
            " 'Grenada' 'Guatemala' 'Guyana' 'Hong Kong, China' 'Honduras' 'Croatia'\n",
            " 'Haiti' 'Hungary' 'Indonesia' 'India' 'Ireland' 'Iran' 'Iraq' 'Iceland'\n",
            " 'Israel' 'Italy' 'Jamaica' 'Jordan' 'Japan' 'Kazakhstan' 'Kenya'\n",
            " 'Kyrgyz Republic' 'Cambodia' 'Kiribati' 'St. Kitts and Nevis'\n",
            " 'South Korea' 'Kuwait' 'Lao' 'Lebanon' 'Liberia' 'Libya' 'St. Lucia'\n",
            " 'Liechtenstein' 'Sri Lanka' 'Lesotho' 'Lithuania' 'Luxembourg' 'Latvia'\n",
            " 'Morocco' 'Monaco' 'Moldova' 'Madagascar' 'Maldives' 'Mexico'\n",
            " 'Marshall Islands' 'Macedonia, FYR' 'Mali' 'Malta' 'Myanmar' 'Montenegro'\n",
            " 'Mongolia' 'Mozambique' 'Mauritania' 'Mauritius' 'Malawi' 'Malaysia'\n",
            " 'Namibia' 'Niger' 'Nigeria' 'Nicaragua' 'Netherlands' 'Norway' 'Nepal'\n",
            " 'Nauru' 'New Zealand' 'Oman' 'Pakistan' 'Panama' 'Peru' 'Philippines'\n",
            " 'Palau' 'Papua New Guinea' 'Poland' 'North Korea' 'Portugal' 'Paraguay'\n",
            " 'Palestine' 'Qatar' 'Romania' 'Russia' 'Rwanda' 'Saudi Arabia' 'Sudan'\n",
            " 'Senegal' 'Singapore' 'Solomon Islands' 'Sierra Leone' 'El Salvador'\n",
            " 'San Marino' 'Somalia' 'Serbia' 'South Sudan' 'Sao Tome and Principe'\n",
            " 'Suriname' 'Slovak Republic' 'Slovenia' 'Sweden' 'Swaziland' 'Seychelles'\n",
            " 'Syria' 'Chad' 'Togo' 'Thailand' 'Tajikistan' 'Turkmenistan'\n",
            " 'Timor-Leste' 'Tonga' 'Trinidad and Tobago' 'Tunisia' 'Turkey' 'Tuvalu'\n",
            " 'Tanzania' 'Uganda' 'Ukraine' 'Uruguay' 'United States' 'Uzbekistan'\n",
            " 'St. Vincent and the Grenadines' 'Venezuela' 'Vietnam' 'Vanuatu' 'Samoa'\n",
            " 'Yemen' 'South Africa' 'Zambia' 'Zimbabwe']\n"
          ],
          "name": "stdout"
        },
        {
          "output_type": "execute_result",
          "data": {
            "text/plain": [
              "195"
            ]
          },
          "metadata": {
            "tags": []
          },
          "execution_count": 14
        }
      ]
    },
    {
      "cell_type": "code",
      "metadata": {
        "id": "AMtFkm5TphaL",
        "colab_type": "code",
        "colab": {
          "base_uri": "https://localhost:8080/",
          "height": 329
        },
        "outputId": "988fee98-4b39-40f8-ea1a-1b783200d794"
      },
      "source": [
        "geo_codes=geo_population_phone['geo'].unique()\n",
        "print(geo_codes)\n",
        "len(geo_codes)"
      ],
      "execution_count": 15,
      "outputs": [
        {
          "output_type": "stream",
          "text": [
            "['afg' 'ago' 'alb' 'and' 'are' 'arg' 'arm' 'atg' 'aus' 'aut' 'aze' 'bdi'\n",
            " 'bel' 'ben' 'bfa' 'bgd' 'bgr' 'bhr' 'bhs' 'bih' 'blr' 'blz' 'bol' 'bra'\n",
            " 'brb' 'brn' 'btn' 'bwa' 'caf' 'can' 'che' 'chl' 'chn' 'civ' 'cmr' 'cod'\n",
            " 'cog' 'col' 'com' 'cpv' 'cri' 'cub' 'cyp' 'cze' 'deu' 'dji' 'dma' 'dnk'\n",
            " 'dom' 'dza' 'ecu' 'egy' 'eri' 'esp' 'est' 'eth' 'fin' 'fji' 'fra' 'fsm'\n",
            " 'gab' 'gbr' 'geo' 'gha' 'gin' 'gmb' 'gnb' 'gnq' 'grc' 'grd' 'gtm' 'guy'\n",
            " 'hkg' 'hnd' 'hrv' 'hti' 'hun' 'idn' 'ind' 'irl' 'irn' 'irq' 'isl' 'isr'\n",
            " 'ita' 'jam' 'jor' 'jpn' 'kaz' 'ken' 'kgz' 'khm' 'kir' 'kna' 'kor' 'kwt'\n",
            " 'lao' 'lbn' 'lbr' 'lby' 'lca' 'lie' 'lka' 'lso' 'ltu' 'lux' 'lva' 'mar'\n",
            " 'mco' 'mda' 'mdg' 'mdv' 'mex' 'mhl' 'mkd' 'mli' 'mlt' 'mmr' 'mne' 'mng'\n",
            " 'moz' 'mrt' 'mus' 'mwi' 'mys' 'nam' 'ner' 'nga' 'nic' 'nld' 'nor' 'npl'\n",
            " 'nru' 'nzl' 'omn' 'pak' 'pan' 'per' 'phl' 'plw' 'png' 'pol' 'prk' 'prt'\n",
            " 'pry' 'pse' 'qat' 'rou' 'rus' 'rwa' 'sau' 'sdn' 'sen' 'sgp' 'slb' 'sle'\n",
            " 'slv' 'smr' 'som' 'srb' 'ssd' 'stp' 'sur' 'svk' 'svn' 'swe' 'swz' 'syc'\n",
            " 'syr' 'tcd' 'tgo' 'tha' 'tjk' 'tkm' 'tls' 'ton' 'tto' 'tun' 'tur' 'tuv'\n",
            " 'tza' 'uga' 'ukr' 'ury' 'usa' 'uzb' 'vct' 'ven' 'vnm' 'vut' 'wsm' 'yem'\n",
            " 'zaf' 'zmb' 'zwe']\n"
          ],
          "name": "stdout"
        },
        {
          "output_type": "execute_result",
          "data": {
            "text/plain": [
              "195"
            ]
          },
          "metadata": {
            "tags": []
          },
          "execution_count": 15
        }
      ]
    },
    {
      "cell_type": "markdown",
      "metadata": {
        "id": "KXEmo_HdKy_5",
        "colab_type": "text"
      },
      "source": [
        "In 2017, what were the top 5 countries with the most cell phones total?\n",
        "\n",
        "Your list of countries should have these totals:\n",
        "\n",
        "| country | cell phones total |\n",
        "|:-------:|:-----------------:|\n",
        "|    ?    |     1,474,097,000 |\n",
        "|    ?    |     1,168,902,277 |\n",
        "|    ?    |       458,923,202 |\n",
        "|    ?    |       395,881,000 |\n",
        "|    ?    |       236,488,548 |\n"
      ]
    },
    {
      "cell_type": "code",
      "metadata": {
        "id": "NbCVBsBIK06K",
        "colab_type": "code",
        "colab": {
          "base_uri": "https://localhost:8080/",
          "height": 415
        },
        "outputId": "cecb617e-2a40-4809-f04d-8709f4987f4b"
      },
      "source": [
        "sorted_2017 = geo_population_phone[geo_population_phone['time']==2017].sort_values(by='cell_phones_total', ascending=False)\n",
        "sorted_2017"
      ],
      "execution_count": 16,
      "outputs": [
        {
          "output_type": "execute_result",
          "data": {
            "text/html": [
              "<div>\n",
              "<style scoped>\n",
              "    .dataframe tbody tr th:only-of-type {\n",
              "        vertical-align: middle;\n",
              "    }\n",
              "\n",
              "    .dataframe tbody tr th {\n",
              "        vertical-align: top;\n",
              "    }\n",
              "\n",
              "    .dataframe thead th {\n",
              "        text-align: right;\n",
              "    }\n",
              "</style>\n",
              "<table border=\"1\" class=\"dataframe\">\n",
              "  <thead>\n",
              "    <tr style=\"text-align: right;\">\n",
              "      <th></th>\n",
              "      <th>geo</th>\n",
              "      <th>time</th>\n",
              "      <th>cell_phones_total</th>\n",
              "      <th>population_total</th>\n",
              "      <th>country</th>\n",
              "      <th>phone_per_person</th>\n",
              "    </tr>\n",
              "  </thead>\n",
              "  <tbody>\n",
              "    <tr>\n",
              "      <th>1496</th>\n",
              "      <td>chn</td>\n",
              "      <td>2017</td>\n",
              "      <td>1.474097e+09</td>\n",
              "      <td>1409517397</td>\n",
              "      <td>China</td>\n",
              "      <td>1.045817</td>\n",
              "    </tr>\n",
              "    <tr>\n",
              "      <th>3595</th>\n",
              "      <td>ind</td>\n",
              "      <td>2017</td>\n",
              "      <td>1.168902e+09</td>\n",
              "      <td>1339180127</td>\n",
              "      <td>India</td>\n",
              "      <td>0.872849</td>\n",
              "    </tr>\n",
              "    <tr>\n",
              "      <th>3549</th>\n",
              "      <td>idn</td>\n",
              "      <td>2017</td>\n",
              "      <td>4.589232e+08</td>\n",
              "      <td>263991379</td>\n",
              "      <td>Indonesia</td>\n",
              "      <td>1.738402</td>\n",
              "    </tr>\n",
              "    <tr>\n",
              "      <th>8134</th>\n",
              "      <td>usa</td>\n",
              "      <td>2017</td>\n",
              "      <td>3.958810e+08</td>\n",
              "      <td>324459463</td>\n",
              "      <td>United States</td>\n",
              "      <td>1.220125</td>\n",
              "    </tr>\n",
              "    <tr>\n",
              "      <th>1084</th>\n",
              "      <td>bra</td>\n",
              "      <td>2017</td>\n",
              "      <td>2.364885e+08</td>\n",
              "      <td>209288278</td>\n",
              "      <td>Brazil</td>\n",
              "      <td>1.129966</td>\n",
              "    </tr>\n",
              "    <tr>\n",
              "      <th>...</th>\n",
              "      <td>...</td>\n",
              "      <td>...</td>\n",
              "      <td>...</td>\n",
              "      <td>...</td>\n",
              "      <td>...</td>\n",
              "      <td>...</td>\n",
              "    </tr>\n",
              "    <tr>\n",
              "      <th>4596</th>\n",
              "      <td>lie</td>\n",
              "      <td>2017</td>\n",
              "      <td>4.662500e+04</td>\n",
              "      <td>37922</td>\n",
              "      <td>Liechtenstein</td>\n",
              "      <td>1.229497</td>\n",
              "    </tr>\n",
              "    <tr>\n",
              "      <th>4220</th>\n",
              "      <td>kir</td>\n",
              "      <td>2017</td>\n",
              "      <td>4.612300e+04</td>\n",
              "      <td>116398</td>\n",
              "      <td>Kiribati</td>\n",
              "      <td>0.396253</td>\n",
              "    </tr>\n",
              "    <tr>\n",
              "      <th>7005</th>\n",
              "      <td>smr</td>\n",
              "      <td>2017</td>\n",
              "      <td>3.800000e+04</td>\n",
              "      <td>33400</td>\n",
              "      <td>San Marino</td>\n",
              "      <td>1.137725</td>\n",
              "    </tr>\n",
              "    <tr>\n",
              "      <th>4918</th>\n",
              "      <td>mco</td>\n",
              "      <td>2017</td>\n",
              "      <td>3.297800e+04</td>\n",
              "      <td>38695</td>\n",
              "      <td>Monaco</td>\n",
              "      <td>0.852255</td>\n",
              "    </tr>\n",
              "    <tr>\n",
              "      <th>2725</th>\n",
              "      <td>fsm</td>\n",
              "      <td>2017</td>\n",
              "      <td>2.311400e+04</td>\n",
              "      <td>105544</td>\n",
              "      <td>Micronesia, Fed. Sts.</td>\n",
              "      <td>0.218999</td>\n",
              "    </tr>\n",
              "  </tbody>\n",
              "</table>\n",
              "<p>168 rows × 6 columns</p>\n",
              "</div>"
            ],
            "text/plain": [
              "      geo  time  ...                country  phone_per_person\n",
              "1496  chn  2017  ...                  China          1.045817\n",
              "3595  ind  2017  ...                  India          0.872849\n",
              "3549  idn  2017  ...              Indonesia          1.738402\n",
              "8134  usa  2017  ...          United States          1.220125\n",
              "1084  bra  2017  ...                 Brazil          1.129966\n",
              "...   ...   ...  ...                    ...               ...\n",
              "4596  lie  2017  ...          Liechtenstein          1.229497\n",
              "4220  kir  2017  ...               Kiribati          0.396253\n",
              "7005  smr  2017  ...             San Marino          1.137725\n",
              "4918  mco  2017  ...                 Monaco          0.852255\n",
              "2725  fsm  2017  ...  Micronesia, Fed. Sts.          0.218999\n",
              "\n",
              "[168 rows x 6 columns]"
            ]
          },
          "metadata": {
            "tags": []
          },
          "execution_count": 16
        }
      ]
    },
    {
      "cell_type": "code",
      "metadata": {
        "id": "lO58N9AlsA9S",
        "colab_type": "code",
        "colab": {
          "base_uri": "https://localhost:8080/",
          "height": 121
        },
        "outputId": "d7fcf7a7-65a7-4f23-fa7c-a7fb56b4b33d"
      },
      "source": [
        "top5=sorted_2017.iloc[0:5, [4,2]]\n",
        "print(top5.to_string(index=False))"
      ],
      "execution_count": 17,
      "outputs": [
        {
          "output_type": "stream",
          "text": [
            "       country  cell_phones_total\n",
            "         China       1.474097e+09\n",
            "         India       1.168902e+09\n",
            "     Indonesia       4.589232e+08\n",
            " United States       3.958810e+08\n",
            "        Brazil       2.364885e+08\n"
          ],
          "name": "stdout"
        }
      ]
    },
    {
      "cell_type": "code",
      "metadata": {
        "id": "i7rd5TUtt6qS",
        "colab_type": "code",
        "colab": {
          "base_uri": "https://localhost:8080/",
          "height": 121
        },
        "outputId": "f7cd2219-0b5e-49f4-9959-e8e0e6d9ca02"
      },
      "source": [
        "pd.options.display.float_format = '{:20,.0f}'.format\n",
        "print(top5.to_string(index=False))"
      ],
      "execution_count": 18,
      "outputs": [
        {
          "output_type": "stream",
          "text": [
            "       country    cell_phones_total\n",
            "         China        1,474,097,000\n",
            "         India        1,168,902,277\n",
            "     Indonesia          458,923,202\n",
            " United States          395,881,000\n",
            "        Brazil          236,488,548\n"
          ],
          "name": "stdout"
        }
      ]
    },
    {
      "cell_type": "markdown",
      "metadata": {
        "id": "JLkzcj4OAR88",
        "colab_type": "text"
      },
      "source": [
        "Filter the cell_phones dataframe to only include information about the USA and China and then remake the scatterplot."
      ]
    },
    {
      "cell_type": "code",
      "metadata": {
        "id": "x696qvyeAQjx",
        "colab_type": "code",
        "colab": {
          "base_uri": "https://localhost:8080/",
          "height": 415
        },
        "outputId": "0b153e4b-5794-49c5-f706-4641bb9b1ff1"
      },
      "source": [
        "USA_China = geo_population_phone[(geo_population_phone['country']== 'United States')| (geo_population_phone['country']=='China')]\n",
        "USA_China.head(100)"
      ],
      "execution_count": 78,
      "outputs": [
        {
          "output_type": "execute_result",
          "data": {
            "text/html": [
              "<div>\n",
              "<style scoped>\n",
              "    .dataframe tbody tr th:only-of-type {\n",
              "        vertical-align: middle;\n",
              "    }\n",
              "\n",
              "    .dataframe tbody tr th {\n",
              "        vertical-align: top;\n",
              "    }\n",
              "\n",
              "    .dataframe thead th {\n",
              "        text-align: right;\n",
              "    }\n",
              "</style>\n",
              "<table border=\"1\" class=\"dataframe\">\n",
              "  <thead>\n",
              "    <tr style=\"text-align: right;\">\n",
              "      <th></th>\n",
              "      <th>geo</th>\n",
              "      <th>time</th>\n",
              "      <th>cell_phones_total</th>\n",
              "      <th>population_total</th>\n",
              "      <th>country</th>\n",
              "      <th>phone_per_person</th>\n",
              "    </tr>\n",
              "  </thead>\n",
              "  <tbody>\n",
              "    <tr>\n",
              "      <th>1451</th>\n",
              "      <td>chn</td>\n",
              "      <td>1960</td>\n",
              "      <td>0.0000</td>\n",
              "      <td>657686143</td>\n",
              "      <td>China</td>\n",
              "      <td>0.0000</td>\n",
              "    </tr>\n",
              "    <tr>\n",
              "      <th>1452</th>\n",
              "      <td>chn</td>\n",
              "      <td>1965</td>\n",
              "      <td>0.0000</td>\n",
              "      <td>722562183</td>\n",
              "      <td>China</td>\n",
              "      <td>0.0000</td>\n",
              "    </tr>\n",
              "    <tr>\n",
              "      <th>1453</th>\n",
              "      <td>chn</td>\n",
              "      <td>1970</td>\n",
              "      <td>0.0000</td>\n",
              "      <td>824788457</td>\n",
              "      <td>China</td>\n",
              "      <td>0.0000</td>\n",
              "    </tr>\n",
              "    <tr>\n",
              "      <th>1454</th>\n",
              "      <td>chn</td>\n",
              "      <td>1975</td>\n",
              "      <td>0.0000</td>\n",
              "      <td>920945083</td>\n",
              "      <td>China</td>\n",
              "      <td>0.0000</td>\n",
              "    </tr>\n",
              "    <tr>\n",
              "      <th>1455</th>\n",
              "      <td>chn</td>\n",
              "      <td>1976</td>\n",
              "      <td>0.0000</td>\n",
              "      <td>937018252</td>\n",
              "      <td>China</td>\n",
              "      <td>0.0000</td>\n",
              "    </tr>\n",
              "    <tr>\n",
              "      <th>...</th>\n",
              "      <td>...</td>\n",
              "      <td>...</td>\n",
              "      <td>...</td>\n",
              "      <td>...</td>\n",
              "      <td>...</td>\n",
              "      <td>...</td>\n",
              "    </tr>\n",
              "    <tr>\n",
              "      <th>8130</th>\n",
              "      <td>usa</td>\n",
              "      <td>2013</td>\n",
              "      <td>310,698,000.0000</td>\n",
              "      <td>315536676</td>\n",
              "      <td>United States</td>\n",
              "      <td>0.9847</td>\n",
              "    </tr>\n",
              "    <tr>\n",
              "      <th>8131</th>\n",
              "      <td>usa</td>\n",
              "      <td>2014</td>\n",
              "      <td>355,500,000.0000</td>\n",
              "      <td>317718779</td>\n",
              "      <td>United States</td>\n",
              "      <td>1.1189</td>\n",
              "    </tr>\n",
              "    <tr>\n",
              "      <th>8132</th>\n",
              "      <td>usa</td>\n",
              "      <td>2015</td>\n",
              "      <td>382,307,000.0000</td>\n",
              "      <td>319929162</td>\n",
              "      <td>United States</td>\n",
              "      <td>1.1950</td>\n",
              "    </tr>\n",
              "    <tr>\n",
              "      <th>8133</th>\n",
              "      <td>usa</td>\n",
              "      <td>2016</td>\n",
              "      <td>395,881,000.0000</td>\n",
              "      <td>322179605</td>\n",
              "      <td>United States</td>\n",
              "      <td>1.2288</td>\n",
              "    </tr>\n",
              "    <tr>\n",
              "      <th>8134</th>\n",
              "      <td>usa</td>\n",
              "      <td>2017</td>\n",
              "      <td>395,881,000.0000</td>\n",
              "      <td>324459463</td>\n",
              "      <td>United States</td>\n",
              "      <td>1.2201</td>\n",
              "    </tr>\n",
              "  </tbody>\n",
              "</table>\n",
              "<p>89 rows × 6 columns</p>\n",
              "</div>"
            ],
            "text/plain": [
              "      geo  time  ...        country     phone_per_person\n",
              "1451  chn  1960  ...          China               0.0000\n",
              "1452  chn  1965  ...          China               0.0000\n",
              "1453  chn  1970  ...          China               0.0000\n",
              "1454  chn  1975  ...          China               0.0000\n",
              "1455  chn  1976  ...          China               0.0000\n",
              "...   ...   ...  ...            ...                  ...\n",
              "8130  usa  2013  ...  United States               0.9847\n",
              "8131  usa  2014  ...  United States               1.1189\n",
              "8132  usa  2015  ...  United States               1.1950\n",
              "8133  usa  2016  ...  United States               1.2288\n",
              "8134  usa  2017  ...  United States               1.2201\n",
              "\n",
              "[89 rows x 6 columns]"
            ]
          },
          "metadata": {
            "tags": []
          },
          "execution_count": 78
        }
      ]
    },
    {
      "cell_type": "code",
      "metadata": {
        "id": "2itQNv60BLW_",
        "colab_type": "code",
        "colab": {
          "base_uri": "https://localhost:8080/",
          "height": 434
        },
        "outputId": "3e34f716-fe39-4f3e-ed5b-6b57341918ab"
      },
      "source": [
        "fig, axs=plt.subplots(nrows = 1, ncols = 2, figsize=(10, 6), sharey=False)\n",
        "sns.scatterplot(x='time', y='cell_phones_total', hue='country', data=USA_China, ax=axs[0]);\n",
        "sns.scatterplot(x='time', y='phone_per_person', hue='country', data=USA_China, ax=axs[1]);\n"
      ],
      "execution_count": 98,
      "outputs": [
        {
          "output_type": "display_data",
          "data": {
            "image/png": "[encoded data removed]",
            "text/plain": [
              "<Figure size 720x432 with 2 Axes>"
            ]
          },
          "metadata": {
            "tags": []
          }
        }
      ]
    },
    {
      "cell_type": "markdown",
      "metadata": {
        "id": "yPzQybeSHkXn",
        "colab_type": "text"
      },
      "source": [
        "Now make geo upper case"
      ]
    },
    {
      "cell_type": "code",
      "metadata": {
        "id": "vyouLYY2HjWg",
        "colab_type": "code",
        "colab": {
          "base_uri": "https://localhost:8080/",
          "height": 171
        },
        "outputId": "9ff985ca-baf8-493b-d4fc-df1c1ef25489"
      },
      "source": [
        "geo_population_phone['geo']=geo_population_phone['geo'].str.upper()\n",
        "geo_population_phone.head(4)"
      ],
      "execution_count": 103,
      "outputs": [
        {
          "output_type": "execute_result",
          "data": {
            "text/html": [
              "<div>\n",
              "<style scoped>\n",
              "    .dataframe tbody tr th:only-of-type {\n",
              "        vertical-align: middle;\n",
              "    }\n",
              "\n",
              "    .dataframe tbody tr th {\n",
              "        vertical-align: top;\n",
              "    }\n",
              "\n",
              "    .dataframe thead th {\n",
              "        text-align: right;\n",
              "    }\n",
              "</style>\n",
              "<table border=\"1\" class=\"dataframe\">\n",
              "  <thead>\n",
              "    <tr style=\"text-align: right;\">\n",
              "      <th></th>\n",
              "      <th>geo</th>\n",
              "      <th>time</th>\n",
              "      <th>cell_phones_total</th>\n",
              "      <th>population_total</th>\n",
              "      <th>country</th>\n",
              "      <th>phone_per_person</th>\n",
              "    </tr>\n",
              "  </thead>\n",
              "  <tbody>\n",
              "    <tr>\n",
              "      <th>0</th>\n",
              "      <td>AFG</td>\n",
              "      <td>1960</td>\n",
              "      <td>0.0000</td>\n",
              "      <td>8996351</td>\n",
              "      <td>Afghanistan</td>\n",
              "      <td>0.0000</td>\n",
              "    </tr>\n",
              "    <tr>\n",
              "      <th>1</th>\n",
              "      <td>AFG</td>\n",
              "      <td>1965</td>\n",
              "      <td>0.0000</td>\n",
              "      <td>9938414</td>\n",
              "      <td>Afghanistan</td>\n",
              "      <td>0.0000</td>\n",
              "    </tr>\n",
              "    <tr>\n",
              "      <th>2</th>\n",
              "      <td>AFG</td>\n",
              "      <td>1970</td>\n",
              "      <td>0.0000</td>\n",
              "      <td>11126123</td>\n",
              "      <td>Afghanistan</td>\n",
              "      <td>0.0000</td>\n",
              "    </tr>\n",
              "    <tr>\n",
              "      <th>3</th>\n",
              "      <td>AFG</td>\n",
              "      <td>1975</td>\n",
              "      <td>0.0000</td>\n",
              "      <td>12590286</td>\n",
              "      <td>Afghanistan</td>\n",
              "      <td>0.0000</td>\n",
              "    </tr>\n",
              "  </tbody>\n",
              "</table>\n",
              "</div>"
            ],
            "text/plain": [
              "   geo  time  ...      country     phone_per_person\n",
              "0  AFG  1960  ...  Afghanistan               0.0000\n",
              "1  AFG  1965  ...  Afghanistan               0.0000\n",
              "2  AFG  1970  ...  Afghanistan               0.0000\n",
              "3  AFG  1975  ...  Afghanistan               0.0000\n",
              "\n",
              "[4 rows x 6 columns]"
            ]
          },
          "metadata": {
            "tags": []
          },
          "execution_count": 103
        }
      ]
    },
    {
      "cell_type": "markdown",
      "metadata": {
        "id": "6uVp6he0Idg1",
        "colab_type": "text"
      },
      "source": [
        "When USA has more cellphone than people?"
      ]
    },
    {
      "cell_type": "code",
      "metadata": {
        "id": "0ImnWYfqIdK-",
        "colab_type": "code",
        "colab": {
          "base_uri": "https://localhost:8080/",
          "height": 171
        },
        "outputId": "33202356-3af0-4676-9ea7-dd44add1f24f"
      },
      "source": [
        "USA_China[(USA_China['phone_per_person']>1) & (USA_China['geo']=='usa')].sort_values(by='time', ascending=True)"
      ],
      "execution_count": 117,
      "outputs": [
        {
          "output_type": "execute_result",
          "data": {
            "text/html": [
              "<div>\n",
              "<style scoped>\n",
              "    .dataframe tbody tr th:only-of-type {\n",
              "        vertical-align: middle;\n",
              "    }\n",
              "\n",
              "    .dataframe tbody tr th {\n",
              "        vertical-align: top;\n",
              "    }\n",
              "\n",
              "    .dataframe thead th {\n",
              "        text-align: right;\n",
              "    }\n",
              "</style>\n",
              "<table border=\"1\" class=\"dataframe\">\n",
              "  <thead>\n",
              "    <tr style=\"text-align: right;\">\n",
              "      <th></th>\n",
              "      <th>geo</th>\n",
              "      <th>time</th>\n",
              "      <th>cell_phones_total</th>\n",
              "      <th>population_total</th>\n",
              "      <th>country</th>\n",
              "      <th>phone_per_person</th>\n",
              "    </tr>\n",
              "  </thead>\n",
              "  <tbody>\n",
              "    <tr>\n",
              "      <th>8131</th>\n",
              "      <td>usa</td>\n",
              "      <td>2014</td>\n",
              "      <td>355,500,000.0000</td>\n",
              "      <td>317718779</td>\n",
              "      <td>United States</td>\n",
              "      <td>1.1189</td>\n",
              "    </tr>\n",
              "    <tr>\n",
              "      <th>8132</th>\n",
              "      <td>usa</td>\n",
              "      <td>2015</td>\n",
              "      <td>382,307,000.0000</td>\n",
              "      <td>319929162</td>\n",
              "      <td>United States</td>\n",
              "      <td>1.1950</td>\n",
              "    </tr>\n",
              "    <tr>\n",
              "      <th>8133</th>\n",
              "      <td>usa</td>\n",
              "      <td>2016</td>\n",
              "      <td>395,881,000.0000</td>\n",
              "      <td>322179605</td>\n",
              "      <td>United States</td>\n",
              "      <td>1.2288</td>\n",
              "    </tr>\n",
              "    <tr>\n",
              "      <th>8134</th>\n",
              "      <td>usa</td>\n",
              "      <td>2017</td>\n",
              "      <td>395,881,000.0000</td>\n",
              "      <td>324459463</td>\n",
              "      <td>United States</td>\n",
              "      <td>1.2201</td>\n",
              "    </tr>\n",
              "  </tbody>\n",
              "</table>\n",
              "</div>"
            ],
            "text/plain": [
              "      geo  time  ...        country     phone_per_person\n",
              "8131  usa  2014  ...  United States               1.1189\n",
              "8132  usa  2015  ...  United States               1.1950\n",
              "8133  usa  2016  ...  United States               1.2288\n",
              "8134  usa  2017  ...  United States               1.2201\n",
              "\n",
              "[4 rows x 6 columns]"
            ]
          },
          "metadata": {
            "tags": []
          },
          "execution_count": 117
        }
      ]
    },
    {
      "cell_type": "markdown",
      "metadata": {
        "id": "RcBnaSW_LYSk",
        "colab_type": "text"
      },
      "source": [
        "## Data Storytelling\n",
        "\n",
        "In this part of the sprint challenge you'll work with a dataset from **FiveThirtyEight's article, [Every Guest Jon Stewart Ever Had On ‘The Daily Show’](https://fivethirtyeight.com/features/every-guest-jon-stewart-ever-had-on-the-daily-show/)**!"
      ]
    },
    {
      "cell_type": "markdown",
      "metadata": {
        "id": "t0vUeBgBLcby",
        "colab_type": "text"
      },
      "source": [
        "### Part 0 — Run this starter code\n",
        "\n",
        "You don't need to add or change anything here. Just run this cell and it loads the data for you, into a dataframe named `df`.\n",
        "\n",
        "(You can explore the data if you want, but it's not required to pass the Sprint Challenge.)"
      ]
    },
    {
      "cell_type": "code",
      "metadata": {
        "id": "pc7YmWvlLas5",
        "colab_type": "code",
        "colab": {}
      },
      "source": [
        "%matplotlib inline\n",
        "import matplotlib.pyplot as plt\n",
        "import numpy as np\n",
        "import pandas as pd\n",
        "import seaborn as sns\n",
        "\n",
        "url = 'https://raw.githubusercontent.com/fivethirtyeight/data/master/daily-show-guests/daily_show_guests.csv'\n",
        "df = pd.read_csv(url).rename(columns={'YEAR': 'Year', 'Raw_Guest_List': 'Guest'})\n",
        "\n",
        "def get_occupation(group):\n",
        "    if group in ['Acting', 'Comedy', 'Musician']:\n",
        "        return 'Acting, Comedy & Music'\n",
        "    elif group in ['Media', 'media']:\n",
        "        return 'Media'\n",
        "    elif group in ['Government', 'Politician', 'Political Aide']:\n",
        "        return 'Government and Politics'\n",
        "    else:\n",
        "        return 'Other'\n",
        "      \n",
        "df['Occupation'] = df['Group'].apply(get_occupation)"
      ],
      "execution_count": 0,
      "outputs": []
    },
    {
      "cell_type": "markdown",
      "metadata": {
        "id": "yisVUHiXLjv0",
        "colab_type": "text"
      },
      "source": [
        "### Part 1 — What's the breakdown of guests’ occupations per year?\n",
        "\n",
        "For example, in 1999, what percentage of guests were actors, comedians, or musicians? What percentage were in the media? What percentage were in politics? What percentage were from another occupation?\n",
        "\n",
        "Then, what about in 2000? In 2001? And so on, up through 2015.\n",
        "\n",
        "So, **for each year of _The Daily Show_, calculate the percentage of guests from each occupation:**\n",
        "- Acting, Comedy & Music\n",
        "- Government and Politics\n",
        "- Media\n",
        "- Other\n",
        "\n",
        "#### Hints:\n",
        "\n",
        "- You can make a crosstab. \n",
        "- You're going to want occupations as the column indexes and years as the row indexes\n",
        "- Use the `normalize` parameter to get percentages by year.\n",
        "\n",
        "You'll know you've calculated correctly when the percentage of \"Acting, Comedy & Music\" guests is 90.36% in 1999, and 45% in 2015."
      ]
    },
    {
      "cell_type": "code",
      "metadata": {
        "id": "BJvyvhdwLkRr",
        "colab_type": "code",
        "colab": {
          "base_uri": "https://localhost:8080/",
          "height": 355
        },
        "outputId": "c8511c08-78d7-44c8-8299-bc248849f3ff"
      },
      "source": [
        "df.head(10)"
      ],
      "execution_count": 20,
      "outputs": [
        {
          "output_type": "execute_result",
          "data": {
            "text/html": [
              "<div>\n",
              "<style scoped>\n",
              "    .dataframe tbody tr th:only-of-type {\n",
              "        vertical-align: middle;\n",
              "    }\n",
              "\n",
              "    .dataframe tbody tr th {\n",
              "        vertical-align: top;\n",
              "    }\n",
              "\n",
              "    .dataframe thead th {\n",
              "        text-align: right;\n",
              "    }\n",
              "</style>\n",
              "<table border=\"1\" class=\"dataframe\">\n",
              "  <thead>\n",
              "    <tr style=\"text-align: right;\">\n",
              "      <th></th>\n",
              "      <th>Year</th>\n",
              "      <th>GoogleKnowlege_Occupation</th>\n",
              "      <th>Show</th>\n",
              "      <th>Group</th>\n",
              "      <th>Guest</th>\n",
              "      <th>Occupation</th>\n",
              "    </tr>\n",
              "  </thead>\n",
              "  <tbody>\n",
              "    <tr>\n",
              "      <th>0</th>\n",
              "      <td>1999</td>\n",
              "      <td>actor</td>\n",
              "      <td>1/11/99</td>\n",
              "      <td>Acting</td>\n",
              "      <td>Michael J. Fox</td>\n",
              "      <td>Acting, Comedy &amp; Music</td>\n",
              "    </tr>\n",
              "    <tr>\n",
              "      <th>1</th>\n",
              "      <td>1999</td>\n",
              "      <td>Comedian</td>\n",
              "      <td>1/12/99</td>\n",
              "      <td>Comedy</td>\n",
              "      <td>Sandra Bernhard</td>\n",
              "      <td>Acting, Comedy &amp; Music</td>\n",
              "    </tr>\n",
              "    <tr>\n",
              "      <th>2</th>\n",
              "      <td>1999</td>\n",
              "      <td>television actress</td>\n",
              "      <td>1/13/99</td>\n",
              "      <td>Acting</td>\n",
              "      <td>Tracey Ullman</td>\n",
              "      <td>Acting, Comedy &amp; Music</td>\n",
              "    </tr>\n",
              "    <tr>\n",
              "      <th>3</th>\n",
              "      <td>1999</td>\n",
              "      <td>film actress</td>\n",
              "      <td>1/14/99</td>\n",
              "      <td>Acting</td>\n",
              "      <td>Gillian Anderson</td>\n",
              "      <td>Acting, Comedy &amp; Music</td>\n",
              "    </tr>\n",
              "    <tr>\n",
              "      <th>4</th>\n",
              "      <td>1999</td>\n",
              "      <td>actor</td>\n",
              "      <td>1/18/99</td>\n",
              "      <td>Acting</td>\n",
              "      <td>David Alan Grier</td>\n",
              "      <td>Acting, Comedy &amp; Music</td>\n",
              "    </tr>\n",
              "    <tr>\n",
              "      <th>5</th>\n",
              "      <td>1999</td>\n",
              "      <td>actor</td>\n",
              "      <td>1/19/99</td>\n",
              "      <td>Acting</td>\n",
              "      <td>William Baldwin</td>\n",
              "      <td>Acting, Comedy &amp; Music</td>\n",
              "    </tr>\n",
              "    <tr>\n",
              "      <th>6</th>\n",
              "      <td>1999</td>\n",
              "      <td>Singer-lyricist</td>\n",
              "      <td>1/20/99</td>\n",
              "      <td>Musician</td>\n",
              "      <td>Michael Stipe</td>\n",
              "      <td>Acting, Comedy &amp; Music</td>\n",
              "    </tr>\n",
              "    <tr>\n",
              "      <th>7</th>\n",
              "      <td>1999</td>\n",
              "      <td>model</td>\n",
              "      <td>1/21/99</td>\n",
              "      <td>Media</td>\n",
              "      <td>Carmen Electra</td>\n",
              "      <td>Media</td>\n",
              "    </tr>\n",
              "    <tr>\n",
              "      <th>8</th>\n",
              "      <td>1999</td>\n",
              "      <td>actor</td>\n",
              "      <td>1/25/99</td>\n",
              "      <td>Acting</td>\n",
              "      <td>Matthew Lillard</td>\n",
              "      <td>Acting, Comedy &amp; Music</td>\n",
              "    </tr>\n",
              "    <tr>\n",
              "      <th>9</th>\n",
              "      <td>1999</td>\n",
              "      <td>stand-up comedian</td>\n",
              "      <td>1/26/99</td>\n",
              "      <td>Comedy</td>\n",
              "      <td>David Cross</td>\n",
              "      <td>Acting, Comedy &amp; Music</td>\n",
              "    </tr>\n",
              "  </tbody>\n",
              "</table>\n",
              "</div>"
            ],
            "text/plain": [
              "   Year GoogleKnowlege_Occupation  ...             Guest              Occupation\n",
              "0  1999                     actor  ...    Michael J. Fox  Acting, Comedy & Music\n",
              "1  1999                  Comedian  ...   Sandra Bernhard  Acting, Comedy & Music\n",
              "2  1999        television actress  ...     Tracey Ullman  Acting, Comedy & Music\n",
              "3  1999              film actress  ...  Gillian Anderson  Acting, Comedy & Music\n",
              "4  1999                     actor  ...  David Alan Grier  Acting, Comedy & Music\n",
              "5  1999                     actor  ...   William Baldwin  Acting, Comedy & Music\n",
              "6  1999           Singer-lyricist  ...     Michael Stipe  Acting, Comedy & Music\n",
              "7  1999                     model  ...    Carmen Electra                   Media\n",
              "8  1999                     actor  ...   Matthew Lillard  Acting, Comedy & Music\n",
              "9  1999         stand-up comedian  ...       David Cross  Acting, Comedy & Music\n",
              "\n",
              "[10 rows x 6 columns]"
            ]
          },
          "metadata": {
            "tags": []
          },
          "execution_count": 20
        }
      ]
    },
    {
      "cell_type": "code",
      "metadata": {
        "id": "xLuCSWZ6u0FW",
        "colab_type": "code",
        "colab": {
          "base_uri": "https://localhost:8080/",
          "height": 601
        },
        "outputId": "d0ebe88d-57ff-4104-bc87-6b0b5a91c8ea"
      },
      "source": [
        "table = pd.crosstab(df['Year'], df['Occupation'], normalize='index')\n",
        "pd.options.display.float_format = '{:20,.4f}'.format\n",
        "table"
      ],
      "execution_count": 33,
      "outputs": [
        {
          "output_type": "execute_result",
          "data": {
            "text/html": [
              "<div>\n",
              "<style scoped>\n",
              "    .dataframe tbody tr th:only-of-type {\n",
              "        vertical-align: middle;\n",
              "    }\n",
              "\n",
              "    .dataframe tbody tr th {\n",
              "        vertical-align: top;\n",
              "    }\n",
              "\n",
              "    .dataframe thead th {\n",
              "        text-align: right;\n",
              "    }\n",
              "</style>\n",
              "<table border=\"1\" class=\"dataframe\">\n",
              "  <thead>\n",
              "    <tr style=\"text-align: right;\">\n",
              "      <th>Occupation</th>\n",
              "      <th>Acting, Comedy &amp; Music</th>\n",
              "      <th>Government and Politics</th>\n",
              "      <th>Media</th>\n",
              "      <th>Other</th>\n",
              "    </tr>\n",
              "    <tr>\n",
              "      <th>Year</th>\n",
              "      <th></th>\n",
              "      <th></th>\n",
              "      <th></th>\n",
              "      <th></th>\n",
              "    </tr>\n",
              "  </thead>\n",
              "  <tbody>\n",
              "    <tr>\n",
              "      <th>1999</th>\n",
              "      <td>0.9036</td>\n",
              "      <td>0.0120</td>\n",
              "      <td>0.0663</td>\n",
              "      <td>0.0181</td>\n",
              "    </tr>\n",
              "    <tr>\n",
              "      <th>2000</th>\n",
              "      <td>0.7396</td>\n",
              "      <td>0.0828</td>\n",
              "      <td>0.1243</td>\n",
              "      <td>0.0533</td>\n",
              "    </tr>\n",
              "    <tr>\n",
              "      <th>2001</th>\n",
              "      <td>0.7261</td>\n",
              "      <td>0.0382</td>\n",
              "      <td>0.1975</td>\n",
              "      <td>0.0382</td>\n",
              "    </tr>\n",
              "    <tr>\n",
              "      <th>2002</th>\n",
              "      <td>0.6226</td>\n",
              "      <td>0.0692</td>\n",
              "      <td>0.2642</td>\n",
              "      <td>0.0440</td>\n",
              "    </tr>\n",
              "    <tr>\n",
              "      <th>2003</th>\n",
              "      <td>0.5602</td>\n",
              "      <td>0.1024</td>\n",
              "      <td>0.2470</td>\n",
              "      <td>0.0904</td>\n",
              "    </tr>\n",
              "    <tr>\n",
              "      <th>2004</th>\n",
              "      <td>0.3841</td>\n",
              "      <td>0.2256</td>\n",
              "      <td>0.2744</td>\n",
              "      <td>0.1159</td>\n",
              "    </tr>\n",
              "    <tr>\n",
              "      <th>2005</th>\n",
              "      <td>0.3704</td>\n",
              "      <td>0.1605</td>\n",
              "      <td>0.3333</td>\n",
              "      <td>0.1358</td>\n",
              "    </tr>\n",
              "    <tr>\n",
              "      <th>2006</th>\n",
              "      <td>0.3602</td>\n",
              "      <td>0.1925</td>\n",
              "      <td>0.2919</td>\n",
              "      <td>0.1553</td>\n",
              "    </tr>\n",
              "    <tr>\n",
              "      <th>2007</th>\n",
              "      <td>0.2553</td>\n",
              "      <td>0.1702</td>\n",
              "      <td>0.3333</td>\n",
              "      <td>0.2411</td>\n",
              "    </tr>\n",
              "    <tr>\n",
              "      <th>2008</th>\n",
              "      <td>0.2073</td>\n",
              "      <td>0.2012</td>\n",
              "      <td>0.4695</td>\n",
              "      <td>0.1220</td>\n",
              "    </tr>\n",
              "    <tr>\n",
              "      <th>2009</th>\n",
              "      <td>0.2086</td>\n",
              "      <td>0.2086</td>\n",
              "      <td>0.3620</td>\n",
              "      <td>0.2209</td>\n",
              "    </tr>\n",
              "    <tr>\n",
              "      <th>2010</th>\n",
              "      <td>0.3515</td>\n",
              "      <td>0.1818</td>\n",
              "      <td>0.3030</td>\n",
              "      <td>0.1636</td>\n",
              "    </tr>\n",
              "    <tr>\n",
              "      <th>2011</th>\n",
              "      <td>0.3374</td>\n",
              "      <td>0.1656</td>\n",
              "      <td>0.3129</td>\n",
              "      <td>0.1840</td>\n",
              "    </tr>\n",
              "    <tr>\n",
              "      <th>2012</th>\n",
              "      <td>0.2683</td>\n",
              "      <td>0.2012</td>\n",
              "      <td>0.3171</td>\n",
              "      <td>0.2134</td>\n",
              "    </tr>\n",
              "    <tr>\n",
              "      <th>2013</th>\n",
              "      <td>0.4277</td>\n",
              "      <td>0.1265</td>\n",
              "      <td>0.3072</td>\n",
              "      <td>0.1386</td>\n",
              "    </tr>\n",
              "    <tr>\n",
              "      <th>2014</th>\n",
              "      <td>0.3926</td>\n",
              "      <td>0.1288</td>\n",
              "      <td>0.3252</td>\n",
              "      <td>0.1534</td>\n",
              "    </tr>\n",
              "    <tr>\n",
              "      <th>2015</th>\n",
              "      <td>0.4500</td>\n",
              "      <td>0.1700</td>\n",
              "      <td>0.2400</td>\n",
              "      <td>0.1400</td>\n",
              "    </tr>\n",
              "  </tbody>\n",
              "</table>\n",
              "</div>"
            ],
            "text/plain": [
              "Occupation  Acting, Comedy & Music  ...                Other\n",
              "Year                                ...                     \n",
              "1999                        0.9036  ...               0.0181\n",
              "2000                        0.7396  ...               0.0533\n",
              "2001                        0.7261  ...               0.0382\n",
              "2002                        0.6226  ...               0.0440\n",
              "2003                        0.5602  ...               0.0904\n",
              "2004                        0.3841  ...               0.1159\n",
              "2005                        0.3704  ...               0.1358\n",
              "2006                        0.3602  ...               0.1553\n",
              "2007                        0.2553  ...               0.2411\n",
              "2008                        0.2073  ...               0.1220\n",
              "2009                        0.2086  ...               0.2209\n",
              "2010                        0.3515  ...               0.1636\n",
              "2011                        0.3374  ...               0.1840\n",
              "2012                        0.2683  ...               0.2134\n",
              "2013                        0.4277  ...               0.1386\n",
              "2014                        0.3926  ...               0.1534\n",
              "2015                        0.4500  ...               0.1400\n",
              "\n",
              "[17 rows x 4 columns]"
            ]
          },
          "metadata": {
            "tags": []
          },
          "execution_count": 33
        }
      ]
    },
    {
      "cell_type": "markdown",
      "metadata": {
        "id": "UthoeNABLwau",
        "colab_type": "text"
      },
      "source": [
        "### Part 2 — Recreate this explanatory visualization:\n",
        "\n"
      ]
    },
    {
      "cell_type": "code",
      "metadata": {
        "id": "oy9dt9l6Lz18",
        "colab_type": "code",
        "outputId": "293d97f8-7cee-4b33-f1ce-e1f2a2e4bec9",
        "colab": {
          "base_uri": "https://localhost:8080/",
          "height": 407
        }
      },
      "source": [
        "from IPython.display import display, Image\n",
        "png = 'https://fivethirtyeight.com/wp-content/uploads/2015/08/hickey-datalab-dailyshow.png'\n",
        "example = Image(png, width=500)\n",
        "display(example)"
      ],
      "execution_count": 34,
      "outputs": [
        {
          "output_type": "display_data",
          "data": {
            "image/png": "[encoded data removed]",
            "text/plain": [
              "<IPython.core.display.Image object>"
            ]
          },
          "metadata": {
            "tags": [],
            "image/png": {
              "width": 500
            }
          }
        }
      ]
    },
    {
      "cell_type": "markdown",
      "metadata": {
        "id": "WEHUhxlTL2w2",
        "colab_type": "text"
      },
      "source": [
        "**Hints:**\n",
        "- You can choose any Python visualization library you want. I've verified the plot can be reproduced with matplotlib, pandas plot, or seaborn. I assume other libraries like altair or plotly would work too.\n",
        "\n",
        "**Expectations:** Your plot should include:\n",
        "- 3 lines visualizing \"occupation of guests, by year.\" The shapes of the lines should look roughly identical to 538's example. Each line should be a different color. (But you don't need to use the _same_ colors as 538.)\n",
        "- Legend **or** labels for the lines. (But **you don't need each label positioned next to its line or colored like 538.**)\n",
        "- Title in the upper left: _\"Who Got To Be On 'The Daily Show'?\"_ with more visual emphasis than the subtitle. (Bolder and/or larger font.)\n",
        "- Subtitle underneath the title: _\"Occupation of guests, by year\"_"
      ]
    },
    {
      "cell_type": "code",
      "metadata": {
        "id": "16Dbt_R7z4_L",
        "colab_type": "code",
        "colab": {}
      },
      "source": [
        "table.reset_index(inplace=True)"
      ],
      "execution_count": 0,
      "outputs": []
    },
    {
      "cell_type": "code",
      "metadata": {
        "id": "J-T3IU__L0ih",
        "colab_type": "code",
        "colab": {
          "base_uri": "https://localhost:8080/",
          "height": 345
        },
        "outputId": "c5d33ac6-164d-4575-ac43-ad40c99a4182"
      },
      "source": [
        "plt.style.use('fivethirtyeight')\n",
        "\n",
        "occupation_to_plot =list(table.columns.to_list()[1:4])\n",
        "\n",
        "ax = table.plot.line(x='Year', y=occupation_to_plot) \n",
        "ax.set_title('Who Got To Be On \"The Daily Show\"?', fontsize=16, fontweight='bold', x=.35, y=1.1)\n",
        "# Set subtitle\n",
        "ax.text(s='Occupation of guests, by year', y=1, x=1997.5, fontsize=14)\n",
        "# manipulate y axis\n",
        "vals = ax.get_yticks()\n",
        "ax.set_yticklabels(['{:,.0%}'.format(x) for x in vals]);\n"
      ],
      "execution_count": 71,
      "outputs": [
        {
          "output_type": "display_data",
          "data": {
            "image/png": "[encoded data removed]",
            "text/plain": [
              "<Figure size 432x288 with 1 Axes>"
            ]
          },
          "metadata": {
            "tags": []
          }
        }
      ]
    },
    {
      "cell_type": "markdown",
      "metadata": {
        "id": "svbK28PWNCic",
        "colab_type": "text"
      },
      "source": [
        "## How to get a 3 on this Sprint Challenge:\n",
        "\n",
        "Once you have completed the above making a solid attempt at each section, if you still have time remaining, you can go back and do any of the following to get a score of 3 on the above sections. Remember that everything in this section is **optional** and that we will average your scores between the different sections, so get the easy points first!\n",
        "\n",
        "Complete any of the following **within** their corresponding sections in the Sprint Challenge (go back up and add these thigns):\n",
        "\n",
        "### Data Wrangling Section 1\n",
        "\n",
        "Filter the `cell_phones` dataframe to only include information about the USA and China and then remake the scatterplot. \n",
        "\n",
        "### Data Wrangling Section 2\n",
        "\n",
        "Explain why we are using an \"inner\" join when we merge these dataframes. \n",
        "\n",
        "### Data Wrangling Section 3\n",
        "\n",
        "Modify the geo column to make the geo codes uppercase instead of lowercase.\n",
        "\n",
        "### Data Wrangling Section 4\n",
        "\n",
        "2017 was the first year that China had more cell phones than people.\n",
        "\n",
        "What was the first year that the USA had more cell phones than people?\n",
        "\n",
        "### Data Storytelling \n",
        "\n",
        "Keep on working on your graph to make it look particularly like the 538 graph by manipulating the graph's background color, the line colors, the x and y axis tick marks/labels, and adding a subtitle. \n",
        "\n",
        "If you have already completed everything else, take this as far as you can within the time limit.\n"
      ]
    }
  ]
}