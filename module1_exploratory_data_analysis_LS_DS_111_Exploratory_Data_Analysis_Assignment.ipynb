{
  "nbformat": 4,
  "nbformat_minor": 0,
  "metadata": {
    "colab": {
      "name": "module1-exploratory-data-analysis/LS_DS_111_Exploratory_Data_Analysis_Assignment.ipynb",
      "provenance": [],
      "collapsed_sections": [],
      "include_colab_link": true
    },
    "kernelspec": {
      "name": "python3",
      "display_name": "Python 3"
    }
  },
  "cells": [
    {
      "cell_type": "markdown",
      "metadata": {
        "id": "view-in-github",
        "colab_type": "text"
      },
      "source": [
        "<a href=\"https://colab.research.google.com/github/geraldm24/DS-Unit-1-Sprint-1-Data-Wrangling-and-Storytelling/blob/master/module1_exploratory_data_analysis_LS_DS_111_Exploratory_Data_Analysis_Assignment.ipynb\" target=\"_parent\"><img src=\"https://colab.research.google.com/assets/colab-badge.svg\" alt=\"Open In Colab\"/></a>"
      ]
    },
    {
      "cell_type": "markdown",
      "metadata": {
        "colab_type": "text",
        "id": "MSnsTgZLKO72"
      },
      "source": [
        "# Practice Loading and Exploring Datasets\n",
        "\n",
        "This assignment is purposely open-ended. You will be asked to load datasets from the [UC-Irvine Machine Learning Repository](https://archive.ics.uci.edu/ml/index.php). \n",
        "\n",
        "Even though you maybe using different datasets than your fellow classmates, try and be supportive and assist each other in the challenges that you are facing. You will only deepend your understanding of these topics as you work to assist one another. Many popular UCI datasets face similar data loading challenges.\n",
        "\n",
        "Remember that the UCI datasets do not necessarily have a file type of `.csv` so it's important that you learn as much as you can about the dataset before you try and load it. See if you can look at the raw text of the file either locally or using the `!curl` shell command -or in some other way before you try and read it in as a dataframe. This will help you catch what would otherwise be unforseen problems.\n",
        "\n",
        "Feel free to embellish this notebook with additional markdown cells,code cells, comments, graphs, etc. Whatever you think helps adequately address the questions."
      ]
    },
    {
      "cell_type": "markdown",
      "metadata": {
        "id": "156P6ndeKojO",
        "colab_type": "text"
      },
      "source": [
        "## 1) Load a dataset from UCI (via its URL)\n",
        "\n",
        "Please navigate to the home page and choose a dataset (other than the Adult dataset) from the \"Most Popular\" section on the right-hand side of the home page. Load the dataset via its URL and check the following (show your work):\n",
        "\n",
        "- Are the headers showing up properly?\n",
        "- Look at the first 5 and the last 5 rows, do they seem to be in order?\n",
        "- Does the dataset have the correct number of rows and columns as described in the UCI page? \n",
        " - Remember, that UCI does not count the y variable (column of values that we might want to predict via a machine learning model) as an \"attribute\" but rather as a \"class attribute\" so you may end up seeing a number of columns that is one greater than the number listed on the UCI website.\n",
        "- Does UCI list this dataset as having missing values? Check for missing values and see if your analysis corroborates what UCI reports?\n",
        "- if `NaN` values or other missing value indicators are not being detected by `df.isnull().sum()` find a way to replace whatever is indicating the missing values with `np.NaN`.\n",
        "- Use the .describe() function in order to see the summary statistics of both the numeric and non-numeric columns. "
      ]
    },
    {
      "cell_type": "code",
      "metadata": {
        "id": "NJdISe69ZT7E",
        "colab_type": "code",
        "colab": {}
      },
      "source": [
        "# TODO your work here!\n",
        "# And note you should write comments, descriptions, and add new\n",
        "# code and text blocks as needed\n",
        "\n",
        "\n",
        "cancer_data_url = 'https://archive.ics.uci.edu/ml/machine-learning-databases/breast-cancer/breast-cancer.data'"
      ],
      "execution_count": 0,
      "outputs": []
    },
    {
      "cell_type": "code",
      "metadata": {
        "id": "NgQex7yz-dPo",
        "colab_type": "code",
        "outputId": "c3c54e0d-fbdb-4e18-df1a-51d05bcc473d",
        "colab": {
          "base_uri": "https://localhost:8080/",
          "height": 289
        }
      },
      "source": [
        "import pandas as pd\n",
        "column_headers = ['Class', 'age', 'menopause', 'tumor-size', 'inv-nodes', 'node-caps', 'deg-malig', 'breast', \n",
        "                  'breast-quad', 'irradiat']\n",
        "df1 = pd.read_csv(cancer_data_url , names = column_headers)\n",
        "print(df1.head()) \n",
        "print(df1.tail())"
      ],
      "execution_count": 0,
      "outputs": [
        {
          "output_type": "stream",
          "text": [
            "                  Class    age menopause  ... breast breast-quad irradiat\n",
            "0  no-recurrence-events  30-39   premeno  ...   left    left_low       no\n",
            "1  no-recurrence-events  40-49   premeno  ...  right    right_up       no\n",
            "2  no-recurrence-events  40-49   premeno  ...   left    left_low       no\n",
            "3  no-recurrence-events  60-69      ge40  ...  right     left_up       no\n",
            "4  no-recurrence-events  40-49   premeno  ...  right   right_low       no\n",
            "\n",
            "[5 rows x 10 columns]\n",
            "                 Class    age menopause  ... breast breast-quad irradiat\n",
            "281  recurrence-events  30-39   premeno  ...   left     left_up       no\n",
            "282  recurrence-events  30-39   premeno  ...   left     left_up      yes\n",
            "283  recurrence-events  60-69      ge40  ...  right     left_up       no\n",
            "284  recurrence-events  40-49      ge40  ...   left    left_low       no\n",
            "285  recurrence-events  50-59      ge40  ...   left    left_low       no\n",
            "\n",
            "[5 rows x 10 columns]\n"
          ],
          "name": "stdout"
        }
      ]
    },
    {
      "cell_type": "code",
      "metadata": {
        "id": "BWq6pNj2DldK",
        "colab_type": "code",
        "outputId": "57253788-0282-45d1-a93c-f009d3d0e4b6",
        "colab": {
          "base_uri": "https://localhost:8080/",
          "height": 1000
        }
      },
      "source": [
        "!curl \"https://archive.ics.uci.edu/ml/machine-learning-databases/breast-cancer/breast-cancer.names\""
      ],
      "execution_count": 0,
      "outputs": [
        {
          "output_type": "stream",
          "text": [
            "Citation Request:\n",
            "   This breast cancer domain was obtained from the University Medical Centre,\n",
            "   Institute of Oncology, Ljubljana, Yugoslavia.  Thanks go to M. Zwitter and \n",
            "   M. Soklic for providing the data.  Please include this citation if you plan\n",
            "   to use this database.\n",
            "\n",
            "1. Title: Breast cancer data (Michalski has used this)\n",
            "\n",
            "2. Sources: \n",
            "   -- Matjaz Zwitter & Milan Soklic (physicians)\n",
            "      Institute of Oncology \n",
            "      University Medical Center\n",
            "      Ljubljana, Yugoslavia\n",
            "   -- Donors: Ming Tan and Jeff Schlimmer (Jeffrey.Schlimmer@a.gp.cs.cmu.edu)\n",
            "   -- Date: 11 July 1988\n",
            "\n",
            "3. Past Usage: (Several: here are some)\n",
            "     -- Michalski,R.S., Mozetic,I., Hong,J., & Lavrac,N. (1986). The \n",
            "        Multi-Purpose Incremental Learning System AQ15 and its Testing \n",
            "        Application to Three Medical Domains.  In Proceedings of the \n",
            "        Fifth National Conference on Artificial Intelligence, 1041-1045,\n",
            "        Philadelphia, PA: Morgan Kaufmann.\n",
            "        -- accuracy range: 66%-72%\n",
            "     -- Clark,P. & Niblett,T. (1987). Induction in Noisy Domains.  In \n",
            "        Progress in Machine Learning (from the Proceedings of the 2nd\n",
            "        European Working Session on Learning), 11-30, Bled, \n",
            "        Yugoslavia: Sigma Press.\n",
            "        -- 8 test results given: 65%-72% accuracy range\n",
            "     -- Tan, M., & Eshelman, L. (1988). Using weighted networks to \n",
            "        represent classification knowledge in noisy domains.  Proceedings \n",
            "        of the Fifth International Conference on Machine Learning, 121-134,\n",
            "        Ann Arbor, MI.\n",
            "        -- 4 systems tested: accuracy range was 68%-73.5%\n",
            "    -- Cestnik,G., Konenenko,I, & Bratko,I. (1987). Assistant-86: A\n",
            "       Knowledge-Elicitation Tool for Sophisticated Users.  In I.Bratko\n",
            "       & N.Lavrac (Eds.) Progress in Machine Learning, 31-45, Sigma Press.\n",
            "       -- Assistant-86: 78% accuracy\n",
            "\n",
            "4. Relevant Information:\n",
            "     This is one of three domains provided by the Oncology Institute\n",
            "     that has repeatedly appeared in the machine learning literature.\n",
            "     (See also lymphography and primary-tumor.)\n",
            "\n",
            "     This data set includes 201 instances of one class and 85 instances of\n",
            "     another class.  The instances are described by 9 attributes, some of\n",
            "     which are linear and some are nominal.\n",
            "\n",
            "5. Number of Instances: 286\n",
            "\n",
            "6. Number of Attributes: 9 + the class attribute\n",
            "\n",
            "7. Attribute Information:\n",
            "   1. Class: no-recurrence-events, recurrence-events\n",
            "   2. age: 10-19, 20-29, 30-39, 40-49, 50-59, 60-69, 70-79, 80-89, 90-99.\n",
            "   3. menopause: lt40, ge40, premeno.\n",
            "   4. tumor-size: 0-4, 5-9, 10-14, 15-19, 20-24, 25-29, 30-34, 35-39, 40-44,\n",
            "                  45-49, 50-54, 55-59.\n",
            "   5. inv-nodes: 0-2, 3-5, 6-8, 9-11, 12-14, 15-17, 18-20, 21-23, 24-26,\n",
            "                 27-29, 30-32, 33-35, 36-39.\n",
            "   6. node-caps: yes, no.\n",
            "   7. deg-malig: 1, 2, 3.\n",
            "   8. breast: left, right.\n",
            "   9. breast-quad: left-up, left-low, right-up,\tright-low, central.\n",
            "  10. irradiat:\tyes, no.\n",
            "\n",
            "8. Missing Attribute Values: (denoted by \"?\")\n",
            "   Attribute #:  Number of instances with missing values:\n",
            "   6.             8\n",
            "   9.             1.\n",
            "\n",
            "9. Class Distribution:\n",
            "    1. no-recurrence-events: 201 instances\n",
            "    2. recurrence-events: 85 instances"
          ],
          "name": "stdout"
        }
      ]
    },
    {
      "cell_type": "code",
      "metadata": {
        "id": "0OE4XXMCGYW5",
        "colab_type": "code",
        "outputId": "d50f63e3-991e-46a8-f91b-f9249e77e38c",
        "colab": {
          "base_uri": "https://localhost:8080/",
          "height": 204
        }
      },
      "source": [
        "df1.isnull().any(axis=0)"
      ],
      "execution_count": 0,
      "outputs": [
        {
          "output_type": "execute_result",
          "data": {
            "text/plain": [
              "Class          False\n",
              "age            False\n",
              "menopause      False\n",
              "tumor-size     False\n",
              "inv-nodes      False\n",
              "node-caps      False\n",
              "deg-malig      False\n",
              "breast         False\n",
              "breast-quad    False\n",
              "irradiat       False\n",
              "dtype: bool"
            ]
          },
          "metadata": {
            "tags": []
          },
          "execution_count": 29
        }
      ]
    },
    {
      "cell_type": "code",
      "metadata": {
        "id": "Fbrd9_b2HfwA",
        "colab_type": "code",
        "colab": {}
      },
      "source": [
        "df1.describe"
      ],
      "execution_count": 0,
      "outputs": []
    },
    {
      "cell_type": "markdown",
      "metadata": {
        "id": "-gFnZR6iLLPY",
        "colab_type": "text"
      },
      "source": [
        "## 2) Load a dataset from your local machine.\n",
        "Choose a second dataset from the \"Popular Datasets\" listing on UCI, but this time download it to your local machine instead of reading it in via the URL. Upload the file to Google Colab using the files tab in the left-hand sidebar or by importing `files` from `google.colab` The following link will be a useful resource if you can't remember the syntax: <https://towardsdatascience.com/3-ways-to-load-csv-files-into-colab-7c14fcbdcb92>\n",
        "\n",
        "- Answer all of the same bullet point questions from part 1 again on this new dataset. \n"
      ]
    },
    {
      "cell_type": "code",
      "metadata": {
        "id": "qUmwX-ZoM9cq",
        "colab_type": "code",
        "outputId": "f57ec6e7-5682-4444-af8b-3043b40b29bc",
        "colab": {
          "resources": {
            "http://localhost:8080/nbextensions/google.colab/files.js": {
              "data": "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",
              "ok": true,
              "headers": [
                [
                  "content-type",
                  "application/javascript"
                ]
              ],
              "status": 200,
              "status_text": ""
            }
          },
          "base_uri": "https://localhost:8080/",
          "height": 240
        }
      },
      "source": [
        "# TODO your work here!\n",
        "# And note you should write comments, descriptions, and add new\n",
        "# code and text blocks as needed\n",
        "from google.colab import files\n",
        "uploaded = files.upload()\n",
        "\n",
        "df = pd.read_csv(\"bands.data\")\n",
        "#, names=column_headers)\n",
        "df.head()"
      ],
      "execution_count": 51,
      "outputs": [
        {
          "output_type": "display_data",
          "data": {
            "text/html": [
              "\n",
              "     <input type=\"file\" id=\"files-5b26e85b-ef59-418b-886d-60f25be37a6e\" name=\"files[]\" multiple disabled />\n",
              "     <output id=\"result-5b26e85b-ef59-418b-886d-60f25be37a6e\">\n",
              "      Upload widget is only available when the cell has been executed in the\n",
              "      current browser session. Please rerun this cell to enable.\n",
              "      </output>\n",
              "      <script src=\"/nbextensions/google.colab/files.js\"></script> "
            ],
            "text/plain": [
              "<IPython.core.display.HTML object>"
            ]
          },
          "metadata": {
            "tags": []
          }
        },
        {
          "output_type": "execute_result",
          "data": {
            "text/html": [
              "<div>\n",
              "<style scoped>\n",
              "    .dataframe tbody tr th:only-of-type {\n",
              "        vertical-align: middle;\n",
              "    }\n",
              "\n",
              "    .dataframe tbody tr th {\n",
              "        vertical-align: top;\n",
              "    }\n",
              "\n",
              "    .dataframe thead th {\n",
              "        text-align: right;\n",
              "    }\n",
              "</style>\n",
              "<table border=\"1\" class=\"dataframe\">\n",
              "  <thead>\n",
              "    <tr style=\"text-align: right;\">\n",
              "      <th></th>\n",
              "      <th>19910108</th>\n",
              "      <th>X126</th>\n",
              "      <th>TVGUIDE</th>\n",
              "      <th>25503</th>\n",
              "      <th>YES</th>\n",
              "      <th>KEY</th>\n",
              "      <th>YES.1</th>\n",
              "      <th>BENTON</th>\n",
              "      <th>GALLATIN</th>\n",
              "      <th>UNCOATED</th>\n",
              "      <th>UNCOATED.1</th>\n",
              "      <th>NO</th>\n",
              "      <th>LINE</th>\n",
              "      <th>YES.2</th>\n",
              "      <th>Motter94</th>\n",
              "      <th>821</th>\n",
              "      <th>2</th>\n",
              "      <th>TABLOID</th>\n",
              "      <th>NorthUS</th>\n",
              "      <th>1911</th>\n",
              "      <th>55</th>\n",
              "      <th>46</th>\n",
              "      <th>0.2</th>\n",
              "      <th>17</th>\n",
              "      <th>78</th>\n",
              "      <th>0.75</th>\n",
              "      <th>20</th>\n",
              "      <th>13.1</th>\n",
              "      <th>1700</th>\n",
              "      <th>50.5</th>\n",
              "      <th>36.4</th>\n",
              "      <th>0</th>\n",
              "      <th>0.1</th>\n",
              "      <th>2.5</th>\n",
              "      <th>1</th>\n",
              "      <th>34</th>\n",
              "      <th>40</th>\n",
              "      <th>105</th>\n",
              "      <th>100</th>\n",
              "      <th>band</th>\n",
              "    </tr>\n",
              "  </thead>\n",
              "  <tbody>\n",
              "    <tr>\n",
              "      <th>0</th>\n",
              "      <td>19910109</td>\n",
              "      <td>X266</td>\n",
              "      <td>TVGUIDE</td>\n",
              "      <td>25503</td>\n",
              "      <td>YES</td>\n",
              "      <td>KEY</td>\n",
              "      <td>YES</td>\n",
              "      <td>BENTON</td>\n",
              "      <td>GALLATIN</td>\n",
              "      <td>UNCOATED</td>\n",
              "      <td>UNCOATED</td>\n",
              "      <td>NO</td>\n",
              "      <td>LINE</td>\n",
              "      <td>YES</td>\n",
              "      <td>Motter94</td>\n",
              "      <td>821</td>\n",
              "      <td>2.0</td>\n",
              "      <td>TABLOID</td>\n",
              "      <td>NorthUS</td>\n",
              "      <td>?</td>\n",
              "      <td>55</td>\n",
              "      <td>46</td>\n",
              "      <td>0.3</td>\n",
              "      <td>15</td>\n",
              "      <td>80</td>\n",
              "      <td>0.75</td>\n",
              "      <td>20</td>\n",
              "      <td>6.6</td>\n",
              "      <td>1900</td>\n",
              "      <td>54.9</td>\n",
              "      <td>38.5</td>\n",
              "      <td>0</td>\n",
              "      <td>0</td>\n",
              "      <td>2.5</td>\n",
              "      <td>0.7</td>\n",
              "      <td>34</td>\n",
              "      <td>40</td>\n",
              "      <td>105</td>\n",
              "      <td>100</td>\n",
              "      <td>noband</td>\n",
              "    </tr>\n",
              "    <tr>\n",
              "      <th>1</th>\n",
              "      <td>19910104</td>\n",
              "      <td>B7</td>\n",
              "      <td>MODMAT</td>\n",
              "      <td>47201</td>\n",
              "      <td>YES</td>\n",
              "      <td>KEY</td>\n",
              "      <td>YES</td>\n",
              "      <td>BENTON</td>\n",
              "      <td>GALLATIN</td>\n",
              "      <td>UNCOATED</td>\n",
              "      <td>COATED</td>\n",
              "      <td>NO</td>\n",
              "      <td>LINE</td>\n",
              "      <td>YES</td>\n",
              "      <td>WoodHoe70</td>\n",
              "      <td>815</td>\n",
              "      <td>9.0</td>\n",
              "      <td>CATALOG</td>\n",
              "      <td>NorthUS</td>\n",
              "      <td>?</td>\n",
              "      <td>62</td>\n",
              "      <td>40</td>\n",
              "      <td>0.433</td>\n",
              "      <td>16</td>\n",
              "      <td>80</td>\n",
              "      <td>?</td>\n",
              "      <td>30</td>\n",
              "      <td>6.5</td>\n",
              "      <td>1850</td>\n",
              "      <td>53.8</td>\n",
              "      <td>39.8</td>\n",
              "      <td>0</td>\n",
              "      <td>0</td>\n",
              "      <td>2.8</td>\n",
              "      <td>0.9</td>\n",
              "      <td>40</td>\n",
              "      <td>40</td>\n",
              "      <td>103.87</td>\n",
              "      <td>100</td>\n",
              "      <td>noband</td>\n",
              "    </tr>\n",
              "    <tr>\n",
              "      <th>2</th>\n",
              "      <td>19910104</td>\n",
              "      <td>T133</td>\n",
              "      <td>MASSEY</td>\n",
              "      <td>39039</td>\n",
              "      <td>YES</td>\n",
              "      <td>KEY</td>\n",
              "      <td>YES</td>\n",
              "      <td>BENTON</td>\n",
              "      <td>GALLATIN</td>\n",
              "      <td>UNCOATED</td>\n",
              "      <td>UNCOATED</td>\n",
              "      <td>NO</td>\n",
              "      <td>LINE</td>\n",
              "      <td>YES</td>\n",
              "      <td>WoodHoe70</td>\n",
              "      <td>816</td>\n",
              "      <td>9.0</td>\n",
              "      <td>CATALOG</td>\n",
              "      <td>NorthUS</td>\n",
              "      <td>1910</td>\n",
              "      <td>52</td>\n",
              "      <td>40</td>\n",
              "      <td>0.3</td>\n",
              "      <td>16</td>\n",
              "      <td>75</td>\n",
              "      <td>0.3125</td>\n",
              "      <td>30</td>\n",
              "      <td>5.6</td>\n",
              "      <td>1467</td>\n",
              "      <td>55.6</td>\n",
              "      <td>38.8</td>\n",
              "      <td>0</td>\n",
              "      <td>0</td>\n",
              "      <td>2.5</td>\n",
              "      <td>1.3</td>\n",
              "      <td>40</td>\n",
              "      <td>40</td>\n",
              "      <td>108.06</td>\n",
              "      <td>100</td>\n",
              "      <td>noband</td>\n",
              "    </tr>\n",
              "    <tr>\n",
              "      <th>3</th>\n",
              "      <td>19910111</td>\n",
              "      <td>J34</td>\n",
              "      <td>KMART</td>\n",
              "      <td>37351</td>\n",
              "      <td>NO</td>\n",
              "      <td>KEY</td>\n",
              "      <td>YES</td>\n",
              "      <td>BENTON</td>\n",
              "      <td>GALLATIN</td>\n",
              "      <td>UNCOATED</td>\n",
              "      <td>COATED</td>\n",
              "      <td>NO</td>\n",
              "      <td>LINE</td>\n",
              "      <td>YES</td>\n",
              "      <td>WoodHoe70</td>\n",
              "      <td>816</td>\n",
              "      <td>2.0</td>\n",
              "      <td>TABLOID</td>\n",
              "      <td>?</td>\n",
              "      <td>1910</td>\n",
              "      <td>50</td>\n",
              "      <td>46</td>\n",
              "      <td>0.3</td>\n",
              "      <td>17</td>\n",
              "      <td>80</td>\n",
              "      <td>0.75</td>\n",
              "      <td>30</td>\n",
              "      <td>0</td>\n",
              "      <td>2100</td>\n",
              "      <td>57.5</td>\n",
              "      <td>42.5</td>\n",
              "      <td>5</td>\n",
              "      <td>0</td>\n",
              "      <td>2.3</td>\n",
              "      <td>0.6</td>\n",
              "      <td>35</td>\n",
              "      <td>40</td>\n",
              "      <td>106.67</td>\n",
              "      <td>100</td>\n",
              "      <td>noband</td>\n",
              "    </tr>\n",
              "    <tr>\n",
              "      <th>4</th>\n",
              "      <td>19910104</td>\n",
              "      <td>T218</td>\n",
              "      <td>MASSEY</td>\n",
              "      <td>38039</td>\n",
              "      <td>YES</td>\n",
              "      <td>KEY</td>\n",
              "      <td>YES</td>\n",
              "      <td>BENTON</td>\n",
              "      <td>GALLATIN</td>\n",
              "      <td>UNCOATED</td>\n",
              "      <td>UNCOATED</td>\n",
              "      <td>NO</td>\n",
              "      <td>LINE</td>\n",
              "      <td>YES</td>\n",
              "      <td>WoodHoe70</td>\n",
              "      <td>816</td>\n",
              "      <td>2.0</td>\n",
              "      <td>CATALOG</td>\n",
              "      <td>NorthUS</td>\n",
              "      <td>1910</td>\n",
              "      <td>50</td>\n",
              "      <td>40</td>\n",
              "      <td>0.267</td>\n",
              "      <td>16.8</td>\n",
              "      <td>76</td>\n",
              "      <td>0.4375</td>\n",
              "      <td>28</td>\n",
              "      <td>8.6</td>\n",
              "      <td>1467</td>\n",
              "      <td>53.8</td>\n",
              "      <td>37.6</td>\n",
              "      <td>5</td>\n",
              "      <td>0</td>\n",
              "      <td>2.5</td>\n",
              "      <td>0.8</td>\n",
              "      <td>40</td>\n",
              "      <td>40</td>\n",
              "      <td>103.87</td>\n",
              "      <td>100</td>\n",
              "      <td>noband</td>\n",
              "    </tr>\n",
              "  </tbody>\n",
              "</table>\n",
              "</div>"
            ],
            "text/plain": [
              "   19910108  X126  TVGUIDE  25503  YES  KEY  ...    1  34  40     105  100    band\n",
              "0  19910109  X266  TVGUIDE  25503  YES  KEY  ...  0.7  34  40     105  100  noband\n",
              "1  19910104    B7   MODMAT  47201  YES  KEY  ...  0.9  40  40  103.87  100  noband\n",
              "2  19910104  T133   MASSEY  39039  YES  KEY  ...  1.3  40  40  108.06  100  noband\n",
              "3  19910111   J34    KMART  37351   NO  KEY  ...  0.6  35  40  106.67  100  noband\n",
              "4  19910104  T218   MASSEY  38039  YES  KEY  ...  0.8  40  40  103.87  100  noband\n",
              "\n",
              "[5 rows x 40 columns]"
            ]
          },
          "metadata": {
            "tags": []
          },
          "execution_count": 51
        }
      ]
    },
    {
      "cell_type": "code",
      "metadata": {
        "id": "eIPEUYNkIxJg",
        "colab_type": "code",
        "colab": {}
      },
      "source": [
        "!curl https://archive.ics.uci.edu/ml/machine-learning-databases/cylinder-bands/bands.names\n",
        "\n"
      ],
      "execution_count": 0,
      "outputs": []
    },
    {
      "cell_type": "code",
      "metadata": {
        "id": "lhJ-LiwBWS3s",
        "colab_type": "code",
        "colab": {
          "base_uri": "https://localhost:8080/",
          "height": 308
        },
        "outputId": "a148450d-3c8d-49f1-9392-94b75d4fedea"
      },
      "source": [
        "import pandas as pd\n",
        "column_headers = [ 'timestamp' ,'cylinder number' ,'customer' ,'job number' ,'nominal' \n",
        "                  ,'grain screened' ,'ink color' ,'proof on ctd ink' ,'blade mfg' \n",
        "\t\t\t\t\t\t\t\t\t,'cylinder division' ,'paper type' ,'ink type' ,'direct steam' , 'solvent type'\n",
        "\t\t\t\t\t\t\t\t\t,'type on cylinder' ,'press type' , 'press' ,'unit number' ,'cylinder size'\n",
        "\t                ,'paper mill location' ,'plating tank' ,'proof cut' ,'viscosity' ,'caliper' \n",
        "\t\t\t\t\t\t\t\t\t,'ink temperature' ,'humifity' ,'roughness' ,'blade pressure' ,'varnish pct' \n",
        "\t\t\t\t\t\t\t\t\t,'press speed' ,'ink pct' ,'solvent pct','ESA Voltage' , 'ESA Amperage', 'wax' \n",
        "\t\t\t\t\t\t\t\t\t,'hardener' ,'roller durometer','current density','anode space ratio','chrome content' \n",
        "\t\t\t\t\t\t\t\t\t,'band']\n",
        "df = pd.read_csv('bands.data' , names = column_headers)\n",
        "print(df.head()) \n",
        "print(df.tail())"
      ],
      "execution_count": 53,
      "outputs": [
        {
          "output_type": "stream",
          "text": [
            "  timestamp cylinder number customer  ... anode space ratio chrome content band\n",
            "0  19910108            X126  TVGUIDE  ...               100           band  NaN\n",
            "1  19910109            X266  TVGUIDE  ...               100         noband  NaN\n",
            "2  19910104              B7   MODMAT  ...               100         noband  NaN\n",
            "3  19910104            T133   MASSEY  ...               100         noband  NaN\n",
            "4  19910111             J34    KMART  ...               100         noband  NaN\n",
            "\n",
            "[5 rows x 41 columns]\n",
            "    timestamp cylinder number customer  ... anode space ratio chrome content band\n",
            "536  19941005            aa66    kmart  ...               100           band  NaN\n",
            "537  19941009             j44     best  ...               100           band  NaN\n",
            "538  19941009            aa58    kmart  ...               100           band  NaN\n",
            "539  19941010            aa70    kmart  ...               100           band  NaN\n",
            "540  19941010             j70     best  ...               100           band  NaN\n",
            "\n",
            "[5 rows x 41 columns]\n"
          ],
          "name": "stdout"
        }
      ]
    },
    {
      "cell_type": "markdown",
      "metadata": {
        "id": "mq_aQjxlM-u5",
        "colab_type": "text"
      },
      "source": [
        "## 3) Make Crosstabs of the Categorical Variables\n",
        "\n",
        "Take whichever of the above datasets has more categorical variables and use crosstabs to tabulate the different instances of the categorical variables.\n"
      ]
    },
    {
      "cell_type": "code",
      "metadata": {
        "id": "9-n9-LTM-18p",
        "colab_type": "code",
        "outputId": "d0ac4620-5232-4dff-f386-318054a3271d",
        "colab": {
          "base_uri": "https://localhost:8080/",
          "height": 296
        }
      },
      "source": [
        "# Your Code Here \n",
        "pd.crosstab(df1['age'], df1['menopause']).plot()"
      ],
      "execution_count": 0,
      "outputs": [
        {
          "output_type": "execute_result",
          "data": {
            "text/plain": [
              "<matplotlib.axes._subplots.AxesSubplot at 0x7ffb33945908>"
            ]
          },
          "metadata": {
            "tags": []
          },
          "execution_count": 30
        },
        {
          "output_type": "display_data",
          "data": {
            "image/png": "[encoded data removed]",
            "text/plain": [
              "<Figure size 432x288 with 1 Axes>"
            ]
          },
          "metadata": {
            "tags": []
          }
        }
      ]
    },
    {
      "cell_type": "code",
      "metadata": {
        "id": "INH4KzQfPUNs",
        "colab_type": "code",
        "colab": {}
      },
      "source": [
        ""
      ],
      "execution_count": 0,
      "outputs": []
    },
    {
      "cell_type": "markdown",
      "metadata": {
        "id": "OJ4t2IAk-6Vg",
        "colab_type": "text"
      },
      "source": [
        "## 4) Explore the distributions of the variables of the dataset using:\n",
        "- Histograms\n",
        "- Scatterplots\n",
        "- Density Plots"
      ]
    },
    {
      "cell_type": "code",
      "metadata": {
        "id": "DhES5WmH_NFt",
        "colab_type": "code",
        "outputId": "6016551e-063c-40fb-e9ca-8c91bf8ccb64",
        "colab": {
          "base_uri": "https://localhost:8080/",
          "height": 282
        }
      },
      "source": [
        "# Your Code Here\n",
        "df1['deg-malig'].hist(bins=3)"
      ],
      "execution_count": 0,
      "outputs": [
        {
          "output_type": "execute_result",
          "data": {
            "text/plain": [
              "<matplotlib.axes._subplots.AxesSubplot at 0x7ffb32f26320>"
            ]
          },
          "metadata": {
            "tags": []
          },
          "execution_count": 43
        },
        {
          "output_type": "display_data",
          "data": {
            "image/png": "[encoded data removed]",
            "text/plain": [
              "<Figure size 432x288 with 1 Axes>"
            ]
          },
          "metadata": {
            "tags": []
          }
        }
      ]
    },
    {
      "cell_type": "markdown",
      "metadata": {
        "id": "LXXTzpgp_N0q",
        "colab_type": "text"
      },
      "source": [
        "## 5) Create at least one visualization from a crosstab:\n",
        "\n",
        "Remember that a crosstab is just a dataframe and can be manipulated in the same way by row index, column, index, or column/row/cell position.\n"
      ]
    },
    {
      "cell_type": "code",
      "metadata": {
        "id": "kBQKXHUa_VxM",
        "colab_type": "code",
        "outputId": "c7238d86-474d-4fd6-b1e5-24f1e7d2ef20",
        "colab": {
          "base_uri": "https://localhost:8080/",
          "height": 318
        }
      },
      "source": [
        "# Your Code Here\n",
        "pd.crosstab(df1['age'], df1['deg-malig']).plot(kind=\"bar\" , stacked=True)"
      ],
      "execution_count": 0,
      "outputs": [
        {
          "output_type": "execute_result",
          "data": {
            "text/plain": [
              "<matplotlib.axes._subplots.AxesSubplot at 0x7ffb32e94f60>"
            ]
          },
          "metadata": {
            "tags": []
          },
          "execution_count": 47
        },
        {
          "output_type": "display_data",
          "data": {
            "image/png": "[encoded data removed]",
            "text/plain": [
              "<Figure size 432x288 with 1 Axes>"
            ]
          },
          "metadata": {
            "tags": []
          }
        }
      ]
    },
    {
      "cell_type": "markdown",
      "metadata": {
        "id": "MZCxTwKuReV9",
        "colab_type": "text"
      },
      "source": [
        "## Stretch Goals \n",
        "\n",
        "The following additional study tasks are optional, they are intended to give you an opportunity to stretch yourself beyond the main requirements of the assignment. You can pick and choose from the below, you do not need to complete them in any particular order.\n",
        "\n",
        "### - Practice Exploring other Datasets\n",
        "\n",
        "### -  Try using the Seaborn plotting library's \"Pairplot\" functionality in order to explore all of the possible histograms and scatterplots of your dataset all at once:\n",
        "\n",
        "[Seaborn Pairplot](https://seaborn.pydata.org/generated/seaborn.pairplot.html)\n",
        "\n",
        "### - Turn some of the continuous variables into categorical variables by binning the values using:\n",
        "- [pd.cut()](https://pandas.pydata.org/pandas-docs/version/0.23.4/generated/pandas.cut.html)\n",
        "- [pd.qcut()](https://pandas.pydata.org/pandas-docs/stable/reference/api/pandas.qcut.html)\n",
        "- <https://stackoverflow.com/questions/30211923/what-is-the-difference-between-pandas-qcut-and-pandas-cut>\n",
        "\n",
        "And then use crosstabs to compare/visualize these binned variables against the other variables.\n",
        "\n",
        "\n",
        "### - Other types and sources of data\n",
        "Not all data comes in a nice single file - for example, image classification involves handling lots of image files. You still will probably want labels for them, so you may have tabular data in addition to the image blobs - and the images may be reduced in resolution and even fit in a regular csv as a bunch of numbers.\n",
        "\n",
        "If you're interested in natural language processing and analyzing text, that is another example where, while it can be put in a csv, you may end up loading much larger raw data and generating features that can then be thought of in a more standard tabular fashion.\n",
        "\n",
        "Overall you will in the course of learning data science deal with loading data in a variety of ways. Another common way to get data is from a database - most modern applications are backed by one or more databases, which you can query to get data to analyze. We'll cover this more in our data engineering unit.\n",
        "\n",
        "How does data get in the database? Most applications generate logs - text files with lots and lots of records of each use of the application. Databases are often populated based on these files, but in some situations you may directly analyze log files. The usual way to do this is with command line (Unix) tools - command lines are intimidating, so don't expect to learn them all at once, but depending on your interests it can be useful to practice.\n",
        "\n",
        "One last major source of data is APIs: https://github.com/toddmotto/public-apis\n",
        "\n",
        "API stands for Application Programming Interface, and while originally meant e.g. the way an application interfaced with the GUI or other aspects of an operating system, now it largely refers to online services that let you query and retrieve data. You can essentially think of most of them as \"somebody else's database\" - you have (usually limited) access.\n",
        "\n",
        "*Stretch goal* - research one of the above extended forms of data/data loading. See if you can get a basic example working in a notebook. Image, text, or (public) APIs are probably more tractable - databases are interesting, but there aren't many publicly accessible and they require a great deal of setup."
      ]
    },
    {
      "cell_type": "code",
      "metadata": {
        "id": "f4QP6--JBXNK",
        "colab_type": "code",
        "colab": {}
      },
      "source": [
        ""
      ],
      "execution_count": 0,
      "outputs": []
    }
  ]
}