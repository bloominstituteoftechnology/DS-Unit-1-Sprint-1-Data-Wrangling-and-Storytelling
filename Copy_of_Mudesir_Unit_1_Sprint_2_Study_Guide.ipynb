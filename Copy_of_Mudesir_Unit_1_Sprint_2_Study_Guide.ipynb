{
  "nbformat": 4,
  "nbformat_minor": 0,
  "metadata": {
    "colab": {
      "name": "Copy of Mudesir_Unit 1 Sprint 2 - Study Guide.ipynb",
      "provenance": [],
      "collapsed_sections": [
        "sj5-1Nnkpej6"
      ],
      "include_colab_link": true
    },
    "kernelspec": {
      "name": "python3",
      "display_name": "Python 3"
    }
  },
  "cells": [
    {
      "cell_type": "markdown",
      "metadata": {
        "id": "view-in-github",
        "colab_type": "text"
      },
      "source": [
        "<a href=\"https://colab.research.google.com/github/mudesir/DS-Unit-1-Sprint-1-Data-Wrangling-and-Storytelling/blob/master/Copy_of_Mudesir_Unit_1_Sprint_2_Study_Guide.ipynb\" target=\"_parent\"><img src=\"https://colab.research.google.com/assets/colab-badge.svg\" alt=\"Open In Colab\"/></a>"
      ]
    },
    {
      "cell_type": "markdown",
      "metadata": {
        "id": "Nd2OOOVXxXS1",
        "colab_type": "text"
      },
      "source": [
        "This study guide should reinforce and provide practice for all of the concepts you have seen in Unit 1 Sprint 2. There are a mix of written questions and coding exercises, both are equally important to prepare you for the sprint challenge as well as to be able to speak on these topics comfortably in interviews and on the job.\n",
        "\n",
        "If you get stuck or are unsure of something remember the 20 minute rule. If that doesn't help, then research a solution with google and stackoverflow. Only once you have exausted these methods should you turn to your Team Lead - they won't be there on your SC or during an interview. That being said, don't hesitate to ask for help if you truly are stuck.\n",
        "\n",
        "Have fun studying!"
      ]
    },
    {
      "cell_type": "markdown",
      "metadata": {
        "id": "fpvInKdXekFi",
        "colab_type": "text"
      },
      "source": [
        "## Questions"
      ]
    },
    {
      "cell_type": "markdown",
      "metadata": {
        "id": "Q6bS8AhBZ86H",
        "colab_type": "text"
      },
      "source": [
        "When completing this section, try to limit your answers to 2-3 sentences max and use plain english as much as possible. It's very easy to hide incomplete knowledge and undertanding behind fancy or technical words, so imagine you are explaining these things to a non-technical interviewer.\n",
        "\n",
        "1. What is a CSV and how do you load it into a notebook?\n",
        "```\n",
        "Comma Separated Values (CSV) is file delimited by comma to separate valueses. Each line of the line is a data record which consists of one or more fields. You can load the CSV file to notebook from url or your matchine using 'read_csv' function.\n",
        "```\n",
        "\n",
        "2. What is a NaN and what will you do with it?\n",
        "```\n",
        "NaN stands for \"Not a Number\", is a numeric data type that can be interpreted as a value that is undefined or unrepresentable. It may also be a placeholder for an expected numeric result that cannot be defined as a floting point number. You will handle it by filling some value or by dropping it for its missing values.\n",
        "```\n",
        "\n",
        "3. How do you check for datatypes?\n",
        "```\n",
        "We check the data type using the command .dtypes or by calling type() function \n",
        "```\n",
        "\n",
        "4. What is Crosstabs and what are they used for?\n",
        "''' Crosstab is a function which is used to compute a simple cross tabulation of two or more columns\n",
        "\n",
        "```\n",
        "5. What is the difference between a T-Test and a P-Test?\n",
        "```\n",
        "The T-Test compares two averages and tells you if they are different and how significant. The P-Values is the probability that your sample data occured by chance. \n",
        "```"
      ]
    },
    {
      "cell_type": "markdown",
      "metadata": {
        "id": "sj5-1Nnkpej6",
        "colab_type": "text"
      },
      "source": [
        "### what to study. Use this section as a reasearch guide. There is nothing to answer here only keywords to help you seach for things and get you familiar with what to look for when researching. \n"
      ]
    },
    {
      "cell_type": "markdown",
      "metadata": {
        "id": "vz6CusBmpDgz",
        "colab_type": "text"
      },
      "source": [
        "Crosstab\n",
        "```\n",
        "```\n",
        "CSV\n",
        "```\n",
        "```\n",
        "T-Tests\n",
        "```\n",
        "```\n",
        "Datatypes\n",
        "```\n",
        "```\n",
        "Plots\n",
        "```\n",
        "```\n",
        "Analysis and Interpretation\n",
        "```\n"
      ]
    },
    {
      "cell_type": "markdown",
      "metadata": {
        "id": "dUQaIwbceohq",
        "colab_type": "text"
      },
      "source": [
        "## Practice Problems"
      ]
    },
    {
      "cell_type": "markdown",
      "metadata": {
        "id": "4jnYgnFjP6eE",
        "colab_type": "text"
      },
      "source": [
        "Load and validate a data set\n"
      ]
    },
    {
      "cell_type": "code",
      "metadata": {
        "id": "S9hFYrmqQlLA",
        "colab_type": "code",
        "colab": {}
      },
      "source": [
        "df.read_csv()\n",
        "print(df.shape)\n",
        "df.head()"
      ],
      "execution_count": 0,
      "outputs": []
    },
    {
      "cell_type": "markdown",
      "metadata": {
        "id": "bCbET5ioQlmQ",
        "colab_type": "text"
      },
      "source": [
        "Check for NaNs\n"
      ]
    },
    {
      "cell_type": "code",
      "metadata": {
        "id": "lwNwPn5nQowi",
        "colab_type": "code",
        "colab": {}
      },
      "source": [
        "df.isnull().sum()"
      ],
      "execution_count": 0,
      "outputs": []
    },
    {
      "cell_type": "markdown",
      "metadata": {
        "id": "2hq-PhcTQph7",
        "colab_type": "text"
      },
      "source": [
        "Check for Dtypes"
      ]
    },
    {
      "cell_type": "code",
      "metadata": {
        "id": "ZsWsuYwXRRP3",
        "colab_type": "code",
        "colab": {}
      },
      "source": [
        "df.dtypes()"
      ],
      "execution_count": 0,
      "outputs": []
    },
    {
      "cell_type": "markdown",
      "metadata": {
        "id": "jVqQYLgxld7M",
        "colab_type": "text"
      },
      "source": [
        "create plots for explanitory visualizations"
      ]
    },
    {
      "cell_type": "code",
      "metadata": {
        "id": "ScovMuwvRdtq",
        "colab_type": "code",
        "colab": {}
      },
      "source": [
        "import matplotlib.pyplot as plt\n",
        "df.plot()"
      ],
      "execution_count": 0,
      "outputs": []
    },
    {
      "cell_type": "markdown",
      "metadata": {
        "id": "uD5cTw9plh9c",
        "colab_type": "text"
      },
      "source": [
        "Create a crosstab"
      ]
    },
    {
      "cell_type": "code",
      "metadata": {
        "id": "XlazD59ClhXi",
        "colab_type": "code",
        "colab": {}
      },
      "source": [
        "pd.crosstab(df['column name'], df['column name'])\n"
      ],
      "execution_count": 0,
      "outputs": []
    },
    {
      "cell_type": "markdown",
      "metadata": {
        "id": "JyThYBHGlm60",
        "colab_type": "text"
      },
      "source": [
        "Do Ttests on the data"
      ]
    },
    {
      "cell_type": "code",
      "metadata": {
        "id": "pr_vT8VSmK6J",
        "colab_type": "code",
        "colab": {}
      },
      "source": [
        "from scipy import stats\n",
        "stats.ttest_ind(dem['column name'], rep['column name'],nan_policy='omit')"
      ],
      "execution_count": 0,
      "outputs": []
    }
  ]
}