{
  "nbformat": 4,
  "nbformat_minor": 0,
  "metadata": {
    "colab": {
      "name": "Andrew Hasler Sprint 1_1 Assignment",
      "provenance": [],
      "include_colab_link": true
    },
    "kernelspec": {
      "name": "python3",
      "display_name": "Python 3"
    }
  },
  "cells": [
    {
      "cell_type": "markdown",
      "metadata": {
        "id": "view-in-github",
        "colab_type": "text"
      },
      "source": [
        "<a href=\"https://colab.research.google.com/github/andrewhslr419/DS-Unit-1-Sprint-1-Data-Wrangling-and-Storytelling/blob/master/Andrew_Hasler_Sprint_1_1_Assignment.ipynb\" target=\"_parent\"><img src=\"https://colab.research.google.com/assets/colab-badge.svg\" alt=\"Open In Colab\"/></a>"
      ]
    },
    {
      "cell_type": "code",
      "metadata": {
        "id": "xB7UzaDCWPze",
        "colab_type": "code",
        "colab": {}
      },
      "source": [
        "import pandas as pd\n",
        "chess_data_url = 'https://archive.ics.uci.edu/ml/machine-learning-databases/chess/king-rook-vs-king/krkopt.data'"
      ],
      "execution_count": 0,
      "outputs": []
    },
    {
      "cell_type": "code",
      "metadata": {
        "id": "BfYuM1ytyoZ6",
        "colab_type": "code",
        "colab": {}
      },
      "source": [
        "!curl https://archive.ics.uci.edu/ml/machine-learning-databases/chess/king-rook-vs-king/krkopt.data"
      ],
      "execution_count": 0,
      "outputs": []
    },
    {
      "cell_type": "code",
      "metadata": {
        "id": "i9-L8-DX_xY9",
        "colab_type": "code",
        "colab": {}
      },
      "source": [
        "chess = pd.read_csv(chess_data_url)"
      ],
      "execution_count": 0,
      "outputs": []
    },
    {
      "cell_type": "code",
      "metadata": {
        "id": "2Q9X-_mPA84O",
        "colab_type": "code",
        "outputId": "3b0751cb-dab4-4aaf-bbcc-54218e4ea92b",
        "colab": {
          "base_uri": "https://localhost:8080/",
          "height": 34
        }
      },
      "source": [
        "chess.shape"
      ],
      "execution_count": 48,
      "outputs": [
        {
          "output_type": "execute_result",
          "data": {
            "text/plain": [
              "(28055, 7)"
            ]
          },
          "metadata": {
            "tags": []
          },
          "execution_count": 48
        }
      ]
    },
    {
      "cell_type": "code",
      "metadata": {
        "id": "1zrRKr7lEFa4",
        "colab_type": "code",
        "outputId": "b6f9422f-a0de-4663-83cd-937820c0d33e",
        "colab": {
          "base_uri": "https://localhost:8080/",
          "height": 359
        }
      },
      "source": [
        "chess.head(10)"
      ],
      "execution_count": 49,
      "outputs": [
        {
          "output_type": "execute_result",
          "data": {
            "text/html": [
              "<div>\n",
              "<style scoped>\n",
              "    .dataframe tbody tr th:only-of-type {\n",
              "        vertical-align: middle;\n",
              "    }\n",
              "\n",
              "    .dataframe tbody tr th {\n",
              "        vertical-align: top;\n",
              "    }\n",
              "\n",
              "    .dataframe thead th {\n",
              "        text-align: right;\n",
              "    }\n",
              "</style>\n",
              "<table border=\"1\" class=\"dataframe\">\n",
              "  <thead>\n",
              "    <tr style=\"text-align: right;\">\n",
              "      <th></th>\n",
              "      <th>a</th>\n",
              "      <th>1</th>\n",
              "      <th>b</th>\n",
              "      <th>3</th>\n",
              "      <th>c</th>\n",
              "      <th>2</th>\n",
              "      <th>draw</th>\n",
              "    </tr>\n",
              "  </thead>\n",
              "  <tbody>\n",
              "    <tr>\n",
              "      <th>0</th>\n",
              "      <td>a</td>\n",
              "      <td>1</td>\n",
              "      <td>c</td>\n",
              "      <td>1</td>\n",
              "      <td>c</td>\n",
              "      <td>2</td>\n",
              "      <td>draw</td>\n",
              "    </tr>\n",
              "    <tr>\n",
              "      <th>1</th>\n",
              "      <td>a</td>\n",
              "      <td>1</td>\n",
              "      <td>c</td>\n",
              "      <td>1</td>\n",
              "      <td>d</td>\n",
              "      <td>1</td>\n",
              "      <td>draw</td>\n",
              "    </tr>\n",
              "    <tr>\n",
              "      <th>2</th>\n",
              "      <td>a</td>\n",
              "      <td>1</td>\n",
              "      <td>c</td>\n",
              "      <td>1</td>\n",
              "      <td>d</td>\n",
              "      <td>2</td>\n",
              "      <td>draw</td>\n",
              "    </tr>\n",
              "    <tr>\n",
              "      <th>3</th>\n",
              "      <td>a</td>\n",
              "      <td>1</td>\n",
              "      <td>c</td>\n",
              "      <td>2</td>\n",
              "      <td>c</td>\n",
              "      <td>1</td>\n",
              "      <td>draw</td>\n",
              "    </tr>\n",
              "    <tr>\n",
              "      <th>4</th>\n",
              "      <td>a</td>\n",
              "      <td>1</td>\n",
              "      <td>c</td>\n",
              "      <td>2</td>\n",
              "      <td>c</td>\n",
              "      <td>3</td>\n",
              "      <td>draw</td>\n",
              "    </tr>\n",
              "    <tr>\n",
              "      <th>5</th>\n",
              "      <td>a</td>\n",
              "      <td>1</td>\n",
              "      <td>c</td>\n",
              "      <td>2</td>\n",
              "      <td>d</td>\n",
              "      <td>1</td>\n",
              "      <td>draw</td>\n",
              "    </tr>\n",
              "    <tr>\n",
              "      <th>6</th>\n",
              "      <td>a</td>\n",
              "      <td>1</td>\n",
              "      <td>c</td>\n",
              "      <td>2</td>\n",
              "      <td>d</td>\n",
              "      <td>2</td>\n",
              "      <td>draw</td>\n",
              "    </tr>\n",
              "    <tr>\n",
              "      <th>7</th>\n",
              "      <td>a</td>\n",
              "      <td>1</td>\n",
              "      <td>c</td>\n",
              "      <td>2</td>\n",
              "      <td>d</td>\n",
              "      <td>3</td>\n",
              "      <td>draw</td>\n",
              "    </tr>\n",
              "    <tr>\n",
              "      <th>8</th>\n",
              "      <td>a</td>\n",
              "      <td>1</td>\n",
              "      <td>c</td>\n",
              "      <td>3</td>\n",
              "      <td>c</td>\n",
              "      <td>2</td>\n",
              "      <td>draw</td>\n",
              "    </tr>\n",
              "    <tr>\n",
              "      <th>9</th>\n",
              "      <td>a</td>\n",
              "      <td>1</td>\n",
              "      <td>c</td>\n",
              "      <td>3</td>\n",
              "      <td>d</td>\n",
              "      <td>2</td>\n",
              "      <td>draw</td>\n",
              "    </tr>\n",
              "  </tbody>\n",
              "</table>\n",
              "</div>"
            ],
            "text/plain": [
              "   a  1  b  3  c  2  draw\n",
              "0  a  1  c  1  c  2  draw\n",
              "1  a  1  c  1  d  1  draw\n",
              "2  a  1  c  1  d  2  draw\n",
              "3  a  1  c  2  c  1  draw\n",
              "4  a  1  c  2  c  3  draw\n",
              "5  a  1  c  2  d  1  draw\n",
              "6  a  1  c  2  d  2  draw\n",
              "7  a  1  c  2  d  3  draw\n",
              "8  a  1  c  3  c  2  draw\n",
              "9  a  1  c  3  d  2  draw"
            ]
          },
          "metadata": {
            "tags": []
          },
          "execution_count": 49
        }
      ]
    },
    {
      "cell_type": "code",
      "metadata": {
        "id": "sFmWHGncEQ0m",
        "colab_type": "code",
        "outputId": "3fa5e145-f033-4f43-bdb0-900ee49547f6",
        "colab": {
          "base_uri": "https://localhost:8080/",
          "height": 173
        }
      },
      "source": [
        "chess.tail(4)"
      ],
      "execution_count": 0,
      "outputs": [
        {
          "output_type": "execute_result",
          "data": {
            "text/html": [
              "<div>\n",
              "<style scoped>\n",
              "    .dataframe tbody tr th:only-of-type {\n",
              "        vertical-align: middle;\n",
              "    }\n",
              "\n",
              "    .dataframe tbody tr th {\n",
              "        vertical-align: top;\n",
              "    }\n",
              "\n",
              "    .dataframe thead th {\n",
              "        text-align: right;\n",
              "    }\n",
              "</style>\n",
              "<table border=\"1\" class=\"dataframe\">\n",
              "  <thead>\n",
              "    <tr style=\"text-align: right;\">\n",
              "      <th></th>\n",
              "      <th>a</th>\n",
              "      <th>1</th>\n",
              "      <th>b</th>\n",
              "      <th>3</th>\n",
              "      <th>c</th>\n",
              "      <th>2</th>\n",
              "      <th>draw</th>\n",
              "    </tr>\n",
              "  </thead>\n",
              "  <tbody>\n",
              "    <tr>\n",
              "      <th>28051</th>\n",
              "      <td>b</td>\n",
              "      <td>1</td>\n",
              "      <td>g</td>\n",
              "      <td>7</td>\n",
              "      <td>e</td>\n",
              "      <td>6</td>\n",
              "      <td>sixteen</td>\n",
              "    </tr>\n",
              "    <tr>\n",
              "      <th>28052</th>\n",
              "      <td>b</td>\n",
              "      <td>1</td>\n",
              "      <td>g</td>\n",
              "      <td>7</td>\n",
              "      <td>e</td>\n",
              "      <td>7</td>\n",
              "      <td>sixteen</td>\n",
              "    </tr>\n",
              "    <tr>\n",
              "      <th>28053</th>\n",
              "      <td>b</td>\n",
              "      <td>1</td>\n",
              "      <td>g</td>\n",
              "      <td>7</td>\n",
              "      <td>f</td>\n",
              "      <td>5</td>\n",
              "      <td>sixteen</td>\n",
              "    </tr>\n",
              "    <tr>\n",
              "      <th>28054</th>\n",
              "      <td>b</td>\n",
              "      <td>1</td>\n",
              "      <td>g</td>\n",
              "      <td>7</td>\n",
              "      <td>g</td>\n",
              "      <td>5</td>\n",
              "      <td>sixteen</td>\n",
              "    </tr>\n",
              "  </tbody>\n",
              "</table>\n",
              "</div>"
            ],
            "text/plain": [
              "       a  1  b  3  c  2     draw\n",
              "28051  b  1  g  7  e  6  sixteen\n",
              "28052  b  1  g  7  e  7  sixteen\n",
              "28053  b  1  g  7  f  5  sixteen\n",
              "28054  b  1  g  7  g  5  sixteen"
            ]
          },
          "metadata": {
            "tags": []
          },
          "execution_count": 35
        }
      ]
    },
    {
      "cell_type": "code",
      "metadata": {
        "id": "kbq97inLFR3_",
        "colab_type": "code",
        "colab": {}
      },
      "source": [
        "chess=pd.read_csv(chess_data_url, header=None, names=['WK file','WK rank','WR file','WR rank','BK file','BK rank','Wins'])"
      ],
      "execution_count": 0,
      "outputs": []
    },
    {
      "cell_type": "code",
      "metadata": {
        "id": "AZcHBLhsPaEO",
        "colab_type": "code",
        "colab": {
          "base_uri": "https://localhost:8080/",
          "height": 255
        },
        "outputId": "a4d434ef-1429-47b5-b39e-338b732eb6e3"
      },
      "source": [
        "print(chess)"
      ],
      "execution_count": 60,
      "outputs": [
        {
          "output_type": "stream",
          "text": [
            "      WK file  WK rank WR file  WR rank BK file  BK rank     Wins\n",
            "0           a        1       b        3       c        2     draw\n",
            "1           a        1       c        1       c        2     draw\n",
            "2           a        1       c        1       d        1     draw\n",
            "3           a        1       c        1       d        2     draw\n",
            "4           a        1       c        2       c        1     draw\n",
            "...       ...      ...     ...      ...     ...      ...      ...\n",
            "28051       b        1       g        7       e        5  sixteen\n",
            "28052       b        1       g        7       e        6  sixteen\n",
            "28053       b        1       g        7       e        7  sixteen\n",
            "28054       b        1       g        7       f        5  sixteen\n",
            "28055       b        1       g        7       g        5  sixteen\n",
            "\n",
            "[28056 rows x 7 columns]\n"
          ],
          "name": "stdout"
        }
      ]
    },
    {
      "cell_type": "code",
      "metadata": {
        "id": "ywZKwQziSTT7",
        "colab_type": "code",
        "colab": {}
      },
      "source": [
        ""
      ],
      "execution_count": 0,
      "outputs": []
    }
  ]
}