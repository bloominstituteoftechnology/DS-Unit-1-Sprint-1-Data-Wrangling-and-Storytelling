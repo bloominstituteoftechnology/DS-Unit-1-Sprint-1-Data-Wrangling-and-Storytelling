{
  "nbformat": 4,
  "nbformat_minor": 0,
  "metadata": {
    "colab": {
      "name": "LS_DS_114_Make_Explanatory_Visualizations_Assignment_RJProctor.ipynb",
      "provenance": [],
      "collapsed_sections": [],
      "include_colab_link": true
    },
    "language_info": {
      "codemirror_mode": {
        "name": "ipython",
        "version": 3
      },
      "file_extension": ".py",
      "mimetype": "text/x-python",
      "name": "python",
      "nbconvert_exporter": "python",
      "pygments_lexer": "ipython3",
      "version": "3.7.1"
    },
    "kernelspec": {
      "display_name": "Python 3",
      "language": "python",
      "name": "python3"
    }
  },
  "cells": [
    {
      "cell_type": "markdown",
      "metadata": {
        "id": "view-in-github",
        "colab_type": "text"
      },
      "source": [
        "<a href=\"https://colab.research.google.com/github/jproctor-rebecca/DS-Unit-1-Sprint-1-Data-Wrangling-and-Storytelling/blob/master/module4-make-explanatory-visualizations/LS_DS_114_Make_Explanatory_Visualizations_Assignment_RJProctor.ipynb\" target=\"_parent\"><img src=\"https://colab.research.google.com/assets/colab-badge.svg\" alt=\"Open In Colab\"/></a>"
      ]
    },
    {
      "cell_type": "markdown",
      "metadata": {
        "colab_type": "text",
        "id": "NMEswXWh9mqw"
      },
      "source": [
        "Lambda School Data Science\n",
        "\n",
        "*Unit 1, Sprint 1, Module 4*\n",
        "\n",
        "---\n",
        "\n",
        "# ASSIGNMENT\n",
        "\n",
        "### 1) Replicate the lesson code. I recommend that you [do not copy-paste](https://docs.google.com/document/d/1ubOw9B3Hfip27hF2ZFnW3a3z9xAgrUDRReOEo-FHCVs/edit).\n",
        "\n",
        "Get caught up to where we got our example in class and then try and take things further. How close to \"pixel perfect\" can you make the lecture graph?\n",
        "\n",
        "Once you have something that you're proud of, share your graph in the cohort channel and move on to the second exercise.\n",
        "\n",
        "### 2) Reproduce another example from [FiveThityEight's shared data repository](https://data.fivethirtyeight.com/).\n",
        "\n",
        "**WARNING**: There are a lot of very custom graphs and tables at the above link. I **highly** recommend not trying to reproduce any that look like a table of values or something really different from the graph types that we are already familiar with. Search through the posts until you find a graph type that you are more or less familiar with: histogram, bar chart, stacked bar chart, line chart, [seaborn relplot](https://seaborn.pydata.org/generated/seaborn.relplot.html), etc. Recreating some of the graphics that 538 uses would be a lot easier in Adobe photoshop/illustrator than with matplotlib. \n",
        "\n",
        "- If you put in some time to find a graph that looks \"easy\" to replicate you'll probably find that it's not as easy as you thought. \n",
        "\n",
        "- If you start with a graph that looks hard to replicate you'll probably run up against a brick wall and be disappointed with your afternoon.\n",
        "\n",
        "\n",
        "\n",
        "\n",
        "\n",
        "\n",
        "\n",
        "\n",
        "\n",
        "\n"
      ]
    },
    {
      "cell_type": "code",
      "metadata": {
        "id": "nZI0OHvS_LWd",
        "colab_type": "code",
        "colab": {
          "base_uri": "https://localhost:8080/",
          "height": 355
        },
        "outputId": "95052cac-7c82-4035-ae3f-f356ccf89a81"
      },
      "source": [
        "from IPython.display import display, Image\n",
        "\n",
        "url = 'https://fivethirtyeight.com/wp-content/uploads/2017/09/mehtahickey-inconvenient-0830-1.png'\n",
        "example = Image(url=url, width=400)\n",
        "\n",
        "display(example)"
      ],
      "execution_count": 1,
      "outputs": [
        {
          "output_type": "display_data",
          "data": {
            "text/html": [
              "<img src=\"https://fivethirtyeight.com/wp-content/uploads/2017/09/mehtahickey-inconvenient-0830-1.png\" width=\"400\"/>"
            ],
            "text/plain": [
              "<IPython.core.display.Image object>"
            ]
          },
          "metadata": {
            "tags": []
          }
        }
      ]
    },
    {
      "cell_type": "code",
      "metadata": {
        "id": "uDaydAXl-dwq",
        "colab_type": "code",
        "colab": {
          "base_uri": "https://localhost:8080/",
          "height": 285
        },
        "outputId": "4ae2d821-dd1b-46d0-c6c9-39590e343b5d"
      },
      "source": [
        "# example code from class\n",
        "%matplotlib inline\n",
        "import matplotlib.pyplot as plt\n",
        "import numpy as np\n",
        "import pandas as pd\n",
        "\n",
        "\n",
        "plt.style.use('fivethirtyeight')\n",
        "\n",
        "fake = pd.Series([38, 3, 2, 1, 2, 4, 6, 5, 5, 33], \n",
        "                 index=range(1,11))\n",
        "\n",
        "fake.plot.bar(color='C1', width=0.9);"
      ],
      "execution_count": 2,
      "outputs": [
        {
          "output_type": "display_data",
          "data": {
            "image/png": "[encoded data removed]",
            "text/plain": [
              "<Figure size 432x288 with 1 Axes>"
            ]
          },
          "metadata": {
            "tags": []
          }
        }
      ]
    },
    {
      "cell_type": "code",
      "metadata": {
        "id": "96JRonwN-hln",
        "colab_type": "code",
        "colab": {
          "base_uri": "https://localhost:8080/",
          "height": 289
        },
        "outputId": "5325e363-3677-4475-d560-bd576e2b8907"
      },
      "source": [
        "fake2 = pd.Series(\n",
        "    [1, 1, 1, 1, 1, 1, 1, 1, 1, 1, 1, 1, 1, 1, 1, 1, 1, 1, 1, 1, 1, 1, 1, 1,\n",
        "     2, 2, 2, \n",
        "     3, 3, 3,\n",
        "     4, 4,\n",
        "     5, 5, 5,\n",
        "     6, 6, 6, 6,\n",
        "     7, 7, 7, 7, 7,\n",
        "     8, 8, 8, 8,\n",
        "     9, 9, 9, 9, \n",
        "     10, 10, 10, 10, 10, 10, 10, 10, 10, 10, 10, 10, 10, 10, 10, 10, 10, 10])\n",
        "\n",
        "fake2.value_counts().sort_index().plot.bar(color='C1', width=0.9);"
      ],
      "execution_count": 3,
      "outputs": [
        {
          "output_type": "display_data",
          "data": {
            "image/png": "[encoded data removed]",
            "text/plain": [
              "<Figure size 432x288 with 1 Axes>"
            ]
          },
          "metadata": {
            "tags": []
          }
        }
      ]
    },
    {
      "cell_type": "code",
      "metadata": {
        "id": "lsK8-sMR-hJ9",
        "colab_type": "code",
        "colab": {
          "base_uri": "https://localhost:8080/",
          "height": 319
        },
        "outputId": "62ca209a-f889-49f4-d472-fec56cd92f29"
      },
      "source": [
        "fig, ax = plt.subplots()\n",
        "\n",
        "# My graph stuff goes in the middle\n",
        "# figure background color\n",
        "fig.set_facecolor('white')\n",
        "\n",
        "ax.bar([1,2,3,4,5,6,7,8,9,10], fake, color='#FC4F30', width=0.9)\n",
        "\n",
        "# axis labels\n",
        "ax.set_xlabel('Rating', fontweight='bold', fontsize=8.5, color='black')\n",
        "ax.set_ylabel('Percent of total votes', fontweight='bold', fontsize=8.5, \n",
        "              color='black')\n",
        "# graph title\n",
        "ax.set_title(\"'An Inconvenient Sequel: Truth To Power' is divisive\", \n",
        "             fontweight='bold', fontsize=12, color='black', x=0.3 , y=1.1)\n",
        "# graph subtitle\n",
        "ax.text(s=\"IMDb ratings for the film as of Aug. 29\", fontsize=11, color='black', \n",
        "        x=-1.7, y=42)\n",
        "\n",
        "# turn off grid\n",
        "ax.grid(False)\n",
        "\n",
        "# set tick parameters\n",
        "ax.tick_params(axis='both', color='grey', size=6)\n",
        "\n",
        "# set ticks (x and y)\n",
        "ax.set_xticks([1,2,3,4,5,6,7,8,9,10])\n",
        "ax.set_yticks([0,10,20,30,40])\n",
        "\n",
        "ax.set_yticklabels([0, 10, 20, 30, '40%'])\n",
        "\n",
        "# Turn off the spines\n",
        "ax.spines['left'].set_visible(False)\n",
        "ax.spines['right'].set_visible(False)\n",
        "ax.spines['top'].set_visible(False)\n",
        "ax.spines['bottom'].set_visible(False)\n",
        "\n",
        "plt.show()"
      ],
      "execution_count": 48,
      "outputs": [
        {
          "output_type": "display_data",
          "data": {
            "image/png": "[encoded data removed]",
            "text/plain": [
              "<Figure size 432x288 with 1 Axes>"
            ]
          },
          "metadata": {
            "tags": []
          }
        }
      ]
    },
    {
      "cell_type": "markdown",
      "metadata": {
        "id": "kVVzHgHWJL_H",
        "colab_type": "text"
      },
      "source": [
        "![FiveThirtyEight](https://fivethirtyeight.com/wp-content/uploads/2020/07/atdPaine-JOBS-0702-2-1.png?w=1150)"
      ]
    },
    {
      "cell_type": "code",
      "metadata": {
        "id": "7SY1ZHawyZvz",
        "colab_type": "code",
        "colab": {}
      },
      "source": [
        "# Your Work Here\n",
        "\n",
        "import matplotlib.pyplot as plt\n",
        "%matplotlib inline\n",
        "import numpy as np\n",
        "import pandas as pd"
      ],
      "execution_count": 37,
      "outputs": []
    },
    {
      "cell_type": "code",
      "metadata": {
        "id": "A8ASpao4MdSM",
        "colab_type": "code",
        "colab": {
          "base_uri": "https://localhost:8080/",
          "height": 360
        },
        "outputId": "6331e22f-dfeb-4ef4-e028-ad0962fd1689"
      },
      "source": [
        "plt.style.use('fivethirtyeight')\n",
        "\n",
        "# fake = pd.Series([1, 2, 17, 16, 11,], index=range(0,20))\n",
        "# fake2 = pd.Series([1, 1.5, 2.5, 3, 4]), index=range(0, 20))\n",
        "\n",
        "# fake.plot.bar();\n",
        "layoffs = pd.DataFrame(index=range(0,5), \n",
        "                       data={'Temp': [1, 2,17,16,11],\n",
        "                             'Perm': [1,1.5,3,3,3.25], \n",
        "                       })\n",
        "\n",
        "# set figure type and color\n",
        "ax = layoffs.plot(kind=\"bar\", stacked=True, color=['#C4E3C5','#48A949'])\n",
        "\n",
        "# set figure face \n",
        "fig.set_facecolor('white')\n",
        "\n",
        "# set figure grid\n",
        "ax.grid(False)\n",
        "\n",
        "# 'temp' color in shaded green #C4E3C5\n",
        "# 'perm' color in green #48A949\n",
        "# column lable in green #4BA849\n",
        "# axis lables in gray #4BA849\n",
        "# source notes in grey #ABABAB\n",
        "\n",
        "# Fix tick marks and grid lines\n",
        "ax.set_xticks([0,1,2,3,4,5])\n",
        "ax.set_yticks([0,5,10,15,20])\n",
        "\n",
        "# set tick parameters\n",
        "ax.tick_params(axis='both', size=0, color='white')\n",
        "ax.tick_params(axis='x', size=10, labelcolor='grey', rotation=90)\n",
        "ax.tick_params(axis='y', size=10, labelcolor='grey')\n",
        "\n",
        "# tick labels\n",
        "ax.set_xticklabels(['Feb.','March','April','May','June'])\n",
        "ax.set_yticklabels([0,5,10,15,'20m'])\n",
        "\n",
        "# TItle\n",
        "ax.set_title(\"Permanent layoffs are growing as temporary layoffs fall\", \n",
        "             fontsize=12, x=0.375, y=1.1, fontweight='bold', color='black')\n",
        "\n",
        "# subtitle using raw .text object\n",
        "# x and y poisition is relative to the x and y axis\n",
        "ax.text(s='Number of layoffs, seasonal adjusted, by performance', \n",
        "        x=-01.22, y=22.5, fontsize=10, color='black')\n",
        "\n",
        "# creates a line \n",
        "# layoffs.sum(axis=1).plot(ax=ax, color=\"g\")\n",
        "\n",
        "# set descriptor lables\n",
        "ax.text(s='Permanent layoffs', color='#4BA849',size=10, x=0, y=18)\n",
        "\n",
        "ax.text(s='Laid-off', color='black', size=10, x=0.8, y=12.5)\n",
        "ax.text(s='workers', color='black', size=10, x=0.8, y=10.5)\n",
        "\n",
        "# Remove the Spines\n",
        "ax.spines['left'].set_visible(False)\n",
        "ax.spines['top'].set_visible(False)\n",
        "ax.spines['right'].set_visible(False)\n",
        "ax.spines['bottom'].set_visible(True)\n",
        "\n",
        "# set spine color\n",
        "ax.spines['bottom'].set_color('black')\n",
        "\n",
        "# set legend\n",
        "ax.legend().set_visible(False)\n",
        "\n",
        "plt.show()"
      ],
      "execution_count": 115,
      "outputs": [
        {
          "output_type": "display_data",
          "data": {
            "image/png": "[encoded data removed]",
            "text/plain": [
              "<Figure size 432x288 with 1 Axes>"
            ]
          },
          "metadata": {
            "tags": []
          }
        }
      ]
    },
    {
      "cell_type": "markdown",
      "metadata": {
        "id": "0wSrBzmJyWaV",
        "colab_type": "text"
      },
      "source": [
        "# STRETCH OPTIONS\n",
        "\n",
        "### 1) Reproduce one of the following using the matplotlib or seaborn libraries:\n",
        "\n",
        "- [thanksgiving-2015](https://fivethirtyeight.com/features/heres-what-your-part-of-america-eats-on-thanksgiving/) \n",
        "- [candy-power-ranking](https://fivethirtyeight.com/features/the-ultimate-halloween-candy-power-ranking/) \n",
        "- or another example of your choice!\n",
        "\n",
        "### 2) Make more charts!\n",
        "\n",
        "Choose a chart you want to make, from [Visual Vocabulary - Vega Edition](http://ft.com/vocabulary).\n",
        "\n",
        "Find the chart in an example gallery of a Python data visualization library:\n",
        "- [Seaborn](http://seaborn.pydata.org/examples/index.html)\n",
        "- [Altair](https://altair-viz.github.io/gallery/index.html)\n",
        "- [Matplotlib](https://matplotlib.org/gallery.html)\n",
        "- [Pandas](https://pandas.pydata.org/pandas-docs/stable/visualization.html)\n",
        "\n",
        "Reproduce the chart. [Optionally, try the \"Ben Franklin Method.\"](https://docs.google.com/document/d/1ubOw9B3Hfip27hF2ZFnW3a3z9xAgrUDRReOEo-FHCVs/edit) If you want, experiment and make changes.\n",
        "\n",
        "Take notes. Consider sharing your work with your cohort!"
      ]
    },
    {
      "cell_type": "markdown",
      "metadata": {
        "id": "R8d9yRGGLZT3",
        "colab_type": "text"
      },
      "source": [
        "![Thanksgiving](https://fivethirtyeight.com/wp-content/uploads/2015/11/hickey-side-dish-1.png?w=1150)"
      ]
    },
    {
      "cell_type": "code",
      "metadata": {
        "id": "dRJkKftiy5BJ",
        "colab_type": "code",
        "colab": {}
      },
      "source": [
        "# More Work Here"
      ],
      "execution_count": null,
      "outputs": []
    }
  ]
}