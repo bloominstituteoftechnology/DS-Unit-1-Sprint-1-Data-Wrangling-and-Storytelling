{
  "nbformat": 4,
  "nbformat_minor": 0,
  "metadata": {
    "colab": {
      "name": "LS_DS_114_Make_Explanatory_Visualizations_Assignment_RJProctor.ipynb",
      "provenance": [],
      "collapsed_sections": [],
      "include_colab_link": true
    },
    "language_info": {
      "codemirror_mode": {
        "name": "ipython",
        "version": 3
      },
      "file_extension": ".py",
      "mimetype": "text/x-python",
      "name": "python",
      "nbconvert_exporter": "python",
      "pygments_lexer": "ipython3",
      "version": "3.7.1"
    },
    "kernelspec": {
      "display_name": "Python 3",
      "language": "python",
      "name": "python3"
    }
  },
  "cells": [
    {
      "cell_type": "markdown",
      "metadata": {
        "id": "view-in-github",
        "colab_type": "text"
      },
      "source": [
        "<a href=\"https://colab.research.google.com/github/jproctor-rebecca/DS-Unit-1-Sprint-1-Data-Wrangling-and-Storytelling/blob/master/module4-make-explanatory-visualizations/LS_DS_114_Make_Explanatory_Visualizations_Assignment_RJProctor.ipynb\" target=\"_parent\"><img src=\"https://colab.research.google.com/assets/colab-badge.svg\" alt=\"Open In Colab\"/></a>"
      ]
    },
    {
      "cell_type": "markdown",
      "metadata": {
        "colab_type": "text",
        "id": "NMEswXWh9mqw"
      },
      "source": [
        "Lambda School Data Science\n",
        "\n",
        "*Unit 1, Sprint 1, Module 4*\n",
        "\n",
        "---\n",
        "\n",
        "# ASSIGNMENT\n",
        "\n",
        "### 1) Replicate the lesson code. I recommend that you [do not copy-paste](https://docs.google.com/document/d/1ubOw9B3Hfip27hF2ZFnW3a3z9xAgrUDRReOEo-FHCVs/edit).\n",
        "\n",
        "Get caught up to where we got our example in class and then try and take things further. How close to \"pixel perfect\" can you make the lecture graph?\n",
        "\n",
        "Once you have something that you're proud of, share your graph in the cohort channel and move on to the second exercise.\n",
        "\n",
        "### 2) Reproduce another example from [FiveThityEight's shared data repository](https://data.fivethirtyeight.com/).\n",
        "\n",
        "**WARNING**: There are a lot of very custom graphs and tables at the above link. I **highly** recommend not trying to reproduce any that look like a table of values or something really different from the graph types that we are already familiar with. Search through the posts until you find a graph type that you are more or less familiar with: histogram, bar chart, stacked bar chart, line chart, [seaborn relplot](https://seaborn.pydata.org/generated/seaborn.relplot.html), etc. Recreating some of the graphics that 538 uses would be a lot easier in Adobe photoshop/illustrator than with matplotlib. \n",
        "\n",
        "- If you put in some time to find a graph that looks \"easy\" to replicate you'll probably find that it's not as easy as you thought. \n",
        "\n",
        "- If you start with a graph that looks hard to replicate you'll probably run up against a brick wall and be disappointed with your afternoon.\n",
        "\n",
        "\n",
        "\n",
        "\n",
        "\n",
        "\n",
        "\n",
        "\n",
        "\n",
        "\n"
      ]
    },
    {
      "cell_type": "markdown",
      "metadata": {
        "id": "kVVzHgHWJL_H",
        "colab_type": "text"
      },
      "source": [
        "![FiveThirtyEight](https://fivethirtyeight.com/wp-content/uploads/2020/07/atdPaine-JOBS-0702-2-1.png?w=1150)"
      ]
    },
    {
      "cell_type": "code",
      "metadata": {
        "id": "7SY1ZHawyZvz",
        "colab_type": "code",
        "colab": {}
      },
      "source": [
        "# Your Work Here\n",
        "%matplotlib inline\n",
        "import matplotlib.pyplot as plt\n",
        "import numpy as np\n",
        "import pandas as pd"
      ],
      "execution_count": 5,
      "outputs": []
    },
    {
      "cell_type": "code",
      "metadata": {
        "id": "A8ASpao4MdSM",
        "colab_type": "code",
        "colab": {
          "base_uri": "https://localhost:8080/",
          "height": 277
        },
        "outputId": "458434a1-7999-4eb3-abeb-cf1c10e2aedc"
      },
      "source": [
        "plt.style.use('fivethirtyeight')\n",
        "\n",
        "# fake = pd.Series([1, 2, 17, 16, 11,], index=range(0,20))\n",
        "# fake2 = pd.Series([1, 1.5, 2.5, 3, 4]), index=range(0, 20))\n",
        "\n",
        "# fake.plot.bar();\n",
        "layoffs = pd.DataFrame(index=range(0,5), \n",
        "                       data={'Temp': [1, 2,17,16,11],\n",
        "                             'Perm': [1,1.5,3,3,3.25], \n",
        "                       })\n",
        "\n",
        "# 'temp' color in shaded green #C4E3C5\n",
        "# 'perm' color in green #48A949\n",
        "# column lable in green #4BA849\n",
        "# axis lables in gray #4BA849\n",
        "# footnotes in grey #ABABAB\n",
        "\n",
        "ax = layoffs.plot(kind=\"bar\", stacked=True)\n",
        "\n",
        "# layoffs.sum(axis=1).plot(ax=ax, color=\"g\")\n",
        "# creates a line \n",
        "\n",
        "plt.show()"
      ],
      "execution_count": 11,
      "outputs": [
        {
          "output_type": "display_data",
          "data": {
            "image/png": "[encoded data removed]",
            "text/plain": [
              "<Figure size 432x288 with 1 Axes>"
            ]
          },
          "metadata": {
            "tags": []
          }
        }
      ]
    },
    {
      "cell_type": "code",
      "metadata": {
        "id": "-m8dFT-GxkWE",
        "colab_type": "code",
        "colab": {
          "base_uri": "https://localhost:8080/",
          "height": 287
        },
        "outputId": "bfaa226f-5c9d-4a37-80f7-b953f4cca1bc"
      },
      "source": [
        "plt.style.use('fivethirtyeight')\n",
        "\n",
        "fig, ax = plt.subplots()\n",
        "\n",
        "# Figure Styles\n",
        "# figure background color\n",
        "fig.set_facecolor('white')"
      ],
      "execution_count": 15,
      "outputs": [
        {
          "output_type": "display_data",
          "data": {
            "image/png": "[encoded data removed]",
            "text/plain": [
              "<Figure size 432x288 with 1 Axes>"
            ]
          },
          "metadata": {
            "tags": []
          }
        }
      ]
    },
    {
      "cell_type": "code",
      "metadata": {
        "id": "C0Zdoc1Gxxr6",
        "colab_type": "code",
        "colab": {
          "base_uri": "https://localhost:8080/",
          "height": 131
        },
        "outputId": "77563822-00c5-4910-be1a-3eae8abeb8fa"
      },
      "source": [
        "plt.style.use('fivethirtyeight')\n",
        "\n",
        "fig, ax = plt.subplots()\n",
        "\n",
        "# Figure Styles\n",
        "# figure background color\n",
        "fig.set_facecolor('white')\n",
        "\n",
        "# Axes Styles\n",
        "ax.bar(x=[0,5,20,15,20], height=, color='#4BA849', width=0.9)\n",
        "\n",
        "# graph background color\n",
        "ax.set_facecolor('white')"
      ],
      "execution_count": 17,
      "outputs": [
        {
          "output_type": "error",
          "ename": "SyntaxError",
          "evalue": "ignored",
          "traceback": [
            "\u001b[0;36m  File \u001b[0;32m\"<ipython-input-17-77ac1a30b805>\"\u001b[0;36m, line \u001b[0;32m10\u001b[0m\n\u001b[0;31m    ax.bar(x=[0,5,20,15,20], height=, color='#4BA849', width=0.9)\u001b[0m\n\u001b[0m                                    ^\u001b[0m\n\u001b[0;31mSyntaxError\u001b[0m\u001b[0;31m:\u001b[0m invalid syntax\n"
          ]
        }
      ]
    },
    {
      "cell_type": "code",
      "metadata": {
        "id": "XpyFRrORSamD",
        "colab_type": "code",
        "colab": {
          "base_uri": "https://localhost:8080/",
          "height": 131
        },
        "outputId": "e0b21b52-7306-4a59-b05d-7720fa266ecd"
      },
      "source": [
        "\n",
        "\n",
        "\n",
        "# axis labels\n",
        "# xlable=none\n",
        "# ylable=none\n",
        "\n",
        "# Fix tick marks and grid lines\n",
        "ax.set_xticks([0,5,20,15,20])\n",
        "ax.set_yticks([0, 10, 20, 30, 40])\n",
        "\n",
        "# tick labels\n",
        "ax.set_yticklabels([0,5,10,15,'20m'], fontsize=8, color='#4BA849')\n",
        "ax.set_xticklabels(['Feb','March','April','May','June'], fontsize=8, color='#4BA849')\n",
        "\n",
        "# TItle\n",
        "ax.set_title(\"Permanent layoffs are growing as temporary layoffs fall\", fontsize=11, x=.25, y=1.1, fontweight='bold')\n",
        "\n",
        "# subtitle using raw .text object\n",
        "# x and y poisition is relative to the x and y axis\n",
        "ax.text(s='Number of layoffs, seasonal adjusted, by performance', x=-1.5, y=42, fontsize=11)\n",
        "\n",
        "# Remove the Spines\n",
        "ax.spines['left'].set_visible(False)\n",
        "ax.spines['top'].set_visible(True, color=#4BA849)\n",
        "ax.spines['right'].set_visible(False)\n",
        "ax.spines['bottom'].set_visible(True)\n",
        "\n",
        "\n",
        "\n",
        "plt.show()"
      ],
      "execution_count": 14,
      "outputs": [
        {
          "output_type": "error",
          "ename": "SyntaxError",
          "evalue": "ignored",
          "traceback": [
            "\u001b[0;36m  File \u001b[0;32m\"<ipython-input-14-4242245c2f1f>\"\u001b[0;36m, line \u001b[0;32m38\u001b[0m\n\u001b[0;31m    ax.spines['bottom'].set_visible(True)\u001b[0m\n\u001b[0m     ^\u001b[0m\n\u001b[0;31mSyntaxError\u001b[0m\u001b[0;31m:\u001b[0m invalid syntax\n"
          ]
        }
      ]
    },
    {
      "cell_type": "markdown",
      "metadata": {
        "id": "0wSrBzmJyWaV",
        "colab_type": "text"
      },
      "source": [
        "# STRETCH OPTIONS\n",
        "\n",
        "### 1) Reproduce one of the following using the matplotlib or seaborn libraries:\n",
        "\n",
        "- [thanksgiving-2015](https://fivethirtyeight.com/features/heres-what-your-part-of-america-eats-on-thanksgiving/) \n",
        "- [candy-power-ranking](https://fivethirtyeight.com/features/the-ultimate-halloween-candy-power-ranking/) \n",
        "- or another example of your choice!\n",
        "\n",
        "### 2) Make more charts!\n",
        "\n",
        "Choose a chart you want to make, from [Visual Vocabulary - Vega Edition](http://ft.com/vocabulary).\n",
        "\n",
        "Find the chart in an example gallery of a Python data visualization library:\n",
        "- [Seaborn](http://seaborn.pydata.org/examples/index.html)\n",
        "- [Altair](https://altair-viz.github.io/gallery/index.html)\n",
        "- [Matplotlib](https://matplotlib.org/gallery.html)\n",
        "- [Pandas](https://pandas.pydata.org/pandas-docs/stable/visualization.html)\n",
        "\n",
        "Reproduce the chart. [Optionally, try the \"Ben Franklin Method.\"](https://docs.google.com/document/d/1ubOw9B3Hfip27hF2ZFnW3a3z9xAgrUDRReOEo-FHCVs/edit) If you want, experiment and make changes.\n",
        "\n",
        "Take notes. Consider sharing your work with your cohort!"
      ]
    },
    {
      "cell_type": "markdown",
      "metadata": {
        "id": "R8d9yRGGLZT3",
        "colab_type": "text"
      },
      "source": [
        "![Thanksgiving](https://fivethirtyeight.com/wp-content/uploads/2015/11/hickey-side-dish-1.png?w=1150)"
      ]
    },
    {
      "cell_type": "code",
      "metadata": {
        "id": "dRJkKftiy5BJ",
        "colab_type": "code",
        "colab": {}
      },
      "source": [
        "# More Work Here"
      ],
      "execution_count": null,
      "outputs": []
    }
  ]
}