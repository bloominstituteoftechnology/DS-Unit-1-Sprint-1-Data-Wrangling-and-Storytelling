{
 "cells": [
  {
   "attachments": {},
   "cell_type": "markdown",
   "metadata": {
    "id": "-8-trVo__vRE"
   },
   "source": [
    "# Data Science - Unit 1 Sprint 1 Module 4\n",
    "\n",
    "## Make Explanatory Visualizations\n",
    "\n",
    "### Module Learning Objectives\n",
    "\n",
    "- Identify the appropriate visualization type for a particular variable type and research question \n",
    "- Use Matplotlib to visualize distributions and relationships with continuous and discrete variables\n",
    "- Add emphasis and annotations to transform visualizations from exploratory to explanatory\n",
    "- Remove clutter from visualizations\n",
    "- Identify misleading visualizations and how to fix them\n",
    "\n",
    "### Notebook points: 5"
   ]
  },
  {
   "attachments": {},
   "cell_type": "markdown",
   "metadata": {
    "id": "9harOhCr93VC"
   },
   "source": [
    "### Introduction\n",
    "\n",
    "The first few modules in this Sprint have focused on exploring datasets, manipulating DataFrames, and creating new features. Now we're going to create some visualizations!\n",
    "\n",
    "### Dataset Description\n",
    "\n",
    "Researchers recorded data on sleep duration as well as a set of ecological and constitutional variables for a selection of mammal species.\n",
    "\n",
    "The data dictionary can be accessed here: https://github.com/bloominstituteoftechnology/data-science-practice-datasets/tree/main/unit_1/Sleep in the READ ME file.\n",
    "\n",
    "*Source: Allison, T. and Cicchetti, D. (1976), \"Sleep in Mammals: Ecological and Constitutional Correlates\", Science, November 12, vol. 194, pp. 732-734.*\n"
   ]
  },
  {
   "attachments": {},
   "cell_type": "markdown",
   "metadata": {
    "id": "8LPohEc5sv7J"
   },
   "source": [
    "**Task 1** -  Import the `sleep.csv` file and load it as a DataFrame named `Sleep`.\n",
    "* Don't forget to include any import statements you need to create a DataFrame from a .csv file\n",
    "* The `sleep.csv` file can be accessed using `sleep_url` which is provided for you\n",
    "* Load the `sleep.csv` file and as a DataFrame named `Sleep`\n",
    "* Print the first 5 rows of `Sleep`"
   ]
  },
  {
   "cell_type": "code",
   "execution_count": 1,
   "metadata": {
    "colab": {
     "base_uri": "https://localhost:8080/",
     "height": 204
    },
    "collapsed": true,
    "deletable": false,
    "id": "ihNRKzhzs7_C",
    "nbgrader": {
     "cell_type": "code",
     "checksum": "e9868996bc4efd7948e8d04c9b4d44bd",
     "grade": false,
     "grade_id": "cell-565969801f9af810",
     "locked": false,
     "schema_version": 3,
     "solution": true,
     "task": false
    },
    "outputId": "ac140e85-ba35-4e1a-8517-6ce486432b26"
   },
   "outputs": [
    {
     "ename": "NotImplementedError",
     "evalue": "",
     "output_type": "error",
     "traceback": [
      "\u001b[0;31m---------------------------------------------------------------------------\u001b[0m",
      "\u001b[0;31mNotImplementedError\u001b[0m                       Traceback (most recent call last)",
      "\u001b[0;32m<ipython-input-1-2624dacc3f0c>\u001b[0m in \u001b[0;36m<module>\u001b[0;34m\u001b[0m\n\u001b[1;32m      8\u001b[0m \u001b[0;34m\u001b[0m\u001b[0m\n\u001b[1;32m      9\u001b[0m \u001b[0;31m# YOUR CODE HERE\u001b[0m\u001b[0;34m\u001b[0m\u001b[0;34m\u001b[0m\u001b[0;34m\u001b[0m\u001b[0m\n\u001b[0;32m---> 10\u001b[0;31m \u001b[0;32mraise\u001b[0m \u001b[0mNotImplementedError\u001b[0m\u001b[0;34m(\u001b[0m\u001b[0;34m)\u001b[0m\u001b[0;34m\u001b[0m\u001b[0;34m\u001b[0m\u001b[0m\n\u001b[0m\u001b[1;32m     11\u001b[0m \u001b[0;34m\u001b[0m\u001b[0m\n\u001b[1;32m     12\u001b[0m \u001b[0;31m# View the DataFrame\u001b[0m\u001b[0;34m\u001b[0m\u001b[0;34m\u001b[0m\u001b[0;34m\u001b[0m\u001b[0m\n",
      "\u001b[0;31mNotImplementedError\u001b[0m: "
     ]
    }
   ],
   "source": [
    "# Task 1 \n",
    "\n",
    "# Access sleep.csv with this url\n",
    "sleep_url = 'https://raw.githubusercontent.com/bloominstituteoftechnology/data-science-practice-datasets/main/unit_1/Sleep/Sleep.csv'\n",
    "\n",
    "# Read in the sleep.csv file included above as a DataFrame named Sleep and print the first 5 rows.\n",
    "# Don't forget any necessary import statements.\n",
    "\n",
    "# YOUR CODE HERE\n",
    "raise NotImplementedError()\n",
    "\n",
    "# View the DataFrame\n",
    "Sleep.head()"
   ]
  },
  {
   "cell_type": "code",
   "execution_count": null,
   "metadata": {
    "deletable": false,
    "editable": false,
    "id": "btcEJXxCMixT",
    "nbgrader": {
     "cell_type": "code",
     "checksum": "4993033fb98caa40114c4ed8f2788d64",
     "grade": true,
     "grade_id": "cell-22e1084a89e39897",
     "locked": true,
     "points": 1,
     "schema_version": 3,
     "solution": false,
     "task": false
    }
   },
   "outputs": [],
   "source": [
    "# Task 1 - Test\n",
    "\n",
    "assert isinstance(Sleep, pd.DataFrame), 'Have you created a DataFrame named `Sleep` (check your capitalization)?'\n",
    "assert len(Sleep) == 42\n"
   ]
  },
  {
   "attachments": {},
   "cell_type": "markdown",
   "metadata": {
    "id": "R03kMCWNumQQ"
   },
   "source": [
    "**Task 2** - Plot a histogram of `Parasleep`, which is the number of hours of dreaming sleep each mammal slept during a 24-hour period.\n",
    "* The import statements to `import matplotlib.pyplot as plt` and `import seaborn as sns` are included for you.\n",
    "* Use the template below and **replace the #### as specified in the instructions**\n",
    "* Plot a histogram of `Parasleep` from the `Sleep` DataFrame\n",
    "* The x-axis label should read `'Total hours of dreaming sleep'`\n",
    "* The y-label should read `'Frequency`'\n",
    "* The title should read `'Daily dreaming sleep in mammal species'`\n",
    "\n",
    "**Note:** UNCOMMENT code lines to complete the plotting task"
   ]
  },
  {
   "cell_type": "code",
   "execution_count": null,
   "metadata": {
    "colab": {
     "base_uri": "https://localhost:8080/",
     "height": 269
    },
    "id": "l_otHLWgStmT",
    "outputId": "4e15914f-642e-4c67-e556-c7df4710aa54"
   },
   "outputs": [],
   "source": [
    "# Task 2\n",
    "\n",
    "# UNCOMMENT the code lines to complete the Task\n",
    "\n",
    "# Import matplotlib and seaborn\n",
    "import matplotlib.pyplot as plt\n",
    "import seaborn as sns\n",
    "\n",
    "fig, ax = plt.subplots()\n",
    "\n",
    "# Plot a histogram of Parasleep from the Sleep DataFrame\n",
    "#ax.hist(####)\n",
    "\n",
    "# Specify the axis labels and plot title\n",
    "#ax.set_xlabel(####) \n",
    "#ax.set_####('Frequency') \n",
    "####_title('Daily dreaming sleep in mammal species') \n",
    "\n",
    "plt.show()"
   ]
  },
  {
   "cell_type": "code",
   "execution_count": null,
   "metadata": {
    "deletable": false,
    "id": "RrmIA3F493VF",
    "nbgrader": {
     "cell_type": "code",
     "checksum": "92e82f5e0e2aac0cda080c17b6e8c091",
     "grade": false,
     "grade_id": "cell-a99053d0685466ef",
     "locked": false,
     "schema_version": 3,
     "solution": true,
     "task": false
    },
    "outputId": "f603f214-1b34-4a21-c639-eb883d6dd275"
   },
   "outputs": [],
   "source": [
    "# Task 2 SOLUTION \n",
    "\n",
    "# IGNORE this cell - your code is completed above\n",
    "# You will see this solution when you submit the notebook\n",
    "\n",
    "# YOUR CODE HERE\n",
    "#raise NotImplementedError()"
   ]
  },
  {
   "attachments": {},
   "cell_type": "markdown",
   "metadata": {
    "id": "AyNFAYzYjFSA"
   },
   "source": [
    "**Task 3** - Prepare `Sleep` data for plotting\n",
    "\n",
    "* Create a subset of `Sleep` that includes only records of mammals in `Danger` category 1.  Name this DataFrame `Danger_1`\n",
    "* Create a subset of `Sleep` that includes only records of mammals in `Danger` category 5.  Name this DataFrame `Danger_5`"
   ]
  },
  {
   "cell_type": "code",
   "execution_count": null,
   "metadata": {
    "deletable": false,
    "id": "thH2y_ik93VG",
    "nbgrader": {
     "cell_type": "code",
     "checksum": "1f4529bed205ff7e5a13e4f441f07ce3",
     "grade": false,
     "grade_id": "cell-337cd8cb51d5f637",
     "locked": false,
     "schema_version": 3,
     "solution": true,
     "task": false
    },
    "outputId": "2cc0e8e8-509c-4342-9c0a-ea94e1e74574"
   },
   "outputs": [],
   "source": [
    "# Task 3\n",
    "\n",
    "# Set up danger category 1 and danger category 5\n",
    "\n",
    "# YOUR CODE HERE\n",
    "raise NotImplementedError()\n",
    "\n",
    "# View your DataFrames\n",
    "print(Danger_1.head())\n",
    "print(Danger_5.head())"
   ]
  },
  {
   "cell_type": "code",
   "execution_count": null,
   "metadata": {
    "deletable": false,
    "editable": false,
    "id": "fTa9GpVD93VG",
    "nbgrader": {
     "cell_type": "code",
     "checksum": "88d595666a3c45fbcf3850d663c3cb95",
     "grade": true,
     "grade_id": "cell-c3505d0306800048",
     "locked": true,
     "points": 1,
     "schema_version": 3,
     "solution": false,
     "task": false
    }
   },
   "outputs": [],
   "source": [
    "# Task 3 - Test\n",
    "\n",
    "assert isinstance(Danger_1, pd.DataFrame), 'Have you created a DataFrame named Danger_1 (check your capitalization)?'\n",
    "assert isinstance(Danger_5, pd.DataFrame), 'Have you created a DataFrame named Danger_5 (check your capitalization)?'\n"
   ]
  },
  {
   "attachments": {},
   "cell_type": "markdown",
   "metadata": {
    "id": "IlBlDifc93VH"
   },
   "source": [
    "**Task 4** - Sort the `Sleep` DataFrame\n",
    "\n",
    "* Sort the `Sleep` DataFrame by `Gest`.  Name the sorted DataFrame `Sleep_sorted`"
   ]
  },
  {
   "cell_type": "code",
   "execution_count": null,
   "metadata": {
    "deletable": false,
    "id": "f_LquzlJ93VI",
    "nbgrader": {
     "cell_type": "code",
     "checksum": "963aea91dcb91264e6921df9de0a98c1",
     "grade": false,
     "grade_id": "cell-c0ab45b6dbe40522",
     "locked": false,
     "schema_version": 3,
     "solution": true,
     "task": false
    },
    "outputId": "4d844a44-ee6a-4ba4-f18f-0e51a8e66e26"
   },
   "outputs": [],
   "source": [
    "# Task 4\n",
    "\n",
    "# Sort Sleep by Gest\n",
    "\n",
    "# YOUR CODE HERE\n",
    "raise NotImplementedError()\n",
    "\n",
    "# View the results\n",
    "Sleep_sorted.head()"
   ]
  },
  {
   "cell_type": "code",
   "execution_count": null,
   "metadata": {
    "deletable": false,
    "editable": false,
    "id": "H0QfbTcM93VI",
    "nbgrader": {
     "cell_type": "code",
     "checksum": "bf3b5e3150f9da749b042add79d97f04",
     "grade": true,
     "grade_id": "cell-7420f399f5d1cef9",
     "locked": true,
     "points": 1,
     "schema_version": 3,
     "solution": false,
     "task": false
    }
   },
   "outputs": [],
   "source": [
    "# Task 4 - Test\n",
    "\n",
    "assert Sleep_sorted.iloc[0, 0] == 'N_American_opossum', 'Double-check your DataFrame sorting'\n",
    "\n",
    "### No hidden tests"
   ]
  },
  {
   "attachments": {},
   "cell_type": "markdown",
   "metadata": {
    "id": "ORR-VG_Uylsb"
   },
   "source": [
    "**Task 5** - Plot a line plot of `Parasleep` by `Gest`, the gestational time for each mammal.\n",
    "\n",
    "Use the template below and **replace the #### as specified in the instructions**\n",
    "\n",
    "* Plot a line plot using the `Sleep_sorted` DataFrame with each mammal's value of `Gest` on the x-axis and each mammal's value of `Parasleep` on the y-axis.\n",
    "* In the `plot` statment, specify `'o'` for the marker, `'dashdot'` for the linestyle and `'b'` for the color.\n",
    "* Label and title the graph using the statements provided for you.\n",
    "\n",
    "**The plotting code will not be autograded** but it is still required for completing the project."
   ]
  },
  {
   "cell_type": "code",
   "execution_count": null,
   "metadata": {
    "id": "Xmx0jTIuxYfC",
    "outputId": "cd298821-a880-4c27-c6ae-d083cc23070d"
   },
   "outputs": [],
   "source": [
    "# Task 5 - Plotting\n",
    "\n",
    "# UNCOMMENT the code lines to complete the Task\n",
    "\n",
    "fig, ax = plt.subplots()\n",
    "\n",
    "#ax.plot(####, \n",
    "#    ####, \n",
    "#    marker=####,\n",
    "#    linestyle=####,\n",
    "#    color=####) \n",
    "\n",
    "#ax.set_xlabel('Gestational time (days)') \n",
    "#ax.set_ylabel('Dreaming sleep (hours)') \n",
    "#ax.set_title('The Relationship of Gestational Time to Dreaming Sleep in Mammals') \n",
    "\n",
    "plt.show()"
   ]
  },
  {
   "cell_type": "code",
   "execution_count": null,
   "metadata": {
    "deletable": false,
    "id": "Khm6WiEg93VJ",
    "nbgrader": {
     "cell_type": "code",
     "checksum": "07f0c3c63ce7d8ff2d1981ee280aa5fd",
     "grade": false,
     "grade_id": "cell-eed45d8b40814c93",
     "locked": false,
     "schema_version": 3,
     "solution": true,
     "task": false
    },
    "outputId": "f85b105c-9a5d-4bd6-ffd8-17472d95b691"
   },
   "outputs": [],
   "source": [
    "# Task 5 SOLUTION\n",
    "\n",
    "# IGNORE this cell - your code is completed above\n",
    "# You will see this solution when you submit the notebook\n",
    "\n",
    "# YOUR CODE HERE\n",
    "#raise NotImplementedError()"
   ]
  },
  {
   "attachments": {},
   "cell_type": "markdown",
   "metadata": {
    "id": "Qr2ji9Pp93VJ"
   },
   "source": [
    "**Task 6a** - Create a normalized DataFrame\n",
    "\n",
    "* Use `value_counts` with `normalize=True` to calculate the proportion of mammals in the `Sleep` DataFrame that are in each `Danger` category.  **Save your results in a DataFrame named `Danger_prop`**. \n",
    "* Calculate the percent of mammals in each `Danger` category by multiplying `Danger_prop` by 100 and naming the results `Danger_pct`."
   ]
  },
  {
   "cell_type": "code",
   "execution_count": null,
   "metadata": {
    "deletable": false,
    "nbgrader": {
     "cell_type": "code",
     "checksum": "3b21254d4f20ea5f6e0b1a9eb6f2f9e3",
     "grade": true,
     "grade_id": "cell-f72fc346a6ef5258",
     "locked": false,
     "points": 0,
     "schema_version": 3,
     "solution": true,
     "task": false
    }
   },
   "outputs": [],
   "source": [
    "# YOUR CODE HERE\n",
    "raise NotImplementedError()"
   ]
  },
  {
   "cell_type": "code",
   "execution_count": null,
   "metadata": {
    "deletable": false,
    "editable": false,
    "nbgrader": {
     "cell_type": "code",
     "checksum": "d3d6d41a39c9b9720883ee7cd522ecd1",
     "grade": false,
     "grade_id": "cell-762d1e7c98d01577",
     "locked": true,
     "schema_version": 3,
     "solution": false,
     "task": false
    }
   },
   "outputs": [],
   "source": [
    "assert isinstance(Danger_prop, pd.DataFrame), 'Have you created a DataFrame named Danger_prop?'\n",
    "assert isinstance(Danger_pct, pd.DataFrame), 'Have you created a DataFrame named Danger_pct?'\n"
   ]
  },
  {
   "attachments": {},
   "cell_type": "markdown",
   "metadata": {
    "id": "dpVOCB7HWmae"
   },
   "source": [
    "**Task 6b** - Plot the percent of animals in each `danger` category using a pie chart.\n",
    "\n",
    "* Plot a pie chart using the `Danger` variable from the `Danger_pct` DataFrame.  \n",
    "* Set the labels of the plot using `Danger_pct.index`\n",
    "* Some other graphical parameters as well as the plot title have been set for you.\n",
    "\n",
    "**The plotting code will not be autograded** but it is still required for completing the project."
   ]
  },
  {
   "cell_type": "code",
   "execution_count": null,
   "metadata": {},
   "outputs": [],
   "source": [
    "# Reset the index of Danger_pct so we can easily reference the columns by name\n",
    "Danger_pct.reset_index(inplace=True)"
   ]
  },
  {
   "cell_type": "code",
   "execution_count": null,
   "metadata": {
    "colab": {
     "base_uri": "https://localhost:8080/",
     "height": 264
    },
    "id": "-WIrvK5P1278",
    "outputId": "f70e0ee7-a354-427e-93e9-3c227cbded34"
   },
   "outputs": [],
   "source": [
    "# Task 6b - Plotting\n",
    "\n",
    "# UNCOMMENT the code lines to complete the Task\n",
    "\n",
    "# Create the pie chart\n",
    "\n",
    "fig, ax = plt.subplots()\n",
    "\n",
    "#ax.pie(####, labels=####, autopct='%1.1f%%', startangle=90)\n",
    "#ax.set_title('Percent of mammals in each danger category')\n",
    "\n",
    "plt.show()"
   ]
  },
  {
   "cell_type": "code",
   "execution_count": null,
   "metadata": {},
   "outputs": [],
   "source": []
  },
  {
   "cell_type": "code",
   "execution_count": null,
   "metadata": {
    "deletable": false,
    "id": "uHpXwcEF93VL",
    "nbgrader": {
     "cell_type": "code",
     "checksum": "ed19a41c7483753736b29842885e9177",
     "grade": false,
     "grade_id": "cell-ade272759a14cda0",
     "locked": false,
     "schema_version": 3,
     "solution": true,
     "task": false
    },
    "outputId": "526229da-f571-4c08-d5f3-4c7e7e0a2bf1"
   },
   "outputs": [],
   "source": [
    "# Task 6b SOLUTION\n",
    "\n",
    "# IGNORE this cell - your code is completed above\n",
    "# You will see this solution when you submit the notebook\n",
    "\n",
    "# YOUR CODE HERE\n",
    "#raise NotImplementedError()"
   ]
  },
  {
   "attachments": {},
   "cell_type": "markdown",
   "metadata": {
    "id": "KjpEzt8993VL"
   },
   "source": [
    "**Task 7** - Create a new feature\n",
    "\n",
    "* Use `.loc` to create a new feature in `Sleep` called `Short life` that takes on the values: \n",
    "    * 1 if the mammal's lifespan is less than 30 years long\n",
    "    * 0 if the mammal's lifespan is 30 years or longer\n",
    "* Use `.value_counts()` to calculate the frequency of `Short life`.  **Save your results to a DataFrame named `Life_counts`**"
   ]
  },
  {
   "cell_type": "code",
   "execution_count": null,
   "metadata": {
    "colab": {
     "base_uri": "https://localhost:8080/",
     "height": 111
    },
    "deletable": false,
    "id": "rVCZbe9c93VL",
    "nbgrader": {
     "cell_type": "code",
     "checksum": "90299f3783dbd94d9f1d6a44aaf7ebc1",
     "grade": false,
     "grade_id": "cell-eea76e97d9e1d059",
     "locked": false,
     "schema_version": 3,
     "solution": true,
     "task": false
    },
    "outputId": "5e404f26-7942-497e-bcfe-72ed68d6acec"
   },
   "outputs": [],
   "source": [
    "# Task 7\n",
    "\n",
    "# YOUR CODE HERE\n",
    "raise NotImplementedError()\n",
    "\n",
    "# View the results\n",
    "Life_counts.head()\n"
   ]
  },
  {
   "cell_type": "code",
   "execution_count": null,
   "metadata": {
    "deletable": false,
    "editable": false,
    "id": "Cv94OoPq93VL",
    "nbgrader": {
     "cell_type": "code",
     "checksum": "0c12fff76ae5517a7ca083e8d3deaff5",
     "grade": true,
     "grade_id": "cell-ce26aa435b114a62",
     "locked": true,
     "points": 1,
     "schema_version": 3,
     "solution": false,
     "task": false
    }
   },
   "outputs": [],
   "source": [
    "# Task 7 - Test\n",
    "\n",
    "assert 'Short life' in Sleep.columns, 'Have you created the new feature column?'\n",
    "assert isinstance(Life_counts, pd.DataFrame), 'Have you created a DataFrame named Life_counts?'\n"
   ]
  },
  {
   "attachments": {},
   "cell_type": "markdown",
   "metadata": {
    "id": "GAKb2bwr5I6l"
   },
   "source": [
    "**Task 8** - Plot the number of mammals in the `Sleep` dataset that had short (< 30 year) and long (> 30 year) lifespans.\n",
    "\n",
    "* Use `.catplot()` with `kind='count'` to plot the frequency of `Short life`.\n",
    "* Other graphical parameters, axis labels, and the title have been set for you.\n",
    "\n",
    "**The plotting code will not be autograded** but it is still required for completing the project."
   ]
  },
  {
   "cell_type": "code",
   "execution_count": null,
   "metadata": {
    "id": "NDxvzUSp9D15",
    "outputId": "a563871c-6270-42da-940d-bdbe98d7138c"
   },
   "outputs": [],
   "source": [
    "# Task 8 - Plotting\n",
    "\n",
    "# UNCOMMENT the code lines to complete the Task\n",
    "\n",
    "#sns.catplot(x='########',data=#######,kind='######')\n",
    "\n",
    "plt.ylabel('Frequency') \n",
    "plt.xlabel('Mammal lifespan')\n",
    "plt.title('Number of Mammals with Long and Short Life Expectancies') \n",
    "plt.xticks(ticks=[0,1], labels=['Lifespan >=30 years', 'Lifespan < 30 years'])\n",
    "\n",
    "plt.show()"
   ]
  },
  {
   "cell_type": "code",
   "execution_count": null,
   "metadata": {
    "deletable": false,
    "id": "dbX6eEOE93VM",
    "nbgrader": {
     "cell_type": "code",
     "checksum": "4398d5f38155d6d1b0cc9396c076762a",
     "grade": false,
     "grade_id": "cell-485432aaba3752cd",
     "locked": false,
     "schema_version": 3,
     "solution": true,
     "task": false
    }
   },
   "outputs": [],
   "source": [
    "# Task 8 - Plotting\n",
    "\n",
    "# IGNORE this cell - your code is completed above\n",
    "# You will see this solution when you submit the notebook\n",
    "\n",
    "# YOUR CODE HERE\n",
    "#raise NotImplementedError()"
   ]
  }
 ],
 "metadata": {
  "colab": {
   "collapsed_sections": [],
   "name": "LS_DS_114_Make_Explanatory_Visualizations_Assignment_AG_source.ipynb",
   "provenance": []
  },
  "kernelspec": {
   "display_name": "Python 3",
   "language": "python",
   "name": "python3"
  },
  "language_info": {
   "codemirror_mode": {
    "name": "ipython",
    "version": 3
   },
   "file_extension": ".py",
   "mimetype": "text/x-python",
   "name": "python",
   "nbconvert_exporter": "python",
   "pygments_lexer": "ipython3",
   "version": "3.8.8"
  }
 },
 "nbformat": 4,
 "nbformat_minor": 1
}
