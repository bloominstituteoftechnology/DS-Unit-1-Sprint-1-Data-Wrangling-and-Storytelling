{
  "nbformat": 4,
  "nbformat_minor": 0,
  "metadata": {
    "colab": {
      "name": "Jacob_Torres_LS_DSPT9_114_Make_Explanatory_Visualizations_Assignment.ipynb",
      "provenance": [],
      "collapsed_sections": [],
      "authorship_tag": "ABX9TyPyMs27WzLm6sX/j71O1xS1",
      "include_colab_link": true
    },
    "kernelspec": {
      "name": "python3",
      "display_name": "Python 3"
    }
  },
  "cells": [
    {
      "cell_type": "markdown",
      "metadata": {
        "id": "view-in-github",
        "colab_type": "text"
      },
      "source": [
        "<a href=\"https://colab.research.google.com/github/jacob-torres/DS-Unit-1-Sprint-1-Data-Wrangling-and-Storytelling/blob/master/module4-make-explanatory-visualizations/Jacob_Torres_LS_DSPT9_114_Make_Explanatory_Visualizations_Assignment.ipynb\" target=\"_parent\"><img src=\"https://colab.research.google.com/assets/colab-badge.svg\" alt=\"Open In Colab\"/></a>"
      ]
    },
    {
      "cell_type": "markdown",
      "metadata": {
        "id": "JOkkl_N_q0eJ",
        "colab_type": "text"
      },
      "source": [
        "# Assignment\n",
        "\n",
        "### 1) Replicate the lesson code. I recommend that you do not copy-paste.\n",
        "\n",
        "Get caught up to where we got our example in class and then try and take things further. How close to \"pixel perfect\" can you make the lecture graph?\n",
        "\n",
        "Once you have something that you're proud of, share your graph in the cohort channel and move on to the second exercise.\n",
        "\n",
        "\n",
        "# Make Explanatory Visualizations\n",
        "\n",
        "## Anatomy of a Matplotlib Plot\n"
      ]
    },
    {
      "cell_type": "code",
      "metadata": {
        "id": "FkkudkudmYMO",
        "colab_type": "code",
        "colab": {
          "base_uri": "https://localhost:8080/",
          "height": 573
        },
        "outputId": "0dd47c97-c198-4b8e-e741-82686ce3191a"
      },
      "source": [
        "import numpy as np\n",
        "import matplotlib.pyplot as plt\n",
        "from matplotlib.ticker import AutoMinorLocator, MultipleLocator, FuncFormatter\n",
        "\n",
        "np.random.seed(12291995)\n",
        "\n",
        "X = np.linspace(0.5, 3.5, 100)\n",
        "Y1 = 3 + np.cos(X)\n",
        "Y2 = 1 + np.cos(1 + X / 0.75) / 2\n",
        "Y3 = np.random.uniform(Y1, Y2, len(X))\n",
        "\n",
        "fig = plt.figure(figsize=(8, 8))\n",
        "ax = fig.add_subplot(1, 1, 1, aspect=1)\n",
        "\n",
        "def minor_tick(x, pos):\n",
        "  if not x % 1.0:\n",
        "    return \"\"\n",
        "  return '%.2f' % x\n",
        "\n",
        "ax.xaxis.set_major_locator(MultipleLocator(1.000))\n",
        "ax.xaxis.set_minor_locator(AutoMinorLocator(4))\n",
        "ax.yaxis.set_major_locator(MultipleLocator(1.000))\n",
        "ax.yaxis.set_minor_locator(AutoMinorLocator(4))\n",
        "\n",
        "ax.xaxis.set_minor_formatter(FuncFormatter(minor_tick))\n",
        "ax.set_xlim(0, 4)\n",
        "ax.set_ylim(0, 4)\n",
        "\n",
        "ax.tick_params(which='major', width=1.0)\n",
        "ax.tick_params(which='major', length=10)\n",
        "ax.tick_params(which='minor', width=1.0, labelsize=10)\n",
        "ax.tick_params(which='minor', length=5, labelsize=10, labelcolor='0.25')\n",
        "\n",
        "ax.grid(linestyle='--', linewidth=0.5, color='.25', zorder=-10)\n",
        "\n",
        "#ax.plot(X, Y1, c=(0.25, 0.25, 1.00), lw=2, label=\"Blue signal\", zorder=10)\n",
        "#ax.plot(X, Y2, c=(1.00, 0.25, 0.25), lw=2, label=\"Red signal\")\n",
        "ax.plot(X, Y3, linewidth=0, marker='o', markerfacecolor='w', markeredgecolor='k')\n",
        "\n",
        "ax.set_title(\"Anatomy of a figure\", fontsize=20, verticalalignment='bottom')\n",
        "ax.set_xlabel(\"X axis label\")\n",
        "ax.set_ylabel(\"Y axis label\")\n",
        "\n",
        "ax.legend()\n",
        "\n",
        "\n",
        "def circle(x, y, radius=0.15):\n",
        "  from matplotlib.patches import Circle\n",
        "  from matplotlib.patheffects import withStroke\n",
        "  circle = Circle((x, y), radius, clip_on=False, zorder=10, linewidth=1,\n",
        "                  edgecolor='black', facecolor=(0, 0, 0, .0125),\n",
        "                  path_effects=[withStroke(linewidth=5, foreground='w')])\n",
        "  ax.add_artist(circle)\n",
        "\n",
        "\n",
        "def text(x, y, text):\n",
        "  ax.text(x, y, text, backgroundcolor='white',\n",
        "          ha='center', va='top', weight='bold', color='blue')\n",
        "\n",
        "\n",
        "# Minor tick\n",
        "circle(0.50, -0.10)\n",
        "text(0.50, -0.32, \"Minor tick label\")\n",
        "\n",
        "# Major tick\n",
        "circle(-0.03, 4.00)\n",
        "text(0.03, 3.80, \"Major tick\")\n",
        "\n",
        "# Minor tick\n",
        "circle(0.00, 3.50)\n",
        "text(0.00, 3.30, \"Minor tick\")\n",
        "\n",
        "# Major tick label\n",
        "circle(-0.15, 3.00)\n",
        "text(-0.15, 2.80, \"Major tick label\")\n",
        "\n",
        "# X Label\n",
        "circle(1.80, -0.27)\n",
        "text(1.80, -0.45, \"X axis label\")\n",
        "\n",
        "# Y Label\n",
        "circle(-0.27, 1.80)\n",
        "text(-0.27, 1.6, \"Y axis label\")\n",
        "\n",
        "# Title\n",
        "circle(1.60, 4.13)\n",
        "text(1.60, 3.93, \"Title\")\n",
        "\n",
        "# Blue plot\n",
        "circle(1.75, 2.80)\n",
        "text(1.75, 2.60, \"Line\\n(line plot)\")\n",
        "\n",
        "# Red plot\n",
        "circle(1.20, 0.60)\n",
        "text(1.20, 0.40, \"Line\\n(line plot)\")\n",
        "\n",
        "# Scatter plot\n",
        "circle(3.20, 1.75)\n",
        "text(3.20, 1.55, \"Markers\\n(scatter plot)\")\n",
        "\n",
        "# Grid\n",
        "circle(3.00, 3.00)\n",
        "text(3.00, 2.80, \"Grid\")\n",
        "\n",
        "# Legend\n",
        "circle(1.70, 1.80)\n",
        "text(3.70, 3.60, \"Legend\")\n",
        "\n",
        "# Axes\n",
        "circle(0.5, 0.5)\n",
        "text(0.5, 0.3, \"Axes\")\n",
        "\n",
        "# Figure\n",
        "circle(-0.3, 0.65)\n",
        "text(-0.3, 0.45, \"Figure\")\n",
        "\n",
        "color = 'blue'\n",
        "ax.annotate('Spines', xy=(4.0, 0.35), xytext=(3.3, 0.5),\n",
        "           weight='bold', color=color,\n",
        "           arrowprops=dict(arrowstyle='->',\n",
        "                           connectionstyle='arc3',\n",
        "                           color=color))\n",
        "\n",
        "ax.annotate('', xy=(3.15, 0.0), xytext=(3.45, 0.45),\n",
        "           weight='bold', color=color,\n",
        "           arrowprops=dict(arrowstyle='->',\n",
        "                           connectionstyle='arc3',\n",
        "                           color=color))\n",
        "\n",
        "ax.text(4.0, -0.4, \"Made with http://matplotlib.org\",\n",
        "        fontsize=10, ha='right', color='.5')\n",
        "\n",
        "plt.show()"
      ],
      "execution_count": 1,
      "outputs": [
        {
          "output_type": "stream",
          "text": [
            "No handles with labels found to put in legend.\n"
          ],
          "name": "stderr"
        },
        {
          "output_type": "display_data",
          "data": {
            "image/png": "[encoded data removed]",
            "text/plain": [
              "<Figure size 576x576 with 1 Axes>"
            ]
          },
          "metadata": {
            "tags": [],
            "needs_background": "light"
          }
        }
      ]
    },
    {
      "cell_type": "markdown",
      "metadata": {
        "id": "z-k5A0Iyd4M9",
        "colab_type": "text"
      },
      "source": [
        "# Matplotlib \"Pyplot\" Syntax"
      ]
    },
    {
      "cell_type": "code",
      "metadata": {
        "id": "Q-rA1F7cd-we",
        "colab_type": "code",
        "colab": {
          "base_uri": "https://localhost:8080/",
          "height": 561
        },
        "outputId": "6ca76a80-ce2e-4557-ea1c-3c8f42566f38"
      },
      "source": [
        "import matplotlib.pyplot as plt\n",
        "data = [7, 3, 6, 2, 5, 4]\n",
        "data2 = [4, 8, 4, 9, 3, 9]\n",
        "\n",
        "plt.plot(data)\n",
        "plt.title(\"My Title\")\n",
        "plt.xlabel(\"Number of Things\")\n",
        "plt.ylabel(\"Frequency\")\n",
        "plt.show()\n",
        "\n",
        "plt.plot(data2)"
      ],
      "execution_count": 2,
      "outputs": [
        {
          "output_type": "display_data",
          "data": {
            "image/png": "[encoded data removed]",
            "text/plain": [
              "<Figure size 432x288 with 1 Axes>"
            ]
          },
          "metadata": {
            "tags": [],
            "needs_background": "light"
          }
        },
        {
          "output_type": "execute_result",
          "data": {
            "text/plain": [
              "[<matplotlib.lines.Line2D at 0x7f94279fc908>]"
            ]
          },
          "metadata": {
            "tags": []
          },
          "execution_count": 2
        },
        {
          "output_type": "display_data",
          "data": {
            "image/png": "[encoded data removed]",
            "text/plain": [
              "<Figure size 432x288 with 1 Axes>"
            ]
          },
          "metadata": {
            "tags": [],
            "needs_background": "light"
          }
        }
      ]
    },
    {
      "cell_type": "markdown",
      "metadata": {
        "id": "EPS_SjYHfoml",
        "colab_type": "text"
      },
      "source": [
        "# Making Explanatory Visualizations with Matplotlib"
      ]
    },
    {
      "cell_type": "code",
      "metadata": {
        "id": "Yeb5cFCTfxhr",
        "colab_type": "code",
        "colab": {
          "base_uri": "https://localhost:8080/",
          "height": 355
        },
        "outputId": "f7cff391-2f12-4463-b7f7-502ec6ebec7e"
      },
      "source": [
        "from IPython.display import display, Image\n",
        "\n",
        "url = 'https://fivethirtyeight.com/wp-content/uploads/2017/09/mehtahickey-inconvenient-0830-1.png'\n",
        "example = Image(url=url, width=400)\n",
        "\n",
        "display(example)"
      ],
      "execution_count": 3,
      "outputs": [
        {
          "output_type": "display_data",
          "data": {
            "text/html": [
              "<img src=\"https://fivethirtyeight.com/wp-content/uploads/2017/09/mehtahickey-inconvenient-0830-1.png\" width=\"400\"/>"
            ],
            "text/plain": [
              "<IPython.core.display.Image object>"
            ]
          },
          "metadata": {
            "tags": []
          }
        }
      ]
    },
    {
      "cell_type": "markdown",
      "metadata": {
        "id": "MOnRmnK8ggUf",
        "colab_type": "text"
      },
      "source": [
        "## Make prototypes\n",
        "\n",
        "This helps us understand the problem"
      ]
    },
    {
      "cell_type": "code",
      "metadata": {
        "id": "0RCwagfwgkvr",
        "colab_type": "code",
        "colab": {
          "base_uri": "https://localhost:8080/",
          "height": 285
        },
        "outputId": "99b82074-8bb0-464d-e5e7-9504a96c09ff"
      },
      "source": [
        "%matplotlib inline\n",
        "import matplotlib.pyplot as plt\n",
        "import numpy as np\n",
        "import pandas as pd\n",
        "\n",
        "plt.style.use('fivethirtyeight')\n",
        "\n",
        "#Create a pandas series that approximates the height of the bars in the graphic\n",
        "fake = pd.Series([38, 3, 2, 1, 2, 4, 6, 5, 5, 33],\n",
        "                 index=range(1, 11))\n",
        "\n",
        "# Use pandas to plot the data in a bar chart, specifying the width and color of the bars\n",
        "fake.plot.bar(color='C1', width=.9);"
      ],
      "execution_count": 4,
      "outputs": [
        {
          "output_type": "display_data",
          "data": {
            "image/png": "[encoded data removed]",
            "text/plain": [
              "<Figure size 432x288 with 1 Axes>"
            ]
          },
          "metadata": {
            "tags": []
          }
        }
      ]
    },
    {
      "cell_type": "code",
      "metadata": {
        "id": "Rx1FfhOpc8eo",
        "colab_type": "code",
        "colab": {
          "base_uri": "https://localhost:8080/",
          "height": 285
        },
        "outputId": "6a78739d-33c7-4dc1-8d80-2b5e443a72cc"
      },
      "source": [
        "# Plot the frequencies of another pandas series\n",
        "fake2 = pd.Series(\n",
        "    [1, 1, 1, 1, 1, 1, 1, 1, 1, 1, 1, 1, 1, 1, 1, 1, 1, 1, 1, 1, 1, 1,\n",
        "     2, 2, 2, 2, 2, 2, 2, 2,\n",
        "     3, 3, 3, 3,\n",
        "     4, 4,\n",
        "     5, 5, 5,\n",
        "     6, 6, 6, 6, 6, 6,\n",
        "     7, 7, 7, 7, 7, 7, 7, 7, 7, 7, 7,\n",
        "     8, 8, 8, 8, 8, 8, 8, 8, 8, 8, 8, 8,\n",
        "     9, 9, 9, 9, 9, 9, 9, 9, 9, 9, 9, 9, 9, 9, 9, 9, 9, 9, 9,\n",
        "     10, 10, 10, 10, 10, 10, 10, 10, 10, 10, 10, 10, 10, 10, 10, 10, 10, 10, 10, 10, 10, 10, 10, 10, 10, 10, 10, 10, ]\n",
        ")\n",
        "\n",
        "fake2.value_counts().sort_index().plot.bar(color='C1', width=0.9);"
      ],
      "execution_count": 5,
      "outputs": [
        {
          "output_type": "display_data",
          "data": {
            "image/png": "[encoded data removed]",
            "text/plain": [
              "<Figure size 432x288 with 1 Axes>"
            ]
          },
          "metadata": {
            "tags": []
          }
        }
      ]
    },
    {
      "cell_type": "markdown",
      "metadata": {
        "id": "x44SwJ-Qe_12",
        "colab_type": "text"
      },
      "source": [
        "# Figure Axes Syntax"
      ]
    },
    {
      "cell_type": "code",
      "metadata": {
        "id": "JN4VXZh0fIWe",
        "colab_type": "code",
        "colab": {
          "base_uri": "https://localhost:8080/",
          "height": 327
        },
        "outputId": "58bd3d82-4f4e-4f7b-a062-17ad61e6e206"
      },
      "source": [
        "# Create two variables (fig and ax)\n",
        "fig, ax = plt.subplots()\n",
        "\n",
        "# Change the background color of the figure\n",
        "fig.patch.set(facecolor='green')\n",
        "\n",
        "# Change the background color of the axes\n",
        "ax.set(facecolor='yellow')\n",
        "\n",
        "# Add axis label\n",
        "ax.set_xlabel(\"My X axis label\")\n",
        "\n",
        "# Add a plot\n",
        "#ax.plot(data, color='C1');"
      ],
      "execution_count": 6,
      "outputs": [
        {
          "output_type": "execute_result",
          "data": {
            "text/plain": [
              "Text(0.5, 0, 'My X axis label')"
            ]
          },
          "metadata": {
            "tags": []
          },
          "execution_count": 6
        },
        {
          "output_type": "display_data",
          "data": {
            "image/png": "[encoded data removed]",
            "text/plain": [
              "<Figure size 432x288 with 1 Axes>"
            ]
          },
          "metadata": {
            "tags": []
          }
        }
      ]
    },
    {
      "cell_type": "markdown",
      "metadata": {
        "id": "mkDe6-25nOpS",
        "colab_type": "text"
      },
      "source": [
        "## Annotate with Text"
      ]
    },
    {
      "cell_type": "code",
      "metadata": {
        "id": "u8sGzvU2nSyi",
        "colab_type": "code",
        "colab": {
          "base_uri": "https://localhost:8080/",
          "height": 355
        },
        "outputId": "3ea487a0-7419-4f5a-cb40-f7152baf4f70"
      },
      "source": [
        "display(example)"
      ],
      "execution_count": 7,
      "outputs": [
        {
          "output_type": "display_data",
          "data": {
            "text/html": [
              "<img src=\"https://fivethirtyeight.com/wp-content/uploads/2017/09/mehtahickey-inconvenient-0830-1.png\" width=\"400\"/>"
            ],
            "text/plain": [
              "<IPython.core.display.Image object>"
            ]
          },
          "metadata": {
            "tags": []
          }
        }
      ]
    },
    {
      "cell_type": "code",
      "metadata": {
        "id": "xAbnpAF_n8Uk",
        "colab_type": "code",
        "colab": {
          "base_uri": "https://localhost:8080/",
          "height": 334
        },
        "outputId": "59773180-0b5e-46aa-e06b-9aad27b31e2a"
      },
      "source": [
        "plt.style.use('fivethirtyeight')\n",
        "fig, ax = plt.subplots()\n",
        "fake.plot.bar(fig, width=0.9, color='#ED7139')\n",
        "\n",
        "# matplotlib is an objective ortiented package. Some objects inherit functionality from others (title is a text object)\n",
        "ax.set_title(\"'An Inconvenient Sequel: Truth to Power' is divisive\",\n",
        "             loc='left', color='black',\n",
        "             fontsize=13, fontweight='bold',\n",
        "             x=-0.7, y=1.1)\n",
        "\n",
        "# Add a text object for subtitle\n",
        "ax.text(x=-1.4, y=42,\n",
        "    s=\"IMBD ratings for the film as of Aug 29\",\n",
        "    fontsize=12, color='black')\n",
        "\n",
        "# Axis labels\n",
        "ax.set_xlabel('Rating', color='black', fontsize=12, fontweight='bold')\n",
        "ax.set_ylabel(\"Percent of total votes\",\n",
        "              color='black', fontsize=12, fontweight='bold')\n",
        "\n",
        "# Set tick labels\n",
        "ax.set_xticklabels(labels=range(1, 11, 1),\n",
        "                   color='gray', rotation='horizontal', fontsize=11)\n",
        "ax.set_yticklabels(labels=['0%', '10%', '20%', '30%', '40%'],\n",
        "                   color='gray', fontsize=11)\n",
        "\n",
        "# Set location of y ticks\n",
        "ax.set_yticks(ticks=range(0, 50, 10))\n",
        "\n",
        "# Set figure background color\n",
        "fig.set_facecolor('white')\n",
        "#fig.patch.set(facecolor='white')\n",
        "\n",
        "# Set the axes background color\n",
        "ax.set_facecolor('white')\n",
        "#ax.set(facecolor='white')"
      ],
      "execution_count": 8,
      "outputs": [
        {
          "output_type": "display_data",
          "data": {
            "image/png": "[encoded data removed]",
            "text/plain": [
              "<Figure size 432x288 with 1 Axes>"
            ]
          },
          "metadata": {
            "tags": []
          }
        }
      ]
    },
    {
      "cell_type": "code",
      "metadata": {
        "id": "0wW353lHv80D",
        "colab_type": "code",
        "colab": {
          "base_uri": "https://localhost:8080/",
          "height": 202
        },
        "outputId": "a4816787-b782-4709-e12b-f012e19873aa"
      },
      "source": [
        "df = pd.read_csv('https://raw.githubusercontent.com/fivethirtyeight/data/master/daily-show-guests/daily_show_guests.csv')\n",
        "df.head()"
      ],
      "execution_count": 9,
      "outputs": [
        {
          "output_type": "execute_result",
          "data": {
            "text/html": [
              "<div>\n",
              "<style scoped>\n",
              "    .dataframe tbody tr th:only-of-type {\n",
              "        vertical-align: middle;\n",
              "    }\n",
              "\n",
              "    .dataframe tbody tr th {\n",
              "        vertical-align: top;\n",
              "    }\n",
              "\n",
              "    .dataframe thead th {\n",
              "        text-align: right;\n",
              "    }\n",
              "</style>\n",
              "<table border=\"1\" class=\"dataframe\">\n",
              "  <thead>\n",
              "    <tr style=\"text-align: right;\">\n",
              "      <th></th>\n",
              "      <th>YEAR</th>\n",
              "      <th>GoogleKnowlege_Occupation</th>\n",
              "      <th>Show</th>\n",
              "      <th>Group</th>\n",
              "      <th>Raw_Guest_List</th>\n",
              "    </tr>\n",
              "  </thead>\n",
              "  <tbody>\n",
              "    <tr>\n",
              "      <th>0</th>\n",
              "      <td>1999</td>\n",
              "      <td>actor</td>\n",
              "      <td>1/11/99</td>\n",
              "      <td>Acting</td>\n",
              "      <td>Michael J. Fox</td>\n",
              "    </tr>\n",
              "    <tr>\n",
              "      <th>1</th>\n",
              "      <td>1999</td>\n",
              "      <td>Comedian</td>\n",
              "      <td>1/12/99</td>\n",
              "      <td>Comedy</td>\n",
              "      <td>Sandra Bernhard</td>\n",
              "    </tr>\n",
              "    <tr>\n",
              "      <th>2</th>\n",
              "      <td>1999</td>\n",
              "      <td>television actress</td>\n",
              "      <td>1/13/99</td>\n",
              "      <td>Acting</td>\n",
              "      <td>Tracey Ullman</td>\n",
              "    </tr>\n",
              "    <tr>\n",
              "      <th>3</th>\n",
              "      <td>1999</td>\n",
              "      <td>film actress</td>\n",
              "      <td>1/14/99</td>\n",
              "      <td>Acting</td>\n",
              "      <td>Gillian Anderson</td>\n",
              "    </tr>\n",
              "    <tr>\n",
              "      <th>4</th>\n",
              "      <td>1999</td>\n",
              "      <td>actor</td>\n",
              "      <td>1/18/99</td>\n",
              "      <td>Acting</td>\n",
              "      <td>David Alan Grier</td>\n",
              "    </tr>\n",
              "  </tbody>\n",
              "</table>\n",
              "</div>"
            ],
            "text/plain": [
              "   YEAR GoogleKnowlege_Occupation     Show   Group    Raw_Guest_List\n",
              "0  1999                     actor  1/11/99  Acting    Michael J. Fox\n",
              "1  1999                  Comedian  1/12/99  Comedy   Sandra Bernhard\n",
              "2  1999        television actress  1/13/99  Acting     Tracey Ullman\n",
              "3  1999              film actress  1/14/99  Acting  Gillian Anderson\n",
              "4  1999                     actor  1/18/99  Acting  David Alan Grier"
            ]
          },
          "metadata": {
            "tags": []
          },
          "execution_count": 9
        }
      ]
    },
    {
      "cell_type": "code",
      "metadata": {
        "id": "ud4fKJohwc-D",
        "colab_type": "code",
        "colab": {
          "base_uri": "https://localhost:8080/",
          "height": 202
        },
        "outputId": "20014f96-ede6-4185-bcb1-4144e4cf65dc"
      },
      "source": [
        "def get_ocupation(group):\n",
        "  if group in ['Acting', 'Comedy', 'Musician']:\n",
        "    return 'Acting, Comedy, and Music'\n",
        "  elif group in ['Media']:\n",
        "    return 'Media'\n",
        "  elif group in ['Government', 'Politician', 'Political aide']:\n",
        "    return 'Government and Politics'\n",
        "  else:\n",
        "    return 'Other'\n",
        "\n",
        "df['Ocupation'] = df['Group'].apply(get_ocupation)\n",
        "df.head()"
      ],
      "execution_count": 10,
      "outputs": [
        {
          "output_type": "execute_result",
          "data": {
            "text/html": [
              "<div>\n",
              "<style scoped>\n",
              "    .dataframe tbody tr th:only-of-type {\n",
              "        vertical-align: middle;\n",
              "    }\n",
              "\n",
              "    .dataframe tbody tr th {\n",
              "        vertical-align: top;\n",
              "    }\n",
              "\n",
              "    .dataframe thead th {\n",
              "        text-align: right;\n",
              "    }\n",
              "</style>\n",
              "<table border=\"1\" class=\"dataframe\">\n",
              "  <thead>\n",
              "    <tr style=\"text-align: right;\">\n",
              "      <th></th>\n",
              "      <th>YEAR</th>\n",
              "      <th>GoogleKnowlege_Occupation</th>\n",
              "      <th>Show</th>\n",
              "      <th>Group</th>\n",
              "      <th>Raw_Guest_List</th>\n",
              "      <th>Ocupation</th>\n",
              "    </tr>\n",
              "  </thead>\n",
              "  <tbody>\n",
              "    <tr>\n",
              "      <th>0</th>\n",
              "      <td>1999</td>\n",
              "      <td>actor</td>\n",
              "      <td>1/11/99</td>\n",
              "      <td>Acting</td>\n",
              "      <td>Michael J. Fox</td>\n",
              "      <td>Acting, Comedy, and Music</td>\n",
              "    </tr>\n",
              "    <tr>\n",
              "      <th>1</th>\n",
              "      <td>1999</td>\n",
              "      <td>Comedian</td>\n",
              "      <td>1/12/99</td>\n",
              "      <td>Comedy</td>\n",
              "      <td>Sandra Bernhard</td>\n",
              "      <td>Acting, Comedy, and Music</td>\n",
              "    </tr>\n",
              "    <tr>\n",
              "      <th>2</th>\n",
              "      <td>1999</td>\n",
              "      <td>television actress</td>\n",
              "      <td>1/13/99</td>\n",
              "      <td>Acting</td>\n",
              "      <td>Tracey Ullman</td>\n",
              "      <td>Acting, Comedy, and Music</td>\n",
              "    </tr>\n",
              "    <tr>\n",
              "      <th>3</th>\n",
              "      <td>1999</td>\n",
              "      <td>film actress</td>\n",
              "      <td>1/14/99</td>\n",
              "      <td>Acting</td>\n",
              "      <td>Gillian Anderson</td>\n",
              "      <td>Acting, Comedy, and Music</td>\n",
              "    </tr>\n",
              "    <tr>\n",
              "      <th>4</th>\n",
              "      <td>1999</td>\n",
              "      <td>actor</td>\n",
              "      <td>1/18/99</td>\n",
              "      <td>Acting</td>\n",
              "      <td>David Alan Grier</td>\n",
              "      <td>Acting, Comedy, and Music</td>\n",
              "    </tr>\n",
              "  </tbody>\n",
              "</table>\n",
              "</div>"
            ],
            "text/plain": [
              "   YEAR GoogleKnowlege_Occupation  ...    Raw_Guest_List                  Ocupation\n",
              "0  1999                     actor  ...    Michael J. Fox  Acting, Comedy, and Music\n",
              "1  1999                  Comedian  ...   Sandra Bernhard  Acting, Comedy, and Music\n",
              "2  1999        television actress  ...     Tracey Ullman  Acting, Comedy, and Music\n",
              "3  1999              film actress  ...  Gillian Anderson  Acting, Comedy, and Music\n",
              "4  1999                     actor  ...  David Alan Grier  Acting, Comedy, and Music\n",
              "\n",
              "[5 rows x 6 columns]"
            ]
          },
          "metadata": {
            "tags": []
          },
          "execution_count": 10
        }
      ]
    },
    {
      "cell_type": "code",
      "metadata": {
        "id": "uIuEMOtiyFnu",
        "colab_type": "code",
        "colab": {
          "base_uri": "https://localhost:8080/",
          "height": 601
        },
        "outputId": "fecd38c3-201f-42e5-a998-25c693422e68"
      },
      "source": [
        "ct = pd.crosstab(df['YEAR'], df['Ocupation'])\n",
        "ct"
      ],
      "execution_count": 11,
      "outputs": [
        {
          "output_type": "execute_result",
          "data": {
            "text/html": [
              "<div>\n",
              "<style scoped>\n",
              "    .dataframe tbody tr th:only-of-type {\n",
              "        vertical-align: middle;\n",
              "    }\n",
              "\n",
              "    .dataframe tbody tr th {\n",
              "        vertical-align: top;\n",
              "    }\n",
              "\n",
              "    .dataframe thead th {\n",
              "        text-align: right;\n",
              "    }\n",
              "</style>\n",
              "<table border=\"1\" class=\"dataframe\">\n",
              "  <thead>\n",
              "    <tr style=\"text-align: right;\">\n",
              "      <th>Ocupation</th>\n",
              "      <th>Acting, Comedy, and Music</th>\n",
              "      <th>Government and Politics</th>\n",
              "      <th>Media</th>\n",
              "      <th>Other</th>\n",
              "    </tr>\n",
              "    <tr>\n",
              "      <th>YEAR</th>\n",
              "      <th></th>\n",
              "      <th></th>\n",
              "      <th></th>\n",
              "      <th></th>\n",
              "    </tr>\n",
              "  </thead>\n",
              "  <tbody>\n",
              "    <tr>\n",
              "      <th>1999</th>\n",
              "      <td>150</td>\n",
              "      <td>2</td>\n",
              "      <td>11</td>\n",
              "      <td>3</td>\n",
              "    </tr>\n",
              "    <tr>\n",
              "      <th>2000</th>\n",
              "      <td>125</td>\n",
              "      <td>13</td>\n",
              "      <td>21</td>\n",
              "      <td>10</td>\n",
              "    </tr>\n",
              "    <tr>\n",
              "      <th>2001</th>\n",
              "      <td>114</td>\n",
              "      <td>5</td>\n",
              "      <td>30</td>\n",
              "      <td>8</td>\n",
              "    </tr>\n",
              "    <tr>\n",
              "      <th>2002</th>\n",
              "      <td>99</td>\n",
              "      <td>9</td>\n",
              "      <td>39</td>\n",
              "      <td>12</td>\n",
              "    </tr>\n",
              "    <tr>\n",
              "      <th>2003</th>\n",
              "      <td>93</td>\n",
              "      <td>16</td>\n",
              "      <td>41</td>\n",
              "      <td>16</td>\n",
              "    </tr>\n",
              "    <tr>\n",
              "      <th>2004</th>\n",
              "      <td>63</td>\n",
              "      <td>35</td>\n",
              "      <td>45</td>\n",
              "      <td>21</td>\n",
              "    </tr>\n",
              "    <tr>\n",
              "      <th>2005</th>\n",
              "      <td>60</td>\n",
              "      <td>23</td>\n",
              "      <td>54</td>\n",
              "      <td>25</td>\n",
              "    </tr>\n",
              "    <tr>\n",
              "      <th>2006</th>\n",
              "      <td>58</td>\n",
              "      <td>28</td>\n",
              "      <td>47</td>\n",
              "      <td>28</td>\n",
              "    </tr>\n",
              "    <tr>\n",
              "      <th>2007</th>\n",
              "      <td>36</td>\n",
              "      <td>22</td>\n",
              "      <td>47</td>\n",
              "      <td>36</td>\n",
              "    </tr>\n",
              "    <tr>\n",
              "      <th>2008</th>\n",
              "      <td>34</td>\n",
              "      <td>27</td>\n",
              "      <td>77</td>\n",
              "      <td>26</td>\n",
              "    </tr>\n",
              "    <tr>\n",
              "      <th>2009</th>\n",
              "      <td>34</td>\n",
              "      <td>31</td>\n",
              "      <td>59</td>\n",
              "      <td>39</td>\n",
              "    </tr>\n",
              "    <tr>\n",
              "      <th>2010</th>\n",
              "      <td>58</td>\n",
              "      <td>28</td>\n",
              "      <td>50</td>\n",
              "      <td>29</td>\n",
              "    </tr>\n",
              "    <tr>\n",
              "      <th>2011</th>\n",
              "      <td>55</td>\n",
              "      <td>26</td>\n",
              "      <td>50</td>\n",
              "      <td>32</td>\n",
              "    </tr>\n",
              "    <tr>\n",
              "      <th>2012</th>\n",
              "      <td>44</td>\n",
              "      <td>32</td>\n",
              "      <td>52</td>\n",
              "      <td>36</td>\n",
              "    </tr>\n",
              "    <tr>\n",
              "      <th>2013</th>\n",
              "      <td>71</td>\n",
              "      <td>18</td>\n",
              "      <td>51</td>\n",
              "      <td>26</td>\n",
              "    </tr>\n",
              "    <tr>\n",
              "      <th>2014</th>\n",
              "      <td>64</td>\n",
              "      <td>19</td>\n",
              "      <td>53</td>\n",
              "      <td>27</td>\n",
              "    </tr>\n",
              "    <tr>\n",
              "      <th>2015</th>\n",
              "      <td>45</td>\n",
              "      <td>14</td>\n",
              "      <td>24</td>\n",
              "      <td>17</td>\n",
              "    </tr>\n",
              "  </tbody>\n",
              "</table>\n",
              "</div>"
            ],
            "text/plain": [
              "Ocupation  Acting, Comedy, and Music  Government and Politics  Media  Other\n",
              "YEAR                                                                       \n",
              "1999                             150                        2     11      3\n",
              "2000                             125                       13     21     10\n",
              "2001                             114                        5     30      8\n",
              "2002                              99                        9     39     12\n",
              "2003                              93                       16     41     16\n",
              "2004                              63                       35     45     21\n",
              "2005                              60                       23     54     25\n",
              "2006                              58                       28     47     28\n",
              "2007                              36                       22     47     36\n",
              "2008                              34                       27     77     26\n",
              "2009                              34                       31     59     39\n",
              "2010                              58                       28     50     29\n",
              "2011                              55                       26     50     32\n",
              "2012                              44                       32     52     36\n",
              "2013                              71                       18     51     26\n",
              "2014                              64                       19     53     27\n",
              "2015                              45                       14     24     17"
            ]
          },
          "metadata": {
            "tags": []
          },
          "execution_count": 11
        }
      ]
    },
    {
      "cell_type": "code",
      "metadata": {
        "id": "mh8fTW29l6lH",
        "colab_type": "code",
        "colab": {
          "base_uri": "https://localhost:8080/",
          "height": 601
        },
        "outputId": "2ff01fa3-8541-48c0-f8a3-fd81bbef4746"
      },
      "source": [
        "# Create a function to round the new values\n",
        "def round_percentage(val):\n",
        "  return round(float(val), 2)\n",
        "\n",
        "\n",
        "# Normalize the values to reflect percentages\n",
        "ct = pd.crosstab(df['YEAR'], df['Ocupation'], normalize='index') * 100\n",
        "ct = ct.drop(columns='Other')\n",
        "ct"
      ],
      "execution_count": 12,
      "outputs": [
        {
          "output_type": "execute_result",
          "data": {
            "text/html": [
              "<div>\n",
              "<style scoped>\n",
              "    .dataframe tbody tr th:only-of-type {\n",
              "        vertical-align: middle;\n",
              "    }\n",
              "\n",
              "    .dataframe tbody tr th {\n",
              "        vertical-align: top;\n",
              "    }\n",
              "\n",
              "    .dataframe thead th {\n",
              "        text-align: right;\n",
              "    }\n",
              "</style>\n",
              "<table border=\"1\" class=\"dataframe\">\n",
              "  <thead>\n",
              "    <tr style=\"text-align: right;\">\n",
              "      <th>Ocupation</th>\n",
              "      <th>Acting, Comedy, and Music</th>\n",
              "      <th>Government and Politics</th>\n",
              "      <th>Media</th>\n",
              "    </tr>\n",
              "    <tr>\n",
              "      <th>YEAR</th>\n",
              "      <th></th>\n",
              "      <th></th>\n",
              "      <th></th>\n",
              "    </tr>\n",
              "  </thead>\n",
              "  <tbody>\n",
              "    <tr>\n",
              "      <th>1999</th>\n",
              "      <td>90.361446</td>\n",
              "      <td>1.204819</td>\n",
              "      <td>6.626506</td>\n",
              "    </tr>\n",
              "    <tr>\n",
              "      <th>2000</th>\n",
              "      <td>73.964497</td>\n",
              "      <td>7.692308</td>\n",
              "      <td>12.426036</td>\n",
              "    </tr>\n",
              "    <tr>\n",
              "      <th>2001</th>\n",
              "      <td>72.611465</td>\n",
              "      <td>3.184713</td>\n",
              "      <td>19.108280</td>\n",
              "    </tr>\n",
              "    <tr>\n",
              "      <th>2002</th>\n",
              "      <td>62.264151</td>\n",
              "      <td>5.660377</td>\n",
              "      <td>24.528302</td>\n",
              "    </tr>\n",
              "    <tr>\n",
              "      <th>2003</th>\n",
              "      <td>56.024096</td>\n",
              "      <td>9.638554</td>\n",
              "      <td>24.698795</td>\n",
              "    </tr>\n",
              "    <tr>\n",
              "      <th>2004</th>\n",
              "      <td>38.414634</td>\n",
              "      <td>21.341463</td>\n",
              "      <td>27.439024</td>\n",
              "    </tr>\n",
              "    <tr>\n",
              "      <th>2005</th>\n",
              "      <td>37.037037</td>\n",
              "      <td>14.197531</td>\n",
              "      <td>33.333333</td>\n",
              "    </tr>\n",
              "    <tr>\n",
              "      <th>2006</th>\n",
              "      <td>36.024845</td>\n",
              "      <td>17.391304</td>\n",
              "      <td>29.192547</td>\n",
              "    </tr>\n",
              "    <tr>\n",
              "      <th>2007</th>\n",
              "      <td>25.531915</td>\n",
              "      <td>15.602837</td>\n",
              "      <td>33.333333</td>\n",
              "    </tr>\n",
              "    <tr>\n",
              "      <th>2008</th>\n",
              "      <td>20.731707</td>\n",
              "      <td>16.463415</td>\n",
              "      <td>46.951220</td>\n",
              "    </tr>\n",
              "    <tr>\n",
              "      <th>2009</th>\n",
              "      <td>20.858896</td>\n",
              "      <td>19.018405</td>\n",
              "      <td>36.196319</td>\n",
              "    </tr>\n",
              "    <tr>\n",
              "      <th>2010</th>\n",
              "      <td>35.151515</td>\n",
              "      <td>16.969697</td>\n",
              "      <td>30.303030</td>\n",
              "    </tr>\n",
              "    <tr>\n",
              "      <th>2011</th>\n",
              "      <td>33.742331</td>\n",
              "      <td>15.950920</td>\n",
              "      <td>30.674847</td>\n",
              "    </tr>\n",
              "    <tr>\n",
              "      <th>2012</th>\n",
              "      <td>26.829268</td>\n",
              "      <td>19.512195</td>\n",
              "      <td>31.707317</td>\n",
              "    </tr>\n",
              "    <tr>\n",
              "      <th>2013</th>\n",
              "      <td>42.771084</td>\n",
              "      <td>10.843373</td>\n",
              "      <td>30.722892</td>\n",
              "    </tr>\n",
              "    <tr>\n",
              "      <th>2014</th>\n",
              "      <td>39.263804</td>\n",
              "      <td>11.656442</td>\n",
              "      <td>32.515337</td>\n",
              "    </tr>\n",
              "    <tr>\n",
              "      <th>2015</th>\n",
              "      <td>45.000000</td>\n",
              "      <td>14.000000</td>\n",
              "      <td>24.000000</td>\n",
              "    </tr>\n",
              "  </tbody>\n",
              "</table>\n",
              "</div>"
            ],
            "text/plain": [
              "Ocupation  Acting, Comedy, and Music  Government and Politics      Media\n",
              "YEAR                                                                    \n",
              "1999                       90.361446                 1.204819   6.626506\n",
              "2000                       73.964497                 7.692308  12.426036\n",
              "2001                       72.611465                 3.184713  19.108280\n",
              "2002                       62.264151                 5.660377  24.528302\n",
              "2003                       56.024096                 9.638554  24.698795\n",
              "2004                       38.414634                21.341463  27.439024\n",
              "2005                       37.037037                14.197531  33.333333\n",
              "2006                       36.024845                17.391304  29.192547\n",
              "2007                       25.531915                15.602837  33.333333\n",
              "2008                       20.731707                16.463415  46.951220\n",
              "2009                       20.858896                19.018405  36.196319\n",
              "2010                       35.151515                16.969697  30.303030\n",
              "2011                       33.742331                15.950920  30.674847\n",
              "2012                       26.829268                19.512195  31.707317\n",
              "2013                       42.771084                10.843373  30.722892\n",
              "2014                       39.263804                11.656442  32.515337\n",
              "2015                       45.000000                14.000000  24.000000"
            ]
          },
          "metadata": {
            "tags": []
          },
          "execution_count": 12
        }
      ]
    },
    {
      "cell_type": "code",
      "metadata": {
        "id": "N6HhkiZZop3g",
        "colab_type": "code",
        "colab": {
          "base_uri": "https://localhost:8080/",
          "height": 570
        },
        "outputId": "1e4efd70-cd55-4625-ad83-ae280e37d556"
      },
      "source": [
        "year = ct.index.to_list()\n",
        "\n",
        "ct = ct.reset_index()\n",
        "ct"
      ],
      "execution_count": 13,
      "outputs": [
        {
          "output_type": "execute_result",
          "data": {
            "text/html": [
              "<div>\n",
              "<style scoped>\n",
              "    .dataframe tbody tr th:only-of-type {\n",
              "        vertical-align: middle;\n",
              "    }\n",
              "\n",
              "    .dataframe tbody tr th {\n",
              "        vertical-align: top;\n",
              "    }\n",
              "\n",
              "    .dataframe thead th {\n",
              "        text-align: right;\n",
              "    }\n",
              "</style>\n",
              "<table border=\"1\" class=\"dataframe\">\n",
              "  <thead>\n",
              "    <tr style=\"text-align: right;\">\n",
              "      <th>Ocupation</th>\n",
              "      <th>YEAR</th>\n",
              "      <th>Acting, Comedy, and Music</th>\n",
              "      <th>Government and Politics</th>\n",
              "      <th>Media</th>\n",
              "    </tr>\n",
              "  </thead>\n",
              "  <tbody>\n",
              "    <tr>\n",
              "      <th>0</th>\n",
              "      <td>1999</td>\n",
              "      <td>90.361446</td>\n",
              "      <td>1.204819</td>\n",
              "      <td>6.626506</td>\n",
              "    </tr>\n",
              "    <tr>\n",
              "      <th>1</th>\n",
              "      <td>2000</td>\n",
              "      <td>73.964497</td>\n",
              "      <td>7.692308</td>\n",
              "      <td>12.426036</td>\n",
              "    </tr>\n",
              "    <tr>\n",
              "      <th>2</th>\n",
              "      <td>2001</td>\n",
              "      <td>72.611465</td>\n",
              "      <td>3.184713</td>\n",
              "      <td>19.108280</td>\n",
              "    </tr>\n",
              "    <tr>\n",
              "      <th>3</th>\n",
              "      <td>2002</td>\n",
              "      <td>62.264151</td>\n",
              "      <td>5.660377</td>\n",
              "      <td>24.528302</td>\n",
              "    </tr>\n",
              "    <tr>\n",
              "      <th>4</th>\n",
              "      <td>2003</td>\n",
              "      <td>56.024096</td>\n",
              "      <td>9.638554</td>\n",
              "      <td>24.698795</td>\n",
              "    </tr>\n",
              "    <tr>\n",
              "      <th>5</th>\n",
              "      <td>2004</td>\n",
              "      <td>38.414634</td>\n",
              "      <td>21.341463</td>\n",
              "      <td>27.439024</td>\n",
              "    </tr>\n",
              "    <tr>\n",
              "      <th>6</th>\n",
              "      <td>2005</td>\n",
              "      <td>37.037037</td>\n",
              "      <td>14.197531</td>\n",
              "      <td>33.333333</td>\n",
              "    </tr>\n",
              "    <tr>\n",
              "      <th>7</th>\n",
              "      <td>2006</td>\n",
              "      <td>36.024845</td>\n",
              "      <td>17.391304</td>\n",
              "      <td>29.192547</td>\n",
              "    </tr>\n",
              "    <tr>\n",
              "      <th>8</th>\n",
              "      <td>2007</td>\n",
              "      <td>25.531915</td>\n",
              "      <td>15.602837</td>\n",
              "      <td>33.333333</td>\n",
              "    </tr>\n",
              "    <tr>\n",
              "      <th>9</th>\n",
              "      <td>2008</td>\n",
              "      <td>20.731707</td>\n",
              "      <td>16.463415</td>\n",
              "      <td>46.951220</td>\n",
              "    </tr>\n",
              "    <tr>\n",
              "      <th>10</th>\n",
              "      <td>2009</td>\n",
              "      <td>20.858896</td>\n",
              "      <td>19.018405</td>\n",
              "      <td>36.196319</td>\n",
              "    </tr>\n",
              "    <tr>\n",
              "      <th>11</th>\n",
              "      <td>2010</td>\n",
              "      <td>35.151515</td>\n",
              "      <td>16.969697</td>\n",
              "      <td>30.303030</td>\n",
              "    </tr>\n",
              "    <tr>\n",
              "      <th>12</th>\n",
              "      <td>2011</td>\n",
              "      <td>33.742331</td>\n",
              "      <td>15.950920</td>\n",
              "      <td>30.674847</td>\n",
              "    </tr>\n",
              "    <tr>\n",
              "      <th>13</th>\n",
              "      <td>2012</td>\n",
              "      <td>26.829268</td>\n",
              "      <td>19.512195</td>\n",
              "      <td>31.707317</td>\n",
              "    </tr>\n",
              "    <tr>\n",
              "      <th>14</th>\n",
              "      <td>2013</td>\n",
              "      <td>42.771084</td>\n",
              "      <td>10.843373</td>\n",
              "      <td>30.722892</td>\n",
              "    </tr>\n",
              "    <tr>\n",
              "      <th>15</th>\n",
              "      <td>2014</td>\n",
              "      <td>39.263804</td>\n",
              "      <td>11.656442</td>\n",
              "      <td>32.515337</td>\n",
              "    </tr>\n",
              "    <tr>\n",
              "      <th>16</th>\n",
              "      <td>2015</td>\n",
              "      <td>45.000000</td>\n",
              "      <td>14.000000</td>\n",
              "      <td>24.000000</td>\n",
              "    </tr>\n",
              "  </tbody>\n",
              "</table>\n",
              "</div>"
            ],
            "text/plain": [
              "Ocupation  YEAR  Acting, Comedy, and Music  Government and Politics      Media\n",
              "0          1999                  90.361446                 1.204819   6.626506\n",
              "1          2000                  73.964497                 7.692308  12.426036\n",
              "2          2001                  72.611465                 3.184713  19.108280\n",
              "3          2002                  62.264151                 5.660377  24.528302\n",
              "4          2003                  56.024096                 9.638554  24.698795\n",
              "5          2004                  38.414634                21.341463  27.439024\n",
              "6          2005                  37.037037                14.197531  33.333333\n",
              "7          2006                  36.024845                17.391304  29.192547\n",
              "8          2007                  25.531915                15.602837  33.333333\n",
              "9          2008                  20.731707                16.463415  46.951220\n",
              "10         2009                  20.858896                19.018405  36.196319\n",
              "11         2010                  35.151515                16.969697  30.303030\n",
              "12         2011                  33.742331                15.950920  30.674847\n",
              "13         2012                  26.829268                19.512195  31.707317\n",
              "14         2013                  42.771084                10.843373  30.722892\n",
              "15         2014                  39.263804                11.656442  32.515337\n",
              "16         2015                  45.000000                14.000000  24.000000"
            ]
          },
          "metadata": {
            "tags": []
          },
          "execution_count": 13
        }
      ]
    },
    {
      "cell_type": "markdown",
      "metadata": {
        "id": "jNQ0ptJy8sJ2",
        "colab_type": "text"
      },
      "source": [
        "# Python range() Function"
      ]
    },
    {
      "cell_type": "code",
      "metadata": {
        "id": "fi-yTDRmpDcV",
        "colab_type": "code",
        "colab": {
          "base_uri": "https://localhost:8080/",
          "height": 87
        },
        "outputId": "28bf3132-2d0d-4de0-9d8d-d4fa20dfbdfb"
      },
      "source": [
        "# Params: min, max (exclusive), step size\n",
        "print(\n",
        "    list(range(1, 11, 1))\n",
        ")\n",
        "\n",
        "print(\n",
        "    # 0 to 40 by 10\n",
        "list(range(0, 50, 10))\n",
        ")\n",
        "\n",
        "print(\n",
        "    #list(range(0, 50, 0.25))\n",
        "    # Error: step size must be an int\n",
        ")\n",
        "\n",
        "print(\n",
        "    # Only odd numbers\n",
        "    list(range(1, 11, 2))\n",
        ")"
      ],
      "execution_count": 14,
      "outputs": [
        {
          "output_type": "stream",
          "text": [
            "[1, 2, 3, 4, 5, 6, 7, 8, 9, 10]\n",
            "[0, 10, 20, 30, 40]\n",
            "\n",
            "[1, 3, 5, 7, 9]\n"
          ],
          "name": "stdout"
        }
      ]
    },
    {
      "cell_type": "markdown",
      "metadata": {
        "id": "y8i6k-A11v2D",
        "colab_type": "text"
      },
      "source": [
        "### 2) Reproduce another example from FiveThirtyEight's shared data repository.\n",
        "\n",
        "WARNING: There are a lot of very custom graphs and tables at the above link. I highly recommend not trying to reproduce any that look like a table of values or something really different from the graph types that we are already familiar with. Search through the posts until you find a graph type that you are more or less familiar with: histogram, bar chart, stacked bar chart, line chart, seaborn relplot, etc. Recreating some of the graphics that 538 uses would be a lot easier in Adobe photoshop/illustrator than with matplotlib.\n",
        "\n",
        "- If you put in some time to find a graph that looks \"easy\" to replicate you'll probably find that it's not as easy as you thought.\n",
        "\n",
        "- If you start with a graph that looks hard to replicate you'll probably run up against a brick wall and be disappointed with your afternoon.\n",
        "\n",
        "\n",
        "# Trump's Approval Rating as it Relates to Covid-19\n"
      ]
    },
    {
      "cell_type": "code",
      "metadata": {
        "id": "uEycZQGW1zu5",
        "colab_type": "code",
        "colab": {}
      },
      "source": [
        "# Import libraries\n",
        "import numpy as np\n",
        "import pandas as pd\n",
        "import matplotlib.pyplot as plt\n"
      ],
      "execution_count": 74,
      "outputs": []
    },
    {
      "cell_type": "code",
      "metadata": {
        "id": "0APjP4pxJLoA",
        "colab_type": "code",
        "colab": {
          "resources": {
            "http://localhost:8080/nbextensions/google.colab/files.js": {
              "data": "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",
              "ok": true,
              "headers": [
                [
                  "content-type",
                  "application/javascript"
                ]
              ],
              "status": 200,
              "status_text": ""
            }
          },
          "base_uri": "https://localhost:8080/",
          "height": 74
        },
        "outputId": "9374ea0a-3906-4b6d-d5b2-21df8e1dc338"
      },
      "source": [
        "# Load data from fivethirtyeight's shared data repo\n",
        "from google.colab import files\n",
        "uploaded = files.upload()"
      ],
      "execution_count": 16,
      "outputs": [
        {
          "output_type": "display_data",
          "data": {
            "text/html": [
              "\n",
              "     <input type=\"file\" id=\"files-14693caa-a960-45fc-8837-bfdcdd920a3f\" name=\"files[]\" multiple disabled\n",
              "        style=\"border:none\" />\n",
              "     <output id=\"result-14693caa-a960-45fc-8837-bfdcdd920a3f\">\n",
              "      Upload widget is only available when the cell has been executed in the\n",
              "      current browser session. Please rerun this cell to enable.\n",
              "      </output>\n",
              "      <script src=\"/nbextensions/google.colab/files.js\"></script> "
            ],
            "text/plain": [
              "<IPython.core.display.HTML object>"
            ]
          },
          "metadata": {
            "tags": []
          }
        },
        {
          "output_type": "stream",
          "text": [
            "Saving covid-19-polls-master.zip to covid-19-polls-master.zip\n"
          ],
          "name": "stdout"
        }
      ]
    },
    {
      "cell_type": "code",
      "metadata": {
        "id": "fL3gJA0YNwFl",
        "colab_type": "code",
        "colab": {
          "base_uri": "https://localhost:8080/",
          "height": 191
        },
        "outputId": "036e7389-6c79-48ff-d03e-94c6f2efd5ad"
      },
      "source": [
        "!unzip covid-19-polls-master.zip"
      ],
      "execution_count": 17,
      "outputs": [
        {
          "output_type": "stream",
          "text": [
            "Archive:  covid-19-polls-master.zip\n",
            "6815bf8aa77ae20d94a0a39e500ad016c171f194\n",
            "   creating: covid-19-polls-master/\n",
            "  inflating: covid-19-polls-master/README.md  \n",
            "  inflating: covid-19-polls-master/covid_approval_polls.csv  \n",
            "  inflating: covid-19-polls-master/covid_approval_polls_adjusted.csv  \n",
            "  inflating: covid-19-polls-master/covid_approval_toplines.csv  \n",
            "  inflating: covid-19-polls-master/covid_concern_polls.csv  \n",
            "  inflating: covid-19-polls-master/covid_concern_polls_adjusted.csv  \n",
            "  inflating: covid-19-polls-master/covid_concern_toplines.csv  \n"
          ],
          "name": "stdout"
        }
      ]
    },
    {
      "cell_type": "code",
      "metadata": {
        "id": "rKHEtTvTdpUw",
        "colab_type": "code",
        "colab": {
          "base_uri": "https://localhost:8080/",
          "height": 35
        },
        "outputId": "c5836f0a-4223-42d6-94a8-054f954ad79f"
      },
      "source": [
        "%cd covid-19-polls-master/"
      ],
      "execution_count": 18,
      "outputs": [
        {
          "output_type": "stream",
          "text": [
            "/content/covid-19-polls-master\n"
          ],
          "name": "stdout"
        }
      ]
    },
    {
      "cell_type": "code",
      "metadata": {
        "id": "n3L-wNTHeRyP",
        "colab_type": "code",
        "colab": {
          "base_uri": "https://localhost:8080/",
          "height": 69
        },
        "outputId": "ff0e332f-28cc-4251-c47b-18032531c15c"
      },
      "source": [
        "%ls *.csv"
      ],
      "execution_count": 19,
      "outputs": [
        {
          "output_type": "stream",
          "text": [
            "covid_approval_polls_adjusted.csv  covid_concern_polls_adjusted.csv\n",
            "covid_approval_polls.csv           covid_concern_polls.csv\n",
            "covid_approval_toplines.csv        covid_concern_toplines.csv\n"
          ],
          "name": "stdout"
        }
      ]
    },
    {
      "cell_type": "markdown",
      "metadata": {
        "id": "AL34fSr5dvgy",
        "colab_type": "text"
      },
      "source": [
        "## Analysis"
      ]
    },
    {
      "cell_type": "code",
      "metadata": {
        "id": "opoCXRG6e9xO",
        "colab_type": "code",
        "colab": {
          "base_uri": "https://localhost:8080/",
          "height": 211
        },
        "outputId": "a4f17959-c8ab-4939-ee41-b41647e6f711"
      },
      "source": [
        "!head covid_approval_polls.csv"
      ],
      "execution_count": 20,
      "outputs": [
        {
          "output_type": "stream",
          "text": [
            "start_date,end_date,pollster,sponsor,sample_size,population,party,subject,tracking,text,approve,disapprove,url\n",
            "2020-09-09,2020-09-11,YouGov,Yahoo News,1577,a,all,Trump,FALSE,Do you approve or disapprove of the way Donald Trump has handled COVID-19?,39,52,https://docs.cdn.yougov.com/c97p828als/20200911_yahoo_coronavirus_crosstabs.pdf\n",
            "2020-09-09,2020-09-11,YouGov,Yahoo News,394,a,R,Trump,FALSE,Do you approve or disapprove of the way Donald Trump has handled COVID-19?,82,15,https://docs.cdn.yougov.com/c97p828als/20200911_yahoo_coronavirus_crosstabs.pdf\n",
            "2020-09-09,2020-09-11,YouGov,Yahoo News,568,a,D,Trump,FALSE,Do you approve or disapprove of the way Donald Trump has handled COVID-19?,12,84,https://docs.cdn.yougov.com/c97p828als/20200911_yahoo_coronavirus_crosstabs.pdf\n",
            "2020-09-09,2020-09-11,YouGov,Yahoo News,428,a,I,Trump,FALSE,Do you approve or disapprove of the way Donald Trump has handled COVID-19?,34,55,https://docs.cdn.yougov.com/c97p828als/20200911_yahoo_coronavirus_crosstabs.pdf\n",
            "2020-09-06,2020-09-08,YouGov,Economist,1500,a,all,Trump,FALSE,Do you approve or disapprove of Donald Trump’s handling of COVID-19 outbreak?,40,52,https://docs.cdn.yougov.com/8nwf5tw7g2/econTabReport.pdf\n",
            "2020-09-06,2020-09-08,YouGov,Economist,370,a,R,Trump,FALSE,Do you approve or disapprove of Donald Trump’s handling of COVID-19 outbreak?,82,14,https://docs.cdn.yougov.com/8nwf5tw7g2/econTabReport.pdf\n",
            "2020-09-06,2020-09-08,YouGov,Economist,510,a,D,Trump,FALSE,Do you approve or disapprove of Donald Trump’s handling of COVID-19 outbreak?,11,84,https://docs.cdn.yougov.com/8nwf5tw7g2/econTabReport.pdf\n",
            "2020-09-06,2020-09-08,YouGov,Economist,611,a,I,Trump,FALSE,Do you approve or disapprove of Donald Trump’s handling of COVID-19 outbreak?,33,51,https://docs.cdn.yougov.com/8nwf5tw7g2/econTabReport.pdf\n",
            "2020-09-03,2020-09-08,Ipsos (online),Reuters,1337,a,all,Trump,FALSE,Do you approve or disapprove of the way Donald Trump is handling the following issues? Coronavirus/COVID-19,38,57,https://www.ipsos.com/sites/default/files/ct/news/documents/2020-09/2020_reuters_tracking_-_core_political_general_election_tracker_09_09_2020_.pdf\n"
          ],
          "name": "stdout"
        }
      ]
    },
    {
      "cell_type": "code",
      "metadata": {
        "id": "1cbsa-YlfUCK",
        "colab_type": "code",
        "colab": {
          "base_uri": "https://localhost:8080/",
          "height": 364
        },
        "outputId": "87dd22e5-f778-4f06-ff9e-9cb1932f19e9"
      },
      "source": [
        "# Load data into a dataframe\n",
        "approval_polls = pd.read_csv('covid_approval_polls.csv')\n",
        "approval_polls.info()"
      ],
      "execution_count": 21,
      "outputs": [
        {
          "output_type": "stream",
          "text": [
            "<class 'pandas.core.frame.DataFrame'>\n",
            "RangeIndex: 1666 entries, 0 to 1665\n",
            "Data columns (total 13 columns):\n",
            " #   Column       Non-Null Count  Dtype  \n",
            "---  ------       --------------  -----  \n",
            " 0   start_date   1666 non-null   object \n",
            " 1   end_date     1666 non-null   object \n",
            " 2   pollster     1666 non-null   object \n",
            " 3   sponsor      774 non-null    object \n",
            " 4   sample_size  1665 non-null   float64\n",
            " 5   population   1666 non-null   object \n",
            " 6   party        1666 non-null   object \n",
            " 7   subject      1666 non-null   object \n",
            " 8   tracking     1666 non-null   bool   \n",
            " 9   text         1666 non-null   object \n",
            " 10  approve      1663 non-null   float64\n",
            " 11  disapprove   1654 non-null   float64\n",
            " 12  url          1666 non-null   object \n",
            "dtypes: bool(1), float64(3), object(9)\n",
            "memory usage: 157.9+ KB\n"
          ],
          "name": "stdout"
        }
      ]
    },
    {
      "cell_type": "code",
      "metadata": {
        "id": "qIlSnTlagiuh",
        "colab_type": "code",
        "colab": {
          "base_uri": "https://localhost:8080/",
          "height": 1000
        },
        "outputId": "a59f9689-e083-48b2-f5d7-cf3472e96e28"
      },
      "source": [
        "print(approval_polls.shape)\n",
        "approval_polls.head(10)"
      ],
      "execution_count": 22,
      "outputs": [
        {
          "output_type": "stream",
          "text": [
            "(1666, 13)\n"
          ],
          "name": "stdout"
        },
        {
          "output_type": "execute_result",
          "data": {
            "text/html": [
              "<div>\n",
              "<style scoped>\n",
              "    .dataframe tbody tr th:only-of-type {\n",
              "        vertical-align: middle;\n",
              "    }\n",
              "\n",
              "    .dataframe tbody tr th {\n",
              "        vertical-align: top;\n",
              "    }\n",
              "\n",
              "    .dataframe thead th {\n",
              "        text-align: right;\n",
              "    }\n",
              "</style>\n",
              "<table border=\"1\" class=\"dataframe\">\n",
              "  <thead>\n",
              "    <tr style=\"text-align: right;\">\n",
              "      <th></th>\n",
              "      <th>start_date</th>\n",
              "      <th>end_date</th>\n",
              "      <th>pollster</th>\n",
              "      <th>sponsor</th>\n",
              "      <th>sample_size</th>\n",
              "      <th>population</th>\n",
              "      <th>party</th>\n",
              "      <th>subject</th>\n",
              "      <th>tracking</th>\n",
              "      <th>text</th>\n",
              "      <th>approve</th>\n",
              "      <th>disapprove</th>\n",
              "      <th>url</th>\n",
              "    </tr>\n",
              "  </thead>\n",
              "  <tbody>\n",
              "    <tr>\n",
              "      <th>0</th>\n",
              "      <td>2020-09-09</td>\n",
              "      <td>2020-09-11</td>\n",
              "      <td>YouGov</td>\n",
              "      <td>Yahoo News</td>\n",
              "      <td>1577.0</td>\n",
              "      <td>a</td>\n",
              "      <td>all</td>\n",
              "      <td>Trump</td>\n",
              "      <td>False</td>\n",
              "      <td>Do you approve or disapprove of the way Donald...</td>\n",
              "      <td>39.0</td>\n",
              "      <td>52.0</td>\n",
              "      <td>https://docs.cdn.yougov.com/c97p828als/2020091...</td>\n",
              "    </tr>\n",
              "    <tr>\n",
              "      <th>1</th>\n",
              "      <td>2020-09-09</td>\n",
              "      <td>2020-09-11</td>\n",
              "      <td>YouGov</td>\n",
              "      <td>Yahoo News</td>\n",
              "      <td>394.0</td>\n",
              "      <td>a</td>\n",
              "      <td>R</td>\n",
              "      <td>Trump</td>\n",
              "      <td>False</td>\n",
              "      <td>Do you approve or disapprove of the way Donald...</td>\n",
              "      <td>82.0</td>\n",
              "      <td>15.0</td>\n",
              "      <td>https://docs.cdn.yougov.com/c97p828als/2020091...</td>\n",
              "    </tr>\n",
              "    <tr>\n",
              "      <th>2</th>\n",
              "      <td>2020-09-09</td>\n",
              "      <td>2020-09-11</td>\n",
              "      <td>YouGov</td>\n",
              "      <td>Yahoo News</td>\n",
              "      <td>568.0</td>\n",
              "      <td>a</td>\n",
              "      <td>D</td>\n",
              "      <td>Trump</td>\n",
              "      <td>False</td>\n",
              "      <td>Do you approve or disapprove of the way Donald...</td>\n",
              "      <td>12.0</td>\n",
              "      <td>84.0</td>\n",
              "      <td>https://docs.cdn.yougov.com/c97p828als/2020091...</td>\n",
              "    </tr>\n",
              "    <tr>\n",
              "      <th>3</th>\n",
              "      <td>2020-09-09</td>\n",
              "      <td>2020-09-11</td>\n",
              "      <td>YouGov</td>\n",
              "      <td>Yahoo News</td>\n",
              "      <td>428.0</td>\n",
              "      <td>a</td>\n",
              "      <td>I</td>\n",
              "      <td>Trump</td>\n",
              "      <td>False</td>\n",
              "      <td>Do you approve or disapprove of the way Donald...</td>\n",
              "      <td>34.0</td>\n",
              "      <td>55.0</td>\n",
              "      <td>https://docs.cdn.yougov.com/c97p828als/2020091...</td>\n",
              "    </tr>\n",
              "    <tr>\n",
              "      <th>4</th>\n",
              "      <td>2020-09-06</td>\n",
              "      <td>2020-09-08</td>\n",
              "      <td>YouGov</td>\n",
              "      <td>Economist</td>\n",
              "      <td>1500.0</td>\n",
              "      <td>a</td>\n",
              "      <td>all</td>\n",
              "      <td>Trump</td>\n",
              "      <td>False</td>\n",
              "      <td>Do you approve or disapprove of Donald Trump’s...</td>\n",
              "      <td>40.0</td>\n",
              "      <td>52.0</td>\n",
              "      <td>https://docs.cdn.yougov.com/8nwf5tw7g2/econTab...</td>\n",
              "    </tr>\n",
              "    <tr>\n",
              "      <th>5</th>\n",
              "      <td>2020-09-06</td>\n",
              "      <td>2020-09-08</td>\n",
              "      <td>YouGov</td>\n",
              "      <td>Economist</td>\n",
              "      <td>370.0</td>\n",
              "      <td>a</td>\n",
              "      <td>R</td>\n",
              "      <td>Trump</td>\n",
              "      <td>False</td>\n",
              "      <td>Do you approve or disapprove of Donald Trump’s...</td>\n",
              "      <td>82.0</td>\n",
              "      <td>14.0</td>\n",
              "      <td>https://docs.cdn.yougov.com/8nwf5tw7g2/econTab...</td>\n",
              "    </tr>\n",
              "    <tr>\n",
              "      <th>6</th>\n",
              "      <td>2020-09-06</td>\n",
              "      <td>2020-09-08</td>\n",
              "      <td>YouGov</td>\n",
              "      <td>Economist</td>\n",
              "      <td>510.0</td>\n",
              "      <td>a</td>\n",
              "      <td>D</td>\n",
              "      <td>Trump</td>\n",
              "      <td>False</td>\n",
              "      <td>Do you approve or disapprove of Donald Trump’s...</td>\n",
              "      <td>11.0</td>\n",
              "      <td>84.0</td>\n",
              "      <td>https://docs.cdn.yougov.com/8nwf5tw7g2/econTab...</td>\n",
              "    </tr>\n",
              "    <tr>\n",
              "      <th>7</th>\n",
              "      <td>2020-09-06</td>\n",
              "      <td>2020-09-08</td>\n",
              "      <td>YouGov</td>\n",
              "      <td>Economist</td>\n",
              "      <td>611.0</td>\n",
              "      <td>a</td>\n",
              "      <td>I</td>\n",
              "      <td>Trump</td>\n",
              "      <td>False</td>\n",
              "      <td>Do you approve or disapprove of Donald Trump’s...</td>\n",
              "      <td>33.0</td>\n",
              "      <td>51.0</td>\n",
              "      <td>https://docs.cdn.yougov.com/8nwf5tw7g2/econTab...</td>\n",
              "    </tr>\n",
              "    <tr>\n",
              "      <th>8</th>\n",
              "      <td>2020-09-03</td>\n",
              "      <td>2020-09-08</td>\n",
              "      <td>Ipsos (online)</td>\n",
              "      <td>Reuters</td>\n",
              "      <td>1337.0</td>\n",
              "      <td>a</td>\n",
              "      <td>all</td>\n",
              "      <td>Trump</td>\n",
              "      <td>False</td>\n",
              "      <td>Do you approve or disapprove of the way Donald...</td>\n",
              "      <td>38.0</td>\n",
              "      <td>57.0</td>\n",
              "      <td>https://www.ipsos.com/sites/default/files/ct/n...</td>\n",
              "    </tr>\n",
              "    <tr>\n",
              "      <th>9</th>\n",
              "      <td>2020-09-03</td>\n",
              "      <td>2020-09-08</td>\n",
              "      <td>Monmouth U.</td>\n",
              "      <td>NaN</td>\n",
              "      <td>867.0</td>\n",
              "      <td>a</td>\n",
              "      <td>all</td>\n",
              "      <td>Trump</td>\n",
              "      <td>False</td>\n",
              "      <td>Please tell me if each of the following has do...</td>\n",
              "      <td>37.0</td>\n",
              "      <td>56.0</td>\n",
              "      <td>https://www.monmouth.edu/polling-institute/doc...</td>\n",
              "    </tr>\n",
              "  </tbody>\n",
              "</table>\n",
              "</div>"
            ],
            "text/plain": [
              "   start_date  ...                                                url\n",
              "0  2020-09-09  ...  https://docs.cdn.yougov.com/c97p828als/2020091...\n",
              "1  2020-09-09  ...  https://docs.cdn.yougov.com/c97p828als/2020091...\n",
              "2  2020-09-09  ...  https://docs.cdn.yougov.com/c97p828als/2020091...\n",
              "3  2020-09-09  ...  https://docs.cdn.yougov.com/c97p828als/2020091...\n",
              "4  2020-09-06  ...  https://docs.cdn.yougov.com/8nwf5tw7g2/econTab...\n",
              "5  2020-09-06  ...  https://docs.cdn.yougov.com/8nwf5tw7g2/econTab...\n",
              "6  2020-09-06  ...  https://docs.cdn.yougov.com/8nwf5tw7g2/econTab...\n",
              "7  2020-09-06  ...  https://docs.cdn.yougov.com/8nwf5tw7g2/econTab...\n",
              "8  2020-09-03  ...  https://www.ipsos.com/sites/default/files/ct/n...\n",
              "9  2020-09-03  ...  https://www.monmouth.edu/polling-institute/doc...\n",
              "\n",
              "[10 rows x 13 columns]"
            ]
          },
          "metadata": {
            "tags": []
          },
          "execution_count": 22
        }
      ]
    },
    {
      "cell_type": "code",
      "metadata": {
        "id": "wvQ9TdLhhwpR",
        "colab_type": "code",
        "colab": {
          "base_uri": "https://localhost:8080/",
          "height": 586
        },
        "outputId": "181f12d8-0c5c-4226-de95-c9b9c070c237"
      },
      "source": [
        "approval_polls.tail()"
      ],
      "execution_count": 23,
      "outputs": [
        {
          "output_type": "execute_result",
          "data": {
            "text/html": [
              "<div>\n",
              "<style scoped>\n",
              "    .dataframe tbody tr th:only-of-type {\n",
              "        vertical-align: middle;\n",
              "    }\n",
              "\n",
              "    .dataframe tbody tr th {\n",
              "        vertical-align: top;\n",
              "    }\n",
              "\n",
              "    .dataframe thead th {\n",
              "        text-align: right;\n",
              "    }\n",
              "</style>\n",
              "<table border=\"1\" class=\"dataframe\">\n",
              "  <thead>\n",
              "    <tr style=\"text-align: right;\">\n",
              "      <th></th>\n",
              "      <th>start_date</th>\n",
              "      <th>end_date</th>\n",
              "      <th>pollster</th>\n",
              "      <th>sponsor</th>\n",
              "      <th>sample_size</th>\n",
              "      <th>population</th>\n",
              "      <th>party</th>\n",
              "      <th>subject</th>\n",
              "      <th>tracking</th>\n",
              "      <th>text</th>\n",
              "      <th>approve</th>\n",
              "      <th>disapprove</th>\n",
              "      <th>url</th>\n",
              "    </tr>\n",
              "  </thead>\n",
              "  <tbody>\n",
              "    <tr>\n",
              "      <th>1661</th>\n",
              "      <td>2020-02-07</td>\n",
              "      <td>2020-02-09</td>\n",
              "      <td>Morning Consult</td>\n",
              "      <td>Politico</td>\n",
              "      <td>508.0</td>\n",
              "      <td>rv</td>\n",
              "      <td>I</td>\n",
              "      <td>Trump</td>\n",
              "      <td>False</td>\n",
              "      <td>And, do you approve or disapprove of how each ...</td>\n",
              "      <td>34.0</td>\n",
              "      <td>33.0</td>\n",
              "      <td>https://morningconsult.com/wp-content/uploads/...</td>\n",
              "    </tr>\n",
              "    <tr>\n",
              "      <th>1662</th>\n",
              "      <td>2020-02-02</td>\n",
              "      <td>2020-02-04</td>\n",
              "      <td>YouGov</td>\n",
              "      <td>Economist</td>\n",
              "      <td>1500.0</td>\n",
              "      <td>a</td>\n",
              "      <td>all</td>\n",
              "      <td>Trump</td>\n",
              "      <td>False</td>\n",
              "      <td>Do you approve or disapprove of Donald Trump’s...</td>\n",
              "      <td>42.0</td>\n",
              "      <td>29.0</td>\n",
              "      <td>https://d25d2506sfb94s.cloudfront.net/cumulus_...</td>\n",
              "    </tr>\n",
              "    <tr>\n",
              "      <th>1663</th>\n",
              "      <td>2020-02-02</td>\n",
              "      <td>2020-02-04</td>\n",
              "      <td>YouGov</td>\n",
              "      <td>Economist</td>\n",
              "      <td>376.0</td>\n",
              "      <td>a</td>\n",
              "      <td>R</td>\n",
              "      <td>Trump</td>\n",
              "      <td>False</td>\n",
              "      <td>Do you approve or disapprove of Donald Trump’s...</td>\n",
              "      <td>75.0</td>\n",
              "      <td>6.0</td>\n",
              "      <td>https://d25d2506sfb94s.cloudfront.net/cumulus_...</td>\n",
              "    </tr>\n",
              "    <tr>\n",
              "      <th>1664</th>\n",
              "      <td>2020-02-02</td>\n",
              "      <td>2020-02-04</td>\n",
              "      <td>YouGov</td>\n",
              "      <td>Economist</td>\n",
              "      <td>523.0</td>\n",
              "      <td>a</td>\n",
              "      <td>D</td>\n",
              "      <td>Trump</td>\n",
              "      <td>False</td>\n",
              "      <td>Do you approve or disapprove of Donald Trump’s...</td>\n",
              "      <td>21.0</td>\n",
              "      <td>51.0</td>\n",
              "      <td>https://d25d2506sfb94s.cloudfront.net/cumulus_...</td>\n",
              "    </tr>\n",
              "    <tr>\n",
              "      <th>1665</th>\n",
              "      <td>2020-02-02</td>\n",
              "      <td>2020-02-04</td>\n",
              "      <td>YouGov</td>\n",
              "      <td>Economist</td>\n",
              "      <td>599.0</td>\n",
              "      <td>a</td>\n",
              "      <td>I</td>\n",
              "      <td>Trump</td>\n",
              "      <td>False</td>\n",
              "      <td>Do you approve or disapprove of Donald Trump’s...</td>\n",
              "      <td>39.0</td>\n",
              "      <td>25.0</td>\n",
              "      <td>https://d25d2506sfb94s.cloudfront.net/cumulus_...</td>\n",
              "    </tr>\n",
              "  </tbody>\n",
              "</table>\n",
              "</div>"
            ],
            "text/plain": [
              "      start_date  ...                                                url\n",
              "1661  2020-02-07  ...  https://morningconsult.com/wp-content/uploads/...\n",
              "1662  2020-02-02  ...  https://d25d2506sfb94s.cloudfront.net/cumulus_...\n",
              "1663  2020-02-02  ...  https://d25d2506sfb94s.cloudfront.net/cumulus_...\n",
              "1664  2020-02-02  ...  https://d25d2506sfb94s.cloudfront.net/cumulus_...\n",
              "1665  2020-02-02  ...  https://d25d2506sfb94s.cloudfront.net/cumulus_...\n",
              "\n",
              "[5 rows x 13 columns]"
            ]
          },
          "metadata": {
            "tags": []
          },
          "execution_count": 23
        }
      ]
    },
    {
      "cell_type": "code",
      "metadata": {
        "id": "XmgO5kOaioUN",
        "colab_type": "code",
        "colab": {
          "base_uri": "https://localhost:8080/",
          "height": 555
        },
        "outputId": "f96d9e93-c6db-4890-bf02-11094439062d"
      },
      "source": [
        "approval_polls['sponsor'].value_counts(dropna=False)"
      ],
      "execution_count": 24,
      "outputs": [
        {
          "output_type": "execute_result",
          "data": {
            "text/plain": [
              "NaN                                                          892\n",
              "Economist                                                    128\n",
              "Huffington Post                                              108\n",
              "Politico                                                      96\n",
              "Yahoo News                                                    60\n",
              "ABC News                                                      52\n",
              "Hill.TV                                                       49\n",
              "Reuters                                                       40\n",
              "NBC News                                                      40\n",
              "CBS News                                                      36\n",
              "Harvard                                                       32\n",
              "CNN                                                           24\n",
              "New York Times                                                20\n",
              "Daily Kos                                                     16\n",
              "NPR,PBS NewsHour                                              10\n",
              "CNBC                                                          10\n",
              "Grinnell College                                               8\n",
              "Rural Organizing                                               8\n",
              "Center for American Progress Action Fund,Protect Our Care      6\n",
              "Northeastern,Harvard,Rutgers                                   4\n",
              "COVID Collaborative                                            4\n",
              "USA Today                                                      4\n",
              "More in Common                                                 4\n",
              "Nexstar                                                        4\n",
              "The Washington Post                                            4\n",
              "Protect Our Care                                               2\n",
              "American Enterprise Institute                                  2\n",
              "Accountable.US                                                 1\n",
              "Groundwork Collaborative,Roosevelt Institute                   1\n",
              "314 Action                                                     1\n",
              "Name: sponsor, dtype: int64"
            ]
          },
          "metadata": {
            "tags": []
          },
          "execution_count": 24
        }
      ]
    },
    {
      "cell_type": "code",
      "metadata": {
        "id": "t4sFqbTckNlF",
        "colab_type": "code",
        "colab": {
          "base_uri": "https://localhost:8080/",
          "height": 87
        },
        "outputId": "6f6537a7-067f-4f90-9ebf-16decd0c00bf"
      },
      "source": [
        "approval_polls['population'].value_counts(dropna=False)"
      ],
      "execution_count": 25,
      "outputs": [
        {
          "output_type": "execute_result",
          "data": {
            "text/plain": [
              "a     1068\n",
              "rv     542\n",
              "lv      56\n",
              "Name: population, dtype: int64"
            ]
          },
          "metadata": {
            "tags": []
          },
          "execution_count": 25
        }
      ]
    },
    {
      "cell_type": "code",
      "metadata": {
        "id": "zggy8irMkS0M",
        "colab_type": "code",
        "colab": {
          "base_uri": "https://localhost:8080/",
          "height": 202
        },
        "outputId": "0caa7c28-26cf-4209-c89a-8e4bcbd8a12b"
      },
      "source": [
        "approval_polls = approval_polls.drop(columns=['sponsor', 'population', 'tracking', 'url'])\n",
        "approval_polls.head()"
      ],
      "execution_count": 26,
      "outputs": [
        {
          "output_type": "execute_result",
          "data": {
            "text/html": [
              "<div>\n",
              "<style scoped>\n",
              "    .dataframe tbody tr th:only-of-type {\n",
              "        vertical-align: middle;\n",
              "    }\n",
              "\n",
              "    .dataframe tbody tr th {\n",
              "        vertical-align: top;\n",
              "    }\n",
              "\n",
              "    .dataframe thead th {\n",
              "        text-align: right;\n",
              "    }\n",
              "</style>\n",
              "<table border=\"1\" class=\"dataframe\">\n",
              "  <thead>\n",
              "    <tr style=\"text-align: right;\">\n",
              "      <th></th>\n",
              "      <th>start_date</th>\n",
              "      <th>end_date</th>\n",
              "      <th>pollster</th>\n",
              "      <th>sample_size</th>\n",
              "      <th>party</th>\n",
              "      <th>subject</th>\n",
              "      <th>text</th>\n",
              "      <th>approve</th>\n",
              "      <th>disapprove</th>\n",
              "    </tr>\n",
              "  </thead>\n",
              "  <tbody>\n",
              "    <tr>\n",
              "      <th>0</th>\n",
              "      <td>2020-09-09</td>\n",
              "      <td>2020-09-11</td>\n",
              "      <td>YouGov</td>\n",
              "      <td>1577.0</td>\n",
              "      <td>all</td>\n",
              "      <td>Trump</td>\n",
              "      <td>Do you approve or disapprove of the way Donald...</td>\n",
              "      <td>39.0</td>\n",
              "      <td>52.0</td>\n",
              "    </tr>\n",
              "    <tr>\n",
              "      <th>1</th>\n",
              "      <td>2020-09-09</td>\n",
              "      <td>2020-09-11</td>\n",
              "      <td>YouGov</td>\n",
              "      <td>394.0</td>\n",
              "      <td>R</td>\n",
              "      <td>Trump</td>\n",
              "      <td>Do you approve or disapprove of the way Donald...</td>\n",
              "      <td>82.0</td>\n",
              "      <td>15.0</td>\n",
              "    </tr>\n",
              "    <tr>\n",
              "      <th>2</th>\n",
              "      <td>2020-09-09</td>\n",
              "      <td>2020-09-11</td>\n",
              "      <td>YouGov</td>\n",
              "      <td>568.0</td>\n",
              "      <td>D</td>\n",
              "      <td>Trump</td>\n",
              "      <td>Do you approve or disapprove of the way Donald...</td>\n",
              "      <td>12.0</td>\n",
              "      <td>84.0</td>\n",
              "    </tr>\n",
              "    <tr>\n",
              "      <th>3</th>\n",
              "      <td>2020-09-09</td>\n",
              "      <td>2020-09-11</td>\n",
              "      <td>YouGov</td>\n",
              "      <td>428.0</td>\n",
              "      <td>I</td>\n",
              "      <td>Trump</td>\n",
              "      <td>Do you approve or disapprove of the way Donald...</td>\n",
              "      <td>34.0</td>\n",
              "      <td>55.0</td>\n",
              "    </tr>\n",
              "    <tr>\n",
              "      <th>4</th>\n",
              "      <td>2020-09-06</td>\n",
              "      <td>2020-09-08</td>\n",
              "      <td>YouGov</td>\n",
              "      <td>1500.0</td>\n",
              "      <td>all</td>\n",
              "      <td>Trump</td>\n",
              "      <td>Do you approve or disapprove of Donald Trump’s...</td>\n",
              "      <td>40.0</td>\n",
              "      <td>52.0</td>\n",
              "    </tr>\n",
              "  </tbody>\n",
              "</table>\n",
              "</div>"
            ],
            "text/plain": [
              "   start_date    end_date  ... approve  disapprove\n",
              "0  2020-09-09  2020-09-11  ...    39.0        52.0\n",
              "1  2020-09-09  2020-09-11  ...    82.0        15.0\n",
              "2  2020-09-09  2020-09-11  ...    12.0        84.0\n",
              "3  2020-09-09  2020-09-11  ...    34.0        55.0\n",
              "4  2020-09-06  2020-09-08  ...    40.0        52.0\n",
              "\n",
              "[5 rows x 9 columns]"
            ]
          },
          "metadata": {
            "tags": []
          },
          "execution_count": 26
        }
      ]
    },
    {
      "cell_type": "code",
      "metadata": {
        "id": "cE1VSoFYkpKW",
        "colab_type": "code",
        "colab": {
          "base_uri": "https://localhost:8080/",
          "height": 52
        },
        "outputId": "215f9479-58e0-4f1a-fe9c-2f4dbef8e302"
      },
      "source": [
        "approval_polls['subject'].value_counts()"
      ],
      "execution_count": 27,
      "outputs": [
        {
          "output_type": "execute_result",
          "data": {
            "text/plain": [
              "Trump    1666\n",
              "Name: subject, dtype: int64"
            ]
          },
          "metadata": {
            "tags": []
          },
          "execution_count": 27
        }
      ]
    },
    {
      "cell_type": "code",
      "metadata": {
        "id": "j3FIfB1alRnJ",
        "colab_type": "code",
        "colab": {
          "base_uri": "https://localhost:8080/",
          "height": 219
        },
        "outputId": "22ebe917-d556-4d28-ed5d-319cbbd0184c"
      },
      "source": [
        "approval_polls.drop('subject', axis=1, inplace=True)\n",
        "print(approval_polls.shape)\n",
        "approval_polls.head()"
      ],
      "execution_count": 28,
      "outputs": [
        {
          "output_type": "stream",
          "text": [
            "(1666, 8)\n"
          ],
          "name": "stdout"
        },
        {
          "output_type": "execute_result",
          "data": {
            "text/html": [
              "<div>\n",
              "<style scoped>\n",
              "    .dataframe tbody tr th:only-of-type {\n",
              "        vertical-align: middle;\n",
              "    }\n",
              "\n",
              "    .dataframe tbody tr th {\n",
              "        vertical-align: top;\n",
              "    }\n",
              "\n",
              "    .dataframe thead th {\n",
              "        text-align: right;\n",
              "    }\n",
              "</style>\n",
              "<table border=\"1\" class=\"dataframe\">\n",
              "  <thead>\n",
              "    <tr style=\"text-align: right;\">\n",
              "      <th></th>\n",
              "      <th>start_date</th>\n",
              "      <th>end_date</th>\n",
              "      <th>pollster</th>\n",
              "      <th>sample_size</th>\n",
              "      <th>party</th>\n",
              "      <th>text</th>\n",
              "      <th>approve</th>\n",
              "      <th>disapprove</th>\n",
              "    </tr>\n",
              "  </thead>\n",
              "  <tbody>\n",
              "    <tr>\n",
              "      <th>0</th>\n",
              "      <td>2020-09-09</td>\n",
              "      <td>2020-09-11</td>\n",
              "      <td>YouGov</td>\n",
              "      <td>1577.0</td>\n",
              "      <td>all</td>\n",
              "      <td>Do you approve or disapprove of the way Donald...</td>\n",
              "      <td>39.0</td>\n",
              "      <td>52.0</td>\n",
              "    </tr>\n",
              "    <tr>\n",
              "      <th>1</th>\n",
              "      <td>2020-09-09</td>\n",
              "      <td>2020-09-11</td>\n",
              "      <td>YouGov</td>\n",
              "      <td>394.0</td>\n",
              "      <td>R</td>\n",
              "      <td>Do you approve or disapprove of the way Donald...</td>\n",
              "      <td>82.0</td>\n",
              "      <td>15.0</td>\n",
              "    </tr>\n",
              "    <tr>\n",
              "      <th>2</th>\n",
              "      <td>2020-09-09</td>\n",
              "      <td>2020-09-11</td>\n",
              "      <td>YouGov</td>\n",
              "      <td>568.0</td>\n",
              "      <td>D</td>\n",
              "      <td>Do you approve or disapprove of the way Donald...</td>\n",
              "      <td>12.0</td>\n",
              "      <td>84.0</td>\n",
              "    </tr>\n",
              "    <tr>\n",
              "      <th>3</th>\n",
              "      <td>2020-09-09</td>\n",
              "      <td>2020-09-11</td>\n",
              "      <td>YouGov</td>\n",
              "      <td>428.0</td>\n",
              "      <td>I</td>\n",
              "      <td>Do you approve or disapprove of the way Donald...</td>\n",
              "      <td>34.0</td>\n",
              "      <td>55.0</td>\n",
              "    </tr>\n",
              "    <tr>\n",
              "      <th>4</th>\n",
              "      <td>2020-09-06</td>\n",
              "      <td>2020-09-08</td>\n",
              "      <td>YouGov</td>\n",
              "      <td>1500.0</td>\n",
              "      <td>all</td>\n",
              "      <td>Do you approve or disapprove of Donald Trump’s...</td>\n",
              "      <td>40.0</td>\n",
              "      <td>52.0</td>\n",
              "    </tr>\n",
              "  </tbody>\n",
              "</table>\n",
              "</div>"
            ],
            "text/plain": [
              "   start_date    end_date  ... approve  disapprove\n",
              "0  2020-09-09  2020-09-11  ...    39.0        52.0\n",
              "1  2020-09-09  2020-09-11  ...    82.0        15.0\n",
              "2  2020-09-09  2020-09-11  ...    12.0        84.0\n",
              "3  2020-09-09  2020-09-11  ...    34.0        55.0\n",
              "4  2020-09-06  2020-09-08  ...    40.0        52.0\n",
              "\n",
              "[5 rows x 8 columns]"
            ]
          },
          "metadata": {
            "tags": []
          },
          "execution_count": 28
        }
      ]
    },
    {
      "cell_type": "markdown",
      "metadata": {
        "id": "gRV2Mvgk2bJp",
        "colab_type": "text"
      },
      "source": [
        "## Feature Engineering"
      ]
    },
    {
      "cell_type": "code",
      "metadata": {
        "id": "iriQZGbxO7TB",
        "colab_type": "code",
        "colab": {
          "base_uri": "https://localhost:8080/",
          "height": 202
        },
        "outputId": "0c1fcf1f-c320-4213-a2f1-26f302489d85"
      },
      "source": [
        "# Convert dates to datetime objects\n",
        "approval_polls['start_date'] = pd.to_datetime(approval_polls['start_date'], infer_datetime_format=True)\n",
        "approval_polls['end_date'] = pd.to_datetime(approval_polls['end_date'], infer_datetime_format=True)\n",
        "approval_polls[['start_date', 'end_date']].head()"
      ],
      "execution_count": 29,
      "outputs": [
        {
          "output_type": "execute_result",
          "data": {
            "text/html": [
              "<div>\n",
              "<style scoped>\n",
              "    .dataframe tbody tr th:only-of-type {\n",
              "        vertical-align: middle;\n",
              "    }\n",
              "\n",
              "    .dataframe tbody tr th {\n",
              "        vertical-align: top;\n",
              "    }\n",
              "\n",
              "    .dataframe thead th {\n",
              "        text-align: right;\n",
              "    }\n",
              "</style>\n",
              "<table border=\"1\" class=\"dataframe\">\n",
              "  <thead>\n",
              "    <tr style=\"text-align: right;\">\n",
              "      <th></th>\n",
              "      <th>start_date</th>\n",
              "      <th>end_date</th>\n",
              "    </tr>\n",
              "  </thead>\n",
              "  <tbody>\n",
              "    <tr>\n",
              "      <th>0</th>\n",
              "      <td>2020-09-09</td>\n",
              "      <td>2020-09-11</td>\n",
              "    </tr>\n",
              "    <tr>\n",
              "      <th>1</th>\n",
              "      <td>2020-09-09</td>\n",
              "      <td>2020-09-11</td>\n",
              "    </tr>\n",
              "    <tr>\n",
              "      <th>2</th>\n",
              "      <td>2020-09-09</td>\n",
              "      <td>2020-09-11</td>\n",
              "    </tr>\n",
              "    <tr>\n",
              "      <th>3</th>\n",
              "      <td>2020-09-09</td>\n",
              "      <td>2020-09-11</td>\n",
              "    </tr>\n",
              "    <tr>\n",
              "      <th>4</th>\n",
              "      <td>2020-09-06</td>\n",
              "      <td>2020-09-08</td>\n",
              "    </tr>\n",
              "  </tbody>\n",
              "</table>\n",
              "</div>"
            ],
            "text/plain": [
              "  start_date   end_date\n",
              "0 2020-09-09 2020-09-11\n",
              "1 2020-09-09 2020-09-11\n",
              "2 2020-09-09 2020-09-11\n",
              "3 2020-09-09 2020-09-11\n",
              "4 2020-09-06 2020-09-08"
            ]
          },
          "metadata": {
            "tags": []
          },
          "execution_count": 29
        }
      ]
    },
    {
      "cell_type": "code",
      "metadata": {
        "id": "Rj8ULVxO2MXG",
        "colab_type": "code",
        "colab": {
          "base_uri": "https://localhost:8080/",
          "height": 52
        },
        "outputId": "281987e5-e934-41fb-a09b-6ec93a61ceb5"
      },
      "source": [
        "# Determine distribution of years\n",
        "approval_polls['start_date'].dt.year.value_counts()"
      ],
      "execution_count": 30,
      "outputs": [
        {
          "output_type": "execute_result",
          "data": {
            "text/plain": [
              "2020    1666\n",
              "Name: start_date, dtype: int64"
            ]
          },
          "metadata": {
            "tags": []
          },
          "execution_count": 30
        }
      ]
    },
    {
      "cell_type": "code",
      "metadata": {
        "id": "x4I34DHF5QwD",
        "colab_type": "code",
        "colab": {
          "base_uri": "https://localhost:8080/",
          "height": 173
        },
        "outputId": "9ba65f79-734e-4c26-e8e5-1743d0aaaa58"
      },
      "source": [
        "# Create month column to replace start_date and end_date\n",
        "approval_polls['month'] = approval_polls['start_date'].dt.month\n",
        "approval_polls['month'].value_counts().sort_index()"
      ],
      "execution_count": 31,
      "outputs": [
        {
          "output_type": "execute_result",
          "data": {
            "text/plain": [
              "2     40\n",
              "3    316\n",
              "4    370\n",
              "5    295\n",
              "6    201\n",
              "7    217\n",
              "8    206\n",
              "9     21\n",
              "Name: month, dtype: int64"
            ]
          },
          "metadata": {
            "tags": []
          },
          "execution_count": 31
        }
      ]
    },
    {
      "cell_type": "code",
      "metadata": {
        "id": "MTjkYmpw6ug2",
        "colab_type": "code",
        "colab": {
          "base_uri": "https://localhost:8080/",
          "height": 202
        },
        "outputId": "6bcee1d6-c965-49a2-c0c7-0ca46bbed9c7"
      },
      "source": [
        "approval_polls.drop(columns=['start_date', 'end_date'], inplace=True)\n",
        "approval_polls.head()"
      ],
      "execution_count": 32,
      "outputs": [
        {
          "output_type": "execute_result",
          "data": {
            "text/html": [
              "<div>\n",
              "<style scoped>\n",
              "    .dataframe tbody tr th:only-of-type {\n",
              "        vertical-align: middle;\n",
              "    }\n",
              "\n",
              "    .dataframe tbody tr th {\n",
              "        vertical-align: top;\n",
              "    }\n",
              "\n",
              "    .dataframe thead th {\n",
              "        text-align: right;\n",
              "    }\n",
              "</style>\n",
              "<table border=\"1\" class=\"dataframe\">\n",
              "  <thead>\n",
              "    <tr style=\"text-align: right;\">\n",
              "      <th></th>\n",
              "      <th>pollster</th>\n",
              "      <th>sample_size</th>\n",
              "      <th>party</th>\n",
              "      <th>text</th>\n",
              "      <th>approve</th>\n",
              "      <th>disapprove</th>\n",
              "      <th>month</th>\n",
              "    </tr>\n",
              "  </thead>\n",
              "  <tbody>\n",
              "    <tr>\n",
              "      <th>0</th>\n",
              "      <td>YouGov</td>\n",
              "      <td>1577.0</td>\n",
              "      <td>all</td>\n",
              "      <td>Do you approve or disapprove of the way Donald...</td>\n",
              "      <td>39.0</td>\n",
              "      <td>52.0</td>\n",
              "      <td>9</td>\n",
              "    </tr>\n",
              "    <tr>\n",
              "      <th>1</th>\n",
              "      <td>YouGov</td>\n",
              "      <td>394.0</td>\n",
              "      <td>R</td>\n",
              "      <td>Do you approve or disapprove of the way Donald...</td>\n",
              "      <td>82.0</td>\n",
              "      <td>15.0</td>\n",
              "      <td>9</td>\n",
              "    </tr>\n",
              "    <tr>\n",
              "      <th>2</th>\n",
              "      <td>YouGov</td>\n",
              "      <td>568.0</td>\n",
              "      <td>D</td>\n",
              "      <td>Do you approve or disapprove of the way Donald...</td>\n",
              "      <td>12.0</td>\n",
              "      <td>84.0</td>\n",
              "      <td>9</td>\n",
              "    </tr>\n",
              "    <tr>\n",
              "      <th>3</th>\n",
              "      <td>YouGov</td>\n",
              "      <td>428.0</td>\n",
              "      <td>I</td>\n",
              "      <td>Do you approve or disapprove of the way Donald...</td>\n",
              "      <td>34.0</td>\n",
              "      <td>55.0</td>\n",
              "      <td>9</td>\n",
              "    </tr>\n",
              "    <tr>\n",
              "      <th>4</th>\n",
              "      <td>YouGov</td>\n",
              "      <td>1500.0</td>\n",
              "      <td>all</td>\n",
              "      <td>Do you approve or disapprove of Donald Trump’s...</td>\n",
              "      <td>40.0</td>\n",
              "      <td>52.0</td>\n",
              "      <td>9</td>\n",
              "    </tr>\n",
              "  </tbody>\n",
              "</table>\n",
              "</div>"
            ],
            "text/plain": [
              "  pollster  sample_size party  ... approve  disapprove  month\n",
              "0   YouGov       1577.0   all  ...    39.0        52.0      9\n",
              "1   YouGov        394.0     R  ...    82.0        15.0      9\n",
              "2   YouGov        568.0     D  ...    12.0        84.0      9\n",
              "3   YouGov        428.0     I  ...    34.0        55.0      9\n",
              "4   YouGov       1500.0   all  ...    40.0        52.0      9\n",
              "\n",
              "[5 rows x 7 columns]"
            ]
          },
          "metadata": {
            "tags": []
          },
          "execution_count": 32
        }
      ]
    },
    {
      "cell_type": "code",
      "metadata": {
        "id": "gE3mugQ6oYGK",
        "colab_type": "code",
        "colab": {
          "base_uri": "https://localhost:8080/",
          "height": 329
        },
        "outputId": "5300e8aa-db2c-4b93-f6fc-2e2f68c26a89"
      },
      "source": [
        "# Subset approval ratings for independents and all combined parties\n",
        "approval_subset = approval_polls.loc[\n",
        "                                     (approval_polls['party'] == 'I') | (approval_polls['party'] == 'all'),\n",
        "                                     ['month', 'party', 'approve']\n",
        "]\n",
        "avg_approval_subset = approval_subset.groupby(['month', 'party'])['approve'].mean()\n",
        "print(avg_approval_subset)"
      ],
      "execution_count": 63,
      "outputs": [
        {
          "output_type": "stream",
          "text": [
            "month  party\n",
            "2      I        40.000000\n",
            "       all      45.000000\n",
            "3      I        43.909459\n",
            "       all      47.482609\n",
            "4      I        40.083133\n",
            "       all      45.493636\n",
            "5      I        37.037313\n",
            "       all      42.561512\n",
            "6      I        34.793333\n",
            "       all      40.316613\n",
            "7      I        31.132653\n",
            "       all      38.263548\n",
            "8      I        32.979167\n",
            "       all      39.424500\n",
            "9      I        32.750000\n",
            "       all      39.194286\n",
            "Name: approve, dtype: float64\n"
          ],
          "name": "stdout"
        }
      ]
    },
    {
      "cell_type": "code",
      "metadata": {
        "id": "HBBKTKqdJ-d2",
        "colab_type": "code",
        "colab": {}
      },
      "source": [
        "# Audio scatterplot\n"
      ],
      "execution_count": null,
      "outputs": []
    },
    {
      "cell_type": "code",
      "metadata": {
        "id": "WkehyBuT6cxt",
        "colab_type": "code",
        "colab": {
          "base_uri": "https://localhost:8080/",
          "height": 191
        },
        "outputId": "3cd778a3-4c0e-493e-9cf9-c9a2a6dd2d54"
      },
      "source": [
        "# Subset independents for plotting\n",
        "filter = (approval_polls['party'] == 'I')\n",
        "avg_ind_approval = approval_polls[filter].groupby('month')['approve'].mean()\n",
        "print(avg_ind_approval)"
      ],
      "execution_count": 65,
      "outputs": [
        {
          "output_type": "stream",
          "text": [
            "month\n",
            "2    40.000000\n",
            "3    43.909459\n",
            "4    40.083133\n",
            "5    37.037313\n",
            "6    34.793333\n",
            "7    31.132653\n",
            "8    32.979167\n",
            "9    32.750000\n",
            "Name: approve, dtype: float64\n"
          ],
          "name": "stdout"
        }
      ]
    },
    {
      "cell_type": "markdown",
      "metadata": {
        "id": "NxoeNkqtmYow",
        "colab_type": "text"
      },
      "source": [
        "## Matplotlib Visualization"
      ]
    },
    {
      "cell_type": "code",
      "metadata": {
        "id": "xOuvhluelc0n",
        "colab_type": "code",
        "colab": {
          "base_uri": "https://localhost:8080/",
          "height": 325
        },
        "outputId": "f674242a-b578-4128-a87d-b364092b47fe"
      },
      "source": [
        "%matplotlib inline\n",
        "plt.style.use('fivethirtyeight')\n",
        "fig, ax = plt.subplots()\n",
        "\n",
        "x = avg_ind_approval.index\n",
        "y = avg_ind_approval.values\n",
        "ax.set_title(\"Trump's  Covid-19 Approval Rating Among Independents\")\n",
        "ax.set_xlabel(\"Month\")\n",
        "ax.set_ylabel(\"Level of Approval (Percentage)\")\n",
        "ax.set_xticks(ticks=range(2, 10))\n",
        "ax.set_xticklabels(['Feb', 'Mar', 'Apr', 'May',\n",
        "                    'Jun', 'Jul', 'Aug', 'Sep'])\n",
        "ax.set_yticks(ticks=range(0, 110, 10))\n",
        "ax.set_yticklabels(labels=['0%', '10%', '20%', '30%',\n",
        "                           '40%', '50%', '60%', '70%',\n",
        "                           '80%', '90%', '100%'])\n",
        "\n",
        "ax.plot(x, y, 'go--')\n",
        "plt.show()"
      ],
      "execution_count": 72,
      "outputs": [
        {
          "output_type": "display_data",
          "data": {
            "image/png": "[encoded data removed]",
            "text/plain": [
              "<Figure size 432x288 with 1 Axes>"
            ]
          },
          "metadata": {
            "tags": []
          }
        }
      ]
    }
  ]
}