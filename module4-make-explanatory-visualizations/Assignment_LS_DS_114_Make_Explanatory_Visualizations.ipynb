{
  "nbformat": 4,
  "nbformat_minor": 0,
  "metadata": {
    "colab": {
      "name": "Assignment_LS_DS_114_Make_Explanatory_Visualizations.ipynb",
      "provenance": [],
      "collapsed_sections": [],
      "include_colab_link": true
    },
    "language_info": {
      "codemirror_mode": {
        "name": "ipython",
        "version": 3
      },
      "file_extension": ".py",
      "mimetype": "text/x-python",
      "name": "python",
      "nbconvert_exporter": "python",
      "pygments_lexer": "ipython3",
      "version": "3.7.1"
    },
    "kernelspec": {
      "display_name": "Python 3",
      "language": "python",
      "name": "python3"
    }
  },
  "cells": [
    {
      "cell_type": "markdown",
      "metadata": {
        "id": "view-in-github",
        "colab_type": "text"
      },
      "source": [
        "<a href=\"https://colab.research.google.com/github/mtoce/DS-Unit-1-Sprint-1-Data-Wrangling-and-Storytelling/blob/master/module4-make-explanatory-visualizations/Assignment_LS_DS_114_Make_Explanatory_Visualizations.ipynb\" target=\"_parent\"><img src=\"https://colab.research.google.com/assets/colab-badge.svg\" alt=\"Open In Colab\"/></a>"
      ]
    },
    {
      "cell_type": "markdown",
      "metadata": {
        "colab_type": "text",
        "id": "NMEswXWh9mqw"
      },
      "source": [
        "Lambda School Data Science\n",
        "\n",
        "*Unit 1, Sprint 1, Module 4*\n",
        "\n",
        "---\n",
        "\n",
        "# ASSIGNMENT\n",
        "\n",
        "### 1) Replicate the lesson code. I recommend that you [do not copy-paste](https://docs.google.com/document/d/1ubOw9B3Hfip27hF2ZFnW3a3z9xAgrUDRReOEo-FHCVs/edit).\n",
        "\n",
        "Get caught up to where we got our example in class and then try and take things further. How close to \"pixel perfect\" can you make the lecture graph?\n",
        "\n",
        "Once you have something that you're proud of, share your graph in the cohort channel and move on to the second exercise.\n",
        "\n",
        "### 2) Reproduce another example from [FiveThityEight's shared data repository](https://data.fivethirtyeight.com/).\n",
        "\n",
        "**WARNING**: There are a lot of very custom graphs and tables at the above link. I **highly** recommend not trying to reproduce any that look like a table of values or something really different from the graph types that we are already familiar with. Search through the posts until you find a graph type that you are more or less familiar with: histogram, bar chart, stacked bar chart, line chart, [seaborn relplot](https://seaborn.pydata.org/generated/seaborn.relplot.html), etc. Recreating some of the graphics that 538 uses would be a lot easier in Adobe photoshop/illustrator than with matplotlib. \n",
        "\n",
        "- If you put in some time to find a graph that looks \"easy\" to replicate you'll probably find that it's not as easy as you thought. \n",
        "\n",
        "- If you start with a graph that looks hard to replicate you'll probably run up against a brick wall and be disappointed with your afternoon.\n",
        "\n",
        "\n",
        "\n",
        "\n",
        "\n",
        "\n",
        "\n",
        "\n",
        "\n",
        "\n"
      ]
    },
    {
      "cell_type": "code",
      "metadata": {
        "id": "7SY1ZHawyZvz",
        "colab_type": "code",
        "outputId": "9429ac27-f6b4-45d6-b15a-4e09293efa95",
        "colab": {
          "base_uri": "https://localhost:8080/",
          "height": 204
        }
      },
      "source": [
        "# Your Work Here\n",
        "\n",
        "import pandas as pd\n",
        "\n",
        "df = pd.DataFrame({'data': [1,3,2,4,3,5]})\n",
        "\n",
        "df.head()"
      ],
      "execution_count": 0,
      "outputs": [
        {
          "output_type": "execute_result",
          "data": {
            "text/html": [
              "<div>\n",
              "<style scoped>\n",
              "    .dataframe tbody tr th:only-of-type {\n",
              "        vertical-align: middle;\n",
              "    }\n",
              "\n",
              "    .dataframe tbody tr th {\n",
              "        vertical-align: top;\n",
              "    }\n",
              "\n",
              "    .dataframe thead th {\n",
              "        text-align: right;\n",
              "    }\n",
              "</style>\n",
              "<table border=\"1\" class=\"dataframe\">\n",
              "  <thead>\n",
              "    <tr style=\"text-align: right;\">\n",
              "      <th></th>\n",
              "      <th>data</th>\n",
              "    </tr>\n",
              "  </thead>\n",
              "  <tbody>\n",
              "    <tr>\n",
              "      <th>0</th>\n",
              "      <td>1</td>\n",
              "    </tr>\n",
              "    <tr>\n",
              "      <th>1</th>\n",
              "      <td>3</td>\n",
              "    </tr>\n",
              "    <tr>\n",
              "      <th>2</th>\n",
              "      <td>2</td>\n",
              "    </tr>\n",
              "    <tr>\n",
              "      <th>3</th>\n",
              "      <td>4</td>\n",
              "    </tr>\n",
              "    <tr>\n",
              "      <th>4</th>\n",
              "      <td>3</td>\n",
              "    </tr>\n",
              "  </tbody>\n",
              "</table>\n",
              "</div>"
            ],
            "text/plain": [
              "   data\n",
              "0     1\n",
              "1     3\n",
              "2     2\n",
              "3     4\n",
              "4     3"
            ]
          },
          "metadata": {
            "tags": []
          },
          "execution_count": 1
        }
      ]
    },
    {
      "cell_type": "code",
      "metadata": {
        "id": "Y1P3NCG4WqHc",
        "colab_type": "code",
        "outputId": "6da53ec7-283c-4fff-8b95-48d0809f4ef5",
        "colab": {
          "base_uri": "https://localhost:8080/",
          "height": 265
        }
      },
      "source": [
        "df['data'].plot();"
      ],
      "execution_count": 0,
      "outputs": [
        {
          "output_type": "display_data",
          "data": {
            "image/png": "[encoded data removed]",
            "text/plain": [
              "<Figure size 432x288 with 1 Axes>"
            ]
          },
          "metadata": {
            "tags": []
          }
        }
      ]
    },
    {
      "cell_type": "code",
      "metadata": {
        "id": "vuZG_617WqN0",
        "colab_type": "code",
        "outputId": "6ec596e8-6885-47bf-f1b8-6351b6de4f06",
        "colab": {
          "base_uri": "https://localhost:8080/",
          "height": 355
        }
      },
      "source": [
        "from IPython.display import display, Image\n",
        "\n",
        "url = 'https://fivethirtyeight.com/wp-content/uploads/2017/09/mehtahickey-inconvenient-0830-1.png'\n",
        "example = Image(url=url, width=400)\n",
        "\n",
        "display(example)"
      ],
      "execution_count": 0,
      "outputs": [
        {
          "output_type": "display_data",
          "data": {
            "text/html": [
              "<img src=\"https://fivethirtyeight.com/wp-content/uploads/2017/09/mehtahickey-inconvenient-0830-1.png\" width=\"400\"/>"
            ],
            "text/plain": [
              "<IPython.core.display.Image object>"
            ]
          },
          "metadata": {
            "tags": []
          }
        }
      ]
    },
    {
      "cell_type": "code",
      "metadata": {
        "id": "ok0SYKTnWqRq",
        "colab_type": "code",
        "outputId": "27ef6b91-199c-402a-8f37-5bc1cb1642e9",
        "colab": {
          "base_uri": "https://localhost:8080/",
          "height": 268
        }
      },
      "source": [
        "%matplotlib inline\n",
        "import matplotlib.pyplot as plt\n",
        "import numpy as np\n",
        "import pandas as pd\n",
        "\n",
        "\n",
        "# plt.style.use('fivethirtyeight')\n",
        "\n",
        "fake = pd.Series([38, 3, 2, 1, 2, 4, 6, 5, 5, 33], \n",
        "                 index=range(1,11))\n",
        "\n",
        "fake.plot.bar(color='C1', width=0.9);"
      ],
      "execution_count": 0,
      "outputs": [
        {
          "output_type": "display_data",
          "data": {
            "image/png": "[encoded data removed]",
            "text/plain": [
              "<Figure size 432x288 with 1 Axes>"
            ]
          },
          "metadata": {
            "tags": []
          }
        }
      ]
    },
    {
      "cell_type": "code",
      "metadata": {
        "id": "POvhEYzCWqU7",
        "colab_type": "code",
        "outputId": "56b08356-cd24-47f4-f3d5-cf7d81478633",
        "colab": {
          "base_uri": "https://localhost:8080/",
          "height": 357
        }
      },
      "source": [
        "fig, ax = plt.subplots()\n",
        "\n",
        "plt.style.use('fivethirtyeight')\n",
        "\n",
        "# Add bars\n",
        "ax.bar(height=fake, x=range(1,11,1), color='#ED713A', width=.9)\n",
        "\n",
        "# Set Title\n",
        "ax.set_title(\"'An Inconvenent Sequel: Truth To Power' is divisive\",\n",
        "             x=.35, y=1.1, fontsize=12, fontweight=\"bold\", color=\"#222222\")\n",
        "# Set Subtitle\n",
        "ax.text(s=\"IMBd ratings for the film as of Aug. 29\", y=42, x=-1.2, fontsize=12, color='#222222')\n",
        "\n",
        "# Set xticks\n",
        "ax.set_xticks(range(1,11,1))\n",
        "\n",
        "# Set yticks\n",
        "ax.set_yticks(range(0,50,10))\n",
        "\n",
        "#Set xtick labels\n",
        "ax.set_xticklabels([1,2,3,4,5,6,7,8,9,10], color=\"#848484\", fontsize=\"9\")\n",
        "\n",
        "# Set ytick labels\n",
        "ax.set_yticklabels(['0','10','20','30','40%'], color=\"#848484\", fontsize=\"9\")\n",
        "\n",
        "# Set x label\n",
        "ax.set_xlabel(\"Rating\", color='black', fontsize=10, fontweight='bold')\n",
        "\n",
        "# Set y label\n",
        "ax.set_ylabel(\"Percent of total votes\", color='black', fontsize=10, \n",
        "              fontweight='bold')\n",
        "\n",
        "# Set Figure background color\n",
        "fig.set_facecolor(color=\"None\")\n",
        "\n",
        "# Set the Axes background color\n",
        "ax.set_facecolor(color=\"None\")\n",
        "\n",
        "# Turn off the spine\n",
        "ax.spines['left'].set_visible(False)\n",
        "ax.spines['right'].set_visible(False)\n",
        "ax.spines['top'].set_visible(False)\n",
        "#ax.spines['bottom'].set_visible(False)\n",
        "ax.spines['bottom'].set_linewidth(0.7)\n",
        "\n",
        "# Change gridline color\n",
        "ax.grid(color='grey')\n",
        "\n",
        "# Add FiveThrtyEight and source IMDB\n",
        "ax.text(s=\"FiveThirtyEight\", y=-9, x=-1.2, fontsize=7, color=\"grey\")\n",
        "ax.text(s=\"SOURCE: IMDB\", y=-9, x=10, fontsize=7, color=\"grey\")\n",
        "\n",
        "\n",
        "plt.show()"
      ],
      "execution_count": 0,
      "outputs": [
        {
          "output_type": "display_data",
          "data": {
            "image/png": "[encoded data removed]",
            "text/plain": [
              "<Figure size 432x288 with 1 Axes>"
            ]
          },
          "metadata": {
            "tags": []
          }
        }
      ]
    },
    {
      "cell_type": "code",
      "metadata": {
        "id": "ncZH4nyOWqX-",
        "colab_type": "code",
        "outputId": "ca85238f-ee9f-4a2f-c617-576501c6b0da",
        "colab": {
          "base_uri": "https://localhost:8080/",
          "height": 355
        }
      },
      "source": [
        "display(example)"
      ],
      "execution_count": 0,
      "outputs": [
        {
          "output_type": "display_data",
          "data": {
            "text/html": [
              "<img src=\"https://fivethirtyeight.com/wp-content/uploads/2017/09/mehtahickey-inconvenient-0830-1.png\" width=\"400\"/>"
            ],
            "text/plain": [
              "<IPython.core.display.Image object>"
            ]
          },
          "metadata": {
            "tags": []
          }
        }
      ]
    },
    {
      "cell_type": "code",
      "metadata": {
        "id": "meXUAF24Wqad",
        "colab_type": "code",
        "outputId": "0741014a-0ee0-4100-9750-2ee4bfe64f06",
        "colab": {
          "base_uri": "https://localhost:8080/",
          "height": 159
        }
      },
      "source": [
        "# Reproduce another example from fivethirtyeight\n",
        "\n",
        "# Creating sample data to use since couldn't find the data I needed from the site\n",
        "\n",
        "data = [['2014', int(3E6), int(100E6)], ['2016', int(7E6), int(220E6)], ['2018', int(15.1E6), int(563E6)]]\n",
        "\n",
        "df = pd.DataFrame(data, columns = ['year', 'number_contribution', 'money_contribution'])\n",
        "\n",
        "print(df.shape)\n",
        "df.head()\n",
        "\n"
      ],
      "execution_count": 0,
      "outputs": [
        {
          "output_type": "stream",
          "text": [
            "(3, 3)\n"
          ],
          "name": "stdout"
        },
        {
          "output_type": "execute_result",
          "data": {
            "text/html": [
              "<div>\n",
              "<style scoped>\n",
              "    .dataframe tbody tr th:only-of-type {\n",
              "        vertical-align: middle;\n",
              "    }\n",
              "\n",
              "    .dataframe tbody tr th {\n",
              "        vertical-align: top;\n",
              "    }\n",
              "\n",
              "    .dataframe thead th {\n",
              "        text-align: right;\n",
              "    }\n",
              "</style>\n",
              "<table border=\"1\" class=\"dataframe\">\n",
              "  <thead>\n",
              "    <tr style=\"text-align: right;\">\n",
              "      <th></th>\n",
              "      <th>year</th>\n",
              "      <th>number_contribution</th>\n",
              "      <th>money_contribution</th>\n",
              "    </tr>\n",
              "  </thead>\n",
              "  <tbody>\n",
              "    <tr>\n",
              "      <th>0</th>\n",
              "      <td>2014</td>\n",
              "      <td>3000000</td>\n",
              "      <td>100000000</td>\n",
              "    </tr>\n",
              "    <tr>\n",
              "      <th>1</th>\n",
              "      <td>2016</td>\n",
              "      <td>7000000</td>\n",
              "      <td>220000000</td>\n",
              "    </tr>\n",
              "    <tr>\n",
              "      <th>2</th>\n",
              "      <td>2018</td>\n",
              "      <td>15100000</td>\n",
              "      <td>563000000</td>\n",
              "    </tr>\n",
              "  </tbody>\n",
              "</table>\n",
              "</div>"
            ],
            "text/plain": [
              "   year  number_contribution  money_contribution\n",
              "0  2014              3000000           100000000\n",
              "1  2016              7000000           220000000\n",
              "2  2018             15100000           563000000"
            ]
          },
          "metadata": {
            "tags": []
          },
          "execution_count": 66
        }
      ]
    },
    {
      "cell_type": "code",
      "metadata": {
        "id": "GHdONjF-WqdD",
        "colab_type": "code",
        "outputId": "fc06834a-ecd2-47e9-9767-9628b3a99247",
        "colab": {
          "base_uri": "https://localhost:8080/",
          "height": 404
        }
      },
      "source": [
        "fig, (ax1, ax2) = plt.subplots(1, 2)\n",
        "\n",
        "# Set Figure background color\n",
        "fig.set_facecolor(color=\"white\")\n",
        "\n",
        "# Set the Axes background color\n",
        "ax1.set_facecolor(color=\"white\")\n",
        "ax2.set_facecolor(color=\"white\")\n",
        "\n",
        "# Set Figure title\n",
        "fig.suptitle(\"ActBlue has only gotten more popular\", y=1.15, fontsize=18, fontweight=\"bold\")\n",
        "\n",
        "# Set subtitle\n",
        "fig.text(s=\"Number and total dollar amount of contributions made via ActBlue to\", x=0, y=1.05, fontsize=12)\n",
        "fig.text(s=\"House and Senate candidates in a two-year period*\", x=0.1, y=1, fontsize=12)\n",
        "\n",
        "# Set Footer text\n",
        "fig.text(s=\"*For 2015 and 2016, data covers Jan. 1 of the year before the election through Dec. 31 of the election\", x=0, y=-.05, color='grey', fontsize=8)\n",
        "fig.text(s=\"year. For 2018, data covers Jan. 1, 2017, through Sept. 30, 2018.\", x=0, y=-.08, color='grey', fontsize=8)\n",
        "fig.text(s=\"FiveThirtyEight\", x=0, y=-.14, color='grey', fontsize=7.5)\n",
        "fig.text(s=\"SOURCE: FEDERAL ELECTION COMMISSION\", x=.6, y=-.14, color='grey', fontsize=7.5)\n",
        "\n",
        "# Set Title\n",
        "ax1.set_title(\"Number of contributions\", fontsize=9, fontweight=\"bold\")\n",
        "ax2.set_title(\"Total amount in dollars\", fontsize=9, fontweight=\"bold\")\n",
        "\n",
        "# Create bar1\n",
        "plt.style.use('seaborn-pastel')\n",
        "ax1.bar(height=df['number_contribution'], x=range(2014,2020,2), width=1.9, color=\"C1\")\n",
        "\n",
        "# Create bar 2\n",
        "plt.style.use('seaborn-muted')\n",
        "ax2.bar(height=df['money_contribution'], x=range(2014,2020,2), width=1.9, color=\"C6\")\n",
        "\n",
        "# Set xticks\n",
        "ax1.set_xticks(range(2014, 2020, 2))\n",
        "ax2.set_xticks(range(2014, 2020, 2))\n",
        "\n",
        "# Set yticks\n",
        "ax1.set_yticks(range(0,20_000_000,5000000))\n",
        "ax2.set_yticks(range(0,750_000_000,250000000))\n",
        "\n",
        "#Set xtick labels\n",
        "ax1.set_xticklabels(['2014', \"'16\", \"'18\"], color=\"black\", fontsize=\"10\", fontweight=\"bold\")\n",
        "ax2.set_xticklabels(['2014', \"'16\", \"'18\"], color=\"black\", fontsize=\"10\", fontweight=\"bold\")\n",
        "\n",
        "# Set ytick labels\n",
        "ax1.set_yticklabels(['0','5','10','15m'], color=\"grey\", fontsize=\"8\")\n",
        "ax2.set_yticklabels(['0','250','$500m'], color=\"grey\", fontsize=\"8\")\n",
        "\n",
        "# Show only Y gridlines\n",
        "ax1.grid(b=None, axis='x')\n",
        "ax1.grid(axis='y', color='grey', linestyle='-', linewidth=0.1)\n",
        "ax2.grid(b=None, axis='x')\n",
        "ax2.grid(axis='y', color='grey', linestyle='-', linewidth=0.1)\n",
        "\n",
        "# Set x-axis spine to be on and bold\n",
        "ax1.spines['bottom'].set_linewidth(1)\n",
        "ax1.spines['bottom'].set_color('black')\n",
        "ax2.spines['bottom'].set_linewidth(1)\n",
        "ax2.spines['bottom'].set_color('black')\n",
        "\n",
        "\n",
        "plt.show()"
      ],
      "execution_count": 162,
      "outputs": [
        {
          "output_type": "display_data",
          "data": {
            "image/png": "[encoded data removed]",
            "text/plain": [
              "<Figure size 432x288 with 2 Axes>"
            ]
          },
          "metadata": {
            "tags": []
          }
        }
      ]
    },
    {
      "cell_type": "code",
      "metadata": {
        "id": "aWX5a-kEEjfJ",
        "colab_type": "code",
        "colab": {
          "base_uri": "https://localhost:8080/",
          "height": 519
        },
        "outputId": "283b83bf-a4d9-4b15-e100-61d1205e3fe1"
      },
      "source": [
        "#Displayed below is the image I'm trying to copy\n",
        "\n",
        "# Only thing I couldn't get is making ax2 bigger/taller so the 15m and $500m\n",
        "# line up\n",
        "\n",
        "from PIL import Image\n",
        "import requests\n",
        "from io import BytesIO\n",
        "\n",
        "response = requests.get('https://fivethirtyeight.com/wp-content/uploads/2018/10/actblue-1.png?w=575')\n",
        "img = Image.open(BytesIO(response.content))\n",
        "\n",
        "img"
      ],
      "execution_count": 163,
      "outputs": [
        {
          "output_type": "execute_result",
          "data": {
            "image/png": "[encoded data removed]",
            "text/plain": [
              "<PIL.PngImagePlugin.PngImageFile image mode=P size=575x502 at 0x7F861ACD00F0>"
            ]
          },
          "metadata": {
            "tags": []
          },
          "execution_count": 163
        }
      ]
    },
    {
      "cell_type": "markdown",
      "metadata": {
        "id": "0wSrBzmJyWaV",
        "colab_type": "text"
      },
      "source": [
        "# STRETCH OPTIONS\n",
        "\n",
        "### 1) Reproduce one of the following using the matplotlib or seaborn libraries:\n",
        "\n",
        "- [thanksgiving-2015](https://fivethirtyeight.com/features/heres-what-your-part-of-america-eats-on-thanksgiving/) \n",
        "- [candy-power-ranking](https://fivethirtyeight.com/features/the-ultimate-halloween-candy-power-ranking/) \n",
        "- or another example of your choice!\n",
        "\n",
        "### 2) Make more charts!\n",
        "\n",
        "Choose a chart you want to make, from [Visual Vocabulary - Vega Edition](http://ft.com/vocabulary).\n",
        "\n",
        "Find the chart in an example gallery of a Python data visualization library:\n",
        "- [Seaborn](http://seaborn.pydata.org/examples/index.html)\n",
        "- [Altair](https://altair-viz.github.io/gallery/index.html)\n",
        "- [Matplotlib](https://matplotlib.org/gallery.html)\n",
        "- [Pandas](https://pandas.pydata.org/pandas-docs/stable/visualization.html)\n",
        "\n",
        "Reproduce the chart. [Optionally, try the \"Ben Franklin Method.\"](https://docs.google.com/document/d/1ubOw9B3Hfip27hF2ZFnW3a3z9xAgrUDRReOEo-FHCVs/edit) If you want, experiment and make changes.\n",
        "\n",
        "Take notes. Consider sharing your work with your cohort!"
      ]
    },
    {
      "cell_type": "code",
      "metadata": {
        "id": "dRJkKftiy5BJ",
        "colab_type": "code",
        "colab": {}
      },
      "source": [
        "# More Work Here"
      ],
      "execution_count": 0,
      "outputs": []
    }
  ]
}