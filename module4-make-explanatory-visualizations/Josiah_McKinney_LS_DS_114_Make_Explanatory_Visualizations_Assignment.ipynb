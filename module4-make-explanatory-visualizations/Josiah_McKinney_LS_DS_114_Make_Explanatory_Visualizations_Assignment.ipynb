{
  "nbformat": 4,
  "nbformat_minor": 0,
  "metadata": {
    "colab": {
      "name": "Josiah_McKinney_LS_DS_114_Make_Explanatory_Visualizations_Assignment.ipynb",
      "provenance": [],
      "collapsed_sections": [],
      "include_colab_link": true
    },
    "language_info": {
      "codemirror_mode": {
        "name": "ipython",
        "version": 3
      },
      "file_extension": ".py",
      "mimetype": "text/x-python",
      "name": "python",
      "nbconvert_exporter": "python",
      "pygments_lexer": "ipython3",
      "version": "3.7.1"
    },
    "kernelspec": {
      "display_name": "Python 3",
      "language": "python",
      "name": "python3"
    }
  },
  "cells": [
    {
      "cell_type": "markdown",
      "metadata": {
        "id": "view-in-github",
        "colab_type": "text"
      },
      "source": [
        "<a href=\"https://colab.research.google.com/github/joeyMckinney/DS-Unit-1-Sprint-1-Data-Wrangling-and-Storytelling/blob/master/module4-make-explanatory-visualizations/Josiah_McKinney_LS_DS_114_Make_Explanatory_Visualizations_Assignment.ipynb\" target=\"_parent\"><img src=\"https://colab.research.google.com/assets/colab-badge.svg\" alt=\"Open In Colab\"/></a>"
      ]
    },
    {
      "cell_type": "markdown",
      "metadata": {
        "colab_type": "text",
        "id": "NMEswXWh9mqw"
      },
      "source": [
        "Lambda School Data Science\n",
        "\n",
        "*Unit 1, Sprint 1, Module 4*\n",
        "\n",
        "---\n",
        "\n",
        "# ASSIGNMENT\n",
        "\n",
        "### 1) Replicate the lesson code. I recommend that you [do not copy-paste](https://docs.google.com/document/d/1ubOw9B3Hfip27hF2ZFnW3a3z9xAgrUDRReOEo-FHCVs/edit).\n",
        "\n",
        "Get caught up to where we got our example in class and then try and take things further. How close to \"pixel perfect\" can you make the lecture graph?\n",
        "\n",
        "Once you have something that you're proud of, share your graph in the cohort channel and move on to the second exercise.\n",
        "\n",
        "### 2) Reproduce another example from [FiveThityEight's shared data repository](https://data.fivethirtyeight.com/).\n",
        "\n",
        "**WARNING**: There are a lot of very custom graphs and tables at the above link. I **highly** recommend not trying to reproduce any that look like a table of values or something really different from the graph types that we are already familiar with. Search through the posts until you find a graph type that you are more or less familiar with: histogram, bar chart, stacked bar chart, line chart, [seaborn relplot](https://seaborn.pydata.org/generated/seaborn.relplot.html), etc. Recreating some of the graphics that 538 uses would be a lot easier in Adobe photoshop/illustrator than with matplotlib. \n",
        "\n",
        "- If you put in some time to find a graph that looks \"easy\" to replicate you'll probably find that it's not as easy as you thought. \n",
        "\n",
        "- If you start with a graph that looks hard to replicate you'll probably run up against a brick wall and be disappointed with your afternoon.\n",
        "\n",
        "\n",
        "\n",
        "\n",
        "\n",
        "\n",
        "\n",
        "\n",
        "\n",
        "\n"
      ]
    },
    {
      "cell_type": "code",
      "metadata": {
        "id": "7SY1ZHawyZvz",
        "colab_type": "code",
        "colab": {}
      },
      "source": [
        "# Your Work Here\n",
        "import pandas as pd\n",
        "import matplotlib.pyplot as plt"
      ],
      "execution_count": 1,
      "outputs": []
    },
    {
      "cell_type": "code",
      "metadata": {
        "id": "w6chXiUnCbnn",
        "colab_type": "code",
        "colab": {
          "base_uri": "https://localhost:8080/",
          "height": 204
        },
        "outputId": "71dbed12-2d94-407e-fc2f-744dcb04bd56"
      },
      "source": [
        "df = pd.DataFrame({'a': [1,3,2,4,3,5], 'b': [4,6,5,7,6,8]})\n",
        "df.head()"
      ],
      "execution_count": 2,
      "outputs": [
        {
          "output_type": "execute_result",
          "data": {
            "text/html": [
              "<div>\n",
              "<style scoped>\n",
              "    .dataframe tbody tr th:only-of-type {\n",
              "        vertical-align: middle;\n",
              "    }\n",
              "\n",
              "    .dataframe tbody tr th {\n",
              "        vertical-align: top;\n",
              "    }\n",
              "\n",
              "    .dataframe thead th {\n",
              "        text-align: right;\n",
              "    }\n",
              "</style>\n",
              "<table border=\"1\" class=\"dataframe\">\n",
              "  <thead>\n",
              "    <tr style=\"text-align: right;\">\n",
              "      <th></th>\n",
              "      <th>a</th>\n",
              "      <th>b</th>\n",
              "    </tr>\n",
              "  </thead>\n",
              "  <tbody>\n",
              "    <tr>\n",
              "      <th>0</th>\n",
              "      <td>1</td>\n",
              "      <td>4</td>\n",
              "    </tr>\n",
              "    <tr>\n",
              "      <th>1</th>\n",
              "      <td>3</td>\n",
              "      <td>6</td>\n",
              "    </tr>\n",
              "    <tr>\n",
              "      <th>2</th>\n",
              "      <td>2</td>\n",
              "      <td>5</td>\n",
              "    </tr>\n",
              "    <tr>\n",
              "      <th>3</th>\n",
              "      <td>4</td>\n",
              "      <td>7</td>\n",
              "    </tr>\n",
              "    <tr>\n",
              "      <th>4</th>\n",
              "      <td>3</td>\n",
              "      <td>6</td>\n",
              "    </tr>\n",
              "  </tbody>\n",
              "</table>\n",
              "</div>"
            ],
            "text/plain": [
              "   a  b\n",
              "0  1  4\n",
              "1  3  6\n",
              "2  2  5\n",
              "3  4  7\n",
              "4  3  6"
            ]
          },
          "metadata": {
            "tags": []
          },
          "execution_count": 2
        }
      ]
    },
    {
      "cell_type": "code",
      "metadata": {
        "id": "CuWfx3dXCqTV",
        "colab_type": "code",
        "colab": {
          "base_uri": "https://localhost:8080/",
          "height": 559
        },
        "outputId": "2de7a5c8-e13b-4808-8b2d-a0c7c96db05c"
      },
      "source": [
        "plt.plot(df['a'])\n",
        "plt.title(\"My graph's Title\")\n",
        "plt.xlabel('x axis label')\n",
        "plt.ylabel('y axis label')\n",
        "plt.show()\n",
        "plt.plot(df['b'])\n",
        "plt.title('My Graph\\'s Title')\n",
        "plt.show()"
      ],
      "execution_count": 3,
      "outputs": [
        {
          "output_type": "display_data",
          "data": {
            "image/png": "[encoded data removed]",
            "text/plain": [
              "<Figure size 432x288 with 1 Axes>"
            ]
          },
          "metadata": {
            "tags": [],
            "needs_background": "light"
          }
        },
        {
          "output_type": "display_data",
          "data": {
            "image/png": "[encoded data removed]",
            "text/plain": [
              "<Figure size 432x288 with 1 Axes>"
            ]
          },
          "metadata": {
            "tags": [],
            "needs_background": "light"
          }
        }
      ]
    },
    {
      "cell_type": "code",
      "metadata": {
        "id": "rtvsYdPTDImB",
        "colab_type": "code",
        "colab": {
          "base_uri": "https://localhost:8080/",
          "height": 295
        },
        "outputId": "058cb404-faf1-445c-c5e3-8fd947deb3e9"
      },
      "source": [
        "fig, ax = plt.subplots()\n",
        "fig.set_facecolor('yellow')\n",
        "\n",
        "ax.plot(df['a'])\n",
        "ax.plot(df['b'])\n",
        "\n",
        "ax.set_facecolor('lightblue')\n",
        "\n",
        "ax.set_title('My title')\n",
        "ax.set_xlabel('x label')\n",
        "ax.set_ylabel('y label')\n",
        "\n",
        "plt.show()"
      ],
      "execution_count": 4,
      "outputs": [
        {
          "output_type": "display_data",
          "data": {
            "image/png": "[encoded data removed]",
            "text/plain": [
              "<Figure size 432x288 with 1 Axes>"
            ]
          },
          "metadata": {
            "tags": []
          }
        }
      ]
    },
    {
      "cell_type": "code",
      "metadata": {
        "id": "TGWYAvK-DySh",
        "colab_type": "code",
        "colab": {
          "base_uri": "https://localhost:8080/",
          "height": 355
        },
        "outputId": "59954322-e067-4db9-8054-dc61d6a1de8b"
      },
      "source": [
        "from IPython.display import display, Image\n",
        "\n",
        "url = 'https://fivethirtyeight.com/wp-content/uploads/2017/09/mehtahickey-inconvenient-0830-1.png'\n",
        "example = Image(url=url, width=400)\n",
        "display(example)"
      ],
      "execution_count": 5,
      "outputs": [
        {
          "output_type": "display_data",
          "data": {
            "text/html": [
              "<img src=\"https://fivethirtyeight.com/wp-content/uploads/2017/09/mehtahickey-inconvenient-0830-1.png\" width=\"400\"/>"
            ],
            "text/plain": [
              "<IPython.core.display.Image object>"
            ]
          },
          "metadata": {
            "tags": []
          }
        }
      ]
    },
    {
      "cell_type": "code",
      "metadata": {
        "id": "2bf5fSbWEHAb",
        "colab_type": "code",
        "colab": {
          "base_uri": "https://localhost:8080/",
          "height": 433
        },
        "outputId": "1e83ceae-f0f2-4434-f692-a46575651ba8"
      },
      "source": [
        "%matplotlib inline\n",
        "import matplotlib.pyplot as plt\n",
        "import numpy as np\n",
        "import pandas as pd\n",
        "\n",
        "plt.style.use('default')\n",
        "fake = pd.Series([38, 3, 2, 1, 2, 4, 6, 5, 5, 33],\n",
        "                 index=range(1,11))\n",
        "fake.plot.bar();"
      ],
      "execution_count": 6,
      "outputs": [
        {
          "output_type": "display_data",
          "data": {
            "image/png": "[encoded data removed]",
            "text/plain": [
              "<Figure size 640x480 with 1 Axes>"
            ]
          },
          "metadata": {
            "tags": []
          }
        }
      ]
    },
    {
      "cell_type": "code",
      "metadata": {
        "id": "xuRlo_UoEkzj",
        "colab_type": "code",
        "colab": {
          "base_uri": "https://localhost:8080/",
          "height": 436
        },
        "outputId": "fe8fbf00-0daa-4c5d-d870-dafd0a3ded4b"
      },
      "source": [
        "fake2 = pd.Series(\n",
        "    [1, 1, 1, 1, 1, 1, 1, 1, 1, 1, 1, 1, 1, 1, 1, 1, 1, 1, 1, 1, 1, 1, 1, 1,\n",
        "     2, 2, 2, \n",
        "     3, 3, 3,\n",
        "     4, 4,\n",
        "     5, 5, 5,\n",
        "     6, 6, 6, 6,\n",
        "     7, 7, 7, 7, 7,\n",
        "     8, 8, 8, 8,\n",
        "     9, 9, 9, 9, \n",
        "     10, 10, 10, 10, 10, 10, 10, 10, 10, 10, 10, 10, 10, 10, 10, 10, 10, 10]\n",
        ")\n",
        "fake2.value_counts().sort_index().plot.bar();"
      ],
      "execution_count": 7,
      "outputs": [
        {
          "output_type": "display_data",
          "data": {
            "image/png": "[encoded data removed]",
            "text/plain": [
              "<Figure size 640x480 with 1 Axes>"
            ]
          },
          "metadata": {
            "tags": []
          }
        }
      ]
    },
    {
      "cell_type": "code",
      "metadata": {
        "id": "Ohd3aYkdFB-W",
        "colab_type": "code",
        "colab": {
          "base_uri": "https://localhost:8080/",
          "height": 519
        },
        "outputId": "7b011719-d511-4b5e-eb13-eeeb6103df48"
      },
      "source": [
        "plt.style.use('fivethirtyeight')\n",
        "fig, ax = plt.subplots()\n",
        "\n",
        "#figure styles\n",
        "#figure background color\n",
        "fig.set_facecolor('white')\n",
        "\n",
        "#Axes styles\n",
        "ax.bar(x=[1,2,3,4,5,6,7,8,9,10], height=fake, color='#ED713A', width=0.9)\n",
        "\n",
        "#graph background color\n",
        "ax.set_facecolor('white')\n",
        "\n",
        "#axis labels\n",
        "ax.set_xlabel('Rating', fontsize=10, fontweight='bold')\n",
        "ax.set_ylabel('Percent of total votes', fontsize=10, fontweight='bold')\n",
        "\n",
        "#fix tick marks and grid lines\n",
        "ax.set_xticks([1,2,3,4,5,6,7,8,9,10])\n",
        "ax.set_yticks([0, 10, 20, 30, 40])\n",
        "\n",
        "#tick labels\n",
        "ax.set_yticklabels([0,10,20,30,'40%'], fontsize=8, color='#8f8f8f')\n",
        "ax.set_xticklabels([1,2,3,4,5,6,7,8,9,10], fontsize=8, color='#8f8f8f')\n",
        "\n",
        "#title\n",
        "ax.set_title(\"'An Inconvenient Sequel: Truth To Power' is divisive\", \n",
        "             fontsize=11, x=.25, y=1.1, fontweight='bold')\n",
        "\n",
        "#Subtitle using raw .text object\n",
        "#x and y poistion is relative to the x and y axis\n",
        "ax.text(s='IMDb ratings for the film as of Aug. 29', x=-1.5, y=42, fontsize=11)\n",
        "\n",
        "#Remove the Spines\n",
        "ax.spines['left'].set_visible(False)\n",
        "ax.spines['top'].set_visible(False)\n",
        "ax.spines['right'].set_visible(False)\n",
        "ax.spines['bottom'].set_visible(False)\n",
        "\n",
        "plt.show()\n"
      ],
      "execution_count": 8,
      "outputs": [
        {
          "output_type": "display_data",
          "data": {
            "image/png": "[encoded data removed]",
            "text/plain": [
              "<Figure size 640x480 with 1 Axes>"
            ]
          },
          "metadata": {
            "tags": []
          }
        }
      ]
    },
    {
      "cell_type": "code",
      "metadata": {
        "id": "Q3phx-HLHXgi",
        "colab_type": "code",
        "colab": {
          "base_uri": "https://localhost:8080/",
          "height": 355
        },
        "outputId": "c053b533-8c43-4868-bc3b-4c47a901ba79"
      },
      "source": [
        "display(example)"
      ],
      "execution_count": 9,
      "outputs": [
        {
          "output_type": "display_data",
          "data": {
            "text/html": [
              "<img src=\"https://fivethirtyeight.com/wp-content/uploads/2017/09/mehtahickey-inconvenient-0830-1.png\" width=\"400\"/>"
            ],
            "text/plain": [
              "<IPython.core.display.Image object>"
            ]
          },
          "metadata": {
            "tags": []
          }
        }
      ]
    },
    {
      "cell_type": "code",
      "metadata": {
        "id": "gP2AMalaSL_I",
        "colab_type": "code",
        "colab": {
          "base_uri": "https://localhost:8080/",
          "height": 309
        },
        "outputId": "b1596307-7aab-4105-8c93-effe36373f2b"
      },
      "source": [
        "#reading in real data\n",
        "df = pd.read_csv('https://raw.githubusercontent.com/fivethirtyeight/data/master/inconvenient-sequel/ratings.csv')\n",
        "df.head()"
      ],
      "execution_count": 10,
      "outputs": [
        {
          "output_type": "execute_result",
          "data": {
            "text/html": [
              "<div>\n",
              "<style scoped>\n",
              "    .dataframe tbody tr th:only-of-type {\n",
              "        vertical-align: middle;\n",
              "    }\n",
              "\n",
              "    .dataframe tbody tr th {\n",
              "        vertical-align: top;\n",
              "    }\n",
              "\n",
              "    .dataframe thead th {\n",
              "        text-align: right;\n",
              "    }\n",
              "</style>\n",
              "<table border=\"1\" class=\"dataframe\">\n",
              "  <thead>\n",
              "    <tr style=\"text-align: right;\">\n",
              "      <th></th>\n",
              "      <th>timestamp</th>\n",
              "      <th>respondents</th>\n",
              "      <th>category</th>\n",
              "      <th>link</th>\n",
              "      <th>average</th>\n",
              "      <th>mean</th>\n",
              "      <th>median</th>\n",
              "      <th>1_votes</th>\n",
              "      <th>2_votes</th>\n",
              "      <th>3_votes</th>\n",
              "      <th>4_votes</th>\n",
              "      <th>5_votes</th>\n",
              "      <th>6_votes</th>\n",
              "      <th>7_votes</th>\n",
              "      <th>8_votes</th>\n",
              "      <th>9_votes</th>\n",
              "      <th>10_votes</th>\n",
              "      <th>1_pct</th>\n",
              "      <th>2_pct</th>\n",
              "      <th>3_pct</th>\n",
              "      <th>4_pct</th>\n",
              "      <th>5_pct</th>\n",
              "      <th>6_pct</th>\n",
              "      <th>7_pct</th>\n",
              "      <th>8_pct</th>\n",
              "      <th>9_pct</th>\n",
              "      <th>10_pct</th>\n",
              "    </tr>\n",
              "  </thead>\n",
              "  <tbody>\n",
              "    <tr>\n",
              "      <th>0</th>\n",
              "      <td>2017-07-17 12:28:32.785639</td>\n",
              "      <td>402</td>\n",
              "      <td>Males</td>\n",
              "      <td>http://www.imdb.com/title/tt6322922/ratings-male</td>\n",
              "      <td>4.6</td>\n",
              "      <td>5.0</td>\n",
              "      <td>2</td>\n",
              "      <td>197</td>\n",
              "      <td>7</td>\n",
              "      <td>7</td>\n",
              "      <td>3</td>\n",
              "      <td>7</td>\n",
              "      <td>7</td>\n",
              "      <td>11</td>\n",
              "      <td>8</td>\n",
              "      <td>20</td>\n",
              "      <td>135</td>\n",
              "      <td>49.0</td>\n",
              "      <td>1.7</td>\n",
              "      <td>1.7</td>\n",
              "      <td>0.7</td>\n",
              "      <td>1.7</td>\n",
              "      <td>1.7</td>\n",
              "      <td>2.7</td>\n",
              "      <td>2.0</td>\n",
              "      <td>5.0</td>\n",
              "      <td>33.6</td>\n",
              "    </tr>\n",
              "    <tr>\n",
              "      <th>1</th>\n",
              "      <td>2017-07-17 12:28:33.025600</td>\n",
              "      <td>78</td>\n",
              "      <td>Females</td>\n",
              "      <td>http://www.imdb.com/title/tt6322922/ratings-fe...</td>\n",
              "      <td>6.9</td>\n",
              "      <td>7.7</td>\n",
              "      <td>10</td>\n",
              "      <td>16</td>\n",
              "      <td>1</td>\n",
              "      <td>0</td>\n",
              "      <td>1</td>\n",
              "      <td>1</td>\n",
              "      <td>0</td>\n",
              "      <td>3</td>\n",
              "      <td>4</td>\n",
              "      <td>3</td>\n",
              "      <td>49</td>\n",
              "      <td>20.5</td>\n",
              "      <td>1.3</td>\n",
              "      <td>0.0</td>\n",
              "      <td>1.3</td>\n",
              "      <td>1.3</td>\n",
              "      <td>0.0</td>\n",
              "      <td>3.8</td>\n",
              "      <td>5.1</td>\n",
              "      <td>3.8</td>\n",
              "      <td>62.8</td>\n",
              "    </tr>\n",
              "    <tr>\n",
              "      <th>2</th>\n",
              "      <td>2017-07-17 12:28:33.273919</td>\n",
              "      <td>4</td>\n",
              "      <td>Aged under 18</td>\n",
              "      <td>http://www.imdb.com/title/tt6322922/ratings-age_1</td>\n",
              "      <td>4.2</td>\n",
              "      <td>4.2</td>\n",
              "      <td>3</td>\n",
              "      <td>2</td>\n",
              "      <td>0</td>\n",
              "      <td>0</td>\n",
              "      <td>0</td>\n",
              "      <td>1</td>\n",
              "      <td>0</td>\n",
              "      <td>0</td>\n",
              "      <td>0</td>\n",
              "      <td>0</td>\n",
              "      <td>1</td>\n",
              "      <td>50.0</td>\n",
              "      <td>0.0</td>\n",
              "      <td>0.0</td>\n",
              "      <td>0.0</td>\n",
              "      <td>25.0</td>\n",
              "      <td>0.0</td>\n",
              "      <td>0.0</td>\n",
              "      <td>0.0</td>\n",
              "      <td>0.0</td>\n",
              "      <td>25.0</td>\n",
              "    </tr>\n",
              "    <tr>\n",
              "      <th>3</th>\n",
              "      <td>2017-07-17 12:28:33.495325</td>\n",
              "      <td>4</td>\n",
              "      <td>Males under 18</td>\n",
              "      <td>http://www.imdb.com/title/tt6322922/ratings-ma...</td>\n",
              "      <td>4.2</td>\n",
              "      <td>4.2</td>\n",
              "      <td>3</td>\n",
              "      <td>2</td>\n",
              "      <td>0</td>\n",
              "      <td>0</td>\n",
              "      <td>0</td>\n",
              "      <td>1</td>\n",
              "      <td>0</td>\n",
              "      <td>0</td>\n",
              "      <td>0</td>\n",
              "      <td>0</td>\n",
              "      <td>1</td>\n",
              "      <td>50.0</td>\n",
              "      <td>0.0</td>\n",
              "      <td>0.0</td>\n",
              "      <td>0.0</td>\n",
              "      <td>25.0</td>\n",
              "      <td>0.0</td>\n",
              "      <td>0.0</td>\n",
              "      <td>0.0</td>\n",
              "      <td>0.0</td>\n",
              "      <td>25.0</td>\n",
              "    </tr>\n",
              "    <tr>\n",
              "      <th>4</th>\n",
              "      <td>2017-07-17 12:28:33.722849</td>\n",
              "      <td>130</td>\n",
              "      <td>Aged 18-29</td>\n",
              "      <td>http://www.imdb.com/title/tt6322922/ratings-age_2</td>\n",
              "      <td>6.3</td>\n",
              "      <td>6.5</td>\n",
              "      <td>9</td>\n",
              "      <td>41</td>\n",
              "      <td>0</td>\n",
              "      <td>3</td>\n",
              "      <td>1</td>\n",
              "      <td>2</td>\n",
              "      <td>3</td>\n",
              "      <td>6</td>\n",
              "      <td>4</td>\n",
              "      <td>6</td>\n",
              "      <td>64</td>\n",
              "      <td>31.5</td>\n",
              "      <td>0.0</td>\n",
              "      <td>2.3</td>\n",
              "      <td>0.8</td>\n",
              "      <td>1.5</td>\n",
              "      <td>2.3</td>\n",
              "      <td>4.6</td>\n",
              "      <td>3.1</td>\n",
              "      <td>4.6</td>\n",
              "      <td>49.2</td>\n",
              "    </tr>\n",
              "  </tbody>\n",
              "</table>\n",
              "</div>"
            ],
            "text/plain": [
              "                    timestamp  respondents  ... 9_pct 10_pct\n",
              "0  2017-07-17 12:28:32.785639          402  ...   5.0   33.6\n",
              "1  2017-07-17 12:28:33.025600           78  ...   3.8   62.8\n",
              "2  2017-07-17 12:28:33.273919            4  ...   0.0   25.0\n",
              "3  2017-07-17 12:28:33.495325            4  ...   0.0   25.0\n",
              "4  2017-07-17 12:28:33.722849          130  ...   4.6   49.2\n",
              "\n",
              "[5 rows x 27 columns]"
            ]
          },
          "metadata": {
            "tags": []
          },
          "execution_count": 10
        }
      ]
    },
    {
      "cell_type": "code",
      "metadata": {
        "id": "ruP5C3KKTihl",
        "colab_type": "code",
        "colab": {
          "base_uri": "https://localhost:8080/",
          "height": 204
        },
        "outputId": "9844ea30-c6be-4734-96bc-a6ff30c7a0d3"
      },
      "source": [
        "#adding up the sum of ratings\n",
        "total_rating = df['respondents'].sum()\n",
        "\n",
        "#getting the percents of the votes\n",
        "vote_percents = 100/(total_rating/df[['1_votes', '2_votes', '3_votes', '4_votes', '5_votes', '6_votes', '7_votes', '8_votes', '9_votes', '10_votes']].sum())\n",
        "vote_percents"
      ],
      "execution_count": 11,
      "outputs": [
        {
          "output_type": "execute_result",
          "data": {
            "text/plain": [
              "1_votes     39.528683\n",
              "2_votes      2.866229\n",
              "3_votes      1.734445\n",
              "4_votes      0.796181\n",
              "5_votes      1.933035\n",
              "6_votes      3.332158\n",
              "7_votes      4.668537\n",
              "8_votes      4.450586\n",
              "9_votes      5.594008\n",
              "10_votes    35.096138\n",
              "dtype: float64"
            ]
          },
          "metadata": {
            "tags": []
          },
          "execution_count": 11
        }
      ]
    },
    {
      "cell_type": "code",
      "metadata": {
        "id": "d-BFc7QzV-VV",
        "colab_type": "code",
        "colab": {
          "base_uri": "https://localhost:8080/",
          "height": 519
        },
        "outputId": "dc533a9f-690f-442a-cdac-0b04d0bdb0c3"
      },
      "source": [
        "plt.style.use('fivethirtyeight')\n",
        "fig, ax = plt.subplots()\n",
        "\n",
        "#figure styles\n",
        "#figure background color\n",
        "fig.set_facecolor('white')\n",
        "\n",
        "#Axes styles\n",
        "ax.bar(x=[1,2,3,4,5,6,7,8,9,10], height=vote_percents, color='#ED713A', width=0.9)\n",
        "\n",
        "#graph background color\n",
        "ax.set_facecolor('white')\n",
        "\n",
        "#axis labels\n",
        "ax.set_xlabel('Rating', fontsize=10, fontweight='bold')\n",
        "ax.set_ylabel('Percent of total votes', fontsize=10, fontweight='bold')\n",
        "\n",
        "#fix tick marks and grid lines\n",
        "ax.set_xticks([1,2,3,4,5,6,7,8,9,10])\n",
        "ax.set_yticks([0, 10, 20, 30, 40])\n",
        "\n",
        "#tick labels\n",
        "ax.set_yticklabels([0,10,20,30,'40%'], fontsize=8, color='#8f8f8f')\n",
        "ax.set_xticklabels([1,2,3,4,5,6,7,8,9,10], fontsize=8, color='#8f8f8f')\n",
        "\n",
        "#title\n",
        "ax.set_title(\"'An Inconvenient Sequel: Truth To Power' is divisive\", \n",
        "             fontsize=11, x=.25, y=1.1, fontweight='bold')\n",
        "\n",
        "#Subtitle using raw .text object\n",
        "#x and y poistion is relative to the x and y axis\n",
        "ax.text(s='IMDb ratings for the film as of Aug. 29', x=-1.5, y=43, fontsize=11)\n",
        "\n",
        "#Remove the Spines\n",
        "ax.spines['left'].set_visible(False)\n",
        "ax.spines['top'].set_visible(False)\n",
        "ax.spines['right'].set_visible(False)\n",
        "ax.spines['bottom'].set_visible(False)\n",
        "\n",
        "plt.show()\n"
      ],
      "execution_count": 12,
      "outputs": [
        {
          "output_type": "display_data",
          "data": {
            "image/png": "[encoded data removed]",
            "text/plain": [
              "<Figure size 640x480 with 1 Axes>"
            ]
          },
          "metadata": {
            "tags": []
          }
        }
      ]
    },
    {
      "cell_type": "code",
      "metadata": {
        "id": "Vf9nf6ZrWeZF",
        "colab_type": "code",
        "colab": {
          "base_uri": "https://localhost:8080/",
          "height": 355
        },
        "outputId": "74fb2574-2163-4cf6-e377-fafa0d67a000"
      },
      "source": [
        "display(example)"
      ],
      "execution_count": 13,
      "outputs": [
        {
          "output_type": "display_data",
          "data": {
            "text/html": [
              "<img src=\"https://fivethirtyeight.com/wp-content/uploads/2017/09/mehtahickey-inconvenient-0830-1.png\" width=\"400\"/>"
            ],
            "text/plain": [
              "<IPython.core.display.Image object>"
            ]
          },
          "metadata": {
            "tags": []
          }
        }
      ]
    },
    {
      "cell_type": "code",
      "metadata": {
        "id": "f3JYLUWAhljU",
        "colab_type": "code",
        "colab": {
          "base_uri": "https://localhost:8080/",
          "height": 219
        },
        "outputId": "233ef58b-a9a3-4843-fcc4-e08931684442"
      },
      "source": [
        "#reading in generic topline\n",
        "generic_topline = pd.read_csv('/content/generic_topline.csv')\n",
        "\n",
        "print(generic_topline.shape)\n",
        "generic_topline.head()"
      ],
      "execution_count": 15,
      "outputs": [
        {
          "output_type": "stream",
          "text": [
            "(1529, 9)\n"
          ],
          "name": "stdout"
        },
        {
          "output_type": "execute_result",
          "data": {
            "text/html": [
              "<div>\n",
              "<style scoped>\n",
              "    .dataframe tbody tr th:only-of-type {\n",
              "        vertical-align: middle;\n",
              "    }\n",
              "\n",
              "    .dataframe tbody tr th {\n",
              "        vertical-align: top;\n",
              "    }\n",
              "\n",
              "    .dataframe thead th {\n",
              "        text-align: right;\n",
              "    }\n",
              "</style>\n",
              "<table border=\"1\" class=\"dataframe\">\n",
              "  <thead>\n",
              "    <tr style=\"text-align: right;\">\n",
              "      <th></th>\n",
              "      <th>subgroup</th>\n",
              "      <th>modeldate</th>\n",
              "      <th>dem_estimate</th>\n",
              "      <th>dem_hi</th>\n",
              "      <th>dem_lo</th>\n",
              "      <th>rep_estimate</th>\n",
              "      <th>rep_hi</th>\n",
              "      <th>rep_lo</th>\n",
              "      <th>timestamp</th>\n",
              "    </tr>\n",
              "  </thead>\n",
              "  <tbody>\n",
              "    <tr>\n",
              "      <th>0</th>\n",
              "      <td>All polls</td>\n",
              "      <td>9/18/2018</td>\n",
              "      <td>48.83349</td>\n",
              "      <td>53.41670</td>\n",
              "      <td>44.25029</td>\n",
              "      <td>39.82040</td>\n",
              "      <td>43.82842</td>\n",
              "      <td>35.81238</td>\n",
              "      <td>15:27:18 18 Sep 2018</td>\n",
              "    </tr>\n",
              "    <tr>\n",
              "      <th>1</th>\n",
              "      <td>All polls</td>\n",
              "      <td>9/17/2018</td>\n",
              "      <td>48.99541</td>\n",
              "      <td>53.52506</td>\n",
              "      <td>44.46576</td>\n",
              "      <td>39.89773</td>\n",
              "      <td>43.87387</td>\n",
              "      <td>35.92159</td>\n",
              "      <td>12:43:18 17 Sep 2018</td>\n",
              "    </tr>\n",
              "    <tr>\n",
              "      <th>2</th>\n",
              "      <td>All polls</td>\n",
              "      <td>9/16/2018</td>\n",
              "      <td>49.00679</td>\n",
              "      <td>53.52383</td>\n",
              "      <td>44.48976</td>\n",
              "      <td>39.90728</td>\n",
              "      <td>43.88107</td>\n",
              "      <td>35.93348</td>\n",
              "      <td>18:00:21 16 Sep 2018</td>\n",
              "    </tr>\n",
              "    <tr>\n",
              "      <th>3</th>\n",
              "      <td>All polls</td>\n",
              "      <td>9/15/2018</td>\n",
              "      <td>48.98850</td>\n",
              "      <td>53.50552</td>\n",
              "      <td>44.47148</td>\n",
              "      <td>39.90475</td>\n",
              "      <td>43.87831</td>\n",
              "      <td>35.93119</td>\n",
              "      <td>23:19:16 15 Sep 2018</td>\n",
              "    </tr>\n",
              "    <tr>\n",
              "      <th>4</th>\n",
              "      <td>All polls</td>\n",
              "      <td>9/14/2018</td>\n",
              "      <td>48.90380</td>\n",
              "      <td>53.42683</td>\n",
              "      <td>44.38077</td>\n",
              "      <td>39.81883</td>\n",
              "      <td>43.79385</td>\n",
              "      <td>35.84381</td>\n",
              "      <td>15:55:31 14 Sep 2018</td>\n",
              "    </tr>\n",
              "  </tbody>\n",
              "</table>\n",
              "</div>"
            ],
            "text/plain": [
              "    subgroup  modeldate  dem_estimate  ...    rep_hi    rep_lo             timestamp\n",
              "0  All polls  9/18/2018      48.83349  ...  43.82842  35.81238  15:27:18 18 Sep 2018\n",
              "1  All polls  9/17/2018      48.99541  ...  43.87387  35.92159  12:43:18 17 Sep 2018\n",
              "2  All polls  9/16/2018      49.00679  ...  43.88107  35.93348  18:00:21 16 Sep 2018\n",
              "3  All polls  9/15/2018      48.98850  ...  43.87831  35.93119  23:19:16 15 Sep 2018\n",
              "4  All polls  9/14/2018      48.90380  ...  43.79385  35.84381  15:55:31 14 Sep 2018\n",
              "\n",
              "[5 rows x 9 columns]"
            ]
          },
          "metadata": {
            "tags": []
          },
          "execution_count": 15
        }
      ]
    },
    {
      "cell_type": "markdown",
      "metadata": {
        "id": "UTHfdsKQhuq3",
        "colab_type": "text"
      },
      "source": [
        ""
      ]
    },
    {
      "cell_type": "code",
      "metadata": {
        "id": "PgOmnsEzuuEC",
        "colab_type": "code",
        "colab": {
          "base_uri": "https://localhost:8080/",
          "height": 52
        },
        "outputId": "3e3808da-a320-411c-9dd6-a1ddf71b604c"
      },
      "source": [
        "print(generic_topline['dem_estimate'].min())\n",
        "print(generic_topline['dem_estimate'].max())"
      ],
      "execution_count": 16,
      "outputs": [
        {
          "output_type": "stream",
          "text": [
            "40.12899\n",
            "51.0\n"
          ],
          "name": "stdout"
        }
      ]
    },
    {
      "cell_type": "code",
      "metadata": {
        "id": "h668VCXZgysy",
        "colab_type": "code",
        "colab": {
          "base_uri": "https://localhost:8080/",
          "height": 326
        },
        "outputId": "491ed672-9159-4bf1-eac4-f377ff54fe12"
      },
      "source": [
        "#reading in generic pollist\n",
        "generic_polllist = pd.read_csv('/content/generic_polllist.csv')\n",
        "\n",
        "print(generic_polllist.shape)\n",
        "generic_polllist.head()"
      ],
      "execution_count": 244,
      "outputs": [
        {
          "output_type": "stream",
          "text": [
            "(509, 21)\n"
          ],
          "name": "stdout"
        },
        {
          "output_type": "execute_result",
          "data": {
            "text/html": [
              "<div>\n",
              "<style scoped>\n",
              "    .dataframe tbody tr th:only-of-type {\n",
              "        vertical-align: middle;\n",
              "    }\n",
              "\n",
              "    .dataframe tbody tr th {\n",
              "        vertical-align: top;\n",
              "    }\n",
              "\n",
              "    .dataframe thead th {\n",
              "        text-align: right;\n",
              "    }\n",
              "</style>\n",
              "<table border=\"1\" class=\"dataframe\">\n",
              "  <thead>\n",
              "    <tr style=\"text-align: right;\">\n",
              "      <th></th>\n",
              "      <th>subgroup</th>\n",
              "      <th>modeldate</th>\n",
              "      <th>startdate</th>\n",
              "      <th>enddate</th>\n",
              "      <th>pollster</th>\n",
              "      <th>grade</th>\n",
              "      <th>samplesize</th>\n",
              "      <th>population</th>\n",
              "      <th>weight</th>\n",
              "      <th>influence</th>\n",
              "      <th>dem</th>\n",
              "      <th>rep</th>\n",
              "      <th>adjusted_dem</th>\n",
              "      <th>adjusted_rep</th>\n",
              "      <th>multiversions</th>\n",
              "      <th>tracking</th>\n",
              "      <th>url</th>\n",
              "      <th>poll_id</th>\n",
              "      <th>question_id</th>\n",
              "      <th>createddate</th>\n",
              "      <th>timestamp</th>\n",
              "    </tr>\n",
              "  </thead>\n",
              "  <tbody>\n",
              "    <tr>\n",
              "      <th>0</th>\n",
              "      <td>All polls</td>\n",
              "      <td>7/9/2020</td>\n",
              "      <td>11/30/2018</td>\n",
              "      <td>12/2/2018</td>\n",
              "      <td>Winston Group</td>\n",
              "      <td>B/C</td>\n",
              "      <td>1000</td>\n",
              "      <td>rv</td>\n",
              "      <td>0.753612</td>\n",
              "      <td>0.0</td>\n",
              "      <td>47.0</td>\n",
              "      <td>41.0</td>\n",
              "      <td>46.805909</td>\n",
              "      <td>41.269266</td>\n",
              "      <td>NaN</td>\n",
              "      <td>NaN</td>\n",
              "      <td>https://www.winningtheissues.org/wp-content/up...</td>\n",
              "      <td>66565</td>\n",
              "      <td>124055</td>\n",
              "      <td>5/29/2020</td>\n",
              "      <td>18:00:11  9 Jul 2020</td>\n",
              "    </tr>\n",
              "    <tr>\n",
              "      <th>1</th>\n",
              "      <td>All polls</td>\n",
              "      <td>7/9/2020</td>\n",
              "      <td>12/29/2018</td>\n",
              "      <td>12/30/2018</td>\n",
              "      <td>Winston Group</td>\n",
              "      <td>B/C</td>\n",
              "      <td>1000</td>\n",
              "      <td>rv</td>\n",
              "      <td>0.611841</td>\n",
              "      <td>0.0</td>\n",
              "      <td>48.0</td>\n",
              "      <td>41.0</td>\n",
              "      <td>47.805909</td>\n",
              "      <td>41.269266</td>\n",
              "      <td>NaN</td>\n",
              "      <td>NaN</td>\n",
              "      <td>https://www.winningtheissues.org/wp-content/up...</td>\n",
              "      <td>66581</td>\n",
              "      <td>124115</td>\n",
              "      <td>5/29/2020</td>\n",
              "      <td>18:00:11  9 Jul 2020</td>\n",
              "    </tr>\n",
              "    <tr>\n",
              "      <th>2</th>\n",
              "      <td>All polls</td>\n",
              "      <td>7/9/2020</td>\n",
              "      <td>12/31/2018</td>\n",
              "      <td>1/2/2019</td>\n",
              "      <td>HarrisX</td>\n",
              "      <td>C</td>\n",
              "      <td>3012</td>\n",
              "      <td>rv</td>\n",
              "      <td>0.032487</td>\n",
              "      <td>0.0</td>\n",
              "      <td>45.0</td>\n",
              "      <td>35.0</td>\n",
              "      <td>49.888815</td>\n",
              "      <td>39.811604</td>\n",
              "      <td>NaN</td>\n",
              "      <td>T</td>\n",
              "      <td>https://scottrasmussen.com/generic-ballot-daily/</td>\n",
              "      <td>57208</td>\n",
              "      <td>92471</td>\n",
              "      <td>1/3/2019</td>\n",
              "      <td>18:00:11  9 Jul 2020</td>\n",
              "    </tr>\n",
              "    <tr>\n",
              "      <th>3</th>\n",
              "      <td>All polls</td>\n",
              "      <td>7/9/2020</td>\n",
              "      <td>1/1/2019</td>\n",
              "      <td>1/3/2019</td>\n",
              "      <td>HarrisX</td>\n",
              "      <td>C</td>\n",
              "      <td>3012</td>\n",
              "      <td>rv</td>\n",
              "      <td>0.031667</td>\n",
              "      <td>0.0</td>\n",
              "      <td>44.0</td>\n",
              "      <td>35.0</td>\n",
              "      <td>48.888815</td>\n",
              "      <td>39.811604</td>\n",
              "      <td>NaN</td>\n",
              "      <td>T</td>\n",
              "      <td>https://scottrasmussen.com/generic-ballot-daily/</td>\n",
              "      <td>57218</td>\n",
              "      <td>92479</td>\n",
              "      <td>1/4/2019</td>\n",
              "      <td>18:00:11  9 Jul 2020</td>\n",
              "    </tr>\n",
              "    <tr>\n",
              "      <th>4</th>\n",
              "      <td>All polls</td>\n",
              "      <td>7/9/2020</td>\n",
              "      <td>1/2/2019</td>\n",
              "      <td>1/4/2019</td>\n",
              "      <td>HarrisX</td>\n",
              "      <td>C</td>\n",
              "      <td>3003</td>\n",
              "      <td>rv</td>\n",
              "      <td>0.030810</td>\n",
              "      <td>0.0</td>\n",
              "      <td>43.0</td>\n",
              "      <td>36.0</td>\n",
              "      <td>47.888815</td>\n",
              "      <td>40.811604</td>\n",
              "      <td>NaN</td>\n",
              "      <td>T</td>\n",
              "      <td>https://scottrasmussen.com/generic-ballot-daily/</td>\n",
              "      <td>57221</td>\n",
              "      <td>92483</td>\n",
              "      <td>1/5/2019</td>\n",
              "      <td>18:00:11  9 Jul 2020</td>\n",
              "    </tr>\n",
              "  </tbody>\n",
              "</table>\n",
              "</div>"
            ],
            "text/plain": [
              "    subgroup modeldate  ... createddate             timestamp\n",
              "0  All polls  7/9/2020  ...   5/29/2020  18:00:11  9 Jul 2020\n",
              "1  All polls  7/9/2020  ...   5/29/2020  18:00:11  9 Jul 2020\n",
              "2  All polls  7/9/2020  ...    1/3/2019  18:00:11  9 Jul 2020\n",
              "3  All polls  7/9/2020  ...    1/4/2019  18:00:11  9 Jul 2020\n",
              "4  All polls  7/9/2020  ...    1/5/2019  18:00:11  9 Jul 2020\n",
              "\n",
              "[5 rows x 21 columns]"
            ]
          },
          "metadata": {
            "tags": []
          },
          "execution_count": 244
        }
      ]
    },
    {
      "cell_type": "code",
      "metadata": {
        "id": "Zd9zZdGcgReS",
        "colab_type": "code",
        "colab": {}
      },
      "source": [
        ""
      ],
      "execution_count": 194,
      "outputs": []
    },
    {
      "cell_type": "code",
      "metadata": {
        "id": "msjXGMC9z9o6",
        "colab_type": "code",
        "colab": {
          "base_uri": "https://localhost:8080/",
          "height": 415
        },
        "outputId": "1fd5334b-66e3-4937-ae96-b952b0ba758c"
      },
      "source": [
        "#making sub set of generic_topline\n",
        "generic_polllist_sub = generic_polllist[['dem', 'rep', 'createddate']]\n",
        "generic_polllist_sub"
      ],
      "execution_count": 245,
      "outputs": [
        {
          "output_type": "execute_result",
          "data": {
            "text/html": [
              "<div>\n",
              "<style scoped>\n",
              "    .dataframe tbody tr th:only-of-type {\n",
              "        vertical-align: middle;\n",
              "    }\n",
              "\n",
              "    .dataframe tbody tr th {\n",
              "        vertical-align: top;\n",
              "    }\n",
              "\n",
              "    .dataframe thead th {\n",
              "        text-align: right;\n",
              "    }\n",
              "</style>\n",
              "<table border=\"1\" class=\"dataframe\">\n",
              "  <thead>\n",
              "    <tr style=\"text-align: right;\">\n",
              "      <th></th>\n",
              "      <th>dem</th>\n",
              "      <th>rep</th>\n",
              "      <th>createddate</th>\n",
              "    </tr>\n",
              "  </thead>\n",
              "  <tbody>\n",
              "    <tr>\n",
              "      <th>0</th>\n",
              "      <td>47.0</td>\n",
              "      <td>41.0</td>\n",
              "      <td>5/29/2020</td>\n",
              "    </tr>\n",
              "    <tr>\n",
              "      <th>1</th>\n",
              "      <td>48.0</td>\n",
              "      <td>41.0</td>\n",
              "      <td>5/29/2020</td>\n",
              "    </tr>\n",
              "    <tr>\n",
              "      <th>2</th>\n",
              "      <td>45.0</td>\n",
              "      <td>35.0</td>\n",
              "      <td>1/3/2019</td>\n",
              "    </tr>\n",
              "    <tr>\n",
              "      <th>3</th>\n",
              "      <td>44.0</td>\n",
              "      <td>35.0</td>\n",
              "      <td>1/4/2019</td>\n",
              "    </tr>\n",
              "    <tr>\n",
              "      <th>4</th>\n",
              "      <td>43.0</td>\n",
              "      <td>36.0</td>\n",
              "      <td>1/5/2019</td>\n",
              "    </tr>\n",
              "    <tr>\n",
              "      <th>...</th>\n",
              "      <td>...</td>\n",
              "      <td>...</td>\n",
              "      <td>...</td>\n",
              "    </tr>\n",
              "    <tr>\n",
              "      <th>504</th>\n",
              "      <td>51.0</td>\n",
              "      <td>42.0</td>\n",
              "      <td>7/1/2020</td>\n",
              "    </tr>\n",
              "    <tr>\n",
              "      <th>505</th>\n",
              "      <td>50.5</td>\n",
              "      <td>37.3</td>\n",
              "      <td>6/30/2020</td>\n",
              "    </tr>\n",
              "    <tr>\n",
              "      <th>506</th>\n",
              "      <td>50.0</td>\n",
              "      <td>42.0</td>\n",
              "      <td>7/2/2020</td>\n",
              "    </tr>\n",
              "    <tr>\n",
              "      <th>507</th>\n",
              "      <td>49.0</td>\n",
              "      <td>40.0</td>\n",
              "      <td>7/1/2020</td>\n",
              "    </tr>\n",
              "    <tr>\n",
              "      <th>508</th>\n",
              "      <td>51.0</td>\n",
              "      <td>40.0</td>\n",
              "      <td>7/8/2020</td>\n",
              "    </tr>\n",
              "  </tbody>\n",
              "</table>\n",
              "<p>509 rows × 3 columns</p>\n",
              "</div>"
            ],
            "text/plain": [
              "      dem   rep createddate\n",
              "0    47.0  41.0   5/29/2020\n",
              "1    48.0  41.0   5/29/2020\n",
              "2    45.0  35.0    1/3/2019\n",
              "3    44.0  35.0    1/4/2019\n",
              "4    43.0  36.0    1/5/2019\n",
              "..    ...   ...         ...\n",
              "504  51.0  42.0    7/1/2020\n",
              "505  50.5  37.3   6/30/2020\n",
              "506  50.0  42.0    7/2/2020\n",
              "507  49.0  40.0    7/1/2020\n",
              "508  51.0  40.0    7/8/2020\n",
              "\n",
              "[509 rows x 3 columns]"
            ]
          },
          "metadata": {
            "tags": []
          },
          "execution_count": 245
        }
      ]
    },
    {
      "cell_type": "code",
      "metadata": {
        "id": "7LwgB7LvoMa-",
        "colab_type": "code",
        "colab": {}
      },
      "source": [
        ""
      ],
      "execution_count": 245,
      "outputs": []
    },
    {
      "cell_type": "code",
      "metadata": {
        "id": "euykDOEJAjzo",
        "colab_type": "code",
        "colab": {
          "base_uri": "https://localhost:8080/",
          "height": 306
        },
        "outputId": "ee0b4c58-088e-4957-c532-e9162f0db07f"
      },
      "source": [
        "#turning timestamp to datetime objects and only having months years and days\n",
        "generic_polllist_sub['createddate'] = pd.to_datetime(generic_polllist_sub['createddate'], infer_datetime_format=True)\n",
        "\n",
        "generic_polllist_sub.head()"
      ],
      "execution_count": 246,
      "outputs": [
        {
          "output_type": "stream",
          "text": [
            "/usr/local/lib/python3.6/dist-packages/ipykernel_launcher.py:2: SettingWithCopyWarning: \n",
            "A value is trying to be set on a copy of a slice from a DataFrame.\n",
            "Try using .loc[row_indexer,col_indexer] = value instead\n",
            "\n",
            "See the caveats in the documentation: https://pandas.pydata.org/pandas-docs/stable/user_guide/indexing.html#returning-a-view-versus-a-copy\n",
            "  \n"
          ],
          "name": "stderr"
        },
        {
          "output_type": "execute_result",
          "data": {
            "text/html": [
              "<div>\n",
              "<style scoped>\n",
              "    .dataframe tbody tr th:only-of-type {\n",
              "        vertical-align: middle;\n",
              "    }\n",
              "\n",
              "    .dataframe tbody tr th {\n",
              "        vertical-align: top;\n",
              "    }\n",
              "\n",
              "    .dataframe thead th {\n",
              "        text-align: right;\n",
              "    }\n",
              "</style>\n",
              "<table border=\"1\" class=\"dataframe\">\n",
              "  <thead>\n",
              "    <tr style=\"text-align: right;\">\n",
              "      <th></th>\n",
              "      <th>dem</th>\n",
              "      <th>rep</th>\n",
              "      <th>createddate</th>\n",
              "    </tr>\n",
              "  </thead>\n",
              "  <tbody>\n",
              "    <tr>\n",
              "      <th>0</th>\n",
              "      <td>47.0</td>\n",
              "      <td>41.0</td>\n",
              "      <td>2020-05-29</td>\n",
              "    </tr>\n",
              "    <tr>\n",
              "      <th>1</th>\n",
              "      <td>48.0</td>\n",
              "      <td>41.0</td>\n",
              "      <td>2020-05-29</td>\n",
              "    </tr>\n",
              "    <tr>\n",
              "      <th>2</th>\n",
              "      <td>45.0</td>\n",
              "      <td>35.0</td>\n",
              "      <td>2019-01-03</td>\n",
              "    </tr>\n",
              "    <tr>\n",
              "      <th>3</th>\n",
              "      <td>44.0</td>\n",
              "      <td>35.0</td>\n",
              "      <td>2019-01-04</td>\n",
              "    </tr>\n",
              "    <tr>\n",
              "      <th>4</th>\n",
              "      <td>43.0</td>\n",
              "      <td>36.0</td>\n",
              "      <td>2019-01-05</td>\n",
              "    </tr>\n",
              "  </tbody>\n",
              "</table>\n",
              "</div>"
            ],
            "text/plain": [
              "    dem   rep createddate\n",
              "0  47.0  41.0  2020-05-29\n",
              "1  48.0  41.0  2020-05-29\n",
              "2  45.0  35.0  2019-01-03\n",
              "3  44.0  35.0  2019-01-04\n",
              "4  43.0  36.0  2019-01-05"
            ]
          },
          "metadata": {
            "tags": []
          },
          "execution_count": 246
        }
      ]
    },
    {
      "cell_type": "code",
      "metadata": {
        "id": "iiA3WrUWfjWM",
        "colab_type": "code",
        "colab": {
          "base_uri": "https://localhost:8080/",
          "height": 191
        },
        "outputId": "204d9c8d-e7a1-4338-b26e-9d59b840d2f7"
      },
      "source": [
        "generic_polllist_sub.info()"
      ],
      "execution_count": 247,
      "outputs": [
        {
          "output_type": "stream",
          "text": [
            "<class 'pandas.core.frame.DataFrame'>\n",
            "RangeIndex: 509 entries, 0 to 508\n",
            "Data columns (total 3 columns):\n",
            " #   Column       Non-Null Count  Dtype         \n",
            "---  ------       --------------  -----         \n",
            " 0   dem          509 non-null    float64       \n",
            " 1   rep          509 non-null    float64       \n",
            " 2   createddate  509 non-null    datetime64[ns]\n",
            "dtypes: datetime64[ns](1), float64(2)\n",
            "memory usage: 12.1 KB\n"
          ],
          "name": "stdout"
        }
      ]
    },
    {
      "cell_type": "code",
      "metadata": {
        "id": "M1w7S5wpPONL",
        "colab_type": "code",
        "colab": {
          "base_uri": "https://localhost:8080/",
          "height": 35
        },
        "outputId": "836f1755-3f88-4061-8b30-1e6ca12227b4"
      },
      "source": [
        "# remove dates that don't mater\n",
        "generic_polllist_sub = generic_polllist_sub[(generic_polllist_sub['createddate'] > '2019-04-01') & (generic_polllist_sub['createddate'] <= '2020-07-06')]\n",
        "generic_polllist_sub.shape"
      ],
      "execution_count": 248,
      "outputs": [
        {
          "output_type": "execute_result",
          "data": {
            "text/plain": [
              "(397, 3)"
            ]
          },
          "metadata": {
            "tags": []
          },
          "execution_count": 248
        }
      ]
    },
    {
      "cell_type": "code",
      "metadata": {
        "id": "1kM3ShK1gE_B",
        "colab_type": "code",
        "colab": {
          "base_uri": "https://localhost:8080/",
          "height": 52
        },
        "outputId": "a29de228-6102-441f-a5cc-89a4fb782e23"
      },
      "source": [
        "#checking work\n",
        "print(generic_polllist_sub['createddate'].min())\n",
        "print(generic_polllist_sub['createddate'].max())"
      ],
      "execution_count": 249,
      "outputs": [
        {
          "output_type": "stream",
          "text": [
            "2019-04-02 00:00:00\n",
            "2020-07-02 00:00:00\n"
          ],
          "name": "stdout"
        }
      ]
    },
    {
      "cell_type": "code",
      "metadata": {
        "id": "wb6Hm3d_qQGA",
        "colab_type": "code",
        "colab": {
          "base_uri": "https://localhost:8080/",
          "height": 202
        },
        "outputId": "c1d4e91f-435b-417c-bd2a-31f7bd9dbd55"
      },
      "source": [
        "#sorting by date\n",
        "generic_polllist_sub = generic_polllist_sub.sort_values(by='createddate', ascending=True)\n",
        "generic_polllist_sub.head()"
      ],
      "execution_count": 255,
      "outputs": [
        {
          "output_type": "execute_result",
          "data": {
            "text/html": [
              "<div>\n",
              "<style scoped>\n",
              "    .dataframe tbody tr th:only-of-type {\n",
              "        vertical-align: middle;\n",
              "    }\n",
              "\n",
              "    .dataframe tbody tr th {\n",
              "        vertical-align: top;\n",
              "    }\n",
              "\n",
              "    .dataframe thead th {\n",
              "        text-align: right;\n",
              "    }\n",
              "</style>\n",
              "<table border=\"1\" class=\"dataframe\">\n",
              "  <thead>\n",
              "    <tr style=\"text-align: right;\">\n",
              "      <th></th>\n",
              "      <th>dem</th>\n",
              "      <th>rep</th>\n",
              "      <th>createddate</th>\n",
              "    </tr>\n",
              "  </thead>\n",
              "  <tbody>\n",
              "    <tr>\n",
              "      <th>114</th>\n",
              "      <td>43.0</td>\n",
              "      <td>37.0</td>\n",
              "      <td>2019-04-02</td>\n",
              "    </tr>\n",
              "    <tr>\n",
              "      <th>115</th>\n",
              "      <td>43.0</td>\n",
              "      <td>37.0</td>\n",
              "      <td>2019-04-02</td>\n",
              "    </tr>\n",
              "    <tr>\n",
              "      <th>116</th>\n",
              "      <td>42.0</td>\n",
              "      <td>40.0</td>\n",
              "      <td>2019-04-02</td>\n",
              "    </tr>\n",
              "    <tr>\n",
              "      <th>118</th>\n",
              "      <td>43.0</td>\n",
              "      <td>36.0</td>\n",
              "      <td>2019-04-03</td>\n",
              "    </tr>\n",
              "    <tr>\n",
              "      <th>119</th>\n",
              "      <td>41.0</td>\n",
              "      <td>36.0</td>\n",
              "      <td>2019-04-04</td>\n",
              "    </tr>\n",
              "  </tbody>\n",
              "</table>\n",
              "</div>"
            ],
            "text/plain": [
              "      dem   rep createddate\n",
              "114  43.0  37.0  2019-04-02\n",
              "115  43.0  37.0  2019-04-02\n",
              "116  42.0  40.0  2019-04-02\n",
              "118  43.0  36.0  2019-04-03\n",
              "119  41.0  36.0  2019-04-04"
            ]
          },
          "metadata": {
            "tags": []
          },
          "execution_count": 255
        }
      ]
    },
    {
      "cell_type": "code",
      "metadata": {
        "id": "YYwG_TfBtU8F",
        "colab_type": "code",
        "colab": {
          "base_uri": "https://localhost:8080/",
          "height": 52
        },
        "outputId": "4e750138-5b98-4024-b525-d062a272ba4d"
      },
      "source": [
        "print(generic_polllist_sub['dem'].min())\n",
        "print(generic_polllist_sub['dem'].max())"
      ],
      "execution_count": 258,
      "outputs": [
        {
          "output_type": "stream",
          "text": [
            "40.0\n",
            "53.0\n"
          ],
          "name": "stdout"
        }
      ]
    },
    {
      "cell_type": "code",
      "metadata": {
        "id": "uFDAKbxE2nGj",
        "colab_type": "code",
        "colab": {
          "base_uri": "https://localhost:8080/",
          "height": 449
        },
        "outputId": "4012a7d4-9049-4d50-a8c6-e1464607a7e5"
      },
      "source": [
        "plt.style.use('fivethirtyeight')\n",
        "fig, ax = plt.subplots()\n",
        "\n",
        "#Axes styles\n",
        "ax.plot(generic_polllist_sub['createddate'], generic_polllist_sub['dem'], linewidth=1)\n",
        "ax.plot(generic_polllist_sub['createddate'], generic_polllist_sub['rep'], linewidth=1)\n",
        "\n",
        "#ax.set_yticklabels([20,30,40,50,'60%'], fontsize=8, color='#8f8f8f')\n",
        "\n",
        "plt.show()"
      ],
      "execution_count": 262,
      "outputs": [
        {
          "output_type": "display_data",
          "data": {
            "image/png": "[encoded data removed]",
            "text/plain": [
              "<Figure size 640x480 with 1 Axes>"
            ]
          },
          "metadata": {
            "tags": []
          }
        }
      ]
    },
    {
      "cell_type": "code",
      "metadata": {
        "id": "QAbb5QmGzj7T",
        "colab_type": "code",
        "colab": {
          "base_uri": "https://localhost:8080/",
          "height": 306
        },
        "outputId": "f9b02e4b-da2b-4c2a-db36-5187893d2179"
      },
      "source": [
        "import matplotlib.pyplot as plt\n",
        "import numpy as np\n",
        "import pandas as pd\n",
        "#reading in generic topline\n",
        "congress_terms = pd.read_csv('/content/congress-terms.csv')\n",
        "\n",
        "print(congress_terms.shape)\n",
        "congress_terms.head()"
      ],
      "execution_count": 17,
      "outputs": [
        {
          "output_type": "stream",
          "text": [
            "(18635, 13)\n"
          ],
          "name": "stdout"
        },
        {
          "output_type": "execute_result",
          "data": {
            "text/html": [
              "<div>\n",
              "<style scoped>\n",
              "    .dataframe tbody tr th:only-of-type {\n",
              "        vertical-align: middle;\n",
              "    }\n",
              "\n",
              "    .dataframe tbody tr th {\n",
              "        vertical-align: top;\n",
              "    }\n",
              "\n",
              "    .dataframe thead th {\n",
              "        text-align: right;\n",
              "    }\n",
              "</style>\n",
              "<table border=\"1\" class=\"dataframe\">\n",
              "  <thead>\n",
              "    <tr style=\"text-align: right;\">\n",
              "      <th></th>\n",
              "      <th>congress</th>\n",
              "      <th>chamber</th>\n",
              "      <th>bioguide</th>\n",
              "      <th>firstname</th>\n",
              "      <th>middlename</th>\n",
              "      <th>lastname</th>\n",
              "      <th>suffix</th>\n",
              "      <th>birthday</th>\n",
              "      <th>state</th>\n",
              "      <th>party</th>\n",
              "      <th>incumbent</th>\n",
              "      <th>termstart</th>\n",
              "      <th>age</th>\n",
              "    </tr>\n",
              "  </thead>\n",
              "  <tbody>\n",
              "    <tr>\n",
              "      <th>0</th>\n",
              "      <td>80</td>\n",
              "      <td>house</td>\n",
              "      <td>M000112</td>\n",
              "      <td>Joseph</td>\n",
              "      <td>Jefferson</td>\n",
              "      <td>Mansfield</td>\n",
              "      <td>NaN</td>\n",
              "      <td>1861-02-09</td>\n",
              "      <td>TX</td>\n",
              "      <td>D</td>\n",
              "      <td>Yes</td>\n",
              "      <td>1947-01-03</td>\n",
              "      <td>85.9</td>\n",
              "    </tr>\n",
              "    <tr>\n",
              "      <th>1</th>\n",
              "      <td>80</td>\n",
              "      <td>house</td>\n",
              "      <td>D000448</td>\n",
              "      <td>Robert</td>\n",
              "      <td>Lee</td>\n",
              "      <td>Doughton</td>\n",
              "      <td>NaN</td>\n",
              "      <td>1863-11-07</td>\n",
              "      <td>NC</td>\n",
              "      <td>D</td>\n",
              "      <td>Yes</td>\n",
              "      <td>1947-01-03</td>\n",
              "      <td>83.2</td>\n",
              "    </tr>\n",
              "    <tr>\n",
              "      <th>2</th>\n",
              "      <td>80</td>\n",
              "      <td>house</td>\n",
              "      <td>S000001</td>\n",
              "      <td>Adolph</td>\n",
              "      <td>Joachim</td>\n",
              "      <td>Sabath</td>\n",
              "      <td>NaN</td>\n",
              "      <td>1866-04-04</td>\n",
              "      <td>IL</td>\n",
              "      <td>D</td>\n",
              "      <td>Yes</td>\n",
              "      <td>1947-01-03</td>\n",
              "      <td>80.7</td>\n",
              "    </tr>\n",
              "    <tr>\n",
              "      <th>3</th>\n",
              "      <td>80</td>\n",
              "      <td>house</td>\n",
              "      <td>E000023</td>\n",
              "      <td>Charles</td>\n",
              "      <td>Aubrey</td>\n",
              "      <td>Eaton</td>\n",
              "      <td>NaN</td>\n",
              "      <td>1868-03-29</td>\n",
              "      <td>NJ</td>\n",
              "      <td>R</td>\n",
              "      <td>Yes</td>\n",
              "      <td>1947-01-03</td>\n",
              "      <td>78.8</td>\n",
              "    </tr>\n",
              "    <tr>\n",
              "      <th>4</th>\n",
              "      <td>80</td>\n",
              "      <td>house</td>\n",
              "      <td>L000296</td>\n",
              "      <td>William</td>\n",
              "      <td>NaN</td>\n",
              "      <td>Lewis</td>\n",
              "      <td>NaN</td>\n",
              "      <td>1868-09-22</td>\n",
              "      <td>KY</td>\n",
              "      <td>R</td>\n",
              "      <td>No</td>\n",
              "      <td>1947-01-03</td>\n",
              "      <td>78.3</td>\n",
              "    </tr>\n",
              "  </tbody>\n",
              "</table>\n",
              "</div>"
            ],
            "text/plain": [
              "   congress chamber bioguide firstname  ... party incumbent   termstart   age\n",
              "0        80   house  M000112    Joseph  ...     D       Yes  1947-01-03  85.9\n",
              "1        80   house  D000448    Robert  ...     D       Yes  1947-01-03  83.2\n",
              "2        80   house  S000001    Adolph  ...     D       Yes  1947-01-03  80.7\n",
              "3        80   house  E000023   Charles  ...     R       Yes  1947-01-03  78.8\n",
              "4        80   house  L000296   William  ...     R        No  1947-01-03  78.3\n",
              "\n",
              "[5 rows x 13 columns]"
            ]
          },
          "metadata": {
            "tags": []
          },
          "execution_count": 17
        }
      ]
    },
    {
      "cell_type": "code",
      "metadata": {
        "id": "qhTP_PED0tnH",
        "colab_type": "code",
        "colab": {
          "base_uri": "https://localhost:8080/",
          "height": 289
        },
        "outputId": "1cb34f48-4966-4f77-a2c2-ea663322a60a"
      },
      "source": [
        "#turning timestamp to datetime objects and only having years\n",
        "congress_terms['termstart'] = pd.to_datetime(congress_terms['termstart'] , infer_datetime_format=True).dt.year\n",
        "\n",
        "congress_terms.head()"
      ],
      "execution_count": 18,
      "outputs": [
        {
          "output_type": "execute_result",
          "data": {
            "text/html": [
              "<div>\n",
              "<style scoped>\n",
              "    .dataframe tbody tr th:only-of-type {\n",
              "        vertical-align: middle;\n",
              "    }\n",
              "\n",
              "    .dataframe tbody tr th {\n",
              "        vertical-align: top;\n",
              "    }\n",
              "\n",
              "    .dataframe thead th {\n",
              "        text-align: right;\n",
              "    }\n",
              "</style>\n",
              "<table border=\"1\" class=\"dataframe\">\n",
              "  <thead>\n",
              "    <tr style=\"text-align: right;\">\n",
              "      <th></th>\n",
              "      <th>congress</th>\n",
              "      <th>chamber</th>\n",
              "      <th>bioguide</th>\n",
              "      <th>firstname</th>\n",
              "      <th>middlename</th>\n",
              "      <th>lastname</th>\n",
              "      <th>suffix</th>\n",
              "      <th>birthday</th>\n",
              "      <th>state</th>\n",
              "      <th>party</th>\n",
              "      <th>incumbent</th>\n",
              "      <th>termstart</th>\n",
              "      <th>age</th>\n",
              "    </tr>\n",
              "  </thead>\n",
              "  <tbody>\n",
              "    <tr>\n",
              "      <th>0</th>\n",
              "      <td>80</td>\n",
              "      <td>house</td>\n",
              "      <td>M000112</td>\n",
              "      <td>Joseph</td>\n",
              "      <td>Jefferson</td>\n",
              "      <td>Mansfield</td>\n",
              "      <td>NaN</td>\n",
              "      <td>1861-02-09</td>\n",
              "      <td>TX</td>\n",
              "      <td>D</td>\n",
              "      <td>Yes</td>\n",
              "      <td>1947</td>\n",
              "      <td>85.9</td>\n",
              "    </tr>\n",
              "    <tr>\n",
              "      <th>1</th>\n",
              "      <td>80</td>\n",
              "      <td>house</td>\n",
              "      <td>D000448</td>\n",
              "      <td>Robert</td>\n",
              "      <td>Lee</td>\n",
              "      <td>Doughton</td>\n",
              "      <td>NaN</td>\n",
              "      <td>1863-11-07</td>\n",
              "      <td>NC</td>\n",
              "      <td>D</td>\n",
              "      <td>Yes</td>\n",
              "      <td>1947</td>\n",
              "      <td>83.2</td>\n",
              "    </tr>\n",
              "    <tr>\n",
              "      <th>2</th>\n",
              "      <td>80</td>\n",
              "      <td>house</td>\n",
              "      <td>S000001</td>\n",
              "      <td>Adolph</td>\n",
              "      <td>Joachim</td>\n",
              "      <td>Sabath</td>\n",
              "      <td>NaN</td>\n",
              "      <td>1866-04-04</td>\n",
              "      <td>IL</td>\n",
              "      <td>D</td>\n",
              "      <td>Yes</td>\n",
              "      <td>1947</td>\n",
              "      <td>80.7</td>\n",
              "    </tr>\n",
              "    <tr>\n",
              "      <th>3</th>\n",
              "      <td>80</td>\n",
              "      <td>house</td>\n",
              "      <td>E000023</td>\n",
              "      <td>Charles</td>\n",
              "      <td>Aubrey</td>\n",
              "      <td>Eaton</td>\n",
              "      <td>NaN</td>\n",
              "      <td>1868-03-29</td>\n",
              "      <td>NJ</td>\n",
              "      <td>R</td>\n",
              "      <td>Yes</td>\n",
              "      <td>1947</td>\n",
              "      <td>78.8</td>\n",
              "    </tr>\n",
              "    <tr>\n",
              "      <th>4</th>\n",
              "      <td>80</td>\n",
              "      <td>house</td>\n",
              "      <td>L000296</td>\n",
              "      <td>William</td>\n",
              "      <td>NaN</td>\n",
              "      <td>Lewis</td>\n",
              "      <td>NaN</td>\n",
              "      <td>1868-09-22</td>\n",
              "      <td>KY</td>\n",
              "      <td>R</td>\n",
              "      <td>No</td>\n",
              "      <td>1947</td>\n",
              "      <td>78.3</td>\n",
              "    </tr>\n",
              "  </tbody>\n",
              "</table>\n",
              "</div>"
            ],
            "text/plain": [
              "   congress chamber bioguide firstname  ... party incumbent termstart   age\n",
              "0        80   house  M000112    Joseph  ...     D       Yes      1947  85.9\n",
              "1        80   house  D000448    Robert  ...     D       Yes      1947  83.2\n",
              "2        80   house  S000001    Adolph  ...     D       Yes      1947  80.7\n",
              "3        80   house  E000023   Charles  ...     R       Yes      1947  78.8\n",
              "4        80   house  L000296   William  ...     R        No      1947  78.3\n",
              "\n",
              "[5 rows x 13 columns]"
            ]
          },
          "metadata": {
            "tags": []
          },
          "execution_count": 18
        }
      ]
    },
    {
      "cell_type": "code",
      "metadata": {
        "id": "yWx3qTxU1NIr",
        "colab_type": "code",
        "colab": {
          "base_uri": "https://localhost:8080/",
          "height": 260
        },
        "outputId": "f8ca0f66-5bbc-45a2-b73e-cc5f741c9c66"
      },
      "source": [
        "#subseting congress_terms\n",
        "congress_terms_sub = congress_terms[['party', 'termstart', 'age']]\n",
        "congress_terms_sub.tail"
      ],
      "execution_count": 19,
      "outputs": [
        {
          "output_type": "execute_result",
          "data": {
            "text/plain": [
              "<bound method NDFrame.tail of       party  termstart   age\n",
              "0         D       1947  85.9\n",
              "1         D       1947  83.2\n",
              "2         D       1947  80.7\n",
              "3         R       1947  78.8\n",
              "4         R       1947  78.3\n",
              "...     ...        ...   ...\n",
              "18630     D       2013  75.1\n",
              "18631     D       2013  47.8\n",
              "18632     R       2013  51.5\n",
              "18633     D       2013  73.1\n",
              "18634     D       2013  93.0\n",
              "\n",
              "[18635 rows x 3 columns]>"
            ]
          },
          "metadata": {
            "tags": []
          },
          "execution_count": 19
        }
      ]
    },
    {
      "cell_type": "code",
      "metadata": {
        "id": "TgpZlsYj3fH6",
        "colab_type": "code",
        "colab": {
          "base_uri": "https://localhost:8080/",
          "height": 35
        },
        "outputId": "92b9ec76-e488-48f7-d0eb-aa79a611d5f1"
      },
      "source": [
        "congress_terms_sub.shape"
      ],
      "execution_count": 20,
      "outputs": [
        {
          "output_type": "execute_result",
          "data": {
            "text/plain": [
              "(18635, 3)"
            ]
          },
          "metadata": {
            "tags": []
          },
          "execution_count": 20
        }
      ]
    },
    {
      "cell_type": "code",
      "metadata": {
        "id": "3FKO13B4DDuh",
        "colab_type": "code",
        "colab": {
          "base_uri": "https://localhost:8080/",
          "height": 225
        },
        "outputId": "d31ee57f-a567-49af-8748-d9415e35b8eb"
      },
      "source": [
        "congress_terms_sub['termstart']"
      ],
      "execution_count": 22,
      "outputs": [
        {
          "output_type": "execute_result",
          "data": {
            "text/plain": [
              "0        1947\n",
              "1        1947\n",
              "2        1947\n",
              "3        1947\n",
              "4        1947\n",
              "         ... \n",
              "18630    2013\n",
              "18631    2013\n",
              "18632    2013\n",
              "18633    2013\n",
              "18634    2013\n",
              "Name: termstart, Length: 18635, dtype: int64"
            ]
          },
          "metadata": {
            "tags": []
          },
          "execution_count": 22
        }
      ]
    },
    {
      "cell_type": "code",
      "metadata": {
        "id": "RfTdHCbw10AC",
        "colab_type": "code",
        "colab": {}
      },
      "source": [
        "current_prez = []\n",
        "list_of_years = congress_terms_sub['termstart']\n",
        "def what_prez(years):\n",
        "  for year in years:\n",
        "    if year >= 1972 and year < 1974:\n",
        "      current_prez.append('Nixon')\n",
        "    elif year >= 1974 and year < 1977:\n",
        "      current_prez.append('Ford')\n",
        "    elif year >= 1977 and year < 1981:\n",
        "      current_prez.append('Carter')\n",
        "    elif year >= 1981 and year < 1989:\n",
        "      current_prez.append('Reagan')\n",
        "    elif year >= 1989 and year < 1993:\n",
        "      current_prez.append('Bush')\n",
        "    elif year >= 1993 and year < 2001:\n",
        "      current_prez.append('Clinton')\n",
        "    elif year >= 2001 and year < 2009: \n",
        "      current_prez.append('bush_jr')\n",
        "    elif year >= 2009 and year < 2017:\n",
        "      current_prez.append('Obama')\n",
        "    else:\n",
        "      current_prez.append('NaN')\n",
        "  return\n",
        "  \n",
        "what_prez(list_of_years)"
      ],
      "execution_count": 24,
      "outputs": []
    },
    {
      "cell_type": "code",
      "metadata": {
        "id": "jyxfmMwYGB4H",
        "colab_type": "code",
        "colab": {
          "base_uri": "https://localhost:8080/",
          "height": 141
        },
        "outputId": "922f6ca4-60e2-47bc-c453-a73bde2f0405"
      },
      "source": [
        "congress_terms_sub['prez'] = current_prez"
      ],
      "execution_count": 25,
      "outputs": [
        {
          "output_type": "stream",
          "text": [
            "/usr/local/lib/python3.6/dist-packages/ipykernel_launcher.py:1: SettingWithCopyWarning: \n",
            "A value is trying to be set on a copy of a slice from a DataFrame.\n",
            "Try using .loc[row_indexer,col_indexer] = value instead\n",
            "\n",
            "See the caveats in the documentation: https://pandas.pydata.org/pandas-docs/stable/user_guide/indexing.html#returning-a-view-versus-a-copy\n",
            "  \"\"\"Entry point for launching an IPython kernel.\n"
          ],
          "name": "stderr"
        }
      ]
    },
    {
      "cell_type": "code",
      "metadata": {
        "id": "tUh0mLr8-aDV",
        "colab_type": "code",
        "colab": {}
      },
      "source": [
        "congress_terms_sub = congress_terms_sub[congress_terms_sub.prez != 'NaN']"
      ],
      "execution_count": 26,
      "outputs": []
    },
    {
      "cell_type": "code",
      "metadata": {
        "id": "q628fudCOR40",
        "colab_type": "code",
        "colab": {
          "base_uri": "https://localhost:8080/",
          "height": 202
        },
        "outputId": "af4e863e-88a3-4f39-d40d-c37708f1df24"
      },
      "source": [
        "congress_terms_sub.head()"
      ],
      "execution_count": 27,
      "outputs": [
        {
          "output_type": "execute_result",
          "data": {
            "text/html": [
              "<div>\n",
              "<style scoped>\n",
              "    .dataframe tbody tr th:only-of-type {\n",
              "        vertical-align: middle;\n",
              "    }\n",
              "\n",
              "    .dataframe tbody tr th {\n",
              "        vertical-align: top;\n",
              "    }\n",
              "\n",
              "    .dataframe thead th {\n",
              "        text-align: right;\n",
              "    }\n",
              "</style>\n",
              "<table border=\"1\" class=\"dataframe\">\n",
              "  <thead>\n",
              "    <tr style=\"text-align: right;\">\n",
              "      <th></th>\n",
              "      <th>party</th>\n",
              "      <th>termstart</th>\n",
              "      <th>age</th>\n",
              "      <th>prez</th>\n",
              "    </tr>\n",
              "  </thead>\n",
              "  <tbody>\n",
              "    <tr>\n",
              "      <th>7173</th>\n",
              "      <td>D</td>\n",
              "      <td>1973</td>\n",
              "      <td>80.9</td>\n",
              "      <td>Nixon</td>\n",
              "    </tr>\n",
              "    <tr>\n",
              "      <th>7174</th>\n",
              "      <td>D</td>\n",
              "      <td>1973</td>\n",
              "      <td>79.4</td>\n",
              "      <td>Nixon</td>\n",
              "    </tr>\n",
              "    <tr>\n",
              "      <th>7175</th>\n",
              "      <td>R</td>\n",
              "      <td>1973</td>\n",
              "      <td>77.3</td>\n",
              "      <td>Nixon</td>\n",
              "    </tr>\n",
              "    <tr>\n",
              "      <th>7176</th>\n",
              "      <td>D</td>\n",
              "      <td>1973</td>\n",
              "      <td>76.9</td>\n",
              "      <td>Nixon</td>\n",
              "    </tr>\n",
              "    <tr>\n",
              "      <th>7177</th>\n",
              "      <td>D</td>\n",
              "      <td>1973</td>\n",
              "      <td>76.4</td>\n",
              "      <td>Nixon</td>\n",
              "    </tr>\n",
              "  </tbody>\n",
              "</table>\n",
              "</div>"
            ],
            "text/plain": [
              "     party  termstart   age   prez\n",
              "7173     D       1973  80.9  Nixon\n",
              "7174     D       1973  79.4  Nixon\n",
              "7175     R       1973  77.3  Nixon\n",
              "7176     D       1973  76.9  Nixon\n",
              "7177     D       1973  76.4  Nixon"
            ]
          },
          "metadata": {
            "tags": []
          },
          "execution_count": 27
        }
      ]
    },
    {
      "cell_type": "code",
      "metadata": {
        "id": "rqA1rHjhxcN9",
        "colab_type": "code",
        "colab": {
          "base_uri": "https://localhost:8080/",
          "height": 202
        },
        "outputId": "5486e1f5-7825-4c8a-d00a-409d0f243a92"
      },
      "source": [
        "congress_d = congress_terms_sub[congress_terms_sub.party != 'R']\n",
        "congress_d = congress_d[congress_d.party != 'I']\n",
        "congress_d = congress_d[congress_d.party != 'ID']\n",
        "congress_d.head()"
      ],
      "execution_count": 28,
      "outputs": [
        {
          "output_type": "execute_result",
          "data": {
            "text/html": [
              "<div>\n",
              "<style scoped>\n",
              "    .dataframe tbody tr th:only-of-type {\n",
              "        vertical-align: middle;\n",
              "    }\n",
              "\n",
              "    .dataframe tbody tr th {\n",
              "        vertical-align: top;\n",
              "    }\n",
              "\n",
              "    .dataframe thead th {\n",
              "        text-align: right;\n",
              "    }\n",
              "</style>\n",
              "<table border=\"1\" class=\"dataframe\">\n",
              "  <thead>\n",
              "    <tr style=\"text-align: right;\">\n",
              "      <th></th>\n",
              "      <th>party</th>\n",
              "      <th>termstart</th>\n",
              "      <th>age</th>\n",
              "      <th>prez</th>\n",
              "    </tr>\n",
              "  </thead>\n",
              "  <tbody>\n",
              "    <tr>\n",
              "      <th>7173</th>\n",
              "      <td>D</td>\n",
              "      <td>1973</td>\n",
              "      <td>80.9</td>\n",
              "      <td>Nixon</td>\n",
              "    </tr>\n",
              "    <tr>\n",
              "      <th>7174</th>\n",
              "      <td>D</td>\n",
              "      <td>1973</td>\n",
              "      <td>79.4</td>\n",
              "      <td>Nixon</td>\n",
              "    </tr>\n",
              "    <tr>\n",
              "      <th>7176</th>\n",
              "      <td>D</td>\n",
              "      <td>1973</td>\n",
              "      <td>76.9</td>\n",
              "      <td>Nixon</td>\n",
              "    </tr>\n",
              "    <tr>\n",
              "      <th>7177</th>\n",
              "      <td>D</td>\n",
              "      <td>1973</td>\n",
              "      <td>76.4</td>\n",
              "      <td>Nixon</td>\n",
              "    </tr>\n",
              "    <tr>\n",
              "      <th>7179</th>\n",
              "      <td>D</td>\n",
              "      <td>1973</td>\n",
              "      <td>74.4</td>\n",
              "      <td>Nixon</td>\n",
              "    </tr>\n",
              "  </tbody>\n",
              "</table>\n",
              "</div>"
            ],
            "text/plain": [
              "     party  termstart   age   prez\n",
              "7173     D       1973  80.9  Nixon\n",
              "7174     D       1973  79.4  Nixon\n",
              "7176     D       1973  76.9  Nixon\n",
              "7177     D       1973  76.4  Nixon\n",
              "7179     D       1973  74.4  Nixon"
            ]
          },
          "metadata": {
            "tags": []
          },
          "execution_count": 28
        }
      ]
    },
    {
      "cell_type": "code",
      "metadata": {
        "id": "5fKS1ss01Sgj",
        "colab_type": "code",
        "colab": {
          "base_uri": "https://localhost:8080/",
          "height": 35
        },
        "outputId": "afc4f07e-c625-4194-a666-19019815a2f8"
      },
      "source": [
        "congress_d['party'].unique()"
      ],
      "execution_count": 29,
      "outputs": [
        {
          "output_type": "execute_result",
          "data": {
            "text/plain": [
              "array(['D'], dtype=object)"
            ]
          },
          "metadata": {
            "tags": []
          },
          "execution_count": 29
        }
      ]
    },
    {
      "cell_type": "code",
      "metadata": {
        "id": "XEYSxIdIzqRc",
        "colab_type": "code",
        "colab": {
          "base_uri": "https://localhost:8080/",
          "height": 263
        },
        "outputId": "47ceb62e-59e4-4893-c717-acf852fa1273"
      },
      "source": [
        "congress_d_pivot = congress_d.pivot_table(index='termstart', columns=['prez', 'party'], values='age')\n",
        "congress_d_pivot.head()"
      ],
      "execution_count": 30,
      "outputs": [
        {
          "output_type": "execute_result",
          "data": {
            "text/html": [
              "<div>\n",
              "<style scoped>\n",
              "    .dataframe tbody tr th:only-of-type {\n",
              "        vertical-align: middle;\n",
              "    }\n",
              "\n",
              "    .dataframe tbody tr th {\n",
              "        vertical-align: top;\n",
              "    }\n",
              "\n",
              "    .dataframe thead tr th {\n",
              "        text-align: left;\n",
              "    }\n",
              "\n",
              "    .dataframe thead tr:last-of-type th {\n",
              "        text-align: right;\n",
              "    }\n",
              "</style>\n",
              "<table border=\"1\" class=\"dataframe\">\n",
              "  <thead>\n",
              "    <tr>\n",
              "      <th>prez</th>\n",
              "      <th>Bush</th>\n",
              "      <th>Carter</th>\n",
              "      <th>Clinton</th>\n",
              "      <th>Ford</th>\n",
              "      <th>Nixon</th>\n",
              "      <th>Obama</th>\n",
              "      <th>Reagan</th>\n",
              "      <th>bush_jr</th>\n",
              "    </tr>\n",
              "    <tr>\n",
              "      <th>party</th>\n",
              "      <th>D</th>\n",
              "      <th>D</th>\n",
              "      <th>D</th>\n",
              "      <th>D</th>\n",
              "      <th>D</th>\n",
              "      <th>D</th>\n",
              "      <th>D</th>\n",
              "      <th>D</th>\n",
              "    </tr>\n",
              "    <tr>\n",
              "      <th>termstart</th>\n",
              "      <th></th>\n",
              "      <th></th>\n",
              "      <th></th>\n",
              "      <th></th>\n",
              "      <th></th>\n",
              "      <th></th>\n",
              "      <th></th>\n",
              "      <th></th>\n",
              "    </tr>\n",
              "  </thead>\n",
              "  <tbody>\n",
              "    <tr>\n",
              "      <th>1973</th>\n",
              "      <td>NaN</td>\n",
              "      <td>NaN</td>\n",
              "      <td>NaN</td>\n",
              "      <td>NaN</td>\n",
              "      <td>53.267974</td>\n",
              "      <td>NaN</td>\n",
              "      <td>NaN</td>\n",
              "      <td>NaN</td>\n",
              "    </tr>\n",
              "    <tr>\n",
              "      <th>1975</th>\n",
              "      <td>NaN</td>\n",
              "      <td>NaN</td>\n",
              "      <td>NaN</td>\n",
              "      <td>51.57479</td>\n",
              "      <td>NaN</td>\n",
              "      <td>NaN</td>\n",
              "      <td>NaN</td>\n",
              "      <td>NaN</td>\n",
              "    </tr>\n",
              "    <tr>\n",
              "      <th>1977</th>\n",
              "      <td>NaN</td>\n",
              "      <td>50.649721</td>\n",
              "      <td>NaN</td>\n",
              "      <td>NaN</td>\n",
              "      <td>NaN</td>\n",
              "      <td>NaN</td>\n",
              "      <td>NaN</td>\n",
              "      <td>NaN</td>\n",
              "    </tr>\n",
              "    <tr>\n",
              "      <th>1979</th>\n",
              "      <td>NaN</td>\n",
              "      <td>50.342773</td>\n",
              "      <td>NaN</td>\n",
              "      <td>NaN</td>\n",
              "      <td>NaN</td>\n",
              "      <td>NaN</td>\n",
              "      <td>NaN</td>\n",
              "      <td>NaN</td>\n",
              "    </tr>\n",
              "    <tr>\n",
              "      <th>1981</th>\n",
              "      <td>NaN</td>\n",
              "      <td>NaN</td>\n",
              "      <td>NaN</td>\n",
              "      <td>NaN</td>\n",
              "      <td>NaN</td>\n",
              "      <td>NaN</td>\n",
              "      <td>50.471918</td>\n",
              "      <td>NaN</td>\n",
              "    </tr>\n",
              "  </tbody>\n",
              "</table>\n",
              "</div>"
            ],
            "text/plain": [
              "prez      Bush     Carter Clinton      Ford      Nixon Obama     Reagan bush_jr\n",
              "party        D          D       D         D          D     D          D       D\n",
              "termstart                                                                      \n",
              "1973       NaN        NaN     NaN       NaN  53.267974   NaN        NaN     NaN\n",
              "1975       NaN        NaN     NaN  51.57479        NaN   NaN        NaN     NaN\n",
              "1977       NaN  50.649721     NaN       NaN        NaN   NaN        NaN     NaN\n",
              "1979       NaN  50.342773     NaN       NaN        NaN   NaN        NaN     NaN\n",
              "1981       NaN        NaN     NaN       NaN        NaN   NaN  50.471918     NaN"
            ]
          },
          "metadata": {
            "tags": []
          },
          "execution_count": 30
        }
      ]
    },
    {
      "cell_type": "code",
      "metadata": {
        "id": "7XEA8-dd0vW2",
        "colab_type": "code",
        "colab": {}
      },
      "source": [
        "congress_d_pivot_sub = [['Nixon', congress_d_pivot['Nixon'].mean()], ['Ford', congress_d_pivot['Ford'].mean()], \n",
        "           ['Carter', congress_d_pivot['Carter'].mean()], ['Reagan', congress_d_pivot['Reagan'].mean()], \n",
        "           ['Bush', congress_d_pivot['Bush'].mean()], ['Clinton', congress_d_pivot['Clinton'].mean()], \n",
        "           ['bush_jr', congress_d_pivot['bush_jr'].mean()], ['Obama', congress_d_pivot['Obama'].mean()]]\n",
        "\n",
        "final_d = pd.DataFrame(congress_d_pivot_sub, columns=['Prez', 'Ave_age'])"
      ],
      "execution_count": 31,
      "outputs": []
    },
    {
      "cell_type": "code",
      "metadata": {
        "id": "lpTsFUqJ5_6y",
        "colab_type": "code",
        "colab": {
          "base_uri": "https://localhost:8080/",
          "height": 202
        },
        "outputId": "25693eb5-dec0-48a8-be41-d49ed5b17a07"
      },
      "source": [
        "final_d.head()"
      ],
      "execution_count": 32,
      "outputs": [
        {
          "output_type": "execute_result",
          "data": {
            "text/html": [
              "<div>\n",
              "<style scoped>\n",
              "    .dataframe tbody tr th:only-of-type {\n",
              "        vertical-align: middle;\n",
              "    }\n",
              "\n",
              "    .dataframe tbody tr th {\n",
              "        vertical-align: top;\n",
              "    }\n",
              "\n",
              "    .dataframe thead th {\n",
              "        text-align: right;\n",
              "    }\n",
              "</style>\n",
              "<table border=\"1\" class=\"dataframe\">\n",
              "  <thead>\n",
              "    <tr style=\"text-align: right;\">\n",
              "      <th></th>\n",
              "      <th>Prez</th>\n",
              "      <th>Ave_age</th>\n",
              "    </tr>\n",
              "  </thead>\n",
              "  <tbody>\n",
              "    <tr>\n",
              "      <th>0</th>\n",
              "      <td>Nixon</td>\n",
              "      <td>party\n",
              "D    53.267974\n",
              "dtype: float64</td>\n",
              "    </tr>\n",
              "    <tr>\n",
              "      <th>1</th>\n",
              "      <td>Ford</td>\n",
              "      <td>party\n",
              "D    51.57479\n",
              "dtype: float64</td>\n",
              "    </tr>\n",
              "    <tr>\n",
              "      <th>2</th>\n",
              "      <td>Carter</td>\n",
              "      <td>party\n",
              "D    50.496247\n",
              "dtype: float64</td>\n",
              "    </tr>\n",
              "    <tr>\n",
              "      <th>3</th>\n",
              "      <td>Reagan</td>\n",
              "      <td>party\n",
              "D    51.132952\n",
              "dtype: float64</td>\n",
              "    </tr>\n",
              "    <tr>\n",
              "      <th>4</th>\n",
              "      <td>Bush</td>\n",
              "      <td>party\n",
              "D    53.272649\n",
              "dtype: float64</td>\n",
              "    </tr>\n",
              "  </tbody>\n",
              "</table>\n",
              "</div>"
            ],
            "text/plain": [
              "     Prez                              Ave_age\n",
              "0   Nixon  party\n",
              "D    53.267974\n",
              "dtype: float64\n",
              "1    Ford   party\n",
              "D    51.57479\n",
              "dtype: float64\n",
              "2  Carter  party\n",
              "D    50.496247\n",
              "dtype: float64\n",
              "3  Reagan  party\n",
              "D    51.132952\n",
              "dtype: float64\n",
              "4    Bush  party\n",
              "D    53.272649\n",
              "dtype: float64"
            ]
          },
          "metadata": {
            "tags": []
          },
          "execution_count": 32
        }
      ]
    },
    {
      "cell_type": "code",
      "metadata": {
        "id": "LXppLZYWyHea",
        "colab_type": "code",
        "colab": {
          "base_uri": "https://localhost:8080/",
          "height": 202
        },
        "outputId": "20ce82ce-cfb1-429a-c3ce-f70a211747bd"
      },
      "source": [
        "congress_r = congress_terms_sub[congress_terms_sub.party != 'D']\n",
        "congress_r = congress_r[congress_r.party != 'I']\n",
        "congress_r = congress_r[congress_r.party != 'ID']\n",
        "congress_r.head()"
      ],
      "execution_count": 33,
      "outputs": [
        {
          "output_type": "execute_result",
          "data": {
            "text/html": [
              "<div>\n",
              "<style scoped>\n",
              "    .dataframe tbody tr th:only-of-type {\n",
              "        vertical-align: middle;\n",
              "    }\n",
              "\n",
              "    .dataframe tbody tr th {\n",
              "        vertical-align: top;\n",
              "    }\n",
              "\n",
              "    .dataframe thead th {\n",
              "        text-align: right;\n",
              "    }\n",
              "</style>\n",
              "<table border=\"1\" class=\"dataframe\">\n",
              "  <thead>\n",
              "    <tr style=\"text-align: right;\">\n",
              "      <th></th>\n",
              "      <th>party</th>\n",
              "      <th>termstart</th>\n",
              "      <th>age</th>\n",
              "      <th>prez</th>\n",
              "    </tr>\n",
              "  </thead>\n",
              "  <tbody>\n",
              "    <tr>\n",
              "      <th>7175</th>\n",
              "      <td>R</td>\n",
              "      <td>1973</td>\n",
              "      <td>77.3</td>\n",
              "      <td>Nixon</td>\n",
              "    </tr>\n",
              "    <tr>\n",
              "      <th>7178</th>\n",
              "      <td>R</td>\n",
              "      <td>1973</td>\n",
              "      <td>76.3</td>\n",
              "      <td>Nixon</td>\n",
              "    </tr>\n",
              "    <tr>\n",
              "      <th>7181</th>\n",
              "      <td>R</td>\n",
              "      <td>1973</td>\n",
              "      <td>73.5</td>\n",
              "      <td>Nixon</td>\n",
              "    </tr>\n",
              "    <tr>\n",
              "      <th>7190</th>\n",
              "      <td>R</td>\n",
              "      <td>1973</td>\n",
              "      <td>69.5</td>\n",
              "      <td>Nixon</td>\n",
              "    </tr>\n",
              "    <tr>\n",
              "      <th>7196</th>\n",
              "      <td>R</td>\n",
              "      <td>1973</td>\n",
              "      <td>68.6</td>\n",
              "      <td>Nixon</td>\n",
              "    </tr>\n",
              "  </tbody>\n",
              "</table>\n",
              "</div>"
            ],
            "text/plain": [
              "     party  termstart   age   prez\n",
              "7175     R       1973  77.3  Nixon\n",
              "7178     R       1973  76.3  Nixon\n",
              "7181     R       1973  73.5  Nixon\n",
              "7190     R       1973  69.5  Nixon\n",
              "7196     R       1973  68.6  Nixon"
            ]
          },
          "metadata": {
            "tags": []
          },
          "execution_count": 33
        }
      ]
    },
    {
      "cell_type": "code",
      "metadata": {
        "id": "1R2dS-GGzmwx",
        "colab_type": "code",
        "colab": {
          "base_uri": "https://localhost:8080/",
          "height": 35
        },
        "outputId": "3e47e5cf-3926-4dad-db36-aff97038b3f4"
      },
      "source": [
        "congress_r['party'].unique()"
      ],
      "execution_count": 34,
      "outputs": [
        {
          "output_type": "execute_result",
          "data": {
            "text/plain": [
              "array(['R'], dtype=object)"
            ]
          },
          "metadata": {
            "tags": []
          },
          "execution_count": 34
        }
      ]
    },
    {
      "cell_type": "code",
      "metadata": {
        "id": "bU-jhVXo8Vz3",
        "colab_type": "code",
        "colab": {
          "base_uri": "https://localhost:8080/",
          "height": 263
        },
        "outputId": "29f9b7de-3f61-4002-f9cc-152f88bf1065"
      },
      "source": [
        "congress_r_pivot = congress_r.pivot_table(index='termstart', columns=['prez', 'party'], values='age')\n",
        "congress_r_pivot.head()"
      ],
      "execution_count": 35,
      "outputs": [
        {
          "output_type": "execute_result",
          "data": {
            "text/html": [
              "<div>\n",
              "<style scoped>\n",
              "    .dataframe tbody tr th:only-of-type {\n",
              "        vertical-align: middle;\n",
              "    }\n",
              "\n",
              "    .dataframe tbody tr th {\n",
              "        vertical-align: top;\n",
              "    }\n",
              "\n",
              "    .dataframe thead tr th {\n",
              "        text-align: left;\n",
              "    }\n",
              "\n",
              "    .dataframe thead tr:last-of-type th {\n",
              "        text-align: right;\n",
              "    }\n",
              "</style>\n",
              "<table border=\"1\" class=\"dataframe\">\n",
              "  <thead>\n",
              "    <tr>\n",
              "      <th>prez</th>\n",
              "      <th>Bush</th>\n",
              "      <th>Carter</th>\n",
              "      <th>Clinton</th>\n",
              "      <th>Ford</th>\n",
              "      <th>Nixon</th>\n",
              "      <th>Obama</th>\n",
              "      <th>Reagan</th>\n",
              "      <th>bush_jr</th>\n",
              "    </tr>\n",
              "    <tr>\n",
              "      <th>party</th>\n",
              "      <th>R</th>\n",
              "      <th>R</th>\n",
              "      <th>R</th>\n",
              "      <th>R</th>\n",
              "      <th>R</th>\n",
              "      <th>R</th>\n",
              "      <th>R</th>\n",
              "      <th>R</th>\n",
              "    </tr>\n",
              "    <tr>\n",
              "      <th>termstart</th>\n",
              "      <th></th>\n",
              "      <th></th>\n",
              "      <th></th>\n",
              "      <th></th>\n",
              "      <th></th>\n",
              "      <th></th>\n",
              "      <th></th>\n",
              "      <th></th>\n",
              "    </tr>\n",
              "  </thead>\n",
              "  <tbody>\n",
              "    <tr>\n",
              "      <th>1973</th>\n",
              "      <td>NaN</td>\n",
              "      <td>NaN</td>\n",
              "      <td>NaN</td>\n",
              "      <td>NaN</td>\n",
              "      <td>51.300417</td>\n",
              "      <td>NaN</td>\n",
              "      <td>NaN</td>\n",
              "      <td>NaN</td>\n",
              "    </tr>\n",
              "    <tr>\n",
              "      <th>1975</th>\n",
              "      <td>NaN</td>\n",
              "      <td>NaN</td>\n",
              "      <td>NaN</td>\n",
              "      <td>50.794709</td>\n",
              "      <td>NaN</td>\n",
              "      <td>NaN</td>\n",
              "      <td>NaN</td>\n",
              "      <td>NaN</td>\n",
              "    </tr>\n",
              "    <tr>\n",
              "      <th>1977</th>\n",
              "      <td>NaN</td>\n",
              "      <td>50.206283</td>\n",
              "      <td>NaN</td>\n",
              "      <td>NaN</td>\n",
              "      <td>NaN</td>\n",
              "      <td>NaN</td>\n",
              "      <td>NaN</td>\n",
              "      <td>NaN</td>\n",
              "    </tr>\n",
              "    <tr>\n",
              "      <th>1979</th>\n",
              "      <td>NaN</td>\n",
              "      <td>49.543350</td>\n",
              "      <td>NaN</td>\n",
              "      <td>NaN</td>\n",
              "      <td>NaN</td>\n",
              "      <td>NaN</td>\n",
              "      <td>NaN</td>\n",
              "      <td>NaN</td>\n",
              "    </tr>\n",
              "    <tr>\n",
              "      <th>1981</th>\n",
              "      <td>NaN</td>\n",
              "      <td>NaN</td>\n",
              "      <td>NaN</td>\n",
              "      <td>NaN</td>\n",
              "      <td>NaN</td>\n",
              "      <td>NaN</td>\n",
              "      <td>48.3104</td>\n",
              "      <td>NaN</td>\n",
              "    </tr>\n",
              "  </tbody>\n",
              "</table>\n",
              "</div>"
            ],
            "text/plain": [
              "prez      Bush     Carter Clinton       Ford      Nixon Obama   Reagan bush_jr\n",
              "party        R          R       R          R          R     R        R       R\n",
              "termstart                                                                     \n",
              "1973       NaN        NaN     NaN        NaN  51.300417   NaN      NaN     NaN\n",
              "1975       NaN        NaN     NaN  50.794709        NaN   NaN      NaN     NaN\n",
              "1977       NaN  50.206283     NaN        NaN        NaN   NaN      NaN     NaN\n",
              "1979       NaN  49.543350     NaN        NaN        NaN   NaN      NaN     NaN\n",
              "1981       NaN        NaN     NaN        NaN        NaN   NaN  48.3104     NaN"
            ]
          },
          "metadata": {
            "tags": []
          },
          "execution_count": 35
        }
      ]
    },
    {
      "cell_type": "code",
      "metadata": {
        "id": "o4WT3ghu8oIj",
        "colab_type": "code",
        "colab": {}
      },
      "source": [
        "congress_r_pivot_sub = [['Nixon', congress_r_pivot['Nixon'].mean()], ['Ford', congress_r_pivot['Ford'].mean()], \n",
        "           ['Carter', congress_r_pivot['Carter'].mean()], ['Reagan', congress_r_pivot['Reagan'].mean()], \n",
        "           ['Bush', congress_r_pivot['Bush'].mean()], ['Clinton', congress_r_pivot['Clinton'].mean()], \n",
        "           ['bush_jr', congress_r_pivot['bush_jr'].mean()], ['Obama', congress_r_pivot['Obama'].mean()]]\n",
        "\n",
        "final_r = pd.DataFrame(congress_r_pivot_sub, columns=['Prez', 'Ave_age'])"
      ],
      "execution_count": 36,
      "outputs": []
    },
    {
      "cell_type": "code",
      "metadata": {
        "id": "D2NLPtKh8-5y",
        "colab_type": "code",
        "colab": {
          "base_uri": "https://localhost:8080/",
          "height": 202
        },
        "outputId": "231134da-056e-439c-f819-de1e66d6204b"
      },
      "source": [
        "final_d.head()"
      ],
      "execution_count": 37,
      "outputs": [
        {
          "output_type": "execute_result",
          "data": {
            "text/html": [
              "<div>\n",
              "<style scoped>\n",
              "    .dataframe tbody tr th:only-of-type {\n",
              "        vertical-align: middle;\n",
              "    }\n",
              "\n",
              "    .dataframe tbody tr th {\n",
              "        vertical-align: top;\n",
              "    }\n",
              "\n",
              "    .dataframe thead th {\n",
              "        text-align: right;\n",
              "    }\n",
              "</style>\n",
              "<table border=\"1\" class=\"dataframe\">\n",
              "  <thead>\n",
              "    <tr style=\"text-align: right;\">\n",
              "      <th></th>\n",
              "      <th>Prez</th>\n",
              "      <th>Ave_age</th>\n",
              "    </tr>\n",
              "  </thead>\n",
              "  <tbody>\n",
              "    <tr>\n",
              "      <th>0</th>\n",
              "      <td>Nixon</td>\n",
              "      <td>party\n",
              "D    53.267974\n",
              "dtype: float64</td>\n",
              "    </tr>\n",
              "    <tr>\n",
              "      <th>1</th>\n",
              "      <td>Ford</td>\n",
              "      <td>party\n",
              "D    51.57479\n",
              "dtype: float64</td>\n",
              "    </tr>\n",
              "    <tr>\n",
              "      <th>2</th>\n",
              "      <td>Carter</td>\n",
              "      <td>party\n",
              "D    50.496247\n",
              "dtype: float64</td>\n",
              "    </tr>\n",
              "    <tr>\n",
              "      <th>3</th>\n",
              "      <td>Reagan</td>\n",
              "      <td>party\n",
              "D    51.132952\n",
              "dtype: float64</td>\n",
              "    </tr>\n",
              "    <tr>\n",
              "      <th>4</th>\n",
              "      <td>Bush</td>\n",
              "      <td>party\n",
              "D    53.272649\n",
              "dtype: float64</td>\n",
              "    </tr>\n",
              "  </tbody>\n",
              "</table>\n",
              "</div>"
            ],
            "text/plain": [
              "     Prez                              Ave_age\n",
              "0   Nixon  party\n",
              "D    53.267974\n",
              "dtype: float64\n",
              "1    Ford   party\n",
              "D    51.57479\n",
              "dtype: float64\n",
              "2  Carter  party\n",
              "D    50.496247\n",
              "dtype: float64\n",
              "3  Reagan  party\n",
              "D    51.132952\n",
              "dtype: float64\n",
              "4    Bush  party\n",
              "D    53.272649\n",
              "dtype: float64"
            ]
          },
          "metadata": {
            "tags": []
          },
          "execution_count": 37
        }
      ]
    },
    {
      "cell_type": "code",
      "metadata": {
        "id": "GZ-xJ4YFw0lw",
        "colab_type": "code",
        "colab": {
          "base_uri": "https://localhost:8080/",
          "height": 499
        },
        "outputId": "ecbc7714-1dec-45ee-cb8a-806b22ad728a"
      },
      "source": [
        "plt.style.use('fivethirtyeight')\n",
        "fig, ax = plt.subplots()\n",
        "\n",
        "ax.set_title(\"Average Age of 'Strong' Partisans\", fontsize=11, x=.2, y=1.1, fontweight='bold')\n",
        "ax.text(s='By Presidency, 1972-2012', x=-.95, y=62, fontsize=11)\n",
        "ax.text(s='Strong Republicans', x=1, y=48, fontsize=9, color='#FC2801', fontweight='bold')\n",
        "ax.text(s='Strong Democrats', x=3, y=55, fontsize=9, color='#068DCF', fontweight='bold')\n",
        "\n",
        "#Axes styles\n",
        "ax.plot(final_d['Prez'], final_d['Ave_age'], linewidth=2, color='#068DCF')\n",
        "ax.plot(final_r['Prez'], final_r['Ave_age'], linewidth=2, color='#FC2801')\n",
        "\n",
        "ax.set_ylim([40, 61])\n",
        "\n",
        "#ax.set_yticklabels([40,45,50,55,'60 yrs'], fontsize=8, color='#8f8f8f', fontweight='bold')\n",
        "ax.set_xticklabels(['Nixon','Ford','Carter','Reagan','Bush','Clinton','Bush','Obama'], fontsize=8, color='#8f8f8f', fontweight='bold')\n",
        "plt.show()"
      ],
      "execution_count": 39,
      "outputs": [
        {
          "output_type": "display_data",
          "data": {
            "image/png": "[encoded data removed]",
            "text/plain": [
              "<Figure size 640x480 with 1 Axes>"
            ]
          },
          "metadata": {
            "tags": []
          }
        }
      ]
    },
    {
      "cell_type": "markdown",
      "metadata": {
        "id": "WwxSm67dBKSK",
        "colab_type": "text"
      },
      "source": [
        "link of graph i was trying to duplicate\n",
        "https://fivethirtyeight.com/features/both-republicans-and-democrats-have-an-age-problem/"
      ]
    },
    {
      "cell_type": "markdown",
      "metadata": {
        "id": "0wSrBzmJyWaV",
        "colab_type": "text"
      },
      "source": [
        "# STRETCH OPTIONS\n",
        "\n",
        "### 1) Reproduce one of the following using the matplotlib or seaborn libraries:\n",
        "\n",
        "- [thanksgiving-2015](https://fivethirtyeight.com/features/heres-what-your-part-of-america-eats-on-thanksgiving/) \n",
        "- [candy-power-ranking](https://fivethirtyeight.com/features/the-ultimate-halloween-candy-power-ranking/) \n",
        "- or another example of your choice!\n",
        "\n",
        "### 2) Make more charts!\n",
        "\n",
        "Choose a chart you want to make, from [Visual Vocabulary - Vega Edition](http://ft.com/vocabulary).\n",
        "\n",
        "Find the chart in an example gallery of a Python data visualization library:\n",
        "- [Seaborn](http://seaborn.pydata.org/examples/index.html)\n",
        "- [Altair](https://altair-viz.github.io/gallery/index.html)\n",
        "- [Matplotlib](https://matplotlib.org/gallery.html)\n",
        "- [Pandas](https://pandas.pydata.org/pandas-docs/stable/visualization.html)\n",
        "\n",
        "Reproduce the chart. [Optionally, try the \"Ben Franklin Method.\"](https://docs.google.com/document/d/1ubOw9B3Hfip27hF2ZFnW3a3z9xAgrUDRReOEo-FHCVs/edit) If you want, experiment and make changes.\n",
        "\n",
        "Take notes. Consider sharing your work with your cohort!"
      ]
    },
    {
      "cell_type": "code",
      "metadata": {
        "id": "dRJkKftiy5BJ",
        "colab_type": "code",
        "colab": {}
      },
      "source": [
        "# More Work Here"
      ],
      "execution_count": null,
      "outputs": []
    }
  ]
}