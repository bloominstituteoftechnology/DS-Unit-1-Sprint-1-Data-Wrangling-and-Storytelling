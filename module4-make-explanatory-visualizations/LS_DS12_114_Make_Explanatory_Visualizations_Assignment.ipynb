{
  "nbformat": 4,
  "nbformat_minor": 0,
  "metadata": {
    "colab": {
      "name": "LS_DS12_114_Make_Explanatory_Visualizations_Assignment.ipynb",
      "provenance": [],
      "collapsed_sections": [],
      "include_colab_link": true
    },
    "language_info": {
      "codemirror_mode": {
        "name": "ipython",
        "version": 3
      },
      "file_extension": ".py",
      "mimetype": "text/x-python",
      "name": "python",
      "nbconvert_exporter": "python",
      "pygments_lexer": "ipython3",
      "version": "3.7.1"
    },
    "kernelspec": {
      "display_name": "Python 3",
      "language": "python",
      "name": "python3"
    }
  },
  "cells": [
    {
      "cell_type": "markdown",
      "metadata": {
        "id": "view-in-github",
        "colab_type": "text"
      },
      "source": [
        "<a href=\"https://colab.research.google.com/github/robertworkbuckley/DS-Unit-1-Sprint-1-Data-Wrangling-and-Storytelling/blob/master/module4-make-explanatory-visualizations/LS_DS12_114_Make_Explanatory_Visualizations_Assignment.ipynb\" target=\"_parent\"><img src=\"https://colab.research.google.com/assets/colab-badge.svg\" alt=\"Open In Colab\"/></a>"
      ]
    },
    {
      "cell_type": "markdown",
      "metadata": {
        "colab_type": "text",
        "id": "NMEswXWh9mqw"
      },
      "source": [
        "Lambda School Data Science\n",
        "\n",
        "*Unit 1, Sprint 1, Module 4*\n",
        "\n",
        "---\n",
        "\n",
        "# ASSIGNMENT\n",
        "\n",
        "### 1) Replicate the lesson code. I recommend that you [do not copy-paste](https://docs.google.com/document/d/1ubOw9B3Hfip27hF2ZFnW3a3z9xAgrUDRReOEo-FHCVs/edit).\n",
        "\n",
        "Get caught up to where we got our example in class and then try and take things further. How close to \"pixel perfect\" can you make the lecture graph?\n",
        "\n",
        "Once you have something that you're proud of, share your graph in the cohort channel and move on to the second exercise.\n",
        "\n",
        "### 2) Reproduce another example from [FiveThityEight's shared data repository](https://data.fivethirtyeight.com/).\n",
        "\n",
        "**WARNING**: There are a lot of very custom graphs and tables at the above link. I **highly** recommend not trying to reproduce any that look like a table of values or something really different from the graph types that we are already familiar with. Search through the posts until you find a graph type that you are more or less familiar with: histogram, bar chart, stacked bar chart, line chart, [seaborn relplot](https://seaborn.pydata.org/generated/seaborn.relplot.html), etc. Recreating some of the graphics that 538 uses would be a lot easier in Adobe photoshop/illustrator than with matplotlib. \n",
        "\n",
        "- If you put in some time to find a graph that looks \"easy\" to replicate you'll probably find that it's not as easy as you thought. \n",
        "\n",
        "- If you start with a graph that looks hard to replicate you'll probably run up against a brick wall and be disappointed with your afternoon.\n",
        "\n",
        "\n",
        "\n",
        "\n",
        "\n",
        "\n",
        "\n",
        "\n",
        "\n",
        "\n"
      ]
    },
    {
      "cell_type": "code",
      "metadata": {
        "id": "7SY1ZHawyZvz",
        "colab_type": "code",
        "colab": {}
      },
      "source": [
        "# Your Work Here\n",
        "import matplotlib.pyplot as plt"
      ],
      "execution_count": 0,
      "outputs": []
    },
    {
      "cell_type": "code",
      "metadata": {
        "id": "ZJfSJ5BJGOW5",
        "colab_type": "code",
        "colab": {
          "base_uri": "https://localhost:8080/",
          "height": 355
        },
        "outputId": "b6aad32e-397b-4ccb-e0ad-3a2469b7e444"
      },
      "source": [
        "from IPython.display import display, Image\n",
        "\n",
        "url = 'https://fivethirtyeight.com/wp-content/uploads/2017/09/mehtahickey-inconvenient-0830-1.png'\n",
        "example = Image(url=url, width=400)\n",
        "\n",
        "display(example)"
      ],
      "execution_count": 3,
      "outputs": [
        {
          "output_type": "display_data",
          "data": {
            "text/html": [
              "<img src=\"https://fivethirtyeight.com/wp-content/uploads/2017/09/mehtahickey-inconvenient-0830-1.png\" width=\"400\"/>"
            ],
            "text/plain": [
              "<IPython.core.display.Image object>"
            ]
          },
          "metadata": {
            "tags": []
          }
        }
      ]
    },
    {
      "cell_type": "code",
      "metadata": {
        "id": "nK5La4UPGOZL",
        "colab_type": "code",
        "colab": {}
      },
      "source": [
        "import numpy as np\n",
        "import pandas as pd"
      ],
      "execution_count": 0,
      "outputs": []
    },
    {
      "cell_type": "code",
      "metadata": {
        "id": "X3tCxMT5GOdv",
        "colab_type": "code",
        "colab": {
          "base_uri": "https://localhost:8080/",
          "height": 285
        },
        "outputId": "47ca3cd8-10d1-442e-8b8c-86533b04fff4"
      },
      "source": [
        "plt.style.use('fivethirtyeight')\n",
        "\n",
        "fake = pd.Series([38,3,2,1,2,4,6,5,5,33], index=range(1,11))\n",
        "\n",
        "fake.plot.bar(color='C1', width=.9);"
      ],
      "execution_count": 6,
      "outputs": [
        {
          "output_type": "display_data",
          "data": {
            "image/png": "[encoded data removed]",
            "text/plain": [
              "<Figure size 432x288 with 1 Axes>"
            ]
          },
          "metadata": {
            "tags": []
          }
        }
      ]
    },
    {
      "cell_type": "code",
      "metadata": {
        "id": "no_fV_V5GOgb",
        "colab_type": "code",
        "colab": {
          "base_uri": "https://localhost:8080/",
          "height": 364
        },
        "outputId": "bc109026-8618-48f6-e144-6292413b5758"
      },
      "source": [
        "plt.style.use('fivethirtyeight')\n",
        "\n",
        "fig, ax = plt.subplots()\n",
        "\n",
        "fake.plot.bar(fake, width=.9, color='#ED7139')\n",
        "\n",
        "ax.set_title(\"'An Inconvenient Sequel: Truth To Power' is divisive\",\n",
        "             loc='left',\n",
        "             color='black',\n",
        "             fontsize=13,\n",
        "             fontweight='bold',\n",
        "             x=-.07,\n",
        "             y=1.1)\n",
        "\n",
        "ax.text(s='IMBd ratings for the film as of Aug. 29',\n",
        "        x=-1.4,\n",
        "        y=42,\n",
        "        color='black',\n",
        "        fontsize=12,\n",
        "        fontweight='light')\n",
        "ax.text(s='Five ThirtyEight', x=-1.8, y=-10, fontsize=8, color='gray')\n",
        "ax.text(s='SOURCE:IMBD', x=8.5, y=-10, fontsize=8, color='gray')\n",
        "ax.text(s='______________________________________________________________',\n",
        "        x=-1.9, y=-7.6,\n",
        "        color='gray')\n",
        "\n",
        "ax.set_xlabel('Rating', color='Black', fontsize=12, fontweight='bold')\n",
        "ax.set_ylabel('Percent of total votes', color='Black', fontsize=12, fontweight='bold')\n",
        "ax.set_xticklabels(labels=range(1,11,1), color='gray', rotation='horizontal', fontsize=11)\n",
        "ax.set_yticklabels(labels=['0','10','20','30','40%'], color='gray', fontsize=11)\n",
        "ax.set_yticks(ticks=range(0,50,10))\n",
        "\n",
        "fig.set_facecolor(color='white')\n",
        "\n",
        "ax.set_facecolor(color='white')"
      ],
      "execution_count": 37,
      "outputs": [
        {
          "output_type": "display_data",
          "data": {
            "image/png": "[encoded data removed]",
            "text/plain": [
              "<Figure size 432x288 with 1 Axes>"
            ]
          },
          "metadata": {
            "tags": []
          }
        }
      ]
    },
    {
      "cell_type": "code",
      "metadata": {
        "id": "QS7SyV9-GOio",
        "colab_type": "code",
        "colab": {
          "base_uri": "https://localhost:8080/",
          "height": 355
        },
        "outputId": "ebba091e-18ec-42b1-ed33-baab880f1e69"
      },
      "source": [
        "display(example)\n"
      ],
      "execution_count": 10,
      "outputs": [
        {
          "output_type": "display_data",
          "data": {
            "text/html": [
              "<img src=\"https://fivethirtyeight.com/wp-content/uploads/2017/09/mehtahickey-inconvenient-0830-1.png\" width=\"400\"/>"
            ],
            "text/plain": [
              "<IPython.core.display.Image object>"
            ]
          },
          "metadata": {
            "tags": []
          }
        }
      ]
    },
    {
      "cell_type": "code",
      "metadata": {
        "id": "Rsh3XVPfSP9L",
        "colab_type": "code",
        "colab": {
          "base_uri": "https://localhost:8080/",
          "height": 326
        },
        "outputId": "d6f98942-8e63-4ca7-813b-726ca156c932"
      },
      "source": [
        "df = pd.read_csv('https://raw.githubusercontent.com/fivethirtyeight/candidate-emails/master/index.csv')\n",
        "df.head()"
      ],
      "execution_count": 66,
      "outputs": [
        {
          "output_type": "execute_result",
          "data": {
            "text/html": [
              "<div>\n",
              "<style scoped>\n",
              "    .dataframe tbody tr th:only-of-type {\n",
              "        vertical-align: middle;\n",
              "    }\n",
              "\n",
              "    .dataframe tbody tr th {\n",
              "        vertical-align: top;\n",
              "    }\n",
              "\n",
              "    .dataframe thead th {\n",
              "        text-align: right;\n",
              "    }\n",
              "</style>\n",
              "<table border=\"1\" class=\"dataframe\">\n",
              "  <thead>\n",
              "    <tr style=\"text-align: right;\">\n",
              "      <th></th>\n",
              "      <th>candidate</th>\n",
              "      <th>message_id</th>\n",
              "      <th>message_date</th>\n",
              "      <th>message_from</th>\n",
              "      <th>message_subject</th>\n",
              "      <th>filepath</th>\n",
              "      <th>url</th>\n",
              "    </tr>\n",
              "  </thead>\n",
              "  <tbody>\n",
              "    <tr>\n",
              "      <th>0</th>\n",
              "      <td>Steve Bullock</td>\n",
              "      <td>16b91b0264861699</td>\n",
              "      <td>2019-06-25 22:49:28</td>\n",
              "      <td>Steve Bullock HQ &lt;info@stevebullock.com&gt;</td>\n",
              "      <td>Please:</td>\n",
              "      <td>emails/steve_bullock/16b91b0264861699.html</td>\n",
              "      <td>https://fivethirtyeight.github.io/candidate-em...</td>\n",
              "    </tr>\n",
              "    <tr>\n",
              "      <th>1</th>\n",
              "      <td>Amy Klobuchar</td>\n",
              "      <td>16b918b67db5a5cf</td>\n",
              "      <td>2019-06-25 22:09:17</td>\n",
              "      <td>\"Tim Hogan, Communications Director\" &lt;info@amy...</td>\n",
              "      <td>Can I recruit you for something? (Debate rapid...</td>\n",
              "      <td>emails/amy_klobuchar/16b918b67db5a5cf.html</td>\n",
              "      <td>https://fivethirtyeight.github.io/candidate-em...</td>\n",
              "    </tr>\n",
              "    <tr>\n",
              "      <th>2</th>\n",
              "      <td>Jay Inslee</td>\n",
              "      <td>16b913178e074b12</td>\n",
              "      <td>2019-06-25 20:31:05</td>\n",
              "      <td>\"Jay Inslee\" &lt;hello@jayinslee.com&gt;</td>\n",
              "      <td>A time I was embarrassed</td>\n",
              "      <td>emails/jay_inslee/16b913178e074b12.html</td>\n",
              "      <td>https://fivethirtyeight.github.io/candidate-em...</td>\n",
              "    </tr>\n",
              "    <tr>\n",
              "      <th>3</th>\n",
              "      <td>Michael Bennet</td>\n",
              "      <td>16b91189e084d570</td>\n",
              "      <td>2019-06-25 20:03:58</td>\n",
              "      <td>Bennet Outreach Team &lt;info@michaelbennet.com&gt;</td>\n",
              "      <td>the naysayers are at it again</td>\n",
              "      <td>emails/michael_bennet/16b91189e084d570.html</td>\n",
              "      <td>https://fivethirtyeight.github.io/candidate-em...</td>\n",
              "    </tr>\n",
              "    <tr>\n",
              "      <th>4</th>\n",
              "      <td>Joe Biden</td>\n",
              "      <td>16b911021f72689d</td>\n",
              "      <td>2019-06-25 19:54:41</td>\n",
              "      <td>Biden 2020 &lt;info@joebiden.com&gt;</td>\n",
              "      <td>BREAKING NEWS -- please read asap</td>\n",
              "      <td>emails/joe_biden/16b911021f72689d.html</td>\n",
              "      <td>https://fivethirtyeight.github.io/candidate-em...</td>\n",
              "    </tr>\n",
              "  </tbody>\n",
              "</table>\n",
              "</div>"
            ],
            "text/plain": [
              "        candidate  ...                                                url\n",
              "0   Steve Bullock  ...  https://fivethirtyeight.github.io/candidate-em...\n",
              "1   Amy Klobuchar  ...  https://fivethirtyeight.github.io/candidate-em...\n",
              "2      Jay Inslee  ...  https://fivethirtyeight.github.io/candidate-em...\n",
              "3  Michael Bennet  ...  https://fivethirtyeight.github.io/candidate-em...\n",
              "4       Joe Biden  ...  https://fivethirtyeight.github.io/candidate-em...\n",
              "\n",
              "[5 rows x 7 columns]"
            ]
          },
          "metadata": {
            "tags": []
          },
          "execution_count": 66
        }
      ]
    },
    {
      "cell_type": "code",
      "metadata": {
        "id": "UEz2o1M7SP4a",
        "colab_type": "code",
        "colab": {
          "base_uri": "https://localhost:8080/",
          "height": 391
        },
        "outputId": "e3f1c784-ae38-4195-bafb-abd0bfcb66a5"
      },
      "source": [
        "list(df['candidate'].value_counts())"
      ],
      "execution_count": 68,
      "outputs": [
        {
          "output_type": "execute_result",
          "data": {
            "text/plain": [
              "[78,\n",
              " 69,\n",
              " 65,\n",
              " 60,\n",
              " 56,\n",
              " 56,\n",
              " 47,\n",
              " 46,\n",
              " 45,\n",
              " 44,\n",
              " 42,\n",
              " 37,\n",
              " 36,\n",
              " 33,\n",
              " 30,\n",
              " 22,\n",
              " 20,\n",
              " 17,\n",
              " 14,\n",
              " 7,\n",
              " 5,\n",
              " 1]"
            ]
          },
          "metadata": {
            "tags": []
          },
          "execution_count": 68
        }
      ]
    },
    {
      "cell_type": "code",
      "metadata": {
        "id": "cTyQN_6rlyQD",
        "colab_type": "code",
        "colab": {
          "base_uri": "https://localhost:8080/",
          "height": 496
        },
        "outputId": "892997ed-2066-4793-ee0a-4896e381ed80"
      },
      "source": [
        "dt = pd.read_csv('https://docs.google.com/spreadsheets/d/e/2PACX-1vS15V8lYPUc_OH4OBss6d8NPGRnCH1lAlBBY4FYWcK6cm6iVM8dXE_4KMFOUybRe-cVvDg7ap46FPig/pub?gid=39569490&single=true&output=csv&/impeachment-polls.csv')\n",
        "\n",
        "dt.head()"
      ],
      "execution_count": 69,
      "outputs": [
        {
          "output_type": "execute_result",
          "data": {
            "text/html": [
              "<div>\n",
              "<style scoped>\n",
              "    .dataframe tbody tr th:only-of-type {\n",
              "        vertical-align: middle;\n",
              "    }\n",
              "\n",
              "    .dataframe tbody tr th {\n",
              "        vertical-align: top;\n",
              "    }\n",
              "\n",
              "    .dataframe thead th {\n",
              "        text-align: right;\n",
              "    }\n",
              "</style>\n",
              "<table border=\"1\" class=\"dataframe\">\n",
              "  <thead>\n",
              "    <tr style=\"text-align: right;\">\n",
              "      <th></th>\n",
              "      <th>Start</th>\n",
              "      <th>End</th>\n",
              "      <th>Pollster</th>\n",
              "      <th>Sponsor</th>\n",
              "      <th>SampleSize</th>\n",
              "      <th>Pop</th>\n",
              "      <th>tracking</th>\n",
              "      <th>Text</th>\n",
              "      <th>Category</th>\n",
              "      <th>Include?</th>\n",
              "      <th>Yes</th>\n",
              "      <th>No</th>\n",
              "      <th>Unsure</th>\n",
              "      <th>Rep Sample</th>\n",
              "      <th>Rep Yes</th>\n",
              "      <th>Rep No</th>\n",
              "      <th>Dem Sample</th>\n",
              "      <th>Dem Yes</th>\n",
              "      <th>Dem No</th>\n",
              "      <th>Ind Sample</th>\n",
              "      <th>Ind Yes</th>\n",
              "      <th>Ind No</th>\n",
              "      <th>URL</th>\n",
              "      <th>Notes</th>\n",
              "    </tr>\n",
              "  </thead>\n",
              "  <tbody>\n",
              "    <tr>\n",
              "      <th>0</th>\n",
              "      <td>6/28/2019</td>\n",
              "      <td>7/1/2019</td>\n",
              "      <td>ABC News/Washington Post</td>\n",
              "      <td>NaN</td>\n",
              "      <td>1008</td>\n",
              "      <td>a</td>\n",
              "      <td>NaN</td>\n",
              "      <td>Based on what you know, do you think Congress ...</td>\n",
              "      <td>begin_proceedings</td>\n",
              "      <td>yes</td>\n",
              "      <td>37.0</td>\n",
              "      <td>59.0</td>\n",
              "      <td>4.0</td>\n",
              "      <td>232.0</td>\n",
              "      <td>7.0</td>\n",
              "      <td>87.0</td>\n",
              "      <td>292.0</td>\n",
              "      <td>61.0</td>\n",
              "      <td>36.0</td>\n",
              "      <td>373.0</td>\n",
              "      <td>37.0</td>\n",
              "      <td>59.0</td>\n",
              "      <td>https://games-cdn.washingtonpost.com/notes/pro...</td>\n",
              "      <td>NaN</td>\n",
              "    </tr>\n",
              "    <tr>\n",
              "      <th>1</th>\n",
              "      <td>4/22/2019</td>\n",
              "      <td>4/25/2019</td>\n",
              "      <td>ABC News/Washington Post</td>\n",
              "      <td>NaN</td>\n",
              "      <td>1001</td>\n",
              "      <td>a</td>\n",
              "      <td>NaN</td>\n",
              "      <td>Based on what you know, do you think Congress ...</td>\n",
              "      <td>begin_proceedings</td>\n",
              "      <td>yes</td>\n",
              "      <td>37.0</td>\n",
              "      <td>56.0</td>\n",
              "      <td>6.0</td>\n",
              "      <td>260.0</td>\n",
              "      <td>10.0</td>\n",
              "      <td>87.0</td>\n",
              "      <td>290.0</td>\n",
              "      <td>62.0</td>\n",
              "      <td>29.0</td>\n",
              "      <td>360.0</td>\n",
              "      <td>36.0</td>\n",
              "      <td>59.0</td>\n",
              "      <td>https://games-cdn.washingtonpost.com/notes/pro...</td>\n",
              "      <td>NaN</td>\n",
              "    </tr>\n",
              "    <tr>\n",
              "      <th>2</th>\n",
              "      <td>1/21/2019</td>\n",
              "      <td>1/24/2019</td>\n",
              "      <td>ABC News/Washington Post</td>\n",
              "      <td>NaN</td>\n",
              "      <td>1001</td>\n",
              "      <td>a</td>\n",
              "      <td>NaN</td>\n",
              "      <td>Based on what you know, do you think Congress ...</td>\n",
              "      <td>begin_proceedings</td>\n",
              "      <td>yes</td>\n",
              "      <td>40.0</td>\n",
              "      <td>55.0</td>\n",
              "      <td>6.0</td>\n",
              "      <td>240.0</td>\n",
              "      <td>7.0</td>\n",
              "      <td>90.0</td>\n",
              "      <td>320.0</td>\n",
              "      <td>64.0</td>\n",
              "      <td>30.0</td>\n",
              "      <td>370.0</td>\n",
              "      <td>42.0</td>\n",
              "      <td>53.0</td>\n",
              "      <td>langerresearch.com/wp-content/uploads/1204a2Tr...</td>\n",
              "      <td>NaN</td>\n",
              "    </tr>\n",
              "    <tr>\n",
              "      <th>3</th>\n",
              "      <td>8/26/2018</td>\n",
              "      <td>8/29/2018</td>\n",
              "      <td>ABC News/Washington Post</td>\n",
              "      <td>NaN</td>\n",
              "      <td>1003</td>\n",
              "      <td>a</td>\n",
              "      <td>NaN</td>\n",
              "      <td>Based on what you know, do you think Congress ...</td>\n",
              "      <td>begin_proceedings</td>\n",
              "      <td>yes</td>\n",
              "      <td>49.0</td>\n",
              "      <td>46.0</td>\n",
              "      <td>5.0</td>\n",
              "      <td>251.0</td>\n",
              "      <td>15.0</td>\n",
              "      <td>82.0</td>\n",
              "      <td>331.0</td>\n",
              "      <td>75.0</td>\n",
              "      <td>21.0</td>\n",
              "      <td>371.0</td>\n",
              "      <td>49.0</td>\n",
              "      <td>46.0</td>\n",
              "      <td>https://www.langerresearch.com/wp-content/uplo...</td>\n",
              "      <td>NaN</td>\n",
              "    </tr>\n",
              "    <tr>\n",
              "      <th>4</th>\n",
              "      <td>6/8/2019</td>\n",
              "      <td>6/12/2019</td>\n",
              "      <td>Civiqs</td>\n",
              "      <td>NaN</td>\n",
              "      <td>1559</td>\n",
              "      <td>rv</td>\n",
              "      <td>NaN</td>\n",
              "      <td>Do you think the House of Representatives shou...</td>\n",
              "      <td>begin_inquiry</td>\n",
              "      <td>yes</td>\n",
              "      <td>43.0</td>\n",
              "      <td>51.0</td>\n",
              "      <td>5.0</td>\n",
              "      <td>483.0</td>\n",
              "      <td>5.0</td>\n",
              "      <td>93.0</td>\n",
              "      <td>577.0</td>\n",
              "      <td>77.0</td>\n",
              "      <td>15.0</td>\n",
              "      <td>499.0</td>\n",
              "      <td>41.0</td>\n",
              "      <td>53.0</td>\n",
              "      <td>https://civiqs.com/documents/Civiqs_DailyKos_m...</td>\n",
              "      <td>NaN</td>\n",
              "    </tr>\n",
              "  </tbody>\n",
              "</table>\n",
              "</div>"
            ],
            "text/plain": [
              "       Start  ... Notes\n",
              "0  6/28/2019  ...   NaN\n",
              "1  4/22/2019  ...   NaN\n",
              "2  1/21/2019  ...   NaN\n",
              "3  8/26/2018  ...   NaN\n",
              "4   6/8/2019  ...   NaN\n",
              "\n",
              "[5 rows x 24 columns]"
            ]
          },
          "metadata": {
            "tags": []
          },
          "execution_count": 69
        }
      ]
    },
    {
      "cell_type": "code",
      "metadata": {
        "id": "WtG4-o1ulySk",
        "colab_type": "code",
        "colab": {
          "base_uri": "https://localhost:8080/",
          "height": 102
        },
        "outputId": "cca2d933-24de-4f0c-813b-c4340239c4f0"
      },
      "source": [
        "dt['End'].describe()"
      ],
      "execution_count": 73,
      "outputs": [
        {
          "output_type": "execute_result",
          "data": {
            "text/plain": [
              "count           511\n",
              "unique          292\n",
              "top       10/8/2019\n",
              "freq             11\n",
              "Name: End, dtype: object"
            ]
          },
          "metadata": {
            "tags": []
          },
          "execution_count": 73
        }
      ]
    },
    {
      "cell_type": "code",
      "metadata": {
        "id": "FFGnRrC0lyXB",
        "colab_type": "code",
        "colab": {}
      },
      "source": [
        "import matplotlib.pyplot as plt\n",
        "import numpy as np\n",
        "import seaborn as sns\n",
        "import pandas as pd\n",
        "plt.style.use('seaborn')"
      ],
      "execution_count": 0,
      "outputs": []
    },
    {
      "cell_type": "code",
      "metadata": {
        "id": "myCWe38jlyVd",
        "colab_type": "code",
        "colab": {}
      },
      "source": [
        "dt['End'] = pd.to_datetime(dt['End'], infer_datetime_format=True)\n"
      ],
      "execution_count": 0,
      "outputs": []
    },
    {
      "cell_type": "code",
      "metadata": {
        "id": "qTu_yvR-rVpz",
        "colab_type": "code",
        "colab": {
          "base_uri": "https://localhost:8080/",
          "height": 415
        },
        "outputId": "57d61d49-1768-4f8d-c72e-6aad60a03f08"
      },
      "source": [
        "\n",
        "plt.plot(dt['End'], dt['Rep No'], linestyle='', marker='o', markersize=4, color='green', label='Rep No');\n",
        "plt.plot(dt['End'], dt['Dem Yes'], linestyle='', marker='o', markersize=4, color='blue', label=\"Dem Yes\")\n",
        "plt.plot(dt['End'], dt['Dem No'], linestyle='', marker='o', markersize=4, color='yellow', label='Dem No');\n",
        "plt.plot(dt['End'], dt['Rep Yes'], linestyle='', marker='o', markersize=4, color='red', label='Rep Yes');\n",
        "\n",
        "plt.legend(markerscale=2.5)\n",
        "plt.xlabel('Dates')\n",
        "plt.ylabel('Percentage')\n",
        "plt.title('Do American support removing Trump from office?')\n",
        "\n",
        "\n"
      ],
      "execution_count": 118,
      "outputs": [
        {
          "output_type": "execute_result",
          "data": {
            "text/plain": [
              "Text(0.5, 1.0, 'Do American support removing Trump from office?')"
            ]
          },
          "metadata": {
            "tags": []
          },
          "execution_count": 118
        },
        {
          "output_type": "display_data",
          "data": {
            "image/png": "[encoded data removed]",
            "text/plain": [
              "<Figure size 576x396 with 1 Axes>"
            ]
          },
          "metadata": {
            "tags": []
          }
        }
      ]
    },
    {
      "cell_type": "code",
      "metadata": {
        "id": "ysXbNushrzbx",
        "colab_type": "code",
        "colab": {}
      },
      "source": [
        ""
      ],
      "execution_count": 0,
      "outputs": []
    },
    {
      "cell_type": "code",
      "metadata": {
        "id": "9PiDD9Mfrzea",
        "colab_type": "code",
        "colab": {}
      },
      "source": [
        ""
      ],
      "execution_count": 0,
      "outputs": []
    },
    {
      "cell_type": "markdown",
      "metadata": {
        "id": "0wSrBzmJyWaV",
        "colab_type": "text"
      },
      "source": [
        "# STRETCH OPTIONS\n",
        "\n",
        "### 1) Reproduce one of the following using the matplotlib or seaborn libraries:\n",
        "\n",
        "- [thanksgiving-2015](https://fivethirtyeight.com/features/heres-what-your-part-of-america-eats-on-thanksgiving/) \n",
        "- [candy-power-ranking](https://fivethirtyeight.com/features/the-ultimate-halloween-candy-power-ranking/) \n",
        "- or another example of your choice!\n",
        "\n",
        "### 2) Make more charts!\n",
        "\n",
        "Choose a chart you want to make, from [Visual Vocabulary - Vega Edition](http://ft.com/vocabulary).\n",
        "\n",
        "Find the chart in an example gallery of a Python data visualization library:\n",
        "- [Seaborn](http://seaborn.pydata.org/examples/index.html)\n",
        "- [Altair](https://altair-viz.github.io/gallery/index.html)\n",
        "- [Matplotlib](https://matplotlib.org/gallery.html)\n",
        "- [Pandas](https://pandas.pydata.org/pandas-docs/stable/visualization.html)\n",
        "\n",
        "Reproduce the chart. [Optionally, try the \"Ben Franklin Method.\"](https://docs.google.com/document/d/1ubOw9B3Hfip27hF2ZFnW3a3z9xAgrUDRReOEo-FHCVs/edit) If you want, experiment and make changes.\n",
        "\n",
        "Take notes. Consider sharing your work with your cohort!"
      ]
    },
    {
      "cell_type": "code",
      "metadata": {
        "id": "dRJkKftiy5BJ",
        "colab_type": "code",
        "colab": {}
      },
      "source": [
        "# More Work Here"
      ],
      "execution_count": 0,
      "outputs": []
    }
  ]
}