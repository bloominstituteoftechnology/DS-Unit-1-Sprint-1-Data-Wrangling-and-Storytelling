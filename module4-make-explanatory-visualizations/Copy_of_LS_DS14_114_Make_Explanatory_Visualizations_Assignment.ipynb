{
  "nbformat": 4,
  "nbformat_minor": 0,
  "metadata": {
    "colab": {
      "name": "Copy of LS_DS14_114_Make_Explanatory_Visualizations_Assignment.ipynb",
      "provenance": [],
      "collapsed_sections": [],
      "include_colab_link": true
    },
    "language_info": {
      "codemirror_mode": {
        "name": "ipython",
        "version": 3
      },
      "file_extension": ".py",
      "mimetype": "text/x-python",
      "name": "python",
      "nbconvert_exporter": "python",
      "pygments_lexer": "ipython3",
      "version": "3.7.1"
    },
    "kernelspec": {
      "display_name": "Python 3",
      "language": "python",
      "name": "python3"
    }
  },
  "cells": [
    {
      "cell_type": "markdown",
      "metadata": {
        "id": "view-in-github",
        "colab_type": "text"
      },
      "source": [
        "<a href=\"https://colab.research.google.com/github/ekselan/DS-Unit-1-Sprint-1-Data-Wrangling-and-Storytelling/blob/master/module4-make-explanatory-visualizations/Copy_of_LS_DS14_114_Make_Explanatory_Visualizations_Assignment.ipynb\" target=\"_parent\"><img src=\"https://colab.research.google.com/assets/colab-badge.svg\" alt=\"Open In Colab\"/></a>"
      ]
    },
    {
      "cell_type": "markdown",
      "metadata": {
        "colab_type": "text",
        "id": "NMEswXWh9mqw"
      },
      "source": [
        "Lambda School Data Science\n",
        "\n",
        "*Unit 1, Sprint 1, Module 4*\n",
        "\n",
        "---\n",
        "\n",
        "# ASSIGNMENT\n",
        "\n",
        "### 1) Replicate the lesson code. I recommend that you [do not copy-paste](https://docs.google.com/document/d/1ubOw9B3Hfip27hF2ZFnW3a3z9xAgrUDRReOEo-FHCVs/edit).\n",
        "\n",
        "Get caught up to where we got our example in class and then try and take things further. How close to \"pixel perfect\" can you make the lecture graph?\n",
        "\n",
        "Once you have something that you're proud of, share your graph in the cohort channel and move on to the second exercise.\n",
        "\n",
        "### 2) Reproduce another example from [FiveThityEight's shared data repository](https://data.fivethirtyeight.com/).\n",
        "\n",
        "**WARNING**: There are a lot of very custom graphs and tables at the above link. I **highly** recommend not trying to reproduce any that look like a table of values or something really different from the graph types that we are already familiar with. Search through the posts until you find a graph type that you are more or less familiar with: histogram, bar chart, stacked bar chart, line chart, [seaborn relplot](https://seaborn.pydata.org/generated/seaborn.relplot.html), etc. Recreating some of the graphics that 538 uses would be a lot easier in Adobe photoshop/illustrator than with matplotlib. \n",
        "\n",
        "- If you put in some time to find a graph that looks \"easy\" to replicate you'll probably find that it's not as easy as you thought. \n",
        "\n",
        "- If you start with a graph that looks hard to replicate you'll probably run up against a brick wall and be disappointed with your afternoon.\n",
        "\n",
        "\n",
        "\n",
        "\n",
        "\n",
        "\n",
        "\n",
        "\n",
        "\n",
        "\n"
      ]
    },
    {
      "cell_type": "code",
      "metadata": {
        "id": "7SY1ZHawyZvz",
        "colab_type": "code",
        "colab": {}
      },
      "source": [
        "# Your Work Here"
      ],
      "execution_count": 0,
      "outputs": []
    },
    {
      "cell_type": "code",
      "metadata": {
        "id": "RDdSFsmcSecm",
        "colab_type": "code",
        "colab": {}
      },
      "source": [
        "%matplotlib inline\n",
        "import matplotlib.pyplot as plt\n",
        "import numpy as np\n",
        "import pandas as pd\n",
        "\n",
        "# Import tools"
      ],
      "execution_count": 0,
      "outputs": []
    },
    {
      "cell_type": "code",
      "metadata": {
        "id": "CQGaHTJzSb7u",
        "colab_type": "code",
        "colab": {
          "base_uri": "https://localhost:8080/",
          "height": 355
        },
        "outputId": "60ce63dc-333e-4a71-e0cc-efce6cd727cf"
      },
      "source": [
        "from IPython.display import display, Image\n",
        "\n",
        "url = 'https://fivethirtyeight.com/wp-content/uploads/2017/09/mehtahickey-inconvenient-0830-1.png'\n",
        "example = Image(url=url, width=400)\n",
        "\n",
        "display(example)\n",
        "\n",
        "# Set example"
      ],
      "execution_count": 1,
      "outputs": [
        {
          "output_type": "display_data",
          "data": {
            "text/html": [
              "<img src=\"https://fivethirtyeight.com/wp-content/uploads/2017/09/mehtahickey-inconvenient-0830-1.png\" width=\"400\"/>"
            ],
            "text/plain": [
              "<IPython.core.display.Image object>"
            ]
          },
          "metadata": {
            "tags": []
          }
        }
      ]
    },
    {
      "cell_type": "code",
      "metadata": {
        "id": "rQ1ECC4FTNAk",
        "colab_type": "code",
        "colab": {}
      },
      "source": [
        "fake = pd.Series([38, 3, 2, 1, 2, 4, 6, 5, 5, 33], \n",
        "                 index=range(1,11))\n",
        "\n",
        "# Set fake data"
      ],
      "execution_count": 0,
      "outputs": []
    },
    {
      "cell_type": "code",
      "metadata": {
        "id": "_SU1MAnFSxy-",
        "colab_type": "code",
        "colab": {
          "base_uri": "https://localhost:8080/",
          "height": 381
        },
        "outputId": "a93d8528-bde8-4152-8057-333991b503ba"
      },
      "source": [
        "# RE-CREATION\n",
        "\n",
        "fig, ax = plt.subplots()\n",
        "\n",
        "plt.style.use('fivethirtyeight') # This gives us the style\n",
        "\n",
        "# Add bars\n",
        "ax.bar(height=fake, x=[1,2,3,4,5,6,7,8,9,10], color='#ED713A', width=.9)\n",
        "\n",
        "# Set Title\n",
        "ax.set_title(\"'An Inconvenient Sequel: Truth To Power' is divisive\", \n",
        "             x=.35, y=1.1, fontsize=12, fontweight=\"bold\")\n",
        "\n",
        "# Set subtitle\n",
        "ax.text(s='IMDb ratings for the film as of Aug. 29', x=-1.2, y=42, fontsize=10)\n",
        "\n",
        "# Set xticks\n",
        "ax.set_xticks(range(1,11,1))\n",
        "\n",
        "\n",
        "# Set yticks \n",
        "ax.set_yticks(range(0,50,10))\n",
        "\n",
        "# Set ytick labels\n",
        "ax.set_yticklabels(['0','10','20','30','40%'], color='grey')\n",
        "\n",
        "# Set x label\n",
        "ax.set_xlabel('Rating', color='black', fontsize=11, fontweight='bold')\n",
        "\n",
        "# Set xtick labels\n",
        "ax.set_xticklabels(['1','2','3','4','5','6','7','8','9','10'], color='grey')\n",
        "\n",
        "# Set y label\n",
        "ax.set_ylabel('Percent of total votes', color='black', fontsize=11, \n",
        "              fontweight='bold', fontname='helvetica')\n",
        "\n",
        "# Set figure background color\n",
        "fig.set_facecolor(color='none')\n",
        "\n",
        "# Set the Axes background color\n",
        "ax.set_facecolor(color='none')\n",
        "\n",
        "# Turn off the spines\n",
        "ax.spines['left'].set_visible(False)\n",
        "ax.spines['right'].set_visible(False)\n",
        "ax.spines['top'].set_visible(False)\n",
        "\n",
        "# Get x axis ticks to extend below graph\n",
        "ax.tick_params(axis='x', direction='out', length=10, color='grey')\n",
        "\n",
        "# Add grey bar and text below the graph\n",
        "ax.text(s='_______________________________________________________________________________________', \n",
        "        x=-1.5, y=-10, fontsize=10, color='grey')\n",
        "ax.text(s='FiveThirtyEight', x=-1.5, y=-13, fontsize=8, color='grey')\n",
        "ax.text(s='SOURCE:IMDB', x=9.5, y=-13, fontsize=8, color='grey')\n",
        "\n",
        "\n",
        "plt.show()\n",
        "\n",
        "# Not perfect but I feel like I got pretty close!"
      ],
      "execution_count": 114,
      "outputs": [
        {
          "output_type": "display_data",
          "data": {
            "image/png": "[encoded data removed]",
            "text/plain": [
              "<Figure size 432x288 with 1 Axes>"
            ]
          },
          "metadata": {
            "tags": []
          }
        }
      ]
    },
    {
      "cell_type": "code",
      "metadata": {
        "id": "WT69eOYSTR9t",
        "colab_type": "code",
        "colab": {
          "base_uri": "https://localhost:8080/",
          "height": 355
        },
        "outputId": "44e0b992-2396-4e03-f37f-2d1a91970814"
      },
      "source": [
        "display(example)"
      ],
      "execution_count": 6,
      "outputs": [
        {
          "output_type": "display_data",
          "data": {
            "text/html": [
              "<img src=\"https://fivethirtyeight.com/wp-content/uploads/2017/09/mehtahickey-inconvenient-0830-1.png\" width=\"400\"/>"
            ],
            "text/plain": [
              "<IPython.core.display.Image object>"
            ]
          },
          "metadata": {
            "tags": []
          }
        }
      ]
    },
    {
      "cell_type": "markdown",
      "metadata": {
        "id": "VMUWCv2qBMnj",
        "colab_type": "text"
      },
      "source": [
        "## New Example"
      ]
    },
    {
      "cell_type": "code",
      "metadata": {
        "id": "J9jb4p6iBLic",
        "colab_type": "code",
        "colab": {
          "base_uri": "https://localhost:8080/",
          "height": 345
        },
        "outputId": "0df0f870-e23a-4af8-e891-3b0fb9f54160"
      },
      "source": [
        "from IPython.display import display, Image\n",
        "\n",
        "url = 'https://fivethirtyeight.com/wp-content/uploads/2015/10/hickey-datalab-fandango-1-just_fandango.png?w=1150'\n",
        "example = Image(url=url, width=400)\n",
        "\n",
        "display(example)\n",
        "\n",
        "# Set example"
      ],
      "execution_count": 116,
      "outputs": [
        {
          "output_type": "display_data",
          "data": {
            "text/html": [
              "<img src=\"https://fivethirtyeight.com/wp-content/uploads/2015/10/hickey-datalab-fandango-1-just_fandango.png?w=1150\" width=\"400\"/>"
            ],
            "text/plain": [
              "<IPython.core.display.Image object>"
            ]
          },
          "metadata": {
            "tags": []
          }
        }
      ]
    },
    {
      "cell_type": "code",
      "metadata": {
        "id": "esNpHY_uGGPk",
        "colab_type": "code",
        "colab": {
          "base_uri": "https://localhost:8080/",
          "height": 282
        },
        "outputId": "5ea83eba-5bb7-4d3f-da35-43867f77571c"
      },
      "source": [
        "# Create dataset and get intial visual\n",
        "\n",
        "fandango = pd.Series([0,0,0,0,35,15], index=range(1,7))\n",
        "fandango.plot()\n",
        "plt.show()"
      ],
      "execution_count": 184,
      "outputs": [
        {
          "output_type": "display_data",
          "data": {
            "image/png": "[encoded data removed]",
            "text/plain": [
              "<Figure size 432x288 with 1 Axes>"
            ]
          },
          "metadata": {
            "tags": []
          }
        }
      ]
    },
    {
      "cell_type": "code",
      "metadata": {
        "id": "8HT8xtMKBgKV",
        "colab_type": "code",
        "colab": {
          "base_uri": "https://localhost:8080/",
          "height": 392
        },
        "outputId": "1a0b97a5-1417-40eb-b0aa-a9cb38c7c0b5"
      },
      "source": [
        "# Try to match example\n",
        "\n",
        "fig, ax = plt.subplots()\n",
        "plt.style.use('fivethirtyeight')\n",
        "\n",
        "# Set the line graph\n",
        "ax.plot(fandango, color='salmon')\n",
        "\n",
        "# Set title\n",
        "ax.set_title(\"Fandango's Lopsided Ratings Curve\", fontweight='bold',\n",
        "             fontsize=14, x=.33, y=1.2)\n",
        "\n",
        "# Set subtitle\n",
        "ax.text(s='Ratings for 209 films that played in theaters in 2015 and received',\n",
        "        x=.5, y=46)\n",
        "ax.text(s='30+ reviews', x=.5, y=43)\n",
        "\n",
        "# Set yticks\n",
        "ax.set_yticks(range(0,50,10))\n",
        "\n",
        "# Set yticklabels\n",
        "ax.set_yticklabels(['0','10','20','30','40%'], fontsize=10, color='grey', \n",
        "                   fontweight='bold')\n",
        "\n",
        "# Set xticks\n",
        "ax.set_xticks(range(1,7,1))\n",
        "\n",
        "# Set xticklabels\n",
        "ax.set_xticklabels(['-','*','**','***','****','*****'], fontweight='bold',\n",
        "                   fontsize=11.5)\n",
        "\n",
        "# Get bottom bar in there\n",
        "ax.text(s='___', \n",
        "        x=-.02, y=-.5, fontsize=300, color='0.35', fontweight='bold')\n",
        "ax.text(s='(^__^) FIVETHIRTYEIGHT', x=.25, y=-11.5, color='1', fontsize=8,\n",
        "        fontweight='bold')\n",
        "ax.text(s='SOURCE: FANDANGO.COM', x=4.5, y=-11.5, color='1', fontsize=8,\n",
        "        fontweight='bold')\n",
        "\n",
        "plt.show()"
      ],
      "execution_count": 290,
      "outputs": [
        {
          "output_type": "display_data",
          "data": {
            "image/png": "[encoded data removed]",
            "text/plain": [
              "<Figure size 432x288 with 1 Axes>"
            ]
          },
          "metadata": {
            "tags": []
          }
        }
      ]
    },
    {
      "cell_type": "code",
      "metadata": {
        "id": "pa1W7nkFHeSu",
        "colab_type": "code",
        "colab": {
          "base_uri": "https://localhost:8080/",
          "height": 345
        },
        "outputId": "2f64b3c7-3f7e-4d37-ebfa-9934f60f63b8"
      },
      "source": [
        "display(example)"
      ],
      "execution_count": 122,
      "outputs": [
        {
          "output_type": "display_data",
          "data": {
            "text/html": [
              "<img src=\"https://fivethirtyeight.com/wp-content/uploads/2015/10/hickey-datalab-fandango-1-just_fandango.png?w=1150\" width=\"400\"/>"
            ],
            "text/plain": [
              "<IPython.core.display.Image object>"
            ]
          },
          "metadata": {
            "tags": []
          }
        }
      ]
    },
    {
      "cell_type": "markdown",
      "metadata": {
        "id": "0wSrBzmJyWaV",
        "colab_type": "text"
      },
      "source": [
        "# STRETCH OPTIONS\n",
        "\n",
        "### 1) Reproduce one of the following using the matplotlib or seaborn libraries:\n",
        "\n",
        "- [thanksgiving-2015](https://fivethirtyeight.com/features/heres-what-your-part-of-america-eats-on-thanksgiving/) \n",
        "- [candy-power-ranking](https://fivethirtyeight.com/features/the-ultimate-halloween-candy-power-ranking/) \n",
        "- or another example of your choice!\n",
        "\n",
        "### 2) Make more charts!\n",
        "\n",
        "Choose a chart you want to make, from [Visual Vocabulary - Vega Edition](http://ft.com/vocabulary).\n",
        "\n",
        "Find the chart in an example gallery of a Python data visualization library:\n",
        "- [Seaborn](http://seaborn.pydata.org/examples/index.html)\n",
        "- [Altair](https://altair-viz.github.io/gallery/index.html)\n",
        "- [Matplotlib](https://matplotlib.org/gallery.html)\n",
        "- [Pandas](https://pandas.pydata.org/pandas-docs/stable/visualization.html)\n",
        "\n",
        "Reproduce the chart. [Optionally, try the \"Ben Franklin Method.\"](https://docs.google.com/document/d/1ubOw9B3Hfip27hF2ZFnW3a3z9xAgrUDRReOEo-FHCVs/edit) If you want, experiment and make changes.\n",
        "\n",
        "Take notes. Consider sharing your work with your cohort!"
      ]
    },
    {
      "cell_type": "code",
      "metadata": {
        "id": "dRJkKftiy5BJ",
        "colab_type": "code",
        "colab": {}
      },
      "source": [
        "# More Work Here"
      ],
      "execution_count": 0,
      "outputs": []
    }
  ]
}