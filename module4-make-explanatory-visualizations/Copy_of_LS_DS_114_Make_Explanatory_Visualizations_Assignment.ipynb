{
  "nbformat": 4,
  "nbformat_minor": 0,
  "metadata": {
    "colab": {
      "name": "Copy of LS_DS_114_Make_Explanatory_Visualizations_Assignment.ipynb",
      "provenance": [],
      "collapsed_sections": [],
      "include_colab_link": true
    },
    "language_info": {
      "codemirror_mode": {
        "name": "ipython",
        "version": 3
      },
      "file_extension": ".py",
      "mimetype": "text/x-python",
      "name": "python",
      "nbconvert_exporter": "python",
      "pygments_lexer": "ipython3",
      "version": "3.7.1"
    },
    "kernelspec": {
      "display_name": "Python 3",
      "language": "python",
      "name": "python3"
    }
  },
  "cells": [
    {
      "cell_type": "markdown",
      "metadata": {
        "id": "view-in-github",
        "colab_type": "text"
      },
      "source": [
        "<a href=\"https://colab.research.google.com/github/robinhester/DS-Unit-1-Sprint-1-Data-Wrangling-and-Storytelling/blob/master/module4-make-explanatory-visualizations/Copy_of_LS_DS_114_Make_Explanatory_Visualizations_Assignment.ipynb\" target=\"_parent\"><img src=\"https://colab.research.google.com/assets/colab-badge.svg\" alt=\"Open In Colab\"/></a>"
      ]
    },
    {
      "cell_type": "markdown",
      "metadata": {
        "colab_type": "text",
        "id": "NMEswXWh9mqw"
      },
      "source": [
        "Lambda School Data Science\n",
        "\n",
        "*Unit 1, Sprint 1, Module 4*\n",
        "\n",
        "---\n",
        "\n",
        "# ASSIGNMENT\n",
        "\n",
        "### 1) Replicate the lesson code. I recommend that you [do not copy-paste](https://docs.google.com/document/d/1ubOw9B3Hfip27hF2ZFnW3a3z9xAgrUDRReOEo-FHCVs/edit).\n",
        "\n",
        "Get caught up to where we got our example in class and then try and take things further. How close to \"pixel perfect\" can you make the lecture graph?\n",
        "\n",
        "Once you have something that you're proud of, share your graph in the cohort channel and move on to the second exercise.\n",
        "\n",
        "### 2) Reproduce another example from [FiveThityEight's shared data repository](https://data.fivethirtyeight.com/).\n",
        "\n",
        "**WARNING**: There are a lot of very custom graphs and tables at the above link. I **highly** recommend not trying to reproduce any that look like a table of values or something really different from the graph types that we are already familiar with. Search through the posts until you find a graph type that you are more or less familiar with: histogram, bar chart, stacked bar chart, line chart, [seaborn relplot](https://seaborn.pydata.org/generated/seaborn.relplot.html), etc. Recreating some of the graphics that 538 uses would be a lot easier in Adobe photoshop/illustrator than with matplotlib. \n",
        "\n",
        "- If you put in some time to find a graph that looks \"easy\" to replicate you'll probably find that it's not as easy as you thought. \n",
        "\n",
        "- If you start with a graph that looks hard to replicate you'll probably run up against a brick wall and be disappointed with your afternoon.\n",
        "\n",
        "\n",
        "\n",
        "\n",
        "\n",
        "\n",
        "\n",
        "\n",
        "\n",
        "\n"
      ]
    },
    {
      "cell_type": "code",
      "metadata": {
        "id": "7SY1ZHawyZvz",
        "colab_type": "code",
        "outputId": "b6cc2be0-1035-4132-da93-27b873b868d1",
        "colab": {
          "base_uri": "https://localhost:8080/",
          "height": 295
        }
      },
      "source": [
        "# Replicating Lesson Code\n",
        "#matplotlib plotlib syntax\n",
        "data = [1, 2, 3, 5, 8, 7 ]\n",
        "data2 = [8, 6, 7, 4, 2, 1]\n",
        "import matplotlib.pyplot as plt\n",
        "\n",
        "plt.plot(data)\n",
        "plt.plot(data2)\n",
        "plt.title('My Fake Data')\n",
        "plt.xlabel('My X Lable')\n",
        "plt.ylabel('My Y Lable')\n",
        "plt.show()"
      ],
      "execution_count": 1,
      "outputs": [
        {
          "output_type": "display_data",
          "data": {
            "image/png": "[encoded data removed]",
            "text/plain": [
              "<Figure size 432x288 with 1 Axes>"
            ]
          },
          "metadata": {
            "tags": []
          }
        }
      ]
    },
    {
      "cell_type": "code",
      "metadata": {
        "id": "CoC33A-RfiYM",
        "colab_type": "code",
        "outputId": "a778789c-f405-44cb-b38f-915085fb45c3",
        "colab": {
          "base_uri": "https://localhost:8080/",
          "height": 295
        }
      },
      "source": [
        "#figure axes syntax\n",
        "fig, ax = plt.subplots()\n",
        "ax.plot(data)\n",
        "#change the figure to blue \n",
        "fig.patch.set(facecolor=\"blue\")\n",
        "#change the axes background color yellow\n",
        "ax.set(facecolor=\"yellow\")\n",
        "#set x lable\n",
        "ax.set_xlabel(\"This is the X Lable\")\n",
        "#set y lable\n",
        "ax.set_ylabel('This is the Y Lable')\n",
        "#set title\n",
        "ax.set_title('This is our graph')\n",
        "plt.show()"
      ],
      "execution_count": 2,
      "outputs": [
        {
          "output_type": "display_data",
          "data": {
            "image/png": "[encoded data removed]",
            "text/plain": [
              "<Figure size 432x288 with 1 Axes>"
            ]
          },
          "metadata": {
            "tags": []
          }
        }
      ]
    },
    {
      "cell_type": "code",
      "metadata": {
        "id": "19DpHC8bfihr",
        "colab_type": "code",
        "colab": {}
      },
      "source": [
        "import numpy as np\n",
        "import seaborn as sns \n",
        "import pandas as pd\n",
        "%matplotlib inline\n"
      ],
      "execution_count": 0,
      "outputs": []
    },
    {
      "cell_type": "code",
      "metadata": {
        "id": "9SkSYhPNzhiP",
        "colab_type": "code",
        "colab": {}
      },
      "source": [
        "fake = pd.Series([38, 3, 2, 1, 2, 4, 6, 5, 5, 33], \n",
        "                 index=range(1,11))"
      ],
      "execution_count": 0,
      "outputs": []
    },
    {
      "cell_type": "code",
      "metadata": {
        "id": "W1KsdAKWfimc",
        "colab_type": "code",
        "outputId": "1b5125c5-3ba5-4e76-97a7-cb01b8352fab",
        "colab": {
          "base_uri": "https://localhost:8080/",
          "height": 355
        }
      },
      "source": [
        "from IPython.display import display, Image\n",
        "\n",
        "url = 'https://fivethirtyeight.com/wp-content/uploads/2017/09/mehtahickey-inconvenient-0830-1.png'\n",
        "example = Image(url=url, width=400)\n",
        "\n",
        "display(example)"
      ],
      "execution_count": 5,
      "outputs": [
        {
          "output_type": "display_data",
          "data": {
            "text/html": [
              "<img src=\"https://fivethirtyeight.com/wp-content/uploads/2017/09/mehtahickey-inconvenient-0830-1.png\" width=\"400\"/>"
            ],
            "text/plain": [
              "<IPython.core.display.Image object>"
            ]
          },
          "metadata": {
            "tags": []
          }
        }
      ]
    },
    {
      "cell_type": "code",
      "metadata": {
        "id": "gXZyEoZofipp",
        "colab_type": "code",
        "outputId": "d028e27a-28ee-491f-acfa-d6e60a37f79f",
        "colab": {
          "base_uri": "https://localhost:8080/",
          "height": 267
        }
      },
      "source": [
        "fake2 = pd.Series(\n",
        "    [1, 1, 1, 1, 1, 1, 1, 1, 1, 1, 1, 1, 1, 1, 1, 1, 1, 1, 1, 1, 1, 1, 1, 1,\n",
        "     2, 2, 2, \n",
        "     3, 3, 3,\n",
        "     4, 4,\n",
        "     5, 5, 5,\n",
        "     6, 6, 6, 6,\n",
        "     7, 7, 7, 7, 7,\n",
        "     8, 8, 8, 8,\n",
        "     9, 9, 9, 9, \n",
        "     10, 10, 10, 10, 10, 10, 10, 10, 10, 10, 10, 10, 10, 10, 10, 10, 10, 10])\n",
        "\n",
        "fake2.value_counts().sort_index().plot.bar(color='C1', width=0.9);"
      ],
      "execution_count": 13,
      "outputs": [
        {
          "output_type": "display_data",
          "data": {
            "image/png": "[encoded data removed]",
            "text/plain": [
              "<Figure size 432x288 with 1 Axes>"
            ]
          },
          "metadata": {
            "tags": []
          }
        }
      ]
    },
    {
      "cell_type": "code",
      "metadata": {
        "id": "pW5gAMPGBJ5r",
        "colab_type": "code",
        "colab": {}
      },
      "source": [
        "fake= pd.read_csv('https://raw.githubusercontent.com/fivethirtyeight/data/master/inconvenient-sequel/ratings.csv')"
      ],
      "execution_count": 0,
      "outputs": []
    },
    {
      "cell_type": "code",
      "metadata": {
        "id": "mrEIGsxafiux",
        "colab_type": "code",
        "outputId": "7fb940fb-5676-4e60-c28f-419a9b6deb5b",
        "colab": {
          "base_uri": "https://localhost:8080/",
          "height": 396
        }
      },
      "source": [
        "#set style sheet \n",
        "plt.style.use('fivethirtyeight')\n",
        "\n",
        "#creat fig and ax \n",
        "fig, ax = plt.subplots()\n",
        "\n",
        "#plot, color, and shape of bars\n",
        "ax.bar([1,2,3,4,5,6,7,8,9,10], height=fake, color='#ED713A', width=0.9)\n",
        "\n",
        "#figure back ground \n",
        "fig.set_facecolor(color='None')\n",
        "\n",
        "#axis back ground \n",
        "ax.set_facecolor(color=\"None\")\n",
        "\n",
        "#fixing grid\n",
        "ax.set_xticks([1,2,3,4,5,6,7,8,9,10])\n",
        "ax.set_yticks([0,10,20,30,40])\n",
        "\n",
        "#Font\n",
        "import matplotlib.font_manager\n",
        "csfont = {'fontname':'Arial'}\n",
        "dsfont={'fontname':'Times New Roman'}\n",
        "\n",
        "#labels\n",
        "ax.set_xticklabels(range(1,11,1), dsfont, fontsize=8, alpha=.3)\n",
        "ax.set_yticklabels([0,10,20,30,\"40%\"], dsfont, fontsize=8, alpha=.3)\n",
        "\n",
        "#labels\n",
        "ax.set_ylabel('Percent of Total Votes', csfont, fontsize=9, fontweight= 'bold', )\n",
        "ax.set_xlabel('Rating', csfont, fontsize=9, fontweight='bold')\n",
        "\n",
        "#spines\n",
        "ax.spines['right'].set_visible(False)\n",
        "\n",
        "#titles\n",
        "ax.set_title(\"'An Inconvenient Sequel: Truth to Power' is divisive\", fontsize=13, x=.36, y=1.24, fontweight='bold')\n",
        "ax.text(s='IMDb rating for the film as of Aug.29', y=48, x=-1.4, fontsize=11)\n",
        "\n",
        "#subtitles\n",
        "ax.text(s=\"FiveThirtyEight\".format(dsfont), y=-10, x=-1.4, fontsize=8,alpha=.3)\n",
        "ax.text(s='SOURCE:IMDb'.format(dsfont), y=-10, x=9.4, fontsize=8, alpha=.3)\n",
        "\n",
        "\n",
        "plt.show()"
      ],
      "execution_count": 15,
      "outputs": [
        {
          "output_type": "display_data",
          "data": {
            "image/png": "[encoded data removed]",
            "text/plain": [
              "<Figure size 432x288 with 1 Axes>"
            ]
          },
          "metadata": {
            "tags": []
          }
        }
      ]
    },
    {
      "cell_type": "code",
      "metadata": {
        "id": "PdcrAs4Pfi0u",
        "colab_type": "code",
        "colab": {
          "base_uri": "https://localhost:8080/",
          "height": 355
        },
        "outputId": "b2b12e70-1c61-4144-b69b-733c4a21b3aa"
      },
      "source": [
        "display(example)"
      ],
      "execution_count": 16,
      "outputs": [
        {
          "output_type": "display_data",
          "data": {
            "text/html": [
              "<img src=\"https://fivethirtyeight.com/wp-content/uploads/2017/09/mehtahickey-inconvenient-0830-1.png\" width=\"400\"/>"
            ],
            "text/plain": [
              "<IPython.core.display.Image object>"
            ]
          },
          "metadata": {
            "tags": []
          }
        }
      ]
    },
    {
      "cell_type": "code",
      "metadata": {
        "id": "5BknMNEmfi8a",
        "colab_type": "code",
        "colab": {
          "base_uri": "https://localhost:8080/",
          "height": 780
        },
        "outputId": "6e9fcaee-5ed4-4dc2-fe57-c33ad195fe56"
      },
      "source": [
        "#graph I am going to try to copy\n",
        "\n",
        "url2 = 'https://fivethirtyeight.com/wp-content/uploads/2015/11/pierson-datalab-study_drugs-1.png?w=305'\n",
        "example2 = Image(url=url2, width=400)\n",
        "\n",
        "display(example2)"
      ],
      "execution_count": 17,
      "outputs": [
        {
          "output_type": "display_data",
          "data": {
            "text/html": [
              "<img src=\"https://fivethirtyeight.com/wp-content/uploads/2015/11/pierson-datalab-study_drugs-1.png?w=305\" width=\"400\"/>"
            ],
            "text/plain": [
              "<IPython.core.display.Image object>"
            ]
          },
          "metadata": {
            "tags": []
          }
        }
      ]
    },
    {
      "cell_type": "code",
      "metadata": {
        "id": "MI_oXGFPfjB0",
        "colab_type": "code",
        "colab": {
          "base_uri": "https://localhost:8080/",
          "height": 285
        },
        "outputId": "8c666387-94f2-42a1-872a-d731b6f5a9c3"
      },
      "source": [
        "#making a mock up of data to replicate above table\n",
        "fake3=pd.Series([12,12,15,15,15,15,18,18,18,18,18,18,18,18,18,18,18,18,18,18,18,18,23,23,23,23,23,23,23,23,23,23,23,23,23,23,23,26,26,26,26,26,26,26,26,26,26,26,35])\n",
        "fake4=pd.Series([18,18,18,18,18,18,18,18,18,18,18,18,18,18,18,18,18,18])\n",
        "\n",
        "\n",
        "fake3.value_counts().sort_index().plot.bar(color='#008FD5', width=0.4);"
      ],
      "execution_count": 18,
      "outputs": [
        {
          "output_type": "display_data",
          "data": {
            "image/png": "[encoded data removed]",
            "text/plain": [
              "<Figure size 432x288 with 1 Axes>"
            ]
          },
          "metadata": {
            "tags": []
          }
        }
      ]
    },
    {
      "cell_type": "code",
      "metadata": {
        "id": "GHZT-rdRfjPm",
        "colab_type": "code",
        "colab": {
          "base_uri": "https://localhost:8080/",
          "height": 794
        },
        "outputId": "a2400c76-538a-441b-9257-779932a36915"
      },
      "source": [
        "#style\n",
        "plt.style.use('fivethirtyeight')\n",
        "\n",
        "#fig and ax\n",
        "fig, ax= plt.subplots()\n",
        "\n",
        "#plot data\n",
        "ax.bar(fake3.value_counts(), height=16, color='#008FD5')\n",
        "ax.bar(fake4.value_counts(), height= 16, color='#ACC9D4')\n",
        "\n",
        "#setfontchange\n",
        "import matplotlib.font_manager\n",
        "csfont = {'fontname':'Arial'}\n",
        "\n",
        "#set ticks\n",
        "ax.set_xticks([12,15,18,23,26,35])\n",
        "ax.set_yticks([0,2,4,6,8,10,12,14])\n",
        "\n",
        "#turn on axis\n",
        "ax.set_axis_on()\n",
        "\n",
        "#set tick labels\n",
        "ax.set_xticklabels(['12-14', '15-17', '18-22','23-25','26-34', '35+'])\n",
        "ax.set_yticklabels([0,2,4,6,8,10,12,'14%'])\n",
        "\n",
        "#set lables\n",
        "ax.set_xlabel('Age')\n",
        "\n",
        "#set titles\n",
        "ax.text(s='Young Adults Use', y=44, x=8, fontsize=13, fontweight='bold')\n",
        "ax.text(s='Adderall The Most', y=42, x=8, fontsize=13, fontweight='bold')\n",
        "ax.text(s='Percentage reporting to have', y=40, x=8, fontsize=11)\n",
        "ax.text(s='ever taken Adderall non-', y=38, x=8, fontsize=11)\n",
        "ax.text(s='medically, by age-group', y=36, x=8, fontsize=11)\n",
        "\n",
        "#set subtitles\n",
        "ax.text(s=\"FiveThirtyEight\".format(csfont), y=-10, x=8, fontsize=12,alpha=.3)\n",
        "ax.text(s='SOURCE:NSDUH 2013'.format(csfont), y=-10, x=28, fontsize=12, alpha=.3)\n",
        "\n",
        "#set in graph labels\n",
        "ax.text(s='In College', y=20, x=17, fontsize=13, fontweight='bold', color='#008FD5')\n",
        "ax.text(s='Not In College', y=15, x=13, fontsize=13, fontweight='bold', color='#ACC9D4')\n",
        "plt.show()"
      ],
      "execution_count": 35,
      "outputs": [
        {
          "output_type": "display_data",
          "data": {
            "image/png": "[encoded data removed]",
            "text/plain": [
              "<Figure size 432x288 with 1 Axes>"
            ]
          },
          "metadata": {
            "tags": []
          }
        }
      ]
    },
    {
      "cell_type": "code",
      "metadata": {
        "id": "ntacEtgGfjYV",
        "colab_type": "code",
        "colab": {}
      },
      "source": [
        ""
      ],
      "execution_count": 0,
      "outputs": []
    },
    {
      "cell_type": "code",
      "metadata": {
        "id": "AwV8U-t5fjVn",
        "colab_type": "code",
        "colab": {}
      },
      "source": [
        ""
      ],
      "execution_count": 0,
      "outputs": []
    },
    {
      "cell_type": "code",
      "metadata": {
        "id": "nc30xdrdfjTp",
        "colab_type": "code",
        "colab": {}
      },
      "source": [
        ""
      ],
      "execution_count": 0,
      "outputs": []
    },
    {
      "cell_type": "code",
      "metadata": {
        "id": "Z-ewfj7QfjOE",
        "colab_type": "code",
        "colab": {}
      },
      "source": [
        ""
      ],
      "execution_count": 0,
      "outputs": []
    },
    {
      "cell_type": "code",
      "metadata": {
        "id": "AborD0mufjIE",
        "colab_type": "code",
        "colab": {}
      },
      "source": [
        ""
      ],
      "execution_count": 0,
      "outputs": []
    },
    {
      "cell_type": "code",
      "metadata": {
        "id": "LKeLKShNfjGe",
        "colab_type": "code",
        "colab": {}
      },
      "source": [
        ""
      ],
      "execution_count": 0,
      "outputs": []
    },
    {
      "cell_type": "code",
      "metadata": {
        "id": "rBNUjQe5fi_v",
        "colab_type": "code",
        "colab": {}
      },
      "source": [
        ""
      ],
      "execution_count": 0,
      "outputs": []
    },
    {
      "cell_type": "code",
      "metadata": {
        "id": "SzPc7Dr6fi7A",
        "colab_type": "code",
        "colab": {}
      },
      "source": [
        ""
      ],
      "execution_count": 0,
      "outputs": []
    },
    {
      "cell_type": "code",
      "metadata": {
        "id": "WTY5bopofi5W",
        "colab_type": "code",
        "colab": {}
      },
      "source": [
        ""
      ],
      "execution_count": 0,
      "outputs": []
    },
    {
      "cell_type": "code",
      "metadata": {
        "id": "rDiMODlefixv",
        "colab_type": "code",
        "colab": {}
      },
      "source": [
        ""
      ],
      "execution_count": 0,
      "outputs": []
    },
    {
      "cell_type": "code",
      "metadata": {
        "id": "q3YOS2tNfisj",
        "colab_type": "code",
        "colab": {}
      },
      "source": [
        ""
      ],
      "execution_count": 0,
      "outputs": []
    },
    {
      "cell_type": "markdown",
      "metadata": {
        "id": "0wSrBzmJyWaV",
        "colab_type": "text"
      },
      "source": [
        "# STRETCH OPTIONS\n",
        "\n",
        "### 1) Reproduce one of the following using the matplotlib or seaborn libraries:\n",
        "\n",
        "- [thanksgiving-2015](https://fivethirtyeight.com/features/heres-what-your-part-of-america-eats-on-thanksgiving/) \n",
        "- [candy-power-ranking](https://fivethirtyeight.com/features/the-ultimate-halloween-candy-power-ranking/) \n",
        "- or another example of your choice!\n",
        "\n",
        "### 2) Make more charts!\n",
        "\n",
        "Choose a chart you want to make, from [Visual Vocabulary - Vega Edition](http://ft.com/vocabulary).\n",
        "\n",
        "Find the chart in an example gallery of a Python data visualization library:\n",
        "- [Seaborn](http://seaborn.pydata.org/examples/index.html)\n",
        "- [Altair](https://altair-viz.github.io/gallery/index.html)\n",
        "- [Matplotlib](https://matplotlib.org/gallery.html)\n",
        "- [Pandas](https://pandas.pydata.org/pandas-docs/stable/visualization.html)\n",
        "\n",
        "Reproduce the chart. [Optionally, try the \"Ben Franklin Method.\"](https://docs.google.com/document/d/1ubOw9B3Hfip27hF2ZFnW3a3z9xAgrUDRReOEo-FHCVs/edit) If you want, experiment and make changes.\n",
        "\n",
        "Take notes. Consider sharing your work with your cohort!"
      ]
    },
    {
      "cell_type": "code",
      "metadata": {
        "id": "dRJkKftiy5BJ",
        "colab_type": "code",
        "colab": {}
      },
      "source": [
        "# More Work Here"
      ],
      "execution_count": 0,
      "outputs": []
    }
  ]
}