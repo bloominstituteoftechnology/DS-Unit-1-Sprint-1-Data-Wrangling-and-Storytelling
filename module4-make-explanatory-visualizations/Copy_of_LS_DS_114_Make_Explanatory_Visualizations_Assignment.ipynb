{
  "nbformat": 4,
  "nbformat_minor": 0,
  "metadata": {
    "colab": {
      "name": "Copy of LS_DS_114_Make_Explanatory_Visualizations_Assignment.ipynb",
      "provenance": [],
      "collapsed_sections": [],
      "include_colab_link": true
    },
    "language_info": {
      "codemirror_mode": {
        "name": "ipython",
        "version": 3
      },
      "file_extension": ".py",
      "mimetype": "text/x-python",
      "name": "python",
      "nbconvert_exporter": "python",
      "pygments_lexer": "ipython3",
      "version": "3.7.1"
    },
    "kernelspec": {
      "display_name": "Python 3",
      "language": "python",
      "name": "python3"
    }
  },
  "cells": [
    {
      "cell_type": "markdown",
      "metadata": {
        "id": "view-in-github",
        "colab_type": "text"
      },
      "source": [
        "<a href=\"https://colab.research.google.com/github/tyleretheridge/DS-Unit-1-Sprint-1-Data-Wrangling-and-Storytelling/blob/master/module4-make-explanatory-visualizations/Copy_of_LS_DS_114_Make_Explanatory_Visualizations_Assignment.ipynb\" target=\"_parent\"><img src=\"https://colab.research.google.com/assets/colab-badge.svg\" alt=\"Open In Colab\"/></a>"
      ]
    },
    {
      "cell_type": "markdown",
      "metadata": {
        "colab_type": "text",
        "id": "NMEswXWh9mqw"
      },
      "source": [
        "Lambda School Data Science\n",
        "\n",
        "*Unit 1, Sprint 1, Module 4*\n",
        "\n",
        "---\n",
        "\n",
        "# ASSIGNMENT\n",
        "\n",
        "### 1) Replicate the lesson code. I recommend that you [do not copy-paste](https://docs.google.com/document/d/1ubOw9B3Hfip27hF2ZFnW3a3z9xAgrUDRReOEo-FHCVs/edit).\n",
        "\n",
        "Get caught up to where we got our example in class and then try and take things further. How close to \"pixel perfect\" can you make the lecture graph?\n",
        "\n",
        "Once you have something that you're proud of, share your graph in the cohort channel and move on to the second exercise.\n",
        "\n",
        "### 2) Reproduce another example from [FiveThityEight's shared data repository](https://data.fivethirtyeight.com/).\n",
        "\n",
        "**WARNING**: There are a lot of very custom graphs and tables at the above link. I **highly** recommend not trying to reproduce any that look like a table of values or something really different from the graph types that we are already familiar with. Search through the posts until you find a graph type that you are more or less familiar with: histogram, bar chart, stacked bar chart, line chart, [seaborn relplot](https://seaborn.pydata.org/generated/seaborn.relplot.html), etc. Recreating some of the graphics that 538 uses would be a lot easier in Adobe photoshop/illustrator than with matplotlib. \n",
        "\n",
        "- If you put in some time to find a graph that looks \"easy\" to replicate you'll probably find that it's not as easy as you thought. \n",
        "\n",
        "- If you start with a graph that looks hard to replicate you'll probably run up against a brick wall and be disappointed with your afternoon.\n",
        "\n",
        "\n",
        "\n",
        "\n",
        "\n",
        "\n",
        "\n",
        "\n",
        "\n",
        "\n"
      ]
    },
    {
      "cell_type": "code",
      "metadata": {
        "id": "7SY1ZHawyZvz",
        "colab_type": "code",
        "colab": {}
      },
      "source": [
        "# Your Work Here\n",
        "import pandas as pd\n",
        "import matplotlib.pyplot as plt\n",
        "import numpy as np\n"
      ],
      "execution_count": 0,
      "outputs": []
    },
    {
      "cell_type": "markdown",
      "metadata": {
        "id": "Og1trUI81SGO",
        "colab_type": "text"
      },
      "source": [
        "#Source\n",
        "[FiveThirtyEight Article](https://https://fivethirtyeight.com/features/american-chess-is-great-again/)"
      ]
    },
    {
      "cell_type": "code",
      "metadata": {
        "id": "cj7dH1o01cym",
        "colab_type": "code",
        "colab": {
          "base_uri": "https://localhost:8080/",
          "height": 625
        },
        "outputId": "679bc1b9-a077-47ad-eb63-64a05160f3d5"
      },
      "source": [
        "from IPython.display import display, Image\n",
        "\n",
        "url = 'https://fivethirtyeight.com/wp-content/uploads/2017/08/roeder-uschess-1.png?w=1024'\n",
        "example = Image(url=url, width=500)\n",
        "\n",
        "display(example)"
      ],
      "execution_count": 180,
      "outputs": [
        {
          "output_type": "display_data",
          "data": {
            "text/html": [
              "<img src=\"https://fivethirtyeight.com/wp-content/uploads/2017/08/roeder-uschess-1.png?w=1024\" width=\"500\"/>"
            ],
            "text/plain": [
              "<IPython.core.display.Image object>"
            ]
          },
          "metadata": {
            "tags": []
          }
        }
      ]
    },
    {
      "cell_type": "markdown",
      "metadata": {
        "id": "yKMcFrWp1l7a",
        "colab_type": "text"
      },
      "source": [
        "#Replicate"
      ]
    },
    {
      "cell_type": "code",
      "metadata": {
        "id": "-_j0SZhNuQ6r",
        "colab_type": "code",
        "colab": {
          "base_uri": "https://localhost:8080/",
          "height": 204
        },
        "outputId": "11298037-961b-4102-9599-4c39d228d481"
      },
      "source": [
        "# Read in Transfers List\n",
        "df = pd.read_csv('https://raw.githubusercontent.com/fivethirtyeight/data/master/chess-transfers/transfers.csv')\n",
        "df.head()"
      ],
      "execution_count": 96,
      "outputs": [
        {
          "output_type": "execute_result",
          "data": {
            "text/html": [
              "<div>\n",
              "<style scoped>\n",
              "    .dataframe tbody tr th:only-of-type {\n",
              "        vertical-align: middle;\n",
              "    }\n",
              "\n",
              "    .dataframe tbody tr th {\n",
              "        vertical-align: top;\n",
              "    }\n",
              "\n",
              "    .dataframe thead th {\n",
              "        text-align: right;\n",
              "    }\n",
              "</style>\n",
              "<table border=\"1\" class=\"dataframe\">\n",
              "  <thead>\n",
              "    <tr style=\"text-align: right;\">\n",
              "      <th></th>\n",
              "      <th>url</th>\n",
              "      <th>ID</th>\n",
              "      <th>Federation</th>\n",
              "      <th>Form.Fed</th>\n",
              "      <th>Transfer Date</th>\n",
              "    </tr>\n",
              "  </thead>\n",
              "  <tbody>\n",
              "    <tr>\n",
              "      <th>0</th>\n",
              "      <td>https://ratings.fide.com/fedchange.phtml?year=...</td>\n",
              "      <td>2019221</td>\n",
              "      <td>USA</td>\n",
              "      <td>PHI</td>\n",
              "      <td>12/15/00</td>\n",
              "    </tr>\n",
              "    <tr>\n",
              "      <th>1</th>\n",
              "      <td>https://ratings.fide.com/fedchange.phtml?year=...</td>\n",
              "      <td>14401754</td>\n",
              "      <td>BIH</td>\n",
              "      <td>CRO</td>\n",
              "      <td>1/31/00</td>\n",
              "    </tr>\n",
              "    <tr>\n",
              "      <th>2</th>\n",
              "      <td>https://ratings.fide.com/fedchange.phtml?year=...</td>\n",
              "      <td>14401762</td>\n",
              "      <td>BIH</td>\n",
              "      <td>YUG</td>\n",
              "      <td>1/31/00</td>\n",
              "    </tr>\n",
              "    <tr>\n",
              "      <th>3</th>\n",
              "      <td>https://ratings.fide.com/fedchange.phtml?year=...</td>\n",
              "      <td>2019221</td>\n",
              "      <td>USA</td>\n",
              "      <td>PHI</td>\n",
              "      <td>12/15/00</td>\n",
              "    </tr>\n",
              "    <tr>\n",
              "      <th>4</th>\n",
              "      <td>https://ratings.fide.com/fedchange.phtml?year=...</td>\n",
              "      <td>14401754</td>\n",
              "      <td>BIH</td>\n",
              "      <td>CRO</td>\n",
              "      <td>1/31/00</td>\n",
              "    </tr>\n",
              "  </tbody>\n",
              "</table>\n",
              "</div>"
            ],
            "text/plain": [
              "                                                 url  ...  Transfer Date\n",
              "0  https://ratings.fide.com/fedchange.phtml?year=...  ...       12/15/00\n",
              "1  https://ratings.fide.com/fedchange.phtml?year=...  ...        1/31/00\n",
              "2  https://ratings.fide.com/fedchange.phtml?year=...  ...        1/31/00\n",
              "3  https://ratings.fide.com/fedchange.phtml?year=...  ...       12/15/00\n",
              "4  https://ratings.fide.com/fedchange.phtml?year=...  ...        1/31/00\n",
              "\n",
              "[5 rows x 5 columns]"
            ]
          },
          "metadata": {
            "tags": []
          },
          "execution_count": 96
        }
      ]
    },
    {
      "cell_type": "code",
      "metadata": {
        "id": "S6qr1B6gv4BQ",
        "colab_type": "code",
        "colab": {}
      },
      "source": [
        "# Remove extraneous columns\n",
        "df = df.drop(['url','Transfer Date'], axis=1)"
      ],
      "execution_count": 0,
      "outputs": []
    },
    {
      "cell_type": "code",
      "metadata": {
        "id": "E7RJMa830f6h",
        "colab_type": "code",
        "colab": {
          "base_uri": "https://localhost:8080/",
          "height": 221
        },
        "outputId": "93094a58-5aa2-4d3c-b34c-d6053a1d103d"
      },
      "source": [
        "print(df.shape)\n",
        "df.head()"
      ],
      "execution_count": 98,
      "outputs": [
        {
          "output_type": "stream",
          "text": [
            "(932, 3)\n"
          ],
          "name": "stdout"
        },
        {
          "output_type": "execute_result",
          "data": {
            "text/html": [
              "<div>\n",
              "<style scoped>\n",
              "    .dataframe tbody tr th:only-of-type {\n",
              "        vertical-align: middle;\n",
              "    }\n",
              "\n",
              "    .dataframe tbody tr th {\n",
              "        vertical-align: top;\n",
              "    }\n",
              "\n",
              "    .dataframe thead th {\n",
              "        text-align: right;\n",
              "    }\n",
              "</style>\n",
              "<table border=\"1\" class=\"dataframe\">\n",
              "  <thead>\n",
              "    <tr style=\"text-align: right;\">\n",
              "      <th></th>\n",
              "      <th>ID</th>\n",
              "      <th>Federation</th>\n",
              "      <th>Form.Fed</th>\n",
              "    </tr>\n",
              "  </thead>\n",
              "  <tbody>\n",
              "    <tr>\n",
              "      <th>0</th>\n",
              "      <td>2019221</td>\n",
              "      <td>USA</td>\n",
              "      <td>PHI</td>\n",
              "    </tr>\n",
              "    <tr>\n",
              "      <th>1</th>\n",
              "      <td>14401754</td>\n",
              "      <td>BIH</td>\n",
              "      <td>CRO</td>\n",
              "    </tr>\n",
              "    <tr>\n",
              "      <th>2</th>\n",
              "      <td>14401762</td>\n",
              "      <td>BIH</td>\n",
              "      <td>YUG</td>\n",
              "    </tr>\n",
              "    <tr>\n",
              "      <th>3</th>\n",
              "      <td>2019221</td>\n",
              "      <td>USA</td>\n",
              "      <td>PHI</td>\n",
              "    </tr>\n",
              "    <tr>\n",
              "      <th>4</th>\n",
              "      <td>14401754</td>\n",
              "      <td>BIH</td>\n",
              "      <td>CRO</td>\n",
              "    </tr>\n",
              "  </tbody>\n",
              "</table>\n",
              "</div>"
            ],
            "text/plain": [
              "         ID Federation Form.Fed\n",
              "0   2019221        USA      PHI\n",
              "1  14401754        BIH      CRO\n",
              "2  14401762        BIH      YUG\n",
              "3   2019221        USA      PHI\n",
              "4  14401754        BIH      CRO"
            ]
          },
          "metadata": {
            "tags": []
          },
          "execution_count": 98
        }
      ]
    },
    {
      "cell_type": "code",
      "metadata": {
        "id": "fshRUJsw0xLH",
        "colab_type": "code",
        "colab": {
          "base_uri": "https://localhost:8080/",
          "height": 204
        },
        "outputId": "fd1624a6-9cb6-4b83-a2f7-591757f89de1"
      },
      "source": [
        "# Filter dataframe to only include USA Transfers\n",
        "condition1 = df['Federation'] == 'USA'\n",
        "us_transfers = df[condition]\n",
        "us_transfers.head()"
      ],
      "execution_count": 99,
      "outputs": [
        {
          "output_type": "execute_result",
          "data": {
            "text/html": [
              "<div>\n",
              "<style scoped>\n",
              "    .dataframe tbody tr th:only-of-type {\n",
              "        vertical-align: middle;\n",
              "    }\n",
              "\n",
              "    .dataframe tbody tr th {\n",
              "        vertical-align: top;\n",
              "    }\n",
              "\n",
              "    .dataframe thead th {\n",
              "        text-align: right;\n",
              "    }\n",
              "</style>\n",
              "<table border=\"1\" class=\"dataframe\">\n",
              "  <thead>\n",
              "    <tr style=\"text-align: right;\">\n",
              "      <th></th>\n",
              "      <th>ID</th>\n",
              "      <th>Federation</th>\n",
              "      <th>Form.Fed</th>\n",
              "    </tr>\n",
              "  </thead>\n",
              "  <tbody>\n",
              "    <tr>\n",
              "      <th>0</th>\n",
              "      <td>2019221</td>\n",
              "      <td>USA</td>\n",
              "      <td>PHI</td>\n",
              "    </tr>\n",
              "    <tr>\n",
              "      <th>3</th>\n",
              "      <td>2019221</td>\n",
              "      <td>USA</td>\n",
              "      <td>PHI</td>\n",
              "    </tr>\n",
              "    <tr>\n",
              "      <th>10</th>\n",
              "      <td>2019523</td>\n",
              "      <td>USA</td>\n",
              "      <td>AZE</td>\n",
              "    </tr>\n",
              "    <tr>\n",
              "      <th>14</th>\n",
              "      <td>13601105</td>\n",
              "      <td>USA</td>\n",
              "      <td>GEO</td>\n",
              "    </tr>\n",
              "    <tr>\n",
              "      <th>23</th>\n",
              "      <td>2019574</td>\n",
              "      <td>USA</td>\n",
              "      <td>RUS</td>\n",
              "    </tr>\n",
              "  </tbody>\n",
              "</table>\n",
              "</div>"
            ],
            "text/plain": [
              "          ID Federation Form.Fed\n",
              "0    2019221        USA      PHI\n",
              "3    2019221        USA      PHI\n",
              "10   2019523        USA      AZE\n",
              "14  13601105        USA      GEO\n",
              "23   2019574        USA      RUS"
            ]
          },
          "metadata": {
            "tags": []
          },
          "execution_count": 99
        }
      ]
    },
    {
      "cell_type": "code",
      "metadata": {
        "id": "Yg1HOeJY1pER",
        "colab_type": "code",
        "colab": {}
      },
      "source": [
        "#Filter Remanining Countries to include those with > 1 transfers\n",
        "country_counts = us_transfers['Form.Fed'].value_counts().rename_axis('Alpha-3 code').reset_index(name='Number of transfers')"
      ],
      "execution_count": 0,
      "outputs": []
    },
    {
      "cell_type": "code",
      "metadata": {
        "id": "y9n5Mutj2VXP",
        "colab_type": "code",
        "colab": {
          "base_uri": "https://localhost:8080/",
          "height": 514
        },
        "outputId": "63925a95-7694-4f97-bb27-5ca6088cd85d"
      },
      "source": [
        "condition2 = country_counts['Number of transfers'] > 1\n",
        "top_countries = country_counts[condition2]\n",
        "top_countries.sort_values(by=['Number of transfers','Alpha-3 code'])\n",
        "top_countries"
      ],
      "execution_count": 107,
      "outputs": [
        {
          "output_type": "execute_result",
          "data": {
            "text/html": [
              "<div>\n",
              "<style scoped>\n",
              "    .dataframe tbody tr th:only-of-type {\n",
              "        vertical-align: middle;\n",
              "    }\n",
              "\n",
              "    .dataframe tbody tr th {\n",
              "        vertical-align: top;\n",
              "    }\n",
              "\n",
              "    .dataframe thead th {\n",
              "        text-align: right;\n",
              "    }\n",
              "</style>\n",
              "<table border=\"1\" class=\"dataframe\">\n",
              "  <thead>\n",
              "    <tr style=\"text-align: right;\">\n",
              "      <th></th>\n",
              "      <th>Alpha-3 code</th>\n",
              "      <th>Number of transfers</th>\n",
              "    </tr>\n",
              "  </thead>\n",
              "  <tbody>\n",
              "    <tr>\n",
              "      <th>0</th>\n",
              "      <td>IND</td>\n",
              "      <td>11</td>\n",
              "    </tr>\n",
              "    <tr>\n",
              "      <th>1</th>\n",
              "      <td>ARM</td>\n",
              "      <td>8</td>\n",
              "    </tr>\n",
              "    <tr>\n",
              "      <th>2</th>\n",
              "      <td>CUB</td>\n",
              "      <td>7</td>\n",
              "    </tr>\n",
              "    <tr>\n",
              "      <th>3</th>\n",
              "      <td>UKR</td>\n",
              "      <td>7</td>\n",
              "    </tr>\n",
              "    <tr>\n",
              "      <th>4</th>\n",
              "      <td>RUS</td>\n",
              "      <td>7</td>\n",
              "    </tr>\n",
              "    <tr>\n",
              "      <th>5</th>\n",
              "      <td>PHI</td>\n",
              "      <td>6</td>\n",
              "    </tr>\n",
              "    <tr>\n",
              "      <th>6</th>\n",
              "      <td>GEO</td>\n",
              "      <td>4</td>\n",
              "    </tr>\n",
              "    <tr>\n",
              "      <th>7</th>\n",
              "      <td>BLR</td>\n",
              "      <td>3</td>\n",
              "    </tr>\n",
              "    <tr>\n",
              "      <th>8</th>\n",
              "      <td>AZE</td>\n",
              "      <td>3</td>\n",
              "    </tr>\n",
              "    <tr>\n",
              "      <th>9</th>\n",
              "      <td>MGL</td>\n",
              "      <td>2</td>\n",
              "    </tr>\n",
              "    <tr>\n",
              "      <th>10</th>\n",
              "      <td>FID</td>\n",
              "      <td>2</td>\n",
              "    </tr>\n",
              "    <tr>\n",
              "      <th>11</th>\n",
              "      <td>LTU</td>\n",
              "      <td>2</td>\n",
              "    </tr>\n",
              "    <tr>\n",
              "      <th>12</th>\n",
              "      <td>COL</td>\n",
              "      <td>2</td>\n",
              "    </tr>\n",
              "    <tr>\n",
              "      <th>13</th>\n",
              "      <td>LAT</td>\n",
              "      <td>2</td>\n",
              "    </tr>\n",
              "    <tr>\n",
              "      <th>14</th>\n",
              "      <td>POL</td>\n",
              "      <td>2</td>\n",
              "    </tr>\n",
              "  </tbody>\n",
              "</table>\n",
              "</div>"
            ],
            "text/plain": [
              "   Alpha-3 code  Number of transfers\n",
              "0           IND                   11\n",
              "1           ARM                    8\n",
              "2           CUB                    7\n",
              "3           UKR                    7\n",
              "4           RUS                    7\n",
              "5           PHI                    6\n",
              "6           GEO                    4\n",
              "7           BLR                    3\n",
              "8           AZE                    3\n",
              "9           MGL                    2\n",
              "10          FID                    2\n",
              "11          LTU                    2\n",
              "12          COL                    2\n",
              "13          LAT                    2\n",
              "14          POL                    2"
            ]
          },
          "metadata": {
            "tags": []
          },
          "execution_count": 107
        }
      ]
    },
    {
      "cell_type": "code",
      "metadata": {
        "id": "viOIfyiiFsqy",
        "colab_type": "code",
        "colab": {}
      },
      "source": [
        "countries = ['India', 'Armenia', 'Cuba', 'Russia', 'Ukraine', 'Philippines', 'Georgia', 'Azerbaijan', 'Belarus', 'Colombia']\n",
        "transfers = [11,8,7,7,7,6,4,3,3,2]"
      ],
      "execution_count": 0,
      "outputs": []
    },
    {
      "cell_type": "markdown",
      "metadata": {
        "id": "3-KfS11F91in",
        "colab_type": "text"
      },
      "source": [
        "##Graph"
      ]
    },
    {
      "cell_type": "code",
      "metadata": {
        "id": "-CRc9AZp94sR",
        "colab_type": "code",
        "colab": {
          "base_uri": "https://localhost:8080/",
          "height": 325
        },
        "outputId": "47f19197-420d-48dd-dd3f-d12a671cfba3"
      },
      "source": [
        "fig,ax = plt.subplots()\n",
        "plt.style.use('fivethirtyeight')\n",
        "\n",
        "#Create graph\n",
        "ax.barh(countries, transfers,color='#F85CCA')\n",
        "\n",
        "# Set graph bg color\n",
        "fig.set_facecolor('None')\n",
        "ax.set_facecolor('None')\n",
        "\n",
        "# Invert graph direction\n",
        "ax.invert_yaxis()\n",
        "\n",
        "#Turn off grid\n",
        "plt.grid(axis='y')\n",
        "\n",
        "# Set title\n",
        "ax.set_title('Countries with highest number of transfers to the U.S.',\n",
        "             loc='left', fontsize=10,fontweight='bold', position=(-0.215,1.2))\n",
        "\n",
        "# Set xlabels\n",
        "ax.set_xlabel('Number of transfers', fontsize=10, fontweight='bold')  \n",
        "ax.xaxis.set_label_position('top') \n",
        "\n",
        "# Set xticks\n",
        "ax.set_xticks(range(0,14,2),)\n",
        "ax.xaxis.tick_top()\n",
        "ax.set_xticklabels([0,2,4,6,8,10,12], color='#C8C8C8', fontsize=9)\n",
        "\n",
        "# Set yticks\n",
        "ax.set_yticklabels(countries,fontsize=10,position=(-0.2,0), ha='left')\n",
        "\n",
        "# Adjust Spines\n",
        "ax.spines['left'].set_color('black')\n",
        "ax.spines['left'].set_linewidth(0.5)\n",
        "ax.spines['right'].set_visible(False)\n",
        "ax.spines['top'].set_visible(False)\n",
        "ax.spines['bottom'].set_visible(False)\n",
        "\n",
        "#Graph\n",
        "plt.show()"
      ],
      "execution_count": 177,
      "outputs": [
        {
          "output_type": "display_data",
          "data": {
            "image/png": "[encoded data removed]",
            "text/plain": [
              "<Figure size 432x288 with 1 Axes>"
            ]
          },
          "metadata": {
            "tags": []
          }
        }
      ]
    },
    {
      "cell_type": "code",
      "metadata": {
        "id": "8p1f84UlO6pn",
        "colab_type": "code",
        "colab": {
          "base_uri": "https://localhost:8080/",
          "height": 625
        },
        "outputId": "20cd95fe-39e6-4ca5-8b70-5c59216bcd79"
      },
      "source": [
        "display(example)"
      ],
      "execution_count": 181,
      "outputs": [
        {
          "output_type": "display_data",
          "data": {
            "text/html": [
              "<img src=\"https://fivethirtyeight.com/wp-content/uploads/2017/08/roeder-uschess-1.png?w=1024\" width=\"500\"/>"
            ],
            "text/plain": [
              "<IPython.core.display.Image object>"
            ]
          },
          "metadata": {
            "tags": []
          }
        }
      ]
    },
    {
      "cell_type": "markdown",
      "metadata": {
        "id": "0wSrBzmJyWaV",
        "colab_type": "text"
      },
      "source": [
        "# STRETCH OPTIONS\n",
        "\n",
        "### 1) Reproduce one of the following using the matplotlib or seaborn libraries:\n",
        "\n",
        "- [thanksgiving-2015](https://fivethirtyeight.com/features/heres-what-your-part-of-america-eats-on-thanksgiving/) \n",
        "- [candy-power-ranking](https://fivethirtyeight.com/features/the-ultimate-halloween-candy-power-ranking/) \n",
        "- or another example of your choice!\n",
        "\n",
        "### 2) Make more charts!\n",
        "\n",
        "Choose a chart you want to make, from [Visual Vocabulary - Vega Edition](http://ft.com/vocabulary).\n",
        "\n",
        "Find the chart in an example gallery of a Python data visualization library:\n",
        "- [Seaborn](http://seaborn.pydata.org/examples/index.html)\n",
        "- [Altair](https://altair-viz.github.io/gallery/index.html)\n",
        "- [Matplotlib](https://matplotlib.org/gallery.html)\n",
        "- [Pandas](https://pandas.pydata.org/pandas-docs/stable/visualization.html)\n",
        "\n",
        "Reproduce the chart. [Optionally, try the \"Ben Franklin Method.\"](https://docs.google.com/document/d/1ubOw9B3Hfip27hF2ZFnW3a3z9xAgrUDRReOEo-FHCVs/edit) If you want, experiment and make changes.\n",
        "\n",
        "Take notes. Consider sharing your work with your cohort!"
      ]
    },
    {
      "cell_type": "code",
      "metadata": {
        "id": "dRJkKftiy5BJ",
        "colab_type": "code",
        "colab": {}
      },
      "source": [
        "# More Work Here"
      ],
      "execution_count": 0,
      "outputs": []
    }
  ]
}