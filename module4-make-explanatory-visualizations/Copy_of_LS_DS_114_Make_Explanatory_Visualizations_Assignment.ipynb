{
  "nbformat": 4,
  "nbformat_minor": 0,
  "metadata": {
    "colab": {
      "name": "Copy of LS_DS_114_Make_Explanatory_Visualizations_Assignment.ipynb",
      "provenance": [],
      "collapsed_sections": [],
      "include_colab_link": true
    },
    "language_info": {
      "codemirror_mode": {
        "name": "ipython",
        "version": 3
      },
      "file_extension": ".py",
      "mimetype": "text/x-python",
      "name": "python",
      "nbconvert_exporter": "python",
      "pygments_lexer": "ipython3",
      "version": "3.7.1"
    },
    "kernelspec": {
      "display_name": "Python 3",
      "language": "python",
      "name": "python3"
    }
  },
  "cells": [
    {
      "cell_type": "markdown",
      "metadata": {
        "id": "view-in-github",
        "colab_type": "text"
      },
      "source": [
        "<a href=\"https://colab.research.google.com/github/willstauffernorris/DS-Unit-1-Sprint-1-Data-Wrangling-and-Storytelling/blob/master/module4-make-explanatory-visualizations/Copy_of_LS_DS_114_Make_Explanatory_Visualizations_Assignment.ipynb\" target=\"_parent\"><img src=\"https://colab.research.google.com/assets/colab-badge.svg\" alt=\"Open In Colab\"/></a>"
      ]
    },
    {
      "cell_type": "markdown",
      "metadata": {
        "colab_type": "text",
        "id": "NMEswXWh9mqw"
      },
      "source": [
        "Lambda School Data Science\n",
        "\n",
        "*Unit 1, Sprint 1, Module 4*\n",
        "\n",
        "---\n",
        "\n",
        "# ASSIGNMENT\n",
        "\n",
        "### 1) Replicate the lesson code. I recommend that you [do not copy-paste](https://docs.google.com/document/d/1ubOw9B3Hfip27hF2ZFnW3a3z9xAgrUDRReOEo-FHCVs/edit).\n",
        "\n",
        "Get caught up to where we got our example in class and then try and take things further. How close to \"pixel perfect\" can you make the lecture graph?\n",
        "\n",
        "Once you have something that you're proud of, share your graph in the cohort channel and move on to the second exercise.\n",
        "\n",
        "### 2) Reproduce another example from [FiveThityEight's shared data repository](https://data.fivethirtyeight.com/).\n",
        "\n",
        "**WARNING**: There are a lot of very custom graphs and tables at the above link. I **highly** recommend not trying to reproduce any that look like a table of values or something really different from the graph types that we are already familiar with. Search through the posts until you find a graph type that you are more or less familiar with: histogram, bar chart, stacked bar chart, line chart, [seaborn relplot](https://seaborn.pydata.org/generated/seaborn.relplot.html), etc. Recreating some of the graphics that 538 uses would be a lot easier in Adobe photoshop/illustrator than with matplotlib. \n",
        "\n",
        "- If you put in some time to find a graph that looks \"easy\" to replicate you'll probably find that it's not as easy as you thought. \n",
        "\n",
        "- If you start with a graph that looks hard to replicate you'll probably run up against a brick wall and be disappointed with your afternoon.\n",
        "\n",
        "\n",
        "\n",
        "\n",
        "\n",
        "\n",
        "\n",
        "\n",
        "\n",
        "\n"
      ]
    },
    {
      "cell_type": "code",
      "metadata": {
        "id": "7SY1ZHawyZvz",
        "colab_type": "code",
        "outputId": "a5139625-4064-4416-b0e9-b1295f45959f",
        "colab": {
          "base_uri": "https://localhost:8080/",
          "height": 216
        }
      },
      "source": [
        "# Your Work Here\n",
        "import pandas as pd\n",
        "import numpy as np\n",
        "import matplotlib.pyplot as plt\n",
        "import seaborn\n",
        "\n",
        "from IPython.display import display, Image\n",
        "\n",
        "url = 'https://fivethirtyeight.com/wp-content/uploads/2015/05/hickey-datalab-sanandreas1.png'\n",
        "\n",
        "example = Image(url=url, width=400)\n",
        "\n",
        "display(example)\n",
        "\n"
      ],
      "execution_count": 8,
      "outputs": [
        {
          "output_type": "display_data",
          "data": {
            "text/html": [
              "<img src=\"https://fivethirtyeight.com/wp-content/uploads/2015/05/hickey-datalab-sanandreas1.png\" width=\"400\"/>"
            ],
            "text/plain": [
              "<IPython.core.display.Image object>"
            ]
          },
          "metadata": {
            "tags": []
          }
        }
      ]
    },
    {
      "cell_type": "code",
      "metadata": {
        "id": "ZEle_oqPsaZc",
        "colab_type": "code",
        "colab": {
          "base_uri": "https://localhost:8080/",
          "height": 360
        },
        "outputId": "31e9ff2e-30e3-49a7-a08c-17f02a56c425"
      },
      "source": [
        "df = pd.read_csv('earthquake_data.csv')\n",
        "\n",
        "df.head()\n",
        "\n",
        "worry_frame = df['How worried are you about the Big One, a massive, catastrophic earthquake?'].value_counts()\n",
        "\n",
        "print(worry_frame)\n",
        "\n",
        "total_worry = worry_frame.sum()\n",
        "\n",
        "print(total_worry)\n",
        "\n",
        "percent_worry = (worry_frame/total_worry)*100\n",
        "\n",
        "print(percent_worry)\n",
        "\n",
        "sorted_worry = percent_worry.sort_values(ascending=True)\n",
        "print(sorted_worry)\n",
        "\n"
      ],
      "execution_count": 40,
      "outputs": [
        {
          "output_type": "stream",
          "text": [
            "Not at all worried    334\n",
            "Not so worried        310\n",
            "Somewhat worried      226\n",
            "Very worried           75\n",
            "Extremely worried      68\n",
            "Name: How worried are you about the Big One, a massive, catastrophic earthquake?, dtype: int64\n",
            "1013\n",
            "Not at all worried    32.971372\n",
            "Not so worried        30.602172\n",
            "Somewhat worried      22.309970\n",
            "Very worried           7.403751\n",
            "Extremely worried      6.712734\n",
            "Name: How worried are you about the Big One, a massive, catastrophic earthquake?, dtype: float64\n",
            "Extremely worried      6.712734\n",
            "Very worried           7.403751\n",
            "Somewhat worried      22.309970\n",
            "Not so worried        30.602172\n",
            "Not at all worried    32.971372\n",
            "Name: How worried are you about the Big One, a massive, catastrophic earthquake?, dtype: float64\n"
          ],
          "name": "stdout"
        }
      ]
    },
    {
      "cell_type": "code",
      "metadata": {
        "id": "QUml87-Uv81t",
        "colab_type": "code",
        "colab": {
          "base_uri": "https://localhost:8080/",
          "height": 139
        },
        "outputId": "a44f9f59-3d40-4806-98a8-c0308fac7c99"
      },
      "source": [
        "sorted_worry"
      ],
      "execution_count": 86,
      "outputs": [
        {
          "output_type": "execute_result",
          "data": {
            "text/plain": [
              "Extremely worried      6.712734\n",
              "Very worried           7.403751\n",
              "Somewhat worried      22.309970\n",
              "Not so worried        30.602172\n",
              "Not at all worried    32.971372\n",
              "Name: How worried are you about the Big One, a massive, catastrophic earthquake?, dtype: float64"
            ]
          },
          "metadata": {
            "tags": []
          },
          "execution_count": 86
        }
      ]
    },
    {
      "cell_type": "code",
      "metadata": {
        "id": "JklC7nGItgFZ",
        "colab_type": "code",
        "colab": {
          "base_uri": "https://localhost:8080/",
          "height": 504
        },
        "outputId": "45233629-b22d-4baa-db63-0a3725a98247"
      },
      "source": [
        "display(example)\n",
        "\n",
        "\n",
        "\n",
        "fig, ax = plt.subplots()\n",
        "sorted_worry.plot.barh(width = .5, color = 'red',)\n",
        "\n",
        "ax.set_title(\"How Worried Are You About 'The Big One'?\", \n",
        "             loc='left', \n",
        "             color=\"black\", \n",
        "             fontsize=15, \n",
        "             fontweight='bold', \n",
        "             x=-.3, \n",
        "             y=1.1)\n",
        "\n",
        "ax.text(s='SURVEY DATES', \n",
        "        x=-6, \n",
        "        y=-.8, \n",
        "        color='black', \n",
        "        fontsize=9)\n",
        "\n",
        "ax.text(s='May 26-27, 2015', \n",
        "        x=-6, \n",
        "        y=-.5, \n",
        "        color='black', \n",
        "        fontsize=9)\n",
        "\n",
        "ax.text(s='NO. OF RESPONDENTS', \n",
        "        x=3, \n",
        "        y=-.8, \n",
        "        color='black', \n",
        "        fontsize=9)\n",
        "\n",
        "ax.text(s='1,013', \n",
        "        x=3, \n",
        "        y=-.5, \n",
        "        color='black', \n",
        "        fontsize=9)\n",
        "\n",
        "ax.invert_yaxis()\n",
        "\n",
        "fig.set_facecolor(color=\"#f9f9f9\")\n",
        "ax.set_facecolor(color='#f9f9f9')\n",
        "\n",
        "seaborn.despine(left=True, bottom=True, right=True)\n",
        "\n"
      ],
      "execution_count": 131,
      "outputs": [
        {
          "output_type": "display_data",
          "data": {
            "text/html": [
              "<img src=\"https://fivethirtyeight.com/wp-content/uploads/2015/05/hickey-datalab-sanandreas1.png\" width=\"400\"/>"
            ],
            "text/plain": [
              "<IPython.core.display.Image object>"
            ]
          },
          "metadata": {
            "tags": []
          }
        },
        {
          "output_type": "display_data",
          "data": {
            "image/png": "[encoded data removed]",
            "text/plain": [
              "<Figure size 432x288 with 1 Axes>"
            ]
          },
          "metadata": {
            "tags": []
          }
        }
      ]
    },
    {
      "cell_type": "code",
      "metadata": {
        "id": "GDgR_qtOw2KU",
        "colab_type": "code",
        "colab": {
          "base_uri": "https://localhost:8080/",
          "height": 241
        },
        "outputId": "78c13c64-7930-43a9-c6fd-fa6cdb0ef00f"
      },
      "source": [
        "#transposed_worry = sorted_worry.T\n",
        "\n",
        "##print(sorted_worry)\n",
        "\n",
        "#print"
      ],
      "execution_count": 75,
      "outputs": [
        {
          "output_type": "stream",
          "text": [
            "Extremely worried      6.712734\n",
            "Very worried           7.403751\n",
            "Somewhat worried      22.309970\n",
            "Not so worried        30.602172\n",
            "Not at all worried    32.971372\n",
            "Name: How worried are you about the Big One, a massive, catastrophic earthquake?, dtype: float64\n",
            "Extremely worried      6.712734\n",
            "Very worried           7.403751\n",
            "Somewhat worried      22.309970\n",
            "Not so worried        30.602172\n",
            "Not at all worried    32.971372\n",
            "Name: How worried are you about the Big One, a massive, catastrophic earthquake?, dtype: float64\n"
          ],
          "name": "stdout"
        }
      ]
    },
    {
      "cell_type": "markdown",
      "metadata": {
        "id": "0wSrBzmJyWaV",
        "colab_type": "text"
      },
      "source": [
        "# STRETCH OPTIONS\n",
        "\n",
        "### 1) Reproduce one of the following using the matplotlib or seaborn libraries:\n",
        "\n",
        "- [thanksgiving-2015](https://fivethirtyeight.com/features/heres-what-your-part-of-america-eats-on-thanksgiving/) \n",
        "- [candy-power-ranking](https://fivethirtyeight.com/features/the-ultimate-halloween-candy-power-ranking/) \n",
        "- or another example of your choice!\n",
        "\n",
        "### 2) Make more charts!\n",
        "\n",
        "Choose a chart you want to make, from [Visual Vocabulary - Vega Edition](http://ft.com/vocabulary).\n",
        "\n",
        "Find the chart in an example gallery of a Python data visualization library:\n",
        "- [Seaborn](http://seaborn.pydata.org/examples/index.html)\n",
        "- [Altair](https://altair-viz.github.io/gallery/index.html)\n",
        "- [Matplotlib](https://matplotlib.org/gallery.html)\n",
        "- [Pandas](https://pandas.pydata.org/pandas-docs/stable/visualization.html)\n",
        "\n",
        "Reproduce the chart. [Optionally, try the \"Ben Franklin Method.\"](https://docs.google.com/document/d/1ubOw9B3Hfip27hF2ZFnW3a3z9xAgrUDRReOEo-FHCVs/edit) If you want, experiment and make changes.\n",
        "\n",
        "Take notes. Consider sharing your work with your cohort!"
      ]
    },
    {
      "cell_type": "code",
      "metadata": {
        "id": "dRJkKftiy5BJ",
        "colab_type": "code",
        "colab": {}
      },
      "source": [
        "# More Work Here"
      ],
      "execution_count": 0,
      "outputs": []
    }
  ]
}