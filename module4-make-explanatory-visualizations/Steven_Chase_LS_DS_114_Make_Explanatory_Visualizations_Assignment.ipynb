{
  "nbformat": 4,
  "nbformat_minor": 0,
  "metadata": {
    "colab": {
      "name": "Steven_Chase_LS_DS_114_Make_Explanatory_Visualizations_Assignment.ipynb",
      "provenance": [],
      "collapsed_sections": [],
      "include_colab_link": true
    },
    "language_info": {
      "codemirror_mode": {
        "name": "ipython",
        "version": 3
      },
      "file_extension": ".py",
      "mimetype": "text/x-python",
      "name": "python",
      "nbconvert_exporter": "python",
      "pygments_lexer": "ipython3",
      "version": "3.7.1"
    },
    "kernelspec": {
      "display_name": "Python 3",
      "language": "python",
      "name": "python3"
    }
  },
  "cells": [
    {
      "cell_type": "markdown",
      "metadata": {
        "id": "view-in-github",
        "colab_type": "text"
      },
      "source": [
        "<a href=\"https://colab.research.google.com/github/schase15/DS-Unit-1-Sprint-1-Data-Wrangling-and-Storytelling/blob/master/module4-make-explanatory-visualizations/Steven_Chase_LS_DS_114_Make_Explanatory_Visualizations_Assignment.ipynb\" target=\"_parent\"><img src=\"https://colab.research.google.com/assets/colab-badge.svg\" alt=\"Open In Colab\"/></a>"
      ]
    },
    {
      "cell_type": "markdown",
      "metadata": {
        "colab_type": "text",
        "id": "NMEswXWh9mqw"
      },
      "source": [
        "Lambda School Data Science\n",
        "\n",
        "*Unit 1, Sprint 1, Module 4*\n",
        "\n",
        "---\n",
        "\n",
        "# ASSIGNMENT\n",
        "\n",
        "\n",
        "\n",
        "\n",
        "\n",
        "\n",
        "\n",
        "\n",
        "\n",
        "\n"
      ]
    },
    {
      "cell_type": "markdown",
      "metadata": {
        "id": "90dKdBY9KEN8",
        "colab_type": "text"
      },
      "source": [
        "## 1) Replicate the lesson code. I recommend that you [do not copy-paste](https://docs.google.com/document/d/1ubOw9B3Hfip27hF2ZFnW3a3z9xAgrUDRReOEo-FHCVs/edit).\n",
        "\n",
        "Get caught up to where we got our example in class and then try and take things further. How close to \"pixel perfect\" can you make the lecture graph?\n",
        "\n",
        "Once you have something that you're proud of, share your graph in the cohort channel and move on to the second exercise."
      ]
    },
    {
      "cell_type": "code",
      "metadata": {
        "id": "qmru0aUyz_J1",
        "colab_type": "code",
        "colab": {
          "base_uri": "https://localhost:8080/",
          "height": 267
        },
        "outputId": "db1806a5-f965-44e6-ed5e-797b1f5582d1"
      },
      "source": [
        "# fake data to just learn how to manipulate graph\n",
        "\n",
        "%matplotlib inline\n",
        "import matplotlib.pyplot as plt\n",
        "import numpy as np\n",
        "import pandas as pd\n",
        "\n",
        "\n",
        "# plt.style.use('fivethirtyeight')\n",
        "\n",
        "fake = pd.Series([38, 3, 2, 1, 2, 4, 6, 5, 5, 33], \n",
        "                 index=range(1,11))\n",
        "\n",
        "fake.plot.bar(color='C1', width=0.9);"
      ],
      "execution_count": 1,
      "outputs": [
        {
          "output_type": "display_data",
          "data": {
            "image/png": "[encoded data removed]",
            "text/plain": [
              "<Figure size 432x288 with 1 Axes>"
            ]
          },
          "metadata": {
            "tags": []
          }
        }
      ]
    },
    {
      "cell_type": "code",
      "metadata": {
        "id": "D1frlEw5KOJD",
        "colab_type": "code",
        "colab": {
          "base_uri": "https://localhost:8080/",
          "height": 374
        },
        "outputId": "c0abcc5d-1c14-424d-8b56-d93144dbb3d3"
      },
      "source": [
        "# Create separate figure and axes variables \n",
        "fig, ax = plt.subplots()\n",
        "\n",
        "plt.style.use('fivethirtyeight')\n",
        "\n",
        "# Add bars\n",
        "ax.bar(height= fake, x=[1,2,3,4,5,6,7,8,9,10], color='#ED713A', width= .9)\n",
        "# used color picker tool to get the exact color of the example\n",
        "#  use '#' in front of the hexadecimal color value\n",
        "\n",
        "# Set Title\n",
        "ax.set_title(\"'An Inconvenient Sequel: Truth To Power' is divisine\", x=.4, y=1.15, fontsize= 13, fontweight= 'bold')\n",
        "# there are other parameters that you can pass to the text specifically (**kwargs link at the bottom)\n",
        "# you can define where the title starts by setting x and y coordinate\n",
        "\n",
        "# Set Subtitle\n",
        "ax.text(s= \"IMDb ratings for the film as of Aug. 29th\", x= -1.1, y=44, fontsize= 12)\n",
        "\n",
        "# Set xticks\n",
        "# ax.set_xticks([1,2,3,4,5,6,7,8,9,10])\n",
        "ax.set_xticks(range(1,11,1))\n",
        "# range(start at, up to but don't include, count by)\n",
        "\n",
        "# Set yticks\n",
        "ax.set_yticks(range(0,50,10))\n",
        "\n",
        "# Set ytick labels - Customize y labels\n",
        "ax.set_yticklabels(['0','10','20','30','40%'], color= '#BFBFBF')\n",
        "\n",
        "# Set xtick labels color\n",
        "ax.set_xticklabels(['1', '2', '3', '4', '5', '6', '7', '8', '9', '10'],color= '#BFBFBF')\n",
        "\n",
        "# Set x label\n",
        "ax.set_xlabel('Ratings', color= 'black', fontsize= 11, fontweight= 'bold')\n",
        "\n",
        "# Set y label\n",
        "ax.set_ylabel('Percent of total votes', color= 'black', fontsize= 11, fontweight= 'bold')\n",
        "\n",
        "# Set figure background color\n",
        "fig.set_facecolor(color='None')\n",
        "\n",
        "# Set the Axes background color\n",
        "ax.set_facecolor(color='None')\n",
        "\n",
        "# Turn off the spine\n",
        "ax.spines['left'].set_visible(False)\n",
        "ax.spines['right'].set_visible(False)\n",
        "ax.spines['top'].set_visible(False)\n",
        "# ax.spines['bottom'].set_visible(False)\n",
        "\n",
        "# Color of grid\n",
        "ax.grid(color= '#DEDEDE')\n",
        "\n",
        "# Text under graph\n",
        "ax.text(s= \"_______________________________________________________________________________________________________\",\n",
        "        x= -1.2, y= -8, fontsize= 8, color= '#BDBDBD')\n",
        "ax.text(s= \"FiveThirtyEight                                                                                                                     SOURCE: IMDB\",\n",
        "        x= -1.2, y= -10, fontsize= 8, color= '#BDBDBD')\n",
        "\n",
        "\n",
        "plt.show()"
      ],
      "execution_count": 34,
      "outputs": [
        {
          "output_type": "display_data",
          "data": {
            "image/png": "[encoded data removed]",
            "text/plain": [
              "<Figure size 432x288 with 1 Axes>"
            ]
          },
          "metadata": {
            "tags": []
          }
        }
      ]
    },
    {
      "cell_type": "code",
      "metadata": {
        "id": "Lo-5HP4S0kNr",
        "colab_type": "code",
        "colab": {}
      },
      "source": [
        ""
      ],
      "execution_count": 0,
      "outputs": []
    },
    {
      "cell_type": "markdown",
      "metadata": {
        "id": "GO8YkMbWJ9qD",
        "colab_type": "text"
      },
      "source": [
        "## 2) Reproduce another example from [FiveThityEight's shared data repository](https://data.fivethirtyeight.com/).\n",
        "\n",
        "**WARNING**: There are a lot of very custom graphs and tables at the above link. I **highly** recommend not trying to reproduce any that look like a table of values or something really different from the graph types that we are already familiar with. Search through the posts until you find a graph type that you are more or less familiar with: histogram, bar chart, stacked bar chart, line chart, [seaborn relplot](https://seaborn.pydata.org/generated/seaborn.relplot.html), etc. Recreating some of the graphics that 538 uses would be a lot easier in Adobe photoshop/illustrator than with matplotlib. \n",
        "\n",
        "- If you put in some time to find a graph that looks \"easy\" to replicate you'll probably find that it's not as easy as you thought. \n",
        "\n",
        "- If you start with a graph that looks hard to replicate you'll probably run up against a brick wall and be disappointed with your afternoon."
      ]
    },
    {
      "cell_type": "code",
      "metadata": {
        "id": "7SY1ZHawyZvz",
        "colab_type": "code",
        "colab": {
          "base_uri": "https://localhost:8080/",
          "height": 282
        },
        "outputId": "1e61607b-11e7-4691-eedd-d536e3a246d0"
      },
      "source": [
        "%matplotlib inline\n",
        "import matplotlib.pyplot as plt\n",
        "import numpy as np\n",
        "import pandas as pd\n",
        "\n",
        "data = pd.Series([650, 380, 250, 130, 105, 75, 70, 30, 28, 20, 10, 21, 5, 7, 9, \n",
        "                  1, 1, 3, 1, 1, 1, 1, 1, 1, 1, 2, 1, 1, 1, 1, 1, 1, 1, 1, 1, 1,\n",
        "                  1, 1, 1, 1, 3, 1, 1, 1, 1, 1], index=range(5,51))\n",
        "data.plot.bar()"
      ],
      "execution_count": 3,
      "outputs": [
        {
          "output_type": "execute_result",
          "data": {
            "text/plain": [
              "<matplotlib.axes._subplots.AxesSubplot at 0x7f5dbb8683c8>"
            ]
          },
          "metadata": {
            "tags": []
          },
          "execution_count": 3
        },
        {
          "output_type": "display_data",
          "data": {
            "image/png": "[encoded data removed]",
            "text/plain": [
              "<Figure size 432x288 with 1 Axes>"
            ]
          },
          "metadata": {
            "tags": []
          }
        }
      ]
    },
    {
      "cell_type": "code",
      "metadata": {
        "id": "_fZXdnPbcRuo",
        "colab_type": "code",
        "colab": {
          "base_uri": "https://localhost:8080/",
          "height": 834
        },
        "outputId": "4c5e138a-5ea4-4938-c9c7-474beb5ec884"
      },
      "source": [
        "# Create list for x-axis\n",
        "my_list = [*range(5, 51, 1)]\n",
        "my_list\n"
      ],
      "execution_count": 4,
      "outputs": [
        {
          "output_type": "execute_result",
          "data": {
            "text/plain": [
              "[5,\n",
              " 6,\n",
              " 7,\n",
              " 8,\n",
              " 9,\n",
              " 10,\n",
              " 11,\n",
              " 12,\n",
              " 13,\n",
              " 14,\n",
              " 15,\n",
              " 16,\n",
              " 17,\n",
              " 18,\n",
              " 19,\n",
              " 20,\n",
              " 21,\n",
              " 22,\n",
              " 23,\n",
              " 24,\n",
              " 25,\n",
              " 26,\n",
              " 27,\n",
              " 28,\n",
              " 29,\n",
              " 30,\n",
              " 31,\n",
              " 32,\n",
              " 33,\n",
              " 34,\n",
              " 35,\n",
              " 36,\n",
              " 37,\n",
              " 38,\n",
              " 39,\n",
              " 40,\n",
              " 41,\n",
              " 42,\n",
              " 43,\n",
              " 44,\n",
              " 45,\n",
              " 46,\n",
              " 47,\n",
              " 48,\n",
              " 49,\n",
              " 50]"
            ]
          },
          "metadata": {
            "tags": []
          },
          "execution_count": 4
        }
      ]
    },
    {
      "cell_type": "code",
      "metadata": {
        "id": "iD-bigckZ6Un",
        "colab_type": "code",
        "colab": {
          "base_uri": "https://localhost:8080/",
          "height": 400
        },
        "outputId": "43bae555-dbac-414d-b1ba-62481d5bde1e"
      },
      "source": [
        "# Separate figure and axes variables\n",
        "fig, ax =plt.subplots()\n",
        "\n",
        "# Add style\n",
        "plt.style.use('fivethirtyeight')\n",
        "\n",
        "# Add data\n",
        "# Set bar color and width\n",
        "ax.bar(height= data, x= my_list, color= '#2C83B9', width= 0.9)\n",
        "\n",
        "# Set Title\n",
        "ax.set_title(\"There are super users ... and super users\", x= .48, y= 1.11, fontweight= 'bold', fontsize= 11)\n",
        "# still need to make the second super italics\n",
        "\n",
        "# Set Subtitle\n",
        "ax.text(s= \"How many individuals* donated through ActBlue a given number of times,\", x= -0.8, y= 730, fontsize= 10)\n",
        "# Set second half of subtitle\n",
        "ax.text(s= \"among people with at least 500 donations since January 2017\", x= 3, y= 700, fontsize= 10)\n",
        "\n",
        "# Set x label\n",
        "ax.set_xlabel('Number of Contributions', fontweight= 'bold', fontsize= 9)\n",
        "\n",
        "# Set xtick labels\n",
        "ax.set_xticklabels([' ', '1k', '2', '3', '4', '5'], fontsize= 9, color= '#BDBDBD')\n",
        "\n",
        "# Set ytick labels\n",
        "ax.set_yticklabels(['0', '100', '200', '300', '400', '500', '600 people'], fontsize= 9, color= '#BDBDBD')\n",
        "# need to move people underneath 600\n",
        "\n",
        "# Set figure background\n",
        "fig.set_facecolor(color= 'None')\n",
        "\n",
        "# Set axes background\n",
        "ax.set_facecolor(color= 'None')\n",
        "\n",
        "# Turn off spine\n",
        "ax.spines['left'].set_visible(False)\n",
        "ax.spines['top'].set_visible(False)\n",
        "ax.spines['right'].set_visible(False)\n",
        "\n",
        "# Color of grid\n",
        "ax.grid(color= '#F2F2F2')\n",
        "\n",
        "# Type out text underneath graph\n",
        "ax.text(s= \"*Totals for individuals were estimated by counting the number of contributions by individuals with\",\n",
        "        x= -0.8, y= -150, fontsize= 8, color= '#BDBDBD')\n",
        "ax.text(s= \"the same first and last name and zip code. Contributions of identical dollar amounts made on the\",\n",
        "        x= -0.8, y= -180, fontsize= 8, color= '#BDBDBD')\n",
        "ax.text(s= \"same day were counted as one transaction because they may represent one donation divided\",\n",
        "        x= -0.8, y= -210, fontsize= 8, color= '#BDBDBD')\n",
        "ax.text(s= \"between multiple recipients. Includes contributions both to candidates and to other federal political\",\n",
        "        x= -0.8, y= -240, fontsize= 8, color= '#BDBDBD')\n",
        "ax.text(s= \"committees.\", x= -0.8, y= -270, fontsize= 8, color= '#BDBDBD')\n",
        "ax.text(s= \"FiveThirtyEight                                                                   SOURCE: FEDERAL ELECTION COMMISSION\",\n",
        "        x= -0.8, y= -350, fontsize= 8, color= '#BDBDBD')\n",
        "\n",
        "plt.show()"
      ],
      "execution_count": 5,
      "outputs": [
        {
          "output_type": "display_data",
          "data": {
            "image/png": "[encoded data removed]",
            "text/plain": [
              "<Figure size 432x288 with 1 Axes>"
            ]
          },
          "metadata": {
            "tags": []
          }
        }
      ]
    },
    {
      "cell_type": "code",
      "metadata": {
        "id": "3Ss5GF4JzfEU",
        "colab_type": "code",
        "colab": {}
      },
      "source": [
        "# The only things I couldn't figure out was how to make only one work in the title italics\n",
        "# And moving the people under the 600 on the y-axis label"
      ],
      "execution_count": 0,
      "outputs": []
    },
    {
      "cell_type": "markdown",
      "metadata": {
        "id": "0wSrBzmJyWaV",
        "colab_type": "text"
      },
      "source": [
        "# STRETCH OPTIONS\n",
        "\n",
        "### 1) Reproduce one of the following using the matplotlib or seaborn libraries:\n",
        "\n",
        "- [thanksgiving-2015](https://fivethirtyeight.com/features/heres-what-your-part-of-america-eats-on-thanksgiving/) \n",
        "- [candy-power-ranking](https://fivethirtyeight.com/features/the-ultimate-halloween-candy-power-ranking/) \n",
        "- or another example of your choice!\n",
        "\n",
        "### 2) Make more charts!\n",
        "\n",
        "Choose a chart you want to make, from [Visual Vocabulary - Vega Edition](http://ft.com/vocabulary).\n",
        "\n",
        "Find the chart in an example gallery of a Python data visualization library:\n",
        "- [Seaborn](http://seaborn.pydata.org/examples/index.html)\n",
        "- [Altair](https://altair-viz.github.io/gallery/index.html)\n",
        "- [Matplotlib](https://matplotlib.org/gallery.html)\n",
        "- [Pandas](https://pandas.pydata.org/pandas-docs/stable/visualization.html)\n",
        "\n",
        "Reproduce the chart. [Optionally, try the \"Ben Franklin Method.\"](https://docs.google.com/document/d/1ubOw9B3Hfip27hF2ZFnW3a3z9xAgrUDRReOEo-FHCVs/edit) If you want, experiment and make changes.\n",
        "\n",
        "Take notes. Consider sharing your work with your cohort!"
      ]
    },
    {
      "cell_type": "code",
      "metadata": {
        "id": "dRJkKftiy5BJ",
        "colab_type": "code",
        "colab": {}
      },
      "source": [
        "# More Work Here"
      ],
      "execution_count": 0,
      "outputs": []
    }
  ]
}