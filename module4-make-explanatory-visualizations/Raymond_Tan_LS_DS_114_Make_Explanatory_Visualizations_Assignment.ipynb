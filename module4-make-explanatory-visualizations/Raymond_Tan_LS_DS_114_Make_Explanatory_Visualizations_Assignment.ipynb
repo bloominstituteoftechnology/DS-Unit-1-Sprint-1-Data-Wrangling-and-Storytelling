{
  "nbformat": 4,
  "nbformat_minor": 0,
  "metadata": {
    "colab": {
      "name": "Raymond_Tan_LS_DS_114_Make_Explanatory_Visualizations_Assignment.ipynb",
      "provenance": [],
      "collapsed_sections": [],
      "include_colab_link": true
    },
    "language_info": {
      "codemirror_mode": {
        "name": "ipython",
        "version": 3
      },
      "file_extension": ".py",
      "mimetype": "text/x-python",
      "name": "python",
      "nbconvert_exporter": "python",
      "pygments_lexer": "ipython3",
      "version": "3.7.1"
    },
    "kernelspec": {
      "display_name": "Python 3",
      "language": "python",
      "name": "python3"
    }
  },
  "cells": [
    {
      "cell_type": "markdown",
      "metadata": {
        "id": "view-in-github",
        "colab_type": "text"
      },
      "source": [
        "<a href=\"https://colab.research.google.com/github/raymond98tan/DS-Unit-1-Sprint-1-Data-Wrangling-and-Storytelling/blob/master/module4-make-explanatory-visualizations/Raymond_Tan_LS_DS_114_Make_Explanatory_Visualizations_Assignment.ipynb\" target=\"_parent\"><img src=\"https://colab.research.google.com/assets/colab-badge.svg\" alt=\"Open In Colab\"/></a>"
      ]
    },
    {
      "cell_type": "markdown",
      "metadata": {
        "colab_type": "text",
        "id": "NMEswXWh9mqw"
      },
      "source": [
        "Lambda School Data Science\n",
        "\n",
        "*Unit 1, Sprint 1, Module 4*\n",
        "\n",
        "---\n",
        "\n",
        "# ASSIGNMENT\n",
        "\n",
        "### 1) Replicate the lesson code. I recommend that you [do not copy-paste](https://docs.google.com/document/d/1ubOw9B3Hfip27hF2ZFnW3a3z9xAgrUDRReOEo-FHCVs/edit).\n",
        "\n",
        "Get caught up to where we got our example in class and then try and take things further. How close to \"pixel perfect\" can you make the lecture graph?\n",
        "\n",
        "Once you have something that you're proud of, share your graph in the cohort channel and move on to the second exercise.\n",
        "\n",
        "### 2) Reproduce another example from [FiveThityEight's shared data repository](https://data.fivethirtyeight.com/).\n",
        "\n",
        "**WARNING**: There are a lot of very custom graphs and tables at the above link. I **highly** recommend not trying to reproduce any that look like a table of values or something really different from the graph types that we are already familiar with. Search through the posts until you find a graph type that you are more or less familiar with: histogram, bar chart, stacked bar chart, line chart, [seaborn relplot](https://seaborn.pydata.org/generated/seaborn.relplot.html), etc. Recreating some of the graphics that 538 uses would be a lot easier in Adobe photoshop/illustrator than with matplotlib. \n",
        "\n",
        "- If you put in some time to find a graph that looks \"easy\" to replicate you'll probably find that it's not as easy as you thought. \n",
        "\n",
        "- If you start with a graph that looks hard to replicate you'll probably run up against a brick wall and be disappointed with your afternoon.\n",
        "\n",
        "\n",
        "\n",
        "\n",
        "\n",
        "\n",
        "\n",
        "\n",
        "\n",
        "\n"
      ]
    },
    {
      "cell_type": "markdown",
      "metadata": {
        "id": "Q4gEECNFBjoF",
        "colab_type": "text"
      },
      "source": [
        "# Part 1. Lecture Graph Continuation"
      ]
    },
    {
      "cell_type": "code",
      "metadata": {
        "id": "s6a6UJjvB2LR",
        "colab_type": "code",
        "colab": {
          "base_uri": "https://localhost:8080/",
          "height": 285
        },
        "outputId": "4e248f80-68f2-40da-aca9-4a94e94ff169"
      },
      "source": [
        "#Creating fake data\n",
        "\n",
        "%matplotlib inline\n",
        "import matplotlib.pyplot as plt\n",
        "import numpy as np\n",
        "import pandas as pd\n",
        "\n",
        "\n",
        "plt.style.use('fivethirtyeight')\n",
        "\n",
        "fake = pd.Series([38, 3, 2, 1, 2, 4, 6, 5, 5, 33], \n",
        "                 index=range(1,11))\n",
        "\n",
        "fake.plot.bar(color='C1', width=0.9);"
      ],
      "execution_count": 1,
      "outputs": [
        {
          "output_type": "display_data",
          "data": {
            "image/png": "[encoded data removed]",
            "text/plain": [
              "<Figure size 432x288 with 1 Axes>"
            ]
          },
          "metadata": {
            "tags": []
          }
        }
      ]
    },
    {
      "cell_type": "code",
      "metadata": {
        "id": "8Jp8QsbZvFWz",
        "colab_type": "code",
        "colab": {
          "base_uri": "https://localhost:8080/",
          "height": 355
        },
        "outputId": "3281c48f-4e63-4d53-ed07-ac6f152eef33"
      },
      "source": [
        "#Example of the graph to be replicated\n",
        "from IPython.display import display, Image\n",
        "\n",
        "url = 'https://fivethirtyeight.com/wp-content/uploads/2017/09/mehtahickey-inconvenient-0830-1.png'\n",
        "example = Image(url=url, width=400)\n",
        "\n",
        "display(example)"
      ],
      "execution_count": 169,
      "outputs": [
        {
          "output_type": "display_data",
          "data": {
            "text/html": [
              "<img src=\"https://fivethirtyeight.com/wp-content/uploads/2017/09/mehtahickey-inconvenient-0830-1.png\" width=\"400\"/>"
            ],
            "text/plain": [
              "<IPython.core.display.Image object>"
            ]
          },
          "metadata": {
            "tags": []
          }
        }
      ]
    },
    {
      "cell_type": "code",
      "metadata": {
        "id": "7SY1ZHawyZvz",
        "colab_type": "code",
        "colab": {
          "base_uri": "https://localhost:8080/",
          "height": 367
        },
        "outputId": "d0267725-c7e5-42c6-8a76-63a28b3a57e8"
      },
      "source": [
        "#Creating the graph\n",
        "plt.style.use('fivethirtyeight')\n",
        "\n",
        "fig, ax = plt.subplots()\n",
        "#(figsize=(5.5,3.5))\n",
        "\n",
        "#My graph stuff goes in the middle\n",
        "fig.set_facecolor('white')\n",
        "\n",
        "ax.bar([1,2,3,4,5,6,7,8,9,10], fake, color = '#ED713A', width=.9)\n",
        "\n",
        "ax.set_facecolor('white')\n",
        "\n",
        "ax.set_xlabel('Rating', fontweight='bold', fontsize=9, labelpad=15)\n",
        "ax.set_ylabel('Percent of total votes', fontweight='bold', fontsize = 9)\n",
        "\n",
        "#Graph Title\n",
        "ax.set_title(\"'An Inconvenient Sequel: Truth To Power' is divisive\", fontsize = 12, fontweight='bold', x=.345, y=1.1)\n",
        "#Graph Subtitle\n",
        "ax.text(s=\"IMDb ratings for the film as of Aug. 29\", x=-0.8, y=42, fontsize=10.5)\n",
        "\n",
        "#set ticks (x and y)\n",
        "ax.set_xticks([1,2,3,4,5,6,7,8,9,10])\n",
        "ax.set_yticks([0,10,20,30,40])\n",
        "\n",
        "ax.set_yticklabels([0,10,20,30,'40%'], fontsize=8.5, color = 'gray')\n",
        "ax.set_xticklabels([1,2,3,4,5,6,7,8,9,10], fontsize=8.5, color = 'gray')\n",
        "ax.tick_params('x', length=8, width=1, which='major', color='lightgray')\n",
        "ax.tick_params('y', length=0, width=1, which='major', color='lightgray')\n",
        "\n",
        "ax.margins(x=0.015)\n",
        "\n",
        "# Turn off the spines\n",
        "ax.spines['left'].set_visible(False)\n",
        "ax.spines['right'].set_visible(False)\n",
        "ax.spines['top'].set_visible(False)\n",
        "ax.spines['bottom'].set_visible(False)\n",
        "\n",
        "\n",
        "fig.text(x=0, y=-0.15, s='FiveThirtyEight',color='#888888', ha='left', va='bottom', fontsize=7)\n",
        "fig.text(x=0.84, y=-0.15, s='SOURCE: IMDB',color='#888888', ha='left', va='bottom', fontsize=7)\n",
        "plt.show()"
      ],
      "execution_count": 185,
      "outputs": [
        {
          "output_type": "display_data",
          "data": {
            "image/png": "[encoded data removed]",
            "text/plain": [
              "<Figure size 432x288 with 1 Axes>"
            ]
          },
          "metadata": {
            "tags": []
          }
        }
      ]
    },
    {
      "cell_type": "markdown",
      "metadata": {
        "id": "FsSs7XbPRADn",
        "colab_type": "text"
      },
      "source": [
        "# 2. Reproducing another example from [FiveThityEight's shared data repository](https://data.fivethirtyeight.com/)."
      ]
    },
    {
      "cell_type": "code",
      "metadata": {
        "id": "EJRDcL6zRKjA",
        "colab_type": "code",
        "colab": {
          "base_uri": "https://localhost:8080/",
          "height": 601
        },
        "outputId": "87d3688a-3f92-4ce8-f208-aa8b18de9582"
      },
      "source": [
        "url2 = 'https://fivethirtyeight.com/wp-content/uploads/2015/11/pierson-datalab-study_drugs-1.png'\n",
        "example2 = Image(url=url2, width=305)\n",
        "\n",
        "display(example2)"
      ],
      "execution_count": 163,
      "outputs": [
        {
          "output_type": "display_data",
          "data": {
            "text/html": [
              "<img src=\"https://fivethirtyeight.com/wp-content/uploads/2015/11/pierson-datalab-study_drugs-1.png\" width=\"305\"/>"
            ],
            "text/plain": [
              "<IPython.core.display.Image object>"
            ]
          },
          "metadata": {
            "tags": []
          }
        }
      ]
    },
    {
      "cell_type": "code",
      "metadata": {
        "id": "YSl9ufKTrEEc",
        "colab_type": "code",
        "colab": {
          "base_uri": "https://localhost:8080/",
          "height": 277
        },
        "outputId": "c3ed2eda-4caf-4331-f2ff-52d8c06bc1fa"
      },
      "source": [
        "#Fake Data\n",
        "fake2 = pd.Series([0.4, 4.2, 11.8, 15, 14.25,10.2, 1.1], index=range(1,8))\n",
        "\n",
        "fake2.plot.bar(color='C1', width=0.9);"
      ],
      "execution_count": 166,
      "outputs": [
        {
          "output_type": "display_data",
          "data": {
            "image/png": "[encoded data removed]",
            "text/plain": [
              "<Figure size 432x288 with 1 Axes>"
            ]
          },
          "metadata": {
            "tags": []
          }
        }
      ]
    },
    {
      "cell_type": "code",
      "metadata": {
        "id": "2EONGI5Cp729",
        "colab_type": "code",
        "colab": {
          "base_uri": "https://localhost:8080/",
          "height": 664
        },
        "outputId": "4493e76a-02f4-4000-905d-ee7c0936eebc"
      },
      "source": [
        "#Reproduction of this graph\n",
        "plt.style.use('fivethirtyeight')\n",
        "fig, ax = plt.subplots(figsize=(4,8.5))\n",
        "\n",
        "#figure properties\n",
        "fig.set_facecolor('#edf2f2')\n",
        "\n",
        "#axis properties\n",
        "ax.set_title(\"Young Adults Use \\nAdderall The Most\", fontsize = 21, fontweight='bold', x=0.33, y=1.1, color='#575550')\n",
        "ax.text(s=\"Percentage reporting to have \\never taken Adderall non- \\nmedically, by age group\", x=-0.82, y=15.6, fontsize=16, color = 'gray')\n",
        "ax.bar([0.5,1.5,2.5,3.5,4.5,5.5,6.5],fake2, color = ['#008FD5','#008FD5','#AAC7D5','#69B3D8','#008FD5','#008FD5','#008FD5'], width=.5, align='center')\n",
        "\n",
        "#set ticks (x and y)\n",
        "ax.set_xticks([0.5,1.5,2.5,3.5,4.5,5.5,6.5], minor=True)\n",
        "ax.set_yticks([0,2,4,6,8,10,12,14])\n",
        "\n",
        "#set tick labels\n",
        "ax.set_xticklabels('')\n",
        "ax.set_yticklabels([0,2,4,6,8,10,12,'14%'], fontsize=12, fontweight='bold', color = 'gray')\n",
        "ax.set_xticklabels(['12-14','15-17','18-22', '23-25', '26-34', '35+'], fontsize=10, color = 'gray', minor=True)\n",
        "ax.set_xlabel('Age',fontsize=12)\n",
        "ax.tick_params('x', length=8, width=1, which='major', color='lightgray')\n",
        "\n",
        "ax.set_facecolor('#edf2f2')\n",
        "ax.margins(x=0.05)\n",
        "\n",
        "ax.text(1, 13, \"In college\", fontsize=13, color = '#55ABD5')\n",
        "ax.text(0.5, 9.2, \"Not in \\ncollege\", fontsize=13, color = '#B1CBD8')\n",
        "\n",
        "# Turn off the spines\n",
        "ax.spines['left'].set_visible(False)\n",
        "ax.spines['right'].set_visible(False)\n",
        "ax.spines['top'].set_visible(False)\n",
        "ax.spines['bottom'].set_visible(False)\n",
        "\n",
        "fig.text(x=0, y=0, s='FiveThirtyEight',color='#888888', ha='left', va='bottom', fontsize=10)\n",
        "fig.text(x=0.60, y=0, s='SOURCE: NSDUH 2013',color='#888888', ha='left', va='bottom', fontsize=10)\n",
        "\n",
        "plt.show()\n",
        "\n",
        "## Need to figure out how to combine college and not in college together, add all grid lines, fix tik marks"
      ],
      "execution_count": 322,
      "outputs": [
        {
          "output_type": "display_data",
          "data": {
            "image/png": "[encoded data removed]",
            "text/plain": [
              "<Figure size 288x612 with 1 Axes>"
            ]
          },
          "metadata": {
            "tags": []
          }
        }
      ]
    },
    {
      "cell_type": "code",
      "metadata": {
        "id": "skWBWxxmu69Z",
        "colab_type": "code",
        "colab": {
          "base_uri": "https://localhost:8080/",
          "height": 601
        },
        "outputId": "930d370a-b13d-4da3-c1ae-479ce5b00494"
      },
      "source": [
        "display(example2)"
      ],
      "execution_count": 168,
      "outputs": [
        {
          "output_type": "display_data",
          "data": {
            "text/html": [
              "<img src=\"https://fivethirtyeight.com/wp-content/uploads/2015/11/pierson-datalab-study_drugs-1.png\" width=\"305\"/>"
            ],
            "text/plain": [
              "<IPython.core.display.Image object>"
            ]
          },
          "metadata": {
            "tags": []
          }
        }
      ]
    },
    {
      "cell_type": "markdown",
      "metadata": {
        "id": "0wSrBzmJyWaV",
        "colab_type": "text"
      },
      "source": [
        "# STRETCH OPTIONS\n",
        "\n",
        "### 1) Reproduce one of the following using the matplotlib or seaborn libraries:\n",
        "\n",
        "- [thanksgiving-2015](https://fivethirtyeight.com/features/heres-what-your-part-of-america-eats-on-thanksgiving/) \n",
        "- [candy-power-ranking](https://fivethirtyeight.com/features/the-ultimate-halloween-candy-power-ranking/) \n",
        "- or another example of your choice!\n",
        "\n",
        "### 2) Make more charts!\n",
        "\n",
        "Choose a chart you want to make, from [Visual Vocabulary - Vega Edition](http://ft.com/vocabulary).\n",
        "\n",
        "Find the chart in an example gallery of a Python data visualization library:\n",
        "- [Seaborn](http://seaborn.pydata.org/examples/index.html)\n",
        "- [Altair](https://altair-viz.github.io/gallery/index.html)\n",
        "- [Matplotlib](https://matplotlib.org/gallery.html)\n",
        "- [Pandas](https://pandas.pydata.org/pandas-docs/stable/visualization.html)\n",
        "\n",
        "Reproduce the chart. [Optionally, try the \"Ben Franklin Method.\"](https://docs.google.com/document/d/1ubOw9B3Hfip27hF2ZFnW3a3z9xAgrUDRReOEo-FHCVs/edit) If you want, experiment and make changes.\n",
        "\n",
        "Take notes. Consider sharing your work with your cohort!"
      ]
    },
    {
      "cell_type": "code",
      "metadata": {
        "id": "dRJkKftiy5BJ",
        "colab_type": "code",
        "colab": {}
      },
      "source": [
        "# More Work Here"
      ],
      "execution_count": null,
      "outputs": []
    }
  ]
}