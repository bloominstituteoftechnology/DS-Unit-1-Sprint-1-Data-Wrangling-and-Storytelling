{
  "nbformat": 4,
  "nbformat_minor": 0,
  "metadata": {
    "colab": {
      "name": "NP LS_DS_114_Make_Explanatory_Visualizations_Assignment.ipynb",
      "provenance": [],
      "collapsed_sections": [],
      "include_colab_link": true
    },
    "language_info": {
      "codemirror_mode": {
        "name": "ipython",
        "version": 3
      },
      "file_extension": ".py",
      "mimetype": "text/x-python",
      "name": "python",
      "nbconvert_exporter": "python",
      "pygments_lexer": "ipython3",
      "version": "3.7.1"
    },
    "kernelspec": {
      "display_name": "Python 3",
      "language": "python",
      "name": "python3"
    }
  },
  "cells": [
    {
      "cell_type": "markdown",
      "metadata": {
        "id": "view-in-github",
        "colab_type": "text"
      },
      "source": [
        "<a href=\"https://colab.research.google.com/github/noah40povis/DS-Unit-1-Sprint-1-Data-Wrangling-and-Storytelling/blob/master/module4-make-explanatory-visualizations/NP_LS_DS_114_Make_Explanatory_Visualizations_Assignment.ipynb\" target=\"_parent\"><img src=\"https://colab.research.google.com/assets/colab-badge.svg\" alt=\"Open In Colab\"/></a>"
      ]
    },
    {
      "cell_type": "markdown",
      "metadata": {
        "colab_type": "text",
        "id": "NMEswXWh9mqw"
      },
      "source": [
        "Lambda School Data Science\n",
        "\n",
        "*Unit 1, Sprint 1, Module 4*\n",
        "\n",
        "---\n",
        "\n",
        "# ASSIGNMENT\n",
        "\n",
        "### 1) Replicate the lesson code. I recommend that you [do not copy-paste](https://docs.google.com/document/d/1ubOw9B3Hfip27hF2ZFnW3a3z9xAgrUDRReOEo-FHCVs/edit).\n",
        "\n",
        "Get caught up to where we got our example in class and then try and take things further. How close to \"pixel perfect\" can you make the lecture graph?\n",
        "\n",
        "Once you have something that you're proud of, share your graph in the cohort channel and move on to the second exercise.\n",
        "\n",
        "### 2) Reproduce another example from [FiveThityEight's shared data repository](https://data.fivethirtyeight.com/).\n",
        "\n",
        "**WARNING**: There are a lot of very custom graphs and tables at the above link. I **highly** recommend not trying to reproduce any that look like a table of values or something really different from the graph types that we are already familiar with. Search through the posts until you find a graph type that you are more or less familiar with: histogram, bar chart, stacked bar chart, line chart, [seaborn relplot](https://seaborn.pydata.org/generated/seaborn.relplot.html), etc. Recreating some of the graphics that 538 uses would be a lot easier in Adobe photoshop/illustrator than with matplotlib. \n",
        "\n",
        "- If you put in some time to find a graph that looks \"easy\" to replicate you'll probably find that it's not as easy as you thought. \n",
        "\n",
        "- If you start with a graph that looks hard to replicate you'll probably run up against a brick wall and be disappointed with your afternoon.\n",
        "\n",
        "\n",
        "\n",
        "\n",
        "\n",
        "\n",
        "\n",
        "\n",
        "\n",
        "\n"
      ]
    },
    {
      "cell_type": "code",
      "metadata": {
        "id": "7SY1ZHawyZvz",
        "colab_type": "code",
        "colab": {
          "base_uri": "https://localhost:8080/",
          "height": 82
        },
        "outputId": "4126f07b-01cf-424c-88d0-4ccbabf3a855"
      },
      "source": [
        "%matplotlib inline\n",
        "import matplotlib.pyplot as plt\n",
        "import numpy as np\n",
        "import pandas as pd\n",
        "import seaborn as sns"
      ],
      "execution_count": 3,
      "outputs": [
        {
          "output_type": "stream",
          "text": [
            "/usr/local/lib/python3.6/dist-packages/statsmodels/tools/_testing.py:19: FutureWarning: pandas.util.testing is deprecated. Use the functions in the public API at pandas.testing instead.\n",
            "  import pandas.util.testing as tm\n"
          ],
          "name": "stderr"
        }
      ]
    },
    {
      "cell_type": "code",
      "metadata": {
        "id": "JIryKNBcpb1I",
        "colab_type": "code",
        "colab": {}
      },
      "source": [
        "#loaded in the csv from git \n",
        "df = pd.read_csv('https://raw.githubusercontent.com/noah40povis/data/master/russia-investigation/russia-investigation.csv')"
      ],
      "execution_count": 0,
      "outputs": []
    },
    {
      "cell_type": "code",
      "metadata": {
        "id": "wS6wxupSTtNE",
        "colab_type": "code",
        "colab": {}
      },
      "source": [
        ""
      ],
      "execution_count": 0,
      "outputs": []
    },
    {
      "cell_type": "markdown",
      "metadata": {
        "id": "yLv6uILiTuw8",
        "colab_type": "text"
      },
      "source": [
        "The graph I wanted to replicate is titled: 'All special investigation charges since 1973'.\n",
        "\n",
        "Link to site with graph: https://projects.fivethirtyeight.com/russia-investigation/"
      ]
    },
    {
      "cell_type": "code",
      "metadata": {
        "id": "Pxm79Smrp4HM",
        "colab_type": "code",
        "outputId": "bb0f313b-f0dd-4ade-ee50-5215fb09208b",
        "colab": {
          "base_uri": "https://localhost:8080/",
          "height": 522
        }
      },
      "source": [
        "df.head() #check my df "
      ],
      "execution_count": 5,
      "outputs": [
        {
          "output_type": "execute_result",
          "data": {
            "text/html": [
              "<div>\n",
              "<style scoped>\n",
              "    .dataframe tbody tr th:only-of-type {\n",
              "        vertical-align: middle;\n",
              "    }\n",
              "\n",
              "    .dataframe tbody tr th {\n",
              "        vertical-align: top;\n",
              "    }\n",
              "\n",
              "    .dataframe thead th {\n",
              "        text-align: right;\n",
              "    }\n",
              "</style>\n",
              "<table border=\"1\" class=\"dataframe\">\n",
              "  <thead>\n",
              "    <tr style=\"text-align: right;\">\n",
              "      <th></th>\n",
              "      <th>investigation</th>\n",
              "      <th>investigation-start</th>\n",
              "      <th>investigation-end</th>\n",
              "      <th>investigation-days</th>\n",
              "      <th>name</th>\n",
              "      <th>indictment-days</th>\n",
              "      <th>type</th>\n",
              "      <th>cp-date</th>\n",
              "      <th>cp-days</th>\n",
              "      <th>overturned</th>\n",
              "      <th>pardoned</th>\n",
              "      <th>american</th>\n",
              "      <th>president</th>\n",
              "    </tr>\n",
              "  </thead>\n",
              "  <tbody>\n",
              "    <tr>\n",
              "      <th>0</th>\n",
              "      <td>watergate</td>\n",
              "      <td>1973-05-19</td>\n",
              "      <td>1977-06-19</td>\n",
              "      <td>1492</td>\n",
              "      <td>James W. McCord</td>\n",
              "      <td>-246.0</td>\n",
              "      <td>conviction</td>\n",
              "      <td>1973-01-30</td>\n",
              "      <td>-109.0</td>\n",
              "      <td>False</td>\n",
              "      <td>False</td>\n",
              "      <td>True</td>\n",
              "      <td>Richard Nixon</td>\n",
              "    </tr>\n",
              "    <tr>\n",
              "      <th>1</th>\n",
              "      <td>watergate</td>\n",
              "      <td>1973-05-19</td>\n",
              "      <td>1977-06-19</td>\n",
              "      <td>1492</td>\n",
              "      <td>Bernard L. Barker</td>\n",
              "      <td>-246.0</td>\n",
              "      <td>conviction</td>\n",
              "      <td>1973-01-15</td>\n",
              "      <td>-124.0</td>\n",
              "      <td>False</td>\n",
              "      <td>False</td>\n",
              "      <td>True</td>\n",
              "      <td>Richard Nixon</td>\n",
              "    </tr>\n",
              "    <tr>\n",
              "      <th>2</th>\n",
              "      <td>watergate</td>\n",
              "      <td>1973-05-19</td>\n",
              "      <td>1977-06-19</td>\n",
              "      <td>1492</td>\n",
              "      <td>Bernard L. Barker</td>\n",
              "      <td>292.0</td>\n",
              "      <td>conviction</td>\n",
              "      <td>1974-07-12</td>\n",
              "      <td>419.0</td>\n",
              "      <td>True</td>\n",
              "      <td>False</td>\n",
              "      <td>True</td>\n",
              "      <td>Richard Nixon</td>\n",
              "    </tr>\n",
              "    <tr>\n",
              "      <th>3</th>\n",
              "      <td>watergate</td>\n",
              "      <td>1973-05-19</td>\n",
              "      <td>1977-06-19</td>\n",
              "      <td>1492</td>\n",
              "      <td>Eugenio R. Martinez</td>\n",
              "      <td>-246.0</td>\n",
              "      <td>guilty-plea</td>\n",
              "      <td>1973-01-15</td>\n",
              "      <td>-124.0</td>\n",
              "      <td>False</td>\n",
              "      <td>True</td>\n",
              "      <td>True</td>\n",
              "      <td>Richard Nixon</td>\n",
              "    </tr>\n",
              "    <tr>\n",
              "      <th>4</th>\n",
              "      <td>watergate</td>\n",
              "      <td>1973-05-19</td>\n",
              "      <td>1977-06-19</td>\n",
              "      <td>1492</td>\n",
              "      <td>Eugenio R. Martinez</td>\n",
              "      <td>292.0</td>\n",
              "      <td>conviction</td>\n",
              "      <td>1974-07-12</td>\n",
              "      <td>419.0</td>\n",
              "      <td>True</td>\n",
              "      <td>False</td>\n",
              "      <td>True</td>\n",
              "      <td>Richard Nixon</td>\n",
              "    </tr>\n",
              "  </tbody>\n",
              "</table>\n",
              "</div>"
            ],
            "text/plain": [
              "  investigation investigation-start  ... american      president\n",
              "0     watergate          1973-05-19  ...     True  Richard Nixon\n",
              "1     watergate          1973-05-19  ...     True  Richard Nixon\n",
              "2     watergate          1973-05-19  ...     True  Richard Nixon\n",
              "3     watergate          1973-05-19  ...     True  Richard Nixon\n",
              "4     watergate          1973-05-19  ...     True  Richard Nixon\n",
              "\n",
              "[5 rows x 13 columns]"
            ]
          },
          "metadata": {
            "tags": []
          },
          "execution_count": 5
        }
      ]
    },
    {
      "cell_type": "code",
      "metadata": {
        "id": "Sfq3aFTCqjlV",
        "colab_type": "code",
        "colab": {}
      },
      "source": [
        "#columns needed: \n",
        "# investigation-start\t/ investigation-end\n",
        "#type \n",
        "#investigation "
      ],
      "execution_count": 0,
      "outputs": []
    },
    {
      "cell_type": "code",
      "metadata": {
        "id": "xh-gNqfzx2uI",
        "colab_type": "code",
        "colab": {}
      },
      "source": [
        "df=df[['investigation-start','investigation-end','type','investigation', 'name']] #grabbed columns"
      ],
      "execution_count": 0,
      "outputs": []
    },
    {
      "cell_type": "code",
      "metadata": {
        "id": "ILfe-NNyyZLF",
        "colab_type": "code",
        "outputId": "b91975e9-7c82-43dd-c89b-ebaaa1326b16",
        "colab": {
          "base_uri": "https://localhost:8080/",
          "height": 260
        }
      },
      "source": [
        "df.head()"
      ],
      "execution_count": 8,
      "outputs": [
        {
          "output_type": "execute_result",
          "data": {
            "text/html": [
              "<div>\n",
              "<style scoped>\n",
              "    .dataframe tbody tr th:only-of-type {\n",
              "        vertical-align: middle;\n",
              "    }\n",
              "\n",
              "    .dataframe tbody tr th {\n",
              "        vertical-align: top;\n",
              "    }\n",
              "\n",
              "    .dataframe thead th {\n",
              "        text-align: right;\n",
              "    }\n",
              "</style>\n",
              "<table border=\"1\" class=\"dataframe\">\n",
              "  <thead>\n",
              "    <tr style=\"text-align: right;\">\n",
              "      <th></th>\n",
              "      <th>investigation-start</th>\n",
              "      <th>investigation-end</th>\n",
              "      <th>type</th>\n",
              "      <th>investigation</th>\n",
              "      <th>name</th>\n",
              "    </tr>\n",
              "  </thead>\n",
              "  <tbody>\n",
              "    <tr>\n",
              "      <th>0</th>\n",
              "      <td>1973-05-19</td>\n",
              "      <td>1977-06-19</td>\n",
              "      <td>conviction</td>\n",
              "      <td>watergate</td>\n",
              "      <td>James W. McCord</td>\n",
              "    </tr>\n",
              "    <tr>\n",
              "      <th>1</th>\n",
              "      <td>1973-05-19</td>\n",
              "      <td>1977-06-19</td>\n",
              "      <td>conviction</td>\n",
              "      <td>watergate</td>\n",
              "      <td>Bernard L. Barker</td>\n",
              "    </tr>\n",
              "    <tr>\n",
              "      <th>2</th>\n",
              "      <td>1973-05-19</td>\n",
              "      <td>1977-06-19</td>\n",
              "      <td>conviction</td>\n",
              "      <td>watergate</td>\n",
              "      <td>Bernard L. Barker</td>\n",
              "    </tr>\n",
              "    <tr>\n",
              "      <th>3</th>\n",
              "      <td>1973-05-19</td>\n",
              "      <td>1977-06-19</td>\n",
              "      <td>guilty-plea</td>\n",
              "      <td>watergate</td>\n",
              "      <td>Eugenio R. Martinez</td>\n",
              "    </tr>\n",
              "    <tr>\n",
              "      <th>4</th>\n",
              "      <td>1973-05-19</td>\n",
              "      <td>1977-06-19</td>\n",
              "      <td>conviction</td>\n",
              "      <td>watergate</td>\n",
              "      <td>Eugenio R. Martinez</td>\n",
              "    </tr>\n",
              "  </tbody>\n",
              "</table>\n",
              "</div>"
            ],
            "text/plain": [
              "  investigation-start investigation-end  ... investigation                 name\n",
              "0          1973-05-19        1977-06-19  ...     watergate      James W. McCord\n",
              "1          1973-05-19        1977-06-19  ...     watergate    Bernard L. Barker\n",
              "2          1973-05-19        1977-06-19  ...     watergate    Bernard L. Barker\n",
              "3          1973-05-19        1977-06-19  ...     watergate  Eugenio R. Martinez\n",
              "4          1973-05-19        1977-06-19  ...     watergate  Eugenio R. Martinez\n",
              "\n",
              "[5 rows x 5 columns]"
            ]
          },
          "metadata": {
            "tags": []
          },
          "execution_count": 8
        }
      ]
    },
    {
      "cell_type": "code",
      "metadata": {
        "id": "dlLX9oeqydAb",
        "colab_type": "code",
        "colab": {}
      },
      "source": [
        "#convert these two columns to datetime format so i can substract them later to form a new col\n",
        "df['investigation-start'] = pd.to_datetime(df['investigation-start'], infer_datetime_format=True)\n",
        "df['investigation-end'] = pd.to_datetime(df['investigation-end'], infer_datetime_format=True)\n"
      ],
      "execution_count": 0,
      "outputs": []
    },
    {
      "cell_type": "code",
      "metadata": {
        "id": "zniWA_Ymz3aS",
        "colab_type": "code",
        "colab": {
          "base_uri": "https://localhost:8080/",
          "height": 282
        },
        "outputId": "fa718792-d5ca-4d14-93ff-d52c775258f8"
      },
      "source": [
        "df['investigation-start'].dt.year #get year "
      ],
      "execution_count": 10,
      "outputs": [
        {
          "output_type": "execute_result",
          "data": {
            "text/plain": [
              "0      1973\n",
              "1      1973\n",
              "2      1973\n",
              "3      1973\n",
              "4      1973\n",
              "       ... \n",
              "189    2017\n",
              "190    2017\n",
              "191    2017\n",
              "192    2017\n",
              "193    2017\n",
              "Name: investigation-start, Length: 194, dtype: int64"
            ]
          },
          "metadata": {
            "tags": []
          },
          "execution_count": 10
        }
      ]
    },
    {
      "cell_type": "code",
      "metadata": {
        "id": "DkYzqJ5bz3pf",
        "colab_type": "code",
        "colab": {
          "base_uri": "https://localhost:8080/",
          "height": 282
        },
        "outputId": "5ffb71f7-36a0-4e07-804e-d4d9fe9da0fd"
      },
      "source": [
        "df['investigation-end'].dt.year #get year "
      ],
      "execution_count": 11,
      "outputs": [
        {
          "output_type": "execute_result",
          "data": {
            "text/plain": [
              "0      1977.0\n",
              "1      1977.0\n",
              "2      1977.0\n",
              "3      1977.0\n",
              "4      1977.0\n",
              "        ...  \n",
              "189       NaN\n",
              "190       NaN\n",
              "191       NaN\n",
              "192       NaN\n",
              "193       NaN\n",
              "Name: investigation-end, Length: 194, dtype: float64"
            ]
          },
          "metadata": {
            "tags": []
          },
          "execution_count": 11
        }
      ]
    },
    {
      "cell_type": "code",
      "metadata": {
        "id": "Cg5x_80kz3uq",
        "colab_type": "code",
        "colab": {}
      },
      "source": [
        "df['investigation_length'] = (df['investigation-end'].dt.year - df['investigation-start'].dt.year) #create new column \n"
      ],
      "execution_count": 0,
      "outputs": []
    },
    {
      "cell_type": "code",
      "metadata": {
        "id": "p9ef6QYE03RZ",
        "colab_type": "code",
        "colab": {
          "base_uri": "https://localhost:8080/",
          "height": 370
        },
        "outputId": "a180596e-8042-4153-cd1a-de79fc20a14d"
      },
      "source": [
        "df['investigation_length'].head(15)"
      ],
      "execution_count": 13,
      "outputs": [
        {
          "output_type": "execute_result",
          "data": {
            "text/plain": [
              "0     4.0\n",
              "1     4.0\n",
              "2     4.0\n",
              "3     4.0\n",
              "4     4.0\n",
              "5     4.0\n",
              "6     4.0\n",
              "7     4.0\n",
              "8     4.0\n",
              "9     4.0\n",
              "10    4.0\n",
              "11    4.0\n",
              "12    4.0\n",
              "13    4.0\n",
              "14    4.0\n",
              "Name: investigation_length, dtype: float64"
            ]
          },
          "metadata": {
            "tags": []
          },
          "execution_count": 13
        }
      ]
    },
    {
      "cell_type": "code",
      "metadata": {
        "id": "lVpJq1PA1ThK",
        "colab_type": "code",
        "colab": {
          "base_uri": "https://localhost:8080/",
          "height": 1000
        },
        "outputId": "77c6b8c4-087c-487b-f749-c3bf0748aa00"
      },
      "source": [
        "df.tail(30)"
      ],
      "execution_count": 14,
      "outputs": [
        {
          "output_type": "execute_result",
          "data": {
            "text/html": [
              "<div>\n",
              "<style scoped>\n",
              "    .dataframe tbody tr th:only-of-type {\n",
              "        vertical-align: middle;\n",
              "    }\n",
              "\n",
              "    .dataframe tbody tr th {\n",
              "        vertical-align: top;\n",
              "    }\n",
              "\n",
              "    .dataframe thead th {\n",
              "        text-align: right;\n",
              "    }\n",
              "</style>\n",
              "<table border=\"1\" class=\"dataframe\">\n",
              "  <thead>\n",
              "    <tr style=\"text-align: right;\">\n",
              "      <th></th>\n",
              "      <th>investigation-start</th>\n",
              "      <th>investigation-end</th>\n",
              "      <th>type</th>\n",
              "      <th>investigation</th>\n",
              "      <th>name</th>\n",
              "      <th>investigation_length</th>\n",
              "    </tr>\n",
              "  </thead>\n",
              "  <tbody>\n",
              "    <tr>\n",
              "      <th>164</th>\n",
              "      <td>2017-05-17</td>\n",
              "      <td>NaT</td>\n",
              "      <td>indictment</td>\n",
              "      <td>russia</td>\n",
              "      <td>Russian national 1</td>\n",
              "      <td>NaN</td>\n",
              "    </tr>\n",
              "    <tr>\n",
              "      <th>165</th>\n",
              "      <td>2017-05-17</td>\n",
              "      <td>NaT</td>\n",
              "      <td>indictment</td>\n",
              "      <td>russia</td>\n",
              "      <td>Russian national 2</td>\n",
              "      <td>NaN</td>\n",
              "    </tr>\n",
              "    <tr>\n",
              "      <th>166</th>\n",
              "      <td>2017-05-17</td>\n",
              "      <td>NaT</td>\n",
              "      <td>indictment</td>\n",
              "      <td>russia</td>\n",
              "      <td>Russian national 3</td>\n",
              "      <td>NaN</td>\n",
              "    </tr>\n",
              "    <tr>\n",
              "      <th>167</th>\n",
              "      <td>2017-05-17</td>\n",
              "      <td>NaT</td>\n",
              "      <td>indictment</td>\n",
              "      <td>russia</td>\n",
              "      <td>Russian national 4</td>\n",
              "      <td>NaN</td>\n",
              "    </tr>\n",
              "    <tr>\n",
              "      <th>168</th>\n",
              "      <td>2017-05-17</td>\n",
              "      <td>NaT</td>\n",
              "      <td>indictment</td>\n",
              "      <td>russia</td>\n",
              "      <td>Russian national 5</td>\n",
              "      <td>NaN</td>\n",
              "    </tr>\n",
              "    <tr>\n",
              "      <th>169</th>\n",
              "      <td>2017-05-17</td>\n",
              "      <td>NaT</td>\n",
              "      <td>indictment</td>\n",
              "      <td>russia</td>\n",
              "      <td>Russian national 6</td>\n",
              "      <td>NaN</td>\n",
              "    </tr>\n",
              "    <tr>\n",
              "      <th>170</th>\n",
              "      <td>2017-05-17</td>\n",
              "      <td>NaT</td>\n",
              "      <td>indictment</td>\n",
              "      <td>russia</td>\n",
              "      <td>Russian national 7</td>\n",
              "      <td>NaN</td>\n",
              "    </tr>\n",
              "    <tr>\n",
              "      <th>171</th>\n",
              "      <td>2017-05-17</td>\n",
              "      <td>NaT</td>\n",
              "      <td>indictment</td>\n",
              "      <td>russia</td>\n",
              "      <td>Russian national 8</td>\n",
              "      <td>NaN</td>\n",
              "    </tr>\n",
              "    <tr>\n",
              "      <th>172</th>\n",
              "      <td>2017-05-17</td>\n",
              "      <td>NaT</td>\n",
              "      <td>indictment</td>\n",
              "      <td>russia</td>\n",
              "      <td>Russian national 9</td>\n",
              "      <td>NaN</td>\n",
              "    </tr>\n",
              "    <tr>\n",
              "      <th>173</th>\n",
              "      <td>2017-05-17</td>\n",
              "      <td>NaT</td>\n",
              "      <td>indictment</td>\n",
              "      <td>russia</td>\n",
              "      <td>Russian national 10</td>\n",
              "      <td>NaN</td>\n",
              "    </tr>\n",
              "    <tr>\n",
              "      <th>174</th>\n",
              "      <td>2017-05-17</td>\n",
              "      <td>NaT</td>\n",
              "      <td>indictment</td>\n",
              "      <td>russia</td>\n",
              "      <td>Russian national 11</td>\n",
              "      <td>NaN</td>\n",
              "    </tr>\n",
              "    <tr>\n",
              "      <th>175</th>\n",
              "      <td>2017-05-17</td>\n",
              "      <td>NaT</td>\n",
              "      <td>indictment</td>\n",
              "      <td>russia</td>\n",
              "      <td>Russian national 12</td>\n",
              "      <td>NaN</td>\n",
              "    </tr>\n",
              "    <tr>\n",
              "      <th>176</th>\n",
              "      <td>2017-05-17</td>\n",
              "      <td>NaT</td>\n",
              "      <td>indictment</td>\n",
              "      <td>russia</td>\n",
              "      <td>Russian national 13</td>\n",
              "      <td>NaN</td>\n",
              "    </tr>\n",
              "    <tr>\n",
              "      <th>177</th>\n",
              "      <td>2017-05-17</td>\n",
              "      <td>NaT</td>\n",
              "      <td>guilty-plea</td>\n",
              "      <td>russia</td>\n",
              "      <td>Richard Pinedo</td>\n",
              "      <td>NaN</td>\n",
              "    </tr>\n",
              "    <tr>\n",
              "      <th>178</th>\n",
              "      <td>2017-05-17</td>\n",
              "      <td>NaT</td>\n",
              "      <td>guilty-plea</td>\n",
              "      <td>russia</td>\n",
              "      <td>Alex Van Der Zwaan</td>\n",
              "      <td>NaN</td>\n",
              "    </tr>\n",
              "    <tr>\n",
              "      <th>179</th>\n",
              "      <td>2017-05-17</td>\n",
              "      <td>NaT</td>\n",
              "      <td>indictment</td>\n",
              "      <td>russia</td>\n",
              "      <td>Konstantin Kilimnik</td>\n",
              "      <td>NaN</td>\n",
              "    </tr>\n",
              "    <tr>\n",
              "      <th>180</th>\n",
              "      <td>2017-05-17</td>\n",
              "      <td>NaT</td>\n",
              "      <td>indictment</td>\n",
              "      <td>russia</td>\n",
              "      <td>Russian national 14</td>\n",
              "      <td>NaN</td>\n",
              "    </tr>\n",
              "    <tr>\n",
              "      <th>181</th>\n",
              "      <td>2017-05-17</td>\n",
              "      <td>NaT</td>\n",
              "      <td>indictment</td>\n",
              "      <td>russia</td>\n",
              "      <td>Russian national 15</td>\n",
              "      <td>NaN</td>\n",
              "    </tr>\n",
              "    <tr>\n",
              "      <th>182</th>\n",
              "      <td>2017-05-17</td>\n",
              "      <td>NaT</td>\n",
              "      <td>indictment</td>\n",
              "      <td>russia</td>\n",
              "      <td>Russian national 16</td>\n",
              "      <td>NaN</td>\n",
              "    </tr>\n",
              "    <tr>\n",
              "      <th>183</th>\n",
              "      <td>2017-05-17</td>\n",
              "      <td>NaT</td>\n",
              "      <td>indictment</td>\n",
              "      <td>russia</td>\n",
              "      <td>Russian national 17</td>\n",
              "      <td>NaN</td>\n",
              "    </tr>\n",
              "    <tr>\n",
              "      <th>184</th>\n",
              "      <td>2017-05-17</td>\n",
              "      <td>NaT</td>\n",
              "      <td>indictment</td>\n",
              "      <td>russia</td>\n",
              "      <td>Russian national 18</td>\n",
              "      <td>NaN</td>\n",
              "    </tr>\n",
              "    <tr>\n",
              "      <th>185</th>\n",
              "      <td>2017-05-17</td>\n",
              "      <td>NaT</td>\n",
              "      <td>indictment</td>\n",
              "      <td>russia</td>\n",
              "      <td>Russian national 19</td>\n",
              "      <td>NaN</td>\n",
              "    </tr>\n",
              "    <tr>\n",
              "      <th>186</th>\n",
              "      <td>2017-05-17</td>\n",
              "      <td>NaT</td>\n",
              "      <td>indictment</td>\n",
              "      <td>russia</td>\n",
              "      <td>Russian national 20</td>\n",
              "      <td>NaN</td>\n",
              "    </tr>\n",
              "    <tr>\n",
              "      <th>187</th>\n",
              "      <td>2017-05-17</td>\n",
              "      <td>NaT</td>\n",
              "      <td>indictment</td>\n",
              "      <td>russia</td>\n",
              "      <td>Russian national 21</td>\n",
              "      <td>NaN</td>\n",
              "    </tr>\n",
              "    <tr>\n",
              "      <th>188</th>\n",
              "      <td>2017-05-17</td>\n",
              "      <td>NaT</td>\n",
              "      <td>indictment</td>\n",
              "      <td>russia</td>\n",
              "      <td>Russian national 22</td>\n",
              "      <td>NaN</td>\n",
              "    </tr>\n",
              "    <tr>\n",
              "      <th>189</th>\n",
              "      <td>2017-05-17</td>\n",
              "      <td>NaT</td>\n",
              "      <td>indictment</td>\n",
              "      <td>russia</td>\n",
              "      <td>Russian national 23</td>\n",
              "      <td>NaN</td>\n",
              "    </tr>\n",
              "    <tr>\n",
              "      <th>190</th>\n",
              "      <td>2017-05-17</td>\n",
              "      <td>NaT</td>\n",
              "      <td>indictment</td>\n",
              "      <td>russia</td>\n",
              "      <td>Russian national 24</td>\n",
              "      <td>NaN</td>\n",
              "    </tr>\n",
              "    <tr>\n",
              "      <th>191</th>\n",
              "      <td>2017-05-17</td>\n",
              "      <td>NaT</td>\n",
              "      <td>indictment</td>\n",
              "      <td>russia</td>\n",
              "      <td>Russian national 25</td>\n",
              "      <td>NaN</td>\n",
              "    </tr>\n",
              "    <tr>\n",
              "      <th>192</th>\n",
              "      <td>2017-05-17</td>\n",
              "      <td>NaT</td>\n",
              "      <td>guilty-plea</td>\n",
              "      <td>russia</td>\n",
              "      <td>Michael Cohen</td>\n",
              "      <td>NaN</td>\n",
              "    </tr>\n",
              "    <tr>\n",
              "      <th>193</th>\n",
              "      <td>2017-05-17</td>\n",
              "      <td>NaT</td>\n",
              "      <td>indictment</td>\n",
              "      <td>russia</td>\n",
              "      <td>Roger Stone</td>\n",
              "      <td>NaN</td>\n",
              "    </tr>\n",
              "  </tbody>\n",
              "</table>\n",
              "</div>"
            ],
            "text/plain": [
              "    investigation-start  ... investigation_length\n",
              "164          2017-05-17  ...                  NaN\n",
              "165          2017-05-17  ...                  NaN\n",
              "166          2017-05-17  ...                  NaN\n",
              "167          2017-05-17  ...                  NaN\n",
              "168          2017-05-17  ...                  NaN\n",
              "169          2017-05-17  ...                  NaN\n",
              "170          2017-05-17  ...                  NaN\n",
              "171          2017-05-17  ...                  NaN\n",
              "172          2017-05-17  ...                  NaN\n",
              "173          2017-05-17  ...                  NaN\n",
              "174          2017-05-17  ...                  NaN\n",
              "175          2017-05-17  ...                  NaN\n",
              "176          2017-05-17  ...                  NaN\n",
              "177          2017-05-17  ...                  NaN\n",
              "178          2017-05-17  ...                  NaN\n",
              "179          2017-05-17  ...                  NaN\n",
              "180          2017-05-17  ...                  NaN\n",
              "181          2017-05-17  ...                  NaN\n",
              "182          2017-05-17  ...                  NaN\n",
              "183          2017-05-17  ...                  NaN\n",
              "184          2017-05-17  ...                  NaN\n",
              "185          2017-05-17  ...                  NaN\n",
              "186          2017-05-17  ...                  NaN\n",
              "187          2017-05-17  ...                  NaN\n",
              "188          2017-05-17  ...                  NaN\n",
              "189          2017-05-17  ...                  NaN\n",
              "190          2017-05-17  ...                  NaN\n",
              "191          2017-05-17  ...                  NaN\n",
              "192          2017-05-17  ...                  NaN\n",
              "193          2017-05-17  ...                  NaN\n",
              "\n",
              "[30 rows x 6 columns]"
            ]
          },
          "metadata": {
            "tags": []
          },
          "execution_count": 14
        }
      ]
    },
    {
      "cell_type": "code",
      "metadata": {
        "id": "yBpZvr5R8GTg",
        "colab_type": "code",
        "colab": {
          "base_uri": "https://localhost:8080/",
          "height": 568
        },
        "outputId": "64d20c63-2491-43e5-d80a-05b0099e1ec5"
      },
      "source": [
        "df.investigation.value_counts() #get names of investigations so i can copy the ones I will be using specifically for this graph "
      ],
      "execution_count": 15,
      "outputs": [
        {
          "output_type": "execute_result",
          "data": {
            "text/plain": [
              "watergate                        72\n",
              "russia                           34\n",
              "whitewater                       20\n",
              "pierce                           18\n",
              "iran-contra                      14\n",
              "espy                             13\n",
              "cisneros                          6\n",
              "sealed-investigation-hwbush-1     1\n",
              "bruce-babbitt                     1\n",
              "edwin-meese                       1\n",
              "waco                              1\n",
              "plame                             1\n",
              "deaver                            1\n",
              "ted-olson                         1\n",
              "sealed-investigation-reagan       1\n",
              "bush-clinton-passport             1\n",
              "sealed-investigation-hwbush-2     1\n",
              "eli-segal                         1\n",
              "wedtech                           1\n",
              "hamilton-jordan                   1\n",
              "herman                            1\n",
              "raymond-donovan                   1\n",
              "ron-brown                         1\n",
              "tim-kraft                         1\n",
              "Name: investigation, dtype: int64"
            ]
          },
          "metadata": {
            "tags": []
          },
          "execution_count": 15
        }
      ]
    },
    {
      "cell_type": "code",
      "metadata": {
        "id": "u3H3R8iP8Gt3",
        "colab_type": "code",
        "colab": {}
      },
      "source": [
        "# create variable to store strings \n",
        "search_values = ['watergate','russia','whitewater', 'pierce', 'iran-contra','espy','cisneros','herman','plame', 'deaver', 'wedtech'] "
      ],
      "execution_count": 0,
      "outputs": []
    },
    {
      "cell_type": "code",
      "metadata": {
        "id": "_etgAms6-Ag_",
        "colab_type": "code",
        "colab": {
          "base_uri": "https://localhost:8080/",
          "height": 972
        },
        "outputId": "e19a5583-8f6f-42bd-d771-0b90e61abeac"
      },
      "source": [
        "#pull strings from column that match the search_values variable only\n",
        "df[df['investigation'].str.contains('|'.join(search_values ))]"
      ],
      "execution_count": 17,
      "outputs": [
        {
          "output_type": "execute_result",
          "data": {
            "text/html": [
              "<div>\n",
              "<style scoped>\n",
              "    .dataframe tbody tr th:only-of-type {\n",
              "        vertical-align: middle;\n",
              "    }\n",
              "\n",
              "    .dataframe tbody tr th {\n",
              "        vertical-align: top;\n",
              "    }\n",
              "\n",
              "    .dataframe thead th {\n",
              "        text-align: right;\n",
              "    }\n",
              "</style>\n",
              "<table border=\"1\" class=\"dataframe\">\n",
              "  <thead>\n",
              "    <tr style=\"text-align: right;\">\n",
              "      <th></th>\n",
              "      <th>investigation-start</th>\n",
              "      <th>investigation-end</th>\n",
              "      <th>type</th>\n",
              "      <th>investigation</th>\n",
              "      <th>name</th>\n",
              "      <th>investigation_length</th>\n",
              "    </tr>\n",
              "  </thead>\n",
              "  <tbody>\n",
              "    <tr>\n",
              "      <th>0</th>\n",
              "      <td>1973-05-19</td>\n",
              "      <td>1977-06-19</td>\n",
              "      <td>conviction</td>\n",
              "      <td>watergate</td>\n",
              "      <td>James W. McCord</td>\n",
              "      <td>4.0</td>\n",
              "    </tr>\n",
              "    <tr>\n",
              "      <th>1</th>\n",
              "      <td>1973-05-19</td>\n",
              "      <td>1977-06-19</td>\n",
              "      <td>conviction</td>\n",
              "      <td>watergate</td>\n",
              "      <td>Bernard L. Barker</td>\n",
              "      <td>4.0</td>\n",
              "    </tr>\n",
              "    <tr>\n",
              "      <th>2</th>\n",
              "      <td>1973-05-19</td>\n",
              "      <td>1977-06-19</td>\n",
              "      <td>conviction</td>\n",
              "      <td>watergate</td>\n",
              "      <td>Bernard L. Barker</td>\n",
              "      <td>4.0</td>\n",
              "    </tr>\n",
              "    <tr>\n",
              "      <th>3</th>\n",
              "      <td>1973-05-19</td>\n",
              "      <td>1977-06-19</td>\n",
              "      <td>guilty-plea</td>\n",
              "      <td>watergate</td>\n",
              "      <td>Eugenio R. Martinez</td>\n",
              "      <td>4.0</td>\n",
              "    </tr>\n",
              "    <tr>\n",
              "      <th>4</th>\n",
              "      <td>1973-05-19</td>\n",
              "      <td>1977-06-19</td>\n",
              "      <td>conviction</td>\n",
              "      <td>watergate</td>\n",
              "      <td>Eugenio R. Martinez</td>\n",
              "      <td>4.0</td>\n",
              "    </tr>\n",
              "    <tr>\n",
              "      <th>...</th>\n",
              "      <td>...</td>\n",
              "      <td>...</td>\n",
              "      <td>...</td>\n",
              "      <td>...</td>\n",
              "      <td>...</td>\n",
              "      <td>...</td>\n",
              "    </tr>\n",
              "    <tr>\n",
              "      <th>189</th>\n",
              "      <td>2017-05-17</td>\n",
              "      <td>NaT</td>\n",
              "      <td>indictment</td>\n",
              "      <td>russia</td>\n",
              "      <td>Russian national 23</td>\n",
              "      <td>NaN</td>\n",
              "    </tr>\n",
              "    <tr>\n",
              "      <th>190</th>\n",
              "      <td>2017-05-17</td>\n",
              "      <td>NaT</td>\n",
              "      <td>indictment</td>\n",
              "      <td>russia</td>\n",
              "      <td>Russian national 24</td>\n",
              "      <td>NaN</td>\n",
              "    </tr>\n",
              "    <tr>\n",
              "      <th>191</th>\n",
              "      <td>2017-05-17</td>\n",
              "      <td>NaT</td>\n",
              "      <td>indictment</td>\n",
              "      <td>russia</td>\n",
              "      <td>Russian national 25</td>\n",
              "      <td>NaN</td>\n",
              "    </tr>\n",
              "    <tr>\n",
              "      <th>192</th>\n",
              "      <td>2017-05-17</td>\n",
              "      <td>NaT</td>\n",
              "      <td>guilty-plea</td>\n",
              "      <td>russia</td>\n",
              "      <td>Michael Cohen</td>\n",
              "      <td>NaN</td>\n",
              "    </tr>\n",
              "    <tr>\n",
              "      <th>193</th>\n",
              "      <td>2017-05-17</td>\n",
              "      <td>NaT</td>\n",
              "      <td>indictment</td>\n",
              "      <td>russia</td>\n",
              "      <td>Roger Stone</td>\n",
              "      <td>NaN</td>\n",
              "    </tr>\n",
              "  </tbody>\n",
              "</table>\n",
              "<p>181 rows × 6 columns</p>\n",
              "</div>"
            ],
            "text/plain": [
              "    investigation-start  ... investigation_length\n",
              "0            1973-05-19  ...                  4.0\n",
              "1            1973-05-19  ...                  4.0\n",
              "2            1973-05-19  ...                  4.0\n",
              "3            1973-05-19  ...                  4.0\n",
              "4            1973-05-19  ...                  4.0\n",
              "..                  ...  ...                  ...\n",
              "189          2017-05-17  ...                  NaN\n",
              "190          2017-05-17  ...                  NaN\n",
              "191          2017-05-17  ...                  NaN\n",
              "192          2017-05-17  ...                  NaN\n",
              "193          2017-05-17  ...                  NaN\n",
              "\n",
              "[181 rows x 6 columns]"
            ]
          },
          "metadata": {
            "tags": []
          },
          "execution_count": 17
        }
      ]
    },
    {
      "cell_type": "code",
      "metadata": {
        "id": "rEsOuQ1Q-eNX",
        "colab_type": "code",
        "colab": {}
      },
      "source": [
        "#fill missing values with mean because it wouldn't show y axis results with NA values \n",
        "df['investigation_length'] = df['investigation_length'].fillna(df['investigation_length'].mean())"
      ],
      "execution_count": 0,
      "outputs": []
    },
    {
      "cell_type": "code",
      "metadata": {
        "id": "sAPklVc_Qjaz",
        "colab_type": "code",
        "colab": {}
      },
      "source": [
        "df['Years into Investigation'] = df['investigation_length'] #change name of x-axis "
      ],
      "execution_count": 0,
      "outputs": []
    },
    {
      "cell_type": "code",
      "metadata": {
        "id": "ByUNCu04RwAW",
        "colab_type": "code",
        "colab": {}
      },
      "source": [
        "df['']= df['investigation'] # change name of y "
      ],
      "execution_count": 0,
      "outputs": []
    },
    {
      "cell_type": "code",
      "metadata": {
        "id": "terfYg5dSpyO",
        "colab_type": "code",
        "colab": {
          "base_uri": "https://localhost:8080/",
          "height": 106
        },
        "outputId": "cf76093d-0bb8-4fa8-d6a0-161104197cee"
      },
      "source": [
        "df['type'].value_counts() #see exactly what types i will have for hue "
      ],
      "execution_count": 21,
      "outputs": [
        {
          "output_type": "execute_result",
          "data": {
            "text/plain": [
              "guilty-plea    86\n",
              "indictment     56\n",
              "conviction     39\n",
              "Name: type, dtype: int64"
            ]
          },
          "metadata": {
            "tags": []
          },
          "execution_count": 21
        }
      ]
    },
    {
      "cell_type": "code",
      "metadata": {
        "id": "bNzALMUX1Tmd",
        "colab_type": "code",
        "colab": {
          "base_uri": "https://localhost:8080/",
          "height": 324
        },
        "outputId": "f1d25495-ff7e-4ff4-a7de-cdda0bdd7380"
      },
      "source": [
        "#graph replicated . I am missing the bar graph and a few other things, but I was able to combine everything I learned from this week along with the foundations of what we learned today\n",
        "import matplotlib.pyplot as plt\n",
        "\n",
        "\n",
        "sns.catplot(data = df, y='', x= 'Years into Investigation', hue='type', height= 4, aspect=3,palette=sns.color_palette(['pink', 'blue','#00FFFF']), order=['wedtech','russia','herman','plame','deaver','watergate','espy','iran-contra','whitewater','pierce','cisneros'])\n",
        "plt.title('All special investigation charges since 1973')"
      ],
      "execution_count": 22,
      "outputs": [
        {
          "output_type": "execute_result",
          "data": {
            "text/plain": [
              "Text(0.5, 1.0, 'All special investigation charges since 1973')"
            ]
          },
          "metadata": {
            "tags": []
          },
          "execution_count": 22
        },
        {
          "output_type": "display_data",
          "data": {
            "image/png": "[encoded data removed]",
            "text/plain": [
              "<Figure size 953.875x288 with 1 Axes>"
            ]
          },
          "metadata": {
            "tags": [],
            "needs_background": "light"
          }
        }
      ]
    },
    {
      "cell_type": "code",
      "metadata": {
        "id": "SR5v_yIjyn4L",
        "colab_type": "code",
        "colab": {
          "base_uri": "https://localhost:8080/",
          "height": 282
        },
        "outputId": "134e8f5b-4e4f-4a67-8bee-0f947abdf97e"
      },
      "source": [
        "df['name'].value_counts()"
      ],
      "execution_count": 23,
      "outputs": [
        {
          "output_type": "execute_result",
          "data": {
            "text/plain": [
              "Maurice H. Stans       2\n",
              "Eugenio R. Martinez    2\n",
              "G. Gordon Liddy        2\n",
              "Bernard L. Barker      2\n",
              "David L. Parr          1\n",
              "                      ..\n",
              "Russian national 6     1\n",
              "Raymond Abendroth      1\n",
              "Joseph Fernandez       1\n",
              "Lance H. Wilson        1\n",
              "Konstantin Kilimnik    1\n",
              "Name: name, Length: 177, dtype: int64"
            ]
          },
          "metadata": {
            "tags": []
          },
          "execution_count": 23
        }
      ]
    },
    {
      "cell_type": "code",
      "metadata": {
        "id": "NTpr3SAAvhTD",
        "colab_type": "code",
        "colab": {
          "base_uri": "https://localhost:8080/"
        },
        "outputId": "da9c32b8-0c8b-42a3-daf0-86917b717f1c"
      },
      "source": [
        "sns.catplot(data=df , y='', x='Years into Investigation', hue='type', \n",
        "            order=['wedtech','russia','herman','plame','deaver','watergate','espy','iran-contra','whitewater','pierce','cisneros']) \n",
        "sns.catplot.title(\"All special investigation charges since 1973\")"
      ],
      "execution_count": 24,
      "outputs": [
        {
          "output_type": "error",
          "ename": "AttributeError",
          "evalue": "ignored",
          "traceback": [
            "\u001b[0;31m---------------------------------------------------------------------------\u001b[0m",
            "\u001b[0;31mAttributeError\u001b[0m                            Traceback (most recent call last)",
            "\u001b[0;32m<ipython-input-24-93596ddb7a6e>\u001b[0m in \u001b[0;36m<module>\u001b[0;34m()\u001b[0m\n\u001b[1;32m      1\u001b[0m sns.catplot(data=df , y='', x='Years into Investigation', hue='type', \n\u001b[1;32m      2\u001b[0m             order=['wedtech','russia','herman','plame','deaver','watergate','espy','iran-contra','whitewater','pierce','cisneros']) \n\u001b[0;32m----> 3\u001b[0;31m \u001b[0msns\u001b[0m\u001b[0;34m.\u001b[0m\u001b[0mcatplot\u001b[0m\u001b[0;34m.\u001b[0m\u001b[0mtitle\u001b[0m\u001b[0;34m(\u001b[0m\u001b[0;34m\"All special investigation charges since 1973\"\u001b[0m\u001b[0;34m)\u001b[0m\u001b[0;34m\u001b[0m\u001b[0;34m\u001b[0m\u001b[0m\n\u001b[0m",
            "\u001b[0;31mAttributeError\u001b[0m: 'function' object has no attribute 'title'"
          ]
        },
        {
          "output_type": "display_data",
          "data": {
            "image/png": "[encoded data removed]",
            "text/plain": [
              "<Figure size 449.875x360 with 1 Axes>"
            ]
          },
          "metadata": {
            "tags": [],
            "needs_background": "light"
          }
        }
      ]
    },
    {
      "cell_type": "code",
      "metadata": {
        "id": "BSbOAVQUKCVF",
        "colab_type": "code",
        "colab": {}
      },
      "source": [
        "sns.stripplot(x='investigation_length', y='investigation', data=df) #ignore "
      ],
      "execution_count": 0,
      "outputs": []
    },
    {
      "cell_type": "code",
      "metadata": {
        "id": "VZCAKU0v1TwF",
        "colab_type": "code",
        "colab": {}
      },
      "source": [
        "#messing around with graphs \n",
        "\n",
        "fig = plt.figure(figsize=(8,6))\n",
        "ax = fig.add_subplot(111)\n",
        "\n",
        "g = sns.pointplot(x=\"investigation_length\", y='investigation', hue=\"type\", \n",
        "                  ci=68.2,data=df, ax=ax)"
      ],
      "execution_count": 0,
      "outputs": []
    },
    {
      "cell_type": "code",
      "metadata": {
        "id": "wdXqhY0g1Tzl",
        "colab_type": "code",
        "colab": {}
      },
      "source": [
        ""
      ],
      "execution_count": 0,
      "outputs": []
    },
    {
      "cell_type": "code",
      "metadata": {
        "id": "GjtTTjCa1T3U",
        "colab_type": "code",
        "colab": {}
      },
      "source": [
        ""
      ],
      "execution_count": 0,
      "outputs": []
    },
    {
      "cell_type": "code",
      "metadata": {
        "id": "KR-m2DYT1T7B",
        "colab_type": "code",
        "colab": {}
      },
      "source": [
        ""
      ],
      "execution_count": 0,
      "outputs": []
    },
    {
      "cell_type": "code",
      "metadata": {
        "id": "MEbkZyhg1T-j",
        "colab_type": "code",
        "colab": {}
      },
      "source": [
        ""
      ],
      "execution_count": 0,
      "outputs": []
    },
    {
      "cell_type": "code",
      "metadata": {
        "id": "xtyaLEC21UCg",
        "colab_type": "code",
        "colab": {}
      },
      "source": [
        ""
      ],
      "execution_count": 0,
      "outputs": []
    },
    {
      "cell_type": "code",
      "metadata": {
        "id": "JP0Z9AXZ1UGJ",
        "colab_type": "code",
        "colab": {}
      },
      "source": [
        ""
      ],
      "execution_count": 0,
      "outputs": []
    },
    {
      "cell_type": "code",
      "metadata": {
        "id": "A2qNLUoK1UKJ",
        "colab_type": "code",
        "colab": {}
      },
      "source": [
        ""
      ],
      "execution_count": 0,
      "outputs": []
    },
    {
      "cell_type": "code",
      "metadata": {
        "id": "Y_mAlehK1UOr",
        "colab_type": "code",
        "colab": {}
      },
      "source": [
        ""
      ],
      "execution_count": 0,
      "outputs": []
    },
    {
      "cell_type": "code",
      "metadata": {
        "id": "Sp5nGdVU1US-",
        "colab_type": "code",
        "colab": {}
      },
      "source": [
        ""
      ],
      "execution_count": 0,
      "outputs": []
    },
    {
      "cell_type": "code",
      "metadata": {
        "id": "_xUvZO5-1UXN",
        "colab_type": "code",
        "colab": {}
      },
      "source": [
        ""
      ],
      "execution_count": 0,
      "outputs": []
    },
    {
      "cell_type": "markdown",
      "metadata": {
        "id": "0wSrBzmJyWaV",
        "colab_type": "text"
      },
      "source": [
        "# STRETCH OPTIONS\n",
        "\n",
        "### 1) Reproduce one of the following using the matplotlib or seaborn libraries:\n",
        "\n",
        "- [thanksgiving-2015](https://fivethirtyeight.com/features/heres-what-your-part-of-america-eats-on-thanksgiving/) \n",
        "- [candy-power-ranking](https://fivethirtyeight.com/features/the-ultimate-halloween-candy-power-ranking/) \n",
        "- or another example of your choice!\n",
        "\n",
        "### 2) Make more charts!\n",
        "\n",
        "Choose a chart you want to make, from [Visual Vocabulary - Vega Edition](http://ft.com/vocabulary).\n",
        "\n",
        "Find the chart in an example gallery of a Python data visualization library:\n",
        "- [Seaborn](http://seaborn.pydata.org/examples/index.html)\n",
        "- [Altair](https://altair-viz.github.io/gallery/index.html)\n",
        "- [Matplotlib](https://matplotlib.org/gallery.html)\n",
        "- [Pandas](https://pandas.pydata.org/pandas-docs/stable/visualization.html)\n",
        "\n",
        "Reproduce the chart. [Optionally, try the \"Ben Franklin Method.\"](https://docs.google.com/document/d/1ubOw9B3Hfip27hF2ZFnW3a3z9xAgrUDRReOEo-FHCVs/edit) If you want, experiment and make changes.\n",
        "\n",
        "Take notes. Consider sharing your work with your cohort!"
      ]
    },
    {
      "cell_type": "code",
      "metadata": {
        "id": "dRJkKftiy5BJ",
        "colab_type": "code",
        "colab": {}
      },
      "source": [
        "dt = pd.read_csv('https://raw.githubusercontent.com/fivethirtyeight/data/master/thanksgiving-2015/thanksgiving-2015-poll-data.csv', header=0)"
      ],
      "execution_count": 0,
      "outputs": []
    },
    {
      "cell_type": "code",
      "metadata": {
        "id": "UElEzQVzbFQs",
        "colab_type": "code",
        "colab": {
          "base_uri": "https://localhost:8080/",
          "height": 830
        },
        "outputId": "f43c028b-7dc4-4c1e-8878-a8af3be71ec9"
      },
      "source": [
        "dt.head()"
      ],
      "execution_count": 36,
      "outputs": [
        {
          "output_type": "execute_result",
          "data": {
            "text/html": [
              "<div>\n",
              "<style scoped>\n",
              "    .dataframe tbody tr th:only-of-type {\n",
              "        vertical-align: middle;\n",
              "    }\n",
              "\n",
              "    .dataframe tbody tr th {\n",
              "        vertical-align: top;\n",
              "    }\n",
              "\n",
              "    .dataframe thead th {\n",
              "        text-align: right;\n",
              "    }\n",
              "</style>\n",
              "<table border=\"1\" class=\"dataframe\">\n",
              "  <thead>\n",
              "    <tr style=\"text-align: right;\">\n",
              "      <th></th>\n",
              "      <th>RespondentID</th>\n",
              "      <th>Do you celebrate Thanksgiving?</th>\n",
              "      <th>What is typically the main dish at your Thanksgiving dinner?</th>\n",
              "      <th>What is typically the main dish at your Thanksgiving dinner? - Other (please specify)</th>\n",
              "      <th>How is the main dish typically cooked?</th>\n",
              "      <th>How is the main dish typically cooked? - Other (please specify)</th>\n",
              "      <th>What kind of stuffing/dressing do you typically have?</th>\n",
              "      <th>What kind of stuffing/dressing do you typically have? - Other (please specify)</th>\n",
              "      <th>What type of cranberry saucedo you typically have?</th>\n",
              "      <th>What type of cranberry saucedo you typically have? - Other (please specify)</th>\n",
              "      <th>Do you typically have gravy?</th>\n",
              "      <th>Which of these side dishes aretypically served at your Thanksgiving dinner? Please select all that apply. - Brussel sprouts</th>\n",
              "      <th>Which of these side dishes aretypically served at your Thanksgiving dinner? Please select all that apply. - Carrots</th>\n",
              "      <th>Which of these side dishes aretypically served at your Thanksgiving dinner? Please select all that apply. - Cauliflower</th>\n",
              "      <th>Which of these side dishes aretypically served at your Thanksgiving dinner? Please select all that apply. - Corn</th>\n",
              "      <th>Which of these side dishes aretypically served at your Thanksgiving dinner? Please select all that apply. - Cornbread</th>\n",
              "      <th>Which of these side dishes aretypically served at your Thanksgiving dinner? Please select all that apply. - Fruit salad</th>\n",
              "      <th>Which of these side dishes aretypically served at your Thanksgiving dinner? Please select all that apply. - Green beans/green bean casserole</th>\n",
              "      <th>Which of these side dishes aretypically served at your Thanksgiving dinner? Please select all that apply. - Macaroni and cheese</th>\n",
              "      <th>Which of these side dishes aretypically served at your Thanksgiving dinner? Please select all that apply. - Mashed potatoes</th>\n",
              "      <th>Which of these side dishes aretypically served at your Thanksgiving dinner? Please select all that apply. - Rolls/biscuits</th>\n",
              "      <th>Which of these side dishes aretypically served at your Thanksgiving dinner? Please select all that apply. - Squash</th>\n",
              "      <th>Which of these side dishes aretypically served at your Thanksgiving dinner? Please select all that apply. - Vegetable salad</th>\n",
              "      <th>Which of these side dishes aretypically served at your Thanksgiving dinner? Please select all that apply. - Yams/sweet potato casserole</th>\n",
              "      <th>Which of these side dishes aretypically served at your Thanksgiving dinner? Please select all that apply. - Other (please specify)</th>\n",
              "      <th>Which of these side dishes aretypically served at your Thanksgiving dinner? Please select all that apply. - Other (please specify).1</th>\n",
              "      <th>Which type of pie is typically served at your Thanksgiving dinner? Please select all that apply. - Apple</th>\n",
              "      <th>Which type of pie is typically served at your Thanksgiving dinner? Please select all that apply. - Buttermilk</th>\n",
              "      <th>Which type of pie is typically served at your Thanksgiving dinner? Please select all that apply. - Cherry</th>\n",
              "      <th>Which type of pie is typically served at your Thanksgiving dinner? Please select all that apply. - Chocolate</th>\n",
              "      <th>Which type of pie is typically served at your Thanksgiving dinner? Please select all that apply. - Coconut cream</th>\n",
              "      <th>Which type of pie is typically served at your Thanksgiving dinner? Please select all that apply. - Key lime</th>\n",
              "      <th>Which type of pie is typically served at your Thanksgiving dinner? Please select all that apply. - Peach</th>\n",
              "      <th>Which type of pie is typically served at your Thanksgiving dinner? Please select all that apply. - Pecan</th>\n",
              "      <th>Which type of pie is typically served at your Thanksgiving dinner? Please select all that apply. - Pumpkin</th>\n",
              "      <th>Which type of pie is typically served at your Thanksgiving dinner? Please select all that apply. - Sweet Potato</th>\n",
              "      <th>Which type of pie is typically served at your Thanksgiving dinner? Please select all that apply. - None</th>\n",
              "      <th>Which type of pie is typically served at your Thanksgiving dinner? Please select all that apply. - Other (please specify)</th>\n",
              "      <th>Which type of pie is typically served at your Thanksgiving dinner? Please select all that apply. - Other (please specify).1</th>\n",
              "      <th>Which of these desserts do you typically have at Thanksgiving dinner? Please select all that apply.   - Apple cobbler</th>\n",
              "      <th>Which of these desserts do you typically have at Thanksgiving dinner? Please select all that apply.   - Blondies</th>\n",
              "      <th>Which of these desserts do you typically have at Thanksgiving dinner? Please select all that apply.   - Brownies</th>\n",
              "      <th>Which of these desserts do you typically have at Thanksgiving dinner? Please select all that apply.   - Carrot cake</th>\n",
              "      <th>Which of these desserts do you typically have at Thanksgiving dinner? Please select all that apply.   - Cheesecake</th>\n",
              "      <th>Which of these desserts do you typically have at Thanksgiving dinner? Please select all that apply.   - Cookies</th>\n",
              "      <th>Which of these desserts do you typically have at Thanksgiving dinner? Please select all that apply.   - Fudge</th>\n",
              "      <th>Which of these desserts do you typically have at Thanksgiving dinner? Please select all that apply.   - Ice cream</th>\n",
              "      <th>Which of these desserts do you typically have at Thanksgiving dinner? Please select all that apply.   - Peach cobbler</th>\n",
              "      <th>Which of these desserts do you typically have at Thanksgiving dinner? Please select all that apply.   - None</th>\n",
              "      <th>Which of these desserts do you typically have at Thanksgiving dinner? Please select all that apply.   - Other (please specify)</th>\n",
              "      <th>Which of these desserts do you typically have at Thanksgiving dinner? Please select all that apply.   - Other (please specify).1</th>\n",
              "      <th>Do you typically pray before or after the Thanksgiving meal?</th>\n",
              "      <th>How far will you travel for Thanksgiving?</th>\n",
              "      <th>Will you watch any of the following programs on Thanksgiving? Please select all that apply. - Macy's Parade</th>\n",
              "      <th>What's the age cutoff at your \"kids' table\" at Thanksgiving?</th>\n",
              "      <th>Have you ever tried to meet up with hometown friends on Thanksgiving night?</th>\n",
              "      <th>Have you ever attended a \"Friendsgiving?\"</th>\n",
              "      <th>Will you shop any Black Friday sales on Thanksgiving Day?</th>\n",
              "      <th>Do you work in retail?</th>\n",
              "      <th>Will you employer make you work on Black Friday?</th>\n",
              "      <th>How would you describe where you live?</th>\n",
              "      <th>Age</th>\n",
              "      <th>What is your gender?</th>\n",
              "      <th>How much total combined money did all members of your HOUSEHOLD earn last year?</th>\n",
              "      <th>US Region</th>\n",
              "    </tr>\n",
              "  </thead>\n",
              "  <tbody>\n",
              "    <tr>\n",
              "      <th>0</th>\n",
              "      <td>4337954960</td>\n",
              "      <td>Yes</td>\n",
              "      <td>Turkey</td>\n",
              "      <td>NaN</td>\n",
              "      <td>Baked</td>\n",
              "      <td>NaN</td>\n",
              "      <td>Bread-based</td>\n",
              "      <td>NaN</td>\n",
              "      <td>None</td>\n",
              "      <td>NaN</td>\n",
              "      <td>Yes</td>\n",
              "      <td>NaN</td>\n",
              "      <td>Carrots</td>\n",
              "      <td>NaN</td>\n",
              "      <td>NaN</td>\n",
              "      <td>NaN</td>\n",
              "      <td>NaN</td>\n",
              "      <td>Green beans/green bean casserole</td>\n",
              "      <td>Macaroni and cheese</td>\n",
              "      <td>Mashed potatoes</td>\n",
              "      <td>NaN</td>\n",
              "      <td>NaN</td>\n",
              "      <td>NaN</td>\n",
              "      <td>Yams/sweet potato casserole</td>\n",
              "      <td>NaN</td>\n",
              "      <td>NaN</td>\n",
              "      <td>Apple</td>\n",
              "      <td>NaN</td>\n",
              "      <td>NaN</td>\n",
              "      <td>NaN</td>\n",
              "      <td>NaN</td>\n",
              "      <td>NaN</td>\n",
              "      <td>NaN</td>\n",
              "      <td>NaN</td>\n",
              "      <td>NaN</td>\n",
              "      <td>NaN</td>\n",
              "      <td>NaN</td>\n",
              "      <td>NaN</td>\n",
              "      <td>NaN</td>\n",
              "      <td>NaN</td>\n",
              "      <td>NaN</td>\n",
              "      <td>NaN</td>\n",
              "      <td>NaN</td>\n",
              "      <td>Cheesecake</td>\n",
              "      <td>Cookies</td>\n",
              "      <td>NaN</td>\n",
              "      <td>Ice cream</td>\n",
              "      <td>NaN</td>\n",
              "      <td>NaN</td>\n",
              "      <td>NaN</td>\n",
              "      <td>NaN</td>\n",
              "      <td>Yes</td>\n",
              "      <td>Thanksgiving is local--it will take place in t...</td>\n",
              "      <td>NaN</td>\n",
              "      <td>12</td>\n",
              "      <td>Yes</td>\n",
              "      <td>No</td>\n",
              "      <td>No</td>\n",
              "      <td>No</td>\n",
              "      <td>NaN</td>\n",
              "      <td>Suburban</td>\n",
              "      <td>18 - 29</td>\n",
              "      <td>Male</td>\n",
              "      <td>$75,000 to $99,999</td>\n",
              "      <td>Middle Atlantic</td>\n",
              "    </tr>\n",
              "    <tr>\n",
              "      <th>1</th>\n",
              "      <td>4337951949</td>\n",
              "      <td>Yes</td>\n",
              "      <td>Turkey</td>\n",
              "      <td>NaN</td>\n",
              "      <td>Baked</td>\n",
              "      <td>NaN</td>\n",
              "      <td>Bread-based</td>\n",
              "      <td>NaN</td>\n",
              "      <td>Other (please specify)</td>\n",
              "      <td>Homemade cranberry gelatin ring</td>\n",
              "      <td>Yes</td>\n",
              "      <td>NaN</td>\n",
              "      <td>NaN</td>\n",
              "      <td>NaN</td>\n",
              "      <td>Corn</td>\n",
              "      <td>NaN</td>\n",
              "      <td>NaN</td>\n",
              "      <td>Green beans/green bean casserole</td>\n",
              "      <td>Macaroni and cheese</td>\n",
              "      <td>Mashed potatoes</td>\n",
              "      <td>Rolls/biscuits</td>\n",
              "      <td>NaN</td>\n",
              "      <td>Vegetable salad</td>\n",
              "      <td>Yams/sweet potato casserole</td>\n",
              "      <td>Other (please specify)</td>\n",
              "      <td>Asian vinagrette salad</td>\n",
              "      <td>Apple</td>\n",
              "      <td>NaN</td>\n",
              "      <td>NaN</td>\n",
              "      <td>Chocolate</td>\n",
              "      <td>NaN</td>\n",
              "      <td>NaN</td>\n",
              "      <td>NaN</td>\n",
              "      <td>NaN</td>\n",
              "      <td>Pumpkin</td>\n",
              "      <td>NaN</td>\n",
              "      <td>NaN</td>\n",
              "      <td>Other (please specify)</td>\n",
              "      <td>Derby, Japanese fruit</td>\n",
              "      <td>NaN</td>\n",
              "      <td>NaN</td>\n",
              "      <td>NaN</td>\n",
              "      <td>NaN</td>\n",
              "      <td>Cheesecake</td>\n",
              "      <td>Cookies</td>\n",
              "      <td>NaN</td>\n",
              "      <td>NaN</td>\n",
              "      <td>NaN</td>\n",
              "      <td>NaN</td>\n",
              "      <td>Other (please specify)</td>\n",
              "      <td>Jelly roll, sweet cheeseball, chocolate dipped...</td>\n",
              "      <td>Yes</td>\n",
              "      <td>Thanksgiving is out of town but not too far--i...</td>\n",
              "      <td>NaN</td>\n",
              "      <td>19</td>\n",
              "      <td>No</td>\n",
              "      <td>No</td>\n",
              "      <td>Yes</td>\n",
              "      <td>No</td>\n",
              "      <td>NaN</td>\n",
              "      <td>Rural</td>\n",
              "      <td>18 - 29</td>\n",
              "      <td>Female</td>\n",
              "      <td>$50,000 to $74,999</td>\n",
              "      <td>East South Central</td>\n",
              "    </tr>\n",
              "    <tr>\n",
              "      <th>2</th>\n",
              "      <td>4337935621</td>\n",
              "      <td>Yes</td>\n",
              "      <td>Turkey</td>\n",
              "      <td>NaN</td>\n",
              "      <td>Roasted</td>\n",
              "      <td>NaN</td>\n",
              "      <td>Rice-based</td>\n",
              "      <td>NaN</td>\n",
              "      <td>Homemade</td>\n",
              "      <td>NaN</td>\n",
              "      <td>Yes</td>\n",
              "      <td>Brussel sprouts</td>\n",
              "      <td>Carrots</td>\n",
              "      <td>Cauliflower</td>\n",
              "      <td>Corn</td>\n",
              "      <td>Cornbread</td>\n",
              "      <td>NaN</td>\n",
              "      <td>NaN</td>\n",
              "      <td>NaN</td>\n",
              "      <td>Mashed potatoes</td>\n",
              "      <td>Rolls/biscuits</td>\n",
              "      <td>NaN</td>\n",
              "      <td>Vegetable salad</td>\n",
              "      <td>NaN</td>\n",
              "      <td>NaN</td>\n",
              "      <td>NaN</td>\n",
              "      <td>Apple</td>\n",
              "      <td>NaN</td>\n",
              "      <td>Cherry</td>\n",
              "      <td>NaN</td>\n",
              "      <td>NaN</td>\n",
              "      <td>NaN</td>\n",
              "      <td>Peach</td>\n",
              "      <td>Pecan</td>\n",
              "      <td>Pumpkin</td>\n",
              "      <td>Sweet Potato</td>\n",
              "      <td>NaN</td>\n",
              "      <td>NaN</td>\n",
              "      <td>NaN</td>\n",
              "      <td>NaN</td>\n",
              "      <td>NaN</td>\n",
              "      <td>Brownies</td>\n",
              "      <td>Carrot cake</td>\n",
              "      <td>NaN</td>\n",
              "      <td>Cookies</td>\n",
              "      <td>Fudge</td>\n",
              "      <td>Ice cream</td>\n",
              "      <td>NaN</td>\n",
              "      <td>NaN</td>\n",
              "      <td>NaN</td>\n",
              "      <td>NaN</td>\n",
              "      <td>Yes</td>\n",
              "      <td>Thanksgiving is local--it will take place in t...</td>\n",
              "      <td>NaN</td>\n",
              "      <td>13</td>\n",
              "      <td>Yes</td>\n",
              "      <td>Yes</td>\n",
              "      <td>Yes</td>\n",
              "      <td>No</td>\n",
              "      <td>NaN</td>\n",
              "      <td>Suburban</td>\n",
              "      <td>18 - 29</td>\n",
              "      <td>Male</td>\n",
              "      <td>$0 to $9,999</td>\n",
              "      <td>Mountain</td>\n",
              "    </tr>\n",
              "    <tr>\n",
              "      <th>3</th>\n",
              "      <td>4337933040</td>\n",
              "      <td>Yes</td>\n",
              "      <td>Turkey</td>\n",
              "      <td>NaN</td>\n",
              "      <td>Baked</td>\n",
              "      <td>NaN</td>\n",
              "      <td>Bread-based</td>\n",
              "      <td>NaN</td>\n",
              "      <td>Homemade</td>\n",
              "      <td>NaN</td>\n",
              "      <td>Yes</td>\n",
              "      <td>Brussel sprouts</td>\n",
              "      <td>NaN</td>\n",
              "      <td>NaN</td>\n",
              "      <td>NaN</td>\n",
              "      <td>Cornbread</td>\n",
              "      <td>NaN</td>\n",
              "      <td>NaN</td>\n",
              "      <td>NaN</td>\n",
              "      <td>Mashed potatoes</td>\n",
              "      <td>Rolls/biscuits</td>\n",
              "      <td>NaN</td>\n",
              "      <td>Vegetable salad</td>\n",
              "      <td>Yams/sweet potato casserole</td>\n",
              "      <td>NaN</td>\n",
              "      <td>NaN</td>\n",
              "      <td>NaN</td>\n",
              "      <td>NaN</td>\n",
              "      <td>NaN</td>\n",
              "      <td>NaN</td>\n",
              "      <td>NaN</td>\n",
              "      <td>NaN</td>\n",
              "      <td>NaN</td>\n",
              "      <td>Pecan</td>\n",
              "      <td>Pumpkin</td>\n",
              "      <td>NaN</td>\n",
              "      <td>NaN</td>\n",
              "      <td>NaN</td>\n",
              "      <td>NaN</td>\n",
              "      <td>NaN</td>\n",
              "      <td>NaN</td>\n",
              "      <td>NaN</td>\n",
              "      <td>NaN</td>\n",
              "      <td>NaN</td>\n",
              "      <td>NaN</td>\n",
              "      <td>NaN</td>\n",
              "      <td>NaN</td>\n",
              "      <td>NaN</td>\n",
              "      <td>None</td>\n",
              "      <td>NaN</td>\n",
              "      <td>NaN</td>\n",
              "      <td>No</td>\n",
              "      <td>Thanksgiving is local--it will take place in t...</td>\n",
              "      <td>NaN</td>\n",
              "      <td>10 or younger</td>\n",
              "      <td>Yes</td>\n",
              "      <td>No</td>\n",
              "      <td>No</td>\n",
              "      <td>No</td>\n",
              "      <td>NaN</td>\n",
              "      <td>Urban</td>\n",
              "      <td>30 - 44</td>\n",
              "      <td>Male</td>\n",
              "      <td>$200,000 and up</td>\n",
              "      <td>Pacific</td>\n",
              "    </tr>\n",
              "    <tr>\n",
              "      <th>4</th>\n",
              "      <td>4337931983</td>\n",
              "      <td>Yes</td>\n",
              "      <td>Tofurkey</td>\n",
              "      <td>NaN</td>\n",
              "      <td>Baked</td>\n",
              "      <td>NaN</td>\n",
              "      <td>Bread-based</td>\n",
              "      <td>NaN</td>\n",
              "      <td>Canned</td>\n",
              "      <td>NaN</td>\n",
              "      <td>Yes</td>\n",
              "      <td>Brussel sprouts</td>\n",
              "      <td>NaN</td>\n",
              "      <td>NaN</td>\n",
              "      <td>NaN</td>\n",
              "      <td>Cornbread</td>\n",
              "      <td>NaN</td>\n",
              "      <td>NaN</td>\n",
              "      <td>NaN</td>\n",
              "      <td>Mashed potatoes</td>\n",
              "      <td>Rolls/biscuits</td>\n",
              "      <td>Squash</td>\n",
              "      <td>Vegetable salad</td>\n",
              "      <td>Yams/sweet potato casserole</td>\n",
              "      <td>NaN</td>\n",
              "      <td>NaN</td>\n",
              "      <td>Apple</td>\n",
              "      <td>NaN</td>\n",
              "      <td>NaN</td>\n",
              "      <td>NaN</td>\n",
              "      <td>NaN</td>\n",
              "      <td>NaN</td>\n",
              "      <td>NaN</td>\n",
              "      <td>NaN</td>\n",
              "      <td>Pumpkin</td>\n",
              "      <td>NaN</td>\n",
              "      <td>NaN</td>\n",
              "      <td>NaN</td>\n",
              "      <td>NaN</td>\n",
              "      <td>NaN</td>\n",
              "      <td>NaN</td>\n",
              "      <td>NaN</td>\n",
              "      <td>NaN</td>\n",
              "      <td>NaN</td>\n",
              "      <td>NaN</td>\n",
              "      <td>NaN</td>\n",
              "      <td>NaN</td>\n",
              "      <td>NaN</td>\n",
              "      <td>None</td>\n",
              "      <td>NaN</td>\n",
              "      <td>NaN</td>\n",
              "      <td>No</td>\n",
              "      <td>Thanksgiving is out of town but not too far--i...</td>\n",
              "      <td>NaN</td>\n",
              "      <td>10 or younger</td>\n",
              "      <td>Yes</td>\n",
              "      <td>No</td>\n",
              "      <td>No</td>\n",
              "      <td>No</td>\n",
              "      <td>NaN</td>\n",
              "      <td>Urban</td>\n",
              "      <td>30 - 44</td>\n",
              "      <td>Male</td>\n",
              "      <td>$100,000 to $124,999</td>\n",
              "      <td>Pacific</td>\n",
              "    </tr>\n",
              "  </tbody>\n",
              "</table>\n",
              "</div>"
            ],
            "text/plain": [
              "   RespondentID  ...           US Region\n",
              "0    4337954960  ...     Middle Atlantic\n",
              "1    4337951949  ...  East South Central\n",
              "2    4337935621  ...            Mountain\n",
              "3    4337933040  ...             Pacific\n",
              "4    4337931983  ...             Pacific\n",
              "\n",
              "[5 rows x 65 columns]"
            ]
          },
          "metadata": {
            "tags": []
          },
          "execution_count": 36
        }
      ]
    },
    {
      "cell_type": "code",
      "metadata": {
        "id": "S8sXtd_BbmC8",
        "colab_type": "code",
        "colab": {
          "base_uri": "https://localhost:8080/",
          "height": 1000
        },
        "outputId": "e1b5c3e9-4371-430d-a686-4e035e156e72"
      },
      "source": [
        "dt.columns"
      ],
      "execution_count": 27,
      "outputs": [
        {
          "output_type": "execute_result",
          "data": {
            "text/plain": [
              "Index(['RespondentID', 'Do you celebrate Thanksgiving?',\n",
              "       'What is typically the main dish at your Thanksgiving dinner?',\n",
              "       'What is typically the main dish at your Thanksgiving dinner? - Other (please specify)',\n",
              "       'How is the main dish typically cooked?',\n",
              "       'How is the main dish typically cooked? - Other (please specify)',\n",
              "       'What kind of stuffing/dressing do you typically have?',\n",
              "       'What kind of stuffing/dressing do you typically have? - Other (please specify)',\n",
              "       'What type of cranberry saucedo you typically have?',\n",
              "       'What type of cranberry saucedo you typically have? - Other (please specify)',\n",
              "       'Do you typically have gravy?',\n",
              "       'Which of these side dishes aretypically served at your Thanksgiving dinner? Please select all that apply. - Brussel sprouts',\n",
              "       'Which of these side dishes aretypically served at your Thanksgiving dinner? Please select all that apply. - Carrots',\n",
              "       'Which of these side dishes aretypically served at your Thanksgiving dinner? Please select all that apply. - Cauliflower',\n",
              "       'Which of these side dishes aretypically served at your Thanksgiving dinner? Please select all that apply. - Corn',\n",
              "       'Which of these side dishes aretypically served at your Thanksgiving dinner? Please select all that apply. - Cornbread',\n",
              "       'Which of these side dishes aretypically served at your Thanksgiving dinner? Please select all that apply. - Fruit salad',\n",
              "       'Which of these side dishes aretypically served at your Thanksgiving dinner? Please select all that apply. - Green beans/green bean casserole',\n",
              "       'Which of these side dishes aretypically served at your Thanksgiving dinner? Please select all that apply. - Macaroni and cheese',\n",
              "       'Which of these side dishes aretypically served at your Thanksgiving dinner? Please select all that apply. - Mashed potatoes',\n",
              "       'Which of these side dishes aretypically served at your Thanksgiving dinner? Please select all that apply. - Rolls/biscuits',\n",
              "       'Which of these side dishes aretypically served at your Thanksgiving dinner? Please select all that apply. - Squash',\n",
              "       'Which of these side dishes aretypically served at your Thanksgiving dinner? Please select all that apply. - Vegetable salad',\n",
              "       'Which of these side dishes aretypically served at your Thanksgiving dinner? Please select all that apply. - Yams/sweet potato casserole',\n",
              "       'Which of these side dishes aretypically served at your Thanksgiving dinner? Please select all that apply. - Other (please specify)',\n",
              "       'Which of these side dishes aretypically served at your Thanksgiving dinner? Please select all that apply. - Other (please specify).1',\n",
              "       'Which type of pie is typically served at your Thanksgiving dinner? Please select all that apply. - Apple',\n",
              "       'Which type of pie is typically served at your Thanksgiving dinner? Please select all that apply. - Buttermilk',\n",
              "       'Which type of pie is typically served at your Thanksgiving dinner? Please select all that apply. - Cherry',\n",
              "       'Which type of pie is typically served at your Thanksgiving dinner? Please select all that apply. - Chocolate',\n",
              "       'Which type of pie is typically served at your Thanksgiving dinner? Please select all that apply. - Coconut cream',\n",
              "       'Which type of pie is typically served at your Thanksgiving dinner? Please select all that apply. - Key lime',\n",
              "       'Which type of pie is typically served at your Thanksgiving dinner? Please select all that apply. - Peach',\n",
              "       'Which type of pie is typically served at your Thanksgiving dinner? Please select all that apply. - Pecan',\n",
              "       'Which type of pie is typically served at your Thanksgiving dinner? Please select all that apply. - Pumpkin',\n",
              "       'Which type of pie is typically served at your Thanksgiving dinner? Please select all that apply. - Sweet Potato',\n",
              "       'Which type of pie is typically served at your Thanksgiving dinner? Please select all that apply. - None',\n",
              "       'Which type of pie is typically served at your Thanksgiving dinner? Please select all that apply. - Other (please specify)',\n",
              "       'Which type of pie is typically served at your Thanksgiving dinner? Please select all that apply. - Other (please specify).1',\n",
              "       'Which of these desserts do you typically have at Thanksgiving dinner? Please select all that apply.   - Apple cobbler',\n",
              "       'Which of these desserts do you typically have at Thanksgiving dinner? Please select all that apply.   - Blondies',\n",
              "       'Which of these desserts do you typically have at Thanksgiving dinner? Please select all that apply.   - Brownies',\n",
              "       'Which of these desserts do you typically have at Thanksgiving dinner? Please select all that apply.   - Carrot cake',\n",
              "       'Which of these desserts do you typically have at Thanksgiving dinner? Please select all that apply.   - Cheesecake',\n",
              "       'Which of these desserts do you typically have at Thanksgiving dinner? Please select all that apply.   - Cookies',\n",
              "       'Which of these desserts do you typically have at Thanksgiving dinner? Please select all that apply.   - Fudge',\n",
              "       'Which of these desserts do you typically have at Thanksgiving dinner? Please select all that apply.   - Ice cream',\n",
              "       'Which of these desserts do you typically have at Thanksgiving dinner? Please select all that apply.   - Peach cobbler',\n",
              "       'Which of these desserts do you typically have at Thanksgiving dinner? Please select all that apply.   - None',\n",
              "       'Which of these desserts do you typically have at Thanksgiving dinner? Please select all that apply.   - Other (please specify)',\n",
              "       'Which of these desserts do you typically have at Thanksgiving dinner? Please select all that apply.   - Other (please specify).1',\n",
              "       'Do you typically pray before or after the Thanksgiving meal?',\n",
              "       'How far will you travel for Thanksgiving?',\n",
              "       'Will you watch any of the following programs on Thanksgiving? Please select all that apply. - Macy's Parade',\n",
              "       'What's the age cutoff at your \"kids' table\" at Thanksgiving?',\n",
              "       'Have you ever tried to meet up with hometown friends on Thanksgiving night?',\n",
              "       'Have you ever attended a \"Friendsgiving?\"',\n",
              "       'Will you shop any Black Friday sales on Thanksgiving Day?',\n",
              "       'Do you work in retail?',\n",
              "       'Will you employer make you work on Black Friday?',\n",
              "       'How would you describe where you live?', 'Age', 'What is your gender?',\n",
              "       'How much total combined money did all members of your HOUSEHOLD earn last year?',\n",
              "       'US Region'],\n",
              "      dtype='object')"
            ]
          },
          "metadata": {
            "tags": []
          },
          "execution_count": 27
        }
      ]
    },
    {
      "cell_type": "code",
      "metadata": {
        "id": "j2u4xgFHcYdS",
        "colab_type": "code",
        "colab": {
          "base_uri": "https://localhost:8080/",
          "height": 400
        },
        "outputId": "f53e5a67-0573-4715-fe8c-0fba05fd34f7"
      },
      "source": [
        "df = df[['Which of these side dishes aretypically served at your Thanksgiving dinner? Please select all that apply. - Cornbread','Which of these side dishes aretypically served at your Thanksgiving dinner? Please select all that apply. - Green beans/green bean casserole',]]"
      ],
      "execution_count": 30,
      "outputs": [
        {
          "output_type": "error",
          "ename": "KeyError",
          "evalue": "ignored",
          "traceback": [
            "\u001b[0;31m---------------------------------------------------------------------------\u001b[0m",
            "\u001b[0;31mKeyError\u001b[0m                                  Traceback (most recent call last)",
            "\u001b[0;32m<ipython-input-30-fa29887c00c1>\u001b[0m in \u001b[0;36m<module>\u001b[0;34m()\u001b[0m\n\u001b[0;32m----> 1\u001b[0;31m \u001b[0mdf\u001b[0m \u001b[0;34m=\u001b[0m \u001b[0mdf\u001b[0m\u001b[0;34m[\u001b[0m\u001b[0;34m[\u001b[0m\u001b[0;34m'Which of these side dishes aretypically served at your Thanksgiving dinner? Please select all that apply. - Cornbread'\u001b[0m\u001b[0;34m,\u001b[0m\u001b[0;34m'Which of these side dishes aretypically served at your Thanksgiving dinner? Please select all that apply. - Green beans/green bean casserole'\u001b[0m\u001b[0;34m,\u001b[0m\u001b[0;34m]\u001b[0m\u001b[0;34m]\u001b[0m\u001b[0;34m\u001b[0m\u001b[0;34m\u001b[0m\u001b[0m\n\u001b[0m",
            "\u001b[0;32m/usr/local/lib/python3.6/dist-packages/pandas/core/frame.py\u001b[0m in \u001b[0;36m__getitem__\u001b[0;34m(self, key)\u001b[0m\n\u001b[1;32m   2804\u001b[0m             \u001b[0;32mif\u001b[0m \u001b[0mis_iterator\u001b[0m\u001b[0;34m(\u001b[0m\u001b[0mkey\u001b[0m\u001b[0;34m)\u001b[0m\u001b[0;34m:\u001b[0m\u001b[0;34m\u001b[0m\u001b[0;34m\u001b[0m\u001b[0m\n\u001b[1;32m   2805\u001b[0m                 \u001b[0mkey\u001b[0m \u001b[0;34m=\u001b[0m \u001b[0mlist\u001b[0m\u001b[0;34m(\u001b[0m\u001b[0mkey\u001b[0m\u001b[0;34m)\u001b[0m\u001b[0;34m\u001b[0m\u001b[0;34m\u001b[0m\u001b[0m\n\u001b[0;32m-> 2806\u001b[0;31m             \u001b[0mindexer\u001b[0m \u001b[0;34m=\u001b[0m \u001b[0mself\u001b[0m\u001b[0;34m.\u001b[0m\u001b[0mloc\u001b[0m\u001b[0;34m.\u001b[0m\u001b[0m_get_listlike_indexer\u001b[0m\u001b[0;34m(\u001b[0m\u001b[0mkey\u001b[0m\u001b[0;34m,\u001b[0m \u001b[0maxis\u001b[0m\u001b[0;34m=\u001b[0m\u001b[0;36m1\u001b[0m\u001b[0;34m,\u001b[0m \u001b[0mraise_missing\u001b[0m\u001b[0;34m=\u001b[0m\u001b[0;32mTrue\u001b[0m\u001b[0;34m)\u001b[0m\u001b[0;34m[\u001b[0m\u001b[0;36m1\u001b[0m\u001b[0;34m]\u001b[0m\u001b[0;34m\u001b[0m\u001b[0;34m\u001b[0m\u001b[0m\n\u001b[0m\u001b[1;32m   2807\u001b[0m \u001b[0;34m\u001b[0m\u001b[0m\n\u001b[1;32m   2808\u001b[0m         \u001b[0;31m# take() does not accept boolean indexers\u001b[0m\u001b[0;34m\u001b[0m\u001b[0;34m\u001b[0m\u001b[0;34m\u001b[0m\u001b[0m\n",
            "\u001b[0;32m/usr/local/lib/python3.6/dist-packages/pandas/core/indexing.py\u001b[0m in \u001b[0;36m_get_listlike_indexer\u001b[0;34m(self, key, axis, raise_missing)\u001b[0m\n\u001b[1;32m   1551\u001b[0m \u001b[0;34m\u001b[0m\u001b[0m\n\u001b[1;32m   1552\u001b[0m         self._validate_read_indexer(\n\u001b[0;32m-> 1553\u001b[0;31m             \u001b[0mkeyarr\u001b[0m\u001b[0;34m,\u001b[0m \u001b[0mindexer\u001b[0m\u001b[0;34m,\u001b[0m \u001b[0mo\u001b[0m\u001b[0;34m.\u001b[0m\u001b[0m_get_axis_number\u001b[0m\u001b[0;34m(\u001b[0m\u001b[0maxis\u001b[0m\u001b[0;34m)\u001b[0m\u001b[0;34m,\u001b[0m \u001b[0mraise_missing\u001b[0m\u001b[0;34m=\u001b[0m\u001b[0mraise_missing\u001b[0m\u001b[0;34m\u001b[0m\u001b[0;34m\u001b[0m\u001b[0m\n\u001b[0m\u001b[1;32m   1554\u001b[0m         )\n\u001b[1;32m   1555\u001b[0m         \u001b[0;32mreturn\u001b[0m \u001b[0mkeyarr\u001b[0m\u001b[0;34m,\u001b[0m \u001b[0mindexer\u001b[0m\u001b[0;34m\u001b[0m\u001b[0;34m\u001b[0m\u001b[0m\n",
            "\u001b[0;32m/usr/local/lib/python3.6/dist-packages/pandas/core/indexing.py\u001b[0m in \u001b[0;36m_validate_read_indexer\u001b[0;34m(self, key, indexer, axis, raise_missing)\u001b[0m\n\u001b[1;32m   1638\u001b[0m             \u001b[0;32mif\u001b[0m \u001b[0mmissing\u001b[0m \u001b[0;34m==\u001b[0m \u001b[0mlen\u001b[0m\u001b[0;34m(\u001b[0m\u001b[0mindexer\u001b[0m\u001b[0;34m)\u001b[0m\u001b[0;34m:\u001b[0m\u001b[0;34m\u001b[0m\u001b[0;34m\u001b[0m\u001b[0m\n\u001b[1;32m   1639\u001b[0m                 \u001b[0maxis_name\u001b[0m \u001b[0;34m=\u001b[0m \u001b[0mself\u001b[0m\u001b[0;34m.\u001b[0m\u001b[0mobj\u001b[0m\u001b[0;34m.\u001b[0m\u001b[0m_get_axis_name\u001b[0m\u001b[0;34m(\u001b[0m\u001b[0maxis\u001b[0m\u001b[0;34m)\u001b[0m\u001b[0;34m\u001b[0m\u001b[0;34m\u001b[0m\u001b[0m\n\u001b[0;32m-> 1640\u001b[0;31m                 \u001b[0;32mraise\u001b[0m \u001b[0mKeyError\u001b[0m\u001b[0;34m(\u001b[0m\u001b[0;34mf\"None of [{key}] are in the [{axis_name}]\"\u001b[0m\u001b[0;34m)\u001b[0m\u001b[0;34m\u001b[0m\u001b[0;34m\u001b[0m\u001b[0m\n\u001b[0m\u001b[1;32m   1641\u001b[0m \u001b[0;34m\u001b[0m\u001b[0m\n\u001b[1;32m   1642\u001b[0m             \u001b[0;31m# We (temporarily) allow for some missing keys with .loc, except in\u001b[0m\u001b[0;34m\u001b[0m\u001b[0;34m\u001b[0m\u001b[0;34m\u001b[0m\u001b[0m\n",
            "\u001b[0;31mKeyError\u001b[0m: \"None of [Index(['Which of these side dishes aretypically served at your Thanksgiving dinner? Please select all that apply. - Cornbread', 'Which of these side dishes aretypically served at your Thanksgiving dinner? Please select all that apply. - Green beans/green bean casserole'], dtype='object')] are in the [columns]\""
          ]
        }
      ]
    },
    {
      "cell_type": "code",
      "metadata": {
        "id": "C5HraSjzeEep",
        "colab_type": "code",
        "colab": {}
      },
      "source": [
        ""
      ],
      "execution_count": 0,
      "outputs": []
    }
  ]
}