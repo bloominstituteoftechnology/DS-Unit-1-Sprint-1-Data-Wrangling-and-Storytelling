{
  "nbformat": 4,
  "nbformat_minor": 0,
  "metadata": {
    "colab": {
      "name": "Jake_Dennis_LS_DS_114_Make_Explanatory_Visualizations_Assignment.ipynb",
      "provenance": [],
      "collapsed_sections": [],
      "include_colab_link": true
    },
    "language_info": {
      "codemirror_mode": {
        "name": "ipython",
        "version": 3
      },
      "file_extension": ".py",
      "mimetype": "text/x-python",
      "name": "python",
      "nbconvert_exporter": "python",
      "pygments_lexer": "ipython3",
      "version": "3.7.1"
    },
    "kernelspec": {
      "display_name": "Python 3",
      "language": "python",
      "name": "python3"
    }
  },
  "cells": [
    {
      "cell_type": "markdown",
      "metadata": {
        "id": "view-in-github",
        "colab_type": "text"
      },
      "source": [
        "<a href=\"https://colab.research.google.com/github/imdeja/Jake_Dennis_DS-Unit-1-Sprint-1-Data-Wrangling-and-Storytelling/blob/master/module4-make-explanatory-visualizations/Jake_Dennis_LS_DS_114_Make_Explanatory_Visualizations_Assignment.ipynb\" target=\"_parent\"><img src=\"https://colab.research.google.com/assets/colab-badge.svg\" alt=\"Open In Colab\"/></a>"
      ]
    },
    {
      "cell_type": "code",
      "metadata": {
        "id": "WJcIdsL8fbmP",
        "colab_type": "code",
        "colab": {
          "base_uri": "https://localhost:8080/",
          "height": 204
        },
        "outputId": "7f3cd5cf-9a54-406f-dfe9-146d3d0c04b8"
      },
      "source": [
        "import pandas as pd\n",
        "\n",
        "df = pd.DataFrame({'data': [1,3,2,4,3,5]})\n",
        "\n",
        "df.head()"
      ],
      "execution_count": 1,
      "outputs": [
        {
          "output_type": "execute_result",
          "data": {
            "text/html": [
              "<div>\n",
              "<style scoped>\n",
              "    .dataframe tbody tr th:only-of-type {\n",
              "        vertical-align: middle;\n",
              "    }\n",
              "\n",
              "    .dataframe tbody tr th {\n",
              "        vertical-align: top;\n",
              "    }\n",
              "\n",
              "    .dataframe thead th {\n",
              "        text-align: right;\n",
              "    }\n",
              "</style>\n",
              "<table border=\"1\" class=\"dataframe\">\n",
              "  <thead>\n",
              "    <tr style=\"text-align: right;\">\n",
              "      <th></th>\n",
              "      <th>data</th>\n",
              "    </tr>\n",
              "  </thead>\n",
              "  <tbody>\n",
              "    <tr>\n",
              "      <th>0</th>\n",
              "      <td>1</td>\n",
              "    </tr>\n",
              "    <tr>\n",
              "      <th>1</th>\n",
              "      <td>3</td>\n",
              "    </tr>\n",
              "    <tr>\n",
              "      <th>2</th>\n",
              "      <td>2</td>\n",
              "    </tr>\n",
              "    <tr>\n",
              "      <th>3</th>\n",
              "      <td>4</td>\n",
              "    </tr>\n",
              "    <tr>\n",
              "      <th>4</th>\n",
              "      <td>3</td>\n",
              "    </tr>\n",
              "  </tbody>\n",
              "</table>\n",
              "</div>"
            ],
            "text/plain": [
              "   data\n",
              "0     1\n",
              "1     3\n",
              "2     2\n",
              "3     4\n",
              "4     3"
            ]
          },
          "metadata": {
            "tags": []
          },
          "execution_count": 1
        }
      ]
    },
    {
      "cell_type": "code",
      "metadata": {
        "id": "ykpxhDnMwPtA",
        "colab_type": "code",
        "colab": {
          "base_uri": "https://localhost:8080/",
          "height": 265
        },
        "outputId": "f06944dc-bdbe-4d86-bf30-b0a92857f6af"
      },
      "source": [
        "df['data'].plot();"
      ],
      "execution_count": 2,
      "outputs": [
        {
          "output_type": "display_data",
          "data": {
            "image/png": "[encoded data removed]",
            "text/plain": [
              "<Figure size 432x288 with 1 Axes>"
            ]
          },
          "metadata": {
            "tags": []
          }
        }
      ]
    },
    {
      "cell_type": "code",
      "metadata": {
        "id": "0UhPfIguwUG6",
        "colab_type": "code",
        "colab": {
          "base_uri": "https://localhost:8080/",
          "height": 265
        },
        "outputId": "381d62fe-11b7-4c0e-9da1-c6b2dfc6d31e"
      },
      "source": [
        "import matplotlib.pyplot as plt\n",
        "data = [1,3,2,4,3,5]\n",
        "data2 = [3,5,4,6,5,7]\n",
        "plt.plot(data)\n",
        "plt.plot(data2)\n",
        "plt.show()"
      ],
      "execution_count": 5,
      "outputs": [
        {
          "output_type": "display_data",
          "data": {
            "image/png": "[encoded data removed]",
            "text/plain": [
              "<Figure size 432x288 with 1 Axes>"
            ]
          },
          "metadata": {
            "tags": []
          }
        }
      ]
    },
    {
      "cell_type": "code",
      "metadata": {
        "id": "xLFhl9-FzESe",
        "colab_type": "code",
        "colab": {
          "base_uri": "https://localhost:8080/",
          "height": 355
        },
        "outputId": "f5322b43-bae7-4304-d215-cb2f4a2467e9"
      },
      "source": [
        "from IPython.display import display, Image\n",
        "\n",
        "url = 'https://fivethirtyeight.com/wp-content/uploads/2017/09/mehtahickey-inconvenient-0830-1.png'\n",
        "example = Image(url=url, width=400)\n",
        "\n",
        "display(example)"
      ],
      "execution_count": 6,
      "outputs": [
        {
          "output_type": "display_data",
          "data": {
            "text/html": [
              "<img src=\"https://fivethirtyeight.com/wp-content/uploads/2017/09/mehtahickey-inconvenient-0830-1.png\" width=\"400\"/>"
            ],
            "text/plain": [
              "<IPython.core.display.Image object>"
            ]
          },
          "metadata": {
            "tags": []
          }
        }
      ]
    },
    {
      "cell_type": "code",
      "metadata": {
        "id": "mgFDHlV1zH-p",
        "colab_type": "code",
        "colab": {
          "base_uri": "https://localhost:8080/",
          "height": 268
        },
        "outputId": "0f0465d1-30c3-4080-9947-3584a88a3ebe"
      },
      "source": [
        "%matplotlib inline\n",
        "import matplotlib.pyplot as plt\n",
        "import numpy as np\n",
        "import pandas as pd\n",
        "\n",
        "\n",
        "#plt.style.use('fivethirtyeight')\n",
        "\n",
        "fake = pd.Series([38, 3, 2, 1, 2, 4, 6, 5, 5, 33], \n",
        "                 index=range(1,11))\n",
        "\n",
        "fake.plot.bar(color='C1', width=0.9);"
      ],
      "execution_count": 7,
      "outputs": [
        {
          "output_type": "display_data",
          "data": {
            "image/png": "[encoded data removed]",
            "text/plain": [
              "<Figure size 432x288 with 1 Axes>"
            ]
          },
          "metadata": {
            "tags": []
          }
        }
      ]
    },
    {
      "cell_type": "code",
      "metadata": {
        "id": "tMubDzcN9zdt",
        "colab_type": "code",
        "colab": {
          "base_uri": "https://localhost:8080/",
          "height": 270
        },
        "outputId": "88f2e53c-a0e5-45fb-8cce-9622d52b0f95"
      },
      "source": [
        "fake2 = pd.Series(\n",
        "    [1, 1, 1, 1, 1, 1, 1, 1, 1, 1, 1, 1, 1, 1, 1, 1, 1, 1, 1, 1, 1, 1, 1, 1,\n",
        "     2, 2, 2, \n",
        "     3, 3, 3,\n",
        "     4, 4,\n",
        "     5, 5, 5,\n",
        "     6, 6, 6, 6,\n",
        "     7, 7, 7, 7, 7,\n",
        "     8, 8, 8, 8,\n",
        "     9, 9, 9, 9, \n",
        "     10, 10, 10, 10, 10, 10, 10, 10, 10, 10, 10, 10, 10, 10, 10, 10, 10, 10])\n",
        "\n",
        "fake2.value_counts().sort_index().plot.bar(color='C1', width=0.9);"
      ],
      "execution_count": 8,
      "outputs": [
        {
          "output_type": "display_data",
          "data": {
            "image/png": "[encoded data removed]",
            "text/plain": [
              "<Figure size 432x288 with 1 Axes>"
            ]
          },
          "metadata": {
            "tags": []
          }
        }
      ]
    },
    {
      "cell_type": "code",
      "metadata": {
        "id": "EljNijWt90nf",
        "colab_type": "code",
        "colab": {
          "base_uri": "https://localhost:8080/",
          "height": 335
        },
        "outputId": "3dc6284d-3246-405d-953f-05d92d05262f"
      },
      "source": [
        "fig, ax = plt.subplots()\n",
        "\n",
        "plt.style.use('fivethirtyeight')\n",
        "\n",
        "# Add bars\n",
        "ax.bar(height=fake, x=range(1,11,1), color='#ED713A', width=.9)\n",
        "\n",
        "# Set Title\n",
        "ax.set_title(\"'An Inconvenient Sequel: Truth To Power' is divisive\", x=.35, y=1.1, fontsize=12, fontweight=\"bold\")\n",
        "\n",
        "# Set Subtitle\n",
        "ax.text(s=\"IMDb ratings for the film as of Aug. 29\", y=42, x=-1.2, fontsize=12)\n",
        "\n",
        "# Set xticks\n",
        "ax.set_xticks(range(1,11,1))\n",
        "\n",
        "# Set yticks\n",
        "ax.set_yticks(range(0,50,10))\n",
        "# ax.set_xticks([1,2,3,4,5,6,7,8,9,10])\n",
        "\n",
        "# Set ytick labels\n",
        "ax.set_yticklabels(['0','10','20','30','40%'])\n",
        "\n",
        "# Set x label\n",
        "ax.set_xlabel(\"Rating\", color='black', fontsize=10, fontweight='bold')\n",
        "\n",
        "# Set y label\n",
        "ax.set_ylabel(\"Percent of total votes\", color='black', fontsize=10, fontweight='bold')\n",
        "\n",
        "# Set Figure background color\n",
        "fig.set_facecolor(color=\"None\")\n",
        "\n",
        "# Set the Axes background color\n",
        "ax.set_facecolor(color=\"None\")\n",
        "\n",
        "# Turn off the spine\n",
        "ax.spines['left'].set_visible(False)\n",
        "ax.spines['right'].set_visible(False)\n",
        "ax.spines['top'].set_visible(False)\n",
        "#ax.spines['bottom'].set_visible(False)\n",
        "\n",
        "plt.show()"
      ],
      "execution_count": 13,
      "outputs": [
        {
          "output_type": "display_data",
          "data": {
            "image/png": "[encoded data removed]",
            "text/plain": [
              "<Figure size 432x288 with 1 Axes>"
            ]
          },
          "metadata": {
            "tags": []
          }
        }
      ]
    },
    {
      "cell_type": "code",
      "metadata": {
        "id": "hOi6Y_Qg94DM",
        "colab_type": "code",
        "colab": {
          "base_uri": "https://localhost:8080/",
          "height": 34
        },
        "outputId": "ee843e41-78e6-4758-df90-d6175bab11ac"
      },
      "source": [
        "list(range(1,51,10))"
      ],
      "execution_count": 10,
      "outputs": [
        {
          "output_type": "execute_result",
          "data": {
            "text/plain": [
              "[1, 11, 21, 31, 41]"
            ]
          },
          "metadata": {
            "tags": []
          },
          "execution_count": 10
        }
      ]
    },
    {
      "cell_type": "code",
      "metadata": {
        "id": "abZ4sip99647",
        "colab_type": "code",
        "colab": {
          "base_uri": "https://localhost:8080/",
          "height": 355
        },
        "outputId": "511a912c-3ba0-47e7-ebf0-f72ce381ef1c"
      },
      "source": [
        "display(example)"
      ],
      "execution_count": 11,
      "outputs": [
        {
          "output_type": "display_data",
          "data": {
            "text/html": [
              "<img src=\"https://fivethirtyeight.com/wp-content/uploads/2017/09/mehtahickey-inconvenient-0830-1.png\" width=\"400\"/>"
            ],
            "text/plain": [
              "<IPython.core.display.Image object>"
            ]
          },
          "metadata": {
            "tags": []
          }
        }
      ]
    },
    {
      "cell_type": "markdown",
      "metadata": {
        "colab_type": "text",
        "id": "NMEswXWh9mqw"
      },
      "source": [
        "Lambda School Data Science\n",
        "\n",
        "*Unit 1, Sprint 1, Module 4*\n",
        "\n",
        "---\n",
        "\n",
        "# ASSIGNMENT\n",
        "\n",
        "### 1) Replicate the lesson code. I recommend that you [do not copy-paste](https://docs.google.com/document/d/1ubOw9B3Hfip27hF2ZFnW3a3z9xAgrUDRReOEo-FHCVs/edit).\n",
        "\n",
        "Get caught up to where we got our example in class and then try and take things further. How close to \"pixel perfect\" can you make the lecture graph?\n",
        "\n",
        "Once you have something that you're proud of, share your graph in the cohort channel and move on to the second exercise.\n",
        "\n",
        "### 2) Reproduce another example from [FiveThityEight's shared data repository](https://data.fivethirtyeight.com/).\n",
        "\n",
        "**WARNING**: There are a lot of very custom graphs and tables at the above link. I **highly** recommend not trying to reproduce any that look like a table of values or something really different from the graph types that we are already familiar with. Search through the posts until you find a graph type that you are more or less familiar with: histogram, bar chart, stacked bar chart, line chart, [seaborn relplot](https://seaborn.pydata.org/generated/seaborn.relplot.html), etc. Recreating some of the graphics that 538 uses would be a lot easier in Adobe photoshop/illustrator than with matplotlib. \n",
        "\n",
        "- If you put in some time to find a graph that looks \"easy\" to replicate you'll probably find that it's not as easy as you thought. \n",
        "\n",
        "- If you start with a graph that looks hard to replicate you'll probably run up against a brick wall and be disappointed with your afternoon.\n",
        "\n",
        "\n",
        "\n",
        "\n",
        "\n",
        "\n",
        "\n",
        "\n",
        "\n",
        "\n"
      ]
    },
    {
      "cell_type": "code",
      "metadata": {
        "id": "7SY1ZHawyZvz",
        "colab_type": "code",
        "colab": {
          "base_uri": "https://localhost:8080/",
          "height": 329
        },
        "outputId": "dbd479d5-b11a-4e62-eef9-268a91b3625f"
      },
      "source": [
        "fig, ax = plt.subplots()\n",
        "\n",
        "plt.style.use('fivethirtyeight')\n",
        "\n",
        "# Add bars\n",
        "ax.bar(height=fake, x=range(1,11,1), color='#ED713A', width=.9)\n",
        "\n",
        "# Set Title\n",
        "ax.set_title(\"'An Inconvenient Sequel: Truth To Power' is divisive\", x=.35, y=1.1, fontsize=13, fontweight=600)\n",
        "\n",
        "# Set Subtitle\n",
        "ax.text(s=\"IMDb ratings for the film as of Aug. 29\", y=42, x=-1.6, fontsize=12)\n",
        "\n",
        "# Set xticks\n",
        "ax.set_xticks(range(1,11,1))\n",
        "\n",
        "# Set yticks\n",
        "ax.set_yticks(range(0,50,10))\n",
        "# ax.set_xticks([1,2,3,4,5,6,7,8,9,10])\n",
        "ax.set_xticklabels(['1','2','3','4','5','6','7','8','9','10'], color ='#999999', fontsize=8)\n",
        "\n",
        "# Set ytick labels\n",
        "ax.set_yticklabels(['0','10','20','30','40%'], color='#999999', fontsize=8)\n",
        "\n",
        "# Set x label\n",
        "ax.set_xlabel(\"Rating\", x=.48, y=-8, color='black', fontsize=9, fontweight='bold')\n",
        "\n",
        "# Set y label\n",
        "ax.set_ylabel(\"Percent of total votes\", color='black', fontsize=9, fontweight='bold')\n",
        "\n",
        "# Set Figure background color\n",
        "fig.set_facecolor(color=\"None\")\n",
        "\n",
        "# Set the Axes background color\n",
        "ax.set_facecolor(color=\"None\")\n",
        "\n",
        "# Turn off the spine\n",
        "ax.spines['left'].set_visible(False)\n",
        "ax.spines['right'].set_visible(False)\n",
        "ax.spines['top'].set_visible(False)\n",
        "ax.spines['bottom'].set_visible(False)\n",
        "ax.spines.set_color='#CBCBCB'\n",
        "\n",
        "plt.show()"
      ],
      "execution_count": 59,
      "outputs": [
        {
          "output_type": "display_data",
          "data": {
            "image/png": "[encoded data removed]",
            "text/plain": [
              "<Figure size 432x288 with 1 Axes>"
            ]
          },
          "metadata": {
            "tags": []
          }
        }
      ]
    },
    {
      "cell_type": "code",
      "metadata": {
        "id": "bCzCljJ1-8JE",
        "colab_type": "code",
        "colab": {
          "base_uri": "https://localhost:8080/",
          "height": 355
        },
        "outputId": "53f31f8d-3e76-4e73-f24c-f186d4f3a410"
      },
      "source": [
        "display(example)"
      ],
      "execution_count": 15,
      "outputs": [
        {
          "output_type": "display_data",
          "data": {
            "text/html": [
              "<img src=\"https://fivethirtyeight.com/wp-content/uploads/2017/09/mehtahickey-inconvenient-0830-1.png\" width=\"400\"/>"
            ],
            "text/plain": [
              "<IPython.core.display.Image object>"
            ]
          },
          "metadata": {
            "tags": []
          }
        }
      ]
    },
    {
      "cell_type": "code",
      "metadata": {
        "id": "UIdwCoqpiJZb",
        "colab_type": "code",
        "colab": {
          "base_uri": "https://localhost:8080/",
          "height": 504
        },
        "outputId": "b88b17a3-8f97-4cd7-e0c3-22eab46ca231"
      },
      "source": [
        "from IPython.display import display, Image\n",
        "\n",
        "url = 'https://fivethirtyeight.com/wp-content/uploads/2017/08/roeder-uschess-1.png'\n",
        "example = Image(url=url, width=400)\n",
        "\n",
        "display(example)"
      ],
      "execution_count": 135,
      "outputs": [
        {
          "output_type": "display_data",
          "data": {
            "text/html": [
              "<img src=\"https://fivethirtyeight.com/wp-content/uploads/2017/08/roeder-uschess-1.png\" width=\"400\"/>"
            ],
            "text/plain": [
              "<IPython.core.display.Image object>"
            ]
          },
          "metadata": {
            "tags": []
          }
        }
      ]
    },
    {
      "cell_type": "code",
      "metadata": {
        "id": "AC9zTu-niNrI",
        "colab_type": "code",
        "colab": {
          "base_uri": "https://localhost:8080/",
          "height": 285
        },
        "outputId": "319cbbf3-a6a0-466b-d6e0-9a8d1ec17568"
      },
      "source": [
        "fake = pd.Series([11, 8, 7, 7, 7, 6, 4, 3, 3, 2],\n",
        "                 index=range(1,11))\n",
        "fake.plot.bar(color='C1', width=0.9);"
      ],
      "execution_count": 136,
      "outputs": [
        {
          "output_type": "display_data",
          "data": {
            "image/png": "[encoded data removed]",
            "text/plain": [
              "<Figure size 432x288 with 1 Axes>"
            ]
          },
          "metadata": {
            "tags": []
          }
        }
      ]
    },
    {
      "cell_type": "code",
      "metadata": {
        "id": "sz3apCIhiVmA",
        "colab_type": "code",
        "colab": {
          "base_uri": "https://localhost:8080/",
          "height": 504
        },
        "outputId": "c30de11e-b1fb-4bcb-e002-c445a1ced80b"
      },
      "source": [
        "display(example)"
      ],
      "execution_count": 139,
      "outputs": [
        {
          "output_type": "display_data",
          "data": {
            "text/html": [
              "<img src=\"https://fivethirtyeight.com/wp-content/uploads/2017/08/roeder-uschess-1.png\" width=\"400\"/>"
            ],
            "text/plain": [
              "<IPython.core.display.Image object>"
            ]
          },
          "metadata": {
            "tags": []
          }
        }
      ]
    },
    {
      "cell_type": "code",
      "metadata": {
        "id": "lT-Fn2BbiRRJ",
        "colab_type": "code",
        "colab": {
          "base_uri": "https://localhost:8080/",
          "height": 350
        },
        "outputId": "0d115ce6-6ecb-4262-ea39-153477a2eb8d"
      },
      "source": [
        "fig, ax = plt.subplots()\n",
        "\n",
        "Countries = ['India', 'Armenia', 'Cuba', 'Russia', 'Ukraine', \n",
        "              'Philippines', 'Georgia', 'Azerbaijan', 'Belarus', 'Colombia']\n",
        "y_pos = np.arange(len(Countries))\n",
        "Number_of_transfers = fake\n",
        "\n",
        "ax.barh(y_pos, Number_of_transfers, color='#F95CCA', align='center')\n",
        "ax.set_yticks(y_pos,)\n",
        "ax.set_yticklabels(Countries)\n",
        "ax.set_xticks(range(0,13,2))\n",
        "ax.invert_yaxis()  \n",
        "ax.set_xlabel(\"Number of transfers\", color='black', fontsize=10, fontweight='bold')\n",
        "ax.set_title(\"Countries with highest number of transers to the U.S.\", x=.3, y=1.3, fontsize=12, fontweight=\"bold\")\n",
        "ax.xaxis.set_label_position('top') \n",
        "ax.xaxis.tick_top()\n",
        "fig.set_facecolor(color=\"None\")\n",
        "ax.spines['bottom'].set_visible(False)\n",
        "ax.spines['top'].set_visible(False)\n",
        "ax.set_yticklabels(['India', 'Armenia', 'Cuba', 'Russia', 'Ukraine', \n",
        "              'Philippines', 'Georgia', 'Azerbaijan', 'Belarus', 'Colombia'], \n",
        "              color='#39494A')\n",
        "ax.set_xticklabels(['2','4','6','8','10','12'], color ='#999999', fontsize=8)\n",
        "\n",
        "\n",
        "ax.grid(False)\n",
        "ax.xaxis.grid(True)\n",
        "ax.set_facecolor(color=\"None\")\n",
        "\n",
        "plt.show()"
      ],
      "execution_count": 147,
      "outputs": [
        {
          "output_type": "display_data",
          "data": {
            "image/png": "[encoded data removed]",
            "text/plain": [
              "<Figure size 432x288 with 1 Axes>"
            ]
          },
          "metadata": {
            "tags": []
          }
        }
      ]
    },
    {
      "cell_type": "markdown",
      "metadata": {
        "id": "0wSrBzmJyWaV",
        "colab_type": "text"
      },
      "source": [
        "# STRETCH OPTIONS\n",
        "\n",
        "### 1) Reproduce one of the following using the matplotlib or seaborn libraries:\n",
        "\n",
        "- [thanksgiving-2015](https://fivethirtyeight.com/features/heres-what-your-part-of-america-eats-on-thanksgiving/) \n",
        "- [candy-power-ranking](https://fivethirtyeight.com/features/the-ultimate-halloween-candy-power-ranking/) \n",
        "- or another example of your choice!\n",
        "\n",
        "### 2) Make more charts!\n",
        "\n",
        "Choose a chart you want to make, from [Visual Vocabulary - Vega Edition](http://ft.com/vocabulary).\n",
        "\n",
        "Find the chart in an example gallery of a Python data visualization library:\n",
        "- [Seaborn](http://seaborn.pydata.org/examples/index.html)\n",
        "- [Altair](https://altair-viz.github.io/gallery/index.html)\n",
        "- [Matplotlib](https://matplotlib.org/gallery.html)\n",
        "- [Pandas](https://pandas.pydata.org/pandas-docs/stable/visualization.html)\n",
        "\n",
        "Reproduce the chart. [Optionally, try the \"Ben Franklin Method.\"](https://docs.google.com/document/d/1ubOw9B3Hfip27hF2ZFnW3a3z9xAgrUDRReOEo-FHCVs/edit) If you want, experiment and make changes.\n",
        "\n",
        "Take notes. Consider sharing your work with your cohort!"
      ]
    },
    {
      "cell_type": "code",
      "metadata": {
        "id": "dRJkKftiy5BJ",
        "colab_type": "code",
        "colab": {}
      },
      "source": [
        "# More Work Here"
      ],
      "execution_count": 0,
      "outputs": []
    }
  ]
}