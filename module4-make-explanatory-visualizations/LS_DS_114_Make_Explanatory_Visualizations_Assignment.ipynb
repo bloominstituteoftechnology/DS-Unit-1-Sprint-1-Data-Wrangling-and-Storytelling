{
  "nbformat": 4,
  "nbformat_minor": 0,
  "metadata": {
    "colab": {
      "name": "Copy of LS_DS_114_Make_Explanatory_Visualizations_Assignment.ipynb",
      "provenance": [],
      "collapsed_sections": [
        "kVs_Nr6zBpDw",
        "frOGQqq-EgAd",
        "4EBTM-ONPRcM",
        "gSlmETxoNzGL",
        "EKJ9ZzqQw8iA",
        "u6XHwjHv3UhA",
        "jy4g1vmn3dLn",
        "RAZtpdMpJ5C5"
      ],
      "include_colab_link": true
    },
    "language_info": {
      "codemirror_mode": {
        "name": "ipython",
        "version": 3
      },
      "file_extension": ".py",
      "mimetype": "text/x-python",
      "name": "python",
      "nbconvert_exporter": "python",
      "pygments_lexer": "ipython3",
      "version": "3.7.1"
    },
    "kernelspec": {
      "display_name": "Python 3",
      "language": "python",
      "name": "python3"
    }
  },
  "cells": [
    {
      "cell_type": "markdown",
      "metadata": {
        "id": "view-in-github",
        "colab_type": "text"
      },
      "source": [
        "<a href=\"https://colab.research.google.com/github/mvkumar14/DS-Unit-1-Sprint-1-Data-Wrangling-and-Storytelling/blob/master/module4-make-explanatory-visualizations/LS_DS_114_Make_Explanatory_Visualizations_Assignment.ipynb\" target=\"_parent\"><img src=\"https://colab.research.google.com/assets/colab-badge.svg\" alt=\"Open In Colab\"/></a>"
      ]
    },
    {
      "cell_type": "markdown",
      "metadata": {
        "colab_type": "text",
        "id": "NMEswXWh9mqw"
      },
      "source": [
        "Lambda School Data Science\n",
        "\n",
        "*Unit 1, Sprint 1, Module 4*\n",
        "\n",
        "---\n",
        "\n",
        "# ASSIGNMENT\n",
        "\n",
        "### 1) Replicate the lesson code. I recommend that you [do not copy-paste](https://docs.google.com/document/d/1ubOw9B3Hfip27hF2ZFnW3a3z9xAgrUDRReOEo-FHCVs/edit).\n",
        "\n",
        "Get caught up to where we got our example in class and then try and take things further. How close to \"pixel perfect\" can you make the lecture graph?\n",
        "\n",
        "Once you have something that you're proud of, share your graph in the cohort channel and move on to the second exercise.\n",
        "\n",
        "### 2) Reproduce another example from [FiveThityEight's shared data repository](https://data.fivethirtyeight.com/).\n",
        "\n",
        "**WARNING**: There are a lot of very custom graphs and tables at the above link. I **highly** recommend not trying to reproduce any that look like a table of values or something really different from the graph types that we are already familiar with. Search through the posts until you find a graph type that you are more or less familiar with: histogram, bar chart, stacked bar chart, line chart, [seaborn relplot](https://seaborn.pydata.org/generated/seaborn.relplot.html), etc. Recreating some of the graphics that 538 uses would be a lot easier in Adobe photoshop/illustrator than with matplotlib. \n",
        "\n",
        "- If you put in some time to find a graph that looks \"easy\" to replicate you'll probably find that it's not as easy as you thought. \n",
        "\n",
        "- If you start with a graph that looks hard to replicate you'll probably run up against a brick wall and be disappointed with your afternoon.\n",
        "\n",
        "\n",
        "\n",
        "\n",
        "\n",
        "\n",
        "\n",
        "\n",
        "\n",
        "\n"
      ]
    },
    {
      "cell_type": "markdown",
      "metadata": {
        "id": "kVs_Nr6zBpDw",
        "colab_type": "text"
      },
      "source": [
        "## 1) Replicate Lesson Code:"
      ]
    },
    {
      "cell_type": "markdown",
      "metadata": {
        "id": "V06iOot6CY3M",
        "colab_type": "text"
      },
      "source": [
        "### Matplotlib PyPlot Syntax\n",
        "\n",
        "Note the different behaviors of ```plt.plot()``` and ```plt.show()```\n",
        "\n",
        "*   ```plt.plot```  simply plots the data once. If its called again then the values are updated based on any changes made. (so this will plot additional graphs to the SAME figure\n",
        "*   ```plt.show``` plots the data, and then \"somehow internally\" tell matplotlib to create a new figure for new graphs, just like how figure() would in matlab or octave\n",
        "\n"
      ]
    },
    {
      "cell_type": "code",
      "metadata": {
        "id": "7SY1ZHawyZvz",
        "colab_type": "code",
        "outputId": "6c966ac9-019d-48c6-e0f5-40a7f1a8c668",
        "colab": {
          "base_uri": "https://localhost:8080/",
          "height": 295
        }
      },
      "source": [
        "import matplotlib.pyplot as plt\n",
        "sample_data = [1,4,2,5,3,6]\n",
        "plt.plot(sample_data)\n",
        "plt.title('Test Graph')\n",
        "plt.xlabel('x axis')\n",
        "plt.ylabel('y axis')\n",
        "plt.plot()\n",
        "\n",
        "more_data = [5,3,6,2,4,2]\n",
        "plt.plot(more_data)\n",
        "plt.title('Two datasets')\n",
        "plt.show()\n",
        " #NOTICE THAT:\n",
        " #1 The title changed\n",
        " #2 The second plot was plotted on the same figure (same axes)"
      ],
      "execution_count": 0,
      "outputs": [
        {
          "output_type": "display_data",
          "data": {
            "image/png": "[encoded data removed]",
            "text/plain": [
              "<Figure size 432x288 with 1 Axes>"
            ]
          },
          "metadata": {
            "tags": []
          }
        }
      ]
    },
    {
      "cell_type": "code",
      "metadata": {
        "id": "bWqQICLYC7hi",
        "colab_type": "code",
        "outputId": "a3d04860-7b57-4431-ab44-d648bbfc7c10",
        "colab": {
          "base_uri": "https://localhost:8080/",
          "height": 573
        }
      },
      "source": [
        "import matplotlib.pyplot as plt\n",
        "sample_data = [1,4,2,5,3,6]\n",
        "plt.plot(sample_data)\n",
        "plt.title('First Graph')\n",
        "plt.xlabel('x axis')\n",
        "plt.ylabel('y axis')\n",
        "plt.show()\n",
        "\n",
        "more_data = [5,3,6,2,4,2]\n",
        "plt.plot(more_data)\n",
        "plt.title('Second Graph')\n",
        "plt.xlabel('Second x')\n",
        "plt.ylabel('Second y')\n",
        "plt.show()\n",
        "\n",
        "# You don't have to do plt.show() here because jupyter notebooks\n",
        "# automatically show the data, but it is good practice to be explicit so if the \n",
        "# code is copied somewhere else it will retain the proper outputs"
      ],
      "execution_count": 0,
      "outputs": [
        {
          "output_type": "display_data",
          "data": {
            "image/png": "[encoded data removed]",
            "text/plain": [
              "<Figure size 432x288 with 1 Axes>"
            ]
          },
          "metadata": {
            "tags": []
          }
        },
        {
          "output_type": "display_data",
          "data": {
            "image/png": "[encoded data removed]",
            "text/plain": [
              "<Figure size 432x288 with 1 Axes>"
            ]
          },
          "metadata": {
            "tags": []
          }
        }
      ]
    },
    {
      "cell_type": "markdown",
      "metadata": {
        "id": "frOGQqq-EgAd",
        "colab_type": "text"
      },
      "source": [
        "### Matplotlib's fig, ax Syntax (also known as Object Oriented syntax)\n",
        "\n",
        "Use this when you want multiple sets of axes (subplots), or if you need to heavily customize something. If you want to be minimally sufficient it is a good idea to use this syntax as you can do everythnig that the plt syntax can do here"
      ]
    },
    {
      "cell_type": "markdown",
      "metadata": {
        "id": "BLYam4T_E_VV",
        "colab_type": "text"
      },
      "source": [
        "Think of the fig and ax as two different objects whose properties can be set, or changed with .notation"
      ]
    },
    {
      "cell_type": "code",
      "metadata": {
        "id": "W-x3Hk9rEebQ",
        "colab_type": "code",
        "outputId": "690a55a0-1178-48d2-dc1f-09f8cbd5e6bd",
        "colab": {
          "base_uri": "https://localhost:8080/",
          "height": 313
        }
      },
      "source": [
        "fig, ax = plt.subplots()\n",
        "\n",
        "#figures have properties outside of the individual plots \n",
        "#spacing between graphs?\n",
        "#colors ...\n",
        "fig.patch.set(facecolor='#152E66')\n",
        "\n",
        "#ax is where you input data, and set properties of the \"graphing region\"\n",
        "#x,y,ticks, scales,multiple y axes?, title...\n",
        "ax.plot(sample_data)\n",
        "ax.set(facecolor='#9C3D5F')\n",
        "ax.set_title('Graph Title')\n",
        "ax.set_ylabel('my y label')\n",
        "ax.set_xlabel('my x label')\n"
      ],
      "execution_count": 0,
      "outputs": [
        {
          "output_type": "execute_result",
          "data": {
            "text/plain": [
              "Text(0.5, 0, 'my x label')"
            ]
          },
          "metadata": {
            "tags": []
          },
          "execution_count": 18
        },
        {
          "output_type": "display_data",
          "data": {
            "image/png": "[encoded data removed]",
            "text/plain": [
              "<Figure size 432x288 with 1 Axes>"
            ]
          },
          "metadata": {
            "tags": []
          }
        }
      ]
    },
    {
      "cell_type": "markdown",
      "metadata": {
        "id": "OGf9QeCMGU5E",
        "colab_type": "text"
      },
      "source": [
        "### Making Explanitory Visualizations with Matplotlib\n",
        "\n",
        "\n",
        "We are going to replicate this [example by FiveThirtyEight:](https://fivethirtyeight.com/features/al-gores-new-movie-exposes-the-big-flaw-in-online-movie-ratings/)"
      ]
    },
    {
      "cell_type": "code",
      "metadata": {
        "id": "4YeIEeXDF-wf",
        "colab_type": "code",
        "outputId": "a12d10f4-2a12-4fc8-e057-9d0aaeaf9e19",
        "colab": {
          "base_uri": "https://localhost:8080/",
          "height": 438
        }
      },
      "source": [
        "from IPython.display import display,Image\n",
        "url = 'https://fivethirtyeight.com/wp-content/uploads/2017/09/mehtahickey-inconvenient-0830-1.png'\n",
        "example = Image(url=url, width=500)\n",
        "display(example)"
      ],
      "execution_count": 0,
      "outputs": [
        {
          "output_type": "display_data",
          "data": {
            "text/html": [
              "<img src=\"https://fivethirtyeight.com/wp-content/uploads/2017/09/mehtahickey-inconvenient-0830-1.png\" width=\"500\"/>"
            ],
            "text/plain": [
              "<IPython.core.display.Image object>"
            ]
          },
          "metadata": {
            "tags": []
          }
        }
      ]
    },
    {
      "cell_type": "markdown",
      "metadata": {
        "id": "HNbQmDAKHCgW",
        "colab_type": "text"
      },
      "source": [
        "Here is the original data: Using this data: https://github.com/fivethirtyeight/data/tree/master/inconvenient-sequel\n",
        "\n",
        "Some sources of interest: \n",
        "Links\n",
        "- [Strong Titles Are The Biggest Bang for Your Buck](http://stephanieevergreen.com/strong-titles/)\n",
        "- [Remove to improve (the data-ink ratio)](https://www.darkhorseanalytics.com/blog/data-looks-better-naked)\n",
        "- [How to Generate FiveThirtyEight Graphs in Python](https://www.dataquest.io/blog/making-538-plots/)"
      ]
    },
    {
      "cell_type": "markdown",
      "metadata": {
        "id": "HCVY4ILLJbW7",
        "colab_type": "text"
      },
      "source": [
        "### Making a Prototype\n",
        "\n",
        "To better understand the problem"
      ]
    },
    {
      "cell_type": "markdown",
      "metadata": {
        "id": "4EBTM-ONPRcM",
        "colab_type": "text"
      },
      "source": [
        "#### Basic Graph"
      ]
    },
    {
      "cell_type": "code",
      "metadata": {
        "id": "y5dp7a1RG-QV",
        "colab_type": "code",
        "outputId": "5c524c7c-c550-4a3c-9908-02c18eadfe32",
        "colab": {
          "base_uri": "https://localhost:8080/",
          "height": 303
        }
      },
      "source": [
        "%matplotlib inline\n",
        "import matplotlib.pyplot as plt\n",
        "import numpy as np\n",
        "import pandas as pd\n",
        "\n",
        "plt.style.use('fivethirtyeight')\n",
        "\n",
        "fake = pd.Series([38,3,2,1,2,4,6,5,5,33], index=range(1,11))\n",
        "\n",
        "fake.plot.bar(color='C1',width=0.9)"
      ],
      "execution_count": 0,
      "outputs": [
        {
          "output_type": "execute_result",
          "data": {
            "text/plain": [
              "<matplotlib.axes._subplots.AxesSubplot at 0x7f0e84a952e8>"
            ]
          },
          "metadata": {
            "tags": []
          },
          "execution_count": 26
        },
        {
          "output_type": "display_data",
          "data": {
            "image/png": "[encoded data removed]",
            "text/plain": [
              "<Figure size 432x288 with 1 Axes>"
            ]
          },
          "metadata": {
            "tags": []
          }
        }
      ]
    },
    {
      "cell_type": "code",
      "metadata": {
        "id": "nb16JazjJ-6u",
        "colab_type": "code",
        "outputId": "87fcb028-79e7-42db-8e6b-079b996d42e5",
        "colab": {
          "base_uri": "https://localhost:8080/",
          "height": 307
        }
      },
      "source": [
        "#here is another way to create the fake data. This way could probably be automated to some\n",
        "#extent, but its probably more useful when you want a set of random data. You can place that random\n",
        "#data in a dataframe\n",
        "fake2 = pd.Series([1, 1, 1, 1, 1, 1, 1, 1, 1, 1, 1, 1, 1, 1, 1, 1, 1, 1, 1, 1, 1, 1, 1, 1,\n",
        "     2, 2, 2, \n",
        "     3, 3, 3,\n",
        "     4, 4,\n",
        "     5, 5, 5,\n",
        "     6, 6, 6, 6,\n",
        "     7, 7, 7, 7, 7,\n",
        "     8, 8, 8, 8,\n",
        "     9, 9, 9, 9, \n",
        "     10, 10, 10, 10, 10, 10, 10, 10, 10, 10, 10, 10, 10, 10, 10, 10, 10, 10])\n",
        "\n",
        "fake2.value_counts().sort_index().plot.bar(color='C1',width=0.9)"
      ],
      "execution_count": 0,
      "outputs": [
        {
          "output_type": "execute_result",
          "data": {
            "text/plain": [
              "<matplotlib.axes._subplots.AxesSubplot at 0x7f0e87be7eb8>"
            ]
          },
          "metadata": {
            "tags": []
          },
          "execution_count": 27
        },
        {
          "output_type": "display_data",
          "data": {
            "image/png": "[encoded data removed]",
            "text/plain": [
              "<Figure size 432x288 with 1 Axes>"
            ]
          },
          "metadata": {
            "tags": []
          }
        }
      ]
    },
    {
      "cell_type": "markdown",
      "metadata": {
        "id": "gSlmETxoNzGL",
        "colab_type": "text"
      },
      "source": [
        "#### (Tangent) Experiment with \"Random\" Library \n",
        "\n",
        "seeing if I can find a better use-case for the second method of plotting test data for prototying a graph"
      ]
    },
    {
      "cell_type": "code",
      "metadata": {
        "id": "XuJWaNCTKQmW",
        "colab_type": "code",
        "outputId": "d38e50f0-700e-43e3-ecbc-b49fb614907b",
        "colab": {
          "base_uri": "https://localhost:8080/",
          "height": 54
        }
      },
      "source": [
        "import random as rd\n",
        "test3 =[]\n",
        "rand_length =10\n",
        "[test3.append(rd.randint(1,10)) for _ in range(rand_length)]\n",
        "\n",
        "print(type(test3))\n",
        "test3"
      ],
      "execution_count": 0,
      "outputs": [
        {
          "output_type": "stream",
          "text": [
            "<class 'list'>\n"
          ],
          "name": "stdout"
        },
        {
          "output_type": "execute_result",
          "data": {
            "text/plain": [
              "[5, 6, 9, 4, 9, 6, 10, 4, 5, 7]"
            ]
          },
          "metadata": {
            "tags": []
          },
          "execution_count": 65
        }
      ]
    },
    {
      "cell_type": "code",
      "metadata": {
        "id": "jsdu_y84OJeO",
        "colab_type": "code",
        "outputId": "bbe92881-9ae9-4a15-94e2-2118ff124fd7",
        "colab": {
          "base_uri": "https://localhost:8080/",
          "height": 381
        }
      },
      "source": [
        "#Now I need to turn the list into something closer to a df\n",
        "\n",
        "#Way 1 use pd.DataFrame\n",
        "test3df =pd.DataFrame(test3,columns=[\"my_value\"])\n",
        "print(type(test3df))\n",
        "test3df"
      ],
      "execution_count": 0,
      "outputs": [
        {
          "output_type": "stream",
          "text": [
            "<class 'pandas.core.frame.DataFrame'>\n"
          ],
          "name": "stdout"
        },
        {
          "output_type": "execute_result",
          "data": {
            "text/html": [
              "<div>\n",
              "<style scoped>\n",
              "    .dataframe tbody tr th:only-of-type {\n",
              "        vertical-align: middle;\n",
              "    }\n",
              "\n",
              "    .dataframe tbody tr th {\n",
              "        vertical-align: top;\n",
              "    }\n",
              "\n",
              "    .dataframe thead th {\n",
              "        text-align: right;\n",
              "    }\n",
              "</style>\n",
              "<table border=\"1\" class=\"dataframe\">\n",
              "  <thead>\n",
              "    <tr style=\"text-align: right;\">\n",
              "      <th></th>\n",
              "      <th>my_value</th>\n",
              "    </tr>\n",
              "  </thead>\n",
              "  <tbody>\n",
              "    <tr>\n",
              "      <th>0</th>\n",
              "      <td>5</td>\n",
              "    </tr>\n",
              "    <tr>\n",
              "      <th>1</th>\n",
              "      <td>6</td>\n",
              "    </tr>\n",
              "    <tr>\n",
              "      <th>2</th>\n",
              "      <td>9</td>\n",
              "    </tr>\n",
              "    <tr>\n",
              "      <th>3</th>\n",
              "      <td>4</td>\n",
              "    </tr>\n",
              "    <tr>\n",
              "      <th>4</th>\n",
              "      <td>9</td>\n",
              "    </tr>\n",
              "    <tr>\n",
              "      <th>5</th>\n",
              "      <td>6</td>\n",
              "    </tr>\n",
              "    <tr>\n",
              "      <th>6</th>\n",
              "      <td>10</td>\n",
              "    </tr>\n",
              "    <tr>\n",
              "      <th>7</th>\n",
              "      <td>4</td>\n",
              "    </tr>\n",
              "    <tr>\n",
              "      <th>8</th>\n",
              "      <td>5</td>\n",
              "    </tr>\n",
              "    <tr>\n",
              "      <th>9</th>\n",
              "      <td>7</td>\n",
              "    </tr>\n",
              "  </tbody>\n",
              "</table>\n",
              "</div>"
            ],
            "text/plain": [
              "   my_value\n",
              "0         5\n",
              "1         6\n",
              "2         9\n",
              "3         4\n",
              "4         9\n",
              "5         6\n",
              "6        10\n",
              "7         4\n",
              "8         5\n",
              "9         7"
            ]
          },
          "metadata": {
            "tags": []
          },
          "execution_count": 68
        }
      ]
    },
    {
      "cell_type": "code",
      "metadata": {
        "id": "hEikp4ehOb37",
        "colab_type": "code",
        "outputId": "b2e36099-1e82-4ead-cf31-2a79ac1be2ab",
        "colab": {
          "base_uri": "https://localhost:8080/",
          "height": 220
        }
      },
      "source": [
        "#The other way is to use a pandas series\n",
        "test3df_b= pd.Series(test3)\n",
        "test3df_b\n",
        "\n",
        "# This might be useful in cases where you don't really need the full dataframe, \n",
        "#you just need a column"
      ],
      "execution_count": 0,
      "outputs": [
        {
          "output_type": "execute_result",
          "data": {
            "text/plain": [
              "0     5\n",
              "1     6\n",
              "2     9\n",
              "3     4\n",
              "4     9\n",
              "5     6\n",
              "6    10\n",
              "7     4\n",
              "8     5\n",
              "9     7\n",
              "dtype: int64"
            ]
          },
          "metadata": {
            "tags": []
          },
          "execution_count": 70
        }
      ]
    },
    {
      "cell_type": "code",
      "metadata": {
        "id": "4SgO6MR3MkYy",
        "colab_type": "code",
        "outputId": "737df8f5-e093-4d20-e62a-d56f0556b4bd",
        "colab": {
          "base_uri": "https://localhost:8080/",
          "height": 165
        }
      },
      "source": [
        "#this returns a dataframe where the index is the value being counted\n",
        "#and the first (and only) column of values is the amount of times the \n",
        "#index occurs in the test3df.random column\n",
        "test3df.my_value.value_counts()"
      ],
      "execution_count": 0,
      "outputs": [
        {
          "output_type": "execute_result",
          "data": {
            "text/plain": [
              "8    3\n",
              "2    2\n",
              "9    1\n",
              "7    1\n",
              "6    1\n",
              "4    1\n",
              "1    1\n",
              "Name: my_value, dtype: int64"
            ]
          },
          "metadata": {
            "tags": []
          },
          "execution_count": 54
        }
      ]
    },
    {
      "cell_type": "code",
      "metadata": {
        "id": "m7pVy8LFMvVm",
        "colab_type": "code",
        "outputId": "9855e388-9118-4736-a5ba-6d975a668365",
        "colab": {
          "base_uri": "https://localhost:8080/",
          "height": 165
        }
      },
      "source": [
        "#I'm taking the data frame above which was sorted by \n",
        "#descending value count, and now I'm sorting, instead\n",
        "#by the index\n",
        "print(test3df.my_value.value_counts().sort_index())\n",
        "test3df_plottable = test3df.my_value.value_counts().sort_index()"
      ],
      "execution_count": 0,
      "outputs": [
        {
          "output_type": "stream",
          "text": [
            "1    1\n",
            "2    2\n",
            "4    1\n",
            "6    1\n",
            "7    1\n",
            "8    3\n",
            "9    1\n",
            "Name: my_value, dtype: int64\n"
          ],
          "name": "stdout"
        }
      ]
    },
    {
      "cell_type": "code",
      "metadata": {
        "id": "mzYFsPLUNRZa",
        "colab_type": "code",
        "outputId": "5d2428be-c09a-4f38-c770-f3de41698ed9",
        "colab": {
          "base_uri": "https://localhost:8080/",
          "height": 295
        }
      },
      "source": [
        "#^Now I can plot this data with matplotlib\n",
        "test3df_plottable.plot.bar(color ='C1')"
      ],
      "execution_count": 0,
      "outputs": [
        {
          "output_type": "execute_result",
          "data": {
            "text/plain": [
              "<matplotlib.axes._subplots.AxesSubplot at 0x7f0e826ff9b0>"
            ]
          },
          "metadata": {
            "tags": []
          },
          "execution_count": 62
        },
        {
          "output_type": "display_data",
          "data": {
            "image/png": "[encoded data removed]",
            "text/plain": [
              "<Figure size 432x288 with 1 Axes>"
            ]
          },
          "metadata": {
            "tags": []
          }
        }
      ]
    },
    {
      "cell_type": "markdown",
      "metadata": {
        "id": "eBUHnAbfPHD-",
        "colab_type": "text"
      },
      "source": [
        "#### Annotate with Text"
      ]
    },
    {
      "cell_type": "code",
      "metadata": {
        "id": "p94DZvWPPJho",
        "colab_type": "code",
        "outputId": "47721093-883e-4dc2-cb40-546ef7247669",
        "colab": {
          "base_uri": "https://localhost:8080/",
          "height": 220
        }
      },
      "source": [
        "#make sure our fake data is good\n",
        "fake"
      ],
      "execution_count": 0,
      "outputs": [
        {
          "output_type": "execute_result",
          "data": {
            "text/plain": [
              "1     38\n",
              "2      3\n",
              "3      2\n",
              "4      1\n",
              "5      2\n",
              "6      4\n",
              "7      6\n",
              "8      5\n",
              "9      5\n",
              "10    33\n",
              "dtype: int64"
            ]
          },
          "metadata": {
            "tags": []
          },
          "execution_count": 73
        }
      ]
    },
    {
      "cell_type": "code",
      "metadata": {
        "id": "Aeb2V8dDPkgA",
        "colab_type": "code",
        "outputId": "3821df6a-af92-4f07-980f-7f7bcd4fbe7b",
        "colab": {
          "base_uri": "https://localhost:8080/",
          "height": 352
        }
      },
      "source": [
        "#Here is where we get the details of the graph down:\n",
        "\n",
        "fig, ax = plt.subplots()\n",
        "\n",
        "#Set the background of the figure:\n",
        "fig.patch.set(facecolor ='white')\n",
        "\n",
        "#Get some data in there:\n",
        "#ax.bar(x=range(1,11),height=fake)\n",
        "\n",
        "#We can do it that way ^ but the results aren't quite correct\n",
        "#here is another way. (the way we did it in class)\n",
        "fake.plot.bar(width=.9,color=\"#ED713A\")\n",
        "\n",
        "#I want some information about the size of the graph\n",
        "print('figure size in pixels:',fig.get_size_inches()*fig.dpi)\n",
        "\n",
        "#Set Title and Subtitle:\n",
        "ax.set_title(\"'An Inconvenient Sequel:Truth To Power' is divisive\",\n",
        "             fontsize = 12,\n",
        "             x=.35,\n",
        "             y=1.1,\n",
        "             fontweight='bold')\n",
        "ax.text(s='IMDb ratings for the film as of Aug. 29',\n",
        "        fontsize=12,\n",
        "        x=-1.85,\n",
        "        y=42)\n",
        "\n",
        "#Set the plot background color:\n",
        "ax.set(facecolor='white')\n",
        "\n",
        "#Set x and y label:\n",
        "ax.set_xlabel('Rating',fontsize=9)\n",
        "ax.set_ylabel('Percent of Total Votes',fontsize=9)\n",
        "\n",
        "#Ideally this should change the tick font, but I still have to figure\n",
        "#it out\n",
        "ax.tick_params(axis='both',color='red')\n",
        "\n",
        "\n",
        "#Fix the x and y axis tick marks in and grid\n",
        "ax.set_xticklabels(range(1,11),rotation=0,fontname='Meiryo')\n",
        "ax.set_yticklabels(range(0,50,10),fontname='Meiryo')\n",
        "ax.set_yticks(range(0,50,10))\n",
        "\n",
        "\n",
        "#Get rid of the spines\n",
        "ax.spines['right'].set_visible(False)\n",
        "ax.spines['left'].set_visible(False)\n",
        "ax.spines['bottom'].set_visible(False)\n",
        "ax.spines['top'].set_visible(False)\n",
        "fig = plt.gcf()\n"
      ],
      "execution_count": 0,
      "outputs": [
        {
          "output_type": "stream",
          "text": [
            "figure size in pixels: [432. 288.]\n"
          ],
          "name": "stdout"
        },
        {
          "output_type": "display_data",
          "data": {
            "image/png": "[encoded data removed]",
            "text/plain": [
              "<Figure size 432x288 with 1 Axes>"
            ]
          },
          "metadata": {
            "tags": []
          }
        }
      ]
    },
    {
      "cell_type": "markdown",
      "metadata": {
        "id": "yZNp_F7yiuTL",
        "colab_type": "text"
      },
      "source": [
        "### Reproduce Visual with real data"
      ]
    },
    {
      "cell_type": "code",
      "metadata": {
        "id": "NN24KMvuiqgV",
        "colab_type": "code",
        "colab": {}
      },
      "source": [
        "df = pd.read_csv('https://raw.githubusercontent.com/fivethirtyeight/data/master/inconvenient-sequel/ratings.csv')"
      ],
      "execution_count": 0,
      "outputs": []
    },
    {
      "cell_type": "code",
      "metadata": {
        "id": "vaPhNSdui6DR",
        "colab_type": "code",
        "outputId": "1a934e91-0380-4260-b494-f4c2d622495d",
        "colab": {
          "base_uri": "https://localhost:8080/",
          "height": 400
        }
      },
      "source": [
        "df.head()"
      ],
      "execution_count": 0,
      "outputs": [
        {
          "output_type": "execute_result",
          "data": {
            "text/html": [
              "<div>\n",
              "<style scoped>\n",
              "    .dataframe tbody tr th:only-of-type {\n",
              "        vertical-align: middle;\n",
              "    }\n",
              "\n",
              "    .dataframe tbody tr th {\n",
              "        vertical-align: top;\n",
              "    }\n",
              "\n",
              "    .dataframe thead th {\n",
              "        text-align: right;\n",
              "    }\n",
              "</style>\n",
              "<table border=\"1\" class=\"dataframe\">\n",
              "  <thead>\n",
              "    <tr style=\"text-align: right;\">\n",
              "      <th></th>\n",
              "      <th>timestamp</th>\n",
              "      <th>respondents</th>\n",
              "      <th>category</th>\n",
              "      <th>link</th>\n",
              "      <th>average</th>\n",
              "      <th>mean</th>\n",
              "      <th>median</th>\n",
              "      <th>1_votes</th>\n",
              "      <th>2_votes</th>\n",
              "      <th>3_votes</th>\n",
              "      <th>4_votes</th>\n",
              "      <th>5_votes</th>\n",
              "      <th>6_votes</th>\n",
              "      <th>7_votes</th>\n",
              "      <th>8_votes</th>\n",
              "      <th>9_votes</th>\n",
              "      <th>10_votes</th>\n",
              "      <th>1_pct</th>\n",
              "      <th>2_pct</th>\n",
              "      <th>3_pct</th>\n",
              "      <th>4_pct</th>\n",
              "      <th>5_pct</th>\n",
              "      <th>6_pct</th>\n",
              "      <th>7_pct</th>\n",
              "      <th>8_pct</th>\n",
              "      <th>9_pct</th>\n",
              "      <th>10_pct</th>\n",
              "    </tr>\n",
              "  </thead>\n",
              "  <tbody>\n",
              "    <tr>\n",
              "      <th>0</th>\n",
              "      <td>2017-07-17 12:28:32.785639</td>\n",
              "      <td>402</td>\n",
              "      <td>Males</td>\n",
              "      <td>http://www.imdb.com/title/tt6322922/ratings-male</td>\n",
              "      <td>4.6</td>\n",
              "      <td>5.0</td>\n",
              "      <td>2</td>\n",
              "      <td>197</td>\n",
              "      <td>7</td>\n",
              "      <td>7</td>\n",
              "      <td>3</td>\n",
              "      <td>7</td>\n",
              "      <td>7</td>\n",
              "      <td>11</td>\n",
              "      <td>8</td>\n",
              "      <td>20</td>\n",
              "      <td>135</td>\n",
              "      <td>49.0</td>\n",
              "      <td>1.7</td>\n",
              "      <td>1.7</td>\n",
              "      <td>0.7</td>\n",
              "      <td>1.7</td>\n",
              "      <td>1.7</td>\n",
              "      <td>2.7</td>\n",
              "      <td>2.0</td>\n",
              "      <td>5.0</td>\n",
              "      <td>33.6</td>\n",
              "    </tr>\n",
              "    <tr>\n",
              "      <th>1</th>\n",
              "      <td>2017-07-17 12:28:33.025600</td>\n",
              "      <td>78</td>\n",
              "      <td>Females</td>\n",
              "      <td>http://www.imdb.com/title/tt6322922/ratings-fe...</td>\n",
              "      <td>6.9</td>\n",
              "      <td>7.7</td>\n",
              "      <td>10</td>\n",
              "      <td>16</td>\n",
              "      <td>1</td>\n",
              "      <td>0</td>\n",
              "      <td>1</td>\n",
              "      <td>1</td>\n",
              "      <td>0</td>\n",
              "      <td>3</td>\n",
              "      <td>4</td>\n",
              "      <td>3</td>\n",
              "      <td>49</td>\n",
              "      <td>20.5</td>\n",
              "      <td>1.3</td>\n",
              "      <td>0.0</td>\n",
              "      <td>1.3</td>\n",
              "      <td>1.3</td>\n",
              "      <td>0.0</td>\n",
              "      <td>3.8</td>\n",
              "      <td>5.1</td>\n",
              "      <td>3.8</td>\n",
              "      <td>62.8</td>\n",
              "    </tr>\n",
              "    <tr>\n",
              "      <th>2</th>\n",
              "      <td>2017-07-17 12:28:33.273919</td>\n",
              "      <td>4</td>\n",
              "      <td>Aged under 18</td>\n",
              "      <td>http://www.imdb.com/title/tt6322922/ratings-age_1</td>\n",
              "      <td>4.2</td>\n",
              "      <td>4.2</td>\n",
              "      <td>3</td>\n",
              "      <td>2</td>\n",
              "      <td>0</td>\n",
              "      <td>0</td>\n",
              "      <td>0</td>\n",
              "      <td>1</td>\n",
              "      <td>0</td>\n",
              "      <td>0</td>\n",
              "      <td>0</td>\n",
              "      <td>0</td>\n",
              "      <td>1</td>\n",
              "      <td>50.0</td>\n",
              "      <td>0.0</td>\n",
              "      <td>0.0</td>\n",
              "      <td>0.0</td>\n",
              "      <td>25.0</td>\n",
              "      <td>0.0</td>\n",
              "      <td>0.0</td>\n",
              "      <td>0.0</td>\n",
              "      <td>0.0</td>\n",
              "      <td>25.0</td>\n",
              "    </tr>\n",
              "    <tr>\n",
              "      <th>3</th>\n",
              "      <td>2017-07-17 12:28:33.495325</td>\n",
              "      <td>4</td>\n",
              "      <td>Males under 18</td>\n",
              "      <td>http://www.imdb.com/title/tt6322922/ratings-ma...</td>\n",
              "      <td>4.2</td>\n",
              "      <td>4.2</td>\n",
              "      <td>3</td>\n",
              "      <td>2</td>\n",
              "      <td>0</td>\n",
              "      <td>0</td>\n",
              "      <td>0</td>\n",
              "      <td>1</td>\n",
              "      <td>0</td>\n",
              "      <td>0</td>\n",
              "      <td>0</td>\n",
              "      <td>0</td>\n",
              "      <td>1</td>\n",
              "      <td>50.0</td>\n",
              "      <td>0.0</td>\n",
              "      <td>0.0</td>\n",
              "      <td>0.0</td>\n",
              "      <td>25.0</td>\n",
              "      <td>0.0</td>\n",
              "      <td>0.0</td>\n",
              "      <td>0.0</td>\n",
              "      <td>0.0</td>\n",
              "      <td>25.0</td>\n",
              "    </tr>\n",
              "    <tr>\n",
              "      <th>4</th>\n",
              "      <td>2017-07-17 12:28:33.722849</td>\n",
              "      <td>130</td>\n",
              "      <td>Aged 18-29</td>\n",
              "      <td>http://www.imdb.com/title/tt6322922/ratings-age_2</td>\n",
              "      <td>6.3</td>\n",
              "      <td>6.5</td>\n",
              "      <td>9</td>\n",
              "      <td>41</td>\n",
              "      <td>0</td>\n",
              "      <td>3</td>\n",
              "      <td>1</td>\n",
              "      <td>2</td>\n",
              "      <td>3</td>\n",
              "      <td>6</td>\n",
              "      <td>4</td>\n",
              "      <td>6</td>\n",
              "      <td>64</td>\n",
              "      <td>31.5</td>\n",
              "      <td>0.0</td>\n",
              "      <td>2.3</td>\n",
              "      <td>0.8</td>\n",
              "      <td>1.5</td>\n",
              "      <td>2.3</td>\n",
              "      <td>4.6</td>\n",
              "      <td>3.1</td>\n",
              "      <td>4.6</td>\n",
              "      <td>49.2</td>\n",
              "    </tr>\n",
              "  </tbody>\n",
              "</table>\n",
              "</div>"
            ],
            "text/plain": [
              "                    timestamp  respondents  ... 9_pct 10_pct\n",
              "0  2017-07-17 12:28:32.785639          402  ...   5.0   33.6\n",
              "1  2017-07-17 12:28:33.025600           78  ...   3.8   62.8\n",
              "2  2017-07-17 12:28:33.273919            4  ...   0.0   25.0\n",
              "3  2017-07-17 12:28:33.495325            4  ...   0.0   25.0\n",
              "4  2017-07-17 12:28:33.722849          130  ...   4.6   49.2\n",
              "\n",
              "[5 rows x 27 columns]"
            ]
          },
          "metadata": {
            "tags": []
          },
          "execution_count": 129
        }
      ]
    },
    {
      "cell_type": "code",
      "metadata": {
        "id": "IYzKP0r7jEkR",
        "colab_type": "code",
        "outputId": "14baff32-a3ee-4dc4-e17b-9a3669e57a59",
        "colab": {
          "base_uri": "https://localhost:8080/",
          "height": 400
        }
      },
      "source": [
        "df.tail()"
      ],
      "execution_count": 0,
      "outputs": [
        {
          "output_type": "execute_result",
          "data": {
            "text/html": [
              "<div>\n",
              "<style scoped>\n",
              "    .dataframe tbody tr th:only-of-type {\n",
              "        vertical-align: middle;\n",
              "    }\n",
              "\n",
              "    .dataframe tbody tr th {\n",
              "        vertical-align: top;\n",
              "    }\n",
              "\n",
              "    .dataframe thead th {\n",
              "        text-align: right;\n",
              "    }\n",
              "</style>\n",
              "<table border=\"1\" class=\"dataframe\">\n",
              "  <thead>\n",
              "    <tr style=\"text-align: right;\">\n",
              "      <th></th>\n",
              "      <th>timestamp</th>\n",
              "      <th>respondents</th>\n",
              "      <th>category</th>\n",
              "      <th>link</th>\n",
              "      <th>average</th>\n",
              "      <th>mean</th>\n",
              "      <th>median</th>\n",
              "      <th>1_votes</th>\n",
              "      <th>2_votes</th>\n",
              "      <th>3_votes</th>\n",
              "      <th>4_votes</th>\n",
              "      <th>5_votes</th>\n",
              "      <th>6_votes</th>\n",
              "      <th>7_votes</th>\n",
              "      <th>8_votes</th>\n",
              "      <th>9_votes</th>\n",
              "      <th>10_votes</th>\n",
              "      <th>1_pct</th>\n",
              "      <th>2_pct</th>\n",
              "      <th>3_pct</th>\n",
              "      <th>4_pct</th>\n",
              "      <th>5_pct</th>\n",
              "      <th>6_pct</th>\n",
              "      <th>7_pct</th>\n",
              "      <th>8_pct</th>\n",
              "      <th>9_pct</th>\n",
              "      <th>10_pct</th>\n",
              "    </tr>\n",
              "  </thead>\n",
              "  <tbody>\n",
              "    <tr>\n",
              "      <th>80048</th>\n",
              "      <td>2017-08-29 23:10:05.369510</td>\n",
              "      <td>8</td>\n",
              "      <td>IMDb staff</td>\n",
              "      <td>http://www.imdb.com/title/tt6322922/ratings-im...</td>\n",
              "      <td>8.4</td>\n",
              "      <td>7.2</td>\n",
              "      <td>8</td>\n",
              "      <td>1</td>\n",
              "      <td>0</td>\n",
              "      <td>0</td>\n",
              "      <td>0</td>\n",
              "      <td>0</td>\n",
              "      <td>1</td>\n",
              "      <td>1</td>\n",
              "      <td>2</td>\n",
              "      <td>2</td>\n",
              "      <td>1</td>\n",
              "      <td>12.5</td>\n",
              "      <td>0.0</td>\n",
              "      <td>0.0</td>\n",
              "      <td>0.0</td>\n",
              "      <td>0.0</td>\n",
              "      <td>12.5</td>\n",
              "      <td>12.5</td>\n",
              "      <td>25.0</td>\n",
              "      <td>25.0</td>\n",
              "      <td>12.5</td>\n",
              "    </tr>\n",
              "    <tr>\n",
              "      <th>80049</th>\n",
              "      <td>2017-08-29 23:10:05.598331</td>\n",
              "      <td>41</td>\n",
              "      <td>Top 1000 voters</td>\n",
              "      <td>http://www.imdb.com/title/tt6322922/ratings-to...</td>\n",
              "      <td>4.6</td>\n",
              "      <td>4.7</td>\n",
              "      <td>5</td>\n",
              "      <td>11</td>\n",
              "      <td>4</td>\n",
              "      <td>2</td>\n",
              "      <td>2</td>\n",
              "      <td>5</td>\n",
              "      <td>4</td>\n",
              "      <td>5</td>\n",
              "      <td>1</td>\n",
              "      <td>1</td>\n",
              "      <td>6</td>\n",
              "      <td>26.8</td>\n",
              "      <td>9.8</td>\n",
              "      <td>4.9</td>\n",
              "      <td>4.9</td>\n",
              "      <td>12.2</td>\n",
              "      <td>9.8</td>\n",
              "      <td>12.2</td>\n",
              "      <td>2.4</td>\n",
              "      <td>2.4</td>\n",
              "      <td>14.6</td>\n",
              "    </tr>\n",
              "    <tr>\n",
              "      <th>80050</th>\n",
              "      <td>2017-08-29 23:10:05.794141</td>\n",
              "      <td>925</td>\n",
              "      <td>US users</td>\n",
              "      <td>http://www.imdb.com/title/tt6322922/ratings-usa</td>\n",
              "      <td>4.8</td>\n",
              "      <td>5.0</td>\n",
              "      <td>4</td>\n",
              "      <td>405</td>\n",
              "      <td>34</td>\n",
              "      <td>20</td>\n",
              "      <td>8</td>\n",
              "      <td>9</td>\n",
              "      <td>30</td>\n",
              "      <td>54</td>\n",
              "      <td>46</td>\n",
              "      <td>60</td>\n",
              "      <td>259</td>\n",
              "      <td>43.8</td>\n",
              "      <td>3.7</td>\n",
              "      <td>2.2</td>\n",
              "      <td>0.9</td>\n",
              "      <td>1.0</td>\n",
              "      <td>3.2</td>\n",
              "      <td>5.8</td>\n",
              "      <td>5.0</td>\n",
              "      <td>6.5</td>\n",
              "      <td>28.0</td>\n",
              "    </tr>\n",
              "    <tr>\n",
              "      <th>80051</th>\n",
              "      <td>2017-08-29 23:10:06.022268</td>\n",
              "      <td>565</td>\n",
              "      <td>Non-US users</td>\n",
              "      <td>http://www.imdb.com/title/tt6322922/ratings-in...</td>\n",
              "      <td>6.4</td>\n",
              "      <td>6.5</td>\n",
              "      <td>7</td>\n",
              "      <td>129</td>\n",
              "      <td>11</td>\n",
              "      <td>10</td>\n",
              "      <td>8</td>\n",
              "      <td>32</td>\n",
              "      <td>47</td>\n",
              "      <td>52</td>\n",
              "      <td>37</td>\n",
              "      <td>35</td>\n",
              "      <td>204</td>\n",
              "      <td>22.8</td>\n",
              "      <td>1.9</td>\n",
              "      <td>1.8</td>\n",
              "      <td>1.4</td>\n",
              "      <td>5.7</td>\n",
              "      <td>8.3</td>\n",
              "      <td>9.2</td>\n",
              "      <td>6.5</td>\n",
              "      <td>6.2</td>\n",
              "      <td>36.1</td>\n",
              "    </tr>\n",
              "    <tr>\n",
              "      <th>80052</th>\n",
              "      <td>2017-08-29 23:10:06.218251</td>\n",
              "      <td>2662</td>\n",
              "      <td>IMDb users</td>\n",
              "      <td>http://www.imdb.com/title/tt6322922/ratings</td>\n",
              "      <td>5.4</td>\n",
              "      <td>5.6</td>\n",
              "      <td>7</td>\n",
              "      <td>1021</td>\n",
              "      <td>69</td>\n",
              "      <td>38</td>\n",
              "      <td>25</td>\n",
              "      <td>55</td>\n",
              "      <td>110</td>\n",
              "      <td>154</td>\n",
              "      <td>147</td>\n",
              "      <td>146</td>\n",
              "      <td>897</td>\n",
              "      <td>38.4</td>\n",
              "      <td>2.6</td>\n",
              "      <td>1.4</td>\n",
              "      <td>0.9</td>\n",
              "      <td>2.1</td>\n",
              "      <td>4.1</td>\n",
              "      <td>5.8</td>\n",
              "      <td>5.5</td>\n",
              "      <td>5.5</td>\n",
              "      <td>33.7</td>\n",
              "    </tr>\n",
              "  </tbody>\n",
              "</table>\n",
              "</div>"
            ],
            "text/plain": [
              "                        timestamp  respondents  ... 9_pct 10_pct\n",
              "80048  2017-08-29 23:10:05.369510            8  ...  25.0   12.5\n",
              "80049  2017-08-29 23:10:05.598331           41  ...   2.4   14.6\n",
              "80050  2017-08-29 23:10:05.794141          925  ...   6.5   28.0\n",
              "80051  2017-08-29 23:10:06.022268          565  ...   6.2   36.1\n",
              "80052  2017-08-29 23:10:06.218251         2662  ...   5.5   33.7\n",
              "\n",
              "[5 rows x 27 columns]"
            ]
          },
          "metadata": {
            "tags": []
          },
          "execution_count": 130
        }
      ]
    },
    {
      "cell_type": "code",
      "metadata": {
        "id": "EwtGOd0ti7j0",
        "colab_type": "code",
        "outputId": "dcb53655-db9c-4807-e481-293c0133d08f",
        "colab": {
          "base_uri": "https://localhost:8080/",
          "height": 352
        }
      },
      "source": [
        "#In class we figured out that really we only care about the last row of this data\n",
        "#the last row contains all the aggregate information about the dataset\n",
        "\n",
        "#Lets convert the timestamps to datetime objects\n",
        "df.timestamp=pd.to_datetime(df.timestamp)\n",
        "print(type(df.timestamp[2]))\n",
        "df.head(4)"
      ],
      "execution_count": 0,
      "outputs": [
        {
          "output_type": "stream",
          "text": [
            "<class 'pandas._libs.tslibs.timestamps.Timestamp'>\n"
          ],
          "name": "stdout"
        },
        {
          "output_type": "execute_result",
          "data": {
            "text/html": [
              "<div>\n",
              "<style scoped>\n",
              "    .dataframe tbody tr th:only-of-type {\n",
              "        vertical-align: middle;\n",
              "    }\n",
              "\n",
              "    .dataframe tbody tr th {\n",
              "        vertical-align: top;\n",
              "    }\n",
              "\n",
              "    .dataframe thead th {\n",
              "        text-align: right;\n",
              "    }\n",
              "</style>\n",
              "<table border=\"1\" class=\"dataframe\">\n",
              "  <thead>\n",
              "    <tr style=\"text-align: right;\">\n",
              "      <th></th>\n",
              "      <th>timestamp</th>\n",
              "      <th>respondents</th>\n",
              "      <th>category</th>\n",
              "      <th>link</th>\n",
              "      <th>average</th>\n",
              "      <th>mean</th>\n",
              "      <th>median</th>\n",
              "      <th>1_votes</th>\n",
              "      <th>2_votes</th>\n",
              "      <th>3_votes</th>\n",
              "      <th>4_votes</th>\n",
              "      <th>5_votes</th>\n",
              "      <th>6_votes</th>\n",
              "      <th>7_votes</th>\n",
              "      <th>8_votes</th>\n",
              "      <th>9_votes</th>\n",
              "      <th>10_votes</th>\n",
              "      <th>1_pct</th>\n",
              "      <th>2_pct</th>\n",
              "      <th>3_pct</th>\n",
              "      <th>4_pct</th>\n",
              "      <th>5_pct</th>\n",
              "      <th>6_pct</th>\n",
              "      <th>7_pct</th>\n",
              "      <th>8_pct</th>\n",
              "      <th>9_pct</th>\n",
              "      <th>10_pct</th>\n",
              "    </tr>\n",
              "  </thead>\n",
              "  <tbody>\n",
              "    <tr>\n",
              "      <th>0</th>\n",
              "      <td>2017-07-17 12:28:32.785639</td>\n",
              "      <td>402</td>\n",
              "      <td>Males</td>\n",
              "      <td>http://www.imdb.com/title/tt6322922/ratings-male</td>\n",
              "      <td>4.6</td>\n",
              "      <td>5.0</td>\n",
              "      <td>2</td>\n",
              "      <td>197</td>\n",
              "      <td>7</td>\n",
              "      <td>7</td>\n",
              "      <td>3</td>\n",
              "      <td>7</td>\n",
              "      <td>7</td>\n",
              "      <td>11</td>\n",
              "      <td>8</td>\n",
              "      <td>20</td>\n",
              "      <td>135</td>\n",
              "      <td>49.0</td>\n",
              "      <td>1.7</td>\n",
              "      <td>1.7</td>\n",
              "      <td>0.7</td>\n",
              "      <td>1.7</td>\n",
              "      <td>1.7</td>\n",
              "      <td>2.7</td>\n",
              "      <td>2.0</td>\n",
              "      <td>5.0</td>\n",
              "      <td>33.6</td>\n",
              "    </tr>\n",
              "    <tr>\n",
              "      <th>1</th>\n",
              "      <td>2017-07-17 12:28:33.025600</td>\n",
              "      <td>78</td>\n",
              "      <td>Females</td>\n",
              "      <td>http://www.imdb.com/title/tt6322922/ratings-fe...</td>\n",
              "      <td>6.9</td>\n",
              "      <td>7.7</td>\n",
              "      <td>10</td>\n",
              "      <td>16</td>\n",
              "      <td>1</td>\n",
              "      <td>0</td>\n",
              "      <td>1</td>\n",
              "      <td>1</td>\n",
              "      <td>0</td>\n",
              "      <td>3</td>\n",
              "      <td>4</td>\n",
              "      <td>3</td>\n",
              "      <td>49</td>\n",
              "      <td>20.5</td>\n",
              "      <td>1.3</td>\n",
              "      <td>0.0</td>\n",
              "      <td>1.3</td>\n",
              "      <td>1.3</td>\n",
              "      <td>0.0</td>\n",
              "      <td>3.8</td>\n",
              "      <td>5.1</td>\n",
              "      <td>3.8</td>\n",
              "      <td>62.8</td>\n",
              "    </tr>\n",
              "    <tr>\n",
              "      <th>2</th>\n",
              "      <td>2017-07-17 12:28:33.273919</td>\n",
              "      <td>4</td>\n",
              "      <td>Aged under 18</td>\n",
              "      <td>http://www.imdb.com/title/tt6322922/ratings-age_1</td>\n",
              "      <td>4.2</td>\n",
              "      <td>4.2</td>\n",
              "      <td>3</td>\n",
              "      <td>2</td>\n",
              "      <td>0</td>\n",
              "      <td>0</td>\n",
              "      <td>0</td>\n",
              "      <td>1</td>\n",
              "      <td>0</td>\n",
              "      <td>0</td>\n",
              "      <td>0</td>\n",
              "      <td>0</td>\n",
              "      <td>1</td>\n",
              "      <td>50.0</td>\n",
              "      <td>0.0</td>\n",
              "      <td>0.0</td>\n",
              "      <td>0.0</td>\n",
              "      <td>25.0</td>\n",
              "      <td>0.0</td>\n",
              "      <td>0.0</td>\n",
              "      <td>0.0</td>\n",
              "      <td>0.0</td>\n",
              "      <td>25.0</td>\n",
              "    </tr>\n",
              "    <tr>\n",
              "      <th>3</th>\n",
              "      <td>2017-07-17 12:28:33.495325</td>\n",
              "      <td>4</td>\n",
              "      <td>Males under 18</td>\n",
              "      <td>http://www.imdb.com/title/tt6322922/ratings-ma...</td>\n",
              "      <td>4.2</td>\n",
              "      <td>4.2</td>\n",
              "      <td>3</td>\n",
              "      <td>2</td>\n",
              "      <td>0</td>\n",
              "      <td>0</td>\n",
              "      <td>0</td>\n",
              "      <td>1</td>\n",
              "      <td>0</td>\n",
              "      <td>0</td>\n",
              "      <td>0</td>\n",
              "      <td>0</td>\n",
              "      <td>1</td>\n",
              "      <td>50.0</td>\n",
              "      <td>0.0</td>\n",
              "      <td>0.0</td>\n",
              "      <td>0.0</td>\n",
              "      <td>25.0</td>\n",
              "      <td>0.0</td>\n",
              "      <td>0.0</td>\n",
              "      <td>0.0</td>\n",
              "      <td>0.0</td>\n",
              "      <td>25.0</td>\n",
              "    </tr>\n",
              "  </tbody>\n",
              "</table>\n",
              "</div>"
            ],
            "text/plain": [
              "                   timestamp  respondents        category  ... 8_pct  9_pct  10_pct\n",
              "0 2017-07-17 12:28:32.785639          402           Males  ...   2.0    5.0    33.6\n",
              "1 2017-07-17 12:28:33.025600           78         Females  ...   5.1    3.8    62.8\n",
              "2 2017-07-17 12:28:33.273919            4   Aged under 18  ...   0.0    0.0    25.0\n",
              "3 2017-07-17 12:28:33.495325            4  Males under 18  ...   0.0    0.0    25.0\n",
              "\n",
              "[4 rows x 27 columns]"
            ]
          },
          "metadata": {
            "tags": []
          },
          "execution_count": 139
        }
      ]
    },
    {
      "cell_type": "code",
      "metadata": {
        "id": "9eXKq7d_jaVI",
        "colab_type": "code",
        "colab": {}
      },
      "source": [
        "#use timestamp as the index instead of numbers, so we can select\n",
        "#rows by timestamp:\n",
        "df.set_index('timestamp',inplace=True)"
      ],
      "execution_count": 0,
      "outputs": []
    },
    {
      "cell_type": "code",
      "metadata": {
        "id": "ld7GtF9Olpav",
        "colab_type": "code",
        "colab": {}
      },
      "source": [
        "#Now we only really want the last row:\n",
        "#First get the data from the last day\n",
        "lastday = df['2017-08-29']\n"
      ],
      "execution_count": 0,
      "outputs": []
    },
    {
      "cell_type": "code",
      "metadata": {
        "id": "0x6G8CgsmHYY",
        "colab_type": "code",
        "outputId": "2378a100-8181-43b1-a4fd-36f4bc2a1be9",
        "colab": {
          "base_uri": "https://localhost:8080/",
          "height": 35
        }
      },
      "source": [
        "#Then get the \"all IMDB\" users from this day:\n",
        "lastday_filtered=lastday[lastday['category']=='IMDb users']\n",
        "lastday_filtered.shape"
      ],
      "execution_count": 0,
      "outputs": [
        {
          "output_type": "execute_result",
          "data": {
            "text/plain": [
              "(140, 26)"
            ]
          },
          "metadata": {
            "tags": []
          },
          "execution_count": 153
        }
      ]
    },
    {
      "cell_type": "code",
      "metadata": {
        "id": "kcTjV39nmrY_",
        "colab_type": "code",
        "outputId": "4ccdcad9-a607-463f-a672-f225ab6e61aa",
        "colab": {
          "base_uri": "https://localhost:8080/",
          "height": 865
        }
      },
      "source": [
        "#this is still big dataframe. The information is updated often, \n",
        "#we want the last entry (by time) from this day:\n",
        "#luckly it is sorted by time so we can:\n",
        "final = lastday_filtered.tail(1)\n",
        "final.T"
      ],
      "execution_count": 0,
      "outputs": [
        {
          "output_type": "execute_result",
          "data": {
            "text/html": [
              "<div>\n",
              "<style scoped>\n",
              "    .dataframe tbody tr th:only-of-type {\n",
              "        vertical-align: middle;\n",
              "    }\n",
              "\n",
              "    .dataframe tbody tr th {\n",
              "        vertical-align: top;\n",
              "    }\n",
              "\n",
              "    .dataframe thead th {\n",
              "        text-align: right;\n",
              "    }\n",
              "</style>\n",
              "<table border=\"1\" class=\"dataframe\">\n",
              "  <thead>\n",
              "    <tr style=\"text-align: right;\">\n",
              "      <th>timestamp</th>\n",
              "      <th>2017-08-29 23:10:06.218251</th>\n",
              "    </tr>\n",
              "  </thead>\n",
              "  <tbody>\n",
              "    <tr>\n",
              "      <th>respondents</th>\n",
              "      <td>2662</td>\n",
              "    </tr>\n",
              "    <tr>\n",
              "      <th>category</th>\n",
              "      <td>IMDb users</td>\n",
              "    </tr>\n",
              "    <tr>\n",
              "      <th>link</th>\n",
              "      <td>http://www.imdb.com/title/tt6322922/ratings</td>\n",
              "    </tr>\n",
              "    <tr>\n",
              "      <th>average</th>\n",
              "      <td>5.4</td>\n",
              "    </tr>\n",
              "    <tr>\n",
              "      <th>mean</th>\n",
              "      <td>5.6</td>\n",
              "    </tr>\n",
              "    <tr>\n",
              "      <th>median</th>\n",
              "      <td>7</td>\n",
              "    </tr>\n",
              "    <tr>\n",
              "      <th>1_votes</th>\n",
              "      <td>1021</td>\n",
              "    </tr>\n",
              "    <tr>\n",
              "      <th>2_votes</th>\n",
              "      <td>69</td>\n",
              "    </tr>\n",
              "    <tr>\n",
              "      <th>3_votes</th>\n",
              "      <td>38</td>\n",
              "    </tr>\n",
              "    <tr>\n",
              "      <th>4_votes</th>\n",
              "      <td>25</td>\n",
              "    </tr>\n",
              "    <tr>\n",
              "      <th>5_votes</th>\n",
              "      <td>55</td>\n",
              "    </tr>\n",
              "    <tr>\n",
              "      <th>6_votes</th>\n",
              "      <td>110</td>\n",
              "    </tr>\n",
              "    <tr>\n",
              "      <th>7_votes</th>\n",
              "      <td>154</td>\n",
              "    </tr>\n",
              "    <tr>\n",
              "      <th>8_votes</th>\n",
              "      <td>147</td>\n",
              "    </tr>\n",
              "    <tr>\n",
              "      <th>9_votes</th>\n",
              "      <td>146</td>\n",
              "    </tr>\n",
              "    <tr>\n",
              "      <th>10_votes</th>\n",
              "      <td>897</td>\n",
              "    </tr>\n",
              "    <tr>\n",
              "      <th>1_pct</th>\n",
              "      <td>38.4</td>\n",
              "    </tr>\n",
              "    <tr>\n",
              "      <th>2_pct</th>\n",
              "      <td>2.6</td>\n",
              "    </tr>\n",
              "    <tr>\n",
              "      <th>3_pct</th>\n",
              "      <td>1.4</td>\n",
              "    </tr>\n",
              "    <tr>\n",
              "      <th>4_pct</th>\n",
              "      <td>0.9</td>\n",
              "    </tr>\n",
              "    <tr>\n",
              "      <th>5_pct</th>\n",
              "      <td>2.1</td>\n",
              "    </tr>\n",
              "    <tr>\n",
              "      <th>6_pct</th>\n",
              "      <td>4.1</td>\n",
              "    </tr>\n",
              "    <tr>\n",
              "      <th>7_pct</th>\n",
              "      <td>5.8</td>\n",
              "    </tr>\n",
              "    <tr>\n",
              "      <th>8_pct</th>\n",
              "      <td>5.5</td>\n",
              "    </tr>\n",
              "    <tr>\n",
              "      <th>9_pct</th>\n",
              "      <td>5.5</td>\n",
              "    </tr>\n",
              "    <tr>\n",
              "      <th>10_pct</th>\n",
              "      <td>33.7</td>\n",
              "    </tr>\n",
              "  </tbody>\n",
              "</table>\n",
              "</div>"
            ],
            "text/plain": [
              "timestamp                     2017-08-29 23:10:06.218251\n",
              "respondents                                         2662\n",
              "category                                      IMDb users\n",
              "link         http://www.imdb.com/title/tt6322922/ratings\n",
              "average                                              5.4\n",
              "mean                                                 5.6\n",
              "median                                                 7\n",
              "1_votes                                             1021\n",
              "2_votes                                               69\n",
              "3_votes                                               38\n",
              "4_votes                                               25\n",
              "5_votes                                               55\n",
              "6_votes                                              110\n",
              "7_votes                                              154\n",
              "8_votes                                              147\n",
              "9_votes                                              146\n",
              "10_votes                                             897\n",
              "1_pct                                               38.4\n",
              "2_pct                                                2.6\n",
              "3_pct                                                1.4\n",
              "4_pct                                                0.9\n",
              "5_pct                                                2.1\n",
              "6_pct                                                4.1\n",
              "7_pct                                                5.8\n",
              "8_pct                                                5.5\n",
              "9_pct                                                5.5\n",
              "10_pct                                              33.7"
            ]
          },
          "metadata": {
            "tags": []
          },
          "execution_count": 162
        }
      ]
    },
    {
      "cell_type": "code",
      "metadata": {
        "id": "TvJaQO5WnB8q",
        "colab_type": "code",
        "outputId": "3ed273b4-c86d-4097-e815-6056cfc7e07d",
        "colab": {
          "base_uri": "https://localhost:8080/",
          "height": 363
        }
      },
      "source": [
        "#now we want just the percent values from this table:\n",
        "#lets transpose it so that we get the rows in a column\n",
        "\n",
        "#I initially thought about melting it so that I could isolate values\n",
        "#but that would produce too many duplicate values. Resetting index, \n",
        "#and transposing should be sufficient\n",
        "# final_b = final.reset_index()\n",
        "# pd.melt(final_b,id_vars=['timestamp','respondents','category'])\n",
        "\n",
        "#Here is what Ryan actually did in class:\n",
        "pct_columns = ['1_pct', '2_pct', '3_pct', '4_pct', '5_pct',\n",
        "               '6_pct', '7_pct', '8_pct', '9_pct', '10_pct']\n",
        "\n",
        "final[pct_columns].T\n"
      ],
      "execution_count": 0,
      "outputs": [
        {
          "output_type": "execute_result",
          "data": {
            "text/html": [
              "<div>\n",
              "<style scoped>\n",
              "    .dataframe tbody tr th:only-of-type {\n",
              "        vertical-align: middle;\n",
              "    }\n",
              "\n",
              "    .dataframe tbody tr th {\n",
              "        vertical-align: top;\n",
              "    }\n",
              "\n",
              "    .dataframe thead th {\n",
              "        text-align: right;\n",
              "    }\n",
              "</style>\n",
              "<table border=\"1\" class=\"dataframe\">\n",
              "  <thead>\n",
              "    <tr style=\"text-align: right;\">\n",
              "      <th>timestamp</th>\n",
              "      <th>2017-08-29 23:10:06.218251</th>\n",
              "    </tr>\n",
              "  </thead>\n",
              "  <tbody>\n",
              "    <tr>\n",
              "      <th>1_pct</th>\n",
              "      <td>38.4</td>\n",
              "    </tr>\n",
              "    <tr>\n",
              "      <th>2_pct</th>\n",
              "      <td>2.6</td>\n",
              "    </tr>\n",
              "    <tr>\n",
              "      <th>3_pct</th>\n",
              "      <td>1.4</td>\n",
              "    </tr>\n",
              "    <tr>\n",
              "      <th>4_pct</th>\n",
              "      <td>0.9</td>\n",
              "    </tr>\n",
              "    <tr>\n",
              "      <th>5_pct</th>\n",
              "      <td>2.1</td>\n",
              "    </tr>\n",
              "    <tr>\n",
              "      <th>6_pct</th>\n",
              "      <td>4.1</td>\n",
              "    </tr>\n",
              "    <tr>\n",
              "      <th>7_pct</th>\n",
              "      <td>5.8</td>\n",
              "    </tr>\n",
              "    <tr>\n",
              "      <th>8_pct</th>\n",
              "      <td>5.5</td>\n",
              "    </tr>\n",
              "    <tr>\n",
              "      <th>9_pct</th>\n",
              "      <td>5.5</td>\n",
              "    </tr>\n",
              "    <tr>\n",
              "      <th>10_pct</th>\n",
              "      <td>33.7</td>\n",
              "    </tr>\n",
              "  </tbody>\n",
              "</table>\n",
              "</div>"
            ],
            "text/plain": [
              "timestamp  2017-08-29 23:10:06.218251\n",
              "1_pct                            38.4\n",
              "2_pct                             2.6\n",
              "3_pct                             1.4\n",
              "4_pct                             0.9\n",
              "5_pct                             2.1\n",
              "6_pct                             4.1\n",
              "7_pct                             5.8\n",
              "8_pct                             5.5\n",
              "9_pct                             5.5\n",
              "10_pct                           33.7"
            ]
          },
          "metadata": {
            "tags": []
          },
          "execution_count": 164
        }
      ]
    },
    {
      "cell_type": "code",
      "metadata": {
        "id": "kWWG2IHEphsW",
        "colab_type": "code",
        "outputId": "a1e04527-c12e-4b67-f855-389adfe088aa",
        "colab": {
          "base_uri": "https://localhost:8080/",
          "height": 363
        }
      },
      "source": [
        "#from here we want a numeric index again, and we want the final df\n",
        "#to be long not wide\n",
        "\n",
        "plot_data = final[pct_columns].T\n",
        "plot_data.index = range(1,11)\n",
        "plot_data.columns = ['percent']\n",
        "plot_data"
      ],
      "execution_count": 0,
      "outputs": [
        {
          "output_type": "execute_result",
          "data": {
            "text/html": [
              "<div>\n",
              "<style scoped>\n",
              "    .dataframe tbody tr th:only-of-type {\n",
              "        vertical-align: middle;\n",
              "    }\n",
              "\n",
              "    .dataframe tbody tr th {\n",
              "        vertical-align: top;\n",
              "    }\n",
              "\n",
              "    .dataframe thead th {\n",
              "        text-align: right;\n",
              "    }\n",
              "</style>\n",
              "<table border=\"1\" class=\"dataframe\">\n",
              "  <thead>\n",
              "    <tr style=\"text-align: right;\">\n",
              "      <th></th>\n",
              "      <th>percent</th>\n",
              "    </tr>\n",
              "  </thead>\n",
              "  <tbody>\n",
              "    <tr>\n",
              "      <th>1</th>\n",
              "      <td>38.4</td>\n",
              "    </tr>\n",
              "    <tr>\n",
              "      <th>2</th>\n",
              "      <td>2.6</td>\n",
              "    </tr>\n",
              "    <tr>\n",
              "      <th>3</th>\n",
              "      <td>1.4</td>\n",
              "    </tr>\n",
              "    <tr>\n",
              "      <th>4</th>\n",
              "      <td>0.9</td>\n",
              "    </tr>\n",
              "    <tr>\n",
              "      <th>5</th>\n",
              "      <td>2.1</td>\n",
              "    </tr>\n",
              "    <tr>\n",
              "      <th>6</th>\n",
              "      <td>4.1</td>\n",
              "    </tr>\n",
              "    <tr>\n",
              "      <th>7</th>\n",
              "      <td>5.8</td>\n",
              "    </tr>\n",
              "    <tr>\n",
              "      <th>8</th>\n",
              "      <td>5.5</td>\n",
              "    </tr>\n",
              "    <tr>\n",
              "      <th>9</th>\n",
              "      <td>5.5</td>\n",
              "    </tr>\n",
              "    <tr>\n",
              "      <th>10</th>\n",
              "      <td>33.7</td>\n",
              "    </tr>\n",
              "  </tbody>\n",
              "</table>\n",
              "</div>"
            ],
            "text/plain": [
              "    percent\n",
              "1      38.4\n",
              "2       2.6\n",
              "3       1.4\n",
              "4       0.9\n",
              "5       2.1\n",
              "6       4.1\n",
              "7       5.8\n",
              "8       5.5\n",
              "9       5.5\n",
              "10     33.7"
            ]
          },
          "metadata": {
            "tags": []
          },
          "execution_count": 169
        }
      ]
    },
    {
      "cell_type": "code",
      "metadata": {
        "id": "wD1ZmCoYp_dd",
        "colab_type": "code",
        "outputId": "40af9ecd-74e7-40f1-bba5-cda9e447fc5f",
        "colab": {
          "base_uri": "https://localhost:8080/",
          "height": 330
        }
      },
      "source": [
        "import matplotlib.font_manager\n",
        "#Now we can plot the real data with the template we created before:\n",
        "#Here is where we get the details of the graph down:\n",
        "\n",
        "fig, ax = plt.subplots()\n",
        "\n",
        "#Set the background of the figure:\n",
        "fig.patch.set(facecolor ='white')\n",
        "\n",
        "#set the bars:\n",
        "ax.bar(x=range(1,11),height=plot_data['percent'],width=0.9,color = '#ED713A')\n",
        "\n",
        "#Weirdly though if I just try to run the following it produces a new graph\n",
        "#plot_data.plot.bar(width=0.9)\n",
        "\n",
        "#Set Title and Subtitle:\n",
        "ax.set_title(\"'An Inconvenient Sequel:Truth To Power' is divisive\",\n",
        "             fontsize = 12,\n",
        "             x=.35,\n",
        "             y=1.1,\n",
        "             fontweight='bold')\n",
        "ax.text(s='IMDb ratings for the film as of Aug. 29',\n",
        "        fontsize=12,\n",
        "        x=-1.85,\n",
        "        y=42)\n",
        "\n",
        "#Set the plot background color:\n",
        "ax.set(facecolor='white')\n",
        "\n",
        "#Set x and y label:\n",
        "ax.set_xlabel('Rating',fontsize=9)\n",
        "ax.set_ylabel('Percent of Total Votes',fontsize=9)\n",
        "\n",
        "#Ideally this should change the tick font, but I still have to figure\n",
        "#it out\n",
        "ax.tick_params(axis='both',color='red')\n",
        "\n",
        "#Fix the x and y axis tick marks in and grid\n",
        "ax.set_xticklabels(range(1,11),rotation=0,fontname='Comic Sans MS',size=10)\n",
        "ax.set_xticks(range(1,11))\n",
        "ax.set_yticklabels(range(0,50,10),fontname='Meiryo')\n",
        "ax.set_yticks(range(0,50,10))\n",
        "plt.plot()\n",
        "\n",
        "#add the ytick lablel %\n",
        "my_y_labels=['0','10','20','30','40%']\n",
        "ax.set_yticklabels(labels=['0','10','20','30','40%'],fontname='Meiryo')\n",
        "#Get rid of the spines()\n",
        "ax.spines['right'].set_visible(False)\n",
        "ax.spines['left'].set_visible(False)\n",
        "ax.spines['bottom'].set_visible(False)\n",
        "ax.spines['top'].set_visible(False)\n"
      ],
      "execution_count": 0,
      "outputs": [
        {
          "output_type": "display_data",
          "data": {
            "image/png": "[encoded data removed]",
            "text/plain": [
              "<Figure size 432x288 with 1 Axes>"
            ]
          },
          "metadata": {
            "tags": []
          }
        }
      ]
    },
    {
      "cell_type": "markdown",
      "metadata": {
        "id": "hRuHW717w3G8",
        "colab_type": "text"
      },
      "source": [
        "I'm having trouble with changing the font.This is something I should come back to. "
      ]
    },
    {
      "cell_type": "markdown",
      "metadata": {
        "id": "EKJ9ZzqQw8iA",
        "colab_type": "text"
      },
      "source": [
        "## 2) Replicate anothe Example:"
      ]
    },
    {
      "cell_type": "markdown",
      "metadata": {
        "id": "u6XHwjHv3UhA",
        "colab_type": "text"
      },
      "source": [
        "### Prototype:"
      ]
    },
    {
      "cell_type": "code",
      "metadata": {
        "id": "SKstWWMj3g7g",
        "colab_type": "code",
        "outputId": "ba6ab6b0-adb6-4e61-e8dc-27d3986c0e6d",
        "colab": {
          "base_uri": "https://localhost:8080/",
          "height": 252
        }
      },
      "source": [
        "%matplotlib inline\n",
        "fig, ax = plt.subplots()\n",
        "test = [100,100,75,100,75,100,10,20,20,100,55,100,35,35,10,10,0,0,10,0]\n",
        "\n",
        "#zorder is to make sure that the line ends up on top of everything.\n",
        "ax.plot(test,zorder=3,color=\"#69B6E3\")\n",
        "ax.set_facecolor('white')\n",
        "\n",
        "#here is how you fill in the area under the curve\n",
        "#arguments are: where to fill , and if you want to make it \n",
        "#see-through use alpha\n",
        "ax.fill_between(range(0,len(test)),0,test,color='#69B6E3',alpha=0.4)\n",
        "\n",
        "#This is how you get rid of the spines in the list:\n",
        "lstspines=['left','right','top']\n",
        "for i in lstspines:\n",
        "  ax.spines[i].set_visible(False)\n",
        "\n",
        "\n",
        "#This makes the bottom spine align to the axis,\n",
        "#and controls the thickness of the line\n",
        "ax.spines['bottom'].set_position('zero')\n",
        "ax.spines['bottom'].set_color('black')\n",
        "ax.spines['bottom'].set_linewidth(1.2)\n",
        "\n",
        "#Change the label fonts\n",
        "a = range(-20,120,20)\n",
        "ax.set_yticklabels(a,fontname='Meiryo',size=14);\n",
        "\n",
        "#not sure why the range needs to be -20 - 120 on the yticklabels\n",
        "# for i in range(0,120,20):\n",
        "#   print(i)\n"
      ],
      "execution_count": 0,
      "outputs": [
        {
          "output_type": "display_data",
          "data": {
            "image/png": "[encoded data removed]",
            "text/plain": [
              "<Figure size 432x288 with 1 Axes>"
            ]
          },
          "metadata": {
            "tags": []
          }
        }
      ]
    },
    {
      "cell_type": "markdown",
      "metadata": {
        "id": "jy4g1vmn3dLn",
        "colab_type": "text"
      },
      "source": [
        "### Downloading Actual Data\n",
        "\n",
        "Original Articlle: https://fivethirtyeight.com/features/louisiana-tech-was-the-uconn-of-the-80s/\n",
        "\n",
        "Original Source: https://github.com/fivethirtyeight/data/tree/master/ncaa-womens-basketball-tournament\n",
        "\n",
        "For more fivethirtyeight data:https://data.fivethirtyeight.com/\n",
        "\n"
      ]
    },
    {
      "cell_type": "code",
      "metadata": {
        "id": "GinocCHnw2jk",
        "colab_type": "code",
        "outputId": "692ff1c5-d67c-44a1-8948-d397f04c7ab0",
        "colab": {
          "resources": {
            "http://localhost:8080/nbextensions/google.colab/files.js": {
              "data": "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",
              "ok": true,
              "headers": [
                [
                  "content-type",
                  "application/javascript"
                ]
              ],
              "status": 200,
              "status_text": "OK"
            }
          },
          "base_uri": "https://localhost:8080/",
          "height": 113
        }
      },
      "source": [
        "from google.colab import files\n",
        "files.upload()"
      ],
      "execution_count": 0,
      "outputs": [
        {
          "output_type": "display_data",
          "data": {
            "text/html": [
              "\n",
              "     <input type=\"file\" id=\"files-dbf83dca-d76c-4cd0-95d3-57124208fdf6\" name=\"files[]\" multiple disabled />\n",
              "     <output id=\"result-dbf83dca-d76c-4cd0-95d3-57124208fdf6\">\n",
              "      Upload widget is only available when the cell has been executed in the\n",
              "      current browser session. Please rerun this cell to enable.\n",
              "      </output>\n",
              "      <script src=\"/nbextensions/google.colab/files.js\"></script> "
            ],
            "text/plain": [
              "<IPython.core.display.HTML object>"
            ]
          },
          "metadata": {
            "tags": []
          }
        },
        {
          "output_type": "stream",
          "text": [
            "Saving ncaa-womens-basketball-tournament-history.csv to ncaa-womens-basketball-tournament-history.csv\n"
          ],
          "name": "stdout"
        },
        {
          "output_type": "execute_result",
          "data": {
            "text/plain": [
              "{'ncaa-womens-basketball-tournament-history.csv': b\"\\xef\\xbb\\xbfYear,School,Seed,Conference,Conf. W,Conf. L,Conf. %,Conf. place,Reg. W,Reg. L,Reg. %,How qual,1st game at home?,Tourney W,Tourney L,Tourney finish,Full W,Full L,Full %\\r\\n1982,Arizona St.,4,Western Collegiate,-,-,-,-,23,6,79.3,at-large,Y,1,1,RSF,24,7,77.4\\r\\n1982,Auburn,7,Southeastern,-,-,-,-,24,4,85.7,at-large,N,0,1,1st,24,5,82.8\\r\\n1982,Cheyney,2,Independent,-,-,-,-,24,2,92.3,at-large,Y,4,1,N2nd,28,3,90.3\\r\\n1982,Clemson,5,Atlantic Coast,6,3,66.7,4th,20,11,64.5,at-large,N,0,1,1st,20,12,62.5\\r\\n1982,Drake,4,Missouri Valley,-,-,-,-,26,6,81.3,auto,Y,2,1,RF,28,7,80\\r\\n1982,East Carolina,6,Independent,-,-,-,-,19,7,73.1,at-large,N,0,1,1st,19,8,70.4\\r\\n1982,Georgia,5,Southeastern,-,-,-,-,21,8,72.4,at-large,N,0,1,1st,21,9,70\\r\\n1982,Howard,8,Mid-Eastern,-,-,-,-,14,10,58.3,auto,N,0,1,1st,14,11,56\\r\\n1982,Illinois,7,Big Ten,-,-,-,-,21,8,72.4,at-large,N,0,1,1st,21,9,70\\r\\n1982,Jackson St.,7,Southwestern,-,-,-,-,28,7,80,auto,N,0,1,1st,28,8,77.8\\r\\n1982,Kansas St.,4,Big Eight,-,-,-,-,24,5,82.8,auto,Y,2,1,RF,26,6,81.3\\r\\n1982,Kent St.,8,Mid-American,-,-,-,-,17,13,56.7,auto,N,0,1,1st,17,14,54.8\\r\\n1982,Kentucky,2,Southeastern,-,-,-,-,22,7,75.9,auto,Y,2,1,RF,24,8,75\\r\\n1982,Long Beach St.,1,Western Collegiate,-,-,-,-,22,5,81.5,auto,Y,1,1,RSF,23,6,79.3\\r\\n1982,Louisiana Tech,1,Independent,-,-,-,-,30,1,96.8,at-large,Y,5,0,Champ,35,1,97.2\\r\\n1982,Maryland,2,Atlantic Coast,6,1,85.7,1st,22,6,78.6,auto,Y,3,1,NSF,25,7,78.1\\r\\n1982,Memphis,3,Metro,-,-,-,-,25,4,86.2,auto,Y,1,1,RSF,26,5,83.9\\r\\n1982,Missouri,6,Big Eight,-,-,-,-,23,8,74.2,at-large,N,1,1,RSF,24,9,72.7\\r\\n1982,NC State,3,Atlantic Coast,11,2,84.6,2nd,23,5,82.1,at-large,Y,1,1,RSF,24,6,80\\r\\n1982,Northwestern,6,Big Ten,-,-,-,-,21,7,75,at-large,N,0,1,1st,21,8,72.4\\r\\n1982,Ohio St.,5,Big Ten,-,-,-,-,19,6,76,auto,N,0,1,1st,19,7,73.1\\r\\n1982,Old Dominion,1,Independent,-,-,-,-,21,5,80.8,at-large,Y,1,1,RSF,22,6,78.6\\r\\n1982,Ole Miss,6,Southeastern,-,-,-,-,27,4,87.1,at-large,N,0,1,1st,27,5,84.4\\r\\n1982,Oregon,3,Independent,-,-,-,-,20,4,83.3,at-large,Y,0,1,1st,20,5,80\\r\\n1982,Penn St.,4,Independent,-,-,-,-,23,5,82.1,at-large,Y,1,1,RSF,24,6,80\\r\\n1982,Saint Peter's,8,Metro Atlantic,5,0,100,1st,25,4,86.2,auto,N,0,1,1st,25,5,83.3\\r\\n1982,SFA,5,Independent,-,-,-,-,15,8,65.2,at-large,N,0,1,1st,15,9,62.5\\r\\n1982,South Carolina,3,Independent,-,-,-,-,21,7,75,at-large,Y,1,1,RSF,22,8,73.3\\r\\n1982,Southern California,1,Western Collegiate,-,-,-,-,20,3,87,at-large,Y,2,1,RF,22,4,84.6\\r\\n1982,Stanford,7,Northern California,9,3,75,2nd,19,7,73.1,auto,N,0,1,1st,19,8,70.4\\r\\n1982,Tennessee,2,Southeastern,-,-,-,-,19,9,67.9,at-large,Y,3,1,NSF,22,10,68.8\\r\\n1982,Tennessee Tech,8,Ohio Valley,10,2,83.3,1st,20,10,66.7,auto,N,0,1,1st,20,11,64.5\\r\\n1983,Arizona St.,4,Western Collegiate,9,5,64.3,3rd,22,6,78.6,at-large,Y,1,1,RSF,23,7,76.7\\r\\n1983,Auburn,5,Southeastern,6,2,75,T1st W,23,7,76.7,at-large,Y,1,1,RSF,24,8,75\\r\\n1983,Central Mich.,6,Mid-American,-,-,-,-,20,8,71.4,auto,N,0,1,1st,20,9,69\\r\\n1983,Cheyney,1,Independent,-,-,-,-,26,2,92.9,at-large,Y,1,1,RSF,27,3,90\\r\\n1983,Dartmouth,(OR),Ivy,11,1,91.7,1st,18,7,72,at-large,Y,0,1,OR,18,8,69.2\\r\\n1983,Florida St.,5,Metro,-,-,-,-,24,5,82.8,at-large,N,0,1,1st,24,6,80\\r\\n1983,Georgia,2,Southeastern,4,4,50,3rd E,24,6,80,auto,Y,3,1,NSF,27,7,79.4\\r\\n1983,Illinois St.,6,Missouri Valley,-,-,-,-,20,9,69,auto,N,0,1,1st,20,10,66.7\\r\\n1983,Indiana,6,Big Ten,-,-,-,-,18,10,64.3,at-large,N,1,1,RSF,19,11,63.3\\r\\n1983,Jackson St.,(OR),Southwestern,-,-,-,-,21,7,75,at-large,Y,0,1,OR,21,8,72.4\\r\\n1983,Kansas St.,3,Big Eight,-,-,-,-,24,5,82.8,at-large,Y,1,1,RSF,25,6,80.6\\r\\n1983,Kentucky,3,Southeastern,6,2,75,2nd E,23,4,85.2,at-large,Y,0,1,1st,23,5,82.1\\r\\n1983,La Salle,(OR),East Coast,-,-,-,-,16,12,57.1,at-large,Y,0,1,OR,16,13,55.2\\r\\n1983,La.-Monroe,(OR),Southland,-,-,-,-,21,5,80.8,at-large,Y,1,1,1st,22,6,78.6\\r\\n1983,Long Beach St.,2,Independent,-,-,-,-,22,6,78.6,at-large,Y,2,1,RF,24,7,77.4\\r\\n1983,Louisiana Tech,1,Independent,-,-,-,-,27,1,96.4,at-large,Y,4,1,N2nd,31,2,93.9\\r\\n1983,Louisville,7,Metro,-,-,-,-,20,9,69,auto,N,0,1,1st,20,10,66.7\\r\\n1983,Maryland,3,Atlantic Coast,10,3,76.9,T2nd,25,4,86.2,auto,Y,1,1,RSF,26,5,83.9\\r\\n1983,Middle Tenn.,(OR),Ohio Valley,10,0,100,1st,25,4,86.2,at-large,N,1,1,1st,26,5,83.9\\r\\n1983,Missouri,4,Big Eight,-,-,-,-,23,5,82.1,auto,N,0,1,1st,23,6,79.3\\r\\n1983,Monmouth,(OR),Cosmopolitan,-,-,-,-,14,14,50,at-large,N,1,1,1st,15,15,50\\r\\n1983,Montana,(OR),Mountain West Athl.,-,-,-,-,26,3,89.7,at-large,N,0,1,OR,26,4,86.7\\r\\n1983,NC State,4,Atlantic Coast,12,1,92.3,1st,22,7,75.9,at-large,Y,0,1,1st,22,8,73.3\\r\\n1983,North Carolina,7,Atlantic Coast,10,3,76.9,T2nd,22,7,75.9,at-large,N,0,1,1st,22,8,73.3\\r\\n1983,Old Dominion,2,Sun Belt,-,-,-,-,26,5,83.9,auto,Y,3,1,NSF,29,6,82.9\\r\\n1983,Ole Miss,4,Southeastern,6,2,75,T1st W,25,5,83.3,at-large,Y,1,1,RSF,26,6,81.3\\r\\n1983,Oregon St.,3,Northern Pacific,-,-,-,-,23,5,82.1,auto,Y,1,1,RSF,24,6,80\\r\\n1983,Penn St.,5,Atlantic 10,-,-,-,-,24,6,80,auto,N,2,1,RF,26,7,78.8\\r\\n1983,SFA,7,Southland,-,-,-,-,18,6,75,at-large,N,0,1,1st,18,7,72\\r\\n1983,South Carolina St.,(OR),Mid-Eastern,-,-,-,-,16,7,69.6,at-large,N,1,1,1st,17,8,68\\r\\n1983,Southern California,1,Western Collegiate,-,-,-,-,25,2,92.6,auto,Y,5,0,Champ,30,2,93.8\\r\\n1983,St. John's (NY),7,Big East,-,-,-,-,23,5,82.1,auto,N,0,1,1st,23,6,79.3\\r\\n1983,Tennessee,1,Southeastern,7,1,87.5,1st E,23,7,76.7,at-large,Y,2,1,RF,25,8,75.8\\r\\n1983,Texas,2,Southwest,-,-,-,-,28,2,93.3,auto,Y,2,1,RF,30,3,90.9\\r\\n1983,UCLA,6,Western Collegiate,-,-,-,-,18,10,64.3,at-large,N,0,1,1st,18,11,62.1\\r\\n1983,Utah,5,High Country,-,-,-,-,22,6,78.6,auto,N,0,1,1st,22,7,75.9\\r\\n1984,Alabama,2,Southeastern,5,3,62.5,T2nd W,22,8,73.3,at-large,N,1,1,RSF,23,9,71.9\\r\\n1984,BYU,8,High Country,9,1,90,1st,18,7,72,auto,N,0,1,1st,18,8,69.2\\r\\n1984,Central Mich.,7,Mid-American,18,0,100,1st,27,2,93.1,auto,Y,0,1,1st,27,3,90\\r\\n1984,Cheyney,3,Independent,-,-,-,-,22,4,84.6,at-large,Y,3,1,NSF,25,5,83.3\\r\\n1984,Drake,7,Missouri Valley,16,2,88.9,1st,22,6,78.6,auto,N,0,1,1st,22,7,75.9\\r\\n1984,Georgia,1,Southeastern,7,1,87.5,T1st E,28,2,93.3,auto,Y,2,1,RF,30,3,90.9\\r\\n1984,Kansas St.,3,Big Eight,12,2,85.7,T1st,25,5,83.3,auto,N,0,1,1st,25,6,80.6\\r\\n1984,La.-Monroe,6,Southland,12,0,100,1st,22,3,88,auto,Y,1,1,RSF,23,4,85.2\\r\\n1984,Long Beach St.,2,Western Collegiate,13,1,92.9,T1st,23,5,82.1,at-large,Y,2,1,RF,25,6,80.6\\r\\n1984,Louisiana Tech,1,Independent,-,-,-,-,27,2,93.1,at-large,Y,3,1,NSF,30,3,90.9\\r\\n1984,Louisville,5,Metro,7,3,70,T1st N,16,15,51.6,auto,N,1,1,1st,17,16,51.5\\r\\n1984,LSU,5,Southeastern,5,3,62.5,T2nd W,22,6,78.6,at-large,Y,1,1,RSF,23,7,76.7\\r\\n1984,Maryland,6,Atlantic Coast,10,4,71.4,2nd,19,9,67.9,at-large,N,0,1,1st,19,10,65.5\\r\\n1984,Middle Tenn.,6,Ohio Valley,12,2,85.7,1st,19,9,67.9,auto,N,0,1,1st,19,10,65.5\\r\\n1984,Missouri,4,Big Eight,12,2,85.7,T1st,25,5,83.3,at-large,N,0,1,1st,25,6,80.6\\r\\n1984,Montana,4,Mountain West Athl.,14,0,100,1st,25,3,89.3,auto,Y,1,1,RSF,26,4,86.7\\r\\n1984,NC State,4,Atlantic Coast,9,5,64.3,T3rd,22,8,73.3,at-large,Y,1,1,RSF,23,9,71.9\\r\\n1984,North Carolina,2,Atlantic Coast,9,5,64.3,T3rd,23,7,76.7,auto,Y,1,1,RSF,24,8,75\\r\\n1984,Ohio St.,5,Big Ten,17,1,94.4,1st,22,6,78.6,auto,Y,0,1,1st,22,7,75.9\\r\\n1984,Old Dominion,1,Sun Belt,-,-,-,-,22,4,84.6,auto,Y,2,1,RF,24,5,82.8\\r\\n1984,Ole Miss,4,Southeastern,6,2,75,1st W,23,5,82.1,at-large,N,1,1,RSF,24,6,80\\r\\n1984,Oregon,3,Northern Pacific,10,2,83.3,1st,23,6,79.3,at-large,N,0,1,1st,23,7,76.7\\r\\n1984,Oregon St.,5,Northern Pacific,9,3,75,2nd,21,7,75,at-large,N,0,1,1st,21,8,72.4\\r\\n1984,Penn St.,8,Atlantic 10,6,2,75,T2nd,19,11,63.3,auto,N,0,1,1st,19,12,61.3\\r\\n1984,San Diego St.,6,Western Collegiate,9,5,64.3,3rd,23,5,82.1,at-large,Y,1,1,RSF,24,6,80\\r\\n1984,Southern California,1,Western Collegiate,13,1,92.9,T1st,24,4,85.7,auto,Y,5,0,Champ,29,4,87.9\\r\\n1984,St. John's (NY),7,Big East,5,3,62.5,T2nd,24,5,82.8,auto,N,0,1,1st,24,6,80\\r\\n1984,Tennessee,3,Southeastern,7,1,87.5,T1st E,19,9,67.9,at-large,Y,4,1,N2nd,23,10,69.7\\r\\n1984,Texas,2,Southwest,16,0,100,1st,30,2,93.8,auto,Y,2,1,RF,32,3,91.4\\r\\n1984,Texas Tech,8,Southwest,13,3,81.3,2nd,23,6,79.3,at-large,N,0,1,1st,23,7,76.7\\r\\n1984,UNLV,7,Independent,-,-,-,-,24,6,80,at-large,N,0,1,1st,24,7,77.4\\r\\n1984,Virginia,5,Atlantic Coast,11,3,78.6,1st,22,6,78.6,at-large,N,0,1,1st,22,7,75.9\\r\\n1985,Auburn,3,Southeastern,5,3,62.5,2nd W,24,5,82.8,at-large,Y,1,1,RSF,25,6,80.6\\r\\n1985,BYU,8,High Country,11,1,91.7,1st,19,8,70.4,auto,N,0,1,1st,19,9,67.9\\r\\n1985,Georgia,2,Southeastern,7,1,87.5,1st E,25,4,86.2,at-large,Y,4,1,N2nd,29,5,85.3\\r\\n1985,Holy Cross,7,Metro Atlantic,9,3,75,T2nd,21,6,77.8,auto,N,0,1,1st,21,7,75\\r\\n1985,Idaho,5,Mountain West Athl.,13,1,92.9,1st,28,1,96.6,auto,N,0,1,1st,28,2,93.3\\r\\n1985,Illinois St.,8,Missouri Valley,17,1,94.4,1st,23,5,82.1,auto,N,0,1,1st,23,6,79.3\\r\\n1985,La.-Monroe,2,Southland,12,0,100,1st,27,1,96.4,auto,Y,3,1,NSF,30,2,93.8\\r\\n1985,Long Beach St.,1,Western Collegiate,13,1,92.9,1st,26,2,92.9,auto,Y,2,1,RF,28,3,90.3\\r\\n1985,Louisiana Tech,1,Independent,-,-,-,-,27,3,90,at-large,Y,2,1,RF,29,4,87.9\\r\\n1985,Memphis,6,Metro,9,1,90,1st S,23,6,79.3,auto,N,0,1,1st,23,7,76.7\\r\\n1985,Middle Tenn.,5,Ohio Valley,13,1,92.9,1st,23,6,79.3,auto,N,0,1,1st,23,7,76.7\\r\\n1985,Missouri,7,Big Eight,12,2,85.7,1st,22,8,73.3,auto,N,0,1,1st,22,9,71\\r\\n1985,NC State,4,Atlantic Coast,13,1,92.9,1st,24,5,82.8,auto,Y,1,1,RSF,25,6,80.6\\r\\n1985,North Carolina,6,Atlantic Coast,11,3,78.6,2nd,21,10,67.7,at-large,N,0,1,1st,21,11,65.6\\r\\n1985,Ohio St.,2,Big Ten,18,0,100,1st,26,2,92.9,auto,Y,2,1,RF,28,3,90.3\\r\\n1985,Old Dominion,1,Sun Belt,6,0,100,1st,26,3,89.7,auto,Y,5,0,Champ,31,3,91.2\\r\\n1985,Ole Miss,2,Southeastern,8,0,100,1st W,27,2,93.1,at-large,Y,2,1,RF,29,3,90.6\\r\\n1985,Penn St.,3,Atlantic 10,7,1,87.5,T1st,27,4,87.1,auto,Y,1,1,RSF,28,5,84.8\\r\\n1985,Saint Joseph's,5,Atlantic 10,7,1,87.5,T1st,25,4,86.2,at-large,N,0,1,1st,25,5,83.3\\r\\n1985,San Diego St.,5,Western Collegiate,9,5,64.3,4th,20,8,71.4,at-large,N,1,1,RSF,21,9,70\\r\\n1985,Southern California,4,Western Collegiate,10,4,71.4,T2nd,19,8,70.4,at-large,Y,1,1,RSF,20,9,69\\r\\n1985,Southern Miss.,7,Metro,8,2,80,2nd S,21,8,72.4,at-large,N,0,1,1st,21,9,70\\r\\n1985,Syracuse,8,Big East,10,6,62.5,T4th,18,12,60,auto,N,0,1,1st,18,13,58.1\\r\\n1985,Tennessee,3,Southeastern,4,4,50,T2nd E,21,9,70,auto,Y,1,1,RSF,22,10,68.8\\r\\n1985,Tennessee Tech,7,Ohio Valley,12,2,85.7,2nd,20,8,71.4,at-large,N,0,1,1st,20,9,69\\r\\n1985,Texas,1,Southwest,16,0,100,1st,27,2,93.1,auto,Y,1,1,RSF,28,3,90.3\\r\\n1985,UCLA,6,Western Collegiate,10,4,71.4,T2nd,19,9,67.9,at-large,N,1,1,RSF,20,10,66.7\\r\\n1985,UNLV,4,Pacific Coast,8,0,100,1st,25,4,86.2,at-large,Y,0,1,1st,25,5,83.3\\r\\n1985,Virginia,6,Atlantic Coast,9,5,64.3,3rd,21,7,75,at-large,N,0,1,1st,21,8,72.4\\r\\n1985,Washington,3,Northern Pacific,11,0,100,1st,26,1,96.3,auto,Y,0,1,1st,26,2,92.9\\r\\n1985,Western Ky.,4,Sun Belt,5,1,83.3,2nd,26,5,83.9,at-large,Y,3,1,NSF,29,6,82.9\\r\\n1985,Western Mich.,8,Mid-American,14,4,77.8,2nd,19,9,67.9,auto,N,0,1,1st,19,10,65.5\\r\\n1986,Arkansas,8,Southwest,13,3,81.3,T2nd,22,7,75.9,at-large,N,0,1,1st,22,8,73.3\\r\\n1986,Auburn,3,Southeastern,6,3,66.7,T2nd,23,5,82.1,at-large,Y,1,1,RSF,24,6,80\\r\\n1986,Drake,10,Missouri Valley,16,2,88.9,2nd,21,7,75,at-large,Y,1,1,2nd,22,8,73.3\\r\\n1986,Georgia,1,Southeastern,9,0,100,1st,29,1,96.7,auto,Y,1,1,RSF,30,2,93.8\\r\\n1986,Illinois,8,Big Ten,12,6,66.7,3rd,19,9,67.9,at-large,N,1,1,2nd,20,10,66.7\\r\\n1986,Iowa,5,Big Ten,15,3,83.3,2nd,22,6,78.6,at-large,N,0,1,2nd,22,7,75.9\\r\\n1986,James Madison,8,Colonial,11,1,91.7,T1st,26,3,89.7,at-large,N,2,1,RSF,28,4,87.5\\r\\n1986,Kentucky,7,Southeastern,4,5,44.4,T6th,18,10,64.3,at-large,N,0,1,1st,18,11,62.1\\r\\n1986,La Salle,10,Metro Atlantic,10,2,83.3,2nd,21,8,72.4,auto,N,0,1,1st,21,9,70\\r\\n1986,Long Beach St.,3,Pacific Coast,14,0,100,1st,28,4,87.5,at-large,Y,1,1,RSF,29,5,85.3\\r\\n1986,Louisiana Tech,2,Independent,-,-,-,-,25,4,86.2,at-large,Y,2,1,RF,27,5,84.4\\r\\n1986,LSU,2,Southeastern,6,3,66.7,T2nd,25,5,83.3,at-large,Y,2,1,RF,27,6,81.8\\r\\n1986,Maryland,6,Atlantic Coast,6,8,42.9,5th,17,12,58.6,auto,N,0,1,2nd,17,13,56.7\\r\\n1986,Middle Tenn.,10,Ohio Valley,13,1,92.9,1st,19,9,67.9,auto,N,1,1,2nd,20,10,66.7\\r\\n1986,Missouri,9,Big Eight,8,6,57.1,T4th,19,11,63.3,auto,Y,1,1,2nd,20,12,62.5\\r\\n1986,Montana,8,Mountain West Athl.,13,1,92.9,1st,26,8,76.5,auto,Y,1,1,2nd,27,9,75\\r\\n1986,NC State,6,Atlantic Coast,9,5,64.3,T3rd,18,10,64.3,at-large,N,0,1,2nd,18,11,62.1\\r\\n1986,North Carolina,4,Atlantic Coast,10,4,71.4,2nd,22,8,73.3,at-large,Y,1,1,RSF,23,9,71.9\\r\\n1986,North Texas,10,Southland,7,3,70,T1st,20,9,69,auto,N,0,1,1st,20,10,66.7\\r\\n1986,Ohio,9,Mid-American,16,2,88.9,1st,26,2,92.9,auto,Y,0,1,1st,26,3,89.7\\r\\n1986,Ohio St.,3,Big Ten,16,2,88.9,1st,22,6,78.6,auto,Y,1,1,RSF,23,7,76.7\\r\\n1986,Oklahoma,4,Big Eight,10,4,71.4,1st,23,6,79.3,at-large,Y,1,1,RSF,24,7,77.4\\r\\n1986,Ole Miss,2,Southeastern,6,3,66.7,T2nd,22,7,75.9,at-large,Y,2,1,RF,24,8,75\\r\\n1986,Penn St.,3,Atlantic 10,12,4,75,T2nd,23,7,76.7,auto,Y,1,1,RSF,24,8,75\\r\\n1986,Providence,9,Big East,14,2,87.5,1st,24,5,82.8,at-large,Y,0,1,1st,24,6,80\\r\\n1986,Rutgers,2,Atlantic 10,16,0,100,1st,27,3,90,at-large,Y,2,1,RF,29,4,87.9\\r\\n1986,Saint Joseph's,5,Atlantic 10,12,4,75,T2nd,22,6,78.6,at-large,N,0,1,2nd,22,7,75.9\\r\\n1986,South Carolina,7,Metro,9,1,90,T1st,19,10,65.5,auto,Y,0,1,1st,19,11,63.3\\r\\n1986,Southern California,1,Pacific West,8,0,100,1st,27,4,87.1,at-large,Y,4,1,N2nd,31,5,86.1\\r\\n1986,Southern Ill.,6,Missouri Valley,18,0,100,1st,25,3,89.3,auto,N,0,1,2nd,25,4,86.2\\r\\n1986,Tennessee,4,Southeastern,5,4,55.6,5th,21,9,70,at-large,Y,3,1,NSF,24,10,70.6\\r\\n1986,Texas,1,Southwest,16,0,100,1st,29,0,100,auto,Y,5,0,Champ,34,0,100\\r\\n1986,Texas Tech,6,Southwest,13,3,81.3,T2nd,21,8,72.4,at-large,N,0,1,2nd,21,9,70\\r\\n1986,UNLV,5,Western Athletic,11,3,78.6,2nd,22,8,73.3,auto,N,0,1,2nd,22,9,71\\r\\n1986,Utah,9,High Country,11,1,91.7,1st,21,7,75,auto,N,0,1,1st,21,8,72.4\\r\\n1986,Vanderbilt,5,Southeastern,4,5,44.4,T6th,22,8,73.3,at-large,N,0,1,2nd,22,9,71\\r\\n1986,Villanova,7,Big East,12,4,75,T2nd,21,7,75,auto,N,1,1,2nd,22,8,73.3\\r\\n1986,Virginia,1,Atlantic Coast,13,1,92.9,1st,26,2,92.9,at-large,Y,0,1,2nd,26,3,89.7\\r\\n1986,Washington,7,Northern Pacific,10,2,83.3,T1st,23,5,82.1,auto,Y,1,1,2nd,24,6,80\\r\\n1986,Western Ky.,4,Sun Belt,6,0,100,1st,29,3,90.6,auto,Y,3,1,NSF,32,4,88.9\\r\\n1987,Auburn,1,Southeastern,8,1,88.9,1st,29,1,96.7,auto,Y,2,1,RF,31,2,93.9\\r\\n1987,Bowling Green,9,Mid-American,16,0,100,1st,27,2,93.1,auto,N,0,1,1st,27,3,90\\r\\n1987,Duke,7,Atlantic Coast,7,7,50,4th,18,9,66.7,at-large,Y,1,1,2nd,19,10,65.5\\r\\n1987,Eastern Wash.,10,Mountain West Athl.,8,4,66.7,2nd,18,11,62.1,auto,N,0,1,1st,18,12,60\\r\\n1987,Georgia,2,Southeastern,7,2,77.8,T2nd,26,4,86.7,at-large,Y,1,1,RSF,27,5,84.4\\r\\n1987,Illinois,8,Big Ten,11,7,61.1,4th,18,9,66.7,at-large,Y,1,1,2nd,19,10,65.5\\r\\n1987,Iowa,3,Big Ten,17,1,94.4,T1st,24,4,85.7,at-large,Y,2,1,RF,26,5,83.9\\r\\n1987,James Madison,4,Colonial,12,0,100,1st,26,3,89.7,auto,Y,1,1,RSF,27,4,87.1\\r\\n1987,Kansas,7,Big Eight,9,5,64.3,T1st,19,12,61.3,auto,N,1,1,2nd,20,13,60.6\\r\\n1987,Kansas St.,8,Big Eight,9,5,64.3,T1st,22,8,73.3,at-large,N,0,1,1st,22,9,71\\r\\n1987,Long Beach St.,1,Pacific Coast,17,1,94.4,1st,30,2,93.8,at-large,Y,3,1,NSF,33,3,91.7\\r\\n1987,Louisiana Tech,1,Independent,-,-,-,-,26,2,92.9,at-large,Y,4,1,N2nd,30,3,90.9\\r\\n1987,LSU,4,Southeastern,6,3,66.7,T4th,20,7,74.1,at-large,Y,0,1,2nd,20,8,71.4\\r\\n1987,Manhattan,10,Metro Atlantic,6,6,50,5th,20,10,66.7,auto,N,0,1,1st,20,11,64.5\\r\\n1987,Memphis,6,Metro,10,2,83.3,1st,20,8,71.4,at-large,N,0,1,2nd,20,9,69\\r\\n1987,NC State,3,Atlantic Coast,11,3,78.6,2nd,23,6,79.3,auto,N,1,1,RSF,24,7,77.4\\r\\n1987,New Mexico St.,9,High Country,10,2,83.3,T1st,23,6,79.3,auto,N,0,1,1st,23,7,76.7\\r\\n1987,New Orleans,6,Independent,-,-,-,-,25,6,80.6,at-large,N,0,1,2nd,25,7,78.1\\r\\n1987,North Carolina,4,Atlantic Coast,9,5,64.3,3rd,19,9,67.9,at-large,Y,0,1,2nd,19,10,65.5\\r\\n1987,Northwestern,9,Big Ten,12,6,66.7,3rd,19,9,67.9,at-large,Y,1,1,2nd,20,10,66.7\\r\\n1987,Northwestern St.,10,Gulf Star,9,1,90,T1st,14,9,60.9,auto,Y,0,1,1st,14,10,58.3\\r\\n1987,Ohio St.,2,Big Ten,17,1,94.4,T1st,24,4,85.7,auto,N,2,1,RF,26,5,83.9\\r\\n1987,Old Dominion,5,Sun Belt,5,1,83.3,T1st,17,12,58.6,auto,N,1,1,RSF,18,13,58.1\\r\\n1987,Ole Miss,4,Southeastern,7,2,77.8,T2nd,24,4,85.7,at-large,Y,1,1,RSF,25,5,83.3\\r\\n1987,Oregon,7,Pacific-10,14,4,77.8,T2nd,22,6,78.6,at-large,Y,1,1,2nd,23,7,76.7\\r\\n1987,Penn St.,5,Atlantic 10,16,2,88.9,2nd,23,6,79.3,at-large,N,0,1,2nd,23,7,76.7\\r\\n1987,Rutgers,2,Atlantic 10,17,1,94.4,1st,28,2,93.3,auto,Y,2,1,RF,30,3,90.9\\r\\n1987,Saint Joseph's,9,Atlantic 10,14,4,77.8,3rd,22,8,73.3,at-large,Y,1,1,2nd,23,9,71.9\\r\\n1987,South Alabama,8,Sun Belt,5,1,83.3,T1st,24,5,82.8,at-large,N,0,1,1st,24,6,80\\r\\n1987,Southern California,3,Pacific-10,15,3,83.3,1st,21,7,75,auto,Y,1,1,RSF,22,8,73.3\\r\\n1987,Southern Ill.,5,Missouri Valley,18,0,100,1st,27,2,93.1,auto,N,1,1,RSF,28,3,90.3\\r\\n1987,Southern Miss.,10,Metro,6,6,50,4th,21,8,72.4,auto,N,0,1,1st,21,9,70\\r\\n1987,Tennessee,2,Southeastern,6,3,66.7,T4th,23,6,79.3,at-large,Y,5,0,Champ,28,6,82.4\\r\\n1987,Tennessee Tech,7,Ohio Valley,12,2,85.7,T1st,23,6,79.3,auto,Y,1,1,2nd,24,7,77.4\\r\\n1987,Texas,1,Southwest,16,0,100,1st,28,1,96.6,auto,Y,3,1,NSF,31,2,93.9\\r\\n1987,Vanderbilt,5,Southeastern,4,5,44.4,6th,23,9,71.9,at-large,N,0,1,2nd,23,10,69.7\\r\\n1987,Villanova,6,Big East,15,1,93.8,1st,27,3,90,auto,Y,0,1,2nd,27,4,87.1\\r\\n1987,Virginia,3,Atlantic Coast,12,2,85.7,1st,25,4,86.2,at-large,Y,1,1,RSF,26,5,83.9\\r\\n1987,Washington,8,Pacific-10,14,4,77.8,T2nd,22,6,78.6,at-large,Y,1,1,2nd,23,7,76.7\\r\\n1987,Western Ky.,6,Sun Belt,4,2,66.7,T3rd,24,8,75,at-large,N,0,1,2nd,24,9,72.7\\r\\n1988,Alabama,9,Southeastern,5,4,55.6,T4th,18,9,66.7,at-large,N,0,1,1st,18,10,64.3\\r\\n1988,Auburn,1,Southeastern,9,0,100,1st,28,2,93.3,at-large,Y,4,1,N2nd,32,3,91.4\\r\\n1988,Bowling Green,10,Mid-American,14,2,87.5,1st,24,5,82.8,auto,N,0,1,1st,24,6,80\\r\\n1988,Clemson,5,Atlantic Coast,8,6,57.1,4th,21,8,72.4,at-large,N,0,1,2nd,21,9,70\\r\\n1988,Colorado,7,Big Eight,8,6,57.1,T3rd,20,10,66.7,at-large,N,1,1,2nd,21,11,65.6\\r\\n1988,Eastern Ill.,10,Missouri Valley,14,4,77.8,T1st,22,7,75.9,auto,Y,0,1,1st,22,8,73.3\\r\\n1988,Fairfield,10,Metro Atlantic,8,4,66.7,3rd,19,9,67.9,auto,N,0,1,1st,19,10,65.5\\r\\n1988,Georgia,4,Southeastern,5,4,55.6,T4th,20,9,69,at-large,Y,1,1,RSF,21,10,67.7\\r\\n1988,Houston,6,Southwest,11,5,68.8,2nd,22,6,78.6,at-large,N,0,1,2nd,22,7,75.9\\r\\n1988,Iowa,1,Big Ten,17,1,94.4,1st,27,1,96.4,auto,Y,2,1,RF,29,2,93.5\\r\\n1988,James Madison,4,Colonial,12,0,100,1st,26,3,89.7,auto,Y,1,1,RSF,27,4,87.1\\r\\n1988,Kansas,7,Big Eight,8,6,57.1,T3rd,21,9,70,auto,Y,1,1,2nd,22,10,68.8\\r\\n1988,La Salle,8,Metro Atlantic,11,1,91.7,1st,25,4,86.2,at-large,N,0,1,1st,25,5,83.3\\r\\n1988,Long Beach St.,2,Big West,18,0,100,1st,25,5,83.3,auto,Y,3,1,NSF,28,6,82.4\\r\\n1988,Louisiana Tech,2,American South,9,0,100,1st,27,2,93.1,at-large,Y,5,0,Champ,32,2,94.1\\r\\n1988,LSU,9,Southeastern,6,3,66.7,3rd,18,10,64.3,at-large,N,0,1,1st,18,11,62.1\\r\\n1988,Maryland,2,Atlantic Coast,12,2,85.7,T1st,24,5,82.8,auto,Y,2,1,RF,26,6,81.3\\r\\n1988,Middle Tenn.,10,Ohio Valley,12,2,85.7,1st,22,7,75.9,auto,N,0,1,1st,22,8,73.3\\r\\n1988,Montana,4,Mountain West Athl.,16,0,100,1st,28,1,96.6,auto,Y,0,1,2nd,28,2,93.3\\r\\n1988,Nebraska,5,Big Eight,11,3,78.6,1st,22,6,78.6,at-large,N,0,1,2nd,22,7,75.9\\r\\n1988,New Mexico St.,6,High Country,10,0,100,1st,26,2,92.9,auto,N,0,1,2nd,26,3,89.7\\r\\n1988,Ohio St.,3,Big Ten,16,2,88.9,2nd,24,4,85.7,at-large,Y,1,1,RSF,25,5,83.3\\r\\n1988,Old Dominion,6,Sun Belt,6,0,100,1st,17,11,60.7,at-large,N,0,1,2nd,17,12,58.6\\r\\n1988,Ole Miss,3,Southeastern,5,4,55.6,T4th,23,6,79.3,at-large,Y,1,1,RSF,24,7,77.4\\r\\n1988,Penn St.,9,Atlantic 10,11,7,61.1,4th,19,12,61.3,at-large,N,1,1,2nd,20,13,60.6\\r\\n1988,Rutgers,3,Atlantic 10,17,1,94.4,1st,26,4,86.7,auto,Y,1,1,RSF,27,5,84.4\\r\\n1988,Saint Joseph's,7,Atlantic 10,16,2,88.9,2nd,23,7,76.7,at-large,Y,1,1,2nd,24,8,75\\r\\n1988,SFA,8,Southland,13,1,92.9,1st,28,4,87.5,at-large,Y,1,1,2nd,29,5,85.3\\r\\n1988,South Carolina,8,Metro,10,2,83.3,1st,22,10,68.8,auto,Y,1,1,2nd,23,11,67.6\\r\\n1988,Southern California,4,Pacific-10,15,3,83.3,2nd,21,7,75,at-large,Y,1,1,RSF,22,8,73.3\\r\\n1988,St. John's (NY),7,Big East,10,6,62.5,T3rd,21,9,70,auto,Y,1,1,2nd,22,10,68.8\\r\\n1988,Stanford,5,Pacific-10,14,4,77.8,3rd,26,4,86.7,at-large,N,1,1,RSF,27,5,84.4\\r\\n1988,Syracuse,6,Big East,13,3,81.3,1st,22,8,73.3,at-large,N,0,1,2nd,22,9,71\\r\\n1988,Tennessee,1,Southeastern,8,1,88.9,2nd,28,2,93.3,auto,Y,3,1,NSF,31,3,91.2\\r\\n1988,Texas,1,Southwest,16,0,100,1st,30,2,93.8,auto,Y,2,1,RF,32,3,91.4\\r\\n1988,Villanova,8,Big East,11,5,68.8,2nd,20,8,71.4,at-large,Y,0,1,1st,20,9,69\\r\\n1988,Virginia,2,Atlantic Coast,12,2,85.7,T1st,25,4,86.2,at-large,Y,2,1,RF,27,5,84.4\\r\\n1988,Wake Forest,9,Atlantic Coast,9,5,64.3,3rd,22,7,75.9,at-large,N,1,1,2nd,23,8,74.2\\r\\n1988,Washington,3,Pacific-10,16,2,88.9,1st,24,4,85.7,auto,Y,1,1,RSF,25,5,83.3\\r\\n1988,Western Ky.,5,Sun Belt,4,2,66.7,3rd,26,7,78.8,auto,N,0,1,2nd,26,8,76.5\\r\\n1989,Arkansas,12,Southwest,13,3,81.3,2nd,22,7,75.9,at-large,N,0,1,1st,22,8,73.3\\r\\n1989,Auburn,1,Southeastern,9,0,100,1st,28,1,96.6,at-large,Y,4,1,N2nd,32,2,94.1\\r\\n1989,Bowling Green,9,Mid-American,16,0,100,1st,25,3,89.3,auto,Y,1,1,2nd,26,4,86.7\\r\\n1989,Cal St. Fullerton,7,Big West,12,6,66.7,T4th,21,8,72.4,at-large,N,0,1,1st,21,9,70\\r\\n1989,Chattanooga,12,Southern,5,5,50,3rd,19,11,63.3,auto,N,0,1,1st,19,12,61.3\\r\\n1989,Cincinnati,8,Metro,6,6,50,5th,21,8,72.4,at-large,N,0,1,1st,21,9,70\\r\\n1989,Clemson,4,Atlantic Coast,9,5,64.3,3rd,19,10,65.5,at-large,Y,1,1,RSF,20,11,64.5\\r\\n1989,Colorado,3,Big Eight,14,0,100,1st,27,3,90,auto,Y,0,1,2nd,27,4,87.1\\r\\n1989,Georgia,5,Southeastern,6,3,66.7,3rd,22,6,78.6,at-large,Y,1,1,2nd,23,7,76.7\\r\\n1989,Hawaii,12,Big West,13,3,81.3,T2nd,18,9,66.7,at-large,N,0,1,1st,18,10,64.3\\r\\n1989,Holy Cross,9,Metro Atlantic,10,2,83.3,2nd,21,9,70,auto,N,0,1,1st,21,10,67.7\\r\\n1989,Illinois St.,7,Missouri Valley,16,2,88.9,1st,22,7,75.9,auto,Y,1,1,2nd,23,8,74.2\\r\\n1989,Iowa,3,Big Ten,16,2,88.9,T1st,26,4,86.7,at-large,Y,1,1,RSF,27,5,84.4\\r\\n1989,James Madison,6,Colonial,12,0,100,1st,25,3,89.3,auto,Y,1,1,2nd,26,4,86.7\\r\\n1989,La Salle,9,Metro Atlantic,11,1,91.7,1st,27,2,93.1,at-large,N,1,1,2nd,28,3,90.3\\r\\n1989,Long Beach St.,2,Big West,18,0,100,1st,28,4,87.5,auto,Y,2,1,RF,30,5,85.7\\r\\n1989,Louisiana Tech,1,American South,10,0,100,1st,29,3,90.6,at-large,Y,3,1,NSF,32,4,88.9\\r\\n1989,LSU,4,Southeastern,5,4,55.6,T4th,18,10,64.3,at-large,Y,1,1,RSF,19,11,63.3\\r\\n1989,Maryland,1,Atlantic Coast,13,1,92.9,1st,26,2,92.9,auto,Y,3,1,NSF,29,3,90.6\\r\\n1989,Miami (FL),8,Independent,-,-,-,-,21,7,75,at-large,N,0,1,1st,21,8,72.4\\r\\n1989,Montana,10,Big Sky,16,0,100,1st,26,3,89.7,auto,Y,1,1,2nd,27,4,87.1\\r\\n1989,NC State,2,Atlantic Coast,12,2,85.7,2nd,23,6,79.3,at-large,Y,1,1,RSF,24,7,77.4\\r\\n1989,Northwestern St.,10,Southland,11,3,78.6,T2nd,22,7,75.9,at-large,N,0,1,1st,22,8,73.3\\r\\n1989,Ohio St.,3,Big Ten,16,2,88.9,T1st,23,5,82.1,auto,Y,1,1,RSF,24,6,80\\r\\n1989,Oklahoma St.,9,Big Eight,8,6,57.1,2nd,19,11,63.3,at-large,Y,1,1,2nd,20,12,62.5\\r\\n1989,Old Dominion,6,Sun Belt,5,1,83.3,T1st,22,8,73.3,at-large,Y,1,1,2nd,23,9,71.9\\r\\n1989,Ole Miss,3,Southeastern,4,5,44.4,6th,21,7,75,at-large,Y,2,1,RF,23,8,74.2\\r\\n1989,Providence,11,Big East,10,6,62.5,3rd,22,10,68.8,at-large,N,0,1,1st,22,11,66.7\\r\\n1989,Purdue,5,Big Ten,14,4,77.8,3rd,23,5,82.1,at-large,Y,1,1,2nd,24,6,80\\r\\n1989,Rutgers,7,Atlantic 10,16,2,88.9,T1st,23,6,79.3,at-large,Y,1,1,2nd,24,7,77.4\\r\\n1989,Saint Joseph's,10,Atlantic 10,16,2,88.9,T1st,22,7,75.9,at-large,Y,1,1,2nd,23,8,74.2\\r\\n1989,SFA,4,Southland,13,1,92.9,1st,29,3,90.6,at-large,Y,1,1,RSF,30,4,88.2\\r\\n1989,South Carolina,6,Metro,10,2,83.3,T1st,23,6,79.3,auto,Y,0,1,1st,23,7,76.7\\r\\n1989,Southern Miss.,10,Metro,10,2,83.3,T1st,26,4,86.7,at-large,N,0,1,1st,26,5,83.9\\r\\n1989,Stanford,2,Pacific-10,18,0,100,1st,26,2,92.9,auto,Y,2,1,RF,28,3,90.3\\r\\n1989,Temple,8,Atlantic 10,14,4,77.8,3rd,21,9,70,at-large,Y,1,1,2nd,22,10,68.8\\r\\n1989,Tennessee,1,Southeastern,8,1,88.9,2nd,30,2,93.8,auto,Y,5,0,Champ,35,2,94.6\\r\\n1989,Tennessee Tech,11,Ohio Valley,9,3,75,2nd,21,7,75,auto,N,1,1,2nd,22,8,73.3\\r\\n1989,Texas,2,Southwest,16,0,100,1st,25,4,86.2,auto,Y,2,1,RF,27,5,84.4\\r\\n1989,UConn,8,Big East,13,2,86.7,1st,24,5,82.8,auto,Y,0,1,1st,24,6,80\\r\\n1989,UNLV,6,Big West,13,5,72.2,T2nd,25,6,80.6,at-large,Y,2,1,RSF,27,7,79.4\\r\\n1989,Utah,11,High Country,9,1,90,1st,24,5,82.8,auto,N,0,1,1st,24,6,80\\r\\n1989,Vanderbilt,7,Southeastern,5,4,55.6,T4th,21,7,75,at-large,N,0,1,1st,21,8,72.4\\r\\n1989,Villanova,11,Big East,11,5,68.8,2nd,18,11,62.1,at-large,N,0,1,1st,18,12,60\\r\\n1989,Virginia,4,Atlantic Coast,8,6,57.1,4th,20,9,69,at-large,Y,1,1,RSF,21,10,67.7\\r\\n1989,Washington,5,Pacific-10,15,3,83.3,2nd,22,9,71,at-large,Y,1,1,2nd,23,10,69.7\\r\\n1989,West Virginia,12,Atlantic 10,12,6,66.7,T4th,23,7,76.7,auto,N,1,1,2nd,24,8,75\\r\\n1989,Western Ky.,5,Sun Belt,5,1,83.3,T1st,22,8,73.3,auto,Y,0,1,1st,22,9,71\\r\\n1990,Appalachian St.,11,Southern,7,3,70,2nd,20,8,71.4,auto,N,0,1,1st,20,9,69\\r\\n1990,Arkansas,7,Southwest,15,1,93.8,T1st,22,4,84.6,at-large,Y,3,1,RF,25,5,83.3\\r\\n1990,Auburn,2,Southeastern,7,2,77.8,T2nd,24,6,80,auto,Y,4,1,N2nd,28,7,80\\r\\n1990,Bowling Green,12,Mid-American,12,4,75,3rd,22,8,73.3,auto,N,0,1,1st,22,9,71\\r\\n1990,California,11,Pacific-10,9,9,50,T4th,17,11,60.7,at-large,N,0,1,1st,17,12,58.6\\r\\n1990,Clemson,5,Atlantic Coast,10,4,71.4,3rd,20,9,69,at-large,Y,2,1,RSF,22,10,68.8\\r\\n1990,DePaul,8,North Star,10,2,83.3,2nd,21,9,70,at-large,Y,1,1,2nd,22,10,68.8\\r\\n1990,Florida St.,10,Metro,11,3,78.6,T2nd,21,8,72.4,at-large,Y,0,1,1st,21,9,70\\r\\n1990,Georgia,2,Southeastern,6,3,66.7,4th,25,4,86.2,at-large,Y,0,1,2nd,25,5,83.3\\r\\n1990,Hawaii,9,Big West,16,2,88.9,2nd,25,3,89.3,at-large,N,1,1,2nd,26,4,86.7\\r\\n1990,Iowa,3,Big Ten,15,3,83.3,T1st,23,5,82.1,auto,Y,0,1,2nd,23,6,79.3\\r\\n1990,Long Beach St.,6,Pacific Coast,14,4,77.8,3rd,24,7,77.4,at-large,Y,1,1,2nd,25,8,75.8\\r\\n1990,Louisiana Tech,1,American South,10,0,100,1st,29,0,100,auto,Y,3,1,NSF,32,1,97\\r\\n1990,LSU,9,Southeastern,4,5,44.4,T6th,21,8,72.4,at-large,N,0,1,1st,21,9,70\\r\\n1990,Manhattan,12,Metro Atlantic,8,2,80,T1st,18,12,60,auto,N,0,1,1st,18,13,58.1\\r\\n1990,Maryland,6,Atlantic Coast,7,7,50,4th,18,10,64.3,at-large,Y,1,1,2nd,19,11,63.3\\r\\n1990,Michigan,10,Big Ten,11,7,61.1,T4th,19,9,67.9,at-large,N,1,1,2nd,20,10,66.7\\r\\n1990,Montana,8,Big Sky,16,0,100,1st,27,2,93.1,auto,Y,0,1,1st,27,3,90\\r\\n1990,NC State,2,Atlantic Coast,12,2,85.7,1st,24,5,82.8,at-large,Y,1,1,RSF,25,6,80.6\\r\\n1990,Northern Ill.,5,North Star,12,0,100,1st,25,4,86.2,at-large,Y,1,1,2nd,26,5,83.9\\r\\n1990,Northwestern,4,Big Ten,15,3,83.3,T1st,24,4,85.7,at-large,Y,0,1,2nd,24,5,82.8\\r\\n1990,Ohio St.,6,Big Ten,11,7,61.1,T4th,17,11,60.7,at-large,Y,1,1,2nd,18,12,60\\r\\n1990,Oklahoma St.,7,Big Eight,9,5,64.3,T4th,20,10,66.7,auto,Y,0,1,1st,20,11,64.5\\r\\n1990,Old Dominion,8,Sun Belt,4,2,66.7,T1st,20,9,69,auto,Y,1,1,2nd,21,10,67.7\\r\\n1990,Ole Miss,5,Southeastern,7,2,77.8,T2nd,20,9,69,at-large,Y,2,1,RSF,22,10,68.8\\r\\n1990,Penn St.,7,Atlantic 10,15,3,83.3,3rd,24,6,80,auto,N,1,1,2nd,25,7,78.1\\r\\n1990,Providence,3,Big East,14,2,87.5,T1st,26,4,86.7,auto,Y,1,1,RSF,27,5,84.4\\r\\n1990,Purdue,4,Big Ten,14,4,77.8,3rd,22,6,78.6,at-large,Y,1,1,RSF,23,7,76.7\\r\\n1990,Richmond,10,Colonial,11,1,91.7,1st,25,4,86.2,auto,N,0,1,1st,25,5,83.3\\r\\n1990,Rutgers,11,Big East,16,2,88.9,T1st,20,9,69,at-large,N,0,1,1st,20,10,66.7\\r\\n1990,Saint Joseph's,9,Atlantic 10,16,2,88.9,T1st,24,6,80,at-large,N,0,1,1st,24,7,77.4\\r\\n1990,SFA,3,Southland,14,0,100,1st,27,2,93.1,auto,Y,1,1,RSF,28,3,90.3\\r\\n1990,South Carolina,5,Metro,13,1,92.9,1st,22,8,73.3,at-large,Y,2,1,RSF,24,9,72.7\\r\\n1990,Southern Ill.,11,Missouri Valley,16,2,88.9,1st,21,9,70,auto,N,0,1,1st,21,10,67.7\\r\\n1990,Southern Miss.,8,Metro,11,3,78.6,T2nd,26,4,86.7,auto,Y,1,1,2nd,27,5,84.4\\r\\n1990,Stanford,1,Pacific-10,17,1,94.4,T1st,27,1,96.4,auto,Y,5,0,Champ,32,1,97\\r\\n1990,Tennessee,1,Southeastern,8,1,88.9,1st,25,5,83.3,at-large,Y,2,1,RF,27,6,81.8\\r\\n1990,Tennessee Tech,7,Ohio Valley,12,0,100,1st,25,4,86.2,auto,Y,1,1,2nd,26,5,83.9\\r\\n1990,Texas,3,Southwest,15,1,93.8,T1st,25,4,86.2,auto,Y,2,1,RF,27,5,84.4\\r\\n1990,Texas Tech,12,Southwest,11,5,68.8,3rd,19,10,65.5,at-large,N,0,1,1st,19,11,63.3\\r\\n1990,UCLA,10,Pacific-10,12,6,66.7,3rd,17,11,60.7,at-large,N,0,1,1st,17,12,58.6\\r\\n1990,UConn,4,Big East,14,2,87.5,T1st,25,5,83.3,at-large,Y,0,1,2nd,25,6,80.6\\r\\n1990,UNLV,4,Big West,17,1,94.4,1st,27,2,93.1,auto,Y,0,1,2nd,27,3,90\\r\\n1990,Utah,12,Western Athletic,6,4,60,3rd,20,9,69,auto,N,0,1,1st,20,10,66.7\\r\\n1990,Vanderbilt,6,Southeastern,5,4,55.6,5th,21,10,67.7,at-large,Y,2,1,RSF,23,11,67.6\\r\\n1990,Virginia,2,Atlantic Coast,11,3,78.6,2nd,26,5,83.9,auto,Y,3,1,NSF,29,6,82.9\\r\\n1990,Washington,1,Pacific-10,17,1,94.4,T1st,26,2,92.9,at-large,Y,2,1,RF,28,3,90.3\\r\\n1990,Western Ky.,9,Sun Belt,4,2,66.7,T1st,17,11,60.7,at-large,N,0,1,1st,17,12,58.6\\r\\n1991,Appalachian St.,12,Southern,5,5,50,4th,19,13,59.4,auto,N,0,1,1st,19,14,57.6\\r\\n1991,Arkansas,3,Southwest,15,1,93.8,1st,27,3,90,auto,Y,1,1,RSF,28,4,87.5\\r\\n1991,Auburn,3,Southeastern,7,2,77.8,2nd,24,5,82.8,at-large,Y,2,1,RF,26,6,81.3\\r\\n1991,Cal St. Fullerton,7,Big West,14,4,77.8,3rd,24,7,77.4,at-large,Y,1,1,2nd,25,8,75.8\\r\\n1991,Clemson,4,Atlantic Coast,8,6,57.1,4th,20,10,66.7,at-large,Y,2,1,RF,22,11,66.7\\r\\n1991,DePaul,12,North Star,11,3,78.6,3rd,19,11,63.3,auto,N,0,1,1st,19,12,61.3\\r\\n1991,Fairfield,12,Metro Atlantic,15,1,93.8,1st,25,5,83.3,at-large,N,0,1,1st,25,6,80.6\\r\\n1991,Florida St.,5,Metro,12,2,85.7,T1st,24,6,80,auto,Y,1,1,2nd,25,7,78.1\\r\\n1991,George Washington,10,Atlantic 10,15,3,83.3,T2nd,22,6,78.6,at-large,N,1,1,2nd,23,7,76.7\\r\\n1991,Georgia,1,Southeastern,9,0,100,1st,26,3,89.7,at-large,Y,2,1,RF,28,4,87.5\\r\\n1991,Holy Cross,11,Patriot,12,0,100,1st,24,5,82.8,at-large,Y,1,1,2nd,25,6,80.6\\r\\n1991,Iowa,6,Big Ten,13,5,72.2,T2nd,20,8,71.4,at-large,N,1,1,2nd,21,9,70\\r\\n1991,James Madison,8,Colonial,11,1,91.7,T1st,24,4,85.7,at-large,Y,2,1,RSF,26,5,83.9\\r\\n1991,Kentucky,9,Southeastern,4,5,44.4,T5th,20,8,71.4,at-large,N,0,1,1st,20,9,69\\r\\n1991,Lamar,10,American South,12,0,100,1st,26,3,89.7,at-large,N,3,1,RF,29,4,87.9\\r\\n1991,Long Beach St.,4,Big West,15,3,83.3,T1st,23,7,76.7,auto,Y,1,1,RSF,24,8,75\\r\\n1991,Louisiana Tech,10,American South,9,3,75,2nd,18,11,62.1,auto,N,0,1,1st,18,12,60\\r\\n1991,LSU,2,Southeastern,5,4,55.6,4th,24,6,80,auto,N,0,1,2nd,24,7,77.4\\r\\n1991,Maryland,6,Atlantic Coast,9,5,64.3,T2nd,17,12,58.6,at-large,N,0,1,1st,17,13,56.7\\r\\n1991,Michigan St.,4,Big Ten,13,5,72.2,T2nd,21,7,75,at-large,N,0,1,2nd,21,8,72.4\\r\\n1991,Missouri St.,8,Missouri Valley,16,2,88.9,1st,25,4,86.2,auto,Y,1,1,2nd,26,5,83.9\\r\\n1991,Montana,11,Big Sky,16,0,100,1st,26,3,89.7,auto,Y,0,1,1st,26,4,86.7\\r\\n1991,NC State,2,Atlantic Coast,9,5,64.3,T2nd,26,5,83.9,auto,Y,1,1,RSF,27,6,81.8\\r\\n1991,Northwestern,6,Big Ten,12,6,66.7,4th,20,8,71.4,at-large,Y,1,1,2nd,21,9,70\\r\\n1991,Oklahoma St.,5,Big Eight,11,3,78.6,1st,25,5,83.3,auto,Y,2,1,RSF,27,6,81.8\\r\\n1991,Ole Miss,9,Southeastern,4,5,44.4,T5th,20,8,71.4,at-large,N,0,1,1st,20,9,69\\r\\n1991,Penn St.,1,Atlantic 10,17,1,94.4,1st,29,1,96.7,auto,Y,0,1,2nd,29,2,93.5\\r\\n1991,Providence,5,Big East,13,3,81.3,2nd,25,5,83.3,at-large,Y,1,1,2nd,26,6,81.3\\r\\n1991,Purdue,2,Big Ten,17,1,94.4,1st,26,2,92.9,auto,Y,0,1,2nd,26,3,89.7\\r\\n1991,Richmond,7,Colonial,11,1,91.7,T1st,26,4,86.7,auto,Y,0,1,1st,26,5,83.9\\r\\n1991,Rutgers,6,Atlantic 10,15,3,83.3,T2nd,23,6,79.3,at-large,Y,0,1,1st,23,7,76.7\\r\\n1991,SFA,8,Southland,14,0,100,1st,25,4,86.2,auto,Y,1,1,2nd,26,5,83.9\\r\\n1991,South Carolina,7,Metro,12,2,85.7,T1st,22,8,73.3,at-large,N,0,1,1st,22,9,71\\r\\n1991,Southern California,5,Pacific-10,11,7,61.1,3rd,17,11,60.7,at-large,Y,1,1,2nd,18,12,60\\r\\n1991,Stanford,2,Pacific-10,16,2,88.9,1st,23,5,82.1,auto,Y,3,1,NSF,26,6,81.3\\r\\n1991,Tennessee,1,Southeastern,6,3,66.7,3rd,25,5,83.3,at-large,Y,5,0,Champ,30,5,85.7\\r\\n1991,Tennessee Tech,9,Ohio Valley,11,1,91.7,1st,22,7,75.9,auto,N,0,1,1st,22,8,73.3\\r\\n1991,Texas,7,Southwest,14,2,87.5,2nd,21,8,72.4,at-large,Y,0,1,1st,21,9,70\\r\\n1991,Texas Tech,9,Southwest,12,4,75,3rd,23,7,76.7,at-large,N,0,1,1st,23,8,74.2\\r\\n1991,Toledo,11,Mid-American,13,3,81.3,1st,23,6,79.3,auto,N,1,1,2nd,24,7,77.4\\r\\n1991,UConn,3,Big East,14,2,87.5,1st,26,4,86.7,auto,Y,3,1,NSF,29,5,85.3\\r\\n1991,UNLV,8,Big West,15,3,83.3,T1st,24,6,80,at-large,Y,1,1,2nd,25,7,78.1\\r\\n1991,Utah,12,Western Athletic,9,3,75,2nd,20,9,69,auto,N,0,1,1st,20,10,66.7\\r\\n1991,Vanderbilt,10,Southeastern,4,5,44.4,T5th,17,11,60.7,at-large,Y,2,1,RSF,19,12,61.3\\r\\n1991,Virginia,1,Atlantic Coast,14,0,100,1st,27,2,93.1,at-large,Y,4,1,N2nd,31,3,91.2\\r\\n1991,Washington,3,Pacific-10,15,3,83.3,2nd,23,4,85.2,at-large,Y,1,1,RSF,24,5,82.8\\r\\n1991,Washington St.,11,Pacific-10,10,8,55.6,T4th,18,10,64.3,at-large,N,0,1,1st,18,11,62.1\\r\\n1991,Western Ky.,4,Sun Belt,6,0,100,T1st,28,2,93.3,auto,Y,1,1,RSF,29,3,90.6\\r\\n1992,Alabama,5,Southeastern,7,4,63.6,3rd,22,6,78.6,at-large,Y,1,1,2nd,23,7,76.7\\r\\n1992,Arizona St.,6,Pacific-10,11,7,61.1,5th,20,8,71.4,at-large,N,0,1,1st,20,9,69\\r\\n1992,California,5,Pacific-10,12,6,66.7,T3rd,20,8,71.4,at-large,Y,0,1,1st,20,9,69\\r\\n1992,Chattanooga,12,Southern,8,2,80,T1st,18,11,62.1,auto,N,0,1,1st,18,12,60\\r\\n1992,Clemson,5,Atlantic Coast,9,7,56.3,T3rd,20,9,69,at-large,Y,1,1,2nd,21,10,67.7\\r\\n1992,Colorado,7,Big Eight,11,3,78.6,2nd,22,8,73.3,auto,Y,0,1,1st,22,9,71\\r\\n1992,Creighton,7,Western Athletic,13,1,92.9,1st,27,3,90,auto,Y,1,1,2nd,28,4,87.5\\r\\n1992,DePaul,11,Great Midwest,8,2,80,T1st,20,9,69,at-large,Y,1,1,2nd,21,10,67.7\\r\\n1992,George Washington,8,Atlantic 10,11,5,68.8,T2nd,24,6,80,auto,Y,1,1,2nd,25,7,78.1\\r\\n1992,Houston,8,Southwest,10,4,71.4,3rd,22,7,75.9,at-large,N,0,1,1st,22,8,73.3\\r\\n1992,Iowa,1,Big Ten,16,2,88.9,1st,25,3,89.3,auto,Y,0,1,2nd,25,4,86.2\\r\\n1992,Kansas,9,Big Eight,12,2,85.7,1st,25,5,83.3,at-large,N,0,1,1st,25,6,80.6\\r\\n1992,Long Beach St.,10,Big West,13,5,72.2,T2nd,21,9,70,at-large,N,0,1,1st,21,10,67.7\\r\\n1992,Louisiana Tech,6,Sun Belt,12,4,75,T3rd,20,9,69,at-large,N,0,1,1st,20,10,66.7\\r\\n1992,Maryland,2,Atlantic Coast,13,3,81.3,2nd,23,5,82.1,at-large,Y,2,1,RF,25,6,80.6\\r\\n1992,Miami (FL),2,Big East,18,0,100,1st,29,1,96.7,at-large,Y,1,1,RSF,30,2,93.8\\r\\n1992,Missouri St.,8,Missouri Valley,17,1,94.4,1st,27,2,93.1,auto,Y,4,1,NSF,31,3,91.2\\r\\n1992,Montana,11,Big Sky,13,3,81.3,2nd,22,6,78.6,auto,N,1,1,2nd,23,7,76.7\\r\\n1992,North Carolina,7,Atlantic Coast,9,7,56.3,T3rd,21,8,72.4,at-large,Y,1,1,2nd,22,9,71\\r\\n1992,Northern Ill.,11,North Star,8,4,66.7,T2nd,17,13,56.7,auto,Y,1,1,2nd,18,14,56.3\\r\\n1992,Notre Dame,12,Midwestern,8,4,66.7,2nd,14,16,46.7,auto,N,0,1,1st,14,17,45.2\\r\\n1992,Old Dominion,10,Colonial,9,5,64.3,3rd,20,10,66.7,auto,N,0,1,1st,20,11,64.5\\r\\n1992,Ole Miss,2,Southeastern,11,0,100,1st,27,2,93.1,at-large,Y,2,1,RF,29,3,90.6\\r\\n1992,Penn St.,3,Independent,-,-,-,-,23,6,79.3,at-large,Y,1,1,RSF,24,7,77.4\\r\\n1992,Providence,7,Big East,13,5,72.2,T2nd,21,8,72.4,at-large,Y,0,1,1st,21,9,70\\r\\n1992,Purdue,3,Big Ten,14,4,77.8,2nd,22,6,78.6,at-large,Y,1,1,RSF,23,7,76.7\\r\\n1992,Rutgers,8,Atlantic 10,11,5,68.8,T2nd,20,10,66.7,at-large,Y,1,1,2nd,21,11,65.6\\r\\n1992,Saint Peter's,11,Metro Atlantic,13,3,81.3,2nd,24,6,80,auto,N,0,1,1st,24,7,77.4\\r\\n1992,Santa Clara,12,West Coast,10,4,71.4,T1st,20,9,69,auto,N,1,1,2nd,21,10,67.7\\r\\n1992,SFA,2,Southland,17,1,94.4,1st,27,2,93.1,auto,Y,1,1,RSF,28,3,90.3\\r\\n1992,Southern California,3,Pacific-10,14,4,77.8,2nd,21,7,75,at-large,Y,2,1,RF,23,8,74.2\\r\\n1992,Southern Ill.,10,Missouri Valley,15,3,83.3,2nd,22,7,75.9,at-large,N,1,1,2nd,23,8,74.2\\r\\n1992,Southern Miss.,9,Metro,9,3,75,2nd,21,9,70,auto,N,0,1,1st,21,10,67.7\\r\\n1992,Stanford,1,Pacific-10,15,3,83.3,1st,25,3,89.3,auto,Y,5,0,Champ,30,3,90.9\\r\\n1992,Tennessee,1,Southeastern,10,1,90.9,2nd,27,2,93.1,auto,Y,1,1,RSF,28,3,90.3\\r\\n1992,Tennessee Tech,12,Ohio Valley,13,1,92.9,1st,21,8,72.4,auto,N,0,1,1st,21,9,70\\r\\n1992,Texas,4,Southwest,11,3,78.6,2nd,21,9,70,at-large,Y,0,1,2nd,21,10,67.7\\r\\n1992,Texas Tech,4,Southwest,13,1,92.9,1st,26,4,86.7,auto,Y,1,1,RSF,27,5,84.4\\r\\n1992,Toledo,10,Mid-American,15,1,93.8,1st,25,5,83.3,auto,N,1,1,2nd,26,6,81.3\\r\\n1992,UC Santa Barbara,9,Big West,16,2,88.9,1st,26,4,86.7,auto,Y,1,1,2nd,27,5,84.4\\r\\n1992,UCLA,5,Pacific-10,12,6,66.7,T3rd,19,9,67.9,at-large,Y,2,1,RSF,21,10,67.7\\r\\n1992,UConn,6,Big East,13,5,72.2,T2nd,22,10,68.8,at-large,Y,1,1,2nd,23,11,67.6\\r\\n1992,Vanderbilt,3,Southeastern,6,5,54.5,T4th,20,8,71.4,at-large,Y,2,1,RF,22,9,71\\r\\n1992,Vermont,9,North Atlantic,14,0,100,1st,29,0,100,at-large,N,0,1,1st,29,1,96.7\\r\\n1992,Virginia,1,Atlantic Coast,15,1,93.8,1st,29,1,96.7,auto,Y,3,1,NSF,32,2,94.1\\r\\n1992,West Virginia,4,Atlantic 10,16,0,100,1st,25,3,89.3,at-large,Y,1,1,RSF,26,4,86.7\\r\\n1992,Western Ky.,4,Sun Belt,13,3,81.3,T1st,23,7,76.7,auto,Y,4,1,N2nd,27,8,77.1\\r\\n1992,Wisconsin,6,Big Ten,13,5,72.2,3rd,20,8,71.4,at-large,Y,0,1,1st,20,9,69\\r\\n1993,Alabama,5,Southeastern,8,6,57.1,4th,21,8,72.4,at-large,Y,1,1,2nd,22,9,71\\r\\n1993,Auburn,3,Southeastern,9,2,81.8,T2nd,24,3,88.9,at-large,Y,1,1,RSF,25,4,86.2\\r\\n1993,Bowling Green,10,Mid-American,17,1,94.4,1st,25,4,86.2,auto,Y,0,1,1st,25,5,83.3\\r\\n1993,BYU,12,Western Athletic,13,1,92.9,1st,24,4,85.7,auto,N,0,1,1st,24,5,82.8\\r\\n1993,California,9,Pacific-10,10,8,55.6,T4th,18,9,66.7,at-large,N,1,1,2nd,19,10,65.5\\r\\n1993,Clemson,5,Atlantic Coast,8,8,50,T4th,18,10,64.3,at-large,Y,1,1,2nd,19,11,63.3\\r\\n1993,Colorado,4,Big Eight,12,2,85.7,1st,25,3,89.3,at-large,Y,2,1,RF,27,4,87.1\\r\\n1993,DePaul,11,Great Midwest,8,2,80,2nd,20,8,71.4,at-large,N,0,1,1st,20,9,69\\r\\n1993,Florida,7,Southeastern,6,5,54.5,5th,18,9,66.7,at-large,N,1,1,2nd,19,10,65.5\\r\\n1993,Ga. Southern,12,Southern,9,3,75,T2nd,21,8,72.4,auto,N,0,1,1st,21,9,70\\r\\n1993,Georgetown,6,Big East,15,3,83.3,T1st,21,6,77.8,at-large,Y,2,1,RSF,23,7,76.7\\r\\n1993,Georgia,8,Southeastern,4,7,36.4,T8th,20,12,62.5,at-large,Y,1,1,2nd,21,13,61.8\\r\\n1993,Georgia Tech,9,Atlantic Coast,8,8,50,T4th,16,10,61.5,at-large,N,0,1,1st,16,11,59.3\\r\\n1993,Iowa,2,Big Ten,16,2,88.9,T1st,24,3,88.9,at-large,N,3,1,NSF,27,4,87.1\\r\\n1993,Kansas,8,Big Eight,9,5,64.3,T3rd,21,8,72.4,auto,Y,0,1,1st,21,9,70\\r\\n1993,Louisiana Tech,6,Sun Belt,13,1,92.9,T1st,23,5,82.1,at-large,Y,3,1,RF,26,6,81.3\\r\\n1993,Louisville,11,Metro,7,5,58.3,3rd,18,11,62.1,auto,N,1,1,2nd,19,12,61.3\\r\\n1993,Maryland,2,Atlantic Coast,11,5,68.8,T2nd,22,7,75.9,at-large,Y,0,1,2nd,22,8,73.3\\r\\n1993,Miami (FL),5,Big East,15,3,83.3,T1st,23,6,79.3,auto,Y,1,1,2nd,24,7,77.4\\r\\n1993,Missouri St.,10,Missouri Valley,14,2,87.5,1st,21,8,72.4,auto,Y,2,1,RSF,23,9,71.9\\r\\n1993,Montana St.,7,Big Sky,13,1,92.9,T1st,22,6,78.6,auto,N,0,1,1st,22,7,75.9\\r\\n1993,Nebraska,6,Big Eight,10,4,71.4,2nd,22,7,75.9,at-large,Y,1,1,2nd,23,8,74.2\\r\\n1993,North Carolina,4,Atlantic Coast,11,5,68.8,T2nd,22,6,78.6,at-large,Y,1,1,RSF,23,7,76.7\\r\\n1993,Northern Ill.,11,Mid-Continent,15,1,93.8,1st,24,5,82.8,auto,N,0,1,1st,24,6,80\\r\\n1993,Northwestern,8,Big Ten,13,5,72.2,4th,18,9,66.7,at-large,Y,1,1,2nd,19,10,65.5\\r\\n1993,Ohio St.,1,Big Ten,16,2,88.9,T1st,24,3,88.9,auto,Y,4,1,N2nd,28,4,87.5\\r\\n1993,Oklahoma St.,7,Big Eight,9,5,64.3,T3rd,23,8,74.2,at-large,N,0,1,1st,23,9,71.9\\r\\n1993,Old Dominion,10,Colonial,14,0,100,1st,21,7,75,auto,Y,1,1,2nd,22,8,73.3\\r\\n1993,Penn St.,3,Big Ten,14,4,77.8,3rd,22,5,81.5,at-large,Y,0,1,2nd,22,6,78.6\\r\\n1993,Rutgers,9,Atlantic 10,12,2,85.7,1st,21,8,72.4,auto,N,1,1,2nd,22,9,71\\r\\n1993,Saint Peter's,12,Metro Atlantic,9,5,64.3,T1st,18,10,64.3,auto,N,0,1,1st,18,11,62.1\\r\\n1993,San Diego,11,West Coast,8,6,57.1,2nd,16,11,59.3,auto,N,0,1,1st,16,12,57.1\\r\\n1993,San Diego St.,9,Western Athletic,9,5,64.3,T2nd,19,8,70.4,at-large,N,0,1,1st,19,9,67.9\\r\\n1993,SFA,4,Southland,17,1,94.4,1st,27,4,87.1,auto,Y,1,1,RSF,28,5,84.8\\r\\n1993,Southern California,3,Pacific-10,14,4,77.8,2nd,21,6,77.8,at-large,Y,1,1,RSF,22,7,75.9\\r\\n1993,Stanford,1,Pacific-10,15,3,83.3,1st,25,5,83.3,auto,Y,1,1,RSF,26,6,81.3\\r\\n1993,Tennessee,1,Southeastern,11,0,100,1st,27,2,93.1,at-large,Y,2,1,RF,29,3,90.6\\r\\n1993,Tennessee Tech,7,Ohio Valley,14,2,87.5,1st,22,6,78.6,auto,N,0,1,1st,22,7,75.9\\r\\n1993,Texas,3,Southwest,13,1,92.9,T1st,22,7,75.9,at-large,Y,0,1,2nd,22,8,73.3\\r\\n1993,Texas Tech,2,Southwest,13,1,92.9,T1st,26,3,89.7,auto,Y,5,0,Champ,31,3,91.2\\r\\n1993,UC Santa Barbara,5,Big West,13,5,72.2,3rd,18,11,62.1,auto,Y,1,1,2nd,19,12,61.3\\r\\n1993,UConn,6,Big East,12,6,66.7,3rd,18,10,64.3,at-large,Y,0,1,1st,18,11,62.1\\r\\n1993,Vanderbilt,1,Southeastern,9,2,81.8,T2nd,27,2,93.1,auto,Y,3,1,NSF,30,3,90.9\\r\\n1993,Vermont,8,North Atlantic,14,0,100,1st,28,0,100,at-large,Y,0,1,1st,28,1,96.6\\r\\n1993,Virginia,2,Atlantic Coast,13,3,81.3,1st,24,5,82.8,auto,Y,2,1,RF,26,6,81.3\\r\\n1993,Washington,10,Pacific-10,11,7,61.1,3rd,16,11,59.3,at-large,Y,1,1,2nd,17,12,58.6\\r\\n1993,Western Ky.,4,Sun Belt,13,1,92.9,T1st,23,6,79.3,auto,Y,1,1,RSF,24,7,77.4\\r\\n1993,Xavier,12,Midwestern,11,5,68.8,T2nd,21,8,72.4,auto,N,0,1,1st,21,9,70\\r\\n1994,Alabama,6,Southeastern,7,4,63.6,T4th,22,6,78.6,at-large,Y,4,1,NSF,26,7,78.8\\r\\n1994,Auburn,9,Southeastern,6,5,54.5,6th,19,9,67.9,at-large,N,1,1,2nd,20,10,66.7\\r\\n1994,Boise St.,9,Big Sky,12,2,85.7,T1st,23,5,82.1,at-large,N,0,1,1st,23,6,79.3\\r\\n1994,Bowling Green,7,Mid-American,17,1,94.4,1st,26,3,89.7,auto,Y,0,1,1st,26,4,86.7\\r\\n1994,Brown,16,Ivy,11,3,78.6,T1st,18,9,66.7,auto,N,0,1,1st,18,10,64.3\\r\\n1994,Clemson,9,Atlantic Coast,11,5,68.8,3rd,19,9,67.9,at-large,N,1,1,2nd,20,10,66.7\\r\\n1994,Colorado,3,Big Eight,12,2,85.7,1st,25,4,86.2,at-large,Y,2,1,RSF,27,5,84.4\\r\\n1994,Creighton,10,Missouri Valley,14,2,87.5,2nd,23,6,79.3,at-large,N,1,1,2nd,24,7,77.4\\r\\n1994,FIU,8,Trans America,11,1,91.7,1st,25,3,89.3,auto,Y,0,1,1st,25,4,86.2\\r\\n1994,Florida,4,Southeastern,8,3,72.7,3rd,22,6,78.6,at-large,N,0,1,1st,22,7,75.9\\r\\n1994,Fordham,16,Patriot,11,3,78.6,1st,21,8,72.4,auto,N,0,1,1st,21,9,70\\r\\n1994,Ga. Southern,14,Southern,11,2,84.6,1st,21,8,72.4,auto,N,0,1,1st,21,9,70\\r\\n1994,George Washington,7,Atlantic 10,13,3,81.3,T1st,22,7,75.9,at-large,Y,1,1,2nd,23,8,74.2\\r\\n1994,Grambling,15,Southwestern,11,3,78.6,T2nd,23,6,79.3,auto,N,0,1,1st,23,7,76.7\\r\\n1994,Green Bay,15,Mid-Continent,13,5,72.2,2nd,18,10,64.3,auto,N,0,1,1st,18,11,62.1\\r\\n1994,Hawaii,12,Big West,16,2,88.9,1st,25,4,86.2,at-large,N,0,1,1st,25,5,83.3\\r\\n1994,Indiana,12,Big Ten,10,8,55.6,T4th,19,8,70.4,at-large,N,0,1,1st,19,9,67.9\\r\\n1994,Iowa,3,Big Ten,13,5,72.2,3rd,20,6,76.9,at-large,Y,1,1,2nd,21,7,75\\r\\n1994,Kansas,9,Big Eight,11,3,78.6,2nd,21,5,80.8,at-large,N,1,1,2nd,22,6,78.6\\r\\n1994,Louisiana Tech,4,Sun Belt,14,0,100,1st,26,3,89.7,auto,Y,5,1,N2nd,31,4,88.6\\r\\n1994,Loyola (MD),14,Metro Atlantic,12,2,85.7,2nd,18,10,64.3,auto,N,0,1,1st,18,11,62.1\\r\\n1994,Marquette,14,Great Midwest,10,2,83.3,2nd,22,6,78.6,at-large,N,0,1,1st,22,7,75.9\\r\\n1994,Minnesota,10,Big Ten,10,8,55.6,T4th,17,10,63,at-large,N,1,1,2nd,18,11,62.1\\r\\n1994,Missouri,15,Big Eight,3,11,21.4,T7th,12,17,41.4,auto,N,0,1,1st,12,18,40\\r\\n1994,Missouri St.,6,Missouri Valley,15,1,93.8,1st,23,5,82.1,auto,Y,1,1,2nd,24,6,80\\r\\n1994,Montana,7,Big Sky,12,2,85.7,T1st,24,4,85.7,auto,Y,1,1,2nd,25,5,83.3\\r\\n1994,Mt. St. Mary's,14,Northeast,18,0,100,1st,25,3,89.3,auto,N,0,1,1st,25,4,86.2\\r\\n1994,N.C. A&T,16,Mid-Eastern,11,5,68.8,T3rd,19,10,65.5,auto,N,0,1,1st,19,11,63.3\\r\\n1994,North Carolina,3,Atlantic Coast,14,2,87.5,2nd,27,2,93.1,auto,Y,6,0,Champ,33,2,94.3\\r\\n1994,Northern Ill.,11,Mid-Continent,18,0,100,1st,24,5,82.8,at-large,N,0,1,1st,24,6,80\\r\\n1994,Notre Dame,7,Midwestern,10,2,83.3,1st,22,6,78.6,auto,Y,0,1,1st,22,7,75.9\\r\\n1994,Oklahoma St.,12,Big Eight,9,5,64.3,3rd,20,8,71.4,at-large,N,0,1,1st,20,9,69\\r\\n1994,Old Dominion,6,Colonial,14,0,100,1st,24,5,82.8,auto,Y,1,1,2nd,25,6,80.6\\r\\n1994,Ole Miss,5,Southeastern,7,4,63.6,T4th,23,8,74.2,at-large,Y,1,1,2nd,24,9,72.7\\r\\n1994,Oregon,6,Pacific-10,13,5,72.2,3rd,19,8,70.4,at-large,Y,1,1,2nd,20,9,69\\r\\n1994,Oregon St.,11,Pacific-10,9,9,50,6th,17,10,63,at-large,N,0,1,1st,17,11,60.7\\r\\n1994,Penn St.,1,Big Ten,16,2,88.9,T1st,25,2,92.6,auto,Y,3,1,RF,28,3,90.3\\r\\n1994,Portland,15,West Coast,7,7,50,4th,17,11,60.7,auto,N,0,1,1st,17,12,58.6\\r\\n1994,Purdue,1,Big Ten,16,2,88.9,T1st,25,4,86.2,at-large,Y,4,1,NSF,29,5,85.3\\r\\n1994,Radford,16,Big South,12,6,66.7,T2nd,18,11,62.1,auto,N,0,1,1st,18,12,60\\r\\n1994,Rutgers,5,Atlantic 10,13,3,81.3,T1st,22,7,75.9,auto,Y,0,1,1st,22,8,73.3\\r\\n1994,Saint Joseph's,11,Atlantic 10,11,5,68.8,3rd,19,8,70.4,at-large,N,0,1,1st,19,9,67.9\\r\\n1994,San Diego St.,5,Western Athletic,13,1,92.9,1st,25,4,86.2,auto,Y,1,1,2nd,26,5,83.9\\r\\n1994,Santa Clara,11,West Coast,11,3,78.6,1st,21,6,77.8,at-large,N,0,1,1st,21,7,75\\r\\n1994,Seton Hall,4,Big East,16,2,88.9,2nd,25,4,86.2,at-large,Y,2,1,RSF,27,5,84.4\\r\\n1994,SFA,8,Southland,16,2,88.9,1st,23,6,79.3,auto,Y,0,1,1st,23,7,76.7\\r\\n1994,SMU,13,Southwest,8,6,57.1,4th,18,8,69.2,at-large,N,0,1,1st,18,9,66.7\\r\\n1994,Southern California,2,Pacific-10,16,2,88.9,1st,23,3,88.5,auto,Y,3,1,RF,26,4,86.7\\r\\n1994,Southern Miss.,4,Metro,10,2,83.3,1st,24,4,85.7,at-large,Y,2,1,RSF,26,5,83.9\\r\\n1994,Stanford,2,Pacific-10,15,3,83.3,2nd,22,5,81.5,at-large,Y,3,1,RF,25,6,80.6\\r\\n1994,Tennessee,1,Southeastern,11,0,100,1st,29,1,96.7,auto,Y,2,1,RSF,31,2,93.9\\r\\n1994,Tennessee St.,13,Ohio Valley,13,3,81.3,1st,20,8,71.4,auto,N,0,1,1st,20,9,69\\r\\n1994,Texas,5,Southwest,10,4,71.4,3rd,21,8,72.4,auto,Y,1,1,2nd,22,9,71\\r\\n1994,Texas A&M,13,Southwest,11,3,78.6,2nd,21,7,75,at-large,Y,2,1,RSF,23,8,74.2\\r\\n1994,Texas Tech,2,Southwest,12,2,85.7,1st,26,4,86.7,at-large,Y,2,1,RSF,28,5,84.8\\r\\n1994,UAB,10,Great Midwest,12,0,100,1st,23,5,82.1,auto,N,0,1,1st,23,6,79.3\\r\\n1994,UConn,1,Big East,17,1,94.4,1st,27,2,93.1,auto,Y,3,1,RF,30,3,90.9\\r\\n1994,UNLV,10,Big West,14,4,77.8,T2nd,23,6,79.3,auto,N,0,1,1st,23,7,76.7\\r\\n1994,Vanderbilt,2,Southeastern,9,2,81.8,2nd,23,7,76.7,at-large,Y,2,1,RSF,25,8,75.8\\r\\n1994,Vermont,13,North Atlantic,9,5,64.3,3rd,19,10,65.5,auto,N,0,1,1st,19,11,63.3\\r\\n1994,Virginia,3,Atlantic Coast,15,1,93.8,1st,25,4,86.2,at-large,Y,2,1,RSF,27,5,84.4\\r\\n1994,Virginia Tech,8,Metro,9,3,75,2nd,24,5,82.8,auto,Y,0,1,1st,24,6,80\\r\\n1994,Washington,8,Pacific-10,12,6,66.7,4th,20,7,74.1,at-large,Y,1,1,2nd,21,8,72.4\\r\\n1994,Western Ky.,12,Sun Belt,11,3,78.6,2nd,23,9,71.9,at-large,N,1,1,2nd,24,10,70.6\\\\\\r\\n1995,Alabama,4,Southeastern,7,4,63.6,T4th,20,8,71.4,at-large,Y,2,1,RSF,22,9,71\\r\\n1995,Arkansas,6,Southeastern,7,4,63.6,T4th,22,6,78.6,at-large,N,1,1,2nd,23,7,76.7\\r\\n1995,Colorado,1,Big Eight,14,0,100,1st,27,2,93.1,auto,Y,3,1,RF,30,3,90.9\\r\\n1995,Dartmouth,14,Ivy,12,2,85.7,1st,16,10,61.5,auto,N,0,1,1st,16,11,59.3\\r\\n1995,DePaul,13,Great Midwest,9,3,75,T2nd,20,8,71.4,at-large,N,0,1,1st,20,9,69\\r\\n1995,Drake,5,Missouri Valley,13,5,72.2,T2nd,24,5,82.8,auto,N,1,1,2nd,25,6,80.6\\r\\n1995,Duke,5,Atlantic Coast,10,6,62.5,4th,21,8,72.4,at-large,N,1,1,2nd,22,9,71\\r\\n1995,FIU,9,Sun Belt,15,1,93.8,1st,26,4,86.7,auto,N,1,1,2nd,27,5,84.4\\r\\n1995,Florida,6,Southeastern,7,4,63.6,T4th,23,8,74.2,at-large,N,1,1,2nd,24,9,72.7\\r\\n1995,Florida A&M,16,Mid-Eastern,14,2,87.5,1st,24,5,82.8,auto,N,0,1,1st,24,6,80\\r\\n1995,Furman,15,Southern,10,4,71.4,T2nd,18,11,62.1,auto,N,0,1,1st,18,12,60\\r\\n1995,George Washington,4,Atlantic 10,14,2,87.5,1st,24,5,82.8,auto,N,2,1,RSF,26,6,81.3\\r\\n1995,Georgia,3,Southeastern,8,3,72.7,T2nd,24,4,85.7,at-large,Y,4,1,NSF,28,5,84.8\\r\\n1995,Holy Cross,16,Patriot,12,2,85.7,1st,21,8,72.4,auto,N,0,1,1st,21,9,70\\r\\n1995,Indiana,14,Big Ten,8,8,50,T5th,19,9,67.9,at-large,N,0,1,1st,19,10,65.5\\r\\n1995,Jackson St.,15,Southwestern,12,2,85.7,T1st,22,5,81.5,auto,N,0,1,1st,22,6,78.6\\r\\n1995,Kansas,7,Big Eight,8,6,57.1,3rd,20,10,66.7,at-large,N,0,1,1st,20,11,64.5\\r\\n1995,Louisiana Tech,2,Sun Belt,13,1,92.9,1st,26,4,86.7,at-large,Y,2,1,RSF,28,5,84.8\\r\\n1995,Louisville,11,Metro,7,5,58.3,T3rd,24,7,77.4,at-large,N,1,1,2nd,25,8,75.8\\r\\n1995,Loyola (MD),10,Metro Atlantic,7,6,53.8,4th,20,8,71.4,auto,N,0,1,1st,20,9,69\\r\\n1995,Maine,16,North Atlantic,14,2,87.5,1st,24,5,82.8,auto,N,0,1,1st,24,6,80\\r\\n1995,Marquette,10,Great Midwest,9,3,75,T2nd,19,11,63.3,auto,N,0,1,1st,19,12,61.3\\r\\n1995,Memphis,8,Great Midwest,10,2,83.3,1st,21,7,75,at-large,N,1,1,2nd,22,8,73.3\\r\\n1995,Missouri St.,9,Missouri Valley,14,4,77.8,1st,20,11,64.5,at-large,N,1,1,2nd,21,12,63.6\\r\\n1995,Montana,12,Big Sky,12,2,85.7,1st,25,6,80.6,auto,N,1,1,2nd,26,7,78.8\\r\\n1995,Mt. St. Mary's,13,Northeast,17,1,94.4,1st,24,5,82.8,auto,N,0,1,1st,24,6,80\\r\\n1995,NC State,7,Atlantic Coast,11,5,68.8,3rd,19,9,67.9,at-large,N,2,1,RSF,21,10,67.7\\r\\n1995,North Carolina,3,Atlantic Coast,12,4,75,2nd,28,4,87.5,auto,Y,2,1,RSF,30,5,85.7\\r\\n1995,Northern Ill.,16,Midwestern,10,6,62.5,T4th,17,13,56.7,auto,N,0,1,1st,17,14,54.8\\r\\n1995,Ohio,14,Mid-American,15,3,83.3,T1st,23,6,79.3,at-large,N,0,1,1st,23,7,76.7\\r\\n1995,Oklahoma,7,Big Eight,11,3,78.6,2nd,21,8,72.4,at-large,N,1,1,2nd,22,9,71\\r\\n1995,Oklahoma St.,12,Big Eight,7,7,50,4th,17,11,60.7,at-large,N,0,1,1st,17,12,58.6\\r\\n1995,Old Dominion,8,Colonial,13,1,92.9,T1st,27,5,84.4,auto,N,0,1,1st,27,6,81.8\\r\\n1995,Ole Miss,12,Southeastern,6,5,54.5,7th,21,7,75,at-large,N,0,1,1st,21,8,72.4\\r\\n1995,Oregon,6,Pacific-10,11,7,61.1,4th,18,9,66.7,at-large,N,0,1,1st,18,10,64.3\\r\\n1995,Oregon St.,5,Pacific-10,12,6,66.7,3rd,20,7,74.1,at-large,N,1,1,2nd,21,8,72.4\\r\\n1995,Penn St.,2,Big Ten,13,3,81.3,T1st,25,4,86.2,auto,Y,1,1,2nd,26,5,83.9\\r\\n1995,Portland,13,West Coast,12,2,85.7,2nd,23,6,79.3,at-large,N,0,1,1st,23,7,76.7\\r\\n1995,Purdue,4,Big Ten,13,3,81.3,T1st,21,7,75,at-large,N,3,1,RF,24,8,75\\r\\n1995,Radford,11,Big South,10,6,62.5,3rd,15,14,51.7,auto,N,0,1,1st,15,15,50\\r\\n1995,Saint Joseph's,9,Atlantic 10,11,5,68.8,T3rd,20,8,71.4,at-large,N,0,1,1st,20,9,69\\r\\n1995,San Diego St.,5,Western Athletic,14,0,100,1st,24,5,82.8,at-large,Y,0,1,1st,24,6,80\\r\\n1995,San Francisco,11,West Coast,13,1,92.9,1st,24,4,85.7,auto,N,0,1,1st,24,5,82.8\\r\\n1995,Seton Hall,6,Big East,12,6,66.7,3rd,23,8,74.2,at-large,N,1,1,2nd,24,9,72.7\\r\\n1995,SFA,11,Southland,15,3,83.3,2nd,22,7,75.9,auto,N,0,1,1st,22,8,73.3\\r\\n1995,SMU,10,Southwest,9,5,64.3,T2nd,20,9,69,at-large,N,1,1,2nd,21,10,67.7\\r\\n1995,Southern California,9,Pacific-10,10,8,55.6,5th,18,9,66.7,at-large,N,0,1,1st,18,10,64.3\\r\\n1995,Southern Miss.,7,Metro,7,5,58.3,T3rd,21,8,72.4,auto,N,0,1,1st,21,9,70\\r\\n1995,Stanford,2,Pacific-10,17,1,94.4,1st,26,2,92.9,auto,Y,4,1,NSF,30,3,90.9\\r\\n1995,Tennessee,1,Southeastern,11,0,100,1st,29,2,93.5,at-large,Y,5,1,N2nd,34,3,91.9\\r\\n1995,Tennessee St.,12,Ohio Valley,12,4,75,T1st,22,6,78.6,auto,N,0,1,1st,22,7,75.9\\r\\n1995,Texas Tech,2,Southwest,13,1,92.9,1st,30,3,90.9,auto,Y,3,1,RF,33,4,89.2\\r\\n1995,Toledo,13,Mid-American,15,3,83.3,T1st,24,6,80,auto,N,0,1,1st,24,7,77.4\\r\\n1995,Tulane,15,Metro,9,3,75,2nd,19,9,67.9,at-large,N,0,1,1st,19,10,65.5\\r\\n1995,UC Irvine,15,Big West,12,6,66.7,3rd,19,10,65.5,auto,N,0,1,1st,19,11,63.3\\r\\n1995,UConn,1,Big East,18,0,100,1st,29,0,100,auto,Y,6,0,Champ,35,0,100\\r\\n1995,Utah,8,Western Athletic,12,2,85.7,2nd,23,6,79.3,auto,N,0,1,1st,23,7,76.7\\r\\n1995,Vanderbilt,1,Southeastern,8,3,72.7,T2nd,26,6,81.3,auto,Y,2,1,RSF,28,7,80\\r\\n1995,Virginia,3,Atlantic Coast,16,0,100,1st,24,4,85.7,at-large,Y,3,1,RF,27,5,84.4\\r\\n1995,Virginia Tech,8,Metro,10,2,83.3,1st,21,8,72.4,at-large,N,1,1,2nd,22,9,71\\r\\n1995,Washington,3,Pacific-10,13,5,72.2,2nd,23,8,74.2,at-large,Y,2,1,RSF,25,9,73.5\\r\\n1995,Western Ill.,14,Mid-Continent,14,4,77.8,T1st,17,11,60.7,auto,N,0,1,1st,17,12,58.6\\r\\n1995,Western Ky.,4,Sun Belt,12,2,85.7,2nd,26,3,89.7,auto,Y,2,1,RSF,28,4,87.5\\r\\n1995,Wisconsin,10,Big Ten,11,5,68.8,3rd,19,8,70.4,at-large,N,1,1,2nd,20,9,69\\r\\n1996,Alabama,4,Southeastern,7,4,63.6,T3rd,22,7,75.9,at-large,Y,2,1,RSF,24,8,75\\r\\n1996,Appalachian St.,13,Southern,14,0,100,1st,24,5,82.8,auto,N,0,1,1st,24,6,80\\r\\n1996,Auburn,6,Southeastern,6,5,54.5,T5th,20,8,71.4,at-large,N,3,1,RF,23,9,71.9\\r\\n1996,Austin Peay,14,Ohio Valley,13,3,81.3,T1st,21,7,75,auto,N,0,1,1st,21,8,72.4\\r\\n1996,Butler,15,Midwestern,13,3,81.3,T2nd,21,8,72.4,auto,N,0,1,1st,21,9,70\\r\\n1996,Clemson,3,Atlantic Coast,9,7,56.3,4th,22,7,75.9,auto,Y,1,1,2nd,23,8,74.2\\r\\n1996,Colorado,3,Big Eight,9,5,64.3,2nd,25,8,75.8,auto,Y,1,1,2nd,26,9,74.3\\r\\n1996,Colorado St.,8,Western Athletic,12,2,85.7,T1st,25,4,86.2,auto,N,1,1,2nd,26,5,83.9\\r\\n1996,DePaul,7,Conference USA,13,1,92.9,1st-B,20,9,69,at-large,N,1,1,2nd,21,10,67.7\\r\\n1996,Duke,4,Atlantic Coast,12,4,75,2nd,25,6,80.6,at-large,Y,1,1,2nd,26,7,78.8\\r\\n1996,Florida,5,Southeastern,6,5,54.5,T5th,21,8,72.4,at-large,N,0,1,1st,21,9,70\\r\\n1996,George Washington,6,Atlantic 10,14,2,87.5,1st-W,25,6,80.6,at-large,N,1,1,2nd,26,7,78.8\\r\\n1996,Georgia,2,Southeastern,10,1,90.9,1st,23,4,85.2,at-large,Y,5,1,N2nd,28,5,84.8\\r\\n1996,Grambling,16,Southwestern,13,1,92.9,1st,21,6,77.8,auto,N,0,1,1st,21,7,75\\r\\n1996,Harvard,14,Ivy,13,1,92.9,1st,20,6,76.9,auto,N,0,1,1st,20,7,74.1\\r\\n1996,Hawaii,11,Big West,15,3,83.3,2nd,23,5,82.1,auto,N,0,1,1st,23,6,79.3\\r\\n1996,Holy Cross,15,Patriot,9,3,75,2nd,23,9,71.9,auto,N,0,1,1st,23,10,69.7\\r\\n1996,Howard,16,Mid-Eastern,13,3,81.3,2nd,20,9,69,auto,N,0,1,1st,20,10,66.7\\r\\n1996,Iowa,2,Big Ten,15,1,93.8,1st,25,3,89.3,at-large,Y,2,1,RSF,27,4,87.1\\r\\n1996,James Madison,13,Colonial,12,4,75,2nd,21,8,72.4,at-large,N,0,1,1st,21,9,70\\r\\n1996,Kansas,4,Big Eight,11,3,78.6,1st,20,9,69,at-large,Y,2,1,RSF,22,10,68.8\\r\\n1996,Kent St.,10,Mid-American,16,2,88.9,1st,23,6,79.3,at-large,N,1,1,2nd,24,7,77.4\\r\\n1996,Louisiana Tech,1,Sun Belt,14,0,100,1st,28,1,96.6,auto,Y,3,1,RF,31,2,93.9\\r\\n1996,Maine,11,North Atlantic,18,0,100,1st,27,4,87.1,auto,N,0,1,1st,27,5,84.4\\r\\n1996,Manhattan,14,Metro Atlantic,11,3,78.6,2nd,19,10,65.5,auto,N,0,1,1st,19,11,63.3\\r\\n1996,Massachusetts,8,Atlantic 10,11,5,68.8,2nd-E,20,9,69,at-large,N,0,1,1st,20,10,66.7\\r\\n1996,Memphis,8,Conference USA,10,4,71.4,1st-W,20,10,66.7,auto,N,0,1,1st,20,11,64.5\\r\\n1996,Michigan St.,9,Big Ten,9,7,56.3,5th,17,10,63,at-large,N,1,1,2nd,18,11,62.1\\r\\n1996,Middle Tenn.,13,Ohio Valley,13,3,81.3,T1st,24,5,82.8,at-large,N,0,1,1st,24,6,80\\r\\n1996,Missouri St.,12,Missouri Valley,16,2,88.9,1st,25,4,86.2,auto,N,0,1,1st,25,5,83.3\\r\\n1996,Montana,12,Big Sky,13,1,92.9,1st,24,4,85.7,auto,N,0,1,1st,24,5,82.8\\r\\n1996,NC State,5,Atlantic Coast,10,6,62.5,3rd,19,9,67.9,at-large,N,1,1,2nd,20,10,66.7\\r\\n1996,Nebraska,9,Big Eight,8,6,57.1,T3rd,19,9,67.9,at-large,N,0,1,1st,19,10,65.5\\r\\n1996,Notre Dame,12,Big East,15,3,83.3,2nd-6,22,7,75.9,at-large,N,1,1,2nd,23,8,74.2\\r\\n1996,Ohio St.,9,Big Ten,8,8,50,T6th,20,12,62.5,at-large,N,1,1,2nd,21,13,61.8\\r\\n1996,Oklahoma St.,7,Big Eight,8,6,57.1,T3rd,19,9,67.9,at-large,N,1,1,2nd,20,10,66.7\\r\\n1996,Old Dominion,2,Colonial,16,0,100,1st,27,2,93.1,auto,Y,2,1,RSF,29,3,90.6\\r\\n1996,Ole Miss,7,Southeastern,6,5,54.5,T5th,18,10,64.3,at-large,N,0,1,1st,18,11,62.1\\r\\n1996,Oregon,11,Pacific-10,10,8,55.6,T3rd,18,10,64.3,at-large,N,0,1,1st,18,11,62.1\\r\\n1996,Oregon St.,6,Pacific-10,11,7,61.1,2nd,19,10,65.5,at-large,N,0,1,1st,19,11,63.3\\r\\n1996,Penn St.,2,Big Ten,13,3,81.3,2nd,25,6,80.6,auto,Y,2,1,RSF,27,7,79.4\\r\\n1996,Portland,13,West Coast,12,2,85.7,T1st,23,6,79.3,at-large,N,0,1,1st,23,7,76.7\\r\\n1996,Purdue,5,Big Ten,11,5,68.8,4th,20,10,66.7,at-large,N,0,1,1st,20,11,64.5\\r\\n1996,Radford,16,Big South,10,4,71.4,2nd,17,11,60.7,auto,N,0,1,1st,17,12,58.6\\r\\n1996,Rhode Island,10,Atlantic 10,13,3,81.3,1st-E,21,7,75,at-large,N,0,1,1st,21,8,72.4\\r\\n1996,San Francisco,12,West Coast,12,2,85.7,T1st,22,7,75.9,auto,N,2,1,RSF,24,8,75\\r\\n1996,SFA,11,Southland,18,0,100,1st,25,3,89.3,auto,N,2,1,RSF,27,4,87.1\\r\\n1996,SMU,10,Southwest,9,5,64.3,3rd,19,10,65.5,at-large,N,0,1,1st,19,11,63.3\\r\\n1996,Southern Miss.,9,Conference USA,11,3,78.6,1st-R,21,7,75,at-large,N,1,1,2nd,22,8,73.3\\r\\n1996,St. Francis (PA),15,Northeast,13,5,72.2,2nd,19,10,65.5,auto,N,0,1,1st,19,11,63.3\\r\\n1996,Stanford,1,Pacific-10,18,0,100,1st,25,2,92.6,auto,Y,4,1,NSF,29,3,90.6\\r\\n1996,Tennessee,1,Southeastern,9,2,81.8,2nd,26,4,86.7,auto,Y,6,0,Champ,32,4,88.9\\r\\n1996,Texas,5,Southwest,13,1,92.9,T1st,20,8,71.4,at-large,N,1,1,2nd,21,9,70\\r\\n1996,Texas A&M,7,Southwest,8,6,57.1,4th,20,11,64.5,auto,N,0,1,1st,20,12,62.5\\r\\n1996,Texas Tech,4,Southwest,13,1,92.9,T1st,25,4,86.2,at-large,Y,2,1,RSF,27,5,84.4\\r\\n1996,Toledo,10,Mid-American,15,3,83.3,2nd,24,5,82.8,auto,N,1,1,2nd,25,6,80.6\\r\\n1996,Tulane,14,Conference USA,9,5,64.3,T2nd-W,21,9,70,at-large,N,0,1,1st,21,10,67.7\\r\\n1996,UCF,16,Trans-America,7,8,46.7,6th,15,13,53.6,auto,N,0,1,1st,15,14,51.7\\r\\n1996,UConn,1,Big East,17,1,94.4,1st-6,30,3,90.9,auto,Y,4,1,NSF,34,4,89.5\\r\\n1996,Utah,8,Western Athletic,12,2,85.7,T1st,21,7,75,at-large,N,0,1,1st,21,8,72.4\\r\\n1996,Vanderbilt,3,Southeastern,7,4,63.6,T3rd,20,7,74.1,at-large,Y,3,1,RF,23,8,74.2\\r\\n1996,Virginia,3,Atlantic Coast,13,3,81.3,1st,23,6,79.3,at-large,Y,3,1,RF,26,7,78.8\\r\\n1996,Wisconsin,6,Big Ten,12,4,75,3rd,21,7,75,at-large,N,1,1,2nd,22,8,73.3\\r\\n1996,Youngstown St.,15,Mid-Continent,14,4,77.8,1st,20,8,71.4,auto,N,0,1,1st,20,9,69\\r\\n1997,Alabama,2,Southeastern,10,2,83.3,2nd,23,6,79.3,at-large,Y,2,1,RSF,25,7,78.1\\r\\n1997,Arizona,7,Pacific-10,12,6,66.7,T4th,22,7,75.9,at-large,N,1,1,2nd,23,8,74.2\\r\\n1997,Auburn,7,Southeastern,5,7,41.7,T7th,21,9,70,auto,N,1,1,2nd,22,10,68.8\\r\\n1997,Clemson,5,Atlantic Coast,8,8,50,6th,19,10,65.5,at-large,N,0,1,1st,19,11,63.3\\r\\n1997,Colorado,2,Big 12,12,4,75,T2nd,21,8,72.4,auto,Y,2,1,RSF,23,9,71.9\\r\\n1997,DePaul,12,Conference USA,10,4,71.4,T1st-B,20,8,71.4,at-large,N,0,1,1st,20,9,69\\r\\n1997,Detroit Mercy,14,Midwestern,14,2,87.5,1st,23,6,79.3,auto,N,0,1,1st,23,7,76.7\\r\\n1997,Drake,13,Missouri Valley,14,4,77.8,1st,23,7,76.7,auto,N,0,1,1st,23,8,74.2\\r\\n1997,Duke,5,Atlantic Coast,9,7,56.3,T3rd,18,10,64.3,at-large,N,1,1,2nd,19,11,63.3\\r\\n1997,Eastern Ky.,15,Ohio Valley,16,2,88.9,1st,24,5,82.8,auto,N,0,1,1st,24,6,80\\r\\n1997,FIU,14,Trans America,12,4,75,1st,21,8,72.4,auto,N,0,1,1st,21,9,70\\r\\n1997,Florida,3,Southeastern,9,3,75,T3rd,21,8,72.4,at-large,Y,3,1,RF,24,9,72.7\\r\\n1997,George Washington,5,Atlantic 10,16,0,100,1st-W,25,5,83.3,at-large,Y,3,1,RF,28,6,82.4\\r\\n1997,Georgia,2,Southeastern,11,1,91.7,1st,22,5,81.5,at-large,Y,3,1,RF,25,6,80.6\\r\\n1997,Grambling,14,Southwestern,14,0,100,1st,24,5,82.8,auto,N,0,1,1st,24,6,80\\r\\n1997,Harvard,16,Ivy,14,0,100,1st,20,6,76.9,auto,N,0,1,1st,20,7,74.1\\r\\n1997,Howard,16,Mid-Eastern,18,0,100,1st,24,5,82.8,auto,N,0,1,1st,24,6,80\\r\\n1997,Illinois,4,Big Ten,12,4,75,T1st,22,7,75.9,at-large,Y,2,1,RSF,24,8,75\\r\\n1997,Iowa,9,Big Ten,9,7,56.3,T4th,17,11,60.7,auto,N,1,1,2nd,18,12,60\\r\\n1997,Iowa St.,12,Big 12,9,7,56.3,T5th,17,11,60.7,at-large,N,0,1,1st,17,12,58.6\\r\\n1997,Kansas,3,Big 12,14,2,87.5,1st,24,5,82.8,at-large,Y,1,1,2nd,25,6,80.6\\r\\n1997,Kansas St.,10,Big 12,9,7,56.3,T5th,19,11,63.3,at-large,N,0,1,1st,19,12,61.3\\r\\n1997,Lehigh,16,Patriot,7,5,58.3,3rd,15,14,51.7,auto,N,0,1,1st,15,15,50\\r\\n1997,Liberty,16,Big South,9,5,64.3,2nd,22,7,75.9,auto,N,0,1,1st,22,8,73.3\\r\\n1997,Louisiana Tech,2,Sun Belt,12,2,85.7,T1st,29,3,90.6,auto,Y,2,1,RSF,31,4,88.6\\r\\n1997,Louisville,10,Conference USA,12,2,85.7,T1st-W,20,8,71.4,at-large,N,0,1,1st,20,9,69\\r\\n1997,LSU,4,Southeastern,9,3,75,T3rd,23,4,85.2,at-large,Y,2,1,RSF,25,5,83.3\\r\\n1997,Maine,13,America East,17,1,94.4,1st,22,7,75.9,auto,N,0,1,1st,22,8,73.3\\r\\n1997,Marquette,12,Conference USA,10,4,71.4,T1st-B,20,9,69,at-large,N,1,1,2nd,21,10,67.7\\r\\n1997,Marshall,15,Southern,9,5,64.3,2nd,18,11,62.1,auto,N,0,1,1st,18,12,60\\r\\n1997,Maryland,9,Atlantic Coast,9,7,56.3,T3rd,18,9,66.7,at-large,N,0,1,1st,18,10,64.3\\r\\n1997,Memphis,11,Conference USA,12,2,85.7,T1st-W,22,6,78.6,at-large,N,0,1,1st,22,7,75.9\\r\\n1997,Michigan St.,8,Big Ten,12,4,75,T1st,21,7,75,at-large,N,1,1,2nd,22,8,73.3\\r\\n1997,Montana,9,Big Sky,16,0,100,1st,25,3,89.3,auto,N,0,1,1st,25,4,86.2\\r\\n1997,NC State,8,Atlantic Coast,9,7,56.3,T3rd,19,11,63.3,at-large,N,0,1,1st,19,12,61.3\\r\\n1997,North Carolina,1,Atlantic Coast,15,1,93.8,1st,27,2,93.1,auto,Y,2,1,RSF,29,3,90.6\\r\\n1997,Northwestern,12,Big Ten,9,7,56.3,T4th,17,10,63,at-large,N,0,1,1st,17,11,60.7\\r\\n1997,Notre Dame,6,Big East,17,1,94.4,2nd-6,27,6,81.8,at-large,N,4,1,NSF,31,7,81.6\\r\\n1997,Old Dominion,1,Colonial,16,0,100,1st,29,1,96.7,auto,Y,5,1,N2nd,34,2,94.4\\r\\n1997,Oregon,6,Pacific-10,14,4,77.8,2nd,21,6,77.8,at-large,N,1,1,2nd,22,7,75.9\\r\\n1997,Portland,9,West Coast,14,0,100,1st,27,2,93.1,at-large,N,0,1,1st,27,3,90\\r\\n1997,Purdue,8,Big Ten,12,4,75,T1st,16,10,61.5,at-large,N,1,1,2nd,17,11,60.7\\r\\n1997,Saint Joseph's,7,Atlantic 10,15,1,93.8,1st-E,25,4,86.2,auto,N,1,1,2nd,26,5,83.9\\r\\n1997,Saint Peter's,15,Metro Atlantic,14,0,100,1st,25,3,89.3,auto,N,0,1,1st,25,4,86.2\\r\\n1997,San Diego St.,11,Western Athletic,15,1,93.8,1st-P,23,6,79.3,auto,N,0,1,1st,23,7,76.7\\r\\n1997,San Francisco,11,West Coast,11,3,78.6,2nd,25,5,83.3,auto,N,0,1,1st,25,6,80.6\\r\\n1997,SFA,7,Southland,16,0,100,1st,27,4,87.1,at-large,N,1,1,2nd,28,5,84.8\\r\\n1997,Southern California,6,Pacific-10,13,5,72.2,3rd,18,9,66.7,at-large,N,1,1,2nd,19,10,65.5\\r\\n1997,St. Francis (PA),15,Northeast,16,2,88.9,1st,19,10,65.5,auto,N,0,1,1st,19,11,63.3\\r\\n1997,Stanford,1,Pacific-10,18,0,100,1st,30,1,96.8,auto,Y,4,1,NSF,34,2,94.4\\r\\n1997,Tennessee,3,Southeastern,8,4,66.7,5th,23,10,69.7,at-large,Y,6,0,Champ,29,10,74.4\\r\\n1997,Texas,3,Big 12,12,4,75,T2nd,21,7,75,at-large,Y,1,1,2nd,22,8,73.3\\r\\n1997,Texas St.,14,Southland,11,5,68.8,T2nd,17,11,60.7,auto,N,0,1,1st,17,12,58.6\\r\\n1997,Texas Tech,8,Big 12,11,5,68.8,4th,19,8,70.4,at-large,N,1,1,2nd,20,9,69\\r\\n1997,Toledo,10,Mid-American,16,2,88.9,1st,27,3,90,auto,N,0,1,1st,27,4,87.1\\r\\n1997,Troy,13,Mid-Continent,13,3,81.3,T1st,23,6,79.3,auto,N,0,1,1st,23,7,76.7\\r\\n1997,Tulane,4,Conference USA,12,2,85.7,1st-R,26,4,86.7,auto,N,1,1,2nd,27,5,84.4\\r\\n1997,UC Santa Barbara,13,Big West,14,1,93.3,1st-W,24,5,82.8,auto,N,0,1,1st,24,6,80\\r\\n1997,UConn,1,Big East,18,0,100,1st-6,30,0,100,auto,Y,3,1,RF,33,1,97.1\\r\\n1997,Utah,5,Western Athletic,15,1,93.8,1st-M,24,5,82.8,at-large,N,1,1,2nd,25,6,80.6\\r\\n1997,Vanderbilt,6,Southeastern,6,6,50,6th,18,10,64.3,at-large,N,2,1,RSF,20,11,64.5\\r\\n1997,Virginia,4,Atlantic Coast,12,4,75,2nd,21,7,75,at-large,Y,2,1,RSF,23,8,74.2\\r\\n1997,Washington,11,Pacific-10,12,6,66.7,T4th,17,11,60.7,at-large,N,0,1,1st,17,12,58.6\\r\\n1997,Western Ky.,10,Sun Belt,12,2,85.7,T1st,22,8,73.3,at-large,N,0,1,1st,22,9,71\\r\\n1998,Alabama,2,Southeastern,10,4,71.4,T2nd,22,9,71,at-large,Y,2,1,RSF,24,10,70.6\\r\\n1998,Arizona,3,Pacific-10,14,4,77.8,T2nd,21,6,77.8,at-large,Y,2,1,RSF,23,7,76.7\\r\\n1998,Arkansas,9,Southeastern,7,7,50,T6th,18,10,64.3,at-large,N,4,1,NSF,22,11,66.7\\r\\n1998,Clemson,6,Atlantic Coast,12,4,75,T2nd,24,7,77.4,at-large,N,1,1,2nd,25,8,75.8\\r\\n1998,Colorado St.,12,Western Athletic,11,3,78.6,T1st-M,23,5,82.1,at-large,N,1,1,2nd,24,6,80\\r\\n1998,Drake,5,Missouri Valley,17,1,94.4,1st,25,4,86.2,auto,N,0,1,1st,25,5,83.3\\r\\n1998,Duke,2,Atlantic Coast,13,3,81.3,1st,21,7,75,at-large,Y,3,1,RF,24,8,75\\r\\n1998,Fairfield,15,Metro Atlantic,14,4,77.8,2nd,20,9,69,auto,N,0,1,1st,20,10,66.7\\r\\n1998,FIU,7,Trans America,15,1,93.8,1st,28,1,96.6,auto,N,1,1,2nd,29,2,93.5\\r\\n1998,Florida,3,Southeastern,10,4,71.4,T2nd,21,8,72.4,at-large,Y,2,1,RSF,23,9,71.9\\r\\n1998,George Washington,10,Atlantic 10,12,4,75,1st-W,19,9,67.9,at-large,N,1,1,2nd,20,10,66.7\\r\\n1998,Georgia,7,Southeastern,8,6,57.1,5th,17,10,63,at-large,N,0,1,1st,17,11,60.7\\r\\n1998,Grambling,16,Southwestern,14,2,87.5,1st,23,6,79.3,auto,N,0,1,1st,23,7,76.7\\r\\n1998,Green Bay,14,Horizon,11,3,78.6,2nd,21,8,72.4,auto,N,0,1,1st,21,9,70\\r\\n1998,Harvard,16,Ivy,12,2,85.7,1st,22,4,84.6,auto,N,1,1,2nd,23,5,82.1\\r\\n1998,Hawaii,8,Western Athletic,13,1,92.9,1st-P,24,3,88.9,at-large,N,0,1,1st,24,4,85.7\\r\\n1998,Holy Cross,14,Patriot,10,2,83.3,T1st,21,8,72.4,auto,N,0,1,1st,21,9,70\\r\\n1998,Howard,15,Mid-Eastern,16,2,88.9,T1st,23,6,79.3,auto,N,0,1,1st,23,7,76.7\\r\\n1998,Illinois,3,Big Ten,12,4,75,2nd,18,9,66.7,at-large,Y,2,1,RSF,20,10,66.7\\r\\n1998,Iowa,4,Big Ten,13,3,81.3,1st,17,10,63,at-large,Y,1,1,2nd,18,11,62.1\\r\\n1998,Iowa St.,4,Big 12,12,4,75,2nd,24,7,77.4,at-large,Y,1,1,2nd,25,8,75.8\\r\\n1998,Kansas,5,Big 12,11,5,68.8,T3rd,21,8,72.4,at-large,N,2,1,RSF,23,9,71.9\\r\\n1998,Kent St.,13,Mid-American,18,0,100,1st-E,23,6,79.3,auto,N,0,1,1st,23,7,76.7\\r\\n1998,Liberty,16,Big South,12,0,100,1st,28,0,100,auto,N,0,1,1st,28,1,96.6\\r\\n1998,Louisiana Tech,3,Sun Belt,13,1,92.9,1st,26,3,89.7,auto,Y,5,1,N2nd,31,4,88.6\\r\\n1998,Louisville,10,Conference USA,12,4,75,2nd-A,19,11,63.3,at-large,N,1,1,2nd,20,12,62.5\\r\\n1998,Maine,13,America East,13,5,72.2,2nd,21,8,72.4,auto,N,0,1,1st,21,9,70\\r\\n1998,Marquette,10,Conference USA,13,3,81.3,1st-A,22,6,78.6,at-large,N,0,1,1st,22,7,75.9\\r\\n1998,Massachusetts,13,Atlantic 10,11,5,68.8,1st-E,19,10,65.5,at-large,N,0,1,1st,19,11,63.3\\r\\n1998,Memphis,5,Conference USA,14,2,87.5,1st-N,22,7,75.9,auto,N,0,1,1st,22,8,73.3\\r\\n1998,Miami (FL),11,Big East,13,5,72.2,2nd-7,19,9,67.9,at-large,N,0,1,1st,19,10,65.5\\r\\n1998,Michigan,10,Big Ten,10,6,62.5,T3rd,19,9,67.9,at-large,N,0,1,1st,19,10,65.5\\r\\n1998,Middle Tenn.,15,Ohio Valley,11,7,61.1,4th,18,11,62.1,auto,N,0,1,1st,18,12,60\\r\\n1998,Missouri St.,8,Missouri Valley,14,4,77.8,2nd,24,5,82.8,at-large,N,0,1,1st,24,6,80\\r\\n1998,Montana,14,Big Sky,15,1,93.8,T1st,24,5,82.8,auto,N,0,1,1st,24,6,80\\r\\n1998,NC State,4,Atlantic Coast,12,4,75,T2nd,21,6,77.8,at-large,Y,4,1,NSF,25,7,78.1\\r\\n1998,Nebraska,9,Big 12,11,5,68.8,T3rd,22,9,71,at-large,N,1,1,2nd,23,10,69.7\\r\\n1998,New Mexico,8,Western Athletic,10,4,71.4,T3rd-M,26,6,81.3,auto,N,0,1,1st,26,7,78.8\\r\\n1998,North Carolina,2,Atlantic Coast,11,5,68.8,4th,24,6,80,auto,Y,3,1,RF,27,7,79.4\\r\\n1998,Notre Dame,9,Big East,12,6,66.7,T2nd-6,20,9,69,at-large,N,2,1,RSF,22,10,68.8\\r\\n1998,Old Dominion,1,Colonial,16,0,100,1st,27,2,93.1,auto,Y,2,1,RSF,29,3,90.6\\r\\n1998,Oregon,12,Pacific-10,13,5,72.2,4th,17,9,65.4,at-large,N,0,1,1st,17,10,63\\r\\n1998,Purdue,4,Big Ten,10,6,62.5,T3rd,20,9,69,auto,Y,3,1,RF,23,10,69.7\\r\\n1998,Rutgers,5,Big East,14,4,77.8,1st-7,20,9,69,at-large,N,2,1,RSF,22,10,68.8\\r\\n1998,Saint Francis (PA),16,Northeast,14,2,87.5,1st,22,7,75.9,auto,N,0,1,1st,22,8,73.3\\r\\n1998,Santa Clara,14,West Coast,11,3,78.6,1st,23,7,76.7,auto,N,0,1,1st,23,8,74.2\\r\\n1998,SFA,9,Southland,15,1,93.8,1st,25,3,89.3,auto,N,0,1,1st,25,4,86.2\\r\\n1998,SMU,11,Western Athletic,11,3,78.6,T2nd-P,21,7,75,at-large,N,0,1,1st,21,8,72.4\\r\\n1998,Stanford,1,Pacific-10,17,1,94.4,1st,21,5,80.8,auto,Y,0,1,1st,21,6,77.8\\r\\n1998,Tennessee,1,Southeastern,14,0,100,1st,33,10,76.7,auto,Y,6,0,Champ,39,10,79.6\\r\\n1998,Texas Tech,1,Big 12,15,1,93.8,1st,25,4,86.2,auto,Y,1,1,2nd,26,5,83.9\\r\\n1998,Tulane,12,Conference USA,12,4,75,2nd-N,21,6,77.8,at-large,N,0,1,1st,21,7,75\\r\\n1998,UC Santa Barbara,11,Big West,14,1,93.3,1st-W,26,5,83.9,auto,N,1,1,2nd,27,6,81.8\\r\\n1998,UCLA,7,Pacific-10,14,4,77.8,T2nd,19,8,70.4,at-large,N,1,1,2nd,20,9,69\\r\\n1998,UConn,2,Big East,17,1,94.4,1st-6,31,2,93.9,auto,Y,3,1,RF,34,3,91.9\\r\\n1998,UNC Greensboro,15,Southern,12,4,75,T2nd,21,8,72.4,auto,N,0,1,1st,21,9,70\\r\\n1998,Utah,7,Western Athletic,11,3,78.6,T1st-M,21,5,80.8,at-large,N,0,1,1st,21,6,77.8\\r\\n1998,Vanderbilt,6,Southeastern,9,5,64.3,4th,20,8,71.4,at-large,N,0,1,1st,20,9,69\\r\\n1998,Virginia,6,Atlantic Coast,9,7,56.3,5th,18,9,66.7,at-large,N,1,1,2nd,19,10,65.5\\r\\n1998,Virginia Tech,11,Atlantic 10,11,5,68.8,2nd-W,21,9,70,auto,N,1,1,2nd,22,10,68.8\\r\\n1998,Washington,13,Pacific-10,9,9,50,5th,18,9,66.7,at-large,N,0,1,1st,18,10,64.3\\r\\n1998,Western Ky.,8,Sun Belt,12,2,85.7,2nd,25,8,75.8,at-large,N,1,1,2nd,26,9,74.3\\r\\n1998,Wisconsin,6,Big Ten,9,7,56.3,6th,21,9,70,at-large,N,0,1,1st,21,10,67.7\\r\\n1998,Youngstown St.,12,Mid-Continent,15,1,93.8,1st,27,2,93.1,auto,N,1,1,2nd,28,3,90.3\\r\\n1999,Alabama,5,Southeastern,7,7,50,T5th,19,10,65.5,at-large,N,1,1,2nd,20,11,64.5\\r\\n1999,Appalachian St.,16,Southern,7,10,41.2,8th,14,14,50,auto,N,0,1,1st,14,15,48.3\\r\\n1999,Arizona,6,Pacific-10,12,6,66.7,4th,17,10,63,at-large,N,1,1,2nd,18,11,62.1\\r\\n1999,Auburn,5,Southeastern,8,6,57.1,4th,19,8,70.4,at-large,N,1,1,2nd,20,9,69\\r\\n1999,Boston College,8,Big East,12,6,66.7,4th,21,7,75,at-large,N,1,1,2nd,22,8,73.3\\r\\n1999,Cincinnati,12,Conference USA,12,4,75,T1st-A,22,8,73.3,at-large,N,0,1,1st,22,9,71\\r\\n1999,Clemson,2,Atlantic Coast,11,5,68.8,T3rd,24,5,82.8,auto,Y,2,1,RSF,26,6,81.3\\r\\n1999,Colorado St.,2,Mountain West,14,0,100,1st-M,31,2,93.9,auto,Y,2,1,RSF,33,3,91.7\\r\\n1999,CSUN,15,Big Sky,13,3,81.3,1st,21,7,75,auto,N,0,1,1st,21,8,72.4\\r\\n1999,Dartmouth,14,Ivy,11,3,78.6,T1st,19,8,70.4,auto,N,0,1,1st,19,9,67.9\\r\\n1999,Duke,3,Atlantic Coast,15,1,93.8,1st,24,6,80,at-large,Y,5,1,N2nd,29,7,80.6\\r\\n1999,Evansville,13,Missouri Valley,11,7,61.1,4th,19,10,65.5,auto,N,0,1,1st,19,11,63.3\\r\\n1999,FIU,9,Sun Belt,9,3,75,2nd,23,6,79.3,at-large,N,0,1,1st,23,7,76.7\\r\\n1999,Florida,11,Southeastern,6,8,42.9,T8th,19,13,59.4,at-large,N,0,1,1st,19,14,57.6\\r\\n1999,Florida A&M,15,Mid-Eastern,14,4,77.8,T1st,18,11,62.1,auto,N,0,1,1st,18,12,60\\r\\n1999,Georgia,3,Southeastern,9,5,64.3,3rd,23,6,79.3,at-large,Y,4,1,NSF,27,7,79.4\\r\\n1999,Grambling,12,Southwestern,16,0,100,1st,25,4,86.2,auto,N,0,1,1st,25,5,83.3\\r\\n1999,Green Bay,14,Midwestern,13,1,92.9,1st,19,9,67.9,auto,N,0,1,1st,19,10,65.5\\r\\n1999,Holy Cross,14,Patriot,11,1,91.7,1st,21,7,75,auto,N,0,1,1st,21,8,72.4\\r\\n1999,Illinois,7,Big Ten,10,6,62.5,3rd,18,11,62.1,at-large,N,1,1,2nd,19,12,61.3\\r\\n1999,Iowa St.,4,Big 12,12,4,75,2nd,22,7,75.9,at-large,Y,3,1,RF,25,8,75.8\\r\\n1999,Kansas,9,Big 12,11,5,68.8,3rd,22,9,71,at-large,N,1,1,2nd,23,10,69.7\\r\\n1999,Kentucky,6,Southeastern,7,7,50,T5th,20,10,66.7,at-large,N,1,1,2nd,21,11,65.6\\r\\n1999,Liberty,14,Big South,9,1,90,1st,21,7,75,auto,N,0,1,1st,21,8,72.4\\r\\n1999,Louisiana Tech,1,Sun Belt,12,0,100,1st,26,2,92.9,auto,Y,4,1,NSF,30,3,90.9\\r\\n1999,Louisville,10,Conference USA,12,4,75,T1st-A,21,10,67.7,at-large,N,0,1,1st,21,11,65.6\\r\\n1999,LSU,4,Southeastern,10,4,71.4,2nd,20,7,74.1,at-large,Y,2,1,RSF,22,8,73.3\\r\\n1999,Maine,10,America East,17,1,94.4,1st,23,6,79.3,at-large,N,1,1,2nd,24,7,77.4\\r\\n1999,Marquette,8,Conference USA,12,4,75,T1st-A,21,7,75,at-large,N,0,1,1st,21,8,72.4\\r\\n1999,Mississippi St.,7,Southeastern,7,7,50,T5th,17,10,63,at-large,N,0,1,1st,17,11,60.7\\r\\n1999,Missouri St.,7,Missouri Valley,15,3,83.3,1st,24,6,80,at-large,N,1,1,2nd,25,7,78.1\\r\\n1999,NC State,10,Atlantic Coast,9,7,56.3,5th,16,11,59.3,at-large,N,1,1,2nd,17,12,58.6\\r\\n1999,Nebraska,11,Big 12,8,8,50,T5th,21,11,65.6,at-large,N,0,1,1st,21,12,63.6\\r\\n1999,North Carolina,4,Atlantic Coast,11,5,68.8,T3rd,26,7,78.8,at-large,Y,2,1,RSF,28,8,77.8\\r\\n1999,Northeastern,13,America East,13,5,72.2,T2nd,22,7,75.9,auto,N,0,1,1st,22,8,73.3\\r\\n1999,Notre Dame,5,Big East,15,3,83.3,3rd,25,4,86.2,at-large,N,1,1,2nd,26,5,83.9\\r\\n1999,Ohio St.,9,Big Ten,9,7,56.3,T4th,17,11,60.7,at-large,N,0,1,1st,17,12,58.6\\r\\n1999,Old Dominion,2,Colonial,16,0,100,1st,26,3,89.7,auto,Y,2,1,RSF,28,4,87.5\\r\\n1999,Oral Roberts,16,Mid-Continent,8,6,57.1,T3rd,17,12,58.6,auto,N,0,1,1st,17,13,56.7\\r\\n1999,Oregon,5,Pacific-10,15,3,83.3,T1st,24,5,82.8,at-large,N,1,1,2nd,25,6,80.6\\r\\n1999,Penn St.,8,Big Ten,12,4,75,2nd,21,7,75,at-large,N,1,1,2nd,22,8,73.3\\r\\n1999,Purdue,1,Big Ten,16,0,100,1st,28,1,96.6,auto,Y,6,0,Champ,34,1,97.1\\r\\n1999,Rutgers,3,Big East,17,1,94.4,T1st,26,5,83.9,at-large,Y,3,1,RF,29,6,82.9\\r\\n1999,Saint Francis (PA),16,Northeast,14,6,70,2nd,18,11,62.1,auto,N,0,1,1st,18,12,60\\r\\n1999,Saint Joseph's,11,Atlantic 10,14,2,87.5,1st-E,29,7,80.6,auto,N,1,1,2nd,30,8,78.9\\r\\n1999,Saint Peter's,13,Metro Atlantic,15,3,83.3,2nd,25,5,83.3,auto,N,0,1,1st,25,6,80.6\\r\\n1999,Santa Clara,13,West Coast,11,3,78.6,T1st,22,6,78.6,at-large,N,0,1,1st,22,7,75.9\\r\\n1999,SFA,15,Southland,12,6,66.7,T2nd,17,11,60.7,auto,N,0,1,1st,17,12,58.6\\r\\n1999,SMU,11,Western Athletic,11,3,78.6,2nd-M,19,10,65.5,auto,N,1,1,2nd,20,11,64.5\\r\\n1999,St. Mary's (CA),12,West Coast,10,4,71.4,3rd,26,6,81.3,auto,N,0,1,1st,26,7,78.8\\r\\n1999,Stanford,7,Pacific-10,14,4,77.8,3rd,18,11,62.1,at-large,N,0,1,1st,18,12,60\\r\\n1999,Tennessee,1,Southeastern,13,1,92.9,1st,28,3,90.3,auto,Y,3,1,RF,31,4,88.6\\r\\n1999,Tennessee Tech,15,Ohio Valley,14,4,77.8,T1st,21,8,72.4,auto,N,0,1,1st,21,9,70\\r\\n1999,Texas,12,Big 12,10,6,62.5,4th,16,11,59.3,at-large,N,0,1,1st,16,12,57.1\\r\\n1999,Texas Tech,2,Big 12,14,2,87.5,1st,28,3,90.3,auto,Y,2,1,RSF,30,4,88.2\\r\\n1999,Toledo,6,Mid-American,14,2,87.5,T1st-W,25,5,83.3,auto,N,0,1,1st,25,6,80.6\\r\\n1999,Tulane,6,Conference USA,12,4,75,1st-N,24,5,82.8,auto,N,0,1,1st,24,6,80\\r\\n1999,UC Santa Barbara,10,Big West,15,0,100,1st-W,26,3,89.7,auto,N,0,1,1st,26,4,86.7\\r\\n1999,UCF,16,Trans America,13,3,81.3,1st,20,9,69,auto,N,0,1,1st,20,10,66.7\\r\\n1999,UCLA,3,Pacific-10,15,3,83.3,T1st,23,7,76.7,auto,Y,3,1,RF,26,8,76.5\\r\\n1999,UConn,1,Big East,17,1,94.4,T1st,27,4,87.1,auto,Y,2,1,RSF,29,5,85.3\\r\\n1999,Virginia,9,Atlantic Coast,12,4,75,2nd,20,8,71.4,at-large,N,0,1,1st,20,9,69\\r\\n1999,Virginia Tech,4,Atlantic 10,15,1,93.8,1st-W,26,2,92.9,at-large,Y,2,1,RSF,28,3,90.3\\r\\n1999,Xavier,8,Atlantic 10,11,5,68.8,3rd-W,23,8,74.2,at-large,N,1,1,2nd,24,9,72.7\\r\\n2000,Alcorn St.,16,Southwestern,15,3,83.3,2nd,22,8,73.3,auto,N,0,1,1st,22,9,71\\r\\n2000,Arizona,8,Pacific-10,13,5,72.2,T2nd,24,6,80,at-large,N,1,1,2nd,25,7,78.1\\r\\n2000,Auburn,7,Southeastern,9,5,64.3,4th,21,7,75,at-large,N,1,1,2nd,22,8,73.3\\r\\n2000,Boston College,5,Big East,12,4,75,T3rd,25,8,75.8,at-large,N,1,1,2nd,26,9,74.3\\r\\n2000,BYU,12,Mountain West,10,4,71.4,2nd,22,8,73.3,at-large,N,0,1,1st,22,9,71\\r\\n2000,Campbell,15,Trans America,14,4,77.8,2nd,22,8,73.3,auto,N,0,1,1st,22,9,71\\r\\n2000,Clemson,9,Atlantic Coast,9,7,56.3,4th,18,11,62.1,at-large,N,1,1,2nd,19,12,61.3\\r\\n2000,Dartmouth,13,Ivy,12,2,85.7,1st,20,7,74.1,auto,N,0,1,1st,20,8,71.4\\r\\n2000,Drake,8,Missouri Valley,15,3,83.3,1st,23,6,79.3,auto,N,0,1,1st,23,7,76.7\\r\\n2000,Duke,2,Atlantic Coast,12,4,75,2nd,26,5,83.9,auto,Y,2,1,RSF,28,6,82.4\\r\\n2000,Furman,16,Southern,13,5,72.2,2nd,20,10,66.7,auto,N,0,1,1st,20,11,64.5\\r\\n2000,George Washington,7,Atlantic 10,14,2,87.5,1st-W,25,5,83.3,at-large,N,1,1,2nd,26,6,81.3\\r\\n2000,Georgia,1,Southeastern,13,1,92.9,T1st,29,3,90.6,at-large,Y,3,1,RF,32,4,88.9\\r\\n2000,Green Bay,13,Horizon,12,2,85.7,1st,21,8,72.4,auto,N,0,1,1st,21,9,70\\r\\n2000,Hampton,16,Mid-Eastern,11,7,61.1,T4th,16,14,53.3,auto,N,0,1,1st,16,15,51.6\\r\\n2000,Holy Cross,15,Patriot,11,1,91.7,1st,23,6,79.3,auto,N,0,1,1st,23,7,76.7\\r\\n2000,Illinois,6,Big Ten,11,5,68.8,T3rd,22,10,68.8,at-large,N,1,1,2nd,23,11,67.6\\r\\n2000,Iowa St.,3,Big 12,13,3,81.3,T1st,25,5,83.3,auto,Y,2,1,RSF,27,6,81.8\\r\\n2000,Kansas,8,Big 12,11,5,68.8,4th,20,9,69,at-large,N,0,1,1st,20,10,66.7\\r\\n2000,Kent St.,9,Mid-American,15,1,93.8,1st-E,25,5,83.3,auto,N,0,1,1st,25,6,80.6\\r\\n2000,Liberty,14,Big South,12,2,85.7,1st,23,7,76.7,auto,N,0,1,1st,23,8,74.2\\r\\n2000,Louisiana Tech,1,Sun Belt,16,0,100,1st,28,2,93.3,auto,Y,3,1,RF,31,3,91.2\\r\\n2000,LSU,3,Southeastern,11,3,78.6,3rd,22,6,78.6,at-large,Y,3,1,RF,25,7,78.1\\r\\n2000,Maine,12,America East,14,4,77.8,2nd,20,10,66.7,at-large,N,0,1,1st,20,11,64.5\\r\\n2000,Marquette,7,Conference USA,14,2,87.5,1st-A,22,6,78.6,at-large,N,0,1,1st,22,7,75.9\\r\\n2000,Michigan,8,Big Ten,13,3,81.3,2nd,22,7,75.9,at-large,N,0,1,1st,22,8,73.3\\r\\n2000,Mississippi St.,3,Southeastern,8,6,57.1,5th,23,7,76.7,at-large,N,1,1,2nd,24,8,75\\r\\n2000,Missouri St.,10,Missouri Valley,14,4,77.8,T2nd,23,8,74.2,at-large,N,0,1,1st,23,9,71.9\\r\\n2000,Montana,16,Big Sky,13,3,81.3,1st,22,7,75.9,auto,N,0,1,1st,22,8,73.3\\r\\n2000,NC State,5,Atlantic Coast,11,5,68.8,3rd,20,8,71.4,at-large,N,0,1,1st,20,9,69\\r\\n2000,Nebraska,12,Big 12,10,6,62.5,5th,18,12,60,at-large,N,0,1,1st,18,13,58.1\\r\\n2000,North Carolina,5,Atlantic Coast,8,8,50,5th,18,12,60,at-large,N,2,1,RSF,20,13,60.6\\r\\n2000,Notre Dame,2,Big East,15,1,93.8,2nd,25,4,86.2,at-large,Y,2,1,RSF,27,5,84.4\\r\\n2000,Oklahoma,5,Big 12,13,3,81.3,T1st,23,7,76.7,at-large,N,2,1,RSF,25,8,75.8\\r\\n2000,Old Dominion,4,Colonial,16,0,100,1st,21,8,72.4,auto,Y,2,1,RSF,23,9,71.9\\r\\n2000,Oregon,6,Pacific-10,14,4,77.8,1st,23,7,76.7,auto,Y,0,1,1st,23,8,74.2\\r\\n2000,Penn St.,2,Big Ten,15,1,93.8,1st,26,4,86.7,at-large,Y,4,1,NSF,30,5,85.7\\r\\n2000,Pepperdine,13,West Coast,12,2,85.7,1st,21,9,70,at-large,N,0,1,1st,21,10,67.7\\r\\n2000,Purdue,4,Big Ten,11,5,68.8,T3rd,22,7,75.9,auto,Y,1,1,2nd,23,8,74.2\\r\\n2000,Rice,13,Western Athletic,10,4,71.4,3rd,21,9,70,auto,N,1,1,2nd,22,10,68.8\\r\\n2000,Rutgers,2,Big East,12,4,75,T3rd,22,7,75.9,at-large,Y,4,1,NSF,26,8,76.5\\r\\n2000,Saint Francis (PA),14,Northeast,15,3,83.3,1st,23,7,76.7,auto,N,0,1,1st,23,8,74.2\\r\\n2000,Saint Joseph's,10,Atlantic 10,14,2,87.5,1st-E,24,5,82.8,at-large,N,1,1,2nd,25,6,80.6\\r\\n2000,Saint Peter's,14,Northeast,14,4,77.8,2nd,23,7,76.7,auto,N,0,1,1st,23,8,74.2\\r\\n2000,San Diego,15,West Coast,7,7,50,4th,17,12,58.6,auto,N,0,1,1st,17,13,56.7\\r\\n2000,SFA,11,Southland,17,1,94.4,1st,27,3,90,auto,N,1,1,2nd,28,4,87.5\\r\\n2000,SMU,12,Western Athletic,12,2,85.7,1st,21,8,72.4,at-large,N,1,1,2nd,22,9,71\\r\\n2000,Stanford,9,Pacific-10,13,5,72.2,T2nd,20,8,71.4,at-large,N,1,1,2nd,21,9,70\\r\\n2000,Tennessee,1,Southeastern,13,1,92.9,T1st,28,3,90.3,auto,Y,5,1,N2nd,33,4,89.2\\r\\n2000,Tennessee Tech,14,Ohio Valley,16,2,88.9,1st,25,8,75.8,auto,N,0,1,1st,25,9,73.5\\r\\n2000,Texas,7,Big 12,9,7,56.3,6th,21,12,63.6,at-large,N,0,1,1st,21,13,61.8\\r\\n2000,Texas Tech,3,Big 12,13,3,81.3,T1st,25,4,86.2,at-large,Y,3,1,RF,28,5,84.8\\r\\n2000,Tulane,6,Conference USA,12,4,75,1st-N,26,4,86.7,auto,N,1,1,2nd,27,5,84.4\\r\\n2000,UAB,11,Conference USA,8,8,50,4th-N,19,12,61.3,at-large,N,2,1,RSF,21,13,61.8\\r\\n2000,UC Santa Barbara,4,Big West,15,0,100,1st-W,30,3,90.9,auto,Y,0,1,1st,30,4,88.2\\r\\n2000,UCLA,10,Pacific-10,12,6,66.7,4th,18,10,64.3,at-large,N,0,1,1st,18,11,62.1\\r\\n2000,UConn,1,Big East,16,0,100,1st,30,1,96.8,auto,Y,6,0,Champ,36,1,97.3\\r\\n2000,Utah,11,Mountain West,11,3,78.6,1st,23,7,76.7,at-large,N,0,1,1st,23,8,74.2\\r\\n2000,Vanderbilt,9,Southeastern,6,8,42.9,T6th,20,12,62.5,at-large,N,1,1,2nd,21,13,61.8\\r\\n2000,Vermont,11,America East,15,3,83.3,1st,25,2,92.6,auto,N,0,1,1st,25,3,89.3\\r\\n2000,Virginia,4,Atlantic Coast,13,3,81.3,1st,23,8,74.2,at-large,Y,2,1,RSF,25,9,73.5\\r\\n2000,Western Ky.,10,Sun Belt,13,3,81.3,2nd,21,9,70,at-large,N,1,1,2nd,22,10,68.8\\r\\n2000,Xavier,6,Atlantic 10,13,3,81.3,2nd-W,26,4,86.7,auto,N,0,1,1st,26,5,83.9\\r\\n2000,Youngstown St.,15,Mid-Continent,12,4,75,2nd,22,8,73.3,auto,N,0,1,1st,22,9,71\\r\\n2001,Alcorn St.,16,Southwestern,15,3,83.3,1st,21,10,67.7,auto,N,0,1,1st,21,11,65.6\\r\\n2001,Arizona St.,11,Pacific-10,12,6,66.7,T1st,20,10,66.7,at-large,N,0,1,1st,20,11,64.5\\r\\n2001,Arkansas,9,Southeastern,6,8,42.9,T6th,19,12,61.3,at-large,N,1,1,2nd,20,13,60.6\\r\\n2001,Austin Peay,16,Ohio Valley,10,6,62.5,3rd,17,13,56.7,auto,N,0,1,1st,17,14,54.8\\r\\n2001,Baylor,8,Big 12,9,7,56.3,6th,21,8,72.4,at-large,N,0,1,1st,21,9,70\\r\\n2001,Chattanooga,12,Southern,15,3,83.3,T1st,24,6,80,auto,N,0,1,1st,24,7,77.4\\r\\n2001,Clemson,5,Atlantic Coast,10,6,62.5,2nd,20,9,69,at-large,N,1,1,2nd,21,10,67.7\\r\\n2001,Colorado,6,Big 12,11,5,68.8,4th,21,8,72.4,at-large,N,1,1,2nd,22,9,71\\r\\n2001,Colorado St.,9,Mountain West,10,4,71.4,2nd,24,6,80,auto,N,1,1,2nd,25,7,78.1\\r\\n2001,Delaware,13,America East,17,1,94.4,1st,26,4,86.7,auto,N,0,1,1st,26,5,83.9\\r\\n2001,Denver,10,Sun Belt,14,2,87.5,T1st-W,24,6,80,at-large,N,0,1,1st,24,7,77.4\\r\\n2001,Drake,12,Missouri Valley,16,2,88.9,T1st,23,6,79.3,at-large,N,0,1,1st,23,7,76.7\\r\\n2001,Duke,1,Atlantic Coast,13,3,81.3,1st,28,3,90.3,auto,Y,2,1,RSF,30,4,88.2\\r\\n2001,Fairfield,12,Metro Atlantic,16,2,88.9,2nd,25,5,83.3,at-large,N,0,1,1st,25,6,80.6\\r\\n2001,Florida,3,Southeastern,11,3,78.6,T2nd,23,5,82.1,at-large,Y,1,1,2nd,24,6,80\\r\\n2001,Florida St.,7,Atlantic Coast,9,7,56.3,T3rd,18,11,62.1,at-large,N,1,1,2nd,19,12,61.3\\r\\n2001,George Washington,7,Atlantic 10,14,2,87.5,2nd,22,9,71,at-large,N,0,1,1st,22,10,68.8\\r\\n2001,Georgia,2,Southeastern,11,3,78.6,T2nd,25,5,83.3,auto,Y,1,1,2nd,26,6,81.3\\r\\n2001,Georgia St.,14,Trans America,15,3,83.3,2nd,24,6,80,auto,N,0,1,1st,24,7,77.4\\r\\n2001,Holy Cross,14,Patriot,11,1,91.7,1st,21,8,72.4,auto,N,0,1,1st,21,9,70\\r\\n2001,Howard,15,Mid-Eastern,15,3,83.3,1st,21,9,70,auto,N,0,1,1st,21,10,67.7\\r\\n2001,Idaho St.,14,Big Sky,16,0,100,1st,25,4,86.2,auto,N,0,1,1st,25,5,83.3\\r\\n2001,Iowa,4,Big Ten,12,4,75,T2nd,20,9,69,auto,N,1,1,2nd,21,10,67.7\\r\\n2001,Iowa St.,2,Big 12,12,4,75,3rd,25,5,83.3,auto,Y,2,1,RSF,27,6,81.8\\r\\n2001,Liberty,15,Big South,12,2,85.7,1st,18,11,62.1,auto,N,0,1,1st,18,12,60\\r\\n2001,Long Island,16,Northeast,11,7,61.1,T3rd,16,14,53.3,auto,N,0,1,1st,16,15,51.6\\r\\n2001,Louisiana Tech,3,Sun Belt,16,0,100,1st,28,4,87.5,auto,Y,3,1,RF,31,5,86.1\\r\\n2001,Louisville,13,Conference USA,14,2,87.5,1st-A,19,9,67.9,at-large,N,0,1,1st,19,10,65.5\\r\\n2001,LSU,6,Southeastern,8,6,57.1,T4th,19,10,65.5,at-large,N,1,1,2nd,20,11,64.5\\r\\n2001,Maryland,8,Atlantic Coast,8,8,50,T5th,17,11,60.7,at-large,N,0,1,1st,17,12,58.6\\r\\n2001,Michigan,8,Big Ten,10,6,62.5,5th,18,11,62.1,at-large,N,1,1,2nd,19,12,61.3\\r\\n2001,Milwaukee,16,Horizon,12,2,85.7,1st,19,10,65.5,auto,N,0,1,1st,19,11,63.3\\r\\n2001,Missouri,10,Big 12,10,6,62.5,5th,20,9,69,at-large,N,2,1,RSF,22,10,68.8\\r\\n2001,Missouri St.,5,Missouri Valley,16,2,88.9,T1st,25,5,83.3,auto,N,4,1,NSF,29,6,82.9\\r\\n2001,NC State,4,Atlantic Coast,9,7,56.3,T3rd,20,10,66.7,at-large,Y,2,1,RSF,22,11,66.7\\r\\n2001,Notre Dame,1,Big East,15,1,93.8,T1st,28,2,93.3,at-large,Y,6,0,Champ,34,2,94.4\\r\\n2001,Oklahoma,2,Big 12,15,1,93.8,1st,26,5,83.9,at-large,Y,2,1,RSF,28,6,82.4\\r\\n2001,Old Dominion,11,Colonial,15,1,93.8,1st,21,8,72.4,auto,N,0,1,1st,21,9,70\\r\\n2001,Oral Roberts,15,Mid-Continent,11,5,68.8,T2nd,20,10,66.7,auto,N,0,1,1st,20,11,64.5\\r\\n2001,Oregon,13,Pacific-10,10,8,55.6,4th,17,11,60.7,at-large,N,0,1,1st,17,12,58.6\\r\\n2001,Penn,15,Ivy,14,0,100,1st,23,5,82.1,auto,N,0,1,1st,23,6,79.3\\r\\n2001,Penn St.,6,Big Ten,11,5,68.8,4th,19,9,67.9,at-large,N,0,1,1st,19,10,65.5\\r\\n2001,Purdue,3,Big Ten,14,2,87.5,1st,26,6,81.3,at-large,Y,5,1,N2nd,31,7,81.6\\r\\n2001,Rutgers,4,Big East,13,3,81.3,3rd,22,7,75.9,at-large,Y,1,1,2nd,23,8,74.2\\r\\n2001,SFA,13,Southland,18,2,90,1st,26,6,81.3,auto,N,0,1,1st,26,7,78.8\\r\\n2001,Siena,11,Metro Atlantic,17,1,94.4,1st,24,5,82.8,auto,N,0,1,1st,24,6,80\\r\\n2001,St. Mary's (CA),9,West Coast,11,3,78.6,T1st,25,5,83.3,auto,N,1,1,2nd,26,6,81.3\\r\\n2001,Stanford,10,Pacific-10,12,6,66.7,T1st,18,10,64.3,auto,N,1,1,2nd,19,11,63.3\\r\\n2001,TCU,11,Western Athletic,13,3,81.3,1st,24,7,77.4,auto,N,1,1,2nd,25,8,75.8\\r\\n2001,Tennessee,1,Southeastern,14,0,100,1st,29,2,93.5,at-large,Y,2,1,RSF,31,3,91.2\\r\\n2001,Texas,8,Big 12,7,9,43.8,7th,20,12,62.5,at-large,N,0,1,1st,20,13,60.6\\r\\n2001,Texas Tech,2,Big 12,13,3,81.3,2nd,23,6,79.3,at-large,Y,2,1,RSF,25,7,78.1\\r\\n2001,Toledo,12,Mid-American,15,1,93.8,T1st-W,25,5,83.3,auto,N,0,1,1st,25,6,80.6\\r\\n2001,Tulane,10,Conference USA,12,4,75,1st-N,22,9,71,auto,N,0,1,1st,22,10,68.8\\r\\n2001,UC Santa Barbara,14,Big West,12,2,85.7,1st,22,8,73.3,auto,N,0,1,1st,22,9,71\\r\\n2001,UConn,1,Big East,15,1,93.8,T1st,28,2,93.3,auto,Y,4,1,NSF,32,3,91.4\\r\\n2001,Utah,5,Mountain West,14,0,100,1st,26,3,89.7,at-large,Y,2,1,RSF,28,4,87.5\\r\\n2001,Vanderbilt,3,Southeastern,8,6,57.1,T4th,21,9,70,at-large,Y,3,1,RF,24,10,70.6\\r\\n2001,Villanova,5,Big East,11,5,68.8,T4th,21,8,72.4,at-large,N,1,1,2nd,22,9,71\\r\\n2001,Virginia,9,Atlantic Coast,8,8,50,T5th,18,13,58.1,at-large,N,0,1,1st,18,14,56.3\\r\\n2001,Virginia Tech,7,Big East,11,5,68.8,T4th,23,6,79.3,at-large,N,1,1,2nd,24,7,77.4\\r\\n2001,Washington,6,Pacific-10,12,6,66.7,T1st,19,9,67.9,at-large,N,3,1,RF,22,10,68.8\\r\\n2001,Wisconsin,7,Big Ten,12,4,75,T2nd,18,9,66.7,at-large,N,0,1,1st,18,10,64.3\\r\\n2001,Xavier,4,Atlantic 10,15,1,93.8,1st,28,2,93.3,auto,Y,3,1,RF,31,3,91.2\\r\\n2002,Arizona St.,9,Pacific-10,12,6,66.7,T2nd,24,8,75,auto,N,1,1,2nd,25,9,73.5\\r\\n2002,Arkansas,6,Southeastern,7,7,50,T7th,19,11,63.3,at-large,N,1,1,2nd,20,12,62.5\\r\\n2002,Austin Peay,15,Ohio Valley,9,7,56.3,4th,19,11,63.3,auto,N,0,1,1st,19,12,61.3\\r\\n2002,Baylor,2,Big 12,12,4,75,2nd,26,5,83.9,at-large,Y,1,1,2nd,27,6,81.8\\r\\n2002,Boston College,5,Big East,12,4,75,T3rd,23,7,76.7,at-large,N,0,1,1st,23,8,74.2\\r\\n2002,Bucknell,15,Patriot,11,3,78.6,2nd,21,9,70,auto,N,0,1,1st,21,10,67.7\\r\\n2002,BYU,11,Mountain West,10,4,71.4,T2nd,22,8,73.3,auto,N,2,1,RSF,24,9,72.7\\r\\n2002,Chattanooga,13,Southern,14,4,77.8,T1st,23,7,76.7,auto,N,0,1,1st,23,8,74.2\\r\\n2002,Cincinnati,6,Conference USA,11,3,78.6,T2nd,26,4,86.7,auto,N,1,1,2nd,27,5,84.4\\r\\n2002,Clemson,11,Atlantic Coast,9,7,56.3,T3rd,17,11,60.7,at-large,N,0,1,1st,17,12,58.6\\r\\n2002,Colorado,3,Big 12,11,5,68.8,T3rd,21,9,70,at-large,Y,3,1,RF,24,10,70.6\\r\\n2002,Colorado St.,7,Mountain West,12,2,85.7,1st,24,6,80,at-large,N,0,1,1st,24,7,77.4\\r\\n2002,Creighton,12,Missouri Valley,16,2,88.9,1st,24,6,80,auto,N,0,1,1st,24,7,77.4\\r\\n2002,Drake,7,Missouri Valley,15,3,83.3,2nd,23,7,76.7,at-large,N,2,1,RSF,25,8,75.8\\r\\n2002,Duke,1,Atlantic Coast,16,0,100,1st,27,3,90,auto,Y,4,1,NSF,31,4,88.6\\r\\n2002,FIU,5,Sun Belt,13,1,92.9,1st,26,5,83.9,auto,N,1,1,2nd,27,6,81.8\\r\\n2002,Florida,6,Southeastern,8,6,57.1,T4th,18,10,64.3,at-large,N,0,1,1st,18,11,62.1\\r\\n2002,Georgia,10,Southeastern,6,8,42.9,9th,19,10,65.5,at-large,N,0,1,1st,19,11,63.3\\r\\n2002,Georgia St.,15,Atlantic Sun,14,6,70,1st,21,9,70,auto,N,0,1,1st,21,10,67.7\\r\\n2002,Green Bay,13,Horizon,15,1,93.8,1st,24,6,80,auto,N,0,1,1st,24,7,77.4\\r\\n2002,Hartford,16,America East,9,7,56.3,T4th,16,14,53.3,auto,N,0,1,1st,16,15,51.6\\r\\n2002,Harvard,13,Ivy,13,1,92.9,1st,22,5,81.5,auto,N,0,1,1st,22,6,78.6\\r\\n2002,Indiana,9,Big Ten,8,8,50,T5th,17,13,56.7,auto,N,0,1,1st,17,14,54.8\\r\\n2002,Iowa,9,Big Ten,10,6,62.5,4th,17,10,63,at-large,N,1,1,2nd,18,11,62.1\\r\\n2002,Iowa St.,3,Big 12,9,7,56.3,6th,23,8,74.2,at-large,Y,1,1,2nd,24,9,72.7\\r\\n2002,Kansas St.,3,Big 12,11,5,68.8,T3rd,24,11,68.6,at-large,Y,2,1,RSF,26,12,68.4\\r\\n2002,Kent St.,14,Mid-American,13,3,81.3,1st-E,20,10,66.7,auto,N,0,1,1st,20,11,64.5\\r\\n2002,Liberty,14,Big South,13,1,92.9,1st,23,7,76.7,auto,N,0,1,1st,23,8,74.2\\r\\n2002,Louisiana Tech,5,Western Athletic,17,1,94.4,1st,25,4,86.2,auto,N,0,1,1st,25,5,83.3\\r\\n2002,LSU,6,Southeastern,8,6,57.1,T4th,17,11,60.7,at-large,N,1,1,2nd,18,12,60\\r\\n2002,Minnesota,5,Big Ten,11,5,68.8,T2nd,21,7,75,at-large,N,1,1,2nd,22,8,73.3\\r\\n2002,Mississippi St.,12,Southeastern,8,6,57.1,T4th,18,11,62.1,at-large,N,1,1,2nd,19,12,61.3\\r\\n2002,New Mexico,10,Mountain West,10,4,71.4,T2nd,22,8,73.3,at-large,N,0,1,1st,22,9,71\\r\\n2002,Norfolk St.,16,Mid-Eastern,13,5,72.2,2nd,22,8,73.3,auto,N,0,1,1st,22,9,71\\r\\n2002,North Carolina,4,Atlantic Coast,11,5,68.8,2nd,24,8,75,at-large,Y,2,1,RSF,26,9,74.3\\r\\n2002,Notre Dame,7,Big East,13,3,81.3,2nd,19,9,67.9,at-large,N,1,1,2nd,20,10,66.7\\r\\n2002,Oakland,16,Mid-Continent,8,6,57.1,T2nd,17,13,56.7,auto,N,0,1,1st,17,14,54.8\\r\\n2002,Oklahoma,1,Big 12,14,2,87.5,1st,27,3,90,auto,Y,5,1,N2nd,32,4,88.9\\r\\n2002,Old Dominion,7,Colonial,18,0,100,1st,25,5,83.3,auto,N,3,1,RF,28,6,82.4\\r\\n2002,Penn St.,4,Big Ten,11,5,68.8,T2nd,21,11,65.6,at-large,Y,2,1,RSF,23,12,65.7\\r\\n2002,Pepperdine,8,West Coast,11,3,78.6,1st,23,7,76.7,auto,N,0,1,1st,23,8,74.2\\r\\n2002,Purdue,2,Big Ten,13,3,81.3,1st,23,5,82.1,at-large,Y,1,1,2nd,24,6,80\\r\\n2002,Saint Francis (PA),16,Northeast,14,4,77.8,1st,19,11,63.3,auto,N,0,1,1st,19,12,61.3\\r\\n2002,Saint Peter's,12,Metro Atlantic,15,3,83.3,2nd,25,5,83.3,auto,N,0,1,1st,25,6,80.6\\r\\n2002,Santa Clara,11,West Coast,9,5,64.3,T2nd,21,9,70,at-large,N,0,1,1st,21,10,67.7\\r\\n2002,SFA,13,Southland,19,1,95,1st,24,5,82.8,auto,N,0,1,1st,24,6,80\\r\\n2002,South Carolina,3,Southeastern,10,4,71.4,T2nd,22,6,78.6,at-large,Y,3,1,RF,25,7,78.1\\r\\n2002,Southern,14,Southwestern,17,1,94.4,1st,26,4,86.7,auto,N,0,1,1st,26,5,83.9\\r\\n2002,Stanford,2,Pacific-10,18,0,100,1st,30,2,93.8,at-large,Y,2,1,RSF,32,3,91.4\\r\\n2002,Syracuse,10,Big East,9,7,56.3,T6th,18,12,60,at-large,N,0,1,1st,18,13,58.1\\r\\n2002,TCU,8,Conference USA,12,2,85.7,1st,23,6,79.3,at-large,N,1,1,2nd,24,7,77.4\\r\\n2002,Temple,14,Atlantic 10,12,4,75,T1st-E,20,10,66.7,auto,N,0,1,1st,20,11,64.5\\r\\n2002,Tennessee,2,Southeastern,13,1,92.9,1st,25,4,86.2,at-large,Y,4,1,NSF,29,5,85.3\\r\\n2002,Texas,4,Big 12,10,6,62.5,5th,20,9,69,at-large,Y,2,1,RSF,22,10,68.8\\r\\n2002,Texas Tech,4,Big 12,8,8,50,7th,18,11,62.1,at-large,Y,2,1,RSF,20,12,62.5\\r\\n2002,Tulane,10,Conference USA,8,6,57.1,T4th,23,10,69.7,at-large,N,1,1,2nd,24,11,68.6\\r\\n2002,UC Santa Barbara,12,Big West,16,0,100,1st,25,5,83.3,auto,N,1,1,2nd,26,6,81.3\\r\\n2002,UConn,1,Big East,16,0,100,1st,33,0,100,auto,Y,6,0,Champ,39,0,100\\r\\n2002,UNLV,12,Mountain West,9,5,64.3,4th,23,7,76.7,at-large,N,0,1,1st,23,8,74.2\\r\\n2002,Vanderbilt,1,Southeastern,10,4,71.4,T2nd,27,6,81.8,auto,Y,3,1,RF,30,7,81.1\\r\\n2002,Villanova,9,Big East,12,4,75,T3rd,19,10,65.5,at-large,N,1,1,2nd,20,11,64.5\\r\\n2002,Virginia,8,Atlantic Coast,9,7,56.3,T3rd,17,12,58.6,at-large,N,0,1,1st,17,13,56.7\\r\\n2002,Weber St.,15,Big Sky,11,3,78.6,T1st,22,8,73.3,auto,N,0,1,1st,22,9,71\\r\\n2002,Wisconsin,8,Big Ten,8,8,50,T5th,19,11,63.3,at-large,N,0,1,1st,19,12,61.3\\r\\n2003,Alabama St.,16,Southwestern,16,3,84.2,1st,20,10,66.7,auto,N,0,1,1st,20,11,64.5\\r\\n2003,Arizona,6,Pacific-10,13,5,72.2,T2nd,22,8,73.3,at-large,N,0,1,1st,22,9,71\\r\\n2003,Arkansas,7,Southeastern,7,7,50,7th,21,10,67.7,at-large,N,1,1,2nd,22,11,66.7\\r\\n2003,Austin Peay,14,Ohio Valley,16,0,100,1st,27,3,90,auto,N,0,1,1st,27,4,87.1\\r\\n2003,Boston College,5,Big East,12,4,75,T3rd,20,8,71.4,at-large,N,2,1,RSF,22,9,71\\r\\n2003,Boston University,16,America East,10,6,62.5,3rd,16,14,53.3,auto,N,0,1,1st,16,15,51.6\\r\\n2003,BYU,11,Mountain West,8,6,57.1,T3rd,19,11,63.3,at-large,N,0,1,1st,19,12,61.3\\r\\n2003,Charlotte,12,Conference USA,12,2,85.7,1st,21,8,72.4,at-large,N,0,1,1st,21,9,70\\r\\n2003,Chattanooga,12,Southern,16,2,88.9,1st,26,4,86.7,auto,N,0,1,1st,26,5,83.9\\r\\n2003,Cincinnati,10,Conference USA,11,3,78.6,2nd,23,7,76.7,at-large,Y,0,1,1st,23,8,74.2\\r\\n2003,Colorado,6,Big 12,11,5,68.8,4th,22,7,75.9,at-large,Y,2,1,RSF,24,8,75\\r\\n2003,DePaul,9,Conference USA,10,4,71.4,T3rd,22,9,71,at-large,N,0,1,1st,22,10,68.8\\r\\n2003,Duke,1,Atlantic Coast,16,0,100,1st,31,1,96.9,auto,N,4,1,NSF,35,2,94.6\\r\\n2003,George Washington,7,Atlantic 10,15,1,93.8,1st-W,24,6,80,auto,N,1,1,2nd,25,7,78.1\\r\\n2003,Georgia,5,Southeastern,10,4,71.4,T3rd,19,9,67.9,at-large,Y,2,1,RSF,21,10,67.7\\r\\n2003,Georgia St.,16,Atlantic Sun,12,4,75,1st-N,20,10,66.7,auto,N,0,1,1st,20,11,64.5\\r\\n2003,Georgia Tech,10,Atlantic Coast,8,8,50,T4th,20,10,66.7,at-large,N,0,1,1st,20,11,64.5\\r\\n2003,Green Bay,8,Horizon,15,1,93.8,1st,27,3,90,auto,N,1,1,2nd,28,4,87.5\\r\\n2003,Hampton,15,Mid-Eastern,16,1,94.1,1st,23,8,74.2,auto,N,0,1,1st,23,9,71.9\\r\\n2003,Harvard,14,Ivy,14,0,100,1st,22,4,84.6,auto,N,0,1,1st,22,5,81.5\\r\\n2003,Holy Cross,13,Patriot,13,1,92.9,1st,24,7,77.4,auto,N,0,1,1st,24,8,75\\r\\n2003,Illinois,9,Big Ten,9,7,56.3,6th,17,11,60.7,at-large,N,0,1,1st,17,12,58.6\\r\\n2003,Kansas St.,3,Big 12,14,2,87.5,2nd,28,4,87.5,at-large,Y,1,1,2nd,29,5,85.3\\r\\n2003,Liberty,13,Big South,14,0,100,1st,26,3,89.7,auto,N,0,1,1st,26,4,86.7\\r\\n2003,Louisiana Tech,5,Western Athletic,18,0,100,1st,29,2,93.5,auto,Y,2,1,RSF,31,3,91.2\\r\\n2003,LSU,1,Southeastern,11,3,78.6,2nd,27,3,90,auto,N,3,1,RF,30,4,88.2\\r\\n2003,Manhattan,14,Metro Atlantic,15,3,83.3,T1st,20,9,69,auto,N,0,1,1st,20,10,66.7\\r\\n2003,Miami (FL),11,Big East,8,8,50,7th,18,12,60,at-large,N,0,1,1st,18,13,58.1\\r\\n2003,Michigan St.,8,Big Ten,10,6,62.5,T4th,17,11,60.7,at-large,N,0,1,1st,17,12,58.6\\r\\n2003,Minnesota,6,Big Ten,12,4,75,T2nd,23,5,82.1,at-large,N,2,1,RSF,25,6,80.6\\r\\n2003,Mississippi St.,3,Southeastern,10,4,71.4,T3rd,23,7,76.7,at-large,N,1,1,2nd,24,8,75\\r\\n2003,Missouri St.,15,Missouri Valley,11,7,61.1,T4th,18,12,60,auto,N,0,1,1st,18,13,58.1\\r\\n2003,New Mexico,6,Mountain West,9,5,64.3,2nd,22,8,73.3,auto,Y,2,1,RSF,24,9,72.7\\r\\n2003,North Carolina,3,Atlantic Coast,13,3,81.3,2nd,27,5,84.4,at-large,N,1,1,2nd,28,6,82.4\\r\\n2003,Notre Dame,11,Big East,10,6,62.5,T5th,19,10,65.5,at-large,N,2,1,RSF,21,11,65.6\\r\\n2003,Ohio St.,4,Big Ten,10,6,62.5,T4th,21,9,70,at-large,N,1,1,2nd,22,10,68.8\\r\\n2003,Oklahoma,10,Big 12,9,7,56.3,T5th,19,12,61.3,at-large,Y,0,1,1st,19,13,59.4\\r\\n2003,Old Dominion,12,Colonial,15,3,83.3,T1st,21,10,67.7,auto,Y,0,1,1st,21,11,65.6\\r\\n2003,Penn St.,4,Big Ten,13,3,81.3,1st,24,8,75,at-large,Y,2,1,RSF,26,9,74.3\\r\\n2003,Pepperdine,12,West Coast,12,2,85.7,1st,22,7,75.9,auto,N,0,1,1st,22,8,73.3\\r\\n2003,Purdue,2,Big Ten,12,4,75,T2nd,26,5,83.9,auto,Y,3,1,RF,29,6,82.9\\r\\n2003,Rutgers,4,Big East,13,3,81.3,2nd,20,7,74.1,at-large,N,1,1,2nd,21,8,72.4\\r\\n2003,Saint Francis (PA),15,Northeast,16,2,88.9,1st,23,7,76.7,auto,N,0,1,1st,23,8,74.2\\r\\n2003,South Carolina,5,Southeastern,9,5,64.3,T5th,22,7,75.9,at-large,N,1,1,2nd,23,8,74.2\\r\\n2003,Stanford,3,Pacific-10,15,3,83.3,1st,26,4,86.7,auto,Y,1,1,2nd,27,5,84.4\\r\\n2003,TCU,9,Conference USA,8,6,57.1,T5th,19,13,59.4,auto,N,1,1,2nd,20,14,58.8\\r\\n2003,Tennessee,1,Southeastern,14,0,100,1st,28,4,87.5,at-large,Y,5,1,N2nd,33,5,86.8\\r\\n2003,Texas,2,Big 12,15,1,93.8,1st,25,5,83.3,auto,N,4,1,NSF,29,6,82.9\\r\\n2003,Texas St.,16,Southland,14,6,70,T3rd,18,13,58.1,auto,N,0,1,1st,18,14,56.3\\r\\n2003,Texas Tech,2,Big 12,13,3,81.3,3rd,26,5,83.9,at-large,Y,3,1,RF,29,6,82.9\\r\\n2003,Tulane,11,Conference USA,10,4,71.4,T3rd,19,9,67.9,at-large,N,0,1,1st,19,10,65.5\\r\\n2003,UC Santa Barbara,7,Big West,15,1,93.8,1st,26,4,86.7,auto,N,1,1,2nd,27,5,84.4\\r\\n2003,UConn,1,Big East,16,0,100,1st,31,1,96.9,at-large,Y,6,0,Champ,37,1,97.4\\r\\n2003,Utah,8, Mountain West,12,2,85.7,1st,23,6,79.3,at-large,N,1,1,2nd,24,7,77.4\\r\\n2003,Valparaiso,15,Mid-Continent,8,6,57.1,T2nd,18,12,60,auto,N,0,1,1st,18,13,58.1\\r\\n2003,Vanderbilt,4,Southeastern,9,5,64.3,T5th,21,9,70,at-large,N,1,1,2nd,22,10,68.8\\r\\n2003,Villanova,2,Big East,12,4,75,T3rd,25,5,83.3,auto,N,3,1,RF,28,6,82.4\\r\\n2003,Virginia,8,Atlantic Coast,9,7,56.3,3rd,16,13,55.2,at-large,N,1,1,2nd,17,14,54.8\\r\\n2003,Virginia Tech,7,Big East,10,6,62.5,T5th,21,9,70,at-large,N,1,1,2nd,22,10,68.8\\r\\n2003,Washington,9,Pacific-10,13,5,72.2,T2nd,22,7,75.9,at-large,N,0,1,1st,22,8,73.3\\r\\n2003,Weber St.,13,Big Sky,11,3,78.6,T1st,21,8,72.4,auto,N,0,1,1st,21,9,70\\r\\n2003,Western Ky.,13,Sun Belt,12,2,85.7,1st,22,8,73.3,auto,N,0,1,1st,22,9,71\\r\\n2003,Western Mich.,14,Mid-American,10,6,62.5,3rd-W,20,11,64.5,auto,N,0,1,1st,20,12,62.5\\r\\n2003,Xavier,10,Atlantic 10,11,5,68.8,2nd-W,20,9,69,at-large,N,0,1,1st,20,10,66.7\\r\\n2004,Arizona,9,Pacific-10,14,4,77.8,T1st,24,8,75,at-large,N,0,1,1st,24,9,72.7\\r\\n2004,Auburn,7,Southeastern,9,5,64.3,3rd,21,8,72.4,at-large,N,1,1,2nd,22,9,71\\r\\n2004,Austin Peay,13,Ohio Valley,14,2,87.5,1st,23,7,76.7,auto,N,0,1,1st,23,8,74.2\\r\\n2004,Baylor,4,Big 12,10,6,62.5,T4th,24,8,75,at-large,N,2,1,RSF,26,9,74.3\\r\\n2004,Boston College,3,Big East,11,5,68.8,T4th,25,6,80.6,auto,N,2,1,RSF,27,7,79.4\\r\\n2004,Chattanooga,10,Southern,20,0,100,1st,28,2,93.3,auto,Y,1,1,2nd,29,3,90.6\\r\\n2004,Colgate,16,Patriot,10,4,71.4,1st,21,9,70,auto,N,0,1,1st,21,10,67.7\\r\\n2004,Colorado,6,Big 12,11,5,68.8,3rd,22,7,75.9,at-large,N,0,1,1st,22,8,73.3\\r\\n2004,DePaul,9,Conference USA,10,4,71.4,4th,22,6,78.6,at-large,N,1,1,2nd,23,7,76.7\\r\\n2004,Duke,1,Atlantic Coast,15,1,93.8,1st,27,3,90,auto,Y,3,1,RF,30,4,88.2\\r\\n2004,Eastern Mich.,14,Mid-American,12,4,75,1st-W,22,7,75.9,auto,N,0,1,1st,22,8,73.3\\r\\n2004,Florida,5,Southeastern,8,6,57.1,T4th,18,10,64.3,at-large,N,1,1,2nd,19,11,63.3\\r\\n2004,George Washington,8,Atlantic 10,14,2,87.5,1st-W,22,7,75.9,at-large,N,0,1,1st,22,8,73.3\\r\\n2004,Georgia,3,Southeastern,8,6,57.1,T4th,22,9,71,at-large,N,3,1,RF,25,10,71.4\\r\\n2004,Green Bay,14,Horizon,13,3,81.3,1st,23,7,76.7,auto,N,0,1,1st,23,8,74.2\\r\\n2004,Hampton,16,Mid-Eastern,14,4,77.8,T1st,17,10,63,auto,N,0,1,1st,17,11,60.7\\r\\n2004,Houston,3,Conference USA,13,1,92.9,1st,27,3,90,auto,N,1,1,2nd,28,4,87.5\\r\\n2004,Iowa,9,Big Ten,10,6,62.5,T4th,16,12,57.1,at-large,N,0,1,1st,16,13,55.2\\r\\n2004,Kansas St.,2,Big 12,14,2,87.5,T1st,24,5,82.8,at-large,N,1,1,2nd,25,6,80.6\\r\\n2004,Liberty,14,Big South,14,0,100,1st,25,6,80.6,auto,N,0,1,1st,25,7,78.1\\r\\n2004,Lipscomb,15,Atlantic Sun,14,6,70,T1st,20,11,64.5,auto,N,0,1,1st,20,12,62.5\\r\\n2004,Louisiana Tech,5,Western Athletic,17,1,94.4,1st,27,2,93.1,auto,N,2,1,RSF,29,3,90.6\\r\\n2004,Loyola Marymount,13,West Coast,13,1,92.9,1st,24,5,82.8,auto,N,0,1,1st,24,6,80\\r\\n2004,LSU,4,Southeastern,10,4,71.4,2nd,23,7,76.7,at-large,Y,4,1,NSF,27,8,77.1\\r\\n2004,Maine,13,America East,17,1,94.4,1st,25,6,80.6,auto,N,0,1,1st,25,7,78.1\\r\\n2004,Marist,14,Metro Atlantic,13,5,72.2,T1st,20,10,66.7,auto,N,0,1,1st,20,11,64.5\\r\\n2004,Marquette,9,Conference USA,9,5,64.3,T5th,21,9,70,at-large,N,1,1,2nd,22,10,68.8\\r\\n2004,Maryland,12,Atlantic Coast,8,8,50,T3rd,17,12,58.6,at-large,N,1,1,2nd,18,13,58.1\\r\\n2004,Miami (FL),5,Big East,11,5,68.8,T4th,22,6,78.6,at-large,N,0,1,1st,22,7,75.9\\r\\n2004,Michigan St.,8,Big Ten,10,6,62.5,T4th,21,8,72.4,at-large,N,1,1,2nd,22,9,71\\r\\n2004,Middle Tenn.,13,Sun Belt,10,4,71.4,T1st-E,23,7,76.7,auto,N,1,1,2nd,24,8,75\\r\\n2004,Minnesota,7,Big Ten,9,7,56.3,6th,21,8,72.4,at-large,Y,4,1,NSF,25,9,73.5\\r\\n2004,Missouri,11,Big 12,7,9,43.8,T7th,17,12,58.6,at-large,N,0,1,1st,17,13,56.7\\r\\n2004,Missouri St.,12,Missouri Valley,16,2,88.9,1st,28,3,90.3,auto,N,0,1,1st,28,4,87.5\\r\\n2004,Montana,12,Big Sky,14,0,100,1st,27,4,87.1,auto,Y,0,1,1st,27,5,84.4\\r\\n2004,NC State,10,Atlantic Coast,8,8,50,T3rd,17,14,54.8,at-large,N,0,1,1st,17,15,53.1\\r\\n2004,New Mexico,12,Mountain West,12,2,85.7,T1st,23,7,76.7,auto,Y,0,1,1st,23,8,74.2\\r\\n2004,North Carolina,4,Atlantic Coast,12,4,75,2nd,24,6,80,at-large,N,0,1,1st,24,7,77.4\\r\\n2004,Northwestern St.,16,Southland,14,2,87.5,1st,24,6,80,auto,N,0,1,1st,24,7,77.4\\r\\n2004,Notre Dame,5,Big East,12,4,75,T2nd,19,10,65.5,at-large,Y,2,1,RSF,21,11,65.6\\r\\n2004,Ohio St.,6,Big Ten,11,5,68.8,3rd,20,9,69,at-large,Y,1,1,2nd,21,10,67.7\\r\\n2004,Oklahoma,3,Big 12,9,7,56.3,6th,23,8,74.2,auto,N,1,1,2nd,24,9,72.7\\r\\n2004,Old Dominion,8,Colonial,17,1,94.4,1st,25,6,80.6,auto,N,0,1,1st,25,7,78.1\\r\\n2004,Ole Miss,10,Southeastern,7,7,50,T7th,17,13,56.7,at-large,N,0,1,1st,17,14,54.8\\r\\n2004,Penn,15,Ivy,11,3,78.6,1st,17,10,63,auto,N,0,1,1st,17,11,60.7\\r\\n2004,Penn St.,1,Big Ten,15,1,93.8,1st,25,5,83.3,at-large,N,3,1,RF,28,6,82.4\\r\\n2004,Purdue,2,Big Ten,14,2,87.5,2nd,27,3,90,auto,N,2,1,RSF,29,4,87.9\\r\\n2004,Rutgers,7,Big East,10,6,62.5,T6th,21,11,65.6,at-large,N,0,1,1st,21,12,63.6\\r\\n2004,Saint Francis (PA),15,Northeast,18,0,100,1st,25,5,83.3,auto,N,0,1,1st,25,6,80.6\\r\\n2004,Southern,16,Southwestern,12,6,66.7,3rd,17,12,58.6,auto,N,0,1,1st,17,13,56.7\\r\\n2004,Stanford,6,Pacific-10,14,4,77.8,T1st,24,6,80,auto,N,3,1,RF,27,7,79.4\\r\\n2004,TCU,6,Conference USA,11,3,78.6,T2nd,24,6,80,at-large,N,1,1,2nd,25,7,78.1\\r\\n2004,Temple,11,Atlantic 10,14,2,87.5,1st-E,21,9,70,auto,Y,0,1,1st,21,10,67.7\\r\\n2004,Tennessee,1,Southeastern,14,0,100,1st,26,3,89.7,at-large,N,5,1,N2nd,31,4,88.6\\r\\n2004,Texas,1,Big 12,14,2,87.5,T1st,28,4,87.5,at-large,Y,2,1,RSF,30,5,85.7\\r\\n2004,Texas Tech,4,Big 12,10,6,62.5,T4th,24,7,77.4,at-large,N,1,1,2nd,25,8,75.8\\r\\n2004,UC Santa Barbara,11,Big West,17,1,94.4,1st,25,6,80.6,auto,Y,2,1,RSF,27,7,79.4\\r\\n2004,UCLA,10,Pacific-10,11,7,61.1,T3rd,17,12,58.6,at-large,N,0,1,1st,17,13,56.7\\r\\n2004,UConn,2,Big East,14,2,87.5,1st,25,4,86.2,at-large,N,6,0,Champ,31,4,88.6\\r\\n2004,Valparaiso,15,Mid-Continent,11,5,68.8,T2nd,20,11,64.5,auto,N,0,1,1st,20,12,62.5\\r\\n2004,Vanderbilt,2,Southeastern,8,6,57.1,T4th,24,7,77.4,auto,N,2,1,RSF,26,8,76.5\\r\\n2004,Villanova,7,Big East,12,4,75,T2nd,22,6,78.6,at-large,N,1,1,2nd,23,7,76.7\\r\\n2004,Virginia Tech,8,Big East,10,6,62.5,T6th,22,7,75.9,at-large,Y,1,1,2nd,23,8,74.2\\r\\n2004,West Virginia,11,Big East,10,6,62.5,T6th,21,10,67.7,at-large,N,0,1,1st,21,11,65.6\\r\\n2005,Alcorn St.,16,Southwestern,14,4,77.8,1st,21,8,72.4,auto,N,0,1,1st,21,9,70\\r\\n2005,Arizona,9,Pacific-10,11,7,61.1,5th,19,11,63.3,at-large,N,1,1,2nd,20,12,62.5\\r\\n2005,Arizona St.,5,Pacific-10,12,6,66.7,T2nd,21,9,70,at-large,N,2,1,RSF,23,10,69.7\\r\\n2005,Baylor,2,Big 12,14,2,87.5,1st,27,3,90,auto,N,6,0,Champ,33,3,91.7\\r\\n2005,Boston College,7,Big East,10,6,62.5,T4th,19,9,67.9,at-large,N,1,1,2nd,20,10,66.7\\r\\n2005,Bowling Green,13,Mid-American,13,3,81.3,T1st,23,7,76.7,at-large,N,0,1,1st,23,8,74.2\\r\\n2005,Canisius,15,Metro Atlantic,14,4,77.8,2nd,21,9,70,auto,N,0,1,1st,21,10,67.7\\r\\n2005,Coppin St.,16,Mid-Eastern,15,3,83.3,1st,23,7,76.7,auto,N,0,1,1st,23,8,74.2\\r\\n2005,Dartmouth,14,Ivy,12,2,85.7,T1st,17,10,63,auto,N,0,1,1st,17,11,60.7\\r\\n2005,DePaul,5,Conference USA,13,1,92.9,1st,25,4,86.2,at-large,N,1,1,2nd,26,5,83.9\\r\\n2005,Duke,2,Atlantic Coast,12,2,85.7,T1st,28,4,87.5,at-large,N,3,1,RF,31,53,36.9\\r\\n2005,Eastern Ky.,12,Ohio Valley,15,1,93.8,1st,23,8,74.2,auto,N,0,1,1st,23,9,71.9\\r\\n2005,Florida St.,6,Atlantic Coast,9,5,64.3,4th,23,7,76.7,at-large,N,1,1,2nd,24,8,75\\r\\n2005,George Washington,9,Atlantic 10,13,3,81.3,1st,22,8,73.3,at-large,N,1,1,2nd,23,9,71.9\\r\\n2005,Georgia,6,Southeastern,9,5,64.3,4th,22,9,71,at-large,N,2,1,RSF,24,10,70.6\\r\\n2005,Green Bay,10,Horizon,15,1,93.8,1st,27,3,90,auto,N,0,1,1st,27,4,87.1\\r\\n2005,Hartford,14,America East,13,5,72.2,2nd,22,8,73.3,auto,N,0,1,1st,22,9,71\\r\\n2005,Holy Cross,15,Patriot,12,2,85.7,1st,20,10,66.7,auto,N,0,1,1st,20,11,64.5\\r\\n2005,Houston,10,Conference USA,10,4,71.4,T3rd,21,8,72.4,at-large,N,0,1,1st,21,9,70\\r\\n2005,Illinois St.,15,Missouri Valley,7,11,38.9,8th,13,17,43.3,auto,N,0,1,1st,13,18,41.9\\r\\n2005,Iowa St.,7,Big 12,12,4,75,T3rd,23,6,79.3,at-large,N,0,1,1st,23,7,76.7\\r\\n2005,Kansas St.,4,Big 12,12,4,75,T3rd,23,7,76.7,at-large,N,1,1,2nd,24,8,75\\r\\n2005,Liberty,13,Big South,13,1,92.9,1st,24,6,80,auto,N,2,1,RSF,26,7,78.8\\r\\n2005,Louisiana Tech,11,Western Athletic,14,4,77.8,T1st,20,9,69,at-large,N,0,1,1st,20,10,66.7\\r\\n2005,Louisville,9,Conference USA,11,3,78.6,2nd,22,8,73.3,at-large,N,0,1,1st,22,9,71\\r\\n2005,LSU,1,Southeastern,14,0,100,1st,29,2,93.5,at-large,N,4,1,NSF,33,3,91.7\\r\\n2005,Maryland,7,Atlantic Coast,7,7,50,6th,21,9,70,at-large,N,1,1,2nd,22,10,68.8\\r\\n2005,Michigan St.,1,Big Ten,14,2,87.5,T1st,28,3,90.3,auto,N,5,1,N2nd,33,4,89.2\\r\\n2005,Middle Tenn.,12,Sun Belt,11,3,78.6,3rd,23,7,76.7,auto,N,1,1,2nd,23,8,74.2\\r\\n2005,Minnesota,3,Big Ten,12,4,75,4th,24,7,77.4,at-large,Y,2,1,RSF,26,8,76.5\\r\\n2005,Montana,12,Big Sky,13,1,92.9,1st,22,7,75.9,auto,N,0,1,1st,22,8,73.3\\r\\n2005,NC State,5,Atlantic Coast,10,4,71.4,3rd,21,7,75,at-large,N,0,1,1st,21,8,72.4\\r\\n2005,New Mexico,8,Mountain West,12,2,85.7,T1st,26,4,86.7,auto,N,0,1,1st,26,5,83.9\\r\\n2005,North Carolina,1,Atlantic Coast,12,2,85.7,T1st,28,4,87.5,auto,Y,3,1,RF,30,4,88.2\\r\\n2005,Notre Dame,4,Big East,13,3,81.3,T2nd,26,5,83.9,at-large,N,1,1,2nd,27,6,81.8\\r\\n2005,Ohio St.,2,Big Ten,14,2,87.5,T1st,29,3,90.6,at-large,N,2,1,RSF,31,4,88.6\\r\\n2005,Oklahoma,8,Big 12,8,8,50,T7th,17,12,58.6,at-large,N,0,1,1st,17,13,56.7\\r\\n2005,Old Dominion,11,Colonial,15,3,83.3,2nd,22,8,73.3,auto,N,0,1,1st,22,9,71\\r\\n2005,Ole Miss,8,Southeastern,8,6,57.1,5th,19,10,65.5,at-large,N,0,1,1st,19,11,63.3\\r\\n2005,Oral Roberts,14,Mid-Continent,10,6,62.5,4th,22,8,73.3,auto,N,0,1,1st,22,9,71\\r\\n2005,Oregon,10,Pacific-10,12,6,66.7,T2nd,20,9,69,at-large,N,1,1,2nd,21,10,67.7\\r\\n2005,Penn St.,4,Big Ten,13,3,81.3,3rd,19,10,65.5,at-large,Y,0,1,1st,19,11,63.3\\r\\n2005,Purdue,9,Big Ten,9,7,56.3,5th,16,12,57.1,at-large,N,1,1,2nd,17,13,56.7\\r\\n2005,Rice,11,Western Athletic,14,4,77.8,T1st,24,8,75,auto,N,0,1,1st,24,9,72.7\\r\\n2005,Richmond,11,Atlantic 10,12,4,75,3rd,23,7,76.7,at-large,N,0,1,1st,23,8,74.2\\r\\n2005,Rutgers,3,Big East,14,2,87.5,1st,25,6,80.6,at-large,N,3,1,RF,28,7,80\\r\\n2005,Saint Francis (PA),14,Northeast,16,2,88.9,1st,21,9,70,auto,N,0,1,1st,21,10,67.7\\r\\n2005,Santa Clara,15,West Coast,8,6,57.1,3rd,17,13,56.7,auto,N,0,1,1st,17,14,54.8\\r\\n2005,Southern California,8,Pacific-10,12,6,66.7,T2nd,19,10,65.5,at-large,N,1,1,2nd,20,11,64.5\\r\\n2005,Stanford,2,Pacific-10,17,1,94.4,1st,29,2,93.5,auto,N,3,1,RF,32,3,91.4\\r\\n2005,Stetson,16,Atlantic Sun,11,9,55,5th,17,13,56.7,auto,N,0,1,1st,17,14,54.8\\r\\n2005,TCU,7,Conference USA,10,4,71.4,T3rd,23,9,71.9,auto,N,0,1,1st,23,10,69.7\\r\\n2005,Temple,6,Atlantic 10,16,0,100,1st,27,3,90,auto,N,1,1,2nd,28,4,87.5\\r\\n2005,Tennessee,1,Southeastern,13,1,92.9,2nd,26,4,86.7,at-large,Y,4,1,NSF,30,5,85.7\\r\\n2005,Texas,3,Big 12,13,3,81.3,2nd,21,8,72.4,at-large,N,1,1,2nd,22,9,71\\r\\n2005,Texas Tech,4,Big 12,12,4,75,4th,22,7,75.9,at-large,N,2,1,RSF,24,8,75\\r\\n2005,UC Santa Barbara,13,Big West,16,2,88.9,1st,21,8,72.4,auto,N,0,1,1st,21,9,70\\r\\n2005,UConn,3,Big East,13,3,81.3,T2nd,23,7,76.7,auto,Y,2,1,RSF,25,8,75.8\\r\\n2005,UT Arlington,13,Southland,13,3,81.3,T1st,21,9,70,auto,N,0,1,1st,21,10,67.7\\r\\n2005,Utah,10,Mountain West,12,2,85.7,T1st,25,7,78.1,at-large,N,1,1,2nd,26,8,76.5\\r\\n2005,Vanderbilt,5,Southeastern,10,4,71.4,3rd,22,7,75.9,at-large,N,2,1,RSF,24,8,75\\r\\n2005,Virginia,6,Atlantic Coast,8,6,57.1,5th,20,10,66.7,at-large,N,1,1,2nd,21,11,65.6\\r\\n2005,Virginia Tech,12,Atlantic Coast,6,8,42.9,7th,17,11,60.7,at-large,N,0,1,1st,17,12,58.6\\r\\n2005,Western Carolina,16,Southern,10,10,50,T6th,18,13,58.1,auto,N,0,1,1st,18,14,56.3\\r\\n2006,Arizona St.,4,Pacific-10,14,4,77.8,2nd,24,6,80,at-large,N,1,1,2nd,25,7,78.1\\r\\n2006,Army,15,Patriot,11,3,78.6,1st,20,10,66.7,auto,N,0,1,1st,20,11,64.5\\r\\n2006,Baylor,3,Big 12,12,4,75,2nd,24,6,80,at-large,N,2,1,RSF,26,7,78.8\\r\\n2006,Boston College,8,Atlantic Coast,6,8,42.9,T5th,19,11,63.3,at-large,N,2,1,RSF,21,12,63.6\\r\\n2006,Bowling Green,12,Mid-American,16,0,100,1st,28,2,93.3,auto,N,0,1,1st,28,3,90.3\\r\\n2006,BYU,7,Mountain West,13,3,81.3,1st,25,5,83.3,at-large,N,1,1,2nd,26,6,81.3\\r\\n2006,California,10,Pacific-10,10,8,55.6,6th,18,11,62.1,at-large,N,0,1,1st,18,12,60\\r\\n2006,Chattanooga,12,Southern,18,0,100,1st,27,3,90,auto,N,0,1,1st,27,4,87.1\\r\\n2006,Coppin St.,15,Mid-Eastern,18,0,100,1st,22,8,73.3,auto,N,0,1,1st,22,9,71\\r\\n2006,Dartmouth,14,Ivy,12,2,85.7,T1st,23,6,79.3,auto,N,0,1,1st,23,7,76.7\\r\\n2006,DePaul,4,Big East,11,5,68.8,T3rd,25,6,80.6,at-large,N,2,1,RSF,27,7,79.4\\r\\n2006,Duke,1,Atlantic Coast,12,2,85.7,T2nd,26,3,89.7,at-large,N,5,1,N2nd,31,4,88.6\\r\\n2006,Fla. Atlantic,16,Atlantic Sun,16,4,80,2nd,20,10,66.7,auto,N,0,1,1st,20,11,64.5\\r\\n2006,Florida,6,Southeastern,8,6,57.1,T5th,21,8,72.4,at-large,N,0,1,1st,21,9,70\\r\\n2006,Florida St.,6,Atlantic Coast,10,4,71.4,4th,19,9,67.9,at-large,N,1,1,2nd,20,10,66.7\\r\\n2006,George Washington,7,Atlantic 10,13,3,81.3,T1st,22,8,73.3,at-large,N,1,1,2nd,23,9,71.9\\r\\n2006,Georgia,3,Southeastern,10,4,71.4,3rd,21,8,72.4,at-large,N,2,1,RSF,23,9,71.9\\r\\n2006,Hartford,11,America East,15,1,93.8,1st,27,3,90,auto,N,1,1,2nd,28,4,87.5\\r\\n2006,Iowa,10,Big Ten,10,6,62.5,5th,17,11,60.7,at-large,N,0,1,1st,17,12,58.6\\r\\n2006,Kentucky,5,Southeastern,9,5,64.3,4th,21,8,72.4,at-large,N,1,1,2nd,22,9,71\\r\\n2006,Liberty,13,Big South,13,1,92.9,1st,24,5,82.8,auto,N,0,1,1st,24,6,80\\r\\n2006,Louisiana Tech,11,Western Athletic,15,1,93.8,1st,26,4,86.7,auto,N,0,1,1st,26,5,83.9\\r\\n2006,Louisville,9,Big East,10,6,62.5,5th,19,9,67.9,at-large,N,0,1,1st,19,10,65.5\\r\\n2006,LSU,1,Southeastern,13,1,92.9,1st,27,3,90,auto,N,4,1,NSF,31,4,88.6\\r\\n2006,Marist,14,Metro Atlantic,16,2,88.9,1st,23,6,79.3,auto,N,0,1,1st,23,7,76.7\\r\\n2006,Maryland,2,Atlantic Coast,12,2,85.7,2nd,28,4,87.5,at-large,N,6,0,Champ,34,4,89.5\\r\\n2006,Michigan St.,4,Big Ten,11,5,68.8,T3rd,22,9,71,at-large,N,2,1,RSF,23,11,67.6\\r\\n2006,Middle Tenn.,12,Sun Belt,10,4,71.4,3rd,20,10,66.7,auto,N,0,1,1st,20,11,64.5\\r\\n2006,Milwaukee,13,Horizon,14,2,87.5,T1st,21,8,72.4,auto,N,0,1,1st,22,9,71\\r\\n2006,Minnesota,8,Big Ten,11,5,68.8,T3rd,19,9,67.9,at-large,N,0,1,1st,19,10,65.5\\r\\n2006,Missouri,10,Big 12,10,6,62.5,4th,21,9,70,at-large,N,0,1,1st,21,10,67.7\\r\\n2006,Missouri St.,13,Missouri Valley,7,11,38.9,T6th,17,14,54.8,auto,N,0,1,1st,17,15,53.1\\r\\n2006,NC State,5,Atlantic Coast,7,7,50,5th,19,11,63.3,at-large,N,0,1,1st,19,12,61.3\\r\\n2006,New Mexico,11,Mountain West,11,5,68.8,T3rd,21,9,70,at-large,N,1,1,2nd,22,10,68.8\\r\\n2006,North Carolina,1,Atlantic Coast,13,1,92.9,1st,29,1,96.7,auto,N,4,1,NSF,33,2,94.3\\r\\n2006,Northern Arizona,14,Big Sky,9,5,64.3,3rd,22,10,68.8,auto,N,0,1,1st,21,11,65.6\\r\\n2006,Notre Dame,9,Big East,8,8,50,10th,18,11,62.1,at-large,N,0,1,1st,18,12,60\\r\\n2006,Oakland,16,Mid-Continent,8,8,50,T5th,15,15,50,auto,N,0,1,1st,15,16,48.4\\r\\n2006,Ohio St.,1,Big Ten,15,1,93.8,1st,28,2,93.3,auto,N,1,1,2nd,29,3,90.6\\r\\n2006,Oklahoma,2,Big 12,16,0,100,1st,29,4,87.9,auto,N,2,1,RSF,31,5,86.1\\r\\n2006,Old Dominion,10,Colonial,17,1,94.4,1st,22,8,73.3,auto,Y,0,1,1st,22,9,71\\r\\n2006,Pepperdine,15,West Coast,8,6,57.1,4th,14,16,46.7,auto,N,0,1,1st,14,17,45.2\\r\\n2006,Purdue,4,Big Ten,13,3,81.3,2nd,24,6,80,at-large,Y,2,1,RSF,26,7,78.8\\r\\n2006,Rutgers,3,Big East,16,0,100,1st,25,4,86.2,auto,N,2,1,RSF,27,5,84.4\\r\\n2006,Sacred Heart,15,Northeast,16,2,88.9,1st,26,4,86.7,auto,N,0,1,1st,26,5,83.9\\r\\n2006,SFA,13,Southland,14,2,87.5,1st,23,7,76.7,auto,N,0,1,1st,23,8,74.2\\r\\n2006,South Florida,9,Big East,9,7,56.3,T6th,18,11,62.1,at-large,N,0,1,1st,18,12,60\\r\\n2006,Southeast Mo. St.,14,Ohio Valley,16,4,80,T1st,20,8,71.4,auto,N,0,1,1st,20,9,69\\r\\n2006,Southern California,8,Pacific-10,11,7,61.1,T4th,18,11,62.1,at-large,N,1,1,2nd,19,12,61.3\\r\\n2006,Southern,16,Southwestern,14,4,77.8,T1st,20,10,66.7,auto,N,0,1,1st,20,11,64.5\\r\\n2006,St. John's (NY),7,Big East,11,5,68.8,T3rd,21,7,75,at-large,N,1,1,2nd,22,8,73.3\\r\\n2006,Stanford,3,Pacific-10,15,3,83.3,1st,23,7,76.7,at-large,N,3,1,RF,26,8,76.5\\r\\n2006,TCU,11,Mountain West,11,5,68.8,T3rd,18,11,62.1,at-large,N,1,1,2nd,19,12,61.3\\r\\n2006,Temple,6,Atlantic 10,12,4,75,3rd,24,7,77.4,auto,N,0,1,1st,24,8,75\\r\\n2006,Tennessee,2,Southeastern,11,3,78.6,2nd,28,4,87.5,at-large,N,3,1,RF,31,5,86.1\\r\\n2006,Texas A&M,6,Big 12,11,5,68.8,3rd,23,8,74.2,at-large,N,0,1,1st,23,9,71.9\\r\\n2006,Tulsa,12,Conference USA,14,3,82.4,1st,25,5,83.3,auto,N,1,1,2nd,26,6,81.3\\r\\n2006,UC Riverside,16,Big West,7,7,50,T3rd,16,14,53.3,auto,N,0,1,1st,16,15,51.6\\r\\n2006,UCLA,5,Pacific-10,12,6,66.7,3rd,20,10,66.7,at-large,N,1,1,2nd,21,11,65.6\\r\\n2006,UConn,2,Big East,14,2,87.5,2nd,29,4,87.9,at-large,N,3,1,RF,32,5,86.5\\r\\n2006,Utah,5,Mountain West,12,4,75,2nd,24,6,80,at-large,N,3,1,RF,26,6,81.3\\r\\n2006,Vanderbilt,8,Southeastern,8,6,57.1,T5th,20,10,66.7,at-large,Y,1,1,2nd,21,11,65.6\\r\\n2006,Virginia Tech,7,Atlantic Coast,6,8,42.9,T6th,20,9,69,at-large,N,1,1,2nd,21,10,67.7\\r\\n2006,Washington,9,Pacific-10,11,7,61.1,T4th,18,10,64.3,at-large,N,1,1,2nd,19,11,63.3\\r\\n2007,Arizona St.,3,Pacific-10,16,2,88.9,2nd,28,4,87.5,at-large,N,3,1,RF,31,5,86.1\\r\\n2007,Baylor,5,Big 12,11,5,68.8,3rd,25,7,78.1,at-large,N,1,1,2nd,26,8,76.5\\r\\n2007,Belmont,14,Atlantic Sun,16,2,88.9,1st,25,6,80.6,auto,N,0,1,1st,25,7,78.1\\r\\n2007,Boise St.,12,Western Athletic,12,4,75,T1st,24,8,75,auto,N,0,1,1st,24,9,72.7\\r\\n2007,Bowling Green,7,Mid-American,15,1,93.8,1st,29,3,90.6,auto,N,2,1,RSF,31,4,88.6\\r\\n2007,BYU,11,Mountain West,12,4,75,1st,23,9,71.9,at-large,N,0,1,1st,23,10,69.7\\r\\n2007,California,8,Pacific-10,12,6,66.7,3rd,23,8,74.2,at-large,N,0,1,1st,23,9,71.9\\r\\n2007,Chattanooga,12,Southern,15,3,83.3,T1st,25,7,78.1,auto,N,0,1,1st,25,8,75.8\\r\\n2007,Delaware,12,Colonial,16,2,88.9,T2nd,26,5,83.9,at-large,N,0,1,1st,26,6,81.3\\r\\n2007,Delaware St.,15,Mid-Eastern,12,6,66.7,T2nd,20,12,62.5,auto,N,0,1,1st,20,13,60.6\\r\\n2007,DePaul,10,Big East,8,8,50,10th,19,12,61.3,at-large,N,0,1,1st,19,13,59.4\\r\\n2007,Drake,16,Missouri Valley,5,13,27.8,8th,14,18,43.8,auto,N,0,1,1st,14,19,42.4\\r\\n2007,Duke,1,Atlantic Coast,14,0,100,1st,30,1,96.8,at-large,N,2,1,RSF,32,2,94.1\\r\\n2007,East Carolina,13,Conference USA,11,5,68.8,3rd,19,13,59.4,auto,N,0,1,1st,19,14,57.6\\r\\n2007,Florida St.,10,Atlantic Coast,10,4,71.4,T3rd,22,9,71,at-large,N,2,1,RSF,24,10,70.6\\r\\n2007,George Washington,5,Atlantic 10,14,0,100,1st,26,3,89.7,at-large,N,2,1,RSF,28,4,87.5\\r\\n2007,Georgia,3,Southeastern,11,3,78.6,2nd,25,6,80.6,at-large,N,2,1,RSF,27,7,79.4\\r\\n2007,Georgia Tech,7,Atlantic Coast,9,5,64.3,6th,20,11,64.5,at-large,N,1,1,2nd,21,12,63.6\\r\\n2007,Gonzaga,12,West Coast,13,1,92.9,1st,24,9,72.7,auto,N,0,1,1st,24,10,70.6\\r\\n2007,Green Bay,9,Horizon,16,0,100,1st,28,3,90.3,auto,N,1,1,2nd,29,4,87.9\\r\\n2007,Harvard,15,Ivy,13,1,92.9,1st,15,12,55.6,auto,N,0,1,1st,15,13,53.6\\r\\n2007,Holy Cross,16,Patriot,7,7,50,3rd,15,17,46.9,auto,N,0,1,1st,15,18,45.5\\r\\n2007,Idaho St.,15,Big Sky,11,5,68.8,T2nd,17,13,56.7,auto,N,0,1,1st,17,14,54.8\\r\\n2007,Iowa St.,6,Big 12,10,6,62.5,T4th,25,8,75.8,at-large,N,1,1,2nd,26,9,74.3\\r\\n2007,James Madison,9,Colonial,16,2,88.9,T2nd,27,5,84.4,at-large,N,0,1,1st,27,6,81.8\\r\\n2007,Louisiana,11,Sun Belt,14,4,77.8,1st,25,8,75.8,at-large,N,0,1,1st,25,9,73.5\\r\\n2007,Louisville,6,Big East,10,6,62.5,T4th,26,7,78.8,at-large,N,1,1,2nd,27,8,77.1\\r\\n2007,LSU,3,Southeastern,10,4,71.4,T3rd,26,7,78.8,at-large,N,4,1,NSF,30,8,78.9\\r\\n2007,Marist,13,Metro Atlantic,17,1,94.4,1st,27,5,84.4,auto,N,2,1,RSF,29,6,82.9\\r\\n2007,Marquette,6,Big East,12,4,75,2nd,25,6,80.6,at-large,N,1,1,2nd,26,7,78.8\\r\\n2007,Maryland,2,Atlantic Coast,10,4,71.4,T3rd,27,5,84.4,at-large,N,1,1,2nd,28,6,82.4\\r\\n2007,Michigan St.,5,Big Ten,13,3,81.3,3rd,23,8,74.2,at-large,Y,1,1,2nd,24,9,72.7\\r\\n2007,Middle Tenn.,5,Sun Belt,18,0,100,1st,29,3,90.6,auto,N,1,1,2nd,30,4,88.2\\r\\n2007,NC State,4,Atlantic Coast,10,4,71.4,T3rd,23,9,71.9,at-large,Y,2,1,RSF,25,10,71.4\\r\\n2007,Nebraska,9,Big 12,10,6,62.5,T4th,22,9,71,at-large,N,0,1,1st,22,10,68.8\\r\\n2007,New Mexico,8,Mountain West,11,5,68.8,T2nd,24,8,75,auto,N,0,1,1st,24,9,72.7\\r\\n2007,North Carolina,1,Atlantic Coast,11,3,78.6,2nd,30,3,90.9,auto,N,4,1,NSF,34,4,89.5\\r\\n2007,Notre Dame,9,Big East,10,6,62.5,T5th,19,11,63.3,at-large,N,1,1,2nd,20,12,62.5\\r\\n2007,Ohio St.,4,Big Ten,15,1,93.8,1st,28,3,90.3,at-large,N,0,1,1st,28,4,87.5\\r\\n2007,Oklahoma,3,Big 12,13,3,81.3,T1st,26,4,86.7,auto,N,2,1,RSF,28,5,84.8\\r\\n2007,Oklahoma St.,10,Big 12,8,8,50,6th,20,10,66.7,at-large,N,0,1,1st,20,11,64.5\\r\\n2007,Old Dominion,7,Colonial,17,1,94.4,1st,24,8,75,auto,N,0,1,1st,24,9,72.7\\r\\n2007,Ole Miss,7,Southeastern,9,5,64.3,5th,21,10,67.7,at-large,N,3,1,RF,24,11,68.6\\r\\n2007,Oral Roberts,15,Mid-Continent,8,6,57.1,3rd,22,10,68.8,auto,N,0,1,1st,22,11,66.7\\r\\n2007,Pittsburgh,8,Big East,10,6,62.5,T5th,23,8,74.2,at-large,Y,1,1,2nd,24,9,72.7\\r\\n2007,Prairie View,16,Southwestern,14,4,77.8,T1st,19,13,59.4,auto,N,0,1,1st,19,14,57.6\\r\\n2007,Purdue,2,Big Ten,14,2,87.5,2nd,28,5,84.8,auto,N,3,1,RF,31,6,83.8\\r\\n2007,Robert Morris,13,Northeast,15,3,83.3,T1st,24,7,77.4,auto,N,0,1,1st,24,8,75\\r\\n2007,Rutgers,4,Big East,12,4,75,T2nd,22,8,73.3,auto,N,5,1,N2nd,27,9,75\\r\\n2007,Southeast Mo. St.,14,Ohio Valley,16,4,80,1st,24,7,77.4,auto,N,0,1,1st,24,8,75\\r\\n2007,Stanford,2,Pacific-10,17,1,94.4,1st,28,4,87.5,auto,Y,1,1,2nd,29,5,85.3\\r\\n2007,TCU,10,Mountain West,11,5,68.8,T2nd,21,10,67.7,at-large,N,0,1,1st,21,11,65.6\\r\\n2007,Temple,8,Atlantic 10,13,1,92.9,2nd,24,7,77.4,at-large,N,1,1,2nd,25,8,75.8\\r\\n2007,Tennessee,1,Southeastern,14,0,100,1st,28,3,90.3,at-large,N,6,0,Champ,34,3,91.9\\r\\n2007,Texas A&M,4,Big 12,13,3,81.3,T1st,24,6,80,at-large,N,1,1,2nd,25,7,78.1\\r\\n2007,UC Riverside,14,Big West,12,2,85.7,1st,21,10,67.7,auto,N,0,1,1st,21,11,65.6\\r\\n2007,UConn,1,Big East,16,0,100,1st,29,3,90.6,at-large,N,3,1,RF,32,4,88.9\\r\\n2007,UMBC,16,America East,6,10,37.5,7th,16,16,50,auto,N,0,1,1st,16,17,48.5\\r\\n2007,Asheville,14,Big South,9,5,64.3,T4th,21,11,65.6,auto,N,0,1,1st,21,12,63.6\\r\\n2007,UT Arlington,13,Southland,16,0,100,1st,24,8,75,auto,N,0,1,1st,24,9,72.7\\r\\n2007,Vanderbilt,2,Southeastern,10,4,71.4,T3rd,27,5,84.4,auto,N,1,1,2nd,28,6,82.4\\r\\n2007,Washington,11,Pacific-10,11,7,61.1,4th,18,12,60,at-large,N,0,1,1st,18,13,58.1\\r\\n2007,West Virginia,11,Big East,11,5,68.8,4th,20,10,66.7,at-large,N,1,1,2nd,21,11,65.6\\r\\n2007,Xavier,6,Atlantic 10,11,3,78.6,3rd,26,7,78.8,auto,N,0,1,1st,26,8,76.5\\r\\n2008,Arizona St.,6,Pacific-10,14,4,77.8,3rd,21,10,67.7,at-large,N,1,1,2nd,22,11,66.7\\r\\n2008,Auburn,11,Southeastern,7,7,50,6th,20,11,64.5,at-large,N,0,1,1st,20,12,62.5\\r\\n2008,Baylor,3,Big 12,12,4,75,2nd,24,6,80,at-large,N,1,1,2nd,25,7,78.1\\r\\n2008,Bucknell,16,Patriot,8,6,57.1,5th,16,15,51.6,auto,N,0,1,1st,16,16,50\\r\\n2008,California,3,Pacific-10,15,3,83.3,2nd,26,6,81.3,at-large,N,1,1,2nd,27,7,79.4\\r\\n2008,Chattanooga,12,Southern,18,0,100,1st,29,3,90.6,auto,N,0,1,1st,29,4,87.9\\r\\n2008,Cleveland St.,15,Horizon,10,8,55.6,T4th,19,13,59.4,auto,N,0,1,1st,19,14,57.6\\r\\n2008,Coppin St.,16,Mid-Eastern,13,3,81.3,2nd,22,11,66.7,auto,N,0,1,1st,22,12,64.7\\r\\n2008,Cornell,16,Ivy,11,3,78.6,T1st,20,8,71.4,auto,N,0,1,1st,20,9,69\\r\\n2008,DePaul,10,Big East,8,8,50,T8th,20,11,64.5,at-large,N,0,1,1st,20,12,62.5\\r\\n2008,Duke,3,Atlantic Coast,10,4,71.4,T3rd,23,9,71.9,at-large,N,2,1,RSF,25,10,71.4\\r\\n2008,ETSU,14,Atlantic Sun,14,2,87.5,1st,21,11,65.6,auto,N,0,1,1st,21,12,63.6\\r\\n2008,Florida St.,11,Atlantic Coast,7,7,50,T5th,18,13,58.1,at-large,N,1,1,2nd,19,14,57.6\\r\\n2008,Fresno St.,14,Western Athletic,14,2,87.5,T1st,22,10,68.8,auto,N,0,1,1st,22,11,66.7\\r\\n2008,George Washington,6,Atlantic 10,12,2,85.7,T1st,25,6,80.6,at-large,N,2,1,RSF,27,7,79.4\\r\\n2008,Georgia,8,Southeastern,8,6,57.1,T4th,22,9,71,at-large,N,1,1,2nd,23,10,69.7\\r\\n2008,Georgia Tech,10,Atlantic Coast,7,7,50,T5th,22,9,71,at-large,N,0,1,1st,22,10,68.8\\r\\n2008,Hartford,10,America East,14,2,87.5,1st,27,5,84.4,auto,N,1,1,2nd,28,6,82.4\\r\\n2008,Illinois St.,13,Missouri Valley,13,5,72.2,T1st,26,6,81.3,auto,N,0,1,1st,26,7,78.8\\r\\n2008,Iowa,9,Big Ten,13,5,72.2,T1st,21,10,67.7,at-large,N,0,1,1st,21,11,65.6\\r\\n2008,Iowa St.,7,Big 12,7,9,43.8,T7th,20,12,62.5,at-large,N,1,1,2nd,21,13,61.8\\r\\n2008,Jackson St.,15,Southwestern,13,5,72.2,2nd,18,13,58.1,auto,N,0,1,1st,18,14,56.3\\r\\n2008,Kansas St.,5,Big 12,13,3,81.3,1st,21,9,70,at-large,N,1,1,2nd,22,10,68.8\\r\\n2008,Liberty,12,Big South,11,1,91.7,1st,28,3,90.3,auto,N,0,1,1st,28,4,87.5\\r\\n2008,Louisville,4,Big East,10,6,62.5,T5th,24,9,72.7,at-large,N,2,1,RSF,26,10,72.2\\r\\n2008,LSU,2,Southeastern,14,0,100,1st,27,5,84.4,at-large,Y,4,1,NSF,31,6,83.8\\r\\n2008,Marist,7,Metro Atlantic,18,0,100,1st,31,2,93.9,auto,N,1,1,2nd,32,3,91.4\\r\\n2008,Maryland,1,Atlantic Coast,13,1,92.9,2nd,30,3,90.9,at-large,Y,3,1,RF,33,4,89.2\\r\\n2008,Miami (OH),13,Mid-American,12,4,75,2nd,23,10,69.7,auto,N,0,1,1st,23,11,67.6\\r\\n2008,Minnesota,9,Big Ten,11,7,61.1,T3rd,20,11,64.5,at-large,N,0,1,1st,20,12,62.5\\r\\n2008,Montana,13,Big Sky,13,3,81.3,1st,25,6,80.6,auto,N,0,1,1st,25,7,78.1\\r\\n2008,Murray St.,14,Ohio Valley,15,5,75,T2nd,24,7,77.4,auto,N,0,1,1st,24,8,75\\r\\n2008,Nebraska,8,Big 12,9,7,56.3,6th,20,11,64.5,at-large,N,1,1,2nd,21,12,63.6\\r\\n2008,New Mexico,12,Mountain West,9,7,56.3,4th,20,12,62.5,auto,Y,0,1,1st,20,13,60.6\\r\\n2008,North Carolina,1,Atlantic Coast,14,0,100,1st,30,2,93.8,auto,N,3,1,RF,33,3,91.7\\r\\n2008,Notre Dame,5,Big East,11,5,68.8,4th,23,8,74.2,at-large,N,2,1,RSF,25,9,73.5\\r\\n2008,Ohio St.,6,Big Ten,13,5,72.2,T1st,22,8,73.3,at-large,N,0,1,1st,22,9,71\\r\\n2008,Oklahoma,4,Big 12,11,5,68.8,T3rd,21,8,72.4,at-large,N,1,1,2nd,22,9,71\\r\\n2008,Oklahoma St.,3,Big 12,11,5,68.8,T3rd,25,7,78.1,at-large,N,2,1,RSF,27,8,77.1\\r\\n2008,Old Dominion,5,Colonial,17,1,94.4,1st,29,4,87.9,auto,Y,2,1,RSF,31,5,86.1\\r\\n2008,Oral Roberts,16,Summit,10,8,55.6,6th,19,13,59.4,auto,N,0,1,1st,19,14,57.6\\r\\n2008,Pittsburgh,6,Big East,10,6,62.5,T5th,22,10,68.8,at-large,N,2,1,RSF,24,11,68.6\\r\\n2008,Purdue,9,Big Ten,11,7,61.1,T3rd,18,14,56.3,auto,Y,1,1,2nd,19,15,55.9\\r\\n2008,Robert Morris,15,Northeast,16,2,88.9,T1st,23,9,71.9,auto,N,0,1,1st,23,10,69.7\\r\\n2008,Rutgers,2,Big East,14,2,87.5,2nd,24,6,80,at-large,N,3,1,RF,27,7,79.4\\r\\n2008,San Diego,14,West Coast,7,7,50,T3rd,19,12,61.3,auto,N,0,1,1st,19,13,59.4\\r\\n2008,SMU,12,Conference USA,11,5,68.8,2nd,24,8,75,auto,N,0,1,1st,24,9,72.7\\r\\n2008,Stanford,2,Pacific-10,16,2,88.9,1st,30,3,90.9,auto,Y,5,1,N2nd,35,4,89.7\\r\\n2008,Syracuse,7,Big East,10,6,62.5,T5th,22,8,73.3,at-large,N,0,1,1st,22,9,71\\r\\n2008,Temple,11,Atlantic 10,12,2,85.7,T1st,21,12,63.6,at-large,N,0,1,1st,21,13,61.8\\r\\n2008,Tennessee,1,Southeastern,13,1,92.9,2nd,30,2,93.8,auto,N,6,0,Champ,36,2,94.7\\r\\n2008,Texas,8,Big 12,7,9,43.8,T7th,21,12,63.6,at-large,N,1,1,2nd,22,13,62.9\\r\\n2008,Texas A&M,2,Big 12,11,5,68.8,T3rd,26,7,78.8,auto,N,3,1,RF,29,8,78.4\\r\\n2008,UC Santa Barbara,13,Big West,15,1,93.8,1st,23,7,76.7,auto,N,0,1,1st,23,8,74.2\\r\\n2008,UConn,1,Big East,15,1,93.8,1st,32,1,97,auto,N,4,1,NSF,36,2,94.7\\r\\n2008,Utah,8,Mountain West,16,0,100,1st,27,4,87.1,at-large,N,0,1,1st,27,5,84.4\\r\\n2008,UTEP,7,Conference USA,16,0,100,1st,27,3,90,at-large,N,1,1,2nd,28,4,87.5\\r\\n2008,UTSA,15,Southland,12,4,75,3rd,23,9,71.9,auto,N,0,1,1st,23,10,69.7\\r\\n2008,Vanderbilt,4,Southeastern,11,3,78.6,3rd,23,8,74.2,at-large,N,2,1,RSF,25,9,73.5\\r\\n2008,Virginia,4,Atlantic Coast,10,4,71.4,T3rd,23,9,71.9,at-large,N,1,1,2nd,24,10,70.6\\r\\n2008,West Virginia,5,Big East,12,4,75,3rd,24,7,77.4,at-large,N,1,1,2nd,25,8,75.8\\r\\n2008,Western Ky.,10,Sun Belt,16,2,88.9,1st,26,7,78.8,auto,N,0,1,1st,26,8,76.5\\r\\n2008,Wyoming,11,Mountain West,12,4,75,3rd,24,6,80,at-large,N,0,1,1st,24,7,77.4\\r\\n2008,Xavier,9,Atlantic 10,11,3,78.6,3rd,24,8,75,auto,N,0,1,1st,24,9,72.7\\r\\n2009,Arizona St.,6,Pacific-10,15,3,83.3,3rd,23,8,74.2,at-large,N,3,1,RF,26,9,74.3\\r\\n2009,Auburn,2,Southeastern,12,2,85.7,1st,29,3,90.6,at-large,Y,1,1,2nd,30,4,88.2\\r\\n2009,Austin Peay,16,Ohio Valley,10,8,55.6,T5th,17,15,53.1,auto,N,0,1,1st,17,16,51.5\\r\\n2009,Ball St.,12,Mid-American,14,2,87.5,1st,25,8,75.8,auto,N,1,1,2nd,26,9,74.3\\r\\n2009,Baylor,2,Big 12,12,4,75,2nd,27,5,84.4,auto,N,2,1,RSF,29,6,82.9\\r\\n2009,California,4,Pacific-10,15,3,83.3,2nd,25,6,80.6,at-large,N,2,1,RSF,27,8,77.1\\r\\n2009,Charlotte,11,Atlantic 10,13,1,92.9,T2nd,23,8,74.2,auto,N,0,1,1st,23,9,71.9\\r\\n2009,Dartmouth,16,Ivy,13,1,92.9,1st,18,10,64.3,auto,N,0,1,1st,18,11,62.1\\r\\n2009,DePaul,7,Big East,10,6,62.5,5th,23,9,71.9,at-large,N,0,1,1st,23,10,69.7\\r\\n2009,Drexel,12,Colonial,16,2,88.9,1st,24,8,75,auto,N,0,1,1st,24,9,72.7\\r\\n2009,Duke,1,Atlantic Coast,11,3,78.6,3rd,26,5,83.9,at-large,N,1,1,2nd,27,6,81.8\\r\\n2009,ETSU,13,Atlantic Sun,16,4,80,2nd,20,10,66.7,auto,N,0,1,1st,20,11,64.5\\r\\n2009,Evansville,15,Missouri Valley,4,14,22.2,9th,15,18,45.5,auto,N,0,1,1st,15,19,44.1\\r\\n2009,Florida,8,Southeastern,9,5,64.3,T4th,23,7,76.7,at-large,N,1,1,2nd,24,8,75\\r\\n2009,Florida St.,3,Atlantic Coast,12,2,85.7,T1st,25,7,78.1,at-large,N,1,1,2nd,26,8,76.5\\r\\n2009,Fresno St.,13,Western Athletic,12,4,75,T1st,24,8,75,auto,N,0,1,1st,24,9,72.7\\r\\n2009,Georgia,11,Southeastern,7,7,50,7th,18,13,58.1,at-large,Y,0,1,1st,18,14,56.3\\r\\n2009,Georgia Tech,9,Atlantic Coast,8,6,57.1,6th,21,9,70,at-large,N,1,1,2nd,22,10,68.8\\r\\n2009,Gonzaga,12,West Coast,12,2,85.7,1st,26,6,81.3,auto,N,1,1,2nd,27,7,79.4\\r\\n2009,Green Bay,11,Horizon,18,0,100,1st,29,3,90.6,auto,N,0,1,1st,29,4,87.9\\r\\n2009,Iowa,8,Big Ten,13,5,72.2,T2nd,21,10,67.7,at-large,Y,0,1,1st,21,11,65.6\\r\\n2009,Iowa St.,4,Big 12,11,5,68.8,T3rd,24,8,75,at-large,N,3,1,RF,27,9,75\\r\\n2009,Kansas St.,5,Big 12,10,6,62.5,5th,24,7,77.4,at-large,N,1,1,2nd,25,8,75.8\\r\\n2009,Lehigh,15,Patriot,12,2,85.7,1st,26,6,81.3,auto,N,0,1,1st,26,7,78.8\\r\\n2009,Liberty,14,Big South,15,1,93.8,1st,24,8,75,auto,N,0,1,1st,24,9,72.7\\r\\n2009,Louisville,3,Big East,14,2,87.5,2nd,29,4,87.9,at-large,N,5,1,N2nd,34,5,87.2\\r\\n2009,LSU,6,Southeastern,10,4,71.4,T2nd,18,10,64.3,at-large,Y,1,1,2nd,19,11,63.3\\r\\n2009,Marist,12,Metro Atlantic,16,2,88.9,1st,29,3,90.6,auto,N,0,1,1st,29,4,87.9\\r\\n2009,Maryland,1,Atlantic Coast,12,2,85.7,T1st,28,4,87.5,auto,Y,3,1,RF,31,5,86.1\\r\\n2009,Michigan St.,9,Big Ten,13,5,72.2,T2nd,20,10,66.7,at-large,Y,2,1,RSF,22,11,66.7\\r\\n2009,Middle Tenn.,8,Sun Belt,17,1,94.4,1st,28,5,84.8,auto,N,0,1,1st,28,6,82.4\\r\\n2009,Minnesota,10,Big Ten,11,7,61.1,T5th,19,11,63.3,at-large,N,1,1,2nd,20,12,62.5\\r\\n2009,Mississippi St.,11,Southeastern,8,6,57.1,6th,22,9,71,at-large,N,1,1,2nd,23,10,69.7\\r\\n2009,Montana,13,Big Sky,15,1,93.8,1st,28,4,87.5,auto,N,0,1,1st,28,5,84.8\\r\\n2009,NC A&T,14,Mid-Eastern,15,1,93.8,1st,26,6,81.3,auto,N,0,1,1st,26,7,78.8\\r\\n2009,North Carolina,3,Atlantic Coast,10,4,71.4,4th,27,6,81.8,at-large,N,1,1,2nd,28,7,80\\r\\n2009,Notre Dame,7,Big East,10,6,62.5,T4th,22,8,73.3,at-large,Y,0,1,1st,22,9,71\\r\\n2009,Ohio St.,3,Big Ten,15,3,83.3,1st,27,5,84.4,auto,Y,2,1,RSF,29,6,82.9\\r\\n2009,Oklahoma,1,Big 12,15,1,93.8,1st,28,4,87.5,at-large,N,4,1,NSF,32,5,86.5\\r\\n2009,Pittsburgh,4,Big East,12,4,75,3rd,23,7,76.7,at-large,N,2,1,RSF,25,8,75.8\\r\\n2009,Prairie View,16,Southwestern,17,1,94.4,1st,23,10,69.7,auto,N,0,1,1st,23,11,67.6\\r\\n2009,Purdue,6,Big Ten,13,5,72.2,T2nd,22,10,68.8,at-large,N,3,1,RF,25,11,69.4\\r\\n2009,Rutgers,7,Big East,9,7,56.3,7th,19,12,61.3,at-large,Y,2,1,RSF,21,13,61.8\\r\\n2009,Sacred Heart,14,Northeast,18,0,100,1st,25,7,78.1,auto,N,0,1,1st,25,8,75.8\\r\\n2009,San Diego St.,10,Mountain West,13,3,81.3,T1st,23,7,76.7,at-large,Y,1,1,2nd,24,8,75\\r\\n2009,South Dakota St.,7,Summit,17,1,94.4,1st,31,2,93.9,auto,N,1,1,2nd,32,3,91.4\\r\\n2009,Stanford,2,Pacific-10,17,1,94.4,1st,29,4,87.9,auto,N,4,1,NSF,33,5,86.8\\r\\n2009,TCU,10,Mountain West,12,4,75,3rd,20,10,66.7,at-large,N,0,1,1st,20,11,64.5\\r\\n2009,Temple,9,Atlantic 10,11,3,78.6,T2nd,21,9,70,at-large,N,0,1,1st,21,10,67.7\\r\\n2009,Tennessee,5,Southeastern,9,5,64.3,T4th,22,10,68.8,at-large,N,0,1,1st,22,11,66.7\\r\\n2009,Texas,6,Big 12,8,8,50,6th,21,11,65.6,at-large,N,0,1,1st,21,12,63.6\\r\\n2009,Texas A&M,2,Big 12,11,5,68.8,T3rd,25,7,78.1,at-large,N,2,1,RSF,27,8,77.1\\r\\n2009,UC Santa Barbara,15,Big West,15,1,93.8,1st,22,9,71,auto,N,0,1,1st,22,10,68.8\\r\\n2009,UCF,14,Conference USA,11,5,68.8,T2nd,17,16,51.5,auto,N,0,1,1st,17,17,50\\r\\n2009,UConn,1,Big East,16,0,100,1st,33,0,100,auto,Y,6,0,Champ,39,0,100\\r\\n2009,Utah,9,Mountain West,13,3,81.3,T1st,22,9,71,auto,N,1,1,2nd,23,10,69.7\\r\\n2009,UTSA,15,Southland,14,2,87.5,T1st,24,8,75,auto,N,0,1,1st,24,9,72.7\\r\\n2009,Vanderbilt,4,Southeastern,10,4,71.4,T2nd,24,8,75,auto,N,2,1,RSF,26,9,74.3\\r\\n2009,VCU,10,Colonial,15,3,83.3,2nd,26,6,81.3,at-large,N,0,1,1st,26,7,78.8\\r\\n2009,Vermont,16,America East,12,4,75,3rd,21,11,65.6,auto,N,0,1,1st,21,12,63.6\\r\\n2009,Villanova,8,Big East,10,6,62.5,T4th,19,13,59.4,at-large,N,0,1,1st,19,14,57.6\\r\\n2009,Virginia,5,Atlantic Coast,8,6,57.1,T5th,23,9,71.9,at-large,N,1,1,2nd,24,10,70.6\\r\\n2009,Western Carolina,13,Southern,14,6,70,T3rd,21,11,65.6,auto,N,0,1,1st,21,12,63.6\\r\\n2009,Xavier,5,Atlantic 10,13,1,92.9,1st,25,6,80.6,at-large,N,0,1,1st,25,7,78.1\\r\\n2010,Austin Peay,16,Ohio Valley,11,7,61.1,3rd,15,17,46.9,auto,N,0,1,1st,15,18,45.5\\r\\n2010,Baylor,4,Big 12,9,7,56.3,T6th,23,9,71.9,at-large,N,4,1,NSF,27,10,73\\r\\n2010,Bowling Green,12,Mid-American,14,2,87.5,1st,27,6,81.8,auto,N,0,1,1st,27,7,79.4\\r\\n2010,Chattanooga,13,Southern,16,4,80,1st,24,8,75,auto,N,0,1,1st,24,9,72.7\\r\\n2010,Cleveland St.,15,Horizon,11,7,61.1,4th,19,13,59.4,auto,N,0,1,1st,19,14,57.6\\r\\n2010,Dayton,8,Atlantic 10,11,3,78.6,T2nd,24,7,77.4,at-large,N,1,1,2nd,25,8,75.8\\r\\n2010,DePaul,11,Big East,9,7,56.3,T6th,21,11,65.6,at-large,N,0,1,1st,21,12,63.6\\r\\n2010,Duke,2,Atlantic Coast,12,2,85.7,1st,27,5,84.4,auto,Y,3,1,RF,30,6,83.3\\r\\n2010,ETSU,14,Atlantic Sun,18,2,90,1st,23,8,74.2,auto,N,0,1,1st,23,9,71.9\\r\\n2010,Florida St.,3,Atlantic Coast,12,2,85.7,2nd,26,5,83.9,at-large,Y,3,1,RF,29,6,82.9\\r\\n2010,Fresno St.,13,Western Athletic,16,0,100,1st,27,6,81.8,at-large,N,0,1,1st,27,7,79.4\\r\\n2010,Georgetown,5,Big East,13,3,81.3,T2nd,25,6,80.6,at-large,N,1,1,2nd,26,7,78.8\\r\\n2010,Georgia,5,Southeastern,9,7,56.3,T3rd,23,8,74.2,at-large,N,2,1,RSF,25,9,73.5\\r\\n2010,Georgia Tech,6,Atlantic Coast,8,6,57.1,4th,23,9,71.9,at-large,N,0,1,1st,23,10,69.7\\r\\n2010,Gonzaga,7,West Coast,14,0,100,1st,27,4,87.1,auto,N,2,1,RSF,29,5,85.3\\r\\n2010,Green Bay,12,Horizon,15,3,83.3,1st,27,4,87.1,at-large,N,1,1,2nd,28,5,84.8\\r\\n2010,Hampton,15,Mid-Eastern,12,4,75,T2nd,20,11,64.5,auto,N,0,1,1st,20,12,62.5\\r\\n2010,Hartford,10,America East,16,0,100,1st,27,4,87.1,at-large,N,0,1,1st,27,5,84.4\\r\\n2010,Iowa,8,Big Ten,10,8,55.6,T3rd,19,13,59.4,at-large,N,1,1,2nd,20,14,58.8\\r\\n2010,Iowa St.,4,Big 12,11,5,68.8,T2nd,23,7,76.7,at-large,Y,2,1,RSF,25,8,75.8\\r\\n2010,James Madison,9,Colonial,13,5,72.2,2nd,26,6,81.3,auto,N,0,1,1st,26,7,78.8\\r\\n2010,Kentucky,4,Southeastern,11,5,68.8,2nd,25,7,78.1,at-large,N,3,1,RF,28,8,77.8\\r\\n2010,Lamar,14,Southland,13,3,81.3,1st,26,7,78.8,auto,N,0,1,1st,26,8,76.5\\r\\n2010,Lehigh,13,Patriot,13,1,92.9,T1st,29,3,90.6,auto,N,0,1,1st,29,4,87.9\\r\\n2010,Liberty,13,Big South,14,2,87.5,2nd,27,5,84.4,auto,N,0,1,1st,27,6,81.8\\r\\n2010,Little Rock,11,Sun Belt,17,1,94.4,T1st,26,6,81.3,at-large,N,1,1,2nd,27,7,79.4\\r\\n2010,Louisiana Tech,14,Western Athletic,11,5,68.8,1st,23,8,74.2,auto,N,0,1,1st,23,9,71.9\\r\\n2010,LSU,7,Southeastern,9,7,56.3,T3rd,20,9,69,at-large,N,1,1,2nd,21,10,67.7\\r\\n2010,Marist,12,Metro Atlantic,15,3,83.3,1st,26,7,78.8,auto,N,0,1,1st,26,8,76.5\\r\\n2010,Michigan St.,5,Big Ten,12,6,66.7,2nd,22,9,71,at-large,N,1,1,2nd,23,10,69.7\\r\\n2010,Middle Tenn.,10,Sun Belt,17,1,94.4,T1st,25,5,83.3,auto,N,0,1,1st,25,6,80.6\\r\\n2010,Mississippi St.,7,Southeastern,9,7,56.3,T3rd,19,12,61.3,at-large,N,2,1,RSF,21,13,61.8\\r\\n2010,NC State,9,Atlantic Coast,7,7,50,T5th,20,13,60.6,at-large,N,0,1,1st,20,14,58.8\\r\\n2010,Nebraska,1,Big 12,16,0,100,1st,30,1,96.8,at-large,Y,2,1,RSF,32,2,94.1\\r\\n2010,North Carolina,10,Atlantic Coast,6,8,42.9,T7th,19,11,63.3,at-large,N,0,1,1st,19,12,61.3\\r\\n2010,Notre Dame,2,Big East,12,4,75,T4th,27,5,84.4,at-large,Y,2,1,RSF,29,6,82.9\\r\\n2010,Ohio St.,2,Big Ten,15,3,83.3,1st,30,4,88.2,auto,N,1,1,2nd,31,5,86.1\\r\\n2010,Oklahoma,3,Big 12,11,5,68.8,T2nd,23,10,69.7,at-large,Y,4,1,NSF,27,11,71.1\\r\\n2010,Oklahoma St.,4,Big 12,9,7,56.3,T6th,23,10,69.7,at-large,N,1,1,2nd,24,11,68.6\\r\\n2010,Portland St.,15,Big Sky,9,7,56.3,T5th,18,14,56.3,auto,N,0,1,1st,18,15,54.5\\r\\n2010,Princeton,11,Ivy,13,1,92.9,1st,26,2,92.9,auto,N,0,1,1st,26,3,89.7\\r\\n2010,Rutgers,9,Big East,9,7,56.3,T6th,19,14,57.6,at-large,N,0,1,1st,19,15,55.9\\r\\n2010,Saint Francis (PA),15,Northeast,11,7,61.1,T4th,17,14,54.8,auto,N,0,1,1st,17,15,53.1\\r\\n2010,San Diego St.,11,Mountain West,10,6,62.5,T3rd,21,10,67.7,auto,N,2,1,RSF,23,11,67.6\\r\\n2010,South Dakota St.,14,Summit,14,4,77.8,T2nd,22,10,68.8,auto,N,0,1,1st,22,11,66.7\\r\\n2010,Southern,16,Southwestern,14,4,77.8,1st,23,8,74.2,auto,N,0,1,1st,23,9,71.9\\r\\n2010,St. John's (NY),6,Big East,12,4,75,T4th,24,6,80,at-large,N,1,1,2nd,25,7,78.1\\r\\n2010,Stanford,1,Pacific-10,18,0,100,1st,31,1,96.9,auto,Y,5,1,N2nd,36,2,94.7\\r\\n2010,TCU,9,Mountain West,12,4,75,1st,22,8,73.3,at-large,N,0,1,1st,22,9,71\\r\\n2010,Temple,8,Atlantic 10,11,3,78.6,T2nd,24,8,75,at-large,N,1,1,2nd,25,9,73.5\\r\\n2010,Tennessee,1,Southeastern,15,1,93.8,1st,30,2,93.8,auto,Y,2,1,RSF,32,3,91.4\\r\\n2010,Texas,6,Big 12,10,6,62.5,T4th,22,10,68.8,at-large,Y,0,1,1st,22,11,66.7\\r\\n2010,Texas A&M,2,Big 12,10,6,62.5,T4th,25,7,78.1,auto,N,1,1,2nd,26,8,76.5\\r\\n2010,Tulane,12,Conference USA,12,4,75,1st,26,6,81.3,auto,N,0,1,1st,26,7,78.8\\r\\n2010,UC Riverside,16,Big West,11,5,68.8,T2nd,17,15,53.1,auto,N,0,1,1st,17,16,51.5\\r\\n2010,UCLA,8,Pacific-10,15,3,83.3,2nd,24,8,75,at-large,N,1,1,2nd,25,9,73.5\\r\\n2010,UConn,1,Big East,16,0,100,1st,33,0,100,auto,N,6,0,Champ,39,0,100\\r\\n2010,UNI,16,Missouri Valley,10,8,55.6,T5th,17,15,53.1,auto,N,0,1,1st,17,16,51.5\\r\\n2010,Vanderbilt,6,Southeastern,9,7,56.3,T3rd,22,10,68.8,at-large,N,1,1,2nd,23,11,67.6\\r\\n2010,Vermont,10,America East,13,3,81.3,2nd,26,6,81.3,auto,N,1,1,2nd,27,7,79.4\\r\\n2010,Virginia,5,Atlantic Coast,9,5,64.3,3rd,21,9,70,at-large,N,0,1,1st,21,10,67.7\\r\\n2010,West Virginia,3,Big East,13,3,81.3,T2nd,28,5,84.8,at-large,N,1,1,2nd,29,6,82.9\\r\\n2010,Wisconsin,7,Big Ten,10,8,55.6,T3rd,21,10,67.7,at-large,N,0,1,1st,21,11,65.6\\r\\n2010,Xavier,3,Atlantic 10,14,0,100,1st,27,3,90,auto,Y,3,1,RF,30,4,88.2\\r\\n2011,Arizona St.,7,Pacific-10,11,7,61.1,3rd,20,10,66.7,at-large,N,0,1,1st,20,11,64.5\\r\\n2011,Baylor,1,Big 12,15,1,93.8,1st,31,2,93.9,auto,Y,3,1,RF,34,3,91.9\\r\\n2011,Bowling Green,12,Mid-American,13,3,81.3,1st,28,4,87.5,auto,N,0,1,1st,28,5,84.8\\r\\n2011,Dayton,11,Atlantic 10,9,5,64.3,T3rd,21,11,65.6,at-large,N,0,1,1st,21,12,63.6\\r\\n2011,DePaul,3,Big East,13,3,81.3,T2nd,27,6,81.8,at-large,N,2,1,RSF,29,7,80.6\\r\\n2011,Duke,2,Atlantic Coast,12,2,85.7,T1st,29,3,90.6,auto,Y,3,1,RF,32,4,88.9\\r\\n2011,Florida St.,3,Atlantic Coast,11,3,78.6,3rd,23,7,76.7,at-large,N,1,1,2nd,24,8,75\\r\\n2011,Fresno St.,12,Western Athletic,14,2,87.5,2nd,25,7,78.1,auto,N,0,1,1st,25,8,75.8\\r\\n2011,Gardner-Webb,14,Big South,11,5,68.8,T2nd,23,10,69.7,auto,N,0,1,1st,23,11,67.6\\r\\n2011,Georgetown,5,Big East,9,7,56.3,T8th,23,8,74.2,at-large,N,2,1,RSF,24,11,68.6\\r\\n2011,Georgia,6,Southeastern,10,6,62.5,T3rd,21,10,67.7,at-large,N,2,1,RSF,23,11,67.6\\r\\n2011,Georgia Tech,5,Atlantic Coast,9,5,64.3,T3rd,23,10,69.7,at-large,N,1,1,2nd,24,11,68.6\\r\\n2011,Gonzaga,11,West Coast,14,0,100,1st,28,4,87.5,auto,Y,3,1,RF,31,5,86.1\\r\\n2011,Green Bay,5,Horizon,18,0,100,1st,32,1,97,auto,N,2,1,RSF,34,2,94.4\\r\\n2011,Hampton,13,Mid-Eastern,15,1,93.8,1st,26,6,81.3,auto,N,0,1,1st,26,7,78.8\\r\\n2011,Hartford,16,America East,11,5,68.8,T3rd,17,15,53.1,auto,N,0,1,1st,17,16,51.5\\r\\n2011,Houston,8,Conference USA,16,0,100,1st,26,5,83.9,at-large,N,0,1,1st,26,6,81.3\\r\\n2011,Iowa,6,Big Ten,10,6,62.5,T3rd,22,8,73.3,at-large,N,0,1,1st,22,9,71\\r\\n2011,Iowa St.,7,Big 12,9,7,56.3,4th,22,10,68.8,at-large,N,0,1,1st,22,11,66.7\\r\\n2011,James Madison,11,Colonial,16,2,88.9,1st,26,7,78.8,auto,N,0,1,1st,26,8,76.5\\r\\n2011,Kansas St.,8,Big 12,10,6,62.5,T3rd,21,10,67.7,at-large,N,0,1,1st,21,11,65.6\\r\\n2011,Kentucky,4,Southeastern,11,5,68.8,2nd,24,8,75,at-large,N,1,1,2nd,25,9,73.5\\r\\n2011,Little Rock,12,Sun Belt,14,2,87.5,1st,23,7,76.7,auto,N,0,1,1st,23,8,74.2\\r\\n2011,Louisiana Tech,10,Western Athletic,15,1,93.8,1st,24,7,77.4,at-large,N,0,1,1st,24,8,75\\r\\n2011,Louisville,7,Big East,10,6,62.5,T4th,20,12,62.5,at-large,N,2,1,RSF,22,13,62.9\\r\\n2011,Marist,10,Metro Atlantic,18,0,100,1st,30,2,93.8,auto,N,1,1,2nd,31,3,91.2\\r\\n2011,Marquette,8,Big East,10,6,62.5,T4th,23,8,74.2,at-large,N,1,1,2nd,24,9,72.7\\r\\n2011,Maryland,4,Atlantic Coast,9,5,64.3,T3rd,23,7,76.7,at-large,Y,1,1,2nd,24,8,75\\r\\n2011,McNeese,15,Southland,15,1,93.8,1st,26,6,81.3,auto,N,0,1,1st,26,7,78.8\\r\\n2011,Miami (FL),3,Atlantic Coast,12,2,85.7,T1st,27,4,87.1,at-large,N,1,1,2nd,28,5,84.8\\r\\n2011,Michigan St.,4,Big Ten,13,3,81.3,1st,26,5,83.9,at-large,N,1,1,2nd,27,6,81.8\\r\\n2011,Middle Tenn.,11,Sun Belt,14,2,87.5,1st,23,7,76.7,at-large,N,0,1,1st,23,8,74.2\\r\\n2011,Montana,14,Big Sky,10,6,62.5,3rd,18,14,56.3,auto,N,0,1,1st,18,15,54.5\\r\\n2011,Navy,3,Patriot,10,4,71.4,1st,20,11,64.5,auto,N,0,1,1st,20,12,62.5\\r\\n2011,North Carolina,5,Atlantic Coast,8,6,57.1,4th,25,8,75.8,at-large,N,2,1,RSF,27,9,75\\r\\n2011,Notre Dame,2,Big East,13,3,81.3,T2nd,26,7,78.8,at-large,N,5,1,N2nd,31,8,79.5\\r\\n2011,Ohio St.,4,Big Ten,10,6,62.5,T3rd,22,9,71,auto,Y,2,1,RSF,24,10,70.6\\r\\n2011,Oklahoma,6,Big 12,10,6,62.5,T3rd,21,11,65.6,at-large,N,2,1,RSF,23,12,65.7\\r\\n2011,Penn St.,6,Big Ten,11,5,68.8,2nd,24,9,72.7,at-large,Y,1,1,2nd,25,10,71.4\\r\\n2011,Prairie View,16,Southwestern,14,4,77.8,2nd,21,11,65.6,auto,N,0,1,1st,21,12,63.6\\r\\n2011,Princeton,12,Ivy,13,1,92.9,1st,24,4,85.7,auto,N,0,1,1st,24,5,82.8\\r\\n2011,Purdue,11,Big Ten,9,7,56.3,4th,20,11,64.5,at-large,N,1,1,2nd,21,12,63.6\\r\\n2011,Rutgers,7,Big East,11,5,68.8,3rd,19,12,61.3,at-large,N,1,1,2nd,20,13,60.6\\r\\n2011,Saint Francis (PA),13,Northeast,14,4,77.8,1st,22,11,66.7,auto,N,0,1,1st,22,12,64.7\\r\\n2011,Samford,14,Southern,15,5,75,1st,25,7,78.1,auto,N,0,1,1st,25,8,75.8\\r\\n2011,South Dakota St.,15,Summit,12,6,66.7,T3rd,19,13,59.4,auto,N,0,1,1st,19,14,57.6\\r\\n2011,St. John's (NY),9,Big East,9,7,56.3,T5th,21,10,67.7,at-large,N,1,1,2nd,22,11,66.7\\r\\n2011,Stanford,1,Pacific-10,18,0,100,1st,29,2,93.5,auto,Y,4,1,NSF,33,3,91.7\\r\\n2011,Stetson,16,Atlantic Sun,14,7,66.7,3rd,20,12,62.5,auto,N,0,1,1st,20,13,60.6\\r\\n2011,Temple,10,Atlantic 10,13,1,92.9,2nd,23,8,74.2,at-large,N,1,1,2nd,24,9,72.7\\r\\n2011,Tennessee,1,Southeastern,16,0,100,1st,31,2,93.9,auto,Y,3,1,RF,34,3,91.9\\r\\n2011,Texas,9,Big 12,7,9,43.8,6th,19,13,59.4,at-large,N,0,1,1st,19,14,57.6\\r\\n2011,Texas A&M,2,Big 12,13,8,61.9,2nd,27,5,84.4,at-large,N,6,0,Champ,33,5,86.8\\r\\n2011,Texas Tech,8,Big 12,8,8,50,5th,22,10,68.8,at-large,N,0,1,1st,22,11,66.7\\r\\n2011,UC Davis,16,Big West,10,6,62.5,3rd,24,8,75,auto,N,0,1,1st,24,9,72.7\\r\\n2011,UCF,13,Conference USA,12,4,75,2nd,22,10,68.8,auto,N,0,1,1st,22,11,66.7\\r\\n2011,UCLA,3,Pacific-10,16,2,88.9,2nd,27,4,87.1,at-large,N,1,1,2nd,28,5,84.8\\r\\n2011,UConn,1,Big East,16,0,100,1st,32,1,97,auto,Y,4,1,NSF,36,2,94.7\\r\\n2011,UNI,13,Missouri Valley,17,1,94.4,1st,27,5,84.4,auto,N,0,1,1st,27,6,81.8\\r\\n2011,UT Martin,15,Ohio Valley,14,4,77.8,2nd,21,10,67.7,auto,N,0,1,1st,21,11,65.6\\r\\n2011,Utah,15,Mountain West,7,9,43.8,4th,18,16,52.9,auto,Y,0,1,1st,18,17,51.4\\r\\n2011,Vanderbilt,10,Southeastern,10,6,62.5,T3rd,20,11,64.5,at-large,N,0,1,1st,20,12,62.5\\r\\n2011,West Virginia,9,Big East,8,8,50,6th,23,9,71.9,at-large,N,1,1,2nd,24,10,70.6\\r\\n2011,Xavier,2,Atlantic 10,14,0,100,1st,28,2,93.3,auto,Y,1,1,2nd,30,3,90.9\\r\\n2012,Albany,14,America East,14,2,87.5,2nd,23,9,71.9,auto,N,0,1,1st,23,10,69.7\\r\\n2012,Arkansas,6,Southeastern,10,6,62.5,T4th,23,8,74.2,at-large,N,1,1,2nd,24,9,72.7\\r\\n2012,Baylor,1,Big 12,18,0,100,1st,34,0,100,auto,N,6,0,Champ,40,0,100\\r\\n2012,BYU,10,West Coast,12,4,75,T2nd,26,6,81.3,auto,N,0,1,1st,26,7,78.8\\r\\n2012,California,8,Pac-12,13,5,72.2,2nd,24,9,72.7,at-large,N,1,1,2nd,25,10,71.4\\r\\n2012,Creighton,14,Missouri Valley,11,7,61.1,4th,20,12,62.5,auto,N,0,1,1st,20,13,60.6\\r\\n2012,Dayton,11,Atlantic 10,12,2,85.7,3rd,23,6,79.3,auto,N,0,1,1st,23,7,76.7\\r\\n2012,Delaware,3,Colonial,18,0,100,1st,30,1,96.8,auto,N,1,1,2nd,31,2,93.9\\r\\n2012,DePaul,7,Big East,9,7,56.3,8th,22,10,68.8,at-large,N,1,1,2nd,23,11,67.6\\r\\n2012,Duke,2,Atlantic Coast,15,1,93.8,1st,24,5,82.8,at-large,N,3,1,RF,27,6,81.8\\r\\n2012,Eastern Mich.,12,Mid-American,13,3,81.3,1st,23,8,74.2,auto,N,0,1,1st,23,9,71.9\\r\\n2012,FGCU,12,Atlantic Sun,18,0,100,1st,29,2,93.5,auto,N,0,1,1st,29,3,90.6\\r\\n2012,Florida,9,Southeastern,8,8,50,8th,19,12,61.3,at-large,N,1,1,2nd,20,13,60.6\\r\\n2012,Fresno St.,12,Western Athletic,13,1,92.9,1st,28,5,84.8,auto,N,0,1,1st,28,6,82.4\\r\\n2012,Georgetown,5,Big East,11,5,68.8,4th,22,8,73.3,at-large,N,1,1,2nd,23,9,71.9\\r\\n2012,Georgia,4,Southeastern,11,5,68.8,3rd,22,8,73.3,at-large,N,0,1,1st,22,9,71\\r\\n2012,Georgia Tech,4,Atlantic Coast,12,4,75,T3rd,24,8,75,at-large,N,2,1,RSF,26,9,74.3\\r\\n2012,Gonzaga,11,West Coast,14,2,87.5,1st,26,5,83.9,at-large,Y,2,1,RSF,28,6,82.4\\r\\n2012,Green Bay,7,Horizon,17,1,94.4,1st,30,1,96.8,auto,N,1,1,2nd,31,2,93.9\\r\\n2012,Hampton,16,Mid-Eastern,15,1,93.8,1st,26,4,86.7,auto,N,0,1,1st,26,5,83.9\\r\\n2012,Idaho St.,14,Big Sky,14,2,87.5,1st,24,7,77.4,auto,N,0,1,1st,24,8,75\\r\\n2012,Iowa,9,Big Ten,11,5,68.8,T2nd,19,11,63.3,at-large,N,0,1,1st,19,12,61.3\\r\\n2012,Iowa St.,10,Big 12,9,9,50,T4th,18,12,60,at-large,Y,0,1,1st,18,13,58.1\\r\\n2012,Kansas,11,Big 12,8,10,44.4,T6th,19,12,61.3,at-large,N,2,1,RSF,21,13,61.8\\r\\n2012,Kansas St.,8,Big 12,9,9,50,T4th,19,13,59.4,at-large,N,1,1,2nd,20,14,58.8\\r\\n2012,Kentucky,2,Southeastern,13,3,81.3,1st,25,6,80.6,at-large,N,3,1,RF,28,7,80\\r\\n2012,Liberty,16,Big South,16,2,88.9,1st,24,8,75,auto,N,0,1,1st,24,9,72.7\\r\\n2012,Little Rock,14,Sun Belt,12,4,75,1st,20,13,60.6,auto,Y,0,1,1st,20,14,58.8\\r\\n2012,Louisville,7,Big East,10,6,62.5,T6th,22,9,71,at-large,N,1,1,2nd,23,10,69.7\\r\\n2012,LSU,5,Southeastern,10,6,62.5,T4th,22,10,68.8,at-large,Y,1,1,2nd,23,11,67.6\\r\\n2012,Marist,13,Metro Atlantic,17,1,94.4,1st,25,7,78.1,auto,N,1,1,2nd,26,8,76.5\\r\\n2012,Maryland,2,Atlantic Coast,12,4,75,T3rd,28,4,87.5,auto,Y,3,1,RF,31,5,86.1\\r\\n2012,McNeese,15,Southland,13,3,81.3,2nd,26,7,78.8,auto,N,0,1,1st,26,8,76.5\\r\\n2012,Miami (FL),3,Atlantic Coast,14,2,87.5,2nd,25,5,83.3,at-large,N,1,1,2nd,26,6,81.3\\r\\n2012,Michigan,11,Big Ten,8,8,50,7th,20,11,64.5,at-large,N,0,1,1st,20,12,62.5\\r\\n2012,Michigan St.,10,Big Ten,11,5,68.8,T2nd,20,11,64.5,at-large,N,0,1,1st,20,12,62.5\\r\\n2012,Middle Tenn.,10,Sun Belt,16,0,100,1st,26,6,81.3,at-large,N,0,1,1st,26,7,78.8\\r\\n2012,Navy,15,Patriot,8,6,57.1,T3rd,18,13,58.1,auto,N,0,1,1st,18,14,56.3\\r\\n2012,Nebraska,6,Big Ten,10,6,62.5,6th,24,8,75,at-large,N,0,1,1st,24,9,72.7\\r\\n2012,Notre Dame,1,Big East,15,1,93.8,1st,30,3,90.9,at-large,Y,5,1,N2nd,35,4,89.7\\r\\n2012,Ohio St.,8,Big Ten,11,5,68.8,T2nd,25,6,80.6,at-large,N,0,1,1st,25,7,78.1\\r\\n2012,Oklahoma,6,Big 12,11,7,61.1,T2nd,20,12,62.5,at-large,Y,1,1,2nd,21,13,61.8\\r\\n2012,Penn St.,4,Big Ten,13,3,81.3,1st,24,6,80,at-large,N,2,1,RSF,26,7,78.8\\r\\n2012,Prairie View,16,Southwestern,11,7,61.1,T4th,17,15,53.1,auto,N,0,1,1st,17,16,51.5\\r\\n2012,Princeton,9,Ivy,14,0,100,1st,24,4,85.7,auto,N,0,1,1st,24,5,82.8\\r\\n2012,Purdue,4,Big Ten,11,5,68.8,T2nd,24,8,75,auto,Y,1,1,2nd,25,9,73.5\\r\\n2012,Rutgers,6,Big East,10,6,62.5,T6th,22,9,71,at-large,N,0,1,1st,22,10,68.8\\r\\n2012,Sacred Heart,13,Northeast,15,3,83.3,1st,25,7,78.1,auto,N,0,1,1st,25,8,75.8\\r\\n2012,Samford,15,Southern,12,8,60,T4th,20,12,62.5,auto,N,0,1,1st,20,13,60.6\\r\\n2012,San Diego St.,12,Mountain West,12,2,85.7,1st,25,6,80.6,auto,N,0,1,1st,25,7,78.1\\r\\n2012,South Carolina,5,Southeastern,10,6,62.5,T4th,23,9,71.9,at-large,N,2,1,RSF,25,10,71.4\\r\\n2012,South Dakota St.,13,Summit,16,2,88.9,1st,24,8,75,auto,N,0,1,1st,24,9,72.7\\r\\n2012,St. Bonaventure,5,Atlantic 10,14,0,100,1st,29,3,90.6,at-large,N,2,1,RSF,31,4,88.6\\r\\n2012,St. John's (NY),3,Big East,13,3,81.3,T2nd,22,9,71,at-large,N,2,1,RSF,24,10,70.6\\r\\n2012,Stanford,1,Pac-12,18,0,100,1st,31,1,96.9,auto,N,4,1,NSF,35,2,94.6\\r\\n2012,Tennessee,2,Southeastern,12,4,75,2nd,24,8,75,auto,N,3,1,RF,27,9,75\\r\\n2012,Texas,9,Big 12,8,10,44.4,T6th,18,13,58.1,at-large,N,0,1,1st,18,14,56.3\\r\\n2012,Texas A&M,3,Big 12,11,7,61.1,T2nd,22,10,68.8,at-large,Y,2,1,RSF,24,11,68.6\\r\\n2012,UC Santa Barbara,16,Big West,8,8,50,6th,17,15,53.1,auto,N,0,1,1st,17,16,51.5\\r\\n2012,UConn,1,Big East,13,3,81.3,1st,29,4,87.9,auto,N,4,1,NSF,33,5,86.8\\r\\n2012,UT Martin,15,Ohio Valley,15,1,93.8,1st,23,8,74.2,auto,N,0,1,1st,23,9,71.9\\r\\n2012,UTEP,13,Conference USA,15,1,93.8,1st,29,3,90.6,auto,N,0,1,1st,29,4,87.9\\r\\n2012,Vanderbilt,7,Southeastern,9,7,56.3,7th,22,9,71,at-large,Y,1,1,2nd,23,10,69.7\\r\\n2012,West Virginia,8,Big East,11,5,68.8,T4th,23,9,71.9,at-large,N,1,1,2nd,24,10,70.6\\r\\n2013,Albany,14,America East,16,0,100,1st,26,4,86.7,auto,N,0,1,1st,27,4,87.1\\r\\n2013,Baylor,1,Big 12,18,0,100,1st,32,1,97,auto,Y,2,1,RSF,34,2,94.4\\r\\n2013,Cal Poly,14,Big West,13,5,72.2,2nd,21,10,67.7,auto,N,0,1,1st,23,10,69.7\\r\\n2013,California,2,Pac-12,17,1,94.4,T1st,28,3,90.3,at-large,N,4,1,NSF,32,4,88.9\\r\\n2013,Central Mich.,11,Mid-American,12,4,75,2nd,21,11,65.6,auto,N,0,1,1st,21,12,63.6\\r\\n2013,Chattanooga,11,Southern,19,1,95,1st,29,3,90.6,auto,N,0,1,1st,29,4,87.9\\r\\n2013,Colorado,5,Pac-12,13,5,72.2,4th,25,6,80.6,at-large,Y,0,1,1st,25,7,78.1\\r\\n2013,Creighton,10,Missouri Valley,15,3,83.3,1st,24,7,77.4,at-large,N,1,1,2nd,25,8,75.8\\r\\n2013,Dayton,7,Atlantic 10,14,0,100,1st,27,2,93.1,at-large,N,1,1,2nd,31,2,93.9\\r\\n2013,Delaware,6,Colonial,18,0,100,1st,30,3,90.9,auto,Y,2,1,RSF,32,4,88.9\\r\\n2013,DePaul,10,Big East,9,7,56.3,T6th,21,11,65.6,at-large,N,0,1,1st,21,12,63.6\\r\\n2013,Duke,2,Atlantic Coast,17,1,94.4,1st,30,2,93.8,auto,Y,3,1,RF,33,3,91.7\\r\\n2013,Florida St.,8,Atlantic Coast,11,7,61.1,T4th,22,9,71,at-large,N,1,1,2nd,23,10,69.7\\r\\n2013,Fresno St.,15,Mountain West,13,3,81.3,2nd,24,8,75,auto,N,0,1,1st,24,9,72.7\\r\\n2013,Georgia,4,Southeastern,12,4,75,3rd,25,6,80.6,at-large,N,3,1,RF,28,7,80\\r\\n2013,Gonzaga,12,West Coast,15,1,93.8,1st,27,5,84.4,auto,Y,0,1,1st,27,6,81.8\\r\\n2013,Green Bay,11,Horizon,16,0,100,1st,29,2,93.5,auto,N,0,1,1st,29,3,90.6\\r\\n2013,Hampton,15,Mid-Eastern,16,0,100,1st,28,5,84.8,auto,N,0,1,1st,28,6,82.4\\r\\n2013,Idaho,16,Western Athletic,11,7,61.1,3rd,17,15,53.1,auto,N,0,1,1st,17,16,51.5\\r\\n2013,Iowa,9,Big Ten,8,8,50,7th,20,12,62.5,at-large,Y,1,1,2nd,21,13,61.8\\r\\n2013,Iowa St.,5,Big 12,12,6,66.7,2nd,23,8,74.2,at-large,N,1,1,2nd,24,9,72.7\\r\\n2013,Kansas,12,Big 12,8,10,44.4,7th,18,13,58.1,at-large,N,2,1,RSF,20,14,58.8\\r\\n2013,Kentucky,2,Southeastern,13,3,81.3,2nd,27,5,84.4,at-large,N,3,1,RF,30,6,83.3\\r\\n2013,Liberty,13,Big South,16,2,88.9,1st,27,6,81.8,auto,N,0,1,1st,27,7,79.4\\r\\n2013,Louisville,5,Big East,11,5,68.8,T3rd,24,8,75,at-large,Y,5,1,N2nd,29,9,76.3\\r\\n2013,LSU,6,Southeastern,10,6,62.5,T4th,20,11,64.5,at-large,Y,2,1,RSF,22,12,64.7\\r\\n2013,Marist,12,Metro Atlantic,18,0,100,1st,26,6,81.3,auto,N,0,1,1st,26,7,78.8\\r\\n2013,Maryland,4,Atlantic Coast,14,4,77.8,T2nd,24,7,77.4,at-large,Y,2,1,RSF,26,8,76.5\\r\\n2013,Miami (FL),8,Atlantic Coast,11,7,61.1,T4th,21,10,67.7,at-large,N,0,1,1st,21,11,65.6\\r\\n2013,Michigan,8,Big Ten,9,7,56.3,T5th,21,10,67.7,at-large,N,1,1,2nd,22,11,66.7\\r\\n2013,Michigan St.,5,Big Ten,10,6,62.5,T3rd,24,8,75,at-large,N,1,1,2nd,25,9,73.5\\r\\n2013,Middle Tenn.,12,Sun Belt,17,3,85,1st,25,7,78.1,auto,N,0,1,1st,25,8,75.8\\r\\n2013,Montana,13,Big Sky,16,4,80,1st,24,7,77.4,auto,N,0,1,1st,24,8,75\\r\\n2013,Navy,15,Patriot,11,3,78.6,T1st,21,11,65.6,auto,N,0,1,1st,21,12,63.6\\r\\n2013,Nebraska,6,Big Ten,12,4,75,2nd,23,8,74.2,at-large,N,2,1,RSF,25,9,73.5\\r\\n2013,North Carolina,3,Atlantic Coast,14,4,77.8,T2nd,28,6,82.4,at-large,N,1,1,2nd,29,7,80.6\\r\\n2013,Notre Dame,1,Big East,16,0,100,1st,31,1,96.9,auto,N,4,1,NSF,35,2,94.6\\r\\n2013,Oklahoma,6,Big 12,11,7,61.1,T3rd,22,10,68.8,at-large,N,2,1,RSF,24,11,68.6\\r\\n2013,Oklahoma St.,7,Big 12,9,9,50,T5th,21,10,67.7,at-large,N,1,1,2nd,22,11,66.7\\r\\n2013,Oral Roberts,15,Southland,13,5,72.2,1st,18,12,60,auto,N,0,1,1st,18,13,58.1\\r\\n2013,Penn St.,3,Big Ten,14,2,87.5,1st,25,5,83.3,at-large,N,1,1,2nd,26,6,81.3\\r\\n2013,Prairie View,16,Southwestern,11,7,61.1,4th,17,14,54.8,auto,N,0,1,1st,17,15,53.1\\r\\n2013,Princeton,9,Ivy,13,1,92.9,1st,22,6,78.6,auto,N,0,1,1st,22,7,75.9\\r\\n2013,Purdue,4,Big Ten,10,6,62.5,T3rd,24,8,75,at-large,N,1,1,2nd,25,9,73.5\\r\\n2013,Quinnipiac,13,Northeast,18,0,100,1st,30,2,93.8,auto,N,0,1,1st,30,3,90.9\\r\\n2013,Saint Joseph's,9,Atlantic 10,11,3,78.6,T4th,23,8,74.2,at-large,N,0,1,1st,23,9,71.9\\r\\n2013,South Carolina,4,Southeastern,11,5,68.8,T4th,24,7,77.4,at-large,N,1,1,2nd,25,8,75.8\\r\\n2013,South Dakota St.,13,Summit,14,2,87.5,1st,25,7,78.1,auto,N,0,1,1st,25,8,75.8\\r\\n2013,South Florida,10,Big East,9,7,56.3,T6th,21,10,67.7,at-large,N,1,1,2nd,22,11,66.7\\r\\n2013,St. John's (NY),10,Big East,11,5,68.8,T3rd,18,12,60,at-large,Y,0,1,1st,18,13,58.1\\r\\n2013,Stanford,1,Pac-12,17,1,94.4,T1st,31,2,93.9,auto,Y,2,1,RSF,33,3,91.7\\r\\n2013,Stetson,14,Atlantic Sun,14,4,77.8,2nd,24,8,75,auto,N,0,1,1st,24,9,72.7\\r\\n2013,Syracuse,7,Big East,11,5,68.8,T3rd,24,7,77.4,at-large,N,0,1,1st,24,8,75\\r\\n2013,Tennessee,2,Southeastern,14,2,87.5,1st,24,7,77.4,auto,Y,3,1,RF,27,8,77.1\\r\\n2013,Texas A&M,3,Southeastern,11,5,68.8,T4th,24,9,72.7,auto,Y,1,1,2nd,25,10,71.4\\r\\n2013,Texas Tech,7,Big 12,11,7,61.1,T3rd,21,10,67.7,at-large,Y,0,1,1st,21,11,65.6\\r\\n2013,Tulsa,16,Conference USA,8,8,50,1st,17,16,51.5,auto,N,0,1,1st,17,17,50\\r\\n2013,UCLA,3,Pac-12,14,4,77.8,3rd,25,7,78.1,at-large,N,1,1,2nd,26,8,76.5\\r\\n2013,UConn,1,Big East,14,2,87.5,2nd,29,4,87.9,at-large,Y,6,0,Champ,35,4,89.7\\r\\n2013,UT Martin,16,Ohio Valley,11,5,68.8,2nd,19,14,57.6,auto,N,0,1,1st,19,15,55.9\\r\\n2013,Vanderbilt,8,Southeastern,9,7,56.3,6th,20,11,64.5,at-large,N,1,1,2nd,21,12,63.6\\r\\n2013,Villanova,9,Big East,9,7,56.3,T6th,21,10,67.7,at-large,N,0,1,1st,21,11,65.6\\r\\n2013,West Virginia,11,Big 12,9,9,50,T5th,17,13,56.7,at-large,N,0,1,1st,17,14,54.8\\r\\n2013,Wichita St.,14,Missouri Valley,15,3,83.3,T1st,24,9,72.7,auto,N,0,1,1st,24,10,70.6\\r\\n2014,Akron,13,Mid-American,14,4,77.8,2nd,23,9,71.9,auto,N,0,1,1st,23,10,69.7\\r\\n2014,Albany,15,America East,15,1,93.8,1st,28,4,87.5,auto,N,0,1,1st,28,5,84.8\\r\\n2014,Arizona St.,9,Pac-12,11,7,61.1,T4th,22,9,71,at-large,N,1,1,2nd,23,10,69.7\\r\\n2014,Army,13,Patriot,14,4,77.8,T2nd,25,7,78.1,auto,N,0,1,1st,25,8,75.8\\r\\n2014,Baylor,2,Big 12,16,2,88.9,1st,29,4,87.9,auto,Y,3,1,RF,32,5,86.5\\r\\n2014,BYU,12,West Coast,14,4,77.8,1st,26,6,81.3,at-large,N,2,1,RSF,28,7,80\\r\\n2014,California,7,Pac-12,13,5,72.2,T2nd,21,9,70,at-large,N,1,1,2nd,22,10,68.8\\r\\n2014,Chattanooga,11,Southern,18,0,100,1st,29,3,90.6,auto,N,0,1,1st,29,4,87.9\\r\\n2014,CSUN,16,Big West,12,4,75,1st,18,14,56.3,auto,N,0,1,1st,18,15,54.5\\r\\n2014,Dayton,7,Atlantic 10,14,2,87.5,1st,23,7,76.7,at-large,N,0,1,1st,23,8,74.2\\r\\n2014,DePaul,7,Big East,15,3,83.3,1st,27,6,81.8,auto,N,1,1,RSF,29,7,80.6\\r\\n2014,Duke,2,Atlantic Coast,12,4,75,T2nd,27,6,81.8,at-large,Y,1,1,2nd,28,7,80\\r\\n2014,FGCU,12,Atlantic Sun,17,1,94.4,1st,26,7,78.8,auto,N,0,1,1st,26,8,76.5\\r\\n2014,Florida,11,Southeastern,8,8,50,5th,19,12,61.3,at-large,N,1,1,2nd,20,13,60.6\\r\\n2014,Florida St.,10,Atlantic Coast,7,9,43.8,9th,20,11,64.5,at-large,N,1,1,2nd,21,12,63.6\\r\\n2014,Fordham,10,Atlantic 10,11,5,68.8,T2nd,25,7,78.1,auto,N,0,1,1st,25,8,75.8\\r\\n2014,Fresno St.,13,Mountain West,13,5,72.2,2nd,22,10,68.8,auto,N,0,1,1st,22,11,66.7\\r\\n2014,Georgia,8,Southeastern,7,9,43.8,T6th,20,11,64.5,at-large,N,0,1,1st,20,12,62.5\\r\\n2014,Georgia Tech,10,Atlantic Coast,9,7,56.3,7th,20,11,64.5,at-large,N,0,1,1st,20,12,62.5\\r\\n2014,Gonzaga,6,West Coast,16,2,88.9,1st,29,4,87.9,auto,N,0,1,1st,29,5,85.3\\r\\n2014,Hampton,12,Mid-Eastern,16,0,100,1st,28,4,87.5,auto,N,0,1,1st,28,5,84.8\\r\\n2014,Idaho,14,Western Athletic,15,1,93.8,1st,25,8,75.8,auto,N,0,1,1st,25,9,73.5\\r\\n2014,Iowa,6,Big Ten,11,5,68.8,T4th,26,8,76.5,at-large,Y,1,1,2nd,27,9,75\\r\\n2014,Iowa St.,7,Big 12,9,9,50,T4th,20,10,66.7,at-large,Y,0,1,1st,20,11,64.5\\r\\n2014,James Madison,11,Colonial,15,1,93.8,1st,28,5,84.8,auto,N,1,1,2nd,29,6,82.9\\r\\n2014,Kentucky,3,Southeastern,10,6,62.5,4th,24,8,75,at-large,Y,2,1,RSF,26,9,74.3\\r\\n2014,Louisville,3,American Atletic,16,2,88.9,2nd,30,4,88.2,at-large,Y^,3,1,RF,33,5,86.8\\r\\n2014,LSU,7,Southeastern,7,9,43.8,T6th,19,12,61.3,at-large,Y,2,1,RSF,21,13,61.8\\r\\n2014,Marist,11,Metro Atlantic,18,2,90,T1st,27,6,81.8,auto,N,0,1,1st,27,7,79.4\\r\\n2014,Maryland,4,Atlantic Coast,12,4,75,T2nd,24,6,80,at-large,Y,4,1,NSF,28,7,80\\r\\n2014,Michigan St.,5,Big Ten,13,3,81.3,T1st,22,9,71,at-large,N,1,1,2nd,23,10,69.7\\r\\n2014,Middle Tenn.,12,Conference USA,15,1,93.8,1st,29,4,87.9,auto,N,0,1,1st,29,5,85.3\\r\\n2014,NC State,5,Atlantic Coast,11,5,68.8,4th,25,7,78.1,at-large,N,0,1,1st,25,8,75.8\\r\\n2014,Nebraska,4,Big Ten,12,4,75,3rd,25,6,80.6,auto,Y^,1,1,2nd,26,7,78.8\\r\\n2014,North Carolina,4,Atlantic Coast,10,6,62.5,T5th,24,9,72.7,at-large,Y,3,1,RF,27,10,73\\r\\n2014,North Dakota,14,Big Sky,15,5,75,T1st,22,9,71,auto,N,0,1,1st,22,10,68.8\\r\\n2014,Northwestern St.,16,Southland,11,7,61.1,T4th,21,12,63.6,auto,N,0,1,1st,21,13,61.8\\r\\n2014,Notre Dame,1,Atlantic Coast,16,0,100,1st,32,0,100,auto,Y^,5,1,N2nd,37,1,97.4\\r\\n2014,Oklahoma,10,Big 12,9,9,50,T5th,18,14,56.3,at-large,N,0,1,1st,18,15,54.5\\r\\n2014,Oklahoma St.,5,Big 12,11,7,61.1,T3rd,23,8,74.2,at-large,N,2,1,RSF,25,9,73.5\\r\\n2014,Oregon St.,9,Pac-12,13,5,72.2,T2nd,23,10,69.7,at-large,N,1,1,2nd,24,11,68.6\\r\\n2014,Penn,12,Ivy,12,2,85.7,1st,22,6,78.6,auto,N,0,1,1st,22,7,75.9\\r\\n2014,Penn St.,3,Big Ten,13,3,81.3,T1st,22,7,75.9,at-large,Y,2,1,RSF,24,8,75\\r\\n2014,Prairie View,16,Southwestern,11,7,61.1,4th,14,17,45.2,auto,N,0,1,1st,14,18,43.8\\r\\n2014,Purdue,4,Big Ten,11,5,68.8,T4th,21,8,72.4,at-large,Y,1,1,2nd,22,9,71\\r\\n2014,Robert Morris,16,Northeast,14,4,77.8,1st,21,11,65.6,auto,N,0,1,1st,21,12,63.6\\r\\n2014,Saint Joseph's,9,Atlantic 10,10,6,62.5,T5th,22,9,71,at-large,N,1,1,2nd,23,10,69.7\\r\\n2014,South Carolina,1,Southeastern,14,2,87.5,1st,27,4,87.1,at-large,N,2,1,RSF,29,5,85.3\\r\\n2014,South Dakota,15,Summit,7,7,50,4th,19,13,59.4,auto,N,0,1,1st,19,14,57.6\\r\\n2014,Southern California,9,Pac-12,11,7,61.1,T4th,22,12,64.7,auto,N,0,1,1st,22,13,62.9\\r\\n2014,St. John's (NY),8,Big East,13,5,72.2,2nd,22,10,68.8,at-large,N,1,1,2nd,23,11,67.6\\r\\n2014,Stanford,1,Pac-12,17,1,94.4,1st,29,3,90.6,at-large,Y^,4,1,NSF,33,4,89.2\\r\\n2014,Syracuse,6,Atlantic Coast,10,6,62.5,T5th,22,9,71,at-large,N,1,1,2nd,23,10,69.7\\r\\n2014,Tennessee,1,Southeastern,13,3,81.3,T2nd,27,5,84.4,auto,Y,2,1,RSF,29,6,82.9\\r\\n2014,Texas,5,Big 12,11,7,61.1,T3rd,21,11,65.6,at-large,N,1,1,2nd,22,12,64.7\\r\\n2014,Texas A&M,3,Southeastern,13,3,81.3,T2nd,24,8,75,at-large,Y,3,1,RF,27,9,75\\r\\n2014,UConn,1,American Athletic,18,0,100,1st,34,0,100,auto,Y,6,0,Champ,40,0,100\\r\\n2014,UT Martin,16,Ohio Valley,15,1,93.8,1st,24,7,77.4,auto,N,0,1,1st,24,8,75\\r\\n2014,Vanderbilt,8,Southeastern,7,9,43.8,T6th,18,12,60,at-large,N,0,1,1st,18,13,58.1\\r\\n2014,West Virginia,2,Big 12,16,2,88.9,2nd,29,4,87.9,at-large,N,1,1,2nd,30,5,85.7\\r\\n2014,Western Ky.,15,Sun Belt,13,5,72.2,2nd,24,8,75,auto,N,0,1,1st,24,9,72.7\\r\\n2014,Wichita St.,14,Missouri Valley,14,4,77.8,T1st,26,6,81.3,auto,N,0,1,1st,26,7,78.8\\r\\n2014,Winthrop,15,Big South,15,5,75,T2nd,24,8,75,auto,N,0,1,1st,24,9,72.7\\r\\n2014,Wright St.,14,Horizon,12,4,75,2nd,26,8,76.5,auto,N,0,1,1st,26,9,74.3\\r\\n2015,Alabama St.,15,Southwestern,10,8,55.6,T3rd,17,14,54.8,auto,N,0,1,1st,17,15,53.1\\r\\n2015,Albany,13,America East,14,2,87.5,1st,24,8,75,auto,N,0,1,1st,24,9,72.7\\r\\n2015,American,14,Patriot,16,2,88.9,1st,24,8,75,auto,N,0,1,1st,24,9,72.7\\r\\n2015,Arizona St.,3,Pac-12,15,3,83.3,2nd,27,5,84.4,at-large,Y,2,1,RSF,29,6,82.9\\r\\n2015,Arkansas,10,Southeastern,6,10,37.5,T9th,17,13,56.7,at-large,N,1,1,2nd,18,14,56.3\\r\\n2015,Baylor,2,Big 12,16,2,88.9,1st,30,3,90.9,auto,Y,3,1,RF,33,4,89.2\\r\\n2015,Boise St.,15,Mountain West,11,7,61.1,4th,22,10,68.8,auto,N,0,1,1st,22,11,66.7\\r\\n2015,BYU,14,West Coast,12,6,66.7,5th,23,9,71.9,auto,N,0,1,1st,23,10,69.7\\r\\n2015,California,4,Pac-12,13,5,72.2,T3rd,23,9,71.9,at-large,Y,1,1,2nd,24,10,70.6\\r\\n2015,Chattanooga,7,Southern,14,0,100,1st,29,3,90.6,auto,N,0,1,1st,29,4,87.9\\r\\n2015,CSUN,13,Big West,11,5,68.8,2nd,23,9,71.9,auto,N,0,1,1st,23,10,69.7\\r\\n2015,Dayton,7,Atlantic 10,14,2,87.5,2nd,25,6,80.6,at-large,N,3,1,RF,28,7,80\\r\\n2015,DePaul,9,Big East,15,3,83.3,T1st,26,7,78.8,auto,N,1,1,2nd,27,8,77.1\\r\\n2015,Duke,4,Atlantic Coast,11,5,68.8,T4th,21,10,67.7,at-large,Y,2,1,RSF,23,11,67.6\\r\\n2015,FGCU,7,Atlantic Sun,14,0,100,1st,30,2,93.8,auto,N,1,1,2nd,31,3,91.2\\r\\n2015,Florida St.,2,Atlantic Coast,14,2,87.5,2nd,29,4,87.9,at-large,Y,3,1,RF,32,5,86.5\\r\\n2015,George Washington,6,Atlantic 10,15,1,93.8,1st,29,3,90.6,auto,N,0,1,1st,29,4,87.9\\r\\n2015,Gonzaga,11,West Coast,16,2,88.9,1st,24,7,77.4,at-large,N,2,1,RSF,26,8,76.5\\r\\n2015,Green Bay,9,Horizon,15,1,93.8,1st,28,4,87.5,auto,N,0,1,1st,28,5,84.8\\r\\n2015,Iowa,3,Big Ten,14,4,77.8,2nd,24,7,77.4,at-large,Y,2,1,RSF,26,8,76.5\\r\\n2015,Iowa St.,10,Big 12,9,9,50,T3rd,18,12,60,at-large,N,0,1,1st,18,13,58.1\\r\\n2015,James Madison,12,Colonial,17,1,94.4,1st,29,3,90.6,auto,N,0,1,1st,29,4,87.9\\r\\n2015,Kentucky,2,Southeastern,10,6,62.5,T4th,23,9,71.9,at-large,Y,1,1,2nd,24,10,70.6\\r\\n2015,Liberty,13,Big South,19,1,95,1st,26,6,81.3,auto,N,0,1,1st,26,7,78.8\\r\\n2015,Little Rock,11,Sun Belt,18,2,90,1st,28,4,87.5,auto,N,1,1,2nd,29,5,85.3\\r\\n2015,Louisville,3,Atlantic Coast,12,4,75,3rd,25,6,80.6,at-large,N,2,1,RSF,27,7,79.4\\r\\n2015,LSU,11,Southeastern,10,6,62.5,T4th,17,13,56.7,at-large,N,0,1,1st,17,14,54.8\\r\\n2015,Maryland,1,Big Ten,18,0,100,1st,30,2,93.8,auto,Y,4,1,NSF,34,3,91.9\\r\\n2015,Miami (FL),11,Atlantic Coast,8,8,50,8th,19,12,61.3,at-large,N,1,1,2nd,20,13,60.6\\r\\n2015,Minnesota,8,Big Ten,11,7,61.1,6th,23,9,71.9,at-large,N,0,1,1st,23,10,69.7\\r\\n2015,Mississippi St.,5,Southeastern,11,5,68.8,3rd,26,6,81.3,at-large,N,1,1,2nd,27,7,79.4\\r\\n2015,Montana,16,Big Sky,12,6,66.7,T4th,23,8,74.2,auto,N,0,1,1st,23,9,71.9\\r\\n2015,Nebraska,9,Big Ten,10,8,55.6,7th,21,10,67.7,at-large,N,0,1,1st,21,11,65.6\\r\\n2015,New Mexico St.,16,Western Athletic,13,1,92.9,1st,22,7,75.9,auto,N,0,1,1st,22,8,73.3\\r\\n2015,North Carolina,4,Atlantic Coast,10,6,62.5,6th,24,8,75,at-large,Y,2,1,RSF,26,9,74.3\\r\\n2015,Northwestern,7,Big Ten,12,6,66.7,T4th,23,8,74.2,at-large,N,0,1,1st,23,9,71.9\\r\\n2015,Northwestern St.,15,Southland,10,8,55.6,T6th,19,14,57.6,auto,N,0,1,1st,19,15,55.9\\r\\n2015,Notre Dame,1,Atlantic Coast,15,1,93.8,1st,31,2,93.9,auto,Y,5,1,N2nd,36,3,92.3\\r\\n2015,Ohio,14,Mid-American,16,2,88.9,1st,27,4,87.1,auto,N,0,1,1st,27,5,84.4\\r\\n2015,Ohio St.,5,Big Ten,13,5,72.2,3rd,23,10,69.7,at-large,N,1,1,2nd,24,11,68.6\\r\\n2015,Oklahoma,5,Big 12,13,5,72.2,2nd,20,11,64.5,at-large,N,1,1,2nd,21,12,63.6\\r\\n2015,Oklahoma St.,10,Big 12,9,9,50,T3rd,20,11,64.5,at-large,N,0,1,1st,20,12,62.5\\r\\n2015,Oregon St.,3,Pac-12,16,2,88.9,1st,26,4,86.7,at-large,Y,1,1,2nd,27,5,84.4\\r\\n2015,Pittsburgh,10,Atlantic Coast,9,7,56.3,7th,19,11,63.3,at-large,N,1,1,2nd,20,12,62.5\\r\\n2015,Princeton,8,Ivy,14,0,100,1st,30,0,100,auto,N,1,1,2nd,31,1,96.9\\r\\n2015,Quinnipiac,12,Metro Atlantic,20,0,100,1st,31,3,91.2,auto,N,0,1,1st,31,4,88.6\\r\\n2015,Rutgers,8,Big Ten,12,6,66.7,T4th,22,9,71,at-large,N,1,1,2nd,23,10,69.7\\r\\n2015,Savannah St.,16,Mid-Eastern,13,3,81.3,2nd,21,10,67.7,auto,N,0,1,1st,21,11,65.6\\r\\n2015,Seton Hall,9,Big East,15,3,83.3,T1st,28,5,84.8,at-large,N,0,1,1st,28,6,82.4\\r\\n2015,South Carolina,1,Southeastern,15,1,93.8,T1st,30,2,93.8,auto,Y,4,1,NSF,34,3,91.9\\r\\n2015,South Dakota St.,14,Summit,12,4,75,2nd,24,8,75,auto,N,0,1,1st,24,9,72.7\\r\\n2015,South Florida,6,American Athletic,15,3,83.3,2nd,26,7,78.8,at-large,Y,1,1,2nd,27,8,77.1\\r\\n2015,St. Francis Brooklyn,16,Northeast,9,9,50,5th,15,18,45.5,auto,N,0,1,1st,15,19,44.1\\r\\n2015,Stanford,4,Pac-12,13,5,72.2,T3rd,24,9,72.7,auto,Y,2,1,RSF,26,10,72.2\\r\\n2015,Syracuse,8,Atlantic Coast,11,5,68.8,T4th,21,9,70,at-large,N,1,1,2nd,22,10,68.8\\r\\n2015,Tennessee,2,Southeastern,15,1,93.8,T1st,27,5,84.4,at-large,Y,3,1,RF,30,6,83.3\\r\\n2015,Tennessee St.,15,Ohio Valley,12,4,75,1st,18,12,60,auto,N,0,1,1st,18,13,58.1\\r\\n2015,Texas,5,Big 12,9,9,50,T3rd,22,10,68.8,at-large,N,2,1,RSF,24,11,68.6\\r\\n2015,Texas A&M,6,Southeastern,10,6,62.5,T4th,23,9,71.9,at-large,N,0,1,1st,23,10,69.7\\r\\n2015,Tulane,12,American Athletic,11,7,61.1,T5th,22,10,68.8,at-large,N,0,1,1st,22,11,66.7\\r\\n2015,UConn,1,American Athletic,18,0,100,1st,32,1,97,auto,Y,6,0,Champ,38,1,97.4\\r\\n2015,Washington,6,Pac-12,11,7,61.1,5th,23,9,71.9,at-large,N,0,1,1st,23,10,69.7\\r\\n2015,Western Ky.,12,Conference USA,16,2,88.9,1st,30,4,88.2,auto,N,0,1,1st,30,5,85.7\\r\\n2015,Wichita St.,13,Missouri Valley,17,1,94.4,1st,29,4,87.9,auto,N,0,1,1st,29,5,85.3\\r\\n2016,Alabama St.,15,Southwestern,14,4,77.8,T1st,19,11,63.3,auto,N,0,1,1st,19,12,61.3\\r\\n2016,Albany,12,America East,15,1,93.8,T1st,27,4,87.1,auto,N,1,1,2nd,28,5,84.8\\r\\n2016,Arizona St.,2,Pac-12,16,2,88.9,T1st,25,6,80.6,at-large,Y,1,1,2nd,26,7,78.8\\r\\n2016,Army West Point,13,Patriot,17,1,94.4,T1st,29,2,93.5,auto,N,0,1,1st,29,3,90.6\\r\\n2016,Auburn,9,Southeastern,8,8,50,T5th,19,12,61.3,at-large,N,1,1,2nd,20,13,60.6\\r\\n2016,Baylor,1,Big 12,17,1,94.4,1st,33,1,97.1,auto,Y,3,1,RF,36,2,94.7\\r\\n2016,Belmont,13,Ohio Valley,13,3,81.3,1st Div.,24,8,75,auto,N,0,1,1st,24,9,72.7\\r\\n2016,Buffalo,14,Mid-American,8,10,44.4,3rd Div,20,13,60.6,auto,N,0,1,1st,20,14,58.8\\r\\n2016,BYU,7,West Coast,16,2,88.9,1st,26,6,81.3,at-large,N,0,1,1st,26,7,78.8\\r\\n2016,Central Arkansas,14,Southland,16,2,88.9,2nd,28,3,90.3,auto,N,0,1,1st,28,4,87.5\\r\\n2016,Chattanooga,12,Southern,12,2,85.7,T1st,24,7,77.4,auto,N,0,1,1st,24,8,75\\r\\n2016,Colorado St.,11,Mountain West,18,0,100,1st,31,1,96.9,auto,N,0,1,1st,31,2,93.9\\r\\n2016,DePaul,6,Big East,16,2,88.9,1st,25,8,75.8,at-large,N,2,1,RSF,27,9,75\\r\\n2016,Duquesne,9,Atlantic 10,13,3,81.3,T1st,27,5,84.4,at-large,N,1,1,2nd,28,6,82.4\\r\\n2016,Florida,5,Southeastern,10,6,62.5,T3rd,22,8,73.3,at-large,N,0,1,1st,22,9,71\\r\\n2016,Florida St.,5,Atlantic Coast,13,3,81.3,T3rd,23,7,76.7,at-large,N,2,1,RSF,25,8,75.8\\r\\n2016,George Washington,8,Atlantic 10,13,3,81.3,T1st,26,6,81.3,auto,N,0,1,1st,26,7,78.8\\r\\n2016,Georgia,8,Southeastern,9,7,56.3,4th,21,9,70,at-large,N,0,1,1st,21,10,67.7\\r\\n2016,Green Bay,10,Horizon,16,2,88.9,1st,28,4,87.5,auto,N,0,1,1st,28,5,84.8\\r\\n2016,Hawaii,14,Big West,12,4,75,T2nd,21,10,67.7,auto,N,0,1,1st,21,11,65.6\\r\\n2016,Idaho,16,Big Sky,13,5,72.2,T2nd,24,9,72.7,auto,N,0,1,1st,24,10,70.6\\r\\n2016,Indiana,9,Big Ten,12,6,66.7,4th,20,11,64.5,at-large,N,1,1,2nd,21,12,63.6\\r\\n2016,Iona,15,Metro Atlantic,16,4,80,2nd,23,11,67.6,auto,N,0,1,1st,23,12,65.7\\r\\n2016,Jacksonville,16,ASUN,11,3,78.6,2nd,22,10,68.8,auto,N,0,1,1st,22,11,66.7\\r\\n2016,James Madison,11,Colonial Athletic,17,1,94.4,1st,27,5,84.4,auto,N,0,1,1st,27,6,81.8\\r\\n2016,Kansas St.,9,Big 12,8,10,44.4,T5th,18,12,60,at-large,N,1,1,2nd,19,13,59.4\\r\\n2016,Kentucky,3,Southeastern,10,6,62.5,T3rd,23,7,76.7,at-large,Y,2,1,RSF,25,8,75.8\\r\\n2016,Louisville,3,Atlantic Coast,15,1,93.8,2nd,25,7,78.1,at-large,Y,1,1,2nd,26,8,76.5\\r\\n2016,Maryland,2,Big Ten,16,2,88.9,1st,30,3,90.9,auto,Y,1,1,2nd,31,4,88.6\\r\\n2016,Miami (FL),5,Atlantic Coast,10,6,62.5,5th,24,8,75,at-large,N,0,1,1st,24,9,72.7\\r\\n2016,Michigan St.,4,Big Ten,13,5,72.2,3rd,24,8,75,at-large,N,1,1,2nd,25,9,73.5\\r\\n2016,Middle Tenn.,12,Conference USA,15,3,83.3,T2nd,24,8,75,auto,N,0,1,1st,24,9,72.7\\r\\n2016,Mississippi St.,5,Southeastern,11,5,68.8,T2nd,26,7,78.8,at-large,Y,2,1,RSF,28,8,77.8\\r\\n2016,Missouri,10,Southeastern,8,8,50,T5th,21,9,70,at-large,N,1,1,2nd,22,10,68.8\\r\\n2016,Missouri St.,13,Missouri Valley,14,4,77.8,T2nd,24,9,72.7,auto,N,0,1,1st,24,10,70.6\\r\\n2016,NC A&T,16,Mid-Eastern,12,4,75,T1st,19,11,63.3,auto,N,0,1,1st,19,12,61.3\\r\\n2016,New Mexico St.,15,Western Atlantic,13,1,92.9,1st,26,4,86.7,auto,N,0,1,1st,26,5,83.9\\r\\n2016,Notre Dame,1,Atlantic Coast,16,0,100,1st,31,1,96.9,auto,Y,2,1,RSF,33,2,94.3\\r\\n2016,Ohio St.,3,Big Ten,15,3,83.3,2nd,24,7,77.4,at-large,Y,2,1,RSF,26,8,76.5\\r\\n2016,Oklahoma,6,Big 12,11,7,61.1,T4th,21,10,67.7,at-large,N,1,1,2nd,22,11,66.7\\r\\n2016,Oklahoma St.,7,Big 12,11,7,61.1,T4th,21,9,70,at-large,N,0,1,1st,21,10,67.7\\r\\n2016,Oregon St.,2,Pac-12,16,2,88.9,T1st,28,4,87.5,auto,Y,4,1,NSF,32,5,86.5\\r\\n2016,Penn,10,Ivy,13,1,92.9,1st,24,4,85.7,auto,N,0,1,1st,24,5,82.8\\r\\n2016,Princeton,11,Ivy,12,2,85.7,2nd,23,5,82.1,at-large,N,0,1,1st,23,6,79.3\\r\\n2016,Purdue,11,Big Ten,10,8,55.6,T5th,20,11,64.5,at-large,N,0,1,1st,20,12,62.5\\r\\n2016,Robert Morris,16,Northeast,11,7,61.1,T3rd,20,12,62.5,auto,N,0,1,1st,20,13,60.6\\r\\n2016,San Francisco,13,West Coast,9,9,50,6th,21,11,65.6,auto,N,0,1,1st,21,12,63.6\\r\\n2016,Seton Hall,8,Big East,12,6,66.7,T2nd,23,8,74.2,at-large,N,0,1,1st,23,9,71.9\\r\\n2016,South Carolina,1,Southeastern,16,0,100,1st,31,1,96.9,auto,Y,2,1,RSF,33,2,94.3\\r\\n2016,South Dakota St.,12,Summit,13,3,81.3,2nd,26,6,81.3,auto,N,1,1,2nd,27,7,79.4\\r\\n2016,South Florida,6,American Athletic,14,4,77.8,2nd,23,9,71.9,at-large,N,1,1,2nd,24,10,70.6\\r\\n2016,St. Bonaventure,10,Atlantic 10,12,4,75,2nd,23,7,76.7,at-large,N,1,1,2nd,24,8,75\\r\\n2016,St. John's (NY),8,Big East,11,7,61.1,4th,23,9,71.9,auto,N,0,1,1st,23,10,69.7\\r\\n2016,Stanford,4,Pac-12,14,4,77.8,T2nd,24,7,77.4,at-large,Y,3,1,RF,27,8,77.1\\r\\n2016,Syracuse,4,Atlantic Coast,13,3,81.3,T3rd,25,7,78.1,at-large,Y,5,1,N2nd,30,8,78.9\\r\\n2016,Tennessee,7,Southeastern,8,8,50,T5th,19,13,59.4,at-large,N,3,1,RF,22,14,61.1\\r\\n2016,Texas,2,Big 12,15,3,83.3,2nd,28,4,87.5,at-large,Y,3,1,RF,31,5,86.1\\r\\n2016,Texas A&M,4,Southeastern,11,5,68.8,T2nd,21,9,70,at-large,Y,1,1,2nd,22,10,68.8\\r\\n2016,Troy,15,Sun Belt,12,8,60,4th,20,12,62.5,auto,N,0,1,1st,20,13,60.6\\r\\n2016,UCLA,3,Pac-12,14,4,77.8,T2nd,24,8,75,at-large,Y,2,1,RSF,26,9,74.3\\r\\n2016,UConn,1,American Athletic,18,0,100,1st,32,0,100,auto,Y,6,0,Champ,38,0,100\\r\\n2016,UNC Asheville,14,Big South,16,4,80,1st,26,6,81.3,auto,N,0,1,1st,26,7,78.8\\r\\n2016,Washington,7,Pac-12,11,7,61.1,3rd,22,10,68.8,at-large,N,4,1,NSF,26,11,70.3\\r\\n2016,West Virginia,6,Big 12,12,6,66.7,3rd,24,9,72.7,at-large,N,1,1,2nd,25,10,71.4\\r\\n2017,Albany,16,America East,12,4,75,2nd,21,11,65.6,auto,N,0,1,1st,21,12,63.6\\r\\n2017,Arizona St.,8,Pac-12,9,9,50,5th,19,12,61.3,at-large,N,1,1,2nd,20,13,60.6\\r\\n2017,Auburn,11,Southeastern,7,9,43.8,T7th,17,14,54.8,at-large,N,0,1,1st,17,15,53.1\\r\\n2017,Baylor,1,Big 12,17,1,94.4,1st,30,3,90.9,at-large,Y,3,1,RF,33,4,89.2\\r\\n2017,Belmont,13,Ohio Valley,16,0,100,1st Div.,27,5,84.4,auto,N,0,1,1st,27,6,81.8\\r\\n2017,Boise St.,13,Mountain West,12,6,66.7,3rd,25,7,78.1,auto,N,0,1,1st,25,8,75.8\\r\\n2017,Bucknell,14,Patriot,16,2,88.9,1st,27,5,84.4,auto,N,0,1,1st,27,6,81.8\\r\\n2017,California,9,Pac-12,6,12,33.3,T6th,19,13,59.4,at-large,N,1,1,2nd,20,14,58.8\\r\\n2017,Central Arkansas,14,Southland,16,2,88.9,1st,26,4,86.7,auto,N,0,1,1st,26,5,83.9\\r\\n2017,Chattanooga,13,Southern,12,2,85.7,T1st,21,10,67.7,auto,N,0,1,1st,21,11,65.6\\r\\n2017,Creighton,7,Big East,16,2,88.9,T1st,23,7,76.7,at-large,N,1,1,2nd,24,8,75\\r\\n2017,Dayton,12,Atlantic-10,13,3,81.3,T1st,22,9,71,auto,N,0,1,1st,22,10,68.8\\r\\n2017,DePaul,7,Big East,16,2,88.9,T1st,26,7,78.8,at-large,N,1,1,2nd,27,8,77.1\\r\\n2017,Drake,10,Missouri Valley,18,0,100,1st,28,4,87.5,auto,N,0,1,1st,28,5,84.8\\r\\n2017,Duke,2,Atlantic Coast,13,3,81.3,T2nd,27,5,84.4,at-large,Y,1,1,2nd,28,6,82.4\\r\\n2017,Elon,11,Colonial,16,2,88.9,1st,27,6,81.8,auto,N,0,1,1st,27,7,79.4\\r\\n2017,FGCU,13,ASUN,12,2,85.7,2nd,26,8,76.5,auto,N,0,1,1st,26,9,74.3\\r\\n2017,Florida St.,3,Atlantic Coast,13,3,81.3,T2nd,25,6,80.6,at-large,Y,3,1,RF,28,7,80\\r\\n2017,Gonzaga,11,West Coast,14,4,77.8,1st,26,6,81.3,auto,N,0,1,1st,26,7,78.8\\r\\n2017,Green Bay,8,Horizon,15,3,83.3,T1st,27,5,84.4,auto,N,0,1,1st,27,6,81.8\\r\\n2017,Hampton,15,Mid-Eastern,11,5,68.8,3rd,20,12,62.5,auto,N,0,1,1st,20,13,60.6\\r\\n2017,Iowa St.,9,Big 12,9,9,50,5th,18,12,60,at-large,N,0,1,1st,18,13,58.1\\r\\n2017,Kansas St.,7,Big 12,11,7,61.1,4th,22,10,68.8,at-large,Y,1,1,2nd,23,11,67.6\\r\\n2017,Kentucky,4,Southeastern,11,5,68.8,T3rd,21,10,67.7,at-large,Y,1,1,2nd,22,11,66.7\\r\\n2017,Long Beach St.,15,Big West,12,4,75,2nd,23,10,69.7,auto,N,0,1,1st,23,11,67.6\\r\\n2017,Louisville,4,Atlantic Coast,12,4,75,T3rd,27,7,79.4,at-large,Y,2,1,RSF,29,8,78.4\\r\\n2017,LSU,8,Southeastern,8,8,50,6th,20,11,64.5,at-large,N,0,1,1st,20,12,62.5\\r\\n2017,Marquette,5,Big East,13,5,72.2,2nd,25,7,78.1,auto,N,0,1,1st,25,8,75.8\\r\\n2017,Maryland,3,Big Ten,15,1,93.8,T1st,30,2,93.8,auto,Y,2,1,RSF,32,3,91.4\\r\\n2017,Miami (FL),4,Atlantic Coast,10,6,62.5,5th,23,8,74.2,at-large,Y,1,1,2nd,24,9,72.7\\r\\n2017,Michigan St.,9,Big Ten,9,7,56.3,4th,21,11,65.6,at-large,N,0,1,1st,21,12,63.6\\r\\n2017,Mississippi St.,2,Southeastern,13,3,81.3,2nd,29,4,87.9,at-large,Y,5,1,N2nd,34,5,87.2\\r\\n2017,Missouri,6,Southeastern,11,5,68.8,T3rd,21,10,67.7,at-large,N,1,1,2nd,22,11,66.7\\r\\n2017,Montana St.,14,Big Sky,15,3,83.3,T1st,25,6,80.6,auto,N,0,1,1st,25,7,78.1\\r\\n2017,NC State,6,Atlantic Coast,12,4,75,T3rd,22,8,73.3,at-large,N,1,1,2nd,23,9,71.9\\r\\n2017,New Mexico St.,15,Western Atlantic,14,0,100,1st,24,6,80,auto,N,0,1,1st,24,7,77.4\\r\\n2017,Notre Dame,1,Atlantic Coast,15,1,93.8,1st,30,3,90.9,auto,Y,3,1,RF,33,4,89.2\\r\\n2017,Ohio St.,5,Big Ten,15,1,93.8,T1st,26,6,81.3,at-large,N,2,1,RSF,28,7,80\\r\\n2017,Oklahoma,6,Big 12,13,5,72.2,3rd,22,9,71,at-large,N,2,1,2nd,23,10,69.7\\r\\n2017,Oregon,10,Pac-12,8,10,44.4,5th,20,13,60.6,at-large,N,3,1,RF,23,14,62.2\\r\\n2017,Oregon St.,2,Pac-12,16,2,88.9,1st,29,4,87.9,at-large,Y,2,1,RSF,31,5,86.1\\r\\n2017,Penn,12,Ivy,13,1,92.9,1st,22,7,75.9,auto,N,0,1,1st,22,8,73.3\\r\\n2017,Purdue,9,Big Ten,10,6,62.5,T3rd,22,12,64.7,at-large,N,1,1,2nd,23,13,63.9\\r\\n2017,Quinnipiac,12,Metro Atlantic,17,3,85,1st,27,6,81.8,auto,N,2,1,RSF,29,7,80.6\\r\\n2017,Robert Morris,16,Northeast,14,4,77.8,1st,22,10,68.8,auto,N,0,1,1st,22,11,66.7\\r\\n2017,South Carolina,1,Southeastern,14,2,87.5,1st,27,4,87.1,auto,Y,6,0,Champ,33,4,89.2\\r\\n2017,South Florida,11,American Athletic,11,5,68.8,3rd,24,8,75,at-large,N,0,1,1st,24,9,72.7\\r\\n2017,Stanford,2,Pac-12,15,3,83.3,T2nd,28,5,84.8,auto,Y,4,1,NSF,32,6,84.2\\r\\n2017,Syracuse,8,Atlantic Coast,11,5,68.8,4th,21,10,67.7,at-large,N,1,1,2nd,22,11,66.7\\r\\n2017,Temple,7,American Athletic,13,3,81.3,2nd,24,7,77.4,at-large,N,0,1,1st,24,8,75\\r\\n2017,Tennessee,5,Southeastern,10,6,62.5,4th,19,11,63.3,at-large,N,1,1,2nd,20,12,62.5\\r\\n2017,Texas,3,Big 12,15,3,83.3,2nd,23,8,74.2,at-large,Y,2,1,RSF,25,9,73.5\\r\\n2017,Texas A&M,5,Southeastern,9,7,56.3,5th,21,11,65.6,at-large,N,1,1,2nd,22,12,64.7\\r\\n2017,Texas Southern,16,Southwestern,14,4,77.8,T1st,23,9,71.9,auto,N,0,1,1st,23,10,69.7\\r\\n2017,Toledo,10,Mid-American,12,6,66.7,T3rd Div.,25,8,75.8,auto,N,0,1,1st,25,9,73.5\\r\\n2017,Troy,15,Sun Belt,12,6,66.7,3rd,22,10,68.8,auto,N,0,1,1st,22,11,66.7\\r\\n2017,UCLA,4,Pac-12,13,5,72.2,3rd,23,8,74.2,at-large,Y,2,1,RSF,25,9,73.5\\r\\n2017,UConn,1,American Athletic,16,0,100,1st,32,0,100,auto,Y,4,1,NSF,36,1,97.3\\r\\n2017,UNC Asheville,16,Big South,9,9,50,6th,19,15,55.9,auto,N,0,1,1st,19,15,55.9\\r\\n2017,UNI,10,Missouri Valley,15,3,83.3,2nd,24,8,75,at-large,N,0,1,1st,24,9,72.7\\r\\n2017,Washington,3,Pac-12,15,3,83.3,T2nd,27,5,84.4,at-large,Y,2,1,RSF,29,6,82.9\\r\\n2017,West Virginia,6,Big 12,8,10,44.4,6th,23,10,69.7,auto,N,1,1,2nd,24,11,68.6\\r\\n2017,Western Ill.,14,Summit,13,3,81.3,1st,26,6,81.3,auto,N,0,1,1st,26,7,78.8\\r\\n2017,Western Ky.,12,Conference USA,16,2,88.9,1st,27,6,81.8,auto,N,0,1,1st,27,7,79.4\\r\\n2018,American,14,Patriot,16,2,88.9,1st,26,6,81.3,auto,N,0,1,1st,26,7,78.8\\r\\n2018,Arizona St.,7,Pac-12,16,2,88.9,6th,21,12,63.6,at-large,N,1,1,2nd,22,13,62.9\\r\\n2018,Baylor,2,Big 12,18,0,100,1st,31,1,96.9,auto,Y,2,1,RSF,33,2,94.3\\r\\n2018,Belmont,12,Ohio Valley,18,0,100,1st Div.,31,3,91.2,auto,N,0,1,1st,31,4,88.6\\r\\n2018,Boise St.,16,Mountain West,14,4,77.8,T1st,23,9,71.9,auto,N,0,1,1st,23,10,69.7\\r\\n2018,Buffalo,11,Mid-American,16,2,88.9,1st Div.,27,5,84.4,auto,N,2,1,RSF,29,6,82.9\\r\\n2018,California,7,Pac-12,11,7,61.1,5th,21,10,67.7,at-large,N,0,1,1st,21,11,65.6\\r\\n2018,Central Mich.,11,Mid-American,17,1,94.4,1st Div.,28,4,87.5,auto,N,2,1,RSF,30,5,85.7\\r\\n2018,Creighton,11,Big East,11,7,61.1,3rd,18,12,60,at-large,N,1,1,2nd,19,13,59.4\\r\\n2018,CSUN,16,Big West,8,8,50,5th,19,15,55.9,auto,N,0,1,1st,19,16,54.3\\r\\n2018,Dayton,9,Atlantic 10,15,1,93.8,1st,23,7,76.7,at-large,N,0,1,1st,23,7,76.7\\r\\n2018,DePaul,5,Big East,15,3,83.3,1st,26,7,78.8,auto,N,1,1,2nd,27,8,77.1\\r\\n2018,Drake,13,Missouri Valley,18,0,100,1st,26,7,78.8,auto,N,0,1,1st,26,8,76.5\\r\\n2018,Duke,5,Atlantic Coast,11,5,68.8,T4th,22,8,73.3,at-large,N,2,1,RSF,24,9,72.7\\r\\n2018,Elon,13,Colonial Athletic,14,4,77.8,2nd,25,7,78.1,auto,N,0,1,1st,25,8,75.8\\r\\n2018,FGCU,12,Atlantic Sun,13,1,92.9,1st,30,4,88.2,auto,N,1,1,2nd,31,5,86.1\\r\\n2018,Florida St.,3,Atlantic Coast,12,4,75,3rd,25,6,80.6,at-large,Y,1,1,2nd,26,7,78.8\\r\\n2018,George Washington,14,Atlantic 10,10,6,62.5,5th,19,13,59.4,auto,N,0,1,1st,19,14,57.6\\r\\n2018,Georgia,4,Southeastern,12,4,75,3rd,25,6,80.6,at-large,Y,2,1,2nd,26,7,78.8\\r\\n2018,Gonzaga,13,West Coast,17,1,94.4,1st,27,5,84.4,auto,N,0,1,1st,27,6,81.8\\r\\n2018,Grambling,15,SWAC,13,5,72.2,T2nd,19,3,86.4,auto,N,0,1,1st,19,14,57.6\\r\\n2018,Green Bay,7,Horizon,16,2,88.9,1st,29,3,90.6,auto,N,0,1,1st,29,4,87.9\\r\\n2018,Iowa,6,Big Ten,11,5,68.8,T3rd,24,7,77.4,at-large,N,0,1,1st,24,8,75\\r\\n2018,Liberty,14,Big South,16,2,88.9,1st,24,9,72.7,auto,N,0,1,1st,24,10,70.6\\r\\n2018,Little Rock,14,Sun Belt,17,1,94.4,1st,23,9,71.9,auto,N,0,1,1st,23,10,69.7\\r\\n2018,Louisville,1,Atlantic Coast,15,1,93.8,T1st,32,2,94.1,auto,Y,4,1,NSF,36,3,92.3\\r\\n2018,LSU,6,Southeastern,11,5,68.8,T3rd,19,9,67.9,at-large,N,0,1,1st,19,10,65.5\\r\\n2018,Maine,15,America East,13,3,81.3,1st,23,9,71.9,auto,N,0,1,1st,23,10,69.7\\r\\n2018,Marquette,8,Big East,15,3,83.3,T1st,23,9,71.9,at-large,N,1,1,2nd,24,10,70.6\\r\\n2018,Maryland,5,Big Ten,12,4,75,2nd,25,7,78.1,at-large,N,1,1,2nd,26,8,76.5\\r\\n2018,Mercer,13,Southern,14,0,100,1st,30,2,93.8,auto,N,0,1,1st,30,3,90.9\\r\\n2018,Miami (FL),8,Atlantic Coast,10,6,62.5,T6th,21,10,67.7,at-large,N,0,1,1st,21,11,65.6\\r\\n2018,Michigan,7,Big Ten,10,6,62.5,6th,22,9,71,at-large,N,1,1,2nd,23,10,69.7\\r\\n2018,Minnesota,10,Big Ten,11,5,68.8,T3rd,23,8,74.2,at-large,N,1,1,2nd,24,9,72.7\\r\\n2018,Mississippi St.,1,Southeastern,16,0,100,1st,32,1,97,at-large,Y,5,1,N2nd,37,2,94.9\\r\\n2018,Missouri,5,Southeastern,11,5,68.8,T3rd,24,7,77.4,at-large,N,0,1,1st,24,8,75\\r\\n2018,NC A&T,15,Mid-Eastern,15,1,93.8,T1st,23,8,74.2,auto,N,0,1,1st,23,9,71.9\\r\\n2018,NC State,4,Atlantic,11,5,68.8,T4th,24,8,75,at-large,Y,2,1,RSF,26,9,74.3\\r\\n2018,Nebraska,10,Big Ten,11,5,68.8,T3rd,21,10,67.7,at-large,N,0,1,1st,21,11,65.6\\r\\n2018,Nicholls St.,16,Southland,11,7,61.1,4th,19,13,59.4,auto,N,0,1,1st,19,14,57.6\\r\\n2018,Northern Colo.,10,Big Sky,15,3,83.3,1st,26,6,81.3,auto,N,0,1,1st,26,7,78.8\\r\\n2018,Notre Dame,1,Atlantic Coast,15,1,93.8,T1st,29,3,90.6,at-large,Y,6,0,Champ,35,3,92.1\\r\\n2018,Ohio St.,3,Big Ten,13,3,81.3,1st,27,6,81.8,auto,Y,1,1,2nd,28,7,80\\r\\n2018,Oklahoma,12,Big 12,11,7,61.1,T3rd,16,14,53.3,at-large,N,0,1,1st,16,15,51.6\\r\\n2018,Oklahoma St.,9,Big 12,11,7,61.1,T3rd,20,10,66.7,at-large,N,1,1,2nd,21,11,65.6\\r\\n2018,Oregon,2,Pac-12,16,2,88.9,1st,30,4,88.2,auto,Y,3,1,RF,33,5,86.8\\r\\n2018,Oregon St.,6,Pac-12,14,4,77.8,T3rd,23,7,76.7,at-large,Y,3,1,RF,26,8,76.5\\r\\n2018,Princeton,12,Ivy,12,2,85.7,1st,24,5,82.8,auto,N,0,1,1st,24,6,80\\r\\n2018,Quinnipiac,9,Metro Atlantic,18,0,100,1st,27,5,84.4,auto,N,2,1,2nd,30,6,83.3\\r\\n2018,Saint Francis (PA),16,Northeast,16,2,88.9,2nd,24,7,77.4,auto,N,3,1,1st,24,10,70.6\\r\\n2018,Seattle,15,Western Athletic,9,5,64.3,3rd,18,14,56.3,auto,N,0,1,1st,18,15,54.5\\r\\n2018,South Carolina,2,Southeastern,12,4,75,2nd,26,6,81.3,auto,Y,3,1,RF,29,7,80.6\\r\\n2018,South Dakota St.,12,Summit,12,2,85.7,2nd,26,6,81.3,auto,N,0,1,2nd,26,7,78.8\\r\\n2018,South Florida,6,American Athletic,13,3,81.3,2nd,26,7,78.8,at-large,N,0,1,1st,26,8,76.5\\r\\n2018,Stanford,4,Pac-12,14,3,82.4,2nd,22,10,68.8,at-large,Y,2,1,RSF,24,11,68.6\\r\\n2018,Syracuse,8,Atlantic Coast,10,6,62.5,T4th,22,8,73.3,at-large,N,0,1,1st,22,9,71\\r\\n2018,Tennessee,3,Southeastern,11,5,68.8,T4th,24,7,77.4,at-large,Y,1,1,2nd,25,8,75.8\\r\\n2018,Texas,2,Big 12,15,3,83.3,2nd,26,6,81.3,at-large,Y,2,1,RSF,28,7,80\\r\\n2018,Texas A&M,4,Southeastern,11,5,68.8,T4th,24,9,72.7,at-large,Y,2,1,RSF,26,10,72.2\\r\\n2018,UCLA,3,Pac-12,14,4,77.8,3rd,24,8,75,at-large,Y,2,1,RF,27,8,77.1\\r\\n2018,UConn,1,American Athletic,16,0,100,1st,32,0,100,auto,Y,4,1,NSF,36,1,97.3\\r\\n2018,Villanova,9,Big East,12,6,66.7,3rd,22,8,73.3,at-large,N,1,1,2nd,23,9,71.9\\r\\n2018,Virginia,10,Atlantic Coast,10,6,62.5,6th,10,6,62.5,at-large,N,1,1,2nd,19,14,57.6\\r\\n2018,Western Ky.,11,Conference USA,12,4,75,2nd,24,8,75,auto,N,0,1,1st,24,9,72.7\"}"
            ]
          },
          "metadata": {
            "tags": []
          },
          "execution_count": 195
        }
      ]
    },
    {
      "cell_type": "code",
      "metadata": {
        "id": "Bb0aBwkfw1Fh",
        "colab_type": "code",
        "colab": {}
      },
      "source": [
        "df = pd.read_csv('ncaa-womens-basketball-tournament-history.csv')"
      ],
      "execution_count": 0,
      "outputs": []
    },
    {
      "cell_type": "code",
      "metadata": {
        "id": "e1sYrxwQzlno",
        "colab_type": "code",
        "outputId": "aa197890-bfb4-497b-a429-e2b4f7b47be9",
        "colab": {
          "base_uri": "https://localhost:8080/",
          "height": 383
        }
      },
      "source": [
        "print(df.shape)\n",
        "df.head()"
      ],
      "execution_count": 0,
      "outputs": [
        {
          "output_type": "stream",
          "text": [
            "(2092, 19)\n"
          ],
          "name": "stdout"
        },
        {
          "output_type": "execute_result",
          "data": {
            "text/html": [
              "<div>\n",
              "<style scoped>\n",
              "    .dataframe tbody tr th:only-of-type {\n",
              "        vertical-align: middle;\n",
              "    }\n",
              "\n",
              "    .dataframe tbody tr th {\n",
              "        vertical-align: top;\n",
              "    }\n",
              "\n",
              "    .dataframe thead th {\n",
              "        text-align: right;\n",
              "    }\n",
              "</style>\n",
              "<table border=\"1\" class=\"dataframe\">\n",
              "  <thead>\n",
              "    <tr style=\"text-align: right;\">\n",
              "      <th></th>\n",
              "      <th>Year</th>\n",
              "      <th>School</th>\n",
              "      <th>Seed</th>\n",
              "      <th>Conference</th>\n",
              "      <th>Conf. W</th>\n",
              "      <th>Conf. L</th>\n",
              "      <th>Conf. %</th>\n",
              "      <th>Conf. place</th>\n",
              "      <th>Reg. W</th>\n",
              "      <th>Reg. L</th>\n",
              "      <th>Reg. %</th>\n",
              "      <th>How qual</th>\n",
              "      <th>1st game at home?</th>\n",
              "      <th>Tourney W</th>\n",
              "      <th>Tourney L</th>\n",
              "      <th>Tourney finish</th>\n",
              "      <th>Full W</th>\n",
              "      <th>Full L</th>\n",
              "      <th>Full %</th>\n",
              "    </tr>\n",
              "  </thead>\n",
              "  <tbody>\n",
              "    <tr>\n",
              "      <th>0</th>\n",
              "      <td>1982</td>\n",
              "      <td>Arizona St.</td>\n",
              "      <td>4</td>\n",
              "      <td>Western Collegiate</td>\n",
              "      <td>-</td>\n",
              "      <td>-</td>\n",
              "      <td>-</td>\n",
              "      <td>-</td>\n",
              "      <td>23</td>\n",
              "      <td>6</td>\n",
              "      <td>79.3</td>\n",
              "      <td>at-large</td>\n",
              "      <td>Y</td>\n",
              "      <td>1</td>\n",
              "      <td>1</td>\n",
              "      <td>RSF</td>\n",
              "      <td>24</td>\n",
              "      <td>7</td>\n",
              "      <td>77.4</td>\n",
              "    </tr>\n",
              "    <tr>\n",
              "      <th>1</th>\n",
              "      <td>1982</td>\n",
              "      <td>Auburn</td>\n",
              "      <td>7</td>\n",
              "      <td>Southeastern</td>\n",
              "      <td>-</td>\n",
              "      <td>-</td>\n",
              "      <td>-</td>\n",
              "      <td>-</td>\n",
              "      <td>24</td>\n",
              "      <td>4</td>\n",
              "      <td>85.7</td>\n",
              "      <td>at-large</td>\n",
              "      <td>N</td>\n",
              "      <td>0</td>\n",
              "      <td>1</td>\n",
              "      <td>1st</td>\n",
              "      <td>24</td>\n",
              "      <td>5</td>\n",
              "      <td>82.8</td>\n",
              "    </tr>\n",
              "    <tr>\n",
              "      <th>2</th>\n",
              "      <td>1982</td>\n",
              "      <td>Cheyney</td>\n",
              "      <td>2</td>\n",
              "      <td>Independent</td>\n",
              "      <td>-</td>\n",
              "      <td>-</td>\n",
              "      <td>-</td>\n",
              "      <td>-</td>\n",
              "      <td>24</td>\n",
              "      <td>2</td>\n",
              "      <td>92.3</td>\n",
              "      <td>at-large</td>\n",
              "      <td>Y</td>\n",
              "      <td>4</td>\n",
              "      <td>1</td>\n",
              "      <td>N2nd</td>\n",
              "      <td>28</td>\n",
              "      <td>3</td>\n",
              "      <td>90.3</td>\n",
              "    </tr>\n",
              "    <tr>\n",
              "      <th>3</th>\n",
              "      <td>1982</td>\n",
              "      <td>Clemson</td>\n",
              "      <td>5</td>\n",
              "      <td>Atlantic Coast</td>\n",
              "      <td>6</td>\n",
              "      <td>3</td>\n",
              "      <td>66.7</td>\n",
              "      <td>4th</td>\n",
              "      <td>20</td>\n",
              "      <td>11</td>\n",
              "      <td>64.5</td>\n",
              "      <td>at-large</td>\n",
              "      <td>N</td>\n",
              "      <td>0</td>\n",
              "      <td>1</td>\n",
              "      <td>1st</td>\n",
              "      <td>20</td>\n",
              "      <td>12</td>\n",
              "      <td>62.5</td>\n",
              "    </tr>\n",
              "    <tr>\n",
              "      <th>4</th>\n",
              "      <td>1982</td>\n",
              "      <td>Drake</td>\n",
              "      <td>4</td>\n",
              "      <td>Missouri Valley</td>\n",
              "      <td>-</td>\n",
              "      <td>-</td>\n",
              "      <td>-</td>\n",
              "      <td>-</td>\n",
              "      <td>26</td>\n",
              "      <td>6</td>\n",
              "      <td>81.3</td>\n",
              "      <td>auto</td>\n",
              "      <td>Y</td>\n",
              "      <td>2</td>\n",
              "      <td>1</td>\n",
              "      <td>RF</td>\n",
              "      <td>28</td>\n",
              "      <td>7</td>\n",
              "      <td>80</td>\n",
              "    </tr>\n",
              "  </tbody>\n",
              "</table>\n",
              "</div>"
            ],
            "text/plain": [
              "   Year       School Seed  ... Full W Full L Full %\n",
              "0  1982  Arizona St.    4  ...     24      7   77.4\n",
              "1  1982       Auburn    7  ...     24      5   82.8\n",
              "2  1982      Cheyney    2  ...     28      3   90.3\n",
              "3  1982      Clemson    5  ...     20     12   62.5\n",
              "4  1982        Drake    4  ...     28      7     80\n",
              "\n",
              "[5 rows x 19 columns]"
            ]
          },
          "metadata": {
            "tags": []
          },
          "execution_count": 211
        }
      ]
    },
    {
      "cell_type": "code",
      "metadata": {
        "id": "vwVkshbD1leN",
        "colab_type": "code",
        "outputId": "a45c7b2f-2b93-49c1-ea18-3a89606ee52e",
        "colab": {
          "base_uri": "https://localhost:8080/",
          "height": 35
        }
      },
      "source": [
        "df.School.value_counts().loc['Long Beach St.']\n"
      ],
      "execution_count": 0,
      "outputs": [
        {
          "output_type": "execute_result",
          "data": {
            "text/plain": [
              "12"
            ]
          },
          "metadata": {
            "tags": []
          },
          "execution_count": 218
        }
      ]
    },
    {
      "cell_type": "code",
      "metadata": {
        "id": "OFHRx4POz00_",
        "colab_type": "code",
        "outputId": "7e058e1e-9970-43d3-c719-aba357395494",
        "colab": {
          "base_uri": "https://localhost:8080/",
          "height": 91
        }
      },
      "source": [
        "louie = df[df['School']=='Louisiana Tech']\n",
        "print(louie.shape)\n",
        "socal = df[df['School']=='Southern California']\n",
        "print(socal.shape)\n",
        "beach = df[df['School']==\"Long Beach St.\"]\n",
        "print(beach.shape)\n",
        "dominion = df[df['School']==\"Old Dominion\"]\n",
        "print(dominion.shape)"
      ],
      "execution_count": 467,
      "outputs": [
        {
          "output_type": "stream",
          "text": [
            "(27, 19)\n",
            "(16, 19)\n",
            "(12, 19)\n",
            "(25, 19)\n"
          ],
          "name": "stdout"
        }
      ]
    },
    {
      "cell_type": "code",
      "metadata": {
        "id": "W4n0PYF2z0Z7",
        "colab_type": "code",
        "colab": {
          "base_uri": "https://localhost:8080/",
          "height": 396
        },
        "outputId": "04ec488d-24d0-49ef-85a9-11c2258aff47"
      },
      "source": [
        "louie = louie.set_index('Year')\n",
        "louie.tail()"
      ],
      "execution_count": 468,
      "outputs": [
        {
          "output_type": "execute_result",
          "data": {
            "text/html": [
              "<div>\n",
              "<style scoped>\n",
              "    .dataframe tbody tr th:only-of-type {\n",
              "        vertical-align: middle;\n",
              "    }\n",
              "\n",
              "    .dataframe tbody tr th {\n",
              "        vertical-align: top;\n",
              "    }\n",
              "\n",
              "    .dataframe thead th {\n",
              "        text-align: right;\n",
              "    }\n",
              "</style>\n",
              "<table border=\"1\" class=\"dataframe\">\n",
              "  <thead>\n",
              "    <tr style=\"text-align: right;\">\n",
              "      <th></th>\n",
              "      <th>School</th>\n",
              "      <th>Seed</th>\n",
              "      <th>Conference</th>\n",
              "      <th>Conf. W</th>\n",
              "      <th>Conf. L</th>\n",
              "      <th>Conf. %</th>\n",
              "      <th>Conf. place</th>\n",
              "      <th>Reg. W</th>\n",
              "      <th>Reg. L</th>\n",
              "      <th>Reg. %</th>\n",
              "      <th>How qual</th>\n",
              "      <th>1st game at home?</th>\n",
              "      <th>Tourney W</th>\n",
              "      <th>Tourney L</th>\n",
              "      <th>Tourney finish</th>\n",
              "      <th>Full W</th>\n",
              "      <th>Full L</th>\n",
              "      <th>Full %</th>\n",
              "    </tr>\n",
              "    <tr>\n",
              "      <th>Year</th>\n",
              "      <th></th>\n",
              "      <th></th>\n",
              "      <th></th>\n",
              "      <th></th>\n",
              "      <th></th>\n",
              "      <th></th>\n",
              "      <th></th>\n",
              "      <th></th>\n",
              "      <th></th>\n",
              "      <th></th>\n",
              "      <th></th>\n",
              "      <th></th>\n",
              "      <th></th>\n",
              "      <th></th>\n",
              "      <th></th>\n",
              "      <th></th>\n",
              "      <th></th>\n",
              "      <th></th>\n",
              "    </tr>\n",
              "  </thead>\n",
              "  <tbody>\n",
              "    <tr>\n",
              "      <th>2004</th>\n",
              "      <td>Louisiana Tech</td>\n",
              "      <td>5</td>\n",
              "      <td>Western Athletic</td>\n",
              "      <td>17</td>\n",
              "      <td>1</td>\n",
              "      <td>94.4</td>\n",
              "      <td>1st</td>\n",
              "      <td>27</td>\n",
              "      <td>2</td>\n",
              "      <td>93.1</td>\n",
              "      <td>auto</td>\n",
              "      <td>N</td>\n",
              "      <td>2</td>\n",
              "      <td>1</td>\n",
              "      <td>RSF</td>\n",
              "      <td>29</td>\n",
              "      <td>3</td>\n",
              "      <td>90.6</td>\n",
              "    </tr>\n",
              "    <tr>\n",
              "      <th>2005</th>\n",
              "      <td>Louisiana Tech</td>\n",
              "      <td>11</td>\n",
              "      <td>Western Athletic</td>\n",
              "      <td>14</td>\n",
              "      <td>4</td>\n",
              "      <td>77.8</td>\n",
              "      <td>T1st</td>\n",
              "      <td>20</td>\n",
              "      <td>9</td>\n",
              "      <td>69.0</td>\n",
              "      <td>at-large</td>\n",
              "      <td>N</td>\n",
              "      <td>0</td>\n",
              "      <td>1</td>\n",
              "      <td>1st</td>\n",
              "      <td>20</td>\n",
              "      <td>10</td>\n",
              "      <td>66.7</td>\n",
              "    </tr>\n",
              "    <tr>\n",
              "      <th>2006</th>\n",
              "      <td>Louisiana Tech</td>\n",
              "      <td>11</td>\n",
              "      <td>Western Athletic</td>\n",
              "      <td>15</td>\n",
              "      <td>1</td>\n",
              "      <td>93.8</td>\n",
              "      <td>1st</td>\n",
              "      <td>26</td>\n",
              "      <td>4</td>\n",
              "      <td>86.7</td>\n",
              "      <td>auto</td>\n",
              "      <td>N</td>\n",
              "      <td>0</td>\n",
              "      <td>1</td>\n",
              "      <td>1st</td>\n",
              "      <td>26</td>\n",
              "      <td>5</td>\n",
              "      <td>83.9</td>\n",
              "    </tr>\n",
              "    <tr>\n",
              "      <th>2010</th>\n",
              "      <td>Louisiana Tech</td>\n",
              "      <td>14</td>\n",
              "      <td>Western Athletic</td>\n",
              "      <td>11</td>\n",
              "      <td>5</td>\n",
              "      <td>68.8</td>\n",
              "      <td>1st</td>\n",
              "      <td>23</td>\n",
              "      <td>8</td>\n",
              "      <td>74.2</td>\n",
              "      <td>auto</td>\n",
              "      <td>N</td>\n",
              "      <td>0</td>\n",
              "      <td>1</td>\n",
              "      <td>1st</td>\n",
              "      <td>23</td>\n",
              "      <td>9</td>\n",
              "      <td>71.9</td>\n",
              "    </tr>\n",
              "    <tr>\n",
              "      <th>2011</th>\n",
              "      <td>Louisiana Tech</td>\n",
              "      <td>10</td>\n",
              "      <td>Western Athletic</td>\n",
              "      <td>15</td>\n",
              "      <td>1</td>\n",
              "      <td>93.8</td>\n",
              "      <td>1st</td>\n",
              "      <td>24</td>\n",
              "      <td>7</td>\n",
              "      <td>77.4</td>\n",
              "      <td>at-large</td>\n",
              "      <td>N</td>\n",
              "      <td>0</td>\n",
              "      <td>1</td>\n",
              "      <td>1st</td>\n",
              "      <td>24</td>\n",
              "      <td>8</td>\n",
              "      <td>75</td>\n",
              "    </tr>\n",
              "  </tbody>\n",
              "</table>\n",
              "</div>"
            ],
            "text/plain": [
              "              School Seed        Conference  ... Full W Full L Full %\n",
              "Year                                         ...                     \n",
              "2004  Louisiana Tech    5  Western Athletic  ...     29      3   90.6\n",
              "2005  Louisiana Tech   11  Western Athletic  ...     20     10   66.7\n",
              "2006  Louisiana Tech   11  Western Athletic  ...     26      5   83.9\n",
              "2010  Louisiana Tech   14  Western Athletic  ...     23      9   71.9\n",
              "2011  Louisiana Tech   10  Western Athletic  ...     24      8     75\n",
              "\n",
              "[5 rows x 18 columns]"
            ]
          },
          "metadata": {
            "tags": []
          },
          "execution_count": 468
        }
      ]
    },
    {
      "cell_type": "code",
      "metadata": {
        "id": "zGnh5AjpsO8I",
        "colab_type": "code",
        "colab": {}
      },
      "source": [
        "#this sorted the data\n",
        "louie.reset_index(inplace=True)"
      ],
      "execution_count": 0,
      "outputs": []
    },
    {
      "cell_type": "code",
      "metadata": {
        "id": "cK7S_nf_rNEH",
        "colab_type": "code",
        "outputId": "d6a8facf-3763-4965-a84f-59a70f2acc74",
        "colab": {
          "base_uri": "https://localhost:8080/",
          "height": 927
        }
      },
      "source": [
        "#for now I'm just going to plot louisiana tech\n",
        "# I need to create a column that has only the year, and the seed;\n",
        "louie.head()\n",
        "louie.index\n",
        "louie_subset = louie[['Seed']]\n",
        "louie_subset\n"
      ],
      "execution_count": 394,
      "outputs": [
        {
          "output_type": "execute_result",
          "data": {
            "text/html": [
              "<div>\n",
              "<style scoped>\n",
              "    .dataframe tbody tr th:only-of-type {\n",
              "        vertical-align: middle;\n",
              "    }\n",
              "\n",
              "    .dataframe tbody tr th {\n",
              "        vertical-align: top;\n",
              "    }\n",
              "\n",
              "    .dataframe thead th {\n",
              "        text-align: right;\n",
              "    }\n",
              "</style>\n",
              "<table border=\"1\" class=\"dataframe\">\n",
              "  <thead>\n",
              "    <tr style=\"text-align: right;\">\n",
              "      <th></th>\n",
              "      <th>Seed</th>\n",
              "    </tr>\n",
              "    <tr>\n",
              "      <th>Year</th>\n",
              "      <th></th>\n",
              "    </tr>\n",
              "  </thead>\n",
              "  <tbody>\n",
              "    <tr>\n",
              "      <th>1982</th>\n",
              "      <td>1</td>\n",
              "    </tr>\n",
              "    <tr>\n",
              "      <th>1983</th>\n",
              "      <td>1</td>\n",
              "    </tr>\n",
              "    <tr>\n",
              "      <th>1984</th>\n",
              "      <td>1</td>\n",
              "    </tr>\n",
              "    <tr>\n",
              "      <th>1985</th>\n",
              "      <td>1</td>\n",
              "    </tr>\n",
              "    <tr>\n",
              "      <th>1986</th>\n",
              "      <td>2</td>\n",
              "    </tr>\n",
              "    <tr>\n",
              "      <th>1987</th>\n",
              "      <td>1</td>\n",
              "    </tr>\n",
              "    <tr>\n",
              "      <th>1988</th>\n",
              "      <td>2</td>\n",
              "    </tr>\n",
              "    <tr>\n",
              "      <th>1989</th>\n",
              "      <td>1</td>\n",
              "    </tr>\n",
              "    <tr>\n",
              "      <th>1990</th>\n",
              "      <td>1</td>\n",
              "    </tr>\n",
              "    <tr>\n",
              "      <th>1991</th>\n",
              "      <td>10</td>\n",
              "    </tr>\n",
              "    <tr>\n",
              "      <th>1992</th>\n",
              "      <td>6</td>\n",
              "    </tr>\n",
              "    <tr>\n",
              "      <th>1993</th>\n",
              "      <td>6</td>\n",
              "    </tr>\n",
              "    <tr>\n",
              "      <th>1994</th>\n",
              "      <td>4</td>\n",
              "    </tr>\n",
              "    <tr>\n",
              "      <th>1995</th>\n",
              "      <td>2</td>\n",
              "    </tr>\n",
              "    <tr>\n",
              "      <th>1996</th>\n",
              "      <td>1</td>\n",
              "    </tr>\n",
              "    <tr>\n",
              "      <th>1997</th>\n",
              "      <td>2</td>\n",
              "    </tr>\n",
              "    <tr>\n",
              "      <th>1998</th>\n",
              "      <td>3</td>\n",
              "    </tr>\n",
              "    <tr>\n",
              "      <th>1999</th>\n",
              "      <td>1</td>\n",
              "    </tr>\n",
              "    <tr>\n",
              "      <th>2000</th>\n",
              "      <td>1</td>\n",
              "    </tr>\n",
              "    <tr>\n",
              "      <th>2001</th>\n",
              "      <td>3</td>\n",
              "    </tr>\n",
              "    <tr>\n",
              "      <th>2002</th>\n",
              "      <td>5</td>\n",
              "    </tr>\n",
              "    <tr>\n",
              "      <th>2003</th>\n",
              "      <td>5</td>\n",
              "    </tr>\n",
              "    <tr>\n",
              "      <th>2004</th>\n",
              "      <td>5</td>\n",
              "    </tr>\n",
              "    <tr>\n",
              "      <th>2005</th>\n",
              "      <td>11</td>\n",
              "    </tr>\n",
              "    <tr>\n",
              "      <th>2006</th>\n",
              "      <td>11</td>\n",
              "    </tr>\n",
              "    <tr>\n",
              "      <th>2010</th>\n",
              "      <td>14</td>\n",
              "    </tr>\n",
              "    <tr>\n",
              "      <th>2011</th>\n",
              "      <td>10</td>\n",
              "    </tr>\n",
              "  </tbody>\n",
              "</table>\n",
              "</div>"
            ],
            "text/plain": [
              "     Seed\n",
              "Year     \n",
              "1982    1\n",
              "1983    1\n",
              "1984    1\n",
              "1985    1\n",
              "1986    2\n",
              "1987    1\n",
              "1988    2\n",
              "1989    1\n",
              "1990    1\n",
              "1991   10\n",
              "1992    6\n",
              "1993    6\n",
              "1994    4\n",
              "1995    2\n",
              "1996    1\n",
              "1997    2\n",
              "1998    3\n",
              "1999    1\n",
              "2000    1\n",
              "2001    3\n",
              "2002    5\n",
              "2003    5\n",
              "2004    5\n",
              "2005   11\n",
              "2006   11\n",
              "2010   14\n",
              "2011   10"
            ]
          },
          "metadata": {
            "tags": []
          },
          "execution_count": 394
        }
      ]
    },
    {
      "cell_type": "code",
      "metadata": {
        "id": "Qt6ysyg_tjTc",
        "colab_type": "code",
        "colab": {
          "base_uri": "https://localhost:8080/",
          "height": 281
        },
        "outputId": "83c36c1a-3cc5-4986-c2ce-fa0446438f0c"
      },
      "source": [
        "#rough estimation of the \"weight\" function used to calculate seed_value\n",
        "x_seed=list(range(1,17,1))\n",
        "y_seed= [100,70,55,45,35,26,22,18,13,10,7,6,5,3.3,1.6,0]\n",
        "fig,ax = plt.subplots()\n",
        "ax.plot(x_seed,y_seed)\n"
      ],
      "execution_count": 366,
      "outputs": [
        {
          "output_type": "execute_result",
          "data": {
            "text/plain": [
              "[<matplotlib.lines.Line2D at 0x7f0e823128d0>]"
            ]
          },
          "metadata": {
            "tags": []
          },
          "execution_count": 366
        },
        {
          "output_type": "display_data",
          "data": {
            "image/png": "[encoded data removed]",
            "text/plain": [
              "<Figure size 432x288 with 1 Axes>"
            ]
          },
          "metadata": {
            "tags": []
          }
        }
      ]
    },
    {
      "cell_type": "code",
      "metadata": {
        "id": "qirDd21XvYSZ",
        "colab_type": "code",
        "colab": {
          "base_uri": "https://localhost:8080/",
          "height": 315
        },
        "outputId": "8997a262-c738-4e5e-f52b-9f2914d7a8b4"
      },
      "source": [
        "#I'm going to try to make this a dataframe, and use\n",
        "#merge to create the seed_value column\n",
        "func_dict = dict(zip(x_seed,y_seed))\n",
        "func_dict"
      ],
      "execution_count": 367,
      "outputs": [
        {
          "output_type": "execute_result",
          "data": {
            "text/plain": [
              "{1: 100,\n",
              " 2: 70,\n",
              " 3: 55,\n",
              " 4: 45,\n",
              " 5: 35,\n",
              " 6: 26,\n",
              " 7: 22,\n",
              " 8: 18,\n",
              " 9: 13,\n",
              " 10: 10,\n",
              " 11: 7,\n",
              " 12: 6,\n",
              " 13: 5,\n",
              " 14: 3.3,\n",
              " 15: 1.6,\n",
              " 16: 0}"
            ]
          },
          "metadata": {
            "tags": []
          },
          "execution_count": 367
        }
      ]
    },
    {
      "cell_type": "code",
      "metadata": {
        "id": "VIkrsKD9v4ev",
        "colab_type": "code",
        "colab": {
          "base_uri": "https://localhost:8080/",
          "height": 112
        },
        "outputId": "eba17454-7456-4147-9964-02d57e3481ed"
      },
      "source": [
        "#Why is this long instead of wide?\n",
        "seed_keys = pd.DataFrame(data = [y_seed,x_seed])\n",
        "seed_keys.head()\n"
      ],
      "execution_count": 389,
      "outputs": [
        {
          "output_type": "execute_result",
          "data": {
            "text/html": [
              "<div>\n",
              "<style scoped>\n",
              "    .dataframe tbody tr th:only-of-type {\n",
              "        vertical-align: middle;\n",
              "    }\n",
              "\n",
              "    .dataframe tbody tr th {\n",
              "        vertical-align: top;\n",
              "    }\n",
              "\n",
              "    .dataframe thead th {\n",
              "        text-align: right;\n",
              "    }\n",
              "</style>\n",
              "<table border=\"1\" class=\"dataframe\">\n",
              "  <thead>\n",
              "    <tr style=\"text-align: right;\">\n",
              "      <th></th>\n",
              "      <th>0</th>\n",
              "      <th>1</th>\n",
              "      <th>2</th>\n",
              "      <th>3</th>\n",
              "      <th>4</th>\n",
              "      <th>5</th>\n",
              "      <th>6</th>\n",
              "      <th>7</th>\n",
              "      <th>8</th>\n",
              "      <th>9</th>\n",
              "      <th>10</th>\n",
              "      <th>11</th>\n",
              "      <th>12</th>\n",
              "      <th>13</th>\n",
              "      <th>14</th>\n",
              "      <th>15</th>\n",
              "    </tr>\n",
              "  </thead>\n",
              "  <tbody>\n",
              "    <tr>\n",
              "      <th>0</th>\n",
              "      <td>100</td>\n",
              "      <td>70</td>\n",
              "      <td>55</td>\n",
              "      <td>45</td>\n",
              "      <td>35</td>\n",
              "      <td>26</td>\n",
              "      <td>22</td>\n",
              "      <td>18</td>\n",
              "      <td>13</td>\n",
              "      <td>10</td>\n",
              "      <td>7</td>\n",
              "      <td>6</td>\n",
              "      <td>5</td>\n",
              "      <td>3.3</td>\n",
              "      <td>1.6</td>\n",
              "      <td>0</td>\n",
              "    </tr>\n",
              "    <tr>\n",
              "      <th>1</th>\n",
              "      <td>1</td>\n",
              "      <td>2</td>\n",
              "      <td>3</td>\n",
              "      <td>4</td>\n",
              "      <td>5</td>\n",
              "      <td>6</td>\n",
              "      <td>7</td>\n",
              "      <td>8</td>\n",
              "      <td>9</td>\n",
              "      <td>10</td>\n",
              "      <td>11</td>\n",
              "      <td>12</td>\n",
              "      <td>13</td>\n",
              "      <td>14.0</td>\n",
              "      <td>15.0</td>\n",
              "      <td>16</td>\n",
              "    </tr>\n",
              "  </tbody>\n",
              "</table>\n",
              "</div>"
            ],
            "text/plain": [
              "    0   1   2   3   4   5   6   7   8   9   10  11  12    13    14  15\n",
              "0  100  70  55  45  35  26  22  18  13  10   7   6   5   3.3   1.6   0\n",
              "1    1   2   3   4   5   6   7   8   9  10  11  12  13  14.0  15.0  16"
            ]
          },
          "metadata": {
            "tags": []
          },
          "execution_count": 389
        }
      ]
    },
    {
      "cell_type": "code",
      "metadata": {
        "id": "fs1aSDrg02oi",
        "colab_type": "code",
        "colab": {
          "base_uri": "https://localhost:8080/",
          "height": 73
        },
        "outputId": "452790b0-7484-4d29-d61b-39c9cb4769de"
      },
      "source": [
        "#This works better:\n",
        "seed_keys = pd.DataFrame({'Seed':x_seed,'Seed_value':y_seed})\n",
        "seed_keys.dtypes"
      ],
      "execution_count": 399,
      "outputs": [
        {
          "output_type": "execute_result",
          "data": {
            "text/plain": [
              "Seed            int64\n",
              "Seed_value    float64\n",
              "dtype: object"
            ]
          },
          "metadata": {
            "tags": []
          },
          "execution_count": 399
        }
      ]
    },
    {
      "cell_type": "code",
      "metadata": {
        "id": "Qrill8ID4lWY",
        "colab_type": "code",
        "colab": {
          "base_uri": "https://localhost:8080/",
          "height": 73
        },
        "outputId": "8cdf006a-9e1f-42d0-fd55-24a2bf51ec8e"
      },
      "source": [
        "print(louie_subset.shape)\n",
        "louie_subset.dtypes"
      ],
      "execution_count": 404,
      "outputs": [
        {
          "output_type": "stream",
          "text": [
            "(27, 1)\n"
          ],
          "name": "stdout"
        },
        {
          "output_type": "execute_result",
          "data": {
            "text/plain": [
              "Seed    object\n",
              "dtype: object"
            ]
          },
          "metadata": {
            "tags": []
          },
          "execution_count": 404
        }
      ]
    },
    {
      "cell_type": "code",
      "metadata": {
        "id": "-cZBj9l04oHo",
        "colab_type": "code",
        "colab": {}
      },
      "source": [
        "#Seed in louie should be an int not an object\n",
        "louie_subset=louie_subset['Seed'].astype('int64')\n"
      ],
      "execution_count": 0,
      "outputs": []
    },
    {
      "cell_type": "code",
      "metadata": {
        "id": "M2-Nx7d05Gje",
        "colab_type": "code",
        "colab": {
          "base_uri": "https://localhost:8080/",
          "height": 36
        },
        "outputId": "f91c7ae4-c137-439c-e4f5-71aa982f536a"
      },
      "source": [
        "louie_subset.dtypes"
      ],
      "execution_count": 427,
      "outputs": [
        {
          "output_type": "execute_result",
          "data": {
            "text/plain": [
              "dtype('int64')"
            ]
          },
          "metadata": {
            "tags": []
          },
          "execution_count": 427
        }
      ]
    },
    {
      "cell_type": "code",
      "metadata": {
        "id": "n4-Cc5ZB6X26",
        "colab_type": "code",
        "colab": {
          "base_uri": "https://localhost:8080/",
          "height": 206
        },
        "outputId": "b17f05ad-3cde-4100-e654-a1ce1894e99d"
      },
      "source": [
        "#To retain the year information during the merge I have to \n",
        "#make sure that year isn't index\n",
        "louie_subset = louie_subset.reset_index()\n",
        "louie_subset.head()"
      ],
      "execution_count": 432,
      "outputs": [
        {
          "output_type": "execute_result",
          "data": {
            "text/html": [
              "<div>\n",
              "<style scoped>\n",
              "    .dataframe tbody tr th:only-of-type {\n",
              "        vertical-align: middle;\n",
              "    }\n",
              "\n",
              "    .dataframe tbody tr th {\n",
              "        vertical-align: top;\n",
              "    }\n",
              "\n",
              "    .dataframe thead th {\n",
              "        text-align: right;\n",
              "    }\n",
              "</style>\n",
              "<table border=\"1\" class=\"dataframe\">\n",
              "  <thead>\n",
              "    <tr style=\"text-align: right;\">\n",
              "      <th></th>\n",
              "      <th>index</th>\n",
              "      <th>Year</th>\n",
              "      <th>Seed</th>\n",
              "    </tr>\n",
              "  </thead>\n",
              "  <tbody>\n",
              "    <tr>\n",
              "      <th>0</th>\n",
              "      <td>0</td>\n",
              "      <td>1982</td>\n",
              "      <td>1</td>\n",
              "    </tr>\n",
              "    <tr>\n",
              "      <th>1</th>\n",
              "      <td>1</td>\n",
              "      <td>1983</td>\n",
              "      <td>1</td>\n",
              "    </tr>\n",
              "    <tr>\n",
              "      <th>2</th>\n",
              "      <td>2</td>\n",
              "      <td>1984</td>\n",
              "      <td>1</td>\n",
              "    </tr>\n",
              "    <tr>\n",
              "      <th>3</th>\n",
              "      <td>3</td>\n",
              "      <td>1985</td>\n",
              "      <td>1</td>\n",
              "    </tr>\n",
              "    <tr>\n",
              "      <th>4</th>\n",
              "      <td>4</td>\n",
              "      <td>1986</td>\n",
              "      <td>2</td>\n",
              "    </tr>\n",
              "  </tbody>\n",
              "</table>\n",
              "</div>"
            ],
            "text/plain": [
              "   index  Year  Seed\n",
              "0      0  1982     1\n",
              "1      1  1983     1\n",
              "2      2  1984     1\n",
              "3      3  1985     1\n",
              "4      4  1986     2"
            ]
          },
          "metadata": {
            "tags": []
          },
          "execution_count": 432
        }
      ]
    },
    {
      "cell_type": "code",
      "metadata": {
        "id": "6NRHssjqweO9",
        "colab_type": "code",
        "colab": {
          "base_uri": "https://localhost:8080/",
          "height": 91
        },
        "outputId": "71ff095f-b3a8-4538-c414-5b1feefe2b20"
      },
      "source": [
        "#Now I have two dataframes to merge:\n",
        "#seed_keys which has \"Seed\", and \"Seed_value\"\n",
        "#louie_subset which is indexed by year and has \"Seed\"\n",
        "print(pd.merge(seed_keys,louie_subset,how='inner').shape)\n",
        "print(pd.merge(seed_keys,louie_subset,how='outer').shape)\n",
        "print(pd.merge(seed_keys,louie_subset,how='left').shape)\n",
        "print(pd.merge(seed_keys,louie_subset,how='right').shape)\n",
        "merged = pd.merge(louie_subset,seed_keys,how='left')"
      ],
      "execution_count": 445,
      "outputs": [
        {
          "output_type": "stream",
          "text": [
            "(27, 4)\n",
            "(34, 4)\n",
            "(34, 4)\n",
            "(27, 4)\n"
          ],
          "name": "stdout"
        }
      ]
    },
    {
      "cell_type": "code",
      "metadata": {
        "id": "nHIz7N7SGe3_",
        "colab_type": "code",
        "colab": {
          "base_uri": "https://localhost:8080/",
          "height": 237
        },
        "outputId": "da7d83b8-db9a-484d-d246-a8bf5eabd805"
      },
      "source": [
        "test=merged.set_index('Year').drop(labels=['Seed','index'],axis=1)\n",
        "test.tail()"
      ],
      "execution_count": 477,
      "outputs": [
        {
          "output_type": "execute_result",
          "data": {
            "text/html": [
              "<div>\n",
              "<style scoped>\n",
              "    .dataframe tbody tr th:only-of-type {\n",
              "        vertical-align: middle;\n",
              "    }\n",
              "\n",
              "    .dataframe tbody tr th {\n",
              "        vertical-align: top;\n",
              "    }\n",
              "\n",
              "    .dataframe thead th {\n",
              "        text-align: right;\n",
              "    }\n",
              "</style>\n",
              "<table border=\"1\" class=\"dataframe\">\n",
              "  <thead>\n",
              "    <tr style=\"text-align: right;\">\n",
              "      <th></th>\n",
              "      <th>Seed_value</th>\n",
              "    </tr>\n",
              "    <tr>\n",
              "      <th>Year</th>\n",
              "      <th></th>\n",
              "    </tr>\n",
              "  </thead>\n",
              "  <tbody>\n",
              "    <tr>\n",
              "      <th>2004</th>\n",
              "      <td>35.0</td>\n",
              "    </tr>\n",
              "    <tr>\n",
              "      <th>2005</th>\n",
              "      <td>7.0</td>\n",
              "    </tr>\n",
              "    <tr>\n",
              "      <th>2006</th>\n",
              "      <td>7.0</td>\n",
              "    </tr>\n",
              "    <tr>\n",
              "      <th>2010</th>\n",
              "      <td>3.3</td>\n",
              "    </tr>\n",
              "    <tr>\n",
              "      <th>2011</th>\n",
              "      <td>10.0</td>\n",
              "    </tr>\n",
              "  </tbody>\n",
              "</table>\n",
              "</div>"
            ],
            "text/plain": [
              "      Seed_value\n",
              "Year            \n",
              "2004        35.0\n",
              "2005         7.0\n",
              "2006         7.0\n",
              "2010         3.3\n",
              "2011        10.0"
            ]
          },
          "metadata": {
            "tags": []
          },
          "execution_count": 477
        }
      ]
    },
    {
      "cell_type": "markdown",
      "metadata": {
        "id": "RAZtpdMpJ5C5",
        "colab_type": "text"
      },
      "source": [
        "### Result"
      ]
    },
    {
      "cell_type": "code",
      "metadata": {
        "id": "qzLc8PlwHDap",
        "colab_type": "code",
        "colab": {
          "base_uri": "https://localhost:8080/",
          "height": 273
        },
        "outputId": "b996d44b-0525-4e20-b40b-97018b51f48a"
      },
      "source": [
        "fig, ax = plt.subplots()\n",
        "ax.plot(test.index,test.Seed_value)\n",
        "\n",
        "fig.set_size_inches(4,4)\n",
        "\n",
        "ax.set_facecolor('white')\n",
        "\n",
        "#here is how you fill in the area under the curve\n",
        "#arguments are: where to fill , and if you want to make it \n",
        "#see-through use alpha\n",
        "ax.fill_between(test.index,0,test.Seed_value,color='#69B6E3',alpha=0.4)\n",
        "\n",
        "#This is how you get rid of the spines in the list:\n",
        "lstspines=['left','right','top']\n",
        "for i in lstspines:\n",
        "  ax.spines[i].set_visible(False)\n",
        "\n",
        "#Adding a title:\n",
        "ax.set_title('Louisiana Tech',fontsize=20,weight='bold')\n",
        "\n",
        "\n",
        "#This makes the bottom spine align to the axis,\n",
        "#and controls the thickness of the line\n",
        "ax.spines['bottom'].set_position('zero')\n",
        "ax.spines['bottom'].set_color('black')\n",
        "ax.spines['bottom'].set_linewidth(1.2)\n",
        "\n",
        "#Change the label fonts\n",
        "a = range(-20,120,20)\n",
        "ax.set_yticklabels(a,fontname='Meiryo',size=14);"
      ],
      "execution_count": 476,
      "outputs": [
        {
          "output_type": "display_data",
          "data": {
            "image/png": "[encoded data removed]",
            "text/plain": [
              "<Figure size 288x288 with 1 Axes>"
            ]
          },
          "metadata": {
            "tags": []
          }
        }
      ]
    },
    {
      "cell_type": "markdown",
      "metadata": {
        "id": "-kwsmLRZINmz",
        "colab_type": "text"
      },
      "source": [
        "Note that the end of this graph doesn't quite match the fivethirtyeight article. This is because the article rounds up to 30 years, and assumes values of zero for all teams for every year after 2011. I only completed one section of this plot. There are 4 other subplots within the figure, and I didn't have time to put them all in"
      ]
    },
    {
      "cell_type": "markdown",
      "metadata": {
        "id": "0wSrBzmJyWaV",
        "colab_type": "text"
      },
      "source": [
        "# STRETCH OPTIONS\n",
        "\n",
        "### 1) Reproduce one of the following using the matplotlib or seaborn libraries:\n",
        "\n",
        "- [thanksgiving-2015](https://fivethirtyeight.com/features/heres-what-your-part-of-america-eats-on-thanksgiving/) \n",
        "- [candy-power-ranking](https://fivethirtyeight.com/features/the-ultimate-halloween-candy-power-ranking/) \n",
        "- or another example of your choice!\n",
        "\n",
        "### 2) Make more charts!\n",
        "\n",
        "Choose a chart you want to make, from [Visual Vocabulary - Vega Edition](http://ft.com/vocabulary).\n",
        "\n",
        "Find the chart in an example gallery of a Python data visualization library:\n",
        "- [Seaborn](http://seaborn.pydata.org/examples/index.html)\n",
        "- [Altair](https://altair-viz.github.io/gallery/index.html)\n",
        "- [Matplotlib](https://matplotlib.org/gallery.html)\n",
        "- [Pandas](https://pandas.pydata.org/pandas-docs/stable/visualization.html)\n",
        "\n",
        "Reproduce the chart. [Optionally, try the \"Ben Franklin Method.\"](https://docs.google.com/document/d/1ubOw9B3Hfip27hF2ZFnW3a3z9xAgrUDRReOEo-FHCVs/edit) If you want, experiment and make changes.\n",
        "\n",
        "Take notes. Consider sharing your work with your cohort!"
      ]
    },
    {
      "cell_type": "code",
      "metadata": {
        "id": "ZEAdeH4Fz0Kx",
        "colab_type": "code",
        "colab": {}
      },
      "source": [
        ""
      ],
      "execution_count": 0,
      "outputs": []
    },
    {
      "cell_type": "code",
      "metadata": {
        "id": "98zfgS5YKQZG",
        "colab_type": "code",
        "colab": {}
      },
      "source": [
        ""
      ],
      "execution_count": 0,
      "outputs": []
    },
    {
      "cell_type": "code",
      "metadata": {
        "id": "dRJkKftiy5BJ",
        "colab_type": "code",
        "colab": {}
      },
      "source": [
        "# More Work Here"
      ],
      "execution_count": 0,
      "outputs": []
    }
  ]
}