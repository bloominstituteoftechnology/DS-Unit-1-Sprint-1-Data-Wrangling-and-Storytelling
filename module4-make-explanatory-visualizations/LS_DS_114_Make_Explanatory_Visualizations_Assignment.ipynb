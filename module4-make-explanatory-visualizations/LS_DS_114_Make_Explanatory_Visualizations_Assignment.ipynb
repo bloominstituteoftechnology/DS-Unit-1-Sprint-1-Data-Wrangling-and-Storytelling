{
  "nbformat": 4,
  "nbformat_minor": 0,
  "metadata": {
    "colab": {
      "name": "Copy of LS_DS_114_Make_Explanatory_Visualizations_Assignment.ipynb",
      "provenance": [],
      "collapsed_sections": [],
      "include_colab_link": true
    },
    "language_info": {
      "codemirror_mode": {
        "name": "ipython",
        "version": 3
      },
      "file_extension": ".py",
      "mimetype": "text/x-python",
      "name": "python",
      "nbconvert_exporter": "python",
      "pygments_lexer": "ipython3",
      "version": "3.7.1"
    },
    "kernelspec": {
      "display_name": "Python 3",
      "language": "python",
      "name": "python3"
    }
  },
  "cells": [
    {
      "cell_type": "markdown",
      "metadata": {
        "id": "view-in-github",
        "colab_type": "text"
      },
      "source": [
        "<a href=\"https://colab.research.google.com/github/emma-rose22/DS-Unit-1-Sprint-1-Data-Wrangling-and-Storytelling/blob/master/module4-make-explanatory-visualizations/LS_DS_114_Make_Explanatory_Visualizations_Assignment.ipynb\" target=\"_parent\"><img src=\"https://colab.research.google.com/assets/colab-badge.svg\" alt=\"Open In Colab\"/></a>"
      ]
    },
    {
      "cell_type": "markdown",
      "metadata": {
        "colab_type": "text",
        "id": "NMEswXWh9mqw"
      },
      "source": [
        "Lambda School Data Science\n",
        "\n",
        "*Unit 1, Sprint 1, Module 4*\n",
        "\n",
        "---\n",
        "\n",
        "# ASSIGNMENT\n",
        "\n",
        "### 1) Replicate the lesson code. I recommend that you [do not copy-paste](https://docs.google.com/document/d/1ubOw9B3Hfip27hF2ZFnW3a3z9xAgrUDRReOEo-FHCVs/edit).\n",
        "\n",
        "Get caught up to where we got our example in class and then try and take things further. How close to \"pixel perfect\" can you make the lecture graph?\n",
        "\n",
        "Once you have something that you're proud of, share your graph in the cohort channel and move on to the second exercise.\n",
        "\n",
        "### 2) Reproduce another example from [FiveThityEight's shared data repository](https://data.fivethirtyeight.com/).\n",
        "\n",
        "**WARNING**: There are a lot of very custom graphs and tables at the above link. I **highly** recommend not trying to reproduce any that look like a table of values or something really different from the graph types that we are already familiar with. Search through the posts until you find a graph type that you are more or less familiar with: histogram, bar chart, stacked bar chart, line chart, [seaborn relplot](https://seaborn.pydata.org/generated/seaborn.relplot.html), etc. Recreating some of the graphics that 538 uses would be a lot easier in Adobe photoshop/illustrator than with matplotlib. \n",
        "\n",
        "- If you put in some time to find a graph that looks \"easy\" to replicate you'll probably find that it's not as easy as you thought. \n",
        "\n",
        "- If you start with a graph that looks hard to replicate you'll probably run up against a brick wall and be disappointed with your afternoon.\n",
        "\n",
        "\n",
        "\n",
        "\n",
        "\n",
        "\n",
        "\n",
        "\n",
        "\n",
        "\n"
      ]
    },
    {
      "cell_type": "code",
      "metadata": {
        "id": "7SY1ZHawyZvz",
        "colab_type": "code",
        "colab": {
          "base_uri": "https://localhost:8080/",
          "height": 354
        },
        "outputId": "8b2db245-fde2-4a60-84ad-b21e489db63c"
      },
      "source": [
        "from IPython.display import display, Image\n",
        "\n",
        "url = 'https://fivethirtyeight.com/wp-content/uploads/2017/09/mehtahickey-inconvenient-0830-1.png'\n",
        "example = Image(url=url, width=400)\n",
        "\n",
        "display(example)"
      ],
      "execution_count": 1,
      "outputs": [
        {
          "output_type": "display_data",
          "data": {
            "text/html": [
              "<img src=\"https://fivethirtyeight.com/wp-content/uploads/2017/09/mehtahickey-inconvenient-0830-1.png\" width=\"400\"/>"
            ],
            "text/plain": [
              "<IPython.core.display.Image object>"
            ]
          },
          "metadata": {
            "tags": []
          }
        }
      ]
    },
    {
      "cell_type": "code",
      "metadata": {
        "id": "mQSTuo8aZBN3",
        "colab_type": "code",
        "colab": {}
      },
      "source": [
        "%matplotlib inline\n",
        "import matplotlib.pyplot as plt\n",
        "import numpy as np\n",
        "import pandas as pd\n",
        "\n",
        "plt.style.use('fivethirtyeight')\n",
        "\n",
        "fake = pd.Series([38, 3, 2, 1, 2, 4, 5.5, 5, 5, 33], \n",
        "                 index=range(1,11))\n"
      ],
      "execution_count": 0,
      "outputs": []
    },
    {
      "cell_type": "code",
      "metadata": {
        "id": "vrYLDc-fY3aS",
        "colab_type": "code",
        "colab": {
          "base_uri": "https://localhost:8080/",
          "height": 335
        },
        "outputId": "419beb36-50cb-4544-a718-5eabae873a43"
      },
      "source": [
        "\n",
        "#we are just making a basic thing to get started\n",
        "fig, ax = plt.subplots()\n",
        "#this is letting you do things on the figure\n",
        "#and also axes \n",
        "\n",
        "#still need to extend x axis ticks\n",
        "#change color of bars (in notes)\n",
        "\n",
        "\n",
        "#make the background white\n",
        "fig.patch.set(facecolor='white')\n",
        "\n",
        "#this puts bars on the plot\n",
        "fake.plot.bar(width= 0.9, color = '#ED713A')\n",
        "\n",
        "#set axes backfound color\n",
        "ax.set\n",
        "\n",
        "#title\n",
        "ax.set_title(\"'An Inconvenient Sequel: Truth to Power' is Devisive\", fontsize=14, fontweight='bold', x=.35, y=1.1)\n",
        "#the inner quoues re what will show up \n",
        "\n",
        "#y label text\n",
        "ax.set_ylabel('Percent of Total Votes', fontsize=10)\n",
        "\n",
        "#x label text \n",
        "ax.set_xlabel('Rating', fontsize=12)\n",
        "\n",
        "#sub title tedxt\n",
        "ax.text(s='IMDb Ratings for the film as of Aug. 29',y=41.8, x=-2.6, fontsize=12 )\n",
        "#we made a raw text thing that is the same as our labels, \n",
        "#without that direction in place, so we can manipulate it\n",
        "\n",
        "#here we set the ticks and labels for y axis\n",
        "ax.set_yticklabels(['0', '10', '20', '30', '40%'], fontsize=10)\n",
        "ax.set_yticks([0, 10, 20, 30, 40])\n",
        "\n",
        "#tick labels for x axis\n",
        "ax.set_xticklabels(range(1,11,1), rotation='horizontal', fontsize=9.5)\n",
        "#ax.set_xticks(length=5)\n",
        "\n",
        "#remove spines\n",
        "ax.spines['right'].set_visible(True)\n",
        "ax.spines['top'].set_visible(True)\n",
        "\n",
        "plt.show() #this line tells matplot you are done\n"
      ],
      "execution_count": 30,
      "outputs": [
        {
          "output_type": "display_data",
          "data": {
            "image/png": "[encoded data removed]",
            "text/plain": [
              "<Figure size 432x288 with 1 Axes>"
            ]
          },
          "metadata": {
            "tags": []
          }
        }
      ]
    },
    {
      "cell_type": "code",
      "metadata": {
        "id": "MsLCZdeybg6O",
        "colab_type": "code",
        "colab": {
          "base_uri": "https://localhost:8080/",
          "height": 354
        },
        "outputId": "98a3c298-b5f6-42a6-f8e2-3aa65f128346"
      },
      "source": [
        "from IPython.display import display, Image\n",
        "\n",
        "url = 'https://fivethirtyeight.com/wp-content/uploads/2017/09/mehtahickey-inconvenient-0830-1.png'\n",
        "example = Image(url=url, width=400)\n",
        "\n",
        "display(example)"
      ],
      "execution_count": 14,
      "outputs": [
        {
          "output_type": "display_data",
          "data": {
            "text/html": [
              "<img src=\"https://fivethirtyeight.com/wp-content/uploads/2017/09/mehtahickey-inconvenient-0830-1.png\" width=\"400\"/>"
            ],
            "text/plain": [
              "<IPython.core.display.Image object>"
            ]
          },
          "metadata": {
            "tags": []
          }
        }
      ]
    },
    {
      "cell_type": "markdown",
      "metadata": {
        "id": "rDyVNFF4f3bZ",
        "colab_type": "text"
      },
      "source": [
        "#My own creation"
      ]
    },
    {
      "cell_type": "code",
      "metadata": {
        "id": "m3n54YzVf5jV",
        "colab_type": "code",
        "colab": {
          "base_uri": "https://localhost:8080/",
          "height": 333
        },
        "outputId": "71bf794f-eba4-4eec-cf71-c3f16b31fb0d"
      },
      "source": [
        "from IPython.display import display, Image\n",
        "\n",
        "url = 'https://fivethirtyeight.com/wp-content/uploads/2018/03/roeder-pepe-dankpepe1.png?w=1150'\n",
        "example2 = Image(url=url, width=400)\n",
        "\n",
        "display(example2)"
      ],
      "execution_count": 32,
      "outputs": [
        {
          "output_type": "display_data",
          "data": {
            "text/html": [
              "<img src=\"https://fivethirtyeight.com/wp-content/uploads/2018/03/roeder-pepe-dankpepe1.png?w=1150\" width=\"400\"/>"
            ],
            "text/plain": [
              "<IPython.core.display.Image object>"
            ]
          },
          "metadata": {
            "tags": []
          }
        }
      ]
    },
    {
      "cell_type": "code",
      "metadata": {
        "id": "-AhMryQqgvPB",
        "colab_type": "code",
        "colab": {}
      },
      "source": [
        "%matplotlib inline\n",
        "import matplotlib.pyplot as plt\n",
        "import numpy as np\n",
        "import pandas as pd\n",
        "\n",
        "plt.style.use('fivethirtyeight')\n",
        "\n",
        "\n",
        "pepe = pd.Series([0, 0, 0, 0.3, 0.4, 5, 20, 6, 3, 30, 20, 20, 4, 20, 150, 1, 115, 50, 60, 190, 20, 100, 75, 10, 50, 115, 595],\n",
        "    index=range(1,28))\n",
        "  \n",
        "dots = [0, 0, 0, 0.3, 0.4, 5, 20, 6, 3, 30, 20, 20, 4, 20, 150, 1, 115, 50, 60, 190, 20, 100, 75, 10, 50, 115, 595]\n",
        "#([0, 0, 0, 0.3, 0.4, 5, 20, 6, 3, 30, 20, 20, 4, 20, 150, 1, 115, 50, 60, 190, 20, 100, 75, 10, 50, 115, 595]\n",
        "#[' ','OCT. 2016', \"JAN. '17\", 'APR.', 'JUL.', 'OCT.', \"JAN. '18\"]\n"
      ],
      "execution_count": 0,
      "outputs": []
    },
    {
      "cell_type": "code",
      "metadata": {
        "id": "hMsLQA4blzcl",
        "colab_type": "code",
        "colab": {
          "base_uri": "https://localhost:8080/",
          "height": 346
        },
        "outputId": "092a3bcd-f3d7-4096-d8a9-842ac26fcb4c"
      },
      "source": [
        "fig, ax = plt.subplots()\n",
        "\n",
        "fig.patch.set(facecolor='white')\n",
        "\n",
        "ax.set(facecolor='white')\n",
        "\n",
        "#this puts bars on the plot\n",
        "pepe.plot.line()\n",
        "\n",
        "#change color\n",
        "pepe.plot.line(color = '#009C05')\n",
        "#pepe.plot.line(linewidth='#009C05')\n",
        "\n",
        "#sets title\n",
        "ax.set_title(' S A L E   P R I C E   F O R   A   S I N G L E   D A N K   P E P E   S I N C E   2 0 1 6', fontsize=10, y=1.1, x=.45, color='grey')\n",
        "\n",
        "#sets y axis\n",
        "ax.set_yticklabels(['', '200', '400', '600'], fontsize=10, color='grey')\n",
        "ax.set_yticks([0, 200, 400, 600])\n",
        "\n",
        "#sets x axis\n",
        "ax.set_xticklabels([' ','OCT. 2016', \"JAN. '17\", 'APR.', 'JUL.', 'OCT.', \"JAN. '18\"], fontsize= 10, color='grey')\n",
        "#ax.set_xticks([1,28])\n",
        "\n",
        "#subtext\n",
        "ax.text(s='Price converted to U.S. dollars from Pepe Cash at the time of sale. Pepe Cash experienced a', x=-1, y=-125, fontsize=8, color='grey')\n",
        "ax.text(s='value spike starting in December 2017.', x=-1, y=-150, fontsize= 8, color='grey')\n",
        "\n",
        "#get rid of those spines\n",
        "ax.spines['right'].set_visible(False)\n",
        "ax.spines['top'].set_visible(False)\n",
        "ax.spines['left'].set_visible(False)\n",
        "ax.spines['bottom'].set_visible(False)\n",
        "\n",
        "#circles?\n",
        "#def circle(x, y, radius=0.05):\n",
        "    #from matplotlib.patches import Circle\n",
        "    #from matplotlib.patheffects import withStroke\n",
        "    #circle = Circle((x, y), radius, clip_on=False, zorder=10, linewidth=1,\n",
        "                    #edgecolor='#009C05', facecolor=(0, 0, 0, .0125),\n",
        "                    #path_effects=[withStroke(linewidth=5, foreground='w')])\n",
        "    #ax.add_artist(circle)\n",
        "    \n",
        "\n",
        "\n",
        "plt.show()"
      ],
      "execution_count": 162,
      "outputs": [
        {
          "output_type": "display_data",
          "data": {
            "image/png": "[encoded data removed]",
            "text/plain": [
              "<Figure size 432x288 with 1 Axes>"
            ]
          },
          "metadata": {
            "tags": []
          }
        }
      ]
    },
    {
      "cell_type": "code",
      "metadata": {
        "id": "IfobefSh3Aff",
        "colab_type": "code",
        "colab": {}
      },
      "source": [
        "fontname : {'serif', 'sans-serif', 'cursive', 'fantasy', 'monospace'}"
      ],
      "execution_count": 0,
      "outputs": []
    },
    {
      "cell_type": "code",
      "metadata": {
        "id": "v222lnktgkr1",
        "colab_type": "code",
        "colab": {
          "base_uri": "https://localhost:8080/",
          "height": 333
        },
        "outputId": "3e33a166-edd4-4869-e34a-e55c51e06a3a"
      },
      "source": [
        "from IPython.display import display, Image\n",
        "\n",
        "url = 'https://fivethirtyeight.com/wp-content/uploads/2018/03/roeder-pepe-dankpepe1.png?w=1150'\n",
        "example2 = Image(url=url, width=400)\n",
        "\n",
        "display(example2)"
      ],
      "execution_count": 65,
      "outputs": [
        {
          "output_type": "display_data",
          "data": {
            "text/html": [
              "<img src=\"https://fivethirtyeight.com/wp-content/uploads/2018/03/roeder-pepe-dankpepe1.png?w=1150\" width=\"400\"/>"
            ],
            "text/plain": [
              "<IPython.core.display.Image object>"
            ]
          },
          "metadata": {
            "tags": []
          }
        }
      ]
    },
    {
      "cell_type": "markdown",
      "metadata": {
        "id": "0wSrBzmJyWaV",
        "colab_type": "text"
      },
      "source": [
        "# STRETCH OPTIONS\n",
        "\n",
        "### 1) Reproduce one of the following using the matplotlib or seaborn libraries:\n",
        "\n",
        "- [thanksgiving-2015](https://fivethirtyeight.com/features/heres-what-your-part-of-america-eats-on-thanksgiving/) \n",
        "- [candy-power-ranking](https://fivethirtyeight.com/features/the-ultimate-halloween-candy-power-ranking/) \n",
        "- or another example of your choice!\n",
        "\n",
        "### 2) Make more charts!\n",
        "\n",
        "Choose a chart you want to make, from [Visual Vocabulary - Vega Edition](http://ft.com/vocabulary).\n",
        "\n",
        "Find the chart in an example gallery of a Python data visualization library:\n",
        "- [Seaborn](http://seaborn.pydata.org/examples/index.html)\n",
        "- [Altair](https://altair-viz.github.io/gallery/index.html)\n",
        "- [Matplotlib](https://matplotlib.org/gallery.html)\n",
        "- [Pandas](https://pandas.pydata.org/pandas-docs/stable/visualization.html)\n",
        "\n",
        "Reproduce the chart. [Optionally, try the \"Ben Franklin Method.\"](https://docs.google.com/document/d/1ubOw9B3Hfip27hF2ZFnW3a3z9xAgrUDRReOEo-FHCVs/edit) If you want, experiment and make changes.\n",
        "\n",
        "Take notes. Consider sharing your work with your cohort!"
      ]
    },
    {
      "cell_type": "code",
      "metadata": {
        "id": "dRJkKftiy5BJ",
        "colab_type": "code",
        "colab": {}
      },
      "source": [
        "# More Work Here"
      ],
      "execution_count": 0,
      "outputs": []
    }
  ]
}