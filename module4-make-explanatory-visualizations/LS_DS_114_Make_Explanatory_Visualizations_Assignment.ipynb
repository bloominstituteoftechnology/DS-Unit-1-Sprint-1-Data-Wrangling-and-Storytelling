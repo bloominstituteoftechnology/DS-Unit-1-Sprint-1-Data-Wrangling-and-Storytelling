{
  "nbformat": 4,
  "nbformat_minor": 0,
  "metadata": {
    "colab": {
      "name": "LS_DS_114_Make_Explanatory_Visualizations_Assignment.ipynb",
      "provenance": [],
      "collapsed_sections": []
    },
    "language_info": {
      "codemirror_mode": {
        "name": "ipython",
        "version": 3
      },
      "file_extension": ".py",
      "mimetype": "text/x-python",
      "name": "python",
      "nbconvert_exporter": "python",
      "pygments_lexer": "ipython3",
      "version": "3.7.1"
    },
    "kernelspec": {
      "display_name": "Python 3",
      "language": "python",
      "name": "python3"
    }
  },
  "cells": [
    {
      "cell_type": "markdown",
      "metadata": {
        "colab_type": "text",
        "id": "NMEswXWh9mqw"
      },
      "source": [
        "Lambda School Data Science\n",
        "\n",
        "*Unit 1, Sprint 1, Module 4*\n",
        "\n",
        "---\n",
        "\n",
        "# ASSIGNMENT\n",
        "\n",
        "### 1) Replicate the lesson code. I recommend that you [do not copy-paste](https://docs.google.com/document/d/1ubOw9B3Hfip27hF2ZFnW3a3z9xAgrUDRReOEo-FHCVs/edit).\n",
        "\n",
        "Get caught up to where we got our example in class and then try and take things further. How close to \"pixel perfect\" can you make the lecture graph?\n",
        "\n",
        "Once you have something that you're proud of, share your graph in the cohort channel and move on to the second exercise.\n",
        "\n",
        "### 2) Reproduce another example from [FiveThityEight's shared data repository](https://data.fivethirtyeight.com/).\n",
        "\n",
        "**WARNING**: There are a lot of very custom graphs and tables at the above link. I **highly** recommend not trying to reproduce any that look like a table of values or something really different from the graph types that we are already familiar with. Search through the posts until you find a graph type that you are more or less familiar with: histogram, bar chart, stacked bar chart, line chart, [seaborn relplot](https://seaborn.pydata.org/generated/seaborn.relplot.html), etc. Recreating some of the graphics that 538 uses would be a lot easier in Adobe photoshop/illustrator than with matplotlib. \n",
        "\n",
        "- If you put in some time to find a graph that looks \"easy\" to replicate you'll probably find that it's not as easy as you thought. \n",
        "\n",
        "- If you start with a graph that looks hard to replicate you'll probably run up against a brick wall and be disappointed with your afternoon.\n",
        "\n",
        "\n",
        "\n",
        "\n",
        "\n",
        "\n",
        "\n",
        "\n",
        "\n",
        "\n"
      ]
    },
    {
      "cell_type": "code",
      "metadata": {
        "id": "7SY1ZHawyZvz",
        "colab_type": "code",
        "colab": {}
      },
      "source": [
        "import matplotlib.pyplot as plt\n",
        "import pandas as pd\n",
        "import numpy as np\n",
        "from matplotlib.ticker import AutoMinorLocator, MultipleLocator, FuncFormatter, FixedLocator, MaxNLocator\n",
        "                              "
      ],
      "execution_count": 0,
      "outputs": []
    },
    {
      "cell_type": "code",
      "metadata": {
        "id": "TkT3InF5olnM",
        "colab_type": "code",
        "colab": {
          "base_uri": "https://localhost:8080/",
          "height": 355
        },
        "outputId": "ec441907-28e4-48ec-b62e-d528c2ee59e2"
      },
      "source": [
        "from IPython.display import display, Image\n",
        "\n",
        "url = 'https://fivethirtyeight.com/wp-content/uploads/2017/09/mehtahickey-inconvenient-0830-1.png'\n",
        "example = Image(url=url, width=400)\n",
        "\n",
        "display(example)"
      ],
      "execution_count": 91,
      "outputs": [
        {
          "output_type": "display_data",
          "data": {
            "text/html": [
              "<img src=\"https://fivethirtyeight.com/wp-content/uploads/2017/09/mehtahickey-inconvenient-0830-1.png\" width=\"400\"/>"
            ],
            "text/plain": [
              "<IPython.core.display.Image object>"
            ]
          },
          "metadata": {
            "tags": []
          }
        }
      ]
    },
    {
      "cell_type": "code",
      "metadata": {
        "id": "BH-oa4PVol0F",
        "colab_type": "code",
        "colab": {
          "base_uri": "https://localhost:8080/",
          "height": 609
        },
        "outputId": "4fb6c2c0-ecf1-4fb0-da4b-b60b3f799ed2"
      },
      "source": [
        "df = pd.read_csv('https://raw.githubusercontent.com/fivethirtyeight/data/master/inconvenient-sequel/ratings.csv')\n",
        "df"
      ],
      "execution_count": 92,
      "outputs": [
        {
          "output_type": "execute_result",
          "data": {
            "text/html": [
              "<div>\n",
              "<style scoped>\n",
              "    .dataframe tbody tr th:only-of-type {\n",
              "        vertical-align: middle;\n",
              "    }\n",
              "\n",
              "    .dataframe tbody tr th {\n",
              "        vertical-align: top;\n",
              "    }\n",
              "\n",
              "    .dataframe thead th {\n",
              "        text-align: right;\n",
              "    }\n",
              "</style>\n",
              "<table border=\"1\" class=\"dataframe\">\n",
              "  <thead>\n",
              "    <tr style=\"text-align: right;\">\n",
              "      <th></th>\n",
              "      <th>timestamp</th>\n",
              "      <th>respondents</th>\n",
              "      <th>category</th>\n",
              "      <th>link</th>\n",
              "      <th>average</th>\n",
              "      <th>mean</th>\n",
              "      <th>median</th>\n",
              "      <th>1_votes</th>\n",
              "      <th>2_votes</th>\n",
              "      <th>3_votes</th>\n",
              "      <th>4_votes</th>\n",
              "      <th>5_votes</th>\n",
              "      <th>6_votes</th>\n",
              "      <th>7_votes</th>\n",
              "      <th>8_votes</th>\n",
              "      <th>9_votes</th>\n",
              "      <th>10_votes</th>\n",
              "      <th>1_pct</th>\n",
              "      <th>2_pct</th>\n",
              "      <th>3_pct</th>\n",
              "      <th>4_pct</th>\n",
              "      <th>5_pct</th>\n",
              "      <th>6_pct</th>\n",
              "      <th>7_pct</th>\n",
              "      <th>8_pct</th>\n",
              "      <th>9_pct</th>\n",
              "      <th>10_pct</th>\n",
              "    </tr>\n",
              "  </thead>\n",
              "  <tbody>\n",
              "    <tr>\n",
              "      <th>0</th>\n",
              "      <td>2017-07-17 12:28:32.785639</td>\n",
              "      <td>402</td>\n",
              "      <td>Males</td>\n",
              "      <td>http://www.imdb.com/title/tt6322922/ratings-male</td>\n",
              "      <td>4.6</td>\n",
              "      <td>5.0</td>\n",
              "      <td>2</td>\n",
              "      <td>197</td>\n",
              "      <td>7</td>\n",
              "      <td>7</td>\n",
              "      <td>3</td>\n",
              "      <td>7</td>\n",
              "      <td>7</td>\n",
              "      <td>11</td>\n",
              "      <td>8</td>\n",
              "      <td>20</td>\n",
              "      <td>135</td>\n",
              "      <td>49.0</td>\n",
              "      <td>1.7</td>\n",
              "      <td>1.7</td>\n",
              "      <td>0.7</td>\n",
              "      <td>1.7</td>\n",
              "      <td>1.7</td>\n",
              "      <td>2.7</td>\n",
              "      <td>2.0</td>\n",
              "      <td>5.0</td>\n",
              "      <td>33.6</td>\n",
              "    </tr>\n",
              "    <tr>\n",
              "      <th>1</th>\n",
              "      <td>2017-07-17 12:28:33.025600</td>\n",
              "      <td>78</td>\n",
              "      <td>Females</td>\n",
              "      <td>http://www.imdb.com/title/tt6322922/ratings-fe...</td>\n",
              "      <td>6.9</td>\n",
              "      <td>7.7</td>\n",
              "      <td>10</td>\n",
              "      <td>16</td>\n",
              "      <td>1</td>\n",
              "      <td>0</td>\n",
              "      <td>1</td>\n",
              "      <td>1</td>\n",
              "      <td>0</td>\n",
              "      <td>3</td>\n",
              "      <td>4</td>\n",
              "      <td>3</td>\n",
              "      <td>49</td>\n",
              "      <td>20.5</td>\n",
              "      <td>1.3</td>\n",
              "      <td>0.0</td>\n",
              "      <td>1.3</td>\n",
              "      <td>1.3</td>\n",
              "      <td>0.0</td>\n",
              "      <td>3.8</td>\n",
              "      <td>5.1</td>\n",
              "      <td>3.8</td>\n",
              "      <td>62.8</td>\n",
              "    </tr>\n",
              "    <tr>\n",
              "      <th>2</th>\n",
              "      <td>2017-07-17 12:28:33.273919</td>\n",
              "      <td>4</td>\n",
              "      <td>Aged under 18</td>\n",
              "      <td>http://www.imdb.com/title/tt6322922/ratings-age_1</td>\n",
              "      <td>4.2</td>\n",
              "      <td>4.2</td>\n",
              "      <td>3</td>\n",
              "      <td>2</td>\n",
              "      <td>0</td>\n",
              "      <td>0</td>\n",
              "      <td>0</td>\n",
              "      <td>1</td>\n",
              "      <td>0</td>\n",
              "      <td>0</td>\n",
              "      <td>0</td>\n",
              "      <td>0</td>\n",
              "      <td>1</td>\n",
              "      <td>50.0</td>\n",
              "      <td>0.0</td>\n",
              "      <td>0.0</td>\n",
              "      <td>0.0</td>\n",
              "      <td>25.0</td>\n",
              "      <td>0.0</td>\n",
              "      <td>0.0</td>\n",
              "      <td>0.0</td>\n",
              "      <td>0.0</td>\n",
              "      <td>25.0</td>\n",
              "    </tr>\n",
              "    <tr>\n",
              "      <th>3</th>\n",
              "      <td>2017-07-17 12:28:33.495325</td>\n",
              "      <td>4</td>\n",
              "      <td>Males under 18</td>\n",
              "      <td>http://www.imdb.com/title/tt6322922/ratings-ma...</td>\n",
              "      <td>4.2</td>\n",
              "      <td>4.2</td>\n",
              "      <td>3</td>\n",
              "      <td>2</td>\n",
              "      <td>0</td>\n",
              "      <td>0</td>\n",
              "      <td>0</td>\n",
              "      <td>1</td>\n",
              "      <td>0</td>\n",
              "      <td>0</td>\n",
              "      <td>0</td>\n",
              "      <td>0</td>\n",
              "      <td>1</td>\n",
              "      <td>50.0</td>\n",
              "      <td>0.0</td>\n",
              "      <td>0.0</td>\n",
              "      <td>0.0</td>\n",
              "      <td>25.0</td>\n",
              "      <td>0.0</td>\n",
              "      <td>0.0</td>\n",
              "      <td>0.0</td>\n",
              "      <td>0.0</td>\n",
              "      <td>25.0</td>\n",
              "    </tr>\n",
              "    <tr>\n",
              "      <th>4</th>\n",
              "      <td>2017-07-17 12:28:33.722849</td>\n",
              "      <td>130</td>\n",
              "      <td>Aged 18-29</td>\n",
              "      <td>http://www.imdb.com/title/tt6322922/ratings-age_2</td>\n",
              "      <td>6.3</td>\n",
              "      <td>6.5</td>\n",
              "      <td>9</td>\n",
              "      <td>41</td>\n",
              "      <td>0</td>\n",
              "      <td>3</td>\n",
              "      <td>1</td>\n",
              "      <td>2</td>\n",
              "      <td>3</td>\n",
              "      <td>6</td>\n",
              "      <td>4</td>\n",
              "      <td>6</td>\n",
              "      <td>64</td>\n",
              "      <td>31.5</td>\n",
              "      <td>0.0</td>\n",
              "      <td>2.3</td>\n",
              "      <td>0.8</td>\n",
              "      <td>1.5</td>\n",
              "      <td>2.3</td>\n",
              "      <td>4.6</td>\n",
              "      <td>3.1</td>\n",
              "      <td>4.6</td>\n",
              "      <td>49.2</td>\n",
              "    </tr>\n",
              "    <tr>\n",
              "      <th>...</th>\n",
              "      <td>...</td>\n",
              "      <td>...</td>\n",
              "      <td>...</td>\n",
              "      <td>...</td>\n",
              "      <td>...</td>\n",
              "      <td>...</td>\n",
              "      <td>...</td>\n",
              "      <td>...</td>\n",
              "      <td>...</td>\n",
              "      <td>...</td>\n",
              "      <td>...</td>\n",
              "      <td>...</td>\n",
              "      <td>...</td>\n",
              "      <td>...</td>\n",
              "      <td>...</td>\n",
              "      <td>...</td>\n",
              "      <td>...</td>\n",
              "      <td>...</td>\n",
              "      <td>...</td>\n",
              "      <td>...</td>\n",
              "      <td>...</td>\n",
              "      <td>...</td>\n",
              "      <td>...</td>\n",
              "      <td>...</td>\n",
              "      <td>...</td>\n",
              "      <td>...</td>\n",
              "      <td>...</td>\n",
              "    </tr>\n",
              "    <tr>\n",
              "      <th>80048</th>\n",
              "      <td>2017-08-29 23:10:05.369510</td>\n",
              "      <td>8</td>\n",
              "      <td>IMDb staff</td>\n",
              "      <td>http://www.imdb.com/title/tt6322922/ratings-im...</td>\n",
              "      <td>8.4</td>\n",
              "      <td>7.2</td>\n",
              "      <td>8</td>\n",
              "      <td>1</td>\n",
              "      <td>0</td>\n",
              "      <td>0</td>\n",
              "      <td>0</td>\n",
              "      <td>0</td>\n",
              "      <td>1</td>\n",
              "      <td>1</td>\n",
              "      <td>2</td>\n",
              "      <td>2</td>\n",
              "      <td>1</td>\n",
              "      <td>12.5</td>\n",
              "      <td>0.0</td>\n",
              "      <td>0.0</td>\n",
              "      <td>0.0</td>\n",
              "      <td>0.0</td>\n",
              "      <td>12.5</td>\n",
              "      <td>12.5</td>\n",
              "      <td>25.0</td>\n",
              "      <td>25.0</td>\n",
              "      <td>12.5</td>\n",
              "    </tr>\n",
              "    <tr>\n",
              "      <th>80049</th>\n",
              "      <td>2017-08-29 23:10:05.598331</td>\n",
              "      <td>41</td>\n",
              "      <td>Top 1000 voters</td>\n",
              "      <td>http://www.imdb.com/title/tt6322922/ratings-to...</td>\n",
              "      <td>4.6</td>\n",
              "      <td>4.7</td>\n",
              "      <td>5</td>\n",
              "      <td>11</td>\n",
              "      <td>4</td>\n",
              "      <td>2</td>\n",
              "      <td>2</td>\n",
              "      <td>5</td>\n",
              "      <td>4</td>\n",
              "      <td>5</td>\n",
              "      <td>1</td>\n",
              "      <td>1</td>\n",
              "      <td>6</td>\n",
              "      <td>26.8</td>\n",
              "      <td>9.8</td>\n",
              "      <td>4.9</td>\n",
              "      <td>4.9</td>\n",
              "      <td>12.2</td>\n",
              "      <td>9.8</td>\n",
              "      <td>12.2</td>\n",
              "      <td>2.4</td>\n",
              "      <td>2.4</td>\n",
              "      <td>14.6</td>\n",
              "    </tr>\n",
              "    <tr>\n",
              "      <th>80050</th>\n",
              "      <td>2017-08-29 23:10:05.794141</td>\n",
              "      <td>925</td>\n",
              "      <td>US users</td>\n",
              "      <td>http://www.imdb.com/title/tt6322922/ratings-usa</td>\n",
              "      <td>4.8</td>\n",
              "      <td>5.0</td>\n",
              "      <td>4</td>\n",
              "      <td>405</td>\n",
              "      <td>34</td>\n",
              "      <td>20</td>\n",
              "      <td>8</td>\n",
              "      <td>9</td>\n",
              "      <td>30</td>\n",
              "      <td>54</td>\n",
              "      <td>46</td>\n",
              "      <td>60</td>\n",
              "      <td>259</td>\n",
              "      <td>43.8</td>\n",
              "      <td>3.7</td>\n",
              "      <td>2.2</td>\n",
              "      <td>0.9</td>\n",
              "      <td>1.0</td>\n",
              "      <td>3.2</td>\n",
              "      <td>5.8</td>\n",
              "      <td>5.0</td>\n",
              "      <td>6.5</td>\n",
              "      <td>28.0</td>\n",
              "    </tr>\n",
              "    <tr>\n",
              "      <th>80051</th>\n",
              "      <td>2017-08-29 23:10:06.022268</td>\n",
              "      <td>565</td>\n",
              "      <td>Non-US users</td>\n",
              "      <td>http://www.imdb.com/title/tt6322922/ratings-in...</td>\n",
              "      <td>6.4</td>\n",
              "      <td>6.5</td>\n",
              "      <td>7</td>\n",
              "      <td>129</td>\n",
              "      <td>11</td>\n",
              "      <td>10</td>\n",
              "      <td>8</td>\n",
              "      <td>32</td>\n",
              "      <td>47</td>\n",
              "      <td>52</td>\n",
              "      <td>37</td>\n",
              "      <td>35</td>\n",
              "      <td>204</td>\n",
              "      <td>22.8</td>\n",
              "      <td>1.9</td>\n",
              "      <td>1.8</td>\n",
              "      <td>1.4</td>\n",
              "      <td>5.7</td>\n",
              "      <td>8.3</td>\n",
              "      <td>9.2</td>\n",
              "      <td>6.5</td>\n",
              "      <td>6.2</td>\n",
              "      <td>36.1</td>\n",
              "    </tr>\n",
              "    <tr>\n",
              "      <th>80052</th>\n",
              "      <td>2017-08-29 23:10:06.218251</td>\n",
              "      <td>2662</td>\n",
              "      <td>IMDb users</td>\n",
              "      <td>http://www.imdb.com/title/tt6322922/ratings</td>\n",
              "      <td>5.4</td>\n",
              "      <td>5.6</td>\n",
              "      <td>7</td>\n",
              "      <td>1021</td>\n",
              "      <td>69</td>\n",
              "      <td>38</td>\n",
              "      <td>25</td>\n",
              "      <td>55</td>\n",
              "      <td>110</td>\n",
              "      <td>154</td>\n",
              "      <td>147</td>\n",
              "      <td>146</td>\n",
              "      <td>897</td>\n",
              "      <td>38.4</td>\n",
              "      <td>2.6</td>\n",
              "      <td>1.4</td>\n",
              "      <td>0.9</td>\n",
              "      <td>2.1</td>\n",
              "      <td>4.1</td>\n",
              "      <td>5.8</td>\n",
              "      <td>5.5</td>\n",
              "      <td>5.5</td>\n",
              "      <td>33.7</td>\n",
              "    </tr>\n",
              "  </tbody>\n",
              "</table>\n",
              "<p>80053 rows × 27 columns</p>\n",
              "</div>"
            ],
            "text/plain": [
              "                        timestamp  respondents  ... 9_pct 10_pct\n",
              "0      2017-07-17 12:28:32.785639          402  ...   5.0   33.6\n",
              "1      2017-07-17 12:28:33.025600           78  ...   3.8   62.8\n",
              "2      2017-07-17 12:28:33.273919            4  ...   0.0   25.0\n",
              "3      2017-07-17 12:28:33.495325            4  ...   0.0   25.0\n",
              "4      2017-07-17 12:28:33.722849          130  ...   4.6   49.2\n",
              "...                           ...          ...  ...   ...    ...\n",
              "80048  2017-08-29 23:10:05.369510            8  ...  25.0   12.5\n",
              "80049  2017-08-29 23:10:05.598331           41  ...   2.4   14.6\n",
              "80050  2017-08-29 23:10:05.794141          925  ...   6.5   28.0\n",
              "80051  2017-08-29 23:10:06.022268          565  ...   6.2   36.1\n",
              "80052  2017-08-29 23:10:06.218251         2662  ...   5.5   33.7\n",
              "\n",
              "[80053 rows x 27 columns]"
            ]
          },
          "metadata": {
            "tags": []
          },
          "execution_count": 92
        }
      ]
    },
    {
      "cell_type": "code",
      "metadata": {
        "id": "RWYA3W0iomAm",
        "colab_type": "code",
        "colab": {}
      },
      "source": [
        "total_votes = sum(df['1_votes'])"
      ],
      "execution_count": 0,
      "outputs": []
    },
    {
      "cell_type": "code",
      "metadata": {
        "id": "BUlS4G2komMj",
        "colab_type": "code",
        "colab": {}
      },
      "source": [
        "x = range(1,11)\n",
        "\n",
        "total_votes = 0\n",
        "for i in x:\n",
        "  total_votes += sum(df['{}_votes'.format(i)])\n",
        "\n",
        "y = []\n",
        "for i in x:\n",
        "  y.append(sum(df['{}_votes'.format(i)])/total_votes)"
      ],
      "execution_count": 0,
      "outputs": []
    },
    {
      "cell_type": "code",
      "metadata": {
        "id": "1pGa5lbRomi7",
        "colab_type": "code",
        "colab": {
          "base_uri": "https://localhost:8080/",
          "height": 322
        },
        "outputId": "e2d404ca-f961-4202-d228-2e1218f7a1d6"
      },
      "source": [
        "import matplotlib.pyplot as plt\n",
        "\n",
        "fig, ax = plt.subplots()\n",
        "\n",
        "#plt.style.use('seaborn-whitegrid')\n",
        "#plt.figure(figsize=(8,5))\n",
        "plt.bar(x, y);\n",
        "plt.xlabel('Rating')\n",
        "plt.ylabel('Percent of total votes')\n",
        "plt.title(\"'An Inconvenient Sequel: Truth To Power' is divisive\",\n",
        "          loc='left');\n",
        "\n",
        "text = 'IMDb ratings for the film as of Aug.29'\n",
        "x_ticks = x\n",
        "y_ticks = ['0', '10', '20', '30', '40%']"
      ],
      "execution_count": 109,
      "outputs": [
        {
          "output_type": "display_data",
          "data": {
            "image/png": "[encoded data removed]",
            "text/plain": [
              "<Figure size 432x288 with 1 Axes>"
            ]
          },
          "metadata": {
            "tags": []
          }
        }
      ]
    },
    {
      "cell_type": "code",
      "metadata": {
        "id": "4H7oHkWLnzsn",
        "colab_type": "code",
        "colab": {
          "base_uri": "https://localhost:8080/",
          "height": 423
        },
        "outputId": "07f15a80-c8e9-4457-a895-8daebf627b33"
      },
      "source": [
        "fig, ax = plt.subplots(figsize=(8,5));\n",
        "\n",
        "ax.bar(x, y, color=\"#EC723A\")\n",
        "ax.set_xlabel('Rating', fontweight='bold')\n",
        "ax.set_ylabel('Percent of total votes', fontweight='bold')\n",
        "ax.set_title(\"'An Inconvenient Sequel: Truth To Power' is divisive\",\n",
        "          loc='left', fontweight='bold', x=-0.15, y=1.1);\n",
        "\n",
        "ax.xaxis.set_major_locator(MultipleLocator(1.000))\n",
        "ax.yaxis.set_major_locator(MaxNLocator(5))\n",
        "ax.set_yticklabels(y_ticks)\n",
        "ax.tick_params(which='major', width=1.0)\n",
        "ax.tick_params(which='major', length=10)\n",
        "ax.spines['left'].set_visible(False)\n",
        "ax.spines['right'].set_visible(False)\n",
        "ax.tick_params(axis='x', colors='grey', pad=7, grid_color='grey', grid_alpha=0.5)\n",
        "ax.tick_params(axis='y', colors='grey', pad=7, grid_color='grey', grid_alpha=0.5)\n",
        "\n",
        "ax.text(-1.5, 0.435,'IMDb ratings for the film as of Aug.29');\n",
        "fig.savefig('IMDb Plot Copy.png', format='png', transparent=True)"
      ],
      "execution_count": 145,
      "outputs": [
        {
          "output_type": "display_data",
          "data": {
            "image/png": "[encoded data removed]",
            "text/plain": [
              "<Figure size 576x360 with 1 Axes>"
            ]
          },
          "metadata": {
            "tags": []
          }
        }
      ]
    },
    {
      "cell_type": "code",
      "metadata": {
        "id": "PUIPYg4mnznv",
        "colab_type": "code",
        "colab": {}
      },
      "source": [
        ""
      ],
      "execution_count": 0,
      "outputs": []
    },
    {
      "cell_type": "code",
      "metadata": {
        "id": "b6Suscrdnzhc",
        "colab_type": "code",
        "colab": {}
      },
      "source": [
        ""
      ],
      "execution_count": 0,
      "outputs": []
    },
    {
      "cell_type": "code",
      "metadata": {
        "id": "9AO4bvtcnzZz",
        "colab_type": "code",
        "colab": {}
      },
      "source": [
        ""
      ],
      "execution_count": 0,
      "outputs": []
    },
    {
      "cell_type": "code",
      "metadata": {
        "id": "YjMwMufQnzQu",
        "colab_type": "code",
        "colab": {}
      },
      "source": [
        ""
      ],
      "execution_count": 0,
      "outputs": []
    },
    {
      "cell_type": "code",
      "metadata": {
        "id": "-syOuPtknzAz",
        "colab_type": "code",
        "colab": {}
      },
      "source": [
        ""
      ],
      "execution_count": 0,
      "outputs": []
    },
    {
      "cell_type": "code",
      "metadata": {
        "id": "aoiIGlMBnyxA",
        "colab_type": "code",
        "colab": {}
      },
      "source": [
        ""
      ],
      "execution_count": 0,
      "outputs": []
    },
    {
      "cell_type": "code",
      "metadata": {
        "id": "MVCWwkHVlEb5",
        "colab_type": "code",
        "colab": {
          "base_uri": "https://localhost:8080/",
          "height": 410
        },
        "outputId": "f7be653b-cb92-49a6-d172-aae86e6b74b5"
      },
      "source": [
        "#reproducing FiveThirtyEight VISUALIZATION\n",
        "#Daily Show Guests\n",
        "\n",
        "from IPython.display import display, Image\n",
        "\n",
        "url = \"https://fivethirtyeight.com/wp-content/uploads/2015/08/hickey-datalab-dailyshow.png?w=1150\"\n",
        "example = Image(url=url, width = 500)\n",
        "\n",
        "display(example)\n"
      ],
      "execution_count": 147,
      "outputs": [
        {
          "output_type": "display_data",
          "data": {
            "text/html": [
              "<img src=\"https://fivethirtyeight.com/wp-content/uploads/2015/08/hickey-datalab-dailyshow.png?w=1150\" width=\"500\"/>"
            ],
            "text/plain": [
              "<IPython.core.display.Image object>"
            ]
          },
          "metadata": {
            "tags": []
          }
        }
      ]
    },
    {
      "cell_type": "code",
      "metadata": {
        "id": "8hXX7kruvdLy",
        "colab_type": "code",
        "colab": {
          "base_uri": "https://localhost:8080/",
          "height": 359
        },
        "outputId": "368b7e6e-5c0d-4bee-c78b-c80904c81bcb"
      },
      "source": [
        "df = pd.read_csv(\"https://raw.githubusercontent.com/fivethirtyeight/data/master/daily-show-guests/daily_show_guests.csv\")\n",
        "df.head(10)"
      ],
      "execution_count": 190,
      "outputs": [
        {
          "output_type": "execute_result",
          "data": {
            "text/html": [
              "<div>\n",
              "<style scoped>\n",
              "    .dataframe tbody tr th:only-of-type {\n",
              "        vertical-align: middle;\n",
              "    }\n",
              "\n",
              "    .dataframe tbody tr th {\n",
              "        vertical-align: top;\n",
              "    }\n",
              "\n",
              "    .dataframe thead th {\n",
              "        text-align: right;\n",
              "    }\n",
              "</style>\n",
              "<table border=\"1\" class=\"dataframe\">\n",
              "  <thead>\n",
              "    <tr style=\"text-align: right;\">\n",
              "      <th></th>\n",
              "      <th>YEAR</th>\n",
              "      <th>GoogleKnowlege_Occupation</th>\n",
              "      <th>Show</th>\n",
              "      <th>Group</th>\n",
              "      <th>Raw_Guest_List</th>\n",
              "    </tr>\n",
              "  </thead>\n",
              "  <tbody>\n",
              "    <tr>\n",
              "      <th>0</th>\n",
              "      <td>1999</td>\n",
              "      <td>actor</td>\n",
              "      <td>1/11/99</td>\n",
              "      <td>Acting</td>\n",
              "      <td>Michael J. Fox</td>\n",
              "    </tr>\n",
              "    <tr>\n",
              "      <th>1</th>\n",
              "      <td>1999</td>\n",
              "      <td>Comedian</td>\n",
              "      <td>1/12/99</td>\n",
              "      <td>Comedy</td>\n",
              "      <td>Sandra Bernhard</td>\n",
              "    </tr>\n",
              "    <tr>\n",
              "      <th>2</th>\n",
              "      <td>1999</td>\n",
              "      <td>television actress</td>\n",
              "      <td>1/13/99</td>\n",
              "      <td>Acting</td>\n",
              "      <td>Tracey Ullman</td>\n",
              "    </tr>\n",
              "    <tr>\n",
              "      <th>3</th>\n",
              "      <td>1999</td>\n",
              "      <td>film actress</td>\n",
              "      <td>1/14/99</td>\n",
              "      <td>Acting</td>\n",
              "      <td>Gillian Anderson</td>\n",
              "    </tr>\n",
              "    <tr>\n",
              "      <th>4</th>\n",
              "      <td>1999</td>\n",
              "      <td>actor</td>\n",
              "      <td>1/18/99</td>\n",
              "      <td>Acting</td>\n",
              "      <td>David Alan Grier</td>\n",
              "    </tr>\n",
              "    <tr>\n",
              "      <th>5</th>\n",
              "      <td>1999</td>\n",
              "      <td>actor</td>\n",
              "      <td>1/19/99</td>\n",
              "      <td>Acting</td>\n",
              "      <td>William Baldwin</td>\n",
              "    </tr>\n",
              "    <tr>\n",
              "      <th>6</th>\n",
              "      <td>1999</td>\n",
              "      <td>Singer-lyricist</td>\n",
              "      <td>1/20/99</td>\n",
              "      <td>Musician</td>\n",
              "      <td>Michael Stipe</td>\n",
              "    </tr>\n",
              "    <tr>\n",
              "      <th>7</th>\n",
              "      <td>1999</td>\n",
              "      <td>model</td>\n",
              "      <td>1/21/99</td>\n",
              "      <td>Media</td>\n",
              "      <td>Carmen Electra</td>\n",
              "    </tr>\n",
              "    <tr>\n",
              "      <th>8</th>\n",
              "      <td>1999</td>\n",
              "      <td>actor</td>\n",
              "      <td>1/25/99</td>\n",
              "      <td>Acting</td>\n",
              "      <td>Matthew Lillard</td>\n",
              "    </tr>\n",
              "    <tr>\n",
              "      <th>9</th>\n",
              "      <td>1999</td>\n",
              "      <td>stand-up comedian</td>\n",
              "      <td>1/26/99</td>\n",
              "      <td>Comedy</td>\n",
              "      <td>David Cross</td>\n",
              "    </tr>\n",
              "  </tbody>\n",
              "</table>\n",
              "</div>"
            ],
            "text/plain": [
              "   YEAR GoogleKnowlege_Occupation     Show     Group    Raw_Guest_List\n",
              "0  1999                     actor  1/11/99    Acting    Michael J. Fox\n",
              "1  1999                  Comedian  1/12/99    Comedy   Sandra Bernhard\n",
              "2  1999        television actress  1/13/99    Acting     Tracey Ullman\n",
              "3  1999              film actress  1/14/99    Acting  Gillian Anderson\n",
              "4  1999                     actor  1/18/99    Acting  David Alan Grier\n",
              "5  1999                     actor  1/19/99    Acting   William Baldwin\n",
              "6  1999           Singer-lyricist  1/20/99  Musician     Michael Stipe\n",
              "7  1999                     model  1/21/99     Media    Carmen Electra\n",
              "8  1999                     actor  1/25/99    Acting   Matthew Lillard\n",
              "9  1999         stand-up comedian  1/26/99    Comedy       David Cross"
            ]
          },
          "metadata": {
            "tags": []
          },
          "execution_count": 190
        }
      ]
    },
    {
      "cell_type": "code",
      "metadata": {
        "id": "j0Rg2z32vjAQ",
        "colab_type": "code",
        "colab": {
          "base_uri": "https://localhost:8080/",
          "height": 85
        },
        "outputId": "c0c9efe5-d292-435d-b98a-f799c4a643f1"
      },
      "source": [
        "df['Group'].unique()"
      ],
      "execution_count": 191,
      "outputs": [
        {
          "output_type": "execute_result",
          "data": {
            "text/plain": [
              "array(['Acting', 'Comedy', 'Musician', 'Media', nan, 'Politician',\n",
              "       'Athletics', 'Business', 'Advocacy', 'Political Aide', 'Misc',\n",
              "       'Academic', 'Government', 'media', 'Clergy', 'Science',\n",
              "       'Consultant', 'Military'], dtype=object)"
            ]
          },
          "metadata": {
            "tags": []
          },
          "execution_count": 191
        }
      ]
    },
    {
      "cell_type": "code",
      "metadata": {
        "id": "ZNL0_byd6qit",
        "colab_type": "code",
        "colab": {
          "base_uri": "https://localhost:8080/",
          "height": 323
        },
        "outputId": "f39ea652-082c-43e5-b4c7-44d17b61b03e"
      },
      "source": [
        "df['Group'].value_counts(normalize=True)"
      ],
      "execution_count": 192,
      "outputs": [
        {
          "output_type": "execute_result",
          "data": {
            "text/plain": [
              "Acting            0.349361\n",
              "Media             0.282119\n",
              "Politician        0.115702\n",
              "Comedy            0.056349\n",
              "Musician          0.046206\n",
              "Academic          0.038693\n",
              "Athletics         0.019534\n",
              "Misc              0.016905\n",
              "Government        0.015026\n",
              "Political Aide    0.013524\n",
              "Science           0.010518\n",
              "Business          0.009391\n",
              "Advocacy          0.009016\n",
              "Consultant        0.006762\n",
              "Military          0.006011\n",
              "Clergy            0.003005\n",
              "media             0.001878\n",
              "Name: Group, dtype: float64"
            ]
          },
          "metadata": {
            "tags": []
          },
          "execution_count": 192
        }
      ]
    },
    {
      "cell_type": "code",
      "metadata": {
        "id": "yQVkmzHevjLF",
        "colab_type": "code",
        "colab": {
          "base_uri": "https://localhost:8080/",
          "height": 419
        },
        "outputId": "01d5c702-a317-4c95-86e0-e331198b84ac"
      },
      "source": [
        "group1 = ['Acting', 'Comedy', 'Musician']\n",
        "group2 = ['Media', 'media']\n",
        "group3 = ['Politician', 'Political Aide', 'Government']\n",
        "\n",
        "ACM = df[df.Group.isin(group1)] \n",
        "media = df[df.Group.isin(group2)]\n",
        "GP = df[df.Group.isin(group3)]\n",
        "\n",
        "temp = pd.concat([ACM,media])\n",
        "new_df = pd.concat([temp, GP])\n",
        "new_df"
      ],
      "execution_count": 199,
      "outputs": [
        {
          "output_type": "execute_result",
          "data": {
            "text/html": [
              "<div>\n",
              "<style scoped>\n",
              "    .dataframe tbody tr th:only-of-type {\n",
              "        vertical-align: middle;\n",
              "    }\n",
              "\n",
              "    .dataframe tbody tr th {\n",
              "        vertical-align: top;\n",
              "    }\n",
              "\n",
              "    .dataframe thead th {\n",
              "        text-align: right;\n",
              "    }\n",
              "</style>\n",
              "<table border=\"1\" class=\"dataframe\">\n",
              "  <thead>\n",
              "    <tr style=\"text-align: right;\">\n",
              "      <th></th>\n",
              "      <th>YEAR</th>\n",
              "      <th>GoogleKnowlege_Occupation</th>\n",
              "      <th>Show</th>\n",
              "      <th>Group</th>\n",
              "      <th>Raw_Guest_List</th>\n",
              "    </tr>\n",
              "  </thead>\n",
              "  <tbody>\n",
              "    <tr>\n",
              "      <th>0</th>\n",
              "      <td>1999</td>\n",
              "      <td>actor</td>\n",
              "      <td>1/11/99</td>\n",
              "      <td>Acting</td>\n",
              "      <td>Michael J. Fox</td>\n",
              "    </tr>\n",
              "    <tr>\n",
              "      <th>1</th>\n",
              "      <td>1999</td>\n",
              "      <td>Comedian</td>\n",
              "      <td>1/12/99</td>\n",
              "      <td>Comedy</td>\n",
              "      <td>Sandra Bernhard</td>\n",
              "    </tr>\n",
              "    <tr>\n",
              "      <th>2</th>\n",
              "      <td>1999</td>\n",
              "      <td>television actress</td>\n",
              "      <td>1/13/99</td>\n",
              "      <td>Acting</td>\n",
              "      <td>Tracey Ullman</td>\n",
              "    </tr>\n",
              "    <tr>\n",
              "      <th>3</th>\n",
              "      <td>1999</td>\n",
              "      <td>film actress</td>\n",
              "      <td>1/14/99</td>\n",
              "      <td>Acting</td>\n",
              "      <td>Gillian Anderson</td>\n",
              "    </tr>\n",
              "    <tr>\n",
              "      <th>4</th>\n",
              "      <td>1999</td>\n",
              "      <td>actor</td>\n",
              "      <td>1/18/99</td>\n",
              "      <td>Acting</td>\n",
              "      <td>David Alan Grier</td>\n",
              "    </tr>\n",
              "    <tr>\n",
              "      <th>...</th>\n",
              "      <td>...</td>\n",
              "      <td>...</td>\n",
              "      <td>...</td>\n",
              "      <td>...</td>\n",
              "      <td>...</td>\n",
              "    </tr>\n",
              "    <tr>\n",
              "      <th>2669</th>\n",
              "      <td>2015</td>\n",
              "      <td>nyc mayor</td>\n",
              "      <td>6/2/15</td>\n",
              "      <td>Politician</td>\n",
              "      <td>Bill de Blasio</td>\n",
              "    </tr>\n",
              "    <tr>\n",
              "      <th>2670</th>\n",
              "      <td>2015</td>\n",
              "      <td>united states senator</td>\n",
              "      <td>6/22/15</td>\n",
              "      <td>Politician</td>\n",
              "      <td>Al Franken</td>\n",
              "    </tr>\n",
              "    <tr>\n",
              "      <th>2678</th>\n",
              "      <td>2015</td>\n",
              "      <td>First Minister of Scotland</td>\n",
              "      <td>6/8/15</td>\n",
              "      <td>Politician</td>\n",
              "      <td>Nicola Sturgeon</td>\n",
              "    </tr>\n",
              "    <tr>\n",
              "      <th>2680</th>\n",
              "      <td>2015</td>\n",
              "      <td>United States Senator</td>\n",
              "      <td>7/1/15</td>\n",
              "      <td>Politician</td>\n",
              "      <td>Kirsten Gillibrand</td>\n",
              "    </tr>\n",
              "    <tr>\n",
              "      <th>2683</th>\n",
              "      <td>2015</td>\n",
              "      <td>us president</td>\n",
              "      <td>7/21/15</td>\n",
              "      <td>Politician</td>\n",
              "      <td>Barack Obama</td>\n",
              "    </tr>\n",
              "  </tbody>\n",
              "</table>\n",
              "<p>2343 rows × 5 columns</p>\n",
              "</div>"
            ],
            "text/plain": [
              "      YEAR   GoogleKnowlege_Occupation     Show       Group      Raw_Guest_List\n",
              "0     1999                       actor  1/11/99      Acting      Michael J. Fox\n",
              "1     1999                    Comedian  1/12/99      Comedy     Sandra Bernhard\n",
              "2     1999          television actress  1/13/99      Acting       Tracey Ullman\n",
              "3     1999                film actress  1/14/99      Acting    Gillian Anderson\n",
              "4     1999                       actor  1/18/99      Acting    David Alan Grier\n",
              "...    ...                         ...      ...         ...                 ...\n",
              "2669  2015                   nyc mayor   6/2/15  Politician      Bill de Blasio\n",
              "2670  2015       united states senator  6/22/15  Politician          Al Franken\n",
              "2678  2015  First Minister of Scotland   6/8/15  Politician     Nicola Sturgeon\n",
              "2680  2015       United States Senator   7/1/15  Politician  Kirsten Gillibrand\n",
              "2683  2015                us president  7/21/15  Politician        Barack Obama\n",
              "\n",
              "[2343 rows x 5 columns]"
            ]
          },
          "metadata": {
            "tags": []
          },
          "execution_count": 199
        }
      ]
    },
    {
      "cell_type": "code",
      "metadata": {
        "id": "5pSGLD3s8bLW",
        "colab_type": "code",
        "colab": {
          "base_uri": "https://localhost:8080/",
          "height": 323
        },
        "outputId": "a1c361b6-522e-4f92-c239-2a8dfee629e6"
      },
      "source": [
        "ACM['YEAR'].value_counts(normalize=True)"
      ],
      "execution_count": 202,
      "outputs": [
        {
          "output_type": "execute_result",
          "data": {
            "text/plain": [
              "1999    0.124688\n",
              "2000    0.103907\n",
              "2001    0.094763\n",
              "2002    0.082294\n",
              "2003    0.077307\n",
              "2013    0.059019\n",
              "2014    0.053200\n",
              "2004    0.052369\n",
              "2005    0.049875\n",
              "2010    0.048213\n",
              "2006    0.048213\n",
              "2011    0.045719\n",
              "2015    0.037406\n",
              "2012    0.036575\n",
              "2007    0.029925\n",
              "2008    0.028263\n",
              "2009    0.028263\n",
              "Name: YEAR, dtype: float64"
            ]
          },
          "metadata": {
            "tags": []
          },
          "execution_count": 202
        }
      ]
    },
    {
      "cell_type": "code",
      "metadata": {
        "id": "JXPTIdEfBXrP",
        "colab_type": "code",
        "colab": {}
      },
      "source": [
        "ACM_y = []\n",
        "media_y = []\n",
        "GP_y = []\n",
        "for i in df['YEAR'].unique():\n",
        "  data = df[df['YEAR'] == i].Group.value_counts(normalize=True)\n",
        "  acm = 0\n",
        "  media = 0\n",
        "  gp = 0\n",
        "  for i in data.index:\n",
        "    if i in group1:\n",
        "      acm+= data[i]\n",
        "    if i in group2:\n",
        "      media+= data[i]\n",
        "    if i in group3:\n",
        "      gp+= data[i]\n",
        "  ACM_y.append(acm)\n",
        "  media_y.append(media)\n",
        "  GP_y.append(gp)\n"
      ],
      "execution_count": 0,
      "outputs": []
    },
    {
      "cell_type": "code",
      "metadata": {
        "id": "5gPB9OPNuc_o",
        "colab_type": "code",
        "colab": {}
      },
      "source": [
        ""
      ],
      "execution_count": 0,
      "outputs": []
    },
    {
      "cell_type": "code",
      "metadata": {
        "id": "rcNRe9pSvjTp",
        "colab_type": "code",
        "colab": {}
      },
      "source": [
        "'''\n",
        "ACM_y = ACM.YEAR.value_counts().sort_index().values\n",
        "media_y = media.YEAR.value_counts().sort_index().values\n",
        "GP_y = GP.YEAR.value_counts().sort_index().values\n",
        "\n",
        "total = sum(ACM_y)+sum(media_y)+sum(GP_y)\n",
        "\n",
        "ACM_y_norm = ACM_y/total\n",
        "media_y_norm = media_y/len(df)\n",
        "GP_y_norm = GP_y/len(df)\n",
        "\n",
        "x = ACM.YEAR.value_counts().sort_index().index\n",
        "'''"
      ],
      "execution_count": 0,
      "outputs": []
    },
    {
      "cell_type": "code",
      "metadata": {
        "id": "mXuIbcU9zr-A",
        "colab_type": "code",
        "colab": {
          "base_uri": "https://localhost:8080/",
          "height": 476
        },
        "outputId": "785a1be5-d341-4a41-caff-3b46881d4e21"
      },
      "source": [
        "#plt.style.use('fivethirtyeight')\n",
        "\n",
        "fig, ax = plt.subplots(figsize=(10,6))\n",
        "\n",
        "ax.grid(True)\n",
        "ax.plot(x, ACM_y, label='Acting, Comedy, and Music')\n",
        "ax.plot(x, media_y, color='Purple', label='Media')\n",
        "ax.plot(x, GP_y, label='Government and Politics')\n",
        "ax.set_title(\"Who Got To Be On 'The Daily Show'?\", loc='left', \n",
        "             fontweight='bold', fontsize=25, x=-0.08, y = 1.15);\n",
        "ax.tick_params(which='major')\n",
        "ax.tick_params(which='major')\n",
        "\n",
        "ax.xaxis.set_major_locator(MultipleLocator(4))\n",
        "ax.yaxis.set_major_locator(MultipleLocator(0.25))\n",
        "\n",
        "x_ticks = ['0', '2000', \"' 04\", \"' 08\", \"' 12\"]\n",
        "y_ticks = ['0', '25', '50', '75', '100%']\n",
        "ax.yaxis.set_ticks([0, 0.25, 0.5, 0.75, 1.0])\n",
        "ax.set_xticklabels(x_ticks, color='black', fontfamily='Andale Mono', alpha=0.7);\n",
        "ax.set_yticklabels(y_ticks, fontfamily='Andale Mono', alpha=0.7);\n",
        "\n",
        "ax.text(1996.85, 1.1, 'Occupation of guests, by year', fontsize=18)\n",
        "ax.text(2001, 0.82, \"Acting, Comedy & Music\", fontsize=18, fontweight='bold', \n",
        "       color='#058BD1')\n",
        "ax.text(2007.5, 0.53, \"Media\", fontsize=18, fontweight='bold', \n",
        "        color='purple')\n",
        "ax.text(2008.8, 0.06, \"Government and Politics\", fontsize=18, fontweight='bold', \n",
        "       color='#FC2901');\n",
        "ax.axhline(color='black', linewidth=0.5);\n",
        "ax.set_ylim(0,1.05)\n",
        "fig.savefig('DailyShow Graph.png', format = 'png', transparent=True)"
      ],
      "execution_count": 421,
      "outputs": [
        {
          "output_type": "display_data",
          "data": {
            "image/png": "[encoded data removed]",
            "text/plain": [
              "<Figure size 720x432 with 1 Axes>"
            ]
          },
          "metadata": {
            "tags": []
          }
        }
      ]
    },
    {
      "cell_type": "code",
      "metadata": {
        "id": "mIInhzcc21_e",
        "colab_type": "code",
        "colab": {
          "base_uri": "https://localhost:8080/",
          "height": 221
        },
        "outputId": "3f84f6b7-591f-4218-b264-d5d3e95f3b64"
      },
      "source": [
        "\n",
        "ACM = df.Group.isin(group1)"
      ],
      "execution_count": 14,
      "outputs": [
        {
          "output_type": "execute_result",
          "data": {
            "text/plain": [
              "0        True\n",
              "1        True\n",
              "2        True\n",
              "3        True\n",
              "4        True\n",
              "        ...  \n",
              "2688    False\n",
              "2689    False\n",
              "2690     True\n",
              "2691     True\n",
              "2692     True\n",
              "Name: Group, Length: 2693, dtype: bool"
            ]
          },
          "metadata": {
            "tags": []
          },
          "execution_count": 14
        }
      ]
    },
    {
      "cell_type": "markdown",
      "metadata": {
        "id": "0wSrBzmJyWaV",
        "colab_type": "text"
      },
      "source": [
        "# STRETCH OPTIONS\n",
        "\n",
        "### 1) Reproduce one of the following using the matplotlib or seaborn libraries:\n",
        "\n",
        "- [thanksgiving-2015](https://fivethirtyeight.com/features/heres-what-your-part-of-america-eats-on-thanksgiving/) \n",
        "- [candy-power-ranking](https://fivethirtyeight.com/features/the-ultimate-halloween-candy-power-ranking/) \n",
        "- or another example of your choice!\n",
        "\n",
        "### 2) Make more charts!\n",
        "\n",
        "Choose a chart you want to make, from [Visual Vocabulary - Vega Edition](http://ft.com/vocabulary).\n",
        "\n",
        "Find the chart in an example gallery of a Python data visualization library:\n",
        "- [Seaborn](http://seaborn.pydata.org/examples/index.html)\n",
        "- [Altair](https://altair-viz.github.io/gallery/index.html)\n",
        "- [Matplotlib](https://matplotlib.org/gallery.html)\n",
        "- [Pandas](https://pandas.pydata.org/pandas-docs/stable/visualization.html)\n",
        "\n",
        "Reproduce the chart. [Optionally, try the \"Ben Franklin Method.\"](https://docs.google.com/document/d/1ubOw9B3Hfip27hF2ZFnW3a3z9xAgrUDRReOEo-FHCVs/edit) If you want, experiment and make changes.\n",
        "\n",
        "Take notes. Consider sharing your work with your cohort!"
      ]
    },
    {
      "cell_type": "code",
      "metadata": {
        "id": "dRJkKftiy5BJ",
        "colab_type": "code",
        "colab": {}
      },
      "source": [
        "# More Work Here"
      ],
      "execution_count": 0,
      "outputs": []
    }
  ]
}