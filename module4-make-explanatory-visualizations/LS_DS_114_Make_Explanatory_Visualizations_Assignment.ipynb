{
  "nbformat": 4,
  "nbformat_minor": 0,
  "metadata": {
    "colab": {
      "name": "LS_DS_114_Make_Explanatory_Visualizations_Assignment.ipynb",
      "provenance": [],
      "collapsed_sections": [],
      "include_colab_link": true
    },
    "language_info": {
      "codemirror_mode": {
        "name": "ipython",
        "version": 3
      },
      "file_extension": ".py",
      "mimetype": "text/x-python",
      "name": "python",
      "nbconvert_exporter": "python",
      "pygments_lexer": "ipython3",
      "version": "3.7.1"
    },
    "kernelspec": {
      "display_name": "Python 3",
      "language": "python",
      "name": "python3"
    }
  },
  "cells": [
    {
      "cell_type": "markdown",
      "metadata": {
        "id": "view-in-github",
        "colab_type": "text"
      },
      "source": [
        "<a href=\"https://colab.research.google.com/github/vjmiyagi/DS-Unit-1-Sprint-1-Data-Wrangling-and-Storytelling/blob/master/module4-make-explanatory-visualizations/LS_DS_114_Make_Explanatory_Visualizations_Assignment.ipynb\" target=\"_parent\"><img src=\"https://colab.research.google.com/assets/colab-badge.svg\" alt=\"Open In Colab\"/></a>"
      ]
    },
    {
      "cell_type": "markdown",
      "metadata": {
        "colab_type": "text",
        "id": "NMEswXWh9mqw"
      },
      "source": [
        "Lambda School Data Science\n",
        "\n",
        "*Unit 1, Sprint 1, Module 4*\n",
        "\n",
        "---\n",
        "\n",
        "# ASSIGNMENT\n",
        "\n",
        "### 1) Replicate the lesson code. I recommend that you [do not copy-paste](https://docs.google.com/document/d/1ubOw9B3Hfip27hF2ZFnW3a3z9xAgrUDRReOEo-FHCVs/edit).\n",
        "\n",
        "Get caught up to where we got our example in class and then try and take things further. How close to \"pixel perfect\" can you make the lecture graph?\n",
        "\n",
        "Once you have something that you're proud of, share your graph in the cohort channel and move on to the second exercise.\n",
        "\n",
        "### 2) Reproduce another example from [FiveThityEight's shared data repository](https://data.fivethirtyeight.com/).\n",
        "\n",
        "**WARNING**: There are a lot of very custom graphs and tables at the above link. I **highly** recommend not trying to reproduce any that look like a table of values or something really different from the graph types that we are already familiar with. Search through the posts until you find a graph type that you are more or less familiar with: histogram, bar chart, stacked bar chart, line chart, [seaborn relplot](https://seaborn.pydata.org/generated/seaborn.relplot.html), etc. Recreating some of the graphics that 538 uses would be a lot easier in Adobe photoshop/illustrator than with matplotlib. \n",
        "\n",
        "- If you put in some time to find a graph that looks \"easy\" to replicate you'll probably find that it's not as easy as you thought. \n",
        "\n",
        "- If you start with a graph that looks hard to replicate you'll probably run up against a brick wall and be disappointed with your afternoon.\n",
        "\n",
        "\n",
        "\n",
        "\n",
        "\n",
        "\n",
        "\n",
        "\n",
        "\n",
        "\n"
      ]
    },
    {
      "cell_type": "code",
      "metadata": {
        "id": "7SY1ZHawyZvz",
        "colab_type": "code",
        "outputId": "9e7e12a1-36d2-46ca-c7c4-5db34bc2ac8f",
        "colab": {
          "base_uri": "https://localhost:8080/",
          "height": 354
        }
      },
      "source": [
        "# Your Work Here\n",
        "\n",
        "from IPython.display import display, Image\n",
        "\n",
        "url = 'https://fivethirtyeight.com/wp-content/uploads/2017/09/mehtahickey-inconvenient-0830-1.png'\n",
        "example = Image(url=url, width=400)\n",
        "\n",
        "display(example)"
      ],
      "execution_count": 3,
      "outputs": [
        {
          "output_type": "display_data",
          "data": {
            "text/html": [
              "<img src=\"https://fivethirtyeight.com/wp-content/uploads/2017/09/mehtahickey-inconvenient-0830-1.png\" width=\"400\"/>"
            ],
            "text/plain": [
              "<IPython.core.display.Image object>"
            ]
          },
          "metadata": {
            "tags": []
          }
        }
      ]
    },
    {
      "cell_type": "code",
      "metadata": {
        "id": "SmPInWbT18_6",
        "colab_type": "code",
        "outputId": "a9a28f2d-e557-4cb7-aa84-f870ef0649fd",
        "colab": {
          "base_uri": "https://localhost:8080/",
          "height": 268
        }
      },
      "source": [
        "%matplotlib inline\n",
        "import matplotlib.pyplot as plt\n",
        "import numpy as np\n",
        "import pandas as pd\n",
        "\n",
        "\n",
        "# plt.style.use('fivethirtyeight')\n",
        "\n",
        "fake = pd.Series([38, 3, 2, 1, 2, 4, 6, 5, 5, 33], \n",
        "                 index=range(1,11))\n",
        "\n",
        "fake.plot.bar(color='C1', width=0.9);"
      ],
      "execution_count": 4,
      "outputs": [
        {
          "output_type": "display_data",
          "data": {
            "image/png": "[encoded data removed]",
            "text/plain": [
              "<Figure size 432x288 with 1 Axes>"
            ]
          },
          "metadata": {
            "tags": []
          }
        }
      ]
    },
    {
      "cell_type": "code",
      "metadata": {
        "id": "UMk41c-4191m",
        "colab_type": "code",
        "outputId": "d97f0c36-928b-43e4-b2cb-06271d645a5d",
        "colab": {
          "base_uri": "https://localhost:8080/",
          "height": 286
        }
      },
      "source": [
        "fake2 = pd.Series(\n",
        "    [1, 1, 1, 1, 1, 1, 1, 1, 1, 1, 1, 1, 1, 1, 1, 1, 1, 1, 1, 1, 1, 1, 1, 1, 1, 1,\n",
        "     2, 2, 2,\n",
        "     3, 3, 3,\n",
        "     4, 4, \n",
        "     5, 5, 5, \n",
        "     6, 6, 6, 6, \n",
        "     7, 7, 7, 7, 7, \n",
        "     8, 8, 8, 8,\n",
        "     9, 9, 9, 9,\n",
        "     10, 10, 10, 10, 10, 10, 10, 10, 10, 10, 10, 10, 10, 10, 10, 10, 10, 10, 10])\n",
        "\n",
        "fake2.value_counts().sort_index().plot.bar(color='C1', width=0.9)"
      ],
      "execution_count": 5,
      "outputs": [
        {
          "output_type": "execute_result",
          "data": {
            "text/plain": [
              "<matplotlib.axes._subplots.AxesSubplot at 0x7f2f87a69898>"
            ]
          },
          "metadata": {
            "tags": []
          },
          "execution_count": 5
        },
        {
          "output_type": "display_data",
          "data": {
            "image/png": "[encoded data removed]",
            "text/plain": [
              "<Figure size 432x288 with 1 Axes>"
            ]
          },
          "metadata": {
            "tags": []
          }
        }
      ]
    },
    {
      "cell_type": "code",
      "metadata": {
        "id": "98BGBtv7194s",
        "colab_type": "code",
        "outputId": "1a3767ba-c352-425d-f365-3e320d520991",
        "colab": {
          "base_uri": "https://localhost:8080/",
          "height": 316
        }
      },
      "source": [
        "# Recreate the 538 Graph - Figure, Axes Syntax\n",
        "\n",
        "fig, ax = plt.subplots()\n",
        "\n",
        "plt.style.use('fivethirtyeight')\n",
        "\n",
        "# Add bars\n",
        "ax.bar(height=fake, x=range(1,11,1), color='#ED713A', width=.9)\n",
        "\n",
        "# Set Title\n",
        "ax.set_title(\"'An Inconvenient Sequel: Truth to Power' is divisive\", x=.35, \n",
        "             y=1.1, fontsize=12, fontweight=\"bold\")\n",
        "\n",
        "# Set Subtitle\n",
        "ax.text(s=\"IMDb ratings for the film as of Aug. 29\", y=42, x=-1.2, fontsize=12)\n",
        "\n",
        "# Set xticks\n",
        "ax.set_xticks(range(1,11,1))\n",
        "\n",
        "# Set yticks\n",
        "ax.set_yticks(range(0,50,10))\n",
        "\n",
        "# Set yticks labels\n",
        "ax.set_yticklabels(['0', '10', '20', '30', '40%'], color=\"gray\", fontsize=8)\n",
        "\n",
        "# Set x label\n",
        "ax.set_xlabel(\"Rating\", color='black', fontsize=9, fontweight='bold')\n",
        "\n",
        "# Set y label\n",
        "ax.set_ylabel(\"Percent of total votes\", color='black', fontsize=10, \n",
        "              fontweight='bold')\n",
        "\n",
        "# Set Figure background color\n",
        "fig.set_facecolor(color=\"None\")\n",
        "\n",
        "# Set the Axes background color\n",
        "ax.set_facecolor(color=\"None\")\n",
        "\n",
        "# Turn off the spine\n",
        "ax.spines['left'].set_visible(False)\n",
        "ax.spines['right'].set_visible(False)\n",
        "ax.spines['top'].set_visible(False)\n",
        "\n",
        "plt.show()\n"
      ],
      "execution_count": 6,
      "outputs": [
        {
          "output_type": "display_data",
          "data": {
            "image/png": "[encoded data removed]",
            "text/plain": [
              "<Figure size 432x288 with 1 Axes>"
            ]
          },
          "metadata": {
            "tags": []
          }
        }
      ]
    },
    {
      "cell_type": "code",
      "metadata": {
        "id": "lWIbqbbc198K",
        "colab_type": "code",
        "outputId": "57dc438b-89c0-474f-9892-1356e1a35cb7",
        "colab": {
          "base_uri": "https://localhost:8080/",
          "height": 354
        }
      },
      "source": [
        "display(example)"
      ],
      "execution_count": 7,
      "outputs": [
        {
          "output_type": "display_data",
          "data": {
            "text/html": [
              "<img src=\"https://fivethirtyeight.com/wp-content/uploads/2017/09/mehtahickey-inconvenient-0830-1.png\" width=\"400\"/>"
            ],
            "text/plain": [
              "<IPython.core.display.Image object>"
            ]
          },
          "metadata": {
            "tags": []
          }
        }
      ]
    },
    {
      "cell_type": "code",
      "metadata": {
        "id": "IpdvAa7g19_e",
        "colab_type": "code",
        "outputId": "3a8231db-7c9e-46c8-f1a4-3909df20d389",
        "colab": {
          "base_uri": "https://localhost:8080/",
          "height": 370
        }
      },
      "source": [
        "# ActBlue graph to reproduce\n",
        "\n",
        "url = 'https://fivethirtyeight.com/wp-content/uploads/2018/10/actblue-1.png?w=1150'\n",
        "example2 = Image(url=url, width=400)\n",
        "\n",
        "display(example2)"
      ],
      "execution_count": 8,
      "outputs": [
        {
          "output_type": "display_data",
          "data": {
            "text/html": [
              "<img src=\"https://fivethirtyeight.com/wp-content/uploads/2018/10/actblue-1.png?w=1150\" width=\"400\"/>"
            ],
            "text/plain": [
              "<IPython.core.display.Image object>"
            ]
          },
          "metadata": {
            "tags": []
          }
        }
      ]
    },
    {
      "cell_type": "code",
      "metadata": {
        "id": "JRF_H7He1-Dc",
        "colab_type": "code",
        "colab": {}
      },
      "source": [
        "# Actual Data From 538\n",
        "# Cycle   2014\n",
        "# Count   3361213      \n",
        "# Amount  113951310.78\n",
        "\n",
        "# Cycle    2016\n",
        "# Count    6747187\n",
        "# Amount   222107175.60\n",
        "\n",
        "# Cycle     2018\n",
        "# Count     15272992\n",
        "# Amount    563685031.21\n",
        "\n",
        "years = pd.Series([2014, 2016, 2018])\n",
        "realcounts = pd.Series([3361213, 6747187, 15272992])\n",
        "realamounts = pd.Series([113951310.78, 222107175.60, 563685031.2])\n",
        "counts = pd.Series([3.36, 6.747, 15.272])\n",
        "amounts = pd.Series([(3.42), (6.669), (16.927)])\n"
      ],
      "execution_count": 0,
      "outputs": []
    },
    {
      "cell_type": "code",
      "metadata": {
        "id": "wjBxum0r1-NN",
        "colab_type": "code",
        "outputId": "f2fa649c-11f7-462d-ab37-92b1dee84251",
        "colab": {
          "base_uri": "https://localhost:8080/",
          "height": 256
        }
      },
      "source": [
        "# Recreate the 538 graph\n",
        "\n",
        "xfig = 6.1\n",
        "yfig = 3.4\n",
        "\n",
        "fig, axs = plt.subplots(1, 2, figsize=(xfig, yfig))\n",
        "\n",
        "plt.style.use('fivethirtyeight')\n",
        "\n",
        "labels = ['          2014', \"'16\",\"'18\"]\n",
        "x = np.arange(len(labels))\n",
        "y = 15\n",
        "# width = 1\n",
        "\n",
        "# Add bars\n",
        "\n",
        "axs[0].bar(x, counts, color='#A4DEAD')\n",
        "axs[1].bar(x, amounts, color='#2A83B9')\n",
        "\n",
        "axs[0].set_xticks(x)\n",
        "# axs[1].set_yticks(y)\n",
        "\n",
        "\n",
        "axs[0].set_ylim(0,20)\n",
        "axs[1].set_ylim(0,15)\n",
        "axs[0].set_xlim(0,3)\n",
        "axs[1].set_xlim(0,3)\n",
        "\n",
        "axs[0].set_xticklabels(labels, fontsize=9)\n",
        "axs[1].set_xticklabels(labels, fontsize=9)\n",
        "axs[0].set_yticklabels(['0', '5', '10', '15m'], color=\"gray\", fontsize=8)\n",
        "axs[1].set_yticklabels(['0', '250', '500m'], color=\"gray\", fontsize=8)\n",
        "fig.tight_layout()\n",
        "\n",
        "fig.suptitle('Graph')\n",
        "# fig, axs = plt.subplots(1, 2, figsize=( 6, 6))\n",
        "\n",
        "plt.show()"
      ],
      "execution_count": 29,
      "outputs": [
        {
          "output_type": "display_data",
          "data": {
            "image/png": "[encoded data removed]",
            "text/plain": [
              "<Figure size 439.2x244.8 with 2 Axes>"
            ]
          },
          "metadata": {
            "tags": []
          }
        }
      ]
    },
    {
      "cell_type": "code",
      "metadata": {
        "id": "HOREJPem1-Wn",
        "colab_type": "code",
        "colab": {
          "base_uri": "https://localhost:8080/",
          "height": 200
        },
        "outputId": "bf7d6101-6118-4092-8585-cc228091131c"
      },
      "source": [
        "fig, axs = plt.subplots(1, 2, figsize=( 6, 2.5))\n",
        "\n",
        "plt.show()\n"
      ],
      "execution_count": 18,
      "outputs": [
        {
          "output_type": "display_data",
          "data": {
            "image/png": "[encoded data removed]",
            "text/plain": [
              "<Figure size 432x180 with 2 Axes>"
            ]
          },
          "metadata": {
            "tags": []
          }
        }
      ]
    },
    {
      "cell_type": "code",
      "metadata": {
        "id": "WilNYIEA1-dM",
        "colab_type": "code",
        "colab": {}
      },
      "source": [
        ""
      ],
      "execution_count": 0,
      "outputs": []
    },
    {
      "cell_type": "code",
      "metadata": {
        "id": "D0J5jBej1-p8",
        "colab_type": "code",
        "colab": {}
      },
      "source": [
        ""
      ],
      "execution_count": 0,
      "outputs": []
    },
    {
      "cell_type": "code",
      "metadata": {
        "id": "NPsgx70D1-ts",
        "colab_type": "code",
        "colab": {}
      },
      "source": [
        ""
      ],
      "execution_count": 0,
      "outputs": []
    },
    {
      "cell_type": "code",
      "metadata": {
        "id": "jxvIGT981-a7",
        "colab_type": "code",
        "colab": {}
      },
      "source": [
        ""
      ],
      "execution_count": 0,
      "outputs": []
    },
    {
      "cell_type": "code",
      "metadata": {
        "id": "X3JwmrW51-Ui",
        "colab_type": "code",
        "colab": {}
      },
      "source": [
        ""
      ],
      "execution_count": 0,
      "outputs": []
    },
    {
      "cell_type": "code",
      "metadata": {
        "id": "q5hrkUMQ1-K7",
        "colab_type": "code",
        "colab": {}
      },
      "source": [
        ""
      ],
      "execution_count": 0,
      "outputs": []
    },
    {
      "cell_type": "markdown",
      "metadata": {
        "id": "0wSrBzmJyWaV",
        "colab_type": "text"
      },
      "source": [
        "# STRETCH OPTIONS\n",
        "\n",
        "### 1) Reproduce one of the following using the matplotlib or seaborn libraries:\n",
        "\n",
        "- [thanksgiving-2015](https://fivethirtyeight.com/features/heres-what-your-part-of-america-eats-on-thanksgiving/) \n",
        "- [candy-power-ranking](https://fivethirtyeight.com/features/the-ultimate-halloween-candy-power-ranking/) \n",
        "- or another example of your choice!\n",
        "\n",
        "### 2) Make more charts!\n",
        "\n",
        "Choose a chart you want to make, from [Visual Vocabulary - Vega Edition](http://ft.com/vocabulary).\n",
        "\n",
        "Find the chart in an example gallery of a Python data visualization library:\n",
        "- [Seaborn](http://seaborn.pydata.org/examples/index.html)\n",
        "- [Altair](https://altair-viz.github.io/gallery/index.html)\n",
        "- [Matplotlib](https://matplotlib.org/gallery.html)\n",
        "- [Pandas](https://pandas.pydata.org/pandas-docs/stable/visualization.html)\n",
        "\n",
        "Reproduce the chart. [Optionally, try the \"Ben Franklin Method.\"](https://docs.google.com/document/d/1ubOw9B3Hfip27hF2ZFnW3a3z9xAgrUDRReOEo-FHCVs/edit) If you want, experiment and make changes.\n",
        "\n",
        "Take notes. Consider sharing your work with your cohort!"
      ]
    },
    {
      "cell_type": "code",
      "metadata": {
        "id": "dRJkKftiy5BJ",
        "colab_type": "code",
        "colab": {}
      },
      "source": [
        "# More Work Here"
      ],
      "execution_count": 0,
      "outputs": []
    }
  ]
}