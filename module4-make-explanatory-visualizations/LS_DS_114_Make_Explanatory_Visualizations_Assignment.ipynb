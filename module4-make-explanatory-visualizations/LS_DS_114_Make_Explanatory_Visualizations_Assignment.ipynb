{
  "nbformat": 4,
  "nbformat_minor": 0,
  "metadata": {
    "colab": {
      "name": "LS_DS_114_Make_Explanatory_Visualizations_Assignment.ipynb",
      "provenance": [],
      "collapsed_sections": []
    },
    "language_info": {
      "codemirror_mode": {
        "name": "ipython",
        "version": 3
      },
      "file_extension": ".py",
      "mimetype": "text/x-python",
      "name": "python",
      "nbconvert_exporter": "python",
      "pygments_lexer": "ipython3",
      "version": "3.7.1"
    },
    "kernelspec": {
      "display_name": "Python 3",
      "language": "python",
      "name": "python3"
    }
  },
  "cells": [
    {
      "cell_type": "markdown",
      "metadata": {
        "id": "-8-trVo__vRE"
      },
      "source": [
        "Lambda School Data Science\n",
        "\n",
        "*Unit 1, Sprint 1, Module 4*\n",
        "\n",
        "---\n",
        "\n",
        "# Make Explanatory Visualizations\n",
        "\n",
        "### Objectives\n",
        "\n",
        "- Student can identify the appropriate visualization type for a particular variable type and research question \n",
        "- Student can use Matplotlib to visualize distributions and relationships with continuous and discrete variables\n",
        "- Student can add emphasis and annotations to transform visualizations from exploratory to explanatory\n",
        "- Student can remove clutter from visualizations\n",
        "- Student can identify misleading visualizations and how to fix them\n",
        "\n"
      ]
    },
    {
      "cell_type": "markdown",
      "metadata": {
        "id": "8LPohEc5sv7J"
      },
      "source": [
        "Import the Titanic dataset and print the first 5 rows."
      ]
    },
    {
      "cell_type": "code",
      "metadata": {
        "id": "ihNRKzhzs7_C",
        "outputId": "0c0cbfd3-300c-4162-d113-859575eb1d5a",
        "colab": {
          "base_uri": "https://localhost:8080/",
          "height": 206
        }
      },
      "source": [
        "\n",
        "import pandas as pd\n",
        "\n",
        "# Load the Titanic dataset from its URL:\n",
        "Titanic = pd.read_csv('https://raw.githubusercontent.com/LambdaSchool/data-science-practice-datasets/main/unit_1/Titanic/Titanic.csv')\n",
        "\n",
        "Titanic.head()"
      ],
      "execution_count": 2,
      "outputs": [
        {
          "output_type": "execute_result",
          "data": {
            "text/html": [
              "<div>\n",
              "<style scoped>\n",
              "    .dataframe tbody tr th:only-of-type {\n",
              "        vertical-align: middle;\n",
              "    }\n",
              "\n",
              "    .dataframe tbody tr th {\n",
              "        vertical-align: top;\n",
              "    }\n",
              "\n",
              "    .dataframe thead th {\n",
              "        text-align: right;\n",
              "    }\n",
              "</style>\n",
              "<table border=\"1\" class=\"dataframe\">\n",
              "  <thead>\n",
              "    <tr style=\"text-align: right;\">\n",
              "      <th></th>\n",
              "      <th>Survived</th>\n",
              "      <th>Pclass</th>\n",
              "      <th>Name</th>\n",
              "      <th>Sex</th>\n",
              "      <th>Age</th>\n",
              "      <th>Siblings/Spouses_Aboard</th>\n",
              "      <th>Parents/Children_Aboard</th>\n",
              "      <th>Fare</th>\n",
              "    </tr>\n",
              "  </thead>\n",
              "  <tbody>\n",
              "    <tr>\n",
              "      <th>0</th>\n",
              "      <td>0</td>\n",
              "      <td>3</td>\n",
              "      <td>Mr. Owen Harris Braund</td>\n",
              "      <td>male</td>\n",
              "      <td>22.0</td>\n",
              "      <td>1</td>\n",
              "      <td>0</td>\n",
              "      <td>7.2500</td>\n",
              "    </tr>\n",
              "    <tr>\n",
              "      <th>1</th>\n",
              "      <td>1</td>\n",
              "      <td>1</td>\n",
              "      <td>Mrs. John Bradley (Florence Briggs Thayer) Cum...</td>\n",
              "      <td>female</td>\n",
              "      <td>38.0</td>\n",
              "      <td>1</td>\n",
              "      <td>0</td>\n",
              "      <td>71.2833</td>\n",
              "    </tr>\n",
              "    <tr>\n",
              "      <th>2</th>\n",
              "      <td>1</td>\n",
              "      <td>3</td>\n",
              "      <td>Miss. Laina Heikkinen</td>\n",
              "      <td>female</td>\n",
              "      <td>26.0</td>\n",
              "      <td>0</td>\n",
              "      <td>0</td>\n",
              "      <td>7.9250</td>\n",
              "    </tr>\n",
              "    <tr>\n",
              "      <th>3</th>\n",
              "      <td>1</td>\n",
              "      <td>1</td>\n",
              "      <td>Mrs. Jacques Heath (Lily May Peel) Futrelle</td>\n",
              "      <td>female</td>\n",
              "      <td>35.0</td>\n",
              "      <td>1</td>\n",
              "      <td>0</td>\n",
              "      <td>53.1000</td>\n",
              "    </tr>\n",
              "    <tr>\n",
              "      <th>4</th>\n",
              "      <td>0</td>\n",
              "      <td>3</td>\n",
              "      <td>Mr. William Henry Allen</td>\n",
              "      <td>male</td>\n",
              "      <td>35.0</td>\n",
              "      <td>0</td>\n",
              "      <td>0</td>\n",
              "      <td>8.0500</td>\n",
              "    </tr>\n",
              "  </tbody>\n",
              "</table>\n",
              "</div>"
            ],
            "text/plain": [
              "   Survived  Pclass  ... Parents/Children_Aboard     Fare\n",
              "0         0       3  ...                       0   7.2500\n",
              "1         1       1  ...                       0  71.2833\n",
              "2         1       3  ...                       0   7.9250\n",
              "3         1       1  ...                       0  53.1000\n",
              "4         0       3  ...                       0   8.0500\n",
              "\n",
              "[5 rows x 8 columns]"
            ]
          },
          "metadata": {
            "tags": []
          },
          "execution_count": 2
        }
      ]
    },
    {
      "cell_type": "code",
      "metadata": {
        "id": "FMIVZiuf90qw"
      },
      "source": [
        "### YOUR CODE HERE \n",
        "import matplotlib.pyplot as plt\n"
      ],
      "execution_count": 3,
      "outputs": []
    },
    {
      "cell_type": "markdown",
      "metadata": {
        "id": "R03kMCWNumQQ"
      },
      "source": [
        "###1) What are the appropriate visualizations to answer the question \"What was the typical fare paid for passage on the Titanic?\"\n",
        "\n"
      ]
    },
    {
      "cell_type": "markdown",
      "metadata": {
        "id": "zuT6F0hpVbsG"
      },
      "source": [
        "Histograms and Box Plots"
      ]
    },
    {
      "cell_type": "markdown",
      "metadata": {
        "id": "JnHwnp5BVe6r"
      },
      "source": [
        "###2) Create the visualizations you selected in 2).  "
      ]
    },
    {
      "cell_type": "code",
      "metadata": {
        "id": "4H948LYYwa0p",
        "outputId": "61f1572b-69c2-4d46-f560-8faecfe20224",
        "colab": {
          "base_uri": "https://localhost:8080/",
          "height": 295
        }
      },
      "source": [
        "### YOUR CODE HERE \n",
        "plt.hist(Titanic['Fare'])\n",
        "\n",
        "plt.xlabel('Fare Paid')\n",
        "plt.ylabel('Frequency')\n",
        "plt.title('Fares Paid by Titanic Passengers')\n",
        "plt.show()"
      ],
      "execution_count": 4,
      "outputs": [
        {
          "output_type": "display_data",
          "data": {
            "image/png": "[encoded data removed]",
            "text/plain": [
              "<Figure size 432x288 with 1 Axes>"
            ]
          },
          "metadata": {
            "tags": [],
            "needs_background": "light"
          }
        }
      ]
    },
    {
      "cell_type": "code",
      "metadata": {
        "id": "lZwgBxx-HZgD",
        "outputId": "7f628252-0dad-4419-94b8-0adbd1d956b4",
        "colab": {
          "base_uri": "https://localhost:8080/",
          "height": 265
        }
      },
      "source": [
        "plt.boxplot(Titanic['Fare']);"
      ],
      "execution_count": 5,
      "outputs": [
        {
          "output_type": "display_data",
          "data": {
            "image/png": "[encoded data removed]",
            "text/plain": [
              "<Figure size 432x288 with 1 Axes>"
            ]
          },
          "metadata": {
            "tags": [],
            "needs_background": "light"
          }
        }
      ]
    },
    {
      "cell_type": "markdown",
      "metadata": {
        "id": "1M4_OYgp00pA"
      },
      "source": [
        "###3) Describe your results in a sentence or two."
      ]
    },
    {
      "cell_type": "markdown",
      "metadata": {
        "id": "bXtZ3QkIWAGQ"
      },
      "source": [
        "Unimodal and Positively skewed with many outliers"
      ]
    },
    {
      "cell_type": "markdown",
      "metadata": {
        "id": "59jSon6C1MG2"
      },
      "source": [
        "###4) Plot a histogram of fare paid by Titanic passengers by sex to see if there was a difference in fare paid between male and female passengers.  "
      ]
    },
    {
      "cell_type": "code",
      "metadata": {
        "id": "6mvEpMhU3Rcl",
        "outputId": "c6ef4009-4993-47d9-9e35-4643cf407427",
        "colab": {
          "base_uri": "https://localhost:8080/",
          "height": 295
        }
      },
      "source": [
        "### YOUR CODE HERE \n",
        "Titanic_M = Titanic[Titanic['Sex'] == 'male']\n",
        "Titanic_F = Titanic[Titanic['Sex'] == 'female']\n",
        "\n",
        "plt.hist(Titanic_M['Fare'], label = 'Males')\n",
        "plt.hist(Titanic_F['Fare'], label = 'Females')\n",
        "\n",
        "plt.xlabel('Fare paid')\n",
        "plt.ylabel('Frequency')\n",
        "plt.title('Fare Paid by Titanic Passengers')\n",
        "plt.legend(loc='upper right')\n",
        "\n",
        "plt.show()"
      ],
      "execution_count": 6,
      "outputs": [
        {
          "output_type": "display_data",
          "data": {
            "image/png": "[encoded data removed]",
            "text/plain": [
              "<Figure size 432x288 with 1 Axes>"
            ]
          },
          "metadata": {
            "tags": [],
            "needs_background": "light"
          }
        }
      ]
    },
    {
      "cell_type": "code",
      "metadata": {
        "id": "nRCh59oCMDiU",
        "outputId": "a507d971-450f-40b1-ef17-633b2a56d506",
        "colab": {
          "base_uri": "https://localhost:8080/",
          "height": 265
        }
      },
      "source": [
        "plt.hist(Titanic_M['Fare']);"
      ],
      "execution_count": 7,
      "outputs": [
        {
          "output_type": "display_data",
          "data": {
            "image/png": "[encoded data removed]",
            "text/plain": [
              "<Figure size 432x288 with 1 Axes>"
            ]
          },
          "metadata": {
            "tags": [],
            "needs_background": "light"
          }
        }
      ]
    },
    {
      "cell_type": "markdown",
      "metadata": {
        "id": "dpVOCB7HWmae"
      },
      "source": [
        "###5) Describe the difference in distribution of fare paid between male and female passengers."
      ]
    },
    {
      "cell_type": "markdown",
      "metadata": {
        "id": "UnB3VZxo4uHT"
      },
      "source": [
        "Looks like the distribution in fare paid is the same for both male and female, but there were a lot more male passengers who paid less than $100"
      ]
    },
    {
      "cell_type": "markdown",
      "metadata": {
        "id": "GAKb2bwr5I6l"
      },
      "source": [
        "###6) Make a bar plot to show the frequency of individuals in each passenger class."
      ]
    },
    {
      "cell_type": "code",
      "metadata": {
        "id": "R3xU-DCK5PRj",
        "outputId": "b43f3fcc-052e-48e7-c81b-7e9fd289b1af",
        "colab": {
          "base_uri": "https://localhost:8080/",
          "height": 387
        }
      },
      "source": [
        "### YOUR CODE HERE \n",
        "print(pd.crosstab(index=Titanic['Pclass'], columns=\"count\"))\n",
        "\n",
        "df = pd.DataFrame({'lab':[1,2,3], 'val':[216,184,487]})\n",
        "\n",
        "ax = df.plot.bar( x = 'lab', y = 'val', rot = 0)\n",
        "\n",
        "plt.xlabel('Passenger Class')\n",
        "plt.ylabel('Frequency')\n",
        "plt.title('Titanic Passenger Class')\n",
        "\n",
        "plt.show()"
      ],
      "execution_count": 19,
      "outputs": [
        {
          "output_type": "stream",
          "text": [
            "col_0   count\n",
            "Pclass       \n",
            "1         216\n",
            "2         184\n",
            "3         487\n"
          ],
          "name": "stdout"
        },
        {
          "output_type": "display_data",
          "data": {
            "image/png": "[encoded data removed]",
            "text/plain": [
              "<Figure size 432x288 with 1 Axes>"
            ]
          },
          "metadata": {
            "tags": [],
            "needs_background": "light"
          }
        }
      ]
    },
    {
      "cell_type": "markdown",
      "metadata": {
        "id": "MbSsjvfTXTPz"
      },
      "source": [
        "###7) Summarize your results from 6)"
      ]
    },
    {
      "cell_type": "markdown",
      "metadata": {
        "id": "wNVCsFFtXZhI"
      },
      "source": [
        "Most passengers were in 3rd class, while the fewest amount of passengers were in 2nd class."
      ]
    },
    {
      "cell_type": "markdown",
      "metadata": {
        "id": "zl0yUdzWXgUz"
      },
      "source": [
        "###8) Create a graphical summary for the number of parents/ children on board for each passenger."
      ]
    },
    {
      "cell_type": "code",
      "metadata": {
        "id": "K18MnbPUX4gV",
        "outputId": "e0a27a37-853c-40be-a6c9-05fc06a4847f",
        "colab": {
          "base_uri": "https://localhost:8080/",
          "height": 429
        }
      },
      "source": [
        "### YOUR CODE HERE \n",
        "print(pd.crosstab(index=Titanic['Parents/Children_Aboard'], columns=\"count\"))\n",
        "\n",
        "labels = 'Traveled Alone','Traveled with Family'\n",
        "sizes = 674, sum([118,80,5,4,5,1])\n",
        "\n",
        "fig1, ax1 = plt.subplots()\n",
        "ax1.pie(sizes, labels=labels, autopct='%1.1f%%', startangle=90)\n",
        "ax1.axis('equal')\n",
        "\n",
        "plt.title('Titanic Passengers')\n",
        "\n",
        "plt.show()"
      ],
      "execution_count": 24,
      "outputs": [
        {
          "output_type": "stream",
          "text": [
            "col_0                    count\n",
            "Parents/Children_Aboard       \n",
            "0                          674\n",
            "1                          118\n",
            "2                           80\n",
            "3                            5\n",
            "4                            4\n",
            "5                            5\n",
            "6                            1\n"
          ],
          "name": "stdout"
        },
        {
          "output_type": "display_data",
          "data": {
            "image/png": "[encoded data removed]",
            "text/plain": [
              "<Figure size 432x288 with 1 Axes>"
            ]
          },
          "metadata": {
            "tags": []
          }
        }
      ]
    },
    {
      "cell_type": "markdown",
      "metadata": {
        "id": "jxo8trtyYL2I"
      },
      "source": [
        "###9) Summarize your results from 8).  Did most individuals travel alone or with family?"
      ]
    },
    {
      "cell_type": "markdown",
      "metadata": {
        "id": "10pB7v8wYVit"
      },
      "source": [
        "Most titanic passengers traveled alone"
      ]
    },
    {
      "cell_type": "markdown",
      "metadata": {
        "id": "lpaeN9_-1ul6"
      },
      "source": [
        "###In 10) - 14)  We will use figure, axes syntax to plot passenger survival by whether the passenger was a child or an adult. "
      ]
    },
    {
      "cell_type": "markdown",
      "metadata": {
        "id": "KC4hmwGNZBo5"
      },
      "source": [
        "###10) Create a variable to categorize the passenger as a child (under age 18) or adult (18 years or older)."
      ]
    },
    {
      "cell_type": "code",
      "metadata": {
        "id": "Vnmr1IXRZg9V",
        "outputId": "6deb7219-31eb-4318-8dd4-56069f3526d8",
        "colab": {
          "base_uri": "https://localhost:8080/",
          "height": 206
        }
      },
      "source": [
        "### YOUR CODE HERE \n",
        "Titanic.loc[Titanic['Age'] < 18, 'Child'] = 'Not_Adult'\n",
        "Titanic.loc[Titanic['Age'] >= 18, 'Child'] = 'Adult'\n",
        "\n",
        "Titanic.head()"
      ],
      "execution_count": 28,
      "outputs": [
        {
          "output_type": "execute_result",
          "data": {
            "text/html": [
              "<div>\n",
              "<style scoped>\n",
              "    .dataframe tbody tr th:only-of-type {\n",
              "        vertical-align: middle;\n",
              "    }\n",
              "\n",
              "    .dataframe tbody tr th {\n",
              "        vertical-align: top;\n",
              "    }\n",
              "\n",
              "    .dataframe thead th {\n",
              "        text-align: right;\n",
              "    }\n",
              "</style>\n",
              "<table border=\"1\" class=\"dataframe\">\n",
              "  <thead>\n",
              "    <tr style=\"text-align: right;\">\n",
              "      <th></th>\n",
              "      <th>Survived</th>\n",
              "      <th>Pclass</th>\n",
              "      <th>Name</th>\n",
              "      <th>Sex</th>\n",
              "      <th>Age</th>\n",
              "      <th>Siblings/Spouses_Aboard</th>\n",
              "      <th>Parents/Children_Aboard</th>\n",
              "      <th>Fare</th>\n",
              "      <th>Child</th>\n",
              "    </tr>\n",
              "  </thead>\n",
              "  <tbody>\n",
              "    <tr>\n",
              "      <th>0</th>\n",
              "      <td>0</td>\n",
              "      <td>3</td>\n",
              "      <td>Mr. Owen Harris Braund</td>\n",
              "      <td>male</td>\n",
              "      <td>22.0</td>\n",
              "      <td>1</td>\n",
              "      <td>0</td>\n",
              "      <td>7.2500</td>\n",
              "      <td>Adult</td>\n",
              "    </tr>\n",
              "    <tr>\n",
              "      <th>1</th>\n",
              "      <td>1</td>\n",
              "      <td>1</td>\n",
              "      <td>Mrs. John Bradley (Florence Briggs Thayer) Cum...</td>\n",
              "      <td>female</td>\n",
              "      <td>38.0</td>\n",
              "      <td>1</td>\n",
              "      <td>0</td>\n",
              "      <td>71.2833</td>\n",
              "      <td>Adult</td>\n",
              "    </tr>\n",
              "    <tr>\n",
              "      <th>2</th>\n",
              "      <td>1</td>\n",
              "      <td>3</td>\n",
              "      <td>Miss. Laina Heikkinen</td>\n",
              "      <td>female</td>\n",
              "      <td>26.0</td>\n",
              "      <td>0</td>\n",
              "      <td>0</td>\n",
              "      <td>7.9250</td>\n",
              "      <td>Adult</td>\n",
              "    </tr>\n",
              "    <tr>\n",
              "      <th>3</th>\n",
              "      <td>1</td>\n",
              "      <td>1</td>\n",
              "      <td>Mrs. Jacques Heath (Lily May Peel) Futrelle</td>\n",
              "      <td>female</td>\n",
              "      <td>35.0</td>\n",
              "      <td>1</td>\n",
              "      <td>0</td>\n",
              "      <td>53.1000</td>\n",
              "      <td>Adult</td>\n",
              "    </tr>\n",
              "    <tr>\n",
              "      <th>4</th>\n",
              "      <td>0</td>\n",
              "      <td>3</td>\n",
              "      <td>Mr. William Henry Allen</td>\n",
              "      <td>male</td>\n",
              "      <td>35.0</td>\n",
              "      <td>0</td>\n",
              "      <td>0</td>\n",
              "      <td>8.0500</td>\n",
              "      <td>Adult</td>\n",
              "    </tr>\n",
              "  </tbody>\n",
              "</table>\n",
              "</div>"
            ],
            "text/plain": [
              "   Survived  Pclass  ...     Fare  Child\n",
              "0         0       3  ...   7.2500  Adult\n",
              "1         1       1  ...  71.2833  Adult\n",
              "2         1       3  ...   7.9250  Adult\n",
              "3         1       1  ...  53.1000  Adult\n",
              "4         0       3  ...   8.0500  Adult\n",
              "\n",
              "[5 rows x 9 columns]"
            ]
          },
          "metadata": {
            "tags": []
          },
          "execution_count": 28
        }
      ]
    },
    {
      "cell_type": "code",
      "metadata": {
        "id": "thKGi9YfYRyF",
        "outputId": "a08ab8f0-411d-4fee-bc55-7d26f3cd1003",
        "colab": {
          "base_uri": "https://localhost:8080/",
          "height": 424
        }
      },
      "source": [
        "Titanic[Titanic['Age'] < 18]"
      ],
      "execution_count": 38,
      "outputs": [
        {
          "output_type": "execute_result",
          "data": {
            "text/html": [
              "<div>\n",
              "<style scoped>\n",
              "    .dataframe tbody tr th:only-of-type {\n",
              "        vertical-align: middle;\n",
              "    }\n",
              "\n",
              "    .dataframe tbody tr th {\n",
              "        vertical-align: top;\n",
              "    }\n",
              "\n",
              "    .dataframe thead th {\n",
              "        text-align: right;\n",
              "    }\n",
              "</style>\n",
              "<table border=\"1\" class=\"dataframe\">\n",
              "  <thead>\n",
              "    <tr style=\"text-align: right;\">\n",
              "      <th></th>\n",
              "      <th>Survived</th>\n",
              "      <th>Pclass</th>\n",
              "      <th>Name</th>\n",
              "      <th>Sex</th>\n",
              "      <th>Age</th>\n",
              "      <th>Siblings/Spouses_Aboard</th>\n",
              "      <th>Parents/Children_Aboard</th>\n",
              "      <th>Fare</th>\n",
              "      <th>Child</th>\n",
              "    </tr>\n",
              "  </thead>\n",
              "  <tbody>\n",
              "    <tr>\n",
              "      <th>7</th>\n",
              "      <td>0</td>\n",
              "      <td>3</td>\n",
              "      <td>Master. Gosta Leonard Palsson</td>\n",
              "      <td>male</td>\n",
              "      <td>2.0</td>\n",
              "      <td>3</td>\n",
              "      <td>1</td>\n",
              "      <td>21.0750</td>\n",
              "      <td>Not_Adult</td>\n",
              "    </tr>\n",
              "    <tr>\n",
              "      <th>9</th>\n",
              "      <td>1</td>\n",
              "      <td>2</td>\n",
              "      <td>Mrs. Nicholas (Adele Achem) Nasser</td>\n",
              "      <td>female</td>\n",
              "      <td>14.0</td>\n",
              "      <td>1</td>\n",
              "      <td>0</td>\n",
              "      <td>30.0708</td>\n",
              "      <td>Not_Adult</td>\n",
              "    </tr>\n",
              "    <tr>\n",
              "      <th>10</th>\n",
              "      <td>1</td>\n",
              "      <td>3</td>\n",
              "      <td>Miss. Marguerite Rut Sandstrom</td>\n",
              "      <td>female</td>\n",
              "      <td>4.0</td>\n",
              "      <td>1</td>\n",
              "      <td>1</td>\n",
              "      <td>16.7000</td>\n",
              "      <td>Not_Adult</td>\n",
              "    </tr>\n",
              "    <tr>\n",
              "      <th>14</th>\n",
              "      <td>0</td>\n",
              "      <td>3</td>\n",
              "      <td>Miss. Hulda Amanda Adolfina Vestrom</td>\n",
              "      <td>female</td>\n",
              "      <td>14.0</td>\n",
              "      <td>0</td>\n",
              "      <td>0</td>\n",
              "      <td>7.8542</td>\n",
              "      <td>Not_Adult</td>\n",
              "    </tr>\n",
              "    <tr>\n",
              "      <th>16</th>\n",
              "      <td>0</td>\n",
              "      <td>3</td>\n",
              "      <td>Master. Eugene Rice</td>\n",
              "      <td>male</td>\n",
              "      <td>2.0</td>\n",
              "      <td>4</td>\n",
              "      <td>1</td>\n",
              "      <td>29.1250</td>\n",
              "      <td>Not_Adult</td>\n",
              "    </tr>\n",
              "    <tr>\n",
              "      <th>...</th>\n",
              "      <td>...</td>\n",
              "      <td>...</td>\n",
              "      <td>...</td>\n",
              "      <td>...</td>\n",
              "      <td>...</td>\n",
              "      <td>...</td>\n",
              "      <td>...</td>\n",
              "      <td>...</td>\n",
              "      <td>...</td>\n",
              "    </tr>\n",
              "    <tr>\n",
              "      <th>849</th>\n",
              "      <td>1</td>\n",
              "      <td>1</td>\n",
              "      <td>Miss. Mary Conover Lines</td>\n",
              "      <td>female</td>\n",
              "      <td>16.0</td>\n",
              "      <td>0</td>\n",
              "      <td>1</td>\n",
              "      <td>39.4000</td>\n",
              "      <td>Not_Adult</td>\n",
              "    </tr>\n",
              "    <tr>\n",
              "      <th>859</th>\n",
              "      <td>0</td>\n",
              "      <td>3</td>\n",
              "      <td>Miss. Dorothy Edith Sage</td>\n",
              "      <td>female</td>\n",
              "      <td>14.0</td>\n",
              "      <td>8</td>\n",
              "      <td>2</td>\n",
              "      <td>69.5500</td>\n",
              "      <td>Not_Adult</td>\n",
              "    </tr>\n",
              "    <tr>\n",
              "      <th>865</th>\n",
              "      <td>1</td>\n",
              "      <td>3</td>\n",
              "      <td>Master. Harold Theodor Johnson</td>\n",
              "      <td>male</td>\n",
              "      <td>4.0</td>\n",
              "      <td>1</td>\n",
              "      <td>1</td>\n",
              "      <td>11.1333</td>\n",
              "      <td>Not_Adult</td>\n",
              "    </tr>\n",
              "    <tr>\n",
              "      <th>871</th>\n",
              "      <td>1</td>\n",
              "      <td>3</td>\n",
              "      <td>Miss. Adele Kiamie Najib</td>\n",
              "      <td>female</td>\n",
              "      <td>15.0</td>\n",
              "      <td>0</td>\n",
              "      <td>0</td>\n",
              "      <td>7.2250</td>\n",
              "      <td>Not_Adult</td>\n",
              "    </tr>\n",
              "    <tr>\n",
              "      <th>884</th>\n",
              "      <td>0</td>\n",
              "      <td>3</td>\n",
              "      <td>Miss. Catherine Helen Johnston</td>\n",
              "      <td>female</td>\n",
              "      <td>7.0</td>\n",
              "      <td>1</td>\n",
              "      <td>2</td>\n",
              "      <td>23.4500</td>\n",
              "      <td>Not_Adult</td>\n",
              "    </tr>\n",
              "  </tbody>\n",
              "</table>\n",
              "<p>130 rows × 9 columns</p>\n",
              "</div>"
            ],
            "text/plain": [
              "     Survived  Pclass  ...     Fare      Child\n",
              "7           0       3  ...  21.0750  Not_Adult\n",
              "9           1       2  ...  30.0708  Not_Adult\n",
              "10          1       3  ...  16.7000  Not_Adult\n",
              "14          0       3  ...   7.8542  Not_Adult\n",
              "16          0       3  ...  29.1250  Not_Adult\n",
              "..        ...     ...  ...      ...        ...\n",
              "849         1       1  ...  39.4000  Not_Adult\n",
              "859         0       3  ...  69.5500  Not_Adult\n",
              "865         1       3  ...  11.1333  Not_Adult\n",
              "871         1       3  ...   7.2250  Not_Adult\n",
              "884         0       3  ...  23.4500  Not_Adult\n",
              "\n",
              "[130 rows x 9 columns]"
            ]
          },
          "metadata": {
            "tags": []
          },
          "execution_count": 38
        }
      ]
    },
    {
      "cell_type": "markdown",
      "metadata": {
        "id": "xO_MMk8gZFw9"
      },
      "source": [
        "###11) Make a cross-tab of survival by age (child vs adult)."
      ]
    },
    {
      "cell_type": "code",
      "metadata": {
        "id": "zzSIQuXRBwi0",
        "outputId": "4648f116-aeba-4d78-ac19-3f5df3187708",
        "colab": {
          "base_uri": "https://localhost:8080/"
        }
      },
      "source": [
        "### YOUR CODE HERE \n",
        "print(pd.crosstab(Titanic['Survived'], Titanic['Child']))"
      ],
      "execution_count": 29,
      "outputs": [
        {
          "output_type": "stream",
          "text": [
            "Child     Adult  Not_Adult\n",
            "Survived                  \n",
            "0           480         65\n",
            "1           277         65\n"
          ],
          "name": "stdout"
        }
      ]
    },
    {
      "cell_type": "markdown",
      "metadata": {
        "id": "TZa_7B-5Z5cF"
      },
      "source": [
        "###12) Create a new data frame to hold the data for the figure."
      ]
    },
    {
      "cell_type": "code",
      "metadata": {
        "id": "V29aOIyI1sMa",
        "outputId": "e63eb866-19e1-466d-a3a3-73761275ef9b",
        "colab": {
          "base_uri": "https://localhost:8080/",
          "height": 112
        }
      },
      "source": [
        "### YOUR CODE HERE \n",
        "ct = pd.DataFrame({'Adult':[480,277], 'Not_Adult':[65,65]})\n",
        "\n",
        "ct"
      ],
      "execution_count": 30,
      "outputs": [
        {
          "output_type": "execute_result",
          "data": {
            "text/html": [
              "<div>\n",
              "<style scoped>\n",
              "    .dataframe tbody tr th:only-of-type {\n",
              "        vertical-align: middle;\n",
              "    }\n",
              "\n",
              "    .dataframe tbody tr th {\n",
              "        vertical-align: top;\n",
              "    }\n",
              "\n",
              "    .dataframe thead th {\n",
              "        text-align: right;\n",
              "    }\n",
              "</style>\n",
              "<table border=\"1\" class=\"dataframe\">\n",
              "  <thead>\n",
              "    <tr style=\"text-align: right;\">\n",
              "      <th></th>\n",
              "      <th>Adult</th>\n",
              "      <th>Not_Adult</th>\n",
              "    </tr>\n",
              "  </thead>\n",
              "  <tbody>\n",
              "    <tr>\n",
              "      <th>0</th>\n",
              "      <td>480</td>\n",
              "      <td>65</td>\n",
              "    </tr>\n",
              "    <tr>\n",
              "      <th>1</th>\n",
              "      <td>277</td>\n",
              "      <td>65</td>\n",
              "    </tr>\n",
              "  </tbody>\n",
              "</table>\n",
              "</div>"
            ],
            "text/plain": [
              "   Adult  Not_Adult\n",
              "0    480         65\n",
              "1    277         65"
            ]
          },
          "metadata": {
            "tags": []
          },
          "execution_count": 30
        }
      ]
    },
    {
      "cell_type": "markdown",
      "metadata": {
        "id": "kY5Z0lAsaNJx"
      },
      "source": [
        "###13) Adapt the plot from the Guided Project to show the relationship between passenger age (child vs adult) and survival."
      ]
    },
    {
      "cell_type": "code",
      "metadata": {
        "id": "NUsDf2jR1xLY",
        "outputId": "d1881ff3-2109-49a7-b35d-c39ccf50f822",
        "colab": {
          "base_uri": "https://localhost:8080/",
          "height": 295
        }
      },
      "source": [
        "### YOUR CODE HERE \n",
        "fig, ax = plt.subplots()\n",
        "\n",
        "my_ticks =['Did not Survive', 'Survived']\n",
        "\n",
        "ax.plot(my_ticks, ct['Adult'], label = 'Adult')\n",
        "ax.plot(my_ticks, ct['Not_Adult'], label = 'Child')\n",
        "\n",
        "ax.set_title(\"Passenger Survival by Adult Status\")\n",
        "ax.set_xlabel(\"Passenger Survival\")\n",
        "ax.set_ylabel(\"Number of Passengers\")\n",
        "\n",
        "ax.legend()\n",
        "plt.show()"
      ],
      "execution_count": 37,
      "outputs": [
        {
          "output_type": "display_data",
          "data": {
            "image/png": "[encoded data removed]",
            "text/plain": [
              "<Figure size 432x288 with 1 Axes>"
            ]
          },
          "metadata": {
            "tags": [],
            "needs_background": "light"
          }
        }
      ]
    },
    {
      "cell_type": "markdown",
      "metadata": {
        "id": "21YsjFAaRQOr"
      },
      "source": [
        "###14) Summarize your results about passenger survival by age."
      ]
    },
    {
      "cell_type": "markdown",
      "metadata": {
        "id": "LDCwF1KLbLDI"
      },
      "source": [
        "An equal amount of children did not survive and did survive the titanic, while for adults, much more of them did not survive the titanic, than did survive."
      ]
    },
    {
      "cell_type": "markdown",
      "metadata": {
        "id": "gmRDTa8ucXnV"
      },
      "source": [
        "#Project Milestone\n",
        "\n",
        "Take some time to explore the links below.  Think about how we use graphics to answer research questions and how looking at visualizations can help us develop new lines of enquiry.  \n",
        "\n",
        "By the end of the weekend, you should have a pretty good idea (though it can change!) what kind of data and visualizations you'd like to include in your Portfolio Project.\n",
        "\n",
        "### Links\n",
        "\n",
        "- [How to Spot Visualization Lies](https://flowingdata.com/2017/02/09/how-to-spot-visualization-lies/)\n",
        "- [Visual Vocabulary - Vega Edition](http://ft.com/vocabulary)\n",
        "- [Choosing a Python Visualization Tool flowchart](http://pbpython.com/python-vis-flowchart.html)\n",
        "- [Searborn example gallery](http://seaborn.pydata.org/examples/index.html) & [tutorial](http://seaborn.pydata.org/tutorial.html)\n",
        "- [Strong Titles Are The Biggest Bang for Your Buck](http://stephanieevergreen.com/strong-titles/)\n",
        "- [Remove to improve (the data-ink ratio)](https://www.darkhorseanalytics.com/blog/data-looks-better-naked)\n",
        "- [How to Generate FiveThirtyEight Graphs in Python](https://www.dataquest.io/blog/making-538-plots/)"
      ]
    }
  ]
}