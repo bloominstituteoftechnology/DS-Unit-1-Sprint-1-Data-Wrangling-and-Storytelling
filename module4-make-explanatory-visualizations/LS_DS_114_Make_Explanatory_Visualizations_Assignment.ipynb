{
  "nbformat": 4,
  "nbformat_minor": 0,
  "metadata": {
    "colab": {
      "name": "LS_DS_114_Make_Explanatory_Visualizations_Assignment.ipynb",
      "provenance": [],
      "collapsed_sections": [],
      "include_colab_link": true
    },
    "language_info": {
      "codemirror_mode": {
        "name": "ipython",
        "version": 3
      },
      "file_extension": ".py",
      "mimetype": "text/x-python",
      "name": "python",
      "nbconvert_exporter": "python",
      "pygments_lexer": "ipython3",
      "version": "3.7.1"
    },
    "kernelspec": {
      "display_name": "Python 3",
      "language": "python",
      "name": "python3"
    }
  },
  "cells": [
    {
      "cell_type": "markdown",
      "metadata": {
        "id": "view-in-github",
        "colab_type": "text"
      },
      "source": [
        "<a href=\"https://colab.research.google.com/github/jmmiddour/DS-Unit-1-Sprint-1-Data-Wrangling-and-Storytelling/blob/master/module4-make-explanatory-visualizations/LS_DS_114_Make_Explanatory_Visualizations_Assignment.ipynb\" target=\"_parent\"><img src=\"https://colab.research.google.com/assets/colab-badge.svg\" alt=\"Open In Colab\"/></a>"
      ]
    },
    {
      "cell_type": "markdown",
      "metadata": {
        "colab_type": "text",
        "id": "NMEswXWh9mqw"
      },
      "source": [
        "Lambda School Data Science\n",
        "\n",
        "*Unit 1, Sprint 1, Module 4*\n",
        "\n",
        "---\n",
        "\n",
        "# ASSIGNMENT\n",
        "\n",
        "### 1) Replicate the lesson code. I recommend that you [do not copy-paste](https://docs.google.com/document/d/1ubOw9B3Hfip27hF2ZFnW3a3z9xAgrUDRReOEo-FHCVs/edit).\n",
        "\n",
        "Get caught up to where we got our example in class and then try and take things further. How close to \"pixel perfect\" can you make the lecture graph?\n",
        "\n",
        "Once you have something that you're proud of, share your graph in the cohort channel and move on to the second exercise.\n",
        "\n",
        "### 2) Reproduce another example from [FiveThityEight's shared data repository](https://data.fivethirtyeight.com/).\n",
        "\n",
        "**WARNING**: There are a lot of very custom graphs and tables at the above link. I **highly** recommend not trying to reproduce any that look like a table of values or something really different from the graph types that we are already familiar with. Search through the posts until you find a graph type that you are more or less familiar with: histogram, bar chart, stacked bar chart, line chart, [seaborn relplot](https://seaborn.pydata.org/generated/seaborn.relplot.html), etc. Recreating some of the graphics that 538 uses would be a lot easier in Adobe photoshop/illustrator than with matplotlib. \n",
        "\n",
        "- If you put in some time to find a graph that looks \"easy\" to replicate you'll probably find that it's not as easy as you thought. \n",
        "\n",
        "- If you start with a graph that looks hard to replicate you'll probably run up against a brick wall and be disappointed with your afternoon.\n",
        "\n",
        "\n",
        "\n",
        "\n",
        "\n",
        "\n",
        "\n",
        "\n",
        "\n",
        "\n"
      ]
    },
    {
      "cell_type": "markdown",
      "metadata": {
        "id": "jTiyCX3A804E",
        "colab_type": "text"
      },
      "source": [
        "## Part 1 - Replicate the lesson code.\n",
        "Get caught up to where we got our example in class and then try and take things further. How close to \"pixel perfect\" can you make the lecture graph?\n",
        "\n",
        "- Stop just before Make Fake Prototypes\n",
        "\n",
        "Once you have something that you're proud of, share your graph in the cohort channel and move on to the second exercise.\n",
        "\n"
      ]
    },
    {
      "cell_type": "code",
      "metadata": {
        "id": "7SY1ZHawyZvz",
        "colab_type": "code",
        "outputId": "a82f8b29-d63d-4a75-adeb-5b9d9f65f4e4",
        "colab": {
          "base_uri": "https://localhost:8080/",
          "height": 74
        }
      },
      "source": [
        "# Import libraries needed for the lesson:\n",
        "import pandas as pd\n",
        "import numpy as np\n",
        "import seaborn as sns\n",
        "import matplotlib.pyplot as plt"
      ],
      "execution_count": 1,
      "outputs": [
        {
          "output_type": "stream",
          "text": [
            "/usr/local/lib/python3.6/dist-packages/statsmodels/tools/_testing.py:19: FutureWarning: pandas.util.testing is deprecated. Use the functions in the public API at pandas.testing instead.\n",
            "  import pandas.util.testing as tm\n"
          ],
          "name": "stderr"
        }
      ]
    },
    {
      "cell_type": "code",
      "metadata": {
        "id": "oh_zjVGVYuVd",
        "colab_type": "code",
        "outputId": "59fd76ab-f1e9-4365-ce1d-50d042871612",
        "colab": {
          "base_uri": "https://localhost:8080/",
          "height": 55
        }
      },
      "source": [
        "# Use the 'magic' symbol (%) to specify some non-python code\n",
        "%matplotlib inline\n",
        "'''That line is only for jupyter notebooks, and allows plt figures to show up in\n",
        "   your notebook. If you are using another editor, you'll uses:\n",
        "    plt.show()\n",
        "   at the end of all of your plotting commands to have the figure pop up in\n",
        "   another window.'''"
      ],
      "execution_count": 2,
      "outputs": [
        {
          "output_type": "execute_result",
          "data": {
            "text/plain": [
              "\"That line is only for jupyter notebooks, and allows plt figures to show up in\\n   your notebook. If you are using another editor, you'll uses:\\n    plt.show()\\n   at the end of all of your plotting commands to have the figure pop up in\\n   another window.\""
            ]
          },
          "metadata": {
            "tags": []
          },
          "execution_count": 2
        }
      ]
    },
    {
      "cell_type": "code",
      "metadata": {
        "id": "alKz3S6dYuZ2",
        "colab_type": "code",
        "outputId": "c190ef6d-a30a-4265-db7a-f21be9e53d12",
        "colab": {
          "base_uri": "https://localhost:8080/",
          "height": 490
        }
      },
      "source": [
        "# Specify the 'plot style' we want to use with pandas and matplotlib:\n",
        "plt.style.available\n",
        "# 'fast' is the default style, so you don't have to set it."
      ],
      "execution_count": 3,
      "outputs": [
        {
          "output_type": "execute_result",
          "data": {
            "text/plain": [
              "['Solarize_Light2',\n",
              " '_classic_test_patch',\n",
              " 'bmh',\n",
              " 'classic',\n",
              " 'dark_background',\n",
              " 'fast',\n",
              " 'fivethirtyeight',\n",
              " 'ggplot',\n",
              " 'grayscale',\n",
              " 'seaborn',\n",
              " 'seaborn-bright',\n",
              " 'seaborn-colorblind',\n",
              " 'seaborn-dark',\n",
              " 'seaborn-dark-palette',\n",
              " 'seaborn-darkgrid',\n",
              " 'seaborn-deep',\n",
              " 'seaborn-muted',\n",
              " 'seaborn-notebook',\n",
              " 'seaborn-paper',\n",
              " 'seaborn-pastel',\n",
              " 'seaborn-poster',\n",
              " 'seaborn-talk',\n",
              " 'seaborn-ticks',\n",
              " 'seaborn-white',\n",
              " 'seaborn-whitegrid',\n",
              " 'tableau-colorblind10']"
            ]
          },
          "metadata": {
            "tags": []
          },
          "execution_count": 3
        }
      ]
    },
    {
      "cell_type": "code",
      "metadata": {
        "id": "zDU-ogdQYuho",
        "colab_type": "code",
        "colab": {}
      },
      "source": [
        "# We will use 'fast' tonight:\n",
        "plt.style.use('fast')"
      ],
      "execution_count": 0,
      "outputs": []
    },
    {
      "cell_type": "markdown",
      "metadata": {
        "id": "l0mRCGa3a41x",
        "colab_type": "text"
      },
      "source": [
        "### Pandas built-in tool\n",
        "This is useful only for simple, quick-and-dirty plots.\n",
        "\n",
        "For anything more complex you'll want to use a more robust visualization package such as `matplotlib`, `seaborn`, or `plotly`.\n",
        "\n",
        "It is actually built on top of `matplotlib`.\n",
        "\n",
        "The oldest library is `matplotlib` for plotting. I actually predates the Pandas library.\n",
        "\n",
        "`matplotlib` was originally writen for another programming language called \"matlab\" and then was brought into Python.\n",
        "\n",
        "`matplotlib` is a little messy and outdated but since everyone still uses it you have to know it as a Data Scientist.\n",
        "\n",
        "There are 2 plotting libraries that were built on top of `matplotlib`. One is the Python plotting library and the other is `seaborn`."
      ]
    },
    {
      "cell_type": "markdown",
      "metadata": {
        "id": "RmEPosTHb50F",
        "colab_type": "text"
      },
      "source": [
        "#### Continuous vs Categorical Variables"
      ]
    },
    {
      "cell_type": "code",
      "metadata": {
        "id": "EScldU_UYulU",
        "colab_type": "code",
        "outputId": "0e4899dd-5827-4015-e2fa-558b818a1d13",
        "colab": {
          "base_uri": "https://localhost:8080/",
          "height": 198
        }
      },
      "source": [
        "# The Titanic dataset is used freqently for machine learning because it is a\n",
        "#   clean dataset. It has everything you need for preforming different \n",
        "#   operations and all the different types of values you need to work with.\n",
        "# Read in the titanic dataset (this is a scaled down version):\n",
        "titanic = pd.read_csv('https://raw.githubusercontent.com/austinlasseter/pandas_visualization/master/data/titanic.csv')\n",
        "titanic.head()"
      ],
      "execution_count": 5,
      "outputs": [
        {
          "output_type": "execute_result",
          "data": {
            "text/html": [
              "<div>\n",
              "<style scoped>\n",
              "    .dataframe tbody tr th:only-of-type {\n",
              "        vertical-align: middle;\n",
              "    }\n",
              "\n",
              "    .dataframe tbody tr th {\n",
              "        vertical-align: top;\n",
              "    }\n",
              "\n",
              "    .dataframe thead th {\n",
              "        text-align: right;\n",
              "    }\n",
              "</style>\n",
              "<table border=\"1\" class=\"dataframe\">\n",
              "  <thead>\n",
              "    <tr style=\"text-align: right;\">\n",
              "      <th></th>\n",
              "      <th>Survived</th>\n",
              "      <th>Pclass</th>\n",
              "      <th>Sex</th>\n",
              "      <th>Age</th>\n",
              "      <th>Fare</th>\n",
              "      <th>Embarked</th>\n",
              "    </tr>\n",
              "  </thead>\n",
              "  <tbody>\n",
              "    <tr>\n",
              "      <th>0</th>\n",
              "      <td>0</td>\n",
              "      <td>3</td>\n",
              "      <td>male</td>\n",
              "      <td>22.0</td>\n",
              "      <td>7.2500</td>\n",
              "      <td>Southampton</td>\n",
              "    </tr>\n",
              "    <tr>\n",
              "      <th>1</th>\n",
              "      <td>1</td>\n",
              "      <td>1</td>\n",
              "      <td>female</td>\n",
              "      <td>38.0</td>\n",
              "      <td>71.2833</td>\n",
              "      <td>Cherbourg</td>\n",
              "    </tr>\n",
              "    <tr>\n",
              "      <th>2</th>\n",
              "      <td>1</td>\n",
              "      <td>3</td>\n",
              "      <td>female</td>\n",
              "      <td>26.0</td>\n",
              "      <td>7.9250</td>\n",
              "      <td>Southampton</td>\n",
              "    </tr>\n",
              "    <tr>\n",
              "      <th>3</th>\n",
              "      <td>1</td>\n",
              "      <td>1</td>\n",
              "      <td>female</td>\n",
              "      <td>35.0</td>\n",
              "      <td>53.1000</td>\n",
              "      <td>Southampton</td>\n",
              "    </tr>\n",
              "    <tr>\n",
              "      <th>4</th>\n",
              "      <td>0</td>\n",
              "      <td>3</td>\n",
              "      <td>male</td>\n",
              "      <td>35.0</td>\n",
              "      <td>8.0500</td>\n",
              "      <td>Southampton</td>\n",
              "    </tr>\n",
              "  </tbody>\n",
              "</table>\n",
              "</div>"
            ],
            "text/plain": [
              "   Survived  Pclass     Sex   Age     Fare     Embarked\n",
              "0         0       3    male  22.0   7.2500  Southampton\n",
              "1         1       1  female  38.0  71.2833    Cherbourg\n",
              "2         1       3  female  26.0   7.9250  Southampton\n",
              "3         1       1  female  35.0  53.1000  Southampton\n",
              "4         0       3    male  35.0   8.0500  Southampton"
            ]
          },
          "metadata": {
            "tags": []
          },
          "execution_count": 5
        }
      ]
    },
    {
      "cell_type": "code",
      "metadata": {
        "id": "f6CaSTbZYurU",
        "colab_type": "code",
        "outputId": "734777a0-335e-490c-e2d0-465913dd8b41",
        "colab": {
          "base_uri": "https://localhost:8080/",
          "height": 90
        }
      },
      "source": [
        "# Cabin class is a categorical variable because it can be displayed using\n",
        "#   either number or string values.\n",
        "titanic['Pclass'].value_counts().sort_index()"
      ],
      "execution_count": 6,
      "outputs": [
        {
          "output_type": "execute_result",
          "data": {
            "text/plain": [
              "1    184\n",
              "2    173\n",
              "3    355\n",
              "Name: Pclass, dtype: int64"
            ]
          },
          "metadata": {
            "tags": []
          },
          "execution_count": 6
        }
      ]
    },
    {
      "cell_type": "code",
      "metadata": {
        "id": "PsVDB5tKYuwc",
        "colab_type": "code",
        "outputId": "c7c65f1c-be7c-40fa-942e-f0161f86a48e",
        "colab": {
          "base_uri": "https://localhost:8080/",
          "height": 258
        }
      },
      "source": [
        "# Can convert to the values to string categories using .map:\n",
        "titanic['cabin_class'] = titanic['Pclass'].map({1:'first', 2:'second', 3:'third'})\n",
        "titanic.sample(7)"
      ],
      "execution_count": 7,
      "outputs": [
        {
          "output_type": "execute_result",
          "data": {
            "text/html": [
              "<div>\n",
              "<style scoped>\n",
              "    .dataframe tbody tr th:only-of-type {\n",
              "        vertical-align: middle;\n",
              "    }\n",
              "\n",
              "    .dataframe tbody tr th {\n",
              "        vertical-align: top;\n",
              "    }\n",
              "\n",
              "    .dataframe thead th {\n",
              "        text-align: right;\n",
              "    }\n",
              "</style>\n",
              "<table border=\"1\" class=\"dataframe\">\n",
              "  <thead>\n",
              "    <tr style=\"text-align: right;\">\n",
              "      <th></th>\n",
              "      <th>Survived</th>\n",
              "      <th>Pclass</th>\n",
              "      <th>Sex</th>\n",
              "      <th>Age</th>\n",
              "      <th>Fare</th>\n",
              "      <th>Embarked</th>\n",
              "      <th>cabin_class</th>\n",
              "    </tr>\n",
              "  </thead>\n",
              "  <tbody>\n",
              "    <tr>\n",
              "      <th>194</th>\n",
              "      <td>0</td>\n",
              "      <td>3</td>\n",
              "      <td>male</td>\n",
              "      <td>22.0</td>\n",
              "      <td>7.125</td>\n",
              "      <td>Southampton</td>\n",
              "      <td>third</td>\n",
              "    </tr>\n",
              "    <tr>\n",
              "      <th>105</th>\n",
              "      <td>0</td>\n",
              "      <td>2</td>\n",
              "      <td>male</td>\n",
              "      <td>25.0</td>\n",
              "      <td>13.000</td>\n",
              "      <td>Southampton</td>\n",
              "      <td>second</td>\n",
              "    </tr>\n",
              "    <tr>\n",
              "      <th>705</th>\n",
              "      <td>0</td>\n",
              "      <td>2</td>\n",
              "      <td>male</td>\n",
              "      <td>28.0</td>\n",
              "      <td>10.500</td>\n",
              "      <td>Southampton</td>\n",
              "      <td>second</td>\n",
              "    </tr>\n",
              "    <tr>\n",
              "      <th>416</th>\n",
              "      <td>0</td>\n",
              "      <td>3</td>\n",
              "      <td>male</td>\n",
              "      <td>40.5</td>\n",
              "      <td>7.750</td>\n",
              "      <td>Queenstown</td>\n",
              "      <td>third</td>\n",
              "    </tr>\n",
              "    <tr>\n",
              "      <th>315</th>\n",
              "      <td>1</td>\n",
              "      <td>3</td>\n",
              "      <td>female</td>\n",
              "      <td>24.0</td>\n",
              "      <td>16.700</td>\n",
              "      <td>Southampton</td>\n",
              "      <td>third</td>\n",
              "    </tr>\n",
              "    <tr>\n",
              "      <th>604</th>\n",
              "      <td>0</td>\n",
              "      <td>3</td>\n",
              "      <td>male</td>\n",
              "      <td>34.0</td>\n",
              "      <td>8.050</td>\n",
              "      <td>Southampton</td>\n",
              "      <td>third</td>\n",
              "    </tr>\n",
              "    <tr>\n",
              "      <th>539</th>\n",
              "      <td>0</td>\n",
              "      <td>3</td>\n",
              "      <td>male</td>\n",
              "      <td>14.0</td>\n",
              "      <td>46.900</td>\n",
              "      <td>Southampton</td>\n",
              "      <td>third</td>\n",
              "    </tr>\n",
              "  </tbody>\n",
              "</table>\n",
              "</div>"
            ],
            "text/plain": [
              "     Survived  Pclass     Sex   Age    Fare     Embarked cabin_class\n",
              "194         0       3    male  22.0   7.125  Southampton       third\n",
              "105         0       2    male  25.0  13.000  Southampton      second\n",
              "705         0       2    male  28.0  10.500  Southampton      second\n",
              "416         0       3    male  40.5   7.750   Queenstown       third\n",
              "315         1       3  female  24.0  16.700  Southampton       third\n",
              "604         0       3    male  34.0   8.050  Southampton       third\n",
              "539         0       3    male  14.0  46.900  Southampton       third"
            ]
          },
          "metadata": {
            "tags": []
          },
          "execution_count": 7
        }
      ]
    },
    {
      "cell_type": "code",
      "metadata": {
        "id": "Dxiapy7IYu0q",
        "colab_type": "code",
        "outputId": "21bd79ad-4b28-4c8b-b8e4-b6af51a26958",
        "colab": {
          "base_uri": "https://localhost:8080/",
          "height": 267
        }
      },
      "source": [
        "# Fare is a continuous variable, so we can display it with a histogram:\n",
        "titanic['Fare'].plot(kind='hist');"
      ],
      "execution_count": 8,
      "outputs": [
        {
          "output_type": "display_data",
          "data": {
            "image/png": "[encoded data removed]",
            "text/plain": [
              "<Figure size 432x288 with 1 Axes>"
            ]
          },
          "metadata": {
            "tags": [],
            "needs_background": "light"
          }
        }
      ]
    },
    {
      "cell_type": "code",
      "metadata": {
        "id": "BTSDu3fUYu5E",
        "colab_type": "code",
        "outputId": "deac65b6-0b0a-413b-8d24-8744f9f73dd4",
        "colab": {
          "base_uri": "https://localhost:8080/",
          "height": 54
        }
      },
      "source": [
        "# Remove the 2 extreme outliers to make it look cleaner and more useful:\n",
        "print (titanic.shape)\n",
        "titanic = titanic[titanic['Fare'] < 500]\n",
        "print (titanic.shape)"
      ],
      "execution_count": 9,
      "outputs": [
        {
          "output_type": "stream",
          "text": [
            "(712, 7)\n",
            "(709, 7)\n"
          ],
          "name": "stdout"
        }
      ]
    },
    {
      "cell_type": "code",
      "metadata": {
        "id": "dz-ie0MDYu9P",
        "colab_type": "code",
        "outputId": "4852bc8f-5b2b-4ad7-ec89-f0597e203bc7",
        "colab": {
          "base_uri": "https://localhost:8080/",
          "height": 265
        }
      },
      "source": [
        "# Histogram will display better now:\n",
        "titanic['Fare'].plot(kind='hist', color='dodgerblue', bins=25);\n",
        "\n",
        "# The bins = the number of boxes to diplay in the graph. Default is 10."
      ],
      "execution_count": 10,
      "outputs": [
        {
          "output_type": "display_data",
          "data": {
            "image/png": "[encoded data removed]",
            "text/plain": [
              "<Figure size 432x288 with 1 Axes>"
            ]
          },
          "metadata": {
            "tags": [],
            "needs_background": "light"
          }
        }
      ]
    },
    {
      "cell_type": "code",
      "metadata": {
        "id": "QhZ2g1plYvD5",
        "colab_type": "code",
        "outputId": "24f7a921-9216-4af8-b90a-81154f744d5f",
        "colab": {
          "base_uri": "https://localhost:8080/",
          "height": 181
        }
      },
      "source": [
        "# Describe your continuous variable to find out the appropriate values to pass\n",
        "#   into your bin below:\n",
        "titanic['Fare'].describe()"
      ],
      "execution_count": 11,
      "outputs": [
        {
          "output_type": "execute_result",
          "data": {
            "text/plain": [
              "count    709.000000\n",
              "mean      32.545692\n",
              "std       42.931277\n",
              "min        0.000000\n",
              "25%        8.050000\n",
              "50%       15.500000\n",
              "75%       32.320800\n",
              "max      263.000000\n",
              "Name: Fare, dtype: float64"
            ]
          },
          "metadata": {
            "tags": []
          },
          "execution_count": 11
        }
      ]
    },
    {
      "cell_type": "code",
      "metadata": {
        "id": "x6jVJAZhYvHi",
        "colab_type": "code",
        "outputId": "cc90ab6e-a7a0-4170-8508-e56415a0f6da",
        "colab": {
          "base_uri": "https://localhost:8080/",
          "height": 198
        }
      },
      "source": [
        "# A Continuous varaiable can be converted to a categorical variable using binning.\n",
        "# The bins give you a group of the range of values that you specify in the \n",
        "#   variable you are cutting.\n",
        "# You can also assign a variable to the new groups but you could just put them\n",
        "#   in the cut code instead.\n",
        "farelabels = ['low', 'medium', 'high', 'vhigh']\n",
        "titanic['fare_groups'] = pd.cut(titanic['Fare'], bins=[0, 8, 15,32, 264],\n",
        "                                labels=farelabels)\n",
        "titanic[['Fare', 'fare_groups']].head()\n",
        "# In this example the bins=[0, 8, 15,32, 264] mean you will get the amount a\n",
        "#   person paid for a ticket in 4 different groups:\n",
        "# Group 1 ('low') is those who paid $0 - $8\n",
        "# Group 2 ('medium') is those who paid $8 - $15\n",
        "# Group 3 ('high') is those who paid $15 - $32\n",
        "# Group 4 ('vhigh') is those who paid $32 - $264"
      ],
      "execution_count": 12,
      "outputs": [
        {
          "output_type": "execute_result",
          "data": {
            "text/html": [
              "<div>\n",
              "<style scoped>\n",
              "    .dataframe tbody tr th:only-of-type {\n",
              "        vertical-align: middle;\n",
              "    }\n",
              "\n",
              "    .dataframe tbody tr th {\n",
              "        vertical-align: top;\n",
              "    }\n",
              "\n",
              "    .dataframe thead th {\n",
              "        text-align: right;\n",
              "    }\n",
              "</style>\n",
              "<table border=\"1\" class=\"dataframe\">\n",
              "  <thead>\n",
              "    <tr style=\"text-align: right;\">\n",
              "      <th></th>\n",
              "      <th>Fare</th>\n",
              "      <th>fare_groups</th>\n",
              "    </tr>\n",
              "  </thead>\n",
              "  <tbody>\n",
              "    <tr>\n",
              "      <th>0</th>\n",
              "      <td>7.2500</td>\n",
              "      <td>low</td>\n",
              "    </tr>\n",
              "    <tr>\n",
              "      <th>1</th>\n",
              "      <td>71.2833</td>\n",
              "      <td>vhigh</td>\n",
              "    </tr>\n",
              "    <tr>\n",
              "      <th>2</th>\n",
              "      <td>7.9250</td>\n",
              "      <td>low</td>\n",
              "    </tr>\n",
              "    <tr>\n",
              "      <th>3</th>\n",
              "      <td>53.1000</td>\n",
              "      <td>vhigh</td>\n",
              "    </tr>\n",
              "    <tr>\n",
              "      <th>4</th>\n",
              "      <td>8.0500</td>\n",
              "      <td>medium</td>\n",
              "    </tr>\n",
              "  </tbody>\n",
              "</table>\n",
              "</div>"
            ],
            "text/plain": [
              "      Fare fare_groups\n",
              "0   7.2500         low\n",
              "1  71.2833       vhigh\n",
              "2   7.9250         low\n",
              "3  53.1000       vhigh\n",
              "4   8.0500      medium"
            ]
          },
          "metadata": {
            "tags": []
          },
          "execution_count": 12
        }
      ]
    },
    {
      "cell_type": "code",
      "metadata": {
        "id": "6E-dkkqtYvO6",
        "colab_type": "code",
        "outputId": "dd690625-df4f-4e74-faa4-cc3c3c482ac7",
        "colab": {
          "base_uri": "https://localhost:8080/",
          "height": 108
        }
      },
      "source": [
        "# Check out the results:\n",
        "fare_results = titanic['fare_groups'].value_counts().sort_index()\n",
        "fare_results"
      ],
      "execution_count": 13,
      "outputs": [
        {
          "output_type": "execute_result",
          "data": {
            "text/plain": [
              "low       154\n",
              "medium    189\n",
              "high      181\n",
              "vhigh     178\n",
              "Name: fare_groups, dtype: int64"
            ]
          },
          "metadata": {
            "tags": []
          },
          "execution_count": 13
        }
      ]
    },
    {
      "cell_type": "code",
      "metadata": {
        "id": "WUSKdh2DYvUb",
        "colab_type": "code",
        "outputId": "69844614-b5bd-4c7b-ce2d-cb3472b8859e",
        "colab": {
          "base_uri": "https://localhost:8080/",
          "height": 296
        }
      },
      "source": [
        "# A line chart is the default for .plot.\n",
        "# Sometimes it's important to specify the range of your y-axis to get a more \n",
        "#   accurate result. 'lim' = 'limits':\n",
        "fare_results.plot(kind='bar', color='darkred');"
      ],
      "execution_count": 14,
      "outputs": [
        {
          "output_type": "display_data",
          "data": {
            "image/png": "[encoded data removed]",
            "text/plain": [
              "<Figure size 432x288 with 1 Axes>"
            ]
          },
          "metadata": {
            "tags": [],
            "needs_background": "light"
          }
        }
      ]
    },
    {
      "cell_type": "markdown",
      "metadata": {
        "id": "3OA-DWsmg5dH",
        "colab_type": "text"
      },
      "source": [
        "#### Display a Single Continuous Varable"
      ]
    },
    {
      "cell_type": "code",
      "metadata": {
        "id": "YeP7gbwlmZOZ",
        "colab_type": "code",
        "outputId": "fce757aa-9f28-45ed-f23e-fb7853285d01",
        "colab": {
          "base_uri": "https://localhost:8080/",
          "height": 288
        }
      },
      "source": [
        "# Describe the values in the 'Age' variable:\n",
        "titanic.describe()"
      ],
      "execution_count": 15,
      "outputs": [
        {
          "output_type": "execute_result",
          "data": {
            "text/html": [
              "<div>\n",
              "<style scoped>\n",
              "    .dataframe tbody tr th:only-of-type {\n",
              "        vertical-align: middle;\n",
              "    }\n",
              "\n",
              "    .dataframe tbody tr th {\n",
              "        vertical-align: top;\n",
              "    }\n",
              "\n",
              "    .dataframe thead th {\n",
              "        text-align: right;\n",
              "    }\n",
              "</style>\n",
              "<table border=\"1\" class=\"dataframe\">\n",
              "  <thead>\n",
              "    <tr style=\"text-align: right;\">\n",
              "      <th></th>\n",
              "      <th>Survived</th>\n",
              "      <th>Pclass</th>\n",
              "      <th>Age</th>\n",
              "      <th>Fare</th>\n",
              "    </tr>\n",
              "  </thead>\n",
              "  <tbody>\n",
              "    <tr>\n",
              "      <th>count</th>\n",
              "      <td>709.000000</td>\n",
              "      <td>709.000000</td>\n",
              "      <td>709.000000</td>\n",
              "      <td>709.000000</td>\n",
              "    </tr>\n",
              "    <tr>\n",
              "      <th>mean</th>\n",
              "      <td>0.401975</td>\n",
              "      <td>2.245416</td>\n",
              "      <td>29.618011</td>\n",
              "      <td>32.545692</td>\n",
              "    </tr>\n",
              "    <tr>\n",
              "      <th>std</th>\n",
              "      <td>0.490643</td>\n",
              "      <td>0.834714</td>\n",
              "      <td>14.518828</td>\n",
              "      <td>42.931277</td>\n",
              "    </tr>\n",
              "    <tr>\n",
              "      <th>min</th>\n",
              "      <td>0.000000</td>\n",
              "      <td>1.000000</td>\n",
              "      <td>0.420000</td>\n",
              "      <td>0.000000</td>\n",
              "    </tr>\n",
              "    <tr>\n",
              "      <th>25%</th>\n",
              "      <td>0.000000</td>\n",
              "      <td>1.000000</td>\n",
              "      <td>20.000000</td>\n",
              "      <td>8.050000</td>\n",
              "    </tr>\n",
              "    <tr>\n",
              "      <th>50%</th>\n",
              "      <td>0.000000</td>\n",
              "      <td>3.000000</td>\n",
              "      <td>28.000000</td>\n",
              "      <td>15.500000</td>\n",
              "    </tr>\n",
              "    <tr>\n",
              "      <th>75%</th>\n",
              "      <td>1.000000</td>\n",
              "      <td>3.000000</td>\n",
              "      <td>38.000000</td>\n",
              "      <td>32.320800</td>\n",
              "    </tr>\n",
              "    <tr>\n",
              "      <th>max</th>\n",
              "      <td>1.000000</td>\n",
              "      <td>3.000000</td>\n",
              "      <td>80.000000</td>\n",
              "      <td>263.000000</td>\n",
              "    </tr>\n",
              "  </tbody>\n",
              "</table>\n",
              "</div>"
            ],
            "text/plain": [
              "         Survived      Pclass         Age        Fare\n",
              "count  709.000000  709.000000  709.000000  709.000000\n",
              "mean     0.401975    2.245416   29.618011   32.545692\n",
              "std      0.490643    0.834714   14.518828   42.931277\n",
              "min      0.000000    1.000000    0.420000    0.000000\n",
              "25%      0.000000    1.000000   20.000000    8.050000\n",
              "50%      0.000000    3.000000   28.000000   15.500000\n",
              "75%      1.000000    3.000000   38.000000   32.320800\n",
              "max      1.000000    3.000000   80.000000  263.000000"
            ]
          },
          "metadata": {
            "tags": []
          },
          "execution_count": 15
        }
      ]
    },
    {
      "cell_type": "code",
      "metadata": {
        "id": "enfUF6oPYvdg",
        "colab_type": "code",
        "outputId": "2df72fa4-57cc-4617-e4f5-d5603b7b52c2",
        "colab": {
          "base_uri": "https://localhost:8080/",
          "height": 265
        }
      },
      "source": [
        "# Histogram:\n",
        "titanic['Age'].plot(kind='hist',\n",
        "                    bins=25,\n",
        "                    figsize=(16, 4),\n",
        "                    color='#17B952');"
      ],
      "execution_count": 16,
      "outputs": [
        {
          "output_type": "display_data",
          "data": {
            "image/png": "[encoded data removed]",
            "text/plain": [
              "<Figure size 1152x288 with 1 Axes>"
            ]
          },
          "metadata": {
            "tags": [],
            "needs_background": "light"
          }
        }
      ]
    },
    {
      "cell_type": "code",
      "metadata": {
        "id": "wdiK95WLYvk5",
        "colab_type": "code",
        "outputId": "7ed314a8-5273-4dfa-d541-5efe8df7ebfd",
        "colab": {
          "base_uri": "https://localhost:8080/",
          "height": 265
        }
      },
      "source": [
        "# Stacked Histogram of a continuous variable, broken out by categorical variable:\n",
        "titanic[titanic['Pclass']==1]['Age'].plot(kind='hist', bins=25, figsize=(16,4),\n",
        "                                          color='magenta', alpha=0.5)\n",
        "titanic[titanic['Pclass']==2]['Age'].plot(kind='hist', bins=25, figsize=(16,4),\n",
        "                                          color='darkblue', alpha=0.5)\n",
        "titanic[titanic['Pclass']==3]['Age'].plot(kind='hist', bins=25, figsize=(16,4),\n",
        "                                          color='lime', alpha=0.5);\n",
        "# alpha= gives you the amount of transparency from 0 - 1."
      ],
      "execution_count": 17,
      "outputs": [
        {
          "output_type": "display_data",
          "data": {
            "image/png": "[encoded data removed]",
            "text/plain": [
              "<Figure size 1152x288 with 1 Axes>"
            ]
          },
          "metadata": {
            "tags": [],
            "needs_background": "light"
          }
        }
      ]
    },
    {
      "cell_type": "code",
      "metadata": {
        "id": "fULFQsLfYvpA",
        "colab_type": "code",
        "outputId": "f395c1b0-1d3c-4ca4-a494-8db6fe2d00cd",
        "colab": {
          "base_uri": "https://localhost:8080/",
          "height": 265
        }
      },
      "source": [
        "# This is actually easier to read using a Kernel Density Estimate (KDE).\n",
        "# Note the use of 'xlim'. It is how you set your ticks on the x axis:\n",
        "titanic[titanic['Pclass']==1]['Age'].plot(kind='density', figsize=(16,4), \n",
        "                                          color='navy', xlim=(-5, 85))\n",
        "titanic[titanic['Pclass']==2]['Age'].plot(kind='density', figsize=(16,4),\n",
        "                                          color='lightblue', xlim=(-5, 85))\n",
        "titanic[titanic['Pclass']==3]['Age'].plot(kind='density', figsize=(16,4), \n",
        "                                          color='crimson', xlim=(-5, 85));"
      ],
      "execution_count": 18,
      "outputs": [
        {
          "output_type": "display_data",
          "data": {
            "image/png": "[encoded data removed]",
            "text/plain": [
              "<Figure size 1152x288 with 1 Axes>"
            ]
          },
          "metadata": {
            "tags": [],
            "needs_background": "light"
          }
        }
      ]
    },
    {
      "cell_type": "markdown",
      "metadata": {
        "id": "_o1mI0uAky3A",
        "colab_type": "text"
      },
      "source": [
        "#### Display a Single Categorical Variable"
      ]
    },
    {
      "cell_type": "code",
      "metadata": {
        "id": "KDDLj9_bYvsR",
        "colab_type": "code",
        "outputId": "192a0bd9-5cb6-4ce7-a429-7a5a0256339e",
        "colab": {
          "base_uri": "https://localhost:8080/",
          "height": 296
        }
      },
      "source": [
        "# Bar chart using colors to make a particular value 'pop'!\n",
        "titanic['fare_groups'].value_counts().sort_index().plot(kind='bar', \n",
        "                                                        color=['gray', 'gray', \n",
        "                                                               'red', 'gray']);"
      ],
      "execution_count": 19,
      "outputs": [
        {
          "output_type": "display_data",
          "data": {
            "image/png": "[encoded data removed]",
            "text/plain": [
              "<Figure size 432x288 with 1 Axes>"
            ]
          },
          "metadata": {
            "tags": [],
            "needs_background": "light"
          }
        }
      ]
    },
    {
      "cell_type": "code",
      "metadata": {
        "id": "sXCwUfcSYvvo",
        "colab_type": "code",
        "outputId": "222efa69-3317-41a5-9739-b06a7ea51c60",
        "colab": {
          "base_uri": "https://localhost:8080/",
          "height": 248
        }
      },
      "source": [
        "# Pie chart:\n",
        "titanic['fare_groups'].value_counts().sort_index().plot(kind='pie', \n",
        "                                                        figsize=(4, 4));"
      ],
      "execution_count": 20,
      "outputs": [
        {
          "output_type": "display_data",
          "data": {
            "image/png": "[encoded data removed]",
            "text/plain": [
              "<Figure size 288x288 with 1 Axes>"
            ]
          },
          "metadata": {
            "tags": []
          }
        }
      ]
    },
    {
      "cell_type": "markdown",
      "metadata": {
        "id": "7zFTYIHVl9Yf",
        "colab_type": "text"
      },
      "source": [
        "#### Compare 2 Categorical Variables"
      ]
    },
    {
      "cell_type": "code",
      "metadata": {
        "id": "Ui_9TiESYvys",
        "colab_type": "code",
        "outputId": "7debc0cb-ae78-41dc-a2a3-da607a9dfa15",
        "colab": {
          "base_uri": "https://localhost:8080/",
          "height": 168
        }
      },
      "source": [
        "# Compare 2 catergorical variables using crosstab:\n",
        "cab_death = pd.crosstab(titanic['cabin_class'], titanic['Survived'])\n",
        "cab_death"
      ],
      "execution_count": 21,
      "outputs": [
        {
          "output_type": "execute_result",
          "data": {
            "text/html": [
              "<div>\n",
              "<style scoped>\n",
              "    .dataframe tbody tr th:only-of-type {\n",
              "        vertical-align: middle;\n",
              "    }\n",
              "\n",
              "    .dataframe tbody tr th {\n",
              "        vertical-align: top;\n",
              "    }\n",
              "\n",
              "    .dataframe thead th {\n",
              "        text-align: right;\n",
              "    }\n",
              "</style>\n",
              "<table border=\"1\" class=\"dataframe\">\n",
              "  <thead>\n",
              "    <tr style=\"text-align: right;\">\n",
              "      <th>Survived</th>\n",
              "      <th>0</th>\n",
              "      <th>1</th>\n",
              "    </tr>\n",
              "    <tr>\n",
              "      <th>cabin_class</th>\n",
              "      <th></th>\n",
              "      <th></th>\n",
              "    </tr>\n",
              "  </thead>\n",
              "  <tbody>\n",
              "    <tr>\n",
              "      <th>first</th>\n",
              "      <td>64</td>\n",
              "      <td>117</td>\n",
              "    </tr>\n",
              "    <tr>\n",
              "      <th>second</th>\n",
              "      <td>90</td>\n",
              "      <td>83</td>\n",
              "    </tr>\n",
              "    <tr>\n",
              "      <th>third</th>\n",
              "      <td>270</td>\n",
              "      <td>85</td>\n",
              "    </tr>\n",
              "  </tbody>\n",
              "</table>\n",
              "</div>"
            ],
            "text/plain": [
              "Survived       0    1\n",
              "cabin_class          \n",
              "first         64  117\n",
              "second        90   83\n",
              "third        270   85"
            ]
          },
          "metadata": {
            "tags": []
          },
          "execution_count": 21
        }
      ]
    },
    {
      "cell_type": "code",
      "metadata": {
        "id": "MIYD4WYOYv2e",
        "colab_type": "code",
        "outputId": "8f9098a5-1a26-4c13-b696-1099679810c5",
        "colab": {
          "base_uri": "https://localhost:8080/",
          "height": 306
        }
      },
      "source": [
        "# Make that into a bar chart:\n",
        "cab_death.plot(kind='bar');"
      ],
      "execution_count": 22,
      "outputs": [
        {
          "output_type": "display_data",
          "data": {
            "image/png": "[encoded data removed]",
            "text/plain": [
              "<Figure size 432x288 with 1 Axes>"
            ]
          },
          "metadata": {
            "tags": [],
            "needs_background": "light"
          }
        }
      ]
    },
    {
      "cell_type": "code",
      "metadata": {
        "id": "_oViCR7iYv6c",
        "colab_type": "code",
        "outputId": "c6d9952d-532d-426a-d0e1-adf5f9623ef7",
        "colab": {
          "base_uri": "https://localhost:8080/",
          "height": 168
        }
      },
      "source": [
        "# Crosstab with column percents:\n",
        "cab_death1 = pd.crosstab(titanic['cabin_class'], titanic['Survived'], \n",
        "                         normalize='columns')\n",
        "cab_death1"
      ],
      "execution_count": 23,
      "outputs": [
        {
          "output_type": "execute_result",
          "data": {
            "text/html": [
              "<div>\n",
              "<style scoped>\n",
              "    .dataframe tbody tr th:only-of-type {\n",
              "        vertical-align: middle;\n",
              "    }\n",
              "\n",
              "    .dataframe tbody tr th {\n",
              "        vertical-align: top;\n",
              "    }\n",
              "\n",
              "    .dataframe thead th {\n",
              "        text-align: right;\n",
              "    }\n",
              "</style>\n",
              "<table border=\"1\" class=\"dataframe\">\n",
              "  <thead>\n",
              "    <tr style=\"text-align: right;\">\n",
              "      <th>Survived</th>\n",
              "      <th>0</th>\n",
              "      <th>1</th>\n",
              "    </tr>\n",
              "    <tr>\n",
              "      <th>cabin_class</th>\n",
              "      <th></th>\n",
              "      <th></th>\n",
              "    </tr>\n",
              "  </thead>\n",
              "  <tbody>\n",
              "    <tr>\n",
              "      <th>first</th>\n",
              "      <td>0.150943</td>\n",
              "      <td>0.410526</td>\n",
              "    </tr>\n",
              "    <tr>\n",
              "      <th>second</th>\n",
              "      <td>0.212264</td>\n",
              "      <td>0.291228</td>\n",
              "    </tr>\n",
              "    <tr>\n",
              "      <th>third</th>\n",
              "      <td>0.636792</td>\n",
              "      <td>0.298246</td>\n",
              "    </tr>\n",
              "  </tbody>\n",
              "</table>\n",
              "</div>"
            ],
            "text/plain": [
              "Survived            0         1\n",
              "cabin_class                    \n",
              "first        0.150943  0.410526\n",
              "second       0.212264  0.291228\n",
              "third        0.636792  0.298246"
            ]
          },
          "metadata": {
            "tags": []
          },
          "execution_count": 23
        }
      ]
    },
    {
      "cell_type": "code",
      "metadata": {
        "id": "pjMEAVawYv-Y",
        "colab_type": "code",
        "outputId": "6791a993-4763-4145-affe-ae197dba1f04",
        "colab": {
          "base_uri": "https://localhost:8080/",
          "height": 306
        }
      },
      "source": [
        "# Stacked bar charts are good for % or propotional data.\n",
        "# Make a stacked bar chart for easy comparison of 2 categorical variables:\n",
        "cab_death1.plot(kind='bar', stacked=True, color=['orange', 'gray']);"
      ],
      "execution_count": 24,
      "outputs": [
        {
          "output_type": "display_data",
          "data": {
            "image/png": "[encoded data removed]",
            "text/plain": [
              "<Figure size 432x288 with 1 Axes>"
            ]
          },
          "metadata": {
            "tags": [],
            "needs_background": "light"
          }
        }
      ]
    },
    {
      "cell_type": "code",
      "metadata": {
        "id": "3fALdsLbYwDp",
        "colab_type": "code",
        "outputId": "51511964-59fc-4723-e85f-252b9133cbd4",
        "colab": {
          "base_uri": "https://localhost:8080/",
          "height": 168
        }
      },
      "source": [
        "# Crosstab with column percents using normalize:\n",
        "cab_death2 = pd.crosstab(titanic['cabin_class'], titanic['Survived'],\n",
        "                         normalize='index')\n",
        "cab_death2"
      ],
      "execution_count": 25,
      "outputs": [
        {
          "output_type": "execute_result",
          "data": {
            "text/html": [
              "<div>\n",
              "<style scoped>\n",
              "    .dataframe tbody tr th:only-of-type {\n",
              "        vertical-align: middle;\n",
              "    }\n",
              "\n",
              "    .dataframe tbody tr th {\n",
              "        vertical-align: top;\n",
              "    }\n",
              "\n",
              "    .dataframe thead th {\n",
              "        text-align: right;\n",
              "    }\n",
              "</style>\n",
              "<table border=\"1\" class=\"dataframe\">\n",
              "  <thead>\n",
              "    <tr style=\"text-align: right;\">\n",
              "      <th>Survived</th>\n",
              "      <th>0</th>\n",
              "      <th>1</th>\n",
              "    </tr>\n",
              "    <tr>\n",
              "      <th>cabin_class</th>\n",
              "      <th></th>\n",
              "      <th></th>\n",
              "    </tr>\n",
              "  </thead>\n",
              "  <tbody>\n",
              "    <tr>\n",
              "      <th>first</th>\n",
              "      <td>0.353591</td>\n",
              "      <td>0.646409</td>\n",
              "    </tr>\n",
              "    <tr>\n",
              "      <th>second</th>\n",
              "      <td>0.520231</td>\n",
              "      <td>0.479769</td>\n",
              "    </tr>\n",
              "    <tr>\n",
              "      <th>third</th>\n",
              "      <td>0.760563</td>\n",
              "      <td>0.239437</td>\n",
              "    </tr>\n",
              "  </tbody>\n",
              "</table>\n",
              "</div>"
            ],
            "text/plain": [
              "Survived            0         1\n",
              "cabin_class                    \n",
              "first        0.353591  0.646409\n",
              "second       0.520231  0.479769\n",
              "third        0.760563  0.239437"
            ]
          },
          "metadata": {
            "tags": []
          },
          "execution_count": 25
        }
      ]
    },
    {
      "cell_type": "code",
      "metadata": {
        "id": "LZSwYZrvYwHW",
        "colab_type": "code",
        "outputId": "0ee81a8a-c95e-4f11-9177-b259fc01de7c",
        "colab": {
          "base_uri": "https://localhost:8080/",
          "height": 265
        }
      },
      "source": [
        "# A paired bar chart for comparison of 2 categorical variables:\n",
        "# Note the use of 'barh'. It is how to create a horizontal bar chart.\n",
        "cab_death2.plot(kind='barh', color=['purple', 'lightgreen'], figsize=(10, 4));"
      ],
      "execution_count": 26,
      "outputs": [
        {
          "output_type": "display_data",
          "data": {
            "image/png": "[encoded data removed]",
            "text/plain": [
              "<Figure size 720x288 with 1 Axes>"
            ]
          },
          "metadata": {
            "tags": [],
            "needs_background": "light"
          }
        }
      ]
    },
    {
      "cell_type": "markdown",
      "metadata": {
        "id": "B9w4Kv06otjx",
        "colab_type": "text"
      },
      "source": [
        "#### Compare a Categorical and Continuous Variable"
      ]
    },
    {
      "cell_type": "code",
      "metadata": {
        "id": "pSijPbcZYwSP",
        "colab_type": "code",
        "outputId": "3d04f0c5-4618-4add-fb46-18c888940aa1",
        "colab": {
          "base_uri": "https://localhost:8080/",
          "height": 181
        }
      },
      "source": [
        "# Let's look at a single continuous variable:\n",
        "titanic['Age'].describe()  # Shows all the descriptive data for the variable\n",
        "titanic['Age'].mean()      # If you want just the mean.\n",
        "titanic['Age'].median()    # If you want just the median.\n",
        "titanic['Age'].std()       # If you want just the Standard Deviation.\n",
        "titanic['Age'].describe()"
      ],
      "execution_count": 27,
      "outputs": [
        {
          "output_type": "execute_result",
          "data": {
            "text/plain": [
              "count    709.000000\n",
              "mean      29.618011\n",
              "std       14.518828\n",
              "min        0.420000\n",
              "25%       20.000000\n",
              "50%       28.000000\n",
              "75%       38.000000\n",
              "max       80.000000\n",
              "Name: Age, dtype: float64"
            ]
          },
          "metadata": {
            "tags": []
          },
          "execution_count": 27
        }
      ]
    },
    {
      "cell_type": "code",
      "metadata": {
        "id": "JP2YPDblYwXa",
        "colab_type": "code",
        "outputId": "d5626f20-3ab3-4c07-94fa-9990fe004813",
        "colab": {
          "base_uri": "https://localhost:8080/",
          "height": 108
        }
      },
      "source": [
        "# If you did \"titanic.groupby('cabin_class').mean()\" you would get the mean of\n",
        "#   all the columns based on 'cabin_class' values. By adding ['Age'] you get\n",
        "#   only the average (mean) ages by the values in 'cabin_class'.\n",
        "# .mean is the aggregator.\n",
        "# Now explore that continuous variable broken out by a categorical variable:\n",
        "cab_age = titanic.groupby('cabin_class')['Age'].mean()\n",
        "cab_age"
      ],
      "execution_count": 28,
      "outputs": [
        {
          "output_type": "execute_result",
          "data": {
            "text/plain": [
              "cabin_class\n",
              "first     38.151492\n",
              "second    29.877630\n",
              "third     25.140620\n",
              "Name: Age, dtype: float64"
            ]
          },
          "metadata": {
            "tags": []
          },
          "execution_count": 28
        }
      ]
    },
    {
      "cell_type": "code",
      "metadata": {
        "id": "DvlIQHohYwcE",
        "colab_type": "code",
        "outputId": "79412100-c184-40a9-8b09-22b59bc68acd",
        "colab": {
          "base_uri": "https://localhost:8080/",
          "height": 265
        }
      },
      "source": [
        "# To visualize a single continuous variable, you can just use`.plot` with \n",
        "#   kind='box':\n",
        "titanic['Age'].plot(kind='box');\n",
        "# The top dots are the outliers, each dot is an individual case,\n",
        "# The top line is 1.5 x the 75th %,\n",
        "# Top of the box is the 75th percentile,\n",
        "# The green line in the middle of the box is the median,\n",
        "# The bottom line of the box is the 25th percentile,\n",
        "# The bottom line is the 1.5 x the 25th %."
      ],
      "execution_count": 29,
      "outputs": [
        {
          "output_type": "display_data",
          "data": {
            "image/png": "[encoded data removed]",
            "text/plain": [
              "<Figure size 432x288 with 1 Axes>"
            ]
          },
          "metadata": {
            "tags": [],
            "needs_background": "light"
          }
        }
      ]
    },
    {
      "cell_type": "code",
      "metadata": {
        "id": "eb0kmXhMYwjH",
        "colab_type": "code",
        "outputId": "5c4b5ef0-8517-468a-c34f-4d79975131cb",
        "colab": {
          "base_uri": "https://localhost:8080/",
          "height": 302
        }
      },
      "source": [
        "# But to break out a continuous variable by a categorical variable, use 'boxplot`:\n",
        "plt.style.use('fast')\n",
        "titanic.boxplot(column='Age', by='cabin_class');"
      ],
      "execution_count": 30,
      "outputs": [
        {
          "output_type": "display_data",
          "data": {
            "image/png": "[encoded data removed]",
            "text/plain": [
              "<Figure size 432x288 with 1 Axes>"
            ]
          },
          "metadata": {
            "tags": [],
            "needs_background": "light"
          }
        }
      ]
    },
    {
      "cell_type": "markdown",
      "metadata": {
        "id": "ZiGvXAmwCNk7",
        "colab_type": "text"
      },
      "source": [
        "#### Compare 2 or 3 Continuous Variables"
      ]
    },
    {
      "cell_type": "code",
      "metadata": {
        "id": "-CYr_qtOYwnR",
        "colab_type": "code",
        "outputId": "870937d1-3410-49be-853c-866a4cbee1bf",
        "colab": {
          "base_uri": "https://localhost:8080/",
          "height": 225
        }
      },
      "source": [
        "# Two continuous variables: age by fare, using a scatter plot:\n",
        "titanic.plot(kind='scatter', x='Fare', y='Age', figsize=(12,3));"
      ],
      "execution_count": 31,
      "outputs": [
        {
          "output_type": "display_data",
          "data": {
            "image/png": "[encoded data removed]",
            "text/plain": [
              "<Figure size 864x216 with 1 Axes>"
            ]
          },
          "metadata": {
            "tags": [],
            "needs_background": "light"
          }
        }
      ]
    },
    {
      "cell_type": "code",
      "metadata": {
        "id": "2cffeXUiYws8",
        "colab_type": "code",
        "outputId": "b55620ba-09ff-457d-a5a7-b9eeba3964f0",
        "colab": {
          "base_uri": "https://localhost:8080/",
          "height": 204
        }
      },
      "source": [
        "# Three variables: age, fare, and cabin class (color can be either continuous \n",
        "#   or categorical here):\n",
        "plt.style.use('fast')\n",
        "titanic.plot(kind='scatter', x='Fare', y='Age', c='Pclass', colormap='plasma',\n",
        "             figsize=(12,3));"
      ],
      "execution_count": 32,
      "outputs": [
        {
          "output_type": "display_data",
          "data": {
            "image/png": "[encoded data removed]",
            "text/plain": [
              "<Figure size 864x216 with 2 Axes>"
            ]
          },
          "metadata": {
            "tags": [],
            "needs_background": "light"
          }
        }
      ]
    },
    {
      "cell_type": "markdown",
      "metadata": {
        "id": "y_XJlLw6D3qF",
        "colab_type": "text"
      },
      "source": [
        "#### Line Plot - 2 Continuous Variables\n",
        "Usse a line plot to examine 2 continuous variables (often time)"
      ]
    },
    {
      "cell_type": "code",
      "metadata": {
        "id": "hSQiU9-DYwzQ",
        "colab_type": "code",
        "outputId": "7e4b1ae1-01f5-43c2-f561-7f2207771720",
        "colab": {
          "base_uri": "https://localhost:8080/",
          "height": 279
        }
      },
      "source": [
        "# Line chart: age by fare:\n",
        "titanic.groupby('Age')['Fare'].mean().plot(kind='line', figsize=(12,4));"
      ],
      "execution_count": 33,
      "outputs": [
        {
          "output_type": "display_data",
          "data": {
            "image/png": "[encoded data removed]",
            "text/plain": [
              "<Figure size 864x288 with 1 Axes>"
            ]
          },
          "metadata": {
            "tags": [],
            "needs_background": "light"
          }
        }
      ]
    },
    {
      "cell_type": "code",
      "metadata": {
        "id": "jUD_SfrGYw2m",
        "colab_type": "code",
        "outputId": "bc60a595-7d40-4afe-d92c-bfb98a780b46",
        "colab": {
          "base_uri": "https://localhost:8080/",
          "height": 279
        }
      },
      "source": [
        "# Line chart: age by fare and cabin class:\n",
        "# Create a variable for the colors we will use.\n",
        "mycolors=['crimson', 'purple', 'dodgerblue']\n",
        "\n",
        "# Rather than specifying 3 plots (as we did above, the the histogram) you can \n",
        "#   just loop through the values:\n",
        "# Being that the color variable is a list, the index values are 0, 1, 2 so you\n",
        "#   have to specify x-1 to get the correct colors because in the for loop it \n",
        "#   states [1, 2, 3].\n",
        "for x in [1, 2, 3]:\n",
        "  titanic[titanic['Pclass']==x].groupby('Age')['Fare'].mean().plot(figsize=(12,4),\n",
        "                                                                  color=mycolors[x-1]);"
      ],
      "execution_count": 34,
      "outputs": [
        {
          "output_type": "display_data",
          "data": {
            "image/png": "[encoded data removed]",
            "text/plain": [
              "<Figure size 864x288 with 1 Axes>"
            ]
          },
          "metadata": {
            "tags": [],
            "needs_background": "light"
          }
        }
      ]
    },
    {
      "cell_type": "markdown",
      "metadata": {
        "id": "IFWfsHIoGx1O",
        "colab_type": "text"
      },
      "source": [
        "#### Compare Multiple Continuous Variables"
      ]
    },
    {
      "cell_type": "code",
      "metadata": {
        "id": "NrXFKWXoFTch",
        "colab_type": "code",
        "outputId": "df81cbcd-a899-45e4-afbb-5294736fe218",
        "colab": {
          "base_uri": "https://localhost:8080/",
          "height": 168
        }
      },
      "source": [
        "# Correlation Matrix (a pandas method):\n",
        "# This shows the correlation between variables from -1 - 1.\n",
        "# If it is - there is a negative correlation.\n",
        "# If it is + there is a positive correlation.\n",
        "titanic.corr()"
      ],
      "execution_count": 35,
      "outputs": [
        {
          "output_type": "execute_result",
          "data": {
            "text/html": [
              "<div>\n",
              "<style scoped>\n",
              "    .dataframe tbody tr th:only-of-type {\n",
              "        vertical-align: middle;\n",
              "    }\n",
              "\n",
              "    .dataframe tbody tr th {\n",
              "        vertical-align: top;\n",
              "    }\n",
              "\n",
              "    .dataframe thead th {\n",
              "        text-align: right;\n",
              "    }\n",
              "</style>\n",
              "<table border=\"1\" class=\"dataframe\">\n",
              "  <thead>\n",
              "    <tr style=\"text-align: right;\">\n",
              "      <th></th>\n",
              "      <th>Survived</th>\n",
              "      <th>Pclass</th>\n",
              "      <th>Age</th>\n",
              "      <th>Fare</th>\n",
              "    </tr>\n",
              "  </thead>\n",
              "  <tbody>\n",
              "    <tr>\n",
              "      <th>Survived</th>\n",
              "      <td>1.000000</td>\n",
              "      <td>-0.351579</td>\n",
              "      <td>-0.084756</td>\n",
              "      <td>0.272376</td>\n",
              "    </tr>\n",
              "    <tr>\n",
              "      <th>Pclass</th>\n",
              "      <td>-0.351579</td>\n",
              "      <td>1.000000</td>\n",
              "      <td>-0.365259</td>\n",
              "      <td>-0.616062</td>\n",
              "    </tr>\n",
              "    <tr>\n",
              "      <th>Age</th>\n",
              "      <td>-0.084756</td>\n",
              "      <td>-0.365259</td>\n",
              "      <td>1.000000</td>\n",
              "      <td>0.096573</td>\n",
              "    </tr>\n",
              "    <tr>\n",
              "      <th>Fare</th>\n",
              "      <td>0.272376</td>\n",
              "      <td>-0.616062</td>\n",
              "      <td>0.096573</td>\n",
              "      <td>1.000000</td>\n",
              "    </tr>\n",
              "  </tbody>\n",
              "</table>\n",
              "</div>"
            ],
            "text/plain": [
              "          Survived    Pclass       Age      Fare\n",
              "Survived  1.000000 -0.351579 -0.084756  0.272376\n",
              "Pclass   -0.351579  1.000000 -0.365259 -0.616062\n",
              "Age      -0.084756 -0.365259  1.000000  0.096573\n",
              "Fare      0.272376 -0.616062  0.096573  1.000000"
            ]
          },
          "metadata": {
            "tags": []
          },
          "execution_count": 35
        }
      ]
    },
    {
      "cell_type": "code",
      "metadata": {
        "id": "OGXesvSQYwv8",
        "colab_type": "code",
        "outputId": "e8a10419-cd66-490a-fac0-25e35e9cc083",
        "colab": {
          "base_uri": "https://localhost:8080/",
          "height": 269
        }
      },
      "source": [
        "# Display the correlation matrix as a heatmap:\n",
        "plt.imshow(titanic.corr());"
      ],
      "execution_count": 36,
      "outputs": [
        {
          "output_type": "display_data",
          "data": {
            "image/png": "[encoded data removed]",
            "text/plain": [
              "<Figure size 432x288 with 1 Axes>"
            ]
          },
          "metadata": {
            "tags": [],
            "needs_background": "light"
          }
        }
      ]
    },
    {
      "cell_type": "code",
      "metadata": {
        "id": "-FN2QOmiYwqv",
        "colab_type": "code",
        "outputId": "aa7ecd85-85e2-4e43-a8e3-6c0b0f1a7d9b",
        "colab": {
          "base_uri": "https://localhost:8080/",
          "height": 269
        }
      },
      "source": [
        "# Use seaborn to make a heatmap:\n",
        "sns.heatmap(titanic.corr());"
      ],
      "execution_count": 37,
      "outputs": [
        {
          "output_type": "display_data",
          "data": {
            "image/png": "[encoded data removed]",
            "text/plain": [
              "<Figure size 432x288 with 2 Axes>"
            ]
          },
          "metadata": {
            "tags": [],
            "needs_background": "light"
          }
        }
      ]
    },
    {
      "cell_type": "markdown",
      "metadata": {
        "id": "OSm_dZ0r9K8R",
        "colab_type": "text"
      },
      "source": [
        "### Intro to `matplotlib`\n"
      ]
    },
    {
      "cell_type": "code",
      "metadata": {
        "id": "qQk1eP9VMQRE",
        "colab_type": "code",
        "outputId": "9a576ec4-2327-4550-c573-5202c195dca8",
        "colab": {
          "base_uri": "https://localhost:8080/",
          "height": 72
        }
      },
      "source": [
        "# This is the data we will be plotting:\n",
        "x =np.linspace(0, 5, 11)\n",
        "y = x**2\n",
        "x, y"
      ],
      "execution_count": 38,
      "outputs": [
        {
          "output_type": "execute_result",
          "data": {
            "text/plain": [
              "(array([0. , 0.5, 1. , 1.5, 2. , 2.5, 3. , 3.5, 4. , 4.5, 5. ]),\n",
              " array([ 0.  ,  0.25,  1.  ,  2.25,  4.  ,  6.25,  9.  , 12.25, 16.  ,\n",
              "        20.25, 25.  ]))"
            ]
          },
          "metadata": {
            "tags": []
          },
          "execution_count": 38
        }
      ]
    },
    {
      "cell_type": "markdown",
      "metadata": {
        "id": "GYdLBO_g9tUp",
        "colab_type": "text"
      },
      "source": [
        "#### Basic `matplotlib`"
      ]
    },
    {
      "cell_type": "code",
      "metadata": {
        "id": "jDxRqJ2BYwgw",
        "colab_type": "code",
        "outputId": "b2f022ce-f80b-4ff4-ad65-78d87714f5e4",
        "colab": {
          "base_uri": "https://localhost:8080/",
          "height": 265
        }
      },
      "source": [
        "# This is a very simple plot to get started with:\n",
        "# Notice that no Pandas is required here!\n",
        "plt.plot(x, y);"
      ],
      "execution_count": 39,
      "outputs": [
        {
          "output_type": "display_data",
          "data": {
            "image/png": "[encoded data removed]",
            "text/plain": [
              "<Figure size 432x288 with 1 Axes>"
            ]
          },
          "metadata": {
            "tags": [],
            "needs_background": "light"
          }
        }
      ]
    },
    {
      "cell_type": "code",
      "metadata": {
        "id": "Uv9FhWIfYwUs",
        "colab_type": "code",
        "outputId": "013c95bb-1597-4589-bc2a-d4f1eedaa28b",
        "colab": {
          "base_uri": "https://localhost:8080/",
          "height": 265
        }
      },
      "source": [
        "# You can have 2 'plt' plots together:\n",
        "# Going to add some color too.\n",
        "plt.plot(x, y, 'r')\n",
        "plt.plot(y, x, 'b');"
      ],
      "execution_count": 40,
      "outputs": [
        {
          "output_type": "display_data",
          "data": {
            "image/png": "[encoded data removed]",
            "text/plain": [
              "<Figure size 432x288 with 1 Axes>"
            ]
          },
          "metadata": {
            "tags": [],
            "needs_background": "light"
          }
        }
      ]
    },
    {
      "cell_type": "code",
      "metadata": {
        "id": "bxmc69RiYwQy",
        "colab_type": "code",
        "outputId": "64a19ee7-af88-4c50-b86b-d28c3d5cf942",
        "colab": {
          "base_uri": "https://localhost:8080/",
          "height": 295
        }
      },
      "source": [
        "# Now add some labels plus a little texture:\n",
        "# 'r--' = color=red & -- for the line type.\n",
        "# 'k*-' = color=black & *- for the line type.\n",
        "plt.plot(x, y, 'r--')\n",
        "plt.plot(y, x, 'k*-')\n",
        "plt.xlabel('stuff here')\n",
        "plt.ylabel('more stuff')\n",
        "plt.title('lots of stuff');"
      ],
      "execution_count": 41,
      "outputs": [
        {
          "output_type": "display_data",
          "data": {
            "image/png": "[encoded data removed]",
            "text/plain": [
              "<Figure size 432x288 with 1 Axes>"
            ]
          },
          "metadata": {
            "tags": [],
            "needs_background": "light"
          }
        }
      ]
    },
    {
      "cell_type": "markdown",
      "metadata": {
        "id": "wbTv_6nMBTNW",
        "colab_type": "text"
      },
      "source": [
        "#### Multiplots on Same Canvas"
      ]
    },
    {
      "cell_type": "code",
      "metadata": {
        "id": "-HGdrwINYwBv",
        "colab_type": "code",
        "outputId": "c5ceb090-f1f3-47ce-ba9c-8662c832e997",
        "colab": {
          "base_uri": "https://localhost:8080/",
          "height": 265
        }
      },
      "source": [
        "# The basic syntax goes like this: \n",
        "# plt.subplot(nrows (# of rows), ncols (# of columns), plt_number)\n",
        "plt.subplot(3, 1, 1)\n",
        "plt.plot(x, y, 'b')\n",
        "plt.subplot(3, 1, 2)\n",
        "plt.plot(x, y, 'r--')\n",
        "plt.subplot(3, 1, 3)\n",
        "plt.plot(x, y, 'g-x');"
      ],
      "execution_count": 42,
      "outputs": [
        {
          "output_type": "display_data",
          "data": {
            "image/png": "[encoded data removed]",
            "text/plain": [
              "<Figure size 432x288 with 3 Axes>"
            ]
          },
          "metadata": {
            "tags": [],
            "needs_background": "light"
          }
        }
      ]
    },
    {
      "cell_type": "markdown",
      "metadata": {
        "id": "Qqjx64TzCj-A",
        "colab_type": "text"
      },
      "source": [
        "#### The `.figure()` method\n",
        "Have to first create a figure instance (empty canvas).\n",
        "\n",
        "Then can add axes to that figure."
      ]
    },
    {
      "cell_type": "code",
      "metadata": {
        "id": "S3RvFfmnYvi_",
        "colab_type": "code",
        "outputId": "d8bae2e9-d061-4e9e-dfb1-7e92048a6444",
        "colab": {
          "base_uri": "https://localhost:8080/",
          "height": 308
        }
      },
      "source": [
        "# Create the figure class (empty canvas):\n",
        "fig = plt.figure()\n",
        "\n",
        "# Add set of axes to the figure:\n",
        "# Can name this anything but it is generally called ax for axes.\n",
        "ax = fig.add_axes([0.1,    # Left\n",
        "                   0.1,    # Bottom     }-- Range is 0 to 1\n",
        "                   0.8,    # Width\n",
        "                   0.8])   # Height\n",
        "\n",
        "# Plot on that set of axes:\n",
        "ax.plot(x, y, 'b')\n",
        "ax.set_xlabel('this label 1')\n",
        "ax.set_ylabel('this label 2')\n",
        "ax.set_title('this label 3');\n",
        "\n",
        "# Notice the use of the set_ to begin methods.\n",
        "# This code is a little more complicated, but the advantage is that we now have\n",
        "#   full control of where the plot axes are placed, and we can easily add more\n",
        "#   than one axes to the figure."
      ],
      "execution_count": 43,
      "outputs": [
        {
          "output_type": "display_data",
          "data": {
            "image/png": "[encoded data removed]",
            "text/plain": [
              "<Figure size 432x288 with 1 Axes>"
            ]
          },
          "metadata": {
            "tags": [],
            "needs_background": "light"
          }
        }
      ]
    },
    {
      "cell_type": "code",
      "metadata": {
        "id": "DxxJeIp0Yvbn",
        "colab_type": "code",
        "outputId": "9dba0bd5-8f0c-454f-8922-be876b1aed88",
        "colab": {
          "base_uri": "https://localhost:8080/",
          "height": 309
        }
      },
      "source": [
        "# Creates blank canvas:\n",
        "fig2 = plt.figure()\n",
        "\n",
        "# Create your axes:\n",
        "# The sizes passed in are different for each axes because one will be smaller.\n",
        "axes1 = fig2.add_axes([0.1, 0.1, 0.8, 0.8]) # main axes\n",
        "axes2 = fig2.add_axes([0.2, 0.5, 0.4, 0.3]) # inset axes\n",
        "\n",
        "# Larger Figure Axes 1:\n",
        "axes1.plot(x, y, 'b')\n",
        "axes1.set_xlabel('X_label_axes2')\n",
        "axes1.set_ylabel('Y_label_axes2')\n",
        "axes1.set_title('Axes 2 Title')\n",
        "\n",
        "# Insert Figure Axes 2:\n",
        "axes2.plot(y, x, 'r')\n",
        "axes2.set_xlabel('X_label_axes2')\n",
        "axes2.set_ylabel('Y_label_axes2')\n",
        "axes2.set_title('Axes 2 Title');"
      ],
      "execution_count": 44,
      "outputs": [
        {
          "output_type": "display_data",
          "data": {
            "image/png": "[encoded data removed]",
            "text/plain": [
              "<Figure size 432x288 with 2 Axes>"
            ]
          },
          "metadata": {
            "tags": [],
            "needs_background": "light"
          }
        }
      ]
    },
    {
      "cell_type": "markdown",
      "metadata": {
        "id": "sXmEevRzHtVX",
        "colab_type": "text"
      },
      "source": [
        "#### The `subplots()` Method\n",
        "\n",
        "`plt.subplots()` is a function that returns a tuple containing a figure and axes object(s).\n",
        "\n",
        "When using `fig, ax = pplt.subplots()` you unpack this tuple into the variables fig and ax. \n",
        "\n",
        "Having fig is useful if you want to change figure-level attributes or save the figure as an image to use later.\n",
        "\n",
        "All axes objects (the objects that have plotting methods) have a parent figure object anyway.\n",
        "\n",
        "```\n",
        "# This is more concise then the one below:\n",
        "fig, ax = plt.subplots()\n",
        "```\n",
        "```\n",
        "# This one is not as concise as the one above but does the same thing:\n",
        "fig = plt.figure()\n",
        "ax = fig.add_subplot(111)\n",
        "```\n",
        "\n",
        "https://stackoverflow.com/questions/34162443/why-do-many-examples-use-fig-ax-plt-subplots-in-matplotlib-pyplot-python\n",
        "\n",
        "\n"
      ]
    },
    {
      "cell_type": "code",
      "metadata": {
        "id": "B27M85ncYvA8",
        "colab_type": "code",
        "outputId": "c8b8cdfd-2815-4695-f128-e3e65123ca87",
        "colab": {
          "base_uri": "https://localhost:8080/",
          "height": 295
        }
      },
      "source": [
        "# Used similar to plt.figure() except uses tuple unpacking to grab fig and axes.\n",
        "fig, axes = plt.subplots(nrows=1, ncols=1) \n",
        "# The default is `(1, 1)` so you don't actually have to specify this.\n",
        "\n",
        "# Now use the axes object to add stuff to plot:\n",
        "axes.plot(x, y, 'darkred')\n",
        "axes.set_xlabel('x')\n",
        "axes.set_ylabel('y')\n",
        "axes.set_title('title');"
      ],
      "execution_count": 45,
      "outputs": [
        {
          "output_type": "display_data",
          "data": {
            "image/png": "[encoded data removed]",
            "text/plain": [
              "<Figure size 432x288 with 1 Axes>"
            ]
          },
          "metadata": {
            "tags": [],
            "needs_background": "light"
          }
        }
      ]
    },
    {
      "cell_type": "code",
      "metadata": {
        "id": "LoBBkT7EOgJw",
        "colab_type": "code",
        "outputId": "915b8bf2-b291-476b-ebd8-1b7ced2d7dd4",
        "colab": {
          "base_uri": "https://localhost:8080/",
          "height": 297
        }
      },
      "source": [
        "# Then you can specify the number of rows and columns when creating the\n",
        "#   subplots() object.\n",
        "# Empty canvas of 1 by 2 subplots\n",
        "fig, axes = plt.subplots(nrows=3, ncols=3) \n",
        "# the parameter labels `nrows` and `ncols` are optional.\n",
        "\n",
        "# Call the figure:\n",
        "fig    \n",
        "\n",
        "# Use to group them tightly together:\n",
        "plt.tight_layout() \n",
        "# more about `.tight_layout()` below."
      ],
      "execution_count": 46,
      "outputs": [
        {
          "output_type": "display_data",
          "data": {
            "image/png": "[encoded data removed]",
            "text/plain": [
              "<Figure size 432x288 with 9 Axes>"
            ]
          },
          "metadata": {
            "tags": [],
            "needs_background": "light"
          }
        }
      ]
    },
    {
      "cell_type": "code",
      "metadata": {
        "id": "8qLfHx4_OgR8",
        "colab_type": "code",
        "outputId": "29ec5ae9-76e0-426d-da95-6ad8457dac5a",
        "colab": {
          "base_uri": "https://localhost:8080/",
          "height": 199
        }
      },
      "source": [
        "# If you were to call the axes by itself it would return a numpy array.\n",
        "axes"
      ],
      "execution_count": 47,
      "outputs": [
        {
          "output_type": "execute_result",
          "data": {
            "text/plain": [
              "array([[<matplotlib.axes._subplots.AxesSubplot object at 0x7fefda8ec5f8>,\n",
              "        <matplotlib.axes._subplots.AxesSubplot object at 0x7fefda8d8b38>,\n",
              "        <matplotlib.axes._subplots.AxesSubplot object at 0x7fefda639550>],\n",
              "       [<matplotlib.axes._subplots.AxesSubplot object at 0x7fefda911240>,\n",
              "        <matplotlib.axes._subplots.AxesSubplot object at 0x7fefda657208>,\n",
              "        <matplotlib.axes._subplots.AxesSubplot object at 0x7fefda5487b8>],\n",
              "       [<matplotlib.axes._subplots.AxesSubplot object at 0x7fefd925eeb8>,\n",
              "        <matplotlib.axes._subplots.AxesSubplot object at 0x7fefd9257630>,\n",
              "        <matplotlib.axes._subplots.AxesSubplot object at 0x7fefda93b588>]],\n",
              "      dtype=object)"
            ]
          },
          "metadata": {
            "tags": []
          },
          "execution_count": 47
        }
      ]
    },
    {
      "cell_type": "code",
      "metadata": {
        "id": "t_FEHKGfOgiC",
        "colab_type": "code",
        "outputId": "effef701-68ad-4003-9cef-e89149359c89",
        "colab": {
          "base_uri": "https://localhost:8080/",
          "height": 295
        }
      },
      "source": [
        "# Because axes is an array you can use a for loop to display all of them.\n",
        "fig, axes = plt.subplots(nrows=1, ncols=2)\n",
        "\n",
        "# Display the figure object \n",
        "for ax in axes:\n",
        "    ax.plot(x, y, 'g')\n",
        "    ax.set_xlabel('x axis')\n",
        "    ax.set_title('display')   \n",
        "plt;"
      ],
      "execution_count": 48,
      "outputs": [
        {
          "output_type": "display_data",
          "data": {
            "image/png": "[encoded data removed]",
            "text/plain": [
              "<Figure size 432x288 with 2 Axes>"
            ]
          },
          "metadata": {
            "tags": [],
            "needs_background": "light"
          }
        }
      ]
    },
    {
      "cell_type": "code",
      "metadata": {
        "id": "BzvbKcAtOgfi",
        "colab_type": "code",
        "outputId": "a088a8cc-afce-42d8-b15b-3aea05f65a5e",
        "colab": {
          "base_uri": "https://localhost:8080/",
          "height": 297
        }
      },
      "source": [
        "# tight_layout keeps your figures from overlaping too much:\n",
        "fig, axes = plt.subplots(nrows=1, ncols=2)\n",
        "\n",
        "for ax in axes:\n",
        "    ax.plot(x, y, 'g')\n",
        "    ax.set_xlabel('x')\n",
        "    ax.set_ylabel('y')\n",
        "    ax.set_title('title')\n",
        "\n",
        "fig    \n",
        "plt.tight_layout()"
      ],
      "execution_count": 49,
      "outputs": [
        {
          "output_type": "display_data",
          "data": {
            "image/png": "[encoded data removed]",
            "text/plain": [
              "<Figure size 432x288 with 2 Axes>"
            ]
          },
          "metadata": {
            "tags": [],
            "needs_background": "light"
          }
        }
      ]
    },
    {
      "cell_type": "markdown",
      "metadata": {
        "id": "hbZ2p5yz9i0F",
        "colab_type": "text"
      },
      "source": [
        "### Imitate a Real-World Example"
      ]
    },
    {
      "cell_type": "code",
      "metadata": {
        "id": "3NqUWvxSOgb_",
        "colab_type": "code",
        "outputId": "4b0872d3-e761-488b-f50c-601e97008d2c",
        "colab": {
          "base_uri": "https://localhost:8080/",
          "height": 355
        }
      },
      "source": [
        "# Today we will reproduce this example from FiveThirtyEight:\n",
        "from IPython.display import display, Image\n",
        "\n",
        "url = 'https://fivethirtyeight.com/wp-content/uploads/2017/09/mehtahickey-inconvenient-0830-1.png'\n",
        "example = Image(url=url, width=400)\n",
        "\n",
        "display(example)"
      ],
      "execution_count": 50,
      "outputs": [
        {
          "output_type": "display_data",
          "data": {
            "text/html": [
              "<img src=\"https://fivethirtyeight.com/wp-content/uploads/2017/09/mehtahickey-inconvenient-0830-1.png\" width=\"400\"/>"
            ],
            "text/plain": [
              "<IPython.core.display.Image object>"
            ]
          },
          "metadata": {
            "tags": []
          }
        }
      ]
    },
    {
      "cell_type": "markdown",
      "metadata": {
        "id": "iy1znVu9-PaJ",
        "colab_type": "text"
      },
      "source": [
        "This comes from a github repository:\n",
        "https://github.com/fivethirtyeight/data/tree/master/inconvenient-sequel\n",
        "\n",
        "Which then leads us to a blog post about movie ratings.\n",
        "\n",
        "Going to try to get as close as posible to the example."
      ]
    },
    {
      "cell_type": "markdown",
      "metadata": {
        "id": "TqexcPG3-2jw",
        "colab_type": "text"
      },
      "source": [
        "#### Make Fake Prototypes"
      ]
    },
    {
      "cell_type": "code",
      "metadata": {
        "id": "PHtom3UkOgaU",
        "colab_type": "code",
        "colab": {}
      },
      "source": [
        ""
      ],
      "execution_count": 0,
      "outputs": []
    },
    {
      "cell_type": "code",
      "metadata": {
        "id": "Vz5CEyFXOgYf",
        "colab_type": "code",
        "colab": {}
      },
      "source": [
        ""
      ],
      "execution_count": 0,
      "outputs": []
    },
    {
      "cell_type": "code",
      "metadata": {
        "id": "gqCZXkSAOgWr",
        "colab_type": "code",
        "colab": {}
      },
      "source": [
        ""
      ],
      "execution_count": 0,
      "outputs": []
    },
    {
      "cell_type": "code",
      "metadata": {
        "id": "y0hpOIRGOgPe",
        "colab_type": "code",
        "colab": {}
      },
      "source": [
        ""
      ],
      "execution_count": 0,
      "outputs": []
    },
    {
      "cell_type": "code",
      "metadata": {
        "id": "n_VCgO2OOgIP",
        "colab_type": "code",
        "colab": {}
      },
      "source": [
        ""
      ],
      "execution_count": 0,
      "outputs": []
    },
    {
      "cell_type": "code",
      "metadata": {
        "id": "yQTqoJZzOgEl",
        "colab_type": "code",
        "colab": {}
      },
      "source": [
        ""
      ],
      "execution_count": 0,
      "outputs": []
    },
    {
      "cell_type": "code",
      "metadata": {
        "id": "q8QlkElMYued",
        "colab_type": "code",
        "colab": {}
      },
      "source": [
        ""
      ],
      "execution_count": 0,
      "outputs": []
    },
    {
      "cell_type": "markdown",
      "metadata": {
        "id": "i22xljN89VlJ",
        "colab_type": "text"
      },
      "source": [
        "## Part 2 - Reproduce another [FiveThityEight's repository](https://data.fivethirtyeight.com/)\n",
        "**WARNING:** There are a lot of very custom graphs and tables at the above link. I highly recommend not trying to reproduce any that look like a table of values or something really different from the graph types that we are already familiar with. Search through the posts until you find a graph type that you are more or less familiar with: histogram, bar chart, stacked bar chart, line chart, [seaborn relplot](https://seaborn.pydata.org/generated/seaborn.relplot.html), etc. Recreating some of the graphics that 538 uses would be a lot easier in Adobe photoshop/illustrator than with matplotlib.\n",
        "\n",
        "If you put in some time to find a graph that looks \"easy\" to replicate you'll probably find that it's not as easy as you thought.\n",
        "\n",
        "If you start with a graph that looks hard to replicate you'll probably run up against a brick wall and be disappointed with your afternoon."
      ]
    },
    {
      "cell_type": "markdown",
      "metadata": {
        "id": "tE0Q6d8LDf0G",
        "colab_type": "text"
      },
      "source": [
        "### My Source:\n",
        "I am going to try to recreate the bar chart in the \n",
        "\n",
        "[When Does Praying In Public Make Others Uncomfortable?](https://fivethirtyeight.com/features/when-does-praying-in-public-make-others-uncomfortable/)\n"
      ]
    },
    {
      "cell_type": "code",
      "metadata": {
        "id": "8PGUApD1GJkm",
        "colab_type": "code",
        "outputId": "6f909334-64d5-434d-ab13-7f3ce05cc58f",
        "colab": {
          "base_uri": "https://localhost:8080/",
          "height": 745
        }
      },
      "source": [
        "# Need to import library to display my image:\n",
        "from IPython.display import display, Image\n",
        "\n",
        "# Add a picture of the chart I am going to recreate:\n",
        "rel_chart = Image(url='https://fivethirtyeight.com/wp-content/uploads/2016/09/libresco-publicprayer-21.png?w=575',\n",
        "                  width=600)\n",
        "\n",
        "# View my example:\n",
        "display(rel_chart)"
      ],
      "execution_count": 51,
      "outputs": [
        {
          "output_type": "display_data",
          "data": {
            "text/html": [
              "<img src=\"https://fivethirtyeight.com/wp-content/uploads/2016/09/libresco-publicprayer-21.png?w=575\" width=\"600\"/>"
            ],
            "text/plain": [
              "<IPython.core.display.Image object>"
            ]
          },
          "metadata": {
            "tags": []
          }
        }
      ]
    },
    {
      "cell_type": "code",
      "metadata": {
        "id": "Le70ZdxHFMhv",
        "colab_type": "code",
        "colab": {}
      },
      "source": [
        "# Read in the csv file:\n",
        "rel = pd.read_csv('https://raw.githubusercontent.com/fivethirtyeight/data/master/religion-survey/religion-survey-results.csv')"
      ],
      "execution_count": 0,
      "outputs": []
    },
    {
      "cell_type": "code",
      "metadata": {
        "id": "ysnr7H6cFXTp",
        "colab_type": "code",
        "outputId": "5313091e-8c7e-46d4-ca81-393b35d90274",
        "colab": {
          "base_uri": "https://localhost:8080/",
          "height": 660
        }
      },
      "source": [
        "# View a sample of the data to make sure it all lines up:\n",
        "print (rel.shape)\n",
        "rel.sample(3)"
      ],
      "execution_count": 53,
      "outputs": [
        {
          "output_type": "stream",
          "text": [
            "(1040, 48)\n"
          ],
          "name": "stdout"
        },
        {
          "output_type": "execute_result",
          "data": {
            "text/html": [
              "<div>\n",
              "<style scoped>\n",
              "    .dataframe tbody tr th:only-of-type {\n",
              "        vertical-align: middle;\n",
              "    }\n",
              "\n",
              "    .dataframe tbody tr th {\n",
              "        vertical-align: top;\n",
              "    }\n",
              "\n",
              "    .dataframe thead th {\n",
              "        text-align: right;\n",
              "    }\n",
              "</style>\n",
              "<table border=\"1\" class=\"dataframe\">\n",
              "  <thead>\n",
              "    <tr style=\"text-align: right;\">\n",
              "      <th></th>\n",
              "      <th>What is your present religion, if any?</th>\n",
              "      <th>Unnamed: 1</th>\n",
              "      <th>Do you consider yourself to be an evangelical?</th>\n",
              "      <th>Do you attend religious services</th>\n",
              "      <th>How often do you: Pray in public with visible motions (sign of the cross, bowing, prostration, shokeling, etc)</th>\n",
              "      <th>How often do you: Pray in public using some kind of physical object (rosary, tefillin, etc)</th>\n",
              "      <th>How often do you: Pray aloud before meals in the presence of people who don't belong to your religion</th>\n",
              "      <th>How often do you: Tell someone you'll pray for him or her</th>\n",
              "      <th>How often do you: Ask or offer to pray with someone</th>\n",
              "      <th>How often do you: Bring up your religion, unprompted, in conversation</th>\n",
              "      <th>How often do you: Ask others about their religion, unprompted, in conversation</th>\n",
              "      <th>How often do you: Decline some kind of food or beverage for religious reasons (kosher, halal, fasting rules, etc)</th>\n",
              "      <th>How often do you: Wear religious clothing/jewelry (hijab, kippah, wig, kara, turban, cross, etc)</th>\n",
              "      <th>How often do you: Participate in a public religious event on the streets (Corpus Christi procession, inauguration of Torah scrolls, etc)</th>\n",
              "      <th>How comfortable do you feel when you: Pray in public with visible motions (sign of the cross, bowing, prostration, shokeling, etc)</th>\n",
              "      <th>How comfortable do you feel when you: Pray in public using some kind of physical object (rosary, tefillin, etc)</th>\n",
              "      <th>How comfortable do you feel when you: Pray aloud before meals in the presence of people who don't belong to your religion</th>\n",
              "      <th>How comfortable do you feel when you: Tell someone you'll pray for him or her</th>\n",
              "      <th>How comfortable do you feel when you: Ask or offer to pray with someone</th>\n",
              "      <th>How comfortable do you feel when you: Bring up your religion, unprompted, in conversation</th>\n",
              "      <th>How comfortable do you feel when you: Ask others about their religion, unprompted, in conversation</th>\n",
              "      <th>How comfortable do you feel when you: Decline some kind of food or beverage for religious reasons (kosher, halal, fasting rules, etc)</th>\n",
              "      <th>How comfortable do you feel when you: Wear religious clothing/jewelry (hijab, kippah, wig, kara, turban, cross, etc)</th>\n",
              "      <th>How comfortable do you feel when you: Participate in a public religious event on the streets (Corpus Christi procession, inauguration of Torah scrolls, etc)</th>\n",
              "      <th>How comfortable do you think someone outside your religion would be if they saw you: Pray in public with visible motions (sign of the cross, bowing, prostration, shokeling, etc)</th>\n",
              "      <th>How comfortable do you think someone outside your religion would be if they saw you: Pray in public using some kind of physical object (rosary, tefillin, etc)</th>\n",
              "      <th>How comfortable do you think someone outside your religion would be if they saw you: Pray aloud before meals in the presence of people who don't belong to your religion</th>\n",
              "      <th>How comfortable do you think someone outside your religion would be if they saw you: Tell someone you'll pray for him or her</th>\n",
              "      <th>How comfortable do you think someone outside your religion would be if they saw you: Ask or offer to pray with someone</th>\n",
              "      <th>How comfortable do you think someone outside your religion would be if they saw you: Bring up your religion, unprompted, in conversation</th>\n",
              "      <th>How comfortable do you think someone outside your religion would be if they saw you: Ask others about their religion, unprompted, in conversation</th>\n",
              "      <th>How comfortable do you think someone outside your religion would be if they saw you: Decline some kind of food or beverage for religious reasons (kosher, halal, fasting rules, etc)</th>\n",
              "      <th>How comfortable do you think someone outside your religion would be if they saw you: Wear religious clothing/jewelry (hijab, kippah, wig, kara, turban, cross, etc)</th>\n",
              "      <th>How comfortable do you think someone outside your religion would be if they saw you: Participate in a public religious event on the streets (Corpus Christi procession, inauguration of Torah scrolls, etc)</th>\n",
              "      <th>How comfortable would you be seeing someone who practices a different religion from you: Pray in public with visible motions (sign of the cross, bowing, prostration, shokeling, etc)</th>\n",
              "      <th>How comfortable would you be seeing someone who practices a different religion from you: Pray in public using some kind of physical object (rosary, tefillin, etc)</th>\n",
              "      <th>How comfortable would you be seeing someone who practices a different religion from you: Pray aloud before meals in the presence of people who don't belong to that religion</th>\n",
              "      <th>How comfortable would you be seeing someone who practices a different religion from you: Tell someone \"I'll pray for you\"</th>\n",
              "      <th>How comfortable would you be seeing someone who practices a different religion from you: Ask or offer to pray with you</th>\n",
              "      <th>How comfortable would you be seeing someone who practices a different religion from you: Bring up his or her own religion, unprompted, in conversation</th>\n",
              "      <th>How comfortable would you be seeing someone who practices a different religion from you: Ask you about your religion, unprompted, in conversation</th>\n",
              "      <th>How comfortable would you be seeing someone who practices a different religion from you: Decline some kind of food or beverage for religious reasons (kosher, halal, fasting rules, etc)</th>\n",
              "      <th>How comfortable would you be seeing someone who practices a different religion from you: Wear religious clothing/jewelry (hijab, kippah, wig, kara, turban, cross, etc)</th>\n",
              "      <th>How comfortable would you be seeing someone who practices a different religion from you: Participate in a public religious event on the streets (Corpus Christi procession, inauguration of Torah scrolls, etc)</th>\n",
              "      <th>What is your age?</th>\n",
              "      <th>What is your gender?</th>\n",
              "      <th>How much total combined money did all members of your HOUSEHOLD earn last year?</th>\n",
              "      <th>US Region</th>\n",
              "    </tr>\n",
              "  </thead>\n",
              "  <tbody>\n",
              "    <tr>\n",
              "      <th>746</th>\n",
              "      <td>Roman Catholic</td>\n",
              "      <td>NaN</td>\n",
              "      <td>No</td>\n",
              "      <td>Less than weekly</td>\n",
              "      <td>Once a year or less</td>\n",
              "      <td>Once a year or less</td>\n",
              "      <td>Once a year or less</td>\n",
              "      <td>Once a year or less</td>\n",
              "      <td>Never</td>\n",
              "      <td>Once a month or less</td>\n",
              "      <td>Once a month or less</td>\n",
              "      <td>Once a month or less</td>\n",
              "      <td>Once a year or less</td>\n",
              "      <td>Once a year or less</td>\n",
              "      <td>Very comfortable</td>\n",
              "      <td>Very comfortable</td>\n",
              "      <td>Very comfortable</td>\n",
              "      <td>Somewhat comfortably</td>\n",
              "      <td>Not so comfortable</td>\n",
              "      <td>Somewhat comfortably</td>\n",
              "      <td>Somewhat comfortably</td>\n",
              "      <td>Somewhat comfortably</td>\n",
              "      <td>I don't do this</td>\n",
              "      <td>Somewhat comfortably</td>\n",
              "      <td>Very comfortable</td>\n",
              "      <td>Very comfortable</td>\n",
              "      <td>Very comfortable</td>\n",
              "      <td>Very comfortable</td>\n",
              "      <td>Very comfortable</td>\n",
              "      <td>Somewhat comfortably</td>\n",
              "      <td>Somewhat comfortably</td>\n",
              "      <td>Somewhat comfortably</td>\n",
              "      <td>Very comfortable</td>\n",
              "      <td>Somewhat comfortably</td>\n",
              "      <td>Very comfortable</td>\n",
              "      <td>Very comfortable</td>\n",
              "      <td>Very comfortable</td>\n",
              "      <td>Very comfortable</td>\n",
              "      <td>Very comfortable</td>\n",
              "      <td>Very comfortable</td>\n",
              "      <td>Very comfortable</td>\n",
              "      <td>Very comfortable</td>\n",
              "      <td>Very comfortable</td>\n",
              "      <td>Very comfortable</td>\n",
              "      <td>30 - 44</td>\n",
              "      <td>Female</td>\n",
              "      <td>$150,000 to $174,999</td>\n",
              "      <td>West North Central</td>\n",
              "    </tr>\n",
              "    <tr>\n",
              "      <th>169</th>\n",
              "      <td>Orthodox Christian</td>\n",
              "      <td>NaN</td>\n",
              "      <td>No</td>\n",
              "      <td>Less than weekly</td>\n",
              "      <td>Once a year or less</td>\n",
              "      <td>Not applicable to my religious beliefs</td>\n",
              "      <td>Once a year or less</td>\n",
              "      <td>Once a year or less</td>\n",
              "      <td>Never</td>\n",
              "      <td>Never</td>\n",
              "      <td>Never</td>\n",
              "      <td>Never</td>\n",
              "      <td>Not applicable to my religious beliefs</td>\n",
              "      <td>Not applicable to my religious beliefs</td>\n",
              "      <td>Not so comfortable</td>\n",
              "      <td>I don't do this</td>\n",
              "      <td>Somewhat comfortably</td>\n",
              "      <td>Somewhat comfortably</td>\n",
              "      <td>I don't do this</td>\n",
              "      <td>I don't do this</td>\n",
              "      <td>I don't do this</td>\n",
              "      <td>I don't do this</td>\n",
              "      <td>I don't do this</td>\n",
              "      <td>I don't do this</td>\n",
              "      <td>Not so comfortable</td>\n",
              "      <td>I don't do this</td>\n",
              "      <td>Not so comfortable</td>\n",
              "      <td>Not so comfortable</td>\n",
              "      <td>I don't do this</td>\n",
              "      <td>I don't do this</td>\n",
              "      <td>I don't do this</td>\n",
              "      <td>I don't do this</td>\n",
              "      <td>I don't do this</td>\n",
              "      <td>I don't do this</td>\n",
              "      <td>Somewhat comfortably</td>\n",
              "      <td>Somewhat comfortably</td>\n",
              "      <td>Somewhat comfortably</td>\n",
              "      <td>Somewhat comfortably</td>\n",
              "      <td>Not so comfortable</td>\n",
              "      <td>Somewhat comfortably</td>\n",
              "      <td>Somewhat comfortably</td>\n",
              "      <td>Very comfortable</td>\n",
              "      <td>Very comfortable</td>\n",
              "      <td>Somewhat comfortably</td>\n",
              "      <td>18 - 29</td>\n",
              "      <td>Female</td>\n",
              "      <td>Prefer not to answer</td>\n",
              "      <td>West South Central</td>\n",
              "    </tr>\n",
              "    <tr>\n",
              "      <th>163</th>\n",
              "      <td>Atheist</td>\n",
              "      <td>NaN</td>\n",
              "      <td>NaN</td>\n",
              "      <td>NaN</td>\n",
              "      <td>NaN</td>\n",
              "      <td>NaN</td>\n",
              "      <td>NaN</td>\n",
              "      <td>NaN</td>\n",
              "      <td>NaN</td>\n",
              "      <td>NaN</td>\n",
              "      <td>NaN</td>\n",
              "      <td>NaN</td>\n",
              "      <td>NaN</td>\n",
              "      <td>NaN</td>\n",
              "      <td>NaN</td>\n",
              "      <td>NaN</td>\n",
              "      <td>NaN</td>\n",
              "      <td>NaN</td>\n",
              "      <td>NaN</td>\n",
              "      <td>NaN</td>\n",
              "      <td>NaN</td>\n",
              "      <td>NaN</td>\n",
              "      <td>NaN</td>\n",
              "      <td>NaN</td>\n",
              "      <td>NaN</td>\n",
              "      <td>NaN</td>\n",
              "      <td>NaN</td>\n",
              "      <td>NaN</td>\n",
              "      <td>NaN</td>\n",
              "      <td>NaN</td>\n",
              "      <td>NaN</td>\n",
              "      <td>NaN</td>\n",
              "      <td>NaN</td>\n",
              "      <td>NaN</td>\n",
              "      <td>Very comfortable</td>\n",
              "      <td>Very comfortable</td>\n",
              "      <td>Somewhat comfortably</td>\n",
              "      <td>Somewhat comfortably</td>\n",
              "      <td>Somewhat comfortably</td>\n",
              "      <td>Not at all comfortable</td>\n",
              "      <td>Not at all comfortable</td>\n",
              "      <td>Very comfortable</td>\n",
              "      <td>Not at all comfortable</td>\n",
              "      <td>Somewhat comfortably</td>\n",
              "      <td>60+</td>\n",
              "      <td>Male</td>\n",
              "      <td>$50,000 to $74,999</td>\n",
              "      <td>Middle Atlantic</td>\n",
              "    </tr>\n",
              "  </tbody>\n",
              "</table>\n",
              "</div>"
            ],
            "text/plain": [
              "    What is your present religion, if any?  ...           US Region\n",
              "746                         Roman Catholic  ...  West North Central\n",
              "169                     Orthodox Christian  ...  West South Central\n",
              "163                                Atheist  ...     Middle Atlantic\n",
              "\n",
              "[3 rows x 48 columns]"
            ]
          },
          "metadata": {
            "tags": []
          },
          "execution_count": 53
        }
      ]
    },
    {
      "cell_type": "code",
      "metadata": {
        "id": "2O3qagaYFXxT",
        "colab_type": "code",
        "outputId": "1b26ea22-2c10-4165-e4b3-fbf88988abb3",
        "colab": {
          "base_uri": "https://localhost:8080/",
          "height": 892
        }
      },
      "source": [
        "# Display all the columns so I know which ones I need:\n",
        "pd.set_option('display.max_columns', 50)\n",
        "print (rel.columns)"
      ],
      "execution_count": 70,
      "outputs": [
        {
          "output_type": "stream",
          "text": [
            "Index(['What is your present religion, if any?', 'Unnamed: 1',\n",
            "       'Do you consider yourself to be an evangelical?',\n",
            "       'Do you attend religious services',\n",
            "       'How often do you: Pray in public with visible motions (sign of the cross, bowing, prostration, shokeling, etc)',\n",
            "       'How often do you: Pray in public using some kind of physical object (rosary, tefillin, etc)',\n",
            "       'How often do you: Pray aloud before meals in the presence of people who don't belong to your religion',\n",
            "       'How often do you: Tell someone you'll pray for him or her',\n",
            "       'How often do you: Ask or offer to pray with someone',\n",
            "       'How often do you: Bring up your religion, unprompted, in conversation',\n",
            "       'How often do you: Ask others about their religion, unprompted, in conversation',\n",
            "       'How often do you: Decline some kind of food or beverage for religious reasons (kosher, halal, fasting rules, etc)',\n",
            "       'How often do you: Wear religious clothing/jewelry (hijab, kippah, wig, kara, turban, cross, etc)',\n",
            "       'How often do you: Participate in a public religious event on the streets (Corpus Christi procession, inauguration of Torah scrolls, etc)',\n",
            "       'How comfortable do you feel when you: Pray in public with visible motions (sign of the cross, bowing, prostration, shokeling, etc)',\n",
            "       'How comfortable do you feel when you: Pray in public using some kind of physical object (rosary, tefillin, etc)',\n",
            "       'How comfortable do you feel when you: Pray aloud before meals in the presence of people who don't belong to your religion',\n",
            "       'How comfortable do you feel when you: Tell someone you'll pray for him or her',\n",
            "       'How comfortable do you feel when you: Ask or offer to pray with someone',\n",
            "       'How comfortable do you feel when you: Bring up your religion, unprompted, in conversation',\n",
            "       'How comfortable do you feel when you: Ask others about their religion, unprompted, in conversation',\n",
            "       'How comfortable do you feel when you: Decline some kind of food or beverage for religious reasons (kosher, halal, fasting rules, etc)',\n",
            "       'How comfortable do you feel when you: Wear religious clothing/jewelry (hijab, kippah, wig, kara, turban, cross, etc)',\n",
            "       'How comfortable do you feel when you: Participate in a public religious event on the streets (Corpus Christi procession, inauguration of Torah scrolls, etc)',\n",
            "       'How comfortable do you think someone outside your religion would be if they saw you: Pray in public with visible motions (sign of the cross, bowing, prostration, shokeling, etc)',\n",
            "       'How comfortable do you think someone outside your religion would be if they saw you: Pray in public using some kind of physical object (rosary, tefillin, etc)',\n",
            "       'How comfortable do you think someone outside your religion would be if they saw you: Pray aloud before meals in the presence of people who don't belong to your religion',\n",
            "       'How comfortable do you think someone outside your religion would be if they saw you: Tell someone you'll pray for him or her',\n",
            "       'How comfortable do you think someone outside your religion would be if they saw you: Ask or offer to pray with someone',\n",
            "       'How comfortable do you think someone outside your religion would be if they saw you: Bring up your religion, unprompted, in conversation',\n",
            "       'How comfortable do you think someone outside your religion would be if they saw you: Ask others about their religion, unprompted, in conversation',\n",
            "       'How comfortable do you think someone outside your religion would be if they saw you: Decline some kind of food or beverage for religious reasons (kosher, halal, fasting rules, etc)',\n",
            "       'How comfortable do you think someone outside your religion would be if they saw you: Wear religious clothing/jewelry (hijab, kippah, wig, kara, turban, cross, etc)',\n",
            "       'How comfortable do you think someone outside your religion would be if they saw you: Participate in a public religious event on the streets (Corpus Christi procession, inauguration of Torah scrolls, etc)',\n",
            "       'How comfortable would you be seeing someone who practices a different religion from you: Pray in public with visible motions (sign of the cross, bowing, prostration, shokeling, etc)',\n",
            "       'How comfortable would you be seeing someone who practices a different religion from you: Pray in public using some kind of physical object (rosary, tefillin, etc)',\n",
            "       'How comfortable would you be seeing someone who practices a different religion from you: Pray aloud before meals in the presence of people who don't belong to that religion',\n",
            "       'How comfortable would you be seeing someone who practices a different religion from you: Tell someone \"I'll pray for you\"',\n",
            "       'How comfortable would you be seeing someone who practices a different religion from you: Ask or offer to pray with you',\n",
            "       'How comfortable would you be seeing someone who practices a different religion from you: Bring up his or her own religion, unprompted, in conversation',\n",
            "       'How comfortable would you be seeing someone who practices a different religion from you: Ask you about your religion, unprompted, in conversation',\n",
            "       'How comfortable would you be seeing someone who practices a different religion from you: Decline some kind of food or beverage for religious reasons (kosher, halal, fasting rules, etc)',\n",
            "       'How comfortable would you be seeing someone who practices a different religion from you: Wear religious clothing/jewelry (hijab, kippah, wig, kara, turban, cross, etc)',\n",
            "       'How comfortable would you be seeing someone who practices a different religion from you: Participate in a public religious event on the streets (Corpus Christi procession, inauguration of Torah scrolls, etc)',\n",
            "       'What is your age?', 'What is your gender?',\n",
            "       'How much total combined money did all members of your HOUSEHOLD earn last year?',\n",
            "       'US Region'],\n",
            "      dtype='object')\n"
          ],
          "name": "stdout"
        }
      ]
    },
    {
      "cell_type": "markdown",
      "metadata": {
        "id": "Mde_hAp9alOu",
        "colab_type": "text"
      },
      "source": [
        "#### Cleaning my Data"
      ]
    },
    {
      "cell_type": "code",
      "metadata": {
        "id": "tAsX4Qn8FX-8",
        "colab_type": "code",
        "outputId": "c56064a2-89fb-406c-dcec-20aac6102710",
        "colab": {
          "base_uri": "https://localhost:8080/",
          "height": 250
        }
      },
      "source": [
        "# Create a new dataset with only the columns I need:\n",
        "together = rel[['What is your present religion, if any?',\n",
        "                'How comfortable do you feel when you: Ask or offer to pray with someone',\n",
        "                'How comfortable do you feel when you: Participate in a public religious event on the streets (Corpus Christi procession, inauguration of Torah scrolls, etc)',\n",
        "                'Unnamed: 1']]\n",
        "\n",
        "# Check my work:\n",
        "together.head()"
      ],
      "execution_count": 71,
      "outputs": [
        {
          "output_type": "execute_result",
          "data": {
            "text/html": [
              "<div>\n",
              "<style scoped>\n",
              "    .dataframe tbody tr th:only-of-type {\n",
              "        vertical-align: middle;\n",
              "    }\n",
              "\n",
              "    .dataframe tbody tr th {\n",
              "        vertical-align: top;\n",
              "    }\n",
              "\n",
              "    .dataframe thead th {\n",
              "        text-align: right;\n",
              "    }\n",
              "</style>\n",
              "<table border=\"1\" class=\"dataframe\">\n",
              "  <thead>\n",
              "    <tr style=\"text-align: right;\">\n",
              "      <th></th>\n",
              "      <th>What is your present religion, if any?</th>\n",
              "      <th>How comfortable do you feel when you: Ask or offer to pray with someone</th>\n",
              "      <th>How comfortable do you feel when you: Participate in a public religious event on the streets (Corpus Christi procession, inauguration of Torah scrolls, etc)</th>\n",
              "      <th>Unnamed: 1</th>\n",
              "    </tr>\n",
              "  </thead>\n",
              "  <tbody>\n",
              "    <tr>\n",
              "      <th>0</th>\n",
              "      <td>Response</td>\n",
              "      <td>Response</td>\n",
              "      <td>Response</td>\n",
              "      <td>None of these</td>\n",
              "    </tr>\n",
              "    <tr>\n",
              "      <th>1</th>\n",
              "      <td>None of these</td>\n",
              "      <td>I don't do this</td>\n",
              "      <td>Very comfortable</td>\n",
              "      <td>Wesleyan Christian</td>\n",
              "    </tr>\n",
              "    <tr>\n",
              "      <th>2</th>\n",
              "      <td>Atheist</td>\n",
              "      <td>NaN</td>\n",
              "      <td>NaN</td>\n",
              "      <td>NaN</td>\n",
              "    </tr>\n",
              "    <tr>\n",
              "      <th>3</th>\n",
              "      <td>Protestant</td>\n",
              "      <td>Extremely comfortable</td>\n",
              "      <td>Extremely comfortable</td>\n",
              "      <td>NaN</td>\n",
              "    </tr>\n",
              "    <tr>\n",
              "      <th>4</th>\n",
              "      <td>Muslim</td>\n",
              "      <td>Somewhat comfortably</td>\n",
              "      <td>Extremely comfortable</td>\n",
              "      <td>NaN</td>\n",
              "    </tr>\n",
              "  </tbody>\n",
              "</table>\n",
              "</div>"
            ],
            "text/plain": [
              "  What is your present religion, if any?  \\\n",
              "0                               Response   \n",
              "1                          None of these   \n",
              "2                                Atheist   \n",
              "3                             Protestant   \n",
              "4                                 Muslim   \n",
              "\n",
              "  How comfortable do you feel when you: Ask or offer to pray with someone  \\\n",
              "0                                           Response                        \n",
              "1                                    I don't do this                        \n",
              "2                                                NaN                        \n",
              "3                              Extremely comfortable                        \n",
              "4                               Somewhat comfortably                        \n",
              "\n",
              "  How comfortable do you feel when you: Participate in a public religious event on the streets (Corpus Christi procession, inauguration of Torah scrolls, etc)  \\\n",
              "0                                           Response                                                                                                             \n",
              "1                                   Very comfortable                                                                                                             \n",
              "2                                                NaN                                                                                                             \n",
              "3                              Extremely comfortable                                                                                                             \n",
              "4                              Extremely comfortable                                                                                                             \n",
              "\n",
              "           Unnamed: 1  \n",
              "0       None of these  \n",
              "1  Wesleyan Christian  \n",
              "2                 NaN  \n",
              "3                 NaN  \n",
              "4                 NaN  "
            ]
          },
          "metadata": {
            "tags": []
          },
          "execution_count": 71
        }
      ]
    },
    {
      "cell_type": "code",
      "metadata": {
        "id": "xA4g1RvXInvg",
        "colab_type": "code",
        "outputId": "21ece8e9-35b0-42c0-c58b-4f01bcd3d55c",
        "colab": {
          "base_uri": "https://localhost:8080/",
          "height": 198
        }
      },
      "source": [
        "# Rename the column names to make the dataset more readable and easier to use:\n",
        "christ = together.rename(columns={'What is your present religion, if any?':'Religion',\n",
        "                                  'How comfortable do you feel when you: Ask or offer to pray with someone':'Pray with Others',\n",
        "                                  'How comfortable do you feel when you: Participate in a public religious event on the streets (Corpus Christi procession, inauguration of Torah scrolls, etc)':'Public Event',\n",
        "                                  'Unnamed: 1':'Religion1'},\n",
        "                           index=None)\n",
        "\n",
        "# Check my work:\n",
        "christ.head()"
      ],
      "execution_count": 72,
      "outputs": [
        {
          "output_type": "execute_result",
          "data": {
            "text/html": [
              "<div>\n",
              "<style scoped>\n",
              "    .dataframe tbody tr th:only-of-type {\n",
              "        vertical-align: middle;\n",
              "    }\n",
              "\n",
              "    .dataframe tbody tr th {\n",
              "        vertical-align: top;\n",
              "    }\n",
              "\n",
              "    .dataframe thead th {\n",
              "        text-align: right;\n",
              "    }\n",
              "</style>\n",
              "<table border=\"1\" class=\"dataframe\">\n",
              "  <thead>\n",
              "    <tr style=\"text-align: right;\">\n",
              "      <th></th>\n",
              "      <th>Religion</th>\n",
              "      <th>Pray with Others</th>\n",
              "      <th>Public Event</th>\n",
              "      <th>Religion1</th>\n",
              "    </tr>\n",
              "  </thead>\n",
              "  <tbody>\n",
              "    <tr>\n",
              "      <th>0</th>\n",
              "      <td>Response</td>\n",
              "      <td>Response</td>\n",
              "      <td>Response</td>\n",
              "      <td>None of these</td>\n",
              "    </tr>\n",
              "    <tr>\n",
              "      <th>1</th>\n",
              "      <td>None of these</td>\n",
              "      <td>I don't do this</td>\n",
              "      <td>Very comfortable</td>\n",
              "      <td>Wesleyan Christian</td>\n",
              "    </tr>\n",
              "    <tr>\n",
              "      <th>2</th>\n",
              "      <td>Atheist</td>\n",
              "      <td>NaN</td>\n",
              "      <td>NaN</td>\n",
              "      <td>NaN</td>\n",
              "    </tr>\n",
              "    <tr>\n",
              "      <th>3</th>\n",
              "      <td>Protestant</td>\n",
              "      <td>Extremely comfortable</td>\n",
              "      <td>Extremely comfortable</td>\n",
              "      <td>NaN</td>\n",
              "    </tr>\n",
              "    <tr>\n",
              "      <th>4</th>\n",
              "      <td>Muslim</td>\n",
              "      <td>Somewhat comfortably</td>\n",
              "      <td>Extremely comfortable</td>\n",
              "      <td>NaN</td>\n",
              "    </tr>\n",
              "  </tbody>\n",
              "</table>\n",
              "</div>"
            ],
            "text/plain": [
              "        Religion       Pray with Others           Public Event  \\\n",
              "0       Response               Response               Response   \n",
              "1  None of these        I don't do this       Very comfortable   \n",
              "2        Atheist                    NaN                    NaN   \n",
              "3     Protestant  Extremely comfortable  Extremely comfortable   \n",
              "4         Muslim   Somewhat comfortably  Extremely comfortable   \n",
              "\n",
              "            Religion1  \n",
              "0       None of these  \n",
              "1  Wesleyan Christian  \n",
              "2                 NaN  \n",
              "3                 NaN  \n",
              "4                 NaN  "
            ]
          },
          "metadata": {
            "tags": []
          },
          "execution_count": 72
        }
      ]
    },
    {
      "cell_type": "code",
      "metadata": {
        "id": "e29an5XEpgTa",
        "colab_type": "code",
        "outputId": "337dad23-fab6-4d4d-f9ab-89c3094d410f",
        "colab": {
          "base_uri": "https://localhost:8080/",
          "height": 217
        }
      },
      "source": [
        "# Look for any missing values:\n",
        "print (christ['Religion'].isnull().value_counts())\n",
        "print (christ['Pray with Others'].isnull().value_counts())\n",
        "print (christ['Public Event'].isnull().value_counts())\n",
        "print (christ['Religion1'].isnull().value_counts())\n",
        "\n",
        "# I have missing data in Pray with Others, Public Events, and Religion1."
      ],
      "execution_count": 73,
      "outputs": [
        {
          "output_type": "stream",
          "text": [
            "False    1040\n",
            "Name: Religion, dtype: int64\n",
            "False    914\n",
            "True     126\n",
            "Name: Pray with Others, dtype: int64\n",
            "False    926\n",
            "True     114\n",
            "Name: Public Event, dtype: int64\n",
            "True     797\n",
            "False    243\n",
            "Name: Religion1, dtype: int64\n"
          ],
          "name": "stdout"
        }
      ]
    },
    {
      "cell_type": "code",
      "metadata": {
        "id": "zVtMA5SmbPrH",
        "colab_type": "code",
        "colab": {
          "base_uri": "https://localhost:8080/",
          "height": 288
        },
        "outputId": "c00a0597-31d6-4eb6-dbc8-1910118208b3"
      },
      "source": [
        "# Combine the Religion and Religion1 columns to a new column:\n",
        "# christ1 = christ['Religion1'].\n",
        "christ['Religion_2'] = christ['Religion'].fillna('')+'_'+christ['Religion1'].fillna('')\n",
        "christ.head(8)"
      ],
      "execution_count": 74,
      "outputs": [
        {
          "output_type": "execute_result",
          "data": {
            "text/html": [
              "<div>\n",
              "<style scoped>\n",
              "    .dataframe tbody tr th:only-of-type {\n",
              "        vertical-align: middle;\n",
              "    }\n",
              "\n",
              "    .dataframe tbody tr th {\n",
              "        vertical-align: top;\n",
              "    }\n",
              "\n",
              "    .dataframe thead th {\n",
              "        text-align: right;\n",
              "    }\n",
              "</style>\n",
              "<table border=\"1\" class=\"dataframe\">\n",
              "  <thead>\n",
              "    <tr style=\"text-align: right;\">\n",
              "      <th></th>\n",
              "      <th>Religion</th>\n",
              "      <th>Pray with Others</th>\n",
              "      <th>Public Event</th>\n",
              "      <th>Religion1</th>\n",
              "      <th>Religion_2</th>\n",
              "    </tr>\n",
              "  </thead>\n",
              "  <tbody>\n",
              "    <tr>\n",
              "      <th>0</th>\n",
              "      <td>Response</td>\n",
              "      <td>Response</td>\n",
              "      <td>Response</td>\n",
              "      <td>None of these</td>\n",
              "      <td>Response_None of these</td>\n",
              "    </tr>\n",
              "    <tr>\n",
              "      <th>1</th>\n",
              "      <td>None of these</td>\n",
              "      <td>I don't do this</td>\n",
              "      <td>Very comfortable</td>\n",
              "      <td>Wesleyan Christian</td>\n",
              "      <td>None of these_Wesleyan Christian</td>\n",
              "    </tr>\n",
              "    <tr>\n",
              "      <th>2</th>\n",
              "      <td>Atheist</td>\n",
              "      <td>NaN</td>\n",
              "      <td>NaN</td>\n",
              "      <td>NaN</td>\n",
              "      <td>Atheist_</td>\n",
              "    </tr>\n",
              "    <tr>\n",
              "      <th>3</th>\n",
              "      <td>Protestant</td>\n",
              "      <td>Extremely comfortable</td>\n",
              "      <td>Extremely comfortable</td>\n",
              "      <td>NaN</td>\n",
              "      <td>Protestant_</td>\n",
              "    </tr>\n",
              "    <tr>\n",
              "      <th>4</th>\n",
              "      <td>Muslim</td>\n",
              "      <td>Somewhat comfortably</td>\n",
              "      <td>Extremely comfortable</td>\n",
              "      <td>NaN</td>\n",
              "      <td>Muslim_</td>\n",
              "    </tr>\n",
              "    <tr>\n",
              "      <th>5</th>\n",
              "      <td>None of these</td>\n",
              "      <td>Very comfortable</td>\n",
              "      <td>I don't do this</td>\n",
              "      <td>Working on Christianity. Orthodox seemed too c...</td>\n",
              "      <td>None of these_Working on Christianity. Orthodo...</td>\n",
              "    </tr>\n",
              "    <tr>\n",
              "      <th>6</th>\n",
              "      <td>None of these</td>\n",
              "      <td>I don't do this</td>\n",
              "      <td>I don't do this</td>\n",
              "      <td>Episcopalian</td>\n",
              "      <td>None of these_Episcopalian</td>\n",
              "    </tr>\n",
              "    <tr>\n",
              "      <th>7</th>\n",
              "      <td>None of these</td>\n",
              "      <td>I don't do this</td>\n",
              "      <td>I don't do this</td>\n",
              "      <td>the multiverse</td>\n",
              "      <td>None of these_the multiverse</td>\n",
              "    </tr>\n",
              "  </tbody>\n",
              "</table>\n",
              "</div>"
            ],
            "text/plain": [
              "        Religion       Pray with Others           Public Event  \\\n",
              "0       Response               Response               Response   \n",
              "1  None of these        I don't do this       Very comfortable   \n",
              "2        Atheist                    NaN                    NaN   \n",
              "3     Protestant  Extremely comfortable  Extremely comfortable   \n",
              "4         Muslim   Somewhat comfortably  Extremely comfortable   \n",
              "5  None of these       Very comfortable        I don't do this   \n",
              "6  None of these        I don't do this        I don't do this   \n",
              "7  None of these        I don't do this        I don't do this   \n",
              "\n",
              "                                           Religion1  \\\n",
              "0                                      None of these   \n",
              "1                                 Wesleyan Christian   \n",
              "2                                                NaN   \n",
              "3                                                NaN   \n",
              "4                                                NaN   \n",
              "5  Working on Christianity. Orthodox seemed too c...   \n",
              "6                                      Episcopalian    \n",
              "7                                     the multiverse   \n",
              "\n",
              "                                          Religion_2  \n",
              "0                             Response_None of these  \n",
              "1                   None of these_Wesleyan Christian  \n",
              "2                                           Atheist_  \n",
              "3                                        Protestant_  \n",
              "4                                            Muslim_  \n",
              "5  None of these_Working on Christianity. Orthodo...  \n",
              "6                        None of these_Episcopalian   \n",
              "7                       None of these_the multiverse  "
            ]
          },
          "metadata": {
            "tags": []
          },
          "execution_count": 74
        }
      ]
    },
    {
      "cell_type": "code",
      "metadata": {
        "id": "GDdJaWG7UAxW",
        "colab_type": "code",
        "outputId": "f8682c4e-9229-4f82-d7e1-baaeccb482d8",
        "colab": {
          "base_uri": "https://localhost:8080/",
          "height": 1000
        }
      },
      "source": [
        "christ['Religion_2'].value_counts()"
      ],
      "execution_count": 75,
      "outputs": [
        {
          "output_type": "execute_result",
          "data": {
            "text/plain": [
              "Protestant_                                                                                                                                                                                                                                                                                                                                                                                                                                                                                                                                                                                                                                                                                                                                                      234\n",
              "Roman Catholic_                                                                                                                                                                                                                                                                                                                                                                                                                                                                                                                                                                                                                                                                                                                                                  192\n",
              "Agnostic_                                                                                                                                                                                                                                                                                                                                                                                                                                                                                                                                                                                                                                                                                                                                                        123\n",
              "Atheist_                                                                                                                                                                                                                                                                                                                                                                                                                                                                                                                                                                                                                                                                                                                                                         111\n",
              "Orthodox Christian_                                                                                                                                                                                                                                                                                                                                                                                                                                                                                                                                                                                                                                                                                                                                               53\n",
              "Jewish_                                                                                                                                                                                                                                                                                                                                                                                                                                                                                                                                                                                                                                                                                                                                                           41\n",
              "None of these_Christian                                                                                                                                                                                                                                                                                                                                                                                                                                                                                                                                                                                                                                                                                                                                           30\n",
              "Buddhist_                                                                                                                                                                                                                                                                                                                                                                                                                                                                                                                                                                                                                                                                                                                                                         14\n",
              "Mormon_                                                                                                                                                                                                                                                                                                                                                                                                                                                                                                                                                                                                                                                                                                                                                           12\n",
              "None of these_Baptist                                                                                                                                                                                                                                                                                                                                                                                                                                                                                                                                                                                                                                                                                                                                             12\n",
              "Muslim_                                                                                                                                                                                                                                                                                                                                                                                                                                                                                                                                                                                                                                                                                                                                                           11\n",
              "None of these_None                                                                                                                                                                                                                                                                                                                                                                                                                                                                                                                                                                                                                                                                                                                                                 8\n",
              "None of these_Baptist                                                                                                                                                                                                                                                                                                                                                                                                                                                                                                                                                                                                                                                                                                                                              6\n",
              "Hindu_                                                                                                                                                                                                                                                                                                                                                                                                                                                                                                                                                                                                                                                                                                                                                             6\n",
              "None of these_christian                                                                                                                                                                                                                                                                                                                                                                                                                                                                                                                                                                                                                                                                                                                                            6\n",
              "None of these_none                                                                                                                                                                                                                                                                                                                                                                                                                                                                                                                                                                                                                                                                                                                                                 5\n",
              "None of these_Christian                                                                                                                                                                                                                                                                                                                                                                                                                                                                                                                                                                                                                                                                                                                                            5\n",
              "None of these_Lutheran                                                                                                                                                                                                                                                                                                                                                                                                                                                                                                                                                                                                                                                                                                                                             4\n",
              "None of these_Pagan                                                                                                                                                                                                                                                                                                                                                                                                                                                                                                                                                                                                                                                                                                                                                4\n",
              "None of these_baptist                                                                                                                                                                                                                                                                                                                                                                                                                                                                                                                                                                                                                                                                                                                                              3\n",
              "None of these_.                                                                                                                                                                                                                                                                                                                                                                                                                                                                                                                                                                                                                                                                                                                                                    3\n",
              "None of these_Spiritual                                                                                                                                                                                                                                                                                                                                                                                                                                                                                                                                                                                                                                                                                                                                            3\n",
              "None of these_Non denominational                                                                                                                                                                                                                                                                                                                                                                                                                                                                                                                                                                                                                                                                                                                                   3\n",
              "None of these_Quaker                                                                                                                                                                                                                                                                                                                                                                                                                                                                                                                                                                                                                                                                                                                                               2\n",
              "None of these_Hebrew                                                                                                                                                                                                                                                                                                                                                                                                                                                                                                                                                                                                                                                                                                                                               2\n",
              "None of these_Jehovah's witness                                                                                                                                                                                                                                                                                                                                                                                                                                                                                                                                                                                                                                                                                                                                    2\n",
              "None of these_Methodist                                                                                                                                                                                                                                                                                                                                                                                                                                                                                                                                                                                                                                                                                                                                            2\n",
              "None of these_Pentecostal                                                                                                                                                                                                                                                                                                                                                                                                                                                                                                                                                                                                                                                                                                                                          2\n",
              "None of these_No religion                                                                                                                                                                                                                                                                                                                                                                                                                                                                                                                                                                                                                                                                                                                                          2\n",
              "None of these_Wiccan                                                                                                                                                                                                                                                                                                                                                                                                                                                                                                                                                                                                                                                                                                                                               2\n",
              "None of these_Episcopalian                                                                                                                                                                                                                                                                                                                                                                                                                                                                                                                                                                                                                                                                                                                                         2\n",
              "None of these_Unitarian                                                                                                                                                                                                                                                                                                                                                                                                                                                                                                                                                                                                                                                                                                                                            2\n",
              "None of these_Non denominational Christian                                                                                                                                                                                                                                                                                                                                                                                                                                                                                                                                                                                                                                                                                                                         2\n",
              "None of these_Episcopal                                                                                                                                                                                                                                                                                                                                                                                                                                                                                                                                                                                                                                                                                                                                            2\n",
              "None of these_SPIRITUALIST                                                                                                                                                                                                                                                                                                                                                                                                                                                                                                                                                                                                                                                                                                                                         1\n",
              "None of these_My is not on there                                                                                                                                                                                                                                                                                                                                                                                                                                                                                                                                                                                                                                                                                                                                   1\n",
              "None of these_raised christian - have explored a number of religions - currently unaffliated                                                                                                                                                                                                                                                                                                                                                                                                                                                                                                                                                                                                                                                                       1\n",
              "None of these_Metaphysical                                                                                                                                                                                                                                                                                                                                                                                                                                                                                                                                                                                                                                                                                                                                         1\n",
              "None of these_NONE                                                                                                                                                                                                                                                                                                                                                                                                                                                                                                                                                                                                                                                                                                                                                 1\n",
              "None of these_catholic                                                                                                                                                                                                                                                                                                                                                                                                                                                                                                                                                                                                                                                                                                                                             1\n",
              "None of these_I believe in God and nature                                                                                                                                                                                                                                                                                                                                                                                                                                                                                                                                                                                                                                                                                                                          1\n",
              "None of these_ I am a Christian. I grew up Catholic, but I can no longer associate myself with that religion.                                                                                                                                                                                                                                                                                                                                                                                                                                                                                                                                                                                                                                                      1\n",
              "None of these_Anglican                                                                                                                                                                                                                                                                                                                                                                                                                                                                                                                                                                                                                                                                                                                                             1\n",
              "None of these_I am do not have a  \"religious\" label                                                                                                                                                                                                                                                                                                                                                                                                                                                                                                                                                                                                                                                                                                                1\n",
              "None of these_Deist                                                                                                                                                                                                                                                                                                                                                                                                                                                                                                                                                                                                                                                                                                                                                1\n",
              "None of these_I am nothing really, i'd pick buddhist if i had to chose.                                                                                                                                                                                                                                                                                                                                                                                                                                                                                                                                                                                                                                                                                            1\n",
              "None of these_Bapist                                                                                                                                                                                                                                                                                                                                                                                                                                                                                                                                                                                                                                                                                                                                               1\n",
              "None of these_A mixture of many                                                                                                                                                                                                                                                                                                                                                                                                                                                                                                                                                                                                                                                                                                                                    1\n",
              "None of these_Christian - nondenominational                                                                                                                                                                                                                                                                                                                                                                                                                                                                                                                                                                                                                                                                                                                        1\n",
              "None of these_Babtist                                                                                                                                                                                                                                                                                                                                                                                                                                                                                                                                                                                                                                                                                                                                              1\n",
              "None of these_Christian non denomination                                                                                                                                                                                                                                                                                                                                                                                                                                                                                                                                                                                                                                                                                                                           1\n",
              "None of these_96                                                                                                                                                                                                                                                                                                                                                                                                                                                                                                                                                                                                                                                                                                                                                   1\n",
              "None of these_non-practicing Catholic                                                                                                                                                                                                                                                                                                                                                                                                                                                                                                                                                                                                                                                                                                                              1\n",
              "None of these_I have no religion. I believe in love.                                                                                                                                                                                                                                                                                                                                                                                                                                                                                                                                                                                                                                                                                                               1\n",
              "None of these_Midewin (Native American)                                                                                                                                                                                                                                                                                                                                                                                                                                                                                                                                                                                                                                                                                                                            1\n",
              "None of these_Presperterian                                                                                                                                                                                                                                                                                                                                                                                                                                                                                                                                                                                                                                                                                                                                        1\n",
              "None of these_eclectic                                                                                                                                                                                                                                                                                                                                                                                                                                                                                                                                                                                                                                                                                                                                             1\n",
              "None of these_self moralist                                                                                                                                                                                                                                                                                                                                                                                                                                                                                                                                                                                                                                                                                                                                        1\n",
              "None of these_Neo-pagan                                                                                                                                                                                                                                                                                                                                                                                                                                                                                                                                                                                                                                                                                                                                            1\n",
              "None of these_I just consider myself Christian.                                                                                                                                                                                                                                                                                                                                                                                                                                                                                                                                                                                                                                                                                                                    1\n",
              "None of these_Hispanic                                                                                                                                                                                                                                                                                                                                                                                                                                                                                                                                                                                                                                                                                                                                             1\n",
              "None of these_Santeria                                                                                                                                                                                                                                                                                                                                                                                                                                                                                                                                                                                                                                                                                                                                             1\n",
              "None of these_Christian non-denominational                                                                                                                                                                                                                                                                                                                                                                                                                                                                                                                                                                                                                                                                                                                         1\n",
              "None of these_I was raised Catholic and raised my children catholic.  Sent them all to catholic schools from pre school through high school.  One went to a catholic University.  I am disenchanted with the catholic religeon because of their history of intolerance to other sexual orientations, their history of vilolence, their patriarchal control and treatment of women.  their opulance in the presence of poverty and the fact that most organized religeon promotes intolerance and hate mongering.  look at Bill Oreilly for example.  he is a catholic.  Look what these fundamentalist relieous groups are doing to abortion clinics and to the lgbt groups.  Religeon oppresses and uses it's power to do more harm than good in most cases.      1\n",
              "None of these_Secular Humanist                                                                                                                                                                                                                                                                                                                                                                                                                                                                                                                                                                                                                                                                                                                                     1\n",
              "None of these_no preference                                                                                                                                                                                                                                                                                                                                                                                                                                                                                                                                                                                                                                                                                                                                        1\n",
              "None of these_Polytheism                                                                                                                                                                                                                                                                                                                                                                                                                                                                                                                                                                                                                                                                                                                                           1\n",
              "None of these_greek catholic                                                                                                                                                                                                                                                                                                                                                                                                                                                                                                                                                                                                                                                                                                                                       1\n",
              "None of these_Methodist                                                                                                                                                                                                                                                                                                                                                                                                                                                                                                                                                                                                                                                                                                                                            1\n",
              "None of these_Xxx                                                                                                                                                                                                                                                                                                                                                                                                                                                                                                                                                                                                                                                                                                                                                  1\n",
              "None of these_spiritual                                                                                                                                                                                                                                                                                                                                                                                                                                                                                                                                                                                                                                                                                                                                            1\n",
              "None of these_Spiritual but not religous                                                                                                                                                                                                                                                                                                                                                                                                                                                                                                                                                                                                                                                                                                                           1\n",
              "None of these_Atheist-Unitarian                                                                                                                                                                                                                                                                                                                                                                                                                                                                                                                                                                                                                                                                                                                                    1\n",
              "None of these_Do not claim any religion                                                                                                                                                                                                                                                                                                                                                                                                                                                                                                                                                                                                                                                                                                                            1\n",
              "None of these_Non-denominational spiritual                                                                                                                                                                                                                                                                                                                                                                                                                                                                                                                                                                                                                                                                                                                         1\n",
              "None of these_baptized                                                                                                                                                                                                                                                                                                                                                                                                                                                                                                                                                                                                                                                                                                                                             1\n",
              "None of these_Not religious                                                                                                                                                                                                                                                                                                                                                                                                                                                                                                                                                                                                                                                                                                                                        1\n",
              "None of these_METHODIST                                                                                                                                                                                                                                                                                                                                                                                                                                                                                                                                                                                                                                                                                                                                            1\n",
              "None of these_BAPTISTS                                                                                                                                                                                                                                                                                                                                                                                                                                                                                                                                                                                                                                                                                                                                             1\n",
              "None of these_Christrian                                                                                                                                                                                                                                                                                                                                                                                                                                                                                                                                                                                                                                                                                                                                           1\n",
              "None of these_A little of each                                                                                                                                                                                                                                                                                                                                                                                                                                                                                                                                                                                                                                                                                                                                     1\n",
              "None of these_Christian (non denom, \"born again\")                                                                                                                                                                                                                                                                                                                                                                                                                                                                                                                                                                                                                                                                                                                  1\n",
              "None of these_A higher power                                                                                                                                                                                                                                                                                                                                                                                                                                                                                                                                                                                                                                                                                                                                       1\n",
              "None of these_Jehovah's Witness                                                                                                                                                                                                                                                                                                                                                                                                                                                                                                                                                                                                                                                                                                                                    1\n",
              "None of these_born again Christian                                                                                                                                                                                                                                                                                                                                                                                                                                                                                                                                                                                                                                                                                                                                 1\n",
              "None of these_There is no god, gods, spirits or whatever                                                                                                                                                                                                                                                                                                                                                                                                                                                                                                                                                                                                                                                                                                           1\n",
              "None of these_UCC                                                                                                                                                                                                                                                                                                                                                                                                                                                                                                                                                                                                                                                                                                                                                  1\n",
              "None of these_Sort of a mix of a lot of things, mostly Ethical Humanist and semi-secular Pagan.  Was raised Muslim and still identify as such in some ways, but do not literally believe in God - and certainly don't believe that a surpreme being, if one did exist, would care whether people believed in it or not.                                                                                                                                                                                                                                                                                                                                                                                                                                            1\n",
              "None of these_Heathen / Pagan / Wiccan                                                                                                                                                                                                                                                                                                                                                                                                                                                                                                                                                                                                                                                                                                                             1\n",
              "Response_None of these                                                                                                                                                                                                                                                                                                                                                                                                                                                                                                                                                                                                                                                                                                                                             1\n",
              "None of these_A hybrid of many of the above.                                                                                                                                                                                                                                                                                                                                                                                                                                                                                                                                                                                                                                                                                                                       1\n",
              "None of these_spiritual but not religious                                                                                                                                                                                                                                                                                                                                                                                                                                                                                                                                                                                                                                                                                                                          1\n",
              "None of these_Pentecost                                                                                                                                                                                                                                                                                                                                                                                                                                                                                                                                                                                                                                                                                                                                            1\n",
              "None of these_evangelist                                                                                                                                                                                                                                                                                                                                                                                                                                                                                                                                                                                                                                                                                                                                           1\n",
              "None of these_Christianity                                                                                                                                                                                                                                                                                                                                                                                                                                                                                                                                                                                                                                                                                                                                         1\n",
              "None of these_CHRISTIAN                                                                                                                                                                                                                                                                                                                                                                                                                                                                                                                                                                                                                                                                                                                                            1\n",
              "None of these_I'm spiritual, not religious                                                                                                                                                                                                                                                                                                                                                                                                                                                                                                                                                                                                                                                                                                                         1\n",
              "None of these_no organized religion                                                                                                                                                                                                                                                                                                                                                                                                                                                                                                                                                                                                                                                                                                                                1\n",
              "None of these_Christian - Lutheran                                                                                                                                                                                                                                                                                                                                                                                                                                                                                                                                                                                                                                                                                                                                 1\n",
              "None of these_Unitarian Universalist                                                                                                                                                                                                                                                                                                                                                                                                                                                                                                                                                                                                                                                                                                                               1\n",
              "None of these_ Nondenominational                                                                                                                                                                                                                                                                                                                                                                                                                                                                                                                                                                                                                                                                                                                                   1\n",
              "None of these_Non practicing                                                                                                                                                                                                                                                                                                                                                                                                                                                                                                                                                                                                                                                                                                                                       1\n",
              "None of these_Catholic                                                                                                                                                                                                                                                                                                                                                                                                                                                                                                                                                                                                                                                                                                                                             1\n",
              "None of these_Spiritist                                                                                                                                                                                                                                                                                                                                                                                                                                                                                                                                                                                                                                                                                                                                            1\n",
              "None of these_I prefer not to be put in a category                                                                                                                                                                                                                                                                                                                                                                                                                                                                                                                                                                                                                                                                                                                 1\n",
              "None of these_undesided                                                                                                                                                                                                                                                                                                                                                                                                                                                                                                                                                                                                                                                                                                                                            1\n",
              "None of these_AMERICAN INDIANA                                                                                                                                                                                                                                                                                                                                                                                                                                                                                                                                                                                                                                                                                                                                     1\n",
              "None of these_New Thought                                                                                                                                                                                                                                                                                                                                                                                                                                                                                                                                                                                                                                                                                                                                          1\n",
              "None of these_lutheran                                                                                                                                                                                                                                                                                                                                                                                                                                                                                                                                                                                                                                                                                                                                             1\n",
              "None of these_Shinto Buddhist                                                                                                                                                                                                                                                                                                                                                                                                                                                                                                                                                                                                                                                                                                                                      1\n",
              "None of these_gnostic, spiritual                                                                                                                                                                                                                                                                                                                                                                                                                                                                                                                                                                                                                                                                                                                                   1\n",
              "None of these_I was  raised Catholic, but no longer practice.                                                                                                                                                                                                                                                                                                                                                                                                                                                                                                                                                                                                                                                                                                      1\n",
              "None of these_Black                                                                                                                                                                                                                                                                                                                                                                                                                                                                                                                                                                                                                                                                                                                                                1\n",
              "None of these_Christian (non-denominational)                                                                                                                                                                                                                                                                                                                                                                                                                                                                                                                                                                                                                                                                                                                       1\n",
              "None of these_i dont care about religion                                                                                                                                                                                                                                                                                                                                                                                                                                                                                                                                                                                                                                                                                                                           1\n",
              "None of these_i hold a belief of some form of afterlife, but i am not a memeber of any religious group. Instead, i enjoy learning about all religions, as well as scientific advancements, and using the combination to ponder on what that afterlife might or might not be.                                                                                                                                                                                                                                                                                                                                                                                                                                                                                       1\n",
              "None of these_Church of the Ever-loving, Mind-your-own-business (for Christ's sake)                                                                                                                                                                                                                                                                                                                                                                                                                                                                                                                                                                                                                                                                                1\n",
              "None of these_Dislike organized churches                                                                                                                                                                                                                                                                                                                                                                                                                                                                                                                                                                                                                                                                                                                           1\n",
              "None of these_Cristiano                                                                                                                                                                                                                                                                                                                                                                                                                                                                                                                                                                                                                                                                                                                                            1\n",
              "None of these_Evangelical Christian                                                                                                                                                                                                                                                                                                                                                                                                                                                                                                                                                                                                                                                                                                                                1\n",
              "None of these_Spiritual and Chritianity                                                                                                                                                                                                                                                                                                                                                                                                                                                                                                                                                                                                                                                                                                                            1\n",
              "None of these_Spiritual not religious                                                                                                                                                                                                                                                                                                                                                                                                                                                                                                                                                                                                                                                                                                                              1\n",
              "None of these_Satanist                                                                                                                                                                                                                                                                                                                                                                                                                                                                                                                                                                                                                                                                                                                                             1\n",
              "None of these_No religious affiliation                                                                                                                                                                                                                                                                                                                                                                                                                                                                                                                                                                                                                                                                                                                             1\n",
              "None of these_I have no identifiable belief system                                                                                                                                                                                                                                                                                                                                                                                                                                                                                                                                                                                                                                                                                                                 1\n",
              "None of these_Anabaptist                                                                                                                                                                                                                                                                                                                                                                                                                                                                                                                                                                                                                                                                                                                                           1\n",
              "None of these_See last answer !!                                                                                                                                                                                                                                                                                                                                                                                                                                                                                                                                                                                                                                                                                                                                   1\n",
              "None of these_Reality                                                                                                                                                                                                                                                                                                                                                                                                                                                                                                                                                                                                                                                                                                                                              1\n",
              "None of these_Working on Christianity. Orthodox seemed too committed                                                                                                                                                                                                                                                                                                                                                                                                                                                                                                                                                                                                                                                                                               1\n",
              "None of these_Christian - United Church of Christ/Congregationalist                                                                                                                                                                                                                                                                                                                                                                                                                                                                                                                                                                                                                                                                                                1\n",
              "None of these_Non denominational christian                                                                                                                                                                                                                                                                                                                                                                                                                                                                                                                                                                                                                                                                                                                         1\n",
              "None of these_.?!                                                                                                                                                                                                                                                                                                                                                                                                                                                                                                                                                                                                                                                                                                                                                  1\n",
              "None of these_Jehovah's Witnesses                                                                                                                                                                                                                                                                                                                                                                                                                                                                                                                                                                                                                                                                                                                                  1\n",
              "None of these_Non-religious                                                                                                                                                                                                                                                                                                                                                                                                                                                                                                                                                                                                                                                                                                                                        1\n",
              "None of these_don't belong to any religion                                                                                                                                                                                                                                                                                                                                                                                                                                                                                                                                                                                                                                                                                                                         1\n",
              "None of these_the multiverse                                                                                                                                                                                                                                                                                                                                                                                                                                                                                                                                                                                                                                                                                                                                       1\n",
              "None of these_Spiritual                                                                                                                                                                                                                                                                                                                                                                                                                                                                                                                                                                                                                                                                                                                                            1\n",
              "None of these_Spirituality                                                                                                                                                                                                                                                                                                                                                                                                                                                                                                                                                                                                                                                                                                                                         1\n",
              "None of these_Lutheran                                                                                                                                                                                                                                                                                                                                                                                                                                                                                                                                                                                                                                                                                                                                             1\n",
              "None of these_BAPTIST                                                                                                                                                                                                                                                                                                                                                                                                                                                                                                                                                                                                                                                                                                                                              1\n",
              "None of these_Wesleyan Christian                                                                                                                                                                                                                                                                                                                                                                                                                                                                                                                                                                                                                                                                                                                                   1\n",
              "None of these_Atheist                                                                                                                                                                                                                                                                                                                                                                                                                                                                                                                                                                                                                                                                                                                                              1\n",
              "None of these_Presbyterian                                                                                                                                                                                                                                                                                                                                                                                                                                                                                                                                                                                                                                                                                                                                         1\n",
              "None of these_Luthern                                                                                                                                                                                                                                                                                                                                                                                                                                                                                                                                                                                                                                                                                                                                              1\n",
              "None of these_I believe in having a relationship with God without religion                                                                                                                                                                                                                                                                                                                                                                                                                                                                                                                                                                                                                                                                                         1\n",
              "None of these_I don't feel I have any                                                                                                                                                                                                                                                                                                                                                                                                                                                                                                                                                                                                                                                                                                                              1\n",
              "None of these_non demenation                                                                                                                                                                                                                                                                                                                                                                                                                                                                                                                                                                                                                                                                                                                                       1\n",
              "None of these_wicon                                                                                                                                                                                                                                                                                                                                                                                                                                                                                                                                                                                                                                                                                                                                                1\n",
              "None of these_pagan                                                                                                                                                                                                                                                                                                                                                                                                                                                                                                                                                                                                                                                                                                                                                1\n",
              "None of these_Don't believe in religion.                                                                                                                                                                                                                                                                                                                                                                                                                                                                                                                                                                                                                                                                                                                           1\n",
              "None of these_No particular religious beliefs                                                                                                                                                                                                                                                                                                                                                                                                                                                                                                                                                                                                                                                                                                                      1\n",
              "None of these_Non Denominational Christian                                                                                                                                                                                                                                                                                                                                                                                                                                                                                                                                                                                                                                                                                                                         1\n",
              "None of these_Spiritualist                                                                                                                                                                                                                                                                                                                                                                                                                                                                                                                                                                                                                                                                                                                                         1\n",
              "None of these_Amish                                                                                                                                                                                                                                                                                                                                                                                                                                                                                                                                                                                                                                                                                                                                                1\n",
              "None of these_Grew up Catholic, but do not practice.                                                                                                                                                                                                                                                                                                                                                                                                                                                                                                                                                                                                                                                                                                               1\n",
              "None of these_I don't  have a specific religion.                                                                                                                                                                                                                                                                                                                                                                                                                                                                                                                                                                                                                                                                                                                   1\n",
              "None of these_Don't see it on the list.. hard to define.                                                                                                                                                                                                                                                                                                                                                                                                                                                                                                                                                                                                                                                                                                           1\n",
              "None of these_non denominational christian                                                                                                                                                                                                                                                                                                                                                                                                                                                                                                                                                                                                                                                                                                                         1\n",
              "None of these_Free Thinker                                                                                                                                                                                                                                                                                                                                                                                                                                                                                                                                                                                                                                                                                                                                         1\n",
              "None of these_Baptised                                                                                                                                                                                                                                                                                                                                                                                                                                                                                                                                                                                                                                                                                                                                             1\n",
              "None of these_Bathise                                                                                                                                                                                                                                                                                                                                                                                                                                                                                                                                                                                                                                                                                                                                              1\n",
              "None of these_Atheist - but it is NOT a religion                                                                                                                                                                                                                                                                                                                                                                                                                                                                                                                                                                                                                                                                                                                   1\n",
              "None of these_Undecided                                                                                                                                                                                                                                                                                                                                                                                                                                                                                                                                                                                                                                                                                                                                            1\n",
              "Name: Religion_2, dtype: int64"
            ]
          },
          "metadata": {
            "tags": []
          },
          "execution_count": 75
        }
      ]
    },
    {
      "cell_type": "code",
      "metadata": {
        "id": "gt2Hhj4yTvRk",
        "colab_type": "code",
        "outputId": "34f9d207-9ed2-4a4d-de56-d999956c92db",
        "colab": {
          "base_uri": "https://localhost:8080/",
          "height": 72
        }
      },
      "source": [
        "# # Drop the Nan values:\n",
        "# christ['Pray with Others'].dropna(inplace=True)\n",
        "# christ['Public Event'].dropna(inplace=True)\n",
        "# christ['Religion1'].dropna(inplace=True)\n",
        "\n",
        "# # Check to see if it worked\n",
        "# print (christ['Pray with Others'].isnull().sum())\n",
        "# print (christ['Public Event'].isnull().sum())\n",
        "# print (christ['Religion1'].isnull().sum())"
      ],
      "execution_count": 0,
      "outputs": [
        {
          "output_type": "stream",
          "text": [
            "0\n",
            "0\n",
            "0\n"
          ],
          "name": "stdout"
        }
      ]
    },
    {
      "cell_type": "code",
      "metadata": {
        "id": "4KhE-nvhVDZF",
        "colab_type": "code",
        "outputId": "dab4cb36-0de5-4fee-ac14-1da59098c995",
        "colab": {
          "base_uri": "https://localhost:8080/",
          "height": 35
        }
      },
      "source": [
        "# Check the size of my dataset:\n",
        "christ.shape"
      ],
      "execution_count": 63,
      "outputs": [
        {
          "output_type": "execute_result",
          "data": {
            "text/plain": [
              "(1040, 5)"
            ]
          },
          "metadata": {
            "tags": []
          },
          "execution_count": 63
        }
      ]
    },
    {
      "cell_type": "code",
      "metadata": {
        "id": "nsfmAFu7z_i8",
        "colab_type": "code",
        "colab": {}
      },
      "source": [
        "# Create a function to clean up the new Religion column:\n",
        "def clean_r(rel):\n",
        "  if rel.__contains__('None of these_'):\n",
        "  # str('None of these_') in rel=True:\n",
        "    return rel.replace('None of these_', '').title()\n",
        "  else:\n",
        "    return rel"
      ],
      "execution_count": 0,
      "outputs": []
    },
    {
      "cell_type": "code",
      "metadata": {
        "id": "eueUK8sp1djf",
        "colab_type": "code",
        "outputId": "41b5865f-a58f-4a58-e94a-5c10a6efc813",
        "colab": {
          "base_uri": "https://localhost:8080/",
          "height": 108
        }
      },
      "source": [
        "# Test my function:\n",
        "print (clean_r('None of these_Spiritualist'))\n",
        "print (clean_r('None of these_catholic'))\n",
        "print (clean_r('None of these_ Nondenominational'))\n",
        "print (clean_r('None of these_Amish'))\n",
        "print (clean_r('None of these_A higher power'))"
      ],
      "execution_count": 84,
      "outputs": [
        {
          "output_type": "stream",
          "text": [
            "Spiritualist\n",
            "Catholic\n",
            " Nondenominational\n",
            "Amish\n",
            "A Higher Power\n"
          ],
          "name": "stdout"
        }
      ]
    },
    {
      "cell_type": "code",
      "metadata": {
        "id": "Jq8pIkiIeZ74",
        "colab_type": "code",
        "colab": {}
      },
      "source": [
        ""
      ],
      "execution_count": 0,
      "outputs": []
    },
    {
      "cell_type": "code",
      "metadata": {
        "id": "yBhSZDwhecW7",
        "colab_type": "code",
        "colab": {}
      },
      "source": [
        ""
      ],
      "execution_count": 0,
      "outputs": []
    },
    {
      "cell_type": "code",
      "metadata": {
        "id": "TNTKa3_wecil",
        "colab_type": "code",
        "colab": {}
      },
      "source": [
        ""
      ],
      "execution_count": 0,
      "outputs": []
    },
    {
      "cell_type": "code",
      "metadata": {
        "id": "kdKVRfdpecn5",
        "colab_type": "code",
        "colab": {}
      },
      "source": [
        ""
      ],
      "execution_count": 0,
      "outputs": []
    },
    {
      "cell_type": "code",
      "metadata": {
        "id": "2GkAcpOfecuj",
        "colab_type": "code",
        "colab": {}
      },
      "source": [
        ""
      ],
      "execution_count": 0,
      "outputs": []
    },
    {
      "cell_type": "code",
      "metadata": {
        "id": "Veunhh6Pecxh",
        "colab_type": "code",
        "colab": {}
      },
      "source": [
        ""
      ],
      "execution_count": 0,
      "outputs": []
    },
    {
      "cell_type": "code",
      "metadata": {
        "id": "z6tW_dhSec29",
        "colab_type": "code",
        "colab": {}
      },
      "source": [
        ""
      ],
      "execution_count": 0,
      "outputs": []
    },
    {
      "cell_type": "code",
      "metadata": {
        "id": "wldafgJHec6B",
        "colab_type": "code",
        "colab": {}
      },
      "source": [
        ""
      ],
      "execution_count": 0,
      "outputs": []
    },
    {
      "cell_type": "code",
      "metadata": {
        "id": "oy1tNyLSedAB",
        "colab_type": "code",
        "colab": {}
      },
      "source": [
        ""
      ],
      "execution_count": 0,
      "outputs": []
    },
    {
      "cell_type": "code",
      "metadata": {
        "id": "fhr2BuYJedFD",
        "colab_type": "code",
        "colab": {}
      },
      "source": [
        ""
      ],
      "execution_count": 0,
      "outputs": []
    },
    {
      "cell_type": "code",
      "metadata": {
        "id": "74gM0GVBedK7",
        "colab_type": "code",
        "colab": {}
      },
      "source": [
        ""
      ],
      "execution_count": 0,
      "outputs": []
    },
    {
      "cell_type": "code",
      "metadata": {
        "id": "2p90Za3jFYUn",
        "colab_type": "code",
        "outputId": "8d904988-c204-4edb-cd9a-1805eb011ead",
        "colab": {
          "base_uri": "https://localhost:8080/",
          "height": 235
        }
      },
      "source": [
        "# Need to filter out only the \"Christians\" as stated on the example:\n",
        "christ = (together['What is your present religion, if any?'] == 'Protestant') | (together['What is your present religion, if any?'] == 'Roman Catholic') | (together['Unnamed: 1'] == 'Roman Catholic')\n",
        "christ"
      ],
      "execution_count": 0,
      "outputs": [
        {
          "output_type": "execute_result",
          "data": {
            "text/plain": [
              "0       False\n",
              "1       False\n",
              "2       False\n",
              "3        True\n",
              "4       False\n",
              "        ...  \n",
              "1035     True\n",
              "1036    False\n",
              "1037    False\n",
              "1038     True\n",
              "1039    False\n",
              "Length: 1040, dtype: bool"
            ]
          },
          "metadata": {
            "tags": []
          },
          "execution_count": 122
        }
      ]
    },
    {
      "cell_type": "code",
      "metadata": {
        "id": "WYumWFj0FYP1",
        "colab_type": "code",
        "outputId": "1d316f52-b012-4bb7-9141-2b17bc775f52",
        "colab": {
          "base_uri": "https://localhost:8080/",
          "height": 384
        }
      },
      "source": [
        "# Need to turn the filter into a new dataframe:\n",
        "christ2 = together[christ]\n",
        "print(christ2.shape)\n",
        "christ2.sample(10)"
      ],
      "execution_count": 0,
      "outputs": [
        {
          "output_type": "stream",
          "text": [
            "(426, 4)\n"
          ],
          "name": "stdout"
        },
        {
          "output_type": "execute_result",
          "data": {
            "text/html": [
              "<div>\n",
              "<style scoped>\n",
              "    .dataframe tbody tr th:only-of-type {\n",
              "        vertical-align: middle;\n",
              "    }\n",
              "\n",
              "    .dataframe tbody tr th {\n",
              "        vertical-align: top;\n",
              "    }\n",
              "\n",
              "    .dataframe thead th {\n",
              "        text-align: right;\n",
              "    }\n",
              "</style>\n",
              "<table border=\"1\" class=\"dataframe\">\n",
              "  <thead>\n",
              "    <tr style=\"text-align: right;\">\n",
              "      <th></th>\n",
              "      <th>What is your present religion, if any?</th>\n",
              "      <th>How comfortable do you feel when you: Ask or offer to pray with someone</th>\n",
              "      <th>How comfortable do you feel when you: Participate in a public religious event on the streets (Corpus Christi procession, inauguration of Torah scrolls, etc)</th>\n",
              "      <th>Unnamed: 1</th>\n",
              "    </tr>\n",
              "  </thead>\n",
              "  <tbody>\n",
              "    <tr>\n",
              "      <th>683</th>\n",
              "      <td>Protestant</td>\n",
              "      <td>I don't do this</td>\n",
              "      <td>I don't do this</td>\n",
              "      <td>NaN</td>\n",
              "    </tr>\n",
              "    <tr>\n",
              "      <th>137</th>\n",
              "      <td>Protestant</td>\n",
              "      <td>Extremely comfortable</td>\n",
              "      <td>I don't do this</td>\n",
              "      <td>NaN</td>\n",
              "    </tr>\n",
              "    <tr>\n",
              "      <th>395</th>\n",
              "      <td>Protestant</td>\n",
              "      <td>Somewhat comfortably</td>\n",
              "      <td>I don't do this</td>\n",
              "      <td>NaN</td>\n",
              "    </tr>\n",
              "    <tr>\n",
              "      <th>254</th>\n",
              "      <td>Protestant</td>\n",
              "      <td>Extremely comfortable</td>\n",
              "      <td>I don't do this</td>\n",
              "      <td>NaN</td>\n",
              "    </tr>\n",
              "    <tr>\n",
              "      <th>209</th>\n",
              "      <td>Roman Catholic</td>\n",
              "      <td>I don't do this</td>\n",
              "      <td>I don't do this</td>\n",
              "      <td>NaN</td>\n",
              "    </tr>\n",
              "    <tr>\n",
              "      <th>240</th>\n",
              "      <td>Roman Catholic</td>\n",
              "      <td>Very comfortable</td>\n",
              "      <td>I don't do this</td>\n",
              "      <td>NaN</td>\n",
              "    </tr>\n",
              "    <tr>\n",
              "      <th>945</th>\n",
              "      <td>Protestant</td>\n",
              "      <td>I don't do this</td>\n",
              "      <td>I don't do this</td>\n",
              "      <td>NaN</td>\n",
              "    </tr>\n",
              "    <tr>\n",
              "      <th>486</th>\n",
              "      <td>Protestant</td>\n",
              "      <td>I don't do this</td>\n",
              "      <td>I don't do this</td>\n",
              "      <td>NaN</td>\n",
              "    </tr>\n",
              "    <tr>\n",
              "      <th>854</th>\n",
              "      <td>Protestant</td>\n",
              "      <td>I don't do this</td>\n",
              "      <td>Extremely comfortable</td>\n",
              "      <td>NaN</td>\n",
              "    </tr>\n",
              "    <tr>\n",
              "      <th>754</th>\n",
              "      <td>Protestant</td>\n",
              "      <td>Extremely comfortable</td>\n",
              "      <td>I don't do this</td>\n",
              "      <td>NaN</td>\n",
              "    </tr>\n",
              "  </tbody>\n",
              "</table>\n",
              "</div>"
            ],
            "text/plain": [
              "    What is your present religion, if any?  \\\n",
              "683                             Protestant   \n",
              "137                             Protestant   \n",
              "395                             Protestant   \n",
              "254                             Protestant   \n",
              "209                         Roman Catholic   \n",
              "240                         Roman Catholic   \n",
              "945                             Protestant   \n",
              "486                             Protestant   \n",
              "854                             Protestant   \n",
              "754                             Protestant   \n",
              "\n",
              "    How comfortable do you feel when you: Ask or offer to pray with someone  \\\n",
              "683                                    I don't do this                        \n",
              "137                              Extremely comfortable                        \n",
              "395                               Somewhat comfortably                        \n",
              "254                              Extremely comfortable                        \n",
              "209                                    I don't do this                        \n",
              "240                                   Very comfortable                        \n",
              "945                                    I don't do this                        \n",
              "486                                    I don't do this                        \n",
              "854                                    I don't do this                        \n",
              "754                              Extremely comfortable                        \n",
              "\n",
              "    How comfortable do you feel when you: Participate in a public religious event on the streets (Corpus Christi procession, inauguration of Torah scrolls, etc)  \\\n",
              "683                                    I don't do this                                                                                                             \n",
              "137                                    I don't do this                                                                                                             \n",
              "395                                    I don't do this                                                                                                             \n",
              "254                                    I don't do this                                                                                                             \n",
              "209                                    I don't do this                                                                                                             \n",
              "240                                    I don't do this                                                                                                             \n",
              "945                                    I don't do this                                                                                                             \n",
              "486                                    I don't do this                                                                                                             \n",
              "854                              Extremely comfortable                                                                                                             \n",
              "754                                    I don't do this                                                                                                             \n",
              "\n",
              "    Unnamed: 1  \n",
              "683        NaN  \n",
              "137        NaN  \n",
              "395        NaN  \n",
              "254        NaN  \n",
              "209        NaN  \n",
              "240        NaN  \n",
              "945        NaN  \n",
              "486        NaN  \n",
              "854        NaN  \n",
              "754        NaN  "
            ]
          },
          "metadata": {
            "tags": []
          },
          "execution_count": 123
        }
      ]
    },
    {
      "cell_type": "code",
      "metadata": {
        "id": "aGHeVQ-TT5co",
        "colab_type": "code",
        "outputId": "1f3efce9-aa3d-446d-e4e2-17cec48eafff",
        "colab": {
          "base_uri": "https://localhost:8080/",
          "height": 54
        }
      },
      "source": [
        "# Check the amount of NaN values in both Religion columns:\n",
        "print (christ2['Religion1'].isnull().sum())\n",
        "print (christ2['Religion'].isnull().sum())"
      ],
      "execution_count": 0,
      "outputs": [
        {
          "output_type": "stream",
          "text": [
            "426\n",
            "0\n"
          ],
          "name": "stdout"
        }
      ]
    },
    {
      "cell_type": "code",
      "metadata": {
        "id": "v4l9oRpqPs4Z",
        "colab_type": "code",
        "outputId": "3511b1ea-d5d6-4948-aaf0-a617a91ee71c",
        "colab": {
          "base_uri": "https://localhost:8080/",
          "height": 198
        }
      },
      "source": [
        "Religion = christ2['Religion'].fillna(christ2['Religion1'])\n",
        "christ2['Religion'] = Religion\n",
        "christ2.head()"
      ],
      "execution_count": 0,
      "outputs": [
        {
          "output_type": "execute_result",
          "data": {
            "text/html": [
              "<div>\n",
              "<style scoped>\n",
              "    .dataframe tbody tr th:only-of-type {\n",
              "        vertical-align: middle;\n",
              "    }\n",
              "\n",
              "    .dataframe tbody tr th {\n",
              "        vertical-align: top;\n",
              "    }\n",
              "\n",
              "    .dataframe thead th {\n",
              "        text-align: right;\n",
              "    }\n",
              "</style>\n",
              "<table border=\"1\" class=\"dataframe\">\n",
              "  <thead>\n",
              "    <tr style=\"text-align: right;\">\n",
              "      <th></th>\n",
              "      <th>Religion</th>\n",
              "      <th>Pray with Others</th>\n",
              "      <th>Public Event</th>\n",
              "      <th>Religion1</th>\n",
              "    </tr>\n",
              "  </thead>\n",
              "  <tbody>\n",
              "    <tr>\n",
              "      <th>3</th>\n",
              "      <td>Protestant</td>\n",
              "      <td>Extremely comfortable</td>\n",
              "      <td>Extremely comfortable</td>\n",
              "      <td>NaN</td>\n",
              "    </tr>\n",
              "    <tr>\n",
              "      <th>8</th>\n",
              "      <td>Protestant</td>\n",
              "      <td>Not so comfortable</td>\n",
              "      <td>I don't do this</td>\n",
              "      <td>NaN</td>\n",
              "    </tr>\n",
              "    <tr>\n",
              "      <th>10</th>\n",
              "      <td>Protestant</td>\n",
              "      <td>Somewhat comfortably</td>\n",
              "      <td>Somewhat comfortably</td>\n",
              "      <td>NaN</td>\n",
              "    </tr>\n",
              "    <tr>\n",
              "      <th>12</th>\n",
              "      <td>Roman Catholic</td>\n",
              "      <td>I don't do this</td>\n",
              "      <td>I don't do this</td>\n",
              "      <td>NaN</td>\n",
              "    </tr>\n",
              "    <tr>\n",
              "      <th>15</th>\n",
              "      <td>Protestant</td>\n",
              "      <td>Somewhat comfortably</td>\n",
              "      <td>I don't do this</td>\n",
              "      <td>NaN</td>\n",
              "    </tr>\n",
              "  </tbody>\n",
              "</table>\n",
              "</div>"
            ],
            "text/plain": [
              "          Religion       Pray with Others           Public Event Religion1\n",
              "3       Protestant  Extremely comfortable  Extremely comfortable       NaN\n",
              "8       Protestant     Not so comfortable        I don't do this       NaN\n",
              "10      Protestant   Somewhat comfortably   Somewhat comfortably       NaN\n",
              "12  Roman Catholic        I don't do this        I don't do this       NaN\n",
              "15      Protestant   Somewhat comfortably        I don't do this       NaN"
            ]
          },
          "metadata": {
            "tags": []
          },
          "execution_count": 115
        }
      ]
    },
    {
      "cell_type": "code",
      "metadata": {
        "id": "Bu9WtH3hZxfN",
        "colab_type": "code",
        "outputId": "6796620d-6fdf-4f01-f0f4-6b5660faaf92",
        "colab": {
          "base_uri": "https://localhost:8080/",
          "height": 108
        }
      },
      "source": [
        "christ2['Religion1'].describe()"
      ],
      "execution_count": 0,
      "outputs": [
        {
          "output_type": "execute_result",
          "data": {
            "text/plain": [
              "count       0\n",
              "unique      0\n",
              "top       NaN\n",
              "freq      NaN\n",
              "Name: Religion1, dtype: object"
            ]
          },
          "metadata": {
            "tags": []
          },
          "execution_count": 116
        }
      ]
    },
    {
      "cell_type": "code",
      "metadata": {
        "id": "oHTriYvvFYXy",
        "colab_type": "code",
        "outputId": "7891c34d-c231-4c5f-b4b9-fcef7d9c2448",
        "colab": {
          "base_uri": "https://localhost:8080/",
          "height": 163
        }
      },
      "source": [
        "together['How comfortable do you feel when you: Ask or offer to pray with someone'].value_counts()"
      ],
      "execution_count": 0,
      "outputs": [
        {
          "output_type": "execute_result",
          "data": {
            "text/plain": [
              "I don't do this           418\n",
              "Extremely comfortable     153\n",
              "Very comfortable          149\n",
              "Somewhat comfortably      110\n",
              "Not so comfortable         58\n",
              "Not at all comfortable     25\n",
              "Response                    1\n",
              "Name: How comfortable do you feel when you: Ask or offer to pray with someone, dtype: int64"
            ]
          },
          "metadata": {
            "tags": []
          },
          "execution_count": 57
        }
      ]
    },
    {
      "cell_type": "code",
      "metadata": {
        "id": "zpHGjfjiFYWL",
        "colab_type": "code",
        "outputId": "d5a2a1db-3af9-4651-db71-41054b728e3c",
        "colab": {
          "base_uri": "https://localhost:8080/",
          "height": 183
        }
      },
      "source": [
        "together['How comfortable do you feel when you: Participate in a public religious event on the streets (Corpus Christi procession, inauguration of Torah scrolls, etc)'].value_counts()"
      ],
      "execution_count": 0,
      "outputs": [
        {
          "output_type": "execute_result",
          "data": {
            "text/plain": [
              "I don't do this           668\n",
              "Extremely comfortable      87\n",
              "Very comfortable           84\n",
              "Somewhat comfortably       50\n",
              "Not so comfortable         21\n",
              "Not at all comfortable     15\n",
              "Response                    1\n",
              "Name: How comfortable do you feel when you: Participate in a public religious event on the streets (Corpus Christi procession, inauguration of Torah scrolls, etc), dtype: int64"
            ]
          },
          "metadata": {
            "tags": []
          },
          "execution_count": 58
        }
      ]
    },
    {
      "cell_type": "code",
      "metadata": {
        "id": "_pNvNB7xFYNj",
        "colab_type": "code",
        "colab": {}
      },
      "source": [
        ""
      ],
      "execution_count": 0,
      "outputs": []
    },
    {
      "cell_type": "code",
      "metadata": {
        "id": "8CvtNbtrFYLt",
        "colab_type": "code",
        "colab": {}
      },
      "source": [
        ""
      ],
      "execution_count": 0,
      "outputs": []
    },
    {
      "cell_type": "code",
      "metadata": {
        "id": "2SBcDasZFYJZ",
        "colab_type": "code",
        "colab": {}
      },
      "source": [
        ""
      ],
      "execution_count": 0,
      "outputs": []
    },
    {
      "cell_type": "code",
      "metadata": {
        "id": "BK5_OXPmFYHx",
        "colab_type": "code",
        "colab": {}
      },
      "source": [
        ""
      ],
      "execution_count": 0,
      "outputs": []
    },
    {
      "cell_type": "code",
      "metadata": {
        "id": "2fhcfyykFYFL",
        "colab_type": "code",
        "colab": {}
      },
      "source": [
        ""
      ],
      "execution_count": 0,
      "outputs": []
    },
    {
      "cell_type": "code",
      "metadata": {
        "id": "fuqIyB6AFX9L",
        "colab_type": "code",
        "colab": {}
      },
      "source": [
        ""
      ],
      "execution_count": 0,
      "outputs": []
    },
    {
      "cell_type": "code",
      "metadata": {
        "id": "tigS4d37FX7X",
        "colab_type": "code",
        "colab": {}
      },
      "source": [
        ""
      ],
      "execution_count": 0,
      "outputs": []
    },
    {
      "cell_type": "code",
      "metadata": {
        "id": "rdxK4q1KFX5X",
        "colab_type": "code",
        "colab": {}
      },
      "source": [
        ""
      ],
      "execution_count": 0,
      "outputs": []
    },
    {
      "cell_type": "code",
      "metadata": {
        "id": "Lommd8iWFX2g",
        "colab_type": "code",
        "colab": {}
      },
      "source": [
        ""
      ],
      "execution_count": 0,
      "outputs": []
    },
    {
      "cell_type": "markdown",
      "metadata": {
        "id": "0wSrBzmJyWaV",
        "colab_type": "text"
      },
      "source": [
        "# STRETCH OPTIONS\n",
        "\n",
        "### 1) Reproduce one of the following using the matplotlib or seaborn libraries:\n",
        "\n",
        "- [thanksgiving-2015](https://fivethirtyeight.com/features/heres-what-your-part-of-america-eats-on-thanksgiving/) \n",
        "- [candy-power-ranking](https://fivethirtyeight.com/features/the-ultimate-halloween-candy-power-ranking/) \n",
        "- or another example of your choice!\n",
        "\n",
        "### 2) Make more charts!\n",
        "\n",
        "Choose a chart you want to make, from [Visual Vocabulary - Vega Edition](http://ft.com/vocabulary).\n",
        "\n",
        "Find the chart in an example gallery of a Python data visualization library:\n",
        "- [Seaborn](http://seaborn.pydata.org/examples/index.html)\n",
        "- [Altair](https://altair-viz.github.io/gallery/index.html)\n",
        "- [Matplotlib](https://matplotlib.org/gallery.html)\n",
        "- [Pandas](https://pandas.pydata.org/pandas-docs/stable/visualization.html)\n",
        "\n",
        "Reproduce the chart. [Optionally, try the \"Ben Franklin Method.\"](https://docs.google.com/document/d/1ubOw9B3Hfip27hF2ZFnW3a3z9xAgrUDRReOEo-FHCVs/edit) If you want, experiment and make changes.\n",
        "\n",
        "Take notes. Consider sharing your work with your cohort!"
      ]
    },
    {
      "cell_type": "code",
      "metadata": {
        "id": "dRJkKftiy5BJ",
        "colab_type": "code",
        "colab": {}
      },
      "source": [
        "# More Work Here"
      ],
      "execution_count": 0,
      "outputs": []
    }
  ]
}