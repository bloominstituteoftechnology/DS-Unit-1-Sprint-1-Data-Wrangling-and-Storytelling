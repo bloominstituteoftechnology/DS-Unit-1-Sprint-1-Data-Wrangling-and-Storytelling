{
  "nbformat": 4,
  "nbformat_minor": 0,
  "metadata": {
    "colab": {
      "name": "LS_DS_114_Make_Explanatory_Visualizations_Assignment.ipynb",
      "provenance": [],
      "collapsed_sections": [],
      "include_colab_link": true
    },
    "language_info": {
      "codemirror_mode": {
        "name": "ipython",
        "version": 3
      },
      "file_extension": ".py",
      "mimetype": "text/x-python",
      "name": "python",
      "nbconvert_exporter": "python",
      "pygments_lexer": "ipython3",
      "version": "3.7.1"
    },
    "kernelspec": {
      "display_name": "Python 3",
      "language": "python",
      "name": "python3"
    }
  },
  "cells": [
    {
      "cell_type": "markdown",
      "metadata": {
        "id": "view-in-github",
        "colab_type": "text"
      },
      "source": [
        "<a href=\"https://colab.research.google.com/github/bsmrvl/DS-Unit-1-Sprint-1-Data-Wrangling-and-Storytelling/blob/master/module4-make-explanatory-visualizations/LS_DS_114_Make_Explanatory_Visualizations_Assignment.ipynb\" target=\"_parent\"><img src=\"https://colab.research.google.com/assets/colab-badge.svg\" alt=\"Open In Colab\"/></a>"
      ]
    },
    {
      "cell_type": "markdown",
      "metadata": {
        "colab_type": "text",
        "id": "NMEswXWh9mqw"
      },
      "source": [
        "Lambda School Data Science\n",
        "\n",
        "*Unit 1, Sprint 1, Module 4*\n",
        "\n",
        "---\n",
        "\n",
        "# ASSIGNMENT\n",
        "\n",
        "### 1) Replicate the lesson code. I recommend that you [do not copy-paste](https://docs.google.com/document/d/1ubOw9B3Hfip27hF2ZFnW3a3z9xAgrUDRReOEo-FHCVs/edit).\n",
        "\n",
        "Get caught up to where we got our example in class and then try and take things further. How close to \"pixel perfect\" can you make the lecture graph?\n",
        "\n",
        "Once you have something that you're proud of, share your graph in the cohort channel and move on to the second exercise.\n",
        "\n",
        "### 2) Reproduce another example from [FiveThityEight's shared data repository](https://data.fivethirtyeight.com/).\n",
        "\n",
        "**WARNING**: There are a lot of very custom graphs and tables at the above link. I **highly** recommend not trying to reproduce any that look like a table of values or something really different from the graph types that we are already familiar with. Search through the posts until you find a graph type that you are more or less familiar with: histogram, bar chart, stacked bar chart, line chart, [seaborn relplot](https://seaborn.pydata.org/generated/seaborn.relplot.html), etc. Recreating some of the graphics that 538 uses would be a lot easier in Adobe photoshop/illustrator than with matplotlib. \n",
        "\n",
        "- If you put in some time to find a graph that looks \"easy\" to replicate you'll probably find that it's not as easy as you thought. \n",
        "\n",
        "- If you start with a graph that looks hard to replicate you'll probably run up against a brick wall and be disappointed with your afternoon.\n",
        "\n",
        "\n",
        "\n",
        "\n",
        "\n",
        "\n",
        "\n",
        "\n",
        "\n",
        "\n"
      ]
    },
    {
      "cell_type": "code",
      "metadata": {
        "id": "EXp3dd1Mt2BN",
        "colab_type": "code",
        "colab": {
          "base_uri": "https://localhost:8080/",
          "height": 328
        },
        "outputId": "3bd269a1-86b4-4e86-9e61-87a7ddb40bd3"
      },
      "source": [
        "# I chose the article about urbanization of states and the election.\n",
        "# https://fivethirtyeight.com/features/how-urban-or-rural-is-your-state-and-what-does-that-mean-for-the-2020-election/\n",
        "\n",
        "# Image: https://fivethirtyeight.com/wp-content/uploads/2020/04/rakich-SUNBELT-0409.png?w=1150\n",
        "\n",
        "##### THIS IS NOT DONE YET! Will re-push to github once I've perfected the graph (and used real data).\n",
        "##### As always, my lecture code is in the lecture file.\n",
        "\n",
        "import pandas as pd\n",
        "\n",
        "# Fake data\n",
        "fake = pd.DataFrame({'urbanization':[8.4,9,10,11,12,9.4,10.1,11.4, 12.8],'p_margin':[-40,-24,-4,20,30,1,10,40,42]})\n",
        "fake"
      ],
      "execution_count": 1,
      "outputs": [
        {
          "output_type": "execute_result",
          "data": {
            "text/html": [
              "<div>\n",
              "<style scoped>\n",
              "    .dataframe tbody tr th:only-of-type {\n",
              "        vertical-align: middle;\n",
              "    }\n",
              "\n",
              "    .dataframe tbody tr th {\n",
              "        vertical-align: top;\n",
              "    }\n",
              "\n",
              "    .dataframe thead th {\n",
              "        text-align: right;\n",
              "    }\n",
              "</style>\n",
              "<table border=\"1\" class=\"dataframe\">\n",
              "  <thead>\n",
              "    <tr style=\"text-align: right;\">\n",
              "      <th></th>\n",
              "      <th>urbanization</th>\n",
              "      <th>p_margin</th>\n",
              "    </tr>\n",
              "  </thead>\n",
              "  <tbody>\n",
              "    <tr>\n",
              "      <th>0</th>\n",
              "      <td>8.4</td>\n",
              "      <td>-40</td>\n",
              "    </tr>\n",
              "    <tr>\n",
              "      <th>1</th>\n",
              "      <td>9.0</td>\n",
              "      <td>-24</td>\n",
              "    </tr>\n",
              "    <tr>\n",
              "      <th>2</th>\n",
              "      <td>10.0</td>\n",
              "      <td>-4</td>\n",
              "    </tr>\n",
              "    <tr>\n",
              "      <th>3</th>\n",
              "      <td>11.0</td>\n",
              "      <td>20</td>\n",
              "    </tr>\n",
              "    <tr>\n",
              "      <th>4</th>\n",
              "      <td>12.0</td>\n",
              "      <td>30</td>\n",
              "    </tr>\n",
              "    <tr>\n",
              "      <th>5</th>\n",
              "      <td>9.4</td>\n",
              "      <td>1</td>\n",
              "    </tr>\n",
              "    <tr>\n",
              "      <th>6</th>\n",
              "      <td>10.1</td>\n",
              "      <td>10</td>\n",
              "    </tr>\n",
              "    <tr>\n",
              "      <th>7</th>\n",
              "      <td>11.4</td>\n",
              "      <td>40</td>\n",
              "    </tr>\n",
              "    <tr>\n",
              "      <th>8</th>\n",
              "      <td>12.8</td>\n",
              "      <td>42</td>\n",
              "    </tr>\n",
              "  </tbody>\n",
              "</table>\n",
              "</div>"
            ],
            "text/plain": [
              "   urbanization  p_margin\n",
              "0           8.4       -40\n",
              "1           9.0       -24\n",
              "2          10.0        -4\n",
              "3          11.0        20\n",
              "4          12.0        30\n",
              "5           9.4         1\n",
              "6          10.1        10\n",
              "7          11.4        40\n",
              "8          12.8        42"
            ]
          },
          "metadata": {
            "tags": []
          },
          "execution_count": 1
        }
      ]
    },
    {
      "cell_type": "code",
      "metadata": {
        "id": "JjPfWkw-xzDp",
        "colab_type": "code",
        "colab": {}
      },
      "source": [
        "# Split into Democratic and Republican, so I can plot in two colors\n",
        "\n",
        "fake_dem = fake[fake['p_margin']>0]\n",
        "fake_rep = fake[fake['p_margin']<0]"
      ],
      "execution_count": 2,
      "outputs": []
    },
    {
      "cell_type": "code",
      "metadata": {
        "id": "NOSnlhfVxMro",
        "colab_type": "code",
        "colab": {
          "base_uri": "https://localhost:8080/",
          "height": 449
        },
        "outputId": "0b6063e6-8337-46ee-8a29-d59de755cece"
      },
      "source": [
        "import matplotlib.pyplot as plt\n",
        "mfont= {'fontname':'Liberation Sans'}\n",
        "lfont = {'fontname':'Liberation Mono'}\n",
        "\n",
        "fig, ax = plt.subplots()\n",
        "\n",
        "fig.set_size_inches(8,6)\n",
        "fig.set_facecolor('#F0F0F0')\n",
        "ax.set_facecolor('#F0F0F0')\n",
        "\n",
        "# Title and Subtitle\n",
        "ax.set_title('More densely populated states are more Democratic',x=.385,y=1.13, fontsize=15, fontweight='bold')\n",
        "ax.text(s='The relationship between how urban a state is, according to',x=7.1,y=64, fontsize=14)\n",
        "ax.text(s='FiveThirtyEight\\' urbanization index, and its 2016 presidential margin',x=7.1,y=59, fontsize=14)\n",
        "\n",
        "# Scatterplot\n",
        "plt.scatter(fake_dem['urbanization'],fake_dem['p_margin'], color='#3A90CA', alpha=.6, s=85)\n",
        "plt.scatter(fake_rep['urbanization'],fake_rep['p_margin'], color='#E15850', alpha=.6, s=85)\n",
        "\n",
        "# Grid and Ticks\n",
        "ax.grid(True)\n",
        "ax.set_xticks([8,10,12])\n",
        "ax.set_xticklabels([8,10,12], color='#666666', fontsize=12, **lfont)\n",
        "ax.set_yticks([-50,-40,-30,-20,-10,0,10,20,30,40,50])\n",
        "ax.set_yticklabels(['R+50','R+40','R+30','R+20','R+10','EVEN','D+10','D+20','D+30','D+40','D+50'], color='#666666', fontsize=12, **lfont)\n",
        "\n",
        "# Axis Labels\n",
        "ax.set_ylabel('2016 presidential margin', fontsize=13, fontweight='bold', labelpad=8)\n",
        "ax.text(s='< LESS URBAN',x=8,y=-65)\n",
        "ax.text(s='MORE URBAN >',x=12.4,y=-65)\n",
        "\n",
        "# Misc Adjustments\n",
        "ax.set_xlim(7.75,13.5)\n",
        "ax.set_ylim(-55,55)\n",
        "ax.spines['top'].set_visible(False)\n",
        "ax.spines['right'].set_visible(False)\n",
        "ax.spines['bottom'].set_visible(False)\n",
        "ax.spines['left'].set_visible(False)\n",
        "ax.tick_params(length=0)\n",
        "ax.yaxis.get_gridlines()[5].set_color('black')\n",
        "\n",
        "plt.show()"
      ],
      "execution_count": 39,
      "outputs": [
        {
          "output_type": "display_data",
          "data": {
            "image/png": "[encoded data removed]",
            "text/plain": [
              "<Figure size 576x432 with 1 Axes>"
            ]
          },
          "metadata": {
            "tags": []
          }
        }
      ]
    },
    {
      "cell_type": "markdown",
      "metadata": {
        "id": "0wSrBzmJyWaV",
        "colab_type": "text"
      },
      "source": [
        "# STRETCH OPTIONS\n",
        "\n",
        "### 1) Reproduce one of the following using the matplotlib or seaborn libraries:\n",
        "\n",
        "- [thanksgiving-2015](https://fivethirtyeight.com/features/heres-what-your-part-of-america-eats-on-thanksgiving/) \n",
        "- [candy-power-ranking](https://fivethirtyeight.com/features/the-ultimate-halloween-candy-power-ranking/) \n",
        "- or another example of your choice!\n",
        "\n",
        "### 2) Make more charts!\n",
        "\n",
        "Choose a chart you want to make, from [Visual Vocabulary - Vega Edition](http://ft.com/vocabulary).\n",
        "\n",
        "Find the chart in an example gallery of a Python data visualization library:\n",
        "- [Seaborn](http://seaborn.pydata.org/examples/index.html)\n",
        "- [Altair](https://altair-viz.github.io/gallery/index.html)\n",
        "- [Matplotlib](https://matplotlib.org/gallery.html)\n",
        "- [Pandas](https://pandas.pydata.org/pandas-docs/stable/visualization.html)\n",
        "\n",
        "Reproduce the chart. [Optionally, try the \"Ben Franklin Method.\"](https://docs.google.com/document/d/1ubOw9B3Hfip27hF2ZFnW3a3z9xAgrUDRReOEo-FHCVs/edit) If you want, experiment and make changes.\n",
        "\n",
        "Take notes. Consider sharing your work with your cohort!"
      ]
    },
    {
      "cell_type": "code",
      "metadata": {
        "id": "dRJkKftiy5BJ",
        "colab_type": "code",
        "colab": {}
      },
      "source": [
        "# More Work Here"
      ],
      "execution_count": 4,
      "outputs": []
    }
  ]
}