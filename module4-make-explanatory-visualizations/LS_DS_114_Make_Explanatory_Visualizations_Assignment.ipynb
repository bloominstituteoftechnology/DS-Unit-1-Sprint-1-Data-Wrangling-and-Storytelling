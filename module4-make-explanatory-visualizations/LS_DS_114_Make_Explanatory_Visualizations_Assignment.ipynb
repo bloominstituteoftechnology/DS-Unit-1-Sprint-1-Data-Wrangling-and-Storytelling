{
  "nbformat": 4,
  "nbformat_minor": 0,
  "metadata": {
    "colab": {
      "name": "LS_DS_114_Make_Explanatory_Visualizations_Assignment.ipynb",
      "provenance": [],
      "collapsed_sections": []
    },
    "language_info": {
      "codemirror_mode": {
        "name": "ipython",
        "version": 3
      },
      "file_extension": ".py",
      "mimetype": "text/x-python",
      "name": "python",
      "nbconvert_exporter": "python",
      "pygments_lexer": "ipython3",
      "version": "3.7.1"
    },
    "kernelspec": {
      "display_name": "Python 3",
      "language": "python",
      "name": "python3"
    }
  },
  "cells": [
    {
      "cell_type": "markdown",
      "metadata": {
        "colab_type": "text",
        "id": "NMEswXWh9mqw"
      },
      "source": [
        "Lambda School Data Science\n",
        "\n",
        "*Unit 1, Sprint 1, Module 4*\n",
        "\n",
        "---\n",
        "\n",
        "# ASSIGNMENT\n",
        "\n",
        "### 1) Replicate the lesson code. I recommend that you [do not copy-paste](https://docs.google.com/document/d/1ubOw9B3Hfip27hF2ZFnW3a3z9xAgrUDRReOEo-FHCVs/edit).\n",
        "\n",
        "Get caught up to where we got our example in class and then try and take things further. How close to \"pixel perfect\" can you make the lecture graph?\n",
        "\n",
        "Once you have something that you're proud of, share your graph in the cohort channel and move on to the second exercise.\n",
        "\n",
        "### 2) Reproduce another example from [FiveThityEight's shared data repository](https://data.fivethirtyeight.com/).\n",
        "\n",
        "**WARNING**: There are a lot of very custom graphs and tables at the above link. I **highly** recommend not trying to reproduce any that look like a table of values or something really different from the graph types that we are already familiar with. Search through the posts until you find a graph type that you are more or less familiar with: histogram, bar chart, stacked bar chart, line chart, [seaborn relplot](https://seaborn.pydata.org/generated/seaborn.relplot.html), etc. Recreating some of the graphics that 538 uses would be a lot easier in Adobe photoshop/illustrator than with matplotlib. \n",
        "\n",
        "- If you put in some time to find a graph that looks \"easy\" to replicate you'll probably find that it's not as easy as you thought. \n",
        "\n",
        "- If you start with a graph that looks hard to replicate you'll probably run up against a brick wall and be disappointed with your afternoon.\n",
        "\n",
        "\n",
        "\n",
        "\n",
        "\n",
        "\n",
        "\n",
        "\n",
        "\n",
        "\n"
      ]
    },
    {
      "cell_type": "code",
      "metadata": {
        "id": "7SY1ZHawyZvz",
        "colab_type": "code",
        "colab": {}
      },
      "source": [
        "# Your Work Here\n",
        "import pandas as pd\n",
        "import numpy as np\n",
        "import matplotlib.pyplot as plt\n",
        "import seaborn as sns"
      ],
      "execution_count": 0,
      "outputs": []
    },
    {
      "cell_type": "code",
      "metadata": {
        "id": "nWmtrDFOCVTb",
        "colab_type": "code",
        "colab": {
          "base_uri": "https://localhost:8080/",
          "height": 285
        },
        "outputId": "5d3a6ef2-3e57-422f-fdd2-a16d610136eb"
      },
      "source": [
        "# Assignment 1\n",
        "\n",
        "fake = pd.Series([38,3,2,1,2,4,6,5,5,33], index = range(1,11))\n",
        "fake.plot.bar(color = 'C1', width = 0.9);"
      ],
      "execution_count": 101,
      "outputs": [
        {
          "output_type": "display_data",
          "data": {
            "image/png": "[encoded data removed]",
            "text/plain": [
              "<Figure size 432x288 with 1 Axes>"
            ]
          },
          "metadata": {
            "tags": []
          }
        }
      ]
    },
    {
      "cell_type": "code",
      "metadata": {
        "id": "8OsKi4d6CkLZ",
        "colab_type": "code",
        "colab": {
          "base_uri": "https://localhost:8080/",
          "height": 289
        },
        "outputId": "7a88b02d-deff-4d62-9a12-5db9c3bd944d"
      },
      "source": [
        "fake2 = pd.Series([1, 1, 1, 1, 1, 1, 1, 1, 1, 1, 1, 1, 1, 1, 1, 1, 1, 1, 1, 1, 1, 1, 1, 1,\n",
        "     2, 2, 2, \n",
        "     3, 3, 3,\n",
        "     4, 4,\n",
        "     5, 5, 5,\n",
        "     6, 6, 6, 6,\n",
        "     7, 7, 7, 7, 7,\n",
        "     8, 8, 8, 8,\n",
        "     9, 9, 9, 9, \n",
        "     10, 10, 10, 10, 10, 10, 10, 10, 10, 10, 10, 10, 10, 10, 10, 10, 10, 10])\n",
        "\n",
        "fake2.value_counts().sort_index().plot.bar(color ='C1', width = 0.9);"
      ],
      "execution_count": 103,
      "outputs": [
        {
          "output_type": "display_data",
          "data": {
            "image/png": "[encoded data removed]",
            "text/plain": [
              "<Figure size 432x288 with 1 Axes>"
            ]
          },
          "metadata": {
            "tags": []
          }
        }
      ]
    },
    {
      "cell_type": "code",
      "metadata": {
        "id": "4sd-IbtuC82f",
        "colab_type": "code",
        "colab": {
          "base_uri": "https://localhost:8080/",
          "height": 334
        },
        "outputId": "df7dabdc-5c5d-42cd-99ac-991f399390e3"
      },
      "source": [
        "fig, ax = plt.subplots()\n",
        "fig.patch.set(facecolor='white')\n",
        "\n",
        "fake.plot.bar(width = 0.9, color = '#ED713A')\n",
        "\n",
        "ax.set(facecolor='white')\n",
        "\n",
        "ax.set_title(\"'An Inconvenient Sequel: Truth To Power' is divisive\",\n",
        "             fontsize = 12,\n",
        "             x = .35,\n",
        "             y = 1.1,\n",
        "             fontweight = 'bold')\n",
        "ax.text(s = 'IMDb ratings for the film as of Aug. 29', fontsize = 12, x = -1.85, y =42);\n",
        "\n",
        "# Set x and y axes\n",
        "\n",
        "ax.set_xlabel('Ratings', fontsize = 9)\n",
        "ax.set_ylabel('Percent of total votes', fontsize = 9)\n",
        "\n",
        "ax.set_xticklabels(range(1,11), rotation = 0)\n",
        "ax.set_yticklabels(range(0,50, 10))\n",
        "ax.set_yticks(range(0,50,10));"
      ],
      "execution_count": 109,
      "outputs": [
        {
          "output_type": "display_data",
          "data": {
            "image/png": "[encoded data removed]",
            "text/plain": [
              "<Figure size 432x288 with 1 Axes>"
            ]
          },
          "metadata": {
            "tags": []
          }
        }
      ]
    },
    {
      "cell_type": "code",
      "metadata": {
        "id": "SaEJstXFGVbv",
        "colab_type": "code",
        "colab": {}
      },
      "source": [
        "df = pd.read_csv('https://raw.githubusercontent.com/fivethirtyeight/data/master/inconvenient-sequel/ratings.csv')"
      ],
      "execution_count": 0,
      "outputs": []
    },
    {
      "cell_type": "code",
      "metadata": {
        "id": "-B6HiPJ3GZyX",
        "colab_type": "code",
        "colab": {}
      },
      "source": [
        "df['timestamp'] = pd.to_datetime(df['timestamp'])"
      ],
      "execution_count": 0,
      "outputs": []
    },
    {
      "cell_type": "code",
      "metadata": {
        "id": "3yBOXBuuGjkp",
        "colab_type": "code",
        "colab": {
          "base_uri": "https://localhost:8080/",
          "height": 400
        },
        "outputId": "1ec9a6e8-7852-476a-9244-b8399782a2b0"
      },
      "source": [
        "df.head()"
      ],
      "execution_count": 112,
      "outputs": [
        {
          "output_type": "execute_result",
          "data": {
            "text/html": [
              "<div>\n",
              "<style scoped>\n",
              "    .dataframe tbody tr th:only-of-type {\n",
              "        vertical-align: middle;\n",
              "    }\n",
              "\n",
              "    .dataframe tbody tr th {\n",
              "        vertical-align: top;\n",
              "    }\n",
              "\n",
              "    .dataframe thead th {\n",
              "        text-align: right;\n",
              "    }\n",
              "</style>\n",
              "<table border=\"1\" class=\"dataframe\">\n",
              "  <thead>\n",
              "    <tr style=\"text-align: right;\">\n",
              "      <th></th>\n",
              "      <th>timestamp</th>\n",
              "      <th>respondents</th>\n",
              "      <th>category</th>\n",
              "      <th>link</th>\n",
              "      <th>average</th>\n",
              "      <th>mean</th>\n",
              "      <th>median</th>\n",
              "      <th>1_votes</th>\n",
              "      <th>2_votes</th>\n",
              "      <th>3_votes</th>\n",
              "      <th>4_votes</th>\n",
              "      <th>5_votes</th>\n",
              "      <th>6_votes</th>\n",
              "      <th>7_votes</th>\n",
              "      <th>8_votes</th>\n",
              "      <th>9_votes</th>\n",
              "      <th>10_votes</th>\n",
              "      <th>1_pct</th>\n",
              "      <th>2_pct</th>\n",
              "      <th>3_pct</th>\n",
              "      <th>4_pct</th>\n",
              "      <th>5_pct</th>\n",
              "      <th>6_pct</th>\n",
              "      <th>7_pct</th>\n",
              "      <th>8_pct</th>\n",
              "      <th>9_pct</th>\n",
              "      <th>10_pct</th>\n",
              "    </tr>\n",
              "  </thead>\n",
              "  <tbody>\n",
              "    <tr>\n",
              "      <th>0</th>\n",
              "      <td>2017-07-17 12:28:32.785639</td>\n",
              "      <td>402</td>\n",
              "      <td>Males</td>\n",
              "      <td>http://www.imdb.com/title/tt6322922/ratings-male</td>\n",
              "      <td>4.6</td>\n",
              "      <td>5.0</td>\n",
              "      <td>2</td>\n",
              "      <td>197</td>\n",
              "      <td>7</td>\n",
              "      <td>7</td>\n",
              "      <td>3</td>\n",
              "      <td>7</td>\n",
              "      <td>7</td>\n",
              "      <td>11</td>\n",
              "      <td>8</td>\n",
              "      <td>20</td>\n",
              "      <td>135</td>\n",
              "      <td>49.0</td>\n",
              "      <td>1.7</td>\n",
              "      <td>1.7</td>\n",
              "      <td>0.7</td>\n",
              "      <td>1.7</td>\n",
              "      <td>1.7</td>\n",
              "      <td>2.7</td>\n",
              "      <td>2.0</td>\n",
              "      <td>5.0</td>\n",
              "      <td>33.6</td>\n",
              "    </tr>\n",
              "    <tr>\n",
              "      <th>1</th>\n",
              "      <td>2017-07-17 12:28:33.025600</td>\n",
              "      <td>78</td>\n",
              "      <td>Females</td>\n",
              "      <td>http://www.imdb.com/title/tt6322922/ratings-fe...</td>\n",
              "      <td>6.9</td>\n",
              "      <td>7.7</td>\n",
              "      <td>10</td>\n",
              "      <td>16</td>\n",
              "      <td>1</td>\n",
              "      <td>0</td>\n",
              "      <td>1</td>\n",
              "      <td>1</td>\n",
              "      <td>0</td>\n",
              "      <td>3</td>\n",
              "      <td>4</td>\n",
              "      <td>3</td>\n",
              "      <td>49</td>\n",
              "      <td>20.5</td>\n",
              "      <td>1.3</td>\n",
              "      <td>0.0</td>\n",
              "      <td>1.3</td>\n",
              "      <td>1.3</td>\n",
              "      <td>0.0</td>\n",
              "      <td>3.8</td>\n",
              "      <td>5.1</td>\n",
              "      <td>3.8</td>\n",
              "      <td>62.8</td>\n",
              "    </tr>\n",
              "    <tr>\n",
              "      <th>2</th>\n",
              "      <td>2017-07-17 12:28:33.273919</td>\n",
              "      <td>4</td>\n",
              "      <td>Aged under 18</td>\n",
              "      <td>http://www.imdb.com/title/tt6322922/ratings-age_1</td>\n",
              "      <td>4.2</td>\n",
              "      <td>4.2</td>\n",
              "      <td>3</td>\n",
              "      <td>2</td>\n",
              "      <td>0</td>\n",
              "      <td>0</td>\n",
              "      <td>0</td>\n",
              "      <td>1</td>\n",
              "      <td>0</td>\n",
              "      <td>0</td>\n",
              "      <td>0</td>\n",
              "      <td>0</td>\n",
              "      <td>1</td>\n",
              "      <td>50.0</td>\n",
              "      <td>0.0</td>\n",
              "      <td>0.0</td>\n",
              "      <td>0.0</td>\n",
              "      <td>25.0</td>\n",
              "      <td>0.0</td>\n",
              "      <td>0.0</td>\n",
              "      <td>0.0</td>\n",
              "      <td>0.0</td>\n",
              "      <td>25.0</td>\n",
              "    </tr>\n",
              "    <tr>\n",
              "      <th>3</th>\n",
              "      <td>2017-07-17 12:28:33.495325</td>\n",
              "      <td>4</td>\n",
              "      <td>Males under 18</td>\n",
              "      <td>http://www.imdb.com/title/tt6322922/ratings-ma...</td>\n",
              "      <td>4.2</td>\n",
              "      <td>4.2</td>\n",
              "      <td>3</td>\n",
              "      <td>2</td>\n",
              "      <td>0</td>\n",
              "      <td>0</td>\n",
              "      <td>0</td>\n",
              "      <td>1</td>\n",
              "      <td>0</td>\n",
              "      <td>0</td>\n",
              "      <td>0</td>\n",
              "      <td>0</td>\n",
              "      <td>1</td>\n",
              "      <td>50.0</td>\n",
              "      <td>0.0</td>\n",
              "      <td>0.0</td>\n",
              "      <td>0.0</td>\n",
              "      <td>25.0</td>\n",
              "      <td>0.0</td>\n",
              "      <td>0.0</td>\n",
              "      <td>0.0</td>\n",
              "      <td>0.0</td>\n",
              "      <td>25.0</td>\n",
              "    </tr>\n",
              "    <tr>\n",
              "      <th>4</th>\n",
              "      <td>2017-07-17 12:28:33.722849</td>\n",
              "      <td>130</td>\n",
              "      <td>Aged 18-29</td>\n",
              "      <td>http://www.imdb.com/title/tt6322922/ratings-age_2</td>\n",
              "      <td>6.3</td>\n",
              "      <td>6.5</td>\n",
              "      <td>9</td>\n",
              "      <td>41</td>\n",
              "      <td>0</td>\n",
              "      <td>3</td>\n",
              "      <td>1</td>\n",
              "      <td>2</td>\n",
              "      <td>3</td>\n",
              "      <td>6</td>\n",
              "      <td>4</td>\n",
              "      <td>6</td>\n",
              "      <td>64</td>\n",
              "      <td>31.5</td>\n",
              "      <td>0.0</td>\n",
              "      <td>2.3</td>\n",
              "      <td>0.8</td>\n",
              "      <td>1.5</td>\n",
              "      <td>2.3</td>\n",
              "      <td>4.6</td>\n",
              "      <td>3.1</td>\n",
              "      <td>4.6</td>\n",
              "      <td>49.2</td>\n",
              "    </tr>\n",
              "  </tbody>\n",
              "</table>\n",
              "</div>"
            ],
            "text/plain": [
              "                   timestamp  respondents        category  ... 8_pct  9_pct  10_pct\n",
              "0 2017-07-17 12:28:32.785639          402           Males  ...   2.0    5.0    33.6\n",
              "1 2017-07-17 12:28:33.025600           78         Females  ...   5.1    3.8    62.8\n",
              "2 2017-07-17 12:28:33.273919            4   Aged under 18  ...   0.0    0.0    25.0\n",
              "3 2017-07-17 12:28:33.495325            4  Males under 18  ...   0.0    0.0    25.0\n",
              "4 2017-07-17 12:28:33.722849          130      Aged 18-29  ...   3.1    4.6    49.2\n",
              "\n",
              "[5 rows x 27 columns]"
            ]
          },
          "metadata": {
            "tags": []
          },
          "execution_count": 112
        }
      ]
    },
    {
      "cell_type": "code",
      "metadata": {
        "id": "WaDozFNbGdgL",
        "colab_type": "code",
        "colab": {}
      },
      "source": [
        "df.set_index('timestamp', inplace = True)"
      ],
      "execution_count": 0,
      "outputs": []
    },
    {
      "cell_type": "code",
      "metadata": {
        "id": "pQNm43irGokD",
        "colab_type": "code",
        "colab": {
          "base_uri": "https://localhost:8080/",
          "height": 431
        },
        "outputId": "d2c435f7-0af2-48b4-b7ee-72368d449f36"
      },
      "source": [
        "df.head()"
      ],
      "execution_count": 114,
      "outputs": [
        {
          "output_type": "execute_result",
          "data": {
            "text/html": [
              "<div>\n",
              "<style scoped>\n",
              "    .dataframe tbody tr th:only-of-type {\n",
              "        vertical-align: middle;\n",
              "    }\n",
              "\n",
              "    .dataframe tbody tr th {\n",
              "        vertical-align: top;\n",
              "    }\n",
              "\n",
              "    .dataframe thead th {\n",
              "        text-align: right;\n",
              "    }\n",
              "</style>\n",
              "<table border=\"1\" class=\"dataframe\">\n",
              "  <thead>\n",
              "    <tr style=\"text-align: right;\">\n",
              "      <th></th>\n",
              "      <th>respondents</th>\n",
              "      <th>category</th>\n",
              "      <th>link</th>\n",
              "      <th>average</th>\n",
              "      <th>mean</th>\n",
              "      <th>median</th>\n",
              "      <th>1_votes</th>\n",
              "      <th>2_votes</th>\n",
              "      <th>3_votes</th>\n",
              "      <th>4_votes</th>\n",
              "      <th>5_votes</th>\n",
              "      <th>6_votes</th>\n",
              "      <th>7_votes</th>\n",
              "      <th>8_votes</th>\n",
              "      <th>9_votes</th>\n",
              "      <th>10_votes</th>\n",
              "      <th>1_pct</th>\n",
              "      <th>2_pct</th>\n",
              "      <th>3_pct</th>\n",
              "      <th>4_pct</th>\n",
              "      <th>5_pct</th>\n",
              "      <th>6_pct</th>\n",
              "      <th>7_pct</th>\n",
              "      <th>8_pct</th>\n",
              "      <th>9_pct</th>\n",
              "      <th>10_pct</th>\n",
              "    </tr>\n",
              "    <tr>\n",
              "      <th>timestamp</th>\n",
              "      <th></th>\n",
              "      <th></th>\n",
              "      <th></th>\n",
              "      <th></th>\n",
              "      <th></th>\n",
              "      <th></th>\n",
              "      <th></th>\n",
              "      <th></th>\n",
              "      <th></th>\n",
              "      <th></th>\n",
              "      <th></th>\n",
              "      <th></th>\n",
              "      <th></th>\n",
              "      <th></th>\n",
              "      <th></th>\n",
              "      <th></th>\n",
              "      <th></th>\n",
              "      <th></th>\n",
              "      <th></th>\n",
              "      <th></th>\n",
              "      <th></th>\n",
              "      <th></th>\n",
              "      <th></th>\n",
              "      <th></th>\n",
              "      <th></th>\n",
              "      <th></th>\n",
              "    </tr>\n",
              "  </thead>\n",
              "  <tbody>\n",
              "    <tr>\n",
              "      <th>2017-07-17 12:28:32.785639</th>\n",
              "      <td>402</td>\n",
              "      <td>Males</td>\n",
              "      <td>http://www.imdb.com/title/tt6322922/ratings-male</td>\n",
              "      <td>4.6</td>\n",
              "      <td>5.0</td>\n",
              "      <td>2</td>\n",
              "      <td>197</td>\n",
              "      <td>7</td>\n",
              "      <td>7</td>\n",
              "      <td>3</td>\n",
              "      <td>7</td>\n",
              "      <td>7</td>\n",
              "      <td>11</td>\n",
              "      <td>8</td>\n",
              "      <td>20</td>\n",
              "      <td>135</td>\n",
              "      <td>49.0</td>\n",
              "      <td>1.7</td>\n",
              "      <td>1.7</td>\n",
              "      <td>0.7</td>\n",
              "      <td>1.7</td>\n",
              "      <td>1.7</td>\n",
              "      <td>2.7</td>\n",
              "      <td>2.0</td>\n",
              "      <td>5.0</td>\n",
              "      <td>33.6</td>\n",
              "    </tr>\n",
              "    <tr>\n",
              "      <th>2017-07-17 12:28:33.025600</th>\n",
              "      <td>78</td>\n",
              "      <td>Females</td>\n",
              "      <td>http://www.imdb.com/title/tt6322922/ratings-fe...</td>\n",
              "      <td>6.9</td>\n",
              "      <td>7.7</td>\n",
              "      <td>10</td>\n",
              "      <td>16</td>\n",
              "      <td>1</td>\n",
              "      <td>0</td>\n",
              "      <td>1</td>\n",
              "      <td>1</td>\n",
              "      <td>0</td>\n",
              "      <td>3</td>\n",
              "      <td>4</td>\n",
              "      <td>3</td>\n",
              "      <td>49</td>\n",
              "      <td>20.5</td>\n",
              "      <td>1.3</td>\n",
              "      <td>0.0</td>\n",
              "      <td>1.3</td>\n",
              "      <td>1.3</td>\n",
              "      <td>0.0</td>\n",
              "      <td>3.8</td>\n",
              "      <td>5.1</td>\n",
              "      <td>3.8</td>\n",
              "      <td>62.8</td>\n",
              "    </tr>\n",
              "    <tr>\n",
              "      <th>2017-07-17 12:28:33.273919</th>\n",
              "      <td>4</td>\n",
              "      <td>Aged under 18</td>\n",
              "      <td>http://www.imdb.com/title/tt6322922/ratings-age_1</td>\n",
              "      <td>4.2</td>\n",
              "      <td>4.2</td>\n",
              "      <td>3</td>\n",
              "      <td>2</td>\n",
              "      <td>0</td>\n",
              "      <td>0</td>\n",
              "      <td>0</td>\n",
              "      <td>1</td>\n",
              "      <td>0</td>\n",
              "      <td>0</td>\n",
              "      <td>0</td>\n",
              "      <td>0</td>\n",
              "      <td>1</td>\n",
              "      <td>50.0</td>\n",
              "      <td>0.0</td>\n",
              "      <td>0.0</td>\n",
              "      <td>0.0</td>\n",
              "      <td>25.0</td>\n",
              "      <td>0.0</td>\n",
              "      <td>0.0</td>\n",
              "      <td>0.0</td>\n",
              "      <td>0.0</td>\n",
              "      <td>25.0</td>\n",
              "    </tr>\n",
              "    <tr>\n",
              "      <th>2017-07-17 12:28:33.495325</th>\n",
              "      <td>4</td>\n",
              "      <td>Males under 18</td>\n",
              "      <td>http://www.imdb.com/title/tt6322922/ratings-ma...</td>\n",
              "      <td>4.2</td>\n",
              "      <td>4.2</td>\n",
              "      <td>3</td>\n",
              "      <td>2</td>\n",
              "      <td>0</td>\n",
              "      <td>0</td>\n",
              "      <td>0</td>\n",
              "      <td>1</td>\n",
              "      <td>0</td>\n",
              "      <td>0</td>\n",
              "      <td>0</td>\n",
              "      <td>0</td>\n",
              "      <td>1</td>\n",
              "      <td>50.0</td>\n",
              "      <td>0.0</td>\n",
              "      <td>0.0</td>\n",
              "      <td>0.0</td>\n",
              "      <td>25.0</td>\n",
              "      <td>0.0</td>\n",
              "      <td>0.0</td>\n",
              "      <td>0.0</td>\n",
              "      <td>0.0</td>\n",
              "      <td>25.0</td>\n",
              "    </tr>\n",
              "    <tr>\n",
              "      <th>2017-07-17 12:28:33.722849</th>\n",
              "      <td>130</td>\n",
              "      <td>Aged 18-29</td>\n",
              "      <td>http://www.imdb.com/title/tt6322922/ratings-age_2</td>\n",
              "      <td>6.3</td>\n",
              "      <td>6.5</td>\n",
              "      <td>9</td>\n",
              "      <td>41</td>\n",
              "      <td>0</td>\n",
              "      <td>3</td>\n",
              "      <td>1</td>\n",
              "      <td>2</td>\n",
              "      <td>3</td>\n",
              "      <td>6</td>\n",
              "      <td>4</td>\n",
              "      <td>6</td>\n",
              "      <td>64</td>\n",
              "      <td>31.5</td>\n",
              "      <td>0.0</td>\n",
              "      <td>2.3</td>\n",
              "      <td>0.8</td>\n",
              "      <td>1.5</td>\n",
              "      <td>2.3</td>\n",
              "      <td>4.6</td>\n",
              "      <td>3.1</td>\n",
              "      <td>4.6</td>\n",
              "      <td>49.2</td>\n",
              "    </tr>\n",
              "  </tbody>\n",
              "</table>\n",
              "</div>"
            ],
            "text/plain": [
              "                            respondents        category  ... 9_pct  10_pct\n",
              "timestamp                                                ...              \n",
              "2017-07-17 12:28:32.785639          402           Males  ...   5.0    33.6\n",
              "2017-07-17 12:28:33.025600           78         Females  ...   3.8    62.8\n",
              "2017-07-17 12:28:33.273919            4   Aged under 18  ...   0.0    25.0\n",
              "2017-07-17 12:28:33.495325            4  Males under 18  ...   0.0    25.0\n",
              "2017-07-17 12:28:33.722849          130      Aged 18-29  ...   4.6    49.2\n",
              "\n",
              "[5 rows x 26 columns]"
            ]
          },
          "metadata": {
            "tags": []
          },
          "execution_count": 114
        }
      ]
    },
    {
      "cell_type": "code",
      "metadata": {
        "id": "_oykOtoAGrth",
        "colab_type": "code",
        "colab": {}
      },
      "source": [
        "lastday = df['2017-08-29']"
      ],
      "execution_count": 0,
      "outputs": []
    },
    {
      "cell_type": "code",
      "metadata": {
        "id": "gZdCXY-BGyVI",
        "colab_type": "code",
        "colab": {
          "base_uri": "https://localhost:8080/",
          "height": 431
        },
        "outputId": "5563d007-8124-4489-f14c-63f977eb60d2"
      },
      "source": [
        "lastday_filtered = lastday[lastday['category'] == 'IMDb users']\n",
        "lastday_filtered.tail()"
      ],
      "execution_count": 116,
      "outputs": [
        {
          "output_type": "execute_result",
          "data": {
            "text/html": [
              "<div>\n",
              "<style scoped>\n",
              "    .dataframe tbody tr th:only-of-type {\n",
              "        vertical-align: middle;\n",
              "    }\n",
              "\n",
              "    .dataframe tbody tr th {\n",
              "        vertical-align: top;\n",
              "    }\n",
              "\n",
              "    .dataframe thead th {\n",
              "        text-align: right;\n",
              "    }\n",
              "</style>\n",
              "<table border=\"1\" class=\"dataframe\">\n",
              "  <thead>\n",
              "    <tr style=\"text-align: right;\">\n",
              "      <th></th>\n",
              "      <th>respondents</th>\n",
              "      <th>category</th>\n",
              "      <th>link</th>\n",
              "      <th>average</th>\n",
              "      <th>mean</th>\n",
              "      <th>median</th>\n",
              "      <th>1_votes</th>\n",
              "      <th>2_votes</th>\n",
              "      <th>3_votes</th>\n",
              "      <th>4_votes</th>\n",
              "      <th>5_votes</th>\n",
              "      <th>6_votes</th>\n",
              "      <th>7_votes</th>\n",
              "      <th>8_votes</th>\n",
              "      <th>9_votes</th>\n",
              "      <th>10_votes</th>\n",
              "      <th>1_pct</th>\n",
              "      <th>2_pct</th>\n",
              "      <th>3_pct</th>\n",
              "      <th>4_pct</th>\n",
              "      <th>5_pct</th>\n",
              "      <th>6_pct</th>\n",
              "      <th>7_pct</th>\n",
              "      <th>8_pct</th>\n",
              "      <th>9_pct</th>\n",
              "      <th>10_pct</th>\n",
              "    </tr>\n",
              "    <tr>\n",
              "      <th>timestamp</th>\n",
              "      <th></th>\n",
              "      <th></th>\n",
              "      <th></th>\n",
              "      <th></th>\n",
              "      <th></th>\n",
              "      <th></th>\n",
              "      <th></th>\n",
              "      <th></th>\n",
              "      <th></th>\n",
              "      <th></th>\n",
              "      <th></th>\n",
              "      <th></th>\n",
              "      <th></th>\n",
              "      <th></th>\n",
              "      <th></th>\n",
              "      <th></th>\n",
              "      <th></th>\n",
              "      <th></th>\n",
              "      <th></th>\n",
              "      <th></th>\n",
              "      <th></th>\n",
              "      <th></th>\n",
              "      <th></th>\n",
              "      <th></th>\n",
              "      <th></th>\n",
              "      <th></th>\n",
              "    </tr>\n",
              "  </thead>\n",
              "  <tbody>\n",
              "    <tr>\n",
              "      <th>2017-08-29 22:30:06.423181</th>\n",
              "      <td>2662</td>\n",
              "      <td>IMDb users</td>\n",
              "      <td>http://www.imdb.com/title/tt6322922/ratings</td>\n",
              "      <td>5.4</td>\n",
              "      <td>5.6</td>\n",
              "      <td>7</td>\n",
              "      <td>1021</td>\n",
              "      <td>69</td>\n",
              "      <td>38</td>\n",
              "      <td>25</td>\n",
              "      <td>55</td>\n",
              "      <td>110</td>\n",
              "      <td>154</td>\n",
              "      <td>147</td>\n",
              "      <td>146</td>\n",
              "      <td>897</td>\n",
              "      <td>38.4</td>\n",
              "      <td>2.6</td>\n",
              "      <td>1.4</td>\n",
              "      <td>0.9</td>\n",
              "      <td>2.1</td>\n",
              "      <td>4.1</td>\n",
              "      <td>5.8</td>\n",
              "      <td>5.5</td>\n",
              "      <td>5.5</td>\n",
              "      <td>33.7</td>\n",
              "    </tr>\n",
              "    <tr>\n",
              "      <th>2017-08-29 22:40:06.233659</th>\n",
              "      <td>2662</td>\n",
              "      <td>IMDb users</td>\n",
              "      <td>http://www.imdb.com/title/tt6322922/ratings</td>\n",
              "      <td>5.4</td>\n",
              "      <td>5.6</td>\n",
              "      <td>7</td>\n",
              "      <td>1021</td>\n",
              "      <td>69</td>\n",
              "      <td>38</td>\n",
              "      <td>25</td>\n",
              "      <td>55</td>\n",
              "      <td>110</td>\n",
              "      <td>154</td>\n",
              "      <td>147</td>\n",
              "      <td>146</td>\n",
              "      <td>897</td>\n",
              "      <td>38.4</td>\n",
              "      <td>2.6</td>\n",
              "      <td>1.4</td>\n",
              "      <td>0.9</td>\n",
              "      <td>2.1</td>\n",
              "      <td>4.1</td>\n",
              "      <td>5.8</td>\n",
              "      <td>5.5</td>\n",
              "      <td>5.5</td>\n",
              "      <td>33.7</td>\n",
              "    </tr>\n",
              "    <tr>\n",
              "      <th>2017-08-29 22:50:06.592571</th>\n",
              "      <td>2662</td>\n",
              "      <td>IMDb users</td>\n",
              "      <td>http://www.imdb.com/title/tt6322922/ratings</td>\n",
              "      <td>5.4</td>\n",
              "      <td>5.6</td>\n",
              "      <td>7</td>\n",
              "      <td>1021</td>\n",
              "      <td>69</td>\n",
              "      <td>38</td>\n",
              "      <td>25</td>\n",
              "      <td>55</td>\n",
              "      <td>110</td>\n",
              "      <td>154</td>\n",
              "      <td>147</td>\n",
              "      <td>146</td>\n",
              "      <td>897</td>\n",
              "      <td>38.4</td>\n",
              "      <td>2.6</td>\n",
              "      <td>1.4</td>\n",
              "      <td>0.9</td>\n",
              "      <td>2.1</td>\n",
              "      <td>4.1</td>\n",
              "      <td>5.8</td>\n",
              "      <td>5.5</td>\n",
              "      <td>5.5</td>\n",
              "      <td>33.7</td>\n",
              "    </tr>\n",
              "    <tr>\n",
              "      <th>2017-08-29 23:00:05.829558</th>\n",
              "      <td>2662</td>\n",
              "      <td>IMDb users</td>\n",
              "      <td>http://www.imdb.com/title/tt6322922/ratings</td>\n",
              "      <td>5.4</td>\n",
              "      <td>5.6</td>\n",
              "      <td>7</td>\n",
              "      <td>1021</td>\n",
              "      <td>69</td>\n",
              "      <td>38</td>\n",
              "      <td>25</td>\n",
              "      <td>55</td>\n",
              "      <td>110</td>\n",
              "      <td>154</td>\n",
              "      <td>147</td>\n",
              "      <td>146</td>\n",
              "      <td>897</td>\n",
              "      <td>38.4</td>\n",
              "      <td>2.6</td>\n",
              "      <td>1.4</td>\n",
              "      <td>0.9</td>\n",
              "      <td>2.1</td>\n",
              "      <td>4.1</td>\n",
              "      <td>5.8</td>\n",
              "      <td>5.5</td>\n",
              "      <td>5.5</td>\n",
              "      <td>33.7</td>\n",
              "    </tr>\n",
              "    <tr>\n",
              "      <th>2017-08-29 23:10:06.218251</th>\n",
              "      <td>2662</td>\n",
              "      <td>IMDb users</td>\n",
              "      <td>http://www.imdb.com/title/tt6322922/ratings</td>\n",
              "      <td>5.4</td>\n",
              "      <td>5.6</td>\n",
              "      <td>7</td>\n",
              "      <td>1021</td>\n",
              "      <td>69</td>\n",
              "      <td>38</td>\n",
              "      <td>25</td>\n",
              "      <td>55</td>\n",
              "      <td>110</td>\n",
              "      <td>154</td>\n",
              "      <td>147</td>\n",
              "      <td>146</td>\n",
              "      <td>897</td>\n",
              "      <td>38.4</td>\n",
              "      <td>2.6</td>\n",
              "      <td>1.4</td>\n",
              "      <td>0.9</td>\n",
              "      <td>2.1</td>\n",
              "      <td>4.1</td>\n",
              "      <td>5.8</td>\n",
              "      <td>5.5</td>\n",
              "      <td>5.5</td>\n",
              "      <td>33.7</td>\n",
              "    </tr>\n",
              "  </tbody>\n",
              "</table>\n",
              "</div>"
            ],
            "text/plain": [
              "                            respondents    category  ... 9_pct  10_pct\n",
              "timestamp                                            ...              \n",
              "2017-08-29 22:30:06.423181         2662  IMDb users  ...   5.5    33.7\n",
              "2017-08-29 22:40:06.233659         2662  IMDb users  ...   5.5    33.7\n",
              "2017-08-29 22:50:06.592571         2662  IMDb users  ...   5.5    33.7\n",
              "2017-08-29 23:00:05.829558         2662  IMDb users  ...   5.5    33.7\n",
              "2017-08-29 23:10:06.218251         2662  IMDb users  ...   5.5    33.7\n",
              "\n",
              "[5 rows x 26 columns]"
            ]
          },
          "metadata": {
            "tags": []
          },
          "execution_count": 116
        }
      ]
    },
    {
      "cell_type": "code",
      "metadata": {
        "id": "4EG3v7uPG69D",
        "colab_type": "code",
        "colab": {
          "base_uri": "https://localhost:8080/",
          "height": 865
        },
        "outputId": "2f193bc5-a478-40d1-9e68-a2515b3e9c31"
      },
      "source": [
        "final = lastday_filtered.tail(1)\n",
        "final.T"
      ],
      "execution_count": 117,
      "outputs": [
        {
          "output_type": "execute_result",
          "data": {
            "text/html": [
              "<div>\n",
              "<style scoped>\n",
              "    .dataframe tbody tr th:only-of-type {\n",
              "        vertical-align: middle;\n",
              "    }\n",
              "\n",
              "    .dataframe tbody tr th {\n",
              "        vertical-align: top;\n",
              "    }\n",
              "\n",
              "    .dataframe thead th {\n",
              "        text-align: right;\n",
              "    }\n",
              "</style>\n",
              "<table border=\"1\" class=\"dataframe\">\n",
              "  <thead>\n",
              "    <tr style=\"text-align: right;\">\n",
              "      <th>timestamp</th>\n",
              "      <th>2017-08-29 23:10:06.218251</th>\n",
              "    </tr>\n",
              "  </thead>\n",
              "  <tbody>\n",
              "    <tr>\n",
              "      <th>respondents</th>\n",
              "      <td>2662</td>\n",
              "    </tr>\n",
              "    <tr>\n",
              "      <th>category</th>\n",
              "      <td>IMDb users</td>\n",
              "    </tr>\n",
              "    <tr>\n",
              "      <th>link</th>\n",
              "      <td>http://www.imdb.com/title/tt6322922/ratings</td>\n",
              "    </tr>\n",
              "    <tr>\n",
              "      <th>average</th>\n",
              "      <td>5.4</td>\n",
              "    </tr>\n",
              "    <tr>\n",
              "      <th>mean</th>\n",
              "      <td>5.6</td>\n",
              "    </tr>\n",
              "    <tr>\n",
              "      <th>median</th>\n",
              "      <td>7</td>\n",
              "    </tr>\n",
              "    <tr>\n",
              "      <th>1_votes</th>\n",
              "      <td>1021</td>\n",
              "    </tr>\n",
              "    <tr>\n",
              "      <th>2_votes</th>\n",
              "      <td>69</td>\n",
              "    </tr>\n",
              "    <tr>\n",
              "      <th>3_votes</th>\n",
              "      <td>38</td>\n",
              "    </tr>\n",
              "    <tr>\n",
              "      <th>4_votes</th>\n",
              "      <td>25</td>\n",
              "    </tr>\n",
              "    <tr>\n",
              "      <th>5_votes</th>\n",
              "      <td>55</td>\n",
              "    </tr>\n",
              "    <tr>\n",
              "      <th>6_votes</th>\n",
              "      <td>110</td>\n",
              "    </tr>\n",
              "    <tr>\n",
              "      <th>7_votes</th>\n",
              "      <td>154</td>\n",
              "    </tr>\n",
              "    <tr>\n",
              "      <th>8_votes</th>\n",
              "      <td>147</td>\n",
              "    </tr>\n",
              "    <tr>\n",
              "      <th>9_votes</th>\n",
              "      <td>146</td>\n",
              "    </tr>\n",
              "    <tr>\n",
              "      <th>10_votes</th>\n",
              "      <td>897</td>\n",
              "    </tr>\n",
              "    <tr>\n",
              "      <th>1_pct</th>\n",
              "      <td>38.4</td>\n",
              "    </tr>\n",
              "    <tr>\n",
              "      <th>2_pct</th>\n",
              "      <td>2.6</td>\n",
              "    </tr>\n",
              "    <tr>\n",
              "      <th>3_pct</th>\n",
              "      <td>1.4</td>\n",
              "    </tr>\n",
              "    <tr>\n",
              "      <th>4_pct</th>\n",
              "      <td>0.9</td>\n",
              "    </tr>\n",
              "    <tr>\n",
              "      <th>5_pct</th>\n",
              "      <td>2.1</td>\n",
              "    </tr>\n",
              "    <tr>\n",
              "      <th>6_pct</th>\n",
              "      <td>4.1</td>\n",
              "    </tr>\n",
              "    <tr>\n",
              "      <th>7_pct</th>\n",
              "      <td>5.8</td>\n",
              "    </tr>\n",
              "    <tr>\n",
              "      <th>8_pct</th>\n",
              "      <td>5.5</td>\n",
              "    </tr>\n",
              "    <tr>\n",
              "      <th>9_pct</th>\n",
              "      <td>5.5</td>\n",
              "    </tr>\n",
              "    <tr>\n",
              "      <th>10_pct</th>\n",
              "      <td>33.7</td>\n",
              "    </tr>\n",
              "  </tbody>\n",
              "</table>\n",
              "</div>"
            ],
            "text/plain": [
              "timestamp                     2017-08-29 23:10:06.218251\n",
              "respondents                                         2662\n",
              "category                                      IMDb users\n",
              "link         http://www.imdb.com/title/tt6322922/ratings\n",
              "average                                              5.4\n",
              "mean                                                 5.6\n",
              "median                                                 7\n",
              "1_votes                                             1021\n",
              "2_votes                                               69\n",
              "3_votes                                               38\n",
              "4_votes                                               25\n",
              "5_votes                                               55\n",
              "6_votes                                              110\n",
              "7_votes                                              154\n",
              "8_votes                                              147\n",
              "9_votes                                              146\n",
              "10_votes                                             897\n",
              "1_pct                                               38.4\n",
              "2_pct                                                2.6\n",
              "3_pct                                                1.4\n",
              "4_pct                                                0.9\n",
              "5_pct                                                2.1\n",
              "6_pct                                                4.1\n",
              "7_pct                                                5.8\n",
              "8_pct                                                5.5\n",
              "9_pct                                                5.5\n",
              "10_pct                                              33.7"
            ]
          },
          "metadata": {
            "tags": []
          },
          "execution_count": 117
        }
      ]
    },
    {
      "cell_type": "code",
      "metadata": {
        "id": "bgdedD3SIcwz",
        "colab_type": "code",
        "colab": {
          "base_uri": "https://localhost:8080/",
          "height": 363
        },
        "outputId": "1d64bf7e-0eb6-4feb-d840-b19134e51ffe"
      },
      "source": [
        "pct_columns = ['1_pct', '2_pct', '3_pct', '4_pct', '5_pct',\n",
        "               '6_pct', '7_pct', '8_pct', '9_pct', '10_pct']\n",
        "\n",
        "final[pct_columns].T"
      ],
      "execution_count": 118,
      "outputs": [
        {
          "output_type": "execute_result",
          "data": {
            "text/html": [
              "<div>\n",
              "<style scoped>\n",
              "    .dataframe tbody tr th:only-of-type {\n",
              "        vertical-align: middle;\n",
              "    }\n",
              "\n",
              "    .dataframe tbody tr th {\n",
              "        vertical-align: top;\n",
              "    }\n",
              "\n",
              "    .dataframe thead th {\n",
              "        text-align: right;\n",
              "    }\n",
              "</style>\n",
              "<table border=\"1\" class=\"dataframe\">\n",
              "  <thead>\n",
              "    <tr style=\"text-align: right;\">\n",
              "      <th>timestamp</th>\n",
              "      <th>2017-08-29 23:10:06.218251</th>\n",
              "    </tr>\n",
              "  </thead>\n",
              "  <tbody>\n",
              "    <tr>\n",
              "      <th>1_pct</th>\n",
              "      <td>38.4</td>\n",
              "    </tr>\n",
              "    <tr>\n",
              "      <th>2_pct</th>\n",
              "      <td>2.6</td>\n",
              "    </tr>\n",
              "    <tr>\n",
              "      <th>3_pct</th>\n",
              "      <td>1.4</td>\n",
              "    </tr>\n",
              "    <tr>\n",
              "      <th>4_pct</th>\n",
              "      <td>0.9</td>\n",
              "    </tr>\n",
              "    <tr>\n",
              "      <th>5_pct</th>\n",
              "      <td>2.1</td>\n",
              "    </tr>\n",
              "    <tr>\n",
              "      <th>6_pct</th>\n",
              "      <td>4.1</td>\n",
              "    </tr>\n",
              "    <tr>\n",
              "      <th>7_pct</th>\n",
              "      <td>5.8</td>\n",
              "    </tr>\n",
              "    <tr>\n",
              "      <th>8_pct</th>\n",
              "      <td>5.5</td>\n",
              "    </tr>\n",
              "    <tr>\n",
              "      <th>9_pct</th>\n",
              "      <td>5.5</td>\n",
              "    </tr>\n",
              "    <tr>\n",
              "      <th>10_pct</th>\n",
              "      <td>33.7</td>\n",
              "    </tr>\n",
              "  </tbody>\n",
              "</table>\n",
              "</div>"
            ],
            "text/plain": [
              "timestamp  2017-08-29 23:10:06.218251\n",
              "1_pct                            38.4\n",
              "2_pct                             2.6\n",
              "3_pct                             1.4\n",
              "4_pct                             0.9\n",
              "5_pct                             2.1\n",
              "6_pct                             4.1\n",
              "7_pct                             5.8\n",
              "8_pct                             5.5\n",
              "9_pct                             5.5\n",
              "10_pct                           33.7"
            ]
          },
          "metadata": {
            "tags": []
          },
          "execution_count": 118
        }
      ]
    },
    {
      "cell_type": "code",
      "metadata": {
        "id": "KruOr3a6Iqwc",
        "colab_type": "code",
        "colab": {
          "base_uri": "https://localhost:8080/",
          "height": 363
        },
        "outputId": "a95569c1-2e76-4faf-8d27-5287f94b865e"
      },
      "source": [
        "plot_data = final[pct_columns].T\n",
        "plot_data.index = range(1,11)\n",
        "plot_data.columns = ['percent']\n",
        "plot_data"
      ],
      "execution_count": 119,
      "outputs": [
        {
          "output_type": "execute_result",
          "data": {
            "text/html": [
              "<div>\n",
              "<style scoped>\n",
              "    .dataframe tbody tr th:only-of-type {\n",
              "        vertical-align: middle;\n",
              "    }\n",
              "\n",
              "    .dataframe tbody tr th {\n",
              "        vertical-align: top;\n",
              "    }\n",
              "\n",
              "    .dataframe thead th {\n",
              "        text-align: right;\n",
              "    }\n",
              "</style>\n",
              "<table border=\"1\" class=\"dataframe\">\n",
              "  <thead>\n",
              "    <tr style=\"text-align: right;\">\n",
              "      <th></th>\n",
              "      <th>percent</th>\n",
              "    </tr>\n",
              "  </thead>\n",
              "  <tbody>\n",
              "    <tr>\n",
              "      <th>1</th>\n",
              "      <td>38.4</td>\n",
              "    </tr>\n",
              "    <tr>\n",
              "      <th>2</th>\n",
              "      <td>2.6</td>\n",
              "    </tr>\n",
              "    <tr>\n",
              "      <th>3</th>\n",
              "      <td>1.4</td>\n",
              "    </tr>\n",
              "    <tr>\n",
              "      <th>4</th>\n",
              "      <td>0.9</td>\n",
              "    </tr>\n",
              "    <tr>\n",
              "      <th>5</th>\n",
              "      <td>2.1</td>\n",
              "    </tr>\n",
              "    <tr>\n",
              "      <th>6</th>\n",
              "      <td>4.1</td>\n",
              "    </tr>\n",
              "    <tr>\n",
              "      <th>7</th>\n",
              "      <td>5.8</td>\n",
              "    </tr>\n",
              "    <tr>\n",
              "      <th>8</th>\n",
              "      <td>5.5</td>\n",
              "    </tr>\n",
              "    <tr>\n",
              "      <th>9</th>\n",
              "      <td>5.5</td>\n",
              "    </tr>\n",
              "    <tr>\n",
              "      <th>10</th>\n",
              "      <td>33.7</td>\n",
              "    </tr>\n",
              "  </tbody>\n",
              "</table>\n",
              "</div>"
            ],
            "text/plain": [
              "    percent\n",
              "1      38.4\n",
              "2       2.6\n",
              "3       1.4\n",
              "4       0.9\n",
              "5       2.1\n",
              "6       4.1\n",
              "7       5.8\n",
              "8       5.5\n",
              "9       5.5\n",
              "10     33.7"
            ]
          },
          "metadata": {
            "tags": []
          },
          "execution_count": 119
        }
      ]
    },
    {
      "cell_type": "code",
      "metadata": {
        "id": "lVY2NG4TI1BV",
        "colab_type": "code",
        "colab": {
          "base_uri": "https://localhost:8080/",
          "height": 334
        },
        "outputId": "d1e7a15e-69ca-4a39-d3d9-b9c81203c9a3"
      },
      "source": [
        "fig, ax = plt.subplots()\n",
        "\n",
        "fig.patch.set(facecolor = 'white')\n",
        "\n",
        "ax.bar(x = range(1,11), height = plot_data['percent'], width = 0.9, color = \"#ED713A\")\n",
        "ax.set(facecolor = 'white')\n",
        "ax.set_title(\"'An Inconvenient Sequel: Truth To Power' is divisive\",\n",
        "             fontsize = 12,\n",
        "             x = 0.35,\n",
        "             y = 1.1,\n",
        "             fontweight = 'bold')\n",
        "ax.text(s='IMDb ratings for the film as of Aug. 29', fontsize = 12, x = -1.85, y = 42)\n",
        "\n",
        "ax.set_xlabel('Rating', fontsize = 9)\n",
        "ax.set_ylabel('Percent of total votes', fontsize = 9)\n",
        "\n",
        "ax.set_xticklabels(range(1,11), rotation = 0)\n",
        "ax.set_xticks(range(1,11))\n",
        "ax.set_yticklabels(range(0,50,10))\n",
        "ax.set_yticks(range(0,50,10));"
      ],
      "execution_count": 129,
      "outputs": [
        {
          "output_type": "display_data",
          "data": {
            "image/png": "[encoded data removed]",
            "text/plain": [
              "<Figure size 432x288 with 1 Axes>"
            ]
          },
          "metadata": {
            "tags": []
          }
        }
      ]
    },
    {
      "cell_type": "code",
      "metadata": {
        "id": "joGr9QTLwWyG",
        "colab_type": "code",
        "colab": {}
      },
      "source": [
        "# Assignment 2\n",
        "# Using the Chess Transfer Data Set\n",
        "# https://github.com/fivethirtyeight/data/tree/master/chess-transfers\n",
        "url = 'https://raw.githubusercontent.com/fivethirtyeight/data/master/chess-transfers/transfers.csv'"
      ],
      "execution_count": 0,
      "outputs": []
    },
    {
      "cell_type": "code",
      "metadata": {
        "id": "E-gYSZcF0cvS",
        "colab_type": "code",
        "colab": {
          "base_uri": "https://localhost:8080/",
          "height": 35
        },
        "outputId": "82a38d72-b3e6-4bd5-8eb8-2d097eff330d"
      },
      "source": [
        "chess_transfers = pd.read_csv(url)\n",
        "chess_transfers.shape"
      ],
      "execution_count": 36,
      "outputs": [
        {
          "output_type": "execute_result",
          "data": {
            "text/plain": [
              "(932, 5)"
            ]
          },
          "metadata": {
            "tags": []
          },
          "execution_count": 36
        }
      ]
    },
    {
      "cell_type": "code",
      "metadata": {
        "id": "GMdIVy1L0h5O",
        "colab_type": "code",
        "colab": {
          "base_uri": "https://localhost:8080/",
          "height": 206
        },
        "outputId": "5adac6bc-802c-4953-ca6d-2f5ba4b6507e"
      },
      "source": [
        "chess_transfers.sample(5)"
      ],
      "execution_count": 37,
      "outputs": [
        {
          "output_type": "execute_result",
          "data": {
            "text/html": [
              "<div>\n",
              "<style scoped>\n",
              "    .dataframe tbody tr th:only-of-type {\n",
              "        vertical-align: middle;\n",
              "    }\n",
              "\n",
              "    .dataframe tbody tr th {\n",
              "        vertical-align: top;\n",
              "    }\n",
              "\n",
              "    .dataframe thead th {\n",
              "        text-align: right;\n",
              "    }\n",
              "</style>\n",
              "<table border=\"1\" class=\"dataframe\">\n",
              "  <thead>\n",
              "    <tr style=\"text-align: right;\">\n",
              "      <th></th>\n",
              "      <th>url</th>\n",
              "      <th>ID</th>\n",
              "      <th>Federation</th>\n",
              "      <th>Form.Fed</th>\n",
              "      <th>Transfer Date</th>\n",
              "    </tr>\n",
              "  </thead>\n",
              "  <tbody>\n",
              "    <tr>\n",
              "      <th>166</th>\n",
              "      <td>https://ratings.fide.com/fedchange.phtml?year=...</td>\n",
              "      <td>726916</td>\n",
              "      <td>GRE</td>\n",
              "      <td>HUN</td>\n",
              "      <td>7/22/04</td>\n",
              "    </tr>\n",
              "    <tr>\n",
              "      <th>830</th>\n",
              "      <td>https://ratings.fide.com/fedchange.phtml?year=...</td>\n",
              "      <td>4169930</td>\n",
              "      <td>ISR</td>\n",
              "      <td>RUS</td>\n",
              "      <td>5/22/15</td>\n",
              "    </tr>\n",
              "    <tr>\n",
              "      <th>661</th>\n",
              "      <td>https://ratings.fide.com/fedchange.phtml?year=...</td>\n",
              "      <td>25004301</td>\n",
              "      <td>AUS</td>\n",
              "      <td>IND</td>\n",
              "      <td>10/23/13</td>\n",
              "    </tr>\n",
              "    <tr>\n",
              "      <th>317</th>\n",
              "      <td>https://ratings.fide.com/fedchange.phtml?year=...</td>\n",
              "      <td>14100673</td>\n",
              "      <td>ISR</td>\n",
              "      <td>UKR</td>\n",
              "      <td>1/15/07</td>\n",
              "    </tr>\n",
              "    <tr>\n",
              "      <th>325</th>\n",
              "      <td>https://ratings.fide.com/fedchange.phtml?year=...</td>\n",
              "      <td>2201224</td>\n",
              "      <td>AND</td>\n",
              "      <td>ESP</td>\n",
              "      <td>12/17/07</td>\n",
              "    </tr>\n",
              "  </tbody>\n",
              "</table>\n",
              "</div>"
            ],
            "text/plain": [
              "                                                   url  ...  Transfer Date\n",
              "166  https://ratings.fide.com/fedchange.phtml?year=...  ...        7/22/04\n",
              "830  https://ratings.fide.com/fedchange.phtml?year=...  ...        5/22/15\n",
              "661  https://ratings.fide.com/fedchange.phtml?year=...  ...       10/23/13\n",
              "317  https://ratings.fide.com/fedchange.phtml?year=...  ...        1/15/07\n",
              "325  https://ratings.fide.com/fedchange.phtml?year=...  ...       12/17/07\n",
              "\n",
              "[5 rows x 5 columns]"
            ]
          },
          "metadata": {
            "tags": []
          },
          "execution_count": 37
        }
      ]
    },
    {
      "cell_type": "code",
      "metadata": {
        "id": "JPe7YsOX0lAu",
        "colab_type": "code",
        "colab": {
          "base_uri": "https://localhost:8080/",
          "height": 127
        },
        "outputId": "f499f44c-1091-4a6d-bc37-74155edeeea9"
      },
      "source": [
        "chess_transfers.dtypes"
      ],
      "execution_count": 38,
      "outputs": [
        {
          "output_type": "execute_result",
          "data": {
            "text/plain": [
              "url              object\n",
              "ID                int64\n",
              "Federation       object\n",
              "Form.Fed         object\n",
              "Transfer Date    object\n",
              "dtype: object"
            ]
          },
          "metadata": {
            "tags": []
          },
          "execution_count": 38
        }
      ]
    },
    {
      "cell_type": "code",
      "metadata": {
        "id": "S4UKl6mg02lh",
        "colab_type": "code",
        "colab": {
          "base_uri": "https://localhost:8080/",
          "height": 127
        },
        "outputId": "9bb27666-6eed-4739-9665-25fad338d16c"
      },
      "source": [
        "chess_transfers.isnull().sum()"
      ],
      "execution_count": 39,
      "outputs": [
        {
          "output_type": "execute_result",
          "data": {
            "text/plain": [
              "url              0\n",
              "ID               0\n",
              "Federation       0\n",
              "Form.Fed         9\n",
              "Transfer Date    0\n",
              "dtype: int64"
            ]
          },
          "metadata": {
            "tags": []
          },
          "execution_count": 39
        }
      ]
    },
    {
      "cell_type": "code",
      "metadata": {
        "id": "tvErZ4GO07Ra",
        "colab_type": "code",
        "colab": {
          "base_uri": "https://localhost:8080/",
          "height": 127
        },
        "outputId": "1a8b1ec5-2fe8-4877-c303-a9781989e5da"
      },
      "source": [
        "chess_transfers.isnull().any()"
      ],
      "execution_count": 40,
      "outputs": [
        {
          "output_type": "execute_result",
          "data": {
            "text/plain": [
              "url              False\n",
              "ID               False\n",
              "Federation       False\n",
              "Form.Fed          True\n",
              "Transfer Date    False\n",
              "dtype: bool"
            ]
          },
          "metadata": {
            "tags": []
          },
          "execution_count": 40
        }
      ]
    },
    {
      "cell_type": "code",
      "metadata": {
        "id": "-ugQMtiA1-4V",
        "colab_type": "code",
        "colab": {
          "base_uri": "https://localhost:8080/",
          "height": 332
        },
        "outputId": "aba09dc6-0556-440d-99a3-4280f05e79fc"
      },
      "source": [
        "chess_transfers[chess_transfers['Form.Fed'].isnull()]"
      ],
      "execution_count": 41,
      "outputs": [
        {
          "output_type": "execute_result",
          "data": {
            "text/html": [
              "<div>\n",
              "<style scoped>\n",
              "    .dataframe tbody tr th:only-of-type {\n",
              "        vertical-align: middle;\n",
              "    }\n",
              "\n",
              "    .dataframe tbody tr th {\n",
              "        vertical-align: top;\n",
              "    }\n",
              "\n",
              "    .dataframe thead th {\n",
              "        text-align: right;\n",
              "    }\n",
              "</style>\n",
              "<table border=\"1\" class=\"dataframe\">\n",
              "  <thead>\n",
              "    <tr style=\"text-align: right;\">\n",
              "      <th></th>\n",
              "      <th>url</th>\n",
              "      <th>ID</th>\n",
              "      <th>Federation</th>\n",
              "      <th>Form.Fed</th>\n",
              "      <th>Transfer Date</th>\n",
              "    </tr>\n",
              "  </thead>\n",
              "  <tbody>\n",
              "    <tr>\n",
              "      <th>179</th>\n",
              "      <td>https://ratings.fide.com/fedchange.phtml?year=...</td>\n",
              "      <td>5300363</td>\n",
              "      <td>USA</td>\n",
              "      <td>NaN</td>\n",
              "      <td>4/14/04</td>\n",
              "    </tr>\n",
              "    <tr>\n",
              "      <th>199</th>\n",
              "      <td>https://ratings.fide.com/fedchange.phtml?year=...</td>\n",
              "      <td>5300363</td>\n",
              "      <td>USA</td>\n",
              "      <td>NaN</td>\n",
              "      <td>4/14/04</td>\n",
              "    </tr>\n",
              "    <tr>\n",
              "      <th>380</th>\n",
              "      <td>https://ratings.fide.com/fedchange.phtml?year=...</td>\n",
              "      <td>13401033</td>\n",
              "      <td>AZE</td>\n",
              "      <td>NaN</td>\n",
              "      <td>9/1/08</td>\n",
              "    </tr>\n",
              "    <tr>\n",
              "      <th>381</th>\n",
              "      <td>https://ratings.fide.com/fedchange.phtml?year=...</td>\n",
              "      <td>13401033</td>\n",
              "      <td>AZE</td>\n",
              "      <td>NaN</td>\n",
              "      <td>9/1/08</td>\n",
              "    </tr>\n",
              "    <tr>\n",
              "      <th>382</th>\n",
              "      <td>https://ratings.fide.com/fedchange.phtml?year=...</td>\n",
              "      <td>13401033</td>\n",
              "      <td>AZE</td>\n",
              "      <td>NaN</td>\n",
              "      <td>9/1/08</td>\n",
              "    </tr>\n",
              "    <tr>\n",
              "      <th>509</th>\n",
              "      <td>https://ratings.fide.com/fedchange.phtml?year=...</td>\n",
              "      <td>14112035</td>\n",
              "      <td>ARM</td>\n",
              "      <td>NaN</td>\n",
              "      <td>12/26/11</td>\n",
              "    </tr>\n",
              "    <tr>\n",
              "      <th>522</th>\n",
              "      <td>https://ratings.fide.com/fedchange.phtml?year=...</td>\n",
              "      <td>5206901</td>\n",
              "      <td>CAN</td>\n",
              "      <td>NaN</td>\n",
              "      <td>8/23/11</td>\n",
              "    </tr>\n",
              "    <tr>\n",
              "      <th>537</th>\n",
              "      <td>https://ratings.fide.com/fedchange.phtml?year=...</td>\n",
              "      <td>14112035</td>\n",
              "      <td>ARM</td>\n",
              "      <td>NaN</td>\n",
              "      <td>12/26/11</td>\n",
              "    </tr>\n",
              "    <tr>\n",
              "      <th>550</th>\n",
              "      <td>https://ratings.fide.com/fedchange.phtml?year=...</td>\n",
              "      <td>5206901</td>\n",
              "      <td>CAN</td>\n",
              "      <td>NaN</td>\n",
              "      <td>8/23/11</td>\n",
              "    </tr>\n",
              "  </tbody>\n",
              "</table>\n",
              "</div>"
            ],
            "text/plain": [
              "                                                   url  ...  Transfer Date\n",
              "179  https://ratings.fide.com/fedchange.phtml?year=...  ...        4/14/04\n",
              "199  https://ratings.fide.com/fedchange.phtml?year=...  ...        4/14/04\n",
              "380  https://ratings.fide.com/fedchange.phtml?year=...  ...         9/1/08\n",
              "381  https://ratings.fide.com/fedchange.phtml?year=...  ...         9/1/08\n",
              "382  https://ratings.fide.com/fedchange.phtml?year=...  ...         9/1/08\n",
              "509  https://ratings.fide.com/fedchange.phtml?year=...  ...       12/26/11\n",
              "522  https://ratings.fide.com/fedchange.phtml?year=...  ...        8/23/11\n",
              "537  https://ratings.fide.com/fedchange.phtml?year=...  ...       12/26/11\n",
              "550  https://ratings.fide.com/fedchange.phtml?year=...  ...        8/23/11\n",
              "\n",
              "[9 rows x 5 columns]"
            ]
          },
          "metadata": {
            "tags": []
          },
          "execution_count": 41
        }
      ]
    },
    {
      "cell_type": "code",
      "metadata": {
        "id": "KvVR9azq4r_R",
        "colab_type": "code",
        "colab": {
          "base_uri": "https://localhost:8080/",
          "height": 35
        },
        "outputId": "38684f4f-0332-4023-f00c-f54d4435dc03"
      },
      "source": [
        "clean_chess_transfers = chess_transfers.dropna()\n",
        "clean_chess_transfers.shape"
      ],
      "execution_count": 42,
      "outputs": [
        {
          "output_type": "execute_result",
          "data": {
            "text/plain": [
              "(923, 5)"
            ]
          },
          "metadata": {
            "tags": []
          },
          "execution_count": 42
        }
      ]
    },
    {
      "cell_type": "code",
      "metadata": {
        "id": "3Se10dfw5SZY",
        "colab_type": "code",
        "colab": {
          "base_uri": "https://localhost:8080/",
          "height": 206
        },
        "outputId": "01110e4c-8d04-4312-947b-4902c6f0c975"
      },
      "source": [
        "chess_trans_usa = clean_chess_transfers[clean_chess_transfers['Federation'] == 'USA']\n",
        "chess_trans_usa.sample(5)"
      ],
      "execution_count": 46,
      "outputs": [
        {
          "output_type": "execute_result",
          "data": {
            "text/html": [
              "<div>\n",
              "<style scoped>\n",
              "    .dataframe tbody tr th:only-of-type {\n",
              "        vertical-align: middle;\n",
              "    }\n",
              "\n",
              "    .dataframe tbody tr th {\n",
              "        vertical-align: top;\n",
              "    }\n",
              "\n",
              "    .dataframe thead th {\n",
              "        text-align: right;\n",
              "    }\n",
              "</style>\n",
              "<table border=\"1\" class=\"dataframe\">\n",
              "  <thead>\n",
              "    <tr style=\"text-align: right;\">\n",
              "      <th></th>\n",
              "      <th>url</th>\n",
              "      <th>ID</th>\n",
              "      <th>Federation</th>\n",
              "      <th>Form.Fed</th>\n",
              "      <th>Transfer Date</th>\n",
              "    </tr>\n",
              "  </thead>\n",
              "  <tbody>\n",
              "    <tr>\n",
              "      <th>148</th>\n",
              "      <td>https://ratings.fide.com/fedchange.phtml?year=...</td>\n",
              "      <td>13300512</td>\n",
              "      <td>USA</td>\n",
              "      <td>ARM</td>\n",
              "      <td>2/19/03</td>\n",
              "    </tr>\n",
              "    <tr>\n",
              "      <th>79</th>\n",
              "      <td>https://ratings.fide.com/fedchange.phtml?year=...</td>\n",
              "      <td>4121138</td>\n",
              "      <td>USA</td>\n",
              "      <td>RUS</td>\n",
              "      <td>3/5/02</td>\n",
              "    </tr>\n",
              "    <tr>\n",
              "      <th>178</th>\n",
              "      <td>https://ratings.fide.com/fedchange.phtml?year=...</td>\n",
              "      <td>3501841</td>\n",
              "      <td>USA</td>\n",
              "      <td>CUB</td>\n",
              "      <td>3/17/04</td>\n",
              "    </tr>\n",
              "    <tr>\n",
              "      <th>552</th>\n",
              "      <td>https://ratings.fide.com/fedchange.phtml?year=...</td>\n",
              "      <td>11602252</td>\n",
              "      <td>USA</td>\n",
              "      <td>LAT</td>\n",
              "      <td>12/9/11</td>\n",
              "    </tr>\n",
              "    <tr>\n",
              "      <th>96</th>\n",
              "      <td>https://ratings.fide.com/fedchange.phtml?year=...</td>\n",
              "      <td>4105745</td>\n",
              "      <td>USA</td>\n",
              "      <td>RUS</td>\n",
              "      <td>6/7/02</td>\n",
              "    </tr>\n",
              "  </tbody>\n",
              "</table>\n",
              "</div>"
            ],
            "text/plain": [
              "                                                   url  ...  Transfer Date\n",
              "148  https://ratings.fide.com/fedchange.phtml?year=...  ...        2/19/03\n",
              "79   https://ratings.fide.com/fedchange.phtml?year=...  ...         3/5/02\n",
              "178  https://ratings.fide.com/fedchange.phtml?year=...  ...        3/17/04\n",
              "552  https://ratings.fide.com/fedchange.phtml?year=...  ...        12/9/11\n",
              "96   https://ratings.fide.com/fedchange.phtml?year=...  ...         6/7/02\n",
              "\n",
              "[5 rows x 5 columns]"
            ]
          },
          "metadata": {
            "tags": []
          },
          "execution_count": 46
        }
      ]
    },
    {
      "cell_type": "code",
      "metadata": {
        "id": "RyL9c6Ro55sj",
        "colab_type": "code",
        "colab": {}
      },
      "source": [
        "# Make df with countries and their values of USA transfers\n",
        "\n",
        "top_trans_crosstab = pd.crosstab(chess_trans_usa['Form.Fed'], chess_trans_usa['Federation'])"
      ],
      "execution_count": 0,
      "outputs": []
    },
    {
      "cell_type": "code",
      "metadata": {
        "id": "lNmo8t7Z6djG",
        "colab_type": "code",
        "colab": {}
      },
      "source": [
        "# Filter out countries with 1 transfer\n",
        "top_trans_crosstab = top_trans_crosstab[top_trans_crosstab['USA'] > 1]\n",
        "top_trans_crosstab.sort_values(by =['USA'], ascending = False, inplace= True)"
      ],
      "execution_count": 0,
      "outputs": []
    },
    {
      "cell_type": "code",
      "metadata": {
        "id": "usSuaWW2-huo",
        "colab_type": "code",
        "colab": {}
      },
      "source": [
        "top_trans_crosstab.reset_index(inplace=True)"
      ],
      "execution_count": 0,
      "outputs": []
    },
    {
      "cell_type": "code",
      "metadata": {
        "id": "VM0Zss3w_V0Q",
        "colab_type": "code",
        "colab": {}
      },
      "source": [
        "top_trans_crosstab.sort_values(by=['USA'], inplace = True)"
      ],
      "execution_count": 0,
      "outputs": []
    },
    {
      "cell_type": "code",
      "metadata": {
        "id": "3sfhwLCf_leL",
        "colab_type": "code",
        "colab": {
          "base_uri": "https://localhost:8080/",
          "height": 109
        },
        "outputId": "76f32f45-4172-4278-e44f-e8cd084e2647"
      },
      "source": [
        "countries = {'COL': 'Columbia', 'BLR':'Belarus', 'IND':'India', 'ARM': 'Armenia', 'CUB': 'Cuba', 'RUS': 'Russia', 'PHI': 'Phillipines', 'GEO': 'Georgia', 'AZE': 'Azerbaijan', 'UKR': 'Ukraine'}\n",
        "count_needed = ['COL', 'IND', 'BLR', 'ARM', 'CUB', 'RUS', 'PHI', 'GEO', 'AZE', 'UKR']\n",
        "\n",
        "top_trans_crosstab_filtered = top_trans_crosstab[top_trans_crosstab['Form.Fed'].isin(count_needed)]\n",
        "top_trans_crosstab_filtered.replace(countries, inplace = True)"
      ],
      "execution_count": 151,
      "outputs": [
        {
          "output_type": "stream",
          "text": [
            "/usr/local/lib/python3.6/dist-packages/pandas/core/frame.py:4278: SettingWithCopyWarning: \n",
            "A value is trying to be set on a copy of a slice from a DataFrame\n",
            "\n",
            "See the caveats in the documentation: http://pandas.pydata.org/pandas-docs/stable/user_guide/indexing.html#returning-a-view-versus-a-copy\n",
            "  method=method,\n"
          ],
          "name": "stderr"
        }
      ]
    },
    {
      "cell_type": "code",
      "metadata": {
        "id": "_hVCsnx_8giE",
        "colab_type": "code",
        "colab": {
          "base_uri": "https://localhost:8080/",
          "height": 411
        },
        "outputId": "95189f4d-c526-40f9-8a0b-e308bda20bb5"
      },
      "source": [
        "plt.style.use('fivethirtyeight')\n",
        "fig, ax = plt.subplots(figsize = (12,5))\n",
        "\n",
        "# Figure background\n",
        "fig.patch.set(facecolor = \"white\")\n",
        "\n",
        "# Set bars\n",
        "ax.barh(y = top_trans_crosstab_filtered['Form.Fed'], width = top_trans_crosstab_filtered['USA'], color ='#f95cca', align= 'center')\n",
        "\n",
        "# Axis background color\n",
        "ax.set(facecolor = 'white')\n",
        "\n",
        "# Set title\n",
        "ax.set_title('Countries with highest number of transfers to the U.S.', fontsize = 12, fontweight = 'bold', x = 0,y = 1.25)\n",
        "\n",
        "ax.xaxis.tick_top();\n",
        "ax.set_xlabel('Number of Transfers', fontsize = 10, fontweight = 'bold');\n",
        "ax.xaxis.set_label_position('top')\n",
        "ax.set_xticks(range(0,14,2));\n",
        "ax.set_xticklabels(range(0,14,2), color = 'gray');"
      ],
      "execution_count": 174,
      "outputs": [
        {
          "output_type": "display_data",
          "data": {
            "image/png": "[encoded data removed]",
            "text/plain": [
              "<Figure size 864x360 with 1 Axes>"
            ]
          },
          "metadata": {
            "tags": []
          }
        }
      ]
    },
    {
      "cell_type": "markdown",
      "metadata": {
        "id": "0wSrBzmJyWaV",
        "colab_type": "text"
      },
      "source": [
        "# STRETCH OPTIONS\n",
        "\n",
        "### 1) Reproduce one of the following using the matplotlib or seaborn libraries:\n",
        "\n",
        "- [thanksgiving-2015](https://fivethirtyeight.com/features/heres-what-your-part-of-america-eats-on-thanksgiving/) \n",
        "- [candy-power-ranking](https://fivethirtyeight.com/features/the-ultimate-halloween-candy-power-ranking/) \n",
        "- or another example of your choice!\n",
        "\n",
        "### 2) Make more charts!\n",
        "\n",
        "Choose a chart you want to make, from [Visual Vocabulary - Vega Edition](http://ft.com/vocabulary).\n",
        "\n",
        "Find the chart in an example gallery of a Python data visualization library:\n",
        "- [Seaborn](http://seaborn.pydata.org/examples/index.html)\n",
        "- [Altair](https://altair-viz.github.io/gallery/index.html)\n",
        "- [Matplotlib](https://matplotlib.org/gallery.html)\n",
        "- [Pandas](https://pandas.pydata.org/pandas-docs/stable/visualization.html)\n",
        "\n",
        "Reproduce the chart. [Optionally, try the \"Ben Franklin Method.\"](https://docs.google.com/document/d/1ubOw9B3Hfip27hF2ZFnW3a3z9xAgrUDRReOEo-FHCVs/edit) If you want, experiment and make changes.\n",
        "\n",
        "Take notes. Consider sharing your work with your cohort!"
      ]
    },
    {
      "cell_type": "code",
      "metadata": {
        "id": "WzR5FQRCzRlT",
        "colab_type": "code",
        "colab": {}
      },
      "source": [
        "# Using the Candy Power Ranking data-set\n",
        "# https://github.com/fivethirtyeight/data/tree/master/candy-power-ranking\n",
        "url = 'https://raw.githubusercontent.com/fivethirtyeight/data/master/candy-power-ranking/candy-data.csv'"
      ],
      "execution_count": 0,
      "outputs": []
    }
  ]
}