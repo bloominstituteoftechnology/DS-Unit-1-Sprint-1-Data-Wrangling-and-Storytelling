{
  "nbformat": 4,
  "nbformat_minor": 0,
  "metadata": {
    "colab": {
      "name": "Copy of LS_DS_114_Make_Explanatory_Visualizations_Assignment.ipynb",
      "provenance": [],
      "collapsed_sections": [],
      "include_colab_link": true
    },
    "language_info": {
      "codemirror_mode": {
        "name": "ipython",
        "version": 3
      },
      "file_extension": ".py",
      "mimetype": "text/x-python",
      "name": "python",
      "nbconvert_exporter": "python",
      "pygments_lexer": "ipython3",
      "version": "3.7.1"
    },
    "kernelspec": {
      "display_name": "Python 3",
      "language": "python",
      "name": "python3"
    }
  },
  "cells": [
    {
      "cell_type": "markdown",
      "metadata": {
        "id": "view-in-github",
        "colab_type": "text"
      },
      "source": [
        "<a href=\"https://colab.research.google.com/github/mkhalil7625/DS-Unit-1-Sprint-1-Data-Wrangling-and-Storytelling/blob/master/module4-make-explanatory-visualizations/LS_DS_114_Make_Explanatory_Visualizations_Assignment.ipynb\" target=\"_parent\"><img src=\"https://colab.research.google.com/assets/colab-badge.svg\" alt=\"Open In Colab\"/></a>"
      ]
    },
    {
      "cell_type": "markdown",
      "metadata": {
        "colab_type": "text",
        "id": "NMEswXWh9mqw"
      },
      "source": [
        "Lambda School Data Science\n",
        "\n",
        "*Unit 1, Sprint 1, Module 4*\n",
        "\n",
        "---\n",
        "\n",
        "# ASSIGNMENT\n",
        "\n",
        "### 1) Replicate the lesson code. I recommend that you [do not copy-paste](https://docs.google.com/document/d/1ubOw9B3Hfip27hF2ZFnW3a3z9xAgrUDRReOEo-FHCVs/edit).\n",
        "\n",
        "Get caught up to where we got our example in class and then try and take things further. How close to \"pixel perfect\" can you make the lecture graph?\n",
        "\n",
        "Once you have something that you're proud of, share your graph in the cohort channel and move on to the second exercise.\n",
        "\n",
        "### 2) Reproduce another example from [FiveThityEight's shared data repository](https://data.fivethirtyeight.com/).\n",
        "\n",
        "**WARNING**: There are a lot of very custom graphs and tables at the above link. I **highly** recommend not trying to reproduce any that look like a table of values or something really different from the graph types that we are already familiar with. Search through the posts until you find a graph type that you are more or less familiar with: histogram, bar chart, stacked bar chart, line chart, [seaborn relplot](https://seaborn.pydata.org/generated/seaborn.relplot.html), etc. Recreating some of the graphics that 538 uses would be a lot easier in Adobe photoshop/illustrator than with matplotlib. \n",
        "\n",
        "- If you put in some time to find a graph that looks \"easy\" to replicate you'll probably find that it's not as easy as you thought. \n",
        "\n",
        "- If you start with a graph that looks hard to replicate you'll probably run up against a brick wall and be disappointed with your afternoon.\n",
        "\n",
        "\n",
        "\n",
        "\n",
        "\n",
        "\n",
        "\n",
        "\n",
        "\n",
        "\n"
      ]
    },
    {
      "cell_type": "code",
      "metadata": {
        "id": "7SY1ZHawyZvz",
        "colab_type": "code",
        "outputId": "43d15b17-25f0-49bd-d2f0-d623ffdfd1d9",
        "colab": {
          "base_uri": "https://localhost:8080/",
          "height": 683
        }
      },
      "source": [
        "# Your Work Here\n",
        "import pandas as pd\n",
        "import numpy as np\n",
        "import matplotlib.pyplot as plt\n",
        "import seaborn as sns\n",
        "url = 'https://raw.githubusercontent.com/fivethirtyeight/data/master/san-andreas/earthquake_data.csv'\n",
        "earthquake= pd.read_csv(url)\n",
        "earthquake.head()"
      ],
      "execution_count": 1,
      "outputs": [
        {
          "output_type": "stream",
          "text": [
            "/usr/local/lib/python3.6/dist-packages/statsmodels/tools/_testing.py:19: FutureWarning: pandas.util.testing is deprecated. Use the functions in the public API at pandas.testing instead.\n",
            "  import pandas.util.testing as tm\n"
          ],
          "name": "stderr"
        },
        {
          "output_type": "execute_result",
          "data": {
            "text/html": [
              "<div>\n",
              "<style scoped>\n",
              "    .dataframe tbody tr th:only-of-type {\n",
              "        vertical-align: middle;\n",
              "    }\n",
              "\n",
              "    .dataframe tbody tr th {\n",
              "        vertical-align: top;\n",
              "    }\n",
              "\n",
              "    .dataframe thead th {\n",
              "        text-align: right;\n",
              "    }\n",
              "</style>\n",
              "<table border=\"1\" class=\"dataframe\">\n",
              "  <thead>\n",
              "    <tr style=\"text-align: right;\">\n",
              "      <th></th>\n",
              "      <th>In general, how worried are you about earthquakes?</th>\n",
              "      <th>How worried are you about the Big One, a massive, catastrophic earthquake?</th>\n",
              "      <th>Do you think the \"Big One\" will occur in your lifetime?</th>\n",
              "      <th>Have you ever experienced an earthquake?</th>\n",
              "      <th>Have you or anyone in your household taken any precautions for an earthquake (packed an earthquake survival kit, prepared an evacuation plan, etc.)?</th>\n",
              "      <th>How familiar are you with the San Andreas Fault line?</th>\n",
              "      <th>How familiar are you with the Yellowstone Supervolcano?</th>\n",
              "      <th>Age</th>\n",
              "      <th>What is your gender?</th>\n",
              "      <th>How much total combined money did all members of your HOUSEHOLD earn last year?</th>\n",
              "      <th>US Region</th>\n",
              "    </tr>\n",
              "  </thead>\n",
              "  <tbody>\n",
              "    <tr>\n",
              "      <th>0</th>\n",
              "      <td>Not at all worried</td>\n",
              "      <td>Not so worried</td>\n",
              "      <td>No</td>\n",
              "      <td>Yes, one or more minor ones</td>\n",
              "      <td>No</td>\n",
              "      <td>Somewhat familiar</td>\n",
              "      <td>Not so familiar</td>\n",
              "      <td>18 - 29</td>\n",
              "      <td>Male</td>\n",
              "      <td>Prefer not to answer</td>\n",
              "      <td>New England</td>\n",
              "    </tr>\n",
              "    <tr>\n",
              "      <th>1</th>\n",
              "      <td>Somewhat worried</td>\n",
              "      <td>Very worried</td>\n",
              "      <td>No</td>\n",
              "      <td>Yes, one or more minor ones</td>\n",
              "      <td>No</td>\n",
              "      <td>Not at all familiar</td>\n",
              "      <td>Not at all familiar</td>\n",
              "      <td>18 - 29</td>\n",
              "      <td>Male</td>\n",
              "      <td>$75,000 to $99,999</td>\n",
              "      <td>East North Central</td>\n",
              "    </tr>\n",
              "    <tr>\n",
              "      <th>2</th>\n",
              "      <td>Not so worried</td>\n",
              "      <td>Somewhat worried</td>\n",
              "      <td>No</td>\n",
              "      <td>Yes, one or more minor ones</td>\n",
              "      <td>No</td>\n",
              "      <td>Very familiar</td>\n",
              "      <td>Somewhat familiar</td>\n",
              "      <td>18 - 29</td>\n",
              "      <td>Male</td>\n",
              "      <td>$10,000 to $24,999</td>\n",
              "      <td>Pacific</td>\n",
              "    </tr>\n",
              "    <tr>\n",
              "      <th>3</th>\n",
              "      <td>Not so worried</td>\n",
              "      <td>Not so worried</td>\n",
              "      <td>No</td>\n",
              "      <td>Yes, one or more minor ones</td>\n",
              "      <td>No</td>\n",
              "      <td>Very familiar</td>\n",
              "      <td>Not so familiar</td>\n",
              "      <td>18 - 29</td>\n",
              "      <td>Male</td>\n",
              "      <td>$25,000 to $49,999</td>\n",
              "      <td>West South Central</td>\n",
              "    </tr>\n",
              "    <tr>\n",
              "      <th>4</th>\n",
              "      <td>Not so worried</td>\n",
              "      <td>Not so worried</td>\n",
              "      <td>Yes</td>\n",
              "      <td>Yes, one or more minor ones</td>\n",
              "      <td>No</td>\n",
              "      <td>Somewhat familiar</td>\n",
              "      <td>Extremely familiar</td>\n",
              "      <td>18 - 29</td>\n",
              "      <td>Male</td>\n",
              "      <td>$200,000 and up</td>\n",
              "      <td>Middle Atlantic</td>\n",
              "    </tr>\n",
              "  </tbody>\n",
              "</table>\n",
              "</div>"
            ],
            "text/plain": [
              "  In general, how worried are you about earthquakes?  ...           US Region\n",
              "0                                 Not at all worried  ...         New England\n",
              "1                                   Somewhat worried  ...  East North Central\n",
              "2                                     Not so worried  ...             Pacific\n",
              "3                                     Not so worried  ...  West South Central\n",
              "4                                     Not so worried  ...     Middle Atlantic\n",
              "\n",
              "[5 rows x 11 columns]"
            ]
          },
          "metadata": {
            "tags": []
          },
          "execution_count": 1
        }
      ]
    },
    {
      "cell_type": "code",
      "metadata": {
        "id": "ZSqjsUA9BBj9",
        "colab_type": "code",
        "outputId": "73969b4d-bb9a-4a57-b379-04a890176c56",
        "colab": {
          "base_uri": "https://localhost:8080/",
          "height": 224
        }
      },
      "source": [
        "earthquake.columns"
      ],
      "execution_count": 2,
      "outputs": [
        {
          "output_type": "execute_result",
          "data": {
            "text/plain": [
              "Index(['In general, how worried are you about earthquakes?',\n",
              "       'How worried are you about the Big One, a massive, catastrophic earthquake?',\n",
              "       'Do you think the \"Big One\" will occur in your lifetime?',\n",
              "       'Have you ever experienced an earthquake?',\n",
              "       'Have you or anyone in your household taken any precautions for an earthquake (packed an earthquake survival kit, prepared an evacuation plan, etc.)?',\n",
              "       'How familiar are you with the San Andreas Fault line?',\n",
              "       'How familiar are you with the Yellowstone Supervolcano?', 'Age',\n",
              "       'What is your gender?',\n",
              "       'How much total combined money did all members of your HOUSEHOLD earn last year?',\n",
              "       'US Region'],\n",
              "      dtype='object')"
            ]
          },
          "metadata": {
            "tags": []
          },
          "execution_count": 2
        }
      ]
    },
    {
      "cell_type": "code",
      "metadata": {
        "id": "3yyyxD-WBOAx",
        "colab_type": "code",
        "outputId": "678b7ce3-d85d-44f2-e8ee-e033aae9d45d",
        "colab": {
          "base_uri": "https://localhost:8080/",
          "height": 34
        }
      },
      "source": [
        "earthquake.shape"
      ],
      "execution_count": 3,
      "outputs": [
        {
          "output_type": "execute_result",
          "data": {
            "text/plain": [
              "(1013, 11)"
            ]
          },
          "metadata": {
            "tags": []
          },
          "execution_count": 3
        }
      ]
    },
    {
      "cell_type": "code",
      "metadata": {
        "id": "9IQQ0S81BOJu",
        "colab_type": "code",
        "outputId": "bbdc3498-7e84-424e-9e70-07c6d6531308",
        "colab": {
          "base_uri": "https://localhost:8080/",
          "height": 204
        }
      },
      "source": [
        "bigone = earthquake['How worried are you about the Big One, a massive, catastrophic earthquake?'].value_counts(normalize = True).reset_index()\n",
        "bigone"
      ],
      "execution_count": 4,
      "outputs": [
        {
          "output_type": "execute_result",
          "data": {
            "text/html": [
              "<div>\n",
              "<style scoped>\n",
              "    .dataframe tbody tr th:only-of-type {\n",
              "        vertical-align: middle;\n",
              "    }\n",
              "\n",
              "    .dataframe tbody tr th {\n",
              "        vertical-align: top;\n",
              "    }\n",
              "\n",
              "    .dataframe thead th {\n",
              "        text-align: right;\n",
              "    }\n",
              "</style>\n",
              "<table border=\"1\" class=\"dataframe\">\n",
              "  <thead>\n",
              "    <tr style=\"text-align: right;\">\n",
              "      <th></th>\n",
              "      <th>index</th>\n",
              "      <th>How worried are you about the Big One, a massive, catastrophic earthquake?</th>\n",
              "    </tr>\n",
              "  </thead>\n",
              "  <tbody>\n",
              "    <tr>\n",
              "      <th>0</th>\n",
              "      <td>Not at all worried</td>\n",
              "      <td>0.329714</td>\n",
              "    </tr>\n",
              "    <tr>\n",
              "      <th>1</th>\n",
              "      <td>Not so worried</td>\n",
              "      <td>0.306022</td>\n",
              "    </tr>\n",
              "    <tr>\n",
              "      <th>2</th>\n",
              "      <td>Somewhat worried</td>\n",
              "      <td>0.223100</td>\n",
              "    </tr>\n",
              "    <tr>\n",
              "      <th>3</th>\n",
              "      <td>Very worried</td>\n",
              "      <td>0.074038</td>\n",
              "    </tr>\n",
              "    <tr>\n",
              "      <th>4</th>\n",
              "      <td>Extremely worried</td>\n",
              "      <td>0.067127</td>\n",
              "    </tr>\n",
              "  </tbody>\n",
              "</table>\n",
              "</div>"
            ],
            "text/plain": [
              "                index  How worried are you about the Big One, a massive, catastrophic earthquake?\n",
              "0  Not at all worried                                           0.329714                         \n",
              "1      Not so worried                                           0.306022                         \n",
              "2    Somewhat worried                                           0.223100                         \n",
              "3        Very worried                                           0.074038                         \n",
              "4   Extremely worried                                           0.067127                         "
            ]
          },
          "metadata": {
            "tags": []
          },
          "execution_count": 4
        }
      ]
    },
    {
      "cell_type": "code",
      "metadata": {
        "id": "0Il6AONvBOTQ",
        "colab_type": "code",
        "colab": {}
      },
      "source": [
        "bigone.columns = ['index','percent']\n",
        "bigone = bigone.set_index('index')"
      ],
      "execution_count": 0,
      "outputs": []
    },
    {
      "cell_type": "code",
      "metadata": {
        "id": "YDIuE9DrCvxT",
        "colab_type": "code",
        "colab": {}
      },
      "source": [
        "bigone['percent']= bigone['percent']*100\n",
        "bigone['percent'] = bigone['percent'].round(decimals = 0)"
      ],
      "execution_count": 0,
      "outputs": []
    },
    {
      "cell_type": "code",
      "metadata": {
        "id": "8ZR1yn2BD7wE",
        "colab_type": "code",
        "outputId": "80b09970-6408-4363-ae5a-8a23f6fe50eb",
        "colab": {
          "base_uri": "https://localhost:8080/",
          "height": 235
        }
      },
      "source": [
        "bigone['percent'] = bigone['percent'].astype(int)\n",
        "\n",
        "bigone"
      ],
      "execution_count": 7,
      "outputs": [
        {
          "output_type": "execute_result",
          "data": {
            "text/html": [
              "<div>\n",
              "<style scoped>\n",
              "    .dataframe tbody tr th:only-of-type {\n",
              "        vertical-align: middle;\n",
              "    }\n",
              "\n",
              "    .dataframe tbody tr th {\n",
              "        vertical-align: top;\n",
              "    }\n",
              "\n",
              "    .dataframe thead th {\n",
              "        text-align: right;\n",
              "    }\n",
              "</style>\n",
              "<table border=\"1\" class=\"dataframe\">\n",
              "  <thead>\n",
              "    <tr style=\"text-align: right;\">\n",
              "      <th></th>\n",
              "      <th>percent</th>\n",
              "    </tr>\n",
              "    <tr>\n",
              "      <th>index</th>\n",
              "      <th></th>\n",
              "    </tr>\n",
              "  </thead>\n",
              "  <tbody>\n",
              "    <tr>\n",
              "      <th>Not at all worried</th>\n",
              "      <td>33</td>\n",
              "    </tr>\n",
              "    <tr>\n",
              "      <th>Not so worried</th>\n",
              "      <td>31</td>\n",
              "    </tr>\n",
              "    <tr>\n",
              "      <th>Somewhat worried</th>\n",
              "      <td>22</td>\n",
              "    </tr>\n",
              "    <tr>\n",
              "      <th>Very worried</th>\n",
              "      <td>7</td>\n",
              "    </tr>\n",
              "    <tr>\n",
              "      <th>Extremely worried</th>\n",
              "      <td>7</td>\n",
              "    </tr>\n",
              "  </tbody>\n",
              "</table>\n",
              "</div>"
            ],
            "text/plain": [
              "                    percent\n",
              "index                      \n",
              "Not at all worried       33\n",
              "Not so worried           31\n",
              "Somewhat worried         22\n",
              "Very worried              7\n",
              "Extremely worried         7"
            ]
          },
          "metadata": {
            "tags": []
          },
          "execution_count": 7
        }
      ]
    },
    {
      "cell_type": "code",
      "metadata": {
        "id": "D0VXIC19FEWV",
        "colab_type": "code",
        "colab": {}
      },
      "source": [
        "\n",
        "plt.style.use('fivethirtyeight')\n"
      ],
      "execution_count": 0,
      "outputs": []
    },
    {
      "cell_type": "code",
      "metadata": {
        "id": "NwxcZLGMK8-N",
        "colab_type": "code",
        "outputId": "93bf1ce1-916b-4a9e-e675-8ccf7f2d56b6",
        "colab": {
          "base_uri": "https://localhost:8080/",
          "height": 216
        }
      },
      "source": [
        "from IPython.display import display, Image\n",
        "\n",
        "url = 'https://fivethirtyeight.com/wp-content/uploads/2015/05/hickey-datalab-sanandreas1.png'\n",
        "example = Image(url=url, width=400)\n",
        "\n",
        "display(example)"
      ],
      "execution_count": 9,
      "outputs": [
        {
          "output_type": "display_data",
          "data": {
            "text/html": [
              "<img src=\"https://fivethirtyeight.com/wp-content/uploads/2015/05/hickey-datalab-sanandreas1.png\" width=\"400\"/>"
            ],
            "text/plain": [
              "<IPython.core.display.Image object>"
            ]
          },
          "metadata": {
            "tags": []
          }
        }
      ]
    },
    {
      "cell_type": "code",
      "metadata": {
        "id": "qsC-7G28FElh",
        "colab_type": "code",
        "outputId": "f2d6bf16-05ad-41e5-a8af-9a22c8f9eaa4",
        "colab": {
          "base_uri": "https://localhost:8080/",
          "height": 228
        }
      },
      "source": [
        "bigone.plot(kind = 'barh',color='red', figsize=(5,3))\n"
      ],
      "execution_count": 10,
      "outputs": [
        {
          "output_type": "execute_result",
          "data": {
            "text/plain": [
              "<matplotlib.axes._subplots.AxesSubplot at 0x7f4098db3f98>"
            ]
          },
          "metadata": {
            "tags": []
          },
          "execution_count": 10
        },
        {
          "output_type": "display_data",
          "data": {
            "image/png": "[encoded data removed]",
            "text/plain": [
              "<Figure size 360x216 with 1 Axes>"
            ]
          },
          "metadata": {
            "tags": [],
            "needs_background": "light"
          }
        }
      ]
    },
    {
      "cell_type": "code",
      "metadata": {
        "id": "ZTzeTY1tqPDC",
        "colab_type": "code",
        "outputId": "20b8cb81-0b64-4315-a5a1-b2320a47ec26",
        "colab": {
          "base_uri": "https://localhost:8080/",
          "height": 216
        }
      },
      "source": [
        "display(example)"
      ],
      "execution_count": 11,
      "outputs": [
        {
          "output_type": "display_data",
          "data": {
            "text/html": [
              "<img src=\"https://fivethirtyeight.com/wp-content/uploads/2015/05/hickey-datalab-sanandreas1.png\" width=\"400\"/>"
            ],
            "text/plain": [
              "<IPython.core.display.Image object>"
            ]
          },
          "metadata": {
            "tags": []
          }
        }
      ]
    },
    {
      "cell_type": "code",
      "metadata": {
        "id": "MyzuCW2YFEnL",
        "colab_type": "code",
        "outputId": "62a47827-ec97-42b0-a6b1-fa4bc17034b0",
        "colab": {
          "base_uri": "https://localhost:8080/",
          "height": 240
        }
      },
      "source": [
        "fig, ax = plt.subplots(figsize=(5,2))\n",
        "#ax.invert_xaxis()\n",
        "#ax.yaxis.tick_right()\n",
        "#index = bigone['index'].tolist()\n",
        "#set the bars\n",
        "bars=ax.barh(y=bigone.index, width = bigone['percent'],height = 0.7, color = 'red')\n",
        "labels = bigone['percent'].tolist()\n",
        "value_format = \"{:}\"\n",
        "#to plot the values after the bars\n",
        "#stackoverflow, needs more updates\n",
        "def autolabel(ax,bars,text_format):\n",
        "\n",
        "    for bar in bars:\n",
        "      text = text_format.format(bar.get_width())\n",
        "      text_x = bar.get_width() + ax.get_ylim()[1]\n",
        "      text_y = bar.get_y() + bar.get_height() / 2\n",
        "      ax.text(text_x,text_y,text,va='center')\n",
        "\n",
        "\n",
        "#set the title\n",
        "ax.set_title(\"How Worried Are You About 'The Big One'?\",\n",
        "             fontsize=14,fontweight='bold',y=1.5, horizontalalignment = 'right')\n",
        "\n",
        "s=\"SURVEY DATES        NO. OF RESPONDENTS\"\n",
        "ax.text(-1,6,s,fontsize=14,verticalalignment='top', horizontalalignment = 'center')\n",
        "s2=\"MAY 26-27 2015         1,013 \"\n",
        "ax.text(-1,5,s2,fontsize=12,verticalalignment='top', horizontalalignment = 'right')\n",
        "\n",
        "# to change the fontsize of the yticklabels\n",
        "for tick in ax.get_yticklabels():\n",
        "  tick.set_fontsize(9)\n",
        "\n",
        "ax.grid(False)\n",
        "# ax.set_xmargin(-0.2)\n",
        "autolabel(ax,bars,value_format)\n",
        "plt.show()\n",
        "\n"
      ],
      "execution_count": 52,
      "outputs": [
        {
          "output_type": "display_data",
          "data": {
            "image/png": "[encoded data removed]",
            "text/plain": [
              "<Figure size 360x144 with 1 Axes>"
            ]
          },
          "metadata": {
            "tags": []
          }
        }
      ]
    },
    {
      "cell_type": "code",
      "metadata": {
        "id": "nJD_fsJfysXs",
        "colab_type": "code",
        "outputId": "8b6aff44-cc91-4134-84d2-0be8be89e1a3",
        "colab": {
          "base_uri": "https://localhost:8080/",
          "height": 34
        }
      },
      "source": [
        "labels"
      ],
      "execution_count": 13,
      "outputs": [
        {
          "output_type": "execute_result",
          "data": {
            "text/plain": [
              "[33, 31, 22, 7, 7]"
            ]
          },
          "metadata": {
            "tags": []
          },
          "execution_count": 13
        }
      ]
    },
    {
      "cell_type": "code",
      "metadata": {
        "id": "BAk6b8IuId0I",
        "colab_type": "code",
        "colab": {}
      },
      "source": [
        ""
      ],
      "execution_count": 0,
      "outputs": []
    },
    {
      "cell_type": "markdown",
      "metadata": {
        "id": "0wSrBzmJyWaV",
        "colab_type": "text"
      },
      "source": [
        "# STRETCH OPTIONS\n",
        "\n",
        "### 1) Reproduce one of the following using the matplotlib or seaborn libraries:\n",
        "\n",
        "- [thanksgiving-2015](https://fivethirtyeight.com/features/heres-what-your-part-of-america-eats-on-thanksgiving/) \n",
        "- [candy-power-ranking](https://fivethirtyeight.com/features/the-ultimate-halloween-candy-power-ranking/) \n",
        "- or another example of your choice!\n",
        "\n",
        "### 2) Make more charts!\n",
        "\n",
        "Choose a chart you want to make, from [Visual Vocabulary - Vega Edition](http://ft.com/vocabulary).\n",
        "\n",
        "Find the chart in an example gallery of a Python data visualization library:\n",
        "- [Seaborn](http://seaborn.pydata.org/examples/index.html)\n",
        "- [Altair](https://altair-viz.github.io/gallery/index.html)\n",
        "- [Matplotlib](https://matplotlib.org/gallery.html)\n",
        "- [Pandas](https://pandas.pydata.org/pandas-docs/stable/visualization.html)\n",
        "\n",
        "Reproduce the chart. [Optionally, try the \"Ben Franklin Method.\"](https://docs.google.com/document/d/1ubOw9B3Hfip27hF2ZFnW3a3z9xAgrUDRReOEo-FHCVs/edit) If you want, experiment and make changes.\n",
        "\n",
        "Take notes. Consider sharing your work with your cohort!"
      ]
    },
    {
      "cell_type": "code",
      "metadata": {
        "id": "IgfCit51TK4q",
        "colab_type": "code",
        "colab": {
          "base_uri": "https://localhost:8080/",
          "height": 675
        },
        "outputId": "58fad10d-ab90-4b65-b734-86ddcb2bb7a6"
      },
      "source": [
        "from IPython.display import display, Image\n",
        "\n",
        "url = 'https://fivethirtyeight.com/wp-content/uploads/2019/12/Mehta.Pollapalooza.1213.png?w=1150 2x'\n",
        "example = Image(url=url, width=400)\n",
        "\n",
        "display(example)"
      ],
      "execution_count": 53,
      "outputs": [
        {
          "output_type": "display_data",
          "data": {
            "text/html": [
              "<img src=\"https://fivethirtyeight.com/wp-content/uploads/2019/12/Mehta.Pollapalooza.1213.png?w=1150 2x\" width=\"400\"/>"
            ],
            "text/plain": [
              "<IPython.core.display.Image object>"
            ]
          },
          "metadata": {
            "tags": []
          }
        }
      ]
    }
  ]
}