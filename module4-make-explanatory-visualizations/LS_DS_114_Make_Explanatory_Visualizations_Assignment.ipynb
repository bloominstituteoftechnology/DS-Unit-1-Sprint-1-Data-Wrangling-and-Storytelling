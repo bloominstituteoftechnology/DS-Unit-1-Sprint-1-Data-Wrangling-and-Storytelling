{
  "nbformat": 4,
  "nbformat_minor": 0,
  "metadata": {
    "colab": {
      "name": "LS_DS_114_Make_Explanatory_Visualizations_Assignment.ipynb",
      "provenance": [],
      "collapsed_sections": []
    },
    "language_info": {
      "codemirror_mode": {
        "name": "ipython",
        "version": 3
      },
      "file_extension": ".py",
      "mimetype": "text/x-python",
      "name": "python",
      "nbconvert_exporter": "python",
      "pygments_lexer": "ipython3",
      "version": "3.7.1"
    },
    "kernelspec": {
      "display_name": "Python 3",
      "language": "python",
      "name": "python3"
    }
  },
  "cells": [
    {
      "cell_type": "markdown",
      "metadata": {
        "colab_type": "text",
        "id": "NMEswXWh9mqw"
      },
      "source": [
        "Lambda School Data Science\n",
        "\n",
        "*Unit 1, Sprint 1, Module 4*\n",
        "\n",
        "---\n",
        "\n",
        "# ASSIGNMENT\n",
        "\n",
        "### 1) Replicate the lesson code. I recommend that you [do not copy-paste](https://docs.google.com/document/d/1ubOw9B3Hfip27hF2ZFnW3a3z9xAgrUDRReOEo-FHCVs/edit).\n",
        "\n",
        "Get caught up to where we got our example in class and then try and take things further. How close to \"pixel perfect\" can you make the lecture graph?\n",
        "\n",
        "Once you have something that you're proud of, share your graph in the cohort channel and move on to the second exercise.\n",
        "\n",
        "### 2) Reproduce another example from [FiveThityEight's shared data repository](https://data.fivethirtyeight.com/).\n",
        "\n",
        "**WARNING**: There are a lot of very custom graphs and tables at the above link. I **highly** recommend not trying to reproduce any that look like a table of values or something really different from the graph types that we are already familiar with. Search through the posts until you find a graph type that you are more or less familiar with: histogram, bar chart, stacked bar chart, line chart, [seaborn relplot](https://seaborn.pydata.org/generated/seaborn.relplot.html), etc. Recreating some of the graphics that 538 uses would be a lot easier in Adobe photoshop/illustrator than with matplotlib. \n",
        "\n",
        "- If you put in some time to find a graph that looks \"easy\" to replicate you'll probably find that it's not as easy as you thought. \n",
        "\n",
        "- If you start with a graph that looks hard to replicate you'll probably run up against a brick wall and be disappointed with your afternoon.\n",
        "\n",
        "\n",
        "\n",
        "\n",
        "\n",
        "\n",
        "\n",
        "\n",
        "\n",
        "\n"
      ]
    },
    {
      "cell_type": "markdown",
      "metadata": {
        "id": "HJ98eIT1TKhJ",
        "colab_type": "text"
      },
      "source": [
        "# 1. Replicate the lesson code."
      ]
    },
    {
      "cell_type": "code",
      "metadata": {
        "id": "eiB9flBTUAzZ",
        "colab_type": "code",
        "colab": {}
      },
      "source": [
        "# Imoprt tools:\n",
        "import pandas as pd\n",
        "import numpy as np\n",
        "import matplotlib.pyplot as plt"
      ],
      "execution_count": 0,
      "outputs": []
    },
    {
      "cell_type": "code",
      "metadata": {
        "id": "7SY1ZHawyZvz",
        "colab_type": "code",
        "colab": {}
      },
      "source": [
        "# Titanic data set.\n",
        "url = 'https://raw.githubusercontent.com/austinlasseter/pandas_visualization/master/data/titanic.csv'"
      ],
      "execution_count": 0,
      "outputs": []
    },
    {
      "cell_type": "code",
      "metadata": {
        "id": "Q-cn7JA-TTw-",
        "colab_type": "code",
        "outputId": "386c4b5f-4246-4358-f6dc-c24f8068fb72",
        "colab": {
          "base_uri": "https://localhost:8080/",
          "height": 195
        }
      },
      "source": [
        "# use the titanic csv url to create a dataframe with pandas\n",
        "titanic_data = pd.read_csv(url)\n",
        "# check head of data\n",
        "titanic_data.head(5)"
      ],
      "execution_count": 3,
      "outputs": [
        {
          "output_type": "execute_result",
          "data": {
            "text/html": [
              "<div>\n",
              "<style scoped>\n",
              "    .dataframe tbody tr th:only-of-type {\n",
              "        vertical-align: middle;\n",
              "    }\n",
              "\n",
              "    .dataframe tbody tr th {\n",
              "        vertical-align: top;\n",
              "    }\n",
              "\n",
              "    .dataframe thead th {\n",
              "        text-align: right;\n",
              "    }\n",
              "</style>\n",
              "<table border=\"1\" class=\"dataframe\">\n",
              "  <thead>\n",
              "    <tr style=\"text-align: right;\">\n",
              "      <th></th>\n",
              "      <th>Survived</th>\n",
              "      <th>Pclass</th>\n",
              "      <th>Sex</th>\n",
              "      <th>Age</th>\n",
              "      <th>Fare</th>\n",
              "      <th>Embarked</th>\n",
              "    </tr>\n",
              "  </thead>\n",
              "  <tbody>\n",
              "    <tr>\n",
              "      <th>0</th>\n",
              "      <td>0</td>\n",
              "      <td>3</td>\n",
              "      <td>male</td>\n",
              "      <td>22.0</td>\n",
              "      <td>7.2500</td>\n",
              "      <td>Southampton</td>\n",
              "    </tr>\n",
              "    <tr>\n",
              "      <th>1</th>\n",
              "      <td>1</td>\n",
              "      <td>1</td>\n",
              "      <td>female</td>\n",
              "      <td>38.0</td>\n",
              "      <td>71.2833</td>\n",
              "      <td>Cherbourg</td>\n",
              "    </tr>\n",
              "    <tr>\n",
              "      <th>2</th>\n",
              "      <td>1</td>\n",
              "      <td>3</td>\n",
              "      <td>female</td>\n",
              "      <td>26.0</td>\n",
              "      <td>7.9250</td>\n",
              "      <td>Southampton</td>\n",
              "    </tr>\n",
              "    <tr>\n",
              "      <th>3</th>\n",
              "      <td>1</td>\n",
              "      <td>1</td>\n",
              "      <td>female</td>\n",
              "      <td>35.0</td>\n",
              "      <td>53.1000</td>\n",
              "      <td>Southampton</td>\n",
              "    </tr>\n",
              "    <tr>\n",
              "      <th>4</th>\n",
              "      <td>0</td>\n",
              "      <td>3</td>\n",
              "      <td>male</td>\n",
              "      <td>35.0</td>\n",
              "      <td>8.0500</td>\n",
              "      <td>Southampton</td>\n",
              "    </tr>\n",
              "  </tbody>\n",
              "</table>\n",
              "</div>"
            ],
            "text/plain": [
              "   Survived  Pclass     Sex   Age     Fare     Embarked\n",
              "0         0       3    male  22.0   7.2500  Southampton\n",
              "1         1       1  female  38.0  71.2833    Cherbourg\n",
              "2         1       3  female  26.0   7.9250  Southampton\n",
              "3         1       1  female  35.0  53.1000  Southampton\n",
              "4         0       3    male  35.0   8.0500  Southampton"
            ]
          },
          "metadata": {
            "tags": []
          },
          "execution_count": 3
        }
      ]
    },
    {
      "cell_type": "code",
      "metadata": {
        "id": "i0avD8GwTT21",
        "colab_type": "code",
        "colab": {}
      },
      "source": [
        "# map Survived and Pclass \n",
        "titanic_data['Mortality'] = titanic_data['Survived'].map({0:'Died',1:'Survived'})\n",
        "titanic_data['Class_Group'] = titanic_data['Pclass'].map({1:'First',2:'Second',3:'Third'})"
      ],
      "execution_count": 0,
      "outputs": []
    },
    {
      "cell_type": "code",
      "metadata": {
        "id": "MvfMWpnVTT6L",
        "colab_type": "code",
        "outputId": "77378791-48f0-4d95-c003-14e0552f5e56",
        "colab": {
          "base_uri": "https://localhost:8080/",
          "height": 195
        }
      },
      "source": [
        "# Check to see if values were mapped\n",
        "titanic_data.head()"
      ],
      "execution_count": 5,
      "outputs": [
        {
          "output_type": "execute_result",
          "data": {
            "text/html": [
              "<div>\n",
              "<style scoped>\n",
              "    .dataframe tbody tr th:only-of-type {\n",
              "        vertical-align: middle;\n",
              "    }\n",
              "\n",
              "    .dataframe tbody tr th {\n",
              "        vertical-align: top;\n",
              "    }\n",
              "\n",
              "    .dataframe thead th {\n",
              "        text-align: right;\n",
              "    }\n",
              "</style>\n",
              "<table border=\"1\" class=\"dataframe\">\n",
              "  <thead>\n",
              "    <tr style=\"text-align: right;\">\n",
              "      <th></th>\n",
              "      <th>Survived</th>\n",
              "      <th>Pclass</th>\n",
              "      <th>Sex</th>\n",
              "      <th>Age</th>\n",
              "      <th>Fare</th>\n",
              "      <th>Embarked</th>\n",
              "      <th>Mortality</th>\n",
              "      <th>Class_Group</th>\n",
              "    </tr>\n",
              "  </thead>\n",
              "  <tbody>\n",
              "    <tr>\n",
              "      <th>0</th>\n",
              "      <td>0</td>\n",
              "      <td>3</td>\n",
              "      <td>male</td>\n",
              "      <td>22.0</td>\n",
              "      <td>7.2500</td>\n",
              "      <td>Southampton</td>\n",
              "      <td>Died</td>\n",
              "      <td>Third</td>\n",
              "    </tr>\n",
              "    <tr>\n",
              "      <th>1</th>\n",
              "      <td>1</td>\n",
              "      <td>1</td>\n",
              "      <td>female</td>\n",
              "      <td>38.0</td>\n",
              "      <td>71.2833</td>\n",
              "      <td>Cherbourg</td>\n",
              "      <td>Survived</td>\n",
              "      <td>First</td>\n",
              "    </tr>\n",
              "    <tr>\n",
              "      <th>2</th>\n",
              "      <td>1</td>\n",
              "      <td>3</td>\n",
              "      <td>female</td>\n",
              "      <td>26.0</td>\n",
              "      <td>7.9250</td>\n",
              "      <td>Southampton</td>\n",
              "      <td>Survived</td>\n",
              "      <td>Third</td>\n",
              "    </tr>\n",
              "    <tr>\n",
              "      <th>3</th>\n",
              "      <td>1</td>\n",
              "      <td>1</td>\n",
              "      <td>female</td>\n",
              "      <td>35.0</td>\n",
              "      <td>53.1000</td>\n",
              "      <td>Southampton</td>\n",
              "      <td>Survived</td>\n",
              "      <td>First</td>\n",
              "    </tr>\n",
              "    <tr>\n",
              "      <th>4</th>\n",
              "      <td>0</td>\n",
              "      <td>3</td>\n",
              "      <td>male</td>\n",
              "      <td>35.0</td>\n",
              "      <td>8.0500</td>\n",
              "      <td>Southampton</td>\n",
              "      <td>Died</td>\n",
              "      <td>Third</td>\n",
              "    </tr>\n",
              "  </tbody>\n",
              "</table>\n",
              "</div>"
            ],
            "text/plain": [
              "   Survived  Pclass     Sex   Age     Fare     Embarked Mortality Class_Group\n",
              "0         0       3    male  22.0   7.2500  Southampton      Died       Third\n",
              "1         1       1  female  38.0  71.2833    Cherbourg  Survived       First\n",
              "2         1       3  female  26.0   7.9250  Southampton  Survived       Third\n",
              "3         1       1  female  35.0  53.1000  Southampton  Survived       First\n",
              "4         0       3    male  35.0   8.0500  Southampton      Died       Third"
            ]
          },
          "metadata": {
            "tags": []
          },
          "execution_count": 5
        }
      ]
    },
    {
      "cell_type": "code",
      "metadata": {
        "id": "G3FjcBptTT-n",
        "colab_type": "code",
        "outputId": "08aae20c-99ee-4a85-9916-0b1db927361f",
        "colab": {
          "base_uri": "https://localhost:8080/",
          "height": 265
        }
      },
      "source": [
        "# dislay a continuous variable on a histogram.\n",
        "titanic_data['Age'].plot(kind='hist');"
      ],
      "execution_count": 6,
      "outputs": [
        {
          "output_type": "display_data",
          "data": {
            "image/png": "[encoded data removed]",
            "text/plain": [
              "<Figure size 432x288 with 1 Axes>"
            ]
          },
          "metadata": {
            "tags": [],
            "needs_background": "light"
          }
        }
      ]
    },
    {
      "cell_type": "code",
      "metadata": {
        "id": "2aiUmcwLTUBo",
        "colab_type": "code",
        "outputId": "b9084982-ec5a-4265-8587-67bc96f84355",
        "colab": {
          "base_uri": "https://localhost:8080/",
          "height": 267
        }
      },
      "source": [
        "# display another continuous variable 'Fare' from our data\n",
        "titanic_data['Fare'].plot(kind='hist');"
      ],
      "execution_count": 7,
      "outputs": [
        {
          "output_type": "display_data",
          "data": {
            "image/png": "[encoded data removed]",
            "text/plain": [
              "<Figure size 432x288 with 1 Axes>"
            ]
          },
          "metadata": {
            "tags": [],
            "needs_background": "light"
          }
        }
      ]
    },
    {
      "cell_type": "code",
      "metadata": {
        "id": "R6w4pqv7TUFU",
        "colab_type": "code",
        "outputId": "f99211d1-94e1-4462-f587-abf0f2b13821",
        "colab": {
          "base_uri": "https://localhost:8080/",
          "height": 265
        }
      },
      "source": [
        "# remove two extreme outliers\n",
        "titanic_data = titanic_data[titanic_data['Fare']<500]\n",
        "titanic_data['Fare'].plot(kind='hist',color='orange');"
      ],
      "execution_count": 8,
      "outputs": [
        {
          "output_type": "display_data",
          "data": {
            "image/png": "[encoded data removed]",
            "text/plain": [
              "<Figure size 432x288 with 1 Axes>"
            ]
          },
          "metadata": {
            "tags": [],
            "needs_background": "light"
          }
        }
      ]
    },
    {
      "cell_type": "code",
      "metadata": {
        "id": "oXDasqB9TUIa",
        "colab_type": "code",
        "outputId": "740a6c22-d2f0-4d4e-bb10-38f79abceca8",
        "colab": {
          "base_uri": "https://localhost:8080/",
          "height": 134
        }
      },
      "source": [
        "# Continueous variables can be converted to a catagorical var by creating bins.\n",
        "age_bins = [0,3,12,18,25,55,100]\n",
        "age_labels = ['baby','child','teen','young adult','adult','senior']\n",
        "titanic_data['Age_Group'] = pd.cut(titanic_data['Age'], bins=age_bins, labels=age_labels)\n",
        "myresults = titanic_data['Age_Group'].value_counts().sort_index()\n",
        "myresults"
      ],
      "execution_count": 9,
      "outputs": [
        {
          "output_type": "execute_result",
          "data": {
            "text/plain": [
              "baby            30\n",
              "child           39\n",
              "teen            70\n",
              "young adult    162\n",
              "adult          369\n",
              "senior          39\n",
              "Name: Age_Group, dtype: int64"
            ]
          },
          "metadata": {
            "tags": []
          },
          "execution_count": 9
        }
      ]
    },
    {
      "cell_type": "code",
      "metadata": {
        "id": "mc-3FKG8ta3g",
        "colab_type": "code",
        "outputId": "f108cd60-b702-4147-a328-c48a4bdf5bbb",
        "colab": {
          "base_uri": "https://localhost:8080/",
          "height": 265
        }
      },
      "source": [
        "# Check these counts out on a bargraph\n",
        "myresults.plot(kind='barh');"
      ],
      "execution_count": 10,
      "outputs": [
        {
          "output_type": "display_data",
          "data": {
            "image/png": "[encoded data removed]",
            "text/plain": [
              "<Figure size 432x288 with 1 Axes>"
            ]
          },
          "metadata": {
            "tags": [],
            "needs_background": "light"
          }
        }
      ]
    },
    {
      "cell_type": "code",
      "metadata": {
        "id": "80zetP_hsONd",
        "colab_type": "code",
        "outputId": "9ec740a1-43bc-46e5-ff17-728ecb576c2f",
        "colab": {
          "base_uri": "https://localhost:8080/",
          "height": 343
        }
      },
      "source": [
        "# check out the dataframe\n",
        "titanic_data.sample(10)"
      ],
      "execution_count": 11,
      "outputs": [
        {
          "output_type": "execute_result",
          "data": {
            "text/html": [
              "<div>\n",
              "<style scoped>\n",
              "    .dataframe tbody tr th:only-of-type {\n",
              "        vertical-align: middle;\n",
              "    }\n",
              "\n",
              "    .dataframe tbody tr th {\n",
              "        vertical-align: top;\n",
              "    }\n",
              "\n",
              "    .dataframe thead th {\n",
              "        text-align: right;\n",
              "    }\n",
              "</style>\n",
              "<table border=\"1\" class=\"dataframe\">\n",
              "  <thead>\n",
              "    <tr style=\"text-align: right;\">\n",
              "      <th></th>\n",
              "      <th>Survived</th>\n",
              "      <th>Pclass</th>\n",
              "      <th>Sex</th>\n",
              "      <th>Age</th>\n",
              "      <th>Fare</th>\n",
              "      <th>Embarked</th>\n",
              "      <th>Mortality</th>\n",
              "      <th>Class_Group</th>\n",
              "      <th>Age_Group</th>\n",
              "    </tr>\n",
              "  </thead>\n",
              "  <tbody>\n",
              "    <tr>\n",
              "      <th>696</th>\n",
              "      <td>0</td>\n",
              "      <td>3</td>\n",
              "      <td>male</td>\n",
              "      <td>47.0</td>\n",
              "      <td>9.0000</td>\n",
              "      <td>Southampton</td>\n",
              "      <td>Died</td>\n",
              "      <td>Third</td>\n",
              "      <td>adult</td>\n",
              "    </tr>\n",
              "    <tr>\n",
              "      <th>430</th>\n",
              "      <td>1</td>\n",
              "      <td>2</td>\n",
              "      <td>male</td>\n",
              "      <td>32.0</td>\n",
              "      <td>26.0000</td>\n",
              "      <td>Southampton</td>\n",
              "      <td>Survived</td>\n",
              "      <td>Second</td>\n",
              "      <td>adult</td>\n",
              "    </tr>\n",
              "    <tr>\n",
              "      <th>253</th>\n",
              "      <td>0</td>\n",
              "      <td>2</td>\n",
              "      <td>male</td>\n",
              "      <td>54.0</td>\n",
              "      <td>14.0000</td>\n",
              "      <td>Southampton</td>\n",
              "      <td>Died</td>\n",
              "      <td>Second</td>\n",
              "      <td>adult</td>\n",
              "    </tr>\n",
              "    <tr>\n",
              "      <th>330</th>\n",
              "      <td>1</td>\n",
              "      <td>1</td>\n",
              "      <td>female</td>\n",
              "      <td>33.0</td>\n",
              "      <td>90.0000</td>\n",
              "      <td>Queenstown</td>\n",
              "      <td>Survived</td>\n",
              "      <td>First</td>\n",
              "      <td>adult</td>\n",
              "    </tr>\n",
              "    <tr>\n",
              "      <th>603</th>\n",
              "      <td>0</td>\n",
              "      <td>2</td>\n",
              "      <td>male</td>\n",
              "      <td>18.0</td>\n",
              "      <td>11.5000</td>\n",
              "      <td>Southampton</td>\n",
              "      <td>Died</td>\n",
              "      <td>Second</td>\n",
              "      <td>teen</td>\n",
              "    </tr>\n",
              "    <tr>\n",
              "      <th>295</th>\n",
              "      <td>0</td>\n",
              "      <td>3</td>\n",
              "      <td>male</td>\n",
              "      <td>18.0</td>\n",
              "      <td>6.4958</td>\n",
              "      <td>Southampton</td>\n",
              "      <td>Died</td>\n",
              "      <td>Third</td>\n",
              "      <td>teen</td>\n",
              "    </tr>\n",
              "    <tr>\n",
              "      <th>438</th>\n",
              "      <td>1</td>\n",
              "      <td>3</td>\n",
              "      <td>male</td>\n",
              "      <td>22.0</td>\n",
              "      <td>7.2250</td>\n",
              "      <td>Cherbourg</td>\n",
              "      <td>Survived</td>\n",
              "      <td>Third</td>\n",
              "      <td>young adult</td>\n",
              "    </tr>\n",
              "    <tr>\n",
              "      <th>555</th>\n",
              "      <td>1</td>\n",
              "      <td>1</td>\n",
              "      <td>male</td>\n",
              "      <td>35.0</td>\n",
              "      <td>26.2875</td>\n",
              "      <td>Southampton</td>\n",
              "      <td>Survived</td>\n",
              "      <td>First</td>\n",
              "      <td>adult</td>\n",
              "    </tr>\n",
              "    <tr>\n",
              "      <th>332</th>\n",
              "      <td>1</td>\n",
              "      <td>2</td>\n",
              "      <td>female</td>\n",
              "      <td>34.0</td>\n",
              "      <td>32.5000</td>\n",
              "      <td>Southampton</td>\n",
              "      <td>Survived</td>\n",
              "      <td>Second</td>\n",
              "      <td>adult</td>\n",
              "    </tr>\n",
              "    <tr>\n",
              "      <th>285</th>\n",
              "      <td>1</td>\n",
              "      <td>1</td>\n",
              "      <td>female</td>\n",
              "      <td>22.0</td>\n",
              "      <td>55.0000</td>\n",
              "      <td>Southampton</td>\n",
              "      <td>Survived</td>\n",
              "      <td>First</td>\n",
              "      <td>young adult</td>\n",
              "    </tr>\n",
              "  </tbody>\n",
              "</table>\n",
              "</div>"
            ],
            "text/plain": [
              "     Survived  Pclass     Sex  ...  Mortality  Class_Group    Age_Group\n",
              "696         0       3    male  ...       Died        Third        adult\n",
              "430         1       2    male  ...   Survived       Second        adult\n",
              "253         0       2    male  ...       Died       Second        adult\n",
              "330         1       1  female  ...   Survived        First        adult\n",
              "603         0       2    male  ...       Died       Second         teen\n",
              "295         0       3    male  ...       Died        Third         teen\n",
              "438         1       3    male  ...   Survived        Third  young adult\n",
              "555         1       1    male  ...   Survived        First        adult\n",
              "332         1       2  female  ...   Survived       Second        adult\n",
              "285         1       1  female  ...   Survived        First  young adult\n",
              "\n",
              "[10 rows x 9 columns]"
            ]
          },
          "metadata": {
            "tags": []
          },
          "execution_count": 11
        }
      ]
    },
    {
      "cell_type": "code",
      "metadata": {
        "id": "dmKQSdxvTULY",
        "colab_type": "code",
        "outputId": "427bcbfb-7fb6-4eea-e0b5-1a02100a5ee3",
        "colab": {
          "base_uri": "https://localhost:8080/",
          "height": 258
        }
      },
      "source": [
        "# sometimes it's important to specify the range of your y-axis to get more\n",
        "# accurate results. 'lim'='limits'\n",
        "myresults.plot(ylim=(0,500));"
      ],
      "execution_count": 12,
      "outputs": [
        {
          "output_type": "display_data",
          "data": {
            "image/png": "[encoded data removed]",
            "text/plain": [
              "<Figure size 432x288 with 1 Axes>"
            ]
          },
          "metadata": {
            "tags": [],
            "needs_background": "light"
          }
        }
      ]
    },
    {
      "cell_type": "code",
      "metadata": {
        "id": "cxne4aMATUOX",
        "colab_type": "code",
        "outputId": "fb36fe90-b6cf-4d79-83dc-6ac1463574e0",
        "colab": {
          "base_uri": "https://localhost:8080/",
          "height": 386
        }
      },
      "source": [
        "# stacked histogram of continuous variables, broken out by categorical data\n",
        "titanic_data[titanic_data['Survived']==0]['Age'].plot(kind='hist',bins=40,figsize=(20,10),color='black',fontsize=20,alpha=0.7);\n",
        "titanic_data[titanic_data['Survived']==1]['Age'].plot(kind='hist',bins=40,figsize=(20,10),color='red',fontsize=20,alpha=0.6);"
      ],
      "execution_count": 13,
      "outputs": [
        {
          "output_type": "display_data",
          "data": {
            "image/png": "[encoded data removed]",
            "text/plain": [
              "<Figure size 1440x720 with 1 Axes>"
            ]
          },
          "metadata": {
            "tags": [],
            "needs_background": "light"
          }
        }
      ]
    },
    {
      "cell_type": "code",
      "metadata": {
        "id": "lYcJsygNTURA",
        "colab_type": "code",
        "outputId": "09fa2915-d1d9-4d38-e632-d147a0bd6cf6",
        "colab": {
          "base_uri": "https://localhost:8080/",
          "height": 240
        }
      },
      "source": [
        "# lets make this plot stack easier to read by useing;\n",
        "# K.ernel   >\n",
        "# D.ensity    > KDE\n",
        "# E.stimate >\n",
        "titanic_data[titanic_data['Survived']==0]['Age'].plot(kind='density',xlim=(-5,100), figsize=(20,6), color='black');\n",
        "titanic_data[titanic_data['Survived']==1]['Age'].plot(kind='density',xlim=(-5,100), figsize=(20,6), color='crimson');\n",
        "# visualize average age based on sex\n",
        "titanic_data[titanic_data['Sex']=='female']['Age'].plot(kind='density',xlim=(-5,100), figsize=(20,6), color='pink');\n",
        "titanic_data[titanic_data['Sex']=='male']['Age'].plot(kind='density',xlim=(-5,100), figsize=(20,6), color='blue');"
      ],
      "execution_count": 14,
      "outputs": [
        {
          "output_type": "display_data",
          "data": {
            "image/png": "[encoded data removed]",
            "text/plain": [
              "<Figure size 1440x432 with 1 Axes>"
            ]
          },
          "metadata": {
            "tags": [],
            "needs_background": "light"
          }
        }
      ]
    },
    {
      "cell_type": "code",
      "metadata": {
        "id": "e7GKmR5xTUTc",
        "colab_type": "code",
        "outputId": "d8dc0afe-598c-416d-9bcf-d9bcb50b81e8",
        "colab": {
          "base_uri": "https://localhost:8080/",
          "height": 265
        }
      },
      "source": [
        "# Using bar charts to display categorical data:\n",
        "titanic_data['Mortality'].value_counts().plot(kind='barh',color=['red','green']);"
      ],
      "execution_count": 15,
      "outputs": [
        {
          "output_type": "display_data",
          "data": {
            "image/png": "[encoded data removed]",
            "text/plain": [
              "<Figure size 432x288 with 1 Axes>"
            ]
          },
          "metadata": {
            "tags": [],
            "needs_background": "light"
          }
        }
      ]
    },
    {
      "cell_type": "code",
      "metadata": {
        "id": "-jEZSl4tTUW1",
        "colab_type": "code",
        "outputId": "be8f40bb-aec6-46ad-958b-cc9773725cbe",
        "colab": {
          "base_uri": "https://localhost:8080/",
          "height": 357
        }
      },
      "source": [
        "# Now lets use a pie chart to diply some more catagorical data:\n",
        "# example using created feature 'Age_Group'\n",
        "titanic_data['Age_Group'].value_counts().plot(kind='pie',figsize=(6,6));"
      ],
      "execution_count": 16,
      "outputs": [
        {
          "output_type": "display_data",
          "data": {
            "image/png": "[encoded data removed]",
            "text/plain": [
              "<Figure size 432x432 with 1 Axes>"
            ]
          },
          "metadata": {
            "tags": []
          }
        }
      ]
    },
    {
      "cell_type": "code",
      "metadata": {
        "id": "eXtnNqJ_TUZP",
        "colab_type": "code",
        "outputId": "a5c5d8bb-a67a-446b-e287-e223edc1bf76",
        "colab": {
          "base_uri": "https://localhost:8080/",
          "height": 254
        }
      },
      "source": [
        "# now lets compare categorical variables\n",
        "# first lets make a crosstab\n",
        "age_mortality = pd.crosstab(titanic_data['Age_Group'],titanic_data['Mortality'])\n",
        "age_mortality"
      ],
      "execution_count": 17,
      "outputs": [
        {
          "output_type": "execute_result",
          "data": {
            "text/html": [
              "<div>\n",
              "<style scoped>\n",
              "    .dataframe tbody tr th:only-of-type {\n",
              "        vertical-align: middle;\n",
              "    }\n",
              "\n",
              "    .dataframe tbody tr th {\n",
              "        vertical-align: top;\n",
              "    }\n",
              "\n",
              "    .dataframe thead th {\n",
              "        text-align: right;\n",
              "    }\n",
              "</style>\n",
              "<table border=\"1\" class=\"dataframe\">\n",
              "  <thead>\n",
              "    <tr style=\"text-align: right;\">\n",
              "      <th>Mortality</th>\n",
              "      <th>Died</th>\n",
              "      <th>Survived</th>\n",
              "    </tr>\n",
              "    <tr>\n",
              "      <th>Age_Group</th>\n",
              "      <th></th>\n",
              "      <th></th>\n",
              "    </tr>\n",
              "  </thead>\n",
              "  <tbody>\n",
              "    <tr>\n",
              "      <th>baby</th>\n",
              "      <td>10</td>\n",
              "      <td>20</td>\n",
              "    </tr>\n",
              "    <tr>\n",
              "      <th>child</th>\n",
              "      <td>19</td>\n",
              "      <td>20</td>\n",
              "    </tr>\n",
              "    <tr>\n",
              "      <th>teen</th>\n",
              "      <td>40</td>\n",
              "      <td>30</td>\n",
              "    </tr>\n",
              "    <tr>\n",
              "      <th>young adult</th>\n",
              "      <td>108</td>\n",
              "      <td>54</td>\n",
              "    </tr>\n",
              "    <tr>\n",
              "      <th>adult</th>\n",
              "      <td>219</td>\n",
              "      <td>150</td>\n",
              "    </tr>\n",
              "    <tr>\n",
              "      <th>senior</th>\n",
              "      <td>28</td>\n",
              "      <td>11</td>\n",
              "    </tr>\n",
              "  </tbody>\n",
              "</table>\n",
              "</div>"
            ],
            "text/plain": [
              "Mortality    Died  Survived\n",
              "Age_Group                  \n",
              "baby           10        20\n",
              "child          19        20\n",
              "teen           40        30\n",
              "young adult   108        54\n",
              "adult         219       150\n",
              "senior         28        11"
            ]
          },
          "metadata": {
            "tags": []
          },
          "execution_count": 17
        }
      ]
    },
    {
      "cell_type": "code",
      "metadata": {
        "id": "TKcJwohpTUfG",
        "colab_type": "code",
        "outputId": "4fe20bab-6aa4-46ff-8e73-a0531432392f",
        "colab": {
          "base_uri": "https://localhost:8080/",
          "height": 265
        }
      },
      "source": [
        "# lets plot our crosstab\n",
        "age_mortality.plot(kind='barh',color=['red','green']);"
      ],
      "execution_count": 18,
      "outputs": [
        {
          "output_type": "display_data",
          "data": {
            "image/png": "[encoded data removed]",
            "text/plain": [
              "<Figure size 432x288 with 1 Axes>"
            ]
          },
          "metadata": {
            "tags": [],
            "needs_background": "light"
          }
        }
      ]
    },
    {
      "cell_type": "code",
      "metadata": {
        "id": "8VydUMlXTUiG",
        "colab_type": "code",
        "outputId": "8639e0b9-94d1-4129-b3c3-021a3aeb8cf6",
        "colab": {
          "base_uri": "https://localhost:8080/",
          "height": 304
        }
      },
      "source": [
        "# lets do the same thing for sex an mortality.\n",
        "sex_mortality = pd.crosstab(titanic_data['Sex'],titanic_data['Mortality'])\n",
        "sex_mortality.plot(kind='bar',stacked=True,color=['red','green']);"
      ],
      "execution_count": 21,
      "outputs": [
        {
          "output_type": "display_data",
          "data": {
            "image/png": "[encoded data removed]",
            "text/plain": [
              "<Figure size 432x288 with 1 Axes>"
            ]
          },
          "metadata": {
            "tags": [],
            "needs_background": "light"
          }
        }
      ]
    },
    {
      "cell_type": "code",
      "metadata": {
        "id": "qj6OQQjUTUlP",
        "colab_type": "code",
        "outputId": "235361e7-e638-49c2-9843-bf5567683444",
        "colab": {
          "base_uri": "https://localhost:8080/",
          "height": 265
        }
      },
      "source": [
        "# one more time just to stamp it to my brain:\n",
        "sex_age = pd.crosstab(titanic_data['Sex'],titanic_data['Age_Group'])\n",
        "sex_age.plot(kind='barh');"
      ],
      "execution_count": 20,
      "outputs": [
        {
          "output_type": "display_data",
          "data": {
            "image/png": "[encoded data removed]",
            "text/plain": [
              "<Figure size 432x288 with 1 Axes>"
            ]
          },
          "metadata": {
            "tags": [],
            "needs_background": "light"
          }
        }
      ]
    },
    {
      "cell_type": "markdown",
      "metadata": {
        "id": "h2TKBI9ID41U",
        "colab_type": "text"
      },
      "source": [
        "###**Plotting with `matplotlib`**\n",
        "- #### **Goal**: Recreate 'inconvenient-sequel' graph, using matplotlib."
      ]
    },
    {
      "cell_type": "code",
      "metadata": {
        "id": "Ri2tXVeqTUo5",
        "colab_type": "code",
        "colab": {
          "base_uri": "https://localhost:8080/",
          "height": 355
        },
        "outputId": "2ca2d79c-176a-46f1-a84e-42a018c9dd33"
      },
      "source": [
        "from IPython.display import display, Image\n",
        "\n",
        "url = 'https://fivethirtyeight.com/wp-content/uploads/2017/09/mehtahickey-inconvenient-0830-1.png'\n",
        "example = Image(url=url,width=400)\n",
        "\n",
        "display(example)"
      ],
      "execution_count": 22,
      "outputs": [
        {
          "output_type": "display_data",
          "data": {
            "text/html": [
              "<img src=\"https://fivethirtyeight.com/wp-content/uploads/2017/09/mehtahickey-inconvenient-0830-1.png\" width=\"400\"/>"
            ],
            "text/plain": [
              "<IPython.core.display.Image object>"
            ]
          },
          "metadata": {
            "tags": []
          }
        }
      ]
    },
    {
      "cell_type": "markdown",
      "metadata": {
        "id": "K8kVoPn7I7aD",
        "colab_type": "text"
      },
      "source": [
        "#### **Step 1:** Make fake prototypes\n",
        "- This helps us understand the problem."
      ]
    },
    {
      "cell_type": "code",
      "metadata": {
        "id": "8RuxE6w7TUrd",
        "colab_type": "code",
        "colab": {
          "base_uri": "https://localhost:8080/",
          "height": 54
        },
        "outputId": "0b8a63ea-dc9a-4b52-b532-95c51565a44a"
      },
      "source": [
        "# We need a canvas style to plot with, fortunatly matplotlib has quite a few to \n",
        "# choose from. Here is how we can check them all out:\n",
        "print(plt.style.available)\n",
        "\n",
        "# Since there is already a 'fivethirtyeight' style, lets use that, if we are trying to \n",
        "# replicate fivethirtyeight data anyway right!?\n",
        "plt.style.use('fivethirtyeight')"
      ],
      "execution_count": 28,
      "outputs": [
        {
          "output_type": "stream",
          "text": [
            "['Solarize_Light2', '_classic_test_patch', 'bmh', 'classic', 'dark_background', 'fast', 'fivethirtyeight', 'ggplot', 'grayscale', 'seaborn', 'seaborn-bright', 'seaborn-colorblind', 'seaborn-dark', 'seaborn-dark-palette', 'seaborn-darkgrid', 'seaborn-deep', 'seaborn-muted', 'seaborn-notebook', 'seaborn-paper', 'seaborn-pastel', 'seaborn-poster', 'seaborn-talk', 'seaborn-ticks', 'seaborn-white', 'seaborn-whitegrid', 'tableau-colorblind10']\n"
          ],
          "name": "stdout"
        }
      ]
    },
    {
      "cell_type": "code",
      "metadata": {
        "id": "2TAkMUxpNh-d",
        "colab_type": "code",
        "colab": {
          "base_uri": "https://localhost:8080/",
          "height": 285
        },
        "outputId": "b35ce29d-bcb0-4114-913c-55a95f73b6e7"
      },
      "source": [
        "# Create some fake data to replicate the example image.\n",
        "fake_ratings_1 = pd.Series([37,3,2,1,2,4,6,5,5,33], index=range(1,11))\n",
        "\n",
        "# Now lets plot our fake data:\n",
        "fake_ratings_1.plot.bar(color='C1', width=0.9);"
      ],
      "execution_count": 33,
      "outputs": [
        {
          "output_type": "display_data",
          "data": {
            "image/png": "[encoded data removed]",
            "text/plain": [
              "<Figure size 432x288 with 1 Axes>"
            ]
          },
          "metadata": {
            "tags": []
          }
        }
      ]
    },
    {
      "cell_type": "code",
      "metadata": {
        "id": "olrw3buWTUuZ",
        "colab_type": "code",
        "colab": {
          "base_uri": "https://localhost:8080/",
          "height": 289
        },
        "outputId": "dd338a46-3fee-4cc4-ba45-9377f3b1111c"
      },
      "source": [
        "# Another way to create some fake data to replicate the example image.\n",
        "fake_ratings_2 = pd.Series(\n",
        "    [1,1,1,1,1,1,1,1,1,1,1,1,1,1,1,1,1,1,1,1,1,1,1,1,\n",
        "     2,2,2,\n",
        "     3,3,\n",
        "     4,\n",
        "     5,5,5,\n",
        "     6,6,6,6,6,\n",
        "     7,7,7,7,7,7,\n",
        "     8,8,8,8,8,\n",
        "     9,9,9,9,9,\n",
        "     10,10,10,10,10,10,10,10,10,10,10,10,10,10,10,10,10,10,10,10\n",
        "     ]\n",
        ")\n",
        "\n",
        "# lets plot our fake_ratings date to see if it looks close:\n",
        "fake_ratings.value_counts().sort_index().plot.bar(color='C1',width=0.9);"
      ],
      "execution_count": 32,
      "outputs": [
        {
          "output_type": "display_data",
          "data": {
            "image/png": "[encoded data removed]",
            "text/plain": [
              "<Figure size 432x288 with 1 Axes>"
            ]
          },
          "metadata": {
            "tags": []
          }
        }
      ]
    },
    {
      "cell_type": "markdown",
      "metadata": {
        "id": "ufKWRlqiOym7",
        "colab_type": "text"
      },
      "source": [
        "#### **Step 2:** Annotate with text.\n",
        "- Add words to make graph pretty."
      ]
    },
    {
      "cell_type": "code",
      "metadata": {
        "id": "nv1uhmp0TUxE",
        "colab_type": "code",
        "colab": {
          "base_uri": "https://localhost:8080/",
          "height": 347
        },
        "outputId": "494dc893-7320-4c64-907a-9f07554a193b"
      },
      "source": [
        "# Setting 'fig' and 'ax' variables as subplots.\n",
        "fig, ax = plt.subplots()\n",
        "# Patching in the color we will use in our graphs background. (not common) \n",
        "fig.patch.set(facecolor='white')\n",
        "\n",
        "# Set and design the bars that will be displayed:\n",
        "fake_ratings_1.plot.bar(width=0.9, color='#ED713A')\n",
        "\n",
        "# Now apply the backgroud color we previously pathced in:\n",
        "ax.set(facecolor='white')\n",
        "\n",
        "# Set the title and subtitle of our graph:\n",
        "# call `set_title` #  ('title_name_here_as_string')\n",
        "ax.set_title(\"'An Inconvenient Sequel: Truth To Power' is diviseive\",\n",
        "             # declare fontsize #\n",
        "             fontsize=12,\n",
        "             # set left-right position #\n",
        "             x=.35,\n",
        "             # set up-down position #\n",
        "             y=1.1,\n",
        "             # make title bold #\n",
        "             fontweight='bold')\n",
        "# Add some text beneath the title:\n",
        "# call `text` #     (s='string_of_text_describing_the_title')\n",
        "ax.text(s='IMDb ratings for the film as of Aug. 29',fontsize=12,\n",
        "        # set left-right position\n",
        "        x=-1.95,\n",
        "        # set up-down position\n",
        "        y=42);\n",
        "\n",
        "# Set the x label/name:\n",
        "ax.set_xlabel('Ratings',fontsize=14)\n",
        "# Set the y label/name:\n",
        "ax.set_ylabel('Percent of total votes', fontsize=12)\n",
        "\n",
        "# Fix the x and y axis tick marks and grid to better clean our image:\n",
        "# call `set_xticklabels` to modify your x axis display\n",
        "ax.set_xticklabels(range(1,11),rotation=-45)\n",
        "# call `set_yticklabels` to modify your y axis display\n",
        "ax.set_yticklabels(range(0,50,10),rotation=45)\n",
        "# call `set_yticks` this sets our ticks to a  grid \n",
        "ax.set_yticks(range(0,50,10));"
      ],
      "execution_count": 55,
      "outputs": [
        {
          "output_type": "display_data",
          "data": {
            "image/png": "[encoded data removed]",
            "text/plain": [
              "<Figure size 432x288 with 1 Axes>"
            ]
          },
          "metadata": {
            "tags": []
          }
        }
      ]
    },
    {
      "cell_type": "code",
      "metadata": {
        "id": "DRkm0ptyOuCA",
        "colab_type": "code",
        "colab": {
          "base_uri": "https://localhost:8080/",
          "height": 355
        },
        "outputId": "dfb954c8-965e-40aa-9010-65a5c70c30b7"
      },
      "source": [
        "# Now lets check to how close it is to the original:\n",
        "display(example)"
      ],
      "execution_count": 54,
      "outputs": [
        {
          "output_type": "display_data",
          "data": {
            "text/html": [
              "<img src=\"https://fivethirtyeight.com/wp-content/uploads/2017/09/mehtahickey-inconvenient-0830-1.png\" width=\"400\"/>"
            ],
            "text/plain": [
              "<IPython.core.display.Image object>"
            ]
          },
          "metadata": {
            "tags": []
          }
        }
      ]
    },
    {
      "cell_type": "markdown",
      "metadata": {
        "id": "xcHmj09vdV5t",
        "colab_type": "text"
      },
      "source": [
        "## **Step 3**: Reproduce useing real data\n",
        "- Now that we have a rough template with fake data lets use the actual rating dataset.\n",
        "  - **Things to note:**\n",
        "  1. The dataset shows logs of the data at different timestamps and these timestamps are `cumulative`, meaning that it has all of the ratings as earlier timestamps, but with the new ones added ontop.\n",
        "  2. The dataset logs ratings breakdowns for a bunch of different demo groups per timestamp.\n",
        "- Once we realize these two things, we realize that we only really need1 line of this dataset to time stamp.\n"
      ]
    },
    {
      "cell_type": "code",
      "metadata": {
        "id": "H-th3BP7OuLm",
        "colab_type": "code",
        "colab": {}
      },
      "source": [
        "# Read in the data from 538's github repo\n"
      ],
      "execution_count": 0,
      "outputs": []
    },
    {
      "cell_type": "code",
      "metadata": {
        "id": "00LPvBBYOuTS",
        "colab_type": "code",
        "colab": {}
      },
      "source": [
        ""
      ],
      "execution_count": 0,
      "outputs": []
    },
    {
      "cell_type": "code",
      "metadata": {
        "id": "72-u333gOuag",
        "colab_type": "code",
        "colab": {}
      },
      "source": [
        ""
      ],
      "execution_count": 0,
      "outputs": []
    },
    {
      "cell_type": "code",
      "metadata": {
        "id": "0rEU1WB1OufI",
        "colab_type": "code",
        "colab": {}
      },
      "source": [
        ""
      ],
      "execution_count": 0,
      "outputs": []
    },
    {
      "cell_type": "code",
      "metadata": {
        "id": "2HooooQROujt",
        "colab_type": "code",
        "colab": {}
      },
      "source": [
        ""
      ],
      "execution_count": 0,
      "outputs": []
    },
    {
      "cell_type": "code",
      "metadata": {
        "id": "qlaLtt_zOunf",
        "colab_type": "code",
        "colab": {}
      },
      "source": [
        ""
      ],
      "execution_count": 0,
      "outputs": []
    },
    {
      "cell_type": "code",
      "metadata": {
        "id": "ffA2uPFbOusK",
        "colab_type": "code",
        "colab": {}
      },
      "source": [
        ""
      ],
      "execution_count": 0,
      "outputs": []
    },
    {
      "cell_type": "code",
      "metadata": {
        "id": "wvt8IBJFOuwf",
        "colab_type": "code",
        "colab": {}
      },
      "source": [
        ""
      ],
      "execution_count": 0,
      "outputs": []
    },
    {
      "cell_type": "code",
      "metadata": {
        "id": "aeLbUAtNOu0Y",
        "colab_type": "code",
        "colab": {}
      },
      "source": [
        ""
      ],
      "execution_count": 0,
      "outputs": []
    },
    {
      "cell_type": "code",
      "metadata": {
        "id": "qXX2TEpKOu3-",
        "colab_type": "code",
        "colab": {}
      },
      "source": [
        ""
      ],
      "execution_count": 0,
      "outputs": []
    },
    {
      "cell_type": "code",
      "metadata": {
        "id": "mBtc9111Ou7j",
        "colab_type": "code",
        "colab": {}
      },
      "source": [
        ""
      ],
      "execution_count": 0,
      "outputs": []
    },
    {
      "cell_type": "code",
      "metadata": {
        "id": "d_nJeBWtOu-2",
        "colab_type": "code",
        "colab": {}
      },
      "source": [
        ""
      ],
      "execution_count": 0,
      "outputs": []
    },
    {
      "cell_type": "markdown",
      "metadata": {
        "id": "1iqcnf8H9azh",
        "colab_type": "text"
      },
      "source": [
        "# 2. Reproduce another example from FiveThirtyEight's shared data repository."
      ]
    },
    {
      "cell_type": "code",
      "metadata": {
        "id": "-Q3trfXm9tPX",
        "colab_type": "code",
        "colab": {}
      },
      "source": [
        "# Imoprt tools:\n",
        "import pandas as pd\n",
        "import numpy as np\n",
        "import matplotlib.pyplot as plt\n",
        "import seaborn as sns"
      ],
      "execution_count": 0,
      "outputs": []
    },
    {
      "cell_type": "code",
      "metadata": {
        "id": "G-7_qr6m9tMr",
        "colab_type": "code",
        "colab": {}
      },
      "source": [
        ""
      ],
      "execution_count": 0,
      "outputs": []
    },
    {
      "cell_type": "code",
      "metadata": {
        "id": "_cbRBcXe9tKG",
        "colab_type": "code",
        "colab": {}
      },
      "source": [
        ""
      ],
      "execution_count": 0,
      "outputs": []
    },
    {
      "cell_type": "code",
      "metadata": {
        "id": "jGukJp-E9tHY",
        "colab_type": "code",
        "colab": {}
      },
      "source": [
        ""
      ],
      "execution_count": 0,
      "outputs": []
    },
    {
      "cell_type": "code",
      "metadata": {
        "id": "TJU0MYJv9tFA",
        "colab_type": "code",
        "colab": {}
      },
      "source": [
        ""
      ],
      "execution_count": 0,
      "outputs": []
    },
    {
      "cell_type": "code",
      "metadata": {
        "id": "Oz5iHbLb9tCX",
        "colab_type": "code",
        "colab": {}
      },
      "source": [
        ""
      ],
      "execution_count": 0,
      "outputs": []
    },
    {
      "cell_type": "code",
      "metadata": {
        "id": "pGLVXUQT9s72",
        "colab_type": "code",
        "colab": {}
      },
      "source": [
        ""
      ],
      "execution_count": 0,
      "outputs": []
    },
    {
      "cell_type": "code",
      "metadata": {
        "id": "gjFLlCQS9s5b",
        "colab_type": "code",
        "colab": {}
      },
      "source": [
        ""
      ],
      "execution_count": 0,
      "outputs": []
    },
    {
      "cell_type": "code",
      "metadata": {
        "id": "K1ZtJTqW9s2J",
        "colab_type": "code",
        "colab": {}
      },
      "source": [
        ""
      ],
      "execution_count": 0,
      "outputs": []
    },
    {
      "cell_type": "code",
      "metadata": {
        "id": "ON6ygXLa9szw",
        "colab_type": "code",
        "colab": {}
      },
      "source": [
        ""
      ],
      "execution_count": 0,
      "outputs": []
    },
    {
      "cell_type": "code",
      "metadata": {
        "id": "WVV0gJ4E9swe",
        "colab_type": "code",
        "colab": {}
      },
      "source": [
        ""
      ],
      "execution_count": 0,
      "outputs": []
    },
    {
      "cell_type": "code",
      "metadata": {
        "id": "YZhud2ti9st2",
        "colab_type": "code",
        "colab": {}
      },
      "source": [
        ""
      ],
      "execution_count": 0,
      "outputs": []
    },
    {
      "cell_type": "code",
      "metadata": {
        "id": "VljgbKJu9src",
        "colab_type": "code",
        "colab": {}
      },
      "source": [
        ""
      ],
      "execution_count": 0,
      "outputs": []
    },
    {
      "cell_type": "markdown",
      "metadata": {
        "id": "0wSrBzmJyWaV",
        "colab_type": "text"
      },
      "source": [
        "# STRETCH OPTIONS\n",
        "\n",
        "### 1) Reproduce one of the following using the matplotlib or seaborn libraries:\n",
        "\n",
        "- [thanksgiving-2015](https://fivethirtyeight.com/features/heres-what-your-part-of-america-eats-on-thanksgiving/) \n",
        "- [candy-power-ranking](https://fivethirtyeight.com/features/the-ultimate-halloween-candy-power-ranking/) \n",
        "- or another example of your choice!\n",
        "\n",
        "### 2) Make more charts!\n",
        "\n",
        "Choose a chart you want to make, from [Visual Vocabulary - Vega Edition](http://ft.com/vocabulary).\n",
        "\n",
        "Find the chart in an example gallery of a Python data visualization library:\n",
        "- [Seaborn](http://seaborn.pydata.org/examples/index.html)\n",
        "- [Altair](https://altair-viz.github.io/gallery/index.html)\n",
        "- [Matplotlib](https://matplotlib.org/gallery.html)\n",
        "- [Pandas](https://pandas.pydata.org/pandas-docs/stable/visualization.html)\n",
        "\n",
        "Reproduce the chart. [Optionally, try the \"Ben Franklin Method.\"](https://docs.google.com/document/d/1ubOw9B3Hfip27hF2ZFnW3a3z9xAgrUDRReOEo-FHCVs/edit) If you want, experiment and make changes.\n",
        "\n",
        "Take notes. Consider sharing your work with your cohort!"
      ]
    },
    {
      "cell_type": "code",
      "metadata": {
        "id": "dRJkKftiy5BJ",
        "colab_type": "code",
        "colab": {}
      },
      "source": [
        "# More Work Here"
      ],
      "execution_count": 0,
      "outputs": []
    }
  ]
}