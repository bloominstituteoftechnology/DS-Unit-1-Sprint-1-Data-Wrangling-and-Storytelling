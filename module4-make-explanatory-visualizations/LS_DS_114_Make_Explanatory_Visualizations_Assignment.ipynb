{
  "nbformat": 4,
  "nbformat_minor": 0,
  "metadata": {
    "colab": {
      "name": "5/14 LS_DS_114_Make_Explanatory_Visualizations_Assignment.ipynb",
      "provenance": [],
      "collapsed_sections": [],
      "include_colab_link": true
    },
    "language_info": {
      "codemirror_mode": {
        "name": "ipython",
        "version": 3
      },
      "file_extension": ".py",
      "mimetype": "text/x-python",
      "name": "python",
      "nbconvert_exporter": "python",
      "pygments_lexer": "ipython3",
      "version": "3.7.1"
    },
    "kernelspec": {
      "display_name": "Python 3",
      "language": "python",
      "name": "python3"
    }
  },
  "cells": [
    {
      "cell_type": "markdown",
      "metadata": {
        "id": "view-in-github",
        "colab_type": "text"
      },
      "source": [
        "<a href=\"https://colab.research.google.com/github/xpandalord/DS-Unit-1-Sprint-1-Data-Wrangling-and-Storytelling/blob/master/module4-make-explanatory-visualizations/LS_DS_114_Make_Explanatory_Visualizations_Assignment.ipynb\" target=\"_parent\"><img src=\"https://colab.research.google.com/assets/colab-badge.svg\" alt=\"Open In Colab\"/></a>"
      ]
    },
    {
      "cell_type": "markdown",
      "metadata": {
        "colab_type": "text",
        "id": "NMEswXWh9mqw"
      },
      "source": [
        "Lambda School Data Science\n",
        "\n",
        "*Unit 1, Sprint 1, Module 4*\n",
        "\n",
        "---\n",
        "\n",
        "# ASSIGNMENT\n",
        "\n",
        "### 1) Replicate the lesson code. I recommend that you [do not copy-paste](https://docs.google.com/document/d/1ubOw9B3Hfip27hF2ZFnW3a3z9xAgrUDRReOEo-FHCVs/edit).\n",
        "\n",
        "Get caught up to where we got our example in class and then try and take things further. How close to \"pixel perfect\" can you make the lecture graph?\n",
        "\n",
        "Once you have something that you're proud of, share your graph in the cohort channel and move on to the second exercise.\n",
        "\n",
        "### 2) Reproduce another example from [FiveThityEight's shared data repository](https://data.fivethirtyeight.com/).\n",
        "\n",
        "**WARNING**: There are a lot of very custom graphs and tables at the above link. I **highly** recommend not trying to reproduce any that look like a table of values or something really different from the graph types that we are already familiar with. Search through the posts until you find a graph type that you are more or less familiar with: histogram, bar chart, stacked bar chart, line chart, [seaborn relplot](https://seaborn.pydata.org/generated/seaborn.relplot.html), etc. Recreating some of the graphics that 538 uses would be a lot easier in Adobe photoshop/illustrator than with matplotlib. \n",
        "\n",
        "- If you put in some time to find a graph that looks \"easy\" to replicate you'll probably find that it's not as easy as you thought. \n",
        "\n",
        "- If you start with a graph that looks hard to replicate you'll probably run up against a brick wall and be disappointed with your afternoon.\n",
        "\n",
        "\n",
        "\n",
        "\n",
        "\n",
        "\n",
        "\n",
        "\n",
        "\n",
        "\n"
      ]
    },
    {
      "cell_type": "code",
      "metadata": {
        "id": "7SY1ZHawyZvz",
        "colab_type": "code",
        "colab": {}
      },
      "source": [
        "# Your Work Here\n",
        "import pandas as pd\n",
        "import numpy as np\n",
        "import seaborn as sns\n",
        "import matplotlib.pyplot as plt"
      ],
      "execution_count": 0,
      "outputs": []
    },
    {
      "cell_type": "code",
      "metadata": {
        "id": "a7Qfol5Qd69j",
        "colab_type": "code",
        "colab": {}
      },
      "source": [
        "%matplotlib inline"
      ],
      "execution_count": 0,
      "outputs": []
    },
    {
      "cell_type": "code",
      "metadata": {
        "id": "FlEFUklnd_Z8",
        "colab_type": "code",
        "colab": {
          "base_uri": "https://localhost:8080/",
          "height": 490
        },
        "outputId": "01857d0d-26f5-4035-f336-d9792713cccc"
      },
      "source": [
        "plt.style.available"
      ],
      "execution_count": 54,
      "outputs": [
        {
          "output_type": "execute_result",
          "data": {
            "text/plain": [
              "['Solarize_Light2',\n",
              " '_classic_test_patch',\n",
              " 'bmh',\n",
              " 'classic',\n",
              " 'dark_background',\n",
              " 'fast',\n",
              " 'fivethirtyeight',\n",
              " 'ggplot',\n",
              " 'grayscale',\n",
              " 'seaborn',\n",
              " 'seaborn-bright',\n",
              " 'seaborn-colorblind',\n",
              " 'seaborn-dark',\n",
              " 'seaborn-dark-palette',\n",
              " 'seaborn-darkgrid',\n",
              " 'seaborn-deep',\n",
              " 'seaborn-muted',\n",
              " 'seaborn-notebook',\n",
              " 'seaborn-paper',\n",
              " 'seaborn-pastel',\n",
              " 'seaborn-poster',\n",
              " 'seaborn-talk',\n",
              " 'seaborn-ticks',\n",
              " 'seaborn-white',\n",
              " 'seaborn-whitegrid',\n",
              " 'tableau-colorblind10']"
            ]
          },
          "metadata": {
            "tags": []
          },
          "execution_count": 54
        }
      ]
    },
    {
      "cell_type": "code",
      "metadata": {
        "id": "4fvymuAXeE74",
        "colab_type": "code",
        "colab": {}
      },
      "source": [
        "plt.style.use('fast')"
      ],
      "execution_count": 0,
      "outputs": []
    },
    {
      "cell_type": "code",
      "metadata": {
        "id": "6Jb9BKwFeIBk",
        "colab_type": "code",
        "colab": {
          "base_uri": "https://localhost:8080/",
          "height": 198
        },
        "outputId": "3b36c559-0a9d-4598-a137-ab8e8f79ba1b"
      },
      "source": [
        "url = 'https://raw.githubusercontent.com/austinlasseter/pandas_visualization/master/data/titanic.csv'\n",
        "titanic = pd.read_csv(url)\n",
        "titanic.head()"
      ],
      "execution_count": 56,
      "outputs": [
        {
          "output_type": "execute_result",
          "data": {
            "text/html": [
              "<div>\n",
              "<style scoped>\n",
              "    .dataframe tbody tr th:only-of-type {\n",
              "        vertical-align: middle;\n",
              "    }\n",
              "\n",
              "    .dataframe tbody tr th {\n",
              "        vertical-align: top;\n",
              "    }\n",
              "\n",
              "    .dataframe thead th {\n",
              "        text-align: right;\n",
              "    }\n",
              "</style>\n",
              "<table border=\"1\" class=\"dataframe\">\n",
              "  <thead>\n",
              "    <tr style=\"text-align: right;\">\n",
              "      <th></th>\n",
              "      <th>Survived</th>\n",
              "      <th>Pclass</th>\n",
              "      <th>Sex</th>\n",
              "      <th>Age</th>\n",
              "      <th>Fare</th>\n",
              "      <th>Embarked</th>\n",
              "    </tr>\n",
              "  </thead>\n",
              "  <tbody>\n",
              "    <tr>\n",
              "      <th>0</th>\n",
              "      <td>0</td>\n",
              "      <td>3</td>\n",
              "      <td>male</td>\n",
              "      <td>22.0</td>\n",
              "      <td>7.2500</td>\n",
              "      <td>Southampton</td>\n",
              "    </tr>\n",
              "    <tr>\n",
              "      <th>1</th>\n",
              "      <td>1</td>\n",
              "      <td>1</td>\n",
              "      <td>female</td>\n",
              "      <td>38.0</td>\n",
              "      <td>71.2833</td>\n",
              "      <td>Cherbourg</td>\n",
              "    </tr>\n",
              "    <tr>\n",
              "      <th>2</th>\n",
              "      <td>1</td>\n",
              "      <td>3</td>\n",
              "      <td>female</td>\n",
              "      <td>26.0</td>\n",
              "      <td>7.9250</td>\n",
              "      <td>Southampton</td>\n",
              "    </tr>\n",
              "    <tr>\n",
              "      <th>3</th>\n",
              "      <td>1</td>\n",
              "      <td>1</td>\n",
              "      <td>female</td>\n",
              "      <td>35.0</td>\n",
              "      <td>53.1000</td>\n",
              "      <td>Southampton</td>\n",
              "    </tr>\n",
              "    <tr>\n",
              "      <th>4</th>\n",
              "      <td>0</td>\n",
              "      <td>3</td>\n",
              "      <td>male</td>\n",
              "      <td>35.0</td>\n",
              "      <td>8.0500</td>\n",
              "      <td>Southampton</td>\n",
              "    </tr>\n",
              "  </tbody>\n",
              "</table>\n",
              "</div>"
            ],
            "text/plain": [
              "   Survived  Pclass     Sex   Age     Fare     Embarked\n",
              "0         0       3    male  22.0   7.2500  Southampton\n",
              "1         1       1  female  38.0  71.2833    Cherbourg\n",
              "2         1       3  female  26.0   7.9250  Southampton\n",
              "3         1       1  female  35.0  53.1000  Southampton\n",
              "4         0       3    male  35.0   8.0500  Southampton"
            ]
          },
          "metadata": {
            "tags": []
          },
          "execution_count": 56
        }
      ]
    },
    {
      "cell_type": "code",
      "metadata": {
        "id": "IbpE3-UYem51",
        "colab_type": "code",
        "colab": {
          "base_uri": "https://localhost:8080/",
          "height": 90
        },
        "outputId": "b87fccfc-1ac8-40c1-fd34-5816813aaa4e"
      },
      "source": [
        "titanic['Pclass'].value_counts().sort_index()"
      ],
      "execution_count": 57,
      "outputs": [
        {
          "output_type": "execute_result",
          "data": {
            "text/plain": [
              "1    184\n",
              "2    173\n",
              "3    355\n",
              "Name: Pclass, dtype: int64"
            ]
          },
          "metadata": {
            "tags": []
          },
          "execution_count": 57
        }
      ]
    },
    {
      "cell_type": "code",
      "metadata": {
        "id": "j_oTd8zrewZg",
        "colab_type": "code",
        "colab": {
          "base_uri": "https://localhost:8080/",
          "height": 198
        },
        "outputId": "d33b7d8e-2ba7-419e-8cd4-0a23c282bff0"
      },
      "source": [
        "titanic['cabin_class'] = titanic['Pclass'].map({1:'first', 2:'second', 3:'third'})\n",
        "titanic.sample(5)"
      ],
      "execution_count": 58,
      "outputs": [
        {
          "output_type": "execute_result",
          "data": {
            "text/html": [
              "<div>\n",
              "<style scoped>\n",
              "    .dataframe tbody tr th:only-of-type {\n",
              "        vertical-align: middle;\n",
              "    }\n",
              "\n",
              "    .dataframe tbody tr th {\n",
              "        vertical-align: top;\n",
              "    }\n",
              "\n",
              "    .dataframe thead th {\n",
              "        text-align: right;\n",
              "    }\n",
              "</style>\n",
              "<table border=\"1\" class=\"dataframe\">\n",
              "  <thead>\n",
              "    <tr style=\"text-align: right;\">\n",
              "      <th></th>\n",
              "      <th>Survived</th>\n",
              "      <th>Pclass</th>\n",
              "      <th>Sex</th>\n",
              "      <th>Age</th>\n",
              "      <th>Fare</th>\n",
              "      <th>Embarked</th>\n",
              "      <th>cabin_class</th>\n",
              "    </tr>\n",
              "  </thead>\n",
              "  <tbody>\n",
              "    <tr>\n",
              "      <th>214</th>\n",
              "      <td>1</td>\n",
              "      <td>3</td>\n",
              "      <td>male</td>\n",
              "      <td>25.0</td>\n",
              "      <td>7.7750</td>\n",
              "      <td>Southampton</td>\n",
              "      <td>third</td>\n",
              "    </tr>\n",
              "    <tr>\n",
              "      <th>673</th>\n",
              "      <td>0</td>\n",
              "      <td>3</td>\n",
              "      <td>male</td>\n",
              "      <td>42.0</td>\n",
              "      <td>7.5500</td>\n",
              "      <td>Southampton</td>\n",
              "      <td>third</td>\n",
              "    </tr>\n",
              "    <tr>\n",
              "      <th>129</th>\n",
              "      <td>0</td>\n",
              "      <td>3</td>\n",
              "      <td>male</td>\n",
              "      <td>26.0</td>\n",
              "      <td>7.7750</td>\n",
              "      <td>Southampton</td>\n",
              "      <td>third</td>\n",
              "    </tr>\n",
              "    <tr>\n",
              "      <th>239</th>\n",
              "      <td>0</td>\n",
              "      <td>1</td>\n",
              "      <td>female</td>\n",
              "      <td>2.0</td>\n",
              "      <td>151.5500</td>\n",
              "      <td>Southampton</td>\n",
              "      <td>first</td>\n",
              "    </tr>\n",
              "    <tr>\n",
              "      <th>556</th>\n",
              "      <td>0</td>\n",
              "      <td>3</td>\n",
              "      <td>female</td>\n",
              "      <td>18.0</td>\n",
              "      <td>14.4542</td>\n",
              "      <td>Cherbourg</td>\n",
              "      <td>third</td>\n",
              "    </tr>\n",
              "  </tbody>\n",
              "</table>\n",
              "</div>"
            ],
            "text/plain": [
              "     Survived  Pclass     Sex   Age      Fare     Embarked cabin_class\n",
              "214         1       3    male  25.0    7.7750  Southampton       third\n",
              "673         0       3    male  42.0    7.5500  Southampton       third\n",
              "129         0       3    male  26.0    7.7750  Southampton       third\n",
              "239         0       1  female   2.0  151.5500  Southampton       first\n",
              "556         0       3  female  18.0   14.4542    Cherbourg       third"
            ]
          },
          "metadata": {
            "tags": []
          },
          "execution_count": 58
        }
      ]
    },
    {
      "cell_type": "code",
      "metadata": {
        "id": "RNhHj67be9iJ",
        "colab_type": "code",
        "colab": {
          "base_uri": "https://localhost:8080/",
          "height": 267
        },
        "outputId": "4f50ca9a-4b0f-4e42-ff3c-ec63408fc383"
      },
      "source": [
        "titanic['Fare'].plot(kind = 'hist');"
      ],
      "execution_count": 59,
      "outputs": [
        {
          "output_type": "display_data",
          "data": {
            "image/png": "[encoded data removed]",
            "text/plain": [
              "<Figure size 432x288 with 1 Axes>"
            ]
          },
          "metadata": {
            "tags": [],
            "needs_background": "light"
          }
        }
      ]
    },
    {
      "cell_type": "code",
      "metadata": {
        "id": "OJd6suHAfENu",
        "colab_type": "code",
        "colab": {
          "base_uri": "https://localhost:8080/",
          "height": 54
        },
        "outputId": "5ba212a1-abb5-4170-fd2e-44563a944e2e"
      },
      "source": [
        "print(titanic.shape)\n",
        "titanic = titanic[titanic['Fare'] < 500]\n",
        "print(titanic.shape)"
      ],
      "execution_count": 60,
      "outputs": [
        {
          "output_type": "stream",
          "text": [
            "(712, 7)\n",
            "(709, 7)\n"
          ],
          "name": "stdout"
        }
      ]
    },
    {
      "cell_type": "code",
      "metadata": {
        "id": "yjFvgR7UfTDl",
        "colab_type": "code",
        "colab": {
          "base_uri": "https://localhost:8080/",
          "height": 265
        },
        "outputId": "02c9590c-132c-433c-a867-27802ee2eac5"
      },
      "source": [
        "titanic['Fare'].plot(kind = 'hist', color = 'dodgerblue', bins = 25);"
      ],
      "execution_count": 61,
      "outputs": [
        {
          "output_type": "display_data",
          "data": {
            "image/png": "[encoded data removed]",
            "text/plain": [
              "<Figure size 432x288 with 1 Axes>"
            ]
          },
          "metadata": {
            "tags": [],
            "needs_background": "light"
          }
        }
      ]
    },
    {
      "cell_type": "code",
      "metadata": {
        "id": "1rgm5ZVkfjX1",
        "colab_type": "code",
        "colab": {
          "base_uri": "https://localhost:8080/",
          "height": 181
        },
        "outputId": "e5067767-386c-415c-de2a-198984b535e3"
      },
      "source": [
        "titanic['Fare'].describe()"
      ],
      "execution_count": 62,
      "outputs": [
        {
          "output_type": "execute_result",
          "data": {
            "text/plain": [
              "count    709.000000\n",
              "mean      32.545692\n",
              "std       42.931277\n",
              "min        0.000000\n",
              "25%        8.050000\n",
              "50%       15.500000\n",
              "75%       32.320800\n",
              "max      263.000000\n",
              "Name: Fare, dtype: float64"
            ]
          },
          "metadata": {
            "tags": []
          },
          "execution_count": 62
        }
      ]
    },
    {
      "cell_type": "code",
      "metadata": {
        "id": "1K3zsYDRfnct",
        "colab_type": "code",
        "colab": {
          "base_uri": "https://localhost:8080/",
          "height": 198
        },
        "outputId": "8b24778a-9a4e-43cb-d4b2-dbe692fafffb"
      },
      "source": [
        "farelabels = ['low', 'medium', 'high', 'vhigh']\n",
        "titanic['fare_groups'] = pd.cut(titanic['Fare'], bins = [0,8,15,32,264], labels = farelabels)\n",
        "titanic[['Fare', 'fare_groups']].head()"
      ],
      "execution_count": 63,
      "outputs": [
        {
          "output_type": "execute_result",
          "data": {
            "text/html": [
              "<div>\n",
              "<style scoped>\n",
              "    .dataframe tbody tr th:only-of-type {\n",
              "        vertical-align: middle;\n",
              "    }\n",
              "\n",
              "    .dataframe tbody tr th {\n",
              "        vertical-align: top;\n",
              "    }\n",
              "\n",
              "    .dataframe thead th {\n",
              "        text-align: right;\n",
              "    }\n",
              "</style>\n",
              "<table border=\"1\" class=\"dataframe\">\n",
              "  <thead>\n",
              "    <tr style=\"text-align: right;\">\n",
              "      <th></th>\n",
              "      <th>Fare</th>\n",
              "      <th>fare_groups</th>\n",
              "    </tr>\n",
              "  </thead>\n",
              "  <tbody>\n",
              "    <tr>\n",
              "      <th>0</th>\n",
              "      <td>7.2500</td>\n",
              "      <td>low</td>\n",
              "    </tr>\n",
              "    <tr>\n",
              "      <th>1</th>\n",
              "      <td>71.2833</td>\n",
              "      <td>vhigh</td>\n",
              "    </tr>\n",
              "    <tr>\n",
              "      <th>2</th>\n",
              "      <td>7.9250</td>\n",
              "      <td>low</td>\n",
              "    </tr>\n",
              "    <tr>\n",
              "      <th>3</th>\n",
              "      <td>53.1000</td>\n",
              "      <td>vhigh</td>\n",
              "    </tr>\n",
              "    <tr>\n",
              "      <th>4</th>\n",
              "      <td>8.0500</td>\n",
              "      <td>medium</td>\n",
              "    </tr>\n",
              "  </tbody>\n",
              "</table>\n",
              "</div>"
            ],
            "text/plain": [
              "      Fare fare_groups\n",
              "0   7.2500         low\n",
              "1  71.2833       vhigh\n",
              "2   7.9250         low\n",
              "3  53.1000       vhigh\n",
              "4   8.0500      medium"
            ]
          },
          "metadata": {
            "tags": []
          },
          "execution_count": 63
        }
      ]
    },
    {
      "cell_type": "code",
      "metadata": {
        "id": "fxohrbFegOBR",
        "colab_type": "code",
        "colab": {}
      },
      "source": [
        "fare_results = titanic['fare_groups'].value_counts().sort_index()"
      ],
      "execution_count": 0,
      "outputs": []
    },
    {
      "cell_type": "code",
      "metadata": {
        "id": "MvQglxadgj_1",
        "colab_type": "code",
        "colab": {
          "base_uri": "https://localhost:8080/",
          "height": 296
        },
        "outputId": "17c0e309-06e6-400b-eb4d-63f8540ad86d"
      },
      "source": [
        "fare_results.plot(kind = 'bar', color = 'darkred');"
      ],
      "execution_count": 65,
      "outputs": [
        {
          "output_type": "display_data",
          "data": {
            "image/png": "[encoded data removed]",
            "text/plain": [
              "<Figure size 432x288 with 1 Axes>"
            ]
          },
          "metadata": {
            "tags": [],
            "needs_background": "light"
          }
        }
      ]
    },
    {
      "cell_type": "code",
      "metadata": {
        "id": "FY9ydvhcgyDl",
        "colab_type": "code",
        "colab": {
          "base_uri": "https://localhost:8080/",
          "height": 215
        },
        "outputId": "57ff6d17-2fdb-4656-ed02-42abc6fbe230"
      },
      "source": [
        "titanic['Age'].plot(kind = 'hist',\n",
        "                    bins = 25,\n",
        "                    figsize = (16,4),\n",
        "                    color = '#17B952');"
      ],
      "execution_count": 66,
      "outputs": [
        {
          "output_type": "display_data",
          "data": {
            "image/png": "[encoded data removed]",
            "text/plain": [
              "<Figure size 1152x288 with 1 Axes>"
            ]
          },
          "metadata": {
            "tags": [],
            "needs_background": "light"
          }
        }
      ]
    },
    {
      "cell_type": "code",
      "metadata": {
        "id": "q3TVy3Jng_51",
        "colab_type": "code",
        "colab": {
          "base_uri": "https://localhost:8080/",
          "height": 215
        },
        "outputId": "423a65ac-9f7b-415c-ddf0-2702bc70bb47"
      },
      "source": [
        "titanic[titanic['Pclass'] == 1]['Age'].plot(kind = 'hist',\n",
        "                                            bins = 25,\n",
        "                                            figsize = (16,4),\n",
        "                                            color = 'magenta',\n",
        "                                            alpha = 0.5)\n",
        "titanic[titanic['Pclass'] == 2]['Age'].plot(kind = 'hist',\n",
        "                                            bins = 25,\n",
        "                                            figsize = (16,4),\n",
        "                                            color = 'darkblue',\n",
        "                                            alpha = 0.5)\n",
        "titanic[titanic['Pclass'] == 3]['Age'].plot(kind = 'hist',\n",
        "                                            bins = 25,\n",
        "                                            figsize = (16,4),\n",
        "                                            color = 'lime',\n",
        "                                            alpha = 0.5);"
      ],
      "execution_count": 67,
      "outputs": [
        {
          "output_type": "display_data",
          "data": {
            "image/png": "[encoded data removed]",
            "text/plain": [
              "<Figure size 1152x288 with 1 Axes>"
            ]
          },
          "metadata": {
            "tags": [],
            "needs_background": "light"
          }
        }
      ]
    },
    {
      "cell_type": "code",
      "metadata": {
        "id": "beS6PIQ1ho_a",
        "colab_type": "code",
        "colab": {
          "base_uri": "https://localhost:8080/",
          "height": 212
        },
        "outputId": "7320d322-063b-408a-cbbd-20b824e0c8ec"
      },
      "source": [
        "titanic[titanic['Pclass'] == 1]['Age'].plot(kind = 'density',\n",
        "                                            figsize = (16,4),\n",
        "                                            color = 'navy',\n",
        "                                            xlim = (-5,85))\n",
        "titanic[titanic['Pclass'] == 2]['Age'].plot(kind = 'density',\n",
        "                                            figsize = (16,4),\n",
        "                                            color = 'lightblue',\n",
        "                                            xlim = (-5,85))\n",
        "titanic[titanic['Pclass'] == 3]['Age'].plot(kind = 'density',\n",
        "                                            figsize = (16,4),\n",
        "                                            color = 'crimson',\n",
        "                                            xlim = (-5,85));"
      ],
      "execution_count": 68,
      "outputs": [
        {
          "output_type": "display_data",
          "data": {
            "image/png": "[encoded data removed]",
            "text/plain": [
              "<Figure size 1152x288 with 1 Axes>"
            ]
          },
          "metadata": {
            "tags": [],
            "needs_background": "light"
          }
        }
      ]
    },
    {
      "cell_type": "code",
      "metadata": {
        "id": "xcyVepNviCDr",
        "colab_type": "code",
        "colab": {
          "base_uri": "https://localhost:8080/",
          "height": 296
        },
        "outputId": "1386f424-ef0c-4747-9e27-cc37a21d207f"
      },
      "source": [
        "titanic['fare_groups'].value_counts().sort_index().plot(kind = 'bar',\n",
        "                                                        color = ['gray', 'gray', 'red', 'gray']);"
      ],
      "execution_count": 69,
      "outputs": [
        {
          "output_type": "display_data",
          "data": {
            "image/png": "[encoded data removed]",
            "text/plain": [
              "<Figure size 432x288 with 1 Axes>"
            ]
          },
          "metadata": {
            "tags": [],
            "needs_background": "light"
          }
        }
      ]
    },
    {
      "cell_type": "code",
      "metadata": {
        "id": "9-OUa9TwiNz1",
        "colab_type": "code",
        "colab": {
          "base_uri": "https://localhost:8080/",
          "height": 248
        },
        "outputId": "c17d877b-9e9f-42f0-c7d9-b8e163d7a2bb"
      },
      "source": [
        "titanic['fare_groups'].value_counts().sort_index().plot(kind = 'pie',\n",
        "                                                        figsize = (4,4));"
      ],
      "execution_count": 70,
      "outputs": [
        {
          "output_type": "display_data",
          "data": {
            "image/png": "[encoded data removed]",
            "text/plain": [
              "<Figure size 288x288 with 1 Axes>"
            ]
          },
          "metadata": {
            "tags": []
          }
        }
      ]
    },
    {
      "cell_type": "code",
      "metadata": {
        "id": "zLdZ7vdQiWq-",
        "colab_type": "code",
        "colab": {
          "base_uri": "https://localhost:8080/",
          "height": 168
        },
        "outputId": "b469d978-0948-4f56-8688-bd442140195e"
      },
      "source": [
        "cab_death = pd.crosstab(titanic['cabin_class'], titanic['Survived'])\n",
        "cab_death"
      ],
      "execution_count": 71,
      "outputs": [
        {
          "output_type": "execute_result",
          "data": {
            "text/html": [
              "<div>\n",
              "<style scoped>\n",
              "    .dataframe tbody tr th:only-of-type {\n",
              "        vertical-align: middle;\n",
              "    }\n",
              "\n",
              "    .dataframe tbody tr th {\n",
              "        vertical-align: top;\n",
              "    }\n",
              "\n",
              "    .dataframe thead th {\n",
              "        text-align: right;\n",
              "    }\n",
              "</style>\n",
              "<table border=\"1\" class=\"dataframe\">\n",
              "  <thead>\n",
              "    <tr style=\"text-align: right;\">\n",
              "      <th>Survived</th>\n",
              "      <th>0</th>\n",
              "      <th>1</th>\n",
              "    </tr>\n",
              "    <tr>\n",
              "      <th>cabin_class</th>\n",
              "      <th></th>\n",
              "      <th></th>\n",
              "    </tr>\n",
              "  </thead>\n",
              "  <tbody>\n",
              "    <tr>\n",
              "      <th>first</th>\n",
              "      <td>64</td>\n",
              "      <td>117</td>\n",
              "    </tr>\n",
              "    <tr>\n",
              "      <th>second</th>\n",
              "      <td>90</td>\n",
              "      <td>83</td>\n",
              "    </tr>\n",
              "    <tr>\n",
              "      <th>third</th>\n",
              "      <td>270</td>\n",
              "      <td>85</td>\n",
              "    </tr>\n",
              "  </tbody>\n",
              "</table>\n",
              "</div>"
            ],
            "text/plain": [
              "Survived       0    1\n",
              "cabin_class          \n",
              "first         64  117\n",
              "second        90   83\n",
              "third        270   85"
            ]
          },
          "metadata": {
            "tags": []
          },
          "execution_count": 71
        }
      ]
    },
    {
      "cell_type": "code",
      "metadata": {
        "id": "vsePyRJripBe",
        "colab_type": "code",
        "colab": {
          "base_uri": "https://localhost:8080/",
          "height": 306
        },
        "outputId": "2466a589-d0bd-4bdd-f7e2-80a6e886263a"
      },
      "source": [
        "cab_death.plot(kind = 'bar');"
      ],
      "execution_count": 72,
      "outputs": [
        {
          "output_type": "display_data",
          "data": {
            "image/png": "[encoded data removed]",
            "text/plain": [
              "<Figure size 432x288 with 1 Axes>"
            ]
          },
          "metadata": {
            "tags": [],
            "needs_background": "light"
          }
        }
      ]
    },
    {
      "cell_type": "code",
      "metadata": {
        "id": "vRHXd3lcitek",
        "colab_type": "code",
        "colab": {
          "base_uri": "https://localhost:8080/",
          "height": 168
        },
        "outputId": "628ec192-ca5b-42d3-ddee-bff0515bc271"
      },
      "source": [
        "cab_death1 = pd.crosstab(titanic['cabin_class'], titanic['Survived'], normalize = 'columns')\n",
        "cab_death1"
      ],
      "execution_count": 73,
      "outputs": [
        {
          "output_type": "execute_result",
          "data": {
            "text/html": [
              "<div>\n",
              "<style scoped>\n",
              "    .dataframe tbody tr th:only-of-type {\n",
              "        vertical-align: middle;\n",
              "    }\n",
              "\n",
              "    .dataframe tbody tr th {\n",
              "        vertical-align: top;\n",
              "    }\n",
              "\n",
              "    .dataframe thead th {\n",
              "        text-align: right;\n",
              "    }\n",
              "</style>\n",
              "<table border=\"1\" class=\"dataframe\">\n",
              "  <thead>\n",
              "    <tr style=\"text-align: right;\">\n",
              "      <th>Survived</th>\n",
              "      <th>0</th>\n",
              "      <th>1</th>\n",
              "    </tr>\n",
              "    <tr>\n",
              "      <th>cabin_class</th>\n",
              "      <th></th>\n",
              "      <th></th>\n",
              "    </tr>\n",
              "  </thead>\n",
              "  <tbody>\n",
              "    <tr>\n",
              "      <th>first</th>\n",
              "      <td>0.150943</td>\n",
              "      <td>0.410526</td>\n",
              "    </tr>\n",
              "    <tr>\n",
              "      <th>second</th>\n",
              "      <td>0.212264</td>\n",
              "      <td>0.291228</td>\n",
              "    </tr>\n",
              "    <tr>\n",
              "      <th>third</th>\n",
              "      <td>0.636792</td>\n",
              "      <td>0.298246</td>\n",
              "    </tr>\n",
              "  </tbody>\n",
              "</table>\n",
              "</div>"
            ],
            "text/plain": [
              "Survived            0         1\n",
              "cabin_class                    \n",
              "first        0.150943  0.410526\n",
              "second       0.212264  0.291228\n",
              "third        0.636792  0.298246"
            ]
          },
          "metadata": {
            "tags": []
          },
          "execution_count": 73
        }
      ]
    },
    {
      "cell_type": "code",
      "metadata": {
        "id": "JOuPAMWAjB6q",
        "colab_type": "code",
        "colab": {
          "base_uri": "https://localhost:8080/",
          "height": 306
        },
        "outputId": "27f66809-7342-4b1f-a5a8-a129cd93d06c"
      },
      "source": [
        "cab_death1.plot(kind = 'bar',\n",
        "                stacked = True,\n",
        "                color = ['orange', 'gray']);"
      ],
      "execution_count": 74,
      "outputs": [
        {
          "output_type": "display_data",
          "data": {
            "image/png": "[encoded data removed]",
            "text/plain": [
              "<Figure size 432x288 with 1 Axes>"
            ]
          },
          "metadata": {
            "tags": [],
            "needs_background": "light"
          }
        }
      ]
    },
    {
      "cell_type": "code",
      "metadata": {
        "id": "GmppzM-zjOUn",
        "colab_type": "code",
        "colab": {
          "base_uri": "https://localhost:8080/",
          "height": 168
        },
        "outputId": "5ef9713b-734a-44ff-ee71-f2c19052b467"
      },
      "source": [
        "cab_death2 = pd.crosstab(titanic['cabin_class'],\n",
        "                         titanic['Survived'],\n",
        "                         normalize = 'index')\n",
        "cab_death2"
      ],
      "execution_count": 75,
      "outputs": [
        {
          "output_type": "execute_result",
          "data": {
            "text/html": [
              "<div>\n",
              "<style scoped>\n",
              "    .dataframe tbody tr th:only-of-type {\n",
              "        vertical-align: middle;\n",
              "    }\n",
              "\n",
              "    .dataframe tbody tr th {\n",
              "        vertical-align: top;\n",
              "    }\n",
              "\n",
              "    .dataframe thead th {\n",
              "        text-align: right;\n",
              "    }\n",
              "</style>\n",
              "<table border=\"1\" class=\"dataframe\">\n",
              "  <thead>\n",
              "    <tr style=\"text-align: right;\">\n",
              "      <th>Survived</th>\n",
              "      <th>0</th>\n",
              "      <th>1</th>\n",
              "    </tr>\n",
              "    <tr>\n",
              "      <th>cabin_class</th>\n",
              "      <th></th>\n",
              "      <th></th>\n",
              "    </tr>\n",
              "  </thead>\n",
              "  <tbody>\n",
              "    <tr>\n",
              "      <th>first</th>\n",
              "      <td>0.353591</td>\n",
              "      <td>0.646409</td>\n",
              "    </tr>\n",
              "    <tr>\n",
              "      <th>second</th>\n",
              "      <td>0.520231</td>\n",
              "      <td>0.479769</td>\n",
              "    </tr>\n",
              "    <tr>\n",
              "      <th>third</th>\n",
              "      <td>0.760563</td>\n",
              "      <td>0.239437</td>\n",
              "    </tr>\n",
              "  </tbody>\n",
              "</table>\n",
              "</div>"
            ],
            "text/plain": [
              "Survived            0         1\n",
              "cabin_class                    \n",
              "first        0.353591  0.646409\n",
              "second       0.520231  0.479769\n",
              "third        0.760563  0.239437"
            ]
          },
          "metadata": {
            "tags": []
          },
          "execution_count": 75
        }
      ]
    },
    {
      "cell_type": "code",
      "metadata": {
        "id": "1OUlc48ujqkO",
        "colab_type": "code",
        "colab": {
          "base_uri": "https://localhost:8080/",
          "height": 265
        },
        "outputId": "17f6b390-ba6a-45d6-addd-b9a23343eeda"
      },
      "source": [
        "cab_death2.plot(kind = 'barh',\n",
        "                color = ['purple', 'lightgreen'],\n",
        "                figsize = (10,4));"
      ],
      "execution_count": 76,
      "outputs": [
        {
          "output_type": "display_data",
          "data": {
            "image/png": "[encoded data removed]",
            "text/plain": [
              "<Figure size 720x288 with 1 Axes>"
            ]
          },
          "metadata": {
            "tags": [],
            "needs_background": "light"
          }
        }
      ]
    },
    {
      "cell_type": "code",
      "metadata": {
        "id": "8oCs8XFjjz5p",
        "colab_type": "code",
        "colab": {
          "base_uri": "https://localhost:8080/",
          "height": 181
        },
        "outputId": "92d2012a-d9f8-49b8-e973-3e5b1c1e8bdf"
      },
      "source": [
        "titanic['Age'].describe()\n",
        "titanic['Age'].mean()\n",
        "titanic['Age'].median()\n",
        "titanic['Age'].std()\n",
        "titanic['Age'].describe()"
      ],
      "execution_count": 77,
      "outputs": [
        {
          "output_type": "execute_result",
          "data": {
            "text/plain": [
              "count    709.000000\n",
              "mean      29.618011\n",
              "std       14.518828\n",
              "min        0.420000\n",
              "25%       20.000000\n",
              "50%       28.000000\n",
              "75%       38.000000\n",
              "max       80.000000\n",
              "Name: Age, dtype: float64"
            ]
          },
          "metadata": {
            "tags": []
          },
          "execution_count": 77
        }
      ]
    },
    {
      "cell_type": "code",
      "metadata": {
        "id": "D1Sp16f-kDSR",
        "colab_type": "code",
        "colab": {
          "base_uri": "https://localhost:8080/",
          "height": 108
        },
        "outputId": "965fb1a9-2c7e-4e13-b0bd-7b34c3d70194"
      },
      "source": [
        "cab_age = titanic.groupby('cabin_class')['Age'].mean()\n",
        "cab_age"
      ],
      "execution_count": 78,
      "outputs": [
        {
          "output_type": "execute_result",
          "data": {
            "text/plain": [
              "cabin_class\n",
              "first     38.151492\n",
              "second    29.877630\n",
              "third     25.140620\n",
              "Name: Age, dtype: float64"
            ]
          },
          "metadata": {
            "tags": []
          },
          "execution_count": 78
        }
      ]
    },
    {
      "cell_type": "code",
      "metadata": {
        "id": "oxtUQYEskJ5Y",
        "colab_type": "code",
        "colab": {
          "base_uri": "https://localhost:8080/",
          "height": 265
        },
        "outputId": "5a7247ad-53a5-4364-f30f-c54cf178afa8"
      },
      "source": [
        "titanic['Age'].plot(kind = 'box');"
      ],
      "execution_count": 79,
      "outputs": [
        {
          "output_type": "display_data",
          "data": {
            "image/png": "[encoded data removed]",
            "text/plain": [
              "<Figure size 432x288 with 1 Axes>"
            ]
          },
          "metadata": {
            "tags": [],
            "needs_background": "light"
          }
        }
      ]
    },
    {
      "cell_type": "code",
      "metadata": {
        "id": "goRitGZ4lD-B",
        "colab_type": "code",
        "colab": {
          "base_uri": "https://localhost:8080/",
          "height": 302
        },
        "outputId": "09fa8228-8936-405f-fadc-79df9acabb51"
      },
      "source": [
        "plt.style.use('fast')\n",
        "titanic.boxplot(column = 'Age',\n",
        "                by = 'cabin_class');"
      ],
      "execution_count": 80,
      "outputs": [
        {
          "output_type": "display_data",
          "data": {
            "image/png": "[encoded data removed]",
            "text/plain": [
              "<Figure size 432x288 with 1 Axes>"
            ]
          },
          "metadata": {
            "tags": [],
            "needs_background": "light"
          }
        }
      ]
    },
    {
      "cell_type": "code",
      "metadata": {
        "id": "ycin-Mw4m7Nb",
        "colab_type": "code",
        "colab": {
          "base_uri": "https://localhost:8080/",
          "height": 225
        },
        "outputId": "d2a91b02-99c7-445f-c6ec-77914c314fbd"
      },
      "source": [
        "titanic.plot(kind = 'scatter',\n",
        "             x = 'Fare',\n",
        "             y = 'Age',\n",
        "             figsize = (12,3));"
      ],
      "execution_count": 81,
      "outputs": [
        {
          "output_type": "display_data",
          "data": {
            "image/png": "[encoded data removed]",
            "text/plain": [
              "<Figure size 864x216 with 1 Axes>"
            ]
          },
          "metadata": {
            "tags": [],
            "needs_background": "light"
          }
        }
      ]
    },
    {
      "cell_type": "code",
      "metadata": {
        "id": "1KPeVTRgndgW",
        "colab_type": "code",
        "colab": {
          "base_uri": "https://localhost:8080/",
          "height": 204
        },
        "outputId": "5568d00d-9ee2-45ec-fcf3-340df0a4ef23"
      },
      "source": [
        "plt.style.use('fast')\n",
        "titanic.plot(kind = 'scatter',\n",
        "             x = 'Fare',\n",
        "             y = 'Age',\n",
        "             c = 'Pclass',\n",
        "             colormap = 'plasma',\n",
        "             figsize = (12,3));"
      ],
      "execution_count": 82,
      "outputs": [
        {
          "output_type": "display_data",
          "data": {
            "image/png": "[encoded data removed]",
            "text/plain": [
              "<Figure size 864x216 with 2 Axes>"
            ]
          },
          "metadata": {
            "tags": [],
            "needs_background": "light"
          }
        }
      ]
    },
    {
      "cell_type": "code",
      "metadata": {
        "id": "bbY0TqqW3exy",
        "colab_type": "code",
        "colab": {
          "base_uri": "https://localhost:8080/",
          "height": 279
        },
        "outputId": "e9a0166d-20a6-40c2-ff9e-05c10e7b1ded"
      },
      "source": [
        "titanic.groupby('Age')['Fare'].mean().plot(kind = 'line',\n",
        "                                           figsize = (12,4));"
      ],
      "execution_count": 83,
      "outputs": [
        {
          "output_type": "display_data",
          "data": {
            "image/png": "[encoded data removed]",
            "text/plain": [
              "<Figure size 864x288 with 1 Axes>"
            ]
          },
          "metadata": {
            "tags": [],
            "needs_background": "light"
          }
        }
      ]
    },
    {
      "cell_type": "code",
      "metadata": {
        "id": "gCOBpGun4Lpl",
        "colab_type": "code",
        "colab": {
          "base_uri": "https://localhost:8080/",
          "height": 279
        },
        "outputId": "83fab273-87b9-43a3-f2c9-fb526c2459e7"
      },
      "source": [
        "mycolors = ['crimson', 'purple', 'dodgerblue']\n",
        "for x in [1,2,3]:\n",
        "  titanic[titanic['Pclass'] == x].groupby('Age')['Fare'].mean().plot(figsize = (12,4),\n",
        "                                                                     color = mycolors[x-1]);"
      ],
      "execution_count": 85,
      "outputs": [
        {
          "output_type": "display_data",
          "data": {
            "image/png": "[encoded data removed]",
            "text/plain": [
              "<Figure size 864x288 with 1 Axes>"
            ]
          },
          "metadata": {
            "tags": [],
            "needs_background": "light"
          }
        }
      ]
    },
    {
      "cell_type": "code",
      "metadata": {
        "id": "o6dazkGN49D_",
        "colab_type": "code",
        "colab": {
          "base_uri": "https://localhost:8080/",
          "height": 168
        },
        "outputId": "f61bdbb9-793b-47ca-a595-98abe29eb659"
      },
      "source": [
        "titanic.corr()"
      ],
      "execution_count": 86,
      "outputs": [
        {
          "output_type": "execute_result",
          "data": {
            "text/html": [
              "<div>\n",
              "<style scoped>\n",
              "    .dataframe tbody tr th:only-of-type {\n",
              "        vertical-align: middle;\n",
              "    }\n",
              "\n",
              "    .dataframe tbody tr th {\n",
              "        vertical-align: top;\n",
              "    }\n",
              "\n",
              "    .dataframe thead th {\n",
              "        text-align: right;\n",
              "    }\n",
              "</style>\n",
              "<table border=\"1\" class=\"dataframe\">\n",
              "  <thead>\n",
              "    <tr style=\"text-align: right;\">\n",
              "      <th></th>\n",
              "      <th>Survived</th>\n",
              "      <th>Pclass</th>\n",
              "      <th>Age</th>\n",
              "      <th>Fare</th>\n",
              "    </tr>\n",
              "  </thead>\n",
              "  <tbody>\n",
              "    <tr>\n",
              "      <th>Survived</th>\n",
              "      <td>1.000000</td>\n",
              "      <td>-0.351579</td>\n",
              "      <td>-0.084756</td>\n",
              "      <td>0.272376</td>\n",
              "    </tr>\n",
              "    <tr>\n",
              "      <th>Pclass</th>\n",
              "      <td>-0.351579</td>\n",
              "      <td>1.000000</td>\n",
              "      <td>-0.365259</td>\n",
              "      <td>-0.616062</td>\n",
              "    </tr>\n",
              "    <tr>\n",
              "      <th>Age</th>\n",
              "      <td>-0.084756</td>\n",
              "      <td>-0.365259</td>\n",
              "      <td>1.000000</td>\n",
              "      <td>0.096573</td>\n",
              "    </tr>\n",
              "    <tr>\n",
              "      <th>Fare</th>\n",
              "      <td>0.272376</td>\n",
              "      <td>-0.616062</td>\n",
              "      <td>0.096573</td>\n",
              "      <td>1.000000</td>\n",
              "    </tr>\n",
              "  </tbody>\n",
              "</table>\n",
              "</div>"
            ],
            "text/plain": [
              "          Survived    Pclass       Age      Fare\n",
              "Survived  1.000000 -0.351579 -0.084756  0.272376\n",
              "Pclass   -0.351579  1.000000 -0.365259 -0.616062\n",
              "Age      -0.084756 -0.365259  1.000000  0.096573\n",
              "Fare      0.272376 -0.616062  0.096573  1.000000"
            ]
          },
          "metadata": {
            "tags": []
          },
          "execution_count": 86
        }
      ]
    },
    {
      "cell_type": "code",
      "metadata": {
        "id": "jfmyjmXd4__X",
        "colab_type": "code",
        "colab": {
          "base_uri": "https://localhost:8080/",
          "height": 269
        },
        "outputId": "25481a28-351c-4dd0-8f92-948704c3ee59"
      },
      "source": [
        "plt.imshow(titanic.corr());"
      ],
      "execution_count": 87,
      "outputs": [
        {
          "output_type": "display_data",
          "data": {
            "image/png": "[encoded data removed]",
            "text/plain": [
              "<Figure size 432x288 with 1 Axes>"
            ]
          },
          "metadata": {
            "tags": [],
            "needs_background": "light"
          }
        }
      ]
    },
    {
      "cell_type": "code",
      "metadata": {
        "id": "jglbffpb5G1H",
        "colab_type": "code",
        "colab": {
          "base_uri": "https://localhost:8080/",
          "height": 269
        },
        "outputId": "6a9748e2-7b87-46e3-f37e-9aff8dcd06ba"
      },
      "source": [
        "sns.heatmap(titanic.corr());"
      ],
      "execution_count": 88,
      "outputs": [
        {
          "output_type": "display_data",
          "data": {
            "image/png": "[encoded data removed]",
            "text/plain": [
              "<Figure size 432x288 with 2 Axes>"
            ]
          },
          "metadata": {
            "tags": [],
            "needs_background": "light"
          }
        }
      ]
    },
    {
      "cell_type": "code",
      "metadata": {
        "id": "_1fapTsS6-OR",
        "colab_type": "code",
        "colab": {}
      },
      "source": [
        "import numpy as np\n",
        "x = np.linspace(0, 5, 11)\n",
        "y = x ** 2"
      ],
      "execution_count": 0,
      "outputs": []
    },
    {
      "cell_type": "code",
      "metadata": {
        "id": "pc9X96Wv7wpK",
        "colab_type": "code",
        "colab": {
          "base_uri": "https://localhost:8080/",
          "height": 35
        },
        "outputId": "48fa8b71-3f30-40dd-ccb4-bdbea74cc0a5"
      },
      "source": [
        "x"
      ],
      "execution_count": 90,
      "outputs": [
        {
          "output_type": "execute_result",
          "data": {
            "text/plain": [
              "array([0. , 0.5, 1. , 1.5, 2. , 2.5, 3. , 3.5, 4. , 4.5, 5. ])"
            ]
          },
          "metadata": {
            "tags": []
          },
          "execution_count": 90
        }
      ]
    },
    {
      "cell_type": "code",
      "metadata": {
        "id": "bUc77kBu7xs3",
        "colab_type": "code",
        "colab": {
          "base_uri": "https://localhost:8080/",
          "height": 54
        },
        "outputId": "a8a5e56a-f0ee-49b0-bd45-e68c05c82429"
      },
      "source": [
        "y"
      ],
      "execution_count": 91,
      "outputs": [
        {
          "output_type": "execute_result",
          "data": {
            "text/plain": [
              "array([ 0.  ,  0.25,  1.  ,  2.25,  4.  ,  6.25,  9.  , 12.25, 16.  ,\n",
              "       20.25, 25.  ])"
            ]
          },
          "metadata": {
            "tags": []
          },
          "execution_count": 91
        }
      ]
    },
    {
      "cell_type": "code",
      "metadata": {
        "id": "WFksY2yF7yyF",
        "colab_type": "code",
        "colab": {
          "base_uri": "https://localhost:8080/",
          "height": 265
        },
        "outputId": "8f60a15d-b3d7-4c50-81e3-834e4e7e82b8"
      },
      "source": [
        "plt.plot(y, x);"
      ],
      "execution_count": 92,
      "outputs": [
        {
          "output_type": "display_data",
          "data": {
            "image/png": "[encoded data removed]",
            "text/plain": [
              "<Figure size 432x288 with 1 Axes>"
            ]
          },
          "metadata": {
            "tags": [],
            "needs_background": "light"
          }
        }
      ]
    },
    {
      "cell_type": "code",
      "metadata": {
        "id": "ZWADE5ND72v1",
        "colab_type": "code",
        "colab": {
          "base_uri": "https://localhost:8080/",
          "height": 265
        },
        "outputId": "20c86024-d156-47dc-cfcc-73477a279963"
      },
      "source": [
        "plt.plot(x, y, 'r')\n",
        "plt.plot(y, x, 'b');"
      ],
      "execution_count": 93,
      "outputs": [
        {
          "output_type": "display_data",
          "data": {
            "image/png": "[encoded data removed]",
            "text/plain": [
              "<Figure size 432x288 with 1 Axes>"
            ]
          },
          "metadata": {
            "tags": [],
            "needs_background": "light"
          }
        }
      ]
    },
    {
      "cell_type": "code",
      "metadata": {
        "id": "o_mRYEzQ775h",
        "colab_type": "code",
        "colab": {
          "base_uri": "https://localhost:8080/",
          "height": 295
        },
        "outputId": "99d776c7-c236-4a61-8793-13cb08bf590a"
      },
      "source": [
        "plt.plot(x, y, 'r--')\n",
        "plt.plot(y, x, 'b*-')\n",
        "plt.xlabel('X Axis Title Here')\n",
        "plt.ylabel('Y Axis Title Here')\n",
        "plt.title('String Title Here');"
      ],
      "execution_count": 94,
      "outputs": [
        {
          "output_type": "display_data",
          "data": {
            "image/png": "[encoded data removed]",
            "text/plain": [
              "<Figure size 432x288 with 1 Axes>"
            ]
          },
          "metadata": {
            "tags": [],
            "needs_background": "light"
          }
        }
      ]
    },
    {
      "cell_type": "code",
      "metadata": {
        "id": "zf9uTM9x8csE",
        "colab_type": "code",
        "colab": {
          "base_uri": "https://localhost:8080/",
          "height": 265
        },
        "outputId": "dcf859f7-94df-4261-8f64-263f7913f9fb"
      },
      "source": [
        "plt.subplot(1, 2, 1)\n",
        "plt.plot(x, y, 'r--')\n",
        "plt.subplot(1, 2, 2)\n",
        "plt.plot(y, x, 'g*-');"
      ],
      "execution_count": 95,
      "outputs": [
        {
          "output_type": "display_data",
          "data": {
            "image/png": "[encoded data removed]",
            "text/plain": [
              "<Figure size 432x288 with 2 Axes>"
            ]
          },
          "metadata": {
            "tags": [],
            "needs_background": "light"
          }
        }
      ]
    },
    {
      "cell_type": "code",
      "metadata": {
        "id": "0F97NoS48pj1",
        "colab_type": "code",
        "colab": {
          "base_uri": "https://localhost:8080/",
          "height": 308
        },
        "outputId": "11d62aea-535d-4128-ce85-fa651a3101d9"
      },
      "source": [
        "fig = plt.figure()\n",
        "axes = fig.add_axes([0.1, 0.1, 0.8, 0.8])\n",
        "axes.plot(x, y, 'b')\n",
        "axes.set_xlabel('Set X Label')\n",
        "axes.set_ylabel('Set Y Label')\n",
        "axes.set_title('Set Title');"
      ],
      "execution_count": 96,
      "outputs": [
        {
          "output_type": "display_data",
          "data": {
            "image/png": "[encoded data removed]",
            "text/plain": [
              "<Figure size 432x288 with 1 Axes>"
            ]
          },
          "metadata": {
            "tags": [],
            "needs_background": "light"
          }
        }
      ]
    },
    {
      "cell_type": "code",
      "metadata": {
        "id": "fVuQXTAC9LM_",
        "colab_type": "code",
        "colab": {
          "base_uri": "https://localhost:8080/",
          "height": 309
        },
        "outputId": "075d519d-afe7-4a71-c233-983a663b0190"
      },
      "source": [
        "fig = plt.figure()\n",
        "axes1 = fig.add_axes([0.1, 0.1, 0.8, 0.8])\n",
        "axes2 = fig.add_axes([0.2, 0.5, 0.4, 0.3])\n",
        "axes1.plot(x, y, 'b')\n",
        "axes1.set_xlabel('X_label_axes1')\n",
        "axes1.set_ylabel('Y_label_axes1')\n",
        "axes1.set_title('Axes 1 Title')\n",
        "axes2.plot(y, x, 'r')\n",
        "axes2.set_xlabel('X_label_axes2')\n",
        "axes2.set_ylabel('Y_label_axes2')\n",
        "axes2.set_title('Axes 2 Title');"
      ],
      "execution_count": 97,
      "outputs": [
        {
          "output_type": "display_data",
          "data": {
            "image/png": "[encoded data removed]",
            "text/plain": [
              "<Figure size 432x288 with 2 Axes>"
            ]
          },
          "metadata": {
            "tags": [],
            "needs_background": "light"
          }
        }
      ]
    },
    {
      "cell_type": "markdown",
      "metadata": {
        "id": "N_K3wTzJ-fwj",
        "colab_type": "text"
      },
      "source": [
        "2) Reproduce another example from FiveThityEight's shared data repository.\n",
        "WARNING: There are a lot of very custom graphs and tables at the above link. I highly recommend not trying to reproduce any that look like a table of values or something really different from the graph types that we are already familiar with. Search through the posts until you find a graph type that you are more or less familiar with: histogram, bar chart, stacked bar chart, line chart, seaborn relplot, etc. Recreating some of the graphics that 538 uses would be a lot easier in Adobe photoshop/illustrator than with matplotlib.\n",
        "\n",
        "If you put in some time to find a graph that looks \"easy\" to replicate you'll probably find that it's not as easy as you thought.\n",
        "\n",
        "If you start with a graph that looks hard to replicate you'll probably run up against a brick wall and be disappointed with your afternoon."
      ]
    },
    {
      "cell_type": "code",
      "metadata": {
        "id": "fzJn-aAL-heC",
        "colab_type": "code",
        "colab": {
          "base_uri": "https://localhost:8080/",
          "height": 199
        },
        "outputId": "20a17b7c-4f3a-42fb-830c-910caf1f0776"
      },
      "source": [
        "!unzip /content/covid-19-polls-master.zip"
      ],
      "execution_count": 224,
      "outputs": [
        {
          "output_type": "stream",
          "text": [
            "Archive:  /content/covid-19-polls-master.zip\n",
            "3141c8c09b0bf0ddf8c62272630acd9b1b6ba0a7\n",
            "replace covid-19-polls-master/README.md? [y]es, [n]o, [A]ll, [N]one, [r]ename: A\n",
            "  inflating: covid-19-polls-master/README.md  \n",
            "  inflating: covid-19-polls-master/covid_approval_polls.csv  \n",
            "  inflating: covid-19-polls-master/covid_approval_polls_adjusted.csv  \n",
            "  inflating: covid-19-polls-master/covid_approval_toplines.csv  \n",
            "  inflating: covid-19-polls-master/covid_concern_polls.csv  \n",
            "  inflating: covid-19-polls-master/covid_concern_polls_adjusted.csv  \n",
            "  inflating: covid-19-polls-master/covid_concern_toplines.csv  \n"
          ],
          "name": "stdout"
        }
      ]
    },
    {
      "cell_type": "code",
      "metadata": {
        "id": "f-gMCmMx_2Jb",
        "colab_type": "code",
        "colab": {
          "base_uri": "https://localhost:8080/",
          "height": 686
        },
        "outputId": "df654526-6444-4533-e655-ef702d73de08"
      },
      "source": [
        "concern_toplines = pd.read_csv('/content/covid-19-polls-master/covid_concern_toplines.csv')\n",
        "concern_toplines"
      ],
      "execution_count": 232,
      "outputs": [
        {
          "output_type": "execute_result",
          "data": {
            "text/html": [
              "<div>\n",
              "<style scoped>\n",
              "    .dataframe tbody tr th:only-of-type {\n",
              "        vertical-align: middle;\n",
              "    }\n",
              "\n",
              "    .dataframe tbody tr th {\n",
              "        vertical-align: top;\n",
              "    }\n",
              "\n",
              "    .dataframe thead th {\n",
              "        text-align: right;\n",
              "    }\n",
              "</style>\n",
              "<table border=\"1\" class=\"dataframe\">\n",
              "  <thead>\n",
              "    <tr style=\"text-align: right;\">\n",
              "      <th></th>\n",
              "      <th>subject</th>\n",
              "      <th>modeldate</th>\n",
              "      <th>party</th>\n",
              "      <th>very_estimate</th>\n",
              "      <th>somewhat_estimate</th>\n",
              "      <th>not_very_estimate</th>\n",
              "      <th>not_at_all_estimate</th>\n",
              "      <th>timestamp</th>\n",
              "    </tr>\n",
              "  </thead>\n",
              "  <tbody>\n",
              "    <tr>\n",
              "      <th>0</th>\n",
              "      <td>concern-infected</td>\n",
              "      <td>5/14/2020</td>\n",
              "      <td>all</td>\n",
              "      <td>31.731098</td>\n",
              "      <td>36.250174</td>\n",
              "      <td>19.809888</td>\n",
              "      <td>11.731546</td>\n",
              "      <td>18:00:12 14 May 2020</td>\n",
              "    </tr>\n",
              "    <tr>\n",
              "      <th>1</th>\n",
              "      <td>concern-economy</td>\n",
              "      <td>5/14/2020</td>\n",
              "      <td>all</td>\n",
              "      <td>55.577297</td>\n",
              "      <td>30.988506</td>\n",
              "      <td>8.653979</td>\n",
              "      <td>3.137298</td>\n",
              "      <td>18:00:11 14 May 2020</td>\n",
              "    </tr>\n",
              "    <tr>\n",
              "      <th>2</th>\n",
              "      <td>concern-infected</td>\n",
              "      <td>5/13/2020</td>\n",
              "      <td>all</td>\n",
              "      <td>31.479767</td>\n",
              "      <td>35.992653</td>\n",
              "      <td>20.049036</td>\n",
              "      <td>11.941353</td>\n",
              "      <td>17:10:10 13 May 2020</td>\n",
              "    </tr>\n",
              "    <tr>\n",
              "      <th>3</th>\n",
              "      <td>concern-economy</td>\n",
              "      <td>5/13/2020</td>\n",
              "      <td>all</td>\n",
              "      <td>55.644390</td>\n",
              "      <td>30.923093</td>\n",
              "      <td>8.790840</td>\n",
              "      <td>3.070668</td>\n",
              "      <td>17:10:09 13 May 2020</td>\n",
              "    </tr>\n",
              "    <tr>\n",
              "      <th>4</th>\n",
              "      <td>concern-infected</td>\n",
              "      <td>5/12/2020</td>\n",
              "      <td>all</td>\n",
              "      <td>32.708295</td>\n",
              "      <td>36.028250</td>\n",
              "      <td>19.416241</td>\n",
              "      <td>11.358560</td>\n",
              "      <td>23:05:11 12 May 2020</td>\n",
              "    </tr>\n",
              "    <tr>\n",
              "      <th>...</th>\n",
              "      <td>...</td>\n",
              "      <td>...</td>\n",
              "      <td>...</td>\n",
              "      <td>...</td>\n",
              "      <td>...</td>\n",
              "      <td>...</td>\n",
              "      <td>...</td>\n",
              "      <td>...</td>\n",
              "    </tr>\n",
              "    <tr>\n",
              "      <th>175</th>\n",
              "      <td>concern-economy</td>\n",
              "      <td>2/17/2020</td>\n",
              "      <td>all</td>\n",
              "      <td>22.756400</td>\n",
              "      <td>32.289010</td>\n",
              "      <td>24.015140</td>\n",
              "      <td>8.969726</td>\n",
              "      <td>17:46:12  2 Apr 2020</td>\n",
              "    </tr>\n",
              "    <tr>\n",
              "      <th>176</th>\n",
              "      <td>concern-economy</td>\n",
              "      <td>2/16/2020</td>\n",
              "      <td>all</td>\n",
              "      <td>22.756400</td>\n",
              "      <td>32.289010</td>\n",
              "      <td>24.015140</td>\n",
              "      <td>8.969726</td>\n",
              "      <td>17:46:12  2 Apr 2020</td>\n",
              "    </tr>\n",
              "    <tr>\n",
              "      <th>177</th>\n",
              "      <td>concern-infected</td>\n",
              "      <td>2/16/2020</td>\n",
              "      <td>all</td>\n",
              "      <td>16.427300</td>\n",
              "      <td>24.806250</td>\n",
              "      <td>37.797340</td>\n",
              "      <td>19.744810</td>\n",
              "      <td>17:46:32  2 Apr 2020</td>\n",
              "    </tr>\n",
              "    <tr>\n",
              "      <th>178</th>\n",
              "      <td>concern-economy</td>\n",
              "      <td>2/15/2020</td>\n",
              "      <td>all</td>\n",
              "      <td>22.756400</td>\n",
              "      <td>32.289010</td>\n",
              "      <td>24.015140</td>\n",
              "      <td>8.969726</td>\n",
              "      <td>17:46:12  2 Apr 2020</td>\n",
              "    </tr>\n",
              "    <tr>\n",
              "      <th>179</th>\n",
              "      <td>concern-infected</td>\n",
              "      <td>2/15/2020</td>\n",
              "      <td>all</td>\n",
              "      <td>11.761800</td>\n",
              "      <td>26.275970</td>\n",
              "      <td>39.080250</td>\n",
              "      <td>19.995290</td>\n",
              "      <td>17:46:33  2 Apr 2020</td>\n",
              "    </tr>\n",
              "  </tbody>\n",
              "</table>\n",
              "<p>180 rows × 8 columns</p>\n",
              "</div>"
            ],
            "text/plain": [
              "              subject  modeldate  ... not_at_all_estimate             timestamp\n",
              "0    concern-infected  5/14/2020  ...           11.731546  18:00:12 14 May 2020\n",
              "1     concern-economy  5/14/2020  ...            3.137298  18:00:11 14 May 2020\n",
              "2    concern-infected  5/13/2020  ...           11.941353  17:10:10 13 May 2020\n",
              "3     concern-economy  5/13/2020  ...            3.070668  17:10:09 13 May 2020\n",
              "4    concern-infected  5/12/2020  ...           11.358560  23:05:11 12 May 2020\n",
              "..                ...        ...  ...                 ...                   ...\n",
              "175   concern-economy  2/17/2020  ...            8.969726  17:46:12  2 Apr 2020\n",
              "176   concern-economy  2/16/2020  ...            8.969726  17:46:12  2 Apr 2020\n",
              "177  concern-infected  2/16/2020  ...           19.744810  17:46:32  2 Apr 2020\n",
              "178   concern-economy  2/15/2020  ...            8.969726  17:46:12  2 Apr 2020\n",
              "179  concern-infected  2/15/2020  ...           19.995290  17:46:33  2 Apr 2020\n",
              "\n",
              "[180 rows x 8 columns]"
            ]
          },
          "metadata": {
            "tags": []
          },
          "execution_count": 232
        }
      ]
    },
    {
      "cell_type": "code",
      "metadata": {
        "id": "7dIUuZxXAw96",
        "colab_type": "code",
        "colab": {
          "base_uri": "https://localhost:8080/",
          "height": 285
        },
        "outputId": "7559f3e6-5cb0-497e-f2f6-6a4a7d160ddd"
      },
      "source": [
        "concern_toplines_reduced = concern_toplines[['subject', 'modeldate', 'very_estimate', 'somewhat_estimate', \n",
        "                    'not_very_estimate', 'not_at_all_estimate']]\n",
        "concern_toplines_reduced.head()"
      ],
      "execution_count": 226,
      "outputs": [
        {
          "output_type": "execute_result",
          "data": {
            "text/html": [
              "<div>\n",
              "<style scoped>\n",
              "    .dataframe tbody tr th:only-of-type {\n",
              "        vertical-align: middle;\n",
              "    }\n",
              "\n",
              "    .dataframe tbody tr th {\n",
              "        vertical-align: top;\n",
              "    }\n",
              "\n",
              "    .dataframe thead th {\n",
              "        text-align: right;\n",
              "    }\n",
              "</style>\n",
              "<table border=\"1\" class=\"dataframe\">\n",
              "  <thead>\n",
              "    <tr style=\"text-align: right;\">\n",
              "      <th></th>\n",
              "      <th>subject</th>\n",
              "      <th>modeldate</th>\n",
              "      <th>very_estimate</th>\n",
              "      <th>somewhat_estimate</th>\n",
              "      <th>not_very_estimate</th>\n",
              "      <th>not_at_all_estimate</th>\n",
              "    </tr>\n",
              "  </thead>\n",
              "  <tbody>\n",
              "    <tr>\n",
              "      <th>0</th>\n",
              "      <td>concern-infected</td>\n",
              "      <td>5/14/2020</td>\n",
              "      <td>31.731098</td>\n",
              "      <td>36.250174</td>\n",
              "      <td>19.809888</td>\n",
              "      <td>11.731546</td>\n",
              "    </tr>\n",
              "    <tr>\n",
              "      <th>1</th>\n",
              "      <td>concern-economy</td>\n",
              "      <td>5/14/2020</td>\n",
              "      <td>55.577297</td>\n",
              "      <td>30.988506</td>\n",
              "      <td>8.653979</td>\n",
              "      <td>3.137298</td>\n",
              "    </tr>\n",
              "    <tr>\n",
              "      <th>2</th>\n",
              "      <td>concern-infected</td>\n",
              "      <td>5/13/2020</td>\n",
              "      <td>31.479767</td>\n",
              "      <td>35.992653</td>\n",
              "      <td>20.049036</td>\n",
              "      <td>11.941353</td>\n",
              "    </tr>\n",
              "    <tr>\n",
              "      <th>3</th>\n",
              "      <td>concern-economy</td>\n",
              "      <td>5/13/2020</td>\n",
              "      <td>55.644390</td>\n",
              "      <td>30.923093</td>\n",
              "      <td>8.790840</td>\n",
              "      <td>3.070668</td>\n",
              "    </tr>\n",
              "    <tr>\n",
              "      <th>4</th>\n",
              "      <td>concern-infected</td>\n",
              "      <td>5/12/2020</td>\n",
              "      <td>32.708295</td>\n",
              "      <td>36.028250</td>\n",
              "      <td>19.416241</td>\n",
              "      <td>11.358560</td>\n",
              "    </tr>\n",
              "  </tbody>\n",
              "</table>\n",
              "</div>"
            ],
            "text/plain": [
              "            subject  modeldate  ...  not_very_estimate  not_at_all_estimate\n",
              "0  concern-infected  5/14/2020  ...          19.809888            11.731546\n",
              "1   concern-economy  5/14/2020  ...           8.653979             3.137298\n",
              "2  concern-infected  5/13/2020  ...          20.049036            11.941353\n",
              "3   concern-economy  5/13/2020  ...           8.790840             3.070668\n",
              "4  concern-infected  5/12/2020  ...          19.416241            11.358560\n",
              "\n",
              "[5 rows x 6 columns]"
            ]
          },
          "metadata": {
            "tags": []
          },
          "execution_count": 226
        }
      ]
    },
    {
      "cell_type": "code",
      "metadata": {
        "id": "jVTN-PTGDmeH",
        "colab_type": "code",
        "colab": {
          "base_uri": "https://localhost:8080/",
          "height": 600
        },
        "outputId": "a93c8212-188f-4648-8c9c-56004f611575"
      },
      "source": [
        "condition = concern_toplines_reduced['subject'] == 'concern-infected'\n",
        "infected_toplines = concern_toplines_reduced[condition]\n",
        "infected_toplines"
      ],
      "execution_count": 227,
      "outputs": [
        {
          "output_type": "execute_result",
          "data": {
            "text/html": [
              "<div>\n",
              "<style scoped>\n",
              "    .dataframe tbody tr th:only-of-type {\n",
              "        vertical-align: middle;\n",
              "    }\n",
              "\n",
              "    .dataframe tbody tr th {\n",
              "        vertical-align: top;\n",
              "    }\n",
              "\n",
              "    .dataframe thead th {\n",
              "        text-align: right;\n",
              "    }\n",
              "</style>\n",
              "<table border=\"1\" class=\"dataframe\">\n",
              "  <thead>\n",
              "    <tr style=\"text-align: right;\">\n",
              "      <th></th>\n",
              "      <th>subject</th>\n",
              "      <th>modeldate</th>\n",
              "      <th>very_estimate</th>\n",
              "      <th>somewhat_estimate</th>\n",
              "      <th>not_very_estimate</th>\n",
              "      <th>not_at_all_estimate</th>\n",
              "    </tr>\n",
              "  </thead>\n",
              "  <tbody>\n",
              "    <tr>\n",
              "      <th>0</th>\n",
              "      <td>concern-infected</td>\n",
              "      <td>5/14/2020</td>\n",
              "      <td>31.731098</td>\n",
              "      <td>36.250174</td>\n",
              "      <td>19.809888</td>\n",
              "      <td>11.731546</td>\n",
              "    </tr>\n",
              "    <tr>\n",
              "      <th>2</th>\n",
              "      <td>concern-infected</td>\n",
              "      <td>5/13/2020</td>\n",
              "      <td>31.479767</td>\n",
              "      <td>35.992653</td>\n",
              "      <td>20.049036</td>\n",
              "      <td>11.941353</td>\n",
              "    </tr>\n",
              "    <tr>\n",
              "      <th>4</th>\n",
              "      <td>concern-infected</td>\n",
              "      <td>5/12/2020</td>\n",
              "      <td>32.708295</td>\n",
              "      <td>36.028250</td>\n",
              "      <td>19.416241</td>\n",
              "      <td>11.358560</td>\n",
              "    </tr>\n",
              "    <tr>\n",
              "      <th>6</th>\n",
              "      <td>concern-infected</td>\n",
              "      <td>5/11/2020</td>\n",
              "      <td>32.834497</td>\n",
              "      <td>35.970886</td>\n",
              "      <td>19.390422</td>\n",
              "      <td>11.301951</td>\n",
              "    </tr>\n",
              "    <tr>\n",
              "      <th>8</th>\n",
              "      <td>concern-infected</td>\n",
              "      <td>5/10/2020</td>\n",
              "      <td>32.816567</td>\n",
              "      <td>35.953075</td>\n",
              "      <td>19.422994</td>\n",
              "      <td>11.314738</td>\n",
              "    </tr>\n",
              "    <tr>\n",
              "      <th>...</th>\n",
              "      <td>...</td>\n",
              "      <td>...</td>\n",
              "      <td>...</td>\n",
              "      <td>...</td>\n",
              "      <td>...</td>\n",
              "      <td>...</td>\n",
              "    </tr>\n",
              "    <tr>\n",
              "      <th>171</th>\n",
              "      <td>concern-infected</td>\n",
              "      <td>2/19/2020</td>\n",
              "      <td>18.434920</td>\n",
              "      <td>23.517890</td>\n",
              "      <td>36.318410</td>\n",
              "      <td>20.996640</td>\n",
              "    </tr>\n",
              "    <tr>\n",
              "      <th>172</th>\n",
              "      <td>concern-infected</td>\n",
              "      <td>2/18/2020</td>\n",
              "      <td>18.434920</td>\n",
              "      <td>23.517890</td>\n",
              "      <td>36.318410</td>\n",
              "      <td>20.996640</td>\n",
              "    </tr>\n",
              "    <tr>\n",
              "      <th>174</th>\n",
              "      <td>concern-infected</td>\n",
              "      <td>2/17/2020</td>\n",
              "      <td>16.427300</td>\n",
              "      <td>24.806250</td>\n",
              "      <td>37.797340</td>\n",
              "      <td>19.744810</td>\n",
              "    </tr>\n",
              "    <tr>\n",
              "      <th>177</th>\n",
              "      <td>concern-infected</td>\n",
              "      <td>2/16/2020</td>\n",
              "      <td>16.427300</td>\n",
              "      <td>24.806250</td>\n",
              "      <td>37.797340</td>\n",
              "      <td>19.744810</td>\n",
              "    </tr>\n",
              "    <tr>\n",
              "      <th>179</th>\n",
              "      <td>concern-infected</td>\n",
              "      <td>2/15/2020</td>\n",
              "      <td>11.761800</td>\n",
              "      <td>26.275970</td>\n",
              "      <td>39.080250</td>\n",
              "      <td>19.995290</td>\n",
              "    </tr>\n",
              "  </tbody>\n",
              "</table>\n",
              "<p>90 rows × 6 columns</p>\n",
              "</div>"
            ],
            "text/plain": [
              "              subject  modeldate  ...  not_very_estimate  not_at_all_estimate\n",
              "0    concern-infected  5/14/2020  ...          19.809888            11.731546\n",
              "2    concern-infected  5/13/2020  ...          20.049036            11.941353\n",
              "4    concern-infected  5/12/2020  ...          19.416241            11.358560\n",
              "6    concern-infected  5/11/2020  ...          19.390422            11.301951\n",
              "8    concern-infected  5/10/2020  ...          19.422994            11.314738\n",
              "..                ...        ...  ...                ...                  ...\n",
              "171  concern-infected  2/19/2020  ...          36.318410            20.996640\n",
              "172  concern-infected  2/18/2020  ...          36.318410            20.996640\n",
              "174  concern-infected  2/17/2020  ...          37.797340            19.744810\n",
              "177  concern-infected  2/16/2020  ...          37.797340            19.744810\n",
              "179  concern-infected  2/15/2020  ...          39.080250            19.995290\n",
              "\n",
              "[90 rows x 6 columns]"
            ]
          },
          "metadata": {
            "tags": []
          },
          "execution_count": 227
        }
      ]
    },
    {
      "cell_type": "code",
      "metadata": {
        "id": "frvI5SP1GGM6",
        "colab_type": "code",
        "colab": {
          "base_uri": "https://localhost:8080/",
          "height": 146
        },
        "outputId": "f7d5a932-bd6b-45ee-d3bc-75e675cbff66"
      },
      "source": [
        "infected_toplines['modeldate'] = pd.to_datetime(infected_toplines['modeldate'])"
      ],
      "execution_count": 228,
      "outputs": [
        {
          "output_type": "stream",
          "text": [
            "/usr/local/lib/python3.6/dist-packages/ipykernel_launcher.py:1: SettingWithCopyWarning: \n",
            "A value is trying to be set on a copy of a slice from a DataFrame.\n",
            "Try using .loc[row_indexer,col_indexer] = value instead\n",
            "\n",
            "See the caveats in the documentation: https://pandas.pydata.org/pandas-docs/stable/user_guide/indexing.html#returning-a-view-versus-a-copy\n",
            "  \"\"\"Entry point for launching an IPython kernel.\n"
          ],
          "name": "stderr"
        }
      ]
    },
    {
      "cell_type": "code",
      "metadata": {
        "id": "EnxQZLsCKdt6",
        "colab_type": "code",
        "colab": {}
      },
      "source": [
        "plt.style.use('fivethirtyeight')"
      ],
      "execution_count": 0,
      "outputs": []
    },
    {
      "cell_type": "code",
      "metadata": {
        "id": "oz2XuH6LEM14",
        "colab_type": "code",
        "colab": {
          "base_uri": "https://localhost:8080/",
          "height": 337
        },
        "outputId": "5e3da969-3421-450e-ceae-4aa96474a3ba"
      },
      "source": [
        "concerns = ['very_estimate', 'somewhat_estimate', 'not_very_estimate', 'not_at_all_estimate']\n",
        "mycolors = ['#f26739', '#feaa87', '#daafd6', '#bf7cbb']\n",
        "for x in [0,1,2,3]:\n",
        "  infected_toplines.groupby('modeldate')[concerns[x]].max().plot(figsize = (12,4), color = mycolors[x])"
      ],
      "execution_count": 230,
      "outputs": [
        {
          "output_type": "display_data",
          "data": {
            "image/png": "[encoded data removed]",
            "text/plain": [
              "<Figure size 864x288 with 1 Axes>"
            ]
          },
          "metadata": {
            "tags": []
          }
        }
      ]
    },
    {
      "cell_type": "code",
      "metadata": {
        "id": "tuRA79GGWhT-",
        "colab_type": "code",
        "colab": {
          "base_uri": "https://localhost:8080/",
          "height": 1000
        },
        "outputId": "8530888b-d012-4824-a3f1-6d7a26f28dd9"
      },
      "source": [
        "concern_polls = pd.read_csv('/content/covid-19-polls-master/covid_concern_polls.csv')\n",
        "concern_polls"
      ],
      "execution_count": 233,
      "outputs": [
        {
          "output_type": "execute_result",
          "data": {
            "text/html": [
              "<div>\n",
              "<style scoped>\n",
              "    .dataframe tbody tr th:only-of-type {\n",
              "        vertical-align: middle;\n",
              "    }\n",
              "\n",
              "    .dataframe tbody tr th {\n",
              "        vertical-align: top;\n",
              "    }\n",
              "\n",
              "    .dataframe thead th {\n",
              "        text-align: right;\n",
              "    }\n",
              "</style>\n",
              "<table border=\"1\" class=\"dataframe\">\n",
              "  <thead>\n",
              "    <tr style=\"text-align: right;\">\n",
              "      <th></th>\n",
              "      <th>start_date</th>\n",
              "      <th>end_date</th>\n",
              "      <th>pollster</th>\n",
              "      <th>sponsor</th>\n",
              "      <th>sample_size</th>\n",
              "      <th>population</th>\n",
              "      <th>party</th>\n",
              "      <th>subject</th>\n",
              "      <th>tracking</th>\n",
              "      <th>text</th>\n",
              "      <th>very</th>\n",
              "      <th>somewhat</th>\n",
              "      <th>not_very</th>\n",
              "      <th>not_at_all</th>\n",
              "      <th>url</th>\n",
              "    </tr>\n",
              "  </thead>\n",
              "  <tbody>\n",
              "    <tr>\n",
              "      <th>0</th>\n",
              "      <td>2020-05-08</td>\n",
              "      <td>2020-05-13</td>\n",
              "      <td>Global Strategy Group/GBAO/Navigator Research</td>\n",
              "      <td>NaN</td>\n",
              "      <td>1010</td>\n",
              "      <td>rv</td>\n",
              "      <td>all</td>\n",
              "      <td>concern-economy</td>\n",
              "      <td>True</td>\n",
              "      <td>Below are some things some people might be wor...</td>\n",
              "      <td>45.0</td>\n",
              "      <td>41.0</td>\n",
              "      <td>9.0</td>\n",
              "      <td>4.0</td>\n",
              "      <td>https://navigatorresearch.org/wp-content/uploa...</td>\n",
              "    </tr>\n",
              "    <tr>\n",
              "      <th>1</th>\n",
              "      <td>2020-05-07</td>\n",
              "      <td>2020-05-12</td>\n",
              "      <td>Global Strategy Group/GBAO/Navigator Research</td>\n",
              "      <td>NaN</td>\n",
              "      <td>1009</td>\n",
              "      <td>rv</td>\n",
              "      <td>all</td>\n",
              "      <td>concern-economy</td>\n",
              "      <td>True</td>\n",
              "      <td>Below are some things some people might be wor...</td>\n",
              "      <td>45.0</td>\n",
              "      <td>41.0</td>\n",
              "      <td>11.0</td>\n",
              "      <td>3.0</td>\n",
              "      <td>https://navigatorresearch.org/wp-content/uploa...</td>\n",
              "    </tr>\n",
              "    <tr>\n",
              "      <th>2</th>\n",
              "      <td>2020-05-08</td>\n",
              "      <td>2020-05-11</td>\n",
              "      <td>Ipsos (online)</td>\n",
              "      <td>Axios</td>\n",
              "      <td>980</td>\n",
              "      <td>a</td>\n",
              "      <td>all</td>\n",
              "      <td>concern-economy</td>\n",
              "      <td>False</td>\n",
              "      <td>How concerned are you, if at all, with the fol...</td>\n",
              "      <td>60.0</td>\n",
              "      <td>28.0</td>\n",
              "      <td>8.0</td>\n",
              "      <td>3.0</td>\n",
              "      <td>https://www.ipsos.com/sites/default/files/ct/n...</td>\n",
              "    </tr>\n",
              "    <tr>\n",
              "      <th>3</th>\n",
              "      <td>2020-05-06</td>\n",
              "      <td>2020-05-11</td>\n",
              "      <td>Global Strategy Group/GBAO/Navigator Research</td>\n",
              "      <td>NaN</td>\n",
              "      <td>1020</td>\n",
              "      <td>rv</td>\n",
              "      <td>all</td>\n",
              "      <td>concern-economy</td>\n",
              "      <td>True</td>\n",
              "      <td>Below are some things some people might be wor...</td>\n",
              "      <td>48.0</td>\n",
              "      <td>40.0</td>\n",
              "      <td>9.0</td>\n",
              "      <td>3.0</td>\n",
              "      <td>https://navigatorresearch.org/wp-content/uploa...</td>\n",
              "    </tr>\n",
              "    <tr>\n",
              "      <th>4</th>\n",
              "      <td>2020-05-08</td>\n",
              "      <td>2020-05-10</td>\n",
              "      <td>Harris Poll</td>\n",
              "      <td>NaN</td>\n",
              "      <td>2030</td>\n",
              "      <td>a</td>\n",
              "      <td>all</td>\n",
              "      <td>concern-economy</td>\n",
              "      <td>False</td>\n",
              "      <td>How concerned are you about the impact coronav...</td>\n",
              "      <td>51.0</td>\n",
              "      <td>33.0</td>\n",
              "      <td>11.0</td>\n",
              "      <td>5.0</td>\n",
              "      <td>https://theharrispoll.com/wp-content/uploads/2...</td>\n",
              "    </tr>\n",
              "    <tr>\n",
              "      <th>...</th>\n",
              "      <td>...</td>\n",
              "      <td>...</td>\n",
              "      <td>...</td>\n",
              "      <td>...</td>\n",
              "      <td>...</td>\n",
              "      <td>...</td>\n",
              "      <td>...</td>\n",
              "      <td>...</td>\n",
              "      <td>...</td>\n",
              "      <td>...</td>\n",
              "      <td>...</td>\n",
              "      <td>...</td>\n",
              "      <td>...</td>\n",
              "      <td>...</td>\n",
              "      <td>...</td>\n",
              "    </tr>\n",
              "    <tr>\n",
              "      <th>274</th>\n",
              "      <td>2020-02-13</td>\n",
              "      <td>2020-02-18</td>\n",
              "      <td>Kaiser Family Foundation</td>\n",
              "      <td>NaN</td>\n",
              "      <td>1207</td>\n",
              "      <td>a</td>\n",
              "      <td>all</td>\n",
              "      <td>concern-infected</td>\n",
              "      <td>False</td>\n",
              "      <td>How concerned, if at all, are you that you or ...</td>\n",
              "      <td>22.0</td>\n",
              "      <td>21.0</td>\n",
              "      <td>33.0</td>\n",
              "      <td>23.0</td>\n",
              "      <td>http://files.kff.org/attachment/Topline-KFF-He...</td>\n",
              "    </tr>\n",
              "    <tr>\n",
              "      <th>275</th>\n",
              "      <td>2020-02-13</td>\n",
              "      <td>2020-02-16</td>\n",
              "      <td>AP-NORC</td>\n",
              "      <td>NaN</td>\n",
              "      <td>1074</td>\n",
              "      <td>a</td>\n",
              "      <td>all</td>\n",
              "      <td>concern-infected</td>\n",
              "      <td>False</td>\n",
              "      <td>How worried are you about you or someone in yo...</td>\n",
              "      <td>22.0</td>\n",
              "      <td>23.0</td>\n",
              "      <td>37.0</td>\n",
              "      <td>19.0</td>\n",
              "      <td>http://www.apnorc.org/PDFs/Omnibus%202020/Febr...</td>\n",
              "    </tr>\n",
              "    <tr>\n",
              "      <th>276</th>\n",
              "      <td>2020-02-09</td>\n",
              "      <td>2020-02-11</td>\n",
              "      <td>YouGov</td>\n",
              "      <td>Economist</td>\n",
              "      <td>1500</td>\n",
              "      <td>a</td>\n",
              "      <td>all</td>\n",
              "      <td>concern-infected</td>\n",
              "      <td>False</td>\n",
              "      <td>Taking into consideration both your risk of co...</td>\n",
              "      <td>11.0</td>\n",
              "      <td>28.0</td>\n",
              "      <td>39.0</td>\n",
              "      <td>22.0</td>\n",
              "      <td>https://d25d2506sfb94s.cloudfront.net/cumulus_...</td>\n",
              "    </tr>\n",
              "    <tr>\n",
              "      <th>277</th>\n",
              "      <td>2020-02-07</td>\n",
              "      <td>2020-02-09</td>\n",
              "      <td>YouGov</td>\n",
              "      <td>Huffington Post</td>\n",
              "      <td>1000</td>\n",
              "      <td>a</td>\n",
              "      <td>all</td>\n",
              "      <td>concern-infected</td>\n",
              "      <td>False</td>\n",
              "      <td>How concerned are you that you or someone in y...</td>\n",
              "      <td>11.0</td>\n",
              "      <td>24.0</td>\n",
              "      <td>33.0</td>\n",
              "      <td>20.0</td>\n",
              "      <td>https://projects.fivethirtyeight.com/polls/202...</td>\n",
              "    </tr>\n",
              "    <tr>\n",
              "      <th>278</th>\n",
              "      <td>2020-02-02</td>\n",
              "      <td>2020-02-04</td>\n",
              "      <td>YouGov</td>\n",
              "      <td>Economist</td>\n",
              "      <td>1500</td>\n",
              "      <td>a</td>\n",
              "      <td>all</td>\n",
              "      <td>concern-infected</td>\n",
              "      <td>False</td>\n",
              "      <td>Taking into consideration both your risk of co...</td>\n",
              "      <td>13.0</td>\n",
              "      <td>26.0</td>\n",
              "      <td>43.0</td>\n",
              "      <td>18.0</td>\n",
              "      <td>https://d25d2506sfb94s.cloudfront.net/cumulus_...</td>\n",
              "    </tr>\n",
              "  </tbody>\n",
              "</table>\n",
              "<p>279 rows × 15 columns</p>\n",
              "</div>"
            ],
            "text/plain": [
              "     start_date  ...                                                url\n",
              "0    2020-05-08  ...  https://navigatorresearch.org/wp-content/uploa...\n",
              "1    2020-05-07  ...  https://navigatorresearch.org/wp-content/uploa...\n",
              "2    2020-05-08  ...  https://www.ipsos.com/sites/default/files/ct/n...\n",
              "3    2020-05-06  ...  https://navigatorresearch.org/wp-content/uploa...\n",
              "4    2020-05-08  ...  https://theharrispoll.com/wp-content/uploads/2...\n",
              "..          ...  ...                                                ...\n",
              "274  2020-02-13  ...  http://files.kff.org/attachment/Topline-KFF-He...\n",
              "275  2020-02-13  ...  http://www.apnorc.org/PDFs/Omnibus%202020/Febr...\n",
              "276  2020-02-09  ...  https://d25d2506sfb94s.cloudfront.net/cumulus_...\n",
              "277  2020-02-07  ...  https://projects.fivethirtyeight.com/polls/202...\n",
              "278  2020-02-02  ...  https://d25d2506sfb94s.cloudfront.net/cumulus_...\n",
              "\n",
              "[279 rows x 15 columns]"
            ]
          },
          "metadata": {
            "tags": []
          },
          "execution_count": 233
        }
      ]
    },
    {
      "cell_type": "code",
      "metadata": {
        "id": "gklRE733W0m8",
        "colab_type": "code",
        "colab": {
          "base_uri": "https://localhost:8080/",
          "height": 407
        },
        "outputId": "c4dab450-6279-497a-8c8d-9f73ec2360c7"
      },
      "source": [
        "concern_polls_reduced = concern_polls[['subject', 'start_date', 'end_date', 'very', 'somewhat', \n",
        "                    'not_very', 'not_at_all']]\n",
        "concern_polls_reduced"
      ],
      "execution_count": 236,
      "outputs": [
        {
          "output_type": "execute_result",
          "data": {
            "text/html": [
              "<div>\n",
              "<style scoped>\n",
              "    .dataframe tbody tr th:only-of-type {\n",
              "        vertical-align: middle;\n",
              "    }\n",
              "\n",
              "    .dataframe tbody tr th {\n",
              "        vertical-align: top;\n",
              "    }\n",
              "\n",
              "    .dataframe thead th {\n",
              "        text-align: right;\n",
              "    }\n",
              "</style>\n",
              "<table border=\"1\" class=\"dataframe\">\n",
              "  <thead>\n",
              "    <tr style=\"text-align: right;\">\n",
              "      <th></th>\n",
              "      <th>subject</th>\n",
              "      <th>start_date</th>\n",
              "      <th>end_date</th>\n",
              "      <th>very</th>\n",
              "      <th>somewhat</th>\n",
              "      <th>not_very</th>\n",
              "      <th>not_at_all</th>\n",
              "    </tr>\n",
              "  </thead>\n",
              "  <tbody>\n",
              "    <tr>\n",
              "      <th>0</th>\n",
              "      <td>concern-economy</td>\n",
              "      <td>2020-05-08</td>\n",
              "      <td>2020-05-13</td>\n",
              "      <td>45.0</td>\n",
              "      <td>41.0</td>\n",
              "      <td>9.0</td>\n",
              "      <td>4.0</td>\n",
              "    </tr>\n",
              "    <tr>\n",
              "      <th>1</th>\n",
              "      <td>concern-economy</td>\n",
              "      <td>2020-05-07</td>\n",
              "      <td>2020-05-12</td>\n",
              "      <td>45.0</td>\n",
              "      <td>41.0</td>\n",
              "      <td>11.0</td>\n",
              "      <td>3.0</td>\n",
              "    </tr>\n",
              "    <tr>\n",
              "      <th>2</th>\n",
              "      <td>concern-economy</td>\n",
              "      <td>2020-05-08</td>\n",
              "      <td>2020-05-11</td>\n",
              "      <td>60.0</td>\n",
              "      <td>28.0</td>\n",
              "      <td>8.0</td>\n",
              "      <td>3.0</td>\n",
              "    </tr>\n",
              "    <tr>\n",
              "      <th>3</th>\n",
              "      <td>concern-economy</td>\n",
              "      <td>2020-05-06</td>\n",
              "      <td>2020-05-11</td>\n",
              "      <td>48.0</td>\n",
              "      <td>40.0</td>\n",
              "      <td>9.0</td>\n",
              "      <td>3.0</td>\n",
              "    </tr>\n",
              "    <tr>\n",
              "      <th>4</th>\n",
              "      <td>concern-economy</td>\n",
              "      <td>2020-05-08</td>\n",
              "      <td>2020-05-10</td>\n",
              "      <td>51.0</td>\n",
              "      <td>33.0</td>\n",
              "      <td>11.0</td>\n",
              "      <td>5.0</td>\n",
              "    </tr>\n",
              "    <tr>\n",
              "      <th>...</th>\n",
              "      <td>...</td>\n",
              "      <td>...</td>\n",
              "      <td>...</td>\n",
              "      <td>...</td>\n",
              "      <td>...</td>\n",
              "      <td>...</td>\n",
              "      <td>...</td>\n",
              "    </tr>\n",
              "    <tr>\n",
              "      <th>274</th>\n",
              "      <td>concern-infected</td>\n",
              "      <td>2020-02-13</td>\n",
              "      <td>2020-02-18</td>\n",
              "      <td>22.0</td>\n",
              "      <td>21.0</td>\n",
              "      <td>33.0</td>\n",
              "      <td>23.0</td>\n",
              "    </tr>\n",
              "    <tr>\n",
              "      <th>275</th>\n",
              "      <td>concern-infected</td>\n",
              "      <td>2020-02-13</td>\n",
              "      <td>2020-02-16</td>\n",
              "      <td>22.0</td>\n",
              "      <td>23.0</td>\n",
              "      <td>37.0</td>\n",
              "      <td>19.0</td>\n",
              "    </tr>\n",
              "    <tr>\n",
              "      <th>276</th>\n",
              "      <td>concern-infected</td>\n",
              "      <td>2020-02-09</td>\n",
              "      <td>2020-02-11</td>\n",
              "      <td>11.0</td>\n",
              "      <td>28.0</td>\n",
              "      <td>39.0</td>\n",
              "      <td>22.0</td>\n",
              "    </tr>\n",
              "    <tr>\n",
              "      <th>277</th>\n",
              "      <td>concern-infected</td>\n",
              "      <td>2020-02-07</td>\n",
              "      <td>2020-02-09</td>\n",
              "      <td>11.0</td>\n",
              "      <td>24.0</td>\n",
              "      <td>33.0</td>\n",
              "      <td>20.0</td>\n",
              "    </tr>\n",
              "    <tr>\n",
              "      <th>278</th>\n",
              "      <td>concern-infected</td>\n",
              "      <td>2020-02-02</td>\n",
              "      <td>2020-02-04</td>\n",
              "      <td>13.0</td>\n",
              "      <td>26.0</td>\n",
              "      <td>43.0</td>\n",
              "      <td>18.0</td>\n",
              "    </tr>\n",
              "  </tbody>\n",
              "</table>\n",
              "<p>279 rows × 7 columns</p>\n",
              "</div>"
            ],
            "text/plain": [
              "              subject  start_date    end_date  ...  somewhat  not_very  not_at_all\n",
              "0     concern-economy  2020-05-08  2020-05-13  ...      41.0       9.0         4.0\n",
              "1     concern-economy  2020-05-07  2020-05-12  ...      41.0      11.0         3.0\n",
              "2     concern-economy  2020-05-08  2020-05-11  ...      28.0       8.0         3.0\n",
              "3     concern-economy  2020-05-06  2020-05-11  ...      40.0       9.0         3.0\n",
              "4     concern-economy  2020-05-08  2020-05-10  ...      33.0      11.0         5.0\n",
              "..                ...         ...         ...  ...       ...       ...         ...\n",
              "274  concern-infected  2020-02-13  2020-02-18  ...      21.0      33.0        23.0\n",
              "275  concern-infected  2020-02-13  2020-02-16  ...      23.0      37.0        19.0\n",
              "276  concern-infected  2020-02-09  2020-02-11  ...      28.0      39.0        22.0\n",
              "277  concern-infected  2020-02-07  2020-02-09  ...      24.0      33.0        20.0\n",
              "278  concern-infected  2020-02-02  2020-02-04  ...      26.0      43.0        18.0\n",
              "\n",
              "[279 rows x 7 columns]"
            ]
          },
          "metadata": {
            "tags": []
          },
          "execution_count": 236
        }
      ]
    },
    {
      "cell_type": "code",
      "metadata": {
        "id": "eJGfNIdmY1sO",
        "colab_type": "code",
        "colab": {
          "base_uri": "https://localhost:8080/",
          "height": 407
        },
        "outputId": "5d88fa56-c090-4937-83f1-e7eaa3011736"
      },
      "source": [
        "condition = concern_polls_reduced['subject'] == 'concern-infected'\n",
        "infected = concern_polls_reduced[condition]\n",
        "infected"
      ],
      "execution_count": 237,
      "outputs": [
        {
          "output_type": "execute_result",
          "data": {
            "text/html": [
              "<div>\n",
              "<style scoped>\n",
              "    .dataframe tbody tr th:only-of-type {\n",
              "        vertical-align: middle;\n",
              "    }\n",
              "\n",
              "    .dataframe tbody tr th {\n",
              "        vertical-align: top;\n",
              "    }\n",
              "\n",
              "    .dataframe thead th {\n",
              "        text-align: right;\n",
              "    }\n",
              "</style>\n",
              "<table border=\"1\" class=\"dataframe\">\n",
              "  <thead>\n",
              "    <tr style=\"text-align: right;\">\n",
              "      <th></th>\n",
              "      <th>subject</th>\n",
              "      <th>start_date</th>\n",
              "      <th>end_date</th>\n",
              "      <th>very</th>\n",
              "      <th>somewhat</th>\n",
              "      <th>not_very</th>\n",
              "      <th>not_at_all</th>\n",
              "    </tr>\n",
              "  </thead>\n",
              "  <tbody>\n",
              "    <tr>\n",
              "      <th>81</th>\n",
              "      <td>concern-infected</td>\n",
              "      <td>2020-05-13</td>\n",
              "      <td>2020-05-14</td>\n",
              "      <td>36.00</td>\n",
              "      <td>43.00</td>\n",
              "      <td>17.00</td>\n",
              "      <td>5.00</td>\n",
              "    </tr>\n",
              "    <tr>\n",
              "      <th>82</th>\n",
              "      <td>concern-infected</td>\n",
              "      <td>2020-05-11</td>\n",
              "      <td>2020-05-13</td>\n",
              "      <td>32.00</td>\n",
              "      <td>40.00</td>\n",
              "      <td>18.00</td>\n",
              "      <td>9.00</td>\n",
              "    </tr>\n",
              "    <tr>\n",
              "      <th>83</th>\n",
              "      <td>concern-infected</td>\n",
              "      <td>2020-05-08</td>\n",
              "      <td>2020-05-13</td>\n",
              "      <td>45.00</td>\n",
              "      <td>34.00</td>\n",
              "      <td>15.00</td>\n",
              "      <td>7.00</td>\n",
              "    </tr>\n",
              "    <tr>\n",
              "      <th>84</th>\n",
              "      <td>concern-infected</td>\n",
              "      <td>2020-05-08</td>\n",
              "      <td>2020-05-13</td>\n",
              "      <td>30.00</td>\n",
              "      <td>35.00</td>\n",
              "      <td>24.00</td>\n",
              "      <td>11.00</td>\n",
              "    </tr>\n",
              "    <tr>\n",
              "      <th>85</th>\n",
              "      <td>concern-infected</td>\n",
              "      <td>2020-05-12</td>\n",
              "      <td>2020-05-12</td>\n",
              "      <td>33.67</td>\n",
              "      <td>39.51</td>\n",
              "      <td>16.44</td>\n",
              "      <td>9.85</td>\n",
              "    </tr>\n",
              "    <tr>\n",
              "      <th>...</th>\n",
              "      <td>...</td>\n",
              "      <td>...</td>\n",
              "      <td>...</td>\n",
              "      <td>...</td>\n",
              "      <td>...</td>\n",
              "      <td>...</td>\n",
              "      <td>...</td>\n",
              "    </tr>\n",
              "    <tr>\n",
              "      <th>274</th>\n",
              "      <td>concern-infected</td>\n",
              "      <td>2020-02-13</td>\n",
              "      <td>2020-02-18</td>\n",
              "      <td>22.00</td>\n",
              "      <td>21.00</td>\n",
              "      <td>33.00</td>\n",
              "      <td>23.00</td>\n",
              "    </tr>\n",
              "    <tr>\n",
              "      <th>275</th>\n",
              "      <td>concern-infected</td>\n",
              "      <td>2020-02-13</td>\n",
              "      <td>2020-02-16</td>\n",
              "      <td>22.00</td>\n",
              "      <td>23.00</td>\n",
              "      <td>37.00</td>\n",
              "      <td>19.00</td>\n",
              "    </tr>\n",
              "    <tr>\n",
              "      <th>276</th>\n",
              "      <td>concern-infected</td>\n",
              "      <td>2020-02-09</td>\n",
              "      <td>2020-02-11</td>\n",
              "      <td>11.00</td>\n",
              "      <td>28.00</td>\n",
              "      <td>39.00</td>\n",
              "      <td>22.00</td>\n",
              "    </tr>\n",
              "    <tr>\n",
              "      <th>277</th>\n",
              "      <td>concern-infected</td>\n",
              "      <td>2020-02-07</td>\n",
              "      <td>2020-02-09</td>\n",
              "      <td>11.00</td>\n",
              "      <td>24.00</td>\n",
              "      <td>33.00</td>\n",
              "      <td>20.00</td>\n",
              "    </tr>\n",
              "    <tr>\n",
              "      <th>278</th>\n",
              "      <td>concern-infected</td>\n",
              "      <td>2020-02-02</td>\n",
              "      <td>2020-02-04</td>\n",
              "      <td>13.00</td>\n",
              "      <td>26.00</td>\n",
              "      <td>43.00</td>\n",
              "      <td>18.00</td>\n",
              "    </tr>\n",
              "  </tbody>\n",
              "</table>\n",
              "<p>198 rows × 7 columns</p>\n",
              "</div>"
            ],
            "text/plain": [
              "              subject  start_date    end_date  ...  somewhat  not_very  not_at_all\n",
              "81   concern-infected  2020-05-13  2020-05-14  ...     43.00     17.00        5.00\n",
              "82   concern-infected  2020-05-11  2020-05-13  ...     40.00     18.00        9.00\n",
              "83   concern-infected  2020-05-08  2020-05-13  ...     34.00     15.00        7.00\n",
              "84   concern-infected  2020-05-08  2020-05-13  ...     35.00     24.00       11.00\n",
              "85   concern-infected  2020-05-12  2020-05-12  ...     39.51     16.44        9.85\n",
              "..                ...         ...         ...  ...       ...       ...         ...\n",
              "274  concern-infected  2020-02-13  2020-02-18  ...     21.00     33.00       23.00\n",
              "275  concern-infected  2020-02-13  2020-02-16  ...     23.00     37.00       19.00\n",
              "276  concern-infected  2020-02-09  2020-02-11  ...     28.00     39.00       22.00\n",
              "277  concern-infected  2020-02-07  2020-02-09  ...     24.00     33.00       20.00\n",
              "278  concern-infected  2020-02-02  2020-02-04  ...     26.00     43.00       18.00\n",
              "\n",
              "[198 rows x 7 columns]"
            ]
          },
          "metadata": {
            "tags": []
          },
          "execution_count": 237
        }
      ]
    },
    {
      "cell_type": "code",
      "metadata": {
        "id": "Cy6FsEeLaN-Z",
        "colab_type": "code",
        "colab": {
          "base_uri": "https://localhost:8080/",
          "height": 255
        },
        "outputId": "f3ede3e5-40a9-4db3-e56e-7fa1aa3e2c61"
      },
      "source": [
        "infected['start_date'] = pd.to_datetime(infected['start_date'])\n",
        "infected['end_date'] = pd.to_datetime(infected['end_date'])"
      ],
      "execution_count": 239,
      "outputs": [
        {
          "output_type": "stream",
          "text": [
            "/usr/local/lib/python3.6/dist-packages/ipykernel_launcher.py:1: SettingWithCopyWarning: \n",
            "A value is trying to be set on a copy of a slice from a DataFrame.\n",
            "Try using .loc[row_indexer,col_indexer] = value instead\n",
            "\n",
            "See the caveats in the documentation: https://pandas.pydata.org/pandas-docs/stable/user_guide/indexing.html#returning-a-view-versus-a-copy\n",
            "  \"\"\"Entry point for launching an IPython kernel.\n",
            "/usr/local/lib/python3.6/dist-packages/ipykernel_launcher.py:2: SettingWithCopyWarning: \n",
            "A value is trying to be set on a copy of a slice from a DataFrame.\n",
            "Try using .loc[row_indexer,col_indexer] = value instead\n",
            "\n",
            "See the caveats in the documentation: https://pandas.pydata.org/pandas-docs/stable/user_guide/indexing.html#returning-a-view-versus-a-copy\n",
            "  \n"
          ],
          "name": "stderr"
        }
      ]
    },
    {
      "cell_type": "code",
      "metadata": {
        "id": "lChFCJpvawGK",
        "colab_type": "code",
        "colab": {
          "base_uri": "https://localhost:8080/",
          "height": 282
        },
        "outputId": "103be70f-ff8a-4b0c-ef9b-1777ffe1f357"
      },
      "source": [
        "concerns = ['very', 'somewhat', 'not_very', 'not_at_all']\n",
        "for i in [0,1,2,3]:\n",
        "  plt.scatter(infected['start_date'], infected[concerns[i]], color = mycolors[i], alpha = 0.25)"
      ],
      "execution_count": 254,
      "outputs": [
        {
          "output_type": "display_data",
          "data": {
            "image/png": "[encoded data removed]",
            "text/plain": [
              "<Figure size 432x288 with 1 Axes>"
            ]
          },
          "metadata": {
            "tags": []
          }
        }
      ]
    },
    {
      "cell_type": "code",
      "metadata": {
        "id": "sHPdAsVGc6Kf",
        "colab_type": "code",
        "colab": {
          "base_uri": "https://localhost:8080/",
          "height": 318
        },
        "outputId": "68490781-858b-4100-f81a-27b5af181885"
      },
      "source": [
        "concerns = ['very', 'somewhat', 'not_very', 'not_at_all']\n",
        "concerns_toplines = ['very_estimate', 'somewhat_estimate', 'not_very_estimate', 'not_at_all_estimate']\n",
        "mycolors = ['#f26739', '#feaa87', '#daafd6', '#bf7cbb']\n",
        "for i in [0,1,2,3]:\n",
        "  plt.plot(infected_toplines['modeldate'], infected_toplines[concerns_toplines[i]], color = mycolors[i])\n",
        "  plt.scatter(infected['start_date'], infected[concerns[i]], color = mycolors[i], alpha = 0.25)\n",
        "plt.figure(figsize = (25,5))"
      ],
      "execution_count": 266,
      "outputs": [
        {
          "output_type": "execute_result",
          "data": {
            "text/plain": [
              "<Figure size 1800x360 with 0 Axes>"
            ]
          },
          "metadata": {
            "tags": []
          },
          "execution_count": 266
        },
        {
          "output_type": "display_data",
          "data": {
            "image/png": "[encoded data removed]",
            "text/plain": [
              "<Figure size 432x288 with 1 Axes>"
            ]
          },
          "metadata": {
            "tags": []
          }
        },
        {
          "output_type": "display_data",
          "data": {
            "text/plain": [
              "<Figure size 1800x360 with 0 Axes>"
            ]
          },
          "metadata": {
            "tags": []
          }
        }
      ]
    },
    {
      "cell_type": "markdown",
      "metadata": {
        "id": "0wSrBzmJyWaV",
        "colab_type": "text"
      },
      "source": [
        "# STRETCH OPTIONS\n",
        "\n",
        "### 1) Reproduce one of the following using the matplotlib or seaborn libraries:\n",
        "\n",
        "- [thanksgiving-2015](https://fivethirtyeight.com/features/heres-what-your-part-of-america-eats-on-thanksgiving/) \n",
        "- [candy-power-ranking](https://fivethirtyeight.com/features/the-ultimate-halloween-candy-power-ranking/) \n",
        "- or another example of your choice!\n",
        "\n",
        "### 2) Make more charts!\n",
        "\n",
        "Choose a chart you want to make, from [Visual Vocabulary - Vega Edition](http://ft.com/vocabulary).\n",
        "\n",
        "Find the chart in an example gallery of a Python data visualization library:\n",
        "- [Seaborn](http://seaborn.pydata.org/examples/index.html)\n",
        "- [Altair](https://altair-viz.github.io/gallery/index.html)\n",
        "- [Matplotlib](https://matplotlib.org/gallery.html)\n",
        "- [Pandas](https://pandas.pydata.org/pandas-docs/stable/visualization.html)\n",
        "\n",
        "Reproduce the chart. [Optionally, try the \"Ben Franklin Method.\"](https://docs.google.com/document/d/1ubOw9B3Hfip27hF2ZFnW3a3z9xAgrUDRReOEo-FHCVs/edit) If you want, experiment and make changes.\n",
        "\n",
        "Take notes. Consider sharing your work with your cohort!"
      ]
    },
    {
      "cell_type": "code",
      "metadata": {
        "id": "dRJkKftiy5BJ",
        "colab_type": "code",
        "colab": {}
      },
      "source": [
        "# More Work Here"
      ],
      "execution_count": 0,
      "outputs": []
    }
  ]
}