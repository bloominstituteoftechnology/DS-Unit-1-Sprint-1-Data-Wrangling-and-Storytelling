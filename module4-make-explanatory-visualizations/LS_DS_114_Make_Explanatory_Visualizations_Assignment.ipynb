{
  "nbformat": 4,
  "nbformat_minor": 0,
  "metadata": {
    "colab": {
      "name": "LS_DS_114_Make_Explanatory_Visualizations_Assignment.ipynb",
      "provenance": [],
      "collapsed_sections": [],
      "include_colab_link": true
    },
    "language_info": {
      "codemirror_mode": {
        "name": "ipython",
        "version": 3
      },
      "file_extension": ".py",
      "mimetype": "text/x-python",
      "name": "python",
      "nbconvert_exporter": "python",
      "pygments_lexer": "ipython3",
      "version": "3.7.1"
    },
    "kernelspec": {
      "display_name": "Python 3",
      "language": "python",
      "name": "python3"
    }
  },
  "cells": [
    {
      "cell_type": "markdown",
      "metadata": {
        "id": "view-in-github",
        "colab_type": "text"
      },
      "source": [
        "<a href=\"https://colab.research.google.com/github/scrunts23/DS-Unit-1-Sprint-1-Data-Wrangling-and-Storytelling/blob/master/module4-make-explanatory-visualizations/LS_DS_114_Make_Explanatory_Visualizations_Assignment.ipynb\" target=\"_parent\"><img src=\"https://colab.research.google.com/assets/colab-badge.svg\" alt=\"Open In Colab\"/></a>"
      ]
    },
    {
      "cell_type": "markdown",
      "metadata": {
        "colab_type": "text",
        "id": "NMEswXWh9mqw"
      },
      "source": [
        "Lambda School Data Science\n",
        "\n",
        "*Unit 1, Sprint 1, Module 4*\n",
        "\n",
        "---\n",
        "\n",
        "# ASSIGNMENT\n",
        "\n",
        "### 1) Replicate the lesson code. I recommend that you [do not copy-paste](https://docs.google.com/document/d/1ubOw9B3Hfip27hF2ZFnW3a3z9xAgrUDRReOEo-FHCVs/edit).\n",
        "\n",
        "Get caught up to where we got our example in class and then try and take things further. How close to \"pixel perfect\" can you make the lecture graph?\n",
        "\n",
        "Once you have something that you're proud of, share your graph in the cohort channel and move on to the second exercise.\n",
        "\n",
        "### 2) Reproduce another example from [FiveThityEight's shared data repository](https://data.fivethirtyeight.com/).\n",
        "\n",
        "**WARNING**: There are a lot of very custom graphs and tables at the above link. I **highly** recommend not trying to reproduce any that look like a table of values or something really different from the graph types that we are already familiar with. Search through the posts until you find a graph type that you are more or less familiar with: histogram, bar chart, stacked bar chart, line chart, [seaborn relplot](https://seaborn.pydata.org/generated/seaborn.relplot.html), etc. Recreating some of the graphics that 538 uses would be a lot easier in Adobe photoshop/illustrator than with matplotlib. \n",
        "\n",
        "- If you put in some time to find a graph that looks \"easy\" to replicate you'll probably find that it's not as easy as you thought. \n",
        "\n",
        "- If you start with a graph that looks hard to replicate you'll probably run up against a brick wall and be disappointed with your afternoon.\n",
        "\n",
        "\n",
        "\n",
        "\n",
        "\n",
        "\n",
        "\n",
        "\n",
        "\n",
        "\n"
      ]
    },
    {
      "cell_type": "code",
      "metadata": {
        "id": "7SY1ZHawyZvz",
        "colab_type": "code",
        "colab": {}
      },
      "source": [
        "# # start with imports as always\n",
        "import numpy as np\n",
        "import matplotlib.pyplot as plt\n",
        "import pandas as pd\n",
        "from matplotlib.ticker import AutoMinorLocator, MultipleLocator, FuncFormatter"
      ],
      "execution_count": 0,
      "outputs": []
    },
    {
      "cell_type": "code",
      "metadata": {
        "id": "kpKuT-glNWzb",
        "colab_type": "code",
        "colab": {
          "base_uri": "https://localhost:8080/",
          "height": 355
        },
        "outputId": "42f29f1c-eb1f-4aa6-ceb9-1cee07599579"
      },
      "source": [
        "# replication of chart\n",
        "from IPython.display import display, Image\n",
        "\n",
        "url = 'https://fivethirtyeight.com/wp-content/uploads/2017/09/mehtahickey-inconvenient-0830-1.png'\n",
        "example = Image(url=url, width=400)\n",
        "\n",
        "display(example)"
      ],
      "execution_count": 2,
      "outputs": [
        {
          "output_type": "display_data",
          "data": {
            "text/html": [
              "<img src=\"https://fivethirtyeight.com/wp-content/uploads/2017/09/mehtahickey-inconvenient-0830-1.png\" width=\"400\"/>"
            ],
            "text/plain": [
              "<IPython.core.display.Image object>"
            ]
          },
          "metadata": {
            "tags": []
          }
        }
      ]
    },
    {
      "cell_type": "code",
      "metadata": {
        "id": "Y306pO05Nev0",
        "colab_type": "code",
        "colab": {
          "base_uri": "https://localhost:8080/",
          "height": 285
        },
        "outputId": "96f0419b-e35d-411f-8009-6e3999ac7b2b"
      },
      "source": [
        "# data for our version\n",
        "\n",
        "ratings = [38,3,2,1,2,4,6,5,5,5,33]\n",
        "data = pd.Series(ratings, index=range(1,12))\n",
        "plt.style.use('fivethirtyeight')\n",
        "\n",
        "data.plot.bar(color='#ED703A', width=0.8);"
      ],
      "execution_count": 3,
      "outputs": [
        {
          "output_type": "display_data",
          "data": {
            "image/png": "[encoded data removed]",
            "text/plain": [
              "<Figure size 432x288 with 1 Axes>"
            ]
          },
          "metadata": {
            "tags": []
          }
        }
      ]
    },
    {
      "cell_type": "code",
      "metadata": {
        "id": "8hituPjBNe4o",
        "colab_type": "code",
        "colab": {
          "base_uri": "https://localhost:8080/",
          "height": 637
        },
        "outputId": "add2628a-5e0b-4905-f444-a8bda8414d96"
      },
      "source": [
        "# use fig, axe style\n",
        "\n",
        "fig, ax = plt.subplots()\n",
        "\n",
        "#bars on axis\n",
        "data.plot.bar(width=0.9, color='#ED703A')\n",
        "\n",
        "# color outside of graph\n",
        "fig.patch.set(facecolor='white')\n",
        "# bg color inside of graph\n",
        "ax.set_facecolor('white')\n",
        "\n",
        "ax.set_title(\"'An Inconvenient Sequel: Truth To Power' is divisive\", \n",
        "             fontsize=13, fontweight='bold', x=.35, y=1.1)\n",
        "\n",
        "#set plot sub title\n",
        "ax.text(s=\"IMDb ratings for the film as of Aug. 29\", y=41.8, x=-2.35, fontsize=11)\n",
        "\n",
        "# set plot y and x label\n",
        "ax.set_ylabel(\"Percent of Total Votes\", fontsize=11, fontweight='medium')\n",
        "ax.set_xlabel(\"Rating\", fontsize=9, fontweight='medium')\n",
        "# y tick, ha = left does left align\n",
        "ax.set_yticklabels(labels=['0','10','20','30','40%'], color='gray', fontsize=9, ha = 'left')\n",
        "ax.set_yticks(range(0,50,10))\n",
        "\n",
        "# y tick pad since otherwise stuck in left most bar\n",
        "pad = 15\n",
        "yax = ax.get_yaxis()\n",
        "yax.set_tick_params(pad=pad)\n",
        "\n",
        "# x tick\n",
        "ax.set_xticklabels(labels=range(0,11,1), rotation='horizontal', color='gray',\n",
        "                   fontsize=9)\n",
        "ax.set_xticks(range(0,11,1))\n",
        "\n",
        "# hide left & right spine\n",
        "ax.spines['right'].set_visible(False)\n",
        "ax.spines['left'].set_visible(False)\n",
        "\n",
        "fig.set_size_inches(4.8,3)\n",
        "fig.show();\n",
        "\n",
        "print('The Original')\n",
        "display(example)\n",
        "\n",
        "print('My Graph')\n",
        "fig.show()"
      ],
      "execution_count": 4,
      "outputs": [
        {
          "output_type": "stream",
          "text": [
            "The Original\n"
          ],
          "name": "stdout"
        },
        {
          "output_type": "display_data",
          "data": {
            "text/html": [
              "<img src=\"https://fivethirtyeight.com/wp-content/uploads/2017/09/mehtahickey-inconvenient-0830-1.png\" width=\"400\"/>"
            ],
            "text/plain": [
              "<IPython.core.display.Image object>"
            ]
          },
          "metadata": {
            "tags": []
          }
        },
        {
          "output_type": "stream",
          "text": [
            "My Graph\n"
          ],
          "name": "stdout"
        },
        {
          "output_type": "display_data",
          "data": {
            "image/png": "[encoded data removed]",
            "text/plain": [
              "<Figure size 345.6x216 with 1 Axes>"
            ]
          },
          "metadata": {
            "tags": []
          }
        }
      ]
    },
    {
      "cell_type": "code",
      "metadata": {
        "id": "Cx5NoO6QNe7Y",
        "colab_type": "code",
        "colab": {
          "base_uri": "https://localhost:8080/",
          "height": 682
        },
        "outputId": "c47b2391-32e9-4f87-8ec4-e389209d54f2"
      },
      "source": [
        "# what we want to replicate (via the left side)\n",
        "from IPython.display import display, Image\n",
        "\n",
        "url2 = 'https://fivethirtyeight.com/wp-content/uploads/2017/09/ajr-worldrespect-1.png'\n",
        "example2 = Image(url=url2, width=400)\n",
        "\n",
        "# fig axes style\n",
        "\n",
        "fig, ax = plt.figure(), plt.axes()\n",
        "\n",
        "ax.set_title(\"... has a favorable view of the United States\", \n",
        "             fontsize=11, fontweight='medium', x=.35, y=1.1, loc='center')\n",
        "\n",
        "# graph lines\n",
        "plt.plot([2015, 2016, 2017], [81, 81, 81], 'm', label='Israel')\n",
        "\n",
        "# y tick, ha = left does left align\n",
        "ax.set_yticklabels(labels=range(0,110,10), color='gray', fontsize=9, ha = 'right')\n",
        "ax.set_yticks(range(0,110,10))\n",
        "\n",
        "# y tick pad since otherwise stuck in left most bar\n",
        "pad = 15\n",
        "yax = ax.get_yaxis()\n",
        "yax.set_tick_params(pad=pad)\n",
        "\n",
        "# color outside of graph\n",
        "fig.patch.set(facecolor='white')\n",
        "\n",
        "# bg color inside of graph\n",
        "ax.set_facecolor('white')\n",
        "\n",
        "# x tick\n",
        "ax.set_xticklabels(labels=range(2015,2018,1), rotation='horizontal', color='black',\n",
        "                   fontsize=9, fontweight='bold')\n",
        "ax.set_xticks(range(2015,2018,1))\n",
        "ax.xaxis.tick_top()\n",
        "\n",
        "# hide left & right spine\n",
        "ax.spines['right'].set_visible(False)\n",
        "ax.spines['left'].set_visible(False)\n",
        "\n",
        "# hide grid lines\n",
        "plt.grid(b=None)\n",
        "\n",
        "\n",
        "display(example2)"
      ],
      "execution_count": 5,
      "outputs": [
        {
          "output_type": "display_data",
          "data": {
            "text/html": [
              "<img src=\"https://fivethirtyeight.com/wp-content/uploads/2017/09/ajr-worldrespect-1.png\" width=\"400\"/>"
            ],
            "text/plain": [
              "<IPython.core.display.Image object>"
            ]
          },
          "metadata": {
            "tags": []
          }
        },
        {
          "output_type": "display_data",
          "data": {
            "image/png": "[encoded data removed]",
            "text/plain": [
              "<Figure size 432x288 with 1 Axes>"
            ]
          },
          "metadata": {
            "tags": []
          }
        }
      ]
    },
    {
      "cell_type": "markdown",
      "metadata": {
        "id": "0wSrBzmJyWaV",
        "colab_type": "text"
      },
      "source": [
        "# STRETCH OPTIONS\n",
        "\n",
        "### 1) Reproduce one of the following using the matplotlib or seaborn libraries:\n",
        "\n",
        "- [thanksgiving-2015](https://fivethirtyeight.com/features/heres-what-your-part-of-america-eats-on-thanksgiving/) \n",
        "- [candy-power-ranking](https://fivethirtyeight.com/features/the-ultimate-halloween-candy-power-ranking/) \n",
        "- or another example of your choice!\n",
        "\n",
        "### 2) Make more charts!\n",
        "\n",
        "Choose a chart you want to make, from [Visual Vocabulary - Vega Edition](http://ft.com/vocabulary).\n",
        "\n",
        "Find the chart in an example gallery of a Python data visualization library:\n",
        "- [Seaborn](http://seaborn.pydata.org/examples/index.html)\n",
        "- [Altair](https://altair-viz.github.io/gallery/index.html)\n",
        "- [Matplotlib](https://matplotlib.org/gallery.html)\n",
        "- [Pandas](https://pandas.pydata.org/pandas-docs/stable/visualization.html)\n",
        "\n",
        "Reproduce the chart. [Optionally, try the \"Ben Franklin Method.\"](https://docs.google.com/document/d/1ubOw9B3Hfip27hF2ZFnW3a3z9xAgrUDRReOEo-FHCVs/edit) If you want, experiment and make changes.\n",
        "\n",
        "Take notes. Consider sharing your work with your cohort!"
      ]
    },
    {
      "cell_type": "code",
      "metadata": {
        "id": "dRJkKftiy5BJ",
        "colab_type": "code",
        "colab": {}
      },
      "source": [
        "# More Work Here"
      ],
      "execution_count": 0,
      "outputs": []
    }
  ]
}