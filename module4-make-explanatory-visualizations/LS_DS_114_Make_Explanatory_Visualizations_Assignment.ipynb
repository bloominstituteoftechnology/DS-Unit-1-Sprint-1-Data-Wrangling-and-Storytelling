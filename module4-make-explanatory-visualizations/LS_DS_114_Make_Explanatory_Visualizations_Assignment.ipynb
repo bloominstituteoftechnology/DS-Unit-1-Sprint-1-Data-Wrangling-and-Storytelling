{
  "nbformat": 4,
  "nbformat_minor": 0,
  "metadata": {
    "colab": {
      "name": "LS_DS_114_Make_Explanatory_Visualizations_Assignment.ipynb",
      "provenance": [],
      "collapsed_sections": [],
      "include_colab_link": true
    },
    "language_info": {
      "codemirror_mode": {
        "name": "ipython",
        "version": 3
      },
      "file_extension": ".py",
      "mimetype": "text/x-python",
      "name": "python",
      "nbconvert_exporter": "python",
      "pygments_lexer": "ipython3",
      "version": "3.7.1"
    },
    "kernelspec": {
      "display_name": "Python 3",
      "language": "python",
      "name": "python3"
    }
  },
  "cells": [
    {
      "cell_type": "markdown",
      "metadata": {
        "id": "view-in-github",
        "colab_type": "text"
      },
      "source": [
        "<a href=\"https://colab.research.google.com/github/nimu77/DS-Unit-1-Sprint-1-Data-Wrangling-and-Storytelling/blob/master/module4-make-explanatory-visualizations/LS_DS_114_Make_Explanatory_Visualizations_Assignment.ipynb\" target=\"_parent\"><img src=\"https://colab.research.google.com/assets/colab-badge.svg\" alt=\"Open In Colab\"/></a>"
      ]
    },
    {
      "cell_type": "markdown",
      "metadata": {
        "colab_type": "text",
        "id": "NMEswXWh9mqw"
      },
      "source": [
        "Lambda School Data Science\n",
        "\n",
        "*Unit 1, Sprint 1, Module 4*\n",
        "\n",
        "---\n",
        "\n",
        "# ASSIGNMENT\n",
        "\n",
        "### 1) Replicate the lesson code. I recommend that you [do not copy-paste](https://docs.google.com/document/d/1ubOw9B3Hfip27hF2ZFnW3a3z9xAgrUDRReOEo-FHCVs/edit).\n",
        "\n",
        "Get caught up to where we got our example in class and then try and take things further. How close to \"pixel perfect\" can you make the lecture graph?\n",
        "\n",
        "Once you have something that you're proud of, share your graph in the cohort channel and move on to the second exercise.\n",
        "\n",
        "### 2) Reproduce another example from [FiveThityEight's shared data repository](https://data.fivethirtyeight.com/).\n",
        "\n",
        "**WARNING**: There are a lot of very custom graphs and tables at the above link. I **highly** recommend not trying to reproduce any that look like a table of values or something really different from the graph types that we are already familiar with. Search through the posts until you find a graph type that you are more or less familiar with: histogram, bar chart, stacked bar chart, line chart, [seaborn relplot](https://seaborn.pydata.org/generated/seaborn.relplot.html), etc. Recreating some of the graphics that 538 uses would be a lot easier in Adobe photoshop/illustrator than with matplotlib. \n",
        "\n",
        "- If you put in some time to find a graph that looks \"easy\" to replicate you'll probably find that it's not as easy as you thought. \n",
        "\n",
        "- If you start with a graph that looks hard to replicate you'll probably run up against a brick wall and be disappointed with your afternoon.\n",
        "\n",
        "\n",
        "\n",
        "\n",
        "\n",
        "\n",
        "\n",
        "\n",
        "\n",
        "\n"
      ]
    },
    {
      "cell_type": "code",
      "metadata": {
        "id": "7SY1ZHawyZvz",
        "colab_type": "code",
        "colab": {
          "base_uri": "https://localhost:8080/",
          "height": 355
        },
        "outputId": "48260bff-f30d-451a-b839-f17a2ff0a2a8"
      },
      "source": [
        "# Your Work Here\n",
        "from IPython.display import display, Image\n",
        "\n",
        "url = 'https://fivethirtyeight.com/wp-content/uploads/2017/09/mehtahickey-inconvenient-0830-1.png'\n",
        "example = Image(url=url, width=400)\n",
        "\n",
        "display(example)"
      ],
      "execution_count": 1,
      "outputs": [
        {
          "output_type": "display_data",
          "data": {
            "text/html": [
              "<img src=\"https://fivethirtyeight.com/wp-content/uploads/2017/09/mehtahickey-inconvenient-0830-1.png\" width=\"400\"/>"
            ],
            "text/plain": [
              "<IPython.core.display.Image object>"
            ]
          },
          "metadata": {
            "tags": []
          }
        }
      ]
    },
    {
      "cell_type": "code",
      "metadata": {
        "id": "nWypGte6bgLW",
        "colab_type": "code",
        "colab": {}
      },
      "source": [
        "import pandas as pd\n",
        "import matplotlib.pyplot as plt"
      ],
      "execution_count": 0,
      "outputs": []
    },
    {
      "cell_type": "code",
      "metadata": {
        "id": "mNAxA7YSbgOo",
        "colab_type": "code",
        "colab": {}
      },
      "source": [
        "fake = pd.Series([38, 3, 2, 1, 2, 4, 6, 5, 5, 34],\n",
        "                 index=range(1, 11))"
      ],
      "execution_count": 0,
      "outputs": []
    },
    {
      "cell_type": "code",
      "metadata": {
        "id": "7NZKqLbobgR6",
        "colab_type": "code",
        "colab": {
          "base_uri": "https://localhost:8080/",
          "height": 368
        },
        "outputId": "1c71d0f0-79ca-4a0b-85cb-112f48d423cb"
      },
      "source": [
        "# use of style\n",
        "plt.style.use('fivethirtyeight')\n",
        "# accessing fig, ax from matplotlib\n",
        "fig, ax = plt.subplots()\n",
        "\n",
        "# set title for the plot\n",
        "ax.set_title(\"'An Inconvenient Sequel: Truth To Power' is divisive\", x=0.36, y=1.12, fontsize=13, fontweight='bold')\n",
        "\n",
        "# set subtitle for the plot\n",
        "ax.text(x=-1.5, y=43, s='IMDB ratings for the film as of Aug, 29', fontsize=11)\n",
        "\n",
        "# creating a bar for the graph\n",
        "ax.bar(x=range(1, 11, 1), height=fake, width=0.9, color='#ED713A')\n",
        "\n",
        "# setting ticks, tickslabel, and labels name for the axis\n",
        "ax.set_xticks(range(1, 11, 1))\n",
        "ax.set_xticklabels(range(1, 11, 1), fontsize=10)\n",
        "ax.set_xlabel('Rating', fontsize=10, fontweight='bold')\n",
        "ax.set_yticks(range(0, 50, 10))\n",
        "ax.set_yticklabels([0, 10, 20, 30, '40%'], fontsize=10)\n",
        "ax.set_ylabel('Percent of total votes', fontsize=10, fontweight='bold')\n",
        "\n",
        "# setting color for the whole figure and axis\n",
        "fig.set_facecolor('white')\n",
        "ax.set_facecolor('white')\n",
        "\n",
        "# removing lines from the figure\n",
        "ax.spines['top'].set_visible(False)\n",
        "ax.spines['left'].set_visible(False)\n",
        "ax.spines['right'].set_visible(False)\n",
        "\n",
        "# creating a line on the bottom of the plot\n",
        "ax.text(x=-1, y=-8, s='______________________________________________________________', color='#d3d3d3')\n",
        "ax.text(x=-1, y=-10, s='FiveThirtyEight', fontsize=8, color='#d3d3d3')\n",
        "ax.text(x=9.9, y=-10, s='SOURCE:IMDB', fontsize=8, color='#d3d3d3')\n",
        "\n",
        "plt.show()\n",
        "\n",
        "# ax.draw_artist(x=-2.5, y=-10)\n",
        "# ax.axhspan(y=.5, xmin=0.25, xmax=0.75)"
      ],
      "execution_count": 4,
      "outputs": [
        {
          "output_type": "display_data",
          "data": {
            "image/png": "[encoded data removed]",
            "text/plain": [
              "<Figure size 432x288 with 1 Axes>"
            ]
          },
          "metadata": {
            "tags": []
          }
        }
      ]
    },
    {
      "cell_type": "code",
      "metadata": {
        "id": "l1g660j6bgbe",
        "colab_type": "code",
        "colab": {
          "base_uri": "https://localhost:8080/",
          "height": 425
        },
        "outputId": "8bdb3442-0f16-401d-d951-b4b46a390723"
      },
      "source": [
        "earthquake = pd.read_csv('https://raw.githubusercontent.com/fivethirtyeight/data/master/san-andreas/earthquake_data.csv')\n",
        "earthquake.head()"
      ],
      "execution_count": 5,
      "outputs": [
        {
          "output_type": "execute_result",
          "data": {
            "text/html": [
              "<div>\n",
              "<style scoped>\n",
              "    .dataframe tbody tr th:only-of-type {\n",
              "        vertical-align: middle;\n",
              "    }\n",
              "\n",
              "    .dataframe tbody tr th {\n",
              "        vertical-align: top;\n",
              "    }\n",
              "\n",
              "    .dataframe thead th {\n",
              "        text-align: right;\n",
              "    }\n",
              "</style>\n",
              "<table border=\"1\" class=\"dataframe\">\n",
              "  <thead>\n",
              "    <tr style=\"text-align: right;\">\n",
              "      <th></th>\n",
              "      <th>In general, how worried are you about earthquakes?</th>\n",
              "      <th>How worried are you about the Big One, a massive, catastrophic earthquake?</th>\n",
              "      <th>Do you think the \"Big One\" will occur in your lifetime?</th>\n",
              "      <th>Have you ever experienced an earthquake?</th>\n",
              "      <th>Have you or anyone in your household taken any precautions for an earthquake (packed an earthquake survival kit, prepared an evacuation plan, etc.)?</th>\n",
              "      <th>How familiar are you with the San Andreas Fault line?</th>\n",
              "      <th>How familiar are you with the Yellowstone Supervolcano?</th>\n",
              "      <th>Age</th>\n",
              "      <th>What is your gender?</th>\n",
              "      <th>How much total combined money did all members of your HOUSEHOLD earn last year?</th>\n",
              "      <th>US Region</th>\n",
              "    </tr>\n",
              "  </thead>\n",
              "  <tbody>\n",
              "    <tr>\n",
              "      <th>0</th>\n",
              "      <td>Not at all worried</td>\n",
              "      <td>Not so worried</td>\n",
              "      <td>No</td>\n",
              "      <td>Yes, one or more minor ones</td>\n",
              "      <td>No</td>\n",
              "      <td>Somewhat familiar</td>\n",
              "      <td>Not so familiar</td>\n",
              "      <td>18 - 29</td>\n",
              "      <td>Male</td>\n",
              "      <td>Prefer not to answer</td>\n",
              "      <td>New England</td>\n",
              "    </tr>\n",
              "    <tr>\n",
              "      <th>1</th>\n",
              "      <td>Somewhat worried</td>\n",
              "      <td>Very worried</td>\n",
              "      <td>No</td>\n",
              "      <td>Yes, one or more minor ones</td>\n",
              "      <td>No</td>\n",
              "      <td>Not at all familiar</td>\n",
              "      <td>Not at all familiar</td>\n",
              "      <td>18 - 29</td>\n",
              "      <td>Male</td>\n",
              "      <td>$75,000 to $99,999</td>\n",
              "      <td>East North Central</td>\n",
              "    </tr>\n",
              "    <tr>\n",
              "      <th>2</th>\n",
              "      <td>Not so worried</td>\n",
              "      <td>Somewhat worried</td>\n",
              "      <td>No</td>\n",
              "      <td>Yes, one or more minor ones</td>\n",
              "      <td>No</td>\n",
              "      <td>Very familiar</td>\n",
              "      <td>Somewhat familiar</td>\n",
              "      <td>18 - 29</td>\n",
              "      <td>Male</td>\n",
              "      <td>$10,000 to $24,999</td>\n",
              "      <td>Pacific</td>\n",
              "    </tr>\n",
              "    <tr>\n",
              "      <th>3</th>\n",
              "      <td>Not so worried</td>\n",
              "      <td>Not so worried</td>\n",
              "      <td>No</td>\n",
              "      <td>Yes, one or more minor ones</td>\n",
              "      <td>No</td>\n",
              "      <td>Very familiar</td>\n",
              "      <td>Not so familiar</td>\n",
              "      <td>18 - 29</td>\n",
              "      <td>Male</td>\n",
              "      <td>$25,000 to $49,999</td>\n",
              "      <td>West South Central</td>\n",
              "    </tr>\n",
              "    <tr>\n",
              "      <th>4</th>\n",
              "      <td>Not so worried</td>\n",
              "      <td>Not so worried</td>\n",
              "      <td>Yes</td>\n",
              "      <td>Yes, one or more minor ones</td>\n",
              "      <td>No</td>\n",
              "      <td>Somewhat familiar</td>\n",
              "      <td>Extremely familiar</td>\n",
              "      <td>18 - 29</td>\n",
              "      <td>Male</td>\n",
              "      <td>$200,000 and up</td>\n",
              "      <td>Middle Atlantic</td>\n",
              "    </tr>\n",
              "  </tbody>\n",
              "</table>\n",
              "</div>"
            ],
            "text/plain": [
              "  In general, how worried are you about earthquakes?  ...           US Region\n",
              "0                                 Not at all worried  ...         New England\n",
              "1                                   Somewhat worried  ...  East North Central\n",
              "2                                     Not so worried  ...             Pacific\n",
              "3                                     Not so worried  ...  West South Central\n",
              "4                                     Not so worried  ...     Middle Atlantic\n",
              "\n",
              "[5 rows x 11 columns]"
            ]
          },
          "metadata": {
            "tags": []
          },
          "execution_count": 5
        }
      ]
    },
    {
      "cell_type": "code",
      "metadata": {
        "id": "JHVctUUnbgeR",
        "colab_type": "code",
        "colab": {
          "base_uri": "https://localhost:8080/",
          "height": 34
        },
        "outputId": "f3651d14-dc5f-4170-ad7a-82181f3f60e4"
      },
      "source": [
        "earthquake.shape"
      ],
      "execution_count": 6,
      "outputs": [
        {
          "output_type": "execute_result",
          "data": {
            "text/plain": [
              "(1013, 11)"
            ]
          },
          "metadata": {
            "tags": []
          },
          "execution_count": 6
        }
      ]
    },
    {
      "cell_type": "code",
      "metadata": {
        "id": "O_5Ui5v_bghK",
        "colab_type": "code",
        "colab": {}
      },
      "source": [
        "earthquake.columns = ['General', 'Big_One', 'Big_One_y_N', 'Experience', 'Preparation_Y_N', 'Fam_with_san_andreas', 'Fam_with_yellowstone', 'Age', 'Gender', 'Household_earnings', 'US_region']"
      ],
      "execution_count": 0,
      "outputs": []
    },
    {
      "cell_type": "code",
      "metadata": {
        "id": "lyy92mipbgkO",
        "colab_type": "code",
        "colab": {
          "base_uri": "https://localhost:8080/",
          "height": 204
        },
        "outputId": "6b738711-4053-4143-b3f2-1731e438b680"
      },
      "source": [
        "earthquake.head()"
      ],
      "execution_count": 8,
      "outputs": [
        {
          "output_type": "execute_result",
          "data": {
            "text/html": [
              "<div>\n",
              "<style scoped>\n",
              "    .dataframe tbody tr th:only-of-type {\n",
              "        vertical-align: middle;\n",
              "    }\n",
              "\n",
              "    .dataframe tbody tr th {\n",
              "        vertical-align: top;\n",
              "    }\n",
              "\n",
              "    .dataframe thead th {\n",
              "        text-align: right;\n",
              "    }\n",
              "</style>\n",
              "<table border=\"1\" class=\"dataframe\">\n",
              "  <thead>\n",
              "    <tr style=\"text-align: right;\">\n",
              "      <th></th>\n",
              "      <th>General</th>\n",
              "      <th>Big_One</th>\n",
              "      <th>Big_One_y_N</th>\n",
              "      <th>Experience</th>\n",
              "      <th>Preparation_Y_N</th>\n",
              "      <th>Fam_with_san_andreas</th>\n",
              "      <th>Fam_with_yellowstone</th>\n",
              "      <th>Age</th>\n",
              "      <th>Gender</th>\n",
              "      <th>Household_earnings</th>\n",
              "      <th>US_region</th>\n",
              "    </tr>\n",
              "  </thead>\n",
              "  <tbody>\n",
              "    <tr>\n",
              "      <th>0</th>\n",
              "      <td>Not at all worried</td>\n",
              "      <td>Not so worried</td>\n",
              "      <td>No</td>\n",
              "      <td>Yes, one or more minor ones</td>\n",
              "      <td>No</td>\n",
              "      <td>Somewhat familiar</td>\n",
              "      <td>Not so familiar</td>\n",
              "      <td>18 - 29</td>\n",
              "      <td>Male</td>\n",
              "      <td>Prefer not to answer</td>\n",
              "      <td>New England</td>\n",
              "    </tr>\n",
              "    <tr>\n",
              "      <th>1</th>\n",
              "      <td>Somewhat worried</td>\n",
              "      <td>Very worried</td>\n",
              "      <td>No</td>\n",
              "      <td>Yes, one or more minor ones</td>\n",
              "      <td>No</td>\n",
              "      <td>Not at all familiar</td>\n",
              "      <td>Not at all familiar</td>\n",
              "      <td>18 - 29</td>\n",
              "      <td>Male</td>\n",
              "      <td>$75,000 to $99,999</td>\n",
              "      <td>East North Central</td>\n",
              "    </tr>\n",
              "    <tr>\n",
              "      <th>2</th>\n",
              "      <td>Not so worried</td>\n",
              "      <td>Somewhat worried</td>\n",
              "      <td>No</td>\n",
              "      <td>Yes, one or more minor ones</td>\n",
              "      <td>No</td>\n",
              "      <td>Very familiar</td>\n",
              "      <td>Somewhat familiar</td>\n",
              "      <td>18 - 29</td>\n",
              "      <td>Male</td>\n",
              "      <td>$10,000 to $24,999</td>\n",
              "      <td>Pacific</td>\n",
              "    </tr>\n",
              "    <tr>\n",
              "      <th>3</th>\n",
              "      <td>Not so worried</td>\n",
              "      <td>Not so worried</td>\n",
              "      <td>No</td>\n",
              "      <td>Yes, one or more minor ones</td>\n",
              "      <td>No</td>\n",
              "      <td>Very familiar</td>\n",
              "      <td>Not so familiar</td>\n",
              "      <td>18 - 29</td>\n",
              "      <td>Male</td>\n",
              "      <td>$25,000 to $49,999</td>\n",
              "      <td>West South Central</td>\n",
              "    </tr>\n",
              "    <tr>\n",
              "      <th>4</th>\n",
              "      <td>Not so worried</td>\n",
              "      <td>Not so worried</td>\n",
              "      <td>Yes</td>\n",
              "      <td>Yes, one or more minor ones</td>\n",
              "      <td>No</td>\n",
              "      <td>Somewhat familiar</td>\n",
              "      <td>Extremely familiar</td>\n",
              "      <td>18 - 29</td>\n",
              "      <td>Male</td>\n",
              "      <td>$200,000 and up</td>\n",
              "      <td>Middle Atlantic</td>\n",
              "    </tr>\n",
              "  </tbody>\n",
              "</table>\n",
              "</div>"
            ],
            "text/plain": [
              "              General  ...           US_region\n",
              "0  Not at all worried  ...         New England\n",
              "1    Somewhat worried  ...  East North Central\n",
              "2      Not so worried  ...             Pacific\n",
              "3      Not so worried  ...  West South Central\n",
              "4      Not so worried  ...     Middle Atlantic\n",
              "\n",
              "[5 rows x 11 columns]"
            ]
          },
          "metadata": {
            "tags": []
          },
          "execution_count": 8
        }
      ]
    },
    {
      "cell_type": "code",
      "metadata": {
        "id": "u_0eYvBQbgnX",
        "colab_type": "code",
        "colab": {
          "base_uri": "https://localhost:8080/",
          "height": 299
        },
        "outputId": "4a64a5c1-f616-4831-8cf9-99bad2085f7f"
      },
      "source": [
        "earthquake.groupby('General').size().sort_values(ascending=False).plot(kind='barh')"
      ],
      "execution_count": 9,
      "outputs": [
        {
          "output_type": "execute_result",
          "data": {
            "text/plain": [
              "<matplotlib.axes._subplots.AxesSubplot at 0x7f8f4c717f28>"
            ]
          },
          "metadata": {
            "tags": []
          },
          "execution_count": 9
        },
        {
          "output_type": "display_data",
          "data": {
            "image/png": "[encoded data removed]",
            "text/plain": [
              "<Figure size 432x288 with 1 Axes>"
            ]
          },
          "metadata": {
            "tags": []
          }
        }
      ]
    },
    {
      "cell_type": "code",
      "metadata": {
        "id": "vUndKjlAMr9_",
        "colab_type": "code",
        "colab": {}
      },
      "source": [
        "big_one = earthquake.groupby('General').size().sort_values(ascending=False)"
      ],
      "execution_count": 0,
      "outputs": []
    },
    {
      "cell_type": "code",
      "metadata": {
        "id": "Q8xar8geNa8F",
        "colab_type": "code",
        "colab": {
          "base_uri": "https://localhost:8080/",
          "height": 34
        },
        "outputId": "9b265815-bb0a-451b-9adf-c22f0167bdc9"
      },
      "source": [
        "list(big_one)"
      ],
      "execution_count": 11,
      "outputs": [
        {
          "output_type": "execute_result",
          "data": {
            "text/plain": [
              "[356, 327, 223, 54, 53]"
            ]
          },
          "metadata": {
            "tags": []
          },
          "execution_count": 11
        }
      ]
    },
    {
      "cell_type": "code",
      "metadata": {
        "id": "o5-Z0fvoUbrf",
        "colab_type": "code",
        "colab": {
          "base_uri": "https://localhost:8080/",
          "height": 215
        },
        "outputId": "2d66ca1e-bfe3-45b4-b3aa-aa0340abd2ee"
      },
      "source": [
        "url= 'https://fivethirtyeight.com/wp-content/uploads/2015/05/hickey-datalab-sanandreas1.png?w=575'\n",
        "eg = Image(url=url, width=400)\n",
        "display(eg)"
      ],
      "execution_count": 12,
      "outputs": [
        {
          "output_type": "display_data",
          "data": {
            "text/html": [
              "<img src=\"https://fivethirtyeight.com/wp-content/uploads/2015/05/hickey-datalab-sanandreas1.png?w=575\" width=\"400\"/>"
            ],
            "text/plain": [
              "<IPython.core.display.Image object>"
            ]
          },
          "metadata": {
            "tags": []
          }
        }
      ]
    },
    {
      "cell_type": "code",
      "metadata": {
        "id": "ipMVTxyzbgqI",
        "colab_type": "code",
        "colab": {
          "base_uri": "https://localhost:8080/",
          "height": 180
        },
        "outputId": "718be216-7a66-4bcb-e82c-9454c3c2f703"
      },
      "source": [
        "# style use\n",
        "plt.style.use('fivethirtyeight')\n",
        "\n",
        "# using fig, ax to plot\n",
        "fig, ax = plt.subplots()\n",
        "\n",
        "# setting figure size\n",
        "fig.set_size_inches(w=4.7, h=1.45)\n",
        "\n",
        "# setting title for the graph\n",
        "ax.set_title(\"How Worried Are You About 'The Big One'?\", x=0.28, y=1.55, fontsize=15, fontweight='bold')\n",
        "\n",
        "# creating subtitle with ax.text method\n",
        "ax.text(x=-115, y=7.5, s='SURVEY DATES', fontsize=7.5, fontweight='bold', color='#808080')\n",
        "ax.text(x=-115, y=6.7, s='May 26-27, 2015', fontsize=10, color='#A9A9A9')\n",
        "ax.text(x=40, y=7.5, s='NO. OF RESPONDENTS', fontsize=7.5, fontweight='bold', color='#808080')\n",
        "ax.text(x=40, y=6.7, s='1.013', fontsize=10, color='#A9A9A9')\n",
        "\n",
        "# creating a horizontal bar for the graph\n",
        "ax.barh(y=range(1, 6, 1), width=list(big_one), height=0.79, color='#FF2700')\n",
        "\n",
        "# setting facecolor inside the axis.\n",
        "ax.set_facecolor('none')\n",
        "# fig.set_facecolor('none')\n",
        "\n",
        "# removing grid lines from inside the axis\n",
        "ax.grid(False)\n",
        "\n",
        "# removing ticks from x-axis\n",
        "ax.xaxis.set_visible(False)\n",
        "\n",
        "# setting yticks and ylabels\n",
        "ax.set_yticks(range(1, 6, 1))\n",
        "ax.set_yticklabels(['Not at all worried', 'Not so worried', 'Somewhat worried', 'Very worried', 'Extremely worried'], fontsize=10)\n",
        "\n",
        "# adding line \n",
        "ax.text(x=-120, y=8.4, s='______________________________________________________', color='#D3D3D3')\n",
        "ax.text(x=-120, y=6.2, s='______________________________________________________', color='#C0C0C0')\n",
        "\n",
        "plt.show()"
      ],
      "execution_count": 74,
      "outputs": [
        {
          "output_type": "display_data",
          "data": {
            "image/png": "[encoded data removed]",
            "text/plain": [
              "<Figure size 338.4x104.4 with 1 Axes>"
            ]
          },
          "metadata": {
            "tags": []
          }
        }
      ]
    },
    {
      "cell_type": "markdown",
      "metadata": {
        "id": "0wSrBzmJyWaV",
        "colab_type": "text"
      },
      "source": [
        "# STRETCH OPTIONS\n",
        "\n",
        "### 1) Reproduce one of the following using the matplotlib or seaborn libraries:\n",
        "\n",
        "- [thanksgiving-2015](https://fivethirtyeight.com/features/heres-what-your-part-of-america-eats-on-thanksgiving/) \n",
        "- [candy-power-ranking](https://fivethirtyeight.com/features/the-ultimate-halloween-candy-power-ranking/) \n",
        "- or another example of your choice!\n",
        "\n",
        "### 2) Make more charts!\n",
        "\n",
        "Choose a chart you want to make, from [Visual Vocabulary - Vega Edition](http://ft.com/vocabulary).\n",
        "\n",
        "Find the chart in an example gallery of a Python data visualization library:\n",
        "- [Seaborn](http://seaborn.pydata.org/examples/index.html)\n",
        "- [Altair](https://altair-viz.github.io/gallery/index.html)\n",
        "- [Matplotlib](https://matplotlib.org/gallery.html)\n",
        "- [Pandas](https://pandas.pydata.org/pandas-docs/stable/visualization.html)\n",
        "\n",
        "Reproduce the chart. [Optionally, try the \"Ben Franklin Method.\"](https://docs.google.com/document/d/1ubOw9B3Hfip27hF2ZFnW3a3z9xAgrUDRReOEo-FHCVs/edit) If you want, experiment and make changes.\n",
        "\n",
        "Take notes. Consider sharing your work with your cohort!"
      ]
    },
    {
      "cell_type": "code",
      "metadata": {
        "id": "dRJkKftiy5BJ",
        "colab_type": "code",
        "colab": {}
      },
      "source": [
        "# More Work Here"
      ],
      "execution_count": 0,
      "outputs": []
    }
  ]
}