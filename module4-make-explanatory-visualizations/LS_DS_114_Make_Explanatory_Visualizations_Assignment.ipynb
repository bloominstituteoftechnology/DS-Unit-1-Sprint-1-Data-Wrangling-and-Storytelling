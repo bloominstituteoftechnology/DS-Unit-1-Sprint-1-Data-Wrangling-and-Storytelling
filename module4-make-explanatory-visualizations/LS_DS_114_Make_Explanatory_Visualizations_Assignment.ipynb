{
  "nbformat": 4,
  "nbformat_minor": 0,
  "metadata": {
    "colab": {
      "name": "LS_DS_114_Make_Explanatory_Visualizations_Assignment.ipynb",
      "provenance": [],
      "collapsed_sections": [],
      "include_colab_link": true
    },
    "language_info": {
      "codemirror_mode": {
        "name": "ipython",
        "version": 3
      },
      "file_extension": ".py",
      "mimetype": "text/x-python",
      "name": "python",
      "nbconvert_exporter": "python",
      "pygments_lexer": "ipython3",
      "version": "3.7.1"
    },
    "kernelspec": {
      "display_name": "Python 3",
      "language": "python",
      "name": "python3"
    }
  },
  "cells": [
    {
      "cell_type": "markdown",
      "metadata": {
        "id": "view-in-github",
        "colab_type": "text"
      },
      "source": [
        "<a href=\"https://colab.research.google.com/github/cjakuc/DS-Unit-1-Sprint-1-Data-Wrangling-and-Storytelling/blob/master/module4-make-explanatory-visualizations/LS_DS_114_Make_Explanatory_Visualizations_Assignment.ipynb\" target=\"_parent\"><img src=\"https://colab.research.google.com/assets/colab-badge.svg\" alt=\"Open In Colab\"/></a>"
      ]
    },
    {
      "cell_type": "markdown",
      "metadata": {
        "colab_type": "text",
        "id": "NMEswXWh9mqw"
      },
      "source": [
        "Lambda School Data Science\n",
        "\n",
        "*Unit 1, Sprint 1, Module 4*\n",
        "\n",
        "---\n",
        "\n",
        "# ASSIGNMENT\n",
        "\n",
        "### 1) Replicate the lesson code. I recommend that you [do not copy-paste](https://docs.google.com/document/d/1ubOw9B3Hfip27hF2ZFnW3a3z9xAgrUDRReOEo-FHCVs/edit).\n",
        "\n",
        "Get caught up to where we got our example in class and then try and take things further. How close to \"pixel perfect\" can you make the lecture graph?\n",
        "\n",
        "Once you have something that you're proud of, share your graph in the cohort channel and move on to the second exercise.\n",
        "\n",
        "### 2) Reproduce another example from [FiveThityEight's shared data repository](https://data.fivethirtyeight.com/).\n",
        "\n",
        "**WARNING**: There are a lot of very custom graphs and tables at the above link. I **highly** recommend not trying to reproduce any that look like a table of values or something really different from the graph types that we are already familiar with. Search through the posts until you find a graph type that you are more or less familiar with: histogram, bar chart, stacked bar chart, line chart, [seaborn relplot](https://seaborn.pydata.org/generated/seaborn.relplot.html), etc. Recreating some of the graphics that 538 uses would be a lot easier in Adobe photoshop/illustrator than with matplotlib. \n",
        "\n",
        "- If you put in some time to find a graph that looks \"easy\" to replicate you'll probably find that it's not as easy as you thought. \n",
        "\n",
        "- If you start with a graph that looks hard to replicate you'll probably run up against a brick wall and be disappointed with your afternoon.\n",
        "\n",
        "\n",
        "\n",
        "\n",
        "\n",
        "\n",
        "\n",
        "\n",
        "\n",
        "\n"
      ]
    },
    {
      "cell_type": "code",
      "metadata": {
        "id": "21ogLvb_9p2r",
        "colab_type": "code",
        "colab": {
          "base_uri": "https://localhost:8080/",
          "height": 285
        },
        "outputId": "8edcf8ba-0589-4902-83d7-5ec18461ae8c"
      },
      "source": [
        "%matplotlib inline\n",
        "import matplotlib.pyplot as plt\n",
        "import numpy as np\n",
        "import pandas as pd\n",
        "\n",
        "\n",
        "plt.style.use('fivethirtyeight')\n",
        "\n",
        "fake = pd.Series([38, 3, 2, 1, 2, 4, 6, 5, 5, 33], \n",
        "                 index=range(1,11))\n",
        "\n",
        "fake.plot.bar(color='C1',width = 0.9);"
      ],
      "execution_count": 1,
      "outputs": [
        {
          "output_type": "display_data",
          "data": {
            "image/png": "[encoded data removed]",
            "text/plain": [
              "<Figure size 432x288 with 1 Axes>"
            ]
          },
          "metadata": {
            "tags": []
          }
        }
      ]
    },
    {
      "cell_type": "code",
      "metadata": {
        "id": "7SY1ZHawyZvz",
        "colab_type": "code",
        "colab": {
          "base_uri": "https://localhost:8080/",
          "height": 355
        },
        "outputId": "07fa678b-9114-49f2-d957-293ba1da10e7"
      },
      "source": [
        "from matplotlib.ticker import AutoMinorLocator, MultipleLocator\n",
        "# Set stylesheet\n",
        "plt.style.use('fivethirtyeight') # Set style\n",
        "\n",
        "# Figure / axes syntax\n",
        "fig, ax = plt.subplots()\n",
        "\n",
        "# Add the gray bar\n",
        "# ax.hlines(xmin=-4,xmax=10,y=-8,color='gray')\n",
        "# ax.axhline(xmin=-20,xmax=10,y=-7.5,color='gray')\n",
        "\n",
        "# Hack the gray bar\n",
        "ax.text(s='_______________________________________________________________________________________________________________________',\n",
        "        color='gray',fontsize=7,x=-1.5,y=-8)\n",
        "\n",
        "# Plot the bars\n",
        "fake.plot.bar(width=.9,color='#ED7139')\n",
        "\n",
        "# Title\n",
        "ax.set_title(\"'An Inconvenient Sequel: Truth to Power' is divisive\",\n",
        "             loc='left',\n",
        "             c='black',\n",
        "             fontsize=12,fontweight='bold',\n",
        "             x=-.07,\n",
        "             y=1.1)\n",
        "\n",
        "# Subtitle\n",
        "ax.text(s='IMDB ratings for the film as of Aug. 29',\n",
        "        y=42,x=-1.35,\n",
        "        c='black',\n",
        "        fontsize=12)\n",
        "\n",
        "# X Label\n",
        "ax.set_xlabel('Rating',\n",
        "              c='black',\n",
        "              fontweight='bold',\n",
        "              fontsize=11)\n",
        "\n",
        "# Y Label\n",
        "ax.set_ylabel('Percent of total votes',\n",
        "              c='black',\n",
        "              fontweight='bold',\n",
        "              fontsize=11)\n",
        "\n",
        "# X Axis Tick Labels\n",
        "ax.set_xticklabels(range(1,11,1),\n",
        "                   c='grey',\n",
        "                   rotation='horizontal',\n",
        "                   fontsize=10)\n",
        "\n",
        "# Y Axis Tick Labels\n",
        "ax.set_yticklabels(['0','10','20','30',\"40%\"],\n",
        "                   c='grey',\n",
        "                   rotation='horizontal',\n",
        "                   fontsize=10)\n",
        "# Set Y ticks\n",
        "ax.set_yticks(ticks=range(0,50,10))\n",
        "\n",
        "# Set figure background color\n",
        "fig.set_facecolor(color='white')\n",
        "\n",
        "# Set axes background color\n",
        "ax.set_facecolor(color='white')\n",
        "\n",
        "# FiveThirtyEight Footer\n",
        "ax.text(s='FiveThirtyEight',\n",
        "        y=-10,x=-1.35,\n",
        "        c='grey',\n",
        "        fontsize=9)\n",
        "\n",
        "# Source Footer\n",
        "ax.text(s='SOURCE: IMDB',\n",
        "        y=-10,x=8.1,\n",
        "        c='grey',\n",
        "        fontsize=9)\n",
        "\n",
        "# Frame off\n",
        "ax.spines['bottom'].set_color(None)\n",
        "ax.spines['top'].set_color(None)\n",
        "ax.spines['left'].set_color(None)\n",
        "ax.spines['right'].set_color(None)\n",
        "\n",
        "# Extend the grid\n",
        "plt.ylim(-1,41)\n",
        "# ax.tick_params(which='both', length=10,color='grey')\n",
        "# ax.tick_params(top=True, length=2,color='grey')\n",
        "# ax.tick_params(bottom=True, length=8,color='grey')\n",
        "\n",
        "# Save the figure\n",
        "plt.savefig('Explanatory Visualizations Assignment.png')"
      ],
      "execution_count": 260,
      "outputs": [
        {
          "output_type": "display_data",
          "data": {
            "image/png": "[encoded data removed]",
            "text/plain": [
              "<Figure size 432x288 with 1 Axes>"
            ]
          },
          "metadata": {
            "tags": []
          }
        }
      ]
    },
    {
      "cell_type": "markdown",
      "metadata": {
        "id": "q4jlSlI6LsTB",
        "colab_type": "text"
      },
      "source": [
        "# Part 2"
      ]
    },
    {
      "cell_type": "markdown",
      "metadata": {
        "id": "aBNEnG26WQNR",
        "colab_type": "text"
      },
      "source": [
        "Source: https://fivethirtyeight.com/features/how-qi-and-za-changed-scrabble/\n",
        "\n",
        "Graph:https://fivethirtyeight.com/wp-content/uploads/2017/04/roeder-scrabble-1.png?w=1150"
      ]
    },
    {
      "cell_type": "code",
      "metadata": {
        "id": "dRJkKftiy5BJ",
        "colab_type": "code",
        "colab": {}
      },
      "source": [
        "url = 'https://github.com/fivethirtyeight/data/blob/master/scrabble-games/scrabble_games.csv?raw=true'\n",
        "df = pd.read_csv(url)"
      ],
      "execution_count": 0,
      "outputs": []
    },
    {
      "cell_type": "code",
      "metadata": {
        "id": "Xu8bdypANXng",
        "colab_type": "code",
        "colab": {
          "base_uri": "https://localhost:8080/",
          "height": 309
        },
        "outputId": "8c1a8393-32c5-4054-982d-43503badbc74"
      },
      "source": [
        "df.head()"
      ],
      "execution_count": 67,
      "outputs": [
        {
          "output_type": "execute_result",
          "data": {
            "text/html": [
              "<div>\n",
              "<style scoped>\n",
              "    .dataframe tbody tr th:only-of-type {\n",
              "        vertical-align: middle;\n",
              "    }\n",
              "\n",
              "    .dataframe tbody tr th {\n",
              "        vertical-align: top;\n",
              "    }\n",
              "\n",
              "    .dataframe thead th {\n",
              "        text-align: right;\n",
              "    }\n",
              "</style>\n",
              "<table border=\"1\" class=\"dataframe\">\n",
              "  <thead>\n",
              "    <tr style=\"text-align: right;\">\n",
              "      <th></th>\n",
              "      <th>gameid</th>\n",
              "      <th>tourneyid</th>\n",
              "      <th>tie</th>\n",
              "      <th>winnerid</th>\n",
              "      <th>winnername</th>\n",
              "      <th>winnerscore</th>\n",
              "      <th>winneroldrating</th>\n",
              "      <th>winnernewrating</th>\n",
              "      <th>winnerpos</th>\n",
              "      <th>loserid</th>\n",
              "      <th>losername</th>\n",
              "      <th>loserscore</th>\n",
              "      <th>loseroldrating</th>\n",
              "      <th>losernewrating</th>\n",
              "      <th>loserpos</th>\n",
              "      <th>round</th>\n",
              "      <th>division</th>\n",
              "      <th>date</th>\n",
              "      <th>lexicon</th>\n",
              "    </tr>\n",
              "  </thead>\n",
              "  <tbody>\n",
              "    <tr>\n",
              "      <th>0</th>\n",
              "      <td>1</td>\n",
              "      <td>1</td>\n",
              "      <td>False</td>\n",
              "      <td>268</td>\n",
              "      <td>Harriette Lakernick</td>\n",
              "      <td>0</td>\n",
              "      <td>1568</td>\n",
              "      <td>1684</td>\n",
              "      <td>1</td>\n",
              "      <td>429</td>\n",
              "      <td>Patricia Barrett</td>\n",
              "      <td>0</td>\n",
              "      <td>1915</td>\n",
              "      <td>1872</td>\n",
              "      <td>3</td>\n",
              "      <td>1</td>\n",
              "      <td>1</td>\n",
              "      <td>1998-12-06</td>\n",
              "      <td>False</td>\n",
              "    </tr>\n",
              "    <tr>\n",
              "      <th>1</th>\n",
              "      <td>2</td>\n",
              "      <td>1</td>\n",
              "      <td>False</td>\n",
              "      <td>268</td>\n",
              "      <td>Harriette Lakernick</td>\n",
              "      <td>0</td>\n",
              "      <td>1568</td>\n",
              "      <td>1684</td>\n",
              "      <td>1</td>\n",
              "      <td>435</td>\n",
              "      <td>Chris Cree</td>\n",
              "      <td>0</td>\n",
              "      <td>1840</td>\n",
              "      <td>1798</td>\n",
              "      <td>6</td>\n",
              "      <td>2</td>\n",
              "      <td>1</td>\n",
              "      <td>1998-12-06</td>\n",
              "      <td>False</td>\n",
              "    </tr>\n",
              "    <tr>\n",
              "      <th>2</th>\n",
              "      <td>3</td>\n",
              "      <td>1</td>\n",
              "      <td>False</td>\n",
              "      <td>268</td>\n",
              "      <td>Harriette Lakernick</td>\n",
              "      <td>0</td>\n",
              "      <td>1568</td>\n",
              "      <td>1684</td>\n",
              "      <td>1</td>\n",
              "      <td>441</td>\n",
              "      <td>Caesar Jaramillo</td>\n",
              "      <td>0</td>\n",
              "      <td>1622</td>\n",
              "      <td>1606</td>\n",
              "      <td>10</td>\n",
              "      <td>3</td>\n",
              "      <td>1</td>\n",
              "      <td>1998-12-06</td>\n",
              "      <td>False</td>\n",
              "    </tr>\n",
              "    <tr>\n",
              "      <th>3</th>\n",
              "      <td>4</td>\n",
              "      <td>1</td>\n",
              "      <td>False</td>\n",
              "      <td>268</td>\n",
              "      <td>Harriette Lakernick</td>\n",
              "      <td>0</td>\n",
              "      <td>1568</td>\n",
              "      <td>1684</td>\n",
              "      <td>1</td>\n",
              "      <td>456</td>\n",
              "      <td>Mike Chitwood</td>\n",
              "      <td>0</td>\n",
              "      <td>1612</td>\n",
              "      <td>1600</td>\n",
              "      <td>9</td>\n",
              "      <td>4</td>\n",
              "      <td>1</td>\n",
              "      <td>1998-12-06</td>\n",
              "      <td>False</td>\n",
              "    </tr>\n",
              "    <tr>\n",
              "      <th>4</th>\n",
              "      <td>5</td>\n",
              "      <td>1</td>\n",
              "      <td>False</td>\n",
              "      <td>268</td>\n",
              "      <td>Harriette Lakernick</td>\n",
              "      <td>0</td>\n",
              "      <td>1568</td>\n",
              "      <td>1684</td>\n",
              "      <td>1</td>\n",
              "      <td>1334</td>\n",
              "      <td>Nancy Scott</td>\n",
              "      <td>0</td>\n",
              "      <td>1537</td>\n",
              "      <td>1590</td>\n",
              "      <td>4</td>\n",
              "      <td>6</td>\n",
              "      <td>1</td>\n",
              "      <td>1998-12-06</td>\n",
              "      <td>False</td>\n",
              "    </tr>\n",
              "  </tbody>\n",
              "</table>\n",
              "</div>"
            ],
            "text/plain": [
              "   gameid  tourneyid    tie  winnerid  ... round  division        date  lexicon\n",
              "0       1          1  False       268  ...     1         1  1998-12-06    False\n",
              "1       2          1  False       268  ...     2         1  1998-12-06    False\n",
              "2       3          1  False       268  ...     3         1  1998-12-06    False\n",
              "3       4          1  False       268  ...     4         1  1998-12-06    False\n",
              "4       5          1  False       268  ...     6         1  1998-12-06    False\n",
              "\n",
              "[5 rows x 19 columns]"
            ]
          },
          "metadata": {
            "tags": []
          },
          "execution_count": 67
        }
      ]
    },
    {
      "cell_type": "code",
      "metadata": {
        "id": "kT1xfUunNZjh",
        "colab_type": "code",
        "colab": {
          "base_uri": "https://localhost:8080/",
          "height": 204
        },
        "outputId": "28db618d-82b8-4004-f766-f815bef5af21"
      },
      "source": [
        "df = df[['winnerscore','loserscore']]\n",
        "df.head()"
      ],
      "execution_count": 68,
      "outputs": [
        {
          "output_type": "execute_result",
          "data": {
            "text/html": [
              "<div>\n",
              "<style scoped>\n",
              "    .dataframe tbody tr th:only-of-type {\n",
              "        vertical-align: middle;\n",
              "    }\n",
              "\n",
              "    .dataframe tbody tr th {\n",
              "        vertical-align: top;\n",
              "    }\n",
              "\n",
              "    .dataframe thead th {\n",
              "        text-align: right;\n",
              "    }\n",
              "</style>\n",
              "<table border=\"1\" class=\"dataframe\">\n",
              "  <thead>\n",
              "    <tr style=\"text-align: right;\">\n",
              "      <th></th>\n",
              "      <th>winnerscore</th>\n",
              "      <th>loserscore</th>\n",
              "    </tr>\n",
              "  </thead>\n",
              "  <tbody>\n",
              "    <tr>\n",
              "      <th>0</th>\n",
              "      <td>0</td>\n",
              "      <td>0</td>\n",
              "    </tr>\n",
              "    <tr>\n",
              "      <th>1</th>\n",
              "      <td>0</td>\n",
              "      <td>0</td>\n",
              "    </tr>\n",
              "    <tr>\n",
              "      <th>2</th>\n",
              "      <td>0</td>\n",
              "      <td>0</td>\n",
              "    </tr>\n",
              "    <tr>\n",
              "      <th>3</th>\n",
              "      <td>0</td>\n",
              "      <td>0</td>\n",
              "    </tr>\n",
              "    <tr>\n",
              "      <th>4</th>\n",
              "      <td>0</td>\n",
              "      <td>0</td>\n",
              "    </tr>\n",
              "  </tbody>\n",
              "</table>\n",
              "</div>"
            ],
            "text/plain": [
              "   winnerscore  loserscore\n",
              "0            0           0\n",
              "1            0           0\n",
              "2            0           0\n",
              "3            0           0\n",
              "4            0           0"
            ]
          },
          "metadata": {
            "tags": []
          },
          "execution_count": 68
        }
      ]
    },
    {
      "cell_type": "code",
      "metadata": {
        "id": "9Vb9AXvJO30u",
        "colab_type": "code",
        "colab": {}
      },
      "source": [
        "condition = (df['winnerscore'] > 0) & (df['loserscore'] > 0)\n",
        "df = df[condition]"
      ],
      "execution_count": 0,
      "outputs": []
    },
    {
      "cell_type": "code",
      "metadata": {
        "id": "TTUOVAy6NjX8",
        "colab_type": "code",
        "colab": {
          "base_uri": "https://localhost:8080/",
          "height": 397
        },
        "outputId": "1342fd45-47c9-4316-bb92-7ee7ec2d74f0"
      },
      "source": [
        "# Set stylesheet\n",
        "plt.style.use('fivethirtyeight')\n",
        "# Figure / axes syntax\n",
        "fig, ax = plt.subplots()\n",
        "# Plot the histogram\n",
        "df['loserscore'].plot.hist(by='loserscore',bins=600,color='#F85447')\n",
        "df['winnerscore'].plot.hist(by='winnerscore',bins=785,color='#69BA6C')\n",
        "\n",
        "# Title\n",
        "ax.set_title('700,000 games of Scrabble',\n",
        "             loc='left',\n",
        "             color='black',\n",
        "             fontsize=20,\n",
        "             fontweight='bold',\n",
        "             x=-.1,\n",
        "             y=1.15)\n",
        "# Subtitle\n",
        "ax.text(s='All tournament Scrabble scores on cross-tables.com',\n",
        "        color='black',\n",
        "        fontsize=13,\n",
        "        x=-110,\n",
        "        y=11000)\n",
        "# X axis label\n",
        "ax.set_xlabel('Score',\n",
        "              fontweight='bold',\n",
        "              fontsize=12)\n",
        "# Y axis label\n",
        "ax.set_ylabel(None)\n",
        "# X axis tick labels\n",
        "ax.set_xticklabels(labels=['0 points','200','400','600','800'],\n",
        "                   color='gray',\n",
        "                   fontsize=11)\n",
        "# Set x ticks\n",
        "ax.set_xticks(ticks=[0,200,400,600,800])\n",
        "# Y axis tick labels\n",
        "ax.set_yticklabels(labels=['0','2.5','5.0','7.5','10.0k scores'],\n",
        "                   color='gray',\n",
        "                   fontsize=11)\n",
        "# Set y ticks\n",
        "ax.set_yticks(ticks=[0,2500,5000,7500,10000])\n",
        "# FiveThirtyEight Footer\n",
        "ax.text(s='FiveThirtyEight',\n",
        "        y=-2500,x=-60,\n",
        "        c='grey',\n",
        "        fontsize=9)\n",
        "# Source Footer\n",
        "ax.text(s='SOURCE: CROSS-TABLES.COM',\n",
        "        y=-2500,x=680,\n",
        "        c='grey',\n",
        "        fontsize=9)\n",
        "# Annotate 'Winning scores'\n",
        "ax.annotate('Winning',\n",
        "            xy=(350, 1700),\n",
        "            weight='bold',\n",
        "            color='white',\n",
        "            fontsize=11)\n",
        "ax.annotate('scores',\n",
        "            xy=(365, 1300),\n",
        "            weight='bold',\n",
        "            color='white',\n",
        "            fontsize=11)\n",
        "# Annotate 'Losing scores'\n",
        "ax.annotate('Losing',\n",
        "            xy=(280, 3600),\n",
        "            weight='bold',\n",
        "            color='white',\n",
        "            fontsize=11)\n",
        "ax.annotate('scores',\n",
        "            xy=(295, 3200),\n",
        "            weight='bold',\n",
        "            color='white',\n",
        "            fontsize=11)"
      ],
      "execution_count": 237,
      "outputs": [
        {
          "output_type": "execute_result",
          "data": {
            "text/plain": [
              "Text(295, 3200, 'scores')"
            ]
          },
          "metadata": {
            "tags": []
          },
          "execution_count": 237
        },
        {
          "output_type": "display_data",
          "data": {
            "image/png": "[encoded data removed]",
            "text/plain": [
              "<Figure size 432x288 with 1 Axes>"
            ]
          },
          "metadata": {
            "tags": []
          }
        }
      ]
    },
    {
      "cell_type": "markdown",
      "metadata": {
        "id": "0wSrBzmJyWaV",
        "colab_type": "text"
      },
      "source": [
        "# STRETCH OPTIONS\n",
        "\n",
        "### 1) Reproduce one of the following using the matplotlib or seaborn libraries:\n",
        "\n",
        "- [thanksgiving-2015](https://fivethirtyeight.com/features/heres-what-your-part-of-america-eats-on-thanksgiving/) \n",
        "- [candy-power-ranking](https://fivethirtyeight.com/features/the-ultimate-halloween-candy-power-ranking/) \n",
        "- or another example of your choice!"
      ]
    },
    {
      "cell_type": "markdown",
      "metadata": {
        "id": "Tx9-pRdkJn8F",
        "colab_type": "text"
      },
      "source": [
        "### 2) Make more charts!\n",
        "\n",
        "Choose a chart you want to make, from [Visual Vocabulary - Vega Edition](http://ft.com/vocabulary).\n",
        "\n",
        "Find the chart in an example gallery of a Python data visualization library:\n",
        "- [Seaborn](http://seaborn.pydata.org/examples/index.html)\n",
        "- [Altair](https://altair-viz.github.io/gallery/index.html)\n",
        "- [Matplotlib](https://matplotlib.org/gallery.html)\n",
        "- [Pandas](https://pandas.pydata.org/pandas-docs/stable/visualization.html)\n",
        "\n",
        "Reproduce the chart. [Optionally, try the \"Ben Franklin Method.\"](https://docs.google.com/document/d/1ubOw9B3Hfip27hF2ZFnW3a3z9xAgrUDRReOEo-FHCVs/edit) If you want, experiment and make changes.\n",
        "\n",
        "Take notes. Consider sharing your work with your cohort!"
      ]
    },
    {
      "cell_type": "markdown",
      "metadata": {
        "id": "QsmHrXKgovq3",
        "colab_type": "text"
      },
      "source": [
        "Source: https://altair-viz.github.io/gallery/choropleth.html"
      ]
    },
    {
      "cell_type": "code",
      "metadata": {
        "id": "91wbYdBXLEfa",
        "colab_type": "code",
        "colab": {
          "base_uri": "https://localhost:8080/",
          "height": 331
        },
        "outputId": "8ea728ca-a174-4894-c5ba-45d840011667"
      },
      "source": [
        "import altair as alt\n",
        "from vega_datasets import data\n",
        "\n",
        "counties = alt.topo_feature(data.us_10m.url, 'counties')\n",
        "source = data.unemployment.url\n",
        "\n",
        "alt.Chart(counties,background='gray').mark_geoshape().encode(\n",
        "    color='rate:Q'\n",
        ").transform_lookup(\n",
        "    lookup='id',\n",
        "    from_=alt.LookupData(source, 'id', ['rate'])\n",
        ").project(\n",
        "    type='albersUsa'\n",
        ").properties(\n",
        "    width=500,\n",
        "    height=300\n",
        ")"
      ],
      "execution_count": 248,
      "outputs": [
        {
          "output_type": "execute_result",
          "data": {
            "text/plain": [
              "alt.Chart(...)"
            ],
            "text/html": [
              "\n",
              "<div id=\"altair-viz-7\"></div>\n",
              "<script type=\"text/javascript\">\n",
              "  (function(spec, embedOpt){\n",
              "    const outputDiv = document.getElementById(\"altair-viz-7\");\n",
              "    const paths = {\n",
              "      \"vega\": \"https://cdn.jsdelivr.net/npm//vega@5?noext\",\n",
              "      \"vega-lib\": \"https://cdn.jsdelivr.net/npm//vega-lib?noext\",\n",
              "      \"vega-lite\": \"https://cdn.jsdelivr.net/npm//vega-lite@4.0.0?noext\",\n",
              "      \"vega-embed\": \"https://cdn.jsdelivr.net/npm//vega-embed@6?noext\",\n",
              "    };\n",
              "\n",
              "    function loadScript(lib) {\n",
              "      return new Promise(function(resolve, reject) {\n",
              "        var s = document.createElement('script');\n",
              "        s.src = paths[lib];\n",
              "        s.async = true;\n",
              "        s.onload = () => resolve(paths[lib]);\n",
              "        s.onerror = () => reject(`Error loading script: ${paths[lib]}`);\n",
              "        document.getElementsByTagName(\"head\")[0].appendChild(s);\n",
              "      });\n",
              "    }\n",
              "\n",
              "    function showError(err) {\n",
              "      outputDiv.innerHTML = `<div class=\"error\" style=\"color:red;\">${err}</div>`;\n",
              "      throw err;\n",
              "    }\n",
              "\n",
              "    function displayChart(vegaEmbed) {\n",
              "      vegaEmbed(outputDiv, spec, embedOpt)\n",
              "        .catch(err => showError(`Javascript Error: ${err.message}<br>This usually means there's a typo in your chart specification. See the javascript console for the full traceback.`));\n",
              "    }\n",
              "\n",
              "    if(typeof define === \"function\" && define.amd) {\n",
              "      requirejs.config({paths});\n",
              "      require([\"vega-embed\"], displayChart, err => showError(`Error loading script: ${err.message}`));\n",
              "    } else if (typeof vegaEmbed === \"function\") {\n",
              "      displayChart(vegaEmbed);\n",
              "    } else {\n",
              "      loadScript(\"vega\")\n",
              "        .then(() => loadScript(\"vega-lite\"))\n",
              "        .then(() => loadScript(\"vega-embed\"))\n",
              "        .catch(showError)\n",
              "        .then(() => displayChart(vegaEmbed));\n",
              "    }\n",
              "  })({\"config\": {\"view\": {\"continuousWidth\": 400, \"continuousHeight\": 300}}, \"data\": {\"url\": \"https://vega.github.io/vega-datasets/data/us-10m.json\", \"format\": {\"feature\": \"counties\", \"type\": \"topojson\"}}, \"mark\": \"geoshape\", \"background\": \"gray\", \"encoding\": {\"color\": {\"type\": \"quantitative\", \"field\": \"rate\"}}, \"height\": 300, \"projection\": {\"type\": \"albersUsa\"}, \"transform\": [{\"lookup\": \"id\", \"from\": {\"data\": {\"url\": \"https://vega.github.io/vega-datasets/data/unemployment.tsv\"}, \"key\": \"id\", \"fields\": [\"rate\"]}}], \"width\": 500, \"$schema\": \"https://vega.github.io/schema/vega-lite/v4.0.0.json\"}, {\"mode\": \"vega-lite\"});\n",
              "</script>"
            ]
          },
          "metadata": {
            "tags": []
          },
          "execution_count": 248
        }
      ]
    }
  ]
}