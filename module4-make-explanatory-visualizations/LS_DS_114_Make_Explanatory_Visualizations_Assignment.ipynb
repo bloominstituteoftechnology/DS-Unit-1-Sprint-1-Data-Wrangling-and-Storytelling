{
  "nbformat": 4,
  "nbformat_minor": 0,
  "metadata": {
    "colab": {
      "name": "Copy of LS_DS_114_Make_Explanatory_Visualizations_Assignment.ipynb",
      "provenance": [],
      "collapsed_sections": [],
      "include_colab_link": true
    },
    "language_info": {
      "codemirror_mode": {
        "name": "ipython",
        "version": 3
      },
      "file_extension": ".py",
      "mimetype": "text/x-python",
      "name": "python",
      "nbconvert_exporter": "python",
      "pygments_lexer": "ipython3",
      "version": "3.7.1"
    },
    "kernelspec": {
      "display_name": "Python 3",
      "language": "python",
      "name": "python3"
    }
  },
  "cells": [
    {
      "cell_type": "markdown",
      "metadata": {
        "id": "view-in-github",
        "colab_type": "text"
      },
      "source": [
        "<a href=\"https://colab.research.google.com/github/sberniz/DS-Unit-1-Sprint-1-Data-Wrangling-and-Storytelling/blob/master/module4-make-explanatory-visualizations/LS_DS_114_Make_Explanatory_Visualizations_Assignment.ipynb\" target=\"_parent\"><img src=\"https://colab.research.google.com/assets/colab-badge.svg\" alt=\"Open In Colab\"/></a>"
      ]
    },
    {
      "cell_type": "markdown",
      "metadata": {
        "colab_type": "text",
        "id": "NMEswXWh9mqw"
      },
      "source": [
        "Lambda School Data Science\n",
        "\n",
        "*Unit 1, Sprint 1, Module 4*\n",
        "\n",
        "---\n",
        "\n",
        "# ASSIGNMENT\n",
        "\n",
        "### 1) Replicate the lesson code. I recommend that you [do not copy-paste](https://docs.google.com/document/d/1ubOw9B3Hfip27hF2ZFnW3a3z9xAgrUDRReOEo-FHCVs/edit).\n",
        "\n",
        "Get caught up to where we got our example in class and then try and take things further. How close to \"pixel perfect\" can you make the lecture graph?\n",
        "\n",
        "Once you have something that you're proud of, share your graph in the cohort channel and move on to the second exercise.\n",
        "\n",
        "### 2) Reproduce another example from [FiveThityEight's shared data repository](https://data.fivethirtyeight.com/).\n",
        "\n",
        "**WARNING**: There are a lot of very custom graphs and tables at the above link. I **highly** recommend not trying to reproduce any that look like a table of values or something really different from the graph types that we are already familiar with. Search through the posts until you find a graph type that you are more or less familiar with: histogram, bar chart, stacked bar chart, line chart, [seaborn relplot](https://seaborn.pydata.org/generated/seaborn.relplot.html), etc. Recreating some of the graphics that 538 uses would be a lot easier in Adobe photoshop/illustrator than with matplotlib. \n",
        "\n",
        "- If you put in some time to find a graph that looks \"easy\" to replicate you'll probably find that it's not as easy as you thought. \n",
        "\n",
        "- If you start with a graph that looks hard to replicate you'll probably run up against a brick wall and be disappointed with your afternoon.\n",
        "\n",
        "\n",
        "\n",
        "\n",
        "\n",
        "\n",
        "\n",
        "\n",
        "\n",
        "\n"
      ]
    },
    {
      "cell_type": "code",
      "metadata": {
        "id": "CV6CGthq0yuq",
        "colab_type": "code",
        "colab": {}
      },
      "source": [
        "#Import Pandas, matplotlib.pyplot, and numpy\n",
        "%matplotlib inline\n",
        "import matplotlib.style as style\n",
        "import pandas as pd\n",
        "import matplotlib.pyplot as plt\n",
        "import numpy as np\n"
      ],
      "execution_count": 0,
      "outputs": []
    },
    {
      "cell_type": "code",
      "metadata": {
        "id": "CR-05G2T0XvE",
        "colab_type": "code",
        "colab": {
          "base_uri": "https://localhost:8080/",
          "height": 355
        },
        "outputId": "06e33189-a45f-4936-ae40-1aba9ebb806a"
      },
      "source": [
        "#Getting example to compare to \n",
        "from IPython.display import display, Image\n",
        "\n",
        "url = 'https://fivethirtyeight.com/wp-content/uploads/2017/09/mehtahickey-inconvenient-0830-1.png'\n",
        "example = Image(url=url, width=400)\n",
        "\n",
        "display(example)"
      ],
      "execution_count": 1,
      "outputs": [
        {
          "output_type": "display_data",
          "data": {
            "text/html": [
              "<img src=\"https://fivethirtyeight.com/wp-content/uploads/2017/09/mehtahickey-inconvenient-0830-1.png\" width=\"400\"/>"
            ],
            "text/plain": [
              "<IPython.core.display.Image object>"
            ]
          },
          "metadata": {
            "tags": []
          }
        }
      ]
    },
    {
      "cell_type": "markdown",
      "metadata": {
        "id": "VdtohNql0UGl",
        "colab_type": "text"
      },
      "source": [
        "Part 1: REplicate Lesson CODE:"
      ]
    },
    {
      "cell_type": "code",
      "metadata": {
        "id": "lIoiZUov107Q",
        "colab_type": "code",
        "colab": {}
      },
      "source": [
        "#Fake pd series\n",
        "fake = pd.Series([38, 3, 2, 1, 2, 4, 6, 5, 5, 33], \n",
        "                 index=range(1,11))"
      ],
      "execution_count": 0,
      "outputs": []
    },
    {
      "cell_type": "code",
      "metadata": {
        "id": "7SY1ZHawyZvz",
        "colab_type": "code",
        "colab": {
          "base_uri": "https://localhost:8080/",
          "height": 370
        },
        "outputId": "f445f137-43c8-4a4a-d338-1301ed371fd3"
      },
      "source": [
        "\n",
        "# Your Work Here\n",
        "#Part 1 , Replicate Lesson Code\n",
        "#Set Style\n",
        "plt.style.use('fivethirtyeight')\n",
        "fig, ax = plt.subplots() #call subplot on fig\n",
        "fig.patch.set_color('white')\n",
        "#put bar on the graph\n",
        "ax.bar(x=[1,2,3,4,5,6,7,8,9,10], height=fake,color='#ED813A', width=0.8)\n",
        "\n",
        "#background/face color\n",
        "ax.set_facecolor('white')\n",
        "\n",
        "#Y axis Tick marks and tick labels\n",
        "ax.set_yticks(range(0,50,10))\n",
        "ax.set_yticklabels([0,10,20,30,'40%'],fontsize=10,color='grey')\n",
        "\n",
        "#X axis tick marks and labels\n",
        "ax.set_xticks(range(1,11,1))\n",
        "ax.set_xticklabels(range(1,11,1),fontsize=9,color='gray')\n",
        "\n",
        "#X axis label\n",
        "ax.set_xlabel('Rating',fontsize=9,fontweight='bold')\n",
        "#Y axis label\n",
        "ax.set_ylabel('Percent of total votes',fontsize=10,fontweight='bold')\n",
        "\n",
        "#Graph title\n",
        "ax.set_title('\\'An Inconvinient Sequel: Truth to Power\\' is divisive', fontweight='100',fontsize='12',x=0.35,y=1.1,linespacing=1.5, fontname='Arial Black')\n",
        "#GraphSubtitle\n",
        "ax.text(s='IMDb ratings for the film as of Aug.29',x=-1.2,y=42,fontsize=10)\n",
        "\n",
        "#remove spines\n",
        "ax.spines['top'].set_visible(False)\n",
        "ax.spines['right'].set_visible(False)\n",
        "ax.spines['bottom'].set_visible(False)\n",
        "ax.spines['left'].set_visible(False)\n",
        "ax.text(s='FiveThirtyEight', y=-11,x=-0.8,fontsize=9,color='gray')\n",
        "ax.text(s='Source IMDB', y=-11,x=9,fontsize=9,color='gray')\n",
        "ax.text(s=('_' * 93), y=-9, x=-0.8, fontsize=9, color='gray')\n",
        "\n",
        "plt.show()"
      ],
      "execution_count": 213,
      "outputs": [
        {
          "output_type": "display_data",
          "data": {
            "image/png": "[encoded data removed]",
            "text/plain": [
              "<Figure size 432x288 with 1 Axes>"
            ]
          },
          "metadata": {
            "tags": []
          }
        }
      ]
    },
    {
      "cell_type": "code",
      "metadata": {
        "id": "tujF7Uih7OBy",
        "colab_type": "code",
        "colab": {
          "base_uri": "https://localhost:8080/",
          "height": 355
        },
        "outputId": "7992b1de-9577-4c2b-dd80-1d3393b5729a"
      },
      "source": [
        "display(example)"
      ],
      "execution_count": 30,
      "outputs": [
        {
          "output_type": "display_data",
          "data": {
            "text/html": [
              "<img src=\"https://fivethirtyeight.com/wp-content/uploads/2017/09/mehtahickey-inconvenient-0830-1.png\" width=\"400\"/>"
            ],
            "text/plain": [
              "<IPython.core.display.Image object>"
            ]
          },
          "metadata": {
            "tags": []
          }
        }
      ]
    },
    {
      "cell_type": "markdown",
      "metadata": {
        "id": "j8YTcSosNeq_",
        "colab_type": "text"
      },
      "source": [
        "part 2 mimic 538\n"
      ]
    },
    {
      "cell_type": "code",
      "metadata": {
        "id": "bc6zhBY4f0kS",
        "colab_type": "code",
        "colab": {
          "base_uri": "https://localhost:8080/",
          "height": 373
        },
        "outputId": "41bfa4e1-2008-4804-94ac-5d33bfaf3c3f"
      },
      "source": [
        "imgurl = 'https://fivethirtyeight.com/wp-content/uploads/2020/05/ATD.Paine_.ECONOMIST-SURVEY.0526-1.png?w=1150'\n",
        "example2 = Image(url=imgurl, width=400)\n",
        "display(example2)"
      ],
      "execution_count": 161,
      "outputs": [
        {
          "output_type": "display_data",
          "data": {
            "text/html": [
              "<img src=\"https://fivethirtyeight.com/wp-content/uploads/2020/05/ATD.Paine_.ECONOMIST-SURVEY.0526-1.png?w=1150\" width=\"400\"/>"
            ],
            "text/plain": [
              "<IPython.core.display.Image object>"
            ]
          },
          "metadata": {
            "tags": []
          }
        }
      ]
    },
    {
      "cell_type": "code",
      "metadata": {
        "id": "hc9frKVNNc7j",
        "colab_type": "code",
        "colab": {}
      },
      "source": [
        "fake2 = pd.Series([0,11,17,18,21,33],index=range(1,7))\n"
      ],
      "execution_count": 0,
      "outputs": []
    },
    {
      "cell_type": "code",
      "metadata": {
        "id": "RUZ0BOkbmnxU",
        "colab_type": "code",
        "colab": {
          "base_uri": "https://localhost:8080/",
          "height": 390
        },
        "outputId": "7e52b4b1-4cf4-4001-8fc7-3b5895915569"
      },
      "source": [
        "\n",
        "fig2, ax2 = plt.subplots() #call subplot on fig\n",
        "#Bar Plot\n",
        "ax2.bar(x=['Earlier\\nThan 1st\\nhalf 2021','1st half\\n2021','2nd half\\n2021','1st half\\n2022','2nd\\n half 2022','Later\\n than 2nd\\nhalf 2022'], height=fake2,width=0.5,color='#4CA84E')\n",
        "#title\n",
        "ax2.set_title('How long would it take the GDP to return to what it was',fontsize=12,fontweight='bold',x=0.35,y=1.1)\n",
        "#subtitle\n",
        "ax2.text(s='Expert estimates of the probability that U.S real gross domestic product\\n(GDP) will catch up to its pre-crisis level in each half-year time frame',x=-1.5,y=35,fontsize=10)\n",
        "ax2.text(s='Experts see little\\nchance (0.48%) for\\nreal GDP to get back\\nto pre-crisis levels\\n this year.',x=-0.5,y=15,fontsize=9)\n",
        "#setting yticks\n",
        "ax2.set_yticks(range(0,35,5))\n",
        "ax2.set_yticklabels([0,5,10,15,20,25,'30%'],fontsize=10,color='grey')\n",
        "#setting x ticks\n",
        "ax2.set_xticks(['Earlier\\nThan 1st\\nhalf 2021','1st half\\n2021','2nd half\\n2021','1st half\\n2022','2nd\\n half 2022','Later\\n than 2nd\\nhalf 2022'])\n",
        "ax2.set_xticklabels(['Earlier\\nThan 1st\\nhalf 2021','1st half\\n2021','2nd half\\n2021','1st half\\n2022','2nd\\n half 2022','Later\\n than 2nd\\nhalf 2022'],fontsize=9,color='gray')\n",
        "#bottom line and info\n",
        "ax2.text(s=('Responses are from a survey of experts conducted May 22-25.'), y=-9.5, x=-0.8, fontsize=9, color='gray')\n",
        "ax2.text(s=('_'*93), y=-10, x=-0.8, fontsize=9, color='gray')\n",
        "ax2.text(s='FiveThirtyEight', y=-12.5,x=-0.8,fontsize=9,color='gray')\n",
        "ax2.text(s='Source Initiative on Global Markets', y=-12.5,x=3.1,fontsize=9,color='gray')\n",
        "#remove vertical grid\n",
        "ax2.xaxis.grid(False)\n",
        "#ad line\n",
        "ax2.arrow(0, 15, 0, -14.4, head_width=0.1, head_length=0.3, fc='k', ec='k')\n",
        "#ax2.arrow(x=0,y=0.4,dx=0,dy=-0.3,linewidth=0.8)\n",
        "ax2.axhline(y=0, xmin=0, xmax=1,color='black')\n",
        "#ax2.axvline(x=0,ymin=0.02,ymax=0.4,color='black',linewidth=0.6)\n",
        "plt.show()"
      ],
      "execution_count": 284,
      "outputs": [
        {
          "output_type": "display_data",
          "data": {
            "image/png": "[encoded data removed]",
            "text/plain": [
              "<Figure size 432x288 with 1 Axes>"
            ]
          },
          "metadata": {
            "tags": []
          }
        }
      ]
    },
    {
      "cell_type": "markdown",
      "metadata": {
        "id": "0wSrBzmJyWaV",
        "colab_type": "text"
      },
      "source": [
        "# STRETCH OPTIONS\n",
        "\n",
        "### 1) Reproduce one of the following using the matplotlib or seaborn libraries:\n",
        "\n",
        "- [thanksgiving-2015](https://fivethirtyeight.com/features/heres-what-your-part-of-america-eats-on-thanksgiving/) \n",
        "- [candy-power-ranking](https://fivethirtyeight.com/features/the-ultimate-halloween-candy-power-ranking/) \n",
        "- or another example of your choice!\n",
        "\n",
        "### 2) Make more charts!\n",
        "\n",
        "Choose a chart you want to make, from [Visual Vocabulary - Vega Edition](http://ft.com/vocabulary).\n",
        "\n",
        "Find the chart in an example gallery of a Python data visualization library:\n",
        "- [Seaborn](http://seaborn.pydata.org/examples/index.html)\n",
        "- [Altair](https://altair-viz.github.io/gallery/index.html)\n",
        "- [Matplotlib](https://matplotlib.org/gallery.html)\n",
        "- [Pandas](https://pandas.pydata.org/pandas-docs/stable/visualization.html)\n",
        "\n",
        "Reproduce the chart. [Optionally, try the \"Ben Franklin Method.\"](https://docs.google.com/document/d/1ubOw9B3Hfip27hF2ZFnW3a3z9xAgrUDRReOEo-FHCVs/edit) If you want, experiment and make changes.\n",
        "\n",
        "Take notes. Consider sharing your work with your cohort!"
      ]
    },
    {
      "cell_type": "code",
      "metadata": {
        "id": "dRJkKftiy5BJ",
        "colab_type": "code",
        "colab": {}
      },
      "source": [
        "# More Work Here"
      ],
      "execution_count": 0,
      "outputs": []
    }
  ]
}