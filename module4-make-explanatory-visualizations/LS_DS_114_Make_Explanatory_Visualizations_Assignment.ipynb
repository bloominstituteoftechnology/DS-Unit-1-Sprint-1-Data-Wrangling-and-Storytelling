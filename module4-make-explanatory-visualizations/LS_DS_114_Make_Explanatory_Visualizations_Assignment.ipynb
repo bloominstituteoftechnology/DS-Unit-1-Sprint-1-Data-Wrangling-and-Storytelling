{
  "nbformat": 4,
  "nbformat_minor": 0,
  "metadata": {
    "colab": {
      "name": "Copy of LS_DS_114_Make_Explanatory_Visualizations_Assignment.ipynb",
      "provenance": [],
      "collapsed_sections": [],
      "include_colab_link": true
    },
    "language_info": {
      "codemirror_mode": {
        "name": "ipython",
        "version": 3
      },
      "file_extension": ".py",
      "mimetype": "text/x-python",
      "name": "python",
      "nbconvert_exporter": "python",
      "pygments_lexer": "ipython3",
      "version": "3.7.1"
    },
    "kernelspec": {
      "display_name": "Python 3",
      "language": "python",
      "name": "python3"
    }
  },
  "cells": [
    {
      "cell_type": "markdown",
      "metadata": {
        "id": "view-in-github",
        "colab_type": "text"
      },
      "source": [
        "<a href=\"https://colab.research.google.com/github/worldwidekatie/DS-Unit-1-Sprint-1-Data-Wrangling-and-Storytelling/blob/master/module4-make-explanatory-visualizations/LS_DS_114_Make_Explanatory_Visualizations_Assignment.ipynb\" target=\"_parent\"><img src=\"https://colab.research.google.com/assets/colab-badge.svg\" alt=\"Open In Colab\"/></a>"
      ]
    },
    {
      "cell_type": "markdown",
      "metadata": {
        "colab_type": "text",
        "id": "NMEswXWh9mqw"
      },
      "source": [
        "Lambda School Data Science\n",
        "\n",
        "*Unit 1, Sprint 1, Module 4*\n",
        "\n",
        "---\n",
        "\n",
        "# ASSIGNMENT\n",
        "\n",
        "### 1) Replicate the lesson code. I recommend that you [do not copy-paste](https://docs.google.com/document/d/1ubOw9B3Hfip27hF2ZFnW3a3z9xAgrUDRReOEo-FHCVs/edit).\n",
        "\n",
        "Get caught up to where we got our example in class and then try and take things further. How close to \"pixel perfect\" can you make the lecture graph?\n",
        "\n",
        "Once you have something that you're proud of, share your graph in the cohort channel and move on to the second exercise.\n",
        "\n",
        "### 2) Reproduce another example from [FiveThityEight's shared data repository](https://data.fivethirtyeight.com/).\n",
        "\n",
        "**WARNING**: There are a lot of very custom graphs and tables at the above link. I **highly** recommend not trying to reproduce any that look like a table of values or something really different from the graph types that we are already familiar with. Search through the posts until you find a graph type that you are more or less familiar with: histogram, bar chart, stacked bar chart, line chart, [seaborn relplot](https://seaborn.pydata.org/generated/seaborn.relplot.html), etc. Recreating some of the graphics that 538 uses would be a lot easier in Adobe photoshop/illustrator than with matplotlib. \n",
        "\n",
        "- If you put in some time to find a graph that looks \"easy\" to replicate you'll probably find that it's not as easy as you thought. \n",
        "\n",
        "- If you start with a graph that looks hard to replicate you'll probably run up against a brick wall and be disappointed with your afternoon.\n",
        "\n",
        "\n",
        "\n",
        "\n",
        "\n",
        "\n",
        "\n",
        "\n",
        "\n",
        "\n"
      ]
    },
    {
      "cell_type": "markdown",
      "metadata": {
        "id": "haGnE3JMaa5T",
        "colab_type": "text"
      },
      "source": [
        "# Lesson Reproduction"
      ]
    },
    {
      "cell_type": "code",
      "metadata": {
        "id": "7SY1ZHawyZvz",
        "colab_type": "code",
        "outputId": "e77991fc-a218-4b55-bb7b-1fe3cd6d3774",
        "colab": {
          "base_uri": "https://localhost:8080/",
          "height": 204
        }
      },
      "source": [
        "import pandas as pd\n",
        "\n",
        "df = pd.DataFrame({'data': [1,3,2,4,3,5]})\n",
        "\n",
        "df.head()"
      ],
      "execution_count": 0,
      "outputs": [
        {
          "output_type": "execute_result",
          "data": {
            "text/html": [
              "<div>\n",
              "<style scoped>\n",
              "    .dataframe tbody tr th:only-of-type {\n",
              "        vertical-align: middle;\n",
              "    }\n",
              "\n",
              "    .dataframe tbody tr th {\n",
              "        vertical-align: top;\n",
              "    }\n",
              "\n",
              "    .dataframe thead th {\n",
              "        text-align: right;\n",
              "    }\n",
              "</style>\n",
              "<table border=\"1\" class=\"dataframe\">\n",
              "  <thead>\n",
              "    <tr style=\"text-align: right;\">\n",
              "      <th></th>\n",
              "      <th>data</th>\n",
              "    </tr>\n",
              "  </thead>\n",
              "  <tbody>\n",
              "    <tr>\n",
              "      <th>0</th>\n",
              "      <td>1</td>\n",
              "    </tr>\n",
              "    <tr>\n",
              "      <th>1</th>\n",
              "      <td>3</td>\n",
              "    </tr>\n",
              "    <tr>\n",
              "      <th>2</th>\n",
              "      <td>2</td>\n",
              "    </tr>\n",
              "    <tr>\n",
              "      <th>3</th>\n",
              "      <td>4</td>\n",
              "    </tr>\n",
              "    <tr>\n",
              "      <th>4</th>\n",
              "      <td>3</td>\n",
              "    </tr>\n",
              "  </tbody>\n",
              "</table>\n",
              "</div>"
            ],
            "text/plain": [
              "   data\n",
              "0     1\n",
              "1     3\n",
              "2     2\n",
              "3     4\n",
              "4     3"
            ]
          },
          "metadata": {
            "tags": []
          },
          "execution_count": 4
        }
      ]
    },
    {
      "cell_type": "code",
      "metadata": {
        "id": "CUgVD4UoLTe4",
        "colab_type": "code",
        "outputId": "a56445b4-36e8-4124-fda3-b6eebfaa1055",
        "colab": {
          "base_uri": "https://localhost:8080/",
          "height": 265
        }
      },
      "source": [
        "#Pandas Plotting\n",
        "df['data'].plot();"
      ],
      "execution_count": 0,
      "outputs": [
        {
          "output_type": "display_data",
          "data": {
            "image/png": "[encoded data removed]",
            "text/plain": [
              "<Figure size 432x288 with 1 Axes>"
            ]
          },
          "metadata": {
            "tags": []
          }
        }
      ]
    },
    {
      "cell_type": "code",
      "metadata": {
        "id": "aRnWrSrQLT4u",
        "colab_type": "code",
        "outputId": "b8cf95c9-12f7-4baf-ef02-c89f39664dbe",
        "colab": {
          "base_uri": "https://localhost:8080/",
          "height": 265
        }
      },
      "source": [
        "#PlyPlot Synatax\n",
        "import matplotlib.pyplot as plt\n",
        "data = [1,3,2,5,3,5]\n",
        "data2 = [3,5,4,6,5,7]\n",
        "plt.plot(data)\n",
        "plt.plot(data2)\n",
        "plt.show()"
      ],
      "execution_count": 0,
      "outputs": [
        {
          "output_type": "display_data",
          "data": {
            "image/png": "[encoded data removed]",
            "text/plain": [
              "<Figure size 432x288 with 1 Axes>"
            ]
          },
          "metadata": {
            "tags": []
          }
        }
      ]
    },
    {
      "cell_type": "code",
      "metadata": {
        "id": "Okm8MEyWLUDZ",
        "colab_type": "code",
        "outputId": "92552c24-b654-4737-ae15-7f7fe0f681e5",
        "colab": {
          "base_uri": "https://localhost:8080/",
          "height": 528
        }
      },
      "source": [
        "import numpy as np\n",
        "import matplotlib.pyplot as plt\n",
        "from matplotlib.ticker import AutoMinorLocator, MultipleLocator, FuncFormatter\n",
        "\n",
        "np.random.seed(19680801)\n",
        "\n",
        "X = np.linspace(0.5, 3.5, 100)\n",
        "Y1 = 3+np.cos(X)\n",
        "Y2 = 1+np.cos(1+X/0.75)/2\n",
        "Y3 = np.random.uniform(Y1,Y2, len(X))\n",
        "\n",
        "fig = plt.figure(figsize=(8, 8))\n",
        "ax = fig.add_subplot(1, 1, 1, aspect=1)\n",
        "\n",
        "\n",
        "def minor_tick(x, pos):\n",
        "  if not x % 1.0:\n",
        "    return \" \"\n",
        "  return \"%.2f\" % x\n",
        "\n",
        "ax.xaxis.set_major_locator(MultipleLocator(1.000))\n",
        "ax.xaxis.set_minor_locator(AutoMinorLocator(4))\n",
        "ax.yaxis.set_major_locator(MultipleLocator(1.000))\n",
        "ax.yaxis.set_minor_locator(AutoMinorLocator(4))\n",
        "ax.xaxis.set_minor_formatter(FuncFormatter(minor_tick))\n",
        "\n",
        "ax.set_xlim(0, 4)\n",
        "ax.set_ylim(0, 4)\n",
        "\n",
        "ax.tick_params(which='major', width=1.0)\n",
        "ax.tick_params(which='major', length=10)\n",
        "ax.tick_params(which='minor', width=1.0, labelsize=10)\n",
        "ax.tick_params(which='minor', length=5, labelsize=10, labelcolor='0.25')\n",
        "\n",
        "ax.grid(linestyle=\"--\", linewidth=0.5, color='.25', zorder=-10)\n",
        "\n",
        "ax.plot(X, Y1, c=(0.25, 0.25, 1.00), lw=2, label=\"Blue signal\", zorder=10)\n",
        "ax.plot(X, Y2, c=(1.00, 0.25, 0.25), lw=2, label=\"Red signal\")\n",
        "ax.plot(X, Y3, linewidth=0,\n",
        "        marker='o', markerfacecolor='w', markeredgecolor='k')\n",
        "\n",
        "ax.set_title(\"Anatomy of a figure\", fontsize=20, verticalalignment='bottom')\n",
        "ax.set_xlabel(\"X axis label\")\n",
        "ax.set_ylabel(\"Y axis label\")\n",
        "\n",
        "ax.legend\n",
        "\n",
        "\n",
        "def circle(x, y, radius=0.15):\n",
        "  from matplotlib.patches import Circle\n",
        "  from matplotlib.patheffects import WithStroke\n",
        "  circle = Circle((x, y), radius, clip_on=False, zorder=10, linewidth=1, \n",
        "                  edgecolor='black', facecolor=(0, 0, 0, .0125), \n",
        "                  path_effects=[withStroke(linewidth=5, foreground='w')])\n",
        "  ax.add_artist(circle)\n",
        "\n",
        "\n",
        "  def text(x, y, text):\n",
        "    ax.text(x, y, text, backgroundcolor=\"white\", \n",
        "            ha='center', va='top', weight='bold', color='blue')\n",
        "    \n",
        "  #Minor tick\n",
        "  circle(0.50, -0.10)\n",
        "  text(0.50, -0.32, \"Minor tick label\")\n",
        "\n",
        "  #Major tick\n",
        "  circle(-0.03, 4.00)\n",
        "  text(0.03, 3.80, \"Major tick\")\n",
        "\n",
        "  #Minor tick\n",
        "  circle(0.00, 3.50)\n",
        "  text(0.00, 3.30, \"Minor tick\")\n",
        "\n",
        "  #Major tick label\n",
        "  circle(-0.15, 3.00)\n",
        "  text(-0.15, 2.80, \"Major tick label\")\n",
        "\n",
        "  #X Label\n",
        "  circle(1.80, -0.27)\n",
        "  text(1.80, -0.45, \"X axis label\")\n",
        "\n",
        "  #Y Label\n",
        "  circle(-0.27, 1.80)\n",
        "  text(-0.27, 1.6, \"Y axis label\")\n",
        "\n",
        "  #Title\n",
        "  circle(1.60, 4.13)\n",
        "  text(1.60, 3.93, \"Title\")\n",
        "\n",
        "  #Blue plot\n",
        "  circle(1.75, 2.80)\n",
        "  text(1.75, 2.60, \"Line/n(line plot)\")\n",
        "\n",
        "  #Red plot\n",
        "  circle(1.20, 0.60)\n",
        "  text(1.20, 0.40, \"Line/n(line plot)\")\n",
        "\n",
        "  #Scatter plot\n",
        "  circle(3.20, 1.75)\n",
        "  text(3.20, 1.55, \"Markers/n(scatter plot)\")\n",
        "\n",
        "  #Grid\n",
        "  circle(3.00, 3.00)\n",
        "  text(3.00, 2.80, \"Grid\")\n",
        "\n",
        "  #Legend\n",
        "  circle(3.70, 3.80)\n",
        "  text(3.70, 3.60, \"Legend\")\n",
        "\n",
        "  #Axes\n",
        "  circle(0.5, 0.5)\n",
        "  text(0.5, 0.3, \"Axes\")\n",
        "\n",
        "  #Figure\n",
        "  circle(-0.3, 0.65)\n",
        "  text(-0.3, 0.45, \"Figure\")\n",
        "\n",
        "  color = 'blue'\n",
        "  ax.annotate('Spines', xy=(4.0, 0.35), xytext=(3.3, 0.5), \n",
        "              weight='bold', color=color, \n",
        "              arrowprops=dict(arrowstyle='->', \n",
        "                              connectionstyle=\"arc3\", \n",
        "                              color=color))\n",
        "  \n",
        "  ax.annotate('', xy=(3.5, 0.0), xytext=(3.45, 0.45), \n",
        "              weight='bold', color=color, \n",
        "              arrowprops=dict(arrowstyle='_>', \n",
        "                              connectionstyle=\"arc3\", \n",
        "                              color=color))\n",
        "  \n",
        "  ax.text(4.0, -0.4, \"Made with http://matplotlib.org\", \n",
        "          fontsize=10, ha=\"right\", color='.5')\n",
        "  \n",
        "  plt.show()\n"
      ],
      "execution_count": 0,
      "outputs": [
        {
          "output_type": "display_data",
          "data": {
            "image/png": "[encoded data removed]",
            "text/plain": [
              "<Figure size 576x576 with 1 Axes>"
            ]
          },
          "metadata": {
            "tags": []
          }
        }
      ]
    },
    {
      "cell_type": "code",
      "metadata": {
        "id": "2NveAu0RLUbe",
        "colab_type": "code",
        "outputId": "b1543f17-1f4f-435c-dd59-e7e6f2a4c8a7",
        "colab": {
          "base_uri": "https://localhost:8080/",
          "height": 264
        }
      },
      "source": [
        "%matplotlib inline\n",
        "import matplotlib.pyplot as plt\n",
        "import numpy as np\n",
        "import pandas as pd\n",
        "\n",
        "\n",
        "# plt.style.use('fivethirtyeight')\n",
        "\n",
        "fake = pd.Series([38, 3, 2, 1, 2, 4, 6, 5, 5, 33], \n",
        "                 index=range(1,11))\n",
        "\n",
        "fake.plot.bar(color='C1', width=0.9);\n"
      ],
      "execution_count": 0,
      "outputs": [
        {
          "output_type": "display_data",
          "data": {
            "image/png": "[encoded data removed]",
            "text/plain": [
              "<Figure size 432x288 with 1 Axes>"
            ]
          },
          "metadata": {
            "tags": []
          }
        }
      ]
    },
    {
      "cell_type": "code",
      "metadata": {
        "id": "LK15KD89LUYB",
        "colab_type": "code",
        "outputId": "9e0a15b2-eddb-4953-e7d5-32ecd1fbbf8f",
        "colab": {
          "base_uri": "https://localhost:8080/",
          "height": 267
        }
      },
      "source": [
        "fake = pd.Series(\n",
        "    [1, 1, 1, 1, 1, 1, 1, 1, 1, 1, 1, 1, 1, 1, 1, 1, 1, 1, 1, 1, 1, 1, 1, 1,\n",
        "     2, 2, 2, \n",
        "     3, 3, 3,\n",
        "     4, 4,\n",
        "     5, 5, 5,\n",
        "     6, 6, 6, 6,\n",
        "     7, 7, 7, 7, 7,\n",
        "     8, 8, 8, 8,\n",
        "     9, 9, 9, 9, \n",
        "     10, 10, 10, 10, 10, 10, 10, 10, 10, 10, 10, 10, 10, 10, 10, 10, 10, 10])\n",
        "\n",
        "fake2.value_counts().sort_index().plot.bar(color='C1', width=0.9);"
      ],
      "execution_count": 0,
      "outputs": [
        {
          "output_type": "display_data",
          "data": {
            "image/png": "[encoded data removed]",
            "text/plain": [
              "<Figure size 432x288 with 1 Axes>"
            ]
          },
          "metadata": {
            "tags": []
          }
        }
      ]
    },
    {
      "cell_type": "markdown",
      "metadata": {
        "id": "9dAfYDMI17Ho",
        "colab_type": "text"
      },
      "source": [
        "# FiveThirtyEight Graph Reproduction"
      ]
    },
    {
      "cell_type": "code",
      "metadata": {
        "id": "H_mRNjPe1-xf",
        "colab_type": "code",
        "outputId": "baab82a7-2711-4472-b8d3-65ca27c8a79b",
        "colab": {
          "base_uri": "https://localhost:8080/",
          "height": 355
        }
      },
      "source": [
        "#Example Plot, what the goal is \n",
        "from IPython.display import display, Image\n",
        "\n",
        "url = 'https://fivethirtyeight.com/wp-content/uploads/2017/09/mehtahickey-inconvenient-0830-1.png'\n",
        "example = Image(url=url, width=400)\n",
        "\n",
        "display(example)"
      ],
      "execution_count": 0,
      "outputs": [
        {
          "output_type": "display_data",
          "data": {
            "text/html": [
              "<img src=\"https://fivethirtyeight.com/wp-content/uploads/2017/09/mehtahickey-inconvenient-0830-1.png\" width=\"400\"/>"
            ],
            "text/plain": [
              "<IPython.core.display.Image object>"
            ]
          },
          "metadata": {
            "tags": []
          }
        }
      ]
    },
    {
      "cell_type": "code",
      "metadata": {
        "id": "jTc9jCYH2QLs",
        "colab_type": "code",
        "outputId": "069633fb-8e5c-4f2d-cc19-47dd104f162d",
        "colab": {
          "base_uri": "https://localhost:8080/",
          "height": 375
        }
      },
      "source": [
        "fig, ax = plt.subplots()\n",
        "\n",
        "plt.style.use('fivethirtyeight')\n",
        "\n",
        "# Add bars\n",
        "ax.bar(height=fake, x=range(1,11,1), color='#ED713A', width=.9)\n",
        "\n",
        "# Set Title\n",
        "ax.set_title(\"'An Inconvenient Sequel: Truth To Power' is divisive\", x=.35, y=1.15, fontsize=12, fontweight=\"bold\")\n",
        "\n",
        "# Set Subtitle\n",
        "ax.text(s=\"IMDb ratings for the film as of Aug. 29\", y=44, x=-1.2, fontsize=11)\n",
        "\n",
        "# Set xticks\n",
        "ax.set_xticks(range(1,11,1))\n",
        "\n",
        "# Set yticks\n",
        "ax.set_yticks(range(0,50,10))\n",
        "\n",
        "#Set xtick labels\n",
        "ax.set_xticklabels(['1', '2', '3', '4', '5', '6', '7', '8', '9', '10'], color='gray', fontsize='8')\n",
        "\n",
        "# Set ytick labels\n",
        "ax.set_yticklabels(['0','10','20','30','40%'], color='gray', fontsize='8')\n",
        "\n",
        "# Set x label\n",
        "ax.set_xlabel(\"Rating\", color='black', fontsize=9.5, fontweight='bold')\n",
        "\n",
        "# Set y label\n",
        "ax.set_ylabel(\"Percent of total votes\", color='black', fontsize=10, fontweight='bold')\n",
        "\n",
        "# Set Figure background color\n",
        "fig.set_facecolor(color=\"None\")\n",
        "\n",
        "# Set the Axes background color\n",
        "ax.set_facecolor(color=\"None\")\n",
        "\n",
        "# Turn off the spine\n",
        "ax.spines['left'].set_visible(False)\n",
        "ax.spines['right'].set_visible(False)\n",
        "ax.spines['top'].set_visible(False)\n",
        "# ax.spines['bottom'].set_visible(False)\n",
        "\n",
        "#Add Bottom/Logo Text\n",
        "ax.text(s=\"FiveThirtyEight\", y=-10, x=-1.2, fontsize=9, color='gray')\n",
        "ax.text(s=\"SOURCE:IMDB\", y=-10, x=10, fontsize=7, color='gray')\n",
        "\n",
        "plt.show()"
      ],
      "execution_count": 0,
      "outputs": [
        {
          "output_type": "display_data",
          "data": {
            "image/png": "[encoded data removed]",
            "text/plain": [
              "<Figure size 432x288 with 1 Axes>"
            ]
          },
          "metadata": {
            "tags": []
          }
        }
      ]
    },
    {
      "cell_type": "markdown",
      "metadata": {
        "id": "zUMXmimAag-v",
        "colab_type": "text"
      },
      "source": [
        "# Assignment Starts\n",
        "\n"
      ]
    },
    {
      "cell_type": "markdown",
      "metadata": {
        "colab_type": "text",
        "id": "IuvYP9Uha54k"
      },
      "source": [
        "###Reproduce another example from [FiveThityEight's shared data repository](https://data.fivethirtyeight.com/).\n",
        "\n",
        "**WARNING**: There are a lot of very custom graphs and tables at the above link. I **highly** recommend not trying to reproduce any that look like a table of values or something really different from the graph types that we are already familiar with. Search through the posts until you find a graph type that you are more or less familiar with: histogram, bar chart, stacked bar chart, line chart, [seaborn relplot](https://seaborn.pydata.org/generated/seaborn.relplot.html), etc. Recreating some of the graphics that 538 uses would be a lot easier in Adobe photoshop/illustrator than with matplotlib. \n",
        "\n",
        "- If you put in some time to find a graph that looks \"easy\" to replicate you'll probably find that it's not as easy as you thought. \n",
        "\n",
        "- If you start with a graph that looks hard to replicate you'll probably run up against a brick wall and be disappointed with your afternoon.\n",
        "\n",
        "\n",
        "\n",
        "\n",
        "\n",
        "\n",
        "\n",
        "\n",
        "\n",
        "\n"
      ]
    },
    {
      "cell_type": "markdown",
      "metadata": {
        "id": "j5tQoy7g4Tks",
        "colab_type": "text"
      },
      "source": [
        "# What I'm trying to make\n",
        "\n",
        "![alt text](https://docs.google.com/drawings/d/e/2PACX-1vRyaL2oZxYk7-kELYf4gttoIbrjaE48NZ8Xyr81xPKo0YT6eG-FjMjp-hwa5RR11egxARkuIFkj5483/pub?w=960&h=720)"
      ]
    },
    {
      "cell_type": "markdown",
      "metadata": {
        "id": "fvhr1JMHmvYE",
        "colab_type": "text"
      },
      "source": [
        "Doing this one https://projects.fivethirtyeight.com/trump-approval-ratings/"
      ]
    },
    {
      "cell_type": "code",
      "metadata": {
        "id": "UXgLiin-mwrh",
        "colab_type": "code",
        "outputId": "cd3243d6-ca82-43f6-fff0-50c929f8c3b2",
        "colab": {
          "resources": {
            "http://localhost:8080/nbextensions/google.colab/files.js": {
              "data": "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",
              "ok": true,
              "headers": [
                [
                  "content-type",
                  "application/javascript"
                ]
              ],
              "status": 200,
              "status_text": ""
            }
          },
          "base_uri": "https://localhost:8080/",
          "height": 75
        }
      },
      "source": [
        "from google.colab import files\n",
        "uploaded=files.upload()"
      ],
      "execution_count": 0,
      "outputs": [
        {
          "output_type": "display_data",
          "data": {
            "text/html": [
              "\n",
              "     <input type=\"file\" id=\"files-872b053c-9dc2-4294-bc23-b35e5634b940\" name=\"files[]\" multiple disabled />\n",
              "     <output id=\"result-872b053c-9dc2-4294-bc23-b35e5634b940\">\n",
              "      Upload widget is only available when the cell has been executed in the\n",
              "      current browser session. Please rerun this cell to enable.\n",
              "      </output>\n",
              "      <script src=\"/nbextensions/google.colab/files.js\"></script> "
            ],
            "text/plain": [
              "<IPython.core.display.HTML object>"
            ]
          },
          "metadata": {
            "tags": []
          }
        },
        {
          "output_type": "stream",
          "text": [
            "Saving approval_polllist.csv to approval_polllist.csv\n"
          ],
          "name": "stdout"
        }
      ]
    },
    {
      "cell_type": "code",
      "metadata": {
        "id": "Pwwc5RwXqVT0",
        "colab_type": "code",
        "outputId": "a351106c-3edf-4558-9be5-7f6d8da8cc00",
        "colab": {
          "base_uri": "https://localhost:8080/",
          "height": 394
        }
      },
      "source": [
        "import pandas as pd\n",
        "df = pd.read_csv('approval_polllist.csv')\n",
        "\n",
        "df.head()"
      ],
      "execution_count": 0,
      "outputs": [
        {
          "output_type": "execute_result",
          "data": {
            "text/html": [
              "<div>\n",
              "<style scoped>\n",
              "    .dataframe tbody tr th:only-of-type {\n",
              "        vertical-align: middle;\n",
              "    }\n",
              "\n",
              "    .dataframe tbody tr th {\n",
              "        vertical-align: top;\n",
              "    }\n",
              "\n",
              "    .dataframe thead th {\n",
              "        text-align: right;\n",
              "    }\n",
              "</style>\n",
              "<table border=\"1\" class=\"dataframe\">\n",
              "  <thead>\n",
              "    <tr style=\"text-align: right;\">\n",
              "      <th></th>\n",
              "      <th>president</th>\n",
              "      <th>subgroup</th>\n",
              "      <th>modeldate</th>\n",
              "      <th>startdate</th>\n",
              "      <th>enddate</th>\n",
              "      <th>pollster</th>\n",
              "      <th>grade</th>\n",
              "      <th>samplesize</th>\n",
              "      <th>population</th>\n",
              "      <th>weight</th>\n",
              "      <th>influence</th>\n",
              "      <th>approve</th>\n",
              "      <th>disapprove</th>\n",
              "      <th>adjusted_approve</th>\n",
              "      <th>adjusted_disapprove</th>\n",
              "      <th>multiversions</th>\n",
              "      <th>tracking</th>\n",
              "      <th>url</th>\n",
              "      <th>poll_id</th>\n",
              "      <th>question_id</th>\n",
              "      <th>createddate</th>\n",
              "      <th>timestamp</th>\n",
              "    </tr>\n",
              "  </thead>\n",
              "  <tbody>\n",
              "    <tr>\n",
              "      <th>0</th>\n",
              "      <td>Donald Trump</td>\n",
              "      <td>All polls</td>\n",
              "      <td>3/12/2020</td>\n",
              "      <td>1/20/2017</td>\n",
              "      <td>1/22/2017</td>\n",
              "      <td>Morning Consult</td>\n",
              "      <td>B/C</td>\n",
              "      <td>1992.0</td>\n",
              "      <td>rv</td>\n",
              "      <td>0.696984</td>\n",
              "      <td>0.0</td>\n",
              "      <td>46.0</td>\n",
              "      <td>37.0</td>\n",
              "      <td>44.654727</td>\n",
              "      <td>38.343661</td>\n",
              "      <td>NaN</td>\n",
              "      <td>NaN</td>\n",
              "      <td>http://static.politico.com/9b/13/82a3baf542ae9...</td>\n",
              "      <td>49249</td>\n",
              "      <td>77261</td>\n",
              "      <td>1/23/2017</td>\n",
              "      <td>16:57:25 12 Mar 2020</td>\n",
              "    </tr>\n",
              "    <tr>\n",
              "      <th>1</th>\n",
              "      <td>Donald Trump</td>\n",
              "      <td>All polls</td>\n",
              "      <td>3/12/2020</td>\n",
              "      <td>1/20/2017</td>\n",
              "      <td>1/22/2017</td>\n",
              "      <td>Gallup</td>\n",
              "      <td>B</td>\n",
              "      <td>1500.0</td>\n",
              "      <td>a</td>\n",
              "      <td>0.241682</td>\n",
              "      <td>0.0</td>\n",
              "      <td>45.0</td>\n",
              "      <td>45.0</td>\n",
              "      <td>45.688923</td>\n",
              "      <td>43.597452</td>\n",
              "      <td>NaN</td>\n",
              "      <td>T</td>\n",
              "      <td>http://www.gallup.com/poll/201617/gallup-daily...</td>\n",
              "      <td>49253</td>\n",
              "      <td>77265</td>\n",
              "      <td>1/23/2017</td>\n",
              "      <td>16:57:25 12 Mar 2020</td>\n",
              "    </tr>\n",
              "    <tr>\n",
              "      <th>2</th>\n",
              "      <td>Donald Trump</td>\n",
              "      <td>All polls</td>\n",
              "      <td>3/12/2020</td>\n",
              "      <td>1/20/2017</td>\n",
              "      <td>1/24/2017</td>\n",
              "      <td>Ipsos</td>\n",
              "      <td>B-</td>\n",
              "      <td>1632.0</td>\n",
              "      <td>a</td>\n",
              "      <td>0.150785</td>\n",
              "      <td>0.0</td>\n",
              "      <td>42.1</td>\n",
              "      <td>45.2</td>\n",
              "      <td>42.849266</td>\n",
              "      <td>44.054346</td>\n",
              "      <td>NaN</td>\n",
              "      <td>T</td>\n",
              "      <td>http://polling.reuters.com/#poll/CP3_2/</td>\n",
              "      <td>49426</td>\n",
              "      <td>77599</td>\n",
              "      <td>3/1/2017</td>\n",
              "      <td>16:57:25 12 Mar 2020</td>\n",
              "    </tr>\n",
              "    <tr>\n",
              "      <th>3</th>\n",
              "      <td>Donald Trump</td>\n",
              "      <td>All polls</td>\n",
              "      <td>3/12/2020</td>\n",
              "      <td>1/21/2017</td>\n",
              "      <td>1/23/2017</td>\n",
              "      <td>Gallup</td>\n",
              "      <td>B</td>\n",
              "      <td>1500.0</td>\n",
              "      <td>a</td>\n",
              "      <td>0.223234</td>\n",
              "      <td>0.0</td>\n",
              "      <td>45.0</td>\n",
              "      <td>46.0</td>\n",
              "      <td>45.688923</td>\n",
              "      <td>44.597452</td>\n",
              "      <td>NaN</td>\n",
              "      <td>T</td>\n",
              "      <td>http://www.gallup.com/poll/201617/gallup-daily...</td>\n",
              "      <td>49262</td>\n",
              "      <td>77274</td>\n",
              "      <td>1/24/2017</td>\n",
              "      <td>16:57:25 12 Mar 2020</td>\n",
              "    </tr>\n",
              "    <tr>\n",
              "      <th>4</th>\n",
              "      <td>Donald Trump</td>\n",
              "      <td>All polls</td>\n",
              "      <td>3/12/2020</td>\n",
              "      <td>1/20/2017</td>\n",
              "      <td>1/25/2017</td>\n",
              "      <td>Quinnipiac University</td>\n",
              "      <td>B+</td>\n",
              "      <td>1190.0</td>\n",
              "      <td>rv</td>\n",
              "      <td>1.494494</td>\n",
              "      <td>0.0</td>\n",
              "      <td>36.0</td>\n",
              "      <td>44.0</td>\n",
              "      <td>37.558164</td>\n",
              "      <td>42.868848</td>\n",
              "      <td>NaN</td>\n",
              "      <td>NaN</td>\n",
              "      <td>https://poll.qu.edu/national/release-detail?Re...</td>\n",
              "      <td>49260</td>\n",
              "      <td>77272</td>\n",
              "      <td>1/26/2017</td>\n",
              "      <td>16:57:25 12 Mar 2020</td>\n",
              "    </tr>\n",
              "  </tbody>\n",
              "</table>\n",
              "</div>"
            ],
            "text/plain": [
              "      president   subgroup  ... createddate             timestamp\n",
              "0  Donald Trump  All polls  ...   1/23/2017  16:57:25 12 Mar 2020\n",
              "1  Donald Trump  All polls  ...   1/23/2017  16:57:25 12 Mar 2020\n",
              "2  Donald Trump  All polls  ...    3/1/2017  16:57:25 12 Mar 2020\n",
              "3  Donald Trump  All polls  ...   1/24/2017  16:57:25 12 Mar 2020\n",
              "4  Donald Trump  All polls  ...   1/26/2017  16:57:25 12 Mar 2020\n",
              "\n",
              "[5 rows x 22 columns]"
            ]
          },
          "metadata": {
            "tags": []
          },
          "execution_count": 59
        }
      ]
    },
    {
      "cell_type": "code",
      "metadata": {
        "id": "l400PvkiqiaZ",
        "colab_type": "code",
        "outputId": "e600d2f8-308a-463b-e1e6-3d06a8d987fc",
        "colab": {
          "base_uri": "https://localhost:8080/",
          "height": 85
        }
      },
      "source": [
        "df2 = df[['enddate','adjusted_approve', 'adjusted_disapprove']]\n",
        "\n",
        "df2.head()\n",
        "df2.dtypes"
      ],
      "execution_count": 0,
      "outputs": [
        {
          "output_type": "execute_result",
          "data": {
            "text/plain": [
              "enddate                datetime64[ns]\n",
              "adjusted_approve              float64\n",
              "adjusted_disapprove           float64\n",
              "dtype: object"
            ]
          },
          "metadata": {
            "tags": []
          },
          "execution_count": 81
        }
      ]
    },
    {
      "cell_type": "code",
      "metadata": {
        "id": "zzuwsmjg1b7e",
        "colab_type": "code",
        "outputId": "22c6762a-3b5b-46eb-ccc4-5d2bc06a018e",
        "colab": {
          "base_uri": "https://localhost:8080/",
          "height": 207
        }
      },
      "source": [
        "df2['enddate'] = pd.to_datetime(df2['enddate'], infer_datetime_format=True)\n",
        "df2.dtypes"
      ],
      "execution_count": 0,
      "outputs": [
        {
          "output_type": "stream",
          "text": [
            "/usr/local/lib/python3.6/dist-packages/ipykernel_launcher.py:1: SettingWithCopyWarning: \n",
            "A value is trying to be set on a copy of a slice from a DataFrame.\n",
            "Try using .loc[row_indexer,col_indexer] = value instead\n",
            "\n",
            "See the caveats in the documentation: http://pandas.pydata.org/pandas-docs/stable/user_guide/indexing.html#returning-a-view-versus-a-copy\n",
            "  \"\"\"Entry point for launching an IPython kernel.\n"
          ],
          "name": "stderr"
        },
        {
          "output_type": "execute_result",
          "data": {
            "text/plain": [
              "enddate                datetime64[ns]\n",
              "adjusted_approve              float64\n",
              "adjusted_disapprove           float64\n",
              "dtype: object"
            ]
          },
          "metadata": {
            "tags": []
          },
          "execution_count": 82
        }
      ]
    },
    {
      "cell_type": "code",
      "metadata": {
        "id": "B7gh5XwhwS7w",
        "colab_type": "code",
        "colab": {}
      },
      "source": [
        "%matplotlib inline\n",
        "import matplotlib.pyplot as plt\n",
        "import numpy as np\n"
      ],
      "execution_count": 0,
      "outputs": []
    },
    {
      "cell_type": "code",
      "metadata": {
        "id": "3SVFnzXLsQWl",
        "colab_type": "code",
        "outputId": "c2d15123-56f7-47a2-df69-038926828adf",
        "colab": {
          "base_uri": "https://localhost:8080/",
          "height": 595
        }
      },
      "source": [
        "fig, ax = plt.subplots()\n",
        "\n",
        "plt.style.use('fivethirtyeight')\n",
        "\n",
        "#Add plots\n",
        "ax.scatter(df2['enddate'], df2['adjusted_approve'], color='#AEE1BA')\n",
        "ax.scatter(df2['enddate'], df2['adjusted_disapprove'], color='#FFD5B3')\n",
        "\n",
        "#set x labels\n",
        "ax.set_xticklabels(['Jan 23', 'April', 'July', 'Oct.', 'Jan. 2018', 'April', 'July', \n",
        "                   'Oct', 'Jan 2018', 'April', 'July', 'Oct', 'Jan 2020'], \n",
        "                   color='gray', fontsize=7)\n",
        "\n",
        "#set y labels\n",
        "ax.set_yticklabels(['20', '30', '40', '50', '60', '70', '80%'], \n",
        "                   color='gray', fontsize=7)\n",
        "\n",
        "# Set Figure background color\n",
        "fig.set_facecolor(color=\"None\")\n",
        "\n",
        "# Set the Axes background color\n",
        "ax.set_facecolor(color=\"None\")\n",
        "\n",
        "# Turn off the spine\n",
        "ax.spines['left'].set_visible(False)\n",
        "ax.spines['right'].set_visible(False)\n",
        "ax.spines['top'].set_visible(False)\n",
        "ax.spines['bottom'].set_visible(False)\n",
        "\n",
        "#Add text - This keeps breaking it because it says it's too big and\n",
        "#I can't figure out why. And without it showing up on the graph I have\n",
        "#no idea what to put for y and x to move them to the proper places\n",
        "#ax.text(s=\"53.2%\", y=5, x=5, fontsize=10, color='#FFD5B3')\n",
        "#ax.text(s=\"42.3%\", y=5, x=5, fontsize=10, color='#AEE1BA')\n",
        "\n",
        "plt.show()\n",
        "print(\"This is as good as it's gonna get and it's not really close :(\")\n",
        "display(example)"
      ],
      "execution_count": 0,
      "outputs": [
        {
          "output_type": "display_data",
          "data": {
            "image/png": "[encoded data removed]",
            "text/plain": [
              "<Figure size 432x288 with 1 Axes>"
            ]
          },
          "metadata": {
            "tags": []
          }
        },
        {
          "output_type": "stream",
          "text": [
            "This is as good as it's gonna get and it's not really close :(\n"
          ],
          "name": "stdout"
        },
        {
          "output_type": "display_data",
          "data": {
            "text/html": [
              "<img src=\"https://docs.google.com/drawings/d/e/2PACX-1vRyaL2oZxYk7-kELYf4gttoIbrjaE48NZ8Xyr81xPKo0YT6eG-FjMjp-hwa5RR11egxARkuIFkj5483/pub?w=960&h=720\" width=\"400\"/>"
            ],
            "text/plain": [
              "<IPython.core.display.Image object>"
            ]
          },
          "metadata": {
            "tags": []
          }
        }
      ]
    },
    {
      "cell_type": "code",
      "metadata": {
        "id": "Er0RPHzp8L5_",
        "colab_type": "code",
        "colab": {}
      },
      "source": [
        "from IPython.display import display, Image\n",
        "\n",
        "url = 'https://docs.google.com/drawings/d/e/2PACX-1vRyaL2oZxYk7-kELYf4gttoIbrjaE48NZ8Xyr81xPKo0YT6eG-FjMjp-hwa5RR11egxARkuIFkj5483/pub?w=960&h=720'\n",
        "example = Image(url=url, width=400)"
      ],
      "execution_count": 0,
      "outputs": []
    },
    {
      "cell_type": "markdown",
      "metadata": {
        "id": "FNnx7i4eGoBW",
        "colab_type": "text"
      },
      "source": [
        "## Stretch option, try to use seaborn to do a better job"
      ]
    },
    {
      "cell_type": "code",
      "metadata": {
        "id": "c1zE0V69sOA6",
        "colab_type": "code",
        "outputId": "3e610ce9-dc8e-412c-84bc-7807f5527ed4",
        "colab": {
          "base_uri": "https://localhost:8080/",
          "height": 301
        }
      },
      "source": [
        "#This is going even more poorly\n",
        "import seaborn as sns\n",
        "sns.set(style=\"white\")\n",
        "\n",
        "pal = dict(adjusted_approve='#AEE1BA', adjusted_disapprove='#FFD5B3')\n",
        "\n",
        "sns.scatterplot(x='enddate', y='adjusted_approve', data=df2)\n",
        "sns.scatterplot(x='enddate', y='adjusted_disapprove', data=df2)\n",
        "\n",
        "\n",
        "plt.show()\n"
      ],
      "execution_count": 0,
      "outputs": [
        {
          "output_type": "display_data",
          "data": {
            "image/png": "[encoded data removed]",
            "text/plain": [
              "<Figure size 432x288 with 1 Axes>"
            ]
          },
          "metadata": {
            "tags": []
          }
        }
      ]
    },
    {
      "cell_type": "markdown",
      "metadata": {
        "id": "0wSrBzmJyWaV",
        "colab_type": "text"
      },
      "source": [
        "# STRETCH OPTIONS\n",
        "\n",
        "### 1) Reproduce one of the following using the matplotlib or seaborn libraries:\n",
        "\n",
        "- [thanksgiving-2015](https://fivethirtyeight.com/features/heres-what-your-part-of-america-eats-on-thanksgiving/) \n",
        "- [candy-power-ranking](https://fivethirtyeight.com/features/the-ultimate-halloween-candy-power-ranking/) \n",
        "- or another example of your choice!\n",
        "\n",
        "### 2) Make more charts!\n",
        "\n",
        "Choose a chart you want to make, from [Visual Vocabulary - Vega Edition](http://ft.com/vocabulary).\n",
        "\n",
        "Find the chart in an example gallery of a Python data visualization library:\n",
        "- [Seaborn](http://seaborn.pydata.org/examples/index.html)\n",
        "- [Altair](https://altair-viz.github.io/gallery/index.html)\n",
        "- [Matplotlib](https://matplotlib.org/gallery.html)\n",
        "- [Pandas](https://pandas.pydata.org/pandas-docs/stable/visualization.html)\n",
        "\n",
        "Reproduce the chart. [Optionally, try the \"Ben Franklin Method.\"](https://docs.google.com/document/d/1ubOw9B3Hfip27hF2ZFnW3a3z9xAgrUDRReOEo-FHCVs/edit) If you want, experiment and make changes.\n",
        "\n",
        "Take notes. Consider sharing your work with your cohort!"
      ]
    },
    {
      "cell_type": "code",
      "metadata": {
        "id": "dRJkKftiy5BJ",
        "colab_type": "code",
        "colab": {}
      },
      "source": [
        "# More Work Here"
      ],
      "execution_count": 0,
      "outputs": []
    },
    {
      "cell_type": "code",
      "metadata": {
        "id": "sy5Scn0sEOm0",
        "colab_type": "code",
        "colab": {}
      },
      "source": [
        ""
      ],
      "execution_count": 0,
      "outputs": []
    },
    {
      "cell_type": "markdown",
      "metadata": {
        "id": "zR2UIYmxa2Wv",
        "colab_type": "text"
      },
      "source": [
        ""
      ]
    }
  ]
}