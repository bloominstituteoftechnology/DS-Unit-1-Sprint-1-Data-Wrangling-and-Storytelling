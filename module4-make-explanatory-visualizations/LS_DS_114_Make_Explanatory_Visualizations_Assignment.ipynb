{
  "nbformat": 4,
  "nbformat_minor": 0,
  "metadata": {
    "colab": {
      "name": "Mountain_Scott_LS_DS_114_Make_Explanatory_Visualizations_Assignment.ipynb",
      "provenance": [],
      "collapsed_sections": [],
      "include_colab_link": true
    },
    "language_info": {
      "codemirror_mode": {
        "name": "ipython",
        "version": 3
      },
      "file_extension": ".py",
      "mimetype": "text/x-python",
      "name": "python",
      "nbconvert_exporter": "python",
      "pygments_lexer": "ipython3",
      "version": "3.7.1"
    },
    "kernelspec": {
      "display_name": "Python 3",
      "language": "python",
      "name": "python3"
    }
  },
  "cells": [
    {
      "cell_type": "markdown",
      "metadata": {
        "id": "view-in-github",
        "colab_type": "text"
      },
      "source": [
        "<a href=\"https://colab.research.google.com/github/economicactivist/DS-Unit-1-Sprint-1-Data-Wrangling-and-Storytelling/blob/master/module4-make-explanatory-visualizations/LS_DS_114_Make_Explanatory_Visualizations_Assignment.ipynb\" target=\"_parent\"><img src=\"https://colab.research.google.com/assets/colab-badge.svg\" alt=\"Open In Colab\"/></a>"
      ]
    },
    {
      "cell_type": "markdown",
      "metadata": {
        "colab_type": "text",
        "id": "NMEswXWh9mqw"
      },
      "source": [
        "Lambda School Data Science\n",
        "\n",
        "*Unit 1, Sprint 1, Module 4*\n",
        "\n",
        "---\n",
        "\n",
        "# ASSIGNMENT\n",
        "\n",
        "### 1) Replicate the lesson code. I recommend that you [do not copy-paste](https://docs.google.com/document/d/1ubOw9B3Hfip27hF2ZFnW3a3z9xAgrUDRReOEo-FHCVs/edit).\n",
        "\n",
        "Get caught up to where we got our example in class and then try and take things further. How close to \"pixel perfect\" can you make the lecture graph?\n",
        "\n",
        "Once you have something that you're proud of, share your graph in the cohort channel and move on to the second exercise.\n",
        "\n",
        "### 2) Reproduce another example from [FiveThityEight's shared data repository](https://data.fivethirtyeight.com/).\n",
        "\n",
        "**WARNING**: There are a lot of very custom graphs and tables at the above link. I **highly** recommend not trying to reproduce any that look like a table of values or something really different from the graph types that we are already familiar with. Search through the posts until you find a graph type that you are more or less familiar with: histogram, bar chart, stacked bar chart, line chart, [seaborn relplot](https://seaborn.pydata.org/generated/seaborn.relplot.html), etc. Recreating some of the graphics that 538 uses would be a lot easier in Adobe photoshop/illustrator than with matplotlib. \n",
        "\n",
        "- If you put in some time to find a graph that looks \"easy\" to replicate you'll probably find that it's not as easy as you thought. \n",
        "\n",
        "- If you start with a graph that looks hard to replicate you'll probably run up against a brick wall and be disappointed with your afternoon.\n",
        "\n",
        "\n",
        "\n",
        "\n",
        "\n",
        "\n",
        "\n",
        "\n",
        "\n",
        "\n"
      ]
    },
    {
      "cell_type": "code",
      "metadata": {
        "id": "I7wbMoJjGZMd",
        "colab_type": "code",
        "outputId": "7b2bd765-7347-4b66-cc39-dc36ad9d5908",
        "colab": {
          "base_uri": "https://localhost:8080/",
          "height": 355
        }
      },
      "source": [
        "from IPython.display import display, Image\n",
        "\n",
        "url = 'https://fivethirtyeight.com/wp-content/uploads/2017/09/mehtahickey-inconvenient-0830-1.png'\n",
        "example = Image(url=url, width=400)\n",
        "\n",
        "display(example)"
      ],
      "execution_count": 2079,
      "outputs": [
        {
          "output_type": "display_data",
          "data": {
            "text/html": [
              "<img src=\"https://fivethirtyeight.com/wp-content/uploads/2017/09/mehtahickey-inconvenient-0830-1.png\" width=\"400\"/>"
            ],
            "text/plain": [
              "<IPython.core.display.Image object>"
            ]
          },
          "metadata": {
            "tags": []
          }
        }
      ]
    },
    {
      "cell_type": "code",
      "metadata": {
        "id": "7SY1ZHawyZvz",
        "colab_type": "code",
        "colab": {}
      },
      "source": [
        "import pandas as pd\n",
        "import numpy as np\n",
        "import matplotlib.pyplot as plt\n",
        "%matplotlib inline"
      ],
      "execution_count": 0,
      "outputs": []
    },
    {
      "cell_type": "code",
      "metadata": {
        "id": "4T61JH3QGFht",
        "colab_type": "code",
        "colab": {}
      },
      "source": [
        "plt.style.use('fivethirtyeight')\n"
      ],
      "execution_count": 0,
      "outputs": []
    },
    {
      "cell_type": "code",
      "metadata": {
        "id": "pVkNeTeuGF1D",
        "colab_type": "code",
        "outputId": "9df8bfb5-ed3c-4661-8888-8f2d2fdd23fc",
        "colab": {
          "base_uri": "https://localhost:8080/",
          "height": 285
        }
      },
      "source": [
        "data = pd.Series([38, 3, 2, 1, 2, 4, 6, 5, 5, 33], \n",
        "                 index=range(1,11))\n",
        "\n",
        "data.plot.bar(color='#ed713a', width=.9);   #used color_picker extentions, as suggested"
      ],
      "execution_count": 2082,
      "outputs": [
        {
          "output_type": "display_data",
          "data": {
            "image/png": "[encoded data removed]",
            "text/plain": [
              "<Figure size 432x288 with 1 Axes>"
            ]
          },
          "metadata": {
            "tags": []
          }
        }
      ]
    },
    {
      "cell_type": "markdown",
      "metadata": {
        "id": "DlxNL3zOIKC_",
        "colab_type": "text"
      },
      "source": [
        "##checking how value_counts() looks without sorting the index"
      ]
    },
    {
      "cell_type": "code",
      "metadata": {
        "id": "OLN7ZUmkGF4L",
        "colab_type": "code",
        "outputId": "914b7b43-e60c-44d5-e940-3a98649de406",
        "colab": {
          "base_uri": "https://localhost:8080/",
          "height": 204
        }
      },
      "source": [
        "graph2 = pd.Series(\n",
        "    [1, 1, 1, 1, 1, 1, 1, 1, 1, 1, 1, 1, 1, 1, 1, 1, 1, 1, 1, 1, 1, 1, 1, 1,\n",
        "     2, 2, 2, \n",
        "     3, 3, 3,\n",
        "     4, 4,\n",
        "     5, 5, 5,\n",
        "     6, 6, 6, 6,\n",
        "     7, 7, 7, 7, 7,\n",
        "     8, 8, 8, 8,\n",
        "     9, 9, 9, 9, \n",
        "     10, 10, 10, 10, 10, 10, 10, 10, 10, 10, 10, 10, 10, 10, 10, 10, 10, 10])\n",
        "\n",
        "graph2.value_counts()#.sort_index()#.plot.bar(color='#ed713a', width=0.9);"
      ],
      "execution_count": 2083,
      "outputs": [
        {
          "output_type": "execute_result",
          "data": {
            "text/plain": [
              "1     24\n",
              "10    18\n",
              "7      5\n",
              "9      4\n",
              "8      4\n",
              "6      4\n",
              "5      3\n",
              "3      3\n",
              "2      3\n",
              "4      2\n",
              "dtype: int64"
            ]
          },
          "metadata": {
            "tags": []
          },
          "execution_count": 2083
        }
      ]
    },
    {
      "cell_type": "code",
      "metadata": {
        "id": "2TpKhAG3GF6l",
        "colab_type": "code",
        "outputId": "e5fa3c8a-cc4f-46c4-f29c-718dd8548a4e",
        "colab": {
          "base_uri": "https://localhost:8080/",
          "height": 289
        }
      },
      "source": [
        "graph2.value_counts().plot.bar(color='#ed713a', width=0.9);  \n",
        "#graphs grouped items in order of occurence in series returned by value_counts()"
      ],
      "execution_count": 2084,
      "outputs": [
        {
          "output_type": "display_data",
          "data": {
            "image/png": "[encoded data removed]",
            "text/plain": [
              "<Figure size 432x288 with 1 Axes>"
            ]
          },
          "metadata": {
            "tags": []
          }
        }
      ]
    },
    {
      "cell_type": "markdown",
      "metadata": {
        "id": "C-VwQ_dnI7hA",
        "colab_type": "text"
      },
      "source": [
        "##checking with *sort_index*"
      ]
    },
    {
      "cell_type": "code",
      "metadata": {
        "id": "-XzewhX6GF9l",
        "colab_type": "code",
        "outputId": "6256e2ff-fe84-4fb0-f756-3e06b2040bba",
        "colab": {
          "base_uri": "https://localhost:8080/",
          "height": 204
        }
      },
      "source": [
        "graph2.value_counts().sort_index()#.plot.bar(color='#ed713a', width=0.9);"
      ],
      "execution_count": 2085,
      "outputs": [
        {
          "output_type": "execute_result",
          "data": {
            "text/plain": [
              "1     24\n",
              "2      3\n",
              "3      3\n",
              "4      2\n",
              "5      3\n",
              "6      4\n",
              "7      5\n",
              "8      4\n",
              "9      4\n",
              "10    18\n",
              "dtype: int64"
            ]
          },
          "metadata": {
            "tags": []
          },
          "execution_count": 2085
        }
      ]
    },
    {
      "cell_type": "markdown",
      "metadata": {
        "id": "_FILUQ1zJO8o",
        "colab_type": "text"
      },
      "source": [
        "##plotting without adjusting width"
      ]
    },
    {
      "cell_type": "code",
      "metadata": {
        "id": "_C64T_b8GGAz",
        "colab_type": "code",
        "outputId": "46115beb-ad5c-4a5a-af71-056b7e519c7b",
        "colab": {
          "base_uri": "https://localhost:8080/",
          "height": 306
        }
      },
      "source": [
        "graph2.value_counts().sort_index().plot.bar(color='#ed713a')"
      ],
      "execution_count": 2086,
      "outputs": [
        {
          "output_type": "execute_result",
          "data": {
            "text/plain": [
              "<matplotlib.axes._subplots.AxesSubplot at 0x7f5b3f1926d8>"
            ]
          },
          "metadata": {
            "tags": []
          },
          "execution_count": 2086
        },
        {
          "output_type": "display_data",
          "data": {
            "image/png": "[encoded data removed]",
            "text/plain": [
              "<Figure size 432x288 with 1 Axes>"
            ]
          },
          "metadata": {
            "tags": []
          }
        }
      ]
    },
    {
      "cell_type": "markdown",
      "metadata": {
        "id": "eeqZW5lvJufj",
        "colab_type": "text"
      },
      "source": [
        "###There is lots of spacing by default"
      ]
    },
    {
      "cell_type": "code",
      "metadata": {
        "id": "N5JayDd4GGDJ",
        "colab_type": "code",
        "outputId": "4d335433-68d2-4f56-dedf-a4cbf6fc475b",
        "colab": {
          "base_uri": "https://localhost:8080/",
          "height": 289
        }
      },
      "source": [
        "graph2.value_counts().sort_index().plot.bar(color='#ed713a', width=0.9);"
      ],
      "execution_count": 2087,
      "outputs": [
        {
          "output_type": "display_data",
          "data": {
            "image/png": "[encoded data removed]",
            "text/plain": [
              "<Figure size 432x288 with 1 Axes>"
            ]
          },
          "metadata": {
            "tags": []
          }
        }
      ]
    },
    {
      "cell_type": "code",
      "metadata": {
        "id": "dgA8t4eFGGKw",
        "colab_type": "code",
        "outputId": "e8851c1c-4173-4fe4-f1ae-f9dc82b301b1",
        "colab": {
          "base_uri": "https://localhost:8080/",
          "height": 287
        }
      },
      "source": [
        "fig, ax = plt.subplots()  #preparing area one which to chart data"
      ],
      "execution_count": 2088,
      "outputs": [
        {
          "output_type": "display_data",
          "data": {
            "image/png": "[encoded data removed]",
            "text/plain": [
              "<Figure size 432x288 with 1 Axes>"
            ]
          },
          "metadata": {
            "tags": []
          }
        }
      ]
    },
    {
      "cell_type": "code",
      "metadata": {
        "id": "BxePRkNDJ09T",
        "colab_type": "code",
        "colab": {}
      },
      "source": [
        "graph3 = graph2.value_counts(normalize=True).sort_index()   #assigning a pre-sorted series to new variable"
      ],
      "execution_count": 0,
      "outputs": []
    },
    {
      "cell_type": "code",
      "metadata": {
        "id": "7IW0hB8WJ1AO",
        "colab_type": "code",
        "outputId": "f7e931be-b1dd-424f-d213-1c8ebcfe9809",
        "colab": {
          "base_uri": "https://localhost:8080/",
          "height": 302
        }
      },
      "source": [
        "graph3.plot.bar(graph3, width=0.9, color='#ed713a')"
      ],
      "execution_count": 2090,
      "outputs": [
        {
          "output_type": "execute_result",
          "data": {
            "text/plain": [
              "<matplotlib.axes._subplots.AxesSubplot at 0x7f5b3f049cf8>"
            ]
          },
          "metadata": {
            "tags": []
          },
          "execution_count": 2090
        },
        {
          "output_type": "display_data",
          "data": {
            "image/png": "[encoded data removed]",
            "text/plain": [
              "<Figure size 432x288 with 1 Axes>"
            ]
          },
          "metadata": {
            "tags": []
          }
        }
      ]
    },
    {
      "cell_type": "code",
      "metadata": {
        "id": "5bApN83pJ1DY",
        "colab_type": "code",
        "colab": {}
      },
      "source": [
        ""
      ],
      "execution_count": 0,
      "outputs": []
    },
    {
      "cell_type": "markdown",
      "metadata": {
        "id": "U2RUMzanM6Zn",
        "colab_type": "text"
      },
      "source": [
        "At first I didn't understand why only *one* graphing parameter was being passed to bar() but from the notes the pop up when typing in the bar(), the dataframe's index is used by default if no x parameter is passed.  Even though graph3 is based on a Series (not dataframe) it seems that the rule is applicable to Series data structures as well. "
      ]
    },
    {
      "cell_type": "code",
      "metadata": {
        "id": "IQzpbtdMJ1Fz",
        "colab_type": "code",
        "outputId": "c785dcc6-db80-4926-8631-70bcedfa1cd0",
        "colab": {
          "base_uri": "https://localhost:8080/",
          "height": 34
        }
      },
      "source": [
        "ax.set_title(\"'An Inconvenient Sequel: Truth To Power' is divisive\", \n",
        "             loc='left', \n",
        "             color=\"black\", \n",
        "             fontsize=13, \n",
        "             fontweight='bold', \n",
        "             x=-.07, \n",
        "             y=1.1)\n",
        "\n"
      ],
      "execution_count": 2091,
      "outputs": [
        {
          "output_type": "execute_result",
          "data": {
            "text/plain": [
              "Text(-0.07, 1.1, \"'An Inconvenient Sequel: Truth To Power' is divisive\")"
            ]
          },
          "metadata": {
            "tags": []
          },
          "execution_count": 2091
        }
      ]
    },
    {
      "cell_type": "code",
      "metadata": {
        "id": "2miXp9idJ1In",
        "colab_type": "code",
        "outputId": "5f7a9ce9-9c0f-45cc-ddda-1da6549f0a1b",
        "colab": {
          "base_uri": "https://localhost:8080/",
          "height": 285
        }
      },
      "source": [
        "graph3.plot.bar(graph3, width=0.9, color='#ed713a')\n",
        "\n",
        "ax.set_title(\"'An Inconvenient Sequel: Truth To Power' is divisive\", \n",
        "             loc='left', \n",
        "             color=\"black\", \n",
        "             fontsize=13, \n",
        "             fontweight='bold', \n",
        "             x=-.07, \n",
        "             y=1.1)\n",
        "plt.show()"
      ],
      "execution_count": 2092,
      "outputs": [
        {
          "output_type": "display_data",
          "data": {
            "image/png": "[encoded data removed]",
            "text/plain": [
              "<Figure size 432x288 with 1 Axes>"
            ]
          },
          "metadata": {
            "tags": []
          }
        }
      ]
    },
    {
      "cell_type": "markdown",
      "metadata": {
        "id": "DdQYYHZDRI-C",
        "colab_type": "text"
      },
      "source": [
        "For some reason, I can't get the title to show up, even when I adjust x and y.  I guess all the code for a chart has to be put in a single cell in colab.  I'll test out this theory. "
      ]
    },
    {
      "cell_type": "code",
      "metadata": {
        "id": "hqQfbJ00J1L-",
        "colab_type": "code",
        "outputId": "c9db9f80-21ea-4182-d7f4-d32432353530",
        "colab": {
          "base_uri": "https://localhost:8080/",
          "height": 342
        }
      },
      "source": [
        "plt.style.use('fivethirtyeight')\n",
        "\n",
        "# figure / axes syntax\n",
        "fig, ax = plt.subplots()\n",
        "\n",
        "# plot the bars\n",
        "graph3.plot.bar(graph3, width=0.9, color='#ED7139')\n",
        "\n",
        "# title\n",
        "ax.set_title(\"'An Inconvenient Sequel: Truth To Power' is divisive\", \n",
        "             loc='left', \n",
        "             color=\"black\", \n",
        "             fontsize=13, \n",
        "             fontweight='bold', \n",
        "             x=-.07, \n",
        "             y=1.1)\n"
      ],
      "execution_count": 2093,
      "outputs": [
        {
          "output_type": "execute_result",
          "data": {
            "text/plain": [
              "Text(-0.07, 1.1, \"'An Inconvenient Sequel: Truth To Power' is divisive\")"
            ]
          },
          "metadata": {
            "tags": []
          },
          "execution_count": 2093
        },
        {
          "output_type": "display_data",
          "data": {
            "image/png": "[encoded data removed]",
            "text/plain": [
              "<Figure size 432x288 with 1 Axes>"
            ]
          },
          "metadata": {
            "tags": []
          }
        }
      ]
    },
    {
      "cell_type": "markdown",
      "metadata": {
        "id": "eGOeNFoLRlGu",
        "colab_type": "text"
      },
      "source": [
        "I looks like my guess was right.  Something to remember in the future. "
      ]
    },
    {
      "cell_type": "code",
      "metadata": {
        "id": "zGN_mM5iRXS8",
        "colab_type": "code",
        "outputId": "23fef302-578f-4448-f7d0-80619628c4df",
        "colab": {
          "base_uri": "https://localhost:8080/",
          "height": 299
        }
      },
      "source": [
        "#Set Stylesheet\n",
        "plt.style.use('fivethirtyeight')\n",
        "\n",
        "# figure / axes syntax\n",
        "fig, ax = plt.subplots()\n",
        "\n",
        "# plot the bars\n",
        "graph3.plot.bar(graph3, width=0.9, color='#ED7139')\n",
        "\n",
        "# title\n",
        "# #ax.set_title(\"'An Inconvenient Sequel: Truth To Power' is divisive\", \n",
        "#              loc='left', \n",
        "#              color=\"black\", \n",
        "#              fontsize=13, \n",
        "#              fontweight='bold', \n",
        "#              x=-.07, \n",
        "#              y=1.1)\n",
        "\n",
        "# Subtitle\n",
        "# ax.text(s='IMDb ratings for the film as of Aug. 29', \n",
        "#         x=-1.4, \n",
        "#         y=42, \n",
        "#         color='black', \n",
        "#         fontsize=12)\n",
        "\n",
        "# x label\n",
        "ax.set_xlabel('Rating', color='Black', fontsize=12, fontweight='bold')\n",
        "\n",
        "# y label\n",
        "ax.set_ylabel('Percent of total votes', color='Black', fontsize=12, fontweight='bold')\n",
        "\n",
        "# x axis tick labels\n",
        "ax.set_xticklabels(labels=range(1,11,1), color='gray', rotation='horizontal', fontsize='11')\n",
        "\n",
        "# y axis tick labels\n",
        "ax.set_yticklabels(labels=[\"0\", \"10\", \"20\", \"30\", \"40%\"], color='gray', fontsize='11')\n",
        "\n",
        "# set y ticks\n",
        "ax.set_yticks(ticks=np.linspace(0,.4, 5))\n",
        "\n",
        "# set figure background color\n",
        "fig.set_facecolor(color=\"white\")\n",
        "# fig.patch.set(facecolor='white')\n",
        "\n",
        "# Set the axes background color\n",
        "# ax.set(facecolor='white')\n",
        "ax.set_facecolor(color='white')"
      ],
      "execution_count": 2094,
      "outputs": [
        {
          "output_type": "display_data",
          "data": {
            "image/png": "[encoded data removed]",
            "text/plain": [
              "<Figure size 432x288 with 1 Axes>"
            ]
          },
          "metadata": {
            "tags": []
          }
        }
      ]
    },
    {
      "cell_type": "code",
      "metadata": {
        "id": "W7lrLeSwRXVx",
        "colab_type": "code",
        "outputId": "4fa5b622-2cc2-4140-b79f-40907e057a97",
        "colab": {
          "base_uri": "https://localhost:8080/",
          "height": 355
        }
      },
      "source": [
        "display(example)"
      ],
      "execution_count": 2095,
      "outputs": [
        {
          "output_type": "display_data",
          "data": {
            "text/html": [
              "<img src=\"https://fivethirtyeight.com/wp-content/uploads/2017/09/mehtahickey-inconvenient-0830-1.png\" width=\"400\"/>"
            ],
            "text/plain": [
              "<IPython.core.display.Image object>"
            ]
          },
          "metadata": {
            "tags": []
          }
        }
      ]
    },
    {
      "cell_type": "code",
      "metadata": {
        "id": "uObTrb23RXZO",
        "colab_type": "code",
        "outputId": "85c23915-a607-4f97-c640-e8a8563679eb",
        "colab": {
          "base_uri": "https://localhost:8080/",
          "height": 204
        }
      },
      "source": [
        "graph3 "
      ],
      "execution_count": 2096,
      "outputs": [
        {
          "output_type": "execute_result",
          "data": {
            "text/plain": [
              "1     0.342857\n",
              "2     0.042857\n",
              "3     0.042857\n",
              "4     0.028571\n",
              "5     0.042857\n",
              "6     0.057143\n",
              "7     0.071429\n",
              "8     0.057143\n",
              "9     0.057143\n",
              "10    0.257143\n",
              "dtype: float64"
            ]
          },
          "metadata": {
            "tags": []
          },
          "execution_count": 2096
        }
      ]
    },
    {
      "cell_type": "markdown",
      "metadata": {
        "id": "DomPkhBjWpm9",
        "colab_type": "text"
      },
      "source": [
        "###Now I see that the second fake data set from the lecture wasn't close enough to the real graph. I'll use the data from the first \"fake\" variable in the lecture colab"
      ]
    },
    {
      "cell_type": "code",
      "metadata": {
        "id": "e2L0C1SYRYzR",
        "colab_type": "code",
        "outputId": "afce33d8-692a-4a28-a3e1-4c598b1b2793",
        "colab": {
          "base_uri": "https://localhost:8080/",
          "height": 334
        }
      },
      "source": [
        "plt.style.use('fivethirtyeight')\n",
        "\n",
        "fig, ax = plt.subplots()\n",
        "\n",
        "data.plot.bar(data, width=0.9, color='#ED7139')\n",
        "\n",
        "\n",
        "ax.set_title(\"'An Inconvenient Sequel: Truth To Power' is divisive\", \n",
        "             loc='left', \n",
        "             color=\"black\", \n",
        "             fontsize=13, \n",
        "             fontweight='bold', \n",
        "             x=-.07, \n",
        "             y=1.1)\n",
        "\n",
        "ax.text(s='IMDb ratings for the film as of Aug. 29', \n",
        "        x=-1.4, \n",
        "        y=42, \n",
        "        color='black', \n",
        "        fontsize=12)\n",
        "\n",
        "ax.set_xlabel('Rating', color='Black', fontsize=12, fontweight='bold')\n",
        "\n",
        "ax.set_ylabel('Percent of total votes', color='Black', fontsize=12, fontweight='bold')\n",
        "\n",
        "ax.set_xticklabels(labels=range(1,11,1), color='gray', rotation='horizontal', fontsize='11')\n",
        "\n",
        "ax.set_yticklabels(labels=[\"0\", \"10\", \"20\", \"30\", \"40%\"], color='gray', fontsize='11')\n",
        "\n",
        "\n",
        "ax.set_yticks(ticks=range(0,50,10))\n",
        "\n",
        "fig.set_facecolor(color=\"white\")\n",
        "\n",
        "ax.set_facecolor(color='white')"
      ],
      "execution_count": 2097,
      "outputs": [
        {
          "output_type": "display_data",
          "data": {
            "image/png": "[encoded data removed]",
            "text/plain": [
              "<Figure size 432x288 with 1 Axes>"
            ]
          },
          "metadata": {
            "tags": []
          }
        }
      ]
    },
    {
      "cell_type": "code",
      "metadata": {
        "id": "6FWpIcNyRY1t",
        "colab_type": "code",
        "outputId": "4da559ad-b98c-474d-a079-252f9b4d53e1",
        "colab": {
          "base_uri": "https://localhost:8080/",
          "height": 355
        }
      },
      "source": [
        "display(example)"
      ],
      "execution_count": 2098,
      "outputs": [
        {
          "output_type": "display_data",
          "data": {
            "text/html": [
              "<img src=\"https://fivethirtyeight.com/wp-content/uploads/2017/09/mehtahickey-inconvenient-0830-1.png\" width=\"400\"/>"
            ],
            "text/plain": [
              "<IPython.core.display.Image object>"
            ]
          },
          "metadata": {
            "tags": []
          }
        }
      ]
    },
    {
      "cell_type": "markdown",
      "metadata": {
        "id": "4GLa_qNkYTQB",
        "colab_type": "text"
      },
      "source": [
        "###need remove left and right spines"
      ]
    },
    {
      "cell_type": "code",
      "metadata": {
        "id": "2NM3SdqsYXHy",
        "colab_type": "code",
        "outputId": "a4d40b9d-bcd3-42c5-a5ea-e917b9ec2f49",
        "colab": {
          "base_uri": "https://localhost:8080/",
          "height": 344
        }
      },
      "source": [
        "from matplotlib import rcParams\n",
        "\n",
        "rcParams['font.family'] = 'sans-serif'\n",
        "rcParams['font.sans-serif'] = ['Tahoma']\n",
        "\n",
        "plt.style.use('fivethirtyeight')\n",
        "\n",
        "fig, ax = plt.subplots()\n",
        "\n",
        "data.plot.bar(data, width=0.9, color='#ED7139')\n",
        "\n",
        "\n",
        "ax.set_title(\"'An Inconvenient Sequel: Truth To Power' is divisive\", \n",
        "             loc='left', \n",
        "             color=\"black\", \n",
        "             fontsize=13, \n",
        "             fontweight='bold', \n",
        "             x=-.07, \n",
        "             y=1.1)\n",
        "\n",
        "ax.text(s='IMDb ratings for the film as of Aug. 29', \n",
        "        x=-1.4, \n",
        "        y=42, \n",
        "        color='black', \n",
        "        fontsize=12)\n",
        "\n",
        "ax.set_xlabel('Rating', color='Black', fontsize=12, fontweight='bold')\n",
        "\n",
        "ax.set_ylabel('Percent of total votes', color='Black', fontsize=12, fontweight='bold')\n",
        "\n",
        "ax.set_xticklabels(labels=range(1,11,1), color='gray', rotation='horizontal', fontsize='11')\n",
        "\n",
        "ax.set_yticklabels(labels=[\"0\", \"10\", \"20\", \"30\", \"40%\"], color='gray', fontsize='11')\n",
        "\n",
        "\n",
        "\n",
        "ax.spines['right'].set_visible(False)\n",
        "ax.spines['left'].set_visible(False)\n",
        "\n",
        "ax.tick_params('x', length=10, which='major', color=\"#dadada\")\n",
        "\n",
        "\n",
        "\n",
        "ax.set_yticks(ticks=range(0,50,10))\n",
        "\n",
        "fig.set_facecolor(color=\"white\")\n",
        "\n",
        "ax.set_facecolor(color='white')"
      ],
      "execution_count": 2099,
      "outputs": [
        {
          "output_type": "display_data",
          "data": {
            "image/png": "[encoded data removed]",
            "text/plain": [
              "<Figure size 432x288 with 1 Axes>"
            ]
          },
          "metadata": {
            "tags": []
          }
        }
      ]
    },
    {
      "cell_type": "code",
      "metadata": {
        "id": "ksRSwDPBRY4a",
        "colab_type": "code",
        "colab": {}
      },
      "source": [
        "#!sudo apt install font-manager"
      ],
      "execution_count": 0,
      "outputs": []
    },
    {
      "cell_type": "code",
      "metadata": {
        "id": "pQnNalHJRY61",
        "colab_type": "code",
        "colab": {}
      },
      "source": [
        "!rm ~/.cache/matplotlib -fr"
      ],
      "execution_count": 0,
      "outputs": []
    },
    {
      "cell_type": "code",
      "metadata": {
        "id": "w7Oww2IWRXbq",
        "colab_type": "code",
        "outputId": "e35a6534-cfa0-4c99-c8a4-cc4916b4051d",
        "colab": {
          "base_uri": "https://localhost:8080/",
          "height": 472
        }
      },
      "source": [
        "import matplotlib.font_manager\n",
        "from IPython.core.display import HTML\n",
        "\n",
        "def make_html(fontname):\n",
        "    return \"<p>{font}: <span style='font-family:{font}; font-size: 24px;'>{font}</p>\".format(font=fontname)\n",
        "\n",
        "code = \"\\n\".join([make_html(font) for font in sorted(set([f.name for f in matplotlib.font_manager.fontManager.ttflist]))])\n",
        "\n",
        "HTML(\"<div style='column-count: 2;'>{}</div>\".format(code))"
      ],
      "execution_count": 2102,
      "outputs": [
        {
          "output_type": "execute_result",
          "data": {
            "text/html": [
              "<div style='column-count: 2;'><p>DejaVu Sans: <span style='font-family:DejaVu Sans; font-size: 24px;'>DejaVu Sans</p>\n",
              "<p>DejaVu Sans Display: <span style='font-family:DejaVu Sans Display; font-size: 24px;'>DejaVu Sans Display</p>\n",
              "<p>DejaVu Sans Mono: <span style='font-family:DejaVu Sans Mono; font-size: 24px;'>DejaVu Sans Mono</p>\n",
              "<p>DejaVu Serif: <span style='font-family:DejaVu Serif; font-size: 24px;'>DejaVu Serif</p>\n",
              "<p>DejaVu Serif Display: <span style='font-family:DejaVu Serif Display; font-size: 24px;'>DejaVu Serif Display</p>\n",
              "<p>FontAwesome: <span style='font-family:FontAwesome; font-size: 24px;'>FontAwesome</p>\n",
              "<p>Liberation Mono: <span style='font-family:Liberation Mono; font-size: 24px;'>Liberation Mono</p>\n",
              "<p>Liberation Sans: <span style='font-family:Liberation Sans; font-size: 24px;'>Liberation Sans</p>\n",
              "<p>Liberation Sans Narrow: <span style='font-family:Liberation Sans Narrow; font-size: 24px;'>Liberation Sans Narrow</p>\n",
              "<p>Liberation Serif: <span style='font-family:Liberation Serif; font-size: 24px;'>Liberation Serif</p>\n",
              "<p>STIXGeneral: <span style='font-family:STIXGeneral; font-size: 24px;'>STIXGeneral</p>\n",
              "<p>STIXNonUnicode: <span style='font-family:STIXNonUnicode; font-size: 24px;'>STIXNonUnicode</p>\n",
              "<p>STIXSizeFiveSym: <span style='font-family:STIXSizeFiveSym; font-size: 24px;'>STIXSizeFiveSym</p>\n",
              "<p>STIXSizeFourSym: <span style='font-family:STIXSizeFourSym; font-size: 24px;'>STIXSizeFourSym</p>\n",
              "<p>STIXSizeOneSym: <span style='font-family:STIXSizeOneSym; font-size: 24px;'>STIXSizeOneSym</p>\n",
              "<p>STIXSizeThreeSym: <span style='font-family:STIXSizeThreeSym; font-size: 24px;'>STIXSizeThreeSym</p>\n",
              "<p>STIXSizeTwoSym: <span style='font-family:STIXSizeTwoSym; font-size: 24px;'>STIXSizeTwoSym</p>\n",
              "<p>cmb10: <span style='font-family:cmb10; font-size: 24px;'>cmb10</p>\n",
              "<p>cmex10: <span style='font-family:cmex10; font-size: 24px;'>cmex10</p>\n",
              "<p>cmmi10: <span style='font-family:cmmi10; font-size: 24px;'>cmmi10</p>\n",
              "<p>cmr10: <span style='font-family:cmr10; font-size: 24px;'>cmr10</p>\n",
              "<p>cmss10: <span style='font-family:cmss10; font-size: 24px;'>cmss10</p>\n",
              "<p>cmsy10: <span style='font-family:cmsy10; font-size: 24px;'>cmsy10</p>\n",
              "<p>cmtt10: <span style='font-family:cmtt10; font-size: 24px;'>cmtt10</p></div>"
            ],
            "text/plain": [
              "<IPython.core.display.HTML object>"
            ]
          },
          "metadata": {
            "tags": []
          },
          "execution_count": 2102
        }
      ]
    },
    {
      "cell_type": "code",
      "metadata": {
        "id": "n9Ykp965RXeL",
        "colab_type": "code",
        "colab": {}
      },
      "source": [
        "#!sudo apt-get install msttcorefonts -qq"
      ],
      "execution_count": 0,
      "outputs": []
    },
    {
      "cell_type": "markdown",
      "metadata": {
        "id": "w1pzdXMUe1JP",
        "colab_type": "text"
      },
      "source": [
        "###Trying to change the font style was unsuccessful.  Going to move the other part of the exericse because I have less than two hours remaining. "
      ]
    },
    {
      "cell_type": "code",
      "metadata": {
        "id": "YKj5rp3WRXi6",
        "colab_type": "code",
        "outputId": "a191e0ba-0cfc-4534-adaf-6273f9511100",
        "colab": {
          "base_uri": "https://localhost:8080/",
          "height": 332
        }
      },
      "source": [
        "\n",
        "url2 = 'https://fivethirtyeight.com/wp-content/uploads/2015/08/hickey-datalab-dailyshow.png'\n",
        "example2 = Image(url=url2, width=400)\n",
        "\n",
        "display(example2)"
      ],
      "execution_count": 2104,
      "outputs": [
        {
          "output_type": "display_data",
          "data": {
            "text/html": [
              "<img src=\"https://fivethirtyeight.com/wp-content/uploads/2015/08/hickey-datalab-dailyshow.png\" width=\"400\"/>"
            ],
            "text/plain": [
              "<IPython.core.display.Image object>"
            ]
          },
          "metadata": {
            "tags": []
          }
        }
      ]
    },
    {
      "cell_type": "code",
      "metadata": {
        "id": "UONJEwYTRXmw",
        "colab_type": "code",
        "colab": {}
      },
      "source": [
        ""
      ],
      "execution_count": 0,
      "outputs": []
    },
    {
      "cell_type": "markdown",
      "metadata": {
        "id": "IjQ7GNupgiGQ",
        "colab_type": "text"
      },
      "source": [
        "Using data associated with [this article ](https://fivethirtyeight.com/features/every-guest-jon-stewart-ever-had-on-the-daily-show/) from [this github](https://github.com/fivethirtyeight/data/blob/master/daily-show-guests/daily_show_guests.csv) repo."
      ]
    },
    {
      "cell_type": "code",
      "metadata": {
        "id": "cwSn5aZHhHnC",
        "colab_type": "code",
        "colab": {}
      },
      "source": [
        "daily_show = pd.read_csv('https://raw.githubusercontent.com/fivethirtyeight/data/master/daily-show-guests/daily_show_guests.csv')"
      ],
      "execution_count": 0,
      "outputs": []
    },
    {
      "cell_type": "code",
      "metadata": {
        "id": "JQjOau2BhIIe",
        "colab_type": "code",
        "outputId": "9b2c8ca7-3e20-4379-9468-be605ad4a51d",
        "colab": {
          "base_uri": "https://localhost:8080/",
          "height": 187
        }
      },
      "source": [
        "daily_show.info()"
      ],
      "execution_count": 2106,
      "outputs": [
        {
          "output_type": "stream",
          "text": [
            "<class 'pandas.core.frame.DataFrame'>\n",
            "RangeIndex: 2693 entries, 0 to 2692\n",
            "Data columns (total 5 columns):\n",
            "YEAR                         2693 non-null int64\n",
            "GoogleKnowlege_Occupation    2667 non-null object\n",
            "Show                         2693 non-null object\n",
            "Group                        2662 non-null object\n",
            "Raw_Guest_List               2693 non-null object\n",
            "dtypes: int64(1), object(4)\n",
            "memory usage: 105.3+ KB\n"
          ],
          "name": "stdout"
        }
      ]
    },
    {
      "cell_type": "code",
      "metadata": {
        "id": "EpR8Q8lhhILl",
        "colab_type": "code",
        "outputId": "81654529-44ec-4105-f2dd-6d92f2f6cef1",
        "colab": {
          "base_uri": "https://localhost:8080/",
          "height": 204
        }
      },
      "source": [
        "daily_show.tail()"
      ],
      "execution_count": 2107,
      "outputs": [
        {
          "output_type": "execute_result",
          "data": {
            "text/html": [
              "<div>\n",
              "<style scoped>\n",
              "    .dataframe tbody tr th:only-of-type {\n",
              "        vertical-align: middle;\n",
              "    }\n",
              "\n",
              "    .dataframe tbody tr th {\n",
              "        vertical-align: top;\n",
              "    }\n",
              "\n",
              "    .dataframe thead th {\n",
              "        text-align: right;\n",
              "    }\n",
              "</style>\n",
              "<table border=\"1\" class=\"dataframe\">\n",
              "  <thead>\n",
              "    <tr style=\"text-align: right;\">\n",
              "      <th></th>\n",
              "      <th>YEAR</th>\n",
              "      <th>GoogleKnowlege_Occupation</th>\n",
              "      <th>Show</th>\n",
              "      <th>Group</th>\n",
              "      <th>Raw_Guest_List</th>\n",
              "    </tr>\n",
              "  </thead>\n",
              "  <tbody>\n",
              "    <tr>\n",
              "      <th>2688</th>\n",
              "      <td>2015</td>\n",
              "      <td>biographer</td>\n",
              "      <td>7/29/15</td>\n",
              "      <td>Media</td>\n",
              "      <td>Doris Kearns Goodwin</td>\n",
              "    </tr>\n",
              "    <tr>\n",
              "      <th>2689</th>\n",
              "      <td>2015</td>\n",
              "      <td>director</td>\n",
              "      <td>7/30/15</td>\n",
              "      <td>Media</td>\n",
              "      <td>J. J. Abrams</td>\n",
              "    </tr>\n",
              "    <tr>\n",
              "      <th>2690</th>\n",
              "      <td>2015</td>\n",
              "      <td>stand-up comedian</td>\n",
              "      <td>8/3/15</td>\n",
              "      <td>Comedy</td>\n",
              "      <td>Amy Schumer</td>\n",
              "    </tr>\n",
              "    <tr>\n",
              "      <th>2691</th>\n",
              "      <td>2015</td>\n",
              "      <td>actor</td>\n",
              "      <td>8/4/15</td>\n",
              "      <td>Acting</td>\n",
              "      <td>Denis Leary</td>\n",
              "    </tr>\n",
              "    <tr>\n",
              "      <th>2692</th>\n",
              "      <td>2015</td>\n",
              "      <td>comedian</td>\n",
              "      <td>8/5/15</td>\n",
              "      <td>Comedy</td>\n",
              "      <td>Louis C.K.</td>\n",
              "    </tr>\n",
              "  </tbody>\n",
              "</table>\n",
              "</div>"
            ],
            "text/plain": [
              "      YEAR GoogleKnowlege_Occupation     Show   Group        Raw_Guest_List\n",
              "2688  2015                biographer  7/29/15   Media  Doris Kearns Goodwin\n",
              "2689  2015                  director  7/30/15   Media          J. J. Abrams\n",
              "2690  2015         stand-up comedian   8/3/15  Comedy           Amy Schumer\n",
              "2691  2015                     actor   8/4/15  Acting           Denis Leary\n",
              "2692  2015                  comedian   8/5/15  Comedy            Louis C.K."
            ]
          },
          "metadata": {
            "tags": []
          },
          "execution_count": 2107
        }
      ]
    },
    {
      "cell_type": "code",
      "metadata": {
        "id": "N5GyalHxmkRc",
        "colab_type": "code",
        "colab": {
          "base_uri": "https://localhost:8080/",
          "height": 332
        },
        "outputId": "6ea9aa93-e73a-4e72-997b-0e2d210e2bf6"
      },
      "source": [
        "display(example2)"
      ],
      "execution_count": 2108,
      "outputs": [
        {
          "output_type": "display_data",
          "data": {
            "text/html": [
              "<img src=\"https://fivethirtyeight.com/wp-content/uploads/2015/08/hickey-datalab-dailyshow.png\" width=\"400\"/>"
            ],
            "text/plain": [
              "<IPython.core.display.Image object>"
            ]
          },
          "metadata": {
            "tags": []
          }
        }
      ]
    },
    {
      "cell_type": "code",
      "metadata": {
        "id": "YclzuZ2hmaGI",
        "colab_type": "code",
        "colab": {
          "base_uri": "https://localhost:8080/",
          "height": 323
        },
        "outputId": "f65dd4a4-f739-4e37-88aa-b1236c767027"
      },
      "source": [
        "daily_show.Group.value_counts(normalize=True)  "
      ],
      "execution_count": 2109,
      "outputs": [
        {
          "output_type": "execute_result",
          "data": {
            "text/plain": [
              "Acting            0.349361\n",
              "Media             0.282119\n",
              "Politician        0.115702\n",
              "Comedy            0.056349\n",
              "Musician          0.046206\n",
              "Academic          0.038693\n",
              "Athletics         0.019534\n",
              "Misc              0.016905\n",
              "Government        0.015026\n",
              "Political Aide    0.013524\n",
              "Science           0.010518\n",
              "Business          0.009391\n",
              "Advocacy          0.009016\n",
              "Consultant        0.006762\n",
              "Military          0.006011\n",
              "Clergy            0.003005\n",
              "media             0.001878\n",
              "Name: Group, dtype: float64"
            ]
          },
          "metadata": {
            "tags": []
          },
          "execution_count": 2109
        }
      ]
    },
    {
      "cell_type": "markdown",
      "metadata": {
        "id": "vUguP4gjoPU4",
        "colab_type": "text"
      },
      "source": [
        "###overall actors, media, and politicians make up the largest categories, but as the graph shows, I expect the groups to vary significantly over time"
      ]
    },
    {
      "cell_type": "code",
      "metadata": {
        "id": "mACq7DiuokL2",
        "colab_type": "code",
        "colab": {}
      },
      "source": [
        ""
      ],
      "execution_count": 0,
      "outputs": []
    },
    {
      "cell_type": "code",
      "metadata": {
        "id": "p2DXCQnnmx1_",
        "colab_type": "code",
        "colab": {
          "base_uri": "https://localhost:8080/",
          "height": 644
        },
        "outputId": "61f859b7-438d-4963-87db-28414792c06a"
      },
      "source": [
        "daily_show.groupby('YEAR').Group.value_counts(dropna=False).unstack()"
      ],
      "execution_count": 2110,
      "outputs": [
        {
          "output_type": "execute_result",
          "data": {
            "text/html": [
              "<div>\n",
              "<style scoped>\n",
              "    .dataframe tbody tr th:only-of-type {\n",
              "        vertical-align: middle;\n",
              "    }\n",
              "\n",
              "    .dataframe tbody tr th {\n",
              "        vertical-align: top;\n",
              "    }\n",
              "\n",
              "    .dataframe thead th {\n",
              "        text-align: right;\n",
              "    }\n",
              "</style>\n",
              "<table border=\"1\" class=\"dataframe\">\n",
              "  <thead>\n",
              "    <tr style=\"text-align: right;\">\n",
              "      <th>Group</th>\n",
              "      <th>NaN</th>\n",
              "      <th>Academic</th>\n",
              "      <th>Acting</th>\n",
              "      <th>Advocacy</th>\n",
              "      <th>Athletics</th>\n",
              "      <th>Business</th>\n",
              "      <th>Clergy</th>\n",
              "      <th>Comedy</th>\n",
              "      <th>Consultant</th>\n",
              "      <th>Government</th>\n",
              "      <th>Media</th>\n",
              "      <th>Military</th>\n",
              "      <th>Misc</th>\n",
              "      <th>Musician</th>\n",
              "      <th>Political Aide</th>\n",
              "      <th>Politician</th>\n",
              "      <th>Science</th>\n",
              "      <th>media</th>\n",
              "    </tr>\n",
              "    <tr>\n",
              "      <th>YEAR</th>\n",
              "      <th></th>\n",
              "      <th></th>\n",
              "      <th></th>\n",
              "      <th></th>\n",
              "      <th></th>\n",
              "      <th></th>\n",
              "      <th></th>\n",
              "      <th></th>\n",
              "      <th></th>\n",
              "      <th></th>\n",
              "      <th></th>\n",
              "      <th></th>\n",
              "      <th></th>\n",
              "      <th></th>\n",
              "      <th></th>\n",
              "      <th></th>\n",
              "      <th></th>\n",
              "      <th></th>\n",
              "    </tr>\n",
              "  </thead>\n",
              "  <tbody>\n",
              "    <tr>\n",
              "      <th>1999</th>\n",
              "      <td>3.0</td>\n",
              "      <td>NaN</td>\n",
              "      <td>108.0</td>\n",
              "      <td>NaN</td>\n",
              "      <td>NaN</td>\n",
              "      <td>NaN</td>\n",
              "      <td>NaN</td>\n",
              "      <td>25.0</td>\n",
              "      <td>NaN</td>\n",
              "      <td>NaN</td>\n",
              "      <td>11.0</td>\n",
              "      <td>NaN</td>\n",
              "      <td>NaN</td>\n",
              "      <td>17.0</td>\n",
              "      <td>NaN</td>\n",
              "      <td>2.0</td>\n",
              "      <td>NaN</td>\n",
              "      <td>NaN</td>\n",
              "    </tr>\n",
              "    <tr>\n",
              "      <th>2000</th>\n",
              "      <td>4.0</td>\n",
              "      <td>NaN</td>\n",
              "      <td>100.0</td>\n",
              "      <td>1.0</td>\n",
              "      <td>3.0</td>\n",
              "      <td>1.0</td>\n",
              "      <td>NaN</td>\n",
              "      <td>12.0</td>\n",
              "      <td>NaN</td>\n",
              "      <td>NaN</td>\n",
              "      <td>21.0</td>\n",
              "      <td>NaN</td>\n",
              "      <td>NaN</td>\n",
              "      <td>13.0</td>\n",
              "      <td>1.0</td>\n",
              "      <td>13.0</td>\n",
              "      <td>NaN</td>\n",
              "      <td>NaN</td>\n",
              "    </tr>\n",
              "    <tr>\n",
              "      <th>2001</th>\n",
              "      <td>1.0</td>\n",
              "      <td>2.0</td>\n",
              "      <td>92.0</td>\n",
              "      <td>NaN</td>\n",
              "      <td>1.0</td>\n",
              "      <td>NaN</td>\n",
              "      <td>NaN</td>\n",
              "      <td>11.0</td>\n",
              "      <td>NaN</td>\n",
              "      <td>2.0</td>\n",
              "      <td>30.0</td>\n",
              "      <td>NaN</td>\n",
              "      <td>2.0</td>\n",
              "      <td>11.0</td>\n",
              "      <td>1.0</td>\n",
              "      <td>3.0</td>\n",
              "      <td>NaN</td>\n",
              "      <td>1.0</td>\n",
              "    </tr>\n",
              "    <tr>\n",
              "      <th>2002</th>\n",
              "      <td>2.0</td>\n",
              "      <td>NaN</td>\n",
              "      <td>84.0</td>\n",
              "      <td>1.0</td>\n",
              "      <td>2.0</td>\n",
              "      <td>NaN</td>\n",
              "      <td>1.0</td>\n",
              "      <td>5.0</td>\n",
              "      <td>NaN</td>\n",
              "      <td>1.0</td>\n",
              "      <td>39.0</td>\n",
              "      <td>NaN</td>\n",
              "      <td>1.0</td>\n",
              "      <td>10.0</td>\n",
              "      <td>2.0</td>\n",
              "      <td>8.0</td>\n",
              "      <td>NaN</td>\n",
              "      <td>3.0</td>\n",
              "    </tr>\n",
              "    <tr>\n",
              "      <th>2003</th>\n",
              "      <td>7.0</td>\n",
              "      <td>4.0</td>\n",
              "      <td>74.0</td>\n",
              "      <td>NaN</td>\n",
              "      <td>NaN</td>\n",
              "      <td>NaN</td>\n",
              "      <td>1.0</td>\n",
              "      <td>12.0</td>\n",
              "      <td>1.0</td>\n",
              "      <td>2.0</td>\n",
              "      <td>41.0</td>\n",
              "      <td>NaN</td>\n",
              "      <td>1.0</td>\n",
              "      <td>7.0</td>\n",
              "      <td>1.0</td>\n",
              "      <td>14.0</td>\n",
              "      <td>1.0</td>\n",
              "      <td>NaN</td>\n",
              "    </tr>\n",
              "    <tr>\n",
              "      <th>2004</th>\n",
              "      <td>3.0</td>\n",
              "      <td>1.0</td>\n",
              "      <td>51.0</td>\n",
              "      <td>4.0</td>\n",
              "      <td>2.0</td>\n",
              "      <td>2.0</td>\n",
              "      <td>1.0</td>\n",
              "      <td>7.0</td>\n",
              "      <td>4.0</td>\n",
              "      <td>3.0</td>\n",
              "      <td>45.0</td>\n",
              "      <td>NaN</td>\n",
              "      <td>NaN</td>\n",
              "      <td>5.0</td>\n",
              "      <td>2.0</td>\n",
              "      <td>32.0</td>\n",
              "      <td>2.0</td>\n",
              "      <td>NaN</td>\n",
              "    </tr>\n",
              "    <tr>\n",
              "      <th>2005</th>\n",
              "      <td>NaN</td>\n",
              "      <td>12.0</td>\n",
              "      <td>44.0</td>\n",
              "      <td>NaN</td>\n",
              "      <td>2.0</td>\n",
              "      <td>1.0</td>\n",
              "      <td>NaN</td>\n",
              "      <td>5.0</td>\n",
              "      <td>1.0</td>\n",
              "      <td>1.0</td>\n",
              "      <td>54.0</td>\n",
              "      <td>1.0</td>\n",
              "      <td>4.0</td>\n",
              "      <td>11.0</td>\n",
              "      <td>3.0</td>\n",
              "      <td>22.0</td>\n",
              "      <td>1.0</td>\n",
              "      <td>NaN</td>\n",
              "    </tr>\n",
              "    <tr>\n",
              "      <th>2006</th>\n",
              "      <td>1.0</td>\n",
              "      <td>9.0</td>\n",
              "      <td>44.0</td>\n",
              "      <td>NaN</td>\n",
              "      <td>5.0</td>\n",
              "      <td>1.0</td>\n",
              "      <td>NaN</td>\n",
              "      <td>8.0</td>\n",
              "      <td>4.0</td>\n",
              "      <td>3.0</td>\n",
              "      <td>47.0</td>\n",
              "      <td>1.0</td>\n",
              "      <td>3.0</td>\n",
              "      <td>6.0</td>\n",
              "      <td>3.0</td>\n",
              "      <td>25.0</td>\n",
              "      <td>1.0</td>\n",
              "      <td>NaN</td>\n",
              "    </tr>\n",
              "    <tr>\n",
              "      <th>2007</th>\n",
              "      <td>1.0</td>\n",
              "      <td>13.0</td>\n",
              "      <td>25.0</td>\n",
              "      <td>2.0</td>\n",
              "      <td>4.0</td>\n",
              "      <td>2.0</td>\n",
              "      <td>1.0</td>\n",
              "      <td>9.0</td>\n",
              "      <td>2.0</td>\n",
              "      <td>1.0</td>\n",
              "      <td>47.0</td>\n",
              "      <td>3.0</td>\n",
              "      <td>2.0</td>\n",
              "      <td>2.0</td>\n",
              "      <td>2.0</td>\n",
              "      <td>21.0</td>\n",
              "      <td>4.0</td>\n",
              "      <td>NaN</td>\n",
              "    </tr>\n",
              "    <tr>\n",
              "      <th>2008</th>\n",
              "      <td>3.0</td>\n",
              "      <td>5.0</td>\n",
              "      <td>26.0</td>\n",
              "      <td>3.0</td>\n",
              "      <td>1.0</td>\n",
              "      <td>1.0</td>\n",
              "      <td>NaN</td>\n",
              "      <td>7.0</td>\n",
              "      <td>3.0</td>\n",
              "      <td>NaN</td>\n",
              "      <td>77.0</td>\n",
              "      <td>1.0</td>\n",
              "      <td>2.0</td>\n",
              "      <td>1.0</td>\n",
              "      <td>6.0</td>\n",
              "      <td>27.0</td>\n",
              "      <td>1.0</td>\n",
              "      <td>NaN</td>\n",
              "    </tr>\n",
              "    <tr>\n",
              "      <th>2009</th>\n",
              "      <td>NaN</td>\n",
              "      <td>11.0</td>\n",
              "      <td>22.0</td>\n",
              "      <td>1.0</td>\n",
              "      <td>7.0</td>\n",
              "      <td>4.0</td>\n",
              "      <td>1.0</td>\n",
              "      <td>7.0</td>\n",
              "      <td>2.0</td>\n",
              "      <td>5.0</td>\n",
              "      <td>59.0</td>\n",
              "      <td>1.0</td>\n",
              "      <td>5.0</td>\n",
              "      <td>5.0</td>\n",
              "      <td>3.0</td>\n",
              "      <td>26.0</td>\n",
              "      <td>4.0</td>\n",
              "      <td>NaN</td>\n",
              "    </tr>\n",
              "    <tr>\n",
              "      <th>2010</th>\n",
              "      <td>1.0</td>\n",
              "      <td>8.0</td>\n",
              "      <td>45.0</td>\n",
              "      <td>1.0</td>\n",
              "      <td>5.0</td>\n",
              "      <td>2.0</td>\n",
              "      <td>NaN</td>\n",
              "      <td>7.0</td>\n",
              "      <td>1.0</td>\n",
              "      <td>3.0</td>\n",
              "      <td>50.0</td>\n",
              "      <td>2.0</td>\n",
              "      <td>4.0</td>\n",
              "      <td>6.0</td>\n",
              "      <td>2.0</td>\n",
              "      <td>25.0</td>\n",
              "      <td>3.0</td>\n",
              "      <td>NaN</td>\n",
              "    </tr>\n",
              "    <tr>\n",
              "      <th>2011</th>\n",
              "      <td>NaN</td>\n",
              "      <td>10.0</td>\n",
              "      <td>42.0</td>\n",
              "      <td>1.0</td>\n",
              "      <td>2.0</td>\n",
              "      <td>3.0</td>\n",
              "      <td>1.0</td>\n",
              "      <td>7.0</td>\n",
              "      <td>NaN</td>\n",
              "      <td>3.0</td>\n",
              "      <td>50.0</td>\n",
              "      <td>3.0</td>\n",
              "      <td>5.0</td>\n",
              "      <td>6.0</td>\n",
              "      <td>1.0</td>\n",
              "      <td>23.0</td>\n",
              "      <td>5.0</td>\n",
              "      <td>1.0</td>\n",
              "    </tr>\n",
              "    <tr>\n",
              "      <th>2012</th>\n",
              "      <td>4.0</td>\n",
              "      <td>8.0</td>\n",
              "      <td>33.0</td>\n",
              "      <td>2.0</td>\n",
              "      <td>7.0</td>\n",
              "      <td>3.0</td>\n",
              "      <td>2.0</td>\n",
              "      <td>6.0</td>\n",
              "      <td>NaN</td>\n",
              "      <td>3.0</td>\n",
              "      <td>52.0</td>\n",
              "      <td>1.0</td>\n",
              "      <td>6.0</td>\n",
              "      <td>5.0</td>\n",
              "      <td>1.0</td>\n",
              "      <td>29.0</td>\n",
              "      <td>2.0</td>\n",
              "      <td>NaN</td>\n",
              "    </tr>\n",
              "    <tr>\n",
              "      <th>2013</th>\n",
              "      <td>1.0</td>\n",
              "      <td>8.0</td>\n",
              "      <td>60.0</td>\n",
              "      <td>2.0</td>\n",
              "      <td>4.0</td>\n",
              "      <td>3.0</td>\n",
              "      <td>NaN</td>\n",
              "      <td>6.0</td>\n",
              "      <td>NaN</td>\n",
              "      <td>7.0</td>\n",
              "      <td>51.0</td>\n",
              "      <td>1.0</td>\n",
              "      <td>2.0</td>\n",
              "      <td>5.0</td>\n",
              "      <td>3.0</td>\n",
              "      <td>11.0</td>\n",
              "      <td>2.0</td>\n",
              "      <td>NaN</td>\n",
              "    </tr>\n",
              "    <tr>\n",
              "      <th>2014</th>\n",
              "      <td>NaN</td>\n",
              "      <td>10.0</td>\n",
              "      <td>47.0</td>\n",
              "      <td>3.0</td>\n",
              "      <td>4.0</td>\n",
              "      <td>1.0</td>\n",
              "      <td>NaN</td>\n",
              "      <td>9.0</td>\n",
              "      <td>NaN</td>\n",
              "      <td>6.0</td>\n",
              "      <td>53.0</td>\n",
              "      <td>1.0</td>\n",
              "      <td>5.0</td>\n",
              "      <td>8.0</td>\n",
              "      <td>2.0</td>\n",
              "      <td>13.0</td>\n",
              "      <td>1.0</td>\n",
              "      <td>NaN</td>\n",
              "    </tr>\n",
              "    <tr>\n",
              "      <th>2015</th>\n",
              "      <td>NaN</td>\n",
              "      <td>2.0</td>\n",
              "      <td>33.0</td>\n",
              "      <td>3.0</td>\n",
              "      <td>3.0</td>\n",
              "      <td>1.0</td>\n",
              "      <td>NaN</td>\n",
              "      <td>7.0</td>\n",
              "      <td>NaN</td>\n",
              "      <td>NaN</td>\n",
              "      <td>24.0</td>\n",
              "      <td>1.0</td>\n",
              "      <td>3.0</td>\n",
              "      <td>5.0</td>\n",
              "      <td>3.0</td>\n",
              "      <td>14.0</td>\n",
              "      <td>1.0</td>\n",
              "      <td>NaN</td>\n",
              "    </tr>\n",
              "  </tbody>\n",
              "</table>\n",
              "</div>"
            ],
            "text/plain": [
              "Group  NaN  Academic  Acting  ...  Politician  Science  media\n",
              "YEAR                          ...                            \n",
              "1999   3.0       NaN   108.0  ...         2.0      NaN    NaN\n",
              "2000   4.0       NaN   100.0  ...        13.0      NaN    NaN\n",
              "2001   1.0       2.0    92.0  ...         3.0      NaN    1.0\n",
              "2002   2.0       NaN    84.0  ...         8.0      NaN    3.0\n",
              "2003   7.0       4.0    74.0  ...        14.0      1.0    NaN\n",
              "2004   3.0       1.0    51.0  ...        32.0      2.0    NaN\n",
              "2005   NaN      12.0    44.0  ...        22.0      1.0    NaN\n",
              "2006   1.0       9.0    44.0  ...        25.0      1.0    NaN\n",
              "2007   1.0      13.0    25.0  ...        21.0      4.0    NaN\n",
              "2008   3.0       5.0    26.0  ...        27.0      1.0    NaN\n",
              "2009   NaN      11.0    22.0  ...        26.0      4.0    NaN\n",
              "2010   1.0       8.0    45.0  ...        25.0      3.0    NaN\n",
              "2011   NaN      10.0    42.0  ...        23.0      5.0    1.0\n",
              "2012   4.0       8.0    33.0  ...        29.0      2.0    NaN\n",
              "2013   1.0       8.0    60.0  ...        11.0      2.0    NaN\n",
              "2014   NaN      10.0    47.0  ...        13.0      1.0    NaN\n",
              "2015   NaN       2.0    33.0  ...        14.0      1.0    NaN\n",
              "\n",
              "[17 rows x 18 columns]"
            ]
          },
          "metadata": {
            "tags": []
          },
          "execution_count": 2110
        }
      ]
    },
    {
      "cell_type": "code",
      "metadata": {
        "id": "vNk7F3ZVoEeO",
        "colab_type": "code",
        "colab": {
          "base_uri": "https://localhost:8080/",
          "height": 458
        },
        "outputId": "d95f9564-8386-4d07-d784-321aa90bd967"
      },
      "source": [
        "daily_show.groupby('YEAR').Group.value_counts(normalize=True, dropna=False).unstack().plot()"
      ],
      "execution_count": 2111,
      "outputs": [
        {
          "output_type": "execute_result",
          "data": {
            "text/plain": [
              "<matplotlib.axes._subplots.AxesSubplot at 0x7f5b410188d0>"
            ]
          },
          "metadata": {
            "tags": []
          },
          "execution_count": 2111
        },
        {
          "output_type": "display_data",
          "data": {
            "image/png": "[encoded data removed]",
            "text/plain": [
              "<Figure size 432x288 with 1 Axes>"
            ]
          },
          "metadata": {
            "tags": []
          }
        }
      ]
    },
    {
      "cell_type": "code",
      "metadata": {
        "id": "4Qg1JTeRo8MZ",
        "colab_type": "code",
        "colab": {
          "base_uri": "https://localhost:8080/",
          "height": 332
        },
        "outputId": "481333ef-38f7-4871-f7ef-721ca8dd0f20"
      },
      "source": [
        "display(example2)"
      ],
      "execution_count": 2112,
      "outputs": [
        {
          "output_type": "display_data",
          "data": {
            "text/html": [
              "<img src=\"https://fivethirtyeight.com/wp-content/uploads/2015/08/hickey-datalab-dailyshow.png\" width=\"400\"/>"
            ],
            "text/plain": [
              "<IPython.core.display.Image object>"
            ]
          },
          "metadata": {
            "tags": []
          }
        }
      ]
    },
    {
      "cell_type": "markdown",
      "metadata": {
        "id": "j2husfFIo9eM",
        "colab_type": "text"
      },
      "source": [
        "### A rough view shows similarities between the original plot and the plot intend to create.  For example, the \"Acting\" category [red in top graph] is very similar to the \"Acting, Comedy, & Music\" category [blue in bottom graph] of the original plot "
      ]
    },
    {
      "cell_type": "code",
      "metadata": {
        "id": "3DoBYQt1jsZV",
        "colab_type": "code",
        "outputId": "2a954434-a7c3-4faa-db44-55c77d9fbbcc",
        "colab": {
          "base_uri": "https://localhost:8080/",
          "height": 85
        }
      },
      "source": [
        "daily_show.Group.value_counts().index"
      ],
      "execution_count": 2113,
      "outputs": [
        {
          "output_type": "execute_result",
          "data": {
            "text/plain": [
              "Index(['Acting', 'Media', 'Politician', 'Comedy', 'Musician', 'Academic',\n",
              "       'Athletics', 'Misc', 'Government', 'Political Aide', 'Science',\n",
              "       'Business', 'Advocacy', 'Consultant', 'Military', 'Clergy', 'media'],\n",
              "      dtype='object')"
            ]
          },
          "metadata": {
            "tags": []
          },
          "execution_count": 2113
        }
      ]
    },
    {
      "cell_type": "markdown",
      "metadata": {
        "id": "Rz62I7tVh9lZ",
        "colab_type": "text"
      },
      "source": [
        "###We see from the original graph that \"Acting, Media, and Music\" are combined, as is \"Politician and Government\".  However it is not completely clear which categories were chosen for polician and goverment\".  I assume that the relevant categories for this group are:\n",
        "\n",
        "'Politician', 'Government', 'Political Aide', and 'Military'\n",
        "      "
      ]
    },
    {
      "cell_type": "code",
      "metadata": {
        "id": "mUkdCl2xo8dm",
        "colab_type": "code",
        "colab": {}
      },
      "source": [
        ""
      ],
      "execution_count": 0,
      "outputs": []
    },
    {
      "cell_type": "code",
      "metadata": {
        "id": "TYGIZZX1jxEH",
        "colab_type": "code",
        "colab": {
          "base_uri": "https://localhost:8080/",
          "height": 419
        },
        "outputId": "f0c75b0f-e0f1-445a-e506-2b0908dca311"
      },
      "source": [
        "daily_show[daily_show.Group.isin(['Acting', 'Media', 'Politician', \n",
        "                                   'Comedy', 'Musician', 'Government', \n",
        "                                   'Political Aide', 'Military'])]"
      ],
      "execution_count": 2114,
      "outputs": [
        {
          "output_type": "execute_result",
          "data": {
            "text/html": [
              "<div>\n",
              "<style scoped>\n",
              "    .dataframe tbody tr th:only-of-type {\n",
              "        vertical-align: middle;\n",
              "    }\n",
              "\n",
              "    .dataframe tbody tr th {\n",
              "        vertical-align: top;\n",
              "    }\n",
              "\n",
              "    .dataframe thead th {\n",
              "        text-align: right;\n",
              "    }\n",
              "</style>\n",
              "<table border=\"1\" class=\"dataframe\">\n",
              "  <thead>\n",
              "    <tr style=\"text-align: right;\">\n",
              "      <th></th>\n",
              "      <th>YEAR</th>\n",
              "      <th>GoogleKnowlege_Occupation</th>\n",
              "      <th>Show</th>\n",
              "      <th>Group</th>\n",
              "      <th>Raw_Guest_List</th>\n",
              "    </tr>\n",
              "  </thead>\n",
              "  <tbody>\n",
              "    <tr>\n",
              "      <th>0</th>\n",
              "      <td>1999</td>\n",
              "      <td>actor</td>\n",
              "      <td>1/11/99</td>\n",
              "      <td>Acting</td>\n",
              "      <td>Michael J. Fox</td>\n",
              "    </tr>\n",
              "    <tr>\n",
              "      <th>1</th>\n",
              "      <td>1999</td>\n",
              "      <td>Comedian</td>\n",
              "      <td>1/12/99</td>\n",
              "      <td>Comedy</td>\n",
              "      <td>Sandra Bernhard</td>\n",
              "    </tr>\n",
              "    <tr>\n",
              "      <th>2</th>\n",
              "      <td>1999</td>\n",
              "      <td>television actress</td>\n",
              "      <td>1/13/99</td>\n",
              "      <td>Acting</td>\n",
              "      <td>Tracey Ullman</td>\n",
              "    </tr>\n",
              "    <tr>\n",
              "      <th>3</th>\n",
              "      <td>1999</td>\n",
              "      <td>film actress</td>\n",
              "      <td>1/14/99</td>\n",
              "      <td>Acting</td>\n",
              "      <td>Gillian Anderson</td>\n",
              "    </tr>\n",
              "    <tr>\n",
              "      <th>4</th>\n",
              "      <td>1999</td>\n",
              "      <td>actor</td>\n",
              "      <td>1/18/99</td>\n",
              "      <td>Acting</td>\n",
              "      <td>David Alan Grier</td>\n",
              "    </tr>\n",
              "    <tr>\n",
              "      <th>...</th>\n",
              "      <td>...</td>\n",
              "      <td>...</td>\n",
              "      <td>...</td>\n",
              "      <td>...</td>\n",
              "      <td>...</td>\n",
              "    </tr>\n",
              "    <tr>\n",
              "      <th>2688</th>\n",
              "      <td>2015</td>\n",
              "      <td>biographer</td>\n",
              "      <td>7/29/15</td>\n",
              "      <td>Media</td>\n",
              "      <td>Doris Kearns Goodwin</td>\n",
              "    </tr>\n",
              "    <tr>\n",
              "      <th>2689</th>\n",
              "      <td>2015</td>\n",
              "      <td>director</td>\n",
              "      <td>7/30/15</td>\n",
              "      <td>Media</td>\n",
              "      <td>J. J. Abrams</td>\n",
              "    </tr>\n",
              "    <tr>\n",
              "      <th>2690</th>\n",
              "      <td>2015</td>\n",
              "      <td>stand-up comedian</td>\n",
              "      <td>8/3/15</td>\n",
              "      <td>Comedy</td>\n",
              "      <td>Amy Schumer</td>\n",
              "    </tr>\n",
              "    <tr>\n",
              "      <th>2691</th>\n",
              "      <td>2015</td>\n",
              "      <td>actor</td>\n",
              "      <td>8/4/15</td>\n",
              "      <td>Acting</td>\n",
              "      <td>Denis Leary</td>\n",
              "    </tr>\n",
              "    <tr>\n",
              "      <th>2692</th>\n",
              "      <td>2015</td>\n",
              "      <td>comedian</td>\n",
              "      <td>8/5/15</td>\n",
              "      <td>Comedy</td>\n",
              "      <td>Louis C.K.</td>\n",
              "    </tr>\n",
              "  </tbody>\n",
              "</table>\n",
              "<p>2354 rows × 5 columns</p>\n",
              "</div>"
            ],
            "text/plain": [
              "      YEAR GoogleKnowlege_Occupation     Show   Group        Raw_Guest_List\n",
              "0     1999                     actor  1/11/99  Acting        Michael J. Fox\n",
              "1     1999                  Comedian  1/12/99  Comedy       Sandra Bernhard\n",
              "2     1999        television actress  1/13/99  Acting         Tracey Ullman\n",
              "3     1999              film actress  1/14/99  Acting      Gillian Anderson\n",
              "4     1999                     actor  1/18/99  Acting      David Alan Grier\n",
              "...    ...                       ...      ...     ...                   ...\n",
              "2688  2015                biographer  7/29/15   Media  Doris Kearns Goodwin\n",
              "2689  2015                  director  7/30/15   Media          J. J. Abrams\n",
              "2690  2015         stand-up comedian   8/3/15  Comedy           Amy Schumer\n",
              "2691  2015                     actor   8/4/15  Acting           Denis Leary\n",
              "2692  2015                  comedian   8/5/15  Comedy            Louis C.K.\n",
              "\n",
              "[2354 rows x 5 columns]"
            ]
          },
          "metadata": {
            "tags": []
          },
          "execution_count": 2114
        }
      ]
    },
    {
      "cell_type": "code",
      "metadata": {
        "id": "HdLIE86no8sq",
        "colab_type": "code",
        "colab": {}
      },
      "source": [
        "#filter for relevant groups and assign to variable \"ds_relevant_groups\"\n",
        "ds_relevant_groups = daily_show[daily_show.Group.isin(['Acting', 'Media', 'Politician', \n",
        "                                   'Comedy', 'Musician', 'Government', \n",
        "                                   'Political Aide', 'Military'])].copy()"
      ],
      "execution_count": 0,
      "outputs": []
    },
    {
      "cell_type": "code",
      "metadata": {
        "id": "T-HQUfNwpUgn",
        "colab_type": "code",
        "colab": {
          "base_uri": "https://localhost:8080/",
          "height": 34
        },
        "outputId": "45f626a2-bbbb-4fc7-cce1-2132f37eb2c4"
      },
      "source": [
        "ds_relevant_groups.Group.isna().sum()"
      ],
      "execution_count": 2116,
      "outputs": [
        {
          "output_type": "execute_result",
          "data": {
            "text/plain": [
              "0"
            ]
          },
          "metadata": {
            "tags": []
          },
          "execution_count": 2116
        }
      ]
    },
    {
      "cell_type": "code",
      "metadata": {
        "id": "ZkBnLIJkx-3Z",
        "colab_type": "code",
        "colab": {}
      },
      "source": [
        "ds_relevant_groups = ds_relevant_groups.reset_index(drop=True)"
      ],
      "execution_count": 0,
      "outputs": []
    },
    {
      "cell_type": "code",
      "metadata": {
        "id": "JaQDsKfuxVg1",
        "colab_type": "code",
        "colab": {
          "base_uri": "https://localhost:8080/",
          "height": 119
        },
        "outputId": "c00bf3b7-5770-43fa-a2b1-645616d9080e"
      },
      "source": [
        "ds_relevant_groups.Group.tail()"
      ],
      "execution_count": 2118,
      "outputs": [
        {
          "output_type": "execute_result",
          "data": {
            "text/plain": [
              "2349     Media\n",
              "2350     Media\n",
              "2351    Comedy\n",
              "2352    Acting\n",
              "2353    Comedy\n",
              "Name: Group, dtype: object"
            ]
          },
          "metadata": {
            "tags": []
          },
          "execution_count": 2118
        }
      ]
    },
    {
      "cell_type": "code",
      "metadata": {
        "id": "QwL9UgcHsePQ",
        "colab_type": "code",
        "colab": {
          "base_uri": "https://localhost:8080/",
          "height": 170
        },
        "outputId": "599c4bee-8e91-446e-f5b6-fb0988326bd0"
      },
      "source": [
        "ds_relevant_groups.Group.value_counts(dropna=False)"
      ],
      "execution_count": 2119,
      "outputs": [
        {
          "output_type": "execute_result",
          "data": {
            "text/plain": [
              "Acting            930\n",
              "Media             751\n",
              "Politician        308\n",
              "Comedy            150\n",
              "Musician          123\n",
              "Government         40\n",
              "Political Aide     36\n",
              "Military           16\n",
              "Name: Group, dtype: int64"
            ]
          },
          "metadata": {
            "tags": []
          },
          "execution_count": 2119
        }
      ]
    },
    {
      "cell_type": "code",
      "metadata": {
        "id": "5W1ca8qihIPf",
        "colab_type": "code",
        "colab": {
          "base_uri": "https://localhost:8080/",
          "height": 607
        },
        "outputId": "5dfcb476-a76f-4fba-e1f8-8914321b0009"
      },
      "source": [
        "#same method of grouping and stacking that was done to the orginal plot\n",
        "#one major benefit is that the index will automatically be used for the x-axis when plotting\n",
        "\n",
        "ds_relevant_groups.groupby('YEAR').Group.value_counts().unstack()"
      ],
      "execution_count": 2120,
      "outputs": [
        {
          "output_type": "execute_result",
          "data": {
            "text/html": [
              "<div>\n",
              "<style scoped>\n",
              "    .dataframe tbody tr th:only-of-type {\n",
              "        vertical-align: middle;\n",
              "    }\n",
              "\n",
              "    .dataframe tbody tr th {\n",
              "        vertical-align: top;\n",
              "    }\n",
              "\n",
              "    .dataframe thead th {\n",
              "        text-align: right;\n",
              "    }\n",
              "</style>\n",
              "<table border=\"1\" class=\"dataframe\">\n",
              "  <thead>\n",
              "    <tr style=\"text-align: right;\">\n",
              "      <th>Group</th>\n",
              "      <th>Acting</th>\n",
              "      <th>Comedy</th>\n",
              "      <th>Government</th>\n",
              "      <th>Media</th>\n",
              "      <th>Military</th>\n",
              "      <th>Musician</th>\n",
              "      <th>Political Aide</th>\n",
              "      <th>Politician</th>\n",
              "    </tr>\n",
              "    <tr>\n",
              "      <th>YEAR</th>\n",
              "      <th></th>\n",
              "      <th></th>\n",
              "      <th></th>\n",
              "      <th></th>\n",
              "      <th></th>\n",
              "      <th></th>\n",
              "      <th></th>\n",
              "      <th></th>\n",
              "    </tr>\n",
              "  </thead>\n",
              "  <tbody>\n",
              "    <tr>\n",
              "      <th>1999</th>\n",
              "      <td>108.0</td>\n",
              "      <td>25.0</td>\n",
              "      <td>NaN</td>\n",
              "      <td>11.0</td>\n",
              "      <td>NaN</td>\n",
              "      <td>17.0</td>\n",
              "      <td>NaN</td>\n",
              "      <td>2.0</td>\n",
              "    </tr>\n",
              "    <tr>\n",
              "      <th>2000</th>\n",
              "      <td>100.0</td>\n",
              "      <td>12.0</td>\n",
              "      <td>NaN</td>\n",
              "      <td>21.0</td>\n",
              "      <td>NaN</td>\n",
              "      <td>13.0</td>\n",
              "      <td>1.0</td>\n",
              "      <td>13.0</td>\n",
              "    </tr>\n",
              "    <tr>\n",
              "      <th>2001</th>\n",
              "      <td>92.0</td>\n",
              "      <td>11.0</td>\n",
              "      <td>2.0</td>\n",
              "      <td>30.0</td>\n",
              "      <td>NaN</td>\n",
              "      <td>11.0</td>\n",
              "      <td>1.0</td>\n",
              "      <td>3.0</td>\n",
              "    </tr>\n",
              "    <tr>\n",
              "      <th>2002</th>\n",
              "      <td>84.0</td>\n",
              "      <td>5.0</td>\n",
              "      <td>1.0</td>\n",
              "      <td>39.0</td>\n",
              "      <td>NaN</td>\n",
              "      <td>10.0</td>\n",
              "      <td>2.0</td>\n",
              "      <td>8.0</td>\n",
              "    </tr>\n",
              "    <tr>\n",
              "      <th>2003</th>\n",
              "      <td>74.0</td>\n",
              "      <td>12.0</td>\n",
              "      <td>2.0</td>\n",
              "      <td>41.0</td>\n",
              "      <td>NaN</td>\n",
              "      <td>7.0</td>\n",
              "      <td>1.0</td>\n",
              "      <td>14.0</td>\n",
              "    </tr>\n",
              "    <tr>\n",
              "      <th>2004</th>\n",
              "      <td>51.0</td>\n",
              "      <td>7.0</td>\n",
              "      <td>3.0</td>\n",
              "      <td>45.0</td>\n",
              "      <td>NaN</td>\n",
              "      <td>5.0</td>\n",
              "      <td>2.0</td>\n",
              "      <td>32.0</td>\n",
              "    </tr>\n",
              "    <tr>\n",
              "      <th>2005</th>\n",
              "      <td>44.0</td>\n",
              "      <td>5.0</td>\n",
              "      <td>1.0</td>\n",
              "      <td>54.0</td>\n",
              "      <td>1.0</td>\n",
              "      <td>11.0</td>\n",
              "      <td>3.0</td>\n",
              "      <td>22.0</td>\n",
              "    </tr>\n",
              "    <tr>\n",
              "      <th>2006</th>\n",
              "      <td>44.0</td>\n",
              "      <td>8.0</td>\n",
              "      <td>3.0</td>\n",
              "      <td>47.0</td>\n",
              "      <td>1.0</td>\n",
              "      <td>6.0</td>\n",
              "      <td>3.0</td>\n",
              "      <td>25.0</td>\n",
              "    </tr>\n",
              "    <tr>\n",
              "      <th>2007</th>\n",
              "      <td>25.0</td>\n",
              "      <td>9.0</td>\n",
              "      <td>1.0</td>\n",
              "      <td>47.0</td>\n",
              "      <td>3.0</td>\n",
              "      <td>2.0</td>\n",
              "      <td>2.0</td>\n",
              "      <td>21.0</td>\n",
              "    </tr>\n",
              "    <tr>\n",
              "      <th>2008</th>\n",
              "      <td>26.0</td>\n",
              "      <td>7.0</td>\n",
              "      <td>NaN</td>\n",
              "      <td>77.0</td>\n",
              "      <td>1.0</td>\n",
              "      <td>1.0</td>\n",
              "      <td>6.0</td>\n",
              "      <td>27.0</td>\n",
              "    </tr>\n",
              "    <tr>\n",
              "      <th>2009</th>\n",
              "      <td>22.0</td>\n",
              "      <td>7.0</td>\n",
              "      <td>5.0</td>\n",
              "      <td>59.0</td>\n",
              "      <td>1.0</td>\n",
              "      <td>5.0</td>\n",
              "      <td>3.0</td>\n",
              "      <td>26.0</td>\n",
              "    </tr>\n",
              "    <tr>\n",
              "      <th>2010</th>\n",
              "      <td>45.0</td>\n",
              "      <td>7.0</td>\n",
              "      <td>3.0</td>\n",
              "      <td>50.0</td>\n",
              "      <td>2.0</td>\n",
              "      <td>6.0</td>\n",
              "      <td>2.0</td>\n",
              "      <td>25.0</td>\n",
              "    </tr>\n",
              "    <tr>\n",
              "      <th>2011</th>\n",
              "      <td>42.0</td>\n",
              "      <td>7.0</td>\n",
              "      <td>3.0</td>\n",
              "      <td>50.0</td>\n",
              "      <td>3.0</td>\n",
              "      <td>6.0</td>\n",
              "      <td>1.0</td>\n",
              "      <td>23.0</td>\n",
              "    </tr>\n",
              "    <tr>\n",
              "      <th>2012</th>\n",
              "      <td>33.0</td>\n",
              "      <td>6.0</td>\n",
              "      <td>3.0</td>\n",
              "      <td>52.0</td>\n",
              "      <td>1.0</td>\n",
              "      <td>5.0</td>\n",
              "      <td>1.0</td>\n",
              "      <td>29.0</td>\n",
              "    </tr>\n",
              "    <tr>\n",
              "      <th>2013</th>\n",
              "      <td>60.0</td>\n",
              "      <td>6.0</td>\n",
              "      <td>7.0</td>\n",
              "      <td>51.0</td>\n",
              "      <td>1.0</td>\n",
              "      <td>5.0</td>\n",
              "      <td>3.0</td>\n",
              "      <td>11.0</td>\n",
              "    </tr>\n",
              "    <tr>\n",
              "      <th>2014</th>\n",
              "      <td>47.0</td>\n",
              "      <td>9.0</td>\n",
              "      <td>6.0</td>\n",
              "      <td>53.0</td>\n",
              "      <td>1.0</td>\n",
              "      <td>8.0</td>\n",
              "      <td>2.0</td>\n",
              "      <td>13.0</td>\n",
              "    </tr>\n",
              "    <tr>\n",
              "      <th>2015</th>\n",
              "      <td>33.0</td>\n",
              "      <td>7.0</td>\n",
              "      <td>NaN</td>\n",
              "      <td>24.0</td>\n",
              "      <td>1.0</td>\n",
              "      <td>5.0</td>\n",
              "      <td>3.0</td>\n",
              "      <td>14.0</td>\n",
              "    </tr>\n",
              "  </tbody>\n",
              "</table>\n",
              "</div>"
            ],
            "text/plain": [
              "Group  Acting  Comedy  Government  ...  Musician  Political Aide  Politician\n",
              "YEAR                               ...                                      \n",
              "1999    108.0    25.0         NaN  ...      17.0             NaN         2.0\n",
              "2000    100.0    12.0         NaN  ...      13.0             1.0        13.0\n",
              "2001     92.0    11.0         2.0  ...      11.0             1.0         3.0\n",
              "2002     84.0     5.0         1.0  ...      10.0             2.0         8.0\n",
              "2003     74.0    12.0         2.0  ...       7.0             1.0        14.0\n",
              "2004     51.0     7.0         3.0  ...       5.0             2.0        32.0\n",
              "2005     44.0     5.0         1.0  ...      11.0             3.0        22.0\n",
              "2006     44.0     8.0         3.0  ...       6.0             3.0        25.0\n",
              "2007     25.0     9.0         1.0  ...       2.0             2.0        21.0\n",
              "2008     26.0     7.0         NaN  ...       1.0             6.0        27.0\n",
              "2009     22.0     7.0         5.0  ...       5.0             3.0        26.0\n",
              "2010     45.0     7.0         3.0  ...       6.0             2.0        25.0\n",
              "2011     42.0     7.0         3.0  ...       6.0             1.0        23.0\n",
              "2012     33.0     6.0         3.0  ...       5.0             1.0        29.0\n",
              "2013     60.0     6.0         7.0  ...       5.0             3.0        11.0\n",
              "2014     47.0     9.0         6.0  ...       8.0             2.0        13.0\n",
              "2015     33.0     7.0         NaN  ...       5.0             3.0        14.0\n",
              "\n",
              "[17 rows x 8 columns]"
            ]
          },
          "metadata": {
            "tags": []
          },
          "execution_count": 2120
        }
      ]
    },
    {
      "cell_type": "code",
      "metadata": {
        "id": "xyvYXrgMhISy",
        "colab_type": "code",
        "colab": {
          "base_uri": "https://localhost:8080/",
          "height": 321
        },
        "outputId": "e2a98785-e81b-402e-87bf-381a27a09377"
      },
      "source": [
        "ds_relevant_groups.groupby('YEAR').Group.value_counts(normalize=True, dropna=False).unstack().plot()"
      ],
      "execution_count": 2121,
      "outputs": [
        {
          "output_type": "execute_result",
          "data": {
            "text/plain": [
              "<matplotlib.axes._subplots.AxesSubplot at 0x7f5b3ed44c88>"
            ]
          },
          "metadata": {
            "tags": []
          },
          "execution_count": 2121
        },
        {
          "output_type": "display_data",
          "data": {
            "image/png": "[encoded data removed]",
            "text/plain": [
              "<Figure size 432x288 with 1 Axes>"
            ]
          },
          "metadata": {
            "tags": []
          }
        }
      ]
    },
    {
      "cell_type": "code",
      "metadata": {
        "id": "I6iz5ci2uMpH",
        "colab_type": "code",
        "colab": {
          "base_uri": "https://localhost:8080/",
          "height": 332
        },
        "outputId": "6ac63baf-aacc-41e5-f617-a14c5a7c14e5"
      },
      "source": [
        "display(example2)"
      ],
      "execution_count": 2122,
      "outputs": [
        {
          "output_type": "display_data",
          "data": {
            "text/html": [
              "<img src=\"https://fivethirtyeight.com/wp-content/uploads/2015/08/hickey-datalab-dailyshow.png\" width=\"400\"/>"
            ],
            "text/plain": [
              "<IPython.core.display.Image object>"
            ]
          },
          "metadata": {
            "tags": []
          }
        }
      ]
    },
    {
      "cell_type": "code",
      "metadata": {
        "id": "iNZOcBRlhIgV",
        "colab_type": "code",
        "colab": {}
      },
      "source": [
        "#use for loop to combine occupations into three major groups: \n",
        "def combine_cats(series_x):\n",
        "  occupations = []\n",
        "  for occupation in series_x:\n",
        "    if occupation in ['Acting', 'Comedy', 'Musician']:\n",
        "      occupations.append(\"Acting, Comedy, & Music\")\n",
        "    elif occupation in ['Government', 'Political Aide', 'Politician', 'Military']:\n",
        "      occupations.append(\"Government and Politics\")\n",
        "    elif occupation in ['Media']:\n",
        "      occupations.append(\"Media\")\n",
        "    else: \n",
        "      occupations.append(\"Other\")\n",
        "  return pd.Series(occupations)\n"
      ],
      "execution_count": 0,
      "outputs": []
    },
    {
      "cell_type": "code",
      "metadata": {
        "id": "TGuDf3D-hIje",
        "colab_type": "code",
        "colab": {
          "base_uri": "https://localhost:8080/",
          "height": 221
        },
        "outputId": "7c76543a-1811-40ea-c254-c7a4f2762baf"
      },
      "source": [
        "combine_cats(ds_relevant_groups.Group)   #the function works!! (exclamation points indicate that even I'm surprised)"
      ],
      "execution_count": 2124,
      "outputs": [
        {
          "output_type": "execute_result",
          "data": {
            "text/plain": [
              "0       Acting, Comedy, & Music\n",
              "1       Acting, Comedy, & Music\n",
              "2       Acting, Comedy, & Music\n",
              "3       Acting, Comedy, & Music\n",
              "4       Acting, Comedy, & Music\n",
              "                 ...           \n",
              "2349                      Media\n",
              "2350                      Media\n",
              "2351    Acting, Comedy, & Music\n",
              "2352    Acting, Comedy, & Music\n",
              "2353    Acting, Comedy, & Music\n",
              "Length: 2354, dtype: object"
            ]
          },
          "metadata": {
            "tags": []
          },
          "execution_count": 2124
        }
      ]
    },
    {
      "cell_type": "code",
      "metadata": {
        "id": "U8fIDMovu0cx",
        "colab_type": "code",
        "colab": {
          "base_uri": "https://localhost:8080/",
          "height": 170
        },
        "outputId": "b870e0e3-927c-4fbc-9059-2eb6bbdc95f4"
      },
      "source": [
        "ds_relevant_groups.Group.value_counts(dropna=False)   #just to check that no categories were lost"
      ],
      "execution_count": 2125,
      "outputs": [
        {
          "output_type": "execute_result",
          "data": {
            "text/plain": [
              "Acting            930\n",
              "Media             751\n",
              "Politician        308\n",
              "Comedy            150\n",
              "Musician          123\n",
              "Government         40\n",
              "Political Aide     36\n",
              "Military           16\n",
              "Name: Group, dtype: int64"
            ]
          },
          "metadata": {
            "tags": []
          },
          "execution_count": 2125
        }
      ]
    },
    {
      "cell_type": "code",
      "metadata": {
        "id": "OdKEXTwkyrRo",
        "colab_type": "code",
        "colab": {}
      },
      "source": [
        "occupation_series = combine_cats(ds_relevant_groups.Group)"
      ],
      "execution_count": 0,
      "outputs": []
    },
    {
      "cell_type": "code",
      "metadata": {
        "id": "wuRalSYzy6AQ",
        "colab_type": "code",
        "colab": {
          "base_uri": "https://localhost:8080/",
          "height": 85
        },
        "outputId": "38b85d8e-d6e2-486c-f028-d4c37a8dede3"
      },
      "source": [
        "occupation_series.value_counts(dropna=False)"
      ],
      "execution_count": 2127,
      "outputs": [
        {
          "output_type": "execute_result",
          "data": {
            "text/plain": [
              "Acting, Comedy, & Music    1203\n",
              "Media                       751\n",
              "Government and Politics     400\n",
              "dtype: int64"
            ]
          },
          "metadata": {
            "tags": []
          },
          "execution_count": 2127
        }
      ]
    },
    {
      "cell_type": "code",
      "metadata": {
        "id": "Msm29vd8y6rq",
        "colab_type": "code",
        "colab": {}
      },
      "source": [
        "ds_relevant_groups['Group2']=occupation_series"
      ],
      "execution_count": 0,
      "outputs": []
    },
    {
      "cell_type": "code",
      "metadata": {
        "id": "BE9Ux6Vwy6_t",
        "colab_type": "code",
        "colab": {
          "base_uri": "https://localhost:8080/",
          "height": 119
        },
        "outputId": "34c841b6-cdad-444d-9782-653046a08ad8"
      },
      "source": [
        "ds_relevant_groups.Group2.tail()"
      ],
      "execution_count": 2134,
      "outputs": [
        {
          "output_type": "execute_result",
          "data": {
            "text/plain": [
              "2349                      Media\n",
              "2350                      Media\n",
              "2351    Acting, Comedy, & Music\n",
              "2352    Acting, Comedy, & Music\n",
              "2353    Acting, Comedy, & Music\n",
              "Name: Group2, dtype: object"
            ]
          },
          "metadata": {
            "tags": []
          },
          "execution_count": 2134
        }
      ]
    },
    {
      "cell_type": "code",
      "metadata": {
        "id": "j0goqD39u0i1",
        "colab_type": "code",
        "colab": {
          "base_uri": "https://localhost:8080/",
          "height": 918
        },
        "outputId": "24906fe4-2a72-4a3d-add7-3e75987555c7"
      },
      "source": [
        "ds_relevant_groups.groupby('YEAR').Group2.value_counts(normalize=True)  #same process"
      ],
      "execution_count": 2135,
      "outputs": [
        {
          "output_type": "execute_result",
          "data": {
            "text/plain": [
              "YEAR  Group2                 \n",
              "1999  Acting, Comedy, & Music    0.920245\n",
              "      Media                      0.067485\n",
              "      Government and Politics    0.012270\n",
              "2000  Acting, Comedy, & Music    0.781250\n",
              "      Media                      0.131250\n",
              "      Government and Politics    0.087500\n",
              "2001  Acting, Comedy, & Music    0.760000\n",
              "      Media                      0.200000\n",
              "      Government and Politics    0.040000\n",
              "2002  Acting, Comedy, & Music    0.664430\n",
              "      Media                      0.261745\n",
              "      Government and Politics    0.073826\n",
              "2003  Acting, Comedy, & Music    0.615894\n",
              "      Media                      0.271523\n",
              "      Government and Politics    0.112583\n",
              "2004  Acting, Comedy, & Music    0.434483\n",
              "      Media                      0.310345\n",
              "      Government and Politics    0.255172\n",
              "2005  Acting, Comedy, & Music    0.425532\n",
              "      Media                      0.382979\n",
              "      Government and Politics    0.191489\n",
              "2006  Acting, Comedy, & Music    0.423358\n",
              "      Media                      0.343066\n",
              "      Government and Politics    0.233577\n",
              "2007  Media                      0.427273\n",
              "      Acting, Comedy, & Music    0.327273\n",
              "      Government and Politics    0.245455\n",
              "2008  Media                      0.531034\n",
              "      Acting, Comedy, & Music    0.234483\n",
              "      Government and Politics    0.234483\n",
              "2009  Media                      0.460938\n",
              "      Government and Politics    0.273438\n",
              "      Acting, Comedy, & Music    0.265625\n",
              "2010  Acting, Comedy, & Music    0.414286\n",
              "      Media                      0.357143\n",
              "      Government and Politics    0.228571\n",
              "2011  Acting, Comedy, & Music    0.407407\n",
              "      Media                      0.370370\n",
              "      Government and Politics    0.222222\n",
              "2012  Media                      0.400000\n",
              "      Acting, Comedy, & Music    0.338462\n",
              "      Government and Politics    0.261538\n",
              "2013  Acting, Comedy, & Music    0.493056\n",
              "      Media                      0.354167\n",
              "      Government and Politics    0.152778\n",
              "2014  Acting, Comedy, & Music    0.460432\n",
              "      Media                      0.381295\n",
              "      Government and Politics    0.158273\n",
              "2015  Acting, Comedy, & Music    0.517241\n",
              "      Media                      0.275862\n",
              "      Government and Politics    0.206897\n",
              "Name: Group2, dtype: float64"
            ]
          },
          "metadata": {
            "tags": []
          },
          "execution_count": 2135
        }
      ]
    },
    {
      "cell_type": "code",
      "metadata": {
        "id": "XvDprChIu0fv",
        "colab_type": "code",
        "colab": {
          "base_uri": "https://localhost:8080/",
          "height": 321
        },
        "outputId": "a1fe2e9b-d294-4de2-d05a-d22ea6ec94a6"
      },
      "source": [
        "ds_relevant_groups.groupby('YEAR').Group2.value_counts(normalize=True).unstack().plot()"
      ],
      "execution_count": 2136,
      "outputs": [
        {
          "output_type": "execute_result",
          "data": {
            "text/plain": [
              "<matplotlib.axes._subplots.AxesSubplot at 0x7f5b3f0c5f60>"
            ]
          },
          "metadata": {
            "tags": []
          },
          "execution_count": 2136
        },
        {
          "output_type": "display_data",
          "data": {
            "image/png": "[encoded data removed]",
            "text/plain": [
              "<Figure size 432x288 with 1 Axes>"
            ]
          },
          "metadata": {
            "tags": []
          }
        }
      ]
    },
    {
      "cell_type": "code",
      "metadata": {
        "id": "sruRsnxiu0me",
        "colab_type": "code",
        "colab": {
          "base_uri": "https://localhost:8080/",
          "height": 332
        },
        "outputId": "f8d3e19c-b35a-4232-9cc9-798beb7d4c93"
      },
      "source": [
        "display(example2)"
      ],
      "execution_count": 2137,
      "outputs": [
        {
          "output_type": "display_data",
          "data": {
            "text/html": [
              "<img src=\"https://fivethirtyeight.com/wp-content/uploads/2015/08/hickey-datalab-dailyshow.png\" width=\"400\"/>"
            ],
            "text/plain": [
              "<IPython.core.display.Image object>"
            ]
          },
          "metadata": {
            "tags": []
          }
        }
      ]
    },
    {
      "cell_type": "markdown",
      "metadata": {
        "id": "a4wxSXse1Y3G",
        "colab_type": "text"
      },
      "source": [
        "###Looking good.  But I still need to change the axis labels, line colors, remove the legend, etc."
      ]
    },
    {
      "cell_type": "code",
      "metadata": {
        "id": "zr2q9HgUGGxI",
        "colab_type": "code",
        "colab": {}
      },
      "source": [
        ""
      ],
      "execution_count": 0,
      "outputs": []
    },
    {
      "cell_type": "markdown",
      "metadata": {
        "id": "0wSrBzmJyWaV",
        "colab_type": "text"
      },
      "source": [
        "# STRETCH OPTIONS\n",
        "\n",
        "### 1) Reproduce one of the following using the matplotlib or seaborn libraries:\n",
        "\n",
        "- [thanksgiving-2015](https://fivethirtyeight.com/features/heres-what-your-part-of-america-eats-on-thanksgiving/) \n",
        "- [candy-power-ranking](https://fivethirtyeight.com/features/the-ultimate-halloween-candy-power-ranking/) \n",
        "- or another example of your choice!\n",
        "\n",
        "### 2) Make more charts!\n",
        "\n",
        "Choose a chart you want to make, from [Visual Vocabulary - Vega Edition](http://ft.com/vocabulary).\n",
        "\n",
        "Find the chart in an example gallery of a Python data visualization library:\n",
        "- [Seaborn](http://seaborn.pydata.org/examples/index.html)\n",
        "- [Altair](https://altair-viz.github.io/gallery/index.html)\n",
        "- [Matplotlib](https://matplotlib.org/gallery.html)\n",
        "- [Pandas](https://pandas.pydata.org/pandas-docs/stable/visualization.html)\n",
        "\n",
        "Reproduce the chart. [Optionally, try the \"Ben Franklin Method.\"](https://docs.google.com/document/d/1ubOw9B3Hfip27hF2ZFnW3a3z9xAgrUDRReOEo-FHCVs/edit) If you want, experiment and make changes.\n",
        "\n",
        "Take notes. Consider sharing your work with your cohort!"
      ]
    },
    {
      "cell_type": "code",
      "metadata": {
        "id": "dRJkKftiy5BJ",
        "colab_type": "code",
        "colab": {}
      },
      "source": [
        "# More Work Here"
      ],
      "execution_count": 0,
      "outputs": []
    }
  ]
}