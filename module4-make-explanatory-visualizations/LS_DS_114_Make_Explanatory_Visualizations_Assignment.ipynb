{
  "nbformat": 4,
  "nbformat_minor": 0,
  "metadata": {
    "colab": {
      "name": "LS_DS_114_Make_Explanatory_Visualizations_Assignment.ipynb",
      "provenance": [],
      "collapsed_sections": [],
      "toc_visible": true
    },
    "language_info": {
      "codemirror_mode": {
        "name": "ipython",
        "version": 3
      },
      "file_extension": ".py",
      "mimetype": "text/x-python",
      "name": "python",
      "nbconvert_exporter": "python",
      "pygments_lexer": "ipython3",
      "version": "3.7.1"
    },
    "kernelspec": {
      "display_name": "Python 3",
      "language": "python",
      "name": "python3"
    }
  },
  "cells": [
    {
      "cell_type": "markdown",
      "metadata": {
        "colab_type": "text",
        "id": "NMEswXWh9mqw"
      },
      "source": [
        "Lambda School Data Science\n",
        "\n",
        "*Unit 1, Sprint 1, Module 4*\n",
        "\n",
        "---\n",
        "\n",
        "# ASSIGNMENT\n",
        "\n",
        "### 1) Replicate the lesson code. I recommend that you [do not copy-paste](https://docs.google.com/document/d/1ubOw9B3Hfip27hF2ZFnW3a3z9xAgrUDRReOEo-FHCVs/edit).\n",
        "\n",
        "Get caught up to where we got our example in class and then try and take things further. How close to \"pixel perfect\" can you make the lecture graph?\n",
        "\n",
        "Once you have something that you're proud of, share your graph in the cohort channel and move on to the second exercise.\n",
        "\n",
        "### 2) Reproduce another example from [FiveThityEight's shared data repository](https://data.fivethirtyeight.com/).\n",
        "\n",
        "**WARNING**: There are a lot of very custom graphs and tables at the above link. I **highly** recommend not trying to reproduce any that look like a table of values or something really different from the graph types that we are already familiar with. Search through the posts until you find a graph type that you are more or less familiar with: histogram, bar chart, stacked bar chart, line chart, [seaborn relplot](https://seaborn.pydata.org/generated/seaborn.relplot.html), etc. Recreating some of the graphics that 538 uses would be a lot easier in Adobe photoshop/illustrator than with matplotlib. \n",
        "\n",
        "- If you put in some time to find a graph that looks \"easy\" to replicate you'll probably find that it's not as easy as you thought. \n",
        "\n",
        "- If you start with a graph that looks hard to replicate you'll probably run up against a brick wall and be disappointed with your afternoon.\n",
        "\n",
        "\n",
        "\n",
        "\n",
        "\n",
        "\n",
        "\n",
        "\n",
        "\n",
        "\n"
      ]
    },
    {
      "cell_type": "code",
      "metadata": {
        "id": "1ffIImZ2oSjy",
        "colab_type": "code",
        "colab": {}
      },
      "source": [
        "import pandas as pd\n",
        "import numpy as np\n",
        "import matplotlib.pyplot as plt\n",
        "import seaborn as sns\n"
      ],
      "execution_count": 0,
      "outputs": []
    },
    {
      "cell_type": "code",
      "metadata": {
        "id": "sHcF_VchoSnX",
        "colab_type": "code",
        "colab": {}
      },
      "source": [
        ""
      ],
      "execution_count": 0,
      "outputs": []
    },
    {
      "cell_type": "code",
      "metadata": {
        "id": "Ji-O2uTuoSq0",
        "colab_type": "code",
        "colab": {}
      },
      "source": [
        ""
      ],
      "execution_count": 0,
      "outputs": []
    },
    {
      "cell_type": "code",
      "metadata": {
        "id": "J_fR85W3oStw",
        "colab_type": "code",
        "colab": {}
      },
      "source": [
        ""
      ],
      "execution_count": 0,
      "outputs": []
    },
    {
      "cell_type": "code",
      "metadata": {
        "id": "7SY1ZHawyZvz",
        "colab_type": "code",
        "colab": {
          "base_uri": "https://localhost:8080/",
          "height": 69
        },
        "outputId": "0a08ae00-1f8d-442d-dd9c-271ed77d22bb"
      },
      "source": [
        "!wget trump-approval-ratings.zip"
      ],
      "execution_count": 3,
      "outputs": [
        {
          "output_type": "stream",
          "text": [
            "--2020-03-20 01:46:32--  http://trump-approval-ratings.zip/\n",
            "Resolving trump-approval-ratings.zip (trump-approval-ratings.zip)... failed: Name or service not known.\n",
            "wget: unable to resolve host address ‘trump-approval-ratings.zip’\n"
          ],
          "name": "stdout"
        }
      ]
    },
    {
      "cell_type": "code",
      "metadata": {
        "id": "PVXtzLYWn1Z5",
        "colab_type": "code",
        "colab": {
          "base_uri": "https://localhost:8080/",
          "height": 104
        },
        "outputId": "f5a0b17e-44c3-4490-ae0d-fb025a922d20"
      },
      "source": [
        "!unzip trump-approval-ratings.zip"
      ],
      "execution_count": 5,
      "outputs": [
        {
          "output_type": "stream",
          "text": [
            "Archive:  trump-approval-ratings.zip\n",
            "   creating: trump-approval-ratings/\n",
            "  inflating: trump-approval-ratings/README.md  \n",
            "  inflating: trump-approval-ratings/approval_polllist.csv  \n",
            "  inflating: trump-approval-ratings/approval_topline.csv  \n"
          ],
          "name": "stdout"
        }
      ]
    },
    {
      "cell_type": "code",
      "metadata": {
        "id": "ipt1ERS_n1fP",
        "colab_type": "code",
        "colab": {
          "base_uri": "https://localhost:8080/",
          "height": 339
        },
        "outputId": "b36ceda5-f295-4433-823e-0c88960fe53c"
      },
      "source": [
        "poll_df = pd.read_csv('trump-approval-ratings/approval_polllist.csv')\n",
        "poll_df.head(5)"
      ],
      "execution_count": 11,
      "outputs": [
        {
          "output_type": "execute_result",
          "data": {
            "text/html": [
              "<div>\n",
              "<style scoped>\n",
              "    .dataframe tbody tr th:only-of-type {\n",
              "        vertical-align: middle;\n",
              "    }\n",
              "\n",
              "    .dataframe tbody tr th {\n",
              "        vertical-align: top;\n",
              "    }\n",
              "\n",
              "    .dataframe thead th {\n",
              "        text-align: right;\n",
              "    }\n",
              "</style>\n",
              "<table border=\"1\" class=\"dataframe\">\n",
              "  <thead>\n",
              "    <tr style=\"text-align: right;\">\n",
              "      <th></th>\n",
              "      <th>president</th>\n",
              "      <th>subgroup</th>\n",
              "      <th>modeldate</th>\n",
              "      <th>startdate</th>\n",
              "      <th>enddate</th>\n",
              "      <th>pollster</th>\n",
              "      <th>grade</th>\n",
              "      <th>samplesize</th>\n",
              "      <th>population</th>\n",
              "      <th>weight</th>\n",
              "      <th>influence</th>\n",
              "      <th>approve</th>\n",
              "      <th>disapprove</th>\n",
              "      <th>adjusted_approve</th>\n",
              "      <th>adjusted_disapprove</th>\n",
              "      <th>multiversions</th>\n",
              "      <th>tracking</th>\n",
              "      <th>url</th>\n",
              "      <th>poll_id</th>\n",
              "      <th>question_id</th>\n",
              "      <th>createddate</th>\n",
              "      <th>timestamp</th>\n",
              "    </tr>\n",
              "  </thead>\n",
              "  <tbody>\n",
              "    <tr>\n",
              "      <th>0</th>\n",
              "      <td>Donald Trump</td>\n",
              "      <td>All polls</td>\n",
              "      <td>3/19/2020</td>\n",
              "      <td>1/20/2017</td>\n",
              "      <td>1/22/2017</td>\n",
              "      <td>Gallup</td>\n",
              "      <td>B</td>\n",
              "      <td>1500.0</td>\n",
              "      <td>a</td>\n",
              "      <td>0.241682</td>\n",
              "      <td>0.0</td>\n",
              "      <td>45.0</td>\n",
              "      <td>45.0</td>\n",
              "      <td>45.725344</td>\n",
              "      <td>43.596084</td>\n",
              "      <td>NaN</td>\n",
              "      <td>T</td>\n",
              "      <td>http://www.gallup.com/poll/201617/gallup-daily...</td>\n",
              "      <td>49253</td>\n",
              "      <td>77265</td>\n",
              "      <td>1/23/2017</td>\n",
              "      <td>20:13:21 19 Mar 2020</td>\n",
              "    </tr>\n",
              "    <tr>\n",
              "      <th>1</th>\n",
              "      <td>Donald Trump</td>\n",
              "      <td>All polls</td>\n",
              "      <td>3/19/2020</td>\n",
              "      <td>1/20/2017</td>\n",
              "      <td>1/22/2017</td>\n",
              "      <td>Morning Consult</td>\n",
              "      <td>B/C</td>\n",
              "      <td>1992.0</td>\n",
              "      <td>rv</td>\n",
              "      <td>0.696984</td>\n",
              "      <td>0.0</td>\n",
              "      <td>46.0</td>\n",
              "      <td>37.0</td>\n",
              "      <td>44.733308</td>\n",
              "      <td>38.303600</td>\n",
              "      <td>NaN</td>\n",
              "      <td>NaN</td>\n",
              "      <td>http://static.politico.com/9b/13/82a3baf542ae9...</td>\n",
              "      <td>49249</td>\n",
              "      <td>77261</td>\n",
              "      <td>1/23/2017</td>\n",
              "      <td>20:13:21 19 Mar 2020</td>\n",
              "    </tr>\n",
              "    <tr>\n",
              "      <th>2</th>\n",
              "      <td>Donald Trump</td>\n",
              "      <td>All polls</td>\n",
              "      <td>3/19/2020</td>\n",
              "      <td>1/21/2017</td>\n",
              "      <td>1/23/2017</td>\n",
              "      <td>Gallup</td>\n",
              "      <td>B</td>\n",
              "      <td>1500.0</td>\n",
              "      <td>a</td>\n",
              "      <td>0.223234</td>\n",
              "      <td>0.0</td>\n",
              "      <td>45.0</td>\n",
              "      <td>46.0</td>\n",
              "      <td>45.725344</td>\n",
              "      <td>44.596084</td>\n",
              "      <td>NaN</td>\n",
              "      <td>T</td>\n",
              "      <td>http://www.gallup.com/poll/201617/gallup-daily...</td>\n",
              "      <td>49262</td>\n",
              "      <td>77274</td>\n",
              "      <td>1/24/2017</td>\n",
              "      <td>20:13:21 19 Mar 2020</td>\n",
              "    </tr>\n",
              "    <tr>\n",
              "      <th>3</th>\n",
              "      <td>Donald Trump</td>\n",
              "      <td>All polls</td>\n",
              "      <td>3/19/2020</td>\n",
              "      <td>1/20/2017</td>\n",
              "      <td>1/24/2017</td>\n",
              "      <td>Ipsos</td>\n",
              "      <td>B-</td>\n",
              "      <td>1632.0</td>\n",
              "      <td>a</td>\n",
              "      <td>0.150785</td>\n",
              "      <td>0.0</td>\n",
              "      <td>42.1</td>\n",
              "      <td>45.2</td>\n",
              "      <td>42.910255</td>\n",
              "      <td>44.036629</td>\n",
              "      <td>NaN</td>\n",
              "      <td>T</td>\n",
              "      <td>http://polling.reuters.com/#poll/CP3_2/</td>\n",
              "      <td>49426</td>\n",
              "      <td>77599</td>\n",
              "      <td>3/1/2017</td>\n",
              "      <td>20:13:21 19 Mar 2020</td>\n",
              "    </tr>\n",
              "    <tr>\n",
              "      <th>4</th>\n",
              "      <td>Donald Trump</td>\n",
              "      <td>All polls</td>\n",
              "      <td>3/19/2020</td>\n",
              "      <td>1/22/2017</td>\n",
              "      <td>1/24/2017</td>\n",
              "      <td>Rasmussen Reports/Pulse Opinion Research</td>\n",
              "      <td>C+</td>\n",
              "      <td>1500.0</td>\n",
              "      <td>lv</td>\n",
              "      <td>0.200335</td>\n",
              "      <td>0.0</td>\n",
              "      <td>57.0</td>\n",
              "      <td>43.0</td>\n",
              "      <td>51.202481</td>\n",
              "      <td>44.632434</td>\n",
              "      <td>NaN</td>\n",
              "      <td>T</td>\n",
              "      <td>http://www.rasmussenreports.com/public_content...</td>\n",
              "      <td>49266</td>\n",
              "      <td>77278</td>\n",
              "      <td>1/25/2017</td>\n",
              "      <td>20:13:21 19 Mar 2020</td>\n",
              "    </tr>\n",
              "  </tbody>\n",
              "</table>\n",
              "</div>"
            ],
            "text/plain": [
              "      president   subgroup  ... createddate             timestamp\n",
              "0  Donald Trump  All polls  ...   1/23/2017  20:13:21 19 Mar 2020\n",
              "1  Donald Trump  All polls  ...   1/23/2017  20:13:21 19 Mar 2020\n",
              "2  Donald Trump  All polls  ...   1/24/2017  20:13:21 19 Mar 2020\n",
              "3  Donald Trump  All polls  ...    3/1/2017  20:13:21 19 Mar 2020\n",
              "4  Donald Trump  All polls  ...   1/25/2017  20:13:21 19 Mar 2020\n",
              "\n",
              "[5 rows x 22 columns]"
            ]
          },
          "metadata": {
            "tags": []
          },
          "execution_count": 11
        }
      ]
    },
    {
      "cell_type": "code",
      "metadata": {
        "id": "5lwFJYPpn1iv",
        "colab_type": "code",
        "colab": {}
      },
      "source": [
        ""
      ],
      "execution_count": 0,
      "outputs": []
    },
    {
      "cell_type": "code",
      "metadata": {
        "id": "wyklABsDn1lz",
        "colab_type": "code",
        "colab": {}
      },
      "source": [
        ""
      ],
      "execution_count": 0,
      "outputs": []
    },
    {
      "cell_type": "code",
      "metadata": {
        "id": "HV9w0zPIn1oe",
        "colab_type": "code",
        "colab": {}
      },
      "source": [
        ""
      ],
      "execution_count": 0,
      "outputs": []
    },
    {
      "cell_type": "code",
      "metadata": {
        "id": "RpJb-M8wn1rc",
        "colab_type": "code",
        "colab": {}
      },
      "source": [
        ""
      ],
      "execution_count": 0,
      "outputs": []
    },
    {
      "cell_type": "code",
      "metadata": {
        "id": "I1czx9Jmn1uU",
        "colab_type": "code",
        "colab": {}
      },
      "source": [
        ""
      ],
      "execution_count": 0,
      "outputs": []
    },
    {
      "cell_type": "markdown",
      "metadata": {
        "id": "0wSrBzmJyWaV",
        "colab_type": "text"
      },
      "source": [
        "# STRETCH OPTIONS\n",
        "\n",
        "### 1) Reproduce one of the following using the matplotlib or seaborn libraries:\n",
        "\n",
        "- [thanksgiving-2015](https://fivethirtyeight.com/features/heres-what-your-part-of-america-eats-on-thanksgiving/) \n",
        "- [candy-power-ranking](https://fivethirtyeight.com/features/the-ultimate-halloween-candy-power-ranking/) \n",
        "- or another example of your choice!\n",
        "\n",
        "### 2) Make more charts!\n",
        "\n",
        "Choose a chart you want to make, from [Visual Vocabulary - Vega Edition](http://ft.com/vocabulary).\n",
        "\n",
        "Find the chart in an example gallery of a Python data visualization library:\n",
        "- [Seaborn](http://seaborn.pydata.org/examples/index.html)\n",
        "- [Altair](https://altair-viz.github.io/gallery/index.html)\n",
        "- [Matplotlib](https://matplotlib.org/gallery.html)\n",
        "- [Pandas](https://pandas.pydata.org/pandas-docs/stable/visualization.html)\n",
        "\n",
        "Reproduce the chart. [Optionally, try the \"Ben Franklin Method.\"](https://docs.google.com/document/d/1ubOw9B3Hfip27hF2ZFnW3a3z9xAgrUDRReOEo-FHCVs/edit) If you want, experiment and make changes.\n",
        "\n",
        "Take notes. Consider sharing your work with your cohort!"
      ]
    },
    {
      "cell_type": "code",
      "metadata": {
        "id": "dRJkKftiy5BJ",
        "colab_type": "code",
        "colab": {}
      },
      "source": [
        "# More Work Here"
      ],
      "execution_count": 0,
      "outputs": []
    }
  ]
}