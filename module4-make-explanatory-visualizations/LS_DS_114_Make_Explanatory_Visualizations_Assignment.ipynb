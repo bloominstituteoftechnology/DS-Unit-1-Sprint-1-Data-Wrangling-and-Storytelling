{
  "nbformat": 4,
  "nbformat_minor": 0,
  "metadata": {
    "colab": {
      "name": "LS_DS_114_Make_Explanatory_Visualizations_Assignment.ipynb",
      "provenance": [],
      "collapsed_sections": []
    },
    "language_info": {
      "codemirror_mode": {
        "name": "ipython",
        "version": 3
      },
      "file_extension": ".py",
      "mimetype": "text/x-python",
      "name": "python",
      "nbconvert_exporter": "python",
      "pygments_lexer": "ipython3",
      "version": "3.7.1"
    },
    "kernelspec": {
      "display_name": "Python 3",
      "language": "python",
      "name": "python3"
    }
  },
  "cells": [
    {
      "cell_type": "markdown",
      "metadata": {
        "colab_type": "text",
        "id": "NMEswXWh9mqw"
      },
      "source": [
        "Lambda School Data Science\n",
        "\n",
        "*Unit 1, Sprint 1, Module 4*\n",
        "\n",
        "---\n",
        "\n",
        "### ASSIGNMENT\n",
        "\n",
        "**Replicate the lesson code.**"
      ]
    },
    {
      "cell_type": "code",
      "metadata": {
        "id": "DMA_JFaM2w_f",
        "colab_type": "code",
        "colab": {}
      },
      "source": [
        "%matplotlib inline\n",
        "import matplotlib.pyplot as plt\n",
        "import numpy as np\n",
        "import pandas as pd\n",
        "\n",
        "fake = pd.Series([38, 3, 2, 1, 2, 4, 6, 5, 5, 33], \n",
        "                 index=range(1,11))"
      ],
      "execution_count": 0,
      "outputs": []
    },
    {
      "cell_type": "code",
      "metadata": {
        "id": "W6MtfpPV3cGc",
        "colab_type": "code",
        "colab": {}
      },
      "source": [
        "# SET STYLESHEET\n",
        "plt.style.use('fivethirtyeight')\n",
        "\n",
        "# FIGURE AXES SYNTAX\n",
        "fig, ax = plt.subplots()\n",
        "\n",
        "# plot 'fake' data\n",
        "fake.plot.bar(width=0.9, color='#ED713A')\n",
        "\n",
        "# Set background color to white\n",
        "fig.patch.set(facecolor='white')\n",
        "\n",
        "# set axes backgound color\n",
        "ax.set(facecolor='white')\n",
        "\n",
        "# set title/subtitle\n",
        "ax.set_title(\"'An Inconvenient Sequel: truth To Power' is divisive\", \n",
        "             fontsize=12, fontweight='bold', x=0.35, y=1.1)\n",
        "ax.text(s='IMDb ratings for the film as of Aug. 29', y=42.5, x=-1.8, \n",
        "        fontsize=10)\n",
        "\n",
        "# set x/y labels\n",
        "ax.set_xlabel('Rating', fontsize=9, fontweight='bold')\n",
        "ax.set_ylabel('Percent of total votes', fontsize=9, fontweight='bold')\n",
        "\n",
        "# set axes ticks/grid\n",
        "ax.set_yticklabels(['0', '10', '20', '30', '40%'], fontsize=10, \n",
        "                   color='grey')\n",
        "ax.set_yticks(range(0,50,10))\n",
        "ax.set_xticklabels(range(1,11,1), rotation='horizontal', fontsize=10,\n",
        "                   color='grey')\n",
        "\n",
        "# extends tick marks\n",
        "ax.tick_params(length=10, color='grey')\n",
        "fig.show()"
      ],
      "execution_count": 0,
      "outputs": []
    },
    {
      "cell_type": "code",
      "metadata": {
        "id": "qqd9d4Ly7eHm",
        "colab_type": "code",
        "colab": {}
      },
      "source": [
        "# READ IN DATA\n",
        "inconvenient = pd.read_csv('https://raw.githubusercontent.com/fivethirtyeight/data/master/inconvenient-sequel/ratings.csv')"
      ],
      "execution_count": 0,
      "outputs": []
    },
    {
      "cell_type": "code",
      "metadata": {
        "id": "y_ptr_mfAqOk",
        "colab_type": "code",
        "colab": {}
      },
      "source": [
        "# GENERATE FINAL DATA\n",
        "last = inconvenient.tail(1)\n",
        "final = last[[col for col in inconvenient if col.endswith('_pct')]].T\n",
        "final.index = range(1,11)\n",
        "final.columns = ['percent']"
      ],
      "execution_count": 0,
      "outputs": []
    },
    {
      "cell_type": "code",
      "metadata": {
        "id": "4BU3apLJDmpO",
        "colab_type": "code",
        "colab": {}
      },
      "source": [
        "# SET STYLESHEET\n",
        "plt.style.use('fivethirtyeight')\n",
        "\n",
        "# FIGURE AXES SYNTAX\n",
        "fig, ax = plt.subplots()\n",
        "\n",
        "# Set background color to white\n",
        "fig.patch.set(facecolor='white')\n",
        "\n",
        "# plot 'final' data\n",
        "ax.bar(x=range(1,11), height=final['percent'], width=0.9, color='#ED713A')\n",
        "\n",
        "# set axes backgound color\n",
        "ax.set(facecolor='white')\n",
        "\n",
        "# set title/subtitle\n",
        "ax.set_title(\"'An Inconvenient Sequel: truth To Power' is divisive\", \n",
        "             fontsize=12, fontweight='bold', x=0.35, y=1.1)\n",
        "ax.text(s='IMDb ratings for the film as of Aug. 29', y=42.5, x=-1, \n",
        "        fontsize=10)\n",
        "\n",
        "# set x/y labels\n",
        "ax.set_xlabel('Rating', fontsize=9, fontweight='bold')\n",
        "ax.set_ylabel('Percent of total votes', fontsize=9, fontweight='bold')\n",
        "\n",
        "# set axes ticks/grid\n",
        "ax.set_yticklabels(['0', '10', '20', '30', '40%'], fontsize=10, \n",
        "                   color='grey')\n",
        "ax.set_yticks(range(0,50,10))\n",
        "ax.set_xticklabels(range(1,11,1), rotation='horizontal', fontsize=10,\n",
        "                   color='grey')\n",
        "ax.set_xticks(range(1,11))\n",
        "ax.tick_params(length=10, color='grey')\n",
        "\n",
        "# extends tick marks\n",
        "fig.show()\n",
        "\n",
        "# change font\n",
        "\n",
        "# add line\n",
        "\n",
        "# add footer text\n",
        "\n",
        "# remove outside grey border"
      ],
      "execution_count": 0,
      "outputs": []
    },
    {
      "cell_type": "code",
      "metadata": {
        "id": "7SY1ZHawyZvz",
        "colab_type": "code",
        "colab": {}
      },
      "source": [
        "from IPython.display import display, Image\n",
        "url = 'https://fivethirtyeight.com/wp-content/uploads/2017/09/mehtahickey-inconvenient-0830-1.png'\n",
        "example = Image(url=url, width=400)\n",
        "display(example)"
      ],
      "execution_count": 0,
      "outputs": []
    },
    {
      "cell_type": "markdown",
      "metadata": {
        "id": "sWXOMo8rGio9",
        "colab_type": "text"
      },
      "source": [
        "### 2) Reproduce another example from [FiveThityEight's shared data repository](https://data.fivethirtyeight.com/).\n",
        "\n",
        "**WARNING**: There are a lot of very custom graphs and tables at the above link. I **highly** recommend not trying to reproduce any that look like a table of values or something really different from the graph types that we are already familiar with. Search through the posts until you find a graph type that you are more or less familiar with: histogram, bar chart, stacked bar chart, line chart, [seaborn relplot](https://seaborn.pydata.org/generated/seaborn.relplot.html), etc. Recreating some of the graphics that 538 uses would be a lot easier in Adobe photoshop/illustrator than with matplotlib. \n",
        "\n",
        "- If you put in some time to find a graph that looks \"easy\" to replicate you'll probably find that it's not as easy as you thought. \n",
        "\n",
        "- If you start with a graph that looks hard to replicate you'll probably run up against a brick wall and be disappointed with your afternoon.\n"
      ]
    },
    {
      "cell_type": "markdown",
      "metadata": {
        "id": "0wSrBzmJyWaV",
        "colab_type": "text"
      },
      "source": [
        "# STRETCH OPTIONS\n",
        "\n",
        "### 1) Reproduce one of the following using the matplotlib or seaborn libraries:\n",
        "\n",
        "- [thanksgiving-2015](https://fivethirtyeight.com/features/heres-what-your-part-of-america-eats-on-thanksgiving/) \n",
        "- [candy-power-ranking](https://fivethirtyeight.com/features/the-ultimate-halloween-candy-power-ranking/) \n",
        "- or another example of your choice!\n",
        "\n",
        "### 2) Make more charts!\n",
        "\n",
        "Choose a chart you want to make, from [Visual Vocabulary - Vega Edition](http://ft.com/vocabulary).\n",
        "\n",
        "Find the chart in an example gallery of a Python data visualization library:\n",
        "- [Seaborn](http://seaborn.pydata.org/examples/index.html)\n",
        "- [Altair](https://altair-viz.github.io/gallery/index.html)\n",
        "- [Matplotlib](https://matplotlib.org/gallery.html)\n",
        "- [Pandas](https://pandas.pydata.org/pandas-docs/stable/visualization.html)\n",
        "\n",
        "Reproduce the chart. [Optionally, try the \"Ben Franklin Method.\"](https://docs.google.com/document/d/1ubOw9B3Hfip27hF2ZFnW3a3z9xAgrUDRReOEo-FHCVs/edit) If you want, experiment and make changes.\n",
        "\n",
        "Take notes. Consider sharing your work with your cohort!"
      ]
    },
    {
      "cell_type": "code",
      "metadata": {
        "id": "dRJkKftiy5BJ",
        "colab_type": "code",
        "colab": {}
      },
      "source": [
        "# More Work Here"
      ],
      "execution_count": 0,
      "outputs": []
    }
  ]
}