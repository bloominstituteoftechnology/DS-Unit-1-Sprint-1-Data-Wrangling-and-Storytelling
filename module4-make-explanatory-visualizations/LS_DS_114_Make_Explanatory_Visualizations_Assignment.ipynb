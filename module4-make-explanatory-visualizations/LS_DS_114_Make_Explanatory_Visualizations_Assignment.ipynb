{
  "nbformat": 4,
  "nbformat_minor": 0,
  "metadata": {
    "colab": {
      "name": "Copy of LS_DS_114_Make_Explanatory_Visualizations_Assignment.ipynb",
      "provenance": [],
      "collapsed_sections": [],
      "include_colab_link": true
    },
    "language_info": {
      "codemirror_mode": {
        "name": "ipython",
        "version": 3
      },
      "file_extension": ".py",
      "mimetype": "text/x-python",
      "name": "python",
      "nbconvert_exporter": "python",
      "pygments_lexer": "ipython3",
      "version": "3.7.1"
    },
    "kernelspec": {
      "display_name": "Python 3",
      "language": "python",
      "name": "python3"
    }
  },
  "cells": [
    {
      "cell_type": "markdown",
      "metadata": {
        "id": "view-in-github",
        "colab_type": "text"
      },
      "source": [
        "<a href=\"https://colab.research.google.com/github/karencfisher/DS-Unit-1-Sprint-1-Data-Wrangling-and-Storytelling/blob/master/module4-make-explanatory-visualizations/LS_DS_114_Make_Explanatory_Visualizations_Assignment.ipynb\" target=\"_parent\"><img src=\"https://colab.research.google.com/assets/colab-badge.svg\" alt=\"Open In Colab\"/></a>"
      ]
    },
    {
      "cell_type": "markdown",
      "metadata": {
        "colab_type": "text",
        "id": "NMEswXWh9mqw"
      },
      "source": [
        "Lambda School Data Science\n",
        "\n",
        "*Unit 1, Sprint 1, Module 4*\n",
        "\n",
        "---\n",
        "\n",
        "# ASSIGNMENT\n",
        "\n",
        "### 1) Replicate the lesson code. I recommend that you [do not copy-paste](https://docs.google.com/document/d/1ubOw9B3Hfip27hF2ZFnW3a3z9xAgrUDRReOEo-FHCVs/edit).\n",
        "\n",
        "\n",
        "\n",
        "\n",
        "\n",
        "\n",
        "\n",
        "\n",
        "\n",
        "\n",
        "\n",
        "\n",
        "\n"
      ]
    },
    {
      "cell_type": "code",
      "metadata": {
        "id": "7SY1ZHawyZvz",
        "colab_type": "code",
        "outputId": "4f9a5589-83cf-415a-cbfc-faadf565a4dc",
        "colab": {
          "base_uri": "https://localhost:8080/",
          "height": 221
        }
      },
      "source": [
        "# I want to practice some basic plots, and then the 538 example\n",
        "# I'll reate some random data for plotting to play with in plots. First, line up the usual suspects.\n",
        "import numpy as np\n",
        "import pandas as pd\n",
        "import matplotlib.pyplot as plt\n",
        "\n",
        "# Let's make a random ndarray and turn it into a dataframe. \n",
        "# Random numbers (0, 100), 100 rows, 5 columns.\n",
        "randdata = np.random.rand(100, 5) * 100\n",
        "columns=['Col1', 'COl2', 'Col3', 'Col4', 'Col5']\n",
        "rand_df = pd.DataFrame(randdata, columns=columns)\n",
        "print(rand_df.shape)\n",
        "rand_df.head()\n"
      ],
      "execution_count": 40,
      "outputs": [
        {
          "output_type": "stream",
          "text": [
            "(100, 5)\n"
          ],
          "name": "stdout"
        },
        {
          "output_type": "execute_result",
          "data": {
            "text/html": [
              "<div>\n",
              "<style scoped>\n",
              "    .dataframe tbody tr th:only-of-type {\n",
              "        vertical-align: middle;\n",
              "    }\n",
              "\n",
              "    .dataframe tbody tr th {\n",
              "        vertical-align: top;\n",
              "    }\n",
              "\n",
              "    .dataframe thead th {\n",
              "        text-align: right;\n",
              "    }\n",
              "</style>\n",
              "<table border=\"1\" class=\"dataframe\">\n",
              "  <thead>\n",
              "    <tr style=\"text-align: right;\">\n",
              "      <th></th>\n",
              "      <th>Col1</th>\n",
              "      <th>COl2</th>\n",
              "      <th>Col3</th>\n",
              "      <th>Col4</th>\n",
              "      <th>Col5</th>\n",
              "    </tr>\n",
              "  </thead>\n",
              "  <tbody>\n",
              "    <tr>\n",
              "      <th>0</th>\n",
              "      <td>70.876316</td>\n",
              "      <td>93.598043</td>\n",
              "      <td>76.585216</td>\n",
              "      <td>35.245184</td>\n",
              "      <td>69.131593</td>\n",
              "    </tr>\n",
              "    <tr>\n",
              "      <th>1</th>\n",
              "      <td>39.114997</td>\n",
              "      <td>80.393893</td>\n",
              "      <td>9.235320</td>\n",
              "      <td>47.968048</td>\n",
              "      <td>76.643215</td>\n",
              "    </tr>\n",
              "    <tr>\n",
              "      <th>2</th>\n",
              "      <td>16.478293</td>\n",
              "      <td>73.488988</td>\n",
              "      <td>26.549384</td>\n",
              "      <td>42.442054</td>\n",
              "      <td>96.252734</td>\n",
              "    </tr>\n",
              "    <tr>\n",
              "      <th>3</th>\n",
              "      <td>92.648590</td>\n",
              "      <td>80.436002</td>\n",
              "      <td>50.112353</td>\n",
              "      <td>79.050033</td>\n",
              "      <td>24.804245</td>\n",
              "    </tr>\n",
              "    <tr>\n",
              "      <th>4</th>\n",
              "      <td>31.044467</td>\n",
              "      <td>13.495113</td>\n",
              "      <td>48.014361</td>\n",
              "      <td>56.194304</td>\n",
              "      <td>11.317182</td>\n",
              "    </tr>\n",
              "  </tbody>\n",
              "</table>\n",
              "</div>"
            ],
            "text/plain": [
              "        Col1       COl2       Col3       Col4       Col5\n",
              "0  70.876316  93.598043  76.585216  35.245184  69.131593\n",
              "1  39.114997  80.393893   9.235320  47.968048  76.643215\n",
              "2  16.478293  73.488988  26.549384  42.442054  96.252734\n",
              "3  92.648590  80.436002  50.112353  79.050033  24.804245\n",
              "4  31.044467  13.495113  48.014361  56.194304  11.317182"
            ]
          },
          "metadata": {
            "tags": []
          },
          "execution_count": 40
        }
      ]
    },
    {
      "cell_type": "code",
      "metadata": {
        "id": "GENNiELPMXF9",
        "colab_type": "code",
        "outputId": "52b0bb73-be3c-4a93-fa47-ff41e1e89652",
        "colab": {
          "base_uri": "https://localhost:8080/",
          "height": 476
        }
      },
      "source": [
        "# Let's make it interesting. First add column of integer means (making them integer to simulate \n",
        "# something like a discrete value)\n",
        "rand_df['Mean'] = rand_df.mean(axis=1).apply(lambda x: int(x))\n",
        "\n",
        "# And add a categorical feature to the dataset or two. Start with dividing mean scores into gradations\n",
        "valuebins = [0, 20, 40, 60, 80, 100]\n",
        "valuelabels = ['lowest','lower', 'middle', 'high', 'highest']\n",
        "rand_df['Grade'] = pd.cut(rand_df['Mean'], bins=valuebins, labels=valuelabels)\n",
        "\n",
        "# And if each row is an individual with scores, maybe they like either cats, dogs, reptiles, or none. \n",
        "# We'll assign each one a pet at random. Hope they like their pets (or lack thereof)! ;)\n",
        "pets = np.array(['cat', 'dog', 'reptile', 'none'])\n",
        "rand_df['Pet'] = 'none'\n",
        "rand_df['Pet'] = rand_df['Pet'].apply(lambda x: np.random.choice(pets))\n",
        "\n",
        "print('Grades: \\n', rand_df['Grade'].value_counts().sort_index(), '\\n')\n",
        "print('Pets: \\n', rand_df['Pet'].value_counts().sort_index(), '\\n\\n')\n",
        "rand_df.head()"
      ],
      "execution_count": 41,
      "outputs": [
        {
          "output_type": "stream",
          "text": [
            "Grades: \n",
            " lowest      1\n",
            "lower      23\n",
            "middle     51\n",
            "high       25\n",
            "highest     0\n",
            "Name: Grade, dtype: int64 \n",
            "\n",
            "Pets: \n",
            " cat        20\n",
            "dog        34\n",
            "none       24\n",
            "reptile    22\n",
            "Name: Pet, dtype: int64 \n",
            "\n",
            "\n"
          ],
          "name": "stdout"
        },
        {
          "output_type": "execute_result",
          "data": {
            "text/html": [
              "<div>\n",
              "<style scoped>\n",
              "    .dataframe tbody tr th:only-of-type {\n",
              "        vertical-align: middle;\n",
              "    }\n",
              "\n",
              "    .dataframe tbody tr th {\n",
              "        vertical-align: top;\n",
              "    }\n",
              "\n",
              "    .dataframe thead th {\n",
              "        text-align: right;\n",
              "    }\n",
              "</style>\n",
              "<table border=\"1\" class=\"dataframe\">\n",
              "  <thead>\n",
              "    <tr style=\"text-align: right;\">\n",
              "      <th></th>\n",
              "      <th>Col1</th>\n",
              "      <th>COl2</th>\n",
              "      <th>Col3</th>\n",
              "      <th>Col4</th>\n",
              "      <th>Col5</th>\n",
              "      <th>Mean</th>\n",
              "      <th>Grade</th>\n",
              "      <th>Pet</th>\n",
              "    </tr>\n",
              "  </thead>\n",
              "  <tbody>\n",
              "    <tr>\n",
              "      <th>0</th>\n",
              "      <td>70.876316</td>\n",
              "      <td>93.598043</td>\n",
              "      <td>76.585216</td>\n",
              "      <td>35.245184</td>\n",
              "      <td>69.131593</td>\n",
              "      <td>69</td>\n",
              "      <td>high</td>\n",
              "      <td>reptile</td>\n",
              "    </tr>\n",
              "    <tr>\n",
              "      <th>1</th>\n",
              "      <td>39.114997</td>\n",
              "      <td>80.393893</td>\n",
              "      <td>9.235320</td>\n",
              "      <td>47.968048</td>\n",
              "      <td>76.643215</td>\n",
              "      <td>50</td>\n",
              "      <td>middle</td>\n",
              "      <td>cat</td>\n",
              "    </tr>\n",
              "    <tr>\n",
              "      <th>2</th>\n",
              "      <td>16.478293</td>\n",
              "      <td>73.488988</td>\n",
              "      <td>26.549384</td>\n",
              "      <td>42.442054</td>\n",
              "      <td>96.252734</td>\n",
              "      <td>51</td>\n",
              "      <td>middle</td>\n",
              "      <td>reptile</td>\n",
              "    </tr>\n",
              "    <tr>\n",
              "      <th>3</th>\n",
              "      <td>92.648590</td>\n",
              "      <td>80.436002</td>\n",
              "      <td>50.112353</td>\n",
              "      <td>79.050033</td>\n",
              "      <td>24.804245</td>\n",
              "      <td>65</td>\n",
              "      <td>high</td>\n",
              "      <td>reptile</td>\n",
              "    </tr>\n",
              "    <tr>\n",
              "      <th>4</th>\n",
              "      <td>31.044467</td>\n",
              "      <td>13.495113</td>\n",
              "      <td>48.014361</td>\n",
              "      <td>56.194304</td>\n",
              "      <td>11.317182</td>\n",
              "      <td>32</td>\n",
              "      <td>lower</td>\n",
              "      <td>dog</td>\n",
              "    </tr>\n",
              "  </tbody>\n",
              "</table>\n",
              "</div>"
            ],
            "text/plain": [
              "        Col1       COl2       Col3       Col4       Col5  Mean   Grade      Pet\n",
              "0  70.876316  93.598043  76.585216  35.245184  69.131593    69    high  reptile\n",
              "1  39.114997  80.393893   9.235320  47.968048  76.643215    50  middle      cat\n",
              "2  16.478293  73.488988  26.549384  42.442054  96.252734    51  middle  reptile\n",
              "3  92.648590  80.436002  50.112353  79.050033  24.804245    65    high  reptile\n",
              "4  31.044467  13.495113  48.014361  56.194304  11.317182    32   lower      dog"
            ]
          },
          "metadata": {
            "tags": []
          },
          "execution_count": 41
        }
      ]
    },
    {
      "cell_type": "code",
      "metadata": {
        "id": "0az934A_hcZF",
        "colab_type": "code",
        "outputId": "8332d55f-0aae-49ee-d5b6-d490e7d64213",
        "colab": {
          "base_uri": "https://localhost:8080/",
          "height": 789
        }
      },
      "source": [
        "# Plot categorical values\n",
        "plt.subplot(2,1,1)\n",
        "rand_df['Pet'].value_counts().plot(kind='bar', figsize=(5,8), color='#7dc2db')\n",
        "plt.title('Pets Owned')\n",
        "plt.subplot(2,1,2)\n",
        "rand_df['Grade'].value_counts().sort_index().plot(kind='bar', figsize=(5,8), color='#b27ddb')\n",
        "plt.title('Grades')\n",
        "plt.tight_layout();"
      ],
      "execution_count": 42,
      "outputs": [
        {
          "output_type": "stream",
          "text": [
            "/usr/local/lib/python3.6/dist-packages/pandas/plotting/_matplotlib/tools.py:307: MatplotlibDeprecationWarning: \n",
            "The rowNum attribute was deprecated in Matplotlib 3.2 and will be removed two minor releases later. Use ax.get_subplotspec().rowspan.start instead.\n",
            "  layout[ax.rowNum, ax.colNum] = ax.get_visible()\n",
            "/usr/local/lib/python3.6/dist-packages/pandas/plotting/_matplotlib/tools.py:307: MatplotlibDeprecationWarning: \n",
            "The colNum attribute was deprecated in Matplotlib 3.2 and will be removed two minor releases later. Use ax.get_subplotspec().colspan.start instead.\n",
            "  layout[ax.rowNum, ax.colNum] = ax.get_visible()\n",
            "/usr/local/lib/python3.6/dist-packages/pandas/plotting/_matplotlib/tools.py:313: MatplotlibDeprecationWarning: \n",
            "The rowNum attribute was deprecated in Matplotlib 3.2 and will be removed two minor releases later. Use ax.get_subplotspec().rowspan.start instead.\n",
            "  if not layout[ax.rowNum + 1, ax.colNum]:\n",
            "/usr/local/lib/python3.6/dist-packages/pandas/plotting/_matplotlib/tools.py:313: MatplotlibDeprecationWarning: \n",
            "The colNum attribute was deprecated in Matplotlib 3.2 and will be removed two minor releases later. Use ax.get_subplotspec().colspan.start instead.\n",
            "  if not layout[ax.rowNum + 1, ax.colNum]:\n"
          ],
          "name": "stderr"
        },
        {
          "output_type": "display_data",
          "data": {
            "image/png": "[encoded data removed]",
            "text/plain": [
              "<Figure size 360x576 with 2 Axes>"
            ]
          },
          "metadata": {
            "tags": []
          }
        }
      ]
    },
    {
      "cell_type": "code",
      "metadata": {
        "id": "X1AQ6Bcmm_Bb",
        "colab_type": "code",
        "outputId": "374912f1-9f9e-41b7-c906-ee552742e737",
        "colab": {
          "base_uri": "https://localhost:8080/",
          "height": 248
        }
      },
      "source": [
        "# No! Not a pie chart!\n",
        "pet_colors = ('#b27ddb', '#bf97b5', '#77bf84', '#bf9d77')\n",
        "rand_df['Pet'].value_counts().plot(kind='pie', colors=pet_colors);"
      ],
      "execution_count": 43,
      "outputs": [
        {
          "output_type": "display_data",
          "data": {
            "image/png": "[encoded data removed]",
            "text/plain": [
              "<Figure size 432x288 with 1 Axes>"
            ]
          },
          "metadata": {
            "tags": []
          }
        }
      ]
    },
    {
      "cell_type": "code",
      "metadata": {
        "id": "8d3EMzkzZFo6",
        "colab_type": "code",
        "outputId": "95f726c9-41a4-4681-d424-6009a831891c",
        "colab": {
          "base_uri": "https://localhost:8080/",
          "height": 334
        }
      },
      "source": [
        "# Plot the continuous values, letting all the columns overlayed\n",
        "rand_df.plot(kind='hist', xlim=(0,100), bins=20, alpha=0.5, figsize=(10,5))\n",
        "plt.xlabel('Scores');"
      ],
      "execution_count": 44,
      "outputs": [
        {
          "output_type": "display_data",
          "data": {
            "image/png": "[encoded data removed]",
            "text/plain": [
              "<Figure size 720x360 with 1 Axes>"
            ]
          },
          "metadata": {
            "tags": []
          }
        }
      ]
    },
    {
      "cell_type": "code",
      "metadata": {
        "id": "C6_36T7uadhi",
        "colab_type": "code",
        "outputId": "d8d9bf50-e8bc-4662-a49d-284043807f51",
        "colab": {
          "base_uri": "https://localhost:8080/",
          "height": 336
        }
      },
      "source": [
        "rand_df.plot(kind='density', xlim=(0,100), alpha=0.5, figsize=(10,5))\n",
        "plt.xlabel('Scores');"
      ],
      "execution_count": 45,
      "outputs": [
        {
          "output_type": "display_data",
          "data": {
            "image/png": "[encoded data removed]",
            "text/plain": [
              "<Figure size 720x360 with 1 Axes>"
            ]
          },
          "metadata": {
            "tags": []
          }
        }
      ]
    },
    {
      "cell_type": "code",
      "metadata": {
        "id": "0gCEjXoIchaK",
        "colab_type": "code",
        "outputId": "28dc6fe9-f6c0-4c52-eacf-8137545db9a1",
        "colab": {
          "base_uri": "https://localhost:8080/",
          "height": 334
        }
      },
      "source": [
        "# Mean scores by pets, Yes, this *is* a serious, deep, and scientific study being conducted here. ;)\n",
        "for pet in pets:\n",
        "  rand_df[rand_df['Pet']==pet]['Mean'].plot(kind='hist', xlim=(0,100), figsize=(10,5), alpha=0.5, label=pet)\n",
        "\n",
        "plt.legend()\n",
        "plt.xlabel('Scores');\n"
      ],
      "execution_count": 46,
      "outputs": [
        {
          "output_type": "display_data",
          "data": {
            "image/png": "[encoded data removed]",
            "text/plain": [
              "<Figure size 720x360 with 1 Axes>"
            ]
          },
          "metadata": {
            "tags": []
          }
        }
      ]
    },
    {
      "cell_type": "code",
      "metadata": {
        "id": "Y4RyYvrke2zK",
        "colab_type": "code",
        "outputId": "49de1444-ff1d-458f-faa5-1cff327cb729",
        "colab": {
          "base_uri": "https://localhost:8080/",
          "height": 334
        }
      },
      "source": [
        "for pet in pets:\n",
        "  rand_df[rand_df['Pet']==pet]['Mean'].plot(kind='density', xlim=(0,100), figsize=(10,5), alpha=0.5, label=pet)\n",
        "\n",
        "plt.legend()\n",
        "plt.xlabel('Scores');"
      ],
      "execution_count": 47,
      "outputs": [
        {
          "output_type": "display_data",
          "data": {
            "image/png": "[encoded data removed]",
            "text/plain": [
              "<Figure size 720x360 with 1 Axes>"
            ]
          },
          "metadata": {
            "tags": []
          }
        }
      ]
    },
    {
      "cell_type": "code",
      "metadata": {
        "id": "ngjIC0dyVDtd",
        "colab_type": "code",
        "outputId": "e0f608de-5714-47d0-f6b5-79d11b64aef9",
        "colab": {
          "base_uri": "https://localhost:8080/",
          "height": 204
        }
      },
      "source": [
        "# And pets crosstabbed with grades.\n",
        "pet_grades = pd.crosstab(rand_df['Grade'], rand_df['Pet'],normalize=True)\n",
        "pet_grades"
      ],
      "execution_count": 48,
      "outputs": [
        {
          "output_type": "execute_result",
          "data": {
            "text/html": [
              "<div>\n",
              "<style scoped>\n",
              "    .dataframe tbody tr th:only-of-type {\n",
              "        vertical-align: middle;\n",
              "    }\n",
              "\n",
              "    .dataframe tbody tr th {\n",
              "        vertical-align: top;\n",
              "    }\n",
              "\n",
              "    .dataframe thead th {\n",
              "        text-align: right;\n",
              "    }\n",
              "</style>\n",
              "<table border=\"1\" class=\"dataframe\">\n",
              "  <thead>\n",
              "    <tr style=\"text-align: right;\">\n",
              "      <th>Pet</th>\n",
              "      <th>cat</th>\n",
              "      <th>dog</th>\n",
              "      <th>none</th>\n",
              "      <th>reptile</th>\n",
              "    </tr>\n",
              "    <tr>\n",
              "      <th>Grade</th>\n",
              "      <th></th>\n",
              "      <th></th>\n",
              "      <th></th>\n",
              "      <th></th>\n",
              "    </tr>\n",
              "  </thead>\n",
              "  <tbody>\n",
              "    <tr>\n",
              "      <th>lowest</th>\n",
              "      <td>0.00</td>\n",
              "      <td>0.01</td>\n",
              "      <td>0.00</td>\n",
              "      <td>0.00</td>\n",
              "    </tr>\n",
              "    <tr>\n",
              "      <th>lower</th>\n",
              "      <td>0.06</td>\n",
              "      <td>0.05</td>\n",
              "      <td>0.03</td>\n",
              "      <td>0.09</td>\n",
              "    </tr>\n",
              "    <tr>\n",
              "      <th>middle</th>\n",
              "      <td>0.11</td>\n",
              "      <td>0.19</td>\n",
              "      <td>0.16</td>\n",
              "      <td>0.05</td>\n",
              "    </tr>\n",
              "    <tr>\n",
              "      <th>high</th>\n",
              "      <td>0.03</td>\n",
              "      <td>0.09</td>\n",
              "      <td>0.05</td>\n",
              "      <td>0.08</td>\n",
              "    </tr>\n",
              "  </tbody>\n",
              "</table>\n",
              "</div>"
            ],
            "text/plain": [
              "Pet      cat   dog  none  reptile\n",
              "Grade                            \n",
              "lowest  0.00  0.01  0.00     0.00\n",
              "lower   0.06  0.05  0.03     0.09\n",
              "middle  0.11  0.19  0.16     0.05\n",
              "high    0.03  0.09  0.05     0.08"
            ]
          },
          "metadata": {
            "tags": []
          },
          "execution_count": 48
        }
      ]
    },
    {
      "cell_type": "code",
      "metadata": {
        "id": "kdAvdhABgs_i",
        "colab_type": "code",
        "outputId": "cfe820d4-3a4b-4e5d-8408-48b29311804c",
        "colab": {
          "base_uri": "https://localhost:8080/",
          "height": 304
        }
      },
      "source": [
        "pet_grades.plot(kind='bar', color=pet_colors);"
      ],
      "execution_count": 49,
      "outputs": [
        {
          "output_type": "display_data",
          "data": {
            "image/png": "[encoded data removed]",
            "text/plain": [
              "<Figure size 432x288 with 1 Axes>"
            ]
          },
          "metadata": {
            "tags": []
          }
        }
      ]
    },
    {
      "cell_type": "markdown",
      "metadata": {
        "id": "oQkKFSkpYvxW",
        "colab_type": "text"
      },
      "source": [
        "Get caught up to where we got our example in class and then try and take things further. How close to \"pixel perfect\" can you make the lecture graph?\n",
        "\n",
        "Once you have something that you're proud of, share your graph in the cohort channel and move on to the second exercise."
      ]
    },
    {
      "cell_type": "code",
      "metadata": {
        "id": "78XCBbhtfcwn",
        "colab_type": "code",
        "colab": {
          "base_uri": "https://localhost:8080/",
          "height": 355
        },
        "outputId": "9fb9b818-2af0-4e19-ca1a-5189e32ff6bc"
      },
      "source": [
        "# On to the 538 example, load example and data\n",
        "from IPython.display import display, Image\n",
        "\n",
        "url = 'https://fivethirtyeight.com/wp-content/uploads/2017/09/mehtahickey-inconvenient-0830-1.png'\n",
        "example = Image(url=url, width=400)\n",
        "\n",
        "display(example)\n"
      ],
      "execution_count": 50,
      "outputs": [
        {
          "output_type": "display_data",
          "data": {
            "text/html": [
              "<img src=\"https://fivethirtyeight.com/wp-content/uploads/2017/09/mehtahickey-inconvenient-0830-1.png\" width=\"400\"/>"
            ],
            "text/plain": [
              "<IPython.core.display.Image object>"
            ]
          },
          "metadata": {
            "tags": []
          }
        }
      ]
    },
    {
      "cell_type": "code",
      "metadata": {
        "id": "wQ39xjLZziey",
        "colab_type": "code",
        "colab": {
          "base_uri": "https://localhost:8080/",
          "height": 309
        },
        "outputId": "cf7d0404-b571-4a75-c05d-c12ce838153d"
      },
      "source": [
        "# read the data from 538's github repo\n",
        "reviews_df = pd.read_csv('https://raw.githubusercontent.com/fivethirtyeight/data/master/inconvenient-sequel/ratings.csv')\n",
        "reviews_df.head()"
      ],
      "execution_count": 51,
      "outputs": [
        {
          "output_type": "execute_result",
          "data": {
            "text/html": [
              "<div>\n",
              "<style scoped>\n",
              "    .dataframe tbody tr th:only-of-type {\n",
              "        vertical-align: middle;\n",
              "    }\n",
              "\n",
              "    .dataframe tbody tr th {\n",
              "        vertical-align: top;\n",
              "    }\n",
              "\n",
              "    .dataframe thead th {\n",
              "        text-align: right;\n",
              "    }\n",
              "</style>\n",
              "<table border=\"1\" class=\"dataframe\">\n",
              "  <thead>\n",
              "    <tr style=\"text-align: right;\">\n",
              "      <th></th>\n",
              "      <th>timestamp</th>\n",
              "      <th>respondents</th>\n",
              "      <th>category</th>\n",
              "      <th>link</th>\n",
              "      <th>average</th>\n",
              "      <th>mean</th>\n",
              "      <th>median</th>\n",
              "      <th>1_votes</th>\n",
              "      <th>2_votes</th>\n",
              "      <th>3_votes</th>\n",
              "      <th>4_votes</th>\n",
              "      <th>5_votes</th>\n",
              "      <th>6_votes</th>\n",
              "      <th>7_votes</th>\n",
              "      <th>8_votes</th>\n",
              "      <th>9_votes</th>\n",
              "      <th>10_votes</th>\n",
              "      <th>1_pct</th>\n",
              "      <th>2_pct</th>\n",
              "      <th>3_pct</th>\n",
              "      <th>4_pct</th>\n",
              "      <th>5_pct</th>\n",
              "      <th>6_pct</th>\n",
              "      <th>7_pct</th>\n",
              "      <th>8_pct</th>\n",
              "      <th>9_pct</th>\n",
              "      <th>10_pct</th>\n",
              "    </tr>\n",
              "  </thead>\n",
              "  <tbody>\n",
              "    <tr>\n",
              "      <th>0</th>\n",
              "      <td>2017-07-17 12:28:32.785639</td>\n",
              "      <td>402</td>\n",
              "      <td>Males</td>\n",
              "      <td>http://www.imdb.com/title/tt6322922/ratings-male</td>\n",
              "      <td>4.6</td>\n",
              "      <td>5.0</td>\n",
              "      <td>2</td>\n",
              "      <td>197</td>\n",
              "      <td>7</td>\n",
              "      <td>7</td>\n",
              "      <td>3</td>\n",
              "      <td>7</td>\n",
              "      <td>7</td>\n",
              "      <td>11</td>\n",
              "      <td>8</td>\n",
              "      <td>20</td>\n",
              "      <td>135</td>\n",
              "      <td>49.0</td>\n",
              "      <td>1.7</td>\n",
              "      <td>1.7</td>\n",
              "      <td>0.7</td>\n",
              "      <td>1.7</td>\n",
              "      <td>1.7</td>\n",
              "      <td>2.7</td>\n",
              "      <td>2.0</td>\n",
              "      <td>5.0</td>\n",
              "      <td>33.6</td>\n",
              "    </tr>\n",
              "    <tr>\n",
              "      <th>1</th>\n",
              "      <td>2017-07-17 12:28:33.025600</td>\n",
              "      <td>78</td>\n",
              "      <td>Females</td>\n",
              "      <td>http://www.imdb.com/title/tt6322922/ratings-fe...</td>\n",
              "      <td>6.9</td>\n",
              "      <td>7.7</td>\n",
              "      <td>10</td>\n",
              "      <td>16</td>\n",
              "      <td>1</td>\n",
              "      <td>0</td>\n",
              "      <td>1</td>\n",
              "      <td>1</td>\n",
              "      <td>0</td>\n",
              "      <td>3</td>\n",
              "      <td>4</td>\n",
              "      <td>3</td>\n",
              "      <td>49</td>\n",
              "      <td>20.5</td>\n",
              "      <td>1.3</td>\n",
              "      <td>0.0</td>\n",
              "      <td>1.3</td>\n",
              "      <td>1.3</td>\n",
              "      <td>0.0</td>\n",
              "      <td>3.8</td>\n",
              "      <td>5.1</td>\n",
              "      <td>3.8</td>\n",
              "      <td>62.8</td>\n",
              "    </tr>\n",
              "    <tr>\n",
              "      <th>2</th>\n",
              "      <td>2017-07-17 12:28:33.273919</td>\n",
              "      <td>4</td>\n",
              "      <td>Aged under 18</td>\n",
              "      <td>http://www.imdb.com/title/tt6322922/ratings-age_1</td>\n",
              "      <td>4.2</td>\n",
              "      <td>4.2</td>\n",
              "      <td>3</td>\n",
              "      <td>2</td>\n",
              "      <td>0</td>\n",
              "      <td>0</td>\n",
              "      <td>0</td>\n",
              "      <td>1</td>\n",
              "      <td>0</td>\n",
              "      <td>0</td>\n",
              "      <td>0</td>\n",
              "      <td>0</td>\n",
              "      <td>1</td>\n",
              "      <td>50.0</td>\n",
              "      <td>0.0</td>\n",
              "      <td>0.0</td>\n",
              "      <td>0.0</td>\n",
              "      <td>25.0</td>\n",
              "      <td>0.0</td>\n",
              "      <td>0.0</td>\n",
              "      <td>0.0</td>\n",
              "      <td>0.0</td>\n",
              "      <td>25.0</td>\n",
              "    </tr>\n",
              "    <tr>\n",
              "      <th>3</th>\n",
              "      <td>2017-07-17 12:28:33.495325</td>\n",
              "      <td>4</td>\n",
              "      <td>Males under 18</td>\n",
              "      <td>http://www.imdb.com/title/tt6322922/ratings-ma...</td>\n",
              "      <td>4.2</td>\n",
              "      <td>4.2</td>\n",
              "      <td>3</td>\n",
              "      <td>2</td>\n",
              "      <td>0</td>\n",
              "      <td>0</td>\n",
              "      <td>0</td>\n",
              "      <td>1</td>\n",
              "      <td>0</td>\n",
              "      <td>0</td>\n",
              "      <td>0</td>\n",
              "      <td>0</td>\n",
              "      <td>1</td>\n",
              "      <td>50.0</td>\n",
              "      <td>0.0</td>\n",
              "      <td>0.0</td>\n",
              "      <td>0.0</td>\n",
              "      <td>25.0</td>\n",
              "      <td>0.0</td>\n",
              "      <td>0.0</td>\n",
              "      <td>0.0</td>\n",
              "      <td>0.0</td>\n",
              "      <td>25.0</td>\n",
              "    </tr>\n",
              "    <tr>\n",
              "      <th>4</th>\n",
              "      <td>2017-07-17 12:28:33.722849</td>\n",
              "      <td>130</td>\n",
              "      <td>Aged 18-29</td>\n",
              "      <td>http://www.imdb.com/title/tt6322922/ratings-age_2</td>\n",
              "      <td>6.3</td>\n",
              "      <td>6.5</td>\n",
              "      <td>9</td>\n",
              "      <td>41</td>\n",
              "      <td>0</td>\n",
              "      <td>3</td>\n",
              "      <td>1</td>\n",
              "      <td>2</td>\n",
              "      <td>3</td>\n",
              "      <td>6</td>\n",
              "      <td>4</td>\n",
              "      <td>6</td>\n",
              "      <td>64</td>\n",
              "      <td>31.5</td>\n",
              "      <td>0.0</td>\n",
              "      <td>2.3</td>\n",
              "      <td>0.8</td>\n",
              "      <td>1.5</td>\n",
              "      <td>2.3</td>\n",
              "      <td>4.6</td>\n",
              "      <td>3.1</td>\n",
              "      <td>4.6</td>\n",
              "      <td>49.2</td>\n",
              "    </tr>\n",
              "  </tbody>\n",
              "</table>\n",
              "</div>"
            ],
            "text/plain": [
              "                    timestamp  respondents  ... 9_pct 10_pct\n",
              "0  2017-07-17 12:28:32.785639          402  ...   5.0   33.6\n",
              "1  2017-07-17 12:28:33.025600           78  ...   3.8   62.8\n",
              "2  2017-07-17 12:28:33.273919            4  ...   0.0   25.0\n",
              "3  2017-07-17 12:28:33.495325            4  ...   0.0   25.0\n",
              "4  2017-07-17 12:28:33.722849          130  ...   4.6   49.2\n",
              "\n",
              "[5 rows x 27 columns]"
            ]
          },
          "metadata": {
            "tags": []
          },
          "execution_count": 51
        }
      ]
    },
    {
      "cell_type": "code",
      "metadata": {
        "id": "B21cWX47VDhe",
        "colab_type": "code",
        "colab": {
          "base_uri": "https://localhost:8080/",
          "height": 244
        },
        "outputId": "09dfc5b0-d6fa-4300-e59b-604aef0777c4"
      },
      "source": [
        "#convert timestamps into time date and make into index\n",
        "reviews_df['timestamp'] = pd.to_datetime(reviews_df['timestamp'])\n",
        "reviews_df.set_index('timestamp', inplace=True)\n",
        "reviews_df.head(3)"
      ],
      "execution_count": 52,
      "outputs": [
        {
          "output_type": "execute_result",
          "data": {
            "text/html": [
              "<div>\n",
              "<style scoped>\n",
              "    .dataframe tbody tr th:only-of-type {\n",
              "        vertical-align: middle;\n",
              "    }\n",
              "\n",
              "    .dataframe tbody tr th {\n",
              "        vertical-align: top;\n",
              "    }\n",
              "\n",
              "    .dataframe thead th {\n",
              "        text-align: right;\n",
              "    }\n",
              "</style>\n",
              "<table border=\"1\" class=\"dataframe\">\n",
              "  <thead>\n",
              "    <tr style=\"text-align: right;\">\n",
              "      <th></th>\n",
              "      <th>respondents</th>\n",
              "      <th>category</th>\n",
              "      <th>link</th>\n",
              "      <th>average</th>\n",
              "      <th>mean</th>\n",
              "      <th>median</th>\n",
              "      <th>1_votes</th>\n",
              "      <th>2_votes</th>\n",
              "      <th>3_votes</th>\n",
              "      <th>4_votes</th>\n",
              "      <th>5_votes</th>\n",
              "      <th>6_votes</th>\n",
              "      <th>7_votes</th>\n",
              "      <th>8_votes</th>\n",
              "      <th>9_votes</th>\n",
              "      <th>10_votes</th>\n",
              "      <th>1_pct</th>\n",
              "      <th>2_pct</th>\n",
              "      <th>3_pct</th>\n",
              "      <th>4_pct</th>\n",
              "      <th>5_pct</th>\n",
              "      <th>6_pct</th>\n",
              "      <th>7_pct</th>\n",
              "      <th>8_pct</th>\n",
              "      <th>9_pct</th>\n",
              "      <th>10_pct</th>\n",
              "    </tr>\n",
              "    <tr>\n",
              "      <th>timestamp</th>\n",
              "      <th></th>\n",
              "      <th></th>\n",
              "      <th></th>\n",
              "      <th></th>\n",
              "      <th></th>\n",
              "      <th></th>\n",
              "      <th></th>\n",
              "      <th></th>\n",
              "      <th></th>\n",
              "      <th></th>\n",
              "      <th></th>\n",
              "      <th></th>\n",
              "      <th></th>\n",
              "      <th></th>\n",
              "      <th></th>\n",
              "      <th></th>\n",
              "      <th></th>\n",
              "      <th></th>\n",
              "      <th></th>\n",
              "      <th></th>\n",
              "      <th></th>\n",
              "      <th></th>\n",
              "      <th></th>\n",
              "      <th></th>\n",
              "      <th></th>\n",
              "      <th></th>\n",
              "    </tr>\n",
              "  </thead>\n",
              "  <tbody>\n",
              "    <tr>\n",
              "      <th>2017-07-17 12:28:32.785639</th>\n",
              "      <td>402</td>\n",
              "      <td>Males</td>\n",
              "      <td>http://www.imdb.com/title/tt6322922/ratings-male</td>\n",
              "      <td>4.6</td>\n",
              "      <td>5.0</td>\n",
              "      <td>2</td>\n",
              "      <td>197</td>\n",
              "      <td>7</td>\n",
              "      <td>7</td>\n",
              "      <td>3</td>\n",
              "      <td>7</td>\n",
              "      <td>7</td>\n",
              "      <td>11</td>\n",
              "      <td>8</td>\n",
              "      <td>20</td>\n",
              "      <td>135</td>\n",
              "      <td>49.0</td>\n",
              "      <td>1.7</td>\n",
              "      <td>1.7</td>\n",
              "      <td>0.7</td>\n",
              "      <td>1.7</td>\n",
              "      <td>1.7</td>\n",
              "      <td>2.7</td>\n",
              "      <td>2.0</td>\n",
              "      <td>5.0</td>\n",
              "      <td>33.6</td>\n",
              "    </tr>\n",
              "    <tr>\n",
              "      <th>2017-07-17 12:28:33.025600</th>\n",
              "      <td>78</td>\n",
              "      <td>Females</td>\n",
              "      <td>http://www.imdb.com/title/tt6322922/ratings-fe...</td>\n",
              "      <td>6.9</td>\n",
              "      <td>7.7</td>\n",
              "      <td>10</td>\n",
              "      <td>16</td>\n",
              "      <td>1</td>\n",
              "      <td>0</td>\n",
              "      <td>1</td>\n",
              "      <td>1</td>\n",
              "      <td>0</td>\n",
              "      <td>3</td>\n",
              "      <td>4</td>\n",
              "      <td>3</td>\n",
              "      <td>49</td>\n",
              "      <td>20.5</td>\n",
              "      <td>1.3</td>\n",
              "      <td>0.0</td>\n",
              "      <td>1.3</td>\n",
              "      <td>1.3</td>\n",
              "      <td>0.0</td>\n",
              "      <td>3.8</td>\n",
              "      <td>5.1</td>\n",
              "      <td>3.8</td>\n",
              "      <td>62.8</td>\n",
              "    </tr>\n",
              "    <tr>\n",
              "      <th>2017-07-17 12:28:33.273919</th>\n",
              "      <td>4</td>\n",
              "      <td>Aged under 18</td>\n",
              "      <td>http://www.imdb.com/title/tt6322922/ratings-age_1</td>\n",
              "      <td>4.2</td>\n",
              "      <td>4.2</td>\n",
              "      <td>3</td>\n",
              "      <td>2</td>\n",
              "      <td>0</td>\n",
              "      <td>0</td>\n",
              "      <td>0</td>\n",
              "      <td>1</td>\n",
              "      <td>0</td>\n",
              "      <td>0</td>\n",
              "      <td>0</td>\n",
              "      <td>0</td>\n",
              "      <td>1</td>\n",
              "      <td>50.0</td>\n",
              "      <td>0.0</td>\n",
              "      <td>0.0</td>\n",
              "      <td>0.0</td>\n",
              "      <td>25.0</td>\n",
              "      <td>0.0</td>\n",
              "      <td>0.0</td>\n",
              "      <td>0.0</td>\n",
              "      <td>0.0</td>\n",
              "      <td>25.0</td>\n",
              "    </tr>\n",
              "  </tbody>\n",
              "</table>\n",
              "</div>"
            ],
            "text/plain": [
              "                            respondents       category  ... 9_pct  10_pct\n",
              "timestamp                                               ...              \n",
              "2017-07-17 12:28:32.785639          402          Males  ...   5.0    33.6\n",
              "2017-07-17 12:28:33.025600           78        Females  ...   3.8    62.8\n",
              "2017-07-17 12:28:33.273919            4  Aged under 18  ...   0.0    25.0\n",
              "\n",
              "[3 rows x 26 columns]"
            ]
          },
          "metadata": {
            "tags": []
          },
          "execution_count": 52
        }
      ]
    },
    {
      "cell_type": "code",
      "metadata": {
        "id": "nOQa5-2_VDYa",
        "colab_type": "code",
        "colab": {
          "base_uri": "https://localhost:8080/",
          "height": 244
        },
        "outputId": "2e960eba-a0b7-4bd5-aaa0-6d4e75fbb9b3"
      },
      "source": [
        "#get just rows for the last day\n",
        "lastday = reviews_df['2017-08-29']\n",
        "lastday.head(3)"
      ],
      "execution_count": 53,
      "outputs": [
        {
          "output_type": "execute_result",
          "data": {
            "text/html": [
              "<div>\n",
              "<style scoped>\n",
              "    .dataframe tbody tr th:only-of-type {\n",
              "        vertical-align: middle;\n",
              "    }\n",
              "\n",
              "    .dataframe tbody tr th {\n",
              "        vertical-align: top;\n",
              "    }\n",
              "\n",
              "    .dataframe thead th {\n",
              "        text-align: right;\n",
              "    }\n",
              "</style>\n",
              "<table border=\"1\" class=\"dataframe\">\n",
              "  <thead>\n",
              "    <tr style=\"text-align: right;\">\n",
              "      <th></th>\n",
              "      <th>respondents</th>\n",
              "      <th>category</th>\n",
              "      <th>link</th>\n",
              "      <th>average</th>\n",
              "      <th>mean</th>\n",
              "      <th>median</th>\n",
              "      <th>1_votes</th>\n",
              "      <th>2_votes</th>\n",
              "      <th>3_votes</th>\n",
              "      <th>4_votes</th>\n",
              "      <th>5_votes</th>\n",
              "      <th>6_votes</th>\n",
              "      <th>7_votes</th>\n",
              "      <th>8_votes</th>\n",
              "      <th>9_votes</th>\n",
              "      <th>10_votes</th>\n",
              "      <th>1_pct</th>\n",
              "      <th>2_pct</th>\n",
              "      <th>3_pct</th>\n",
              "      <th>4_pct</th>\n",
              "      <th>5_pct</th>\n",
              "      <th>6_pct</th>\n",
              "      <th>7_pct</th>\n",
              "      <th>8_pct</th>\n",
              "      <th>9_pct</th>\n",
              "      <th>10_pct</th>\n",
              "    </tr>\n",
              "    <tr>\n",
              "      <th>timestamp</th>\n",
              "      <th></th>\n",
              "      <th></th>\n",
              "      <th></th>\n",
              "      <th></th>\n",
              "      <th></th>\n",
              "      <th></th>\n",
              "      <th></th>\n",
              "      <th></th>\n",
              "      <th></th>\n",
              "      <th></th>\n",
              "      <th></th>\n",
              "      <th></th>\n",
              "      <th></th>\n",
              "      <th></th>\n",
              "      <th></th>\n",
              "      <th></th>\n",
              "      <th></th>\n",
              "      <th></th>\n",
              "      <th></th>\n",
              "      <th></th>\n",
              "      <th></th>\n",
              "      <th></th>\n",
              "      <th></th>\n",
              "      <th></th>\n",
              "      <th></th>\n",
              "      <th></th>\n",
              "    </tr>\n",
              "  </thead>\n",
              "  <tbody>\n",
              "    <tr>\n",
              "      <th>2017-08-29 00:00:02.248882</th>\n",
              "      <td>1682</td>\n",
              "      <td>Males</td>\n",
              "      <td>http://www.imdb.com/title/tt6322922/ratings-male</td>\n",
              "      <td>5.3</td>\n",
              "      <td>5.3</td>\n",
              "      <td>6</td>\n",
              "      <td>671</td>\n",
              "      <td>50</td>\n",
              "      <td>29</td>\n",
              "      <td>12</td>\n",
              "      <td>42</td>\n",
              "      <td>79</td>\n",
              "      <td>107</td>\n",
              "      <td>90</td>\n",
              "      <td>83</td>\n",
              "      <td>519</td>\n",
              "      <td>39.9</td>\n",
              "      <td>3.0</td>\n",
              "      <td>1.7</td>\n",
              "      <td>0.7</td>\n",
              "      <td>2.5</td>\n",
              "      <td>4.7</td>\n",
              "      <td>6.4</td>\n",
              "      <td>5.4</td>\n",
              "      <td>4.9</td>\n",
              "      <td>30.9</td>\n",
              "    </tr>\n",
              "    <tr>\n",
              "      <th>2017-08-29 00:00:02.499363</th>\n",
              "      <td>257</td>\n",
              "      <td>Females</td>\n",
              "      <td>http://www.imdb.com/title/tt6322922/ratings-fe...</td>\n",
              "      <td>6.9</td>\n",
              "      <td>7.3</td>\n",
              "      <td>10</td>\n",
              "      <td>53</td>\n",
              "      <td>3</td>\n",
              "      <td>4</td>\n",
              "      <td>4</td>\n",
              "      <td>4</td>\n",
              "      <td>5</td>\n",
              "      <td>14</td>\n",
              "      <td>13</td>\n",
              "      <td>26</td>\n",
              "      <td>131</td>\n",
              "      <td>20.6</td>\n",
              "      <td>1.2</td>\n",
              "      <td>1.6</td>\n",
              "      <td>1.6</td>\n",
              "      <td>1.6</td>\n",
              "      <td>1.9</td>\n",
              "      <td>5.4</td>\n",
              "      <td>5.1</td>\n",
              "      <td>10.1</td>\n",
              "      <td>51.0</td>\n",
              "    </tr>\n",
              "    <tr>\n",
              "      <th>2017-08-29 00:00:02.727204</th>\n",
              "      <td>15</td>\n",
              "      <td>Aged under 18</td>\n",
              "      <td>http://www.imdb.com/title/tt6322922/ratings-age_1</td>\n",
              "      <td>4.5</td>\n",
              "      <td>5.3</td>\n",
              "      <td>5</td>\n",
              "      <td>7</td>\n",
              "      <td>0</td>\n",
              "      <td>0</td>\n",
              "      <td>0</td>\n",
              "      <td>1</td>\n",
              "      <td>0</td>\n",
              "      <td>1</td>\n",
              "      <td>0</td>\n",
              "      <td>0</td>\n",
              "      <td>6</td>\n",
              "      <td>46.7</td>\n",
              "      <td>0.0</td>\n",
              "      <td>0.0</td>\n",
              "      <td>0.0</td>\n",
              "      <td>6.7</td>\n",
              "      <td>0.0</td>\n",
              "      <td>6.7</td>\n",
              "      <td>0.0</td>\n",
              "      <td>0.0</td>\n",
              "      <td>40.0</td>\n",
              "    </tr>\n",
              "  </tbody>\n",
              "</table>\n",
              "</div>"
            ],
            "text/plain": [
              "                            respondents       category  ... 9_pct  10_pct\n",
              "timestamp                                               ...              \n",
              "2017-08-29 00:00:02.248882         1682          Males  ...   4.9    30.9\n",
              "2017-08-29 00:00:02.499363          257        Females  ...  10.1    51.0\n",
              "2017-08-29 00:00:02.727204           15  Aged under 18  ...   0.0    40.0\n",
              "\n",
              "[3 rows x 26 columns]"
            ]
          },
          "metadata": {
            "tags": []
          },
          "execution_count": 53
        }
      ]
    },
    {
      "cell_type": "code",
      "metadata": {
        "id": "LG2tSGJ75ir6",
        "colab_type": "code",
        "colab": {
          "base_uri": "https://localhost:8080/",
          "height": 340
        },
        "outputId": "ac37e915-9531-4ea7-bd70-1cddb7026287"
      },
      "source": [
        "# And filter to just IMDB users\n",
        "lastday_filtered = lastday[lastday['category'] == 'IMDb users']\n",
        "lastday_filtered.head()"
      ],
      "execution_count": 54,
      "outputs": [
        {
          "output_type": "execute_result",
          "data": {
            "text/html": [
              "<div>\n",
              "<style scoped>\n",
              "    .dataframe tbody tr th:only-of-type {\n",
              "        vertical-align: middle;\n",
              "    }\n",
              "\n",
              "    .dataframe tbody tr th {\n",
              "        vertical-align: top;\n",
              "    }\n",
              "\n",
              "    .dataframe thead th {\n",
              "        text-align: right;\n",
              "    }\n",
              "</style>\n",
              "<table border=\"1\" class=\"dataframe\">\n",
              "  <thead>\n",
              "    <tr style=\"text-align: right;\">\n",
              "      <th></th>\n",
              "      <th>respondents</th>\n",
              "      <th>category</th>\n",
              "      <th>link</th>\n",
              "      <th>average</th>\n",
              "      <th>mean</th>\n",
              "      <th>median</th>\n",
              "      <th>1_votes</th>\n",
              "      <th>2_votes</th>\n",
              "      <th>3_votes</th>\n",
              "      <th>4_votes</th>\n",
              "      <th>5_votes</th>\n",
              "      <th>6_votes</th>\n",
              "      <th>7_votes</th>\n",
              "      <th>8_votes</th>\n",
              "      <th>9_votes</th>\n",
              "      <th>10_votes</th>\n",
              "      <th>1_pct</th>\n",
              "      <th>2_pct</th>\n",
              "      <th>3_pct</th>\n",
              "      <th>4_pct</th>\n",
              "      <th>5_pct</th>\n",
              "      <th>6_pct</th>\n",
              "      <th>7_pct</th>\n",
              "      <th>8_pct</th>\n",
              "      <th>9_pct</th>\n",
              "      <th>10_pct</th>\n",
              "    </tr>\n",
              "    <tr>\n",
              "      <th>timestamp</th>\n",
              "      <th></th>\n",
              "      <th></th>\n",
              "      <th></th>\n",
              "      <th></th>\n",
              "      <th></th>\n",
              "      <th></th>\n",
              "      <th></th>\n",
              "      <th></th>\n",
              "      <th></th>\n",
              "      <th></th>\n",
              "      <th></th>\n",
              "      <th></th>\n",
              "      <th></th>\n",
              "      <th></th>\n",
              "      <th></th>\n",
              "      <th></th>\n",
              "      <th></th>\n",
              "      <th></th>\n",
              "      <th></th>\n",
              "      <th></th>\n",
              "      <th></th>\n",
              "      <th></th>\n",
              "      <th></th>\n",
              "      <th></th>\n",
              "      <th></th>\n",
              "      <th></th>\n",
              "    </tr>\n",
              "  </thead>\n",
              "  <tbody>\n",
              "    <tr>\n",
              "      <th>2017-08-29 00:00:06.288486</th>\n",
              "      <td>2646</td>\n",
              "      <td>IMDb users</td>\n",
              "      <td>http://www.imdb.com/title/tt6322922/ratings</td>\n",
              "      <td>5.4</td>\n",
              "      <td>5.6</td>\n",
              "      <td>7</td>\n",
              "      <td>1020</td>\n",
              "      <td>67</td>\n",
              "      <td>39</td>\n",
              "      <td>24</td>\n",
              "      <td>55</td>\n",
              "      <td>107</td>\n",
              "      <td>152</td>\n",
              "      <td>145</td>\n",
              "      <td>144</td>\n",
              "      <td>893</td>\n",
              "      <td>38.5</td>\n",
              "      <td>2.5</td>\n",
              "      <td>1.5</td>\n",
              "      <td>0.9</td>\n",
              "      <td>2.1</td>\n",
              "      <td>4.0</td>\n",
              "      <td>5.7</td>\n",
              "      <td>5.5</td>\n",
              "      <td>5.4</td>\n",
              "      <td>33.7</td>\n",
              "    </tr>\n",
              "    <tr>\n",
              "      <th>2017-08-29 00:10:06.763461</th>\n",
              "      <td>2646</td>\n",
              "      <td>IMDb users</td>\n",
              "      <td>http://www.imdb.com/title/tt6322922/ratings</td>\n",
              "      <td>5.4</td>\n",
              "      <td>5.6</td>\n",
              "      <td>7</td>\n",
              "      <td>1020</td>\n",
              "      <td>67</td>\n",
              "      <td>39</td>\n",
              "      <td>24</td>\n",
              "      <td>55</td>\n",
              "      <td>107</td>\n",
              "      <td>152</td>\n",
              "      <td>145</td>\n",
              "      <td>144</td>\n",
              "      <td>893</td>\n",
              "      <td>38.5</td>\n",
              "      <td>2.5</td>\n",
              "      <td>1.5</td>\n",
              "      <td>0.9</td>\n",
              "      <td>2.1</td>\n",
              "      <td>4.0</td>\n",
              "      <td>5.7</td>\n",
              "      <td>5.5</td>\n",
              "      <td>5.4</td>\n",
              "      <td>33.7</td>\n",
              "    </tr>\n",
              "    <tr>\n",
              "      <th>2017-08-29 00:20:05.745307</th>\n",
              "      <td>2646</td>\n",
              "      <td>IMDb users</td>\n",
              "      <td>http://www.imdb.com/title/tt6322922/ratings</td>\n",
              "      <td>5.4</td>\n",
              "      <td>5.6</td>\n",
              "      <td>7</td>\n",
              "      <td>1020</td>\n",
              "      <td>67</td>\n",
              "      <td>39</td>\n",
              "      <td>24</td>\n",
              "      <td>55</td>\n",
              "      <td>107</td>\n",
              "      <td>152</td>\n",
              "      <td>145</td>\n",
              "      <td>144</td>\n",
              "      <td>893</td>\n",
              "      <td>38.5</td>\n",
              "      <td>2.5</td>\n",
              "      <td>1.5</td>\n",
              "      <td>0.9</td>\n",
              "      <td>2.1</td>\n",
              "      <td>4.0</td>\n",
              "      <td>5.7</td>\n",
              "      <td>5.5</td>\n",
              "      <td>5.4</td>\n",
              "      <td>33.7</td>\n",
              "    </tr>\n",
              "    <tr>\n",
              "      <th>2017-08-29 00:30:05.818552</th>\n",
              "      <td>2646</td>\n",
              "      <td>IMDb users</td>\n",
              "      <td>http://www.imdb.com/title/tt6322922/ratings</td>\n",
              "      <td>5.4</td>\n",
              "      <td>5.6</td>\n",
              "      <td>7</td>\n",
              "      <td>1020</td>\n",
              "      <td>67</td>\n",
              "      <td>39</td>\n",
              "      <td>24</td>\n",
              "      <td>55</td>\n",
              "      <td>107</td>\n",
              "      <td>152</td>\n",
              "      <td>145</td>\n",
              "      <td>144</td>\n",
              "      <td>893</td>\n",
              "      <td>38.5</td>\n",
              "      <td>2.5</td>\n",
              "      <td>1.5</td>\n",
              "      <td>0.9</td>\n",
              "      <td>2.1</td>\n",
              "      <td>4.0</td>\n",
              "      <td>5.7</td>\n",
              "      <td>5.5</td>\n",
              "      <td>5.4</td>\n",
              "      <td>33.7</td>\n",
              "    </tr>\n",
              "    <tr>\n",
              "      <th>2017-08-29 00:40:06.180928</th>\n",
              "      <td>2646</td>\n",
              "      <td>IMDb users</td>\n",
              "      <td>http://www.imdb.com/title/tt6322922/ratings</td>\n",
              "      <td>5.4</td>\n",
              "      <td>5.6</td>\n",
              "      <td>7</td>\n",
              "      <td>1020</td>\n",
              "      <td>67</td>\n",
              "      <td>39</td>\n",
              "      <td>24</td>\n",
              "      <td>55</td>\n",
              "      <td>107</td>\n",
              "      <td>152</td>\n",
              "      <td>145</td>\n",
              "      <td>144</td>\n",
              "      <td>893</td>\n",
              "      <td>38.5</td>\n",
              "      <td>2.5</td>\n",
              "      <td>1.5</td>\n",
              "      <td>0.9</td>\n",
              "      <td>2.1</td>\n",
              "      <td>4.0</td>\n",
              "      <td>5.7</td>\n",
              "      <td>5.5</td>\n",
              "      <td>5.4</td>\n",
              "      <td>33.7</td>\n",
              "    </tr>\n",
              "  </tbody>\n",
              "</table>\n",
              "</div>"
            ],
            "text/plain": [
              "                            respondents    category  ... 9_pct  10_pct\n",
              "timestamp                                            ...              \n",
              "2017-08-29 00:00:06.288486         2646  IMDb users  ...   5.4    33.7\n",
              "2017-08-29 00:10:06.763461         2646  IMDb users  ...   5.4    33.7\n",
              "2017-08-29 00:20:05.745307         2646  IMDb users  ...   5.4    33.7\n",
              "2017-08-29 00:30:05.818552         2646  IMDb users  ...   5.4    33.7\n",
              "2017-08-29 00:40:06.180928         2646  IMDb users  ...   5.4    33.7\n",
              "\n",
              "[5 rows x 26 columns]"
            ]
          },
          "metadata": {
            "tags": []
          },
          "execution_count": 54
        }
      ]
    },
    {
      "cell_type": "code",
      "metadata": {
        "id": "q30EvEJbVDOZ",
        "colab_type": "code",
        "colab": {
          "base_uri": "https://localhost:8080/",
          "height": 359
        },
        "outputId": "60595d9f-abf7-433b-9a69-980cd421f70c"
      },
      "source": [
        "# last row conntains the final results? And just the percentages.\n",
        "final_results = lastday_filtered.tail(1)\n",
        "\n",
        "# I *so* detest repetitive typing of column labels like those. I'll let the computer \n",
        "# do that!\n",
        "cols = []\n",
        "for i in range(1,11):\n",
        "  cols.append(str(i)+'_pct')\n",
        "\n",
        "# And put it into final form\n",
        "final_data = final_results[cols].T\n",
        "final_data.index = range(1,11)\n",
        "final_data.columns = ['percent']\n",
        "final_data"
      ],
      "execution_count": 55,
      "outputs": [
        {
          "output_type": "execute_result",
          "data": {
            "text/html": [
              "<div>\n",
              "<style scoped>\n",
              "    .dataframe tbody tr th:only-of-type {\n",
              "        vertical-align: middle;\n",
              "    }\n",
              "\n",
              "    .dataframe tbody tr th {\n",
              "        vertical-align: top;\n",
              "    }\n",
              "\n",
              "    .dataframe thead th {\n",
              "        text-align: right;\n",
              "    }\n",
              "</style>\n",
              "<table border=\"1\" class=\"dataframe\">\n",
              "  <thead>\n",
              "    <tr style=\"text-align: right;\">\n",
              "      <th></th>\n",
              "      <th>percent</th>\n",
              "    </tr>\n",
              "  </thead>\n",
              "  <tbody>\n",
              "    <tr>\n",
              "      <th>1</th>\n",
              "      <td>38.4</td>\n",
              "    </tr>\n",
              "    <tr>\n",
              "      <th>2</th>\n",
              "      <td>2.6</td>\n",
              "    </tr>\n",
              "    <tr>\n",
              "      <th>3</th>\n",
              "      <td>1.4</td>\n",
              "    </tr>\n",
              "    <tr>\n",
              "      <th>4</th>\n",
              "      <td>0.9</td>\n",
              "    </tr>\n",
              "    <tr>\n",
              "      <th>5</th>\n",
              "      <td>2.1</td>\n",
              "    </tr>\n",
              "    <tr>\n",
              "      <th>6</th>\n",
              "      <td>4.1</td>\n",
              "    </tr>\n",
              "    <tr>\n",
              "      <th>7</th>\n",
              "      <td>5.8</td>\n",
              "    </tr>\n",
              "    <tr>\n",
              "      <th>8</th>\n",
              "      <td>5.5</td>\n",
              "    </tr>\n",
              "    <tr>\n",
              "      <th>9</th>\n",
              "      <td>5.5</td>\n",
              "    </tr>\n",
              "    <tr>\n",
              "      <th>10</th>\n",
              "      <td>33.7</td>\n",
              "    </tr>\n",
              "  </tbody>\n",
              "</table>\n",
              "</div>"
            ],
            "text/plain": [
              "    percent\n",
              "1      38.4\n",
              "2       2.6\n",
              "3       1.4\n",
              "4       0.9\n",
              "5       2.1\n",
              "6       4.1\n",
              "7       5.8\n",
              "8       5.5\n",
              "9       5.5\n",
              "10     33.7"
            ]
          },
          "metadata": {
            "tags": []
          },
          "execution_count": 55
        }
      ]
    },
    {
      "cell_type": "code",
      "metadata": {
        "id": "DCHjzFbbLk8i",
        "colab_type": "code",
        "colab": {
          "base_uri": "https://localhost:8080/",
          "height": 316
        },
        "outputId": "09de10e4-c1a2-48c5-c3b0-e0979885dbb1"
      },
      "source": [
        "from matplotlib import rcParams\n",
        "rcParams['font.family'] = 'sans-serif'\n",
        "\n",
        "fig, ax = plt.subplots()\n",
        "# background color\n",
        "fig.patch.set(facecolor='white')\n",
        "\n",
        "#barchart\n",
        "#set also zorder to move bars to foreground\n",
        "ax.bar(x=range(1,11), height=final_data['percent'], width=0.9, color=\"#e57e51\",\n",
        "       zorder=3)\n",
        "\n",
        "ax.set(facecolor='white')\n",
        "\n",
        "ax.set_title(\"'An Inconvenient Sequel: Truth To Power' is divisive\",\n",
        "             fontsize=12,\n",
        "             x=.35,\n",
        "             y=1.1,\n",
        "             fontweight='bold')\n",
        "ax.text(s=\"IMDb ratings for the film as of Aug. 29\", fontsize=11, x=-1.85, y=42)\n",
        "\n",
        "ax.set_xlabel(\"Rating\", fontsize=9, fontweight='bold')\n",
        "ax.set_ylabel(\"Percent of total votes\", fontsize=9, fontweight='bold')\n",
        "\n",
        "ax.set_xticklabels(range(1,11))\n",
        "ax.set_xticks(range(1,11))\n",
        "ax.set_yticklabels(range(0,50,10))\n",
        "ax.set_yticks(range(0,50, 10))\n",
        "\n",
        "# finessing replication of the originalborderspines none\n",
        "# z order 0 (bars set earlier to 3)\n",
        "ax.grid(color='#e1e1e1', zorder=0)\n",
        "\n",
        "# original had no spines, so we won't either\n",
        "for s in ['bottom', 'top', 'left', 'right']:\n",
        "  ax.spines[s].set_visible(False)\n",
        "\n",
        "ax.tick_params(axis='x', colors='#cfc8c8')\n",
        "ax.tick_params(axis='y', colors='#cfc8c8')\n"
      ],
      "execution_count": 108,
      "outputs": [
        {
          "output_type": "display_data",
          "data": {
            "image/png": "[encoded data removed]",
            "text/plain": [
              "<Figure size 432x288 with 1 Axes>"
            ]
          },
          "metadata": {
            "tags": []
          }
        }
      ]
    },
    {
      "cell_type": "code",
      "metadata": {
        "id": "mjYOoyNoM8Rc",
        "colab_type": "code",
        "colab": {
          "base_uri": "https://localhost:8080/",
          "height": 355
        },
        "outputId": "e2c9e576-d282-4b40-e935-2237405393cb"
      },
      "source": [
        "# For comparison with the original now. DIfferent font though still. \n",
        "display(example)"
      ],
      "execution_count": 80,
      "outputs": [
        {
          "output_type": "display_data",
          "data": {
            "text/html": [
              "<img src=\"https://fivethirtyeight.com/wp-content/uploads/2017/09/mehtahickey-inconvenient-0830-1.png\" width=\"400\"/>"
            ],
            "text/plain": [
              "<IPython.core.display.Image object>"
            ]
          },
          "metadata": {
            "tags": []
          }
        }
      ]
    },
    {
      "cell_type": "code",
      "metadata": {
        "id": "hcZCPPpPVDDV",
        "colab_type": "code",
        "colab": {}
      },
      "source": [
        ""
      ],
      "execution_count": 0,
      "outputs": []
    },
    {
      "cell_type": "code",
      "metadata": {
        "id": "tHZ5R7jrLkhn",
        "colab_type": "code",
        "colab": {}
      },
      "source": [
        ""
      ],
      "execution_count": 0,
      "outputs": []
    },
    {
      "cell_type": "markdown",
      "metadata": {
        "id": "iIrJSW7rJ_5C",
        "colab_type": "text"
      },
      "source": [
        "### 2) Reproduce another example from [FiveThirtyEight's shared data repository](https://data.fivethirtyeight.com/).\n",
        "\n",
        "**WARNING**: There are a lot of very custom graphs and tables at the above link. I **highly** recommend not trying to reproduce any that look like a table of values or something really different from the graph types that we are already familiar with. Search through the posts until you find a graph type that you are more or less familiar with: histogram, bar chart, stacked bar chart, line chart, [seaborn relplot](https://seaborn.pydata.org/generated/seaborn.relplot.html), etc. Recreating some of the graphics that 538 uses would be a lot easier in Adobe photoshop/illustrator than with matplotlib. \n",
        "\n",
        "- If you put in some time to find a graph that looks \"easy\" to replicate you'll probably find that it's not as easy as you thought. \n",
        "\n",
        "- If you start with a graph that looks hard to replicate you'll probably run up against a brick wall and be disappointed with your afternoon.\n"
      ]
    },
    {
      "cell_type": "code",
      "metadata": {
        "id": "2iormTQeKB3S",
        "colab_type": "code",
        "colab": {
          "base_uri": "https://localhost:8080/",
          "height": 204
        },
        "outputId": "66dbda1d-758a-4bcf-82d7-ce3db070dccc"
      },
      "source": [
        "impeach_df = pd.read_csv('impeachment_topline.csv')\n",
        "impeach_df.head()"
      ],
      "execution_count": 275,
      "outputs": [
        {
          "output_type": "execute_result",
          "data": {
            "text/html": [
              "<div>\n",
              "<style scoped>\n",
              "    .dataframe tbody tr th:only-of-type {\n",
              "        vertical-align: middle;\n",
              "    }\n",
              "\n",
              "    .dataframe tbody tr th {\n",
              "        vertical-align: top;\n",
              "    }\n",
              "\n",
              "    .dataframe thead th {\n",
              "        text-align: right;\n",
              "    }\n",
              "</style>\n",
              "<table border=\"1\" class=\"dataframe\">\n",
              "  <thead>\n",
              "    <tr style=\"text-align: right;\">\n",
              "      <th></th>\n",
              "      <th>president</th>\n",
              "      <th>subgroup</th>\n",
              "      <th>party</th>\n",
              "      <th>category_group</th>\n",
              "      <th>modeldate</th>\n",
              "      <th>yes_estimate</th>\n",
              "      <th>no_estimate</th>\n",
              "      <th>timestamp</th>\n",
              "    </tr>\n",
              "  </thead>\n",
              "  <tbody>\n",
              "    <tr>\n",
              "      <th>0</th>\n",
              "      <td>Donald Trump</td>\n",
              "      <td>All polls</td>\n",
              "      <td>ind</td>\n",
              "      <td>begin</td>\n",
              "      <td>2/12/2020</td>\n",
              "      <td>49.454309</td>\n",
              "      <td>41.289879</td>\n",
              "      <td>08:15:52 12 Feb 2020</td>\n",
              "    </tr>\n",
              "    <tr>\n",
              "      <th>1</th>\n",
              "      <td>Donald Trump</td>\n",
              "      <td>All polls</td>\n",
              "      <td>rep</td>\n",
              "      <td>impeach</td>\n",
              "      <td>2/12/2020</td>\n",
              "      <td>12.591837</td>\n",
              "      <td>84.426929</td>\n",
              "      <td>08:16:14 12 Feb 2020</td>\n",
              "    </tr>\n",
              "    <tr>\n",
              "      <th>2</th>\n",
              "      <td>Donald Trump</td>\n",
              "      <td>All polls</td>\n",
              "      <td>all</td>\n",
              "      <td>all</td>\n",
              "      <td>2/12/2020</td>\n",
              "      <td>49.376252</td>\n",
              "      <td>45.621788</td>\n",
              "      <td>08:15:13 12 Feb 2020</td>\n",
              "    </tr>\n",
              "    <tr>\n",
              "      <th>3</th>\n",
              "      <td>Donald Trump</td>\n",
              "      <td>All polls</td>\n",
              "      <td>all</td>\n",
              "      <td>remove</td>\n",
              "      <td>2/12/2020</td>\n",
              "      <td>47.647956</td>\n",
              "      <td>45.773506</td>\n",
              "      <td>08:15:26 12 Feb 2020</td>\n",
              "    </tr>\n",
              "    <tr>\n",
              "      <th>4</th>\n",
              "      <td>Donald Trump</td>\n",
              "      <td>All polls</td>\n",
              "      <td>ind</td>\n",
              "      <td>all</td>\n",
              "      <td>2/12/2020</td>\n",
              "      <td>45.486034</td>\n",
              "      <td>44.477179</td>\n",
              "      <td>08:15:48 12 Feb 2020</td>\n",
              "    </tr>\n",
              "  </tbody>\n",
              "</table>\n",
              "</div>"
            ],
            "text/plain": [
              "      president   subgroup  ... no_estimate             timestamp\n",
              "0  Donald Trump  All polls  ...   41.289879  08:15:52 12 Feb 2020\n",
              "1  Donald Trump  All polls  ...   84.426929  08:16:14 12 Feb 2020\n",
              "2  Donald Trump  All polls  ...   45.621788  08:15:13 12 Feb 2020\n",
              "3  Donald Trump  All polls  ...   45.773506  08:15:26 12 Feb 2020\n",
              "4  Donald Trump  All polls  ...   44.477179  08:15:48 12 Feb 2020\n",
              "\n",
              "[5 rows x 8 columns]"
            ]
          },
          "metadata": {
            "tags": []
          },
          "execution_count": 275
        }
      ]
    },
    {
      "cell_type": "code",
      "metadata": {
        "id": "BdhT_8L9wrqX",
        "colab_type": "code",
        "colab": {
          "base_uri": "https://localhost:8080/",
          "height": 204
        },
        "outputId": "b7f4b81a-ab80-4af3-efa8-0b8ed37b9f41"
      },
      "source": [
        "impeach_df['timestamp'] = pd.to_datetime(impeach_df['timestamp'])\n",
        "\n",
        "impeach_df.head()"
      ],
      "execution_count": 276,
      "outputs": [
        {
          "output_type": "execute_result",
          "data": {
            "text/html": [
              "<div>\n",
              "<style scoped>\n",
              "    .dataframe tbody tr th:only-of-type {\n",
              "        vertical-align: middle;\n",
              "    }\n",
              "\n",
              "    .dataframe tbody tr th {\n",
              "        vertical-align: top;\n",
              "    }\n",
              "\n",
              "    .dataframe thead th {\n",
              "        text-align: right;\n",
              "    }\n",
              "</style>\n",
              "<table border=\"1\" class=\"dataframe\">\n",
              "  <thead>\n",
              "    <tr style=\"text-align: right;\">\n",
              "      <th></th>\n",
              "      <th>president</th>\n",
              "      <th>subgroup</th>\n",
              "      <th>party</th>\n",
              "      <th>category_group</th>\n",
              "      <th>modeldate</th>\n",
              "      <th>yes_estimate</th>\n",
              "      <th>no_estimate</th>\n",
              "      <th>timestamp</th>\n",
              "    </tr>\n",
              "  </thead>\n",
              "  <tbody>\n",
              "    <tr>\n",
              "      <th>0</th>\n",
              "      <td>Donald Trump</td>\n",
              "      <td>All polls</td>\n",
              "      <td>ind</td>\n",
              "      <td>begin</td>\n",
              "      <td>2/12/2020</td>\n",
              "      <td>49.454309</td>\n",
              "      <td>41.289879</td>\n",
              "      <td>2020-02-12 08:15:52</td>\n",
              "    </tr>\n",
              "    <tr>\n",
              "      <th>1</th>\n",
              "      <td>Donald Trump</td>\n",
              "      <td>All polls</td>\n",
              "      <td>rep</td>\n",
              "      <td>impeach</td>\n",
              "      <td>2/12/2020</td>\n",
              "      <td>12.591837</td>\n",
              "      <td>84.426929</td>\n",
              "      <td>2020-02-12 08:16:14</td>\n",
              "    </tr>\n",
              "    <tr>\n",
              "      <th>2</th>\n",
              "      <td>Donald Trump</td>\n",
              "      <td>All polls</td>\n",
              "      <td>all</td>\n",
              "      <td>all</td>\n",
              "      <td>2/12/2020</td>\n",
              "      <td>49.376252</td>\n",
              "      <td>45.621788</td>\n",
              "      <td>2020-02-12 08:15:13</td>\n",
              "    </tr>\n",
              "    <tr>\n",
              "      <th>3</th>\n",
              "      <td>Donald Trump</td>\n",
              "      <td>All polls</td>\n",
              "      <td>all</td>\n",
              "      <td>remove</td>\n",
              "      <td>2/12/2020</td>\n",
              "      <td>47.647956</td>\n",
              "      <td>45.773506</td>\n",
              "      <td>2020-02-12 08:15:26</td>\n",
              "    </tr>\n",
              "    <tr>\n",
              "      <th>4</th>\n",
              "      <td>Donald Trump</td>\n",
              "      <td>All polls</td>\n",
              "      <td>ind</td>\n",
              "      <td>all</td>\n",
              "      <td>2/12/2020</td>\n",
              "      <td>45.486034</td>\n",
              "      <td>44.477179</td>\n",
              "      <td>2020-02-12 08:15:48</td>\n",
              "    </tr>\n",
              "  </tbody>\n",
              "</table>\n",
              "</div>"
            ],
            "text/plain": [
              "      president   subgroup party  ... yes_estimate no_estimate           timestamp\n",
              "0  Donald Trump  All polls   ind  ...    49.454309   41.289879 2020-02-12 08:15:52\n",
              "1  Donald Trump  All polls   rep  ...    12.591837   84.426929 2020-02-12 08:16:14\n",
              "2  Donald Trump  All polls   all  ...    49.376252   45.621788 2020-02-12 08:15:13\n",
              "3  Donald Trump  All polls   all  ...    47.647956   45.773506 2020-02-12 08:15:26\n",
              "4  Donald Trump  All polls   ind  ...    45.486034   44.477179 2020-02-12 08:15:48\n",
              "\n",
              "[5 rows x 8 columns]"
            ]
          },
          "metadata": {
            "tags": []
          },
          "execution_count": 276
        }
      ]
    },
    {
      "cell_type": "code",
      "metadata": {
        "id": "YfQf1ama03EB",
        "colab_type": "code",
        "colab": {
          "base_uri": "https://localhost:8080/",
          "height": 359
        },
        "outputId": "4a48d9a3-11a7-4e23-ec3a-b1d24a58ecb1"
      },
      "source": [
        "# Boil down to essential columns: timestamp, party, category_group, yes_estimate to reproduce first plot in article\n",
        "impeach_df = impeach_df[['timestamp', 'party', 'category_group', 'yes_estimate']]\n",
        "\n",
        "#and to just 'all' for category_group\n",
        "impeach_df = impeach_df[impeach_df['category_group']=='all']\n",
        "\n",
        "#separate month/day from timestamp\n",
        "#impeach_df['date'] = impeach_df['timestamp'].dt.strftime('%m/%d/%y')\n",
        "#impeach_df.set_index('date', inplace=True)\n",
        "impeach_df.drop('category_group', axis=1, inplace=True)\n",
        "\n",
        "\n",
        "impeach_df.head(10)"
      ],
      "execution_count": 277,
      "outputs": [
        {
          "output_type": "execute_result",
          "data": {
            "text/html": [
              "<div>\n",
              "<style scoped>\n",
              "    .dataframe tbody tr th:only-of-type {\n",
              "        vertical-align: middle;\n",
              "    }\n",
              "\n",
              "    .dataframe tbody tr th {\n",
              "        vertical-align: top;\n",
              "    }\n",
              "\n",
              "    .dataframe thead th {\n",
              "        text-align: right;\n",
              "    }\n",
              "</style>\n",
              "<table border=\"1\" class=\"dataframe\">\n",
              "  <thead>\n",
              "    <tr style=\"text-align: right;\">\n",
              "      <th></th>\n",
              "      <th>timestamp</th>\n",
              "      <th>party</th>\n",
              "      <th>yes_estimate</th>\n",
              "    </tr>\n",
              "  </thead>\n",
              "  <tbody>\n",
              "    <tr>\n",
              "      <th>2</th>\n",
              "      <td>2020-02-12 08:15:13</td>\n",
              "      <td>all</td>\n",
              "      <td>49.376252</td>\n",
              "    </tr>\n",
              "    <tr>\n",
              "      <th>4</th>\n",
              "      <td>2020-02-12 08:15:48</td>\n",
              "      <td>ind</td>\n",
              "      <td>45.486034</td>\n",
              "    </tr>\n",
              "    <tr>\n",
              "      <th>10</th>\n",
              "      <td>2020-02-12 08:16:04</td>\n",
              "      <td>rep</td>\n",
              "      <td>12.400982</td>\n",
              "    </tr>\n",
              "    <tr>\n",
              "      <th>12</th>\n",
              "      <td>2020-02-12 08:15:31</td>\n",
              "      <td>dem</td>\n",
              "      <td>84.388276</td>\n",
              "    </tr>\n",
              "    <tr>\n",
              "      <th>16</th>\n",
              "      <td>2020-02-12 08:15:34</td>\n",
              "      <td>dem</td>\n",
              "      <td>84.388276</td>\n",
              "    </tr>\n",
              "    <tr>\n",
              "      <th>23</th>\n",
              "      <td>2020-02-12 08:15:51</td>\n",
              "      <td>ind</td>\n",
              "      <td>45.486034</td>\n",
              "    </tr>\n",
              "    <tr>\n",
              "      <th>28</th>\n",
              "      <td>2020-02-12 08:16:08</td>\n",
              "      <td>rep</td>\n",
              "      <td>12.400982</td>\n",
              "    </tr>\n",
              "    <tr>\n",
              "      <th>29</th>\n",
              "      <td>2020-02-12 08:15:17</td>\n",
              "      <td>all</td>\n",
              "      <td>49.376252</td>\n",
              "    </tr>\n",
              "    <tr>\n",
              "      <th>32</th>\n",
              "      <td>2020-02-10 12:55:54</td>\n",
              "      <td>dem</td>\n",
              "      <td>85.171166</td>\n",
              "    </tr>\n",
              "    <tr>\n",
              "      <th>40</th>\n",
              "      <td>2020-02-10 12:56:37</td>\n",
              "      <td>ind</td>\n",
              "      <td>46.486982</td>\n",
              "    </tr>\n",
              "  </tbody>\n",
              "</table>\n",
              "</div>"
            ],
            "text/plain": [
              "             timestamp party  yes_estimate\n",
              "2  2020-02-12 08:15:13   all     49.376252\n",
              "4  2020-02-12 08:15:48   ind     45.486034\n",
              "10 2020-02-12 08:16:04   rep     12.400982\n",
              "12 2020-02-12 08:15:31   dem     84.388276\n",
              "16 2020-02-12 08:15:34   dem     84.388276\n",
              "23 2020-02-12 08:15:51   ind     45.486034\n",
              "28 2020-02-12 08:16:08   rep     12.400982\n",
              "29 2020-02-12 08:15:17   all     49.376252\n",
              "32 2020-02-10 12:55:54   dem     85.171166\n",
              "40 2020-02-10 12:56:37   ind     46.486982"
            ]
          },
          "metadata": {
            "tags": []
          },
          "execution_count": 277
        }
      ]
    },
    {
      "cell_type": "code",
      "metadata": {
        "id": "jF7TTR6U6YDH",
        "colab_type": "code",
        "colab": {
          "base_uri": "https://localhost:8080/",
          "height": 265
        },
        "outputId": "3abac3f5-523e-4408-a9d6-779d16143cea"
      },
      "source": [
        "#get an aproximation of the plot\n",
        "parties = ['all', 'ind', 'rep', 'dem']\n",
        "for party in parties:\n",
        "  temp = impeach_df[impeach_df['party']==party]\n",
        "  plt.plot(temp['timestamp'], temp['yes_estimate'])\n",
        "plt.show()\n",
        "\n"
      ],
      "execution_count": 278,
      "outputs": [
        {
          "output_type": "display_data",
          "data": {
            "image/png": "[encoded data removed]",
            "text/plain": [
              "<Figure size 432x288 with 1 Axes>"
            ]
          },
          "metadata": {
            "tags": []
          }
        }
      ]
    },
    {
      "cell_type": "code",
      "metadata": {
        "colab_type": "code",
        "outputId": "5b2c6810-a372-4b0f-b2e8-08e773250881",
        "id": "hSVpJsWuPjyK",
        "colab": {
          "base_uri": "https://localhost:8080/",
          "height": 506
        }
      },
      "source": [
        "orig = Image(filename='Capture3.JPG')\n",
        "display(orig)\n"
      ],
      "execution_count": 279,
      "outputs": [
        {
          "output_type": "display_data",
          "data": {
            "image/jpeg": "[encoded data removed]",
            "text/plain": [
              "<IPython.core.display.Image object>"
            ]
          },
          "metadata": {
            "tags": []
          }
        }
      ]
    },
    {
      "cell_type": "code",
      "metadata": {
        "id": "fvXViB1SUB3-",
        "colab_type": "code",
        "colab": {
          "base_uri": "https://localhost:8080/",
          "height": 204
        },
        "outputId": "b1519f28-c939-412b-e0a4-3f03282c8921"
      },
      "source": [
        "# limit to dates in illustration\n",
        "start = pd.to_datetime(\"2019-10-16\")\n",
        "end = pd.to_datetime(\"2020-02-15\")\n",
        "cond = (impeach_df['timestamp'] > start) & (impeach_df['timestamp'] < end)\n",
        "impeach_df = impeach_df[cond]\n",
        "\n",
        "\n",
        "impeach_df.head()"
      ],
      "execution_count": 285,
      "outputs": [
        {
          "output_type": "execute_result",
          "data": {
            "text/html": [
              "<div>\n",
              "<style scoped>\n",
              "    .dataframe tbody tr th:only-of-type {\n",
              "        vertical-align: middle;\n",
              "    }\n",
              "\n",
              "    .dataframe tbody tr th {\n",
              "        vertical-align: top;\n",
              "    }\n",
              "\n",
              "    .dataframe thead th {\n",
              "        text-align: right;\n",
              "    }\n",
              "</style>\n",
              "<table border=\"1\" class=\"dataframe\">\n",
              "  <thead>\n",
              "    <tr style=\"text-align: right;\">\n",
              "      <th></th>\n",
              "      <th>timestamp</th>\n",
              "      <th>party</th>\n",
              "      <th>yes_estimate</th>\n",
              "    </tr>\n",
              "  </thead>\n",
              "  <tbody>\n",
              "    <tr>\n",
              "      <th>2</th>\n",
              "      <td>2020-02-12 08:15:13</td>\n",
              "      <td>all</td>\n",
              "      <td>49.376252</td>\n",
              "    </tr>\n",
              "    <tr>\n",
              "      <th>4</th>\n",
              "      <td>2020-02-12 08:15:48</td>\n",
              "      <td>ind</td>\n",
              "      <td>45.486034</td>\n",
              "    </tr>\n",
              "    <tr>\n",
              "      <th>10</th>\n",
              "      <td>2020-02-12 08:16:04</td>\n",
              "      <td>rep</td>\n",
              "      <td>12.400982</td>\n",
              "    </tr>\n",
              "    <tr>\n",
              "      <th>12</th>\n",
              "      <td>2020-02-12 08:15:31</td>\n",
              "      <td>dem</td>\n",
              "      <td>84.388276</td>\n",
              "    </tr>\n",
              "    <tr>\n",
              "      <th>16</th>\n",
              "      <td>2020-02-12 08:15:34</td>\n",
              "      <td>dem</td>\n",
              "      <td>84.388276</td>\n",
              "    </tr>\n",
              "  </tbody>\n",
              "</table>\n",
              "</div>"
            ],
            "text/plain": [
              "             timestamp party  yes_estimate\n",
              "2  2020-02-12 08:15:13   all     49.376252\n",
              "4  2020-02-12 08:15:48   ind     45.486034\n",
              "10 2020-02-12 08:16:04   rep     12.400982\n",
              "12 2020-02-12 08:15:31   dem     84.388276\n",
              "16 2020-02-12 08:15:34   dem     84.388276"
            ]
          },
          "metadata": {
            "tags": []
          },
          "execution_count": 285
        }
      ]
    },
    {
      "cell_type": "code",
      "metadata": {
        "id": "ObuCjVFLDc-q",
        "colab_type": "code",
        "colab": {
          "base_uri": "https://localhost:8080/",
          "height": 442
        },
        "outputId": "dd386f3d-f2ff-4a3e-8cf1-3866cf28d47a"
      },
      "source": [
        "from matplotlib.dates import DateFormatter\n",
        "import matplotlib.dates as mdates\n",
        "\n",
        "fig, ax = plt.subplots(figsize=(16,6))\n",
        "party_colors = {'all': '#bf803b', 'ind': '#22241f', 'dem': '#3094c5', 'rep': '#db2c17'}\n",
        "for party in parties:\n",
        "  temp = impeach_df[impeach_df['party']==party]\n",
        "  ax.plot(temp['timestamp'], temp['yes_estimate'], color=party_colors[party], linewidth=3 )\n",
        "\n",
        "ax.set_title(\"Do Americans support removing Trump from office?\\n\\n\",\n",
        "             fontsize=20,\n",
        "             horizontalalignment='center',\n",
        "             fontweight='bold')\n",
        "#ax.text(0.2, 0.2, \"An updating calculation of support for removal,overall and by party\", fontsize=5)\n",
        "\n",
        "for s in ['top', 'left', 'right']:\n",
        "  ax.spines[s].set_visible(False)\n",
        "\n",
        "# z order 0 (bars set earlier to 3)\n",
        "ax.grid(color='pink', zorder=0)\n",
        "\n",
        "date_form = DateFormatter('%m/%d')\n",
        "ax.xaxis_date()\n",
        "ax.xaxis.set_major_formatter(date_form)\n",
        "ax.xaxis.set_major_locator(mdates.DayLocator(interval=7))\n",
        "\n",
        "ax.set_yticklabels(range(0, 101, 50))\n",
        "ax.set_yticks(range(0, 101, 50))\n",
        "\n",
        "ax.tick_params(axis='x', colors='#8f8d93', labelsize=12)\n",
        "ax.tick_params(axis='y', colors='#8f8d93', labelsize=12);"
      ],
      "execution_count": 332,
      "outputs": [
        {
          "output_type": "display_data",
          "data": {
            "image/png": "[encoded data removed]",
            "text/plain": [
              "<Figure size 1152x432 with 1 Axes>"
            ]
          },
          "metadata": {
            "tags": []
          }
        }
      ]
    },
    {
      "cell_type": "markdown",
      "metadata": {
        "id": "0wSrBzmJyWaV",
        "colab_type": "text"
      },
      "source": [
        "# STRETCH OPTIONS\n",
        "\n",
        "### 1) Reproduce one of the following using the matplotlib or seaborn libraries:\n",
        "\n",
        "- [thanksgiving-2015](https://fivethirtyeight.com/features/heres-what-your-part-of-america-eats-on-thanksgiving/) \n",
        "- [candy-power-ranking](https://fivethirtyeight.com/features/the-ultimate-halloween-candy-power-ranking/) \n",
        "- or another example of your choice!\n",
        "\n",
        "### 2) Make more charts!\n",
        "\n",
        "Choose a chart you want to make, from [Visual Vocabulary - Vega Edition](http://ft.com/vocabulary).\n",
        "\n",
        "Find the chart in an example gallery of a Python data visualization library:\n",
        "- [Seaborn](http://seaborn.pydata.org/examples/index.html)\n",
        "- [Altair](https://altair-viz.github.io/gallery/index.html)\n",
        "- [Matplotlib](https://matplotlib.org/gallery.html)\n",
        "- [Pandas](https://pandas.pydata.org/pandas-docs/stable/visualization.html)\n",
        "\n",
        "Reproduce the chart. [Optionally, try the \"Ben Franklin Method.\"](https://docs.google.com/document/d/1ubOw9B3Hfip27hF2ZFnW3a3z9xAgrUDRReOEo-FHCVs/edit) If you want, experiment and make changes.\n",
        "\n",
        "Take notes. Consider sharing your work with your cohort!"
      ]
    },
    {
      "cell_type": "code",
      "metadata": {
        "id": "dRJkKftiy5BJ",
        "colab_type": "code",
        "colab": {}
      },
      "source": [
        "# More Work Here"
      ],
      "execution_count": 0,
      "outputs": []
    }
  ]
}