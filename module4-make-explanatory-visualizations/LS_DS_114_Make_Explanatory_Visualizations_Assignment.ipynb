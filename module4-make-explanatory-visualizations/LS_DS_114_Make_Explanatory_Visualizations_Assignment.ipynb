{
  "nbformat": 4,
  "nbformat_minor": 0,
  "metadata": {
    "colab": {
      "name": "LS_DS_114_Make_Explanatory_Visualizations_Assignment.ipynb",
      "provenance": [],
      "collapsed_sections": [],
      "toc_visible": true
    },
    "language_info": {
      "codemirror_mode": {
        "name": "ipython",
        "version": 3
      },
      "file_extension": ".py",
      "mimetype": "text/x-python",
      "name": "python",
      "nbconvert_exporter": "python",
      "pygments_lexer": "ipython3",
      "version": "3.7.1"
    },
    "kernelspec": {
      "display_name": "Python 3",
      "language": "python",
      "name": "python3"
    }
  },
  "cells": [
    {
      "cell_type": "markdown",
      "metadata": {
        "colab_type": "text",
        "id": "NMEswXWh9mqw"
      },
      "source": [
        "Lambda School Data Science\n",
        "\n",
        "*Unit 1, Sprint 1, Module 4*\n",
        "\n",
        "---\n",
        "\n",
        "# ASSIGNMENT\n",
        "\n",
        "### 1) Replicate the lesson code. I recommend that you [do not copy-paste](https://docs.google.com/document/d/1ubOw9B3Hfip27hF2ZFnW3a3z9xAgrUDRReOEo-FHCVs/edit).\n",
        "\n",
        "Get caught up to where we got our example in class and then try and take things further. How close to \"pixel perfect\" can you make the lecture graph?\n",
        "\n",
        "Once you have something that you're proud of, share your graph in the cohort channel and move on to the second exercise.\n",
        "\n",
        "### 2) Reproduce another example from [FiveThityEight's shared data repository](https://data.fivethirtyeight.com/).\n",
        "\n",
        "**WARNING**: There are a lot of very custom graphs and tables at the above link. I **highly** recommend not trying to reproduce any that look like a table of values or something really different from the graph types that we are already familiar with. Search through the posts until you find a graph type that you are more or less familiar with: histogram, bar chart, stacked bar chart, line chart, [seaborn relplot](https://seaborn.pydata.org/generated/seaborn.relplot.html), etc. Recreating some of the graphics that 538 uses would be a lot easier in Adobe photoshop/illustrator than with matplotlib. \n",
        "\n",
        "- If you put in some time to find a graph that looks \"easy\" to replicate you'll probably find that it's not as easy as you thought. \n",
        "\n",
        "- If you start with a graph that looks hard to replicate you'll probably run up against a brick wall and be disappointed with your afternoon.\n",
        "\n",
        "\n",
        "\n",
        "\n",
        "\n",
        "\n",
        "\n",
        "\n",
        "\n",
        "\n"
      ]
    },
    {
      "cell_type": "markdown",
      "metadata": {
        "id": "YICt0h0ARSBz",
        "colab_type": "text"
      },
      "source": [
        "#My Code"
      ]
    },
    {
      "cell_type": "markdown",
      "metadata": {
        "id": "MGGIVl8UWcaW",
        "colab_type": "text"
      },
      "source": [
        "##Intro"
      ]
    },
    {
      "cell_type": "code",
      "metadata": {
        "id": "7SY1ZHawyZvz",
        "colab_type": "code",
        "colab": {}
      },
      "source": [
        "# As usual, first do the imports\n",
        "import numpy as np\n",
        "import pandas as pd\n",
        "import matplotlib as plt"
      ],
      "execution_count": 0,
      "outputs": []
    },
    {
      "cell_type": "code",
      "metadata": {
        "id": "JyC_kjFsRp3g",
        "colab_type": "code",
        "colab": {
          "resources": {
            "http://localhost:8080/nbextensions/google.colab/files.js": {
              "data": "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",
              "ok": true,
              "headers": [
                [
                  "content-type",
                  "application/javascript"
                ]
              ],
              "status": 200,
              "status_text": ""
            }
          },
          "base_uri": "https://localhost:8080/",
          "height": 71
        },
        "outputId": "9822e439-ad3b-434e-ef52-0b5e924337ec"
      },
      "source": [
        "# Now let's import the data\n",
        "from google.colab import files\n",
        "uploades=files.upload()"
      ],
      "execution_count": 3,
      "outputs": [
        {
          "output_type": "display_data",
          "data": {
            "text/html": [
              "\n",
              "     <input type=\"file\" id=\"files-2484b146-d0ac-4b5d-b603-b8386cf92544\" name=\"files[]\" multiple disabled />\n",
              "     <output id=\"result-2484b146-d0ac-4b5d-b603-b8386cf92544\">\n",
              "      Upload widget is only available when the cell has been executed in the\n",
              "      current browser session. Please rerun this cell to enable.\n",
              "      </output>\n",
              "      <script src=\"/nbextensions/google.colab/files.js\"></script> "
            ],
            "text/plain": [
              "<IPython.core.display.HTML object>"
            ]
          },
          "metadata": {
            "tags": []
          }
        },
        {
          "output_type": "stream",
          "text": [
            "Saving impeachment-polls.csv to impeachment-polls.csv\n"
          ],
          "name": "stdout"
        }
      ]
    },
    {
      "cell_type": "code",
      "metadata": {
        "id": "bsQwFw0lVm93",
        "colab_type": "code",
        "colab": {
          "base_uri": "https://localhost:8080/",
          "height": 513
        },
        "outputId": "718718ae-f46e-4280-f92d-82ffa378002b"
      },
      "source": [
        "# Now when the data is uploaded to Google Colab, we can read it\n",
        "df=pd.read_csv('impeachment-polls.csv')\n",
        "print(df.shape)\n",
        "df.head()"
      ],
      "execution_count": 5,
      "outputs": [
        {
          "output_type": "stream",
          "text": [
            "(523, 24)\n"
          ],
          "name": "stdout"
        },
        {
          "output_type": "execute_result",
          "data": {
            "text/html": [
              "<div>\n",
              "<style scoped>\n",
              "    .dataframe tbody tr th:only-of-type {\n",
              "        vertical-align: middle;\n",
              "    }\n",
              "\n",
              "    .dataframe tbody tr th {\n",
              "        vertical-align: top;\n",
              "    }\n",
              "\n",
              "    .dataframe thead th {\n",
              "        text-align: right;\n",
              "    }\n",
              "</style>\n",
              "<table border=\"1\" class=\"dataframe\">\n",
              "  <thead>\n",
              "    <tr style=\"text-align: right;\">\n",
              "      <th></th>\n",
              "      <th>Start</th>\n",
              "      <th>End</th>\n",
              "      <th>Pollster</th>\n",
              "      <th>Sponsor</th>\n",
              "      <th>SampleSize</th>\n",
              "      <th>Pop</th>\n",
              "      <th>tracking</th>\n",
              "      <th>Text</th>\n",
              "      <th>Category</th>\n",
              "      <th>Include?</th>\n",
              "      <th>Yes</th>\n",
              "      <th>No</th>\n",
              "      <th>Unsure</th>\n",
              "      <th>Rep Sample</th>\n",
              "      <th>Rep Yes</th>\n",
              "      <th>Rep No</th>\n",
              "      <th>Dem Sample</th>\n",
              "      <th>Dem Yes</th>\n",
              "      <th>Dem No</th>\n",
              "      <th>Ind Sample</th>\n",
              "      <th>Ind Yes</th>\n",
              "      <th>Ind No</th>\n",
              "      <th>URL</th>\n",
              "      <th>Notes</th>\n",
              "    </tr>\n",
              "  </thead>\n",
              "  <tbody>\n",
              "    <tr>\n",
              "      <th>0</th>\n",
              "      <td>6/28/2019</td>\n",
              "      <td>7/1/2019</td>\n",
              "      <td>ABC News/Washington Post</td>\n",
              "      <td>NaN</td>\n",
              "      <td>1008</td>\n",
              "      <td>a</td>\n",
              "      <td>NaN</td>\n",
              "      <td>Based on what you know, do you think Congress ...</td>\n",
              "      <td>begin_proceedings</td>\n",
              "      <td>yes</td>\n",
              "      <td>37.0</td>\n",
              "      <td>59.0</td>\n",
              "      <td>4.0</td>\n",
              "      <td>232.0</td>\n",
              "      <td>7.0</td>\n",
              "      <td>87.0</td>\n",
              "      <td>292.0</td>\n",
              "      <td>61.0</td>\n",
              "      <td>36.0</td>\n",
              "      <td>373.0</td>\n",
              "      <td>37.0</td>\n",
              "      <td>59.0</td>\n",
              "      <td>https://games-cdn.washingtonpost.com/notes/pro...</td>\n",
              "      <td>NaN</td>\n",
              "    </tr>\n",
              "    <tr>\n",
              "      <th>1</th>\n",
              "      <td>4/22/2019</td>\n",
              "      <td>4/25/2019</td>\n",
              "      <td>ABC News/Washington Post</td>\n",
              "      <td>NaN</td>\n",
              "      <td>1001</td>\n",
              "      <td>a</td>\n",
              "      <td>NaN</td>\n",
              "      <td>Based on what you know, do you think Congress ...</td>\n",
              "      <td>begin_proceedings</td>\n",
              "      <td>yes</td>\n",
              "      <td>37.0</td>\n",
              "      <td>56.0</td>\n",
              "      <td>6.0</td>\n",
              "      <td>260.0</td>\n",
              "      <td>10.0</td>\n",
              "      <td>87.0</td>\n",
              "      <td>290.0</td>\n",
              "      <td>62.0</td>\n",
              "      <td>29.0</td>\n",
              "      <td>360.0</td>\n",
              "      <td>36.0</td>\n",
              "      <td>59.0</td>\n",
              "      <td>https://games-cdn.washingtonpost.com/notes/pro...</td>\n",
              "      <td>NaN</td>\n",
              "    </tr>\n",
              "    <tr>\n",
              "      <th>2</th>\n",
              "      <td>1/21/2019</td>\n",
              "      <td>1/24/2019</td>\n",
              "      <td>ABC News/Washington Post</td>\n",
              "      <td>NaN</td>\n",
              "      <td>1001</td>\n",
              "      <td>a</td>\n",
              "      <td>NaN</td>\n",
              "      <td>Based on what you know, do you think Congress ...</td>\n",
              "      <td>begin_proceedings</td>\n",
              "      <td>yes</td>\n",
              "      <td>40.0</td>\n",
              "      <td>55.0</td>\n",
              "      <td>6.0</td>\n",
              "      <td>240.0</td>\n",
              "      <td>7.0</td>\n",
              "      <td>90.0</td>\n",
              "      <td>320.0</td>\n",
              "      <td>64.0</td>\n",
              "      <td>30.0</td>\n",
              "      <td>370.0</td>\n",
              "      <td>42.0</td>\n",
              "      <td>53.0</td>\n",
              "      <td>langerresearch.com/wp-content/uploads/1204a2Tr...</td>\n",
              "      <td>NaN</td>\n",
              "    </tr>\n",
              "    <tr>\n",
              "      <th>3</th>\n",
              "      <td>8/26/2018</td>\n",
              "      <td>8/29/2018</td>\n",
              "      <td>ABC News/Washington Post</td>\n",
              "      <td>NaN</td>\n",
              "      <td>1003</td>\n",
              "      <td>a</td>\n",
              "      <td>NaN</td>\n",
              "      <td>Based on what you know, do you think Congress ...</td>\n",
              "      <td>begin_proceedings</td>\n",
              "      <td>yes</td>\n",
              "      <td>49.0</td>\n",
              "      <td>46.0</td>\n",
              "      <td>5.0</td>\n",
              "      <td>251.0</td>\n",
              "      <td>15.0</td>\n",
              "      <td>82.0</td>\n",
              "      <td>331.0</td>\n",
              "      <td>75.0</td>\n",
              "      <td>21.0</td>\n",
              "      <td>371.0</td>\n",
              "      <td>49.0</td>\n",
              "      <td>46.0</td>\n",
              "      <td>https://www.langerresearch.com/wp-content/uplo...</td>\n",
              "      <td>NaN</td>\n",
              "    </tr>\n",
              "    <tr>\n",
              "      <th>4</th>\n",
              "      <td>6/8/2019</td>\n",
              "      <td>6/12/2019</td>\n",
              "      <td>Civiqs</td>\n",
              "      <td>NaN</td>\n",
              "      <td>1559</td>\n",
              "      <td>rv</td>\n",
              "      <td>NaN</td>\n",
              "      <td>Do you think the House of Representatives shou...</td>\n",
              "      <td>begin_inquiry</td>\n",
              "      <td>yes</td>\n",
              "      <td>43.0</td>\n",
              "      <td>51.0</td>\n",
              "      <td>5.0</td>\n",
              "      <td>483.0</td>\n",
              "      <td>5.0</td>\n",
              "      <td>93.0</td>\n",
              "      <td>577.0</td>\n",
              "      <td>77.0</td>\n",
              "      <td>15.0</td>\n",
              "      <td>499.0</td>\n",
              "      <td>41.0</td>\n",
              "      <td>53.0</td>\n",
              "      <td>https://civiqs.com/documents/Civiqs_DailyKos_m...</td>\n",
              "      <td>NaN</td>\n",
              "    </tr>\n",
              "  </tbody>\n",
              "</table>\n",
              "</div>"
            ],
            "text/plain": [
              "       Start  ... Notes\n",
              "0  6/28/2019  ...   NaN\n",
              "1  4/22/2019  ...   NaN\n",
              "2  1/21/2019  ...   NaN\n",
              "3  8/26/2018  ...   NaN\n",
              "4   6/8/2019  ...   NaN\n",
              "\n",
              "[5 rows x 24 columns]"
            ]
          },
          "metadata": {
            "tags": []
          },
          "execution_count": 5
        }
      ]
    },
    {
      "cell_type": "markdown",
      "metadata": {
        "id": "8TVGwHzcWWhd",
        "colab_type": "text"
      },
      "source": [
        "##Analizing the data"
      ]
    },
    {
      "cell_type": "code",
      "metadata": {
        "id": "6Sq9GjdUW_gd",
        "colab_type": "code",
        "colab": {
          "base_uri": "https://localhost:8080/",
          "height": 445
        },
        "outputId": "d5a6a761-e3ef-4998-b7dc-b13c6268dc6d"
      },
      "source": [
        "df.sample(5)"
      ],
      "execution_count": 8,
      "outputs": [
        {
          "output_type": "execute_result",
          "data": {
            "text/html": [
              "<div>\n",
              "<style scoped>\n",
              "    .dataframe tbody tr th:only-of-type {\n",
              "        vertical-align: middle;\n",
              "    }\n",
              "\n",
              "    .dataframe tbody tr th {\n",
              "        vertical-align: top;\n",
              "    }\n",
              "\n",
              "    .dataframe thead th {\n",
              "        text-align: right;\n",
              "    }\n",
              "</style>\n",
              "<table border=\"1\" class=\"dataframe\">\n",
              "  <thead>\n",
              "    <tr style=\"text-align: right;\">\n",
              "      <th></th>\n",
              "      <th>Start</th>\n",
              "      <th>End</th>\n",
              "      <th>Pollster</th>\n",
              "      <th>Sponsor</th>\n",
              "      <th>SampleSize</th>\n",
              "      <th>Pop</th>\n",
              "      <th>tracking</th>\n",
              "      <th>Text</th>\n",
              "      <th>Category</th>\n",
              "      <th>Include?</th>\n",
              "      <th>Yes</th>\n",
              "      <th>No</th>\n",
              "      <th>Unsure</th>\n",
              "      <th>Rep Sample</th>\n",
              "      <th>Rep Yes</th>\n",
              "      <th>Rep No</th>\n",
              "      <th>Dem Sample</th>\n",
              "      <th>Dem Yes</th>\n",
              "      <th>Dem No</th>\n",
              "      <th>Ind Sample</th>\n",
              "      <th>Ind Yes</th>\n",
              "      <th>Ind No</th>\n",
              "      <th>URL</th>\n",
              "      <th>Notes</th>\n",
              "    </tr>\n",
              "  </thead>\n",
              "  <tbody>\n",
              "    <tr>\n",
              "      <th>445</th>\n",
              "      <td>12/6/2019</td>\n",
              "      <td>12/8/2019</td>\n",
              "      <td>Morning Consult</td>\n",
              "      <td>Politico</td>\n",
              "      <td>1994</td>\n",
              "      <td>rv</td>\n",
              "      <td>NaN</td>\n",
              "      <td>Do you support or oppose the current impeachme...</td>\n",
              "      <td>begin_inquiry</td>\n",
              "      <td>yes</td>\n",
              "      <td>50.0</td>\n",
              "      <td>42.0</td>\n",
              "      <td>8.0</td>\n",
              "      <td>616.0</td>\n",
              "      <td>15.0</td>\n",
              "      <td>81.0</td>\n",
              "      <td>725.0</td>\n",
              "      <td>83.0</td>\n",
              "      <td>12.0</td>\n",
              "      <td>653.0</td>\n",
              "      <td>45.0</td>\n",
              "      <td>41.0</td>\n",
              "      <td>https://www.politico.com/f/?id=0000016e-f1d4-d...</td>\n",
              "      <td>NaN</td>\n",
              "    </tr>\n",
              "    <tr>\n",
              "      <th>117</th>\n",
              "      <td>9/25/2019</td>\n",
              "      <td>9/25/2019</td>\n",
              "      <td>Marist College</td>\n",
              "      <td>NaN</td>\n",
              "      <td>745</td>\n",
              "      <td>rv</td>\n",
              "      <td>NaN</td>\n",
              "      <td>Do you approve or disapprove of the House of R...</td>\n",
              "      <td>begin_inquiry</td>\n",
              "      <td>yes</td>\n",
              "      <td>49.0</td>\n",
              "      <td>48.0</td>\n",
              "      <td>4.0</td>\n",
              "      <td>216.0</td>\n",
              "      <td>6.0</td>\n",
              "      <td>93.0</td>\n",
              "      <td>268.0</td>\n",
              "      <td>88.0</td>\n",
              "      <td>10.0</td>\n",
              "      <td>261.0</td>\n",
              "      <td>44.0</td>\n",
              "      <td>50.0</td>\n",
              "      <td>http://maristpoll.marist.edu/wp-content/upload...</td>\n",
              "      <td>NaN</td>\n",
              "    </tr>\n",
              "    <tr>\n",
              "      <th>74</th>\n",
              "      <td>4/28/2019</td>\n",
              "      <td>4/29/2019</td>\n",
              "      <td>Morning Consult</td>\n",
              "      <td>Politico</td>\n",
              "      <td>1995</td>\n",
              "      <td>rv</td>\n",
              "      <td>NaN</td>\n",
              "      <td>As you may know, the first step toward removin...</td>\n",
              "      <td>impeach_and_remove</td>\n",
              "      <td>yes</td>\n",
              "      <td>32.0</td>\n",
              "      <td>51.0</td>\n",
              "      <td>17.0</td>\n",
              "      <td>648.0</td>\n",
              "      <td>6.0</td>\n",
              "      <td>85.0</td>\n",
              "      <td>721.0</td>\n",
              "      <td>60.0</td>\n",
              "      <td>24.0</td>\n",
              "      <td>626.0</td>\n",
              "      <td>27.0</td>\n",
              "      <td>48.0</td>\n",
              "      <td>https://morningconsult.com/wp-content/uploads/...</td>\n",
              "      <td>NaN</td>\n",
              "    </tr>\n",
              "    <tr>\n",
              "      <th>271</th>\n",
              "      <td>3/10/2017</td>\n",
              "      <td>3/12/2017</td>\n",
              "      <td>Public Policy Polling</td>\n",
              "      <td>NaN</td>\n",
              "      <td>808</td>\n",
              "      <td>rv</td>\n",
              "      <td>NaN</td>\n",
              "      <td>Would you support or oppose impeaching Donald ...</td>\n",
              "      <td>impeach</td>\n",
              "      <td>yes</td>\n",
              "      <td>44.0</td>\n",
              "      <td>45.0</td>\n",
              "      <td>12.0</td>\n",
              "      <td>259.0</td>\n",
              "      <td>9.0</td>\n",
              "      <td>85.0</td>\n",
              "      <td>299.0</td>\n",
              "      <td>74.0</td>\n",
              "      <td>12.0</td>\n",
              "      <td>250.0</td>\n",
              "      <td>43.0</td>\n",
              "      <td>42.0</td>\n",
              "      <td>https://www.publicpolicypolling.com/wp-content...</td>\n",
              "      <td>NaN</td>\n",
              "    </tr>\n",
              "    <tr>\n",
              "      <th>413</th>\n",
              "      <td>11/17/2019</td>\n",
              "      <td>11/19/2019</td>\n",
              "      <td>YouGov</td>\n",
              "      <td>Economist</td>\n",
              "      <td>1500</td>\n",
              "      <td>a</td>\n",
              "      <td>NaN</td>\n",
              "      <td>Do you think the U.S. House of Representatives...</td>\n",
              "      <td>impeach</td>\n",
              "      <td>yes</td>\n",
              "      <td>45.0</td>\n",
              "      <td>40.0</td>\n",
              "      <td>16.0</td>\n",
              "      <td>363.0</td>\n",
              "      <td>9.0</td>\n",
              "      <td>83.0</td>\n",
              "      <td>557.0</td>\n",
              "      <td>82.0</td>\n",
              "      <td>8.0</td>\n",
              "      <td>572.0</td>\n",
              "      <td>35.0</td>\n",
              "      <td>40.0</td>\n",
              "      <td>https://d25d2506sfb94s.cloudfront.net/cumulus_...</td>\n",
              "      <td>NaN</td>\n",
              "    </tr>\n",
              "  </tbody>\n",
              "</table>\n",
              "</div>"
            ],
            "text/plain": [
              "          Start  ... Notes\n",
              "445   12/6/2019  ...   NaN\n",
              "117   9/25/2019  ...   NaN\n",
              "74    4/28/2019  ...   NaN\n",
              "271   3/10/2017  ...   NaN\n",
              "413  11/17/2019  ...   NaN\n",
              "\n",
              "[5 rows x 24 columns]"
            ]
          },
          "metadata": {
            "tags": []
          },
          "execution_count": 8
        }
      ]
    },
    {
      "cell_type": "code",
      "metadata": {
        "id": "1XTzWP0FV48P",
        "colab_type": "code",
        "colab": {
          "base_uri": "https://localhost:8080/",
          "height": 442
        },
        "outputId": "f46e1c01-faac-47c3-814f-28f673285eb5"
      },
      "source": [
        "# The list of columns and their data types\n",
        "df.dtypes"
      ],
      "execution_count": 7,
      "outputs": [
        {
          "output_type": "execute_result",
          "data": {
            "text/plain": [
              "Start          object\n",
              "End            object\n",
              "Pollster       object\n",
              "Sponsor        object\n",
              "SampleSize      int64\n",
              "Pop            object\n",
              "tracking       object\n",
              "Text           object\n",
              "Category       object\n",
              "Include?       object\n",
              "Yes           float64\n",
              "No            float64\n",
              "Unsure        float64\n",
              "Rep Sample    float64\n",
              "Rep Yes       float64\n",
              "Rep No        float64\n",
              "Dem Sample    float64\n",
              "Dem Yes       float64\n",
              "Dem No        float64\n",
              "Ind Sample    float64\n",
              "Ind Yes       float64\n",
              "Ind No        float64\n",
              "URL            object\n",
              "Notes          object\n",
              "dtype: object"
            ]
          },
          "metadata": {
            "tags": []
          },
          "execution_count": 7
        }
      ]
    },
    {
      "cell_type": "markdown",
      "metadata": {
        "id": "L7iyCn3JWaPf",
        "colab_type": "text"
      },
      "source": [
        "##Visualizations"
      ]
    },
    {
      "cell_type": "markdown",
      "metadata": {
        "id": "LXwCHzxgZbQe",
        "colab_type": "text"
      },
      "source": [
        "###Categorical value"
      ]
    },
    {
      "cell_type": "code",
      "metadata": {
        "id": "m2cA1PUhWP8_",
        "colab_type": "code",
        "colab": {
          "base_uri": "https://localhost:8080/",
          "height": 170
        },
        "outputId": "3a9c3370-0487-43ca-fc11-9162e4a8b53d"
      },
      "source": [
        "# Check the column\n",
        "df['Category'].value_counts()"
      ],
      "execution_count": 10,
      "outputs": [
        {
          "output_type": "execute_result",
          "data": {
            "text/plain": [
              "impeach                   184\n",
              "impeach_and_remove        138\n",
              "begin_proceedings          66\n",
              "begin_inquiry              44\n",
              "remove                     40\n",
              "reasons                    26\n",
              "if_impeach_then_remove     19\n",
              "consider                    5\n",
              "Name: Category, dtype: int64"
            ]
          },
          "metadata": {
            "tags": []
          },
          "execution_count": 10
        }
      ]
    },
    {
      "cell_type": "code",
      "metadata": {
        "id": "7gYJ_taqXhR1",
        "colab_type": "code",
        "colab": {}
      },
      "source": [
        "# Categorical value\n",
        "df['Column_name'].value_counts()"
      ],
      "execution_count": 0,
      "outputs": []
    },
    {
      "cell_type": "code",
      "metadata": {
        "id": "jZiC6waeX76x",
        "colab_type": "code",
        "colab": {}
      },
      "source": [
        "# Continuous variable\n",
        "df['column_name'].plot(kind='hist');"
      ],
      "execution_count": 0,
      "outputs": []
    },
    {
      "cell_type": "code",
      "metadata": {
        "id": "nrmew6ghYbh3",
        "colab_type": "code",
        "colab": {}
      },
      "source": [
        "# Remove extreme outliers\n",
        "df=df[df['Column_name']<500]\n",
        "df['column_name'].plot(kind='hist');"
      ],
      "execution_count": 0,
      "outputs": []
    },
    {
      "cell_type": "code",
      "metadata": {
        "id": "NdsdX4s-Y4AG",
        "colab_type": "code",
        "colab": {}
      },
      "source": [
        "# Continuous variable can be converted to categorical\n",
        "farebins=[0,1,2]\n",
        "farelabels=['low','medium','hight']\n",
        "df['fare_groups']=pd.cut(df['Fare'])"
      ],
      "execution_count": 0,
      "outputs": []
    },
    {
      "cell_type": "code",
      "metadata": {
        "id": "kl3LfLEAZc5-",
        "colab_type": "code",
        "colab": {}
      },
      "source": [
        "myresults=df['fare_groups'].value_counts().sort_index()"
      ],
      "execution_count": 0,
      "outputs": []
    },
    {
      "cell_type": "code",
      "metadata": {
        "id": "Bn1ZakqYZo3Q",
        "colab_type": "code",
        "colab": {}
      },
      "source": [
        "# sometimes it's important to specify the range of your y-axis to get more accurate results. 'lim'='limits'\n",
        "myresults.plot(ylim=(0,200));"
      ],
      "execution_count": 0,
      "outputs": []
    },
    {
      "cell_type": "markdown",
      "metadata": {
        "id": "-jhc81PpaJWy",
        "colab_type": "text"
      },
      "source": [
        "###Display single continuous variable"
      ]
    },
    {
      "cell_type": "code",
      "metadata": {
        "id": "xHDXT5-daFQ9",
        "colab_type": "code",
        "colab": {}
      },
      "source": [
        "# Histogram\n",
        "df['Age'].plot(kind='hist',bins=25,figsize=(16,4),color='tan');\n"
      ],
      "execution_count": 0,
      "outputs": []
    },
    {
      "cell_type": "code",
      "metadata": {
        "id": "Pn-7LqMxa5D3",
        "colab_type": "code",
        "colab": {}
      },
      "source": [
        "# Stacked Histogram of continuous variable, broken out by categorical variable\n",
        "df[df['Pclass']==1]['Age'].plot(kind='hist', bins=25,figsize=(14,4),alpha=0.5);\n",
        "df[df['Pclass']==2]['Age'].plot(kind='hist', bins=25,figsize=(14,4),alpha=0.5);\n",
        "df[df['Pclass']==3]['Age'].plot(kind='hist', bins=25,figsize=(14,4),alpha=0.5);"
      ],
      "execution_count": 0,
      "outputs": []
    },
    {
      "cell_type": "code",
      "metadata": {
        "id": "Ux9ObdlCbnJZ",
        "colab_type": "code",
        "colab": {}
      },
      "source": [
        "# But this is actually easier to read using a Kernel Density Estimate (KDE). Note the use of 'xlim'.\n",
        "df[df['Pclass']==1]['Age'].plot(kind='density', xlim=(0,85),figsize=(14,4),color'navy');\n",
        "df[df['Pclass']==2]['Age'].plot(kind='density', xlim=(0,85),figsize=(14,4),color'lightblue');\n",
        "df[df['Pclass']==3]['Age'].plot(kind='density', xlim=(0,85),figsize=(14,4),color'crimson');"
      ],
      "execution_count": 0,
      "outputs": []
    },
    {
      "cell_type": "markdown",
      "metadata": {
        "id": "y43YaQkocnQA",
        "colab_type": "text"
      },
      "source": [
        "### Display a single categorical variable"
      ]
    },
    {
      "cell_type": "code",
      "metadata": {
        "id": "9Ejjex53crgi",
        "colab_type": "code",
        "colab": {}
      },
      "source": [
        "# Bar chart\n",
        "df['fare_groups'].value_counts.sort_index().plot(kind='bar',colo=['gray','gray','crimson','gray'])\n",
        "# 'barh' would make it horisontal"
      ],
      "execution_count": 0,
      "outputs": []
    },
    {
      "cell_type": "code",
      "metadata": {
        "id": "WZjvDdopdDgs",
        "colab_type": "code",
        "colab": {}
      },
      "source": [
        "# Pie chart\n",
        "df['fare_groups'].value_counts(),plot(kind='pie',figsize=(4,4));"
      ],
      "execution_count": 0,
      "outputs": []
    },
    {
      "cell_type": "markdown",
      "metadata": {
        "id": "IUN68ExtdQu2",
        "colab_type": "text"
      },
      "source": [
        "###Compare two categorical variables"
      ]
    },
    {
      "cell_type": "code",
      "metadata": {
        "id": "1j_TmB1pdWDZ",
        "colab_type": "code",
        "colab": {}
      },
      "source": [
        "# Using crosstab\n",
        "cab_survived=pd.crosstab(df['cabin_class'],df['Survived'])"
      ],
      "execution_count": 0,
      "outputs": []
    },
    {
      "cell_type": "code",
      "metadata": {
        "id": "p308BHtNd_9i",
        "colab_type": "code",
        "colab": {}
      },
      "source": [
        "# Make that into a bar chart\n",
        "cab_survive.plot(kind='bar')"
      ],
      "execution_count": 0,
      "outputs": []
    },
    {
      "cell_type": "code",
      "metadata": {
        "id": "-nVDS6lBeHxc",
        "colab_type": "code",
        "colab": {}
      },
      "source": [
        "# Crosstab with column percents\n",
        "cab_survive1=pd.crosstab(df['cabin_class'],df['Survived'],normalize='columns')"
      ],
      "execution_count": 0,
      "outputs": []
    },
    {
      "cell_type": "code",
      "metadata": {
        "id": "Pjkmo34Lec5_",
        "colab_type": "code",
        "colab": {}
      },
      "source": [
        "# make a stacked bar chart\n",
        "cab_survive1.plot(kind)"
      ],
      "execution_count": 0,
      "outputs": []
    },
    {
      "cell_type": "code",
      "metadata": {
        "id": "QIW_GDxwepzn",
        "colab_type": "code",
        "colab": {}
      },
      "source": [
        "# Crosstab with column percents\n",
        "cab_survived"
      ],
      "execution_count": 0,
      "outputs": []
    },
    {
      "cell_type": "code",
      "metadata": {
        "id": "Si02GWxYexI1",
        "colab_type": "code",
        "colab": {}
      },
      "source": [
        "# A paired barchart for comparison\n"
      ],
      "execution_count": 0,
      "outputs": []
    },
    {
      "cell_type": "markdown",
      "metadata": {
        "id": "QlOCVZQee3db",
        "colab_type": "text"
      },
      "source": [
        "###Compare a categorical and continuous variable"
      ]
    },
    {
      "cell_type": "code",
      "metadata": {
        "id": "9r_jYH9me8Ry",
        "colab_type": "code",
        "colab": {}
      },
      "source": [
        "# \n",
        "df['Age'].mean()"
      ],
      "execution_count": 0,
      "outputs": []
    },
    {
      "cell_type": "code",
      "metadata": {
        "id": "mc1MQdVvfB0i",
        "colab_type": "code",
        "colab": {}
      },
      "source": [
        "# Now explore\n",
        "cab_agedf.groupby('cabin_class')['Age'].mean()"
      ],
      "execution_count": 0,
      "outputs": []
    },
    {
      "cell_type": "code",
      "metadata": {
        "id": "ozDZXV-RfLxl",
        "colab_type": "code",
        "colab": {}
      },
      "source": [
        "# To visualize\n",
        "df['Age'].plot(kind='box')"
      ],
      "execution_count": 0,
      "outputs": []
    },
    {
      "cell_type": "code",
      "metadata": {
        "id": "rR53C0FwfSRT",
        "colab_type": "code",
        "colab": {}
      },
      "source": [
        "# But to break out a continuous variable by a categorical variable\n",
        "df.boxplot(column='Age')"
      ],
      "execution_count": 0,
      "outputs": []
    },
    {
      "cell_type": "markdown",
      "metadata": {
        "id": "QsxNwSFpflPX",
        "colab_type": "text"
      },
      "source": [
        "###Compare two or three continuous variables"
      ]
    },
    {
      "cell_type": "code",
      "metadata": {
        "id": "pyxBV3R7fpV6",
        "colab_type": "code",
        "colab": {}
      },
      "source": [
        "#Two continuous variables\n",
        "df.plot(kind='scatter',x='Fare',y='Age',figsize=(10,4));"
      ],
      "execution_count": 0,
      "outputs": []
    },
    {
      "cell_type": "code",
      "metadata": {
        "id": "suQRi25Sf4Ys",
        "colab_type": "code",
        "colab": {}
      },
      "source": [
        "# Three variables\n",
        "df.plot(kind='scatter',x='Fare',y='Age',c='Pclass',colormap='plasma',figsize=(10,4));"
      ],
      "execution_count": 0,
      "outputs": []
    },
    {
      "cell_type": "markdown",
      "metadata": {
        "id": "3v4N8uHGiQP8",
        "colab_type": "text"
      },
      "source": [
        "###Use a line plot to examine 2 continuous variables"
      ]
    },
    {
      "cell_type": "code",
      "metadata": {
        "id": "Ls41q46YiVMH",
        "colab_type": "code",
        "colab": {}
      },
      "source": [
        "# line chart: age by fair\n",
        "df.groupby('Age')['Fare'].mean().plot(kind='line', figsize=(10,4));"
      ],
      "execution_count": 0,
      "outputs": []
    },
    {
      "cell_type": "code",
      "metadata": {
        "id": "aUnOhH1Mid01",
        "colab_type": "code",
        "colab": {}
      },
      "source": [
        "# Line chart: age by fare and cabin class\n",
        "mycolors=['crimson','purple','dodgerblue']\n",
        "# Rather than specifying 3 plots (as we did above, with the histogram)\n",
        "# you can just loop through the \n",
        "for x in [1,2,3]:\n",
        "  df[df['Pclass']==x].groupby('Age')['Fare'].mean().plot()"
      ],
      "execution_count": 0,
      "outputs": []
    },
    {
      "cell_type": "markdown",
      "metadata": {
        "id": "aaN5HXPejLtk",
        "colab_type": "text"
      },
      "source": [
        "###Compare multiple continuus variables"
      ]
    },
    {
      "cell_type": "code",
      "metadata": {
        "id": "FzQy0sR_jR7Y",
        "colab_type": "code",
        "colab": {}
      },
      "source": [
        "# Correlation Matrix\n",
        "corr_matrix=df.corr()\n",
        "corr_matrix"
      ],
      "execution_count": 0,
      "outputs": []
    },
    {
      "cell_type": "code",
      "metadata": {
        "id": "90QYoBNNjnNU",
        "colab_type": "code",
        "colab": {}
      },
      "source": [
        "# Display the correlation matrix as a heatmap\n",
        "plt.imshow(corr_matrix);"
      ],
      "execution_count": 0,
      "outputs": []
    },
    {
      "cell_type": "markdown",
      "metadata": {
        "id": "-OexIZgLjxQz",
        "colab_type": "text"
      },
      "source": [
        "###But this actually is easier and better looking if you use seaborn code"
      ]
    },
    {
      "cell_type": "code",
      "metadata": {
        "id": "oR6rxT4sj5Jr",
        "colab_type": "code",
        "colab": {}
      },
      "source": [
        "# Seaborn (20:00)\n",
        "import seaborn as "
      ],
      "execution_count": 0,
      "outputs": []
    },
    {
      "cell_type": "markdown",
      "metadata": {
        "id": "0xr5gGw7j-ve",
        "colab_type": "text"
      },
      "source": [
        "##Intro to matplotlib"
      ]
    },
    {
      "cell_type": "code",
      "metadata": {
        "id": "Sn0S6KRxkCHu",
        "colab_type": "code",
        "colab": {}
      },
      "source": [
        "# We will need to import numpy\n",
        "x=np.linspace(0,5,11)\n",
        "y=x**2"
      ],
      "execution_count": 0,
      "outputs": []
    },
    {
      "cell_type": "code",
      "metadata": {
        "id": "LCMlrKw3kflU",
        "colab_type": "code",
        "colab": {
          "base_uri": "https://localhost:8080/",
          "height": 34
        },
        "outputId": "86469fff-eb6f-40ad-e7c1-4e734b74f44d"
      },
      "source": [
        "x"
      ],
      "execution_count": 14,
      "outputs": [
        {
          "output_type": "execute_result",
          "data": {
            "text/plain": [
              "array([0. , 0.5, 1. , 1.5, 2. , 2.5, 3. , 3.5, 4. , 4.5, 5. ])"
            ]
          },
          "metadata": {
            "tags": []
          },
          "execution_count": 14
        }
      ]
    },
    {
      "cell_type": "code",
      "metadata": {
        "id": "JhGwxoxAkgmX",
        "colab_type": "code",
        "colab": {
          "base_uri": "https://localhost:8080/",
          "height": 51
        },
        "outputId": "fa6bad90-a8df-4b67-ab13-6ffe4afd5a8a"
      },
      "source": [
        "y"
      ],
      "execution_count": 15,
      "outputs": [
        {
          "output_type": "execute_result",
          "data": {
            "text/plain": [
              "array([ 0.  ,  0.25,  1.  ,  2.25,  4.  ,  6.25,  9.  , 12.25, 16.  ,\n",
              "       20.25, 25.  ])"
            ]
          },
          "metadata": {
            "tags": []
          },
          "execution_count": 15
        }
      ]
    },
    {
      "cell_type": "markdown",
      "metadata": {
        "id": "3CLfsWfBkjOD",
        "colab_type": "text"
      },
      "source": [
        "###Basic matplotlib commands"
      ]
    },
    {
      "cell_type": "code",
      "metadata": {
        "id": "L1MewTidkmXt",
        "colab_type": "code",
        "colab": {}
      },
      "source": [
        "# a very simple plot\n",
        "plt.plot(y,x);"
      ],
      "execution_count": 0,
      "outputs": []
    },
    {
      "cell_type": "code",
      "metadata": {
        "id": "2dzCujjlksdm",
        "colab_type": "code",
        "colab": {}
      },
      "source": [
        "# you can have 2 \n",
        "plt.plot(x,y,'b')\n",
        "plt.plot(y,x,'r');"
      ],
      "execution_count": 0,
      "outputs": []
    },
    {
      "cell_type": "code",
      "metadata": {
        "id": "85G2LLhak2sk",
        "colab_type": "code",
        "colab": {}
      },
      "source": [
        "# Now add some labels, plus a little texture\n",
        "plt.plot(x,y,'b--')\n",
        "plt.plot(y,x,'r*-')\n",
        "plt.xlabel('X Axis here')\n",
        "plt.xlabel('Y Axis here')\n",
        "plt.title('My title here')\n",
        ";"
      ],
      "execution_count": 0,
      "outputs": []
    },
    {
      "cell_type": "markdown",
      "metadata": {
        "id": "xzoGPw9BlRSD",
        "colab_type": "text"
      },
      "source": [
        "###Creating Multiplots on Same Canvas"
      ]
    },
    {
      "cell_type": "code",
      "metadata": {
        "id": "AyOdYRSmlPds",
        "colab_type": "code",
        "colab": {}
      },
      "source": [
        "# The basic\n",
        "plt.subplot(1,2,1)\n",
        "plt.plot(x,y,'b--')\n",
        "plt.subplot(1,2,2)\n",
        "plt.plot(y,x,'r*-')\n",
        ";"
      ],
      "execution_count": 0,
      "outputs": []
    },
    {
      "cell_type": "markdown",
      "metadata": {
        "id": "2aONDuIQlolA",
        "colab_type": "text"
      },
      "source": [
        "###Object oriented method"
      ]
    },
    {
      "cell_type": "code",
      "metadata": {
        "id": "eeQT1rVjls39",
        "colab_type": "code",
        "colab": {}
      },
      "source": [
        "# The .figure method\n",
        "\n",
        "# Create Figure (empty canvas)\n",
        "fig=plt.figure()\n",
        "\n",
        "axes=fig.add_axes([.1,.1,.8,.8])\n",
        "\n",
        "axes.plot(a,y,'b')\n",
        "axes.set_xlabel('my x axis')\n",
        "axes.set_ylabel('my y axis')\n",
        "axes.set_title('my title');"
      ],
      "execution_count": 0,
      "outputs": []
    },
    {
      "cell_type": "code",
      "metadata": {
        "id": "Gb2lxatEmjM_",
        "colab_type": "code",
        "colab": {}
      },
      "source": [
        "fig=plt.figure()\n",
        "axes1=fig.add_axes([0.1,0.1,0.8,0.8])\n",
        "axes2=fig.add_axes([0.2,0.5,0.4,0.3]);\n"
      ],
      "execution_count": 0,
      "outputs": []
    },
    {
      "cell_type": "code",
      "metadata": {
        "id": "kmiEZeblnCsq",
        "colab_type": "code",
        "colab": {}
      },
      "source": [
        "fig, axes=plt.subplot(nrows=1,ncols=1)\n",
        "\n",
        "axes,plot(x,y,'darkred')\n",
        "axes.set_xlabel('my x axis')\n",
        "axes.set_ylabel('my y axis')\n",
        "axes.set_title('my title');"
      ],
      "execution_count": 0,
      "outputs": []
    },
    {
      "cell_type": "code",
      "metadata": {
        "id": "D5mMaM-hmMwJ",
        "colab_type": "code",
        "colab": {}
      },
      "source": [
        "# Axes is an array "
      ],
      "execution_count": 0,
      "outputs": []
    },
    {
      "cell_type": "code",
      "metadata": {
        "id": "tU6zGvVGoq4v",
        "colab_type": "code",
        "colab": {}
      },
      "source": [
        "for ax in axes:\n",
        "  ax.plot(x,y,'g')\n",
        "  ax.set_xlabel('x axis')\n",
        "  ax.set_ylabel('y axis')\n",
        "  ax.set_title('this');"
      ],
      "execution_count": 0,
      "outputs": []
    },
    {
      "cell_type": "markdown",
      "metadata": {
        "id": "3sp8B4UAogf3",
        "colab_type": "text"
      },
      "source": [
        "###Figure size, aspect ratio and DPI"
      ]
    },
    {
      "cell_type": "code",
      "metadata": {
        "id": "SRxHKwZ8opqE",
        "colab_type": "code",
        "colab": {}
      },
      "source": [
        "fig=plt.figure(figsize=(8,4),dpi=100)\n"
      ],
      "execution_count": 0,
      "outputs": []
    },
    {
      "cell_type": "code",
      "metadata": {
        "id": "lIBb9J_LpWOj",
        "colab_type": "code",
        "colab": {}
      },
      "source": [
        "fig, axes=plt.subplots(figsize=(8,4),dpi=100)\n",
        "axes.plot(x,y,'r');"
      ],
      "execution_count": 0,
      "outputs": []
    },
    {
      "cell_type": "code",
      "metadata": {
        "id": "0a_UicfZoezg",
        "colab_type": "code",
        "colab": {}
      },
      "source": [
        "# To save the figure\n",
        "fig.savefig('filename.png', dpi=200)"
      ],
      "execution_count": 0,
      "outputs": []
    },
    {
      "cell_type": "code",
      "metadata": {
        "id": "K818ixgmp3sn",
        "colab_type": "code",
        "colab": {}
      },
      "source": [
        "fig=plt.figure()\n",
        "ax=fig.add_axes([0,0,1,1])\n",
        "ax.plot(x,x**2,label='Square')\n",
        "ax.plot(x,x**2,label='Cubes')\n",
        "ax.legend();"
      ],
      "execution_count": 0,
      "outputs": []
    },
    {
      "cell_type": "code",
      "metadata": {
        "id": "8uNjnrdAqbV2",
        "colab_type": "code",
        "colab": {}
      },
      "source": [
        "ax.legend(loc=1)\n",
        "ax.legend(loc=5)\n",
        "ax.legend(loc=9)\n",
        "fig"
      ],
      "execution_count": 0,
      "outputs": []
    },
    {
      "cell_type": "code",
      "metadata": {
        "id": "EjDeSTZqq7-7",
        "colab_type": "code",
        "colab": {}
      },
      "source": [
        "# Matlab style\n",
        "fig,ax=plt.subplots()\n",
        "ax.plot"
      ],
      "execution_count": 0,
      "outputs": []
    },
    {
      "cell_type": "markdown",
      "metadata": {
        "id": "4GRDtgzUsD8i",
        "colab_type": "text"
      },
      "source": [
        "#Imitate a real world example"
      ]
    },
    {
      "cell_type": "code",
      "metadata": {
        "id": "OqaO9F-Hr9F5",
        "colab_type": "code",
        "colab": {}
      },
      "source": [
        "from IPython.display import display, Image\n",
        "url=''\n"
      ],
      "execution_count": 0,
      "outputs": []
    },
    {
      "cell_type": "code",
      "metadata": {
        "id": "1p87R3pHsT5c",
        "colab_type": "code",
        "colab": {}
      },
      "source": [
        "# wht styles are available\n",
        "plt.style.available\n",
        "# that's not a method\n",
        "plt.style.use('fivethirtyeight')"
      ],
      "execution_count": 0,
      "outputs": []
    },
    {
      "cell_type": "code",
      "metadata": {
        "id": "2jBJP6l8sk2N",
        "colab_type": "code",
        "colab": {}
      },
      "source": [
        "fakelist=[38,3,2,1,2,4,6,5,33,10]"
      ],
      "execution_count": 0,
      "outputs": []
    },
    {
      "cell_type": "code",
      "metadata": {
        "id": "GwSSLCBZstU6",
        "colab_type": "code",
        "colab": {
          "base_uri": "https://localhost:8080/",
          "height": 285
        },
        "outputId": "d5739fb5-71cd-4fc1-9fb1-594ce28d2cf7"
      },
      "source": [
        "# replicate this figure post\n",
        "fakes=pd.Series(fakelist, index=range(1,11))\n",
        "fakes.plot.bar(color='C1',width=0.9)"
      ],
      "execution_count": 26,
      "outputs": [
        {
          "output_type": "execute_result",
          "data": {
            "text/plain": [
              "<matplotlib.axes._subplots.AxesSubplot at 0x7f5e63e2def0>"
            ]
          },
          "metadata": {
            "tags": []
          },
          "execution_count": 26
        },
        {
          "output_type": "display_data",
          "data": {
            "image/png": "[encoded data removed]",
            "text/plain": [
              "<Figure size 432x288 with 1 Axes>"
            ]
          },
          "metadata": {
            "tags": []
          }
        }
      ]
    },
    {
      "cell_type": "code",
      "metadata": {
        "id": "KKprSLV6somw",
        "colab_type": "code",
        "colab": {}
      },
      "source": [
        "fakelist2=[]"
      ],
      "execution_count": 0,
      "outputs": []
    },
    {
      "cell_type": "code",
      "metadata": {
        "id": "Yf1Clwsbsdz4",
        "colab_type": "code",
        "colab": {}
      },
      "source": [
        ""
      ],
      "execution_count": 0,
      "outputs": []
    },
    {
      "cell_type": "markdown",
      "metadata": {
        "id": "0wSrBzmJyWaV",
        "colab_type": "text"
      },
      "source": [
        "# STRETCH OPTIONS\n",
        "\n",
        "### 1) Reproduce one of the following using the matplotlib or seaborn libraries:\n",
        "\n",
        "- [thanksgiving-2015](https://fivethirtyeight.com/features/heres-what-your-part-of-america-eats-on-thanksgiving/) \n",
        "- [candy-power-ranking](https://fivethirtyeight.com/features/the-ultimate-halloween-candy-power-ranking/) \n",
        "- or another example of your choice!\n",
        "\n",
        "### 2) Make more charts!\n",
        "\n",
        "Choose a chart you want to make, from [Visual Vocabulary - Vega Edition](http://ft.com/vocabulary).\n",
        "\n",
        "Find the chart in an example gallery of a Python data visualization library:\n",
        "- [Seaborn](http://seaborn.pydata.org/examples/index.html)\n",
        "- [Altair](https://altair-viz.github.io/gallery/index.html)\n",
        "- [Matplotlib](https://matplotlib.org/gallery.html)\n",
        "- [Pandas](https://pandas.pydata.org/pandas-docs/stable/visualization.html)\n",
        "\n",
        "Reproduce the chart. [Optionally, try the \"Ben Franklin Method.\"](https://docs.google.com/document/d/1ubOw9B3Hfip27hF2ZFnW3a3z9xAgrUDRReOEo-FHCVs/edit) If you want, experiment and make changes.\n",
        "\n",
        "Take notes. Consider sharing your work with your cohort!"
      ]
    },
    {
      "cell_type": "code",
      "metadata": {
        "id": "dRJkKftiy5BJ",
        "colab_type": "code",
        "colab": {}
      },
      "source": [
        "# More Work Here"
      ],
      "execution_count": 0,
      "outputs": []
    }
  ]
}