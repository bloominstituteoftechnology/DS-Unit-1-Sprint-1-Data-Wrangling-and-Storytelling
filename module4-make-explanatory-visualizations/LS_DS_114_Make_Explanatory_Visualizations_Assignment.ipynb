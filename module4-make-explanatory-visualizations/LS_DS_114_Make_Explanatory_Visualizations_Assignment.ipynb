{
  "nbformat": 4,
  "nbformat_minor": 0,
  "metadata": {
    "colab": {
      "name": "dec5LS_DS_114_Make_Explanatory_Visualizations_Assignment.ipynb",
      "provenance": [],
      "collapsed_sections": [],
      "include_colab_link": true
    },
    "language_info": {
      "codemirror_mode": {
        "name": "ipython",
        "version": 3
      },
      "file_extension": ".py",
      "mimetype": "text/x-python",
      "name": "python",
      "nbconvert_exporter": "python",
      "pygments_lexer": "ipython3",
      "version": "3.7.1"
    },
    "kernelspec": {
      "display_name": "Python 3",
      "language": "python",
      "name": "python3"
    }
  },
  "cells": [
    {
      "cell_type": "markdown",
      "metadata": {
        "id": "view-in-github",
        "colab_type": "text"
      },
      "source": [
        "<a href=\"https://colab.research.google.com/github/jose-marquez89/DS-Unit-1-Sprint-1-Data-Wrangling-and-Storytelling/blob/master/module4-make-explanatory-visualizations/LS_DS_114_Make_Explanatory_Visualizations_Assignment.ipynb\" target=\"_parent\"><img src=\"https://colab.research.google.com/assets/colab-badge.svg\" alt=\"Open In Colab\"/></a>"
      ]
    },
    {
      "cell_type": "markdown",
      "metadata": {
        "colab_type": "text",
        "id": "NMEswXWh9mqw"
      },
      "source": [
        "Lambda School Data Science\n",
        "\n",
        "*Unit 1, Sprint 1, Module 4*\n",
        "\n",
        "---\n",
        "\n",
        "# ASSIGNMENT\n",
        "\n",
        "### 1) Replicate the lesson code. I recommend that you [do not copy-paste](https://docs.google.com/document/d/1ubOw9B3Hfip27hF2ZFnW3a3z9xAgrUDRReOEo-FHCVs/edit).\n",
        "\n",
        "Get caught up to where we got our example in class and then try and take things further. How close to \"pixel perfect\" can you make the lecture graph?\n",
        "\n",
        "Once you have something that you're proud of, share your graph in the cohort channel and move on to the second exercise.\n",
        "\n",
        "### 2) Reproduce another example from [FiveThityEight's shared data repository](https://data.fivethirtyeight.com/).\n",
        "\n",
        "**WARNING**: There are a lot of very custom graphs and tables at the above link. I **highly** recommend not trying to reproduce any that look like a table of values or something really different from the graph types that we are already familiar with. Search through the posts until you find a graph type that you are more or less familiar with: histogram, bar chart, stacked bar chart, line chart, [seaborn relplot](https://seaborn.pydata.org/generated/seaborn.relplot.html), etc. Recreating some of the graphics that 538 uses would be a lot easier in Adobe photoshop/illustrator than with matplotlib. \n",
        "\n",
        "- If you put in some time to find a graph that looks \"easy\" to replicate you'll probably find that it's not as easy as you thought. \n",
        "\n",
        "- If you start with a graph that looks hard to replicate you'll probably run up against a brick wall and be disappointed with your afternoon.\n",
        "\n",
        "\n",
        "\n",
        "\n",
        "\n",
        "\n",
        "\n",
        "\n",
        "\n",
        "\n"
      ]
    },
    {
      "cell_type": "code",
      "metadata": {
        "id": "7SY1ZHawyZvz",
        "colab_type": "code",
        "outputId": "b892d3e6-b45d-41fd-ce41-4e5c7cfc2901",
        "colab": {
          "base_uri": "https://localhost:8080/",
          "height": 355
        }
      },
      "source": [
        "import pandas as pd\n",
        "from IPython.display import display, Image\n",
        "# display the target image\n",
        "\n",
        "url = 'https://fivethirtyeight.com/wp-content/uploads/2017/09/mehtahickey-inconvenient-0830-1.png'\n",
        "example = Image(url=url, width=400)\n",
        "\n",
        "display(example)"
      ],
      "execution_count": 0,
      "outputs": [
        {
          "output_type": "display_data",
          "data": {
            "text/html": [
              "<img src=\"https://fivethirtyeight.com/wp-content/uploads/2017/09/mehtahickey-inconvenient-0830-1.png\" width=\"400\"/>"
            ],
            "text/plain": [
              "<IPython.core.display.Image object>"
            ]
          },
          "metadata": {
            "tags": []
          }
        }
      ]
    },
    {
      "cell_type": "code",
      "metadata": {
        "id": "Qf478Dth5eyi",
        "colab_type": "code",
        "colab": {}
      },
      "source": [
        "# fake data\n",
        "fake = pd.Series([38, 3, 2, 1, 2, 4, 6, 5, 5, 33],\n",
        "                 index=range(1, 11))"
      ],
      "execution_count": 0,
      "outputs": []
    },
    {
      "cell_type": "code",
      "metadata": {
        "id": "y9jQjGMP5fwD",
        "colab_type": "code",
        "outputId": "47bb944f-7080-4e5b-d8ad-3dba27e0b5a7",
        "colab": {
          "base_uri": "https://localhost:8080/",
          "height": 352
        }
      },
      "source": [
        "import matplotlib.pyplot as plt\n",
        "\n",
        "# set stylesheet\n",
        "plt.style.use('fivethirtyeight')\n",
        "\n",
        "# make figure and axes\n",
        "fig, ax = plt.subplots()\n",
        "\n",
        "# white bg\n",
        "fig.patch.set(facecolor='white')\n",
        "\n",
        "# fake data bars\n",
        "fake.plot.bar(width=0.9, color='#ED713A')\n",
        "\n",
        "# axes bg color\n",
        "ax.set(facecolor='white')\n",
        "\n",
        "# plot title\n",
        "ax.set_title(\"'An Inconvenient Sequel: Truth To Power' is divisive\", \n",
        "             fontsize=12, fontweight='bold', x=.35, y=1.1)\n",
        "\n",
        "# ylabel\n",
        "ax.set_ylabel('Percent of total votes', fontsize=9, fontweight='bold')\n",
        "\n",
        "# xlabel\n",
        "ax.set_xlabel('Rating', fontsize=9, fontweight='bold')\n",
        "\n",
        "# subtitle\n",
        "ax.text(s='IMDb ratings for the film as of Aug. 29', y=42, x=-1.93, fontsize=11.45)\n",
        "\n",
        "# y axis labels, tick marks and grid lines, make transparent\n",
        "ax.set_yticklabels(['0', '10', '20', '30', '40%'], fontsize=10, alpha=.35)\n",
        "ax.set_yticks(range(0, 50, 10))\n",
        "\n",
        "# x axis labels, tick marks and grid lines, make transparent\n",
        "ax.set_xticklabels(range(1, 11, 1), rotation='horizontal', fontsize=10, alpha=.35)\n",
        "\n",
        "# hide right and left spines\n",
        "ax.spines['right'].set_visible(False)\n",
        "ax.spines['left'].set_visible(False)\n",
        "\n",
        "# SOURCE: IMDB\n",
        "ax.text(9.6, -8, \"SOURCE:IMDB\",\n",
        "        fontsize=7, ha=\"right\", color='.5',\n",
        "        fontweight='bold')\n",
        "# FiveThirtyEight\n",
        "ax.text(-1.5, -8, \"FiveThirtyEight\",\n",
        "        fontsize=7.5, ha=\"left\", color='.5')\n",
        "\n",
        "fig.show()"
      ],
      "execution_count": 0,
      "outputs": [
        {
          "output_type": "display_data",
          "data": {
            "image/png": "[encoded data removed]",
            "text/plain": [
              "<Figure size 432x288 with 1 Axes>"
            ]
          },
          "metadata": {
            "tags": []
          }
        }
      ]
    },
    {
      "cell_type": "code",
      "metadata": {
        "id": "MgKQ4KasLuad",
        "colab_type": "code",
        "outputId": "88430993-a75f-462c-9f35-c1991a7c08aa",
        "colab": {
          "base_uri": "https://localhost:8080/",
          "height": 159
        }
      },
      "source": [
        "# Reproducing my own graph\n",
        "\n",
        "# Get the data\n",
        "df = pd.read_csv('https://raw.githubusercontent.com/fivethirtyeight/\\\n",
        "actblue-analysis/master/data/actblue_contribs_by_cycle.csv')\n",
        "\n",
        "print(df.shape)\n",
        "df.head()"
      ],
      "execution_count": 0,
      "outputs": [
        {
          "output_type": "stream",
          "text": [
            "(3, 3)\n"
          ],
          "name": "stdout"
        },
        {
          "output_type": "execute_result",
          "data": {
            "text/html": [
              "<div>\n",
              "<style scoped>\n",
              "    .dataframe tbody tr th:only-of-type {\n",
              "        vertical-align: middle;\n",
              "    }\n",
              "\n",
              "    .dataframe tbody tr th {\n",
              "        vertical-align: top;\n",
              "    }\n",
              "\n",
              "    .dataframe thead th {\n",
              "        text-align: right;\n",
              "    }\n",
              "</style>\n",
              "<table border=\"1\" class=\"dataframe\">\n",
              "  <thead>\n",
              "    <tr style=\"text-align: right;\">\n",
              "      <th></th>\n",
              "      <th>cycle</th>\n",
              "      <th>count</th>\n",
              "      <th>sum</th>\n",
              "    </tr>\n",
              "  </thead>\n",
              "  <tbody>\n",
              "    <tr>\n",
              "      <th>0</th>\n",
              "      <td>2014.0</td>\n",
              "      <td>3361213</td>\n",
              "      <td>1.139513e+08</td>\n",
              "    </tr>\n",
              "    <tr>\n",
              "      <th>1</th>\n",
              "      <td>2016.0</td>\n",
              "      <td>6747187</td>\n",
              "      <td>2.221072e+08</td>\n",
              "    </tr>\n",
              "    <tr>\n",
              "      <th>2</th>\n",
              "      <td>2018.0</td>\n",
              "      <td>15272992</td>\n",
              "      <td>5.636850e+08</td>\n",
              "    </tr>\n",
              "  </tbody>\n",
              "</table>\n",
              "</div>"
            ],
            "text/plain": [
              "    cycle     count           sum\n",
              "0  2014.0   3361213  1.139513e+08\n",
              "1  2016.0   6747187  2.221072e+08\n",
              "2  2018.0  15272992  5.636850e+08"
            ]
          },
          "metadata": {
            "tags": []
          },
          "execution_count": 10
        }
      ]
    },
    {
      "cell_type": "code",
      "metadata": {
        "id": "1bxlqnfpX5tX",
        "colab_type": "code",
        "outputId": "c59f73de-754a-41e4-ff84-7a0888e7e723",
        "colab": {
          "base_uri": "https://localhost:8080/",
          "height": 417
        }
      },
      "source": [
        "# create figure and axes\n",
        "fig, (ax1, ax2) = plt.subplots(1, 2)\n",
        "\n",
        "# main title\n",
        "fig.suptitle('ActBlue has only gotten more popular', \n",
        "             fontsize=14, fontweight='bold', y=1.16)\n",
        "\n",
        "# main subtitle\n",
        "fig.text(s='Number and total dollar amount of contributions\\\n",
        " made via ActBlue to \\nHouse and Senate candidates in a two\\\n",
        " year period*', x=0.5, y=1, fontsize=13, ha='center', alpha=0.8)\n",
        "\n",
        "# Source text\n",
        "fig.text(s='SOURCE: FEDERAL ELECTION COMMISSION', \n",
        "         fontsize=7, x=0.615, y=-0.175, alpha=0.5)\n",
        "\n",
        "# FiveThirtyEight text\n",
        "fig.text(s='FiveThirtyEight', \n",
        "         fontsize=7.5, x=0.02, y=-0.175, alpha=0.5)\n",
        "\n",
        "# Fine print\n",
        "fig.text(s='For 2014 and 2016, data covers Jan. 1 of the year before the\\\n",
        "election through Dec. 31 of the election \\nyear. For 2018, data covers\\\n",
        "Jan. 1, 2017, through Sept. 30, 2018.', \n",
        "fontsize=7.5, x=0.02, y=-0.1, ha='left', alpha=0.5)\n",
        "\n",
        "# white fig bg\n",
        "fig.patch.set(facecolor='white')\n",
        "\n",
        "# white axes bg\n",
        "ax1.set(facecolor='white')\n",
        "ax2.set(facecolor='white')\n",
        "\n",
        "# remove ax1 top, right and left spines\n",
        "ax1.spines['top'].set_visible(False)\n",
        "ax1.spines['right'].set_visible(False)\n",
        "ax1.spines['left'].set_visible(False)\n",
        "\n",
        "# remove ax2 top, right and left spines\n",
        "ax2.spines['top'].set_visible(False)\n",
        "ax2.spines['right'].set_visible(False)\n",
        "ax2.spines['left'].set_visible(False)\n",
        "\n",
        "# make bottom spine thinner and black\n",
        "ax1.spines['bottom'].set_color('black')\n",
        "ax1.spines['bottom'].set_linewidth(1.10)\n",
        "ax2.spines['bottom'].set_color('black')\n",
        "ax2.spines['bottom'].set_linewidth(1.10)\n",
        "\n",
        "# remove vertical grid lines\n",
        "ax1.grid(b=False, axis='x')\n",
        "ax2.grid(b=False, axis='x')\n",
        "\n",
        "# ax bar colors, width\n",
        "ax1.bar(df['cycle'], df['count'], color='#A4DEAD', width=1.895)\n",
        "ax2.bar(df['cycle'], df['sum'], color='#2B82B9', width=1.895)\n",
        "\n",
        "# ax titles\n",
        "ax1.set_title('Number of contributions', fontsize=10, fontweight='bold')\n",
        "ax2.set_title('Total amount in dollars', fontsize=10, fontweight='bold')\n",
        "\n",
        "# x axis labels\n",
        "ax1.set_xticklabels(['0', \"2014\", \"'16\", \"'18\"], fontsize=10, fontweight='bold')\n",
        "ax2.set_xticklabels(['0', \"2014\", \"'16\", \"'18\"], fontsize=10, fontweight='bold') \n",
        "\n",
        "# change y axis ticks and labels\n",
        "ax1.set_yticklabels(['0', '5', '10', '15m'], fontsize=9.48, alpha=0.5)\n",
        "ax1.set_yticks(range(0, 20000000, 5000000))\n",
        "ax2.set_yticklabels(['0', '250', '$500m'], fontsize=9.48, alpha=0.5)\n",
        "ax2.set_yticks(range(0, 750000000, 250000000))\n",
        "\n",
        "plt.show()"
      ],
      "execution_count": 0,
      "outputs": [
        {
          "output_type": "display_data",
          "data": {
            "image/png": "[encoded data removed]",
            "text/plain": [
              "<Figure size 432x288 with 2 Axes>"
            ]
          },
          "metadata": {
            "tags": []
          }
        }
      ]
    },
    {
      "cell_type": "code",
      "metadata": {
        "id": "n8iWosOpJC8Q",
        "colab_type": "code",
        "colab": {}
      },
      "source": [
        ""
      ],
      "execution_count": 0,
      "outputs": []
    },
    {
      "cell_type": "code",
      "metadata": {
        "id": "qd4mtNZ_cquK",
        "colab_type": "code",
        "outputId": "714436b7-af9d-4d75-8ce1-77a029863e96",
        "colab": {
          "base_uri": "https://localhost:8080/",
          "height": 436
        }
      },
      "source": [
        "# What I tried to replicate\n",
        "img_url = 'https://fivethirtyeight.com/wp-content/uploads/2018/10/actblue-1.png?w=575'\n",
        "ex = Image(url=img_url, width=475)\n",
        "display(ex)"
      ],
      "execution_count": 0,
      "outputs": [
        {
          "output_type": "display_data",
          "data": {
            "text/html": [
              "<img src=\"https://fivethirtyeight.com/wp-content/uploads/2018/10/actblue-1.png?w=575\" width=\"475\"/>"
            ],
            "text/plain": [
              "<IPython.core.display.Image object>"
            ]
          },
          "metadata": {
            "tags": []
          }
        }
      ]
    },
    {
      "cell_type": "markdown",
      "metadata": {
        "id": "0wSrBzmJyWaV",
        "colab_type": "text"
      },
      "source": [
        "# STRETCH OPTIONS\n",
        "\n",
        "### 1) Reproduce one of the following using the matplotlib or seaborn libraries:\n",
        "\n",
        "- [thanksgiving-2015](https://fivethirtyeight.com/features/heres-what-your-part-of-america-eats-on-thanksgiving/) \n",
        "- [candy-power-ranking](https://fivethirtyeight.com/features/the-ultimate-halloween-candy-power-ranking/) \n",
        "- or another example of your choice!\n",
        "\n",
        "### 2) Make more charts!\n",
        "\n",
        "Choose a chart you want to make, from [Visual Vocabulary - Vega Edition](http://ft.com/vocabulary).\n",
        "\n",
        "Find the chart in an example gallery of a Python data visualization library:\n",
        "- [Seaborn](http://seaborn.pydata.org/examples/index.html)\n",
        "- [Altair](https://altair-viz.github.io/gallery/index.html)\n",
        "- [Matplotlib](https://matplotlib.org/gallery.html)\n",
        "- [Pandas](https://pandas.pydata.org/pandas-docs/stable/visualization.html)\n",
        "\n",
        "Reproduce the chart. [Optionally, try the \"Ben Franklin Method.\"](https://docs.google.com/document/d/1ubOw9B3Hfip27hF2ZFnW3a3z9xAgrUDRReOEo-FHCVs/edit) If you want, experiment and make changes.\n",
        "\n",
        "Take notes. Consider sharing your work with your cohort!"
      ]
    },
    {
      "cell_type": "code",
      "metadata": {
        "id": "dRJkKftiy5BJ",
        "colab_type": "code",
        "colab": {}
      },
      "source": [
        "# More Work Here"
      ],
      "execution_count": 0,
      "outputs": []
    }
  ]
}