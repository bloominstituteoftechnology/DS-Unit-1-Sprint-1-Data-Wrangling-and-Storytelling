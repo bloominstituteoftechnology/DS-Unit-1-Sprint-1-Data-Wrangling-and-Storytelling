{
  "nbformat": 4,
  "nbformat_minor": 0,
  "metadata": {
    "colab": {
      "name": "LS_DS_114_Make_Explanatory_Visualizations_Assignment.ipynb",
      "provenance": [],
      "collapsed_sections": []
    },
    "language_info": {
      "codemirror_mode": {
        "name": "ipython",
        "version": 3
      },
      "file_extension": ".py",
      "mimetype": "text/x-python",
      "name": "python",
      "nbconvert_exporter": "python",
      "pygments_lexer": "ipython3",
      "version": "3.7.1"
    },
    "kernelspec": {
      "display_name": "Python 3",
      "language": "python",
      "name": "python3"
    }
  },
  "cells": [
    {
      "cell_type": "markdown",
      "metadata": {
        "colab_type": "text",
        "id": "NMEswXWh9mqw"
      },
      "source": [
        "Lambda School Data Science\n",
        "\n",
        "*Unit 1, Sprint 1, Module 4*\n",
        "\n",
        "---\n",
        "\n",
        "# ASSIGNMENT\n",
        "\n",
        "### 1) Replicate the lesson code. I recommend that you [do not copy-paste](https://docs.google.com/document/d/1ubOw9B3Hfip27hF2ZFnW3a3z9xAgrUDRReOEo-FHCVs/edit).\n",
        "\n",
        "Get caught up to where we got our example in class and then try and take things further. How close to \"pixel perfect\" can you make the lecture graph?\n",
        "\n",
        "Once you have something that you're proud of, share your graph in the cohort channel and move on to the second exercise.\n",
        "\n",
        "### 2) Reproduce another example from [FiveThityEight's shared data repository](https://data.fivethirtyeight.com/).\n",
        "\n",
        "**WARNING**: There are a lot of very custom graphs and tables at the above link. I **highly** recommend not trying to reproduce any that look like a table of values or something really different from the graph types that we are already familiar with. Search through the posts until you find a graph type that you are more or less familiar with: histogram, bar chart, stacked bar chart, line chart, [seaborn relplot](https://seaborn.pydata.org/generated/seaborn.relplot.html), etc. Recreating some of the graphics that 538 uses would be a lot easier in Adobe photoshop/illustrator than with matplotlib. \n",
        "\n",
        "- If you put in some time to find a graph that looks \"easy\" to replicate you'll probably find that it's not as easy as you thought. \n",
        "\n",
        "- If you start with a graph that looks hard to replicate you'll probably run up against a brick wall and be disappointed with your afternoon.\n",
        "\n",
        "\n",
        "\n",
        "\n",
        "\n",
        "\n",
        "\n",
        "\n",
        "\n",
        "\n"
      ]
    },
    {
      "cell_type": "code",
      "metadata": {
        "id": "7SY1ZHawyZvz",
        "colab_type": "code",
        "colab": {
          "base_uri": "https://localhost:8080/",
          "height": 355
        },
        "outputId": "87f83c20-00ca-49ee-b200-ab87301fb9d3"
      },
      "source": [
        "# Your Work Here\n",
        "\n",
        "from IPython.display import display, Image\n",
        "\n",
        "url = 'https://fivethirtyeight.com/wp-content/uploads/2017/09/mehtahickey-inconvenient-0830-1.png'\n",
        "example = Image(url=url, width=400)\n",
        "\n",
        "display(example)"
      ],
      "execution_count": 1,
      "outputs": [
        {
          "output_type": "display_data",
          "data": {
            "text/html": [
              "<img src=\"https://fivethirtyeight.com/wp-content/uploads/2017/09/mehtahickey-inconvenient-0830-1.png\" width=\"400\"/>"
            ],
            "text/plain": [
              "<IPython.core.display.Image object>"
            ]
          },
          "metadata": {
            "tags": []
          }
        }
      ]
    },
    {
      "cell_type": "code",
      "metadata": {
        "id": "O3IqChT8NHfi",
        "colab_type": "code",
        "colab": {}
      },
      "source": [
        "%matplotlib inline\n",
        "import matplotlib.pyplot as plt\n",
        "import numpy as np\n",
        "import pandas as pd\n",
        "\n",
        "\n",
        "fake = pd.Series([38, 3, 2, 1, 2, 4, 6, 5, 5, 33], \n",
        "                 index=range(1,11))\n",
        "import matplotlib.font_manager\n"
      ],
      "execution_count": 0,
      "outputs": []
    },
    {
      "cell_type": "code",
      "metadata": {
        "id": "36O7uv9vNTXM",
        "colab_type": "code",
        "colab": {
          "base_uri": "https://localhost:8080/",
          "height": 373
        },
        "outputId": "21c27198-2b1a-4c6f-bd6d-f2ea3feaff68"
      },
      "source": [
        "#set style sheet for graphs\n",
        "plt.style.use('fivethirtyeight')\n",
        "\n",
        "#create figure and axes variables\n",
        "fig, ax = plt.subplots()\n",
        "\n",
        "\n",
        "#plot, color and shape bar\n",
        "ax.bar(x=range(1,11,1), height=fake, color='#ed713a', width=0.9)\n",
        "\n",
        "#set figure background\n",
        "fig.set_facecolor(color='None')\n",
        "\n",
        "#set axes background\n",
        "ax.set_facecolor(color='None')\n",
        "\n",
        "#set x label\n",
        "ax.set_xlabel('Rating', fontsize=9, fontweight='bold')\n",
        "\n",
        "#set y label\n",
        "ax.set_ylabel('Percent of total votes', fontsize=9, fontweight='bold')\n",
        "\n",
        "#set x ticks\n",
        "ax.set_xticks(range(1,11,1))\n",
        "\n",
        "#set y ticks\n",
        "ax.set_yticks(range(0,50,10))\n",
        "\n",
        "#set x tick labels\n",
        "ax.set_xticklabels(range(1,11,1), alpha=.5, fontsize=9, y=-.03)\n",
        "\n",
        "#set y tick labels\n",
        "ax.set_yticklabels([0,10,20,30,'40%'], alpha=.5, fontsize=9, x=0.03)\n",
        "\n",
        "#remove right spine\n",
        "ax.spines['right'].set_visible(False)\n",
        "\n",
        "#remove left spine\n",
        "ax.spines['left'].set_visible(False)\n",
        "\n",
        "#Title\n",
        "ax.set_title(\"'An Inconvenient Sequel: Truth To Power' is divisive\", fontsize=13, x=.37, y=1.15, fontweight='bold')\n",
        "\n",
        "#subtitle\n",
        "ax.text(s=\"IMDb ratings for the film as of Aug. 29\", x=-1.4, y=44, fontsize=11)\n",
        "\n",
        "\n",
        "#decrease boldens of gridlines\n",
        "ax.tick_params(grid_alpha=.5)\n",
        "\n",
        "#add footer\n",
        "ax.text(s='______________________________________________________________', x=-1.4, y=-6.5, alpha=.5)\n",
        "ax.text(s='FiveThirtyEight', x=-1.4, y=-9.5, fontsize=9, alpha=.5)\n",
        "ax.text(s='Source: IMDB', x=9.4, y=-9.5, fontsize=9, alpha=.5)\n",
        "plt.show()"
      ],
      "execution_count": 132,
      "outputs": [
        {
          "output_type": "display_data",
          "data": {
            "image/png": "[encoded data removed]",
            "text/plain": [
              "<Figure size 432x288 with 1 Axes>"
            ]
          },
          "metadata": {
            "tags": []
          }
        }
      ]
    },
    {
      "cell_type": "code",
      "metadata": {
        "id": "pGVwbMIcOiQU",
        "colab_type": "code",
        "colab": {
          "base_uri": "https://localhost:8080/",
          "height": 355
        },
        "outputId": "c2be0ec5-ac62-4946-aad0-31271ddabfba"
      },
      "source": [
        "display(example)"
      ],
      "execution_count": 12,
      "outputs": [
        {
          "output_type": "display_data",
          "data": {
            "text/html": [
              "<img src=\"https://fivethirtyeight.com/wp-content/uploads/2017/09/mehtahickey-inconvenient-0830-1.png\" width=\"400\"/>"
            ],
            "text/plain": [
              "<IPython.core.display.Image object>"
            ]
          },
          "metadata": {
            "tags": []
          }
        }
      ]
    },
    {
      "cell_type": "code",
      "metadata": {
        "id": "2k7NnMJihxAp",
        "colab_type": "code",
        "colab": {
          "base_uri": "https://localhost:8080/",
          "height": 278
        },
        "outputId": "23a79c9c-50ee-451a-bbcf-434d35a1be14"
      },
      "source": [
        "from IPython.display import display, Image\n",
        "\n",
        "url = 'https://fivethirtyeight.com/wp-content/uploads/2019/10/Mehta-Media1028-1028-1.png?w=57'\n",
        "example = Image(url=url, width=300)\n",
        "\n",
        "display(example)\n",
        "\n",
        "fake1 = pd.Series([3,3.7,2.8,3.2, 3, 4, 3.5,3.4, 2,2.5,2.8,2.9,3,5,2.5])\n",
        "fake2 = pd.Series([1,2.7,1.8,2.2, 2, 3, 2.5,2.4, 1,1.5,1.8,1.9,2,4,1.2])\n"
      ],
      "execution_count": 176,
      "outputs": [
        {
          "output_type": "display_data",
          "data": {
            "text/html": [
              "<img src=\"https://fivethirtyeight.com/wp-content/uploads/2019/10/Mehta-Media1028-1028-1.png?w=57\" width=\"300\"/>"
            ],
            "text/plain": [
              "<IPython.core.display.Image object>"
            ]
          },
          "metadata": {
            "tags": []
          }
        }
      ]
    },
    {
      "cell_type": "code",
      "metadata": {
        "id": "sEQyrQD7gQ8A",
        "colab_type": "code",
        "colab": {}
      },
      "source": [
        "###https://fivethirtyeight.com/features/the-media-frenzy-around-biden-is-fading/\n",
        "\n",
        "###Read in cable_weekly dataset\n",
        "\n",
        "cable_weekly = pd.read_csv('https://raw.githubusercontent.com/fivethirtyeight/data/master/media-mentions-2020/cable_weekly.csv')\n",
        "print(cable_weekly.dtypes)\n",
        "cable_weekly.head()\n",
        "\n"
      ],
      "execution_count": 0,
      "outputs": []
    },
    {
      "cell_type": "code",
      "metadata": {
        "id": "mrsDBTrMj8ZM",
        "colab_type": "code",
        "colab": {}
      },
      "source": [
        "cable_weekly['name'].value_counts()"
      ],
      "execution_count": 0,
      "outputs": []
    },
    {
      "cell_type": "code",
      "metadata": {
        "id": "nnUGPnoQiIwr",
        "colab_type": "code",
        "colab": {}
      },
      "source": [
        "###Read in online_weekly dataset\n",
        "\n",
        "# online_weekly = pd.read_csv('https://raw.githubusercontent.com/fivethirtyeight/data/master/media-mentions-2020/online_weekly.csv')\n",
        "# print(online_weekly.dtypes)\n",
        "# online_weekly.head()\n"
      ],
      "execution_count": 0,
      "outputs": []
    },
    {
      "cell_type": "code",
      "metadata": {
        "id": "IVjMYltKmjQy",
        "colab_type": "code",
        "colab": {}
      },
      "source": [
        ""
      ],
      "execution_count": 0,
      "outputs": []
    },
    {
      "cell_type": "code",
      "metadata": {
        "id": "WtWaTEkFiwdI",
        "colab_type": "code",
        "colab": {
          "base_uri": "https://localhost:8080/",
          "height": 281
        },
        "outputId": "6c7d6ef5-8e80-4bad-d7a1-68b993951220"
      },
      "source": [
        "#set style for plot\n",
        "plt.style.use('fivethirtyeight')\n",
        "\n",
        "#set up figure and axes subplot\n",
        "fig1, ax1 = plt.subplots()\n",
        "\n",
        "#plot grapghs\n",
        "ax1.plot(fake1)\n",
        "ax1.plot(fake2)\n",
        "\n",
        "#set x ticks\n",
        "ax1.set_xticks(range(1,16,3))\n",
        "\n",
        "#set y ticks\n",
        "ax1.set_yticks(range(1,6,1))\n",
        "\n",
        "\n",
        "#set x tick label\n",
        "ax1.set_xticklabels([\"'MAY '19\", 'JUNE', 'JULY', 'AUG.', 'SEPT.', 'OCT.'], fontsize=13, alpha=.5)\n",
        "\n",
        "#set y tick label\n",
        "ax1.set_yticklabels(['Even', 2, 3, 4, '5x'], fontsize=13, alpha=.5)\n",
        "\n",
        "\n",
        "plt.show()"
      ],
      "execution_count": 186,
      "outputs": [
        {
          "output_type": "display_data",
          "data": {
            "image/png": "[encoded data removed]",
            "text/plain": [
              "<Figure size 432x288 with 1 Axes>"
            ]
          },
          "metadata": {
            "tags": []
          }
        }
      ]
    },
    {
      "cell_type": "markdown",
      "metadata": {
        "id": "0wSrBzmJyWaV",
        "colab_type": "text"
      },
      "source": [
        "# STRETCH OPTIONS\n",
        "\n",
        "### 1) Reproduce one of the following using the matplotlib or seaborn libraries:\n",
        "\n",
        "- [thanksgiving-2015](https://fivethirtyeight.com/features/heres-what-your-part-of-america-eats-on-thanksgiving/) \n",
        "- [candy-power-ranking](https://fivethirtyeight.com/features/the-ultimate-halloween-candy-power-ranking/) \n",
        "- or another example of your choice!\n",
        "\n",
        "### 2) Make more charts!\n",
        "\n",
        "Choose a chart you want to make, from [Visual Vocabulary - Vega Edition](http://ft.com/vocabulary).\n",
        "\n",
        "Find the chart in an example gallery of a Python data visualization library:\n",
        "- [Seaborn](http://seaborn.pydata.org/examples/index.html)\n",
        "- [Altair](https://altair-viz.github.io/gallery/index.html)\n",
        "- [Matplotlib](https://matplotlib.org/gallery.html)\n",
        "- [Pandas](https://pandas.pydata.org/pandas-docs/stable/visualization.html)\n",
        "\n",
        "Reproduce the chart. [Optionally, try the \"Ben Franklin Method.\"](https://docs.google.com/document/d/1ubOw9B3Hfip27hF2ZFnW3a3z9xAgrUDRReOEo-FHCVs/edit) If you want, experiment and make changes.\n",
        "\n",
        "Take notes. Consider sharing your work with your cohort!"
      ]
    },
    {
      "cell_type": "code",
      "metadata": {
        "id": "dRJkKftiy5BJ",
        "colab_type": "code",
        "colab": {}
      },
      "source": [
        "# More Work Here"
      ],
      "execution_count": 0,
      "outputs": []
    }
  ]
}