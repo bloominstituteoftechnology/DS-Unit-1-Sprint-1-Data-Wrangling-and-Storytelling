{
  "nbformat": 4,
  "nbformat_minor": 0,
  "metadata": {
    "colab": {
      "name": "LS_DS_114_Make_Explanatory_Visualizations_Assignment.ipynb",
      "provenance": [],
      "collapsed_sections": []
    },
    "language_info": {
      "codemirror_mode": {
        "name": "ipython",
        "version": 3
      },
      "file_extension": ".py",
      "mimetype": "text/x-python",
      "name": "python",
      "nbconvert_exporter": "python",
      "pygments_lexer": "ipython3",
      "version": "3.7.1"
    },
    "kernelspec": {
      "display_name": "Python 3",
      "language": "python",
      "name": "python3"
    }
  },
  "cells": [
    {
      "cell_type": "markdown",
      "metadata": {
        "colab_type": "text",
        "id": "NMEswXWh9mqw"
      },
      "source": [
        "Lambda School Data Science\n",
        "\n",
        "*Unit 1, Sprint 1, Module 4*\n",
        "\n",
        "---\n",
        "\n",
        "# ASSIGNMENT\n",
        "\n",
        "### 1) Replicate the lesson code. I recommend that you [do not copy-paste](https://docs.google.com/document/d/1ubOw9B3Hfip27hF2ZFnW3a3z9xAgrUDRReOEo-FHCVs/edit).\n",
        "\n",
        "Get caught up to where we got our example in class and then try and take things further. How close to \"pixel perfect\" can you make the lecture graph?\n",
        "\n",
        "Once you have something that you're proud of, share your graph in the cohort channel and move on to the second exercise.\n",
        "\n",
        "### 2) Reproduce another example from [FiveThityEight's shared data repository](https://data.fivethirtyeight.com/).\n",
        "\n",
        "**WARNING**: There are a lot of very custom graphs and tables at the above link. I **highly** recommend not trying to reproduce any that look like a table of values or something really different from the graph types that we are already familiar with. Search through the posts until you find a graph type that you are more or less familiar with: histogram, bar chart, stacked bar chart, line chart, [seaborn relplot](https://seaborn.pydata.org/generated/seaborn.relplot.html), etc. Recreating some of the graphics that 538 uses would be a lot easier in Adobe photoshop/illustrator than with matplotlib. \n",
        "\n",
        "- If you put in some time to find a graph that looks \"easy\" to replicate you'll probably find that it's not as easy as you thought. \n",
        "\n",
        "- If you start with a graph that looks hard to replicate you'll probably run up against a brick wall and be disappointed with your afternoon.\n",
        "\n",
        "\n",
        "\n",
        "\n",
        "\n",
        "\n",
        "\n",
        "\n",
        "\n",
        "\n"
      ]
    },
    {
      "cell_type": "code",
      "metadata": {
        "id": "EOvCDiLxTzJI",
        "colab_type": "code",
        "colab": {}
      },
      "source": [
        "%matplotlib inline\n",
        "import matplotlib.pyplot as plt\n",
        "import numpy as np\n",
        "import pandas as pd"
      ],
      "execution_count": 0,
      "outputs": []
    },
    {
      "cell_type": "markdown",
      "metadata": {
        "id": "eFaQCiHyTsj3",
        "colab_type": "text"
      },
      "source": [
        "First plot"
      ]
    },
    {
      "cell_type": "code",
      "metadata": {
        "id": "vRgbsKUl8e-s",
        "colab_type": "code",
        "colab": {
          "base_uri": "https://localhost:8080/",
          "height": 264
        },
        "outputId": "aa6d696b-5885-41dd-f679-2293751958e7"
      },
      "source": [
        "ratings = pd.Series([38, 3, 2, 1, 2, 4, 6, 5, 5, 33], \n",
        "                 index=range(1,11))\n",
        "ratings.plot.bar(color='C1', width=0.9);"
      ],
      "execution_count": 109,
      "outputs": [
        {
          "output_type": "display_data",
          "data": {
            "image/png": "[encoded data removed]",
            "text/plain": [
              "<Figure size 432x288 with 1 Axes>"
            ]
          },
          "metadata": {
            "tags": []
          }
        }
      ]
    },
    {
      "cell_type": "code",
      "metadata": {
        "id": "7SY1ZHawyZvz",
        "colab_type": "code",
        "colab": {
          "base_uri": "https://localhost:8080/",
          "height": 323
        },
        "outputId": "79dbed22-460d-4533-8f97-6462688b3603"
      },
      "source": [
        "fig, ax = plt.subplots()\n",
        "fig.patch.set(facecolor=\"white\")\n",
        "\n",
        "ax.bar(x=range(1,11), height=ratings, width=0.9, color='#ED713A')\n",
        "ax.set_title(\"'An Inconvenient Sequel: Truth To Power' is divisive\", fontsize=13, x=0.39, y=1.15, fontweight='semibold')\n",
        "ax.text(s='IMDb ratings for the film as of Aug. 29', fontsize=11, x=-1.2, y=44);\n",
        "\n",
        "ax.set_xlabel('Rating', fontsize=9, fontweight='semibold')\n",
        "ax.set_ylabel('Percent of total votes', fontsize=9, fontweight='semibold')\n",
        "\n",
        "ax.set(facecolor='white')\n",
        "\n",
        "ax.set_xticklabels(range(1, 11), rotation=0)\n",
        "ax.set_xticks(range(1,11))\n",
        "ax.set_yticklabels(range(0, 50, 10))\n",
        "ax.set_yticks(range(0, 50, 10));"
      ],
      "execution_count": 113,
      "outputs": [
        {
          "output_type": "display_data",
          "data": {
            "image/png": "[encoded data removed]",
            "text/plain": [
              "<Figure size 432x288 with 1 Axes>"
            ]
          },
          "metadata": {
            "tags": []
          }
        }
      ]
    },
    {
      "cell_type": "markdown",
      "metadata": {
        "id": "qOJNQ3xo9hOH",
        "colab_type": "text"
      },
      "source": [
        "With real data"
      ]
    },
    {
      "cell_type": "code",
      "metadata": {
        "id": "LzPLoL9n9jEA",
        "colab_type": "code",
        "colab": {
          "base_uri": "https://localhost:8080/",
          "height": 34
        },
        "outputId": "fbd28129-2c4e-4ad7-9c7d-16b0a318c2fd"
      },
      "source": [
        "ratings_real = pd.read_csv('https://raw.githubusercontent.com/fivethirtyeight/data/master/inconvenient-sequel/ratings.csv')\n",
        "\n",
        "ratings_real.shape"
      ],
      "execution_count": 114,
      "outputs": [
        {
          "output_type": "execute_result",
          "data": {
            "text/plain": [
              "(80053, 27)"
            ]
          },
          "metadata": {
            "tags": []
          },
          "execution_count": 114
        }
      ]
    },
    {
      "cell_type": "markdown",
      "metadata": {
        "id": "IOcOU0mjTvlJ",
        "colab_type": "text"
      },
      "source": [
        "Second plot"
      ]
    },
    {
      "cell_type": "code",
      "metadata": {
        "id": "TjwWbTAZXYkk",
        "colab_type": "code",
        "colab": {
          "base_uri": "https://localhost:8080/",
          "height": 535
        },
        "outputId": "1dd0fa35-45f8-4f91-d2e7-b4448973de55"
      },
      "source": [
        "fightsongs = pd.read_csv('https://raw.githubusercontent.com/fivethirtyeight/data/master/fight-songs/fight-songs.csv')\n",
        "\n",
        "print(fightsongs.shape)\n",
        "fightsongs.head()"
      ],
      "execution_count": 25,
      "outputs": [
        {
          "output_type": "stream",
          "text": [
            "(65, 23)\n"
          ],
          "name": "stdout"
        },
        {
          "output_type": "execute_result",
          "data": {
            "text/html": [
              "<div>\n",
              "<style scoped>\n",
              "    .dataframe tbody tr th:only-of-type {\n",
              "        vertical-align: middle;\n",
              "    }\n",
              "\n",
              "    .dataframe tbody tr th {\n",
              "        vertical-align: top;\n",
              "    }\n",
              "\n",
              "    .dataframe thead th {\n",
              "        text-align: right;\n",
              "    }\n",
              "</style>\n",
              "<table border=\"1\" class=\"dataframe\">\n",
              "  <thead>\n",
              "    <tr style=\"text-align: right;\">\n",
              "      <th></th>\n",
              "      <th>school</th>\n",
              "      <th>conference</th>\n",
              "      <th>song_name</th>\n",
              "      <th>writers</th>\n",
              "      <th>year</th>\n",
              "      <th>student_writer</th>\n",
              "      <th>official_song</th>\n",
              "      <th>contest</th>\n",
              "      <th>bpm</th>\n",
              "      <th>sec_duration</th>\n",
              "      <th>fight</th>\n",
              "      <th>number_fights</th>\n",
              "      <th>victory</th>\n",
              "      <th>win_won</th>\n",
              "      <th>victory_win_won</th>\n",
              "      <th>rah</th>\n",
              "      <th>nonsense</th>\n",
              "      <th>colors</th>\n",
              "      <th>men</th>\n",
              "      <th>opponents</th>\n",
              "      <th>spelling</th>\n",
              "      <th>trope_count</th>\n",
              "      <th>spotify_id</th>\n",
              "    </tr>\n",
              "  </thead>\n",
              "  <tbody>\n",
              "    <tr>\n",
              "      <th>0</th>\n",
              "      <td>Notre Dame</td>\n",
              "      <td>Independent</td>\n",
              "      <td>Victory March</td>\n",
              "      <td>Michael J. Shea and John F. Shea</td>\n",
              "      <td>1908</td>\n",
              "      <td>No</td>\n",
              "      <td>Yes</td>\n",
              "      <td>No</td>\n",
              "      <td>152</td>\n",
              "      <td>64</td>\n",
              "      <td>Yes</td>\n",
              "      <td>1</td>\n",
              "      <td>Yes</td>\n",
              "      <td>Yes</td>\n",
              "      <td>Yes</td>\n",
              "      <td>Yes</td>\n",
              "      <td>No</td>\n",
              "      <td>Yes</td>\n",
              "      <td>Yes</td>\n",
              "      <td>No</td>\n",
              "      <td>No</td>\n",
              "      <td>6</td>\n",
              "      <td>15a3ShKX3XWKzq0lSS48yr</td>\n",
              "    </tr>\n",
              "    <tr>\n",
              "      <th>1</th>\n",
              "      <td>Baylor</td>\n",
              "      <td>Big 12</td>\n",
              "      <td>Old Fight</td>\n",
              "      <td>Dick Baker and Frank Boggs</td>\n",
              "      <td>1947</td>\n",
              "      <td>Yes</td>\n",
              "      <td>Yes</td>\n",
              "      <td>No</td>\n",
              "      <td>76</td>\n",
              "      <td>99</td>\n",
              "      <td>Yes</td>\n",
              "      <td>4</td>\n",
              "      <td>Yes</td>\n",
              "      <td>Yes</td>\n",
              "      <td>Yes</td>\n",
              "      <td>No</td>\n",
              "      <td>No</td>\n",
              "      <td>Yes</td>\n",
              "      <td>No</td>\n",
              "      <td>No</td>\n",
              "      <td>Yes</td>\n",
              "      <td>5</td>\n",
              "      <td>2ZsaI0Cu4nz8DHfBkPt0Dl</td>\n",
              "    </tr>\n",
              "    <tr>\n",
              "      <th>2</th>\n",
              "      <td>Iowa State</td>\n",
              "      <td>Big 12</td>\n",
              "      <td>Iowa State Fights</td>\n",
              "      <td>Jack Barker, Manly Rice, Paul Gnam, Rosalind K...</td>\n",
              "      <td>1930</td>\n",
              "      <td>Yes</td>\n",
              "      <td>Yes</td>\n",
              "      <td>No</td>\n",
              "      <td>155</td>\n",
              "      <td>55</td>\n",
              "      <td>Yes</td>\n",
              "      <td>5</td>\n",
              "      <td>No</td>\n",
              "      <td>No</td>\n",
              "      <td>No</td>\n",
              "      <td>Yes</td>\n",
              "      <td>No</td>\n",
              "      <td>No</td>\n",
              "      <td>Yes</td>\n",
              "      <td>No</td>\n",
              "      <td>Yes</td>\n",
              "      <td>4</td>\n",
              "      <td>3yyfoOXZQCtR6pfRJqu9pl</td>\n",
              "    </tr>\n",
              "    <tr>\n",
              "      <th>3</th>\n",
              "      <td>Kansas</td>\n",
              "      <td>Big 12</td>\n",
              "      <td>I'm a Jayhawk</td>\n",
              "      <td>George \"Dumpy\" Bowles</td>\n",
              "      <td>1912</td>\n",
              "      <td>Yes</td>\n",
              "      <td>Yes</td>\n",
              "      <td>No</td>\n",
              "      <td>137</td>\n",
              "      <td>62</td>\n",
              "      <td>No</td>\n",
              "      <td>0</td>\n",
              "      <td>No</td>\n",
              "      <td>No</td>\n",
              "      <td>No</td>\n",
              "      <td>No</td>\n",
              "      <td>Yes</td>\n",
              "      <td>No</td>\n",
              "      <td>Yes</td>\n",
              "      <td>Yes</td>\n",
              "      <td>No</td>\n",
              "      <td>3</td>\n",
              "      <td>0JzbjZgcjugS0dmPjF9R89</td>\n",
              "    </tr>\n",
              "    <tr>\n",
              "      <th>4</th>\n",
              "      <td>Kansas State</td>\n",
              "      <td>Big 12</td>\n",
              "      <td>Wildcat Victory</td>\n",
              "      <td>Harry E. Erickson</td>\n",
              "      <td>1927</td>\n",
              "      <td>Yes</td>\n",
              "      <td>Yes</td>\n",
              "      <td>No</td>\n",
              "      <td>80</td>\n",
              "      <td>67</td>\n",
              "      <td>Yes</td>\n",
              "      <td>6</td>\n",
              "      <td>Yes</td>\n",
              "      <td>No</td>\n",
              "      <td>Yes</td>\n",
              "      <td>No</td>\n",
              "      <td>No</td>\n",
              "      <td>Yes</td>\n",
              "      <td>No</td>\n",
              "      <td>No</td>\n",
              "      <td>No</td>\n",
              "      <td>3</td>\n",
              "      <td>4xxDK4g1OHhZ44sTFy8Ktm</td>\n",
              "    </tr>\n",
              "  </tbody>\n",
              "</table>\n",
              "</div>"
            ],
            "text/plain": [
              "         school   conference  ... trope_count              spotify_id\n",
              "0    Notre Dame  Independent  ...           6  15a3ShKX3XWKzq0lSS48yr\n",
              "1        Baylor       Big 12  ...           5  2ZsaI0Cu4nz8DHfBkPt0Dl\n",
              "2    Iowa State       Big 12  ...           4  3yyfoOXZQCtR6pfRJqu9pl\n",
              "3        Kansas       Big 12  ...           3  0JzbjZgcjugS0dmPjF9R89\n",
              "4  Kansas State       Big 12  ...           3  4xxDK4g1OHhZ44sTFy8Ktm\n",
              "\n",
              "[5 rows x 23 columns]"
            ]
          },
          "metadata": {
            "tags": []
          },
          "execution_count": 25
        }
      ]
    },
    {
      "cell_type": "code",
      "metadata": {
        "id": "YFF_ZNjthvGz",
        "colab_type": "code",
        "colab": {
          "base_uri": "https://localhost:8080/",
          "height": 195
        },
        "outputId": "5a9d5ee7-d266-41d1-a215-7e98c3b4e54e"
      },
      "source": [
        "fightsongs_test = fightsongs[['school', 'bpm', 'sec_duration']]\n",
        "\n",
        "fightsongs_test.head()"
      ],
      "execution_count": 26,
      "outputs": [
        {
          "output_type": "execute_result",
          "data": {
            "text/html": [
              "<div>\n",
              "<style scoped>\n",
              "    .dataframe tbody tr th:only-of-type {\n",
              "        vertical-align: middle;\n",
              "    }\n",
              "\n",
              "    .dataframe tbody tr th {\n",
              "        vertical-align: top;\n",
              "    }\n",
              "\n",
              "    .dataframe thead th {\n",
              "        text-align: right;\n",
              "    }\n",
              "</style>\n",
              "<table border=\"1\" class=\"dataframe\">\n",
              "  <thead>\n",
              "    <tr style=\"text-align: right;\">\n",
              "      <th></th>\n",
              "      <th>school</th>\n",
              "      <th>bpm</th>\n",
              "      <th>sec_duration</th>\n",
              "    </tr>\n",
              "  </thead>\n",
              "  <tbody>\n",
              "    <tr>\n",
              "      <th>0</th>\n",
              "      <td>Notre Dame</td>\n",
              "      <td>152</td>\n",
              "      <td>64</td>\n",
              "    </tr>\n",
              "    <tr>\n",
              "      <th>1</th>\n",
              "      <td>Baylor</td>\n",
              "      <td>76</td>\n",
              "      <td>99</td>\n",
              "    </tr>\n",
              "    <tr>\n",
              "      <th>2</th>\n",
              "      <td>Iowa State</td>\n",
              "      <td>155</td>\n",
              "      <td>55</td>\n",
              "    </tr>\n",
              "    <tr>\n",
              "      <th>3</th>\n",
              "      <td>Kansas</td>\n",
              "      <td>137</td>\n",
              "      <td>62</td>\n",
              "    </tr>\n",
              "    <tr>\n",
              "      <th>4</th>\n",
              "      <td>Kansas State</td>\n",
              "      <td>80</td>\n",
              "      <td>67</td>\n",
              "    </tr>\n",
              "  </tbody>\n",
              "</table>\n",
              "</div>"
            ],
            "text/plain": [
              "         school  bpm  sec_duration\n",
              "0    Notre Dame  152            64\n",
              "1        Baylor   76            99\n",
              "2    Iowa State  155            55\n",
              "3        Kansas  137            62\n",
              "4  Kansas State   80            67"
            ]
          },
          "metadata": {
            "tags": []
          },
          "execution_count": 26
        }
      ]
    },
    {
      "cell_type": "code",
      "metadata": {
        "id": "ZHnmyL871TPL",
        "colab_type": "code",
        "colab": {
          "base_uri": "https://localhost:8080/",
          "height": 52
        },
        "outputId": "d78b28ad-00a9-4541-c063-554fa8d5502a"
      },
      "source": [
        "BPM_mean = np.mean(fightsongs_test['bpm'])\n",
        "Duration_mean = np.mean(fightsongs_test['sec_duration'])\n",
        "\n",
        "\n",
        "print(BPM_mean)\n",
        "print(Duration_mean)"
      ],
      "execution_count": 61,
      "outputs": [
        {
          "output_type": "stream",
          "text": [
            "128.8\n",
            "71.9076923076923\n"
          ],
          "name": "stdout"
        }
      ]
    },
    {
      "cell_type": "code",
      "metadata": {
        "id": "jETzxT0la6z7",
        "colab_type": "code",
        "colab": {
          "base_uri": "https://localhost:8080/",
          "height": 559
        },
        "outputId": "3495f1d3-0622-492d-80ec-49e0852c708e"
      },
      "source": [
        "fig, ax = plt.subplots(figsize=[8,10])\n",
        "\n",
        "fig.patch.set(facecolor=\"white\")\n",
        "ax.set(facecolor=\"white\")\n",
        "plt.style.use('fivethirtyeight')\n",
        "\n",
        "ax.scatter(fightsongs_test['sec_duration'], fightsongs_test['bpm'], s=200, alpha=0.25)\n",
        "\n",
        "ax.set_title('How Notre Dame’s fight song stacks up', fontsize=20.3, x=.82, y=1.05)\n",
        "\n",
        "ax.set_xticklabels(range(0,200, 20), alpha=0.5)\n",
        "ax.set_xticks(range(0,200,20))\n",
        "ax.set_yticklabels(range(40,201,20), alpha=0.5)\n",
        "ax.set_yticks(range(40,201,20))\n",
        "\n",
        "ax.set_xlabel(\"Duration\", fontsize=18, fontweight='semibold')\n",
        "ax.set_ylabel(\"Beats per minute\", fontsize=18, y=.58, fontweight='semibold')\n",
        "\n",
        "ax.text(s='Fast and short', x=10, y=190)\n",
        "ax.text(s='Fast but long', x=125, y=190)\n",
        "ax.text(s='Slow but short', x=10, y=55)\n",
        "ax.text(s='Slow and long', x=125, y=55)\n",
        "\n",
        "ax.text(s='Notre Dame', x=50, y=157, fontweight='semibold')\n",
        "\n",
        "ax.text(s='AVERAGE', x=135, y=130, fontsize=8.6)\n",
        "ax.text(s='AVERAGE', x=68, y=110, fontsize=8.6, rotation=90)\n",
        "\n",
        "plt.axhline(y=BPM_mean, linestyle=':', color='black', linewidth=2)\n",
        "\n",
        "plt.axvline(x=Duration_mean, linestyle=':', color='black', linewidth=2)\n",
        "\n",
        "plt.gca().set_aspect('equal', adjustable='box')\n",
        "\n",
        "plt.show()"
      ],
      "execution_count": 106,
      "outputs": [
        {
          "output_type": "display_data",
          "data": {
            "image/png": "[encoded data removed]",
            "text/plain": [
              "<Figure size 576x720 with 1 Axes>"
            ]
          },
          "metadata": {
            "tags": []
          }
        }
      ]
    },
    {
      "cell_type": "markdown",
      "metadata": {
        "id": "0wSrBzmJyWaV",
        "colab_type": "text"
      },
      "source": [
        "# STRETCH OPTIONS\n",
        "\n",
        "### 1) Reproduce one of the following using the matplotlib or seaborn libraries:\n",
        "\n",
        "- [thanksgiving-2015](https://fivethirtyeight.com/features/heres-what-your-part-of-america-eats-on-thanksgiving/) \n",
        "- [candy-power-ranking](https://fivethirtyeight.com/features/the-ultimate-halloween-candy-power-ranking/) \n",
        "- or another example of your choice!\n",
        "\n",
        "### 2) Make more charts!\n",
        "\n",
        "Choose a chart you want to make, from [Visual Vocabulary - Vega Edition](http://ft.com/vocabulary).\n",
        "\n",
        "Find the chart in an example gallery of a Python data visualization library:\n",
        "- [Seaborn](http://seaborn.pydata.org/examples/index.html)\n",
        "- [Altair](https://altair-viz.github.io/gallery/index.html)\n",
        "- [Matplotlib](https://matplotlib.org/gallery.html)\n",
        "- [Pandas](https://pandas.pydata.org/pandas-docs/stable/visualization.html)\n",
        "\n",
        "Reproduce the chart. [Optionally, try the \"Ben Franklin Method.\"](https://docs.google.com/document/d/1ubOw9B3Hfip27hF2ZFnW3a3z9xAgrUDRReOEo-FHCVs/edit) If you want, experiment and make changes.\n",
        "\n",
        "Take notes. Consider sharing your work with your cohort!"
      ]
    },
    {
      "cell_type": "code",
      "metadata": {
        "id": "dRJkKftiy5BJ",
        "colab_type": "code",
        "colab": {}
      },
      "source": [
        "# More Work Here"
      ],
      "execution_count": 0,
      "outputs": []
    }
  ]
}