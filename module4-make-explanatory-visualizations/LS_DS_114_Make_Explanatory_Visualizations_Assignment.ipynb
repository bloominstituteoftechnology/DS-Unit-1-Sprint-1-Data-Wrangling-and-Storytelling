{
  "nbformat": 4,
  "nbformat_minor": 0,
  "metadata": {
    "colab": {
      "name": "LS_DS_114_Make_Explanatory_Visualizations_Assignment.ipynb",
      "provenance": [],
      "collapsed_sections": [],
      "include_colab_link": true
    },
    "language_info": {
      "codemirror_mode": {
        "name": "ipython",
        "version": 3
      },
      "file_extension": ".py",
      "mimetype": "text/x-python",
      "name": "python",
      "nbconvert_exporter": "python",
      "pygments_lexer": "ipython3",
      "version": "3.7.1"
    },
    "kernelspec": {
      "display_name": "Python 3",
      "language": "python",
      "name": "python3"
    }
  },
  "cells": [
    {
      "cell_type": "markdown",
      "metadata": {
        "id": "view-in-github",
        "colab_type": "text"
      },
      "source": [
        "<a href=\"https://colab.research.google.com/github/ik-okoro/DS-Unit-1-Sprint-1-Data-Wrangling-and-Storytelling/blob/master/module4-make-explanatory-visualizations/LS_DS_114_Make_Explanatory_Visualizations_Assignment.ipynb\" target=\"_parent\"><img src=\"https://colab.research.google.com/assets/colab-badge.svg\" alt=\"Open In Colab\"/></a>"
      ]
    },
    {
      "cell_type": "markdown",
      "metadata": {
        "colab_type": "text",
        "id": "NMEswXWh9mqw"
      },
      "source": [
        "Lambda School Data Science\n",
        "\n",
        "*Unit 1, Sprint 1, Module 4*\n",
        "\n",
        "---\n",
        "\n",
        "# ASSIGNMENT\n",
        "\n",
        "### 1) Replicate the lesson code. I recommend that you [do not copy-paste](https://docs.google.com/document/d/1ubOw9B3Hfip27hF2ZFnW3a3z9xAgrUDRReOEo-FHCVs/edit).\n",
        "\n",
        "Get caught up to where we got our example in class and then try and take things further. How close to \"pixel perfect\" can you make the lecture graph?\n",
        "\n",
        "Once you have something that you're proud of, share your graph in the cohort channel and move on to the second exercise.\n",
        "\n",
        "### 2) Reproduce another example from [FiveThityEight's shared data repository](https://data.fivethirtyeight.com/).\n",
        "\n",
        "**WARNING**: There are a lot of very custom graphs and tables at the above link. I **highly** recommend not trying to reproduce any that look like a table of values or something really different from the graph types that we are already familiar with. Search through the posts until you find a graph type that you are more or less familiar with: histogram, bar chart, stacked bar chart, line chart, [seaborn relplot](https://seaborn.pydata.org/generated/seaborn.relplot.html), etc. Recreating some of the graphics that 538 uses would be a lot easier in Adobe photoshop/illustrator than with matplotlib. \n",
        "\n",
        "- If you put in some time to find a graph that looks \"easy\" to replicate you'll probably find that it's not as easy as you thought. \n",
        "\n",
        "- If you start with a graph that looks hard to replicate you'll probably run up against a brick wall and be disappointed with your afternoon.\n",
        "\n",
        "\n",
        "\n",
        "\n",
        "\n",
        "\n",
        "\n",
        "\n",
        "\n",
        "\n"
      ]
    },
    {
      "cell_type": "code",
      "metadata": {
        "id": "7SY1ZHawyZvz",
        "colab_type": "code",
        "colab": {
          "base_uri": "https://localhost:8080/",
          "height": 200
        },
        "outputId": "df5d2f28-87ec-413c-b9cc-22dda578d746"
      },
      "source": [
        "import numpy as np\n",
        "import pandas as pd\n",
        "import matplotlib.pyplot as plt\n",
        "\n",
        "plt.style.use('fivethirtyeight')\n",
        "\n",
        "fake = pd.Series([38, 3, 2, 1, 2, 4, 6, 5, 5, 33], \n",
        "                 index=range(1,11))\n",
        "\n",
        "fake"
      ],
      "execution_count": 2,
      "outputs": [
        {
          "output_type": "execute_result",
          "data": {
            "text/plain": [
              "1     38\n",
              "2      3\n",
              "3      2\n",
              "4      1\n",
              "5      2\n",
              "6      4\n",
              "7      6\n",
              "8      5\n",
              "9      5\n",
              "10    33\n",
              "dtype: int64"
            ]
          },
          "metadata": {
            "tags": []
          },
          "execution_count": 2
        }
      ]
    },
    {
      "cell_type": "code",
      "metadata": {
        "id": "ILuQtEppElff",
        "colab_type": "code",
        "colab": {
          "base_uri": "https://localhost:8080/",
          "height": 394
        },
        "outputId": "78f9b049-dcae-4e84-8a9c-8d8c4ed6bf5c"
      },
      "source": [
        "fig, ax = plt.subplots()\n",
        "\n",
        "# Figure styles\n",
        "fig.set_facecolor(\"white\")\n",
        "\n",
        "# Axes styles\n",
        "ax.bar(x=[1,2,3,4,5,6,7,8,9,10], height=fake, width = .9, color = \"#ED703A\")\n",
        "ax.set_facecolor(\"white\")\n",
        "\n",
        "# Set title and subtitle\n",
        "# Center of the title relative to the axis percentages\n",
        "ax.set_title(x = .4, y = 1.15, label = \"'An Inconveninet Sequel: Truth to Power' is divisive\", fontsize = 13, fontweight = \"bold\")\n",
        "# x and y position is relative to the axis labels\n",
        "ax.text(x = -1, y = 44, s = \"IMDb ratings for the folm as of Aug. 29\")\n",
        "\n",
        "# Other texts\n",
        "fig.text(x = -0.02, y = -0.2, s=\"FiveThirtyEight\", color = \"grey\", fontsize = 8)\n",
        "fig.text(x = 0.8, y = -0.2, s=\"SOURCE:IMDB\", color = \"grey\", fontsize = 8)\n",
        "fig.text(x = -0.02, y = -0.15, s=\"______________________________________________________________________________________________________\", color = \"grey\", fontsize = 8)\n",
        "\n",
        "# Tick marks (positions)\n",
        "ax.set_xticks([1,2,3,4,5,6,7,8,9,10])\n",
        "ax.set_yticks([10,20,30,40])\n",
        "\n",
        "# Tick labels(numbers)\n",
        "ax.set_yticklabels([10,20,30,\"40%\"], fontsize = 11, color = \"grey\")\n",
        "ax.set_xticklabels([1,2,3,4,5,6,7,8,9,10], fontsize = 11, color = \"grey\")\n",
        "\n",
        "# Actual ticks\n",
        "ax.tick_params(axis=\"x\", length = 11, color = \"grey\", pad = 7)\n",
        "ax.tick_params(axis=\"y\", length = -5, color = \"grey\", pad = 7)\n",
        "\n",
        "# Axis labels\n",
        "ax.set_xlabel(\"Rating\", fontsize = 11, fontweight = \"bold\")\n",
        "ax.set_ylabel(\"Percent of total votes\", fontsize = 11, fontweight = \"bold\")\n",
        "\n",
        "#Control the spines\n",
        "ax.spines[\"left\"].set_visible(False)\n",
        "ax.spines[\"right\"].set_visible(False)\n",
        "ax.spines[\"top\"].set_visible(False)\n",
        "ax.spines[\"bottom\"].set_visible(False)\n",
        "\n",
        "plt.show()"
      ],
      "execution_count": 29,
      "outputs": [
        {
          "output_type": "display_data",
          "data": {
            "image/png": "[encoded data removed]",
            "text/plain": [
              "<Figure size 432x288 with 1 Axes>"
            ]
          },
          "metadata": {
            "tags": []
          }
        }
      ]
    },
    {
      "cell_type": "markdown",
      "metadata": {
        "id": "62YBZP15Yhvt",
        "colab_type": "text"
      },
      "source": [
        "## Question 2"
      ]
    },
    {
      "cell_type": "code",
      "metadata": {
        "id": "Nf5kPDdiEmML",
        "colab_type": "code",
        "colab": {
          "base_uri": "https://localhost:8080/",
          "height": 655
        },
        "outputId": "760e317f-657f-47bd-ecaf-1525cf7657aa"
      },
      "source": [
        "from IPython.display import display, Image\n",
        "\n",
        "url = \"https://fivethirtyeight.com/wp-content/uploads/2020/06/rogers-rakich.VOTER-REGISTRATION-2.0622.png?w=2048\"\n",
        "example = Image(url = url, width = 1000)\n",
        "\n",
        "display(example)"
      ],
      "execution_count": 30,
      "outputs": [
        {
          "output_type": "display_data",
          "data": {
            "text/html": [
              "<img src=\"https://fivethirtyeight.com/wp-content/uploads/2020/06/rogers-rakich.VOTER-REGISTRATION-2.0622.png?w=2048\" width=\"1000\"/>"
            ],
            "text/plain": [
              "<IPython.core.display.Image object>"
            ]
          },
          "metadata": {
            "tags": []
          }
        }
      ]
    },
    {
      "cell_type": "code",
      "metadata": {
        "id": "FF_UQ4LfdPfk",
        "colab_type": "code",
        "colab": {}
      },
      "source": [
        "months = [\"Jan.\", \"Feb.\", \"March\", \"April\", \"May\"]"
      ],
      "execution_count": 31,
      "outputs": []
    },
    {
      "cell_type": "code",
      "metadata": {
        "id": "cFaugpeKEmWo",
        "colab_type": "code",
        "colab": {
          "base_uri": "https://localhost:8080/",
          "height": 197
        },
        "outputId": "3221e4e8-a066-4583-b72d-45645ee9a05d"
      },
      "source": [
        "df_DC = pd.DataFrame({\"REMOTE\" : [0.3, 0.5, 0.65, 1.25, 1.8], \"IN PERSON\" : [2.9, 2.6, 1.5, 0, 0.15]}, index = months)\n",
        "\n",
        "df_DC"
      ],
      "execution_count": 43,
      "outputs": [
        {
          "output_type": "execute_result",
          "data": {
            "text/html": [
              "<div>\n",
              "<style scoped>\n",
              "    .dataframe tbody tr th:only-of-type {\n",
              "        vertical-align: middle;\n",
              "    }\n",
              "\n",
              "    .dataframe tbody tr th {\n",
              "        vertical-align: top;\n",
              "    }\n",
              "\n",
              "    .dataframe thead th {\n",
              "        text-align: right;\n",
              "    }\n",
              "</style>\n",
              "<table border=\"1\" class=\"dataframe\">\n",
              "  <thead>\n",
              "    <tr style=\"text-align: right;\">\n",
              "      <th></th>\n",
              "      <th>REMOTE</th>\n",
              "      <th>IN PERSON</th>\n",
              "    </tr>\n",
              "  </thead>\n",
              "  <tbody>\n",
              "    <tr>\n",
              "      <th>Jan.</th>\n",
              "      <td>0.30</td>\n",
              "      <td>2.90</td>\n",
              "    </tr>\n",
              "    <tr>\n",
              "      <th>Feb.</th>\n",
              "      <td>0.50</td>\n",
              "      <td>2.60</td>\n",
              "    </tr>\n",
              "    <tr>\n",
              "      <th>March</th>\n",
              "      <td>0.65</td>\n",
              "      <td>1.50</td>\n",
              "    </tr>\n",
              "    <tr>\n",
              "      <th>April</th>\n",
              "      <td>1.25</td>\n",
              "      <td>0.00</td>\n",
              "    </tr>\n",
              "    <tr>\n",
              "      <th>May</th>\n",
              "      <td>1.80</td>\n",
              "      <td>0.15</td>\n",
              "    </tr>\n",
              "  </tbody>\n",
              "</table>\n",
              "</div>"
            ],
            "text/plain": [
              "       REMOTE  IN PERSON\n",
              "Jan.     0.30       2.90\n",
              "Feb.     0.50       2.60\n",
              "March    0.65       1.50\n",
              "April    1.25       0.00\n",
              "May      1.80       0.15"
            ]
          },
          "metadata": {
            "tags": []
          },
          "execution_count": 43
        }
      ]
    },
    {
      "cell_type": "code",
      "metadata": {
        "id": "3LqMrtiKEmC_",
        "colab_type": "code",
        "colab": {}
      },
      "source": [
        "df_Maryland = pd.DataFrame({\"REMOTE\" : [2.5, 4.25, 5, 3, 16.5], \"IN PERSON\" : [18.5, 16.5, 18.5, 6.5, 7.5]}, index = months)"
      ],
      "execution_count": 33,
      "outputs": []
    },
    {
      "cell_type": "code",
      "metadata": {
        "id": "VCixfKTJEoJV",
        "colab_type": "code",
        "colab": {
          "base_uri": "https://localhost:8080/",
          "height": 167
        },
        "outputId": "c982ad4c-2b06-475d-94a4-d61858945531"
      },
      "source": [
        "df_Florida = pd.DataFrame({\"REMOTE\" : [20, 50, 20, 17], \"IN PERSON\" : [65, 70, 40, 5]}, index = months[:4])\n",
        "\n",
        "df_Florida"
      ],
      "execution_count": 39,
      "outputs": [
        {
          "output_type": "execute_result",
          "data": {
            "text/html": [
              "<div>\n",
              "<style scoped>\n",
              "    .dataframe tbody tr th:only-of-type {\n",
              "        vertical-align: middle;\n",
              "    }\n",
              "\n",
              "    .dataframe tbody tr th {\n",
              "        vertical-align: top;\n",
              "    }\n",
              "\n",
              "    .dataframe thead th {\n",
              "        text-align: right;\n",
              "    }\n",
              "</style>\n",
              "<table border=\"1\" class=\"dataframe\">\n",
              "  <thead>\n",
              "    <tr style=\"text-align: right;\">\n",
              "      <th></th>\n",
              "      <th>REMOTE</th>\n",
              "      <th>IN PERSON</th>\n",
              "    </tr>\n",
              "  </thead>\n",
              "  <tbody>\n",
              "    <tr>\n",
              "      <th>Jan.</th>\n",
              "      <td>20</td>\n",
              "      <td>65</td>\n",
              "    </tr>\n",
              "    <tr>\n",
              "      <th>Feb.</th>\n",
              "      <td>50</td>\n",
              "      <td>70</td>\n",
              "    </tr>\n",
              "    <tr>\n",
              "      <th>March</th>\n",
              "      <td>20</td>\n",
              "      <td>40</td>\n",
              "    </tr>\n",
              "    <tr>\n",
              "      <th>April</th>\n",
              "      <td>17</td>\n",
              "      <td>5</td>\n",
              "    </tr>\n",
              "  </tbody>\n",
              "</table>\n",
              "</div>"
            ],
            "text/plain": [
              "       REMOTE  IN PERSON\n",
              "Jan.       20         65\n",
              "Feb.       50         70\n",
              "March      20         40\n",
              "April      17          5"
            ]
          },
          "metadata": {
            "tags": []
          },
          "execution_count": 39
        }
      ]
    },
    {
      "cell_type": "code",
      "metadata": {
        "id": "QFbDItZUEn9R",
        "colab_type": "code",
        "colab": {}
      },
      "source": [
        "df_Texas = pd.DataFrame({\"REMOTE\" : [38, 50, 47, 26.5, 28.5], \"IN PERSON\" : [95, 75, 74, 5, 5]}, index = months)"
      ],
      "execution_count": 40,
      "outputs": []
    },
    {
      "cell_type": "code",
      "metadata": {
        "id": "dRnVU-SEElGt",
        "colab_type": "code",
        "colab": {
          "base_uri": "https://localhost:8080/",
          "height": 282
        },
        "outputId": "00aeeef2-e977-4ed0-d0d5-ca4beee5c984"
      },
      "source": [
        "# Could probably have a function for all 4 so start with creating one\n",
        "\n",
        "fig, ax = plt.subplots()\n",
        "\n",
        "# Figure style\n",
        "fig.set_facecolor(\"white\")\n",
        "\n",
        "# df plot\n",
        "ax.plot(df_DC[\"REMOTE\"], color = \"#01BFC6\", marker = \"o\", markersize = 11)\n",
        "ax.plot(df_DC[\"IN PERSON\"], color = \"#F9766E\", marker = \"o\", markersize = 11)\n",
        "\n",
        "# Remove vertical grid lines\n",
        "ax.xaxis.grid(False)\n",
        "\n",
        "# Set y ticks\n",
        "ax.set_yticks([0,1,2,3])\n",
        "\n",
        "# Tick label\n",
        "ax.set_xticklabels([\"Jan.\", \"Feb.\", \"March\", \"April\", \"May\"], fontsize = 13, color = \"grey\")\n",
        "ax.set_yticklabels([0, 1, 2 , \"3K\"], fontsize = 13, color = \"grey\")\n",
        "\n",
        "plt.show()"
      ],
      "execution_count": 59,
      "outputs": [
        {
          "output_type": "display_data",
          "data": {
            "image/png": "[encoded data removed]",
            "text/plain": [
              "<Figure size 432x288 with 1 Axes>"
            ]
          },
          "metadata": {
            "tags": []
          }
        }
      ]
    },
    {
      "cell_type": "code",
      "metadata": {
        "id": "Xh3h9ML0pYOb",
        "colab_type": "code",
        "colab": {}
      },
      "source": [
        "list_of_df = [df_DC, df_Maryland, df_Florida, df_Texas]\n",
        "\n",
        "def common_plot(df):\n",
        "  # df plot\n",
        "  ax.plot(df[\"REMOTE\"], color = \"#01BFC6\", marker = \"o\", markersize = 11)\n",
        "  ax.plot(df[\"IN PERSON\"], color = \"#F9766E\", marker = \"o\", markersize = 11)\n",
        "\n",
        "  # Remove vertical grid lines\n",
        "  ax.xaxis.grid(False)"
      ],
      "execution_count": 60,
      "outputs": []
    },
    {
      "cell_type": "code",
      "metadata": {
        "id": "B8iU688zsbje",
        "colab_type": "code",
        "colab": {}
      },
      "source": [
        ""
      ],
      "execution_count": null,
      "outputs": []
    },
    {
      "cell_type": "code",
      "metadata": {
        "id": "RbP2oQ7gsa1N",
        "colab_type": "code",
        "colab": {}
      },
      "source": [
        ""
      ],
      "execution_count": null,
      "outputs": []
    },
    {
      "cell_type": "markdown",
      "metadata": {
        "id": "0wSrBzmJyWaV",
        "colab_type": "text"
      },
      "source": [
        "# STRETCH OPTIONS\n",
        "\n",
        "### 1) Reproduce one of the following using the matplotlib or seaborn libraries:\n",
        "\n",
        "- [thanksgiving-2015](https://fivethirtyeight.com/features/heres-what-your-part-of-america-eats-on-thanksgiving/) \n",
        "- [candy-power-ranking](https://fivethirtyeight.com/features/the-ultimate-halloween-candy-power-ranking/) \n",
        "- or another example of your choice!\n",
        "\n",
        "### 2) Make more charts!\n",
        "\n",
        "Choose a chart you want to make, from [Visual Vocabulary - Vega Edition](http://ft.com/vocabulary).\n",
        "\n",
        "Find the chart in an example gallery of a Python data visualization library:\n",
        "- [Seaborn](http://seaborn.pydata.org/examples/index.html)\n",
        "- [Altair](https://altair-viz.github.io/gallery/index.html)\n",
        "- [Matplotlib](https://matplotlib.org/gallery.html)\n",
        "- [Pandas](https://pandas.pydata.org/pandas-docs/stable/visualization.html)\n",
        "\n",
        "Reproduce the chart. [Optionally, try the \"Ben Franklin Method.\"](https://docs.google.com/document/d/1ubOw9B3Hfip27hF2ZFnW3a3z9xAgrUDRReOEo-FHCVs/edit) If you want, experiment and make changes.\n",
        "\n",
        "Take notes. Consider sharing your work with your cohort!"
      ]
    },
    {
      "cell_type": "code",
      "metadata": {
        "id": "dRJkKftiy5BJ",
        "colab_type": "code",
        "colab": {}
      },
      "source": [
        "# More Work Here"
      ],
      "execution_count": null,
      "outputs": []
    }
  ]
}