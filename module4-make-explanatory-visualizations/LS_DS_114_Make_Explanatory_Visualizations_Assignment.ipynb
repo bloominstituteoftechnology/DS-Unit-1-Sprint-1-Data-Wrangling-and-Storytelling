{
  "nbformat": 4,
  "nbformat_minor": 0,
  "metadata": {
    "colab": {
      "name": "LS_DS_114_Make_Explanatory_Visualizations_Assignment.ipynb",
      "provenance": [],
      "collapsed_sections": []
    },
    "language_info": {
      "codemirror_mode": {
        "name": "ipython",
        "version": 3
      },
      "file_extension": ".py",
      "mimetype": "text/x-python",
      "name": "python",
      "nbconvert_exporter": "python",
      "pygments_lexer": "ipython3",
      "version": "3.7.1"
    },
    "kernelspec": {
      "display_name": "Python 3",
      "language": "python",
      "name": "python3"
    }
  },
  "cells": [
    {
      "cell_type": "markdown",
      "metadata": {
        "colab_type": "text",
        "id": "NMEswXWh9mqw"
      },
      "source": [
        "Lambda School Data Science\n",
        "\n",
        "*Unit 1, Sprint 1, Module 4 - Assignment*\n",
        "\n",
        "**Replicate the lesson code.**"
      ]
    },
    {
      "cell_type": "code",
      "metadata": {
        "id": "DMA_JFaM2w_f",
        "colab_type": "code",
        "colab": {}
      },
      "source": [
        "%matplotlib inline\n",
        "import matplotlib.pyplot as plt\n",
        "import numpy as np\n",
        "import pandas as pd\n",
        "\n",
        "pd.set_option('display.max_rows', None)\n",
        "\n",
        "fake = pd.Series([38, 3, 2, 1, 2, 4, 6, 5, 5, 33], \n",
        "                 index=range(1,11))"
      ],
      "execution_count": 0,
      "outputs": []
    },
    {
      "cell_type": "code",
      "metadata": {
        "id": "qqd9d4Ly7eHm",
        "colab_type": "code",
        "colab": {}
      },
      "source": [
        "# READ IN DATA\n",
        "inconv = pd.read_csv('https://raw.githubusercontent.com/fivethirtyeight/data/master/inconvenient-sequel/ratings.csv')"
      ],
      "execution_count": 0,
      "outputs": []
    },
    {
      "cell_type": "code",
      "metadata": {
        "id": "y_ptr_mfAqOk",
        "colab_type": "code",
        "colab": {}
      },
      "source": [
        "# GENERATE FINAL DATA\n",
        "last = inconvenient.tail(1)\n",
        "final = last[[col for col in inconvenient if col.endswith('_pct')]].T\n",
        "final.index = range(1,11)\n",
        "final.columns = ['percent']"
      ],
      "execution_count": 0,
      "outputs": []
    },
    {
      "cell_type": "code",
      "metadata": {
        "id": "4BU3apLJDmpO",
        "colab_type": "code",
        "colab": {
          "base_uri": "https://localhost:8080/",
          "height": 340
        },
        "outputId": "c640e0d4-2bb7-47bb-f0b6-93cc29440821"
      },
      "source": [
        "# SET STYLESHEET\n",
        "plt.style.use('fivethirtyeight')\n",
        "\n",
        "# FIGURE AXES SYNTAX\n",
        "fig, ax = plt.subplots()\n",
        "\n",
        "# Set background color to white\n",
        "fig.patch.set(facecolor='white')\n",
        "\n",
        "# plot 'final' data\n",
        "ax.bar(x=range(1,11), height=final['percent'], width=0.9, color='#ED713A')\n",
        "\n",
        "# set axes backgound color\n",
        "ax.set(facecolor='white')\n",
        "\n",
        "# set title/subtitle\n",
        "ax.set_title(\"'An Inconvenient Sequel: truth To Power' is divisive\", \n",
        "             fontsize=12, fontweight='bold', x=0.35, y=1.1)\n",
        "ax.text(s='IMDb ratings for the film as of Aug. 29', y=42.5, x=-1, \n",
        "        fontsize=10)\n",
        "\n",
        "# set x/y labels\n",
        "ax.set_xlabel('Rating', fontsize=9, fontweight='bold')\n",
        "ax.set_ylabel('Percent of total votes', fontsize=9, fontweight='bold')\n",
        "\n",
        "# set axes ticks/grid\n",
        "ax.set_yticklabels(['0', '10', '20', '30', '40%'], fontsize=10, \n",
        "                   color='grey')\n",
        "ax.set_yticks(range(0,50,10))\n",
        "ax.set_xticklabels(range(1,11,1), rotation='horizontal', fontsize=10,\n",
        "                   color='grey')\n",
        "ax.set_xticks(range(1,11))\n",
        "ax.tick_params(length=10, color='grey')\n",
        "\n",
        "# extends tick marks\n",
        "fig.show()\n",
        "\n",
        "# change font\n",
        "\n",
        "# add line\n",
        "\n",
        "# add footer text\n",
        "\n",
        "# remove outside grey border"
      ],
      "execution_count": 169,
      "outputs": [
        {
          "output_type": "display_data",
          "data": {
            "image/png": "[encoded data removed]",
            "text/plain": [
              "<Figure size 432x288 with 1 Axes>"
            ]
          },
          "metadata": {
            "tags": []
          }
        }
      ]
    },
    {
      "cell_type": "code",
      "metadata": {
        "id": "7SY1ZHawyZvz",
        "colab_type": "code",
        "colab": {
          "base_uri": "https://localhost:8080/",
          "height": 356
        },
        "outputId": "2fce1734-8a5b-4ebc-f513-5e1bf4e278fe"
      },
      "source": [
        "from IPython.display import display, Image\n",
        "url = 'https://fivethirtyeight.com/wp-content/uploads/2017/09/mehtahickey-inconvenient-0830-1.png'\n",
        "example = Image(url=url, width=400)\n",
        "display(example)"
      ],
      "execution_count": 170,
      "outputs": [
        {
          "output_type": "display_data",
          "data": {
            "text/html": [
              "<img src=\"https://fivethirtyeight.com/wp-content/uploads/2017/09/mehtahickey-inconvenient-0830-1.png\" width=\"400\"/>"
            ],
            "text/plain": [
              "<IPython.core.display.Image object>"
            ]
          },
          "metadata": {
            "tags": []
          }
        }
      ]
    },
    {
      "cell_type": "markdown",
      "metadata": {
        "id": "sWXOMo8rGio9",
        "colab_type": "text"
      },
      "source": [
        "**Reproduce another example from [FiveThityEight's shared data repository](https://data.fivethirtyeight.com/).**"
      ]
    },
    {
      "cell_type": "code",
      "metadata": {
        "id": "-eU_yKiKLXpa",
        "colab_type": "code",
        "colab": {}
      },
      "source": [
        "# IMPORT DATA\n",
        "war2018 = pd.read_csv('2018_war.csv')\n",
        "war2019 = pd.read_csv('2019_war.csv')\n",
        "# I SHOULD UPLOAD MY DATA TO GOOGLE DRIVE SOMEWHERE"
      ],
      "execution_count": 0,
      "outputs": []
    },
    {
      "cell_type": "code",
      "metadata": {
        "id": "BittoShmQ8wg",
        "colab_type": "code",
        "colab": {}
      },
      "source": [
        "# MERGE/RETRIEVE/CALCULATE DATA\n",
        "combined = pd.merge(war2018, war2019, \n",
        "                    on='playerid')\n",
        "clist = ['Name_x', 'WAR_x', 'WAR_y']\n",
        "war_calc = combined[clist]\n",
        "war_calc = war_calc.rename(columns={'Name_x': 'Name', \n",
        "                                    'WAR_x': '2018', \n",
        "                                    'WAR_y': '2019'})\n",
        "war_calc['change'] = war_calc['2019'] - war_calc['2018']\n",
        "war_calc.sort_values('change', ascending=False, inplace=True)\n",
        "# HAVE TO RESET INDEX FOR PLOTTING, SEE FUNCTION BELOW\n",
        "war_calc.reset_index(drop=True, inplace=True)\n",
        "# CALCULATES POSITIVE/NEGATIVE VALUES NECESSARY FOR PLOTTING\n",
        "war_calc['positive'] = war_calc['change'] > 0"
      ],
      "execution_count": 0,
      "outputs": []
    },
    {
      "cell_type": "code",
      "metadata": {
        "id": "FKxLt_8JnhcW",
        "colab_type": "code",
        "colab": {}
      },
      "source": [
        "# RETRIEVES INDEX POSITION OF PLAYERS I WANT TO HIGHLIGHT\n",
        "twins = ['Mitch Garver', 'Jorge Polanco', 'Miguel Sano', 'Max Kepler']\n",
        "condition = war_calc['Name'].isin(twins)\n",
        "results = war_calc[condition].index.values.tolist()"
      ],
      "execution_count": 0,
      "outputs": []
    },
    {
      "cell_type": "code",
      "metadata": {
        "id": "Hom4P9bhXlV4",
        "colab_type": "code",
        "colab": {
          "base_uri": "https://localhost:8080/",
          "height": 394
        },
        "outputId": "42da8f49-b866-4eb7-8e12-b4c9e73a2d37"
      },
      "source": [
        "plt.style.use('fivethirtyeight')\n",
        "fig, ax = plt.subplots()\n",
        "\n",
        "# PLOTS war_calc DATA\n",
        "# MAPS POSITIVE/NEGATIVE COLORS\n",
        "ax.bar(x=range(1,263), height=war_calc['change'], \n",
        "        color=war_calc['positive'].map({True:'#FDCDB4', False:'#C1D7F8'}))\n",
        "\n",
        "# SETS Y TICKS\n",
        "ax.set_yticklabels(['-5.0', '-2.5', '0', '+2.5', '+5.0'], \n",
        "                   fontsize=10, \n",
        "                   color='grey')\n",
        "ax.set_yticks([-5.0, -2.5, 0.0, 2.5, 5.0])\n",
        "\n",
        "# SETS A SINGLE X TICK FOR 0, REMOVES LINES\n",
        "ax.set_xticks([0])\n",
        "ax.set_xticklabels([])\n",
        "\n",
        "# SETS THE TITLE\n",
        "ax.set_title('Few players have improved this season like Mitch Garver', \n",
        "             fontsize=16, fontweight='bold', \n",
        "             x=0.55, y=1.3)\n",
        "ax.text(s='2019 MLB hitters from highest to lowest year-over-year gains in wins\\nabove replacement (WAR)',\n",
        "        x=-50, y=7)\n",
        "\n",
        "# SETS TEXT ON BOTTOM, PROBABLY AN EASIER WAY TO DO ALIGNMENT...\n",
        "ax.text(s='Among hitters with at least 200 plate appearances this season, through Sept. 20, and last.',\n",
        "        x=-50, y=-6, fontsize=10, color='darkgrey')\n",
        "ax.text(s='FiveThirtyEight', x=-50, y=-7, fontsize=9, color='darkgrey')\n",
        "ax.text(s='SOURCE: FANGRAPHS', x=200, y=-7, fontsize=9, color='darkgrey')\n",
        "ax.text(s='<| BETTER  WORSE |>', x=75, y=-3.75, fontsize=11, color='black')\n",
        "\n",
        "# SETS AXIS LINES TO BLACK, PROBABLY A BETTER WAY TO DO THIS...\n",
        "ax.axhline(y=0, color='black', linewidth=0.5)\n",
        "ax.axvline(x=0, color='black', linewidth=0.5)\n",
        "\n",
        "ax.set_ylabel('WAR change', fontsize=9, fontweight='bold')\n",
        "\n",
        "# FUNCTION TO HIGHLIGHT INDIVIDUAL PLAYERS\n",
        "def highlight(indexes):\n",
        "  for i in range(len(indexes)):\n",
        "    ax.bar(results[i], war_calc.loc[results[i]][3], color='#CA9A7F', width=0.9)\n",
        "\n",
        "highlight(results)\n",
        "\n",
        "fig.show()"
      ],
      "execution_count": 174,
      "outputs": [
        {
          "output_type": "display_data",
          "data": {
            "image/png": "[encoded data removed]",
            "text/plain": [
              "<Figure size 432x288 with 1 Axes>"
            ]
          },
          "metadata": {
            "tags": []
          }
        }
      ]
    },
    {
      "cell_type": "code",
      "metadata": {
        "id": "oxW8_RAfczaC",
        "colab_type": "code",
        "colab": {
          "base_uri": "https://localhost:8080/",
          "height": 449
        },
        "outputId": "4cd9b9f4-83d9-4130-e604-e7f6d2541114"
      },
      "source": [
        "from IPython.display import display, Image\n",
        "url = 'https://fivethirtyeight.com/wp-content/uploads/2019/09/Sawchik-GarverMLB-0919-1.png?w=575'\n",
        "example = Image(url=url, width=500)\n",
        "display(example)"
      ],
      "execution_count": 175,
      "outputs": [
        {
          "output_type": "display_data",
          "data": {
            "text/html": [
              "<img src=\"https://fivethirtyeight.com/wp-content/uploads/2019/09/Sawchik-GarverMLB-0919-1.png?w=575\" width=\"500\"/>"
            ],
            "text/plain": [
              "<IPython.core.display.Image object>"
            ]
          },
          "metadata": {
            "tags": []
          }
        }
      ]
    }
  ]
}