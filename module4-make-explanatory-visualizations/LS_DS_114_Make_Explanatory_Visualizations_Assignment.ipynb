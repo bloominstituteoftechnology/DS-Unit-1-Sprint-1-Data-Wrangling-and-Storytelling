{
  "nbformat": 4,
  "nbformat_minor": 0,
  "metadata": {
    "colab": {
      "name": "LS_DS_114_Make_Explanatory_Visualizations_Assignment.ipynb",
      "provenance": [],
      "collapsed_sections": []
    },
    "language_info": {
      "codemirror_mode": {
        "name": "ipython",
        "version": 3
      },
      "file_extension": ".py",
      "mimetype": "text/x-python",
      "name": "python",
      "nbconvert_exporter": "python",
      "pygments_lexer": "ipython3",
      "version": "3.7.1"
    },
    "kernelspec": {
      "display_name": "Python 3",
      "language": "python",
      "name": "python3"
    }
  },
  "cells": [
    {
      "cell_type": "markdown",
      "metadata": {
        "colab_type": "text",
        "id": "NMEswXWh9mqw"
      },
      "source": [
        "Lambda School Data Science\n",
        "\n",
        "*Unit 1, Sprint 1, Module 4*\n",
        "\n",
        "---\n",
        "\n",
        "# ASSIGNMENT\n",
        "\n",
        "### 1) Replicate the lesson code. I recommend that you [do not copy-paste](https://docs.google.com/document/d/1ubOw9B3Hfip27hF2ZFnW3a3z9xAgrUDRReOEo-FHCVs/edit).\n",
        "\n",
        "Get caught up to where we got our example in class and then try and take things further. How close to \"pixel perfect\" can you make the lecture graph?\n",
        "\n",
        "Once you have something that you're proud of, share your graph in the cohort channel and move on to the second exercise.\n",
        "\n",
        "### 2) Reproduce another example from [FiveThityEight's shared data repository](https://data.fivethirtyeight.com/).\n",
        "\n",
        "**WARNING**: There are a lot of very custom graphs and tables at the above link. I **highly** recommend not trying to reproduce any that look like a table of values or something really different from the graph types that we are already familiar with. Search through the posts until you find a graph type that you are more or less familiar with: histogram, bar chart, stacked bar chart, line chart, [seaborn relplot](https://seaborn.pydata.org/generated/seaborn.relplot.html), etc. Recreating some of the graphics that 538 uses would be a lot easier in Adobe photoshop/illustrator than with matplotlib. \n",
        "\n",
        "- If you put in some time to find a graph that looks \"easy\" to replicate you'll probably find that it's not as easy as you thought. \n",
        "\n",
        "- If you start with a graph that looks hard to replicate you'll probably run up against a brick wall and be disappointed with your afternoon.\n",
        "\n",
        "\n",
        "\n",
        "\n",
        "\n",
        "\n",
        "\n",
        "\n",
        "\n",
        "\n"
      ]
    },
    {
      "cell_type": "code",
      "metadata": {
        "id": "7SY1ZHawyZvz",
        "colab_type": "code",
        "colab": {}
      },
      "source": [
        "%matplotlib inline\n",
        "import matplotlib.pyplot as plt\n",
        "import numpy as np\n",
        "import pandas as pd\n",
        "\n",
        "\n",
        "plt.style.use('fivethirtyeight')\n",
        "\n",
        "fake = pd.Series([38, 3, 2, 1, 2, 4, 6, 5, 5, 33], \n",
        "                 index=range(1,11))\n"
      ],
      "execution_count": 0,
      "outputs": []
    },
    {
      "cell_type": "code",
      "metadata": {
        "id": "cjoNckuFT88b",
        "colab_type": "code",
        "outputId": "842a5fe8-3789-4ea3-8391-abda725fd484",
        "colab": {
          "base_uri": "https://localhost:8080/",
          "height": 381
        }
      },
      "source": [
        "#figure axes\n",
        "fig, ax = plt.subplots()\n",
        "\n",
        "#put bars on axes\n",
        "fake.plot.bar(width=0.9, color='#ED713A')\n",
        "\n",
        "#set background color\n",
        "fig.patch.set(color='white')\n",
        "\n",
        "#remove border\n",
        "ax.set_frame_on(False)\n",
        "#set axes color\n",
        "ax.patch.set(color='white')\n",
        "ax.set_title(\"'An Inconvenient Sequel: Truth to Power' Is Divisive\",\n",
        "             fontweight='bold', fontsize=12, x=.35, y=1.1, fontname='Arial')\n",
        "ax.set_ylabel('Percent of Total Votes', fontsize=9, fontweight='bold')\n",
        "ax.set_xlabel('Rating',fontsize=9, fontweight='bold')\n",
        "\n",
        "#subtitle\n",
        "ax.text(s='FiveThirtyEight',x=-1.75,y=-10, color='#ABABAB', fontsize=8)\n",
        "ax.text(s='IMBD ratings for the film as of Aug. 29',y=42.5,x=-1.8,fontsize=12)\n",
        "ax.text(s='SOURCE: IMBD', x=8,y=-10,fontsize=8,color='#ABABAB')\n",
        "\n",
        "ax.set_yticklabels(['0','10','20', '30','40%'], color='#ABABAB', fontsize=10,)\n",
        "ax.set_yticks(range(0,50,10))\n",
        "\n",
        "ax.set_xticklabels([1,2,3,4,5,6,7,8,9,10],rotation='horizontal',\n",
        "                   color='#ABABAB', fontsize=10)\n",
        "\n",
        "#bottom data\n",
        "\n",
        "fig.show()"
      ],
      "execution_count": 3,
      "outputs": [
        {
          "output_type": "stream",
          "text": [
            "findfont: Font family ['Arial'] not found. Falling back to DejaVu Sans.\n"
          ],
          "name": "stderr"
        },
        {
          "output_type": "display_data",
          "data": {
            "image/png": "[encoded data removed]",
            "text/plain": [
              "<Figure size 432x288 with 1 Axes>"
            ]
          },
          "metadata": {
            "tags": []
          }
        }
      ]
    },
    {
      "cell_type": "code",
      "metadata": {
        "id": "V38IsGd8lmBI",
        "colab_type": "code",
        "outputId": "704015bb-ee67-4434-ed28-4f6ffcba1025",
        "colab": {
          "base_uri": "https://localhost:8080/",
          "height": 447
        }
      },
      "source": [
        "san_andreas = pd.read_csv('https://raw.githubusercontent.com/fivethirtyeight/data/master/san-andreas/earthquake_data.csv')\n",
        "san_andreas.head()"
      ],
      "execution_count": 6,
      "outputs": [
        {
          "output_type": "execute_result",
          "data": {
            "text/html": [
              "<div>\n",
              "<style scoped>\n",
              "    .dataframe tbody tr th:only-of-type {\n",
              "        vertical-align: middle;\n",
              "    }\n",
              "\n",
              "    .dataframe tbody tr th {\n",
              "        vertical-align: top;\n",
              "    }\n",
              "\n",
              "    .dataframe thead th {\n",
              "        text-align: right;\n",
              "    }\n",
              "</style>\n",
              "<table border=\"1\" class=\"dataframe\">\n",
              "  <thead>\n",
              "    <tr style=\"text-align: right;\">\n",
              "      <th></th>\n",
              "      <th>In general, how worried are you about earthquakes?</th>\n",
              "      <th>How worried are you about the Big One, a massive, catastrophic earthquake?</th>\n",
              "      <th>Do you think the \"Big One\" will occur in your lifetime?</th>\n",
              "      <th>Have you ever experienced an earthquake?</th>\n",
              "      <th>Have you or anyone in your household taken any precautions for an earthquake (packed an earthquake survival kit, prepared an evacuation plan, etc.)?</th>\n",
              "      <th>How familiar are you with the San Andreas Fault line?</th>\n",
              "      <th>How familiar are you with the Yellowstone Supervolcano?</th>\n",
              "      <th>Age</th>\n",
              "      <th>What is your gender?</th>\n",
              "      <th>How much total combined money did all members of your HOUSEHOLD earn last year?</th>\n",
              "      <th>US Region</th>\n",
              "    </tr>\n",
              "  </thead>\n",
              "  <tbody>\n",
              "    <tr>\n",
              "      <th>0</th>\n",
              "      <td>Not at all worried</td>\n",
              "      <td>Not so worried</td>\n",
              "      <td>No</td>\n",
              "      <td>Yes, one or more minor ones</td>\n",
              "      <td>No</td>\n",
              "      <td>Somewhat familiar</td>\n",
              "      <td>Not so familiar</td>\n",
              "      <td>18 - 29</td>\n",
              "      <td>Male</td>\n",
              "      <td>Prefer not to answer</td>\n",
              "      <td>New England</td>\n",
              "    </tr>\n",
              "    <tr>\n",
              "      <th>1</th>\n",
              "      <td>Somewhat worried</td>\n",
              "      <td>Very worried</td>\n",
              "      <td>No</td>\n",
              "      <td>Yes, one or more minor ones</td>\n",
              "      <td>No</td>\n",
              "      <td>Not at all familiar</td>\n",
              "      <td>Not at all familiar</td>\n",
              "      <td>18 - 29</td>\n",
              "      <td>Male</td>\n",
              "      <td>$75,000 to $99,999</td>\n",
              "      <td>East North Central</td>\n",
              "    </tr>\n",
              "    <tr>\n",
              "      <th>2</th>\n",
              "      <td>Not so worried</td>\n",
              "      <td>Somewhat worried</td>\n",
              "      <td>No</td>\n",
              "      <td>Yes, one or more minor ones</td>\n",
              "      <td>No</td>\n",
              "      <td>Very familiar</td>\n",
              "      <td>Somewhat familiar</td>\n",
              "      <td>18 - 29</td>\n",
              "      <td>Male</td>\n",
              "      <td>$10,000 to $24,999</td>\n",
              "      <td>Pacific</td>\n",
              "    </tr>\n",
              "    <tr>\n",
              "      <th>3</th>\n",
              "      <td>Not so worried</td>\n",
              "      <td>Not so worried</td>\n",
              "      <td>No</td>\n",
              "      <td>Yes, one or more minor ones</td>\n",
              "      <td>No</td>\n",
              "      <td>Very familiar</td>\n",
              "      <td>Not so familiar</td>\n",
              "      <td>18 - 29</td>\n",
              "      <td>Male</td>\n",
              "      <td>$25,000 to $49,999</td>\n",
              "      <td>West South Central</td>\n",
              "    </tr>\n",
              "    <tr>\n",
              "      <th>4</th>\n",
              "      <td>Not so worried</td>\n",
              "      <td>Not so worried</td>\n",
              "      <td>Yes</td>\n",
              "      <td>Yes, one or more minor ones</td>\n",
              "      <td>No</td>\n",
              "      <td>Somewhat familiar</td>\n",
              "      <td>Extremely familiar</td>\n",
              "      <td>18 - 29</td>\n",
              "      <td>Male</td>\n",
              "      <td>$200,000 and up</td>\n",
              "      <td>Middle Atlantic</td>\n",
              "    </tr>\n",
              "  </tbody>\n",
              "</table>\n",
              "</div>"
            ],
            "text/plain": [
              "  In general, how worried are you about earthquakes?  ...           US Region\n",
              "0                                 Not at all worried  ...         New England\n",
              "1                                   Somewhat worried  ...  East North Central\n",
              "2                                     Not so worried  ...             Pacific\n",
              "3                                     Not so worried  ...  West South Central\n",
              "4                                     Not so worried  ...     Middle Atlantic\n",
              "\n",
              "[5 rows x 11 columns]"
            ]
          },
          "metadata": {
            "tags": []
          },
          "execution_count": 6
        }
      ]
    },
    {
      "cell_type": "code",
      "metadata": {
        "id": "REnBbMhumIZ_",
        "colab_type": "code",
        "colab": {}
      },
      "source": [
        "san_andreas = san_andreas.rename(\n",
        "    columns={'How worried are you about the Big One, a massive, catastrophic earthquake?':'how_worried'}\n",
        "    )"
      ],
      "execution_count": 0,
      "outputs": []
    },
    {
      "cell_type": "code",
      "metadata": {
        "id": "3xsJqJfmmyL9",
        "colab_type": "code",
        "outputId": "facde276-8424-419d-d660-aa0896420b7e",
        "colab": {
          "base_uri": "https://localhost:8080/",
          "height": 195
        }
      },
      "source": [
        "worried = san_andreas['how_worried']\n",
        "counts = worried.value_counts()\n",
        "counts = counts.reset_index()\n",
        "counts"
      ],
      "execution_count": 9,
      "outputs": [
        {
          "output_type": "execute_result",
          "data": {
            "text/html": [
              "<div>\n",
              "<style scoped>\n",
              "    .dataframe tbody tr th:only-of-type {\n",
              "        vertical-align: middle;\n",
              "    }\n",
              "\n",
              "    .dataframe tbody tr th {\n",
              "        vertical-align: top;\n",
              "    }\n",
              "\n",
              "    .dataframe thead th {\n",
              "        text-align: right;\n",
              "    }\n",
              "</style>\n",
              "<table border=\"1\" class=\"dataframe\">\n",
              "  <thead>\n",
              "    <tr style=\"text-align: right;\">\n",
              "      <th></th>\n",
              "      <th>index</th>\n",
              "      <th>how_worried</th>\n",
              "    </tr>\n",
              "  </thead>\n",
              "  <tbody>\n",
              "    <tr>\n",
              "      <th>0</th>\n",
              "      <td>Not at all worried</td>\n",
              "      <td>334</td>\n",
              "    </tr>\n",
              "    <tr>\n",
              "      <th>1</th>\n",
              "      <td>Not so worried</td>\n",
              "      <td>310</td>\n",
              "    </tr>\n",
              "    <tr>\n",
              "      <th>2</th>\n",
              "      <td>Somewhat worried</td>\n",
              "      <td>226</td>\n",
              "    </tr>\n",
              "    <tr>\n",
              "      <th>3</th>\n",
              "      <td>Very worried</td>\n",
              "      <td>75</td>\n",
              "    </tr>\n",
              "    <tr>\n",
              "      <th>4</th>\n",
              "      <td>Extremely worried</td>\n",
              "      <td>68</td>\n",
              "    </tr>\n",
              "  </tbody>\n",
              "</table>\n",
              "</div>"
            ],
            "text/plain": [
              "                index  how_worried\n",
              "0  Not at all worried          334\n",
              "1      Not so worried          310\n",
              "2    Somewhat worried          226\n",
              "3        Very worried           75\n",
              "4   Extremely worried           68"
            ]
          },
          "metadata": {
            "tags": []
          },
          "execution_count": 9
        }
      ]
    },
    {
      "cell_type": "code",
      "metadata": {
        "id": "GVp7jLworz_K",
        "colab_type": "code",
        "outputId": "47cc141a-be77-4c57-c792-dc85e225330b",
        "colab": {
          "base_uri": "https://localhost:8080/",
          "height": 338
        }
      },
      "source": [
        "\n",
        "fig,ax =plt.subplots()\n",
        "\n",
        "#make chart\n",
        "ax.barh(counts['index'],counts['how_worried'],height=.4,color='#FE2700')\n",
        "\n",
        "#remove border\n",
        "ax.set_frame_on = False\n",
        "ax.set_title(\"How Worried Are You About 'The Big One'?\", x=0.22,fontsize=18,fontweight='bold',pad=60)\n",
        "\n",
        "#remove x axis values\n",
        "ax.set_xticklabels('')\n",
        "\n",
        "fig.text(-.23,1.07,'______________________________________________________________________',color='#ABABAB')\n",
        "fig.text(-.23,1,'Survey Dates',fontweight='normal')\n",
        "fig.text(-.23,.91,'______________________________________________________________________',color='#ABABAB')\n",
        "\n",
        "ax.clip_on = False\n",
        "ax.grid(False)\n",
        "\n"
      ],
      "execution_count": 123,
      "outputs": [
        {
          "output_type": "display_data",
          "data": {
            "image/png": "[encoded data removed]",
            "text/plain": [
              "<Figure size 432x288 with 1 Axes>"
            ]
          },
          "metadata": {
            "tags": []
          }
        }
      ]
    },
    {
      "cell_type": "markdown",
      "metadata": {
        "id": "d_bIH1N-VJaE",
        "colab_type": "text"
      },
      "source": [
        ""
      ]
    },
    {
      "cell_type": "code",
      "metadata": {
        "id": "n7aX75-ee5Yj",
        "colab_type": "code",
        "outputId": "7f5a298f-1947-4e8c-f761-6bf8fd57414f",
        "colab": {
          "base_uri": "https://localhost:8080/",
          "height": 215
        }
      },
      "source": [
        "from IPython.display import display, Image\n",
        "\n",
        "url = 'https://fivethirtyeight.com/wp-content/uploads/2015/05/hickey-datalab-sanandreas1.png?w=575'\n",
        "example = Image(url=url, width=400)\n",
        "\n",
        "display(example)"
      ],
      "execution_count": 34,
      "outputs": [
        {
          "output_type": "display_data",
          "data": {
            "text/html": [
              "<img src=\"https://fivethirtyeight.com/wp-content/uploads/2015/05/hickey-datalab-sanandreas1.png?w=575\" width=\"400\"/>"
            ],
            "text/plain": [
              "<IPython.core.display.Image object>"
            ]
          },
          "metadata": {
            "tags": []
          }
        }
      ]
    },
    {
      "cell_type": "code",
      "metadata": {
        "id": "s-a2XdIDmBwd",
        "colab_type": "code",
        "colab": {}
      },
      "source": [
        ""
      ],
      "execution_count": 0,
      "outputs": []
    },
    {
      "cell_type": "markdown",
      "metadata": {
        "id": "0wSrBzmJyWaV",
        "colab_type": "text"
      },
      "source": [
        "# STRETCH OPTIONS\n",
        "\n",
        "### 1) Reproduce one of the following using the matplotlib or seaborn libraries:\n",
        "\n",
        "- [thanksgiving-2015](https://fivethirtyeight.com/features/heres-what-your-part-of-america-eats-on-thanksgiving/) \n",
        "- [candy-power-ranking](https://fivethirtyeight.com/features/the-ultimate-halloween-candy-power-ranking/) \n",
        "- or another example of your choice!\n",
        "\n",
        "### 2) Make more charts!\n",
        "\n",
        "Choose a chart you want to make, from [Visual Vocabulary - Vega Edition](http://ft.com/vocabulary).\n",
        "\n",
        "Find the chart in an example gallery of a Python data visualization library:\n",
        "- [Seaborn](http://seaborn.pydata.org/examples/index.html)\n",
        "- [Altair](https://altair-viz.github.io/gallery/index.html)\n",
        "- [Matplotlib](https://matplotlib.org/gallery.html)\n",
        "- [Pandas](https://pandas.pydata.org/pandas-docs/stable/visualization.html)\n",
        "\n",
        "Reproduce the chart. [Optionally, try the \"Ben Franklin Method.\"](https://docs.google.com/document/d/1ubOw9B3Hfip27hF2ZFnW3a3z9xAgrUDRReOEo-FHCVs/edit) If you want, experiment and make changes.\n",
        "\n",
        "Take notes. Consider sharing your work with your cohort!"
      ]
    },
    {
      "cell_type": "code",
      "metadata": {
        "id": "dRJkKftiy5BJ",
        "colab_type": "code",
        "colab": {}
      },
      "source": [
        "# More Work Here"
      ],
      "execution_count": 0,
      "outputs": []
    }
  ]
}