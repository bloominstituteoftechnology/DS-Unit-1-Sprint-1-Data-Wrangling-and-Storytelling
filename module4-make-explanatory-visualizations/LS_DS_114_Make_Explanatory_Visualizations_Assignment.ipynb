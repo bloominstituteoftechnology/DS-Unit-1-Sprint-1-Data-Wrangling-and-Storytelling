{
  "nbformat": 4,
  "nbformat_minor": 0,
  "metadata": {
    "colab": {
      "name": "LS_DS_114_Make_Explanatory_Visualizations_Assignment.ipynb",
      "provenance": [],
      "collapsed_sections": [],
      "include_colab_link": true
    },
    "language_info": {
      "codemirror_mode": {
        "name": "ipython",
        "version": 3
      },
      "file_extension": ".py",
      "mimetype": "text/x-python",
      "name": "python",
      "nbconvert_exporter": "python",
      "pygments_lexer": "ipython3",
      "version": "3.7.1"
    },
    "kernelspec": {
      "display_name": "Python 3",
      "language": "python",
      "name": "python3"
    }
  },
  "cells": [
    {
      "cell_type": "markdown",
      "metadata": {
        "id": "view-in-github",
        "colab_type": "text"
      },
      "source": [
        "<a href=\"https://colab.research.google.com/github/shengjiyang/DS-Unit-1-Sprint-1-Data-Wrangling-and-Storytelling/blob/master/module4-make-explanatory-visualizations/LS_DS_114_Make_Explanatory_Visualizations_Assignment.ipynb\" target=\"_parent\"><img src=\"https://colab.research.google.com/assets/colab-badge.svg\" alt=\"Open In Colab\"/></a>"
      ]
    },
    {
      "cell_type": "markdown",
      "metadata": {
        "colab_type": "text",
        "id": "NMEswXWh9mqw"
      },
      "source": [
        "Lambda School Data Science\n",
        "\n",
        "*Unit 1, Sprint 1, Module 4*\n",
        "\n",
        "---\n",
        "\n",
        "# ASSIGNMENT\n",
        "\n",
        "### 1) Replicate the lesson code. I recommend that you [do not copy-paste](https://docs.google.com/document/d/1ubOw9B3Hfip27hF2ZFnW3a3z9xAgrUDRReOEo-FHCVs/edit).\n",
        "\n",
        "Get caught up to where we got our example in class and then try and take things further. How close to \"pixel perfect\" can you make the lecture graph?\n",
        "\n",
        "Once you have something that you're proud of, share your graph in the cohort channel and move on to the second exercise.\n",
        "\n",
        "### 2) Reproduce another example from [FiveThityEight's shared data repository](https://data.fivethirtyeight.com/).\n",
        "\n",
        "**WARNING**: There are a lot of very custom graphs and tables at the above link. I **highly** recommend not trying to reproduce any that look like a table of values or something really different from the graph types that we are already familiar with. Search through the posts until you find a graph type that you are more or less familiar with: histogram, bar chart, stacked bar chart, line chart, [seaborn relplot](https://seaborn.pydata.org/generated/seaborn.relplot.html), etc. Recreating some of the graphics that 538 uses would be a lot easier in Adobe photoshop/illustrator than with matplotlib. \n",
        "\n",
        "- If you put in some time to find a graph that looks \"easy\" to replicate you'll probably find that it's not as easy as you thought. \n",
        "\n",
        "- If you start with a graph that looks hard to replicate you'll probably run up against a brick wall and be disappointed with your afternoon.\n",
        "\n",
        "\n",
        "\n",
        "\n",
        "\n",
        "\n",
        "\n",
        "\n",
        "\n",
        "\n"
      ]
    },
    {
      "cell_type": "code",
      "metadata": {
        "id": "7SY1ZHawyZvz",
        "colab_type": "code",
        "colab": {
          "base_uri": "https://localhost:8080/",
          "height": 355
        },
        "outputId": "b4b19eb6-332c-4dd6-9ae8-1c85ebd3f02a"
      },
      "source": [
        "# Replicate the Lesson Code\n",
        "\n",
        "%matplotlib inline\n",
        "import matplotlib.pyplot as plt\n",
        "import numpy as np\n",
        "import pandas as pd\n",
        "\n",
        "\n",
        "# Original \n",
        "from IPython.display import display, Image\n",
        "\n",
        "url = 'https://fivethirtyeight.com/wp-content/uploads/2017/09/mehtahickey-inconvenient-0830-1.png'\n",
        "example = Image(url=url, width=400)\n",
        "\n",
        "display(example)"
      ],
      "execution_count": 1,
      "outputs": [
        {
          "output_type": "display_data",
          "data": {
            "text/html": [
              "<img src=\"https://fivethirtyeight.com/wp-content/uploads/2017/09/mehtahickey-inconvenient-0830-1.png\" width=\"400\"/>"
            ],
            "text/plain": [
              "<IPython.core.display.Image object>"
            ]
          },
          "metadata": {
            "tags": []
          }
        }
      ]
    },
    {
      "cell_type": "code",
      "metadata": {
        "id": "sMLrClaZQ1h5",
        "colab_type": "code",
        "colab": {
          "base_uri": "https://localhost:8080/",
          "height": 323
        },
        "outputId": "5983f047-24a5-4768-ee97-d76f8d824fed"
      },
      "source": [
        "# My attempt to replicate what you see above:\n",
        "\n",
        "ax, fig = plt.subplots()\n",
        "\n",
        "# 千萬別忘記這行的code，否則以下的code，全部都沒用啦！\n",
        "ax = plt.axes()\n",
        "\n",
        "plt.style.use('fivethirtyeight')\n",
        "\n",
        "fake = pd.Series([38, 3, 2, 1, 2, 4, 6, 5, 5, 33], \n",
        "                 index=range(1,11))\n",
        "\n",
        "ax.bar(height = fake, x = range(1, 11, 1), color = '#ED713A', width = 0.9)\n",
        "\n",
        "# Title\n",
        "ax.text(s = \"'An Inconvient Sequel: Truth To Power' is divisive\",\n",
        "        x = 0.5, y = 43, fontsize = 12, fontweight = 'bold')\n",
        "\n",
        "\n",
        "# Subtitle\n",
        "ax.text(s = 'IMDb ratings of the film as of Aug. 29', x = 0.4, y = 41,\n",
        "        fontsize = 10)\n",
        "\n",
        "# X-Ray and Yankee Ticks\n",
        "ax.set_xticks(range(1, 11, 1))\n",
        "ax.set_yticks((range(0, 50, 10)))\n",
        "\n",
        "# X-Ray and Yankee Labels\n",
        "ax.set_ylabel('Percent of total votes', color = 'black', fontsize = 10,\n",
        "              fontweight = 'bold')\n",
        "ax.set_xlabel('Rating', color = 'black', fontsize = 10,\n",
        "              fontweight = 'bold')\n",
        "\n",
        "# Axes and Background Color\n",
        "ax.set_facecolor(color = 'None')\n",
        "ax.patch.set(facecolor = 'None')\n",
        "\n",
        "# Removing the Spines\n",
        "ax.spines['top'].set_visible(False)\n",
        "ax.spines['bottom'].set_visible(False)\n",
        "ax.spines['left'].set_visible(False)\n",
        "ax.spines['right'].set_visible(False)\n",
        "\n",
        "plt.show()"
      ],
      "execution_count": 30,
      "outputs": [
        {
          "output_type": "display_data",
          "data": {
            "image/png": "[encoded data removed]",
            "text/plain": [
              "<Figure size 432x288 with 1 Axes>"
            ]
          },
          "metadata": {
            "tags": []
          }
        }
      ]
    },
    {
      "cell_type": "code",
      "metadata": {
        "id": "LC6mLoGhiIzi",
        "colab_type": "code",
        "colab": {}
      },
      "source": [
        "title = 'The Paintings of Bob Ross'\n",
        "sub_title = 'Percentage containing each element'\n",
        "\n",
        "percentages = pd.Series([2, 2, 2, 2, 3, 4, 4, 6, 6, 7, 7, 9, 9, 9, 13, 13, 18,\n",
        "                         18, 19, 20, 20, 20, 21, 22, 24, 26, 30, 33, 34, 36, 39,\n",
        "                         44, 53, 56, 85, 91], index = objects)\n",
        "\n",
        "p_list = [2, 2, 2, 2, 3, 4, 4, 6, 6, 7, 7, 9, 9, 9, 13, 13, 18,\n",
        "                         18, 19, 20, 20, 20, 21, 22, 24, 26, 30, 33, 34, 36, 39,\n",
        "                         44, 53, 56, 85, 91]\n",
        "\n",
        "objects = ('Bridge', 'Cliff', 'Palm Tree', 'Flowers', 'Nighttime', 'Barn',\n",
        "          'Hills', 'Fog', 'Fence', 'Cirrus Clouds', 'Beach', 'Waves',\n",
        "          'Ocean', 'Oval Frame', 'Path', 'Frame', 'Winter Setting',\n",
        "          'Cabin', 'Snow', 'Waterfall', 'Sun', 'Rocks',\n",
        "          'Cumulus clouds', 'Man-man structure',\n",
        "          'At least two mountains', 'Snow-covered mountain',\n",
        "          'Bushes', 'River or stream', 'Lake',\n",
        "          'Grass', 'At least one mountain', 'Clouds',\n",
        "          'Coniferous tree', 'Deciduous Tree', 'At least two trees',\n",
        "          'At least one tree')"
      ],
      "execution_count": 0,
      "outputs": []
    },
    {
      "cell_type": "code",
      "metadata": {
        "id": "J2YCOZihyfjM",
        "colab_type": "code",
        "colab": {
          "base_uri": "https://localhost:8080/",
          "height": 34
        },
        "outputId": "1d935858-b2d9-4699-a316-402fc3e81858"
      },
      "source": [
        "print(len(objects))"
      ],
      "execution_count": 44,
      "outputs": [
        {
          "output_type": "stream",
          "text": [
            "36\n"
          ],
          "name": "stdout"
        }
      ]
    },
    {
      "cell_type": "code",
      "metadata": {
        "id": "zAguvZldnteK",
        "colab_type": "code",
        "colab": {
          "base_uri": "https://localhost:8080/",
          "height": 275
        },
        "outputId": "1cf93ee8-be45-450c-83a1-e627d5e049a8"
      },
      "source": [
        "ax, fig = plt.subplots()\n",
        "ax = plt.axes()\n",
        "\n",
        "\n",
        "plt.style.use('fivethirtyeight')\n",
        "y_pos = np.arange(len(objects))\n",
        "\n",
        "ax.barh(y_pos, percentages, color = '#008FD5')\n",
        "\n",
        "ax.set_title(title, x = 0, fontsize = 7, fontweight = 'bold')\n",
        "ax.text(s = sub_title, x = -11.5, y = 37, fontsize = 5)\n",
        "\n",
        "ax.grid(False)\n",
        "\n",
        "ax.set_yticks(range(0, 36, 1))\n",
        "ax.set_yticklabels(['Bridge', 'Cliff', 'Palm Tree', 'Flowers', 'Nighttime','Barn',\n",
        "          'Hills', 'Fog', 'Fence', 'Cirrus Clouds', 'Beach', 'Waves',\n",
        "          'Ocean', 'Oval Frame', 'Path', 'Frame', 'Winter Setting',\n",
        "          'Cabin', 'Snow', 'Waterfall', 'Sun', 'Rocks',\n",
        "          'Cumulus clouds', 'Man-man structure',\n",
        "          'At least two mountains', 'Snow-covered mountain',\n",
        "          'Bushes', 'River or stream', 'Lake',\n",
        "          'Grass', 'At least one mountain', 'Clouds',\n",
        "          'Coniferous tree', 'Deciduous Tree', 'At least two trees',\n",
        "          'At least one tree'], fontsize = 5)\n",
        "\n",
        "ax.get_xaxis().set_visible(False)\n",
        "\n",
        "ax.set_facecolor(color = '#F0F0F0')\n",
        "\n",
        "discrete = [1, 2, 3, 4, 5, 6, 7, 8, 9, 10, 11, 12, 13, 14, 15, 16, 17, 18, 19,\n",
        "            20, 21, 22, 23, 24, 25, 26, 27, 28, 29, 30, 31, 32, 33, 34, 35, 36]\n",
        "\n",
        "for i in range(len(objects)):\n",
        "  ax.text(s = p_list[i], x = p_list[i] + 0.5, y = discrete[i] - 1.125,\n",
        "          fontsize = 3.5)\n",
        "\n",
        "plt.show()"
      ],
      "execution_count": 128,
      "outputs": [
        {
          "output_type": "display_data",
          "data": {
            "image/png": "[encoded data removed]",
            "text/plain": [
              "<Figure size 432x288 with 1 Axes>"
            ]
          },
          "metadata": {
            "tags": []
          }
        }
      ]
    },
    {
      "cell_type": "markdown",
      "metadata": {
        "id": "0wSrBzmJyWaV",
        "colab_type": "text"
      },
      "source": [
        "# STRETCH OPTIONS\n",
        "\n",
        "### 1) Reproduce one of the following using the matplotlib or seaborn libraries:\n",
        "\n",
        "- [thanksgiving-2015](https://fivethirtyeight.com/features/heres-what-your-part-of-america-eats-on-thanksgiving/) \n",
        "- [candy-power-ranking](https://fivethirtyeight.com/features/the-ultimate-halloween-candy-power-ranking/) \n",
        "- or another example of your choice!\n",
        "\n",
        "### 2) Make more charts!\n",
        "\n",
        "Choose a chart you want to make, from [Visual Vocabulary - Vega Edition](http://ft.com/vocabulary).\n",
        "\n",
        "Find the chart in an example gallery of a Python data visualization library:\n",
        "- [Seaborn](http://seaborn.pydata.org/examples/index.html)\n",
        "- [Altair](https://altair-viz.github.io/gallery/index.html)\n",
        "- [Matplotlib](https://matplotlib.org/gallery.html)\n",
        "- [Pandas](https://pandas.pydata.org/pandas-docs/stable/visualization.html)\n",
        "\n",
        "Reproduce the chart. [Optionally, try the \"Ben Franklin Method.\"](https://docs.google.com/document/d/1ubOw9B3Hfip27hF2ZFnW3a3z9xAgrUDRReOEo-FHCVs/edit) If you want, experiment and make changes.\n",
        "\n",
        "Take notes. Consider sharing your work with your cohort!"
      ]
    },
    {
      "cell_type": "code",
      "metadata": {
        "id": "dRJkKftiy5BJ",
        "colab_type": "code",
        "colab": {}
      },
      "source": [
        "# More Work Here"
      ],
      "execution_count": 0,
      "outputs": []
    }
  ]
}