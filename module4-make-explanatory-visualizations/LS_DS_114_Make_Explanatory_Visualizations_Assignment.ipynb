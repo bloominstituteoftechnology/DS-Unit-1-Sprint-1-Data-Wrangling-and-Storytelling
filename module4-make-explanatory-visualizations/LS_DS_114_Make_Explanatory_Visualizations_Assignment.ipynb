{
  "nbformat": 4,
  "nbformat_minor": 0,
  "metadata": {
    "colab": {
      "name": "LS_DS_114_Make_Explanatory_Visualizations_Assignment.ipynb",
      "provenance": [],
      "collapsed_sections": [],
      "include_colab_link": true
    },
    "language_info": {
      "codemirror_mode": {
        "name": "ipython",
        "version": 3
      },
      "file_extension": ".py",
      "mimetype": "text/x-python",
      "name": "python",
      "nbconvert_exporter": "python",
      "pygments_lexer": "ipython3",
      "version": "3.7.1"
    },
    "kernelspec": {
      "display_name": "Python 3",
      "language": "python",
      "name": "python3"
    }
  },
  "cells": [
    {
      "cell_type": "markdown",
      "metadata": {
        "id": "view-in-github",
        "colab_type": "text"
      },
      "source": [
        "<a href=\"https://colab.research.google.com/github/danielburch/DS-Unit-1-Sprint-1-Data-Wrangling-and-Storytelling/blob/master/module4-make-explanatory-visualizations/LS_DS_114_Make_Explanatory_Visualizations_Assignment.ipynb\" target=\"_parent\"><img src=\"https://colab.research.google.com/assets/colab-badge.svg\" alt=\"Open In Colab\"/></a>"
      ]
    },
    {
      "cell_type": "markdown",
      "metadata": {
        "colab_type": "text",
        "id": "NMEswXWh9mqw"
      },
      "source": [
        "Lambda School Data Science\n",
        "\n",
        "*Unit 1, Sprint 1, Module 4*\n",
        "\n",
        "---\n",
        "\n",
        "# ASSIGNMENT\n",
        "\n",
        "### 1) Replicate the lesson code. I recommend that you [do not copy-paste](https://docs.google.com/document/d/1ubOw9B3Hfip27hF2ZFnW3a3z9xAgrUDRReOEo-FHCVs/edit).\n",
        "\n",
        "Get caught up to where we got our example in class and then try and take things further. How close to \"pixel perfect\" can you make the lecture graph?\n",
        "\n",
        "Once you have something that you're proud of, share your graph in the cohort channel and move on to the second exercise.\n",
        "\n",
        "### 2) Reproduce another example from [FiveThityEight's shared data repository](https://data.fivethirtyeight.com/).\n",
        "\n",
        "**WARNING**: There are a lot of very custom graphs and tables at the above link. I **highly** recommend not trying to reproduce any that look like a table of values or something really different from the graph types that we are already familiar with. Search through the posts until you find a graph type that you are more or less familiar with: histogram, bar chart, stacked bar chart, line chart, [seaborn relplot](https://seaborn.pydata.org/generated/seaborn.relplot.html), etc. Recreating some of the graphics that 538 uses would be a lot easier in Adobe photoshop/illustrator than with matplotlib. \n",
        "\n",
        "- If you put in some time to find a graph that looks \"easy\" to replicate you'll probably find that it's not as easy as you thought. \n",
        "\n",
        "- If you start with a graph that looks hard to replicate you'll probably run up against a brick wall and be disappointed with your afternoon.\n",
        "\n",
        "\n",
        "\n",
        "\n",
        "\n",
        "\n",
        "\n",
        "\n",
        "\n",
        "\n"
      ]
    },
    {
      "cell_type": "code",
      "metadata": {
        "id": "7SY1ZHawyZvz",
        "colab_type": "code",
        "colab": {}
      },
      "source": [
        "# Your Work Here\n",
        "\n",
        "#housekeeping\n",
        "\n",
        "%matplotlib inline\n",
        "import numpy as np\n",
        "import matplotlib.pyplot as plt\n",
        "import pandas as pd\n"
      ],
      "execution_count": 0,
      "outputs": []
    },
    {
      "cell_type": "code",
      "metadata": {
        "id": "iMB5SdiilfqC",
        "colab_type": "code",
        "colab": {}
      },
      "source": [
        "from IPython.display import display, Image\n",
        "url = 'https://fivethirtyeight.com/wp-content/uploads/2019/12/Mehta.Pollapalooza.1213.png?w=575'\n",
        "example = Image(url=url, width=600)\n",
        "\n"
      ],
      "execution_count": 0,
      "outputs": []
    },
    {
      "cell_type": "code",
      "metadata": {
        "id": "Rayaz7PMCjay",
        "colab_type": "code",
        "colab": {
          "base_uri": "https://localhost:8080/",
          "height": 419
        },
        "outputId": "bb7cb83c-2987-48ca-d1c7-17e0f0ffa897"
      },
      "source": [
        "import random\n",
        "\n",
        "plt.style.use('fivethirtyeight')\n",
        "\n",
        "y = [random.randrange(4, 16, 1) for i in range(500)]\n",
        "\n",
        "x = [random.randrange(1, 40, 1) for i in range(500)]\n",
        "\n",
        "\n",
        "fig, ax = plt.subplots()\n",
        "\n",
        "fig.patch.set_facecolor('white')\n",
        "\n",
        "df = pd.DataFrame({'x':x,\n",
        "                   'y':y })\n",
        "\n",
        "# scatter graph\n",
        "ax.scatter(df['x'], df['y'], color='red')\n",
        "\n",
        "#Inside the fig color\n",
        "ax.set_facecolor('#F0F0F0')\n",
        "\n",
        "#outside the fig color\n",
        "fig.set_facecolor('#F0F0F0')\n",
        "\n",
        "#y-axis tick marks and tick labels\n",
        "ax.set_yticks(range(0,50,10))\n",
        "ax.set_yticklabels(['-20','10','0','+10','+20'])\n",
        "\n",
        "#x-axis tick marks and tick labels\n",
        "ax.set_xticks(range(0,40,10))\n",
        "ax.set_xticklabels(['Jan.','April','July',\"       Oct.      '19\"])\n",
        "\n",
        "#y axis label\n",
        "ax.set_ylabel('Net favorability',fontsize=15,labelpad=5,fontweight='bold')\n",
        "\n",
        "#remove spines\n",
        "ax.spines['right'].set_visible(False)\n",
        "ax.spines['top'].set_visible(False)\n",
        "\n",
        "#graph sub title\n",
        "ax.text(s='Trump', x=17, y=40, fontsize='18', fontweight='bold')\n",
        "ax.text(s='', x=2.55, y=19, fontsize='18', fontweight='bold')\n",
        "\n",
        "# graph title\n",
        "ax.set_title(\"Trump is less popular than leading Democratic candidates\", x=.35, y=1.5, fontsize='20', fontweight='bold')\n",
        "\n",
        "plt.show()\n",
        "\n",
        "\n",
        "\n"
      ],
      "execution_count": 215,
      "outputs": [
        {
          "output_type": "display_data",
          "data": {
            "image/png": "[encoded data removed]",
            "text/plain": [
              "<Figure size 432x288 with 1 Axes>"
            ]
          },
          "metadata": {
            "tags": []
          }
        }
      ]
    },
    {
      "cell_type": "code",
      "metadata": {
        "id": "YyPWdtJs3kFX",
        "colab_type": "code",
        "colab": {
          "base_uri": "https://localhost:8080/",
          "height": 54
        },
        "outputId": "3810930f-50b4-468e-8f5c-d905cfffe334"
      },
      "source": [
        "import random\n",
        "\n",
        "y = [random.randrange(1, 20, 1) for i in range(200)]\n",
        "\n",
        "x = [random.randrange(1, 4, 1) for i in range(200)]\n",
        "\n",
        "print(x)"
      ],
      "execution_count": 177,
      "outputs": [
        {
          "output_type": "stream",
          "text": [
            "[3, 3, 2, 3, 3, 3, 1, 3, 3, 3, 2, 2, 3, 1, 2, 3, 3, 2, 2, 1, 3, 3, 2, 3, 3, 3, 1, 1, 1, 2, 2, 1, 3, 3, 3, 3, 2, 2, 2, 2, 2, 3, 3, 3, 1, 1, 3, 2, 2, 3, 2, 1, 3, 2, 2, 1, 3, 3, 2, 2, 3, 1, 1, 3, 3, 3, 2, 2, 2, 2, 3, 3, 2, 1, 2, 2, 2, 2, 1, 1, 1, 3, 3, 2, 3, 3, 2, 3, 3, 1, 2, 2, 2, 3, 1, 3, 1, 2, 3, 3, 1, 2, 3, 1, 1, 1, 2, 1, 1, 2, 2, 3, 3, 2, 3, 1, 1, 3, 1, 1, 1, 3, 2, 2, 1, 3, 3, 2, 1, 2, 2, 3, 1, 2, 2, 2, 1, 3, 3, 3, 1, 3, 2, 3, 1, 1, 2, 2, 2, 1, 1, 3, 3, 1, 1, 2, 1, 2, 3, 3, 1, 2, 3, 2, 1, 1, 2, 3, 3, 2, 1, 3, 3, 2, 2, 3, 3, 3, 2, 2, 3, 3, 3, 1, 2, 3, 1, 2, 1, 2, 2, 1, 1, 1, 1, 3, 3, 1, 2, 1]\n"
          ],
          "name": "stdout"
        }
      ]
    },
    {
      "cell_type": "code",
      "metadata": {
        "id": "lIM2Is6EpqlU",
        "colab_type": "code",
        "colab": {
          "base_uri": "https://localhost:8080/",
          "height": 1000
        },
        "outputId": "6f582fa7-5db0-436d-d2a5-087575784480"
      },
      "source": [
        "display(example)"
      ],
      "execution_count": 162,
      "outputs": [
        {
          "output_type": "display_data",
          "data": {
            "text/html": [
              "<img src=\"https://fivethirtyeight.com/wp-content/uploads/2019/12/Mehta.Pollapalooza.1213.png?w=575\" width=\"600\"/>"
            ],
            "text/plain": [
              "<IPython.core.display.Image object>"
            ]
          },
          "metadata": {
            "tags": []
          }
        }
      ]
    },
    {
      "cell_type": "markdown",
      "metadata": {
        "id": "0wSrBzmJyWaV",
        "colab_type": "text"
      },
      "source": [
        "# STRETCH OPTIONS\n",
        "\n",
        "### 1) Reproduce one of the following using the matplotlib or seaborn libraries:\n",
        "\n",
        "- [thanksgiving-2015](https://fivethirtyeight.com/features/heres-what-your-part-of-america-eats-on-thanksgiving/) \n",
        "- [candy-power-ranking](https://fivethirtyeight.com/features/the-ultimate-halloween-candy-power-ranking/) \n",
        "- or another example of your choice!\n",
        "\n",
        "### 2) Make more charts!\n",
        "\n",
        "Choose a chart you want to make, from [Visual Vocabulary - Vega Edition](http://ft.com/vocabulary).\n",
        "\n",
        "Find the chart in an example gallery of a Python data visualization library:\n",
        "- [Seaborn](http://seaborn.pydata.org/examples/index.html)\n",
        "- [Altair](https://altair-viz.github.io/gallery/index.html)\n",
        "- [Matplotlib](https://matplotlib.org/gallery.html)\n",
        "- [Pandas](https://pandas.pydata.org/pandas-docs/stable/visualization.html)\n",
        "\n",
        "Reproduce the chart. [Optionally, try the \"Ben Franklin Method.\"](https://docs.google.com/document/d/1ubOw9B3Hfip27hF2ZFnW3a3z9xAgrUDRReOEo-FHCVs/edit) If you want, experiment and make changes.\n",
        "\n",
        "Take notes. Consider sharing your work with your cohort!"
      ]
    },
    {
      "cell_type": "code",
      "metadata": {
        "id": "dRJkKftiy5BJ",
        "colab_type": "code",
        "colab": {}
      },
      "source": [
        "# More Work Here"
      ],
      "execution_count": 0,
      "outputs": []
    }
  ]
}