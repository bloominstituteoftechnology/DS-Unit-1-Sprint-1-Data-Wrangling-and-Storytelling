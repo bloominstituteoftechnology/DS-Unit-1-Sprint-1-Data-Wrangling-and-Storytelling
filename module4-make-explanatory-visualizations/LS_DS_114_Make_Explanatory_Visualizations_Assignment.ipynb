{
  "nbformat": 4,
  "nbformat_minor": 0,
  "metadata": {
    "colab": {
      "name": "LS_DS_114_Make_Explanatory_Visualizations_Assignment.ipynb",
      "provenance": [],
      "collapsed_sections": [],
      "include_colab_link": true
    },
    "language_info": {
      "codemirror_mode": {
        "name": "ipython",
        "version": 3
      },
      "file_extension": ".py",
      "mimetype": "text/x-python",
      "name": "python",
      "nbconvert_exporter": "python",
      "pygments_lexer": "ipython3",
      "version": "3.7.1"
    },
    "kernelspec": {
      "display_name": "Python 3",
      "language": "python",
      "name": "python3"
    }
  },
  "cells": [
    {
      "cell_type": "markdown",
      "metadata": {
        "id": "view-in-github",
        "colab_type": "text"
      },
      "source": [
        "<a href=\"https://colab.research.google.com/github/dougscohen/DS-Unit-1-Sprint-1-Data-Wrangling-and-Storytelling/blob/master/module4-make-explanatory-visualizations/LS_DS_114_Make_Explanatory_Visualizations_Assignment.ipynb\" target=\"_parent\"><img src=\"https://colab.research.google.com/assets/colab-badge.svg\" alt=\"Open In Colab\"/></a>"
      ]
    },
    {
      "cell_type": "markdown",
      "metadata": {
        "colab_type": "text",
        "id": "NMEswXWh9mqw"
      },
      "source": [
        "Lambda School Data Science\n",
        "\n",
        "*Unit 1, Sprint 1, Module 4*\n",
        "\n",
        "---\n",
        "\n",
        "# ASSIGNMENT\n",
        "\n",
        "### 1) Replicate the lesson code. I recommend that you [do not copy-paste](https://docs.google.com/document/d/1ubOw9B3Hfip27hF2ZFnW3a3z9xAgrUDRReOEo-FHCVs/edit).\n",
        "\n",
        "Get caught up to where we got our example in class and then try and take things further. How close to \"pixel perfect\" can you make the lecture graph?\n",
        "\n",
        "Once you have something that you're proud of, share your graph in the cohort channel and move on to the second exercise.\n",
        "\n",
        "### 2) Reproduce another example from [FiveThityEight's shared data repository](https://data.fivethirtyeight.com/).\n",
        "\n",
        "**WARNING**: There are a lot of very custom graphs and tables at the above link. I **highly** recommend not trying to reproduce any that look like a table of values or something really different from the graph types that we are already familiar with. Search through the posts until you find a graph type that you are more or less familiar with: histogram, bar chart, stacked bar chart, line chart, [seaborn relplot](https://seaborn.pydata.org/generated/seaborn.relplot.html), etc. Recreating some of the graphics that 538 uses would be a lot easier in Adobe photoshop/illustrator than with matplotlib. \n",
        "\n",
        "- If you put in some time to find a graph that looks \"easy\" to replicate you'll probably find that it's not as easy as you thought. \n",
        "\n",
        "- If you start with a graph that looks hard to replicate you'll probably run up against a brick wall and be disappointed with your afternoon.\n",
        "\n",
        "\n",
        "\n",
        "\n",
        "\n",
        "\n",
        "\n",
        "\n",
        "\n",
        "\n"
      ]
    },
    {
      "cell_type": "code",
      "metadata": {
        "id": "KEKof7wuLuWN",
        "colab_type": "code",
        "colab": {
          "base_uri": "https://localhost:8080/",
          "height": 355
        },
        "outputId": "fc0ead84-420f-4169-f5ea-4af17e5ad8b7"
      },
      "source": [
        "from IPython.display import display, Image\n",
        "\n",
        "url = 'https://fivethirtyeight.com/wp-content/uploads/2017/09/mehtahickey-inconvenient-0830-1.png'\n",
        "example = Image(url=url, width=400)\n",
        "\n",
        "display(example)"
      ],
      "execution_count": 6,
      "outputs": [
        {
          "output_type": "display_data",
          "data": {
            "text/html": [
              "<img src=\"https://fivethirtyeight.com/wp-content/uploads/2017/09/mehtahickey-inconvenient-0830-1.png\" width=\"400\"/>"
            ],
            "text/plain": [
              "<IPython.core.display.Image object>"
            ]
          },
          "metadata": {
            "tags": []
          }
        }
      ]
    },
    {
      "cell_type": "code",
      "metadata": {
        "id": "_EhYhv7rLJVj",
        "colab_type": "code",
        "colab": {
          "base_uri": "https://localhost:8080/",
          "height": 284
        },
        "outputId": "381f1840-3a52-4609-d87f-922226e623e5"
      },
      "source": [
        "%matplotlib inline\n",
        "import matplotlib.pyplot as plt\n",
        "import numpy as np\n",
        "import pandas as pd\n",
        "\n",
        "\n",
        "plt.style.use('fivethirtyeight')\n",
        "\n",
        "fake = pd.Series([38, 3, 2, 1, 2, 4, 6, 5, 5, 33], \n",
        "                 index=range(1,11))\n",
        "\n",
        "fake.plot.bar(color='C1', width=0.9);"
      ],
      "execution_count": 7,
      "outputs": [
        {
          "output_type": "display_data",
          "data": {
            "image/png": "[encoded data removed]",
            "text/plain": [
              "<Figure size 432x288 with 1 Axes>"
            ]
          },
          "metadata": {
            "tags": []
          }
        }
      ]
    },
    {
      "cell_type": "code",
      "metadata": {
        "id": "7SY1ZHawyZvz",
        "colab_type": "code",
        "colab": {
          "base_uri": "https://localhost:8080/",
          "height": 351
        },
        "outputId": "3922eca0-d250-4bb9-8596-fa8f9d469748"
      },
      "source": [
        "# set the stylesheet for my graphs\n",
        "plt.style.use('fivethirtyeight')\n",
        "\n",
        "# Create my figure and axes variables\n",
        "fig, ax = plt.subplots()\n",
        "\n",
        "# Plot color and shape of the bars\n",
        "ax.bar(x=[1,2,3,4,5,6,7,8,9,10], height=fake, color='#ED713A', width=0.9)\n",
        "\n",
        "# figure background color\n",
        "fig.set_facecolor(color='None')\n",
        "\n",
        "# Axes background color\n",
        "ax.set_facecolor(color='None')\n",
        "\n",
        "# to fix the grid, what I really need to fix is the tick marks\n",
        "\n",
        "# set x ticks\n",
        "ax.set_xticks([1,2,3,4,5,6,7,8,9,10])\n",
        "# set y ticks\n",
        "ax.set_yticks(range(0,50,10))\n",
        "\n",
        "# set y tick labels\n",
        "ax.set_yticklabels([0,10,20,30,'40%'], fontsize=8, color='#AEAEAE')\n",
        "\n",
        "# set x tick labels\n",
        "ax.set_xticklabels(range(1,11,1), fontsize=8, color='#AEAEAE')\n",
        "\n",
        "# Change peramters of x ticks\n",
        "ax.tick_params(axis='x', which='major', length=9, color='#AEAEAE')\n",
        "\n",
        "# remove left spine\n",
        "ax.spines['left'].set_visible(False)\n",
        "\n",
        "# remove right spine\n",
        "ax.spines['right'].set_visible(False)\n",
        "\n",
        "# x label\n",
        "ax.set_xlabel('Rating', fontsize=10, fontweight=500)\n",
        "\n",
        "# y label\n",
        "ax.set_ylabel('Percent of total votes', fontsize=10, fontweight=500)\n",
        "\n",
        "# set title\n",
        "ax.set_title(\"'An Inconvenient Sequel: Truth to Power' is divisive\", fontsize=12, x=.37, y=1.15, fontweight='bold')\n",
        "\n",
        "# set subtitle (using the text method and not subtitle on purpose)\n",
        "ax.text(s=\"IMDb ratings for the film as of Aug. 29\", y=44, x=-.98, fontsize=11)\n",
        "\n",
        "# Show the graph, squelch the output\n",
        "plt.show()"
      ],
      "execution_count": 52,
      "outputs": [
        {
          "output_type": "display_data",
          "data": {
            "image/png": "[encoded data removed]",
            "text/plain": [
              "<Figure size 432x288 with 1 Axes>"
            ]
          },
          "metadata": {
            "tags": []
          }
        }
      ]
    },
    {
      "cell_type": "code",
      "metadata": {
        "id": "aBwV42nPLw-2",
        "colab_type": "code",
        "colab": {
          "base_uri": "https://localhost:8080/",
          "height": 355
        },
        "outputId": "4dbae3ec-f1d9-4855-b754-0a3aef4afffb"
      },
      "source": [
        "display(example)"
      ],
      "execution_count": 10,
      "outputs": [
        {
          "output_type": "display_data",
          "data": {
            "text/html": [
              "<img src=\"https://fivethirtyeight.com/wp-content/uploads/2017/09/mehtahickey-inconvenient-0830-1.png\" width=\"400\"/>"
            ],
            "text/plain": [
              "<IPython.core.display.Image object>"
            ]
          },
          "metadata": {
            "tags": []
          }
        }
      ]
    },
    {
      "cell_type": "code",
      "metadata": {
        "id": "ZuNNiUiDWMqf",
        "colab_type": "code",
        "colab": {
          "base_uri": "https://localhost:8080/",
          "height": 986
        },
        "outputId": "80cd7de6-5c3a-4649-ae32-0f360fe4cc53"
      },
      "source": [
        "from IPython.display import display, Image\n",
        "\n",
        "url = 'https://fivethirtyeight.com/wp-content/uploads/2017/08/roeder-uschess-1.png'\n",
        "picture = Image(url=url, width=800)\n",
        "\n",
        "display(picture)"
      ],
      "execution_count": 124,
      "outputs": [
        {
          "output_type": "display_data",
          "data": {
            "text/html": [
              "<img src=\"https://fivethirtyeight.com/wp-content/uploads/2017/08/roeder-uschess-1.png\" width=\"800\"/>"
            ],
            "text/plain": [
              "<IPython.core.display.Image object>"
            ]
          },
          "metadata": {
            "tags": []
          }
        }
      ]
    },
    {
      "cell_type": "code",
      "metadata": {
        "id": "0AFjvrBWW8wO",
        "colab_type": "code",
        "colab": {
          "base_uri": "https://localhost:8080/",
          "height": 371
        },
        "outputId": "903f28f1-5e38-4d9d-80ca-4f7fff42e038"
      },
      "source": [
        "%matplotlib inline\n",
        "import matplotlib.pyplot as plt\n",
        "import numpy as np\n",
        "import pandas as pd\n",
        "\n",
        "\n",
        "plt.style.use('fivethirtyeight')\n",
        "\n",
        "data = pd.Series([2, 3, 3, 4, 6, 7, 7, 7, 8, 11], \n",
        "                 index=['Columbia','Belarus','Azerbaijan','Georgia','Philippines','Ukraine','Russia','Cuba','Armenia','India'])\n",
        "\n",
        "# Create my figure and axes variables\n",
        "fig, ax = plt.subplots()\n",
        "\n",
        "# plot horizontal bar chart\n",
        "data.plot.barh(color='#f95bca', width=0.8);\n",
        "\n",
        "# figure background color\n",
        "fig.set_facecolor(color='None')\n",
        "\n",
        "# axes background color\n",
        "ax.set_facecolor(color='None')\n",
        "\n",
        "# x ticks\n",
        "ax.set_xticks(range(0,13,2))\n",
        "\n",
        "# x tick labels\n",
        "ax.set_xticklabels(range(0,13,2), fontsize=9, color='#AEAEAE')\n",
        "\n",
        "# Set a text called 'Number of Transfers as a title for the x axis\n",
        "ax.text(s='Number of Transfers', y=11, x=4, fontsize=11, fontweight='bold')\n",
        "\n",
        "# put x ticks position at top\n",
        "ax.xaxis.set_ticks_position('top')\n",
        "\n",
        "# Set title\n",
        "ax.set_title('Countries with highest number of transfers to the U.S.', y=1.3, x=.175, fontsize=12, fontweight='bold')\n",
        "\n",
        "# Remove the y axis grid lines\n",
        "ax.grid(axis='y', b=None)\n",
        "\n",
        "# Plot the line below the graph\n",
        "ax.plot([-1.2,14.5],[-.088,-.088], color=\"#AEAEAE\", transform=trans, clip_on=False)\n",
        "\n",
        "ax.text(s='2017 data as of April 11', y=-1.5, x=-2.45, fontsize=9, color='#AEAEAE')\n",
        "\n",
        "# ax.text(s='FiveThirtyEight', y=-2, x=-2.45, fontsize=9, color='#AEAEAE')\n",
        "\n",
        "plt.show()"
      ],
      "execution_count": 244,
      "outputs": [
        {
          "output_type": "display_data",
          "data": {
            "image/png": "[encoded data removed]",
            "text/plain": [
              "<Figure size 432x288 with 1 Axes>"
            ]
          },
          "metadata": {
            "tags": []
          }
        }
      ]
    },
    {
      "cell_type": "code",
      "metadata": {
        "id": "fWV-o1tQc4Q6",
        "colab_type": "code",
        "colab": {
          "base_uri": "https://localhost:8080/",
          "height": 986
        },
        "outputId": "ac1890f7-b18d-4fb0-c317-ef002ad33127"
      },
      "source": [
        "display(picture)"
      ],
      "execution_count": 245,
      "outputs": [
        {
          "output_type": "display_data",
          "data": {
            "text/html": [
              "<img src=\"https://fivethirtyeight.com/wp-content/uploads/2017/08/roeder-uschess-1.png\" width=\"800\"/>"
            ],
            "text/plain": [
              "<IPython.core.display.Image object>"
            ]
          },
          "metadata": {
            "tags": []
          }
        }
      ]
    },
    {
      "cell_type": "markdown",
      "metadata": {
        "id": "0wSrBzmJyWaV",
        "colab_type": "text"
      },
      "source": [
        "# STRETCH OPTIONS\n",
        "\n",
        "### 1) Reproduce one of the following using the matplotlib or seaborn libraries:\n",
        "\n",
        "- [thanksgiving-2015](https://fivethirtyeight.com/features/heres-what-your-part-of-america-eats-on-thanksgiving/) \n",
        "- [candy-power-ranking](https://fivethirtyeight.com/features/the-ultimate-halloween-candy-power-ranking/) \n",
        "- or another example of your choice!\n",
        "\n",
        "### 2) Make more charts!\n",
        "\n",
        "Choose a chart you want to make, from [Visual Vocabulary - Vega Edition](http://ft.com/vocabulary).\n",
        "\n",
        "Find the chart in an example gallery of a Python data visualization library:\n",
        "- [Seaborn](http://seaborn.pydata.org/examples/index.html)\n",
        "- [Altair](https://altair-viz.github.io/gallery/index.html)\n",
        "- [Matplotlib](https://matplotlib.org/gallery.html)\n",
        "- [Pandas](https://pandas.pydata.org/pandas-docs/stable/visualization.html)\n",
        "\n",
        "Reproduce the chart. [Optionally, try the \"Ben Franklin Method.\"](https://docs.google.com/document/d/1ubOw9B3Hfip27hF2ZFnW3a3z9xAgrUDRReOEo-FHCVs/edit) If you want, experiment and make changes.\n",
        "\n",
        "Take notes. Consider sharing your work with your cohort!"
      ]
    },
    {
      "cell_type": "code",
      "metadata": {
        "id": "dRJkKftiy5BJ",
        "colab_type": "code",
        "colab": {}
      },
      "source": [
        "# More Work Here"
      ],
      "execution_count": 0,
      "outputs": []
    }
  ]
}