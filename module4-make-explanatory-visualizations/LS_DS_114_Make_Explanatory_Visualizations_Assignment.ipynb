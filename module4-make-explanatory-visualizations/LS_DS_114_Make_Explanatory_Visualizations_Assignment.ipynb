{
 "cells": [
  {
   "cell_type": "markdown",
   "metadata": {
    "colab_type": "text",
    "id": "NMEswXWh9mqw"
   },
   "source": [
    "Lambda School Data Science\n",
    "\n",
    "*Unit 1, Sprint 1, Module 4*\n",
    "\n",
    "---\n",
    "\n",
    "# ASSIGNMENT\n",
    "\n",
    "### 1) Replicate the lesson code. I recommend that you [do not copy-paste](https://docs.google.com/document/d/1ubOw9B3Hfip27hF2ZFnW3a3z9xAgrUDRReOEo-FHCVs/edit).\n",
    "\n",
    "Get caught up to where we got our example in class and then try and take things further. How close to \"pixel perfect\" can you make the lecture graph?\n",
    "\n",
    "Once you have something that you're proud of, share your graph in the cohort channel and move on to the second exercise.\n",
    "\n",
    "### 2) Reproduce another example from [FiveThityEight's shared data repository](https://data.fivethirtyeight.com/).\n",
    "\n",
    "**WARNING**: There are a lot of very custom graphs and tables at the above link. I **highly** recommend not trying to reproduce any that look like a table of values or something really different from the graph types that we are already familiar with. Search through the posts until you find a graph type that you are more or less familiar with: histogram, bar chart, stacked bar chart, line chart, [seaborn relplot](https://seaborn.pydata.org/generated/seaborn.relplot.html), etc. Recreating some of the graphics that 538 uses would be a lot easier in Adobe photoshop/illustrator than with matplotlib. \n",
    "\n",
    "- If you put in some time to find a graph that looks \"easy\" to replicate you'll probably find that it's not as easy as you thought. \n",
    "\n",
    "- If you start with a graph that looks hard to replicate you'll probably run up against a brick wall and be disappointed with your afternoon.\n",
    "\n",
    "\n",
    "\n",
    "\n",
    "\n",
    "\n",
    "\n",
    "\n",
    "\n",
    "\n"
   ]
  },
  {
   "cell_type": "code",
   "execution_count": 1,
   "metadata": {
    "colab": {},
    "colab_type": "code",
    "id": "7SY1ZHawyZvz"
   },
   "outputs": [
    {
     "data": {
      "text/html": [
       "<img src=\"https://fivethirtyeight.com/wp-content/uploads/2017/09/mehtahickey-inconvenient-0830-1.png\" width=\"400\"/>"
      ],
      "text/plain": [
       "<IPython.core.display.Image object>"
      ]
     },
     "metadata": {},
     "output_type": "display_data"
    }
   ],
   "source": [
    "# Your Work Here\n",
    "\n",
    "from IPython.display import display, Image\n",
    "#\n",
    "url = 'https://fivethirtyeight.com/wp-content/uploads/2017/09/mehtahickey-inconvenient-0830-1.png'\n",
    "example = Image(url=url, width=400)\n",
    "\n",
    "display(example)"
   ]
  },
  {
   "cell_type": "code",
   "execution_count": 255,
   "metadata": {},
   "outputs": [
    {
     "data": {
      "text/plain": [
       "Text(8.5, -8, 'SOURCE: IMDB')"
      ]
     },
     "execution_count": 255,
     "metadata": {},
     "output_type": "execute_result"
    },
    {
     "data": {
      "image/png": "[encoded data removed]",
      "text/plain": [
       "<Figure size 432x288 with 1 Axes>"
      ]
     },
     "metadata": {},
     "output_type": "display_data"
    }
   ],
   "source": [
    "%matplotlib inline\n",
    "import matplotlib.pyplot as plt\n",
    "import numpy as np\n",
    "import pandas as pd\n",
    "\n",
    "# Column name color: #BCBCBC\n",
    "# Bar Color: #ED713A \n",
    "\n",
    "plt.style.use('fivethirtyeight')\n",
    "\n",
    "# Create the series to use for the bar\n",
    "thedata = pd.Series([38, 3, 2, 1, 2, 4, 6, 5, 5, 33], index=range(1,11))\n",
    "\n",
    "fig, ax = plt.subplots() \n",
    "mimic = data.plot.bar(color = '#ED713A', width = 0.9);\n",
    "\n",
    "# Title stuff\n",
    "ax.set_title('\\'An Inconvenient Sequel: Truth to Power \\' is divisive\\n', \n",
    "             loc = 'left', \n",
    "             color = 'black', \n",
    "             fontsize=13, \n",
    "             fontweight = 'semibold', \n",
    "             x=-.06, \n",
    "             y=1)\n",
    "\n",
    "ax.text(s ='IMDb ratings for the film as of Aug. 29', \n",
    "        x=-1.2, \n",
    "        y=41, \n",
    "        fontsize=10, \n",
    "        color='black', \n",
    "        fontweight='light')\n",
    "\n",
    "\n",
    "# X stuff\n",
    "mimic.set_xlabel('Rating', color='Black', fontsize=9.5, fontweight='bold')\n",
    "mimic.set_xticklabels(labels = ['1','2','3','4','5','6','7','8','9','10'], rotation='horizontal', color='grey', fontsize=8)\n",
    "\n",
    "# Y stuff\n",
    "ax.set_yticks([0, 10, 20, 30, 40])\n",
    "mimic.set_ylabel('Percent of total votes', color='Black', fontsize=9, fontweight='bold')\n",
    "mimic.set_yticklabels(labels = ['0','10','20','30','40%'], color='grey', fontsize=8)\n",
    "\n",
    "\n",
    "# Background stuff\n",
    "fig.patch.set(facecolor='white')\n",
    "ax.set(facecolor='white')\n",
    "\n",
    "# Final adjustments\n",
    "\n",
    "# Draw the line\n",
    "theline = plt.Line2D([0, 1], [-.06, -.06], transform=fig.transFigure, \n",
    "                  figure=fig, color='lightgray', linewidth=2)\n",
    "\n",
    "fig.lines.extend([theline])\n",
    "\n",
    "# Add the text below the line\n",
    "ax.text(s ='Five Thirty Eight', \n",
    "        x=-1.6, \n",
    "        y=-8, \n",
    "        fontsize=7, \n",
    "        color='grey', \n",
    "        fontweight='bold')\n",
    "\n",
    "ax.text(s ='SOURCE: IMDB', \n",
    "        x=8.5, \n",
    "        y=-8, \n",
    "        fontsize=7, \n",
    "        color='grey', \n",
    "        fontweight='bold')\n",
    "\n",
    "\n",
    "\n"
   ]
  },
  {
   "cell_type": "markdown",
   "metadata": {
    "colab_type": "text",
    "id": "0wSrBzmJyWaV"
   },
   "source": [
    "# STRETCH OPTIONS\n",
    "\n",
    "### 1) Reproduce one of the following using the matplotlib or seaborn libraries:\n",
    "\n",
    "- [thanksgiving-2015](https://fivethirtyeight.com/features/heres-what-your-part-of-america-eats-on-thanksgiving/) \n",
    "- [candy-power-ranking](https://fivethirtyeight.com/features/the-ultimate-halloween-candy-power-ranking/) \n",
    "- or another example of your choice!\n",
    "\n",
    "### 2) Make more charts!\n",
    "\n",
    "Choose a chart you want to make, from [Visual Vocabulary - Vega Edition](http://ft.com/vocabulary).\n",
    "\n",
    "Find the chart in an example gallery of a Python data visualization library:\n",
    "- [Seaborn](http://seaborn.pydata.org/examples/index.html)\n",
    "- [Altair](https://altair-viz.github.io/gallery/index.html)\n",
    "- [Matplotlib](https://matplotlib.org/gallery.html)\n",
    "- [Pandas](https://pandas.pydata.org/pandas-docs/stable/visualization.html)\n",
    "\n",
    "Reproduce the chart. [Optionally, try the \"Ben Franklin Method.\"](https://docs.google.com/document/d/1ubOw9B3Hfip27hF2ZFnW3a3z9xAgrUDRReOEo-FHCVs/edit) If you want, experiment and make changes.\n",
    "\n",
    "Take notes. Consider sharing your work with your cohort!"
   ]
  },
  {
   "cell_type": "code",
   "execution_count": null,
   "metadata": {},
   "outputs": [],
   "source": []
  },
  {
   "cell_type": "code",
   "execution_count": null,
   "metadata": {
    "colab": {},
    "colab_type": "code",
    "id": "dRJkKftiy5BJ"
   },
   "outputs": [],
   "source": [
    "# More Work Here"
   ]
  }
 ],
 "metadata": {
  "colab": {
   "collapsed_sections": [],
   "name": "LS_DS_114_Make_Explanatory_Visualizations_Assignment.ipynb",
   "provenance": []
  },
  "kernelspec": {
   "display_name": "Python 3",
   "language": "python",
   "name": "python3"
  },
  "language_info": {
   "codemirror_mode": {
    "name": "ipython",
    "version": 3
   },
   "file_extension": ".py",
   "mimetype": "text/x-python",
   "name": "python",
   "nbconvert_exporter": "python",
   "pygments_lexer": "ipython3",
   "version": "3.8.1"
  }
 },
 "nbformat": 4,
 "nbformat_minor": 4
}
