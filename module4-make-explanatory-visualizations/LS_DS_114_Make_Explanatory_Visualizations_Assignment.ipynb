{
  "nbformat": 4,
  "nbformat_minor": 0,
  "metadata": {
    "colab": {
      "name": "LS_DS_114_Make_Explanatory_Visualizations_Assignment.ipynb",
      "provenance": [],
      "collapsed_sections": [],
      "include_colab_link": true
    },
    "language_info": {
      "codemirror_mode": {
        "name": "ipython",
        "version": 3
      },
      "file_extension": ".py",
      "mimetype": "text/x-python",
      "name": "python",
      "nbconvert_exporter": "python",
      "pygments_lexer": "ipython3",
      "version": "3.7.1"
    },
    "kernelspec": {
      "display_name": "Python 3",
      "language": "python",
      "name": "python3"
    }
  },
  "cells": [
    {
      "cell_type": "markdown",
      "metadata": {
        "id": "view-in-github",
        "colab_type": "text"
      },
      "source": [
        "<a href=\"https://colab.research.google.com/github/phuonggtrann/DS-Unit-1-Sprint-1-Data-Wrangling-and-Storytelling/blob/master/module4-make-explanatory-visualizations/LS_DS_114_Make_Explanatory_Visualizations_Assignment.ipynb\" target=\"_parent\"><img src=\"https://colab.research.google.com/assets/colab-badge.svg\" alt=\"Open In Colab\"/></a>"
      ]
    },
    {
      "cell_type": "markdown",
      "metadata": {
        "colab_type": "text",
        "id": "NMEswXWh9mqw"
      },
      "source": [
        "Lambda School Data Science\n",
        "\n",
        "*Unit 1, Sprint 1, Module 4*\n",
        "\n",
        "---\n",
        "\n",
        "# ASSIGNMENT\n",
        "\n",
        "### 1) Replicate the lesson code. I recommend that you [do not copy-paste](https://docs.google.com/document/d/1ubOw9B3Hfip27hF2ZFnW3a3z9xAgrUDRReOEo-FHCVs/edit).\n",
        "\n",
        "Get caught up to where we got our example in class and then try and take things further. How close to \"pixel perfect\" can you make the lecture graph?\n",
        "\n",
        "Once you have something that you're proud of, share your graph in the cohort channel and move on to the second exercise.\n",
        "\n",
        "### 2) Reproduce another example from [FiveThityEight's shared data repository](https://data.fivethirtyeight.com/).\n",
        "\n",
        "**WARNING**: There are a lot of very custom graphs and tables at the above link. I **highly** recommend not trying to reproduce any that look like a table of values or something really different from the graph types that we are already familiar with. Search through the posts until you find a graph type that you are more or less familiar with: histogram, bar chart, stacked bar chart, line chart, [seaborn relplot](https://seaborn.pydata.org/generated/seaborn.relplot.html), etc. Recreating some of the graphics that 538 uses would be a lot easier in Adobe photoshop/illustrator than with matplotlib. \n",
        "\n",
        "- If you put in some time to find a graph that looks \"easy\" to replicate you'll probably find that it's not as easy as you thought. \n",
        "\n",
        "- If you start with a graph that looks hard to replicate you'll probably run up against a brick wall and be disappointed with your afternoon.\n",
        "\n",
        "\n",
        "\n",
        "\n",
        "\n",
        "\n",
        "\n",
        "\n",
        "\n",
        "\n"
      ]
    },
    {
      "cell_type": "code",
      "metadata": {
        "id": "7SY1ZHawyZvz",
        "colab_type": "code",
        "colab": {}
      },
      "source": [
        "import pandas as pd\n",
        "import matplotlib.pyplot as plt\n",
        "import numpy as np\n",
        "import math"
      ],
      "execution_count": 0,
      "outputs": []
    },
    {
      "cell_type": "code",
      "metadata": {
        "id": "Qw60qz_Zbefj",
        "colab_type": "code",
        "outputId": "90845d4b-8390-4ba0-8d80-aaa380fa8240",
        "colab": {
          "base_uri": "https://localhost:8080/",
          "height": 204
        }
      },
      "source": [
        "# Replicate\n",
        "\n",
        "df = pd.DataFrame({'a': [1,3,2,4,3,5], 'b': [3,5,4,6,5,7]})\n",
        "df.head()"
      ],
      "execution_count": 2,
      "outputs": [
        {
          "output_type": "execute_result",
          "data": {
            "text/html": [
              "<div>\n",
              "<style scoped>\n",
              "    .dataframe tbody tr th:only-of-type {\n",
              "        vertical-align: middle;\n",
              "    }\n",
              "\n",
              "    .dataframe tbody tr th {\n",
              "        vertical-align: top;\n",
              "    }\n",
              "\n",
              "    .dataframe thead th {\n",
              "        text-align: right;\n",
              "    }\n",
              "</style>\n",
              "<table border=\"1\" class=\"dataframe\">\n",
              "  <thead>\n",
              "    <tr style=\"text-align: right;\">\n",
              "      <th></th>\n",
              "      <th>a</th>\n",
              "      <th>b</th>\n",
              "    </tr>\n",
              "  </thead>\n",
              "  <tbody>\n",
              "    <tr>\n",
              "      <th>0</th>\n",
              "      <td>1</td>\n",
              "      <td>3</td>\n",
              "    </tr>\n",
              "    <tr>\n",
              "      <th>1</th>\n",
              "      <td>3</td>\n",
              "      <td>5</td>\n",
              "    </tr>\n",
              "    <tr>\n",
              "      <th>2</th>\n",
              "      <td>2</td>\n",
              "      <td>4</td>\n",
              "    </tr>\n",
              "    <tr>\n",
              "      <th>3</th>\n",
              "      <td>4</td>\n",
              "      <td>6</td>\n",
              "    </tr>\n",
              "    <tr>\n",
              "      <th>4</th>\n",
              "      <td>3</td>\n",
              "      <td>5</td>\n",
              "    </tr>\n",
              "  </tbody>\n",
              "</table>\n",
              "</div>"
            ],
            "text/plain": [
              "   a  b\n",
              "0  1  3\n",
              "1  3  5\n",
              "2  2  4\n",
              "3  4  6\n",
              "4  3  5"
            ]
          },
          "metadata": {
            "tags": []
          },
          "execution_count": 2
        }
      ]
    },
    {
      "cell_type": "code",
      "metadata": {
        "id": "Ro1qMxmibn2r",
        "colab_type": "code",
        "outputId": "c8ee8a90-f53b-4d23-fcbc-4c71fbaa137a",
        "colab": {
          "base_uri": "https://localhost:8080/",
          "height": 295
        }
      },
      "source": [
        "df['a'].plot();\n",
        "plt.plot(df['b'])\n",
        "plt.title('My Graph')\n",
        "plt.xlabel('x axis')\n",
        "plt.ylabel('y axis')\n",
        "plt.show()"
      ],
      "execution_count": 3,
      "outputs": [
        {
          "output_type": "display_data",
          "data": {
            "image/png": "[encoded data removed]",
            "text/plain": [
              "<Figure size 432x288 with 1 Axes>"
            ]
          },
          "metadata": {
            "tags": [],
            "needs_background": "light"
          }
        }
      ]
    },
    {
      "cell_type": "code",
      "metadata": {
        "id": "CWRfrLK2qw8l",
        "colab_type": "code",
        "colab": {
          "base_uri": "https://localhost:8080/",
          "height": 295
        },
        "outputId": "7af220ab-7162-4a62-c7f7-fcde39e6991d"
      },
      "source": [
        "fig, ax = plt.subplots()\n",
        "\n",
        "ax.plot(df['a'])\n",
        "ax.plot(df['b'])\n",
        "\n",
        "fig.patch.set_facecolor('lightblue')\n",
        "\n",
        "ax.set_facecolor('yellow')\n",
        "\n",
        "ax.set_title(\"My Graph\")\n",
        "ax.set_xlabel(\"x axis\")\n",
        "ax.set_ylabel('y axis')\n",
        "\n",
        "plt.show()"
      ],
      "execution_count": 4,
      "outputs": [
        {
          "output_type": "display_data",
          "data": {
            "image/png": "[encoded data removed]",
            "text/plain": [
              "<Figure size 432x288 with 1 Axes>"
            ]
          },
          "metadata": {
            "tags": []
          }
        }
      ]
    },
    {
      "cell_type": "code",
      "metadata": {
        "id": "t-6PlpwBq-zG",
        "colab_type": "code",
        "colab": {
          "base_uri": "https://localhost:8080/",
          "height": 268
        },
        "outputId": "1205e564-4457-49a1-8577-c1d3f0609554"
      },
      "source": [
        "%matplotlib inline\n",
        "import matplotlib.pyplot as plt\n",
        "import numpy as np\n",
        "import pandas as pd\n",
        "\n",
        "\n",
        "# plt.style.use('fivethirtyeight')\n",
        "\n",
        "fake = pd.Series([38, 3, 2, 1, 2, 4, 6, 5, 5, 33], \n",
        "                 index=range(1,11))\n",
        "\n",
        "fake.plot.bar();"
      ],
      "execution_count": 5,
      "outputs": [
        {
          "output_type": "display_data",
          "data": {
            "image/png": "[encoded data removed]",
            "text/plain": [
              "<Figure size 432x288 with 1 Axes>"
            ]
          },
          "metadata": {
            "tags": [],
            "needs_background": "light"
          }
        }
      ]
    },
    {
      "cell_type": "code",
      "metadata": {
        "id": "FPp3JR0TrHUX",
        "colab_type": "code",
        "colab": {
          "base_uri": "https://localhost:8080/",
          "height": 270
        },
        "outputId": "dd93581a-6a26-49c3-80c1-e37b4e680f2b"
      },
      "source": [
        "fake2 = pd.Series(\n",
        "    [1, 1, 1, 1, 1, 1, 1, 1, 1, 1, 1, 1, 1, 1, 1, 1, 1, 1, 1, 1, 1, 1, 1, 1,\n",
        "     2, 2, 2, \n",
        "     3, 3, 3,\n",
        "     4, 4,\n",
        "     5, 5, 5,\n",
        "     6, 6, 6, 6,\n",
        "     7, 7, 7, 7, 7,\n",
        "     8, 8, 8, 8,\n",
        "     9, 9, 9, 9, \n",
        "     10, 10, 10, 10, 10, 10, 10, 10, 10, 10, 10, 10, 10, 10, 10, 10, 10, 10])\n",
        "\n",
        "fake2.value_counts().sort_index().plot.bar();"
      ],
      "execution_count": 6,
      "outputs": [
        {
          "output_type": "display_data",
          "data": {
            "image/png": "[encoded data removed]",
            "text/plain": [
              "<Figure size 432x288 with 1 Axes>"
            ]
          },
          "metadata": {
            "tags": [],
            "needs_background": "light"
          }
        }
      ]
    },
    {
      "cell_type": "code",
      "metadata": {
        "id": "ER6_24A5rNiN",
        "colab_type": "code",
        "colab": {
          "base_uri": "https://localhost:8080/",
          "height": 330
        },
        "outputId": "284bc9f5-6fb6-4a75-e25d-7c515e8f7b0f"
      },
      "source": [
        "plt.style.use('fivethirtyeight')\n",
        "\n",
        "fig, ax = plt.subplots()\n",
        "\n",
        "# Turn on the Grid: Change the stylesheet that we're working with\n",
        "\n",
        "# White figure background\n",
        "fig.patch.set_facecolor('white')\n",
        "\n",
        "# White axes background\n",
        "ax.set_facecolor('white')\n",
        "\n",
        "# put bars on the chart\n",
        "ax.bar(x=range(1,11,1), height=fake, color='#ED713A', width=.9)\n",
        "\n",
        "# Add Title\n",
        "ax.set_title(\"'An Inconvenient Sequel: Truth To Power' is divisive\", fontsize=12, fontweight='bold', x=.37, y=1.08)\n",
        "\n",
        "# Add subtitle\n",
        "ax.text(s='IMDb ratings for the film as of Aug. 29', y=42, x=-.5, fontsize=11)\n",
        "\n",
        "# set x and y axis labels\n",
        "ax.set_xlabel('Rating', fontsize=10, fontweight='bold')\n",
        "ax.set_ylabel('Percent of total votes', fontsize=10, fontweight='bold')\n",
        "\n",
        "# x axis tick marks and tick lables\n",
        "ax.set_xticks(range(1,11,1))\n",
        "ax.set_xticklabels(range(1,11,1))\n",
        "\n",
        "# y axis tick marks and tick lables\n",
        "ax.set_yticks(range(0,41,10))\n",
        "ax.set_yticklabels(['0', '10', '20', '30', '40%'])\n",
        "\n",
        "# Turn off some of the spines\n",
        "ax.spines['left'].set_visible(False)\n",
        "ax.spines['right'].set_visible(False)\n",
        "ax.spines['top'].set_visible(False)\n",
        "\n",
        "plt.show()"
      ],
      "execution_count": 7,
      "outputs": [
        {
          "output_type": "display_data",
          "data": {
            "image/png": "[encoded data removed]",
            "text/plain": [
              "<Figure size 432x288 with 1 Axes>"
            ]
          },
          "metadata": {
            "tags": []
          }
        }
      ]
    },
    {
      "cell_type": "code",
      "metadata": {
        "id": "jsu3QZkluwbw",
        "colab_type": "code",
        "colab": {
          "base_uri": "https://localhost:8080/",
          "height": 1000
        },
        "outputId": "14d53cc0-3862-455a-a542-2106e7a1e6e7"
      },
      "source": [
        "steak_df = pd.read_csv(\"https://raw.githubusercontent.com/fivethirtyeight/data/master/steak-survey/steak-risk-survey.csv\")\n",
        "\n",
        "steak_df = steak_df.drop(0)\n",
        "steak_df"
      ],
      "execution_count": 8,
      "outputs": [
        {
          "output_type": "execute_result",
          "data": {
            "text/html": [
              "<div>\n",
              "<style scoped>\n",
              "    .dataframe tbody tr th:only-of-type {\n",
              "        vertical-align: middle;\n",
              "    }\n",
              "\n",
              "    .dataframe tbody tr th {\n",
              "        vertical-align: top;\n",
              "    }\n",
              "\n",
              "    .dataframe thead th {\n",
              "        text-align: right;\n",
              "    }\n",
              "</style>\n",
              "<table border=\"1\" class=\"dataframe\">\n",
              "  <thead>\n",
              "    <tr style=\"text-align: right;\">\n",
              "      <th></th>\n",
              "      <th>RespondentID</th>\n",
              "      <th>Consider the following hypothetical situations: &lt;br&gt;In Lottery A, you have a 50% chance of success, with a payout of $100. &lt;br&gt;In Lottery B, you have a 90% chance of success, with a payout of $20. &lt;br&gt;&lt;br&gt;Assuming you have $10 to bet, would you play Lottery A or Lottery B?</th>\n",
              "      <th>Do you ever smoke cigarettes?</th>\n",
              "      <th>Do you ever drink alcohol?</th>\n",
              "      <th>Do you ever gamble?</th>\n",
              "      <th>Have you ever been skydiving?</th>\n",
              "      <th>Do you ever drive above the speed limit?</th>\n",
              "      <th>Have you ever cheated on your significant other?</th>\n",
              "      <th>Do you eat steak?</th>\n",
              "      <th>How do you like your steak prepared?</th>\n",
              "      <th>Gender</th>\n",
              "      <th>Age</th>\n",
              "      <th>Household Income</th>\n",
              "      <th>Education</th>\n",
              "      <th>Location (Census Region)</th>\n",
              "    </tr>\n",
              "  </thead>\n",
              "  <tbody>\n",
              "    <tr>\n",
              "      <th>1</th>\n",
              "      <td>3.237566e+09</td>\n",
              "      <td>Lottery B</td>\n",
              "      <td>NaN</td>\n",
              "      <td>NaN</td>\n",
              "      <td>NaN</td>\n",
              "      <td>NaN</td>\n",
              "      <td>NaN</td>\n",
              "      <td>NaN</td>\n",
              "      <td>NaN</td>\n",
              "      <td>NaN</td>\n",
              "      <td>NaN</td>\n",
              "      <td>NaN</td>\n",
              "      <td>NaN</td>\n",
              "      <td>NaN</td>\n",
              "      <td>NaN</td>\n",
              "    </tr>\n",
              "    <tr>\n",
              "      <th>2</th>\n",
              "      <td>3.234982e+09</td>\n",
              "      <td>Lottery A</td>\n",
              "      <td>No</td>\n",
              "      <td>Yes</td>\n",
              "      <td>No</td>\n",
              "      <td>No</td>\n",
              "      <td>No</td>\n",
              "      <td>No</td>\n",
              "      <td>Yes</td>\n",
              "      <td>Medium rare</td>\n",
              "      <td>Male</td>\n",
              "      <td>&gt; 60</td>\n",
              "      <td>$50,000 - $99,999</td>\n",
              "      <td>Some college or Associate degree</td>\n",
              "      <td>East North Central</td>\n",
              "    </tr>\n",
              "    <tr>\n",
              "      <th>3</th>\n",
              "      <td>3.234973e+09</td>\n",
              "      <td>Lottery A</td>\n",
              "      <td>No</td>\n",
              "      <td>Yes</td>\n",
              "      <td>Yes</td>\n",
              "      <td>No</td>\n",
              "      <td>Yes</td>\n",
              "      <td>Yes</td>\n",
              "      <td>Yes</td>\n",
              "      <td>Rare</td>\n",
              "      <td>Male</td>\n",
              "      <td>&gt; 60</td>\n",
              "      <td>$150,000+</td>\n",
              "      <td>Graduate degree</td>\n",
              "      <td>South Atlantic</td>\n",
              "    </tr>\n",
              "    <tr>\n",
              "      <th>4</th>\n",
              "      <td>3.234972e+09</td>\n",
              "      <td>Lottery B</td>\n",
              "      <td>Yes</td>\n",
              "      <td>Yes</td>\n",
              "      <td>Yes</td>\n",
              "      <td>No</td>\n",
              "      <td>Yes</td>\n",
              "      <td>Yes</td>\n",
              "      <td>Yes</td>\n",
              "      <td>Medium</td>\n",
              "      <td>Male</td>\n",
              "      <td>&gt; 60</td>\n",
              "      <td>$50,000 - $99,999</td>\n",
              "      <td>Bachelor degree</td>\n",
              "      <td>New England</td>\n",
              "    </tr>\n",
              "    <tr>\n",
              "      <th>5</th>\n",
              "      <td>3.234959e+09</td>\n",
              "      <td>Lottery B</td>\n",
              "      <td>No</td>\n",
              "      <td>Yes</td>\n",
              "      <td>No</td>\n",
              "      <td>No</td>\n",
              "      <td>Yes</td>\n",
              "      <td>Yes</td>\n",
              "      <td>Yes</td>\n",
              "      <td>Medium</td>\n",
              "      <td>Male</td>\n",
              "      <td>&gt; 60</td>\n",
              "      <td>$50,000 - $99,999</td>\n",
              "      <td>Graduate degree</td>\n",
              "      <td>Middle Atlantic</td>\n",
              "    </tr>\n",
              "    <tr>\n",
              "      <th>...</th>\n",
              "      <td>...</td>\n",
              "      <td>...</td>\n",
              "      <td>...</td>\n",
              "      <td>...</td>\n",
              "      <td>...</td>\n",
              "      <td>...</td>\n",
              "      <td>...</td>\n",
              "      <td>...</td>\n",
              "      <td>...</td>\n",
              "      <td>...</td>\n",
              "      <td>...</td>\n",
              "      <td>...</td>\n",
              "      <td>...</td>\n",
              "      <td>...</td>\n",
              "      <td>...</td>\n",
              "    </tr>\n",
              "    <tr>\n",
              "      <th>546</th>\n",
              "      <td>3.234762e+09</td>\n",
              "      <td>Lottery B</td>\n",
              "      <td>No</td>\n",
              "      <td>No</td>\n",
              "      <td>No</td>\n",
              "      <td>No</td>\n",
              "      <td>Yes</td>\n",
              "      <td>No</td>\n",
              "      <td>Yes</td>\n",
              "      <td>Medium rare</td>\n",
              "      <td>Female</td>\n",
              "      <td>18-29</td>\n",
              "      <td>$25,000 - $49,999</td>\n",
              "      <td>High school degree</td>\n",
              "      <td>South Atlantic</td>\n",
              "    </tr>\n",
              "    <tr>\n",
              "      <th>547</th>\n",
              "      <td>3.234762e+09</td>\n",
              "      <td>Lottery A</td>\n",
              "      <td>No</td>\n",
              "      <td>Yes</td>\n",
              "      <td>No</td>\n",
              "      <td>Yes</td>\n",
              "      <td>Yes</td>\n",
              "      <td>No</td>\n",
              "      <td>No</td>\n",
              "      <td>NaN</td>\n",
              "      <td>Female</td>\n",
              "      <td>&gt; 60</td>\n",
              "      <td>$50,000 - $99,999</td>\n",
              "      <td>Some college or Associate degree</td>\n",
              "      <td>Mountain</td>\n",
              "    </tr>\n",
              "    <tr>\n",
              "      <th>548</th>\n",
              "      <td>3.234761e+09</td>\n",
              "      <td>Lottery A</td>\n",
              "      <td>Yes</td>\n",
              "      <td>Yes</td>\n",
              "      <td>Yes</td>\n",
              "      <td>No</td>\n",
              "      <td>Yes</td>\n",
              "      <td>No</td>\n",
              "      <td>Yes</td>\n",
              "      <td>Medium rare</td>\n",
              "      <td>Male</td>\n",
              "      <td>30-44</td>\n",
              "      <td>$50,000 - $99,999</td>\n",
              "      <td>Some college or Associate degree</td>\n",
              "      <td>South Atlantic</td>\n",
              "    </tr>\n",
              "    <tr>\n",
              "      <th>549</th>\n",
              "      <td>3.234761e+09</td>\n",
              "      <td>Lottery A</td>\n",
              "      <td>No</td>\n",
              "      <td>Yes</td>\n",
              "      <td>Yes</td>\n",
              "      <td>No</td>\n",
              "      <td>Yes</td>\n",
              "      <td>Yes</td>\n",
              "      <td>No</td>\n",
              "      <td>NaN</td>\n",
              "      <td>Female</td>\n",
              "      <td>45-60</td>\n",
              "      <td>$50,000 - $99,999</td>\n",
              "      <td>Some college or Associate degree</td>\n",
              "      <td>Pacific</td>\n",
              "    </tr>\n",
              "    <tr>\n",
              "      <th>550</th>\n",
              "      <td>3.234760e+09</td>\n",
              "      <td>Lottery B</td>\n",
              "      <td>Yes</td>\n",
              "      <td>Yes</td>\n",
              "      <td>Yes</td>\n",
              "      <td>No</td>\n",
              "      <td>Yes</td>\n",
              "      <td>No</td>\n",
              "      <td>Yes</td>\n",
              "      <td>Medium</td>\n",
              "      <td>Male</td>\n",
              "      <td>18-29</td>\n",
              "      <td>$0 - $24,999</td>\n",
              "      <td>NaN</td>\n",
              "      <td>Mountain</td>\n",
              "    </tr>\n",
              "  </tbody>\n",
              "</table>\n",
              "<p>550 rows × 15 columns</p>\n",
              "</div>"
            ],
            "text/plain": [
              "     RespondentID  ... Location (Census Region)\n",
              "1    3.237566e+09  ...                      NaN\n",
              "2    3.234982e+09  ...       East North Central\n",
              "3    3.234973e+09  ...           South Atlantic\n",
              "4    3.234972e+09  ...              New England\n",
              "5    3.234959e+09  ...          Middle Atlantic\n",
              "..            ...  ...                      ...\n",
              "546  3.234762e+09  ...           South Atlantic\n",
              "547  3.234762e+09  ...                 Mountain\n",
              "548  3.234761e+09  ...           South Atlantic\n",
              "549  3.234761e+09  ...                  Pacific\n",
              "550  3.234760e+09  ...                 Mountain\n",
              "\n",
              "[550 rows x 15 columns]"
            ]
          },
          "metadata": {
            "tags": []
          },
          "execution_count": 8
        }
      ]
    },
    {
      "cell_type": "code",
      "metadata": {
        "id": "LzYOAkrH0JNp",
        "colab_type": "code",
        "colab": {
          "base_uri": "https://localhost:8080/",
          "height": 119
        },
        "outputId": "142bd1c0-4159-4540-cef6-43d794aafbfe"
      },
      "source": [
        "steak_prepare = steak_df[['How do you like your steak prepared?']]\n",
        "steak_prepare['How do you like your steak prepared?'].value_counts()"
      ],
      "execution_count": 9,
      "outputs": [
        {
          "output_type": "execute_result",
          "data": {
            "text/plain": [
              "Medium rare    166\n",
              "Medium         132\n",
              "Medium Well     75\n",
              "Well            36\n",
              "Rare            23\n",
              "Name: How do you like your steak prepared?, dtype: int64"
            ]
          },
          "metadata": {
            "tags": []
          },
          "execution_count": 9
        }
      ]
    },
    {
      "cell_type": "code",
      "metadata": {
        "id": "bpUkyShd1Kew",
        "colab_type": "code",
        "colab": {}
      },
      "source": [
        "total = steak_prepare['How do you like your steak prepared?'].count() # total choices count"
      ],
      "execution_count": 0,
      "outputs": []
    },
    {
      "cell_type": "code",
      "metadata": {
        "id": "viHJfwQq3U6j",
        "colab_type": "code",
        "colab": {}
      },
      "source": [
        "# Convert it to a dict\n",
        "choice = dict(steak_prepare['How do you like your steak prepared?'].value_counts())\n",
        "choice_perc = []"
      ],
      "execution_count": 0,
      "outputs": []
    },
    {
      "cell_type": "code",
      "metadata": {
        "id": "pc9D-yP93eHl",
        "colab_type": "code",
        "colab": {
          "base_uri": "https://localhost:8080/",
          "height": 34
        },
        "outputId": "f276a72a-64a7-4353-a26e-f6e2dc4ad7fc"
      },
      "source": [
        "for x in choice.keys(): # Doing calculation, better if use hash map but since data remain small for loop is fine\n",
        "  choice[x] = (choice[x]/total)*100\n",
        "  choice_perc.append(int(round(choice[x])))\n",
        "\n",
        "choice_perc # Just checking"
      ],
      "execution_count": 46,
      "outputs": [
        {
          "output_type": "execute_result",
          "data": {
            "text/plain": [
              "[38, 31, 17, 8, 5]"
            ]
          },
          "metadata": {
            "tags": []
          },
          "execution_count": 46
        }
      ]
    },
    {
      "cell_type": "code",
      "metadata": {
        "id": "prCUsRB89vqc",
        "colab_type": "code",
        "colab": {}
      },
      "source": [
        "choice_list = list(choice.keys())"
      ],
      "execution_count": 0,
      "outputs": []
    },
    {
      "cell_type": "code",
      "metadata": {
        "id": "OrGZTCDl9yfK",
        "colab_type": "code",
        "colab": {
          "base_uri": "https://localhost:8080/",
          "height": 34
        },
        "outputId": "6d3389bc-c4c7-4cec-bc3b-22fd7561aa2d"
      },
      "source": [
        "print(choice_list)"
      ],
      "execution_count": 61,
      "outputs": [
        {
          "output_type": "stream",
          "text": [
            "['Medium rare', 'Medium', 'Medium Well', 'Well', 'Rare']\n"
          ],
          "name": "stdout"
        }
      ]
    },
    {
      "cell_type": "code",
      "metadata": {
        "id": "fR1auQLA5VNS",
        "colab_type": "code",
        "colab": {
          "base_uri": "https://localhost:8080/",
          "height": 292
        },
        "outputId": "fe6fd458-f50c-4094-bc31-1828d1045e4b"
      },
      "source": [
        "# Standard setting\n",
        "plt.style.use('fivethirtyeight')\n",
        "fig, ax = plt.subplots()\n",
        "\n",
        "ax.set_title(\"'How Do You Like Your Steak Prepared?'\", fontsize=12, fontweight='bold', x=0.11, y=1.05)\n",
        "ax.text(s=\"From a survey of 432 steak-eating Americans\", y=4.6, x=-10, fontsize=15)\n",
        "\n",
        "ax.barh(choice_list, choice_perc)\n",
        "ax.set_yticklabels(choice.keys())\n",
        "\n",
        "# Turn off some of the spines\n",
        "ax.spines['left'].set_visible(False)\n",
        "ax.spines['right'].set_visible(False)\n",
        "ax.spines['top'].set_visible(False)\n",
        "\n",
        "plt.tick_params(\n",
        "    axis='x',          # changes apply to the x-axis\n",
        "    which='both',      # both major and minor ticks are affected\n",
        "    bottom=False,      # ticks along the bottom edge are off\n",
        "    top=False,         # ticks along the top edge are off\n",
        "    labelbottom=False)\n",
        "\n",
        "ax.grid(False) # remove grid\n",
        "\n",
        "for index, value in enumerate(choice_perc):\n",
        "    plt.text(value, index, \" \" + str(value))\n",
        "\n",
        "plt.show() # always put this down\n",
        "\n"
      ],
      "execution_count": 88,
      "outputs": [
        {
          "output_type": "display_data",
          "data": {
            "image/png": "[encoded data removed]",
            "text/plain": [
              "<Figure size 432x288 with 1 Axes>"
            ]
          },
          "metadata": {
            "tags": []
          }
        }
      ]
    },
    {
      "cell_type": "markdown",
      "metadata": {
        "id": "0wSrBzmJyWaV",
        "colab_type": "text"
      },
      "source": [
        "# STRETCH OPTIONS\n",
        "\n",
        "### 1) Reproduce one of the following using the matplotlib or seaborn libraries:\n",
        "\n",
        "- [thanksgiving-2015](https://fivethirtyeight.com/features/heres-what-your-part-of-america-eats-on-thanksgiving/) \n",
        "- [candy-power-ranking](https://fivethirtyeight.com/features/the-ultimate-halloween-candy-power-ranking/) \n",
        "- or another example of your choice!\n",
        "\n",
        "### 2) Make more charts!\n",
        "\n",
        "Choose a chart you want to make, from [Visual Vocabulary - Vega Edition](http://ft.com/vocabulary).\n",
        "\n",
        "Find the chart in an example gallery of a Python data visualization library:\n",
        "- [Seaborn](http://seaborn.pydata.org/examples/index.html)\n",
        "- [Altair](https://altair-viz.github.io/gallery/index.html)\n",
        "- [Matplotlib](https://matplotlib.org/gallery.html)\n",
        "- [Pandas](https://pandas.pydata.org/pandas-docs/stable/visualization.html)\n",
        "\n",
        "Reproduce the chart. [Optionally, try the \"Ben Franklin Method.\"](https://docs.google.com/document/d/1ubOw9B3Hfip27hF2ZFnW3a3z9xAgrUDRReOEo-FHCVs/edit) If you want, experiment and make changes.\n",
        "\n",
        "Take notes. Consider sharing your work with your cohort!"
      ]
    },
    {
      "cell_type": "code",
      "metadata": {
        "id": "dRJkKftiy5BJ",
        "colab_type": "code",
        "colab": {}
      },
      "source": [
        "#tg_df = pd.read_csv(\"https://github.com/fivethirtyeight/data/blob/master/thanksgiving-2015/thanksgiving-2015-poll-data.csv\", encoding = 'utf8')"
      ],
      "execution_count": 0,
      "outputs": []
    }
  ]
}