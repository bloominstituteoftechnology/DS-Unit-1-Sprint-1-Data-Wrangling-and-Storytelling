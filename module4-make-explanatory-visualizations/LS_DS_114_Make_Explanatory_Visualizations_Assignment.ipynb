{
  "nbformat": 4,
  "nbformat_minor": 0,
  "metadata": {
    "colab": {
      "name": "LS_DS_114_Make_Explanatory_Visualizations_Assignment.ipynb",
      "provenance": [],
      "collapsed_sections": [],
      "include_colab_link": true
    },
    "language_info": {
      "codemirror_mode": {
        "name": "ipython",
        "version": 3
      },
      "file_extension": ".py",
      "mimetype": "text/x-python",
      "name": "python",
      "nbconvert_exporter": "python",
      "pygments_lexer": "ipython3",
      "version": "3.7.1"
    },
    "kernelspec": {
      "display_name": "Python 3",
      "language": "python",
      "name": "python3"
    }
  },
  "cells": [
    {
      "cell_type": "markdown",
      "metadata": {
        "id": "view-in-github",
        "colab_type": "text"
      },
      "source": [
        "<a href=\"https://colab.research.google.com/github/ilEnzio/DS-Unit-1-Sprint-1-Data-Wrangling-and-Storytelling/blob/master/module4-make-explanatory-visualizations/LS_DS_114_Make_Explanatory_Visualizations_Assignment.ipynb\" target=\"_parent\"><img src=\"https://colab.research.google.com/assets/colab-badge.svg\" alt=\"Open In Colab\"/></a>"
      ]
    },
    {
      "cell_type": "markdown",
      "metadata": {
        "colab_type": "text",
        "id": "NMEswXWh9mqw"
      },
      "source": [
        "Lambda School Data Science\n",
        "\n",
        "*Unit 1, Sprint 1, Module 4*\n",
        "\n",
        "---\n",
        "\n",
        "# ASSIGNMENT\n",
        "\n",
        "### 1) Replicate the lesson code. I recommend that you [do not copy-paste](https://docs.google.com/document/d/1ubOw9B3Hfip27hF2ZFnW3a3z9xAgrUDRReOEo-FHCVs/edit).\n",
        "\n",
        "Get caught up to where we got our example in class and then try and take things further. How close to \"pixel perfect\" can you make the lecture graph?\n",
        "\n",
        "Once you have something that you're proud of, share your graph in the cohort channel and move on to the second exercise.\n",
        "\n",
        "### 2) Reproduce another example from [FiveThityEight's shared data repository](https://data.fivethirtyeight.com/).\n",
        "\n",
        "**WARNING**: There are a lot of very custom graphs and tables at the above link. I **highly** recommend not trying to reproduce any that look like a table of values or something really different from the graph types that we are already familiar with. Search through the posts until you find a graph type that you are more or less familiar with: histogram, bar chart, stacked bar chart, line chart, [seaborn relplot](https://seaborn.pydata.org/generated/seaborn.relplot.html), etc. Recreating some of the graphics that 538 uses would be a lot easier in Adobe photoshop/illustrator than with matplotlib. \n",
        "\n",
        "- If you put in some time to find a graph that looks \"easy\" to replicate you'll probably find that it's not as easy as you thought. \n",
        "\n",
        "- If you start with a graph that looks hard to replicate you'll probably run up against a brick wall and be disappointed with your afternoon.\n",
        "\n",
        "\n",
        "\n",
        "\n",
        "\n",
        "\n",
        "\n",
        "\n",
        "\n",
        "\n"
      ]
    },
    {
      "cell_type": "code",
      "metadata": {
        "id": "7SY1ZHawyZvz",
        "colab_type": "code",
        "colab": {}
      },
      "source": [
        "# Your Work Here\n",
        "import pandas as pd\n",
        "import matplotlib.pyplot as plt\n",
        "import numpy as np\n",
        "\n",
        "# question what is %matplotlib inline"
      ],
      "execution_count": null,
      "outputs": []
    },
    {
      "cell_type": "code",
      "metadata": {
        "id": "YJXWVvuY_Qeu",
        "colab_type": "code",
        "colab": {
          "base_uri": "https://localhost:8080/",
          "height": 35
        },
        "outputId": "536fbdf7-cb8f-44d2-e193-11a4da649bf2"
      },
      "source": [
        "# create the df\n",
        "fake = [37, 3, 2, 1, 2, 4, 6, 5, 5, 33]\n",
        "fake_df = pd.DataFrame({\"votes\" : fake})\n",
        "fake_df.shape\n",
        "\n"
      ],
      "execution_count": null,
      "outputs": [
        {
          "output_type": "execute_result",
          "data": {
            "text/plain": [
              "(10, 1)"
            ]
          },
          "metadata": {
            "tags": []
          },
          "execution_count": 6
        }
      ]
    },
    {
      "cell_type": "code",
      "metadata": {
        "id": "IqaWbe3VCaj-",
        "colab_type": "code",
        "colab": {
          "base_uri": "https://localhost:8080/",
          "height": 279
        },
        "outputId": "096907cc-d6f1-4fbf-bd0b-56ff8fe8e223"
      },
      "source": [
        "fake_df.plot.bar()"
      ],
      "execution_count": null,
      "outputs": [
        {
          "output_type": "execute_result",
          "data": {
            "text/plain": [
              "<matplotlib.axes._subplots.AxesSubplot at 0x7ff59bbde6d8>"
            ]
          },
          "metadata": {
            "tags": []
          },
          "execution_count": 8
        },
        {
          "output_type": "display_data",
          "data": {
            "image/png": "[encoded data removed]",
            "text/plain": [
              "<Figure size 432x288 with 1 Axes>"
            ]
          },
          "metadata": {
            "tags": [],
            "needs_background": "light"
          }
        }
      ]
    },
    {
      "cell_type": "code",
      "metadata": {
        "id": "eiDIEju9CdlO",
        "colab_type": "code",
        "colab": {}
      },
      "source": [
        ""
      ],
      "execution_count": null,
      "outputs": []
    },
    {
      "cell_type": "code",
      "metadata": {
        "id": "fd_5u2NNA3ye",
        "colab_type": "code",
        "colab": {
          "base_uri": "https://localhost:8080/",
          "height": 349
        },
        "outputId": "8f7e4710-41fd-4801-8e55-b659890f7027"
      },
      "source": [
        "# access style guide\n",
        "plt.style.use('fivethirtyeight')\n",
        "\n",
        "# unpack the axe and figure variables\n",
        "fig, ax = plt.subplots()\n",
        "\n",
        "#set figure background\n",
        "fig.set_facecolor('white')\n",
        "\n",
        "#set graph background\n",
        "ax.set_facecolor(\"white\")\n",
        "\n",
        "# Make graph using plt.bar\n",
        "# set the ticks; Try to use range function when refactoring\n",
        "x_ticks = [1,2, 3, 4, 5, 6, 7, 8, 9, 10]\n",
        "\n",
        "# set the height of each bar to come from the votes feature\n",
        "# of my df\n",
        "# set color (use hex val), width kwargs\n",
        "plt.bar(x=x_ticks, height=fake_df[\"votes\"], color=\"#E2751F\", width=.9 )\n",
        "\n",
        "# Make Labels - setting the ax.set_xlabel etc\n",
        "ax.set_xlabel(\"Rating\", fontsize=10.2, fontweight=\"bold\", y=-5)\n",
        "ax.set_ylabel(\"Percent of total votes\", fontsize=10.2, fontweight=\"bold\")\n",
        "\n",
        "# Fix Tick marks and line together\n",
        "y_ticks = [0,10,20,30,40]\n",
        "\n",
        "y_tick_labels = [0,10,20,30,\"40%\"]\n",
        "x_tick_labels = [1, 2, 3, 4, 5, 6, 7, 8, 9, 10]\n",
        "\n",
        "ax.set_yticks(y_ticks)\n",
        "ax.set_xticks(x_ticks)\n",
        "\n",
        "ax.set_yticklabels(y_tick_labels, fontsize= 9, color=\"#a6a6a6\")\n",
        "ax.set_xticklabels(x_tick_labels, fontsize= 9, color=\"#a6a6a6\")\n",
        "\n",
        "#Set Title\n",
        "table_title = \"\\'An Inconvenient Sequel: Truth to Power\\' is divisive\"\n",
        "ax.set_title(table_title, fontsize= 11, fontweight= \"bold\", x=.25, y=1.1)\n",
        "\n",
        "# subtitle and other text can just be text objects\n",
        "subtitle= \"IMDb ratings for the film as of Aug. 29\"\n",
        "ax.text(s= subtitle, fontsize = 11, x=-1.8, y= 42.5)\n",
        "\n",
        "fteight_text =\"FiveThiryEight\"\n",
        "source = \"SOURCE: IMDB\"\n",
        "ax.text(s=fteight_text, fontsize =7, x=-1.5, y=-8, color=\"#a6a6a6\")\n",
        "ax.text(s=source, fontsize =7, x=9.5, y=-8, color=\"#a6a6a6\")\n",
        "# Deal with Spines - figu\n",
        "ax.spines[\"left\"].set_visible(False)\n",
        "ax.spines[\"right\"].set_visible(False)\n",
        "\n",
        "ax.spines[\"top\"].set_visible(True)\n",
        "ax.spines[\"top\"].set_linewidth(1)\n",
        "\n",
        "ax.spines[\"bottom\"].set_visible(True)\n",
        "ax.spines[\"bottom\"].set_linewidth(1)\n",
        "\n",
        "# end with plt.show()\n",
        "plt.show()"
      ],
      "execution_count": null,
      "outputs": [
        {
          "output_type": "display_data",
          "data": {
            "image/png": "[encoded data removed]",
            "text/plain": [
              "<Figure size 432x288 with 1 Axes>"
            ]
          },
          "metadata": {
            "tags": []
          }
        }
      ]
    },
    {
      "cell_type": "code",
      "metadata": {
        "id": "lostn0hXCH4G",
        "colab_type": "code",
        "colab": {
          "base_uri": "https://localhost:8080/",
          "height": 554
        },
        "outputId": "62322c16-4818-429e-bc46-7321fb8285e0"
      },
      "source": [
        "# try to load in url\n",
        "from IPython.display import display, Image\n",
        "url2 =\"https://fivethirtyeight.com/wp-content/uploads/2020/06/tesler-VIRUS-ECONOMY-0630-2-UPDATED.png?w=575\"\n",
        "\n",
        "example2 = Image(url=url2, width=575)\n",
        "\n",
        "display(example2)\n",
        "\n"
      ],
      "execution_count": null,
      "outputs": [
        {
          "output_type": "display_data",
          "data": {
            "text/html": [
              "<img src=\"https://fivethirtyeight.com/wp-content/uploads/2020/06/tesler-VIRUS-ECONOMY-0630-2-UPDATED.png?w=575\" width=\"575\"/>"
            ],
            "text/plain": [
              "<IPython.core.display.Image object>"
            ]
          },
          "metadata": {
            "tags": []
          }
        }
      ]
    },
    {
      "cell_type": "code",
      "metadata": {
        "id": "Hg8r_NQ9xgZn",
        "colab_type": "code",
        "colab": {
          "base_uri": "https://localhost:8080/",
          "height": 258
        },
        "outputId": "cc04a23a-23e2-4fb8-e711-e8f4449d5127"
      },
      "source": [
        "# create fake dataset; create DataFrame for it\n",
        "# I can alway's load the different values into this var names later\n",
        "# if necessary\n",
        "\n",
        "nation_eco_survey_df = pd.DataFrame()\n",
        "\n",
        "dems_val_ls = [75,74, 71, 62,49, 51, 10]\n",
        "reps_val_ls = [11,13, 26, 90, 97, 97,65]\n",
        "\n",
        "nation_eco_survey_df[\"%_democrats\"] = dems_val_ls\n",
        "nation_eco_survey_df[\"%_republicans\"] = reps_val_ls\n",
        "nation_eco_survey_df"
      ],
      "execution_count": 200,
      "outputs": [
        {
          "output_type": "execute_result",
          "data": {
            "text/html": [
              "<div>\n",
              "<style scoped>\n",
              "    .dataframe tbody tr th:only-of-type {\n",
              "        vertical-align: middle;\n",
              "    }\n",
              "\n",
              "    .dataframe tbody tr th {\n",
              "        vertical-align: top;\n",
              "    }\n",
              "\n",
              "    .dataframe thead th {\n",
              "        text-align: right;\n",
              "    }\n",
              "</style>\n",
              "<table border=\"1\" class=\"dataframe\">\n",
              "  <thead>\n",
              "    <tr style=\"text-align: right;\">\n",
              "      <th></th>\n",
              "      <th>%_democrats</th>\n",
              "      <th>%_republicans</th>\n",
              "    </tr>\n",
              "  </thead>\n",
              "  <tbody>\n",
              "    <tr>\n",
              "      <th>0</th>\n",
              "      <td>75</td>\n",
              "      <td>11</td>\n",
              "    </tr>\n",
              "    <tr>\n",
              "      <th>1</th>\n",
              "      <td>74</td>\n",
              "      <td>13</td>\n",
              "    </tr>\n",
              "    <tr>\n",
              "      <th>2</th>\n",
              "      <td>71</td>\n",
              "      <td>26</td>\n",
              "    </tr>\n",
              "    <tr>\n",
              "      <th>3</th>\n",
              "      <td>62</td>\n",
              "      <td>90</td>\n",
              "    </tr>\n",
              "    <tr>\n",
              "      <th>4</th>\n",
              "      <td>49</td>\n",
              "      <td>97</td>\n",
              "    </tr>\n",
              "    <tr>\n",
              "      <th>5</th>\n",
              "      <td>51</td>\n",
              "      <td>97</td>\n",
              "    </tr>\n",
              "    <tr>\n",
              "      <th>6</th>\n",
              "      <td>10</td>\n",
              "      <td>65</td>\n",
              "    </tr>\n",
              "  </tbody>\n",
              "</table>\n",
              "</div>"
            ],
            "text/plain": [
              "   %_democrats  %_republicans\n",
              "0           75             11\n",
              "1           74             13\n",
              "2           71             26\n",
              "3           62             90\n",
              "4           49             97\n",
              "5           51             97\n",
              "6           10             65"
            ]
          },
          "metadata": {
            "tags": []
          },
          "execution_count": 200
        }
      ]
    },
    {
      "cell_type": "code",
      "metadata": {
        "id": "w_326ZXkxnpp",
        "colab_type": "code",
        "colab": {}
      },
      "source": [
        ""
      ],
      "execution_count": null,
      "outputs": []
    },
    {
      "cell_type": "code",
      "metadata": {
        "id": "EOybFojvuVil",
        "colab_type": "code",
        "colab": {
          "base_uri": "https://localhost:8080/",
          "height": 372
        },
        "outputId": "1a0e07d4-8cda-4916-f84b-365badcd224e"
      },
      "source": [
        "# access style guide\n",
        "plt.style.use('fivethirtyeight')\n",
        "\n",
        "#unpack Variables\n",
        "fig, ax = plt.subplots()\n",
        "\n",
        "# set background \n",
        "fig.set_facecolor(\"#f0f0f0\")\n",
        "\n",
        "# set graph background\n",
        "ax.set_facecolor(\"#f0f0f0\")\n",
        "\n",
        "# Make Graph - need one df nation_eco_survey_df\n",
        "#  features is %dems, %reps\n",
        "# x - 2016-2021, y - 0-100\n",
        "\n",
        "plt.plot(nation_eco_survey_df[\"%_democrats\"])\n",
        "# ax.plot(nation_eco_survey_df[\"%_democrats\"])\n",
        "plt.plot(nation_eco_survey_df[\"%_republicans\"])\n",
        "\n",
        "# Make the labels\n",
        "# ?\n",
        "\n",
        "# fix Tick Marks and line together\n",
        "\n",
        "x_ticks = [0, 1, 2,3, 4, 5, 5.5]\n",
        "y_ticks = [0, 25, 50, 75, 100]\n",
        "\n",
        "x_tick_labels = [\"2016\", \"\\'17\", \"\\'18\", \"\\'19\", \"\\'20\"]\n",
        "y_tick_labels = [0, 25, 50, 75, \"100%\"]\n",
        "\n",
        "ax.set_xticks(x_ticks)\n",
        "ax.set_yticks(y_ticks)\n",
        "\n",
        "ax.set_yticklabels(y_tick_labels, fontsize=10, color=\"#a6a6a6\" )\n",
        "ax.set_xticklabels(x_tick_labels, fontsize=10, color=\"#a6a6a6\")\n",
        "\n",
        "# set title\n",
        "grph_title = \"Partisan divide over the economy is largest since 2016\"\n",
        "grph_subtitle = \"Share of respondents who rate the nation's economy as \\\"very\\\"or \\\"fairly\\\" \\ngood, by party\"\n",
        "\n",
        "ax.set_title(grph_title, fontsize=13, fontweight=\"bold\", pad= 60, ha=\"right\",\n",
        "             x=.972)\n",
        "ax.text(s=grph_subtitle, fontsize=10, x=-.8, y= 115 )\n",
        "\n",
        "rep_text = \"Republicans\"\n",
        "dem_text = \"Democrats\"\n",
        "\n",
        "ax.text(s=rep_text, fontsize=11, x=1.2, y= 94, fontweight=\"bold\", c=\"#d64e2f\")\n",
        "ax.text(s=dem_text, fontsize=11, x=.1, y= 78, fontweight=\"bold\", c=\"#2fb2d6\")\n",
        "\n",
        "fteight_text =\"FiveThiryEight\"\n",
        "source = \"SOURCE: CIVIQS\"\n",
        "ax.text(s=fteight_text, fontsize =7, x=-.7, y=-16, color=\"#a6a6a6\")\n",
        "ax.text(s=source, fontsize =7, x=4.2, y=-16, color=\"#a6a6a6\")\n",
        "\n",
        "line = \"____________________________________________________________________________________________________________________________\"\n",
        "ax.text(s=line, fontsize =7, x=-.7, y=-9, color=\"#a6a6a6\")\n",
        "\n",
        "\n",
        "# Set Spines\n",
        "\n",
        "ax.spines[\"bottom\"].set_visible(True)\n",
        "ax.spines[\"bottom\"].set_linewidth(1)\n",
        "\n",
        "\n",
        "#end with plt.show()\n",
        "plt.show()\n"
      ],
      "execution_count": 205,
      "outputs": [
        {
          "output_type": "display_data",
          "data": {
            "image/png": "[encoded data removed]",
            "text/plain": [
              "<Figure size 432x288 with 1 Axes>"
            ]
          },
          "metadata": {
            "tags": []
          }
        }
      ]
    },
    {
      "cell_type": "code",
      "metadata": {
        "id": "NcS7K1W1ufyy",
        "colab_type": "code",
        "colab": {}
      },
      "source": [
        ""
      ],
      "execution_count": null,
      "outputs": []
    },
    {
      "cell_type": "markdown",
      "metadata": {
        "id": "0wSrBzmJyWaV",
        "colab_type": "text"
      },
      "source": [
        "# STRETCH OPTIONS\n",
        "\n",
        "### 1) Reproduce one of the following using the matplotlib or seaborn libraries:\n",
        "\n",
        "- [thanksgiving-2015](https://fivethirtyeight.com/features/heres-what-your-part-of-america-eats-on-thanksgiving/) \n",
        "- [candy-power-ranking](https://fivethirtyeight.com/features/the-ultimate-halloween-candy-power-ranking/) \n",
        "- or another example of your choice!\n",
        "\n",
        "### 2) Make more charts!\n",
        "\n",
        "Choose a chart you want to make, from [Visual Vocabulary - Vega Edition](http://ft.com/vocabulary).\n",
        "\n",
        "Find the chart in an example gallery of a Python data visualization library:\n",
        "- [Seaborn](http://seaborn.pydata.org/examples/index.html)\n",
        "- [Altair](https://altair-viz.github.io/gallery/index.html)\n",
        "- [Matplotlib](https://matplotlib.org/gallery.html)\n",
        "- [Pandas](https://pandas.pydata.org/pandas-docs/stable/visualization.html)\n",
        "\n",
        "Reproduce the chart. [Optionally, try the \"Ben Franklin Method.\"](https://docs.google.com/document/d/1ubOw9B3Hfip27hF2ZFnW3a3z9xAgrUDRReOEo-FHCVs/edit) If you want, experiment and make changes.\n",
        "\n",
        "Take notes. Consider sharing your work with your cohort!"
      ]
    },
    {
      "cell_type": "code",
      "metadata": {
        "id": "dRJkKftiy5BJ",
        "colab_type": "code",
        "colab": {}
      },
      "source": [
        "# More Work Here"
      ],
      "execution_count": null,
      "outputs": []
    }
  ]
}