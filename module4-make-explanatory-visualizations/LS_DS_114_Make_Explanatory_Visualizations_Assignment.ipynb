{
  "nbformat": 4,
  "nbformat_minor": 0,
  "metadata": {
    "colab": {
      "name": "Copy of LS_DS_114_Make_Explanatory_Visualizations_Assignment.ipynb",
      "provenance": [],
      "collapsed_sections": [],
      "toc_visible": true,
      "include_colab_link": true
    },
    "language_info": {
      "codemirror_mode": {
        "name": "ipython",
        "version": 3
      },
      "file_extension": ".py",
      "mimetype": "text/x-python",
      "name": "python",
      "nbconvert_exporter": "python",
      "pygments_lexer": "ipython3",
      "version": "3.7.1"
    },
    "kernelspec": {
      "display_name": "Python 3",
      "language": "python",
      "name": "python3"
    }
  },
  "cells": [
    {
      "cell_type": "markdown",
      "metadata": {
        "id": "view-in-github",
        "colab_type": "text"
      },
      "source": [
        "<a href=\"https://colab.research.google.com/github/dubrovskaya/DS-Unit-1-Sprint-1-Data-Wrangling-and-Storytelling/blob/master/module4-make-explanatory-visualizations/LS_DS_114_Make_Explanatory_Visualizations_Assignment.ipynb\" target=\"_parent\"><img src=\"https://colab.research.google.com/assets/colab-badge.svg\" alt=\"Open In Colab\"/></a>"
      ]
    },
    {
      "cell_type": "markdown",
      "metadata": {
        "colab_type": "text",
        "id": "NMEswXWh9mqw"
      },
      "source": [
        "Lambda School Data Science\n",
        "\n",
        "*Unit 1, Sprint 1, Module 4*\n",
        "\n",
        "---\n",
        "\n",
        "# ASSIGNMENT\n",
        "\n",
        "### 1) Replicate the lesson code. I recommend that you [do not copy-paste](https://docs.google.com/document/d/1ubOw9B3Hfip27hF2ZFnW3a3z9xAgrUDRReOEo-FHCVs/edit).\n",
        "\n",
        "Get caught up to where we got our example in class and then try and take things further. How close to \"pixel perfect\" can you make the lecture graph?\n",
        "\n",
        "Once you have something that you're proud of, share your graph in the cohort channel and move on to the second exercise.\n",
        "\n",
        "### 2) Reproduce another example from [FiveThityEight's shared data repository](https://data.fivethirtyeight.com/).\n",
        "\n",
        "**WARNING**: There are a lot of very custom graphs and tables at the above link. I **highly** recommend not trying to reproduce any that look like a table of values or something really different from the graph types that we are already familiar with. Search through the posts until you find a graph type that you are more or less familiar with: histogram, bar chart, stacked bar chart, line chart, [seaborn relplot](https://seaborn.pydata.org/generated/seaborn.relplot.html), etc. Recreating some of the graphics that 538 uses would be a lot easier in Adobe photoshop/illustrator than with matplotlib. \n",
        "\n",
        "- If you put in some time to find a graph that looks \"easy\" to replicate you'll probably find that it's not as easy as you thought. \n",
        "\n",
        "- If you start with a graph that looks hard to replicate you'll probably run up against a brick wall and be disappointed with your afternoon.\n",
        "\n",
        "\n",
        "\n",
        "\n",
        "\n",
        "\n",
        "\n",
        "\n",
        "\n",
        "\n"
      ]
    },
    {
      "cell_type": "code",
      "metadata": {
        "id": "7SY1ZHawyZvz",
        "colab_type": "code",
        "outputId": "1378de61-49b1-422d-f0c5-b6dd92bc44c3",
        "colab": {
          "base_uri": "https://localhost:8080/",
          "height": 355
        }
      },
      "source": [
        "# Your Work Here\n",
        "\n",
        "\n",
        "from IPython.display import display, Image\n",
        "\n",
        "url = 'https://fivethirtyeight.com/wp-content/uploads/2017/09/mehtahickey-inconvenient-0830-1.png'\n",
        "example = Image(url=url, width=400)\n",
        "\n",
        "display(example)"
      ],
      "execution_count": 0,
      "outputs": [
        {
          "output_type": "display_data",
          "data": {
            "text/html": [
              "<img src=\"https://fivethirtyeight.com/wp-content/uploads/2017/09/mehtahickey-inconvenient-0830-1.png\" width=\"400\"/>"
            ],
            "text/plain": [
              "<IPython.core.display.Image object>"
            ]
          },
          "metadata": {
            "tags": []
          }
        }
      ]
    },
    {
      "cell_type": "code",
      "metadata": {
        "id": "Llv3Ji1Ah9nA",
        "colab_type": "code",
        "outputId": "e5703689-3ab7-4138-fe65-239dd12079fc",
        "colab": {
          "base_uri": "https://localhost:8080/",
          "height": 392
        }
      },
      "source": [
        "%matplotlib inline\n",
        "import matplotlib.pyplot as plt\n",
        "import numpy as np\n",
        "import pandas as pd\n",
        "\n",
        "#Set plot style\n",
        "plt.style.use('fivethirtyeight')\n",
        "\n",
        "#Generate fake data\n",
        "fake = pd.Series([38, 3, 2, 1, 2, 4, 6, 5, 5, 33], \n",
        "                 index=range(1,11))\n",
        "\n",
        "#Figure axis syntax generate \n",
        "fig, ax = plt.subplots()\n",
        "\n",
        "#Plot the chart\n",
        "fake.plot.bar(color='#ED7139', width=0.9);\n",
        "\n",
        "#Set plot title and subtitles\n",
        "ax.set_title(\"'An Inconvenient Sequel: Truth to Power' is divisive\", fontsize=12, fontweight='bold',x=0.41, y=1.17)\n",
        "ax.text(s='IMDB ratings as of August 29', y=44.53, x=-1.2, fontsize=11)\n",
        "ax.text(s='Source:IMBD', x=8, y=-12, fontsize=8, fontweight='light')\n",
        "ax.text(s='FiveThirtyEight', x=-1.5, y=-12, fontsize=8, fontweight='light')\n",
        "\n",
        "#Set plot labels \n",
        "ax.set_ylabel('Percent votes', fontsize=10, fontweight='bold')\n",
        "ax.set_xlabel('Rating', fontsize=10, fontweight='bold')\n",
        "\n",
        "#Set Y ticks and tick labels\n",
        "ax.set_yticklabels(['0','10','20','30','40%'], fontsize=10, fontweight='light', color='gray')\n",
        "ax.set_yticks(range(0,50,10))\n",
        "\n",
        "#Set X ticks\n",
        "ax.set_xticklabels(range(1,11,1), rotation=0, fontsize=10, fontweight='light', color='gray')\n",
        "ax.set_xticks(range(0,10,1))\n",
        "\n",
        "#set bg colors:\n",
        "ax.set_facecolor('white')\n",
        "fig.set_facecolor('white')\n",
        "\n",
        "\n",
        "#remove spines\n",
        "ax.spines['right'].set_visible(False)\n",
        "ax.spines['left'].set_visible(False)\n",
        "ax.spines['top'].set_visible(False)\n",
        "ax.spines['bottom'].set_visible(False)\n",
        "\n",
        "#Add a horizontal line\n",
        "#ax.axhline(y=-5, xmin=0, xmax=1)\n",
        "#ax.axhline(y=-3, xmin=0, xmax=1)\n",
        "\n",
        "ax.tick_params(which='major', length=7, color='lightgray')\n",
        "\n",
        "\n",
        "fig.show()\n",
        "\n"
      ],
      "execution_count": 0,
      "outputs": [
        {
          "output_type": "display_data",
          "data": {
            "image/png": "[encoded data removed]",
            "text/plain": [
              "<Figure size 432x288 with 1 Axes>"
            ]
          },
          "metadata": {
            "tags": []
          }
        }
      ]
    },
    {
      "cell_type": "markdown",
      "metadata": {
        "id": "Sm6DJe7DEsFx",
        "colab_type": "text"
      },
      "source": [
        "# Task #2"
      ]
    },
    {
      "cell_type": "code",
      "metadata": {
        "id": "I3Bq-4-aEueV",
        "colab_type": "code",
        "outputId": "56f0ec1c-bf5d-46cd-a231-c5eb01e1320f",
        "colab": {
          "base_uri": "https://localhost:8080/",
          "height": 251
        }
      },
      "source": [
        "\n",
        "\n",
        "from IPython.display import display, Image\n",
        "\n",
        "url = 'https://fivethirtyeight.com/wp-content/uploads/2016/01/barry-jester-nutrition-1.png?w=1150'\n",
        "example = Image(url=url, width=400)\n",
        "\n",
        "display(example)\n",
        "\n",
        "\n"
      ],
      "execution_count": 0,
      "outputs": [
        {
          "output_type": "display_data",
          "data": {
            "text/html": [
              "<img src=\"https://fivethirtyeight.com/wp-content/uploads/2016/01/barry-jester-nutrition-1.png?w=1150\" width=\"400\"/>"
            ],
            "text/plain": [
              "<IPython.core.display.Image object>"
            ]
          },
          "metadata": {
            "tags": []
          }
        }
      ]
    },
    {
      "cell_type": "code",
      "metadata": {
        "id": "RgrCAFtoMift",
        "colab_type": "code",
        "outputId": "8b3c9815-78ab-4d53-dcaa-422bc19d0470",
        "colab": {
          "base_uri": "https://localhost:8080/",
          "height": 142
        }
      },
      "source": [
        "\n",
        "data= [['Chrisitie', 2030,3000,3], ['Walt', 2150, 1800,2], ['Anna', 2100, 1350,1]]\n",
        "df=pd.DataFrame(data, columns=['name', 'diary', 'ffq','ind'])\n",
        "\n",
        "\n",
        "df['ind']=df['ind']+0.5\n",
        "df"
      ],
      "execution_count": 0,
      "outputs": [
        {
          "output_type": "execute_result",
          "data": {
            "text/html": [
              "<div>\n",
              "<style scoped>\n",
              "    .dataframe tbody tr th:only-of-type {\n",
              "        vertical-align: middle;\n",
              "    }\n",
              "\n",
              "    .dataframe tbody tr th {\n",
              "        vertical-align: top;\n",
              "    }\n",
              "\n",
              "    .dataframe thead th {\n",
              "        text-align: right;\n",
              "    }\n",
              "</style>\n",
              "<table border=\"1\" class=\"dataframe\">\n",
              "  <thead>\n",
              "    <tr style=\"text-align: right;\">\n",
              "      <th></th>\n",
              "      <th>name</th>\n",
              "      <th>diary</th>\n",
              "      <th>ffq</th>\n",
              "      <th>ind</th>\n",
              "    </tr>\n",
              "  </thead>\n",
              "  <tbody>\n",
              "    <tr>\n",
              "      <th>0</th>\n",
              "      <td>Chrisitie</td>\n",
              "      <td>2030</td>\n",
              "      <td>3000</td>\n",
              "      <td>3.5</td>\n",
              "    </tr>\n",
              "    <tr>\n",
              "      <th>1</th>\n",
              "      <td>Walt</td>\n",
              "      <td>2150</td>\n",
              "      <td>1800</td>\n",
              "      <td>2.5</td>\n",
              "    </tr>\n",
              "    <tr>\n",
              "      <th>2</th>\n",
              "      <td>Anna</td>\n",
              "      <td>2100</td>\n",
              "      <td>1350</td>\n",
              "      <td>1.5</td>\n",
              "    </tr>\n",
              "  </tbody>\n",
              "</table>\n",
              "</div>"
            ],
            "text/plain": [
              "        name  diary   ffq  ind\n",
              "0  Chrisitie   2030  3000  3.5\n",
              "1       Walt   2150  1800  2.5\n",
              "2       Anna   2100  1350  1.5"
            ]
          },
          "metadata": {
            "tags": []
          },
          "execution_count": 55
        }
      ]
    },
    {
      "cell_type": "code",
      "metadata": {
        "id": "ctSOQYoMF0fA",
        "colab_type": "code",
        "outputId": "d25dcf03-840a-4f57-a344-b50072835be7",
        "colab": {
          "base_uri": "https://localhost:8080/",
          "height": 308
        }
      },
      "source": [
        "#Set plot style\n",
        "plt.style.use('fivethirtyeight')\n",
        "\n",
        "\n",
        "\n",
        "#Figure axis syntax generate \n",
        "fig, ax = plt.subplots(figsize=(6,2.5)) \n",
        "\n",
        "\n",
        "\n",
        "#Plot the chart\n",
        "df.plot.scatter(x='diary',y='ind',color='purple', s=100, ax=ax, linewidths=1.5, edgecolors='black')\n",
        "df.plot(kind='scatter',x='ffq',y='ind',color='green', s=100, ax=ax, linewidths=1.5, edgecolors='black')\n",
        "\n",
        "ax.set_title(\"It's hard to remember what you ate last July\", fontsize=13, fontweight='bold', x=0.1, y=1.5)\n",
        "ax.text(s='Calories eaten per day according to a food diary vs. the food \\n frequency questionanire', x=550, y=6, fontsize=11)\n",
        "\n",
        "ax.text(s='Food diary', x=1900, y=3.7, fontsize=10, color='purple')\n",
        "ax.text(s='FFQ', x=2950, y=3.7, fontsize=10, color='green')\n",
        "ax.text(s='Difference', x=2400, y=3.2, fontsize=10, color='black')\n",
        "ax.text(s='FiveThirtyEight', x=750, y=-0.1, fontsize=8, fontweight='light')\n",
        "\n",
        "\n",
        "\n",
        "#Remove labels\n",
        "ax.set_ylabel('')\n",
        "ax.set_xlabel('')\n",
        "\n",
        "\n",
        "#Set Y ticks and tick labels\n",
        "ax.set_yticklabels([' ', ' ', ' '], fontsize=11, fontweight='bold')\n",
        "ax.set_yticks(range(1,6,1))\n",
        "#lon.set_yticklabel_visible(False)\n",
        "\n",
        "\n",
        "#Set X ticks\n",
        "ax.set_xticklabels(['1,000 cal', '1,500', '2,000', '2,500', '3,000'], fontsize=10, fontweight='light', color='gray')\n",
        "ax.set_xticks(range(1000,3500,500))\n",
        "#ax.xaxis.set_label_position('top')  -- did not work\n",
        "ax.xaxis.tick_top()\n",
        "\n",
        "\n",
        "\n",
        "#plot lines connecting the dots\n",
        "\n",
        "ax.axhline(y=1.5, xmin=0.175, xmax=0.52, ls=':', lw=1.5, color='black')\n",
        "ax.axhline(y=2.5, xmin=0.4, xmax=0.55, ls=':', lw=1.5, color='black')\n",
        "ax.axhline(y=3.5, xmin=0.5, xmax=0.96, ls=':', lw=1.5, color='black')\n",
        "\n",
        "\n",
        "#Manually add y labels \n",
        "ax.text(s='Christie', x=750, y=3.4, fontsize=12, fontweight='bold')\n",
        "ax.text(s='Walt', x=750, y=2.4, fontsize=12, fontweight='bold')\n",
        "ax.text(s='Anna', x=750, y=1.4, fontsize=12, fontweight='bold')\n",
        "\n",
        "\n",
        "\n",
        "\n",
        "\n",
        "plt.show()\n",
        "\n"
      ],
      "execution_count": 0,
      "outputs": [
        {
          "output_type": "display_data",
          "data": {
            "image/png": "[encoded data removed]",
            "text/plain": [
              "<Figure size 432x180 with 1 Axes>"
            ]
          },
          "metadata": {
            "tags": []
          }
        }
      ]
    },
    {
      "cell_type": "markdown",
      "metadata": {
        "id": "0wSrBzmJyWaV",
        "colab_type": "text"
      },
      "source": [
        "# STRETCH OPTIONS\n",
        "\n",
        "### 1) Reproduce one of the following using the matplotlib or seaborn libraries:\n",
        "\n",
        "- [thanksgiving-2015](https://fivethirtyeight.com/features/heres-what-your-part-of-america-eats-on-thanksgiving/) \n",
        "- [candy-power-ranking](https://fivethirtyeight.com/features/the-ultimate-halloween-candy-power-ranking/) \n",
        "- or another example of your choice!\n",
        "\n",
        "### 2) Make more charts!\n",
        "\n",
        "Choose a chart you want to make, from [Visual Vocabulary - Vega Edition](http://ft.com/vocabulary).\n",
        "\n",
        "Find the chart in an example gallery of a Python data visualization library:\n",
        "- [Seaborn](http://seaborn.pydata.org/examples/index.html)\n",
        "- [Altair](https://altair-viz.github.io/gallery/index.html)\n",
        "- [Matplotlib](https://matplotlib.org/gallery.html)\n",
        "- [Pandas](https://pandas.pydata.org/pandas-docs/stable/visualization.html)\n",
        "\n",
        "Reproduce the chart. [Optionally, try the \"Ben Franklin Method.\"](https://docs.google.com/document/d/1ubOw9B3Hfip27hF2ZFnW3a3z9xAgrUDRReOEo-FHCVs/edit) If you want, experiment and make changes.\n",
        "\n",
        "Take notes. Consider sharing your work with your cohort!"
      ]
    },
    {
      "cell_type": "code",
      "metadata": {
        "id": "dRJkKftiy5BJ",
        "colab_type": "code",
        "outputId": "8928eeed-90ff-4bf1-efd5-c3a751c00aae",
        "colab": {
          "base_uri": "https://localhost:8080/",
          "height": 378
        }
      },
      "source": [
        "\n",
        "from IPython.display import display, Image\n",
        "\n",
        "url = 'https://fivethirtyeight.com/wp-content/uploads/2015/11/hickey-side-dish-1.png?w=1150'\n",
        "example = Image(url=url, width=400)\n",
        "\n",
        "display(example)\n",
        "\n",
        "\n",
        "\n",
        "\n"
      ],
      "execution_count": 0,
      "outputs": [
        {
          "output_type": "display_data",
          "data": {
            "text/html": [
              "<img src=\"https://fivethirtyeight.com/wp-content/uploads/2015/11/hickey-side-dish-1.png?w=1150\" width=\"400\"/>"
            ],
            "text/plain": [
              "<IPython.core.display.Image object>"
            ]
          },
          "metadata": {
            "tags": []
          }
        }
      ]
    },
    {
      "cell_type": "code",
      "metadata": {
        "id": "_T8XTCp2NwhQ",
        "colab_type": "code",
        "colab": {}
      },
      "source": [
        ""
      ],
      "execution_count": 0,
      "outputs": []
    }
  ]
}