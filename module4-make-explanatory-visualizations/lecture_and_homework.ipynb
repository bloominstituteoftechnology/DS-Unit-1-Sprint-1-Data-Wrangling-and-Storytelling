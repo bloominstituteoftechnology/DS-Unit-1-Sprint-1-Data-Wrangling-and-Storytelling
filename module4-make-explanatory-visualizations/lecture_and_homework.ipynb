{
 "cells": [
  {
   "cell_type": "code",
   "execution_count": 13,
   "metadata": {},
   "outputs": [],
   "source": [
    "import pandas as pd\n",
    "df = pd.DataFrame({1,2,3,4,5},{1,2,3,4,5})\n",
    "\n",
    "#basic pandas pyplot syntax ,\n",
    "plt.plot"
   ]
  },
  {
   "cell_type": "code",
   "execution_count": null,
   "metadata": {},
   "outputs": [],
   "source": [
    "## figure axes syntax : two variables fig, ax ; functions to control graph start with set_\n",
    "fix, ax = plt.subplots()\n",
    "ax.plot(df['a'])\n",
    "ax.plot(df['b'])\n",
    "\n",
    "fig.patch.set_facecolor('green')\n",
    "ax.set_xlabel(\"x axis\")\n",
    "ax.set_ylabel(\"y axis\")\n",
    "ax.set_title('the title of this  graph')\n",
    "\n",
    "plt.show()"
   ]
  },
  {
   "cell_type": "code",
   "execution_count": null,
   "metadata": {},
   "outputs": [],
   "source": [
    "#recreate 538 graph url: df = pd.read_csv('https://raw.githubusercontent.com/fivethirtyeight/data/master/inconvenient-sequel/ratings.csv')"
   ]
  },
  {
   "cell_type": "code",
   "execution_count": 1,
   "metadata": {},
   "outputs": [
    {
     "data": {
      "text/html": [
       "<img src=\"https://fivethirtyeight.com/wp-content/uploads/2017/09/mehtahickey-inconvenient-0830-1.png\" width=\"400\"/>"
      ],
      "text/plain": [
       "<IPython.core.display.Image object>"
      ]
     },
     "metadata": {},
     "output_type": "display_data"
    }
   ],
   "source": [
    "from IPython.display import display, Image\n",
    "\n",
    "url = 'https://fivethirtyeight.com/wp-content/uploads/2017/09/mehtahickey-inconvenient-0830-1.png'\n",
    "example = Image(url=url, width=400)\n",
    "\n",
    "display(example)"
   ]
  },
  {
   "cell_type": "code",
   "execution_count": 18,
   "metadata": {},
   "outputs": [],
   "source": [
    "df = pd.read_csv('https://raw.githubusercontent.com/fivethirtyeight/data/master/inconvenient-sequel/ratings.csv')\n"
   ]
  },
  {
   "cell_type": "code",
   "execution_count": 21,
   "metadata": {},
   "outputs": [
    {
     "data": {
      "text/html": [
       "<div>\n",
       "<style scoped>\n",
       "    .dataframe tbody tr th:only-of-type {\n",
       "        vertical-align: middle;\n",
       "    }\n",
       "\n",
       "    .dataframe tbody tr th {\n",
       "        vertical-align: top;\n",
       "    }\n",
       "\n",
       "    .dataframe thead th {\n",
       "        text-align: right;\n",
       "    }\n",
       "</style>\n",
       "<table border=\"1\" class=\"dataframe\">\n",
       "  <thead>\n",
       "    <tr style=\"text-align: right;\">\n",
       "      <th></th>\n",
       "      <th>timestamp</th>\n",
       "      <th>respondents</th>\n",
       "      <th>category</th>\n",
       "      <th>link</th>\n",
       "      <th>average</th>\n",
       "      <th>mean</th>\n",
       "      <th>median</th>\n",
       "      <th>1_votes</th>\n",
       "      <th>2_votes</th>\n",
       "      <th>3_votes</th>\n",
       "      <th>...</th>\n",
       "      <th>1_pct</th>\n",
       "      <th>2_pct</th>\n",
       "      <th>3_pct</th>\n",
       "      <th>4_pct</th>\n",
       "      <th>5_pct</th>\n",
       "      <th>6_pct</th>\n",
       "      <th>7_pct</th>\n",
       "      <th>8_pct</th>\n",
       "      <th>9_pct</th>\n",
       "      <th>10_pct</th>\n",
       "    </tr>\n",
       "  </thead>\n",
       "  <tbody>\n",
       "    <tr>\n",
       "      <td>0</td>\n",
       "      <td>2017-07-17 12:28:32.785639</td>\n",
       "      <td>402</td>\n",
       "      <td>Males</td>\n",
       "      <td>http://www.imdb.com/title/tt6322922/ratings-male</td>\n",
       "      <td>4.6</td>\n",
       "      <td>5.0</td>\n",
       "      <td>2</td>\n",
       "      <td>197</td>\n",
       "      <td>7</td>\n",
       "      <td>7</td>\n",
       "      <td>...</td>\n",
       "      <td>49.0</td>\n",
       "      <td>1.7</td>\n",
       "      <td>1.7</td>\n",
       "      <td>0.7</td>\n",
       "      <td>1.7</td>\n",
       "      <td>1.7</td>\n",
       "      <td>2.7</td>\n",
       "      <td>2.0</td>\n",
       "      <td>5.0</td>\n",
       "      <td>33.6</td>\n",
       "    </tr>\n",
       "    <tr>\n",
       "      <td>1</td>\n",
       "      <td>2017-07-17 12:28:33.025600</td>\n",
       "      <td>78</td>\n",
       "      <td>Females</td>\n",
       "      <td>http://www.imdb.com/title/tt6322922/ratings-fe...</td>\n",
       "      <td>6.9</td>\n",
       "      <td>7.7</td>\n",
       "      <td>10</td>\n",
       "      <td>16</td>\n",
       "      <td>1</td>\n",
       "      <td>0</td>\n",
       "      <td>...</td>\n",
       "      <td>20.5</td>\n",
       "      <td>1.3</td>\n",
       "      <td>0.0</td>\n",
       "      <td>1.3</td>\n",
       "      <td>1.3</td>\n",
       "      <td>0.0</td>\n",
       "      <td>3.8</td>\n",
       "      <td>5.1</td>\n",
       "      <td>3.8</td>\n",
       "      <td>62.8</td>\n",
       "    </tr>\n",
       "    <tr>\n",
       "      <td>2</td>\n",
       "      <td>2017-07-17 12:28:33.273919</td>\n",
       "      <td>4</td>\n",
       "      <td>Aged under 18</td>\n",
       "      <td>http://www.imdb.com/title/tt6322922/ratings-age_1</td>\n",
       "      <td>4.2</td>\n",
       "      <td>4.2</td>\n",
       "      <td>3</td>\n",
       "      <td>2</td>\n",
       "      <td>0</td>\n",
       "      <td>0</td>\n",
       "      <td>...</td>\n",
       "      <td>50.0</td>\n",
       "      <td>0.0</td>\n",
       "      <td>0.0</td>\n",
       "      <td>0.0</td>\n",
       "      <td>25.0</td>\n",
       "      <td>0.0</td>\n",
       "      <td>0.0</td>\n",
       "      <td>0.0</td>\n",
       "      <td>0.0</td>\n",
       "      <td>25.0</td>\n",
       "    </tr>\n",
       "    <tr>\n",
       "      <td>3</td>\n",
       "      <td>2017-07-17 12:28:33.495325</td>\n",
       "      <td>4</td>\n",
       "      <td>Males under 18</td>\n",
       "      <td>http://www.imdb.com/title/tt6322922/ratings-ma...</td>\n",
       "      <td>4.2</td>\n",
       "      <td>4.2</td>\n",
       "      <td>3</td>\n",
       "      <td>2</td>\n",
       "      <td>0</td>\n",
       "      <td>0</td>\n",
       "      <td>...</td>\n",
       "      <td>50.0</td>\n",
       "      <td>0.0</td>\n",
       "      <td>0.0</td>\n",
       "      <td>0.0</td>\n",
       "      <td>25.0</td>\n",
       "      <td>0.0</td>\n",
       "      <td>0.0</td>\n",
       "      <td>0.0</td>\n",
       "      <td>0.0</td>\n",
       "      <td>25.0</td>\n",
       "    </tr>\n",
       "    <tr>\n",
       "      <td>4</td>\n",
       "      <td>2017-07-17 12:28:33.722849</td>\n",
       "      <td>130</td>\n",
       "      <td>Aged 18-29</td>\n",
       "      <td>http://www.imdb.com/title/tt6322922/ratings-age_2</td>\n",
       "      <td>6.3</td>\n",
       "      <td>6.5</td>\n",
       "      <td>9</td>\n",
       "      <td>41</td>\n",
       "      <td>0</td>\n",
       "      <td>3</td>\n",
       "      <td>...</td>\n",
       "      <td>31.5</td>\n",
       "      <td>0.0</td>\n",
       "      <td>2.3</td>\n",
       "      <td>0.8</td>\n",
       "      <td>1.5</td>\n",
       "      <td>2.3</td>\n",
       "      <td>4.6</td>\n",
       "      <td>3.1</td>\n",
       "      <td>4.6</td>\n",
       "      <td>49.2</td>\n",
       "    </tr>\n",
       "  </tbody>\n",
       "</table>\n",
       "<p>5 rows × 27 columns</p>\n",
       "</div>"
      ],
      "text/plain": [
       "                    timestamp  respondents        category  \\\n",
       "0  2017-07-17 12:28:32.785639          402           Males   \n",
       "1  2017-07-17 12:28:33.025600           78         Females   \n",
       "2  2017-07-17 12:28:33.273919            4   Aged under 18   \n",
       "3  2017-07-17 12:28:33.495325            4  Males under 18   \n",
       "4  2017-07-17 12:28:33.722849          130      Aged 18-29   \n",
       "\n",
       "                                                link  average  mean  median  \\\n",
       "0   http://www.imdb.com/title/tt6322922/ratings-male      4.6   5.0       2   \n",
       "1  http://www.imdb.com/title/tt6322922/ratings-fe...      6.9   7.7      10   \n",
       "2  http://www.imdb.com/title/tt6322922/ratings-age_1      4.2   4.2       3   \n",
       "3  http://www.imdb.com/title/tt6322922/ratings-ma...      4.2   4.2       3   \n",
       "4  http://www.imdb.com/title/tt6322922/ratings-age_2      6.3   6.5       9   \n",
       "\n",
       "   1_votes  2_votes  3_votes  ...  1_pct  2_pct  3_pct  4_pct  5_pct  6_pct  \\\n",
       "0      197        7        7  ...   49.0    1.7    1.7    0.7    1.7    1.7   \n",
       "1       16        1        0  ...   20.5    1.3    0.0    1.3    1.3    0.0   \n",
       "2        2        0        0  ...   50.0    0.0    0.0    0.0   25.0    0.0   \n",
       "3        2        0        0  ...   50.0    0.0    0.0    0.0   25.0    0.0   \n",
       "4       41        0        3  ...   31.5    0.0    2.3    0.8    1.5    2.3   \n",
       "\n",
       "   7_pct  8_pct  9_pct  10_pct  \n",
       "0    2.7    2.0    5.0    33.6  \n",
       "1    3.8    5.1    3.8    62.8  \n",
       "2    0.0    0.0    0.0    25.0  \n",
       "3    0.0    0.0    0.0    25.0  \n",
       "4    4.6    3.1    4.6    49.2  \n",
       "\n",
       "[5 rows x 27 columns]"
      ]
     },
     "execution_count": 21,
     "metadata": {},
     "output_type": "execute_result"
    }
   ],
   "source": [
    "df.head()"
   ]
  },
  {
   "cell_type": "code",
   "execution_count": null,
   "metadata": {},
   "outputs": [],
   "source": []
  },
  {
   "cell_type": "code",
   "execution_count": null,
   "metadata": {},
   "outputs": [],
   "source": []
  },
  {
   "cell_type": "code",
   "execution_count": 4,
   "metadata": {},
   "outputs": [],
   "source": [
    "%matplotlib inline\n",
    "import matplotlib.pyplot as plt\n",
    "import numpy as np\n",
    "import pandas as pd\n"
   ]
  },
  {
   "cell_type": "code",
   "execution_count": 7,
   "metadata": {},
   "outputs": [
    {
     "data": {
      "image/png": "[encoded data removed]",
      "text/plain": [
       "<Figure size 432x288 with 1 Axes>"
      ]
     },
     "metadata": {},
     "output_type": "display_data"
    }
   ],
   "source": [
    "plt.style.use('fivethirtyeight')\n",
    "fake = pd.Series([38, 3, 2, 1, 2, 4, 6, 5, 5, 33], \n",
    "                 index=range(1,11))\n",
    "\n",
    "fake.plot.bar(color='C1', width=0.9);"
   ]
  },
  {
   "cell_type": "code",
   "execution_count": 22,
   "metadata": {},
   "outputs": [
    {
     "data": {
      "text/plain": [
       "0      1\n",
       "1      1\n",
       "2      1\n",
       "3      1\n",
       "4      1\n",
       "      ..\n",
       "65    10\n",
       "66    10\n",
       "67    10\n",
       "68    10\n",
       "69    10\n",
       "Length: 70, dtype: int64"
      ]
     },
     "execution_count": 22,
     "metadata": {},
     "output_type": "execute_result"
    },
    {
     "data": {
      "image/png": "[encoded data removed]",
      "text/plain": [
       "<Figure size 432x288 with 1 Axes>"
      ]
     },
     "metadata": {},
     "output_type": "display_data"
    }
   ],
   "source": [
    "fake2 = pd.Series(\n",
    "    [1, 1, 1, 1, 1, 1, 1, 1, 1, 1, 1, 1, 1, 1, 1, 1, 1, 1, 1, 1, 1, 1, 1, 1,\n",
    "     2, 2, 2, \n",
    "     3, 3, 3,\n",
    "     4, 4,\n",
    "     5, 5, 5,\n",
    "     6, 6, 6, 6,\n",
    "     7, 7, 7, 7, 7,\n",
    "     8, 8, 8, 8,\n",
    "     9, 9, 9, 9, \n",
    "     10, 10, 10, 10, 10, 10, 10, 10, 10, 10, 10, 10, 10, 10, 10, 10, 10, 10])\n",
    "\n",
    "fake2.value_counts().sort_index().plot.bar(color='C1', width=0.9);\n",
    "fake2\n"
   ]
  },
  {
   "cell_type": "code",
   "execution_count": 23,
   "metadata": {},
   "outputs": [
    {
     "data": {
      "text/html": [
       "<img src=\"https://fivethirtyeight.com/wp-content/uploads/2017/09/mehtahickey-inconvenient-0830-1.png\" width=\"400\"/>"
      ],
      "text/plain": [
       "<IPython.core.display.Image object>"
      ]
     },
     "metadata": {},
     "output_type": "display_data"
    }
   ],
   "source": [
    "#replicate\n",
    "display(example)"
   ]
  },
  {
   "cell_type": "markdown",
   "metadata": {},
   "source": []
  },
  {
   "cell_type": "code",
   "execution_count": 134,
   "metadata": {},
   "outputs": [
    {
     "data": {
      "image/png": "[encoded data removed]",
      "text/plain": [
       "<Figure size 432x288 with 1 Axes>"
      ]
     },
     "metadata": {},
     "output_type": "display_data"
    },
    {
     "data": {
      "text/html": [
       "<img src=\"https://fivethirtyeight.com/wp-content/uploads/2017/09/mehtahickey-inconvenient-0830-1.png\" width=\"400\"/>"
      ],
      "text/plain": [
       "<IPython.core.display.Image object>"
      ]
     },
     "metadata": {},
     "output_type": "display_data"
    }
   ],
   "source": [
    "# plt.style.use('fivethirtyeight') #add stylesheet for 538 \n",
    "fig,ax = plt.subplots()\n",
    "fig.patch.set_facecolor('white') #todo transparent\n",
    "#fig.patch\n",
    "\n",
    "ax.set_facecolor('white')\n",
    "ax.bar(x=[1,2,3,4,5,6,7,8,9,10], height=fake,  width=.9, color='#ED713A')\n",
    "ax.set_title(\"'An Inconvenient Sequel: Truth to Power' is divisive\", fontsize=12,fontweight='bold', x=.35, y=1.12)  #todo bar color\n",
    "ax.text(s=\"IMDb ratings for the film as of Aug. 29\", x=-1.4, y=43, fontsize=12)\n",
    "ax.set_xlabel(\"Rating\", fontsize = 10, fontweight='bold')\n",
    "ax.set_ylabel(\"Percent of total votes\", fontsize=10, fontweight='bold')\n",
    "\n",
    "\n",
    "\n",
    "#TODO make backgrond white,\n",
    "# draw axes\n",
    "# ticks, labels,\n",
    "#spines\n",
    "tl_style = { 'family': 'sans','fontsize': 9,   #what font is it? there is more space betw lnters\n",
    "                 'fontweight': 'light',\n",
    "                 'verticalalignment': 'center',\n",
    "                 'horizontalalignment': 'right'}\n",
    "\n",
    "tl_style2 = {\n",
    "             'fontsize': 9,   #what font is it? there is more space betw chars\n",
    "             'fontweight': 'light',\n",
    "             'verticalalignment': 'top',\n",
    "             'horizontalalignment': 'center'}\n",
    "ax.set_yticks(range(0,42,10)) #takes list\n",
    "ax.set_yticklabels(['0', '10', '20', '30', '40%'], tl_style)\n",
    "ax.set_xticks(range(1,11,1))\n",
    "ax.set_xticklabels(range(1,11,1), tl_style2)\n",
    "ax.xaxis.set_tick_params(width=1, length=10, color='lightgrey')\n",
    "\n",
    "#turn off lborder, right border\n",
    "ax.spines['left'].set_visible(False)\n",
    "ax.spines['right'].set_visible(False)\n",
    "\n",
    "plt.show()\n",
    "display(example)"
   ]
  },
  {
   "cell_type": "code",
   "execution_count": 135,
   "metadata": {},
   "outputs": [
    {
     "data": {
      "text/html": [
       "<img src=\"https://fivethirtyeight.com/wp-content/uploads/2014/07/hickey-datalab-starwars-2.png\" width=\"400\"/>"
      ],
      "text/plain": [
       "<IPython.core.display.Image object>"
      ]
     },
     "metadata": {},
     "output_type": "display_data"
    }
   ],
   "source": [
    "from IPython.display import display, Image\n",
    "\n",
    "newexample = Image(url = 'https://fivethirtyeight.com/wp-content/uploads/2014/07/hickey-datalab-starwars-2.png', width=400)\n",
    "display(newexample)"
   ]
  },
  {
   "cell_type": "code",
   "execution_count": 192,
   "metadata": {},
   "outputs": [
    {
     "data": {
      "image/png": "[encoded data removed]",
      "text/plain": [
       "<Figure size 640x480 with 1 Axes>"
      ]
     },
     "metadata": {},
     "output_type": "display_data"
    },
    {
     "data": {
      "text/html": [
       "<img src=\"https://fivethirtyeight.com/wp-content/uploads/2014/07/hickey-datalab-starwars-2.png\" width=\"400\"/>"
      ],
      "text/plain": [
       "<IPython.core.display.Image object>"
      ]
     },
     "metadata": {},
     "output_type": "display_data"
    }
   ],
   "source": [
    "#nogrid, notickmarks, yaxis movienam, x-axis percent \n",
    "#nospine\n",
    "#title, text footer\n",
    "#font =?\n",
    "#bar #008FD5\n",
    "#patch #F0F0F0 grey\n",
    "#plt.rcdefaults()\n",
    "movies = ['The Phantom Menace', 'Attack of the Clones', \n",
    "          'Revenge of the Sith', 'A New Hope', 'The Empire Strikes Back',\n",
    "              'Return of the Jedi']\n",
    "ratedbest = pd.Series([10,4,6,27,36,17])\n",
    "\n",
    "fig,ax = plt.subplots()\n",
    "fig.patch.set_facecolor('#F0F0F0') #todo transparent\n",
    "\n",
    "ax.set_facecolor('#F0F0F0')\n",
    "ax.set_title(\"What's the Best 'Star Wars' Movie?\", fontsize=12,fontweight='bold', x=0, y=1.12)\n",
    "ax.text(s=\"Of 417 respondents who have seen all six films\", x=-13, y=-1.2, fontsize=12)\n",
    "width = .60\n",
    "ax.barh(movies, ratedbest, width, align='center', color='#008FD5')\n",
    "ax.set_yticklabels(movies)\n",
    "ax.invert_yaxis()  # labels read top-to-bottom\n",
    "#turn off lborder, right border\n",
    "ax.spines['left'].set_visible(False)\n",
    "ax.spines['right'].set_visible(False)\n",
    "ax.spines['bottom'].set_visible(False)\n",
    "ax.spines['top'].set_visible(False)  #there has to be a better way but no time\n",
    "\n",
    "ax.tick_params(\n",
    "    axis='x',          # changes apply to the x-axis\n",
    "    which='both',      # both major and minor ticks are affected\n",
    "    bottom=False,      # ticks along the bottom edge are off\n",
    "    top=False,         # ticks along the top edge are off\n",
    "    labelbottom=False) # labels along the bottom\n",
    "\n",
    "plt.tick_params(\n",
    "    axis='y',          # changes apply to the x-axis\n",
    "    which='both',      # both major and minor ticks are affected\n",
    "    left=False,      # ticks along the bottom edge are off\n",
    "    top=False) # labels along the bottom\n",
    "plt.show()\n",
    "display(newexample)\n"
   ]
  }
 ],
 "metadata": {
  "kernelspec": {
   "display_name": "Python 3",
   "language": "python",
   "name": "python3"
  },
  "language_info": {
   "codemirror_mode": {
    "name": "ipython",
    "version": 3
   },
   "file_extension": ".py",
   "mimetype": "text/x-python",
   "name": "python",
   "nbconvert_exporter": "python",
   "pygments_lexer": "ipython3",
   "version": "3.7.4"
  }
 },
 "nbformat": 4,
 "nbformat_minor": 2
}
