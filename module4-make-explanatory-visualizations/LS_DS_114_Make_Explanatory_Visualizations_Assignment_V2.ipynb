{
  "nbformat": 4,
  "nbformat_minor": 0,
  "metadata": {
    "colab": {
      "name": "LS_DS_114_Make_Explanatory_Visualizations_Assignment_V2.ipynb",
      "provenance": [],
      "collapsed_sections": [],
      "include_colab_link": true
    },
    "language_info": {
      "codemirror_mode": {
        "name": "ipython",
        "version": 3
      },
      "file_extension": ".py",
      "mimetype": "text/x-python",
      "name": "python",
      "nbconvert_exporter": "python",
      "pygments_lexer": "ipython3",
      "version": "3.7.1"
    },
    "kernelspec": {
      "display_name": "Python 3",
      "language": "python",
      "name": "python3"
    }
  },
  "cells": [
    {
      "cell_type": "markdown",
      "metadata": {
        "id": "view-in-github",
        "colab_type": "text"
      },
      "source": [
        "<a href=\"https://colab.research.google.com/github/Travistyse/DS-Unit-1-Sprint-1-Data-Wrangling-and-Storytelling/blob/master/module4-make-explanatory-visualizations/LS_DS_114_Make_Explanatory_Visualizations_Assignment_V2.ipynb\" target=\"_parent\"><img src=\"https://colab.research.google.com/assets/colab-badge.svg\" alt=\"Open In Colab\"/></a>"
      ]
    },
    {
      "cell_type": "markdown",
      "metadata": {
        "colab_type": "text",
        "id": "NMEswXWh9mqw"
      },
      "source": [
        "Lambda School Data Science\n",
        "\n",
        "*Unit 1, Sprint 1, Module 4*\n",
        "\n",
        "---\n",
        "\n",
        "# ASSIGNMENT\n",
        "\n",
        "### 1) Replicate the lesson code. I recommend that you [do not copy-paste](https://docs.google.com/document/d/1ubOw9B3Hfip27hF2ZFnW3a3z9xAgrUDRReOEo-FHCVs/edit).\n",
        "\n",
        "Get caught up to where we got our example in class and then try and take things further. How close to \"pixel perfect\" can you make the lecture graph?\n",
        "\n",
        "Once you have something that you're proud of, share your graph in the cohort channel and move on to the second exercise.\n",
        "\n",
        "### 2) Reproduce another example from [FiveThityEight's shared data repository](https://data.fivethirtyeight.com/).\n",
        "\n",
        "**WARNING**: There are a lot of very custom graphs and tables at the above link. I **highly** recommend not trying to reproduce any that look like a table of values or something really different from the graph types that we are already familiar with. Search through the posts until you find a graph type that you are more or less familiar with: histogram, bar chart, stacked bar chart, line chart, [seaborn relplot](https://seaborn.pydata.org/generated/seaborn.relplot.html), etc. Recreating some of the graphics that 538 uses would be a lot easier in Adobe photoshop/illustrator than with matplotlib. \n",
        "\n",
        "- If you put in some time to find a graph that looks \"easy\" to replicate you'll probably find that it's not as easy as you thought. \n",
        "\n",
        "- If you start with a graph that looks hard to replicate you'll probably run up against a brick wall and be disappointed with your afternoon.\n",
        "\n",
        "\n",
        "\n",
        "\n",
        "\n",
        "\n",
        "\n",
        "\n",
        "\n",
        "\n"
      ]
    },
    {
      "cell_type": "markdown",
      "metadata": {
        "id": "hpCP3rE-Y8AM",
        "colab_type": "text"
      },
      "source": [
        "------------------------\n",
        "\n",
        "Step one is to import all of the modules I need, register the matplotlib converters, adjust pandas' display options, and set a random seed"
      ]
    },
    {
      "cell_type": "code",
      "metadata": {
        "id": "7SY1ZHawyZvz",
        "colab_type": "code",
        "colab": {}
      },
      "source": [
        "# Your Work Here\n",
        "%matplotlib inline\n",
        "import matplotlib.pyplot as plt\n",
        "import numpy as np\n",
        "import pandas as pd\n",
        "from matplotlib.ticker import AutoMinorLocator, MultipleLocator, FuncFormatter\n",
        "from IPython.display import display, Image\n",
        "from pandas.plotting import register_matplotlib_converters\n",
        "register_matplotlib_converters()\n",
        "\n",
        "pd.options.display.max_rows = 999\n",
        "pd.options.display.max_columns = 100\n",
        "\n",
        "np.random.seed(314159)"
      ],
      "execution_count": 0,
      "outputs": []
    },
    {
      "cell_type": "markdown",
      "metadata": {
        "id": "4xH0nlGOZKlc",
        "colab_type": "text"
      },
      "source": [
        "Next up I want to set up the example image so I can display it whenever I need to reference and compare it against my own graph."
      ]
    },
    {
      "cell_type": "code",
      "metadata": {
        "id": "a5tjC1OcT0ci",
        "colab_type": "code",
        "outputId": "d6dca497-9ad2-42cb-9ec7-42bc02da6250",
        "colab": {
          "base_uri": "https://localhost:8080/",
          "height": 364
        }
      },
      "source": [
        "url = 'https://fivethirtyeight.com/wp-content/uploads/2019/10/Mehta-Media1028-1028-1.png?w=575'\n",
        "example = Image(url = url, width = 400)\n",
        "display(example)"
      ],
      "execution_count": 2,
      "outputs": [
        {
          "output_type": "display_data",
          "data": {
            "text/html": [
              "<img src=\"https://fivethirtyeight.com/wp-content/uploads/2019/10/Mehta-Media1028-1028-1.png?w=575\" width=\"400\"/>"
            ],
            "text/plain": [
              "<IPython.core.display.Image object>"
            ]
          },
          "metadata": {
            "tags": []
          }
        }
      ]
    },
    {
      "cell_type": "markdown",
      "metadata": {
        "id": "wpVUpoVOZYkZ",
        "colab_type": "text"
      },
      "source": [
        "Time to bring in my data for the graphs"
      ]
    },
    {
      "cell_type": "code",
      "metadata": {
        "id": "-Ye46i1UT_HT",
        "colab_type": "code",
        "colab": {}
      },
      "source": [
        "online_weekly = pd.read_csv('https://raw.githubusercontent.com/fivethirtyeight/data/master/media-mentions-2020/online_weekly.csv')\n",
        "cable_weekly = pd.read_csv('https://raw.githubusercontent.com/fivethirtyeight/data/master/media-mentions-2020/cable_weekly.csv')\n"
      ],
      "execution_count": 0,
      "outputs": []
    },
    {
      "cell_type": "code",
      "metadata": {
        "id": "3iBs2oY7Ze56",
        "colab_type": "code",
        "outputId": "a2e35328-4893-44b9-d8ff-9705e2e614ba",
        "colab": {
          "base_uri": "https://localhost:8080/",
          "height": 213
        }
      },
      "source": [
        "online_weekly.head(3)"
      ],
      "execution_count": 4,
      "outputs": [
        {
          "output_type": "execute_result",
          "data": {
            "text/html": [
              "<div>\n",
              "<style scoped>\n",
              "    .dataframe tbody tr th:only-of-type {\n",
              "        vertical-align: middle;\n",
              "    }\n",
              "\n",
              "    .dataframe tbody tr th {\n",
              "        vertical-align: top;\n",
              "    }\n",
              "\n",
              "    .dataframe thead th {\n",
              "        text-align: right;\n",
              "    }\n",
              "</style>\n",
              "<table border=\"1\" class=\"dataframe\">\n",
              "  <thead>\n",
              "    <tr style=\"text-align: right;\">\n",
              "      <th></th>\n",
              "      <th>date</th>\n",
              "      <th>name</th>\n",
              "      <th>matched_stories</th>\n",
              "      <th>all_candidate_stories</th>\n",
              "      <th>pct_of_all_candidate_stories</th>\n",
              "      <th>query</th>\n",
              "    </tr>\n",
              "  </thead>\n",
              "  <tbody>\n",
              "    <tr>\n",
              "      <th>0</th>\n",
              "      <td>2018-12-30</td>\n",
              "      <td>Amy Klobuchar</td>\n",
              "      <td>45.0</td>\n",
              "      <td>806</td>\n",
              "      <td>0.055831</td>\n",
              "      <td>(\"Amy Klobuchar\")</td>\n",
              "    </tr>\n",
              "    <tr>\n",
              "      <th>1</th>\n",
              "      <td>2019-01-06</td>\n",
              "      <td>Amy Klobuchar</td>\n",
              "      <td>55.0</td>\n",
              "      <td>915</td>\n",
              "      <td>0.060109</td>\n",
              "      <td>(\"Amy Klobuchar\")</td>\n",
              "    </tr>\n",
              "    <tr>\n",
              "      <th>2</th>\n",
              "      <td>2019-01-13</td>\n",
              "      <td>Amy Klobuchar</td>\n",
              "      <td>128.0</td>\n",
              "      <td>1052</td>\n",
              "      <td>0.121673</td>\n",
              "      <td>(\"Amy Klobuchar\")</td>\n",
              "    </tr>\n",
              "  </tbody>\n",
              "</table>\n",
              "</div>"
            ],
            "text/plain": [
              "         date           name  matched_stories  all_candidate_stories  \\\n",
              "0  2018-12-30  Amy Klobuchar             45.0                    806   \n",
              "1  2019-01-06  Amy Klobuchar             55.0                    915   \n",
              "2  2019-01-13  Amy Klobuchar            128.0                   1052   \n",
              "\n",
              "   pct_of_all_candidate_stories              query  \n",
              "0                      0.055831  (\"Amy Klobuchar\")  \n",
              "1                      0.060109  (\"Amy Klobuchar\")  \n",
              "2                      0.121673  (\"Amy Klobuchar\")  "
            ]
          },
          "metadata": {
            "tags": []
          },
          "execution_count": 4
        }
      ]
    },
    {
      "cell_type": "code",
      "metadata": {
        "id": "wTvEiY7qZhTx",
        "colab_type": "code",
        "outputId": "26f03bd8-c425-4182-c82d-287d56662bc4",
        "colab": {
          "base_uri": "https://localhost:8080/",
          "height": 367
        }
      },
      "source": [
        "cable_weekly.head(3)"
      ],
      "execution_count": 5,
      "outputs": [
        {
          "output_type": "execute_result",
          "data": {
            "text/html": [
              "<div>\n",
              "<style scoped>\n",
              "    .dataframe tbody tr th:only-of-type {\n",
              "        vertical-align: middle;\n",
              "    }\n",
              "\n",
              "    .dataframe tbody tr th {\n",
              "        vertical-align: top;\n",
              "    }\n",
              "\n",
              "    .dataframe thead th {\n",
              "        text-align: right;\n",
              "    }\n",
              "</style>\n",
              "<table border=\"1\" class=\"dataframe\">\n",
              "  <thead>\n",
              "    <tr style=\"text-align: right;\">\n",
              "      <th></th>\n",
              "      <th>date</th>\n",
              "      <th>name</th>\n",
              "      <th>matched_clips</th>\n",
              "      <th>all_candidate_clips</th>\n",
              "      <th>total_clips</th>\n",
              "      <th>pct_of_all_candidate_clips</th>\n",
              "      <th>query</th>\n",
              "    </tr>\n",
              "  </thead>\n",
              "  <tbody>\n",
              "    <tr>\n",
              "      <th>0</th>\n",
              "      <td>2018-12-30</td>\n",
              "      <td>Amy Klobuchar</td>\n",
              "      <td>12</td>\n",
              "      <td>1279</td>\n",
              "      <td>76029</td>\n",
              "      <td>0.009382</td>\n",
              "      <td>(\"Amy Klobuchar\") (station:MSNBC OR station:CN...</td>\n",
              "    </tr>\n",
              "    <tr>\n",
              "      <th>1</th>\n",
              "      <td>2019-01-06</td>\n",
              "      <td>Amy Klobuchar</td>\n",
              "      <td>7</td>\n",
              "      <td>1031</td>\n",
              "      <td>82964</td>\n",
              "      <td>0.006790</td>\n",
              "      <td>(\"Amy Klobuchar\") (station:MSNBC OR station:CN...</td>\n",
              "    </tr>\n",
              "    <tr>\n",
              "      <th>2</th>\n",
              "      <td>2019-01-13</td>\n",
              "      <td>Amy Klobuchar</td>\n",
              "      <td>45</td>\n",
              "      <td>615</td>\n",
              "      <td>82521</td>\n",
              "      <td>0.073171</td>\n",
              "      <td>(\"Amy Klobuchar\") (station:MSNBC OR station:CN...</td>\n",
              "    </tr>\n",
              "  </tbody>\n",
              "</table>\n",
              "</div>"
            ],
            "text/plain": [
              "         date           name  matched_clips  all_candidate_clips  total_clips  \\\n",
              "0  2018-12-30  Amy Klobuchar             12                 1279        76029   \n",
              "1  2019-01-06  Amy Klobuchar              7                 1031        82964   \n",
              "2  2019-01-13  Amy Klobuchar             45                  615        82521   \n",
              "\n",
              "   pct_of_all_candidate_clips  \\\n",
              "0                    0.009382   \n",
              "1                    0.006790   \n",
              "2                    0.073171   \n",
              "\n",
              "                                               query  \n",
              "0  (\"Amy Klobuchar\") (station:MSNBC OR station:CN...  \n",
              "1  (\"Amy Klobuchar\") (station:MSNBC OR station:CN...  \n",
              "2  (\"Amy Klobuchar\") (station:MSNBC OR station:CN...  "
            ]
          },
          "metadata": {
            "tags": []
          },
          "execution_count": 5
        }
      ]
    },
    {
      "cell_type": "markdown",
      "metadata": {
        "id": "k28z4O3ZZlGl",
        "colab_type": "text"
      },
      "source": [
        "This isn't a great format for how I want to do this so I'm going to convert these to wide format."
      ]
    },
    {
      "cell_type": "code",
      "metadata": {
        "id": "ZVEGartgW8y8",
        "colab_type": "code",
        "outputId": "2139ca9b-2239-40d5-a34f-e861bf51993d",
        "colab": {
          "base_uri": "https://localhost:8080/",
          "height": 278
        }
      },
      "source": [
        "names = cable_weekly['name'].unique()\n",
        "\n",
        "wide_c = cable_weekly.pivot_table(index='date', columns='name',\n",
        "                                values='matched_clips')\n",
        "wide_c.head(3)"
      ],
      "execution_count": 6,
      "outputs": [
        {
          "output_type": "execute_result",
          "data": {
            "text/html": [
              "<div>\n",
              "<style scoped>\n",
              "    .dataframe tbody tr th:only-of-type {\n",
              "        vertical-align: middle;\n",
              "    }\n",
              "\n",
              "    .dataframe tbody tr th {\n",
              "        vertical-align: top;\n",
              "    }\n",
              "\n",
              "    .dataframe thead th {\n",
              "        text-align: right;\n",
              "    }\n",
              "</style>\n",
              "<table border=\"1\" class=\"dataframe\">\n",
              "  <thead>\n",
              "    <tr style=\"text-align: right;\">\n",
              "      <th>name</th>\n",
              "      <th>Amy Klobuchar</th>\n",
              "      <th>Andrew Yang</th>\n",
              "      <th>Bernie Sanders</th>\n",
              "      <th>Beto O'Rourke</th>\n",
              "      <th>Bill de Blasio</th>\n",
              "      <th>Cory Booker</th>\n",
              "      <th>Elizabeth Warren</th>\n",
              "      <th>Eric Swalwell</th>\n",
              "      <th>Jay Inslee</th>\n",
              "      <th>Joe Biden</th>\n",
              "      <th>Joe Sestak</th>\n",
              "      <th>John Delaney</th>\n",
              "      <th>John Hickenlooper</th>\n",
              "      <th>Julian Castro</th>\n",
              "      <th>Kamala Harris</th>\n",
              "      <th>Kirsten Gillibrand</th>\n",
              "      <th>Marianne Williamson</th>\n",
              "      <th>Michael Bennet</th>\n",
              "      <th>Mike Gravel</th>\n",
              "      <th>Pete Buttigieg</th>\n",
              "      <th>Seth Moulton</th>\n",
              "      <th>Steve Bullock</th>\n",
              "      <th>Tim Ryan</th>\n",
              "      <th>Tom Steyer</th>\n",
              "      <th>Tulsi Gabbard</th>\n",
              "    </tr>\n",
              "    <tr>\n",
              "      <th>date</th>\n",
              "      <th></th>\n",
              "      <th></th>\n",
              "      <th></th>\n",
              "      <th></th>\n",
              "      <th></th>\n",
              "      <th></th>\n",
              "      <th></th>\n",
              "      <th></th>\n",
              "      <th></th>\n",
              "      <th></th>\n",
              "      <th></th>\n",
              "      <th></th>\n",
              "      <th></th>\n",
              "      <th></th>\n",
              "      <th></th>\n",
              "      <th></th>\n",
              "      <th></th>\n",
              "      <th></th>\n",
              "      <th></th>\n",
              "      <th></th>\n",
              "      <th></th>\n",
              "      <th></th>\n",
              "      <th></th>\n",
              "      <th></th>\n",
              "      <th></th>\n",
              "    </tr>\n",
              "  </thead>\n",
              "  <tbody>\n",
              "    <tr>\n",
              "      <th>2018-12-30</th>\n",
              "      <td>12.0</td>\n",
              "      <td>0.0</td>\n",
              "      <td>246.0</td>\n",
              "      <td>101.0</td>\n",
              "      <td>2.0</td>\n",
              "      <td>39.0</td>\n",
              "      <td>721.0</td>\n",
              "      <td>31.0</td>\n",
              "      <td>4.0</td>\n",
              "      <td>177.0</td>\n",
              "      <td>0.0</td>\n",
              "      <td>5.0</td>\n",
              "      <td>1.0</td>\n",
              "      <td>5.0</td>\n",
              "      <td>74.0</td>\n",
              "      <td>8.0</td>\n",
              "      <td>0.0</td>\n",
              "      <td>0.0</td>\n",
              "      <td>0.0</td>\n",
              "      <td>0.0</td>\n",
              "      <td>0.0</td>\n",
              "      <td>0.0</td>\n",
              "      <td>14.0</td>\n",
              "      <td>12.0</td>\n",
              "      <td>0.0</td>\n",
              "    </tr>\n",
              "    <tr>\n",
              "      <th>2019-01-06</th>\n",
              "      <td>7.0</td>\n",
              "      <td>0.0</td>\n",
              "      <td>134.0</td>\n",
              "      <td>127.0</td>\n",
              "      <td>23.0</td>\n",
              "      <td>15.0</td>\n",
              "      <td>424.0</td>\n",
              "      <td>22.0</td>\n",
              "      <td>7.0</td>\n",
              "      <td>183.0</td>\n",
              "      <td>0.0</td>\n",
              "      <td>2.0</td>\n",
              "      <td>1.0</td>\n",
              "      <td>68.0</td>\n",
              "      <td>99.0</td>\n",
              "      <td>2.0</td>\n",
              "      <td>0.0</td>\n",
              "      <td>0.0</td>\n",
              "      <td>0.0</td>\n",
              "      <td>0.0</td>\n",
              "      <td>0.0</td>\n",
              "      <td>0.0</td>\n",
              "      <td>3.0</td>\n",
              "      <td>11.0</td>\n",
              "      <td>16.0</td>\n",
              "    </tr>\n",
              "    <tr>\n",
              "      <th>2019-01-13</th>\n",
              "      <td>45.0</td>\n",
              "      <td>0.0</td>\n",
              "      <td>70.0</td>\n",
              "      <td>78.0</td>\n",
              "      <td>25.0</td>\n",
              "      <td>31.0</td>\n",
              "      <td>105.0</td>\n",
              "      <td>19.0</td>\n",
              "      <td>0.0</td>\n",
              "      <td>104.0</td>\n",
              "      <td>0.0</td>\n",
              "      <td>5.0</td>\n",
              "      <td>0.0</td>\n",
              "      <td>48.0</td>\n",
              "      <td>64.0</td>\n",
              "      <td>94.0</td>\n",
              "      <td>0.0</td>\n",
              "      <td>0.0</td>\n",
              "      <td>0.0</td>\n",
              "      <td>0.0</td>\n",
              "      <td>0.0</td>\n",
              "      <td>0.0</td>\n",
              "      <td>1.0</td>\n",
              "      <td>2.0</td>\n",
              "      <td>28.0</td>\n",
              "    </tr>\n",
              "  </tbody>\n",
              "</table>\n",
              "</div>"
            ],
            "text/plain": [
              "name        Amy Klobuchar  Andrew Yang  Bernie Sanders  Beto O'Rourke  \\\n",
              "date                                                                    \n",
              "2018-12-30           12.0          0.0           246.0          101.0   \n",
              "2019-01-06            7.0          0.0           134.0          127.0   \n",
              "2019-01-13           45.0          0.0            70.0           78.0   \n",
              "\n",
              "name        Bill de Blasio  Cory Booker  Elizabeth Warren  Eric Swalwell  \\\n",
              "date                                                                       \n",
              "2018-12-30             2.0         39.0             721.0           31.0   \n",
              "2019-01-06            23.0         15.0             424.0           22.0   \n",
              "2019-01-13            25.0         31.0             105.0           19.0   \n",
              "\n",
              "name        Jay Inslee  Joe Biden  Joe Sestak  John Delaney  \\\n",
              "date                                                          \n",
              "2018-12-30         4.0      177.0         0.0           5.0   \n",
              "2019-01-06         7.0      183.0         0.0           2.0   \n",
              "2019-01-13         0.0      104.0         0.0           5.0   \n",
              "\n",
              "name        John Hickenlooper  Julian Castro  Kamala Harris  \\\n",
              "date                                                          \n",
              "2018-12-30                1.0            5.0           74.0   \n",
              "2019-01-06                1.0           68.0           99.0   \n",
              "2019-01-13                0.0           48.0           64.0   \n",
              "\n",
              "name        Kirsten Gillibrand  Marianne Williamson  Michael Bennet  \\\n",
              "date                                                                  \n",
              "2018-12-30                 8.0                  0.0             0.0   \n",
              "2019-01-06                 2.0                  0.0             0.0   \n",
              "2019-01-13                94.0                  0.0             0.0   \n",
              "\n",
              "name        Mike Gravel  Pete Buttigieg  Seth Moulton  Steve Bullock  \\\n",
              "date                                                                   \n",
              "2018-12-30          0.0             0.0           0.0            0.0   \n",
              "2019-01-06          0.0             0.0           0.0            0.0   \n",
              "2019-01-13          0.0             0.0           0.0            0.0   \n",
              "\n",
              "name        Tim Ryan  Tom Steyer  Tulsi Gabbard  \n",
              "date                                             \n",
              "2018-12-30      14.0        12.0            0.0  \n",
              "2019-01-06       3.0        11.0           16.0  \n",
              "2019-01-13       1.0         2.0           28.0  "
            ]
          },
          "metadata": {
            "tags": []
          },
          "execution_count": 6
        }
      ]
    },
    {
      "cell_type": "markdown",
      "metadata": {
        "id": "E7R4erZqZ1LD",
        "colab_type": "text"
      },
      "source": [
        "Now I'm going to fill up some lists with the data I'll need - more specifically, I'm going to need all of Biden's data in one list and whomever the leading candidate for the week is - ignoring Biden - so that I can graph that data."
      ]
    },
    {
      "cell_type": "code",
      "metadata": {
        "id": "WYidnPNnWzbx",
        "colab_type": "code",
        "colab": {}
      },
      "source": [
        "ru = [] # Name of Runner Up\n",
        "ru_m = [] # Number of mentions said runner up has for that week\n",
        "biden = [] # Name of Runner Up\n",
        "\n",
        "for entry in range( len(wide_c) ): # All entries\n",
        "  runner_up_index = -1\n",
        "  runner_up_mentions = -1\n",
        "\n",
        "  for cand_name_index in range(len(wide_c.iloc[entry])): # Mentions per candidate\n",
        "    if cand_name_index == 9: # If candidate is Biden\n",
        "      biden.append(wide_c.iloc[entry, cand_name_index]) # Add it to the Biden list\n",
        "      continue # Thank you, nEXt! (Skip and keep looping)\n",
        "    else:\n",
        "      num_mentions = wide_c.iloc[entry, cand_name_index] # Store mentions in local var\n",
        "      if num_mentions > runner_up_mentions: # If this is most mentions thus far\n",
        "        runner_up_mentions = num_mentions # New high score!\n",
        "        runner_up_index = cand_name_index # New high score name! (:\n",
        "      \n",
        "  # End of the candidate loop, time to check my counters\n",
        "\n",
        "  ru.append(names[runner_up_index])\n",
        "  ru_m.append(runner_up_mentions)"
      ],
      "execution_count": 0,
      "outputs": []
    },
    {
      "cell_type": "markdown",
      "metadata": {
        "id": "6SfA3QEIaXiV",
        "colab_type": "text"
      },
      "source": [
        "Now I need to repeat this for the online data"
      ]
    },
    {
      "cell_type": "code",
      "metadata": {
        "id": "bdWYAjmJWwHj",
        "colab_type": "code",
        "outputId": "6b42b8ac-9d73-41ad-d4b4-e82638e3bd7a",
        "colab": {
          "base_uri": "https://localhost:8080/",
          "height": 278
        }
      },
      "source": [
        "wide_o = online_weekly.pivot_table(index='date', columns='name',\n",
        "                                values='matched_stories')\n",
        "wide_o.head(3)"
      ],
      "execution_count": 8,
      "outputs": [
        {
          "output_type": "execute_result",
          "data": {
            "text/html": [
              "<div>\n",
              "<style scoped>\n",
              "    .dataframe tbody tr th:only-of-type {\n",
              "        vertical-align: middle;\n",
              "    }\n",
              "\n",
              "    .dataframe tbody tr th {\n",
              "        vertical-align: top;\n",
              "    }\n",
              "\n",
              "    .dataframe thead th {\n",
              "        text-align: right;\n",
              "    }\n",
              "</style>\n",
              "<table border=\"1\" class=\"dataframe\">\n",
              "  <thead>\n",
              "    <tr style=\"text-align: right;\">\n",
              "      <th>name</th>\n",
              "      <th>Amy Klobuchar</th>\n",
              "      <th>Andrew Yang</th>\n",
              "      <th>Bernie Sanders</th>\n",
              "      <th>Beto O'Rourke</th>\n",
              "      <th>Bill de Blasio</th>\n",
              "      <th>Cory Booker</th>\n",
              "      <th>Elizabeth Warren</th>\n",
              "      <th>Eric Swalwell</th>\n",
              "      <th>Jay Inslee</th>\n",
              "      <th>Joe Biden</th>\n",
              "      <th>Joe Sestak</th>\n",
              "      <th>John Delaney</th>\n",
              "      <th>John Hickenlooper</th>\n",
              "      <th>Julian Castro</th>\n",
              "      <th>Kamala Harris</th>\n",
              "      <th>Kirsten Gillibrand</th>\n",
              "      <th>Marianne Williamson</th>\n",
              "      <th>Michael Bennet</th>\n",
              "      <th>Mike Gravel</th>\n",
              "      <th>Pete Buttigieg</th>\n",
              "      <th>Seth Moulton</th>\n",
              "      <th>Steve Bullock</th>\n",
              "      <th>Tim Ryan</th>\n",
              "      <th>Tom Steyer</th>\n",
              "      <th>Tulsi Gabbard</th>\n",
              "    </tr>\n",
              "    <tr>\n",
              "      <th>date</th>\n",
              "      <th></th>\n",
              "      <th></th>\n",
              "      <th></th>\n",
              "      <th></th>\n",
              "      <th></th>\n",
              "      <th></th>\n",
              "      <th></th>\n",
              "      <th></th>\n",
              "      <th></th>\n",
              "      <th></th>\n",
              "      <th></th>\n",
              "      <th></th>\n",
              "      <th></th>\n",
              "      <th></th>\n",
              "      <th></th>\n",
              "      <th></th>\n",
              "      <th></th>\n",
              "      <th></th>\n",
              "      <th></th>\n",
              "      <th></th>\n",
              "      <th></th>\n",
              "      <th></th>\n",
              "      <th></th>\n",
              "      <th></th>\n",
              "      <th></th>\n",
              "    </tr>\n",
              "  </thead>\n",
              "  <tbody>\n",
              "    <tr>\n",
              "      <th>2018-12-30</th>\n",
              "      <td>45.0</td>\n",
              "      <td>2.0</td>\n",
              "      <td>277.0</td>\n",
              "      <td>43.0</td>\n",
              "      <td>46.0</td>\n",
              "      <td>96.0</td>\n",
              "      <td>443.0</td>\n",
              "      <td>27.0</td>\n",
              "      <td>24.0</td>\n",
              "      <td>158.0</td>\n",
              "      <td>0.0</td>\n",
              "      <td>38.0</td>\n",
              "      <td>10.0</td>\n",
              "      <td>47.0</td>\n",
              "      <td>138.0</td>\n",
              "      <td>63.0</td>\n",
              "      <td>1.0</td>\n",
              "      <td>2.0</td>\n",
              "      <td>0.0</td>\n",
              "      <td>8.0</td>\n",
              "      <td>11.0</td>\n",
              "      <td>6.0</td>\n",
              "      <td>27.0</td>\n",
              "      <td>41.0</td>\n",
              "      <td>17.0</td>\n",
              "    </tr>\n",
              "    <tr>\n",
              "      <th>2019-01-06</th>\n",
              "      <td>55.0</td>\n",
              "      <td>6.0</td>\n",
              "      <td>329.0</td>\n",
              "      <td>61.0</td>\n",
              "      <td>80.0</td>\n",
              "      <td>132.0</td>\n",
              "      <td>321.0</td>\n",
              "      <td>12.0</td>\n",
              "      <td>37.0</td>\n",
              "      <td>162.0</td>\n",
              "      <td>0.0</td>\n",
              "      <td>51.0</td>\n",
              "      <td>10.0</td>\n",
              "      <td>118.0</td>\n",
              "      <td>236.0</td>\n",
              "      <td>68.0</td>\n",
              "      <td>1.0</td>\n",
              "      <td>7.0</td>\n",
              "      <td>0.0</td>\n",
              "      <td>3.0</td>\n",
              "      <td>3.0</td>\n",
              "      <td>10.0</td>\n",
              "      <td>10.0</td>\n",
              "      <td>65.0</td>\n",
              "      <td>91.0</td>\n",
              "    </tr>\n",
              "    <tr>\n",
              "      <th>2019-01-13</th>\n",
              "      <td>128.0</td>\n",
              "      <td>9.0</td>\n",
              "      <td>250.0</td>\n",
              "      <td>55.0</td>\n",
              "      <td>66.0</td>\n",
              "      <td>131.0</td>\n",
              "      <td>325.0</td>\n",
              "      <td>32.0</td>\n",
              "      <td>26.0</td>\n",
              "      <td>117.0</td>\n",
              "      <td>1.0</td>\n",
              "      <td>41.0</td>\n",
              "      <td>9.0</td>\n",
              "      <td>159.0</td>\n",
              "      <td>220.0</td>\n",
              "      <td>258.0</td>\n",
              "      <td>2.0</td>\n",
              "      <td>5.0</td>\n",
              "      <td>0.0</td>\n",
              "      <td>19.0</td>\n",
              "      <td>12.0</td>\n",
              "      <td>10.0</td>\n",
              "      <td>40.0</td>\n",
              "      <td>23.0</td>\n",
              "      <td>171.0</td>\n",
              "    </tr>\n",
              "  </tbody>\n",
              "</table>\n",
              "</div>"
            ],
            "text/plain": [
              "name        Amy Klobuchar  Andrew Yang  Bernie Sanders  Beto O'Rourke  \\\n",
              "date                                                                    \n",
              "2018-12-30           45.0          2.0           277.0           43.0   \n",
              "2019-01-06           55.0          6.0           329.0           61.0   \n",
              "2019-01-13          128.0          9.0           250.0           55.0   \n",
              "\n",
              "name        Bill de Blasio  Cory Booker  Elizabeth Warren  Eric Swalwell  \\\n",
              "date                                                                       \n",
              "2018-12-30            46.0         96.0             443.0           27.0   \n",
              "2019-01-06            80.0        132.0             321.0           12.0   \n",
              "2019-01-13            66.0        131.0             325.0           32.0   \n",
              "\n",
              "name        Jay Inslee  Joe Biden  Joe Sestak  John Delaney  \\\n",
              "date                                                          \n",
              "2018-12-30        24.0      158.0         0.0          38.0   \n",
              "2019-01-06        37.0      162.0         0.0          51.0   \n",
              "2019-01-13        26.0      117.0         1.0          41.0   \n",
              "\n",
              "name        John Hickenlooper  Julian Castro  Kamala Harris  \\\n",
              "date                                                          \n",
              "2018-12-30               10.0           47.0          138.0   \n",
              "2019-01-06               10.0          118.0          236.0   \n",
              "2019-01-13                9.0          159.0          220.0   \n",
              "\n",
              "name        Kirsten Gillibrand  Marianne Williamson  Michael Bennet  \\\n",
              "date                                                                  \n",
              "2018-12-30                63.0                  1.0             2.0   \n",
              "2019-01-06                68.0                  1.0             7.0   \n",
              "2019-01-13               258.0                  2.0             5.0   \n",
              "\n",
              "name        Mike Gravel  Pete Buttigieg  Seth Moulton  Steve Bullock  \\\n",
              "date                                                                   \n",
              "2018-12-30          0.0             8.0          11.0            6.0   \n",
              "2019-01-06          0.0             3.0           3.0           10.0   \n",
              "2019-01-13          0.0            19.0          12.0           10.0   \n",
              "\n",
              "name        Tim Ryan  Tom Steyer  Tulsi Gabbard  \n",
              "date                                             \n",
              "2018-12-30      27.0        41.0           17.0  \n",
              "2019-01-06      10.0        65.0           91.0  \n",
              "2019-01-13      40.0        23.0          171.0  "
            ]
          },
          "metadata": {
            "tags": []
          },
          "execution_count": 8
        }
      ]
    },
    {
      "cell_type": "code",
      "metadata": {
        "id": "IwIRaGt0Wo15",
        "colab_type": "code",
        "colab": {}
      },
      "source": [
        "o_ru = [] # Name of Runner Up\n",
        "o_ru_m = [] # Number of mentions said runner up has for that week\n",
        "o_biden = [] # Number of mentions biden had that week\n",
        "\n",
        "for entry in range( len(wide_o) ): # All entries\n",
        "  runner_up_index = -1\n",
        "  runner_up_mentions = -1\n",
        "\n",
        "  for cand_name_index in range(len(wide_o.iloc[entry])): # Mentions per candidate\n",
        "    if cand_name_index == 9: # If candidate is Biden\n",
        "      o_biden.append(wide_o.iloc[entry, cand_name_index]) # Add it to the Biden list\n",
        "      continue # Thank you, nEXt! (Skip and keep looping)\n",
        "    else:\n",
        "      num_mentions = wide_o.iloc[entry, cand_name_index] # Store mentions in local var\n",
        "      if num_mentions > runner_up_mentions: # If this is most mentions thus far\n",
        "        runner_up_mentions = num_mentions # New high score!\n",
        "        runner_up_index = cand_name_index # New high score name! (:\n",
        "      \n",
        "  # End of the candidate loop, time to check my counters\n",
        "\n",
        "  o_ru.append(names[runner_up_index])\n",
        "  o_ru_m.append(runner_up_mentions)"
      ],
      "execution_count": 0,
      "outputs": []
    },
    {
      "cell_type": "markdown",
      "metadata": {
        "id": "mXClcaYlbAay",
        "colab_type": "text"
      },
      "source": [
        "Now I need to get an easily sortable list of the dates so that I can sort these. It's actually not necessary - it's just what I'm choosing to do.\n",
        "\n",
        "I'm also going to create a new list which contains the calculations for how many MORE entries Biden had than the weekly runner up in a percentage format - ie 5x more would be 25 Biden, 5 Runner up.\n",
        "\n",
        "And finally I'm going to remove all of the irrelevant entries from the graph - the stuff that happens before the graph begins. I should've grabbed those from the beginning but I found it easier to iterate by looking at the list first and, given that this is just a one-shot assignment, I don't want to spend too much time making my loops perfect when I can just drop the irrelevant data."
      ]
    },
    {
      "cell_type": "code",
      "metadata": {
        "id": "bh4V_y83U43v",
        "colab_type": "code",
        "colab": {}
      },
      "source": [
        "updated_dates = pd.to_datetime(cable_weekly['date'].unique(), infer_datetime_format=True)\n",
        "\n",
        "online_graph = []\n",
        "cable_graph = []\n",
        "\n",
        "for entry in range( len(o_biden) ): #Runs 43 times\n",
        "  online_graph.append(o_biden[entry] / o_ru_m[entry])\n",
        "  cable_graph.append(biden[entry] / ru_m[entry])\n",
        "\n",
        "cable_graph = cable_graph[16:]\n",
        "online_graph = online_graph[16:]\n",
        "updated_dates = updated_dates[16:]"
      ],
      "execution_count": 0,
      "outputs": []
    },
    {
      "cell_type": "markdown",
      "metadata": {
        "id": "9MtWsy7bcRj9",
        "colab_type": "text"
      },
      "source": [
        "And now the massive final frontier - graphing it all. This is 99% just iteration and avoiding the text from looking too smudged due to font scaling and non-perfect pixel location. I can make it look better by adding in the arrow and drawing white rectangles behind the text to cover up the graphs - and depending on scope, adding the source below the image."
      ]
    },
    {
      "cell_type": "code",
      "metadata": {
        "id": "MRG6XUO6U5e0",
        "colab_type": "code",
        "outputId": "80f701ea-502c-4478-ab5d-868f79f8ba4c",
        "colab": {
          "base_uri": "https://localhost:8080/",
          "height": 316
        }
      },
      "source": [
        "plt.style.use('fivethirtyeight')\n",
        "fig, ax = plt.subplots()\n",
        "#fig.set_figheight(12)\n",
        "#fig.set_figwidth(10.31)\n",
        "\n",
        "\n",
        "ax.plot(updated_dates, cable_graph, color='#41BFCA', linewidth = 2) # First bc on top overlap\n",
        "ax.plot(updated_dates, online_graph, color='#E27542', linewidth = 2)\n",
        "\n",
        "ax.set_snap(True)\n",
        "ax.set_xticklabels([\"MAY '19\", \"JUNE\", \"JULY\", \"AUG.\", \"SEPT.\", \"OCT.\"], fontweight = 0, fontsize = 8, color = '#9E9E9E')\n",
        "ax.set_yticklabels([\"uh\", \"EVEN\", \"2\", \"3\", \"4\", \"5x\"], fontweight = 0, fontsize = 8, color = '#9E9E9E') # \"uh\" = bug\n",
        "\n",
        "ax.set_title(\"Biden's Ukraine-related media bump is fading\",\n",
        "             fontsize = 13, fontweight = 600, x = .367, y = 1.1)\n",
        "\n",
        "ax.text(s = \"Biden's share of media mentions on each medium relative to the next\\nmost-mentioned candidate each week\",\n",
        "        y = 1, snap=True, x = -.077, fontsize = 12, ma='left', fontweight = 0, transform=ax.transAxes)\n",
        "\n",
        "\n",
        "ax.text(s ='Cable news',\n",
        "        x = 0.018 , y = .73, fontsize = 11, fontweight = 600, transform=ax.transAxes)\n",
        "\n",
        "ax.text(s ='Online news',\n",
        "        x = 0.0 , y = .18, fontsize = 11, fontweight = 600, transform=ax.transAxes)\n",
        "\n",
        "\n",
        "ax.text(s = 'After the Ukraine news broke,\\n Biden was mentioned ' + r\"$\\bf{\" + 'five ' +\"}$\" +' ' + r\"$\\bf{\" + ' times' +\"}$\" + \"\\nmore than the next most-mentioned\\n candidate on cable news\",\n",
        "        x = .3, y = .8, fontsize = 9, fontweight = 350, transform=ax.transAxes,\n",
        "        ma='right')\n",
        "\n",
        "# It's just a straight arrow sooo.. not helpful\n",
        "#ax.arrow(.5, .5, 15, 15, transform=ax.transAxes)\n",
        "\n",
        "fig.show()"
      ],
      "execution_count": 14,
      "outputs": [
        {
          "output_type": "display_data",
          "data": {
            "image/png": "[encoded data removed]",
            "text/plain": [
              "<Figure size 432x288 with 1 Axes>"
            ]
          },
          "metadata": {
            "tags": []
          }
        }
      ]
    },
    {
      "cell_type": "code",
      "metadata": {
        "id": "ggsajYqqdrwp",
        "colab_type": "code",
        "outputId": "f211380d-47d8-4f91-f1ff-36b5d19b4410",
        "colab": {
          "base_uri": "https://localhost:8080/",
          "height": 364
        }
      },
      "source": [
        "example"
      ],
      "execution_count": 12,
      "outputs": [
        {
          "output_type": "execute_result",
          "data": {
            "text/html": [
              "<img src=\"https://fivethirtyeight.com/wp-content/uploads/2019/10/Mehta-Media1028-1028-1.png?w=575\" width=\"400\"/>"
            ],
            "text/plain": [
              "<IPython.core.display.Image object>"
            ]
          },
          "metadata": {
            "tags": []
          },
          "execution_count": 12
        }
      ]
    },
    {
      "cell_type": "markdown",
      "metadata": {
        "id": "0wSrBzmJyWaV",
        "colab_type": "text"
      },
      "source": [
        "# STRETCH OPTIONS\n",
        "\n",
        "### 1) Reproduce one of the following using the matplotlib or seaborn libraries:\n",
        "\n",
        "- [thanksgiving-2015](https://fivethirtyeight.com/features/heres-what-your-part-of-america-eats-on-thanksgiving/) \n",
        "- [candy-power-ranking](https://fivethirtyeight.com/features/the-ultimate-halloween-candy-power-ranking/) \n",
        "- or another example of your choice!\n",
        "\n",
        "### 2) Make more charts!\n",
        "\n",
        "Choose a chart you want to make, from [Visual Vocabulary - Vega Edition](http://ft.com/vocabulary).\n",
        "\n",
        "Find the chart in an example gallery of a Python data visualization library:\n",
        "- [Seaborn](http://seaborn.pydata.org/examples/index.html)\n",
        "- [Altair](https://altair-viz.github.io/gallery/index.html)\n",
        "- [Matplotlib](https://matplotlib.org/gallery.html)\n",
        "- [Pandas](https://pandas.pydata.org/pandas-docs/stable/visualization.html)\n",
        "\n",
        "Reproduce the chart. [Optionally, try the \"Ben Franklin Method.\"](https://docs.google.com/document/d/1ubOw9B3Hfip27hF2ZFnW3a3z9xAgrUDRReOEo-FHCVs/edit) If you want, experiment and make changes.\n",
        "\n",
        "Take notes. Consider sharing your work with your cohort!"
      ]
    },
    {
      "cell_type": "code",
      "metadata": {
        "id": "dRJkKftiy5BJ",
        "colab_type": "code",
        "colab": {}
      },
      "source": [
        "# More Work Here"
      ],
      "execution_count": 0,
      "outputs": []
    }
  ]
}