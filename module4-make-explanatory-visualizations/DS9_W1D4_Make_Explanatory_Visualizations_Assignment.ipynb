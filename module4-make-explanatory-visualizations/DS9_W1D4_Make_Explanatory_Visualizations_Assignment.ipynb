{
  "nbformat": 4,
  "nbformat_minor": 0,
  "metadata": {
    "colab": {
      "name": "DS9_W1D4_Make_Explanatory_Visualizations_Assignment.ipynb",
      "provenance": [],
      "collapsed_sections": [],
      "toc_visible": true,
      "include_colab_link": true
    },
    "language_info": {
      "codemirror_mode": {
        "name": "ipython",
        "version": 3
      },
      "file_extension": ".py",
      "mimetype": "text/x-python",
      "name": "python",
      "nbconvert_exporter": "python",
      "pygments_lexer": "ipython3",
      "version": "3.7.1"
    },
    "kernelspec": {
      "display_name": "Python 3",
      "language": "python",
      "name": "python3"
    }
  },
  "cells": [
    {
      "cell_type": "markdown",
      "metadata": {
        "id": "view-in-github",
        "colab_type": "text"
      },
      "source": [
        "<a href=\"https://colab.research.google.com/github/IshGish/DS-Unit-1-Sprint-1-Data-Wrangling-and-Storytelling/blob/master/module4-make-explanatory-visualizations/DS9_W1D4_Make_Explanatory_Visualizations_Assignment.ipynb\" target=\"_parent\"><img src=\"https://colab.research.google.com/assets/colab-badge.svg\" alt=\"Open In Colab\"/></a>"
      ]
    },
    {
      "cell_type": "markdown",
      "metadata": {
        "colab_type": "text",
        "id": "NMEswXWh9mqw"
      },
      "source": [
        "Lambda School Data Science\n",
        "\n",
        "*Unit 1, Sprint 1, Module 4*\n",
        "\n",
        "---\n",
        "\n",
        "# ASSIGNMENT"
      ]
    },
    {
      "cell_type": "markdown",
      "metadata": {
        "id": "nwbu0rPi6pT7",
        "colab_type": "text"
      },
      "source": [
        "### 1) Replicate the lesson code. I recommend that you [do not copy-paste](https://docs.google.com/document/d/1ubOw9B3Hfip27hF2ZFnW3a3z9xAgrUDRReOEo-FHCVs/edit).\n",
        "\n",
        "Get caught up to where we got our example in class and then try and take things further. How close to \"pixel perfect\" can you make the lecture graph?\n",
        "\n",
        "Once you have something that you're proud of, share your graph in the cohort channel and move on to the second exercise."
      ]
    },
    {
      "cell_type": "code",
      "metadata": {
        "id": "niGhMbBwNeiR",
        "colab_type": "code",
        "outputId": "75392ec1-7d24-47ab-e6e9-e30a804ff8ba",
        "colab": {
          "base_uri": "https://localhost:8080/",
          "height": 344
        }
      },
      "source": [
        "import pandas as pd\n",
        "import numpy as np\n",
        "import matplotlib.pyplot as plt\n",
        "from matplotlib.ticker import AutoMinorLocator, MultipleLocator, FuncFormatter\n",
        "\n",
        "\n",
        "test = pd.Series([38, 3, 2, 1, 2, 4, 6, 5, 5, 33], index=range(1,11))\n",
        "fig, ax = plt.subplots()\n",
        "\n",
        "fig.patch.set(facecolor='white')\n",
        "fig.set(facecolor='white')\n",
        "ax.patch.set(facecolor='white')\n",
        "\n",
        "test.plot.bar(width=0.9, color=\"#ED713A\")\n",
        "\n",
        "ax.text(s=\"'An Inconvenient Sequel: Truth To Power' is divisive\"\n",
        "        ,fontsize=13\n",
        "        ,x=-1.7\n",
        "        ,y=46.7\n",
        "        ,fontweight='bold'\n",
        "        )\n",
        "\n",
        "ax.text(s=\"IMDb ratings for the film as of Aug. 29\"\n",
        "        ,fontsize=10\n",
        "        ,x=-1.7\n",
        "        ,y=44.1\n",
        "        )\n",
        "\n",
        "ax.set_xlabel('Rating'\n",
        "              ,fontsize=12\n",
        "              ,fontweight='bold'\n",
        "             )\n",
        "ax.set_ylabel('Percent of total votes'\n",
        "              ,fontsize=12\n",
        "              ,fontweight='bold'\n",
        "              )\n",
        "\n",
        "ax.set_xticklabels(range(1, 11), fontsize=9.5, rotation=0)\n",
        "ax.set_yticklabels(range(0, 50, 10), fontsize=9.5)\n",
        "ax.set_yticks(range(0, 50, 10))\n",
        "\n",
        "colors = ['grey'\n",
        "         ,'grey'\n",
        "         ,'grey'\n",
        "         ,'grey'\n",
        "         ,'grey'\n",
        "         ,'grey'\n",
        "         ,'grey'\n",
        "         ,'grey'\n",
        "         ,'grey'\n",
        "         ,'grey'\n",
        "         ]\n",
        "\n",
        "for xtick, color in zip(ax.get_xticklabels(), colors):\n",
        "    xtick.set_color(color)\n",
        "\n",
        "for ytick, color in zip(ax.get_yticklabels(), colors):\n",
        "    ytick.set_color(color)\n",
        "\n",
        "plt.show()"
      ],
      "execution_count": 0,
      "outputs": [
        {
          "output_type": "display_data",
          "data": {
            "image/png": "[encoded data removed]",
            "text/plain": [
              "<Figure size 432x288 with 1 Axes>"
            ]
          },
          "metadata": {
            "tags": []
          }
        }
      ]
    },
    {
      "cell_type": "code",
      "metadata": {
        "id": "6o0mSN6_xWDf",
        "colab_type": "code",
        "outputId": "0bdd8406-0d74-4b57-b97f-fa70604e8dc4",
        "colab": {
          "base_uri": "https://localhost:8080/",
          "height": 355
        }
      },
      "source": [
        "from IPython.display import display, Image\n",
        "url = 'https://fivethirtyeight.com/wp-content/uploads/2017/09/mehtahickey-inconvenient-0830-1.png'\n",
        "example = Image(url=url, width=400)\n",
        "display(example)"
      ],
      "execution_count": 0,
      "outputs": [
        {
          "output_type": "display_data",
          "data": {
            "text/html": [
              "<img src=\"https://fivethirtyeight.com/wp-content/uploads/2017/09/mehtahickey-inconvenient-0830-1.png\" width=\"400\"/>"
            ],
            "text/plain": [
              "<IPython.core.display.Image object>"
            ]
          },
          "metadata": {
            "tags": []
          }
        }
      ]
    },
    {
      "cell_type": "markdown",
      "metadata": {
        "id": "2_7hZwQs6hbj",
        "colab_type": "text"
      },
      "source": [
        "### 2) Reproduce another example from [FiveThityEight's shared data repository](https://data.fivethirtyeight.com/).\n",
        "\n",
        "**WARNING**: There are a lot of very custom graphs and tables at the above link. I **highly** recommend not trying to reproduce any that look like a table of values or something really different from the graph types that we are already familiar with. Search through the posts until you find a graph type that you are more or less familiar with: histogram, bar chart, stacked bar chart, line chart, [seaborn relplot](https://seaborn.pydata.org/generated/seaborn.relplot.html), etc. Recreating some of the graphics that 538 uses would be a lot easier in Adobe photoshop/illustrator than with matplotlib. \n",
        "\n",
        "- If you put in some time to find a graph that looks \"easy\" to replicate you'll probably find that it's not as easy as you thought. \n",
        "\n",
        "- If you start with a graph that looks hard to replicate you'll probably run up against a brick wall and be disappointed with your afternoon."
      ]
    },
    {
      "cell_type": "code",
      "metadata": {
        "id": "7FZiqOi3nP-L",
        "colab_type": "code",
        "colab": {}
      },
      "source": [
        "import pandas as pd\n",
        "import numpy as np\n",
        "import matplotlib.pyplot as plt\n",
        "from matplotlib.ticker import AutoMinorLocator, MultipleLocator, FuncFormatter\n",
        "\n",
        "df = pd.read_csv('IRAhandle_tweets_1.csv')"
      ],
      "execution_count": 0,
      "outputs": []
    },
    {
      "cell_type": "code",
      "metadata": {
        "id": "g8hj8eQ43aHv",
        "colab_type": "code",
        "outputId": "ae72c627-997f-4565-b168-12782c0793f3",
        "colab": {
          "base_uri": "https://localhost:8080/",
          "height": 574
        }
      },
      "source": [
        "df.head()"
      ],
      "execution_count": 0,
      "outputs": [
        {
          "output_type": "execute_result",
          "data": {
            "text/html": [
              "<div>\n",
              "<style scoped>\n",
              "    .dataframe tbody tr th:only-of-type {\n",
              "        vertical-align: middle;\n",
              "    }\n",
              "\n",
              "    .dataframe tbody tr th {\n",
              "        vertical-align: top;\n",
              "    }\n",
              "\n",
              "    .dataframe thead th {\n",
              "        text-align: right;\n",
              "    }\n",
              "</style>\n",
              "<table border=\"1\" class=\"dataframe\">\n",
              "  <thead>\n",
              "    <tr style=\"text-align: right;\">\n",
              "      <th></th>\n",
              "      <th>external_author_id</th>\n",
              "      <th>author</th>\n",
              "      <th>content</th>\n",
              "      <th>region</th>\n",
              "      <th>language</th>\n",
              "      <th>publish_date</th>\n",
              "      <th>harvested_date</th>\n",
              "      <th>following</th>\n",
              "      <th>followers</th>\n",
              "      <th>updates</th>\n",
              "      <th>post_type</th>\n",
              "      <th>account_type</th>\n",
              "      <th>retweet</th>\n",
              "      <th>account_category</th>\n",
              "      <th>new_june_2018</th>\n",
              "      <th>alt_external_id</th>\n",
              "      <th>tweet_id</th>\n",
              "      <th>article_url</th>\n",
              "      <th>tco1_step1</th>\n",
              "      <th>tco2_step1</th>\n",
              "      <th>tco3_step1</th>\n",
              "    </tr>\n",
              "  </thead>\n",
              "  <tbody>\n",
              "    <tr>\n",
              "      <th>0</th>\n",
              "      <td>906000000000000000</td>\n",
              "      <td>10_GOP</td>\n",
              "      <td>\"We have a sitting Democrat US Senator on tria...</td>\n",
              "      <td>Unknown</td>\n",
              "      <td>English</td>\n",
              "      <td>10/1/2017 19:58</td>\n",
              "      <td>10/1/2017 19:59</td>\n",
              "      <td>1052</td>\n",
              "      <td>9636</td>\n",
              "      <td>253</td>\n",
              "      <td>NaN</td>\n",
              "      <td>Right</td>\n",
              "      <td>0</td>\n",
              "      <td>RightTroll</td>\n",
              "      <td>0</td>\n",
              "      <td>905874659358453760</td>\n",
              "      <td>914580356430536707</td>\n",
              "      <td>http://twitter.com/905874659358453760/statuses...</td>\n",
              "      <td>https://twitter.com/10_gop/status/914580356430...</td>\n",
              "      <td>NaN</td>\n",
              "      <td>NaN</td>\n",
              "    </tr>\n",
              "    <tr>\n",
              "      <th>1</th>\n",
              "      <td>906000000000000000</td>\n",
              "      <td>10_GOP</td>\n",
              "      <td>Marshawn Lynch arrives to game in anti-Trump s...</td>\n",
              "      <td>Unknown</td>\n",
              "      <td>English</td>\n",
              "      <td>10/1/2017 22:43</td>\n",
              "      <td>10/1/2017 22:43</td>\n",
              "      <td>1054</td>\n",
              "      <td>9637</td>\n",
              "      <td>254</td>\n",
              "      <td>NaN</td>\n",
              "      <td>Right</td>\n",
              "      <td>0</td>\n",
              "      <td>RightTroll</td>\n",
              "      <td>0</td>\n",
              "      <td>905874659358453760</td>\n",
              "      <td>914621840496189440</td>\n",
              "      <td>http://twitter.com/905874659358453760/statuses...</td>\n",
              "      <td>https://twitter.com/damienwoody/status/9145685...</td>\n",
              "      <td>NaN</td>\n",
              "      <td>NaN</td>\n",
              "    </tr>\n",
              "    <tr>\n",
              "      <th>2</th>\n",
              "      <td>906000000000000000</td>\n",
              "      <td>10_GOP</td>\n",
              "      <td>Daughter of fallen Navy Sailor delivers powerf...</td>\n",
              "      <td>Unknown</td>\n",
              "      <td>English</td>\n",
              "      <td>10/1/2017 22:50</td>\n",
              "      <td>10/1/2017 22:51</td>\n",
              "      <td>1054</td>\n",
              "      <td>9637</td>\n",
              "      <td>255</td>\n",
              "      <td>RETWEET</td>\n",
              "      <td>Right</td>\n",
              "      <td>1</td>\n",
              "      <td>RightTroll</td>\n",
              "      <td>0</td>\n",
              "      <td>905874659358453760</td>\n",
              "      <td>914623490375979008</td>\n",
              "      <td>http://twitter.com/905874659358453760/statuses...</td>\n",
              "      <td>https://twitter.com/10_gop/status/913231923715...</td>\n",
              "      <td>NaN</td>\n",
              "      <td>NaN</td>\n",
              "    </tr>\n",
              "    <tr>\n",
              "      <th>3</th>\n",
              "      <td>906000000000000000</td>\n",
              "      <td>10_GOP</td>\n",
              "      <td>JUST IN: President Trump dedicates Presidents ...</td>\n",
              "      <td>Unknown</td>\n",
              "      <td>English</td>\n",
              "      <td>10/1/2017 23:52</td>\n",
              "      <td>10/1/2017 23:52</td>\n",
              "      <td>1062</td>\n",
              "      <td>9642</td>\n",
              "      <td>256</td>\n",
              "      <td>NaN</td>\n",
              "      <td>Right</td>\n",
              "      <td>0</td>\n",
              "      <td>RightTroll</td>\n",
              "      <td>0</td>\n",
              "      <td>905874659358453760</td>\n",
              "      <td>914639143690555392</td>\n",
              "      <td>http://twitter.com/905874659358453760/statuses...</td>\n",
              "      <td>https://twitter.com/10_gop/status/914639143690...</td>\n",
              "      <td>NaN</td>\n",
              "      <td>NaN</td>\n",
              "    </tr>\n",
              "    <tr>\n",
              "      <th>4</th>\n",
              "      <td>906000000000000000</td>\n",
              "      <td>10_GOP</td>\n",
              "      <td>19,000 RESPECTING our National Anthem! #StandF...</td>\n",
              "      <td>Unknown</td>\n",
              "      <td>English</td>\n",
              "      <td>10/1/2017 2:13</td>\n",
              "      <td>10/1/2017 2:13</td>\n",
              "      <td>1050</td>\n",
              "      <td>9645</td>\n",
              "      <td>246</td>\n",
              "      <td>RETWEET</td>\n",
              "      <td>Right</td>\n",
              "      <td>1</td>\n",
              "      <td>RightTroll</td>\n",
              "      <td>0</td>\n",
              "      <td>905874659358453760</td>\n",
              "      <td>914312219952861184</td>\n",
              "      <td>http://twitter.com/905874659358453760/statuses...</td>\n",
              "      <td>https://twitter.com/realDonaldTrump/status/914...</td>\n",
              "      <td>NaN</td>\n",
              "      <td>NaN</td>\n",
              "    </tr>\n",
              "  </tbody>\n",
              "</table>\n",
              "</div>"
            ],
            "text/plain": [
              "   external_author_id  author  ... tco2_step1 tco3_step1\n",
              "0  906000000000000000  10_GOP  ...        NaN        NaN\n",
              "1  906000000000000000  10_GOP  ...        NaN        NaN\n",
              "2  906000000000000000  10_GOP  ...        NaN        NaN\n",
              "3  906000000000000000  10_GOP  ...        NaN        NaN\n",
              "4  906000000000000000  10_GOP  ...        NaN        NaN\n",
              "\n",
              "[5 rows x 21 columns]"
            ]
          },
          "metadata": {
            "tags": []
          },
          "execution_count": 273
        }
      ]
    },
    {
      "cell_type": "code",
      "metadata": {
        "id": "DE1Mzu7x92fk",
        "colab_type": "code",
        "outputId": "10a96647-6981-40fe-b582-373012e284dd",
        "colab": {
          "base_uri": "https://localhost:8080/",
          "height": 403
        }
      },
      "source": [
        "for column in df.columns:\n",
        "    print(str(df[column].isnull().sum()) + ' null', end='\\t')\n",
        "    print(df.dtypes[column], end='\\t')\n",
        "    print(column)\n",
        "    \n",
        "for column in df.columns:\n",
        "    print(str(df[column].isnull().sum()) + ' null', end='\\t')\n",
        "    print(df.dtypes[column], end='\\t')\n",
        "    print(column)"
      ],
      "execution_count": 0,
      "outputs": [
        {
          "output_type": "stream",
          "text": [
            "0 null\tint64\texternal_author_id\n",
            "0 null\tobject\tauthor\n",
            "0 null\tobject\tcontent\n",
            "38 null\tobject\tregion\n",
            "0 null\tobject\tlanguage\n",
            "0 null\tobject\tpublish_date\n",
            "0 null\tobject\tharvested_date\n",
            "0 null\tint64\tfollowing\n",
            "0 null\tint64\tfollowers\n",
            "0 null\tint64\tupdates\n",
            "89299 null\tobject\tpost_type\n",
            "0 null\tobject\taccount_type\n",
            "0 null\tint64\tretweet\n",
            "0 null\tobject\taccount_category\n",
            "0 null\tint64\tnew_june_2018\n",
            "0 null\tint64\talt_external_id\n",
            "0 null\tint64\ttweet_id\n",
            "0 null\tobject\tarticle_url\n",
            "63371 null\tobject\ttco1_step1\n",
            "177459 null\tobject\ttco2_step1\n",
            "241088 null\tobject\ttco3_step1\n"
          ],
          "name": "stdout"
        }
      ]
    },
    {
      "cell_type": "code",
      "metadata": {
        "id": "eO_9nJLt87oj",
        "colab_type": "code",
        "colab": {}
      },
      "source": [
        "df['content'].sum()"
      ],
      "execution_count": 0,
      "outputs": []
    },
    {
      "cell_type": "code",
      "metadata": {
        "id": "UL9Imr_X5SmW",
        "colab_type": "code",
        "outputId": "db18f7cf-f5cd-4931-e550-8a87cc1092b0",
        "colab": {
          "base_uri": "https://localhost:8080/",
          "height": 127
        }
      },
      "source": [
        "df.columns"
      ],
      "execution_count": 0,
      "outputs": [
        {
          "output_type": "execute_result",
          "data": {
            "text/plain": [
              "Index(['external_author_id', 'author', 'content', 'region', 'language',\n",
              "       'publish_date', 'harvested_date', 'following', 'followers', 'updates',\n",
              "       'post_type', 'account_type', 'retweet', 'account_category',\n",
              "       'new_june_2018', 'alt_external_id', 'tweet_id', 'article_url',\n",
              "       'tco1_step1', 'tco2_step1', 'tco3_step1'],\n",
              "      dtype='object')"
            ]
          },
          "metadata": {
            "tags": []
          },
          "execution_count": 274
        }
      ]
    },
    {
      "cell_type": "code",
      "metadata": {
        "id": "RobX5DCf3mph",
        "colab_type": "code",
        "outputId": "03542b49-38e5-4f4b-ea17-1260a5d04bfc",
        "colab": {
          "base_uri": "https://localhost:8080/",
          "height": 622
        }
      },
      "source": [
        "fig, ax = plt.subplots()\n",
        "ax.text(s='Russian troll tweets by day'\n",
        "       ,x=-0.1\n",
        "       ,y=48.28\n",
        "       ,fontsize=18\n",
        "       ,fontweight='bold'\n",
        "       )\n",
        "\n",
        "ax.text(s='Nearly 3 million tweets sent by trolls associated with Internet'\n",
        "       ,x=-0.1\n",
        "       ,y=44.28\n",
        "       ,fontsize=14\n",
        "       )\n",
        "\n",
        "ax.text(s='Research Agency'\n",
        "       ,x=-0.1\n",
        "       ,y=41.1\n",
        "       ,fontsize=14\n",
        "       )\n",
        "\n",
        "df.plot.hist()\n",
        "\n",
        "ax.set_xticklabels(['', '2016', '\\'17', '\\'18'], fontsize=9.5, rotation=0)\n",
        "ax.set_yticklabels(['0', '5', '10', '15k'], fontsize=9.5)\n",
        "ax.set_yticks(range(0, 50, 10))\n",
        "\n",
        "colors = ['grey'\n",
        "         ,'grey'\n",
        "         ,'grey'\n",
        "         ,'grey'\n",
        "         ,'grey'\n",
        "         ,'grey'\n",
        "         ,'grey'\n",
        "         ,'grey'\n",
        "         ,'grey'\n",
        "         ,'grey'\n",
        "         ]\n",
        "\n",
        "for xtick, color in zip(ax.get_xticklabels(), colors):\n",
        "    xtick.set_color(color)\n",
        "for ytick, color in zip(ax.get_yticklabels(), colors):\n",
        "    ytick.set_color(color)\n",
        "\n",
        "plt.show()"
      ],
      "execution_count": 0,
      "outputs": [
        {
          "output_type": "display_data",
          "data": {
            "image/png": "[encoded data removed]",
            "text/plain": [
              "<Figure size 432x288 with 1 Axes>"
            ]
          },
          "metadata": {
            "tags": []
          }
        },
        {
          "output_type": "display_data",
          "data": {
            "image/png": "[encoded data removed]",
            "text/plain": [
              "<Figure size 432x288 with 1 Axes>"
            ]
          },
          "metadata": {
            "tags": []
          }
        }
      ]
    },
    {
      "cell_type": "code",
      "metadata": {
        "id": "iiLng9SAvR18",
        "colab_type": "code",
        "outputId": "44d5f683-40ca-4e55-a4e5-2808ca4c438a",
        "colab": {
          "base_uri": "https://localhost:8080/",
          "height": 512
        }
      },
      "source": [
        "from IPython.display import display, Image\n",
        "url = 'https://fivethirtyeight.com/wp-content/uploads/2018/07/roeder-russiantweets-1.png?w=575'\n",
        "example = Image(url=url)\n",
        "display(example)"
      ],
      "execution_count": 0,
      "outputs": [
        {
          "output_type": "display_data",
          "data": {
            "text/html": [
              "<img src=\"https://fivethirtyeight.com/wp-content/uploads/2018/07/roeder-russiantweets-1.png?w=575\"/>"
            ],
            "text/plain": [
              "<IPython.core.display.Image object>"
            ]
          },
          "metadata": {
            "tags": []
          }
        }
      ]
    },
    {
      "cell_type": "markdown",
      "metadata": {
        "id": "0wSrBzmJyWaV",
        "colab_type": "text"
      },
      "source": [
        "# STRETCH OPTIONS\n",
        "\n",
        "### 1) Reproduce one of the following using the matplotlib or seaborn libraries:\n",
        "\n",
        "- [thanksgiving-2015](https://fivethirtyeight.com/features/heres-what-your-part-of-america-eats-on-thanksgiving/) \n",
        "- [candy-power-ranking](https://fivethirtyeight.com/features/the-ultimate-halloween-candy-power-ranking/) \n",
        "- or another example of your choice!\n",
        "\n",
        "### 2) Make more charts!\n",
        "\n",
        "Choose a chart you want to make, from [Visual Vocabulary - Vega Edition](http://ft.com/vocabulary).\n",
        "\n",
        "Find the chart in an example gallery of a Python data visualization library:\n",
        "- [Seaborn](http://seaborn.pydata.org/examples/index.html)\n",
        "- [Altair](https://altair-viz.github.io/gallery/index.html)\n",
        "- [Matplotlib](https://matplotlib.org/gallery.html)\n",
        "- [Pandas](https://pandas.pydata.org/pandas-docs/stable/visualization.html)\n",
        "\n",
        "Reproduce the chart. [Optionally, try the \"Ben Franklin Method.\"](https://docs.google.com/document/d/1ubOw9B3Hfip27hF2ZFnW3a3z9xAgrUDRReOEo-FHCVs/edit) If you want, experiment and make changes.\n",
        "\n",
        "Take notes. Consider sharing your work with your cohort!"
      ]
    },
    {
      "cell_type": "code",
      "metadata": {
        "id": "dRJkKftiy5BJ",
        "colab_type": "code",
        "colab": {}
      },
      "source": [
        "# More Work Here"
      ],
      "execution_count": 0,
      "outputs": []
    }
  ]
}