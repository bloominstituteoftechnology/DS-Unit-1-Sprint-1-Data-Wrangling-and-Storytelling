{
  "nbformat": 4,
  "nbformat_minor": 0,
  "metadata": {
    "colab": {
      "name": "Copy of Copy of LS_DS_114_Make_Explanatory_Visualizations.ipynb",
      "provenance": [],
      "collapsed_sections": [],
      "include_colab_link": true
    },
    "kernelspec": {
      "display_name": "Python 3",
      "language": "python",
      "name": "python3"
    },
    "language_info": {
      "codemirror_mode": {
        "name": "ipython",
        "version": 3
      },
      "file_extension": ".py",
      "mimetype": "text/x-python",
      "name": "python",
      "nbconvert_exporter": "python",
      "pygments_lexer": "ipython3",
      "version": "3.7.3"
    }
  },
  "cells": [
    {
      "cell_type": "markdown",
      "metadata": {
        "id": "view-in-github",
        "colab_type": "text"
      },
      "source": [
        "<a href=\"https://colab.research.google.com/github/mkhalil7625/DS-Unit-1-Sprint-1-Data-Wrangling-and-Storytelling/blob/master/module4-make-explanatory-visualizations/Mo_LS_DS_114_Make_Explanatory_Visualizations.ipynb\" target=\"_parent\"><img src=\"https://colab.research.google.com/assets/colab-badge.svg\" alt=\"Open In Colab\"/></a>"
      ]
    },
    {
      "cell_type": "markdown",
      "metadata": {
        "colab_type": "text",
        "id": "-8-trVo__vRE"
      },
      "source": [
        "Lambda School Data Science\n",
        "\n",
        "*Unit 1, Sprint 1, Module 4*\n",
        "\n",
        "---\n",
        "\n",
        "# Make Explanatory Visualizations\n",
        "\n",
        "**Objectives**\n",
        "\n",
        "- What are continuous and categorical variables? Using pandas built-in plotting functionality.\n",
        "- Learn about various types of `pandas` plots using `matplotlib`\n",
        "- use `matplotlib` to visualize distributions and relationships with continuous and categorical variables\n",
        "- imitate a real-world example"
      ]
    },
    {
      "cell_type": "markdown",
      "metadata": {
        "id": "tWtxOar5tfig",
        "colab_type": "text"
      },
      "source": [
        "**What are categorical, discrete, and continuous variables?**  \n",
        "\n",
        "* Categorical variables contain a finite number of categories or distinct groups. Categorical data might not have a logical order. For example, categorical predictors include gender, material type, and payment method.  \n",
        "* Discrete variables are numeric variables that have a countable number of values between any two values. A discrete variable is always numeric. For example, the number of customer complaints or the number of flaws or defects.  \n",
        "* Continuous variables are numeric variables that have an infinite number of values between any two values. A continuous variable can be numeric or date/time. For example, the length of a part or the date and time a payment is received.  \n",
        "[Source](https://support.minitab.com/en-us/minitab-express/1/help-and-how-to/modeling-statistics/regression/supporting-topics/basics/what-are-categorical-discrete-and-continuous-variables/)"
      ]
    },
    {
      "cell_type": "code",
      "metadata": {
        "colab_type": "code",
        "id": "J1oI4YTGDWub",
        "outputId": "9779b549-15f7-4421-c558-ae1a57b01b5c",
        "colab": {
          "base_uri": "https://localhost:8080/",
          "height": 71
        }
      },
      "source": [
        "## Imports.\n",
        "import pandas as pd\n",
        "import numpy as np\n",
        "import seaborn as sns\n",
        "import matplotlib.pyplot as plt\n"
      ],
      "execution_count": 1,
      "outputs": [
        {
          "output_type": "stream",
          "text": [
            "/usr/local/lib/python3.6/dist-packages/statsmodels/tools/_testing.py:19: FutureWarning: pandas.util.testing is deprecated. Use the functions in the public API at pandas.testing instead.\n",
            "  import pandas.util.testing as tm\n"
          ],
          "name": "stderr"
        }
      ]
    },
    {
      "cell_type": "code",
      "metadata": {
        "id": "gc8Mx09Gtfik",
        "colab_type": "code",
        "outputId": "9afcbee1-5077-4482-b197-dbf5b4677fe1",
        "colab": {
          "base_uri": "https://localhost:8080/",
          "height": 54
        }
      },
      "source": [
        "# use the 'magic' symbol (%) to specify some non-python code (i.e., affects the underlying jupyter kernel).\n",
        "%matplotlib inline\n",
        "'''\n",
        "That line is only for jupyter notebooks, and allows plt figures to show up in your noteboook.\n",
        "if you are using another editor, you'll use: \n",
        " plt.show() \n",
        "at the end of all your plotting commands to have the figure pop up in another window.\n",
        "'''"
      ],
      "execution_count": 0,
      "outputs": [
        {
          "output_type": "execute_result",
          "data": {
            "text/plain": [
              "\"\\nThat line is only for jupyter notebooks, and allows plt figures to show up in your noteboook.\\nif you are using another editor, you'll use: \\n plt.show() \\nat the end of all your plotting commands to have the figure pop up in another window.\\n\""
            ]
          },
          "metadata": {
            "tags": []
          },
          "execution_count": 2
        }
      ]
    },
    {
      "cell_type": "code",
      "metadata": {
        "id": "8P51f345tfin",
        "colab_type": "code",
        "outputId": "33b49ca6-243f-463a-c735-366b9f2ec74a",
        "colab": {
          "base_uri": "https://localhost:8080/",
          "height": 459
        }
      },
      "source": [
        "# Specify the 'plot style' we want to use with pandas and matplotlib\n",
        "plt.style.available\n",
        "# \"fast\" is actually the default style, so you don't necessarily have to set it."
      ],
      "execution_count": 2,
      "outputs": [
        {
          "output_type": "execute_result",
          "data": {
            "text/plain": [
              "['Solarize_Light2',\n",
              " '_classic_test_patch',\n",
              " 'bmh',\n",
              " 'classic',\n",
              " 'dark_background',\n",
              " 'fast',\n",
              " 'fivethirtyeight',\n",
              " 'ggplot',\n",
              " 'grayscale',\n",
              " 'seaborn',\n",
              " 'seaborn-bright',\n",
              " 'seaborn-colorblind',\n",
              " 'seaborn-dark',\n",
              " 'seaborn-dark-palette',\n",
              " 'seaborn-darkgrid',\n",
              " 'seaborn-deep',\n",
              " 'seaborn-muted',\n",
              " 'seaborn-notebook',\n",
              " 'seaborn-paper',\n",
              " 'seaborn-pastel',\n",
              " 'seaborn-poster',\n",
              " 'seaborn-talk',\n",
              " 'seaborn-ticks',\n",
              " 'seaborn-white',\n",
              " 'seaborn-whitegrid',\n",
              " 'tableau-colorblind10']"
            ]
          },
          "metadata": {
            "tags": []
          },
          "execution_count": 2
        }
      ]
    },
    {
      "cell_type": "code",
      "metadata": {
        "id": "Mxrp0GO8tfiq",
        "colab_type": "code",
        "colab": {}
      },
      "source": [
        "# List of other available plot styles you can use instead of \"fast\".\n",
        "plt.style.use('fast')"
      ],
      "execution_count": 0,
      "outputs": []
    },
    {
      "cell_type": "markdown",
      "metadata": {
        "colab_type": "text",
        "id": "VhrxyXGBDWuf"
      },
      "source": [
        "## Part 1. The Pandas built-in visualization tool\n",
        "This is useful only for simple, quick-and-dirty plots. [Read the full documentation](https://pandas.pydata.org/pandas-docs/stable/user_guide/visualization.html). For anything more complex you'll want to use a more robust visualization package such as `matplotlib`, `seaborn`, or `plotly`.  \n",
        "\n",
        "\"Under the hood, pandas plots graphs with the matplotlib library. This is usually pretty convenient since it allows you to just .plot your graphs, but since matplotlib is kind of a train wreck pandas inherits that confusion.\" [J. Sonoma](http://jonathansoma.com/lede/algorithms-2017/classes/fuzziness-matplotlib/understand-df-plot-in-pandas/)\n"
      ]
    },
    {
      "cell_type": "markdown",
      "metadata": {
        "id": "7u_xj0d-tfiy",
        "colab_type": "text"
      },
      "source": [
        "**Continuous vs. categorical variables**"
      ]
    },
    {
      "cell_type": "code",
      "metadata": {
        "colab_type": "code",
        "id": "lg4pPjvzDWug",
        "outputId": "a69c8302-7247-45b0-de5e-ad437b4fb06b",
        "colab": {
          "base_uri": "https://localhost:8080/",
          "height": 204
        }
      },
      "source": [
        "# Read in the titanic dataset\n",
        "url = 'https://raw.githubusercontent.com/austinlasseter/pandas_visualization/master/data/titanic.csv'\n",
        "#url = '/Users/austinlasseter/atelier/lambda/dspt4/scraps/pandas_visualization/data/titanic.csv'\n",
        "titanic = pd.read_csv(url)\n",
        "titanic.head()"
      ],
      "execution_count": 5,
      "outputs": [
        {
          "output_type": "execute_result",
          "data": {
            "text/html": [
              "<div>\n",
              "<style scoped>\n",
              "    .dataframe tbody tr th:only-of-type {\n",
              "        vertical-align: middle;\n",
              "    }\n",
              "\n",
              "    .dataframe tbody tr th {\n",
              "        vertical-align: top;\n",
              "    }\n",
              "\n",
              "    .dataframe thead th {\n",
              "        text-align: right;\n",
              "    }\n",
              "</style>\n",
              "<table border=\"1\" class=\"dataframe\">\n",
              "  <thead>\n",
              "    <tr style=\"text-align: right;\">\n",
              "      <th></th>\n",
              "      <th>Survived</th>\n",
              "      <th>Pclass</th>\n",
              "      <th>Sex</th>\n",
              "      <th>Age</th>\n",
              "      <th>Fare</th>\n",
              "      <th>Embarked</th>\n",
              "    </tr>\n",
              "  </thead>\n",
              "  <tbody>\n",
              "    <tr>\n",
              "      <th>0</th>\n",
              "      <td>0</td>\n",
              "      <td>3</td>\n",
              "      <td>male</td>\n",
              "      <td>22.0</td>\n",
              "      <td>7.2500</td>\n",
              "      <td>Southampton</td>\n",
              "    </tr>\n",
              "    <tr>\n",
              "      <th>1</th>\n",
              "      <td>1</td>\n",
              "      <td>1</td>\n",
              "      <td>female</td>\n",
              "      <td>38.0</td>\n",
              "      <td>71.2833</td>\n",
              "      <td>Cherbourg</td>\n",
              "    </tr>\n",
              "    <tr>\n",
              "      <th>2</th>\n",
              "      <td>1</td>\n",
              "      <td>3</td>\n",
              "      <td>female</td>\n",
              "      <td>26.0</td>\n",
              "      <td>7.9250</td>\n",
              "      <td>Southampton</td>\n",
              "    </tr>\n",
              "    <tr>\n",
              "      <th>3</th>\n",
              "      <td>1</td>\n",
              "      <td>1</td>\n",
              "      <td>female</td>\n",
              "      <td>35.0</td>\n",
              "      <td>53.1000</td>\n",
              "      <td>Southampton</td>\n",
              "    </tr>\n",
              "    <tr>\n",
              "      <th>4</th>\n",
              "      <td>0</td>\n",
              "      <td>3</td>\n",
              "      <td>male</td>\n",
              "      <td>35.0</td>\n",
              "      <td>8.0500</td>\n",
              "      <td>Southampton</td>\n",
              "    </tr>\n",
              "  </tbody>\n",
              "</table>\n",
              "</div>"
            ],
            "text/plain": [
              "   Survived  Pclass     Sex   Age     Fare     Embarked\n",
              "0         0       3    male  22.0   7.2500  Southampton\n",
              "1         1       1  female  38.0  71.2833    Cherbourg\n",
              "2         1       3  female  26.0   7.9250  Southampton\n",
              "3         1       1  female  35.0  53.1000  Southampton\n",
              "4         0       3    male  35.0   8.0500  Southampton"
            ]
          },
          "metadata": {
            "tags": []
          },
          "execution_count": 5
        }
      ]
    },
    {
      "cell_type": "code",
      "metadata": {
        "colab_type": "code",
        "id": "DHdrWybeDWuk",
        "colab": {
          "base_uri": "https://localhost:8080/",
          "height": 85
        },
        "outputId": "47d7a855-2281-4b02-e3f1-7129e29ea2e7"
      },
      "source": [
        "# cabin class is a categorical variable\n",
        "# it can be displayed using either number or string values.\n",
        "titanic['Pclass'].value_counts().sort_index()"
      ],
      "execution_count": 7,
      "outputs": [
        {
          "output_type": "execute_result",
          "data": {
            "text/plain": [
              "1    184\n",
              "2    173\n",
              "3    355\n",
              "Name: Pclass, dtype: int64"
            ]
          },
          "metadata": {
            "tags": []
          },
          "execution_count": 7
        }
      ]
    },
    {
      "cell_type": "code",
      "metadata": {
        "id": "hXIx2uBzMyic",
        "colab_type": "code",
        "colab": {
          "base_uri": "https://localhost:8080/",
          "height": 142
        },
        "outputId": "ac63be32-4997-4437-dcfb-4f282771bdf8"
      },
      "source": [
        "#convert to string categories\n",
        "titanic['cabin_class'] = titanic['Pclass'].map({1:'first',2:'second',3:'third'})\n",
        "titanic.sample(3)"
      ],
      "execution_count": 8,
      "outputs": [
        {
          "output_type": "execute_result",
          "data": {
            "text/html": [
              "<div>\n",
              "<style scoped>\n",
              "    .dataframe tbody tr th:only-of-type {\n",
              "        vertical-align: middle;\n",
              "    }\n",
              "\n",
              "    .dataframe tbody tr th {\n",
              "        vertical-align: top;\n",
              "    }\n",
              "\n",
              "    .dataframe thead th {\n",
              "        text-align: right;\n",
              "    }\n",
              "</style>\n",
              "<table border=\"1\" class=\"dataframe\">\n",
              "  <thead>\n",
              "    <tr style=\"text-align: right;\">\n",
              "      <th></th>\n",
              "      <th>Survived</th>\n",
              "      <th>Pclass</th>\n",
              "      <th>Sex</th>\n",
              "      <th>Age</th>\n",
              "      <th>Fare</th>\n",
              "      <th>Embarked</th>\n",
              "      <th>cabin_class</th>\n",
              "    </tr>\n",
              "  </thead>\n",
              "  <tbody>\n",
              "    <tr>\n",
              "      <th>547</th>\n",
              "      <td>1</td>\n",
              "      <td>3</td>\n",
              "      <td>female</td>\n",
              "      <td>4.0</td>\n",
              "      <td>13.4167</td>\n",
              "      <td>Cherbourg</td>\n",
              "      <td>third</td>\n",
              "    </tr>\n",
              "    <tr>\n",
              "      <th>37</th>\n",
              "      <td>0</td>\n",
              "      <td>3</td>\n",
              "      <td>male</td>\n",
              "      <td>21.0</td>\n",
              "      <td>7.8000</td>\n",
              "      <td>Southampton</td>\n",
              "      <td>third</td>\n",
              "    </tr>\n",
              "    <tr>\n",
              "      <th>476</th>\n",
              "      <td>0</td>\n",
              "      <td>3</td>\n",
              "      <td>male</td>\n",
              "      <td>36.0</td>\n",
              "      <td>15.5500</td>\n",
              "      <td>Southampton</td>\n",
              "      <td>third</td>\n",
              "    </tr>\n",
              "  </tbody>\n",
              "</table>\n",
              "</div>"
            ],
            "text/plain": [
              "     Survived  Pclass     Sex   Age     Fare     Embarked cabin_class\n",
              "547         1       3  female   4.0  13.4167    Cherbourg       third\n",
              "37          0       3    male  21.0   7.8000  Southampton       third\n",
              "476         0       3    male  36.0  15.5500  Southampton       third"
            ]
          },
          "metadata": {
            "tags": []
          },
          "execution_count": 8
        }
      ]
    },
    {
      "cell_type": "code",
      "metadata": {
        "colab_type": "code",
        "id": "QylOpcesDWuz",
        "outputId": "7782bbb9-51a6-47ef-ca04-e4b79db2d0c0",
        "colab": {
          "base_uri": "https://localhost:8080/",
          "height": 267
        }
      },
      "source": [
        "# Fare is a continuous variable, so we can display it with a histogram.\n",
        "#pandas built in plotting tool, sefault is line \n",
        "titanic['Fare'].plot(kind='hist');"
      ],
      "execution_count": 9,
      "outputs": [
        {
          "output_type": "display_data",
          "data": {
            "image/png": "[encoded data removed]",
            "text/plain": [
              "<Figure size 432x288 with 1 Axes>"
            ]
          },
          "metadata": {
            "tags": [],
            "needs_background": "light"
          }
        }
      ]
    },
    {
      "cell_type": "code",
      "metadata": {
        "colab_type": "code",
        "id": "LUgDsDJ3DWu1",
        "outputId": "ea744ba6-13ba-4925-af51-1adcda18aec3",
        "colab": {
          "base_uri": "https://localhost:8080/",
          "height": 170
        }
      },
      "source": [
        "# Remove two extreme outliers\n",
        "titanic['Fare'].describe()"
      ],
      "execution_count": 12,
      "outputs": [
        {
          "output_type": "execute_result",
          "data": {
            "text/plain": [
              "count    712.000000\n",
              "mean      34.567251\n",
              "std       52.938648\n",
              "min        0.000000\n",
              "25%        8.050000\n",
              "50%       15.645850\n",
              "75%       33.000000\n",
              "max      512.329200\n",
              "Name: Fare, dtype: float64"
            ]
          },
          "metadata": {
            "tags": []
          },
          "execution_count": 12
        }
      ]
    },
    {
      "cell_type": "code",
      "metadata": {
        "id": "ZVvlmcafN7cg",
        "colab_type": "code",
        "colab": {
          "base_uri": "https://localhost:8080/",
          "height": 51
        },
        "outputId": "dc137e4f-17f3-4992-9714-9e3a9b612f01"
      },
      "source": [
        "print(titanic.shape)\n",
        "titanic = titanic[titanic['Fare']<500]\n",
        "print(titanic.shape)\n",
        "#3 outliers has been removed"
      ],
      "execution_count": 13,
      "outputs": [
        {
          "output_type": "stream",
          "text": [
            "(712, 7)\n",
            "(709, 7)\n"
          ],
          "name": "stdout"
        }
      ]
    },
    {
      "cell_type": "code",
      "metadata": {
        "id": "ATHk8cThOdTS",
        "colab_type": "code",
        "colab": {
          "base_uri": "https://localhost:8080/",
          "height": 265
        },
        "outputId": "2fe1ae0d-5374-4f0c-d819-0e5e2cee6422"
      },
      "source": [
        "#hist after removing the outliers, will display better, default bins = 10\n",
        "titanic['Fare'].plot(kind='hist', color='blue', bins = 25);"
      ],
      "execution_count": 14,
      "outputs": [
        {
          "output_type": "display_data",
          "data": {
            "image/png": "[encoded data removed]",
            "text/plain": [
              "<Figure size 432x288 with 1 Axes>"
            ]
          },
          "metadata": {
            "tags": [],
            "needs_background": "light"
          }
        }
      ]
    },
    {
      "cell_type": "code",
      "metadata": {
        "colab_type": "code",
        "id": "F9CFdPJrDWu3",
        "colab": {
          "base_uri": "https://localhost:8080/",
          "height": 326
        },
        "outputId": "f5051a1a-bd63-414b-dc5b-ff933d8cff89"
      },
      "source": [
        "# A continuous variable can be converted to a categorical var using binning.\n",
        "titanic['fare_groups'] = pd.cut(titanic['Fare'], bins=[0,50,100,150,1000])\n",
        "titanic.head()"
      ],
      "execution_count": 16,
      "outputs": [
        {
          "output_type": "stream",
          "text": [
            "/usr/local/lib/python3.6/dist-packages/ipykernel_launcher.py:2: SettingWithCopyWarning: \n",
            "A value is trying to be set on a copy of a slice from a DataFrame.\n",
            "Try using .loc[row_indexer,col_indexer] = value instead\n",
            "\n",
            "See the caveats in the documentation: https://pandas.pydata.org/pandas-docs/stable/user_guide/indexing.html#returning-a-view-versus-a-copy\n",
            "  \n"
          ],
          "name": "stderr"
        },
        {
          "output_type": "execute_result",
          "data": {
            "text/html": [
              "<div>\n",
              "<style scoped>\n",
              "    .dataframe tbody tr th:only-of-type {\n",
              "        vertical-align: middle;\n",
              "    }\n",
              "\n",
              "    .dataframe tbody tr th {\n",
              "        vertical-align: top;\n",
              "    }\n",
              "\n",
              "    .dataframe thead th {\n",
              "        text-align: right;\n",
              "    }\n",
              "</style>\n",
              "<table border=\"1\" class=\"dataframe\">\n",
              "  <thead>\n",
              "    <tr style=\"text-align: right;\">\n",
              "      <th></th>\n",
              "      <th>Survived</th>\n",
              "      <th>Pclass</th>\n",
              "      <th>Sex</th>\n",
              "      <th>Age</th>\n",
              "      <th>Fare</th>\n",
              "      <th>Embarked</th>\n",
              "      <th>cabin_class</th>\n",
              "      <th>fare_groups</th>\n",
              "    </tr>\n",
              "  </thead>\n",
              "  <tbody>\n",
              "    <tr>\n",
              "      <th>0</th>\n",
              "      <td>0</td>\n",
              "      <td>3</td>\n",
              "      <td>male</td>\n",
              "      <td>22.0</td>\n",
              "      <td>7.2500</td>\n",
              "      <td>Southampton</td>\n",
              "      <td>third</td>\n",
              "      <td>(0, 50]</td>\n",
              "    </tr>\n",
              "    <tr>\n",
              "      <th>1</th>\n",
              "      <td>1</td>\n",
              "      <td>1</td>\n",
              "      <td>female</td>\n",
              "      <td>38.0</td>\n",
              "      <td>71.2833</td>\n",
              "      <td>Cherbourg</td>\n",
              "      <td>first</td>\n",
              "      <td>(50, 100]</td>\n",
              "    </tr>\n",
              "    <tr>\n",
              "      <th>2</th>\n",
              "      <td>1</td>\n",
              "      <td>3</td>\n",
              "      <td>female</td>\n",
              "      <td>26.0</td>\n",
              "      <td>7.9250</td>\n",
              "      <td>Southampton</td>\n",
              "      <td>third</td>\n",
              "      <td>(0, 50]</td>\n",
              "    </tr>\n",
              "    <tr>\n",
              "      <th>3</th>\n",
              "      <td>1</td>\n",
              "      <td>1</td>\n",
              "      <td>female</td>\n",
              "      <td>35.0</td>\n",
              "      <td>53.1000</td>\n",
              "      <td>Southampton</td>\n",
              "      <td>first</td>\n",
              "      <td>(50, 100]</td>\n",
              "    </tr>\n",
              "    <tr>\n",
              "      <th>4</th>\n",
              "      <td>0</td>\n",
              "      <td>3</td>\n",
              "      <td>male</td>\n",
              "      <td>35.0</td>\n",
              "      <td>8.0500</td>\n",
              "      <td>Southampton</td>\n",
              "      <td>third</td>\n",
              "      <td>(0, 50]</td>\n",
              "    </tr>\n",
              "  </tbody>\n",
              "</table>\n",
              "</div>"
            ],
            "text/plain": [
              "   Survived  Pclass     Sex   Age     Fare     Embarked cabin_class fare_groups\n",
              "0         0       3    male  22.0   7.2500  Southampton       third     (0, 50]\n",
              "1         1       1  female  38.0  71.2833    Cherbourg       first   (50, 100]\n",
              "2         1       3  female  26.0   7.9250  Southampton       third     (0, 50]\n",
              "3         1       1  female  35.0  53.1000  Southampton       first   (50, 100]\n",
              "4         0       3    male  35.0   8.0500  Southampton       third     (0, 50]"
            ]
          },
          "metadata": {
            "tags": []
          },
          "execution_count": 16
        }
      ]
    },
    {
      "cell_type": "code",
      "metadata": {
        "id": "RPyPJHokPeNc",
        "colab_type": "code",
        "colab": {
          "base_uri": "https://localhost:8080/",
          "height": 326
        },
        "outputId": "af57b94c-8044-48c0-b279-4eda57c81b1b"
      },
      "source": [
        "#a more represbtative way, add labels. 5 cut points in bins will create 4 categoies so we will need 4 label\n",
        "#to get a better cut points run the descripe, with chssong the values from the descripe, it will work well with the bar chart\n",
        "farelabels = ['low','medium','high','vhigh']\n",
        "titanic['fare_groups'] = pd.cut(titanic['Fare'], bins=[0,8,15,32,264], labels=farelabels)\n",
        "titanic.head()"
      ],
      "execution_count": 18,
      "outputs": [
        {
          "output_type": "stream",
          "text": [
            "/usr/local/lib/python3.6/dist-packages/ipykernel_launcher.py:4: SettingWithCopyWarning: \n",
            "A value is trying to be set on a copy of a slice from a DataFrame.\n",
            "Try using .loc[row_indexer,col_indexer] = value instead\n",
            "\n",
            "See the caveats in the documentation: https://pandas.pydata.org/pandas-docs/stable/user_guide/indexing.html#returning-a-view-versus-a-copy\n",
            "  after removing the cwd from sys.path.\n"
          ],
          "name": "stderr"
        },
        {
          "output_type": "execute_result",
          "data": {
            "text/html": [
              "<div>\n",
              "<style scoped>\n",
              "    .dataframe tbody tr th:only-of-type {\n",
              "        vertical-align: middle;\n",
              "    }\n",
              "\n",
              "    .dataframe tbody tr th {\n",
              "        vertical-align: top;\n",
              "    }\n",
              "\n",
              "    .dataframe thead th {\n",
              "        text-align: right;\n",
              "    }\n",
              "</style>\n",
              "<table border=\"1\" class=\"dataframe\">\n",
              "  <thead>\n",
              "    <tr style=\"text-align: right;\">\n",
              "      <th></th>\n",
              "      <th>Survived</th>\n",
              "      <th>Pclass</th>\n",
              "      <th>Sex</th>\n",
              "      <th>Age</th>\n",
              "      <th>Fare</th>\n",
              "      <th>Embarked</th>\n",
              "      <th>cabin_class</th>\n",
              "      <th>fare_groups</th>\n",
              "    </tr>\n",
              "  </thead>\n",
              "  <tbody>\n",
              "    <tr>\n",
              "      <th>0</th>\n",
              "      <td>0</td>\n",
              "      <td>3</td>\n",
              "      <td>male</td>\n",
              "      <td>22.0</td>\n",
              "      <td>7.2500</td>\n",
              "      <td>Southampton</td>\n",
              "      <td>third</td>\n",
              "      <td>low</td>\n",
              "    </tr>\n",
              "    <tr>\n",
              "      <th>1</th>\n",
              "      <td>1</td>\n",
              "      <td>1</td>\n",
              "      <td>female</td>\n",
              "      <td>38.0</td>\n",
              "      <td>71.2833</td>\n",
              "      <td>Cherbourg</td>\n",
              "      <td>first</td>\n",
              "      <td>vhigh</td>\n",
              "    </tr>\n",
              "    <tr>\n",
              "      <th>2</th>\n",
              "      <td>1</td>\n",
              "      <td>3</td>\n",
              "      <td>female</td>\n",
              "      <td>26.0</td>\n",
              "      <td>7.9250</td>\n",
              "      <td>Southampton</td>\n",
              "      <td>third</td>\n",
              "      <td>low</td>\n",
              "    </tr>\n",
              "    <tr>\n",
              "      <th>3</th>\n",
              "      <td>1</td>\n",
              "      <td>1</td>\n",
              "      <td>female</td>\n",
              "      <td>35.0</td>\n",
              "      <td>53.1000</td>\n",
              "      <td>Southampton</td>\n",
              "      <td>first</td>\n",
              "      <td>vhigh</td>\n",
              "    </tr>\n",
              "    <tr>\n",
              "      <th>4</th>\n",
              "      <td>0</td>\n",
              "      <td>3</td>\n",
              "      <td>male</td>\n",
              "      <td>35.0</td>\n",
              "      <td>8.0500</td>\n",
              "      <td>Southampton</td>\n",
              "      <td>third</td>\n",
              "      <td>medium</td>\n",
              "    </tr>\n",
              "  </tbody>\n",
              "</table>\n",
              "</div>"
            ],
            "text/plain": [
              "   Survived  Pclass     Sex   Age     Fare     Embarked cabin_class fare_groups\n",
              "0         0       3    male  22.0   7.2500  Southampton       third         low\n",
              "1         1       1  female  38.0  71.2833    Cherbourg       first       vhigh\n",
              "2         1       3  female  26.0   7.9250  Southampton       third         low\n",
              "3         1       1  female  35.0  53.1000  Southampton       first       vhigh\n",
              "4         0       3    male  35.0   8.0500  Southampton       third      medium"
            ]
          },
          "metadata": {
            "tags": []
          },
          "execution_count": 18
        }
      ]
    },
    {
      "cell_type": "code",
      "metadata": {
        "id": "10R6t0FFRDss",
        "colab_type": "code",
        "colab": {
          "base_uri": "https://localhost:8080/",
          "height": 102
        },
        "outputId": "3f809d8d-5f95-4d3a-a3a5-7c7122e6ad89"
      },
      "source": [
        "#check the results\n",
        "fare_results = titanic['fare_groups'].value_counts().sort_index()\n",
        "fare_results"
      ],
      "execution_count": 20,
      "outputs": [
        {
          "output_type": "execute_result",
          "data": {
            "text/plain": [
              "low       154\n",
              "medium    189\n",
              "high      181\n",
              "vhigh     178\n",
              "Name: fare_groups, dtype: int64"
            ]
          },
          "metadata": {
            "tags": []
          },
          "execution_count": 20
        }
      ]
    },
    {
      "cell_type": "code",
      "metadata": {
        "id": "QQVcOSRctfjJ",
        "colab_type": "code",
        "colab": {
          "base_uri": "https://localhost:8080/",
          "height": 313
        },
        "outputId": "4bf3bac7-cc20-474e-8d99-0dd8336e08f4"
      },
      "source": [
        "# sometimes it's important to specify the range of your y-axis to get more accurate results. 'lim'='limits'\n",
        "fare_results.plot(kind = 'bar')"
      ],
      "execution_count": 21,
      "outputs": [
        {
          "output_type": "execute_result",
          "data": {
            "text/plain": [
              "<matplotlib.axes._subplots.AxesSubplot at 0x7fca2fb18588>"
            ]
          },
          "metadata": {
            "tags": []
          },
          "execution_count": 21
        },
        {
          "output_type": "display_data",
          "data": {
            "image/png": "[encoded data removed]",
            "text/plain": [
              "<Figure size 432x288 with 1 Axes>"
            ]
          },
          "metadata": {
            "tags": [],
            "needs_background": "light"
          }
        }
      ]
    },
    {
      "cell_type": "markdown",
      "metadata": {
        "colab_type": "text",
        "id": "1H-xRL7bDWu6"
      },
      "source": [
        "**Display a single continuous variable**"
      ]
    },
    {
      "cell_type": "code",
      "metadata": {
        "colab_type": "code",
        "id": "Mc7mhxlPDWu7",
        "colab": {
          "base_uri": "https://localhost:8080/",
          "height": 170
        },
        "outputId": "123ada59-377e-46d8-bdde-4e97d15453f9"
      },
      "source": [
        "# Histogram\n",
        "#describe\n",
        "titanic['Age'].describe()\n"
      ],
      "execution_count": 23,
      "outputs": [
        {
          "output_type": "execute_result",
          "data": {
            "text/plain": [
              "count    709.000000\n",
              "mean      29.618011\n",
              "std       14.518828\n",
              "min        0.420000\n",
              "25%       20.000000\n",
              "50%       28.000000\n",
              "75%       38.000000\n",
              "max       80.000000\n",
              "Name: Age, dtype: float64"
            ]
          },
          "metadata": {
            "tags": []
          },
          "execution_count": 23
        }
      ]
    },
    {
      "cell_type": "code",
      "metadata": {
        "id": "s6csdqg0R_Sy",
        "colab_type": "code",
        "colab": {
          "base_uri": "https://localhost:8080/",
          "height": 238
        },
        "outputId": "88d22345-49d9-42f3-e033-e159a5397830"
      },
      "source": [
        "titanic['Age'].plot(kind = 'hist', bins = 25, figsize = (16,4));"
      ],
      "execution_count": 27,
      "outputs": [
        {
          "output_type": "display_data",
          "data": {
            "image/png": "[encoded data removed]",
            "text/plain": [
              "<Figure size 1152x288 with 1 Axes>"
            ]
          },
          "metadata": {
            "tags": [],
            "needs_background": "light"
          }
        }
      ]
    },
    {
      "cell_type": "code",
      "metadata": {
        "id": "yZR7TKGPtfjU",
        "colab_type": "code",
        "colab": {
          "base_uri": "https://localhost:8080/",
          "height": 238
        },
        "outputId": "38c5ad0e-bc9c-43ff-abde-6de42ce17448"
      },
      "source": [
        "# Stacked Histogram of continuous variable, broken out by categorical variable\n",
        "# we ill need to creat subcategories by filtering our dataset\n",
        "titanic[titanic['Pclass']==1]['Age'].plot(kind = 'hist', bins = 25, figsize = (16,4), color='red', alpha=0.5)\n",
        "titanic[titanic['Pclass']==2]['Age'].plot(kind = 'hist', bins = 25, figsize = (16,4), color='blue',alpha=0.5)\n",
        "titanic[titanic['Pclass']==3]['Age'].plot(kind = 'hist', bins = 25, figsize = (16,4), color='lime',alpha=0.5);"
      ],
      "execution_count": 32,
      "outputs": [
        {
          "output_type": "display_data",
          "data": {
            "image/png": "[encoded data removed]",
            "text/plain": [
              "<Figure size 1152x288 with 1 Axes>"
            ]
          },
          "metadata": {
            "tags": [],
            "needs_background": "light"
          }
        }
      ]
    },
    {
      "cell_type": "code",
      "metadata": {
        "id": "jBoIlZsatfjX",
        "colab_type": "code",
        "colab": {
          "base_uri": "https://localhost:8080/",
          "height": 251
        },
        "outputId": "522c67bf-3fbd-451e-ddff-d5dbfe6e6b08"
      },
      "source": [
        "# But this is actually easier to read using a Kernel Density Estimate (KDE). Note the use of 'xlim'.\n",
        "titanic[titanic['Pclass']==1]['Age'].plot(kind = 'density', figsize = (16,4), color='red', xlim=(-5,85) )\n",
        "titanic[titanic['Pclass']==2]['Age'].plot(kind = 'density', figsize = (16,4), color='blue', xlim=(-5,85) )\n",
        "titanic[titanic['Pclass']==3]['Age'].plot(kind = 'density', figsize = (16,4), color='lime', xlim=(-5,85) )"
      ],
      "execution_count": 33,
      "outputs": [
        {
          "output_type": "execute_result",
          "data": {
            "text/plain": [
              "<matplotlib.axes._subplots.AxesSubplot at 0x7fca300ada90>"
            ]
          },
          "metadata": {
            "tags": []
          },
          "execution_count": 33
        },
        {
          "output_type": "display_data",
          "data": {
            "image/png": "[encoded data removed]",
            "text/plain": [
              "<Figure size 1152x288 with 1 Axes>"
            ]
          },
          "metadata": {
            "tags": [],
            "needs_background": "light"
          }
        }
      ]
    },
    {
      "cell_type": "markdown",
      "metadata": {
        "colab_type": "text",
        "id": "3ibIk4TnDWu9"
      },
      "source": [
        "**Display a single categorical variable**"
      ]
    },
    {
      "cell_type": "code",
      "metadata": {
        "colab_type": "code",
        "id": "B0OVB36HDWu-",
        "colab": {
          "base_uri": "https://localhost:8080/",
          "height": 313
        },
        "outputId": "be551698-59f7-480c-e02e-6ac209158889"
      },
      "source": [
        "# Bar chart. Use colors to make a particular value 'pop'!\n",
        "\n",
        "titanic['fare_groups'].value_counts().sort_index().plot(kind='bar',color =['red','gray'] )"
      ],
      "execution_count": 39,
      "outputs": [
        {
          "output_type": "execute_result",
          "data": {
            "text/plain": [
              "<matplotlib.axes._subplots.AxesSubplot at 0x7fca2e062320>"
            ]
          },
          "metadata": {
            "tags": []
          },
          "execution_count": 39
        },
        {
          "output_type": "display_data",
          "data": {
            "image/png": "[encoded data removed]",
            "text/plain": [
              "<Figure size 432x288 with 1 Axes>"
            ]
          },
          "metadata": {
            "tags": [],
            "needs_background": "light"
          }
        }
      ]
    },
    {
      "cell_type": "code",
      "metadata": {
        "colab_type": "code",
        "id": "R3QvUmS6DWvB",
        "colab": {
          "base_uri": "https://localhost:8080/",
          "height": 265
        },
        "outputId": "842ee175-78d6-49e3-cd96-9af653186bc8"
      },
      "source": [
        "# Pie chart\n",
        "titanic['fare_groups'].value_counts().sort_index().plot(kind='pie', figsize =(4,4))"
      ],
      "execution_count": 40,
      "outputs": [
        {
          "output_type": "execute_result",
          "data": {
            "text/plain": [
              "<matplotlib.axes._subplots.AxesSubplot at 0x7fca2df0d6a0>"
            ]
          },
          "metadata": {
            "tags": []
          },
          "execution_count": 40
        },
        {
          "output_type": "display_data",
          "data": {
            "image/png": "[encoded data removed]",
            "text/plain": [
              "<Figure size 288x288 with 1 Axes>"
            ]
          },
          "metadata": {
            "tags": []
          }
        }
      ]
    },
    {
      "cell_type": "markdown",
      "metadata": {
        "colab_type": "text",
        "id": "DqC3QB5ODWvE"
      },
      "source": [
        "**Compare two categorical variables**"
      ]
    },
    {
      "cell_type": "code",
      "metadata": {
        "colab_type": "code",
        "id": "-pC-wFEBDWvF",
        "colab": {
          "base_uri": "https://localhost:8080/",
          "height": 173
        },
        "outputId": "e3bbfd80-eba7-4125-8d7c-97fadf026039"
      },
      "source": [
        "# Compare two categorical variables using crosstab\n",
        "cab_death = pd.crosstab(titanic['cabin_class'],titanic['Survived'])\n",
        "cab_death"
      ],
      "execution_count": 42,
      "outputs": [
        {
          "output_type": "execute_result",
          "data": {
            "text/html": [
              "<div>\n",
              "<style scoped>\n",
              "    .dataframe tbody tr th:only-of-type {\n",
              "        vertical-align: middle;\n",
              "    }\n",
              "\n",
              "    .dataframe tbody tr th {\n",
              "        vertical-align: top;\n",
              "    }\n",
              "\n",
              "    .dataframe thead th {\n",
              "        text-align: right;\n",
              "    }\n",
              "</style>\n",
              "<table border=\"1\" class=\"dataframe\">\n",
              "  <thead>\n",
              "    <tr style=\"text-align: right;\">\n",
              "      <th>Survived</th>\n",
              "      <th>0</th>\n",
              "      <th>1</th>\n",
              "    </tr>\n",
              "    <tr>\n",
              "      <th>cabin_class</th>\n",
              "      <th></th>\n",
              "      <th></th>\n",
              "    </tr>\n",
              "  </thead>\n",
              "  <tbody>\n",
              "    <tr>\n",
              "      <th>first</th>\n",
              "      <td>64</td>\n",
              "      <td>117</td>\n",
              "    </tr>\n",
              "    <tr>\n",
              "      <th>second</th>\n",
              "      <td>90</td>\n",
              "      <td>83</td>\n",
              "    </tr>\n",
              "    <tr>\n",
              "      <th>third</th>\n",
              "      <td>270</td>\n",
              "      <td>85</td>\n",
              "    </tr>\n",
              "  </tbody>\n",
              "</table>\n",
              "</div>"
            ],
            "text/plain": [
              "Survived       0    1\n",
              "cabin_class          \n",
              "first         64  117\n",
              "second        90   83\n",
              "third        270   85"
            ]
          },
          "metadata": {
            "tags": []
          },
          "execution_count": 42
        }
      ]
    },
    {
      "cell_type": "code",
      "metadata": {
        "id": "dvAMV9MEfrPC",
        "colab_type": "code",
        "colab": {
          "base_uri": "https://localhost:8080/",
          "height": 323
        },
        "outputId": "ecbb23ce-25aa-4437-d7b1-b0e9cebb76c2"
      },
      "source": [
        "cab_death.plot(kind = 'bar')"
      ],
      "execution_count": 45,
      "outputs": [
        {
          "output_type": "execute_result",
          "data": {
            "text/plain": [
              "<matplotlib.axes._subplots.AxesSubplot at 0x7fca2dc65a58>"
            ]
          },
          "metadata": {
            "tags": []
          },
          "execution_count": 45
        },
        {
          "output_type": "display_data",
          "data": {
            "image/png": "[encoded data removed]",
            "text/plain": [
              "<Figure size 432x288 with 1 Axes>"
            ]
          },
          "metadata": {
            "tags": [],
            "needs_background": "light"
          }
        }
      ]
    },
    {
      "cell_type": "code",
      "metadata": {
        "id": "qHZpb4JVtfju",
        "colab_type": "code",
        "colab": {
          "base_uri": "https://localhost:8080/",
          "height": 323
        },
        "outputId": "fe353089-860e-488b-f72a-e15b2a3e2a66"
      },
      "source": [
        "# Make that into a bar chart.\n",
        "cab_death.plot(kind = 'bar')"
      ],
      "execution_count": 46,
      "outputs": [
        {
          "output_type": "execute_result",
          "data": {
            "text/plain": [
              "<matplotlib.axes._subplots.AxesSubplot at 0x7fca2dc41a90>"
            ]
          },
          "metadata": {
            "tags": []
          },
          "execution_count": 46
        },
        {
          "output_type": "display_data",
          "data": {
            "image/png": "[encoded data removed]",
            "text/plain": [
              "<Figure size 432x288 with 1 Axes>"
            ]
          },
          "metadata": {
            "tags": [],
            "needs_background": "light"
          }
        }
      ]
    },
    {
      "cell_type": "code",
      "metadata": {
        "colab_type": "code",
        "id": "BOXOy82vDWvH",
        "colab": {
          "base_uri": "https://localhost:8080/",
          "height": 173
        },
        "outputId": "499b7b72-efb6-40f9-d126-3e79926e8789"
      },
      "source": [
        "# Crosstab with column percents.\n",
        "cab_death1 = pd.crosstab(titanic['cabin_class'],titanic['Survived'],normalize='index')\n",
        "cab_death1"
      ],
      "execution_count": 49,
      "outputs": [
        {
          "output_type": "execute_result",
          "data": {
            "text/html": [
              "<div>\n",
              "<style scoped>\n",
              "    .dataframe tbody tr th:only-of-type {\n",
              "        vertical-align: middle;\n",
              "    }\n",
              "\n",
              "    .dataframe tbody tr th {\n",
              "        vertical-align: top;\n",
              "    }\n",
              "\n",
              "    .dataframe thead th {\n",
              "        text-align: right;\n",
              "    }\n",
              "</style>\n",
              "<table border=\"1\" class=\"dataframe\">\n",
              "  <thead>\n",
              "    <tr style=\"text-align: right;\">\n",
              "      <th>Survived</th>\n",
              "      <th>0</th>\n",
              "      <th>1</th>\n",
              "    </tr>\n",
              "    <tr>\n",
              "      <th>cabin_class</th>\n",
              "      <th></th>\n",
              "      <th></th>\n",
              "    </tr>\n",
              "  </thead>\n",
              "  <tbody>\n",
              "    <tr>\n",
              "      <th>first</th>\n",
              "      <td>0.353591</td>\n",
              "      <td>0.646409</td>\n",
              "    </tr>\n",
              "    <tr>\n",
              "      <th>second</th>\n",
              "      <td>0.520231</td>\n",
              "      <td>0.479769</td>\n",
              "    </tr>\n",
              "    <tr>\n",
              "      <th>third</th>\n",
              "      <td>0.760563</td>\n",
              "      <td>0.239437</td>\n",
              "    </tr>\n",
              "  </tbody>\n",
              "</table>\n",
              "</div>"
            ],
            "text/plain": [
              "Survived            0         1\n",
              "cabin_class                    \n",
              "first        0.353591  0.646409\n",
              "second       0.520231  0.479769\n",
              "third        0.760563  0.239437"
            ]
          },
          "metadata": {
            "tags": []
          },
          "execution_count": 49
        }
      ]
    },
    {
      "cell_type": "code",
      "metadata": {
        "colab_type": "code",
        "id": "eAdQREynDWvJ",
        "colab": {
          "base_uri": "https://localhost:8080/",
          "height": 323
        },
        "outputId": "036e2d6e-92b3-4b73-89e4-75fcc43f9a53"
      },
      "source": [
        "# make a stacked bar chart, for easy comparison of two categorical variables.\n",
        "cab_death1.plot(kind = 'bar', stacked=True,color=['red','blue'])"
      ],
      "execution_count": 50,
      "outputs": [
        {
          "output_type": "execute_result",
          "data": {
            "text/plain": [
              "<matplotlib.axes._subplots.AxesSubplot at 0x7fca2dbab550>"
            ]
          },
          "metadata": {
            "tags": []
          },
          "execution_count": 50
        },
        {
          "output_type": "display_data",
          "data": {
            "image/png": "[encoded data removed]",
            "text/plain": [
              "<Figure size 432x288 with 1 Axes>"
            ]
          },
          "metadata": {
            "tags": [],
            "needs_background": "light"
          }
        }
      ]
    },
    {
      "cell_type": "code",
      "metadata": {
        "colab_type": "code",
        "id": "wz_Nz0adDWvm",
        "colab": {
          "base_uri": "https://localhost:8080/",
          "height": 173
        },
        "outputId": "0669a097-3683-4aa9-94e7-104a1e2f4b5f"
      },
      "source": [
        "# Crosstab with column percents.\n",
        "cab_death2 = pd.crosstab(titanic['cabin_class'],titanic['Survived'],normalize='columns')\n",
        "cab_death2"
      ],
      "execution_count": 52,
      "outputs": [
        {
          "output_type": "execute_result",
          "data": {
            "text/html": [
              "<div>\n",
              "<style scoped>\n",
              "    .dataframe tbody tr th:only-of-type {\n",
              "        vertical-align: middle;\n",
              "    }\n",
              "\n",
              "    .dataframe tbody tr th {\n",
              "        vertical-align: top;\n",
              "    }\n",
              "\n",
              "    .dataframe thead th {\n",
              "        text-align: right;\n",
              "    }\n",
              "</style>\n",
              "<table border=\"1\" class=\"dataframe\">\n",
              "  <thead>\n",
              "    <tr style=\"text-align: right;\">\n",
              "      <th>Survived</th>\n",
              "      <th>0</th>\n",
              "      <th>1</th>\n",
              "    </tr>\n",
              "    <tr>\n",
              "      <th>cabin_class</th>\n",
              "      <th></th>\n",
              "      <th></th>\n",
              "    </tr>\n",
              "  </thead>\n",
              "  <tbody>\n",
              "    <tr>\n",
              "      <th>first</th>\n",
              "      <td>0.150943</td>\n",
              "      <td>0.410526</td>\n",
              "    </tr>\n",
              "    <tr>\n",
              "      <th>second</th>\n",
              "      <td>0.212264</td>\n",
              "      <td>0.291228</td>\n",
              "    </tr>\n",
              "    <tr>\n",
              "      <th>third</th>\n",
              "      <td>0.636792</td>\n",
              "      <td>0.298246</td>\n",
              "    </tr>\n",
              "  </tbody>\n",
              "</table>\n",
              "</div>"
            ],
            "text/plain": [
              "Survived            0         1\n",
              "cabin_class                    \n",
              "first        0.150943  0.410526\n",
              "second       0.212264  0.291228\n",
              "third        0.636792  0.298246"
            ]
          },
          "metadata": {
            "tags": []
          },
          "execution_count": 52
        }
      ]
    },
    {
      "cell_type": "code",
      "metadata": {
        "colab_type": "code",
        "id": "rTbBWK4eDWvr",
        "colab": {
          "base_uri": "https://localhost:8080/",
          "height": 306
        },
        "outputId": "540c12c4-e846-41ee-fb2c-cd24af82ec79"
      },
      "source": [
        "# A paired barchart for comparison of two categorical variables. Note the use of 'barh'.\n",
        "cab_death2.plot(kind = 'bar', stacked = True ,color=['red','blue']);"
      ],
      "execution_count": 53,
      "outputs": [
        {
          "output_type": "display_data",
          "data": {
            "image/png": "[encoded data removed]",
            "text/plain": [
              "<Figure size 432x288 with 1 Axes>"
            ]
          },
          "metadata": {
            "tags": [],
            "needs_background": "light"
          }
        }
      ]
    },
    {
      "cell_type": "markdown",
      "metadata": {
        "colab_type": "text",
        "id": "pzOHGieGDWvt"
      },
      "source": [
        "**Compare a categorical and continuous variable**"
      ]
    },
    {
      "cell_type": "code",
      "metadata": {
        "colab_type": "code",
        "id": "WqirYfVmDWvv",
        "colab": {}
      },
      "source": [
        "# Let's look at a single continuous variable\n"
      ],
      "execution_count": 0,
      "outputs": []
    },
    {
      "cell_type": "code",
      "metadata": {
        "colab_type": "code",
        "id": "gCwVnd0gDWv0",
        "colab": {}
      },
      "source": [
        "# Now explore that continuous variable broken out by a categorical (i.e., categorical) variable.\n"
      ],
      "execution_count": 0,
      "outputs": []
    },
    {
      "cell_type": "code",
      "metadata": {
        "id": "Fl_B_G-PtfkQ",
        "colab_type": "code",
        "colab": {}
      },
      "source": [
        "# To visualize a single continuous variable, you can just use `.plot` with `kind=box`\n"
      ],
      "execution_count": 0,
      "outputs": []
    },
    {
      "cell_type": "code",
      "metadata": {
        "colab_type": "code",
        "id": "d78SmpK0DWv2",
        "colab": {}
      },
      "source": [
        "# But to break out a continuous variable by a categorical variable, use `.boxplot`\n"
      ],
      "execution_count": 0,
      "outputs": []
    },
    {
      "cell_type": "markdown",
      "metadata": {
        "colab_type": "text",
        "id": "HtP8hONhDWv3"
      },
      "source": [
        "**Compare two or three continuous variables**"
      ]
    },
    {
      "cell_type": "code",
      "metadata": {
        "colab_type": "code",
        "id": "wcS0nt-RDWv4",
        "colab": {}
      },
      "source": [
        "# Two continuous variables: age by fare\n"
      ],
      "execution_count": 0,
      "outputs": []
    },
    {
      "cell_type": "code",
      "metadata": {
        "colab_type": "code",
        "id": "-Huc09QvaZLq",
        "colab": {}
      },
      "source": [
        "# Three variables: age, fare, and cabin class (color can be either continuous or categorical here).\n"
      ],
      "execution_count": 0,
      "outputs": []
    },
    {
      "cell_type": "markdown",
      "metadata": {
        "colab_type": "text",
        "id": "qNYc5Zu-NQ0d"
      },
      "source": [
        "**Use a line plot to examine two continuous variables (often time)**"
      ]
    },
    {
      "cell_type": "code",
      "metadata": {
        "colab_type": "code",
        "id": "LeMbzYLVDWv5",
        "colab": {}
      },
      "source": [
        "# line chart: age by fare\n"
      ],
      "execution_count": 0,
      "outputs": []
    },
    {
      "cell_type": "code",
      "metadata": {
        "colab_type": "code",
        "id": "NaHYE6trDWv9",
        "colab": {}
      },
      "source": [
        "# Line chart: age by fare and cabin class\n",
        "\n",
        "# Rather than specifying 3 plots (as we did above, with the histogram) you can just loop through the values.\n"
      ],
      "execution_count": 0,
      "outputs": []
    },
    {
      "cell_type": "markdown",
      "metadata": {
        "colab_type": "text",
        "id": "OFKW41ZSDWwB"
      },
      "source": [
        "**Compare multiple continuous variables**"
      ]
    },
    {
      "cell_type": "code",
      "metadata": {
        "colab_type": "code",
        "id": "wsVbgHvkDWwH",
        "colab": {}
      },
      "source": [
        "# Correlation Matrix\n"
      ],
      "execution_count": 0,
      "outputs": []
    },
    {
      "cell_type": "code",
      "metadata": {
        "colab_type": "code",
        "id": "rGsQ6VbiDWwJ",
        "colab": {}
      },
      "source": [
        "# Display the correlation matrix as a heatmap\n"
      ],
      "execution_count": 0,
      "outputs": []
    },
    {
      "cell_type": "markdown",
      "metadata": {
        "id": "57DH3AZetfk0",
        "colab_type": "text"
      },
      "source": [
        "**But this actually is easier and better looking if you use `seaborn` code.**"
      ]
    },
    {
      "cell_type": "code",
      "metadata": {
        "id": "tQlQ0JEwtfk1",
        "colab_type": "code",
        "colab": {}
      },
      "source": [
        "# Seaborn.\n"
      ],
      "execution_count": 0,
      "outputs": []
    },
    {
      "cell_type": "markdown",
      "metadata": {
        "colab_type": "text",
        "id": "gFtAqEbtDWwQ"
      },
      "source": [
        "## Intro to `matplotlib`"
      ]
    },
    {
      "cell_type": "markdown",
      "metadata": {
        "id": "GPYHWLATtfk6",
        "colab_type": "text"
      },
      "source": [
        "**Basic example**\n",
        "\n",
        "Let's walk through a very simple example using two numpy arrays. You can also use lists, but most likely you'll be passing numpy arrays or pandas columns (which essentially also behave like arrays).\n",
        "\n",
        "** The data we want to plot:**"
      ]
    },
    {
      "cell_type": "code",
      "metadata": {
        "id": "h3JZmSoUtfk6",
        "colab_type": "code",
        "colab": {}
      },
      "source": [
        ""
      ],
      "execution_count": 0,
      "outputs": []
    },
    {
      "cell_type": "code",
      "metadata": {
        "id": "1PXl2-B8tfk8",
        "colab_type": "code",
        "colab": {}
      },
      "source": [
        ""
      ],
      "execution_count": 0,
      "outputs": []
    },
    {
      "cell_type": "code",
      "metadata": {
        "id": "RBGlzXz-tfk_",
        "colab_type": "code",
        "colab": {}
      },
      "source": [
        ""
      ],
      "execution_count": 0,
      "outputs": []
    },
    {
      "cell_type": "markdown",
      "metadata": {
        "id": "ykDIH6AKtflC",
        "colab_type": "text"
      },
      "source": [
        "**Basic Matplotlib Commands**\n",
        "\n",
        "We can create a very simple line plot using the following ( I encourage you to pause and use Shift+Tab along the way to check out the document strings for the functions we are using)."
      ]
    },
    {
      "cell_type": "code",
      "metadata": {
        "id": "Cu8wjowxtflC",
        "colab_type": "code",
        "colab": {}
      },
      "source": [
        "# a very simple plot, to get started. Notice that NO PANDAS is required!\n"
      ],
      "execution_count": 0,
      "outputs": []
    },
    {
      "cell_type": "code",
      "metadata": {
        "id": "OsC7zqGdtflF",
        "colab_type": "code",
        "colab": {}
      },
      "source": [
        "# You can have two 'plt' plots together (and let's add some color).\n"
      ],
      "execution_count": 0,
      "outputs": []
    },
    {
      "cell_type": "code",
      "metadata": {
        "id": "nTzZVTVotflI",
        "colab_type": "code",
        "colab": {}
      },
      "source": [
        "# Now add some labels, plus a little texture.\n"
      ],
      "execution_count": 0,
      "outputs": []
    },
    {
      "cell_type": "markdown",
      "metadata": {
        "id": "5Hw_WbqstflL",
        "colab_type": "text"
      },
      "source": [
        "**Creating Multiplots on Same Canvas**"
      ]
    },
    {
      "cell_type": "code",
      "metadata": {
        "id": "agXeBcfHtflL",
        "colab_type": "code",
        "colab": {}
      },
      "source": [
        "# The basic syntax goes like this: plt.subplot(nrows, ncols, plot_number)\n"
      ],
      "execution_count": 0,
      "outputs": []
    },
    {
      "cell_type": "markdown",
      "metadata": {
        "id": "FBXK8EoEtflN",
        "colab_type": "text"
      },
      "source": [
        "___\n",
        "### Matplotlib Object Oriented Method\n",
        "Now that we've seen the basics, let's break it all down with a more formal introduction of Matplotlib's Object Oriented API. This means we will instantiate figure objects and then call methods or attributes from that object."
      ]
    },
    {
      "cell_type": "markdown",
      "metadata": {
        "id": "0GNLzXNBtflO",
        "colab_type": "text"
      },
      "source": [
        "In Matplotlib, the figure (an instance of the class `plt.Figure`) can be thought of as a single container that contains all the objects representing axes, graphics, text, and labels. The axes (an instance of the class `plt.Axes`) is what we see above: a bounding box with ticks and labels, which will eventually contain the plot elements that make up our visualization. We'll commonly use the variable name `fig` to refer to a figure instance, and `ax` to refer to an axes instance or group of axes instances. Once we have created an axes, we can use the `ax.plot` function to plot some data.\n",
        "https://jakevdp.github.io/PythonDataScienceHandbook/04.01-simple-line-plots.html"
      ]
    },
    {
      "cell_type": "markdown",
      "metadata": {
        "id": "kS5et6DNtflO",
        "colab_type": "text"
      },
      "source": [
        "**The `.figure()` method**  \n",
        "To begin we create a figure instance. Then we can add axes to that figure:"
      ]
    },
    {
      "cell_type": "code",
      "metadata": {
        "id": "jm8vv_zPtflP",
        "colab_type": "code",
        "colab": {}
      },
      "source": [
        "# Create Figure (empty canvas)\n",
        "\n",
        "# Add set of axes to figure\n",
        "# left, bottom, width, height (range 0 to 1)\n",
        "\n",
        "# Plot on that set of axes\n",
        "# Notice the use of set_ to begin methods\n"
      ],
      "execution_count": 0,
      "outputs": []
    },
    {
      "cell_type": "markdown",
      "metadata": {
        "id": "01RRB1GDtflR",
        "colab_type": "text"
      },
      "source": [
        "Code is a little more complicated, but the advantage is that we now have full control of where the plot axes are placed, and we can easily add more than one axis to the figure:"
      ]
    },
    {
      "cell_type": "code",
      "metadata": {
        "id": "M3-HeUVStflS",
        "colab_type": "code",
        "colab": {}
      },
      "source": [
        "# Creates blank canvas\n",
        "\n",
        "\n",
        "# Larger Figure Axes 1\n",
        "\n",
        "# Insert Figure Axes 2\n"
      ],
      "execution_count": 0,
      "outputs": []
    },
    {
      "cell_type": "markdown",
      "metadata": {
        "id": "OvSsqC7HtflV",
        "colab_type": "text"
      },
      "source": [
        "**The `subplots()` method**\n",
        "\n",
        "The `plt.subplots()` object will act as a more automatic axis manager. It is somewhat more common than using `.figure()`\n",
        "\n",
        "`plt.subplots()` is a function that returns a tuple containing a figure and axes object(s). Thus when using `fig, ax = plt.subplots()` you unpack this tuple into the variables fig and ax. Having fig is useful if you want to change figure-level attributes or save the figure as an image file later (e.g. with fig.savefig('yourfilename.png')). You certainly don't have to use the returned figure object but many people do use it later so it's common to see. Also, all axes objects (the objects that have plotting methods), have a parent figure object anyway, thus:\n",
        "```\n",
        "fig, ax = plt.subplots()\n",
        "```\n",
        "is more concise than this:\n",
        "```\n",
        "fig = plt.figure()\n",
        "ax = fig.add_subplot(111)\n",
        "```\n",
        "https://stackoverflow.com/questions/34162443/why-do-many-examples-use-fig-ax-plt-subplots-in-matplotlib-pyplot-python"
      ]
    },
    {
      "cell_type": "code",
      "metadata": {
        "id": "-u1nbtREtflW",
        "colab_type": "code",
        "colab": {}
      },
      "source": [
        "# Use similar to plt.figure() except use tuple unpacking to grab fig and axes\n",
        "# The default is `(1, 1)` so you don't actually have to specify this.\n",
        "\n",
        "# Now use the axes object to add stuff to plot\n"
      ],
      "execution_count": 0,
      "outputs": []
    },
    {
      "cell_type": "markdown",
      "metadata": {
        "id": "Z8RNNDmJtflY",
        "colab_type": "text"
      },
      "source": [
        "Then you can specify the number of rows and columns when creating the subplots() object:"
      ]
    },
    {
      "cell_type": "code",
      "metadata": {
        "id": "NVGYo3sPtflZ",
        "colab_type": "code",
        "colab": {}
      },
      "source": [
        "# Empty canvas of 1 by 2 subplots\n",
        "# the parameter labels `nrows` and `ncols` are optional.\n",
        "\n",
        "# more about `.tight_layout()` below."
      ],
      "execution_count": 0,
      "outputs": []
    },
    {
      "cell_type": "code",
      "metadata": {
        "id": "CSHTLMz5tfla",
        "colab_type": "code",
        "colab": {}
      },
      "source": [
        "# Axes is an array of axes to plot on\n"
      ],
      "execution_count": 0,
      "outputs": []
    },
    {
      "cell_type": "markdown",
      "metadata": {
        "id": "TgkTp6vQtflc",
        "colab_type": "text"
      },
      "source": [
        "We can iterate through this array:"
      ]
    },
    {
      "cell_type": "code",
      "metadata": {
        "id": "pMbYtCI2tflc",
        "colab_type": "code",
        "colab": {}
      },
      "source": [
        "\n",
        "\n",
        "# Display the figure object    \n"
      ],
      "execution_count": 0,
      "outputs": []
    },
    {
      "cell_type": "markdown",
      "metadata": {
        "id": "TlqasKw3tfle",
        "colab_type": "text"
      },
      "source": [
        "A common issue with matplolib is overlapping subplots or figures. We ca use **fig.tight_layout()** or **plt.tight_layout()** method, which automatically adjusts the positions of the axes on the figure canvas so that there is no overlapping content:"
      ]
    },
    {
      "cell_type": "code",
      "metadata": {
        "id": "UDbIze1Ftfle",
        "colab_type": "code",
        "colab": {}
      },
      "source": [
        ""
      ],
      "execution_count": 0,
      "outputs": []
    },
    {
      "cell_type": "markdown",
      "metadata": {
        "id": "lMIAgl-stflg",
        "colab_type": "text"
      },
      "source": [
        "### Figure size, aspect ratio and DPI"
      ]
    },
    {
      "cell_type": "markdown",
      "metadata": {
        "id": "QCbehxx7tflg",
        "colab_type": "text"
      },
      "source": [
        "Matplotlib allows the aspect ratio, DPI and figure size to be specified when the Figure object is created. You can use the `figsize` and `dpi` keyword arguments. \n",
        "* `figsize` is a tuple of the width and height of the figure in inches\n",
        "* `dpi` is the dots-per-inch (pixel per inch). \n",
        "\n",
        "For example:"
      ]
    },
    {
      "cell_type": "code",
      "metadata": {
        "id": "yWCdB2nRtflh",
        "colab_type": "code",
        "colab": {}
      },
      "source": [
        ""
      ],
      "execution_count": 0,
      "outputs": []
    },
    {
      "cell_type": "markdown",
      "metadata": {
        "id": "mpT-jmqAtflj",
        "colab_type": "text"
      },
      "source": [
        "The same arguments can also be passed to layout managers, such as the `subplots` function:"
      ]
    },
    {
      "cell_type": "code",
      "metadata": {
        "id": "yNSP97D0tflj",
        "colab_type": "code",
        "colab": {}
      },
      "source": [
        ""
      ],
      "execution_count": 0,
      "outputs": []
    },
    {
      "cell_type": "markdown",
      "metadata": {
        "id": "98cKZJs2tflq",
        "colab_type": "text"
      },
      "source": [
        "## Saving figures\n",
        "Matplotlib can generate high-quality output in a number formats, including PNG, JPG, EPS, SVG, PGF and PDF. "
      ]
    },
    {
      "cell_type": "markdown",
      "metadata": {
        "id": "0UJSDGcZtflq",
        "colab_type": "text"
      },
      "source": [
        "To save a figure to a file we can use the `savefig` method in the `Figure` class:"
      ]
    },
    {
      "cell_type": "code",
      "metadata": {
        "id": "nNH-PgYTtflr",
        "colab_type": "code",
        "colab": {}
      },
      "source": [
        ""
      ],
      "execution_count": 0,
      "outputs": []
    },
    {
      "cell_type": "markdown",
      "metadata": {
        "id": "zoHt6GeEtflu",
        "colab_type": "text"
      },
      "source": [
        "Here we can also optionally specify the DPI and choose between different output formats:"
      ]
    },
    {
      "cell_type": "code",
      "metadata": {
        "id": "oDijL3xatflz",
        "colab_type": "code",
        "colab": {}
      },
      "source": [
        ""
      ],
      "execution_count": 0,
      "outputs": []
    },
    {
      "cell_type": "markdown",
      "metadata": {
        "id": "xTrvtFtmtfmB",
        "colab_type": "text"
      },
      "source": [
        "____\n",
        "## Legends, labels and titles"
      ]
    },
    {
      "cell_type": "markdown",
      "metadata": {
        "id": "tlayzJIDtfmD",
        "colab_type": "text"
      },
      "source": [
        "Now that we have covered the basics of how to create a figure canvas and add axes instances to the canvas, let's look at how decorate a figure with titles, axis labels, and legends."
      ]
    },
    {
      "cell_type": "markdown",
      "metadata": {
        "id": "xHT9tuwytfmD",
        "colab_type": "text"
      },
      "source": [
        "**Figure titles**\n",
        "\n",
        "A title can be added to each axis instance in a figure. To set the title, use the `set_title` method in the axes instance:"
      ]
    },
    {
      "cell_type": "code",
      "metadata": {
        "id": "nn7tSmI4tfmD",
        "colab_type": "code",
        "colab": {}
      },
      "source": [
        ""
      ],
      "execution_count": 0,
      "outputs": []
    },
    {
      "cell_type": "markdown",
      "metadata": {
        "id": "RpdN-yG7tfmG",
        "colab_type": "text"
      },
      "source": [
        "**Axis labels**\n",
        "\n",
        "Similarly, with the methods `set_xlabel` and `set_ylabel`, we can set the labels of the X and Y axes:"
      ]
    },
    {
      "cell_type": "code",
      "metadata": {
        "id": "J3oOlVdWtfmG",
        "colab_type": "code",
        "colab": {}
      },
      "source": [
        ""
      ],
      "execution_count": 0,
      "outputs": []
    },
    {
      "cell_type": "markdown",
      "metadata": {
        "id": "WJcKRBu9tfmJ",
        "colab_type": "text"
      },
      "source": [
        "### Legends"
      ]
    },
    {
      "cell_type": "markdown",
      "metadata": {
        "id": "vbx0bZWKtfmJ",
        "colab_type": "text"
      },
      "source": [
        "You can use the **label=\"label text\"** keyword argument when plots or other objects are added to the figure, and then using the **legend** method without arguments to add the legend to the figure: "
      ]
    },
    {
      "cell_type": "code",
      "metadata": {
        "id": "pAM-sVkvtfmL",
        "colab_type": "code",
        "colab": {}
      },
      "source": [
        ""
      ],
      "execution_count": 0,
      "outputs": []
    },
    {
      "cell_type": "markdown",
      "metadata": {
        "id": "PSZD_4UotfmP",
        "colab_type": "text"
      },
      "source": [
        "The **legend** function takes an optional keyword argument **loc** that can be used to specify where in the figure the legend is to be drawn. The allowed values of **loc** are numerical codes for the various places the legend can be drawn. See the [documentation page](http://matplotlib.org/users/legend_guide.html#legend-location) for details. Some of the most common **loc** values are:"
      ]
    },
    {
      "cell_type": "code",
      "metadata": {
        "id": "iTPQXllJtfmT",
        "colab_type": "code",
        "colab": {}
      },
      "source": [
        "# Lots of options....\n",
        "\n",
        "\n",
        "# Try replacing the `loc` value with integers 1 through 10.\n",
        "# let matplotlib decide the optimal location\n"
      ],
      "execution_count": 0,
      "outputs": []
    },
    {
      "cell_type": "markdown",
      "metadata": {
        "id": "6VX6zv9ctfmW",
        "colab_type": "text"
      },
      "source": [
        "## Setting colors, linewidths, linetypes\n",
        "\n",
        "Matplotlib gives you *a lot* of options for customizing colors, linewidths, and linetypes. \n",
        "\n",
        "There is the basic MATLAB like syntax (which I would suggest you avoid using for more clairty sake:"
      ]
    },
    {
      "cell_type": "markdown",
      "metadata": {
        "id": "uQxtZW3gtfmX",
        "colab_type": "text"
      },
      "source": [
        "### Colors with MatLab like syntax"
      ]
    },
    {
      "cell_type": "markdown",
      "metadata": {
        "id": "eL48yk9KtfmY",
        "colab_type": "text"
      },
      "source": [
        "With matplotlib, we can define the colors of lines and other graphical elements in a number of ways. First of all, we can use the MATLAB-like syntax where `'b'` means blue, `'g'` means green, etc. The MATLAB API for selecting line styles are also supported: where, for example, 'b.-' means a blue line with dots:"
      ]
    },
    {
      "cell_type": "code",
      "metadata": {
        "id": "hZiG9jVFtfmZ",
        "colab_type": "code",
        "colab": {}
      },
      "source": [
        "# MATLAB style line color and style \n",
        "\n",
        "# blue line with dots\n",
        "\n",
        "# green dashed line"
      ],
      "execution_count": 0,
      "outputs": []
    },
    {
      "cell_type": "markdown",
      "metadata": {
        "id": "mrb7k28Atfmc",
        "colab_type": "text"
      },
      "source": [
        "### Colors with the color= parameter"
      ]
    },
    {
      "cell_type": "markdown",
      "metadata": {
        "id": "YknmIwRXtfmc",
        "colab_type": "text"
      },
      "source": [
        "We can also define colors by their names or RGB hex codes and optionally provide an alpha value using the `color` and `alpha` keyword arguments. Alpha indicates opacity."
      ]
    },
    {
      "cell_type": "code",
      "metadata": {
        "id": "a4ihdZQVtfmc",
        "colab_type": "code",
        "colab": {}
      },
      "source": [
        "# half-transparant\n",
        "\n",
        "# RGB hex code\n",
        "\n",
        "# RGB hex code "
      ],
      "execution_count": 0,
      "outputs": []
    },
    {
      "cell_type": "markdown",
      "metadata": {
        "id": "1QLqJr4utfmd",
        "colab_type": "text"
      },
      "source": [
        "### Line and marker styles"
      ]
    },
    {
      "cell_type": "markdown",
      "metadata": {
        "id": "dJ7bvlQNtfme",
        "colab_type": "text"
      },
      "source": [
        "To change the line width, we can use the `linewidth` or `lw` keyword argument. The line style can be selected using the `linestyle` or `ls` keyword arguments:"
      ]
    },
    {
      "cell_type": "code",
      "metadata": {
        "id": "Jo4wLLzttfme",
        "colab_type": "code",
        "colab": {}
      },
      "source": [
        "fig, ax = plt.subplots(figsize=(12,6))\n",
        "\n",
        "ax.plot(x, x+1, color=\"red\", linewidth=0.25)\n",
        "ax.plot(x, x+2, color=\"red\", linewidth=0.50)\n",
        "ax.plot(x, x+3, color=\"red\", linewidth=1.00)\n",
        "ax.plot(x, x+4, color=\"red\", linewidth=2.00)\n",
        "\n",
        "# possible linestype options ‘-‘, ‘–’, ‘-.’, ‘:’, ‘steps’\n",
        "ax.plot(x, x+5, color=\"green\", lw=3, linestyle='-')\n",
        "ax.plot(x, x+6, color=\"green\", lw=3, ls='-.')\n",
        "ax.plot(x, x+7, color=\"green\", lw=3, ls=':')\n",
        "\n",
        "# custom dash\n",
        "line, = ax.plot(x, x+8, color=\"black\", lw=1.50)\n",
        "line.set_dashes([5, 10, 15, 10]) # format: line length, space length, ...\n",
        "\n",
        "# possible marker symbols: marker = '+', 'o', '*', 's', ',', '.', '1', '2', '3', '4', ...\n",
        "ax.plot(x, x+ 9, color=\"blue\", lw=3, ls='-', marker='+')\n",
        "ax.plot(x, x+10, color=\"blue\", lw=3, ls='--', marker='o')\n",
        "ax.plot(x, x+11, color=\"blue\", lw=3, ls='-', marker='s')\n",
        "ax.plot(x, x+12, color=\"blue\", lw=3, ls='--', marker='1')\n",
        "\n",
        "# marker size and color\n",
        "ax.plot(x, x+13, color=\"purple\", lw=1, ls='-', marker='o', markersize=2)\n",
        "ax.plot(x, x+14, color=\"purple\", lw=1, ls='-', marker='o', markersize=4)\n",
        "ax.plot(x, x+15, color=\"purple\", lw=1, ls='-', marker='o', markersize=8, markerfacecolor=\"red\")\n",
        "ax.plot(x, x+16, color=\"purple\", lw=1, ls='-', marker='s', markersize=8, \n",
        "        markerfacecolor=\"yellow\", markeredgewidth=3, markeredgecolor=\"green\");"
      ],
      "execution_count": 0,
      "outputs": []
    },
    {
      "cell_type": "markdown",
      "metadata": {
        "id": "XoJ2MGFNtfmh",
        "colab_type": "text"
      },
      "source": [
        "### Control over axis appearance"
      ]
    },
    {
      "cell_type": "markdown",
      "metadata": {
        "id": "yG45PSpCtfmh",
        "colab_type": "text"
      },
      "source": [
        "In this section we will look at controlling axis sizing properties in a matplotlib figure."
      ]
    },
    {
      "cell_type": "markdown",
      "metadata": {
        "id": "1I7GuSyftfmh",
        "colab_type": "text"
      },
      "source": [
        "## Plot range"
      ]
    },
    {
      "cell_type": "markdown",
      "metadata": {
        "id": "qt9gYILmtfmh",
        "colab_type": "text"
      },
      "source": [
        "We can configure the ranges of the axes using the `set_ylim` and `set_xlim` methods in the axis object, or `axis('tight')` for automatically getting \"tightly fitted\" axes ranges:"
      ]
    },
    {
      "cell_type": "code",
      "metadata": {
        "id": "7zFGq9DItfmi",
        "colab_type": "code",
        "colab": {}
      },
      "source": [
        "fig, axes = plt.subplots(1, 3, figsize=(12, 4))\n",
        "\n",
        "axes[0].plot(x, x**2, x, x**3)\n",
        "axes[0].set_title(\"default axes ranges\")\n",
        "\n",
        "axes[1].plot(x, x**2, x, x**3)\n",
        "axes[1].axis('tight')\n",
        "axes[1].set_title(\"tight axes\")\n",
        "\n",
        "axes[2].plot(x, x**2, x, x**3)\n",
        "axes[2].set_ylim([0, 60])\n",
        "axes[2].set_xlim([2, 5])\n",
        "axes[2].set_title(\"custom axes range\");"
      ],
      "execution_count": 0,
      "outputs": []
    },
    {
      "cell_type": "markdown",
      "metadata": {
        "colab_type": "text",
        "id": "5_na7Oy3NGKA"
      },
      "source": [
        "## Imitate a real-world example"
      ]
    },
    {
      "cell_type": "markdown",
      "metadata": {
        "colab_type": "text",
        "id": "ORUwQD6F-VYg"
      },
      "source": [
        "Today we will reproduce this [example by FiveThirtyEight:](https://fivethirtyeight.com/features/al-gores-new-movie-exposes-the-big-flaw-in-online-movie-ratings/)\n",
        "\n"
      ]
    },
    {
      "cell_type": "code",
      "metadata": {
        "colab_type": "code",
        "id": "ya_w5WORGs-n",
        "colab": {}
      },
      "source": [
        "from IPython.display import display, Image\n",
        "\n",
        "url = 'https://fivethirtyeight.com/wp-content/uploads/2017/09/mehtahickey-inconvenient-0830-1.png'\n",
        "example = Image(url=url, width=400)\n",
        "\n",
        "display(example)"
      ],
      "execution_count": 0,
      "outputs": []
    },
    {
      "cell_type": "markdown",
      "metadata": {
        "colab_type": "text",
        "id": "HP4DALiRG3sC"
      },
      "source": [
        "Using this data: https://github.com/fivethirtyeight/data/tree/master/inconvenient-sequel"
      ]
    },
    {
      "cell_type": "markdown",
      "metadata": {
        "colab_type": "text",
        "id": "HioPkYtUG03B"
      },
      "source": [
        "Links\n",
        "- [Strong Titles Are The Biggest Bang for Your Buck](http://stephanieevergreen.com/strong-titles/)\n",
        "- [Remove to improve (the data-ink ratio)](https://www.darkhorseanalytics.com/blog/data-looks-better-naked)\n",
        "- [How to Generate FiveThirtyEight Graphs in Python](https://www.dataquest.io/blog/making-538-plots/)"
      ]
    },
    {
      "cell_type": "markdown",
      "metadata": {
        "colab_type": "text",
        "id": "0w_iMnQ6-VoQ"
      },
      "source": [
        "### Make fake prototypes\n",
        "\n",
        "This  helps us understand the problem"
      ]
    },
    {
      "cell_type": "code",
      "metadata": {
        "colab_type": "code",
        "id": "Mor33axhfb-b",
        "colab": {}
      },
      "source": [
        "# what styles are available in matplotlib? There's one for 538.\n"
      ],
      "execution_count": 0,
      "outputs": []
    },
    {
      "cell_type": "code",
      "metadata": {
        "colab_type": "code",
        "id": "5uz0eEaEN-GO",
        "colab": {}
      },
      "source": [
        "# Create fake data to replicate the blog post figure.\n",
        "fakelist=[38, 3, 2, 1, 2, 4, 6, 5, 5, 33]"
      ],
      "execution_count": 0,
      "outputs": []
    },
    {
      "cell_type": "code",
      "metadata": {
        "colab_type": "code",
        "id": "KZ0VLOV8OyRr",
        "colab": {}
      },
      "source": [
        "fakelist2=[1, 1, 1, 1, 1, 1, 1, 1, 1, 1, 1, 1, 1, 1, 1, 1, 1, 1, 1, 1, 1, 1, 1, 1,\n",
        "     2, 2, 2, \n",
        "     3, 3, 3,\n",
        "     4, 4,\n",
        "     5, 5, 5,\n",
        "     6, 6, 6, 6,\n",
        "     7, 7, 7, 7, 7,\n",
        "     8, 8, 8, 8,\n",
        "     9, 9, 9, 9, \n",
        "     10, 10, 10, 10, 10, 10, 10, 10, 10, 10, 10, 10, 10, 10, 10, 10, 10, 10]\n"
      ],
      "execution_count": 0,
      "outputs": []
    },
    {
      "cell_type": "markdown",
      "metadata": {
        "colab_type": "text",
        "id": "mZb3UZWO-q05"
      },
      "source": [
        "### Annotate with text"
      ]
    },
    {
      "cell_type": "code",
      "metadata": {
        "colab_type": "code",
        "id": "8PDWo4ShDWwq",
        "colab": {}
      },
      "source": [
        "fig, ax = plt.subplots()\n",
        "fig.patch.set(facecolor=\"white\")\n",
        "\n",
        "# Set the bars\n",
        "fake.plot.bar(width=0.9, color=\"#ED713A\")\n",
        "\n",
        "ax.set(facecolor=\"white\")\n",
        "\n",
        "# Set the title and subtitle\n",
        "ax.set_title(\"'An Inconvenient Sequel: Truth To Power' is divisive\", \n",
        "             fontsize=12, \n",
        "             x=.35, \n",
        "             y=1.1,\n",
        "             fontweight='bold')\n",
        "ax.text(s=\"IMDb ratings for the film as of Aug. 29\", fontsize=12, x=-1.85, y=42);\n",
        "\n",
        "# Set the x and y axes labels\n",
        "ax.set_xlabel(\"Rating\", fontsize=9)\n",
        "ax.set_ylabel(\"Percent of total votes\", fontsize=9)\n",
        "\n",
        "# Fix the x an y axis tick marks and grid\n",
        "ax.set_xticklabels(range(1,11), rotation=0)\n",
        "ax.set_yticklabels(range(0,50,10))\n",
        "ax.set_yticks(range(0,50,10));"
      ],
      "execution_count": 0,
      "outputs": []
    },
    {
      "cell_type": "code",
      "metadata": {
        "colab_type": "code",
        "id": "66ruQn7EDWws",
        "colab": {}
      },
      "source": [
        "display(example)"
      ],
      "execution_count": 0,
      "outputs": []
    },
    {
      "cell_type": "markdown",
      "metadata": {
        "colab_type": "text",
        "id": "x8jRZkpB_MJ6"
      },
      "source": [
        "### Reproduce with real data"
      ]
    },
    {
      "cell_type": "markdown",
      "metadata": {
        "colab_type": "text",
        "id": "G3CmLuDUDWwx"
      },
      "source": [
        "Using this dataset relies on us making two discoveries:\n",
        "\n",
        "1) The dataset shows logs of the data at different timestamps and these timestamps are cumulative, meaning that it has all of the ratings as earlier timestamps, but with the new ones added on top. 2) The dataset logs ratings breakdowns for a bunch of different demographic groups per timestamp.\n",
        "\n",
        "Once we realize these two things, we realize that we only really need 1 line of this dataset to make our graphic, it's the last line that holds the ratings for all IMDb users for the very last time stamp."
      ]
    },
    {
      "cell_type": "code",
      "metadata": {
        "colab_type": "code",
        "id": "3SOHJckDUPI8",
        "colab": {}
      },
      "source": [
        "# read the data from 538's github repo\n",
        "df = pd.read_csv('https://raw.githubusercontent.com/fivethirtyeight/data/master/inconvenient-sequel/ratings.csv')"
      ],
      "execution_count": 0,
      "outputs": []
    },
    {
      "cell_type": "code",
      "metadata": {
        "colab_type": "code",
        "id": "rFy9hpIuDWw6",
        "colab": {}
      },
      "source": [
        "# Convert timestamps strings to actual datetime objects\n"
      ],
      "execution_count": 0,
      "outputs": []
    },
    {
      "cell_type": "code",
      "metadata": {
        "colab_type": "code",
        "id": "VRb5GSHtDWw7",
        "colab": {}
      },
      "source": [
        "# Use the timestamp as the unique index identifier \n",
        "# so that we can select rows by timestamp\n"
      ],
      "execution_count": 0,
      "outputs": []
    },
    {
      "cell_type": "code",
      "metadata": {
        "colab_type": "code",
        "id": "slUcjwZaDWw9",
        "colab": {}
      },
      "source": [
        "# grab only the rows corresponding to the last day\n"
      ],
      "execution_count": 0,
      "outputs": []
    },
    {
      "cell_type": "code",
      "metadata": {
        "colab_type": "code",
        "id": "36TLZQmHDWxF",
        "colab": {}
      },
      "source": [
        "# get the demographic breakdowns for all IMDb users on the last day\n"
      ],
      "execution_count": 0,
      "outputs": []
    },
    {
      "cell_type": "code",
      "metadata": {
        "colab_type": "code",
        "id": "kZZzhojGDWxH",
        "colab": {}
      },
      "source": [
        "# just grab the very last line (latest timestamp) of IMDb user ratings\n",
        "# this should be the most up to date data from the dataset\n"
      ],
      "execution_count": 0,
      "outputs": []
    },
    {
      "cell_type": "code",
      "metadata": {
        "colab_type": "code",
        "id": "Eh35d-EQDWxJ",
        "colab": {}
      },
      "source": [
        "# Grab only the percentage columns since we don't care about the raw \n",
        "# counts in making our graph\n",
        "pct_columns = ['1_pct', '2_pct', '3_pct', '4_pct', '5_pct',\n",
        "               '6_pct', '7_pct', '8_pct', '9_pct', '10_pct']\n"
      ],
      "execution_count": 0,
      "outputs": []
    },
    {
      "cell_type": "code",
      "metadata": {
        "colab_type": "code",
        "id": "47LtASCWDWxL",
        "colab": {}
      },
      "source": [
        "# Reset the index so that it's numeric again\n",
        "# and rename the percent column for easy access in our plotting\n"
      ],
      "execution_count": 0,
      "outputs": []
    },
    {
      "cell_type": "markdown",
      "metadata": {
        "id": "W2hGpWeTtfnJ",
        "colab_type": "text"
      },
      "source": [
        "**generate the figure**"
      ]
    },
    {
      "cell_type": "code",
      "metadata": {
        "colab_type": "code",
        "id": "KTl6qGrSDWxN",
        "colab": {}
      },
      "source": [
        "fig, ax = plt.subplots()\n",
        "\n",
        "# Figure background color\n",
        "fig.patch.set(facecolor=\"white\")\n",
        "\n",
        "# Set the bars\n",
        "ax.bar(x=range(1,11), height=plot_data['percent'], width=0.9, color=\"#ED713A\")\n",
        "\n",
        "# Axes background color\n",
        "ax.set(facecolor=\"white\")\n",
        "\n",
        "# Set the title and subtitle\n",
        "ax.set_title(\"'An Inconvenient Sequel: Truth To Power' is divisive\", \n",
        "             fontsize=12, \n",
        "             x=.35, \n",
        "             y=1.1,\n",
        "             fontweight='bold')\n",
        "ax.text(s=\"IMDb ratings for the film as of Aug. 29\", fontsize=12, x=-1.85, y=42)\n",
        "\n",
        "# Set the x and y axes labels\n",
        "ax.set_xlabel(\"Rating\", fontsize=9)\n",
        "ax.set_ylabel(\"Percent of total votes\", fontsize=9)\n",
        "\n",
        "# Fix the x an y axis tick marks and grid\n",
        "ax.set_xticklabels(range(1,11), rotation=0)\n",
        "ax.set_xticks(range(1,11))\n",
        "ax.set_yticklabels(range(0,50,10))\n",
        "ax.set_yticks(range(0,50,10));"
      ],
      "execution_count": 0,
      "outputs": []
    }
  ]
}