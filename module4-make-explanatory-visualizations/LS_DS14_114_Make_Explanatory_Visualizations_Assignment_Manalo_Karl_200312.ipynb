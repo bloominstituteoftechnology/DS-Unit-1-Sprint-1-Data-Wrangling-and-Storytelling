{
  "nbformat": 4,
  "nbformat_minor": 0,
  "metadata": {
    "colab": {
      "name": "LS_DS14_114_Make_Explanatory_Visualizations_Assignment_Manalo_Karl_200312.ipynb",
      "provenance": [],
      "collapsed_sections": [],
      "include_colab_link": true
    },
    "language_info": {
      "codemirror_mode": {
        "name": "ipython",
        "version": 3
      },
      "file_extension": ".py",
      "mimetype": "text/x-python",
      "name": "python",
      "nbconvert_exporter": "python",
      "pygments_lexer": "ipython3",
      "version": "3.7.1"
    },
    "kernelspec": {
      "display_name": "Python 3",
      "language": "python",
      "name": "python3"
    }
  },
  "cells": [
    {
      "cell_type": "markdown",
      "metadata": {
        "id": "view-in-github",
        "colab_type": "text"
      },
      "source": [
        "<a href=\"https://colab.research.google.com/github/karlmanalo/DS-Unit-1-Sprint-1-Data-Wrangling-and-Storytelling/blob/master/module4-make-explanatory-visualizations/LS_DS14_114_Make_Explanatory_Visualizations_Assignment_Manalo_Karl_200312.ipynb\" target=\"_parent\"><img src=\"https://colab.research.google.com/assets/colab-badge.svg\" alt=\"Open In Colab\"/></a>"
      ]
    },
    {
      "cell_type": "markdown",
      "metadata": {
        "colab_type": "text",
        "id": "NMEswXWh9mqw"
      },
      "source": [
        "Lambda School Data Science\n",
        "\n",
        "*Unit 1, Sprint 1, Module 4*\n",
        "\n",
        "---\n",
        "\n",
        "# ASSIGNMENT\n",
        "\n",
        "### 1) Replicate the lesson code. I recommend that you [do not copy-paste](https://docs.google.com/document/d/1ubOw9B3Hfip27hF2ZFnW3a3z9xAgrUDRReOEo-FHCVs/edit).\n",
        "\n",
        "Get caught up to where we got our example in class and then try and take things further. How close to \"pixel perfect\" can you make the lecture graph?\n",
        "\n",
        "Once you have something that you're proud of, share your graph in the cohort channel and move on to the second exercise.\n",
        "\n",
        "\n",
        "\n",
        "\n",
        "\n",
        "\n",
        "\n",
        "\n",
        "\n",
        "\n"
      ]
    },
    {
      "cell_type": "code",
      "metadata": {
        "id": "8cErOlazHE77",
        "colab_type": "code",
        "outputId": "a3449baa-e966-4ccb-8541-a2392725824c",
        "colab": {
          "base_uri": "https://localhost:8080/",
          "height": 378
        }
      },
      "source": [
        "import matplotlib.pyplot as plt\n",
        "import numpy as np\n",
        "import pandas as pd\n",
        "\n",
        "plt.style.use('fivethirtyeight')\n",
        "\n",
        "fake = pd.Series([38, 3, 2, 1, 2, 4, 6, 5, 5, 33], \n",
        "                 index=range(1,11))\n",
        "\n",
        "fig, ax = plt.subplots()\n",
        "\n",
        "# Add bars\n",
        "ax.bar(height=fake, x=[1,2,3,4,5,6,7,8,9,10], color='#ED713A', width=.9)\n",
        "\n",
        "# NOTE: Wanted to use font ArnhemPro to most closely replicate graph but serif was the closest font. \n",
        "# Set Title\n",
        "ax.set_title(\"'An Inconvenient Sequel: Truth To Power' is divisive\", x=.35, y=1.1, fontfamily='serif', fontsize=12, fontweight=\"bold\")\n",
        "\n",
        "# Set Subtitle\n",
        "ax.text(s=\"IMDb ratings for the film as of Aug. 29\", x=-0.8, y=42.8, fontfamily='serif', fontsize=10)\n",
        "\n",
        "# Set Footer (Bottom Left)\n",
        "ax.text(x=-1.2, y=-12.5, s='FiveThirtyEight', fontfamily='serif', fontsize=8, color='gray')\n",
        "\n",
        "# Set Footer (Bottom Right)\n",
        "ax.text(x=9, y=-12.5, s='SOURCE: IMDB', fontfamily='serif', fontsize=8, color='gray')\n",
        "\n",
        "# Horizontal Line Above Footer.. or tried to here\n",
        "# plt.hlines(-10, -2, 10.2)\n",
        "\n",
        "# Second attempt based on what Ryan said.. Still not working\n",
        "# ax.axhline(y=-10, linewidth=2, color='k')\n",
        "\n",
        "# Third attempt based on Lori's suggestion/Q&A:\n",
        "trans = ax.get_xaxis_transform()\n",
        "ax.plot([-1.25,10.8],[-0.27,-0.27], color='gray', transform=trans, clip_on=False)\n",
        "\n",
        "# Set xticks\n",
        "ax.set_xticks(range(1,11,1))\n",
        "\n",
        "# Set yticks\n",
        "ax.set_yticks(range(0,50,10))\n",
        "\n",
        "# Set ytick labels\n",
        "ax.set_yticklabels(['0', '10', '20', '30', '40%'], fontfamily='serif', color='gray')\n",
        "\n",
        "# Set x label\n",
        "ax.set_xlabel(\"Rating\", color='black', fontfamily='serif', fontsize=9, fontweight='bold')\n",
        "\n",
        "# Set y label\n",
        "ax.set_ylabel(\"Percent of total votes\", color='black', fontfamily='serif', fontsize=9, fontweight='bold')\n",
        "\n",
        "# Set Figure background color\n",
        "fig.set_facecolor(color='None')\n",
        "\n",
        "# Set the Axes background color\n",
        "ax.set_facecolor(color='None')\n",
        "\n",
        "# Lengthen tick marks on x-axis\n",
        "ax.tick_params(axis='x', direction='out', length=10, width=.5, colors='gray')\n",
        "\n",
        "# Tried this to shorten tick marks on y-axis.. After looking at the FiveThirtyEight graph \n",
        "# again, it appears their data starts not at 0, but somewhere around 0.3-0.4.\n",
        "# ax.tick_params(axis='y', direction='out', length=0, width=.5, colors='gray')\n",
        "\n",
        "# print(plt.xlim())\n",
        "# This returned (0.054999999, 10.945)\n",
        "\n",
        "# Shorten \"tick\" marks on y-axis\n",
        "plt.xlim(0.35, 10.6)\n",
        "\n",
        "# Turn off the spine\n",
        "ax.spines['left'].set_visible(False)\n",
        "ax.spines['right'].set_visible(False)\n",
        "ax.spines['top'].set_visible(False)\n",
        "# ax.spines['bottom'].set_visible(False)\n",
        "\n",
        "plt.show()"
      ],
      "execution_count": 27,
      "outputs": [
        {
          "output_type": "display_data",
          "data": {
            "image/png": "[encoded data removed]",
            "text/plain": [
              "<Figure size 432x288 with 1 Axes>"
            ]
          },
          "metadata": {
            "tags": []
          }
        }
      ]
    },
    {
      "cell_type": "code",
      "metadata": {
        "id": "DT_SQLo1HdCB",
        "colab_type": "code",
        "outputId": "0db49436-e45f-4ae8-8112-83ddd968a7af",
        "colab": {
          "base_uri": "https://localhost:8080/",
          "height": 355
        }
      },
      "source": [
        "from IPython.display import display, Image\n",
        "\n",
        "url = 'https://fivethirtyeight.com/wp-content/uploads/2017/09/mehtahickey-inconvenient-0830-1.png'\n",
        "example = Image(url=url, width=400)\n",
        "\n",
        "display(example)"
      ],
      "execution_count": 2,
      "outputs": [
        {
          "output_type": "display_data",
          "data": {
            "text/html": [
              "<img src=\"https://fivethirtyeight.com/wp-content/uploads/2017/09/mehtahickey-inconvenient-0830-1.png\" width=\"400\"/>"
            ],
            "text/plain": [
              "<IPython.core.display.Image object>"
            ]
          },
          "metadata": {
            "tags": []
          }
        }
      ]
    },
    {
      "cell_type": "markdown",
      "metadata": {
        "id": "XulasfzfIsNl",
        "colab_type": "text"
      },
      "source": [
        "### 2) Reproduce another example from [FiveThityEight's shared data repository](https://data.fivethirtyeight.com/).\n",
        "\n",
        "**WARNING**: There are a lot of very custom graphs and tables at the above link. I **highly** recommend not trying to reproduce any that look like a table of values or something really different from the graph types that we are already familiar with. Search through the posts until you find a graph type that you are more or less familiar with: histogram, bar chart, stacked bar chart, line chart, [seaborn relplot](https://seaborn.pydata.org/generated/seaborn.relplot.html), etc. Recreating some of the graphics that 538 uses would be a lot easier in Adobe photoshop/illustrator than with matplotlib. \n",
        "\n",
        "- If you put in some time to find a graph that looks \"easy\" to replicate you'll probably find that it's not as easy as you thought. \n",
        "\n",
        "- If you start with a graph that looks hard to replicate you'll probably run up against a brick wall and be disappointed with your afternoon.\n",
        "\n"
      ]
    },
    {
      "cell_type": "code",
      "metadata": {
        "id": "7SY1ZHawyZvz",
        "colab_type": "code",
        "colab": {}
      },
      "source": [
        "import pandas as pd\n",
        "import numpy as np\n",
        "import matplotlib.pyplot as plt"
      ],
      "execution_count": 0,
      "outputs": []
    },
    {
      "cell_type": "code",
      "metadata": {
        "id": "Xk0U4wUK4vFL",
        "colab_type": "code",
        "outputId": "a26c62bb-b03c-423b-bd67-b27be8071d5c",
        "colab": {
          "base_uri": "https://localhost:8080/",
          "height": 370
        }
      },
      "source": [
        "# Displaying graph that is to be reproduced.\n",
        "\n",
        "from IPython.display import display, Image\n",
        "\n",
        "url = 'https://fivethirtyeight.com/wp-content/uploads/2018/10/actblue-1.png?w=1150'\n",
        "example = Image(url=url, width=400)\n",
        "\n",
        "display(example)"
      ],
      "execution_count": 4,
      "outputs": [
        {
          "output_type": "display_data",
          "data": {
            "text/html": [
              "<img src=\"https://fivethirtyeight.com/wp-content/uploads/2018/10/actblue-1.png?w=1150\" width=\"400\"/>"
            ],
            "text/plain": [
              "<IPython.core.display.Image object>"
            ]
          },
          "metadata": {
            "tags": []
          }
        }
      ]
    },
    {
      "cell_type": "code",
      "metadata": {
        "id": "B_zAmCoJ5UPB",
        "colab_type": "code",
        "colab": {}
      },
      "source": [
        "# Creating fake datasets to mimic these graphs.\n",
        "\n",
        "fake2_count = pd.Series([3.7, 6, 15.1])\n",
        "fake2_dollar = pd.Series([90, 230, 545])"
      ],
      "execution_count": 0,
      "outputs": []
    },
    {
      "cell_type": "code",
      "metadata": {
        "id": "nekTG3EO8Kxd",
        "colab_type": "code",
        "outputId": "62fbae8f-2649-4a8b-993b-a7a915c040bd",
        "colab": {
          "base_uri": "https://localhost:8080/",
          "height": 291
        }
      },
      "source": [
        "plt.style.use('fivethirtyeight')\n",
        "\n",
        "# Setting figure size\n",
        "fig, ax = plt.subplots(figsize=(2.6,4))\n",
        "\n",
        "# Changing background to white\n",
        "ax.set_facecolor('white')\n",
        "fig.set_facecolor('white')\n",
        "\n",
        "# Add bars\n",
        "ax.bar(height=fake2_count, x=[1,2,3], color='#A4DEAD', width=0.9)\n",
        "\n",
        "# Set Title\n",
        "ax.set_title(\"Number of contributions\", fontweight='bold', fontsize=10, loc='left')\n",
        "\n",
        "# Set xticks\n",
        "ax.set_xticks(range(1,4,1))\n",
        "\n",
        "# Set xtick labels\n",
        "ax.set_xticklabels(['2014', \"'16\", \"'18\"], fontsize=8, fontweight='bold')\n",
        "\n",
        "# Set yticks\n",
        "ax.set_yticks(range(0,16,5))\n",
        "\n",
        "# Set ytick labels\n",
        "ax.set_yticklabels(['0','5', '10', '15m'])\n",
        "\n",
        "# Disable vertical grid lines\n",
        "ax.xaxis.grid(False)\n",
        "\n",
        "# Turn off spine\n",
        "ax.spines['left'].set_visible(False)\n",
        "ax.spines['right'].set_visible(False)\n",
        "ax.spines['top'].set_visible(False)\n",
        "ax.spines['bottom'].set_visible(False)\n",
        "\n",
        "# Adding solid line for x-axis\n",
        "ax.axhline(linewidth=2, color='black')\n",
        "\n",
        "# Make tick font size smaller\n",
        "ax.tick_params(axis='y', labelsize=8, colors='gray')\n",
        "\n",
        "plt.show()"
      ],
      "execution_count": 40,
      "outputs": [
        {
          "output_type": "display_data",
          "data": {
            "image/png": "[encoded data removed]",
            "text/plain": [
              "<Figure size 187.2x288 with 1 Axes>"
            ]
          },
          "metadata": {
            "tags": []
          }
        }
      ]
    },
    {
      "cell_type": "code",
      "metadata": {
        "id": "hS7W_e5yH7PH",
        "colab_type": "code",
        "outputId": "8d0d5fb2-8395-422d-d91e-28decbda4304",
        "colab": {
          "base_uri": "https://localhost:8080/",
          "height": 291
        }
      },
      "source": [
        "# Changing figure size\n",
        "fig, ax = plt.subplots(figsize=(2.6,4))\n",
        "\n",
        "# Add bars\n",
        "ax.bar(height=fake2_dollar, x=[1,2,3], color='#2A83B9')\n",
        "\n",
        "# Changing background color to white\n",
        "ax.set_facecolor('white')\n",
        "fig.set_facecolor('white')\n",
        "\n",
        "# Set Title\n",
        "ax.set_title('Total amount in dollars', fontweight='bold', fontsize=10, loc='left')\n",
        "\n",
        "# Set xticks\n",
        "ax.set_xticks(range(1,4,1))\n",
        "\n",
        "# Set xtick labels\n",
        "ax.set_xticklabels(['2014', \"'16\", \"'18\"], fontsize=8, fontweight='bold')\n",
        "\n",
        "# Set yticks\n",
        "ax.set_yticks(range(0,501,250))\n",
        "\n",
        "# Set ytick labels\n",
        "ax.set_yticklabels(['0', '250', '$500m'])\n",
        "\n",
        "# Disable vertical grid lines\n",
        "ax.xaxis.grid(False)\n",
        "\n",
        "# Turn off spine\n",
        "ax.spines['left'].set_visible(False)\n",
        "ax.spines['right'].set_visible(False)\n",
        "ax.spines['top'].set_visible(False)\n",
        "ax.spines['bottom'].set_visible(False)\n",
        "\n",
        "# Adding solid line for x-axis\n",
        "ax.axhline(y=0, linewidth=2, color='black')\n",
        "\n",
        "# Make tick font smaller\n",
        "ax.tick_params(axis='y', labelsize=8, colors='gray')\n",
        "\n",
        "plt.show()"
      ],
      "execution_count": 38,
      "outputs": [
        {
          "output_type": "display_data",
          "data": {
            "image/png": "[encoded data removed]",
            "text/plain": [
              "<Figure size 187.2x288 with 1 Axes>"
            ]
          },
          "metadata": {
            "tags": []
          }
        }
      ]
    },
    {
      "cell_type": "code",
      "metadata": {
        "id": "KOxkdq2hEjsI",
        "colab_type": "code",
        "colab": {}
      },
      "source": [
        "# Trying to display graphs side by side??"
      ],
      "execution_count": 0,
      "outputs": []
    },
    {
      "cell_type": "code",
      "metadata": {
        "id": "Kz3p1rgH9WIE",
        "colab_type": "code",
        "outputId": "01f2a58b-9e46-4404-d88c-28c46a245a5b",
        "colab": {
          "base_uri": "https://localhost:8080/",
          "height": 370
        }
      },
      "source": [
        "display(example)"
      ],
      "execution_count": 8,
      "outputs": [
        {
          "output_type": "display_data",
          "data": {
            "text/html": [
              "<img src=\"https://fivethirtyeight.com/wp-content/uploads/2018/10/actblue-1.png?w=1150\" width=\"400\"/>"
            ],
            "text/plain": [
              "<IPython.core.display.Image object>"
            ]
          },
          "metadata": {
            "tags": []
          }
        }
      ]
    },
    {
      "cell_type": "markdown",
      "metadata": {
        "id": "0wSrBzmJyWaV",
        "colab_type": "text"
      },
      "source": [
        "# STRETCH OPTIONS\n",
        "\n",
        "### 1) Reproduce one of the following using the matplotlib or seaborn libraries:\n",
        "\n",
        "- [thanksgiving-2015](https://fivethirtyeight.com/features/heres-what-your-part-of-america-eats-on-thanksgiving/) \n",
        "- [candy-power-ranking](https://fivethirtyeight.com/features/the-ultimate-halloween-candy-power-ranking/) \n",
        "- or another example of your choice!\n",
        "\n",
        "### 2) Make more charts!\n",
        "\n",
        "Choose a chart you want to make, from [Visual Vocabulary - Vega Edition](http://ft.com/vocabulary).\n",
        "\n",
        "Find the chart in an example gallery of a Python data visualization library:\n",
        "- [Seaborn](http://seaborn.pydata.org/examples/index.html)\n",
        "- [Altair](https://altair-viz.github.io/gallery/index.html)\n",
        "- [Matplotlib](https://matplotlib.org/gallery.html)\n",
        "- [Pandas](https://pandas.pydata.org/pandas-docs/stable/visualization.html)\n",
        "\n",
        "Reproduce the chart. [Optionally, try the \"Ben Franklin Method.\"](https://docs.google.com/document/d/1ubOw9B3Hfip27hF2ZFnW3a3z9xAgrUDRReOEo-FHCVs/edit) If you want, experiment and make changes.\n",
        "\n",
        "Take notes. Consider sharing your work with your cohort!"
      ]
    },
    {
      "cell_type": "code",
      "metadata": {
        "id": "dRJkKftiy5BJ",
        "colab_type": "code",
        "colab": {}
      },
      "source": [
        "# More Work Here"
      ],
      "execution_count": 0,
      "outputs": []
    }
  ]
}