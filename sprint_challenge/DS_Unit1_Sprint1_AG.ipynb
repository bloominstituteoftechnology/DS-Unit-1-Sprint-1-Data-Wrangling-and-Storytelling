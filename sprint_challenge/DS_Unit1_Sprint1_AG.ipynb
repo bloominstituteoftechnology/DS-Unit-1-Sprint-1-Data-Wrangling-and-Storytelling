{
 "cells": [
  {
   "cell_type": "markdown",
   "metadata": {
    "deletable": false,
    "editable": false,
    "id": "j4EFYnn4MixR",
    "nbgrader": {
     "cell_type": "markdown",
     "checksum": "2dee446e1f8055f6ba536709ccbcb62c",
     "grade": false,
     "grade_id": "cell-2e05cbe003d95447",
     "locked": true,
     "schema_version": 3,
     "solution": false,
     "task": false
    }
   },
   "source": [
    "## Sprint Challenge: Data Wrangling and Storytelling\n",
    "### Notebook points total: 14\n"
   ]
  },
  {
   "cell_type": "markdown",
   "metadata": {
    "deletable": false,
    "editable": false,
    "nbgrader": {
     "cell_type": "markdown",
     "checksum": "09ff81547a7ea5678875118ce6caa95d",
     "grade": false,
     "grade_id": "cell-5821095ecfb57ce4",
     "locked": true,
     "schema_version": 3,
     "solution": false,
     "task": false
    }
   },
   "source": [
    "## Python Fundamentals"
   ]
  },
  {
   "cell_type": "markdown",
   "metadata": {
    "deletable": false,
    "editable": false,
    "nbgrader": {
     "cell_type": "markdown",
     "checksum": "dc8877d44d9b265b9d66a579582b88cd",
     "grade": false,
     "grade_id": "cell-b5f9b60ba324a5b0",
     "locked": true,
     "schema_version": 3,
     "solution": false,
     "task": false
    }
   },
   "source": [
    "**Task 1** - Python Objects\n",
    "* Create a list object called `list_practice` using the following three strings: `bloom`, `data`, `python` "
   ]
  },
  {
   "cell_type": "code",
   "execution_count": null,
   "metadata": {
    "deletable": false,
    "nbgrader": {
     "cell_type": "code",
     "checksum": "2c2a3c1d8e5f4ea0a783bfa9d00218e7",
     "grade": false,
     "grade_id": "cell-6ee0685279505899",
     "locked": false,
     "schema_version": 3,
     "solution": true,
     "task": false
    }
   },
   "outputs": [],
   "source": [
    "# YOUR CODE HERE\n",
    "raise NotImplementedError()"
   ]
  },
  {
   "cell_type": "markdown",
   "metadata": {
    "deletable": false,
    "editable": false,
    "nbgrader": {
     "cell_type": "markdown",
     "checksum": "6e15fd8ad40d40895af5017592188d86",
     "grade": false,
     "grade_id": "cell-254c30333f63dc0e",
     "locked": true,
     "schema_version": 3,
     "solution": false,
     "task": false
    }
   },
   "source": [
    "**Task 1 Test**"
   ]
  },
  {
   "cell_type": "code",
   "execution_count": null,
   "metadata": {
    "deletable": false,
    "editable": false,
    "nbgrader": {
     "cell_type": "code",
     "checksum": "248c1e6a40bea014a9f130cee72c1a46",
     "grade": true,
     "grade_id": "cell-7f5ed8ccc5b15f71",
     "locked": true,
     "points": 1,
     "schema_version": 3,
     "solution": false,
     "task": false
    }
   },
   "outputs": [],
   "source": [
    "#Task 1 - Test\n",
    "assert isinstance(list_practice, list), \"Make sure you created a list object\"\n"
   ]
  },
  {
   "cell_type": "markdown",
   "metadata": {
    "deletable": false,
    "editable": false,
    "nbgrader": {
     "cell_type": "markdown",
     "checksum": "30d91f27e533bf95f3afd44e8d9cda1b",
     "grade": false,
     "grade_id": "cell-bd07e140b06f24b6",
     "locked": true,
     "schema_version": 3,
     "solution": false,
     "task": false
    }
   },
   "source": [
    "\n",
    "**Task 2** - Dictionaries\n",
    "* Create a dictionary object called `diction_practice`. \n",
    "* Assign the following values to their respective keys listed above: `tech`,  `science`, `language`\n",
    "\n",
    "*Hint:* There are multiple ways you can accomplish this task. You can either write out the key:values pairs manually, or iteratively combine two lists using the [`zip` function](https://docs.python.org/3/library/functions.html)."
   ]
  },
  {
   "cell_type": "code",
   "execution_count": null,
   "metadata": {
    "deletable": false,
    "nbgrader": {
     "cell_type": "code",
     "checksum": "f9948f7da71e452ccc2cb3fd5550ac09",
     "grade": false,
     "grade_id": "cell-d2aac83e74b8fb89",
     "locked": false,
     "schema_version": 3,
     "solution": true,
     "task": false
    }
   },
   "outputs": [],
   "source": [
    "# YOUR CODE HERE\n",
    "raise NotImplementedError()"
   ]
  },
  {
   "cell_type": "markdown",
   "metadata": {
    "deletable": false,
    "editable": false,
    "nbgrader": {
     "cell_type": "markdown",
     "checksum": "89adce679550e000e75a3cd0351721b1",
     "grade": false,
     "grade_id": "cell-95f85a283f98ef20",
     "locked": true,
     "schema_version": 3,
     "solution": false,
     "task": false
    }
   },
   "source": [
    "**Task 2 - Test**"
   ]
  },
  {
   "cell_type": "code",
   "execution_count": null,
   "metadata": {
    "deletable": false,
    "editable": false,
    "nbgrader": {
     "cell_type": "code",
     "checksum": "eb3d302695cce47d57ee41774cb9aa05",
     "grade": true,
     "grade_id": "cell-6f3011fa357d270f",
     "locked": true,
     "points": 1,
     "schema_version": 3,
     "solution": false,
     "task": false
    }
   },
   "outputs": [],
   "source": [
    "#Task 2 - Test\n",
    "\n",
    "assert isinstance(diction_practice, dict), \"Did you use the correct syntax?\"\n"
   ]
  },
  {
   "cell_type": "markdown",
   "metadata": {
    "deletable": false,
    "editable": false,
    "nbgrader": {
     "cell_type": "markdown",
     "checksum": "500b06dc305643e357cca230f16dce04",
     "grade": false,
     "grade_id": "cell-4a31ee084e18453a",
     "locked": true,
     "schema_version": 3,
     "solution": false,
     "task": false
    }
   },
   "source": [
    "\n",
    "**Task 3** - Dictionaries\n",
    "* Reassign the value of the `python` key in your dictionary to `'programming_language'`"
   ]
  },
  {
   "cell_type": "code",
   "execution_count": null,
   "metadata": {
    "deletable": false,
    "nbgrader": {
     "cell_type": "code",
     "checksum": "968e8893d06b1276dac72f7a0db78d95",
     "grade": false,
     "grade_id": "cell-59c6653a1a1faae6",
     "locked": false,
     "schema_version": 3,
     "solution": true,
     "task": false
    }
   },
   "outputs": [],
   "source": [
    "# YOUR CODE HERE\n",
    "raise NotImplementedError()"
   ]
  },
  {
   "cell_type": "markdown",
   "metadata": {
    "deletable": false,
    "editable": false,
    "nbgrader": {
     "cell_type": "markdown",
     "checksum": "b3c824a5462497e6fc4d903f762303c9",
     "grade": false,
     "grade_id": "cell-b0a297189d9a7dd3",
     "locked": true,
     "schema_version": 3,
     "solution": false,
     "task": false
    }
   },
   "source": [
    "**Task 3 Tests**"
   ]
  },
  {
   "cell_type": "code",
   "execution_count": null,
   "metadata": {
    "deletable": false,
    "editable": false,
    "nbgrader": {
     "cell_type": "code",
     "checksum": "8fc04dbb280a746dbac3ef75ee9de31b",
     "grade": true,
     "grade_id": "cell-94bd4331d6cb29c9",
     "locked": true,
     "points": 1,
     "schema_version": 3,
     "solution": false,
     "task": false
    }
   },
   "outputs": [],
   "source": [
    "#Task 3 Tests\n",
    "\n",
    "assert diction_practice['data'] == 'science', \"Make sure your values are assigned to their correct keys\"\n"
   ]
  },
  {
   "cell_type": "markdown",
   "metadata": {
    "deletable": false,
    "editable": false,
    "id": "qSvL3CeTFk9F",
    "nbgrader": {
     "cell_type": "markdown",
     "checksum": "71b4d138b7b263261d663d1b41d6add4",
     "grade": false,
     "grade_id": "cell-40090434cb0736b0",
     "locked": true,
     "schema_version": 3,
     "solution": false,
     "task": false
    }
   },
   "source": [
    "## Use the following information to complete Tasks \n",
    "\n",
    "\n",
    "\n",
    "In this Sprint Challenge you will first \"wrangle\" some data from [Gapminder](https://www.gapminder.org/about-gapminder/), a Swedish non-profit co-founded by Hans Rosling. \"Gapminder produces free teaching resources making the world understandable based on reliable statistics.\"\n",
    "- [Cell phones (total), by country and year](https://raw.githubusercontent.com/open-numbers/ddf--gapminder--systema_globalis/master/countries-etc-datapoints/ddf--datapoints--cell_phones_total--by--geo--time.csv)\n",
    "- [Population (total), by country and year](https://raw.githubusercontent.com/open-numbers/ddf--gapminder--systema_globalis/master/countries-etc-datapoints/ddf--datapoints--population_total--by--geo--time.csv)\n",
    "- [Geo country codes](https://github.com/open-numbers/ddf--gapminder--systema_globalis/blob/master/ddf--entities--geo--country.csv)\n",
    "\n",
    "These two links have everything you need to successfully complete the first part of this sprint challenge.\n",
    "- [Pandas documentation: Working with Text Data](https://pandas.pydata.org/pandas-docs/stable/text.html) (one question)\n",
    "- [Pandas Cheat Sheet](https://github.com/pandas-dev/pandas/blob/master/doc/cheatsheet/Pandas_Cheat_Sheet.pdf) (everything else)\n"
   ]
  },
  {
   "cell_type": "markdown",
   "metadata": {
    "deletable": false,
    "editable": false,
    "id": "0ZklksziMixS",
    "nbgrader": {
     "cell_type": "markdown",
     "checksum": "235860cb511ea847389f2096adf6cc6e",
     "grade": false,
     "grade_id": "cell-ae2312e461921817",
     "locked": true,
     "schema_version": 3,
     "solution": false,
     "task": false
    }
   },
   "source": [
    "**Task 4** - Load and print the cell phone data.  Pandas and numpy import statements have been included for you.\n",
    "\n",
    "* Load your CSV file found at `cell_phones_url` into a DataFrame object named `cell_phones`\n"
   ]
  },
  {
   "cell_type": "code",
   "execution_count": null,
   "metadata": {
    "deletable": false,
    "id": "FFO8QNJ7MixS",
    "nbgrader": {
     "cell_type": "code",
     "checksum": "82e3c74df1cb9321caff9035dd2e9409",
     "grade": false,
     "grade_id": "cell-6f16afb9d271f949",
     "locked": false,
     "schema_version": 3,
     "solution": true,
     "task": false
    }
   },
   "outputs": [],
   "source": [
    "# Task 4\n",
    "\n",
    "# Imports \n",
    "import pandas as pd\n",
    "import numpy as np\n",
    "\n",
    "cell_phones_url = 'https://raw.githubusercontent.com/bloominstituteoftechnology/data-science-practice-datasets/main/unit_1/Cell__Phones/cell_phones.csv'\n",
    "\n",
    "# Load the dataframe and print the top 5 rows\n",
    "\n",
    "# YOUR CODE HERE\n",
    "raise NotImplementedError()\n"
   ]
  },
  {
   "cell_type": "markdown",
   "metadata": {
    "id": "ymCLkZMJMixT"
   },
   "source": [
    "**Task 4 Test**"
   ]
  },
  {
   "cell_type": "code",
   "execution_count": null,
   "metadata": {
    "deletable": false,
    "editable": false,
    "id": "btcEJXxCMixT",
    "nbgrader": {
     "cell_type": "code",
     "checksum": "597bda1cfbeb2d3def97e7c47f6971c7",
     "grade": true,
     "grade_id": "cell-226f7bf8e9ea24f9",
     "locked": true,
     "points": 1,
     "schema_version": 3,
     "solution": false,
     "task": false
    }
   },
   "outputs": [],
   "source": [
    "# Task 4 - Test\n",
    "\n",
    "assert isinstance(cell_phones, pd.DataFrame), 'Have you created a DataFrame named `cell_phones`?'\n",
    "assert len(cell_phones) == 9574\n"
   ]
  },
  {
   "cell_type": "markdown",
   "metadata": {
    "deletable": false,
    "editable": false,
    "id": "9YPW16tmT2J_",
    "nbgrader": {
     "cell_type": "markdown",
     "checksum": "26b84eb6f8694fc80894fec62cb92e2f",
     "grade": false,
     "grade_id": "cell-905dd5d05e5cebb7",
     "locked": true,
     "schema_version": 3,
     "solution": false,
     "task": false
    }
   },
   "source": [
    "**Task 5** - Load and print the population data.  \n",
    "\n",
    "* Load the CSV file found at `population_url` into a DataFrame named `population`\n",
    "\n"
   ]
  },
  {
   "cell_type": "code",
   "execution_count": null,
   "metadata": {
    "deletable": false,
    "id": "SNWpDAvyUYa2",
    "nbgrader": {
     "cell_type": "code",
     "checksum": "9874647278a76399d4f5547222d9dc02",
     "grade": false,
     "grade_id": "cell-561c2d59728188a9",
     "locked": false,
     "schema_version": 3,
     "solution": true,
     "task": false
    }
   },
   "outputs": [],
   "source": [
    "# Task 5\n",
    "\n",
    "population_url = 'https://raw.githubusercontent.com/bloominstituteoftechnology/data-science-practice-datasets/main/unit_1/Population/population.csv'\n",
    "\n",
    "# Load the dataframe and print the first 5 records\n",
    "\n",
    "# YOUR CODE HERE\n",
    "raise NotImplementedError()"
   ]
  },
  {
   "cell_type": "markdown",
   "metadata": {
    "id": "RDOcC0FdVjIz"
   },
   "source": [
    "**Task 5 Test**"
   ]
  },
  {
   "cell_type": "code",
   "execution_count": null,
   "metadata": {
    "deletable": false,
    "editable": false,
    "id": "jcaZ5W5cVjI_",
    "nbgrader": {
     "cell_type": "code",
     "checksum": "01d084b75b701322c49f0aecda45802a",
     "grade": true,
     "grade_id": "cell-59d01cd695becd74",
     "locked": true,
     "points": 1,
     "schema_version": 3,
     "solution": false,
     "task": false
    }
   },
   "outputs": [],
   "source": [
    "# Task 5 - Test\n",
    "\n",
    "assert isinstance(population, pd.DataFrame), 'Have you created a DataFrame named `population`?'\n",
    "assert len(population) == 59297\n"
   ]
  },
  {
   "cell_type": "markdown",
   "metadata": {
    "id": "9acXXTiEV5uJ"
   },
   "source": [
    "**Task 6** - Load and print the geo country codes data.  \n",
    "\n",
    "* Load the CSV file found at `geo_codes_url` into a DataFrame named `geo_codes`\n"
   ]
  },
  {
   "cell_type": "code",
   "execution_count": null,
   "metadata": {
    "deletable": false,
    "id": "Obm4p8WXV5uJ",
    "nbgrader": {
     "cell_type": "code",
     "checksum": "8247001411ff10e160febf6472e84ce8",
     "grade": false,
     "grade_id": "cell-eb4d290384535503",
     "locked": false,
     "schema_version": 3,
     "solution": true,
     "task": false
    }
   },
   "outputs": [],
   "source": [
    "# Task 6\n",
    "\n",
    "geo_codes_url = 'https://raw.githubusercontent.com/bloominstituteoftechnology/data-science-practice-datasets/main/unit_1/GEO_codes/geo_country_codes.csv'\n",
    "\n",
    "# Load the dataframe and print out the first 5 records\n",
    "\n",
    "# YOUR CODE HERE\n",
    "raise NotImplementedError()"
   ]
  },
  {
   "cell_type": "markdown",
   "metadata": {
    "deletable": false,
    "editable": false,
    "id": "_WR-4MbmV5uK",
    "nbgrader": {
     "cell_type": "markdown",
     "checksum": "a88bbf49e8714b89d0e0fa46c06f2217",
     "grade": false,
     "grade_id": "cell-4a0f7ebd4c9931a7",
     "locked": true,
     "schema_version": 3,
     "solution": false,
     "task": false
    }
   },
   "source": [
    "**Task 6 Test**"
   ]
  },
  {
   "cell_type": "code",
   "execution_count": null,
   "metadata": {
    "deletable": false,
    "editable": false,
    "id": "Z3Tza5NWV5uK",
    "nbgrader": {
     "cell_type": "code",
     "checksum": "6bf7335d2dd565fbef6619579e0ddf59",
     "grade": true,
     "grade_id": "cell-39240405659c0c19",
     "locked": true,
     "points": 1,
     "schema_version": 3,
     "solution": false,
     "task": false
    }
   },
   "outputs": [],
   "source": [
    "# Task 6 - Test\n",
    "\n",
    "assert geo_codes is not None, 'Have you created a DataFrame named `geo_codes`?'\n",
    "assert len(geo_codes) == 273\n"
   ]
  },
  {
   "cell_type": "markdown",
   "metadata": {
    "deletable": false,
    "editable": false,
    "id": "5DbACESjYxpV",
    "nbgrader": {
     "cell_type": "markdown",
     "checksum": "fbbb18f1bcf72e28cfd967ddb3d36732",
     "grade": false,
     "grade_id": "cell-817781e1dc5827c6",
     "locked": true,
     "schema_version": 3,
     "solution": false,
     "task": false
    }
   },
   "source": [
    "**Task 7** - Check for missing values\n",
    "\n",
    "Let's check for missing values in each of these DataFrames: `cell_phones`, `population` and `geo_codes`\n",
    "\n",
    "* Check for missing values in the following DataFrames:\n",
    "    * Assign the total number of missing values in `cell_phones` to the variable `cell_phones_missing`\n",
    "    * Assign the total number of missing values in `population` to the variable `population_missing`\n",
    "    * Assign the total number of missing values in `geo_codes` to the variable `geo_codes_missing` \n",
    "        * Hint: you will need to do a sum of a sum for this last task."
   ]
  },
  {
   "cell_type": "code",
   "execution_count": null,
   "metadata": {
    "deletable": false,
    "id": "SwmSvUySJjXc",
    "nbgrader": {
     "cell_type": "code",
     "checksum": "462f481fe420ad2c37fe5a262dec6816",
     "grade": false,
     "grade_id": "cell-9426cd5765574e07",
     "locked": false,
     "schema_version": 3,
     "solution": true,
     "task": false
    }
   },
   "outputs": [],
   "source": [
    "# Task 7\n",
    "\n",
    "# Check for missing data in each of the DataFrames\n",
    "\n",
    "# YOUR CODE HERE\n",
    "raise NotImplementedError()"
   ]
  },
  {
   "cell_type": "markdown",
   "metadata": {
    "deletable": false,
    "editable": false,
    "id": "cREZV7g0aLGC",
    "nbgrader": {
     "cell_type": "markdown",
     "checksum": "24b8d3d5ff21f6c4cfa3e634f00113aa",
     "grade": false,
     "grade_id": "cell-47ee1692d471f9ea",
     "locked": true,
     "schema_version": 3,
     "solution": false,
     "task": false
    }
   },
   "source": [
    "**Task 7 Test**"
   ]
  },
  {
   "cell_type": "code",
   "execution_count": null,
   "metadata": {
    "deletable": false,
    "editable": false,
    "id": "eaQwM15IaLGD",
    "nbgrader": {
     "cell_type": "code",
     "checksum": "da0a8c532d46ac776b2609e8f439f601",
     "grade": true,
     "grade_id": "cell-cf6ab3b4b1e8afc1",
     "locked": true,
     "points": 1,
     "schema_version": 3,
     "solution": false,
     "task": false
    }
   },
   "outputs": [],
   "source": [
    "# Task 7 - Test\n",
    "\n",
    "if geo_codes_missing == 21: print('ERROR: Make sure to use a sum of a sum for the missing geo codes!')  \n",
    "\n",
    "# Hidden tests - you will see the results when you submit to Canvas"
   ]
  },
  {
   "cell_type": "markdown",
   "metadata": {
    "deletable": false,
    "editable": false,
    "id": "P54itLGveF5p",
    "nbgrader": {
     "cell_type": "markdown",
     "checksum": "c6054c87e1ff95c1767b855e2149568c",
     "grade": false,
     "grade_id": "cell-aad431149f1868a7",
     "locked": true,
     "schema_version": 3,
     "solution": false,
     "task": false
    }
   },
   "source": [
    "**Task 8** - Merge the `cell_phones` and `population` DataFrames.\n",
    "\n",
    "* Merge the `cell_phones` and `population` dataframes with an **inner** merge on both the `geo` and `time` columns.\n",
    "* Call the resulting dataframe `cell_phone_population`"
   ]
  },
  {
   "cell_type": "code",
   "execution_count": null,
   "metadata": {
    "deletable": false,
    "id": "KL_NCL7heF51",
    "nbgrader": {
     "cell_type": "code",
     "checksum": "1ee15cfe45ac7986f9cb323dd1d52fbb",
     "grade": false,
     "grade_id": "cell-decaebaa844aa3a5",
     "locked": false,
     "schema_version": 3,
     "solution": true,
     "task": false
    }
   },
   "outputs": [],
   "source": [
    "# Task 8\n",
    "\n",
    "# Merge the cell_phones and population dataframes\n",
    "\n",
    "# YOUR CODE HERE\n",
    "raise NotImplementedError()"
   ]
  },
  {
   "cell_type": "markdown",
   "metadata": {
    "deletable": false,
    "editable": false,
    "id": "9vFSumbkfqr_",
    "nbgrader": {
     "cell_type": "markdown",
     "checksum": "9daf332b99212b89d3e248fef54079ac",
     "grade": false,
     "grade_id": "cell-00202b83d4d54973",
     "locked": true,
     "schema_version": 3,
     "solution": false,
     "task": false
    }
   },
   "source": [
    "**Task 8 Test**"
   ]
  },
  {
   "cell_type": "code",
   "execution_count": null,
   "metadata": {
    "deletable": false,
    "editable": false,
    "id": "85-p_0UGfkZJ",
    "nbgrader": {
     "cell_type": "code",
     "checksum": "9bd0a79e9049acd8ced9d23b68d54d9a",
     "grade": true,
     "grade_id": "cell-dd2473ea91f15f30",
     "locked": true,
     "points": 1,
     "schema_version": 3,
     "solution": false,
     "task": false
    }
   },
   "outputs": [],
   "source": [
    "# Task 8 - Test\n",
    "\n",
    "assert cell_phone_population is not None, 'Have you merged created a DataFrame named cell_phone_population?'\n",
    "assert len(cell_phone_population) == 8930\n"
   ]
  },
  {
   "cell_type": "markdown",
   "metadata": {
    "deletable": false,
    "editable": false,
    "id": "oByYSkC7hB05",
    "nbgrader": {
     "cell_type": "markdown",
     "checksum": "49df153f02f79995801f03a60b34c838",
     "grade": false,
     "grade_id": "cell-01ad09608fc02d0c",
     "locked": true,
     "schema_version": 3,
     "solution": false,
     "task": false
    }
   },
   "source": [
    "**Task 9** - Merge the `cell_phone_population` and `geo_codes` DataFrames\n",
    "\n",
    "* Merge the `cell_phone_population` and `geo_codes` DataFrames with an inner merge using the `geo` column.\n",
    "* **Only merge the `country` and `geo` columns from the `geo_codes` dataframe.** \n",
    "* Call the resulting DataFrame `geo_cell_phone_population`\n"
   ]
  },
  {
   "cell_type": "code",
   "execution_count": null,
   "metadata": {
    "deletable": false,
    "id": "NcO8-JpQhB1F",
    "nbgrader": {
     "cell_type": "code",
     "checksum": "3450df7dea31e4dee7ceb126a2d07f6a",
     "grade": false,
     "grade_id": "cell-1ce5a2360ee6fd20",
     "locked": false,
     "schema_version": 3,
     "solution": true,
     "task": false
    }
   },
   "outputs": [],
   "source": [
    "# Task 9\n",
    "\n",
    "# Merge the cell_phone_population and geo_codes dataframes\n",
    "# Only include the country and geo columns from geo_codes\n",
    "\n",
    "# YOUR CODE HERE\n",
    "raise NotImplementedError()"
   ]
  },
  {
   "cell_type": "markdown",
   "metadata": {
    "deletable": false,
    "editable": false,
    "id": "zAKDLSV-hB1G",
    "nbgrader": {
     "cell_type": "markdown",
     "checksum": "a5634357f45ca81f6651395a42cc6341",
     "grade": false,
     "grade_id": "cell-935fc7dc053d368e",
     "locked": true,
     "schema_version": 3,
     "solution": false,
     "task": false
    }
   },
   "source": [
    "**Task 9 Test**"
   ]
  },
  {
   "cell_type": "code",
   "execution_count": null,
   "metadata": {
    "deletable": false,
    "editable": false,
    "id": "eQgHSsLihB1G",
    "nbgrader": {
     "cell_type": "code",
     "checksum": "7005259d49844adab8beb565aaf5eed5",
     "grade": true,
     "grade_id": "cell-764d5b72ae382339",
     "locked": true,
     "points": 1,
     "schema_version": 3,
     "solution": false,
     "task": false
    }
   },
   "outputs": [],
   "source": [
    "# Task 9 - Test\n",
    "assert len(geo_cell_phone_population) == 8930\n",
    "assert type(geo_cell_phone_population) == pd.DataFrame\n"
   ]
  },
  {
   "cell_type": "markdown",
   "metadata": {
    "deletable": false,
    "editable": false,
    "id": "-CZF39BWivc2",
    "nbgrader": {
     "cell_type": "markdown",
     "checksum": "2373ace4287e3e77f2e1c4b86d9be106",
     "grade": false,
     "grade_id": "cell-bbacb1043d1c0990",
     "locked": true,
     "schema_version": 3,
     "solution": false,
     "task": false
    }
   },
   "source": [
    "**Task 10** - Calculate the number of cell phones per person.\n",
    "\n",
    "* Use the `cell_phones_total` and `population_total` columns to calculate the number of cell phones per person for every year. (In other words, for every row). \n",
    "* Create a new column: Call this new feature (column) `phones_per_person` and add it to the `geo_cell_phone_population` DataFrame (you'll be adding the column to the DataFrame).\n",
    "\n",
    "*Hint: You can find a refresher on how to create a new column in Module 2 of this sprint.*"
   ]
  },
  {
   "cell_type": "code",
   "execution_count": null,
   "metadata": {
    "deletable": false,
    "id": "vBeXa3LTivdC",
    "nbgrader": {
     "cell_type": "code",
     "checksum": "ca0c58c434dc1be273c34f79f9cdc4db",
     "grade": false,
     "grade_id": "cell-bd0bce2920604643",
     "locked": false,
     "schema_version": 3,
     "solution": true,
     "task": false
    }
   },
   "outputs": [],
   "source": [
    "# Task 10\n",
    "\n",
    "# YOUR CODE HERE\n",
    "raise NotImplementedError()"
   ]
  },
  {
   "cell_type": "markdown",
   "metadata": {
    "id": "4IiDB6f6ivdD"
   },
   "source": [
    "**Task 10 Test**"
   ]
  },
  {
   "cell_type": "code",
   "execution_count": null,
   "metadata": {
    "deletable": false,
    "editable": false,
    "id": "L3UgjCfFivdD",
    "nbgrader": {
     "cell_type": "code",
     "checksum": "2c7a7142a39c84e1d18daa6c160cae60",
     "grade": true,
     "grade_id": "cell-45c955c43e471400",
     "locked": true,
     "points": 1,
     "schema_version": 3,
     "solution": false,
     "task": false
    }
   },
   "outputs": [],
   "source": [
    "# Task 10 - Test\n",
    "\n",
    "# Hidden tests - you will see the results when you submit to Canvas"
   ]
  },
  {
   "cell_type": "markdown",
   "metadata": {
    "id": "b_CZNPZAlw71"
   },
   "source": [
    "**Task 11** - Identify the number of cell phones per person in the US in 2017\n",
    "\n",
    "* Create a one-row subset of `geo_cell_phone_population` with data on cell phone ownership in the United States for the year 2017.\n",
    "* Call this subset DataFrame `US_2017`.\n",
    "* Print `US_2017`."
   ]
  },
  {
   "cell_type": "code",
   "execution_count": null,
   "metadata": {
    "deletable": false,
    "id": "Y0hRRvc1lw8B",
    "nbgrader": {
     "cell_type": "code",
     "checksum": "a0c775ef5f419d97070af229fe40c354",
     "grade": false,
     "grade_id": "cell-665e83d11e594d90",
     "locked": false,
     "schema_version": 3,
     "solution": true,
     "task": false
    }
   },
   "outputs": [],
   "source": [
    "# Task 11\n",
    "\n",
    "# Determine the number of cell phones per person in the US in 2017\n",
    "\n",
    "# YOUR CODE HERE\n",
    "raise NotImplementedError()\n",
    "\n",
    "# View the DataFrame\n",
    "US_2017"
   ]
  },
  {
   "cell_type": "markdown",
   "metadata": {
    "id": "mIDryQfKlw8C"
   },
   "source": [
    "**Task 11 Test**"
   ]
  },
  {
   "cell_type": "code",
   "execution_count": null,
   "metadata": {
    "deletable": false,
    "editable": false,
    "id": "wL0MypzFlw8C",
    "nbgrader": {
     "cell_type": "code",
     "checksum": "912e932a02c4192868d095b526a831e4",
     "grade": true,
     "grade_id": "cell-ea08fdda80cf9731",
     "locked": true,
     "points": 1,
     "schema_version": 3,
     "solution": false,
     "task": false
    }
   },
   "outputs": [],
   "source": [
    "# Task 11 - Test\n",
    "\n",
    "# Hidden tests - you will see the results when you submit to Canvas"
   ]
  },
  {
   "cell_type": "markdown",
   "metadata": {
    "deletable": false,
    "editable": false,
    "id": "HTl_zamAtfJa",
    "nbgrader": {
     "cell_type": "markdown",
     "checksum": "815cb8dd3b19d79fd553f23d9a773b03",
     "grade": false,
     "grade_id": "cell-4acad6efd0ae146c",
     "locked": true,
     "schema_version": 3,
     "solution": false,
     "task": false
    }
   },
   "source": [
    "**Task 12** - Describe the numeric variables in `geo_cell_phone_population`\n",
    "\n",
    "* Calculate the summary statistics for the quantitative variables in `geo_cell_phone_population` using `.describe()`.\n",
    "* Find the mean value for `phones_per_person` and assign it to the variable `mean_phones`. Define your value out to two decimal points.\n"
   ]
  },
  {
   "cell_type": "code",
   "execution_count": null,
   "metadata": {
    "deletable": false,
    "id": "HGKKIqAktfJn",
    "nbgrader": {
     "cell_type": "code",
     "checksum": "8773b60013ce17644af742cd4c6a356d",
     "grade": false,
     "grade_id": "cell-181c9805c52dfda8",
     "locked": false,
     "schema_version": 3,
     "solution": true,
     "task": false
    }
   },
   "outputs": [],
   "source": [
    "# Task 12\n",
    "\n",
    "# YOUR CODE HERE\n",
    "raise NotImplementedError()"
   ]
  },
  {
   "cell_type": "markdown",
   "metadata": {
    "id": "4Nh0qP1ptfJn"
   },
   "source": [
    "**Task 12 Test**"
   ]
  },
  {
   "cell_type": "code",
   "execution_count": null,
   "metadata": {
    "deletable": false,
    "editable": false,
    "id": "cBZg6p1VtfJo",
    "nbgrader": {
     "cell_type": "code",
     "checksum": "012a6f5c818c64f8ed1570906eea15b3",
     "grade": true,
     "grade_id": "cell-0a0cfb1ac7acc279",
     "locked": true,
     "points": 1,
     "schema_version": 3,
     "solution": false,
     "task": false
    }
   },
   "outputs": [],
   "source": [
    "# Task 12 - Test\n",
    "\n",
    "# Hidden tests - you will see the results when you submit to Canvas"
   ]
  },
  {
   "cell_type": "markdown",
   "metadata": {
    "id": "wBQCMGrkw69w"
   },
   "source": [
    "**Task 13** - Subset the DataFrame for 2017\n",
    "\n",
    "* Create a new dataframe called `df2017` that includes **only** records from `geo_cell_phone_population` that ocurred in 2017."
   ]
  },
  {
   "cell_type": "code",
   "execution_count": null,
   "metadata": {
    "deletable": false,
    "id": "_EKPYqW-w698",
    "nbgrader": {
     "cell_type": "code",
     "checksum": "50dd62f311ea30c217ec74206b8b42b9",
     "grade": false,
     "grade_id": "cell-f3fa17e15b5174ac",
     "locked": false,
     "schema_version": 3,
     "solution": true,
     "task": false
    }
   },
   "outputs": [],
   "source": [
    "# Task 13\n",
    "\n",
    "# Create a new dataframe called df2017 that includes only records from geo_cell_phone_population that ocurred in 2017.\n",
    "\n",
    "# YOUR CODE HERE\n",
    "raise NotImplementedError()"
   ]
  },
  {
   "cell_type": "markdown",
   "metadata": {
    "id": "QuLy4qwrw698"
   },
   "source": [
    "**Task 13 Test**"
   ]
  },
  {
   "cell_type": "code",
   "execution_count": null,
   "metadata": {
    "deletable": false,
    "editable": false,
    "id": "S0rU2pGWw698",
    "nbgrader": {
     "cell_type": "code",
     "checksum": "3ec1b21a811f55002c03f4f9f54fcf3e",
     "grade": true,
     "grade_id": "cell-b19a6956b5dddadb",
     "locked": true,
     "points": 1,
     "schema_version": 3,
     "solution": false,
     "task": false
    }
   },
   "outputs": [],
   "source": [
    "# Task 13 - Test\n",
    "\n",
    "# Hidden tests - you will see the results when you submit to Canvas"
   ]
  },
  {
   "cell_type": "markdown",
   "metadata": {
    "id": "Rww_2EpHyd4K"
   },
   "source": [
    "**Task 14** - Identify the five countries with the most cell phones per person in 2017\n",
    "\n",
    "* Sort the `df2017` DataFrame by `phones_per_person` in descending order and assign the result to `df2017_top`. Your new DataFrame should only have **five** rows (Hint: use `.head()` to return only five rows).\n",
    "* Print the first 5 records of `df2017_top`."
   ]
  },
  {
   "cell_type": "code",
   "execution_count": null,
   "metadata": {
    "deletable": false,
    "id": "h6ym9Dwhyd4V",
    "nbgrader": {
     "cell_type": "code",
     "checksum": "7a116d8d8ab46d5494cec232cfc25c12",
     "grade": false,
     "grade_id": "cell-c9b701bfe897edf5",
     "locked": false,
     "schema_version": 3,
     "solution": true,
     "task": false
    }
   },
   "outputs": [],
   "source": [
    "# Task 14\n",
    "\n",
    "# Sort the df2017 dataframe by phones_per_person in descending order\n",
    "# Return only five (5) rows\n",
    "\n",
    "# YOUR CODE HERE\n",
    "raise NotImplementedError()\n",
    "\n",
    "# View the df2017_top DataFrame\n",
    "df2017_top"
   ]
  },
  {
   "cell_type": "markdown",
   "metadata": {
    "id": "7WBox_Axyd4W"
   },
   "source": [
    "**Task 14 Test**"
   ]
  },
  {
   "cell_type": "code",
   "execution_count": null,
   "metadata": {
    "deletable": false,
    "editable": false,
    "id": "ePj-a6rLyd4W",
    "nbgrader": {
     "cell_type": "code",
     "checksum": "7baa090a5b1136f9576ed19a1424a180",
     "grade": true,
     "grade_id": "cell-5f6fffc9db1b9492",
     "locked": true,
     "points": 1,
     "schema_version": 3,
     "solution": false,
     "task": false
    }
   },
   "outputs": [],
   "source": [
    "# Task 14 - Test\n",
    "\n",
    "assert df2017_top.shape == (5,6), 'Make sure you return only five rows'\n"
   ]
  },
  {
   "cell_type": "code",
   "execution_count": null,
   "metadata": {},
   "outputs": [],
   "source": []
  }
 ],
 "metadata": {
  "colab": {
   "collapsed_sections": [],
   "name": "LS_DS_Sprint1_AG.ipynb",
   "provenance": []
  },
  "kernelspec": {
   "display_name": "Python 3",
   "language": "python",
   "name": "python3"
  },
  "language_info": {
   "codemirror_mode": {
    "name": "ipython",
    "version": 3
   },
   "file_extension": ".py",
   "mimetype": "text/x-python",
   "name": "python",
   "nbconvert_exporter": "python",
   "pygments_lexer": "ipython3",
   "version": "3.8.8"
  }
 },
 "nbformat": 4,
 "nbformat_minor": 1
}
