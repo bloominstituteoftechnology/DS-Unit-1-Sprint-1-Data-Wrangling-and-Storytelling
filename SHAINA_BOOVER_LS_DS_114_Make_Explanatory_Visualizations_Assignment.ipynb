{
  "nbformat": 4,
  "nbformat_minor": 0,
  "metadata": {
    "colab": {
      "name": "SHAINA_BOOVER_LS_DS_114_Make_Explanatory_Visualizations_Assignment.ipynb",
      "provenance": [],
      "collapsed_sections": [],
      "include_colab_link": true
    },
    "language_info": {
      "codemirror_mode": {
        "name": "ipython",
        "version": 3
      },
      "file_extension": ".py",
      "mimetype": "text/x-python",
      "name": "python",
      "nbconvert_exporter": "python",
      "pygments_lexer": "ipython3",
      "version": "3.7.1"
    },
    "kernelspec": {
      "display_name": "Python 3",
      "language": "python",
      "name": "python3"
    }
  },
  "cells": [
    {
      "cell_type": "markdown",
      "metadata": {
        "id": "view-in-github",
        "colab_type": "text"
      },
      "source": [
        "<a href=\"https://colab.research.google.com/github/shainaboover/DS-Unit-1-Sprint-1-Data-Wrangling-and-Storytelling/blob/master/SHAINA_BOOVER_LS_DS_114_Make_Explanatory_Visualizations_Assignment.ipynb\" target=\"_parent\"><img src=\"https://colab.research.google.com/assets/colab-badge.svg\" alt=\"Open In Colab\"/></a>"
      ]
    },
    {
      "cell_type": "markdown",
      "metadata": {
        "colab_type": "text",
        "id": "NMEswXWh9mqw"
      },
      "source": [
        "Lambda School Data Science\n",
        "\n",
        "*Unit 1, Sprint 1, Module 4*\n",
        "\n",
        "---\n",
        "\n",
        "# ASSIGNMENT\n",
        "\n",
        "### 1) Replicate the lesson code. I recommend that you [do not copy-paste](https://docs.google.com/document/d/1ubOw9B3Hfip27hF2ZFnW3a3z9xAgrUDRReOEo-FHCVs/edit).\n",
        "\n",
        "Get caught up to where we got our example in class and then try and take things further. How close to \"pixel perfect\" can you make the lecture graph?\n",
        "\n",
        "Once you have something that you're proud of, share your graph in the cohort channel and move on to the second exercise.\n",
        "\n",
        "### 2) Reproduce another example from [FiveThityEight's shared data repository](https://data.fivethirtyeight.com/).\n",
        "\n",
        "**WARNING**: There are a lot of very custom graphs and tables at the above link. I **highly** recommend not trying to reproduce any that look like a table of values or something really different from the graph types that we are already familiar with. Search through the posts until you find a graph type that you are more or less familiar with: histogram, bar chart, stacked bar chart, line chart, [seaborn relplot](https://seaborn.pydata.org/generated/seaborn.relplot.html), etc. Recreating some of the graphics that 538 uses would be a lot easier in Adobe photoshop/illustrator than with matplotlib. \n",
        "\n",
        "- If you put in some time to find a graph that looks \"easy\" to replicate you'll probably find that it's not as easy as you thought. \n",
        "\n",
        "- If you start with a graph that looks hard to replicate you'll probably run up against a brick wall and be disappointed with your afternoon.\n",
        "\n",
        "\n",
        "\n",
        "\n",
        "\n",
        "\n",
        "\n",
        "\n",
        "\n",
        "\n"
      ]
    },
    {
      "cell_type": "code",
      "metadata": {
        "id": "7SY1ZHawyZvz",
        "colab_type": "code",
        "colab": {}
      },
      "source": [
        "import pandas as pd\n",
        "import numpy as np\n",
        "import seaborn as sns\n",
        "import matplotlib.pyplot as plt"
      ],
      "execution_count": 0,
      "outputs": []
    },
    {
      "cell_type": "code",
      "metadata": {
        "id": "P57v3qgE-OVW",
        "colab_type": "code",
        "colab": {
          "base_uri": "https://localhost:8080/",
          "height": 459
        },
        "outputId": "83821131-0f6d-4ae1-9de3-71575e0841c5"
      },
      "source": [
        "# look at plot styles you can use. default is 'fast'\n",
        "plt.style.available"
      ],
      "execution_count": 41,
      "outputs": [
        {
          "output_type": "execute_result",
          "data": {
            "text/plain": [
              "['Solarize_Light2',\n",
              " '_classic_test_patch',\n",
              " 'bmh',\n",
              " 'classic',\n",
              " 'dark_background',\n",
              " 'fast',\n",
              " 'fivethirtyeight',\n",
              " 'ggplot',\n",
              " 'grayscale',\n",
              " 'seaborn',\n",
              " 'seaborn-bright',\n",
              " 'seaborn-colorblind',\n",
              " 'seaborn-dark',\n",
              " 'seaborn-dark-palette',\n",
              " 'seaborn-darkgrid',\n",
              " 'seaborn-deep',\n",
              " 'seaborn-muted',\n",
              " 'seaborn-notebook',\n",
              " 'seaborn-paper',\n",
              " 'seaborn-pastel',\n",
              " 'seaborn-poster',\n",
              " 'seaborn-talk',\n",
              " 'seaborn-ticks',\n",
              " 'seaborn-white',\n",
              " 'seaborn-whitegrid',\n",
              " 'tableau-colorblind10']"
            ]
          },
          "metadata": {
            "tags": []
          },
          "execution_count": 41
        }
      ]
    },
    {
      "cell_type": "code",
      "metadata": {
        "id": "mXhK0YLV-OYA",
        "colab_type": "code",
        "colab": {
          "base_uri": "https://localhost:8080/",
          "height": 142
        },
        "outputId": "0e467b69-3e69-4318-f9a2-d526512c1790"
      },
      "source": [
        "# read in dataset. OBJECTIVE is to create the best possible plot \n",
        "# to show relation between fare, age, and cabin class\n",
        "url = 'https://raw.githubusercontent.com/austinlasseter/pandas_visualization/master/data/titanic.csv'\n",
        "titanic = pd.read_csv(url)\n",
        "titanic.head(3)"
      ],
      "execution_count": 42,
      "outputs": [
        {
          "output_type": "execute_result",
          "data": {
            "text/html": [
              "<div>\n",
              "<style scoped>\n",
              "    .dataframe tbody tr th:only-of-type {\n",
              "        vertical-align: middle;\n",
              "    }\n",
              "\n",
              "    .dataframe tbody tr th {\n",
              "        vertical-align: top;\n",
              "    }\n",
              "\n",
              "    .dataframe thead th {\n",
              "        text-align: right;\n",
              "    }\n",
              "</style>\n",
              "<table border=\"1\" class=\"dataframe\">\n",
              "  <thead>\n",
              "    <tr style=\"text-align: right;\">\n",
              "      <th></th>\n",
              "      <th>Survived</th>\n",
              "      <th>Pclass</th>\n",
              "      <th>Sex</th>\n",
              "      <th>Age</th>\n",
              "      <th>Fare</th>\n",
              "      <th>Embarked</th>\n",
              "    </tr>\n",
              "  </thead>\n",
              "  <tbody>\n",
              "    <tr>\n",
              "      <th>0</th>\n",
              "      <td>0</td>\n",
              "      <td>3</td>\n",
              "      <td>male</td>\n",
              "      <td>22.0</td>\n",
              "      <td>7.2500</td>\n",
              "      <td>Southampton</td>\n",
              "    </tr>\n",
              "    <tr>\n",
              "      <th>1</th>\n",
              "      <td>1</td>\n",
              "      <td>1</td>\n",
              "      <td>female</td>\n",
              "      <td>38.0</td>\n",
              "      <td>71.2833</td>\n",
              "      <td>Cherbourg</td>\n",
              "    </tr>\n",
              "    <tr>\n",
              "      <th>2</th>\n",
              "      <td>1</td>\n",
              "      <td>3</td>\n",
              "      <td>female</td>\n",
              "      <td>26.0</td>\n",
              "      <td>7.9250</td>\n",
              "      <td>Southampton</td>\n",
              "    </tr>\n",
              "  </tbody>\n",
              "</table>\n",
              "</div>"
            ],
            "text/plain": [
              "   Survived  Pclass     Sex   Age     Fare     Embarked\n",
              "0         0       3    male  22.0   7.2500  Southampton\n",
              "1         1       1  female  38.0  71.2833    Cherbourg\n",
              "2         1       3  female  26.0   7.9250  Southampton"
            ]
          },
          "metadata": {
            "tags": []
          },
          "execution_count": 42
        }
      ]
    },
    {
      "cell_type": "code",
      "metadata": {
        "id": "zvr1zQBI-Oac",
        "colab_type": "code",
        "colab": {
          "base_uri": "https://localhost:8080/",
          "height": 85
        },
        "outputId": "9811727d-6c4e-456a-cad4-9db5b0b4467e"
      },
      "source": [
        "# how would you convert some of these variables into plots\n",
        "# cabin class is catergorical. it can be displayed as integer or string values\n",
        "titanic['Pclass'].value_counts().sort_index()"
      ],
      "execution_count": 43,
      "outputs": [
        {
          "output_type": "execute_result",
          "data": {
            "text/plain": [
              "1    184\n",
              "2    173\n",
              "3    355\n",
              "Name: Pclass, dtype: int64"
            ]
          },
          "metadata": {
            "tags": []
          },
          "execution_count": 43
        }
      ]
    },
    {
      "cell_type": "code",
      "metadata": {
        "id": "YfiZuC74-Ocq",
        "colab_type": "code",
        "colab": {
          "base_uri": "https://localhost:8080/",
          "height": 142
        },
        "outputId": "ee411f48-fef0-4934-cfe3-e8a19c8fd4c1"
      },
      "source": [
        "# convert to string categories\n",
        "titanic['cabin_class'] = titanic['Pclass'].map({1:'first', 2:'second', 3:'third'})\n",
        "titanic.sample(3)"
      ],
      "execution_count": 44,
      "outputs": [
        {
          "output_type": "execute_result",
          "data": {
            "text/html": [
              "<div>\n",
              "<style scoped>\n",
              "    .dataframe tbody tr th:only-of-type {\n",
              "        vertical-align: middle;\n",
              "    }\n",
              "\n",
              "    .dataframe tbody tr th {\n",
              "        vertical-align: top;\n",
              "    }\n",
              "\n",
              "    .dataframe thead th {\n",
              "        text-align: right;\n",
              "    }\n",
              "</style>\n",
              "<table border=\"1\" class=\"dataframe\">\n",
              "  <thead>\n",
              "    <tr style=\"text-align: right;\">\n",
              "      <th></th>\n",
              "      <th>Survived</th>\n",
              "      <th>Pclass</th>\n",
              "      <th>Sex</th>\n",
              "      <th>Age</th>\n",
              "      <th>Fare</th>\n",
              "      <th>Embarked</th>\n",
              "      <th>cabin_class</th>\n",
              "    </tr>\n",
              "  </thead>\n",
              "  <tbody>\n",
              "    <tr>\n",
              "      <th>270</th>\n",
              "      <td>1</td>\n",
              "      <td>3</td>\n",
              "      <td>male</td>\n",
              "      <td>45.0</td>\n",
              "      <td>8.050</td>\n",
              "      <td>Southampton</td>\n",
              "      <td>third</td>\n",
              "    </tr>\n",
              "    <tr>\n",
              "      <th>431</th>\n",
              "      <td>0</td>\n",
              "      <td>1</td>\n",
              "      <td>male</td>\n",
              "      <td>50.0</td>\n",
              "      <td>106.425</td>\n",
              "      <td>Cherbourg</td>\n",
              "      <td>first</td>\n",
              "    </tr>\n",
              "    <tr>\n",
              "      <th>142</th>\n",
              "      <td>0</td>\n",
              "      <td>2</td>\n",
              "      <td>male</td>\n",
              "      <td>30.0</td>\n",
              "      <td>13.000</td>\n",
              "      <td>Southampton</td>\n",
              "      <td>second</td>\n",
              "    </tr>\n",
              "  </tbody>\n",
              "</table>\n",
              "</div>"
            ],
            "text/plain": [
              "     Survived  Pclass   Sex   Age     Fare     Embarked cabin_class\n",
              "270         1       3  male  45.0    8.050  Southampton       third\n",
              "431         0       1  male  50.0  106.425    Cherbourg       first\n",
              "142         0       2  male  30.0   13.000  Southampton      second"
            ]
          },
          "metadata": {
            "tags": []
          },
          "execution_count": 44
        }
      ]
    },
    {
      "cell_type": "code",
      "metadata": {
        "id": "6fuV766h-OfP",
        "colab_type": "code",
        "colab": {
          "base_uri": "https://localhost:8080/",
          "height": 264
        },
        "outputId": "653d3e74-be2c-4726-8b4c-de3e0e773f7b"
      },
      "source": [
        "# fare is continuois variable, so we can display as histogram\n",
        "# titanic['Fare'].value_counts().head(5)\n",
        "titanic['Fare'].plot(kind='hist');"
      ],
      "execution_count": 45,
      "outputs": [
        {
          "output_type": "display_data",
          "data": {
            "image/png": "[encoded data removed]",
            "text/plain": [
              "<Figure size 432x288 with 1 Axes>"
            ]
          },
          "metadata": {
            "tags": []
          }
        }
      ]
    },
    {
      "cell_type": "code",
      "metadata": {
        "id": "Xi_4_yqA-Ohq",
        "colab_type": "code",
        "colab": {
          "base_uri": "https://localhost:8080/",
          "height": 297
        },
        "outputId": "c5952c23-ad48-4c6e-ba44-f1c62e84df28"
      },
      "source": [
        "# the outliers are skewing the data, remove them\n",
        "titanic.describe()"
      ],
      "execution_count": 46,
      "outputs": [
        {
          "output_type": "execute_result",
          "data": {
            "text/html": [
              "<div>\n",
              "<style scoped>\n",
              "    .dataframe tbody tr th:only-of-type {\n",
              "        vertical-align: middle;\n",
              "    }\n",
              "\n",
              "    .dataframe tbody tr th {\n",
              "        vertical-align: top;\n",
              "    }\n",
              "\n",
              "    .dataframe thead th {\n",
              "        text-align: right;\n",
              "    }\n",
              "</style>\n",
              "<table border=\"1\" class=\"dataframe\">\n",
              "  <thead>\n",
              "    <tr style=\"text-align: right;\">\n",
              "      <th></th>\n",
              "      <th>Survived</th>\n",
              "      <th>Pclass</th>\n",
              "      <th>Age</th>\n",
              "      <th>Fare</th>\n",
              "    </tr>\n",
              "  </thead>\n",
              "  <tbody>\n",
              "    <tr>\n",
              "      <th>count</th>\n",
              "      <td>712.000000</td>\n",
              "      <td>712.000000</td>\n",
              "      <td>712.000000</td>\n",
              "      <td>712.000000</td>\n",
              "    </tr>\n",
              "    <tr>\n",
              "      <th>mean</th>\n",
              "      <td>0.404494</td>\n",
              "      <td>2.240169</td>\n",
              "      <td>29.642093</td>\n",
              "      <td>34.567251</td>\n",
              "    </tr>\n",
              "    <tr>\n",
              "      <th>std</th>\n",
              "      <td>0.491139</td>\n",
              "      <td>0.836854</td>\n",
              "      <td>14.492933</td>\n",
              "      <td>52.938648</td>\n",
              "    </tr>\n",
              "    <tr>\n",
              "      <th>min</th>\n",
              "      <td>0.000000</td>\n",
              "      <td>1.000000</td>\n",
              "      <td>0.420000</td>\n",
              "      <td>0.000000</td>\n",
              "    </tr>\n",
              "    <tr>\n",
              "      <th>25%</th>\n",
              "      <td>0.000000</td>\n",
              "      <td>1.000000</td>\n",
              "      <td>20.000000</td>\n",
              "      <td>8.050000</td>\n",
              "    </tr>\n",
              "    <tr>\n",
              "      <th>50%</th>\n",
              "      <td>0.000000</td>\n",
              "      <td>2.000000</td>\n",
              "      <td>28.000000</td>\n",
              "      <td>15.645850</td>\n",
              "    </tr>\n",
              "    <tr>\n",
              "      <th>75%</th>\n",
              "      <td>1.000000</td>\n",
              "      <td>3.000000</td>\n",
              "      <td>38.000000</td>\n",
              "      <td>33.000000</td>\n",
              "    </tr>\n",
              "    <tr>\n",
              "      <th>max</th>\n",
              "      <td>1.000000</td>\n",
              "      <td>3.000000</td>\n",
              "      <td>80.000000</td>\n",
              "      <td>512.329200</td>\n",
              "    </tr>\n",
              "  </tbody>\n",
              "</table>\n",
              "</div>"
            ],
            "text/plain": [
              "         Survived      Pclass         Age        Fare\n",
              "count  712.000000  712.000000  712.000000  712.000000\n",
              "mean     0.404494    2.240169   29.642093   34.567251\n",
              "std      0.491139    0.836854   14.492933   52.938648\n",
              "min      0.000000    1.000000    0.420000    0.000000\n",
              "25%      0.000000    1.000000   20.000000    8.050000\n",
              "50%      0.000000    2.000000   28.000000   15.645850\n",
              "75%      1.000000    3.000000   38.000000   33.000000\n",
              "max      1.000000    3.000000   80.000000  512.329200"
            ]
          },
          "metadata": {
            "tags": []
          },
          "execution_count": 46
        }
      ]
    },
    {
      "cell_type": "code",
      "metadata": {
        "id": "rn30k_4e-OkP",
        "colab_type": "code",
        "colab": {
          "base_uri": "https://localhost:8080/",
          "height": 51
        },
        "outputId": "2e5eb45e-0cb3-4bbf-eca6-b00c258b792f"
      },
      "source": [
        "# print shape before and after to see the difference\n",
        "print(titanic.shape)\n",
        "titanic = titanic[titanic['Fare']<500]\n",
        "print(titanic.shape)"
      ],
      "execution_count": 47,
      "outputs": [
        {
          "output_type": "stream",
          "text": [
            "(712, 7)\n",
            "(709, 7)\n"
          ],
          "name": "stdout"
        }
      ]
    },
    {
      "cell_type": "code",
      "metadata": {
        "id": "6iYh4pac-OmU",
        "colab_type": "code",
        "colab": {
          "base_uri": "https://localhost:8080/",
          "height": 262
        },
        "outputId": "07871de1-6c91-49b4-f747-37d554ba1aa2"
      },
      "source": [
        "# now histogram will display better\n",
        "# add in a color!\n",
        "# add bins for finer grain \n",
        "titanic['Fare'].plot(kind='hist', color='purple', bins=25);"
      ],
      "execution_count": 48,
      "outputs": [
        {
          "output_type": "display_data",
          "data": {
            "image/png": "[encoded data removed]",
            "text/plain": [
              "<Figure size 432x288 with 1 Axes>"
            ]
          },
          "metadata": {
            "tags": []
          }
        }
      ]
    },
    {
      "cell_type": "code",
      "metadata": {
        "id": "HAIdZbScECtc",
        "colab_type": "code",
        "colab": {
          "base_uri": "https://localhost:8080/",
          "height": 170
        },
        "outputId": "8cfeb579-91fd-4d2d-adf7-dacd345461b3"
      },
      "source": [
        "# you can use quartiles to choose cut points for binning\n",
        "titanic['Fare'].describe()"
      ],
      "execution_count": 49,
      "outputs": [
        {
          "output_type": "execute_result",
          "data": {
            "text/plain": [
              "count    709.000000\n",
              "mean      32.545692\n",
              "std       42.931277\n",
              "min        0.000000\n",
              "25%        8.050000\n",
              "50%       15.500000\n",
              "75%       32.320800\n",
              "max      263.000000\n",
              "Name: Fare, dtype: float64"
            ]
          },
          "metadata": {
            "tags": []
          },
          "execution_count": 49
        }
      ]
    },
    {
      "cell_type": "code",
      "metadata": {
        "id": "MBaHPR80-Oo5",
        "colab_type": "code",
        "colab": {
          "base_uri": "https://localhost:8080/",
          "height": 204
        },
        "outputId": "e07abae7-cdc6-4cb4-dc62-2487490c7431"
      },
      "source": [
        "# convert contiuous variable to categorical so you can bin it\n",
        "# name your bins using labels\n",
        "farelabels = ['low', 'medium', 'high', 'vhigh']\n",
        "titanic['fare_groups'] = pd.cut(titanic['Fare'], bins=[0,8,15,32,300], labels=farelabels)\n",
        "titanic[['Fare', 'fare_groups']].head()"
      ],
      "execution_count": 50,
      "outputs": [
        {
          "output_type": "execute_result",
          "data": {
            "text/html": [
              "<div>\n",
              "<style scoped>\n",
              "    .dataframe tbody tr th:only-of-type {\n",
              "        vertical-align: middle;\n",
              "    }\n",
              "\n",
              "    .dataframe tbody tr th {\n",
              "        vertical-align: top;\n",
              "    }\n",
              "\n",
              "    .dataframe thead th {\n",
              "        text-align: right;\n",
              "    }\n",
              "</style>\n",
              "<table border=\"1\" class=\"dataframe\">\n",
              "  <thead>\n",
              "    <tr style=\"text-align: right;\">\n",
              "      <th></th>\n",
              "      <th>Fare</th>\n",
              "      <th>fare_groups</th>\n",
              "    </tr>\n",
              "  </thead>\n",
              "  <tbody>\n",
              "    <tr>\n",
              "      <th>0</th>\n",
              "      <td>7.2500</td>\n",
              "      <td>low</td>\n",
              "    </tr>\n",
              "    <tr>\n",
              "      <th>1</th>\n",
              "      <td>71.2833</td>\n",
              "      <td>vhigh</td>\n",
              "    </tr>\n",
              "    <tr>\n",
              "      <th>2</th>\n",
              "      <td>7.9250</td>\n",
              "      <td>low</td>\n",
              "    </tr>\n",
              "    <tr>\n",
              "      <th>3</th>\n",
              "      <td>53.1000</td>\n",
              "      <td>vhigh</td>\n",
              "    </tr>\n",
              "    <tr>\n",
              "      <th>4</th>\n",
              "      <td>8.0500</td>\n",
              "      <td>medium</td>\n",
              "    </tr>\n",
              "  </tbody>\n",
              "</table>\n",
              "</div>"
            ],
            "text/plain": [
              "      Fare fare_groups\n",
              "0   7.2500         low\n",
              "1  71.2833       vhigh\n",
              "2   7.9250         low\n",
              "3  53.1000       vhigh\n",
              "4   8.0500      medium"
            ]
          },
          "metadata": {
            "tags": []
          },
          "execution_count": 50
        }
      ]
    },
    {
      "cell_type": "code",
      "metadata": {
        "id": "TkocPIf3CYR1",
        "colab_type": "code",
        "colab": {}
      },
      "source": [
        "# check it out\n",
        "# groups are close in size b/c we cut it on quartile\n",
        "fare_results = titanic['fare_groups'].value_counts().sort_index()"
      ],
      "execution_count": 0,
      "outputs": []
    },
    {
      "cell_type": "code",
      "metadata": {
        "id": "qW2xwEADCYUg",
        "colab_type": "code",
        "colab": {
          "base_uri": "https://localhost:8080/",
          "height": 287
        },
        "outputId": "0ba0a225-2135-4226-f02c-1735eecab57d"
      },
      "source": [
        "# display it, throw some color in there\n",
        "fare_results.plot(kind='bar', color='green');"
      ],
      "execution_count": 52,
      "outputs": [
        {
          "output_type": "display_data",
          "data": {
            "image/png": "[encoded data removed]",
            "text/plain": [
              "<Figure size 432x288 with 1 Axes>"
            ]
          },
          "metadata": {
            "tags": []
          }
        }
      ]
    },
    {
      "cell_type": "code",
      "metadata": {
        "id": "KKc_0z4kCYWt",
        "colab_type": "code",
        "colab": {
          "base_uri": "https://localhost:8080/",
          "height": 256
        },
        "outputId": "704d3ba1-4919-4706-b7ee-c576c33420a1"
      },
      "source": [
        "# histogram \n",
        "# think of figsize as arbitrary display units in matpltlib\n",
        "titanic['Age'].plot(kind='hist', bins=25, figsize=(16,4), color='deeppink');"
      ],
      "execution_count": 53,
      "outputs": [
        {
          "output_type": "display_data",
          "data": {
            "image/png": "[encoded data removed]",
            "text/plain": [
              "<Figure size 1152x288 with 1 Axes>"
            ]
          },
          "metadata": {
            "tags": []
          }
        }
      ]
    },
    {
      "cell_type": "code",
      "metadata": {
        "id": "H36T79gKCYY7",
        "colab_type": "code",
        "colab": {
          "base_uri": "https://localhost:8080/",
          "height": 256
        },
        "outputId": "3de26be8-180f-4f84-99d7-5b9f820c30e6"
      },
      "source": [
        "# you can stack variables on a histogram\n",
        "# create subcategories by filtering dataset\n",
        "titanic[titanic['Pclass']==1]['Age'].plot(kind='hist', bins=25, figsize=(16,4), color='mediumpurple');"
      ],
      "execution_count": 54,
      "outputs": [
        {
          "output_type": "display_data",
          "data": {
            "image/png": "[encoded data removed]",
            "text/plain": [
              "<Figure size 1152x288 with 1 Axes>"
            ]
          },
          "metadata": {
            "tags": []
          }
        }
      ]
    },
    {
      "cell_type": "code",
      "metadata": {
        "id": "dhlmnwv3CYbY",
        "colab_type": "code",
        "colab": {
          "base_uri": "https://localhost:8080/",
          "height": 256
        },
        "outputId": "3dd7b421-0c83-48d8-c140-23f23888d541"
      },
      "source": [
        "# pull out another variable\n",
        "titanic[titanic['Pclass']==3]['Age'].plot(kind='hist', bins=25, figsize=(16,4), color='tomato');"
      ],
      "execution_count": 55,
      "outputs": [
        {
          "output_type": "display_data",
          "data": {
            "image/png": "[encoded data removed]",
            "text/plain": [
              "<Figure size 1152x288 with 1 Axes>"
            ]
          },
          "metadata": {
            "tags": []
          }
        }
      ]
    },
    {
      "cell_type": "code",
      "metadata": {
        "id": "o0VR_YQ0CYdi",
        "colab_type": "code",
        "colab": {
          "base_uri": "https://localhost:8080/",
          "height": 256
        },
        "outputId": "07a2bcf1-5b13-46a5-cf30-ec260b9220a8"
      },
      "source": [
        "# you can stack these by putting them in same cell\n",
        "# alpha changes transparency\n",
        "titanic[titanic['Pclass']==1]['Age'].plot(kind='hist', bins=25, figsize=(16,4), color='skyblue', alpha=0.5);\n",
        "titanic[titanic['Pclass']==2]['Age'].plot(kind='hist', bins=25, figsize=(16,4), color='darkorchid', alpha=0.5);\n",
        "titanic[titanic['Pclass']==3]['Age'].plot(kind='hist', bins=25, figsize=(16,4), color='tomato', alpha=0.5);"
      ],
      "execution_count": 56,
      "outputs": [
        {
          "output_type": "display_data",
          "data": {
            "image/png": "[encoded data removed]",
            "text/plain": [
              "<Figure size 1152x288 with 1 Axes>"
            ]
          },
          "metadata": {
            "tags": []
          }
        }
      ]
    },
    {
      "cell_type": "code",
      "metadata": {
        "id": "v33Im1zFCYfj",
        "colab_type": "code",
        "colab": {
          "base_uri": "https://localhost:8080/",
          "height": 253
        },
        "outputId": "9bc30998-5b67-4066-b60e-5ac8c0cbacd8"
      },
      "source": [
        "# Kernel Density Estimate or KDE is an easier way to read this data\n",
        "# xlim removes added tails\n",
        "titanic[titanic['Pclass']==1]['Age'].plot(kind='density', figsize=(16,4), color='darkblue', xlim=(-5,85));\n",
        "titanic[titanic['Pclass']==2]['Age'].plot(kind='density', figsize=(16,4), color='firebrick', xlim=(-5,85));\n",
        "titanic[titanic['Pclass']==3]['Age'].plot(kind='density', figsize=(16,4), color='orange', xlim=(-5,85));"
      ],
      "execution_count": 57,
      "outputs": [
        {
          "output_type": "display_data",
          "data": {
            "image/png": "[encoded data removed]",
            "text/plain": [
              "<Figure size 1152x288 with 1 Axes>"
            ]
          },
          "metadata": {
            "tags": []
          }
        }
      ]
    },
    {
      "cell_type": "code",
      "metadata": {
        "id": "bMCVB1F6CYhq",
        "colab_type": "code",
        "colab": {
          "base_uri": "https://localhost:8080/",
          "height": 287
        },
        "outputId": "71ef9213-be79-489f-83e3-f8c5006589c7"
      },
      "source": [
        "# display a single categorical variable\n",
        "# make a value pop with color\n",
        "titanic['fare_groups'].value_counts().sort_index().plot(kind='bar', color=['darkblue', 'darkblue', 'coral', 'darkblue']);"
      ],
      "execution_count": 58,
      "outputs": [
        {
          "output_type": "display_data",
          "data": {
            "image/png": "[encoded data removed]",
            "text/plain": [
              "<Figure size 432x288 with 1 Axes>"
            ]
          },
          "metadata": {
            "tags": []
          }
        }
      ]
    },
    {
      "cell_type": "code",
      "metadata": {
        "id": "mbdsOVRd-Ore",
        "colab_type": "code",
        "colab": {
          "base_uri": "https://localhost:8080/",
          "height": 248
        },
        "outputId": "22943816-c93a-4c91-8014-ba7f7b8fd814"
      },
      "source": [
        "# pie charts are difficult to interpret\n",
        "# be carful how you use these\n",
        "titanic['fare_groups'].value_counts().sort_index().plot(kind='pie', figsize=(4,4));"
      ],
      "execution_count": 59,
      "outputs": [
        {
          "output_type": "display_data",
          "data": {
            "image/png": "[encoded data removed]",
            "text/plain": [
              "<Figure size 288x288 with 1 Axes>"
            ]
          },
          "metadata": {
            "tags": []
          }
        }
      ]
    },
    {
      "cell_type": "code",
      "metadata": {
        "id": "ygAoKn8c-OuA",
        "colab_type": "code",
        "colab": {
          "base_uri": "https://localhost:8080/",
          "height": 173
        },
        "outputId": "a132e824-e0b0-43aa-f9c2-3350620273d0"
      },
      "source": [
        "# how to compare two categorical variables\n",
        "cab_death = pd.crosstab(titanic['cabin_class'], titanic['Survived'])\n",
        "cab_death"
      ],
      "execution_count": 60,
      "outputs": [
        {
          "output_type": "execute_result",
          "data": {
            "text/html": [
              "<div>\n",
              "<style scoped>\n",
              "    .dataframe tbody tr th:only-of-type {\n",
              "        vertical-align: middle;\n",
              "    }\n",
              "\n",
              "    .dataframe tbody tr th {\n",
              "        vertical-align: top;\n",
              "    }\n",
              "\n",
              "    .dataframe thead th {\n",
              "        text-align: right;\n",
              "    }\n",
              "</style>\n",
              "<table border=\"1\" class=\"dataframe\">\n",
              "  <thead>\n",
              "    <tr style=\"text-align: right;\">\n",
              "      <th>Survived</th>\n",
              "      <th>0</th>\n",
              "      <th>1</th>\n",
              "    </tr>\n",
              "    <tr>\n",
              "      <th>cabin_class</th>\n",
              "      <th></th>\n",
              "      <th></th>\n",
              "    </tr>\n",
              "  </thead>\n",
              "  <tbody>\n",
              "    <tr>\n",
              "      <th>first</th>\n",
              "      <td>64</td>\n",
              "      <td>117</td>\n",
              "    </tr>\n",
              "    <tr>\n",
              "      <th>second</th>\n",
              "      <td>90</td>\n",
              "      <td>83</td>\n",
              "    </tr>\n",
              "    <tr>\n",
              "      <th>third</th>\n",
              "      <td>270</td>\n",
              "      <td>85</td>\n",
              "    </tr>\n",
              "  </tbody>\n",
              "</table>\n",
              "</div>"
            ],
            "text/plain": [
              "Survived       0    1\n",
              "cabin_class          \n",
              "first         64  117\n",
              "second        90   83\n",
              "third        270   85"
            ]
          },
          "metadata": {
            "tags": []
          },
          "execution_count": 60
        }
      ]
    },
    {
      "cell_type": "code",
      "metadata": {
        "id": "d3lKutne-Oyq",
        "colab_type": "code",
        "colab": {
          "base_uri": "https://localhost:8080/",
          "height": 298
        },
        "outputId": "5e882877-1435-42dd-e1d3-2b66e6ce2bca"
      },
      "source": [
        "cab_death.plot(kind='bar');"
      ],
      "execution_count": 61,
      "outputs": [
        {
          "output_type": "display_data",
          "data": {
            "image/png": "[encoded data removed]",
            "text/plain": [
              "<Figure size 432x288 with 1 Axes>"
            ]
          },
          "metadata": {
            "tags": []
          }
        }
      ]
    },
    {
      "cell_type": "code",
      "metadata": {
        "id": "VQo26j82-O1c",
        "colab_type": "code",
        "colab": {
          "base_uri": "https://localhost:8080/",
          "height": 173
        },
        "outputId": "f22a331f-90fd-46b9-9f63-7da7b1d8f27f"
      },
      "source": [
        "# you can think of normalize as taking a percentage of index or columns values\n",
        "cab_death1 = pd.crosstab(titanic['cabin_class'], titanic['Survived'], normalize='columns')\n",
        "cab_death1"
      ],
      "execution_count": 62,
      "outputs": [
        {
          "output_type": "execute_result",
          "data": {
            "text/html": [
              "<div>\n",
              "<style scoped>\n",
              "    .dataframe tbody tr th:only-of-type {\n",
              "        vertical-align: middle;\n",
              "    }\n",
              "\n",
              "    .dataframe tbody tr th {\n",
              "        vertical-align: top;\n",
              "    }\n",
              "\n",
              "    .dataframe thead th {\n",
              "        text-align: right;\n",
              "    }\n",
              "</style>\n",
              "<table border=\"1\" class=\"dataframe\">\n",
              "  <thead>\n",
              "    <tr style=\"text-align: right;\">\n",
              "      <th>Survived</th>\n",
              "      <th>0</th>\n",
              "      <th>1</th>\n",
              "    </tr>\n",
              "    <tr>\n",
              "      <th>cabin_class</th>\n",
              "      <th></th>\n",
              "      <th></th>\n",
              "    </tr>\n",
              "  </thead>\n",
              "  <tbody>\n",
              "    <tr>\n",
              "      <th>first</th>\n",
              "      <td>0.150943</td>\n",
              "      <td>0.410526</td>\n",
              "    </tr>\n",
              "    <tr>\n",
              "      <th>second</th>\n",
              "      <td>0.212264</td>\n",
              "      <td>0.291228</td>\n",
              "    </tr>\n",
              "    <tr>\n",
              "      <th>third</th>\n",
              "      <td>0.636792</td>\n",
              "      <td>0.298246</td>\n",
              "    </tr>\n",
              "  </tbody>\n",
              "</table>\n",
              "</div>"
            ],
            "text/plain": [
              "Survived            0         1\n",
              "cabin_class                    \n",
              "first        0.150943  0.410526\n",
              "second       0.212264  0.291228\n",
              "third        0.636792  0.298246"
            ]
          },
          "metadata": {
            "tags": []
          },
          "execution_count": 62
        }
      ]
    },
    {
      "cell_type": "code",
      "metadata": {
        "id": "V-qex1Jd-O4R",
        "colab_type": "code",
        "colab": {
          "base_uri": "https://localhost:8080/",
          "height": 298
        },
        "outputId": "0cfbb673-0642-4f93-ad3f-646591e1de76"
      },
      "source": [
        "# make a stacked bar chart for easy comparison between two categorical values\n",
        "cab_death1.plot(kind='bar', stacked=True, color=['cornflowerblue', 'lightblue']);"
      ],
      "execution_count": 63,
      "outputs": [
        {
          "output_type": "display_data",
          "data": {
            "image/png": "[encoded data removed]",
            "text/plain": [
              "<Figure size 432x288 with 1 Axes>"
            ]
          },
          "metadata": {
            "tags": []
          }
        }
      ]
    },
    {
      "cell_type": "code",
      "metadata": {
        "id": "C8nTQDMT-O6o",
        "colab_type": "code",
        "colab": {
          "base_uri": "https://localhost:8080/",
          "height": 173
        },
        "outputId": "b8d09458-7d5a-4ea9-de2e-3db453dd5d32"
      },
      "source": [
        "# crosstabs on column percents\n",
        "cab_death2 = pd.crosstab(titanic['cabin_class'], titanic['Survived'], normalize='columns')\n",
        "cab_death2"
      ],
      "execution_count": 64,
      "outputs": [
        {
          "output_type": "execute_result",
          "data": {
            "text/html": [
              "<div>\n",
              "<style scoped>\n",
              "    .dataframe tbody tr th:only-of-type {\n",
              "        vertical-align: middle;\n",
              "    }\n",
              "\n",
              "    .dataframe tbody tr th {\n",
              "        vertical-align: top;\n",
              "    }\n",
              "\n",
              "    .dataframe thead th {\n",
              "        text-align: right;\n",
              "    }\n",
              "</style>\n",
              "<table border=\"1\" class=\"dataframe\">\n",
              "  <thead>\n",
              "    <tr style=\"text-align: right;\">\n",
              "      <th>Survived</th>\n",
              "      <th>0</th>\n",
              "      <th>1</th>\n",
              "    </tr>\n",
              "    <tr>\n",
              "      <th>cabin_class</th>\n",
              "      <th></th>\n",
              "      <th></th>\n",
              "    </tr>\n",
              "  </thead>\n",
              "  <tbody>\n",
              "    <tr>\n",
              "      <th>first</th>\n",
              "      <td>0.150943</td>\n",
              "      <td>0.410526</td>\n",
              "    </tr>\n",
              "    <tr>\n",
              "      <th>second</th>\n",
              "      <td>0.212264</td>\n",
              "      <td>0.291228</td>\n",
              "    </tr>\n",
              "    <tr>\n",
              "      <th>third</th>\n",
              "      <td>0.636792</td>\n",
              "      <td>0.298246</td>\n",
              "    </tr>\n",
              "  </tbody>\n",
              "</table>\n",
              "</div>"
            ],
            "text/plain": [
              "Survived            0         1\n",
              "cabin_class                    \n",
              "first        0.150943  0.410526\n",
              "second       0.212264  0.291228\n",
              "third        0.636792  0.298246"
            ]
          },
          "metadata": {
            "tags": []
          },
          "execution_count": 64
        }
      ]
    },
    {
      "cell_type": "code",
      "metadata": {
        "id": "M35mnUF0-O9g",
        "colab_type": "code",
        "colab": {
          "base_uri": "https://localhost:8080/",
          "height": 262
        },
        "outputId": "6c457375-c9ed-4aa7-cd10-93424cc2d73e"
      },
      "source": [
        "# paired barchart\n",
        "# barh for horizontal\n",
        "cab_death2.plot(kind='barh', color=['darkcyan', 'turquoise'], figsize=(10,4));"
      ],
      "execution_count": 65,
      "outputs": [
        {
          "output_type": "display_data",
          "data": {
            "image/png": "[encoded data removed]",
            "text/plain": [
              "<Figure size 720x288 with 1 Axes>"
            ]
          },
          "metadata": {
            "tags": []
          }
        }
      ]
    },
    {
      "cell_type": "code",
      "metadata": {
        "id": "V9q_cKeI-PF2",
        "colab_type": "code",
        "colab": {
          "base_uri": "https://localhost:8080/",
          "height": 170
        },
        "outputId": "15e4ddfe-1924-4f6a-8729-c5a0f7a71107"
      },
      "source": [
        "# look at a continuous variable\n",
        "titanic['Age'].describe()\n",
        "titanic['Age'].mean()\n",
        "titanic['Age'].median()\n",
        "titanic['Age'].std()\n",
        "titanic['Age'].describe()"
      ],
      "execution_count": 66,
      "outputs": [
        {
          "output_type": "execute_result",
          "data": {
            "text/plain": [
              "count    709.000000\n",
              "mean      29.618011\n",
              "std       14.518828\n",
              "min        0.420000\n",
              "25%       20.000000\n",
              "50%       28.000000\n",
              "75%       38.000000\n",
              "max       80.000000\n",
              "Name: Age, dtype: float64"
            ]
          },
          "metadata": {
            "tags": []
          },
          "execution_count": 66
        }
      ]
    },
    {
      "cell_type": "code",
      "metadata": {
        "id": "7xWBS952-PDZ",
        "colab_type": "code",
        "colab": {
          "base_uri": "https://localhost:8080/",
          "height": 102
        },
        "outputId": "b939f601-6fea-4749-993f-c86d5f64db3b"
      },
      "source": [
        "# explore that continuous variable by grouping it along a categorical one\n",
        "# or -break out-\n",
        "cab_age = titanic.groupby('cabin_class')['Age'].mean()\n",
        "cab_age"
      ],
      "execution_count": 67,
      "outputs": [
        {
          "output_type": "execute_result",
          "data": {
            "text/plain": [
              "cabin_class\n",
              "first     38.151492\n",
              "second    29.877630\n",
              "third     25.140620\n",
              "Name: Age, dtype: float64"
            ]
          },
          "metadata": {
            "tags": []
          },
          "execution_count": 67
        }
      ]
    },
    {
      "cell_type": "code",
      "metadata": {
        "id": "zCM3j7-S-PIg",
        "colab_type": "code",
        "colab": {
          "base_uri": "https://localhost:8080/",
          "height": 262
        },
        "outputId": "da589bbd-f8fc-40ad-95d3-1234eb0ac074"
      },
      "source": [
        "# visualize with boxplot\n",
        "titanic['Age'].plot(kind='box');"
      ],
      "execution_count": 68,
      "outputs": [
        {
          "output_type": "display_data",
          "data": {
            "image/png": "[encoded data removed]",
            "text/plain": [
              "<Figure size 432x288 with 1 Axes>"
            ]
          },
          "metadata": {
            "tags": []
          }
        }
      ]
    },
    {
      "cell_type": "code",
      "metadata": {
        "id": "nJfvnLEuYQn6",
        "colab_type": "code",
        "colab": {
          "base_uri": "https://localhost:8080/",
          "height": 297
        },
        "outputId": "0fa286b5-d42e-4fa7-fef5-ef56e407f37b"
      },
      "source": [
        "# boxplots come in handy when you you want to break out\n",
        "# a contimuous variable by a categorical one\n",
        "titanic.boxplot(column='Age', by='cabin_class');"
      ],
      "execution_count": 69,
      "outputs": [
        {
          "output_type": "display_data",
          "data": {
            "image/png": "[encoded data removed]",
            "text/plain": [
              "<Figure size 432x288 with 1 Axes>"
            ]
          },
          "metadata": {
            "tags": []
          }
        }
      ]
    },
    {
      "cell_type": "code",
      "metadata": {
        "id": "OsrkE5oRYQqh",
        "colab_type": "code",
        "colab": {
          "base_uri": "https://localhost:8080/",
          "height": 459
        },
        "outputId": "50a547c5-8230-45e5-f486-e1727ffa11a4"
      },
      "source": [
        "# plt.style.use to change styles of plots\n",
        "plt.style.available"
      ],
      "execution_count": 70,
      "outputs": [
        {
          "output_type": "execute_result",
          "data": {
            "text/plain": [
              "['Solarize_Light2',\n",
              " '_classic_test_patch',\n",
              " 'bmh',\n",
              " 'classic',\n",
              " 'dark_background',\n",
              " 'fast',\n",
              " 'fivethirtyeight',\n",
              " 'ggplot',\n",
              " 'grayscale',\n",
              " 'seaborn',\n",
              " 'seaborn-bright',\n",
              " 'seaborn-colorblind',\n",
              " 'seaborn-dark',\n",
              " 'seaborn-dark-palette',\n",
              " 'seaborn-darkgrid',\n",
              " 'seaborn-deep',\n",
              " 'seaborn-muted',\n",
              " 'seaborn-notebook',\n",
              " 'seaborn-paper',\n",
              " 'seaborn-pastel',\n",
              " 'seaborn-poster',\n",
              " 'seaborn-talk',\n",
              " 'seaborn-ticks',\n",
              " 'seaborn-white',\n",
              " 'seaborn-whitegrid',\n",
              " 'tableau-colorblind10']"
            ]
          },
          "metadata": {
            "tags": []
          },
          "execution_count": 70
        }
      ]
    },
    {
      "cell_type": "code",
      "metadata": {
        "id": "igQd0HgiYQtJ",
        "colab_type": "code",
        "colab": {}
      },
      "source": [
        ""
      ],
      "execution_count": 0,
      "outputs": []
    },
    {
      "cell_type": "code",
      "metadata": {
        "id": "prx5UbFKYQvd",
        "colab_type": "code",
        "colab": {}
      },
      "source": [
        ""
      ],
      "execution_count": 0,
      "outputs": []
    },
    {
      "cell_type": "code",
      "metadata": {
        "id": "9rWhgg2bYQxi",
        "colab_type": "code",
        "colab": {}
      },
      "source": [
        ""
      ],
      "execution_count": 0,
      "outputs": []
    },
    {
      "cell_type": "code",
      "metadata": {
        "id": "dnkK_pvC-PLA",
        "colab_type": "code",
        "colab": {}
      },
      "source": [
        ""
      ],
      "execution_count": 0,
      "outputs": []
    },
    {
      "cell_type": "markdown",
      "metadata": {
        "id": "rnoXmGwidpPL",
        "colab_type": "text"
      },
      "source": [
        "FIVETHIRTYEIGHT recreation"
      ]
    },
    {
      "cell_type": "code",
      "metadata": {
        "id": "9N3OimmD-PNr",
        "colab_type": "code",
        "colab": {
          "base_uri": "https://localhost:8080/",
          "height": 717
        },
        "outputId": "88044a3a-8f05-477f-dc9e-e4d71eaf3d59"
      },
      "source": [
        "names = pd.read_csv('unisex_names_table.csv')\n",
        "print(names.shape)\n",
        "names.head(21)"
      ],
      "execution_count": 71,
      "outputs": [
        {
          "output_type": "stream",
          "text": [
            "(919, 6)\n"
          ],
          "name": "stdout"
        },
        {
          "output_type": "execute_result",
          "data": {
            "text/html": [
              "<div>\n",
              "<style scoped>\n",
              "    .dataframe tbody tr th:only-of-type {\n",
              "        vertical-align: middle;\n",
              "    }\n",
              "\n",
              "    .dataframe tbody tr th {\n",
              "        vertical-align: top;\n",
              "    }\n",
              "\n",
              "    .dataframe thead th {\n",
              "        text-align: right;\n",
              "    }\n",
              "</style>\n",
              "<table border=\"1\" class=\"dataframe\">\n",
              "  <thead>\n",
              "    <tr style=\"text-align: right;\">\n",
              "      <th></th>\n",
              "      <th>Unnamed: 0</th>\n",
              "      <th>name</th>\n",
              "      <th>total</th>\n",
              "      <th>male_share</th>\n",
              "      <th>female_share</th>\n",
              "      <th>gap</th>\n",
              "    </tr>\n",
              "  </thead>\n",
              "  <tbody>\n",
              "    <tr>\n",
              "      <th>0</th>\n",
              "      <td>1</td>\n",
              "      <td>Casey</td>\n",
              "      <td>176544.328149</td>\n",
              "      <td>0.584287</td>\n",
              "      <td>0.415713</td>\n",
              "      <td>0.168573</td>\n",
              "    </tr>\n",
              "    <tr>\n",
              "      <th>1</th>\n",
              "      <td>2</td>\n",
              "      <td>Riley</td>\n",
              "      <td>154860.665173</td>\n",
              "      <td>0.507639</td>\n",
              "      <td>0.492361</td>\n",
              "      <td>0.015278</td>\n",
              "    </tr>\n",
              "    <tr>\n",
              "      <th>2</th>\n",
              "      <td>3</td>\n",
              "      <td>Jessie</td>\n",
              "      <td>136381.830656</td>\n",
              "      <td>0.477834</td>\n",
              "      <td>0.522166</td>\n",
              "      <td>0.044331</td>\n",
              "    </tr>\n",
              "    <tr>\n",
              "      <th>3</th>\n",
              "      <td>4</td>\n",
              "      <td>Jackie</td>\n",
              "      <td>132928.788740</td>\n",
              "      <td>0.421133</td>\n",
              "      <td>0.578867</td>\n",
              "      <td>0.157735</td>\n",
              "    </tr>\n",
              "    <tr>\n",
              "      <th>4</th>\n",
              "      <td>5</td>\n",
              "      <td>Avery</td>\n",
              "      <td>121797.419516</td>\n",
              "      <td>0.335213</td>\n",
              "      <td>0.664787</td>\n",
              "      <td>0.329574</td>\n",
              "    </tr>\n",
              "    <tr>\n",
              "      <th>5</th>\n",
              "      <td>6</td>\n",
              "      <td>Jaime</td>\n",
              "      <td>109870.187290</td>\n",
              "      <td>0.561793</td>\n",
              "      <td>0.438207</td>\n",
              "      <td>0.123586</td>\n",
              "    </tr>\n",
              "    <tr>\n",
              "      <th>6</th>\n",
              "      <td>7</td>\n",
              "      <td>Peyton</td>\n",
              "      <td>94896.395216</td>\n",
              "      <td>0.433719</td>\n",
              "      <td>0.566281</td>\n",
              "      <td>0.132561</td>\n",
              "    </tr>\n",
              "    <tr>\n",
              "      <th>7</th>\n",
              "      <td>8</td>\n",
              "      <td>Kerry</td>\n",
              "      <td>88963.926250</td>\n",
              "      <td>0.483949</td>\n",
              "      <td>0.516051</td>\n",
              "      <td>0.032102</td>\n",
              "    </tr>\n",
              "    <tr>\n",
              "      <th>8</th>\n",
              "      <td>9</td>\n",
              "      <td>Jody</td>\n",
              "      <td>80400.519199</td>\n",
              "      <td>0.352068</td>\n",
              "      <td>0.647932</td>\n",
              "      <td>0.295864</td>\n",
              "    </tr>\n",
              "    <tr>\n",
              "      <th>9</th>\n",
              "      <td>10</td>\n",
              "      <td>Kendall</td>\n",
              "      <td>79210.873961</td>\n",
              "      <td>0.372367</td>\n",
              "      <td>0.627633</td>\n",
              "      <td>0.255267</td>\n",
              "    </tr>\n",
              "    <tr>\n",
              "      <th>10</th>\n",
              "      <td>11</td>\n",
              "      <td>Payton</td>\n",
              "      <td>64151.630388</td>\n",
              "      <td>0.334358</td>\n",
              "      <td>0.665642</td>\n",
              "      <td>0.331285</td>\n",
              "    </tr>\n",
              "    <tr>\n",
              "      <th>11</th>\n",
              "      <td>12</td>\n",
              "      <td>Skyler</td>\n",
              "      <td>53486.390419</td>\n",
              "      <td>0.646053</td>\n",
              "      <td>0.353947</td>\n",
              "      <td>0.292106</td>\n",
              "    </tr>\n",
              "    <tr>\n",
              "      <th>12</th>\n",
              "      <td>13</td>\n",
              "      <td>Frankie</td>\n",
              "      <td>51288.068109</td>\n",
              "      <td>0.623671</td>\n",
              "      <td>0.376329</td>\n",
              "      <td>0.247343</td>\n",
              "    </tr>\n",
              "    <tr>\n",
              "      <th>13</th>\n",
              "      <td>14</td>\n",
              "      <td>Pat</td>\n",
              "      <td>44781.602373</td>\n",
              "      <td>0.369034</td>\n",
              "      <td>0.630966</td>\n",
              "      <td>0.261931</td>\n",
              "    </tr>\n",
              "    <tr>\n",
              "      <th>14</th>\n",
              "      <td>15</td>\n",
              "      <td>Quinn</td>\n",
              "      <td>41920.940058</td>\n",
              "      <td>0.635742</td>\n",
              "      <td>0.364258</td>\n",
              "      <td>0.271484</td>\n",
              "    </tr>\n",
              "    <tr>\n",
              "      <th>15</th>\n",
              "      <td>16</td>\n",
              "      <td>Harley</td>\n",
              "      <td>41237.565743</td>\n",
              "      <td>0.571702</td>\n",
              "      <td>0.428298</td>\n",
              "      <td>0.143404</td>\n",
              "    </tr>\n",
              "    <tr>\n",
              "      <th>16</th>\n",
              "      <td>17</td>\n",
              "      <td>Reese</td>\n",
              "      <td>36360.520613</td>\n",
              "      <td>0.361910</td>\n",
              "      <td>0.638090</td>\n",
              "      <td>0.276179</td>\n",
              "    </tr>\n",
              "    <tr>\n",
              "      <th>17</th>\n",
              "      <td>18</td>\n",
              "      <td>Robbie</td>\n",
              "      <td>32636.047648</td>\n",
              "      <td>0.553157</td>\n",
              "      <td>0.446843</td>\n",
              "      <td>0.106314</td>\n",
              "    </tr>\n",
              "    <tr>\n",
              "      <th>18</th>\n",
              "      <td>19</td>\n",
              "      <td>Tommie</td>\n",
              "      <td>29528.793818</td>\n",
              "      <td>0.664438</td>\n",
              "      <td>0.335562</td>\n",
              "      <td>0.328875</td>\n",
              "    </tr>\n",
              "    <tr>\n",
              "      <th>19</th>\n",
              "      <td>20</td>\n",
              "      <td>Justice</td>\n",
              "      <td>27350.564570</td>\n",
              "      <td>0.528195</td>\n",
              "      <td>0.471805</td>\n",
              "      <td>0.056390</td>\n",
              "    </tr>\n",
              "    <tr>\n",
              "      <th>20</th>\n",
              "      <td>21</td>\n",
              "      <td>Kris</td>\n",
              "      <td>24955.811342</td>\n",
              "      <td>0.498626</td>\n",
              "      <td>0.501374</td>\n",
              "      <td>0.002748</td>\n",
              "    </tr>\n",
              "  </tbody>\n",
              "</table>\n",
              "</div>"
            ],
            "text/plain": [
              "    Unnamed: 0     name          total  male_share  female_share       gap\n",
              "0            1    Casey  176544.328149    0.584287      0.415713  0.168573\n",
              "1            2    Riley  154860.665173    0.507639      0.492361  0.015278\n",
              "2            3   Jessie  136381.830656    0.477834      0.522166  0.044331\n",
              "3            4   Jackie  132928.788740    0.421133      0.578867  0.157735\n",
              "4            5    Avery  121797.419516    0.335213      0.664787  0.329574\n",
              "5            6    Jaime  109870.187290    0.561793      0.438207  0.123586\n",
              "6            7   Peyton   94896.395216    0.433719      0.566281  0.132561\n",
              "7            8    Kerry   88963.926250    0.483949      0.516051  0.032102\n",
              "8            9     Jody   80400.519199    0.352068      0.647932  0.295864\n",
              "9           10  Kendall   79210.873961    0.372367      0.627633  0.255267\n",
              "10          11   Payton   64151.630388    0.334358      0.665642  0.331285\n",
              "11          12   Skyler   53486.390419    0.646053      0.353947  0.292106\n",
              "12          13  Frankie   51288.068109    0.623671      0.376329  0.247343\n",
              "13          14      Pat   44781.602373    0.369034      0.630966  0.261931\n",
              "14          15    Quinn   41920.940058    0.635742      0.364258  0.271484\n",
              "15          16   Harley   41237.565743    0.571702      0.428298  0.143404\n",
              "16          17    Reese   36360.520613    0.361910      0.638090  0.276179\n",
              "17          18   Robbie   32636.047648    0.553157      0.446843  0.106314\n",
              "18          19   Tommie   29528.793818    0.664438      0.335562  0.328875\n",
              "19          20  Justice   27350.564570    0.528195      0.471805  0.056390\n",
              "20          21     Kris   24955.811342    0.498626      0.501374  0.002748"
            ]
          },
          "metadata": {
            "tags": []
          },
          "execution_count": 71
        }
      ]
    },
    {
      "cell_type": "code",
      "metadata": {
        "id": "NjKhelIl-PQP",
        "colab_type": "code",
        "colab": {
          "base_uri": "https://localhost:8080/",
          "height": 374
        },
        "outputId": "b4c2ac1e-8a34-4a88-8724-76d3512bc133"
      },
      "source": [
        "names['total'].sort_values(ascending=False).head(20)"
      ],
      "execution_count": 72,
      "outputs": [
        {
          "output_type": "execute_result",
          "data": {
            "text/plain": [
              "0     176544.328149\n",
              "1     154860.665173\n",
              "2     136381.830656\n",
              "3     132928.788740\n",
              "4     121797.419516\n",
              "5     109870.187290\n",
              "6      94896.395216\n",
              "7      88963.926250\n",
              "8      80400.519199\n",
              "9      79210.873961\n",
              "10     64151.630388\n",
              "11     53486.390419\n",
              "12     51288.068109\n",
              "13     44781.602373\n",
              "14     41920.940058\n",
              "15     41237.565743\n",
              "16     36360.520613\n",
              "17     32636.047648\n",
              "18     29528.793818\n",
              "19     27350.564570\n",
              "Name: total, dtype: float64"
            ]
          },
          "metadata": {
            "tags": []
          },
          "execution_count": 72
        }
      ]
    },
    {
      "cell_type": "code",
      "metadata": {
        "id": "EA5vpypy-PSc",
        "colab_type": "code",
        "colab": {
          "base_uri": "https://localhost:8080/",
          "height": 221
        },
        "outputId": "92c06550-5201-4300-95be-09aa13bff364"
      },
      "source": [
        "# get top twenty values\n",
        "condition = (names['total']>25000)\n",
        "condition"
      ],
      "execution_count": 73,
      "outputs": [
        {
          "output_type": "execute_result",
          "data": {
            "text/plain": [
              "0       True\n",
              "1       True\n",
              "2       True\n",
              "3       True\n",
              "4       True\n",
              "       ...  \n",
              "914    False\n",
              "915    False\n",
              "916    False\n",
              "917    False\n",
              "918    False\n",
              "Name: total, Length: 919, dtype: bool"
            ]
          },
          "metadata": {
            "tags": []
          },
          "execution_count": 73
        }
      ]
    },
    {
      "cell_type": "code",
      "metadata": {
        "id": "FBaWj6IJhN4x",
        "colab_type": "code",
        "colab": {
          "base_uri": "https://localhost:8080/",
          "height": 669
        },
        "outputId": "c4bb565d-4f89-458a-ab9f-abbbf033b24f"
      },
      "source": [
        "top_twenty = names[condition]\n",
        "top_twenty"
      ],
      "execution_count": 74,
      "outputs": [
        {
          "output_type": "execute_result",
          "data": {
            "text/html": [
              "<div>\n",
              "<style scoped>\n",
              "    .dataframe tbody tr th:only-of-type {\n",
              "        vertical-align: middle;\n",
              "    }\n",
              "\n",
              "    .dataframe tbody tr th {\n",
              "        vertical-align: top;\n",
              "    }\n",
              "\n",
              "    .dataframe thead th {\n",
              "        text-align: right;\n",
              "    }\n",
              "</style>\n",
              "<table border=\"1\" class=\"dataframe\">\n",
              "  <thead>\n",
              "    <tr style=\"text-align: right;\">\n",
              "      <th></th>\n",
              "      <th>Unnamed: 0</th>\n",
              "      <th>name</th>\n",
              "      <th>total</th>\n",
              "      <th>male_share</th>\n",
              "      <th>female_share</th>\n",
              "      <th>gap</th>\n",
              "    </tr>\n",
              "  </thead>\n",
              "  <tbody>\n",
              "    <tr>\n",
              "      <th>0</th>\n",
              "      <td>1</td>\n",
              "      <td>Casey</td>\n",
              "      <td>176544.328149</td>\n",
              "      <td>0.584287</td>\n",
              "      <td>0.415713</td>\n",
              "      <td>0.168573</td>\n",
              "    </tr>\n",
              "    <tr>\n",
              "      <th>1</th>\n",
              "      <td>2</td>\n",
              "      <td>Riley</td>\n",
              "      <td>154860.665173</td>\n",
              "      <td>0.507639</td>\n",
              "      <td>0.492361</td>\n",
              "      <td>0.015278</td>\n",
              "    </tr>\n",
              "    <tr>\n",
              "      <th>2</th>\n",
              "      <td>3</td>\n",
              "      <td>Jessie</td>\n",
              "      <td>136381.830656</td>\n",
              "      <td>0.477834</td>\n",
              "      <td>0.522166</td>\n",
              "      <td>0.044331</td>\n",
              "    </tr>\n",
              "    <tr>\n",
              "      <th>3</th>\n",
              "      <td>4</td>\n",
              "      <td>Jackie</td>\n",
              "      <td>132928.788740</td>\n",
              "      <td>0.421133</td>\n",
              "      <td>0.578867</td>\n",
              "      <td>0.157735</td>\n",
              "    </tr>\n",
              "    <tr>\n",
              "      <th>4</th>\n",
              "      <td>5</td>\n",
              "      <td>Avery</td>\n",
              "      <td>121797.419516</td>\n",
              "      <td>0.335213</td>\n",
              "      <td>0.664787</td>\n",
              "      <td>0.329574</td>\n",
              "    </tr>\n",
              "    <tr>\n",
              "      <th>5</th>\n",
              "      <td>6</td>\n",
              "      <td>Jaime</td>\n",
              "      <td>109870.187290</td>\n",
              "      <td>0.561793</td>\n",
              "      <td>0.438207</td>\n",
              "      <td>0.123586</td>\n",
              "    </tr>\n",
              "    <tr>\n",
              "      <th>6</th>\n",
              "      <td>7</td>\n",
              "      <td>Peyton</td>\n",
              "      <td>94896.395216</td>\n",
              "      <td>0.433719</td>\n",
              "      <td>0.566281</td>\n",
              "      <td>0.132561</td>\n",
              "    </tr>\n",
              "    <tr>\n",
              "      <th>7</th>\n",
              "      <td>8</td>\n",
              "      <td>Kerry</td>\n",
              "      <td>88963.926250</td>\n",
              "      <td>0.483949</td>\n",
              "      <td>0.516051</td>\n",
              "      <td>0.032102</td>\n",
              "    </tr>\n",
              "    <tr>\n",
              "      <th>8</th>\n",
              "      <td>9</td>\n",
              "      <td>Jody</td>\n",
              "      <td>80400.519199</td>\n",
              "      <td>0.352068</td>\n",
              "      <td>0.647932</td>\n",
              "      <td>0.295864</td>\n",
              "    </tr>\n",
              "    <tr>\n",
              "      <th>9</th>\n",
              "      <td>10</td>\n",
              "      <td>Kendall</td>\n",
              "      <td>79210.873961</td>\n",
              "      <td>0.372367</td>\n",
              "      <td>0.627633</td>\n",
              "      <td>0.255267</td>\n",
              "    </tr>\n",
              "    <tr>\n",
              "      <th>10</th>\n",
              "      <td>11</td>\n",
              "      <td>Payton</td>\n",
              "      <td>64151.630388</td>\n",
              "      <td>0.334358</td>\n",
              "      <td>0.665642</td>\n",
              "      <td>0.331285</td>\n",
              "    </tr>\n",
              "    <tr>\n",
              "      <th>11</th>\n",
              "      <td>12</td>\n",
              "      <td>Skyler</td>\n",
              "      <td>53486.390419</td>\n",
              "      <td>0.646053</td>\n",
              "      <td>0.353947</td>\n",
              "      <td>0.292106</td>\n",
              "    </tr>\n",
              "    <tr>\n",
              "      <th>12</th>\n",
              "      <td>13</td>\n",
              "      <td>Frankie</td>\n",
              "      <td>51288.068109</td>\n",
              "      <td>0.623671</td>\n",
              "      <td>0.376329</td>\n",
              "      <td>0.247343</td>\n",
              "    </tr>\n",
              "    <tr>\n",
              "      <th>13</th>\n",
              "      <td>14</td>\n",
              "      <td>Pat</td>\n",
              "      <td>44781.602373</td>\n",
              "      <td>0.369034</td>\n",
              "      <td>0.630966</td>\n",
              "      <td>0.261931</td>\n",
              "    </tr>\n",
              "    <tr>\n",
              "      <th>14</th>\n",
              "      <td>15</td>\n",
              "      <td>Quinn</td>\n",
              "      <td>41920.940058</td>\n",
              "      <td>0.635742</td>\n",
              "      <td>0.364258</td>\n",
              "      <td>0.271484</td>\n",
              "    </tr>\n",
              "    <tr>\n",
              "      <th>15</th>\n",
              "      <td>16</td>\n",
              "      <td>Harley</td>\n",
              "      <td>41237.565743</td>\n",
              "      <td>0.571702</td>\n",
              "      <td>0.428298</td>\n",
              "      <td>0.143404</td>\n",
              "    </tr>\n",
              "    <tr>\n",
              "      <th>16</th>\n",
              "      <td>17</td>\n",
              "      <td>Reese</td>\n",
              "      <td>36360.520613</td>\n",
              "      <td>0.361910</td>\n",
              "      <td>0.638090</td>\n",
              "      <td>0.276179</td>\n",
              "    </tr>\n",
              "    <tr>\n",
              "      <th>17</th>\n",
              "      <td>18</td>\n",
              "      <td>Robbie</td>\n",
              "      <td>32636.047648</td>\n",
              "      <td>0.553157</td>\n",
              "      <td>0.446843</td>\n",
              "      <td>0.106314</td>\n",
              "    </tr>\n",
              "    <tr>\n",
              "      <th>18</th>\n",
              "      <td>19</td>\n",
              "      <td>Tommie</td>\n",
              "      <td>29528.793818</td>\n",
              "      <td>0.664438</td>\n",
              "      <td>0.335562</td>\n",
              "      <td>0.328875</td>\n",
              "    </tr>\n",
              "    <tr>\n",
              "      <th>19</th>\n",
              "      <td>20</td>\n",
              "      <td>Justice</td>\n",
              "      <td>27350.564570</td>\n",
              "      <td>0.528195</td>\n",
              "      <td>0.471805</td>\n",
              "      <td>0.056390</td>\n",
              "    </tr>\n",
              "  </tbody>\n",
              "</table>\n",
              "</div>"
            ],
            "text/plain": [
              "    Unnamed: 0     name          total  male_share  female_share       gap\n",
              "0            1    Casey  176544.328149    0.584287      0.415713  0.168573\n",
              "1            2    Riley  154860.665173    0.507639      0.492361  0.015278\n",
              "2            3   Jessie  136381.830656    0.477834      0.522166  0.044331\n",
              "3            4   Jackie  132928.788740    0.421133      0.578867  0.157735\n",
              "4            5    Avery  121797.419516    0.335213      0.664787  0.329574\n",
              "5            6    Jaime  109870.187290    0.561793      0.438207  0.123586\n",
              "6            7   Peyton   94896.395216    0.433719      0.566281  0.132561\n",
              "7            8    Kerry   88963.926250    0.483949      0.516051  0.032102\n",
              "8            9     Jody   80400.519199    0.352068      0.647932  0.295864\n",
              "9           10  Kendall   79210.873961    0.372367      0.627633  0.255267\n",
              "10          11   Payton   64151.630388    0.334358      0.665642  0.331285\n",
              "11          12   Skyler   53486.390419    0.646053      0.353947  0.292106\n",
              "12          13  Frankie   51288.068109    0.623671      0.376329  0.247343\n",
              "13          14      Pat   44781.602373    0.369034      0.630966  0.261931\n",
              "14          15    Quinn   41920.940058    0.635742      0.364258  0.271484\n",
              "15          16   Harley   41237.565743    0.571702      0.428298  0.143404\n",
              "16          17    Reese   36360.520613    0.361910      0.638090  0.276179\n",
              "17          18   Robbie   32636.047648    0.553157      0.446843  0.106314\n",
              "18          19   Tommie   29528.793818    0.664438      0.335562  0.328875\n",
              "19          20  Justice   27350.564570    0.528195      0.471805  0.056390"
            ]
          },
          "metadata": {
            "tags": []
          },
          "execution_count": 74
        }
      ]
    },
    {
      "cell_type": "code",
      "metadata": {
        "id": "8RBBr7sqwFFe",
        "colab_type": "code",
        "colab": {}
      },
      "source": [
        "# pick a style that displays data well\n",
        "plt.style.use('seaborn-white')"
      ],
      "execution_count": 0,
      "outputs": []
    },
    {
      "cell_type": "code",
      "metadata": {
        "id": "ZT9G1LQTpcGd",
        "colab_type": "code",
        "colab": {}
      },
      "source": [
        "# clean up floats, we want whole numbers\n",
        "# i could pass a dictionary through\n",
        "# there's got to be a better way, .append? for loop?\n",
        "total_str = {176544.328149:'176544',\n",
        " 154860.66517300002:'154860',\n",
        " 136381.830656:'132928',\n",
        " 132928.78874000002:'132928',\n",
        " 121797.41951600001:'121797',\n",
        " 109870.18729000002:'109870',\n",
        " 94896.39521599999:'94896',\n",
        " 88963.92625:'88963',\n",
        " 80400.519199:'80400',\n",
        " 79210.873961:'79210',\n",
        " 64151.630388:'64151',\n",
        " 53486.390419:'53486',\n",
        " 51288.068109:'51288',\n",
        " 44781.602373:'44781',\n",
        " 41920.940058:'41920',\n",
        " 41237.565743:'41237',\n",
        " 36360.520613:'36360',\n",
        " 32636.047648000003:'32636',\n",
        " 29528.793818000002:'29528',\n",
        " 27350.56457:'27350'}"
      ],
      "execution_count": 0,
      "outputs": []
    },
    {
      "cell_type": "code",
      "metadata": {
        "id": "5Ig3ho_h2Nxb",
        "colab_type": "code",
        "colab": {
          "base_uri": "https://localhost:8080/",
          "height": 34
        },
        "outputId": "251b3c8e-417a-4b6e-8627-d4582b84383a"
      },
      "source": [
        "# check work\n",
        "top_twenty['total'].dtype"
      ],
      "execution_count": 114,
      "outputs": [
        {
          "output_type": "execute_result",
          "data": {
            "text/plain": [
              "dtype('O')"
            ]
          },
          "metadata": {
            "tags": []
          },
          "execution_count": 114
        }
      ]
    },
    {
      "cell_type": "code",
      "metadata": {
        "id": "NQFR1Lgb3gZi",
        "colab_type": "code",
        "colab": {
          "base_uri": "https://localhost:8080/",
          "height": 309
        },
        "outputId": "11ddc3c7-1d4f-4b0c-98c2-b5991fea617f"
      },
      "source": [
        "# convert number values to strings\n",
        "top_twenty['total'].replace(total_str, inplace=True)\n",
        "top_twenty.sample(5)"
      ],
      "execution_count": 117,
      "outputs": [
        {
          "output_type": "stream",
          "text": [
            "/usr/local/lib/python3.6/dist-packages/pandas/core/generic.py:6746: SettingWithCopyWarning: \n",
            "A value is trying to be set on a copy of a slice from a DataFrame\n",
            "\n",
            "See the caveats in the documentation: https://pandas.pydata.org/pandas-docs/stable/user_guide/indexing.html#returning-a-view-versus-a-copy\n",
            "  self._update_inplace(new_data)\n"
          ],
          "name": "stderr"
        },
        {
          "output_type": "execute_result",
          "data": {
            "text/html": [
              "<div>\n",
              "<style scoped>\n",
              "    .dataframe tbody tr th:only-of-type {\n",
              "        vertical-align: middle;\n",
              "    }\n",
              "\n",
              "    .dataframe tbody tr th {\n",
              "        vertical-align: top;\n",
              "    }\n",
              "\n",
              "    .dataframe thead th {\n",
              "        text-align: right;\n",
              "    }\n",
              "</style>\n",
              "<table border=\"1\" class=\"dataframe\">\n",
              "  <thead>\n",
              "    <tr style=\"text-align: right;\">\n",
              "      <th></th>\n",
              "      <th>Unnamed: 0</th>\n",
              "      <th>name</th>\n",
              "      <th>total</th>\n",
              "      <th>male_share</th>\n",
              "      <th>female_share</th>\n",
              "      <th>gap</th>\n",
              "      <th>nametotal</th>\n",
              "    </tr>\n",
              "  </thead>\n",
              "  <tbody>\n",
              "    <tr>\n",
              "      <th>14</th>\n",
              "      <td>15</td>\n",
              "      <td>Quinn</td>\n",
              "      <td>41920</td>\n",
              "      <td>0.635742</td>\n",
              "      <td>0.364258</td>\n",
              "      <td>0.271484</td>\n",
              "      <td>Quinn41920</td>\n",
              "    </tr>\n",
              "    <tr>\n",
              "      <th>16</th>\n",
              "      <td>17</td>\n",
              "      <td>Reese</td>\n",
              "      <td>36360</td>\n",
              "      <td>0.361910</td>\n",
              "      <td>0.638090</td>\n",
              "      <td>0.276179</td>\n",
              "      <td>Reese36360</td>\n",
              "    </tr>\n",
              "    <tr>\n",
              "      <th>15</th>\n",
              "      <td>16</td>\n",
              "      <td>Harley</td>\n",
              "      <td>41237</td>\n",
              "      <td>0.571702</td>\n",
              "      <td>0.428298</td>\n",
              "      <td>0.143404</td>\n",
              "      <td>Harley41237</td>\n",
              "    </tr>\n",
              "    <tr>\n",
              "      <th>18</th>\n",
              "      <td>19</td>\n",
              "      <td>Tommie</td>\n",
              "      <td>29528</td>\n",
              "      <td>0.664438</td>\n",
              "      <td>0.335562</td>\n",
              "      <td>0.328875</td>\n",
              "      <td>Tommie29528</td>\n",
              "    </tr>\n",
              "    <tr>\n",
              "      <th>11</th>\n",
              "      <td>12</td>\n",
              "      <td>Skyler</td>\n",
              "      <td>53486</td>\n",
              "      <td>0.646053</td>\n",
              "      <td>0.353947</td>\n",
              "      <td>0.292106</td>\n",
              "      <td>Skyler53486</td>\n",
              "    </tr>\n",
              "  </tbody>\n",
              "</table>\n",
              "</div>"
            ],
            "text/plain": [
              "    Unnamed: 0    name  total  male_share  female_share       gap    nametotal\n",
              "14          15   Quinn  41920    0.635742      0.364258  0.271484   Quinn41920\n",
              "16          17   Reese  36360    0.361910      0.638090  0.276179   Reese36360\n",
              "15          16  Harley  41237    0.571702      0.428298  0.143404  Harley41237\n",
              "18          19  Tommie  29528    0.664438      0.335562  0.328875  Tommie29528\n",
              "11          12  Skyler  53486    0.646053      0.353947  0.292106  Skyler53486"
            ]
          },
          "metadata": {
            "tags": []
          },
          "execution_count": 117
        }
      ]
    },
    {
      "cell_type": "code",
      "metadata": {
        "id": "ltylpB6HpcJG",
        "colab_type": "code",
        "colab": {
          "base_uri": "https://localhost:8080/",
          "height": 326
        },
        "outputId": "3685ed09-9af0-4058-a9b0-e86d5be427f0"
      },
      "source": [
        "# combine name and total columns\n",
        "top_twenty['nametotal'] = top_twenty['name'] + top_twenty['total']\n",
        "top_twenty.head()"
      ],
      "execution_count": 118,
      "outputs": [
        {
          "output_type": "stream",
          "text": [
            "/usr/local/lib/python3.6/dist-packages/ipykernel_launcher.py:2: SettingWithCopyWarning: \n",
            "A value is trying to be set on a copy of a slice from a DataFrame.\n",
            "Try using .loc[row_indexer,col_indexer] = value instead\n",
            "\n",
            "See the caveats in the documentation: https://pandas.pydata.org/pandas-docs/stable/user_guide/indexing.html#returning-a-view-versus-a-copy\n",
            "  \n"
          ],
          "name": "stderr"
        },
        {
          "output_type": "execute_result",
          "data": {
            "text/html": [
              "<div>\n",
              "<style scoped>\n",
              "    .dataframe tbody tr th:only-of-type {\n",
              "        vertical-align: middle;\n",
              "    }\n",
              "\n",
              "    .dataframe tbody tr th {\n",
              "        vertical-align: top;\n",
              "    }\n",
              "\n",
              "    .dataframe thead th {\n",
              "        text-align: right;\n",
              "    }\n",
              "</style>\n",
              "<table border=\"1\" class=\"dataframe\">\n",
              "  <thead>\n",
              "    <tr style=\"text-align: right;\">\n",
              "      <th></th>\n",
              "      <th>Unnamed: 0</th>\n",
              "      <th>name</th>\n",
              "      <th>total</th>\n",
              "      <th>male_share</th>\n",
              "      <th>female_share</th>\n",
              "      <th>gap</th>\n",
              "      <th>nametotal</th>\n",
              "    </tr>\n",
              "  </thead>\n",
              "  <tbody>\n",
              "    <tr>\n",
              "      <th>0</th>\n",
              "      <td>1</td>\n",
              "      <td>Casey</td>\n",
              "      <td>176544</td>\n",
              "      <td>0.584287</td>\n",
              "      <td>0.415713</td>\n",
              "      <td>0.168573</td>\n",
              "      <td>Casey176544</td>\n",
              "    </tr>\n",
              "    <tr>\n",
              "      <th>1</th>\n",
              "      <td>2</td>\n",
              "      <td>Riley</td>\n",
              "      <td>154860</td>\n",
              "      <td>0.507639</td>\n",
              "      <td>0.492361</td>\n",
              "      <td>0.015278</td>\n",
              "      <td>Riley154860</td>\n",
              "    </tr>\n",
              "    <tr>\n",
              "      <th>2</th>\n",
              "      <td>3</td>\n",
              "      <td>Jessie</td>\n",
              "      <td>132928</td>\n",
              "      <td>0.477834</td>\n",
              "      <td>0.522166</td>\n",
              "      <td>0.044331</td>\n",
              "      <td>Jessie132928</td>\n",
              "    </tr>\n",
              "    <tr>\n",
              "      <th>3</th>\n",
              "      <td>4</td>\n",
              "      <td>Jackie</td>\n",
              "      <td>132928</td>\n",
              "      <td>0.421133</td>\n",
              "      <td>0.578867</td>\n",
              "      <td>0.157735</td>\n",
              "      <td>Jackie132928</td>\n",
              "    </tr>\n",
              "    <tr>\n",
              "      <th>4</th>\n",
              "      <td>5</td>\n",
              "      <td>Avery</td>\n",
              "      <td>121797</td>\n",
              "      <td>0.335213</td>\n",
              "      <td>0.664787</td>\n",
              "      <td>0.329574</td>\n",
              "      <td>Avery121797</td>\n",
              "    </tr>\n",
              "  </tbody>\n",
              "</table>\n",
              "</div>"
            ],
            "text/plain": [
              "   Unnamed: 0    name   total  male_share  female_share       gap     nametotal\n",
              "0           1   Casey  176544    0.584287      0.415713  0.168573   Casey176544\n",
              "1           2   Riley  154860    0.507639      0.492361  0.015278   Riley154860\n",
              "2           3  Jessie  132928    0.477834      0.522166  0.044331  Jessie132928\n",
              "3           4  Jackie  132928    0.421133      0.578867  0.157735  Jackie132928\n",
              "4           5   Avery  121797    0.335213      0.664787  0.329574   Avery121797"
            ]
          },
          "metadata": {
            "tags": []
          },
          "execution_count": 118
        }
      ]
    },
    {
      "cell_type": "code",
      "metadata": {
        "id": "c_ihCCnphN7s",
        "colab_type": "code",
        "colab": {
          "base_uri": "https://localhost:8080/",
          "height": 943
        },
        "outputId": "ae31e2d2-0c50-4997-b0a1-fbf46a13d54c"
      },
      "source": [
        "# plot horizontal bar chart\n",
        "# note use of plt.gca to reverse y axis values\n",
        "graphic1 = top_twenty[['male_share','female_share']].plot(kind='barh', \n",
        "                                               stacked=True, \n",
        "                                               figsize=(5,10), \n",
        "                                               color=['lightsteelblue', 'navajowhite'],\n",
        "                                               title='Most Common Unisex Names in U.S.');\n",
        "ax = plt.gca()\n",
        "graphic1.set_ylim(graphic1.get_ylim()[::-1]) \n",
        "graphic1.set_yticklabels(top_twenty.nametotal)                                              "
      ],
      "execution_count": 119,
      "outputs": [
        {
          "output_type": "execute_result",
          "data": {
            "text/plain": [
              "[Text(0, 0, 'Casey176544'),\n",
              " Text(0, 0, 'Riley154860'),\n",
              " Text(0, 0, 'Jessie132928'),\n",
              " Text(0, 0, 'Jackie132928'),\n",
              " Text(0, 0, 'Avery121797'),\n",
              " Text(0, 0, 'Jaime109870'),\n",
              " Text(0, 0, 'Peyton94896'),\n",
              " Text(0, 0, 'Kerry88963'),\n",
              " Text(0, 0, 'Jody80400'),\n",
              " Text(0, 0, 'Kendall79210'),\n",
              " Text(0, 0, 'Payton64151'),\n",
              " Text(0, 0, 'Skyler53486'),\n",
              " Text(0, 0, 'Frankie51288'),\n",
              " Text(0, 0, 'Pat44781'),\n",
              " Text(0, 0, 'Quinn41920'),\n",
              " Text(0, 0, 'Harley41237'),\n",
              " Text(0, 0, 'Reese36360'),\n",
              " Text(0, 0, 'Robbie32636'),\n",
              " Text(0, 0, 'Tommie29528'),\n",
              " Text(0, 0, 'Justice27350')]"
            ]
          },
          "metadata": {
            "tags": []
          },
          "execution_count": 119
        },
        {
          "output_type": "display_data",
          "data": {
            "image/png": "[encoded data removed]",
            "text/plain": [
              "<Figure size 360x720 with 1 Axes>"
            ]
          },
          "metadata": {
            "tags": []
          }
        }
      ]
    },
    {
      "cell_type": "code",
      "metadata": {
        "id": "aA--gMzApcLu",
        "colab_type": "code",
        "colab": {}
      },
      "source": [
        ""
      ],
      "execution_count": 0,
      "outputs": []
    },
    {
      "cell_type": "code",
      "metadata": {
        "id": "ueVsGOh4pcOD",
        "colab_type": "code",
        "colab": {}
      },
      "source": [
        ""
      ],
      "execution_count": 0,
      "outputs": []
    },
    {
      "cell_type": "code",
      "metadata": {
        "id": "jjQe4eUspcQ3",
        "colab_type": "code",
        "colab": {}
      },
      "source": [
        ""
      ],
      "execution_count": 0,
      "outputs": []
    },
    {
      "cell_type": "code",
      "metadata": {
        "id": "IO5GXQzjpcTS",
        "colab_type": "code",
        "colab": {}
      },
      "source": [
        ""
      ],
      "execution_count": 0,
      "outputs": []
    },
    {
      "cell_type": "code",
      "metadata": {
        "id": "4PzmJCP8pcWA",
        "colab_type": "code",
        "colab": {}
      },
      "source": [
        ""
      ],
      "execution_count": 0,
      "outputs": []
    },
    {
      "cell_type": "code",
      "metadata": {
        "id": "Ar7P4BjQpcYf",
        "colab_type": "code",
        "colab": {}
      },
      "source": [
        ""
      ],
      "execution_count": 0,
      "outputs": []
    },
    {
      "cell_type": "code",
      "metadata": {
        "id": "kU9LqkHBpcbX",
        "colab_type": "code",
        "colab": {}
      },
      "source": [
        ""
      ],
      "execution_count": 0,
      "outputs": []
    },
    {
      "cell_type": "code",
      "metadata": {
        "id": "xj96twshpceB",
        "colab_type": "code",
        "colab": {}
      },
      "source": [
        ""
      ],
      "execution_count": 0,
      "outputs": []
    },
    {
      "cell_type": "code",
      "metadata": {
        "id": "frINZrS0pcgw",
        "colab_type": "code",
        "colab": {}
      },
      "source": [
        ""
      ],
      "execution_count": 0,
      "outputs": []
    },
    {
      "cell_type": "code",
      "metadata": {
        "id": "QMvis2qThODk",
        "colab_type": "code",
        "colab": {}
      },
      "source": [
        ""
      ],
      "execution_count": 0,
      "outputs": []
    },
    {
      "cell_type": "code",
      "metadata": {
        "id": "_6nfT5gE-PWv",
        "colab_type": "code",
        "colab": {}
      },
      "source": [
        ""
      ],
      "execution_count": 0,
      "outputs": []
    },
    {
      "cell_type": "code",
      "metadata": {
        "id": "0g3ratUZ-PZa",
        "colab_type": "code",
        "colab": {}
      },
      "source": [
        ""
      ],
      "execution_count": 0,
      "outputs": []
    },
    {
      "cell_type": "markdown",
      "metadata": {
        "id": "0wSrBzmJyWaV",
        "colab_type": "text"
      },
      "source": [
        "# STRETCH OPTIONS\n",
        "\n",
        "### 1) Reproduce one of the following using the matplotlib or seaborn libraries:\n",
        "\n",
        "- [thanksgiving-2015](https://fivethirtyeight.com/features/heres-what-your-part-of-america-eats-on-thanksgiving/) \n",
        "- [candy-power-ranking](https://fivethirtyeight.com/features/the-ultimate-halloween-candy-power-ranking/) \n",
        "- or another example of your choice!\n",
        "\n",
        "### 2) Make more charts!\n",
        "\n",
        "Choose a chart you want to make, from [Visual Vocabulary - Vega Edition](http://ft.com/vocabulary).\n",
        "\n",
        "Find the chart in an example gallery of a Python data visualization library:\n",
        "- [Seaborn](http://seaborn.pydata.org/examples/index.html)\n",
        "- [Altair](https://altair-viz.github.io/gallery/index.html)\n",
        "- [Matplotlib](https://matplotlib.org/gallery.html)\n",
        "- [Pandas](https://pandas.pydata.org/pandas-docs/stable/visualization.html)\n",
        "\n",
        "Reproduce the chart. [Optionally, try the \"Ben Franklin Method.\"](https://docs.google.com/document/d/1ubOw9B3Hfip27hF2ZFnW3a3z9xAgrUDRReOEo-FHCVs/edit) If you want, experiment and make changes.\n",
        "\n",
        "Take notes. Consider sharing your work with your cohort!"
      ]
    },
    {
      "cell_type": "code",
      "metadata": {
        "id": "dRJkKftiy5BJ",
        "colab_type": "code",
        "colab": {}
      },
      "source": [
        "# More Work Here"
      ],
      "execution_count": 0,
      "outputs": []
    }
  ]
}