{
  "nbformat": 4,
  "nbformat_minor": 0,
  "metadata": {
    "colab": {
      "name": "Unit1 - Sprint 1 Q&A - DS17.ipynb",
      "provenance": [],
      "include_colab_link": true
    },
    "kernelspec": {
      "name": "python3",
      "display_name": "Python 3"
    }
  },
  "cells": [
    {
      "cell_type": "markdown",
      "metadata": {
        "id": "view-in-github",
        "colab_type": "text"
      },
      "source": [
        "<a href=\"https://colab.research.google.com/github/skhabiri/DS-Unit-1-Sprint-1-Data-Wrangling-and-Storytelling/blob/master/Unit1_Sprint_1_Q%26A_DS17.ipynb\" target=\"_parent\"><img src=\"https://colab.research.google.com/assets/colab-badge.svg\" alt=\"Open In Colab\"/></a>"
      ]
    },
    {
      "cell_type": "code",
      "metadata": {
        "id": "8LV7iZNmHX7K",
        "colab_type": "code",
        "colab": {}
      },
      "source": [
        "import pandas as pd\n",
        "import matplotlib.pyplot as plt\n",
        "import numpy as np"
      ],
      "execution_count": 0,
      "outputs": []
    },
    {
      "cell_type": "code",
      "metadata": {
        "id": "tq9TQAm9Ltcm",
        "colab_type": "code",
        "outputId": "6ffe6776-29ae-4a63-b4b2-b0dc99294bb4",
        "colab": {
          "base_uri": "https://localhost:8080/",
          "height": 195
        }
      },
      "source": [
        "df = pd.DataFrame({'date': ['June 4, 2020', 'June 3, 2020', 'June 2, 2020', 'June 1, 2020', 'May 31, 2020'], \n",
        "                   'temperature': [93, 85, 80, 87, 82], \n",
        "                   'ice_cream_sales': [200, 250, 320, 160, 175]})\n",
        "\n",
        "df.head()"
      ],
      "execution_count": 0,
      "outputs": [
        {
          "output_type": "execute_result",
          "data": {
            "text/html": [
              "<div>\n",
              "<style scoped>\n",
              "    .dataframe tbody tr th:only-of-type {\n",
              "        vertical-align: middle;\n",
              "    }\n",
              "\n",
              "    .dataframe tbody tr th {\n",
              "        vertical-align: top;\n",
              "    }\n",
              "\n",
              "    .dataframe thead th {\n",
              "        text-align: right;\n",
              "    }\n",
              "</style>\n",
              "<table border=\"1\" class=\"dataframe\">\n",
              "  <thead>\n",
              "    <tr style=\"text-align: right;\">\n",
              "      <th></th>\n",
              "      <th>date</th>\n",
              "      <th>temperature</th>\n",
              "      <th>ice_cream_sales</th>\n",
              "    </tr>\n",
              "  </thead>\n",
              "  <tbody>\n",
              "    <tr>\n",
              "      <th>0</th>\n",
              "      <td>June 4, 2020</td>\n",
              "      <td>93</td>\n",
              "      <td>200</td>\n",
              "    </tr>\n",
              "    <tr>\n",
              "      <th>1</th>\n",
              "      <td>June 3, 2020</td>\n",
              "      <td>85</td>\n",
              "      <td>250</td>\n",
              "    </tr>\n",
              "    <tr>\n",
              "      <th>2</th>\n",
              "      <td>June 2, 2020</td>\n",
              "      <td>80</td>\n",
              "      <td>320</td>\n",
              "    </tr>\n",
              "    <tr>\n",
              "      <th>3</th>\n",
              "      <td>June 1, 2020</td>\n",
              "      <td>87</td>\n",
              "      <td>160</td>\n",
              "    </tr>\n",
              "    <tr>\n",
              "      <th>4</th>\n",
              "      <td>May 31, 2020</td>\n",
              "      <td>82</td>\n",
              "      <td>175</td>\n",
              "    </tr>\n",
              "  </tbody>\n",
              "</table>\n",
              "</div>"
            ],
            "text/plain": [
              "           date  temperature  ice_cream_sales\n",
              "0  June 4, 2020           93              200\n",
              "1  June 3, 2020           85              250\n",
              "2  June 2, 2020           80              320\n",
              "3  June 1, 2020           87              160\n",
              "4  May 31, 2020           82              175"
            ]
          },
          "metadata": {
            "tags": []
          },
          "execution_count": 40
        }
      ]
    },
    {
      "cell_type": "code",
      "metadata": {
        "id": "NTqpWSEpMKCM",
        "colab_type": "code",
        "outputId": "6934d755-5f8f-44a3-e7e9-d0c51370d846",
        "colab": {
          "base_uri": "https://localhost:8080/",
          "height": 84
        }
      },
      "source": [
        "df.dtypes"
      ],
      "execution_count": 0,
      "outputs": [
        {
          "output_type": "execute_result",
          "data": {
            "text/plain": [
              "date               object\n",
              "temperature         int64\n",
              "ice_cream_sales     int64\n",
              "dtype: object"
            ]
          },
          "metadata": {
            "tags": []
          },
          "execution_count": 41
        }
      ]
    },
    {
      "cell_type": "code",
      "metadata": {
        "id": "FrrrhGwBMR-R",
        "colab_type": "code",
        "outputId": "65b70e27-a7bf-4f28-d5b1-99bd8087fb65",
        "colab": {
          "base_uri": "https://localhost:8080/",
          "height": 195
        }
      },
      "source": [
        "df['datetime'] = pd.to_datetime(df['date'], infer_datetime_format=True)\n",
        "\n",
        "df.head()"
      ],
      "execution_count": 0,
      "outputs": [
        {
          "output_type": "execute_result",
          "data": {
            "text/html": [
              "<div>\n",
              "<style scoped>\n",
              "    .dataframe tbody tr th:only-of-type {\n",
              "        vertical-align: middle;\n",
              "    }\n",
              "\n",
              "    .dataframe tbody tr th {\n",
              "        vertical-align: top;\n",
              "    }\n",
              "\n",
              "    .dataframe thead th {\n",
              "        text-align: right;\n",
              "    }\n",
              "</style>\n",
              "<table border=\"1\" class=\"dataframe\">\n",
              "  <thead>\n",
              "    <tr style=\"text-align: right;\">\n",
              "      <th></th>\n",
              "      <th>date</th>\n",
              "      <th>temperature</th>\n",
              "      <th>ice_cream_sales</th>\n",
              "      <th>datetime</th>\n",
              "    </tr>\n",
              "  </thead>\n",
              "  <tbody>\n",
              "    <tr>\n",
              "      <th>0</th>\n",
              "      <td>June 4, 2020</td>\n",
              "      <td>93</td>\n",
              "      <td>200</td>\n",
              "      <td>2020-06-04</td>\n",
              "    </tr>\n",
              "    <tr>\n",
              "      <th>1</th>\n",
              "      <td>June 3, 2020</td>\n",
              "      <td>85</td>\n",
              "      <td>250</td>\n",
              "      <td>2020-06-03</td>\n",
              "    </tr>\n",
              "    <tr>\n",
              "      <th>2</th>\n",
              "      <td>June 2, 2020</td>\n",
              "      <td>80</td>\n",
              "      <td>320</td>\n",
              "      <td>2020-06-02</td>\n",
              "    </tr>\n",
              "    <tr>\n",
              "      <th>3</th>\n",
              "      <td>June 1, 2020</td>\n",
              "      <td>87</td>\n",
              "      <td>160</td>\n",
              "      <td>2020-06-01</td>\n",
              "    </tr>\n",
              "    <tr>\n",
              "      <th>4</th>\n",
              "      <td>May 31, 2020</td>\n",
              "      <td>82</td>\n",
              "      <td>175</td>\n",
              "      <td>2020-05-31</td>\n",
              "    </tr>\n",
              "  </tbody>\n",
              "</table>\n",
              "</div>"
            ],
            "text/plain": [
              "           date  temperature  ice_cream_sales   datetime\n",
              "0  June 4, 2020           93              200 2020-06-04\n",
              "1  June 3, 2020           85              250 2020-06-03\n",
              "2  June 2, 2020           80              320 2020-06-02\n",
              "3  June 1, 2020           87              160 2020-06-01\n",
              "4  May 31, 2020           82              175 2020-05-31"
            ]
          },
          "metadata": {
            "tags": []
          },
          "execution_count": 42
        }
      ]
    },
    {
      "cell_type": "code",
      "metadata": {
        "id": "E2nZd4JQMgXZ",
        "colab_type": "code",
        "outputId": "62335be1-57fc-4ff8-fcb6-35302c931a74",
        "colab": {
          "base_uri": "https://localhost:8080/",
          "height": 195
        }
      },
      "source": [
        "df['year'] = df['datetime'].dt.year\n",
        "df['month'] = df['datetime'].dt.month\n",
        "df['day'] = df['datetime'].dt.day\n",
        "\n",
        "df.head()"
      ],
      "execution_count": 0,
      "outputs": [
        {
          "output_type": "execute_result",
          "data": {
            "text/html": [
              "<div>\n",
              "<style scoped>\n",
              "    .dataframe tbody tr th:only-of-type {\n",
              "        vertical-align: middle;\n",
              "    }\n",
              "\n",
              "    .dataframe tbody tr th {\n",
              "        vertical-align: top;\n",
              "    }\n",
              "\n",
              "    .dataframe thead th {\n",
              "        text-align: right;\n",
              "    }\n",
              "</style>\n",
              "<table border=\"1\" class=\"dataframe\">\n",
              "  <thead>\n",
              "    <tr style=\"text-align: right;\">\n",
              "      <th></th>\n",
              "      <th>date</th>\n",
              "      <th>temperature</th>\n",
              "      <th>ice_cream_sales</th>\n",
              "      <th>datetime</th>\n",
              "      <th>year</th>\n",
              "      <th>month</th>\n",
              "      <th>day</th>\n",
              "    </tr>\n",
              "  </thead>\n",
              "  <tbody>\n",
              "    <tr>\n",
              "      <th>0</th>\n",
              "      <td>June 4, 2020</td>\n",
              "      <td>93</td>\n",
              "      <td>200</td>\n",
              "      <td>2020-06-04</td>\n",
              "      <td>2020</td>\n",
              "      <td>6</td>\n",
              "      <td>4</td>\n",
              "    </tr>\n",
              "    <tr>\n",
              "      <th>1</th>\n",
              "      <td>June 3, 2020</td>\n",
              "      <td>85</td>\n",
              "      <td>250</td>\n",
              "      <td>2020-06-03</td>\n",
              "      <td>2020</td>\n",
              "      <td>6</td>\n",
              "      <td>3</td>\n",
              "    </tr>\n",
              "    <tr>\n",
              "      <th>2</th>\n",
              "      <td>June 2, 2020</td>\n",
              "      <td>80</td>\n",
              "      <td>320</td>\n",
              "      <td>2020-06-02</td>\n",
              "      <td>2020</td>\n",
              "      <td>6</td>\n",
              "      <td>2</td>\n",
              "    </tr>\n",
              "    <tr>\n",
              "      <th>3</th>\n",
              "      <td>June 1, 2020</td>\n",
              "      <td>87</td>\n",
              "      <td>160</td>\n",
              "      <td>2020-06-01</td>\n",
              "      <td>2020</td>\n",
              "      <td>6</td>\n",
              "      <td>1</td>\n",
              "    </tr>\n",
              "    <tr>\n",
              "      <th>4</th>\n",
              "      <td>May 31, 2020</td>\n",
              "      <td>82</td>\n",
              "      <td>175</td>\n",
              "      <td>2020-05-31</td>\n",
              "      <td>2020</td>\n",
              "      <td>5</td>\n",
              "      <td>31</td>\n",
              "    </tr>\n",
              "  </tbody>\n",
              "</table>\n",
              "</div>"
            ],
            "text/plain": [
              "           date  temperature  ice_cream_sales   datetime  year  month  day\n",
              "0  June 4, 2020           93              200 2020-06-04  2020      6    4\n",
              "1  June 3, 2020           85              250 2020-06-03  2020      6    3\n",
              "2  June 2, 2020           80              320 2020-06-02  2020      6    2\n",
              "3  June 1, 2020           87              160 2020-06-01  2020      6    1\n",
              "4  May 31, 2020           82              175 2020-05-31  2020      5   31"
            ]
          },
          "metadata": {
            "tags": []
          },
          "execution_count": 43
        }
      ]
    },
    {
      "cell_type": "code",
      "metadata": {
        "id": "F5hkUEFlMs2Z",
        "colab_type": "code",
        "outputId": "75991ffc-188b-42d0-cd27-08de1b59b7d9",
        "colab": {
          "base_uri": "https://localhost:8080/",
          "height": 331
        }
      },
      "source": [
        "# plot the temperature and sales by day\n",
        "# Scatter plot of temperature vs sales\n",
        "\n",
        "fig, ax = plt.subplots()\n",
        "\n",
        "# Plot the points\n",
        "ax.scatter(x=df['temperature'], y=df['ice_cream_sales'])\n",
        "\n",
        "# Add the title\n",
        "ax.set_title(\"Ice cream sales go down as temp goes up\")\n",
        "\n",
        "# Set axis labels\n",
        "ax.set_xlabel('Temperature')\n",
        "ax.set_ylabel('Ice Cream Sales')\n",
        "\n",
        "# Horizontal line:\n",
        "# ax.axhline(y=-10)\n",
        "# ax.hlines(y=-20, xmin=70, xmax=100, color='k')\n",
        "\n",
        "ax.text(s='_'*100, y=100, x=75, color='#a8a7a7')\n",
        "\n",
        "plt.show()"
      ],
      "execution_count": 0,
      "outputs": [
        {
          "output_type": "display_data",
          "data": {
            "image/png": "[encoded data removed]",
            "text/plain": [
              "<Figure size 432x288 with 1 Axes>"
            ]
          },
          "metadata": {
            "tags": [],
            "needs_background": "light"
          }
        }
      ]
    },
    {
      "cell_type": "code",
      "metadata": {
        "id": "vr7H6gPcNgU9",
        "colab_type": "code",
        "outputId": "fc6b0803-c360-4c26-b8e8-2511a0fb6c1f",
        "colab": {
          "base_uri": "https://localhost:8080/",
          "height": 303
        }
      },
      "source": [
        "# Line plot with a datetime axis:\n",
        "\n",
        "fig, ax = plt.subplots()\n",
        "\n",
        "# Create the Line Plot\n",
        "ax.plot(df['datetime'], df['ice_cream_sales'])\n",
        "\n",
        "# Set x-tick positions\n",
        "ax.set_xticks(df['datetime'])\n",
        "# Set x-tick labels\n",
        "ax.set_xticklabels(df['date'])\n",
        "\n",
        "# graph title\n",
        "ax.set_title(\"Ice Cream sales are volatile\", x=.32, y=1.1, fontsize='12', fontweight='bold')\n",
        "\n",
        "# graph subtitle\n",
        "# If my x-axis represents datetimes, In need to position my text object's\n",
        "# x-value by providing a datetime object as well. \n",
        "ax.text(s='Ice Cream sales for the past 5 days', x=df['datetime'][4], y=337, fontsize='11')\n",
        "\n",
        "plt.show()"
      ],
      "execution_count": 0,
      "outputs": [
        {
          "output_type": "display_data",
          "data": {
            "image/png": "[encoded data removed]",
            "text/plain": [
              "<Figure size 432x288 with 1 Axes>"
            ]
          },
          "metadata": {
            "tags": [],
            "needs_background": "light"
          }
        }
      ]
    },
    {
      "cell_type": "markdown",
      "metadata": {
        "id": "HkVvUjYcTY7S",
        "colab_type": "text"
      },
      "source": [
        "## Sprint Challenge Example stuff\n",
        "\n",
        "Load a UCI dataset from its URL:"
      ]
    },
    {
      "cell_type": "code",
      "metadata": {
        "id": "65g43KvfTxYQ",
        "colab_type": "code",
        "outputId": "11bac7ca-0a4e-465f-d8f6-a89da9e2b074",
        "colab": {
          "base_uri": "https://localhost:8080/",
          "height": 1000
        }
      },
      "source": [
        "!curl https://archive.ics.uci.edu/ml/machine-learning-databases/auto-mpg/auto-mpg.data"
      ],
      "execution_count": 0,
      "outputs": [
        {
          "output_type": "stream",
          "text": [
            "18.0   8   307.0      130.0      3504.      12.0   70  1\t\"chevrolet chevelle malibu\"\n",
            "15.0   8   350.0      165.0      3693.      11.5   70  1\t\"buick skylark 320\"\n",
            "18.0   8   318.0      150.0      3436.      11.0   70  1\t\"plymouth satellite\"\n",
            "16.0   8   304.0      150.0      3433.      12.0   70  1\t\"amc rebel sst\"\n",
            "17.0   8   302.0      140.0      3449.      10.5   70  1\t\"ford torino\"\n",
            "15.0   8   429.0      198.0      4341.      10.0   70  1\t\"ford galaxie 500\"\n",
            "14.0   8   454.0      220.0      4354.       9.0   70  1\t\"chevrolet impala\"\n",
            "14.0   8   440.0      215.0      4312.       8.5   70  1\t\"plymouth fury iii\"\n",
            "14.0   8   455.0      225.0      4425.      10.0   70  1\t\"pontiac catalina\"\n",
            "15.0   8   390.0      190.0      3850.       8.5   70  1\t\"amc ambassador dpl\"\n",
            "15.0   8   383.0      170.0      3563.      10.0   70  1\t\"dodge challenger se\"\n",
            "14.0   8   340.0      160.0      3609.       8.0   70  1\t\"plymouth 'cuda 340\"\n",
            "15.0   8   400.0      150.0      3761.       9.5   70  1\t\"chevrolet monte carlo\"\n",
            "14.0   8   455.0      225.0      3086.      10.0   70  1\t\"buick estate wagon (sw)\"\n",
            "24.0   4   113.0      95.00      2372.      15.0   70  3\t\"toyota corona mark ii\"\n",
            "22.0   6   198.0      95.00      2833.      15.5   70  1\t\"plymouth duster\"\n",
            "18.0   6   199.0      97.00      2774.      15.5   70  1\t\"amc hornet\"\n",
            "21.0   6   200.0      85.00      2587.      16.0   70  1\t\"ford maverick\"\n",
            "27.0   4   97.00      88.00      2130.      14.5   70  3\t\"datsun pl510\"\n",
            "26.0   4   97.00      46.00      1835.      20.5   70  2\t\"volkswagen 1131 deluxe sedan\"\n",
            "25.0   4   110.0      87.00      2672.      17.5   70  2\t\"peugeot 504\"\n",
            "24.0   4   107.0      90.00      2430.      14.5   70  2\t\"audi 100 ls\"\n",
            "25.0   4   104.0      95.00      2375.      17.5   70  2\t\"saab 99e\"\n",
            "26.0   4   121.0      113.0      2234.      12.5   70  2\t\"bmw 2002\"\n",
            "21.0   6   199.0      90.00      2648.      15.0   70  1\t\"amc gremlin\"\n",
            "10.0   8   360.0      215.0      4615.      14.0   70  1\t\"ford f250\"\n",
            "10.0   8   307.0      200.0      4376.      15.0   70  1\t\"chevy c20\"\n",
            "11.0   8   318.0      210.0      4382.      13.5   70  1\t\"dodge d200\"\n",
            "9.0    8   304.0      193.0      4732.      18.5   70  1\t\"hi 1200d\"\n",
            "27.0   4   97.00      88.00      2130.      14.5   71  3\t\"datsun pl510\"\n",
            "28.0   4   140.0      90.00      2264.      15.5   71  1\t\"chevrolet vega 2300\"\n",
            "25.0   4   113.0      95.00      2228.      14.0   71  3\t\"toyota corona\"\n",
            "25.0   4   98.00      ?          2046.      19.0   71  1\t\"ford pinto\"\n",
            "19.0   6   232.0      100.0      2634.      13.0   71  1\t\"amc gremlin\"\n",
            "16.0   6   225.0      105.0      3439.      15.5   71  1\t\"plymouth satellite custom\"\n",
            "17.0   6   250.0      100.0      3329.      15.5   71  1\t\"chevrolet chevelle malibu\"\n",
            "19.0   6   250.0      88.00      3302.      15.5   71  1\t\"ford torino 500\"\n",
            "18.0   6   232.0      100.0      3288.      15.5   71  1\t\"amc matador\"\n",
            "14.0   8   350.0      165.0      4209.      12.0   71  1\t\"chevrolet impala\"\n",
            "14.0   8   400.0      175.0      4464.      11.5   71  1\t\"pontiac catalina brougham\"\n",
            "14.0   8   351.0      153.0      4154.      13.5   71  1\t\"ford galaxie 500\"\n",
            "14.0   8   318.0      150.0      4096.      13.0   71  1\t\"plymouth fury iii\"\n",
            "12.0   8   383.0      180.0      4955.      11.5   71  1\t\"dodge monaco (sw)\"\n",
            "13.0   8   400.0      170.0      4746.      12.0   71  1\t\"ford country squire (sw)\"\n",
            "13.0   8   400.0      175.0      5140.      12.0   71  1\t\"pontiac safari (sw)\"\n",
            "18.0   6   258.0      110.0      2962.      13.5   71  1\t\"amc hornet sportabout (sw)\"\n",
            "22.0   4   140.0      72.00      2408.      19.0   71  1\t\"chevrolet vega (sw)\"\n",
            "19.0   6   250.0      100.0      3282.      15.0   71  1\t\"pontiac firebird\"\n",
            "18.0   6   250.0      88.00      3139.      14.5   71  1\t\"ford mustang\"\n",
            "23.0   4   122.0      86.00      2220.      14.0   71  1\t\"mercury capri 2000\"\n",
            "28.0   4   116.0      90.00      2123.      14.0   71  2\t\"opel 1900\"\n",
            "30.0   4   79.00      70.00      2074.      19.5   71  2\t\"peugeot 304\"\n",
            "30.0   4   88.00      76.00      2065.      14.5   71  2\t\"fiat 124b\"\n",
            "31.0   4   71.00      65.00      1773.      19.0   71  3\t\"toyota corolla 1200\"\n",
            "35.0   4   72.00      69.00      1613.      18.0   71  3\t\"datsun 1200\"\n",
            "27.0   4   97.00      60.00      1834.      19.0   71  2\t\"volkswagen model 111\"\n",
            "26.0   4   91.00      70.00      1955.      20.5   71  1\t\"plymouth cricket\"\n",
            "24.0   4   113.0      95.00      2278.      15.5   72  3\t\"toyota corona hardtop\"\n",
            "25.0   4   97.50      80.00      2126.      17.0   72  1\t\"dodge colt hardtop\"\n",
            "23.0   4   97.00      54.00      2254.      23.5   72  2\t\"volkswagen type 3\"\n",
            "20.0   4   140.0      90.00      2408.      19.5   72  1\t\"chevrolet vega\"\n",
            "21.0   4   122.0      86.00      2226.      16.5   72  1\t\"ford pinto runabout\"\n",
            "13.0   8   350.0      165.0      4274.      12.0   72  1\t\"chevrolet impala\"\n",
            "14.0   8   400.0      175.0      4385.      12.0   72  1\t\"pontiac catalina\"\n",
            "15.0   8   318.0      150.0      4135.      13.5   72  1\t\"plymouth fury iii\"\n",
            "14.0   8   351.0      153.0      4129.      13.0   72  1\t\"ford galaxie 500\"\n",
            "17.0   8   304.0      150.0      3672.      11.5   72  1\t\"amc ambassador sst\"\n",
            "11.0   8   429.0      208.0      4633.      11.0   72  1\t\"mercury marquis\"\n",
            "13.0   8   350.0      155.0      4502.      13.5   72  1\t\"buick lesabre custom\"\n",
            "12.0   8   350.0      160.0      4456.      13.5   72  1\t\"oldsmobile delta 88 royale\"\n",
            "13.0   8   400.0      190.0      4422.      12.5   72  1\t\"chrysler newport royal\"\n",
            "19.0   3   70.00      97.00      2330.      13.5   72  3\t\"mazda rx2 coupe\"\n",
            "15.0   8   304.0      150.0      3892.      12.5   72  1\t\"amc matador (sw)\"\n",
            "13.0   8   307.0      130.0      4098.      14.0   72  1\t\"chevrolet chevelle concours (sw)\"\n",
            "13.0   8   302.0      140.0      4294.      16.0   72  1\t\"ford gran torino (sw)\"\n",
            "14.0   8   318.0      150.0      4077.      14.0   72  1\t\"plymouth satellite custom (sw)\"\n",
            "18.0   4   121.0      112.0      2933.      14.5   72  2\t\"volvo 145e (sw)\"\n",
            "22.0   4   121.0      76.00      2511.      18.0   72  2\t\"volkswagen 411 (sw)\"\n",
            "21.0   4   120.0      87.00      2979.      19.5   72  2\t\"peugeot 504 (sw)\"\n",
            "26.0   4   96.00      69.00      2189.      18.0   72  2\t\"renault 12 (sw)\"\n",
            "22.0   4   122.0      86.00      2395.      16.0   72  1\t\"ford pinto (sw)\"\n",
            "28.0   4   97.00      92.00      2288.      17.0   72  3\t\"datsun 510 (sw)\"\n",
            "23.0   4   120.0      97.00      2506.      14.5   72  3\t\"toyouta corona mark ii (sw)\"\n",
            "28.0   4   98.00      80.00      2164.      15.0   72  1\t\"dodge colt (sw)\"\n",
            "27.0   4   97.00      88.00      2100.      16.5   72  3\t\"toyota corolla 1600 (sw)\"\n",
            "13.0   8   350.0      175.0      4100.      13.0   73  1\t\"buick century 350\"\n",
            "14.0   8   304.0      150.0      3672.      11.5   73  1\t\"amc matador\"\n",
            "13.0   8   350.0      145.0      3988.      13.0   73  1\t\"chevrolet malibu\"\n",
            "14.0   8   302.0      137.0      4042.      14.5   73  1\t\"ford gran torino\"\n",
            "15.0   8   318.0      150.0      3777.      12.5   73  1\t\"dodge coronet custom\"\n",
            "12.0   8   429.0      198.0      4952.      11.5   73  1\t\"mercury marquis brougham\"\n",
            "13.0   8   400.0      150.0      4464.      12.0   73  1\t\"chevrolet caprice classic\"\n",
            "13.0   8   351.0      158.0      4363.      13.0   73  1\t\"ford ltd\"\n",
            "14.0   8   318.0      150.0      4237.      14.5   73  1\t\"plymouth fury gran sedan\"\n",
            "13.0   8   440.0      215.0      4735.      11.0   73  1\t\"chrysler new yorker brougham\"\n",
            "12.0   8   455.0      225.0      4951.      11.0   73  1\t\"buick electra 225 custom\"\n",
            "13.0   8   360.0      175.0      3821.      11.0   73  1\t\"amc ambassador brougham\"\n",
            "18.0   6   225.0      105.0      3121.      16.5   73  1\t\"plymouth valiant\"\n",
            "16.0   6   250.0      100.0      3278.      18.0   73  1\t\"chevrolet nova custom\"\n",
            "18.0   6   232.0      100.0      2945.      16.0   73  1\t\"amc hornet\"\n",
            "18.0   6   250.0      88.00      3021.      16.5   73  1\t\"ford maverick\"\n",
            "23.0   6   198.0      95.00      2904.      16.0   73  1\t\"plymouth duster\"\n",
            "26.0   4   97.00      46.00      1950.      21.0   73  2\t\"volkswagen super beetle\"\n",
            "11.0   8   400.0      150.0      4997.      14.0   73  1\t\"chevrolet impala\"\n",
            "12.0   8   400.0      167.0      4906.      12.5   73  1\t\"ford country\"\n",
            "13.0   8   360.0      170.0      4654.      13.0   73  1\t\"plymouth custom suburb\"\n",
            "12.0   8   350.0      180.0      4499.      12.5   73  1\t\"oldsmobile vista cruiser\"\n",
            "18.0   6   232.0      100.0      2789.      15.0   73  1\t\"amc gremlin\"\n",
            "20.0   4   97.00      88.00      2279.      19.0   73  3\t\"toyota carina\"\n",
            "21.0   4   140.0      72.00      2401.      19.5   73  1\t\"chevrolet vega\"\n",
            "22.0   4   108.0      94.00      2379.      16.5   73  3\t\"datsun 610\"\n",
            "18.0   3   70.00      90.00      2124.      13.5   73  3\t\"maxda rx3\"\n",
            "19.0   4   122.0      85.00      2310.      18.5   73  1\t\"ford pinto\"\n",
            "21.0   6   155.0      107.0      2472.      14.0   73  1\t\"mercury capri v6\"\n",
            "26.0   4   98.00      90.00      2265.      15.5   73  2\t\"fiat 124 sport coupe\"\n",
            "15.0   8   350.0      145.0      4082.      13.0   73  1\t\"chevrolet monte carlo s\"\n",
            "16.0   8   400.0      230.0      4278.      9.50   73  1\t\"pontiac grand prix\"\n",
            "29.0   4   68.00      49.00      1867.      19.5   73  2\t\"fiat 128\"\n",
            "24.0   4   116.0      75.00      2158.      15.5   73  2\t\"opel manta\"\n",
            "20.0   4   114.0      91.00      2582.      14.0   73  2\t\"audi 100ls\"\n",
            "19.0   4   121.0      112.0      2868.      15.5   73  2\t\"volvo 144ea\"\n",
            "15.0   8   318.0      150.0      3399.      11.0   73  1\t\"dodge dart custom\"\n",
            "24.0   4   121.0      110.0      2660.      14.0   73  2\t\"saab 99le\"\n",
            "20.0   6   156.0      122.0      2807.      13.5   73  3\t\"toyota mark ii\"\n",
            "11.0   8   350.0      180.0      3664.      11.0   73  1\t\"oldsmobile omega\"\n",
            "20.0   6   198.0      95.00      3102.      16.5   74  1\t\"plymouth duster\"\n",
            "21.0   6   200.0      ?          2875.      17.0   74  1\t\"ford maverick\"\n",
            "19.0   6   232.0      100.0      2901.      16.0   74  1\t\"amc hornet\"\n",
            "15.0   6   250.0      100.0      3336.      17.0   74  1\t\"chevrolet nova\"\n",
            "31.0   4   79.00      67.00      1950.      19.0   74  3\t\"datsun b210\"\n",
            "26.0   4   122.0      80.00      2451.      16.5   74  1\t\"ford pinto\"\n",
            "32.0   4   71.00      65.00      1836.      21.0   74  3\t\"toyota corolla 1200\"\n",
            "25.0   4   140.0      75.00      2542.      17.0   74  1\t\"chevrolet vega\"\n",
            "16.0   6   250.0      100.0      3781.      17.0   74  1\t\"chevrolet chevelle malibu classic\"\n",
            "16.0   6   258.0      110.0      3632.      18.0   74  1\t\"amc matador\"\n",
            "18.0   6   225.0      105.0      3613.      16.5   74  1\t\"plymouth satellite sebring\"\n",
            "16.0   8   302.0      140.0      4141.      14.0   74  1\t\"ford gran torino\"\n",
            "13.0   8   350.0      150.0      4699.      14.5   74  1\t\"buick century luxus (sw)\"\n",
            "14.0   8   318.0      150.0      4457.      13.5   74  1\t\"dodge coronet custom (sw)\"\n",
            "14.0   8   302.0      140.0      4638.      16.0   74  1\t\"ford gran torino (sw)\"\n",
            "14.0   8   304.0      150.0      4257.      15.5   74  1\t\"amc matador (sw)\"\n",
            "29.0   4   98.00      83.00      2219.      16.5   74  2\t\"audi fox\"\n",
            "26.0   4   79.00      67.00      1963.      15.5   74  2\t\"volkswagen dasher\"\n",
            "26.0   4   97.00      78.00      2300.      14.5   74  2\t\"opel manta\"\n",
            "31.0   4   76.00      52.00      1649.      16.5   74  3\t\"toyota corona\"\n",
            "32.0   4   83.00      61.00      2003.      19.0   74  3\t\"datsun 710\"\n",
            "28.0   4   90.00      75.00      2125.      14.5   74  1\t\"dodge colt\"\n",
            "24.0   4   90.00      75.00      2108.      15.5   74  2\t\"fiat 128\"\n",
            "26.0   4   116.0      75.00      2246.      14.0   74  2\t\"fiat 124 tc\"\n",
            "24.0   4   120.0      97.00      2489.      15.0   74  3\t\"honda civic\"\n",
            "26.0   4   108.0      93.00      2391.      15.5   74  3\t\"subaru\"\n",
            "31.0   4   79.00      67.00      2000.      16.0   74  2\t\"fiat x1.9\"\n",
            "19.0   6   225.0      95.00      3264.      16.0   75  1\t\"plymouth valiant custom\"\n",
            "18.0   6   250.0      105.0      3459.      16.0   75  1\t\"chevrolet nova\"\n",
            "15.0   6   250.0      72.00      3432.      21.0   75  1\t\"mercury monarch\"\n",
            "15.0   6   250.0      72.00      3158.      19.5   75  1\t\"ford maverick\"\n",
            "16.0   8   400.0      170.0      4668.      11.5   75  1\t\"pontiac catalina\"\n",
            "15.0   8   350.0      145.0      4440.      14.0   75  1\t\"chevrolet bel air\"\n",
            "16.0   8   318.0      150.0      4498.      14.5   75  1\t\"plymouth grand fury\"\n",
            "14.0   8   351.0      148.0      4657.      13.5   75  1\t\"ford ltd\"\n",
            "17.0   6   231.0      110.0      3907.      21.0   75  1\t\"buick century\"\n",
            "16.0   6   250.0      105.0      3897.      18.5   75  1\t\"chevroelt chevelle malibu\"\n",
            "15.0   6   258.0      110.0      3730.      19.0   75  1\t\"amc matador\"\n",
            "18.0   6   225.0      95.00      3785.      19.0   75  1\t\"plymouth fury\"\n",
            "21.0   6   231.0      110.0      3039.      15.0   75  1\t\"buick skyhawk\"\n",
            "20.0   8   262.0      110.0      3221.      13.5   75  1\t\"chevrolet monza 2+2\"\n",
            "13.0   8   302.0      129.0      3169.      12.0   75  1\t\"ford mustang ii\"\n",
            "29.0   4   97.00      75.00      2171.      16.0   75  3\t\"toyota corolla\"\n",
            "23.0   4   140.0      83.00      2639.      17.0   75  1\t\"ford pinto\"\n",
            "20.0   6   232.0      100.0      2914.      16.0   75  1\t\"amc gremlin\"\n",
            "23.0   4   140.0      78.00      2592.      18.5   75  1\t\"pontiac astro\"\n",
            "24.0   4   134.0      96.00      2702.      13.5   75  3\t\"toyota corona\"\n",
            "25.0   4   90.00      71.00      2223.      16.5   75  2\t\"volkswagen dasher\"\n",
            "24.0   4   119.0      97.00      2545.      17.0   75  3\t\"datsun 710\"\n",
            "18.0   6   171.0      97.00      2984.      14.5   75  1\t\"ford pinto\"\n",
            "29.0   4   90.00      70.00      1937.      14.0   75  2\t\"volkswagen rabbit\"\n",
            "19.0   6   232.0      90.00      3211.      17.0   75  1\t\"amc pacer\"\n",
            "23.0   4   115.0      95.00      2694.      15.0   75  2\t\"audi 100ls\"\n",
            "23.0   4   120.0      88.00      2957.      17.0   75  2\t\"peugeot 504\"\n",
            "22.0   4   121.0      98.00      2945.      14.5   75  2\t\"volvo 244dl\"\n",
            "25.0   4   121.0      115.0      2671.      13.5   75  2\t\"saab 99le\"\n",
            "33.0   4   91.00      53.00      1795.      17.5   75  3\t\"honda civic cvcc\"\n",
            "28.0   4   107.0      86.00      2464.      15.5   76  2\t\"fiat 131\"\n",
            "25.0   4   116.0      81.00      2220.      16.9   76  2\t\"opel 1900\"\n",
            "25.0   4   140.0      92.00      2572.      14.9   76  1\t\"capri ii\"\n",
            "26.0   4   98.00      79.00      2255.      17.7   76  1\t\"dodge colt\"\n",
            "27.0   4   101.0      83.00      2202.      15.3   76  2\t\"renault 12tl\"\n",
            "17.5   8   305.0      140.0      4215.      13.0   76  1\t\"chevrolet chevelle malibu classic\"\n",
            "16.0   8   318.0      150.0      4190.      13.0   76  1\t\"dodge coronet brougham\"\n",
            "15.5   8   304.0      120.0      3962.      13.9   76  1\t\"amc matador\"\n",
            "14.5   8   351.0      152.0      4215.      12.8   76  1\t\"ford gran torino\"\n",
            "22.0   6   225.0      100.0      3233.      15.4   76  1\t\"plymouth valiant\"\n",
            "22.0   6   250.0      105.0      3353.      14.5   76  1\t\"chevrolet nova\"\n",
            "24.0   6   200.0      81.00      3012.      17.6   76  1\t\"ford maverick\"\n",
            "22.5   6   232.0      90.00      3085.      17.6   76  1\t\"amc hornet\"\n",
            "29.0   4   85.00      52.00      2035.      22.2   76  1\t\"chevrolet chevette\"\n",
            "24.5   4   98.00      60.00      2164.      22.1   76  1\t\"chevrolet woody\"\n",
            "29.0   4   90.00      70.00      1937.      14.2   76  2\t\"vw rabbit\"\n",
            "33.0   4   91.00      53.00      1795.      17.4   76  3\t\"honda civic\"\n",
            "20.0   6   225.0      100.0      3651.      17.7   76  1\t\"dodge aspen se\"\n",
            "18.0   6   250.0      78.00      3574.      21.0   76  1\t\"ford granada ghia\"\n",
            "18.5   6   250.0      110.0      3645.      16.2   76  1\t\"pontiac ventura sj\"\n",
            "17.5   6   258.0      95.00      3193.      17.8   76  1\t\"amc pacer d/l\"\n",
            "29.5   4   97.00      71.00      1825.      12.2   76  2\t\"volkswagen rabbit\"\n",
            "32.0   4   85.00      70.00      1990.      17.0   76  3\t\"datsun b-210\"\n",
            "28.0   4   97.00      75.00      2155.      16.4   76  3\t\"toyota corolla\"\n",
            "26.5   4   140.0      72.00      2565.      13.6   76  1\t\"ford pinto\"\n",
            "20.0   4   130.0      102.0      3150.      15.7   76  2\t\"volvo 245\"\n",
            "13.0   8   318.0      150.0      3940.      13.2   76  1\t\"plymouth volare premier v8\"\n",
            "19.0   4   120.0      88.00      3270.      21.9   76  2\t\"peugeot 504\"\n",
            "19.0   6   156.0      108.0      2930.      15.5   76  3\t\"toyota mark ii\"\n",
            "16.5   6   168.0      120.0      3820.      16.7   76  2\t\"mercedes-benz 280s\"\n",
            "16.5   8   350.0      180.0      4380.      12.1   76  1\t\"cadillac seville\"\n",
            "13.0   8   350.0      145.0      4055.      12.0   76  1\t\"chevy c10\"\n",
            "13.0   8   302.0      130.0      3870.      15.0   76  1\t\"ford f108\"\n",
            "13.0   8   318.0      150.0      3755.      14.0   76  1\t\"dodge d100\"\n",
            "31.5   4   98.00      68.00      2045.      18.5   77  3\t\"honda accord cvcc\"\n",
            "30.0   4   111.0      80.00      2155.      14.8   77  1\t\"buick opel isuzu deluxe\"\n",
            "36.0   4   79.00      58.00      1825.      18.6   77  2\t\"renault 5 gtl\"\n",
            "25.5   4   122.0      96.00      2300.      15.5   77  1\t\"plymouth arrow gs\"\n",
            "33.5   4   85.00      70.00      1945.      16.8   77  3\t\"datsun f-10 hatchback\"\n",
            "17.5   8   305.0      145.0      3880.      12.5   77  1\t\"chevrolet caprice classic\"\n",
            "17.0   8   260.0      110.0      4060.      19.0   77  1\t\"oldsmobile cutlass supreme\"\n",
            "15.5   8   318.0      145.0      4140.      13.7   77  1\t\"dodge monaco brougham\"\n",
            "15.0   8   302.0      130.0      4295.      14.9   77  1\t\"mercury cougar brougham\"\n",
            "17.5   6   250.0      110.0      3520.      16.4   77  1\t\"chevrolet concours\"\n",
            "20.5   6   231.0      105.0      3425.      16.9   77  1\t\"buick skylark\"\n",
            "19.0   6   225.0      100.0      3630.      17.7   77  1\t\"plymouth volare custom\"\n",
            "18.5   6   250.0      98.00      3525.      19.0   77  1\t\"ford granada\"\n",
            "16.0   8   400.0      180.0      4220.      11.1   77  1\t\"pontiac grand prix lj\"\n",
            "15.5   8   350.0      170.0      4165.      11.4   77  1\t\"chevrolet monte carlo landau\"\n",
            "15.5   8   400.0      190.0      4325.      12.2   77  1\t\"chrysler cordoba\"\n",
            "16.0   8   351.0      149.0      4335.      14.5   77  1\t\"ford thunderbird\"\n",
            "29.0   4   97.00      78.00      1940.      14.5   77  2\t\"volkswagen rabbit custom\"\n",
            "24.5   4   151.0      88.00      2740.      16.0   77  1\t\"pontiac sunbird coupe\"\n",
            "26.0   4   97.00      75.00      2265.      18.2   77  3\t\"toyota corolla liftback\"\n",
            "25.5   4   140.0      89.00      2755.      15.8   77  1\t\"ford mustang ii 2+2\"\n",
            "30.5   4   98.00      63.00      2051.      17.0   77  1\t\"chevrolet chevette\"\n",
            "33.5   4   98.00      83.00      2075.      15.9   77  1\t\"dodge colt m/m\"\n",
            "30.0   4   97.00      67.00      1985.      16.4   77  3\t\"subaru dl\"\n",
            "30.5   4   97.00      78.00      2190.      14.1   77  2\t\"volkswagen dasher\"\n",
            "22.0   6   146.0      97.00      2815.      14.5   77  3\t\"datsun 810\"\n",
            "21.5   4   121.0      110.0      2600.      12.8   77  2\t\"bmw 320i\"\n",
            "21.5   3   80.00      110.0      2720.      13.5   77  3\t\"mazda rx-4\"\n",
            "43.1   4   90.00      48.00      1985.      21.5   78  2\t\"volkswagen rabbit custom diesel\"\n",
            "36.1   4   98.00      66.00      1800.      14.4   78  1\t\"ford fiesta\"\n",
            "32.8   4   78.00      52.00      1985.      19.4   78  3\t\"mazda glc deluxe\"\n",
            "39.4   4   85.00      70.00      2070.      18.6   78  3\t\"datsun b210 gx\"\n",
            "36.1   4   91.00      60.00      1800.      16.4   78  3\t\"honda civic cvcc\"\n",
            "19.9   8   260.0      110.0      3365.      15.5   78  1\t\"oldsmobile cutlass salon brougham\"\n",
            "19.4   8   318.0      140.0      3735.      13.2   78  1\t\"dodge diplomat\"\n",
            "20.2   8   302.0      139.0      3570.      12.8   78  1\t\"mercury monarch ghia\"\n",
            "19.2   6   231.0      105.0      3535.      19.2   78  1\t\"pontiac phoenix lj\"\n",
            "20.5   6   200.0      95.00      3155.      18.2   78  1\t\"chevrolet malibu\"\n",
            "20.2   6   200.0      85.00      2965.      15.8   78  1\t\"ford fairmont (auto)\"\n",
            "25.1   4   140.0      88.00      2720.      15.4   78  1\t\"ford fairmont (man)\"\n",
            "20.5   6   225.0      100.0      3430.      17.2   78  1\t\"plymouth volare\"\n",
            "19.4   6   232.0      90.00      3210.      17.2   78  1\t\"amc concord\"\n",
            "20.6   6   231.0      105.0      3380.      15.8   78  1\t\"buick century special\"\n",
            "20.8   6   200.0      85.00      3070.      16.7   78  1\t\"mercury zephyr\"\n",
            "18.6   6   225.0      110.0      3620.      18.7   78  1\t\"dodge aspen\"\n",
            "18.1   6   258.0      120.0      3410.      15.1   78  1\t\"amc concord d/l\"\n",
            "19.2   8   305.0      145.0      3425.      13.2   78  1\t\"chevrolet monte carlo landau\"\n",
            "17.7   6   231.0      165.0      3445.      13.4   78  1\t\"buick regal sport coupe (turbo)\"\n",
            "18.1   8   302.0      139.0      3205.      11.2   78  1\t\"ford futura\"\n",
            "17.5   8   318.0      140.0      4080.      13.7   78  1\t\"dodge magnum xe\"\n",
            "30.0   4   98.00      68.00      2155.      16.5   78  1\t\"chevrolet chevette\"\n",
            "27.5   4   134.0      95.00      2560.      14.2   78  3\t\"toyota corona\"\n",
            "27.2   4   119.0      97.00      2300.      14.7   78  3\t\"datsun 510\"\n",
            "30.9   4   105.0      75.00      2230.      14.5   78  1\t\"dodge omni\"\n",
            "21.1   4   134.0      95.00      2515.      14.8   78  3\t\"toyota celica gt liftback\"\n",
            "23.2   4   156.0      105.0      2745.      16.7   78  1\t\"plymouth sapporo\"\n",
            "23.8   4   151.0      85.00      2855.      17.6   78  1\t\"oldsmobile starfire sx\"\n",
            "23.9   4   119.0      97.00      2405.      14.9   78  3\t\"datsun 200-sx\"\n",
            "20.3   5   131.0      103.0      2830.      15.9   78  2\t\"audi 5000\"\n",
            "17.0   6   163.0      125.0      3140.      13.6   78  2\t\"volvo 264gl\"\n",
            "21.6   4   121.0      115.0      2795.      15.7   78  2\t\"saab 99gle\"\n",
            "16.2   6   163.0      133.0      3410.      15.8   78  2\t\"peugeot 604sl\"\n",
            "31.5   4   89.00      71.00      1990.      14.9   78  2\t\"volkswagen scirocco\"\n",
            "29.5   4   98.00      68.00      2135.      16.6   78  3\t\"honda accord lx\"\n",
            "21.5   6   231.0      115.0      3245.      15.4   79  1\t\"pontiac lemans v6\"\n",
            "19.8   6   200.0      85.00      2990.      18.2   79  1\t\"mercury zephyr 6\"\n",
            "22.3   4   140.0      88.00      2890.      17.3   79  1\t\"ford fairmont 4\"\n",
            "20.2   6   232.0      90.00      3265.      18.2   79  1\t\"amc concord dl 6\"\n",
            "20.6   6   225.0      110.0      3360.      16.6   79  1\t\"dodge aspen 6\"\n",
            "17.0   8   305.0      130.0      3840.      15.4   79  1\t\"chevrolet caprice classic\"\n",
            "17.6   8   302.0      129.0      3725.      13.4   79  1\t\"ford ltd landau\"\n",
            "16.5   8   351.0      138.0      3955.      13.2   79  1\t\"mercury grand marquis\"\n",
            "18.2   8   318.0      135.0      3830.      15.2   79  1\t\"dodge st. regis\"\n",
            "16.9   8   350.0      155.0      4360.      14.9   79  1\t\"buick estate wagon (sw)\"\n",
            "15.5   8   351.0      142.0      4054.      14.3   79  1\t\"ford country squire (sw)\"\n",
            "19.2   8   267.0      125.0      3605.      15.0   79  1\t\"chevrolet malibu classic (sw)\"\n",
            "18.5   8   360.0      150.0      3940.      13.0   79  1\t\"chrysler lebaron town @ country (sw)\"\n",
            "31.9   4   89.00      71.00      1925.      14.0   79  2\t\"vw rabbit custom\"\n",
            "34.1   4   86.00      65.00      1975.      15.2   79  3\t\"maxda glc deluxe\"\n",
            "35.7   4   98.00      80.00      1915.      14.4   79  1\t\"dodge colt hatchback custom\"\n",
            "27.4   4   121.0      80.00      2670.      15.0   79  1\t\"amc spirit dl\"\n",
            "25.4   5   183.0      77.00      3530.      20.1   79  2\t\"mercedes benz 300d\"\n",
            "23.0   8   350.0      125.0      3900.      17.4   79  1\t\"cadillac eldorado\"\n",
            "27.2   4   141.0      71.00      3190.      24.8   79  2\t\"peugeot 504\"\n",
            "23.9   8   260.0      90.00      3420.      22.2   79  1\t\"oldsmobile cutlass salon brougham\"\n",
            "34.2   4   105.0      70.00      2200.      13.2   79  1\t\"plymouth horizon\"\n",
            "34.5   4   105.0      70.00      2150.      14.9   79  1\t\"plymouth horizon tc3\"\n",
            "31.8   4   85.00      65.00      2020.      19.2   79  3\t\"datsun 210\"\n",
            "37.3   4   91.00      69.00      2130.      14.7   79  2\t\"fiat strada custom\"\n",
            "28.4   4   151.0      90.00      2670.      16.0   79  1\t\"buick skylark limited\"\n",
            "28.8   6   173.0      115.0      2595.      11.3   79  1\t\"chevrolet citation\"\n",
            "26.8   6   173.0      115.0      2700.      12.9   79  1\t\"oldsmobile omega brougham\"\n",
            "33.5   4   151.0      90.00      2556.      13.2   79  1\t\"pontiac phoenix\"\n",
            "41.5   4   98.00      76.00      2144.      14.7   80  2\t\"vw rabbit\"\n",
            "38.1   4   89.00      60.00      1968.      18.8   80  3\t\"toyota corolla tercel\"\n",
            "32.1   4   98.00      70.00      2120.      15.5   80  1\t\"chevrolet chevette\"\n",
            "37.2   4   86.00      65.00      2019.      16.4   80  3\t\"datsun 310\"\n",
            "28.0   4   151.0      90.00      2678.      16.5   80  1\t\"chevrolet citation\"\n",
            "26.4   4   140.0      88.00      2870.      18.1   80  1\t\"ford fairmont\"\n",
            "24.3   4   151.0      90.00      3003.      20.1   80  1\t\"amc concord\"\n",
            "19.1   6   225.0      90.00      3381.      18.7   80  1\t\"dodge aspen\"\n",
            "34.3   4   97.00      78.00      2188.      15.8   80  2\t\"audi 4000\"\n",
            "29.8   4   134.0      90.00      2711.      15.5   80  3\t\"toyota corona liftback\"\n",
            "31.3   4   120.0      75.00      2542.      17.5   80  3\t\"mazda 626\"\n",
            "37.0   4   119.0      92.00      2434.      15.0   80  3\t\"datsun 510 hatchback\"\n",
            "32.2   4   108.0      75.00      2265.      15.2   80  3\t\"toyota corolla\"\n",
            "46.6   4   86.00      65.00      2110.      17.9   80  3\t\"mazda glc\"\n",
            "27.9   4   156.0      105.0      2800.      14.4   80  1\t\"dodge colt\"\n",
            "40.8   4   85.00      65.00      2110.      19.2   80  3\t\"datsun 210\"\n",
            "44.3   4   90.00      48.00      2085.      21.7   80  2\t\"vw rabbit c (diesel)\"\n",
            "43.4   4   90.00      48.00      2335.      23.7   80  2\t\"vw dasher (diesel)\"\n",
            "36.4   5   121.0      67.00      2950.      19.9   80  2\t\"audi 5000s (diesel)\"\n",
            "30.0   4   146.0      67.00      3250.      21.8   80  2\t\"mercedes-benz 240d\"\n",
            "44.6   4   91.00      67.00      1850.      13.8   80  3\t\"honda civic 1500 gl\"\n",
            "40.9   4   85.00      ?          1835.      17.3   80  2\t\"renault lecar deluxe\"\n",
            "33.8   4   97.00      67.00      2145.      18.0   80  3\t\"subaru dl\"\n",
            "29.8   4   89.00      62.00      1845.      15.3   80  2\t\"vokswagen rabbit\"\n",
            "32.7   6   168.0      132.0      2910.      11.4   80  3\t\"datsun 280-zx\"\n",
            "23.7   3   70.00      100.0      2420.      12.5   80  3\t\"mazda rx-7 gs\"\n",
            "35.0   4   122.0      88.00      2500.      15.1   80  2\t\"triumph tr7 coupe\"\n",
            "23.6   4   140.0      ?          2905.      14.3   80  1\t\"ford mustang cobra\"\n",
            "32.4   4   107.0      72.00      2290.      17.0   80  3\t\"honda accord\"\n",
            "27.2   4   135.0      84.00      2490.      15.7   81  1\t\"plymouth reliant\"\n",
            "26.6   4   151.0      84.00      2635.      16.4   81  1\t\"buick skylark\"\n",
            "25.8   4   156.0      92.00      2620.      14.4   81  1\t\"dodge aries wagon (sw)\"\n",
            "23.5   6   173.0      110.0      2725.      12.6   81  1\t\"chevrolet citation\"\n",
            "30.0   4   135.0      84.00      2385.      12.9   81  1\t\"plymouth reliant\"\n",
            "39.1   4   79.00      58.00      1755.      16.9   81  3\t\"toyota starlet\"\n",
            "39.0   4   86.00      64.00      1875.      16.4   81  1\t\"plymouth champ\"\n",
            "35.1   4   81.00      60.00      1760.      16.1   81  3\t\"honda civic 1300\"\n",
            "32.3   4   97.00      67.00      2065.      17.8   81  3\t\"subaru\"\n",
            "37.0   4   85.00      65.00      1975.      19.4   81  3\t\"datsun 210 mpg\"\n",
            "37.7   4   89.00      62.00      2050.      17.3   81  3\t\"toyota tercel\"\n",
            "34.1   4   91.00      68.00      1985.      16.0   81  3\t\"mazda glc 4\"\n",
            "34.7   4   105.0      63.00      2215.      14.9   81  1\t\"plymouth horizon 4\"\n",
            "34.4   4   98.00      65.00      2045.      16.2   81  1\t\"ford escort 4w\"\n",
            "29.9   4   98.00      65.00      2380.      20.7   81  1\t\"ford escort 2h\"\n",
            "33.0   4   105.0      74.00      2190.      14.2   81  2\t\"volkswagen jetta\"\n",
            "34.5   4   100.0      ?          2320.      15.8   81  2\t\"renault 18i\"\n",
            "33.7   4   107.0      75.00      2210.      14.4   81  3\t\"honda prelude\"\n",
            "32.4   4   108.0      75.00      2350.      16.8   81  3\t\"toyota corolla\"\n",
            "32.9   4   119.0      100.0      2615.      14.8   81  3\t\"datsun 200sx\"\n",
            "31.6   4   120.0      74.00      2635.      18.3   81  3\t\"mazda 626\"\n",
            "28.1   4   141.0      80.00      3230.      20.4   81  2\t\"peugeot 505s turbo diesel\"\n",
            "30.7   6   145.0      76.00      3160.      19.6   81  2\t\"volvo diesel\"\n",
            "25.4   6   168.0      116.0      2900.      12.6   81  3\t\"toyota cressida\"\n",
            "24.2   6   146.0      120.0      2930.      13.8   81  3\t\"datsun 810 maxima\"\n",
            "22.4   6   231.0      110.0      3415.      15.8   81  1\t\"buick century\"\n",
            "26.6   8   350.0      105.0      3725.      19.0   81  1\t\"oldsmobile cutlass ls\"\n",
            "20.2   6   200.0      88.00      3060.      17.1   81  1\t\"ford granada gl\"\n",
            "17.6   6   225.0      85.00      3465.      16.6   81  1\t\"chrysler lebaron salon\"\n",
            "28.0   4   112.0      88.00      2605.      19.6   82  1\t\"chevrolet cavalier\"\n",
            "27.0   4   112.0      88.00      2640.      18.6   82  1\t\"chevrolet cavalier wagon\"\n",
            "34.0   4   112.0      88.00      2395.      18.0   82  1\t\"chevrolet cavalier 2-door\"\n",
            "31.0   4   112.0      85.00      2575.      16.2   82  1\t\"pontiac j2000 se hatchback\"\n",
            "29.0   4   135.0      84.00      2525.      16.0   82  1\t\"dodge aries se\"\n",
            "27.0   4   151.0      90.00      2735.      18.0   82  1\t\"pontiac phoenix\"\n",
            "24.0   4   140.0      92.00      2865.      16.4   82  1\t\"ford fairmont futura\"\n",
            "23.0   4   151.0      ?          3035.      20.5   82  1\t\"amc concord dl\"\n",
            "36.0   4   105.0      74.00      1980.      15.3   82  2\t\"volkswagen rabbit l\"\n",
            "37.0   4   91.00      68.00      2025.      18.2   82  3\t\"mazda glc custom l\"\n",
            "31.0   4   91.00      68.00      1970.      17.6   82  3\t\"mazda glc custom\"\n",
            "38.0   4   105.0      63.00      2125.      14.7   82  1\t\"plymouth horizon miser\"\n",
            "36.0   4   98.00      70.00      2125.      17.3   82  1\t\"mercury lynx l\"\n",
            "36.0   4   120.0      88.00      2160.      14.5   82  3\t\"nissan stanza xe\"\n",
            "36.0   4   107.0      75.00      2205.      14.5   82  3\t\"honda accord\"\n",
            "34.0   4   108.0      70.00      2245       16.9   82  3\t\"toyota corolla\"\n",
            "38.0   4   91.00      67.00      1965.      15.0   82  3\t\"honda civic\"\n",
            "32.0   4   91.00      67.00      1965.      15.7   82  3\t\"honda civic (auto)\"\n",
            "38.0   4   91.00      67.00      1995.      16.2   82  3\t\"datsun 310 gx\"\n",
            "25.0   6   181.0      110.0      2945.      16.4   82  1\t\"buick century limited\"\n",
            "38.0   6   262.0      85.00      3015.      17.0   82  1\t\"oldsmobile cutlass ciera (diesel)\"\n",
            "26.0   4   156.0      92.00      2585.      14.5   82  1\t\"chrysler lebaron medallion\"\n",
            "22.0   6   232.0      112.0      2835       14.7   82  1\t\"ford granada l\"\n",
            "32.0   4   144.0      96.00      2665.      13.9   82  3\t\"toyota celica gt\"\n",
            "36.0   4   135.0      84.00      2370.      13.0   82  1\t\"dodge charger 2.2\"\n",
            "27.0   4   151.0      90.00      2950.      17.3   82  1\t\"chevrolet camaro\"\n",
            "27.0   4   140.0      86.00      2790.      15.6   82  1\t\"ford mustang gl\"\n",
            "44.0   4   97.00      52.00      2130.      24.6   82  2\t\"vw pickup\"\n",
            "32.0   4   135.0      84.00      2295.      11.6   82  1\t\"dodge rampage\"\n",
            "28.0   4   120.0      79.00      2625.      18.6   82  1\t\"ford ranger\"\n",
            "31.0   4   119.0      82.00      2720.      19.4   82  1\t\"chevy s-10\"\n"
          ],
          "name": "stdout"
        }
      ]
    },
    {
      "cell_type": "code",
      "metadata": {
        "id": "fuOkgPViTgZO",
        "colab_type": "code",
        "outputId": "a99ef329-d4e9-4b64-82a8-72e975b8aa72",
        "colab": {
          "base_uri": "https://localhost:8080/",
          "height": 212
        }
      },
      "source": [
        "# Set Pandas Display Options\n",
        "pd.set_option('display.max_rows', 100)\n",
        "\n",
        "df = pd.read_csv('auto-mpg 2.csv', na_values='?')\n",
        "\n",
        "print(df.shape)\n",
        "df.head()"
      ],
      "execution_count": 0,
      "outputs": [
        {
          "output_type": "stream",
          "text": [
            "(398, 9)\n"
          ],
          "name": "stdout"
        },
        {
          "output_type": "execute_result",
          "data": {
            "text/html": [
              "<div>\n",
              "<style scoped>\n",
              "    .dataframe tbody tr th:only-of-type {\n",
              "        vertical-align: middle;\n",
              "    }\n",
              "\n",
              "    .dataframe tbody tr th {\n",
              "        vertical-align: top;\n",
              "    }\n",
              "\n",
              "    .dataframe thead th {\n",
              "        text-align: right;\n",
              "    }\n",
              "</style>\n",
              "<table border=\"1\" class=\"dataframe\">\n",
              "  <thead>\n",
              "    <tr style=\"text-align: right;\">\n",
              "      <th></th>\n",
              "      <th>mpg</th>\n",
              "      <th>cylinders</th>\n",
              "      <th>displacement</th>\n",
              "      <th>horsepower</th>\n",
              "      <th>weight</th>\n",
              "      <th>acceleration</th>\n",
              "      <th>model year</th>\n",
              "      <th>origin</th>\n",
              "      <th>car name</th>\n",
              "    </tr>\n",
              "  </thead>\n",
              "  <tbody>\n",
              "    <tr>\n",
              "      <th>0</th>\n",
              "      <td>18.0</td>\n",
              "      <td>8</td>\n",
              "      <td>307.0</td>\n",
              "      <td>130.0</td>\n",
              "      <td>3504</td>\n",
              "      <td>12.0</td>\n",
              "      <td>70</td>\n",
              "      <td>1</td>\n",
              "      <td>chevrolet chevelle malibu</td>\n",
              "    </tr>\n",
              "    <tr>\n",
              "      <th>1</th>\n",
              "      <td>15.0</td>\n",
              "      <td>8</td>\n",
              "      <td>350.0</td>\n",
              "      <td>165.0</td>\n",
              "      <td>3693</td>\n",
              "      <td>11.5</td>\n",
              "      <td>70</td>\n",
              "      <td>1</td>\n",
              "      <td>buick skylark 320</td>\n",
              "    </tr>\n",
              "    <tr>\n",
              "      <th>2</th>\n",
              "      <td>18.0</td>\n",
              "      <td>8</td>\n",
              "      <td>318.0</td>\n",
              "      <td>150.0</td>\n",
              "      <td>3436</td>\n",
              "      <td>11.0</td>\n",
              "      <td>70</td>\n",
              "      <td>1</td>\n",
              "      <td>plymouth satellite</td>\n",
              "    </tr>\n",
              "    <tr>\n",
              "      <th>3</th>\n",
              "      <td>16.0</td>\n",
              "      <td>8</td>\n",
              "      <td>304.0</td>\n",
              "      <td>150.0</td>\n",
              "      <td>3433</td>\n",
              "      <td>12.0</td>\n",
              "      <td>70</td>\n",
              "      <td>1</td>\n",
              "      <td>amc rebel sst</td>\n",
              "    </tr>\n",
              "    <tr>\n",
              "      <th>4</th>\n",
              "      <td>17.0</td>\n",
              "      <td>8</td>\n",
              "      <td>302.0</td>\n",
              "      <td>140.0</td>\n",
              "      <td>3449</td>\n",
              "      <td>10.5</td>\n",
              "      <td>70</td>\n",
              "      <td>1</td>\n",
              "      <td>ford torino</td>\n",
              "    </tr>\n",
              "  </tbody>\n",
              "</table>\n",
              "</div>"
            ],
            "text/plain": [
              "    mpg  cylinders  displacement  ...  model year  origin                   car name\n",
              "0  18.0          8         307.0  ...          70       1  chevrolet chevelle malibu\n",
              "1  15.0          8         350.0  ...          70       1          buick skylark 320\n",
              "2  18.0          8         318.0  ...          70       1         plymouth satellite\n",
              "3  16.0          8         304.0  ...          70       1              amc rebel sst\n",
              "4  17.0          8         302.0  ...          70       1                ford torino\n",
              "\n",
              "[5 rows x 9 columns]"
            ]
          },
          "metadata": {
            "tags": []
          },
          "execution_count": 89
        }
      ]
    },
    {
      "cell_type": "code",
      "metadata": {
        "id": "h2JeYt62V7qB",
        "colab_type": "code",
        "outputId": "9c682451-aa69-496c-8559-f004be16b71c",
        "colab": {
          "base_uri": "https://localhost:8080/",
          "height": 284
        }
      },
      "source": [
        "df.describe()"
      ],
      "execution_count": 0,
      "outputs": [
        {
          "output_type": "execute_result",
          "data": {
            "text/html": [
              "<div>\n",
              "<style scoped>\n",
              "    .dataframe tbody tr th:only-of-type {\n",
              "        vertical-align: middle;\n",
              "    }\n",
              "\n",
              "    .dataframe tbody tr th {\n",
              "        vertical-align: top;\n",
              "    }\n",
              "\n",
              "    .dataframe thead th {\n",
              "        text-align: right;\n",
              "    }\n",
              "</style>\n",
              "<table border=\"1\" class=\"dataframe\">\n",
              "  <thead>\n",
              "    <tr style=\"text-align: right;\">\n",
              "      <th></th>\n",
              "      <th>mpg</th>\n",
              "      <th>cylinders</th>\n",
              "      <th>displacement</th>\n",
              "      <th>horsepower</th>\n",
              "      <th>weight</th>\n",
              "      <th>acceleration</th>\n",
              "      <th>model year</th>\n",
              "      <th>origin</th>\n",
              "    </tr>\n",
              "  </thead>\n",
              "  <tbody>\n",
              "    <tr>\n",
              "      <th>count</th>\n",
              "      <td>398.000000</td>\n",
              "      <td>398.000000</td>\n",
              "      <td>398.000000</td>\n",
              "      <td>392.000000</td>\n",
              "      <td>398.000000</td>\n",
              "      <td>398.000000</td>\n",
              "      <td>398.000000</td>\n",
              "      <td>398.000000</td>\n",
              "    </tr>\n",
              "    <tr>\n",
              "      <th>mean</th>\n",
              "      <td>23.514573</td>\n",
              "      <td>5.454774</td>\n",
              "      <td>193.425879</td>\n",
              "      <td>104.469388</td>\n",
              "      <td>2970.424623</td>\n",
              "      <td>15.568090</td>\n",
              "      <td>76.010050</td>\n",
              "      <td>1.572864</td>\n",
              "    </tr>\n",
              "    <tr>\n",
              "      <th>std</th>\n",
              "      <td>7.815984</td>\n",
              "      <td>1.701004</td>\n",
              "      <td>104.269838</td>\n",
              "      <td>38.491160</td>\n",
              "      <td>846.841774</td>\n",
              "      <td>2.757689</td>\n",
              "      <td>3.697627</td>\n",
              "      <td>0.802055</td>\n",
              "    </tr>\n",
              "    <tr>\n",
              "      <th>min</th>\n",
              "      <td>9.000000</td>\n",
              "      <td>3.000000</td>\n",
              "      <td>68.000000</td>\n",
              "      <td>46.000000</td>\n",
              "      <td>1613.000000</td>\n",
              "      <td>8.000000</td>\n",
              "      <td>70.000000</td>\n",
              "      <td>1.000000</td>\n",
              "    </tr>\n",
              "    <tr>\n",
              "      <th>25%</th>\n",
              "      <td>17.500000</td>\n",
              "      <td>4.000000</td>\n",
              "      <td>104.250000</td>\n",
              "      <td>75.000000</td>\n",
              "      <td>2223.750000</td>\n",
              "      <td>13.825000</td>\n",
              "      <td>73.000000</td>\n",
              "      <td>1.000000</td>\n",
              "    </tr>\n",
              "    <tr>\n",
              "      <th>50%</th>\n",
              "      <td>23.000000</td>\n",
              "      <td>4.000000</td>\n",
              "      <td>148.500000</td>\n",
              "      <td>93.500000</td>\n",
              "      <td>2803.500000</td>\n",
              "      <td>15.500000</td>\n",
              "      <td>76.000000</td>\n",
              "      <td>1.000000</td>\n",
              "    </tr>\n",
              "    <tr>\n",
              "      <th>75%</th>\n",
              "      <td>29.000000</td>\n",
              "      <td>8.000000</td>\n",
              "      <td>262.000000</td>\n",
              "      <td>126.000000</td>\n",
              "      <td>3608.000000</td>\n",
              "      <td>17.175000</td>\n",
              "      <td>79.000000</td>\n",
              "      <td>2.000000</td>\n",
              "    </tr>\n",
              "    <tr>\n",
              "      <th>max</th>\n",
              "      <td>46.600000</td>\n",
              "      <td>8.000000</td>\n",
              "      <td>455.000000</td>\n",
              "      <td>230.000000</td>\n",
              "      <td>5140.000000</td>\n",
              "      <td>24.800000</td>\n",
              "      <td>82.000000</td>\n",
              "      <td>3.000000</td>\n",
              "    </tr>\n",
              "  </tbody>\n",
              "</table>\n",
              "</div>"
            ],
            "text/plain": [
              "              mpg   cylinders  ...  model year      origin\n",
              "count  398.000000  398.000000  ...  398.000000  398.000000\n",
              "mean    23.514573    5.454774  ...   76.010050    1.572864\n",
              "std      7.815984    1.701004  ...    3.697627    0.802055\n",
              "min      9.000000    3.000000  ...   70.000000    1.000000\n",
              "25%     17.500000    4.000000  ...   73.000000    1.000000\n",
              "50%     23.000000    4.000000  ...   76.000000    1.000000\n",
              "75%     29.000000    8.000000  ...   79.000000    2.000000\n",
              "max     46.600000    8.000000  ...   82.000000    3.000000\n",
              "\n",
              "[8 rows x 8 columns]"
            ]
          },
          "metadata": {
            "tags": []
          },
          "execution_count": 90
        }
      ]
    },
    {
      "cell_type": "code",
      "metadata": {
        "id": "IL3R7a3tV_LL",
        "colab_type": "code",
        "outputId": "74970d16-c7a6-4860-8edc-216d7aa8f945",
        "colab": {
          "base_uri": "https://localhost:8080/",
          "height": 166
        }
      },
      "source": [
        "df.describe(exclude='number')"
      ],
      "execution_count": 0,
      "outputs": [
        {
          "output_type": "execute_result",
          "data": {
            "text/html": [
              "<div>\n",
              "<style scoped>\n",
              "    .dataframe tbody tr th:only-of-type {\n",
              "        vertical-align: middle;\n",
              "    }\n",
              "\n",
              "    .dataframe tbody tr th {\n",
              "        vertical-align: top;\n",
              "    }\n",
              "\n",
              "    .dataframe thead th {\n",
              "        text-align: right;\n",
              "    }\n",
              "</style>\n",
              "<table border=\"1\" class=\"dataframe\">\n",
              "  <thead>\n",
              "    <tr style=\"text-align: right;\">\n",
              "      <th></th>\n",
              "      <th>car name</th>\n",
              "    </tr>\n",
              "  </thead>\n",
              "  <tbody>\n",
              "    <tr>\n",
              "      <th>count</th>\n",
              "      <td>398</td>\n",
              "    </tr>\n",
              "    <tr>\n",
              "      <th>unique</th>\n",
              "      <td>305</td>\n",
              "    </tr>\n",
              "    <tr>\n",
              "      <th>top</th>\n",
              "      <td>ford pinto</td>\n",
              "    </tr>\n",
              "    <tr>\n",
              "      <th>freq</th>\n",
              "      <td>6</td>\n",
              "    </tr>\n",
              "  </tbody>\n",
              "</table>\n",
              "</div>"
            ],
            "text/plain": [
              "          car name\n",
              "count          398\n",
              "unique         305\n",
              "top     ford pinto\n",
              "freq             6"
            ]
          },
          "metadata": {
            "tags": []
          },
          "execution_count": 91
        }
      ]
    },
    {
      "cell_type": "code",
      "metadata": {
        "id": "c8nVB7mmTtsT",
        "colab_type": "code",
        "outputId": "74dce063-7cc9-4613-ee75-b44902b15906",
        "colab": {
          "base_uri": "https://localhost:8080/",
          "height": 185
        }
      },
      "source": [
        "df.dtypes"
      ],
      "execution_count": 0,
      "outputs": [
        {
          "output_type": "execute_result",
          "data": {
            "text/plain": [
              "mpg             float64\n",
              "cylinders         int64\n",
              "displacement    float64\n",
              "horsepower      float64\n",
              "weight            int64\n",
              "acceleration    float64\n",
              "model year        int64\n",
              "origin            int64\n",
              "car name         object\n",
              "dtype: object"
            ]
          },
          "metadata": {
            "tags": []
          },
          "execution_count": 82
        }
      ]
    },
    {
      "cell_type": "code",
      "metadata": {
        "id": "-_WmncdmU9Al",
        "colab_type": "code",
        "outputId": "537b5693-3f59-4f90-c13f-832b77c6fd9a",
        "colab": {
          "base_uri": "https://localhost:8080/",
          "height": 1000
        }
      },
      "source": [
        "df['horsepower'].value_counts(dropna=False)"
      ],
      "execution_count": 0,
      "outputs": [
        {
          "output_type": "execute_result",
          "data": {
            "text/plain": [
              "150.0    22\n",
              "90.0     20\n",
              "88.0     19\n",
              "110.0    18\n",
              "100.0    17\n",
              "75.0     14\n",
              "95.0     14\n",
              "105.0    12\n",
              "67.0     12\n",
              "70.0     12\n",
              "65.0     10\n",
              "97.0      9\n",
              "85.0      9\n",
              "140.0     7\n",
              "145.0     7\n",
              "80.0      7\n",
              "78.0      6\n",
              "92.0      6\n",
              "NaN       6\n",
              "72.0      6\n",
              "84.0      6\n",
              "68.0      6\n",
              "130.0     5\n",
              "115.0     5\n",
              "175.0     5\n",
              "180.0     5\n",
              "60.0      5\n",
              "71.0      5\n",
              "86.0      5\n",
              "170.0     5\n",
              "76.0      4\n",
              "165.0     4\n",
              "120.0     4\n",
              "52.0      4\n",
              "83.0      4\n",
              "48.0      3\n",
              "74.0      3\n",
              "69.0      3\n",
              "215.0     3\n",
              "112.0     3\n",
              "225.0     3\n",
              "125.0     3\n",
              "190.0     3\n",
              "96.0      3\n",
              "63.0      3\n",
              "155.0     2\n",
              "87.0      2\n",
              "81.0      2\n",
              "79.0      2\n",
              "129.0     2\n",
              "46.0      2\n",
              "62.0      2\n",
              "198.0     2\n",
              "53.0      2\n",
              "58.0      2\n",
              "160.0     2\n",
              "153.0     2\n",
              "139.0     2\n",
              "98.0      2\n",
              "193.0     1\n",
              "220.0     1\n",
              "113.0     1\n",
              "200.0     1\n",
              "210.0     1\n",
              "82.0      1\n",
              "54.0      1\n",
              "102.0     1\n",
              "64.0      1\n",
              "132.0     1\n",
              "77.0      1\n",
              "142.0     1\n",
              "135.0     1\n",
              "138.0     1\n",
              "133.0     1\n",
              "103.0     1\n",
              "66.0      1\n",
              "89.0      1\n",
              "149.0     1\n",
              "108.0     1\n",
              "152.0     1\n",
              "208.0     1\n",
              "148.0     1\n",
              "93.0      1\n",
              "61.0      1\n",
              "122.0     1\n",
              "91.0      1\n",
              "49.0      1\n",
              "230.0     1\n",
              "107.0     1\n",
              "116.0     1\n",
              "167.0     1\n",
              "158.0     1\n",
              "137.0     1\n",
              "94.0      1\n",
              "Name: horsepower, dtype: int64"
            ]
          },
          "metadata": {
            "tags": []
          },
          "execution_count": 84
        }
      ]
    },
    {
      "cell_type": "code",
      "metadata": {
        "id": "z-JwbY8KVP8F",
        "colab_type": "code",
        "outputId": "ffae8642-dae5-4577-bdd7-95b2cd365a08",
        "colab": {
          "base_uri": "https://localhost:8080/",
          "height": 185
        }
      },
      "source": [
        "df.isnull().sum()"
      ],
      "execution_count": 0,
      "outputs": [
        {
          "output_type": "execute_result",
          "data": {
            "text/plain": [
              "mpg             0\n",
              "cylinders       0\n",
              "displacement    0\n",
              "horsepower      6\n",
              "weight          0\n",
              "acceleration    0\n",
              "model year      0\n",
              "origin          0\n",
              "car name        0\n",
              "dtype: int64"
            ]
          },
          "metadata": {
            "tags": []
          },
          "execution_count": 85
        }
      ]
    },
    {
      "cell_type": "code",
      "metadata": {
        "id": "5Xqxa9xsVi8C",
        "colab_type": "code",
        "colab": {}
      },
      "source": [
        "df['horsepower'] = df.replace({'?': np.NaN})"
      ],
      "execution_count": 0,
      "outputs": []
    },
    {
      "cell_type": "markdown",
      "metadata": {
        "id": "sp_vBvl_WTRo",
        "colab_type": "text"
      },
      "source": [
        "## Basic Exploratory Graphs with Pandas:"
      ]
    },
    {
      "cell_type": "code",
      "metadata": {
        "id": "WOX6RUlwWY8q",
        "colab_type": "code",
        "outputId": "dea8c9f5-d8cd-4420-dc89-77f420f5b3d7",
        "colab": {
          "base_uri": "https://localhost:8080/",
          "height": 195
        }
      },
      "source": [
        "df.head()"
      ],
      "execution_count": 0,
      "outputs": [
        {
          "output_type": "execute_result",
          "data": {
            "text/html": [
              "<div>\n",
              "<style scoped>\n",
              "    .dataframe tbody tr th:only-of-type {\n",
              "        vertical-align: middle;\n",
              "    }\n",
              "\n",
              "    .dataframe tbody tr th {\n",
              "        vertical-align: top;\n",
              "    }\n",
              "\n",
              "    .dataframe thead th {\n",
              "        text-align: right;\n",
              "    }\n",
              "</style>\n",
              "<table border=\"1\" class=\"dataframe\">\n",
              "  <thead>\n",
              "    <tr style=\"text-align: right;\">\n",
              "      <th></th>\n",
              "      <th>mpg</th>\n",
              "      <th>cylinders</th>\n",
              "      <th>displacement</th>\n",
              "      <th>horsepower</th>\n",
              "      <th>weight</th>\n",
              "      <th>acceleration</th>\n",
              "      <th>model year</th>\n",
              "      <th>origin</th>\n",
              "      <th>car name</th>\n",
              "    </tr>\n",
              "  </thead>\n",
              "  <tbody>\n",
              "    <tr>\n",
              "      <th>0</th>\n",
              "      <td>18.0</td>\n",
              "      <td>8</td>\n",
              "      <td>307.0</td>\n",
              "      <td>130.0</td>\n",
              "      <td>3504</td>\n",
              "      <td>12.0</td>\n",
              "      <td>70</td>\n",
              "      <td>1</td>\n",
              "      <td>chevrolet chevelle malibu</td>\n",
              "    </tr>\n",
              "    <tr>\n",
              "      <th>1</th>\n",
              "      <td>15.0</td>\n",
              "      <td>8</td>\n",
              "      <td>350.0</td>\n",
              "      <td>165.0</td>\n",
              "      <td>3693</td>\n",
              "      <td>11.5</td>\n",
              "      <td>70</td>\n",
              "      <td>1</td>\n",
              "      <td>buick skylark 320</td>\n",
              "    </tr>\n",
              "    <tr>\n",
              "      <th>2</th>\n",
              "      <td>18.0</td>\n",
              "      <td>8</td>\n",
              "      <td>318.0</td>\n",
              "      <td>150.0</td>\n",
              "      <td>3436</td>\n",
              "      <td>11.0</td>\n",
              "      <td>70</td>\n",
              "      <td>1</td>\n",
              "      <td>plymouth satellite</td>\n",
              "    </tr>\n",
              "    <tr>\n",
              "      <th>3</th>\n",
              "      <td>16.0</td>\n",
              "      <td>8</td>\n",
              "      <td>304.0</td>\n",
              "      <td>150.0</td>\n",
              "      <td>3433</td>\n",
              "      <td>12.0</td>\n",
              "      <td>70</td>\n",
              "      <td>1</td>\n",
              "      <td>amc rebel sst</td>\n",
              "    </tr>\n",
              "    <tr>\n",
              "      <th>4</th>\n",
              "      <td>17.0</td>\n",
              "      <td>8</td>\n",
              "      <td>302.0</td>\n",
              "      <td>140.0</td>\n",
              "      <td>3449</td>\n",
              "      <td>10.5</td>\n",
              "      <td>70</td>\n",
              "      <td>1</td>\n",
              "      <td>ford torino</td>\n",
              "    </tr>\n",
              "  </tbody>\n",
              "</table>\n",
              "</div>"
            ],
            "text/plain": [
              "    mpg  cylinders  displacement  ...  model year  origin                   car name\n",
              "0  18.0          8         307.0  ...          70       1  chevrolet chevelle malibu\n",
              "1  15.0          8         350.0  ...          70       1          buick skylark 320\n",
              "2  18.0          8         318.0  ...          70       1         plymouth satellite\n",
              "3  16.0          8         304.0  ...          70       1              amc rebel sst\n",
              "4  17.0          8         302.0  ...          70       1                ford torino\n",
              "\n",
              "[5 rows x 9 columns]"
            ]
          },
          "metadata": {
            "tags": []
          },
          "execution_count": 92
        }
      ]
    },
    {
      "cell_type": "code",
      "metadata": {
        "id": "7RH8B5zIWWW0",
        "colab_type": "code",
        "outputId": "64749472-bdbb-4840-830b-62fe437f794b",
        "colab": {
          "base_uri": "https://localhost:8080/",
          "height": 265
        }
      },
      "source": [
        "df['mpg'].hist();"
      ],
      "execution_count": 0,
      "outputs": [
        {
          "output_type": "display_data",
          "data": {
            "image/png": "[encoded data removed]",
            "text/plain": [
              "<Figure size 432x288 with 1 Axes>"
            ]
          },
          "metadata": {
            "tags": [],
            "needs_background": "light"
          }
        }
      ]
    },
    {
      "cell_type": "code",
      "metadata": {
        "id": "mjYIOve-Wa8r",
        "colab_type": "code",
        "outputId": "c7616541-7dbb-441e-a3c2-97def42a1ce1",
        "colab": {
          "base_uri": "https://localhost:8080/",
          "height": 265
        }
      },
      "source": [
        "df['horsepower'].hist();"
      ],
      "execution_count": 0,
      "outputs": [
        {
          "output_type": "display_data",
          "data": {
            "image/png": "[encoded data removed]",
            "text/plain": [
              "<Figure size 432x288 with 1 Axes>"
            ]
          },
          "metadata": {
            "tags": [],
            "needs_background": "light"
          }
        }
      ]
    },
    {
      "cell_type": "code",
      "metadata": {
        "id": "mkES_8L9Wf3L",
        "colab_type": "code",
        "outputId": "d8152fa5-8975-488c-be66-851c8feb196f",
        "colab": {
          "base_uri": "https://localhost:8080/",
          "height": 265
        }
      },
      "source": [
        "df['weight'].hist();"
      ],
      "execution_count": 0,
      "outputs": [
        {
          "output_type": "display_data",
          "data": {
            "image/png": "[encoded data removed]",
            "text/plain": [
              "<Figure size 432x288 with 1 Axes>"
            ]
          },
          "metadata": {
            "tags": [],
            "needs_background": "light"
          }
        }
      ]
    },
    {
      "cell_type": "code",
      "metadata": {
        "id": "zHUNmuAJWjg3",
        "colab_type": "code",
        "outputId": "a62936ce-90a3-4d93-a9e2-2ae57fcae58d",
        "colab": {
          "base_uri": "https://localhost:8080/",
          "height": 279
        }
      },
      "source": [
        "df.plot.scatter('weight', 'mpg');"
      ],
      "execution_count": 0,
      "outputs": [
        {
          "output_type": "display_data",
          "data": {
            "image/png": "[encoded data removed]",
            "text/plain": [
              "<Figure size 432x288 with 1 Axes>"
            ]
          },
          "metadata": {
            "tags": [],
            "needs_background": "light"
          }
        }
      ]
    },
    {
      "cell_type": "code",
      "metadata": {
        "id": "zol9Iz0PWrtL",
        "colab_type": "code",
        "outputId": "fe85867a-2eba-475b-c769-045a861e74b2",
        "colab": {
          "base_uri": "https://localhost:8080/",
          "height": 279
        }
      },
      "source": [
        "df.plot.scatter('horsepower', 'mpg');"
      ],
      "execution_count": 0,
      "outputs": [
        {
          "output_type": "display_data",
          "data": {
            "image/png": "[encoded data removed]",
            "text/plain": [
              "<Figure size 432x288 with 1 Axes>"
            ]
          },
          "metadata": {
            "tags": [],
            "needs_background": "light"
          }
        }
      ]
    },
    {
      "cell_type": "markdown",
      "metadata": {
        "id": "62q-a5WgW3_A",
        "colab_type": "text"
      },
      "source": [
        "## Merging DataFrames"
      ]
    },
    {
      "cell_type": "code",
      "metadata": {
        "id": "6B525kbxWzKJ",
        "colab_type": "code",
        "outputId": "0f764bab-a008-4008-8df0-6e1001bd06e3",
        "colab": {
          "base_uri": "https://localhost:8080/",
          "height": 195
        }
      },
      "source": [
        "follower_count = pd.DataFrame({'email_address_user': ['asdf@gmail.com', 'zxcv@gmail.com', 'qwer@gmail.com', 'rtyi@gmail.com', 'hjkl@gmail.com'],\n",
        "                    'follower_count': [4000, 500, 250, 35677, 927]})\n",
        "\n",
        "follower_count = follower_count.sample(frac=1)\n",
        "\n",
        "follower_count.head()"
      ],
      "execution_count": 0,
      "outputs": [
        {
          "output_type": "execute_result",
          "data": {
            "text/html": [
              "<div>\n",
              "<style scoped>\n",
              "    .dataframe tbody tr th:only-of-type {\n",
              "        vertical-align: middle;\n",
              "    }\n",
              "\n",
              "    .dataframe tbody tr th {\n",
              "        vertical-align: top;\n",
              "    }\n",
              "\n",
              "    .dataframe thead th {\n",
              "        text-align: right;\n",
              "    }\n",
              "</style>\n",
              "<table border=\"1\" class=\"dataframe\">\n",
              "  <thead>\n",
              "    <tr style=\"text-align: right;\">\n",
              "      <th></th>\n",
              "      <th>email_address_user</th>\n",
              "      <th>follower_count</th>\n",
              "    </tr>\n",
              "  </thead>\n",
              "  <tbody>\n",
              "    <tr>\n",
              "      <th>0</th>\n",
              "      <td>asdf@gmail.com</td>\n",
              "      <td>4000</td>\n",
              "    </tr>\n",
              "    <tr>\n",
              "      <th>3</th>\n",
              "      <td>rtyi@gmail.com</td>\n",
              "      <td>35677</td>\n",
              "    </tr>\n",
              "    <tr>\n",
              "      <th>2</th>\n",
              "      <td>qwer@gmail.com</td>\n",
              "      <td>250</td>\n",
              "    </tr>\n",
              "    <tr>\n",
              "      <th>1</th>\n",
              "      <td>zxcv@gmail.com</td>\n",
              "      <td>500</td>\n",
              "    </tr>\n",
              "    <tr>\n",
              "      <th>4</th>\n",
              "      <td>hjkl@gmail.com</td>\n",
              "      <td>927</td>\n",
              "    </tr>\n",
              "  </tbody>\n",
              "</table>\n",
              "</div>"
            ],
            "text/plain": [
              "  email_address_user  follower_count\n",
              "0     asdf@gmail.com            4000\n",
              "3     rtyi@gmail.com           35677\n",
              "2     qwer@gmail.com             250\n",
              "1     zxcv@gmail.com             500\n",
              "4     hjkl@gmail.com             927"
            ]
          },
          "metadata": {
            "tags": []
          },
          "execution_count": 112
        }
      ]
    },
    {
      "cell_type": "code",
      "metadata": {
        "id": "KSDLfCkDXX1j",
        "colab_type": "code",
        "outputId": "ed8e96be-6391-4ec6-fca0-3303ca9f43ec",
        "colab": {
          "base_uri": "https://localhost:8080/",
          "height": 195
        }
      },
      "source": [
        "is_student = pd.DataFrame({'email_address_student': ['asdf@gmail.com', '2345@gmail.com', 'qwer@gmail.com', 'rtyi@gmail.com', 'hjkl@gmail.com'],\n",
        "                    'is_lambda_student': [0,1,0,1,0]})\n",
        "\n",
        "is_student = is_student.sample(frac=1)\n",
        "\n",
        "is_student.head()"
      ],
      "execution_count": 0,
      "outputs": [
        {
          "output_type": "execute_result",
          "data": {
            "text/html": [
              "<div>\n",
              "<style scoped>\n",
              "    .dataframe tbody tr th:only-of-type {\n",
              "        vertical-align: middle;\n",
              "    }\n",
              "\n",
              "    .dataframe tbody tr th {\n",
              "        vertical-align: top;\n",
              "    }\n",
              "\n",
              "    .dataframe thead th {\n",
              "        text-align: right;\n",
              "    }\n",
              "</style>\n",
              "<table border=\"1\" class=\"dataframe\">\n",
              "  <thead>\n",
              "    <tr style=\"text-align: right;\">\n",
              "      <th></th>\n",
              "      <th>email_address_student</th>\n",
              "      <th>is_lambda_student</th>\n",
              "    </tr>\n",
              "  </thead>\n",
              "  <tbody>\n",
              "    <tr>\n",
              "      <th>4</th>\n",
              "      <td>hjkl@gmail.com</td>\n",
              "      <td>0</td>\n",
              "    </tr>\n",
              "    <tr>\n",
              "      <th>2</th>\n",
              "      <td>qwer@gmail.com</td>\n",
              "      <td>0</td>\n",
              "    </tr>\n",
              "    <tr>\n",
              "      <th>1</th>\n",
              "      <td>2345@gmail.com</td>\n",
              "      <td>1</td>\n",
              "    </tr>\n",
              "    <tr>\n",
              "      <th>0</th>\n",
              "      <td>asdf@gmail.com</td>\n",
              "      <td>0</td>\n",
              "    </tr>\n",
              "    <tr>\n",
              "      <th>3</th>\n",
              "      <td>rtyi@gmail.com</td>\n",
              "      <td>1</td>\n",
              "    </tr>\n",
              "  </tbody>\n",
              "</table>\n",
              "</div>"
            ],
            "text/plain": [
              "  email_address_student  is_lambda_student\n",
              "4        hjkl@gmail.com                  0\n",
              "2        qwer@gmail.com                  0\n",
              "1        2345@gmail.com                  1\n",
              "0        asdf@gmail.com                  0\n",
              "3        rtyi@gmail.com                  1"
            ]
          },
          "metadata": {
            "tags": []
          },
          "execution_count": 113
        }
      ]
    },
    {
      "cell_type": "markdown",
      "metadata": {
        "id": "H8yfUDm4Y5UO",
        "colab_type": "text"
      },
      "source": [
        "### Inner merge when we don't have matching column headers"
      ]
    },
    {
      "cell_type": "code",
      "metadata": {
        "id": "FbkmPLIwXncM",
        "colab_type": "code",
        "outputId": "2e6c3acc-dc18-4ef4-8b6f-9ba06dee694c",
        "colab": {
          "base_uri": "https://localhost:8080/",
          "height": 166
        }
      },
      "source": [
        "# merge by default dropped unmatched records\n",
        "# behavior of an \"inner\" merge\n",
        "merged = pd.merge(follower_count, is_student, left_on='email_address_user', right_on='email_address_student', how='inner')\n",
        "\n",
        "merged"
      ],
      "execution_count": 0,
      "outputs": [
        {
          "output_type": "execute_result",
          "data": {
            "text/html": [
              "<div>\n",
              "<style scoped>\n",
              "    .dataframe tbody tr th:only-of-type {\n",
              "        vertical-align: middle;\n",
              "    }\n",
              "\n",
              "    .dataframe tbody tr th {\n",
              "        vertical-align: top;\n",
              "    }\n",
              "\n",
              "    .dataframe thead th {\n",
              "        text-align: right;\n",
              "    }\n",
              "</style>\n",
              "<table border=\"1\" class=\"dataframe\">\n",
              "  <thead>\n",
              "    <tr style=\"text-align: right;\">\n",
              "      <th></th>\n",
              "      <th>email_address_user</th>\n",
              "      <th>follower_count</th>\n",
              "      <th>email_address_student</th>\n",
              "      <th>is_lambda_student</th>\n",
              "    </tr>\n",
              "  </thead>\n",
              "  <tbody>\n",
              "    <tr>\n",
              "      <th>0</th>\n",
              "      <td>asdf@gmail.com</td>\n",
              "      <td>4000</td>\n",
              "      <td>asdf@gmail.com</td>\n",
              "      <td>0</td>\n",
              "    </tr>\n",
              "    <tr>\n",
              "      <th>1</th>\n",
              "      <td>rtyi@gmail.com</td>\n",
              "      <td>35677</td>\n",
              "      <td>rtyi@gmail.com</td>\n",
              "      <td>1</td>\n",
              "    </tr>\n",
              "    <tr>\n",
              "      <th>2</th>\n",
              "      <td>qwer@gmail.com</td>\n",
              "      <td>250</td>\n",
              "      <td>qwer@gmail.com</td>\n",
              "      <td>0</td>\n",
              "    </tr>\n",
              "    <tr>\n",
              "      <th>3</th>\n",
              "      <td>hjkl@gmail.com</td>\n",
              "      <td>927</td>\n",
              "      <td>hjkl@gmail.com</td>\n",
              "      <td>0</td>\n",
              "    </tr>\n",
              "  </tbody>\n",
              "</table>\n",
              "</div>"
            ],
            "text/plain": [
              "  email_address_user  follower_count email_address_student  is_lambda_student\n",
              "0     asdf@gmail.com            4000        asdf@gmail.com                  0\n",
              "1     rtyi@gmail.com           35677        rtyi@gmail.com                  1\n",
              "2     qwer@gmail.com             250        qwer@gmail.com                  0\n",
              "3     hjkl@gmail.com             927        hjkl@gmail.com                  0"
            ]
          },
          "metadata": {
            "tags": []
          },
          "execution_count": 117
        }
      ]
    },
    {
      "cell_type": "markdown",
      "metadata": {
        "id": "15Sj1MK6Y8yZ",
        "colab_type": "text"
      },
      "source": [
        "### Left Merge"
      ]
    },
    {
      "cell_type": "code",
      "metadata": {
        "id": "aW1F6HRBZCeQ",
        "colab_type": "code",
        "outputId": "e396b827-063f-406b-f54a-cf8b0165307e",
        "colab": {
          "base_uri": "https://localhost:8080/",
          "height": 195
        }
      },
      "source": [
        "# Keep all rows from the right dataframe even if we can't find a match\n",
        "merged = pd.merge(follower_count, is_student, left_on='email_address_user', right_on='email_address_student', how='left')\n",
        "\n",
        "merged"
      ],
      "execution_count": 0,
      "outputs": [
        {
          "output_type": "execute_result",
          "data": {
            "text/html": [
              "<div>\n",
              "<style scoped>\n",
              "    .dataframe tbody tr th:only-of-type {\n",
              "        vertical-align: middle;\n",
              "    }\n",
              "\n",
              "    .dataframe tbody tr th {\n",
              "        vertical-align: top;\n",
              "    }\n",
              "\n",
              "    .dataframe thead th {\n",
              "        text-align: right;\n",
              "    }\n",
              "</style>\n",
              "<table border=\"1\" class=\"dataframe\">\n",
              "  <thead>\n",
              "    <tr style=\"text-align: right;\">\n",
              "      <th></th>\n",
              "      <th>email_address_user</th>\n",
              "      <th>follower_count</th>\n",
              "      <th>email_address_student</th>\n",
              "      <th>is_lambda_student</th>\n",
              "    </tr>\n",
              "  </thead>\n",
              "  <tbody>\n",
              "    <tr>\n",
              "      <th>0</th>\n",
              "      <td>asdf@gmail.com</td>\n",
              "      <td>4000</td>\n",
              "      <td>asdf@gmail.com</td>\n",
              "      <td>0.0</td>\n",
              "    </tr>\n",
              "    <tr>\n",
              "      <th>1</th>\n",
              "      <td>rtyi@gmail.com</td>\n",
              "      <td>35677</td>\n",
              "      <td>rtyi@gmail.com</td>\n",
              "      <td>1.0</td>\n",
              "    </tr>\n",
              "    <tr>\n",
              "      <th>2</th>\n",
              "      <td>qwer@gmail.com</td>\n",
              "      <td>250</td>\n",
              "      <td>qwer@gmail.com</td>\n",
              "      <td>0.0</td>\n",
              "    </tr>\n",
              "    <tr>\n",
              "      <th>3</th>\n",
              "      <td>zxcv@gmail.com</td>\n",
              "      <td>500</td>\n",
              "      <td>NaN</td>\n",
              "      <td>NaN</td>\n",
              "    </tr>\n",
              "    <tr>\n",
              "      <th>4</th>\n",
              "      <td>hjkl@gmail.com</td>\n",
              "      <td>927</td>\n",
              "      <td>hjkl@gmail.com</td>\n",
              "      <td>0.0</td>\n",
              "    </tr>\n",
              "  </tbody>\n",
              "</table>\n",
              "</div>"
            ],
            "text/plain": [
              "  email_address_user  follower_count email_address_student  is_lambda_student\n",
              "0     asdf@gmail.com            4000        asdf@gmail.com                0.0\n",
              "1     rtyi@gmail.com           35677        rtyi@gmail.com                1.0\n",
              "2     qwer@gmail.com             250        qwer@gmail.com                0.0\n",
              "3     zxcv@gmail.com             500                   NaN                NaN\n",
              "4     hjkl@gmail.com             927        hjkl@gmail.com                0.0"
            ]
          },
          "metadata": {
            "tags": []
          },
          "execution_count": 118
        }
      ]
    },
    {
      "cell_type": "markdown",
      "metadata": {
        "id": "3eRzLAflY-gE",
        "colab_type": "text"
      },
      "source": [
        "### Right Merge"
      ]
    },
    {
      "cell_type": "code",
      "metadata": {
        "id": "3Q9ZnFi4Y8OI",
        "colab_type": "code",
        "outputId": "9a6b2ebe-1163-41e1-9ae5-70f29a5aae61",
        "colab": {
          "base_uri": "https://localhost:8080/",
          "height": 195
        }
      },
      "source": [
        "# Keep all rows from the right dataframe even if we can't find a match\n",
        "merged = pd.merge(follower_count, is_student, left_on='email_address_user', right_on='email_address_student', how='right')\n",
        "\n",
        "merged"
      ],
      "execution_count": 0,
      "outputs": [
        {
          "output_type": "execute_result",
          "data": {
            "text/html": [
              "<div>\n",
              "<style scoped>\n",
              "    .dataframe tbody tr th:only-of-type {\n",
              "        vertical-align: middle;\n",
              "    }\n",
              "\n",
              "    .dataframe tbody tr th {\n",
              "        vertical-align: top;\n",
              "    }\n",
              "\n",
              "    .dataframe thead th {\n",
              "        text-align: right;\n",
              "    }\n",
              "</style>\n",
              "<table border=\"1\" class=\"dataframe\">\n",
              "  <thead>\n",
              "    <tr style=\"text-align: right;\">\n",
              "      <th></th>\n",
              "      <th>email_address_user</th>\n",
              "      <th>follower_count</th>\n",
              "      <th>email_address_student</th>\n",
              "      <th>is_lambda_student</th>\n",
              "    </tr>\n",
              "  </thead>\n",
              "  <tbody>\n",
              "    <tr>\n",
              "      <th>0</th>\n",
              "      <td>asdf@gmail.com</td>\n",
              "      <td>4000.0</td>\n",
              "      <td>asdf@gmail.com</td>\n",
              "      <td>0</td>\n",
              "    </tr>\n",
              "    <tr>\n",
              "      <th>1</th>\n",
              "      <td>rtyi@gmail.com</td>\n",
              "      <td>35677.0</td>\n",
              "      <td>rtyi@gmail.com</td>\n",
              "      <td>1</td>\n",
              "    </tr>\n",
              "    <tr>\n",
              "      <th>2</th>\n",
              "      <td>qwer@gmail.com</td>\n",
              "      <td>250.0</td>\n",
              "      <td>qwer@gmail.com</td>\n",
              "      <td>0</td>\n",
              "    </tr>\n",
              "    <tr>\n",
              "      <th>3</th>\n",
              "      <td>hjkl@gmail.com</td>\n",
              "      <td>927.0</td>\n",
              "      <td>hjkl@gmail.com</td>\n",
              "      <td>0</td>\n",
              "    </tr>\n",
              "    <tr>\n",
              "      <th>4</th>\n",
              "      <td>NaN</td>\n",
              "      <td>NaN</td>\n",
              "      <td>2345@gmail.com</td>\n",
              "      <td>1</td>\n",
              "    </tr>\n",
              "  </tbody>\n",
              "</table>\n",
              "</div>"
            ],
            "text/plain": [
              "  email_address_user  follower_count email_address_student  is_lambda_student\n",
              "0     asdf@gmail.com          4000.0        asdf@gmail.com                  0\n",
              "1     rtyi@gmail.com         35677.0        rtyi@gmail.com                  1\n",
              "2     qwer@gmail.com           250.0        qwer@gmail.com                  0\n",
              "3     hjkl@gmail.com           927.0        hjkl@gmail.com                  0\n",
              "4                NaN             NaN        2345@gmail.com                  1"
            ]
          },
          "metadata": {
            "tags": []
          },
          "execution_count": 119
        }
      ]
    },
    {
      "cell_type": "markdown",
      "metadata": {
        "id": "aqMx51goZAEU",
        "colab_type": "text"
      },
      "source": [
        "### Outer Merge"
      ]
    },
    {
      "cell_type": "code",
      "metadata": {
        "id": "6kZSY-VdYMEv",
        "colab_type": "code",
        "outputId": "6eaca360-7640-42ca-bcc4-84c2e8efefa2",
        "colab": {
          "base_uri": "https://localhost:8080/",
          "height": 225
        }
      },
      "source": [
        "# Keep all rows from both dataframes, even if you can't find a match\n",
        "merged = pd.merge(follower_count, is_student, left_on='email_address_user', right_on='email_address_student', how='outer')\n",
        "\n",
        "merged"
      ],
      "execution_count": 0,
      "outputs": [
        {
          "output_type": "execute_result",
          "data": {
            "text/html": [
              "<div>\n",
              "<style scoped>\n",
              "    .dataframe tbody tr th:only-of-type {\n",
              "        vertical-align: middle;\n",
              "    }\n",
              "\n",
              "    .dataframe tbody tr th {\n",
              "        vertical-align: top;\n",
              "    }\n",
              "\n",
              "    .dataframe thead th {\n",
              "        text-align: right;\n",
              "    }\n",
              "</style>\n",
              "<table border=\"1\" class=\"dataframe\">\n",
              "  <thead>\n",
              "    <tr style=\"text-align: right;\">\n",
              "      <th></th>\n",
              "      <th>email_address_user</th>\n",
              "      <th>follower_count</th>\n",
              "      <th>email_address_student</th>\n",
              "      <th>is_lambda_student</th>\n",
              "    </tr>\n",
              "  </thead>\n",
              "  <tbody>\n",
              "    <tr>\n",
              "      <th>0</th>\n",
              "      <td>asdf@gmail.com</td>\n",
              "      <td>4000.0</td>\n",
              "      <td>asdf@gmail.com</td>\n",
              "      <td>0.0</td>\n",
              "    </tr>\n",
              "    <tr>\n",
              "      <th>1</th>\n",
              "      <td>rtyi@gmail.com</td>\n",
              "      <td>35677.0</td>\n",
              "      <td>rtyi@gmail.com</td>\n",
              "      <td>1.0</td>\n",
              "    </tr>\n",
              "    <tr>\n",
              "      <th>2</th>\n",
              "      <td>qwer@gmail.com</td>\n",
              "      <td>250.0</td>\n",
              "      <td>qwer@gmail.com</td>\n",
              "      <td>0.0</td>\n",
              "    </tr>\n",
              "    <tr>\n",
              "      <th>3</th>\n",
              "      <td>zxcv@gmail.com</td>\n",
              "      <td>500.0</td>\n",
              "      <td>NaN</td>\n",
              "      <td>NaN</td>\n",
              "    </tr>\n",
              "    <tr>\n",
              "      <th>4</th>\n",
              "      <td>hjkl@gmail.com</td>\n",
              "      <td>927.0</td>\n",
              "      <td>hjkl@gmail.com</td>\n",
              "      <td>0.0</td>\n",
              "    </tr>\n",
              "    <tr>\n",
              "      <th>5</th>\n",
              "      <td>NaN</td>\n",
              "      <td>NaN</td>\n",
              "      <td>2345@gmail.com</td>\n",
              "      <td>1.0</td>\n",
              "    </tr>\n",
              "  </tbody>\n",
              "</table>\n",
              "</div>"
            ],
            "text/plain": [
              "  email_address_user  follower_count email_address_student  is_lambda_student\n",
              "0     asdf@gmail.com          4000.0        asdf@gmail.com                0.0\n",
              "1     rtyi@gmail.com         35677.0        rtyi@gmail.com                1.0\n",
              "2     qwer@gmail.com           250.0        qwer@gmail.com                0.0\n",
              "3     zxcv@gmail.com           500.0                   NaN                NaN\n",
              "4     hjkl@gmail.com           927.0        hjkl@gmail.com                0.0\n",
              "5                NaN             NaN        2345@gmail.com                1.0"
            ]
          },
          "metadata": {
            "tags": []
          },
          "execution_count": 120
        }
      ]
    },
    {
      "cell_type": "code",
      "metadata": {
        "id": "-jdMd-cfZ2Ei",
        "colab_type": "code",
        "colab": {}
      },
      "source": [
        ""
      ],
      "execution_count": 0,
      "outputs": []
    }
  ]
}