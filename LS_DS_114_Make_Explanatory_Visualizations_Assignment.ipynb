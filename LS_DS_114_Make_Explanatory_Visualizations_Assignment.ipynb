{
  "nbformat": 4,
  "nbformat_minor": 0,
  "metadata": {
    "colab": {
      "name": "LS_DS_114_Make_Explanatory_Visualizations_Assignment.ipynb",
      "provenance": [],
      "collapsed_sections": [],
      "include_colab_link": true
    },
    "language_info": {
      "codemirror_mode": {
        "name": "ipython",
        "version": 3
      },
      "file_extension": ".py",
      "mimetype": "text/x-python",
      "name": "python",
      "nbconvert_exporter": "python",
      "pygments_lexer": "ipython3",
      "version": "3.7.1"
    },
    "kernelspec": {
      "name": "python3",
      "display_name": "Python 3"
    },
    "accelerator": "TPU"
  },
  "cells": [
    {
      "cell_type": "markdown",
      "metadata": {
        "id": "view-in-github",
        "colab_type": "text"
      },
      "source": [
        "<a href=\"https://colab.research.google.com/github/cdixson-ds/DS-Unit-1-Sprint-1-Data-Wrangling-and-Storytelling/blob/master/LS_DS_114_Make_Explanatory_Visualizations_Assignment.ipynb\" target=\"_parent\"><img src=\"https://colab.research.google.com/assets/colab-badge.svg\" alt=\"Open In Colab\"/></a>"
      ]
    },
    {
      "cell_type": "markdown",
      "metadata": {
        "colab_type": "text",
        "id": "NMEswXWh9mqw"
      },
      "source": [
        "Lambda School Data Science\n",
        "\n",
        "*Unit 1, Sprint 1, Module 4*\n",
        "\n",
        "---\n",
        "\n",
        "# ASSIGNMENT\n",
        "\n",
        "### 1) Replicate the lesson code. I recommend that you [do not copy-paste](https://docs.google.com/document/d/1ubOw9B3Hfip27hF2ZFnW3a3z9xAgrUDRReOEo-FHCVs/edit).\n",
        "\n",
        "Get caught up to where we got our example in class and then try and take things further. How close to \"pixel perfect\" can you make the lecture graph?\n",
        "\n",
        "Once you have something that you're proud of, share your graph in the cohort channel and move on to the second exercise.\n",
        "\n",
        "### 2) Reproduce another example from [FiveThityEight's shared data repository](https://data.fivethirtyeight.com/).\n",
        "\n",
        "**WARNING**: There are a lot of very custom graphs and tables at the above link. I **highly** recommend not trying to reproduce any that look like a table of values or something really different from the graph types that we are already familiar with. Search through the posts until you find a graph type that you are more or less familiar with: histogram, bar chart, stacked bar chart, line chart, [seaborn relplot](https://seaborn.pydata.org/generated/seaborn.relplot.html), etc. Recreating some of the graphics that 538 uses would be a lot easier in Adobe photoshop/illustrator than with matplotlib. \n",
        "\n",
        "- If you put in some time to find a graph that looks \"easy\" to replicate you'll probably find that it's not as easy as you thought. \n",
        "\n",
        "- If you start with a graph that looks hard to replicate you'll probably run up against a brick wall and be disappointed with your afternoon.\n",
        "\n",
        "\n",
        "\n",
        "\n",
        "\n",
        "\n",
        "\n",
        "\n",
        "\n",
        "\n"
      ]
    },
    {
      "cell_type": "code",
      "metadata": {
        "id": "h3fsk3fNviwB",
        "colab_type": "code",
        "colab": {
          "base_uri": "https://localhost:8080/",
          "height": 355
        },
        "outputId": "63497607-f5e7-4c59-d667-3f1a478f15ab"
      },
      "source": [
        "from IPython.display import display, Image\n",
        "\n",
        "url = 'https://fivethirtyeight.com/wp-content/uploads/2017/09/mehtahickey-inconvenient-0830-1.png'\n",
        "example = Image(url=url, width=400)\n",
        "\n",
        "display(example)"
      ],
      "execution_count": 84,
      "outputs": [
        {
          "output_type": "display_data",
          "data": {
            "text/html": [
              "<img src=\"https://fivethirtyeight.com/wp-content/uploads/2017/09/mehtahickey-inconvenient-0830-1.png\" width=\"400\"/>"
            ],
            "text/plain": [
              "<IPython.core.display.Image object>"
            ]
          },
          "metadata": {
            "tags": []
          }
        }
      ]
    },
    {
      "cell_type": "code",
      "metadata": {
        "id": "7SY1ZHawyZvz",
        "colab_type": "code",
        "colab": {
          "base_uri": "https://localhost:8080/",
          "height": 506
        },
        "outputId": "b399b3f7-8e70-4038-8a68-370e067be98d"
      },
      "source": [
        "# Your Work Here\n",
        "\n",
        "%matplotlib inline\n",
        "import matplotlib.pyplot as plt\n",
        "import numpy as np\n",
        "import pandas as pd\n",
        "\n",
        "#Set stylesheet\n",
        "plt.style.use('fivethirtyeight')\n",
        "\n",
        "#figure axes syntax, generate a figure object and an axis object, access to fig\n",
        "#and axis independently\n",
        "fig, ax = plt.subplots()\n",
        "\n",
        "#make figure background color white\n",
        "fig.patch.set(facecolor='white')\n",
        "\n",
        "#Set axes background color\n",
        "ax.set(facecolor='white')\n",
        "\n",
        "fake.plot.bar(width=0.9, color='#ED713A')\n",
        "\n",
        "#Set plot title \n",
        "ax.set_title(\"'An Inconvenient Sequel: Truth to Power' is divisive\", fontsize=12, fontweight='bold', x=.35, y=1.11)\n",
        "\n",
        "#Set plot ylabel\n",
        "ax.set_ylabel('Percent of total votes', fontsize=9, fontweight='bold')\n",
        "\n",
        "#set plot xlabel\n",
        "ax.set_xlabel('Rating', fontsize=10, fontweight='bold')\n",
        "\n",
        "#set subtitle\n",
        "ax.text(s='IMDb rating for the film as of Aug. 29', y=42.5, x=-1.8, fontsize=12)\n",
        "\n",
        "#tick label should be grey\n",
        "ax.set_yticklabels(['0', '10', '20', '30', '40%'], fontsize=10, color='grey')\n",
        "#ax.set_yticks([0,10,20,30,40])\n",
        "ax.set_yticks(range(0,50,10))\n",
        "\n",
        "#Set x tick label\n",
        "#ax.set_xticklabels(['1', '2', '3', '4', '5', '6', '7', '8', '9', '10'], rotation=0)\n",
        "#ax.set_xticklabels(['1', '2', '3', '4', '5', '6', '7', '8', '9', '10'], rotation= 'horizontal')\n",
        "ax.set_xticklabels(range(1,11,1), fontsize=12, color='grey', rotation=0)\n",
        "\n",
        "#change spines\n",
        "ax.spines['right'].set_visible(False)\n",
        "ax.spines['top'].set_visible(False)\n",
        "ax.spines['left'].set_visible(False)\n",
        "ax.spines['bottom'].set_visible(False)\n",
        "\n",
        "#ax.set_axisbelow(True, line=-3)\n",
        "\n",
        "#extend grid lines\n",
        "#ax.grid(linestyle='-', linewidth=0.5)\n",
        "\n",
        "\n",
        "\n",
        "\n",
        "#Show the plot and squelch the funny output\n",
        "fig.show()"
      ],
      "execution_count": 85,
      "outputs": [
        {
          "output_type": "error",
          "ename": "NameError",
          "evalue": "ignored",
          "traceback": [
            "\u001b[0;31m---------------------------------------------------------------------------\u001b[0m",
            "\u001b[0;31mNameError\u001b[0m                                 Traceback (most recent call last)",
            "\u001b[0;32m<ipython-input-85-d694a21bb094>\u001b[0m in \u001b[0;36m<module>\u001b[0;34m()\u001b[0m\n\u001b[1;32m     18\u001b[0m \u001b[0max\u001b[0m\u001b[0;34m.\u001b[0m\u001b[0mset\u001b[0m\u001b[0;34m(\u001b[0m\u001b[0mfacecolor\u001b[0m\u001b[0;34m=\u001b[0m\u001b[0;34m'white'\u001b[0m\u001b[0;34m)\u001b[0m\u001b[0;34m\u001b[0m\u001b[0;34m\u001b[0m\u001b[0m\n\u001b[1;32m     19\u001b[0m \u001b[0;34m\u001b[0m\u001b[0m\n\u001b[0;32m---> 20\u001b[0;31m \u001b[0mfake\u001b[0m\u001b[0;34m.\u001b[0m\u001b[0mplot\u001b[0m\u001b[0;34m.\u001b[0m\u001b[0mbar\u001b[0m\u001b[0;34m(\u001b[0m\u001b[0mwidth\u001b[0m\u001b[0;34m=\u001b[0m\u001b[0;36m0.9\u001b[0m\u001b[0;34m,\u001b[0m \u001b[0mcolor\u001b[0m\u001b[0;34m=\u001b[0m\u001b[0;34m'#ED713A'\u001b[0m\u001b[0;34m)\u001b[0m\u001b[0;34m\u001b[0m\u001b[0;34m\u001b[0m\u001b[0m\n\u001b[0m\u001b[1;32m     21\u001b[0m \u001b[0;34m\u001b[0m\u001b[0m\n\u001b[1;32m     22\u001b[0m \u001b[0;31m#Set plot title\u001b[0m\u001b[0;34m\u001b[0m\u001b[0;34m\u001b[0m\u001b[0;34m\u001b[0m\u001b[0m\n",
            "\u001b[0;31mNameError\u001b[0m: name 'fake' is not defined"
          ]
        },
        {
          "output_type": "display_data",
          "data": {
            "image/png": "[encoded data removed]",
            "text/plain": [
              "<Figure size 432x288 with 1 Axes>"
            ]
          },
          "metadata": {
            "tags": []
          }
        }
      ]
    },
    {
      "cell_type": "code",
      "metadata": {
        "id": "fgK4kF8uMnc8",
        "colab_type": "code",
        "colab": {
          "base_uri": "https://localhost:8080/",
          "height": 400
        },
        "outputId": "4070efbc-8680-4145-f18a-4c55ecbcd898"
      },
      "source": [
        "from IPython.display import display, Image\n",
        "\n",
        "url = 'https://fivethirtyeight.com/wp-content/uploads/2017/04/roeder-scrabble-1.png?w=575'\n",
        "example2 = Image(url=url, width=400)\n",
        "\n",
        "display(example2)"
      ],
      "execution_count": 9,
      "outputs": [
        {
          "output_type": "display_data",
          "data": {
            "text/html": [
              "<img src=\"https://fivethirtyeight.com/wp-content/uploads/2017/04/roeder-scrabble-1.png?w=575\" width=\"400\"/>"
            ],
            "text/plain": [
              "<IPython.core.display.Image object>"
            ]
          },
          "metadata": {
            "tags": []
          }
        }
      ]
    },
    {
      "cell_type": "code",
      "metadata": {
        "id": "9xGVkG3gRGWa",
        "colab_type": "code",
        "colab": {
          "base_uri": "https://localhost:8080/",
          "height": 309
        },
        "outputId": "c44d65d1-1e14-414f-bcc8-c9ba8b85df21"
      },
      "source": [
        "df = pd.read_csv('https://media.githubusercontent.com/media/fivethirtyeight/data/master/scrabble-games/scrabble_games.csv')\n",
        "df.head()"
      ],
      "execution_count": 10,
      "outputs": [
        {
          "output_type": "execute_result",
          "data": {
            "text/html": [
              "<div>\n",
              "<style scoped>\n",
              "    .dataframe tbody tr th:only-of-type {\n",
              "        vertical-align: middle;\n",
              "    }\n",
              "\n",
              "    .dataframe tbody tr th {\n",
              "        vertical-align: top;\n",
              "    }\n",
              "\n",
              "    .dataframe thead th {\n",
              "        text-align: right;\n",
              "    }\n",
              "</style>\n",
              "<table border=\"1\" class=\"dataframe\">\n",
              "  <thead>\n",
              "    <tr style=\"text-align: right;\">\n",
              "      <th></th>\n",
              "      <th>gameid</th>\n",
              "      <th>tourneyid</th>\n",
              "      <th>tie</th>\n",
              "      <th>winnerid</th>\n",
              "      <th>winnername</th>\n",
              "      <th>winnerscore</th>\n",
              "      <th>winneroldrating</th>\n",
              "      <th>winnernewrating</th>\n",
              "      <th>winnerpos</th>\n",
              "      <th>loserid</th>\n",
              "      <th>losername</th>\n",
              "      <th>loserscore</th>\n",
              "      <th>loseroldrating</th>\n",
              "      <th>losernewrating</th>\n",
              "      <th>loserpos</th>\n",
              "      <th>round</th>\n",
              "      <th>division</th>\n",
              "      <th>date</th>\n",
              "      <th>lexicon</th>\n",
              "    </tr>\n",
              "  </thead>\n",
              "  <tbody>\n",
              "    <tr>\n",
              "      <th>0</th>\n",
              "      <td>1</td>\n",
              "      <td>1</td>\n",
              "      <td>False</td>\n",
              "      <td>268</td>\n",
              "      <td>Harriette Lakernick</td>\n",
              "      <td>0</td>\n",
              "      <td>1568</td>\n",
              "      <td>1684</td>\n",
              "      <td>1</td>\n",
              "      <td>429</td>\n",
              "      <td>Patricia Barrett</td>\n",
              "      <td>0</td>\n",
              "      <td>1915</td>\n",
              "      <td>1872</td>\n",
              "      <td>3</td>\n",
              "      <td>1</td>\n",
              "      <td>1</td>\n",
              "      <td>1998-12-06</td>\n",
              "      <td>False</td>\n",
              "    </tr>\n",
              "    <tr>\n",
              "      <th>1</th>\n",
              "      <td>2</td>\n",
              "      <td>1</td>\n",
              "      <td>False</td>\n",
              "      <td>268</td>\n",
              "      <td>Harriette Lakernick</td>\n",
              "      <td>0</td>\n",
              "      <td>1568</td>\n",
              "      <td>1684</td>\n",
              "      <td>1</td>\n",
              "      <td>435</td>\n",
              "      <td>Chris Cree</td>\n",
              "      <td>0</td>\n",
              "      <td>1840</td>\n",
              "      <td>1798</td>\n",
              "      <td>6</td>\n",
              "      <td>2</td>\n",
              "      <td>1</td>\n",
              "      <td>1998-12-06</td>\n",
              "      <td>False</td>\n",
              "    </tr>\n",
              "    <tr>\n",
              "      <th>2</th>\n",
              "      <td>3</td>\n",
              "      <td>1</td>\n",
              "      <td>False</td>\n",
              "      <td>268</td>\n",
              "      <td>Harriette Lakernick</td>\n",
              "      <td>0</td>\n",
              "      <td>1568</td>\n",
              "      <td>1684</td>\n",
              "      <td>1</td>\n",
              "      <td>441</td>\n",
              "      <td>Caesar Jaramillo</td>\n",
              "      <td>0</td>\n",
              "      <td>1622</td>\n",
              "      <td>1606</td>\n",
              "      <td>10</td>\n",
              "      <td>3</td>\n",
              "      <td>1</td>\n",
              "      <td>1998-12-06</td>\n",
              "      <td>False</td>\n",
              "    </tr>\n",
              "    <tr>\n",
              "      <th>3</th>\n",
              "      <td>4</td>\n",
              "      <td>1</td>\n",
              "      <td>False</td>\n",
              "      <td>268</td>\n",
              "      <td>Harriette Lakernick</td>\n",
              "      <td>0</td>\n",
              "      <td>1568</td>\n",
              "      <td>1684</td>\n",
              "      <td>1</td>\n",
              "      <td>456</td>\n",
              "      <td>Mike Chitwood</td>\n",
              "      <td>0</td>\n",
              "      <td>1612</td>\n",
              "      <td>1600</td>\n",
              "      <td>9</td>\n",
              "      <td>4</td>\n",
              "      <td>1</td>\n",
              "      <td>1998-12-06</td>\n",
              "      <td>False</td>\n",
              "    </tr>\n",
              "    <tr>\n",
              "      <th>4</th>\n",
              "      <td>5</td>\n",
              "      <td>1</td>\n",
              "      <td>False</td>\n",
              "      <td>268</td>\n",
              "      <td>Harriette Lakernick</td>\n",
              "      <td>0</td>\n",
              "      <td>1568</td>\n",
              "      <td>1684</td>\n",
              "      <td>1</td>\n",
              "      <td>1334</td>\n",
              "      <td>Nancy Scott</td>\n",
              "      <td>0</td>\n",
              "      <td>1537</td>\n",
              "      <td>1590</td>\n",
              "      <td>4</td>\n",
              "      <td>6</td>\n",
              "      <td>1</td>\n",
              "      <td>1998-12-06</td>\n",
              "      <td>False</td>\n",
              "    </tr>\n",
              "  </tbody>\n",
              "</table>\n",
              "</div>"
            ],
            "text/plain": [
              "   gameid  tourneyid    tie  winnerid  ... round  division        date  lexicon\n",
              "0       1          1  False       268  ...     1         1  1998-12-06    False\n",
              "1       2          1  False       268  ...     2         1  1998-12-06    False\n",
              "2       3          1  False       268  ...     3         1  1998-12-06    False\n",
              "3       4          1  False       268  ...     4         1  1998-12-06    False\n",
              "4       5          1  False       268  ...     6         1  1998-12-06    False\n",
              "\n",
              "[5 rows x 19 columns]"
            ]
          },
          "metadata": {
            "tags": []
          },
          "execution_count": 10
        }
      ]
    },
    {
      "cell_type": "code",
      "metadata": {
        "id": "mf18F_R_NSrD",
        "colab_type": "code",
        "colab": {
          "base_uri": "https://localhost:8080/",
          "height": 324
        },
        "outputId": "b04e0b61-3004-437e-f882-550f27c8fff8"
      },
      "source": [
        "#figure axes syntax, generate a figure object and an axis object, access to fig\n",
        "#and axis independently\n",
        "fig, ax = plt.subplots()\n",
        "\n",
        "#x = df.winnerscore\n",
        "#num_bins = 100\n",
        "#n, bins, patches = plt.hist(x, num_bins, facecolor='blue', alpha=0.5)\n",
        "#plt.show()\n",
        "\n",
        "#y = df.loserscore\n",
        "#num_bins = 100\n",
        "#n, bins, patches = plt.hist(x, num_bins, facecolor='red', alpha=0.5)\n",
        "#plt.show()\n",
        "\n",
        "\n",
        "series1= df.winnerscore\n",
        "series2= df.loserscore\n",
        "xmin = 5\n",
        "xmax = 800\n",
        "\n",
        "plt.ylim(0,60000)\n",
        "\n",
        "plt.hist(series2, bins=100, range=[xmin,xmax], color='red')\n",
        "plt.hist(series1, bins=100, range=[xmin,xmax], color='green')\n",
        "\n",
        "#Set plot title \n",
        "ax.set_title(\"700,000 games of scrabble\", fontsize=14, fontweight='bold', x=.15, y=1.11)\n",
        "\n",
        "plt.show()"
      ],
      "execution_count": 82,
      "outputs": [
        {
          "output_type": "display_data",
          "data": {
            "image/png": "[encoded data removed]",
            "text/plain": [
              "<Figure size 432x288 with 1 Axes>"
            ]
          },
          "metadata": {
            "tags": []
          }
        }
      ]
    },
    {
      "cell_type": "markdown",
      "metadata": {
        "id": "0wSrBzmJyWaV",
        "colab_type": "text"
      },
      "source": [
        "# STRETCH OPTIONS\n",
        "\n",
        "### 1) Reproduce one of the following using the matplotlib or seaborn libraries:\n",
        "\n",
        "- [thanksgiving-2015](https://fivethirtyeight.com/features/heres-what-your-part-of-america-eats-on-thanksgiving/) \n",
        "- [candy-power-ranking](https://fivethirtyeight.com/features/the-ultimate-halloween-candy-power-ranking/) \n",
        "- or another example of your choice!\n",
        "\n",
        "### 2) Make more charts!\n",
        "\n",
        "Choose a chart you want to make, from [Visual Vocabulary - Vega Edition](http://ft.com/vocabulary).\n",
        "\n",
        "Find the chart in an example gallery of a Python data visualization library:\n",
        "- [Seaborn](http://seaborn.pydata.org/examples/index.html)\n",
        "- [Altair](https://altair-viz.github.io/gallery/index.html)\n",
        "- [Matplotlib](https://matplotlib.org/gallery.html)\n",
        "- [Pandas](https://pandas.pydata.org/pandas-docs/stable/visualization.html)\n",
        "\n",
        "Reproduce the chart. [Optionally, try the \"Ben Franklin Method.\"](https://docs.google.com/document/d/1ubOw9B3Hfip27hF2ZFnW3a3z9xAgrUDRReOEo-FHCVs/edit) If you want, experiment and make changes.\n",
        "\n",
        "Take notes. Consider sharing your work with your cohort!"
      ]
    },
    {
      "cell_type": "code",
      "metadata": {
        "id": "dRJkKftiy5BJ",
        "colab_type": "code",
        "colab": {}
      },
      "source": [
        "# More Work Here"
      ],
      "execution_count": 0,
      "outputs": []
    }
  ]
}