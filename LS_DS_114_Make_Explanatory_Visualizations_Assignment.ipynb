{
  "nbformat": 4,
  "nbformat_minor": 0,
  "metadata": {
    "colab": {
      "name": "LS_DS_114_Make_Explanatory_Visualizations_Assignment.ipynb",
      "provenance": [],
      "collapsed_sections": [],
      "include_colab_link": true
    },
    "language_info": {
      "codemirror_mode": {
        "name": "ipython",
        "version": 3
      },
      "file_extension": ".py",
      "mimetype": "text/x-python",
      "name": "python",
      "nbconvert_exporter": "python",
      "pygments_lexer": "ipython3",
      "version": "3.7.1"
    },
    "kernelspec": {
      "display_name": "Python 3",
      "language": "python",
      "name": "python3"
    }
  },
  "cells": [
    {
      "cell_type": "markdown",
      "metadata": {
        "id": "view-in-github",
        "colab_type": "text"
      },
      "source": [
        "<a href=\"https://colab.research.google.com/github/ejarquin99/DS-Unit-1-Sprint-1-Data-Wrangling-and-Storytelling/blob/master/LS_DS_114_Make_Explanatory_Visualizations_Assignment.ipynb\" target=\"_parent\"><img src=\"https://colab.research.google.com/assets/colab-badge.svg\" alt=\"Open In Colab\"/></a>"
      ]
    },
    {
      "cell_type": "markdown",
      "metadata": {
        "id": "-8-trVo__vRE"
      },
      "source": [
        "Lambda School Data Science\n",
        "\n",
        "*Unit 1, Sprint 1, Module 4*\n",
        "\n",
        "---\n",
        "\n",
        "# Make Explanatory Visualizations\n",
        "\n",
        "### Objectives\n",
        "\n",
        "- Student can identify the appropriate visualization type for a particular variable type and research question \n",
        "- Student can use Matplotlib to visualize distributions and relationships with continuous and discrete variables\n",
        "- Student can add emphasis and annotations to transform visualizations from exploratory to explanatory\n",
        "- Student can remove clutter from visualizations\n",
        "- Student can identify misleading visualizations and how to fix them\n",
        "\n"
      ]
    },
    {
      "cell_type": "markdown",
      "metadata": {
        "id": "8LPohEc5sv7J"
      },
      "source": [
        "Import the Titanic dataset and print the first 5 rows."
      ]
    },
    {
      "cell_type": "code",
      "metadata": {
        "id": "ihNRKzhzs7_C",
        "outputId": "a100678b-0c67-444a-a2f0-c3e28f45f70e",
        "colab": {
          "base_uri": "https://localhost:8080/",
          "height": 200
        }
      },
      "source": [
        "import pandas as pd\n",
        "import matplotlib.pyplot as plt\n",
        "import numpy as np\n",
        "\n",
        "# Load the Titanic dataset from its URL:\n",
        "Titanic = pd.read_csv('https://raw.githubusercontent.com/LambdaSchool/data-science-practice-datasets/main/unit_1/Titanic/Titanic.csv')\n",
        "\n",
        "Titanic.head()"
      ],
      "execution_count": 1,
      "outputs": [
        {
          "output_type": "execute_result",
          "data": {
            "text/html": [
              "<div>\n",
              "<style scoped>\n",
              "    .dataframe tbody tr th:only-of-type {\n",
              "        vertical-align: middle;\n",
              "    }\n",
              "\n",
              "    .dataframe tbody tr th {\n",
              "        vertical-align: top;\n",
              "    }\n",
              "\n",
              "    .dataframe thead th {\n",
              "        text-align: right;\n",
              "    }\n",
              "</style>\n",
              "<table border=\"1\" class=\"dataframe\">\n",
              "  <thead>\n",
              "    <tr style=\"text-align: right;\">\n",
              "      <th></th>\n",
              "      <th>Survived</th>\n",
              "      <th>Pclass</th>\n",
              "      <th>Name</th>\n",
              "      <th>Sex</th>\n",
              "      <th>Age</th>\n",
              "      <th>Siblings/Spouses_Aboard</th>\n",
              "      <th>Parents/Children_Aboard</th>\n",
              "      <th>Fare</th>\n",
              "    </tr>\n",
              "  </thead>\n",
              "  <tbody>\n",
              "    <tr>\n",
              "      <th>0</th>\n",
              "      <td>0</td>\n",
              "      <td>3</td>\n",
              "      <td>Mr. Owen Harris Braund</td>\n",
              "      <td>male</td>\n",
              "      <td>22.0</td>\n",
              "      <td>1</td>\n",
              "      <td>0</td>\n",
              "      <td>7.2500</td>\n",
              "    </tr>\n",
              "    <tr>\n",
              "      <th>1</th>\n",
              "      <td>1</td>\n",
              "      <td>1</td>\n",
              "      <td>Mrs. John Bradley (Florence Briggs Thayer) Cum...</td>\n",
              "      <td>female</td>\n",
              "      <td>38.0</td>\n",
              "      <td>1</td>\n",
              "      <td>0</td>\n",
              "      <td>71.2833</td>\n",
              "    </tr>\n",
              "    <tr>\n",
              "      <th>2</th>\n",
              "      <td>1</td>\n",
              "      <td>3</td>\n",
              "      <td>Miss. Laina Heikkinen</td>\n",
              "      <td>female</td>\n",
              "      <td>26.0</td>\n",
              "      <td>0</td>\n",
              "      <td>0</td>\n",
              "      <td>7.9250</td>\n",
              "    </tr>\n",
              "    <tr>\n",
              "      <th>3</th>\n",
              "      <td>1</td>\n",
              "      <td>1</td>\n",
              "      <td>Mrs. Jacques Heath (Lily May Peel) Futrelle</td>\n",
              "      <td>female</td>\n",
              "      <td>35.0</td>\n",
              "      <td>1</td>\n",
              "      <td>0</td>\n",
              "      <td>53.1000</td>\n",
              "    </tr>\n",
              "    <tr>\n",
              "      <th>4</th>\n",
              "      <td>0</td>\n",
              "      <td>3</td>\n",
              "      <td>Mr. William Henry Allen</td>\n",
              "      <td>male</td>\n",
              "      <td>35.0</td>\n",
              "      <td>0</td>\n",
              "      <td>0</td>\n",
              "      <td>8.0500</td>\n",
              "    </tr>\n",
              "  </tbody>\n",
              "</table>\n",
              "</div>"
            ],
            "text/plain": [
              "   Survived  Pclass  ... Parents/Children_Aboard     Fare\n",
              "0         0       3  ...                       0   7.2500\n",
              "1         1       1  ...                       0  71.2833\n",
              "2         1       3  ...                       0   7.9250\n",
              "3         1       1  ...                       0  53.1000\n",
              "4         0       3  ...                       0   8.0500\n",
              "\n",
              "[5 rows x 8 columns]"
            ]
          },
          "metadata": {
            "tags": []
          },
          "execution_count": 1
        }
      ]
    },
    {
      "cell_type": "code",
      "metadata": {
        "id": "FMIVZiuf90qw",
        "outputId": "92067a32-1a9d-49cc-ebb4-73fa476af394",
        "colab": {
          "base_uri": "https://localhost:8080/",
          "height": 200
        }
      },
      "source": [
        "# Creating new DataFrame\n",
        "Titanic_fare = Titanic.Fare.reset_index()\n",
        "\n",
        "# Checking for Null Values\n",
        "Titanic_fare.isnull().sum()\n",
        "\n",
        "Titanic_fare = Titanic_fare.round(2)\n",
        "\n",
        "Titanic_fare.head()"
      ],
      "execution_count": 2,
      "outputs": [
        {
          "output_type": "execute_result",
          "data": {
            "text/html": [
              "<div>\n",
              "<style scoped>\n",
              "    .dataframe tbody tr th:only-of-type {\n",
              "        vertical-align: middle;\n",
              "    }\n",
              "\n",
              "    .dataframe tbody tr th {\n",
              "        vertical-align: top;\n",
              "    }\n",
              "\n",
              "    .dataframe thead th {\n",
              "        text-align: right;\n",
              "    }\n",
              "</style>\n",
              "<table border=\"1\" class=\"dataframe\">\n",
              "  <thead>\n",
              "    <tr style=\"text-align: right;\">\n",
              "      <th></th>\n",
              "      <th>index</th>\n",
              "      <th>Fare</th>\n",
              "    </tr>\n",
              "  </thead>\n",
              "  <tbody>\n",
              "    <tr>\n",
              "      <th>0</th>\n",
              "      <td>0</td>\n",
              "      <td>7.25</td>\n",
              "    </tr>\n",
              "    <tr>\n",
              "      <th>1</th>\n",
              "      <td>1</td>\n",
              "      <td>71.28</td>\n",
              "    </tr>\n",
              "    <tr>\n",
              "      <th>2</th>\n",
              "      <td>2</td>\n",
              "      <td>7.92</td>\n",
              "    </tr>\n",
              "    <tr>\n",
              "      <th>3</th>\n",
              "      <td>3</td>\n",
              "      <td>53.10</td>\n",
              "    </tr>\n",
              "    <tr>\n",
              "      <th>4</th>\n",
              "      <td>4</td>\n",
              "      <td>8.05</td>\n",
              "    </tr>\n",
              "  </tbody>\n",
              "</table>\n",
              "</div>"
            ],
            "text/plain": [
              "   index   Fare\n",
              "0      0   7.25\n",
              "1      1  71.28\n",
              "2      2   7.92\n",
              "3      3  53.10\n",
              "4      4   8.05"
            ]
          },
          "metadata": {
            "tags": []
          },
          "execution_count": 2
        }
      ]
    },
    {
      "cell_type": "markdown",
      "metadata": {
        "id": "R03kMCWNumQQ"
      },
      "source": [
        "###1) What is the appropriate type of graph to answer the question \"What was the typical fare paid for passage on the Titanic?\"\n",
        "\n"
      ]
    },
    {
      "cell_type": "markdown",
      "metadata": {
        "id": "zuT6F0hpVbsG"
      },
      "source": [
        "Histogram\n"
      ]
    },
    {
      "cell_type": "code",
      "metadata": {
        "id": "31FyV3kimyjU",
        "outputId": "62ec1e0c-08fa-4586-f5e3-2605ad5c3d93",
        "colab": {
          "base_uri": "https://localhost:8080/",
          "height": 52
        }
      },
      "source": [
        "print('Mean: ' + str(Titanic_fare['Fare'].mean()))\n",
        "print('Max Value: ' + str(Titanic_fare['Fare'].max()))"
      ],
      "execution_count": 3,
      "outputs": [
        {
          "output_type": "stream",
          "text": [
            "Mean: 32.305569334836484\n",
            "Max Value: 512.33\n"
          ],
          "name": "stdout"
        }
      ]
    },
    {
      "cell_type": "markdown",
      "metadata": {
        "id": "JnHwnp5BVe6r"
      },
      "source": [
        "###2) Create the display you visualization you selected in 2).  Don't forget to name the axes and give the figure a title. "
      ]
    },
    {
      "cell_type": "code",
      "metadata": {
        "id": "4H948LYYwa0p",
        "outputId": "09445e22-e4ee-41dc-8dae-6cccbced868c",
        "colab": {
          "base_uri": "https://localhost:8080/",
          "height": 295
        }
      },
      "source": [
        "fig, ax = plt.subplots()\n",
        "\n",
        "num_bins = 10\n",
        "ax.hist(Titanic.Fare, num_bins, density=1)\n",
        "\n",
        "ax.set_xlabel('Fare')\n",
        "ax.set_ylabel('Frequency')\n",
        "ax.set_title('Typical Fare of Titanic Passengers')\n",
        "\n",
        "plt.show()"
      ],
      "execution_count": 4,
      "outputs": [
        {
          "output_type": "display_data",
          "data": {
            "image/png": "[encoded data removed]",
            "text/plain": [
              "<Figure size 432x288 with 1 Axes>"
            ]
          },
          "metadata": {
            "tags": [],
            "needs_background": "light"
          }
        }
      ]
    },
    {
      "cell_type": "markdown",
      "metadata": {
        "id": "1M4_OYgp00pA"
      },
      "source": [
        "###3) Describe your results in a sentence or two."
      ]
    },
    {
      "cell_type": "markdown",
      "metadata": {
        "id": "bXtZ3QkIWAGQ"
      },
      "source": [
        "It seems to me that the typical fair of the Titanic Passengers was some where between $0 to $50 dollars."
      ]
    },
    {
      "cell_type": "markdown",
      "metadata": {
        "id": "59jSon6C1MG2"
      },
      "source": [
        "###4) Plot a histogram of fare paid by Titanic passengers by sex to see if there was a difference in fare paid between male and female passengers.  "
      ]
    },
    {
      "cell_type": "code",
      "metadata": {
        "id": "f2q5bLyOIbeL",
        "outputId": "9e340da8-4cb2-4f62-b3d9-29f50dc90fe6",
        "colab": {
          "base_uri": "https://localhost:8080/",
          "height": 515
        }
      },
      "source": [
        "Titanic_male = Titanic[Titanic['Sex'] == 'male']\n",
        "Titanic_female = Titanic[Titanic['Sex'] == 'female']\n",
        "\n",
        "print(Titanic_male)\n",
        "print(Titanic_female)"
      ],
      "execution_count": 5,
      "outputs": [
        {
          "output_type": "stream",
          "text": [
            "     Survived  Pclass  ... Parents/Children_Aboard     Fare\n",
            "0           0       3  ...                       0   7.2500\n",
            "4           0       3  ...                       0   8.0500\n",
            "5           0       3  ...                       0   8.4583\n",
            "6           0       1  ...                       0  51.8625\n",
            "7           0       3  ...                       1  21.0750\n",
            "..        ...     ...  ...                     ...      ...\n",
            "879         0       2  ...                       0  10.5000\n",
            "880         0       3  ...                       0   7.0500\n",
            "882         0       2  ...                       0  13.0000\n",
            "885         1       1  ...                       0  30.0000\n",
            "886         0       3  ...                       0   7.7500\n",
            "\n",
            "[573 rows x 8 columns]\n",
            "     Survived  Pclass  ... Parents/Children_Aboard     Fare\n",
            "1           1       1  ...                       0  71.2833\n",
            "2           1       3  ...                       0   7.9250\n",
            "3           1       1  ...                       0  53.1000\n",
            "8           1       3  ...                       2  11.1333\n",
            "9           1       2  ...                       0  30.0708\n",
            "..        ...     ...  ...                     ...      ...\n",
            "876         1       2  ...                       1  26.0000\n",
            "878         0       3  ...                       0  10.5167\n",
            "881         0       3  ...                       5  29.1250\n",
            "883         1       1  ...                       0  30.0000\n",
            "884         0       3  ...                       2  23.4500\n",
            "\n",
            "[314 rows x 8 columns]\n"
          ],
          "name": "stdout"
        }
      ]
    },
    {
      "cell_type": "code",
      "metadata": {
        "id": "6mvEpMhU3Rcl",
        "outputId": "04289e07-9d08-4942-845d-28d0575a4ed3",
        "colab": {
          "base_uri": "https://localhost:8080/",
          "height": 295
        }
      },
      "source": [
        "fig, ax = plt.subplots()\n",
        "\n",
        "num_bins = 10\n",
        "ax.hist(Titanic_male.Fare, num_bins,density=1, label='Male')\n",
        "ax.hist(Titanic_female.Fare, num_bins,density=1, label='Female')\n",
        "ax.set_xlabel('Fare')\n",
        "ax.set_ylabel('Frequency')\n",
        "ax.set_title('Differences of Fare paid by Sex')\n",
        "ax.legend()\n",
        "plt.show()"
      ],
      "execution_count": 6,
      "outputs": [
        {
          "output_type": "display_data",
          "data": {
            "image/png": "[encoded data removed]",
            "text/plain": [
              "<Figure size 432x288 with 1 Axes>"
            ]
          },
          "metadata": {
            "tags": [],
            "needs_background": "light"
          }
        }
      ]
    },
    {
      "cell_type": "code",
      "metadata": {
        "id": "tVKUNke_2_cb"
      },
      "source": [
        ""
      ],
      "execution_count": 6,
      "outputs": []
    },
    {
      "cell_type": "markdown",
      "metadata": {
        "id": "dpVOCB7HWmae"
      },
      "source": [
        "###5) Describe the difference in distribution of fare paid between male and female passengers."
      ]
    },
    {
      "cell_type": "markdown",
      "metadata": {
        "id": "UnB3VZxo4uHT"
      },
      "source": [
        "They paid about the same."
      ]
    },
    {
      "cell_type": "markdown",
      "metadata": {
        "id": "GAKb2bwr5I6l"
      },
      "source": [
        "###6) Make a bar plot to show the frequency of individuals in each passenger class."
      ]
    },
    {
      "cell_type": "code",
      "metadata": {
        "id": "R3xU-DCK5PRj",
        "outputId": "65aa508e-b221-4a7e-c1a1-0c9ccdd5a69c",
        "colab": {
          "base_uri": "https://localhost:8080/",
          "height": 423
        }
      },
      "source": [
        "Pclass1 = Titanic[Titanic['Pclass'] == 1]\n",
        "Pclass2 = Titanic[Titanic['Pclass'] == 2]\n",
        "Pclass3 = Titanic[Titanic['Pclass'] == 3]\n",
        "print(Pclass1['Pclass'].value_counts())\n",
        "print(Pclass2['Pclass'].value_counts())\n",
        "print(Pclass3['Pclass'].value_counts())\n",
        "\n",
        "classes_counts =[216, 184, 487]\n",
        "\n",
        "plt.style.use('fivethirtyeight')\n",
        "\n",
        "fig, ax = plt.subplots()\n",
        "ax.bar([1,2, 3], classes_counts, width=0.9, color='Red')\n",
        "\n",
        "ax.set_xlabel('Passenger Class', fontweight='bold', fontsize=9)\n",
        "ax.set_ylabel('Frequency', fontweight='bold', fontsize=9)\n",
        "\n",
        "ax.set_title(\"Frequency of Individuals in each Passenger Class\")\n",
        "\n",
        "ax.set_xticks([1, 2, 3])\n",
        "\n",
        "plt.show()\n",
        "\n",
        "\n",
        "\n"
      ],
      "execution_count": 14,
      "outputs": [
        {
          "output_type": "stream",
          "text": [
            "1    216\n",
            "Name: Pclass, dtype: int64\n",
            "2    184\n",
            "Name: Pclass, dtype: int64\n",
            "3    487\n",
            "Name: Pclass, dtype: int64\n"
          ],
          "name": "stdout"
        },
        {
          "output_type": "display_data",
          "data": {
            "image/png": "[encoded data removed]",
            "text/plain": [
              "<Figure size 432x288 with 1 Axes>"
            ]
          },
          "metadata": {
            "tags": []
          }
        }
      ]
    },
    {
      "cell_type": "markdown",
      "metadata": {
        "id": "MbSsjvfTXTPz"
      },
      "source": [
        "###7) Summarize your results from 6)"
      ]
    },
    {
      "cell_type": "markdown",
      "metadata": {
        "id": "wNVCsFFtXZhI"
      },
      "source": [
        "Most people had the Third Passenger Class."
      ]
    },
    {
      "cell_type": "markdown",
      "metadata": {
        "id": "zl0yUdzWXgUz"
      },
      "source": [
        "###8) Create a graphical summary for the number of parents/ children on board for each passenger."
      ]
    },
    {
      "cell_type": "code",
      "metadata": {
        "id": "K18MnbPUX4gV",
        "outputId": "4eb8a0d9-a044-4cea-fc30-9daa39f0439b",
        "colab": {
          "base_uri": "https://localhost:8080/",
          "height": 320
        }
      },
      "source": [
        "Titanic['Parents/Children_Aboard'].value_counts()\n",
        "parent_children = [674, 80, 5, 4, 5, 1]\n",
        "\n",
        "plt.style.use('dark_background')\n",
        "\n",
        "fig, ax = plt.subplots()\n",
        "ax.bar([1, 2, 3, 4, 5, 6], parent_children, width=0.9, color='Red')\n",
        "\n",
        "ax.set_xlabel('Number of Parents/Children', fontweight='bold', fontsize=12)\n",
        "ax.set_ylabel('Frequency', fontweight='bold', fontsize=12)\n",
        "\n",
        "ax.set_title(\"How many Parents/Children per passenger\")\n",
        "\n",
        "ax.set_xticks([1, 2, 3, 4, 5, 6])\n",
        "\n",
        "plt.show()\n"
      ],
      "execution_count": 18,
      "outputs": [
        {
          "output_type": "display_data",
          "data": {
            "image/png": "[encoded data removed]",
            "text/plain": [
              "<Figure size 432x288 with 1 Axes>"
            ]
          },
          "metadata": {
            "tags": []
          }
        }
      ]
    },
    {
      "cell_type": "markdown",
      "metadata": {
        "id": "jxo8trtyYL2I"
      },
      "source": [
        "###9) Summarize your results from 8).  Did most individuals travel alone or with family?"
      ]
    },
    {
      "cell_type": "markdown",
      "metadata": {
        "id": "10pB7v8wYVit"
      },
      "source": [
        "Most with at least one spouse or child."
      ]
    },
    {
      "cell_type": "markdown",
      "metadata": {
        "id": "lpaeN9_-1ul6"
      },
      "source": [
        "###In 10) - 14)  We will use figure, axes syntax to plot passenger survival by whether the passenger was a child or an adult. "
      ]
    },
    {
      "cell_type": "markdown",
      "metadata": {
        "id": "KC4hmwGNZBo5"
      },
      "source": [
        "###10) Create a variable to categorize the passenger as a child (under age 18) or adult (18 years or older)."
      ]
    },
    {
      "cell_type": "code",
      "metadata": {
        "id": "Vnmr1IXRZg9V",
        "outputId": "ad290e93-ae2e-412e-e832-48171a30c488",
        "colab": {
          "base_uri": "https://localhost:8080/",
          "height": 124
        }
      },
      "source": [
        "adult = Titanic[Titanic['Age'] >= 18.00]\n",
        "child = Titanic[Titanic['Age'] < 18.00]\n",
        "\n",
        "print(adult['Survived'].value_counts())\n",
        "print(child['Survived'].value_counts())\n",
        "adult_survived_died = [277, 480]\n",
        "child_survived_died = [65, 65]"
      ],
      "execution_count": 80,
      "outputs": [
        {
          "output_type": "stream",
          "text": [
            "0    480\n",
            "1    277\n",
            "Name: Survived, dtype: int64\n",
            "1    65\n",
            "0    65\n",
            "Name: Survived, dtype: int64\n"
          ],
          "name": "stdout"
        }
      ]
    },
    {
      "cell_type": "markdown",
      "metadata": {
        "id": "xO_MMk8gZFw9"
      },
      "source": [
        "###11) Make a cross-tab of survival by age (child vs adult)."
      ]
    },
    {
      "cell_type": "code",
      "metadata": {
        "id": "zzSIQuXRBwi0"
      },
      "source": [
        "adult_survivors = pd.crosstab(adult['Age'], Titanic['Survived'], normalize='columns', colnames=['Survived'])\n",
        "child_survivors = pd.crosstab(child['Age'], Titanic['Survived'], colnames=['Survived'])\n",
        "\n"
      ],
      "execution_count": 81,
      "outputs": []
    },
    {
      "cell_type": "markdown",
      "metadata": {
        "id": "TZa_7B-5Z5cF"
      },
      "source": [
        "###12) Create a new data frame to hold the data for the figure."
      ]
    },
    {
      "cell_type": "code",
      "metadata": {
        "id": "V29aOIyI1sMa"
      },
      "source": [
        "\n"
      ],
      "execution_count": 62,
      "outputs": []
    },
    {
      "cell_type": "markdown",
      "metadata": {
        "id": "kY5Z0lAsaNJx"
      },
      "source": [
        "###13) Adapt the plot from the Guided Project to show the relationship between passenger age (child vs adult) and survival."
      ]
    },
    {
      "cell_type": "code",
      "metadata": {
        "id": "NUsDf2jR1xLY",
        "outputId": "3c02ffc4-19c8-4734-eb3d-06813fe362d6",
        "colab": {
          "base_uri": "https://localhost:8080/",
          "height": 470
        }
      },
      "source": [
        "plt.style.use('classic')\n",
        "\n",
        "fig, ax = plt.subplots()\n",
        "ax.bar([1, 2], adult_survived_died, width=0.9, color='Red', label='Adult')\n",
        "ax.bar([3, 4], child_survived_died, width=0.9, color='blue', label='Child')\n",
        "\n",
        "ax.set_xlabel('Survival', fontweight='bold', fontsize=12)\n",
        "ax.set_ylabel('Frequency', fontweight='bold', fontsize=12)\n",
        "\n",
        "ax.set_title(\"Adult Vs Child Survivors\")\n",
        "\n",
        "ax.set_xticks([1, 2, 3, 4])\n",
        "ax.set_xticklabels(['Survived', 'Did not survive', 'Survived', 'Did not survive'])\n",
        "ax.legend()\n",
        "plt.show()"
      ],
      "execution_count": 82,
      "outputs": [
        {
          "output_type": "display_data",
          "data": {
            "image/png": "[encoded data removed]",
            "text/plain": [
              "<Figure size 640x480 with 1 Axes>"
            ]
          },
          "metadata": {
            "tags": []
          }
        }
      ]
    },
    {
      "cell_type": "markdown",
      "metadata": {
        "id": "21YsjFAaRQOr"
      },
      "source": [
        "###14) Summarize your results about passenger survival by age."
      ]
    },
    {
      "cell_type": "markdown",
      "metadata": {
        "id": "LDCwF1KLbLDI"
      },
      "source": [
        "Answer here"
      ]
    },
    {
      "cell_type": "code",
      "metadata": {
        "id": "7eomaifIUKxy"
      },
      "source": [
        "More adults died than survived but the same amount of children survived and died."
      ],
      "execution_count": null,
      "outputs": []
    },
    {
      "cell_type": "markdown",
      "metadata": {
        "id": "gmRDTa8ucXnV"
      },
      "source": [
        "#Project Milestone\n",
        "\n",
        "Take some time to explore the links below.  Think about how we use graphics to answer research questions and how looking at visualizations can help us develop new lines of enquiry.  \n",
        "\n",
        "By the end of the weekend, you should have a pretty good idea (though it can change!) what kind of data and visualizations you'd like to include in your Portfolio Project.\n",
        "\n",
        "### Links\n",
        "\n",
        "- [How to Spot Visualization Lies](https://flowingdata.com/2017/02/09/how-to-spot-visualization-lies/)\n",
        "- [Visual Vocabulary - Vega Edition](http://ft.com/vocabulary)\n",
        "- [Choosing a Python Visualization Tool flowchart](http://pbpython.com/python-vis-flowchart.html)\n",
        "- [Searborn example gallery](http://seaborn.pydata.org/examples/index.html) & [tutorial](http://seaborn.pydata.org/tutorial.html)\n",
        "- [Strong Titles Are The Biggest Bang for Your Buck](http://stephanieevergreen.com/strong-titles/)\n",
        "- [Remove to improve (the data-ink ratio)](https://www.darkhorseanalytics.com/blog/data-looks-better-naked)\n",
        "- [How to Generate FiveThirtyEight Graphs in Python](https://www.dataquest.io/blog/making-538-plots/)"
      ]
    }
  ]
}