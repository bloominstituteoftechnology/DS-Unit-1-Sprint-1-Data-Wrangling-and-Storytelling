{
  "nbformat": 4,
  "nbformat_minor": 0,
  "metadata": {
    "colab": {
      "name": "LS_DS_Sprint_2_Challenge.ipynb",
      "provenance": [],
      "collapsed_sections": [],
      "include_colab_link": true
    },
    "kernelspec": {
      "name": "python3",
      "display_name": "Python 3"
    }
  },
  "cells": [
    {
      "cell_type": "markdown",
      "metadata": {
        "id": "view-in-github",
        "colab_type": "text"
      },
      "source": [
        "<a href=\"https://colab.research.google.com/github/lukehdez95/DS-Unit-1-Sprint-1-Data-Wrangling-and-Storytelling/blob/master/LS_DS_Sprint_2_Challenge.ipynb\" target=\"_parent\"><img src=\"https://colab.research.google.com/assets/colab-badge.svg\" alt=\"Open In Colab\"/></a>"
      ]
    },
    {
      "cell_type": "markdown",
      "metadata": {
        "id": "838Dmw1kM2LK"
      },
      "source": [
        "# Sprint 2 Challenge\n",
        "\n",
        "### Dataset description: \n",
        "\n",
        "Anyone who is a fan of detective TV shows has watched a scene where human remains are discovered and some sort of expert is called in to determine when the person died. But is this science fiction or science fact? Is it possible to use evidence from skeletal remains to determine how long a body has been buried (a decent approximation of how long the person has been dead)? \n",
        "\n",
        "Researchers sampled long bone material from bodies exhumed from coffin burials in two cemeteries in England. In each case, date of death and burial (and therefore interment time) was known. This data is given in the Longbones.csv dataset. \n",
        "\n",
        "You can find Longbones.csv here: https://raw.githubusercontent.com/Chelsea-Myers/Lambda-Intro/master/Longbones.csv\n",
        "\n",
        "**What can we learn about the bodies that were buried in the cemetery?**\n",
        "\n",
        "The variable names are:\n",
        "\n",
        "Site = Site ID, either Site 1 or Site 2\n",
        "\n",
        "Time = Interrment time in years\n",
        "\n",
        "Depth = Burial depth in ft.\n",
        "\n",
        "Lime = Burial with Quiklime (0 = No, 1 = Yes)\n",
        "\n",
        "Age = Age at time of death in years\n",
        "\n",
        "Nitro = Nitrogen composition of the long bones in g per 100g of bone.\n",
        "\n",
        "Oil = Oil contamination of the grave site (0 = No contamination, 1 = Oil contamination)\n",
        "\n",
        "Source: D.R. Jarvis (1997). \"Nitrogen Levels in Long Bones from Coffin Burials Interred for Periods of 26-90 Years,\" Forensic Science International, Vol85, pp199-208"
      ]
    },
    {
      "cell_type": "markdown",
      "metadata": {
        "id": "3hi4kQm1XhlO"
      },
      "source": [
        "###1) Import the data \n",
        "\n",
        "Import the Longbones.csv file and print the first 5 rows."
      ]
    },
    {
      "cell_type": "code",
      "metadata": {
        "id": "4lBeDadzeHKy"
      },
      "source": [
        "#Import the dataset\n",
        "\n",
        "import pandas as pd\n",
        "import numpy as np\n",
        "\n",
        "\n",
        "data_url = 'https://raw.githubusercontent.com/Chelsea-Myers/Lambda-Intro/master/Longbones.csv'\n",
        "\n",
        "df = pd.read_csv(data_url, skipinitialspace=True, header=0)\n",
        "\n"
      ],
      "execution_count": 1,
      "outputs": []
    },
    {
      "cell_type": "code",
      "metadata": {
        "id": "erthjvyReHap",
        "colab": {
          "base_uri": "https://localhost:8080/",
          "height": 206
        },
        "outputId": "98edfc6b-fa89-41f9-92e2-fb4faff72a1c"
      },
      "source": [
        "### YOUR CODE HERE ###\n",
        "df.head()"
      ],
      "execution_count": 2,
      "outputs": [
        {
          "output_type": "execute_result",
          "data": {
            "text/html": [
              "<div>\n",
              "<style scoped>\n",
              "    .dataframe tbody tr th:only-of-type {\n",
              "        vertical-align: middle;\n",
              "    }\n",
              "\n",
              "    .dataframe tbody tr th {\n",
              "        vertical-align: top;\n",
              "    }\n",
              "\n",
              "    .dataframe thead th {\n",
              "        text-align: right;\n",
              "    }\n",
              "</style>\n",
              "<table border=\"1\" class=\"dataframe\">\n",
              "  <thead>\n",
              "    <tr style=\"text-align: right;\">\n",
              "      <th></th>\n",
              "      <th>Site</th>\n",
              "      <th>Time</th>\n",
              "      <th>Depth</th>\n",
              "      <th>Lime</th>\n",
              "      <th>Age</th>\n",
              "      <th>Nitro</th>\n",
              "      <th>Oil</th>\n",
              "    </tr>\n",
              "  </thead>\n",
              "  <tbody>\n",
              "    <tr>\n",
              "      <th>0</th>\n",
              "      <td>1</td>\n",
              "      <td>88.5</td>\n",
              "      <td>7.0</td>\n",
              "      <td>1</td>\n",
              "      <td>NaN</td>\n",
              "      <td>3.88</td>\n",
              "      <td>1</td>\n",
              "    </tr>\n",
              "    <tr>\n",
              "      <th>1</th>\n",
              "      <td>1</td>\n",
              "      <td>88.5</td>\n",
              "      <td>NaN</td>\n",
              "      <td>1</td>\n",
              "      <td>NaN</td>\n",
              "      <td>4.00</td>\n",
              "      <td>1</td>\n",
              "    </tr>\n",
              "    <tr>\n",
              "      <th>2</th>\n",
              "      <td>1</td>\n",
              "      <td>85.2</td>\n",
              "      <td>7.0</td>\n",
              "      <td>1</td>\n",
              "      <td>NaN</td>\n",
              "      <td>3.69</td>\n",
              "      <td>1</td>\n",
              "    </tr>\n",
              "    <tr>\n",
              "      <th>3</th>\n",
              "      <td>1</td>\n",
              "      <td>71.8</td>\n",
              "      <td>7.6</td>\n",
              "      <td>1</td>\n",
              "      <td>65.0</td>\n",
              "      <td>3.88</td>\n",
              "      <td>0</td>\n",
              "    </tr>\n",
              "    <tr>\n",
              "      <th>4</th>\n",
              "      <td>1</td>\n",
              "      <td>70.6</td>\n",
              "      <td>7.5</td>\n",
              "      <td>1</td>\n",
              "      <td>42.0</td>\n",
              "      <td>3.53</td>\n",
              "      <td>0</td>\n",
              "    </tr>\n",
              "  </tbody>\n",
              "</table>\n",
              "</div>"
            ],
            "text/plain": [
              "   Site  Time  Depth  Lime   Age  Nitro  Oil\n",
              "0     1  88.5    7.0     1   NaN   3.88    1\n",
              "1     1  88.5    NaN     1   NaN   4.00    1\n",
              "2     1  85.2    7.0     1   NaN   3.69    1\n",
              "3     1  71.8    7.6     1  65.0   3.88    0\n",
              "4     1  70.6    7.5     1  42.0   3.53    0"
            ]
          },
          "metadata": {
            "tags": []
          },
          "execution_count": 2
        }
      ]
    },
    {
      "cell_type": "markdown",
      "metadata": {
        "id": "NKsOOVvoeLUR"
      },
      "source": [
        "###2) Check for missing data.\n",
        "\n",
        "Is there any missing data in the dataset?  If so, in what variable(s)?  "
      ]
    },
    {
      "cell_type": "code",
      "metadata": {
        "id": "-xCpxeU7xXFV",
        "colab": {
          "base_uri": "https://localhost:8080/"
        },
        "outputId": "0ade3960-cf58-4b8c-eb48-5518d9f1fbc6"
      },
      "source": [
        "### YOUR CODE HERE ###\n",
        "print(df.shape)\n",
        "df.info()"
      ],
      "execution_count": 5,
      "outputs": [
        {
          "output_type": "stream",
          "text": [
            "(42, 7)\n",
            "<class 'pandas.core.frame.DataFrame'>\n",
            "RangeIndex: 42 entries, 0 to 41\n",
            "Data columns (total 7 columns):\n",
            " #   Column  Non-Null Count  Dtype  \n",
            "---  ------  --------------  -----  \n",
            " 0   Site    42 non-null     int64  \n",
            " 1   Time    42 non-null     float64\n",
            " 2   Depth   41 non-null     float64\n",
            " 3   Lime    42 non-null     int64  \n",
            " 4   Age     35 non-null     float64\n",
            " 5   Nitro   42 non-null     float64\n",
            " 6   Oil     42 non-null     int64  \n",
            "dtypes: float64(4), int64(3)\n",
            "memory usage: 2.4 KB\n"
          ],
          "name": "stdout"
        }
      ]
    },
    {
      "cell_type": "markdown",
      "metadata": {
        "id": "qeVwTYT_eZhI"
      },
      "source": [
        "1 Null value in Depth\n",
        "\n",
        "7 Null values in Age"
      ]
    },
    {
      "cell_type": "markdown",
      "metadata": {
        "id": "maUUy0b-efKn"
      },
      "source": [
        "### 3) Remove any rows with missing data from the dataset.  If there is no missing data, write \"No missing data\" in the answer section below."
      ]
    },
    {
      "cell_type": "code",
      "metadata": {
        "id": "iWxyaYvUxfcn",
        "colab": {
          "base_uri": "https://localhost:8080/"
        },
        "outputId": "890889a2-a7cb-4b1c-c7d6-5355965625cf"
      },
      "source": [
        "### YOUR CODE HERE ###\n",
        "df.dropna(inplace=True)\n",
        "df.shape"
      ],
      "execution_count": 9,
      "outputs": [
        {
          "output_type": "execute_result",
          "data": {
            "text/plain": [
              "(35, 7)"
            ]
          },
          "metadata": {
            "tags": []
          },
          "execution_count": 9
        }
      ]
    },
    {
      "cell_type": "markdown",
      "metadata": {
        "id": "FiwnkZHjg6Br"
      },
      "source": [
        "If there are no NA's, indicate that here. "
      ]
    },
    {
      "cell_type": "markdown",
      "metadata": {
        "id": "DCu_DnqzfZCi"
      },
      "source": [
        "#Use the following information to answer questions 4) - 7) \n",
        "\n",
        "The mean nitrogen compostion in living individuals is 4.3g per 100g of bone.  \n",
        "\n",
        "We wish to use the Longbones sample to test the null hypothesis that the mean nitrogen composition per 100g of bone in the deceased is 4.3g (equal to that of living humans) vs the alternative hypothesis that the mean nitrogen composition per 100g of bone in the deceased is not 4.3g (not equal to that of living humans). \n",
        "\n"
      ]
    },
    {
      "cell_type": "markdown",
      "metadata": {
        "id": "TvZZhLlSjehS"
      },
      "source": [
        "###4) Using symbols and statistical language, write the null and alternative hypotheses outlined above."
      ]
    },
    {
      "cell_type": "markdown",
      "metadata": {
        "id": "qt0ug6daj96v"
      },
      "source": [
        "$H_0:$ The mean nitrogen composition in the deceased is 4.3g per 100g of bone\n",
        "\n",
        "$H_a:$ The mean nitrogen composition in the deceased is not 4.3g per 100g of bone"
      ]
    },
    {
      "cell_type": "markdown",
      "metadata": {
        "id": "xG44zc__kCte"
      },
      "source": [
        "###5) What is the appropriate test for these hypotheses?  A t-test or a chi-square test?  Explain your answer in a sentence or two."
      ]
    },
    {
      "cell_type": "markdown",
      "metadata": {
        "id": "IbGjw2LlkQjx"
      },
      "source": [
        "A t-test, because chi-square tests are for categorical values. Nitrogen composition in this dataset seems to be quantitative and continuous."
      ]
    },
    {
      "cell_type": "markdown",
      "metadata": {
        "id": "9KnID825kQ-E"
      },
      "source": [
        "###6) Use a built-in Python function to conduct the statistical test you identified in 5).  Report your p-value.  Write the conclusion to your hypothesis test at the alpha = 0.05 significance level."
      ]
    },
    {
      "cell_type": "code",
      "metadata": {
        "id": "l7kbcK8RxqV0",
        "colab": {
          "base_uri": "https://localhost:8080/"
        },
        "outputId": "77f060ad-82ef-41fd-97b9-48b9ac527437"
      },
      "source": [
        "### YOUR CODE HERE ###\n",
        "from scipy import stats\n",
        "stats.stats.ttest_1samp(df['Nitro'],4.3)"
      ],
      "execution_count": 10,
      "outputs": [
        {
          "output_type": "execute_result",
          "data": {
            "text/plain": [
              "Ttest_1sampResult(statistic=-16.525765821830365, pvalue=8.097649978903554e-18)"
            ]
          },
          "metadata": {
            "tags": []
          },
          "execution_count": 10
        }
      ]
    },
    {
      "cell_type": "markdown",
      "metadata": {
        "id": "sBW2ug1hkxdy"
      },
      "source": [
        "My p-value is approximately .000000000000000008, which is much smaller than my .05 significance level, which means I reject the null hypothesis, which states that the mean nitrogen composition of the deceased per 100g of bone is 4.3."
      ]
    },
    {
      "cell_type": "markdown",
      "metadata": {
        "id": "MsxjHEbRrQBZ"
      },
      "source": [
        "###7) Create a 95% confidence interval for the mean nitrogen compostion in the longbones of a deceased individual.  Interpret your confidence interval in a sentence or two."
      ]
    },
    {
      "cell_type": "code",
      "metadata": {
        "id": "atFLEgciP15T"
      },
      "source": [
        "### YOUR CODE HERE ###\n",
        "from scipy.stats import t\n",
        "nitro_mean = df['Nitro'].mean()\n",
        "nitro_std = df['Nitro'].std()\n",
        "nitro_n = df['Nitro'].count()\n",
        "nitro_se = nitro_std / (nitro_n**(1/2))"
      ],
      "execution_count": 18,
      "outputs": []
    },
    {
      "cell_type": "code",
      "metadata": {
        "colab": {
          "base_uri": "https://localhost:8080/"
        },
        "id": "y4yqgKkv3q4p",
        "outputId": "66577d23-ebaa-4334-a4fb-c63257e354ca"
      },
      "source": [
        "t.interval(alpha = .95,df = nitro_n,loc = nitro_mean, scale = nitro_se)"
      ],
      "execution_count": 19,
      "outputs": [
        {
          "output_type": "execute_result",
          "data": {
            "text/plain": [
              "(3.7340861131115286, 3.857913886888472)"
            ]
          },
          "metadata": {
            "tags": []
          },
          "execution_count": 19
        }
      ]
    },
    {
      "cell_type": "markdown",
      "metadata": {
        "id": "m2ixBzDhP15X"
      },
      "source": [
        "We are 95% confident that any 100g of bone from a deceased person will have between 3.73g and 3.86g of nitrogen.\n",
        "\n"
      ]
    },
    {
      "cell_type": "markdown",
      "metadata": {
        "id": "KYpQ60qPfSpq"
      },
      "source": [
        "#Use the following information to answer questions 8) - 12) \n"
      ]
    },
    {
      "cell_type": "markdown",
      "metadata": {
        "id": "wXnTAE6zlKnN"
      },
      "source": [
        "The researchers also want to learn more about burial practices in the parts of England where the two cemetaries in the study were located.  They wish to determine if burials with Quicklime are associated with the burial region.  \n",
        "\n",
        "Their null hypothesis is that there is no association between cemetery site and burial with Quicklime.  The alternative hypothesis is that there is an association between cemetery site and burial with Quicklime.\n",
        "\n"
      ]
    },
    {
      "cell_type": "markdown",
      "metadata": {
        "id": "Nrh9-WJCnfi-"
      },
      "source": [
        "###8) Calculate the joint distribution of burial with Quicklime by burial site."
      ]
    },
    {
      "cell_type": "code",
      "metadata": {
        "id": "G6N_fzPXyF1J"
      },
      "source": [
        "### YOUR CODE HERE ###\n",
        "joint_df = pd.crosstab(df['Lime'],df['Site'],margins=True)"
      ],
      "execution_count": 23,
      "outputs": []
    },
    {
      "cell_type": "markdown",
      "metadata": {
        "id": "tdESH5FcnvsR"
      },
      "source": [
        "###9) Calculate the conditional distribution of burial with Quicklime by burial site."
      ]
    },
    {
      "cell_type": "code",
      "metadata": {
        "id": "QkiPyt5ByJ7V",
        "colab": {
          "base_uri": "https://localhost:8080/",
          "height": 143
        },
        "outputId": "46c5dcfa-eaf8-4629-d75b-9054f7b37bcb"
      },
      "source": [
        "### YOUR CODE HERE ###\n",
        "pd.crosstab(df['Lime'],df['Site'],normalize='index')"
      ],
      "execution_count": 22,
      "outputs": [
        {
          "output_type": "execute_result",
          "data": {
            "text/html": [
              "<div>\n",
              "<style scoped>\n",
              "    .dataframe tbody tr th:only-of-type {\n",
              "        vertical-align: middle;\n",
              "    }\n",
              "\n",
              "    .dataframe tbody tr th {\n",
              "        vertical-align: top;\n",
              "    }\n",
              "\n",
              "    .dataframe thead th {\n",
              "        text-align: right;\n",
              "    }\n",
              "</style>\n",
              "<table border=\"1\" class=\"dataframe\">\n",
              "  <thead>\n",
              "    <tr style=\"text-align: right;\">\n",
              "      <th>Site</th>\n",
              "      <th>1</th>\n",
              "      <th>2</th>\n",
              "    </tr>\n",
              "    <tr>\n",
              "      <th>Lime</th>\n",
              "      <th></th>\n",
              "      <th></th>\n",
              "    </tr>\n",
              "  </thead>\n",
              "  <tbody>\n",
              "    <tr>\n",
              "      <th>0</th>\n",
              "      <td>0.608696</td>\n",
              "      <td>0.391304</td>\n",
              "    </tr>\n",
              "    <tr>\n",
              "      <th>1</th>\n",
              "      <td>0.416667</td>\n",
              "      <td>0.583333</td>\n",
              "    </tr>\n",
              "  </tbody>\n",
              "</table>\n",
              "</div>"
            ],
            "text/plain": [
              "Site         1         2\n",
              "Lime                    \n",
              "0     0.608696  0.391304\n",
              "1     0.416667  0.583333"
            ]
          },
          "metadata": {
            "tags": []
          },
          "execution_count": 22
        }
      ]
    },
    {
      "cell_type": "markdown",
      "metadata": {
        "id": "qGCgkD_KoM9e"
      },
      "source": [
        "###10) What is the appropriate test for the hypotheses listed above?  A t-test or a chi-square test?  Explain your answer in a sentence or two."
      ]
    },
    {
      "cell_type": "markdown",
      "metadata": {
        "id": "-5fEpmowoQbs"
      },
      "source": [
        "Being that the data is categorical, a chi square test would be more appropriate for these hypotheses."
      ]
    },
    {
      "cell_type": "markdown",
      "metadata": {
        "id": "G2rwievuoTiy"
      },
      "source": [
        "###11) Conducte your hypothesis test and report your conclusion at the alpha = 0.05 significance level."
      ]
    },
    {
      "cell_type": "code",
      "metadata": {
        "id": "vQemmXEwyRRt",
        "colab": {
          "base_uri": "https://localhost:8080/"
        },
        "outputId": "b696461a-bc89-46de-cab3-49c40eeff01d"
      },
      "source": [
        "### YOUR CODE HERE ###\n",
        "from scipy.stats import chi2_contingency\n",
        "\n",
        "g, p_val, dof, expectd = chi2_contingency(joint_df)\n",
        "p_val"
      ],
      "execution_count": 24,
      "outputs": [
        {
          "output_type": "execute_result",
          "data": {
            "text/plain": [
              "0.8827265856378302"
            ]
          },
          "metadata": {
            "tags": []
          },
          "execution_count": 24
        }
      ]
    },
    {
      "cell_type": "markdown",
      "metadata": {
        "id": "IoSAVaYRodPs"
      },
      "source": [
        "Our p-value is .9 which is more than our significance level of .05, which leads me to fail to reject the null hypothesis, which states there is no association between cemetery site and burial with quicklime."
      ]
    },
    {
      "cell_type": "markdown",
      "metadata": {
        "id": "vdzV0Sd-SAYP"
      },
      "source": [
        "###12) Conducte your hypothesis test and report your conclusion at the alpha = 0.05 significance level."
      ]
    },
    {
      "cell_type": "code",
      "metadata": {
        "id": "XJkwX2P3SEds"
      },
      "source": [
        "### YOUR CODE HERE ###"
      ],
      "execution_count": null,
      "outputs": []
    },
    {
      "cell_type": "markdown",
      "metadata": {
        "id": "OytU0QcdxBNF"
      },
      "source": [
        "Your answer here."
      ]
    },
    {
      "cell_type": "markdown",
      "metadata": {
        "id": "VPejVZDsF84m"
      },
      "source": [
        "###13) In a few sentences, describe the difference between Bayesian and Frequentist statistics."
      ]
    },
    {
      "cell_type": "markdown",
      "metadata": {
        "id": "88qgSn96xYkU"
      },
      "source": [
        "Frequentist statistics have a scenario run many, many times. Then use the results to state the probability of things happening. Bayesian statistics, has you reasses your opinion after every time a scenario is run, and base the next probability calculation based on the most recent result."
      ]
    }
  ]
}