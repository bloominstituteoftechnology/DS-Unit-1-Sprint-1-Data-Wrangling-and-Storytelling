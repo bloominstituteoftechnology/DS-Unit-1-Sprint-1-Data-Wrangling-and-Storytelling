{
  "nbformat": 4,
  "nbformat_minor": 0,
  "metadata": {
    "colab": {
      "name": "LS_DS11_111_Exploratory_Data_Analysis_Assignment.ipynb",
      "provenance": [],
      "collapsed_sections": [],
      "include_colab_link": true
    },
    "kernelspec": {
      "name": "python3",
      "display_name": "Python 3"
    }
  },
  "cells": [
    {
      "cell_type": "markdown",
      "metadata": {
        "id": "view-in-github",
        "colab_type": "text"
      },
      "source": [
        "<a href=\"https://colab.research.google.com/github/filchyboy/DS-Unit-1-Sprint-1-Data-Wrangling-and-Storytelling/blob/master/module1-exploratory-data-analysis/LS_DS11_111_Exploratory_Data_Analysis_Assignment.ipynb\" target=\"_parent\"><img src=\"https://colab.research.google.com/assets/colab-badge.svg\" alt=\"Open In Colab\"/></a>"
      ]
    },
    {
      "cell_type": "markdown",
      "metadata": {
        "colab_type": "text",
        "id": "MSnsTgZLKO72"
      },
      "source": [
        "# Practice Loading and Exploring Datasets\n",
        "\n",
        "This assignment is purposely open-ended. You will be asked to load datasets from the [UC-Irvine Machine Learning Repository](https://archive.ics.uci.edu/ml/index.php). \n",
        "\n",
        "Even though you maybe using different datasets than your fellow classmates, try and be supportive and assist each other in the challenges that you are facing. You will only deepend your understanding of these topics as you work to assist one another. Many popular UCI datasets face similar data loading challenges.\n",
        "\n",
        "Remember that the UCI datasets do not necessarily have a file type of `.csv` so it's important that you learn as much as you can about the dataset before you try and load it. See if you can look at the raw text of the file either locally or using the `!curl` shell command -or in some other way before you try and read it in as a dataframe. This will help you catch what would otherwise be unforseen problems.\n",
        "\n",
        "Feel free to embellish this notebook with additional markdown cells,code cells, comments, graphs, etc. Whatever you think helps adequately address the questions."
      ]
    },
    {
      "cell_type": "markdown",
      "metadata": {
        "id": "156P6ndeKojO",
        "colab_type": "text"
      },
      "source": [
        "## 1) Load a dataset from UCI (via its URL)\n",
        "\n",
        "Please navigate to the home page and choose a dataset (other than the Adult dataset) from the \"Most Popular\" section on the right-hand side of the home page. Load the dataset via its URL and check the following (show your work):\n",
        "\n",
        "- Are the headers showing up properly?\n",
        "- Look at the first 5 and the last 5 rows, do they seem to be in order?\n",
        "- Does the dataset have the correct number of rows and columns as described in the UCI page? \n",
        " - Remember, that UCI does not count the y variable (column of values that we might want to predict via a machine learning model) as an \"attribute\" but rather as a \"class attribute\" so you may end up seeing a number of columns that is one greater than the number listed on the UCI website.\n",
        "- Does UCI list this dataset as having missing values? Check for missing values and see if your analysis corroborates what UCI reports?\n",
        "- if `NaN` values or other missing value indicators are not being detected by `df.isnull().sum()` find a way to replace whatever is indicating the missing values with `np.NaN`.\n",
        "- Use the .describe() function in order to see the summary statistics of both the numeric and non-numeric columns. "
      ]
    },
    {
      "cell_type": "code",
      "metadata": {
        "id": "NJdISe69ZT7E",
        "colab_type": "code",
        "colab": {}
      },
      "source": [
        "# TODO your work here!\n",
        "# And note you should write comments, descriptions, and add new\n",
        "# code and text blocks as needed\n",
        "# I will use the following 2 data sets from UCI:\n",
        "# https://archive.ics.uci.edu/ml/machine-learning-databases/abalone/abalone.data'\n",
        "# https://archive.ics.uci.edu/ml/machine-learning-databases/forest-fires/forestfires.csv"
      ],
      "execution_count": 0,
      "outputs": []
    },
    {
      "cell_type": "code",
      "metadata": {
        "id": "51QgZUk03Ocx",
        "colab_type": "code",
        "colab": {}
      },
      "source": [
        "import pandas as pd"
      ],
      "execution_count": 0,
      "outputs": []
    },
    {
      "cell_type": "code",
      "metadata": {
        "id": "ZCFPPkTHipwy",
        "colab_type": "code",
        "colab": {}
      },
      "source": [
        "# Importing 2 sets of data, figure they will have different issues \n",
        "# to be addressed. One imported directly from UCI servers. The other local.\n",
        "\n",
        "ff_url='https://archive.ics.uci.edu/ml/machine-learning-databases/forest-fires/forestfires.csv'\n"
      ],
      "execution_count": 0,
      "outputs": []
    },
    {
      "cell_type": "code",
      "metadata": {
        "id": "zwBpjjd6sUUv",
        "colab_type": "code",
        "colab": {
          "base_uri": "https://localhost:8080/",
          "height": 204
        },
        "outputId": "c7674e97-ab8d-4818-d3a2-1d3f3cfedd95"
      },
      "source": [
        "# Forest fire data seems to be properly imported with proper varient\n",
        "# headers. 1st 5 rows look good.\n",
        "df_ff = pd.read_csv(ff_url)\n",
        "df_ff.head()"
      ],
      "execution_count": 66,
      "outputs": [
        {
          "output_type": "execute_result",
          "data": {
            "text/html": [
              "<div>\n",
              "<style scoped>\n",
              "    .dataframe tbody tr th:only-of-type {\n",
              "        vertical-align: middle;\n",
              "    }\n",
              "\n",
              "    .dataframe tbody tr th {\n",
              "        vertical-align: top;\n",
              "    }\n",
              "\n",
              "    .dataframe thead th {\n",
              "        text-align: right;\n",
              "    }\n",
              "</style>\n",
              "<table border=\"1\" class=\"dataframe\">\n",
              "  <thead>\n",
              "    <tr style=\"text-align: right;\">\n",
              "      <th></th>\n",
              "      <th>X</th>\n",
              "      <th>Y</th>\n",
              "      <th>month</th>\n",
              "      <th>day</th>\n",
              "      <th>FFMC</th>\n",
              "      <th>DMC</th>\n",
              "      <th>DC</th>\n",
              "      <th>ISI</th>\n",
              "      <th>temp</th>\n",
              "      <th>RH</th>\n",
              "      <th>wind</th>\n",
              "      <th>rain</th>\n",
              "      <th>area</th>\n",
              "    </tr>\n",
              "  </thead>\n",
              "  <tbody>\n",
              "    <tr>\n",
              "      <th>0</th>\n",
              "      <td>7</td>\n",
              "      <td>5</td>\n",
              "      <td>mar</td>\n",
              "      <td>fri</td>\n",
              "      <td>86.2</td>\n",
              "      <td>26.2</td>\n",
              "      <td>94.3</td>\n",
              "      <td>5.1</td>\n",
              "      <td>8.2</td>\n",
              "      <td>51</td>\n",
              "      <td>6.7</td>\n",
              "      <td>0.0</td>\n",
              "      <td>0.0</td>\n",
              "    </tr>\n",
              "    <tr>\n",
              "      <th>1</th>\n",
              "      <td>7</td>\n",
              "      <td>4</td>\n",
              "      <td>oct</td>\n",
              "      <td>tue</td>\n",
              "      <td>90.6</td>\n",
              "      <td>35.4</td>\n",
              "      <td>669.1</td>\n",
              "      <td>6.7</td>\n",
              "      <td>18.0</td>\n",
              "      <td>33</td>\n",
              "      <td>0.9</td>\n",
              "      <td>0.0</td>\n",
              "      <td>0.0</td>\n",
              "    </tr>\n",
              "    <tr>\n",
              "      <th>2</th>\n",
              "      <td>7</td>\n",
              "      <td>4</td>\n",
              "      <td>oct</td>\n",
              "      <td>sat</td>\n",
              "      <td>90.6</td>\n",
              "      <td>43.7</td>\n",
              "      <td>686.9</td>\n",
              "      <td>6.7</td>\n",
              "      <td>14.6</td>\n",
              "      <td>33</td>\n",
              "      <td>1.3</td>\n",
              "      <td>0.0</td>\n",
              "      <td>0.0</td>\n",
              "    </tr>\n",
              "    <tr>\n",
              "      <th>3</th>\n",
              "      <td>8</td>\n",
              "      <td>6</td>\n",
              "      <td>mar</td>\n",
              "      <td>fri</td>\n",
              "      <td>91.7</td>\n",
              "      <td>33.3</td>\n",
              "      <td>77.5</td>\n",
              "      <td>9.0</td>\n",
              "      <td>8.3</td>\n",
              "      <td>97</td>\n",
              "      <td>4.0</td>\n",
              "      <td>0.2</td>\n",
              "      <td>0.0</td>\n",
              "    </tr>\n",
              "    <tr>\n",
              "      <th>4</th>\n",
              "      <td>8</td>\n",
              "      <td>6</td>\n",
              "      <td>mar</td>\n",
              "      <td>sun</td>\n",
              "      <td>89.3</td>\n",
              "      <td>51.3</td>\n",
              "      <td>102.2</td>\n",
              "      <td>9.6</td>\n",
              "      <td>11.4</td>\n",
              "      <td>99</td>\n",
              "      <td>1.8</td>\n",
              "      <td>0.0</td>\n",
              "      <td>0.0</td>\n",
              "    </tr>\n",
              "  </tbody>\n",
              "</table>\n",
              "</div>"
            ],
            "text/plain": [
              "   X  Y month  day  FFMC   DMC     DC  ISI  temp  RH  wind  rain  area\n",
              "0  7  5   mar  fri  86.2  26.2   94.3  5.1   8.2  51   6.7   0.0   0.0\n",
              "1  7  4   oct  tue  90.6  35.4  669.1  6.7  18.0  33   0.9   0.0   0.0\n",
              "2  7  4   oct  sat  90.6  43.7  686.9  6.7  14.6  33   1.3   0.0   0.0\n",
              "3  8  6   mar  fri  91.7  33.3   77.5  9.0   8.3  97   4.0   0.2   0.0\n",
              "4  8  6   mar  sun  89.3  51.3  102.2  9.6  11.4  99   1.8   0.0   0.0"
            ]
          },
          "metadata": {
            "tags": []
          },
          "execution_count": 66
        }
      ]
    },
    {
      "cell_type": "code",
      "metadata": {
        "id": "-Gc0efqypRxD",
        "colab_type": "code",
        "colab": {
          "base_uri": "https://localhost:8080/",
          "height": 204
        },
        "outputId": "e11b08b7-8b32-4ba5-8d24-1e6dbc192d9f"
      },
      "source": [
        "# Tail looks good.\n",
        "df_ff.tail()"
      ],
      "execution_count": 67,
      "outputs": [
        {
          "output_type": "execute_result",
          "data": {
            "text/html": [
              "<div>\n",
              "<style scoped>\n",
              "    .dataframe tbody tr th:only-of-type {\n",
              "        vertical-align: middle;\n",
              "    }\n",
              "\n",
              "    .dataframe tbody tr th {\n",
              "        vertical-align: top;\n",
              "    }\n",
              "\n",
              "    .dataframe thead th {\n",
              "        text-align: right;\n",
              "    }\n",
              "</style>\n",
              "<table border=\"1\" class=\"dataframe\">\n",
              "  <thead>\n",
              "    <tr style=\"text-align: right;\">\n",
              "      <th></th>\n",
              "      <th>X</th>\n",
              "      <th>Y</th>\n",
              "      <th>month</th>\n",
              "      <th>day</th>\n",
              "      <th>FFMC</th>\n",
              "      <th>DMC</th>\n",
              "      <th>DC</th>\n",
              "      <th>ISI</th>\n",
              "      <th>temp</th>\n",
              "      <th>RH</th>\n",
              "      <th>wind</th>\n",
              "      <th>rain</th>\n",
              "      <th>area</th>\n",
              "    </tr>\n",
              "  </thead>\n",
              "  <tbody>\n",
              "    <tr>\n",
              "      <th>512</th>\n",
              "      <td>4</td>\n",
              "      <td>3</td>\n",
              "      <td>aug</td>\n",
              "      <td>sun</td>\n",
              "      <td>81.6</td>\n",
              "      <td>56.7</td>\n",
              "      <td>665.6</td>\n",
              "      <td>1.9</td>\n",
              "      <td>27.8</td>\n",
              "      <td>32</td>\n",
              "      <td>2.7</td>\n",
              "      <td>0.0</td>\n",
              "      <td>6.44</td>\n",
              "    </tr>\n",
              "    <tr>\n",
              "      <th>513</th>\n",
              "      <td>2</td>\n",
              "      <td>4</td>\n",
              "      <td>aug</td>\n",
              "      <td>sun</td>\n",
              "      <td>81.6</td>\n",
              "      <td>56.7</td>\n",
              "      <td>665.6</td>\n",
              "      <td>1.9</td>\n",
              "      <td>21.9</td>\n",
              "      <td>71</td>\n",
              "      <td>5.8</td>\n",
              "      <td>0.0</td>\n",
              "      <td>54.29</td>\n",
              "    </tr>\n",
              "    <tr>\n",
              "      <th>514</th>\n",
              "      <td>7</td>\n",
              "      <td>4</td>\n",
              "      <td>aug</td>\n",
              "      <td>sun</td>\n",
              "      <td>81.6</td>\n",
              "      <td>56.7</td>\n",
              "      <td>665.6</td>\n",
              "      <td>1.9</td>\n",
              "      <td>21.2</td>\n",
              "      <td>70</td>\n",
              "      <td>6.7</td>\n",
              "      <td>0.0</td>\n",
              "      <td>11.16</td>\n",
              "    </tr>\n",
              "    <tr>\n",
              "      <th>515</th>\n",
              "      <td>1</td>\n",
              "      <td>4</td>\n",
              "      <td>aug</td>\n",
              "      <td>sat</td>\n",
              "      <td>94.4</td>\n",
              "      <td>146.0</td>\n",
              "      <td>614.7</td>\n",
              "      <td>11.3</td>\n",
              "      <td>25.6</td>\n",
              "      <td>42</td>\n",
              "      <td>4.0</td>\n",
              "      <td>0.0</td>\n",
              "      <td>0.00</td>\n",
              "    </tr>\n",
              "    <tr>\n",
              "      <th>516</th>\n",
              "      <td>6</td>\n",
              "      <td>3</td>\n",
              "      <td>nov</td>\n",
              "      <td>tue</td>\n",
              "      <td>79.5</td>\n",
              "      <td>3.0</td>\n",
              "      <td>106.7</td>\n",
              "      <td>1.1</td>\n",
              "      <td>11.8</td>\n",
              "      <td>31</td>\n",
              "      <td>4.5</td>\n",
              "      <td>0.0</td>\n",
              "      <td>0.00</td>\n",
              "    </tr>\n",
              "  </tbody>\n",
              "</table>\n",
              "</div>"
            ],
            "text/plain": [
              "     X  Y month  day  FFMC    DMC     DC   ISI  temp  RH  wind  rain   area\n",
              "512  4  3   aug  sun  81.6   56.7  665.6   1.9  27.8  32   2.7   0.0   6.44\n",
              "513  2  4   aug  sun  81.6   56.7  665.6   1.9  21.9  71   5.8   0.0  54.29\n",
              "514  7  4   aug  sun  81.6   56.7  665.6   1.9  21.2  70   6.7   0.0  11.16\n",
              "515  1  4   aug  sat  94.4  146.0  614.7  11.3  25.6  42   4.0   0.0   0.00\n",
              "516  6  3   nov  tue  79.5    3.0  106.7   1.1  11.8  31   4.5   0.0   0.00"
            ]
          },
          "metadata": {
            "tags": []
          },
          "execution_count": 67
        }
      ]
    },
    {
      "cell_type": "code",
      "metadata": {
        "id": "g3nQcSurtgVh",
        "colab_type": "code",
        "colab": {
          "base_uri": "https://localhost:8080/",
          "height": 34
        },
        "outputId": "7fa6499b-e8ac-4eac-bab0-46587eb35ed1"
      },
      "source": [
        "# Forest fire set appears to have the proper count of columns and rows\n",
        "# as checked against the UCI attribute information.\n",
        "df_ff.shape"
      ],
      "execution_count": 68,
      "outputs": [
        {
          "output_type": "execute_result",
          "data": {
            "text/plain": [
              "(517, 13)"
            ]
          },
          "metadata": {
            "tags": []
          },
          "execution_count": 68
        }
      ]
    },
    {
      "cell_type": "code",
      "metadata": {
        "id": "LPc07KiQv2rb",
        "colab_type": "code",
        "colab": {
          "base_uri": "https://localhost:8080/",
          "height": 419
        },
        "outputId": "e0147510-0d3a-4a57-b12e-7b4d5ad1a588"
      },
      "source": [
        "# This Forest fire set is not obviously riddled with missing data. As before it \n",
        "# appears both the head & the tail are well formed.\n",
        "df_ff.isnull()"
      ],
      "execution_count": 69,
      "outputs": [
        {
          "output_type": "execute_result",
          "data": {
            "text/html": [
              "<div>\n",
              "<style scoped>\n",
              "    .dataframe tbody tr th:only-of-type {\n",
              "        vertical-align: middle;\n",
              "    }\n",
              "\n",
              "    .dataframe tbody tr th {\n",
              "        vertical-align: top;\n",
              "    }\n",
              "\n",
              "    .dataframe thead th {\n",
              "        text-align: right;\n",
              "    }\n",
              "</style>\n",
              "<table border=\"1\" class=\"dataframe\">\n",
              "  <thead>\n",
              "    <tr style=\"text-align: right;\">\n",
              "      <th></th>\n",
              "      <th>X</th>\n",
              "      <th>Y</th>\n",
              "      <th>month</th>\n",
              "      <th>day</th>\n",
              "      <th>FFMC</th>\n",
              "      <th>DMC</th>\n",
              "      <th>DC</th>\n",
              "      <th>ISI</th>\n",
              "      <th>temp</th>\n",
              "      <th>RH</th>\n",
              "      <th>wind</th>\n",
              "      <th>rain</th>\n",
              "      <th>area</th>\n",
              "    </tr>\n",
              "  </thead>\n",
              "  <tbody>\n",
              "    <tr>\n",
              "      <th>0</th>\n",
              "      <td>False</td>\n",
              "      <td>False</td>\n",
              "      <td>False</td>\n",
              "      <td>False</td>\n",
              "      <td>False</td>\n",
              "      <td>False</td>\n",
              "      <td>False</td>\n",
              "      <td>False</td>\n",
              "      <td>False</td>\n",
              "      <td>False</td>\n",
              "      <td>False</td>\n",
              "      <td>False</td>\n",
              "      <td>False</td>\n",
              "    </tr>\n",
              "    <tr>\n",
              "      <th>1</th>\n",
              "      <td>False</td>\n",
              "      <td>False</td>\n",
              "      <td>False</td>\n",
              "      <td>False</td>\n",
              "      <td>False</td>\n",
              "      <td>False</td>\n",
              "      <td>False</td>\n",
              "      <td>False</td>\n",
              "      <td>False</td>\n",
              "      <td>False</td>\n",
              "      <td>False</td>\n",
              "      <td>False</td>\n",
              "      <td>False</td>\n",
              "    </tr>\n",
              "    <tr>\n",
              "      <th>2</th>\n",
              "      <td>False</td>\n",
              "      <td>False</td>\n",
              "      <td>False</td>\n",
              "      <td>False</td>\n",
              "      <td>False</td>\n",
              "      <td>False</td>\n",
              "      <td>False</td>\n",
              "      <td>False</td>\n",
              "      <td>False</td>\n",
              "      <td>False</td>\n",
              "      <td>False</td>\n",
              "      <td>False</td>\n",
              "      <td>False</td>\n",
              "    </tr>\n",
              "    <tr>\n",
              "      <th>3</th>\n",
              "      <td>False</td>\n",
              "      <td>False</td>\n",
              "      <td>False</td>\n",
              "      <td>False</td>\n",
              "      <td>False</td>\n",
              "      <td>False</td>\n",
              "      <td>False</td>\n",
              "      <td>False</td>\n",
              "      <td>False</td>\n",
              "      <td>False</td>\n",
              "      <td>False</td>\n",
              "      <td>False</td>\n",
              "      <td>False</td>\n",
              "    </tr>\n",
              "    <tr>\n",
              "      <th>4</th>\n",
              "      <td>False</td>\n",
              "      <td>False</td>\n",
              "      <td>False</td>\n",
              "      <td>False</td>\n",
              "      <td>False</td>\n",
              "      <td>False</td>\n",
              "      <td>False</td>\n",
              "      <td>False</td>\n",
              "      <td>False</td>\n",
              "      <td>False</td>\n",
              "      <td>False</td>\n",
              "      <td>False</td>\n",
              "      <td>False</td>\n",
              "    </tr>\n",
              "    <tr>\n",
              "      <th>...</th>\n",
              "      <td>...</td>\n",
              "      <td>...</td>\n",
              "      <td>...</td>\n",
              "      <td>...</td>\n",
              "      <td>...</td>\n",
              "      <td>...</td>\n",
              "      <td>...</td>\n",
              "      <td>...</td>\n",
              "      <td>...</td>\n",
              "      <td>...</td>\n",
              "      <td>...</td>\n",
              "      <td>...</td>\n",
              "      <td>...</td>\n",
              "    </tr>\n",
              "    <tr>\n",
              "      <th>512</th>\n",
              "      <td>False</td>\n",
              "      <td>False</td>\n",
              "      <td>False</td>\n",
              "      <td>False</td>\n",
              "      <td>False</td>\n",
              "      <td>False</td>\n",
              "      <td>False</td>\n",
              "      <td>False</td>\n",
              "      <td>False</td>\n",
              "      <td>False</td>\n",
              "      <td>False</td>\n",
              "      <td>False</td>\n",
              "      <td>False</td>\n",
              "    </tr>\n",
              "    <tr>\n",
              "      <th>513</th>\n",
              "      <td>False</td>\n",
              "      <td>False</td>\n",
              "      <td>False</td>\n",
              "      <td>False</td>\n",
              "      <td>False</td>\n",
              "      <td>False</td>\n",
              "      <td>False</td>\n",
              "      <td>False</td>\n",
              "      <td>False</td>\n",
              "      <td>False</td>\n",
              "      <td>False</td>\n",
              "      <td>False</td>\n",
              "      <td>False</td>\n",
              "    </tr>\n",
              "    <tr>\n",
              "      <th>514</th>\n",
              "      <td>False</td>\n",
              "      <td>False</td>\n",
              "      <td>False</td>\n",
              "      <td>False</td>\n",
              "      <td>False</td>\n",
              "      <td>False</td>\n",
              "      <td>False</td>\n",
              "      <td>False</td>\n",
              "      <td>False</td>\n",
              "      <td>False</td>\n",
              "      <td>False</td>\n",
              "      <td>False</td>\n",
              "      <td>False</td>\n",
              "    </tr>\n",
              "    <tr>\n",
              "      <th>515</th>\n",
              "      <td>False</td>\n",
              "      <td>False</td>\n",
              "      <td>False</td>\n",
              "      <td>False</td>\n",
              "      <td>False</td>\n",
              "      <td>False</td>\n",
              "      <td>False</td>\n",
              "      <td>False</td>\n",
              "      <td>False</td>\n",
              "      <td>False</td>\n",
              "      <td>False</td>\n",
              "      <td>False</td>\n",
              "      <td>False</td>\n",
              "    </tr>\n",
              "    <tr>\n",
              "      <th>516</th>\n",
              "      <td>False</td>\n",
              "      <td>False</td>\n",
              "      <td>False</td>\n",
              "      <td>False</td>\n",
              "      <td>False</td>\n",
              "      <td>False</td>\n",
              "      <td>False</td>\n",
              "      <td>False</td>\n",
              "      <td>False</td>\n",
              "      <td>False</td>\n",
              "      <td>False</td>\n",
              "      <td>False</td>\n",
              "      <td>False</td>\n",
              "    </tr>\n",
              "  </tbody>\n",
              "</table>\n",
              "<p>517 rows × 13 columns</p>\n",
              "</div>"
            ],
            "text/plain": [
              "         X      Y  month    day   FFMC  ...   temp     RH   wind   rain   area\n",
              "0    False  False  False  False  False  ...  False  False  False  False  False\n",
              "1    False  False  False  False  False  ...  False  False  False  False  False\n",
              "2    False  False  False  False  False  ...  False  False  False  False  False\n",
              "3    False  False  False  False  False  ...  False  False  False  False  False\n",
              "4    False  False  False  False  False  ...  False  False  False  False  False\n",
              "..     ...    ...    ...    ...    ...  ...    ...    ...    ...    ...    ...\n",
              "512  False  False  False  False  False  ...  False  False  False  False  False\n",
              "513  False  False  False  False  False  ...  False  False  False  False  False\n",
              "514  False  False  False  False  False  ...  False  False  False  False  False\n",
              "515  False  False  False  False  False  ...  False  False  False  False  False\n",
              "516  False  False  False  False  False  ...  False  False  False  False  False\n",
              "\n",
              "[517 rows x 13 columns]"
            ]
          },
          "metadata": {
            "tags": []
          },
          "execution_count": 69
        }
      ]
    },
    {
      "cell_type": "code",
      "metadata": {
        "id": "392m5_B1wYny",
        "colab_type": "code",
        "colab": {
          "base_uri": "https://localhost:8080/",
          "height": 255
        },
        "outputId": "91b13bff-8990-489d-941a-d84d66ce8e1f"
      },
      "source": [
        "# Chained sum to the original isnull function on the Forest fire set and find \n",
        "# that there is no missing data.\n",
        "df_ff.isnull().sum()"
      ],
      "execution_count": 70,
      "outputs": [
        {
          "output_type": "execute_result",
          "data": {
            "text/plain": [
              "X        0\n",
              "Y        0\n",
              "month    0\n",
              "day      0\n",
              "FFMC     0\n",
              "DMC      0\n",
              "DC       0\n",
              "ISI      0\n",
              "temp     0\n",
              "RH       0\n",
              "wind     0\n",
              "rain     0\n",
              "area     0\n",
              "dtype: int64"
            ]
          },
          "metadata": {
            "tags": []
          },
          "execution_count": 70
        }
      ]
    },
    {
      "cell_type": "code",
      "metadata": {
        "id": "I9oksedpnkKl",
        "colab_type": "code",
        "colab": {
          "base_uri": "https://localhost:8080/",
          "height": 317
        },
        "outputId": "a709ec59-95bf-41bd-a3fe-97d4cdba0072"
      },
      "source": [
        "df_ff.describe()"
      ],
      "execution_count": 71,
      "outputs": [
        {
          "output_type": "execute_result",
          "data": {
            "text/html": [
              "<div>\n",
              "<style scoped>\n",
              "    .dataframe tbody tr th:only-of-type {\n",
              "        vertical-align: middle;\n",
              "    }\n",
              "\n",
              "    .dataframe tbody tr th {\n",
              "        vertical-align: top;\n",
              "    }\n",
              "\n",
              "    .dataframe thead th {\n",
              "        text-align: right;\n",
              "    }\n",
              "</style>\n",
              "<table border=\"1\" class=\"dataframe\">\n",
              "  <thead>\n",
              "    <tr style=\"text-align: right;\">\n",
              "      <th></th>\n",
              "      <th>X</th>\n",
              "      <th>Y</th>\n",
              "      <th>FFMC</th>\n",
              "      <th>DMC</th>\n",
              "      <th>DC</th>\n",
              "      <th>ISI</th>\n",
              "      <th>temp</th>\n",
              "      <th>RH</th>\n",
              "      <th>wind</th>\n",
              "      <th>rain</th>\n",
              "      <th>area</th>\n",
              "    </tr>\n",
              "  </thead>\n",
              "  <tbody>\n",
              "    <tr>\n",
              "      <th>count</th>\n",
              "      <td>517.000000</td>\n",
              "      <td>517.000000</td>\n",
              "      <td>517.000000</td>\n",
              "      <td>517.000000</td>\n",
              "      <td>517.000000</td>\n",
              "      <td>517.000000</td>\n",
              "      <td>517.000000</td>\n",
              "      <td>517.000000</td>\n",
              "      <td>517.000000</td>\n",
              "      <td>517.000000</td>\n",
              "      <td>517.000000</td>\n",
              "    </tr>\n",
              "    <tr>\n",
              "      <th>mean</th>\n",
              "      <td>4.669246</td>\n",
              "      <td>4.299807</td>\n",
              "      <td>90.644681</td>\n",
              "      <td>110.872340</td>\n",
              "      <td>547.940039</td>\n",
              "      <td>9.021663</td>\n",
              "      <td>18.889168</td>\n",
              "      <td>44.288201</td>\n",
              "      <td>4.017602</td>\n",
              "      <td>0.021663</td>\n",
              "      <td>12.847292</td>\n",
              "    </tr>\n",
              "    <tr>\n",
              "      <th>std</th>\n",
              "      <td>2.313778</td>\n",
              "      <td>1.229900</td>\n",
              "      <td>5.520111</td>\n",
              "      <td>64.046482</td>\n",
              "      <td>248.066192</td>\n",
              "      <td>4.559477</td>\n",
              "      <td>5.806625</td>\n",
              "      <td>16.317469</td>\n",
              "      <td>1.791653</td>\n",
              "      <td>0.295959</td>\n",
              "      <td>63.655818</td>\n",
              "    </tr>\n",
              "    <tr>\n",
              "      <th>min</th>\n",
              "      <td>1.000000</td>\n",
              "      <td>2.000000</td>\n",
              "      <td>18.700000</td>\n",
              "      <td>1.100000</td>\n",
              "      <td>7.900000</td>\n",
              "      <td>0.000000</td>\n",
              "      <td>2.200000</td>\n",
              "      <td>15.000000</td>\n",
              "      <td>0.400000</td>\n",
              "      <td>0.000000</td>\n",
              "      <td>0.000000</td>\n",
              "    </tr>\n",
              "    <tr>\n",
              "      <th>25%</th>\n",
              "      <td>3.000000</td>\n",
              "      <td>4.000000</td>\n",
              "      <td>90.200000</td>\n",
              "      <td>68.600000</td>\n",
              "      <td>437.700000</td>\n",
              "      <td>6.500000</td>\n",
              "      <td>15.500000</td>\n",
              "      <td>33.000000</td>\n",
              "      <td>2.700000</td>\n",
              "      <td>0.000000</td>\n",
              "      <td>0.000000</td>\n",
              "    </tr>\n",
              "    <tr>\n",
              "      <th>50%</th>\n",
              "      <td>4.000000</td>\n",
              "      <td>4.000000</td>\n",
              "      <td>91.600000</td>\n",
              "      <td>108.300000</td>\n",
              "      <td>664.200000</td>\n",
              "      <td>8.400000</td>\n",
              "      <td>19.300000</td>\n",
              "      <td>42.000000</td>\n",
              "      <td>4.000000</td>\n",
              "      <td>0.000000</td>\n",
              "      <td>0.520000</td>\n",
              "    </tr>\n",
              "    <tr>\n",
              "      <th>75%</th>\n",
              "      <td>7.000000</td>\n",
              "      <td>5.000000</td>\n",
              "      <td>92.900000</td>\n",
              "      <td>142.400000</td>\n",
              "      <td>713.900000</td>\n",
              "      <td>10.800000</td>\n",
              "      <td>22.800000</td>\n",
              "      <td>53.000000</td>\n",
              "      <td>4.900000</td>\n",
              "      <td>0.000000</td>\n",
              "      <td>6.570000</td>\n",
              "    </tr>\n",
              "    <tr>\n",
              "      <th>max</th>\n",
              "      <td>9.000000</td>\n",
              "      <td>9.000000</td>\n",
              "      <td>96.200000</td>\n",
              "      <td>291.300000</td>\n",
              "      <td>860.600000</td>\n",
              "      <td>56.100000</td>\n",
              "      <td>33.300000</td>\n",
              "      <td>100.000000</td>\n",
              "      <td>9.400000</td>\n",
              "      <td>6.400000</td>\n",
              "      <td>1090.840000</td>\n",
              "    </tr>\n",
              "  </tbody>\n",
              "</table>\n",
              "</div>"
            ],
            "text/plain": [
              "                X           Y        FFMC  ...        wind        rain         area\n",
              "count  517.000000  517.000000  517.000000  ...  517.000000  517.000000   517.000000\n",
              "mean     4.669246    4.299807   90.644681  ...    4.017602    0.021663    12.847292\n",
              "std      2.313778    1.229900    5.520111  ...    1.791653    0.295959    63.655818\n",
              "min      1.000000    2.000000   18.700000  ...    0.400000    0.000000     0.000000\n",
              "25%      3.000000    4.000000   90.200000  ...    2.700000    0.000000     0.000000\n",
              "50%      4.000000    4.000000   91.600000  ...    4.000000    0.000000     0.520000\n",
              "75%      7.000000    5.000000   92.900000  ...    4.900000    0.000000     6.570000\n",
              "max      9.000000    9.000000   96.200000  ...    9.400000    6.400000  1090.840000\n",
              "\n",
              "[8 rows x 11 columns]"
            ]
          },
          "metadata": {
            "tags": []
          },
          "execution_count": 71
        }
      ]
    },
    {
      "cell_type": "code",
      "metadata": {
        "id": "FzBAyTml95QY",
        "colab_type": "code",
        "colab": {
          "base_uri": "https://localhost:8080/",
          "height": 173
        },
        "outputId": "b0fcfab4-282e-4e39-8a1b-780456e9163c"
      },
      "source": [
        "# Includes dataframe description for 'month' & 'day' columns which is are \n",
        "# objects and missing from the above description call.\n",
        "df_ff.describe(include=object)"
      ],
      "execution_count": 72,
      "outputs": [
        {
          "output_type": "execute_result",
          "data": {
            "text/html": [
              "<div>\n",
              "<style scoped>\n",
              "    .dataframe tbody tr th:only-of-type {\n",
              "        vertical-align: middle;\n",
              "    }\n",
              "\n",
              "    .dataframe tbody tr th {\n",
              "        vertical-align: top;\n",
              "    }\n",
              "\n",
              "    .dataframe thead th {\n",
              "        text-align: right;\n",
              "    }\n",
              "</style>\n",
              "<table border=\"1\" class=\"dataframe\">\n",
              "  <thead>\n",
              "    <tr style=\"text-align: right;\">\n",
              "      <th></th>\n",
              "      <th>month</th>\n",
              "      <th>day</th>\n",
              "    </tr>\n",
              "  </thead>\n",
              "  <tbody>\n",
              "    <tr>\n",
              "      <th>count</th>\n",
              "      <td>517</td>\n",
              "      <td>517</td>\n",
              "    </tr>\n",
              "    <tr>\n",
              "      <th>unique</th>\n",
              "      <td>12</td>\n",
              "      <td>7</td>\n",
              "    </tr>\n",
              "    <tr>\n",
              "      <th>top</th>\n",
              "      <td>aug</td>\n",
              "      <td>sun</td>\n",
              "    </tr>\n",
              "    <tr>\n",
              "      <th>freq</th>\n",
              "      <td>184</td>\n",
              "      <td>95</td>\n",
              "    </tr>\n",
              "  </tbody>\n",
              "</table>\n",
              "</div>"
            ],
            "text/plain": [
              "       month  day\n",
              "count    517  517\n",
              "unique    12    7\n",
              "top      aug  sun\n",
              "freq     184   95"
            ]
          },
          "metadata": {
            "tags": []
          },
          "execution_count": 72
        }
      ]
    },
    {
      "cell_type": "markdown",
      "metadata": {
        "id": "-gFnZR6iLLPY",
        "colab_type": "text"
      },
      "source": [
        "## 2) Load a dataset from your local machine.\n",
        "Choose a second dataset from the \"Popular Datasets\" listing on UCI, but this time download it to your local machine instead of reading it in via the URL. Upload the file to Google Colab using the files tab in the left-hand sidebar or by importing `files` from `google.colab` The following link will be a useful resource if you can't remember the syntax: <https://towardsdatascience.com/3-ways-to-load-csv-files-into-colab-7c14fcbdcb92>\n",
        "\n",
        "- Answer all of the same bullet point questions from part 1 again on this new dataset. \n"
      ]
    },
    {
      "cell_type": "code",
      "metadata": {
        "id": "qUmwX-ZoM9cq",
        "colab_type": "code",
        "colab": {}
      },
      "source": [
        "# TODO your work here!\n",
        "# And note you should write comments, descriptions, and add new\n",
        "# code and text blocks as needed\n",
        "# \n",
        "# I downloaded the Abalone data set to my desktop and will import it directly \n",
        "# into this colab."
      ],
      "execution_count": 0,
      "outputs": []
    },
    {
      "cell_type": "code",
      "metadata": {
        "id": "mmP0G4Kr3kpH",
        "colab_type": "code",
        "colab": {
          "resources": {
            "http://localhost:8080/nbextensions/google.colab/files.js": {
              "data": "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",
              "ok": true,
              "headers": [
                [
                  "content-type",
                  "application/javascript"
                ]
              ],
              "status": 200,
              "status_text": ""
            }
          },
          "base_uri": "https://localhost:8080/",
          "height": 108
        },
        "outputId": "b3a38c74-09ba-48f7-f06c-6d102ae6c122"
      },
      "source": [
        "from google.colab import files\n",
        "files.upload()"
      ],
      "execution_count": 44,
      "outputs": [
        {
          "output_type": "display_data",
          "data": {
            "text/html": [
              "\n",
              "     <input type=\"file\" id=\"files-92a63705-d42d-4638-9ef7-c02004dee921\" name=\"files[]\" multiple disabled />\n",
              "     <output id=\"result-92a63705-d42d-4638-9ef7-c02004dee921\">\n",
              "      Upload widget is only available when the cell has been executed in the\n",
              "      current browser session. Please rerun this cell to enable.\n",
              "      </output>\n",
              "      <script src=\"/nbextensions/google.colab/files.js\"></script> "
            ],
            "text/plain": [
              "<IPython.core.display.HTML object>"
            ]
          },
          "metadata": {
            "tags": []
          }
        },
        {
          "output_type": "stream",
          "text": [
            "Saving abalone.data to abalone.data\n"
          ],
          "name": "stdout"
        },
        {
          "output_type": "execute_result",
          "data": {
            "text/plain": [
              "{'abalone.data': b'M,0.455,0.365,0.095,0.514,0.2245,0.101,0.15,15\\nM,0.35,0.265,0.09,0.2255,0.0995,0.0485,0.07,7\\nF,0.53,0.42,0.135,0.677,0.2565,0.1415,0.21,9\\nM,0.44,0.365,0.125,0.516,0.2155,0.114,0.155,10\\nI,0.33,0.255,0.08,0.205,0.0895,0.0395,0.055,7\\nI,0.425,0.3,0.095,0.3515,0.141,0.0775,0.12,8\\nF,0.53,0.415,0.15,0.7775,0.237,0.1415,0.33,20\\nF,0.545,0.425,0.125,0.768,0.294,0.1495,0.26,16\\nM,0.475,0.37,0.125,0.5095,0.2165,0.1125,0.165,9\\nF,0.55,0.44,0.15,0.8945,0.3145,0.151,0.32,19\\nF,0.525,0.38,0.14,0.6065,0.194,0.1475,0.21,14\\nM,0.43,0.35,0.11,0.406,0.1675,0.081,0.135,10\\nM,0.49,0.38,0.135,0.5415,0.2175,0.095,0.19,11\\nF,0.535,0.405,0.145,0.6845,0.2725,0.171,0.205,10\\nF,0.47,0.355,0.1,0.4755,0.1675,0.0805,0.185,10\\nM,0.5,0.4,0.13,0.6645,0.258,0.133,0.24,12\\nI,0.355,0.28,0.085,0.2905,0.095,0.0395,0.115,7\\nF,0.44,0.34,0.1,0.451,0.188,0.087,0.13,10\\nM,0.365,0.295,0.08,0.2555,0.097,0.043,0.1,7\\nM,0.45,0.32,0.1,0.381,0.1705,0.075,0.115,9\\nM,0.355,0.28,0.095,0.2455,0.0955,0.062,0.075,11\\nI,0.38,0.275,0.1,0.2255,0.08,0.049,0.085,10\\nF,0.565,0.44,0.155,0.9395,0.4275,0.214,0.27,12\\nF,0.55,0.415,0.135,0.7635,0.318,0.21,0.2,9\\nF,0.615,0.48,0.165,1.1615,0.513,0.301,0.305,10\\nF,0.56,0.44,0.14,0.9285,0.3825,0.188,0.3,11\\nF,0.58,0.45,0.185,0.9955,0.3945,0.272,0.285,11\\nM,0.59,0.445,0.14,0.931,0.356,0.234,0.28,12\\nM,0.605,0.475,0.18,0.9365,0.394,0.219,0.295,15\\nM,0.575,0.425,0.14,0.8635,0.393,0.227,0.2,11\\nM,0.58,0.47,0.165,0.9975,0.3935,0.242,0.33,10\\nF,0.68,0.56,0.165,1.639,0.6055,0.2805,0.46,15\\nM,0.665,0.525,0.165,1.338,0.5515,0.3575,0.35,18\\nF,0.68,0.55,0.175,1.798,0.815,0.3925,0.455,19\\nF,0.705,0.55,0.2,1.7095,0.633,0.4115,0.49,13\\nM,0.465,0.355,0.105,0.4795,0.227,0.124,0.125,8\\nF,0.54,0.475,0.155,1.217,0.5305,0.3075,0.34,16\\nF,0.45,0.355,0.105,0.5225,0.237,0.1165,0.145,8\\nF,0.575,0.445,0.135,0.883,0.381,0.2035,0.26,11\\nM,0.355,0.29,0.09,0.3275,0.134,0.086,0.09,9\\nF,0.45,0.335,0.105,0.425,0.1865,0.091,0.115,9\\nF,0.55,0.425,0.135,0.8515,0.362,0.196,0.27,14\\nI,0.24,0.175,0.045,0.07,0.0315,0.0235,0.02,5\\nI,0.205,0.15,0.055,0.042,0.0255,0.015,0.012,5\\nI,0.21,0.15,0.05,0.042,0.0175,0.0125,0.015,4\\nI,0.39,0.295,0.095,0.203,0.0875,0.045,0.075,7\\nM,0.47,0.37,0.12,0.5795,0.293,0.227,0.14,9\\nF,0.46,0.375,0.12,0.4605,0.1775,0.11,0.15,7\\nI,0.325,0.245,0.07,0.161,0.0755,0.0255,0.045,6\\nF,0.525,0.425,0.16,0.8355,0.3545,0.2135,0.245,9\\nI,0.52,0.41,0.12,0.595,0.2385,0.111,0.19,8\\nM,0.4,0.32,0.095,0.303,0.1335,0.06,0.1,7\\nM,0.485,0.36,0.13,0.5415,0.2595,0.096,0.16,10\\nF,0.47,0.36,0.12,0.4775,0.2105,0.1055,0.15,10\\nM,0.405,0.31,0.1,0.385,0.173,0.0915,0.11,7\\nF,0.5,0.4,0.14,0.6615,0.2565,0.1755,0.22,8\\nM,0.445,0.35,0.12,0.4425,0.192,0.0955,0.135,8\\nM,0.47,0.385,0.135,0.5895,0.2765,0.12,0.17,8\\nI,0.245,0.19,0.06,0.086,0.042,0.014,0.025,4\\nF,0.505,0.4,0.125,0.583,0.246,0.13,0.175,7\\nM,0.45,0.345,0.105,0.4115,0.18,0.1125,0.135,7\\nM,0.505,0.405,0.11,0.625,0.305,0.16,0.175,9\\nF,0.53,0.41,0.13,0.6965,0.302,0.1935,0.2,10\\nM,0.425,0.325,0.095,0.3785,0.1705,0.08,0.1,7\\nM,0.52,0.4,0.12,0.58,0.234,0.1315,0.185,8\\nM,0.475,0.355,0.12,0.48,0.234,0.1015,0.135,8\\nF,0.565,0.44,0.16,0.915,0.354,0.1935,0.32,12\\nF,0.595,0.495,0.185,1.285,0.416,0.224,0.485,13\\nF,0.475,0.39,0.12,0.5305,0.2135,0.1155,0.17,10\\nI,0.31,0.235,0.07,0.151,0.063,0.0405,0.045,6\\nM,0.555,0.425,0.13,0.7665,0.264,0.168,0.275,13\\nF,0.4,0.32,0.11,0.353,0.1405,0.0985,0.1,8\\nF,0.595,0.475,0.17,1.247,0.48,0.225,0.425,20\\nM,0.57,0.48,0.175,1.185,0.474,0.261,0.38,11\\nF,0.605,0.45,0.195,1.098,0.481,0.2895,0.315,13\\nF,0.6,0.475,0.15,1.0075,0.4425,0.221,0.28,15\\nM,0.595,0.475,0.14,0.944,0.3625,0.189,0.315,9\\nF,0.6,0.47,0.15,0.922,0.363,0.194,0.305,10\\nF,0.555,0.425,0.14,0.788,0.282,0.1595,0.285,11\\nF,0.615,0.475,0.17,1.1025,0.4695,0.2355,0.345,14\\nF,0.575,0.445,0.14,0.941,0.3845,0.252,0.285,9\\nM,0.62,0.51,0.175,1.615,0.5105,0.192,0.675,12\\nF,0.52,0.425,0.165,0.9885,0.396,0.225,0.32,16\\nM,0.595,0.475,0.16,1.3175,0.408,0.234,0.58,21\\nM,0.58,0.45,0.14,1.013,0.38,0.216,0.36,14\\nF,0.57,0.465,0.18,1.295,0.339,0.2225,0.44,12\\nM,0.625,0.465,0.14,1.195,0.4825,0.205,0.4,13\\nM,0.56,0.44,0.16,0.8645,0.3305,0.2075,0.26,10\\nF,0.46,0.355,0.13,0.517,0.2205,0.114,0.165,9\\nF,0.575,0.45,0.16,0.9775,0.3135,0.231,0.33,12\\nM,0.565,0.425,0.135,0.8115,0.341,0.1675,0.255,15\\nM,0.555,0.44,0.15,0.755,0.307,0.1525,0.26,12\\nM,0.595,0.465,0.175,1.115,0.4015,0.254,0.39,13\\nF,0.625,0.495,0.165,1.262,0.507,0.318,0.39,10\\nM,0.695,0.56,0.19,1.494,0.588,0.3425,0.485,15\\nM,0.665,0.535,0.195,1.606,0.5755,0.388,0.48,14\\nM,0.535,0.435,0.15,0.725,0.269,0.1385,0.25,9\\nM,0.47,0.375,0.13,0.523,0.214,0.132,0.145,8\\nM,0.47,0.37,0.13,0.5225,0.201,0.133,0.165,7\\nF,0.475,0.375,0.125,0.5785,0.2775,0.085,0.155,10\\nI,0.36,0.265,0.095,0.2315,0.105,0.046,0.075,7\\nM,0.55,0.435,0.145,0.843,0.328,0.1915,0.255,15\\nM,0.53,0.435,0.16,0.883,0.316,0.164,0.335,15\\nM,0.53,0.415,0.14,0.724,0.3105,0.1675,0.205,10\\nM,0.605,0.47,0.16,1.1735,0.4975,0.2405,0.345,12\\nF,0.52,0.41,0.155,0.727,0.291,0.1835,0.235,12\\nF,0.545,0.43,0.165,0.802,0.2935,0.183,0.28,11\\nF,0.5,0.4,0.125,0.6675,0.261,0.1315,0.22,10\\nF,0.51,0.39,0.135,0.6335,0.231,0.179,0.2,9\\nF,0.435,0.395,0.105,0.3635,0.136,0.098,0.13,9\\nM,0.495,0.395,0.125,0.5415,0.2375,0.1345,0.155,9\\nM,0.465,0.36,0.105,0.431,0.172,0.107,0.175,9\\nI,0.435,0.32,0.08,0.3325,0.1485,0.0635,0.105,9\\nM,0.425,0.35,0.105,0.393,0.13,0.063,0.165,9\\nF,0.545,0.41,0.125,0.6935,0.2975,0.146,0.21,11\\nF,0.53,0.415,0.115,0.5915,0.233,0.1585,0.18,11\\nF,0.49,0.375,0.135,0.6125,0.2555,0.102,0.22,11\\nM,0.44,0.34,0.105,0.402,0.1305,0.0955,0.165,10\\nF,0.56,0.43,0.15,0.8825,0.3465,0.172,0.31,9\\nM,0.405,0.305,0.085,0.2605,0.1145,0.0595,0.085,8\\nF,0.47,0.365,0.105,0.4205,0.163,0.1035,0.14,9\\nI,0.385,0.295,0.085,0.2535,0.103,0.0575,0.085,7\\nF,0.515,0.425,0.14,0.766,0.304,0.1725,0.255,14\\nM,0.37,0.265,0.075,0.214,0.09,0.051,0.07,6\\nI,0.36,0.28,0.08,0.1755,0.081,0.0505,0.07,6\\nI,0.27,0.195,0.06,0.073,0.0285,0.0235,0.03,5\\nI,0.375,0.275,0.09,0.238,0.1075,0.0545,0.07,6\\nI,0.385,0.29,0.085,0.2505,0.112,0.061,0.08,8\\nM,0.7,0.535,0.16,1.7255,0.63,0.2635,0.54,19\\nM,0.71,0.54,0.165,1.959,0.7665,0.261,0.78,18\\nM,0.595,0.48,0.165,1.262,0.4835,0.283,0.41,17\\nF,0.44,0.35,0.125,0.4035,0.175,0.063,0.129,9\\nF,0.325,0.26,0.09,0.1915,0.085,0.036,0.062,7\\nI,0.35,0.26,0.095,0.211,0.086,0.056,0.068,7\\nI,0.265,0.2,0.065,0.0975,0.04,0.0205,0.028,7\\nF,0.425,0.33,0.115,0.406,0.1635,0.081,0.1355,8\\nF,0.305,0.23,0.08,0.156,0.0675,0.0345,0.048,7\\nM,0.345,0.255,0.09,0.2005,0.094,0.0295,0.063,9\\nF,0.405,0.325,0.11,0.3555,0.151,0.063,0.117,9\\nM,0.375,0.285,0.095,0.253,0.096,0.0575,0.0925,9\\nF,0.565,0.445,0.155,0.826,0.341,0.2055,0.2475,10\\nF,0.55,0.45,0.145,0.741,0.295,0.1435,0.2665,10\\nM,0.65,0.52,0.19,1.3445,0.519,0.306,0.4465,16\\nM,0.56,0.455,0.155,0.797,0.34,0.19,0.2425,11\\nM,0.475,0.375,0.13,0.5175,0.2075,0.1165,0.17,10\\nF,0.49,0.38,0.125,0.549,0.245,0.1075,0.174,10\\nM,0.46,0.35,0.12,0.515,0.224,0.108,0.1565,10\\nI,0.28,0.205,0.08,0.127,0.052,0.039,0.042,9\\nI,0.175,0.13,0.055,0.0315,0.0105,0.0065,0.0125,5\\nI,0.17,0.13,0.095,0.03,0.013,0.008,0.01,4\\nM,0.59,0.475,0.145,1.053,0.4415,0.262,0.325,15\\nF,0.605,0.5,0.185,1.1185,0.469,0.2585,0.335,9\\nF,0.635,0.515,0.19,1.3715,0.5065,0.305,0.45,10\\nF,0.605,0.485,0.16,1.0565,0.37,0.2355,0.355,10\\nF,0.565,0.45,0.135,0.9885,0.387,0.1495,0.31,12\\nM,0.515,0.405,0.13,0.722,0.32,0.131,0.21,10\\nF,0.575,0.46,0.19,0.994,0.392,0.2425,0.34,13\\nM,0.645,0.485,0.215,1.514,0.546,0.2615,0.635,16\\nF,0.58,0.455,0.17,0.9075,0.374,0.2135,0.285,13\\nF,0.575,0.46,0.165,1.124,0.2985,0.1785,0.44,13\\nM,0.605,0.465,0.165,1.056,0.4215,0.2475,0.34,13\\nF,0.605,0.485,0.16,1.222,0.53,0.2575,0.28,13\\nM,0.61,0.485,0.175,1.2445,0.544,0.297,0.345,12\\nF,0.725,0.56,0.21,2.141,0.65,0.398,1.005,18\\nF,0.65,0.545,0.23,1.752,0.5605,0.2895,0.815,16\\nM,0.725,0.57,0.19,2.55,1.0705,0.483,0.725,14\\nF,0.725,0.575,0.175,2.124,0.765,0.4515,0.85,20\\nF,0.68,0.57,0.205,1.842,0.625,0.408,0.65,20\\nM,0.705,0.56,0.22,1.981,0.8175,0.3085,0.76,14\\nF,0.68,0.515,0.175,1.6185,0.5125,0.409,0.62,12\\nM,0.695,0.55,0.215,1.9565,0.7125,0.541,0.59,14\\nF,0.53,0.395,0.145,0.775,0.308,0.169,0.255,7\\nM,0.525,0.435,0.155,1.065,0.486,0.233,0.285,8\\nF,0.52,0.405,0.115,0.776,0.32,0.1845,0.22,8\\nI,0.235,0.16,0.04,0.048,0.0185,0.018,0.015,5\\nI,0.36,0.26,0.09,0.1785,0.0645,0.037,0.075,7\\nI,0.315,0.21,0.06,0.125,0.06,0.0375,0.035,5\\nI,0.315,0.245,0.085,0.1435,0.053,0.0475,0.05,8\\nI,0.225,0.16,0.045,0.0465,0.025,0.015,0.015,4\\nM,0.58,0.475,0.15,0.97,0.385,0.2165,0.35,11\\nM,0.57,0.48,0.18,0.9395,0.399,0.2,0.295,14\\nM,0.64,0.51,0.175,1.368,0.515,0.266,0.57,21\\nF,0.56,0.45,0.16,1.0235,0.429,0.268,0.3,10\\nF,0.62,0.475,0.175,1.0165,0.4355,0.214,0.325,10\\nF,0.645,0.51,0.2,1.5675,0.621,0.367,0.46,12\\nM,0.62,0.49,0.19,1.218,0.5455,0.2965,0.355,13\\nF,0.63,0.48,0.15,1.0525,0.392,0.336,0.285,12\\nF,0.63,0.5,0.185,1.383,0.54,0.3315,0.38,10\\nF,0.63,0.48,0.16,1.199,0.5265,0.335,0.315,11\\nF,0.585,0.46,0.17,0.9325,0.365,0.271,0.29,9\\nM,0.615,0.48,0.18,1.1595,0.4845,0.2165,0.325,13\\nM,0.61,0.485,0.17,1.0225,0.419,0.2405,0.36,12\\nM,0.58,0.45,0.15,0.927,0.276,0.1815,0.36,14\\nI,0.355,0.275,0.085,0.22,0.092,0.06,0.15,8\\nF,0.51,0.4,0.14,0.8145,0.459,0.1965,0.195,10\\nM,0.5,0.405,0.155,0.772,0.346,0.1535,0.245,12\\nF,0.505,0.41,0.15,0.644,0.285,0.145,0.21,11\\nM,0.64,0.5,0.185,1.3035,0.4445,0.2635,0.465,16\\nM,0.56,0.45,0.16,0.922,0.432,0.178,0.26,15\\nM,0.585,0.46,0.185,0.922,0.3635,0.213,0.285,10\\nF,0.45,0.345,0.12,0.4165,0.1655,0.095,0.135,9\\nM,0.5,0.4,0.165,0.825,0.254,0.205,0.285,13\\nF,0.5,0.4,0.145,0.63,0.234,0.1465,0.23,12\\nF,0.53,0.435,0.17,0.8155,0.2985,0.155,0.275,13\\nM,0.42,0.335,0.115,0.369,0.171,0.071,0.12,8\\nF,0.44,0.34,0.14,0.482,0.186,0.1085,0.16,9\\nI,0.4,0.3,0.11,0.315,0.109,0.067,0.12,9\\nI,0.435,0.34,0.11,0.3795,0.1495,0.085,0.12,8\\nF,0.525,0.415,0.17,0.8325,0.2755,0.1685,0.31,13\\nI,0.37,0.28,0.095,0.2655,0.122,0.052,0.08,7\\nF,0.49,0.365,0.145,0.6345,0.1995,0.1625,0.22,10\\nM,0.335,0.25,0.09,0.181,0.0755,0.0415,0.06,7\\nF,0.415,0.325,0.105,0.38,0.1595,0.0785,0.12,12\\nM,0.5,0.405,0.14,0.6155,0.241,0.1355,0.205,9\\nF,0.485,0.395,0.16,0.66,0.2475,0.128,0.235,14\\nM,0.55,0.405,0.14,0.8025,0.244,0.1635,0.255,10\\nM,0.45,0.35,0.13,0.46,0.174,0.111,0.135,8\\nI,0.405,0.3,0.12,0.324,0.1265,0.07,0.11,7\\nM,0.47,0.36,0.135,0.501,0.1665,0.115,0.165,10\\nF,0.415,0.305,0.13,0.32,0.1305,0.0755,0.105,8\\nF,0.445,0.325,0.125,0.455,0.1785,0.1125,0.14,9\\nF,0.47,0.35,0.145,0.5175,0.187,0.1235,0.18,11\\nF,0.49,0.375,0.15,0.5755,0.22,0.144,0.19,9\\nF,0.445,0.355,0.15,0.485,0.181,0.125,0.155,11\\nI,0.425,0.38,0.105,0.3265,0.1285,0.0785,0.1,10\\nF,0.5,0.37,0.135,0.45,0.1715,0.1055,0.155,9\\nF,0.39,0.29,0.125,0.3055,0.121,0.082,0.09,7\\nI,0.365,0.27,0.085,0.205,0.078,0.0485,0.07,7\\nF,0.58,0.465,0.165,1.1015,0.404,0.2095,0.35,11\\nF,0.53,0.415,0.16,0.783,0.2935,0.158,0.245,15\\nM,0.555,0.445,0.135,0.836,0.336,0.1625,0.275,13\\nM,0.565,0.44,0.175,0.9025,0.31,0.193,0.325,14\\nM,0.625,0.505,0.215,1.4455,0.496,0.287,0.435,22\\nI,0.275,0.215,0.075,0.1155,0.0485,0.029,0.035,7\\nI,0.44,0.35,0.135,0.435,0.1815,0.083,0.125,12\\nI,0.295,0.225,0.08,0.124,0.0485,0.032,0.04,9\\nI,0.075,0.055,0.01,0.002,0.001,0.0005,0.0015,1\\nI,0.13,0.1,0.03,0.013,0.0045,0.003,0.004,3\\nI,0.11,0.09,0.03,0.008,0.0025,0.002,0.003,3\\nI,0.16,0.12,0.035,0.021,0.0075,0.0045,0.005,5\\nM,0.565,0.425,0.16,0.9425,0.3495,0.2185,0.275,17\\nI,0.27,0.2,0.07,0.1,0.034,0.0245,0.035,5\\nI,0.23,0.175,0.065,0.0645,0.026,0.0105,0.02,5\\nI,0.3,0.23,0.08,0.1275,0.0435,0.0265,0.04,8\\nI,0.33,0.255,0.085,0.1655,0.063,0.039,0.06,8\\nI,0.35,0.26,0.085,0.174,0.0705,0.0345,0.06,10\\nI,0.32,0.245,0.08,0.1585,0.0635,0.0325,0.05,13\\nI,0.36,0.275,0.085,0.1975,0.0745,0.0415,0.07,9\\nI,0.305,0.245,0.075,0.156,0.0675,0.038,0.045,7\\nI,0.345,0.27,0.11,0.2135,0.082,0.0545,0.07,7\\nI,0.33,0.25,0.105,0.1715,0.0655,0.035,0.06,7\\nM,0.59,0.47,0.18,1.1235,0.4205,0.2805,0.36,13\\nF,0.595,0.455,0.155,1.0605,0.5135,0.2165,0.3,12\\nF,0.575,0.46,0.185,1.094,0.4485,0.217,0.345,15\\nM,0.6,0.495,0.165,1.2415,0.485,0.2775,0.34,15\\nM,0.56,0.45,0.175,1.011,0.3835,0.2065,0.37,15\\nM,0.56,0.45,0.185,1.07,0.3805,0.175,0.41,19\\nM,0.545,0.46,0.16,0.8975,0.341,0.1655,0.345,10\\nF,0.635,0.505,0.17,1.415,0.605,0.297,0.365,15\\nF,0.59,0.475,0.16,1.1015,0.4775,0.2555,0.295,13\\nF,0.54,0.475,0.155,0.928,0.394,0.194,0.26,11\\nF,0.57,0.44,0.125,0.865,0.3675,0.1725,0.27,12\\nM,0.53,0.42,0.165,0.8945,0.319,0.239,0.245,11\\nI,0.245,0.195,0.06,0.095,0.0445,0.0245,0.026,4\\nM,0.27,0.2,0.08,0.1205,0.0465,0.028,0.04,6\\nF,0.46,0.38,0.13,0.639,0.3,0.1525,0.16,11\\nM,0.52,0.45,0.15,0.895,0.3615,0.186,0.235,14\\nM,0.35,0.275,0.11,0.2925,0.1225,0.0635,0.0905,8\\nM,0.47,0.39,0.15,0.6355,0.2185,0.0885,0.255,9\\nF,0.45,0.36,0.125,0.4995,0.2035,0.1,0.17,13\\nF,0.64,0.525,0.215,1.779,0.4535,0.2855,0.55,22\\nM,0.59,0.5,0.2,1.187,0.412,0.2705,0.37,16\\nM,0.62,0.485,0.205,1.219,0.3875,0.2505,0.385,14\\nM,0.63,0.505,0.225,1.525,0.56,0.3335,0.45,15\\nM,0.63,0.515,0.155,1.259,0.4105,0.197,0.41,13\\nM,0.655,0.54,0.215,1.844,0.7425,0.327,0.585,22\\nF,0.66,0.53,0.185,1.3485,0.493,0.245,0.49,12\\nM,0.61,0.5,0.24,1.642,0.532,0.3345,0.69,18\\nM,0.635,0.525,0.205,1.484,0.55,0.3115,0.43,20\\nF,0.515,0.425,0.135,0.712,0.2665,0.1605,0.25,11\\nF,0.535,0.415,0.185,0.8415,0.314,0.1585,0.3,15\\nI,0.36,0.285,0.105,0.2415,0.0915,0.057,0.075,7\\nF,0.455,0.355,0.12,0.4495,0.177,0.104,0.15,9\\nM,0.485,0.395,0.14,0.6295,0.2285,0.127,0.225,14\\nM,0.515,0.38,0.175,0.9565,0.325,0.158,0.31,14\\nF,0.535,0.415,0.17,0.879,0.295,0.1965,0.285,10\\nM,0.53,0.435,0.155,0.699,0.288,0.1595,0.205,10\\nF,0.495,0.4,0.155,0.6445,0.242,0.1325,0.205,17\\nM,0.44,0.355,0.125,0.4775,0.132,0.0815,0.19,9\\nF,0.535,0.435,0.16,0.8105,0.3155,0.1795,0.24,10\\nM,0.54,0.435,0.18,0.996,0.3835,0.226,0.325,17\\nF,0.565,0.505,0.21,1.2765,0.501,0.279,0.355,12\\nM,0.61,0.475,0.165,1.116,0.428,0.2205,0.315,15\\nF,0.565,0.455,0.175,1.013,0.342,0.207,0.35,19\\nM,0.6,0.495,0.195,1.0575,0.384,0.19,0.375,26\\nI,0.295,0.215,0.085,0.128,0.049,0.034,0.04,6\\nI,0.275,0.205,0.075,0.1105,0.045,0.0285,0.035,6\\nI,0.28,0.21,0.085,0.1065,0.039,0.0295,0.03,4\\nM,0.49,0.395,0.14,0.549,0.2215,0.1275,0.15,11\\nM,0.37,0.28,0.105,0.234,0.0905,0.0585,0.075,9\\nF,0.405,0.305,0.095,0.3485,0.1455,0.0895,0.1,9\\nF,0.54,0.435,0.175,0.892,0.322,0.174,0.335,13\\nM,0.37,0.28,0.1,0.252,0.1065,0.0595,0.074,8\\nM,0.36,0.27,0.1,0.217,0.0885,0.0495,0.0715,6\\nF,0.47,0.36,0.13,0.472,0.182,0.114,0.15,10\\nI,0.2,0.145,0.06,0.037,0.0125,0.0095,0.011,4\\nI,0.165,0.12,0.03,0.0215,0.007,0.005,0.005,3\\nM,0.645,0.515,0.24,1.5415,0.471,0.369,0.535,13\\nM,0.55,0.41,0.125,0.7605,0.2505,0.1635,0.195,14\\nM,0.57,0.435,0.145,0.9055,0.3925,0.2355,0.275,10\\nF,0.63,0.485,0.19,1.2435,0.4635,0.3055,0.39,21\\nM,0.56,0.44,0.14,0.971,0.443,0.2045,0.265,14\\nM,0.595,0.455,0.195,1.3305,0.4595,0.3235,0.345,19\\nF,0.62,0.47,0.2,1.2255,0.381,0.27,0.435,23\\nM,0.63,0.485,0.175,1.3,0.4335,0.2945,0.46,23\\nI,0.45,0.355,0.11,0.4585,0.194,0.067,0.14,8\\nF,0.635,0.535,0.19,1.242,0.576,0.2475,0.39,14\\nM,0.45,0.35,0.1,0.3675,0.1465,0.1015,0.12,10\\nF,0.58,0.455,0.155,0.8365,0.315,0.1385,0.32,18\\nI,0.33,0.255,0.095,0.172,0.066,0.0255,0.06,6\\nI,0.265,0.21,0.06,0.0965,0.0425,0.022,0.03,5\\nI,0.19,0.145,0.04,0.038,0.0165,0.0065,0.015,4\\nM,0.385,0.31,0.1,0.2845,0.1065,0.075,0.1,11\\nI,0.265,0.205,0.07,0.1055,0.039,0.041,0.035,5\\nM,0.335,0.265,0.105,0.222,0.0935,0.056,0.075,7\\nI,0.355,0.275,0.09,0.251,0.097,0.053,0.08,7\\nI,0.32,0.255,0.1,0.1755,0.073,0.0415,0.065,7\\nM,0.51,0.4,0.13,0.6435,0.27,0.1665,0.205,12\\nM,0.36,0.295,0.105,0.241,0.0865,0.053,0.095,8\\nI,0.36,0.28,0.09,0.2255,0.0885,0.04,0.09,8\\nM,0.5,0.38,0.155,0.5955,0.2135,0.161,0.2,12\\nF,0.4,0.325,0.12,0.3185,0.134,0.0565,0.095,8\\nI,0.3,0.22,0.08,0.121,0.0475,0.042,0.035,5\\nI,0.235,0.175,0.04,0.0705,0.0335,0.015,0.02,5\\nF,0.74,0.6,0.195,1.974,0.598,0.4085,0.71,16\\nM,0.62,0.465,0.19,1.3415,0.5705,0.3175,0.355,11\\nM,0.6,0.475,0.19,1.0875,0.403,0.2655,0.325,14\\nM,0.59,0.45,0.185,1.283,0.473,0.276,0.425,16\\nM,0.62,0.475,0.185,1.325,0.6045,0.325,0.33,13\\nF,0.565,0.45,0.195,1.0035,0.406,0.2505,0.285,15\\nM,0.575,0.455,0.145,1.165,0.581,0.2275,0.3,14\\nF,0.62,0.51,0.205,1.3475,0.4775,0.2565,0.48,14\\nM,0.62,0.465,0.185,1.274,0.579,0.3065,0.32,12\\nF,0.505,0.375,0.18,0.568,0.2325,0.1495,0.17,12\\nF,0.46,0.425,0.155,0.746,0.3005,0.152,0.24,8\\nM,0.49,0.39,0.14,0.707,0.2795,0.2185,0.18,13\\nF,0.525,0.42,0.16,0.756,0.2745,0.173,0.275,9\\nI,0.34,0.26,0.08,0.2,0.08,0.0555,0.055,6\\nI,0.375,0.305,0.115,0.2715,0.092,0.074,0.09,8\\nM,0.61,0.48,0.15,1.2,0.56,0.2455,0.28,14\\nF,0.61,0.495,0.185,1.153,0.536,0.2905,0.245,8\\nF,0.585,0.45,0.17,0.8685,0.3325,0.1635,0.27,22\\nM,0.57,0.46,0.14,0.9535,0.4465,0.2065,0.245,12\\nM,0.58,0.455,0.17,0.93,0.408,0.259,0.22,9\\nM,0.635,0.515,0.17,1.275,0.509,0.286,0.34,16\\nM,0.7,0.58,0.205,2.13,0.7415,0.49,0.58,20\\nM,0.675,0.525,0.185,1.587,0.6935,0.336,0.395,13\\nF,0.645,0.525,0.19,1.8085,0.7035,0.3885,0.395,18\\nM,0.745,0.585,0.215,2.499,0.9265,0.472,0.7,17\\nF,0.685,0.545,0.18,1.768,0.7495,0.392,0.485,16\\nM,0.605,0.49,0.18,1.227,0.48,0.287,0.35,18\\nF,0.59,0.465,0.15,0.997,0.392,0.246,0.34,12\\nF,0.65,0.525,0.175,1.4225,0.61,0.2995,0.445,20\\nF,0.6,0.48,0.15,1.029,0.4085,0.2705,0.295,16\\nF,0.62,0.5,0.175,1.186,0.4985,0.3015,0.35,12\\nM,0.63,0.515,0.16,1.016,0.4215,0.244,0.355,19\\nM,0.58,0.465,0.145,0.887,0.4405,0.1655,0.265,11\\nF,0.58,0.455,0.12,1.0735,0.479,0.2735,0.265,10\\nM,0.63,0.49,0.18,1.13,0.458,0.2765,0.315,12\\nF,0.69,0.56,0.215,1.719,0.68,0.299,0.47,17\\nF,0.65,0.545,0.165,1.566,0.6645,0.3455,0.415,16\\nF,0.66,0.565,0.195,1.7605,0.692,0.3265,0.5,16\\nF,0.68,0.58,0.2,1.787,0.585,0.453,0.6,19\\nF,0.7,0.575,0.17,1.31,0.5095,0.314,0.42,14\\nM,0.685,0.52,0.15,1.343,0.4635,0.292,0.4,13\\nF,0.675,0.545,0.195,1.7345,0.6845,0.3695,0.605,20\\nM,0.63,0.49,0.19,1.1775,0.4935,0.3365,0.285,11\\nF,0.585,0.45,0.16,1.077,0.4995,0.2875,0.25,10\\nM,0.565,0.465,0.175,0.995,0.3895,0.183,0.37,15\\nF,0.61,0.495,0.185,1.1085,0.3705,0.3135,0.33,12\\nM,0.605,0.47,0.18,1.1405,0.3755,0.2805,0.385,15\\nM,0.535,0.42,0.145,0.791,0.33,0.189,0.25,10\\nM,0.485,0.4,0.135,0.663,0.313,0.137,0.2,10\\nM,0.47,0.375,0.12,0.5565,0.226,0.122,0.195,12\\nM,0.545,0.425,0.135,0.8445,0.373,0.21,0.235,10\\nF,0.455,0.37,0.105,0.4925,0.216,0.1245,0.135,9\\nM,0.54,0.42,0.155,0.7385,0.3515,0.152,0.215,12\\nM,0.46,0.38,0.135,0.482,0.207,0.1225,0.145,10\\nM,0.49,0.42,0.125,0.609,0.239,0.1435,0.22,14\\nI,0.465,0.375,0.12,0.471,0.222,0.119,0.14,9\\nI,0.415,0.325,0.1,0.3215,0.1535,0.0595,0.105,10\\nM,0.475,0.375,0.125,0.593,0.277,0.115,0.18,10\\nF,0.47,0.375,0.125,0.5615,0.252,0.137,0.18,10\\nI,0.365,0.295,0.095,0.25,0.1075,0.0545,0.08,9\\nI,0.345,0.275,0.095,0.1995,0.0755,0.0535,0.07,6\\nI,0.39,0.31,0.1,0.302,0.116,0.064,0.115,11\\nF,0.5,0.395,0.14,0.7155,0.3165,0.176,0.24,10\\nM,0.47,0.38,0.145,0.5865,0.2385,0.144,0.185,8\\nM,0.535,0.44,0.15,0.6765,0.256,0.139,0.26,12\\nM,0.585,0.455,0.15,0.987,0.4355,0.2075,0.31,11\\nF,0.485,0.365,0.12,0.5885,0.27,0.131,0.175,9\\nM,0.515,0.455,0.135,0.7225,0.295,0.1625,0.235,9\\nF,0.435,0.325,0.11,0.4335,0.178,0.0985,0.155,7\\nF,0.515,0.415,0.14,0.6935,0.3115,0.152,0.2,10\\nI,0.44,0.345,0.12,0.365,0.1655,0.083,0.11,7\\nF,0.525,0.44,0.15,0.8425,0.3685,0.1985,0.24,12\\nM,0.45,0.355,0.115,0.479,0.2125,0.1045,0.15,8\\nM,0.59,0.485,0.12,0.911,0.39,0.182,0.29,16\\nM,0.555,0.45,0.145,0.915,0.4,0.246,0.285,11\\nM,0.57,0.44,0.095,0.827,0.3395,0.2215,0.235,8\\nM,0.59,0.5,0.165,1.1045,0.4565,0.2425,0.34,15\\nM,0.585,0.475,0.12,0.945,0.41,0.2115,0.28,14\\nF,0.58,0.46,0.12,0.9935,0.4625,0.2385,0.28,11\\nM,0.545,0.44,0.12,0.8565,0.3475,0.1715,0.24,12\\nF,0.605,0.495,0.17,1.2385,0.528,0.2465,0.39,14\\nF,0.62,0.47,0.14,1.0325,0.3605,0.224,0.36,15\\nF,0.63,0.5,0.17,1.3135,0.5595,0.267,0.4,20\\nM,0.63,0.515,0.165,1.352,0.488,0.349,0.45,20\\nF,0.63,0.5,0.155,1.005,0.367,0.199,0.36,16\\nM,0.545,0.41,0.14,0.625,0.223,0.16,0.235,13\\nF,0.67,0.54,0.165,1.5015,0.518,0.358,0.505,14\\nI,0.49,0.38,0.12,0.529,0.2165,0.139,0.155,11\\nF,0.49,0.39,0.135,0.5785,0.2465,0.123,0.2,13\\nI,0.29,0.225,0.07,0.101,0.036,0.0235,0.035,8\\nI,0.26,0.2,0.07,0.092,0.037,0.02,0.03,6\\nM,0.58,0.45,0.175,1.068,0.425,0.203,0.32,13\\nF,0.61,0.485,0.165,1.0915,0.3935,0.2435,0.33,18\\nM,0.6,0.5,0.16,1.015,0.3995,0.1735,0.33,19\\nF,0.56,0.455,0.125,0.943,0.344,0.129,0.375,21\\nF,0.575,0.45,0.17,1.0475,0.3775,0.1705,0.385,18\\nF,0.57,0.45,0.175,0.9555,0.38,0.1665,0.295,18\\nM,0.6,0.47,0.155,1.036,0.4375,0.196,0.325,20\\nM,0.565,0.455,0.17,0.9065,0.342,0.156,0.32,18\\nM,0.545,0.42,0.14,0.7505,0.2475,0.13,0.255,22\\nI,0.44,0.345,0.1,0.366,0.122,0.0905,0.12,13\\nM,0.5,0.41,0.15,0.662,0.2815,0.137,0.22,11\\nI,0.36,0.275,0.095,0.217,0.084,0.0435,0.09,7\\nI,0.385,0.305,0.095,0.252,0.0915,0.055,0.09,14\\nM,0.39,0.3,0.09,0.3055,0.143,0.0645,0.085,9\\nM,0.5,0.415,0.165,0.6885,0.249,0.138,0.25,13\\nI,0.36,0.275,0.11,0.2335,0.095,0.0525,0.085,10\\nI,0.335,0.26,0.1,0.192,0.0785,0.0585,0.07,8\\nF,0.505,0.425,0.14,0.85,0.275,0.1625,0.285,19\\nI,0.395,0.295,0.1,0.2715,0.134,0.0325,0.085,10\\nF,0.41,0.325,0.105,0.3635,0.159,0.077,0.12,10\\nF,0.56,0.455,0.19,0.714,0.283,0.129,0.275,9\\nM,0.565,0.435,0.185,0.9815,0.329,0.136,0.39,13\\nM,0.565,0.455,0.185,0.9265,0.354,0.1575,0.375,16\\nM,0.605,0.5,0.175,1.098,0.4765,0.232,0.375,12\\nF,0.565,0.455,0.15,0.8205,0.365,0.159,0.26,18\\nM,0.725,0.565,0.215,1.891,0.6975,0.4725,0.58,16\\nF,0.675,0.535,0.16,1.41,0.592,0.3175,0.42,16\\nF,0.665,0.555,0.195,1.4385,0.581,0.354,0.36,17\\nF,0.565,0.49,0.155,0.9245,0.405,0.2195,0.255,11\\nF,0.645,0.55,0.175,1.2915,0.57,0.3045,0.33,14\\nM,0.575,0.47,0.14,0.8375,0.3485,0.1735,0.24,11\\nF,0.64,0.54,0.175,1.221,0.51,0.259,0.39,15\\nI,0.36,0.28,0.105,0.199,0.0695,0.045,0.08,9\\nI,0.415,0.31,0.11,0.2965,0.123,0.057,0.0995,10\\nF,0.525,0.41,0.135,0.7085,0.293,0.1525,0.235,11\\nM,0.38,0.285,0.1,0.2665,0.115,0.061,0.075,11\\nF,0.585,0.465,0.17,0.9915,0.3865,0.224,0.265,12\\nI,0.24,0.185,0.07,0.0715,0.026,0.018,0.025,6\\nI,0.22,0.165,0.055,0.0545,0.0215,0.012,0.02,5\\nI,0.255,0.195,0.07,0.0735,0.0255,0.02,0.025,6\\nI,0.175,0.125,0.05,0.0235,0.008,0.0035,0.008,5\\nF,0.67,0.55,0.19,1.3905,0.5425,0.3035,0.4,12\\nM,0.655,0.53,0.195,1.388,0.567,0.2735,0.41,13\\nF,0.68,0.55,0.21,1.7445,0.5975,0.305,0.625,17\\nM,0.675,0.555,0.2,1.4385,0.545,0.2665,0.465,21\\nF,0.53,0.44,0.135,0.7835,0.313,0.1715,0.2185,9\\nF,0.515,0.405,0.12,0.646,0.2895,0.1405,0.177,10\\nI,0.43,0.34,0.12,0.3575,0.151,0.0645,0.1045,9\\nF,0.52,0.405,0.12,0.627,0.2645,0.1415,0.181,11\\nF,0.545,0.415,0.16,0.7715,0.272,0.1455,0.2765,10\\nM,0.53,0.415,0.175,0.7395,0.261,0.1395,0.2645,17\\nF,0.465,0.35,0.115,0.421,0.1565,0.091,0.1345,9\\nM,0.665,0.54,0.175,1.347,0.4955,0.254,0.415,17\\nM,0.735,0.59,0.225,1.756,0.637,0.3405,0.58,21\\nM,0.66,0.545,0.185,1.32,0.5305,0.2635,0.455,16\\nF,0.7,0.585,0.185,1.8075,0.7055,0.3215,0.475,29\\nM,0.575,0.4,0.155,0.9325,0.3605,0.2445,0.3,17\\nM,0.57,0.465,0.125,0.849,0.3785,0.1765,0.24,15\\nF,0.58,0.46,0.15,0.9955,0.429,0.212,0.26,19\\nM,0.63,0.48,0.145,1.0115,0.4235,0.237,0.305,12\\nF,0.585,0.465,0.14,0.908,0.381,0.1615,0.315,13\\nM,0.55,0.45,0.13,0.92,0.378,0.2385,0.29,11\\nF,0.625,0.515,0.15,1.2415,0.5235,0.3065,0.36,15\\nM,0.54,0.42,0.135,0.8075,0.3485,0.1795,0.235,11\\nF,0.57,0.455,0.165,1.0595,0.44,0.2195,0.285,14\\nM,0.59,0.455,0.145,1.073,0.475,0.19,0.285,14\\nM,0.58,0.46,0.13,0.921,0.357,0.181,0.29,13\\nF,0.655,0.51,0.155,1.2895,0.5345,0.2855,0.41,11\\nM,0.655,0.53,0.175,1.2635,0.486,0.2635,0.415,15\\nM,0.625,0.5,0.195,1.369,0.5875,0.2185,0.37,17\\nF,0.625,0.5,0.15,0.953,0.3445,0.2235,0.305,15\\nF,0.64,0.52,0.175,1.248,0.4245,0.2595,0.48,12\\nF,0.605,0.485,0.165,1.0105,0.435,0.209,0.3,19\\nF,0.615,0.525,0.155,1.0385,0.427,0.2315,0.345,11\\nM,0.555,0.45,0.175,0.874,0.3275,0.202,0.305,10\\nF,0.58,0.44,0.18,0.854,0.3665,0.1635,0.245,12\\nF,0.62,0.52,0.225,1.1835,0.378,0.27,0.395,23\\nF,0.62,0.47,0.225,1.115,0.378,0.2145,0.36,15\\nF,0.6,0.505,0.19,1.129,0.4385,0.256,0.36,13\\nF,0.625,0.485,0.19,1.1745,0.4385,0.2305,0.42,17\\nM,0.6,0.47,0.175,1.105,0.4865,0.247,0.315,15\\nM,0.56,0.46,0.235,0.8395,0.3325,0.157,0.305,12\\nM,0.585,0.455,0.225,1.055,0.3815,0.221,0.365,15\\nM,0.56,0.435,0.18,0.889,0.36,0.204,0.25,11\\nI,0.56,0.445,0.155,0.8735,0.3005,0.209,0.275,16\\nI,0.68,0.53,0.185,1.1095,0.439,0.245,0.34,10\\nF,0.455,0.35,0.14,0.5185,0.221,0.1265,0.135,10\\nF,0.49,0.38,0.145,0.6725,0.249,0.181,0.21,10\\nM,0.31,0.22,0.085,0.146,0.061,0.0365,0.045,6\\nF,0.275,0.195,0.07,0.08,0.031,0.0215,0.025,5\\nM,0.27,0.195,0.08,0.1,0.0385,0.0195,0.03,6\\nM,0.4,0.29,0.115,0.2795,0.1115,0.0575,0.075,9\\nM,0.28,0.2,0.08,0.0915,0.033,0.0215,0.03,5\\nM,0.325,0.23,0.09,0.147,0.06,0.034,0.045,4\\nF,0.345,0.25,0.09,0.203,0.078,0.059,0.055,6\\nM,0.21,0.15,0.05,0.0385,0.0155,0.0085,0.01,3\\nF,0.36,0.27,0.09,0.1885,0.0845,0.0385,0.055,5\\nI,0.365,0.26,0.115,0.218,0.0935,0.0445,0.07,9\\nM,0.2,0.14,0.055,0.035,0.0145,0.008,0.01,5\\nM,0.235,0.16,0.06,0.0545,0.0265,0.0095,0.015,4\\nM,0.175,0.125,0.04,0.024,0.0095,0.006,0.005,4\\nM,0.155,0.11,0.04,0.0155,0.0065,0.003,0.005,3\\nF,0.57,0.445,0.155,0.733,0.282,0.159,0.235,14\\nF,0.57,0.45,0.16,0.9715,0.3965,0.255,0.26,12\\nM,0.385,0.3,0.095,0.24,0.0885,0.059,0.085,9\\nI,0.53,0.42,0.185,0.752,0.299,0.156,0.205,20\\nF,0.46,0.355,0.13,0.458,0.192,0.1055,0.13,13\\nI,0.47,0.37,0.12,0.4705,0.1845,0.1055,0.155,12\\nF,0.435,0.335,0.11,0.38,0.1695,0.086,0.11,9\\nI,0.47,0.37,0.14,0.4985,0.2095,0.1225,0.145,10\\nI,0.465,0.38,0.13,0.454,0.1895,0.08,0.155,11\\nI,0.52,0.405,0.14,0.5775,0.2,0.145,0.179,11\\nM,0.29,0.23,0.075,0.1165,0.043,0.0255,0.04,7\\nM,0.275,0.205,0.07,0.094,0.0335,0.02,0.0325,5\\nF,0.375,0.29,0.115,0.2705,0.093,0.066,0.0885,10\\nF,0.5,0.375,0.14,0.604,0.242,0.1415,0.179,15\\nF,0.44,0.355,0.115,0.415,0.1585,0.0925,0.131,11\\nM,0.42,0.325,0.115,0.2885,0.1,0.057,0.1135,15\\nM,0.445,0.35,0.115,0.3615,0.1565,0.0695,0.117,8\\nF,0.38,0.29,0.105,0.257,0.099,0.051,0.085,10\\nM,0.32,0.245,0.075,0.1555,0.0585,0.038,0.049,11\\nM,0.255,0.195,0.065,0.08,0.0315,0.018,0.027,8\\nM,0.205,0.155,0.045,0.0425,0.017,0.0055,0.0155,7\\nF,0.565,0.45,0.16,0.795,0.3605,0.1555,0.23,12\\nI,0.555,0.425,0.18,0.875,0.3695,0.2005,0.255,11\\nI,0.65,0.515,0.16,1.1625,0.495,0.203,0.33,17\\nI,0.615,0.49,0.155,0.9885,0.4145,0.195,0.345,13\\nI,0.56,0.44,0.165,0.8,0.335,0.1735,0.25,12\\nI,0.48,0.37,0.12,0.514,0.2075,0.131,0.155,13\\nI,0.485,0.39,0.125,0.591,0.287,0.141,0.12,9\\nI,0.5,0.385,0.15,0.6265,0.2605,0.1665,0.16,10\\nI,0.525,0.405,0.15,0.795,0.3075,0.205,0.255,14\\nF,0.66,0.5,0.165,1.1905,0.4585,0.298,0.37,12\\nF,0.66,0.53,0.17,1.326,0.519,0.2625,0.44,13\\nI,0.52,0.4,0.145,0.66,0.267,0.1055,0.22,13\\nF,0.44,0.34,0.105,0.364,0.148,0.0805,0.1175,8\\nI,0.515,0.4,0.12,0.659,0.2705,0.179,0.17,13\\nF,0.475,0.35,0.115,0.452,0.1715,0.092,0.155,11\\nF,0.545,0.415,0.15,0.7335,0.2795,0.163,0.2185,11\\nF,0.47,0.355,0.13,0.5465,0.2005,0.126,0.185,14\\nM,0.35,0.255,0.065,0.179,0.0705,0.0385,0.06,10\\nI,0.485,0.355,0.13,0.581,0.245,0.132,0.168,12\\nI,0.435,0.33,0.125,0.406,0.1685,0.1055,0.096,12\\nM,0.28,0.21,0.08,0.1085,0.041,0.0265,0.0345,7\\nF,0.41,0.32,0.115,0.387,0.165,0.1005,0.0985,11\\nI,0.45,0.35,0.14,0.474,0.21,0.109,0.1275,16\\nI,0.45,0.345,0.135,0.443,0.1975,0.0875,0.1175,14\\nF,0.59,0.455,0.155,1.066,0.382,0.2275,0.415,20\\nF,0.57,0.44,0.14,0.9535,0.3785,0.201,0.305,17\\nI,0.61,0.475,0.15,0.9665,0.4145,0.2,0.345,10\\nF,0.61,0.475,0.14,1.133,0.5275,0.2355,0.35,11\\nI,0.56,0.425,0.14,0.9175,0.4005,0.1975,0.26,10\\nF,0.585,0.435,0.175,0.982,0.4055,0.2495,0.27,10\\nI,0.58,0.445,0.15,0.8865,0.383,0.209,0.255,11\\nF,0.63,0.48,0.175,1.3675,0.5015,0.3035,0.515,17\\nF,0.625,0.49,0.175,1.233,0.5565,0.247,0.365,11\\nI,0.55,0.425,0.15,0.806,0.376,0.171,0.245,14\\nF,0.645,0.525,0.19,1.4635,0.6615,0.3435,0.435,19\\nI,0.46,0.355,0.14,0.4935,0.216,0.133,0.115,13\\nF,0.41,0.305,0.1,0.363,0.1735,0.065,0.11,11\\nI,0.495,0.39,0.125,0.6655,0.284,0.162,0.2,11\\nI,0.52,0.425,0.17,0.6805,0.28,0.174,0.195,10\\nF,0.55,0.41,0.145,0.8285,0.3095,0.1905,0.25,13\\nM,0.45,0.335,0.14,0.4625,0.164,0.076,0.15,14\\nF,0.405,0.31,0.12,0.3095,0.138,0.058,0.095,13\\nI,0.51,0.4,0.15,0.745,0.2865,0.1675,0.235,13\\nF,0.37,0.29,0.115,0.25,0.111,0.057,0.075,9\\nI,0.525,0.41,0.175,0.874,0.3585,0.207,0.205,18\\nF,0.66,0.52,0.18,1.514,0.526,0.2975,0.42,19\\nM,0.535,0.42,0.15,0.6995,0.2575,0.153,0.24,12\\nI,0.575,0.455,0.18,0.8525,0.3015,0.1825,0.3,13\\nF,0.55,0.43,0.14,0.7135,0.2565,0.186,0.225,9\\nI,0.605,0.47,0.14,0.939,0.3385,0.201,0.32,13\\nI,0.605,0.495,0.145,1.054,0.369,0.2255,0.36,12\\nF,0.56,0.445,0.195,0.981,0.305,0.2245,0.335,16\\nI,0.535,0.42,0.145,0.926,0.398,0.1965,0.25,17\\nF,0.385,0.315,0.11,0.286,0.1225,0.0635,0.0835,10\\nF,0.39,0.3,0.1,0.265,0.1075,0.06,0.0865,13\\nI,0.47,0.345,0.115,0.4885,0.2005,0.108,0.166,11\\nI,0.515,0.39,0.14,0.5555,0.2,0.1135,0.2235,12\\nI,0.425,0.345,0.125,0.425,0.16,0.0795,0.154,13\\nM,0.345,0.27,0.09,0.195,0.078,0.0455,0.059,9\\nI,0.485,0.37,0.13,0.458,0.181,0.113,0.136,10\\nM,0.37,0.285,0.1,0.228,0.0675,0.0675,0.081,10\\nM,0.35,0.265,0.09,0.1775,0.0575,0.042,0.068,12\\nF,0.44,0.345,0.17,0.4085,0.15,0.0825,0.1515,12\\nM,0.195,0.145,0.05,0.032,0.01,0.008,0.012,4\\nM,0.325,0.24,0.075,0.155,0.0475,0.0355,0.06,9\\nI,0.495,0.37,0.125,0.4775,0.185,0.0705,0.169,18\\nI,0.45,0.35,0.145,0.525,0.2085,0.1,0.1655,15\\nM,0.415,0.345,0.135,0.3865,0.128,0.07,0.148,13\\nF,0.47,0.355,0.14,0.433,0.1525,0.095,0.152,12\\nM,0.32,0.24,0.085,0.17,0.0655,0.047,0.049,7\\nM,0.31,0.225,0.075,0.1295,0.0455,0.0335,0.044,9\\nM,0.235,0.17,0.055,0.0515,0.018,0.0105,0.0195,7\\nM,0.345,0.255,0.08,0.169,0.06,0.0425,0.054,10\\nI,0.485,0.38,0.14,0.673,0.2175,0.13,0.195,18\\nF,0.5,0.385,0.115,0.6785,0.2945,0.138,0.195,12\\nF,0.5,0.385,0.105,0.498,0.1795,0.1095,0.17,17\\nI,0.465,0.36,0.105,0.498,0.214,0.116,0.14,15\\nF,0.525,0.405,0.16,0.658,0.2655,0.1125,0.225,12\\nF,0.425,0.335,0.095,0.322,0.1205,0.061,0.125,10\\nF,0.38,0.305,0.095,0.2815,0.1255,0.0525,0.09,8\\nI,0.53,0.415,0.145,0.944,0.3845,0.185,0.265,21\\nM,0.34,0.265,0.085,0.1835,0.077,0.046,0.065,10\\nI,0.475,0.365,0.115,0.49,0.223,0.1235,0.1335,9\\nF,0.43,0.34,0.12,0.391,0.1555,0.095,0.1405,7\\nM,0.46,0.365,0.125,0.467,0.1895,0.0945,0.158,10\\nI,0.47,0.36,0.13,0.5225,0.198,0.1065,0.165,9\\nM,0.36,0.295,0.1,0.2105,0.066,0.0525,0.075,9\\nM,0.355,0.265,0.09,0.168,0.05,0.041,0.063,8\\nM,0.38,0.235,0.1,0.258,0.1055,0.054,0.08,7\\nM,0.355,0.26,0.085,0.1905,0.081,0.0485,0.055,6\\nI,0.44,0.345,0.12,0.487,0.1965,0.108,0.16,14\\nF,0.51,0.4,0.13,0.5735,0.219,0.1365,0.195,13\\nM,0.325,0.24,0.085,0.173,0.0795,0.038,0.05,7\\nI,0.62,0.485,0.18,1.1785,0.4675,0.2655,0.39,13\\nF,0.59,0.45,0.16,0.9,0.358,0.156,0.315,19\\nM,0.33,0.255,0.095,0.1875,0.0735,0.045,0.06,7\\nM,0.45,0.34,0.13,0.3715,0.1605,0.0795,0.105,9\\nI,0.445,0.33,0.12,0.347,0.12,0.084,0.105,11\\nM,0.33,0.215,0.075,0.1145,0.045,0.0265,0.035,6\\nM,0.48,0.375,0.145,0.777,0.216,0.13,0.17,9\\nI,0.46,0.35,0.12,0.4885,0.193,0.105,0.155,11\\nF,0.475,0.36,0.125,0.447,0.1695,0.081,0.14,9\\nM,0.255,0.18,0.065,0.079,0.034,0.014,0.025,5\\nI,0.335,0.245,0.09,0.1665,0.0595,0.04,0.06,6\\nI,0.47,0.35,0.13,0.466,0.1845,0.099,0.145,11\\nM,0.31,0.225,0.08,0.1345,0.054,0.024,0.05,7\\nF,0.37,0.28,0.11,0.2305,0.0945,0.0465,0.075,10\\nM,0.295,0.215,0.075,0.129,0.05,0.0295,0.04,7\\nF,0.555,0.435,0.165,0.97,0.336,0.2315,0.295,17\\nF,0.615,0.515,0.17,1.14,0.4305,0.2245,0.42,16\\nI,0.58,0.49,0.195,1.3165,0.5305,0.254,0.41,18\\nF,0.585,0.475,0.185,0.9585,0.4145,0.1615,0.33,11\\nI,0.65,0.525,0.18,1.626,0.597,0.3445,0.53,18\\nI,0.535,0.45,0.17,0.781,0.3055,0.1555,0.295,11\\nF,0.415,0.34,0.13,0.3675,0.146,0.0885,0.12,10\\nF,0.38,0.305,0.105,0.281,0.1045,0.0615,0.09,12\\nI,0.45,0.355,0.12,0.412,0.1145,0.0665,0.16,19\\nF,0.395,0.295,0.095,0.2245,0.078,0.054,0.08,10\\nM,0.455,0.35,0.12,0.4835,0.1815,0.144,0.16,11\\nF,0.485,0.38,0.15,0.605,0.2155,0.14,0.18,15\\nM,0.55,0.425,0.155,0.9175,0.2775,0.243,0.335,13\\nF,0.45,0.35,0.145,0.5425,0.1765,0.123,0.175,13\\nM,0.475,0.385,0.145,0.6175,0.235,0.108,0.215,14\\nF,0.5,0.38,0.155,0.655,0.2405,0.143,0.205,17\\nF,0.53,0.41,0.165,0.8115,0.24,0.169,0.24,19\\nM,0.49,0.39,0.15,0.573,0.225,0.124,0.17,21\\nF,0.49,0.385,0.15,0.7865,0.241,0.14,0.24,23\\nF,0.52,0.395,0.18,0.64,0.158,0.11,0.245,22\\nM,0.54,0.415,0.145,0.74,0.2635,0.168,0.245,12\\nF,0.5,0.375,0.115,0.5945,0.185,0.148,0.19,11\\nF,0.45,0.38,0.165,0.8165,0.25,0.1915,0.265,23\\nF,0.37,0.275,0.1,0.2225,0.093,0.026,0.08,8\\nI,0.37,0.275,0.1,0.2295,0.0885,0.0465,0.07,7\\nM,0.485,0.37,0.14,0.5725,0.204,0.1415,0.175,10\\nF,0.435,0.325,0.115,0.3915,0.154,0.094,0.12,7\\nM,0.535,0.405,0.185,0.8345,0.3175,0.1725,0.29,16\\nM,0.51,0.4,0.14,0.6515,0.2455,0.1665,0.185,10\\nM,0.565,0.44,0.185,0.909,0.344,0.2325,0.255,15\\nF,0.535,0.4,0.15,0.8045,0.3345,0.2125,0.21,13\\nF,0.535,0.405,0.125,0.927,0.26,0.1425,0.345,16\\nM,0.525,0.4,0.17,0.7305,0.279,0.2055,0.195,11\\nM,0.59,0.44,0.15,0.9555,0.366,0.2425,0.295,11\\nM,0.5,0.375,0.15,0.636,0.2535,0.145,0.19,10\\nI,0.255,0.19,0.075,0.0865,0.0345,0.0205,0.025,5\\nF,0.43,0.325,0.115,0.3865,0.1475,0.1065,0.11,11\\nM,0.38,0.29,0.12,0.283,0.1175,0.0655,0.085,9\\nI,0.165,0.11,0.02,0.019,0.0065,0.0025,0.005,4\\nI,0.315,0.23,0.09,0.1285,0.043,0.04,0.04,7\\nI,0.155,0.105,0.05,0.0175,0.005,0.0035,0.005,4\\nM,0.28,0.205,0.1,0.1165,0.0545,0.0285,0.03,5\\nF,0.43,0.335,0.12,0.444,0.155,0.1145,0.14,13\\nF,0.395,0.315,0.105,0.3515,0.1185,0.091,0.1195,16\\nM,0.385,0.285,0.105,0.2905,0.1215,0.0685,0.0875,12\\nF,0.48,0.385,0.135,0.536,0.1895,0.142,0.173,14\\nF,0.445,0.33,0.105,0.4525,0.18,0.103,0.123,9\\nM,0.395,0.295,0.115,0.316,0.1205,0.0595,0.1105,12\\nM,0.4,0.3,0.125,0.417,0.191,0.09,0.1175,9\\nM,0.415,0.325,0.14,0.417,0.1535,0.1015,0.144,10\\nM,0.315,0.25,0.09,0.203,0.0615,0.037,0.0795,11\\nF,0.345,0.26,0.09,0.207,0.0775,0.0435,0.0765,10\\nM,0.36,0.295,0.13,0.2765,0.0895,0.057,0.1005,10\\nI,0.295,0.225,0.09,0.1105,0.0405,0.0245,0.032,7\\nI,0.325,0.25,0.08,0.176,0.0595,0.0355,0.063,7\\nM,0.375,0.3,0.1,0.2465,0.104,0.0475,0.083,11\\nI,0.28,0.205,0.055,0.1135,0.045,0.0275,0.0335,7\\nM,0.355,0.265,0.085,0.201,0.069,0.053,0.0695,8\\nM,0.35,0.255,0.08,0.1915,0.08,0.0385,0.063,9\\nI,0.275,0.2,0.065,0.1035,0.0475,0.0205,0.03,7\\nI,0.29,0.205,0.07,0.0975,0.036,0.019,0.035,8\\nI,0.25,0.19,0.06,0.0765,0.036,0.0115,0.0245,6\\nI,0.18,0.125,0.035,0.0265,0.0095,0.0055,0.0085,4\\nI,0.15,0.1,0.025,0.015,0.0045,0.004,0.005,2\\nI,0.16,0.11,0.025,0.018,0.0065,0.0055,0.005,3\\nM,0.555,0.455,0.16,1.0575,0.3925,0.228,0.293,13\\nM,0.555,0.44,0.15,1.092,0.416,0.212,0.4405,15\\nM,0.525,0.41,0.13,0.99,0.3865,0.243,0.295,15\\nM,0.465,0.36,0.08,0.488,0.191,0.125,0.155,11\\nF,0.49,0.36,0.11,0.5005,0.161,0.107,0.195,17\\nM,0.4,0.305,0.085,0.297,0.108,0.0705,0.1,10\\nF,0.48,0.375,0.105,0.525,0.2185,0.1195,0.155,12\\nM,0.505,0.4,0.125,0.77,0.2735,0.159,0.255,13\\nF,0.52,0.4,0.12,0.6515,0.261,0.2015,0.165,15\\nM,0.525,0.4,0.13,0.8295,0.2405,0.1825,0.275,11\\nM,0.545,0.42,0.13,0.879,0.374,0.1695,0.23,13\\nM,0.52,0.4,0.12,0.823,0.298,0.1805,0.265,15\\nM,0.505,0.38,0.13,0.656,0.227,0.1785,0.22,13\\nM,0.525,0.425,0.12,0.8665,0.2825,0.176,0.29,18\\nM,0.51,0.39,0.125,0.6565,0.262,0.1835,0.175,10\\nM,0.52,0.385,0.115,0.669,0.2385,0.172,0.205,12\\nF,0.52,0.405,0.125,0.6435,0.2415,0.1735,0.21,12\\nM,0.535,0.41,0.135,0.862,0.2855,0.1525,0.32,14\\nM,0.445,0.345,0.09,0.3795,0.143,0.074,0.125,10\\nM,0.53,0.44,0.205,0.835,0.32,0.2175,0.245,14\\nF,0.36,0.265,0.09,0.2065,0.078,0.057,0.06,8\\nF,0.535,0.42,0.15,0.7365,0.2785,0.186,0.215,14\\nF,0.52,0.405,0.14,0.8175,0.2795,0.183,0.26,17\\nM,0.53,0.415,0.13,0.8425,0.275,0.1945,0.265,20\\nF,0.53,0.42,0.13,1.001,0.34,0.226,0.265,17\\nF,0.66,0.52,0.2,1.676,0.673,0.4805,0.45,17\\nM,0.52,0.385,0.14,0.6595,0.2485,0.2035,0.16,9\\nM,0.535,0.42,0.13,0.8055,0.301,0.181,0.28,14\\nM,0.695,0.515,0.175,1.5165,0.578,0.4105,0.39,15\\nF,0.51,0.39,0.105,0.612,0.187,0.15,0.195,13\\nM,0.485,0.355,0.12,0.547,0.215,0.1615,0.14,10\\nF,0.605,0.46,0.17,1.122,0.347,0.3045,0.315,13\\nF,0.58,0.455,0.165,1.1365,0.369,0.3005,0.275,13\\nM,0.65,0.515,0.175,1.4805,0.5295,0.272,0.525,20\\nM,0.62,0.505,0.185,1.5275,0.69,0.368,0.35,13\\nM,0.615,0.525,0.155,1.1375,0.367,0.236,0.37,20\\nF,0.605,0.495,0.19,1.437,0.469,0.2655,0.41,15\\nM,0.57,0.44,0.155,1.116,0.4775,0.2315,0.27,13\\nM,0.57,0.43,0.12,1.0615,0.348,0.167,0.31,15\\nM,0.585,0.405,0.15,1.2565,0.435,0.202,0.325,15\\nF,0.55,0.44,0.155,0.946,0.313,0.1825,0.335,16\\nF,0.54,0.44,0.135,0.959,0.2385,0.221,0.3,17\\nM,0.64,0.51,0.19,1.613,0.6215,0.361,0.47,14\\nF,0.61,0.47,0.145,1.153,0.403,0.296,0.32,14\\nM,0.545,0.45,0.15,0.978,0.3365,0.1905,0.3,11\\nF,0.59,0.445,0.13,1.1325,0.3825,0.234,0.32,13\\nM,0.345,0.27,0.095,0.197,0.0665,0.05,0.07,9\\nF,0.55,0.43,0.155,0.785,0.289,0.227,0.233,11\\nF,0.53,0.425,0.17,0.949,0.3485,0.2395,0.278,17\\nF,0.53,0.455,0.165,0.9805,0.3155,0.2815,0.2965,11\\nI,0.485,0.375,0.14,0.521,0.2,0.123,0.17,8\\nM,0.385,0.275,0.115,0.2685,0.0975,0.0825,0.085,8\\nM,0.455,0.34,0.135,0.462,0.1675,0.158,0.12,9\\nM,0.49,0.38,0.14,0.7605,0.245,0.167,0.185,10\\nM,0.53,0.41,0.165,0.732,0.189,0.17,0.31,11\\nM,0.505,0.385,0.145,0.6775,0.236,0.179,0.2,15\\nM,0.49,0.38,0.14,0.6385,0.2305,0.142,0.195,13\\nM,0.465,0.35,0.14,0.5755,0.2015,0.1505,0.19,15\\nF,0.47,0.36,0.145,0.537,0.1725,0.1375,0.195,15\\nM,0.56,0.41,0.165,0.93,0.3505,0.237,0.3,13\\nM,0.505,0.385,0.15,0.6415,0.246,0.152,0.215,12\\nM,0.515,0.435,0.145,0.8815,0.292,0.206,0.255,10\\nI,0.385,0.28,0.125,0.244,0.102,0.038,0.085,6\\nI,0.215,0.155,0.06,0.0525,0.021,0.0165,0.015,5\\nM,0.55,0.415,0.175,1.042,0.3295,0.2325,0.2905,15\\nF,0.515,0.39,0.13,0.5755,0.1975,0.13,0.1845,9\\nM,0.495,0.385,0.135,0.709,0.211,0.1375,0.262,12\\nF,0.505,0.39,0.16,0.644,0.2475,0.2025,0.1635,9\\nF,0.6,0.465,0.165,0.8875,0.309,0.246,0.262,12\\nF,0.57,0.465,0.16,0.8935,0.3145,0.2575,0.263,10\\nF,0.485,0.375,0.135,0.556,0.1925,0.1315,0.1685,10\\nM,0.47,0.37,0.18,0.51,0.1915,0.1285,0.1625,9\\nM,0.575,0.45,0.165,0.9215,0.3275,0.225,0.256,12\\nM,0.58,0.465,0.16,1.0345,0.315,0.26,0.3635,12\\nM,0.515,0.405,0.145,0.695,0.215,0.1635,0.234,15\\nM,0.53,0.41,0.155,0.7155,0.2805,0.1685,0.214,11\\nM,0.44,0.335,0.11,0.394,0.157,0.096,0.122,9\\nM,0.52,0.42,0.16,0.745,0.255,0.157,0.2885,11\\nF,0.425,0.345,0.11,0.3665,0.125,0.081,0.117,11\\nM,0.46,0.34,0.135,0.495,0.1655,0.117,0.185,10\\nM,0.45,0.335,0.125,0.349,0.119,0.1055,0.115,10\\nM,0.425,0.33,0.13,0.4405,0.152,0.0935,0.155,9\\nI,0.37,0.275,0.1,0.22,0.094,0.045,0.065,7\\nM,0.515,0.38,0.135,0.6615,0.2875,0.2095,0.155,10\\nM,0.405,0.305,0.12,0.3185,0.1235,0.0905,0.095,7\\nI,0.28,0.205,0.07,0.1015,0.041,0.03,0.03,6\\nF,0.48,0.4,0.125,0.759,0.2125,0.179,0.24,15\\nF,0.44,0.34,0.13,0.4195,0.153,0.1155,0.13,10\\nF,0.52,0.41,0.115,0.807,0.2855,0.179,0.235,12\\nM,0.505,0.405,0.14,0.875,0.2665,0.174,0.285,12\\nF,0.49,0.365,0.13,0.6835,0.165,0.1315,0.205,21\\nI,0.235,0.175,0.055,0.067,0.027,0.0125,0.018,6\\nI,0.255,0.185,0.06,0.088,0.0365,0.021,0.023,5\\nI,0.315,0.24,0.085,0.1715,0.071,0.0345,0.0535,7\\nI,0.325,0.25,0.08,0.1735,0.0765,0.0345,0.049,7\\nI,0.335,0.25,0.08,0.183,0.0735,0.04,0.0575,6\\nI,0.35,0.27,0.09,0.2055,0.075,0.0575,0.062,6\\nI,0.35,0.25,0.07,0.18,0.0655,0.048,0.054,6\\nI,0.36,0.3,0.085,0.27,0.1185,0.064,0.0745,7\\nI,0.365,0.275,0.135,0.24,0.108,0.0445,0.0735,7\\nI,0.37,0.275,0.14,0.2215,0.097,0.0455,0.0615,6\\nI,0.38,0.275,0.095,0.1375,0.086,0.0585,0.0605,7\\nI,0.385,0.29,0.095,0.312,0.143,0.0635,0.086,6\\nI,0.385,0.3,0.1,0.2895,0.1215,0.063,0.09,7\\nI,0.395,0.29,0.095,0.319,0.138,0.08,0.082,7\\nI,0.395,0.29,0.095,0.304,0.127,0.084,0.077,6\\nI,0.4,0.31,0.1,0.306,0.13,0.06,0.094,6\\nI,0.41,0.325,0.1,0.394,0.208,0.0655,0.106,6\\nI,0.415,0.32,0.11,0.3735,0.175,0.0755,0.109,7\\nM,0.415,0.305,0.1,0.325,0.156,0.0505,0.091,6\\nI,0.425,0.325,0.1,0.398,0.1185,0.0645,0.0945,6\\nI,0.44,0.365,0.115,0.501,0.2435,0.084,0.1465,9\\nI,0.445,0.335,0.1,0.4895,0.2745,0.086,0.1105,7\\nI,0.445,0.325,0.1,0.378,0.1795,0.1,0.089,7\\nI,0.45,0.35,0.13,0.547,0.245,0.1405,0.1405,8\\nM,0.47,0.375,0.12,0.5805,0.266,0.0935,0.169,8\\nI,0.475,0.365,0.125,0.5465,0.229,0.1185,0.172,9\\nF,0.48,0.365,0.135,0.6395,0.2945,0.113,0.175,8\\nI,0.485,0.355,0.105,0.498,0.2175,0.096,0.1525,9\\nM,0.49,0.385,0.125,0.609,0.3065,0.096,0.1775,8\\nF,0.495,0.41,0.125,0.7555,0.3355,0.129,0.214,9\\nM,0.5,0.4,0.125,0.5975,0.27,0.1275,0.166,9\\nM,0.505,0.44,0.14,0.8275,0.3415,0.1855,0.239,8\\nM,0.525,0.395,0.13,0.7635,0.3375,0.1425,0.225,8\\nM,0.54,0.405,0.125,0.891,0.4815,0.1915,0.202,9\\nF,0.54,0.42,0.14,0.805,0.369,0.1725,0.21,11\\nF,0.545,0.44,0.135,0.9185,0.429,0.2015,0.2375,10\\nF,0.55,0.43,0.125,0.923,0.4035,0.175,0.283,8\\nM,0.55,0.45,0.15,1.0145,0.407,0.2015,0.2875,10\\nF,0.55,0.45,0.15,0.875,0.362,0.1755,0.2765,10\\nM,0.555,0.435,0.145,0.9685,0.4985,0.168,0.2385,9\\nM,0.565,0.45,0.155,1.0595,0.4735,0.24,0.265,10\\nM,0.57,0.455,0.15,0.952,0.3895,0.2155,0.2745,9\\nM,0.57,0.435,0.13,0.7535,0.349,0.1755,0.194,10\\nF,0.575,0.465,0.14,0.958,0.442,0.1815,0.2705,9\\nM,0.59,0.475,0.165,1.077,0.4545,0.244,0.3095,9\\nM,0.59,0.46,0.13,1.102,0.455,0.2055,0.33,12\\nF,0.595,0.48,0.15,1.11,0.498,0.228,0.33,10\\nF,0.595,0.48,0.16,1.2095,0.5225,0.296,0.32,8\\nF,0.595,0.475,0.16,1.1405,0.547,0.231,0.271,6\\nF,0.595,0.465,0.14,1.113,0.5175,0.244,0.305,12\\nM,0.6,0.475,0.175,1.3445,0.549,0.2875,0.36,11\\nF,0.6,0.475,0.155,1.21,0.653,0.1695,0.3205,10\\nM,0.6,0.495,0.175,1.29,0.606,0.276,0.3445,11\\nF,0.605,0.475,0.175,1.382,0.609,0.2325,0.3985,10\\nM,0.605,0.455,0.16,1.1035,0.421,0.3015,0.325,9\\nF,0.615,0.5,0.175,1.377,0.5585,0.33,0.292,12\\nF,0.615,0.52,0.15,1.3435,0.629,0.2605,0.345,10\\nM,0.615,0.51,0.15,1.296,0.545,0.3315,0.32,9\\nM,0.615,0.505,0.165,1.34,0.5315,0.2815,0.41,12\\nF,0.62,0.505,0.16,1.3725,0.6285,0.275,0.3685,11\\nM,0.62,0.5,0.165,1.307,0.6355,0.2545,0.315,9\\nF,0.625,0.49,0.155,1.2085,0.465,0.162,0.411,11\\nF,0.625,0.49,0.2,1.3825,0.5895,0.285,0.381,11\\nM,0.63,0.505,0.165,1.26,0.4525,0.2755,0.406,14\\nM,0.635,0.51,0.17,1.3555,0.619,0.305,0.39,9\\nF,0.635,0.5,0.15,1.376,0.6495,0.361,0.31,10\\nF,0.635,0.485,0.165,1.2945,0.668,0.2605,0.2715,9\\nF,0.64,0.51,0.165,1.486,0.7595,0.332,0.321,8\\nM,0.65,0.525,0.175,1.4715,0.675,0.315,0.399,11\\nM,0.655,0.52,0.165,1.4095,0.586,0.291,0.405,9\\nM,0.655,0.58,0.205,2.0805,0.959,0.3415,0.601,17\\nM,0.66,0.53,0.17,1.3905,0.5905,0.212,0.453,15\\nM,0.66,0.52,0.19,1.558,0.755,0.298,0.4,10\\nF,0.67,0.585,0.16,1.309,0.5445,0.2945,0.413,10\\nF,0.675,0.525,0.17,1.8095,0.784,0.391,0.455,12\\nF,0.675,0.525,0.155,1.4785,0.628,0.3405,0.42,9\\nF,0.68,0.56,0.195,1.7775,0.861,0.322,0.415,11\\nF,0.685,0.54,0.16,1.6675,0.833,0.3775,0.475,11\\nF,0.695,0.56,0.22,1.834,0.8455,0.422,0.455,11\\nM,0.73,0.595,0.23,2.8255,1.1465,0.419,0.897,17\\nI,0.205,0.14,0.05,0.046,0.0165,0.012,0.0135,6\\nI,0.24,0.175,0.055,0.0705,0.025,0.014,0.021,5\\nI,0.24,0.175,0.065,0.0665,0.031,0.0135,0.017,3\\nI,0.255,0.19,0.05,0.083,0.0295,0.0215,0.027,6\\nI,0.255,0.18,0.055,0.083,0.031,0.0215,0.02,4\\nI,0.265,0.195,0.06,0.092,0.0345,0.025,0.0245,6\\nI,0.28,0.12,0.075,0.117,0.0455,0.029,0.0345,4\\nI,0.295,0.23,0.08,0.1625,0.065,0.05,0.0385,5\\nI,0.3,0.235,0.08,0.131,0.05,0.0265,0.043,4\\nI,0.3,0.23,0.095,0.1385,0.056,0.0365,0.037,6\\nI,0.305,0.22,0.07,0.141,0.062,0.031,0.037,5\\nI,0.315,0.235,0.075,0.1485,0.0585,0.0375,0.0425,6\\nI,0.315,0.23,0.07,0.144,0.053,0.0305,0.04,8\\nI,0.32,0.24,0.09,0.1575,0.07,0.0265,0.0425,5\\nI,0.325,0.24,0.075,0.187,0.0825,0.0445,0.05,6\\nI,0.33,0.265,0.085,0.196,0.0775,0.0305,0.0445,6\\nI,0.335,0.25,0.075,0.1825,0.0705,0.044,0.055,7\\nI,0.335,0.25,0.075,0.186,0.0945,0.038,0.0445,7\\nI,0.34,0.25,0.075,0.1785,0.0665,0.0455,0.045,5\\nI,0.34,0.25,0.07,0.2225,0.104,0.0425,0.055,7\\nI,0.345,0.265,0.1,0.2455,0.111,0.0535,0.065,7\\nI,0.37,0.29,0.095,0.249,0.1045,0.058,0.067,6\\nI,0.37,0.28,0.095,0.2865,0.1505,0.069,0.0795,7\\nI,0.375,0.28,0.09,0.215,0.084,0.06,0.055,6\\nI,0.385,0.265,0.08,0.251,0.124,0.037,0.07,6\\nI,0.41,0.31,0.09,0.339,0.155,0.0695,0.09,7\\nI,0.41,0.305,0.09,0.3535,0.157,0.0745,0.1,7\\nI,0.41,0.31,0.09,0.3335,0.1635,0.061,0.091,6\\nI,0.415,0.33,0.09,0.3595,0.17,0.081,0.09,6\\nI,0.42,0.32,0.115,0.376,0.169,0.092,0.1,5\\nI,0.42,0.315,0.1,0.3435,0.157,0.0795,0.09,6\\nI,0.425,0.34,0.1,0.382,0.164,0.096,0.1,6\\nI,0.425,0.315,0.1,0.377,0.1645,0.072,0.105,6\\nI,0.43,0.325,0.1,0.3645,0.1575,0.0825,0.105,7\\nI,0.43,0.325,0.09,0.425,0.217,0.087,0.095,7\\nI,0.435,0.325,0.12,0.3995,0.1815,0.061,0.1125,8\\nI,0.435,0.34,0.115,0.3925,0.1825,0.078,0.1145,6\\nI,0.44,0.345,0.13,0.4495,0.209,0.0835,0.134,6\\nI,0.44,0.325,0.09,0.35,0.148,0.067,0.105,7\\nF,0.445,0.335,0.11,0.4355,0.2025,0.1095,0.1195,6\\nI,0.445,0.35,0.13,0.4195,0.1695,0.0945,0.1195,7\\nI,0.45,0.36,0.13,0.478,0.191,0.127,0.137,7\\nI,0.45,0.355,0.105,0.4445,0.197,0.093,0.1335,8\\nI,0.45,0.345,0.11,0.47,0.2355,0.0855,0.1135,7\\nI,0.45,0.335,0.105,0.447,0.2335,0.153,0.119,7\\nI,0.455,0.355,0.125,0.5325,0.225,0.126,0.1465,7\\nI,0.455,0.375,0.12,0.497,0.2355,0.1055,0.1295,6\\nI,0.46,0.36,0.1,0.4635,0.2325,0.093,0.115,7\\nI,0.46,0.345,0.105,0.449,0.196,0.0945,0.1265,7\\nI,0.465,0.365,0.115,0.467,0.2315,0.0925,0.113,7\\nI,0.465,0.37,0.115,0.534,0.261,0.098,0.143,7\\nI,0.465,0.345,0.11,0.4415,0.1755,0.0905,0.12,7\\nF,0.465,0.35,0.125,0.482,0.23,0.106,0.1095,6\\nM,0.47,0.365,0.12,0.612,0.327,0.15,0.14,8\\nF,0.47,0.365,0.12,0.582,0.29,0.092,0.146,8\\nM,0.475,0.37,0.125,0.537,0.222,0.1215,0.15,9\\nF,0.475,0.36,0.12,0.5915,0.3245,0.11,0.127,6\\nM,0.48,0.375,0.115,0.6765,0.3205,0.1065,0.17,6\\nM,0.48,0.385,0.145,0.64,0.2925,0.1405,0.1575,6\\nM,0.48,0.36,0.1,0.439,0.194,0.099,0.115,8\\nM,0.48,0.365,0.12,0.6015,0.312,0.117,0.14,7\\nF,0.485,0.37,0.115,0.4785,0.1995,0.0955,0.129,7\\nM,0.49,0.385,0.125,0.649,0.32,0.124,0.1695,8\\nM,0.495,0.395,0.135,0.6335,0.3035,0.1295,0.1495,8\\nM,0.495,0.4,0.135,0.61,0.272,0.1435,0.144,7\\nM,0.5,0.39,0.135,0.6595,0.3145,0.1535,0.1565,6\\nI,0.5,0.385,0.12,0.56,0.2835,0.103,0.135,8\\nM,0.5,0.385,0.135,0.6425,0.3195,0.129,0.1535,7\\nM,0.5,0.4,0.125,0.6725,0.336,0.12,0.1825,7\\nF,0.505,0.39,0.13,0.674,0.3165,0.141,0.1785,9\\nI,0.505,0.39,0.15,0.685,0.362,0.131,0.156,8\\nM,0.505,0.41,0.125,0.642,0.289,0.133,0.155,9\\nI,0.505,0.355,0.125,0.601,0.25,0.1205,0.185,8\\nM,0.51,0.39,0.135,0.769,0.3935,0.1455,0.19,8\\nI,0.51,0.375,0.1,0.5785,0.238,0.1225,0.175,7\\nI,0.51,0.405,0.135,0.769,0.3655,0.1585,0.18,7\\nM,0.51,0.405,0.15,0.7035,0.347,0.134,0.1885,8\\nM,0.51,0.41,0.145,0.796,0.3865,0.1815,0.1955,8\\nF,0.515,0.43,0.14,0.834,0.367,0.2,0.23,8\\nM,0.515,0.39,0.155,0.7125,0.3695,0.137,0.155,7\\nF,0.525,0.415,0.14,0.724,0.3475,0.173,0.175,8\\nM,0.525,0.4,0.14,0.7325,0.334,0.1575,0.17,11\\nF,0.53,0.425,0.13,0.7585,0.325,0.197,0.205,8\\nF,0.53,0.425,0.15,0.8495,0.328,0.232,0.202,8\\nM,0.53,0.405,0.125,0.6515,0.2715,0.1605,0.186,7\\nF,0.535,0.4,0.135,0.8215,0.3935,0.196,0.205,8\\nM,0.535,0.43,0.14,0.7165,0.2855,0.1595,0.2155,8\\nM,0.535,0.435,0.14,0.874,0.3735,0.229,0.2195,8\\nF,0.55,0.445,0.155,0.9905,0.544,0.178,0.218,9\\nF,0.55,0.43,0.14,0.8105,0.368,0.161,0.275,9\\nF,0.56,0.455,0.16,0.967,0.4525,0.207,0.274,9\\nF,0.565,0.4,0.13,0.6975,0.3075,0.1665,0.18,8\\nM,0.57,0.45,0.155,1.195,0.5625,0.2565,0.295,10\\nM,0.57,0.45,0.155,1.1935,0.513,0.21,0.343,10\\nF,0.57,0.455,0.15,1.107,0.54,0.255,0.27,8\\nM,0.57,0.445,0.14,1.0635,0.5265,0.2195,0.24,8\\nM,0.57,0.46,0.17,0.9035,0.4075,0.1935,0.214,7\\nM,0.575,0.475,0.16,1.114,0.4955,0.2745,0.29,9\\nF,0.575,0.46,0.16,1.103,0.538,0.221,0.249,9\\nF,0.58,0.46,0.15,1.1155,0.5575,0.2255,0.29,7\\nF,0.58,0.46,0.18,1.0515,0.4095,0.2595,0.276,8\\nM,0.58,0.455,0.15,1.012,0.4985,0.2115,0.2835,10\\nF,0.58,0.45,0.145,1.137,0.5585,0.22,0.29,8\\nM,0.58,0.49,0.13,1.1335,0.586,0.2565,0.237,9\\nM,0.59,0.465,0.155,1.136,0.5245,0.2615,0.275,11\\nM,0.59,0.47,0.16,1.206,0.479,0.2425,0.309,8\\nF,0.59,0.455,0.145,1.063,0.5155,0.2445,0.25,8\\nF,0.595,0.47,0.155,1.121,0.4515,0.178,0.155,11\\nF,0.595,0.45,0.15,1.114,0.5865,0.2205,0.25,11\\nM,0.595,0.475,0.165,1.213,0.621,0.2435,0.274,9\\nF,0.595,0.46,0.14,1.0045,0.4655,0.2095,0.2515,9\\nM,0.595,0.455,0.15,1.044,0.518,0.2205,0.27,9\\nF,0.605,0.49,0.15,1.1345,0.5265,0.2645,0.295,9\\nM,0.605,0.475,0.155,1.161,0.572,0.2455,0.275,9\\nM,0.605,0.47,0.165,1.2315,0.6025,0.262,0.2925,11\\nM,0.61,0.47,0.15,1.1625,0.565,0.258,0.3085,11\\nM,0.61,0.475,0.155,1.168,0.554,0.239,0.3295,10\\nF,0.615,0.48,0.16,1.2525,0.585,0.2595,0.33,8\\nF,0.62,0.51,0.18,1.3315,0.594,0.276,0.388,11\\nF,0.625,0.48,0.17,1.3525,0.6235,0.278,0.365,10\\nM,0.625,0.49,0.175,1.3325,0.5705,0.271,0.405,10\\nF,0.625,0.475,0.175,1.1435,0.4755,0.2475,0.349,10\\nF,0.625,0.5,0.165,1.288,0.573,0.3035,0.315,9\\nF,0.625,0.485,0.2,1.38,0.5845,0.302,0.401,9\\nM,0.63,0.485,0.155,1.278,0.637,0.275,0.31,8\\nF,0.63,0.495,0.165,1.3075,0.599,0.284,0.315,11\\nM,0.63,0.48,0.15,1.1785,0.5185,0.248,0.3235,8\\nM,0.635,0.49,0.175,1.375,0.623,0.2705,0.395,11\\nM,0.635,0.525,0.185,1.4065,0.684,0.3,0.3745,10\\nM,0.64,0.505,0.155,1.4025,0.705,0.2655,0.335,10\\nF,0.64,0.5,0.17,1.5175,0.693,0.326,0.409,11\\nF,0.64,0.5,0.175,1.394,0.4935,0.291,0.4,10\\nF,0.645,0.5,0.155,1.2205,0.6145,0.236,0.3185,10\\nM,0.645,0.52,0.175,1.636,0.779,0.342,0.432,11\\nM,0.645,0.52,0.175,1.561,0.709,0.3555,0.4,8\\nF,0.645,0.505,0.165,1.4325,0.684,0.308,0.336,8\\nM,0.645,0.5,0.175,1.3385,0.633,0.299,0.349,11\\nF,0.645,0.5,0.16,1.2465,0.5475,0.327,0.3,10\\nF,0.645,0.515,0.15,1.212,0.515,0.2055,0.385,10\\nM,0.65,0.495,0.16,1.304,0.57,0.312,0.3725,9\\nM,0.65,0.52,0.21,1.6785,0.6665,0.308,0.46,11\\nM,0.65,0.525,0.185,1.622,0.6645,0.3225,0.477,10\\nF,0.655,0.46,0.16,1.494,0.6895,0.331,0.1825,9\\nF,0.655,0.51,0.175,1.6525,0.8515,0.3365,0.403,10\\nF,0.66,0.505,0.185,1.528,0.69,0.3025,0.441,11\\nM,0.66,0.535,0.19,1.5905,0.6425,0.297,0.5175,9\\nM,0.66,0.495,0.195,1.6275,0.594,0.3595,0.485,10\\nF,0.66,0.475,0.18,1.3695,0.641,0.294,0.335,6\\nM,0.67,0.525,0.165,1.6085,0.682,0.3145,0.4005,11\\nF,0.675,0.57,0.225,1.587,0.739,0.2995,0.435,10\\nF,0.675,0.565,0.195,1.8375,0.7645,0.3615,0.553,12\\nM,0.68,0.535,0.185,1.607,0.7245,0.3215,0.498,12\\nM,0.69,0.525,0.175,1.7005,0.8255,0.362,0.405,8\\nM,0.69,0.505,0.2,1.872,0.893,0.4015,0.48,10\\nF,0.695,0.535,0.175,1.8385,0.8035,0.396,0.503,10\\nF,0.705,0.535,0.18,1.685,0.693,0.42,0.4045,12\\nM,0.71,0.565,0.205,2.198,1.012,0.5225,0.5475,11\\nM,0.715,0.565,0.175,1.9525,0.7645,0.4185,0.4135,10\\nF,0.715,0.525,0.185,1.56,0.6655,0.383,0.405,11\\nF,0.735,0.6,0.22,2.555,1.1335,0.44,0.6,11\\nM,0.765,0.6,0.22,2.302,1.007,0.509,0.6205,12\\nI,0.185,0.13,0.045,0.029,0.012,0.0075,0.0095,4\\nI,0.195,0.15,0.045,0.0375,0.018,0.006,0.011,3\\nI,0.195,0.135,0.04,0.0325,0.0135,0.005,0.0095,4\\nI,0.2,0.155,0.04,0.0435,0.0155,0.009,0.007,4\\nI,0.225,0.165,0.055,0.059,0.027,0.0125,0.015,4\\nI,0.245,0.18,0.065,0.071,0.03,0.013,0.0215,4\\nI,0.25,0.18,0.065,0.0685,0.0245,0.0155,0.0225,5\\nI,0.265,0.195,0.055,0.084,0.0365,0.0175,0.025,7\\nI,0.275,0.195,0.065,0.106,0.054,0.02,0.028,6\\nI,0.28,0.21,0.085,0.1075,0.0415,0.024,0.034,5\\nI,0.285,0.22,0.065,0.096,0.0405,0.0205,0.03,5\\nI,0.3,0.22,0.08,0.1255,0.055,0.0265,0.039,6\\nI,0.315,0.235,0.055,0.151,0.065,0.027,0.039,6\\nI,0.32,0.225,0.085,0.1415,0.0675,0.0295,0.0405,6\\nI,0.34,0.265,0.08,0.2015,0.09,0.0475,0.055,5\\nI,0.37,0.28,0.1,0.221,0.1165,0.0265,0.0635,6\\nI,0.375,0.28,0.08,0.2345,0.1125,0.0455,0.067,6\\nI,0.375,0.275,0.1,0.2325,0.1165,0.042,0.065,6\\nI,0.385,0.29,0.08,0.2485,0.122,0.0495,0.065,7\\nI,0.4,0.32,0.095,0.348,0.194,0.053,0.087,6\\nI,0.405,0.3,0.11,0.32,0.172,0.044,0.093,7\\nI,0.41,0.3,0.1,0.282,0.1255,0.057,0.0875,7\\nI,0.41,0.325,0.1,0.3245,0.132,0.072,0.106,6\\nI,0.42,0.3,0.105,0.316,0.1255,0.07,0.1035,7\\nI,0.42,0.32,0.11,0.3625,0.174,0.0635,0.105,7\\nI,0.42,0.31,0.095,0.279,0.1255,0.051,0.088,6\\nI,0.425,0.325,0.115,0.3685,0.162,0.0865,0.1045,7\\nM,0.43,0.335,0.12,0.397,0.1985,0.0865,0.1035,7\\nI,0.435,0.33,0.11,0.413,0.2055,0.096,0.096,6\\nI,0.435,0.345,0.115,0.418,0.222,0.0735,0.106,7\\nI,0.44,0.33,0.11,0.3705,0.1545,0.084,0.12,7\\nI,0.445,0.345,0.105,0.409,0.1675,0.1015,0.117,7\\nI,0.445,0.34,0.145,0.434,0.1945,0.0905,0.13,7\\nI,0.445,0.335,0.11,0.411,0.1985,0.0935,0.109,8\\nI,0.45,0.365,0.125,0.462,0.2135,0.0985,0.1315,8\\nI,0.45,0.34,0.12,0.4925,0.241,0.1075,0.12,6\\nI,0.45,0.33,0.105,0.3715,0.1865,0.0785,0.0975,7\\nI,0.45,0.33,0.1,0.411,0.1945,0.1,0.098,6\\nI,0.45,0.33,0.11,0.3685,0.16,0.0885,0.102,6\\nI,0.46,0.35,0.115,0.4155,0.18,0.098,0.1175,7\\nM,0.47,0.36,0.105,0.544,0.27,0.1395,0.129,7\\nI,0.47,0.38,0.125,0.4845,0.211,0.1075,0.142,6\\nI,0.475,0.35,0.11,0.4565,0.206,0.099,0.13,6\\nI,0.475,0.35,0.1,0.4545,0.2165,0.111,0.115,7\\nI,0.48,0.38,0.125,0.6245,0.3395,0.1085,0.1665,8\\nM,0.49,0.465,0.125,0.5225,0.235,0.13,0.141,7\\nI,0.5,0.375,0.14,0.5495,0.248,0.112,0.1585,7\\nI,0.5,0.375,0.12,0.542,0.215,0.116,0.17,9\\nI,0.5,0.38,0.125,0.519,0.2485,0.1135,0.134,8\\nM,0.5,0.39,0.125,0.5215,0.2485,0.117,0.131,6\\nF,0.505,0.39,0.125,0.5445,0.246,0.15,0.1405,7\\nI,0.51,0.405,0.125,0.6795,0.3465,0.1395,0.182,8\\nF,0.51,0.4,0.125,0.545,0.261,0.115,0.1385,6\\nI,0.51,0.4,0.125,0.5575,0.2615,0.1195,0.1525,9\\nI,0.51,0.38,0.115,0.5155,0.215,0.1135,0.166,8\\nI,0.515,0.385,0.125,0.6115,0.3175,0.1265,0.15,8\\nM,0.52,0.4,0.145,0.7765,0.3525,0.1845,0.185,9\\nI,0.52,0.38,0.135,0.5395,0.2295,0.133,0.157,8\\nI,0.52,0.38,0.125,0.5545,0.288,0.1295,0.167,8\\nF,0.52,0.46,0.15,1.019,0.523,0.1985,0.254,7\\nI,0.525,0.4,0.13,0.6455,0.325,0.1245,0.17,8\\nI,0.525,0.4,0.14,0.601,0.2625,0.1285,0.1835,9\\nM,0.525,0.405,0.12,0.7555,0.3755,0.1555,0.201,9\\nI,0.525,0.395,0.12,0.608,0.297,0.1395,0.1405,8\\nI,0.53,0.4,0.125,0.617,0.279,0.127,0.19,8\\nI,0.535,0.39,0.125,0.599,0.2595,0.149,0.169,9\\nI,0.54,0.42,0.14,0.6665,0.3125,0.138,0.1895,10\\nM,0.545,0.39,0.135,0.7835,0.4225,0.1815,0.156,7\\nM,0.545,0.41,0.12,0.793,0.434,0.1405,0.19,9\\nM,0.545,0.415,0.14,0.82,0.4615,0.127,0.218,9\\nF,0.55,0.415,0.135,0.8145,0.427,0.1855,0.175,8\\nF,0.55,0.43,0.15,0.84,0.395,0.195,0.223,8\\nM,0.55,0.425,0.15,0.8315,0.411,0.1765,0.2165,10\\nM,0.56,0.43,0.145,0.8995,0.464,0.1775,0.234,9\\nM,0.56,0.445,0.16,0.8965,0.42,0.2175,0.2215,8\\nF,0.56,0.44,0.155,0.6405,0.336,0.1765,0.245,8\\nM,0.56,0.415,0.145,0.852,0.43,0.1885,0.205,8\\nM,0.565,0.455,0.15,0.9595,0.4565,0.2395,0.23,9\\nM,0.565,0.435,0.15,0.99,0.5795,0.1825,0.206,8\\nF,0.565,0.45,0.175,1.0095,0.447,0.2375,0.2645,9\\nM,0.57,0.46,0.15,1.0375,0.5415,0.2035,0.25,9\\nF,0.57,0.445,0.145,0.8775,0.412,0.217,0.22,8\\nI,0.57,0.44,0.15,0.755,0.3425,0.16,0.224,8\\nF,0.575,0.46,0.145,0.9945,0.466,0.229,0.265,7\\nF,0.575,0.45,0.16,1.068,0.556,0.214,0.2575,10\\nM,0.575,0.435,0.14,0.8455,0.401,0.191,0.222,9\\nF,0.575,0.47,0.165,0.869,0.435,0.197,0.238,9\\nM,0.575,0.455,0.135,0.907,0.4245,0.197,0.26,9\\nI,0.575,0.435,0.13,0.805,0.3155,0.2155,0.245,10\\nM,0.575,0.445,0.17,1.0225,0.549,0.2175,0.228,9\\nM,0.575,0.445,0.145,0.847,0.415,0.1945,0.22,9\\nM,0.58,0.455,0.15,1.114,0.4765,0.2155,0.265,8\\nM,0.58,0.455,0.195,1.859,0.945,0.426,0.441,9\\nM,0.58,0.445,0.135,0.814,0.3775,0.1915,0.22,9\\nM,0.58,0.45,0.14,0.9615,0.486,0.1815,0.253,9\\nM,0.58,0.45,0.145,1.0025,0.547,0.1975,0.2295,8\\nF,0.58,0.45,0.155,0.93,0.385,0.246,0.265,9\\nM,0.585,0.46,0.145,0.9335,0.478,0.1825,0.235,9\\nM,0.585,0.465,0.16,0.9555,0.4595,0.236,0.265,7\\nM,0.59,0.47,0.15,0.9955,0.481,0.232,0.24,8\\nF,0.6,0.475,0.16,1.0265,0.485,0.2495,0.2565,9\\nM,0.6,0.455,0.17,1.1915,0.696,0.2395,0.24,8\\nF,0.6,0.465,0.15,1.1025,0.5455,0.262,0.25,8\\nM,0.6,0.465,0.155,1.0165,0.512,0.2465,0.225,10\\nF,0.605,0.47,0.165,1.1775,0.611,0.2275,0.292,9\\nM,0.605,0.475,0.14,1.1175,0.555,0.257,0.274,9\\nM,0.605,0.48,0.17,1.1835,0.582,0.2365,0.317,10\\nF,0.605,0.475,0.165,1.056,0.433,0.2195,0.357,9\\nM,0.61,0.485,0.16,1.0145,0.5315,0.212,0.2415,8\\nM,0.61,0.485,0.145,1.3305,0.783,0.2255,0.2865,9\\nM,0.61,0.47,0.165,1.052,0.498,0.242,0.267,9\\nM,0.615,0.46,0.17,1.0565,0.4815,0.272,0.27,10\\nF,0.615,0.465,0.15,0.923,0.4615,0.1825,0.2415,9\\nF,0.615,0.475,0.155,1.027,0.447,0.25,0.285,9\\nM,0.62,0.47,0.135,1.0195,0.5315,0.2005,0.2475,8\\nM,0.62,0.45,0.2,0.858,0.4285,0.1525,0.2405,8\\nF,0.62,0.48,0.16,1.1125,0.5635,0.2445,0.281,8\\nF,0.625,0.485,0.175,1.3745,0.7335,0.2715,0.332,9\\nM,0.625,0.48,0.185,1.2065,0.587,0.29,0.286,8\\nM,0.63,0.47,0.155,1.1325,0.589,0.211,0.287,8\\nM,0.63,0.5,0.175,1.2645,0.5635,0.3065,0.3425,10\\nF,0.635,0.495,0.015,1.1565,0.5115,0.308,0.2885,9\\nM,0.64,0.515,0.165,1.369,0.632,0.3415,0.358,10\\nM,0.645,0.53,0.195,1.39,0.6465,0.2945,0.3735,10\\nF,0.645,0.48,0.17,1.1345,0.528,0.254,0.305,10\\nF,0.65,0.5,0.19,1.464,0.6415,0.339,0.4245,9\\nM,0.65,0.5,0.155,1.202,0.565,0.3135,0.294,11\\nM,0.655,0.515,0.16,1.31,0.553,0.369,0.345,11\\nF,0.655,0.51,0.175,1.415,0.5885,0.3725,0.364,10\\nF,0.66,0.53,0.185,1.346,0.546,0.2705,0.476,11\\nM,0.665,0.525,0.16,1.363,0.629,0.279,0.34,8\\nI,0.665,0.5,0.17,1.2975,0.6035,0.291,0.3595,9\\nF,0.67,0.505,0.205,1.3645,0.6075,0.3025,0.353,9\\nF,0.685,0.54,0.215,1.7025,0.664,0.3655,0.4735,14\\nM,0.685,0.52,0.165,1.519,0.699,0.3685,0.4,10\\nF,0.69,0.54,0.155,1.454,0.624,0.3105,0.39,9\\nM,0.69,0.53,0.21,1.583,0.7355,0.405,0.3865,12\\nF,0.69,0.53,0.17,1.5535,0.7945,0.3485,0.3695,9\\nM,0.695,0.56,0.185,1.74,0.885,0.3715,0.4375,10\\nM,0.7,0.565,0.18,1.751,0.895,0.3355,0.446,9\\nM,0.7,0.575,0.19,2.273,1.095,0.418,0.638,12\\nF,0.7,0.525,0.19,1.6465,0.8545,0.307,0.3995,9\\nF,0.705,0.55,0.17,1.219,0.6395,0.236,0.301,9\\nF,0.71,0.56,0.18,1.652,0.735,0.381,0.4525,11\\nM,0.715,0.55,0.19,2.0045,1.0465,0.407,0.5075,12\\nM,0.715,0.535,0.19,1.6755,0.889,0.313,0.42,10\\nF,0.72,0.58,0.195,2.103,1.0265,0.48,0.5375,10\\nF,0.72,0.55,0.2,1.9965,0.9035,0.469,0.5215,10\\nM,0.72,0.565,0.145,1.187,0.691,0.1945,0.2685,8\\nM,0.725,0.505,0.185,1.978,1.026,0.4255,0.4505,12\\nF,0.73,0.575,0.185,1.8795,0.931,0.38,0.4825,12\\nM,0.735,0.585,0.185,2.124,0.952,0.55,0.5,11\\nM,0.745,0.565,0.215,1.931,0.896,0.4585,0.5,11\\nF,0.75,0.57,0.21,2.236,1.109,0.5195,0.545,11\\nF,0.755,0.625,0.21,2.505,1.1965,0.513,0.6785,11\\nM,0.755,0.58,0.205,2.0065,0.8295,0.4015,0.595,10\\nF,0.78,0.63,0.215,2.657,1.488,0.4985,0.586,11\\nI,0.185,0.375,0.12,0.4645,0.196,0.1045,0.15,6\\nI,0.245,0.205,0.06,0.0765,0.034,0.014,0.0215,4\\nI,0.25,0.185,0.065,0.0685,0.0295,0.014,0.0225,5\\nI,0.25,0.19,0.065,0.0835,0.039,0.015,0.025,5\\nI,0.275,0.195,0.09,0.1125,0.0545,0.0295,0.0355,6\\nI,0.305,0.215,0.065,0.1075,0.044,0.0205,0.038,5\\nI,0.31,0.225,0.07,0.1055,0.435,0.015,0.04,5\\nI,0.315,0.23,0.08,0.1375,0.0545,0.031,0.0445,5\\nI,0.315,0.23,0.07,0.1145,0.046,0.0235,0.0385,5\\nI,0.325,0.225,0.075,0.139,0.0565,0.032,0.09,6\\nI,0.33,0.25,0.095,0.2085,0.102,0.0395,0.052,7\\nI,0.33,0.205,0.095,0.1595,0.077,0.032,0.0435,5\\nI,0.335,0.245,0.09,0.2015,0.096,0.0405,0.048,7\\nI,0.34,0.25,0.09,0.179,0.0775,0.033,0.055,6\\nI,0.345,0.255,0.095,0.1945,0.0925,0.037,0.055,6\\nI,0.345,0.255,0.085,0.2005,0.105,0.037,0.05,5\\nI,0.35,0.27,0.075,0.215,0.1,0.036,0.065,6\\nI,0.35,0.255,0.09,0.1785,0.0855,0.0305,0.0525,8\\nI,0.36,0.27,0.085,0.196,0.0875,0.035,0.064,4\\nI,0.365,0.27,0.085,0.1875,0.081,0.042,0.058,6\\nI,0.365,0.27,0.085,0.196,0.0825,0.0375,0.06,7\\nI,0.365,0.265,0.085,0.213,0.0945,0.049,0.06,7\\nI,0.37,0.29,0.09,0.2445,0.089,0.0655,0.075,7\\nI,0.37,0.28,0.085,0.217,0.1095,0.035,0.062,6\\nI,0.375,0.29,0.095,0.213,0.096,0.041,0.061,5\\nI,0.375,0.29,0.085,0.2385,0.118,0.045,0.0695,7\\nI,0.375,0.275,0.09,0.218,0.093,0.0405,0.0755,6\\nI,0.375,0.275,0.095,0.2465,0.11,0.0415,0.0775,6\\nI,0.375,0.28,0.08,0.2025,0.0825,0.048,0.065,8\\nI,0.375,0.27,0.085,0.218,0.0945,0.039,0.07,7\\nI,0.38,0.275,0.11,0.256,0.11,0.0535,0.0755,6\\nI,0.38,0.27,0.08,0.2105,0.0865,0.042,0.07,8\\nI,0.385,0.29,0.09,0.2615,0.111,0.0595,0.0745,9\\nI,0.385,0.28,0.085,0.2175,0.097,0.038,0.067,8\\nI,0.385,0.3,0.095,0.302,0.152,0.0615,0.0735,7\\nI,0.385,0.28,0.09,0.228,0.1025,0.042,0.0655,5\\nI,0.39,0.3,0.095,0.3265,0.1665,0.0575,0.089,7\\nI,0.395,0.305,0.105,0.284,0.1135,0.0595,0.0945,8\\nI,0.395,0.295,0.095,0.2725,0.115,0.0625,0.085,8\\nI,0.395,0.27,0.1,0.2985,0.1445,0.061,0.082,5\\nI,0.4,0.29,0.1,0.2675,0.1205,0.0605,0.0765,5\\nI,0.405,0.285,0.09,0.2645,0.1265,0.0505,0.075,6\\nI,0.41,0.335,0.11,0.33,0.157,0.0705,0.17,7\\nI,0.42,0.305,0.09,0.328,0.168,0.0615,0.082,6\\nI,0.425,0.325,0.11,0.3335,0.173,0.045,0.1,7\\nI,0.425,0.32,0.1,0.3055,0.126,0.06,0.106,7\\nI,0.425,0.31,0.09,0.301,0.1385,0.065,0.08,7\\nI,0.43,0.34,0,0.428,0.2065,0.086,0.115,8\\nI,0.43,0.315,0.095,0.378,0.175,0.08,0.1045,8\\nI,0.435,0.315,0.11,0.3685,0.1615,0.0715,0.12,7\\nI,0.44,0.34,0.12,0.438,0.2115,0.083,0.12,9\\nI,0.45,0.33,0.105,0.448,0.208,0.089,0.12,9\\nI,0.455,0.345,0.105,0.4005,0.164,0.0755,0.126,8\\nF,0.455,0.365,0.115,0.4305,0.184,0.108,0.1245,8\\nI,0.455,0.33,0.1,0.372,0.358,0.0775,0.11,8\\nI,0.46,0.36,0.105,0.466,0.2225,0.099,0.11,7\\nI,0.46,0.35,0.105,0.3705,0.1575,0.077,0.114,9\\nF,0.46,0.365,0.125,0.4785,0.206,0.1045,0.141,8\\nI,0.465,0.34,0.11,0.346,0.1425,0.073,0.113,11\\nI,0.47,0.365,0.1,0.411,0.175,0.0855,0.135,8\\nI,0.47,0.355,0.18,0.48,0.2055,0.105,0.1505,8\\nI,0.47,0.355,0.12,0.393,0.167,0.0885,0.115,8\\nI,0.475,0.355,0.1,0.5035,0.2535,0.091,0.14,8\\nI,0.475,0.38,0.12,0.441,0.1785,0.0885,0.1505,8\\nI,0.475,0.36,0.11,0.492,0.211,0.11,0.15,8\\nI,0.48,0.37,0.125,0.5435,0.244,0.101,0.165,9\\nI,0.48,0.355,0.115,0.4725,0.2065,0.112,0.132,8\\nI,0.48,0.365,0.1,0.461,0.2205,0.0835,0.135,8\\nI,0.495,0.355,0.12,0.4965,0.214,0.1045,0.1495,8\\nI,0.495,0.38,0.13,0.5125,0.2185,0.116,0.16,7\\nM,0.495,0.395,0.12,0.553,0.224,0.1375,0.167,8\\nI,0.5,0.38,0.135,0.594,0.2945,0.104,0.1565,9\\nM,0.5,0.42,0.135,0.6765,0.302,0.1415,0.2065,9\\nI,0.5,0.375,0.145,0.5795,0.239,0.1375,0.185,9\\nI,0.5,0.41,0.14,0.6615,0.2585,0.1625,0.196,9\\nI,0.5,0.375,0.125,0.5695,0.259,0.124,0.157,7\\nI,0.5,0.395,0.14,0.6215,0.2925,0.1205,0.195,9\\nI,0.505,0.405,0.13,0.6015,0.3015,0.11,0.18,8\\nI,0.505,0.38,0.12,0.594,0.2595,0.1435,0.18,7\\nI,0.505,0.395,0.105,0.551,0.248,0.103,0.171,8\\nI,0.515,0.38,0.12,0.625,0.3265,0.1295,0.16,7\\nI,0.515,0.42,0.135,0.711,0.337,0.144,0.205,13\\nI,0.515,0.4,0.135,0.6965,0.32,0.1255,0.175,9\\nI,0.52,0.4,0.13,0.5825,0.233,0.1365,0.18,10\\nI,0.52,0.395,0.125,0.663,0.3005,0.131,0.1905,9\\nI,0.525,0.4,0.125,0.6965,0.369,0.1385,0.164,9\\nM,0.525,0.42,0.155,0.842,0.428,0.1415,0.2045,9\\nI,0.53,0.415,0.13,0.694,0.3905,0.111,0.167,9\\nI,0.53,0.42,0.155,0.81,0.4725,0.111,0.192,10\\nI,0.53,0.415,0.11,0.5745,0.2525,0.1235,0.189,9\\nI,0.53,0.425,0.13,0.7675,0.419,0.1205,0.21,9\\nI,0.535,0.4,0.135,0.6025,0.2895,0.121,0.154,9\\nI,0.535,0.415,0.15,0.5765,0.3595,0.135,0.225,8\\nF,0.535,0.41,0.13,0.7145,0.335,0.144,0.2075,9\\nM,0.535,0.435,0.15,0.717,0.3475,0.1445,0.194,9\\nF,0.54,0.42,0.145,0.8655,0.4315,0.163,0.2175,10\\nI,0.54,0.42,0.14,0.7265,0.3205,0.1445,0.229,9\\nI,0.545,0.435,0.135,0.7715,0.372,0.148,0.227,8\\nF,0.545,0.445,0.15,0.8,0.3535,0.163,0.207,9\\nI,0.545,0.43,0.15,0.7285,0.302,0.1315,0.2545,10\\nI,0.545,0.405,0.135,0.5945,0.27,0.1185,0.185,8\\nI,0.55,0.43,0.145,0.7895,0.3745,0.171,0.223,11\\nF,0.55,0.405,0.125,0.651,0.2965,0.137,0.2,9\\nM,0.55,0.43,0.15,0.8745,0.413,0.1905,0.248,9\\nI,0.55,0.435,0.14,0.7535,0.3285,0.1555,0.2325,10\\nI,0.55,0.425,0.135,0.7305,0.3325,0.1545,0.215,9\\nM,0.555,0.44,0.14,0.8705,0.407,0.156,0.255,9\\nI,0.555,0.43,0.155,0.7395,0.3135,0.1435,0.28,10\\nI,0.555,0.43,0.14,0.7665,0.341,0.165,0.23,9\\nI,0.555,0.425,0.145,0.7905,0.3485,0.1765,0.225,9\\nI,0.56,0.425,0.135,0.8205,0.3715,0.185,0.236,9\\nI,0.56,0.425,0.145,0.688,0.3095,0.1305,0.2165,9\\nF,0.56,0.445,0.155,1.224,0.5565,0.3225,0.2695,10\\nI,0.56,0.455,0.145,0.974,0.547,0.1615,0.235,9\\nI,0.565,0.44,0.175,0.8735,0.414,0.21,0.21,11\\nF,0.565,0.45,0.145,0.8495,0.4215,0.1685,0.225,8\\nM,0.565,0.445,0.15,0.796,0.3635,0.184,0.219,8\\nM,0.565,0.39,0.125,0.744,0.352,0.13,0.1685,11\\nI,0.57,0.45,0.145,0.751,0.2825,0.2195,0.2215,10\\nI,0.57,0.45,0.135,0.794,0.3815,0.1415,0.245,8\\nF,0.57,0.46,0.135,0.9795,0.397,0.2525,0.2655,9\\nM,0.57,0.435,0.17,0.873,0.382,0.183,0.2705,10\\nI,0.57,0.44,0.13,0.7665,0.347,0.1785,0.202,10\\nM,0.57,0.435,0.125,0.8965,0.383,0.1835,0.275,9\\nF,0.575,0.42,0.135,0.857,0.461,0.147,0.2125,10\\nF,0.575,0.48,0.165,1.078,0.511,0.2095,0.306,9\\nM,0.575,0.46,0.155,0.892,0.4415,0.176,0.22,10\\nM,0.58,0.46,0.155,1.4395,0.6715,0.273,0.2955,10\\nM,0.58,0.455,0.135,0.7955,0.405,0.167,0.204,10\\nF,0.58,0.445,0.15,0.858,0.4,0.156,0.253,8\\nM,0.585,0.465,0.155,0.9145,0.4555,0.1965,0.235,9\\nM,0.585,0.49,0.185,1.171,0.522,0.2535,0.335,10\\nI,0.585,0.475,0.16,1.0505,0.48,0.234,0.285,10\\nM,0.585,0.46,0.165,1.1135,0.5825,0.2345,0.274,10\\nM,0.585,0.47,0.165,1.409,0.8,0.229,0.295,10\\nM,0.585,0.475,0.15,1.065,0.5315,0.199,0.2885,10\\nM,0.585,0.45,0.18,0.7995,0.336,0.1855,0.237,8\\nI,0.59,0.445,0.135,0.7715,0.328,0.1745,0.23,9\\nM,0.59,0.47,0.18,1.187,0.5985,0.227,0.31,9\\nM,0.59,0.455,0.155,0.8855,0.388,0.188,0.275,10\\nF,0.595,0.465,0.15,0.98,0.4115,0.196,0.2255,10\\nF,0.595,0.465,0.155,1.026,0.4645,0.112,0.305,12\\nM,0.6,0.475,0.17,1.1315,0.508,0.272,0.309,10\\nM,0.6,0.48,0.155,1.014,0.451,0.1885,0.325,11\\nI,0.6,0.475,0.15,1.12,0.565,0.2465,0.27,10\\nF,0.6,0.465,0.155,1.04,0.4755,0.25,0.28,11\\nF,0.6,0.455,0.145,0.8895,0.419,0.1715,0.269,10\\nM,0.6,0.46,0.155,0.9595,0.4455,0.189,0.295,11\\nI,0.605,0.485,0.15,1.238,0.6315,0.226,0.33,11\\nM,0.605,0.49,0.14,0.9755,0.419,0.206,0.315,10\\nI,0.605,0.435,0.13,0.9025,0.432,0.174,0.26,11\\nF,0.605,0.475,0.175,1.076,0.463,0.2195,0.335,9\\nF,0.605,0.47,0.16,1.0835,0.5405,0.2215,0.275,12\\nM,0.61,0.45,0.15,0.871,0.407,0.1835,0.25,10\\nM,0.61,0.48,0.165,1.244,0.6345,0.257,0.305,12\\nM,0.61,0.475,0.17,1.0265,0.435,0.2335,0.3035,10\\nI,0.61,0.465,0.15,0.9605,0.4495,0.1725,0.286,9\\nM,0.61,0.48,0.17,1.137,0.4565,0.29,0.347,10\\nM,0.61,0.46,0.16,1,0.494,0.197,0.275,10\\nF,0.615,0.475,0.155,1.004,0.4475,0.193,0.2895,10\\nM,0.615,0.47,0.165,1.128,0.4465,0.2195,0.34,10\\nM,0.615,0.5,0.17,1.054,0.4845,0.228,0.295,10\\nF,0.615,0.475,0.165,1.023,0.4905,0.1955,0.3035,12\\nM,0.615,0.475,0.17,1.129,0.4795,0.302,0.3,10\\nM,0.615,0.48,0.175,1.118,0.446,0.3195,0.3,9\\nF,0.615,0.475,0.155,1.115,0.484,0.2115,0.355,10\\nM,0.62,0.51,0.175,1.2815,0.5715,0.2385,0.39,10\\nM,0.62,0.495,0.18,1.2555,0.5765,0.254,0.355,12\\nF,0.62,0.5,0.15,1.293,0.596,0.3135,0.354,10\\nF,0.62,0.475,0.16,1.1295,0.463,0.2685,0.33,10\\nM,0.625,0.455,0.17,1.082,0.4955,0.2345,0.315,9\\nF,0.625,0.505,0.175,1.15,0.5475,0.256,0.3045,11\\nF,0.625,0.515,0.16,1.264,0.5715,0.326,0.321,9\\nF,0.625,0.48,0.155,1.2035,0.5865,0.239,0.3185,12\\nF,0.63,0.485,0.17,1.3205,0.5945,0.345,0.345,9\\nI,0.63,0.505,0.18,1.272,0.6025,0.295,0.315,11\\nM,0.63,0.485,0.145,1.062,0.5065,0.1785,0.3365,12\\nI,0.63,0.475,0.145,1.0605,0.5165,0.2195,0.28,10\\nM,0.63,0.495,0.16,1.093,0.497,0.221,0.315,12\\nM,0.635,0.49,0.16,1.101,0.534,0.1865,0.3455,10\\nF,0.635,0.5,0.165,1.4595,0.705,0.2645,0.39,9\\nF,0.635,0.495,0.175,1.211,0.707,0.2725,0.323,9\\nM,0.635,0.475,0.17,1.1935,0.5205,0.2695,0.3665,10\\nM,0.635,0.51,0.155,0.986,0.405,0.2255,0.31,10\\nM,0.64,0.565,0.23,1.521,0.644,0.372,0.406,15\\nM,0.64,0.525,0.18,1.3135,0.4865,0.2995,0.4075,10\\nM,0.645,0.51,0.16,1.1835,0.556,0.2385,0.345,11\\nM,0.645,0.5,0.195,1.401,0.6165,0.3515,0.3725,10\\nM,0.645,0.525,0.16,1.5075,0.7455,0.245,0.4325,11\\nF,0.65,0.505,0.165,1.16,0.4785,0.274,0.349,11\\nF,0.65,0.59,0.22,1.662,0.77,0.378,0.435,11\\nM,0.65,0.525,0.175,1.5365,0.6865,0.3585,0.405,11\\nM,0.65,0.51,0.19,1.542,0.7155,0.3735,0.375,9\\nF,0.65,0.51,0.17,1.567,0.7245,0.349,0.391,10\\nF,0.655,0.525,0.19,1.3595,0.564,0.3215,0.3985,10\\nM,0.655,0.535,0.205,1.6445,0.7305,0.3595,0.46,13\\nF,0.655,0.52,0.19,1.4545,0.6,0.3865,0.383,10\\nM,0.655,0.49,0.175,1.3585,0.6395,0.294,0.365,10\\nF,0.66,0.495,0.21,1.548,0.724,0.3525,0.3925,10\\nF,0.66,0.515,0.17,1.337,0.615,0.3125,0.3575,10\\nF,0.665,0.53,0.18,1.491,0.6345,0.342,0.435,10\\nF,0.67,0.53,0.225,1.5615,0.63,0.487,0.3725,11\\nF,0.67,0.505,0.175,1.0145,0.4375,0.271,0.3745,10\\nM,0.675,0.545,0.185,1.7375,0.876,0.3135,0.469,13\\nM,0.685,0.545,0.205,1.7925,0.8145,0.416,0.461,9\\nF,0.695,0.565,0.19,1.7635,0.7465,0.399,0.4975,11\\nF,0.7,0.545,0.13,1.556,0.6725,0.374,0.195,12\\nM,0.705,0.565,0.515,2.21,1.1075,0.4865,0.512,10\\nM,0.705,0.555,0.215,2.141,1.0465,0.383,0.528,11\\nF,0.705,0.57,0.18,1.5345,0.96,0.4195,0.43,12\\nF,0.71,0.55,0.17,1.614,0.743,0.345,0.45,11\\nF,0.72,0.575,0.17,1.9335,0.913,0.389,0.51,13\\nM,0.72,0.575,0.215,2.173,0.9515,0.564,0.5365,12\\nF,0.725,0.6,0.2,1.737,0.697,0.3585,0.595,11\\nF,0.73,0.58,0.19,1.7375,0.6785,0.4345,0.52,11\\nF,0.735,0.565,0.205,2.1275,0.949,0.46,0.565,12\\nF,0.745,0.57,0.215,2.25,1.1565,0.446,0.558,9\\nF,0.75,0.61,0.235,2.5085,1.232,0.519,0.612,14\\nF,0.815,0.65,0.25,2.255,0.8905,0.42,0.7975,14\\nI,0.14,0.105,0.035,0.014,0.0055,0.0025,0.004,3\\nI,0.23,0.165,0.06,0.0515,0.019,0.0145,0.036,4\\nI,0.365,0.265,0.135,0.2215,0.105,0.047,0.0605,7\\nI,0.365,0.255,0.08,0.1985,0.0785,0.0345,0.053,5\\nI,0.37,0.27,0.095,0.232,0.1325,0.041,0.0615,6\\nI,0.375,0.28,0.085,0.3155,0.187,0.046,0.067,7\\nI,0.385,0.3,0.09,0.247,0.1225,0.044,0.0675,5\\nI,0.395,0.295,0.09,0.3025,0.143,0.0665,0.0765,5\\nI,0.4,0.29,0.11,0.329,0.188,0.0455,0.0825,6\\nI,0.4,0.3,0.09,0.2815,0.1185,0.061,0.08,7\\nI,0.405,0.31,0.095,0.3425,0.1785,0.064,0.0855,8\\nI,0.405,0.29,0.09,0.2825,0.112,0.075,0.0815,7\\nI,0.405,0.3,0.105,0.304,0.1455,0.061,0.0805,6\\nI,0.41,0.32,0.095,0.2905,0.141,0.063,0.073,5\\nM,0.415,0.315,0.115,0.3895,0.2015,0.065,0.103,9\\nI,0.425,0.34,0.105,0.389,0.2015,0.0905,0.088,6\\nI,0.43,0.34,0.105,0.4405,0.2385,0.0745,0.1075,6\\nI,0.44,0.34,0.105,0.369,0.164,0.08,0.1015,5\\nM,0.44,0.32,0.12,0.4565,0.2435,0.092,0.1025,8\\nI,0.44,0.365,0.11,0.4465,0.213,0.089,0.1135,9\\nM,0.45,0.335,0.125,0.4475,0.2165,0.126,0.11,6\\nI,0.455,0.335,0.135,0.501,0.274,0.0995,0.1065,7\\nI,0.46,0.355,0.11,0.436,0.1975,0.096,0.125,8\\nI,0.47,0.345,0.14,0.4615,0.229,0.1105,0.116,9\\nI,0.47,0.35,0.125,0.4315,0.19,0.1165,0.1175,6\\nI,0.47,0.355,0.12,0.3685,0.126,0.0835,0.1365,6\\nM,0.475,0.37,0.125,0.649,0.347,0.136,0.142,8\\nI,0.475,0.365,0.115,0.459,0.2175,0.093,0.1165,7\\nF,0.475,0.365,0.115,0.566,0.281,0.117,0.1335,7\\nI,0.48,0.36,0.125,0.542,0.2795,0.1025,0.147,7\\nI,0.485,0.38,0.12,0.4725,0.2075,0.1075,0.147,6\\nM,0.485,0.39,0.085,0.6435,0.2945,0.103,0.198,8\\nM,0.485,0.37,0.13,0.526,0.2485,0.105,0.1555,6\\nF,0.495,0.38,0.12,0.573,0.2655,0.1285,0.144,7\\nM,0.505,0.385,0.105,0.5525,0.239,0.1245,0.1555,9\\nF,0.505,0.38,0.135,0.6855,0.361,0.1565,0.161,9\\nI,0.515,0.395,0.125,0.556,0.2695,0.096,0.17,8\\nM,0.515,0.425,0.145,0.9365,0.497,0.181,0.2185,8\\nI,0.515,0.4,0.125,0.5625,0.25,0.1245,0.17,7\\nM,0.52,0.4,0.125,0.559,0.254,0.139,0.149,8\\nM,0.525,0.4,0.14,0.7205,0.3685,0.145,0.1735,8\\nI,0.53,0.43,0.13,0.7045,0.346,0.1415,0.189,9\\nM,0.53,0.4,0.125,0.7575,0.398,0.151,0.175,8\\nF,0.545,0.41,0.14,0.7405,0.3565,0.1775,0.203,9\\nF,0.55,0.43,0.14,0.84,0.375,0.218,0.1945,8\\nM,0.55,0.425,0.16,0.793,0.343,0.2035,0.215,9\\nF,0.56,0.43,0.15,0.8745,0.453,0.161,0.22,8\\nF,0.56,0.435,0.15,0.8715,0.4755,0.1835,0.1835,9\\nM,0.57,0.445,0.15,0.9875,0.504,0.207,0.249,8\\nM,0.575,0.465,0.15,1.08,0.595,0.2065,0.238,9\\nM,0.575,0.46,0.165,0.9155,0.4005,0.2465,0.2385,8\\nF,0.58,0.46,0.175,1.165,0.65,0.2205,0.3055,9\\nF,0.58,0.435,0.14,0.953,0.475,0.2165,0.2095,9\\nM,0.585,0.455,0.15,0.906,0.4095,0.23,0.2335,8\\nM,0.59,0.44,0.15,0.8725,0.387,0.215,0.245,8\\nF,0.59,0.465,0.15,1.151,0.613,0.239,0.2515,9\\nF,0.59,0.46,0.145,0.9905,0.453,0.2205,0.275,8\\nF,0.595,0.455,0.16,1.04,0.452,0.2655,0.288,9\\nM,0.6,0.455,0.155,0.945,0.4365,0.2085,0.25,8\\nM,0.6,0.465,0.2,1.259,0.6405,0.1985,0.357,9\\nF,0.605,0.485,0.165,0.9515,0.4535,0.193,0.2765,11\\nF,0.605,0.485,0.16,1.201,0.417,0.2875,0.38,9\\nF,0.605,0.515,0.17,1.289,0.6,0.2945,0.3315,9\\nF,0.61,0.485,0.17,1.1005,0.5125,0.229,0.305,11\\nI,0.615,0.475,0.13,0.8425,0.353,0.1915,0.251,8\\nM,0.62,0.485,0.155,1.049,0.462,0.231,0.25,10\\nF,0.62,0.435,0.155,1.012,0.477,0.236,0.275,8\\nM,0.62,0.48,0.165,1.0725,0.4815,0.235,0.312,9\\nM,0.625,0.52,0.175,1.4105,0.691,0.322,0.3465,10\\nM,0.625,0.47,0.18,1.136,0.451,0.3245,0.305,11\\nM,0.63,0.47,0.145,1.1005,0.52,0.26,0.276,9\\nF,0.63,0.5,0.175,1.1105,0.467,0.268,0.329,10\\nM,0.63,0.455,0.15,1.1315,0.481,0.2745,0.305,9\\nM,0.63,0.48,0.15,1.271,0.6605,0.2425,0.31,11\\nF,0.63,0.49,0.225,1.336,0.6805,0.259,0.3245,10\\nF,0.635,0.505,0.145,1.1345,0.505,0.2655,0.315,10\\nM,0.635,0.51,0.185,1.308,0.544,0.318,0.377,8\\nF,0.64,0.515,0.205,1.5335,0.6635,0.3345,0.4025,9\\nF,0.645,0.515,0.175,1.546,0.7035,0.365,0.415,10\\nM,0.645,0.51,0.155,1.539,0.6405,0.3585,0.43,11\\nF,0.645,0.505,0.165,1.318,0.55,0.3015,0.335,11\\nF,0.65,0.545,0.175,1.5245,0.59,0.326,0.495,10\\nM,0.65,0.515,0.175,1.466,0.677,0.3045,0.4,10\\nF,0.65,0.5,0.16,1.3825,0.702,0.304,0.3195,9\\nM,0.65,0.485,0.14,1.175,0.475,0.2435,0.215,8\\nF,0.655,0.54,0.215,1.5555,0.695,0.296,0.444,11\\nM,0.655,0.51,0.215,1.7835,0.8885,0.4095,0.4195,11\\nM,0.66,0.505,0.165,1.374,0.589,0.351,0.345,10\\nF,0.665,0.515,0.18,1.389,0.5945,0.324,0.395,10\\nM,0.67,0.545,0.2,1.7025,0.833,0.374,0.41,11\\nM,0.67,0.51,0.175,1.5265,0.651,0.4475,0.345,10\\nM,0.67,0.5,0.19,1.519,0.616,0.388,0.415,10\\nF,0.68,0.5,0.185,1.741,0.7665,0.3255,0.4685,12\\nM,0.68,0.515,0.17,1.6115,0.8415,0.306,0.395,11\\nM,0.69,0.525,0.2,1.7825,0.9165,0.3325,0.461,12\\nF,0.7,0.55,0.17,1.684,0.7535,0.3265,0.32,11\\nM,0.7,0.555,0.2,1.858,0.73,0.3665,0.595,11\\nM,0.705,0.56,0.165,1.675,0.797,0.4095,0.388,10\\nM,0.72,0.565,0.2,2.1055,1.017,0.363,0.494,12\\nM,0.725,0.575,0.24,2.21,1.351,0.413,0.5015,13\\nM,0.74,0.57,0.18,1.8725,0.9115,0.427,0.446,10\\nM,0.75,0.55,0.18,1.893,0.942,0.397,0.445,11\\nI,0.21,0.17,0.045,0.0475,0.019,0.011,0.013,5\\nI,0.285,0.21,0.055,0.101,0.0415,0.017,0.0335,5\\nI,0.295,0.215,0.07,0.121,0.047,0.0155,0.0405,6\\nI,0.3,0.23,0.085,0.117,0.05,0.0175,0.0415,6\\nI,0.305,0.225,0.09,0.1465,0.063,0.034,0.0415,6\\nI,0.335,0.255,0.08,0.168,0.079,0.0355,0.05,5\\nI,0.35,0.26,0.075,0.18,0.09,0.0245,0.055,5\\nI,0.355,0.27,0.075,0.1775,0.079,0.0315,0.054,6\\nI,0.355,0.26,0.09,0.1985,0.0715,0.0495,0.058,7\\nI,0.36,0.27,0.095,0.2,0.073,0.056,0.061,8\\nI,0.36,0.275,0.075,0.2205,0.0985,0.044,0.066,7\\nI,0.36,0.265,0.075,0.1845,0.083,0.0365,0.055,7\\nI,0.365,0.27,0.085,0.2225,0.0935,0.0525,0.066,7\\nI,0.37,0.27,0.095,0.2175,0.097,0.046,0.065,6\\nI,0.375,0.28,0.08,0.2165,0.0935,0.0925,0.07,7\\nI,0.38,0.285,0.095,0.243,0.0895,0.0665,0.075,7\\nI,0.38,0.29,0.1,0.237,0.108,0.0395,0.082,6\\nI,0.385,0.29,0.09,0.2365,0.1,0.0505,0.076,8\\nI,0.385,0.28,0.095,0.257,0.119,0.059,0.07,7\\nI,0.385,0.3,0.09,0.308,0.1525,0.056,0.0835,8\\nI,0.39,0.3,0.09,0.252,0.1065,0.053,0.08,7\\nI,0.39,0.285,0.1,0.281,0.1275,0.062,0.077,7\\nI,0.39,0.29,0.1,0.2225,0.095,0.0465,0.073,7\\nI,0.41,0.3,0.09,0.304,0.129,0.071,0.0955,8\\nI,0.41,0.3,0.09,0.28,0.141,0.0575,0.075,8\\nI,0.415,0.325,0.1,0.313,0.139,0.0625,0.0965,7\\nI,0.425,0.325,0.11,0.317,0.135,0.048,0.09,8\\nI,0.425,0.315,0.08,0.303,0.131,0.0585,0.095,7\\nI,0.435,0.335,0.1,0.3295,0.129,0.07,0.11,7\\nI,0.435,0.325,0.11,0.367,0.1595,0.08,0.105,6\\nI,0.45,0.34,0.095,0.3245,0.1385,0.064,0.105,8\\nI,0.45,0.335,0.11,0.4195,0.181,0.085,0.1345,7\\nI,0.455,0.36,0.115,0.457,0.2085,0.0855,0.147,10\\nI,0.46,0.35,0.11,0.4,0.176,0.083,0.1205,7\\nI,0.46,0.355,0.11,0.4255,0.2015,0.081,0.13,7\\nI,0.465,0.37,0.12,0.4365,0.188,0.0815,0.147,9\\nI,0.465,0.345,0.11,0.393,0.1825,0.0735,0.12,8\\nI,0.47,0.355,0.125,0.499,0.21,0.0985,0.155,8\\nI,0.475,0.36,0.145,0.6325,0.2825,0.137,0.19,8\\nM,0.475,0.36,0.1,0.4285,0.1965,0.099,0.112,7\\nI,0.475,0.36,0.125,0.4905,0.205,0.1305,0.125,8\\nI,0.48,0.37,0.125,0.474,0.179,0.1035,0.175,9\\nI,0.48,0.37,0.12,0.536,0.251,0.114,0.15,8\\nM,0.48,0.355,0.16,0.464,0.221,0.106,0.239,8\\nI,0.485,0.375,0.13,0.6025,0.2935,0.1285,0.16,7\\nI,0.49,0.375,0.115,0.4615,0.204,0.0945,0.143,8\\nI,0.49,0.4,0.135,0.624,0.3035,0.1285,0.169,8\\nI,0.495,0.37,0.125,0.4715,0.2075,0.091,0.15,8\\nI,0.495,0.4,0.105,0.602,0.2505,0.1265,0.19,8\\nI,0.5,0.4,0.12,0.616,0.261,0.143,0.1935,8\\nI,0.5,0.39,0.12,0.5955,0.2455,0.147,0.173,8\\nI,0.5,0.375,0.14,0.559,0.2375,0.135,0.169,9\\nI,0.51,0.395,0.13,0.6025,0.281,0.143,0.162,7\\nF,0.515,0.375,0.11,0.6065,0.3005,0.131,0.15,6\\nI,0.515,0.36,0.125,0.4725,0.1815,0.125,0.138,9\\nI,0.515,0.35,0.105,0.4745,0.213,0.123,0.1275,10\\nI,0.515,0.395,0.125,0.6635,0.32,0.14,0.17,8\\nI,0.515,0.39,0.125,0.5705,0.238,0.1265,0.185,8\\nI,0.52,0.41,0.145,0.646,0.2965,0.1595,0.165,9\\nI,0.52,0.39,0.13,0.5545,0.2355,0.1095,0.1895,7\\nM,0.525,0.415,0.145,0.845,0.3525,0.1635,0.2875,8\\nI,0.525,0.39,0.12,0.664,0.3115,0.147,0.178,9\\nI,0.525,0.38,0.135,0.615,0.261,0.159,0.175,8\\nI,0.525,0.4,0.14,0.654,0.305,0.16,0.169,7\\nM,0.525,0.4,0.155,0.707,0.282,0.1605,0.225,9\\nI,0.53,0.42,0.12,0.5965,0.2555,0.141,0.177,7\\nI,0.53,0.43,0.135,0.6255,0.245,0.1455,0.2135,10\\nI,0.53,0.4,0.145,0.555,0.1935,0.1305,0.195,9\\nI,0.53,0.42,0.13,0.8365,0.3745,0.167,0.249,11\\nI,0.535,0.4,0.13,0.657,0.2835,0.162,0.175,7\\nI,0.54,0.43,0.17,0.836,0.3725,0.1815,0.24,9\\nI,0.54,0.425,0.14,0.742,0.32,0.1395,0.25,9\\nI,0.54,0.43,0.14,0.8195,0.3935,0.1725,0.2295,9\\nM,0.54,0.455,0.14,0.972,0.419,0.255,0.269,10\\nI,0.54,0.42,0.14,0.6275,0.2505,0.1175,0.235,9\\nI,0.54,0.425,0.13,0.7205,0.2955,0.169,0.225,10\\nI,0.54,0.425,0.135,0.686,0.3475,0.1545,0.213,8\\nI,0.545,0.4,0.13,0.686,0.3285,0.1455,0.18,9\\nI,0.545,0.375,0.12,0.543,0.2375,0.1155,0.1725,8\\nI,0.545,0.42,0.125,0.717,0.358,0.112,0.22,8\\nM,0.55,0.435,0.14,0.7625,0.327,0.1685,0.259,10\\nI,0.55,0.425,0.15,0.639,0.269,0.1345,0.217,9\\nI,0.55,0.42,0.135,0.816,0.3995,0.1485,0.23,12\\nI,0.55,0.415,0.145,0.7815,0.373,0.16,0.2215,8\\nI,0.55,0.425,0.15,0.7665,0.339,0.176,0.21,8\\nI,0.555,0.395,0.13,0.5585,0.222,0.1245,0.17,9\\nI,0.555,0.435,0.14,0.765,0.3945,0.15,0.206,8\\nI,0.555,0.46,0.145,0.9005,0.3845,0.158,0.2765,11\\nI,0.56,0.445,0.15,0.8225,0.3685,0.187,0.236,10\\nI,0.56,0.44,0.13,0.7235,0.349,0.149,0.2,8\\nM,0.56,0.425,0.135,0.849,0.3265,0.221,0.2645,10\\nI,0.565,0.42,0.155,0.743,0.31,0.186,0.231,9\\nF,0.565,0.44,0.15,0.863,0.435,0.149,0.27,9\\nM,0.565,0.44,0.125,0.802,0.3595,0.1825,0.215,9\\nM,0.565,0.43,0.15,0.831,0.4245,0.1735,0.219,10\\nF,0.57,0.45,0.135,0.7805,0.3345,0.185,0.21,8\\nM,0.57,0.45,0.14,0.795,0.3385,0.148,0.245,9\\nI,0.57,0.435,0.17,0.848,0.4,0.166,0.25,9\\nI,0.57,0.43,0.145,0.833,0.354,0.144,0.2815,10\\nI,0.57,0.445,0.155,0.867,0.3705,0.1705,0.28,9\\nI,0.57,0.445,0.145,0.7405,0.306,0.172,0.1825,12\\nM,0.575,0.455,0.165,0.867,0.3765,0.1805,0.268,8\\nI,0.575,0.425,0.135,0.7965,0.364,0.196,0.239,10\\nF,0.575,0.47,0.155,1.116,0.509,0.238,0.34,10\\nI,0.575,0.45,0.125,0.78,0.3275,0.188,0.235,9\\nM,0.575,0.47,0.185,0.985,0.3745,0.2175,0.355,10\\nF,0.575,0.465,0.195,0.9965,0.417,0.247,0.47,8\\nI,0.575,0.445,0.17,0.8015,0.3475,0.1465,0.25,9\\nI,0.575,0.45,0.135,0.807,0.3615,0.176,0.254,10\\nF,0.575,0.435,0.15,1.0305,0.4605,0.218,0.36,8\\nM,0.575,0.445,0.16,0.839,0.4005,0.198,0.239,9\\nM,0.575,0.44,0.16,0.9615,0.483,0.166,0.275,13\\nF,0.58,0.435,0.15,0.834,0.428,0.1515,0.23,8\\nM,0.58,0.46,0.155,1.0335,0.469,0.2225,0.295,10\\nM,0.58,0.43,0.13,0.798,0.365,0.173,0.2285,10\\nI,0.58,0.445,0.125,0.7095,0.303,0.1405,0.235,9\\nF,0.585,0.445,0.14,0.913,0.4305,0.2205,0.253,10\\nM,0.59,0.49,0.165,1.207,0.559,0.235,0.309,10\\nI,0.59,0.45,0.145,1.022,0.428,0.268,0.265,10\\nI,0.59,0.46,0.145,0.9015,0.419,0.1785,0.26,11\\nF,0.595,0.435,0.15,0.9,0.4175,0.17,0.265,8\\nM,0.595,0.45,0.14,0.838,0.3965,0.194,0.217,10\\nM,0.595,0.45,0.145,0.959,0.463,0.2065,0.2535,10\\nI,0.595,0.46,0.15,0.8335,0.377,0.1925,0.235,8\\nF,0.6,0.46,0.155,0.9735,0.427,0.2045,0.3,8\\nF,0.6,0.475,0.15,1.13,0.575,0.196,0.305,9\\nM,0.6,0.48,0.165,0.9165,0.4135,0.1965,0.2725,9\\nI,0.6,0.48,0.17,0.9175,0.38,0.2225,0.29,8\\nF,0.6,0.48,0.18,1.0645,0.4495,0.2455,0.325,10\\nM,0.6,0.47,0.165,1.059,0.504,0.241,0.275,9\\nM,0.6,0.47,0.16,1.194,0.5625,0.3045,0.2635,10\\nF,0.605,0.455,0.145,0.9775,0.468,0.1775,0.275,9\\nM,0.605,0.475,0.145,0.884,0.3835,0.1905,0.27,8\\nI,0.605,0.47,0.145,0.8025,0.379,0.2265,0.22,9\\nF,0.605,0.48,0.14,0.991,0.4735,0.2345,0.24,8\\nF,0.605,0.47,0.155,0.974,0.393,0.224,0.3345,9\\nF,0.605,0.505,0.18,1.434,0.7285,0.264,0.431,11\\nM,0.61,0.475,0.155,0.983,0.4565,0.228,0.266,10\\nF,0.61,0.465,0.16,1.0725,0.4835,0.2515,0.28,10\\nF,0.61,0.485,0.15,1.2405,0.6025,0.2915,0.3085,12\\nM,0.61,0.47,0.16,1.022,0.449,0.2345,0.2945,9\\nF,0.61,0.475,0.16,1.1155,0.3835,0.223,0.379,10\\nI,0.61,0.465,0.125,0.9225,0.436,0.19,0.26,9\\nM,0.61,0.47,0.17,1.1185,0.5225,0.2405,0.31,9\\nF,0.61,0.485,0.18,1.2795,0.5735,0.2855,0.355,7\\nM,0.615,0.47,0.16,1.0175,0.473,0.2395,0.28,10\\nM,0.615,0.475,0.175,1.224,0.6035,0.261,0.311,9\\nI,0.62,0.485,0.18,1.154,0.4935,0.256,0.315,12\\nF,0.62,0.515,0.155,1.3255,0.6685,0.2605,0.335,12\\nM,0.62,0.515,0.175,1.221,0.535,0.241,0.395,13\\nF,0.62,0.54,0.165,1.139,0.4995,0.2435,0.357,11\\nI,0.62,0.49,0.16,1.066,0.446,0.246,0.305,11\\nF,0.62,0.48,0.18,1.2215,0.582,0.2695,0.313,12\\nI,0.62,0.47,0.14,0.8565,0.3595,0.16,0.295,9\\nI,0.62,0.45,0.135,0.924,0.358,0.2265,0.2965,10\\nM,0.62,0.48,0.15,1.266,0.6285,0.2575,0.309,12\\nF,0.62,0.48,0.175,1.0405,0.464,0.2225,0.3,9\\nM,0.625,0.49,0.165,1.1165,0.4895,0.2615,0.3325,11\\nM,0.625,0.475,0.16,1.0845,0.5005,0.2355,0.3105,10\\nM,0.625,0.5,0.17,1.0985,0.4645,0.22,0.354,9\\nI,0.625,0.47,0.155,1.1955,0.643,0.2055,0.3145,12\\nF,0.625,0.485,0.175,1.362,0.6765,0.2615,0.3705,10\\nI,0.625,0.485,0.15,1.044,0.438,0.2865,0.278,9\\nM,0.63,0.505,0.17,1.0915,0.4615,0.266,0.3,9\\nF,0.63,0.5,0.18,1.1965,0.514,0.2325,0.3995,8\\nM,0.63,0.49,0.17,1.1745,0.5255,0.273,0.339,11\\nM,0.63,0.485,0.165,1.233,0.6565,0.2315,0.3035,10\\nM,0.63,0.495,0.175,1.2695,0.605,0.271,0.328,11\\nI,0.635,0.5,0.165,1.489,0.715,0.3445,0.3615,13\\nM,0.635,0.5,0.17,1.4345,0.611,0.309,0.418,12\\nF,0.635,0.49,0.175,1.2435,0.5805,0.313,0.305,10\\nF,0.635,0.49,0.17,1.2615,0.5385,0.2665,0.38,9\\nF,0.64,0.505,0.165,1.2235,0.5215,0.2695,0.36,10\\nM,0.64,0.515,0.18,1.247,0.5475,0.2925,0.3685,10\\nM,0.64,0.525,0.185,1.707,0.763,0.4205,0.4435,11\\nM,0.645,0.505,0.15,1.1605,0.519,0.2615,0.335,10\\nM,0.645,0.5,0.175,1.286,0.5645,0.288,0.386,12\\nM,0.645,0.5,0.19,1.5595,0.741,0.3715,0.3845,14\\nM,0.645,0.51,0.19,1.4745,0.605,0.345,0.48,9\\nM,0.645,0.51,0.195,1.226,0.5885,0.2215,0.3745,10\\nM,0.645,0.51,0.16,1.33,0.6665,0.309,0.317,9\\nF,0.645,0.51,0.16,1.2415,0.5815,0.276,0.315,9\\nM,0.645,0.5,0.175,1.3375,0.554,0.308,0.415,10\\nF,0.645,0.51,0.19,1.363,0.573,0.362,0.36,10\\nM,0.645,0.485,0.15,1.2215,0.5695,0.2735,0.33,9\\nF,0.645,0.48,0.19,1.371,0.6925,0.2905,0.35,12\\nF,0.65,0.495,0.155,1.337,0.615,0.3195,0.335,9\\nM,0.65,0.505,0.19,1.274,0.59,0.23,0.391,11\\nM,0.65,0.525,0.185,1.488,0.665,0.337,0.378,11\\nM,0.65,0.51,0.16,1.3835,0.6385,0.2905,0.3665,9\\nM,0.655,0.55,0.18,1.274,0.586,0.281,0.365,10\\nF,0.655,0.51,0.15,1.043,0.4795,0.223,0.305,9\\nF,0.655,0.505,0.19,1.3485,0.5935,0.2745,0.425,12\\nF,0.655,0.505,0.195,1.4405,0.688,0.3805,0.363,11\\nM,0.66,0.5,0.165,1.3195,0.667,0.269,0.341,9\\nF,0.66,0.535,0.175,1.5175,0.711,0.3125,0.415,12\\nM,0.66,0.53,0.195,1.5505,0.6505,0.3295,0.495,10\\nM,0.66,0.51,0.165,1.6375,0.7685,0.3545,0.3925,14\\nM,0.665,0.525,0.175,1.443,0.6635,0.3845,0.353,11\\nM,0.665,0.505,0.16,1.289,0.6145,0.253,0.3665,11\\nF,0.665,0.505,0.16,1.2915,0.631,0.2925,0.32,11\\nM,0.665,0.52,0.175,1.3725,0.606,0.32,0.395,12\\nM,0.665,0.5,0.175,1.2975,0.6075,0.314,0.315,9\\nM,0.67,0.505,0.16,1.2585,0.6255,0.311,0.308,12\\nM,0.67,0.52,0.165,1.39,0.711,0.2865,0.3,11\\nF,0.67,0.52,0.19,1.32,0.5235,0.3095,0.4275,13\\nF,0.67,0.55,0.155,1.566,0.858,0.339,0.354,10\\nF,0.67,0.54,0.195,1.619,0.74,0.3305,0.465,11\\nM,0.675,0.525,0.16,1.2835,0.572,0.2755,0.3545,13\\nF,0.675,0.51,0.195,1.382,0.6045,0.3175,0.3965,10\\nM,0.68,0.52,0.195,1.4535,0.592,0.391,0.4125,10\\nF,0.68,0.51,0.2,1.6075,0.714,0.339,0.4705,11\\nM,0.685,0.52,0.15,1.3735,0.7185,0.293,0.32,11\\nF,0.685,0.565,0.175,1.638,0.7775,0.375,0.438,11\\nF,0.69,0.55,0.2,1.569,0.687,0.3675,0.46,12\\nM,0.7,0.565,0.175,1.8565,0.8445,0.3935,0.54,10\\nF,0.7,0.535,0.175,1.773,0.6805,0.48,0.512,15\\nF,0.705,0.545,0.17,1.58,0.6435,0.4565,0.265,11\\nM,0.71,0.575,0.215,2.009,0.9895,0.4475,0.502,11\\nF,0.71,0.57,0.195,1.9805,0.9925,0.4925,0.48,12\\nF,0.71,0.54,0.205,1.5805,0.802,0.287,0.435,10\\nM,0.71,0.56,0.22,2.015,0.9215,0.454,0.566,11\\nM,0.72,0.57,0.2,1.8275,0.919,0.366,0.485,10\\nM,0.72,0.55,0.205,2.125,1.1455,0.4425,0.511,13\\nF,0.72,0.525,0.18,1.445,0.631,0.3215,0.435,7\\nF,0.725,0.565,0.21,2.1425,1.03,0.487,0.503,14\\nF,0.73,0.56,0.19,1.9425,0.799,0.5195,0.5655,11\\nM,0.735,0.59,0.215,1.747,0.7275,0.403,0.557,11\\nF,0.74,0.565,0.205,2.119,0.9655,0.5185,0.482,12\\nF,0.75,0.565,0.215,1.938,0.7735,0.4825,0.575,11\\nM,0.75,0.595,0.205,2.2205,1.083,0.421,0.63,12\\nM,0.77,0.62,0.195,2.5155,1.1155,0.6415,0.642,12\\nM,0.775,0.63,0.25,2.7795,1.3485,0.76,0.578,12\\nI,0.275,0.175,0.09,0.2315,0.096,0.057,0.0705,5\\nI,0.375,0.245,0.1,0.394,0.166,0.091,0.1125,6\\nF,0.375,0.27,0.135,0.597,0.272,0.131,0.1675,7\\nM,0.39,0.28,0.125,0.564,0.3035,0.0955,0.143,7\\nI,0.435,0.3,0.12,0.5965,0.259,0.139,0.1645,8\\nM,0.445,0.32,0.12,0.414,0.199,0.09,0.117,7\\nI,0.455,0.335,0.105,0.422,0.229,0.0865,0.1,6\\nI,0.455,0.325,0.135,0.82,0.4005,0.1715,0.211,8\\nI,0.455,0.345,0.11,0.434,0.207,0.0855,0.1215,8\\nI,0.465,0.325,0.14,0.7615,0.362,0.1535,0.209,10\\nM,0.465,0.36,0.115,0.5795,0.295,0.1395,0.12,7\\nI,0.485,0.365,0.105,0.5205,0.195,0.123,0.182,8\\nM,0.485,0.37,0.155,0.968,0.419,0.2455,0.2365,9\\nI,0.485,0.345,0.16,0.869,0.3085,0.185,0.319,9\\nF,0.49,0.355,0.16,0.8795,0.3485,0.215,0.2825,8\\nM,0.5,0.37,0.15,1.0615,0.494,0.223,0.296,9\\nM,0.515,0.35,0.155,0.9225,0.4185,0.198,0.273,9\\nM,0.515,0.395,0.135,1.007,0.472,0.2495,0.252,8\\nM,0.525,0.365,0.17,0.9605,0.438,0.2225,0.276,10\\nM,0.525,0.38,0.125,0.65,0.303,0.155,0.159,7\\nM,0.53,0.41,0.14,0.7545,0.3495,0.1715,0.2105,8\\nF,0.535,0.425,0.135,0.771,0.3765,0.1815,0.1795,8\\nI,0.535,0.385,0.18,1.0835,0.4955,0.2295,0.304,8\\nI,0.545,0.42,0.165,0.8935,0.4235,0.2195,0.228,8\\nF,0.545,0.415,0.2,1.358,0.567,0.318,0.403,10\\nF,0.545,0.385,0.15,1.1185,0.5425,0.2445,0.2845,9\\nF,0.55,0.38,0.165,1.205,0.543,0.294,0.3345,10\\nM,0.55,0.42,0.16,1.3405,0.6325,0.311,0.344,10\\nM,0.57,0.455,0.175,1.02,0.4805,0.2145,0.29,9\\nM,0.575,0.44,0.185,1.025,0.5075,0.2245,0.2485,10\\nI,0.575,0.45,0.13,0.8145,0.403,0.1715,0.213,10\\nF,0.58,0.43,0.17,1.48,0.6535,0.324,0.4155,10\\nM,0.585,0.455,0.145,0.953,0.3945,0.2685,0.258,10\\nI,0.585,0.45,0.15,0.8915,0.3975,0.2035,0.253,8\\nM,0.6,0.495,0.175,1.3005,0.6195,0.284,0.3285,11\\nM,0.6,0.465,0.165,1.038,0.4975,0.2205,0.251,9\\nM,0.605,0.475,0.175,1.2525,0.5575,0.3055,0.343,9\\nM,0.605,0.475,0.15,1.15,0.575,0.232,0.297,10\\nF,0.61,0.475,0.15,1.1135,0.5195,0.2575,0.3005,11\\nF,0.615,0.455,0.145,1.1155,0.5045,0.238,0.315,10\\nM,0.62,0.47,0.145,1.0865,0.511,0.2715,0.2565,10\\nM,0.625,0.495,0.175,1.254,0.5815,0.286,0.3185,9\\nM,0.625,0.49,0.185,1.169,0.5275,0.2535,0.344,11\\nM,0.635,0.495,0.195,1.172,0.445,0.3115,0.3475,11\\nF,0.635,0.475,0.15,1.1845,0.533,0.307,0.291,10\\nF,0.64,0.475,0.14,1.0725,0.4895,0.2295,0.31,8\\nM,0.645,0.5,0.16,1.3815,0.672,0.326,0.315,9\\nM,0.65,0.525,0.19,1.6125,0.777,0.3685,0.3965,11\\nM,0.65,0.485,0.16,1.7395,0.5715,0.2785,0.3075,10\\nF,0.655,0.52,0.2,1.5475,0.713,0.314,0.466,9\\nM,0.655,0.545,0.19,1.4245,0.6325,0.333,0.378,10\\nF,0.665,0.515,0.185,1.3405,0.5595,0.293,0.4375,11\\nF,0.675,0.53,0.175,1.4465,0.6775,0.33,0.389,10\\nF,0.685,0.535,0.175,1.5845,0.7175,0.3775,0.4215,9\\nF,0.695,0.55,0.185,1.679,0.805,0.4015,0.3965,10\\nM,0.695,0.53,0.19,1.726,0.7625,0.436,0.455,11\\nF,0.705,0.545,0.18,1.5395,0.6075,0.3675,0.4645,13\\nF,0.72,0.55,0.195,2.073,1.0715,0.4265,0.5015,9\\nM,0.72,0.56,0.18,1.5865,0.691,0.375,0.4425,11\\nM,0.73,0.575,0.21,2.069,0.9285,0.409,0.643,11\\nI,0.185,0.135,0.04,0.027,0.0105,0.0055,0.009,5\\nI,0.24,0.18,0.055,0.0555,0.0235,0.013,0.018,4\\nI,0.31,0.215,0.075,0.1275,0.0565,0.0275,0.036,7\\nI,0.34,0.26,0.085,0.1885,0.0815,0.0335,0.06,6\\nI,0.35,0.265,0.08,0.2,0.09,0.042,0.06,7\\nI,0.365,0.27,0.085,0.197,0.0815,0.0325,0.065,6\\nI,0.365,0.275,0.085,0.223,0.098,0.0375,0.075,7\\nI,0.365,0.27,0.075,0.2215,0.095,0.0445,0.07,6\\nI,0.39,0.31,0.105,0.2665,0.1185,0.0525,0.081,8\\nI,0.405,0.3,0.09,0.269,0.103,0.067,0.11,6\\nI,0.41,0.315,0.095,0.2805,0.114,0.0345,0.11,7\\nI,0.41,0.335,0.105,0.3305,0.1405,0.064,0.105,7\\nI,0.415,0.31,0.09,0.2815,0.1245,0.0615,0.085,6\\nI,0.415,0.31,0.1,0.2805,0.114,0.0565,0.0975,6\\nI,0.415,0.31,0.095,0.311,0.1125,0.0625,0.115,8\\nI,0.42,0.325,0.1,0.368,0.1675,0.0625,0.1135,11\\nI,0.43,0.34,0.1,0.3405,0.1395,0.0665,0.12,8\\nI,0.435,0.335,0.1,0.3245,0.135,0.0785,0.098,7\\nI,0.435,0.33,0.11,0.38,0.1515,0.0945,0.11,7\\nI,0.435,0.33,0.105,0.335,0.156,0.0555,0.105,8\\nI,0.435,0.345,0.12,0.3215,0.13,0.056,0.1185,7\\nI,0.445,0.33,0.11,0.358,0.1525,0.067,0.1185,8\\nI,0.465,0.37,0.11,0.445,0.1635,0.096,0.166,7\\nI,0.47,0.375,0.12,0.487,0.196,0.099,0.135,8\\nI,0.475,0.34,0.105,0.4535,0.203,0.08,0.1465,9\\nI,0.485,0.385,0.13,0.568,0.2505,0.178,0.154,7\\nI,0.485,0.36,0.12,0.5155,0.2465,0.1025,0.147,8\\nI,0.485,0.37,0.115,0.457,0.1885,0.0965,0.15,9\\nI,0.495,0.38,0.135,0.5095,0.2065,0.1165,0.165,8\\nI,0.495,0.38,0.145,0.5,0.205,0.148,0.1505,8\\nI,0.495,0.375,0.14,0.494,0.181,0.0975,0.191,8\\nI,0.5,0.38,0.11,0.5605,0.28,0.106,0.15,9\\nI,0.505,0.405,0.13,0.599,0.2245,0.1175,0.225,11\\nI,0.505,0.4,0.145,0.7045,0.334,0.1425,0.207,8\\nF,0.51,0.4,0.12,0.7005,0.347,0.1105,0.195,10\\nI,0.515,0.415,0.135,0.7125,0.285,0.152,0.245,10\\nI,0.515,0.42,0.15,0.6725,0.2555,0.1335,0.235,10\\nM,0.515,0.385,0.11,0.5785,0.253,0.16,0.14,8\\nI,0.52,0.41,0.11,0.5185,0.2165,0.0915,0.184,8\\nI,0.52,0.415,0.14,0.6375,0.308,0.1335,0.168,9\\nI,0.52,0.395,0.125,0.5805,0.2445,0.146,0.165,9\\nI,0.52,0.38,0.115,0.6645,0.3285,0.17,0.1425,7\\nI,0.52,0.385,0.115,0.581,0.2555,0.156,0.143,10\\nI,0.525,0.415,0.12,0.596,0.2805,0.12,0.1695,9\\nI,0.525,0.405,0.145,0.6965,0.3045,0.1535,0.21,8\\nI,0.525,0.4,0.145,0.6095,0.248,0.159,0.175,9\\nI,0.53,0.43,0.14,0.677,0.298,0.0965,0.23,8\\nI,0.53,0.43,0.16,0.7245,0.321,0.1275,0.24,9\\nI,0.53,0.395,0.13,0.575,0.247,0.115,0.183,9\\nI,0.53,0.405,0.12,0.632,0.2715,0.148,0.1875,9\\nI,0.535,0.455,0.14,1.0015,0.53,0.1765,0.244,9\\nF,0.54,0.425,0.16,0.9455,0.3675,0.2005,0.295,9\\nI,0.54,0.395,0.135,0.6555,0.2705,0.155,0.192,9\\nI,0.54,0.39,0.125,0.6255,0.2525,0.158,0.19,8\\nI,0.545,0.425,0.14,0.8145,0.305,0.231,0.244,10\\nI,0.545,0.43,0.14,0.687,0.2615,0.1405,0.25,9\\nI,0.55,0.435,0.14,0.7995,0.295,0.1905,0.238,10\\nI,0.55,0.45,0.13,0.804,0.3375,0.1405,0.23,6\\nM,0.555,0.435,0.14,0.7495,0.341,0.1645,0.214,8\\nM,0.555,0.41,0.125,0.599,0.2345,0.1465,0.194,8\\nM,0.555,0.4,0.13,0.7075,0.332,0.1585,0.18,7\\nI,0.555,0.45,0.175,0.738,0.304,0.1755,0.22,9\\nM,0.555,0.455,0.135,0.837,0.382,0.171,0.235,9\\nI,0.56,0.445,0.165,0.832,0.3455,0.179,0.279,9\\nF,0.565,0.445,0.125,0.8305,0.3135,0.1785,0.23,11\\nM,0.565,0.415,0.125,0.667,0.302,0.1545,0.185,7\\nM,0.565,0.455,0.155,0.9355,0.421,0.183,0.26,11\\nI,0.565,0.435,0.145,0.8445,0.3975,0.158,0.255,9\\nM,0.565,0.45,0.16,0.895,0.415,0.195,0.246,9\\nI,0.565,0.46,0.155,0.8715,0.3755,0.215,0.25,10\\nM,0.57,0.46,0.155,1.0005,0.454,0.205,0.265,11\\nM,0.57,0.455,0.155,0.832,0.3585,0.174,0.277,11\\nM,0.57,0.44,0.175,0.9415,0.3805,0.2285,0.283,9\\nM,0.57,0.415,0.13,0.88,0.4275,0.1955,0.238,13\\nF,0.57,0.44,0.12,0.803,0.382,0.1525,0.234,9\\nM,0.575,0.45,0.13,0.785,0.318,0.193,0.2265,9\\nM,0.575,0.45,0.155,0.9765,0.495,0.2145,0.235,9\\nM,0.575,0.435,0.135,0.992,0.432,0.2225,0.239,10\\nM,0.575,0.455,0.155,1.013,0.4685,0.2085,0.295,11\\nM,0.575,0.445,0.145,0.876,0.3795,0.1615,0.27,10\\nF,0.575,0.465,0.175,1.099,0.4735,0.202,0.35,9\\nI,0.575,0.45,0.135,0.8715,0.45,0.162,0.225,10\\nI,0.575,0.45,0.135,0.8245,0.3375,0.2115,0.239,11\\nF,0.575,0.43,0.155,0.7955,0.3485,0.1925,0.22,9\\nM,0.575,0.475,0.145,0.857,0.3665,0.173,0.269,9\\nF,0.58,0.45,0.195,0.8265,0.4035,0.173,0.225,9\\nF,0.58,0.5,0.165,0.925,0.37,0.185,0.3005,10\\nM,0.58,0.44,0.15,1.0465,0.518,0.2185,0.2795,10\\nI,0.58,0.44,0.145,0.7905,0.3525,0.1645,0.242,10\\nM,0.58,0.44,0.16,0.8295,0.3365,0.2005,0.2485,9\\nM,0.595,0.455,0.15,0.886,0.4315,0.201,0.223,10\\nF,0.6,0.47,0.135,0.97,0.4655,0.1955,0.264,11\\nM,0.6,0.46,0.17,1.1805,0.456,0.337,0.329,11\\nM,0.6,0.475,0.15,0.99,0.386,0.2195,0.3105,10\\nF,0.6,0.465,0.16,1.133,0.466,0.2885,0.298,11\\nI,0.605,0.49,0.165,1.071,0.482,0.1935,0.352,10\\nF,0.605,0.455,0.145,0.862,0.334,0.1985,0.3,9\\nM,0.605,0.47,0.18,1.1155,0.479,0.2565,0.321,10\\nM,0.61,0.48,0.14,1.031,0.4375,0.2615,0.27,8\\nF,0.61,0.46,0.145,1.1185,0.478,0.2945,0.2985,10\\nF,0.61,0.46,0.155,0.957,0.4255,0.1975,0.265,8\\nF,0.61,0.47,0.165,1.1785,0.566,0.2785,0.294,11\\nM,0.615,0.47,0.145,1.0285,0.4435,0.2825,0.285,11\\nM,0.615,0.47,0.15,1.0875,0.4975,0.283,0.2685,9\\nF,0.615,0.495,0.16,1.255,0.5815,0.3195,0.3225,12\\nM,0.615,0.495,0.2,1.219,0.564,0.227,0.3885,10\\nM,0.62,0.49,0.16,1.035,0.44,0.2525,0.285,11\\nM,0.62,0.49,0.15,1.195,0.4605,0.302,0.355,9\\nF,0.62,0.495,0.17,1.062,0.372,0.213,0.34,11\\nM,0.62,0.495,0.195,1.5145,0.579,0.346,0.5195,15\\nM,0.62,0.47,0.15,1.309,0.587,0.4405,0.325,9\\nM,0.62,0.485,0.155,1.0295,0.425,0.2315,0.335,12\\nM,0.625,0.495,0.155,1.0485,0.487,0.212,0.3215,11\\nM,0.625,0.515,0.17,1.331,0.5725,0.3005,0.361,9\\nM,0.625,0.505,0.185,1.1565,0.52,0.2405,0.3535,10\\nF,0.625,0.445,0.16,1.09,0.46,0.2965,0.304,11\\nF,0.625,0.52,0.18,1.354,0.4845,0.351,0.375,11\\nF,0.625,0.47,0.145,0.984,0.475,0.2,0.265,11\\nM,0.63,0.49,0.155,1.2525,0.63,0.246,0.289,9\\nF,0.635,0.485,0.165,1.2695,0.5635,0.3065,0.3395,11\\nF,0.635,0.52,0.165,1.3405,0.5065,0.296,0.412,11\\nF,0.635,0.505,0.155,1.2895,0.594,0.314,0.345,11\\nM,0.635,0.525,0.16,1.195,0.5435,0.246,0.335,12\\nM,0.635,0.5,0.165,1.273,0.6535,0.213,0.365,12\\nM,0.635,0.515,0.165,1.229,0.5055,0.2975,0.3535,10\\nM,0.64,0.53,0.165,1.1895,0.4765,0.3,0.35,11\\nF,0.64,0.48,0.145,1.1145,0.508,0.24,0.34,10\\nF,0.64,0.515,0.165,1.3115,0.4945,0.2555,0.41,10\\nI,0.64,0.49,0.135,1.1,0.488,0.2505,0.2925,10\\nM,0.64,0.49,0.155,1.1285,0.477,0.269,0.34,9\\nF,0.64,0.485,0.185,1.4195,0.6735,0.3465,0.3255,11\\nF,0.645,0.51,0.18,1.6195,0.7815,0.322,0.4675,12\\nM,0.645,0.49,0.175,1.32,0.6525,0.2375,0.3385,11\\nF,0.645,0.52,0.21,1.5535,0.616,0.3655,0.474,16\\nI,0.65,0.52,0.15,1.238,0.5495,0.296,0.3305,10\\nF,0.65,0.51,0.155,1.189,0.483,0.278,0.3645,13\\nF,0.65,0.51,0.185,1.375,0.531,0.384,0.3985,10\\nF,0.655,0.515,0.18,1.412,0.6195,0.2485,0.497,11\\nF,0.655,0.525,0.175,1.348,0.5855,0.2605,0.394,10\\nM,0.655,0.52,0.17,1.1445,0.53,0.223,0.348,9\\nF,0.66,0.535,0.205,1.4415,0.5925,0.2775,0.49,10\\nM,0.66,0.51,0.175,1.218,0.5055,0.303,0.37,11\\nF,0.665,0.5,0.15,1.2475,0.4625,0.2955,0.3595,10\\nM,0.665,0.515,0.2,1.2695,0.5115,0.2675,0.436,12\\nM,0.665,0.525,0.18,1.429,0.6715,0.29,0.4,12\\nF,0.67,0.53,0.205,1.4015,0.643,0.2465,0.416,12\\nM,0.675,0.515,0.15,1.312,0.556,0.2845,0.4115,11\\nF,0.675,0.51,0.185,1.473,0.6295,0.3025,0.4245,11\\nM,0.68,0.54,0.19,1.623,0.7165,0.354,0.4715,12\\nM,0.68,0.54,0.155,1.534,0.671,0.379,0.384,10\\nM,0.685,0.535,0.155,1.3845,0.6615,0.2145,0.4075,10\\nM,0.69,0.55,0.18,1.6915,0.6655,0.402,0.5,11\\nM,0.695,0.545,0.185,1.5715,0.6645,0.3835,0.4505,13\\nF,0.7,0.575,0.205,1.773,0.605,0.447,0.538,13\\nM,0.7,0.55,0.175,1.4405,0.6565,0.2985,0.375,12\\nM,0.7,0.55,0.195,1.6245,0.675,0.347,0.535,13\\nF,0.705,0.535,0.22,1.866,0.929,0.3835,0.4395,10\\nF,0.72,0.575,0.18,1.6705,0.732,0.3605,0.501,12\\nM,0.72,0.565,0.19,2.081,1.0815,0.4305,0.503,11\\nF,0.725,0.57,0.205,1.6195,0.744,0.315,0.488,11\\nF,0.75,0.55,0.195,1.8325,0.83,0.366,0.44,11\\nM,0.76,0.605,0.215,2.173,0.801,0.4915,0.646,13\\nI,0.135,0.13,0.04,0.029,0.0125,0.0065,0.008,4\\nI,0.16,0.11,0.025,0.0195,0.0075,0.005,0.006,4\\nI,0.21,0.15,0.055,0.0465,0.017,0.012,0.015,5\\nI,0.28,0.21,0.075,0.1195,0.053,0.0265,0.03,6\\nI,0.28,0.2,0.065,0.0895,0.036,0.0185,0.03,7\\nI,0.285,0.215,0.06,0.0935,0.031,0.023,0.03,6\\nI,0.29,0.21,0.07,0.1115,0.048,0.0205,0.03,5\\nI,0.29,0.21,0.06,0.1195,0.056,0.0235,0.03,6\\nI,0.29,0.21,0.065,0.097,0.0375,0.022,0.03,6\\nI,0.32,0.24,0.07,0.133,0.0585,0.0255,0.041,6\\nI,0.325,0.25,0.07,0.1745,0.0875,0.0355,0.04,7\\nI,0.335,0.25,0.08,0.1695,0.0695,0.044,0.0495,6\\nI,0.35,0.235,0.08,0.17,0.0725,0.0465,0.0495,7\\nI,0.35,0.25,0.07,0.1605,0.0715,0.0335,0.046,6\\nI,0.355,0.27,0.105,0.271,0.1425,0.0525,0.0735,9\\nI,0.36,0.27,0.085,0.2185,0.1065,0.038,0.062,6\\nI,0.36,0.27,0.085,0.196,0.0905,0.034,0.053,7\\nI,0.375,0.28,0.08,0.226,0.105,0.047,0.065,6\\nI,0.375,0.275,0.085,0.22,0.109,0.05,0.0605,7\\nI,0.395,0.29,0.095,0.3,0.158,0.068,0.078,7\\nI,0.405,0.25,0.09,0.2875,0.128,0.063,0.0805,7\\nI,0.415,0.325,0.11,0.316,0.1385,0.0795,0.0925,8\\nI,0.425,0.315,0.095,0.3675,0.1865,0.0675,0.0985,7\\nI,0.43,0.32,0.11,0.3675,0.1675,0.102,0.105,8\\nI,0.435,0.325,0.12,0.346,0.159,0.084,0.095,7\\nM,0.45,0.33,0.105,0.4955,0.2575,0.082,0.129,8\\nI,0.46,0.35,0.11,0.4675,0.2125,0.099,0.1375,7\\nM,0.47,0.365,0.135,0.522,0.2395,0.1525,0.145,10\\nI,0.47,0.375,0.105,0.441,0.167,0.0865,0.145,10\\nI,0.475,0.365,0.12,0.5185,0.268,0.1095,0.1365,8\\nM,0.505,0.39,0.12,0.653,0.3315,0.1385,0.167,9\\nM,0.505,0.395,0.135,0.5915,0.288,0.1315,0.185,12\\nM,0.505,0.385,0.115,0.4825,0.21,0.1035,0.1535,10\\nI,0.51,0.455,0.135,0.6855,0.2875,0.154,0.2035,9\\nM,0.515,0.4,0.14,0.6335,0.288,0.145,0.168,9\\nM,0.525,0.41,0.13,0.6875,0.3435,0.1495,0.1765,9\\nF,0.53,0.43,0.15,0.741,0.325,0.1855,0.196,9\\nF,0.53,0.405,0.13,0.6355,0.2635,0.1565,0.185,9\\nM,0.545,0.44,0.14,0.8395,0.356,0.1905,0.2385,11\\nF,0.55,0.47,0.15,0.9205,0.381,0.2435,0.2675,10\\nF,0.56,0.41,0.16,0.8215,0.342,0.184,0.253,9\\nM,0.565,0.445,0.145,0.9255,0.4345,0.212,0.2475,9\\nF,0.57,0.435,0.15,0.8295,0.3875,0.156,0.245,10\\nM,0.58,0.46,0.16,1.063,0.513,0.2705,0.2625,9\\nM,0.59,0.465,0.165,1.115,0.5165,0.273,0.275,10\\nF,0.6,0.45,0.14,0.837,0.37,0.177,0.2425,10\\nM,0.605,0.445,0.14,0.982,0.4295,0.2085,0.295,12\\nM,0.61,0.49,0.16,1.112,0.465,0.228,0.341,10\\nF,0.625,0.515,0.18,1.3485,0.5255,0.252,0.3925,14\\nM,0.66,0.515,0.195,1.5655,0.7345,0.353,0.386,9\\nI,0.255,0.19,0.06,0.086,0.04,0.0185,0.025,5\\nI,0.27,0.195,0.065,0.1065,0.0475,0.0225,0.0285,5\\nI,0.28,0.215,0.08,0.132,0.072,0.022,0.033,5\\nI,0.285,0.215,0.07,0.1075,0.051,0.0225,0.027,6\\nI,0.32,0.255,0.085,0.1745,0.072,0.033,0.057,8\\nI,0.325,0.24,0.07,0.152,0.0565,0.0305,0.054,8\\nI,0.385,0.28,0.1,0.2755,0.1305,0.061,0.0725,8\\nI,0.395,0.295,0.1,0.293,0.14,0.062,0.082,7\\nF,0.4,0.305,0.16,0.368,0.173,0.0705,0.105,7\\nI,0.405,0.31,0.09,0.312,0.138,0.06,0.087,8\\nI,0.415,0.305,0.12,0.336,0.165,0.076,0.0805,7\\nI,0.42,0.315,0.115,0.355,0.1895,0.065,0.087,6\\nI,0.44,0.305,0.115,0.379,0.162,0.091,0.11,9\\nI,0.445,0.32,0.12,0.378,0.152,0.0825,0.12,8\\nM,0.45,0.35,0.13,0.4655,0.2075,0.1045,0.135,8\\nF,0.455,0.355,1.13,0.594,0.332,0.116,0.1335,8\\nM,0.46,0.345,0.12,0.4935,0.2435,0.1175,0.132,8\\nM,0.46,0.345,0.11,0.4595,0.235,0.0885,0.116,7\\nM,0.465,0.36,0.11,0.4955,0.2665,0.085,0.121,7\\nI,0.465,0.355,0.09,0.4325,0.2005,0.074,0.1275,9\\nF,0.475,0.38,0.14,0.689,0.3165,0.1315,0.1955,7\\nI,0.48,0.35,0.135,0.5465,0.2735,0.0995,0.158,8\\nM,0.485,0.39,0.135,0.617,0.25,0.1345,0.1635,8\\nI,0.49,0.37,0.11,0.538,0.271,0.1035,0.139,8\\nM,0.5,0.39,0.135,0.7815,0.361,0.1575,0.2385,9\\nF,0.5,0.38,0.14,0.6355,0.277,0.143,0.1785,8\\nM,0.505,0.385,0.13,0.6435,0.3135,0.149,0.1515,7\\nM,0.525,0.385,0.1,0.5115,0.246,0.1005,0.1455,8\\nM,0.535,0.42,0.125,0.738,0.355,0.1895,0.1795,8\\nF,0.535,0.42,0.13,0.699,0.3125,0.1565,0.2035,8\\nF,0.54,0.385,0.14,0.7655,0.3265,0.116,0.2365,10\\nF,0.54,0.42,0.13,0.7505,0.368,0.1675,0.1845,9\\nF,0.545,0.43,0.16,0.844,0.3945,0.1855,0.231,9\\nM,0.55,0.41,0.13,0.8705,0.4455,0.2115,0.213,9\\nI,0.55,0.42,0.115,0.668,0.2925,0.137,0.209,11\\nF,0.565,0.44,0.135,0.83,0.393,0.1735,0.238,9\\nM,0.58,0.45,0.12,0.8685,0.418,0.1475,0.2605,8\\nF,0.58,0.435,0.15,0.839,0.3485,0.207,0.192,7\\nF,0.585,0.485,0.15,1.079,0.4145,0.2115,0.356,11\\nM,0.595,0.465,0.15,0.919,0.4335,0.1765,0.262,9\\nF,0.6,0.47,0.19,1.1345,0.492,0.2595,0.3375,10\\nF,0.61,0.43,0.14,0.909,0.438,0.2,0.22,8\\nM,0.61,0.48,0.165,1.2435,0.5575,0.2675,0.372,8\\nF,0.62,0.49,0.16,1.056,0.493,0.244,0.2725,9\\nM,0.645,0.495,0.15,1.2095,0.603,0.2225,0.339,9\\nM,0.65,0.5,0.14,1.238,0.6165,0.2355,0.32,8\\nF,0.665,0.525,0.21,1.644,0.818,0.3395,0.4275,10\\nM,0.685,0.55,0.2,1.7725,0.813,0.387,0.49,11\\nF,0.69,0.54,0.195,1.2525,0.73,0.3975,0.462,12\\nF,0.705,0.57,0.185,1.761,0.747,0.3725,0.488,10\\nF,0.71,0.5,0.15,1.3165,0.6835,0.2815,0.28,10\\nM,0.72,0.585,0.22,1.914,0.9155,0.448,0.479,11\\nF,0.72,0.575,0.215,2.1,0.8565,0.4825,0.602,12\\nF,0.73,0.555,0.18,1.6895,0.6555,0.1965,0.4935,10\\nM,0.775,0.57,0.22,2.032,0.735,0.4755,0.6585,17\\nF,0.505,0.39,0.115,0.66,0.3045,0.1555,0.175,8\\nM,0.53,0.425,0.13,0.7455,0.2995,0.1355,0.245,10\\nF,0.505,0.385,0.115,0.616,0.243,0.1075,0.21,11\\nI,0.405,0.305,0.09,0.2825,0.114,0.0575,0.095,7\\nM,0.415,0.3,0.1,0.3355,0.1545,0.0685,0.095,7\\nM,0.5,0.39,0.145,0.651,0.273,0.132,0.22,11\\nM,0.425,0.33,0.08,0.361,0.134,0.0825,0.125,7\\nM,0.47,0.35,0.1,0.4775,0.1885,0.0885,0.175,8\\nF,0.4,0.31,0.115,0.3465,0.1475,0.0695,0.115,10\\nI,0.37,0.29,0.1,0.25,0.1025,0.0505,0.085,10\\nM,0.5,0.38,0.155,0.66,0.2655,0.1365,0.215,19\\nI,0.41,0.31,0.11,0.315,0.124,0.082,0.095,9\\nM,0.375,0.29,0.1,0.276,0.1175,0.0565,0.085,9\\nF,0.49,0.385,0.125,0.5395,0.2175,0.128,0.165,11\\nM,0.585,0.48,0.185,1.04,0.434,0.265,0.285,10\\nM,0.595,0.455,0.155,1.041,0.416,0.2105,0.365,14\\nF,0.675,0.55,0.18,1.6885,0.562,0.3705,0.6,15\\nM,0.665,0.535,0.225,2.1835,0.7535,0.391,0.885,27\\nM,0.62,0.49,0.17,1.2105,0.5185,0.2555,0.335,13\\nI,0.325,0.25,0.055,0.166,0.076,0.051,0.045,5\\nI,0.455,0.355,0.08,0.452,0.2165,0.0995,0.125,9\\nM,0.525,0.405,0.13,0.7185,0.3265,0.1975,0.175,8\\nI,0.385,0.29,0.09,0.232,0.0855,0.0495,0.08,7\\nI,0.13,0.095,0.035,0.0105,0.005,0.0065,0.0035,4\\nI,0.18,0.13,0.045,0.0275,0.0125,0.01,0.009,3\\nI,0.31,0.225,0.05,0.1445,0.0675,0.0385,0.045,6\\nF,0.375,0.29,0.08,0.282,0.1405,0.0725,0.08,7\\nF,0.48,0.38,0.12,0.608,0.2705,0.1405,0.185,8\\nI,0.455,0.37,0.125,0.433,0.201,0.1265,0.145,9\\nM,0.425,0.325,0.1,0.3295,0.1365,0.0725,0.11,7\\nI,0.475,0.36,0.11,0.4555,0.177,0.0965,0.145,9\\nF,0.435,0.35,0.12,0.4585,0.192,0.1,0.13,11\\nF,0.29,0.21,0.075,0.275,0.113,0.0675,0.035,6\\nM,0.385,0.295,0.095,0.335,0.147,0.094,0.09,7\\nM,0.47,0.375,0.115,0.4265,0.1685,0.0755,0.15,8\\nF,0.5,0.4,0.125,0.5765,0.2395,0.126,0.185,10\\nI,0.4,0.31,0.1,0.127,0.106,0.071,0.085,7\\nM,0.62,0.51,0.175,1.1505,0.4375,0.2265,0.4,12\\nM,0.595,0.47,0.15,0.8915,0.359,0.2105,0.245,12\\nM,0.585,0.455,0.14,0.97,0.462,0.185,0.295,9\\nM,0.32,0.24,0.08,0.18,0.08,0.0385,0.055,6\\nF,0.52,0.41,0.125,0.6985,0.2945,0.1625,0.215,10\\nM,0.44,0.35,0.11,0.4585,0.2,0.0885,0.13,9\\nF,0.44,0.33,0.115,0.4005,0.143,0.113,0.12,8\\nM,0.565,0.425,0.1,0.7145,0.3055,0.166,0.18,12\\nF,0.56,0.425,0.125,0.932,0.361,0.213,0.335,9\\nF,0.59,0.455,0.175,0.966,0.391,0.2455,0.31,10\\nF,0.57,0.465,0.18,0.9995,0.405,0.277,0.295,16\\nM,0.68,0.53,0.205,1.496,0.5825,0.337,0.465,14\\nF,0.45,0.36,0.125,0.5065,0.222,0.105,0.16,10\\nI,0.32,0.24,0.075,0.1735,0.076,0.0355,0.05,7\\nI,0.46,0.35,0.11,0.3945,0.1685,0.0865,0.125,9\\nM,0.47,0.37,0.105,0.4665,0.2025,0.1015,0.155,10\\nM,0.455,0.35,0.105,0.401,0.1575,0.083,0.135,9\\nF,0.415,0.325,0.115,0.3455,0.1405,0.0765,0.11,9\\nM,0.465,0.35,0.12,0.5205,0.2015,0.1625,0.185,11\\nM,0.46,0.375,0.135,0.4935,0.186,0.0845,0.17,12\\nM,0.415,0.31,0.09,0.3245,0.1305,0.0735,0.115,8\\nM,0.27,0.195,0.07,0.106,0.0465,0.018,0.036,7\\nM,0.445,0.355,0.11,0.4415,0.1805,0.1035,0.1505,10\\nF,0.745,0.585,0.19,1.966,0.8435,0.437,0.5855,18\\nF,0.4,0.3,0.115,0.3025,0.1335,0.0465,0.0935,8\\nI,0.28,0.2,0.075,0.1225,0.0545,0.0115,0.035,5\\nM,0.55,0.44,0.135,0.879,0.368,0.2095,0.265,10\\nM,0.58,0.46,0.165,1.2275,0.473,0.1965,0.435,16\\nM,0.61,0.5,0.165,1.2715,0.4915,0.185,0.49,12\\nM,0.62,0.495,0.175,1.806,0.643,0.3285,0.725,17\\nM,0.56,0.42,0.195,0.8085,0.3025,0.1795,0.285,14\\nF,0.64,0.51,0.2,1.3905,0.61,0.3315,0.41,12\\nM,0.69,0.55,0.2,1.8465,0.732,0.472,0.57,19\\nF,0.715,0.565,0.24,2.1995,0.7245,0.465,0.885,17\\nF,0.71,0.565,0.195,1.817,0.785,0.492,0.49,11\\nF,0.55,0.47,0.15,0.897,0.377,0.184,0.29,9\\nM,0.375,0.305,0.09,0.3245,0.1395,0.0565,0.095,5\\nF,0.61,0.45,0.16,1.136,0.414,0.311,0.3,9\\nI,0.38,0.28,0.085,0.2735,0.115,0.061,0.085,6\\nF,0.37,0.275,0.085,0.2405,0.104,0.0535,0.07,5\\nM,0.335,0.235,0.085,0.1545,0.066,0.0345,0.045,6\\nI,0.165,0.115,0.015,0.0145,0.0055,0.003,0.005,4\\nM,0.285,0.21,0.075,0.1185,0.055,0.0285,0.04,7\\nI,0.19,0.13,0.03,0.0295,0.0155,0.015,0.01,6\\nI,0.215,0.15,0.03,0.0385,0.0115,0.005,0.01,5\\nM,0.595,0.465,0.125,0.799,0.3245,0.2,0.23,10\\nF,0.645,0.5,0.17,1.1845,0.4805,0.274,0.355,13\\nM,0.575,0.45,0.185,0.925,0.342,0.197,0.35,12\\nF,0.57,0.45,0.17,1.098,0.414,0.187,0.405,20\\nF,0.58,0.45,0.235,1.071,0.3,0.206,0.395,14\\nF,0.595,0.48,0.2,0.975,0.358,0.2035,0.34,15\\nF,0.595,0.47,0.25,1.283,0.462,0.2475,0.445,14\\nF,0.625,0.42,0.165,1.0595,0.358,0.165,0.445,21\\nM,0.535,0.42,0.165,0.9195,0.3355,0.1985,0.26,16\\nM,0.55,0.43,0.16,0.9295,0.317,0.1735,0.355,13\\nM,0.495,0.4,0.155,0.8085,0.2345,0.1155,0.35,6\\nI,0.32,0.235,0.08,0.1485,0.064,0.031,0.045,6\\nM,0.445,0.34,0.12,0.4475,0.193,0.1035,0.13,9\\nF,0.52,0.4,0.125,0.6865,0.295,0.1715,0.185,9\\nM,0.495,0.385,0.135,0.6335,0.2,0.1225,0.26,14\\nM,0.47,0.37,0.135,0.547,0.222,0.1325,0.17,12\\nF,0.49,0.37,0.14,0.585,0.243,0.115,0.195,10\\nM,0.58,0.47,0.165,0.927,0.3215,0.1985,0.315,11\\nM,0.645,0.495,0.185,1.4935,0.5265,0.2785,0.455,15\\nF,0.575,0.485,0.165,1.0405,0.419,0.264,0.3,14\\nI,0.215,0.17,0.055,0.0605,0.0205,0.014,0.02,6\\nI,0.43,0.325,0.11,0.3675,0.1355,0.0935,0.12,13\\nI,0.26,0.215,0.08,0.099,0.037,0.0255,0.045,5\\nI,0.37,0.28,0.09,0.233,0.0905,0.0545,0.07,11\\nI,0.405,0.305,0.105,0.3625,0.1565,0.0705,0.125,10\\nI,0.27,0.19,0.08,0.081,0.0265,0.0195,0.03,6\\nF,0.68,0.55,0.2,1.596,0.525,0.4075,0.585,21\\nF,0.65,0.515,0.195,1.4005,0.5195,0.36,0.44,13\\nF,0.645,0.49,0.215,1.406,0.4265,0.2285,0.51,25\\nM,0.57,0.405,0.16,0.9245,0.3445,0.2185,0.295,19\\nM,0.615,0.48,0.19,1.36,0.5305,0.2375,0.47,18\\nM,0.42,0.345,0.105,0.43,0.175,0.096,0.13,7\\nI,0.275,0.22,0.08,0.1365,0.0565,0.0285,0.042,6\\nF,0.29,0.225,0.075,0.14,0.0515,0.0235,0.04,5\\nM,0.42,0.34,0.115,0.4215,0.175,0.093,0.135,8\\nF,0.625,0.525,0.215,1.5765,0.5115,0.2595,0.665,16\\nF,0.55,0.465,0.18,1.2125,0.3245,0.205,0.525,27\\nM,0.66,0.505,0.2,1.6305,0.4865,0.297,0.61,18\\nM,0.565,0.47,0.195,1.142,0.387,0.258,0.35,17\\nF,0.595,0.495,0.235,1.366,0.5065,0.219,0.52,13\\nM,0.63,0.51,0.23,1.539,0.5635,0.2815,0.57,17\\nF,0.43,0.325,0.12,0.445,0.165,0.0995,0.155,8\\nF,0.455,0.35,0.14,0.5725,0.1965,0.1325,0.175,10\\nI,0.33,0.26,0.08,0.19,0.0765,0.0385,0.065,7\\nF,0.515,0.415,0.13,0.764,0.276,0.196,0.25,13\\nM,0.495,0.39,0.15,0.853,0.3285,0.189,0.27,14\\nF,0.485,0.375,0.145,0.5885,0.2385,0.1155,0.19,13\\nF,0.535,0.46,0.145,0.7875,0.3395,0.2005,0.2,8\\nM,0.58,0.465,0.175,1.035,0.401,0.1865,0.385,17\\nF,0.625,0.525,0.195,1.352,0.4505,0.2445,0.53,13\\nF,0.555,0.455,0.18,0.958,0.296,0.195,0.39,14\\nF,0.55,0.425,0.145,0.797,0.297,0.15,0.265,9\\nM,0.59,0.475,0.155,0.857,0.356,0.174,0.28,13\\nI,0.355,0.28,0.11,0.2235,0.0815,0.0525,0.08,7\\nI,0.275,0.2,0.075,0.086,0.0305,0.019,0.03,7\\nF,0.505,0.39,0.175,0.692,0.267,0.15,0.215,12\\nM,0.37,0.28,0.095,0.2225,0.0805,0.051,0.075,7\\nM,0.555,0.43,0.165,0.7575,0.2735,0.1635,0.275,13\\nF,0.505,0.4,0.165,0.729,0.2675,0.155,0.25,9\\nF,0.56,0.445,0.18,0.903,0.3575,0.2045,0.295,9\\nM,0.595,0.475,0.17,1.0965,0.419,0.229,0.35,17\\nF,0.57,0.45,0.165,0.903,0.3305,0.1845,0.295,14\\nM,0.6,0.48,0.175,1.229,0.4125,0.2735,0.415,13\\nF,0.56,0.435,0.185,1.106,0.422,0.2435,0.33,15\\nM,0.585,0.465,0.19,1.171,0.3905,0.2355,0.4,17\\nI,0.46,0.335,0.11,0.444,0.225,0.0745,0.11,8\\nF,0.46,0.36,0.115,0.4755,0.2105,0.105,0.16,8\\nM,0.415,0.315,0.125,0.388,0.068,0.09,0.125,12\\nF,0.435,0.32,0.12,0.3785,0.152,0.0915,0.125,11\\nF,0.475,0.38,0.135,0.486,0.1735,0.07,0.185,7\\nM,0.465,0.36,0.13,0.5265,0.2105,0.1185,0.165,10\\nI,0.355,0.28,0.1,0.2275,0.0935,0.0455,0.085,11\\nM,0.46,0.375,0.14,0.5105,0.192,0.1045,0.205,9\\nF,0.38,0.325,0.11,0.3105,0.12,0.074,0.105,10\\nF,0.47,0.365,0.12,0.543,0.2295,0.1495,0.15,9\\nM,0.36,0.27,0.09,0.2225,0.083,0.053,0.075,6\\nF,0.585,0.455,0.165,0.998,0.345,0.2495,0.315,12\\nM,0.655,0.59,0.2,1.5455,0.654,0.3765,0.415,11\\nM,0.6,0.485,0.175,1.2675,0.4995,0.2815,0.38,13\\nF,0.57,0.46,0.17,1.1,0.4125,0.2205,0.38,14\\nF,0.645,0.5,0.2,1.4285,0.639,0.305,0.36,11\\nM,0.65,0.495,0.18,1.793,0.8005,0.339,0.53,14\\nM,0.51,0.395,0.145,0.6185,0.216,0.1385,0.24,12\\nM,0.52,0.38,0.135,0.5825,0.2505,0.1565,0.175,8\\nM,0.495,0.415,0.165,0.7485,0.264,0.134,0.285,13\\nM,0.43,0.335,0.115,0.406,0.166,0.0935,0.135,8\\nF,0.59,0.465,0.16,1.1005,0.506,0.2525,0.295,13\\nM,0.55,0.46,0.175,0.869,0.3155,0.1825,0.32,10\\nM,0.585,0.43,0.16,0.955,0.3625,0.176,0.27,11\\nF,0.58,0.455,0.16,0.9215,0.312,0.196,0.3,17\\nF,0.62,0.51,0.15,1.456,0.581,0.2875,0.32,13\\nI,0.59,0.45,0.16,0.893,0.2745,0.2185,0.345,14\\nF,0.72,0.575,0.215,2.226,0.8955,0.405,0.62,13\\nF,0.635,0.51,0.175,1.2125,0.5735,0.261,0.36,14\\nF,0.61,0.48,0.175,1.0675,0.391,0.216,0.42,15\\nF,0.545,0.445,0.175,0.8525,0.3465,0.189,0.295,13\\nM,0.57,0.45,0.16,0.8615,0.3725,0.2175,0.255,12\\nF,0.6,0.475,0.18,1.162,0.511,0.2675,0.32,18\\nF,0.52,0.41,0.17,0.8705,0.3735,0.219,0.25,14\\nM,0.635,0.51,0.21,1.598,0.6535,0.2835,0.58,15\\nF,0.67,0.52,0.15,1.406,0.519,0.348,0.37,13\\nM,0.695,0.57,0.2,2.033,0.751,0.4255,0.685,15\\nM,0.655,0.525,0.185,1.259,0.487,0.2215,0.445,20\\nF,0.62,0.48,0.23,1.0935,0.403,0.245,0.355,14\\nF,0.6,0.475,0.18,1.1805,0.4345,0.2475,0.425,19\\nM,0.51,0.405,0.13,0.7175,0.3725,0.158,0.17,9\\nM,0.525,0.405,0.135,0.7575,0.3305,0.216,0.195,10\\nM,0.44,0.375,0.13,0.487,0.226,0.0965,0.155,9\\nI,0.485,0.415,0.14,0.5705,0.25,0.134,0.185,8\\nF,0.495,0.385,0.13,0.6905,0.3125,0.179,0.175,10\\nI,0.435,0.345,0.12,0.4475,0.221,0.112,0.125,7\\nI,0.405,0.315,0.105,0.347,0.1605,0.0785,0.1,9\\nI,0.42,0.33,0.1,0.352,0.1635,0.089,0.1,9\\nF,0.5,0.395,0.15,0.7145,0.3235,0.173,0.195,9\\nF,0.385,0.305,0.105,0.3315,0.1365,0.0745,0.1,7\\nI,0.33,0.265,0.09,0.18,0.068,0.036,0.06,6\\nF,0.58,0.475,0.155,0.974,0.4305,0.23,0.285,10\\nI,0.325,0.27,0.1,0.185,0.08,0.0435,0.065,6\\nM,0.475,0.375,0.12,0.563,0.2525,0.1205,0.185,10\\nF,0.38,0.3,0.09,0.3215,0.1545,0.075,0.095,9\\nI,0.34,0.26,0.09,0.179,0.076,0.0525,0.055,6\\nM,0.525,0.425,0.12,0.702,0.3335,0.1465,0.22,12\\nF,0.52,0.415,0.145,0.8045,0.3325,0.1725,0.285,10\\nF,0.535,0.45,0.135,0.8075,0.322,0.181,0.25,13\\nM,0.475,0.36,0.12,0.578,0.2825,0.12,0.17,8\\nI,0.415,0.325,0.1,0.385,0.167,0.08,0.125,7\\nI,0.495,0.385,0.125,0.585,0.2755,0.1235,0.165,8\\nF,0.48,0.405,0.13,0.6375,0.277,0.1445,0.21,10\\nF,0.52,0.425,0.15,0.813,0.385,0.2015,0.23,10\\nM,0.46,0.375,0.13,0.5735,0.2505,0.119,0.195,9\\nF,0.58,0.455,0.12,0.94,0.399,0.257,0.265,11\\nM,0.59,0.49,0.135,1.008,0.422,0.2245,0.285,11\\nF,0.55,0.415,0.135,0.775,0.302,0.179,0.26,23\\nF,0.65,0.5,0.165,1.1445,0.485,0.218,0.365,12\\nF,0.465,0.375,0.135,0.6,0.2225,0.129,0.23,16\\nM,0.455,0.355,0.13,0.515,0.2,0.1275,0.175,11\\nM,0.47,0.375,0.13,0.5795,0.2145,0.164,0.195,13\\nF,0.435,0.35,0.11,0.384,0.143,0.1005,0.125,13\\nM,0.35,0.265,0.11,0.2965,0.1365,0.063,0.085,7\\nI,0.315,0.24,0.07,0.137,0.0545,0.0315,0.04,8\\nM,0.595,0.47,0.145,0.991,0.4035,0.1505,0.34,16\\nF,0.58,0.475,0.135,0.925,0.391,0.165,0.275,14\\nM,0.575,0.435,0.15,0.805,0.293,0.1625,0.27,17\\nM,0.535,0.435,0.155,0.8915,0.3415,0.177,0.25,13\\nM,0.515,0.42,0.14,0.769,0.2505,0.154,0.29,13\\nF,0.505,0.385,0.135,0.6185,0.251,0.1175,0.2,12\\nF,0.505,0.395,0.145,0.6515,0.2695,0.153,0.205,15\\nI,0.4,0.31,0.1,0.2875,0.1145,0.0635,0.095,10\\nM,0.49,0.395,0.135,0.5545,0.213,0.0925,0.215,14\\nM,0.53,0.435,0.135,0.7365,0.3275,0.1315,0.22,12\\nI,0.395,0.325,0.105,0.306,0.111,0.0735,0.095,8\\nF,0.665,0.535,0.19,1.496,0.5775,0.2815,0.475,17\\nF,0.415,0.305,0.105,0.3605,0.12,0.082,0.1,10\\nM,0.43,0.345,0.115,0.3045,0.0925,0.055,0.12,11\\nM,0.475,0.395,0.135,0.592,0.2465,0.1645,0.2,13\\nF,0.525,0.425,0.145,0.7995,0.3345,0.209,0.24,15\\nI,0.48,0.39,0.145,0.5825,0.2315,0.121,0.255,15\\nI,0.42,0.345,0.115,0.3435,0.1515,0.0795,0.115,9\\nM,0.59,0.46,0.155,0.906,0.327,0.1485,0.335,15\\nF,0.515,0.42,0.135,0.6295,0.2815,0.127,0.215,9\\nM,0.695,0.55,0.22,1.5515,0.566,0.3835,0.445,13\\nF,0.8,0.63,0.195,2.526,0.933,0.59,0.62,23\\nM,0.61,0.49,0.15,1.103,0.425,0.2025,0.36,23\\nF,0.565,0.48,0.175,0.957,0.3885,0.215,0.275,18\\nM,0.56,0.455,0.165,0.86,0.4015,0.1695,0.245,11\\nM,0.655,0.485,0.195,1.62,0.6275,0.358,0.485,17\\nM,0.64,0.52,0.2,1.407,0.566,0.304,0.455,17\\nF,0.59,0.47,0.17,0.9,0.355,0.1905,0.25,11\\nI,0.31,0.24,0.09,0.1455,0.0605,0.0315,0.045,7\\nI,0.255,0.185,0.07,0.075,0.028,0.018,0.025,6\\nI,0.17,0.125,0.055,0.0235,0.009,0.0055,0.008,6\\nM,0.67,0.55,0.17,1.247,0.472,0.2455,0.4,21\\nF,0.71,0.565,0.195,1.7265,0.638,0.3365,0.565,17\\nF,0.56,0.43,0.125,0.8025,0.313,0.1715,0.263,13\\nM,0.505,0.4,0.13,0.764,0.3035,0.189,0.2175,11\\nM,0.525,0.43,0.165,0.8645,0.376,0.1945,0.2515,16\\nF,0.45,0.36,0.105,0.4715,0.2035,0.0935,0.149,9\\nF,0.515,0.435,0.17,0.631,0.2765,0.111,0.216,12\\nM,0.59,0.475,0.16,0.9455,0.3815,0.184,0.27,19\\nM,0.7,0.53,0.19,1.3185,0.548,0.233,0.42,18\\nF,0.72,0.56,0.175,1.7265,0.637,0.3415,0.525,17\\nM,0.635,0.495,0.15,1.081,0.4825,0.242,0.31,11\\nM,0.555,0.44,0.135,0.9025,0.3805,0.2105,0.28,13\\nM,0.575,0.47,0.15,1.1415,0.4515,0.204,0.4,13\\nM,0.585,0.455,0.125,1.027,0.391,0.212,0.25,17\\nF,0.61,0.485,0.21,1.3445,0.535,0.2205,0.515,20\\nF,0.645,0.525,0.2,1.449,0.601,0.2565,0.505,13\\nF,0.545,0.44,0.175,0.7745,0.2985,0.1875,0.265,11\\nM,0.55,0.45,0.155,0.7895,0.343,0.159,0.25,12\\nF,0.66,0.525,0.205,1.3665,0.5005,0.291,0.41,18\\nM,0.57,0.475,0.195,1.0295,0.4635,0.1905,0.305,18\\nF,0.6,0.47,0.2,1.031,0.392,0.2035,0.29,15\\nF,0.63,0.505,0.165,1.065,0.4595,0.216,0.315,12\\nM,0.695,0.57,0.23,1.885,0.8665,0.435,0.5,19\\nM,0.65,0.545,0.16,1.2425,0.487,0.296,0.48,15\\nF,0.72,0.595,0.225,1.969,0.8045,0.423,0.66,16\\nI,0.56,0.44,0.17,0.9445,0.3545,0.2175,0.3,12\\nI,0.42,0.325,0.115,0.354,0.1625,0.064,0.105,8\\nM,0.18,0.125,0.05,0.023,0.0085,0.0055,0.01,3\\nF,0.405,0.325,0.11,0.3575,0.145,0.0725,0.11,12\\nF,0.5,0.405,0.15,0.5965,0.253,0.126,0.185,12\\nI,0.435,0.335,0.11,0.383,0.1555,0.0675,0.135,12\\nM,0.34,0.275,0.09,0.2065,0.0725,0.043,0.07,10\\nF,0.43,0.34,0.11,0.382,0.154,0.0955,0.109,8\\nI,0.535,0.41,0.155,0.6315,0.2745,0.1415,0.1815,12\\nI,0.415,0.325,0.115,0.3285,0.1405,0.051,0.106,12\\nF,0.36,0.265,0.09,0.2165,0.096,0.037,0.0735,10\\nM,0.175,0.135,0.04,0.0305,0.011,0.0075,0.01,5\\nM,0.155,0.115,0.025,0.024,0.009,0.005,0.0075,5\\nI,0.525,0.43,0.15,0.7365,0.3225,0.161,0.215,11\\nF,0.525,0.39,0.135,0.6005,0.2265,0.131,0.21,16\\nF,0.44,0.345,0.105,0.4285,0.165,0.083,0.132,11\\nF,0.45,0.345,0.115,0.496,0.1905,0.117,0.14,12\\nF,0.485,0.365,0.14,0.6195,0.2595,0.1445,0.177,14\\nI,0.47,0.35,0.135,0.567,0.2315,0.1465,0.1525,11\\nI,0.515,0.375,0.14,0.6505,0.2495,0.141,0.2215,10\\nM,0.42,0.34,0.125,0.4495,0.165,0.1125,0.144,11\\nF,0.455,0.35,0.125,0.4485,0.1585,0.102,0.1335,16\\nM,0.37,0.29,0.09,0.241,0.11,0.045,0.069,10\\nM,0.33,0.25,0.09,0.197,0.085,0.041,0.0605,10\\nI,0.3,0.22,0.09,0.1425,0.057,0.0335,0.043,7\\nI,0.625,0.46,0.16,1.2395,0.55,0.273,0.38,14\\nI,0.61,0.475,0.17,1.0385,0.4435,0.241,0.32,14\\nI,0.625,0.465,0.155,0.972,0.404,0.1845,0.35,14\\nI,0.635,0.505,0.19,1.3315,0.5805,0.252,0.435,17\\nI,0.5,0.385,0.155,0.762,0.3795,0.161,0.19,14\\nF,0.53,0.43,0.17,0.775,0.35,0.152,0.235,17\\nI,0.445,0.33,0.1,0.437,0.163,0.0755,0.17,13\\nF,0.585,0.415,0.155,0.6985,0.3,0.146,0.195,12\\nI,0.44,0.355,0.165,0.435,0.159,0.105,0.14,16\\nM,0.29,0.225,0.08,0.1295,0.0535,0.026,0.045,10\\nI,0.555,0.455,0.17,0.8435,0.309,0.1905,0.3,15\\nI,0.655,0.515,0.145,1.25,0.5265,0.283,0.315,15\\nF,0.58,0.46,0.185,1.017,0.3515,0.2,0.32,10\\nI,0.625,0.43,0.175,1.411,0.572,0.297,0.395,12\\nI,0.62,0.485,0.17,1.208,0.4805,0.3045,0.33,15\\nF,0.64,0.5,0.15,1.0705,0.371,0.2705,0.36,8\\nF,0.505,0.375,0.115,0.5895,0.2635,0.12,0.167,10\\nI,0.5,0.395,0.12,0.537,0.2165,0.1085,0.1785,9\\nM,0.31,0.245,0.095,0.15,0.0525,0.034,0.048,7\\nF,0.505,0.38,0.145,0.651,0.2935,0.19,0.17,12\\nI,0.42,0.305,0.11,0.28,0.094,0.0785,0.0955,9\\nM,0.4,0.315,0.105,0.287,0.1135,0.037,0.113,10\\nM,0.425,0.315,0.125,0.3525,0.1135,0.0565,0.13,18\\nM,0.31,0.235,0.06,0.12,0.0415,0.033,0.04,11\\nF,0.465,0.35,0.13,0.494,0.1945,0.103,0.155,18\\nF,0.465,0.36,0.12,0.4765,0.192,0.1125,0.16,10\\nM,0.35,0.255,0.085,0.2145,0.1,0.0465,0.06,13\\nI,0.52,0.415,0.16,0.595,0.2105,0.142,0.26,15\\nF,0.475,0.365,0.13,0.4805,0.1905,0.114,0.1475,12\\nF,0.41,0.315,0.11,0.321,0.1255,0.0655,0.095,10\\nM,0.26,0.2,0.065,0.096,0.044,0.027,0.03,6\\nI,0.575,0.45,0.17,0.9315,0.358,0.2145,0.26,13\\nI,0.565,0.435,0.155,0.782,0.2715,0.168,0.285,14\\nM,0.26,0.19,0.075,0.0945,0.0445,0.02,0.03,6\\nF,0.53,0.385,0.125,0.6695,0.289,0.151,0.18,10\\nM,0.34,0.255,0.095,0.213,0.081,0.034,0.07,9\\nI,0.52,0.38,0.14,0.525,0.1775,0.115,0.185,11\\nF,0.635,0.5,0.18,1.312,0.529,0.2485,0.485,18\\nF,0.61,0.485,0.165,1.087,0.4255,0.232,0.38,11\\nF,0.66,0.515,0.18,1.523,0.54,0.3365,0.555,16\\nI,0.635,0.5,0.18,1.319,0.5485,0.292,0.49,16\\nF,0.465,0.38,0.135,0.579,0.208,0.1095,0.22,14\\nM,0.515,0.4,0.16,0.8175,0.2515,0.156,0.3,23\\nI,0.335,0.24,0.095,0.17,0.062,0.039,0.055,9\\nF,0.515,0.4,0.17,0.796,0.258,0.1755,0.28,16\\nF,0.345,0.255,0.1,0.197,0.071,0.051,0.06,9\\nM,0.465,0.355,0.125,0.5255,0.2025,0.135,0.145,13\\nM,0.54,0.415,0.17,0.879,0.339,0.208,0.255,10\\nM,0.475,0.355,0.125,0.4625,0.186,0.107,0.145,9\\nF,0.445,0.335,0.14,0.4565,0.1785,0.114,0.14,11\\nM,0.5,0.355,0.14,0.528,0.2125,0.149,0.14,9\\nM,0.5,0.38,0.135,0.5835,0.2295,0.1265,0.18,12\\nF,0.55,0.435,0.17,0.884,0.2875,0.1645,0.28,14\\nI,0.275,0.205,0.08,0.096,0.036,0.0185,0.03,6\\nF,0.35,0.265,0.09,0.1855,0.0745,0.0415,0.06,7\\nF,0.37,0.285,0.105,0.27,0.1125,0.0585,0.0835,9\\nF,0.42,0.33,0.125,0.463,0.186,0.11,0.145,10\\nM,0.35,0.26,0.09,0.198,0.0725,0.056,0.06,10\\nM,0.395,0.305,0.105,0.282,0.0975,0.065,0.096,9\\nI,0.325,0.2,0.08,0.0995,0.0395,0.0225,0.032,8\\nI,0.275,0.2,0.065,0.092,0.0385,0.0235,0.027,5\\nI,0.235,0.17,0.065,0.0625,0.023,0.014,0.022,6\\nI,0.25,0.18,0.06,0.073,0.028,0.017,0.0225,5\\nI,0.25,0.185,0.065,0.071,0.027,0.0185,0.0225,5\\nI,0.2,0.145,0.05,0.036,0.0125,0.008,0.011,4\\nF,0.585,0.47,0.17,1.099,0.3975,0.2325,0.358,20\\nM,0.445,0.35,0.14,0.5905,0.2025,0.158,0.19,14\\nF,0.5,0.385,0.13,0.768,0.2625,0.095,0.27,13\\nM,0.44,0.325,0.08,0.413,0.144,0.1015,0.13,8\\nM,0.515,0.405,0.14,0.8505,0.312,0.146,0.315,17\\nF,0.52,0.405,0.14,0.6915,0.276,0.137,0.215,11\\nM,0.5,0.39,0.13,0.709,0.275,0.168,0.18,11\\nM,0.425,0.325,0.12,0.3755,0.142,0.1065,0.105,9\\nM,0.51,0.415,0.14,0.8185,0.3025,0.2155,0.235,16\\nF,0.37,0.275,0.08,0.227,0.093,0.0625,0.07,8\\nM,0.54,0.415,0.13,0.8245,0.272,0.226,0.24,13\\nM,0.615,0.475,0.17,1.1825,0.474,0.2895,0.24,11\\nM,0.565,0.44,0.175,1.122,0.393,0.2,0.375,20\\nM,0.645,0.515,0.175,1.6115,0.6745,0.384,0.385,14\\nF,0.615,0.47,0.175,1.2985,0.5135,0.343,0.32,14\\nM,0.605,0.49,0.145,1.3,0.517,0.3285,0.31,14\\nF,0.59,0.455,0.165,1.161,0.38,0.2455,0.28,12\\nM,0.645,0.485,0.155,1.489,0.5915,0.312,0.38,18\\nM,0.57,0.42,0.155,1.008,0.377,0.193,0.34,13\\nF,0.47,0.355,0.18,0.441,0.1525,0.1165,0.135,8\\nF,0.5,0.44,0.155,0.742,0.2025,0.2005,0.2115,14\\nF,0.52,0.425,0.145,0.7,0.207,0.1905,0.24,13\\nM,0.39,0.285,0.095,0.271,0.11,0.06,0.08,8\\nM,0.52,0.4,0.165,0.8565,0.2745,0.201,0.21,12\\nF,0.54,0.415,0.175,0.8975,0.275,0.241,0.275,14\\nM,0.46,0.36,0.135,0.6105,0.1955,0.107,0.235,14\\nI,0.355,0.26,0.09,0.1925,0.077,0.038,0.065,8\\nF,0.49,0.4,0.145,0.6635,0.21,0.1295,0.2515,13\\nF,0.63,0.51,0.185,1.235,0.5115,0.349,0.3065,11\\nM,0.5,0.385,0.145,0.7615,0.246,0.195,0.204,14\\nM,0.49,0.39,0.135,0.592,0.242,0.096,0.1835,15\\nM,0.44,0.325,0.115,0.39,0.163,0.087,0.113,7\\nF,0.515,0.395,0.165,0.7565,0.1905,0.17,0.3205,10\\nF,0.475,0.38,0.145,0.57,0.167,0.118,0.187,11\\nI,0.42,0.31,0.1,0.2865,0.115,0.0735,0.085,8\\nM,0.4,0.305,0.13,0.2935,0.096,0.0675,0.105,9\\nM,0.45,0.36,0.16,0.567,0.174,0.1245,0.225,12\\nF,0.52,0.4,0.13,0.6245,0.215,0.2065,0.17,15\\nM,0.505,0.4,0.155,0.8415,0.2715,0.1775,0.285,12\\nM,0.495,0.4,0.14,0.7775,0.2015,0.18,0.25,15\\nM,0.54,0.41,0.145,0.989,0.2815,0.213,0.355,19\\nF,0.48,0.39,0.125,0.6905,0.219,0.155,0.2,12\\nF,0.33,0.26,0.08,0.2,0.0625,0.05,0.07,9\\nI,0.285,0.21,0.07,0.109,0.044,0.0265,0.033,5\\nI,0.3,0.23,0.075,0.127,0.052,0.03,0.0345,6\\nI,0.31,0.24,0.105,0.2885,0.118,0.065,0.083,6\\nI,0.34,0.255,0.075,0.18,0.0745,0.04,0.0525,6\\nI,0.375,0.3,0.075,0.144,0.059,0.03,0.044,7\\nI,0.415,0.325,0.1,0.4665,0.2285,0.1065,0.114,7\\nI,0.415,0.315,0.105,0.33,0.1405,0.0705,0.095,6\\nI,0.415,0.315,0.09,0.3625,0.175,0.0835,0.093,6\\nI,0.42,0.32,0.1,0.34,0.1745,0.05,0.0945,8\\nI,0.425,0.31,0.105,0.365,0.159,0.0825,0.105,6\\nM,0.465,0.375,0.11,0.5,0.21,0.113,0.1505,8\\nF,0.465,0.35,0.135,0.6265,0.259,0.1445,0.175,8\\nI,0.47,0.37,0.11,0.5555,0.25,0.115,0.163,8\\nF,0.47,0.375,0.12,0.6015,0.2765,0.1455,0.135,8\\nI,0.475,0.365,0.12,0.53,0.2505,0.0975,0.1625,10\\nM,0.48,0.37,0.135,0.6315,0.3445,0.1015,0.161,7\\nM,0.5,0.4,0.13,0.7715,0.37,0.16,0.211,8\\nI,0.505,0.39,0.185,0.6125,0.267,0.142,0.172,7\\nM,0.525,0.425,0.19,0.872,0.4625,0.1725,0.199,9\\nM,0.54,0.42,0.12,0.8115,0.392,0.1455,0.2235,9\\nM,0.545,0.45,0.15,0.8795,0.387,0.15,0.2625,11\\nF,0.565,0.44,0.15,0.983,0.4475,0.2355,0.2485,9\\nM,0.58,0.46,0.18,1.145,0.48,0.277,0.325,11\\nM,0.59,0.455,0.16,1.09,0.5,0.2215,0.292,9\\nM,0.59,0.48,0.16,1.262,0.5685,0.2725,0.335,9\\nM,0.595,0.49,0.185,1.185,0.482,0.2015,0.361,10\\nF,0.6,0.475,0.135,1.4405,0.5885,0.191,0.3175,9\\nF,0.6,0.5,0.155,1.332,0.6235,0.2835,0.35,8\\nF,0.6,0.485,0.165,1.1405,0.587,0.2175,0.288,9\\nM,0.605,0.475,0.175,1.201,0.5395,0.275,0.309,10\\nF,0.625,0.49,0.155,1.33,0.6675,0.259,0.33,10\\nM,0.63,0.5,0.185,1.362,0.5785,0.3125,0.384,10\\nM,0.64,0.585,0.195,1.647,0.7225,0.331,0.471,12\\nF,0.64,0.5,0.18,1.4995,0.593,0.314,0.431,11\\nF,0.655,0.545,0.165,1.6225,0.6555,0.299,0.513,12\\nI,0.66,0.525,0.215,1.786,0.6725,0.3615,0.4065,11\\nM,0.66,0.535,0.2,1.791,0.733,0.318,0.54,15\\nF,0.675,0.555,0.205,1.925,0.713,0.358,0.4535,13\\nF,0.675,0.55,0.175,1.689,0.694,0.371,0.474,13\\nF,0.69,0.55,0.18,1.659,0.8715,0.2655,0.4395,9\\nF,0.695,0.53,0.2,2.0475,0.75,0.4195,0.6095,14\\nF,0.7,0.525,0.19,1.6015,0.707,0.365,0.43,10\\nF,0.73,0.57,0.165,2.0165,1.0685,0.418,0.435,10\\nI,0.205,0.15,0.065,0.04,0.02,0.011,0.013,4\\nI,0.225,0.17,0.07,0.0565,0.024,0.013,0.016,4\\nI,0.23,0.18,0.05,0.064,0.0215,0.0135,0.02,5\\nI,0.275,0.195,0.07,0.0875,0.0345,0.022,0.0255,4\\nI,0.28,0.21,0.055,0.106,0.0415,0.0265,0.031,5\\nI,0.28,0.22,0.08,0.1315,0.066,0.024,0.03,5\\nI,0.295,0.22,0.07,0.126,0.0515,0.0275,0.035,6\\nI,0.31,0.225,0.075,0.155,0.065,0.037,0.0365,6\\nI,0.315,0.235,0.07,0.149,0.058,0.0325,0.047,7\\nI,0.34,0.265,0.07,0.185,0.0625,0.0395,0.07,7\\nI,0.37,0.29,0.08,0.2545,0.108,0.0565,0.07,6\\nI,0.38,0.285,0.085,0.237,0.115,0.0405,0.07,6\\nI,0.39,0.295,0.1,0.279,0.1155,0.059,0.08,7\\nI,0.405,0.31,0.065,0.3205,0.1575,0.066,0.088,6\\nI,0.415,0.325,0.1,0.3335,0.1445,0.0715,0.095,7\\nI,0.44,0.335,0.11,0.3885,0.175,0.0835,0.111,7\\nI,0.44,0.345,0.115,0.545,0.269,0.111,0.1305,6\\nI,0.44,0.325,0.1,0.4165,0.185,0.0865,0.11,6\\nI,0.44,0.355,0.12,0.495,0.231,0.11,0.125,7\\nI,0.45,0.35,0.125,0.4775,0.2235,0.089,0.118,6\\nI,0.45,0.35,0.12,0.468,0.2005,0.1065,0.1325,8\\nF,0.455,0.35,0.12,0.4555,0.1945,0.1045,0.1375,7\\nF,0.46,0.35,0.115,0.46,0.2025,0.1115,0.1165,6\\nI,0.46,0.345,0.12,0.4155,0.198,0.0885,0.107,7\\nI,0.46,0.345,0.115,0.4215,0.1895,0.102,0.111,6\\nI,0.465,0.355,0.11,0.474,0.23,0.1005,0.12,7\\nM,0.465,0.34,0.105,0.486,0.231,0.1035,0.1225,9\\nI,0.475,0.385,0.11,0.5735,0.311,0.1025,0.136,7\\nI,0.475,0.355,0.105,0.468,0.201,0.1115,0.12,8\\nM,0.48,0.37,0.1,0.5135,0.243,0.1015,0.135,8\\nM,0.5,0.375,0.145,0.6215,0.274,0.166,0.1485,7\\nI,0.5,0.38,0.11,0.494,0.218,0.09,0.1325,7\\nI,0.505,0.385,0.12,0.6005,0.239,0.142,0.185,7\\nM,0.515,0.395,0.12,0.646,0.285,0.1365,0.172,9\\nM,0.525,0.415,0.135,0.7945,0.394,0.189,0.202,7\\nM,0.525,0.425,0.125,0.812,0.4035,0.1705,0.195,8\\nF,0.53,0.42,0.17,0.828,0.41,0.208,0.1505,6\\nM,0.53,0.41,0.14,0.681,0.3095,0.1415,0.1835,6\\nF,0.53,0.405,0.15,0.889,0.4055,0.2275,0.215,8\\nM,0.54,0.435,0.14,0.7345,0.33,0.1595,0.213,9\\nF,0.55,0.425,0.125,0.964,0.5475,0.159,0.215,8\\nF,0.555,0.425,0.14,0.963,0.44,0.224,0.24,7\\nF,0.57,0.445,0.15,0.995,0.504,0.185,0.2505,9\\nF,0.57,0.435,0.14,0.8585,0.3905,0.196,0.2295,8\\nM,0.575,0.45,0.155,0.948,0.429,0.206,0.259,7\\nF,0.58,0.445,0.145,0.888,0.41,0.1815,0.2425,8\\nF,0.585,0.45,0.16,0.9045,0.405,0.2215,0.2335,8\\nM,0.59,0.465,0.14,1.046,0.4695,0.263,0.263,7\\nF,0.595,0.47,0.155,1.1775,0.542,0.269,0.31,9\\nF,0.595,0.465,0.15,1.0765,0.491,0.22,0.287,9\\nF,0.595,0.465,0.15,1.0255,0.412,0.2745,0.289,11\\nF,0.6,0.46,0.145,0.9325,0.3985,0.2245,0.248,8\\nF,0.6,0.46,0.15,1.235,0.6025,0.274,0.29,8\\nM,0.6,0.46,0.15,1.247,0.5335,0.2735,0.29,9\\nM,0.61,0.48,0.15,1.1495,0.564,0.274,0.264,8\\nF,0.615,0.485,0.16,1.1575,0.5005,0.2495,0.315,10\\nF,0.615,0.5,0.165,1.327,0.6,0.3015,0.355,10\\nM,0.615,0.47,0.155,1.2,0.5085,0.32,0.292,8\\nF,0.62,0.51,0.175,1.2705,0.5415,0.323,0.3225,9\\nF,0.62,0.485,0.175,1.2155,0.545,0.253,0.345,10\\nF,0.62,0.475,0.16,1.3245,0.6865,0.233,0.3275,9\\nM,0.625,0.48,0.17,1.3555,0.671,0.268,0.3385,10\\nF,0.625,0.49,0.165,1.127,0.477,0.2365,0.3185,9\\nF,0.625,0.49,0.175,1.1075,0.4485,0.2165,0.3595,8\\nF,0.63,0.495,0.2,1.4255,0.659,0.336,0.38,11\\nF,0.63,0.495,0.145,1.147,0.5455,0.266,0.2885,9\\nM,0.63,0.48,0.165,1.286,0.604,0.271,0.35,8\\nF,0.635,0.495,0.18,1.596,0.617,0.317,0.37,11\\nF,0.635,0.495,0.195,1.297,0.556,0.2985,0.37,11\\nM,0.645,0.49,0.16,1.251,0.5355,0.3345,0.3165,9\\nM,0.645,0.5,0.175,1.5105,0.6735,0.3755,0.3775,12\\nF,0.65,0.5,0.185,1.4415,0.741,0.2955,0.341,9\\nM,0.67,0.52,0.19,1.6385,0.8115,0.369,0.391,9\\nF,0.69,0.545,0.205,1.933,0.7855,0.429,0.498,13\\nM,0.69,0.54,0.185,1.71,0.7725,0.3855,0.4325,8\\nF,0.695,0.55,0.155,1.8495,0.767,0.442,0.4175,10\\nM,0.695,0.525,0.175,1.742,0.696,0.389,0.505,12\\nF,0.7,0.575,0.205,1.7975,0.7295,0.3935,0.5165,13\\nF,0.705,0.56,0.205,2.381,0.9915,0.5005,0.624,10\\nM,0.765,0.585,0.18,2.398,1.128,0.512,0.5335,12\\nM,0.77,0.6,0.215,2.1945,1.0515,0.482,0.584,10\\nI,0.22,0.16,0.05,0.049,0.0215,0.01,0.015,4\\nI,0.275,0.205,0.07,0.1055,0.495,0.019,0.0315,5\\nI,0.29,0.21,0.06,0.1045,0.0415,0.022,0.035,5\\nI,0.33,0.24,0.075,0.163,0.0745,0.033,0.048,6\\nI,0.355,0.285,0.095,0.2275,0.0955,0.0475,0.0715,6\\nI,0.375,0.29,0.1,0.219,0.0925,0.038,0.075,6\\nI,0.415,0.315,0.1,0.3645,0.1765,0.0795,0.095,8\\nI,0.425,0.33,0.115,0.3265,0.1315,0.077,0.103,6\\nI,0.425,0.34,0.1,0.3515,0.1625,0.082,0.094,7\\nI,0.43,0.32,0.1,0.3465,0.1635,0.08,0.09,7\\nI,0.44,0.34,0.1,0.407,0.209,0.0735,0.103,7\\nI,0.44,0.335,0.115,0.4215,0.173,0.0765,0.113,7\\nI,0.46,0.345,0.11,0.3755,0.1525,0.058,0.125,7\\nI,0.46,0.37,0.12,0.5335,0.2645,0.108,0.1345,6\\nI,0.465,0.355,0.105,0.442,0.2085,0.0975,0.1185,7\\nI,0.475,0.365,0.1,0.1315,0.2025,0.0875,0.123,7\\nI,0.475,0.375,0.115,0.5205,0.233,0.119,0.1455,7\\nI,0.485,0.375,0.13,0.5535,0.266,0.112,0.157,8\\nI,0.49,0.375,0.125,0.5445,0.279,0.115,0.13,8\\nM,0.49,0.38,0.11,0.554,0.2935,0.1005,0.15,8\\nI,0.495,0.38,0.12,0.512,0.233,0.1205,0.136,7\\nI,0.5,0.39,0.125,0.583,0.294,0.132,0.1605,8\\nM,0.5,0.38,0.12,0.5765,0.273,0.135,0.145,9\\nM,0.505,0.4,0.135,0.723,0.377,0.149,0.178,7\\nI,0.51,0.395,0.155,0.5395,0.2465,0.1085,0.167,8\\nI,0.51,0.385,0.15,0.625,0.3095,0.119,0.1725,8\\nI,0.515,0.4,0.125,0.5925,0.265,0.1175,0.168,9\\nI,0.52,0.395,0.135,0.633,0.2985,0.1295,0.175,9\\nF,0.545,0.43,0.14,0.832,0.4355,0.17,0.201,9\\nM,0.545,0.42,0.145,0.778,0.3745,0.1545,0.205,7\\nM,0.545,0.42,0.12,0.7865,0.403,0.185,0.17,7\\nF,0.545,0.4,0.14,0.778,0.368,0.215,0.18,9\\nI,0.55,0.42,0.13,0.636,0.294,0.144,0.1755,8\\nF,0.55,0.44,0.135,0.8435,0.434,0.1995,0.185,8\\nI,0.555,0.425,0.13,0.648,0.2835,0.133,0.2105,8\\nM,0.565,0.43,0.13,0.784,0.3495,0.1885,0.213,9\\nF,0.57,0.45,0.18,0.908,0.4015,0.217,0.255,9\\nM,0.57,0.45,0.135,1.02,0.546,0.204,0.25,9\\nF,0.57,0.43,0.16,0.811,0.3875,0.159,0.2285,9\\nF,0.575,0.48,0.15,0.897,0.4235,0.1905,0.248,8\\nM,0.58,0.455,0.13,0.852,0.41,0.1725,0.225,8\\nF,0.585,0.45,0.15,0.938,0.467,0.203,0.225,7\\nF,0.585,0.435,0.14,0.6955,0.3085,0.129,0.2245,8\\nM,0.59,0.47,0.15,0.861,0.413,0.164,0.249,8\\nM,0.59,0.46,0.14,1.004,0.496,0.2165,0.26,9\\nF,0.59,0.46,0.16,1.0115,0.445,0.2615,0.2565,8\\nF,0.595,0.465,0.15,1.1005,0.5415,0.166,0.265,8\\nM,0.595,0.47,0.165,1.108,0.4915,0.2325,0.3345,9\\nM,0.595,0.46,0.14,0.852,0.4215,0.2255,0.227,9\\nM,0.6,0.49,0.21,1.9875,1.005,0.419,0.491,10\\nF,0.605,0.48,0.15,1.079,0.4505,0.2835,0.293,10\\nF,0.615,0.475,0.17,1.055,0.543,0.246,0.2345,9\\nM,0.615,0.45,0.15,1.198,0.707,0.2095,0.2505,7\\nF,0.615,0.47,0.155,1.084,0.5885,0.209,0.246,9\\nM,0.615,0.475,0.175,1.103,0.4635,0.3095,0.2725,10\\nM,0.62,0.49,0.155,1.1,0.505,0.2475,0.31,9\\nM,0.62,0.48,0.15,1.1015,0.4965,0.243,0.305,10\\nM,0.625,0.495,0.185,1.3835,0.7105,0.3005,0.345,11\\nF,0.625,0.49,0.155,1.115,0.484,0.277,0.3095,9\\nM,0.625,0.48,0.145,1.085,0.4645,0.2445,0.327,10\\nM,0.63,0.505,0.15,1.3165,0.6325,0.2465,0.37,11\\nM,0.63,0.51,0.175,1.3415,0.6575,0.262,0.375,10\\nM,0.63,0.465,0.15,1.027,0.537,0.188,0.176,8\\nM,0.645,0.515,0.16,1.1845,0.506,0.311,0.335,9\\nM,0.645,0.48,0.15,1.192,0.6055,0.2595,0.285,9\\nF,0.645,0.52,0.18,1.285,0.5775,0.352,0.317,9\\nM,0.65,0.515,0.125,1.1805,0.5235,0.283,0.3275,9\\nM,0.65,0.52,0.175,1.2655,0.615,0.2775,0.336,9\\nF,0.65,0.535,0.175,1.2895,0.6095,0.2765,0.344,10\\nM,0.65,0.51,0.155,1.407,0.7215,0.298,0.335,9\\nF,0.65,0.49,0.155,1.122,0.545,0.228,0.3055,9\\nM,0.66,0.515,0.165,1.4465,0.694,0.298,0.3755,10\\nF,0.665,0.505,0.165,1.349,0.5985,0.3175,0.36,9\\nM,0.67,0.5,0.2,1.269,0.576,0.2985,0.351,11\\nM,0.67,0.51,0.18,1.68,0.926,0.2975,0.3935,13\\nF,0.675,0.55,0.19,1.551,0.7105,0.3685,0.412,13\\nM,0.68,0.52,0.165,1.4775,0.724,0.279,0.406,11\\nM,0.68,0.53,0.18,1.529,0.7635,0.3115,0.4025,11\\nM,0.7,0.525,0.175,1.7585,0.8745,0.3615,0.47,10\\nM,0.7,0.55,0.2,1.523,0.693,0.306,0.4405,13\\nF,0.725,0.53,0.19,1.7315,0.83,0.398,0.405,11\\nM,0.725,0.55,0.2,1.51,0.8735,0.4265,0.5085,9\\nM,0.735,0.57,0.175,1.88,0.9095,0.387,0.488,11\\nF,0.74,0.575,0.22,2.012,0.8915,0.5265,0.471,12\\nM,0.75,0.555,0.215,2.201,1.0615,0.5235,0.5285,11\\nI,0.19,0.14,0.03,0.0315,0.0125,0.005,0.0105,3\\nI,0.21,0.15,0.045,0.04,0.0135,0.008,0.0105,4\\nI,0.25,0.175,0.06,0.0635,0.0275,0.008,0.02,4\\nI,0.29,0.215,0.065,0.0985,0.0425,0.021,0.031,5\\nI,0.335,0.25,0.08,0.167,0.0675,0.0325,0.0575,6\\nI,0.34,0.245,0.085,0.2015,0.1005,0.038,0.053,6\\nI,0.345,0.255,0.095,0.183,0.075,0.0385,0.06,6\\nI,0.355,0.255,0.08,0.187,0.078,0.0505,0.058,7\\nI,0.36,0.26,0.08,0.1795,0.074,0.0315,0.06,5\\nI,0.37,0.275,0.09,0.2065,0.096,0.0395,0.058,7\\nI,0.375,0.29,0.14,0.3,0.14,0.0625,0.0825,8\\nI,0.375,0.275,0.095,0.2295,0.095,0.0545,0.066,7\\nI,0.385,0.3,0.125,0.343,0.1705,0.0735,0.081,7\\nI,0.385,0.285,0.085,0.244,0.1215,0.0445,0.068,8\\nI,0.395,0.32,0.1,0.3075,0.149,0.0535,0.09,8\\nI,0.4,0.305,0.1,0.3415,0.176,0.0625,0.0865,7\\nI,0.405,0.305,0.1,0.271,0.0965,0.061,0.091,7\\nI,0.405,0.31,0.11,0.91,0.416,0.2075,0.0995,8\\nI,0.405,0.305,0.1,0.268,0.1145,0.053,0.085,7\\nI,0.405,0.3,0.09,0.2885,0.138,0.0635,0.0765,6\\nI,0.41,0.315,0.1,0.3,0.124,0.0575,0.1,8\\nI,0.41,0.325,0.11,0.326,0.1325,0.075,0.101,8\\nI,0.415,0.335,0.1,0.358,0.169,0.067,0.105,7\\nI,0.42,0.325,0.115,0.314,0.1295,0.0635,0.1,8\\nI,0.42,0.315,0.11,0.4025,0.1855,0.083,0.1015,8\\nI,0.43,0.34,0.11,0.3645,0.159,0.0855,0.105,7\\nI,0.445,0.36,0.11,0.4235,0.182,0.0765,0.14,9\\nM,0.45,0.325,0.115,0.4305,0.2235,0.0785,0.1155,8\\nI,0.45,0.335,0.095,0.3505,0.1615,0.0625,0.1185,7\\nI,0.455,0.34,0.115,0.486,0.261,0.0655,0.1315,8\\nI,0.46,0.35,0.1,0.471,0.252,0.077,0.123,8\\nI,0.46,0.345,0.105,0.415,0.187,0.087,0.11,8\\nI,0.475,0.355,0.115,0.5195,0.279,0.088,0.1325,7\\nM,0.48,0.375,0.12,0.5895,0.2535,0.128,0.172,11\\nI,0.485,0.38,0.125,0.5215,0.2215,0.118,0.16,8\\nI,0.485,0.365,0.14,0.4475,0.1895,0.0925,0.2305,8\\nI,0.49,0.365,0.125,0.5585,0.252,0.126,0.1615,10\\nI,0.505,0.385,0.125,0.596,0.245,0.097,0.21,9\\nI,0.505,0.38,0.135,0.5385,0.2645,0.095,0.165,9\\nI,0.51,0.385,0.145,0.7665,0.3985,0.14,0.1805,8\\nF,0.515,0.395,0.135,0.516,0.2015,0.132,0.162,9\\nM,0.515,0.41,0.14,0.7355,0.3065,0.137,0.2,7\\nI,0.515,0.39,0.11,0.531,0.2415,0.098,0.1615,8\\nI,0.525,0.385,0.13,0.607,0.2355,0.125,0.195,8\\nF,0.525,0.415,0.15,0.7055,0.329,0.147,0.199,10\\nI,0.525,0.4,0.13,0.6445,0.345,0.1285,0.2,8\\nI,0.525,0.375,0.12,0.6315,0.3045,0.114,0.19,9\\nM,0.535,0.43,0.155,0.7845,0.3285,0.169,0.245,10\\nF,0.545,0.44,0.15,0.9475,0.366,0.239,0.275,8\\nI,0.55,0.43,0.145,0.712,0.3025,0.152,0.225,10\\nI,0.55,0.425,0.145,0.89,0.4325,0.171,0.236,10\\nI,0.55,0.42,0.155,0.912,0.495,0.1805,0.205,9\\nI,0.55,0.425,0.135,0.656,0.257,0.17,0.203,10\\nI,0.55,0.465,0.15,0.936,0.481,0.174,0.2435,9\\nI,0.555,0.435,0.145,0.6975,0.262,0.1575,0.24,11\\nF,0.555,0.445,0.175,1.1465,0.551,0.244,0.2785,8\\nI,0.56,0.44,0.14,0.825,0.402,0.139,0.245,10\\nI,0.56,0.435,0.135,0.72,0.329,0.103,0.251,11\\nI,0.565,0.43,0.15,0.8215,0.332,0.1685,0.29,11\\nF,0.57,0.445,0.155,1.017,0.5265,0.2025,0.265,10\\nF,0.575,0.435,0.155,0.8975,0.4115,0.2325,0.23,9\\nM,0.58,0.44,0.175,1.2255,0.5405,0.2705,0.3265,10\\nF,0.58,0.465,0.145,0.9865,0.47,0.2155,0.25,11\\nF,0.58,0.425,0.15,0.844,0.3645,0.185,0.2705,9\\nI,0.585,0.46,0.145,0.8465,0.339,0.167,0.295,10\\nM,0.585,0.465,0.165,0.885,0.4025,0.1625,0.274,10\\nI,0.585,0.42,0.145,0.6735,0.2895,0.1345,0.22,9\\nF,0.585,0.455,0.13,0.8755,0.411,0.2065,0.225,8\\nM,0.59,0.47,0.145,0.9235,0.4545,0.173,0.254,9\\nM,0.59,0.475,0.14,0.977,0.4625,0.2025,0.275,10\\nM,0.595,0.475,0.14,1.0305,0.4925,0.217,0.278,10\\nM,0.6,0.48,0.09,1.05,0.457,0.2685,0.28,8\\nM,0.6,0.495,0.185,1.1145,0.5055,0.2635,0.367,11\\nM,0.6,0.45,0.145,0.877,0.4325,0.155,0.24,9\\nM,0.6,0.51,0.185,1.285,0.6095,0.2745,0.315,9\\nM,0.61,0.48,0.185,1.3065,0.6895,0.2915,0.29,10\\nF,0.61,0.45,0.13,0.8725,0.389,0.1715,0.272,11\\nF,0.615,0.46,0.15,1.0265,0.4935,0.201,0.2745,10\\nF,0.62,0.465,0.14,1.1605,0.6005,0.2195,0.307,9\\nF,0.62,0.48,0.165,1.0125,0.5325,0.4365,0.324,10\\nM,0.625,0.5,0.14,1.096,0.5445,0.2165,0.295,10\\nM,0.625,0.49,0.165,1.205,0.5175,0.3105,0.3465,10\\nM,0.63,0.505,0.175,1.221,0.555,0.252,0.34,12\\nF,0.63,0.475,0.155,1.0005,0.452,0.252,0.265,10\\nM,0.63,0.47,0.15,1.1355,0.539,0.2325,0.3115,12\\nM,0.63,0.525,0.195,1.3135,0.4935,0.2565,0.465,10\\nM,0.64,0.505,0.155,1.1955,0.5565,0.211,0.346,11\\nM,0.64,0.485,0.15,1.098,0.5195,0.222,0.3175,10\\nM,0.64,0.495,0.17,1.139,0.5395,0.282,0.285,10\\nF,0.64,0.495,0.17,1.2265,0.49,0.377,0.2875,11\\nM,0.64,0.515,0.08,1.042,0.515,0.1755,0.175,10\\nM,0.65,0.52,0.155,1.368,0.6185,0.288,0.365,9\\nM,0.65,0.51,0.175,1.446,0.6485,0.2705,0.45,12\\nF,0.66,0.505,0.19,1.4045,0.6255,0.3375,0.3745,9\\nF,0.66,0.525,0.2,1.463,0.6525,0.2995,0.422,11\\nF,0.675,0.525,0.17,1.711,0.8365,0.352,0.475,9\\nM,0.7,0.54,0.205,1.74,0.7885,0.373,0.4865,13\\nF,0.705,0.54,0.205,1.757,0.8265,0.417,0.461,9\\nM,0.71,0.565,0.2,1.601,0.706,0.321,0.45,11\\nM,0.72,0.55,0.205,2.165,1.1055,0.525,0.404,10\\nM,0.725,0.57,0.19,2.3305,1.253,0.541,0.52,9\\nI,0.24,0.17,0.05,0.0545,0.0205,0.016,0.0155,5\\nI,0.255,0.195,0.055,0.0725,0.0285,0.017,0.021,4\\nI,0.275,0.2,0.055,0.0925,0.038,0.021,0.026,4\\nI,0.32,0.235,0.09,0.183,0.098,0.0335,0.042,7\\nI,0.325,0.24,0.075,0.1525,0.072,0.0645,0.043,6\\nI,0.33,0.225,0.075,0.187,0.0945,0.0395,0.0425,7\\nI,0.36,0.27,0.09,0.232,0.12,0.0435,0.056,8\\nI,0.375,0.265,0.095,0.196,0.085,0.042,0.0585,5\\nI,0.375,0.285,0.09,0.2545,0.119,0.0595,0.0675,6\\nI,0.39,0.29,0.09,0.2625,0.117,0.054,0.077,7\\nI,0.45,0.335,0.105,0.362,0.1575,0.0795,0.1095,7\\nI,0.455,0.35,0.105,0.4445,0.213,0.107,0.1115,7\\nI,0.46,0.365,0.115,0.511,0.2365,0.118,0.123,7\\nI,0.495,0.375,0.12,0.589,0.3075,0.1215,0.1405,8\\nM,0.5,0.365,0.13,0.5945,0.309,0.1085,0.1535,9\\nI,0.5,0.375,0.12,0.529,0.2235,0.123,0.16,8\\nM,0.52,0.4,0.105,0.872,0.4515,0.1615,0.1985,9\\nI,0.52,0.395,0.145,0.77,0.424,0.142,0.1895,7\\nF,0.525,0.43,0.135,0.8435,0.4325,0.18,0.1815,9\\nM,0.535,0.405,0.14,0.818,0.402,0.1715,0.189,7\\nF,0.54,0.42,0.14,0.8035,0.38,0.1805,0.21,9\\nF,0.54,0.415,0.15,0.8115,0.3875,0.1875,0.2035,9\\nF,0.57,0.425,0.13,0.782,0.3695,0.1745,0.1965,8\\nM,0.57,0.42,0.14,0.8745,0.416,0.165,0.25,8\\nM,0.58,0.445,0.16,0.984,0.49,0.201,0.27,9\\nF,0.58,0.445,0.135,0.95,0.484,0.182,0.2325,8\\nM,0.59,0.47,0.155,1.1735,0.6245,0.233,0.2595,9\\nF,0.59,0.455,0.15,0.976,0.465,0.2055,0.2765,10\\nM,0.59,0.485,0.155,1.0785,0.4535,0.2435,0.31,9\\nM,0.595,0.435,0.16,1.057,0.4255,0.224,0.31,9\\nM,0.6,0.475,0.175,1.11,0.5105,0.256,0.285,9\\nM,0.6,0.45,0.16,1.142,0.539,0.225,0.307,10\\nM,0.605,0.475,0.19,1.1255,0.59,0.247,0.26,10\\nF,0.62,0.48,0.17,1.1045,0.535,0.25,0.287,10\\nM,0.625,0.475,0.175,1.3405,0.656,0.283,0.337,10\\nM,0.625,0.5,0.13,1.082,0.5785,0.2045,0.25,8\\nF,0.625,0.485,0.16,1.254,0.591,0.259,0.3485,9\\nM,0.63,0.49,0.165,1.2005,0.575,0.273,0.294,10\\nM,0.63,0.485,0.16,1.243,0.623,0.275,0.3,10\\nF,0.635,0.51,0.185,1.286,0.526,0.295,0.4105,12\\nF,0.645,0.49,0.16,1.1665,0.4935,0.3155,0.299,9\\nF,0.645,0.49,0.16,1.144,0.5015,0.289,0.319,8\\nF,0.65,0.525,0.19,1.385,0.8875,0.3095,0.405,11\\nF,0.655,0.515,0.155,1.309,0.524,0.346,0.385,11\\nF,0.655,0.515,0.17,1.527,0.8485,0.2635,0.331,11\\nM,0.665,0.515,0.19,1.6385,0.831,0.3575,0.371,11\\nM,0.695,0.54,0.195,1.691,0.768,0.363,0.4755,11\\nF,0.72,0.565,0.18,1.719,0.8465,0.407,0.3875,11\\nF,0.72,0.55,0.18,1.52,0.637,0.325,0.435,10\\nF,0.72,0.565,0.17,1.613,0.723,0.3255,0.4945,12\\nM,0.735,0.57,0.21,2.2355,1.1705,0.463,0.5315,10\\nM,0.74,0.595,0.19,2.3235,1.1495,0.5115,0.505,11\\nI,0.31,0.23,0.07,0.1245,0.0505,0.0265,0.038,6\\nI,0.315,0.235,0.075,0.1285,0.051,0.028,0.0405,4\\nI,0.32,0.205,0.08,0.181,0.088,0.034,0.0495,5\\nI,0.325,0.25,0.075,0.1585,0.075,0.0305,0.0455,6\\nI,0.335,0.26,0.09,0.1965,0.0875,0.041,0.056,7\\nI,0.37,0.28,0.085,0.198,0.0805,0.0455,0.058,5\\nI,0.37,0.27,0.09,0.1855,0.07,0.0425,0.065,7\\nI,0.375,0.28,0.085,0.2145,0.0855,0.0485,0.072,7\\nI,0.4,0.315,0.09,0.3245,0.151,0.073,0.088,8\\nI,0.41,0.305,0.095,0.2625,0.1,0.0515,0.09,6\\nI,0.425,0.34,0.1,0.371,0.15,0.0865,0.115,8\\nI,0.435,0.335,0.095,0.298,0.109,0.058,0.115,7\\nI,0.445,0.31,0.09,0.336,0.1555,0.09,0.0855,7\\nI,0.46,0.36,0.14,0.447,0.161,0.087,0.16,9\\nF,0.465,0.35,0.11,0.4085,0.165,0.102,0.131,8\\nI,0.47,0.385,0.13,0.587,0.264,0.117,0.174,8\\nI,0.475,0.375,0.11,0.494,0.211,0.109,0.1545,8\\nI,0.495,0.375,0.12,0.614,0.2855,0.1365,0.161,8\\nI,0.5,0.39,0.13,0.5075,0.2115,0.104,0.1755,9\\nI,0.5,0.37,0.12,0.5445,0.249,0.1065,0.152,8\\nI,0.505,0.425,0.125,0.6115,0.245,0.1375,0.2,9\\nI,0.505,0.4,0.125,0.5605,0.2255,0.1435,0.17,8\\nM,0.505,0.365,0.115,0.521,0.25,0.096,0.15,8\\nI,0.51,0.4,0.145,0.5775,0.231,0.143,0.177,9\\nI,0.51,0.4,0.125,0.5935,0.239,0.13,0.204,8\\nI,0.52,0.4,0.11,0.597,0.2935,0.1155,0.16,8\\nM,0.52,0.465,0.15,0.9505,0.456,0.199,0.255,8\\nI,0.53,0.38,0.125,0.616,0.292,0.113,0.185,8\\nM,0.53,0.405,0.15,0.8315,0.352,0.187,0.2525,10\\nF,0.535,0.445,0.125,0.8725,0.417,0.199,0.24,8\\nI,0.54,0.425,0.13,0.8155,0.3675,0.1365,0.246,11\\nI,0.54,0.415,0.11,0.619,0.2755,0.15,0.1765,10\\nI,0.545,0.43,0.13,0.7595,0.358,0.153,0.2055,8\\nI,0.545,0.43,0.15,0.742,0.3525,0.158,0.208,10\\nI,0.55,0.435,0.165,0.804,0.34,0.194,0.244,8\\nI,0.55,0.425,0.13,0.664,0.2695,0.163,0.21,8\\nF,0.55,0.435,0.14,0.745,0.347,0.174,0.2265,9\\nI,0.56,0.43,0.13,0.728,0.3355,0.1435,0.2175,8\\nI,0.56,0.435,0.13,0.777,0.354,0.173,0.222,9\\nF,0.575,0.425,0.15,0.8765,0.455,0.18,0.228,8\\nI,0.575,0.455,0.16,0.9895,0.495,0.195,0.246,9\\nM,0.575,0.45,0.165,0.9655,0.498,0.19,0.23,8\\nM,0.58,0.465,0.15,0.9065,0.371,0.1965,0.29,8\\nM,0.58,0.46,0.15,1.049,0.5205,0.1935,0.305,10\\nF,0.58,0.45,0.17,0.9705,0.4615,0.232,0.248,9\\nF,0.58,0.45,0.15,0.92,0.393,0.212,0.2895,9\\nM,0.58,0.445,0.15,0.9525,0.4315,0.1945,0.287,11\\nF,0.58,0.44,0.125,0.7855,0.363,0.1955,0.195,11\\nI,0.585,0.45,0.135,0.855,0.3795,0.187,0.26,9\\nM,0.59,0.5,0.15,1.142,0.485,0.265,0.345,9\\nI,0.59,0.46,0.125,0.755,0.334,0.15,0.238,9\\nI,0.59,0.475,0.145,0.9745,0.4675,0.207,0.259,10\\nM,0.595,0.47,0.155,1.2015,0.492,0.3865,0.265,10\\nM,0.595,0.46,0.17,1.1295,0.57,0.2555,0.265,10\\nI,0.6,0.445,0.135,0.9205,0.445,0.2035,0.253,9\\nF,0.6,0.48,0.17,1.056,0.4575,0.2435,0.3135,10\\nM,0.6,0.45,0.195,1.34,0.617,0.3255,0.3605,10\\nF,0.6,0.45,0.15,0.9625,0.4375,0.2225,0.2775,9\\nM,0.6,0.465,0.165,1.0475,0.465,0.2345,0.315,11\\nF,0.605,0.495,0.17,1.0915,0.4365,0.2715,0.335,13\\nM,0.605,0.49,0.18,1.167,0.457,0.29,0.3745,9\\nI,0.605,0.48,0.155,0.9995,0.425,0.1985,0.3,10\\nI,0.61,0.425,0.155,1.0485,0.507,0.1955,0.274,11\\nF,0.61,0.47,0.195,1.2735,0.469,0.3315,0.398,12\\nM,0.61,0.48,0.14,1.0625,0.516,0.225,0.2915,11\\nI,0.61,0.49,0.16,1.1545,0.5865,0.2385,0.2915,11\\nF,0.615,0.475,0.175,1.194,0.559,0.259,0.3165,11\\nF,0.615,0.515,0.135,1.1215,0.545,0.2305,0.29,9\\nM,0.615,0.455,0.15,0.9335,0.382,0.247,0.2615,10\\nF,0.615,0.495,0.165,1.198,0.5415,0.2865,0.3185,10\\nF,0.62,0.475,0.15,0.9545,0.455,0.1865,0.277,9\\nM,0.62,0.475,0.195,1.3585,0.5935,0.3365,0.3745,10\\nM,0.625,0.495,0.175,1.2075,0.531,0.281,0.3525,11\\nM,0.625,0.515,0.165,1.217,0.667,0.2065,0.3115,10\\nF,0.625,0.5,0.16,1.217,0.5725,0.207,0.355,11\\nF,0.625,0.49,0.145,0.92,0.437,0.1735,0.28,10\\nM,0.625,0.49,0.12,0.8765,0.456,0.18,0.233,10\\nF,0.63,0.48,0.165,1.2615,0.5505,0.277,0.3885,10\\nM,0.63,0.53,0.18,1.2795,0.618,0.256,0.315,9\\nF,0.63,0.485,0.185,1.167,0.548,0.2485,0.34,10\\nM,0.63,0.51,0.17,1.1885,0.4915,0.3065,0.348,7\\nF,0.635,0.485,0.19,1.3765,0.634,0.2885,0.406,11\\nM,0.635,0.52,0.175,1.292,0.6,0.269,0.367,11\\nM,0.635,0.485,0.18,1.1795,0.4785,0.2775,0.355,10\\nF,0.635,0.5,0.19,1.29,0.593,0.3045,0.352,8\\nM,0.635,0.515,0.16,1.2075,0.5385,0.282,0.345,11\\nM,0.64,0.505,0.18,1.297,0.59,0.3125,0.363,11\\nM,0.64,0.575,0.175,1.4585,0.625,0.266,0.4395,11\\nF,0.645,0.485,0.15,1.151,0.5935,0.2315,0.293,12\\nF,0.645,0.52,0.17,1.197,0.526,0.2925,0.317,11\\nM,0.645,0.495,0.19,1.539,0.6115,0.408,0.445,12\\nM,0.65,0.52,0.195,1.676,0.693,0.44,0.47,15\\nF,0.65,0.565,0.2,1.6645,0.753,0.367,0.43,12\\nF,0.655,0.5,0.205,1.528,0.6215,0.3725,0.4535,11\\nF,0.655,0.515,0.2,1.494,0.7255,0.309,0.405,12\\nF,0.66,0.525,0.16,1.277,0.4975,0.319,0.394,13\\nF,0.66,0.525,0.18,1.5965,0.7765,0.397,0.3605,10\\nF,0.665,0.51,0.175,1.3805,0.675,0.2985,0.325,10\\nI,0.67,0.485,0.175,1.2565,0.5355,0.322,0.386,9\\nF,0.67,0.525,0.19,1.527,0.5755,0.353,0.44,12\\nM,0.67,0.525,0.17,1.4005,0.715,0.3025,0.387,9\\nM,0.67,0.525,0.195,1.4405,0.6595,0.2675,0.425,9\\nM,0.67,0.54,0.175,1.482,0.739,0.2925,0.365,10\\nM,0.68,0.515,0.16,1.2345,0.618,0.2625,0.325,11\\nF,0.68,0.505,0.17,1.3435,0.657,0.297,0.355,12\\nM,0.685,0.505,0.19,1.533,0.667,0.4055,0.41,10\\nM,0.69,0.515,0.18,1.8445,0.9815,0.4655,0.341,13\\nM,0.715,0.55,0.175,1.825,0.938,0.3805,0.44,11\\nM,0.72,0.58,0.19,2.0885,0.9955,0.478,0.5305,13\\nM,0.735,0.59,0.205,2.087,0.909,0.474,0.625,12\\nM,0.745,0.575,0.2,1.884,0.954,0.336,0.495,12\\nI,0.32,0.215,0.095,0.305,0.14,0.067,0.0885,6\\nI,0.43,0.345,0.115,0.4295,0.212,0.108,0.109,8\\nI,0.43,0.33,0.1,0.449,0.254,0.0825,0.097,6\\nM,0.485,0.365,0.155,1.029,0.4235,0.2285,0.313,8\\nM,0.49,0.355,0.155,0.981,0.465,0.2015,0.2505,8\\nI,0.5,0.37,0.115,0.5745,0.306,0.112,0.141,7\\nF,0.505,0.38,0.13,0.693,0.391,0.1195,0.1515,8\\nF,0.51,0.37,0.21,1.183,0.508,0.292,0.343,9\\nF,0.525,0.41,0.135,0.7905,0.4065,0.198,0.177,8\\nF,0.535,0.4,0.15,1.224,0.618,0.275,0.2875,10\\nI,0.535,0.4,0.135,0.775,0.368,0.208,0.2055,8\\nM,0.535,0.405,0.175,1.2705,0.548,0.3265,0.337,13\\nM,0.555,0.405,0.19,1.406,0.6115,0.342,0.389,10\\nM,0.555,0.425,0.15,0.873,0.4625,0.1845,0.1965,9\\nM,0.56,0.425,0.135,0.9415,0.509,0.2015,0.1975,9\\nF,0.59,0.44,0.14,1.007,0.4775,0.2105,0.2925,9\\nM,0.595,0.485,0.15,1.0835,0.5305,0.231,0.276,8\\nI,0.595,0.43,0.165,0.9845,0.4525,0.207,0.2725,8\\nF,0.595,0.43,0.21,1.5245,0.653,0.396,0.41,11\\nM,0.61,0.475,0.175,1.024,0.409,0.261,0.322,9\\nM,0.61,0.485,0.17,1.281,0.597,0.3035,0.33,9\\nF,0.62,0.5,0.17,1.148,0.5475,0.22,0.3315,10\\nF,0.625,0.49,0.11,1.136,0.5265,0.1915,0.2925,9\\nF,0.635,0.51,0.17,1.2235,0.532,0.271,0.354,9\\nF,0.635,0.525,0.18,1.3695,0.634,0.318,0.363,11\\nM,0.64,0.485,0.16,1.006,0.456,0.2245,0.2835,9\\nM,0.64,0.495,0.165,1.307,0.678,0.292,0.266,11\\nM,0.645,0.505,0.185,1.463,0.592,0.3905,0.416,10\\nF,0.655,0.505,0.175,1.2905,0.6205,0.2965,0.326,10\\nF,0.67,0.515,0.17,1.4265,0.6605,0.3395,0.37,11\\nM,0.68,0.54,0.21,1.7885,0.8345,0.408,0.437,13\\nM,0.7,0.545,0.185,1.6135,0.75,0.4035,0.3685,11\\nM,0.73,0.585,0.225,2.2305,1.2395,0.422,0.563,14\\nF,0.75,0.615,0.205,2.2635,0.821,0.423,0.726,12\\nI,0.255,0.185,0.065,0.074,0.0305,0.0165,0.02,4\\nI,0.375,0.26,0.08,0.2075,0.09,0.0415,0.07,6\\nI,0.375,0.285,0.09,0.237,0.106,0.0395,0.08,8\\nI,0.39,0.3,0.1,0.2665,0.1105,0.059,0.084,7\\nI,0.39,0.28,0.09,0.215,0.0845,0.034,0.079,8\\nI,0.395,0.3,0.09,0.253,0.1155,0.05,0.075,6\\nI,0.42,0.32,0.11,0.309,0.115,0.0645,0.0945,6\\nI,0.435,0.335,0.105,0.3535,0.156,0.05,0.1135,7\\nI,0.435,0.325,0.105,0.335,0.136,0.065,0.115,8\\nI,0.44,0.32,0.105,0.3875,0.1755,0.074,0.12,9\\nI,0.45,0.33,0.115,0.365,0.14,0.0825,0.1245,8\\nI,0.45,0.34,0.125,0.4045,0.171,0.07,0.1345,8\\nI,0.455,0.355,0.105,0.372,0.138,0.0765,0.135,9\\nI,0.46,0.37,0.11,0.3965,0.1485,0.0855,0.1455,8\\nI,0.47,0.375,0.125,0.5225,0.2265,0.104,0.162,8\\nI,0.475,0.375,0.11,0.456,0.182,0.099,0.16,9\\nI,0.495,0.33,0.1,0.44,0.177,0.095,0.15,7\\nI,0.495,0.375,0.115,0.507,0.241,0.103,0.15,8\\nI,0.5,0.38,0.135,0.5285,0.226,0.123,0.209,8\\nI,0.515,0.385,0.125,0.572,0.237,0.1435,0.165,7\\nI,0.52,0.41,0.14,0.6625,0.2775,0.1555,0.196,11\\nI,0.52,0.395,0.115,0.6445,0.3155,0.1245,0.186,11\\nI,0.525,0.4,0.11,0.6275,0.3015,0.126,0.18,8\\nI,0.535,0.42,0.145,0.6885,0.273,0.1515,0.237,9\\nM,0.535,0.41,0.12,0.6835,0.3125,0.1655,0.159,8\\nM,0.54,0.42,0.19,0.6855,0.293,0.163,0.38,10\\nI,0.55,0.405,0.15,0.6755,0.3015,0.1465,0.21,10\\nI,0.55,0.445,0.145,0.783,0.3045,0.157,0.265,11\\nM,0.56,0.45,0.145,0.894,0.3885,0.2095,0.264,9\\nI,0.565,0.44,0.135,0.768,0.3305,0.1385,0.2475,9\\nM,0.57,0.45,0.145,0.95,0.4005,0.2235,0.2845,10\\nF,0.57,0.47,0.14,0.871,0.385,0.211,0.2315,10\\nM,0.575,0.47,0.15,0.9785,0.4505,0.196,0.276,9\\nI,0.575,0.43,0.13,0.7425,0.2895,0.2005,0.22,8\\nM,0.575,0.445,0.14,0.737,0.325,0.1405,0.237,10\\nI,0.575,0.445,0.16,0.9175,0.45,0.1935,0.24,9\\nF,0.58,0.435,0.155,0.8785,0.425,0.1685,0.2425,10\\nM,0.585,0.45,0.175,1.1275,0.4925,0.262,0.335,11\\nM,0.59,0.435,0.165,0.9765,0.4525,0.2395,0.235,9\\nI,0.59,0.47,0.145,0.974,0.453,0.236,0.289,8\\nM,0.59,0.405,0.15,0.853,0.326,0.2615,0.245,9\\nM,0.595,0.47,0.175,0.991,0.382,0.2395,0.5,12\\nM,0.595,0.48,0.14,0.9125,0.4095,0.1825,0.289,9\\nF,0.595,0.46,0.16,0.921,0.4005,0.2025,0.2875,9\\nF,0.6,0.45,0.14,0.869,0.3425,0.195,0.291,11\\nM,0.6,0.45,0.15,0.8665,0.3695,0.1955,0.255,12\\nF,0.61,0.495,0.16,1.089,0.469,0.198,0.384,11\\nM,0.615,0.485,0.215,0.9615,0.422,0.176,0.29,11\\nM,0.615,0.49,0.17,1.145,0.4915,0.208,0.343,13\\nI,0.62,0.475,0.16,0.907,0.371,0.167,0.3075,11\\nF,0.625,0.515,0.155,1.1635,0.4875,0.259,0.355,11\\nM,0.63,0.515,0.175,1.1955,0.492,0.247,0.37,11\\nM,0.63,0.495,0.18,1.31,0.495,0.295,0.4695,10\\nF,0.635,0.505,0.165,1.251,0.577,0.227,0.3825,11\\nF,0.635,0.49,0.155,1.145,0.4775,0.3035,0.3155,9\\nM,0.635,0.5,0.18,1.154,0.4405,0.2315,0.387,9\\nF,0.64,0.485,0.145,1.1335,0.5525,0.2505,0.3015,11\\nF,0.64,0.5,0.15,1.2015,0.559,0.231,0.3355,9\\nM,0.65,0.505,0.17,1.5595,0.695,0.3515,0.395,11\\nM,0.65,0.51,0.175,1.3165,0.6345,0.2605,0.364,12\\nM,0.655,0.54,0.165,1.403,0.6955,0.2385,0.42,11\\nF,0.655,0.49,0.16,1.204,0.5455,0.2615,0.3225,9\\nF,0.655,0.455,0.17,1.2895,0.587,0.3165,0.3415,11\\nF,0.66,0.53,0.18,1.5175,0.7765,0.302,0.401,10\\nM,0.665,0.525,0.155,1.3575,0.5325,0.3045,0.4485,10\\nM,0.675,0.52,0.145,1.3645,0.557,0.3405,0.385,11\\nF,0.68,0.52,0.185,1.494,0.615,0.3935,0.406,11\\nF,0.68,0.56,0.195,1.664,0.58,0.3855,0.545,11\\nM,0.685,0.51,0.165,1.545,0.686,0.3775,0.4055,10\\nF,0.695,0.535,0.2,1.5855,0.667,0.334,0.471,11\\nF,0.7,0.555,0.22,1.666,0.647,0.4285,0.455,11\\nM,0.71,0.56,0.175,1.724,0.566,0.4575,0.4625,13\\nF,0.73,0.55,0.205,1.908,0.5415,0.3565,0.5965,14\\nF,0.755,0.575,0.2,2.073,1.0135,0.4655,0.48,11\\nI,0.225,0.17,0.05,0.0515,0.019,0.012,0.017,4\\nI,0.23,0.17,0.05,0.057,0.026,0.013,0.016,5\\nI,0.255,0.185,0.06,0.0925,0.039,0.021,0.025,6\\nI,0.355,0.27,0.075,0.204,0.3045,0.046,0.0595,7\\nI,0.425,0.31,0.095,0.3075,0.139,0.0745,0.093,7\\nI,0.425,0.32,0.085,0.262,0.1235,0.067,0.0725,8\\nM,0.455,0.35,0.11,0.458,0.2,0.111,0.1305,8\\nM,0.46,0.355,0.14,0.491,0.207,0.115,0.174,10\\nM,0.495,0.38,0.12,0.474,0.197,0.1065,0.1545,10\\nM,0.51,0.395,0.125,0.5805,0.244,0.1335,0.188,11\\nF,0.52,0.43,0.15,0.728,0.302,0.1575,0.235,11\\nM,0.525,0.4,0.13,0.622,0.2655,0.147,0.184,9\\nM,0.53,0.415,0.12,0.706,0.3355,0.1635,0.1345,9\\nF,0.53,0.395,0.115,0.5685,0.249,0.1375,0.161,9\\nM,0.545,0.435,0.145,0.9385,0.3685,0.1245,0.345,11\\nF,0.55,0.43,0.15,0.655,0.2635,0.122,0.221,8\\nM,0.575,0.48,0.15,0.9465,0.4355,0.2605,0.2505,9\\nM,0.58,0.43,0.125,0.9115,0.446,0.2075,0.121,10\\nM,0.595,0.455,0.145,0.942,0.43,0.182,0.277,11\\nM,0.6,0.465,0.18,1.193,0.5145,0.315,0.3055,8\\nM,0.645,0.5,0.18,1.461,0.5985,0.2425,0.439,11\\nM,0.66,0.525,0.2,1.489,0.6065,0.3795,0.421,10\\nI,0.29,0.215,0.06,0.1115,0.053,0.0185,0.032,5\\nI,0.3,0.22,0.065,0.1235,0.059,0.026,0.0315,5\\nI,0.37,0.275,0.1,0.2815,0.1505,0.0505,0.068,5\\nI,0.375,0.285,0.08,0.226,0.0975,0.04,0.0725,7\\nI,0.38,0.29,0.085,0.2285,0.088,0.0465,0.075,7\\nI,0.395,0.3,0.12,0.2995,0.1265,0.068,0.0895,8\\nI,0.41,0.325,0.105,0.361,0.1605,0.0665,0.103,8\\nI,0.415,0.32,0.115,0.3045,0.1215,0.0735,0.094,7\\nI,0.425,0.325,0.105,0.3975,0.1815,0.081,0.1175,7\\nI,0.44,0.34,0.1,0.379,0.1725,0.0815,0.101,7\\nI,0.44,0.34,0.12,0.4995,0.2965,0.0945,0.1185,6\\nM,0.465,0.405,0.135,0.7775,0.436,0.1715,0.1455,10\\nF,0.47,0.36,0.1,0.4705,0.1635,0.089,0.1385,8\\nM,0.51,0.415,0.145,0.751,0.3295,0.1835,0.203,8\\nF,0.525,0.4,0.135,0.714,0.318,0.138,0.208,10\\nF,0.525,0.4,0.13,0.6995,0.3115,0.131,0.223,9\\nF,0.55,0.425,0.14,0.952,0.4895,0.1945,0.2185,7\\nM,0.56,0.42,0.15,0.8755,0.44,0.1965,0.2315,8\\nM,0.575,0.45,0.135,0.9215,0.354,0.209,0.2365,9\\nF,0.575,0.45,0.135,0.8285,0.362,0.1655,0.236,10\\nM,0.585,0.46,0.15,1.206,0.581,0.216,0.323,10\\nM,0.615,0.495,0.155,1.2865,0.435,0.293,0.3245,11\\nF,0.62,0.485,0.155,1.1945,0.5105,0.271,0.352,9\\nF,0.63,0.495,0.19,1.1655,0.536,0.2115,0.1625,10\\nF,0.63,0.49,0.17,1.2155,0.4625,0.2045,0.3105,10\\nM,0.67,0.515,0.165,1.1735,0.526,0.285,0.316,11\\nM,0.675,0.505,0.16,1.532,0.74,0.357,0.3815,11\\nF,0.685,0.53,0.17,1.5105,0.7385,0.3525,0.3725,10\\nF,0.485,0.39,0.1,0.5565,0.2215,0.1155,0.185,9\\nM,0.46,0.36,0.125,0.547,0.2165,0.1105,0.19,8\\nM,0.46,0.35,0.125,0.5165,0.1885,0.1145,0.185,9\\nM,0.535,0.42,0.125,0.764,0.312,0.1505,0.265,11\\nM,0.465,0.36,0.105,0.488,0.188,0.0845,0.19,10\\nM,0.51,0.4,0.14,0.6905,0.259,0.151,0.23,10\\nI,0.335,0.26,0.09,0.1835,0.078,0.024,0.065,11\\nM,0.55,0.425,0.16,0.97,0.2885,0.139,0.48,20\\nI,0.18,0.135,0.08,0.033,0.0145,0.007,0.01,5\\nI,0.215,0.165,0.055,0.059,0.0265,0.0125,0.0185,5\\nI,0.2,0.15,0.04,0.046,0.021,0.007,0.0065,4\\nF,0.625,0.48,0.2,1.3235,0.6075,0.3055,0.355,9\\nM,0.55,0.42,0.17,0.8465,0.336,0.2405,0.245,13\\nM,0.585,0.45,0.15,1.047,0.4315,0.276,0.315,14\\nF,0.645,0.5,0.18,1.2785,0.5345,0.2995,0.345,13\\nF,0.71,0.53,0.195,1.8745,0.6755,0.4065,0.6855,12\\nF,0.7,0.54,0.215,1.978,0.6675,0.3125,0.71,24\\nF,0.655,0.505,0.165,1.367,0.5835,0.3515,0.396,10\\nF,0.665,0.5,0.175,1.742,0.595,0.3025,0.725,21\\nF,0.47,0.375,0.105,0.513,0.232,0.142,0.13,11\\nM,0.425,0.335,0.1,0.4085,0.1755,0.092,0.135,9\\nM,0.54,0.41,0.13,0.56,0.2375,0.1065,0.175,7\\nM,0.505,0.395,0.125,0.635,0.29,0.1555,0.175,9\\nM,0.535,0.44,0.165,0.875,0.279,0.18,0.3,10\\nF,0.43,0.35,0.09,0.397,0.1575,0.089,0.12,9\\nM,0.55,0.435,0.11,0.806,0.3415,0.203,0.215,9\\nF,0.34,0.255,0.085,0.204,0.097,0.021,0.05,6\\nI,0.275,0.2,0.065,0.1165,0.0565,0.013,0.035,7\\nF,0.335,0.22,0.07,0.17,0.076,0.0365,0.05,6\\nM,0.64,0.49,0.14,1.194,0.4445,0.238,0.375,15\\nF,0.55,0.44,0.125,0.765,0.33,0.2125,0.245,9\\nF,0.64,0.475,0.19,1.151,0.4365,0.281,0.3805,13\\nF,0.545,0.41,0.115,0.6765,0.29,0.158,0.22,9\\nF,0.64,0.54,0.175,1.571,0.627,0.271,0.475,18\\nM,0.605,0.49,0.155,1.153,0.503,0.2505,0.295,15\\nM,0.605,0.47,0.115,1.114,0.3925,0.291,0.31,15\\nM,0.56,0.45,0.155,0.9125,0.3595,0.271,0.35,10\\nF,0.57,0.465,0.155,0.872,0.3245,0.239,0.285,14\\nM,0.525,0.405,0.16,0.792,0.316,0.1455,0.28,13\\nF,0.505,0.405,0.18,0.606,0.239,0.1235,0.18,11\\nM,0.35,0.265,0.09,0.2265,0.0995,0.0575,0.065,6\\nM,0.45,0.355,0.12,0.3955,0.147,0.0765,0.145,9\\nI,0.51,0.405,0.12,0.61,0.229,0.131,0.235,11\\nF,0.49,0.38,0.13,0.539,0.229,0.1355,0.165,12\\nF,0.505,0.41,0.135,0.657,0.291,0.133,0.195,15\\nM,0.38,0.3,0.1,0.2505,0.106,0.0535,0.0775,8\\nI,0.27,0.195,0.07,0.102,0.045,0.0135,0.034,8\\nF,0.37,0.295,0.1,0.2685,0.1165,0.056,0.0835,7\\nM,0.5,0.385,0.135,0.551,0.2245,0.0715,0.206,11\\nM,0.645,0.505,0.165,1.307,0.4335,0.262,0.52,10\\nM,0.565,0.44,0.115,0.9185,0.404,0.1785,0.29,11\\nF,0.67,0.545,0.175,1.707,0.6995,0.387,0.575,13\\nF,0.59,0.415,0.15,0.8805,0.3645,0.234,0.235,11\\nF,0.47,0.36,0.11,0.4965,0.237,0.127,0.13,6\\nF,0.51,0.385,0.135,0.632,0.282,0.145,0.17,8\\nM,0.72,0.575,0.23,2.2695,0.8835,0.3985,0.665,16\\nM,0.55,0.405,0.15,0.9235,0.412,0.2135,0.24,7\\nI,0.2,0.145,0.025,0.0345,0.011,0.0075,0.01,5\\nM,0.65,0.515,0.18,1.3315,0.5665,0.347,0.405,13\\nF,0.525,0.405,0.115,0.72,0.3105,0.1915,0.2,14\\nM,0.565,0.435,0.185,1.032,0.354,0.2045,0.31,20\\nF,0.61,0.47,0.16,1.017,0.426,0.2255,0.32,12\\nF,0.545,0.405,0.175,0.98,0.2585,0.207,0.38,18\\nI,0.325,0.245,0.075,0.1495,0.0605,0.033,0.045,5\\nI,0.31,0.235,0.075,0.1515,0.056,0.0315,0.05,7\\nM,0.45,0.335,0.14,0.478,0.1865,0.115,0.16,11\\nF,0.49,0.38,0.155,0.578,0.2395,0.1255,0.18,9\\nF,0.505,0.405,0.16,0.6835,0.271,0.145,0.215,10\\nF,0.385,0.3,0.1,0.2725,0.1115,0.057,0.08,6\\nF,0.62,0.485,0.22,1.511,0.5095,0.284,0.51,17\\nF,0.635,0.505,0.185,1.3035,0.501,0.295,0.41,17\\nF,0.665,0.53,0.185,1.3955,0.456,0.3205,0.49,15\\nM,0.335,0.265,0.095,0.1975,0.0795,0.0375,0.07,9\\nI,0.295,0.215,0.075,0.116,0.037,0.0295,0.04,8\\nI,0.48,0.38,0.125,0.523,0.2105,0.1045,0.175,15\\nI,0.32,0.25,0.08,0.1565,0.057,0.034,0.06,9\\nI,0.43,0.34,0.125,0.384,0.1375,0.061,0.146,14\\nM,0.565,0.45,0.14,1.0055,0.3785,0.244,0.265,12\\nF,0.6,0.48,0.165,1.1345,0.4535,0.27,0.335,10\\nF,0.585,0.46,0.17,1.0835,0.3745,0.326,0.325,14\\nF,0.555,0.42,0.14,0.868,0.33,0.243,0.21,13\\nF,0.57,0.495,0.16,1.0915,0.452,0.275,0.315,14\\nF,0.62,0.485,0.175,1.271,0.531,0.3075,0.37,11\\nM,0.63,0.51,0.19,1.4985,0.4125,0.3075,0.545,16\\nM,0.425,0.34,0.12,0.388,0.149,0.087,0.125,10\\nF,0.64,0.505,0.19,1.2355,0.4435,0.3105,0.365,14\\nM,0.675,0.525,0.175,1.402,0.483,0.3205,0.465,16\\nM,0.5,0.4,0.145,0.6025,0.216,0.138,0.21,11\\nM,0.385,0.305,0.09,0.2775,0.109,0.0515,0.1,9\\nM,0.52,0.435,0.195,0.973,0.2985,0.2135,0.355,18\\nM,0.52,0.415,0.175,0.753,0.258,0.171,0.255,8\\nM,0.64,0.525,0.2,1.3765,0.44,0.3075,0.47,16\\nI,0.44,0.35,0.12,0.375,0.1425,0.0965,0.115,9\\nF,0.42,0.32,0.13,0.4135,0.1645,0.106,0.119,10\\nF,0.45,0.35,0.135,0.56,0.231,0.137,0.145,13\\nI,0.42,0.325,0.125,0.3915,0.1575,0.1025,0.115,9\\nF,0.64,0.505,0.19,1.2765,0.4835,0.328,0.4,12\\nM,0.57,0.455,0.15,0.96,0.387,0.2385,0.275,11\\nM,0.41,0.325,0.12,0.3745,0.158,0.081,0.125,12\\nM,0.485,0.41,0.15,0.696,0.2405,0.1625,0.265,13\\nF,0.61,0.48,0.19,1.2955,0.5215,0.3225,0.365,12\\nF,0.59,0.485,0.205,1.2315,0.4525,0.238,0.42,13\\nM,0.665,0.535,0.155,1.383,0.596,0.2565,0.485,14\\nI,0.345,0.285,0.1,0.2225,0.0865,0.058,0.075,8\\nM,0.635,0.51,0.155,1.156,0.428,0.289,0.315,18\\nM,0.695,0.53,0.15,1.477,0.6375,0.3025,0.43,14\\nF,0.69,0.54,0.185,1.5715,0.6935,0.318,0.47,15\\nM,0.555,0.435,0.135,0.858,0.377,0.1585,0.29,15\\nM,0.65,0.525,0.19,1.4995,0.6265,0.4005,0.395,14\\nM,0.635,0.48,0.19,1.467,0.5825,0.303,0.42,15\\nF,0.655,0.51,0.16,1.092,0.396,0.2825,0.37,14\\nF,0.69,0.555,0.205,1.8165,0.7785,0.4395,0.515,19\\nF,0.695,0.55,0.16,1.6365,0.694,0.3005,0.44,13\\nM,0.55,0.435,0.16,0.906,0.342,0.219,0.295,13\\nF,0.61,0.495,0.19,1.213,0.464,0.306,0.365,15\\nM,0.595,0.5,0.165,1.06,0.402,0.28,0.275,11\\nM,0.3,0.24,0.09,0.161,0.0725,0.039,0.05,6\\nF,0.435,0.35,0.125,0.459,0.197,0.1145,0.145,9\\nI,0.455,0.375,0.125,0.533,0.233,0.106,0.185,8\\nM,0.48,0.38,0.13,0.6175,0.3,0.142,0.175,12\\nI,0.43,0.35,0.105,0.366,0.1705,0.0855,0.11,6\\nF,0.435,0.35,0.105,0.4195,0.194,0.1005,0.13,7\\nI,0.3,0.23,0.075,0.15,0.0605,0.042,0.045,5\\nF,0.575,0.48,0.15,0.8745,0.375,0.193,0.29,12\\nM,0.505,0.385,0.11,0.655,0.3185,0.15,0.185,9\\nM,0.455,0.375,0.125,0.484,0.2155,0.102,0.165,7\\nM,0.64,0.505,0.165,1.4435,0.6145,0.3035,0.39,18\\nF,0.56,0.435,0.125,0.8775,0.3345,0.2145,0.29,13\\nF,0.645,0.52,0.19,1.3105,0.58,0.288,0.37,12\\nF,0.595,0.485,0.145,1.2515,0.5035,0.2925,0.33,14\\nM,0.565,0.45,0.115,0.9085,0.398,0.197,0.29,17\\nF,0.655,0.5,0.14,1.1705,0.5405,0.3175,0.285,12\\nM,0.48,0.38,0.135,0.528,0.2,0.1395,0.16,14\\nF,0.495,0.385,0.135,0.6625,0.3005,0.1635,0.185,11\\nF,0.4,0.335,0.115,0.4335,0.2105,0.1205,0.12,10\\nM,0.41,0.31,0.125,0.3595,0.1415,0.0885,0.115,11\\nF,0.595,0.465,0.145,1.107,0.402,0.2415,0.31,12\\nF,0.625,0.475,0.13,0.8595,0.3195,0.1775,0.24,13\\nM,0.52,0.425,0.155,0.7735,0.297,0.123,0.255,17\\nM,0.465,0.36,0.125,0.4365,0.169,0.1075,0.145,11\\nF,0.475,0.375,0.14,0.501,0.192,0.1175,0.175,13\\nF,0.5,0.405,0.14,0.6735,0.265,0.124,0.25,18\\nM,0.46,0.355,0.11,0.415,0.215,0.082,0.13,12\\nM,0.485,0.385,0.125,0.4775,0.2,0.0785,0.17,12\\nF,0.465,0.39,0.14,0.5555,0.213,0.1075,0.215,15\\nM,0.525,0.415,0.16,0.6445,0.26,0.1575,0.22,12\\nF,0.655,0.53,0.19,1.428,0.493,0.318,0.565,18\\nM,0.69,0.54,0.185,1.6195,0.533,0.353,0.555,24\\nM,0.55,0.45,0.17,0.81,0.317,0.157,0.22,11\\nF,0.58,0.475,0.165,1.0385,0.414,0.26,0.305,13\\nF,0.59,0.475,0.155,0.9715,0.371,0.235,0.28,11\\nM,0.565,0.44,0.155,0.868,0.348,0.217,0.26,11\\nF,0.665,0.57,0.185,1.522,0.6965,0.3025,0.405,13\\nF,0.62,0.51,0.175,1.1255,0.4985,0.227,0.315,14\\nM,0.55,0.46,0.13,0.7085,0.305,0.1455,0.205,12\\nF,0.605,0.475,0.145,1.0185,0.4695,0.225,0.27,15\\nM,0.535,0.42,0.16,0.72,0.275,0.164,0.225,15\\nF,0.51,0.395,0.12,0.6175,0.262,0.122,0.193,12\\nM,0.53,0.405,0.13,0.738,0.2845,0.17,0.193,9\\nF,0.495,0.375,0.15,0.597,0.2615,0.135,0.178,11\\nM,0.575,0.455,0.185,1.156,0.5525,0.243,0.295,13\\nF,0.63,0.5,0.16,1.22,0.4905,0.3,0.345,14\\nM,0.59,0.45,0.12,0.7485,0.3345,0.1315,0.22,14\\nF,0.605,0.485,0.165,1.0735,0.437,0.205,0.33,14\\nM,0.645,0.5,0.19,1.229,0.524,0.278,0.395,17\\nF,0.62,0.5,0.175,1.146,0.477,0.23,0.39,13\\nM,0.605,0.485,0.175,1.145,0.4325,0.27,0.405,16\\nF,0.615,0.5,0.205,1.1055,0.4445,0.227,0.39,16\\nF,0.66,0.525,0.19,1.67,0.6525,0.4875,0.49,11\\nF,0.71,0.575,0.175,1.555,0.6465,0.3705,0.52,15\\nF,0.565,0.45,0.185,0.9285,0.302,0.1805,0.265,12\\nF,0.57,0.435,0.14,0.8085,0.3235,0.183,0.22,16\\nI,0.6,0.445,0.175,1.057,0.383,0.216,0.355,16\\nI,0.41,0.3,0.115,0.2595,0.097,0.0515,0.08,10\\nF,0.45,0.325,0.135,0.438,0.1805,0.1165,0.11,9\\nM,0.275,0.2,0.08,0.099,0.037,0.024,0.03,5\\nI,0.485,0.355,0.12,0.5085,0.21,0.122,0.135,9\\nF,0.62,0.485,0.165,1.166,0.483,0.238,0.355,13\\nF,0.48,0.38,0.135,0.507,0.1915,0.1365,0.155,12\\nF,0.505,0.41,0.15,0.6345,0.243,0.1335,0.215,17\\nM,0.4,0.31,0.11,0.314,0.138,0.057,0.1,11\\nI,0.45,0.355,0.115,0.4385,0.184,0.108,0.1125,11\\nM,0.35,0.26,0.09,0.195,0.0745,0.041,0.0655,9\\nM,0.44,0.35,0.14,0.451,0.171,0.0705,0.184,16\\nM,0.265,0.2,0.065,0.084,0.034,0.0105,0.03,7\\nM,0.165,0.125,0.04,0.0245,0.0095,0.0045,0.008,4\\nF,0.705,0.555,0.2,1.4685,0.4715,0.3235,0.52,19\\nF,0.535,0.425,0.155,0.7765,0.302,0.1565,0.25,16\\nI,0.49,0.385,0.14,0.5425,0.198,0.127,0.175,11\\nF,0.48,0.37,0.13,0.5885,0.2475,0.1505,0.1595,15\\nF,0.395,0.3,0.105,0.3375,0.1435,0.0755,0.098,12\\nI,0.375,0.28,0.1,0.2565,0.1165,0.0585,0.0725,12\\nM,0.345,0.265,0.09,0.163,0.0615,0.037,0.0485,10\\nI,0.55,0.415,0.135,0.8095,0.2985,0.2015,0.28,12\\nI,0.635,0.48,0.2,1.3655,0.6255,0.2595,0.425,16\\nI,0.575,0.475,0.17,0.967,0.3775,0.284,0.275,13\\nF,0.545,0.435,0.15,0.6855,0.2905,0.145,0.225,10\\nF,0.385,0.305,0.125,0.314,0.146,0.0555,0.08,10\\nF,0.51,0.34,0.18,0.7005,0.312,0.165,0.2,11\\nI,0.44,0.34,0.125,0.4895,0.1735,0.0875,0.2,13\\nI,0.45,0.36,0.125,0.45,0.191,0.0865,0.145,12\\nI,0.39,0.3,0.105,0.259,0.0955,0.038,0.085,8\\nF,0.425,0.325,0.135,0.382,0.1465,0.079,0.14,12\\nF,0.45,0.35,0.125,0.4435,0.185,0.09,0.145,11\\nI,0.66,0.525,0.18,1.6935,0.6025,0.4005,0.42,15\\nF,0.685,0.525,0.175,1.71,0.5415,0.309,0.58,16\\nF,0.585,0.475,0.185,0.8575,0.3465,0.1785,0.275,12\\nI,0.54,0.435,0.145,0.97,0.4285,0.22,0.264,17\\nF,0.49,0.39,0.135,0.59,0.215,0.125,0.1845,12\\nM,0.43,0.33,0.095,0.34,0.1315,0.085,0.112,14\\nF,0.455,0.365,0.11,0.385,0.166,0.046,0.1345,13\\nI,0.495,0.38,0.145,0.515,0.175,0.098,0.212,13\\nF,0.48,0.38,0.145,0.59,0.232,0.141,0.23,12\\nI,0.47,0.4,0.16,0.51,0.1615,0.073,0.198,14\\nM,0.415,0.32,0.1,0.3005,0.1215,0.0575,0.104,11\\nI,0.49,0.385,0.115,0.683,0.3265,0.1615,0.165,13\\nI,0.47,0.375,0.105,0.468,0.1665,0.108,0.17,10\\nI,0.445,0.345,0.13,0.4075,0.1365,0.0645,0.18,11\\nF,0.51,0.38,0.13,0.584,0.224,0.1355,0.185,13\\nF,0.52,0.405,0.145,0.829,0.3535,0.1685,0.205,15\\nI,0.475,0.365,0.14,0.4545,0.171,0.118,0.158,8\\nF,0.455,0.36,0.11,0.4385,0.206,0.098,0.125,10\\nI,0.435,0.34,0.11,0.407,0.1685,0.073,0.13,10\\nI,0.39,0.3,0.1,0.3085,0.1385,0.0735,0.085,6\\nI,0.375,0.285,0.1,0.239,0.105,0.0555,0.07,8\\nM,0.285,0.215,0.075,0.106,0.0415,0.023,0.035,5\\nI,0.58,0.445,0.17,1.178,0.3935,0.2165,0.315,20\\nF,0.58,0.44,0.175,1.073,0.4005,0.2345,0.335,19\\nM,0.41,0.315,0.095,0.306,0.121,0.0735,0.09,9\\nM,0.41,0.3,0.1,0.301,0.124,0.069,0.09,9\\nI,0.54,0.405,0.15,0.7585,0.307,0.2075,0.19,10\\nM,0.33,0.245,0.085,0.171,0.0655,0.0365,0.055,11\\nI,0.44,0.31,0.115,0.3625,0.134,0.082,0.12,11\\nM,0.28,0.21,0.065,0.0905,0.035,0.02,0.03,5\\nI,0.59,0.465,0.195,1.0885,0.3685,0.187,0.375,17\\nI,0.61,0.48,0.165,1.097,0.4215,0.264,0.335,13\\nI,0.61,0.46,0.17,1.278,0.41,0.257,0.37,17\\nM,0.455,0.345,0.125,0.44,0.169,0.1065,0.135,12\\nM,0.33,0.235,0.09,0.163,0.0615,0.034,0.055,10\\nI,0.44,0.33,0.135,0.522,0.17,0.0905,0.195,16\\nM,0.54,0.405,0.155,0.9715,0.3225,0.194,0.29,19\\nF,0.475,0.375,0.125,0.588,0.237,0.1715,0.155,10\\nF,0.46,0.33,0.15,0.5325,0.2085,0.1805,0.125,10\\nI,0.31,0.235,0.09,0.127,0.048,0.031,0.04,6\\nI,0.255,0.19,0.07,0.0815,0.028,0.016,0.031,5\\nM,0.335,0.255,0.075,0.1635,0.0615,0.0345,0.057,8\\nI,0.295,0.21,0.08,0.1,0.038,0.026,0.031,8\\nI,0.19,0.13,0.045,0.0265,0.009,0.005,0.009,5\\nM,0.545,0.435,0.165,0.9955,0.3245,0.2665,0.325,19\\nM,0.495,0.4,0.12,0.6605,0.2605,0.161,0.19,15\\nM,0.5,0.375,0.13,0.721,0.3055,0.1725,0.22,14\\nF,0.305,0.225,0.07,0.1485,0.0585,0.0335,0.045,7\\nF,0.475,0.35,0.115,0.487,0.194,0.1455,0.125,13\\nM,0.515,0.4,0.125,0.955,0.341,0.2535,0.26,13\\nM,0.545,0.41,0.145,0.873,0.3035,0.196,0.31,18\\nM,0.74,0.535,0.185,1.65,0.734,0.4505,0.335,13\\nM,0.565,0.465,0.15,1.1285,0.377,0.3525,0.33,16\\nM,0.56,0.44,0.16,1.1115,0.5035,0.2785,0.26,10\\nM,0.545,0.42,0.125,0.9745,0.353,0.174,0.305,13\\nM,0.645,0.515,0.185,1.4605,0.5835,0.3155,0.41,19\\nM,0.575,0.435,0.13,1.0105,0.368,0.222,0.32,10\\nM,0.62,0.48,0.16,1.0765,0.412,0.253,0.3,13\\nF,0.605,0.45,0.165,1.2225,0.357,0.202,0.385,13\\nM,0.605,0.475,0.16,1.616,0.5495,0.332,0.34,18\\nF,0.475,0.375,0.15,0.559,0.1955,0.1215,0.1945,12\\nM,0.365,0.285,0.085,0.2205,0.0855,0.0515,0.07,9\\nF,0.46,0.35,0.115,0.44,0.19,0.1025,0.13,8\\nM,0.53,0.43,0.135,0.879,0.28,0.2165,0.25,10\\nM,0.48,0.395,0.15,0.6815,0.2145,0.1405,0.2495,18\\nM,0.455,0.345,0.15,0.5795,0.1685,0.125,0.215,13\\nI,0.35,0.265,0.11,0.209,0.066,0.059,0.075,9\\nM,0.37,0.28,0.105,0.224,0.0815,0.0575,0.075,8\\nI,0.34,0.25,0.075,0.1765,0.0785,0.0405,0.05,7\\nI,0.35,0.28,0.075,0.196,0.082,0.04,0.064,8\\nI,0.35,0.265,0.08,0.192,0.081,0.0465,0.053,6\\nI,0.39,0.315,0.09,0.3095,0.147,0.05,0.09,7\\nI,0.395,0.31,0.095,0.313,0.131,0.072,0.093,7\\nI,0.415,0.31,0.105,0.3595,0.167,0.083,0.0915,6\\nI,0.43,0.32,0.1,0.3855,0.192,0.0745,0.1,7\\nI,0.48,0.355,0.115,0.5785,0.25,0.106,0.184,8\\nM,0.49,0.395,0.12,0.674,0.3325,0.1235,0.185,9\\nF,0.49,0.37,0.105,0.5265,0.249,0.1005,0.148,7\\nF,0.56,0.465,0.16,1.0315,0.432,0.2025,0.337,9\\nM,0.56,0.45,0.14,0.9,0.472,0.182,0.218,7\\nM,0.58,0.46,0.15,1.0165,0.491,0.221,0.265,9\\nF,0.58,0.48,0.18,1.2495,0.4945,0.27,0.371,8\\nM,0.59,0.47,0.135,1.1685,0.539,0.279,0.28,8\\nF,0.595,0.475,0.165,1.148,0.444,0.214,0.37,10\\nM,0.6,0.475,0.15,1.089,0.5195,0.223,0.292,11\\nM,0.61,0.47,0.155,1.0325,0.497,0.2175,0.2785,9\\nF,0.63,0.475,0.15,1.172,0.536,0.254,0.316,11\\nM,0.64,0.51,0.17,1.3715,0.567,0.307,0.409,10\\nF,0.65,0.545,0.185,1.5055,0.6565,0.341,0.43,10\\nM,0.71,0.55,0.2,1.9045,0.882,0.44,0.5,13\\nM,0.74,0.605,0.2,2.4925,1.1455,0.575,0.5235,13\\nI,0.25,0.18,0.065,0.0805,0.0345,0.0185,0.0215,4\\nI,0.28,0.21,0.065,0.111,0.0425,0.0285,0.03,6\\nI,0.325,0.24,0.075,0.152,0.065,0.0305,0.045,6\\nI,0.35,0.265,0.095,0.199,0.073,0.049,0.06,5\\nI,0.36,0.27,0.09,0.219,0.097,0.0405,0.065,6\\nI,0.365,0.27,0.105,0.2155,0.0915,0.0475,0.063,6\\nI,0.37,0.28,0.09,0.2565,0.1255,0.0645,0.0645,6\\nI,0.375,0.285,0.09,0.257,0.1045,0.062,0.075,7\\nI,0.38,0.275,0.095,0.2505,0.0945,0.0655,0.075,6\\nI,0.395,0.3,0.09,0.279,0.134,0.049,0.075,8\\nI,0.43,0.335,0.105,0.378,0.188,0.0785,0.09,6\\nI,0.44,0.35,0.125,0.456,0.21,0.0955,0.131,8\\nI,0.465,0.37,0.1,0.5055,0.234,0.11,0.14,7\\nF,0.465,0.355,0.115,0.4705,0.1955,0.118,0.126,7\\nM,0.48,0.37,0.13,0.643,0.349,0.1155,0.135,8\\nI,0.485,0.37,0.1,0.513,0.219,0.1075,0.13,7\\nF,0.49,0.4,0.115,0.569,0.256,0.1325,0.145,9\\nI,0.495,0.4,0.145,0.578,0.2545,0.1305,0.1645,8\\nI,0.5,0.385,0.11,0.596,0.3015,0.104,0.151,8\\nF,0.505,0.39,0.12,0.5725,0.2555,0.1325,0.146,8\\nM,0.52,0.39,0.12,0.6435,0.2885,0.157,0.161,7\\nM,0.52,0.395,0.125,0.8115,0.4035,0.166,0.2,7\\nF,0.525,0.44,0.125,0.7115,0.3205,0.159,0.1915,7\\nM,0.55,0.44,0.155,0.9155,0.3645,0.195,0.25,8\\nF,0.555,0.44,0.145,0.8815,0.43,0.1975,0.2155,8\\nF,0.555,0.42,0.11,0.931,0.4445,0.171,0.225,8\\nF,0.575,0.46,0.165,1.065,0.4985,0.2145,0.2815,8\\nM,0.6,0.475,0.155,1.1385,0.502,0.2295,0.31,9\\nF,0.61,0.48,0.16,1.234,0.598,0.238,0.315,12\\nF,0.61,0.495,0.175,1.2635,0.53,0.315,0.3455,10\\nF,0.61,0.47,0.16,1.0745,0.4925,0.236,0.29,8\\nM,0.615,0.505,0.19,1.403,0.6715,0.2925,0.365,8\\nM,0.62,0.485,0.165,1.1325,0.5235,0.2505,0.2825,9\\nF,0.625,0.495,0.16,1.1115,0.4495,0.2825,0.345,11\\nF,0.625,0.47,0.17,1.255,0.525,0.2415,0.405,10\\nM,0.625,0.485,0.17,1.437,0.5855,0.293,0.475,11\\nM,0.635,0.495,0.155,1.3635,0.583,0.2985,0.295,10\\nF,0.64,0.48,0.195,1.1435,0.4915,0.2345,0.353,9\\nM,0.64,0.5,0.17,1.4545,0.642,0.3575,0.354,9\\nM,0.66,0.525,0.18,1.478,0.5815,0.381,0.372,10\\nF,0.665,0.52,0.165,1.6885,0.7295,0.407,0.4265,11\\nF,0.715,0.585,0.23,2.0725,0.8655,0.4095,0.565,10\\nM,0.72,0.565,0.2,1.787,0.718,0.385,0.529,11\\nF,0.725,0.58,0.185,1.523,0.8045,0.3595,0.4375,9\\nI,0.165,0.12,0.05,0.021,0.0075,0.0045,0.014,3\\nI,0.21,0.15,0.055,0.0455,0.02,0.0065,0.013,4\\nI,0.355,0.265,0.085,0.2435,0.122,0.0525,0.06,6\\nI,0.4,0.315,0.085,0.2675,0.116,0.0585,0.0765,6\\nI,0.4,0.29,0.1,0.258,0.104,0.059,0.0815,7\\nI,0.4,0.3,0.11,0.2985,0.1375,0.071,0.075,6\\nI,0.435,0.335,0.11,0.411,0.2025,0.0945,0.1,7\\nI,0.44,0.33,0.11,0.38,0.197,0.079,0.09,7\\nI,0.45,0.34,0.105,0.4385,0.21,0.0925,0.12,8\\nI,0.465,0.345,0.105,0.4015,0.242,0.0345,0.109,6\\nI,0.47,0.355,0.145,0.4485,0.156,0.102,0.123,7\\nI,0.47,0.355,0.115,0.4155,0.167,0.084,0.139,7\\nI,0.475,0.42,0.16,0.7095,0.35,0.1505,0.1845,8\\nI,0.485,0.37,0.115,0.637,0.38,0.1335,0.128,7\\nF,0.505,0.475,0.16,1.1155,0.509,0.239,0.3065,8\\nI,0.51,0.405,0.13,0.599,0.3065,0.1155,0.1485,8\\nI,0.52,0.38,0.13,0.5345,0.2375,0.122,0.1535,8\\nF,0.53,0.42,0.14,0.627,0.2905,0.1165,0.183,8\\nM,0.535,0.42,0.16,0.7465,0.348,0.1515,0.2185,10\\nM,0.55,0.44,0.16,0.985,0.4645,0.201,0.27,8\\nM,0.555,0.44,0.145,0.85,0.4165,0.1685,0.23,8\\nM,0.555,0.44,0.15,0.838,0.4155,0.146,0.23,8\\nF,0.555,0.43,0.135,0.812,0.4055,0.163,0.2215,9\\nM,0.56,0.415,0.13,0.7615,0.3695,0.17,0.1955,8\\nM,0.575,0.44,0.145,0.87,0.3945,0.2195,0.225,8\\nF,0.585,0.45,0.145,0.9835,0.4845,0.242,0.22,9\\nM,0.59,0.46,0.145,0.929,0.38,0.24,0.255,10\\nF,0.595,0.47,0.165,1.0155,0.491,0.1905,0.289,9\\nM,0.6,0.41,0.145,0.939,0.4475,0.196,0.268,8\\nM,0.6,0.475,0.16,1.164,0.5045,0.2635,0.335,12\\nM,0.61,0.47,0.175,1.214,0.5315,0.2835,0.325,10\\nF,0.615,0.49,0.19,1.1345,0.4695,0.257,0.348,11\\nF,0.62,0.51,0.18,1.233,0.592,0.274,0.322,10\\nM,0.625,0.495,0.18,1.0815,0.4715,0.254,0.3135,10\\nM,0.625,0.47,0.175,1.179,0.605,0.258,0.271,9\\nF,0.64,0.5,0.165,1.1635,0.554,0.239,0.32,11\\nF,0.64,0.475,0.175,1.1545,0.4865,0.341,0.288,9\\nF,0.645,0.52,0.175,1.3345,0.667,0.2665,0.355,10\\nM,0.65,0.505,0.18,1.469,0.7115,0.3335,0.38,9\\nM,0.655,0.52,0.18,1.492,0.7185,0.36,0.355,11\\nF,0.655,0.54,0.175,1.5585,0.7285,0.402,0.385,11\\nF,0.66,0.5,0.175,1.3275,0.556,0.2805,0.4085,9\\nM,0.67,0.525,0.18,1.6615,0.8005,0.3645,0.43,10\\nF,0.69,0.525,0.19,1.492,0.6425,0.3905,0.42,12\\nF,0.7,0.575,0.2,1.7365,0.7755,0.3965,0.461,11\\nF,0.7,0.56,0.175,1.6605,0.8605,0.3275,0.398,11\\nM,0.71,0.57,0.195,1.348,0.8985,0.4435,0.4535,11\\nM,0.715,0.545,0.18,1.7405,0.871,0.347,0.449,10\\nF,0.72,0.545,0.185,1.7185,0.7925,0.401,0.468,11\\nI,0.215,0.15,0.055,0.041,0.015,0.009,0.0125,3\\nI,0.24,0.185,0.06,0.0655,0.0295,0.0005,0.02,4\\nI,0.26,0.205,0.07,0.097,0.0415,0.019,0.0305,4\\nI,0.32,0.24,0.085,0.131,0.0615,0.0265,0.038,6\\nI,0.33,0.23,0.085,0.1695,0.079,0.026,0.0505,6\\nI,0.335,0.26,0.085,0.192,0.097,0.03,0.054,6\\nI,0.35,0.26,0.09,0.1765,0.072,0.0355,0.0575,7\\nI,0.35,0.265,0.085,0.1735,0.0775,0.034,0.056,6\\nI,0.36,0.265,0.075,0.1785,0.0785,0.035,0.054,6\\nI,0.36,0.265,0.09,0.2055,0.096,0.037,0.0585,7\\nI,0.365,0.275,0.09,0.2345,0.108,0.051,0.0625,7\\nI,0.38,0.285,0.09,0.2305,0.1005,0.039,0.0775,7\\nI,0.4,0.31,0.115,0.314,0.1545,0.0595,0.087,6\\nI,0.4,0.315,0.09,0.33,0.151,0.068,0.08,6\\nI,0.4,0.265,0.1,0.2775,0.1245,0.0605,0.08,9\\nI,0.425,0.325,0.11,0.405,0.1695,0.092,0.1065,8\\nI,0.43,0.325,0.105,0.309,0.119,0.08,0.098,6\\nM,0.435,0.335,0.11,0.4385,0.2075,0.0715,0.1315,7\\nI,0.435,0.34,0.12,0.396,0.1775,0.081,0.125,8\\nI,0.445,0.355,0.095,0.3615,0.1415,0.0785,0.12,8\\nI,0.45,0.35,0.11,0.514,0.253,0.1045,0.14,8\\nI,0.455,0.435,0.11,0.4265,0.195,0.09,0.1205,8\\nI,0.46,0.34,0.09,0.384,0.1795,0.068,0.11,8\\nI,0.475,0.355,0.125,0.4865,0.2155,0.1105,0.142,9\\nI,0.475,0.36,0.135,0.4355,0.196,0.0925,0.125,8\\nI,0.475,0.35,0.115,0.498,0.2375,0.099,0.14,7\\nI,0.48,0.355,0.125,0.494,0.2385,0.0835,0.15,9\\nF,0.495,0.37,0.12,0.594,0.28,0.11,0.1375,7\\nI,0.5,0.365,0.125,0.528,0.229,0.103,0.1645,9\\nM,0.505,0.39,0.115,0.5585,0.2575,0.119,0.1535,8\\nI,0.515,0.4,0.135,0.636,0.3055,0.1215,0.1855,9\\nI,0.525,0.39,0.105,0.567,0.2875,0.1075,0.16,8\\nI,0.53,0.405,0.13,0.6615,0.2945,0.1395,0.19,9\\nI,0.53,0.42,0.13,0.658,0.296,0.1245,0.198,8\\nM,0.535,0.415,0.135,0.78,0.3165,0.169,0.2365,8\\nI,0.535,0.41,0.13,0.6075,0.268,0.1225,0.1975,9\\nI,0.54,0.41,0.135,0.7025,0.31,0.177,0.2,8\\nI,0.55,0.425,0.155,0.8725,0.412,0.187,0.2425,10\\nF,0.565,0.45,0.175,1.2365,0.5305,0.2455,0.308,10\\nM,0.57,0.47,0.155,1.186,0.6355,0.2315,0.277,10\\nI,0.57,0.42,0.13,0.7745,0.3535,0.1505,0.2365,9\\nF,0.57,0.42,0.16,0.8875,0.4315,0.1915,0.223,8\\nI,0.575,0.455,0.155,0.8725,0.349,0.2095,0.285,8\\nI,0.575,0.44,0.125,0.8515,0.4555,0.1715,0.1965,9\\nF,0.575,0.475,0.16,0.895,0.3605,0.221,0.271,9\\nM,0.575,0.45,0.155,0.886,0.3605,0.211,0.2575,9\\nI,0.58,0.46,0.14,0.9265,0.4135,0.1845,0.27,10\\nI,0.58,0.46,0.14,0.8295,0.3915,0.165,0.238,10\\nI,0.58,0.47,0.15,0.907,0.444,0.1855,0.2445,11\\nM,0.58,0.47,0.165,1.041,0.54,0.166,0.279,9\\nF,0.585,0.465,0.165,0.9355,0.4035,0.2275,0.259,9\\nF,0.585,0.46,0.165,1.058,0.486,0.25,0.294,9\\nF,0.595,0.465,0.145,0.7955,0.3425,0.1795,0.2425,10\\nF,0.6,0.47,0.17,1.0805,0.4995,0.2245,0.3205,9\\nM,0.6,0.47,0.15,0.928,0.4225,0.183,0.275,8\\nF,0.6,0.475,0.155,1.059,0.441,0.19,0.39,11\\nM,0.6,0.475,0.23,1.157,0.522,0.2235,0.36,11\\nF,0.6,0.475,0.17,1.088,0.4905,0.2475,0.31,10\\nF,0.6,0.485,0.145,0.776,0.3545,0.1585,0.239,9\\nF,0.62,0.48,0.165,1.043,0.4835,0.221,0.31,10\\nM,0.625,0.48,0.16,1.1415,0.5795,0.2145,0.29,9\\nF,0.625,0.475,0.16,1.3335,0.605,0.2875,0.319,10\\nF,0.625,0.5,0.175,1.273,0.564,0.302,0.374,9\\nM,0.625,0.49,0.165,1.1835,0.517,0.2375,0.39,11\\nM,0.625,0.485,0.16,1.2135,0.631,0.2235,0.302,9\\nI,0.63,0.465,0.15,1.0315,0.4265,0.24,0.325,11\\nM,0.635,0.495,0.17,1.3695,0.657,0.3055,0.365,10\\nM,0.65,0.515,0.185,1.3745,0.75,0.1805,0.369,12\\nM,0.65,0.515,0.18,1.463,0.658,0.3135,0.4115,11\\nF,0.65,0.52,0.195,1.6275,0.689,0.3905,0.432,11\\nF,0.65,0.475,0.165,1.3875,0.58,0.3485,0.3095,9\\nM,0.655,0.525,0.16,1.46,0.686,0.311,0.405,11\\nF,0.655,0.53,0.165,1.2835,0.583,0.1255,0.4,8\\nF,0.66,0.5,0.155,1.3765,0.6485,0.288,0.335,12\\nM,0.66,0.515,0.2,1.6465,0.749,0.422,0.401,11\\nM,0.675,0.515,0.145,1.265,0.6025,0.299,0.325,10\\nM,0.685,0.53,0.17,1.56,0.647,0.383,0.465,11\\nM,0.715,0.52,0.18,1.6,0.708,0.3525,0.445,12\\nM,0.735,0.555,0.22,2.333,1.2395,0.3645,0.6195,12\\nI,0.175,0.125,0.04,0.028,0.0095,0.008,0.009,4\\nI,0.37,0.285,0.095,0.226,0.1135,0.0515,0.0675,8\\nI,0.395,0.3,0.09,0.2855,0.1385,0.0625,0.077,5\\nI,0.42,0.325,0.11,0.325,0.1245,0.0755,0.1025,7\\nI,0.455,0.37,0.11,0.514,0.2385,0.1235,0.126,8\\nI,0.495,0.375,0.115,0.5755,0.31,0.1145,0.1395,8\\nF,0.51,0.375,0.11,0.5805,0.2865,0.118,0.148,7\\nM,0.515,0.39,0.14,0.678,0.341,0.1325,0.119,8\\nM,0.545,0.43,0.155,0.8035,0.409,0.144,0.228,7\\nF,0.555,0.405,0.12,0.913,0.4585,0.196,0.2065,9\\nM,0.58,0.45,0.16,0.8675,0.3935,0.221,0.215,9\\nF,0.59,0.465,0.17,1.0425,0.4635,0.24,0.27,10\\nM,0.6,0.46,0.18,1.14,0.423,0.2575,0.365,10\\nF,0.61,0.49,0.17,1.3475,0.7045,0.25,0.3045,11\\nM,0.615,0.475,0.155,1.0735,0.4375,0.2585,0.31,11\\nM,0.615,0.475,0.19,1.4335,0.7315,0.305,0.3285,9\\nM,0.615,0.495,0.2,1.304,0.5795,0.3115,0.371,14\\nM,0.62,0.46,0.16,0.9505,0.4915,0.2,0.228,9\\nM,0.63,0.515,0.17,1.385,0.6355,0.2955,0.38,11\\nF,0.64,0.5,0.17,1.12,0.4955,0.2645,0.32,12\\nF,0.64,0.5,0.17,1.2645,0.565,0.3375,0.315,9\\nF,0.655,0.455,0.17,1.275,0.583,0.303,0.333,8\\nM,0.655,0.505,0.165,1.27,0.6035,0.262,0.335,10\\nM,0.66,0.53,0.175,1.583,0.7395,0.3505,0.405,10\\nF,0.665,0.5,0.175,1.4355,0.643,0.345,0.37,9\\nF,0.67,0.525,0.195,1.42,0.573,0.368,0.3905,10\\nM,0.69,0.53,0.19,1.5955,0.678,0.331,0.48,10\\nM,0.715,0.525,0.2,1.89,0.95,0.436,0.4305,10\\nF,0.735,0.565,0.225,2.037,0.87,0.5145,0.5675,13\\nI,0.27,0.205,0.05,0.084,0.03,0.0185,0.029,6\\nI,0.285,0.225,0.07,0.1005,0.0425,0.0185,0.035,7\\nI,0.295,0.22,0.085,0.1285,0.0585,0.027,0.0365,5\\nI,0.3,0.225,0.075,0.1345,0.057,0.028,0.044,5\\nI,0.3,0.22,0.065,0.1195,0.052,0.0155,0.035,5\\nI,0.36,0.265,0.085,0.1895,0.0725,0.0515,0.055,6\\nI,0.37,0.275,0.095,0.257,0.1015,0.055,0.0825,6\\nI,0.39,0.29,0.09,0.2745,0.135,0.0455,0.078,8\\nI,0.435,0.325,0.1,0.342,0.1335,0.0835,0.105,6\\nI,0.44,0.34,0.105,0.344,0.123,0.081,0.125,8\\nI,0.44,0.32,0.095,0.3275,0.1495,0.059,0.1,8\\nI,0.445,0.345,0.12,0.4035,0.169,0.0825,0.13,7\\nI,0.465,0.37,0.115,0.4075,0.1515,0.0935,0.1455,9\\nI,0.465,0.355,0.12,0.4975,0.2375,0.099,0.14,8\\nI,0.47,0.345,0.12,0.3685,0.1525,0.0615,0.125,8\\nI,0.475,0.365,0.105,0.4175,0.1645,0.099,0.127,7\\nI,0.475,0.335,0.1,0.4425,0.1895,0.086,0.135,9\\nI,0.475,0.35,0.125,0.4225,0.1905,0.079,0.1355,9\\nI,0.485,0.365,0.125,0.426,0.163,0.0965,0.151,8\\nI,0.49,0.39,0.12,0.511,0.2205,0.103,0.1745,9\\nI,0.515,0.405,0.13,0.573,0.213,0.134,0.195,9\\nI,0.52,0.415,0.14,0.6385,0.2945,0.1405,0.171,8\\nI,0.525,0.405,0.125,0.657,0.2985,0.1505,0.168,10\\nF,0.525,0.425,0.14,0.8735,0.4205,0.182,0.2225,10\\nI,0.53,0.425,0.13,0.781,0.3905,0.2005,0.215,9\\nI,0.53,0.42,0.14,0.6765,0.256,0.1855,0.208,9\\nM,0.53,0.41,0.125,0.769,0.346,0.173,0.215,9\\nI,0.53,0.395,0.125,0.6235,0.2975,0.108,0.195,11\\nM,0.535,0.405,0.14,0.7315,0.336,0.156,0.19,7\\nI,0.535,0.45,0.155,0.8075,0.3655,0.148,0.2595,10\\nM,0.545,0.41,0.14,0.737,0.349,0.15,0.212,9\\nF,0.545,0.41,0.125,0.654,0.2945,0.1315,0.205,10\\nI,0.55,0.415,0.15,0.7915,0.3535,0.176,0.236,10\\nI,0.55,0.45,0.14,0.753,0.3445,0.1325,0.24,8\\nI,0.55,0.4,0.135,0.717,0.3315,0.1495,0.221,9\\nI,0.555,0.43,0.15,0.783,0.345,0.1755,0.247,9\\nI,0.575,0.45,0.145,0.872,0.4675,0.18,0.217,9\\nI,0.575,0.44,0.15,0.983,0.486,0.215,0.239,8\\nF,0.585,0.42,0.155,1.034,0.437,0.2225,0.32,11\\nF,0.585,0.465,0.145,0.9855,0.4325,0.2145,0.2845,10\\nI,0.585,0.46,0.14,0.7635,0.326,0.153,0.265,9\\nM,0.59,0.465,0.135,0.9895,0.4235,0.199,0.28,8\\nI,0.595,0.47,0.135,0.9365,0.434,0.184,0.287,10\\nF,0.595,0.44,0.135,0.964,0.5005,0.1715,0.2575,10\\nF,0.595,0.46,0.155,1.0455,0.4565,0.24,0.3085,10\\nF,0.595,0.45,0.165,1.081,0.49,0.2525,0.279,12\\nM,0.6,0.47,0.16,1.012,0.441,0.2015,0.305,10\\nF,0.6,0.5,0.16,1.122,0.5095,0.256,0.309,10\\nM,0.605,0.49,0.165,1.1245,0.492,0.222,0.3555,11\\nF,0.605,0.49,0.15,1.1345,0.4305,0.2525,0.35,10\\nM,0.61,0.45,0.19,1.0805,0.517,0.2495,0.2935,10\\nF,0.61,0.495,0.165,1.0835,0.4525,0.273,0.317,9\\nM,0.615,0.47,0.175,1.242,0.5675,0.287,0.317,11\\nM,0.62,0.5,0.18,1.3915,0.726,0.2795,0.332,11\\nM,0.62,0.525,0.155,1.085,0.454,0.1965,0.35,10\\nI,0.62,0.47,0.155,0.966,0.447,0.171,0.284,11\\nM,0.62,0.48,0.165,1.0855,0.481,0.2575,0.305,10\\nF,0.625,0.485,0.135,1.3025,0.61,0.2675,0.3605,14\\nI,0.625,0.485,0.16,1.15,0.5255,0.257,0.3315,11\\nI,0.63,0.49,0.17,1.217,0.5515,0.212,0.31,11\\nF,0.63,0.505,0.195,1.306,0.516,0.3305,0.375,9\\nM,0.64,0.5,0.175,1.273,0.5065,0.2925,0.405,13\\nM,0.645,0.51,0.19,1.4865,0.6445,0.296,0.425,12\\nM,0.65,0.52,0.17,1.3655,0.6155,0.2885,0.36,11\\nM,0.65,0.495,0.17,1.276,0.6215,0.2305,0.399,11\\nM,0.65,0.495,0.16,1.2075,0.55,0.2695,0.32,10\\nF,0.65,0.52,0.195,1.281,0.5985,0.246,0.3825,10\\nM,0.65,0.525,0.205,1.4275,0.69,0.306,0.4355,13\\nM,0.65,0.51,0.175,1.155,0.4955,0.2025,0.385,12\\nF,0.65,0.51,0.175,1.35,0.575,0.3155,0.3885,10\\nM,0.65,0.525,0.19,1.3685,0.5975,0.296,0.4,11\\nF,0.66,0.53,0.17,1.431,0.622,0.309,0.398,10\\nM,0.66,0.51,0.18,1.261,0.5,0.2335,0.339,10\\nF,0.665,0.54,0.195,1.764,0.8505,0.3615,0.47,11\\nF,0.67,0.51,0.155,1.278,0.5605,0.3045,0.358,11\\nM,0.67,0.54,0.195,1.217,0.532,0.2735,0.3315,11\\nF,0.67,0.54,0.2,1.46,0.6435,0.328,0.4165,9\\nF,0.675,0.535,0.185,1.5575,0.7035,0.402,0.4,11\\nM,0.675,0.51,0.17,1.527,0.809,0.318,0.341,11\\nF,0.675,0.53,0.195,1.4985,0.62,0.375,0.425,9\\nM,0.685,0.55,0.19,1.885,0.89,0.41,0.4895,10\\nM,0.685,0.535,0.175,1.432,0.637,0.247,0.46,11\\nM,0.705,0.55,0.21,1.4385,0.655,0.3255,0.462,11\\nF,0.705,0.53,0.17,1.564,0.612,0.394,0.44,10\\nM,0.71,0.555,0.175,2.14,1.2455,0.3725,0.434,11\\nF,0.725,0.56,0.185,1.792,0.873,0.367,0.435,11\\nM,0.78,0.6,0.21,2.548,1.1945,0.5745,0.6745,11\\nI,0.235,0.13,0.075,0.1585,0.0685,0.037,0.0465,5\\nI,0.35,0.25,0.1,0.4015,0.1725,0.063,0.1255,7\\nI,0.36,0.25,0.115,0.465,0.21,0.1055,0.128,7\\nI,0.38,0.28,0.095,0.2885,0.165,0.0435,0.067,7\\nF,0.38,0.32,0.115,0.6475,0.323,0.1325,0.164,7\\nM,0.43,0.31,0.13,0.6485,0.2735,0.163,0.184,9\\nI,0.465,0.36,0.105,0.452,0.22,0.159,0.1035,9\\nI,0.47,0.355,0.12,0.4915,0.1765,0.1125,0.1325,9\\nF,0.485,0.365,0.15,0.9145,0.4145,0.199,0.273,7\\nM,0.495,0.375,0.155,0.976,0.45,0.2285,0.2475,9\\nI,0.5,0.395,0.145,0.7865,0.332,0.1815,0.2455,8\\nM,0.505,0.4,0.15,0.775,0.3445,0.157,0.185,7\\nI,0.51,0.375,0.15,0.8415,0.3845,0.156,0.255,10\\nM,0.51,0.38,0.135,0.681,0.3435,0.142,0.17,9\\nM,0.515,0.37,0.115,0.6145,0.3415,0.155,0.146,9\\nF,0.55,0.415,0.18,1.1655,0.502,0.301,0.311,9\\nF,0.575,0.42,0.19,1.764,0.914,0.377,0.4095,10\\nM,0.605,0.455,0.16,1.1215,0.533,0.273,0.271,10\\nM,0.615,0.505,0.165,1.167,0.4895,0.2955,0.345,10\\nM,0.615,0.475,0.15,1.0375,0.476,0.2325,0.283,9\\nM,0.625,0.48,0.18,1.223,0.565,0.2975,0.3375,10\\nM,0.625,0.47,0.15,1.124,0.556,0.2315,0.287,9\\nF,0.635,0.505,0.17,1.2635,0.512,0.322,0.355,9\\nF,0.65,0.525,0.165,1.238,0.647,0.2485,0.3005,9\\nF,0.65,0.5,0.17,1.4045,0.694,0.318,0.3235,11\\nF,0.67,0.525,0.195,1.37,0.6065,0.2955,0.407,12\\nF,0.695,0.525,0.205,1.8185,0.819,0.4025,0.4525,13\\nF,0.705,0.555,0.195,1.7525,0.7105,0.4215,0.516,12\\nI,0.275,0.205,0.065,0.101,0.041,0.021,0.034,5\\nI,0.285,0.205,0.07,0.106,0.039,0.0285,0.034,5\\nI,0.36,0.265,0.085,0.1865,0.0675,0.037,0.0615,7\\nI,0.385,0.29,0.1,0.2575,0.1,0.061,0.086,6\\nI,0.4,0.315,0.1,0.3225,0.143,0.0735,0.091,6\\nI,0.43,0.33,0.095,0.32,0.118,0.065,0.123,7\\nI,0.435,0.375,0.11,0.4155,0.17,0.076,0.145,8\\nI,0.45,0.335,0.115,0.3935,0.195,0.071,0.11,7\\nI,0.475,0.355,0.135,0.4775,0.2145,0.09,0.1435,8\\nI,0.475,0.36,0.11,0.452,0.191,0.099,0.13,8\\nI,0.485,0.37,0.14,0.5065,0.2425,0.088,0.1465,8\\nI,0.51,0.395,0.105,0.5525,0.234,0.127,0.165,8\\nI,0.515,0.39,0.12,0.565,0.235,0.135,0.179,9\\nI,0.52,0.41,0.14,0.699,0.3395,0.129,0.1945,10\\nI,0.525,0.4,0.14,0.6055,0.2605,0.108,0.21,9\\nM,0.53,0.425,0.155,0.7905,0.307,0.171,0.2595,9\\nM,0.53,0.425,0.13,0.702,0.2975,0.1395,0.22,9\\nM,0.53,0.42,0.135,0.675,0.294,0.156,0.1825,10\\nI,0.53,0.395,0.115,0.475,0.2025,0.101,0.148,8\\nI,0.53,0.41,0.15,0.612,0.2435,0.1525,0.1895,11\\nI,0.535,0.4,0.145,0.705,0.3065,0.1365,0.22,10\\nI,0.535,0.45,0.135,0.728,0.2845,0.1845,0.265,9\\nF,0.555,0.44,0.14,0.846,0.346,0.1715,0.2735,10\\nM,0.555,0.46,0.16,0.86,0.3345,0.1935,0.275,10\\nM,0.56,0.465,0.145,0.8875,0.3345,0.22,0.2695,9\\nF,0.56,0.43,0.145,0.898,0.3895,0.2325,0.245,9\\nI,0.565,0.43,0.125,0.6545,0.2815,0.139,0.21,9\\nI,0.575,0.45,0.145,0.795,0.364,0.1505,0.26,10\\nM,0.575,0.465,0.12,1.0535,0.516,0.2185,0.235,9\\nF,0.575,0.46,0.15,0.927,0.333,0.207,0.2985,9\\nI,0.58,0.42,0.14,0.701,0.3285,0.102,0.2255,9\\nM,0.58,0.45,0.155,0.8275,0.321,0.1975,0.2445,8\\nF,0.585,0.42,0.155,0.9845,0.442,0.2155,0.2875,13\\nM,0.585,0.47,0.145,0.9565,0.4025,0.2365,0.265,9\\nI,0.59,0.45,0.125,0.86,0.437,0.1515,0.245,9\\nM,0.595,0.48,0.185,1.1785,0.526,0.2975,0.314,10\\nM,0.615,0.48,0.185,1.2205,0.4985,0.315,0.33,10\\nM,0.615,0.455,0.13,0.9685,0.49,0.182,0.2655,10\\nF,0.62,0.5,0.175,1.107,0.4895,0.24,0.343,11\\nI,0.62,0.48,0.18,1.1305,0.5285,0.2655,0.306,12\\nM,0.62,0.48,0.155,1.2555,0.527,0.374,0.3175,11\\nM,0.625,0.495,0.155,1.177,0.5055,0.278,0.345,9\\nM,0.625,0.5,0.185,1.2425,0.5995,0.248,0.335,10\\nM,0.63,0.49,0.16,1.09,0.407,0.224,0.354,12\\nF,0.63,0.475,0.15,1.072,0.433,0.2975,0.315,8\\nF,0.645,0.51,0.155,1.129,0.5015,0.24,0.342,10\\nF,0.65,0.505,0.175,1.2075,0.5105,0.262,0.39,10\\nF,0.65,0.495,0.175,1.227,0.528,0.258,0.37,11\\nF,0.655,0.52,0.175,1.472,0.6275,0.27,0.45,13\\nF,0.665,0.525,0.18,1.5785,0.678,0.229,0.456,14\\nM,0.67,0.52,0.175,1.4755,0.6275,0.379,0.374,10\\nM,0.675,0.54,0.175,1.5545,0.6645,0.278,0.512,12\\nF,0.675,0.54,0.21,1.593,0.686,0.318,0.45,11\\nM,0.695,0.58,0.2,1.8995,0.675,0.478,0.5295,13\\nF,0.695,0.535,0.175,1.361,0.5465,0.2815,0.465,10\\nF,0.705,0.56,0.17,1.4575,0.607,0.318,0.44,11\\nM,0.74,0.58,0.205,2.381,0.8155,0.4695,0.488,12\\nI,0.205,0.155,0.045,0.0495,0.0235,0.011,0.014,3\\nI,0.305,0.23,0.075,0.1455,0.0595,0.0305,0.05,6\\nI,0.32,0.23,0.06,0.129,0.0615,0.0275,0.0355,7\\nI,0.355,0.27,0.1,0.2255,0.11,0.042,0.064,7\\nM,0.425,0.305,0.11,0.359,0.173,0.0875,0.0975,9\\nI,0.425,0.31,0.095,0.3505,0.1645,0.071,0.1,8\\nF,0.45,0.365,0.115,0.5885,0.318,0.121,0.1325,8\\nM,0.515,0.385,0.13,0.623,0.2855,0.1285,0.175,10\\nF,0.52,0.375,0.135,0.5375,0.221,0.117,0.17,8\\nI,0.525,0.4,0.125,0.5655,0.2435,0.119,0.175,8\\nM,0.555,0.445,0.13,0.8625,0.4225,0.155,0.24,9\\nF,0.61,0.49,0.17,1.137,0.4605,0.2825,0.344,12\\nI,0.35,0.26,0.095,0.221,0.0985,0.043,0.07,8\\nI,0.38,0.275,0.095,0.2425,0.106,0.0485,0.21,6\\nI,0.46,0.34,0.1,0.386,0.1805,0.0875,0.0965,8\\nM,0.465,0.355,0.12,0.5315,0.2725,0.097,0.1395,8\\nM,0.475,0.385,0.12,0.562,0.289,0.0905,0.153,8\\nM,0.565,0.445,0.14,0.836,0.406,0.1605,0.2245,9\\nM,0.57,0.45,0.14,0.9275,0.477,0.1605,0.2515,8\\nM,0.57,0.44,0.145,0.8815,0.3605,0.1955,0.2735,10\\nM,0.595,0.46,0.155,1.03,0.4275,0.207,0.3305,10\\nF,0.605,0.48,0.175,1.1685,0.4815,0.2305,0.356,9\\nF,0.615,0.455,0.135,1.059,0.4735,0.263,0.274,9\\nM,0.62,0.46,0.17,1.127,0.535,0.2635,0.296,7\\nM,0.625,0.47,0.17,1.1665,0.4605,0.2565,0.3945,11\\nF,0.68,0.52,0.185,1.541,0.5985,0.395,0.4575,10\\nM,0.68,0.54,0.195,1.7825,0.5565,0.3235,0.4285,11\\nM,0.68,0.52,0.175,1.543,0.7525,0.351,0.374,11\\nF,0.71,0.555,0.17,1.47,0.5375,0.38,0.431,12\\nM,0.5,0.385,0.12,0.6335,0.2305,0.125,0.235,14\\nF,0.545,0.42,0.175,0.754,0.256,0.1775,0.275,10\\nF,0.46,0.365,0.115,0.4485,0.165,0.083,0.17,14\\nM,0.535,0.41,0.15,0.8105,0.345,0.187,0.24,11\\nM,0.335,0.26,0.075,0.22,0.0855,0.04,0.085,6\\nF,0.425,0.35,0.1,0.4425,0.175,0.0755,0.175,7\\nM,0.41,0.325,0.1,0.3555,0.146,0.072,0.105,9\\nI,0.17,0.105,0.035,0.034,0.012,0.0085,0.005,4\\nI,0.335,0.25,0.095,0.185,0.0795,0.0495,0.055,8\\nM,0.52,0.425,0.125,0.79,0.372,0.205,0.19,8\\nF,0.53,0.41,0.145,0.8255,0.375,0.204,0.245,9\\nM,0.5,0.42,0.125,0.62,0.255,0.15,0.205,11\\nF,0.615,0.475,0.145,0.9525,0.3915,0.195,0.32,9\\nM,0.575,0.45,0.16,0.955,0.44,0.1685,0.27,16\\nM,0.57,0.45,0.155,0.91,0.326,0.1895,0.355,14\\nM,0.455,0.35,0.105,0.416,0.1625,0.097,0.145,11\\nI,0.37,0.275,0.085,0.2045,0.096,0.056,0.08,6\\nM,0.445,0.37,0.125,0.515,0.2495,0.087,0.159,9\\nF,0.675,0.535,0.22,1.604,0.6175,0.4255,0.453,14\\nM,0.385,0.3,0.115,0.3435,0.1645,0.085,0.1025,6\\nF,0.375,0.295,0.11,0.3005,0.1255,0.0575,0.1035,7\\nM,0.56,0.44,0.13,0.8255,0.2425,0.202,0.285,10\\nM,0.55,0.41,0.15,0.785,0.282,0.186,0.275,12\\nF,0.57,0.465,0.155,0.9685,0.446,0.261,0.255,9\\nF,0.485,0.4,0.155,0.731,0.236,0.183,0.255,11\\nM,0.41,0.335,0.115,0.4405,0.19,0.085,0.135,8\\nI,0.335,0.255,0.085,0.1785,0.071,0.0405,0.055,9\\nM,0.655,0.515,0.2,1.373,0.443,0.3375,0.49,16\\nF,0.565,0.45,0.165,0.9765,0.322,0.244,0.37,12\\nF,0.57,0.44,0.19,1.018,0.447,0.207,0.265,9\\nF,0.55,0.465,0.15,1.082,0.3575,0.194,0.19,14\\nF,0.63,0.475,0.175,1.423,0.4155,0.3385,0.49,14\\nM,0.475,0.37,0.125,0.655,0.266,0.1725,0.185,10\\nF,0.655,0.5,0.18,1.4155,0.508,0.314,0.445,18\\nI,0.32,0.235,0.065,0.1385,0.058,0.0225,0.05,5\\nM,0.525,0.395,0.165,0.782,0.285,0.1405,0.285,19\\nF,0.525,0.43,0.165,0.717,0.289,0.1745,0.195,10\\nF,0.5,0.39,0.13,0.6355,0.2505,0.1635,0.195,15\\nF,0.44,0.34,0.135,0.3975,0.1505,0.0945,0.135,8\\nF,0.49,0.385,0.16,0.656,0.2455,0.171,0.205,9\\nM,0.545,0.44,0.165,0.744,0.2875,0.204,0.25,15\\nF,0.45,0.36,0.11,0.447,0.203,0.082,0.13,12\\nF,0.515,0.4,0.115,0.578,0.191,0.1445,0.17,9\\nI,0.33,0.25,0.075,0.1405,0.056,0.035,0.05,5\\nF,0.525,0.41,0.15,0.708,0.274,0.151,0.25,12\\nM,0.295,0.225,0.09,0.1385,0.048,0.046,0.05,9\\nM,0.545,0.45,0.16,0.8615,0.2925,0.1545,0.365,16\\nF,0.645,0.5,0.225,1.626,0.587,0.4055,0.41,15\\nM,0.45,0.355,0.115,0.478,0.18,0.1185,0.155,10\\nF,0.61,0.49,0.17,1.1775,0.5655,0.2385,0.295,15\\nI,0.38,0.3,0.1,0.286,0.1305,0.056,0.09,7\\nF,0.565,0.455,0.13,1.058,0.439,0.2645,0.3,10\\nF,0.67,0.545,0.16,1.5415,0.5985,0.2565,0.495,15\\nM,0.54,0.425,0.12,0.817,0.2945,0.153,0.195,10\\nI,0.29,0.225,0.075,0.152,0.071,0.059,0.045,9\\nI,0.41,0.33,0.105,0.335,0.1525,0.074,0.11,7\\nF,0.46,0.375,0.12,0.4915,0.2205,0.088,0.17,7\\nF,0.56,0.44,0.155,0.9705,0.4315,0.263,0.255,9\\nF,0.575,0.45,0.1,0.9315,0.431,0.222,0.235,12\\nM,0.62,0.5,0.2,1.221,0.4605,0.263,0.43,12\\nM,0.515,0.4,0.14,0.7365,0.2955,0.184,0.185,16\\nF,0.56,0.46,0.18,0.97,0.342,0.196,0.355,12\\nF,0.5,0.4,0.15,0.8085,0.273,0.112,0.295,13\\nI,0.435,0.355,0.125,0.4075,0.1535,0.074,0.165,9\\nM,0.495,0.38,0.135,0.6295,0.263,0.1425,0.215,12\\nF,0.595,0.5,0.18,1.053,0.4405,0.192,0.39,13\\nM,0.76,0.575,0.19,1.829,0.7035,0.386,0.56,14\\nF,0.615,0.5,0.165,1.1765,0.488,0.244,0.345,17\\nF,0.565,0.46,0.15,0.8765,0.3455,0.1925,0.275,10\\nI,0.14,0.105,0.035,0.0145,0.005,0.0035,0.005,4\\nM,0.445,0.345,0.14,0.476,0.2055,0.1015,0.1085,15\\nF,0.525,0.43,0.125,0.813,0.3315,0.166,0.1775,12\\nI,0.16,0.12,0.02,0.018,0.0075,0.0045,0.005,4\\nM,0.635,0.48,0.235,1.064,0.413,0.228,0.36,16\\nM,0.575,0.47,0.165,0.853,0.292,0.179,0.35,16\\nM,0.38,0.27,0.095,0.219,0.0835,0.0515,0.07,6\\nM,0.245,0.18,0.065,0.0635,0.0245,0.0135,0.02,4\\nI,0.48,0.39,0.15,0.6275,0.276,0.134,0.185,13\\nI,0.455,0.365,0.135,0.441,0.1515,0.1165,0.145,9\\nF,0.455,0.375,0.125,0.458,0.1985,0.111,0.12,10\\nM,0.455,0.355,0.135,0.4745,0.1865,0.0935,0.168,13\\nI,0.355,0.27,0.1,0.216,0.083,0.037,0.075,10\\nI,0.52,0.405,0.14,0.6765,0.2865,0.146,0.205,15\\nI,0.54,0.4,0.145,0.757,0.315,0.181,0.215,11\\nI,0.52,0.39,0.14,0.7325,0.2415,0.144,0.26,19\\nI,0.56,0.445,0.165,1.0285,0.4535,0.253,0.275,11\\nF,0.52,0.41,0.16,0.712,0.2845,0.153,0.225,10\\nI,0.615,0.46,0.19,1.066,0.4335,0.226,0.33,13\\nF,0.645,0.49,0.19,1.3065,0.479,0.3565,0.345,18\\nI,0.565,0.43,0.135,0.8545,0.321,0.1775,0.275,11\\nM,0.295,0.23,0.085,0.125,0.042,0.0285,0.043,8\\nM,0.375,0.28,0.095,0.2225,0.0875,0.043,0.08,10\\nI,0.525,0.4,0.14,0.6955,0.2405,0.16,0.253,10\\nM,0.395,0.28,0.08,0.266,0.0995,0.066,0.09,12\\nF,0.5,0.4,0.165,0.7105,0.27,0.1455,0.225,20\\nF,0.47,0.35,0.115,0.487,0.1955,0.127,0.155,8\\nI,0.58,0.42,0.16,0.728,0.2725,0.19,0.19,14\\nI,0.5,0.38,0.155,0.6675,0.2745,0.156,0.18,12\\nI,0.725,0.55,0.22,2.0495,0.7735,0.4405,0.655,10\\nF,0.65,0.515,0.215,1.498,0.564,0.323,0.425,16\\nF,0.67,0.535,0.185,1.597,0.6275,0.35,0.47,21\\nI,0.55,0.44,0.165,0.8605,0.312,0.169,0.3,17\\nF,0.49,0.37,0.115,0.541,0.171,0.1175,0.185,11\\nI,0.235,0.18,0.06,0.058,0.022,0.0145,0.018,6\\nI,0.235,0.175,0.08,0.0645,0.0215,0.0175,0.0215,5\\nM,0.52,0.41,0.115,0.77,0.263,0.157,0.26,11\\nF,0.475,0.4,0.115,0.541,0.186,0.1025,0.21,13\\nM,0.53,0.425,0.11,0.739,0.237,0.161,0.295,13\\nF,0.35,0.275,0.065,0.205,0.0745,0.0465,0.07,10\\nM,0.555,0.42,0.145,0.8695,0.3075,0.2575,0.25,14\\nM,0.505,0.39,0.105,0.6555,0.2595,0.18,0.19,11\\nF,0.54,0.44,0.16,1.0905,0.391,0.2295,0.355,15\\nF,0.525,0.4,0.115,0.6295,0.2555,0.144,0.18,11\\nM,0.55,0.45,0.175,1.0985,0.3765,0.215,0.4,14\\nM,0.55,0.44,0.16,0.991,0.348,0.168,0.375,20\\nI,0.235,0.175,0.065,0.0615,0.0205,0.02,0.019,6\\nM,0.525,0.41,0.165,0.8005,0.2635,0.1985,0.25,13\\nM,0.475,0.365,0.14,0.6175,0.202,0.1445,0.19,16\\nF,0.53,0.4,0.165,0.772,0.2855,0.1975,0.23,12\\nF,0.525,0.415,0.15,0.7155,0.2355,0.171,0.27,13\\nF,0.53,0.425,0.13,0.717,0.2115,0.166,0.255,13\\nF,0.465,0.39,0.11,0.6355,0.1815,0.157,0.225,13\\nI,0.315,0.235,0.08,0.18,0.08,0.045,0.047,5\\nI,0.465,0.355,0.12,0.5805,0.255,0.0915,0.184,8\\nM,0.485,0.385,0.105,0.556,0.296,0.104,0.133,7\\nI,0.49,0.385,0.12,0.591,0.271,0.1125,0.1775,9\\nF,0.515,0.395,0.14,0.686,0.281,0.1255,0.22,12\\nF,0.555,0.44,0.155,1.016,0.4935,0.1855,0.263,10\\nF,0.61,0.5,0.18,1.438,0.5185,0.3735,0.3345,9\\nF,0.68,0.55,0.19,1.807,0.8225,0.3655,0.515,11\\nM,0.69,0.55,0.195,1.777,0.769,0.38,0.4305,11\\nM,0.695,0.55,0.205,2.173,1.133,0.4665,0.496,10\\nF,0.72,0.575,0.195,2.1505,1.0745,0.382,0.585,10\\nI,0.27,0.205,0.075,0.118,0.059,0.031,0.0305,4\\nI,0.27,0.19,0.06,0.099,0.0445,0.017,0.03,5\\nI,0.295,0.22,0.07,0.1365,0.0575,0.0295,0.035,6\\nI,0.295,0.22,0.065,0.1295,0.052,0.028,0.035,6\\nI,0.315,0.23,0.07,0.164,0.0625,0.04,0.045,6\\nI,0.375,0.29,0.095,0.2875,0.123,0.0605,0.08,6\\nI,0.38,0.3,0.09,0.277,0.1655,0.0625,0.082,6\\nI,0.385,0.285,0.09,0.248,0.0935,0.066,0.07,6\\nI,0.4,0.295,0.095,0.252,0.1105,0.0575,0.066,6\\nM,0.415,0.315,0.12,0.4015,0.199,0.087,0.097,8\\nI,0.415,0.33,0.1,0.3905,0.1925,0.0755,0.1025,7\\nI,0.42,0.32,0.115,0.409,0.2055,0.0935,0.105,8\\nI,0.44,0.33,0.135,0.4095,0.163,0.1005,0.119,6\\nI,0.45,0.35,0.135,0.494,0.2205,0.0945,0.1405,7\\nI,0.475,0.35,0.12,0.4905,0.2035,0.13,0.135,7\\nM,0.485,0.39,0.12,0.599,0.251,0.1345,0.169,8\\nM,0.495,0.375,0.115,0.6245,0.282,0.143,0.155,6\\nF,0.525,0.41,0.115,0.7745,0.416,0.163,0.18,7\\nM,0.565,0.455,0.15,0.9795,0.444,0.205,0.275,8\\nI,0.58,0.435,0.15,0.8915,0.363,0.1925,0.2515,6\\nF,0.585,0.45,0.125,0.874,0.3545,0.2075,0.225,6\\nM,0.6,0.465,0.155,1.262,0.6245,0.2455,0.33,10\\nM,0.63,0.48,0.185,1.21,0.53,0.2555,0.322,11\\nF,0.645,0.525,0.17,1.37,0.6135,0.283,0.34,10\\nF,0.655,0.545,0.185,1.759,0.6865,0.313,0.547,11\\nM,0.665,0.515,0.165,1.3855,0.621,0.302,0.3445,8\\nF,0.67,0.52,0.195,1.8065,0.758,0.3735,0.5055,11\\nM,0.67,0.51,0.2,1.5945,0.6705,0.3845,0.4505,10\\nM,0.685,0.51,0.18,1.4545,0.6315,0.3105,0.3725,9\\nM,0.7,0.6,0.23,2.003,0.8105,0.4045,0.5755,10\\nM,0.72,0.6,0.235,2.2385,0.984,0.411,0.621,12\\nI,0.185,0.135,0.045,0.032,0.011,0.0065,0.01,4\\nI,0.245,0.175,0.055,0.0785,0.04,0.018,0.02,5\\nI,0.315,0.23,0,0.134,0.0575,0.0285,0.3505,6\\nI,0.36,0.27,0.09,0.2075,0.098,0.039,0.062,6\\nI,0.375,0.28,0.08,0.2235,0.115,0.043,0.055,6\\nI,0.415,0.31,0.095,0.34,0.181,0.057,0.083,6\\nI,0.455,0.35,0.135,0.5365,0.2855,0.0855,0.1325,7\\nI,0.48,0.35,0.105,0.635,0.352,0.127,0.135,6\\nI,0.485,0.375,0.125,0.562,0.2505,0.1345,0.1525,8\\nI,0.51,0.39,0.125,0.597,0.293,0.1265,0.1555,8\\nM,0.52,0.395,0.125,0.5815,0.2565,0.1265,0.17,10\\nF,0.555,0.43,0.14,0.7545,0.3525,0.1835,0.2015,9\\nM,0.585,0.465,0.15,0.98,0.4315,0.2545,0.247,9\\nF,0.585,0.46,0.15,1.0035,0.503,0.2105,0.2515,11\\nM,0.585,0.455,0.155,1.133,0.5515,0.223,0.305,12\\nM,0.61,0.49,0.16,1.146,0.597,0.246,0.265,8\\nM,0.61,0.475,0.15,1.142,0.62,0.237,0.245,9\\nM,0.615,0.53,0.17,1.12,0.5775,0.2095,0.286,9\\nF,0.62,0.465,0.14,1.011,0.479,0.2385,0.255,8\\nM,0.625,0.505,0.175,1.131,0.5425,0.2265,0.323,8\\nM,0.625,0.48,0.175,1.065,0.4865,0.259,0.285,10\\nM,0.635,0.48,0.145,1.181,0.665,0.229,0.225,10\\nF,0.64,0.525,0.175,1.382,0.646,0.3115,0.37,9\\nM,0.66,0.505,0.19,1.4385,0.6775,0.285,0.178,11\\nM,0.66,0.485,0.155,1.2275,0.61,0.274,0.3,8\\nM,0.66,0.515,0.155,1.4415,0.7055,0.3555,0.335,10\\nF,0.68,0.55,0.175,1.473,0.713,0.282,0.4295,11\\nF,0.69,0.58,0.195,1.658,0.708,0.3615,0.4715,10\\nM,0.72,0.545,0.195,1.7475,0.8215,0.383,0.4705,11\\nI,0.275,0.2,0.07,0.096,0.037,0.0225,0.03,6\\nI,0.33,0.245,0.065,0.1445,0.058,0.032,0.0505,6\\nI,0.33,0.26,0.085,0.1965,0.0915,0.0425,0.055,7\\nI,0.365,0.28,0.09,0.196,0.0865,0.036,0.0605,7\\nI,0.365,0.27,0.09,0.2155,0.1005,0.049,0.0655,6\\nI,0.42,0.31,0.1,0.2805,0.1125,0.0615,0.0925,8\\nI,0.435,0.335,0.11,0.334,0.1355,0.0775,0.0965,7\\nI,0.435,0.325,0.1,0.366,0.174,0.0725,0.109,7\\nI,0.44,0.325,0.11,0.4965,0.258,0.1195,0.1075,8\\nI,0.485,0.365,0.09,0.651,0.3165,0.132,0.18,8\\nI,0.495,0.385,0.125,0.5125,0.2075,0.1155,0.172,10\\nM,0.51,0.405,0.125,0.6925,0.327,0.155,0.1805,7\\nI,0.52,0.41,0.14,0.5995,0.242,0.1375,0.182,11\\nI,0.54,0.42,0.14,0.74,0.3595,0.159,0.1985,8\\nI,0.54,0.415,0.155,0.702,0.322,0.167,0.19,10\\nI,0.55,0.445,0.125,0.672,0.288,0.1365,0.21,11\\nI,0.56,0.44,0.155,0.811,0.3685,0.178,0.235,11\\nF,0.575,0.45,0.12,0.9585,0.447,0.169,0.275,12\\nI,0.575,0.45,0.15,0.858,0.449,0.166,0.215,10\\nF,0.575,0.46,0.165,0.9575,0.4815,0.1945,0.236,10\\nF,0.58,0.46,0.135,0.926,0.4025,0.208,0.275,8\\nF,0.58,0.425,0.155,0.873,0.3615,0.249,0.239,10\\nM,0.59,0.45,0.16,0.998,0.445,0.214,0.301,9\\nM,0.6,0.46,0.155,0.6655,0.285,0.149,0.269,11\\nM,0.62,0.485,0.145,1.003,0.4655,0.2195,0.28,11\\nF,0.625,0.495,0.16,1.234,0.6335,0.192,0.35,13\\nM,0.625,0.495,0.155,1.025,0.46,0.1945,0.34,9\\nM,0.625,0.495,0.175,1.2935,0.5805,0.317,0.355,9\\nM,0.625,0.5,0.175,1.0565,0.4615,0.258,0.305,10\\nM,0.625,0.47,0.145,1.7855,0.675,0.247,0.3245,13\\nF,0.625,0.485,0.165,1.2255,0.5075,0.296,0.36,10\\nF,0.635,0.5,0.18,1.2565,0.539,0.292,0.35,10\\nF,0.645,0.5,0.15,1.159,0.4675,0.3355,0.31,9\\nM,0.645,0.51,0.165,1.403,0.5755,0.2515,0.4545,11\\nF,0.69,0.535,0.185,1.826,0.797,0.409,0.499,11\\nF,0.695,0.56,0.185,1.7715,0.8195,0.331,0.437,10\\nM,0.515,0.39,0.12,0.6125,0.302,0.1365,0.1415,8\\nI,0.545,0.405,0.13,0.658,0.327,0.1445,0.174,8\\nM,0.62,0.465,0.145,0.911,0.375,0.2145,0.278,10\\nM,0.63,0.49,0.15,1.1955,0.5845,0.257,0.3,9\\nF,0.63,0.515,0.16,1.336,0.553,0.3205,0.35,11\\nF,0.64,0.49,0.18,1.36,0.653,0.347,0.305,9\\nI,0.37,0.275,0.08,0.2325,0.093,0.056,0.072,6\\nI,0.395,0.31,0.085,0.317,0.153,0.0505,0.0935,7\\nI,0.4,0.3,0.115,0.318,0.1335,0.0725,0.0935,6\\nI,0.41,0.305,0.1,0.2645,0.1,0.0655,0.085,7\\nI,0.455,0.335,0.105,0.4055,0.175,0.092,0.1185,8\\nI,0.48,0.335,0.125,0.524,0.246,0.1095,0.145,7\\nI,0.485,0.375,0.11,0.464,0.2015,0.09,0.149,8\\nI,0.5,0.36,0.12,0.439,0.1875,0.1055,0.1305,8\\nI,0.515,0.395,0.125,0.5805,0.2365,0.1075,0.19,9\\nI,0.52,0.4,0.14,0.622,0.278,0.1455,0.169,8\\nM,0.545,0.45,0.15,0.7805,0.3795,0.1625,0.216,8\\nI,0.545,0.43,0.14,0.772,0.289,0.19,0.2615,8\\nI,0.55,0.435,0.125,0.741,0.348,0.1585,0.206,9\\nM,0.55,0.43,0.18,0.8265,0.4405,0.159,0.225,10\\nM,0.55,0.385,0.13,0.7275,0.343,0.1625,0.19,8\\nI,0.555,0.43,0.125,0.7005,0.3395,0.1355,0.2095,8\\nM,0.56,0.45,0.145,0.9355,0.425,0.1645,0.2725,11\\nI,0.565,0.465,0.15,1.1815,0.581,0.2215,0.3095,9\\nM,0.57,0.445,0.16,1.0145,0.516,0.164,0.3,10\\nF,0.575,0.48,0.17,1.1,0.506,0.2485,0.31,10\\nM,0.585,0.51,0.16,1.218,0.639,0.241,0.3,11\\nM,0.59,0.45,0.155,0.874,0.369,0.2135,0.24,8\\nI,0.595,0.475,0.155,0.984,0.4865,0.184,0.2755,10\\nM,0.6,0.47,0.13,1.0105,0.423,0.219,0.298,9\\nM,0.61,0.365,0.155,1.0765,0.488,0.249,0.27,9\\nM,0.615,0.475,0.205,1.337,0.5995,0.2815,0.37,11\\nM,0.625,0.5,0.18,1.3705,0.645,0.303,0.3705,12\\nF,0.625,0.49,0.19,1.7015,0.7465,0.4105,0.3855,11\\nM,0.63,0.485,0.18,1.2435,0.5175,0.308,0.37,11\\nM,0.63,0.53,0.175,1.4135,0.667,0.2945,0.3555,13\\nF,0.635,0.485,0.155,1.073,0.467,0.1975,0.35,11\\nF,0.635,0.5,0.175,1.477,0.684,0.3005,0.39,12\\nM,0.635,0.5,0.18,1.2915,0.594,0.2695,0.37,9\\nF,0.65,0.495,0.16,1.3105,0.577,0.3315,0.355,9\\nM,0.67,0.525,0.18,1.4915,0.728,0.343,0.381,9\\nF,0.675,0.52,0.175,1.494,0.7365,0.3055,0.37,9\\nF,0.675,0.51,0.15,1.1965,0.475,0.304,0.386,11\\nM,0.68,0.545,0.185,1.672,0.7075,0.364,0.48,11\\nM,0.7,0.545,0.215,1.9125,0.8825,0.4385,0.506,10\\nF,0.71,0.545,0.175,1.907,0.8725,0.4565,0.475,11\\nF,0.715,0.565,0.18,1.79,0.844,0.3535,0.5385,9\\nF,0.72,0.59,0.205,1.7495,0.7755,0.4225,0.48,11\\nI,0.42,0.305,0.1,0.3415,0.1645,0.0775,0.086,7\\nI,0.48,0.35,0.1,0.519,0.2365,0.1275,0.126,7\\nM,0.48,0.365,0.13,0.5305,0.2405,0.127,0.139,8\\nM,0.51,0.41,0.155,1.2825,0.569,0.291,0.3795,9\\nI,0.515,0.4,0.14,0.7165,0.3495,0.1595,0.1785,8\\nF,0.56,0.42,0.18,1.6645,0.7755,0.35,0.4525,9\\nI,0.56,0.42,0.14,0.837,0.414,0.214,0.2,8\\nF,0.57,0.45,0.15,0.9645,0.531,0.189,0.209,9\\nF,0.605,0.465,0.155,1.1,0.547,0.2665,0.2585,10\\nM,0.625,0.48,0.16,1.2415,0.6575,0.2625,0.2785,9\\nF,0.64,0.505,0.175,1.3185,0.6185,0.302,0.3315,9\\nM,0.65,0.525,0.185,1.3455,0.586,0.278,0.3865,9\\nI,0.3,0.215,0.05,0.1185,0.048,0.0225,0.042,4\\nM,0.35,0.265,0.09,0.197,0.073,0.0365,0.077,7\\nI,0.455,0.35,0.13,0.4725,0.215,0.0745,0.15,9\\nI,0.46,0.365,0.11,0.4495,0.1755,0.102,0.15,8\\nI,0.49,0.375,0.115,0.557,0.2275,0.1335,0.1765,8\\nI,0.5,0.385,0.12,0.516,0.197,0.1305,0.165,8\\nI,0.54,0.415,0.135,0.709,0.3195,0.174,0.185,9\\nM,0.55,0.42,0.145,0.7385,0.321,0.1485,0.252,11\\nI,0.55,0.445,0.11,0.7935,0.378,0.142,0.26,10\\nM,0.555,0.435,0.145,0.9205,0.404,0.2275,0.255,8\\nI,0.57,0.425,0.14,0.7655,0.331,0.14,0.24,10\\nM,0.58,0.45,0.14,0.824,0.3465,0.1765,0.263,10\\nI,0.58,0.425,0.145,0.83,0.379,0.1605,0.2575,11\\nI,0.585,0.47,0.17,0.985,0.3695,0.2395,0.315,10\\nM,0.585,0.45,0.15,0.997,0.4055,0.283,0.251,11\\nF,0.595,0.455,0.14,0.914,0.3895,0.2225,0.271,9\\nF,0.6,0.5,0.17,1.13,0.4405,0.267,0.335,11\\nF,0.615,0.495,0.155,1.0805,0.52,0.19,0.32,9\\nM,0.63,0.505,0.155,1.105,0.492,0.226,0.325,11\\nM,0.63,0.49,0.155,1.229,0.535,0.29,0.335,11\\nF,0.635,0.495,0.175,1.2355,0.5205,0.3085,0.347,10\\nF,0.645,0.535,0.19,1.2395,0.468,0.2385,0.424,10\\nF,0.65,0.505,0.165,1.357,0.5725,0.281,0.43,11\\nM,0.655,0.525,0.18,1.402,0.624,0.2935,0.365,13\\nF,0.655,0.5,0.22,1.359,0.642,0.3255,0.405,13\\nM,0.67,0.535,0.19,1.669,0.7465,0.2935,0.508,11\\nM,0.67,0.525,0.2,1.7405,0.6205,0.297,0.657,11\\nM,0.695,0.53,0.21,1.51,0.664,0.4095,0.385,10\\nM,0.695,0.55,0.195,1.6645,0.727,0.36,0.445,11\\nM,0.77,0.605,0.175,2.0505,0.8005,0.526,0.355,11\\nI,0.28,0.215,0.07,0.124,0.063,0.0215,0.03,6\\nI,0.33,0.23,0.08,0.14,0.0565,0.0365,0.046,7\\nI,0.35,0.25,0.075,0.1695,0.0835,0.0355,0.041,6\\nI,0.37,0.28,0.09,0.218,0.0995,0.0545,0.0615,7\\nI,0.43,0.315,0.115,0.384,0.1885,0.0715,0.11,8\\nI,0.435,0.33,0.095,0.393,0.219,0.075,0.0885,6\\nI,0.44,0.35,0.11,0.3805,0.1575,0.0895,0.115,6\\nM,0.475,0.37,0.11,0.4895,0.2185,0.107,0.146,8\\nM,0.475,0.36,0.14,0.5135,0.241,0.1045,0.155,8\\nI,0.48,0.355,0.11,0.4495,0.201,0.089,0.14,8\\nF,0.56,0.44,0.135,0.8025,0.35,0.1615,0.259,9\\nF,0.585,0.475,0.165,1.053,0.458,0.217,0.3,11\\nF,0.585,0.455,0.17,0.9945,0.4255,0.263,0.2845,11\\nM,0.385,0.255,0.1,0.3175,0.137,0.068,0.092,8\\nI,0.39,0.31,0.085,0.344,0.181,0.0695,0.079,7\\nI,0.39,0.29,0.1,0.2845,0.1255,0.0635,0.081,7\\nI,0.405,0.3,0.085,0.3035,0.15,0.0505,0.088,7\\nI,0.475,0.365,0.115,0.499,0.232,0.0885,0.156,10\\nM,0.5,0.38,0.125,0.577,0.269,0.1265,0.1535,9\\nF,0.515,0.4,0.125,0.615,0.2865,0.123,0.1765,8\\nM,0.52,0.385,0.165,0.791,0.375,0.18,0.1815,10\\nM,0.55,0.43,0.13,0.8395,0.3155,0.1955,0.2405,10\\nM,0.56,0.43,0.155,0.8675,0.4,0.172,0.229,8\\nF,0.565,0.45,0.165,0.887,0.37,0.239,0.249,11\\nM,0.59,0.44,0.135,0.966,0.439,0.2145,0.2605,10\\nM,0.6,0.475,0.205,1.176,0.5255,0.2875,0.308,9\\nF,0.625,0.485,0.15,1.0945,0.531,0.261,0.296,10\\nM,0.71,0.555,0.195,1.9485,0.9455,0.3765,0.495,12\\n'}"
            ]
          },
          "metadata": {
            "tags": []
          },
          "execution_count": 44
        }
      ]
    },
    {
      "cell_type": "code",
      "metadata": {
        "id": "WMs6vFmm4-92",
        "colab_type": "code",
        "colab": {
          "base_uri": "https://localhost:8080/",
          "height": 221
        },
        "outputId": "575ac0fa-d239-41e9-c07d-d480f849ba39"
      },
      "source": [
        "# Abalone data doesn't import well as the set comes without a header.\n",
        "# Assigned varient labels per UCI. \n",
        "# \n",
        "ab_column_head = ['Sex', 'Length','Diameter','Height','Whole weight',\n",
        "                  'Shucked weight','Viscera weight','Shell weight','Rings']\n",
        "df_ab = pd.read_csv('abalone.data',header=None,names=ab_column_head)\n",
        "df_ab.head()"
      ],
      "execution_count": 73,
      "outputs": [
        {
          "output_type": "execute_result",
          "data": {
            "text/html": [
              "<div>\n",
              "<style scoped>\n",
              "    .dataframe tbody tr th:only-of-type {\n",
              "        vertical-align: middle;\n",
              "    }\n",
              "\n",
              "    .dataframe tbody tr th {\n",
              "        vertical-align: top;\n",
              "    }\n",
              "\n",
              "    .dataframe thead th {\n",
              "        text-align: right;\n",
              "    }\n",
              "</style>\n",
              "<table border=\"1\" class=\"dataframe\">\n",
              "  <thead>\n",
              "    <tr style=\"text-align: right;\">\n",
              "      <th></th>\n",
              "      <th>Sex</th>\n",
              "      <th>Length</th>\n",
              "      <th>Diameter</th>\n",
              "      <th>Height</th>\n",
              "      <th>Whole weight</th>\n",
              "      <th>Shucked weight</th>\n",
              "      <th>Viscera weight</th>\n",
              "      <th>Shell weight</th>\n",
              "      <th>Rings</th>\n",
              "    </tr>\n",
              "  </thead>\n",
              "  <tbody>\n",
              "    <tr>\n",
              "      <th>0</th>\n",
              "      <td>M</td>\n",
              "      <td>0.455</td>\n",
              "      <td>0.365</td>\n",
              "      <td>0.095</td>\n",
              "      <td>0.5140</td>\n",
              "      <td>0.2245</td>\n",
              "      <td>0.1010</td>\n",
              "      <td>0.150</td>\n",
              "      <td>15</td>\n",
              "    </tr>\n",
              "    <tr>\n",
              "      <th>1</th>\n",
              "      <td>M</td>\n",
              "      <td>0.350</td>\n",
              "      <td>0.265</td>\n",
              "      <td>0.090</td>\n",
              "      <td>0.2255</td>\n",
              "      <td>0.0995</td>\n",
              "      <td>0.0485</td>\n",
              "      <td>0.070</td>\n",
              "      <td>7</td>\n",
              "    </tr>\n",
              "    <tr>\n",
              "      <th>2</th>\n",
              "      <td>F</td>\n",
              "      <td>0.530</td>\n",
              "      <td>0.420</td>\n",
              "      <td>0.135</td>\n",
              "      <td>0.6770</td>\n",
              "      <td>0.2565</td>\n",
              "      <td>0.1415</td>\n",
              "      <td>0.210</td>\n",
              "      <td>9</td>\n",
              "    </tr>\n",
              "    <tr>\n",
              "      <th>3</th>\n",
              "      <td>M</td>\n",
              "      <td>0.440</td>\n",
              "      <td>0.365</td>\n",
              "      <td>0.125</td>\n",
              "      <td>0.5160</td>\n",
              "      <td>0.2155</td>\n",
              "      <td>0.1140</td>\n",
              "      <td>0.155</td>\n",
              "      <td>10</td>\n",
              "    </tr>\n",
              "    <tr>\n",
              "      <th>4</th>\n",
              "      <td>I</td>\n",
              "      <td>0.330</td>\n",
              "      <td>0.255</td>\n",
              "      <td>0.080</td>\n",
              "      <td>0.2050</td>\n",
              "      <td>0.0895</td>\n",
              "      <td>0.0395</td>\n",
              "      <td>0.055</td>\n",
              "      <td>7</td>\n",
              "    </tr>\n",
              "  </tbody>\n",
              "</table>\n",
              "</div>"
            ],
            "text/plain": [
              "  Sex  Length  Diameter  ...  Viscera weight  Shell weight  Rings\n",
              "0   M   0.455     0.365  ...          0.1010         0.150     15\n",
              "1   M   0.350     0.265  ...          0.0485         0.070      7\n",
              "2   F   0.530     0.420  ...          0.1415         0.210      9\n",
              "3   M   0.440     0.365  ...          0.1140         0.155     10\n",
              "4   I   0.330     0.255  ...          0.0395         0.055      7\n",
              "\n",
              "[5 rows x 9 columns]"
            ]
          },
          "metadata": {
            "tags": []
          },
          "execution_count": 73
        }
      ]
    },
    {
      "cell_type": "code",
      "metadata": {
        "id": "JPetaGxr5OyV",
        "colab_type": "code",
        "colab": {
          "base_uri": "https://localhost:8080/",
          "height": 221
        },
        "outputId": "3751932b-bd91-4c34-8de6-e56d61a5f460"
      },
      "source": [
        "# Tail looks good here as well.\n",
        "df_ab.tail()"
      ],
      "execution_count": 74,
      "outputs": [
        {
          "output_type": "execute_result",
          "data": {
            "text/html": [
              "<div>\n",
              "<style scoped>\n",
              "    .dataframe tbody tr th:only-of-type {\n",
              "        vertical-align: middle;\n",
              "    }\n",
              "\n",
              "    .dataframe tbody tr th {\n",
              "        vertical-align: top;\n",
              "    }\n",
              "\n",
              "    .dataframe thead th {\n",
              "        text-align: right;\n",
              "    }\n",
              "</style>\n",
              "<table border=\"1\" class=\"dataframe\">\n",
              "  <thead>\n",
              "    <tr style=\"text-align: right;\">\n",
              "      <th></th>\n",
              "      <th>Sex</th>\n",
              "      <th>Length</th>\n",
              "      <th>Diameter</th>\n",
              "      <th>Height</th>\n",
              "      <th>Whole weight</th>\n",
              "      <th>Shucked weight</th>\n",
              "      <th>Viscera weight</th>\n",
              "      <th>Shell weight</th>\n",
              "      <th>Rings</th>\n",
              "    </tr>\n",
              "  </thead>\n",
              "  <tbody>\n",
              "    <tr>\n",
              "      <th>4172</th>\n",
              "      <td>F</td>\n",
              "      <td>0.565</td>\n",
              "      <td>0.450</td>\n",
              "      <td>0.165</td>\n",
              "      <td>0.8870</td>\n",
              "      <td>0.3700</td>\n",
              "      <td>0.2390</td>\n",
              "      <td>0.2490</td>\n",
              "      <td>11</td>\n",
              "    </tr>\n",
              "    <tr>\n",
              "      <th>4173</th>\n",
              "      <td>M</td>\n",
              "      <td>0.590</td>\n",
              "      <td>0.440</td>\n",
              "      <td>0.135</td>\n",
              "      <td>0.9660</td>\n",
              "      <td>0.4390</td>\n",
              "      <td>0.2145</td>\n",
              "      <td>0.2605</td>\n",
              "      <td>10</td>\n",
              "    </tr>\n",
              "    <tr>\n",
              "      <th>4174</th>\n",
              "      <td>M</td>\n",
              "      <td>0.600</td>\n",
              "      <td>0.475</td>\n",
              "      <td>0.205</td>\n",
              "      <td>1.1760</td>\n",
              "      <td>0.5255</td>\n",
              "      <td>0.2875</td>\n",
              "      <td>0.3080</td>\n",
              "      <td>9</td>\n",
              "    </tr>\n",
              "    <tr>\n",
              "      <th>4175</th>\n",
              "      <td>F</td>\n",
              "      <td>0.625</td>\n",
              "      <td>0.485</td>\n",
              "      <td>0.150</td>\n",
              "      <td>1.0945</td>\n",
              "      <td>0.5310</td>\n",
              "      <td>0.2610</td>\n",
              "      <td>0.2960</td>\n",
              "      <td>10</td>\n",
              "    </tr>\n",
              "    <tr>\n",
              "      <th>4176</th>\n",
              "      <td>M</td>\n",
              "      <td>0.710</td>\n",
              "      <td>0.555</td>\n",
              "      <td>0.195</td>\n",
              "      <td>1.9485</td>\n",
              "      <td>0.9455</td>\n",
              "      <td>0.3765</td>\n",
              "      <td>0.4950</td>\n",
              "      <td>12</td>\n",
              "    </tr>\n",
              "  </tbody>\n",
              "</table>\n",
              "</div>"
            ],
            "text/plain": [
              "     Sex  Length  Diameter  ...  Viscera weight  Shell weight  Rings\n",
              "4172   F   0.565     0.450  ...          0.2390        0.2490     11\n",
              "4173   M   0.590     0.440  ...          0.2145        0.2605     10\n",
              "4174   M   0.600     0.475  ...          0.2875        0.3080      9\n",
              "4175   F   0.625     0.485  ...          0.2610        0.2960     10\n",
              "4176   M   0.710     0.555  ...          0.3765        0.4950     12\n",
              "\n",
              "[5 rows x 9 columns]"
            ]
          },
          "metadata": {
            "tags": []
          },
          "execution_count": 74
        }
      ]
    },
    {
      "cell_type": "code",
      "metadata": {
        "id": "okw-N-K55bzq",
        "colab_type": "code",
        "colab": {
          "base_uri": "https://localhost:8080/",
          "height": 34
        },
        "outputId": "44f12089-29f5-4b84-ae68-fba5500b9441"
      },
      "source": [
        "# The Abalone set has one extra column when checked against the UCI atribute \n",
        "# description. I assume this is an issue related to the query note: 'Remember, \n",
        "# that UCI does not count the y variable (column of values that we might want \n",
        "# to predict via a machine learning model) as an \"attribute\" but rather as a \n",
        "# \"class attribute\" so you may end up seeing a number of columns that is one \n",
        "# greater than the number listed on the UCI website.'\n",
        "df_ab.shape"
      ],
      "execution_count": 75,
      "outputs": [
        {
          "output_type": "execute_result",
          "data": {
            "text/plain": [
              "(4177, 9)"
            ]
          },
          "metadata": {
            "tags": []
          },
          "execution_count": 75
        }
      ]
    },
    {
      "cell_type": "code",
      "metadata": {
        "id": "csk6f_EJ5o0Q",
        "colab_type": "code",
        "colab": {
          "base_uri": "https://localhost:8080/",
          "height": 436
        },
        "outputId": "24dfb99f-f89c-4621-e086-6429a23f35df"
      },
      "source": [
        "# Abalone data also appears to be in good shape. No obvious problems with missing\n",
        "# data from looking at the head & tail.\n",
        "df_ab.isnull()"
      ],
      "execution_count": 76,
      "outputs": [
        {
          "output_type": "execute_result",
          "data": {
            "text/html": [
              "<div>\n",
              "<style scoped>\n",
              "    .dataframe tbody tr th:only-of-type {\n",
              "        vertical-align: middle;\n",
              "    }\n",
              "\n",
              "    .dataframe tbody tr th {\n",
              "        vertical-align: top;\n",
              "    }\n",
              "\n",
              "    .dataframe thead th {\n",
              "        text-align: right;\n",
              "    }\n",
              "</style>\n",
              "<table border=\"1\" class=\"dataframe\">\n",
              "  <thead>\n",
              "    <tr style=\"text-align: right;\">\n",
              "      <th></th>\n",
              "      <th>Sex</th>\n",
              "      <th>Length</th>\n",
              "      <th>Diameter</th>\n",
              "      <th>Height</th>\n",
              "      <th>Whole weight</th>\n",
              "      <th>Shucked weight</th>\n",
              "      <th>Viscera weight</th>\n",
              "      <th>Shell weight</th>\n",
              "      <th>Rings</th>\n",
              "    </tr>\n",
              "  </thead>\n",
              "  <tbody>\n",
              "    <tr>\n",
              "      <th>0</th>\n",
              "      <td>False</td>\n",
              "      <td>False</td>\n",
              "      <td>False</td>\n",
              "      <td>False</td>\n",
              "      <td>False</td>\n",
              "      <td>False</td>\n",
              "      <td>False</td>\n",
              "      <td>False</td>\n",
              "      <td>False</td>\n",
              "    </tr>\n",
              "    <tr>\n",
              "      <th>1</th>\n",
              "      <td>False</td>\n",
              "      <td>False</td>\n",
              "      <td>False</td>\n",
              "      <td>False</td>\n",
              "      <td>False</td>\n",
              "      <td>False</td>\n",
              "      <td>False</td>\n",
              "      <td>False</td>\n",
              "      <td>False</td>\n",
              "    </tr>\n",
              "    <tr>\n",
              "      <th>2</th>\n",
              "      <td>False</td>\n",
              "      <td>False</td>\n",
              "      <td>False</td>\n",
              "      <td>False</td>\n",
              "      <td>False</td>\n",
              "      <td>False</td>\n",
              "      <td>False</td>\n",
              "      <td>False</td>\n",
              "      <td>False</td>\n",
              "    </tr>\n",
              "    <tr>\n",
              "      <th>3</th>\n",
              "      <td>False</td>\n",
              "      <td>False</td>\n",
              "      <td>False</td>\n",
              "      <td>False</td>\n",
              "      <td>False</td>\n",
              "      <td>False</td>\n",
              "      <td>False</td>\n",
              "      <td>False</td>\n",
              "      <td>False</td>\n",
              "    </tr>\n",
              "    <tr>\n",
              "      <th>4</th>\n",
              "      <td>False</td>\n",
              "      <td>False</td>\n",
              "      <td>False</td>\n",
              "      <td>False</td>\n",
              "      <td>False</td>\n",
              "      <td>False</td>\n",
              "      <td>False</td>\n",
              "      <td>False</td>\n",
              "      <td>False</td>\n",
              "    </tr>\n",
              "    <tr>\n",
              "      <th>...</th>\n",
              "      <td>...</td>\n",
              "      <td>...</td>\n",
              "      <td>...</td>\n",
              "      <td>...</td>\n",
              "      <td>...</td>\n",
              "      <td>...</td>\n",
              "      <td>...</td>\n",
              "      <td>...</td>\n",
              "      <td>...</td>\n",
              "    </tr>\n",
              "    <tr>\n",
              "      <th>4172</th>\n",
              "      <td>False</td>\n",
              "      <td>False</td>\n",
              "      <td>False</td>\n",
              "      <td>False</td>\n",
              "      <td>False</td>\n",
              "      <td>False</td>\n",
              "      <td>False</td>\n",
              "      <td>False</td>\n",
              "      <td>False</td>\n",
              "    </tr>\n",
              "    <tr>\n",
              "      <th>4173</th>\n",
              "      <td>False</td>\n",
              "      <td>False</td>\n",
              "      <td>False</td>\n",
              "      <td>False</td>\n",
              "      <td>False</td>\n",
              "      <td>False</td>\n",
              "      <td>False</td>\n",
              "      <td>False</td>\n",
              "      <td>False</td>\n",
              "    </tr>\n",
              "    <tr>\n",
              "      <th>4174</th>\n",
              "      <td>False</td>\n",
              "      <td>False</td>\n",
              "      <td>False</td>\n",
              "      <td>False</td>\n",
              "      <td>False</td>\n",
              "      <td>False</td>\n",
              "      <td>False</td>\n",
              "      <td>False</td>\n",
              "      <td>False</td>\n",
              "    </tr>\n",
              "    <tr>\n",
              "      <th>4175</th>\n",
              "      <td>False</td>\n",
              "      <td>False</td>\n",
              "      <td>False</td>\n",
              "      <td>False</td>\n",
              "      <td>False</td>\n",
              "      <td>False</td>\n",
              "      <td>False</td>\n",
              "      <td>False</td>\n",
              "      <td>False</td>\n",
              "    </tr>\n",
              "    <tr>\n",
              "      <th>4176</th>\n",
              "      <td>False</td>\n",
              "      <td>False</td>\n",
              "      <td>False</td>\n",
              "      <td>False</td>\n",
              "      <td>False</td>\n",
              "      <td>False</td>\n",
              "      <td>False</td>\n",
              "      <td>False</td>\n",
              "      <td>False</td>\n",
              "    </tr>\n",
              "  </tbody>\n",
              "</table>\n",
              "<p>4177 rows × 9 columns</p>\n",
              "</div>"
            ],
            "text/plain": [
              "        Sex  Length  Diameter  ...  Viscera weight  Shell weight  Rings\n",
              "0     False   False     False  ...           False         False  False\n",
              "1     False   False     False  ...           False         False  False\n",
              "2     False   False     False  ...           False         False  False\n",
              "3     False   False     False  ...           False         False  False\n",
              "4     False   False     False  ...           False         False  False\n",
              "...     ...     ...       ...  ...             ...           ...    ...\n",
              "4172  False   False     False  ...           False         False  False\n",
              "4173  False   False     False  ...           False         False  False\n",
              "4174  False   False     False  ...           False         False  False\n",
              "4175  False   False     False  ...           False         False  False\n",
              "4176  False   False     False  ...           False         False  False\n",
              "\n",
              "[4177 rows x 9 columns]"
            ]
          },
          "metadata": {
            "tags": []
          },
          "execution_count": 76
        }
      ]
    },
    {
      "cell_type": "code",
      "metadata": {
        "id": "rZmHXRI45yCC",
        "colab_type": "code",
        "colab": {
          "base_uri": "https://localhost:8080/",
          "height": 187
        },
        "outputId": "50ba22c8-1500-4fb8-a317-2494a3bb892a"
      },
      "source": [
        "# Chained sum to the original isnull function on the Abalone set and find \n",
        "# that there is no missing data.\n",
        "df_ab.isnull().sum()"
      ],
      "execution_count": 77,
      "outputs": [
        {
          "output_type": "execute_result",
          "data": {
            "text/plain": [
              "Sex               0\n",
              "Length            0\n",
              "Diameter          0\n",
              "Height            0\n",
              "Whole weight      0\n",
              "Shucked weight    0\n",
              "Viscera weight    0\n",
              "Shell weight      0\n",
              "Rings             0\n",
              "dtype: int64"
            ]
          },
          "metadata": {
            "tags": []
          },
          "execution_count": 77
        }
      ]
    },
    {
      "cell_type": "code",
      "metadata": {
        "id": "5E9woNtx6Th1",
        "colab_type": "code",
        "colab": {
          "base_uri": "https://localhost:8080/",
          "height": 334
        },
        "outputId": "fadf7b7b-128f-4882-e584-e6c0593280e6"
      },
      "source": [
        "# This descriptor includes everything but the sex varient of the abalone set.\n",
        "df_ab.describe()"
      ],
      "execution_count": 78,
      "outputs": [
        {
          "output_type": "execute_result",
          "data": {
            "text/html": [
              "<div>\n",
              "<style scoped>\n",
              "    .dataframe tbody tr th:only-of-type {\n",
              "        vertical-align: middle;\n",
              "    }\n",
              "\n",
              "    .dataframe tbody tr th {\n",
              "        vertical-align: top;\n",
              "    }\n",
              "\n",
              "    .dataframe thead th {\n",
              "        text-align: right;\n",
              "    }\n",
              "</style>\n",
              "<table border=\"1\" class=\"dataframe\">\n",
              "  <thead>\n",
              "    <tr style=\"text-align: right;\">\n",
              "      <th></th>\n",
              "      <th>Length</th>\n",
              "      <th>Diameter</th>\n",
              "      <th>Height</th>\n",
              "      <th>Whole weight</th>\n",
              "      <th>Shucked weight</th>\n",
              "      <th>Viscera weight</th>\n",
              "      <th>Shell weight</th>\n",
              "      <th>Rings</th>\n",
              "    </tr>\n",
              "  </thead>\n",
              "  <tbody>\n",
              "    <tr>\n",
              "      <th>count</th>\n",
              "      <td>4177.000000</td>\n",
              "      <td>4177.000000</td>\n",
              "      <td>4177.000000</td>\n",
              "      <td>4177.000000</td>\n",
              "      <td>4177.000000</td>\n",
              "      <td>4177.000000</td>\n",
              "      <td>4177.000000</td>\n",
              "      <td>4177.000000</td>\n",
              "    </tr>\n",
              "    <tr>\n",
              "      <th>mean</th>\n",
              "      <td>0.523992</td>\n",
              "      <td>0.407881</td>\n",
              "      <td>0.139516</td>\n",
              "      <td>0.828742</td>\n",
              "      <td>0.359367</td>\n",
              "      <td>0.180594</td>\n",
              "      <td>0.238831</td>\n",
              "      <td>9.933684</td>\n",
              "    </tr>\n",
              "    <tr>\n",
              "      <th>std</th>\n",
              "      <td>0.120093</td>\n",
              "      <td>0.099240</td>\n",
              "      <td>0.041827</td>\n",
              "      <td>0.490389</td>\n",
              "      <td>0.221963</td>\n",
              "      <td>0.109614</td>\n",
              "      <td>0.139203</td>\n",
              "      <td>3.224169</td>\n",
              "    </tr>\n",
              "    <tr>\n",
              "      <th>min</th>\n",
              "      <td>0.075000</td>\n",
              "      <td>0.055000</td>\n",
              "      <td>0.000000</td>\n",
              "      <td>0.002000</td>\n",
              "      <td>0.001000</td>\n",
              "      <td>0.000500</td>\n",
              "      <td>0.001500</td>\n",
              "      <td>1.000000</td>\n",
              "    </tr>\n",
              "    <tr>\n",
              "      <th>25%</th>\n",
              "      <td>0.450000</td>\n",
              "      <td>0.350000</td>\n",
              "      <td>0.115000</td>\n",
              "      <td>0.441500</td>\n",
              "      <td>0.186000</td>\n",
              "      <td>0.093500</td>\n",
              "      <td>0.130000</td>\n",
              "      <td>8.000000</td>\n",
              "    </tr>\n",
              "    <tr>\n",
              "      <th>50%</th>\n",
              "      <td>0.545000</td>\n",
              "      <td>0.425000</td>\n",
              "      <td>0.140000</td>\n",
              "      <td>0.799500</td>\n",
              "      <td>0.336000</td>\n",
              "      <td>0.171000</td>\n",
              "      <td>0.234000</td>\n",
              "      <td>9.000000</td>\n",
              "    </tr>\n",
              "    <tr>\n",
              "      <th>75%</th>\n",
              "      <td>0.615000</td>\n",
              "      <td>0.480000</td>\n",
              "      <td>0.165000</td>\n",
              "      <td>1.153000</td>\n",
              "      <td>0.502000</td>\n",
              "      <td>0.253000</td>\n",
              "      <td>0.329000</td>\n",
              "      <td>11.000000</td>\n",
              "    </tr>\n",
              "    <tr>\n",
              "      <th>max</th>\n",
              "      <td>0.815000</td>\n",
              "      <td>0.650000</td>\n",
              "      <td>1.130000</td>\n",
              "      <td>2.825500</td>\n",
              "      <td>1.488000</td>\n",
              "      <td>0.760000</td>\n",
              "      <td>1.005000</td>\n",
              "      <td>29.000000</td>\n",
              "    </tr>\n",
              "  </tbody>\n",
              "</table>\n",
              "</div>"
            ],
            "text/plain": [
              "            Length     Diameter  ...  Shell weight        Rings\n",
              "count  4177.000000  4177.000000  ...   4177.000000  4177.000000\n",
              "mean      0.523992     0.407881  ...      0.238831     9.933684\n",
              "std       0.120093     0.099240  ...      0.139203     3.224169\n",
              "min       0.075000     0.055000  ...      0.001500     1.000000\n",
              "25%       0.450000     0.350000  ...      0.130000     8.000000\n",
              "50%       0.545000     0.425000  ...      0.234000     9.000000\n",
              "75%       0.615000     0.480000  ...      0.329000    11.000000\n",
              "max       0.815000     0.650000  ...      1.005000    29.000000\n",
              "\n",
              "[8 rows x 8 columns]"
            ]
          },
          "metadata": {
            "tags": []
          },
          "execution_count": 78
        }
      ]
    },
    {
      "cell_type": "code",
      "metadata": {
        "id": "WiT2UkUL8Hx-",
        "colab_type": "code",
        "colab": {
          "base_uri": "https://localhost:8080/",
          "height": 173
        },
        "outputId": "0d45019d-68df-4ff4-acc0-4294e2a688d4"
      },
      "source": [
        "# Includes dataframe description for 'Sex' column which is an object and missing\n",
        "# from the above description call.\n",
        "df_ab.describe(include=object)"
      ],
      "execution_count": 79,
      "outputs": [
        {
          "output_type": "execute_result",
          "data": {
            "text/html": [
              "<div>\n",
              "<style scoped>\n",
              "    .dataframe tbody tr th:only-of-type {\n",
              "        vertical-align: middle;\n",
              "    }\n",
              "\n",
              "    .dataframe tbody tr th {\n",
              "        vertical-align: top;\n",
              "    }\n",
              "\n",
              "    .dataframe thead th {\n",
              "        text-align: right;\n",
              "    }\n",
              "</style>\n",
              "<table border=\"1\" class=\"dataframe\">\n",
              "  <thead>\n",
              "    <tr style=\"text-align: right;\">\n",
              "      <th></th>\n",
              "      <th>Sex</th>\n",
              "    </tr>\n",
              "  </thead>\n",
              "  <tbody>\n",
              "    <tr>\n",
              "      <th>count</th>\n",
              "      <td>4177</td>\n",
              "    </tr>\n",
              "    <tr>\n",
              "      <th>unique</th>\n",
              "      <td>3</td>\n",
              "    </tr>\n",
              "    <tr>\n",
              "      <th>top</th>\n",
              "      <td>M</td>\n",
              "    </tr>\n",
              "    <tr>\n",
              "      <th>freq</th>\n",
              "      <td>1528</td>\n",
              "    </tr>\n",
              "  </tbody>\n",
              "</table>\n",
              "</div>"
            ],
            "text/plain": [
              "         Sex\n",
              "count   4177\n",
              "unique     3\n",
              "top        M\n",
              "freq    1528"
            ]
          },
          "metadata": {
            "tags": []
          },
          "execution_count": 79
        }
      ]
    },
    {
      "cell_type": "markdown",
      "metadata": {
        "id": "mq_aQjxlM-u5",
        "colab_type": "text"
      },
      "source": [
        "# 3) Make Crosstabs of the Categorical Variables\n",
        "\n",
        "Take whichever of the above datasets has more categorical variables and use crosstabs to tabulate the different instances of the categorical variables.\n"
      ]
    },
    {
      "cell_type": "code",
      "metadata": {
        "id": "9-n9-LTM-18p",
        "colab_type": "code",
        "colab": {
          "base_uri": "https://localhost:8080/",
          "height": 452
        },
        "outputId": "c6edc6a9-c65a-44fa-a1e8-096827d6127e"
      },
      "source": [
        "# I chose Forest fire set to analyse in this context as it has the most varients\n",
        "# that are categorical. Already this is interesting because I'd want to organize\n",
        "# in this such a way that July, August, & September are presented together to \n",
        "# accentuate 'fire season'.\n",
        "\n",
        "pd.crosstab(df_ff['month'],df_ff['day'])"
      ],
      "execution_count": 85,
      "outputs": [
        {
          "output_type": "execute_result",
          "data": {
            "text/html": [
              "<div>\n",
              "<style scoped>\n",
              "    .dataframe tbody tr th:only-of-type {\n",
              "        vertical-align: middle;\n",
              "    }\n",
              "\n",
              "    .dataframe tbody tr th {\n",
              "        vertical-align: top;\n",
              "    }\n",
              "\n",
              "    .dataframe thead th {\n",
              "        text-align: right;\n",
              "    }\n",
              "</style>\n",
              "<table border=\"1\" class=\"dataframe\">\n",
              "  <thead>\n",
              "    <tr style=\"text-align: right;\">\n",
              "      <th>day</th>\n",
              "      <th>fri</th>\n",
              "      <th>mon</th>\n",
              "      <th>sat</th>\n",
              "      <th>sun</th>\n",
              "      <th>thu</th>\n",
              "      <th>tue</th>\n",
              "      <th>wed</th>\n",
              "    </tr>\n",
              "    <tr>\n",
              "      <th>month</th>\n",
              "      <th></th>\n",
              "      <th></th>\n",
              "      <th></th>\n",
              "      <th></th>\n",
              "      <th></th>\n",
              "      <th></th>\n",
              "      <th></th>\n",
              "    </tr>\n",
              "  </thead>\n",
              "  <tbody>\n",
              "    <tr>\n",
              "      <th>apr</th>\n",
              "      <td>1</td>\n",
              "      <td>1</td>\n",
              "      <td>1</td>\n",
              "      <td>3</td>\n",
              "      <td>2</td>\n",
              "      <td>0</td>\n",
              "      <td>1</td>\n",
              "    </tr>\n",
              "    <tr>\n",
              "      <th>aug</th>\n",
              "      <td>21</td>\n",
              "      <td>15</td>\n",
              "      <td>29</td>\n",
              "      <td>40</td>\n",
              "      <td>26</td>\n",
              "      <td>28</td>\n",
              "      <td>25</td>\n",
              "    </tr>\n",
              "    <tr>\n",
              "      <th>dec</th>\n",
              "      <td>1</td>\n",
              "      <td>4</td>\n",
              "      <td>0</td>\n",
              "      <td>1</td>\n",
              "      <td>1</td>\n",
              "      <td>1</td>\n",
              "      <td>1</td>\n",
              "    </tr>\n",
              "    <tr>\n",
              "      <th>feb</th>\n",
              "      <td>5</td>\n",
              "      <td>3</td>\n",
              "      <td>4</td>\n",
              "      <td>4</td>\n",
              "      <td>1</td>\n",
              "      <td>2</td>\n",
              "      <td>1</td>\n",
              "    </tr>\n",
              "    <tr>\n",
              "      <th>jan</th>\n",
              "      <td>0</td>\n",
              "      <td>0</td>\n",
              "      <td>1</td>\n",
              "      <td>1</td>\n",
              "      <td>0</td>\n",
              "      <td>0</td>\n",
              "      <td>0</td>\n",
              "    </tr>\n",
              "    <tr>\n",
              "      <th>jul</th>\n",
              "      <td>3</td>\n",
              "      <td>4</td>\n",
              "      <td>8</td>\n",
              "      <td>5</td>\n",
              "      <td>3</td>\n",
              "      <td>6</td>\n",
              "      <td>3</td>\n",
              "    </tr>\n",
              "    <tr>\n",
              "      <th>jun</th>\n",
              "      <td>3</td>\n",
              "      <td>3</td>\n",
              "      <td>2</td>\n",
              "      <td>4</td>\n",
              "      <td>2</td>\n",
              "      <td>0</td>\n",
              "      <td>3</td>\n",
              "    </tr>\n",
              "    <tr>\n",
              "      <th>mar</th>\n",
              "      <td>11</td>\n",
              "      <td>12</td>\n",
              "      <td>10</td>\n",
              "      <td>7</td>\n",
              "      <td>5</td>\n",
              "      <td>5</td>\n",
              "      <td>4</td>\n",
              "    </tr>\n",
              "    <tr>\n",
              "      <th>may</th>\n",
              "      <td>1</td>\n",
              "      <td>0</td>\n",
              "      <td>1</td>\n",
              "      <td>0</td>\n",
              "      <td>0</td>\n",
              "      <td>0</td>\n",
              "      <td>0</td>\n",
              "    </tr>\n",
              "    <tr>\n",
              "      <th>nov</th>\n",
              "      <td>0</td>\n",
              "      <td>0</td>\n",
              "      <td>0</td>\n",
              "      <td>0</td>\n",
              "      <td>0</td>\n",
              "      <td>1</td>\n",
              "      <td>0</td>\n",
              "    </tr>\n",
              "    <tr>\n",
              "      <th>oct</th>\n",
              "      <td>1</td>\n",
              "      <td>4</td>\n",
              "      <td>3</td>\n",
              "      <td>3</td>\n",
              "      <td>0</td>\n",
              "      <td>2</td>\n",
              "      <td>2</td>\n",
              "    </tr>\n",
              "    <tr>\n",
              "      <th>sep</th>\n",
              "      <td>38</td>\n",
              "      <td>28</td>\n",
              "      <td>25</td>\n",
              "      <td>27</td>\n",
              "      <td>21</td>\n",
              "      <td>19</td>\n",
              "      <td>14</td>\n",
              "    </tr>\n",
              "  </tbody>\n",
              "</table>\n",
              "</div>"
            ],
            "text/plain": [
              "day    fri  mon  sat  sun  thu  tue  wed\n",
              "month                                   \n",
              "apr      1    1    1    3    2    0    1\n",
              "aug     21   15   29   40   26   28   25\n",
              "dec      1    4    0    1    1    1    1\n",
              "feb      5    3    4    4    1    2    1\n",
              "jan      0    0    1    1    0    0    0\n",
              "jul      3    4    8    5    3    6    3\n",
              "jun      3    3    2    4    2    0    3\n",
              "mar     11   12   10    7    5    5    4\n",
              "may      1    0    1    0    0    0    0\n",
              "nov      0    0    0    0    0    1    0\n",
              "oct      1    4    3    3    0    2    2\n",
              "sep     38   28   25   27   21   19   14"
            ]
          },
          "metadata": {
            "tags": []
          },
          "execution_count": 85
        }
      ]
    },
    {
      "cell_type": "markdown",
      "metadata": {
        "id": "OJ4t2IAk-6Vg",
        "colab_type": "text"
      },
      "source": [
        "## 4) Explore the distributions of the variables of the dataset using:\n",
        "- Histograms\n",
        "- Scatterplots\n",
        "- Density Plots"
      ]
    },
    {
      "cell_type": "code",
      "metadata": {
        "id": "DhES5WmH_NFt",
        "colab_type": "code",
        "colab": {
          "base_uri": "https://localhost:8080/",
          "height": 265
        },
        "outputId": "a275e940-bfda-49a8-d3a5-7c1c202a505d"
      },
      "source": [
        "# Chose a bin of 12 for months against this Forest fire set. Getting closer to \n",
        "# seeing the yearly pattern of the 'fire season but much more could be done.\n",
        "df_ff['month'].hist(bins=12);"
      ],
      "execution_count": 88,
      "outputs": [
        {
          "output_type": "display_data",
          "data": {
            "image/png": "[encoded data removed]",
            "text/plain": [
              "<Figure size 432x288 with 1 Axes>"
            ]
          },
          "metadata": {
            "tags": []
          }
        }
      ]
    },
    {
      "cell_type": "code",
      "metadata": {
        "id": "qT2kvzbpBT3D",
        "colab_type": "code",
        "colab": {
          "base_uri": "https://localhost:8080/",
          "height": 265
        },
        "outputId": "562c4bf6-3310-4c6f-deba-44cd7631e0b7"
      },
      "source": [
        "# Chose a bin of 7 for days against this Forest fire set. I can see that forest \n",
        "# fires are more likely to occur on the weekends. Sunday being the best \n",
        "# opportunity for a forest fire to occur. This seems to show that forest fires \n",
        "# do not occur in a natural distribution and can probably be associated with \n",
        "# people starting froest fires when not working day jobs.\n",
        "df_ff['day'].hist(bins=7);"
      ],
      "execution_count": 90,
      "outputs": [
        {
          "output_type": "display_data",
          "data": {
            "image/png": "[encoded data removed]",
            "text/plain": [
              "<Figure size 432x288 with 1 Axes>"
            ]
          },
          "metadata": {
            "tags": []
          }
        }
      ]
    },
    {
      "cell_type": "code",
      "metadata": {
        "id": "xd_Bc3JBCJGl",
        "colab_type": "code",
        "colab": {
          "base_uri": "https://localhost:8080/",
          "height": 279
        },
        "outputId": "5e05c948-0590-4945-9284-8024061fae0e"
      },
      "source": [
        "# Scatterplot is running against temperature & wind speed as I assume forest \n",
        "# fires are more likely during times when the temperature is highter and winds \n",
        "# are stronger (based on my experience). This plot seems to reflect that. \n",
        "# Clearly some kind of quartile plotting might help illuminate this further.\n",
        "df_ff.plot.scatter('temp','wind');"
      ],
      "execution_count": 98,
      "outputs": [
        {
          "output_type": "display_data",
          "data": {
            "image/png": "[encoded data removed]",
            "text/plain": [
              "<Figure size 432x288 with 1 Axes>"
            ]
          },
          "metadata": {
            "tags": []
          }
        }
      ]
    },
    {
      "cell_type": "code",
      "metadata": {
        "id": "CahCfh69MTZx",
        "colab_type": "code",
        "colab": {
          "base_uri": "https://localhost:8080/",
          "height": 265
        },
        "outputId": "4e47484a-1b6f-4d7b-a49b-727f0c7834d1"
      },
      "source": [
        "# 20 degrees celsius definitely seems to be the sweet spot for forest fires.\n",
        "# It would be interesting to compare regional weather/temperature information \n",
        "# to forest fires using the theory that 20 degrees celsius (or ranges just \n",
        "# outside of it) could be used to plan for mitigation in the Wildland-Urban \n",
        "# Interface (WUI)\n",
        "df_ff['temp'].plot.density();"
      ],
      "execution_count": 101,
      "outputs": [
        {
          "output_type": "display_data",
          "data": {
            "image/png": "[encoded data removed]",
            "text/plain": [
              "<Figure size 432x288 with 1 Axes>"
            ]
          },
          "metadata": {
            "tags": []
          }
        }
      ]
    },
    {
      "cell_type": "markdown",
      "metadata": {
        "id": "LXXTzpgp_N0q",
        "colab_type": "text"
      },
      "source": [
        "## 5) Create at least one visualization from a crosstab:\n",
        "\n",
        "Remember that a crosstab is just a dataframe and can be manipulated in the same way by row index, column, index, or column/row/cell position.\n"
      ]
    },
    {
      "cell_type": "code",
      "metadata": {
        "id": "AJnhAM74PA4P",
        "colab_type": "code",
        "colab": {
          "base_uri": "https://localhost:8080/",
          "height": 291
        },
        "outputId": "f86048cc-be7f-4f21-cafc-16442de65b01"
      },
      "source": [
        "# I wanted to find a way to do a better job showing the 'fire season' I \n",
        "# mentioned in previous exercises. This stacked plot seems to do a good job \n",
        "# focusing the attention on the months of August and September.\n",
        "pd.crosstab(df_ff['month'], df_ff['day']).plot(kind='bar', stacked='true');"
      ],
      "execution_count": 115,
      "outputs": [
        {
          "output_type": "display_data",
          "data": {
            "image/png": "[encoded data removed]",
            "text/plain": [
              "<Figure size 432x288 with 1 Axes>"
            ]
          },
          "metadata": {
            "tags": []
          }
        }
      ]
    },
    {
      "cell_type": "code",
      "metadata": {
        "id": "FHzkxeWBPn1G",
        "colab_type": "code",
        "colab": {
          "base_uri": "https://localhost:8080/",
          "height": 1000
        },
        "outputId": "03b04d30-8770-47f3-bca4-7b10071422cd"
      },
      "source": [
        "# This is a mess but it does a good job of pointing the way forward. The legend \n",
        "# here is huge and doesn't serve the viewer. There are so many temperatures in \n",
        "# the data that it's hard to compare month temperatures against each other \n",
        "# without doing further data analysis. Creating buckets of some kind of \n",
        "# quartiles as I suggested previously would be the next step to clarify how the \n",
        "# data is plotted for visual communication.\n",
        "pd.crosstab(df_ff['month'], df_ff['temp']).plot(kind='bar', stacked='true');"
      ],
      "execution_count": 118,
      "outputs": [
        {
          "output_type": "display_data",
          "data": {
            "image/png": "[encoded data removed]",
            "text/plain": [
              "<Figure size 432x288 with 1 Axes>"
            ]
          },
          "metadata": {
            "tags": []
          }
        }
      ]
    },
    {
      "cell_type": "markdown",
      "metadata": {
        "id": "MZCxTwKuReV9",
        "colab_type": "text"
      },
      "source": [
        "## Stretch Goals \n",
        "\n",
        "The following additional study tasks are optional, they are intended to give you an opportunity to stretch yourself beyond the main requirements of the assignment. You can pick and choose from the below, you do not need to complete them in any particular order.\n",
        "\n",
        "### - Practice Exploring other Datasets\n",
        "\n",
        "### -  Try using the Seaborn plotting library's \"Pairplot\" functionality in order to explore all of the possible histograms and scatterplots of your dataset all at once:\n",
        "\n",
        "[Seaborn Pairplot](https://seaborn.pydata.org/generated/seaborn.pairplot.html)\n",
        "\n",
        "### - Turn some of the continuous variables into categorical variables by binning the values using:\n",
        "- [pd.cut()](https://pandas.pydata.org/pandas-docs/version/0.23.4/generated/pandas.cut.html)\n",
        "- [pd.qcut()](https://pandas.pydata.org/pandas-docs/stable/reference/api/pandas.qcut.html)\n",
        "- <https://stackoverflow.com/questions/30211923/what-is-the-difference-between-pandas-qcut-and-pandas-cut>\n",
        "\n",
        "And then use crosstabs to compare/visualize these binned variables against the other variables.\n",
        "\n",
        "\n",
        "### - Other types and sources of data\n",
        "Not all data comes in a nice single file - for example, image classification involves handling lots of image files. You still will probably want labels for them, so you may have tabular data in addition to the image blobs - and the images may be reduced in resolution and even fit in a regular csv as a bunch of numbers.\n",
        "\n",
        "If you're interested in natural language processing and analyzing text, that is another example where, while it can be put in a csv, you may end up loading much larger raw data and generating features that can then be thought of in a more standard tabular fashion.\n",
        "\n",
        "Overall you will in the course of learning data science deal with loading data in a variety of ways. Another common way to get data is from a database - most modern applications are backed by one or more databases, which you can query to get data to analyze. We'll cover this more in our data engineering unit.\n",
        "\n",
        "How does data get in the database? Most applications generate logs - text files with lots and lots of records of each use of the application. Databases are often populated based on these files, but in some situations you may directly analyze log files. The usual way to do this is with command line (Unix) tools - command lines are intimidating, so don't expect to learn them all at once, but depending on your interests it can be useful to practice.\n",
        "\n",
        "One last major source of data is APIs: https://github.com/toddmotto/public-apis\n",
        "\n",
        "API stands for Application Programming Interface, and while originally meant e.g. the way an application interfaced with the GUI or other aspects of an operating system, now it largely refers to online services that let you query and retrieve data. You can essentially think of most of them as \"somebody else's database\" - you have (usually limited) access.\n",
        "\n",
        "*Stretch goal* - research one of the above extended forms of data/data loading. See if you can get a basic example working in a notebook. Image, text, or (public) APIs are probably more tractable - databases are interesting, but there aren't many publicly accessible and they require a great deal of setup."
      ]
    },
    {
      "cell_type": "code",
      "metadata": {
        "id": "f4QP6--JBXNK",
        "colab_type": "code",
        "colab": {}
      },
      "source": [
        ""
      ],
      "execution_count": 0,
      "outputs": []
    }
  ]
}