{
  "nbformat": 4,
  "nbformat_minor": 0,
  "metadata": {
    "colab": {
      "name": "Moagi LS_DS_112_Make_Features_Assignment.ipynb",
      "provenance": [],
      "collapsed_sections": [],
      "include_colab_link": true
    },
    "kernelspec": {
      "display_name": "Python 3",
      "language": "python",
      "name": "python3"
    },
    "language_info": {
      "codemirror_mode": {
        "name": "ipython",
        "version": 3
      },
      "file_extension": ".py",
      "mimetype": "text/x-python",
      "name": "python",
      "nbconvert_exporter": "python",
      "pygments_lexer": "ipython3",
      "version": "3.7.1"
    }
  },
  "cells": [
    {
      "cell_type": "markdown",
      "metadata": {
        "id": "view-in-github",
        "colab_type": "text"
      },
      "source": [
        "<a href=\"https://colab.research.google.com/github/1mo2agi/DS-Unit-1-Sprint-1-Data-Wrangling-and-Storytelling/blob/master/module1-exploratory-data-analysis/Moagi_LS_DS_112_Make_Features_Assignment.ipynb\" target=\"_parent\"><img src=\"https://colab.research.google.com/assets/colab-badge.svg\" alt=\"Open In Colab\"/></a>"
      ]
    },
    {
      "cell_type": "markdown",
      "metadata": {
        "id": "SnDJqBLi0FYW",
        "colab_type": "text"
      },
      "source": [
        "<img align=\"left\" src=\"https://lever-client-logos.s3.amazonaws.com/864372b1-534c-480e-acd5-9711f850815c-1524247202159.png\" width=200> "
      ]
    },
    {
      "cell_type": "markdown",
      "metadata": {
        "id": "W5GjI1z5yNG4",
        "colab_type": "text"
      },
      "source": [
        "# Assignment:\n",
        "\n",
        "- Replicate the lesson code.\n",
        "\n",
        " - This means that if you haven't followed along already, type out the things that we did in class. Forcing your fingers to hit each key will help you internalize the syntax of what we're doing. Make sure you understand each line of code that you're writing, google things that you don't fully understand.\n",
        " - [Lambda Learning Method for DS - By Ryan Herr](https://docs.google.com/document/d/1ubOw9B3Hfip27hF2ZFnW3a3z9xAgrUDRReOEo-FHCVs/edit?usp=sharing)\n",
        "- Convert the `term` column from string to integer.\n",
        "- Make a column named `loan_status_is_great`. It should contain the integer 1 if `loan_status` is \"Current\" or \"Fully Paid.\" Else it should contain the integer 0.\n",
        "- Make `last_pymnt_d_month` and `last_pymnt_d_year` columns."
      ]
    },
    {
      "cell_type": "code",
      "metadata": {
        "id": "AazB4eFwym2p",
        "colab_type": "code",
        "outputId": "64255c49-8edd-4937-ba13-f2729ab0efef",
        "colab": {
          "base_uri": "https://localhost:8080/",
          "height": 204
        }
      },
      "source": [
        "##### Begin Working Here #####\n",
        "!wget https://resources.lendingclub.com/LoanStats_2018Q4.csv.zip\n"
      ],
      "execution_count": 0,
      "outputs": [
        {
          "output_type": "stream",
          "text": [
            "--2020-03-11 12:59:16--  https://resources.lendingclub.com/LoanStats_2018Q4.csv.zip\n",
            "Resolving resources.lendingclub.com (resources.lendingclub.com)... 64.48.1.20\n",
            "Connecting to resources.lendingclub.com (resources.lendingclub.com)|64.48.1.20|:443... connected.\n",
            "HTTP request sent, awaiting response... 200 OK\n",
            "Length: unspecified [application/zip]\n",
            "Saving to: ‘LoanStats_2018Q4.csv.zip’\n",
            "\n",
            "LoanStats_2018Q4.cs     [                 <=>]  21.71M   807KB/s    in 28s     \n",
            "\n",
            "2020-03-11 12:59:44 (792 KB/s) - ‘LoanStats_2018Q4.csv.zip’ saved [22763850]\n",
            "\n"
          ],
          "name": "stdout"
        }
      ]
    },
    {
      "cell_type": "code",
      "metadata": {
        "id": "XMLWy_cjfqx2",
        "colab_type": "code",
        "outputId": "64e8c5bb-f4b8-48c8-8131-b845691b9c6e",
        "colab": {
          "base_uri": "https://localhost:8080/",
          "height": 241
        }
      },
      "source": [
        "!unzip LoanStats_2018Q4.csv.zip\n",
        "#!tail LoanStats_2018Q4.csv\n",
        "!head LoanStats_2018Q4.csv\n",
        "\n"
      ],
      "execution_count": 0,
      "outputs": [
        {
          "output_type": "stream",
          "text": [
            "Archive:  LoanStats_2018Q4.csv.zip\n",
            "  inflating: LoanStats_2018Q4.csv    \n",
            "Notes offered by Prospectus (https://www.lendingclub.com/info/prospectus.action)\n",
            "\"id\",\"member_id\",\"loan_amnt\",\"funded_amnt\",\"funded_amnt_inv\",\"term\",\"int_rate\",\"installment\",\"grade\",\"sub_grade\",\"emp_title\",\"emp_length\",\"home_ownership\",\"annual_inc\",\"verification_status\",\"issue_d\",\"loan_status\",\"pymnt_plan\",\"url\",\"desc\",\"purpose\",\"title\",\"zip_code\",\"addr_state\",\"dti\",\"delinq_2yrs\",\"earliest_cr_line\",\"inq_last_6mths\",\"mths_since_last_delinq\",\"mths_since_last_record\",\"open_acc\",\"pub_rec\",\"revol_bal\",\"revol_util\",\"total_acc\",\"initial_list_status\",\"out_prncp\",\"out_prncp_inv\",\"total_pymnt\",\"total_pymnt_inv\",\"total_rec_prncp\",\"total_rec_int\",\"total_rec_late_fee\",\"recoveries\",\"collection_recovery_fee\",\"last_pymnt_d\",\"last_pymnt_amnt\",\"next_pymnt_d\",\"last_credit_pull_d\",\"collections_12_mths_ex_med\",\"mths_since_last_major_derog\",\"policy_code\",\"application_type\",\"annual_inc_joint\",\"dti_joint\",\"verification_status_joint\",\"acc_now_delinq\",\"tot_coll_amt\",\"tot_cur_bal\",\"open_acc_6m\",\"open_act_il\",\"open_il_12m\",\"open_il_24m\",\"mths_since_rcnt_il\",\"total_bal_il\",\"il_util\",\"open_rv_12m\",\"open_rv_24m\",\"max_bal_bc\",\"all_util\",\"total_rev_hi_lim\",\"inq_fi\",\"total_cu_tl\",\"inq_last_12m\",\"acc_open_past_24mths\",\"avg_cur_bal\",\"bc_open_to_buy\",\"bc_util\",\"chargeoff_within_12_mths\",\"delinq_amnt\",\"mo_sin_old_il_acct\",\"mo_sin_old_rev_tl_op\",\"mo_sin_rcnt_rev_tl_op\",\"mo_sin_rcnt_tl\",\"mort_acc\",\"mths_since_recent_bc\",\"mths_since_recent_bc_dlq\",\"mths_since_recent_inq\",\"mths_since_recent_revol_delinq\",\"num_accts_ever_120_pd\",\"num_actv_bc_tl\",\"num_actv_rev_tl\",\"num_bc_sats\",\"num_bc_tl\",\"num_il_tl\",\"num_op_rev_tl\",\"num_rev_accts\",\"num_rev_tl_bal_gt_0\",\"num_sats\",\"num_tl_120dpd_2m\",\"num_tl_30dpd\",\"num_tl_90g_dpd_24m\",\"num_tl_op_past_12m\",\"pct_tl_nvr_dlq\",\"percent_bc_gt_75\",\"pub_rec_bankruptcies\",\"tax_liens\",\"tot_hi_cred_lim\",\"total_bal_ex_mort\",\"total_bc_limit\",\"total_il_high_credit_limit\",\"revol_bal_joint\",\"sec_app_earliest_cr_line\",\"sec_app_inq_last_6mths\",\"sec_app_mort_acc\",\"sec_app_open_acc\",\"sec_app_revol_util\",\"sec_app_open_act_il\",\"sec_app_num_rev_accts\",\"sec_app_chargeoff_within_12_mths\",\"sec_app_collections_12_mths_ex_med\",\"sec_app_mths_since_last_major_derog\",\"hardship_flag\",\"hardship_type\",\"hardship_reason\",\"hardship_status\",\"deferral_term\",\"hardship_amount\",\"hardship_start_date\",\"hardship_end_date\",\"payment_plan_start_date\",\"hardship_length\",\"hardship_dpd\",\"hardship_loan_status\",\"orig_projected_additional_accrued_interest\",\"hardship_payoff_balance_amount\",\"hardship_last_payment_amount\",\"debt_settlement_flag\",\"debt_settlement_flag_date\",\"settlement_status\",\"settlement_date\",\"settlement_amount\",\"settlement_percentage\",\"settlement_term\"\n",
            "\"\",\"\",\"10000\",\"10000\",\"10000\",\" 60 months\",\" 16.14%\",\"243.93\",\"C\",\"C4\",\"Sale Consultant\",\"2 years\",\"RENT\",\"90000\",\"Not Verified\",\"Dec-2018\",\"Fully Paid\",\"n\",\"\",\"\",\"debt_consolidation\",\"Debt consolidation\",\"079xx\",\"NJ\",\"8.8\",\"0\",\"Mar-1991\",\"1\",\"\",\"43\",\"11\",\"1\",\"10582\",\"58.5%\",\"32\",\"w\",\"0.00\",\"0.00\",\"10661.0577272374\",\"10661.06\",\"10000.00\",\"661.06\",\"0.0\",\"0.0\",\"0.0\",\"May-2019\",\"9698.79\",\"\",\"Dec-2019\",\"0\",\"\",\"1\",\"Individual\",\"\",\"\",\"\",\"0\",\"0\",\"15470\",\"1\",\"1\",\"0\",\"1\",\"18\",\"4888\",\"65\",\"1\",\"3\",\"2969\",\"60\",\"18100\",\"2\",\"0\",\"2\",\"4\",\"1719\",\"4906\",\"67.3\",\"0\",\"0\",\"133\",\"333\",\"2\",\"2\",\"1\",\"2\",\"\",\"1\",\"\",\"0\",\"4\",\"6\",\"5\",\"15\",\"6\",\"8\",\"23\",\"6\",\"11\",\"0\",\"0\",\"0\",\"1\",\"100\",\"80\",\"1\",\"0\",\"25600\",\"15470\",\"15000\",\"7500\",\"\",\"\",\"\",\"\",\"\",\"\",\"\",\"\",\"\",\"\",\"\",\"N\",\"\",\"\",\"\",\"\",\"\",\"\",\"\",\"\",\"\",\"\",\"\",\"\",\"\",\"\",\"N\",\"\",\"\",\"\",\"\",\"\",\"\"\n",
            "\"\",\"\",\"6500\",\"6500\",\"6500\",\" 36 months\",\" 11.80%\",\"215.28\",\"B\",\"B4\",\"Educator \",\"2 years\",\"RENT\",\"46500\",\"Source Verified\",\"Dec-2018\",\"Current\",\"n\",\"\",\"\",\"debt_consolidation\",\"Debt consolidation\",\"352xx\",\"AL\",\"21.01\",\"0\",\"Aug-2011\",\"1\",\"61\",\"\",\"24\",\"0\",\"6741\",\"41.6%\",\"30\",\"w\",\"4411.89\",\"4411.89\",\"2792.25\",\"2792.25\",\"2088.11\",\"704.14\",\"0.0\",\"0.0\",\"0.0\",\"Feb-2020\",\"0.0\",\"Mar-2020\",\"Jan-2020\",\"0\",\"61\",\"1\",\"Individual\",\"\",\"\",\"\",\"0\",\"0\",\"40223\",\"4\",\"12\",\"2\",\"2\",\"5\",\"33482\",\"97\",\"7\",\"12\",\"3662\",\"79\",\"16200\",\"2\",\"0\",\"4\",\"14\",\"1749\",\"7694\",\"42.2\",\"0\",\"0\",\"88\",\"72\",\"1\",\"1\",\"0\",\"3\",\"\",\"5\",\"61\",\"2\",\"6\",\"10\",\"6\",\"6\",\"14\",\"11\",\"16\",\"10\",\"24\",\"0\",\"0\",\"0\",\"9\",\"93.3\",\"0\",\"0\",\"0\",\"50845\",\"40223\",\"13300\",\"34645\",\"\",\"\",\"\",\"\",\"\",\"\",\"\",\"\",\"\",\"\",\"\",\"N\",\"\",\"\",\"\",\"\",\"\",\"\",\"\",\"\",\"\",\"\",\"\",\"\",\"\",\"\",\"N\",\"\",\"\",\"\",\"\",\"\",\"\"\n",
            "\"\",\"\",\"4500\",\"4500\",\"4500\",\" 36 months\",\" 11.31%\",\"147.99\",\"B\",\"B3\",\"Accounts Examiner III\",\"10+ years\",\"RENT\",\"38500\",\"Not Verified\",\"Dec-2018\",\"Fully Paid\",\"n\",\"\",\"\",\"credit_card\",\"Credit card refinancing\",\"786xx\",\"TX\",\"4.64\",\"0\",\"Dec-2003\",\"0\",\"25\",\"\",\"12\",\"0\",\"4472\",\"15.3%\",\"25\",\"w\",\"0.00\",\"0.00\",\"4549.2171485504\",\"4549.22\",\"4500.00\",\"49.22\",\"0.0\",\"0.0\",\"0.0\",\"Feb-2019\",\"4553.46\",\"\",\"Feb-2020\",\"0\",\"25\",\"1\",\"Individual\",\"\",\"\",\"\",\"0\",\"306\",\"29137\",\"2\",\"1\",\"1\",\"1\",\"3\",\"24665\",\"100\",\"3\",\"7\",\"3612\",\"54\",\"29200\",\"0\",\"3\",\"3\",\"8\",\"2428\",\"10735\",\"28.9\",\"0\",\"0\",\"180\",\"69\",\"2\",\"2\",\"0\",\"2\",\"\",\"6\",\"\",\"1\",\"3\",\"5\",\"5\",\"6\",\"10\",\"11\",\"15\",\"5\",\"12\",\"0\",\"0\",\"0\",\"4\",\"91.7\",\"0\",\"0\",\"0\",\"53795\",\"29137\",\"15100\",\"24595\",\"\",\"\",\"\",\"\",\"\",\"\",\"\",\"\",\"\",\"\",\"\",\"N\",\"\",\"\",\"\",\"\",\"\",\"\",\"\",\"\",\"\",\"\",\"\",\"\",\"\",\"\",\"N\",\"\",\"\",\"\",\"\",\"\",\"\"\n",
            "\"\",\"\",\"25000\",\"25000\",\"25000\",\" 60 months\",\" 14.47%\",\"587.82\",\"C\",\"C2\",\"teacher\",\"10+ years\",\"OWN\",\"110000\",\"Not Verified\",\"Dec-2018\",\"Late (31-120 days)\",\"n\",\"\",\"\",\"credit_card\",\"Credit card refinancing\",\"117xx\",\"NY\",\"26.43\",\"1\",\"Jan-1997\",\"0\",\"7\",\"\",\"23\",\"0\",\"39053\",\"45.7%\",\"49\",\"w\",\"21975.89\",\"21975.89\",\"5848.05\",\"5848.05\",\"3024.11\",\"2823.94\",\"0.0\",\"0.0\",\"0.0\",\"Oct-2019\",\"587.82\",\"Mar-2020\",\"Jan-2020\",\"0\",\"7\",\"1\",\"Individual\",\"\",\"\",\"\",\"0\",\"0\",\"95648\",\"0\",\"3\",\"0\",\"0\",\"35\",\"54716\",\"23\",\"1\",\"2\",\"8422\",\"39\",\"85500\",\"0\",\"1\",\"0\",\"2\",\"4159\",\"34837\",\"44.5\",\"0\",\"0\",\"263\",\"246\",\"10\",\"10\",\"0\",\"48\",\"\",\"\",\"\",\"0\",\"9\",\"13\",\"10\",\"14\",\"21\",\"19\",\"27\",\"13\",\"23\",\"0\",\"0\",\"1\",\"1\",\"98\",\"10\",\"0\",\"0\",\"179321\",\"95648\",\"62800\",\"91424\",\"\",\"\",\"\",\"\",\"\",\"\",\"\",\"\",\"\",\"\",\"\",\"N\",\"\",\"\",\"\",\"\",\"\",\"\",\"\",\"\",\"\",\"\",\"\",\"\",\"\",\"\",\"N\",\"\",\"\",\"\",\"\",\"\",\"\"\n",
            "\"\",\"\",\"30000\",\"30000\",\"30000\",\" 60 months\",\" 27.27%\",\"920.91\",\"E\",\"E5\",\"Claims Analyst\",\"1 year\",\"RENT\",\"50000\",\"Not Verified\",\"Dec-2018\",\"Current\",\"n\",\"\",\"\",\"debt_consolidation\",\"Debt consolidation\",\"857xx\",\"AZ\",\"23.62\",\"0\",\"Dec-1997\",\"1\",\"\",\"\",\"10\",\"0\",\"1258\",\"10.7%\",\"16\",\"w\",\"26429.58\",\"26429.58\",\"11903.65\",\"11903.65\",\"3570.42\",\"8333.23\",\"0.0\",\"0.0\",\"0.0\",\"Feb-2020\",\"0.0\",\"Mar-2020\",\"Jan-2020\",\"0\",\"\",\"1\",\"Individual\",\"\",\"\",\"\",\"0\",\"0\",\"27364\",\"1\",\"4\",\"1\",\"2\",\"6\",\"26106\",\"76\",\"0\",\"1\",\"1258\",\"59\",\"11800\",\"2\",\"0\",\"1\",\"3\",\"2736\",\"8842\",\"12.5\",\"0\",\"0\",\"84\",\"252\",\"16\",\"6\",\"0\",\"16\",\"\",\"6\",\"\",\"0\",\"1\",\"1\",\"4\",\"4\",\"7\",\"6\",\"9\",\"1\",\"10\",\"0\",\"0\",\"0\",\"1\",\"100\",\"0\",\"0\",\"0\",\"46300\",\"27364\",\"10100\",\"34500\",\"\",\"\",\"\",\"\",\"\",\"\",\"\",\"\",\"\",\"\",\"\",\"N\",\"\",\"\",\"\",\"\",\"\",\"\",\"\",\"\",\"\",\"\",\"\",\"\",\"\",\"\",\"N\",\"\",\"\",\"\",\"\",\"\",\"\"\n",
            "\"\",\"\",\"10000\",\"10000\",\"10000\",\" 36 months\",\" 16.14%\",\"352.27\",\"C\",\"C4\",\"Training Manager\",\"10+ years\",\"MORTGAGE\",\"94800\",\"Source Verified\",\"Dec-2018\",\"Current\",\"n\",\"\",\"\",\"credit_card\",\"Credit card refinancing\",\"325xx\",\"FL\",\"28.59\",\"0\",\"Jan-2009\",\"1\",\"\",\"\",\"18\",\"0\",\"49976\",\"65.8%\",\"37\",\"w\",\"6928.87\",\"6928.87\",\"4566.06\",\"4566.06\",\"3071.13\",\"1494.93\",\"0.0\",\"0.0\",\"0.0\",\"Feb-2020\",\"0.0\",\"Mar-2020\",\"Jan-2020\",\"0\",\"\",\"1\",\"Individual\",\"\",\"\",\"\",\"0\",\"0\",\"361716\",\"1\",\"6\",\"2\",\"4\",\"6\",\"45778\",\"64\",\"0\",\"1\",\"8297\",\"65\",\"75900\",\"1\",\"15\",\"4\",\"6\",\"20095\",\"12249\",\"49.2\",\"0\",\"0\",\"107\",\"119\",\"15\",\"6\",\"4\",\"36\",\"\",\"0\",\"\",\"0\",\"2\",\"8\",\"3\",\"7\",\"16\",\"11\",\"17\",\"8\",\"18\",\"0\",\"0\",\"0\",\"3\",\"100\",\"33.3\",\"0\",\"0\",\"415969\",\"95754\",\"24100\",\"71489\",\"\",\"\",\"\",\"\",\"\",\"\",\"\",\"\",\"\",\"\",\"\",\"N\",\"\",\"\",\"\",\"\",\"\",\"\",\"\",\"\",\"\",\"\",\"\",\"\",\"\",\"\",\"N\",\"\",\"\",\"\",\"\",\"\",\"\"\n",
            "\"\",\"\",\"25000\",\"25000\",\"25000\",\" 60 months\",\" 12.98%\",\"568.58\",\"B\",\"B5\",\"Tire builder\",\"10+ years\",\"MORTGAGE\",\"85000\",\"Not Verified\",\"Dec-2018\",\"Current\",\"n\",\"\",\"\",\"debt_consolidation\",\"Debt consolidation\",\"356xx\",\"AL\",\"36.67\",\"1\",\"Oct-1993\",\"1\",\"10\",\"\",\"14\",\"0\",\"26630\",\"53.3%\",\"27\",\"w\",\"20862.06\",\"20862.06\",\"7364.5\",\"7364.50\",\"4137.94\",\"3226.56\",\"0.0\",\"0.0\",\"0.0\",\"Feb-2020\",\"0.0\",\"Mar-2020\",\"Jan-2020\",\"0\",\"40\",\"1\",\"Joint App\",\"140000\",\"23.08\",\"Not Verified\",\"0\",\"56\",\"206980\",\"1\",\"7\",\"1\",\"3\",\"3\",\"69513\",\"81\",\"1\",\"1\",\"17292\",\"68\",\"50000\",\"1\",\"3\",\"1\",\"4\",\"14784\",\"18581\",\"57.7\",\"0\",\"0\",\"186\",\"185\",\"9\",\"3\",\"4\",\"9\",\"10\",\"3\",\"10\",\"1\",\"4\",\"5\",\"4\",\"5\",\"13\",\"6\",\"10\",\"5\",\"14\",\"0\",\"0\",\"0\",\"2\",\"85.2\",\"0\",\"0\",\"0\",\"275691\",\"96143\",\"43900\",\"99691\",\"48711\",\"Oct-1993\",\"1\",\"4\",\"16\",\"56.5\",\"8\",\"12\",\"0\",\"0\",\"49\",\"N\",\"\",\"\",\"\",\"\",\"\",\"\",\"\",\"\",\"\",\"\",\"\",\"\",\"\",\"\",\"N\",\"\",\"\",\"\",\"\",\"\",\"\"\n",
            "\"\",\"\",\"3000\",\"3000\",\"3000\",\" 36 months\",\" 10.33%\",\"97.27\",\"B\",\"B1\",\"Driver\",\"7 years\",\"RENT\",\"40000\",\"Source Verified\",\"Dec-2018\",\"Current\",\"n\",\"\",\"\",\"credit_card\",\"Credit card refinancing\",\"493xx\",\"MI\",\"10.68\",\"0\",\"Oct-2014\",\"1\",\"\",\"67\",\"3\",\"1\",\"3092\",\"44.2%\",\"5\",\"w\",\"1721.70\",\"1721.70\",\"1561.93\",\"1561.93\",\"1278.30\",\"283.63\",\"0.0\",\"0.0\",\"0.0\",\"Feb-2020\",\"0.0\",\"Mar-2020\",\"Jan-2020\",\"0\",\"\",\"1\",\"Individual\",\"\",\"\",\"\",\"0\",\"0\",\"12563\",\"2\",\"1\",\"2\",\"3\",\"4\",\"9471\",\"95\",\"0\",\"0\",\"3049\",\"74\",\"7000\",\"4\",\"2\",\"2\",\"3\",\"4188\",\"3908\",\"44.2\",\"0\",\"0\",\"13\",\"50\",\"46\",\"4\",\"0\",\"46\",\"\",\"0\",\"\",\"0\",\"2\",\"2\",\"2\",\"2\",\"3\",\"2\",\"2\",\"2\",\"3\",\"0\",\"0\",\"0\",\"2\",\"100\",\"0\",\"1\",\"0\",\"17000\",\"12563\",\"7000\",\"10000\",\"\",\"\",\"\",\"\",\"\",\"\",\"\",\"\",\"\",\"\",\"\",\"N\",\"\",\"\",\"\",\"\",\"\",\"\",\"\",\"\",\"\",\"\",\"\",\"\",\"\",\"\",\"N\",\"\",\"\",\"\",\"\",\"\",\"\"\n"
          ],
          "name": "stdout"
        }
      ]
    },
    {
      "cell_type": "code",
      "metadata": {
        "id": "SDq_uRX0f8uN",
        "colab_type": "code",
        "outputId": "435c29fa-0af9-4e88-f5d3-a27d1d1d08a3",
        "colab": {
          "base_uri": "https://localhost:8080/",
          "height": 71
        }
      },
      "source": [
        "import pandas as pd\n",
        "import numpy as np\n",
        "\n",
        "df = pd.read_csv('LoanStats_2018Q4.csv', header=0, skiprows=1, skipfooter=2)\n"
      ],
      "execution_count": 0,
      "outputs": [
        {
          "output_type": "stream",
          "text": [
            "/usr/local/lib/python3.6/dist-packages/ipykernel_launcher.py:4: ParserWarning: Falling back to the 'python' engine because the 'c' engine does not support skipfooter; you can avoid this warning by specifying engine='python'.\n",
            "  after removing the cwd from sys.path.\n"
          ],
          "name": "stderr"
        }
      ]
    },
    {
      "cell_type": "code",
      "metadata": {
        "id": "KvnX_mDZqQgz",
        "colab_type": "code",
        "outputId": "a576c8bd-3e3e-4e49-93d3-26d26ad25187",
        "colab": {
          "base_uri": "https://localhost:8080/",
          "height": 221
        }
      },
      "source": [
        "df['term'] = df['term'].str.replace('months', '').astype(int)\n",
        "\n",
        "print(df['term'])"
      ],
      "execution_count": 0,
      "outputs": [
        {
          "output_type": "stream",
          "text": [
            "0         60\n",
            "1         36\n",
            "2         36\n",
            "3         60\n",
            "4         60\n",
            "          ..\n",
            "128279    36\n",
            "128280    36\n",
            "128281    36\n",
            "128282    36\n",
            "128283    36\n",
            "Name: term, Length: 128284, dtype: int64\n"
          ],
          "name": "stdout"
        }
      ]
    },
    {
      "cell_type": "code",
      "metadata": {
        "id": "Jz2o5KU3tYSz",
        "colab_type": "code",
        "outputId": "63ddef28-746d-4773-ef09-8111d1180539",
        "colab": {
          "base_uri": "https://localhost:8080/",
          "height": 221
        }
      },
      "source": [
        "#def loan_is_greater(status):\n",
        "  #if status == 'Fully Paid' or status == 'Current':\n",
        "    #return 1\n",
        "  #else:\n",
        "    #return 0\n",
        "#df['loan_status_is_great'] = df['loan_status'].apply(loan_is_greater)\n",
        "\n",
        "df['loan_status_is_great'] = np.where((df['loan_status'] == 'Current') | (df['loan_status'] == 'Fully Paid'), 1, 0)\n",
        "\n",
        "print(df['loan_status_is_great'])"
      ],
      "execution_count": 0,
      "outputs": [
        {
          "output_type": "stream",
          "text": [
            "0         1\n",
            "1         1\n",
            "2         1\n",
            "3         0\n",
            "4         1\n",
            "         ..\n",
            "128279    0\n",
            "128280    1\n",
            "128281    1\n",
            "128282    1\n",
            "128283    1\n",
            "Name: loan_status_is_great, Length: 128284, dtype: int64\n"
          ],
          "name": "stdout"
        }
      ]
    },
    {
      "cell_type": "code",
      "metadata": {
        "id": "qCJX5vVRrE6e",
        "colab_type": "code",
        "outputId": "5d68071f-8056-423e-efe4-af373633837c",
        "colab": {
          "base_uri": "https://localhost:8080/",
          "height": 425
        }
      },
      "source": [
        "l = df['last_pymnt_d'].str.split('-', expand=True)\n",
        "df['last_pymnt_d_month'], df['last_pymnt_d_year'] = l[0], l[1]\n",
        "\n",
        "print(df['last_pymnt_d_month'])\n",
        "print(df['last_pymnt_d_year'])"
      ],
      "execution_count": 0,
      "outputs": [
        {
          "output_type": "stream",
          "text": [
            "0         May\n",
            "1         Feb\n",
            "2         Feb\n",
            "3         Oct\n",
            "4         Feb\n",
            "         ... \n",
            "128279    Dec\n",
            "128280    Feb\n",
            "128281    Feb\n",
            "128282    Feb\n",
            "128283    Feb\n",
            "Name: last_pymnt_d_month, Length: 128284, dtype: object\n",
            "0         2019\n",
            "1         2020\n",
            "2         2019\n",
            "3         2019\n",
            "4         2020\n",
            "          ... \n",
            "128279    2018\n",
            "128280    2020\n",
            "128281    2020\n",
            "128282    2020\n",
            "128283    2020\n",
            "Name: last_pymnt_d_year, Length: 128284, dtype: object\n"
          ],
          "name": "stdout"
        }
      ]
    },
    {
      "cell_type": "markdown",
      "metadata": {
        "colab_type": "text",
        "id": "L8k0LiHmo5EU"
      },
      "source": [
        "# Stretch Goals\n",
        "\n",
        "You can do more with the LendingClub or Instacart datasets.\n",
        "\n",
        "LendingClub options:\n",
        "- There's one other column in the dataframe with percent signs. Remove them and convert to floats. You'll need to handle missing values.\n",
        "- Modify the `emp_title` column to replace titles with 'Other' if the title is not in the top 20. \n",
        "- Take initiatve and work on your own ideas!\n",
        "\n",
        "Instacart options:\n",
        "- Read [Instacart Market Basket Analysis, Winner's Interview: 2nd place, Kazuki Onodera](http://blog.kaggle.com/2017/09/21/instacart-market-basket-analysis-winners-interview-2nd-place-kazuki-onodera/), especially the **Feature Engineering** section. (Can you choose one feature from his bulleted lists, and try to engineer it with pandas code?)\n",
        "- Read and replicate parts of [Simple Exploration Notebook - Instacart](https://www.kaggle.com/sudalairajkumar/simple-exploration-notebook-instacart). (It's the Python Notebook with the most upvotes for this Kaggle competition.)\n",
        "- Take initiative and work on your own ideas!"
      ]
    },
    {
      "cell_type": "markdown",
      "metadata": {
        "colab_type": "text",
        "id": "0_7PXF7lpEXg"
      },
      "source": [
        "You can uncomment and run the cells below to re-download and extract the Instacart data"
      ]
    },
    {
      "cell_type": "code",
      "metadata": {
        "id": "urIePNa0yNG6",
        "colab_type": "code",
        "colab": {}
      },
      "source": [
        "# !wget https://s3.amazonaws.com/instacart-datasets/instacart_online_grocery_shopping_2017_05_01.tar.gz"
      ],
      "execution_count": 0,
      "outputs": []
    },
    {
      "cell_type": "code",
      "metadata": {
        "id": "X9zEyu-uyNG8",
        "colab_type": "code",
        "colab": {}
      },
      "source": [
        "# !tar --gunzip --extract --verbose --file=instacart_online_grocery_shopping_2017_05_01.tar.gz"
      ],
      "execution_count": 0,
      "outputs": []
    },
    {
      "cell_type": "code",
      "metadata": {
        "id": "Y3IqrhlpyNG-",
        "colab_type": "code",
        "colab": {}
      },
      "source": [
        "# %cd instacart_2017_05_01"
      ],
      "execution_count": 0,
      "outputs": []
    }
  ]
}