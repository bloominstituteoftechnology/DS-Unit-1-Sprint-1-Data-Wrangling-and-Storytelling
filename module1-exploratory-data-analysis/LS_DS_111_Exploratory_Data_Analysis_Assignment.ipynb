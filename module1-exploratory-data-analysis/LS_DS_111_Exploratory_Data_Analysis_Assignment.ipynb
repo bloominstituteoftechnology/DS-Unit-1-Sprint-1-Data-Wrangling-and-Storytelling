{
 "cells": [
  {
   "cell_type": "code",
   "execution_count": 2,
   "metadata": {},
   "outputs": [],
   "source": [
    "import pandas as pd"
   ]
  },
  {
   "cell_type": "markdown",
   "metadata": {
    "colab_type": "text",
    "id": "MSnsTgZLKO72"
   },
   "source": [
    "# Practice Loading and Exploring Datasets\n",
    "\n",
    "This assignment is purposely open-ended. You will be asked to load datasets from the [UC-Irvine Machine Learning Repository](https://archive.ics.uci.edu/ml/index.php). \n",
    "\n",
    "Even though you maybe using different datasets than your fellow classmates, try and be supportive and assist each other in the challenges that you are facing. You will only deepend your understanding of these topics as you work to assist one another. Many popular UCI datasets face similar data loading challenges.\n",
    "\n",
    "Remember that the UCI datasets do not necessarily have a file type of `.csv` so it's important that you learn as much as you can about the dataset before you try and load it. See if you can look at the raw text of the file either locally or using the `!curl` shell command -or in some other way before you try and read it in as a dataframe. This will help you catch what would otherwise be unforseen problems.\n",
    "\n",
    "Feel free to embellish this notebook with additional markdown cells,code cells, comments, graphs, etc. Whatever you think helps adequately address the questions."
   ]
  },
  {
   "cell_type": "markdown",
   "metadata": {
    "colab_type": "text",
    "id": "156P6ndeKojO"
   },
   "source": [
    "## 1) Load a dataset from UCI (via its URL)\n",
    "\n",
    "Please navigate to the home page and choose a dataset (other than the Adult dataset) from the \"Most Popular\" section on the right-hand side of the home page. Load the dataset via its URL and check the following (show your work):\n",
    "\n",
    "- Are the headers showing up properly?\n",
    "- Look at the first 5 and the last 5 rows, do they seem to be in order?\n",
    "- Does the dataset have the correct number of rows and columns as described in the UCI page? \n",
    " - Remember, that UCI does not count the y variable (column of values that we might want to predict via a machine learning model) as an \"attribute\" but rather as a \"class attribute\" so you may end up seeing a number of columns that is one greater than the number listed on the UCI website.\n",
    "- Does UCI list this dataset as having missing values? Check for missing values and see if your analysis corroborates what UCI reports?\n",
    "- if `NaN` values or other missing value indicators are not being detected by `df.isnull().sum()` find a way to replace whatever is indicating the missing values with `np.NaN`.\n",
    "- Use the .describe() function in order to see the summary statistics of both the numeric and non-numeric columns. "
   ]
  },
  {
   "cell_type": "code",
   "execution_count": 8,
   "metadata": {
    "colab": {},
    "colab_type": "code",
    "id": "NJdISe69ZT7E"
   },
   "outputs": [],
   "source": [
    "df = pd.read_csv('https://archive.ics.uci.edu/ml/machine-learning-databases/poker/poker-hand-testing.data', header=None)"
   ]
  },
  {
   "cell_type": "code",
   "execution_count": 9,
   "metadata": {},
   "outputs": [],
   "source": [
    "map1 = {**{1: 'A'}, **{i: str(i) for i in range(2, 11)}, **{11: 'J', 12: 'Q', 13: 'K'}}\n",
    "map2 = {1: '♥', 2: '♠', 3: '♦', 4: '♣'}\n",
    "for i in range(1, 10, 2):\n",
    "    df.update(df[i].replace(map1))\n",
    "for i in range(0, 9, 2):\n",
    "    df.update(df[i].replace(map2))"
   ]
  },
  {
   "cell_type": "code",
   "execution_count": 10,
   "metadata": {},
   "outputs": [
    {
     "data": {
      "text/html": [
       "<div>\n",
       "<style scoped>\n",
       "    .dataframe tbody tr th:only-of-type {\n",
       "        vertical-align: middle;\n",
       "    }\n",
       "\n",
       "    .dataframe tbody tr th {\n",
       "        vertical-align: top;\n",
       "    }\n",
       "\n",
       "    .dataframe thead th {\n",
       "        text-align: right;\n",
       "    }\n",
       "</style>\n",
       "<table border=\"1\" class=\"dataframe\">\n",
       "  <thead>\n",
       "    <tr style=\"text-align: right;\">\n",
       "      <th></th>\n",
       "      <th>0</th>\n",
       "      <th>1</th>\n",
       "      <th>2</th>\n",
       "      <th>3</th>\n",
       "      <th>4</th>\n",
       "      <th>5</th>\n",
       "      <th>6</th>\n",
       "      <th>7</th>\n",
       "      <th>8</th>\n",
       "      <th>9</th>\n",
       "      <th>10</th>\n",
       "    </tr>\n",
       "  </thead>\n",
       "  <tbody>\n",
       "    <tr>\n",
       "      <td>0</td>\n",
       "      <td>♥</td>\n",
       "      <td>A</td>\n",
       "      <td>♥</td>\n",
       "      <td>K</td>\n",
       "      <td>♠</td>\n",
       "      <td>4</td>\n",
       "      <td>♠</td>\n",
       "      <td>3</td>\n",
       "      <td>♥</td>\n",
       "      <td>Q</td>\n",
       "      <td>0</td>\n",
       "    </tr>\n",
       "    <tr>\n",
       "      <td>1</td>\n",
       "      <td>♦</td>\n",
       "      <td>Q</td>\n",
       "      <td>♦</td>\n",
       "      <td>2</td>\n",
       "      <td>♦</td>\n",
       "      <td>J</td>\n",
       "      <td>♣</td>\n",
       "      <td>5</td>\n",
       "      <td>♠</td>\n",
       "      <td>5</td>\n",
       "      <td>1</td>\n",
       "    </tr>\n",
       "    <tr>\n",
       "      <td>2</td>\n",
       "      <td>♥</td>\n",
       "      <td>9</td>\n",
       "      <td>♣</td>\n",
       "      <td>6</td>\n",
       "      <td>♥</td>\n",
       "      <td>4</td>\n",
       "      <td>♦</td>\n",
       "      <td>2</td>\n",
       "      <td>♦</td>\n",
       "      <td>9</td>\n",
       "      <td>1</td>\n",
       "    </tr>\n",
       "    <tr>\n",
       "      <td>3</td>\n",
       "      <td>♥</td>\n",
       "      <td>4</td>\n",
       "      <td>♦</td>\n",
       "      <td>K</td>\n",
       "      <td>♠</td>\n",
       "      <td>K</td>\n",
       "      <td>♠</td>\n",
       "      <td>A</td>\n",
       "      <td>♦</td>\n",
       "      <td>6</td>\n",
       "      <td>1</td>\n",
       "    </tr>\n",
       "    <tr>\n",
       "      <td>4</td>\n",
       "      <td>♦</td>\n",
       "      <td>10</td>\n",
       "      <td>♠</td>\n",
       "      <td>7</td>\n",
       "      <td>♥</td>\n",
       "      <td>2</td>\n",
       "      <td>♠</td>\n",
       "      <td>J</td>\n",
       "      <td>♣</td>\n",
       "      <td>9</td>\n",
       "      <td>0</td>\n",
       "    </tr>\n",
       "    <tr>\n",
       "      <td>5</td>\n",
       "      <td>♥</td>\n",
       "      <td>3</td>\n",
       "      <td>♣</td>\n",
       "      <td>5</td>\n",
       "      <td>♦</td>\n",
       "      <td>4</td>\n",
       "      <td>♥</td>\n",
       "      <td>Q</td>\n",
       "      <td>♣</td>\n",
       "      <td>6</td>\n",
       "      <td>0</td>\n",
       "    </tr>\n",
       "    <tr>\n",
       "      <td>6</td>\n",
       "      <td>♠</td>\n",
       "      <td>6</td>\n",
       "      <td>♣</td>\n",
       "      <td>J</td>\n",
       "      <td>♠</td>\n",
       "      <td>3</td>\n",
       "      <td>♣</td>\n",
       "      <td>9</td>\n",
       "      <td>♥</td>\n",
       "      <td>7</td>\n",
       "      <td>0</td>\n",
       "    </tr>\n",
       "    <tr>\n",
       "      <td>7</td>\n",
       "      <td>♦</td>\n",
       "      <td>2</td>\n",
       "      <td>♣</td>\n",
       "      <td>9</td>\n",
       "      <td>♦</td>\n",
       "      <td>7</td>\n",
       "      <td>♣</td>\n",
       "      <td>3</td>\n",
       "      <td>♣</td>\n",
       "      <td>5</td>\n",
       "      <td>0</td>\n",
       "    </tr>\n",
       "    <tr>\n",
       "      <td>8</td>\n",
       "      <td>♣</td>\n",
       "      <td>4</td>\n",
       "      <td>♦</td>\n",
       "      <td>K</td>\n",
       "      <td>♥</td>\n",
       "      <td>8</td>\n",
       "      <td>♦</td>\n",
       "      <td>9</td>\n",
       "      <td>♦</td>\n",
       "      <td>10</td>\n",
       "      <td>0</td>\n",
       "    </tr>\n",
       "    <tr>\n",
       "      <td>9</td>\n",
       "      <td>♥</td>\n",
       "      <td>9</td>\n",
       "      <td>♦</td>\n",
       "      <td>8</td>\n",
       "      <td>♣</td>\n",
       "      <td>4</td>\n",
       "      <td>♥</td>\n",
       "      <td>7</td>\n",
       "      <td>♦</td>\n",
       "      <td>5</td>\n",
       "      <td>0</td>\n",
       "    </tr>\n",
       "  </tbody>\n",
       "</table>\n",
       "</div>"
      ],
      "text/plain": [
       "  0   1  2  3  4  5  6  7  8   9   10\n",
       "0  ♥   A  ♥  K  ♠  4  ♠  3  ♥   Q   0\n",
       "1  ♦   Q  ♦  2  ♦  J  ♣  5  ♠   5   1\n",
       "2  ♥   9  ♣  6  ♥  4  ♦  2  ♦   9   1\n",
       "3  ♥   4  ♦  K  ♠  K  ♠  A  ♦   6   1\n",
       "4  ♦  10  ♠  7  ♥  2  ♠  J  ♣   9   0\n",
       "5  ♥   3  ♣  5  ♦  4  ♥  Q  ♣   6   0\n",
       "6  ♠   6  ♣  J  ♠  3  ♣  9  ♥   7   0\n",
       "7  ♦   2  ♣  9  ♦  7  ♣  3  ♣   5   0\n",
       "8  ♣   4  ♦  K  ♥  8  ♦  9  ♦  10   0\n",
       "9  ♥   9  ♦  8  ♣  4  ♥  7  ♦   5   0"
      ]
     },
     "execution_count": 10,
     "metadata": {},
     "output_type": "execute_result"
    }
   ],
   "source": [
    "df.head(10)"
   ]
  },
  {
   "cell_type": "markdown",
   "metadata": {
    "colab_type": "text",
    "id": "-gFnZR6iLLPY"
   },
   "source": [
    "## 2) Load a dataset from your local machine.\n",
    "Choose a second dataset from the \"Popular Datasets\" listing on UCI, but this time download it to your local machine instead of reading it in via the URL. Upload the file to Google Colab using the files tab in the left-hand sidebar or by importing `files` from `google.colab` The following link will be a useful resource if you can't remember the syntax: <https://towardsdatascience.com/3-ways-to-load-csv-files-into-colab-7c14fcbdcb92>\n",
    "\n",
    "- Answer all of the same bullet point questions from part 1 again on this new dataset. \n"
   ]
  },
  {
   "cell_type": "code",
   "execution_count": 11,
   "metadata": {
    "colab": {},
    "colab_type": "code",
    "id": "qUmwX-ZoM9cq"
   },
   "outputs": [
    {
     "ename": "ModuleNotFoundError",
     "evalue": "No module named 'google'",
     "output_type": "error",
     "traceback": [
      "\u001b[1;31m---------------------------------------------------------------------------\u001b[0m",
      "\u001b[1;31mModuleNotFoundError\u001b[0m                       Traceback (most recent call last)",
      "\u001b[1;32m<ipython-input-11-21dc3c638f66>\u001b[0m in \u001b[0;36m<module>\u001b[1;34m\u001b[0m\n\u001b[1;32m----> 1\u001b[1;33m \u001b[1;32mfrom\u001b[0m \u001b[0mgoogle\u001b[0m\u001b[1;33m.\u001b[0m\u001b[0mcolab\u001b[0m \u001b[1;32mimport\u001b[0m \u001b[0mfiles\u001b[0m\u001b[1;33m\u001b[0m\u001b[1;33m\u001b[0m\u001b[0m\n\u001b[0m\u001b[0;32m      2\u001b[0m \u001b[0muploaded\u001b[0m \u001b[1;33m=\u001b[0m \u001b[0mfiles\u001b[0m\u001b[1;33m.\u001b[0m\u001b[0mupload\u001b[0m\u001b[1;33m(\u001b[0m\u001b[1;33m)\u001b[0m\u001b[1;33m\u001b[0m\u001b[1;33m\u001b[0m\u001b[0m\n",
      "\u001b[1;31mModuleNotFoundError\u001b[0m: No module named 'google'"
     ]
    }
   ],
   "source": [
    "from google.colab import files\n",
    "uploaded = files.upload()"
   ]
  },
  {
   "cell_type": "markdown",
   "metadata": {
    "colab_type": "text",
    "id": "mq_aQjxlM-u5"
   },
   "source": [
    "## 3) Make Crosstabs of the Categorical Variables\n",
    "\n",
    "Take whichever of the above datasets has more categorical variables and use crosstabs to tabulate the different instances of the categorical variables.\n"
   ]
  },
  {
   "cell_type": "code",
   "execution_count": null,
   "metadata": {
    "colab": {},
    "colab_type": "code",
    "id": "9-n9-LTM-18p"
   },
   "outputs": [],
   "source": [
    "# Your Code Here"
   ]
  },
  {
   "cell_type": "markdown",
   "metadata": {
    "colab_type": "text",
    "id": "OJ4t2IAk-6Vg"
   },
   "source": [
    "## 4) Explore the distributions of the variables of the dataset using:\n",
    "- Histograms\n",
    "- Scatterplots\n",
    "- Density Plots"
   ]
  },
  {
   "cell_type": "code",
   "execution_count": null,
   "metadata": {
    "colab": {},
    "colab_type": "code",
    "id": "DhES5WmH_NFt"
   },
   "outputs": [],
   "source": [
    "# Your Code Here"
   ]
  },
  {
   "cell_type": "markdown",
   "metadata": {
    "colab_type": "text",
    "id": "LXXTzpgp_N0q"
   },
   "source": [
    "## 5) Create at least one visualization from a crosstab:\n",
    "\n",
    "Remember that a crosstab is just a dataframe and can be manipulated in the same way by row index, column, index, or column/row/cell position.\n"
   ]
  },
  {
   "cell_type": "code",
   "execution_count": null,
   "metadata": {
    "colab": {},
    "colab_type": "code",
    "id": "kBQKXHUa_VxM"
   },
   "outputs": [],
   "source": [
    "# Your Code Here"
   ]
  },
  {
   "cell_type": "markdown",
   "metadata": {
    "colab_type": "text",
    "id": "MZCxTwKuReV9"
   },
   "source": [
    "## Stretch Goals \n",
    "\n",
    "The following additional study tasks are optional, they are intended to give you an opportunity to stretch yourself beyond the main requirements of the assignment. You can pick and choose from the below, you do not need to complete them in any particular order.\n",
    "\n",
    "### - Practice Exploring other Datasets\n",
    "\n",
    "### -  Try using the Seaborn plotting library's \"Pairplot\" functionality in order to explore all of the possible histograms and scatterplots of your dataset all at once:\n",
    "\n",
    "[Seaborn Pairplot](https://seaborn.pydata.org/generated/seaborn.pairplot.html)\n",
    "\n",
    "### - Turn some of the continuous variables into categorical variables by binning the values using:\n",
    "- [pd.cut()](https://pandas.pydata.org/pandas-docs/version/0.23.4/generated/pandas.cut.html)\n",
    "- [pd.qcut()](https://pandas.pydata.org/pandas-docs/stable/reference/api/pandas.qcut.html)\n",
    "- <https://stackoverflow.com/questions/30211923/what-is-the-difference-between-pandas-qcut-and-pandas-cut>\n",
    "\n",
    "And then use crosstabs to compare/visualize these binned variables against the other variables.\n",
    "\n",
    "\n",
    "### - Other types and sources of data\n",
    "Not all data comes in a nice single file - for example, image classification involves handling lots of image files. You still will probably want labels for them, so you may have tabular data in addition to the image blobs - and the images may be reduced in resolution and even fit in a regular csv as a bunch of numbers.\n",
    "\n",
    "If you're interested in natural language processing and analyzing text, that is another example where, while it can be put in a csv, you may end up loading much larger raw data and generating features that can then be thought of in a more standard tabular fashion.\n",
    "\n",
    "Overall you will in the course of learning data science deal with loading data in a variety of ways. Another common way to get data is from a database - most modern applications are backed by one or more databases, which you can query to get data to analyze. We'll cover this more in our data engineering unit.\n",
    "\n",
    "How does data get in the database? Most applications generate logs - text files with lots and lots of records of each use of the application. Databases are often populated based on these files, but in some situations you may directly analyze log files. The usual way to do this is with command line (Unix) tools - command lines are intimidating, so don't expect to learn them all at once, but depending on your interests it can be useful to practice.\n",
    "\n",
    "One last major source of data is APIs: https://github.com/toddmotto/public-apis\n",
    "\n",
    "API stands for Application Programming Interface, and while originally meant e.g. the way an application interfaced with the GUI or other aspects of an operating system, now it largely refers to online services that let you query and retrieve data. You can essentially think of most of them as \"somebody else's database\" - you have (usually limited) access.\n",
    "\n",
    "*Stretch goal* - research one of the above extended forms of data/data loading. See if you can get a basic example working in a notebook. Image, text, or (public) APIs are probably more tractable - databases are interesting, but there aren't many publicly accessible and they require a great deal of setup."
   ]
  },
  {
   "cell_type": "code",
   "execution_count": null,
   "metadata": {
    "colab": {},
    "colab_type": "code",
    "id": "f4QP6--JBXNK"
   },
   "outputs": [],
   "source": []
  }
 ],
 "metadata": {
  "colab": {
   "collapsed_sections": [],
   "name": "LS_DS_111_Exploratory_Data_Analysis_Assignment.ipynb",
   "provenance": []
  },
  "kernelspec": {
   "display_name": "Python 3",
   "language": "python",
   "name": "python3"
  },
  "language_info": {
   "codemirror_mode": {
    "name": "ipython",
    "version": 3
   },
   "file_extension": ".py",
   "mimetype": "text/x-python",
   "name": "python",
   "nbconvert_exporter": "python",
   "pygments_lexer": "ipython3",
   "version": "3.7.4"
  }
 },
 "nbformat": 4,
 "nbformat_minor": 1
}
