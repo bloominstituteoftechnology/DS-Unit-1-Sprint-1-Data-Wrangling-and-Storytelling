{
  "nbformat": 4,
  "nbformat_minor": 0,
  "metadata": {
    "colab": {
      "name": "LS_DS_111_Exploratory_Data_Analysis_Assignment.ipynb",
      "provenance": [],
      "collapsed_sections": []
    },
    "kernelspec": {
      "name": "python3",
      "display_name": "Python 3"
    }
  },
  "cells": [
    {
      "cell_type": "markdown",
      "metadata": {
        "colab_type": "text",
        "id": "MSnsTgZLKO72"
      },
      "source": [
        "# Practice Loading and Exploring Datasets\n",
        "\n",
        "This assignment is purposely open-ended. You will be asked to load datasets from the [UC-Irvine Machine Learning Repository](https://archive.ics.uci.edu/ml/index.php). \n",
        "\n",
        "Even though you maybe using different datasets than your fellow classmates, try and be supportive and assist each other in the challenges that you are facing. You will only deepend your understanding of these topics as you work to assist one another. Many popular UCI datasets face similar data loading challenges.\n",
        "\n",
        "Remember that the UCI datasets do not necessarily have a file type of `.csv` so it's important that you learn as much as you can about the dataset before you try and load it. See if you can look at the raw text of the file either locally or using the `!curl` shell command -or in some other way before you try and read it in as a dataframe. This will help you catch what would otherwise be unforseen problems.\n",
        "\n",
        "Feel free to embellish this notebook with additional markdown cells,code cells, comments, graphs, etc. Whatever you think helps adequately address the questions."
      ]
    },
    {
      "cell_type": "markdown",
      "metadata": {
        "id": "156P6ndeKojO",
        "colab_type": "text"
      },
      "source": [
        "## 1) Load a dataset from UCI (via its URL)\n",
        "\n",
        "Please navigate to the home page and choose a dataset (other than the Adult dataset) from the \"Most Popular\" section on the right-hand side of the home page. Load the dataset via its URL and check the following (show your work):\n",
        "\n",
        "- Are the headers showing up properly?\n",
        "- Look at the first 5 and the last 5 rows, do they seem to be in order?\n",
        "- Does the dataset have the correct number of rows and columns as described in the UCI page? \n",
        " - Remember, that UCI does not count the y variable (column of values that we might want to predict via a machine learning model) as an \"attribute\" but rather as a \"class attribute\" so you may end up seeing a number of columns that is one greater than the number listed on the UCI website.\n",
        "- Does UCI list this dataset as having missing values? Check for missing values and see if your analysis corroborates what UCI reports?\n",
        "- if `NaN` values or other missing value indicators are not being detected by `df.isnull().sum()` find a way to replace whatever is indicating the missing values with `np.NaN`.\n",
        "- Use the .describe() function in order to see the summary statistics of both the numeric and non-numeric columns. "
      ]
    },
    {
      "cell_type": "code",
      "metadata": {
        "id": "NJdISe69ZT7E",
        "colab_type": "code",
        "colab": {}
      },
      "source": [
        "import pandas as pd\n",
        "import requests\n",
        "import numpy as np\n",
        "import re"
      ],
      "execution_count": 0,
      "outputs": []
    },
    {
      "cell_type": "code",
      "metadata": {
        "id": "uR_TYTxHCx6i",
        "colab_type": "code",
        "colab": {}
      },
      "source": [
        "# Loading in Relative CPU Performance Data from the UCI Repository\n",
        "df = pd.read_csv('https://archive.ics.uci.edu/ml/machine-learning-databases/cpu-performance/machine.data', header=None)"
      ],
      "execution_count": 0,
      "outputs": []
    },
    {
      "cell_type": "code",
      "metadata": {
        "id": "_2e4J97xCx_p",
        "colab_type": "code",
        "colab": {
          "base_uri": "https://localhost:8080/",
          "height": 33
        },
        "outputId": "ed4fc095-6c79-4f5d-8f79-5ee69d4d178c"
      },
      "source": [
        "# Checking the shape of the dataset to make sure it is the same as what is stated on the UCI Repository.\n",
        "df.shape\n",
        "# After running 'df.shape' I notiticed that the number of Instances was -1 from original and the Attributes had 1+.\n",
        "# Which meant one of the Instances was being used as a header\n",
        "# To fix the header I used \"pd.read_csv(url, header=None)\" to get the dateset with the correct amount of Instances.\n",
        "# The one extra Attribute is due to the index numbers, which I will not get rid of because it will help with indexing."
      ],
      "execution_count": 3,
      "outputs": [
        {
          "output_type": "execute_result",
          "data": {
            "text/plain": [
              "(209, 10)"
            ]
          },
          "metadata": {
            "tags": []
          },
          "execution_count": 3
        }
      ]
    },
    {
      "cell_type": "code",
      "metadata": {
        "id": "bcqBPqVZCyK8",
        "colab_type": "code",
        "colab": {
          "base_uri": "https://localhost:8080/",
          "height": 1000
        },
        "outputId": "ce0d0c9d-af64-4a9c-dce7-9af6370db173"
      },
      "source": [
        "# So to fix the dataset I loaded the Attribute Info about the dataset from the UCI Repository to see if \n",
        "names = requests.get('https://archive.ics.uci.edu/ml/machine-learning-databases/cpu-performance/machine.names')\n",
        "print(names.text)"
      ],
      "execution_count": 4,
      "outputs": [
        {
          "output_type": "stream",
          "text": [
            "1. Title: Relative CPU Performance Data \n",
            "\n",
            "2. Source Information\n",
            "   -- Creators: Phillip Ein-Dor and Jacob Feldmesser\n",
            "     -- Ein-Dor: Faculty of Management; Tel Aviv University; Ramat-Aviv; \n",
            "        Tel Aviv, 69978; Israel\n",
            "   -- Donor: David W. Aha (aha@ics.uci.edu) (714) 856-8779   \n",
            "   -- Date: October, 1987\n",
            " \n",
            "3. Past Usage:\n",
            "    1. Ein-Dor and Feldmesser (CACM 4/87, pp 308-317)\n",
            "       -- Results: \n",
            "          -- linear regression prediction of relative cpu performance\n",
            "          -- Recorded 34% average deviation from actual values \n",
            "    2. Kibler,D. & Aha,D. (1988).  Instance-Based Prediction of\n",
            "       Real-Valued Attributes.  In Proceedings of the CSCSI (Canadian\n",
            "       AI) Conference.\n",
            "       -- Results:\n",
            "          -- instance-based prediction of relative cpu performance\n",
            "          -- similar results; no transformations required\n",
            "    - Predicted attribute: cpu relative performance (numeric)\n",
            "\n",
            "4. Relevant Information:\n",
            "   -- The estimated relative performance values were estimated by the authors\n",
            "      using a linear regression method.  See their article (pp 308-313) for\n",
            "      more details on how the relative performance values were set.\n",
            "\n",
            "5. Number of Instances: 209 \n",
            "\n",
            "6. Number of Attributes: 10 (6 predictive attributes, 2 non-predictive, \n",
            "                             1 goal field, and the linear regression's guess)\n",
            "\n",
            "7. Attribute Information:\n",
            "   1. vendor name: 30 \n",
            "      (adviser, amdahl,apollo, basf, bti, burroughs, c.r.d, cambex, cdc, dec, \n",
            "       dg, formation, four-phase, gould, honeywell, hp, ibm, ipl, magnuson, \n",
            "       microdata, nas, ncr, nixdorf, perkin-elmer, prime, siemens, sperry, \n",
            "       sratus, wang)\n",
            "   2. Model Name: many unique symbols\n",
            "   3. MYCT: machine cycle time in nanoseconds (integer)\n",
            "   4. MMIN: minimum main memory in kilobytes (integer)\n",
            "   5. MMAX: maximum main memory in kilobytes (integer)\n",
            "   6. CACH: cache memory in kilobytes (integer)\n",
            "   7. CHMIN: minimum channels in units (integer)\n",
            "   8. CHMAX: maximum channels in units (integer)\n",
            "   9. PRP: published relative performance (integer)\n",
            "  10. ERP: estimated relative performance from the original article (integer)\n",
            "\n",
            "8. Missing Attribute Values: None\n",
            "\n",
            "9. Class Distribution: the class value (PRP) is continuously valued.\n",
            "   PRP Value Range:   Number of Instances in Range:\n",
            "   0-20               31\n",
            "   21-100             121\n",
            "   101-200            27\n",
            "   201-300            13\n",
            "   301-400            7\n",
            "   401-500            4\n",
            "   501-600            2\n",
            "   above 600          4\n",
            "\n",
            "Summary Statistics:\n",
            "\t   Min  Max   Mean    SD      PRP Correlation\n",
            "   MCYT:   17   1500  203.8   260.3   -0.3071\n",
            "   MMIN:   64   32000 2868.0  3878.7   0.7949\n",
            "   MMAX:   64   64000 11796.1 11726.6  0.8630\n",
            "   CACH:   0    256   25.2    40.6     0.6626\n",
            "   CHMIN:  0    52    4.7     6.8      0.6089\n",
            "   CHMAX:  0    176   18.2    26.0     0.6052\n",
            "   PRP:    6    1150  105.6   160.8    1.0000\n",
            "   ERP:   15    1238  99.3    154.8    0.9665\n",
            "\n",
            "\n"
          ],
          "name": "stdout"
        }
      ]
    },
    {
      "cell_type": "code",
      "metadata": {
        "id": "q5tmUhrwCyPq",
        "colab_type": "code",
        "colab": {
          "base_uri": "https://localhost:8080/",
          "height": 211
        },
        "outputId": "9863413d-6656-4b83-edcb-cd7938c21cdb"
      },
      "source": [
        "# Useing the \"df.columns\" instance I gave all of my columns names useing the .name file from the UCI Repository\n",
        "# 'https://archive.ics.uci.edu/ml/machine-learning-databases/cpu-performance/machine.names'\n",
        "df.columns = ['Vendor', 'Model', 'MCT/ns', 'MIN_MEM/kb', 'MAX_MEM/kb', 'CACHE_MEM\\kb', 'CHANNEL_MIN', 'CHANNEL_MAX', 'Published_RP', 'Estimated_RP' ]\n",
        "# Now printing the head of the DataFrame to make sure changes took place.\n",
        "df.head()"
      ],
      "execution_count": 5,
      "outputs": [
        {
          "output_type": "execute_result",
          "data": {
            "text/html": [
              "<div>\n",
              "<style scoped>\n",
              "    .dataframe tbody tr th:only-of-type {\n",
              "        vertical-align: middle;\n",
              "    }\n",
              "\n",
              "    .dataframe tbody tr th {\n",
              "        vertical-align: top;\n",
              "    }\n",
              "\n",
              "    .dataframe thead th {\n",
              "        text-align: right;\n",
              "    }\n",
              "</style>\n",
              "<table border=\"1\" class=\"dataframe\">\n",
              "  <thead>\n",
              "    <tr style=\"text-align: right;\">\n",
              "      <th></th>\n",
              "      <th>Vendor</th>\n",
              "      <th>Model</th>\n",
              "      <th>MCT/ns</th>\n",
              "      <th>MIN_MEM/kb</th>\n",
              "      <th>MAX_MEM/kb</th>\n",
              "      <th>CACHE_MEM\\kb</th>\n",
              "      <th>CHANNEL_MIN</th>\n",
              "      <th>CHANNEL_MAX</th>\n",
              "      <th>Published_RP</th>\n",
              "      <th>Estimated_RP</th>\n",
              "    </tr>\n",
              "  </thead>\n",
              "  <tbody>\n",
              "    <tr>\n",
              "      <th>0</th>\n",
              "      <td>adviser</td>\n",
              "      <td>32/60</td>\n",
              "      <td>125</td>\n",
              "      <td>256</td>\n",
              "      <td>6000</td>\n",
              "      <td>256</td>\n",
              "      <td>16</td>\n",
              "      <td>128</td>\n",
              "      <td>198</td>\n",
              "      <td>199</td>\n",
              "    </tr>\n",
              "    <tr>\n",
              "      <th>1</th>\n",
              "      <td>amdahl</td>\n",
              "      <td>470v/7</td>\n",
              "      <td>29</td>\n",
              "      <td>8000</td>\n",
              "      <td>32000</td>\n",
              "      <td>32</td>\n",
              "      <td>8</td>\n",
              "      <td>32</td>\n",
              "      <td>269</td>\n",
              "      <td>253</td>\n",
              "    </tr>\n",
              "    <tr>\n",
              "      <th>2</th>\n",
              "      <td>amdahl</td>\n",
              "      <td>470v/7a</td>\n",
              "      <td>29</td>\n",
              "      <td>8000</td>\n",
              "      <td>32000</td>\n",
              "      <td>32</td>\n",
              "      <td>8</td>\n",
              "      <td>32</td>\n",
              "      <td>220</td>\n",
              "      <td>253</td>\n",
              "    </tr>\n",
              "    <tr>\n",
              "      <th>3</th>\n",
              "      <td>amdahl</td>\n",
              "      <td>470v/7b</td>\n",
              "      <td>29</td>\n",
              "      <td>8000</td>\n",
              "      <td>32000</td>\n",
              "      <td>32</td>\n",
              "      <td>8</td>\n",
              "      <td>32</td>\n",
              "      <td>172</td>\n",
              "      <td>253</td>\n",
              "    </tr>\n",
              "    <tr>\n",
              "      <th>4</th>\n",
              "      <td>amdahl</td>\n",
              "      <td>470v/7c</td>\n",
              "      <td>29</td>\n",
              "      <td>8000</td>\n",
              "      <td>16000</td>\n",
              "      <td>32</td>\n",
              "      <td>8</td>\n",
              "      <td>16</td>\n",
              "      <td>132</td>\n",
              "      <td>132</td>\n",
              "    </tr>\n",
              "  </tbody>\n",
              "</table>\n",
              "</div>"
            ],
            "text/plain": [
              "    Vendor    Model  MCT/ns  ...  CHANNEL_MAX  Published_RP  Estimated_RP\n",
              "0  adviser    32/60     125  ...          128           198           199\n",
              "1   amdahl   470v/7      29  ...           32           269           253\n",
              "2   amdahl  470v/7a      29  ...           32           220           253\n",
              "3   amdahl  470v/7b      29  ...           32           172           253\n",
              "4   amdahl  470v/7c      29  ...           16           132           132\n",
              "\n",
              "[5 rows x 10 columns]"
            ]
          },
          "metadata": {
            "tags": []
          },
          "execution_count": 5
        }
      ]
    },
    {
      "cell_type": "code",
      "metadata": {
        "id": "P60NOpPzCyUc",
        "colab_type": "code",
        "colab": {
          "base_uri": "https://localhost:8080/",
          "height": 196
        },
        "outputId": "80630512-4345-46ab-a12b-cd9f735e96d6"
      },
      "source": [
        "# Now time to check if there are any missing values.\n",
        "df.isnull().sum()\n",
        "# After running this we can see that there are no null values in this DataFrame WOOHOO!!"
      ],
      "execution_count": 6,
      "outputs": [
        {
          "output_type": "execute_result",
          "data": {
            "text/plain": [
              "Vendor          0\n",
              "Model           0\n",
              "MCT/ns          0\n",
              "MIN_MEM/kb      0\n",
              "MAX_MEM/kb      0\n",
              "CACHE_MEM\\kb    0\n",
              "CHANNEL_MIN     0\n",
              "CHANNEL_MAX     0\n",
              "Published_RP    0\n",
              "Estimated_RP    0\n",
              "dtype: int64"
            ]
          },
          "metadata": {
            "tags": []
          },
          "execution_count": 6
        }
      ]
    },
    {
      "cell_type": "code",
      "metadata": {
        "id": "IUra8cA3CyXP",
        "colab_type": "code",
        "colab": {
          "base_uri": "https://localhost:8080/",
          "height": 297
        },
        "outputId": "ac8f8bed-a005-4886-c5f3-7f83c4237836"
      },
      "source": [
        "# Using the \"describe()\" function, I will look at some more in depth info about the DataFrame\n",
        "df.describe()"
      ],
      "execution_count": 7,
      "outputs": [
        {
          "output_type": "execute_result",
          "data": {
            "text/html": [
              "<div>\n",
              "<style scoped>\n",
              "    .dataframe tbody tr th:only-of-type {\n",
              "        vertical-align: middle;\n",
              "    }\n",
              "\n",
              "    .dataframe tbody tr th {\n",
              "        vertical-align: top;\n",
              "    }\n",
              "\n",
              "    .dataframe thead th {\n",
              "        text-align: right;\n",
              "    }\n",
              "</style>\n",
              "<table border=\"1\" class=\"dataframe\">\n",
              "  <thead>\n",
              "    <tr style=\"text-align: right;\">\n",
              "      <th></th>\n",
              "      <th>MCT/ns</th>\n",
              "      <th>MIN_MEM/kb</th>\n",
              "      <th>MAX_MEM/kb</th>\n",
              "      <th>CACHE_MEM\\kb</th>\n",
              "      <th>CHANNEL_MIN</th>\n",
              "      <th>CHANNEL_MAX</th>\n",
              "      <th>Published_RP</th>\n",
              "      <th>Estimated_RP</th>\n",
              "    </tr>\n",
              "  </thead>\n",
              "  <tbody>\n",
              "    <tr>\n",
              "      <th>count</th>\n",
              "      <td>209.000000</td>\n",
              "      <td>209.000000</td>\n",
              "      <td>209.000000</td>\n",
              "      <td>209.000000</td>\n",
              "      <td>209.000000</td>\n",
              "      <td>209.000000</td>\n",
              "      <td>209.000000</td>\n",
              "      <td>209.000000</td>\n",
              "    </tr>\n",
              "    <tr>\n",
              "      <th>mean</th>\n",
              "      <td>203.822967</td>\n",
              "      <td>2867.980861</td>\n",
              "      <td>11796.153110</td>\n",
              "      <td>25.205742</td>\n",
              "      <td>4.698565</td>\n",
              "      <td>18.267943</td>\n",
              "      <td>105.622010</td>\n",
              "      <td>99.330144</td>\n",
              "    </tr>\n",
              "    <tr>\n",
              "      <th>std</th>\n",
              "      <td>260.262926</td>\n",
              "      <td>3878.742758</td>\n",
              "      <td>11726.564377</td>\n",
              "      <td>40.628722</td>\n",
              "      <td>6.816274</td>\n",
              "      <td>25.997318</td>\n",
              "      <td>160.830733</td>\n",
              "      <td>154.757102</td>\n",
              "    </tr>\n",
              "    <tr>\n",
              "      <th>min</th>\n",
              "      <td>17.000000</td>\n",
              "      <td>64.000000</td>\n",
              "      <td>64.000000</td>\n",
              "      <td>0.000000</td>\n",
              "      <td>0.000000</td>\n",
              "      <td>0.000000</td>\n",
              "      <td>6.000000</td>\n",
              "      <td>15.000000</td>\n",
              "    </tr>\n",
              "    <tr>\n",
              "      <th>25%</th>\n",
              "      <td>50.000000</td>\n",
              "      <td>768.000000</td>\n",
              "      <td>4000.000000</td>\n",
              "      <td>0.000000</td>\n",
              "      <td>1.000000</td>\n",
              "      <td>5.000000</td>\n",
              "      <td>27.000000</td>\n",
              "      <td>28.000000</td>\n",
              "    </tr>\n",
              "    <tr>\n",
              "      <th>50%</th>\n",
              "      <td>110.000000</td>\n",
              "      <td>2000.000000</td>\n",
              "      <td>8000.000000</td>\n",
              "      <td>8.000000</td>\n",
              "      <td>2.000000</td>\n",
              "      <td>8.000000</td>\n",
              "      <td>50.000000</td>\n",
              "      <td>45.000000</td>\n",
              "    </tr>\n",
              "    <tr>\n",
              "      <th>75%</th>\n",
              "      <td>225.000000</td>\n",
              "      <td>4000.000000</td>\n",
              "      <td>16000.000000</td>\n",
              "      <td>32.000000</td>\n",
              "      <td>6.000000</td>\n",
              "      <td>24.000000</td>\n",
              "      <td>113.000000</td>\n",
              "      <td>101.000000</td>\n",
              "    </tr>\n",
              "    <tr>\n",
              "      <th>max</th>\n",
              "      <td>1500.000000</td>\n",
              "      <td>32000.000000</td>\n",
              "      <td>64000.000000</td>\n",
              "      <td>256.000000</td>\n",
              "      <td>52.000000</td>\n",
              "      <td>176.000000</td>\n",
              "      <td>1150.000000</td>\n",
              "      <td>1238.000000</td>\n",
              "    </tr>\n",
              "  </tbody>\n",
              "</table>\n",
              "</div>"
            ],
            "text/plain": [
              "            MCT/ns    MIN_MEM/kb  ...  Published_RP  Estimated_RP\n",
              "count   209.000000    209.000000  ...    209.000000    209.000000\n",
              "mean    203.822967   2867.980861  ...    105.622010     99.330144\n",
              "std     260.262926   3878.742758  ...    160.830733    154.757102\n",
              "min      17.000000     64.000000  ...      6.000000     15.000000\n",
              "25%      50.000000    768.000000  ...     27.000000     28.000000\n",
              "50%     110.000000   2000.000000  ...     50.000000     45.000000\n",
              "75%     225.000000   4000.000000  ...    113.000000    101.000000\n",
              "max    1500.000000  32000.000000  ...   1150.000000   1238.000000\n",
              "\n",
              "[8 rows x 8 columns]"
            ]
          },
          "metadata": {
            "tags": []
          },
          "execution_count": 7
        }
      ]
    },
    {
      "cell_type": "markdown",
      "metadata": {
        "id": "-gFnZR6iLLPY",
        "colab_type": "text"
      },
      "source": [
        "## 2) Load a dataset from your local machine.\n",
        "Choose a second dataset from the \"Popular Datasets\" listing on UCI, but this time download it to your local machine instead of reading it in via the URL. Upload the file to Google Colab using the files tab in the left-hand sidebar or by importing `files` from `google.colab` The following link will be a useful resource if you can't remember the syntax: <https://towardsdatascience.com/3-ways-to-load-csv-files-into-colab-7c14fcbdcb92>\n",
        "\n",
        "- Answer all of the same bullet point questions from part 1 again on this new dataset. \n"
      ]
    },
    {
      "cell_type": "code",
      "metadata": {
        "id": "qUmwX-ZoM9cq",
        "colab_type": "code",
        "colab": {}
      },
      "source": [
        "# Using google.colab._files to upload files from my local drive.\n",
        "from google.colab import files\n",
        "uploaded = files.upload()"
      ],
      "execution_count": 0,
      "outputs": []
    },
    {
      "cell_type": "code",
      "metadata": {
        "id": "ehLyv6gNDmIf",
        "colab_type": "code",
        "colab": {}
      },
      "source": [
        "# Chicking to see if the uploaded files are in my current directory useing bash.\n",
        "!pwd\n",
        "!ls\n",
        "# Create a new Directory named 'Student_Data' using bash.\n",
        "!mkdir Student_Data/\n",
        "# Move the desired Files to the new Directory using bash.\n",
        "!mv student-mat.csv student-por.csv student.txt Student_Data/\n",
        "# Moving to 'Student_Data' Directory\n",
        "%cd Student_Data\n",
        "# Checking for the files the were just moved.\n",
        "!ls"
      ],
      "execution_count": 0,
      "outputs": []
    },
    {
      "cell_type": "code",
      "metadata": {
        "id": "7cu1tzxODmTM",
        "colab_type": "code",
        "colab": {}
      },
      "source": [
        "# Openning the txt file assosiated with the Datasets to view additional\n",
        "# info about them.\n",
        "%cd Student_Data/\n",
        "txt_file = open('student.txt','r')\n",
        "txt_string = txt_file.read().replace('\"',' ')\n"
      ],
      "execution_count": 0,
      "outputs": []
    },
    {
      "cell_type": "code",
      "metadata": {
        "id": "ywKdV4RBDmdg",
        "colab_type": "code",
        "colab": {}
      },
      "source": [
        "print(txt_string)"
      ],
      "execution_count": 0,
      "outputs": []
    },
    {
      "cell_type": "code",
      "metadata": {
        "id": "IetiWJpSDmj6",
        "colab_type": "code",
        "colab": {}
      },
      "source": [
        "# Closing the txt file after reading it.\n",
        "txt_file.close()"
      ],
      "execution_count": 0,
      "outputs": []
    },
    {
      "cell_type": "code",
      "metadata": {
        "id": "wnUIHE6KDmo7",
        "colab_type": "code",
        "colab": {}
      },
      "source": [
        "# Now to read in the csv files that are in 'Student_Data/'\n",
        "df_mat = pd.read_csv('student-mat.csv')\n",
        "df_por = pd.read_csv('student-por.csv')"
      ],
      "execution_count": 0,
      "outputs": []
    },
    {
      "cell_type": "code",
      "metadata": {
        "id": "vNuvJnspDmtS",
        "colab_type": "code",
        "colab": {}
      },
      "source": [
        "# Since I've found a recent intrest in Regular Expressions, I decided to put it \n",
        "# to use here to make a way to extract the Attributes for my Dataset.\n",
        "pattern = re.compile(r'\\n\\d{1,2}\\s([a-zA-Z]*\\d?)')\n",
        "matches = pattern.findall(txt_string)\n",
        "match_list = []\n",
        "for m in matches:\n",
        "  match_list.append(m)"
      ],
      "execution_count": 0,
      "outputs": []
    },
    {
      "cell_type": "code",
      "metadata": {
        "id": "OmGfaU06Dmxb",
        "colab_type": "code",
        "colab": {}
      },
      "source": [
        "match_list "
      ],
      "execution_count": 0,
      "outputs": []
    },
    {
      "cell_type": "code",
      "metadata": {
        "id": "GYD2QgOyDm4u",
        "colab_type": "code",
        "colab": {}
      },
      "source": [
        ""
      ],
      "execution_count": 0,
      "outputs": []
    },
    {
      "cell_type": "code",
      "metadata": {
        "id": "FMz0zLaHDm_y",
        "colab_type": "code",
        "colab": {}
      },
      "source": [
        ""
      ],
      "execution_count": 0,
      "outputs": []
    },
    {
      "cell_type": "code",
      "metadata": {
        "id": "Ms19w6s7DnCu",
        "colab_type": "code",
        "colab": {}
      },
      "source": [
        ""
      ],
      "execution_count": 0,
      "outputs": []
    },
    {
      "cell_type": "markdown",
      "metadata": {
        "id": "mq_aQjxlM-u5",
        "colab_type": "text"
      },
      "source": [
        "## 3) Make Crosstabs of the Categorical Variables\n",
        "\n",
        "Take whichever of the above datasets has more categorical variables and use crosstabs to tabulate the different instances of the categorical variables.\n"
      ]
    },
    {
      "cell_type": "code",
      "metadata": {
        "id": "9-n9-LTM-18p",
        "colab_type": "code",
        "colab": {}
      },
      "source": [
        "# Your Code Here"
      ],
      "execution_count": 0,
      "outputs": []
    },
    {
      "cell_type": "markdown",
      "metadata": {
        "id": "OJ4t2IAk-6Vg",
        "colab_type": "text"
      },
      "source": [
        "## 4) Explore the distributions of the variables of the dataset using:\n",
        "- Histograms\n",
        "- Scatterplots\n",
        "- Density Plots"
      ]
    },
    {
      "cell_type": "code",
      "metadata": {
        "id": "DhES5WmH_NFt",
        "colab_type": "code",
        "colab": {}
      },
      "source": [
        "# Your Code Here"
      ],
      "execution_count": 0,
      "outputs": []
    },
    {
      "cell_type": "markdown",
      "metadata": {
        "id": "LXXTzpgp_N0q",
        "colab_type": "text"
      },
      "source": [
        "## 5) Create at least one visualization from a crosstab:\n",
        "\n",
        "Remember that a crosstab is just a dataframe and can be manipulated in the same way by row index, column, index, or column/row/cell position.\n"
      ]
    },
    {
      "cell_type": "code",
      "metadata": {
        "id": "kBQKXHUa_VxM",
        "colab_type": "code",
        "colab": {}
      },
      "source": [
        "# Your Code Here"
      ],
      "execution_count": 0,
      "outputs": []
    },
    {
      "cell_type": "markdown",
      "metadata": {
        "id": "MZCxTwKuReV9",
        "colab_type": "text"
      },
      "source": [
        "## Stretch Goals \n",
        "\n",
        "The following additional study tasks are optional, they are intended to give you an opportunity to stretch yourself beyond the main requirements of the assignment. You can pick and choose from the below, you do not need to complete them in any particular order.\n",
        "\n",
        "### - Practice Exploring other Datasets\n",
        "\n",
        "### -  Try using the Seaborn plotting library's \"Pairplot\" functionality in order to explore all of the possible histograms and scatterplots of your dataset all at once:\n",
        "\n",
        "[Seaborn Pairplot](https://seaborn.pydata.org/generated/seaborn.pairplot.html)\n",
        "\n",
        "### - Turn some of the continuous variables into categorical variables by binning the values using:\n",
        "- [pd.cut()](https://pandas.pydata.org/pandas-docs/version/0.23.4/generated/pandas.cut.html)\n",
        "- [pd.qcut()](https://pandas.pydata.org/pandas-docs/stable/reference/api/pandas.qcut.html)\n",
        "- <https://stackoverflow.com/questions/30211923/what-is-the-difference-between-pandas-qcut-and-pandas-cut>\n",
        "\n",
        "And then use crosstabs to compare/visualize these binned variables against the other variables.\n",
        "\n",
        "\n",
        "### - Other types and sources of data\n",
        "Not all data comes in a nice single file - for example, image classification involves handling lots of image files. You still will probably want labels for them, so you may have tabular data in addition to the image blobs - and the images may be reduced in resolution and even fit in a regular csv as a bunch of numbers.\n",
        "\n",
        "If you're interested in natural language processing and analyzing text, that is another example where, while it can be put in a csv, you may end up loading much larger raw data and generating features that can then be thought of in a more standard tabular fashion.\n",
        "\n",
        "Overall you will in the course of learning data science deal with loading data in a variety of ways. Another common way to get data is from a database - most modern applications are backed by one or more databases, which you can query to get data to analyze. We'll cover this more in our data engineering unit.\n",
        "\n",
        "How does data get in the database? Most applications generate logs - text files with lots and lots of records of each use of the application. Databases are often populated based on these files, but in some situations you may directly analyze log files. The usual way to do this is with command line (Unix) tools - command lines are intimidating, so don't expect to learn them all at once, but depending on your interests it can be useful to practice.\n",
        "\n",
        "One last major source of data is APIs: https://github.com/toddmotto/public-apis\n",
        "\n",
        "API stands for Application Programming Interface, and while originally meant e.g. the way an application interfaced with the GUI or other aspects of an operating system, now it largely refers to online services that let you query and retrieve data. You can essentially think of most of them as \"somebody else's database\" - you have (usually limited) access.\n",
        "\n",
        "*Stretch goal* - research one of the above extended forms of data/data loading. See if you can get a basic example working in a notebook. Image, text, or (public) APIs are probably more tractable - databases are interesting, but there aren't many publicly accessible and they require a great deal of setup."
      ]
    },
    {
      "cell_type": "code",
      "metadata": {
        "id": "f4QP6--JBXNK",
        "colab_type": "code",
        "colab": {}
      },
      "source": [
        ""
      ],
      "execution_count": 0,
      "outputs": []
    }
  ]
}