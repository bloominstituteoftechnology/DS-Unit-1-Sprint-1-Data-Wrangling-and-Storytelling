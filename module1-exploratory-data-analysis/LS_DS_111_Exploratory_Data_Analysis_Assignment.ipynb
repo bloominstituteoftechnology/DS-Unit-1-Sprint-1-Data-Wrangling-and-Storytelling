{
  "nbformat": 4,
  "nbformat_minor": 0,
  "metadata": {
    "colab": {
      "name": "LS_DS_111_Exploratory_Data_Analysis_Assignment.ipynb",
      "provenance": [],
      "collapsed_sections": []
    },
    "kernelspec": {
      "name": "python3",
      "display_name": "Python 3"
    }
  },
  "cells": [
    {
      "cell_type": "markdown",
      "metadata": {
        "colab_type": "text",
        "id": "MSnsTgZLKO72"
      },
      "source": [
        "# Practice Loading and Exploring Datasets\n",
        "\n",
        "This assignment is purposely open-ended. You will be asked to load datasets from the [UC-Irvine Machine Learning Repository](https://archive.ics.uci.edu/ml/index.php). \n",
        "\n",
        "Even though you maybe using different datasets than your fellow classmates, try and be supportive and assist each other in the challenges that you are facing. You will only deepend your understanding of these topics as you work to assist one another. Many popular UCI datasets face similar data loading challenges.\n",
        "\n",
        "Remember that the UCI datasets do not necessarily have a file type of `.csv` so it's important that you learn as much as you can about the dataset before you try and load it. See if you can look at the raw text of the file either locally or using the `!curl` shell command -or in some other way before you try and read it in as a dataframe. This will help you catch what would otherwise be unforseen problems.\n",
        "\n",
        "Feel free to embellish this notebook with additional markdown cells,code cells, comments, graphs, etc. Whatever you think helps adequately address the questions."
      ]
    },
    {
      "cell_type": "markdown",
      "metadata": {
        "id": "156P6ndeKojO",
        "colab_type": "text"
      },
      "source": [
        "## 1) Load a dataset from UCI (via its URL)\n",
        "\n",
        "Please navigate to the home page and choose a dataset (other than the Adult dataset) from the \"Most Popular\" section on the right-hand side of the home page. Load the dataset via its URL and check the following (show your work):\n",
        "\n",
        "- Are the headers showing up properly?\n",
        "- Look at the first 5 and the last 5 rows, do they seem to be in order?\n",
        "- Does the dataset have the correct number of rows and columns as described in the UCI page? \n",
        " - Remember, that UCI does not count the y variable (column of values that we might want to predict via a machine learning model) as an \"attribute\" but rather as a \"class attribute\" so you may end up seeing a number of columns that is one greater than the number listed on the UCI website.\n",
        "- Does UCI list this dataset as having missing values? Check for missing values and see if your analysis corroborates what UCI reports?\n",
        "- if `NaN` values or other missing value indicators are not being detected by `df.isnull().sum()` find a way to replace whatever is indicating the missing values with `np.NaN`.\n",
        "- Use the .describe() function in order to see the summary statistics of both the numeric and non-numeric columns. "
      ]
    },
    {
      "cell_type": "code",
      "metadata": {
        "id": "NJdISe69ZT7E",
        "colab_type": "code",
        "colab": {}
      },
      "source": [
        "# importing pandas\n",
        "import pandas as pd"
      ],
      "execution_count": 0,
      "outputs": []
    },
    {
      "cell_type": "code",
      "metadata": {
        "id": "mqi8TzvLqreP",
        "colab_type": "code",
        "colab": {}
      },
      "source": [
        "# uploading data from website \n",
        "iris_data_url = 'https://archive.ics.uci.edu/ml/machine-learning-databases/iris/iris.data'"
      ],
      "execution_count": 0,
      "outputs": []
    },
    {
      "cell_type": "code",
      "metadata": {
        "id": "RkW7x7ACwV_c",
        "colab_type": "code",
        "outputId": "629de38f-50c2-44e3-c59b-cab08bef5fc8",
        "colab": {
          "base_uri": "https://localhost:8080/",
          "height": 1000
        }
      },
      "source": [
        "# inspecting data using the !curl shell command \n",
        "!curl https://archive.ics.uci.edu/ml/machine-learning-databases/iris/iris.data"
      ],
      "execution_count": 66,
      "outputs": [
        {
          "output_type": "stream",
          "text": [
            "5.1,3.5,1.4,0.2,Iris-setosa\n",
            "4.9,3.0,1.4,0.2,Iris-setosa\n",
            "4.7,3.2,1.3,0.2,Iris-setosa\n",
            "4.6,3.1,1.5,0.2,Iris-setosa\n",
            "5.0,3.6,1.4,0.2,Iris-setosa\n",
            "5.4,3.9,1.7,0.4,Iris-setosa\n",
            "4.6,3.4,1.4,0.3,Iris-setosa\n",
            "5.0,3.4,1.5,0.2,Iris-setosa\n",
            "4.4,2.9,1.4,0.2,Iris-setosa\n",
            "4.9,3.1,1.5,0.1,Iris-setosa\n",
            "5.4,3.7,1.5,0.2,Iris-setosa\n",
            "4.8,3.4,1.6,0.2,Iris-setosa\n",
            "4.8,3.0,1.4,0.1,Iris-setosa\n",
            "4.3,3.0,1.1,0.1,Iris-setosa\n",
            "5.8,4.0,1.2,0.2,Iris-setosa\n",
            "5.7,4.4,1.5,0.4,Iris-setosa\n",
            "5.4,3.9,1.3,0.4,Iris-setosa\n",
            "5.1,3.5,1.4,0.3,Iris-setosa\n",
            "5.7,3.8,1.7,0.3,Iris-setosa\n",
            "5.1,3.8,1.5,0.3,Iris-setosa\n",
            "5.4,3.4,1.7,0.2,Iris-setosa\n",
            "5.1,3.7,1.5,0.4,Iris-setosa\n",
            "4.6,3.6,1.0,0.2,Iris-setosa\n",
            "5.1,3.3,1.7,0.5,Iris-setosa\n",
            "4.8,3.4,1.9,0.2,Iris-setosa\n",
            "5.0,3.0,1.6,0.2,Iris-setosa\n",
            "5.0,3.4,1.6,0.4,Iris-setosa\n",
            "5.2,3.5,1.5,0.2,Iris-setosa\n",
            "5.2,3.4,1.4,0.2,Iris-setosa\n",
            "4.7,3.2,1.6,0.2,Iris-setosa\n",
            "4.8,3.1,1.6,0.2,Iris-setosa\n",
            "5.4,3.4,1.5,0.4,Iris-setosa\n",
            "5.2,4.1,1.5,0.1,Iris-setosa\n",
            "5.5,4.2,1.4,0.2,Iris-setosa\n",
            "4.9,3.1,1.5,0.1,Iris-setosa\n",
            "5.0,3.2,1.2,0.2,Iris-setosa\n",
            "5.5,3.5,1.3,0.2,Iris-setosa\n",
            "4.9,3.1,1.5,0.1,Iris-setosa\n",
            "4.4,3.0,1.3,0.2,Iris-setosa\n",
            "5.1,3.4,1.5,0.2,Iris-setosa\n",
            "5.0,3.5,1.3,0.3,Iris-setosa\n",
            "4.5,2.3,1.3,0.3,Iris-setosa\n",
            "4.4,3.2,1.3,0.2,Iris-setosa\n",
            "5.0,3.5,1.6,0.6,Iris-setosa\n",
            "5.1,3.8,1.9,0.4,Iris-setosa\n",
            "4.8,3.0,1.4,0.3,Iris-setosa\n",
            "5.1,3.8,1.6,0.2,Iris-setosa\n",
            "4.6,3.2,1.4,0.2,Iris-setosa\n",
            "5.3,3.7,1.5,0.2,Iris-setosa\n",
            "5.0,3.3,1.4,0.2,Iris-setosa\n",
            "7.0,3.2,4.7,1.4,Iris-versicolor\n",
            "6.4,3.2,4.5,1.5,Iris-versicolor\n",
            "6.9,3.1,4.9,1.5,Iris-versicolor\n",
            "5.5,2.3,4.0,1.3,Iris-versicolor\n",
            "6.5,2.8,4.6,1.5,Iris-versicolor\n",
            "5.7,2.8,4.5,1.3,Iris-versicolor\n",
            "6.3,3.3,4.7,1.6,Iris-versicolor\n",
            "4.9,2.4,3.3,1.0,Iris-versicolor\n",
            "6.6,2.9,4.6,1.3,Iris-versicolor\n",
            "5.2,2.7,3.9,1.4,Iris-versicolor\n",
            "5.0,2.0,3.5,1.0,Iris-versicolor\n",
            "5.9,3.0,4.2,1.5,Iris-versicolor\n",
            "6.0,2.2,4.0,1.0,Iris-versicolor\n",
            "6.1,2.9,4.7,1.4,Iris-versicolor\n",
            "5.6,2.9,3.6,1.3,Iris-versicolor\n",
            "6.7,3.1,4.4,1.4,Iris-versicolor\n",
            "5.6,3.0,4.5,1.5,Iris-versicolor\n",
            "5.8,2.7,4.1,1.0,Iris-versicolor\n",
            "6.2,2.2,4.5,1.5,Iris-versicolor\n",
            "5.6,2.5,3.9,1.1,Iris-versicolor\n",
            "5.9,3.2,4.8,1.8,Iris-versicolor\n",
            "6.1,2.8,4.0,1.3,Iris-versicolor\n",
            "6.3,2.5,4.9,1.5,Iris-versicolor\n",
            "6.1,2.8,4.7,1.2,Iris-versicolor\n",
            "6.4,2.9,4.3,1.3,Iris-versicolor\n",
            "6.6,3.0,4.4,1.4,Iris-versicolor\n",
            "6.8,2.8,4.8,1.4,Iris-versicolor\n",
            "6.7,3.0,5.0,1.7,Iris-versicolor\n",
            "6.0,2.9,4.5,1.5,Iris-versicolor\n",
            "5.7,2.6,3.5,1.0,Iris-versicolor\n",
            "5.5,2.4,3.8,1.1,Iris-versicolor\n",
            "5.5,2.4,3.7,1.0,Iris-versicolor\n",
            "5.8,2.7,3.9,1.2,Iris-versicolor\n",
            "6.0,2.7,5.1,1.6,Iris-versicolor\n",
            "5.4,3.0,4.5,1.5,Iris-versicolor\n",
            "6.0,3.4,4.5,1.6,Iris-versicolor\n",
            "6.7,3.1,4.7,1.5,Iris-versicolor\n",
            "6.3,2.3,4.4,1.3,Iris-versicolor\n",
            "5.6,3.0,4.1,1.3,Iris-versicolor\n",
            "5.5,2.5,4.0,1.3,Iris-versicolor\n",
            "5.5,2.6,4.4,1.2,Iris-versicolor\n",
            "6.1,3.0,4.6,1.4,Iris-versicolor\n",
            "5.8,2.6,4.0,1.2,Iris-versicolor\n",
            "5.0,2.3,3.3,1.0,Iris-versicolor\n",
            "5.6,2.7,4.2,1.3,Iris-versicolor\n",
            "5.7,3.0,4.2,1.2,Iris-versicolor\n",
            "5.7,2.9,4.2,1.3,Iris-versicolor\n",
            "6.2,2.9,4.3,1.3,Iris-versicolor\n",
            "5.1,2.5,3.0,1.1,Iris-versicolor\n",
            "5.7,2.8,4.1,1.3,Iris-versicolor\n",
            "6.3,3.3,6.0,2.5,Iris-virginica\n",
            "5.8,2.7,5.1,1.9,Iris-virginica\n",
            "7.1,3.0,5.9,2.1,Iris-virginica\n",
            "6.3,2.9,5.6,1.8,Iris-virginica\n",
            "6.5,3.0,5.8,2.2,Iris-virginica\n",
            "7.6,3.0,6.6,2.1,Iris-virginica\n",
            "4.9,2.5,4.5,1.7,Iris-virginica\n",
            "7.3,2.9,6.3,1.8,Iris-virginica\n",
            "6.7,2.5,5.8,1.8,Iris-virginica\n",
            "7.2,3.6,6.1,2.5,Iris-virginica\n",
            "6.5,3.2,5.1,2.0,Iris-virginica\n",
            "6.4,2.7,5.3,1.9,Iris-virginica\n",
            "6.8,3.0,5.5,2.1,Iris-virginica\n",
            "5.7,2.5,5.0,2.0,Iris-virginica\n",
            "5.8,2.8,5.1,2.4,Iris-virginica\n",
            "6.4,3.2,5.3,2.3,Iris-virginica\n",
            "6.5,3.0,5.5,1.8,Iris-virginica\n",
            "7.7,3.8,6.7,2.2,Iris-virginica\n",
            "7.7,2.6,6.9,2.3,Iris-virginica\n",
            "6.0,2.2,5.0,1.5,Iris-virginica\n",
            "6.9,3.2,5.7,2.3,Iris-virginica\n",
            "5.6,2.8,4.9,2.0,Iris-virginica\n",
            "7.7,2.8,6.7,2.0,Iris-virginica\n",
            "6.3,2.7,4.9,1.8,Iris-virginica\n",
            "6.7,3.3,5.7,2.1,Iris-virginica\n",
            "7.2,3.2,6.0,1.8,Iris-virginica\n",
            "6.2,2.8,4.8,1.8,Iris-virginica\n",
            "6.1,3.0,4.9,1.8,Iris-virginica\n",
            "6.4,2.8,5.6,2.1,Iris-virginica\n",
            "7.2,3.0,5.8,1.6,Iris-virginica\n",
            "7.4,2.8,6.1,1.9,Iris-virginica\n",
            "7.9,3.8,6.4,2.0,Iris-virginica\n",
            "6.4,2.8,5.6,2.2,Iris-virginica\n",
            "6.3,2.8,5.1,1.5,Iris-virginica\n",
            "6.1,2.6,5.6,1.4,Iris-virginica\n",
            "7.7,3.0,6.1,2.3,Iris-virginica\n",
            "6.3,3.4,5.6,2.4,Iris-virginica\n",
            "6.4,3.1,5.5,1.8,Iris-virginica\n",
            "6.0,3.0,4.8,1.8,Iris-virginica\n",
            "6.9,3.1,5.4,2.1,Iris-virginica\n",
            "6.7,3.1,5.6,2.4,Iris-virginica\n",
            "6.9,3.1,5.1,2.3,Iris-virginica\n",
            "5.8,2.7,5.1,1.9,Iris-virginica\n",
            "6.8,3.2,5.9,2.3,Iris-virginica\n",
            "6.7,3.3,5.7,2.5,Iris-virginica\n",
            "6.7,3.0,5.2,2.3,Iris-virginica\n",
            "6.3,2.5,5.0,1.9,Iris-virginica\n",
            "6.5,3.0,5.2,2.0,Iris-virginica\n",
            "6.2,3.4,5.4,2.3,Iris-virginica\n",
            "5.9,3.0,5.1,1.8,Iris-virginica\n",
            "\n"
          ],
          "name": "stdout"
        }
      ]
    },
    {
      "cell_type": "code",
      "metadata": {
        "id": "xYrtgf7wrRGj",
        "colab_type": "code",
        "colab": {}
      },
      "source": [
        "# renaming dataframe\n",
        "df = pd.read_csv(iris_data_url)"
      ],
      "execution_count": 0,
      "outputs": []
    },
    {
      "cell_type": "code",
      "metadata": {
        "id": "1eq1sqAvrpLk",
        "colab_type": "code",
        "outputId": "75b30b1b-b306-4ce7-e0dd-5fbe2fa07a20",
        "colab": {
          "base_uri": "https://localhost:8080/",
          "height": 195
        }
      },
      "source": [
        "# visual inspecting head:\n",
        "df.head()\n",
        "\n",
        "# seems like the column are messed up. the top row of data is showing up as \n",
        "# the column names should be. "
      ],
      "execution_count": 68,
      "outputs": [
        {
          "output_type": "execute_result",
          "data": {
            "text/html": [
              "<div>\n",
              "<style scoped>\n",
              "    .dataframe tbody tr th:only-of-type {\n",
              "        vertical-align: middle;\n",
              "    }\n",
              "\n",
              "    .dataframe tbody tr th {\n",
              "        vertical-align: top;\n",
              "    }\n",
              "\n",
              "    .dataframe thead th {\n",
              "        text-align: right;\n",
              "    }\n",
              "</style>\n",
              "<table border=\"1\" class=\"dataframe\">\n",
              "  <thead>\n",
              "    <tr style=\"text-align: right;\">\n",
              "      <th></th>\n",
              "      <th>5.1</th>\n",
              "      <th>3.5</th>\n",
              "      <th>1.4</th>\n",
              "      <th>0.2</th>\n",
              "      <th>Iris-setosa</th>\n",
              "    </tr>\n",
              "  </thead>\n",
              "  <tbody>\n",
              "    <tr>\n",
              "      <th>0</th>\n",
              "      <td>4.9</td>\n",
              "      <td>3.0</td>\n",
              "      <td>1.4</td>\n",
              "      <td>0.2</td>\n",
              "      <td>Iris-setosa</td>\n",
              "    </tr>\n",
              "    <tr>\n",
              "      <th>1</th>\n",
              "      <td>4.7</td>\n",
              "      <td>3.2</td>\n",
              "      <td>1.3</td>\n",
              "      <td>0.2</td>\n",
              "      <td>Iris-setosa</td>\n",
              "    </tr>\n",
              "    <tr>\n",
              "      <th>2</th>\n",
              "      <td>4.6</td>\n",
              "      <td>3.1</td>\n",
              "      <td>1.5</td>\n",
              "      <td>0.2</td>\n",
              "      <td>Iris-setosa</td>\n",
              "    </tr>\n",
              "    <tr>\n",
              "      <th>3</th>\n",
              "      <td>5.0</td>\n",
              "      <td>3.6</td>\n",
              "      <td>1.4</td>\n",
              "      <td>0.2</td>\n",
              "      <td>Iris-setosa</td>\n",
              "    </tr>\n",
              "    <tr>\n",
              "      <th>4</th>\n",
              "      <td>5.4</td>\n",
              "      <td>3.9</td>\n",
              "      <td>1.7</td>\n",
              "      <td>0.4</td>\n",
              "      <td>Iris-setosa</td>\n",
              "    </tr>\n",
              "  </tbody>\n",
              "</table>\n",
              "</div>"
            ],
            "text/plain": [
              "   5.1  3.5  1.4  0.2  Iris-setosa\n",
              "0  4.9  3.0  1.4  0.2  Iris-setosa\n",
              "1  4.7  3.2  1.3  0.2  Iris-setosa\n",
              "2  4.6  3.1  1.5  0.2  Iris-setosa\n",
              "3  5.0  3.6  1.4  0.2  Iris-setosa\n",
              "4  5.4  3.9  1.7  0.4  Iris-setosa"
            ]
          },
          "metadata": {
            "tags": []
          },
          "execution_count": 68
        }
      ]
    },
    {
      "cell_type": "code",
      "metadata": {
        "id": "K-4lNBYjtK1j",
        "colab_type": "code",
        "outputId": "2bcbfa9c-3148-4d39-d0b5-85a14dc118e6",
        "colab": {
          "base_uri": "https://localhost:8080/",
          "height": 195
        }
      },
      "source": [
        "# visual inspecting tail:\n",
        "df.tail()\n",
        "\n",
        "# after review of the head, the same is true for the tail as of the head"
      ],
      "execution_count": 70,
      "outputs": [
        {
          "output_type": "execute_result",
          "data": {
            "text/html": [
              "<div>\n",
              "<style scoped>\n",
              "    .dataframe tbody tr th:only-of-type {\n",
              "        vertical-align: middle;\n",
              "    }\n",
              "\n",
              "    .dataframe tbody tr th {\n",
              "        vertical-align: top;\n",
              "    }\n",
              "\n",
              "    .dataframe thead th {\n",
              "        text-align: right;\n",
              "    }\n",
              "</style>\n",
              "<table border=\"1\" class=\"dataframe\">\n",
              "  <thead>\n",
              "    <tr style=\"text-align: right;\">\n",
              "      <th></th>\n",
              "      <th>5.1</th>\n",
              "      <th>3.5</th>\n",
              "      <th>1.4</th>\n",
              "      <th>0.2</th>\n",
              "      <th>Iris-setosa</th>\n",
              "    </tr>\n",
              "  </thead>\n",
              "  <tbody>\n",
              "    <tr>\n",
              "      <th>144</th>\n",
              "      <td>6.7</td>\n",
              "      <td>3.0</td>\n",
              "      <td>5.2</td>\n",
              "      <td>2.3</td>\n",
              "      <td>Iris-virginica</td>\n",
              "    </tr>\n",
              "    <tr>\n",
              "      <th>145</th>\n",
              "      <td>6.3</td>\n",
              "      <td>2.5</td>\n",
              "      <td>5.0</td>\n",
              "      <td>1.9</td>\n",
              "      <td>Iris-virginica</td>\n",
              "    </tr>\n",
              "    <tr>\n",
              "      <th>146</th>\n",
              "      <td>6.5</td>\n",
              "      <td>3.0</td>\n",
              "      <td>5.2</td>\n",
              "      <td>2.0</td>\n",
              "      <td>Iris-virginica</td>\n",
              "    </tr>\n",
              "    <tr>\n",
              "      <th>147</th>\n",
              "      <td>6.2</td>\n",
              "      <td>3.4</td>\n",
              "      <td>5.4</td>\n",
              "      <td>2.3</td>\n",
              "      <td>Iris-virginica</td>\n",
              "    </tr>\n",
              "    <tr>\n",
              "      <th>148</th>\n",
              "      <td>5.9</td>\n",
              "      <td>3.0</td>\n",
              "      <td>5.1</td>\n",
              "      <td>1.8</td>\n",
              "      <td>Iris-virginica</td>\n",
              "    </tr>\n",
              "  </tbody>\n",
              "</table>\n",
              "</div>"
            ],
            "text/plain": [
              "     5.1  3.5  1.4  0.2     Iris-setosa\n",
              "144  6.7  3.0  5.2  2.3  Iris-virginica\n",
              "145  6.3  2.5  5.0  1.9  Iris-virginica\n",
              "146  6.5  3.0  5.2  2.0  Iris-virginica\n",
              "147  6.2  3.4  5.4  2.3  Iris-virginica\n",
              "148  5.9  3.0  5.1  1.8  Iris-virginica"
            ]
          },
          "metadata": {
            "tags": []
          },
          "execution_count": 70
        }
      ]
    },
    {
      "cell_type": "code",
      "metadata": {
        "id": "lg3deYwyumMi",
        "colab_type": "code",
        "colab": {}
      },
      "source": [
        "# renaming column to attributes listed on UCI website\n",
        "column_headers=['sepal lenth', 'sepal width', 'petal length', 'petal width', 'class']"
      ],
      "execution_count": 0,
      "outputs": []
    },
    {
      "cell_type": "code",
      "metadata": {
        "id": "jD32Aru6x704",
        "colab_type": "code",
        "colab": {}
      },
      "source": [
        "# renaming column to attributes listed on UCI website\n",
        "df = pd.read_csv(iris_data_url, header=None, names=column_headers)"
      ],
      "execution_count": 0,
      "outputs": []
    },
    {
      "cell_type": "code",
      "metadata": {
        "id": "4cfGTnpRzJMu",
        "colab_type": "code",
        "outputId": "992370ca-1175-4d9b-84fd-11394dd3583f",
        "colab": {
          "base_uri": "https://localhost:8080/",
          "height": 195
        }
      },
      "source": [
        "# checking df head again  \n",
        "df.head()"
      ],
      "execution_count": 76,
      "outputs": [
        {
          "output_type": "execute_result",
          "data": {
            "text/html": [
              "<div>\n",
              "<style scoped>\n",
              "    .dataframe tbody tr th:only-of-type {\n",
              "        vertical-align: middle;\n",
              "    }\n",
              "\n",
              "    .dataframe tbody tr th {\n",
              "        vertical-align: top;\n",
              "    }\n",
              "\n",
              "    .dataframe thead th {\n",
              "        text-align: right;\n",
              "    }\n",
              "</style>\n",
              "<table border=\"1\" class=\"dataframe\">\n",
              "  <thead>\n",
              "    <tr style=\"text-align: right;\">\n",
              "      <th></th>\n",
              "      <th>sepal lenth</th>\n",
              "      <th>sepal width</th>\n",
              "      <th>petal length</th>\n",
              "      <th>petal width</th>\n",
              "      <th>class</th>\n",
              "    </tr>\n",
              "  </thead>\n",
              "  <tbody>\n",
              "    <tr>\n",
              "      <th>0</th>\n",
              "      <td>5.1</td>\n",
              "      <td>3.5</td>\n",
              "      <td>1.4</td>\n",
              "      <td>0.2</td>\n",
              "      <td>Iris-setosa</td>\n",
              "    </tr>\n",
              "    <tr>\n",
              "      <th>1</th>\n",
              "      <td>4.9</td>\n",
              "      <td>3.0</td>\n",
              "      <td>1.4</td>\n",
              "      <td>0.2</td>\n",
              "      <td>Iris-setosa</td>\n",
              "    </tr>\n",
              "    <tr>\n",
              "      <th>2</th>\n",
              "      <td>4.7</td>\n",
              "      <td>3.2</td>\n",
              "      <td>1.3</td>\n",
              "      <td>0.2</td>\n",
              "      <td>Iris-setosa</td>\n",
              "    </tr>\n",
              "    <tr>\n",
              "      <th>3</th>\n",
              "      <td>4.6</td>\n",
              "      <td>3.1</td>\n",
              "      <td>1.5</td>\n",
              "      <td>0.2</td>\n",
              "      <td>Iris-setosa</td>\n",
              "    </tr>\n",
              "    <tr>\n",
              "      <th>4</th>\n",
              "      <td>5.0</td>\n",
              "      <td>3.6</td>\n",
              "      <td>1.4</td>\n",
              "      <td>0.2</td>\n",
              "      <td>Iris-setosa</td>\n",
              "    </tr>\n",
              "  </tbody>\n",
              "</table>\n",
              "</div>"
            ],
            "text/plain": [
              "   sepal lenth  sepal width  petal length  petal width        class\n",
              "0          5.1          3.5           1.4          0.2  Iris-setosa\n",
              "1          4.9          3.0           1.4          0.2  Iris-setosa\n",
              "2          4.7          3.2           1.3          0.2  Iris-setosa\n",
              "3          4.6          3.1           1.5          0.2  Iris-setosa\n",
              "4          5.0          3.6           1.4          0.2  Iris-setosa"
            ]
          },
          "metadata": {
            "tags": []
          },
          "execution_count": 76
        }
      ]
    },
    {
      "cell_type": "code",
      "metadata": {
        "id": "N3nB3Eli6w2z",
        "colab_type": "code",
        "colab": {
          "base_uri": "https://localhost:8080/",
          "height": 34
        },
        "outputId": "338865f9-e5cb-48cb-935b-3203f2ee95fe"
      },
      "source": [
        "# rechecking df shape to compare to UCI website\n",
        "df.shape"
      ],
      "execution_count": 77,
      "outputs": [
        {
          "output_type": "execute_result",
          "data": {
            "text/plain": [
              "(150, 5)"
            ]
          },
          "metadata": {
            "tags": []
          },
          "execution_count": 77
        }
      ]
    },
    {
      "cell_type": "code",
      "metadata": {
        "id": "p9YdQUJQ66U2",
        "colab_type": "code",
        "colab": {
          "base_uri": "https://localhost:8080/",
          "height": 118
        },
        "outputId": "d556f745-9141-433f-8d12-762767668362"
      },
      "source": [
        "# checking for null values\n",
        "df.isnull().sum()"
      ],
      "execution_count": 78,
      "outputs": [
        {
          "output_type": "execute_result",
          "data": {
            "text/plain": [
              "sepal lenth     0\n",
              "sepal width     0\n",
              "petal length    0\n",
              "petal width     0\n",
              "class           0\n",
              "dtype: int64"
            ]
          },
          "metadata": {
            "tags": []
          },
          "execution_count": 78
        }
      ]
    },
    {
      "cell_type": "code",
      "metadata": {
        "id": "ltCJ4cTv7FRp",
        "colab_type": "code",
        "colab": {
          "base_uri": "https://localhost:8080/",
          "height": 284
        },
        "outputId": "44613b04-3cdb-41f1-e5cd-fb8b767a8518"
      },
      "source": [
        "# summary statistics for data \n",
        "df.describe()"
      ],
      "execution_count": 79,
      "outputs": [
        {
          "output_type": "execute_result",
          "data": {
            "text/html": [
              "<div>\n",
              "<style scoped>\n",
              "    .dataframe tbody tr th:only-of-type {\n",
              "        vertical-align: middle;\n",
              "    }\n",
              "\n",
              "    .dataframe tbody tr th {\n",
              "        vertical-align: top;\n",
              "    }\n",
              "\n",
              "    .dataframe thead th {\n",
              "        text-align: right;\n",
              "    }\n",
              "</style>\n",
              "<table border=\"1\" class=\"dataframe\">\n",
              "  <thead>\n",
              "    <tr style=\"text-align: right;\">\n",
              "      <th></th>\n",
              "      <th>sepal lenth</th>\n",
              "      <th>sepal width</th>\n",
              "      <th>petal length</th>\n",
              "      <th>petal width</th>\n",
              "    </tr>\n",
              "  </thead>\n",
              "  <tbody>\n",
              "    <tr>\n",
              "      <th>count</th>\n",
              "      <td>150.000000</td>\n",
              "      <td>150.000000</td>\n",
              "      <td>150.000000</td>\n",
              "      <td>150.000000</td>\n",
              "    </tr>\n",
              "    <tr>\n",
              "      <th>mean</th>\n",
              "      <td>5.843333</td>\n",
              "      <td>3.054000</td>\n",
              "      <td>3.758667</td>\n",
              "      <td>1.198667</td>\n",
              "    </tr>\n",
              "    <tr>\n",
              "      <th>std</th>\n",
              "      <td>0.828066</td>\n",
              "      <td>0.433594</td>\n",
              "      <td>1.764420</td>\n",
              "      <td>0.763161</td>\n",
              "    </tr>\n",
              "    <tr>\n",
              "      <th>min</th>\n",
              "      <td>4.300000</td>\n",
              "      <td>2.000000</td>\n",
              "      <td>1.000000</td>\n",
              "      <td>0.100000</td>\n",
              "    </tr>\n",
              "    <tr>\n",
              "      <th>25%</th>\n",
              "      <td>5.100000</td>\n",
              "      <td>2.800000</td>\n",
              "      <td>1.600000</td>\n",
              "      <td>0.300000</td>\n",
              "    </tr>\n",
              "    <tr>\n",
              "      <th>50%</th>\n",
              "      <td>5.800000</td>\n",
              "      <td>3.000000</td>\n",
              "      <td>4.350000</td>\n",
              "      <td>1.300000</td>\n",
              "    </tr>\n",
              "    <tr>\n",
              "      <th>75%</th>\n",
              "      <td>6.400000</td>\n",
              "      <td>3.300000</td>\n",
              "      <td>5.100000</td>\n",
              "      <td>1.800000</td>\n",
              "    </tr>\n",
              "    <tr>\n",
              "      <th>max</th>\n",
              "      <td>7.900000</td>\n",
              "      <td>4.400000</td>\n",
              "      <td>6.900000</td>\n",
              "      <td>2.500000</td>\n",
              "    </tr>\n",
              "  </tbody>\n",
              "</table>\n",
              "</div>"
            ],
            "text/plain": [
              "       sepal lenth  sepal width  petal length  petal width\n",
              "count   150.000000   150.000000    150.000000   150.000000\n",
              "mean      5.843333     3.054000      3.758667     1.198667\n",
              "std       0.828066     0.433594      1.764420     0.763161\n",
              "min       4.300000     2.000000      1.000000     0.100000\n",
              "25%       5.100000     2.800000      1.600000     0.300000\n",
              "50%       5.800000     3.000000      4.350000     1.300000\n",
              "75%       6.400000     3.300000      5.100000     1.800000\n",
              "max       7.900000     4.400000      6.900000     2.500000"
            ]
          },
          "metadata": {
            "tags": []
          },
          "execution_count": 79
        }
      ]
    },
    {
      "cell_type": "markdown",
      "metadata": {
        "id": "-gFnZR6iLLPY",
        "colab_type": "text"
      },
      "source": [
        "## 2) Load a dataset from your local machine.\n",
        "Choose a second dataset from the \"Popular Datasets\" listing on UCI, but this time download it to your local machine instead of reading it in via the URL. Upload the file to Google Colab using the files tab in the left-hand sidebar or by importing `files` from `google.colab` The following link will be a useful resource if you can't remember the syntax: <https://towardsdatascience.com/3-ways-to-load-csv-files-into-colab-7c14fcbdcb92>\n",
        "\n",
        "- Answer all of the same bullet point questions from part 1 again on this new dataset. \n"
      ]
    },
    {
      "cell_type": "code",
      "metadata": {
        "id": "qUmwX-ZoM9cq",
        "colab_type": "code",
        "colab": {
          "resources": {
            "http://localhost:8080/nbextensions/google.colab/files.js": {
              "data": "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",
              "ok": true,
              "headers": [
                [
                  "content-type",
                  "application/javascript"
                ]
              ],
              "status": 200,
              "status_text": ""
            }
          },
          "base_uri": "https://localhost:8080/",
          "height": 74
        },
        "outputId": "2b5113b8-b628-41b5-9038-6bda4025fffe"
      },
      "source": [
        "# uploading from local machine\n",
        "\n",
        "from google.colab import files\n",
        "uploaded = files.upload()"
      ],
      "execution_count": 122,
      "outputs": [
        {
          "output_type": "display_data",
          "data": {
            "text/html": [
              "\n",
              "     <input type=\"file\" id=\"files-09ea8661-4964-43c3-aea7-9faaa72f7d17\" name=\"files[]\" multiple disabled />\n",
              "     <output id=\"result-09ea8661-4964-43c3-aea7-9faaa72f7d17\">\n",
              "      Upload widget is only available when the cell has been executed in the\n",
              "      current browser session. Please rerun this cell to enable.\n",
              "      </output>\n",
              "      <script src=\"/nbextensions/google.colab/files.js\"></script> "
            ],
            "text/plain": [
              "<IPython.core.display.HTML object>"
            ]
          },
          "metadata": {
            "tags": []
          }
        },
        {
          "output_type": "stream",
          "text": [
            "Saving abalone.data to abalone.data\n"
          ],
          "name": "stdout"
        }
      ]
    },
    {
      "cell_type": "code",
      "metadata": {
        "id": "A6A-rwV09uTu",
        "colab_type": "code",
        "colab": {
          "base_uri": "https://localhost:8080/",
          "height": 195
        },
        "outputId": "27c90019-4a7c-4c93-ce04-5df16abc5fd2"
      },
      "source": [
        "# inspecting head\n",
        "df = pd.read_csv('abalone.data')\n",
        "df.head()\n",
        "\n",
        "# same issue with first row in the place of column headers"
      ],
      "execution_count": 123,
      "outputs": [
        {
          "output_type": "execute_result",
          "data": {
            "text/html": [
              "<div>\n",
              "<style scoped>\n",
              "    .dataframe tbody tr th:only-of-type {\n",
              "        vertical-align: middle;\n",
              "    }\n",
              "\n",
              "    .dataframe tbody tr th {\n",
              "        vertical-align: top;\n",
              "    }\n",
              "\n",
              "    .dataframe thead th {\n",
              "        text-align: right;\n",
              "    }\n",
              "</style>\n",
              "<table border=\"1\" class=\"dataframe\">\n",
              "  <thead>\n",
              "    <tr style=\"text-align: right;\">\n",
              "      <th></th>\n",
              "      <th>M</th>\n",
              "      <th>0.455</th>\n",
              "      <th>0.365</th>\n",
              "      <th>0.095</th>\n",
              "      <th>0.514</th>\n",
              "      <th>0.2245</th>\n",
              "      <th>0.101</th>\n",
              "      <th>0.15</th>\n",
              "      <th>15</th>\n",
              "    </tr>\n",
              "  </thead>\n",
              "  <tbody>\n",
              "    <tr>\n",
              "      <th>0</th>\n",
              "      <td>M</td>\n",
              "      <td>0.350</td>\n",
              "      <td>0.265</td>\n",
              "      <td>0.090</td>\n",
              "      <td>0.2255</td>\n",
              "      <td>0.0995</td>\n",
              "      <td>0.0485</td>\n",
              "      <td>0.070</td>\n",
              "      <td>7</td>\n",
              "    </tr>\n",
              "    <tr>\n",
              "      <th>1</th>\n",
              "      <td>F</td>\n",
              "      <td>0.530</td>\n",
              "      <td>0.420</td>\n",
              "      <td>0.135</td>\n",
              "      <td>0.6770</td>\n",
              "      <td>0.2565</td>\n",
              "      <td>0.1415</td>\n",
              "      <td>0.210</td>\n",
              "      <td>9</td>\n",
              "    </tr>\n",
              "    <tr>\n",
              "      <th>2</th>\n",
              "      <td>M</td>\n",
              "      <td>0.440</td>\n",
              "      <td>0.365</td>\n",
              "      <td>0.125</td>\n",
              "      <td>0.5160</td>\n",
              "      <td>0.2155</td>\n",
              "      <td>0.1140</td>\n",
              "      <td>0.155</td>\n",
              "      <td>10</td>\n",
              "    </tr>\n",
              "    <tr>\n",
              "      <th>3</th>\n",
              "      <td>I</td>\n",
              "      <td>0.330</td>\n",
              "      <td>0.255</td>\n",
              "      <td>0.080</td>\n",
              "      <td>0.2050</td>\n",
              "      <td>0.0895</td>\n",
              "      <td>0.0395</td>\n",
              "      <td>0.055</td>\n",
              "      <td>7</td>\n",
              "    </tr>\n",
              "    <tr>\n",
              "      <th>4</th>\n",
              "      <td>I</td>\n",
              "      <td>0.425</td>\n",
              "      <td>0.300</td>\n",
              "      <td>0.095</td>\n",
              "      <td>0.3515</td>\n",
              "      <td>0.1410</td>\n",
              "      <td>0.0775</td>\n",
              "      <td>0.120</td>\n",
              "      <td>8</td>\n",
              "    </tr>\n",
              "  </tbody>\n",
              "</table>\n",
              "</div>"
            ],
            "text/plain": [
              "   M  0.455  0.365  0.095   0.514  0.2245   0.101   0.15  15\n",
              "0  M  0.350  0.265  0.090  0.2255  0.0995  0.0485  0.070   7\n",
              "1  F  0.530  0.420  0.135  0.6770  0.2565  0.1415  0.210   9\n",
              "2  M  0.440  0.365  0.125  0.5160  0.2155  0.1140  0.155  10\n",
              "3  I  0.330  0.255  0.080  0.2050  0.0895  0.0395  0.055   7\n",
              "4  I  0.425  0.300  0.095  0.3515  0.1410  0.0775  0.120   8"
            ]
          },
          "metadata": {
            "tags": []
          },
          "execution_count": 123
        }
      ]
    },
    {
      "cell_type": "code",
      "metadata": {
        "id": "_rfGKgwo9xoE",
        "colab_type": "code",
        "colab": {
          "base_uri": "https://localhost:8080/",
          "height": 195
        },
        "outputId": "0fce07c9-6337-4a71-ef04-70725e16dbe2"
      },
      "source": [
        "# inspecting tail\n",
        "df.tail()\n",
        "\n",
        "# same issue with column headers"
      ],
      "execution_count": 124,
      "outputs": [
        {
          "output_type": "execute_result",
          "data": {
            "text/html": [
              "<div>\n",
              "<style scoped>\n",
              "    .dataframe tbody tr th:only-of-type {\n",
              "        vertical-align: middle;\n",
              "    }\n",
              "\n",
              "    .dataframe tbody tr th {\n",
              "        vertical-align: top;\n",
              "    }\n",
              "\n",
              "    .dataframe thead th {\n",
              "        text-align: right;\n",
              "    }\n",
              "</style>\n",
              "<table border=\"1\" class=\"dataframe\">\n",
              "  <thead>\n",
              "    <tr style=\"text-align: right;\">\n",
              "      <th></th>\n",
              "      <th>M</th>\n",
              "      <th>0.455</th>\n",
              "      <th>0.365</th>\n",
              "      <th>0.095</th>\n",
              "      <th>0.514</th>\n",
              "      <th>0.2245</th>\n",
              "      <th>0.101</th>\n",
              "      <th>0.15</th>\n",
              "      <th>15</th>\n",
              "    </tr>\n",
              "  </thead>\n",
              "  <tbody>\n",
              "    <tr>\n",
              "      <th>4171</th>\n",
              "      <td>F</td>\n",
              "      <td>0.565</td>\n",
              "      <td>0.450</td>\n",
              "      <td>0.165</td>\n",
              "      <td>0.8870</td>\n",
              "      <td>0.3700</td>\n",
              "      <td>0.2390</td>\n",
              "      <td>0.2490</td>\n",
              "      <td>11</td>\n",
              "    </tr>\n",
              "    <tr>\n",
              "      <th>4172</th>\n",
              "      <td>M</td>\n",
              "      <td>0.590</td>\n",
              "      <td>0.440</td>\n",
              "      <td>0.135</td>\n",
              "      <td>0.9660</td>\n",
              "      <td>0.4390</td>\n",
              "      <td>0.2145</td>\n",
              "      <td>0.2605</td>\n",
              "      <td>10</td>\n",
              "    </tr>\n",
              "    <tr>\n",
              "      <th>4173</th>\n",
              "      <td>M</td>\n",
              "      <td>0.600</td>\n",
              "      <td>0.475</td>\n",
              "      <td>0.205</td>\n",
              "      <td>1.1760</td>\n",
              "      <td>0.5255</td>\n",
              "      <td>0.2875</td>\n",
              "      <td>0.3080</td>\n",
              "      <td>9</td>\n",
              "    </tr>\n",
              "    <tr>\n",
              "      <th>4174</th>\n",
              "      <td>F</td>\n",
              "      <td>0.625</td>\n",
              "      <td>0.485</td>\n",
              "      <td>0.150</td>\n",
              "      <td>1.0945</td>\n",
              "      <td>0.5310</td>\n",
              "      <td>0.2610</td>\n",
              "      <td>0.2960</td>\n",
              "      <td>10</td>\n",
              "    </tr>\n",
              "    <tr>\n",
              "      <th>4175</th>\n",
              "      <td>M</td>\n",
              "      <td>0.710</td>\n",
              "      <td>0.555</td>\n",
              "      <td>0.195</td>\n",
              "      <td>1.9485</td>\n",
              "      <td>0.9455</td>\n",
              "      <td>0.3765</td>\n",
              "      <td>0.4950</td>\n",
              "      <td>12</td>\n",
              "    </tr>\n",
              "  </tbody>\n",
              "</table>\n",
              "</div>"
            ],
            "text/plain": [
              "      M  0.455  0.365  0.095   0.514  0.2245   0.101    0.15  15\n",
              "4171  F  0.565  0.450  0.165  0.8870  0.3700  0.2390  0.2490  11\n",
              "4172  M  0.590  0.440  0.135  0.9660  0.4390  0.2145  0.2605  10\n",
              "4173  M  0.600  0.475  0.205  1.1760  0.5255  0.2875  0.3080   9\n",
              "4174  F  0.625  0.485  0.150  1.0945  0.5310  0.2610  0.2960  10\n",
              "4175  M  0.710  0.555  0.195  1.9485  0.9455  0.3765  0.4950  12"
            ]
          },
          "metadata": {
            "tags": []
          },
          "execution_count": 124
        }
      ]
    },
    {
      "cell_type": "code",
      "metadata": {
        "id": "qgMuaO159xw9",
        "colab_type": "code",
        "colab": {}
      },
      "source": [
        "# renaming column to attributes listed on UCI website\n",
        "column_header = ['Sex', 'Length', 'Diameter', 'Height', 'Whole Weight', 'Shucked Weight','Viscera Weight', 'Shell Weight', 'Rings']"
      ],
      "execution_count": 0,
      "outputs": []
    },
    {
      "cell_type": "code",
      "metadata": {
        "id": "d_t2FdiA9x4W",
        "colab_type": "code",
        "colab": {}
      },
      "source": [
        "# renaming column to attributes listed on UCI website\n",
        "df = pd.read_csv('abalone.data', header=None, names=column_header)"
      ],
      "execution_count": 0,
      "outputs": []
    },
    {
      "cell_type": "code",
      "metadata": {
        "id": "B_pcqKpa9x-b",
        "colab_type": "code",
        "colab": {
          "base_uri": "https://localhost:8080/",
          "height": 195
        },
        "outputId": "de0b13b5-46e8-4289-d75f-8f187bb5b28d"
      },
      "source": [
        "# checking df head again \n",
        "df.head()"
      ],
      "execution_count": 139,
      "outputs": [
        {
          "output_type": "execute_result",
          "data": {
            "text/html": [
              "<div>\n",
              "<style scoped>\n",
              "    .dataframe tbody tr th:only-of-type {\n",
              "        vertical-align: middle;\n",
              "    }\n",
              "\n",
              "    .dataframe tbody tr th {\n",
              "        vertical-align: top;\n",
              "    }\n",
              "\n",
              "    .dataframe thead th {\n",
              "        text-align: right;\n",
              "    }\n",
              "</style>\n",
              "<table border=\"1\" class=\"dataframe\">\n",
              "  <thead>\n",
              "    <tr style=\"text-align: right;\">\n",
              "      <th></th>\n",
              "      <th>Sex</th>\n",
              "      <th>Length</th>\n",
              "      <th>Diameter</th>\n",
              "      <th>Height</th>\n",
              "      <th>Whole Weight</th>\n",
              "      <th>Shucked Weight</th>\n",
              "      <th>Viscera Weight</th>\n",
              "      <th>Shell Weight</th>\n",
              "      <th>Rings</th>\n",
              "    </tr>\n",
              "  </thead>\n",
              "  <tbody>\n",
              "    <tr>\n",
              "      <th>0</th>\n",
              "      <td>M</td>\n",
              "      <td>0.455</td>\n",
              "      <td>0.365</td>\n",
              "      <td>0.095</td>\n",
              "      <td>0.5140</td>\n",
              "      <td>0.2245</td>\n",
              "      <td>0.1010</td>\n",
              "      <td>0.150</td>\n",
              "      <td>15</td>\n",
              "    </tr>\n",
              "    <tr>\n",
              "      <th>1</th>\n",
              "      <td>M</td>\n",
              "      <td>0.350</td>\n",
              "      <td>0.265</td>\n",
              "      <td>0.090</td>\n",
              "      <td>0.2255</td>\n",
              "      <td>0.0995</td>\n",
              "      <td>0.0485</td>\n",
              "      <td>0.070</td>\n",
              "      <td>7</td>\n",
              "    </tr>\n",
              "    <tr>\n",
              "      <th>2</th>\n",
              "      <td>F</td>\n",
              "      <td>0.530</td>\n",
              "      <td>0.420</td>\n",
              "      <td>0.135</td>\n",
              "      <td>0.6770</td>\n",
              "      <td>0.2565</td>\n",
              "      <td>0.1415</td>\n",
              "      <td>0.210</td>\n",
              "      <td>9</td>\n",
              "    </tr>\n",
              "    <tr>\n",
              "      <th>3</th>\n",
              "      <td>M</td>\n",
              "      <td>0.440</td>\n",
              "      <td>0.365</td>\n",
              "      <td>0.125</td>\n",
              "      <td>0.5160</td>\n",
              "      <td>0.2155</td>\n",
              "      <td>0.1140</td>\n",
              "      <td>0.155</td>\n",
              "      <td>10</td>\n",
              "    </tr>\n",
              "    <tr>\n",
              "      <th>4</th>\n",
              "      <td>I</td>\n",
              "      <td>0.330</td>\n",
              "      <td>0.255</td>\n",
              "      <td>0.080</td>\n",
              "      <td>0.2050</td>\n",
              "      <td>0.0895</td>\n",
              "      <td>0.0395</td>\n",
              "      <td>0.055</td>\n",
              "      <td>7</td>\n",
              "    </tr>\n",
              "  </tbody>\n",
              "</table>\n",
              "</div>"
            ],
            "text/plain": [
              "  Sex  Length  Diameter  ...  Viscera Weight  Shell Weight  Rings\n",
              "0   M   0.455     0.365  ...          0.1010         0.150     15\n",
              "1   M   0.350     0.265  ...          0.0485         0.070      7\n",
              "2   F   0.530     0.420  ...          0.1415         0.210      9\n",
              "3   M   0.440     0.365  ...          0.1140         0.155     10\n",
              "4   I   0.330     0.255  ...          0.0395         0.055      7\n",
              "\n",
              "[5 rows x 9 columns]"
            ]
          },
          "metadata": {
            "tags": []
          },
          "execution_count": 139
        }
      ]
    },
    {
      "cell_type": "code",
      "metadata": {
        "id": "2Lyleh2n9yFM",
        "colab_type": "code",
        "colab": {
          "base_uri": "https://localhost:8080/",
          "height": 34
        },
        "outputId": "a64a4a97-942f-491b-f3e4-5da5c806937c"
      },
      "source": [
        "# comparing df shape to UCI website \n",
        "df.shape"
      ],
      "execution_count": 141,
      "outputs": [
        {
          "output_type": "execute_result",
          "data": {
            "text/plain": [
              "(4177, 9)"
            ]
          },
          "metadata": {
            "tags": []
          },
          "execution_count": 141
        }
      ]
    },
    {
      "cell_type": "code",
      "metadata": {
        "id": "HeWBrlBX9yLa",
        "colab_type": "code",
        "colab": {
          "base_uri": "https://localhost:8080/",
          "height": 185
        },
        "outputId": "53af7a39-ac39-40c8-f191-8250d283a894"
      },
      "source": [
        "# checking for null values\n",
        "df.isnull().sum()"
      ],
      "execution_count": 142,
      "outputs": [
        {
          "output_type": "execute_result",
          "data": {
            "text/plain": [
              "Sex               0\n",
              "Length            0\n",
              "Diameter          0\n",
              "Height            0\n",
              "Whole Weight      0\n",
              "Shucked Weight    0\n",
              "Viscera Weight    0\n",
              "Shell Weight      0\n",
              "Rings             0\n",
              "dtype: int64"
            ]
          },
          "metadata": {
            "tags": []
          },
          "execution_count": 142
        }
      ]
    },
    {
      "cell_type": "code",
      "metadata": {
        "id": "J5Irop18Gz5U",
        "colab_type": "code",
        "colab": {
          "base_uri": "https://localhost:8080/",
          "height": 284
        },
        "outputId": "922eedb0-5027-4be0-c56d-bb2c4bc4dc6d"
      },
      "source": [
        "# summary statistics for data \n",
        "df.describe()"
      ],
      "execution_count": 143,
      "outputs": [
        {
          "output_type": "execute_result",
          "data": {
            "text/html": [
              "<div>\n",
              "<style scoped>\n",
              "    .dataframe tbody tr th:only-of-type {\n",
              "        vertical-align: middle;\n",
              "    }\n",
              "\n",
              "    .dataframe tbody tr th {\n",
              "        vertical-align: top;\n",
              "    }\n",
              "\n",
              "    .dataframe thead th {\n",
              "        text-align: right;\n",
              "    }\n",
              "</style>\n",
              "<table border=\"1\" class=\"dataframe\">\n",
              "  <thead>\n",
              "    <tr style=\"text-align: right;\">\n",
              "      <th></th>\n",
              "      <th>Length</th>\n",
              "      <th>Diameter</th>\n",
              "      <th>Height</th>\n",
              "      <th>Whole Weight</th>\n",
              "      <th>Shucked Weight</th>\n",
              "      <th>Viscera Weight</th>\n",
              "      <th>Shell Weight</th>\n",
              "      <th>Rings</th>\n",
              "    </tr>\n",
              "  </thead>\n",
              "  <tbody>\n",
              "    <tr>\n",
              "      <th>count</th>\n",
              "      <td>4177.000000</td>\n",
              "      <td>4177.000000</td>\n",
              "      <td>4177.000000</td>\n",
              "      <td>4177.000000</td>\n",
              "      <td>4177.000000</td>\n",
              "      <td>4177.000000</td>\n",
              "      <td>4177.000000</td>\n",
              "      <td>4177.000000</td>\n",
              "    </tr>\n",
              "    <tr>\n",
              "      <th>mean</th>\n",
              "      <td>0.523992</td>\n",
              "      <td>0.407881</td>\n",
              "      <td>0.139516</td>\n",
              "      <td>0.828742</td>\n",
              "      <td>0.359367</td>\n",
              "      <td>0.180594</td>\n",
              "      <td>0.238831</td>\n",
              "      <td>9.933684</td>\n",
              "    </tr>\n",
              "    <tr>\n",
              "      <th>std</th>\n",
              "      <td>0.120093</td>\n",
              "      <td>0.099240</td>\n",
              "      <td>0.041827</td>\n",
              "      <td>0.490389</td>\n",
              "      <td>0.221963</td>\n",
              "      <td>0.109614</td>\n",
              "      <td>0.139203</td>\n",
              "      <td>3.224169</td>\n",
              "    </tr>\n",
              "    <tr>\n",
              "      <th>min</th>\n",
              "      <td>0.075000</td>\n",
              "      <td>0.055000</td>\n",
              "      <td>0.000000</td>\n",
              "      <td>0.002000</td>\n",
              "      <td>0.001000</td>\n",
              "      <td>0.000500</td>\n",
              "      <td>0.001500</td>\n",
              "      <td>1.000000</td>\n",
              "    </tr>\n",
              "    <tr>\n",
              "      <th>25%</th>\n",
              "      <td>0.450000</td>\n",
              "      <td>0.350000</td>\n",
              "      <td>0.115000</td>\n",
              "      <td>0.441500</td>\n",
              "      <td>0.186000</td>\n",
              "      <td>0.093500</td>\n",
              "      <td>0.130000</td>\n",
              "      <td>8.000000</td>\n",
              "    </tr>\n",
              "    <tr>\n",
              "      <th>50%</th>\n",
              "      <td>0.545000</td>\n",
              "      <td>0.425000</td>\n",
              "      <td>0.140000</td>\n",
              "      <td>0.799500</td>\n",
              "      <td>0.336000</td>\n",
              "      <td>0.171000</td>\n",
              "      <td>0.234000</td>\n",
              "      <td>9.000000</td>\n",
              "    </tr>\n",
              "    <tr>\n",
              "      <th>75%</th>\n",
              "      <td>0.615000</td>\n",
              "      <td>0.480000</td>\n",
              "      <td>0.165000</td>\n",
              "      <td>1.153000</td>\n",
              "      <td>0.502000</td>\n",
              "      <td>0.253000</td>\n",
              "      <td>0.329000</td>\n",
              "      <td>11.000000</td>\n",
              "    </tr>\n",
              "    <tr>\n",
              "      <th>max</th>\n",
              "      <td>0.815000</td>\n",
              "      <td>0.650000</td>\n",
              "      <td>1.130000</td>\n",
              "      <td>2.825500</td>\n",
              "      <td>1.488000</td>\n",
              "      <td>0.760000</td>\n",
              "      <td>1.005000</td>\n",
              "      <td>29.000000</td>\n",
              "    </tr>\n",
              "  </tbody>\n",
              "</table>\n",
              "</div>"
            ],
            "text/plain": [
              "            Length     Diameter  ...  Shell Weight        Rings\n",
              "count  4177.000000  4177.000000  ...   4177.000000  4177.000000\n",
              "mean      0.523992     0.407881  ...      0.238831     9.933684\n",
              "std       0.120093     0.099240  ...      0.139203     3.224169\n",
              "min       0.075000     0.055000  ...      0.001500     1.000000\n",
              "25%       0.450000     0.350000  ...      0.130000     8.000000\n",
              "50%       0.545000     0.425000  ...      0.234000     9.000000\n",
              "75%       0.615000     0.480000  ...      0.329000    11.000000\n",
              "max       0.815000     0.650000  ...      1.005000    29.000000\n",
              "\n",
              "[8 rows x 8 columns]"
            ]
          },
          "metadata": {
            "tags": []
          },
          "execution_count": 143
        }
      ]
    },
    {
      "cell_type": "markdown",
      "metadata": {
        "id": "mq_aQjxlM-u5",
        "colab_type": "text"
      },
      "source": [
        "## 3) Make Crosstabs of the Categorical Variables\n",
        "\n",
        "Take whichever of the above datasets has more categorical variables and use crosstabs to tabulate the different instances of the categorical variables.\n"
      ]
    },
    {
      "cell_type": "code",
      "metadata": {
        "id": "9-n9-LTM-18p",
        "colab_type": "code",
        "colab": {
          "base_uri": "https://localhost:8080/",
          "height": 185
        },
        "outputId": "001af7b5-441b-4991-9585-11808f00c64f"
      },
      "source": [
        "# crosstab of categorical variables \n",
        "df.dtypes"
      ],
      "execution_count": 144,
      "outputs": [
        {
          "output_type": "execute_result",
          "data": {
            "text/plain": [
              "Sex                object\n",
              "Length            float64\n",
              "Diameter          float64\n",
              "Height            float64\n",
              "Whole Weight      float64\n",
              "Shucked Weight    float64\n",
              "Viscera Weight    float64\n",
              "Shell Weight      float64\n",
              "Rings               int64\n",
              "dtype: object"
            ]
          },
          "metadata": {
            "tags": []
          },
          "execution_count": 144
        }
      ]
    },
    {
      "cell_type": "code",
      "metadata": {
        "id": "wKLqPx3gHsQg",
        "colab_type": "code",
        "colab": {
          "base_uri": "https://localhost:8080/",
          "height": 906
        },
        "outputId": "89c34adf-41d8-4454-f07f-d651e3be5404"
      },
      "source": [
        "# crosstab of categorical variables of sex and rings\n",
        "pd.crosstab(df['Rings'], df['Sex'])"
      ],
      "execution_count": 155,
      "outputs": [
        {
          "output_type": "execute_result",
          "data": {
            "text/html": [
              "<div>\n",
              "<style scoped>\n",
              "    .dataframe tbody tr th:only-of-type {\n",
              "        vertical-align: middle;\n",
              "    }\n",
              "\n",
              "    .dataframe tbody tr th {\n",
              "        vertical-align: top;\n",
              "    }\n",
              "\n",
              "    .dataframe thead th {\n",
              "        text-align: right;\n",
              "    }\n",
              "</style>\n",
              "<table border=\"1\" class=\"dataframe\">\n",
              "  <thead>\n",
              "    <tr style=\"text-align: right;\">\n",
              "      <th>Sex</th>\n",
              "      <th>F</th>\n",
              "      <th>I</th>\n",
              "      <th>M</th>\n",
              "    </tr>\n",
              "    <tr>\n",
              "      <th>Rings</th>\n",
              "      <th></th>\n",
              "      <th></th>\n",
              "      <th></th>\n",
              "    </tr>\n",
              "  </thead>\n",
              "  <tbody>\n",
              "    <tr>\n",
              "      <th>1</th>\n",
              "      <td>0</td>\n",
              "      <td>1</td>\n",
              "      <td>0</td>\n",
              "    </tr>\n",
              "    <tr>\n",
              "      <th>2</th>\n",
              "      <td>0</td>\n",
              "      <td>1</td>\n",
              "      <td>0</td>\n",
              "    </tr>\n",
              "    <tr>\n",
              "      <th>3</th>\n",
              "      <td>0</td>\n",
              "      <td>12</td>\n",
              "      <td>3</td>\n",
              "    </tr>\n",
              "    <tr>\n",
              "      <th>4</th>\n",
              "      <td>0</td>\n",
              "      <td>51</td>\n",
              "      <td>6</td>\n",
              "    </tr>\n",
              "    <tr>\n",
              "      <th>5</th>\n",
              "      <td>4</td>\n",
              "      <td>100</td>\n",
              "      <td>11</td>\n",
              "    </tr>\n",
              "    <tr>\n",
              "      <th>6</th>\n",
              "      <td>16</td>\n",
              "      <td>216</td>\n",
              "      <td>27</td>\n",
              "    </tr>\n",
              "    <tr>\n",
              "      <th>7</th>\n",
              "      <td>44</td>\n",
              "      <td>267</td>\n",
              "      <td>80</td>\n",
              "    </tr>\n",
              "    <tr>\n",
              "      <th>8</th>\n",
              "      <td>122</td>\n",
              "      <td>274</td>\n",
              "      <td>172</td>\n",
              "    </tr>\n",
              "    <tr>\n",
              "      <th>9</th>\n",
              "      <td>238</td>\n",
              "      <td>173</td>\n",
              "      <td>278</td>\n",
              "    </tr>\n",
              "    <tr>\n",
              "      <th>10</th>\n",
              "      <td>248</td>\n",
              "      <td>92</td>\n",
              "      <td>294</td>\n",
              "    </tr>\n",
              "    <tr>\n",
              "      <th>11</th>\n",
              "      <td>200</td>\n",
              "      <td>62</td>\n",
              "      <td>225</td>\n",
              "    </tr>\n",
              "    <tr>\n",
              "      <th>12</th>\n",
              "      <td>128</td>\n",
              "      <td>21</td>\n",
              "      <td>118</td>\n",
              "    </tr>\n",
              "    <tr>\n",
              "      <th>13</th>\n",
              "      <td>88</td>\n",
              "      <td>24</td>\n",
              "      <td>91</td>\n",
              "    </tr>\n",
              "    <tr>\n",
              "      <th>14</th>\n",
              "      <td>56</td>\n",
              "      <td>14</td>\n",
              "      <td>56</td>\n",
              "    </tr>\n",
              "    <tr>\n",
              "      <th>15</th>\n",
              "      <td>41</td>\n",
              "      <td>10</td>\n",
              "      <td>52</td>\n",
              "    </tr>\n",
              "    <tr>\n",
              "      <th>16</th>\n",
              "      <td>30</td>\n",
              "      <td>7</td>\n",
              "      <td>30</td>\n",
              "    </tr>\n",
              "    <tr>\n",
              "      <th>17</th>\n",
              "      <td>26</td>\n",
              "      <td>7</td>\n",
              "      <td>25</td>\n",
              "    </tr>\n",
              "    <tr>\n",
              "      <th>18</th>\n",
              "      <td>19</td>\n",
              "      <td>5</td>\n",
              "      <td>18</td>\n",
              "    </tr>\n",
              "    <tr>\n",
              "      <th>19</th>\n",
              "      <td>15</td>\n",
              "      <td>2</td>\n",
              "      <td>15</td>\n",
              "    </tr>\n",
              "    <tr>\n",
              "      <th>20</th>\n",
              "      <td>12</td>\n",
              "      <td>2</td>\n",
              "      <td>12</td>\n",
              "    </tr>\n",
              "    <tr>\n",
              "      <th>21</th>\n",
              "      <td>7</td>\n",
              "      <td>1</td>\n",
              "      <td>6</td>\n",
              "    </tr>\n",
              "    <tr>\n",
              "      <th>22</th>\n",
              "      <td>3</td>\n",
              "      <td>0</td>\n",
              "      <td>3</td>\n",
              "    </tr>\n",
              "    <tr>\n",
              "      <th>23</th>\n",
              "      <td>6</td>\n",
              "      <td>0</td>\n",
              "      <td>3</td>\n",
              "    </tr>\n",
              "    <tr>\n",
              "      <th>24</th>\n",
              "      <td>1</td>\n",
              "      <td>0</td>\n",
              "      <td>1</td>\n",
              "    </tr>\n",
              "    <tr>\n",
              "      <th>25</th>\n",
              "      <td>1</td>\n",
              "      <td>0</td>\n",
              "      <td>0</td>\n",
              "    </tr>\n",
              "    <tr>\n",
              "      <th>26</th>\n",
              "      <td>0</td>\n",
              "      <td>0</td>\n",
              "      <td>1</td>\n",
              "    </tr>\n",
              "    <tr>\n",
              "      <th>27</th>\n",
              "      <td>1</td>\n",
              "      <td>0</td>\n",
              "      <td>1</td>\n",
              "    </tr>\n",
              "    <tr>\n",
              "      <th>29</th>\n",
              "      <td>1</td>\n",
              "      <td>0</td>\n",
              "      <td>0</td>\n",
              "    </tr>\n",
              "  </tbody>\n",
              "</table>\n",
              "</div>"
            ],
            "text/plain": [
              "Sex      F    I    M\n",
              "Rings               \n",
              "1        0    1    0\n",
              "2        0    1    0\n",
              "3        0   12    3\n",
              "4        0   51    6\n",
              "5        4  100   11\n",
              "6       16  216   27\n",
              "7       44  267   80\n",
              "8      122  274  172\n",
              "9      238  173  278\n",
              "10     248   92  294\n",
              "11     200   62  225\n",
              "12     128   21  118\n",
              "13      88   24   91\n",
              "14      56   14   56\n",
              "15      41   10   52\n",
              "16      30    7   30\n",
              "17      26    7   25\n",
              "18      19    5   18\n",
              "19      15    2   15\n",
              "20      12    2   12\n",
              "21       7    1    6\n",
              "22       3    0    3\n",
              "23       6    0    3\n",
              "24       1    0    1\n",
              "25       1    0    0\n",
              "26       0    0    1\n",
              "27       1    0    1\n",
              "29       1    0    0"
            ]
          },
          "metadata": {
            "tags": []
          },
          "execution_count": 155
        }
      ]
    },
    {
      "cell_type": "markdown",
      "metadata": {
        "id": "OJ4t2IAk-6Vg",
        "colab_type": "text"
      },
      "source": [
        "## 4) Explore the distributions of the variables of the dataset using:\n",
        "- Histograms\n",
        "- Scatterplots\n",
        "- Density Plots"
      ]
    },
    {
      "cell_type": "code",
      "metadata": {
        "id": "DhES5WmH_NFt",
        "colab_type": "code",
        "colab": {
          "base_uri": "https://localhost:8080/",
          "height": 265
        },
        "outputId": "23b43e9a-7e8a-436b-a721-34b292678f0c"
      },
      "source": [
        "# histogram of Whole Weight bins set at 20\n",
        "df['Whole Weight'].hist(bins=20);"
      ],
      "execution_count": 148,
      "outputs": [
        {
          "output_type": "display_data",
          "data": {
            "image/png": "[encoded data removed]",
            "text/plain": [
              "<Figure size 432x288 with 1 Axes>"
            ]
          },
          "metadata": {
            "tags": []
          }
        }
      ]
    },
    {
      "cell_type": "code",
      "metadata": {
        "id": "St2Z94gHIc78",
        "colab_type": "code",
        "colab": {
          "base_uri": "https://localhost:8080/",
          "height": 279
        },
        "outputId": "1e30fe49-e7aa-41ad-e48c-a2513af1e7db"
      },
      "source": [
        "# scatterplot of Length and Whole Weight\n",
        "df.plot.scatter('Length', 'Whole Weight');"
      ],
      "execution_count": 151,
      "outputs": [
        {
          "output_type": "display_data",
          "data": {
            "image/png": "[encoded data removed]",
            "text/plain": [
              "<Figure size 432x288 with 1 Axes>"
            ]
          },
          "metadata": {
            "tags": []
          }
        }
      ]
    },
    {
      "cell_type": "code",
      "metadata": {
        "id": "OmDH_XhdIf--",
        "colab_type": "code",
        "colab": {
          "base_uri": "https://localhost:8080/",
          "height": 265
        },
        "outputId": "cd090ab0-0a6b-472b-ffbd-c6498c0d847e"
      },
      "source": [
        "# density plot of Length\n",
        "df['Length'].plot.density();"
      ],
      "execution_count": 152,
      "outputs": [
        {
          "output_type": "display_data",
          "data": {
            "image/png": "[encoded data removed]",
            "text/plain": [
              "<Figure size 432x288 with 1 Axes>"
            ]
          },
          "metadata": {
            "tags": []
          }
        }
      ]
    },
    {
      "cell_type": "markdown",
      "metadata": {
        "id": "LXXTzpgp_N0q",
        "colab_type": "text"
      },
      "source": [
        "## 5) Create at least one visualization from a crosstab:\n",
        "\n",
        "Remember that a crosstab is just a dataframe and can be manipulated in the same way by row index, column, index, or column/row/cell position.\n"
      ]
    },
    {
      "cell_type": "code",
      "metadata": {
        "id": "kBQKXHUa_VxM",
        "colab_type": "code",
        "colab": {}
      },
      "source": [
        "# crosstab visualization\n",
        "myresults = pd.crosstab(df['Rings'], df['Sex'])"
      ],
      "execution_count": 0,
      "outputs": []
    },
    {
      "cell_type": "code",
      "metadata": {
        "id": "u-nyvQ5vKz71",
        "colab_type": "code",
        "colab": {
          "base_uri": "https://localhost:8080/",
          "height": 265
        },
        "outputId": "4e8ec238-1bbf-48be-b103-9a7c853df319"
      },
      "source": [
        "myresults.plot(kind='barh');"
      ],
      "execution_count": 157,
      "outputs": [
        {
          "output_type": "display_data",
          "data": {
            "image/png": "[encoded data removed]",
            "text/plain": [
              "<Figure size 432x288 with 1 Axes>"
            ]
          },
          "metadata": {
            "tags": []
          }
        }
      ]
    },
    {
      "cell_type": "markdown",
      "metadata": {
        "id": "MZCxTwKuReV9",
        "colab_type": "text"
      },
      "source": [
        "## Stretch Goals \n",
        "\n",
        "The following additional study tasks are optional, they are intended to give you an opportunity to stretch yourself beyond the main requirements of the assignment. You can pick and choose from the below, you do not need to complete them in any particular order.\n",
        "\n",
        "### - Practice Exploring other Datasets\n",
        "\n",
        "### -  Try using the Seaborn plotting library's \"Pairplot\" functionality in order to explore all of the possible histograms and scatterplots of your dataset all at once:\n",
        "\n",
        "[Seaborn Pairplot](https://seaborn.pydata.org/generated/seaborn.pairplot.html)\n",
        "\n",
        "### - Turn some of the continuous variables into categorical variables by binning the values using:\n",
        "- [pd.cut()](https://pandas.pydata.org/pandas-docs/version/0.23.4/generated/pandas.cut.html)\n",
        "- [pd.qcut()](https://pandas.pydata.org/pandas-docs/stable/reference/api/pandas.qcut.html)\n",
        "- <https://stackoverflow.com/questions/30211923/what-is-the-difference-between-pandas-qcut-and-pandas-cut>\n",
        "\n",
        "And then use crosstabs to compare/visualize these binned variables against the other variables.\n",
        "\n",
        "\n",
        "### - Other types and sources of data\n",
        "Not all data comes in a nice single file - for example, image classification involves handling lots of image files. You still will probably want labels for them, so you may have tabular data in addition to the image blobs - and the images may be reduced in resolution and even fit in a regular csv as a bunch of numbers.\n",
        "\n",
        "If you're interested in natural language processing and analyzing text, that is another example where, while it can be put in a csv, you may end up loading much larger raw data and generating features that can then be thought of in a more standard tabular fashion.\n",
        "\n",
        "Overall you will in the course of learning data science deal with loading data in a variety of ways. Another common way to get data is from a database - most modern applications are backed by one or more databases, which you can query to get data to analyze. We'll cover this more in our data engineering unit.\n",
        "\n",
        "How does data get in the database? Most applications generate logs - text files with lots and lots of records of each use of the application. Databases are often populated based on these files, but in some situations you may directly analyze log files. The usual way to do this is with command line (Unix) tools - command lines are intimidating, so don't expect to learn them all at once, but depending on your interests it can be useful to practice.\n",
        "\n",
        "One last major source of data is APIs: https://github.com/toddmotto/public-apis\n",
        "\n",
        "API stands for Application Programming Interface, and while originally meant e.g. the way an application interfaced with the GUI or other aspects of an operating system, now it largely refers to online services that let you query and retrieve data. You can essentially think of most of them as \"somebody else's database\" - you have (usually limited) access.\n",
        "\n",
        "*Stretch goal* - research one of the above extended forms of data/data loading. See if you can get a basic example working in a notebook. Image, text, or (public) APIs are probably more tractable - databases are interesting, but there aren't many publicly accessible and they require a great deal of setup."
      ]
    },
    {
      "cell_type": "code",
      "metadata": {
        "colab_type": "code",
        "id": "vO-V7FCtL3K2",
        "colab": {}
      },
      "source": [
        "# seaborn pairplot exploration\n",
        "import seaborn as sns; sns.set(style=\"ticks\", color_codes=True)\n"
      ],
      "execution_count": 0,
      "outputs": []
    },
    {
      "cell_type": "code",
      "metadata": {
        "id": "j3LY8mC2L33Z",
        "colab_type": "code",
        "colab": {
          "base_uri": "https://localhost:8080/",
          "height": 320
        },
        "outputId": "2249d2c4-a789-4b32-ef3f-14ca4936198d"
      },
      "source": [
        "abalone.data = sns.load_dataset(\"abalone.data\")\n",
        "g = sns.pairplot(abalone.data)"
      ],
      "execution_count": 162,
      "outputs": [
        {
          "output_type": "error",
          "ename": "HTTPError",
          "evalue": "ignored",
          "traceback": [
            "\u001b[0;31m---------------------------------------------------------------------------\u001b[0m",
            "\u001b[0;31mHTTPError\u001b[0m                                 Traceback (most recent call last)",
            "\u001b[0;32m<ipython-input-162-345b63dd867a>\u001b[0m in \u001b[0;36m<module>\u001b[0;34m()\u001b[0m\n\u001b[0;32m----> 1\u001b[0;31m \u001b[0mabalone\u001b[0m\u001b[0;34m.\u001b[0m\u001b[0mdata\u001b[0m \u001b[0;34m=\u001b[0m \u001b[0msns\u001b[0m\u001b[0;34m.\u001b[0m\u001b[0mload_dataset\u001b[0m\u001b[0;34m(\u001b[0m\u001b[0;34m\"abalone.data\"\u001b[0m\u001b[0;34m)\u001b[0m\u001b[0;34m\u001b[0m\u001b[0;34m\u001b[0m\u001b[0m\n\u001b[0m\u001b[1;32m      2\u001b[0m \u001b[0mg\u001b[0m \u001b[0;34m=\u001b[0m \u001b[0msns\u001b[0m\u001b[0;34m.\u001b[0m\u001b[0mpairplot\u001b[0m\u001b[0;34m(\u001b[0m\u001b[0mabalone\u001b[0m\u001b[0;34m.\u001b[0m\u001b[0mdata\u001b[0m\u001b[0;34m)\u001b[0m\u001b[0;34m\u001b[0m\u001b[0;34m\u001b[0m\u001b[0m\n",
            "\u001b[0;32m/usr/local/lib/python3.6/dist-packages/seaborn/utils.py\u001b[0m in \u001b[0;36mload_dataset\u001b[0;34m(name, cache, data_home, **kws)\u001b[0m\n\u001b[1;32m    426\u001b[0m                                   os.path.basename(full_path))\n\u001b[1;32m    427\u001b[0m         \u001b[0;32mif\u001b[0m \u001b[0;32mnot\u001b[0m \u001b[0mos\u001b[0m\u001b[0;34m.\u001b[0m\u001b[0mpath\u001b[0m\u001b[0;34m.\u001b[0m\u001b[0mexists\u001b[0m\u001b[0;34m(\u001b[0m\u001b[0mcache_path\u001b[0m\u001b[0;34m)\u001b[0m\u001b[0;34m:\u001b[0m\u001b[0;34m\u001b[0m\u001b[0;34m\u001b[0m\u001b[0m\n\u001b[0;32m--> 428\u001b[0;31m             \u001b[0murlretrieve\u001b[0m\u001b[0;34m(\u001b[0m\u001b[0mfull_path\u001b[0m\u001b[0;34m,\u001b[0m \u001b[0mcache_path\u001b[0m\u001b[0;34m)\u001b[0m\u001b[0;34m\u001b[0m\u001b[0;34m\u001b[0m\u001b[0m\n\u001b[0m\u001b[1;32m    429\u001b[0m         \u001b[0mfull_path\u001b[0m \u001b[0;34m=\u001b[0m \u001b[0mcache_path\u001b[0m\u001b[0;34m\u001b[0m\u001b[0;34m\u001b[0m\u001b[0m\n\u001b[1;32m    430\u001b[0m \u001b[0;34m\u001b[0m\u001b[0m\n",
            "\u001b[0;32m/usr/lib/python3.6/urllib/request.py\u001b[0m in \u001b[0;36murlretrieve\u001b[0;34m(url, filename, reporthook, data)\u001b[0m\n\u001b[1;32m    246\u001b[0m     \u001b[0murl_type\u001b[0m\u001b[0;34m,\u001b[0m \u001b[0mpath\u001b[0m \u001b[0;34m=\u001b[0m \u001b[0msplittype\u001b[0m\u001b[0;34m(\u001b[0m\u001b[0murl\u001b[0m\u001b[0;34m)\u001b[0m\u001b[0;34m\u001b[0m\u001b[0;34m\u001b[0m\u001b[0m\n\u001b[1;32m    247\u001b[0m \u001b[0;34m\u001b[0m\u001b[0m\n\u001b[0;32m--> 248\u001b[0;31m     \u001b[0;32mwith\u001b[0m \u001b[0mcontextlib\u001b[0m\u001b[0;34m.\u001b[0m\u001b[0mclosing\u001b[0m\u001b[0;34m(\u001b[0m\u001b[0murlopen\u001b[0m\u001b[0;34m(\u001b[0m\u001b[0murl\u001b[0m\u001b[0;34m,\u001b[0m \u001b[0mdata\u001b[0m\u001b[0;34m)\u001b[0m\u001b[0;34m)\u001b[0m \u001b[0;32mas\u001b[0m \u001b[0mfp\u001b[0m\u001b[0;34m:\u001b[0m\u001b[0;34m\u001b[0m\u001b[0;34m\u001b[0m\u001b[0m\n\u001b[0m\u001b[1;32m    249\u001b[0m         \u001b[0mheaders\u001b[0m \u001b[0;34m=\u001b[0m \u001b[0mfp\u001b[0m\u001b[0;34m.\u001b[0m\u001b[0minfo\u001b[0m\u001b[0;34m(\u001b[0m\u001b[0;34m)\u001b[0m\u001b[0;34m\u001b[0m\u001b[0;34m\u001b[0m\u001b[0m\n\u001b[1;32m    250\u001b[0m \u001b[0;34m\u001b[0m\u001b[0m\n",
            "\u001b[0;32m/usr/lib/python3.6/urllib/request.py\u001b[0m in \u001b[0;36murlopen\u001b[0;34m(url, data, timeout, cafile, capath, cadefault, context)\u001b[0m\n\u001b[1;32m    221\u001b[0m     \u001b[0;32melse\u001b[0m\u001b[0;34m:\u001b[0m\u001b[0;34m\u001b[0m\u001b[0;34m\u001b[0m\u001b[0m\n\u001b[1;32m    222\u001b[0m         \u001b[0mopener\u001b[0m \u001b[0;34m=\u001b[0m \u001b[0m_opener\u001b[0m\u001b[0;34m\u001b[0m\u001b[0;34m\u001b[0m\u001b[0m\n\u001b[0;32m--> 223\u001b[0;31m     \u001b[0;32mreturn\u001b[0m \u001b[0mopener\u001b[0m\u001b[0;34m.\u001b[0m\u001b[0mopen\u001b[0m\u001b[0;34m(\u001b[0m\u001b[0murl\u001b[0m\u001b[0;34m,\u001b[0m \u001b[0mdata\u001b[0m\u001b[0;34m,\u001b[0m \u001b[0mtimeout\u001b[0m\u001b[0;34m)\u001b[0m\u001b[0;34m\u001b[0m\u001b[0;34m\u001b[0m\u001b[0m\n\u001b[0m\u001b[1;32m    224\u001b[0m \u001b[0;34m\u001b[0m\u001b[0m\n\u001b[1;32m    225\u001b[0m \u001b[0;32mdef\u001b[0m \u001b[0minstall_opener\u001b[0m\u001b[0;34m(\u001b[0m\u001b[0mopener\u001b[0m\u001b[0;34m)\u001b[0m\u001b[0;34m:\u001b[0m\u001b[0;34m\u001b[0m\u001b[0;34m\u001b[0m\u001b[0m\n",
            "\u001b[0;32m/usr/lib/python3.6/urllib/request.py\u001b[0m in \u001b[0;36mopen\u001b[0;34m(self, fullurl, data, timeout)\u001b[0m\n\u001b[1;32m    530\u001b[0m         \u001b[0;32mfor\u001b[0m \u001b[0mprocessor\u001b[0m \u001b[0;32min\u001b[0m \u001b[0mself\u001b[0m\u001b[0;34m.\u001b[0m\u001b[0mprocess_response\u001b[0m\u001b[0;34m.\u001b[0m\u001b[0mget\u001b[0m\u001b[0;34m(\u001b[0m\u001b[0mprotocol\u001b[0m\u001b[0;34m,\u001b[0m \u001b[0;34m[\u001b[0m\u001b[0;34m]\u001b[0m\u001b[0;34m)\u001b[0m\u001b[0;34m:\u001b[0m\u001b[0;34m\u001b[0m\u001b[0;34m\u001b[0m\u001b[0m\n\u001b[1;32m    531\u001b[0m             \u001b[0mmeth\u001b[0m \u001b[0;34m=\u001b[0m \u001b[0mgetattr\u001b[0m\u001b[0;34m(\u001b[0m\u001b[0mprocessor\u001b[0m\u001b[0;34m,\u001b[0m \u001b[0mmeth_name\u001b[0m\u001b[0;34m)\u001b[0m\u001b[0;34m\u001b[0m\u001b[0;34m\u001b[0m\u001b[0m\n\u001b[0;32m--> 532\u001b[0;31m             \u001b[0mresponse\u001b[0m \u001b[0;34m=\u001b[0m \u001b[0mmeth\u001b[0m\u001b[0;34m(\u001b[0m\u001b[0mreq\u001b[0m\u001b[0;34m,\u001b[0m \u001b[0mresponse\u001b[0m\u001b[0;34m)\u001b[0m\u001b[0;34m\u001b[0m\u001b[0;34m\u001b[0m\u001b[0m\n\u001b[0m\u001b[1;32m    533\u001b[0m \u001b[0;34m\u001b[0m\u001b[0m\n\u001b[1;32m    534\u001b[0m         \u001b[0;32mreturn\u001b[0m \u001b[0mresponse\u001b[0m\u001b[0;34m\u001b[0m\u001b[0;34m\u001b[0m\u001b[0m\n",
            "\u001b[0;32m/usr/lib/python3.6/urllib/request.py\u001b[0m in \u001b[0;36mhttp_response\u001b[0;34m(self, request, response)\u001b[0m\n\u001b[1;32m    640\u001b[0m         \u001b[0;32mif\u001b[0m \u001b[0;32mnot\u001b[0m \u001b[0;34m(\u001b[0m\u001b[0;36m200\u001b[0m \u001b[0;34m<=\u001b[0m \u001b[0mcode\u001b[0m \u001b[0;34m<\u001b[0m \u001b[0;36m300\u001b[0m\u001b[0;34m)\u001b[0m\u001b[0;34m:\u001b[0m\u001b[0;34m\u001b[0m\u001b[0;34m\u001b[0m\u001b[0m\n\u001b[1;32m    641\u001b[0m             response = self.parent.error(\n\u001b[0;32m--> 642\u001b[0;31m                 'http', request, response, code, msg, hdrs)\n\u001b[0m\u001b[1;32m    643\u001b[0m \u001b[0;34m\u001b[0m\u001b[0m\n\u001b[1;32m    644\u001b[0m         \u001b[0;32mreturn\u001b[0m \u001b[0mresponse\u001b[0m\u001b[0;34m\u001b[0m\u001b[0;34m\u001b[0m\u001b[0m\n",
            "\u001b[0;32m/usr/lib/python3.6/urllib/request.py\u001b[0m in \u001b[0;36merror\u001b[0;34m(self, proto, *args)\u001b[0m\n\u001b[1;32m    568\u001b[0m         \u001b[0;32mif\u001b[0m \u001b[0mhttp_err\u001b[0m\u001b[0;34m:\u001b[0m\u001b[0;34m\u001b[0m\u001b[0;34m\u001b[0m\u001b[0m\n\u001b[1;32m    569\u001b[0m             \u001b[0margs\u001b[0m \u001b[0;34m=\u001b[0m \u001b[0;34m(\u001b[0m\u001b[0mdict\u001b[0m\u001b[0;34m,\u001b[0m \u001b[0;34m'default'\u001b[0m\u001b[0;34m,\u001b[0m \u001b[0;34m'http_error_default'\u001b[0m\u001b[0;34m)\u001b[0m \u001b[0;34m+\u001b[0m \u001b[0morig_args\u001b[0m\u001b[0;34m\u001b[0m\u001b[0;34m\u001b[0m\u001b[0m\n\u001b[0;32m--> 570\u001b[0;31m             \u001b[0;32mreturn\u001b[0m \u001b[0mself\u001b[0m\u001b[0;34m.\u001b[0m\u001b[0m_call_chain\u001b[0m\u001b[0;34m(\u001b[0m\u001b[0;34m*\u001b[0m\u001b[0margs\u001b[0m\u001b[0;34m)\u001b[0m\u001b[0;34m\u001b[0m\u001b[0;34m\u001b[0m\u001b[0m\n\u001b[0m\u001b[1;32m    571\u001b[0m \u001b[0;34m\u001b[0m\u001b[0m\n\u001b[1;32m    572\u001b[0m \u001b[0;31m# XXX probably also want an abstract factory that knows when it makes\u001b[0m\u001b[0;34m\u001b[0m\u001b[0;34m\u001b[0m\u001b[0;34m\u001b[0m\u001b[0m\n",
            "\u001b[0;32m/usr/lib/python3.6/urllib/request.py\u001b[0m in \u001b[0;36m_call_chain\u001b[0;34m(self, chain, kind, meth_name, *args)\u001b[0m\n\u001b[1;32m    502\u001b[0m         \u001b[0;32mfor\u001b[0m \u001b[0mhandler\u001b[0m \u001b[0;32min\u001b[0m \u001b[0mhandlers\u001b[0m\u001b[0;34m:\u001b[0m\u001b[0;34m\u001b[0m\u001b[0;34m\u001b[0m\u001b[0m\n\u001b[1;32m    503\u001b[0m             \u001b[0mfunc\u001b[0m \u001b[0;34m=\u001b[0m \u001b[0mgetattr\u001b[0m\u001b[0;34m(\u001b[0m\u001b[0mhandler\u001b[0m\u001b[0;34m,\u001b[0m \u001b[0mmeth_name\u001b[0m\u001b[0;34m)\u001b[0m\u001b[0;34m\u001b[0m\u001b[0;34m\u001b[0m\u001b[0m\n\u001b[0;32m--> 504\u001b[0;31m             \u001b[0mresult\u001b[0m \u001b[0;34m=\u001b[0m \u001b[0mfunc\u001b[0m\u001b[0;34m(\u001b[0m\u001b[0;34m*\u001b[0m\u001b[0margs\u001b[0m\u001b[0;34m)\u001b[0m\u001b[0;34m\u001b[0m\u001b[0;34m\u001b[0m\u001b[0m\n\u001b[0m\u001b[1;32m    505\u001b[0m             \u001b[0;32mif\u001b[0m \u001b[0mresult\u001b[0m \u001b[0;32mis\u001b[0m \u001b[0;32mnot\u001b[0m \u001b[0;32mNone\u001b[0m\u001b[0;34m:\u001b[0m\u001b[0;34m\u001b[0m\u001b[0;34m\u001b[0m\u001b[0m\n\u001b[1;32m    506\u001b[0m                 \u001b[0;32mreturn\u001b[0m \u001b[0mresult\u001b[0m\u001b[0;34m\u001b[0m\u001b[0;34m\u001b[0m\u001b[0m\n",
            "\u001b[0;32m/usr/lib/python3.6/urllib/request.py\u001b[0m in \u001b[0;36mhttp_error_default\u001b[0;34m(self, req, fp, code, msg, hdrs)\u001b[0m\n\u001b[1;32m    648\u001b[0m \u001b[0;32mclass\u001b[0m \u001b[0mHTTPDefaultErrorHandler\u001b[0m\u001b[0;34m(\u001b[0m\u001b[0mBaseHandler\u001b[0m\u001b[0;34m)\u001b[0m\u001b[0;34m:\u001b[0m\u001b[0;34m\u001b[0m\u001b[0;34m\u001b[0m\u001b[0m\n\u001b[1;32m    649\u001b[0m     \u001b[0;32mdef\u001b[0m \u001b[0mhttp_error_default\u001b[0m\u001b[0;34m(\u001b[0m\u001b[0mself\u001b[0m\u001b[0;34m,\u001b[0m \u001b[0mreq\u001b[0m\u001b[0;34m,\u001b[0m \u001b[0mfp\u001b[0m\u001b[0;34m,\u001b[0m \u001b[0mcode\u001b[0m\u001b[0;34m,\u001b[0m \u001b[0mmsg\u001b[0m\u001b[0;34m,\u001b[0m \u001b[0mhdrs\u001b[0m\u001b[0;34m)\u001b[0m\u001b[0;34m:\u001b[0m\u001b[0;34m\u001b[0m\u001b[0;34m\u001b[0m\u001b[0m\n\u001b[0;32m--> 650\u001b[0;31m         \u001b[0;32mraise\u001b[0m \u001b[0mHTTPError\u001b[0m\u001b[0;34m(\u001b[0m\u001b[0mreq\u001b[0m\u001b[0;34m.\u001b[0m\u001b[0mfull_url\u001b[0m\u001b[0;34m,\u001b[0m \u001b[0mcode\u001b[0m\u001b[0;34m,\u001b[0m \u001b[0mmsg\u001b[0m\u001b[0;34m,\u001b[0m \u001b[0mhdrs\u001b[0m\u001b[0;34m,\u001b[0m \u001b[0mfp\u001b[0m\u001b[0;34m)\u001b[0m\u001b[0;34m\u001b[0m\u001b[0;34m\u001b[0m\u001b[0m\n\u001b[0m\u001b[1;32m    651\u001b[0m \u001b[0;34m\u001b[0m\u001b[0m\n\u001b[1;32m    652\u001b[0m \u001b[0;32mclass\u001b[0m \u001b[0mHTTPRedirectHandler\u001b[0m\u001b[0;34m(\u001b[0m\u001b[0mBaseHandler\u001b[0m\u001b[0;34m)\u001b[0m\u001b[0;34m:\u001b[0m\u001b[0;34m\u001b[0m\u001b[0;34m\u001b[0m\u001b[0m\n",
            "\u001b[0;31mHTTPError\u001b[0m: HTTP Error 404: Not Found"
          ]
        }
      ]
    },
    {
      "cell_type": "code",
      "metadata": {
        "id": "DWTQ39c_afcn",
        "colab_type": "code",
        "colab": {}
      },
      "source": [
        "# uploading data from website from NOAA Data found via API list\n",
        "normals_data_url = 'https://www1.ncdc.noaa.gov/pub/data/cdo/samples/NORMAL_DLY_sample_csv.csv'"
      ],
      "execution_count": 0,
      "outputs": []
    },
    {
      "cell_type": "code",
      "metadata": {
        "id": "59pIcPR1bHTR",
        "colab_type": "code",
        "colab": {
          "base_uri": "https://localhost:8080/",
          "height": 1000
        },
        "outputId": "473929dd-4fbb-4e96-9c54-d669bd510d4b"
      },
      "source": [
        "# using !curl to inspect data from NOAA website\n",
        "!curl https://www1.ncdc.noaa.gov/pub/data/cdo/samples/NORMAL_DLY_sample_csv.csv"
      ],
      "execution_count": 3,
      "outputs": [
        {
          "output_type": "stream",
          "text": [
            "STATION,STATION_NAME,ELEVATION,LATITUDE,LONGITUDE,DATE,DLY-TMIN-NORMAL,DLY-TMAX-NORMAL,MTD-PRCP-NORMAL\n",
            "GHCND:USC00327027,PETERSBURG 2 N ND US,466.3,48.0355,-98.01,20100101,-33,145,2\n",
            "GHCND:USC00327027,PETERSBURG 2 N ND US,466.3,48.0355,-98.01,20100102,-35,144,4\n",
            "GHCND:USC00327027,PETERSBURG 2 N ND US,466.3,48.0355,-98.01,20100103,-36,143,5\n",
            "GHCND:USC00327027,PETERSBURG 2 N ND US,466.3,48.0355,-98.01,20100104,-38,142,7\n",
            "GHCND:USC00327027,PETERSBURG 2 N ND US,466.3,48.0355,-98.01,20100105,-39,141,9\n",
            "GHCND:USC00327027,PETERSBURG 2 N ND US,466.3,48.0355,-98.01,20100106,-41,140,10\n",
            "GHCND:USC00327027,PETERSBURG 2 N ND US,466.3,48.0355,-98.01,20100107,-42,140,12\n",
            "GHCND:USC00327027,PETERSBURG 2 N ND US,466.3,48.0355,-98.01,20100108,-43,139,13\n",
            "GHCND:USC00327027,PETERSBURG 2 N ND US,466.3,48.0355,-98.01,20100109,-44,139,15\n",
            "GHCND:USC00327027,PETERSBURG 2 N ND US,466.3,48.0355,-98.01,20100110,-45,139,17\n",
            "GHCND:USC00327027,PETERSBURG 2 N ND US,466.3,48.0355,-98.01,20100111,-45,138,19\n",
            "GHCND:USC00327027,PETERSBURG 2 N ND US,466.3,48.0355,-98.01,20100112,-46,139,21\n",
            "GHCND:USC00327027,PETERSBURG 2 N ND US,466.3,48.0355,-98.01,20100113,-47,139,23\n",
            "GHCND:USC00327027,PETERSBURG 2 N ND US,466.3,48.0355,-98.01,20100114,-47,139,25\n",
            "GHCND:USC00327027,PETERSBURG 2 N ND US,466.3,48.0355,-98.01,20100115,-47,140,27\n",
            "GHCND:USC00327027,PETERSBURG 2 N ND US,466.3,48.0355,-98.01,20100116,-47,140,30\n",
            "GHCND:USC00327027,PETERSBURG 2 N ND US,466.3,48.0355,-98.01,20100117,-48,141,32\n",
            "GHCND:USC00327027,PETERSBURG 2 N ND US,466.3,48.0355,-98.01,20100118,-48,142,34\n",
            "GHCND:USC00327027,PETERSBURG 2 N ND US,466.3,48.0355,-98.01,20100119,-47,143,35\n",
            "GHCND:USC00327027,PETERSBURG 2 N ND US,466.3,48.0355,-98.01,20100120,-47,144,37\n",
            "GHCND:USC00327027,PETERSBURG 2 N ND US,466.3,48.0355,-98.01,20100121,-47,145,39\n",
            "GHCND:USC00327027,PETERSBURG 2 N ND US,466.3,48.0355,-98.01,20100122,-46,146,41\n",
            "GHCND:USC00327027,PETERSBURG 2 N ND US,466.3,48.0355,-98.01,20100123,-46,148,43\n",
            "GHCND:USC00327027,PETERSBURG 2 N ND US,466.3,48.0355,-98.01,20100124,-45,149,44\n",
            "GHCND:USC00327027,PETERSBURG 2 N ND US,466.3,48.0355,-98.01,20100125,-44,151,46\n",
            "GHCND:USC00327027,PETERSBURG 2 N ND US,466.3,48.0355,-98.01,20100126,-43,152,47\n",
            "GHCND:USC00327027,PETERSBURG 2 N ND US,466.3,48.0355,-98.01,20100127,-42,154,49\n",
            "GHCND:USC00327027,PETERSBURG 2 N ND US,466.3,48.0355,-98.01,20100128,-41,156,50\n",
            "GHCND:USC00327027,PETERSBURG 2 N ND US,466.3,48.0355,-98.01,20100129,-40,158,52\n",
            "GHCND:USC00327027,PETERSBURG 2 N ND US,466.3,48.0355,-98.01,20100130,-38,160,54\n",
            "GHCND:USC00327027,PETERSBURG 2 N ND US,466.3,48.0355,-98.01,20100131,-37,162,55\n",
            "GHCND:USC00327027,PETERSBURG 2 N ND US,466.3,48.0355,-98.01,20100201,-35,164,1\n",
            "GHCND:USC00327027,PETERSBURG 2 N ND US,466.3,48.0355,-98.01,20100202,-33,166,3\n",
            "GHCND:USC00327027,PETERSBURG 2 N ND US,466.3,48.0355,-98.01,20100203,-31,169,4\n",
            "GHCND:USC00327027,PETERSBURG 2 N ND US,466.3,48.0355,-98.01,20100204,-29,171,6\n",
            "GHCND:USC00327027,PETERSBURG 2 N ND US,466.3,48.0355,-98.01,20100205,-27,173,7\n",
            "GHCND:USC00327027,PETERSBURG 2 N ND US,466.3,48.0355,-98.01,20100206,-25,176,8\n",
            "GHCND:USC00327027,PETERSBURG 2 N ND US,466.3,48.0355,-98.01,20100207,-22,178,10\n",
            "GHCND:USC00327027,PETERSBURG 2 N ND US,466.3,48.0355,-98.01,20100208,-20,181,11\n",
            "GHCND:USC00327027,PETERSBURG 2 N ND US,466.3,48.0355,-98.01,20100209,-17,183,12\n",
            "GHCND:USC00327027,PETERSBURG 2 N ND US,466.3,48.0355,-98.01,20100210,-14,186,13\n",
            "GHCND:USC00327027,PETERSBURG 2 N ND US,466.3,48.0355,-98.01,20100211,-11,188,15\n",
            "GHCND:USC00327027,PETERSBURG 2 N ND US,466.3,48.0355,-98.01,20100212,-8,191,16\n",
            "GHCND:USC00327027,PETERSBURG 2 N ND US,466.3,48.0355,-98.01,20100213,-5,194,18\n",
            "GHCND:USC00327027,PETERSBURG 2 N ND US,466.3,48.0355,-98.01,20100214,-1,196,19\n",
            "GHCND:USC00327027,PETERSBURG 2 N ND US,466.3,48.0355,-98.01,20100215,2,199,21\n",
            "GHCND:USC00327027,PETERSBURG 2 N ND US,466.3,48.0355,-98.01,20100216,6,202,22\n",
            "GHCND:USC00327027,PETERSBURG 2 N ND US,466.3,48.0355,-98.01,20100217,9,205,24\n",
            "GHCND:USC00327027,PETERSBURG 2 N ND US,466.3,48.0355,-98.01,20100218,13,207,25\n",
            "GHCND:USC00327027,PETERSBURG 2 N ND US,466.3,48.0355,-98.01,20100219,17,210,27\n",
            "GHCND:USC00327027,PETERSBURG 2 N ND US,466.3,48.0355,-98.01,20100220,21,213,29\n",
            "GHCND:USC00327027,PETERSBURG 2 N ND US,466.3,48.0355,-98.01,20100221,25,216,31\n",
            "GHCND:USC00327027,PETERSBURG 2 N ND US,466.3,48.0355,-98.01,20100222,29,219,32\n",
            "GHCND:USC00327027,PETERSBURG 2 N ND US,466.3,48.0355,-98.01,20100223,33,223,34\n",
            "GHCND:USC00327027,PETERSBURG 2 N ND US,466.3,48.0355,-98.01,20100224,38,226,36\n",
            "GHCND:USC00327027,PETERSBURG 2 N ND US,466.3,48.0355,-98.01,20100225,42,229,38\n",
            "GHCND:USC00327027,PETERSBURG 2 N ND US,466.3,48.0355,-98.01,20100226,47,232,40\n",
            "GHCND:USC00327027,PETERSBURG 2 N ND US,466.3,48.0355,-98.01,20100227,52,236,42\n",
            "GHCND:USC00327027,PETERSBURG 2 N ND US,466.3,48.0355,-98.01,20100228,56,239,44\n",
            "GHCND:USC00327027,PETERSBURG 2 N ND US,466.3,48.0355,-98.01,20100301,61,243,2\n",
            "GHCND:USC00327027,PETERSBURG 2 N ND US,466.3,48.0355,-98.01,20100302,66,247,4\n",
            "GHCND:USC00327027,PETERSBURG 2 N ND US,466.3,48.0355,-98.01,20100303,71,251,7\n",
            "GHCND:USC00327027,PETERSBURG 2 N ND US,466.3,48.0355,-98.01,20100304,76,254,9\n",
            "GHCND:USC00327027,PETERSBURG 2 N ND US,466.3,48.0355,-98.01,20100305,81,259,11\n",
            "GHCND:USC00327027,PETERSBURG 2 N ND US,466.3,48.0355,-98.01,20100306,86,263,13\n",
            "GHCND:USC00327027,PETERSBURG 2 N ND US,466.3,48.0355,-98.01,20100307,91,267,15\n",
            "GHCND:USC00327027,PETERSBURG 2 N ND US,466.3,48.0355,-98.01,20100308,97,272,18\n",
            "GHCND:USC00327027,PETERSBURG 2 N ND US,466.3,48.0355,-98.01,20100309,102,276,20\n",
            "GHCND:USC00327027,PETERSBURG 2 N ND US,466.3,48.0355,-98.01,20100310,107,281,22\n",
            "GHCND:USC00327027,PETERSBURG 2 N ND US,466.3,48.0355,-98.01,20100311,112,286,24\n",
            "GHCND:USC00327027,PETERSBURG 2 N ND US,466.3,48.0355,-98.01,20100312,118,291,26\n",
            "GHCND:USC00327027,PETERSBURG 2 N ND US,466.3,48.0355,-98.01,20100313,123,296,28\n",
            "GHCND:USC00327027,PETERSBURG 2 N ND US,466.3,48.0355,-98.01,20100314,129,301,30\n",
            "GHCND:USC00327027,PETERSBURG 2 N ND US,466.3,48.0355,-98.01,20100315,134,307,32\n",
            "GHCND:USC00327027,PETERSBURG 2 N ND US,466.3,48.0355,-98.01,20100316,140,313,35\n",
            "GHCND:USC00327027,PETERSBURG 2 N ND US,466.3,48.0355,-98.01,20100317,145,318,37\n",
            "GHCND:USC00327027,PETERSBURG 2 N ND US,466.3,48.0355,-98.01,20100318,151,324,39\n",
            "GHCND:USC00327027,PETERSBURG 2 N ND US,466.3,48.0355,-98.01,20100319,156,330,42\n",
            "GHCND:USC00327027,PETERSBURG 2 N ND US,466.3,48.0355,-98.01,20100320,161,336,45\n",
            "GHCND:USC00327027,PETERSBURG 2 N ND US,466.3,48.0355,-98.01,20100321,167,343,47\n",
            "GHCND:USC00327027,PETERSBURG 2 N ND US,466.3,48.0355,-98.01,20100322,172,349,50\n",
            "GHCND:USC00327027,PETERSBURG 2 N ND US,466.3,48.0355,-98.01,20100323,178,356,52\n",
            "GHCND:USC00327027,PETERSBURG 2 N ND US,466.3,48.0355,-98.01,20100324,183,363,55\n",
            "GHCND:USC00327027,PETERSBURG 2 N ND US,466.3,48.0355,-98.01,20100325,189,369,57\n",
            "GHCND:USC00327027,PETERSBURG 2 N ND US,466.3,48.0355,-98.01,20100326,194,376,60\n",
            "GHCND:USC00327027,PETERSBURG 2 N ND US,466.3,48.0355,-98.01,20100327,199,383,62\n",
            "GHCND:USC00327027,PETERSBURG 2 N ND US,466.3,48.0355,-98.01,20100328,205,390,64\n",
            "GHCND:USC00327027,PETERSBURG 2 N ND US,466.3,48.0355,-98.01,20100329,210,397,67\n",
            "GHCND:USC00327027,PETERSBURG 2 N ND US,466.3,48.0355,-98.01,20100330,215,405,69\n",
            "GHCND:USC00327027,PETERSBURG 2 N ND US,466.3,48.0355,-98.01,20100331,221,412,72\n",
            "GHCND:USC00327027,PETERSBURG 2 N ND US,466.3,48.0355,-98.01,20100401,226,419,2\n",
            "GHCND:USC00327027,PETERSBURG 2 N ND US,466.3,48.0355,-98.01,20100402,231,426,5\n",
            "GHCND:USC00327027,PETERSBURG 2 N ND US,466.3,48.0355,-98.01,20100403,236,434,7\n",
            "GHCND:USC00327027,PETERSBURG 2 N ND US,466.3,48.0355,-98.01,20100404,241,441,10\n",
            "GHCND:USC00327027,PETERSBURG 2 N ND US,466.3,48.0355,-98.01,20100405,246,448,12\n",
            "GHCND:USC00327027,PETERSBURG 2 N ND US,466.3,48.0355,-98.01,20100406,251,456,15\n",
            "GHCND:USC00327027,PETERSBURG 2 N ND US,466.3,48.0355,-98.01,20100407,256,463,18\n",
            "GHCND:USC00327027,PETERSBURG 2 N ND US,466.3,48.0355,-98.01,20100408,261,470,20\n",
            "GHCND:USC00327027,PETERSBURG 2 N ND US,466.3,48.0355,-98.01,20100409,266,477,23\n",
            "GHCND:USC00327027,PETERSBURG 2 N ND US,466.3,48.0355,-98.01,20100410,270,484,25\n",
            "GHCND:USC00327027,PETERSBURG 2 N ND US,466.3,48.0355,-98.01,20100411,275,491,28\n",
            "GHCND:USC00327027,PETERSBURG 2 N ND US,466.3,48.0355,-98.01,20100412,280,498,30\n",
            "GHCND:USC00327027,PETERSBURG 2 N ND US,466.3,48.0355,-98.01,20100413,284,505,33\n",
            "GHCND:USC00327027,PETERSBURG 2 N ND US,466.3,48.0355,-98.01,20100414,289,512,36\n",
            "GHCND:USC00327027,PETERSBURG 2 N ND US,466.3,48.0355,-98.01,20100415,294,518,38\n",
            "GHCND:USC00327027,PETERSBURG 2 N ND US,466.3,48.0355,-98.01,20100416,298,525,41\n",
            "GHCND:USC00327027,PETERSBURG 2 N ND US,466.3,48.0355,-98.01,20100417,302,531,44\n",
            "GHCND:USC00327027,PETERSBURG 2 N ND US,466.3,48.0355,-98.01,20100418,307,537,47\n",
            "GHCND:USC00327027,PETERSBURG 2 N ND US,466.3,48.0355,-98.01,20100419,311,543,50\n",
            "GHCND:USC00327027,PETERSBURG 2 N ND US,466.3,48.0355,-98.01,20100420,315,549,53\n",
            "GHCND:USC00327027,PETERSBURG 2 N ND US,466.3,48.0355,-98.01,20100421,320,555,56\n",
            "GHCND:USC00327027,PETERSBURG 2 N ND US,466.3,48.0355,-98.01,20100422,324,560,60\n",
            "GHCND:USC00327027,PETERSBURG 2 N ND US,466.3,48.0355,-98.01,20100423,328,566,64\n",
            "GHCND:USC00327027,PETERSBURG 2 N ND US,466.3,48.0355,-98.01,20100424,332,571,68\n",
            "GHCND:USC00327027,PETERSBURG 2 N ND US,466.3,48.0355,-98.01,20100425,336,576,73\n",
            "GHCND:USC00327027,PETERSBURG 2 N ND US,466.3,48.0355,-98.01,20100426,340,581,77\n",
            "GHCND:USC00327027,PETERSBURG 2 N ND US,466.3,48.0355,-98.01,20100427,344,586,82\n",
            "GHCND:USC00327027,PETERSBURG 2 N ND US,466.3,48.0355,-98.01,20100428,348,591,88\n",
            "GHCND:USC00327027,PETERSBURG 2 N ND US,466.3,48.0355,-98.01,20100429,352,596,93\n",
            "GHCND:USC00327027,PETERSBURG 2 N ND US,466.3,48.0355,-98.01,20100430,356,600,98\n",
            "GHCND:USC00327027,PETERSBURG 2 N ND US,466.3,48.0355,-98.01,20100501,360,604,6\n",
            "GHCND:USC00327027,PETERSBURG 2 N ND US,466.3,48.0355,-98.01,20100502,364,609,12\n",
            "GHCND:USC00327027,PETERSBURG 2 N ND US,466.3,48.0355,-98.01,20100503,368,613,18\n",
            "GHCND:USC00327027,PETERSBURG 2 N ND US,466.3,48.0355,-98.01,20100504,371,617,24\n",
            "GHCND:USC00327027,PETERSBURG 2 N ND US,466.3,48.0355,-98.01,20100505,375,620,30\n",
            "GHCND:USC00327027,PETERSBURG 2 N ND US,466.3,48.0355,-98.01,20100506,379,624,37\n",
            "GHCND:USC00327027,PETERSBURG 2 N ND US,466.3,48.0355,-98.01,20100507,383,628,44\n",
            "GHCND:USC00327027,PETERSBURG 2 N ND US,466.3,48.0355,-98.01,20100508,387,631,51\n",
            "GHCND:USC00327027,PETERSBURG 2 N ND US,466.3,48.0355,-98.01,20100509,391,635,58\n",
            "GHCND:USC00327027,PETERSBURG 2 N ND US,466.3,48.0355,-98.01,20100510,394,638,66\n",
            "GHCND:USC00327027,PETERSBURG 2 N ND US,466.3,48.0355,-98.01,20100511,398,642,74\n",
            "GHCND:USC00327027,PETERSBURG 2 N ND US,466.3,48.0355,-98.01,20100512,402,645,82\n",
            "GHCND:USC00327027,PETERSBURG 2 N ND US,466.3,48.0355,-98.01,20100513,406,648,90\n",
            "GHCND:USC00327027,PETERSBURG 2 N ND US,466.3,48.0355,-98.01,20100514,409,651,98\n",
            "GHCND:USC00327027,PETERSBURG 2 N ND US,466.3,48.0355,-98.01,20100515,413,654,105\n",
            "GHCND:USC00327027,PETERSBURG 2 N ND US,466.3,48.0355,-98.01,20100516,417,657,113\n",
            "GHCND:USC00327027,PETERSBURG 2 N ND US,466.3,48.0355,-98.01,20100517,421,660,122\n",
            "GHCND:USC00327027,PETERSBURG 2 N ND US,466.3,48.0355,-98.01,20100518,425,663,131\n",
            "GHCND:USC00327027,PETERSBURG 2 N ND US,466.3,48.0355,-98.01,20100519,428,666,139\n",
            "GHCND:USC00327027,PETERSBURG 2 N ND US,466.3,48.0355,-98.01,20100520,432,669,148\n",
            "GHCND:USC00327027,PETERSBURG 2 N ND US,466.3,48.0355,-98.01,20100521,436,672,156\n",
            "GHCND:USC00327027,PETERSBURG 2 N ND US,466.3,48.0355,-98.01,20100522,440,675,165\n",
            "GHCND:USC00327027,PETERSBURG 2 N ND US,466.3,48.0355,-98.01,20100523,444,678,173\n",
            "GHCND:USC00327027,PETERSBURG 2 N ND US,466.3,48.0355,-98.01,20100524,447,681,182\n",
            "GHCND:USC00327027,PETERSBURG 2 N ND US,466.3,48.0355,-98.01,20100525,451,684,191\n",
            "GHCND:USC00327027,PETERSBURG 2 N ND US,466.3,48.0355,-98.01,20100526,455,687,200\n",
            "GHCND:USC00327027,PETERSBURG 2 N ND US,466.3,48.0355,-98.01,20100527,459,690,209\n",
            "GHCND:USC00327027,PETERSBURG 2 N ND US,466.3,48.0355,-98.01,20100528,462,693,218\n",
            "GHCND:USC00327027,PETERSBURG 2 N ND US,466.3,48.0355,-98.01,20100529,466,696,228\n",
            "GHCND:USC00327027,PETERSBURG 2 N ND US,466.3,48.0355,-98.01,20100530,470,699,238\n",
            "GHCND:USC00327027,PETERSBURG 2 N ND US,466.3,48.0355,-98.01,20100531,473,702,249\n",
            "GHCND:USC00327027,PETERSBURG 2 N ND US,466.3,48.0355,-98.01,20100601,477,705,11\n",
            "GHCND:USC00327027,PETERSBURG 2 N ND US,466.3,48.0355,-98.01,20100602,481,708,22\n",
            "GHCND:USC00327027,PETERSBURG 2 N ND US,466.3,48.0355,-98.01,20100603,484,711,33\n",
            "GHCND:USC00327027,PETERSBURG 2 N ND US,466.3,48.0355,-98.01,20100604,488,714,45\n",
            "GHCND:USC00327027,PETERSBURG 2 N ND US,466.3,48.0355,-98.01,20100605,491,717,56\n",
            "GHCND:USC00327027,PETERSBURG 2 N ND US,466.3,48.0355,-98.01,20100606,495,719,67\n",
            "GHCND:USC00327027,PETERSBURG 2 N ND US,466.3,48.0355,-98.01,20100607,498,722,79\n",
            "GHCND:USC00327027,PETERSBURG 2 N ND US,466.3,48.0355,-98.01,20100608,501,725,90\n",
            "GHCND:USC00327027,PETERSBURG 2 N ND US,466.3,48.0355,-98.01,20100609,505,728,102\n",
            "GHCND:USC00327027,PETERSBURG 2 N ND US,466.3,48.0355,-98.01,20100610,508,731,114\n",
            "GHCND:USC00327027,PETERSBURG 2 N ND US,466.3,48.0355,-98.01,20100611,511,733,126\n",
            "GHCND:USC00327027,PETERSBURG 2 N ND US,466.3,48.0355,-98.01,20100612,514,736,138\n",
            "GHCND:USC00327027,PETERSBURG 2 N ND US,466.3,48.0355,-98.01,20100613,517,739,151\n",
            "GHCND:USC00327027,PETERSBURG 2 N ND US,466.3,48.0355,-98.01,20100614,520,741,165\n",
            "GHCND:USC00327027,PETERSBURG 2 N ND US,466.3,48.0355,-98.01,20100615,523,744,177\n",
            "GHCND:USC00327027,PETERSBURG 2 N ND US,466.3,48.0355,-98.01,20100616,525,746,190\n",
            "GHCND:USC00327027,PETERSBURG 2 N ND US,466.3,48.0355,-98.01,20100617,528,749,204\n",
            "GHCND:USC00327027,PETERSBURG 2 N ND US,466.3,48.0355,-98.01,20100618,531,751,217\n",
            "GHCND:USC00327027,PETERSBURG 2 N ND US,466.3,48.0355,-98.01,20100619,533,753,231\n",
            "GHCND:USC00327027,PETERSBURG 2 N ND US,466.3,48.0355,-98.01,20100620,536,756,244\n",
            "GHCND:USC00327027,PETERSBURG 2 N ND US,466.3,48.0355,-98.01,20100621,538,758,258\n",
            "GHCND:USC00327027,PETERSBURG 2 N ND US,466.3,48.0355,-98.01,20100622,540,760,271\n",
            "GHCND:USC00327027,PETERSBURG 2 N ND US,466.3,48.0355,-98.01,20100623,542,762,284\n",
            "GHCND:USC00327027,PETERSBURG 2 N ND US,466.3,48.0355,-98.01,20100624,544,764,298\n",
            "GHCND:USC00327027,PETERSBURG 2 N ND US,466.3,48.0355,-98.01,20100625,546,766,311\n",
            "GHCND:USC00327027,PETERSBURG 2 N ND US,466.3,48.0355,-98.01,20100626,548,768,324\n",
            "GHCND:USC00327027,PETERSBURG 2 N ND US,466.3,48.0355,-98.01,20100627,549,769,338\n",
            "GHCND:USC00327027,PETERSBURG 2 N ND US,466.3,48.0355,-98.01,20100628,551,771,351\n",
            "GHCND:USC00327027,PETERSBURG 2 N ND US,466.3,48.0355,-98.01,20100629,553,773,363\n",
            "GHCND:USC00327027,PETERSBURG 2 N ND US,466.3,48.0355,-98.01,20100630,554,774,376\n",
            "GHCND:USC00327027,PETERSBURG 2 N ND US,466.3,48.0355,-98.01,20100701,555,776,12\n",
            "GHCND:USC00327027,PETERSBURG 2 N ND US,466.3,48.0355,-98.01,20100702,557,778,24\n",
            "GHCND:USC00327027,PETERSBURG 2 N ND US,466.3,48.0355,-98.01,20100703,558,779,37\n",
            "GHCND:USC00327027,PETERSBURG 2 N ND US,466.3,48.0355,-98.01,20100704,559,780,49\n",
            "GHCND:USC00327027,PETERSBURG 2 N ND US,466.3,48.0355,-98.01,20100705,560,782,61\n",
            "GHCND:USC00327027,PETERSBURG 2 N ND US,466.3,48.0355,-98.01,20100706,561,783,73\n",
            "GHCND:USC00327027,PETERSBURG 2 N ND US,466.3,48.0355,-98.01,20100707,562,784,85\n",
            "GHCND:USC00327027,PETERSBURG 2 N ND US,466.3,48.0355,-98.01,20100708,562,786,97\n",
            "GHCND:USC00327027,PETERSBURG 2 N ND US,466.3,48.0355,-98.01,20100709,563,787,109\n",
            "GHCND:USC00327027,PETERSBURG 2 N ND US,466.3,48.0355,-98.01,20100710,564,788,121\n",
            "GHCND:USC00327027,PETERSBURG 2 N ND US,466.3,48.0355,-98.01,20100711,564,789,131\n",
            "GHCND:USC00327027,PETERSBURG 2 N ND US,466.3,48.0355,-98.01,20100712,565,790,142\n",
            "GHCND:USC00327027,PETERSBURG 2 N ND US,466.3,48.0355,-98.01,20100713,565,791,153\n",
            "GHCND:USC00327027,PETERSBURG 2 N ND US,466.3,48.0355,-98.01,20100714,566,792,163\n",
            "GHCND:USC00327027,PETERSBURG 2 N ND US,466.3,48.0355,-98.01,20100715,566,793,174\n",
            "GHCND:USC00327027,PETERSBURG 2 N ND US,466.3,48.0355,-98.01,20100716,566,794,184\n",
            "GHCND:USC00327027,PETERSBURG 2 N ND US,466.3,48.0355,-98.01,20100717,566,795,194\n",
            "GHCND:USC00327027,PETERSBURG 2 N ND US,466.3,48.0355,-98.01,20100718,567,796,203\n",
            "GHCND:USC00327027,PETERSBURG 2 N ND US,466.3,48.0355,-98.01,20100719,567,797,213\n",
            "GHCND:USC00327027,PETERSBURG 2 N ND US,466.3,48.0355,-98.01,20100720,567,798,223\n",
            "GHCND:USC00327027,PETERSBURG 2 N ND US,466.3,48.0355,-98.01,20100721,567,799,233\n",
            "GHCND:USC00327027,PETERSBURG 2 N ND US,466.3,48.0355,-98.01,20100722,567,800,243\n",
            "GHCND:USC00327027,PETERSBURG 2 N ND US,466.3,48.0355,-98.01,20100723,567,800,252\n",
            "GHCND:USC00327027,PETERSBURG 2 N ND US,466.3,48.0355,-98.01,20100724,567,801,261\n",
            "GHCND:USC00327027,PETERSBURG 2 N ND US,466.3,48.0355,-98.01,20100725,566,802,270\n",
            "GHCND:USC00327027,PETERSBURG 2 N ND US,466.3,48.0355,-98.01,20100726,566,802,279\n",
            "GHCND:USC00327027,PETERSBURG 2 N ND US,466.3,48.0355,-98.01,20100727,566,803,287\n",
            "GHCND:USC00327027,PETERSBURG 2 N ND US,466.3,48.0355,-98.01,20100728,566,803,296\n",
            "GHCND:USC00327027,PETERSBURG 2 N ND US,466.3,48.0355,-98.01,20100729,565,804,304\n",
            "GHCND:USC00327027,PETERSBURG 2 N ND US,466.3,48.0355,-98.01,20100730,565,804,313\n",
            "GHCND:USC00327027,PETERSBURG 2 N ND US,466.3,48.0355,-98.01,20100731,564,805,322\n",
            "GHCND:USC00327027,PETERSBURG 2 N ND US,466.3,48.0355,-98.01,20100801,564,805,9\n",
            "GHCND:USC00327027,PETERSBURG 2 N ND US,466.3,48.0355,-98.01,20100802,563,805,18\n",
            "GHCND:USC00327027,PETERSBURG 2 N ND US,466.3,48.0355,-98.01,20100803,563,805,27\n",
            "GHCND:USC00327027,PETERSBURG 2 N ND US,466.3,48.0355,-98.01,20100804,562,805,36\n",
            "GHCND:USC00327027,PETERSBURG 2 N ND US,466.3,48.0355,-98.01,20100805,561,805,45\n",
            "GHCND:USC00327027,PETERSBURG 2 N ND US,466.3,48.0355,-98.01,20100806,560,804,53\n",
            "GHCND:USC00327027,PETERSBURG 2 N ND US,466.3,48.0355,-98.01,20100807,559,804,62\n",
            "GHCND:USC00327027,PETERSBURG 2 N ND US,466.3,48.0355,-98.01,20100808,558,804,70\n",
            "GHCND:USC00327027,PETERSBURG 2 N ND US,466.3,48.0355,-98.01,20100809,557,803,79\n",
            "GHCND:USC00327027,PETERSBURG 2 N ND US,466.3,48.0355,-98.01,20100810,556,802,88\n",
            "GHCND:USC00327027,PETERSBURG 2 N ND US,466.3,48.0355,-98.01,20100811,555,801,98\n",
            "GHCND:USC00327027,PETERSBURG 2 N ND US,466.3,48.0355,-98.01,20100812,553,800,107\n",
            "GHCND:USC00327027,PETERSBURG 2 N ND US,466.3,48.0355,-98.01,20100813,552,799,116\n",
            "GHCND:USC00327027,PETERSBURG 2 N ND US,466.3,48.0355,-98.01,20100814,550,798,125\n",
            "GHCND:USC00327027,PETERSBURG 2 N ND US,466.3,48.0355,-98.01,20100815,548,796,134\n",
            "GHCND:USC00327027,PETERSBURG 2 N ND US,466.3,48.0355,-98.01,20100816,546,795,143\n",
            "GHCND:USC00327027,PETERSBURG 2 N ND US,466.3,48.0355,-98.01,20100817,544,793,152\n",
            "GHCND:USC00327027,PETERSBURG 2 N ND US,466.3,48.0355,-98.01,20100818,542,791,161\n",
            "GHCND:USC00327027,PETERSBURG 2 N ND US,466.3,48.0355,-98.01,20100819,540,789,170\n",
            "GHCND:USC00327027,PETERSBURG 2 N ND US,466.3,48.0355,-98.01,20100820,538,787,179\n",
            "GHCND:USC00327027,PETERSBURG 2 N ND US,466.3,48.0355,-98.01,20100821,535,784,188\n",
            "GHCND:USC00327027,PETERSBURG 2 N ND US,466.3,48.0355,-98.01,20100822,533,782,197\n",
            "GHCND:USC00327027,PETERSBURG 2 N ND US,466.3,48.0355,-98.01,20100823,530,779,206\n",
            "GHCND:USC00327027,PETERSBURG 2 N ND US,466.3,48.0355,-98.01,20100824,527,777,216\n",
            "GHCND:USC00327027,PETERSBURG 2 N ND US,466.3,48.0355,-98.01,20100825,524,774,225\n",
            "GHCND:USC00327027,PETERSBURG 2 N ND US,466.3,48.0355,-98.01,20100826,521,770,234\n",
            "GHCND:USC00327027,PETERSBURG 2 N ND US,466.3,48.0355,-98.01,20100827,518,767,242\n",
            "GHCND:USC00327027,PETERSBURG 2 N ND US,466.3,48.0355,-98.01,20100828,515,764,250\n",
            "GHCND:USC00327027,PETERSBURG 2 N ND US,466.3,48.0355,-98.01,20100829,511,760,259\n",
            "GHCND:USC00327027,PETERSBURG 2 N ND US,466.3,48.0355,-98.01,20100830,508,757,267\n",
            "GHCND:USC00327027,PETERSBURG 2 N ND US,466.3,48.0355,-98.01,20100831,504,753,275\n",
            "GHCND:USC00327027,PETERSBURG 2 N ND US,466.3,48.0355,-98.01,20100901,501,749,8\n",
            "GHCND:USC00327027,PETERSBURG 2 N ND US,466.3,48.0355,-98.01,20100902,497,745,16\n",
            "GHCND:USC00327027,PETERSBURG 2 N ND US,466.3,48.0355,-98.01,20100903,493,741,23\n",
            "GHCND:USC00327027,PETERSBURG 2 N ND US,466.3,48.0355,-98.01,20100904,489,737,31\n",
            "GHCND:USC00327027,PETERSBURG 2 N ND US,466.3,48.0355,-98.01,20100905,485,733,39\n",
            "GHCND:USC00327027,PETERSBURG 2 N ND US,466.3,48.0355,-98.01,20100906,481,729,46\n",
            "GHCND:USC00327027,PETERSBURG 2 N ND US,466.3,48.0355,-98.01,20100907,476,725,54\n",
            "GHCND:USC00327027,PETERSBURG 2 N ND US,466.3,48.0355,-98.01,20100908,472,720,61\n",
            "GHCND:USC00327027,PETERSBURG 2 N ND US,466.3,48.0355,-98.01,20100909,468,716,68\n",
            "GHCND:USC00327027,PETERSBURG 2 N ND US,466.3,48.0355,-98.01,20100910,463,711,75\n",
            "GHCND:USC00327027,PETERSBURG 2 N ND US,466.3,48.0355,-98.01,20100911,459,707,82\n",
            "GHCND:USC00327027,PETERSBURG 2 N ND US,466.3,48.0355,-98.01,20100912,454,702,89\n",
            "GHCND:USC00327027,PETERSBURG 2 N ND US,466.3,48.0355,-98.01,20100913,450,697,96\n",
            "GHCND:USC00327027,PETERSBURG 2 N ND US,466.3,48.0355,-98.01,20100914,445,693,103\n",
            "GHCND:USC00327027,PETERSBURG 2 N ND US,466.3,48.0355,-98.01,20100915,441,688,109\n",
            "GHCND:USC00327027,PETERSBURG 2 N ND US,466.3,48.0355,-98.01,20100916,436,684,116\n",
            "GHCND:USC00327027,PETERSBURG 2 N ND US,466.3,48.0355,-98.01,20100917,431,679,122\n",
            "GHCND:USC00327027,PETERSBURG 2 N ND US,466.3,48.0355,-98.01,20100918,427,674,129\n",
            "GHCND:USC00327027,PETERSBURG 2 N ND US,466.3,48.0355,-98.01,20100919,422,669,135\n",
            "GHCND:USC00327027,PETERSBURG 2 N ND US,466.3,48.0355,-98.01,20100920,418,665,142\n",
            "GHCND:USC00327027,PETERSBURG 2 N ND US,466.3,48.0355,-98.01,20100921,413,660,148\n",
            "GHCND:USC00327027,PETERSBURG 2 N ND US,466.3,48.0355,-98.01,20100922,409,655,154\n",
            "GHCND:USC00327027,PETERSBURG 2 N ND US,466.3,48.0355,-98.01,20100923,404,650,161\n",
            "GHCND:USC00327027,PETERSBURG 2 N ND US,466.3,48.0355,-98.01,20100924,400,646,168\n",
            "GHCND:USC00327027,PETERSBURG 2 N ND US,466.3,48.0355,-98.01,20100925,395,641,174\n",
            "GHCND:USC00327027,PETERSBURG 2 N ND US,466.3,48.0355,-98.01,20100926,391,636,181\n",
            "GHCND:USC00327027,PETERSBURG 2 N ND US,466.3,48.0355,-98.01,20100927,387,631,188\n",
            "GHCND:USC00327027,PETERSBURG 2 N ND US,466.3,48.0355,-98.01,20100928,382,627,195\n",
            "GHCND:USC00327027,PETERSBURG 2 N ND US,466.3,48.0355,-98.01,20100929,378,622,202\n",
            "GHCND:USC00327027,PETERSBURG 2 N ND US,466.3,48.0355,-98.01,20100930,374,617,208\n",
            "GHCND:USC00327027,PETERSBURG 2 N ND US,466.3,48.0355,-98.01,20101001,370,612,7\n",
            "GHCND:USC00327027,PETERSBURG 2 N ND US,466.3,48.0355,-98.01,20101002,366,607,13\n",
            "GHCND:USC00327027,PETERSBURG 2 N ND US,466.3,48.0355,-98.01,20101003,361,602,20\n",
            "GHCND:USC00327027,PETERSBURG 2 N ND US,466.3,48.0355,-98.01,20101004,357,597,27\n",
            "GHCND:USC00327027,PETERSBURG 2 N ND US,466.3,48.0355,-98.01,20101005,353,592,33\n",
            "GHCND:USC00327027,PETERSBURG 2 N ND US,466.3,48.0355,-98.01,20101006,349,587,40\n",
            "GHCND:USC00327027,PETERSBURG 2 N ND US,466.3,48.0355,-98.01,20101007,346,582,46\n",
            "GHCND:USC00327027,PETERSBURG 2 N ND US,466.3,48.0355,-98.01,20101008,342,577,53\n",
            "GHCND:USC00327027,PETERSBURG 2 N ND US,466.3,48.0355,-98.01,20101009,338,572,58\n",
            "GHCND:USC00327027,PETERSBURG 2 N ND US,466.3,48.0355,-98.01,20101010,334,567,64\n",
            "GHCND:USC00327027,PETERSBURG 2 N ND US,466.3,48.0355,-98.01,20101011,330,562,70\n",
            "GHCND:USC00327027,PETERSBURG 2 N ND US,466.3,48.0355,-98.01,20101012,326,556,76\n",
            "GHCND:USC00327027,PETERSBURG 2 N ND US,466.3,48.0355,-98.01,20101013,322,551,82\n",
            "GHCND:USC00327027,PETERSBURG 2 N ND US,466.3,48.0355,-98.01,20101014,318,545,88\n",
            "GHCND:USC00327027,PETERSBURG 2 N ND US,466.3,48.0355,-98.01,20101015,315,540,94\n",
            "GHCND:USC00327027,PETERSBURG 2 N ND US,466.3,48.0355,-98.01,20101016,311,534,100\n",
            "GHCND:USC00327027,PETERSBURG 2 N ND US,466.3,48.0355,-98.01,20101017,307,528,106\n",
            "GHCND:USC00327027,PETERSBURG 2 N ND US,466.3,48.0355,-98.01,20101018,303,522,112\n",
            "GHCND:USC00327027,PETERSBURG 2 N ND US,466.3,48.0355,-98.01,20101019,299,516,117\n",
            "GHCND:USC00327027,PETERSBURG 2 N ND US,466.3,48.0355,-98.01,20101020,295,511,123\n",
            "GHCND:USC00327027,PETERSBURG 2 N ND US,466.3,48.0355,-98.01,20101021,291,504,128\n",
            "GHCND:USC00327027,PETERSBURG 2 N ND US,466.3,48.0355,-98.01,20101022,287,498,133\n",
            "GHCND:USC00327027,PETERSBURG 2 N ND US,466.3,48.0355,-98.01,20101023,283,492,137\n",
            "GHCND:USC00327027,PETERSBURG 2 N ND US,466.3,48.0355,-98.01,20101024,279,486,141\n",
            "GHCND:USC00327027,PETERSBURG 2 N ND US,466.3,48.0355,-98.01,20101025,274,479,145\n",
            "GHCND:USC00327027,PETERSBURG 2 N ND US,466.3,48.0355,-98.01,20101026,270,473,149\n",
            "GHCND:USC00327027,PETERSBURG 2 N ND US,466.3,48.0355,-98.01,20101027,266,466,154\n",
            "GHCND:USC00327027,PETERSBURG 2 N ND US,466.3,48.0355,-98.01,20101028,261,460,158\n",
            "GHCND:USC00327027,PETERSBURG 2 N ND US,466.3,48.0355,-98.01,20101029,257,453,161\n",
            "GHCND:USC00327027,PETERSBURG 2 N ND US,466.3,48.0355,-98.01,20101030,252,447,165\n",
            "GHCND:USC00327027,PETERSBURG 2 N ND US,466.3,48.0355,-98.01,20101031,248,440,169\n",
            "GHCND:USC00327027,PETERSBURG 2 N ND US,466.3,48.0355,-98.01,20101101,243,433,3\n",
            "GHCND:USC00327027,PETERSBURG 2 N ND US,466.3,48.0355,-98.01,20101102,238,426,6\n",
            "GHCND:USC00327027,PETERSBURG 2 N ND US,466.3,48.0355,-98.01,20101103,233,419,9\n",
            "GHCND:USC00327027,PETERSBURG 2 N ND US,466.3,48.0355,-98.01,20101104,228,413,12\n",
            "GHCND:USC00327027,PETERSBURG 2 N ND US,466.3,48.0355,-98.01,20101105,223,406,15\n",
            "GHCND:USC00327027,PETERSBURG 2 N ND US,466.3,48.0355,-98.01,20101106,218,399,18\n",
            "GHCND:USC00327027,PETERSBURG 2 N ND US,466.3,48.0355,-98.01,20101107,213,392,21\n",
            "GHCND:USC00327027,PETERSBURG 2 N ND US,466.3,48.0355,-98.01,20101108,207,385,24\n",
            "GHCND:USC00327027,PETERSBURG 2 N ND US,466.3,48.0355,-98.01,20101109,202,378,27\n",
            "GHCND:USC00327027,PETERSBURG 2 N ND US,466.3,48.0355,-98.01,20101110,197,371,30\n",
            "GHCND:USC00327027,PETERSBURG 2 N ND US,466.3,48.0355,-98.01,20101111,191,365,32\n",
            "GHCND:USC00327027,PETERSBURG 2 N ND US,466.3,48.0355,-98.01,20101112,186,358,35\n",
            "GHCND:USC00327027,PETERSBURG 2 N ND US,466.3,48.0355,-98.01,20101113,180,351,38\n",
            "GHCND:USC00327027,PETERSBURG 2 N ND US,466.3,48.0355,-98.01,20101114,175,344,41\n",
            "GHCND:USC00327027,PETERSBURG 2 N ND US,466.3,48.0355,-98.01,20101115,169,338,43\n",
            "GHCND:USC00327027,PETERSBURG 2 N ND US,466.3,48.0355,-98.01,20101116,163,331,46\n",
            "GHCND:USC00327027,PETERSBURG 2 N ND US,466.3,48.0355,-98.01,20101117,157,325,49\n",
            "GHCND:USC00327027,PETERSBURG 2 N ND US,466.3,48.0355,-98.01,20101118,152,318,51\n",
            "GHCND:USC00327027,PETERSBURG 2 N ND US,466.3,48.0355,-98.01,20101119,146,312,54\n",
            "GHCND:USC00327027,PETERSBURG 2 N ND US,466.3,48.0355,-98.01,20101120,140,306,57\n",
            "GHCND:USC00327027,PETERSBURG 2 N ND US,466.3,48.0355,-98.01,20101121,134,300,60\n",
            "GHCND:USC00327027,PETERSBURG 2 N ND US,466.3,48.0355,-98.01,20101122,129,294,62\n",
            "GHCND:USC00327027,PETERSBURG 2 N ND US,466.3,48.0355,-98.01,20101123,123,288,65\n",
            "GHCND:USC00327027,PETERSBURG 2 N ND US,466.3,48.0355,-98.01,20101124,117,282,67\n",
            "GHCND:USC00327027,PETERSBURG 2 N ND US,466.3,48.0355,-98.01,20101125,112,276,70\n",
            "GHCND:USC00327027,PETERSBURG 2 N ND US,466.3,48.0355,-98.01,20101126,106,271,72\n",
            "GHCND:USC00327027,PETERSBURG 2 N ND US,466.3,48.0355,-98.01,20101127,100,265,74\n",
            "GHCND:USC00327027,PETERSBURG 2 N ND US,466.3,48.0355,-98.01,20101128,95,260,77\n",
            "GHCND:USC00327027,PETERSBURG 2 N ND US,466.3,48.0355,-98.01,20101129,89,254,79\n",
            "GHCND:USC00327027,PETERSBURG 2 N ND US,466.3,48.0355,-98.01,20101130,84,249,81\n",
            "GHCND:USC00327027,PETERSBURG 2 N ND US,466.3,48.0355,-98.01,20101201,78,244,3\n",
            "GHCND:USC00327027,PETERSBURG 2 N ND US,466.3,48.0355,-98.01,20101202,73,239,5\n",
            "GHCND:USC00327027,PETERSBURG 2 N ND US,466.3,48.0355,-98.01,20101203,68,234,8\n",
            "GHCND:USC00327027,PETERSBURG 2 N ND US,466.3,48.0355,-98.01,20101204,63,230,11\n",
            "GHCND:USC00327027,PETERSBURG 2 N ND US,466.3,48.0355,-98.01,20101205,58,225,13\n",
            "GHCND:USC00327027,PETERSBURG 2 N ND US,466.3,48.0355,-98.01,20101206,53,221,16\n",
            "GHCND:USC00327027,PETERSBURG 2 N ND US,466.3,48.0355,-98.01,20101207,48,216,19\n",
            "GHCND:USC00327027,PETERSBURG 2 N ND US,466.3,48.0355,-98.01,20101208,44,212,22\n",
            "GHCND:USC00327027,PETERSBURG 2 N ND US,466.3,48.0355,-98.01,20101209,39,208,24\n",
            "GHCND:USC00327027,PETERSBURG 2 N ND US,466.3,48.0355,-98.01,20101210,34,204,27\n",
            "GHCND:USC00327027,PETERSBURG 2 N ND US,466.3,48.0355,-98.01,20101211,30,200,30\n",
            "GHCND:USC00327027,PETERSBURG 2 N ND US,466.3,48.0355,-98.01,20101212,26,196,32\n",
            "GHCND:USC00327027,PETERSBURG 2 N ND US,466.3,48.0355,-98.01,20101213,22,193,35\n",
            "GHCND:USC00327027,PETERSBURG 2 N ND US,466.3,48.0355,-98.01,20101214,18,189,37\n",
            "GHCND:USC00327027,PETERSBURG 2 N ND US,466.3,48.0355,-98.01,20101215,14,186,39\n",
            "GHCND:USC00327027,PETERSBURG 2 N ND US,466.3,48.0355,-98.01,20101216,10,182,41\n",
            "GHCND:USC00327027,PETERSBURG 2 N ND US,466.3,48.0355,-98.01,20101217,7,179,44\n",
            "GHCND:USC00327027,PETERSBURG 2 N ND US,466.3,48.0355,-98.01,20101218,3,176,46\n",
            "GHCND:USC00327027,PETERSBURG 2 N ND US,466.3,48.0355,-98.01,20101219,0,173,48\n",
            "GHCND:USC00327027,PETERSBURG 2 N ND US,466.3,48.0355,-98.01,20101220,-4,170,50\n",
            "GHCND:USC00327027,PETERSBURG 2 N ND US,466.3,48.0355,-98.01,20101221,-7,168,52\n",
            "GHCND:USC00327027,PETERSBURG 2 N ND US,466.3,48.0355,-98.01,20101222,-10,165,53\n",
            "GHCND:USC00327027,PETERSBURG 2 N ND US,466.3,48.0355,-98.01,20101223,-13,162,55\n",
            "GHCND:USC00327027,PETERSBURG 2 N ND US,466.3,48.0355,-98.01,20101224,-15,160,58\n",
            "GHCND:USC00327027,PETERSBURG 2 N ND US,466.3,48.0355,-98.01,20101225,-18,158,60\n",
            "GHCND:USC00327027,PETERSBURG 2 N ND US,466.3,48.0355,-98.01,20101226,-21,156,62\n",
            "GHCND:USC00327027,PETERSBURG 2 N ND US,466.3,48.0355,-98.01,20101227,-23,154,64\n",
            "GHCND:USC00327027,PETERSBURG 2 N ND US,466.3,48.0355,-98.01,20101228,-25,152,67\n",
            "GHCND:USC00327027,PETERSBURG 2 N ND US,466.3,48.0355,-98.01,20101229,-27,150,69\n",
            "GHCND:USC00327027,PETERSBURG 2 N ND US,466.3,48.0355,-98.01,20101230,-29,148,71\n",
            "GHCND:USC00327027,PETERSBURG 2 N ND US,466.3,48.0355,-98.01,20101231,-31,147,73\n"
          ],
          "name": "stdout"
        }
      ]
    },
    {
      "cell_type": "code",
      "metadata": {
        "id": "R8OtXGzzcDO0",
        "colab_type": "code",
        "colab": {}
      },
      "source": [
        "# renaming dataframe\n",
        "df = pd.read_csv(normals_data_url)"
      ],
      "execution_count": 0,
      "outputs": []
    },
    {
      "cell_type": "code",
      "metadata": {
        "id": "7RpL98wwcjA1",
        "colab_type": "code",
        "colab": {
          "base_uri": "https://localhost:8080/",
          "height": 195
        },
        "outputId": "132348e7-6d4b-4d68-d3df-eda5b36cc0a7"
      },
      "source": [
        "# inspecting head of public API dataset\n",
        "df.head()"
      ],
      "execution_count": 7,
      "outputs": [
        {
          "output_type": "execute_result",
          "data": {
            "text/html": [
              "<div>\n",
              "<style scoped>\n",
              "    .dataframe tbody tr th:only-of-type {\n",
              "        vertical-align: middle;\n",
              "    }\n",
              "\n",
              "    .dataframe tbody tr th {\n",
              "        vertical-align: top;\n",
              "    }\n",
              "\n",
              "    .dataframe thead th {\n",
              "        text-align: right;\n",
              "    }\n",
              "</style>\n",
              "<table border=\"1\" class=\"dataframe\">\n",
              "  <thead>\n",
              "    <tr style=\"text-align: right;\">\n",
              "      <th></th>\n",
              "      <th>STATION</th>\n",
              "      <th>STATION_NAME</th>\n",
              "      <th>ELEVATION</th>\n",
              "      <th>LATITUDE</th>\n",
              "      <th>LONGITUDE</th>\n",
              "      <th>DATE</th>\n",
              "      <th>DLY-TMIN-NORMAL</th>\n",
              "      <th>DLY-TMAX-NORMAL</th>\n",
              "      <th>MTD-PRCP-NORMAL</th>\n",
              "    </tr>\n",
              "  </thead>\n",
              "  <tbody>\n",
              "    <tr>\n",
              "      <th>0</th>\n",
              "      <td>GHCND:USC00327027</td>\n",
              "      <td>PETERSBURG 2 N ND US</td>\n",
              "      <td>466.3</td>\n",
              "      <td>48.0355</td>\n",
              "      <td>-98.01</td>\n",
              "      <td>20100101</td>\n",
              "      <td>-33</td>\n",
              "      <td>145</td>\n",
              "      <td>2</td>\n",
              "    </tr>\n",
              "    <tr>\n",
              "      <th>1</th>\n",
              "      <td>GHCND:USC00327027</td>\n",
              "      <td>PETERSBURG 2 N ND US</td>\n",
              "      <td>466.3</td>\n",
              "      <td>48.0355</td>\n",
              "      <td>-98.01</td>\n",
              "      <td>20100102</td>\n",
              "      <td>-35</td>\n",
              "      <td>144</td>\n",
              "      <td>4</td>\n",
              "    </tr>\n",
              "    <tr>\n",
              "      <th>2</th>\n",
              "      <td>GHCND:USC00327027</td>\n",
              "      <td>PETERSBURG 2 N ND US</td>\n",
              "      <td>466.3</td>\n",
              "      <td>48.0355</td>\n",
              "      <td>-98.01</td>\n",
              "      <td>20100103</td>\n",
              "      <td>-36</td>\n",
              "      <td>143</td>\n",
              "      <td>5</td>\n",
              "    </tr>\n",
              "    <tr>\n",
              "      <th>3</th>\n",
              "      <td>GHCND:USC00327027</td>\n",
              "      <td>PETERSBURG 2 N ND US</td>\n",
              "      <td>466.3</td>\n",
              "      <td>48.0355</td>\n",
              "      <td>-98.01</td>\n",
              "      <td>20100104</td>\n",
              "      <td>-38</td>\n",
              "      <td>142</td>\n",
              "      <td>7</td>\n",
              "    </tr>\n",
              "    <tr>\n",
              "      <th>4</th>\n",
              "      <td>GHCND:USC00327027</td>\n",
              "      <td>PETERSBURG 2 N ND US</td>\n",
              "      <td>466.3</td>\n",
              "      <td>48.0355</td>\n",
              "      <td>-98.01</td>\n",
              "      <td>20100105</td>\n",
              "      <td>-39</td>\n",
              "      <td>141</td>\n",
              "      <td>9</td>\n",
              "    </tr>\n",
              "  </tbody>\n",
              "</table>\n",
              "</div>"
            ],
            "text/plain": [
              "             STATION          STATION_NAME  ...  DLY-TMAX-NORMAL  MTD-PRCP-NORMAL\n",
              "0  GHCND:USC00327027  PETERSBURG 2 N ND US  ...              145                2\n",
              "1  GHCND:USC00327027  PETERSBURG 2 N ND US  ...              144                4\n",
              "2  GHCND:USC00327027  PETERSBURG 2 N ND US  ...              143                5\n",
              "3  GHCND:USC00327027  PETERSBURG 2 N ND US  ...              142                7\n",
              "4  GHCND:USC00327027  PETERSBURG 2 N ND US  ...              141                9\n",
              "\n",
              "[5 rows x 9 columns]"
            ]
          },
          "metadata": {
            "tags": []
          },
          "execution_count": 7
        }
      ]
    }
  ]
}