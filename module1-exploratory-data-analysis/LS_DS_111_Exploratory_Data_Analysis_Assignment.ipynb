{
  "nbformat": 4,
  "nbformat_minor": 0,
  "metadata": {
    "colab": {
      "name": "LS_DS_111_Exploratory_Data_Analysis_Assignment.ipynb",
      "provenance": [],
      "collapsed_sections": []
    },
    "kernelspec": {
      "name": "python3",
      "display_name": "Python 3"
    }
  },
  "cells": [
    {
      "cell_type": "markdown",
      "metadata": {
        "colab_type": "text",
        "id": "MSnsTgZLKO72"
      },
      "source": [
        "# Practice Loading and Exploring Datasets\n",
        "\n",
        "This assignment is purposely open-ended. You will be asked to load datasets from the [UC-Irvine Machine Learning Repository](https://archive.ics.uci.edu/ml/index.php). \n",
        "\n",
        "Even though you maybe using different datasets than your fellow classmates, try and be supportive and assist each other in the challenges that you are facing. You will only deepend your understanding of these topics as you work to assist one another. Many popular UCI datasets face similar data loading challenges.\n",
        "\n",
        "Remember that the UCI datasets do not necessarily have a file type of `.csv` so it's important that you learn as much as you can about the dataset before you try and load it. See if you can look at the raw text of the file either locally or using the `!curl` shell command -or in some other way before you try and read it in as a dataframe. This will help you catch what would otherwise be unforseen problems.\n",
        "\n",
        "Feel free to embellish this notebook with additional markdown cells,code cells, comments, graphs, etc. Whatever you think helps adequately address the questions."
      ]
    },
    {
      "cell_type": "markdown",
      "metadata": {
        "id": "156P6ndeKojO",
        "colab_type": "text"
      },
      "source": [
        "## 1) Load a dataset from UCI (via its URL)\n",
        "\n",
        "Please navigate to the home page and choose a dataset (other than the Adult dataset) from the \"Most Popular\" section on the right-hand side of the home page. Load the dataset via its URL and check the following (show your work):\n",
        "\n",
        "- Are the headers showing up properly?\n",
        "- Look at the first 5 and the last 5 rows, do they seem to be in order?\n",
        "- Does the dataset have the correct number of rows and columns as described in the UCI page? \n",
        " - Remember, that UCI does not count the y variable (column of values that we might want to predict via a machine learning model) as an \"attribute\" but rather as a \"class attribute\" so you may end up seeing a number of columns that is one greater than the number listed on the UCI website.\n",
        "- Does UCI list this dataset as having missing values? Check for missing values and see if your analysis corroborates what UCI reports?\n",
        "- if `NaN` values or other missing value indicators are not being detected by `df.isnull().sum()` find a way to replace whatever is indicating the missing values with `np.NaN`.\n",
        "- Use the .describe() function in order to see the summary statistics of both the numeric and non-numeric columns. "
      ]
    },
    {
      "cell_type": "code",
      "metadata": {
        "id": "NJdISe69ZT7E",
        "colab_type": "code",
        "colab": {}
      },
      "source": [
        "# TODO your work here!\n",
        "# And note you should write comments, descriptions, and add new\n",
        "# code and text blocks as needed\n",
        "import pandas as pd\n",
        "import numpy as np\n"
      ],
      "execution_count": 0,
      "outputs": []
    },
    {
      "cell_type": "code",
      "metadata": {
        "id": "2dO35ES5x_K0",
        "colab_type": "code",
        "colab": {
          "base_uri": "https://localhost:8080/",
          "height": 204
        },
        "outputId": "d4a51075-652f-4329-f0a4-b6d0dcd67f9a"
      },
      "source": [
        "! wget https://archive.ics.uci.edu/ml/machine-learning-databases/00222/bank.zip"
      ],
      "execution_count": 2,
      "outputs": [
        {
          "output_type": "stream",
          "text": [
            "--2020-05-07 01:42:08--  https://archive.ics.uci.edu/ml/machine-learning-databases/00222/bank.zip\n",
            "Resolving archive.ics.uci.edu (archive.ics.uci.edu)... 128.195.10.252\n",
            "Connecting to archive.ics.uci.edu (archive.ics.uci.edu)|128.195.10.252|:443... connected.\n",
            "HTTP request sent, awaiting response... 200 OK\n",
            "Length: 579043 (565K) [application/x-httpd-php]\n",
            "Saving to: ‘bank.zip’\n",
            "\n",
            "\rbank.zip              0%[                    ]       0  --.-KB/s               \rbank.zip            100%[===================>] 565.47K  --.-KB/s    in 0.1s    \n",
            "\n",
            "2020-05-07 01:42:08 (3.76 MB/s) - ‘bank.zip’ saved [579043/579043]\n",
            "\n"
          ],
          "name": "stdout"
        }
      ]
    },
    {
      "cell_type": "code",
      "metadata": {
        "id": "ZE8Uo6hDx_Os",
        "colab_type": "code",
        "colab": {
          "base_uri": "https://localhost:8080/",
          "height": 85
        },
        "outputId": "87cb3fbf-8e65-43f7-c937-73f2bd974411"
      },
      "source": [
        "! unzip bank.zip"
      ],
      "execution_count": 3,
      "outputs": [
        {
          "output_type": "stream",
          "text": [
            "Archive:  bank.zip\n",
            "  inflating: bank-full.csv           \n",
            "  inflating: bank-names.txt          \n",
            "  inflating: bank.csv                \n"
          ],
          "name": "stdout"
        }
      ]
    },
    {
      "cell_type": "code",
      "metadata": {
        "id": "UM8pFBIqx_Ih",
        "colab_type": "code",
        "colab": {}
      },
      "source": [
        "# load the datatset with a ; separator\n",
        "banking = pd.read_csv('bank-full.csv', sep=';')\n",
        "\n"
      ],
      "execution_count": 0,
      "outputs": []
    },
    {
      "cell_type": "code",
      "metadata": {
        "id": "fertcSll0xt2",
        "colab_type": "code",
        "colab": {
          "base_uri": "https://localhost:8080/",
          "height": 204
        },
        "outputId": "ae549a65-bb11-4c5b-d0d2-9f99b797f7f4"
      },
      "source": [
        "banking.head()"
      ],
      "execution_count": 17,
      "outputs": [
        {
          "output_type": "execute_result",
          "data": {
            "text/html": [
              "<div>\n",
              "<style scoped>\n",
              "    .dataframe tbody tr th:only-of-type {\n",
              "        vertical-align: middle;\n",
              "    }\n",
              "\n",
              "    .dataframe tbody tr th {\n",
              "        vertical-align: top;\n",
              "    }\n",
              "\n",
              "    .dataframe thead th {\n",
              "        text-align: right;\n",
              "    }\n",
              "</style>\n",
              "<table border=\"1\" class=\"dataframe\">\n",
              "  <thead>\n",
              "    <tr style=\"text-align: right;\">\n",
              "      <th></th>\n",
              "      <th>age</th>\n",
              "      <th>job</th>\n",
              "      <th>marital</th>\n",
              "      <th>education</th>\n",
              "      <th>default</th>\n",
              "      <th>balance</th>\n",
              "      <th>housing</th>\n",
              "      <th>loan</th>\n",
              "      <th>contact</th>\n",
              "      <th>day</th>\n",
              "      <th>month</th>\n",
              "      <th>duration</th>\n",
              "      <th>campaign</th>\n",
              "      <th>pdays</th>\n",
              "      <th>previous</th>\n",
              "      <th>poutcome</th>\n",
              "      <th>y</th>\n",
              "    </tr>\n",
              "  </thead>\n",
              "  <tbody>\n",
              "    <tr>\n",
              "      <th>0</th>\n",
              "      <td>58</td>\n",
              "      <td>management</td>\n",
              "      <td>married</td>\n",
              "      <td>tertiary</td>\n",
              "      <td>no</td>\n",
              "      <td>2143</td>\n",
              "      <td>yes</td>\n",
              "      <td>no</td>\n",
              "      <td>unknown</td>\n",
              "      <td>5</td>\n",
              "      <td>may</td>\n",
              "      <td>261</td>\n",
              "      <td>1</td>\n",
              "      <td>-1</td>\n",
              "      <td>0</td>\n",
              "      <td>unknown</td>\n",
              "      <td>no</td>\n",
              "    </tr>\n",
              "    <tr>\n",
              "      <th>1</th>\n",
              "      <td>44</td>\n",
              "      <td>technician</td>\n",
              "      <td>single</td>\n",
              "      <td>secondary</td>\n",
              "      <td>no</td>\n",
              "      <td>29</td>\n",
              "      <td>yes</td>\n",
              "      <td>no</td>\n",
              "      <td>unknown</td>\n",
              "      <td>5</td>\n",
              "      <td>may</td>\n",
              "      <td>151</td>\n",
              "      <td>1</td>\n",
              "      <td>-1</td>\n",
              "      <td>0</td>\n",
              "      <td>unknown</td>\n",
              "      <td>no</td>\n",
              "    </tr>\n",
              "    <tr>\n",
              "      <th>2</th>\n",
              "      <td>33</td>\n",
              "      <td>entrepreneur</td>\n",
              "      <td>married</td>\n",
              "      <td>secondary</td>\n",
              "      <td>no</td>\n",
              "      <td>2</td>\n",
              "      <td>yes</td>\n",
              "      <td>yes</td>\n",
              "      <td>unknown</td>\n",
              "      <td>5</td>\n",
              "      <td>may</td>\n",
              "      <td>76</td>\n",
              "      <td>1</td>\n",
              "      <td>-1</td>\n",
              "      <td>0</td>\n",
              "      <td>unknown</td>\n",
              "      <td>no</td>\n",
              "    </tr>\n",
              "    <tr>\n",
              "      <th>3</th>\n",
              "      <td>47</td>\n",
              "      <td>blue-collar</td>\n",
              "      <td>married</td>\n",
              "      <td>unknown</td>\n",
              "      <td>no</td>\n",
              "      <td>1506</td>\n",
              "      <td>yes</td>\n",
              "      <td>no</td>\n",
              "      <td>unknown</td>\n",
              "      <td>5</td>\n",
              "      <td>may</td>\n",
              "      <td>92</td>\n",
              "      <td>1</td>\n",
              "      <td>-1</td>\n",
              "      <td>0</td>\n",
              "      <td>unknown</td>\n",
              "      <td>no</td>\n",
              "    </tr>\n",
              "    <tr>\n",
              "      <th>4</th>\n",
              "      <td>33</td>\n",
              "      <td>unknown</td>\n",
              "      <td>single</td>\n",
              "      <td>unknown</td>\n",
              "      <td>no</td>\n",
              "      <td>1</td>\n",
              "      <td>no</td>\n",
              "      <td>no</td>\n",
              "      <td>unknown</td>\n",
              "      <td>5</td>\n",
              "      <td>may</td>\n",
              "      <td>198</td>\n",
              "      <td>1</td>\n",
              "      <td>-1</td>\n",
              "      <td>0</td>\n",
              "      <td>unknown</td>\n",
              "      <td>no</td>\n",
              "    </tr>\n",
              "  </tbody>\n",
              "</table>\n",
              "</div>"
            ],
            "text/plain": [
              "   age           job  marital  education  ... pdays  previous poutcome   y\n",
              "0   58    management  married   tertiary  ...    -1         0  unknown  no\n",
              "1   44    technician   single  secondary  ...    -1         0  unknown  no\n",
              "2   33  entrepreneur  married  secondary  ...    -1         0  unknown  no\n",
              "3   47   blue-collar  married    unknown  ...    -1         0  unknown  no\n",
              "4   33       unknown   single    unknown  ...    -1         0  unknown  no\n",
              "\n",
              "[5 rows x 17 columns]"
            ]
          },
          "metadata": {
            "tags": []
          },
          "execution_count": 17
        }
      ]
    },
    {
      "cell_type": "code",
      "metadata": {
        "id": "cpecv4Rn0xz3",
        "colab_type": "code",
        "colab": {
          "base_uri": "https://localhost:8080/",
          "height": 204
        },
        "outputId": "16eeef77-f9ce-4d01-98a1-2c9ebc1d4985"
      },
      "source": [
        "banking.tail()"
      ],
      "execution_count": 18,
      "outputs": [
        {
          "output_type": "execute_result",
          "data": {
            "text/html": [
              "<div>\n",
              "<style scoped>\n",
              "    .dataframe tbody tr th:only-of-type {\n",
              "        vertical-align: middle;\n",
              "    }\n",
              "\n",
              "    .dataframe tbody tr th {\n",
              "        vertical-align: top;\n",
              "    }\n",
              "\n",
              "    .dataframe thead th {\n",
              "        text-align: right;\n",
              "    }\n",
              "</style>\n",
              "<table border=\"1\" class=\"dataframe\">\n",
              "  <thead>\n",
              "    <tr style=\"text-align: right;\">\n",
              "      <th></th>\n",
              "      <th>age</th>\n",
              "      <th>job</th>\n",
              "      <th>marital</th>\n",
              "      <th>education</th>\n",
              "      <th>default</th>\n",
              "      <th>balance</th>\n",
              "      <th>housing</th>\n",
              "      <th>loan</th>\n",
              "      <th>contact</th>\n",
              "      <th>day</th>\n",
              "      <th>month</th>\n",
              "      <th>duration</th>\n",
              "      <th>campaign</th>\n",
              "      <th>pdays</th>\n",
              "      <th>previous</th>\n",
              "      <th>poutcome</th>\n",
              "      <th>y</th>\n",
              "    </tr>\n",
              "  </thead>\n",
              "  <tbody>\n",
              "    <tr>\n",
              "      <th>45206</th>\n",
              "      <td>51</td>\n",
              "      <td>technician</td>\n",
              "      <td>married</td>\n",
              "      <td>tertiary</td>\n",
              "      <td>no</td>\n",
              "      <td>825</td>\n",
              "      <td>no</td>\n",
              "      <td>no</td>\n",
              "      <td>cellular</td>\n",
              "      <td>17</td>\n",
              "      <td>nov</td>\n",
              "      <td>977</td>\n",
              "      <td>3</td>\n",
              "      <td>-1</td>\n",
              "      <td>0</td>\n",
              "      <td>unknown</td>\n",
              "      <td>yes</td>\n",
              "    </tr>\n",
              "    <tr>\n",
              "      <th>45207</th>\n",
              "      <td>71</td>\n",
              "      <td>retired</td>\n",
              "      <td>divorced</td>\n",
              "      <td>primary</td>\n",
              "      <td>no</td>\n",
              "      <td>1729</td>\n",
              "      <td>no</td>\n",
              "      <td>no</td>\n",
              "      <td>cellular</td>\n",
              "      <td>17</td>\n",
              "      <td>nov</td>\n",
              "      <td>456</td>\n",
              "      <td>2</td>\n",
              "      <td>-1</td>\n",
              "      <td>0</td>\n",
              "      <td>unknown</td>\n",
              "      <td>yes</td>\n",
              "    </tr>\n",
              "    <tr>\n",
              "      <th>45208</th>\n",
              "      <td>72</td>\n",
              "      <td>retired</td>\n",
              "      <td>married</td>\n",
              "      <td>secondary</td>\n",
              "      <td>no</td>\n",
              "      <td>5715</td>\n",
              "      <td>no</td>\n",
              "      <td>no</td>\n",
              "      <td>cellular</td>\n",
              "      <td>17</td>\n",
              "      <td>nov</td>\n",
              "      <td>1127</td>\n",
              "      <td>5</td>\n",
              "      <td>184</td>\n",
              "      <td>3</td>\n",
              "      <td>success</td>\n",
              "      <td>yes</td>\n",
              "    </tr>\n",
              "    <tr>\n",
              "      <th>45209</th>\n",
              "      <td>57</td>\n",
              "      <td>blue-collar</td>\n",
              "      <td>married</td>\n",
              "      <td>secondary</td>\n",
              "      <td>no</td>\n",
              "      <td>668</td>\n",
              "      <td>no</td>\n",
              "      <td>no</td>\n",
              "      <td>telephone</td>\n",
              "      <td>17</td>\n",
              "      <td>nov</td>\n",
              "      <td>508</td>\n",
              "      <td>4</td>\n",
              "      <td>-1</td>\n",
              "      <td>0</td>\n",
              "      <td>unknown</td>\n",
              "      <td>no</td>\n",
              "    </tr>\n",
              "    <tr>\n",
              "      <th>45210</th>\n",
              "      <td>37</td>\n",
              "      <td>entrepreneur</td>\n",
              "      <td>married</td>\n",
              "      <td>secondary</td>\n",
              "      <td>no</td>\n",
              "      <td>2971</td>\n",
              "      <td>no</td>\n",
              "      <td>no</td>\n",
              "      <td>cellular</td>\n",
              "      <td>17</td>\n",
              "      <td>nov</td>\n",
              "      <td>361</td>\n",
              "      <td>2</td>\n",
              "      <td>188</td>\n",
              "      <td>11</td>\n",
              "      <td>other</td>\n",
              "      <td>no</td>\n",
              "    </tr>\n",
              "  </tbody>\n",
              "</table>\n",
              "</div>"
            ],
            "text/plain": [
              "       age           job   marital  education  ... pdays  previous poutcome    y\n",
              "45206   51    technician   married   tertiary  ...    -1         0  unknown  yes\n",
              "45207   71       retired  divorced    primary  ...    -1         0  unknown  yes\n",
              "45208   72       retired   married  secondary  ...   184         3  success  yes\n",
              "45209   57   blue-collar   married  secondary  ...    -1         0  unknown   no\n",
              "45210   37  entrepreneur   married  secondary  ...   188        11    other   no\n",
              "\n",
              "[5 rows x 17 columns]"
            ]
          },
          "metadata": {
            "tags": []
          },
          "execution_count": 18
        }
      ]
    },
    {
      "cell_type": "markdown",
      "metadata": {
        "id": "LEj4BbLL5_43",
        "colab_type": "text"
      },
      "source": [
        "Look at the first 5 and the last 5 rows, do they seem to be in order? Yes"
      ]
    },
    {
      "cell_type": "code",
      "metadata": {
        "id": "uxRcYANm0yoj",
        "colab_type": "code",
        "colab": {
          "base_uri": "https://localhost:8080/",
          "height": 34
        },
        "outputId": "1abd342b-e09d-48b3-99e6-1213d0b41109"
      },
      "source": [
        "banking.shape"
      ],
      "execution_count": 19,
      "outputs": [
        {
          "output_type": "execute_result",
          "data": {
            "text/plain": [
              "(45211, 17)"
            ]
          },
          "metadata": {
            "tags": []
          },
          "execution_count": 19
        }
      ]
    },
    {
      "cell_type": "markdown",
      "metadata": {
        "id": "lpjIvtSE6HNp",
        "colab_type": "text"
      },
      "source": [
        "Does the dataset have the correct number of rows and columns as described in the UCI page? Yes 45211 values and 17 attributes"
      ]
    },
    {
      "cell_type": "code",
      "metadata": {
        "id": "v9MfBtSJ6Fiy",
        "colab_type": "code",
        "colab": {
          "base_uri": "https://localhost:8080/",
          "height": 323
        },
        "outputId": "ba3acf0f-daf6-45b3-a5a2-51ec0fb89880"
      },
      "source": [
        "banking.isnull().sum()"
      ],
      "execution_count": 21,
      "outputs": [
        {
          "output_type": "execute_result",
          "data": {
            "text/plain": [
              "age          0\n",
              "job          0\n",
              "marital      0\n",
              "education    0\n",
              "default      0\n",
              "balance      0\n",
              "housing      0\n",
              "loan         0\n",
              "contact      0\n",
              "day          0\n",
              "month        0\n",
              "duration     0\n",
              "campaign     0\n",
              "pdays        0\n",
              "previous     0\n",
              "poutcome     0\n",
              "y            0\n",
              "dtype: int64"
            ]
          },
          "metadata": {
            "tags": []
          },
          "execution_count": 21
        }
      ]
    },
    {
      "cell_type": "code",
      "metadata": {
        "id": "WylhJtkV0zJD",
        "colab_type": "code",
        "colab": {
          "base_uri": "https://localhost:8080/",
          "height": 425
        },
        "outputId": "d0d6437d-1232-4301-f569-e03849b0dcc0"
      },
      "source": [
        "banking.info()"
      ],
      "execution_count": 23,
      "outputs": [
        {
          "output_type": "stream",
          "text": [
            "<class 'pandas.core.frame.DataFrame'>\n",
            "RangeIndex: 45211 entries, 0 to 45210\n",
            "Data columns (total 17 columns):\n",
            " #   Column     Non-Null Count  Dtype \n",
            "---  ------     --------------  ----- \n",
            " 0   age        45211 non-null  int64 \n",
            " 1   job        45211 non-null  object\n",
            " 2   marital    45211 non-null  object\n",
            " 3   education  45211 non-null  object\n",
            " 4   default    45211 non-null  object\n",
            " 5   balance    45211 non-null  int64 \n",
            " 6   housing    45211 non-null  object\n",
            " 7   loan       45211 non-null  object\n",
            " 8   contact    45211 non-null  object\n",
            " 9   day        45211 non-null  int64 \n",
            " 10  month      45211 non-null  object\n",
            " 11  duration   45211 non-null  int64 \n",
            " 12  campaign   45211 non-null  int64 \n",
            " 13  pdays      45211 non-null  int64 \n",
            " 14  previous   45211 non-null  int64 \n",
            " 15  poutcome   45211 non-null  object\n",
            " 16  y          45211 non-null  object\n",
            "dtypes: int64(7), object(10)\n",
            "memory usage: 5.9+ MB\n"
          ],
          "name": "stdout"
        }
      ]
    },
    {
      "cell_type": "code",
      "metadata": {
        "id": "VhVRr2ND0zR6",
        "colab_type": "code",
        "colab": {
          "base_uri": "https://localhost:8080/",
          "height": 204
        },
        "outputId": "07004c51-17ab-40b1-f37d-7245527ea780"
      },
      "source": [
        "banking.head()"
      ],
      "execution_count": 24,
      "outputs": [
        {
          "output_type": "execute_result",
          "data": {
            "text/html": [
              "<div>\n",
              "<style scoped>\n",
              "    .dataframe tbody tr th:only-of-type {\n",
              "        vertical-align: middle;\n",
              "    }\n",
              "\n",
              "    .dataframe tbody tr th {\n",
              "        vertical-align: top;\n",
              "    }\n",
              "\n",
              "    .dataframe thead th {\n",
              "        text-align: right;\n",
              "    }\n",
              "</style>\n",
              "<table border=\"1\" class=\"dataframe\">\n",
              "  <thead>\n",
              "    <tr style=\"text-align: right;\">\n",
              "      <th></th>\n",
              "      <th>age</th>\n",
              "      <th>job</th>\n",
              "      <th>marital</th>\n",
              "      <th>education</th>\n",
              "      <th>default</th>\n",
              "      <th>balance</th>\n",
              "      <th>housing</th>\n",
              "      <th>loan</th>\n",
              "      <th>contact</th>\n",
              "      <th>day</th>\n",
              "      <th>month</th>\n",
              "      <th>duration</th>\n",
              "      <th>campaign</th>\n",
              "      <th>pdays</th>\n",
              "      <th>previous</th>\n",
              "      <th>poutcome</th>\n",
              "      <th>y</th>\n",
              "    </tr>\n",
              "  </thead>\n",
              "  <tbody>\n",
              "    <tr>\n",
              "      <th>0</th>\n",
              "      <td>58</td>\n",
              "      <td>management</td>\n",
              "      <td>married</td>\n",
              "      <td>tertiary</td>\n",
              "      <td>no</td>\n",
              "      <td>2143</td>\n",
              "      <td>yes</td>\n",
              "      <td>no</td>\n",
              "      <td>unknown</td>\n",
              "      <td>5</td>\n",
              "      <td>may</td>\n",
              "      <td>261</td>\n",
              "      <td>1</td>\n",
              "      <td>-1</td>\n",
              "      <td>0</td>\n",
              "      <td>unknown</td>\n",
              "      <td>no</td>\n",
              "    </tr>\n",
              "    <tr>\n",
              "      <th>1</th>\n",
              "      <td>44</td>\n",
              "      <td>technician</td>\n",
              "      <td>single</td>\n",
              "      <td>secondary</td>\n",
              "      <td>no</td>\n",
              "      <td>29</td>\n",
              "      <td>yes</td>\n",
              "      <td>no</td>\n",
              "      <td>unknown</td>\n",
              "      <td>5</td>\n",
              "      <td>may</td>\n",
              "      <td>151</td>\n",
              "      <td>1</td>\n",
              "      <td>-1</td>\n",
              "      <td>0</td>\n",
              "      <td>unknown</td>\n",
              "      <td>no</td>\n",
              "    </tr>\n",
              "    <tr>\n",
              "      <th>2</th>\n",
              "      <td>33</td>\n",
              "      <td>entrepreneur</td>\n",
              "      <td>married</td>\n",
              "      <td>secondary</td>\n",
              "      <td>no</td>\n",
              "      <td>2</td>\n",
              "      <td>yes</td>\n",
              "      <td>yes</td>\n",
              "      <td>unknown</td>\n",
              "      <td>5</td>\n",
              "      <td>may</td>\n",
              "      <td>76</td>\n",
              "      <td>1</td>\n",
              "      <td>-1</td>\n",
              "      <td>0</td>\n",
              "      <td>unknown</td>\n",
              "      <td>no</td>\n",
              "    </tr>\n",
              "    <tr>\n",
              "      <th>3</th>\n",
              "      <td>47</td>\n",
              "      <td>blue-collar</td>\n",
              "      <td>married</td>\n",
              "      <td>unknown</td>\n",
              "      <td>no</td>\n",
              "      <td>1506</td>\n",
              "      <td>yes</td>\n",
              "      <td>no</td>\n",
              "      <td>unknown</td>\n",
              "      <td>5</td>\n",
              "      <td>may</td>\n",
              "      <td>92</td>\n",
              "      <td>1</td>\n",
              "      <td>-1</td>\n",
              "      <td>0</td>\n",
              "      <td>unknown</td>\n",
              "      <td>no</td>\n",
              "    </tr>\n",
              "    <tr>\n",
              "      <th>4</th>\n",
              "      <td>33</td>\n",
              "      <td>unknown</td>\n",
              "      <td>single</td>\n",
              "      <td>unknown</td>\n",
              "      <td>no</td>\n",
              "      <td>1</td>\n",
              "      <td>no</td>\n",
              "      <td>no</td>\n",
              "      <td>unknown</td>\n",
              "      <td>5</td>\n",
              "      <td>may</td>\n",
              "      <td>198</td>\n",
              "      <td>1</td>\n",
              "      <td>-1</td>\n",
              "      <td>0</td>\n",
              "      <td>unknown</td>\n",
              "      <td>no</td>\n",
              "    </tr>\n",
              "  </tbody>\n",
              "</table>\n",
              "</div>"
            ],
            "text/plain": [
              "   age           job  marital  education  ... pdays  previous poutcome   y\n",
              "0   58    management  married   tertiary  ...    -1         0  unknown  no\n",
              "1   44    technician   single  secondary  ...    -1         0  unknown  no\n",
              "2   33  entrepreneur  married  secondary  ...    -1         0  unknown  no\n",
              "3   47   blue-collar  married    unknown  ...    -1         0  unknown  no\n",
              "4   33       unknown   single    unknown  ...    -1         0  unknown  no\n",
              "\n",
              "[5 rows x 17 columns]"
            ]
          },
          "metadata": {
            "tags": []
          },
          "execution_count": 24
        }
      ]
    },
    {
      "cell_type": "code",
      "metadata": {
        "id": "eQNgcwib0zZB",
        "colab_type": "code",
        "colab": {
          "base_uri": "https://localhost:8080/",
          "height": 221
        },
        "outputId": "b3ae79e9-9070-4474-f944-ba4920587396"
      },
      "source": [
        "# did value counts for all columns. found some with 'unknown' values\n",
        "banking['balance'].value_counts()"
      ],
      "execution_count": 34,
      "outputs": [
        {
          "output_type": "execute_result",
          "data": {
            "text/plain": [
              "0        3514\n",
              "1         195\n",
              "2         156\n",
              "4         139\n",
              "3         134\n",
              "         ... \n",
              "4305        1\n",
              "6352        1\n",
              "18881       1\n",
              "14889       1\n",
              "7218        1\n",
              "Name: balance, Length: 7168, dtype: int64"
            ]
          },
          "metadata": {
            "tags": []
          },
          "execution_count": 34
        }
      ]
    },
    {
      "cell_type": "code",
      "metadata": {
        "id": "u3LA6FMV0zPz",
        "colab_type": "code",
        "colab": {}
      },
      "source": [
        "# replace unknown values with NaN\n",
        "banking = banking.replace('unknown', np.NaN)"
      ],
      "execution_count": 0,
      "outputs": []
    },
    {
      "cell_type": "code",
      "metadata": {
        "id": "AWGBp4leKcuk",
        "colab_type": "code",
        "colab": {
          "base_uri": "https://localhost:8080/",
          "height": 323
        },
        "outputId": "dbd0a338-9d1b-440e-cfc7-c3af85ee9081"
      },
      "source": [
        "#count null values\n",
        "banking.isnull().sum()"
      ],
      "execution_count": 67,
      "outputs": [
        {
          "output_type": "execute_result",
          "data": {
            "text/plain": [
              "age              0\n",
              "job            288\n",
              "marital          0\n",
              "education     1857\n",
              "default          0\n",
              "balance          0\n",
              "housing          0\n",
              "loan             0\n",
              "contact      13020\n",
              "day              0\n",
              "month            0\n",
              "duration         0\n",
              "campaign         0\n",
              "pdays            0\n",
              "previous         0\n",
              "poutcome     36959\n",
              "y                0\n",
              "dtype: int64"
            ]
          },
          "metadata": {
            "tags": []
          },
          "execution_count": 67
        }
      ]
    },
    {
      "cell_type": "code",
      "metadata": {
        "id": "D-Ope9-TKBOv",
        "colab_type": "code",
        "colab": {
          "base_uri": "https://localhost:8080/",
          "height": 297
        },
        "outputId": "25793e6c-e124-45dd-ed38-6ac510cd3450"
      },
      "source": [
        "banking.describe()"
      ],
      "execution_count": 65,
      "outputs": [
        {
          "output_type": "execute_result",
          "data": {
            "text/html": [
              "<div>\n",
              "<style scoped>\n",
              "    .dataframe tbody tr th:only-of-type {\n",
              "        vertical-align: middle;\n",
              "    }\n",
              "\n",
              "    .dataframe tbody tr th {\n",
              "        vertical-align: top;\n",
              "    }\n",
              "\n",
              "    .dataframe thead th {\n",
              "        text-align: right;\n",
              "    }\n",
              "</style>\n",
              "<table border=\"1\" class=\"dataframe\">\n",
              "  <thead>\n",
              "    <tr style=\"text-align: right;\">\n",
              "      <th></th>\n",
              "      <th>age</th>\n",
              "      <th>balance</th>\n",
              "      <th>day</th>\n",
              "      <th>duration</th>\n",
              "      <th>campaign</th>\n",
              "      <th>pdays</th>\n",
              "      <th>previous</th>\n",
              "    </tr>\n",
              "  </thead>\n",
              "  <tbody>\n",
              "    <tr>\n",
              "      <th>count</th>\n",
              "      <td>45211.000000</td>\n",
              "      <td>45211.000000</td>\n",
              "      <td>45211.000000</td>\n",
              "      <td>45211.000000</td>\n",
              "      <td>45211.000000</td>\n",
              "      <td>45211.000000</td>\n",
              "      <td>45211.000000</td>\n",
              "    </tr>\n",
              "    <tr>\n",
              "      <th>mean</th>\n",
              "      <td>40.936210</td>\n",
              "      <td>1362.272058</td>\n",
              "      <td>15.806419</td>\n",
              "      <td>258.163080</td>\n",
              "      <td>2.763841</td>\n",
              "      <td>40.197828</td>\n",
              "      <td>0.580323</td>\n",
              "    </tr>\n",
              "    <tr>\n",
              "      <th>std</th>\n",
              "      <td>10.618762</td>\n",
              "      <td>3044.765829</td>\n",
              "      <td>8.322476</td>\n",
              "      <td>257.527812</td>\n",
              "      <td>3.098021</td>\n",
              "      <td>100.128746</td>\n",
              "      <td>2.303441</td>\n",
              "    </tr>\n",
              "    <tr>\n",
              "      <th>min</th>\n",
              "      <td>18.000000</td>\n",
              "      <td>-8019.000000</td>\n",
              "      <td>1.000000</td>\n",
              "      <td>0.000000</td>\n",
              "      <td>1.000000</td>\n",
              "      <td>-1.000000</td>\n",
              "      <td>0.000000</td>\n",
              "    </tr>\n",
              "    <tr>\n",
              "      <th>25%</th>\n",
              "      <td>33.000000</td>\n",
              "      <td>72.000000</td>\n",
              "      <td>8.000000</td>\n",
              "      <td>103.000000</td>\n",
              "      <td>1.000000</td>\n",
              "      <td>-1.000000</td>\n",
              "      <td>0.000000</td>\n",
              "    </tr>\n",
              "    <tr>\n",
              "      <th>50%</th>\n",
              "      <td>39.000000</td>\n",
              "      <td>448.000000</td>\n",
              "      <td>16.000000</td>\n",
              "      <td>180.000000</td>\n",
              "      <td>2.000000</td>\n",
              "      <td>-1.000000</td>\n",
              "      <td>0.000000</td>\n",
              "    </tr>\n",
              "    <tr>\n",
              "      <th>75%</th>\n",
              "      <td>48.000000</td>\n",
              "      <td>1428.000000</td>\n",
              "      <td>21.000000</td>\n",
              "      <td>319.000000</td>\n",
              "      <td>3.000000</td>\n",
              "      <td>-1.000000</td>\n",
              "      <td>0.000000</td>\n",
              "    </tr>\n",
              "    <tr>\n",
              "      <th>max</th>\n",
              "      <td>95.000000</td>\n",
              "      <td>102127.000000</td>\n",
              "      <td>31.000000</td>\n",
              "      <td>4918.000000</td>\n",
              "      <td>63.000000</td>\n",
              "      <td>871.000000</td>\n",
              "      <td>275.000000</td>\n",
              "    </tr>\n",
              "  </tbody>\n",
              "</table>\n",
              "</div>"
            ],
            "text/plain": [
              "                age        balance  ...         pdays      previous\n",
              "count  45211.000000   45211.000000  ...  45211.000000  45211.000000\n",
              "mean      40.936210    1362.272058  ...     40.197828      0.580323\n",
              "std       10.618762    3044.765829  ...    100.128746      2.303441\n",
              "min       18.000000   -8019.000000  ...     -1.000000      0.000000\n",
              "25%       33.000000      72.000000  ...     -1.000000      0.000000\n",
              "50%       39.000000     448.000000  ...     -1.000000      0.000000\n",
              "75%       48.000000    1428.000000  ...     -1.000000      0.000000\n",
              "max       95.000000  102127.000000  ...    871.000000    275.000000\n",
              "\n",
              "[8 rows x 7 columns]"
            ]
          },
          "metadata": {
            "tags": []
          },
          "execution_count": 65
        }
      ]
    },
    {
      "cell_type": "markdown",
      "metadata": {
        "id": "-gFnZR6iLLPY",
        "colab_type": "text"
      },
      "source": [
        "## 2) Load a dataset from your local machine.\n",
        "Choose a second dataset from the \"Popular Datasets\" listing on UCI, but this time download it to your local machine instead of reading it in via the URL. Upload the file to Google Colab using the files tab in the left-hand sidebar or by importing `files` from `google.colab` The following link will be a useful resource if you can't remember the syntax: <https://towardsdatascience.com/3-ways-to-load-csv-files-into-colab-7c14fcbdcb92>\n",
        "\n",
        "- Answer all of the same bullet point questions from part 1 again on this new dataset. \n"
      ]
    },
    {
      "cell_type": "code",
      "metadata": {
        "id": "qUmwX-ZoM9cq",
        "colab_type": "code",
        "outputId": "1bb5fa53-2e25-434e-9c98-7ba8f69e7cfe",
        "colab": {
          "resources": {
            "http://localhost:8080/nbextensions/google.colab/files.js": {
              "data": "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",
              "ok": true,
              "headers": [
                [
                  "content-type",
                  "application/javascript"
                ]
              ],
              "status": 200,
              "status_text": ""
            }
          },
          "base_uri": "https://localhost:8080/",
          "height": 111
        }
      },
      "source": [
        "# TODO your work here!\n",
        "# And note you should write comments, descriptions, and add new\n",
        "# code and text blocks as needed\n",
        "\n",
        "\n",
        "#upload the car data file\n",
        "from google.colab import files\n",
        "files.upload()"
      ],
      "execution_count": 42,
      "outputs": [
        {
          "output_type": "display_data",
          "data": {
            "text/html": [
              "\n",
              "     <input type=\"file\" id=\"files-392c1829-d51c-4194-becb-6249bfb52148\" name=\"files[]\" multiple disabled />\n",
              "     <output id=\"result-392c1829-d51c-4194-becb-6249bfb52148\">\n",
              "      Upload widget is only available when the cell has been executed in the\n",
              "      current browser session. Please rerun this cell to enable.\n",
              "      </output>\n",
              "      <script src=\"/nbextensions/google.colab/files.js\"></script> "
            ],
            "text/plain": [
              "<IPython.core.display.HTML object>"
            ]
          },
          "metadata": {
            "tags": []
          }
        },
        {
          "output_type": "stream",
          "text": [
            "Saving car.data to car.data\n"
          ],
          "name": "stdout"
        },
        {
          "output_type": "execute_result",
          "data": {
            "text/plain": [
              "{'car.data': b'vhigh,vhigh,2,2,small,low,unacc\\nvhigh,vhigh,2,2,small,med,unacc\\nvhigh,vhigh,2,2,small,high,unacc\\nvhigh,vhigh,2,2,med,low,unacc\\nvhigh,vhigh,2,2,med,med,unacc\\nvhigh,vhigh,2,2,med,high,unacc\\nvhigh,vhigh,2,2,big,low,unacc\\nvhigh,vhigh,2,2,big,med,unacc\\nvhigh,vhigh,2,2,big,high,unacc\\nvhigh,vhigh,2,4,small,low,unacc\\nvhigh,vhigh,2,4,small,med,unacc\\nvhigh,vhigh,2,4,small,high,unacc\\nvhigh,vhigh,2,4,med,low,unacc\\nvhigh,vhigh,2,4,med,med,unacc\\nvhigh,vhigh,2,4,med,high,unacc\\nvhigh,vhigh,2,4,big,low,unacc\\nvhigh,vhigh,2,4,big,med,unacc\\nvhigh,vhigh,2,4,big,high,unacc\\nvhigh,vhigh,2,more,small,low,unacc\\nvhigh,vhigh,2,more,small,med,unacc\\nvhigh,vhigh,2,more,small,high,unacc\\nvhigh,vhigh,2,more,med,low,unacc\\nvhigh,vhigh,2,more,med,med,unacc\\nvhigh,vhigh,2,more,med,high,unacc\\nvhigh,vhigh,2,more,big,low,unacc\\nvhigh,vhigh,2,more,big,med,unacc\\nvhigh,vhigh,2,more,big,high,unacc\\nvhigh,vhigh,3,2,small,low,unacc\\nvhigh,vhigh,3,2,small,med,unacc\\nvhigh,vhigh,3,2,small,high,unacc\\nvhigh,vhigh,3,2,med,low,unacc\\nvhigh,vhigh,3,2,med,med,unacc\\nvhigh,vhigh,3,2,med,high,unacc\\nvhigh,vhigh,3,2,big,low,unacc\\nvhigh,vhigh,3,2,big,med,unacc\\nvhigh,vhigh,3,2,big,high,unacc\\nvhigh,vhigh,3,4,small,low,unacc\\nvhigh,vhigh,3,4,small,med,unacc\\nvhigh,vhigh,3,4,small,high,unacc\\nvhigh,vhigh,3,4,med,low,unacc\\nvhigh,vhigh,3,4,med,med,unacc\\nvhigh,vhigh,3,4,med,high,unacc\\nvhigh,vhigh,3,4,big,low,unacc\\nvhigh,vhigh,3,4,big,med,unacc\\nvhigh,vhigh,3,4,big,high,unacc\\nvhigh,vhigh,3,more,small,low,unacc\\nvhigh,vhigh,3,more,small,med,unacc\\nvhigh,vhigh,3,more,small,high,unacc\\nvhigh,vhigh,3,more,med,low,unacc\\nvhigh,vhigh,3,more,med,med,unacc\\nvhigh,vhigh,3,more,med,high,unacc\\nvhigh,vhigh,3,more,big,low,unacc\\nvhigh,vhigh,3,more,big,med,unacc\\nvhigh,vhigh,3,more,big,high,unacc\\nvhigh,vhigh,4,2,small,low,unacc\\nvhigh,vhigh,4,2,small,med,unacc\\nvhigh,vhigh,4,2,small,high,unacc\\nvhigh,vhigh,4,2,med,low,unacc\\nvhigh,vhigh,4,2,med,med,unacc\\nvhigh,vhigh,4,2,med,high,unacc\\nvhigh,vhigh,4,2,big,low,unacc\\nvhigh,vhigh,4,2,big,med,unacc\\nvhigh,vhigh,4,2,big,high,unacc\\nvhigh,vhigh,4,4,small,low,unacc\\nvhigh,vhigh,4,4,small,med,unacc\\nvhigh,vhigh,4,4,small,high,unacc\\nvhigh,vhigh,4,4,med,low,unacc\\nvhigh,vhigh,4,4,med,med,unacc\\nvhigh,vhigh,4,4,med,high,unacc\\nvhigh,vhigh,4,4,big,low,unacc\\nvhigh,vhigh,4,4,big,med,unacc\\nvhigh,vhigh,4,4,big,high,unacc\\nvhigh,vhigh,4,more,small,low,unacc\\nvhigh,vhigh,4,more,small,med,unacc\\nvhigh,vhigh,4,more,small,high,unacc\\nvhigh,vhigh,4,more,med,low,unacc\\nvhigh,vhigh,4,more,med,med,unacc\\nvhigh,vhigh,4,more,med,high,unacc\\nvhigh,vhigh,4,more,big,low,unacc\\nvhigh,vhigh,4,more,big,med,unacc\\nvhigh,vhigh,4,more,big,high,unacc\\nvhigh,vhigh,5more,2,small,low,unacc\\nvhigh,vhigh,5more,2,small,med,unacc\\nvhigh,vhigh,5more,2,small,high,unacc\\nvhigh,vhigh,5more,2,med,low,unacc\\nvhigh,vhigh,5more,2,med,med,unacc\\nvhigh,vhigh,5more,2,med,high,unacc\\nvhigh,vhigh,5more,2,big,low,unacc\\nvhigh,vhigh,5more,2,big,med,unacc\\nvhigh,vhigh,5more,2,big,high,unacc\\nvhigh,vhigh,5more,4,small,low,unacc\\nvhigh,vhigh,5more,4,small,med,unacc\\nvhigh,vhigh,5more,4,small,high,unacc\\nvhigh,vhigh,5more,4,med,low,unacc\\nvhigh,vhigh,5more,4,med,med,unacc\\nvhigh,vhigh,5more,4,med,high,unacc\\nvhigh,vhigh,5more,4,big,low,unacc\\nvhigh,vhigh,5more,4,big,med,unacc\\nvhigh,vhigh,5more,4,big,high,unacc\\nvhigh,vhigh,5more,more,small,low,unacc\\nvhigh,vhigh,5more,more,small,med,unacc\\nvhigh,vhigh,5more,more,small,high,unacc\\nvhigh,vhigh,5more,more,med,low,unacc\\nvhigh,vhigh,5more,more,med,med,unacc\\nvhigh,vhigh,5more,more,med,high,unacc\\nvhigh,vhigh,5more,more,big,low,unacc\\nvhigh,vhigh,5more,more,big,med,unacc\\nvhigh,vhigh,5more,more,big,high,unacc\\nvhigh,high,2,2,small,low,unacc\\nvhigh,high,2,2,small,med,unacc\\nvhigh,high,2,2,small,high,unacc\\nvhigh,high,2,2,med,low,unacc\\nvhigh,high,2,2,med,med,unacc\\nvhigh,high,2,2,med,high,unacc\\nvhigh,high,2,2,big,low,unacc\\nvhigh,high,2,2,big,med,unacc\\nvhigh,high,2,2,big,high,unacc\\nvhigh,high,2,4,small,low,unacc\\nvhigh,high,2,4,small,med,unacc\\nvhigh,high,2,4,small,high,unacc\\nvhigh,high,2,4,med,low,unacc\\nvhigh,high,2,4,med,med,unacc\\nvhigh,high,2,4,med,high,unacc\\nvhigh,high,2,4,big,low,unacc\\nvhigh,high,2,4,big,med,unacc\\nvhigh,high,2,4,big,high,unacc\\nvhigh,high,2,more,small,low,unacc\\nvhigh,high,2,more,small,med,unacc\\nvhigh,high,2,more,small,high,unacc\\nvhigh,high,2,more,med,low,unacc\\nvhigh,high,2,more,med,med,unacc\\nvhigh,high,2,more,med,high,unacc\\nvhigh,high,2,more,big,low,unacc\\nvhigh,high,2,more,big,med,unacc\\nvhigh,high,2,more,big,high,unacc\\nvhigh,high,3,2,small,low,unacc\\nvhigh,high,3,2,small,med,unacc\\nvhigh,high,3,2,small,high,unacc\\nvhigh,high,3,2,med,low,unacc\\nvhigh,high,3,2,med,med,unacc\\nvhigh,high,3,2,med,high,unacc\\nvhigh,high,3,2,big,low,unacc\\nvhigh,high,3,2,big,med,unacc\\nvhigh,high,3,2,big,high,unacc\\nvhigh,high,3,4,small,low,unacc\\nvhigh,high,3,4,small,med,unacc\\nvhigh,high,3,4,small,high,unacc\\nvhigh,high,3,4,med,low,unacc\\nvhigh,high,3,4,med,med,unacc\\nvhigh,high,3,4,med,high,unacc\\nvhigh,high,3,4,big,low,unacc\\nvhigh,high,3,4,big,med,unacc\\nvhigh,high,3,4,big,high,unacc\\nvhigh,high,3,more,small,low,unacc\\nvhigh,high,3,more,small,med,unacc\\nvhigh,high,3,more,small,high,unacc\\nvhigh,high,3,more,med,low,unacc\\nvhigh,high,3,more,med,med,unacc\\nvhigh,high,3,more,med,high,unacc\\nvhigh,high,3,more,big,low,unacc\\nvhigh,high,3,more,big,med,unacc\\nvhigh,high,3,more,big,high,unacc\\nvhigh,high,4,2,small,low,unacc\\nvhigh,high,4,2,small,med,unacc\\nvhigh,high,4,2,small,high,unacc\\nvhigh,high,4,2,med,low,unacc\\nvhigh,high,4,2,med,med,unacc\\nvhigh,high,4,2,med,high,unacc\\nvhigh,high,4,2,big,low,unacc\\nvhigh,high,4,2,big,med,unacc\\nvhigh,high,4,2,big,high,unacc\\nvhigh,high,4,4,small,low,unacc\\nvhigh,high,4,4,small,med,unacc\\nvhigh,high,4,4,small,high,unacc\\nvhigh,high,4,4,med,low,unacc\\nvhigh,high,4,4,med,med,unacc\\nvhigh,high,4,4,med,high,unacc\\nvhigh,high,4,4,big,low,unacc\\nvhigh,high,4,4,big,med,unacc\\nvhigh,high,4,4,big,high,unacc\\nvhigh,high,4,more,small,low,unacc\\nvhigh,high,4,more,small,med,unacc\\nvhigh,high,4,more,small,high,unacc\\nvhigh,high,4,more,med,low,unacc\\nvhigh,high,4,more,med,med,unacc\\nvhigh,high,4,more,med,high,unacc\\nvhigh,high,4,more,big,low,unacc\\nvhigh,high,4,more,big,med,unacc\\nvhigh,high,4,more,big,high,unacc\\nvhigh,high,5more,2,small,low,unacc\\nvhigh,high,5more,2,small,med,unacc\\nvhigh,high,5more,2,small,high,unacc\\nvhigh,high,5more,2,med,low,unacc\\nvhigh,high,5more,2,med,med,unacc\\nvhigh,high,5more,2,med,high,unacc\\nvhigh,high,5more,2,big,low,unacc\\nvhigh,high,5more,2,big,med,unacc\\nvhigh,high,5more,2,big,high,unacc\\nvhigh,high,5more,4,small,low,unacc\\nvhigh,high,5more,4,small,med,unacc\\nvhigh,high,5more,4,small,high,unacc\\nvhigh,high,5more,4,med,low,unacc\\nvhigh,high,5more,4,med,med,unacc\\nvhigh,high,5more,4,med,high,unacc\\nvhigh,high,5more,4,big,low,unacc\\nvhigh,high,5more,4,big,med,unacc\\nvhigh,high,5more,4,big,high,unacc\\nvhigh,high,5more,more,small,low,unacc\\nvhigh,high,5more,more,small,med,unacc\\nvhigh,high,5more,more,small,high,unacc\\nvhigh,high,5more,more,med,low,unacc\\nvhigh,high,5more,more,med,med,unacc\\nvhigh,high,5more,more,med,high,unacc\\nvhigh,high,5more,more,big,low,unacc\\nvhigh,high,5more,more,big,med,unacc\\nvhigh,high,5more,more,big,high,unacc\\nvhigh,med,2,2,small,low,unacc\\nvhigh,med,2,2,small,med,unacc\\nvhigh,med,2,2,small,high,unacc\\nvhigh,med,2,2,med,low,unacc\\nvhigh,med,2,2,med,med,unacc\\nvhigh,med,2,2,med,high,unacc\\nvhigh,med,2,2,big,low,unacc\\nvhigh,med,2,2,big,med,unacc\\nvhigh,med,2,2,big,high,unacc\\nvhigh,med,2,4,small,low,unacc\\nvhigh,med,2,4,small,med,unacc\\nvhigh,med,2,4,small,high,acc\\nvhigh,med,2,4,med,low,unacc\\nvhigh,med,2,4,med,med,unacc\\nvhigh,med,2,4,med,high,acc\\nvhigh,med,2,4,big,low,unacc\\nvhigh,med,2,4,big,med,acc\\nvhigh,med,2,4,big,high,acc\\nvhigh,med,2,more,small,low,unacc\\nvhigh,med,2,more,small,med,unacc\\nvhigh,med,2,more,small,high,unacc\\nvhigh,med,2,more,med,low,unacc\\nvhigh,med,2,more,med,med,unacc\\nvhigh,med,2,more,med,high,acc\\nvhigh,med,2,more,big,low,unacc\\nvhigh,med,2,more,big,med,acc\\nvhigh,med,2,more,big,high,acc\\nvhigh,med,3,2,small,low,unacc\\nvhigh,med,3,2,small,med,unacc\\nvhigh,med,3,2,small,high,unacc\\nvhigh,med,3,2,med,low,unacc\\nvhigh,med,3,2,med,med,unacc\\nvhigh,med,3,2,med,high,unacc\\nvhigh,med,3,2,big,low,unacc\\nvhigh,med,3,2,big,med,unacc\\nvhigh,med,3,2,big,high,unacc\\nvhigh,med,3,4,small,low,unacc\\nvhigh,med,3,4,small,med,unacc\\nvhigh,med,3,4,small,high,acc\\nvhigh,med,3,4,med,low,unacc\\nvhigh,med,3,4,med,med,unacc\\nvhigh,med,3,4,med,high,acc\\nvhigh,med,3,4,big,low,unacc\\nvhigh,med,3,4,big,med,acc\\nvhigh,med,3,4,big,high,acc\\nvhigh,med,3,more,small,low,unacc\\nvhigh,med,3,more,small,med,unacc\\nvhigh,med,3,more,small,high,acc\\nvhigh,med,3,more,med,low,unacc\\nvhigh,med,3,more,med,med,acc\\nvhigh,med,3,more,med,high,acc\\nvhigh,med,3,more,big,low,unacc\\nvhigh,med,3,more,big,med,acc\\nvhigh,med,3,more,big,high,acc\\nvhigh,med,4,2,small,low,unacc\\nvhigh,med,4,2,small,med,unacc\\nvhigh,med,4,2,small,high,unacc\\nvhigh,med,4,2,med,low,unacc\\nvhigh,med,4,2,med,med,unacc\\nvhigh,med,4,2,med,high,unacc\\nvhigh,med,4,2,big,low,unacc\\nvhigh,med,4,2,big,med,unacc\\nvhigh,med,4,2,big,high,unacc\\nvhigh,med,4,4,small,low,unacc\\nvhigh,med,4,4,small,med,unacc\\nvhigh,med,4,4,small,high,acc\\nvhigh,med,4,4,med,low,unacc\\nvhigh,med,4,4,med,med,acc\\nvhigh,med,4,4,med,high,acc\\nvhigh,med,4,4,big,low,unacc\\nvhigh,med,4,4,big,med,acc\\nvhigh,med,4,4,big,high,acc\\nvhigh,med,4,more,small,low,unacc\\nvhigh,med,4,more,small,med,unacc\\nvhigh,med,4,more,small,high,acc\\nvhigh,med,4,more,med,low,unacc\\nvhigh,med,4,more,med,med,acc\\nvhigh,med,4,more,med,high,acc\\nvhigh,med,4,more,big,low,unacc\\nvhigh,med,4,more,big,med,acc\\nvhigh,med,4,more,big,high,acc\\nvhigh,med,5more,2,small,low,unacc\\nvhigh,med,5more,2,small,med,unacc\\nvhigh,med,5more,2,small,high,unacc\\nvhigh,med,5more,2,med,low,unacc\\nvhigh,med,5more,2,med,med,unacc\\nvhigh,med,5more,2,med,high,unacc\\nvhigh,med,5more,2,big,low,unacc\\nvhigh,med,5more,2,big,med,unacc\\nvhigh,med,5more,2,big,high,unacc\\nvhigh,med,5more,4,small,low,unacc\\nvhigh,med,5more,4,small,med,unacc\\nvhigh,med,5more,4,small,high,acc\\nvhigh,med,5more,4,med,low,unacc\\nvhigh,med,5more,4,med,med,acc\\nvhigh,med,5more,4,med,high,acc\\nvhigh,med,5more,4,big,low,unacc\\nvhigh,med,5more,4,big,med,acc\\nvhigh,med,5more,4,big,high,acc\\nvhigh,med,5more,more,small,low,unacc\\nvhigh,med,5more,more,small,med,unacc\\nvhigh,med,5more,more,small,high,acc\\nvhigh,med,5more,more,med,low,unacc\\nvhigh,med,5more,more,med,med,acc\\nvhigh,med,5more,more,med,high,acc\\nvhigh,med,5more,more,big,low,unacc\\nvhigh,med,5more,more,big,med,acc\\nvhigh,med,5more,more,big,high,acc\\nvhigh,low,2,2,small,low,unacc\\nvhigh,low,2,2,small,med,unacc\\nvhigh,low,2,2,small,high,unacc\\nvhigh,low,2,2,med,low,unacc\\nvhigh,low,2,2,med,med,unacc\\nvhigh,low,2,2,med,high,unacc\\nvhigh,low,2,2,big,low,unacc\\nvhigh,low,2,2,big,med,unacc\\nvhigh,low,2,2,big,high,unacc\\nvhigh,low,2,4,small,low,unacc\\nvhigh,low,2,4,small,med,unacc\\nvhigh,low,2,4,small,high,acc\\nvhigh,low,2,4,med,low,unacc\\nvhigh,low,2,4,med,med,unacc\\nvhigh,low,2,4,med,high,acc\\nvhigh,low,2,4,big,low,unacc\\nvhigh,low,2,4,big,med,acc\\nvhigh,low,2,4,big,high,acc\\nvhigh,low,2,more,small,low,unacc\\nvhigh,low,2,more,small,med,unacc\\nvhigh,low,2,more,small,high,unacc\\nvhigh,low,2,more,med,low,unacc\\nvhigh,low,2,more,med,med,unacc\\nvhigh,low,2,more,med,high,acc\\nvhigh,low,2,more,big,low,unacc\\nvhigh,low,2,more,big,med,acc\\nvhigh,low,2,more,big,high,acc\\nvhigh,low,3,2,small,low,unacc\\nvhigh,low,3,2,small,med,unacc\\nvhigh,low,3,2,small,high,unacc\\nvhigh,low,3,2,med,low,unacc\\nvhigh,low,3,2,med,med,unacc\\nvhigh,low,3,2,med,high,unacc\\nvhigh,low,3,2,big,low,unacc\\nvhigh,low,3,2,big,med,unacc\\nvhigh,low,3,2,big,high,unacc\\nvhigh,low,3,4,small,low,unacc\\nvhigh,low,3,4,small,med,unacc\\nvhigh,low,3,4,small,high,acc\\nvhigh,low,3,4,med,low,unacc\\nvhigh,low,3,4,med,med,unacc\\nvhigh,low,3,4,med,high,acc\\nvhigh,low,3,4,big,low,unacc\\nvhigh,low,3,4,big,med,acc\\nvhigh,low,3,4,big,high,acc\\nvhigh,low,3,more,small,low,unacc\\nvhigh,low,3,more,small,med,unacc\\nvhigh,low,3,more,small,high,acc\\nvhigh,low,3,more,med,low,unacc\\nvhigh,low,3,more,med,med,acc\\nvhigh,low,3,more,med,high,acc\\nvhigh,low,3,more,big,low,unacc\\nvhigh,low,3,more,big,med,acc\\nvhigh,low,3,more,big,high,acc\\nvhigh,low,4,2,small,low,unacc\\nvhigh,low,4,2,small,med,unacc\\nvhigh,low,4,2,small,high,unacc\\nvhigh,low,4,2,med,low,unacc\\nvhigh,low,4,2,med,med,unacc\\nvhigh,low,4,2,med,high,unacc\\nvhigh,low,4,2,big,low,unacc\\nvhigh,low,4,2,big,med,unacc\\nvhigh,low,4,2,big,high,unacc\\nvhigh,low,4,4,small,low,unacc\\nvhigh,low,4,4,small,med,unacc\\nvhigh,low,4,4,small,high,acc\\nvhigh,low,4,4,med,low,unacc\\nvhigh,low,4,4,med,med,acc\\nvhigh,low,4,4,med,high,acc\\nvhigh,low,4,4,big,low,unacc\\nvhigh,low,4,4,big,med,acc\\nvhigh,low,4,4,big,high,acc\\nvhigh,low,4,more,small,low,unacc\\nvhigh,low,4,more,small,med,unacc\\nvhigh,low,4,more,small,high,acc\\nvhigh,low,4,more,med,low,unacc\\nvhigh,low,4,more,med,med,acc\\nvhigh,low,4,more,med,high,acc\\nvhigh,low,4,more,big,low,unacc\\nvhigh,low,4,more,big,med,acc\\nvhigh,low,4,more,big,high,acc\\nvhigh,low,5more,2,small,low,unacc\\nvhigh,low,5more,2,small,med,unacc\\nvhigh,low,5more,2,small,high,unacc\\nvhigh,low,5more,2,med,low,unacc\\nvhigh,low,5more,2,med,med,unacc\\nvhigh,low,5more,2,med,high,unacc\\nvhigh,low,5more,2,big,low,unacc\\nvhigh,low,5more,2,big,med,unacc\\nvhigh,low,5more,2,big,high,unacc\\nvhigh,low,5more,4,small,low,unacc\\nvhigh,low,5more,4,small,med,unacc\\nvhigh,low,5more,4,small,high,acc\\nvhigh,low,5more,4,med,low,unacc\\nvhigh,low,5more,4,med,med,acc\\nvhigh,low,5more,4,med,high,acc\\nvhigh,low,5more,4,big,low,unacc\\nvhigh,low,5more,4,big,med,acc\\nvhigh,low,5more,4,big,high,acc\\nvhigh,low,5more,more,small,low,unacc\\nvhigh,low,5more,more,small,med,unacc\\nvhigh,low,5more,more,small,high,acc\\nvhigh,low,5more,more,med,low,unacc\\nvhigh,low,5more,more,med,med,acc\\nvhigh,low,5more,more,med,high,acc\\nvhigh,low,5more,more,big,low,unacc\\nvhigh,low,5more,more,big,med,acc\\nvhigh,low,5more,more,big,high,acc\\nhigh,vhigh,2,2,small,low,unacc\\nhigh,vhigh,2,2,small,med,unacc\\nhigh,vhigh,2,2,small,high,unacc\\nhigh,vhigh,2,2,med,low,unacc\\nhigh,vhigh,2,2,med,med,unacc\\nhigh,vhigh,2,2,med,high,unacc\\nhigh,vhigh,2,2,big,low,unacc\\nhigh,vhigh,2,2,big,med,unacc\\nhigh,vhigh,2,2,big,high,unacc\\nhigh,vhigh,2,4,small,low,unacc\\nhigh,vhigh,2,4,small,med,unacc\\nhigh,vhigh,2,4,small,high,unacc\\nhigh,vhigh,2,4,med,low,unacc\\nhigh,vhigh,2,4,med,med,unacc\\nhigh,vhigh,2,4,med,high,unacc\\nhigh,vhigh,2,4,big,low,unacc\\nhigh,vhigh,2,4,big,med,unacc\\nhigh,vhigh,2,4,big,high,unacc\\nhigh,vhigh,2,more,small,low,unacc\\nhigh,vhigh,2,more,small,med,unacc\\nhigh,vhigh,2,more,small,high,unacc\\nhigh,vhigh,2,more,med,low,unacc\\nhigh,vhigh,2,more,med,med,unacc\\nhigh,vhigh,2,more,med,high,unacc\\nhigh,vhigh,2,more,big,low,unacc\\nhigh,vhigh,2,more,big,med,unacc\\nhigh,vhigh,2,more,big,high,unacc\\nhigh,vhigh,3,2,small,low,unacc\\nhigh,vhigh,3,2,small,med,unacc\\nhigh,vhigh,3,2,small,high,unacc\\nhigh,vhigh,3,2,med,low,unacc\\nhigh,vhigh,3,2,med,med,unacc\\nhigh,vhigh,3,2,med,high,unacc\\nhigh,vhigh,3,2,big,low,unacc\\nhigh,vhigh,3,2,big,med,unacc\\nhigh,vhigh,3,2,big,high,unacc\\nhigh,vhigh,3,4,small,low,unacc\\nhigh,vhigh,3,4,small,med,unacc\\nhigh,vhigh,3,4,small,high,unacc\\nhigh,vhigh,3,4,med,low,unacc\\nhigh,vhigh,3,4,med,med,unacc\\nhigh,vhigh,3,4,med,high,unacc\\nhigh,vhigh,3,4,big,low,unacc\\nhigh,vhigh,3,4,big,med,unacc\\nhigh,vhigh,3,4,big,high,unacc\\nhigh,vhigh,3,more,small,low,unacc\\nhigh,vhigh,3,more,small,med,unacc\\nhigh,vhigh,3,more,small,high,unacc\\nhigh,vhigh,3,more,med,low,unacc\\nhigh,vhigh,3,more,med,med,unacc\\nhigh,vhigh,3,more,med,high,unacc\\nhigh,vhigh,3,more,big,low,unacc\\nhigh,vhigh,3,more,big,med,unacc\\nhigh,vhigh,3,more,big,high,unacc\\nhigh,vhigh,4,2,small,low,unacc\\nhigh,vhigh,4,2,small,med,unacc\\nhigh,vhigh,4,2,small,high,unacc\\nhigh,vhigh,4,2,med,low,unacc\\nhigh,vhigh,4,2,med,med,unacc\\nhigh,vhigh,4,2,med,high,unacc\\nhigh,vhigh,4,2,big,low,unacc\\nhigh,vhigh,4,2,big,med,unacc\\nhigh,vhigh,4,2,big,high,unacc\\nhigh,vhigh,4,4,small,low,unacc\\nhigh,vhigh,4,4,small,med,unacc\\nhigh,vhigh,4,4,small,high,unacc\\nhigh,vhigh,4,4,med,low,unacc\\nhigh,vhigh,4,4,med,med,unacc\\nhigh,vhigh,4,4,med,high,unacc\\nhigh,vhigh,4,4,big,low,unacc\\nhigh,vhigh,4,4,big,med,unacc\\nhigh,vhigh,4,4,big,high,unacc\\nhigh,vhigh,4,more,small,low,unacc\\nhigh,vhigh,4,more,small,med,unacc\\nhigh,vhigh,4,more,small,high,unacc\\nhigh,vhigh,4,more,med,low,unacc\\nhigh,vhigh,4,more,med,med,unacc\\nhigh,vhigh,4,more,med,high,unacc\\nhigh,vhigh,4,more,big,low,unacc\\nhigh,vhigh,4,more,big,med,unacc\\nhigh,vhigh,4,more,big,high,unacc\\nhigh,vhigh,5more,2,small,low,unacc\\nhigh,vhigh,5more,2,small,med,unacc\\nhigh,vhigh,5more,2,small,high,unacc\\nhigh,vhigh,5more,2,med,low,unacc\\nhigh,vhigh,5more,2,med,med,unacc\\nhigh,vhigh,5more,2,med,high,unacc\\nhigh,vhigh,5more,2,big,low,unacc\\nhigh,vhigh,5more,2,big,med,unacc\\nhigh,vhigh,5more,2,big,high,unacc\\nhigh,vhigh,5more,4,small,low,unacc\\nhigh,vhigh,5more,4,small,med,unacc\\nhigh,vhigh,5more,4,small,high,unacc\\nhigh,vhigh,5more,4,med,low,unacc\\nhigh,vhigh,5more,4,med,med,unacc\\nhigh,vhigh,5more,4,med,high,unacc\\nhigh,vhigh,5more,4,big,low,unacc\\nhigh,vhigh,5more,4,big,med,unacc\\nhigh,vhigh,5more,4,big,high,unacc\\nhigh,vhigh,5more,more,small,low,unacc\\nhigh,vhigh,5more,more,small,med,unacc\\nhigh,vhigh,5more,more,small,high,unacc\\nhigh,vhigh,5more,more,med,low,unacc\\nhigh,vhigh,5more,more,med,med,unacc\\nhigh,vhigh,5more,more,med,high,unacc\\nhigh,vhigh,5more,more,big,low,unacc\\nhigh,vhigh,5more,more,big,med,unacc\\nhigh,vhigh,5more,more,big,high,unacc\\nhigh,high,2,2,small,low,unacc\\nhigh,high,2,2,small,med,unacc\\nhigh,high,2,2,small,high,unacc\\nhigh,high,2,2,med,low,unacc\\nhigh,high,2,2,med,med,unacc\\nhigh,high,2,2,med,high,unacc\\nhigh,high,2,2,big,low,unacc\\nhigh,high,2,2,big,med,unacc\\nhigh,high,2,2,big,high,unacc\\nhigh,high,2,4,small,low,unacc\\nhigh,high,2,4,small,med,unacc\\nhigh,high,2,4,small,high,acc\\nhigh,high,2,4,med,low,unacc\\nhigh,high,2,4,med,med,unacc\\nhigh,high,2,4,med,high,acc\\nhigh,high,2,4,big,low,unacc\\nhigh,high,2,4,big,med,acc\\nhigh,high,2,4,big,high,acc\\nhigh,high,2,more,small,low,unacc\\nhigh,high,2,more,small,med,unacc\\nhigh,high,2,more,small,high,unacc\\nhigh,high,2,more,med,low,unacc\\nhigh,high,2,more,med,med,unacc\\nhigh,high,2,more,med,high,acc\\nhigh,high,2,more,big,low,unacc\\nhigh,high,2,more,big,med,acc\\nhigh,high,2,more,big,high,acc\\nhigh,high,3,2,small,low,unacc\\nhigh,high,3,2,small,med,unacc\\nhigh,high,3,2,small,high,unacc\\nhigh,high,3,2,med,low,unacc\\nhigh,high,3,2,med,med,unacc\\nhigh,high,3,2,med,high,unacc\\nhigh,high,3,2,big,low,unacc\\nhigh,high,3,2,big,med,unacc\\nhigh,high,3,2,big,high,unacc\\nhigh,high,3,4,small,low,unacc\\nhigh,high,3,4,small,med,unacc\\nhigh,high,3,4,small,high,acc\\nhigh,high,3,4,med,low,unacc\\nhigh,high,3,4,med,med,unacc\\nhigh,high,3,4,med,high,acc\\nhigh,high,3,4,big,low,unacc\\nhigh,high,3,4,big,med,acc\\nhigh,high,3,4,big,high,acc\\nhigh,high,3,more,small,low,unacc\\nhigh,high,3,more,small,med,unacc\\nhigh,high,3,more,small,high,acc\\nhigh,high,3,more,med,low,unacc\\nhigh,high,3,more,med,med,acc\\nhigh,high,3,more,med,high,acc\\nhigh,high,3,more,big,low,unacc\\nhigh,high,3,more,big,med,acc\\nhigh,high,3,more,big,high,acc\\nhigh,high,4,2,small,low,unacc\\nhigh,high,4,2,small,med,unacc\\nhigh,high,4,2,small,high,unacc\\nhigh,high,4,2,med,low,unacc\\nhigh,high,4,2,med,med,unacc\\nhigh,high,4,2,med,high,unacc\\nhigh,high,4,2,big,low,unacc\\nhigh,high,4,2,big,med,unacc\\nhigh,high,4,2,big,high,unacc\\nhigh,high,4,4,small,low,unacc\\nhigh,high,4,4,small,med,unacc\\nhigh,high,4,4,small,high,acc\\nhigh,high,4,4,med,low,unacc\\nhigh,high,4,4,med,med,acc\\nhigh,high,4,4,med,high,acc\\nhigh,high,4,4,big,low,unacc\\nhigh,high,4,4,big,med,acc\\nhigh,high,4,4,big,high,acc\\nhigh,high,4,more,small,low,unacc\\nhigh,high,4,more,small,med,unacc\\nhigh,high,4,more,small,high,acc\\nhigh,high,4,more,med,low,unacc\\nhigh,high,4,more,med,med,acc\\nhigh,high,4,more,med,high,acc\\nhigh,high,4,more,big,low,unacc\\nhigh,high,4,more,big,med,acc\\nhigh,high,4,more,big,high,acc\\nhigh,high,5more,2,small,low,unacc\\nhigh,high,5more,2,small,med,unacc\\nhigh,high,5more,2,small,high,unacc\\nhigh,high,5more,2,med,low,unacc\\nhigh,high,5more,2,med,med,unacc\\nhigh,high,5more,2,med,high,unacc\\nhigh,high,5more,2,big,low,unacc\\nhigh,high,5more,2,big,med,unacc\\nhigh,high,5more,2,big,high,unacc\\nhigh,high,5more,4,small,low,unacc\\nhigh,high,5more,4,small,med,unacc\\nhigh,high,5more,4,small,high,acc\\nhigh,high,5more,4,med,low,unacc\\nhigh,high,5more,4,med,med,acc\\nhigh,high,5more,4,med,high,acc\\nhigh,high,5more,4,big,low,unacc\\nhigh,high,5more,4,big,med,acc\\nhigh,high,5more,4,big,high,acc\\nhigh,high,5more,more,small,low,unacc\\nhigh,high,5more,more,small,med,unacc\\nhigh,high,5more,more,small,high,acc\\nhigh,high,5more,more,med,low,unacc\\nhigh,high,5more,more,med,med,acc\\nhigh,high,5more,more,med,high,acc\\nhigh,high,5more,more,big,low,unacc\\nhigh,high,5more,more,big,med,acc\\nhigh,high,5more,more,big,high,acc\\nhigh,med,2,2,small,low,unacc\\nhigh,med,2,2,small,med,unacc\\nhigh,med,2,2,small,high,unacc\\nhigh,med,2,2,med,low,unacc\\nhigh,med,2,2,med,med,unacc\\nhigh,med,2,2,med,high,unacc\\nhigh,med,2,2,big,low,unacc\\nhigh,med,2,2,big,med,unacc\\nhigh,med,2,2,big,high,unacc\\nhigh,med,2,4,small,low,unacc\\nhigh,med,2,4,small,med,unacc\\nhigh,med,2,4,small,high,acc\\nhigh,med,2,4,med,low,unacc\\nhigh,med,2,4,med,med,unacc\\nhigh,med,2,4,med,high,acc\\nhigh,med,2,4,big,low,unacc\\nhigh,med,2,4,big,med,acc\\nhigh,med,2,4,big,high,acc\\nhigh,med,2,more,small,low,unacc\\nhigh,med,2,more,small,med,unacc\\nhigh,med,2,more,small,high,unacc\\nhigh,med,2,more,med,low,unacc\\nhigh,med,2,more,med,med,unacc\\nhigh,med,2,more,med,high,acc\\nhigh,med,2,more,big,low,unacc\\nhigh,med,2,more,big,med,acc\\nhigh,med,2,more,big,high,acc\\nhigh,med,3,2,small,low,unacc\\nhigh,med,3,2,small,med,unacc\\nhigh,med,3,2,small,high,unacc\\nhigh,med,3,2,med,low,unacc\\nhigh,med,3,2,med,med,unacc\\nhigh,med,3,2,med,high,unacc\\nhigh,med,3,2,big,low,unacc\\nhigh,med,3,2,big,med,unacc\\nhigh,med,3,2,big,high,unacc\\nhigh,med,3,4,small,low,unacc\\nhigh,med,3,4,small,med,unacc\\nhigh,med,3,4,small,high,acc\\nhigh,med,3,4,med,low,unacc\\nhigh,med,3,4,med,med,unacc\\nhigh,med,3,4,med,high,acc\\nhigh,med,3,4,big,low,unacc\\nhigh,med,3,4,big,med,acc\\nhigh,med,3,4,big,high,acc\\nhigh,med,3,more,small,low,unacc\\nhigh,med,3,more,small,med,unacc\\nhigh,med,3,more,small,high,acc\\nhigh,med,3,more,med,low,unacc\\nhigh,med,3,more,med,med,acc\\nhigh,med,3,more,med,high,acc\\nhigh,med,3,more,big,low,unacc\\nhigh,med,3,more,big,med,acc\\nhigh,med,3,more,big,high,acc\\nhigh,med,4,2,small,low,unacc\\nhigh,med,4,2,small,med,unacc\\nhigh,med,4,2,small,high,unacc\\nhigh,med,4,2,med,low,unacc\\nhigh,med,4,2,med,med,unacc\\nhigh,med,4,2,med,high,unacc\\nhigh,med,4,2,big,low,unacc\\nhigh,med,4,2,big,med,unacc\\nhigh,med,4,2,big,high,unacc\\nhigh,med,4,4,small,low,unacc\\nhigh,med,4,4,small,med,unacc\\nhigh,med,4,4,small,high,acc\\nhigh,med,4,4,med,low,unacc\\nhigh,med,4,4,med,med,acc\\nhigh,med,4,4,med,high,acc\\nhigh,med,4,4,big,low,unacc\\nhigh,med,4,4,big,med,acc\\nhigh,med,4,4,big,high,acc\\nhigh,med,4,more,small,low,unacc\\nhigh,med,4,more,small,med,unacc\\nhigh,med,4,more,small,high,acc\\nhigh,med,4,more,med,low,unacc\\nhigh,med,4,more,med,med,acc\\nhigh,med,4,more,med,high,acc\\nhigh,med,4,more,big,low,unacc\\nhigh,med,4,more,big,med,acc\\nhigh,med,4,more,big,high,acc\\nhigh,med,5more,2,small,low,unacc\\nhigh,med,5more,2,small,med,unacc\\nhigh,med,5more,2,small,high,unacc\\nhigh,med,5more,2,med,low,unacc\\nhigh,med,5more,2,med,med,unacc\\nhigh,med,5more,2,med,high,unacc\\nhigh,med,5more,2,big,low,unacc\\nhigh,med,5more,2,big,med,unacc\\nhigh,med,5more,2,big,high,unacc\\nhigh,med,5more,4,small,low,unacc\\nhigh,med,5more,4,small,med,unacc\\nhigh,med,5more,4,small,high,acc\\nhigh,med,5more,4,med,low,unacc\\nhigh,med,5more,4,med,med,acc\\nhigh,med,5more,4,med,high,acc\\nhigh,med,5more,4,big,low,unacc\\nhigh,med,5more,4,big,med,acc\\nhigh,med,5more,4,big,high,acc\\nhigh,med,5more,more,small,low,unacc\\nhigh,med,5more,more,small,med,unacc\\nhigh,med,5more,more,small,high,acc\\nhigh,med,5more,more,med,low,unacc\\nhigh,med,5more,more,med,med,acc\\nhigh,med,5more,more,med,high,acc\\nhigh,med,5more,more,big,low,unacc\\nhigh,med,5more,more,big,med,acc\\nhigh,med,5more,more,big,high,acc\\nhigh,low,2,2,small,low,unacc\\nhigh,low,2,2,small,med,unacc\\nhigh,low,2,2,small,high,unacc\\nhigh,low,2,2,med,low,unacc\\nhigh,low,2,2,med,med,unacc\\nhigh,low,2,2,med,high,unacc\\nhigh,low,2,2,big,low,unacc\\nhigh,low,2,2,big,med,unacc\\nhigh,low,2,2,big,high,unacc\\nhigh,low,2,4,small,low,unacc\\nhigh,low,2,4,small,med,unacc\\nhigh,low,2,4,small,high,acc\\nhigh,low,2,4,med,low,unacc\\nhigh,low,2,4,med,med,unacc\\nhigh,low,2,4,med,high,acc\\nhigh,low,2,4,big,low,unacc\\nhigh,low,2,4,big,med,acc\\nhigh,low,2,4,big,high,acc\\nhigh,low,2,more,small,low,unacc\\nhigh,low,2,more,small,med,unacc\\nhigh,low,2,more,small,high,unacc\\nhigh,low,2,more,med,low,unacc\\nhigh,low,2,more,med,med,unacc\\nhigh,low,2,more,med,high,acc\\nhigh,low,2,more,big,low,unacc\\nhigh,low,2,more,big,med,acc\\nhigh,low,2,more,big,high,acc\\nhigh,low,3,2,small,low,unacc\\nhigh,low,3,2,small,med,unacc\\nhigh,low,3,2,small,high,unacc\\nhigh,low,3,2,med,low,unacc\\nhigh,low,3,2,med,med,unacc\\nhigh,low,3,2,med,high,unacc\\nhigh,low,3,2,big,low,unacc\\nhigh,low,3,2,big,med,unacc\\nhigh,low,3,2,big,high,unacc\\nhigh,low,3,4,small,low,unacc\\nhigh,low,3,4,small,med,unacc\\nhigh,low,3,4,small,high,acc\\nhigh,low,3,4,med,low,unacc\\nhigh,low,3,4,med,med,unacc\\nhigh,low,3,4,med,high,acc\\nhigh,low,3,4,big,low,unacc\\nhigh,low,3,4,big,med,acc\\nhigh,low,3,4,big,high,acc\\nhigh,low,3,more,small,low,unacc\\nhigh,low,3,more,small,med,unacc\\nhigh,low,3,more,small,high,acc\\nhigh,low,3,more,med,low,unacc\\nhigh,low,3,more,med,med,acc\\nhigh,low,3,more,med,high,acc\\nhigh,low,3,more,big,low,unacc\\nhigh,low,3,more,big,med,acc\\nhigh,low,3,more,big,high,acc\\nhigh,low,4,2,small,low,unacc\\nhigh,low,4,2,small,med,unacc\\nhigh,low,4,2,small,high,unacc\\nhigh,low,4,2,med,low,unacc\\nhigh,low,4,2,med,med,unacc\\nhigh,low,4,2,med,high,unacc\\nhigh,low,4,2,big,low,unacc\\nhigh,low,4,2,big,med,unacc\\nhigh,low,4,2,big,high,unacc\\nhigh,low,4,4,small,low,unacc\\nhigh,low,4,4,small,med,unacc\\nhigh,low,4,4,small,high,acc\\nhigh,low,4,4,med,low,unacc\\nhigh,low,4,4,med,med,acc\\nhigh,low,4,4,med,high,acc\\nhigh,low,4,4,big,low,unacc\\nhigh,low,4,4,big,med,acc\\nhigh,low,4,4,big,high,acc\\nhigh,low,4,more,small,low,unacc\\nhigh,low,4,more,small,med,unacc\\nhigh,low,4,more,small,high,acc\\nhigh,low,4,more,med,low,unacc\\nhigh,low,4,more,med,med,acc\\nhigh,low,4,more,med,high,acc\\nhigh,low,4,more,big,low,unacc\\nhigh,low,4,more,big,med,acc\\nhigh,low,4,more,big,high,acc\\nhigh,low,5more,2,small,low,unacc\\nhigh,low,5more,2,small,med,unacc\\nhigh,low,5more,2,small,high,unacc\\nhigh,low,5more,2,med,low,unacc\\nhigh,low,5more,2,med,med,unacc\\nhigh,low,5more,2,med,high,unacc\\nhigh,low,5more,2,big,low,unacc\\nhigh,low,5more,2,big,med,unacc\\nhigh,low,5more,2,big,high,unacc\\nhigh,low,5more,4,small,low,unacc\\nhigh,low,5more,4,small,med,unacc\\nhigh,low,5more,4,small,high,acc\\nhigh,low,5more,4,med,low,unacc\\nhigh,low,5more,4,med,med,acc\\nhigh,low,5more,4,med,high,acc\\nhigh,low,5more,4,big,low,unacc\\nhigh,low,5more,4,big,med,acc\\nhigh,low,5more,4,big,high,acc\\nhigh,low,5more,more,small,low,unacc\\nhigh,low,5more,more,small,med,unacc\\nhigh,low,5more,more,small,high,acc\\nhigh,low,5more,more,med,low,unacc\\nhigh,low,5more,more,med,med,acc\\nhigh,low,5more,more,med,high,acc\\nhigh,low,5more,more,big,low,unacc\\nhigh,low,5more,more,big,med,acc\\nhigh,low,5more,more,big,high,acc\\nmed,vhigh,2,2,small,low,unacc\\nmed,vhigh,2,2,small,med,unacc\\nmed,vhigh,2,2,small,high,unacc\\nmed,vhigh,2,2,med,low,unacc\\nmed,vhigh,2,2,med,med,unacc\\nmed,vhigh,2,2,med,high,unacc\\nmed,vhigh,2,2,big,low,unacc\\nmed,vhigh,2,2,big,med,unacc\\nmed,vhigh,2,2,big,high,unacc\\nmed,vhigh,2,4,small,low,unacc\\nmed,vhigh,2,4,small,med,unacc\\nmed,vhigh,2,4,small,high,acc\\nmed,vhigh,2,4,med,low,unacc\\nmed,vhigh,2,4,med,med,unacc\\nmed,vhigh,2,4,med,high,acc\\nmed,vhigh,2,4,big,low,unacc\\nmed,vhigh,2,4,big,med,acc\\nmed,vhigh,2,4,big,high,acc\\nmed,vhigh,2,more,small,low,unacc\\nmed,vhigh,2,more,small,med,unacc\\nmed,vhigh,2,more,small,high,unacc\\nmed,vhigh,2,more,med,low,unacc\\nmed,vhigh,2,more,med,med,unacc\\nmed,vhigh,2,more,med,high,acc\\nmed,vhigh,2,more,big,low,unacc\\nmed,vhigh,2,more,big,med,acc\\nmed,vhigh,2,more,big,high,acc\\nmed,vhigh,3,2,small,low,unacc\\nmed,vhigh,3,2,small,med,unacc\\nmed,vhigh,3,2,small,high,unacc\\nmed,vhigh,3,2,med,low,unacc\\nmed,vhigh,3,2,med,med,unacc\\nmed,vhigh,3,2,med,high,unacc\\nmed,vhigh,3,2,big,low,unacc\\nmed,vhigh,3,2,big,med,unacc\\nmed,vhigh,3,2,big,high,unacc\\nmed,vhigh,3,4,small,low,unacc\\nmed,vhigh,3,4,small,med,unacc\\nmed,vhigh,3,4,small,high,acc\\nmed,vhigh,3,4,med,low,unacc\\nmed,vhigh,3,4,med,med,unacc\\nmed,vhigh,3,4,med,high,acc\\nmed,vhigh,3,4,big,low,unacc\\nmed,vhigh,3,4,big,med,acc\\nmed,vhigh,3,4,big,high,acc\\nmed,vhigh,3,more,small,low,unacc\\nmed,vhigh,3,more,small,med,unacc\\nmed,vhigh,3,more,small,high,acc\\nmed,vhigh,3,more,med,low,unacc\\nmed,vhigh,3,more,med,med,acc\\nmed,vhigh,3,more,med,high,acc\\nmed,vhigh,3,more,big,low,unacc\\nmed,vhigh,3,more,big,med,acc\\nmed,vhigh,3,more,big,high,acc\\nmed,vhigh,4,2,small,low,unacc\\nmed,vhigh,4,2,small,med,unacc\\nmed,vhigh,4,2,small,high,unacc\\nmed,vhigh,4,2,med,low,unacc\\nmed,vhigh,4,2,med,med,unacc\\nmed,vhigh,4,2,med,high,unacc\\nmed,vhigh,4,2,big,low,unacc\\nmed,vhigh,4,2,big,med,unacc\\nmed,vhigh,4,2,big,high,unacc\\nmed,vhigh,4,4,small,low,unacc\\nmed,vhigh,4,4,small,med,unacc\\nmed,vhigh,4,4,small,high,acc\\nmed,vhigh,4,4,med,low,unacc\\nmed,vhigh,4,4,med,med,acc\\nmed,vhigh,4,4,med,high,acc\\nmed,vhigh,4,4,big,low,unacc\\nmed,vhigh,4,4,big,med,acc\\nmed,vhigh,4,4,big,high,acc\\nmed,vhigh,4,more,small,low,unacc\\nmed,vhigh,4,more,small,med,unacc\\nmed,vhigh,4,more,small,high,acc\\nmed,vhigh,4,more,med,low,unacc\\nmed,vhigh,4,more,med,med,acc\\nmed,vhigh,4,more,med,high,acc\\nmed,vhigh,4,more,big,low,unacc\\nmed,vhigh,4,more,big,med,acc\\nmed,vhigh,4,more,big,high,acc\\nmed,vhigh,5more,2,small,low,unacc\\nmed,vhigh,5more,2,small,med,unacc\\nmed,vhigh,5more,2,small,high,unacc\\nmed,vhigh,5more,2,med,low,unacc\\nmed,vhigh,5more,2,med,med,unacc\\nmed,vhigh,5more,2,med,high,unacc\\nmed,vhigh,5more,2,big,low,unacc\\nmed,vhigh,5more,2,big,med,unacc\\nmed,vhigh,5more,2,big,high,unacc\\nmed,vhigh,5more,4,small,low,unacc\\nmed,vhigh,5more,4,small,med,unacc\\nmed,vhigh,5more,4,small,high,acc\\nmed,vhigh,5more,4,med,low,unacc\\nmed,vhigh,5more,4,med,med,acc\\nmed,vhigh,5more,4,med,high,acc\\nmed,vhigh,5more,4,big,low,unacc\\nmed,vhigh,5more,4,big,med,acc\\nmed,vhigh,5more,4,big,high,acc\\nmed,vhigh,5more,more,small,low,unacc\\nmed,vhigh,5more,more,small,med,unacc\\nmed,vhigh,5more,more,small,high,acc\\nmed,vhigh,5more,more,med,low,unacc\\nmed,vhigh,5more,more,med,med,acc\\nmed,vhigh,5more,more,med,high,acc\\nmed,vhigh,5more,more,big,low,unacc\\nmed,vhigh,5more,more,big,med,acc\\nmed,vhigh,5more,more,big,high,acc\\nmed,high,2,2,small,low,unacc\\nmed,high,2,2,small,med,unacc\\nmed,high,2,2,small,high,unacc\\nmed,high,2,2,med,low,unacc\\nmed,high,2,2,med,med,unacc\\nmed,high,2,2,med,high,unacc\\nmed,high,2,2,big,low,unacc\\nmed,high,2,2,big,med,unacc\\nmed,high,2,2,big,high,unacc\\nmed,high,2,4,small,low,unacc\\nmed,high,2,4,small,med,unacc\\nmed,high,2,4,small,high,acc\\nmed,high,2,4,med,low,unacc\\nmed,high,2,4,med,med,unacc\\nmed,high,2,4,med,high,acc\\nmed,high,2,4,big,low,unacc\\nmed,high,2,4,big,med,acc\\nmed,high,2,4,big,high,acc\\nmed,high,2,more,small,low,unacc\\nmed,high,2,more,small,med,unacc\\nmed,high,2,more,small,high,unacc\\nmed,high,2,more,med,low,unacc\\nmed,high,2,more,med,med,unacc\\nmed,high,2,more,med,high,acc\\nmed,high,2,more,big,low,unacc\\nmed,high,2,more,big,med,acc\\nmed,high,2,more,big,high,acc\\nmed,high,3,2,small,low,unacc\\nmed,high,3,2,small,med,unacc\\nmed,high,3,2,small,high,unacc\\nmed,high,3,2,med,low,unacc\\nmed,high,3,2,med,med,unacc\\nmed,high,3,2,med,high,unacc\\nmed,high,3,2,big,low,unacc\\nmed,high,3,2,big,med,unacc\\nmed,high,3,2,big,high,unacc\\nmed,high,3,4,small,low,unacc\\nmed,high,3,4,small,med,unacc\\nmed,high,3,4,small,high,acc\\nmed,high,3,4,med,low,unacc\\nmed,high,3,4,med,med,unacc\\nmed,high,3,4,med,high,acc\\nmed,high,3,4,big,low,unacc\\nmed,high,3,4,big,med,acc\\nmed,high,3,4,big,high,acc\\nmed,high,3,more,small,low,unacc\\nmed,high,3,more,small,med,unacc\\nmed,high,3,more,small,high,acc\\nmed,high,3,more,med,low,unacc\\nmed,high,3,more,med,med,acc\\nmed,high,3,more,med,high,acc\\nmed,high,3,more,big,low,unacc\\nmed,high,3,more,big,med,acc\\nmed,high,3,more,big,high,acc\\nmed,high,4,2,small,low,unacc\\nmed,high,4,2,small,med,unacc\\nmed,high,4,2,small,high,unacc\\nmed,high,4,2,med,low,unacc\\nmed,high,4,2,med,med,unacc\\nmed,high,4,2,med,high,unacc\\nmed,high,4,2,big,low,unacc\\nmed,high,4,2,big,med,unacc\\nmed,high,4,2,big,high,unacc\\nmed,high,4,4,small,low,unacc\\nmed,high,4,4,small,med,unacc\\nmed,high,4,4,small,high,acc\\nmed,high,4,4,med,low,unacc\\nmed,high,4,4,med,med,acc\\nmed,high,4,4,med,high,acc\\nmed,high,4,4,big,low,unacc\\nmed,high,4,4,big,med,acc\\nmed,high,4,4,big,high,acc\\nmed,high,4,more,small,low,unacc\\nmed,high,4,more,small,med,unacc\\nmed,high,4,more,small,high,acc\\nmed,high,4,more,med,low,unacc\\nmed,high,4,more,med,med,acc\\nmed,high,4,more,med,high,acc\\nmed,high,4,more,big,low,unacc\\nmed,high,4,more,big,med,acc\\nmed,high,4,more,big,high,acc\\nmed,high,5more,2,small,low,unacc\\nmed,high,5more,2,small,med,unacc\\nmed,high,5more,2,small,high,unacc\\nmed,high,5more,2,med,low,unacc\\nmed,high,5more,2,med,med,unacc\\nmed,high,5more,2,med,high,unacc\\nmed,high,5more,2,big,low,unacc\\nmed,high,5more,2,big,med,unacc\\nmed,high,5more,2,big,high,unacc\\nmed,high,5more,4,small,low,unacc\\nmed,high,5more,4,small,med,unacc\\nmed,high,5more,4,small,high,acc\\nmed,high,5more,4,med,low,unacc\\nmed,high,5more,4,med,med,acc\\nmed,high,5more,4,med,high,acc\\nmed,high,5more,4,big,low,unacc\\nmed,high,5more,4,big,med,acc\\nmed,high,5more,4,big,high,acc\\nmed,high,5more,more,small,low,unacc\\nmed,high,5more,more,small,med,unacc\\nmed,high,5more,more,small,high,acc\\nmed,high,5more,more,med,low,unacc\\nmed,high,5more,more,med,med,acc\\nmed,high,5more,more,med,high,acc\\nmed,high,5more,more,big,low,unacc\\nmed,high,5more,more,big,med,acc\\nmed,high,5more,more,big,high,acc\\nmed,med,2,2,small,low,unacc\\nmed,med,2,2,small,med,unacc\\nmed,med,2,2,small,high,unacc\\nmed,med,2,2,med,low,unacc\\nmed,med,2,2,med,med,unacc\\nmed,med,2,2,med,high,unacc\\nmed,med,2,2,big,low,unacc\\nmed,med,2,2,big,med,unacc\\nmed,med,2,2,big,high,unacc\\nmed,med,2,4,small,low,unacc\\nmed,med,2,4,small,med,acc\\nmed,med,2,4,small,high,acc\\nmed,med,2,4,med,low,unacc\\nmed,med,2,4,med,med,acc\\nmed,med,2,4,med,high,acc\\nmed,med,2,4,big,low,unacc\\nmed,med,2,4,big,med,acc\\nmed,med,2,4,big,high,vgood\\nmed,med,2,more,small,low,unacc\\nmed,med,2,more,small,med,unacc\\nmed,med,2,more,small,high,unacc\\nmed,med,2,more,med,low,unacc\\nmed,med,2,more,med,med,acc\\nmed,med,2,more,med,high,acc\\nmed,med,2,more,big,low,unacc\\nmed,med,2,more,big,med,acc\\nmed,med,2,more,big,high,vgood\\nmed,med,3,2,small,low,unacc\\nmed,med,3,2,small,med,unacc\\nmed,med,3,2,small,high,unacc\\nmed,med,3,2,med,low,unacc\\nmed,med,3,2,med,med,unacc\\nmed,med,3,2,med,high,unacc\\nmed,med,3,2,big,low,unacc\\nmed,med,3,2,big,med,unacc\\nmed,med,3,2,big,high,unacc\\nmed,med,3,4,small,low,unacc\\nmed,med,3,4,small,med,acc\\nmed,med,3,4,small,high,acc\\nmed,med,3,4,med,low,unacc\\nmed,med,3,4,med,med,acc\\nmed,med,3,4,med,high,acc\\nmed,med,3,4,big,low,unacc\\nmed,med,3,4,big,med,acc\\nmed,med,3,4,big,high,vgood\\nmed,med,3,more,small,low,unacc\\nmed,med,3,more,small,med,acc\\nmed,med,3,more,small,high,acc\\nmed,med,3,more,med,low,unacc\\nmed,med,3,more,med,med,acc\\nmed,med,3,more,med,high,vgood\\nmed,med,3,more,big,low,unacc\\nmed,med,3,more,big,med,acc\\nmed,med,3,more,big,high,vgood\\nmed,med,4,2,small,low,unacc\\nmed,med,4,2,small,med,unacc\\nmed,med,4,2,small,high,unacc\\nmed,med,4,2,med,low,unacc\\nmed,med,4,2,med,med,unacc\\nmed,med,4,2,med,high,unacc\\nmed,med,4,2,big,low,unacc\\nmed,med,4,2,big,med,unacc\\nmed,med,4,2,big,high,unacc\\nmed,med,4,4,small,low,unacc\\nmed,med,4,4,small,med,acc\\nmed,med,4,4,small,high,acc\\nmed,med,4,4,med,low,unacc\\nmed,med,4,4,med,med,acc\\nmed,med,4,4,med,high,vgood\\nmed,med,4,4,big,low,unacc\\nmed,med,4,4,big,med,acc\\nmed,med,4,4,big,high,vgood\\nmed,med,4,more,small,low,unacc\\nmed,med,4,more,small,med,acc\\nmed,med,4,more,small,high,acc\\nmed,med,4,more,med,low,unacc\\nmed,med,4,more,med,med,acc\\nmed,med,4,more,med,high,vgood\\nmed,med,4,more,big,low,unacc\\nmed,med,4,more,big,med,acc\\nmed,med,4,more,big,high,vgood\\nmed,med,5more,2,small,low,unacc\\nmed,med,5more,2,small,med,unacc\\nmed,med,5more,2,small,high,unacc\\nmed,med,5more,2,med,low,unacc\\nmed,med,5more,2,med,med,unacc\\nmed,med,5more,2,med,high,unacc\\nmed,med,5more,2,big,low,unacc\\nmed,med,5more,2,big,med,unacc\\nmed,med,5more,2,big,high,unacc\\nmed,med,5more,4,small,low,unacc\\nmed,med,5more,4,small,med,acc\\nmed,med,5more,4,small,high,acc\\nmed,med,5more,4,med,low,unacc\\nmed,med,5more,4,med,med,acc\\nmed,med,5more,4,med,high,vgood\\nmed,med,5more,4,big,low,unacc\\nmed,med,5more,4,big,med,acc\\nmed,med,5more,4,big,high,vgood\\nmed,med,5more,more,small,low,unacc\\nmed,med,5more,more,small,med,acc\\nmed,med,5more,more,small,high,acc\\nmed,med,5more,more,med,low,unacc\\nmed,med,5more,more,med,med,acc\\nmed,med,5more,more,med,high,vgood\\nmed,med,5more,more,big,low,unacc\\nmed,med,5more,more,big,med,acc\\nmed,med,5more,more,big,high,vgood\\nmed,low,2,2,small,low,unacc\\nmed,low,2,2,small,med,unacc\\nmed,low,2,2,small,high,unacc\\nmed,low,2,2,med,low,unacc\\nmed,low,2,2,med,med,unacc\\nmed,low,2,2,med,high,unacc\\nmed,low,2,2,big,low,unacc\\nmed,low,2,2,big,med,unacc\\nmed,low,2,2,big,high,unacc\\nmed,low,2,4,small,low,unacc\\nmed,low,2,4,small,med,acc\\nmed,low,2,4,small,high,good\\nmed,low,2,4,med,low,unacc\\nmed,low,2,4,med,med,acc\\nmed,low,2,4,med,high,good\\nmed,low,2,4,big,low,unacc\\nmed,low,2,4,big,med,good\\nmed,low,2,4,big,high,vgood\\nmed,low,2,more,small,low,unacc\\nmed,low,2,more,small,med,unacc\\nmed,low,2,more,small,high,unacc\\nmed,low,2,more,med,low,unacc\\nmed,low,2,more,med,med,acc\\nmed,low,2,more,med,high,good\\nmed,low,2,more,big,low,unacc\\nmed,low,2,more,big,med,good\\nmed,low,2,more,big,high,vgood\\nmed,low,3,2,small,low,unacc\\nmed,low,3,2,small,med,unacc\\nmed,low,3,2,small,high,unacc\\nmed,low,3,2,med,low,unacc\\nmed,low,3,2,med,med,unacc\\nmed,low,3,2,med,high,unacc\\nmed,low,3,2,big,low,unacc\\nmed,low,3,2,big,med,unacc\\nmed,low,3,2,big,high,unacc\\nmed,low,3,4,small,low,unacc\\nmed,low,3,4,small,med,acc\\nmed,low,3,4,small,high,good\\nmed,low,3,4,med,low,unacc\\nmed,low,3,4,med,med,acc\\nmed,low,3,4,med,high,good\\nmed,low,3,4,big,low,unacc\\nmed,low,3,4,big,med,good\\nmed,low,3,4,big,high,vgood\\nmed,low,3,more,small,low,unacc\\nmed,low,3,more,small,med,acc\\nmed,low,3,more,small,high,good\\nmed,low,3,more,med,low,unacc\\nmed,low,3,more,med,med,good\\nmed,low,3,more,med,high,vgood\\nmed,low,3,more,big,low,unacc\\nmed,low,3,more,big,med,good\\nmed,low,3,more,big,high,vgood\\nmed,low,4,2,small,low,unacc\\nmed,low,4,2,small,med,unacc\\nmed,low,4,2,small,high,unacc\\nmed,low,4,2,med,low,unacc\\nmed,low,4,2,med,med,unacc\\nmed,low,4,2,med,high,unacc\\nmed,low,4,2,big,low,unacc\\nmed,low,4,2,big,med,unacc\\nmed,low,4,2,big,high,unacc\\nmed,low,4,4,small,low,unacc\\nmed,low,4,4,small,med,acc\\nmed,low,4,4,small,high,good\\nmed,low,4,4,med,low,unacc\\nmed,low,4,4,med,med,good\\nmed,low,4,4,med,high,vgood\\nmed,low,4,4,big,low,unacc\\nmed,low,4,4,big,med,good\\nmed,low,4,4,big,high,vgood\\nmed,low,4,more,small,low,unacc\\nmed,low,4,more,small,med,acc\\nmed,low,4,more,small,high,good\\nmed,low,4,more,med,low,unacc\\nmed,low,4,more,med,med,good\\nmed,low,4,more,med,high,vgood\\nmed,low,4,more,big,low,unacc\\nmed,low,4,more,big,med,good\\nmed,low,4,more,big,high,vgood\\nmed,low,5more,2,small,low,unacc\\nmed,low,5more,2,small,med,unacc\\nmed,low,5more,2,small,high,unacc\\nmed,low,5more,2,med,low,unacc\\nmed,low,5more,2,med,med,unacc\\nmed,low,5more,2,med,high,unacc\\nmed,low,5more,2,big,low,unacc\\nmed,low,5more,2,big,med,unacc\\nmed,low,5more,2,big,high,unacc\\nmed,low,5more,4,small,low,unacc\\nmed,low,5more,4,small,med,acc\\nmed,low,5more,4,small,high,good\\nmed,low,5more,4,med,low,unacc\\nmed,low,5more,4,med,med,good\\nmed,low,5more,4,med,high,vgood\\nmed,low,5more,4,big,low,unacc\\nmed,low,5more,4,big,med,good\\nmed,low,5more,4,big,high,vgood\\nmed,low,5more,more,small,low,unacc\\nmed,low,5more,more,small,med,acc\\nmed,low,5more,more,small,high,good\\nmed,low,5more,more,med,low,unacc\\nmed,low,5more,more,med,med,good\\nmed,low,5more,more,med,high,vgood\\nmed,low,5more,more,big,low,unacc\\nmed,low,5more,more,big,med,good\\nmed,low,5more,more,big,high,vgood\\nlow,vhigh,2,2,small,low,unacc\\nlow,vhigh,2,2,small,med,unacc\\nlow,vhigh,2,2,small,high,unacc\\nlow,vhigh,2,2,med,low,unacc\\nlow,vhigh,2,2,med,med,unacc\\nlow,vhigh,2,2,med,high,unacc\\nlow,vhigh,2,2,big,low,unacc\\nlow,vhigh,2,2,big,med,unacc\\nlow,vhigh,2,2,big,high,unacc\\nlow,vhigh,2,4,small,low,unacc\\nlow,vhigh,2,4,small,med,unacc\\nlow,vhigh,2,4,small,high,acc\\nlow,vhigh,2,4,med,low,unacc\\nlow,vhigh,2,4,med,med,unacc\\nlow,vhigh,2,4,med,high,acc\\nlow,vhigh,2,4,big,low,unacc\\nlow,vhigh,2,4,big,med,acc\\nlow,vhigh,2,4,big,high,acc\\nlow,vhigh,2,more,small,low,unacc\\nlow,vhigh,2,more,small,med,unacc\\nlow,vhigh,2,more,small,high,unacc\\nlow,vhigh,2,more,med,low,unacc\\nlow,vhigh,2,more,med,med,unacc\\nlow,vhigh,2,more,med,high,acc\\nlow,vhigh,2,more,big,low,unacc\\nlow,vhigh,2,more,big,med,acc\\nlow,vhigh,2,more,big,high,acc\\nlow,vhigh,3,2,small,low,unacc\\nlow,vhigh,3,2,small,med,unacc\\nlow,vhigh,3,2,small,high,unacc\\nlow,vhigh,3,2,med,low,unacc\\nlow,vhigh,3,2,med,med,unacc\\nlow,vhigh,3,2,med,high,unacc\\nlow,vhigh,3,2,big,low,unacc\\nlow,vhigh,3,2,big,med,unacc\\nlow,vhigh,3,2,big,high,unacc\\nlow,vhigh,3,4,small,low,unacc\\nlow,vhigh,3,4,small,med,unacc\\nlow,vhigh,3,4,small,high,acc\\nlow,vhigh,3,4,med,low,unacc\\nlow,vhigh,3,4,med,med,unacc\\nlow,vhigh,3,4,med,high,acc\\nlow,vhigh,3,4,big,low,unacc\\nlow,vhigh,3,4,big,med,acc\\nlow,vhigh,3,4,big,high,acc\\nlow,vhigh,3,more,small,low,unacc\\nlow,vhigh,3,more,small,med,unacc\\nlow,vhigh,3,more,small,high,acc\\nlow,vhigh,3,more,med,low,unacc\\nlow,vhigh,3,more,med,med,acc\\nlow,vhigh,3,more,med,high,acc\\nlow,vhigh,3,more,big,low,unacc\\nlow,vhigh,3,more,big,med,acc\\nlow,vhigh,3,more,big,high,acc\\nlow,vhigh,4,2,small,low,unacc\\nlow,vhigh,4,2,small,med,unacc\\nlow,vhigh,4,2,small,high,unacc\\nlow,vhigh,4,2,med,low,unacc\\nlow,vhigh,4,2,med,med,unacc\\nlow,vhigh,4,2,med,high,unacc\\nlow,vhigh,4,2,big,low,unacc\\nlow,vhigh,4,2,big,med,unacc\\nlow,vhigh,4,2,big,high,unacc\\nlow,vhigh,4,4,small,low,unacc\\nlow,vhigh,4,4,small,med,unacc\\nlow,vhigh,4,4,small,high,acc\\nlow,vhigh,4,4,med,low,unacc\\nlow,vhigh,4,4,med,med,acc\\nlow,vhigh,4,4,med,high,acc\\nlow,vhigh,4,4,big,low,unacc\\nlow,vhigh,4,4,big,med,acc\\nlow,vhigh,4,4,big,high,acc\\nlow,vhigh,4,more,small,low,unacc\\nlow,vhigh,4,more,small,med,unacc\\nlow,vhigh,4,more,small,high,acc\\nlow,vhigh,4,more,med,low,unacc\\nlow,vhigh,4,more,med,med,acc\\nlow,vhigh,4,more,med,high,acc\\nlow,vhigh,4,more,big,low,unacc\\nlow,vhigh,4,more,big,med,acc\\nlow,vhigh,4,more,big,high,acc\\nlow,vhigh,5more,2,small,low,unacc\\nlow,vhigh,5more,2,small,med,unacc\\nlow,vhigh,5more,2,small,high,unacc\\nlow,vhigh,5more,2,med,low,unacc\\nlow,vhigh,5more,2,med,med,unacc\\nlow,vhigh,5more,2,med,high,unacc\\nlow,vhigh,5more,2,big,low,unacc\\nlow,vhigh,5more,2,big,med,unacc\\nlow,vhigh,5more,2,big,high,unacc\\nlow,vhigh,5more,4,small,low,unacc\\nlow,vhigh,5more,4,small,med,unacc\\nlow,vhigh,5more,4,small,high,acc\\nlow,vhigh,5more,4,med,low,unacc\\nlow,vhigh,5more,4,med,med,acc\\nlow,vhigh,5more,4,med,high,acc\\nlow,vhigh,5more,4,big,low,unacc\\nlow,vhigh,5more,4,big,med,acc\\nlow,vhigh,5more,4,big,high,acc\\nlow,vhigh,5more,more,small,low,unacc\\nlow,vhigh,5more,more,small,med,unacc\\nlow,vhigh,5more,more,small,high,acc\\nlow,vhigh,5more,more,med,low,unacc\\nlow,vhigh,5more,more,med,med,acc\\nlow,vhigh,5more,more,med,high,acc\\nlow,vhigh,5more,more,big,low,unacc\\nlow,vhigh,5more,more,big,med,acc\\nlow,vhigh,5more,more,big,high,acc\\nlow,high,2,2,small,low,unacc\\nlow,high,2,2,small,med,unacc\\nlow,high,2,2,small,high,unacc\\nlow,high,2,2,med,low,unacc\\nlow,high,2,2,med,med,unacc\\nlow,high,2,2,med,high,unacc\\nlow,high,2,2,big,low,unacc\\nlow,high,2,2,big,med,unacc\\nlow,high,2,2,big,high,unacc\\nlow,high,2,4,small,low,unacc\\nlow,high,2,4,small,med,acc\\nlow,high,2,4,small,high,acc\\nlow,high,2,4,med,low,unacc\\nlow,high,2,4,med,med,acc\\nlow,high,2,4,med,high,acc\\nlow,high,2,4,big,low,unacc\\nlow,high,2,4,big,med,acc\\nlow,high,2,4,big,high,vgood\\nlow,high,2,more,small,low,unacc\\nlow,high,2,more,small,med,unacc\\nlow,high,2,more,small,high,unacc\\nlow,high,2,more,med,low,unacc\\nlow,high,2,more,med,med,acc\\nlow,high,2,more,med,high,acc\\nlow,high,2,more,big,low,unacc\\nlow,high,2,more,big,med,acc\\nlow,high,2,more,big,high,vgood\\nlow,high,3,2,small,low,unacc\\nlow,high,3,2,small,med,unacc\\nlow,high,3,2,small,high,unacc\\nlow,high,3,2,med,low,unacc\\nlow,high,3,2,med,med,unacc\\nlow,high,3,2,med,high,unacc\\nlow,high,3,2,big,low,unacc\\nlow,high,3,2,big,med,unacc\\nlow,high,3,2,big,high,unacc\\nlow,high,3,4,small,low,unacc\\nlow,high,3,4,small,med,acc\\nlow,high,3,4,small,high,acc\\nlow,high,3,4,med,low,unacc\\nlow,high,3,4,med,med,acc\\nlow,high,3,4,med,high,acc\\nlow,high,3,4,big,low,unacc\\nlow,high,3,4,big,med,acc\\nlow,high,3,4,big,high,vgood\\nlow,high,3,more,small,low,unacc\\nlow,high,3,more,small,med,acc\\nlow,high,3,more,small,high,acc\\nlow,high,3,more,med,low,unacc\\nlow,high,3,more,med,med,acc\\nlow,high,3,more,med,high,vgood\\nlow,high,3,more,big,low,unacc\\nlow,high,3,more,big,med,acc\\nlow,high,3,more,big,high,vgood\\nlow,high,4,2,small,low,unacc\\nlow,high,4,2,small,med,unacc\\nlow,high,4,2,small,high,unacc\\nlow,high,4,2,med,low,unacc\\nlow,high,4,2,med,med,unacc\\nlow,high,4,2,med,high,unacc\\nlow,high,4,2,big,low,unacc\\nlow,high,4,2,big,med,unacc\\nlow,high,4,2,big,high,unacc\\nlow,high,4,4,small,low,unacc\\nlow,high,4,4,small,med,acc\\nlow,high,4,4,small,high,acc\\nlow,high,4,4,med,low,unacc\\nlow,high,4,4,med,med,acc\\nlow,high,4,4,med,high,vgood\\nlow,high,4,4,big,low,unacc\\nlow,high,4,4,big,med,acc\\nlow,high,4,4,big,high,vgood\\nlow,high,4,more,small,low,unacc\\nlow,high,4,more,small,med,acc\\nlow,high,4,more,small,high,acc\\nlow,high,4,more,med,low,unacc\\nlow,high,4,more,med,med,acc\\nlow,high,4,more,med,high,vgood\\nlow,high,4,more,big,low,unacc\\nlow,high,4,more,big,med,acc\\nlow,high,4,more,big,high,vgood\\nlow,high,5more,2,small,low,unacc\\nlow,high,5more,2,small,med,unacc\\nlow,high,5more,2,small,high,unacc\\nlow,high,5more,2,med,low,unacc\\nlow,high,5more,2,med,med,unacc\\nlow,high,5more,2,med,high,unacc\\nlow,high,5more,2,big,low,unacc\\nlow,high,5more,2,big,med,unacc\\nlow,high,5more,2,big,high,unacc\\nlow,high,5more,4,small,low,unacc\\nlow,high,5more,4,small,med,acc\\nlow,high,5more,4,small,high,acc\\nlow,high,5more,4,med,low,unacc\\nlow,high,5more,4,med,med,acc\\nlow,high,5more,4,med,high,vgood\\nlow,high,5more,4,big,low,unacc\\nlow,high,5more,4,big,med,acc\\nlow,high,5more,4,big,high,vgood\\nlow,high,5more,more,small,low,unacc\\nlow,high,5more,more,small,med,acc\\nlow,high,5more,more,small,high,acc\\nlow,high,5more,more,med,low,unacc\\nlow,high,5more,more,med,med,acc\\nlow,high,5more,more,med,high,vgood\\nlow,high,5more,more,big,low,unacc\\nlow,high,5more,more,big,med,acc\\nlow,high,5more,more,big,high,vgood\\nlow,med,2,2,small,low,unacc\\nlow,med,2,2,small,med,unacc\\nlow,med,2,2,small,high,unacc\\nlow,med,2,2,med,low,unacc\\nlow,med,2,2,med,med,unacc\\nlow,med,2,2,med,high,unacc\\nlow,med,2,2,big,low,unacc\\nlow,med,2,2,big,med,unacc\\nlow,med,2,2,big,high,unacc\\nlow,med,2,4,small,low,unacc\\nlow,med,2,4,small,med,acc\\nlow,med,2,4,small,high,good\\nlow,med,2,4,med,low,unacc\\nlow,med,2,4,med,med,acc\\nlow,med,2,4,med,high,good\\nlow,med,2,4,big,low,unacc\\nlow,med,2,4,big,med,good\\nlow,med,2,4,big,high,vgood\\nlow,med,2,more,small,low,unacc\\nlow,med,2,more,small,med,unacc\\nlow,med,2,more,small,high,unacc\\nlow,med,2,more,med,low,unacc\\nlow,med,2,more,med,med,acc\\nlow,med,2,more,med,high,good\\nlow,med,2,more,big,low,unacc\\nlow,med,2,more,big,med,good\\nlow,med,2,more,big,high,vgood\\nlow,med,3,2,small,low,unacc\\nlow,med,3,2,small,med,unacc\\nlow,med,3,2,small,high,unacc\\nlow,med,3,2,med,low,unacc\\nlow,med,3,2,med,med,unacc\\nlow,med,3,2,med,high,unacc\\nlow,med,3,2,big,low,unacc\\nlow,med,3,2,big,med,unacc\\nlow,med,3,2,big,high,unacc\\nlow,med,3,4,small,low,unacc\\nlow,med,3,4,small,med,acc\\nlow,med,3,4,small,high,good\\nlow,med,3,4,med,low,unacc\\nlow,med,3,4,med,med,acc\\nlow,med,3,4,med,high,good\\nlow,med,3,4,big,low,unacc\\nlow,med,3,4,big,med,good\\nlow,med,3,4,big,high,vgood\\nlow,med,3,more,small,low,unacc\\nlow,med,3,more,small,med,acc\\nlow,med,3,more,small,high,good\\nlow,med,3,more,med,low,unacc\\nlow,med,3,more,med,med,good\\nlow,med,3,more,med,high,vgood\\nlow,med,3,more,big,low,unacc\\nlow,med,3,more,big,med,good\\nlow,med,3,more,big,high,vgood\\nlow,med,4,2,small,low,unacc\\nlow,med,4,2,small,med,unacc\\nlow,med,4,2,small,high,unacc\\nlow,med,4,2,med,low,unacc\\nlow,med,4,2,med,med,unacc\\nlow,med,4,2,med,high,unacc\\nlow,med,4,2,big,low,unacc\\nlow,med,4,2,big,med,unacc\\nlow,med,4,2,big,high,unacc\\nlow,med,4,4,small,low,unacc\\nlow,med,4,4,small,med,acc\\nlow,med,4,4,small,high,good\\nlow,med,4,4,med,low,unacc\\nlow,med,4,4,med,med,good\\nlow,med,4,4,med,high,vgood\\nlow,med,4,4,big,low,unacc\\nlow,med,4,4,big,med,good\\nlow,med,4,4,big,high,vgood\\nlow,med,4,more,small,low,unacc\\nlow,med,4,more,small,med,acc\\nlow,med,4,more,small,high,good\\nlow,med,4,more,med,low,unacc\\nlow,med,4,more,med,med,good\\nlow,med,4,more,med,high,vgood\\nlow,med,4,more,big,low,unacc\\nlow,med,4,more,big,med,good\\nlow,med,4,more,big,high,vgood\\nlow,med,5more,2,small,low,unacc\\nlow,med,5more,2,small,med,unacc\\nlow,med,5more,2,small,high,unacc\\nlow,med,5more,2,med,low,unacc\\nlow,med,5more,2,med,med,unacc\\nlow,med,5more,2,med,high,unacc\\nlow,med,5more,2,big,low,unacc\\nlow,med,5more,2,big,med,unacc\\nlow,med,5more,2,big,high,unacc\\nlow,med,5more,4,small,low,unacc\\nlow,med,5more,4,small,med,acc\\nlow,med,5more,4,small,high,good\\nlow,med,5more,4,med,low,unacc\\nlow,med,5more,4,med,med,good\\nlow,med,5more,4,med,high,vgood\\nlow,med,5more,4,big,low,unacc\\nlow,med,5more,4,big,med,good\\nlow,med,5more,4,big,high,vgood\\nlow,med,5more,more,small,low,unacc\\nlow,med,5more,more,small,med,acc\\nlow,med,5more,more,small,high,good\\nlow,med,5more,more,med,low,unacc\\nlow,med,5more,more,med,med,good\\nlow,med,5more,more,med,high,vgood\\nlow,med,5more,more,big,low,unacc\\nlow,med,5more,more,big,med,good\\nlow,med,5more,more,big,high,vgood\\nlow,low,2,2,small,low,unacc\\nlow,low,2,2,small,med,unacc\\nlow,low,2,2,small,high,unacc\\nlow,low,2,2,med,low,unacc\\nlow,low,2,2,med,med,unacc\\nlow,low,2,2,med,high,unacc\\nlow,low,2,2,big,low,unacc\\nlow,low,2,2,big,med,unacc\\nlow,low,2,2,big,high,unacc\\nlow,low,2,4,small,low,unacc\\nlow,low,2,4,small,med,acc\\nlow,low,2,4,small,high,good\\nlow,low,2,4,med,low,unacc\\nlow,low,2,4,med,med,acc\\nlow,low,2,4,med,high,good\\nlow,low,2,4,big,low,unacc\\nlow,low,2,4,big,med,good\\nlow,low,2,4,big,high,vgood\\nlow,low,2,more,small,low,unacc\\nlow,low,2,more,small,med,unacc\\nlow,low,2,more,small,high,unacc\\nlow,low,2,more,med,low,unacc\\nlow,low,2,more,med,med,acc\\nlow,low,2,more,med,high,good\\nlow,low,2,more,big,low,unacc\\nlow,low,2,more,big,med,good\\nlow,low,2,more,big,high,vgood\\nlow,low,3,2,small,low,unacc\\nlow,low,3,2,small,med,unacc\\nlow,low,3,2,small,high,unacc\\nlow,low,3,2,med,low,unacc\\nlow,low,3,2,med,med,unacc\\nlow,low,3,2,med,high,unacc\\nlow,low,3,2,big,low,unacc\\nlow,low,3,2,big,med,unacc\\nlow,low,3,2,big,high,unacc\\nlow,low,3,4,small,low,unacc\\nlow,low,3,4,small,med,acc\\nlow,low,3,4,small,high,good\\nlow,low,3,4,med,low,unacc\\nlow,low,3,4,med,med,acc\\nlow,low,3,4,med,high,good\\nlow,low,3,4,big,low,unacc\\nlow,low,3,4,big,med,good\\nlow,low,3,4,big,high,vgood\\nlow,low,3,more,small,low,unacc\\nlow,low,3,more,small,med,acc\\nlow,low,3,more,small,high,good\\nlow,low,3,more,med,low,unacc\\nlow,low,3,more,med,med,good\\nlow,low,3,more,med,high,vgood\\nlow,low,3,more,big,low,unacc\\nlow,low,3,more,big,med,good\\nlow,low,3,more,big,high,vgood\\nlow,low,4,2,small,low,unacc\\nlow,low,4,2,small,med,unacc\\nlow,low,4,2,small,high,unacc\\nlow,low,4,2,med,low,unacc\\nlow,low,4,2,med,med,unacc\\nlow,low,4,2,med,high,unacc\\nlow,low,4,2,big,low,unacc\\nlow,low,4,2,big,med,unacc\\nlow,low,4,2,big,high,unacc\\nlow,low,4,4,small,low,unacc\\nlow,low,4,4,small,med,acc\\nlow,low,4,4,small,high,good\\nlow,low,4,4,med,low,unacc\\nlow,low,4,4,med,med,good\\nlow,low,4,4,med,high,vgood\\nlow,low,4,4,big,low,unacc\\nlow,low,4,4,big,med,good\\nlow,low,4,4,big,high,vgood\\nlow,low,4,more,small,low,unacc\\nlow,low,4,more,small,med,acc\\nlow,low,4,more,small,high,good\\nlow,low,4,more,med,low,unacc\\nlow,low,4,more,med,med,good\\nlow,low,4,more,med,high,vgood\\nlow,low,4,more,big,low,unacc\\nlow,low,4,more,big,med,good\\nlow,low,4,more,big,high,vgood\\nlow,low,5more,2,small,low,unacc\\nlow,low,5more,2,small,med,unacc\\nlow,low,5more,2,small,high,unacc\\nlow,low,5more,2,med,low,unacc\\nlow,low,5more,2,med,med,unacc\\nlow,low,5more,2,med,high,unacc\\nlow,low,5more,2,big,low,unacc\\nlow,low,5more,2,big,med,unacc\\nlow,low,5more,2,big,high,unacc\\nlow,low,5more,4,small,low,unacc\\nlow,low,5more,4,small,med,acc\\nlow,low,5more,4,small,high,good\\nlow,low,5more,4,med,low,unacc\\nlow,low,5more,4,med,med,good\\nlow,low,5more,4,med,high,vgood\\nlow,low,5more,4,big,low,unacc\\nlow,low,5more,4,big,med,good\\nlow,low,5more,4,big,high,vgood\\nlow,low,5more,more,small,low,unacc\\nlow,low,5more,more,small,med,acc\\nlow,low,5more,more,small,high,good\\nlow,low,5more,more,med,low,unacc\\nlow,low,5more,more,med,med,good\\nlow,low,5more,more,med,high,vgood\\nlow,low,5more,more,big,low,unacc\\nlow,low,5more,more,big,med,good\\nlow,low,5more,more,big,high,vgood\\n'}"
            ]
          },
          "metadata": {
            "tags": []
          },
          "execution_count": 42
        }
      ]
    },
    {
      "cell_type": "code",
      "metadata": {
        "id": "WacKUouTEMDr",
        "colab_type": "code",
        "colab": {
          "base_uri": "https://localhost:8080/",
          "height": 204
        },
        "outputId": "13e1cfb0-a4b5-4d01-d831-5d604907009e"
      },
      "source": [
        "#read the dataset\n",
        "column_headers = ['buying','maint','doors', 'persons','lug_boot', 'safety', 'Car']\n",
        "cars = pd.read_csv('car.data',header=None, names= column_headers)\n",
        "cars.head()"
      ],
      "execution_count": 51,
      "outputs": [
        {
          "output_type": "execute_result",
          "data": {
            "text/html": [
              "<div>\n",
              "<style scoped>\n",
              "    .dataframe tbody tr th:only-of-type {\n",
              "        vertical-align: middle;\n",
              "    }\n",
              "\n",
              "    .dataframe tbody tr th {\n",
              "        vertical-align: top;\n",
              "    }\n",
              "\n",
              "    .dataframe thead th {\n",
              "        text-align: right;\n",
              "    }\n",
              "</style>\n",
              "<table border=\"1\" class=\"dataframe\">\n",
              "  <thead>\n",
              "    <tr style=\"text-align: right;\">\n",
              "      <th></th>\n",
              "      <th>buying</th>\n",
              "      <th>maint</th>\n",
              "      <th>doors</th>\n",
              "      <th>persons</th>\n",
              "      <th>lug_boot</th>\n",
              "      <th>safety</th>\n",
              "      <th>Car</th>\n",
              "    </tr>\n",
              "  </thead>\n",
              "  <tbody>\n",
              "    <tr>\n",
              "      <th>0</th>\n",
              "      <td>vhigh</td>\n",
              "      <td>vhigh</td>\n",
              "      <td>2</td>\n",
              "      <td>2</td>\n",
              "      <td>small</td>\n",
              "      <td>low</td>\n",
              "      <td>unacc</td>\n",
              "    </tr>\n",
              "    <tr>\n",
              "      <th>1</th>\n",
              "      <td>vhigh</td>\n",
              "      <td>vhigh</td>\n",
              "      <td>2</td>\n",
              "      <td>2</td>\n",
              "      <td>small</td>\n",
              "      <td>med</td>\n",
              "      <td>unacc</td>\n",
              "    </tr>\n",
              "    <tr>\n",
              "      <th>2</th>\n",
              "      <td>vhigh</td>\n",
              "      <td>vhigh</td>\n",
              "      <td>2</td>\n",
              "      <td>2</td>\n",
              "      <td>small</td>\n",
              "      <td>high</td>\n",
              "      <td>unacc</td>\n",
              "    </tr>\n",
              "    <tr>\n",
              "      <th>3</th>\n",
              "      <td>vhigh</td>\n",
              "      <td>vhigh</td>\n",
              "      <td>2</td>\n",
              "      <td>2</td>\n",
              "      <td>med</td>\n",
              "      <td>low</td>\n",
              "      <td>unacc</td>\n",
              "    </tr>\n",
              "    <tr>\n",
              "      <th>4</th>\n",
              "      <td>vhigh</td>\n",
              "      <td>vhigh</td>\n",
              "      <td>2</td>\n",
              "      <td>2</td>\n",
              "      <td>med</td>\n",
              "      <td>med</td>\n",
              "      <td>unacc</td>\n",
              "    </tr>\n",
              "  </tbody>\n",
              "</table>\n",
              "</div>"
            ],
            "text/plain": [
              "  buying  maint doors persons lug_boot safety    Car\n",
              "0  vhigh  vhigh     2       2    small    low  unacc\n",
              "1  vhigh  vhigh     2       2    small    med  unacc\n",
              "2  vhigh  vhigh     2       2    small   high  unacc\n",
              "3  vhigh  vhigh     2       2      med    low  unacc\n",
              "4  vhigh  vhigh     2       2      med    med  unacc"
            ]
          },
          "metadata": {
            "tags": []
          },
          "execution_count": 51
        }
      ]
    },
    {
      "cell_type": "code",
      "metadata": {
        "id": "AsiLUKcTHoc6",
        "colab_type": "code",
        "colab": {
          "base_uri": "https://localhost:8080/",
          "height": 204
        },
        "outputId": "60087b66-5aaf-434f-928e-3ee13242d498"
      },
      "source": [
        "cars.tail()"
      ],
      "execution_count": 52,
      "outputs": [
        {
          "output_type": "execute_result",
          "data": {
            "text/html": [
              "<div>\n",
              "<style scoped>\n",
              "    .dataframe tbody tr th:only-of-type {\n",
              "        vertical-align: middle;\n",
              "    }\n",
              "\n",
              "    .dataframe tbody tr th {\n",
              "        vertical-align: top;\n",
              "    }\n",
              "\n",
              "    .dataframe thead th {\n",
              "        text-align: right;\n",
              "    }\n",
              "</style>\n",
              "<table border=\"1\" class=\"dataframe\">\n",
              "  <thead>\n",
              "    <tr style=\"text-align: right;\">\n",
              "      <th></th>\n",
              "      <th>buying</th>\n",
              "      <th>maint</th>\n",
              "      <th>doors</th>\n",
              "      <th>persons</th>\n",
              "      <th>lug_boot</th>\n",
              "      <th>safety</th>\n",
              "      <th>Car</th>\n",
              "    </tr>\n",
              "  </thead>\n",
              "  <tbody>\n",
              "    <tr>\n",
              "      <th>1723</th>\n",
              "      <td>low</td>\n",
              "      <td>low</td>\n",
              "      <td>5more</td>\n",
              "      <td>more</td>\n",
              "      <td>med</td>\n",
              "      <td>med</td>\n",
              "      <td>good</td>\n",
              "    </tr>\n",
              "    <tr>\n",
              "      <th>1724</th>\n",
              "      <td>low</td>\n",
              "      <td>low</td>\n",
              "      <td>5more</td>\n",
              "      <td>more</td>\n",
              "      <td>med</td>\n",
              "      <td>high</td>\n",
              "      <td>vgood</td>\n",
              "    </tr>\n",
              "    <tr>\n",
              "      <th>1725</th>\n",
              "      <td>low</td>\n",
              "      <td>low</td>\n",
              "      <td>5more</td>\n",
              "      <td>more</td>\n",
              "      <td>big</td>\n",
              "      <td>low</td>\n",
              "      <td>unacc</td>\n",
              "    </tr>\n",
              "    <tr>\n",
              "      <th>1726</th>\n",
              "      <td>low</td>\n",
              "      <td>low</td>\n",
              "      <td>5more</td>\n",
              "      <td>more</td>\n",
              "      <td>big</td>\n",
              "      <td>med</td>\n",
              "      <td>good</td>\n",
              "    </tr>\n",
              "    <tr>\n",
              "      <th>1727</th>\n",
              "      <td>low</td>\n",
              "      <td>low</td>\n",
              "      <td>5more</td>\n",
              "      <td>more</td>\n",
              "      <td>big</td>\n",
              "      <td>high</td>\n",
              "      <td>vgood</td>\n",
              "    </tr>\n",
              "  </tbody>\n",
              "</table>\n",
              "</div>"
            ],
            "text/plain": [
              "     buying maint  doors persons lug_boot safety    Car\n",
              "1723    low   low  5more    more      med    med   good\n",
              "1724    low   low  5more    more      med   high  vgood\n",
              "1725    low   low  5more    more      big    low  unacc\n",
              "1726    low   low  5more    more      big    med   good\n",
              "1727    low   low  5more    more      big   high  vgood"
            ]
          },
          "metadata": {
            "tags": []
          },
          "execution_count": 52
        }
      ]
    },
    {
      "cell_type": "code",
      "metadata": {
        "id": "uWDSquXsHpSn",
        "colab_type": "code",
        "colab": {
          "base_uri": "https://localhost:8080/",
          "height": 34
        },
        "outputId": "62955845-c13b-472b-bddc-992d7693d2db"
      },
      "source": [
        "cars.shape\n",
        "#shape indicates number of values are accurate, number of x attributes are 6 and a Y attribute"
      ],
      "execution_count": 54,
      "outputs": [
        {
          "output_type": "execute_result",
          "data": {
            "text/plain": [
              "(1728, 7)"
            ]
          },
          "metadata": {
            "tags": []
          },
          "execution_count": 54
        }
      ]
    },
    {
      "cell_type": "code",
      "metadata": {
        "id": "FtHay1VjHpO3",
        "colab_type": "code",
        "colab": {
          "base_uri": "https://localhost:8080/",
          "height": 255
        },
        "outputId": "b011282d-04d8-4f36-f11d-d6a0467c92a3"
      },
      "source": [
        "cars.info()"
      ],
      "execution_count": 55,
      "outputs": [
        {
          "output_type": "stream",
          "text": [
            "<class 'pandas.core.frame.DataFrame'>\n",
            "RangeIndex: 1728 entries, 0 to 1727\n",
            "Data columns (total 7 columns):\n",
            " #   Column    Non-Null Count  Dtype \n",
            "---  ------    --------------  ----- \n",
            " 0   buying    1728 non-null   object\n",
            " 1   maint     1728 non-null   object\n",
            " 2   doors     1728 non-null   object\n",
            " 3   persons   1728 non-null   object\n",
            " 4   lug_boot  1728 non-null   object\n",
            " 5   safety    1728 non-null   object\n",
            " 6   Car       1728 non-null   object\n",
            "dtypes: object(7)\n",
            "memory usage: 94.6+ KB\n"
          ],
          "name": "stdout"
        }
      ]
    },
    {
      "cell_type": "code",
      "metadata": {
        "id": "2TPSyt13HpLZ",
        "colab_type": "code",
        "colab": {
          "base_uri": "https://localhost:8080/",
          "height": 153
        },
        "outputId": "5fdfa2fa-01fb-4925-be9c-376956ca5ff6"
      },
      "source": [
        "cars.isnull().sum()\n",
        "# no obvious null values"
      ],
      "execution_count": 56,
      "outputs": [
        {
          "output_type": "execute_result",
          "data": {
            "text/plain": [
              "buying      0\n",
              "maint       0\n",
              "doors       0\n",
              "persons     0\n",
              "lug_boot    0\n",
              "safety      0\n",
              "Car         0\n",
              "dtype: int64"
            ]
          },
          "metadata": {
            "tags": []
          },
          "execution_count": 56
        }
      ]
    },
    {
      "cell_type": "code",
      "metadata": {
        "id": "NL2teEuBHpJB",
        "colab_type": "code",
        "colab": {
          "base_uri": "https://localhost:8080/",
          "height": 102
        },
        "outputId": "bed399dd-2434-41c4-f330-c2f45938e06d"
      },
      "source": [
        "cars['Car'].value_counts()\n",
        "#did value counts for all columns and there is no null values"
      ],
      "execution_count": 63,
      "outputs": [
        {
          "output_type": "execute_result",
          "data": {
            "text/plain": [
              "unacc    1210\n",
              "acc       384\n",
              "good       69\n",
              "vgood      65\n",
              "Name: Car, dtype: int64"
            ]
          },
          "metadata": {
            "tags": []
          },
          "execution_count": 63
        }
      ]
    },
    {
      "cell_type": "code",
      "metadata": {
        "id": "jDfh6a-sHpHK",
        "colab_type": "code",
        "colab": {
          "base_uri": "https://localhost:8080/",
          "height": 173
        },
        "outputId": "c17ff982-8f5e-499e-c80f-8877e33b093c"
      },
      "source": [
        "cars.describe()"
      ],
      "execution_count": 68,
      "outputs": [
        {
          "output_type": "execute_result",
          "data": {
            "text/html": [
              "<div>\n",
              "<style scoped>\n",
              "    .dataframe tbody tr th:only-of-type {\n",
              "        vertical-align: middle;\n",
              "    }\n",
              "\n",
              "    .dataframe tbody tr th {\n",
              "        vertical-align: top;\n",
              "    }\n",
              "\n",
              "    .dataframe thead th {\n",
              "        text-align: right;\n",
              "    }\n",
              "</style>\n",
              "<table border=\"1\" class=\"dataframe\">\n",
              "  <thead>\n",
              "    <tr style=\"text-align: right;\">\n",
              "      <th></th>\n",
              "      <th>buying</th>\n",
              "      <th>maint</th>\n",
              "      <th>doors</th>\n",
              "      <th>persons</th>\n",
              "      <th>lug_boot</th>\n",
              "      <th>safety</th>\n",
              "      <th>Car</th>\n",
              "    </tr>\n",
              "  </thead>\n",
              "  <tbody>\n",
              "    <tr>\n",
              "      <th>count</th>\n",
              "      <td>1728</td>\n",
              "      <td>1728</td>\n",
              "      <td>1728</td>\n",
              "      <td>1728</td>\n",
              "      <td>1728</td>\n",
              "      <td>1728</td>\n",
              "      <td>1728</td>\n",
              "    </tr>\n",
              "    <tr>\n",
              "      <th>unique</th>\n",
              "      <td>4</td>\n",
              "      <td>4</td>\n",
              "      <td>4</td>\n",
              "      <td>3</td>\n",
              "      <td>3</td>\n",
              "      <td>3</td>\n",
              "      <td>4</td>\n",
              "    </tr>\n",
              "    <tr>\n",
              "      <th>top</th>\n",
              "      <td>vhigh</td>\n",
              "      <td>vhigh</td>\n",
              "      <td>3</td>\n",
              "      <td>more</td>\n",
              "      <td>small</td>\n",
              "      <td>low</td>\n",
              "      <td>unacc</td>\n",
              "    </tr>\n",
              "    <tr>\n",
              "      <th>freq</th>\n",
              "      <td>432</td>\n",
              "      <td>432</td>\n",
              "      <td>432</td>\n",
              "      <td>576</td>\n",
              "      <td>576</td>\n",
              "      <td>576</td>\n",
              "      <td>1210</td>\n",
              "    </tr>\n",
              "  </tbody>\n",
              "</table>\n",
              "</div>"
            ],
            "text/plain": [
              "       buying  maint doors persons lug_boot safety    Car\n",
              "count    1728   1728  1728    1728     1728   1728   1728\n",
              "unique      4      4     4       3        3      3      4\n",
              "top     vhigh  vhigh     3    more    small    low  unacc\n",
              "freq      432    432   432     576      576    576   1210"
            ]
          },
          "metadata": {
            "tags": []
          },
          "execution_count": 68
        }
      ]
    },
    {
      "cell_type": "markdown",
      "metadata": {
        "id": "mq_aQjxlM-u5",
        "colab_type": "text"
      },
      "source": [
        "## 3) Make Crosstabs of the Categorical Variables\n",
        "\n",
        "Take whichever of the above datasets has more categorical variables and use crosstabs to tabulate the different instances of the categorical variables.\n"
      ]
    },
    {
      "cell_type": "code",
      "metadata": {
        "id": "9-n9-LTM-18p",
        "colab_type": "code",
        "colab": {
          "base_uri": "https://localhost:8080/",
          "height": 142
        },
        "outputId": "ec27843f-6323-4b57-ddf0-6392391757d9"
      },
      "source": [
        "# Your Code Here\n",
        "xtab = pd.crosstab(banking['loan'],banking['education'])\n",
        "xtab"
      ],
      "execution_count": 85,
      "outputs": [
        {
          "output_type": "execute_result",
          "data": {
            "text/html": [
              "<div>\n",
              "<style scoped>\n",
              "    .dataframe tbody tr th:only-of-type {\n",
              "        vertical-align: middle;\n",
              "    }\n",
              "\n",
              "    .dataframe tbody tr th {\n",
              "        vertical-align: top;\n",
              "    }\n",
              "\n",
              "    .dataframe thead th {\n",
              "        text-align: right;\n",
              "    }\n",
              "</style>\n",
              "<table border=\"1\" class=\"dataframe\">\n",
              "  <thead>\n",
              "    <tr style=\"text-align: right;\">\n",
              "      <th>education</th>\n",
              "      <th>primary</th>\n",
              "      <th>secondary</th>\n",
              "      <th>tertiary</th>\n",
              "    </tr>\n",
              "    <tr>\n",
              "      <th>loan</th>\n",
              "      <th></th>\n",
              "      <th></th>\n",
              "      <th></th>\n",
              "    </tr>\n",
              "  </thead>\n",
              "  <tbody>\n",
              "    <tr>\n",
              "      <th>no</th>\n",
              "      <td>5827</td>\n",
              "      <td>18899</td>\n",
              "      <td>11517</td>\n",
              "    </tr>\n",
              "    <tr>\n",
              "      <th>yes</th>\n",
              "      <td>1024</td>\n",
              "      <td>4303</td>\n",
              "      <td>1784</td>\n",
              "    </tr>\n",
              "  </tbody>\n",
              "</table>\n",
              "</div>"
            ],
            "text/plain": [
              "education  primary  secondary  tertiary\n",
              "loan                                   \n",
              "no            5827      18899     11517\n",
              "yes           1024       4303      1784"
            ]
          },
          "metadata": {
            "tags": []
          },
          "execution_count": 85
        }
      ]
    },
    {
      "cell_type": "markdown",
      "metadata": {
        "id": "OJ4t2IAk-6Vg",
        "colab_type": "text"
      },
      "source": [
        "## 4) Explore the distributions of the variables of the dataset using:\n",
        "- Histograms\n",
        "- Scatterplots\n",
        "- Density Plots"
      ]
    },
    {
      "cell_type": "code",
      "metadata": {
        "id": "DhES5WmH_NFt",
        "colab_type": "code",
        "colab": {
          "base_uri": "https://localhost:8080/",
          "height": 265
        },
        "outputId": "f9870040-aae4-4710-d17e-59e7e15baa2c"
      },
      "source": [
        "# Your Code Here\n",
        "#histo\n",
        "banking['age'].hist();"
      ],
      "execution_count": 73,
      "outputs": [
        {
          "output_type": "display_data",
          "data": {
            "image/png": "[encoded data removed]",
            "text/plain": [
              "<Figure size 432x288 with 1 Axes>"
            ]
          },
          "metadata": {
            "tags": [],
            "needs_background": "light"
          }
        }
      ]
    },
    {
      "cell_type": "code",
      "metadata": {
        "id": "H-o2DL65MmLH",
        "colab_type": "code",
        "colab": {
          "base_uri": "https://localhost:8080/",
          "height": 279
        },
        "outputId": "04212ec0-72ad-4cf0-e6d2-80f68c04fa0a"
      },
      "source": [
        "#scatterpolt\n",
        "banking.plot.scatter('age','balance');"
      ],
      "execution_count": 79,
      "outputs": [
        {
          "output_type": "display_data",
          "data": {
            "image/png": "[encoded data removed]",
            "text/plain": [
              "<Figure size 432x288 with 1 Axes>"
            ]
          },
          "metadata": {
            "tags": [],
            "needs_background": "light"
          }
        }
      ]
    },
    {
      "cell_type": "code",
      "metadata": {
        "id": "-0ZBeMzAMmr9",
        "colab_type": "code",
        "colab": {
          "base_uri": "https://localhost:8080/",
          "height": 265
        },
        "outputId": "fdcb75eb-73ae-4dcf-eb2f-1c81acf5000b"
      },
      "source": [
        "#density plot\n",
        "banking['balance'].plot.density();"
      ],
      "execution_count": 82,
      "outputs": [
        {
          "output_type": "display_data",
          "data": {
            "image/png": "[encoded data removed]",
            "text/plain": [
              "<Figure size 432x288 with 1 Axes>"
            ]
          },
          "metadata": {
            "tags": [],
            "needs_background": "light"
          }
        }
      ]
    },
    {
      "cell_type": "code",
      "metadata": {
        "id": "OEONMFJNMnUJ",
        "colab_type": "code",
        "colab": {
          "base_uri": "https://localhost:8080/",
          "height": 265
        },
        "outputId": "bcdd7166-3190-4254-abba-da612a4114d5"
      },
      "source": [
        "banking['age'].plot.density();"
      ],
      "execution_count": 84,
      "outputs": [
        {
          "output_type": "display_data",
          "data": {
            "image/png": "[encoded data removed]",
            "text/plain": [
              "<Figure size 432x288 with 1 Axes>"
            ]
          },
          "metadata": {
            "tags": [],
            "needs_background": "light"
          }
        }
      ]
    },
    {
      "cell_type": "code",
      "metadata": {
        "id": "4dJ0N82zPt5Q",
        "colab_type": "code",
        "colab": {}
      },
      "source": [
        ""
      ],
      "execution_count": 0,
      "outputs": []
    },
    {
      "cell_type": "markdown",
      "metadata": {
        "id": "LXXTzpgp_N0q",
        "colab_type": "text"
      },
      "source": [
        "## 5) Create at least one visualization from a crosstab:\n",
        "\n",
        "Remember that a crosstab is just a dataframe and can be manipulated in the same way by row index, column, index, or column/row/cell position.\n"
      ]
    },
    {
      "cell_type": "code",
      "metadata": {
        "id": "kBQKXHUa_VxM",
        "colab_type": "code",
        "colab": {}
      },
      "source": [
        "# Your Code Here\n",
        "#xtab\n",
        "xtab \n"
      ],
      "execution_count": 0,
      "outputs": []
    },
    {
      "cell_type": "code",
      "metadata": {
        "id": "bbVOD6pZQadk",
        "colab_type": "code",
        "colab": {
          "base_uri": "https://localhost:8080/"
        },
        "outputId": "6dc37768-45b1-475b-92f8-e729942cb468"
      },
      "source": [
        "#plot\n",
        "xtab.plot(kind = 'bar');"
      ],
      "execution_count": 90,
      "outputs": [
        {
          "output_type": "display_data",
          "data": {
            "image/png": "[encoded data removed]",
            "text/plain": [
              "<Figure size 432x288 with 1 Axes>"
            ]
          },
          "metadata": {
            "tags": [],
            "needs_background": "light"
          }
        }
      ]
    },
    {
      "cell_type": "markdown",
      "metadata": {
        "id": "MZCxTwKuReV9",
        "colab_type": "text"
      },
      "source": [
        "## Stretch Goals \n",
        "\n",
        "The following additional study tasks are optional, they are intended to give you an opportunity to stretch yourself beyond the main requirements of the assignment. You can pick and choose from the below, you do not need to complete them in any particular order.\n",
        "\n",
        "### - Practice Exploring other Datasets\n",
        "\n",
        "### -  Try using the Seaborn plotting library's \"Pairplot\" functionality in order to explore all of the possible histograms and scatterplots of your dataset all at once:\n",
        "\n",
        "[Seaborn Pairplot](https://seaborn.pydata.org/generated/seaborn.pairplot.html)\n",
        "\n",
        "### - Turn some of the continuous variables into categorical variables by binning the values using:\n",
        "- [pd.cut()](https://pandas.pydata.org/pandas-docs/version/0.23.4/generated/pandas.cut.html)\n",
        "- [pd.qcut()](https://pandas.pydata.org/pandas-docs/stable/reference/api/pandas.qcut.html)\n",
        "- <https://stackoverflow.com/questions/30211923/what-is-the-difference-between-pandas-qcut-and-pandas-cut>\n",
        "\n",
        "And then use crosstabs to compare/visualize these binned variables against the other variables.\n",
        "\n",
        "\n",
        "### - Other types and sources of data\n",
        "Not all data comes in a nice single file - for example, image classification involves handling lots of image files. You still will probably want labels for them, so you may have tabular data in addition to the image blobs - and the images may be reduced in resolution and even fit in a regular csv as a bunch of numbers.\n",
        "\n",
        "If you're interested in natural language processing and analyzing text, that is another example where, while it can be put in a csv, you may end up loading much larger raw data and generating features that can then be thought of in a more standard tabular fashion.\n",
        "\n",
        "Overall you will in the course of learning data science deal with loading data in a variety of ways. Another common way to get data is from a database - most modern applications are backed by one or more databases, which you can query to get data to analyze. We'll cover this more in our data engineering unit.\n",
        "\n",
        "How does data get in the database? Most applications generate logs - text files with lots and lots of records of each use of the application. Databases are often populated based on these files, but in some situations you may directly analyze log files. The usual way to do this is with command line (Unix) tools - command lines are intimidating, so don't expect to learn them all at once, but depending on your interests it can be useful to practice.\n",
        "\n",
        "One last major source of data is APIs: https://github.com/toddmotto/public-apis\n",
        "\n",
        "API stands for Application Programming Interface, and while originally meant e.g. the way an application interfaced with the GUI or other aspects of an operating system, now it largely refers to online services that let you query and retrieve data. You can essentially think of most of them as \"somebody else's database\" - you have (usually limited) access.\n",
        "\n",
        "*Stretch goal* - research one of the above extended forms of data/data loading. See if you can get a basic example working in a notebook. Image, text, or (public) APIs are probably more tractable - databases are interesting, but there aren't many publicly accessible and they require a great deal of setup."
      ]
    },
    {
      "cell_type": "code",
      "metadata": {
        "id": "f4QP6--JBXNK",
        "colab_type": "code",
        "colab": {}
      },
      "source": [
        ""
      ],
      "execution_count": 0,
      "outputs": []
    }
  ]
}