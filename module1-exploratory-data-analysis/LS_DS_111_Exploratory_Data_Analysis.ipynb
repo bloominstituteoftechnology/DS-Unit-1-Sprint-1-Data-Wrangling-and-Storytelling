{
  "nbformat": 4,
  "nbformat_minor": 0,
  "metadata": {
    "colab": {
      "name": "LS_DS_111_Exploratory_Data_Analysis.ipynb",
      "provenance": [],
      "collapsed_sections": []
    },
    "kernelspec": {
      "name": "python3",
      "display_name": "Python 3.9.1 64-bit ('DS-Unit-1-Sprint-1-Data-Wrangling-and-Storytelling': pipenv)",
      "metadata": {
        "interpreter": {
          "hash": "8d5e452fd66dd4432a03ae762c13237e98b7c4367991150cecefb589f5bfc22d"
        }
      }
    }
  },
  "cells": [
    {
      "cell_type": "markdown",
      "metadata": {
        "id": "Ldr0HZ193GKb"
      },
      "source": [
        "Lambda School Data Science\n",
        "\n",
        "*Unit 1, Sprint 1, Module 1*\n",
        "\n",
        "---\n",
        "\n"
      ]
    },
    {
      "cell_type": "markdown",
      "metadata": {
        "id": "2CkckTc6-txA"
      },
      "source": [
        "# Exploratory Data Analysis\n",
        "\n",
        "- Objective 01 - working with Canvas\n",
        "- Objective 02 - load a CSV dataset from a URL using `pandas.read_csv`\n",
        "- Objective 03 - load a CSV dataset from a local file using `pandas.read_csv\n",
        "- Objective 04 - use basic Pandas functions for Exploratory Data Analysis-EDA\n",
        "- Objective 05 - describe and discriminate between basic data types such as categorical, quantitative, continuous, discrete, ordinal, nominal and identifier"
      ]
    },
    {
      "cell_type": "code",
      "metadata": {
        "id": "MRxFDeCAXyTI"
      },
      "source": [
        "4+2\n"
      ],
      "execution_count": null,
      "outputs": []
    },
    {
      "cell_type": "markdown",
      "metadata": {
        "id": "FnOWk3zMOuqz"
      },
      "source": [
        "# [Objective 01](#save-to-github) - Working with Canvas\n",
        "\n"
      ]
    },
    {
      "cell_type": "markdown",
      "metadata": {
        "id": "fCryOFLnm_vc"
      },
      "source": [
        "## Overview\n",
        "\n",
        "We will use Canvas, GitHub and Colab to work on and submit projects.\n",
        "\n",
        "GitHub is a website where you can save code or other files either for personal use or for sharing with others. The website is used primarily for storing \"open-source\" project files so that users can work together on large code bases without overwriting each other's work. You will be using GitHub to collaborate on large projects, both with other students and in your career. \n",
        "\n",
        "Canvas is a learning management system you that provides extra information you can use to help prepare for Guided Projects and as a resource when you are working on your individual sproject each afternoon.  \n",
        "\n",
        "**You will use gain access to and submit your module projects and sprint challenges in Canvas.**"
      ]
    },
    {
      "cell_type": "markdown",
      "metadata": {
        "id": "OF5FwWe1m-Wo"
      },
      "source": [
        "## Follow Along"
      ]
    },
    {
      "cell_type": "markdown",
      "metadata": {
        "id": "UCQJ6Z89qEJU"
      },
      "source": [
        "###1) Open Canvas and navigate to the course for the sprint we are currently in.\n",
        "\n",
        "In this case, it's Data Wrangling and Storytelling DS1.1 DSXX where XX is your cohort number.\n",
        "\n",
        "The course will automatically open to the Overview page were you can take a look at all of the concepts we'll be covering throughout the Sprint.  Click on the links to see what will be covered in each module."
      ]
    },
    {
      "cell_type": "markdown",
      "metadata": {
        "id": "nCK7_dq8rIFq"
      },
      "source": [
        "When you click on Modules on the left hand side, you'll see content for each module divided into three sections:\n",
        "* Warmup is an intro to what will be covered during the Guided Project\n",
        "* Engage is where you'll see the module project, the check for understanding, and pulse check.\n",
        "\n",
        "*   Review is where you will find links to the previous class recordings.\n",
        "\n"
      ]
    },
    {
      "cell_type": "markdown",
      "metadata": {
        "id": "u3PksdPMsWIr"
      },
      "source": [
        "###2) Click on Module Project\n",
        "\n",
        "Scroll down to the Module 1 Project.\n",
        "\n",
        "This will take you to GitHub where you will access both the Guided Project and Student Project (also called assignment) for this Module."
      ]
    },
    {
      "cell_type": "markdown",
      "metadata": {
        "id": "M8moDKv-Tg63"
      },
      "source": [
        "### 3) Fork the repository for module\n",
        "\n",
        "\"Repository\" is fancy work that just means: folder where we are going to store some files on GitHub. You'll hear people say \"repo\" for short.\n",
        "\n",
        "\"Forking\" a repository is GitHub lingo for \"Make a copy.\" If you click the fork button on the top right corner of the webpage, GitHub will make a copy of the folder of files that we will be using for that sprint to your personal GitHub account. You will be doing your work and saving your changes to the copied version on your account.\n",
        "\n",
        "You can tell when you have successfully forked a repository because you should briefly see an animation appear that looks like a book is being photocopied with a fork stuck in it and then you will be redirected to your copy of the repository.\n",
        "\n",
        "You can always tell when you're looking at the forked version on your personal github account by looking at the name of the repository and looking at the username that is just to the left of it in the filepath:\n",
        "\n",
        "![Forked Repository Username Screenshot](https://raw.githubusercontent.com/ryanleeallred/images/master/fork-repository-screenshot.png)\n"
      ]
    },
    {
      "cell_type": "markdown",
      "metadata": {
        "id": "DHgG8kFqYAz0"
      },
      "source": [
        "### 4) Open one of the files and make a change to it. \n",
        "\n",
        "The files that we will be working with primarily during the course have the file extension: .ipynb for \"IPython Notebook\" any of these are notebooks that we can open in Google Colab.\n",
        "\n",
        "To open one of these notebook files in Google Colab go to:\n",
        "\n",
        "<https://colab.research.google.com/github/> \n",
        "\n",
        "If you haven't done so already, give Google permission to access your GitHub account from your Google Account.\n",
        "\n",
        "Once you have all of the permissions sorted out, select the repository that you're most interested in from the dropdown menu. Once you select a repository Google Colab will look through it to find all of the .ipynb files and will list them below:\n",
        "\n",
        "![Open .ipynb file from GitHub in Google Colab](https://raw.githubusercontent.com/ryanleeallred/images/master/google-colab-github.png)\n",
        "\n"
      ]
    },
    {
      "cell_type": "markdown",
      "metadata": {
        "id": "jp3jS59Xt3b-"
      },
      "source": [
        "###5) Install the following Google Chrome extension that you can use to easily open any .ipynb file from GitHub directly in Google Colab: \n",
        "\n",
        "[Google Chrome Extension to Open .ipynb files easily in Google Colab](https://chrome.google.com/webstore/detail/open-in-colab/iogfkhleblhcpcekbiedikdehleodpjo?hl=en)"
      ]
    },
    {
      "cell_type": "markdown",
      "metadata": {
        "id": "OdRobgtWZrex"
      },
      "source": [
        "### 6) Save your changes back to your forked repository on Github.\n",
        "\n",
        "Once you have finished making all of the changes that you want to the notebook, you can save your work back to GitHub by selecting `File` >> `Save a copy in GitHub` from the dropdown menu. \n",
        "\n",
        "When you select this a new tab will open in your browser to show you the saved file on GitHub to let you know that the save has been completed successfully.\n",
        "\n",
        "\n"
      ]
    },
    {
      "cell_type": "markdown",
      "metadata": {
        "id": "KVYvEVDWxCYs"
      },
      "source": [
        "###7) Download a copy of the .ipynb file \n",
        "\n",
        "`File` >> `Download .ipynb` from the dropdown menu. "
      ]
    },
    {
      "cell_type": "markdown",
      "metadata": {
        "id": "NpcmyUpAxlp9"
      },
      "source": [
        "###8) Sumbit the file to Canvas\n",
        "\n",
        "Upload your .ipynb file to Canvas."
      ]
    },
    {
      "cell_type": "markdown",
      "metadata": {
        "id": "z_EX6QN9babi"
      },
      "source": [
        "### Optional 9) Submit a \"Pull Request\" of your work.\n",
        "\n",
        "This is the \"old way\" submissions were completed in Unit 1.  Although we submit through Canvas now, creating a pull request is a thing to know about.\n",
        "\n",
        "Opening a pull request is what ties your work back to the original Lambda School repository.\n",
        "\n",
        "In order to open a pull request, navigate to your repository on GitHub and select the \"Pull Requests\" tab at the top of the page.\n",
        "\n",
        "To open a new pull request you will need to click the green \"New Pull Request\" button and give your pull request a title. Please include your name and Cohort number i.e. DS8, DS9, or DS10, etc. at the beginning of the pull request. Once you have filled out the title, just click the remaining large green buttons until the pull request has been submitted.\n"
      ]
    },
    {
      "cell_type": "markdown",
      "metadata": {
        "id": "v1KNmIgQdbOo"
      },
      "source": [
        "### In Summary\n",
        "\n",
        "1) Open the current module project in Canvas.\n",
        "\n",
        "2) Open the Repository in Google Colab and make changes to the files (work on your assignment).\n",
        "\n",
        "3) Submit your completed .ipynb file to Canvas.\n",
        "\n",
        "4) Complete the check for understanding and pulse check."
      ]
    },
    {
      "cell_type": "markdown",
      "metadata": {
        "id": "QszuYn1bnZSe"
      },
      "source": [
        "# [Objective 02](#load-csv-from-url) - Load a dataset (CSV) via its URL"
      ]
    },
    {
      "cell_type": "markdown",
      "metadata": {
        "id": "_7uhS1HHOaR-"
      },
      "source": [
        "## Overview\n",
        "\n",
        "In order to practice loading datasets into Google Colab, we're going to use the [Flags Dataset](https://archive.ics.uci.edu/ml/datasets/Flags) from UCI to show both loading the dataset via its URL and from a local file.\n",
        "\n",
        "Steps for loading a dataset:\n",
        "\n",
        "1) Learn as much as you can about the dataset:\n",
        " - Number of rows\n",
        " - Number of columns\n",
        " - Column headers (Is there a \"data dictionary\"?)\n",
        " - Is there missing data?\n",
        " - **OPEN THE RAW FILE AND LOOK AT IT. IT MAY NOT BE FORMATTED IN THE WAY THAT YOU EXPECT.**\n",
        "\n",
        "2) Try loading the dataset using `pandas.read_csv()` and if things aren't acting the way that you expect, investigate until you can get it loading correctly.\n",
        "\n",
        "3) Keep in mind that functions like `pandas.read_csv()` have a lot of optional parameters that might help us change the way that data is read in. If you get stuck, google, read the documentation, and try things out.\n",
        "\n",
        "4) You might need to type out column headers by hand if they are not provided in a neat format in the original dataset. It can be a drag."
      ]
    },
    {
      "cell_type": "markdown",
      "metadata": {
        "id": "8vpS8MBjm7A0"
      },
      "source": [
        "## Follow Along"
      ]
    },
    {
      "cell_type": "markdown",
      "metadata": {
        "id": "vZobh57ag1S9"
      },
      "source": [
        "### Learn about the dataset and look at the raw file."
      ]
    },
    {
      "cell_type": "code",
      "metadata": {
        "id": "sYypbXovgaSi"
      },
      "source": [
        "# Find the actual file to download\n",
        "# From navigating the page, clicking \"Data Folder\"\n",
        "# Right click on the link to the dataset and say \"Copy Link Address\"\n",
        "\n",
        "import pandas as pd\n",
        "\n",
        "flag_data_url = 'https://archive.ics.uci.edu/ml/machine-learning-databases/flags/flag.data'\n",
        "\n",
        "# You can \"shell out\" in a notebook for more powerful tools\n",
        "# https://jakevdp.github.io/PythonDataScienceHandbook/01.05-ipython-and-shell-commands.html\n",
        "\n",
        "# Funny extension, but on inspection looks like a csv\n",
        "#!curl https://archive.ics.uci.edu/ml/machine-learning-databases/flags/flag.data\n",
        "\n",
        "# Extensions are just a norm! You have to inspect to be sure what something is"
      ],
      "execution_count": 1,
      "outputs": []
    },
    {
      "cell_type": "markdown",
      "metadata": {
        "id": "KncohxMIg5Dq"
      },
      "source": [
        "### Attempt to load it via its URL"
      ]
    },
    {
      "cell_type": "code",
      "metadata": {
        "id": "-r24OTvggWub"
      },
      "source": [
        "# Load the flags dataset from its URL:\n",
        "\n",
        "file = '../data/flag.csv'\n",
        "\n",
        "flag_df = pd.read_csv(file)\n",
        "\n",
        "# Load the flags dataset from its URL:\n",
        "\n",
        "print(flag_df.shape)\n",
        "flag_df.head()"
      ],
      "execution_count": 2,
      "outputs": [
        {
          "output_type": "stream",
          "name": "stdout",
          "text": [
            "(193, 30)\n"
          ]
        },
        {
          "output_type": "execute_result",
          "data": {
            "text/plain": [
              "      Afghanistan  5  1   648  16  10  2  0  3  5.1  ...  0.5  0.6  1.6  0.7  \\\n",
              "0         Albania  3  1    29   3   6  6  0  0    3  ...    0    0    1    0   \n",
              "1         Algeria  4  1  2388  20   8  2  2  0    3  ...    0    0    1    1   \n",
              "2  American-Samoa  6  3     0   0   1  1  0  0    5  ...    0    0    0    0   \n",
              "3         Andorra  3  1     0   0   6  0  3  0    3  ...    0    0    0    0   \n",
              "4          Angola  4  2  1247   7  10  5  0  2    3  ...    0    0    1    0   \n",
              "\n",
              "   0.8  1.7  0.9 0.10  black  green.1  \n",
              "0    0    0    1    0    red      red  \n",
              "1    0    0    0    0  green    white  \n",
              "2    1    1    1    0   blue      red  \n",
              "3    0    0    0    0   blue      red  \n",
              "4    0    1    0    0    red    black  \n",
              "\n",
              "[5 rows x 30 columns]"
            ],
            "text/html": "<div>\n<style scoped>\n    .dataframe tbody tr th:only-of-type {\n        vertical-align: middle;\n    }\n\n    .dataframe tbody tr th {\n        vertical-align: top;\n    }\n\n    .dataframe thead th {\n        text-align: right;\n    }\n</style>\n<table border=\"1\" class=\"dataframe\">\n  <thead>\n    <tr style=\"text-align: right;\">\n      <th></th>\n      <th>Afghanistan</th>\n      <th>5</th>\n      <th>1</th>\n      <th>648</th>\n      <th>16</th>\n      <th>10</th>\n      <th>2</th>\n      <th>0</th>\n      <th>3</th>\n      <th>5.1</th>\n      <th>...</th>\n      <th>0.5</th>\n      <th>0.6</th>\n      <th>1.6</th>\n      <th>0.7</th>\n      <th>0.8</th>\n      <th>1.7</th>\n      <th>0.9</th>\n      <th>0.10</th>\n      <th>black</th>\n      <th>green.1</th>\n    </tr>\n  </thead>\n  <tbody>\n    <tr>\n      <th>0</th>\n      <td>Albania</td>\n      <td>3</td>\n      <td>1</td>\n      <td>29</td>\n      <td>3</td>\n      <td>6</td>\n      <td>6</td>\n      <td>0</td>\n      <td>0</td>\n      <td>3</td>\n      <td>...</td>\n      <td>0</td>\n      <td>0</td>\n      <td>1</td>\n      <td>0</td>\n      <td>0</td>\n      <td>0</td>\n      <td>1</td>\n      <td>0</td>\n      <td>red</td>\n      <td>red</td>\n    </tr>\n    <tr>\n      <th>1</th>\n      <td>Algeria</td>\n      <td>4</td>\n      <td>1</td>\n      <td>2388</td>\n      <td>20</td>\n      <td>8</td>\n      <td>2</td>\n      <td>2</td>\n      <td>0</td>\n      <td>3</td>\n      <td>...</td>\n      <td>0</td>\n      <td>0</td>\n      <td>1</td>\n      <td>1</td>\n      <td>0</td>\n      <td>0</td>\n      <td>0</td>\n      <td>0</td>\n      <td>green</td>\n      <td>white</td>\n    </tr>\n    <tr>\n      <th>2</th>\n      <td>American-Samoa</td>\n      <td>6</td>\n      <td>3</td>\n      <td>0</td>\n      <td>0</td>\n      <td>1</td>\n      <td>1</td>\n      <td>0</td>\n      <td>0</td>\n      <td>5</td>\n      <td>...</td>\n      <td>0</td>\n      <td>0</td>\n      <td>0</td>\n      <td>0</td>\n      <td>1</td>\n      <td>1</td>\n      <td>1</td>\n      <td>0</td>\n      <td>blue</td>\n      <td>red</td>\n    </tr>\n    <tr>\n      <th>3</th>\n      <td>Andorra</td>\n      <td>3</td>\n      <td>1</td>\n      <td>0</td>\n      <td>0</td>\n      <td>6</td>\n      <td>0</td>\n      <td>3</td>\n      <td>0</td>\n      <td>3</td>\n      <td>...</td>\n      <td>0</td>\n      <td>0</td>\n      <td>0</td>\n      <td>0</td>\n      <td>0</td>\n      <td>0</td>\n      <td>0</td>\n      <td>0</td>\n      <td>blue</td>\n      <td>red</td>\n    </tr>\n    <tr>\n      <th>4</th>\n      <td>Angola</td>\n      <td>4</td>\n      <td>2</td>\n      <td>1247</td>\n      <td>7</td>\n      <td>10</td>\n      <td>5</td>\n      <td>0</td>\n      <td>2</td>\n      <td>3</td>\n      <td>...</td>\n      <td>0</td>\n      <td>0</td>\n      <td>1</td>\n      <td>0</td>\n      <td>0</td>\n      <td>1</td>\n      <td>0</td>\n      <td>0</td>\n      <td>red</td>\n      <td>black</td>\n    </tr>\n  </tbody>\n</table>\n<p>5 rows × 30 columns</p>\n</div>"
          },
          "metadata": {},
          "execution_count": 2
        }
      ]
    },
    {
      "cell_type": "markdown",
      "metadata": {
        "id": "1hI3GvRgg818"
      },
      "source": [
        "### If things go wrong, investigate and try to figure out why.\n"
      ]
    },
    {
      "cell_type": "code",
      "metadata": {
        "id": "8PK-Njl0hJxz"
      },
      "source": [
        "# Different ways to look at the documentation:\n",
        "\n"
      ],
      "execution_count": null,
      "outputs": []
    },
    {
      "cell_type": "markdown",
      "metadata": {
        "id": "xuX3bUdOhQ1S"
      },
      "source": [
        "### Try Again"
      ]
    },
    {
      "cell_type": "code",
      "metadata": {
        "id": "AJfCoAg-hRzq"
      },
      "source": [
        "# Keep on trying things until you get it. \n",
        "# If you really mess things up you can always just restart your runtime\n",
        "\n",
        "column_headers = ['name', 'landmass', 'zone', 'area', 'population', 'language', \n",
        "                  'religion', 'bars', 'stripes', 'colours', 'red', 'green', \n",
        "                  'blue', 'gold', 'white', 'black', 'orange', 'mainhue', \n",
        "                  'circles', 'crosses', 'saltires', 'quarters', 'sunstars', \n",
        "                  'crescent', 'triangle', 'icon', 'animate', 'text', 'topleft', \n",
        "                  'botright']\n",
        "\n",
        "\n"
      ],
      "execution_count": 3,
      "outputs": []
    },
    {
      "cell_type": "markdown",
      "metadata": {
        "id": "-KRODapErmeM"
      },
      "source": [
        "You'll get very good at reading documentation, Googling, asking for help, troubleshooting, debugging, etc. by the time you're done here at Lambda School. Our goal is to turn you into a data scientist that can solve their own problems. "
      ]
    },
    {
      "cell_type": "markdown",
      "metadata": {
        "id": "Hi71j4Y-Oj1q"
      },
      "source": [
        "# [Objective 03](#load-csv-from-file) - Load a dataset (CSV) from a local file"
      ]
    },
    {
      "cell_type": "markdown",
      "metadata": {
        "id": "a2FqWlMhloY3"
      },
      "source": [
        "## Overview\n",
        "\n",
        "We won't always have CSVs hosted on the interwebs for us. We need to be able to upload files from our local machines as well. With Google Colab this is trickier than it is with other software (like Jupyter Notebooks for example. Because the main file system backing Google Colab is Google Drive, we can't use a filepath to the file on our computers in order to access our data. We have to upload our files to Google Colab before we can start working with them."
      ]
    },
    {
      "cell_type": "markdown",
      "metadata": {
        "id": "8evJNdGEUqkF"
      },
      "source": [
        "Go to the website http://users.stat.ufl.edu/~winner/datasets.html and scroll down to **Disney World Marathon Times and Miles/Hour - 1-12-2020**\n",
        "\n",
        "You'll see a link to a .CSV file.  \n",
        "\n",
        "Download it to your personal computer then use the following upload command to naviate to and upload the .csv file."
      ]
    },
    {
      "cell_type": "code",
      "metadata": {
        "id": "Rxq-siTcViNn"
      },
      "source": [
        "from google.colab import files\n",
        "uploaded = files.upload()"
      ],
      "execution_count": null,
      "outputs": []
    },
    {
      "cell_type": "code",
      "metadata": {
        "id": "CcRIRv4xV3hP"
      },
      "source": [
        "#Read in the dataset\n",
        "\n",
        "df_disney = pd.read_csv('../data/disneymarathon2020.csv')\n",
        "\n",
        "print(df_disney.shape)\n",
        "df_disney.head()"
      ],
      "execution_count": 4,
      "outputs": [
        {
          "output_type": "stream",
          "name": "stdout",
          "text": [
            "(14106, 7)\n"
          ]
        },
        {
          "output_type": "execute_result",
          "data": {
            "text/plain": [
              "  gender  age  place    group  netTime     minutes        mph\n",
              "0      M   30      1  M30-34   2:22:19  142.316667  11.053695\n",
              "1      M   26      2  M25-29   2:27:02  147.033333  10.699105\n",
              "2      M   32      3  M30-34   2:27:28  147.466667  10.667665\n",
              "3      M   35      4  M35-39   2:39:20  159.350000   9.872137\n",
              "4      M   26      5  M25-29   2:44:09  164.166667   9.582487"
            ],
            "text/html": "<div>\n<style scoped>\n    .dataframe tbody tr th:only-of-type {\n        vertical-align: middle;\n    }\n\n    .dataframe tbody tr th {\n        vertical-align: top;\n    }\n\n    .dataframe thead th {\n        text-align: right;\n    }\n</style>\n<table border=\"1\" class=\"dataframe\">\n  <thead>\n    <tr style=\"text-align: right;\">\n      <th></th>\n      <th>gender</th>\n      <th>age</th>\n      <th>place</th>\n      <th>group</th>\n      <th>netTime</th>\n      <th>minutes</th>\n      <th>mph</th>\n    </tr>\n  </thead>\n  <tbody>\n    <tr>\n      <th>0</th>\n      <td>M</td>\n      <td>30</td>\n      <td>1</td>\n      <td>M30-34</td>\n      <td>2:22:19</td>\n      <td>142.316667</td>\n      <td>11.053695</td>\n    </tr>\n    <tr>\n      <th>1</th>\n      <td>M</td>\n      <td>26</td>\n      <td>2</td>\n      <td>M25-29</td>\n      <td>2:27:02</td>\n      <td>147.033333</td>\n      <td>10.699105</td>\n    </tr>\n    <tr>\n      <th>2</th>\n      <td>M</td>\n      <td>32</td>\n      <td>3</td>\n      <td>M30-34</td>\n      <td>2:27:28</td>\n      <td>147.466667</td>\n      <td>10.667665</td>\n    </tr>\n    <tr>\n      <th>3</th>\n      <td>M</td>\n      <td>35</td>\n      <td>4</td>\n      <td>M35-39</td>\n      <td>2:39:20</td>\n      <td>159.350000</td>\n      <td>9.872137</td>\n    </tr>\n    <tr>\n      <th>4</th>\n      <td>M</td>\n      <td>26</td>\n      <td>5</td>\n      <td>M25-29</td>\n      <td>2:44:09</td>\n      <td>164.166667</td>\n      <td>9.582487</td>\n    </tr>\n  </tbody>\n</table>\n</div>"
          },
          "metadata": {},
          "execution_count": 4
        }
      ]
    },
    {
      "cell_type": "markdown",
      "metadata": {
        "id": "5iFyoAdDOoqu"
      },
      "source": [
        "# [Objective 04](#basic-pandas-functions) - Use basic Pandas functions for Exploratory Data Analysis (EDA)"
      ]
    },
    {
      "cell_type": "markdown",
      "metadata": {
        "id": "k9DobU7dqILL"
      },
      "source": [
        "## Overview\n",
        "\n",
        "> Exploratory Data Analysis (EDA) refers to the critical process of performing initial investigations on data so as to discover patterns, to spot anomalies, to test hypotheses and to check assumptions with the help of summary statistics and graphical representations\n",
        "\n",
        "Exploratory Data Analysis is often the first thing that we'll do when starting out with a new dataset. How we treat our data, the models we choose, the approach we take to analyzing our data and in large part the entirety of our data science methodology and next steps are driven by the discoveries that we make during this stage of the process. "
      ]
    },
    {
      "cell_type": "markdown",
      "metadata": {
        "id": "iRBUyBOWog7X"
      },
      "source": [
        "What can we discover about this dataset?"
      ]
    },
    {
      "cell_type": "code",
      "metadata": {
        "id": "cGU_UjFKpGsE"
      },
      "source": [
        "#Determine the dimensions of the dataset\n",
        "\n",
        "df_disney.shape"
      ],
      "execution_count": 5,
      "outputs": [
        {
          "output_type": "execute_result",
          "data": {
            "text/plain": [
              "(14106, 7)"
            ]
          },
          "metadata": {},
          "execution_count": 5
        }
      ]
    },
    {
      "cell_type": "code",
      "metadata": {
        "id": "89iuqquJdmy-"
      },
      "source": [
        "#Learn more about the variables in the dataset\n",
        "\n",
        "df_disney.info()"
      ],
      "execution_count": 6,
      "outputs": [
        {
          "output_type": "stream",
          "name": "stdout",
          "text": [
            "<class 'pandas.core.frame.DataFrame'>\nRangeIndex: 14106 entries, 0 to 14105\nData columns (total 7 columns):\n #   Column   Non-Null Count  Dtype  \n---  ------   --------------  -----  \n 0   gender   14106 non-null  object \n 1   age      14106 non-null  int64  \n 2   place    14106 non-null  int64  \n 3   group    14106 non-null  object \n 4   netTime  14106 non-null  object \n 5   minutes  14106 non-null  float64\n 6   mph      14106 non-null  float64\ndtypes: float64(2), int64(2), object(3)\nmemory usage: 771.5+ KB\n"
          ]
        }
      ]
    },
    {
      "cell_type": "code",
      "execution_count": 7,
      "metadata": {},
      "outputs": [
        {
          "output_type": "execute_result",
          "data": {
            "text/plain": [
              "                age         place       minutes           mph\n",
              "count  14106.000000  14106.000000  14106.000000  14106.000000\n",
              "mean      39.946902   7053.500000    363.727572      4.478961\n",
              "std       10.826456   4072.195784     61.609263      0.932945\n",
              "min       18.000000      1.000000    142.316667      3.532995\n",
              "25%       32.000000   3527.250000    320.333333      3.774330\n",
              "50%       39.000000   7053.500000    378.533333      4.155843\n",
              "75%       47.000000  10579.750000    416.795833      4.910900\n",
              "max       84.000000  14106.000000    445.266667     11.053695"
            ],
            "text/html": "<div>\n<style scoped>\n    .dataframe tbody tr th:only-of-type {\n        vertical-align: middle;\n    }\n\n    .dataframe tbody tr th {\n        vertical-align: top;\n    }\n\n    .dataframe thead th {\n        text-align: right;\n    }\n</style>\n<table border=\"1\" class=\"dataframe\">\n  <thead>\n    <tr style=\"text-align: right;\">\n      <th></th>\n      <th>age</th>\n      <th>place</th>\n      <th>minutes</th>\n      <th>mph</th>\n    </tr>\n  </thead>\n  <tbody>\n    <tr>\n      <th>count</th>\n      <td>14106.000000</td>\n      <td>14106.000000</td>\n      <td>14106.000000</td>\n      <td>14106.000000</td>\n    </tr>\n    <tr>\n      <th>mean</th>\n      <td>39.946902</td>\n      <td>7053.500000</td>\n      <td>363.727572</td>\n      <td>4.478961</td>\n    </tr>\n    <tr>\n      <th>std</th>\n      <td>10.826456</td>\n      <td>4072.195784</td>\n      <td>61.609263</td>\n      <td>0.932945</td>\n    </tr>\n    <tr>\n      <th>min</th>\n      <td>18.000000</td>\n      <td>1.000000</td>\n      <td>142.316667</td>\n      <td>3.532995</td>\n    </tr>\n    <tr>\n      <th>25%</th>\n      <td>32.000000</td>\n      <td>3527.250000</td>\n      <td>320.333333</td>\n      <td>3.774330</td>\n    </tr>\n    <tr>\n      <th>50%</th>\n      <td>39.000000</td>\n      <td>7053.500000</td>\n      <td>378.533333</td>\n      <td>4.155843</td>\n    </tr>\n    <tr>\n      <th>75%</th>\n      <td>47.000000</td>\n      <td>10579.750000</td>\n      <td>416.795833</td>\n      <td>4.910900</td>\n    </tr>\n    <tr>\n      <th>max</th>\n      <td>84.000000</td>\n      <td>14106.000000</td>\n      <td>445.266667</td>\n      <td>11.053695</td>\n    </tr>\n  </tbody>\n</table>\n</div>"
          },
          "metadata": {},
          "execution_count": 7
        }
      ],
      "source": [
        "# Summary Statistics - we'll talk more about what these mean later\n",
        "# numeric columns by default (integers)\n",
        "\n",
        "df_disney.describe()"
      ]
    },
    {
      "cell_type": "code",
      "metadata": {
        "id": "PPlJKZCYXYT9"
      },
      "source": [
        "#Determine the data types\n",
        "\n",
        "df_disney.select_dtypes('object')"
      ],
      "execution_count": 8,
      "outputs": [
        {
          "output_type": "execute_result",
          "data": {
            "text/plain": [
              "      gender    group  netTime\n",
              "0          M  M30-34   2:22:19\n",
              "1          M  M25-29   2:27:02\n",
              "2          M  M30-34   2:27:28\n",
              "3          M  M35-39   2:39:20\n",
              "4          M  M25-29   2:44:09\n",
              "...      ...      ...      ...\n",
              "14101      F  F35-39   7:18:23\n",
              "14102      F  F50-54   7:19:36\n",
              "14103      M  M35-39   7:22:04\n",
              "14104      M  M50-54   7:23:36\n",
              "14105      M  M45-49   7:24:24\n",
              "\n",
              "[14106 rows x 3 columns]"
            ],
            "text/html": "<div>\n<style scoped>\n    .dataframe tbody tr th:only-of-type {\n        vertical-align: middle;\n    }\n\n    .dataframe tbody tr th {\n        vertical-align: top;\n    }\n\n    .dataframe thead th {\n        text-align: right;\n    }\n</style>\n<table border=\"1\" class=\"dataframe\">\n  <thead>\n    <tr style=\"text-align: right;\">\n      <th></th>\n      <th>gender</th>\n      <th>group</th>\n      <th>netTime</th>\n    </tr>\n  </thead>\n  <tbody>\n    <tr>\n      <th>0</th>\n      <td>M</td>\n      <td>M30-34</td>\n      <td>2:22:19</td>\n    </tr>\n    <tr>\n      <th>1</th>\n      <td>M</td>\n      <td>M25-29</td>\n      <td>2:27:02</td>\n    </tr>\n    <tr>\n      <th>2</th>\n      <td>M</td>\n      <td>M30-34</td>\n      <td>2:27:28</td>\n    </tr>\n    <tr>\n      <th>3</th>\n      <td>M</td>\n      <td>M35-39</td>\n      <td>2:39:20</td>\n    </tr>\n    <tr>\n      <th>4</th>\n      <td>M</td>\n      <td>M25-29</td>\n      <td>2:44:09</td>\n    </tr>\n    <tr>\n      <th>...</th>\n      <td>...</td>\n      <td>...</td>\n      <td>...</td>\n    </tr>\n    <tr>\n      <th>14101</th>\n      <td>F</td>\n      <td>F35-39</td>\n      <td>7:18:23</td>\n    </tr>\n    <tr>\n      <th>14102</th>\n      <td>F</td>\n      <td>F50-54</td>\n      <td>7:19:36</td>\n    </tr>\n    <tr>\n      <th>14103</th>\n      <td>M</td>\n      <td>M35-39</td>\n      <td>7:22:04</td>\n    </tr>\n    <tr>\n      <th>14104</th>\n      <td>M</td>\n      <td>M50-54</td>\n      <td>7:23:36</td>\n    </tr>\n    <tr>\n      <th>14105</th>\n      <td>M</td>\n      <td>M45-49</td>\n      <td>7:24:24</td>\n    </tr>\n  </tbody>\n</table>\n<p>14106 rows × 3 columns</p>\n</div>"
          },
          "metadata": {},
          "execution_count": 8
        }
      ]
    },
    {
      "cell_type": "code",
      "metadata": {
        "id": "D-nvaTs3XYXl"
      },
      "source": [
        "# non-numeric columns\n",
        "df_disney.describe(include='object')"
      ],
      "execution_count": 9,
      "outputs": [
        {
          "output_type": "execute_result",
          "data": {
            "text/plain": [
              "       gender    group  netTime\n",
              "count   14106    14106    14106\n",
              "unique      2       26     7693\n",
              "top         F  F35-39   6:54:19\n",
              "freq     7529     1374        8"
            ],
            "text/html": "<div>\n<style scoped>\n    .dataframe tbody tr th:only-of-type {\n        vertical-align: middle;\n    }\n\n    .dataframe tbody tr th {\n        vertical-align: top;\n    }\n\n    .dataframe thead th {\n        text-align: right;\n    }\n</style>\n<table border=\"1\" class=\"dataframe\">\n  <thead>\n    <tr style=\"text-align: right;\">\n      <th></th>\n      <th>gender</th>\n      <th>group</th>\n      <th>netTime</th>\n    </tr>\n  </thead>\n  <tbody>\n    <tr>\n      <th>count</th>\n      <td>14106</td>\n      <td>14106</td>\n      <td>14106</td>\n    </tr>\n    <tr>\n      <th>unique</th>\n      <td>2</td>\n      <td>26</td>\n      <td>7693</td>\n    </tr>\n    <tr>\n      <th>top</th>\n      <td>F</td>\n      <td>F35-39</td>\n      <td>6:54:19</td>\n    </tr>\n    <tr>\n      <th>freq</th>\n      <td>7529</td>\n      <td>1374</td>\n      <td>8</td>\n    </tr>\n  </tbody>\n</table>\n</div>"
          },
          "metadata": {},
          "execution_count": 9
        }
      ]
    },
    {
      "cell_type": "code",
      "execution_count": 10,
      "metadata": {},
      "outputs": [
        {
          "output_type": "stream",
          "name": "stdout",
          "text": [
            "26\n"
          ]
        },
        {
          "output_type": "execute_result",
          "data": {
            "text/plain": [
              "array(['M30-34 ', 'M25-29 ', 'M35-39 ', 'M18-24 ', 'M40-44 ', 'F35-39 ',\n",
              "       'M50-54 ', 'F18-24 ', 'M45-49 ', 'F40-44 ', 'F30-34 ', 'F25-29 ',\n",
              "       'M55-59 ', 'F50-54 ', 'F45-49 ', 'M60-64 ', 'F60-64 ', 'F55-59 ',\n",
              "       'M65-69 ', 'M70-74 ', 'F65-69 ', 'F70-74 ', 'M75-79 ', 'M80-99 ',\n",
              "       'F75-79 ', 'F80-99 '], dtype=object)"
            ]
          },
          "metadata": {},
          "execution_count": 10
        }
      ],
      "source": [
        "print(df_disney['group'].nunique())\n",
        "df_disney['group'].unique()"
      ]
    },
    {
      "cell_type": "code",
      "metadata": {
        "id": "P4E8-j6oXYfB"
      },
      "source": [
        "# accesss a specific column of the dataframe\n",
        "\n",
        "df_disney['group']"
      ],
      "execution_count": 11,
      "outputs": [
        {
          "output_type": "execute_result",
          "data": {
            "text/plain": [
              "0        M30-34 \n",
              "1        M25-29 \n",
              "2        M30-34 \n",
              "3        M35-39 \n",
              "4        M25-29 \n",
              "          ...   \n",
              "14101    F35-39 \n",
              "14102    F50-54 \n",
              "14103    M35-39 \n",
              "14104    M50-54 \n",
              "14105    M45-49 \n",
              "Name: group, Length: 14106, dtype: object"
            ]
          },
          "metadata": {},
          "execution_count": 11
        }
      ]
    },
    {
      "cell_type": "code",
      "metadata": {
        "id": "2kxNpZ-yigEG"
      },
      "source": [
        "#sort by values\n",
        "\n",
        "df_disney['group'].sort_values()"
      ],
      "execution_count": 12,
      "outputs": [
        {
          "output_type": "execute_result",
          "data": {
            "text/plain": [
              "4120     F18-24 \n",
              "5254     F18-24 \n",
              "699      F18-24 \n",
              "4184     F18-24 \n",
              "12208    F18-24 \n",
              "          ...   \n",
              "8168     M75-79 \n",
              "11465    M75-79 \n",
              "8974     M75-79 \n",
              "13238    M75-79 \n",
              "11446    M80-99 \n",
              "Name: group, Length: 14106, dtype: object"
            ]
          },
          "metadata": {},
          "execution_count": 12
        }
      ]
    },
    {
      "cell_type": "code",
      "metadata": {
        "id": "2_sRJ2r0XYiX"
      },
      "source": [
        "#How many individuals are in each group?\n",
        "\n",
        "df_disney['group'].value_counts()"
      ],
      "execution_count": 13,
      "outputs": [
        {
          "output_type": "execute_result",
          "data": {
            "text/plain": [
              "F35-39     1374\n",
              "F30-34     1221\n",
              "F25-29     1165\n",
              "F40-44     1132\n",
              "M40-44     1110\n",
              "M35-39     1106\n",
              "M30-34      973\n",
              "F45-49      923\n",
              "M45-49      855\n",
              "M50-54      722\n",
              "M25-29      623\n",
              "F50-54      577\n",
              "F18-24      536\n",
              "M55-59      424\n",
              "F55-59      366\n",
              "M18-24      308\n",
              "M60-64      289\n",
              "F60-64      164\n",
              "M65-69      113\n",
              "F65-69       56\n",
              "M70-74       43\n",
              "F70-74       13\n",
              "M75-79       10\n",
              "F80-99        1\n",
              "F75-79        1\n",
              "M80-99        1\n",
              "Name: group, dtype: int64"
            ]
          },
          "metadata": {},
          "execution_count": 13
        }
      ]
    },
    {
      "cell_type": "code",
      "metadata": {
        "id": "5dud1NaGX4ly"
      },
      "source": [
        "# check for missing values\n",
        "# the number of missing values in each column\n",
        "\n",
        "df_disney.isna().sum()"
      ],
      "execution_count": 14,
      "outputs": [
        {
          "output_type": "execute_result",
          "data": {
            "text/plain": [
              "gender     0\n",
              "age        0\n",
              "place      0\n",
              "group      0\n",
              "netTime    0\n",
              "minutes    0\n",
              "mph        0\n",
              "dtype: int64"
            ]
          },
          "metadata": {},
          "execution_count": 14
        }
      ]
    },
    {
      "cell_type": "code",
      "execution_count": 15,
      "metadata": {},
      "outputs": [
        {
          "output_type": "execute_result",
          "data": {
            "text/plain": [
              "  gender  age  place    group  netTime     minutes        mph\n",
              "0      M   30      1  M30-34   2:22:19  142.316667  11.053695\n",
              "1      M   26      2  M25-29   2:27:02  147.033333  10.699105\n",
              "2      M   32      3  M30-34   2:27:28  147.466667  10.667665\n",
              "3      M   35      4  M35-39   2:39:20  159.350000   9.872137\n",
              "4      M   26      5  M25-29   2:44:09  164.166667   9.582487"
            ],
            "text/html": "<div>\n<style scoped>\n    .dataframe tbody tr th:only-of-type {\n        vertical-align: middle;\n    }\n\n    .dataframe tbody tr th {\n        vertical-align: top;\n    }\n\n    .dataframe thead th {\n        text-align: right;\n    }\n</style>\n<table border=\"1\" class=\"dataframe\">\n  <thead>\n    <tr style=\"text-align: right;\">\n      <th></th>\n      <th>gender</th>\n      <th>age</th>\n      <th>place</th>\n      <th>group</th>\n      <th>netTime</th>\n      <th>minutes</th>\n      <th>mph</th>\n    </tr>\n  </thead>\n  <tbody>\n    <tr>\n      <th>0</th>\n      <td>M</td>\n      <td>30</td>\n      <td>1</td>\n      <td>M30-34</td>\n      <td>2:22:19</td>\n      <td>142.316667</td>\n      <td>11.053695</td>\n    </tr>\n    <tr>\n      <th>1</th>\n      <td>M</td>\n      <td>26</td>\n      <td>2</td>\n      <td>M25-29</td>\n      <td>2:27:02</td>\n      <td>147.033333</td>\n      <td>10.699105</td>\n    </tr>\n    <tr>\n      <th>2</th>\n      <td>M</td>\n      <td>32</td>\n      <td>3</td>\n      <td>M30-34</td>\n      <td>2:27:28</td>\n      <td>147.466667</td>\n      <td>10.667665</td>\n    </tr>\n    <tr>\n      <th>3</th>\n      <td>M</td>\n      <td>35</td>\n      <td>4</td>\n      <td>M35-39</td>\n      <td>2:39:20</td>\n      <td>159.350000</td>\n      <td>9.872137</td>\n    </tr>\n    <tr>\n      <th>4</th>\n      <td>M</td>\n      <td>26</td>\n      <td>5</td>\n      <td>M25-29</td>\n      <td>2:44:09</td>\n      <td>164.166667</td>\n      <td>9.582487</td>\n    </tr>\n  </tbody>\n</table>\n</div>"
          },
          "metadata": {},
          "execution_count": 15
        }
      ],
      "source": [
        "df_disney.head()"
      ]
    },
    {
      "cell_type": "code",
      "metadata": {
        "id": "ju_QUMHKX4yb"
      },
      "source": [
        "# drop rows from the dataset inplace\n",
        "\n",
        "df_disney_small = df_disney.drop([0, 1, 2])\n",
        "df_disney_small.head()"
      ],
      "execution_count": 16,
      "outputs": [
        {
          "output_type": "execute_result",
          "data": {
            "text/plain": [
              "  gender  age  place    group  netTime     minutes       mph\n",
              "3      M   35      4  M35-39   2:39:20  159.350000  9.872137\n",
              "4      M   26      5  M25-29   2:44:09  164.166667  9.582487\n",
              "5      M   21      6  M18-24   2:45:35  169.766667  9.266395\n",
              "6      M   42      7  M40-44   2:45:51  165.866667  9.484275\n",
              "7      M   28      8  M25-29   2:48:12  168.400000  9.341597"
            ],
            "text/html": "<div>\n<style scoped>\n    .dataframe tbody tr th:only-of-type {\n        vertical-align: middle;\n    }\n\n    .dataframe tbody tr th {\n        vertical-align: top;\n    }\n\n    .dataframe thead th {\n        text-align: right;\n    }\n</style>\n<table border=\"1\" class=\"dataframe\">\n  <thead>\n    <tr style=\"text-align: right;\">\n      <th></th>\n      <th>gender</th>\n      <th>age</th>\n      <th>place</th>\n      <th>group</th>\n      <th>netTime</th>\n      <th>minutes</th>\n      <th>mph</th>\n    </tr>\n  </thead>\n  <tbody>\n    <tr>\n      <th>3</th>\n      <td>M</td>\n      <td>35</td>\n      <td>4</td>\n      <td>M35-39</td>\n      <td>2:39:20</td>\n      <td>159.350000</td>\n      <td>9.872137</td>\n    </tr>\n    <tr>\n      <th>4</th>\n      <td>M</td>\n      <td>26</td>\n      <td>5</td>\n      <td>M25-29</td>\n      <td>2:44:09</td>\n      <td>164.166667</td>\n      <td>9.582487</td>\n    </tr>\n    <tr>\n      <th>5</th>\n      <td>M</td>\n      <td>21</td>\n      <td>6</td>\n      <td>M18-24</td>\n      <td>2:45:35</td>\n      <td>169.766667</td>\n      <td>9.266395</td>\n    </tr>\n    <tr>\n      <th>6</th>\n      <td>M</td>\n      <td>42</td>\n      <td>7</td>\n      <td>M40-44</td>\n      <td>2:45:51</td>\n      <td>165.866667</td>\n      <td>9.484275</td>\n    </tr>\n    <tr>\n      <th>7</th>\n      <td>M</td>\n      <td>28</td>\n      <td>8</td>\n      <td>M25-29</td>\n      <td>2:48:12</td>\n      <td>168.400000</td>\n      <td>9.341597</td>\n    </tr>\n  </tbody>\n</table>\n</div>"
          },
          "metadata": {},
          "execution_count": 16
        }
      ]
    },
    {
      "cell_type": "code",
      "metadata": {
        "id": "7tthEnk4hcCu"
      },
      "source": [
        "#This has the same effect as\n",
        "#Drop row 2 since we've already dropped row 1\n"
      ],
      "execution_count": 17,
      "outputs": []
    },
    {
      "cell_type": "code",
      "metadata": {
        "id": "tNtoNsASYW0U"
      },
      "source": [
        "# axis=1 to look through column headers and not row index\n",
        "#Drop ID variable\n",
        "\n",
        "#inplace\n",
        "\n"
      ],
      "execution_count": 18,
      "outputs": []
    },
    {
      "cell_type": "code",
      "metadata": {
        "id": "3mYFpnjAhuy2"
      },
      "source": [
        "# another way\n"
      ],
      "execution_count": null,
      "outputs": []
    },
    {
      "cell_type": "markdown",
      "metadata": {
        "id": "9pQ5XKZMPA4b"
      },
      "source": [
        "# [Objective 05](#pandas-visualizations) Describe and discriminate between basic data types "
      ]
    },
    {
      "cell_type": "markdown",
      "metadata": {
        "id": "mUdn5YhXqe3m"
      },
      "source": [
        "## Overview\n",
        "\n",
        "One of the cornerstones of Exploratory Data Analysis (EDA) is being able to identify variable types such as categorical, quantitative, continuous, discrete, ordinal, nominal and identifier.  We will need different statistical methods to display and describe each of these different types of data."
      ]
    },
    {
      "cell_type": "markdown",
      "metadata": {
        "id": "CE1OpSBpljcU"
      },
      "source": [
        "## Data types\n",
        "\n",
        "First, data can most easily be classified as ________________.\n",
        "\n",
        "- ________________ data places each observation into one and only one category: hair color, eye color, favorite flavor of ice cream, letter grade in a class, zip code\n",
        "\n",
        "- ________________ data measures something: height, weight, income, number of children"
      ]
    },
    {
      "cell_type": "markdown",
      "metadata": {
        "id": "pLIcXUwgGZ4m"
      },
      "source": [
        "Categorical data can further be classified as ________________.\n",
        "- ________________ data has no natural ordering: hair color, eye color\n",
        "- ________________ data has a natural ordering: letter grades - A, B, C, D, F\n",
        "- ________________ variables identify each record uniquely and are not analyzed\n",
        "\n",
        "Quantitative data can further be classified as ________________.\n",
        "- ________________ data can be counted in a finite amount of time: Number of individuals riding on a bus\n",
        "- ________________ data can be measured ever more precisely: My age is 38.134283948577 years old."
      ]
    },
    {
      "cell_type": "markdown",
      "metadata": {
        "id": "-cPyM8eLlIQB"
      },
      "source": [
        "#### Let's import the Titanic.csv dataset and identify the different variable types:"
      ]
    },
    {
      "cell_type": "code",
      "metadata": {
        "id": "vGXfTAyJlU4J"
      },
      "source": [
        "import pandas as pd\n",
        "\n",
        "data_url = 'https://raw.githubusercontent.com/Chelsea-Myers/Lambda-Intro/master/Titanic.csv'\n",
        "\n",
        "df = pd.read_csv(data_url, skipinitialspace=True, header=0)\n",
        "\n",
        "print(df.shape)\n",
        "df.head()"
      ],
      "execution_count": null,
      "outputs": []
    },
    {
      "cell_type": "markdown",
      "metadata": {
        "id": "Au0x261CIlWc"
      },
      "source": [
        "[Titanic Data Dictionary](https://github.com/LambdaSchool/data-science-practice-datasets/tree/main/unit_1/Titanic)\n"
      ]
    },
    {
      "cell_type": "markdown",
      "metadata": {
        "id": "SMdasMbEJq8r"
      },
      "source": [
        "\n",
        "\n",
        "- Which variable is the identifier variable?\n",
        "- Which variables are categorical?  Are they ordinal or nominal?\n",
        "- Which variables are quantiative?  Are they quantitative or discrete?\n"
      ]
    },
    {
      "cell_type": "markdown",
      "metadata": {
        "id": "n-hd4hSvZzUh"
      },
      "source": []
    },
    {
      "cell_type": "markdown",
      "metadata": {
        "id": "6do0SyGaOtxh"
      },
      "source": [
        "#Data Storytelling Portfolio Project\n",
        "\n",
        "The Data Storytelling Portfolio Project (previously the Build Week Project) gives you a chance to create your very own statistical analysis and visualizations to share with your peers and potential employers.\n",
        "\n",
        "Over the course of Unit 1, you'll develop a research question and answer that question using visualizations and statistical hypothesis tests and models.\n",
        "\n",
        "For more information about what is expected in the Portfolio Project see here: https://github.com/LambdaSchool/DS-Unit-1-Build\n",
        "\n",
        "Most days you'll have a Data Storytelling Project Milestone included in your assignment.\n",
        "\n"
      ]
    },
    {
      "cell_type": "markdown",
      "metadata": {
        "id": "trZtxlPtASwI"
      },
      "source": [
        "# Review\n",
        "\n",
        "Whew, that was a lot. Again, if this content seems overwhelming, remember that this won't be the last time that we'll talk about the skills contained in this lesson. They're right at the beginning of the course because we'll use these skills nearly every day, so you'll get really good at these things in no time!\n",
        "\n",
        "You know when you're learning a new board game and somebody tries to explain the rules to you and it doesn't make very much sense? My friends always end up saying something like: \"It sounds more complicated then it really is, lets just play a round and you'll get it.\" \n",
        "\n",
        "That's the same message that I have for you. There's a lot of new things here at Lambda School in the first week:\n",
        "\n",
        "- New Course\n",
        "- New Schedule\n",
        "- New Community\n",
        "- New Tools\n",
        "- New Processes\n",
        "- New Content\n",
        "\n",
        "As we go through a cycle of one sprint, it will all start making a whole lot more sense. \n",
        "\n"
      ]
    }
  ]
}