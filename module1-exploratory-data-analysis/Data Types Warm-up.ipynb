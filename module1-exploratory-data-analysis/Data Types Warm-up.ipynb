{
  "nbformat": 4,
  "nbformat_minor": 0,
  "metadata": {
    "colab": {
      "name": "Data Types Warm-up.ipynb",
      "provenance": []
    },
    "kernelspec": {
      "display_name": "Python 3",
      "language": "python",
      "name": "python3"
    },
    "language_info": {
      "codemirror_mode": {
        "name": "ipython",
        "version": 3
      },
      "file_extension": ".py",
      "mimetype": "text/x-python",
      "name": "python",
      "nbconvert_exporter": "python",
      "pygments_lexer": "ipython3",
      "version": "3.8.8"
    }
  },
  "cells": [
    {
      "cell_type": "markdown",
      "metadata": {
        "id": "mUdn5YhXqe3m"
      },
      "source": [
        "## Overview\n",
        "\n",
        "One of the cornerstones of Exploratory Data Analysis (EDA) is being able to identify variable types such as categorical, quantitative, continuous, discrete, ordinal, nominal and identifier.  We will use different statistical methods to display and describe each of these different types of data."
      ]
    },
    {
      "cell_type": "markdown",
      "metadata": {
        "id": "CE1OpSBpljcU"
      },
      "source": [
        "## Read the Following\n",
        "\n",
        "First, data can most easily be classified as categorical or quantitative.\n",
        "\n",
        "- Categorical data places each observation into one and only one category: hair color, eye color, favorite flavor of ice cream, letter grade in a class, zip code\n",
        "\n",
        "- Quantitative data measures something: height, weight, income, number of children"
      ]
    },
    {
      "cell_type": "markdown",
      "metadata": {
        "id": "pLIcXUwgGZ4m"
      },
      "source": [
        "Categorical data can further be classified as ordinal, nominal or an identifier variable.\n",
        "- Nominal data has no natural ordering: hair color, eye color\n",
        "- Ordinal data has a natural ordering: letter grades - A, B, C, D, F\n",
        "- Identifier variables identify each record uniquely and are not analyzed\n",
        "\n",
        "Quantitative data can further be classified as discrete or continuous.\n",
        "- Discrete data can be counted in a finite amount of time: Number of individuals riding on a bus\n",
        "- Continuous data can be measured more precisely: My age is 38.334283948577 years old."
      ]
    },
    {
      "cell_type": "markdown",
      "metadata": {
        "id": "-cPyM8eLlIQB"
      },
      "source": [
        "#### Let's import the Titanic.csv dataset and identify the different variable types:"
      ]
    },
    {
      "cell_type": "markdown",
      "metadata": {
        "id": "PYgryGq0Ye3X"
      },
      "source": [
        "Run the code block below to import and print the top 5 observations from the Titanic dataset.  We'll cover exactly how this works in today's Guided Project.\n",
        "\n",
        "Then take a look at the Titanic Data Dictionary linked below."
      ]
    },
    {
      "cell_type": "code",
      "metadata": {
        "colab": {
          "base_uri": "https://localhost:8080/",
          "height": 221
        },
        "id": "vGXfTAyJlU4J",
        "outputId": "def61a40-f657-43f6-feb8-90b8e131a28b"
      },
      "source": [
        "import pandas as pd\n",
        "\n",
        "data_url = 'https://raw.githubusercontent.com/LambdaSchool/data-science-practice-datasets/main/unit_1/Titanic/Titanic.csv'\n",
        "\n",
        "df = pd.read_csv(data_url, skipinitialspace=True, header=0)\n",
        "\n",
        "print(df.shape)\n",
        "df.head()"
      ],
      "execution_count": null,
      "outputs": [
        {
          "output_type": "stream",
          "name": "stdout",
          "text": [
            "(887, 8)\n"
          ]
        },
        {
          "output_type": "execute_result",
          "data": {
            "text/html": [
              "<div>\n",
              "<style scoped>\n",
              "    .dataframe tbody tr th:only-of-type {\n",
              "        vertical-align: middle;\n",
              "    }\n",
              "\n",
              "    .dataframe tbody tr th {\n",
              "        vertical-align: top;\n",
              "    }\n",
              "\n",
              "    .dataframe thead th {\n",
              "        text-align: right;\n",
              "    }\n",
              "</style>\n",
              "<table border=\"1\" class=\"dataframe\">\n",
              "  <thead>\n",
              "    <tr style=\"text-align: right;\">\n",
              "      <th></th>\n",
              "      <th>Survived</th>\n",
              "      <th>Pclass</th>\n",
              "      <th>Name</th>\n",
              "      <th>Sex</th>\n",
              "      <th>Age</th>\n",
              "      <th>Siblings/Spouses_Aboard</th>\n",
              "      <th>Parents/Children_Aboard</th>\n",
              "      <th>Fare</th>\n",
              "    </tr>\n",
              "  </thead>\n",
              "  <tbody>\n",
              "    <tr>\n",
              "      <th>0</th>\n",
              "      <td>0</td>\n",
              "      <td>3</td>\n",
              "      <td>Mr. Owen Harris Braund</td>\n",
              "      <td>male</td>\n",
              "      <td>22.0</td>\n",
              "      <td>1</td>\n",
              "      <td>0</td>\n",
              "      <td>7.2500</td>\n",
              "    </tr>\n",
              "    <tr>\n",
              "      <th>1</th>\n",
              "      <td>1</td>\n",
              "      <td>1</td>\n",
              "      <td>Mrs. John Bradley (Florence Briggs Thayer) Cum...</td>\n",
              "      <td>female</td>\n",
              "      <td>38.0</td>\n",
              "      <td>1</td>\n",
              "      <td>0</td>\n",
              "      <td>71.2833</td>\n",
              "    </tr>\n",
              "    <tr>\n",
              "      <th>2</th>\n",
              "      <td>1</td>\n",
              "      <td>3</td>\n",
              "      <td>Miss. Laina Heikkinen</td>\n",
              "      <td>female</td>\n",
              "      <td>26.0</td>\n",
              "      <td>0</td>\n",
              "      <td>0</td>\n",
              "      <td>7.9250</td>\n",
              "    </tr>\n",
              "    <tr>\n",
              "      <th>3</th>\n",
              "      <td>1</td>\n",
              "      <td>1</td>\n",
              "      <td>Mrs. Jacques Heath (Lily May Peel) Futrelle</td>\n",
              "      <td>female</td>\n",
              "      <td>35.0</td>\n",
              "      <td>1</td>\n",
              "      <td>0</td>\n",
              "      <td>53.1000</td>\n",
              "    </tr>\n",
              "    <tr>\n",
              "      <th>4</th>\n",
              "      <td>0</td>\n",
              "      <td>3</td>\n",
              "      <td>Mr. William Henry Allen</td>\n",
              "      <td>male</td>\n",
              "      <td>35.0</td>\n",
              "      <td>0</td>\n",
              "      <td>0</td>\n",
              "      <td>8.0500</td>\n",
              "    </tr>\n",
              "  </tbody>\n",
              "</table>\n",
              "</div>"
            ],
            "text/plain": [
              "   Survived  Pclass  ... Parents/Children_Aboard     Fare\n",
              "0         0       3  ...                       0   7.2500\n",
              "1         1       1  ...                       0  71.2833\n",
              "2         1       3  ...                       0   7.9250\n",
              "3         1       1  ...                       0  53.1000\n",
              "4         0       3  ...                       0   8.0500\n",
              "\n",
              "[5 rows x 8 columns]"
            ]
          },
          "metadata": {},
          "execution_count": 1
        }
      ]
    },
    {
      "cell_type": "code",
      "metadata": {
        "id": "xIVMWXvDweIw"
      },
      "source": [
        ""
      ],
      "execution_count": null,
      "outputs": []
    },
    {
      "cell_type": "markdown",
      "metadata": {
        "id": "Au0x261CIlWc"
      },
      "source": [
        "[Titanic Data Dictionary](https://github.com/LambdaSchool/data-science-practice-datasets/tree/main/unit_1/Titanic)\n"
      ]
    },
    {
      "cell_type": "markdown",
      "metadata": {
        "id": "mNpAAsxkY5PY"
      },
      "source": [
        "###Use the resources above to answer the following questions about the Titanic dataset:"
      ]
    },
    {
      "cell_type": "markdown",
      "metadata": {
        "id": "SMdasMbEJq8r"
      },
      "source": [
        "\n",
        "\n",
        "1. Which variable is the identifier variable?\n"
      ]
    },
    {
      "cell_type": "markdown",
      "metadata": {
        "id": "g_uCjN2fZLvn"
      },
      "source": [
        "Answer: Name."
      ]
    },
    {
      "cell_type": "markdown",
      "metadata": {
        "id": "B3bA1ntVZHmj"
      },
      "source": [
        "\n",
        "2. Which variables are categorical?  Are they ordinal or nominal?"
      ]
    },
    {
      "cell_type": "markdown",
      "metadata": {
        "id": "OxB_tfWJZOhr"
      },
      "source": [
        "Answer: Survived and Sex are nominal categorical. Pclass is ordinal categorical."
      ]
    },
    {
      "cell_type": "markdown",
      "metadata": {
        "id": "P5J6Ck6xZIL7"
      },
      "source": [
        "\n",
        "3. Which variables are quantitative?  Are the values continuous or discrete?"
      ]
    },
    {
      "cell_type": "markdown",
      "metadata": {
        "id": "vOJHdoCUZPI2"
      },
      "source": [
        "Answer: Siblings/Spouses_Aboard and Parents/Children_Aboard are discrete quantitative. Age and Fare are continuous quantitative."
      ]
    }
  ]
}