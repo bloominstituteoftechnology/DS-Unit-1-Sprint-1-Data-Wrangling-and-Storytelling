{
 "cells": [
  {
   "cell_type": "markdown",
   "metadata": {},
   "source": [
    "## Autograded Notebook (Canvas & CodeGrade)\n",
    "\n",
    "This notebook will be automatically graded. It is designed to test your answers and award points for the correct answers. Following the instructions for each Task carefully.\n",
    "\n",
    "### Instructions\n",
    "\n",
    "* **Download this notebook** as you would any other ipynb file\n",
    "* **Upload** to Google Colab or work locally (if you have that set-up)\n",
    "* **Delete `raise NotImplementedError()`**\n",
    "* Write your code in the `# YOUR CODE HERE` space\n",
    "* **Execute** the Test cells that contain `assert` statements - these help you check your work (others contain hidden tests that will be checked when you submit through Canvas)\n",
    "* **Save** your notebook when you are finished\n",
    "* **Download** as a `ipynb` file (if working in Colab)\n",
    "* **Upload** your complete notebook to Canvas (there will be additional instructions in Slack and/or Canvas)"
   ]
  },
  {
   "cell_type": "markdown",
   "metadata": {
    "id": "Ldr0HZ193GKb"
   },
   "source": [
    "# Lambda School Data Science - Unit 1 Sprint 1 Module 1\n",
    "\n",
    "## Exploratory Data Analysis\n",
    "\n",
    "### Module Learning Objectives\n",
    "\n",
    "\n",
    "- Load a CSV dataset from a URL using `pandas.read_csv`\n",
    "- Load a CSV dataset from a local file using `pandas.read_csv\n",
    "- Use basic Pandas functions for Exploratory Data Analysis-EDA\n",
    "- Describe and discriminate between basic data types such as categorical, quantitative, continuous, discrete, ordinal, nominal and identifier\n"
   ]
  },
  {
   "cell_type": "markdown",
   "metadata": {},
   "source": [
    "## Autograded Module Projects\n",
    "\n",
    "Welcome to the first Module Project of Unit 1! You will complete a project (sometimes also referred to as an assignment) after the Guided Project for each Module. There will be four Module Projects per Sprint and each project is designed to provide you with an opportunity to practice what you learned in the Canvas Warm-up material and the Guided Project with your Instructors.\n",
    "\n",
    "Throughout Unit 1, the Module Projects and the Sprint Challenges are *autograded*. You will complete your work in a Jupyter/Python notebook (the files that end with `.ipynb`) and then upload your completed notebook to Canvas and submit for grading. This autograded process will check your answers and provide more information about the errors in your notebook. You'll receive a score at the \n",
    "\n",
    "So, let's get started! If you are reading this notebook, then you have the correct autograded version."
   ]
  },
  {
   "cell_type": "markdown",
   "metadata": {
    "id": "2CkckTc6-txA"
   },
   "source": [
    "## Introduction\n",
    "\n",
    "For this module, we learned how to use some of the most common tools for exploring our data. We'll continue to practice our `pandas` skills with a new dataset. \n",
    "\n",
    "## Dataset Description\n",
    "\n",
    "Explore the University of California - Irvine Adult Dataset"
   ]
  },
  {
   "cell_type": "markdown",
   "metadata": {
    "id": "dd7NLO359fux"
   },
   "source": [
    "**Task 1** - Load a dataset via its URL\n",
    "\n",
    "* Create a Python list named `column_headers` with the following items: `'age', 'workclass', 'fnlwgt', 'education', 'education-num', 'marital-status', 'occupation', 'relationship', 'race', 'sex', 'capital-gain', 'capital-loss', 'hours-per-week','native-country', 'income'`\n",
    "* Load the file from the URL provided below using the `column_headers` list you created to name your columns: set the `pd.read_csv()` parameter **names** to `column_headers`"
   ]
  },
  {
   "cell_type": "code",
   "execution_count": 6,
   "metadata": {
    "deletable": false,
    "id": "0M6HGqld9Azy",
    "nbgrader": {
     "cell_type": "code",
     "checksum": "a3b944c912f2fd93474f840cad050d9c",
     "grade": false,
     "grade_id": "cell-8a338d1f29fadeee",
     "locked": false,
     "schema_version": 3,
     "solution": true,
     "task": false
    }
   },
   "outputs": [
    {
     "data": {
      "text/html": [
       "<div>\n",
       "<style scoped>\n",
       "    .dataframe tbody tr th:only-of-type {\n",
       "        vertical-align: middle;\n",
       "    }\n",
       "\n",
       "    .dataframe tbody tr th {\n",
       "        vertical-align: top;\n",
       "    }\n",
       "\n",
       "    .dataframe thead th {\n",
       "        text-align: right;\n",
       "    }\n",
       "</style>\n",
       "<table border=\"1\" class=\"dataframe\">\n",
       "  <thead>\n",
       "    <tr style=\"text-align: right;\">\n",
       "      <th></th>\n",
       "      <th>age</th>\n",
       "      <th>workclass</th>\n",
       "      <th>fnlwgt</th>\n",
       "      <th>education</th>\n",
       "      <th>education-num</th>\n",
       "      <th>marital-status</th>\n",
       "      <th>occupation</th>\n",
       "      <th>relationship</th>\n",
       "      <th>race</th>\n",
       "      <th>sex</th>\n",
       "      <th>capital-gain</th>\n",
       "      <th>capital-loss</th>\n",
       "      <th>hours-per-week</th>\n",
       "      <th>native-country</th>\n",
       "      <th>income</th>\n",
       "    </tr>\n",
       "  </thead>\n",
       "  <tbody>\n",
       "    <tr>\n",
       "      <th>0</th>\n",
       "      <td>39</td>\n",
       "      <td>State-gov</td>\n",
       "      <td>77516</td>\n",
       "      <td>Bachelors</td>\n",
       "      <td>13</td>\n",
       "      <td>Never-married</td>\n",
       "      <td>Adm-clerical</td>\n",
       "      <td>Not-in-family</td>\n",
       "      <td>White</td>\n",
       "      <td>Male</td>\n",
       "      <td>2174</td>\n",
       "      <td>0</td>\n",
       "      <td>40</td>\n",
       "      <td>United-States</td>\n",
       "      <td>&lt;=50K</td>\n",
       "    </tr>\n",
       "    <tr>\n",
       "      <th>1</th>\n",
       "      <td>50</td>\n",
       "      <td>Self-emp-not-inc</td>\n",
       "      <td>83311</td>\n",
       "      <td>Bachelors</td>\n",
       "      <td>13</td>\n",
       "      <td>Married-civ-spouse</td>\n",
       "      <td>Exec-managerial</td>\n",
       "      <td>Husband</td>\n",
       "      <td>White</td>\n",
       "      <td>Male</td>\n",
       "      <td>0</td>\n",
       "      <td>0</td>\n",
       "      <td>13</td>\n",
       "      <td>United-States</td>\n",
       "      <td>&lt;=50K</td>\n",
       "    </tr>\n",
       "    <tr>\n",
       "      <th>2</th>\n",
       "      <td>38</td>\n",
       "      <td>Private</td>\n",
       "      <td>215646</td>\n",
       "      <td>HS-grad</td>\n",
       "      <td>9</td>\n",
       "      <td>Divorced</td>\n",
       "      <td>Handlers-cleaners</td>\n",
       "      <td>Not-in-family</td>\n",
       "      <td>White</td>\n",
       "      <td>Male</td>\n",
       "      <td>0</td>\n",
       "      <td>0</td>\n",
       "      <td>40</td>\n",
       "      <td>United-States</td>\n",
       "      <td>&lt;=50K</td>\n",
       "    </tr>\n",
       "    <tr>\n",
       "      <th>3</th>\n",
       "      <td>53</td>\n",
       "      <td>Private</td>\n",
       "      <td>234721</td>\n",
       "      <td>11th</td>\n",
       "      <td>7</td>\n",
       "      <td>Married-civ-spouse</td>\n",
       "      <td>Handlers-cleaners</td>\n",
       "      <td>Husband</td>\n",
       "      <td>Black</td>\n",
       "      <td>Male</td>\n",
       "      <td>0</td>\n",
       "      <td>0</td>\n",
       "      <td>40</td>\n",
       "      <td>United-States</td>\n",
       "      <td>&lt;=50K</td>\n",
       "    </tr>\n",
       "    <tr>\n",
       "      <th>4</th>\n",
       "      <td>28</td>\n",
       "      <td>Private</td>\n",
       "      <td>338409</td>\n",
       "      <td>Bachelors</td>\n",
       "      <td>13</td>\n",
       "      <td>Married-civ-spouse</td>\n",
       "      <td>Prof-specialty</td>\n",
       "      <td>Wife</td>\n",
       "      <td>Black</td>\n",
       "      <td>Female</td>\n",
       "      <td>0</td>\n",
       "      <td>0</td>\n",
       "      <td>40</td>\n",
       "      <td>Cuba</td>\n",
       "      <td>&lt;=50K</td>\n",
       "    </tr>\n",
       "  </tbody>\n",
       "</table>\n",
       "</div>"
      ],
      "text/plain": [
       "   age          workclass  fnlwgt   education  education-num  \\\n",
       "0   39          State-gov   77516   Bachelors             13   \n",
       "1   50   Self-emp-not-inc   83311   Bachelors             13   \n",
       "2   38            Private  215646     HS-grad              9   \n",
       "3   53            Private  234721        11th              7   \n",
       "4   28            Private  338409   Bachelors             13   \n",
       "\n",
       "        marital-status          occupation    relationship    race      sex  \\\n",
       "0        Never-married        Adm-clerical   Not-in-family   White     Male   \n",
       "1   Married-civ-spouse     Exec-managerial         Husband   White     Male   \n",
       "2             Divorced   Handlers-cleaners   Not-in-family   White     Male   \n",
       "3   Married-civ-spouse   Handlers-cleaners         Husband   Black     Male   \n",
       "4   Married-civ-spouse      Prof-specialty            Wife   Black   Female   \n",
       "\n",
       "   capital-gain  capital-loss  hours-per-week  native-country  income  \n",
       "0          2174             0              40   United-States   <=50K  \n",
       "1             0             0              13   United-States   <=50K  \n",
       "2             0             0              40   United-States   <=50K  \n",
       "3             0             0              40   United-States   <=50K  \n",
       "4             0             0              40            Cuba   <=50K  "
      ]
     },
     "execution_count": 6,
     "metadata": {},
     "output_type": "execute_result"
    }
   ],
   "source": [
    "# Task 1\n",
    "import pandas as pd\n",
    "import numpy as np\n",
    "\n",
    "# URL for the dataset\n",
    "data_url = 'https://archive.ics.uci.edu/ml/machine-learning-databases/adult/adult.data'\n",
    "\n",
    "# YOUR CODE HERE\n",
    "column_headers = ['age', 'workclass', 'fnlwgt', 'education', 'education-num', 'marital-status', 'occupation', 'relationship', 'race', 'sex', 'capital-gain', 'capital-loss', 'hours-per-week','native-country', 'income']\n",
    "adult = pd.read_csv(data_url, names = column_headers)\n",
    "\n",
    "# Print out your DataFrame\n",
    "adult.head()"
   ]
  },
  {
   "cell_type": "markdown",
   "metadata": {},
   "source": [
    "**Task 1 Test**"
   ]
  },
  {
   "cell_type": "code",
   "execution_count": 7,
   "metadata": {
    "deletable": false,
    "editable": false,
    "nbgrader": {
     "cell_type": "code",
     "checksum": "28ac2e9f1ad52f4fc6a7ca6e281297ad",
     "grade": true,
     "grade_id": "cell-6593303164ade3dd",
     "locked": true,
     "points": 1,
     "schema_version": 3,
     "solution": false,
     "task": false
    }
   },
   "outputs": [],
   "source": [
    "# Task 1 - Test\n",
    "\n",
    "# These tests are for you to check your work before submitting\n",
    "assert isinstance(column_headers, list), 'Have you created a list of header names?'\n",
    "assert len(column_headers) == 15, 'Did you include the correct number of items in the column_headers list?'\n",
    "assert isinstance(adult, pd.DataFrame), 'Have you created a DataFrame named adult?'\n",
    "\n",
    "# These tests will be completed when you submit your notebook for autograding"
   ]
  },
  {
   "cell_type": "markdown",
   "metadata": {
    "id": "HSsStMHQ5x3B"
   },
   "source": [
    "**Task 2** - Look at the first and last rows of the DataFrame\n",
    "\n",
    "* Assign the first **ten (10)** rows of the `adult` DataFrame to `adult_head`\n",
    "* Assign the last **ten (10)** rows of the `adult` DataFrame to `adult_tail`"
   ]
  },
  {
   "cell_type": "code",
   "execution_count": 11,
   "metadata": {
    "colab": {
     "base_uri": "https://localhost:8080/",
     "height": 204
    },
    "deletable": false,
    "executionInfo": {
     "elapsed": 362,
     "status": "ok",
     "timestamp": 1600553702044,
     "user": {
      "displayName": "Chelsea Myers",
      "photoUrl": "",
      "userId": "05871651112741478957"
     },
     "user_tz": 240
    },
    "id": "MRxFDeCAXyTI",
    "nbgrader": {
     "cell_type": "code",
     "checksum": "630f5267044f54fe20c15b50b0259932",
     "grade": false,
     "grade_id": "cell-a9fb33ec1c6025a8",
     "locked": false,
     "schema_version": 3,
     "solution": true,
     "task": false
    },
    "outputId": "db2d198d-e45e-449e-8f4b-efb672ff907b"
   },
   "outputs": [],
   "source": [
    "# Task 2\n",
    "\n",
    "# YOUR CODE HERE\n",
    "adult_head = adult.head(10)\n",
    "adult_tail = adult.tail(10)\n",
    "\n",
    "# Optional: print out adult_head and adult_tail\n"
   ]
  },
  {
   "cell_type": "markdown",
   "metadata": {},
   "source": [
    "**Task 2 Test**"
   ]
  },
  {
   "cell_type": "code",
   "execution_count": 12,
   "metadata": {
    "deletable": false,
    "editable": false,
    "nbgrader": {
     "cell_type": "code",
     "checksum": "853ce4176ae6cde6d695718dc81cbc33",
     "grade": true,
     "grade_id": "cell-db111c4de2805de2",
     "locked": true,
     "points": 1,
     "schema_version": 3,
     "solution": false,
     "task": false
    }
   },
   "outputs": [],
   "source": [
    "# Task 2 - Test\n",
    "\n",
    "# These tests are for you to check your work before submitting\n",
    "assert isinstance(adult_head, pd.DataFrame), 'Have you created a DataFrame named adult_head?'\n",
    "assert isinstance(adult_tail, pd.DataFrame), 'Have you created a DataFrame named adult_tail?'\n",
    "\n",
    "# These tests will be completed when you submit your notebook for autograding"
   ]
  },
  {
   "cell_type": "markdown",
   "metadata": {
    "id": "oMYl6Og4baK-"
   },
   "source": [
    "**Task 3** - Variable data types\n",
    "\n",
    "For your `adult` DataFrame, determine the data types for the variables.\n",
    "\n",
    "* Count the number of `int64` variable types and assign to `number_int64` (your value should be an integer)\n",
    "* Count the number of `object` variable types and assign to `number_object` (your value should be an integer)\n",
    "\n",
    "There are different ways to find the data types of the columns in a DataFrame. All you need to do for this task is to count the number of each data type and assign to the corresponding variable."
   ]
  },
  {
   "cell_type": "code",
   "execution_count": 63,
   "metadata": {
    "colab": {
     "base_uri": "https://localhost:8080/",
     "height": 289
    },
    "deletable": false,
    "executionInfo": {
     "elapsed": 299,
     "status": "ok",
     "timestamp": 1600553716841,
     "user": {
      "displayName": "Chelsea Myers",
      "photoUrl": "",
      "userId": "05871651112741478957"
     },
     "user_tz": 240
    },
    "id": "0awSPnZ6bc2L",
    "nbgrader": {
     "cell_type": "code",
     "checksum": "11a54a43888fa697e08bce22de67bed1",
     "grade": false,
     "grade_id": "cell-340508752abebcbf",
     "locked": false,
     "schema_version": 3,
     "solution": true,
     "task": false
    },
    "outputId": "c42ce81c-df97-4ea1-dd5f-e3ac643ee11e"
   },
   "outputs": [
    {
     "name": "stdout",
     "output_type": "stream",
     "text": [
      "<class 'pandas.core.frame.DataFrame'>\n",
      "RangeIndex: 32561 entries, 0 to 32560\n",
      "Data columns (total 15 columns):\n",
      " #   Column          Non-Null Count  Dtype \n",
      "---  ------          --------------  ----- \n",
      " 0   age             32561 non-null  int64 \n",
      " 1   workclass       32561 non-null  object\n",
      " 2   fnlwgt          32561 non-null  int64 \n",
      " 3   education       32561 non-null  object\n",
      " 4   education-num   32561 non-null  int64 \n",
      " 5   marital-status  32561 non-null  object\n",
      " 6   occupation      32561 non-null  object\n",
      " 7   relationship    32561 non-null  object\n",
      " 8   race            32561 non-null  object\n",
      " 9   sex             32561 non-null  object\n",
      " 10  capital-gain    32561 non-null  int64 \n",
      " 11  capital-loss    32561 non-null  int64 \n",
      " 12  hours-per-week  32561 non-null  int64 \n",
      " 13  native-country  32561 non-null  object\n",
      " 14  income          32561 non-null  object\n",
      "dtypes: int64(6), object(9)\n",
      "memory usage: 3.7+ MB\n"
     ]
    }
   ],
   "source": [
    "# Task 3\n",
    "\n",
    "# YOUR CODE HERE\n",
    "adult.info()\n",
    "number_int64 = 6\n",
    "number_object = 9"
   ]
  },
  {
   "cell_type": "markdown",
   "metadata": {},
   "source": [
    "**Task 3 Test**"
   ]
  },
  {
   "cell_type": "code",
   "execution_count": null,
   "metadata": {
    "deletable": false,
    "editable": false,
    "nbgrader": {
     "cell_type": "code",
     "checksum": "7a7b195b66ad8a22d3681aa4b2ceccb2",
     "grade": true,
     "grade_id": "cell-05ba0ce5673511d6",
     "locked": true,
     "points": 1,
     "schema_version": 3,
     "solution": false,
     "task": false
    }
   },
   "outputs": [],
   "source": [
    "# Task 3 - Test\n",
    "\n",
    "# Hidden tests - you will see the results when you submit to Canvas"
   ]
  },
  {
   "cell_type": "markdown",
   "metadata": {
    "id": "H58VKvI8bjS1"
   },
   "source": [
    "**Task 4** - DataFrame dimensions\n",
    "\n",
    "* Find the dimensions of your DataFrame and assign result to the variable `adult_dimension`. Your variable should be a *tuple* and the row dimension should be listed first.\n",
    "\n",
    "Hint: A tuple looks like this: (1, 2) - a tuple is a collection which is ordered and unchangeable. You can use the function `type(your_variable)` to print the variable type.\n",
    "\n",
    "Hint 2: The `shape` method returns a tuple - convenient!"
   ]
  },
  {
   "cell_type": "code",
   "execution_count": 16,
   "metadata": {
    "colab": {
     "base_uri": "https://localhost:8080/",
     "height": 34
    },
    "deletable": false,
    "executionInfo": {
     "elapsed": 250,
     "status": "ok",
     "timestamp": 1600553723172,
     "user": {
      "displayName": "Chelsea Myers",
      "photoUrl": "",
      "userId": "05871651112741478957"
     },
     "user_tz": 240
    },
    "id": "ket3F7EAbt75",
    "nbgrader": {
     "cell_type": "code",
     "checksum": "9d93962a691a70cbac5f46a4f974bcd7",
     "grade": false,
     "grade_id": "cell-d70ccb5657fd3d7b",
     "locked": false,
     "schema_version": 3,
     "solution": true,
     "task": false
    },
    "outputId": "1ebdbb65-648a-4929-fa02-965bf14d70ee"
   },
   "outputs": [
    {
     "name": "stdout",
     "output_type": "stream",
     "text": [
      "(32561, 15)\n"
     ]
    }
   ],
   "source": [
    "# Task 4\n",
    "\n",
    "# YOUR CODE HERE\n",
    "adult_dimension = adult.shape\n",
    "\n",
    "# Print out the shape\n",
    "print(adult_dimension)"
   ]
  },
  {
   "cell_type": "markdown",
   "metadata": {},
   "source": [
    "**Task 4 Test**"
   ]
  },
  {
   "cell_type": "code",
   "execution_count": 17,
   "metadata": {
    "deletable": false,
    "editable": false,
    "nbgrader": {
     "cell_type": "code",
     "checksum": "f3efac82e36e9c6bf916132239c75cd2",
     "grade": true,
     "grade_id": "cell-6826bc35a7f56e9d",
     "locked": true,
     "points": 1,
     "schema_version": 3,
     "solution": false,
     "task": false
    }
   },
   "outputs": [],
   "source": [
    "# Task 4 - Test\n",
    "\n",
    "assert isinstance(adult_dimension, tuple), 'Have you created a tuple named adult_dimension?'\n",
    "\n",
    "# Hidden tests - you will see the results when you submit to Canvas"
   ]
  },
  {
   "cell_type": "markdown",
   "metadata": {
    "id": "myXXrct79tMI"
   },
   "source": [
    "**Task 5** - Missing values\n",
    "\n",
    "Are there any missing values in the dataset? Let's check!\n",
    "\n",
    "* Check for missing values using `.isnull().sum()`\n",
    "* Count the number of missing values and assign the value to the variable `adult_missing`. Your variable should be an integer."
   ]
  },
  {
   "cell_type": "code",
   "execution_count": 20,
   "metadata": {
    "colab": {
     "base_uri": "https://localhost:8080/",
     "height": 289
    },
    "deletable": false,
    "executionInfo": {
     "elapsed": 685,
     "status": "ok",
     "timestamp": 1600378356870,
     "user": {
      "displayName": "Chelsea Myers",
      "photoUrl": "",
      "userId": "05871651112741478957"
     },
     "user_tz": 240
    },
    "id": "fBCiVy7r-WlX",
    "nbgrader": {
     "cell_type": "code",
     "checksum": "17aaa9ca4205aa42e35066d21dc5d1f6",
     "grade": false,
     "grade_id": "cell-061626ea17d6ee51",
     "locked": false,
     "schema_version": 3,
     "solution": true,
     "task": false
    },
    "outputId": "524fb664-2050-4319-c65a-b29af9057098"
   },
   "outputs": [],
   "source": [
    "# Task 5\n",
    "\n",
    "# YOUR CODE HERE\n",
    "adult_missing = adult.isnull().sum().sum()\n"
   ]
  },
  {
   "cell_type": "markdown",
   "metadata": {},
   "source": [
    "**Task 5 Test**"
   ]
  },
  {
   "cell_type": "code",
   "execution_count": 21,
   "metadata": {
    "deletable": false,
    "editable": false,
    "nbgrader": {
     "cell_type": "code",
     "checksum": "5620fd488a79367dcab9c416a257e340",
     "grade": true,
     "grade_id": "cell-fa29b69831f8efb7",
     "locked": true,
     "points": 1,
     "schema_version": 3,
     "solution": false,
     "task": false
    }
   },
   "outputs": [],
   "source": [
    "# Task 5 - Test\n",
    "\n",
    "# Hidden tests - you will see the results when you submit to Canvas"
   ]
  },
  {
   "cell_type": "markdown",
   "metadata": {
    "id": "1LCvfKCaCuf_"
   },
   "source": [
    "**Task 6** - Viewing DataFrame statistics\n",
    "\n",
    "Let's look at some of the *summary statistics* of our dataset. We can use the .describe() function in order to see the summary statistics of the numeric columns.\n",
    "\n",
    "Look at the statistics for the `adult` DataFrame and then complete the following two tasks:\n",
    "\n",
    "* Find the value for the mean `age` and assign it to the variable `mean_age` (your value should be a float and defined to two decimal places)\n",
    "* Find the standard deviation (std) for the `hours-per-week` variable and assign it to `std_hpw` (your value should be a float and defined to two decimal places)\n",
    "\n",
    "Are there any values shown that might be a code for missing data?  We'll learn how to change the values in a DataFrame in the next module."
   ]
  },
  {
   "cell_type": "code",
   "execution_count": 23,
   "metadata": {
    "colab": {
     "base_uri": "https://localhost:8080/",
     "height": 297
    },
    "deletable": false,
    "executionInfo": {
     "elapsed": 259,
     "status": "ok",
     "timestamp": 1600553776083,
     "user": {
      "displayName": "Chelsea Myers",
      "photoUrl": "",
      "userId": "05871651112741478957"
     },
     "user_tz": 240
    },
    "id": "V_9FGaBLBAu5",
    "nbgrader": {
     "cell_type": "code",
     "checksum": "c144574a7792a82c7b358d2c587ae554",
     "grade": false,
     "grade_id": "cell-379c9d6a1454cb65",
     "locked": false,
     "schema_version": 3,
     "solution": true,
     "task": false
    },
    "outputId": "3a902e27-04b5-4c08-a3f2-e377f19338c6"
   },
   "outputs": [],
   "source": [
    "# Task 6\n",
    "\n",
    "# YOUR CODE HERE\n",
    "adult.describe()\n",
    "mean_age = 38.58\n",
    "std_hpw = 12.35"
   ]
  },
  {
   "cell_type": "markdown",
   "metadata": {},
   "source": [
    "**Task 6 Test**"
   ]
  },
  {
   "cell_type": "code",
   "execution_count": 24,
   "metadata": {
    "deletable": false,
    "editable": false,
    "nbgrader": {
     "cell_type": "code",
     "checksum": "53e593b3d00981adf5f754fe663e8ca1",
     "grade": true,
     "grade_id": "cell-26b21a59dd35ddb1",
     "locked": true,
     "points": 1,
     "schema_version": 3,
     "solution": false,
     "task": false
    }
   },
   "outputs": [],
   "source": [
    "# Task 6 - Test\n",
    "\n",
    "# Hidden tests - you will see the results when you submit to Canvas"
   ]
  },
  {
   "cell_type": "markdown",
   "metadata": {
    "id": "n_rcgbaqcleU"
   },
   "source": [
    "**Task 7** - Summary statis for non-numeric columns\n",
    "\n",
    "We have some columns in this dataset that are non-numeric or object columns. This is usually a string objects. Let's use the `describe()` function again but include the argument `exclude='number')` to exclude the numeric columns.\n",
    "\n",
    "Using the results of `describe(exclude='number')`, complete the following two tasks:\n",
    "\n",
    "* Find the number of unique `education` values and assign it to `unique_edu` (your value should be an integer)\n",
    "* Find the number of times the most frequent observation for `income` occurs and assign it to `freq_income` (your value should be an integer) *(Note: this is not the income value itself, just how many times it occurs)*"
   ]
  },
  {
   "cell_type": "code",
   "execution_count": 58,
   "metadata": {
    "deletable": false,
    "nbgrader": {
     "cell_type": "code",
     "checksum": "32f8baa85099a4a3a83d7764f0fc759a",
     "grade": false,
     "grade_id": "cell-11915c7656419ee3",
     "locked": false,
     "schema_version": 3,
     "solution": true,
     "task": false
    }
   },
   "outputs": [],
   "source": [
    "# Task 7\n",
    "\n",
    "# YOUR CODE HERE\n",
    "adult.describe(exclude='number')\n",
    "unique_edu = 16\n",
    "freq_income = adult['income'].value_counts().max()"
   ]
  },
  {
   "cell_type": "code",
   "execution_count": 57,
   "metadata": {},
   "outputs": [
    {
     "data": {
      "text/plain": [
       "24720"
      ]
     },
     "execution_count": 57,
     "metadata": {},
     "output_type": "execute_result"
    }
   ],
   "source": [
    "adult.describe(exclude='number')\n",
    "adult['income'].value_counts().max()"
   ]
  },
  {
   "cell_type": "markdown",
   "metadata": {},
   "source": [
    "**Task 7 Test**"
   ]
  },
  {
   "cell_type": "code",
   "execution_count": 59,
   "metadata": {
    "deletable": false,
    "editable": false,
    "nbgrader": {
     "cell_type": "code",
     "checksum": "0e5f56f06249a66c475f8c46f0b07a7d",
     "grade": true,
     "grade_id": "cell-00ef7970684097e5",
     "locked": true,
     "points": 1,
     "schema_version": 3,
     "solution": false,
     "task": false
    }
   },
   "outputs": [],
   "source": [
    "# Task 7 - Test\n",
    "\n",
    "# Hidden tests - you will see the results when you submit to Canvas"
   ]
  },
  {
   "cell_type": "markdown",
   "metadata": {
    "id": "o_E_rvFUdP8O"
   },
   "source": [
    "**Task 8** - Finding value counts\n",
    "\n",
    "Let's look more specifically at the `relationship` column and perform a count of the number of observations for each category. We can see how many categories we have by using the `.unique()` method on the column. Then, we can use `.value_counts()` to count the number of observations in each category.\n",
    "\n",
    "* View the unique values in the `relationship` column with `.unique()`\n",
    "* View the number of observations for each value with `.value_counts()`\n",
    "* Find the counts for `Other-relative` and assign to the variable `adult_other_rel`"
   ]
  },
  {
   "cell_type": "code",
   "execution_count": 35,
   "metadata": {
    "colab": {
     "base_uri": "https://localhost:8080/",
     "height": 136
    },
    "deletable": false,
    "executionInfo": {
     "elapsed": 274,
     "status": "ok",
     "timestamp": 1600554142759,
     "user": {
      "displayName": "Chelsea Myers",
      "photoUrl": "",
      "userId": "05871651112741478957"
     },
     "user_tz": 240
    },
    "id": "dpz5fUqJdTE_",
    "nbgrader": {
     "cell_type": "code",
     "checksum": "3b0477bc8586b6d06b246aa34c18b907",
     "grade": false,
     "grade_id": "cell-2498319aac6c6e38",
     "locked": false,
     "schema_version": 3,
     "solution": true,
     "task": false
    },
    "outputId": "947eefb4-1a23-4a59-c6d8-2b77af439584"
   },
   "outputs": [],
   "source": [
    "# Task 8\n",
    "\n",
    "# YOUR CODE HERE\n",
    "adult['relationship'].unique()\n",
    "adult['relationship'].value_counts()\n",
    "adult_other_rel = 981"
   ]
  },
  {
   "cell_type": "markdown",
   "metadata": {},
   "source": [
    "**Task 8 Test**"
   ]
  },
  {
   "cell_type": "code",
   "execution_count": 36,
   "metadata": {
    "deletable": false,
    "editable": false,
    "nbgrader": {
     "cell_type": "code",
     "checksum": "b37410acc6d088ec026cdf4a726d72ad",
     "grade": true,
     "grade_id": "cell-ee00a51b05f5cc8e",
     "locked": true,
     "points": 1,
     "schema_version": 3,
     "solution": false,
     "task": false
    }
   },
   "outputs": [],
   "source": [
    "# Task 8 - Test\n",
    "\n",
    "# Hidden tests - you will see the results when you submit to Canvas"
   ]
  },
  {
   "cell_type": "markdown",
   "metadata": {
    "id": "ZEs60bkrdnsU"
   },
   "source": [
    "**Task 9** - Create a Series\n",
    "\n",
    "A column of a DataFrame is a pandas Series. Using the `adult` DataFrame, create a Series from the `occupation` column.\n",
    "\n",
    "* Create a Series from the `occupation` column and name it `adult_occup`"
   ]
  },
  {
   "cell_type": "code",
   "execution_count": 41,
   "metadata": {
    "colab": {
     "base_uri": "https://localhost:8080/",
     "height": 221
    },
    "deletable": false,
    "executionInfo": {
     "elapsed": 299,
     "status": "ok",
     "timestamp": 1600554213207,
     "user": {
      "displayName": "Chelsea Myers",
      "photoUrl": "",
      "userId": "05871651112741478957"
     },
     "user_tz": 240
    },
    "id": "ydjVZQA3du6l",
    "nbgrader": {
     "cell_type": "code",
     "checksum": "174f626dd82f9e92eb19f1c21e5087fc",
     "grade": false,
     "grade_id": "cell-d1bb196ab00c4bd3",
     "locked": false,
     "schema_version": 3,
     "solution": true,
     "task": false
    },
    "outputId": "31c22825-659b-416e-9ea5-7248f4c355fa"
   },
   "outputs": [],
   "source": [
    "# Task 9\n",
    "\n",
    "# YOUR CODE HERE\n",
    "adult_occup = adult['occupation']"
   ]
  },
  {
   "cell_type": "markdown",
   "metadata": {},
   "source": [
    "**Task 9 Test**"
   ]
  },
  {
   "cell_type": "code",
   "execution_count": 42,
   "metadata": {
    "deletable": false,
    "editable": false,
    "nbgrader": {
     "cell_type": "code",
     "checksum": "e393fefb046b14831077242eff640471",
     "grade": true,
     "grade_id": "cell-e43fc22d03a71561",
     "locked": true,
     "points": 1,
     "schema_version": 3,
     "solution": false,
     "task": false
    }
   },
   "outputs": [],
   "source": [
    "# Task 9 - Test\n",
    "\n",
    "# These tests are for you to check your work before submitting\n",
    "assert isinstance(adult_occup, pd.Series), 'Have you created the correct Series?'\n",
    "\n",
    "# Hidden tests - you will see the results when you submit to Canvas"
   ]
  },
  {
   "cell_type": "markdown",
   "metadata": {
    "id": "FnOWk3zMOuqz"
   },
   "source": [
    "**Task 10** - Practice with a new dataset\n",
    "\n",
    "Let's use some of what we've learned so far to load in a new dataset and answer some questions. For now, we're going to read in the data from the website where it is stored. But, at the end of this project, you can review the instructions for uploading a file to Google Colab,\n",
    "\n",
    "* Use [this link (right click to copy)](https://raw.githubusercontent.com/LambdaSchool/data-science-practice-datasets/main/unit_1/NASCAR/nascard.csv) as the URL and assign it to the variable `data_url2`\n",
    "* Read in the data into a DataFrame called `nascar`; the CSV already includes a header\n",
    "\n",
    "More information about this data can be found [here](https://github.com/LambdaSchool/data-science-practice-datasets/tree/main/unit_1/NASCAR)."
   ]
  },
  {
   "cell_type": "code",
   "execution_count": 46,
   "metadata": {
    "deletable": false,
    "nbgrader": {
     "cell_type": "code",
     "checksum": "d240cb09504b19a2e7dd6a5d7a37fbb7",
     "grade": false,
     "grade_id": "cell-04b98cad3de4cab4",
     "locked": false,
     "schema_version": 3,
     "solution": true,
     "task": false
    }
   },
   "outputs": [],
   "source": [
    "# Task 10\n",
    "\n",
    "# YOUR CODE HERE\n",
    "data_url2 = 'https://raw.githubusercontent.com/LambdaSchool/data-science-practice-datasets/main/unit_1/NASCAR/nascard.csv'\n",
    "nascar = pd.read_csv(data_url2)"
   ]
  },
  {
   "cell_type": "markdown",
   "metadata": {},
   "source": [
    "**Task 10 Test**"
   ]
  },
  {
   "cell_type": "code",
   "execution_count": 47,
   "metadata": {
    "deletable": false,
    "editable": false,
    "nbgrader": {
     "cell_type": "code",
     "checksum": "3315b366b48374f265a3935c4c2d0ff2",
     "grade": true,
     "grade_id": "cell-8b7550f8a360559b",
     "locked": true,
     "points": 1,
     "schema_version": 3,
     "solution": false,
     "task": false
    }
   },
   "outputs": [],
   "source": [
    "# Task 10 - Test\n",
    "\n",
    "# These tests are for you to check your work before submitting\n",
    "assert isinstance(nascar, pd.DataFrame), 'Have you created the nascar DataFrame?'\n",
    "\n",
    "# Hidden tests - you will see the results when you submit to Canvas"
   ]
  },
  {
   "cell_type": "markdown",
   "metadata": {},
   "source": [
    "**Task 11** - Look at the header\n",
    "\n",
    "Now, let's look at the data. We'll use the `.head()` method to view the first rows of the DataFrame\n",
    "\n",
    "* Assign the output from `.head()` to a DataFrame called `nascar_head` (use the default values of the method)"
   ]
  },
  {
   "cell_type": "code",
   "execution_count": 49,
   "metadata": {
    "deletable": false,
    "nbgrader": {
     "cell_type": "code",
     "checksum": "339061ac9982b3fd4a659548499dee2b",
     "grade": false,
     "grade_id": "cell-01b2cebe2cab129a",
     "locked": false,
     "schema_version": 3,
     "solution": true,
     "task": false
    }
   },
   "outputs": [],
   "source": [
    "# Task 11\n",
    "\n",
    "# YOUR CODE HERE\n",
    "nascar_head = nascar.head()"
   ]
  },
  {
   "cell_type": "markdown",
   "metadata": {},
   "source": [
    "**Task 11 Test**"
   ]
  },
  {
   "cell_type": "code",
   "execution_count": null,
   "metadata": {
    "deletable": false,
    "editable": false,
    "nbgrader": {
     "cell_type": "code",
     "checksum": "1c8790f27229d0afe3489d42aba50984",
     "grade": true,
     "grade_id": "cell-4abee0d24322116e",
     "locked": true,
     "points": 1,
     "schema_version": 3,
     "solution": false,
     "task": false
    }
   },
   "outputs": [],
   "source": [
    "# Task 11 - Test\n",
    "\n",
    "# These tests are for you to check your work before submitting\n",
    "assert isinstance(nascar_head, pd.DataFrame), 'Have you created the nascar_head DataFrame?'\n",
    "\n",
    "# Hidden tests - you will see the results when you submit to Canvas"
   ]
  },
  {
   "cell_type": "markdown",
   "metadata": {
    "id": "2U8Jb7BjgVFF"
   },
   "source": [
    "**Task 12** - Dataset description and variable types\n",
    "\n",
    "Using your `nascar` DataFrame, answer the following questions. Remember - you can use methods like `describe()` and `info()` to print out information about the variable types in your DataFrame. Remember, you can use `describe(exclude='number')` to view non-numeric variable types.\n",
    "\n",
    "You can view more information about the data [here](http://users.stat.ufl.edu/~winner/data/nascard.txt).\n",
    "\n",
    "These questions are **not autograded** but are part of the project!\n",
    "\n",
    "Answer the following questions for these variables: `prize`, `carMake`, `driver`\n",
    "\n",
    "*   Is the variable categorical or quantitative?\n",
    "*   If the variable is categorical, determine if it is ordinal, nominal or an identifier variable.\n",
    "*   If the variable is quantitative, determine if it is continuous or discrete."
   ]
  },
  {
   "cell_type": "markdown",
   "metadata": {},
   "source": [
    "**Task 12 Short Answer**\n",
    "\n",
    "* `prize`: Continuous\n",
    "* `carMake`: Nominal\n",
    "* `driver`: Identifier variable"
   ]
  },
  {
   "cell_type": "code",
   "execution_count": 66,
   "metadata": {
    "deletable": false,
    "nbgrader": {
     "cell_type": "code",
     "checksum": "3a28b698c2a12e92c223dca7870318ff",
     "grade": false,
     "grade_id": "cell-9463f6dcbfde1d7f",
     "locked": false,
     "schema_version": 3,
     "solution": true,
     "task": false
    }
   },
   "outputs": [
    {
     "data": {
      "text/html": [
       "<div>\n",
       "<style scoped>\n",
       "    .dataframe tbody tr th:only-of-type {\n",
       "        vertical-align: middle;\n",
       "    }\n",
       "\n",
       "    .dataframe tbody tr th {\n",
       "        vertical-align: top;\n",
       "    }\n",
       "\n",
       "    .dataframe thead th {\n",
       "        text-align: right;\n",
       "    }\n",
       "</style>\n",
       "<table border=\"1\" class=\"dataframe\">\n",
       "  <thead>\n",
       "    <tr style=\"text-align: right;\">\n",
       "      <th></th>\n",
       "      <th>serRace</th>\n",
       "      <th>year</th>\n",
       "      <th>yearRace</th>\n",
       "      <th>finish</th>\n",
       "      <th>start</th>\n",
       "      <th>laps</th>\n",
       "      <th>prize</th>\n",
       "      <th>carsRace</th>\n",
       "      <th>carMake</th>\n",
       "      <th>driver</th>\n",
       "    </tr>\n",
       "  </thead>\n",
       "  <tbody>\n",
       "    <tr>\n",
       "      <th>0</th>\n",
       "      <td>1</td>\n",
       "      <td>1975</td>\n",
       "      <td>1</td>\n",
       "      <td>1</td>\n",
       "      <td>1</td>\n",
       "      <td>191</td>\n",
       "      <td>12035</td>\n",
       "      <td>35</td>\n",
       "      <td>Matador</td>\n",
       "      <td>BobbyAllison</td>\n",
       "    </tr>\n",
       "    <tr>\n",
       "      <th>1</th>\n",
       "      <td>1</td>\n",
       "      <td>1975</td>\n",
       "      <td>1</td>\n",
       "      <td>2</td>\n",
       "      <td>2</td>\n",
       "      <td>191</td>\n",
       "      <td>8135</td>\n",
       "      <td>35</td>\n",
       "      <td>Mercury</td>\n",
       "      <td>DavidPearson</td>\n",
       "    </tr>\n",
       "    <tr>\n",
       "      <th>2</th>\n",
       "      <td>1</td>\n",
       "      <td>1975</td>\n",
       "      <td>1</td>\n",
       "      <td>3</td>\n",
       "      <td>25</td>\n",
       "      <td>184</td>\n",
       "      <td>6535</td>\n",
       "      <td>35</td>\n",
       "      <td>Chevrolet</td>\n",
       "      <td>CecilGordon</td>\n",
       "    </tr>\n",
       "    <tr>\n",
       "      <th>3</th>\n",
       "      <td>1</td>\n",
       "      <td>1975</td>\n",
       "      <td>1</td>\n",
       "      <td>4</td>\n",
       "      <td>27</td>\n",
       "      <td>183</td>\n",
       "      <td>5035</td>\n",
       "      <td>35</td>\n",
       "      <td>Dodge</td>\n",
       "      <td>DaveMarcis</td>\n",
       "    </tr>\n",
       "    <tr>\n",
       "      <th>4</th>\n",
       "      <td>1</td>\n",
       "      <td>1975</td>\n",
       "      <td>1</td>\n",
       "      <td>5</td>\n",
       "      <td>22</td>\n",
       "      <td>178</td>\n",
       "      <td>3835</td>\n",
       "      <td>35</td>\n",
       "      <td>Ford</td>\n",
       "      <td>ElmoLangley</td>\n",
       "    </tr>\n",
       "  </tbody>\n",
       "</table>\n",
       "</div>"
      ],
      "text/plain": [
       "   serRace  year  yearRace  finish  start  laps  prize  carsRace    carMake  \\\n",
       "0        1  1975         1       1      1   191  12035        35    Matador   \n",
       "1        1  1975         1       2      2   191   8135        35    Mercury   \n",
       "2        1  1975         1       3     25   184   6535        35  Chevrolet   \n",
       "3        1  1975         1       4     27   183   5035        35      Dodge   \n",
       "4        1  1975         1       5     22   178   3835        35       Ford   \n",
       "\n",
       "         driver  \n",
       "0  BobbyAllison  \n",
       "1  DavidPearson  \n",
       "2   CecilGordon  \n",
       "3    DaveMarcis  \n",
       "4   ElmoLangley  "
      ]
     },
     "execution_count": 66,
     "metadata": {},
     "output_type": "execute_result"
    }
   ],
   "source": [
    "# Task 12\n",
    "\n",
    "# Ignore the YOUR CODE HERE for this cell\n",
    "# YOUR CODE HERE\n",
    "nascar.head()"
   ]
  },
  {
   "cell_type": "markdown",
   "metadata": {},
   "source": [
    "**Extra Practice!!**\n",
    "\n",
    "Now we're going to practice loading a dataset that you have saved on your computer. Since we're working in a notebook on Google Colab, you'll need to upload your file to the notebook runtime in order to read in the data.\n",
    "\n",
    "* Use [this link](https://raw.githubusercontent.com/LambdaSchool/data-science-practice-datasets/main/unit_1/NASCAR/nascard.csv) to download your dataset as a csv file to your computer. \n",
    "* Upload to Google Colab one of two ways:\n",
    "    * using `from google.colab import files` then `uploaded = files.upload()`; read in the file with pd.read_csv(filename)\n",
    "    * using the file upload feature in the left side panel of the Colab notebook; read in the file with pd.read_csv(filename)\n",
    "\n",
    "More information about this data can be found [here](https://github.com/LambdaSchool/data-science-practice-datasets/tree/main/unit_1/NASCAR).\n",
    "\n",
    "**DELETE or COMMENT OUT your Colab code**"
   ]
  },
  {
   "cell_type": "code",
   "execution_count": 68,
   "metadata": {
    "colab": {
     "base_uri": "https://localhost:8080/",
     "height": 72,
     "resources": {
      "http://localhost:8080/nbextensions/google.colab/files.js": {
       "data": "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",
       "headers": [
        [
         "content-type",
         "application/javascript"
        ]
       ],
       "ok": true,
       "status": 200,
       "status_text": ""
      }
     }
    },
    "executionInfo": {
     "elapsed": 57997,
     "status": "ok",
     "timestamp": 1600554774989,
     "user": {
      "displayName": "Chelsea Myers",
      "photoUrl": "",
      "userId": "05871651112741478957"
     },
     "user_tz": 240
    },
    "id": "wE_RCi0AfTrz",
    "outputId": "30fb8004-b9b9-4e46-c4ea-e04ba16f7811"
   },
   "outputs": [
    {
     "data": {
      "text/html": [
       "<div>\n",
       "<style scoped>\n",
       "    .dataframe tbody tr th:only-of-type {\n",
       "        vertical-align: middle;\n",
       "    }\n",
       "\n",
       "    .dataframe tbody tr th {\n",
       "        vertical-align: top;\n",
       "    }\n",
       "\n",
       "    .dataframe thead th {\n",
       "        text-align: right;\n",
       "    }\n",
       "</style>\n",
       "<table border=\"1\" class=\"dataframe\">\n",
       "  <thead>\n",
       "    <tr style=\"text-align: right;\">\n",
       "      <th></th>\n",
       "      <th>serRace</th>\n",
       "      <th>year</th>\n",
       "      <th>yearRace</th>\n",
       "      <th>finish</th>\n",
       "      <th>start</th>\n",
       "      <th>laps</th>\n",
       "      <th>prize</th>\n",
       "      <th>carsRace</th>\n",
       "      <th>carMake</th>\n",
       "      <th>driver</th>\n",
       "    </tr>\n",
       "  </thead>\n",
       "  <tbody>\n",
       "    <tr>\n",
       "      <th>0</th>\n",
       "      <td>1</td>\n",
       "      <td>1975</td>\n",
       "      <td>1</td>\n",
       "      <td>1</td>\n",
       "      <td>1</td>\n",
       "      <td>191</td>\n",
       "      <td>12035</td>\n",
       "      <td>35</td>\n",
       "      <td>Matador</td>\n",
       "      <td>BobbyAllison</td>\n",
       "    </tr>\n",
       "    <tr>\n",
       "      <th>1</th>\n",
       "      <td>1</td>\n",
       "      <td>1975</td>\n",
       "      <td>1</td>\n",
       "      <td>2</td>\n",
       "      <td>2</td>\n",
       "      <td>191</td>\n",
       "      <td>8135</td>\n",
       "      <td>35</td>\n",
       "      <td>Mercury</td>\n",
       "      <td>DavidPearson</td>\n",
       "    </tr>\n",
       "    <tr>\n",
       "      <th>2</th>\n",
       "      <td>1</td>\n",
       "      <td>1975</td>\n",
       "      <td>1</td>\n",
       "      <td>3</td>\n",
       "      <td>25</td>\n",
       "      <td>184</td>\n",
       "      <td>6535</td>\n",
       "      <td>35</td>\n",
       "      <td>Chevrolet</td>\n",
       "      <td>CecilGordon</td>\n",
       "    </tr>\n",
       "    <tr>\n",
       "      <th>3</th>\n",
       "      <td>1</td>\n",
       "      <td>1975</td>\n",
       "      <td>1</td>\n",
       "      <td>4</td>\n",
       "      <td>27</td>\n",
       "      <td>183</td>\n",
       "      <td>5035</td>\n",
       "      <td>35</td>\n",
       "      <td>Dodge</td>\n",
       "      <td>DaveMarcis</td>\n",
       "    </tr>\n",
       "    <tr>\n",
       "      <th>4</th>\n",
       "      <td>1</td>\n",
       "      <td>1975</td>\n",
       "      <td>1</td>\n",
       "      <td>5</td>\n",
       "      <td>22</td>\n",
       "      <td>178</td>\n",
       "      <td>3835</td>\n",
       "      <td>35</td>\n",
       "      <td>Ford</td>\n",
       "      <td>ElmoLangley</td>\n",
       "    </tr>\n",
       "  </tbody>\n",
       "</table>\n",
       "</div>"
      ],
      "text/plain": [
       "   serRace  year  yearRace  finish  start  laps  prize  carsRace    carMake  \\\n",
       "0        1  1975         1       1      1   191  12035        35    Matador   \n",
       "1        1  1975         1       2      2   191   8135        35    Mercury   \n",
       "2        1  1975         1       3     25   184   6535        35  Chevrolet   \n",
       "3        1  1975         1       4     27   183   5035        35      Dodge   \n",
       "4        1  1975         1       5     22   178   3835        35       Ford   \n",
       "\n",
       "         driver  \n",
       "0  BobbyAllison  \n",
       "1  DavidPearson  \n",
       "2   CecilGordon  \n",
       "3    DaveMarcis  \n",
       "4   ElmoLangley  "
      ]
     },
     "execution_count": 68,
     "metadata": {},
     "output_type": "execute_result"
    }
   ],
   "source": [
    "# Extra Practice\n",
    "# I'm using jupiter so it's a bit different\n",
    "# df = pd.read_csv('/Users/derek/Downloads/nascard.csv')\n",
    "# df.head()\n",
    "## DELETE OR COMMENT OUT YOUR COLAB CODE BEFORE SUBMITTING THE NOTEBOOK"
   ]
  }
 ],
 "metadata": {
  "colab": {
   "collapsed_sections": [],
   "name": "LS_DS_111_Exploratory_Data_Analysis Assignment_ANSWERS.ipynb",
   "provenance": [
    {
     "file_id": "1-6ON9BowrF4gz0Q0wp8NrutGWZvdzpjM",
     "timestamp": 1601073942454
    },
    {
     "file_id": "1_soXwnHiA-04nroOU8S3UmPrSSknPEVC",
     "timestamp": 1600956008289
    },
    {
     "file_id": "1kvqm22OZtjKXu05QdGk2nTAkAQGXuRCV",
     "timestamp": 1600364821737
    },
    {
     "file_id": "https://github.com/Chelsea-Myers/DS-Unit-1-Sprint-1-Data-Wrangling-and-Storytelling/blob/master/module1-exploratory-data-analysis/LS_DS_111_Exploratory_Data_Analysis.ipynb",
     "timestamp": 1600341426473
    }
   ]
  },
  "kernelspec": {
   "display_name": "Python 3",
   "language": "python",
   "name": "python3"
  },
  "language_info": {
   "codemirror_mode": {
    "name": "ipython",
    "version": 3
   },
   "file_extension": ".py",
   "mimetype": "text/x-python",
   "name": "python",
   "nbconvert_exporter": "python",
   "pygments_lexer": "ipython3",
   "version": "3.8.5"
  }
 },
 "nbformat": 4,
 "nbformat_minor": 4
}
